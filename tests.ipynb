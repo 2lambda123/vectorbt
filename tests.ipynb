{
 "cells": [
  {
   "cell_type": "code",
   "execution_count": 1,
   "metadata": {
    "Collapsed": "false"
   },
   "outputs": [],
   "source": [
    "import numpy as np\n",
    "import pandas as pd"
   ]
  },
  {
   "cell_type": "markdown",
   "metadata": {
    "Collapsed": "false"
   },
   "source": [
    "## decorators.py"
   ]
  },
  {
   "cell_type": "code",
   "execution_count": 2,
   "metadata": {
    "Collapsed": "false"
   },
   "outputs": [],
   "source": [
    "from vectorbt.utils.decorators import *"
   ]
  },
  {
   "cell_type": "code",
   "execution_count": 3,
   "metadata": {
    "Collapsed": "false"
   },
   "outputs": [
    {
     "data": {
      "text/plain": [
       "(array([[ True,  True,  True,  True,  True],\n",
       "        [False, False, False, False, False],\n",
       "        [False, False, False, False, False],\n",
       "        [ True,  True,  True,  True,  True],\n",
       "        [False, False, False, False, False]]), 50, array([[0., 0., 0., 0., 0.],\n",
       "        [0., 0., 0., 0., 0.],\n",
       "        [0., 0., 0., 0., 0.],\n",
       "        [0., 0., 0., 0., 0.],\n",
       "        [0., 0., 0., 0., 0.]]), array([[1, 1, 1, 1, 1],\n",
       "        [1, 1, 1, 1, 1],\n",
       "        [1, 1, 1, 1, 1],\n",
       "        [1, 1, 1, 1, 1],\n",
       "        [1, 1, 1, 1, 1]]))"
      ]
     },
     "execution_count": 3,
     "metadata": {},
     "output_type": "execute_result"
    }
   ],
   "source": [
    "# ensure a is a 2D boolean array\n",
    "@has_type('a', np.ndarray)\n",
    "@has_dtype('a', np.bool_)\n",
    "@to_dim2('a')\n",
    "# ensure b is a number\n",
    "@has_type('b', (int, float, complex))\n",
    "# ensure c is the same type as a and force it to be float\n",
    "@has_type('c', 'a')\n",
    "@to_dtype('c', np.float64)\n",
    "# same number of columns for a and c\n",
    "@broadcast_both('a', 'c')\n",
    "# same number of columns for d as in a\n",
    "@broadcast_to('d', 'a')\n",
    "def h(a, b, c=0, d=1):\n",
    "    return a, b, c, d\n",
    "\n",
    "h(np.array([[True], [False], [False], [True], [False]]), 50, c=np.zeros((5, 5)))"
   ]
  },
  {
   "cell_type": "markdown",
   "metadata": {
    "Collapsed": "false"
   },
   "source": [
    "## TimeSeries"
   ]
  },
  {
   "cell_type": "code",
   "execution_count": 4,
   "metadata": {
    "Collapsed": "false"
   },
   "outputs": [],
   "source": [
    "from vectorbt.timeseries import TimeSeries"
   ]
  },
  {
   "cell_type": "code",
   "execution_count": 5,
   "metadata": {
    "Collapsed": "false"
   },
   "outputs": [
    {
     "data": {
      "text/plain": [
       "TimeSeries([[ 1., nan,  1.],\n",
       "            [ 2.,  4.,  2.],\n",
       "            [ 3.,  3.,  3.],\n",
       "            [ 4.,  2.,  2.],\n",
       "            [nan,  1.,  1.]])"
      ]
     },
     "execution_count": 5,
     "metadata": {},
     "output_type": "execute_result"
    }
   ],
   "source": [
    "ts = TimeSeries(pd.DataFrame({\n",
    "    'a': [1, 2, 3, 4, np.nan], \n",
    "    'b': [np.nan, 4, 3, 2, 1],\n",
    "    'c': [1, 2, 3, 2, 1]}))\n",
    "ts"
   ]
  },
  {
   "cell_type": "code",
   "execution_count": 6,
   "metadata": {
    "Collapsed": "false"
   },
   "outputs": [
    {
     "data": {
      "text/plain": [
       "TimeSeries([[ 1., -1.,  1.],\n",
       "            [ 2.,  4.,  2.],\n",
       "            [ 3.,  3.,  3.],\n",
       "            [ 4.,  2.,  2.],\n",
       "            [-1.,  1.,  1.]])"
      ]
     },
     "execution_count": 6,
     "metadata": {},
     "output_type": "execute_result"
    }
   ],
   "source": [
    "ts.set_by_mask(np.isnan(ts), -1)"
   ]
  },
  {
   "cell_type": "code",
   "execution_count": 7,
   "metadata": {
    "Collapsed": "false"
   },
   "outputs": [
    {
     "data": {
      "text/plain": [
       "TimeSeries([[ 1., -1.,  1.],\n",
       "            [ 2.,  4.,  2.],\n",
       "            [ 3.,  3.,  3.],\n",
       "            [ 4.,  2.,  2.],\n",
       "            [-1.,  1.,  1.]])"
      ]
     },
     "execution_count": 7,
     "metadata": {},
     "output_type": "execute_result"
    }
   ],
   "source": [
    "ts.fillna(-1)"
   ]
  },
  {
   "cell_type": "code",
   "execution_count": 8,
   "metadata": {
    "Collapsed": "false"
   },
   "outputs": [
    {
     "data": {
      "text/plain": [
       "TimeSeries([[nan, nan, nan],\n",
       "            [nan, nan, nan],\n",
       "            [nan, nan, nan],\n",
       "            [ 1., nan,  1.],\n",
       "            [ 2.,  4.,  2.],\n",
       "            [ 3.,  3.,  3.],\n",
       "            [ 4.,  2.,  2.],\n",
       "            [nan,  1.,  1.]])"
      ]
     },
     "execution_count": 8,
     "metadata": {},
     "output_type": "execute_result"
    }
   ],
   "source": [
    "ts.prepend(3, np.nan)"
   ]
  },
  {
   "cell_type": "code",
   "execution_count": 9,
   "metadata": {
    "Collapsed": "false"
   },
   "outputs": [
    {
     "data": {
      "text/plain": [
       "TimeSeries([[nan, nan, nan],\n",
       "            [nan, nan, nan],\n",
       "            [nan, nan, nan],\n",
       "            [ 1., nan,  1.],\n",
       "            [ 2.,  4.,  2.]])"
      ]
     },
     "execution_count": 9,
     "metadata": {},
     "output_type": "execute_result"
    }
   ],
   "source": [
    "ts.fshift(3)"
   ]
  },
  {
   "cell_type": "code",
   "execution_count": 10,
   "metadata": {
    "Collapsed": "false"
   },
   "outputs": [
    {
     "data": {
      "text/plain": [
       "TimeSeries([[        nan,         nan,         nan],\n",
       "            [ 1.        ,         nan,  1.        ],\n",
       "            [ 0.5       , -0.25      ,  0.5       ],\n",
       "            [ 0.33333333, -0.33333333, -0.33333333],\n",
       "            [        nan, -0.5       , -0.5       ]])"
      ]
     },
     "execution_count": 10,
     "metadata": {},
     "output_type": "execute_result"
    }
   ],
   "source": [
    "ts.pct_change()"
   ]
  },
  {
   "cell_type": "code",
   "execution_count": 11,
   "metadata": {
    "Collapsed": "false"
   },
   "outputs": [
    {
     "data": {
      "text/plain": [
       "TimeSeries([[ 1., nan,  1.],\n",
       "            [ 2.,  4.,  2.],\n",
       "            [ 3.,  3.,  3.],\n",
       "            [ 4.,  2.,  2.],\n",
       "            [ 4.,  1.,  1.]])"
      ]
     },
     "execution_count": 11,
     "metadata": {},
     "output_type": "execute_result"
    }
   ],
   "source": [
    "ts.ffill()"
   ]
  },
  {
   "cell_type": "code",
   "execution_count": 12,
   "metadata": {
    "Collapsed": "false"
   },
   "outputs": [
    {
     "data": {
      "text/plain": [
       "TimeSeries([[1.        ,        nan, 1.        ],\n",
       "            [1.5       , 4.        , 1.5       ],\n",
       "            [2.        , 3.5       , 2.        ],\n",
       "            [3.        , 3.        , 2.33333333],\n",
       "            [3.5       , 2.        , 2.        ]])"
      ]
     },
     "execution_count": 12,
     "metadata": {},
     "output_type": "execute_result"
    }
   ],
   "source": [
    "ts.rolling_mean(3)"
   ]
  },
  {
   "cell_type": "code",
   "execution_count": 13,
   "metadata": {
    "Collapsed": "false"
   },
   "outputs": [
    {
     "data": {
      "text/html": [
       "<div>\n",
       "<style scoped>\n",
       "    .dataframe tbody tr th:only-of-type {\n",
       "        vertical-align: middle;\n",
       "    }\n",
       "\n",
       "    .dataframe tbody tr th {\n",
       "        vertical-align: top;\n",
       "    }\n",
       "\n",
       "    .dataframe thead th {\n",
       "        text-align: right;\n",
       "    }\n",
       "</style>\n",
       "<table border=\"1\" class=\"dataframe\">\n",
       "  <thead>\n",
       "    <tr style=\"text-align: right;\">\n",
       "      <th></th>\n",
       "      <th>0</th>\n",
       "      <th>1</th>\n",
       "      <th>2</th>\n",
       "    </tr>\n",
       "  </thead>\n",
       "  <tbody>\n",
       "    <tr>\n",
       "      <th>0</th>\n",
       "      <td>1.0</td>\n",
       "      <td>NaN</td>\n",
       "      <td>1.000000</td>\n",
       "    </tr>\n",
       "    <tr>\n",
       "      <th>1</th>\n",
       "      <td>1.5</td>\n",
       "      <td>4.0</td>\n",
       "      <td>1.500000</td>\n",
       "    </tr>\n",
       "    <tr>\n",
       "      <th>2</th>\n",
       "      <td>2.0</td>\n",
       "      <td>3.5</td>\n",
       "      <td>2.000000</td>\n",
       "    </tr>\n",
       "    <tr>\n",
       "      <th>3</th>\n",
       "      <td>3.0</td>\n",
       "      <td>3.0</td>\n",
       "      <td>2.333333</td>\n",
       "    </tr>\n",
       "    <tr>\n",
       "      <th>4</th>\n",
       "      <td>3.5</td>\n",
       "      <td>2.0</td>\n",
       "      <td>2.000000</td>\n",
       "    </tr>\n",
       "  </tbody>\n",
       "</table>\n",
       "</div>"
      ],
      "text/plain": [
       "     0    1         2\n",
       "0  1.0  NaN  1.000000\n",
       "1  1.5  4.0  1.500000\n",
       "2  2.0  3.5  2.000000\n",
       "3  3.0  3.0  2.333333\n",
       "4  3.5  2.0  2.000000"
      ]
     },
     "execution_count": 13,
     "metadata": {},
     "output_type": "execute_result"
    }
   ],
   "source": [
    "pd.DataFrame(ts).rolling(window=3, min_periods=1).mean()"
   ]
  },
  {
   "cell_type": "code",
   "execution_count": 14,
   "metadata": {
    "Collapsed": "false"
   },
   "outputs": [
    {
     "data": {
      "text/plain": [
       "TimeSeries([[1.        ,        nan, 1.        ],\n",
       "            [1.66666667,        nan, 1.66666667],\n",
       "            [2.42857143,        nan, 2.42857143],\n",
       "            [3.26666667,        nan, 2.2       ],\n",
       "            [       nan,        nan, 1.58064516]])"
      ]
     },
     "execution_count": 14,
     "metadata": {},
     "output_type": "execute_result"
    }
   ],
   "source": [
    "ts.ewma(3, True)"
   ]
  },
  {
   "cell_type": "code",
   "execution_count": 15,
   "metadata": {
    "Collapsed": "false"
   },
   "outputs": [
    {
     "data": {
      "text/html": [
       "<div>\n",
       "<style scoped>\n",
       "    .dataframe tbody tr th:only-of-type {\n",
       "        vertical-align: middle;\n",
       "    }\n",
       "\n",
       "    .dataframe tbody tr th {\n",
       "        vertical-align: top;\n",
       "    }\n",
       "\n",
       "    .dataframe thead th {\n",
       "        text-align: right;\n",
       "    }\n",
       "</style>\n",
       "<table border=\"1\" class=\"dataframe\">\n",
       "  <thead>\n",
       "    <tr style=\"text-align: right;\">\n",
       "      <th></th>\n",
       "      <th>0</th>\n",
       "      <th>1</th>\n",
       "      <th>2</th>\n",
       "    </tr>\n",
       "  </thead>\n",
       "  <tbody>\n",
       "    <tr>\n",
       "      <th>0</th>\n",
       "      <td>1.000000</td>\n",
       "      <td>NaN</td>\n",
       "      <td>1.000000</td>\n",
       "    </tr>\n",
       "    <tr>\n",
       "      <th>1</th>\n",
       "      <td>1.666667</td>\n",
       "      <td>4.000000</td>\n",
       "      <td>1.666667</td>\n",
       "    </tr>\n",
       "    <tr>\n",
       "      <th>2</th>\n",
       "      <td>2.428571</td>\n",
       "      <td>3.333333</td>\n",
       "      <td>2.428571</td>\n",
       "    </tr>\n",
       "    <tr>\n",
       "      <th>3</th>\n",
       "      <td>3.266667</td>\n",
       "      <td>2.571429</td>\n",
       "      <td>2.200000</td>\n",
       "    </tr>\n",
       "    <tr>\n",
       "      <th>4</th>\n",
       "      <td>3.266667</td>\n",
       "      <td>1.733333</td>\n",
       "      <td>1.580645</td>\n",
       "    </tr>\n",
       "  </tbody>\n",
       "</table>\n",
       "</div>"
      ],
      "text/plain": [
       "          0         1         2\n",
       "0  1.000000       NaN  1.000000\n",
       "1  1.666667  4.000000  1.666667\n",
       "2  2.428571  3.333333  2.428571\n",
       "3  3.266667  2.571429  2.200000\n",
       "4  3.266667  1.733333  1.580645"
      ]
     },
     "execution_count": 15,
     "metadata": {},
     "output_type": "execute_result"
    }
   ],
   "source": [
    "pd.DataFrame(ts).ewm(span=3, min_periods=1, adjust=True).mean()"
   ]
  },
  {
   "cell_type": "code",
   "execution_count": 16,
   "metadata": {
    "Collapsed": "false"
   },
   "outputs": [
    {
     "data": {
      "text/plain": [
       "TimeSeries([[ 1., nan,  1.],\n",
       "            [ 3., nan,  3.],\n",
       "            [ 6., nan,  6.],\n",
       "            [10., nan,  8.],\n",
       "            [nan, nan,  9.]])"
      ]
     },
     "execution_count": 16,
     "metadata": {},
     "output_type": "execute_result"
    }
   ],
   "source": [
    "ts.cumsum()"
   ]
  },
  {
   "cell_type": "code",
   "execution_count": 17,
   "metadata": {
    "Collapsed": "false"
   },
   "outputs": [
    {
     "data": {
      "text/plain": [
       "TimeSeries([[ 1., nan,  1.],\n",
       "            [ 2., nan,  2.],\n",
       "            [ 6., nan,  6.],\n",
       "            [24., nan, 12.],\n",
       "            [nan, nan, 12.]])"
      ]
     },
     "execution_count": 17,
     "metadata": {},
     "output_type": "execute_result"
    }
   ],
   "source": [
    "ts.cumprod()"
   ]
  },
  {
   "cell_type": "code",
   "execution_count": 18,
   "metadata": {
    "Collapsed": "false"
   },
   "outputs": [
    {
     "data": {
      "text/plain": [
       "<matplotlib.axes._subplots.AxesSubplot at 0x61df27cc0>"
      ]
     },
     "execution_count": 18,
     "metadata": {},
     "output_type": "execute_result"
    },
    {
     "data": {
      "image/png": "[encoded data removed]",
      "text/plain": [
       "<Figure size 432x288 with 1 Axes>"
      ]
     },
     "metadata": {
      "needs_background": "light"
     },
     "output_type": "display_data"
    }
   ],
   "source": [
    "# Two ways of plotting\n",
    "pd.DataFrame(ts, index=['a', 'b', 'c', 'd', 'e'], columns=['hello', 'world', '!']).plot()"
   ]
  },
  {
   "cell_type": "code",
   "execution_count": 19,
   "metadata": {
    "Collapsed": "false"
   },
   "outputs": [
    {
     "data": {
      "text/plain": [
       "<matplotlib.axes._subplots.AxesSubplot at 0x61e6fd160>"
      ]
     },
     "execution_count": 19,
     "metadata": {},
     "output_type": "execute_result"
    },
    {
     "data": {
      "image/png": "[encoded data removed]",
      "text/plain": [
       "<Figure size 432x288 with 1 Axes>"
      ]
     },
     "metadata": {
      "needs_background": "light"
     },
     "output_type": "display_data"
    }
   ],
   "source": [
    "ts[:, 0].plot(benchmark=ts[:, 1], index=['a', 'b', 'c', 'd', 'e'], label='hello', benchmark_label='world')"
   ]
  },
  {
   "cell_type": "markdown",
   "metadata": {
    "Collapsed": "false"
   },
   "source": [
    "## Signals"
   ]
  },
  {
   "cell_type": "code",
   "execution_count": 20,
   "metadata": {
    "Collapsed": "false"
   },
   "outputs": [],
   "source": [
    "from vectorbt.signals import Signals"
   ]
  },
  {
   "cell_type": "code",
   "execution_count": 21,
   "metadata": {
    "Collapsed": "false"
   },
   "outputs": [
    {
     "data": {
      "text/plain": [
       "Signals([[False, False, False],\n",
       "         [False, False, False],\n",
       "         [False, False, False],\n",
       "         [False, False, False],\n",
       "         [False, False, False]])"
      ]
     },
     "execution_count": 21,
     "metadata": {},
     "output_type": "execute_result"
    }
   ],
   "source": [
    "Signals.falses((5, 3))"
   ]
  },
  {
   "cell_type": "code",
   "execution_count": 22,
   "metadata": {
    "Collapsed": "false"
   },
   "outputs": [
    {
     "data": {
      "text/plain": [
       "Signals([[ True,  True,  True],\n",
       "         [False, False, False],\n",
       "         [False,  True, False],\n",
       "         [False, False, False],\n",
       "         [ True, False,  True]])"
      ]
     },
     "execution_count": 22,
     "metadata": {},
     "output_type": "execute_result"
    }
   ],
   "source": [
    "entries = Signals.generate_random_entries((5, 3), 2, every_nth=2, seed=42)\n",
    "entries"
   ]
  },
  {
   "cell_type": "code",
   "execution_count": 23,
   "metadata": {
    "Collapsed": "false"
   },
   "outputs": [
    {
     "data": {
      "text/plain": [
       "Signals([[False, False, False],\n",
       "         [ True,  True, False],\n",
       "         [False, False, False],\n",
       "         [False,  True,  True],\n",
       "         [False, False, False]])"
      ]
     },
     "execution_count": 23,
     "metadata": {},
     "output_type": "execute_result"
    }
   ],
   "source": [
    "Signals.generate_random_exits(entries)"
   ]
  },
  {
   "cell_type": "code",
   "execution_count": 24,
   "metadata": {
    "Collapsed": "false"
   },
   "outputs": [
    {
     "data": {
      "text/plain": [
       "Signals([[False, False, False],\n",
       "         [False,  True, False],\n",
       "         [ True, False, False],\n",
       "         [False,  True,  True],\n",
       "         [False, False, False]])"
      ]
     },
     "execution_count": 24,
     "metadata": {},
     "output_type": "execute_result"
    }
   ],
   "source": [
    "entries.generate_random_exits()"
   ]
  },
  {
   "cell_type": "code",
   "execution_count": 25,
   "metadata": {
    "Collapsed": "false"
   },
   "outputs": [
    {
     "data": {
      "text/plain": [
       "Signals([[False, False, False],\n",
       "         [ True,  True,  True],\n",
       "         [False, False, False],\n",
       "         [False,  True, False],\n",
       "         [False, False, False]])"
      ]
     },
     "execution_count": 25,
     "metadata": {},
     "output_type": "execute_result"
    }
   ],
   "source": [
    "from numba import njit, b1\n",
    "\n",
    "@njit\n",
    "def exit_func_nb(entries, col_idx, prev_idx):\n",
    "    # First value after entry\n",
    "    entries = entries[:, col_idx]\n",
    "    a = np.full(entries.shape, False, dtype=b1)\n",
    "    a[prev_idx+1:] = True\n",
    "    return a\n",
    "\n",
    "entries.generate_exits(exit_func_nb)"
   ]
  },
  {
   "cell_type": "code",
   "execution_count": 26,
   "metadata": {
    "Collapsed": "false"
   },
   "outputs": [
    {
     "data": {
      "text/plain": [
       "Signals([[False, False, False],\n",
       "         [ True,  True,  True],\n",
       "         [ True, False,  True],\n",
       "         [ True,  True,  True],\n",
       "         [False,  True, False]])"
      ]
     },
     "execution_count": 26,
     "metadata": {},
     "output_type": "execute_result"
    }
   ],
   "source": [
    "entries.generate_exits(exit_func_nb, only_first=False)"
   ]
  },
  {
   "cell_type": "code",
   "execution_count": 27,
   "metadata": {
    "Collapsed": "false"
   },
   "outputs": [
    {
     "data": {
      "text/plain": [
       "array([[-1,  0, -1],\n",
       "       [ 1,  1, -1],\n",
       "       [-1,  0,  1],\n",
       "       [ 0, -1,  0],\n",
       "       [ 1,  0,  1]])"
      ]
     },
     "execution_count": 27,
     "metadata": {},
     "output_type": "execute_result"
    }
   ],
   "source": [
    "a = np.random.randint(-1, 2, size=(5, 3))\n",
    "a"
   ]
  },
  {
   "cell_type": "code",
   "execution_count": 28,
   "metadata": {
    "Collapsed": "false"
   },
   "outputs": [
    {
     "data": {
      "text/plain": [
       "(Signals([[False, False, False],\n",
       "          [ True,  True, False],\n",
       "          [False, False,  True],\n",
       "          [False, False, False],\n",
       "          [ True, False, False]]), Signals([[False, False, False],\n",
       "          [False, False, False],\n",
       "          [ True, False, False],\n",
       "          [False,  True, False],\n",
       "          [False, False, False]]))"
      ]
     },
     "execution_count": 28,
     "metadata": {},
     "output_type": "execute_result"
    }
   ],
   "source": [
    "@njit\n",
    "def entry_func_nb(exits, col_idx, prev_idx, a):\n",
    "    # First value after last entry\n",
    "    exits = exits[:, col_idx]\n",
    "    a = a[:, col_idx]\n",
    "    entries = np.full(exits.shape, False, dtype=b1)\n",
    "    entries[a == 1] = True\n",
    "    return entries\n",
    "\n",
    "@njit\n",
    "def exit_func_nb(entries, col_idx, prev_idx, a):\n",
    "    # First value after last exit\n",
    "    entries = entries[:, col_idx]\n",
    "    a = a[:, col_idx]\n",
    "    exits = np.full(entries.shape, False, dtype=b1)\n",
    "    exits[a == -1] = True\n",
    "    return exits\n",
    "\n",
    "Signals.generate_entries_and_exits(a.shape, entry_func_nb, exit_func_nb, a)"
   ]
  },
  {
   "cell_type": "code",
   "execution_count": 29,
   "metadata": {
    "Collapsed": "false"
   },
   "outputs": [
    {
     "data": {
      "text/plain": [
       "Signals([[ True,  True,  True],\n",
       "         [ True, False, False],\n",
       "         [ True, False,  True],\n",
       "         [False,  True,  True],\n",
       "         [ True,  True, False],\n",
       "         [False, False, False],\n",
       "         [False,  True,  True],\n",
       "         [False,  True, False],\n",
       "         [False, False,  True],\n",
       "         [ True, False, False]])"
      ]
     },
     "execution_count": 29,
     "metadata": {},
     "output_type": "execute_result"
    }
   ],
   "source": [
    "entries = Signals.generate_random_entries((10, 3), 5, seed=43)\n",
    "entries"
   ]
  },
  {
   "cell_type": "code",
   "execution_count": 30,
   "metadata": {
    "Collapsed": "false"
   },
   "outputs": [
    {
     "data": {
      "text/plain": [
       "Signals([[False, False, False],\n",
       "         [False, False, False],\n",
       "         [ True,  True,  True],\n",
       "         [ True, False, False],\n",
       "         [ True, False,  True],\n",
       "         [False,  True,  True],\n",
       "         [ True,  True, False],\n",
       "         [False, False, False],\n",
       "         [False,  True,  True],\n",
       "         [False,  True, False],\n",
       "         [False, False,  True],\n",
       "         [ True, False, False]])"
      ]
     },
     "execution_count": 30,
     "metadata": {},
     "output_type": "execute_result"
    }
   ],
   "source": [
    "entries.prepend(2, False)"
   ]
  },
  {
   "cell_type": "code",
   "execution_count": 31,
   "metadata": {
    "Collapsed": "false"
   },
   "outputs": [
    {
     "data": {
      "text/plain": [
       "Signals([[False, False, False],\n",
       "         [False, False, False],\n",
       "         [ True,  True,  True],\n",
       "         [ True, False, False],\n",
       "         [ True, False,  True],\n",
       "         [False,  True,  True],\n",
       "         [ True,  True, False],\n",
       "         [False, False, False],\n",
       "         [False,  True,  True],\n",
       "         [False,  True, False]])"
      ]
     },
     "execution_count": 31,
     "metadata": {},
     "output_type": "execute_result"
    }
   ],
   "source": [
    "entries.fshift(2)"
   ]
  },
  {
   "cell_type": "code",
   "execution_count": 32,
   "metadata": {
    "Collapsed": "false"
   },
   "outputs": [
    {
     "data": {
      "text/plain": [
       "Signals([[ True,  True,  True],\n",
       "         [False, False, False],\n",
       "         [False, False,  True],\n",
       "         [False,  True, False],\n",
       "         [ True, False, False],\n",
       "         [False, False, False],\n",
       "         [False,  True,  True],\n",
       "         [False, False, False],\n",
       "         [False, False,  True],\n",
       "         [ True, False, False]])"
      ]
     },
     "execution_count": 32,
     "metadata": {},
     "output_type": "execute_result"
    }
   ],
   "source": [
    "entries.first()"
   ]
  },
  {
   "cell_type": "code",
   "execution_count": 33,
   "metadata": {
    "Collapsed": "false"
   },
   "outputs": [
    {
     "data": {
      "text/plain": [
       "Signals([[False, False, False],\n",
       "         [ True, False, False],\n",
       "         [False, False, False],\n",
       "         [False, False,  True],\n",
       "         [False,  True, False],\n",
       "         [False, False, False],\n",
       "         [False, False, False],\n",
       "         [False,  True, False],\n",
       "         [False, False, False],\n",
       "         [False, False, False]])"
      ]
     },
     "execution_count": 33,
     "metadata": {},
     "output_type": "execute_result"
    }
   ],
   "source": [
    "entries.first_nst(2)"
   ]
  },
  {
   "cell_type": "code",
   "execution_count": 34,
   "metadata": {
    "Collapsed": "false"
   },
   "outputs": [
    {
     "data": {
      "text/plain": [
       "Signals([[False, False, False],\n",
       "         [ True, False, False],\n",
       "         [ True, False, False],\n",
       "         [False, False,  True],\n",
       "         [False,  True, False],\n",
       "         [False, False, False],\n",
       "         [False, False, False],\n",
       "         [False,  True, False],\n",
       "         [False, False, False],\n",
       "         [False, False, False]])"
      ]
     },
     "execution_count": 34,
     "metadata": {},
     "output_type": "execute_result"
    }
   ],
   "source": [
    "entries.from_first_nst(2)"
   ]
  },
  {
   "cell_type": "code",
   "execution_count": 35,
   "metadata": {
    "Collapsed": "false"
   },
   "outputs": [
    {
     "data": {
      "text/plain": [
       "Signals([[False, False, False],\n",
       "         [False, False, False],\n",
       "         [False,  True, False],\n",
       "         [False, False, False],\n",
       "         [False, False, False],\n",
       "         [False, False,  True],\n",
       "         [ True, False, False],\n",
       "         [False, False, False],\n",
       "         [False, False, False],\n",
       "         [False,  True, False]])"
      ]
     },
     "execution_count": 35,
     "metadata": {},
     "output_type": "execute_result"
    }
   ],
   "source": [
    "entries.last_nst(2)"
   ]
  },
  {
   "cell_type": "code",
   "execution_count": 36,
   "metadata": {
    "Collapsed": "false"
   },
   "outputs": [
    {
     "data": {
      "text/plain": [
       "Signals([[False, False, False],\n",
       "         [False, False, False],\n",
       "         [False,  True, False],\n",
       "         [False, False, False],\n",
       "         [False, False, False],\n",
       "         [False, False,  True],\n",
       "         [ True, False, False],\n",
       "         [ True, False, False],\n",
       "         [ True, False, False],\n",
       "         [False,  True, False]])"
      ]
     },
     "execution_count": 36,
     "metadata": {},
     "output_type": "execute_result"
    }
   ],
   "source": [
    "entries.from_last_nst(2)"
   ]
  },
  {
   "cell_type": "code",
   "execution_count": 37,
   "metadata": {
    "Collapsed": "false"
   },
   "outputs": [
    {
     "data": {
      "text/plain": [
       "<matplotlib.axes._subplots.AxesSubplot at 0x61f09cf60>"
      ]
     },
     "execution_count": 37,
     "metadata": {},
     "output_type": "execute_result"
    },
    {
     "data": {
      "image/png": "[encoded data removed]",
      "text/plain": [
       "<Figure size 432x288 with 1 Axes>"
      ]
     },
     "metadata": {
      "needs_background": "light"
     },
     "output_type": "display_data"
    }
   ],
   "source": [
    "entries[:, 0].plot()"
   ]
  },
  {
   "cell_type": "markdown",
   "metadata": {
    "Collapsed": "false"
   },
   "source": [
    "## Positions"
   ]
  },
  {
   "cell_type": "code",
   "execution_count": 38,
   "metadata": {
    "Collapsed": "false"
   },
   "outputs": [],
   "source": [
    "from vectorbt.positions import Positions"
   ]
  },
  {
   "cell_type": "code",
   "execution_count": 39,
   "metadata": {
    "Collapsed": "false"
   },
   "outputs": [
    {
     "data": {
      "text/plain": [
       "TimeSeries([[1., 9., 1., 5.],\n",
       "            [2., 8., 2., 4.],\n",
       "            [3., 7., 3., 3.],\n",
       "            [4., 6., 4., 2.],\n",
       "            [5., 5., 5., 1.],\n",
       "            [6., 4., 4., 2.],\n",
       "            [7., 3., 3., 3.],\n",
       "            [8., 2., 2., 4.],\n",
       "            [9., 1., 1., 5.]])"
      ]
     },
     "execution_count": 39,
     "metadata": {},
     "output_type": "execute_result"
    }
   ],
   "source": [
    "ts = TimeSeries(np.asarray([\n",
    "    [1, 9, 1, 5],\n",
    "    [2, 8, 2, 4],\n",
    "    [3, 7, 3, 3],\n",
    "    [4, 6, 4, 2],\n",
    "    [5, 5, 5, 1],\n",
    "    [6, 4, 4, 2],\n",
    "    [7, 3, 3, 3],\n",
    "    [8, 2, 2, 4],\n",
    "    [9, 1, 1, 5]\n",
    "], dtype=np.float64))\n",
    "ts"
   ]
  },
  {
   "cell_type": "code",
   "execution_count": 40,
   "metadata": {
    "Collapsed": "false"
   },
   "outputs": [
    {
     "data": {
      "text/plain": [
       "Signals([[ True,  True,  True,  True],\n",
       "         [False, False, False, False],\n",
       "         [False, False, False, False],\n",
       "         [ True,  True,  True,  True],\n",
       "         [False, False, False, False],\n",
       "         [False, False, False, False],\n",
       "         [ True,  True,  True,  True],\n",
       "         [False, False, False, False],\n",
       "         [False, False, False, False]])"
      ]
     },
     "execution_count": 40,
     "metadata": {},
     "output_type": "execute_result"
    }
   ],
   "source": [
    "entries = Signals(np.asarray([\n",
    "    [True, True, True, True],\n",
    "    [False, False, False, False],\n",
    "    [False, False, False, False],\n",
    "    [True, True, True, True],\n",
    "    [False, False, False, False],\n",
    "    [False, False, False, False],\n",
    "    [True, True, True, True],\n",
    "    [False, False, False, False],\n",
    "    [False, False, False, False]\n",
    "]))\n",
    "entries"
   ]
  },
  {
   "cell_type": "code",
   "execution_count": 41,
   "metadata": {
    "Collapsed": "false"
   },
   "outputs": [
    {
     "data": {
      "text/plain": [
       "Signals([[False, False, False, False],\n",
       "         [False, False, False, False],\n",
       "         [ True,  True,  True,  True],\n",
       "         [False, False, False, False],\n",
       "         [False, False, False, False],\n",
       "         [ True,  True,  True,  True],\n",
       "         [False, False, False, False],\n",
       "         [False, False, False, False],\n",
       "         [ True,  True,  True,  True]])"
      ]
     },
     "execution_count": 41,
     "metadata": {},
     "output_type": "execute_result"
    }
   ],
   "source": [
    "exits = entries.fshift(2)\n",
    "exits"
   ]
  },
  {
   "cell_type": "code",
   "execution_count": 42,
   "metadata": {
    "Collapsed": "false"
   },
   "outputs": [
    {
     "data": {
      "text/plain": [
       "Positions([[ 1,  1,  1,  1],\n",
       "           [ 0,  0,  0,  0],\n",
       "           [-1, -1, -1, -1],\n",
       "           [ 1,  1,  1,  1],\n",
       "           [ 0,  0,  0,  0],\n",
       "           [-1, -1, -1, -1],\n",
       "           [ 1,  1,  1,  1],\n",
       "           [ 0,  0,  0,  0],\n",
       "           [-1, -1, -1, -1]], dtype=int8)"
      ]
     },
     "execution_count": 42,
     "metadata": {},
     "output_type": "execute_result"
    }
   ],
   "source": [
    "positions = Positions.from_signals(entries, exits)\n",
    "positions"
   ]
  },
  {
   "cell_type": "code",
   "execution_count": 43,
   "metadata": {
    "Collapsed": "false"
   },
   "outputs": [
    {
     "data": {
      "text/plain": [
       "<matplotlib.axes._subplots.AxesSubplot at 0x61ef599e8>"
      ]
     },
     "execution_count": 43,
     "metadata": {},
     "output_type": "execute_result"
    },
    {
     "data": {
      "image/png": "[encoded data removed]",
      "text/plain": [
       "<Figure size 432x288 with 1 Axes>"
      ]
     },
     "metadata": {
      "needs_background": "light"
     },
     "output_type": "display_data"
    }
   ],
   "source": [
    "positions[:, 3].plot(ts=ts[:, 3])"
   ]
  },
  {
   "cell_type": "markdown",
   "metadata": {
    "Collapsed": "false"
   },
   "source": [
    "## Portfolio"
   ]
  },
  {
   "cell_type": "code",
   "execution_count": 44,
   "metadata": {
    "Collapsed": "false"
   },
   "outputs": [],
   "source": [
    "from vectorbt.portfolio import Portfolio"
   ]
  },
  {
   "cell_type": "code",
   "execution_count": 45,
   "metadata": {
    "Collapsed": "false"
   },
   "outputs": [],
   "source": [
    "portfolio = Portfolio(ts, positions, investment=100.)"
   ]
  },
  {
   "cell_type": "code",
   "execution_count": 46,
   "metadata": {
    "Collapsed": "false"
   },
   "outputs": [
    {
     "data": {
      "text/plain": [
       "TimeSeries([[100.        , 100.        , 100.        , 100.        ],\n",
       "            [200.        ,  88.88888889, 200.        ,  80.        ],\n",
       "            [300.        ,  77.77777778, 300.        ,  60.        ],\n",
       "            [300.        ,  77.77777778, 300.        ,  60.        ],\n",
       "            [375.        ,  64.81481481, 375.        ,  30.        ],\n",
       "            [450.        ,  51.85185185, 300.        ,  60.        ],\n",
       "            [450.        ,  51.85185185, 300.        ,  60.        ],\n",
       "            [514.28571429,  34.56790123, 200.        ,  80.        ],\n",
       "            [578.57142857,  17.28395062, 100.        , 100.        ]])"
      ]
     },
     "execution_count": 46,
     "metadata": {},
     "output_type": "execute_result"
    }
   ],
   "source": [
    "portfolio.equity"
   ]
  },
  {
   "cell_type": "code",
   "execution_count": 47,
   "metadata": {
    "Collapsed": "false"
   },
   "outputs": [
    {
     "data": {
      "text/plain": [
       "TimeSeries([[100.        ,  11.11111111, 100.        ,  20.        ],\n",
       "            [100.        ,  11.11111111, 100.        ,  20.        ],\n",
       "            [100.        ,  11.11111111, 100.        ,  20.        ],\n",
       "            [ 75.        ,  12.96296296,  75.        ,  30.        ],\n",
       "            [ 75.        ,  12.96296296,  75.        ,  30.        ],\n",
       "            [ 75.        ,  12.96296296,  75.        ,  30.        ],\n",
       "            [ 64.28571429,  17.28395062, 100.        ,  20.        ],\n",
       "            [ 64.28571429,  17.28395062, 100.        ,  20.        ],\n",
       "            [ 64.28571429,  17.28395062, 100.        ,  20.        ]])"
      ]
     },
     "execution_count": 47,
     "metadata": {},
     "output_type": "execute_result"
    }
   ],
   "source": [
    "portfolio.equity_in_shares"
   ]
  },
  {
   "cell_type": "code",
   "execution_count": 48,
   "metadata": {
    "Collapsed": "false"
   },
   "outputs": [
    {
     "data": {
      "text/plain": [
       "TimeSeries([[ 0.        ,  0.        ,  0.        ,  0.        ],\n",
       "            [ 1.        , -0.11111111,  1.        , -0.2       ],\n",
       "            [ 0.5       , -0.125     ,  0.5       , -0.25      ],\n",
       "            [ 0.        ,  0.        ,  0.        ,  0.        ],\n",
       "            [ 0.25      , -0.16666667,  0.25      , -0.5       ],\n",
       "            [ 0.2       , -0.2       , -0.2       ,  1.        ],\n",
       "            [ 0.        ,  0.        ,  0.        ,  0.        ],\n",
       "            [ 0.14285714, -0.33333333, -0.33333333,  0.33333333],\n",
       "            [ 0.125     , -0.5       , -0.5       ,  0.25      ]])"
      ]
     },
     "execution_count": 48,
     "metadata": {},
     "output_type": "execute_result"
    }
   ],
   "source": [
    "portfolio.returns"
   ]
  },
  {
   "cell_type": "code",
   "execution_count": 49,
   "metadata": {
    "Collapsed": "false"
   },
   "outputs": [
    {
     "data": {
      "text/plain": [
       "TimeSeries([[   0.        ,    0.        ,    0.        ,    0.        ],\n",
       "            [   0.        ,    0.        ,    0.        ,    0.        ],\n",
       "            [ 200.        ,  -22.22222222,  200.        ,  -40.        ],\n",
       "            [   0.        ,    0.        ,    0.        ,    0.        ],\n",
       "            [   0.        ,    0.        ,    0.        ,    0.        ],\n",
       "            [ 150.        ,  -25.92592593,    0.        ,    0.        ],\n",
       "            [   0.        ,    0.        ,    0.        ,    0.        ],\n",
       "            [   0.        ,    0.        ,    0.        ,    0.        ],\n",
       "            [ 128.57142857,  -34.56790123, -200.        ,   40.        ]])"
      ]
     },
     "execution_count": 49,
     "metadata": {},
     "output_type": "execute_result"
    }
   ],
   "source": [
    "portfolio.trade_profits"
   ]
  },
  {
   "cell_type": "code",
   "execution_count": 50,
   "metadata": {
    "Collapsed": "false"
   },
   "outputs": [
    {
     "data": {
      "text/plain": [
       "TimeSeries([[ 0.        ,  0.        ,  0.        ,  0.        ],\n",
       "            [ 0.        ,  0.        ,  0.        ,  0.        ],\n",
       "            [ 2.        , -0.22222222,  2.        , -0.4       ],\n",
       "            [ 0.        ,  0.        ,  0.        ,  0.        ],\n",
       "            [ 0.        ,  0.        ,  0.        ,  0.        ],\n",
       "            [ 0.5       , -0.33333333,  0.        ,  0.        ],\n",
       "            [ 0.        ,  0.        ,  0.        ,  0.        ],\n",
       "            [ 0.        ,  0.        ,  0.        ,  0.        ],\n",
       "            [ 0.28571429, -0.66666667, -0.66666667,  0.66666667]])"
      ]
     },
     "execution_count": 50,
     "metadata": {},
     "output_type": "execute_result"
    }
   ],
   "source": [
    "portfolio.trade_returns"
   ]
  },
  {
   "cell_type": "code",
   "execution_count": 51,
   "metadata": {
    "Collapsed": "false"
   },
   "outputs": [
    {
     "data": {
      "text/plain": [
       "array([159.52380952,   0.        , 200.        ,  40.        ])"
      ]
     },
     "execution_count": 51,
     "metadata": {},
     "output_type": "execute_result"
    }
   ],
   "source": [
    "portfolio.avg_win"
   ]
  },
  {
   "cell_type": "code",
   "execution_count": 52,
   "metadata": {
    "Collapsed": "false"
   },
   "outputs": [
    {
     "data": {
      "text/plain": [
       "array([  0.        ,  27.57201646, 200.        ,  40.        ])"
      ]
     },
     "execution_count": 52,
     "metadata": {},
     "output_type": "execute_result"
    }
   ],
   "source": [
    "portfolio.avg_loss"
   ]
  },
  {
   "cell_type": "code",
   "execution_count": 53,
   "metadata": {
    "Collapsed": "false"
   },
   "outputs": [
    {
     "data": {
      "text/plain": [
       "array([1. , 0. , 0.5, 0.5])"
      ]
     },
     "execution_count": 53,
     "metadata": {},
     "output_type": "execute_result"
    }
   ],
   "source": [
    "portfolio.win_prob"
   ]
  },
  {
   "cell_type": "code",
   "execution_count": 54,
   "metadata": {
    "Collapsed": "false"
   },
   "outputs": [
    {
     "data": {
      "text/plain": [
       "array([0. , 1. , 0.5, 0.5])"
      ]
     },
     "execution_count": 54,
     "metadata": {},
     "output_type": "execute_result"
    }
   ],
   "source": [
    "portfolio.loss_prob"
   ]
  },
  {
   "cell_type": "code",
   "execution_count": 55,
   "metadata": {
    "Collapsed": "false"
   },
   "outputs": [
    {
     "data": {
      "text/plain": [
       "array([159.52380952, -27.57201646,   0.        ,   0.        ])"
      ]
     },
     "execution_count": 55,
     "metadata": {},
     "output_type": "execute_result"
    }
   ],
   "source": [
    "portfolio.appt"
   ]
  },
  {
   "cell_type": "code",
   "execution_count": 56,
   "metadata": {
    "Collapsed": "false"
   },
   "outputs": [
    {
     "data": {
      "text/plain": [
       "array([478.57142857, -82.71604938,   0.        ,   0.        ])"
      ]
     },
     "execution_count": 56,
     "metadata": {},
     "output_type": "execute_result"
    }
   ],
   "source": [
    "portfolio.total_net_profit"
   ]
  },
  {
   "cell_type": "code",
   "execution_count": 57,
   "metadata": {
    "Collapsed": "false"
   },
   "outputs": [
    {
     "name": "stderr",
     "output_type": "stream",
     "text": [
      "/Users/olegpolakow/Documents/SourceTree/vectorbt/vectorbt/portfolio.py:166: RuntimeWarning: divide by zero encountered in true_divide\n",
      "  return self.sum_win / self.sum_loss\n"
     ]
    },
    {
     "data": {
      "text/plain": [
       "array([inf,  0.,  1.,  1.])"
      ]
     },
     "execution_count": 57,
     "metadata": {},
     "output_type": "execute_result"
    }
   ],
   "source": [
    "portfolio.profit_factor"
   ]
  },
  {
   "cell_type": "code",
   "execution_count": 58,
   "metadata": {
    "Collapsed": "false"
   },
   "outputs": [
    {
     "data": {
      "text/plain": [
       "TimeSeries([0.        , 0.82716049, 0.73333333, 0.7       ])"
      ]
     },
     "execution_count": 58,
     "metadata": {},
     "output_type": "execute_result"
    }
   ],
   "source": [
    "portfolio.mdd"
   ]
  }
 ],
 "metadata": {
  "kernelspec": {
   "display_name": "Python 3",
   "language": "python",
   "name": "python3"
  },
  "language_info": {
   "codemirror_mode": {
    "name": "ipython",
    "version": 3
   },
   "file_extension": ".py",
   "mimetype": "text/x-python",
   "name": "python",
   "nbconvert_exporter": "python",
   "pygments_lexer": "ipython3",
   "version": "3.7.3"
  },
  "widgets": {
   "application/vnd.jupyter.widget-state+json": {
    "state": {},
    "version_major": 2,
    "version_minor": 0
   }
  }
 },
 "nbformat": 4,
 "nbformat_minor": 4
}
