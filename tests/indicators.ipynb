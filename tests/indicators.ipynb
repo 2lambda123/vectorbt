{
 "cells": [
  {
   "cell_type": "markdown",
   "metadata": {},
   "source": [
    "# indicators.py"
   ]
  },
  {
   "cell_type": "code",
   "execution_count": 1,
   "metadata": {},
   "outputs": [],
   "source": [
    "import vectorbt as vbt\n",
    "from vectorbt.utils import *"
   ]
  },
  {
   "cell_type": "code",
   "execution_count": 2,
   "metadata": {
    "Collapsed": "false"
   },
   "outputs": [],
   "source": [
    "import numpy as np\n",
    "import pandas as pd\n",
    "from datetime import datetime, timedelta\n",
    "from numba import njit, f8, i8, b1, optional"
   ]
  },
  {
   "cell_type": "code",
   "execution_count": 3,
   "metadata": {},
   "outputs": [
    {
     "name": "stdout",
     "output_type": "stream",
     "text": [
      "              a    b    c\n",
      "2018-01-01  1.0  NaN  1.0\n",
      "2018-01-02  2.0  6.0  2.0\n",
      "2018-01-03  3.0  5.0  3.0\n",
      "2018-01-04  4.0  4.0  NaN\n",
      "2018-01-05  5.0  3.0  3.0\n",
      "2018-01-06  6.0  2.0  2.0\n",
      "2018-01-07  NaN  1.0  1.0\n"
     ]
    }
   ],
   "source": [
    "index = pd.Index([\n",
    "    datetime(2018, 1, 1),\n",
    "    datetime(2018, 1, 2),\n",
    "    datetime(2018, 1, 3),\n",
    "    datetime(2018, 1, 4),\n",
    "    datetime(2018, 1, 5),\n",
    "    datetime(2018, 1, 6),\n",
    "    datetime(2018, 1, 7)\n",
    "])\n",
    "columns = ['a', 'b', 'c']\n",
    "ts = pd.DataFrame({\n",
    "    'a': [1, 2, 3, 4, 5, 6, np.nan], \n",
    "    'b': [np.nan, 6, 5, 4, 3, 2, 1],\n",
    "    'c': [1, 2, 3, np.nan, 3, 2, 1]}, index=index).astype(np.float64)\n",
    "\n",
    "print(ts)"
   ]
  },
  {
   "cell_type": "code",
   "execution_count": 4,
   "metadata": {},
   "outputs": [
    {
     "data": {
      "text/plain": [
       "(1000, 1000)"
      ]
     },
     "execution_count": 4,
     "metadata": {},
     "output_type": "execute_result"
    }
   ],
   "source": [
    "big_ts = pd.DataFrame(np.random.randint(10, size=(1000, 1000)).astype(float))\n",
    "big_ts.index = [datetime(2018, 1, 1) + timedelta(days=i) for i in range(1000)]\n",
    "big_ts.shape"
   ]
  },
  {
   "cell_type": "markdown",
   "metadata": {},
   "source": [
    "## MA"
   ]
  },
  {
   "cell_type": "code",
   "execution_count": 5,
   "metadata": {},
   "outputs": [
    {
     "name": "stdout",
     "output_type": "stream",
     "text": [
      "2018-01-01    NaN\n",
      "2018-01-02    1.5\n",
      "2018-01-03    2.5\n",
      "2018-01-04    3.5\n",
      "2018-01-05    4.5\n",
      "2018-01-06    5.5\n",
      "2018-01-07    NaN\n",
      "Name: a, dtype: float64\n",
      "              a    b    c\n",
      "2018-01-01  NaN  NaN  NaN\n",
      "2018-01-02  1.5  NaN  1.5\n",
      "2018-01-03  2.5  5.5  2.5\n",
      "2018-01-04  3.5  4.5  NaN\n",
      "2018-01-05  4.5  3.5  NaN\n",
      "2018-01-06  5.5  2.5  2.5\n",
      "2018-01-07  NaN  1.5  1.5\n",
      "ma_window      2               3          \n",
      "ma_ewm     False           False          \n",
      "               a    b    c     a    b    c\n",
      "2018-01-01   NaN  NaN  NaN   NaN  NaN  NaN\n",
      "2018-01-02   1.5  NaN  1.5   NaN  NaN  NaN\n",
      "2018-01-03   2.5  5.5  2.5   2.0  NaN  2.0\n",
      "2018-01-04   3.5  4.5  NaN   3.0  5.0  NaN\n",
      "2018-01-05   4.5  3.5  NaN   4.0  4.0  NaN\n",
      "2018-01-06   5.5  2.5  2.5   5.0  3.0  NaN\n",
      "2018-01-07   NaN  1.5  1.5   NaN  2.0  2.0\n",
      "ma_window      2                   3                    \n",
      "ma_ewm     False               True                     \n",
      "               a    b    c         a         b         c\n",
      "2018-01-01   NaN  NaN  NaN       NaN       NaN       NaN\n",
      "2018-01-02   1.5  NaN  1.5       NaN       NaN       NaN\n",
      "2018-01-03   2.5  5.5  2.5  2.428571  5.333333  2.428571\n",
      "2018-01-04   3.5  4.5  NaN  3.266667  4.571429  2.428571\n",
      "2018-01-05   4.5  3.5  NaN  4.161290  3.733333  2.826087\n",
      "2018-01-06   5.5  2.5  2.5  5.095238  2.838710  2.345455\n",
      "2018-01-07   NaN  1.5  1.5  5.095238  1.904762  1.621849\n",
      "ma_window      2                                             3            \\\n",
      "ma_ewm     False               True                      False             \n",
      "               a    b    c         a         b         c     a    b    c   \n",
      "2018-01-01   NaN  NaN  NaN       NaN       NaN       NaN   NaN  NaN  NaN   \n",
      "2018-01-02   1.5  NaN  1.5  1.750000  6.000000  1.750000   NaN  NaN  NaN   \n",
      "2018-01-03   2.5  5.5  2.5  2.615385  5.250000  2.615385   2.0  NaN  2.0   \n",
      "2018-01-04   3.5  4.5  NaN  3.550000  4.384615  2.615385   3.0  5.0  NaN   \n",
      "2018-01-05   4.5  3.5  NaN  4.520661  3.450000  2.946809   4.0  4.0  NaN   \n",
      "2018-01-06   5.5  2.5  2.5  5.508242  2.479339  2.264095   5.0  3.0  NaN   \n",
      "2018-01-07   NaN  1.5  1.5  5.508242  1.491758  1.399625   NaN  2.0  2.0   \n",
      "\n",
      "ma_window                                 \n",
      "ma_ewm         True                       \n",
      "                   a         b         c  \n",
      "2018-01-01       NaN       NaN       NaN  \n",
      "2018-01-02       NaN       NaN       NaN  \n",
      "2018-01-03  2.428571  5.333333  2.428571  \n",
      "2018-01-04  3.266667  4.571429  2.428571  \n",
      "2018-01-05  4.161290  3.733333  2.826087  \n",
      "2018-01-06  5.095238  2.838710  2.345455  \n",
      "2018-01-07  5.095238  1.904762  1.621849  \n"
     ]
    }
   ],
   "source": [
    "print(vbt.MA.from_params(ts['a'], 2).ma)\n",
    "print(vbt.MA.from_params(ts, 2).ma)\n",
    "print(vbt.MA.from_params(ts, [2, 3], ewm=False).ma)\n",
    "print(vbt.MA.from_params(ts, [2, 3], ewm=[False, True]).ma)\n",
    "print(vbt.MA.from_params(ts, [2, 3], ewm=[False, True], param_product=True).ma)"
   ]
  },
  {
   "cell_type": "code",
   "execution_count": 6,
   "metadata": {},
   "outputs": [
    {
     "name": "stdout",
     "output_type": "stream",
     "text": [
      "29.5 ms ± 393 µs per loop (mean ± std. dev. of 7 runs, 10 loops each)\n",
      "22.5 ms ± 956 µs per loop (mean ± std. dev. of 7 runs, 10 loops each)\n",
      "(1000, 1000)\n"
     ]
    }
   ],
   "source": [
    "# One window\n",
    "%timeit big_ts.rolling(2).mean() # pandas\n",
    "%timeit vbt.MA.from_params(big_ts, 2) # with pre+postprocessing and still beats pandas\n",
    "\n",
    "print(vbt.MA.from_params(big_ts, 2).ma.shape)"
   ]
  },
  {
   "cell_type": "code",
   "execution_count": 7,
   "metadata": {},
   "outputs": [
    {
     "name": "stdout",
     "output_type": "stream",
     "text": [
      "3.59 s ± 36.6 ms per loop (mean ± std. dev. of 7 runs, 1 loop each)\n",
      "2.65 s ± 8.62 ms per loop (mean ± std. dev. of 7 runs, 1 loop each)\n",
      "(1000, 98000)\n"
     ]
    }
   ],
   "source": [
    "# Multiple windows\n",
    "%timeit pd.concat([big_ts.rolling(i).mean() for i in np.arange(2, 100)])\n",
    "%timeit vbt.MA.from_params(big_ts, np.arange(2, 100))\n",
    "\n",
    "print(vbt.MA.from_params(big_ts, np.arange(2, 100)).ma.shape)"
   ]
  },
  {
   "cell_type": "code",
   "execution_count": 8,
   "metadata": {},
   "outputs": [
    {
     "name": "stdout",
     "output_type": "stream",
     "text": [
      "3.79 s ± 243 ms per loop (mean ± std. dev. of 7 runs, 1 loop each)\n",
      "1.18 s ± 97.6 ms per loop (mean ± std. dev. of 7 runs, 1 loop each)\n",
      "(1000, 100000)\n"
     ]
    }
   ],
   "source": [
    "# One window repeated\n",
    "%timeit pd.concat([big_ts.rolling(i).mean() for i in np.full(100, 2)])\n",
    "%timeit vbt.MA.from_params(big_ts, np.full(100, 2))\n",
    "\n",
    "print(vbt.MA.from_params(big_ts, np.full(100, 2)).ma.shape)"
   ]
  },
  {
   "cell_type": "code",
   "execution_count": 6,
   "metadata": {},
   "outputs": [],
   "source": [
    "ma = vbt.MA.from_params(ts, [2, 3], ewm=[False, True])\n",
    "big_ma = vbt.MA.from_params(big_ts, np.arange(2, 100), ewm=False)"
   ]
  },
  {
   "cell_type": "code",
   "execution_count": 10,
   "metadata": {},
   "outputs": [
    {
     "data": {
      "text/plain": [
       "['__class__',\n",
       " '__delattr__',\n",
       " '__dict__',\n",
       " '__dir__',\n",
       " '__doc__',\n",
       " '__eq__',\n",
       " '__format__',\n",
       " '__ge__',\n",
       " '__getattribute__',\n",
       " '__getitem__',\n",
       " '__gt__',\n",
       " '__hash__',\n",
       " '__init__',\n",
       " '__init_subclass__',\n",
       " '__le__',\n",
       " '__lt__',\n",
       " '__module__',\n",
       " '__ne__',\n",
       " '__new__',\n",
       " '__reduce__',\n",
       " '__reduce_ex__',\n",
       " '__repr__',\n",
       " '__setattr__',\n",
       " '__sizeof__',\n",
       " '__str__',\n",
       " '__subclasshook__',\n",
       " '__weakref__',\n",
       " '_ewm_array',\n",
       " '_ewm_loc',\n",
       " '_ewm_mapper',\n",
       " '_iloc',\n",
       " '_loc',\n",
       " '_ma',\n",
       " '_name',\n",
       " '_ts',\n",
       " '_tuple_loc',\n",
       " '_tuple_mapper',\n",
       " '_window_array',\n",
       " '_window_loc',\n",
       " '_window_mapper',\n",
       " 'ewm_loc',\n",
       " 'from_params',\n",
       " 'iloc',\n",
       " 'loc',\n",
       " 'ma',\n",
       " 'ma_above',\n",
       " 'ma_below',\n",
       " 'ma_equal',\n",
       " 'name',\n",
       " 'plot',\n",
       " 'ts',\n",
       " 'ts_above',\n",
       " 'ts_below',\n",
       " 'ts_equal',\n",
       " 'tuple_loc',\n",
       " 'window_loc',\n",
       " 'xs']"
      ]
     },
     "execution_count": 10,
     "metadata": {},
     "output_type": "execute_result"
    }
   ],
   "source": [
    "dir(ma) # you can list here all of the available tools"
   ]
  },
  {
   "cell_type": "markdown",
   "metadata": {},
   "source": [
    "### Pandas indexing"
   ]
  },
  {
   "cell_type": "code",
   "execution_count": 11,
   "metadata": {},
   "outputs": [
    {
     "name": "stdout",
     "output_type": "stream",
     "text": [
      "2018-01-01    NaN\n",
      "2018-01-02    1.5\n",
      "2018-01-03    2.5\n",
      "2018-01-04    3.5\n",
      "2018-01-05    4.5\n",
      "2018-01-06    5.5\n",
      "2018-01-07    NaN\n",
      "Name: (2, False, a), dtype: float64\n",
      "91.8 µs ± 3.65 µs per loop (mean ± std. dev. of 7 runs, 10000 loops each)\n",
      "2018-01-01    NaN\n",
      "2018-01-02    1.5\n",
      "2018-01-03    2.5\n",
      "2018-01-04    3.5\n",
      "2018-01-05    4.5\n",
      "2018-01-06    5.5\n",
      "2018-01-07    NaN\n",
      "Name: (2, False, a), dtype: float64\n",
      "14.5 ms ± 329 µs per loop (mean ± std. dev. of 7 runs, 100 loops each)\n"
     ]
    }
   ],
   "source": [
    "print(ma.ma.iloc[:, 0])\n",
    "%timeit big_ma.ts.iloc[:, 0] # benchmark, 1 column\n",
    "\n",
    "print(ma.iloc[:, 0].ma) # performed on the object itself\n",
    "%timeit big_ma.iloc[:, 0] # slower since it forwards the operation to each dataframe"
   ]
  },
  {
   "cell_type": "code",
   "execution_count": 12,
   "metadata": {},
   "outputs": [
    {
     "name": "stdout",
     "output_type": "stream",
     "text": [
      "ma_window      2          \n",
      "ma_ewm     False          \n",
      "               a    b    c\n",
      "2018-01-01   NaN  NaN  NaN\n",
      "2018-01-02   1.5  NaN  1.5\n",
      "2018-01-03   2.5  5.5  2.5\n",
      "2018-01-04   3.5  4.5  NaN\n",
      "2018-01-05   4.5  3.5  NaN\n",
      "2018-01-06   5.5  2.5  2.5\n",
      "2018-01-07   NaN  1.5  1.5\n",
      "3.26 ms ± 27.5 µs per loop (mean ± std. dev. of 7 runs, 100 loops each)\n",
      "ma_window      2          \n",
      "ma_ewm     False          \n",
      "               a    b    c\n",
      "2018-01-01   NaN  NaN  NaN\n",
      "2018-01-02   1.5  NaN  1.5\n",
      "2018-01-03   2.5  5.5  2.5\n",
      "2018-01-04   3.5  4.5  NaN\n",
      "2018-01-05   4.5  3.5  NaN\n",
      "2018-01-06   5.5  2.5  2.5\n",
      "2018-01-07   NaN  1.5  1.5\n",
      "25.3 ms ± 609 µs per loop (mean ± std. dev. of 7 runs, 10 loops each)\n"
     ]
    }
   ],
   "source": [
    "print(ma.ma.iloc[:, np.arange(3)])\n",
    "%timeit big_ma.ts.iloc[:, np.arange(1000)] # 1000 columns\n",
    "\n",
    "print(ma.iloc[:, np.arange(3)].ma)\n",
    "%timeit big_ma.iloc[:, np.arange(1000)]"
   ]
  },
  {
   "cell_type": "code",
   "execution_count": 13,
   "metadata": {},
   "outputs": [
    {
     "name": "stdout",
     "output_type": "stream",
     "text": [
      "2018-01-01    NaN\n",
      "2018-01-02    1.5\n",
      "2018-01-03    2.5\n",
      "2018-01-04    3.5\n",
      "2018-01-05    4.5\n",
      "2018-01-06    5.5\n",
      "2018-01-07    NaN\n",
      "Name: (2, False, a), dtype: float64\n",
      "79.3 µs ± 652 ns per loop (mean ± std. dev. of 7 runs, 10000 loops each)\n",
      "2018-01-01    NaN\n",
      "2018-01-02    1.5\n",
      "2018-01-03    2.5\n",
      "2018-01-04    3.5\n",
      "2018-01-05    4.5\n",
      "2018-01-06    5.5\n",
      "2018-01-07    NaN\n",
      "Name: (2, False, a), dtype: float64\n",
      "14.7 ms ± 89.9 µs per loop (mean ± std. dev. of 7 runs, 100 loops each)\n"
     ]
    }
   ],
   "source": [
    "print(ma.ma.loc[:, (2, False, 'a')])\n",
    "%timeit big_ma.ts.loc[:, (2, False, 0)] # 1 column\n",
    "\n",
    "print(ma.loc[:, (2, False, 'a')].ma)\n",
    "%timeit big_ma.loc[:, (2, False, 0)]"
   ]
  },
  {
   "cell_type": "code",
   "execution_count": 14,
   "metadata": {},
   "outputs": [
    {
     "name": "stdout",
     "output_type": "stream",
     "text": [
      "              a    b    c\n",
      "2018-01-01  NaN  NaN  NaN\n",
      "2018-01-02  1.5  NaN  1.5\n",
      "2018-01-03  2.5  5.5  2.5\n",
      "2018-01-04  3.5  4.5  NaN\n",
      "2018-01-05  4.5  3.5  NaN\n",
      "2018-01-06  5.5  2.5  2.5\n",
      "2018-01-07  NaN  1.5  1.5\n",
      "370 µs ± 4.93 µs per loop (mean ± std. dev. of 7 runs, 1000 loops each)\n",
      "              a    b    c\n",
      "2018-01-01  NaN  NaN  NaN\n",
      "2018-01-02  1.5  NaN  1.5\n",
      "2018-01-03  2.5  5.5  2.5\n",
      "2018-01-04  3.5  4.5  NaN\n",
      "2018-01-05  4.5  3.5  NaN\n",
      "2018-01-06  5.5  2.5  2.5\n",
      "2018-01-07  NaN  1.5  1.5\n",
      "10 ms ± 193 µs per loop (mean ± std. dev. of 7 runs, 100 loops each)\n"
     ]
    }
   ],
   "source": [
    "print(ma.ma.loc[:, (2, False)])\n",
    "%timeit big_ma.ts.loc[:, 2] # 1000 columns\n",
    "\n",
    "print(ma.loc[:, (2, False)].ma)\n",
    "%timeit big_ma.loc[:, 2]"
   ]
  },
  {
   "cell_type": "code",
   "execution_count": 15,
   "metadata": {},
   "outputs": [
    {
     "name": "stdout",
     "output_type": "stream",
     "text": [
      "ma_ewm     False          \n",
      "               a    b    c\n",
      "2018-01-01   NaN  NaN  NaN\n",
      "2018-01-02   1.5  NaN  1.5\n",
      "2018-01-03   2.5  5.5  2.5\n",
      "2018-01-04   3.5  4.5  NaN\n",
      "2018-01-05   4.5  3.5  NaN\n",
      "2018-01-06   5.5  2.5  2.5\n",
      "2018-01-07   NaN  1.5  1.5\n",
      "382 µs ± 2.9 µs per loop (mean ± std. dev. of 7 runs, 1000 loops each)\n",
      "ma_ewm     False          \n",
      "               a    b    c\n",
      "2018-01-01   NaN  NaN  NaN\n",
      "2018-01-02   1.5  NaN  1.5\n",
      "2018-01-03   2.5  5.5  2.5\n",
      "2018-01-04   3.5  4.5  NaN\n",
      "2018-01-05   4.5  3.5  NaN\n",
      "2018-01-06   5.5  2.5  2.5\n",
      "2018-01-07   NaN  1.5  1.5\n",
      "10.2 ms ± 149 µs per loop (mean ± std. dev. of 7 runs, 100 loops each)\n"
     ]
    }
   ],
   "source": [
    "print(ma.ma.xs(2, axis=1, level=0))\n",
    "%timeit big_ma.ts.xs(2, axis=1, level=0) # 1000 columns\n",
    "\n",
    "print(ma.xs(2, axis=1, level=0).ma)\n",
    "%timeit big_ma.xs(2, axis=1, level=0)"
   ]
  },
  {
   "cell_type": "markdown",
   "metadata": {},
   "source": [
    "### Parameter indexing"
   ]
  },
  {
   "cell_type": "code",
   "execution_count": 16,
   "metadata": {},
   "outputs": [
    {
     "name": "stdout",
     "output_type": "stream",
     "text": [
      "ma_window  ma_ewm   \n",
      "2          False   a    2\n",
      "                   b    2\n",
      "                   c    2\n",
      "3          True    a    3\n",
      "                   b    3\n",
      "                   c    3\n",
      "Name: ma_window, dtype: int64\n",
      "ma_ewm     False          \n",
      "               a    b    c\n",
      "2018-01-01   NaN  NaN  NaN\n",
      "2018-01-02   1.5  NaN  1.5\n",
      "2018-01-03   2.5  5.5  2.5\n",
      "2018-01-04   3.5  4.5  NaN\n",
      "2018-01-05   4.5  3.5  NaN\n",
      "2018-01-06   5.5  2.5  2.5\n",
      "2018-01-07   NaN  1.5  1.5\n",
      "ma_window      2                   3                    \n",
      "ma_ewm     False               True                     \n",
      "               a    b    c         a         b         c\n",
      "2018-01-01   NaN  NaN  NaN       NaN       NaN       NaN\n",
      "2018-01-02   1.5  NaN  1.5       NaN       NaN       NaN\n",
      "2018-01-03   2.5  5.5  2.5  2.428571  5.333333  2.428571\n",
      "2018-01-04   3.5  4.5  NaN  3.266667  4.571429  2.428571\n",
      "2018-01-05   4.5  3.5  NaN  4.161290  3.733333  2.826087\n",
      "2018-01-06   5.5  2.5  2.5  5.095238  2.838710  2.345455\n",
      "2018-01-07   NaN  1.5  1.5  5.095238  1.904762  1.621849\n",
      "ma_window      2                                        \n",
      "ma_ewm     False                                        \n",
      "               a    b    c    a    b    c    a    b    c\n",
      "2018-01-01   NaN  NaN  NaN  NaN  NaN  NaN  NaN  NaN  NaN\n",
      "2018-01-02   1.5  NaN  1.5  1.5  NaN  1.5  1.5  NaN  1.5\n",
      "2018-01-03   2.5  5.5  2.5  2.5  5.5  2.5  2.5  5.5  2.5\n",
      "2018-01-04   3.5  4.5  NaN  3.5  4.5  NaN  3.5  4.5  NaN\n",
      "2018-01-05   4.5  3.5  NaN  4.5  3.5  NaN  4.5  3.5  NaN\n",
      "2018-01-06   5.5  2.5  2.5  5.5  2.5  2.5  5.5  2.5  2.5\n",
      "2018-01-07   NaN  1.5  1.5  NaN  1.5  1.5  NaN  1.5  1.5\n"
     ]
    }
   ],
   "source": [
    "# Indexing by parameter\n",
    "print(ma._window_mapper)\n",
    "print(ma.window_loc[2].ma)\n",
    "print(ma.window_loc[2:4].ma)\n",
    "print(ma.window_loc[[2, 2, 2]].ma)"
   ]
  },
  {
   "cell_type": "code",
   "execution_count": 17,
   "metadata": {},
   "outputs": [
    {
     "name": "stdout",
     "output_type": "stream",
     "text": [
      "26.2 ms ± 259 µs per loop (mean ± std. dev. of 7 runs, 10 loops each)\n",
      "173 ms ± 6.49 ms per loop (mean ± std. dev. of 7 runs, 10 loops each)\n"
     ]
    }
   ],
   "source": [
    "%timeit big_ma.window_loc[2] # 1000 columns\n",
    "%timeit big_ma.window_loc[np.full(10, 2)] # 10000 columns"
   ]
  },
  {
   "cell_type": "code",
   "execution_count": 18,
   "metadata": {},
   "outputs": [
    {
     "name": "stdout",
     "output_type": "stream",
     "text": [
      "ma_window  ma_ewm   \n",
      "2          False   a    (2, False)\n",
      "                   b    (2, False)\n",
      "                   c    (2, False)\n",
      "3          True    a     (3, True)\n",
      "                   b     (3, True)\n",
      "                   c     (3, True)\n",
      "Name: (ma_window, ma_ewm), dtype: object\n",
      "              a    b    c\n",
      "2018-01-01  NaN  NaN  NaN\n",
      "2018-01-02  1.5  NaN  1.5\n",
      "2018-01-03  2.5  5.5  2.5\n",
      "2018-01-04  3.5  4.5  NaN\n",
      "2018-01-05  4.5  3.5  NaN\n",
      "2018-01-06  5.5  2.5  2.5\n",
      "2018-01-07  NaN  1.5  1.5\n",
      "ma_window      2                   3                    \n",
      "ma_ewm     False               True                     \n",
      "               a    b    c         a         b         c\n",
      "2018-01-01   NaN  NaN  NaN       NaN       NaN       NaN\n",
      "2018-01-02   1.5  NaN  1.5       NaN       NaN       NaN\n",
      "2018-01-03   2.5  5.5  2.5  2.428571  5.333333  2.428571\n",
      "2018-01-04   3.5  4.5  NaN  3.266667  4.571429  2.428571\n",
      "2018-01-05   4.5  3.5  NaN  4.161290  3.733333  2.826087\n",
      "2018-01-06   5.5  2.5  2.5  5.095238  2.838710  2.345455\n",
      "2018-01-07   NaN  1.5  1.5  5.095238  1.904762  1.621849\n"
     ]
    }
   ],
   "source": [
    "print(ma._tuple_mapper)\n",
    "print(ma.tuple_loc[(2, False)].ma)\n",
    "print(ma.tuple_loc[(2, False):(3, True)].ma)"
   ]
  },
  {
   "cell_type": "code",
   "execution_count": 19,
   "metadata": {},
   "outputs": [
    {
     "name": "stdout",
     "output_type": "stream",
     "text": [
      "29.9 ms ± 307 µs per loop (mean ± std. dev. of 7 runs, 10 loops each)\n",
      "178 ms ± 970 µs per loop (mean ± std. dev. of 7 runs, 10 loops each)\n"
     ]
    }
   ],
   "source": [
    "%timeit big_ma.tuple_loc[(2, False)]\n",
    "%timeit big_ma.tuple_loc[[(2, False)] * 10]"
   ]
  },
  {
   "cell_type": "markdown",
   "metadata": {},
   "source": [
    "### Comparison methods"
   ]
  },
  {
   "cell_type": "code",
   "execution_count": 20,
   "metadata": {},
   "outputs": [
    {
     "name": "stdout",
     "output_type": "stream",
     "text": [
      "ma_window       2                    3              \n",
      "ma_ewm      False                True               \n",
      "                a      b      c      a      b      c\n",
      "2018-01-01  False  False  False  False  False  False\n",
      "2018-01-02  False  False  False  False  False  False\n",
      "2018-01-03   True   True   True   True   True   True\n",
      "2018-01-04   True   True  False   True   True   True\n",
      "2018-01-05   True   True  False   True   True   True\n",
      "2018-01-06   True   True   True   True   True   True\n",
      "2018-01-07  False  False  False   True  False  False\n"
     ]
    },
    {
     "name": "stderr",
     "output_type": "stream",
     "text": [
      "/Users/olegpolakow/miniconda3/lib/python3.7/site-packages/ipykernel_launcher.py:1: RuntimeWarning:\n",
      "\n",
      "invalid value encountered in greater\n",
      "\n"
     ]
    },
    {
     "name": "stdout",
     "output_type": "stream",
     "text": [
      "74.1 ms ± 1.31 ms per loop (mean ± std. dev. of 7 runs, 1 loop each)\n",
      "ma_window       2                    3              \n",
      "ma_ewm      False                True               \n",
      "                a      b      c      a      b      c\n",
      "2018-01-01  False  False  False  False  False  False\n",
      "2018-01-02  False  False  False  False  False  False\n",
      "2018-01-03   True   True   True   True   True   True\n",
      "2018-01-04   True   True  False   True   True   True\n",
      "2018-01-05   True   True  False   True   True   True\n",
      "2018-01-06   True   True   True   True   True   True\n",
      "2018-01-07  False  False  False   True  False  False\n"
     ]
    },
    {
     "name": "stderr",
     "output_type": "stream",
     "text": [
      "/Users/olegpolakow/Documents/SourceTree/vectorbt/vectorbt/utils.py:1314: RuntimeWarning:\n",
      "\n",
      "invalid value encountered in greater\n",
      "\n"
     ]
    },
    {
     "name": "stdout",
     "output_type": "stream",
     "text": [
      "125 ms ± 1.41 ms per loop (mean ± std. dev. of 7 runs, 10 loops each)\n"
     ]
    }
   ],
   "source": [
    "print(ma.ma > 2)\n",
    "%timeit big_ma.ma.values > 2 # don't even try pandas\n",
    "\n",
    "print(ma.ma_above(2))\n",
    "%timeit big_ma.ma_above(2) # slower than numpy because of constructing dataframe"
   ]
  },
  {
   "cell_type": "code",
   "execution_count": 21,
   "metadata": {},
   "outputs": [
    {
     "name": "stdout",
     "output_type": "stream",
     "text": [
      "ma_window       2                    3                    2                \\\n",
      "ma_ewm      False                True                 False                 \n",
      "                a      b      c      a      b      c      a      b      c   \n",
      "2018-01-01  False  False  False  False  False  False  False  False  False   \n",
      "2018-01-02  False  False  False  False  False  False  False  False  False   \n",
      "2018-01-03   True   True   True   True   True   True  False   True  False   \n",
      "2018-01-04   True   True  False   True   True   True   True   True  False   \n",
      "2018-01-05   True   True  False   True   True   True   True   True  False   \n",
      "2018-01-06   True   True   True   True   True   True   True  False  False   \n",
      "2018-01-07  False  False  False   True  False  False  False  False  False   \n",
      "\n",
      "ma_window       3                \n",
      "ma_ewm      True                 \n",
      "                a      b      c  \n",
      "2018-01-01  False  False  False  \n",
      "2018-01-02  False  False  False  \n",
      "2018-01-03  False   True  False  \n",
      "2018-01-04   True   True  False  \n",
      "2018-01-05   True   True  False  \n",
      "2018-01-06   True  False  False  \n",
      "2018-01-07   True  False  False  \n"
     ]
    },
    {
     "name": "stderr",
     "output_type": "stream",
     "text": [
      "/Users/olegpolakow/miniconda3/lib/python3.7/site-packages/ipykernel_launcher.py:1: RuntimeWarning:\n",
      "\n",
      "invalid value encountered in greater\n",
      "\n"
     ]
    },
    {
     "name": "stdout",
     "output_type": "stream",
     "text": [
      "269 ms ± 4.8 ms per loop (mean ± std. dev. of 7 runs, 1 loop each)\n",
      "ma_above        2                                         3                \\\n",
      "ma_window       2                    3                    2                 \n",
      "ma_ewm      False                True                 False                 \n",
      "                a      b      c      a      b      c      a      b      c   \n",
      "2018-01-01  False  False  False  False  False  False  False  False  False   \n",
      "2018-01-02  False  False  False  False  False  False  False  False  False   \n",
      "2018-01-03   True   True   True   True   True   True  False   True  False   \n",
      "2018-01-04   True   True  False   True   True   True   True   True  False   \n",
      "2018-01-05   True   True  False   True   True   True   True   True  False   \n",
      "2018-01-06   True   True   True   True   True   True   True  False  False   \n",
      "2018-01-07  False  False  False   True  False  False  False  False  False   \n",
      "\n",
      "ma_above                         \n",
      "ma_window       3                \n",
      "ma_ewm      True                 \n",
      "                a      b      c  \n",
      "2018-01-01  False  False  False  \n",
      "2018-01-02  False  False  False  \n",
      "2018-01-03  False   True  False  \n",
      "2018-01-04   True   True  False  \n",
      "2018-01-05   True   True  False  \n",
      "2018-01-06   True  False  False  \n",
      "2018-01-07   True  False  False  \n"
     ]
    },
    {
     "name": "stderr",
     "output_type": "stream",
     "text": [
      "/Users/olegpolakow/Documents/SourceTree/vectorbt/vectorbt/utils.py:1095: RuntimeWarning:\n",
      "\n",
      "invalid value encountered in greater\n",
      "\n"
     ]
    },
    {
     "name": "stdout",
     "output_type": "stream",
     "text": [
      "673 ms ± 69 ms per loop (mean ± std. dev. of 7 runs, 1 loop each)\n"
     ]
    }
   ],
   "source": [
    "print(pd.concat((ma.ma > 2, ma.ma > 3), axis=1))\n",
    "%timeit np.hstack((big_ma.ma.values > 2, big_ma.ma.values > 3))\n",
    "\n",
    "print(ma.ma_above([2, 3], multiple=True))\n",
    "%timeit big_ma.ma_above([2, 3], multiple=True)"
   ]
  },
  {
   "cell_type": "code",
   "execution_count": 7,
   "metadata": {},
   "outputs": [
    {
     "data": {
      "image/png": "[encoded data removed]"
     },
     "metadata": {},
     "output_type": "display_data"
    }
   ],
   "source": [
    "ma[(2, False, 'a')].plot().show_png()"
   ]
  },
  {
   "cell_type": "markdown",
   "metadata": {},
   "source": [
    "## DMAC"
   ]
  },
  {
   "cell_type": "code",
   "execution_count": 6,
   "metadata": {},
   "outputs": [
    {
     "name": "stdout",
     "output_type": "stream",
     "text": [
      "2018-01-01    NaN\n",
      "2018-01-02    1.5\n",
      "2018-01-03    2.5\n",
      "2018-01-04    3.5\n",
      "2018-01-05    4.5\n",
      "2018-01-06    5.5\n",
      "2018-01-07    NaN\n",
      "Name: a, dtype: float64\n",
      "              a    b    c\n",
      "2018-01-01  NaN  NaN  NaN\n",
      "2018-01-02  1.5  NaN  1.5\n",
      "2018-01-03  2.5  5.5  2.5\n",
      "2018-01-04  3.5  4.5  NaN\n",
      "2018-01-05  4.5  3.5  NaN\n",
      "2018-01-06  5.5  2.5  2.5\n",
      "2018-01-07  NaN  1.5  1.5\n",
      "dmac_fast_window     2                          \n",
      "dmac_fast_ewm    False                          \n",
      "dmac_slow_window     3               4          \n",
      "dmac_slow_ewm    False           False          \n",
      "                     a    b    c     a    b    c\n",
      "2018-01-01         NaN  NaN  NaN   NaN  NaN  NaN\n",
      "2018-01-02         1.5  NaN  1.5   1.5  NaN  1.5\n",
      "2018-01-03         2.5  5.5  2.5   2.5  5.5  2.5\n",
      "2018-01-04         3.5  4.5  NaN   3.5  4.5  NaN\n",
      "2018-01-05         4.5  3.5  NaN   4.5  3.5  NaN\n",
      "2018-01-06         5.5  2.5  2.5   5.5  2.5  2.5\n",
      "2018-01-07         NaN  1.5  1.5   NaN  1.5  1.5\n",
      "dmac_fast_window     2                                        \n",
      "dmac_fast_ewm    False               True                     \n",
      "dmac_slow_window     3                   4                    \n",
      "dmac_slow_ewm    False               False                    \n",
      "                     a    b    c         a         b         c\n",
      "2018-01-01         NaN  NaN  NaN       NaN       NaN       NaN\n",
      "2018-01-02         1.5  NaN  1.5  1.750000  6.000000  1.750000\n",
      "2018-01-03         2.5  5.5  2.5  2.615385  5.250000  2.615385\n",
      "2018-01-04         3.5  4.5  NaN  3.550000  4.384615  2.615385\n",
      "2018-01-05         4.5  3.5  NaN  4.520661  3.450000  2.946809\n",
      "2018-01-06         5.5  2.5  2.5  5.508242  2.479339  2.264095\n",
      "2018-01-07         NaN  1.5  1.5  5.508242  1.491758  1.399625\n",
      "dmac_fast_window     2                                                \\\n",
      "dmac_fast_ewm    False                               True              \n",
      "dmac_slow_window     3               4                   3             \n",
      "dmac_slow_ewm    False           False               False             \n",
      "                     a    b    c     a    b    c         a         b   \n",
      "2018-01-01         NaN  NaN  NaN   NaN  NaN  NaN       NaN       NaN   \n",
      "2018-01-02         1.5  NaN  1.5   1.5  NaN  1.5  1.750000  6.000000   \n",
      "2018-01-03         2.5  5.5  2.5   2.5  5.5  2.5  2.615385  5.250000   \n",
      "2018-01-04         3.5  4.5  NaN   3.5  4.5  NaN  3.550000  4.384615   \n",
      "2018-01-05         4.5  3.5  NaN   4.5  3.5  NaN  4.520661  3.450000   \n",
      "2018-01-06         5.5  2.5  2.5   5.5  2.5  2.5  5.508242  2.479339   \n",
      "2018-01-07         NaN  1.5  1.5   NaN  1.5  1.5  5.508242  1.491758   \n",
      "\n",
      "dmac_fast_window                                          \n",
      "dmac_fast_ewm                                             \n",
      "dmac_slow_window                   4                      \n",
      "dmac_slow_ewm                  False                      \n",
      "                         c         a         b         c  \n",
      "2018-01-01             NaN       NaN       NaN       NaN  \n",
      "2018-01-02        1.750000  1.750000  6.000000  1.750000  \n",
      "2018-01-03        2.615385  2.615385  5.250000  2.615385  \n",
      "2018-01-04        2.615385  3.550000  4.384615  2.615385  \n",
      "2018-01-05        2.946809  4.520661  3.450000  2.946809  \n",
      "2018-01-06        2.264095  5.508242  2.479339  2.264095  \n",
      "2018-01-07        1.399625  5.508242  1.491758  1.399625  \n"
     ]
    }
   ],
   "source": [
    "print(vbt.DMAC.from_params(ts['a'], 2, 3).fast_ma)\n",
    "print(vbt.DMAC.from_params(ts, 2, 3).fast_ma)\n",
    "print(vbt.DMAC.from_params(ts, 2, [3, 4], fast_ewm=False, slow_ewm=False).fast_ma)\n",
    "print(vbt.DMAC.from_params(ts, 2, [3, 4], fast_ewm=[False, True], slow_ewm=False).fast_ma)\n",
    "print(vbt.DMAC.from_params(ts, 2, [3, 4], fast_ewm=[False, True], slow_ewm=False, param_product=True).fast_ma)"
   ]
  },
  {
   "cell_type": "code",
   "execution_count": 24,
   "metadata": {},
   "outputs": [
    {
     "name": "stdout",
     "output_type": "stream",
     "text": [
      "[2 2 2 2 2 2 2 3 3 3 3 3 3 4 4 4 4 4 5 5 5 5 6 6 6 7 7 8] [3 4 5 6 7 8 9 4 5 6 7 8 9 5 6 7 8 9 6 7 8 9 7 8 9 8 9 9]\n",
      "834 ms ± 57.4 ms per loop (mean ± std. dev. of 7 runs, 1 loop each)\n",
      "598 ms ± 6.45 ms per loop (mean ± std. dev. of 7 runs, 1 loop each)\n"
     ]
    }
   ],
   "source": [
    "comb = itertools.combinations(np.arange(2, 10), 2)\n",
    "fast_windows, slow_windows = np.asarray(list(comb)).transpose()\n",
    "print(fast_windows, slow_windows)\n",
    "\n",
    "%timeit vbt.MA.from_params(big_ts, fast_windows), vbt.MA.from_params(big_ts, slow_windows) # naive way\n",
    "%timeit vbt.DMAC.from_combinations(big_ts, np.arange(2, 10)) # performs caching -> faster"
   ]
  },
  {
   "cell_type": "code",
   "execution_count": 8,
   "metadata": {},
   "outputs": [
    {
     "name": "stdout",
     "output_type": "stream",
     "text": [
      "dmac_fast_window     2                               3          \n",
      "dmac_fast_ewm    False                           False          \n",
      "dmac_slow_window     3               4               4          \n",
      "dmac_slow_ewm    False           True            True           \n",
      "                     a    b    c     a    b    c     a    b    c\n",
      "2018-01-01         NaN  NaN  NaN   NaN  NaN  NaN   NaN  NaN  NaN\n",
      "2018-01-02         1.5  NaN  1.5   1.5  NaN  1.5   NaN  NaN  NaN\n",
      "2018-01-03         2.5  5.5  2.5   2.5  5.5  2.5   2.0  NaN  2.0\n",
      "2018-01-04         3.5  4.5  NaN   3.5  4.5  NaN   3.0  5.0  NaN\n",
      "2018-01-05         4.5  3.5  NaN   4.5  3.5  NaN   4.0  4.0  NaN\n",
      "2018-01-06         5.5  2.5  2.5   5.5  2.5  2.5   5.0  3.0  NaN\n",
      "2018-01-07         NaN  1.5  1.5   NaN  1.5  1.5   NaN  2.0  2.0\n",
      "dmac_fast_window     2                                                 3  \\\n",
      "dmac_fast_ewm    False                                             False   \n",
      "dmac_slow_window     3                   4                             4   \n",
      "dmac_slow_ewm    False               True                          True    \n",
      "                     a    b    c         a         b         c         a   \n",
      "2018-01-01         NaN  NaN  NaN       NaN       NaN       NaN       NaN   \n",
      "2018-01-02         NaN  NaN  NaN       NaN       NaN       NaN       NaN   \n",
      "2018-01-03         2.0  NaN  2.0       NaN       NaN       NaN       NaN   \n",
      "2018-01-04         3.0  5.0  NaN  3.095588  4.673469  2.326531  3.095588   \n",
      "2018-01-05         4.0  4.0  NaN  3.921582  3.904412  2.721388  3.921582   \n",
      "2018-01-06         5.0  3.0  NaN  4.793636  3.078418  2.364858  4.793636   \n",
      "2018-01-07         NaN  2.0  2.0  4.793636  2.206364  1.748396  4.793636   \n",
      "\n",
      "dmac_fast_window                      \n",
      "dmac_fast_ewm                         \n",
      "dmac_slow_window                      \n",
      "dmac_slow_ewm                         \n",
      "                         b         c  \n",
      "2018-01-01             NaN       NaN  \n",
      "2018-01-02             NaN       NaN  \n",
      "2018-01-03             NaN       NaN  \n",
      "2018-01-04        4.673469  2.326531  \n",
      "2018-01-05        3.904412  2.721388  \n",
      "2018-01-06        3.078418  2.364858  \n",
      "2018-01-07        2.206364  1.748396  \n"
     ]
    }
   ],
   "source": [
    "dmac = vbt.DMAC.from_combinations(ts, [2, 3, 4], [False, False, True])\n",
    "\n",
    "print(dmac.fast_ma)\n",
    "print(dmac.slow_ma)"
   ]
  },
  {
   "cell_type": "code",
   "execution_count": 26,
   "metadata": {},
   "outputs": [
    {
     "name": "stderr",
     "output_type": "stream",
     "text": [
      "/Users/olegpolakow/Documents/SourceTree/vectorbt/vectorbt/utils.py:1314: RuntimeWarning:\n",
      "\n",
      "invalid value encountered in greater\n",
      "\n",
      "/Users/olegpolakow/Documents/SourceTree/vectorbt/vectorbt/utils.py:1314: RuntimeWarning:\n",
      "\n",
      "invalid value encountered in less\n",
      "\n"
     ]
    },
    {
     "data": {
      "text/plain": [
       "(dmac_fast_window      2                                         3         \\\n",
       " dmac_fast_ewm     False                                     False          \n",
       " dmac_slow_window      3                    4                    4          \n",
       " dmac_slow_ewm     False                True                 True           \n",
       "                       a      b      c      a      b      c      a      b   \n",
       " 2018-01-01        False  False  False  False  False  False  False  False   \n",
       " 2018-01-02        False  False  False  False  False  False  False  False   \n",
       " 2018-01-03         True  False   True  False  False  False  False  False   \n",
       " 2018-01-04        False  False  False   True  False  False  False   True   \n",
       " 2018-01-05        False  False  False  False  False  False   True  False   \n",
       " 2018-01-06        False  False  False  False  False   True  False  False   \n",
       " 2018-01-07        False  False  False  False  False  False  False  False   \n",
       " \n",
       " dmac_fast_window         \n",
       " dmac_fast_ewm            \n",
       " dmac_slow_window         \n",
       " dmac_slow_ewm            \n",
       "                       c  \n",
       " 2018-01-01        False  \n",
       " 2018-01-02        False  \n",
       " 2018-01-03        False  \n",
       " 2018-01-04        False  \n",
       " 2018-01-05        False  \n",
       " 2018-01-06        False  \n",
       " 2018-01-07         True  ,\n",
       " dmac_fast_window      2                                         3         \\\n",
       " dmac_fast_ewm     False                                     False          \n",
       " dmac_slow_window      3                    4                    4          \n",
       " dmac_slow_ewm     False                True                 True           \n",
       "                       a      b      c      a      b      c      a      b   \n",
       " 2018-01-01        False  False  False  False  False  False  False  False   \n",
       " 2018-01-02        False  False  False  False  False  False  False  False   \n",
       " 2018-01-03        False  False  False  False  False  False  False  False   \n",
       " 2018-01-04        False   True  False  False   True  False   True  False   \n",
       " 2018-01-05        False  False  False  False  False  False  False  False   \n",
       " 2018-01-06        False  False  False  False  False  False  False   True   \n",
       " 2018-01-07        False  False   True  False  False   True  False  False   \n",
       " \n",
       " dmac_fast_window         \n",
       " dmac_fast_ewm            \n",
       " dmac_slow_window         \n",
       " dmac_slow_ewm            \n",
       "                       c  \n",
       " 2018-01-01        False  \n",
       " 2018-01-02        False  \n",
       " 2018-01-03        False  \n",
       " 2018-01-04        False  \n",
       " 2018-01-05        False  \n",
       " 2018-01-06        False  \n",
       " 2018-01-07        False  )"
      ]
     },
     "execution_count": 26,
     "metadata": {},
     "output_type": "execute_result"
    }
   ],
   "source": [
    "dmac.crossover()"
   ]
  },
  {
   "cell_type": "code",
   "execution_count": 9,
   "metadata": {},
   "outputs": [
    {
     "data": {
      "image/png": "[encoded data removed]"
     },
     "metadata": {},
     "output_type": "display_data"
    }
   ],
   "source": [
    "dmac[(2, False, 3, False, 'a')].plot().show_png()"
   ]
  },
  {
   "cell_type": "markdown",
   "metadata": {},
   "source": [
    "## MSTD"
   ]
  },
  {
   "cell_type": "code",
   "execution_count": 7,
   "metadata": {},
   "outputs": [
    {
     "name": "stdout",
     "output_type": "stream",
     "text": [
      "2018-01-01         NaN\n",
      "2018-01-02    0.707107\n",
      "2018-01-03    0.707107\n",
      "2018-01-04    0.707107\n",
      "2018-01-05    0.707107\n",
      "2018-01-06    0.707107\n",
      "2018-01-07         NaN\n",
      "Name: a, dtype: float64\n",
      "                   a         b         c\n",
      "2018-01-01       NaN       NaN       NaN\n",
      "2018-01-02  0.707107       NaN  0.707107\n",
      "2018-01-03  0.707107  0.707107  0.707107\n",
      "2018-01-04  0.707107  0.707107       NaN\n",
      "2018-01-05  0.707107  0.707107       NaN\n",
      "2018-01-06  0.707107  0.707107  0.707107\n",
      "2018-01-07       NaN  0.707107  0.707107\n",
      "mstd_window         2                         3          \n",
      "mstd_ewm        False                     False          \n",
      "                    a         b         c     a    b    c\n",
      "2018-01-01        NaN       NaN       NaN   NaN  NaN  NaN\n",
      "2018-01-02   0.707107       NaN  0.707107   NaN  NaN  NaN\n",
      "2018-01-03   0.707107  0.707107  0.707107   1.0  NaN  1.0\n",
      "2018-01-04   0.707107  0.707107       NaN   1.0  1.0  NaN\n",
      "2018-01-05   0.707107  0.707107       NaN   1.0  1.0  NaN\n",
      "2018-01-06   0.707107  0.707107  0.707107   1.0  1.0  NaN\n",
      "2018-01-07        NaN  0.707107  0.707107   NaN  1.0  1.0\n",
      "mstd_window         2                             3                    \n",
      "mstd_ewm        False                         True                     \n",
      "                    a         b         c         a         b         c\n",
      "2018-01-01        NaN       NaN       NaN       NaN       NaN       NaN\n",
      "2018-01-02   0.707107       NaN  0.707107       NaN       NaN       NaN\n",
      "2018-01-03   0.707107  0.707107  0.707107  0.963624  0.707107  0.963624\n",
      "2018-01-04   0.707107  0.707107       NaN  1.177164  0.963624  0.963624\n",
      "2018-01-05   0.707107  0.707107       NaN  1.345243  1.177164  0.695792\n",
      "2018-01-06   0.707107  0.707107  0.707107  1.470916  1.345243  0.678643\n",
      "2018-01-07        NaN  0.707107  0.707107  1.470916  1.470916  0.960778\n",
      "mstd_window         2                                                       3  \\\n",
      "mstd_ewm        False                         True                      False   \n",
      "                    a         b         c         a         b         c     a   \n",
      "2018-01-01        NaN       NaN       NaN       NaN       NaN       NaN   NaN   \n",
      "2018-01-02   0.707107       NaN  0.707107  0.707107       NaN  0.707107   NaN   \n",
      "2018-01-03   0.707107  0.707107  0.707107  0.919866  0.707107  0.919866   1.0   \n",
      "2018-01-04   0.707107  0.707107       NaN  1.059753  0.919866  0.919866   1.0   \n",
      "2018-01-05   0.707107  0.707107       NaN  1.141624  1.059753  0.538363   1.0   \n",
      "2018-01-06   0.707107  0.707107  0.707107  1.185252  1.141624  0.689334   1.0   \n",
      "2018-01-07        NaN  0.707107  0.707107  1.185252  1.185252  0.928157   NaN   \n",
      "\n",
      "mstd_window                                          \n",
      "mstd_ewm                  True                       \n",
      "               b    c         a         b         c  \n",
      "2018-01-01   NaN  NaN       NaN       NaN       NaN  \n",
      "2018-01-02   NaN  NaN       NaN       NaN       NaN  \n",
      "2018-01-03   NaN  1.0  0.963624  0.707107  0.963624  \n",
      "2018-01-04   1.0  NaN  1.177164  0.963624  0.963624  \n",
      "2018-01-05   1.0  NaN  1.345243  1.177164  0.695792  \n",
      "2018-01-06   1.0  NaN  1.470916  1.345243  0.678643  \n",
      "2018-01-07   1.0  1.0  1.470916  1.470916  0.960778  \n"
     ]
    }
   ],
   "source": [
    "print(vbt.MSTD.from_params(ts['a'], 2).mstd)\n",
    "print(vbt.MSTD.from_params(ts, 2).mstd)\n",
    "print(vbt.MSTD.from_params(ts, [2, 3], ewm=False).mstd)\n",
    "print(vbt.MSTD.from_params(ts, [2, 3], ewm=[False, True]).mstd)\n",
    "print(vbt.MSTD.from_params(ts, [2, 3], ewm=[False, True], param_product=True).mstd)"
   ]
  },
  {
   "cell_type": "code",
   "execution_count": 29,
   "metadata": {},
   "outputs": [
    {
     "name": "stdout",
     "output_type": "stream",
     "text": [
      "57.8 ms ± 5.43 ms per loop (mean ± std. dev. of 7 runs, 10 loops each)\n",
      "26 ms ± 622 µs per loop (mean ± std. dev. of 7 runs, 10 loops each)\n",
      "(1000, 1000)\n"
     ]
    }
   ],
   "source": [
    "# One window\n",
    "%timeit big_ts.rolling(2).std()\n",
    "%timeit vbt.MSTD.from_params(big_ts, 2)\n",
    "\n",
    "print(vbt.MSTD.from_params(big_ts, 2).mstd.shape)"
   ]
  },
  {
   "cell_type": "code",
   "execution_count": 30,
   "metadata": {},
   "outputs": [
    {
     "name": "stdout",
     "output_type": "stream",
     "text": [
      "6.1 s ± 24.1 ms per loop (mean ± std. dev. of 7 runs, 1 loop each)\n",
      "3.03 s ± 9.93 ms per loop (mean ± std. dev. of 7 runs, 1 loop each)\n",
      "(1000, 98000)\n"
     ]
    }
   ],
   "source": [
    "# Multiple windows\n",
    "%timeit pd.concat([big_ts.rolling(i).std() for i in np.arange(2, 100)])\n",
    "%timeit vbt.MSTD.from_params(big_ts, np.arange(2, 100))\n",
    "\n",
    "print(vbt.MSTD.from_params(big_ts, np.arange(2, 100)).mstd.shape)"
   ]
  },
  {
   "cell_type": "code",
   "execution_count": 31,
   "metadata": {},
   "outputs": [
    {
     "name": "stdout",
     "output_type": "stream",
     "text": [
      "1.07 s ± 86 ms per loop (mean ± std. dev. of 7 runs, 1 loop each)\n",
      "(1000, 100000)\n"
     ]
    }
   ],
   "source": [
    "# One window repeated\n",
    "%timeit vbt.MA.from_params(big_ts, np.full(100, 2))\n",
    "\n",
    "print(vbt.MSTD.from_params(big_ts, np.full(100, 2)).mstd.shape)"
   ]
  },
  {
   "cell_type": "code",
   "execution_count": 10,
   "metadata": {},
   "outputs": [
    {
     "name": "stdout",
     "output_type": "stream",
     "text": [
      "mstd_window         2                             3                    \n",
      "mstd_ewm        False                         True                     \n",
      "                    a         b         c         a         b         c\n",
      "2018-01-01        NaN       NaN       NaN       NaN       NaN       NaN\n",
      "2018-01-02   0.707107       NaN  0.707107       NaN       NaN       NaN\n",
      "2018-01-03   0.707107  0.707107  0.707107  0.963624  0.707107  0.963624\n",
      "2018-01-04   0.707107  0.707107       NaN  1.177164  0.963624  0.963624\n",
      "2018-01-05   0.707107  0.707107       NaN  1.345243  1.177164  0.695792\n",
      "2018-01-06   0.707107  0.707107  0.707107  1.470916  1.345243  0.678643\n",
      "2018-01-07        NaN  0.707107  0.707107  1.470916  1.470916  0.960778\n"
     ]
    }
   ],
   "source": [
    "mstd = vbt.MSTD.from_params(ts, [2, 3], [False, True])\n",
    "\n",
    "print(mstd.mstd)"
   ]
  },
  {
   "cell_type": "code",
   "execution_count": 11,
   "metadata": {},
   "outputs": [
    {
     "data": {
      "image/png": "[encoded data removed]"
     },
     "metadata": {},
     "output_type": "display_data"
    }
   ],
   "source": [
    "mstd[(2, False, 'a')].plot().show_png()"
   ]
  },
  {
   "cell_type": "markdown",
   "metadata": {},
   "source": [
    "## BollingerBands"
   ]
  },
  {
   "cell_type": "code",
   "execution_count": 8,
   "metadata": {},
   "outputs": [
    {
     "name": "stdout",
     "output_type": "stream",
     "text": [
      "              a    b    c\n",
      "2018-01-01  NaN  NaN  NaN\n",
      "2018-01-02  1.5  NaN  1.5\n",
      "2018-01-03  2.5  5.5  2.5\n",
      "2018-01-04  3.5  4.5  NaN\n",
      "2018-01-05  4.5  3.5  NaN\n",
      "2018-01-06  5.5  2.5  2.5\n",
      "2018-01-07  NaN  1.5  1.5\n",
      "bb_window      2               3          \n",
      "bb_ewm     False           False          \n",
      "bb_alpha     1.5             1.5          \n",
      "               a    b    c     a    b    c\n",
      "2018-01-01   NaN  NaN  NaN   NaN  NaN  NaN\n",
      "2018-01-02   1.5  NaN  1.5   NaN  NaN  NaN\n",
      "2018-01-03   2.5  5.5  2.5   2.0  NaN  2.0\n",
      "2018-01-04   3.5  4.5  NaN   3.0  5.0  NaN\n",
      "2018-01-05   4.5  3.5  NaN   4.0  4.0  NaN\n",
      "2018-01-06   5.5  2.5  2.5   5.0  3.0  NaN\n",
      "2018-01-07   NaN  1.5  1.5   NaN  2.0  2.0\n",
      "bb_window      2                   3                    \n",
      "bb_ewm     False               True                     \n",
      "bb_alpha     1.0                 2.0                    \n",
      "               a    b    c         a         b         c\n",
      "2018-01-01   NaN  NaN  NaN       NaN       NaN       NaN\n",
      "2018-01-02   1.5  NaN  1.5       NaN       NaN       NaN\n",
      "2018-01-03   2.5  5.5  2.5  2.428571  5.333333  2.428571\n",
      "2018-01-04   3.5  4.5  NaN  3.266667  4.571429  2.428571\n",
      "2018-01-05   4.5  3.5  NaN  4.161290  3.733333  2.826087\n",
      "2018-01-06   5.5  2.5  2.5  5.095238  2.838710  2.345455\n",
      "2018-01-07   NaN  1.5  1.5  5.095238  1.904762  1.621849\n",
      "bb_window      2                                                         \\\n",
      "bb_ewm     False                              True                        \n",
      "bb_alpha     1.0            2.0                 1.0                       \n",
      "               a    b    c    a    b    c         a         b         c   \n",
      "2018-01-01   NaN  NaN  NaN  NaN  NaN  NaN       NaN       NaN       NaN   \n",
      "2018-01-02   1.5  NaN  1.5  1.5  NaN  1.5  1.750000  6.000000  1.750000   \n",
      "2018-01-03   2.5  5.5  2.5  2.5  5.5  2.5  2.615385  5.250000  2.615385   \n",
      "2018-01-04   3.5  4.5  NaN  3.5  4.5  NaN  3.550000  4.384615  2.615385   \n",
      "2018-01-05   4.5  3.5  NaN  4.5  3.5  NaN  4.520661  3.450000  2.946809   \n",
      "2018-01-06   5.5  2.5  2.5  5.5  2.5  2.5  5.508242  2.479339  2.264095   \n",
      "2018-01-07   NaN  1.5  1.5  NaN  1.5  1.5  5.508242  1.491758  1.399625   \n",
      "\n",
      "bb_window             ...     3                                               \\\n",
      "bb_ewm                ... False                    True                        \n",
      "bb_alpha         2.0  ...   1.0  2.0                 1.0                       \n",
      "                   a  ...     c    a    b    c         a         b         c   \n",
      "2018-01-01       NaN  ...   NaN  NaN  NaN  NaN       NaN       NaN       NaN   \n",
      "2018-01-02  1.750000  ...   NaN  NaN  NaN  NaN       NaN       NaN       NaN   \n",
      "2018-01-03  2.615385  ...   2.0  2.0  NaN  2.0  2.428571  5.333333  2.428571   \n",
      "2018-01-04  3.550000  ...   NaN  3.0  5.0  NaN  3.266667  4.571429  2.428571   \n",
      "2018-01-05  4.520661  ...   NaN  4.0  4.0  NaN  4.161290  3.733333  2.826087   \n",
      "2018-01-06  5.508242  ...   NaN  5.0  3.0  NaN  5.095238  2.838710  2.345455   \n",
      "2018-01-07  5.508242  ...   2.0  NaN  2.0  2.0  5.095238  1.904762  1.621849   \n",
      "\n",
      "bb_window                                 \n",
      "bb_ewm                                    \n",
      "bb_alpha         2.0                      \n",
      "                   a         b         c  \n",
      "2018-01-01       NaN       NaN       NaN  \n",
      "2018-01-02       NaN       NaN       NaN  \n",
      "2018-01-03  2.428571  5.333333  2.428571  \n",
      "2018-01-04  3.266667  4.571429  2.428571  \n",
      "2018-01-05  4.161290  3.733333  2.826087  \n",
      "2018-01-06  5.095238  2.838710  2.345455  \n",
      "2018-01-07  5.095238  1.904762  1.621849  \n",
      "\n",
      "[7 rows x 24 columns]\n"
     ]
    }
   ],
   "source": [
    "print(vbt.BollingerBands.from_params(ts, window=2, alpha=1).middle_band)\n",
    "print(vbt.BollingerBands.from_params(ts, window=[2, 3], ewm=False, alpha=1.5).middle_band)\n",
    "print(vbt.BollingerBands.from_params(ts, window=[2, 3], ewm=[False, True], alpha=[1, 2]).middle_band)\n",
    "print(vbt.BollingerBands.from_params(ts, window=[2, 3], ewm=[False, True], alpha=[1, 2], param_product=True).middle_band)"
   ]
  },
  {
   "cell_type": "code",
   "execution_count": 35,
   "metadata": {},
   "outputs": [
    {
     "name": "stdout",
     "output_type": "stream",
     "text": [
      "56.3 ms ± 3.98 ms per loop (mean ± std. dev. of 7 runs, 1 loop each)\n",
      "(1000, 1000)\n"
     ]
    }
   ],
   "source": [
    "# One window\n",
    "%timeit vbt.BollingerBands.from_params(big_ts)\n",
    "\n",
    "print(vbt.BollingerBands.from_params(big_ts).ts.shape)"
   ]
  },
  {
   "cell_type": "code",
   "execution_count": 36,
   "metadata": {},
   "outputs": [
    {
     "name": "stdout",
     "output_type": "stream",
     "text": [
      "8.98 s ± 1.35 s per loop (mean ± std. dev. of 7 runs, 1 loop each)\n",
      "(1000, 98000)\n"
     ]
    }
   ],
   "source": [
    "# Multiple windows\n",
    "%timeit vbt.BollingerBands.from_params(big_ts, window=np.arange(2, 100))\n",
    "\n",
    "print(vbt.BollingerBands.from_params(big_ts, window=np.arange(2, 100)).ts.shape)"
   ]
  },
  {
   "cell_type": "code",
   "execution_count": 37,
   "metadata": {},
   "outputs": [
    {
     "name": "stdout",
     "output_type": "stream",
     "text": [
      "2.92 s ± 13.8 ms per loop (mean ± std. dev. of 7 runs, 1 loop each)\n",
      "(1000, 100000)\n"
     ]
    }
   ],
   "source": [
    "# One window repeated\n",
    "%timeit vbt.BollingerBands.from_params(big_ts, window=np.full(100, 2))\n",
    "\n",
    "print(vbt.BollingerBands.from_params(big_ts, window=np.full(100, 2)).ts.shape)"
   ]
  },
  {
   "cell_type": "code",
   "execution_count": 12,
   "metadata": {},
   "outputs": [
    {
     "name": "stdout",
     "output_type": "stream",
     "text": [
      "bb_window          2                                                  \n",
      "bb_ewm         False                                                  \n",
      "bb_alpha         1.0                           2.0                    \n",
      "                   a         b         c         a         b         c\n",
      "2018-01-01       NaN       NaN       NaN       NaN       NaN       NaN\n",
      "2018-01-02  2.207107       NaN  2.207107  2.914214       NaN  2.914214\n",
      "2018-01-03  3.207107  6.207107  3.207107  3.914214  6.914214  3.914214\n",
      "2018-01-04  4.207107  5.207107       NaN  4.914214  5.914214       NaN\n",
      "2018-01-05  5.207107  4.207107       NaN  5.914214  4.914214       NaN\n",
      "2018-01-06  6.207107  3.207107  3.207107  6.914214  3.914214  3.914214\n",
      "2018-01-07       NaN  2.207107  2.207107       NaN  2.914214  2.914214\n",
      "\n",
      "bb_window      2                         \n",
      "bb_ewm     False                         \n",
      "bb_alpha     1.0            2.0          \n",
      "               a    b    c    a    b    c\n",
      "2018-01-01   NaN  NaN  NaN  NaN  NaN  NaN\n",
      "2018-01-02   1.5  NaN  1.5  1.5  NaN  1.5\n",
      "2018-01-03   2.5  5.5  2.5  2.5  5.5  2.5\n",
      "2018-01-04   3.5  4.5  NaN  3.5  4.5  NaN\n",
      "2018-01-05   4.5  3.5  NaN  4.5  3.5  NaN\n",
      "2018-01-06   5.5  2.5  2.5  5.5  2.5  2.5\n",
      "2018-01-07   NaN  1.5  1.5  NaN  1.5  1.5\n",
      "\n",
      "bb_window          2                                                  \n",
      "bb_ewm         False                                                  \n",
      "bb_alpha         1.0                           2.0                    \n",
      "                   a         b         c         a         b         c\n",
      "2018-01-01       NaN       NaN       NaN       NaN       NaN       NaN\n",
      "2018-01-02  0.792893       NaN  0.792893  0.085786       NaN  0.085786\n",
      "2018-01-03  1.792893  4.792893  1.792893  1.085786  4.085786  1.085786\n",
      "2018-01-04  2.792893  3.792893       NaN  2.085786  3.085786       NaN\n",
      "2018-01-05  3.792893  2.792893       NaN  3.085786  2.085786       NaN\n",
      "2018-01-06  4.792893  1.792893  1.792893  4.085786  1.085786  1.085786\n",
      "2018-01-07       NaN  0.792893  0.792893       NaN  0.085786  0.085786\n",
      "\n",
      "bb_window          2                                                  \n",
      "bb_ewm         False                                                  \n",
      "bb_alpha         1.0                           2.0                    \n",
      "                   a         b         c         a         b         c\n",
      "2018-01-01       NaN       NaN       NaN       NaN       NaN       NaN\n",
      "2018-01-02  0.853553       NaN  0.853553  0.676777       NaN  0.676777\n",
      "2018-01-03  0.853553  0.146447  0.853553  0.676777  0.323223  0.676777\n",
      "2018-01-04  0.853553  0.146447       NaN  0.676777  0.323223       NaN\n",
      "2018-01-05  0.853553  0.146447       NaN  0.676777  0.323223       NaN\n",
      "2018-01-06  0.853553  0.146447  0.146447  0.676777  0.323223  0.323223\n",
      "2018-01-07       NaN  0.146447  0.146447       NaN  0.323223  0.323223\n",
      "\n",
      "bb_window          2                                                  \n",
      "bb_ewm         False                                                  \n",
      "bb_alpha         1.0                           2.0                    \n",
      "                   a         b         c         a         b         c\n",
      "2018-01-01       NaN       NaN       NaN       NaN       NaN       NaN\n",
      "2018-01-02  0.853553       NaN  0.853553  0.676777       NaN  0.676777\n",
      "2018-01-03  0.853553  0.146447  0.853553  0.676777  0.323223  0.676777\n",
      "2018-01-04  0.853553  0.146447       NaN  0.676777  0.323223       NaN\n",
      "2018-01-05  0.853553  0.146447       NaN  0.676777  0.323223       NaN\n",
      "2018-01-06  0.853553  0.146447  0.146447  0.676777  0.323223  0.323223\n",
      "2018-01-07       NaN  0.146447  0.146447       NaN  0.323223  0.323223\n"
     ]
    }
   ],
   "source": [
    "bb = vbt.BollingerBands.from_params(ts, window=2, alpha=[1., 2.], ewm=False)\n",
    "\n",
    "print(bb.upper_band)\n",
    "print()\n",
    "print(bb.middle_band)\n",
    "print()\n",
    "print(bb.lower_band)\n",
    "print()\n",
    "print(bb.percent_b)\n",
    "print()\n",
    "print(bb.bandwidth)"
   ]
  },
  {
   "cell_type": "code",
   "execution_count": 39,
   "metadata": {},
   "outputs": [
    {
     "name": "stdout",
     "output_type": "stream",
     "text": [
      "bb_window       2                                   \n",
      "bb_ewm      False                                   \n",
      "bb_alpha      1.0                  2.0              \n",
      "                a      b      c      a      b      c\n",
      "2018-01-01  False  False  False  False  False  False\n",
      "2018-01-02   True  False   True   True  False   True\n",
      "2018-01-03   True   True   True   True   True   True\n",
      "2018-01-04   True   True  False   True   True  False\n",
      "2018-01-05   True   True  False   True   True  False\n",
      "2018-01-06   True   True   True   True   True   True\n",
      "2018-01-07  False   True   True  False   True   True\n"
     ]
    },
    {
     "name": "stderr",
     "output_type": "stream",
     "text": [
      "/Users/olegpolakow/Documents/SourceTree/vectorbt/vectorbt/utils.py:1314: RuntimeWarning:\n",
      "\n",
      "invalid value encountered in less\n",
      "\n",
      "/Users/olegpolakow/Documents/SourceTree/vectorbt/vectorbt/utils.py:1314: RuntimeWarning:\n",
      "\n",
      "invalid value encountered in greater\n",
      "\n"
     ]
    }
   ],
   "source": [
    "print(bb.ts_below(bb.upper_band) & bb.ts_above(bb.lower_band)) # price between bands"
   ]
  },
  {
   "cell_type": "code",
   "execution_count": 13,
   "metadata": {},
   "outputs": [
    {
     "data": {
      "image/png": "[encoded data removed]"
     },
     "metadata": {},
     "output_type": "display_data"
    }
   ],
   "source": [
    "bb[(2, False, 1., 'a')].plot().show_png()"
   ]
  },
  {
   "cell_type": "markdown",
   "metadata": {},
   "source": [
    "## RSI"
   ]
  },
  {
   "cell_type": "code",
   "execution_count": 9,
   "metadata": {},
   "outputs": [
    {
     "name": "stdout",
     "output_type": "stream",
     "text": [
      "2018-01-01      NaN\n",
      "2018-01-02      NaN\n",
      "2018-01-03    100.0\n",
      "2018-01-04    100.0\n",
      "2018-01-05    100.0\n",
      "2018-01-06    100.0\n",
      "2018-01-07      NaN\n",
      "Name: a, dtype: float64\n",
      "                a    b      c\n",
      "2018-01-01    NaN  NaN    NaN\n",
      "2018-01-02    NaN  NaN    NaN\n",
      "2018-01-03  100.0  NaN  100.0\n",
      "2018-01-04  100.0  0.0    NaN\n",
      "2018-01-05  100.0  0.0    NaN\n",
      "2018-01-06  100.0  0.0    NaN\n",
      "2018-01-07    NaN  0.0    0.0\n",
      "rsi_window      2                  3         \n",
      "rsi_ewm     False              False         \n",
      "                a    b      c      a    b   c\n",
      "2018-01-01    NaN  NaN    NaN    NaN  NaN NaN\n",
      "2018-01-02    NaN  NaN    NaN    NaN  NaN NaN\n",
      "2018-01-03  100.0  NaN  100.0    NaN  NaN NaN\n",
      "2018-01-04  100.0  0.0    NaN  100.0  NaN NaN\n",
      "2018-01-05  100.0  0.0    NaN  100.0  0.0 NaN\n",
      "2018-01-06  100.0  0.0    NaN  100.0  0.0 NaN\n",
      "2018-01-07    NaN  0.0    0.0    NaN  0.0 NaN\n",
      "rsi_window      2                  3                 \n",
      "rsi_ewm     False              True                  \n",
      "                a    b      c      a    b           c\n",
      "2018-01-01    NaN  NaN    NaN    NaN  NaN         NaN\n",
      "2018-01-02    NaN  NaN    NaN    NaN  NaN         NaN\n",
      "2018-01-03  100.0  NaN  100.0    NaN  NaN         NaN\n",
      "2018-01-04  100.0  0.0    NaN  100.0  0.0  100.000000\n",
      "2018-01-05  100.0  0.0    NaN  100.0  0.0  100.000000\n",
      "2018-01-06  100.0  0.0    NaN  100.0  0.0   15.789474\n",
      "2018-01-07    NaN  0.0    0.0  100.0  0.0    5.882353\n",
      "rsi_window      2                                          3                  \\\n",
      "rsi_ewm     False              True                    False           True    \n",
      "                a    b      c      a    b           c      a    b   c      a   \n",
      "2018-01-01    NaN  NaN    NaN    NaN  NaN         NaN    NaN  NaN NaN    NaN   \n",
      "2018-01-02    NaN  NaN    NaN    NaN  NaN         NaN    NaN  NaN NaN    NaN   \n",
      "2018-01-03  100.0  NaN  100.0  100.0  0.0  100.000000    NaN  NaN NaN    NaN   \n",
      "2018-01-04  100.0  0.0    NaN  100.0  0.0  100.000000  100.0  NaN NaN  100.0   \n",
      "2018-01-05  100.0  0.0    NaN  100.0  0.0  100.000000  100.0  0.0 NaN  100.0   \n",
      "2018-01-06  100.0  0.0    NaN  100.0  0.0    4.705882  100.0  0.0 NaN  100.0   \n",
      "2018-01-07    NaN  0.0    0.0  100.0  0.0    1.219512    NaN  0.0 NaN  100.0   \n",
      "\n",
      "rsi_window                   \n",
      "rsi_ewm                      \n",
      "              b           c  \n",
      "2018-01-01  NaN         NaN  \n",
      "2018-01-02  NaN         NaN  \n",
      "2018-01-03  NaN         NaN  \n",
      "2018-01-04  0.0  100.000000  \n",
      "2018-01-05  0.0  100.000000  \n",
      "2018-01-06  0.0   15.789474  \n",
      "2018-01-07  0.0    5.882353  \n"
     ]
    }
   ],
   "source": [
    "print(vbt.RSI.from_params(ts['a'], window=2).rsi)\n",
    "print(vbt.RSI.from_params(ts, window=2).rsi)\n",
    "print(vbt.RSI.from_params(ts, window=[2, 3], ewm=False).rsi)\n",
    "print(vbt.RSI.from_params(ts, window=[2, 3], ewm=[False, True]).rsi)\n",
    "print(vbt.RSI.from_params(ts, window=[2, 3], ewm=[False, True], param_product=True).rsi)"
   ]
  },
  {
   "cell_type": "code",
   "execution_count": 42,
   "metadata": {},
   "outputs": [
    {
     "name": "stdout",
     "output_type": "stream",
     "text": [
      "66.9 ms ± 2.09 ms per loop (mean ± std. dev. of 7 runs, 10 loops each)\n",
      "(1000, 1000)\n"
     ]
    }
   ],
   "source": [
    "# One window\n",
    "%timeit vbt.RSI.from_params(big_ts, window=2)\n",
    "\n",
    "print(vbt.RSI.from_params(big_ts, window=2).rsi.shape)"
   ]
  },
  {
   "cell_type": "code",
   "execution_count": 43,
   "metadata": {},
   "outputs": [
    {
     "name": "stdout",
     "output_type": "stream",
     "text": [
      "5.77 s ± 492 ms per loop (mean ± std. dev. of 7 runs, 1 loop each)\n",
      "(1000, 98000)\n"
     ]
    }
   ],
   "source": [
    "# Multiple windows\n",
    "%timeit vbt.RSI.from_params(big_ts, window=np.arange(2, 100))\n",
    "\n",
    "print(vbt.RSI.from_params(big_ts, window=np.arange(2, 100)).rsi.shape)"
   ]
  },
  {
   "cell_type": "code",
   "execution_count": 44,
   "metadata": {},
   "outputs": [
    {
     "name": "stdout",
     "output_type": "stream",
     "text": [
      "1.61 s ± 43.4 ms per loop (mean ± std. dev. of 7 runs, 1 loop each)\n",
      "(1000, 100000)\n"
     ]
    }
   ],
   "source": [
    "# One window repeated\n",
    "%timeit vbt.RSI.from_params(big_ts, window=np.full(100, 2))\n",
    "\n",
    "print(vbt.RSI.from_params(big_ts, window=np.full(100, 2)).rsi.shape)"
   ]
  },
  {
   "cell_type": "code",
   "execution_count": 14,
   "metadata": {},
   "outputs": [
    {
     "name": "stdout",
     "output_type": "stream",
     "text": [
      "rsi_window      2                  3                 \n",
      "rsi_ewm     False              True                  \n",
      "                a    b      c      a    b           c\n",
      "2018-01-01    NaN  NaN    NaN    NaN  NaN         NaN\n",
      "2018-01-02    NaN  NaN    NaN    NaN  NaN         NaN\n",
      "2018-01-03  100.0  NaN  100.0    NaN  NaN         NaN\n",
      "2018-01-04  100.0  0.0    NaN  100.0  0.0  100.000000\n",
      "2018-01-05  100.0  0.0    NaN  100.0  0.0  100.000000\n",
      "2018-01-06  100.0  0.0    NaN  100.0  0.0   15.789474\n",
      "2018-01-07    NaN  0.0    0.0  100.0  0.0    5.882353\n"
     ]
    }
   ],
   "source": [
    "rsi = vbt.RSI.from_params(ts, window=[2, 3], ewm=[False, True])\n",
    "\n",
    "print(rsi.rsi)"
   ]
  },
  {
   "cell_type": "code",
   "execution_count": 46,
   "metadata": {},
   "outputs": [
    {
     "name": "stdout",
     "output_type": "stream",
     "text": [
      "rsi_window      2                    3              \n",
      "rsi_ewm     False                True               \n",
      "                a      b      c      a      b      c\n",
      "2018-01-01  False  False  False  False  False  False\n",
      "2018-01-02  False  False  False  False  False  False\n",
      "2018-01-03   True  False   True  False  False  False\n",
      "2018-01-04   True  False  False   True  False   True\n",
      "2018-01-05   True  False  False   True  False   True\n",
      "2018-01-06   True  False  False   True  False  False\n",
      "2018-01-07  False  False  False   True  False  False\n"
     ]
    },
    {
     "name": "stderr",
     "output_type": "stream",
     "text": [
      "/Users/olegpolakow/Documents/SourceTree/vectorbt/vectorbt/utils.py:1314: RuntimeWarning:\n",
      "\n",
      "invalid value encountered in greater\n",
      "\n"
     ]
    }
   ],
   "source": [
    "print(rsi.rsi_above(70))"
   ]
  },
  {
   "cell_type": "code",
   "execution_count": 15,
   "metadata": {},
   "outputs": [
    {
     "data": {
      "image/png": "[encoded data removed]"
     },
     "metadata": {},
     "output_type": "display_data"
    }
   ],
   "source": [
    "rsi[(2, False, 'a')].plot().show_png()"
   ]
  },
  {
   "cell_type": "markdown",
   "metadata": {},
   "source": [
    "## Stochastic"
   ]
  },
  {
   "cell_type": "code",
   "execution_count": 10,
   "metadata": {},
   "outputs": [
    {
     "name": "stdout",
     "output_type": "stream",
     "text": [
      "2018-01-01      NaN\n",
      "2018-01-02      NaN\n",
      "2018-01-03      NaN\n",
      "2018-01-04    100.0\n",
      "2018-01-05    100.0\n",
      "2018-01-06    100.0\n",
      "2018-01-07      NaN\n",
      "Name: a, dtype: float64\n",
      "2018-01-01          NaN\n",
      "2018-01-02          NaN\n",
      "2018-01-03          NaN\n",
      "2018-01-04    80.361991\n",
      "2018-01-05    76.718266\n",
      "2018-01-06    73.861123\n",
      "2018-01-07          NaN\n",
      "Name: a, dtype: float64\n",
      "                a    b   c\n",
      "2018-01-01    NaN  NaN NaN\n",
      "2018-01-02    NaN  NaN NaN\n",
      "2018-01-03    NaN  NaN NaN\n",
      "2018-01-04  100.0  NaN NaN\n",
      "2018-01-05  100.0  0.0 NaN\n",
      "2018-01-06  100.0  0.0 NaN\n",
      "2018-01-07    NaN  0.0 NaN\n",
      "stoch_k_window      2                            \n",
      "stoch_d_window      2                  3         \n",
      "stoch_ewm       False              False         \n",
      "                    a    b      c      a    b   c\n",
      "2018-01-01        NaN  NaN    NaN    NaN  NaN NaN\n",
      "2018-01-02        NaN  NaN    NaN    NaN  NaN NaN\n",
      "2018-01-03      100.0  NaN  100.0    NaN  NaN NaN\n",
      "2018-01-04      100.0  0.0    NaN  100.0  NaN NaN\n",
      "2018-01-05      100.0  0.0    NaN  100.0  0.0 NaN\n",
      "2018-01-06      100.0  0.0    NaN  100.0  0.0 NaN\n",
      "2018-01-07        NaN  0.0    0.0    NaN  0.0 NaN\n",
      "stoch_k_window      2                  3         \n",
      "stoch_d_window      2                  3         \n",
      "stoch_ewm       False              False         \n",
      "                    a    b      c      a    b   c\n",
      "2018-01-01        NaN  NaN    NaN    NaN  NaN NaN\n",
      "2018-01-02        NaN  NaN    NaN    NaN  NaN NaN\n",
      "2018-01-03      100.0  NaN  100.0    NaN  NaN NaN\n",
      "2018-01-04      100.0  0.0    NaN    NaN  NaN NaN\n",
      "2018-01-05      100.0  0.0    NaN  100.0  NaN NaN\n",
      "2018-01-06      100.0  0.0    NaN  100.0  0.0 NaN\n",
      "2018-01-07        NaN  0.0    0.0    NaN  0.0 NaN\n",
      "stoch_k_window      2                                  3                       \\\n",
      "stoch_d_window      2                  3               2               3        \n",
      "stoch_ewm       False              False           False           False        \n",
      "                    a    b      c      a    b   c      a    b   c      a    b   \n",
      "2018-01-01        NaN  NaN    NaN    NaN  NaN NaN    NaN  NaN NaN    NaN  NaN   \n",
      "2018-01-02        NaN  NaN    NaN    NaN  NaN NaN    NaN  NaN NaN    NaN  NaN   \n",
      "2018-01-03      100.0  NaN  100.0    NaN  NaN NaN    NaN  NaN NaN    NaN  NaN   \n",
      "2018-01-04      100.0  0.0    NaN  100.0  NaN NaN  100.0  NaN NaN    NaN  NaN   \n",
      "2018-01-05      100.0  0.0    NaN  100.0  0.0 NaN  100.0  0.0 NaN  100.0  NaN   \n",
      "2018-01-06      100.0  0.0    NaN  100.0  0.0 NaN  100.0  0.0 NaN  100.0  0.0   \n",
      "2018-01-07        NaN  0.0    0.0    NaN  0.0 NaN    NaN  0.0 NaN    NaN  0.0   \n",
      "\n",
      "stoch_k_window      \n",
      "stoch_d_window      \n",
      "stoch_ewm           \n",
      "                 c  \n",
      "2018-01-01     NaN  \n",
      "2018-01-02     NaN  \n",
      "2018-01-03     NaN  \n",
      "2018-01-04     NaN  \n",
      "2018-01-05     NaN  \n",
      "2018-01-06     NaN  \n",
      "2018-01-07     NaN  \n"
     ]
    }
   ],
   "source": [
    "print(vbt.Stochastic.from_params(ts['a'], k_window=2, d_window=3, ewm=False).percent_d)\n",
    "print(vbt.Stochastic.from_params(ts['a'], high_ts=ts['a']*1.1, low_ts=ts['a']*0.9, k_window=2, d_window=3).percent_d)\n",
    "print(vbt.Stochastic.from_params(ts, k_window=2, d_window=3).percent_d)\n",
    "print(vbt.Stochastic.from_params(ts, k_window=2, d_window=[2, 3]).percent_d)\n",
    "print(vbt.Stochastic.from_params(ts, k_window=[2, 3], d_window=[2, 3]).percent_d)\n",
    "print(vbt.Stochastic.from_params(ts, k_window=[2, 3], d_window=[2, 3], param_product=True).percent_d)"
   ]
  },
  {
   "cell_type": "code",
   "execution_count": 49,
   "metadata": {},
   "outputs": [
    {
     "name": "stdout",
     "output_type": "stream",
     "text": [
      "69 ms ± 4.5 ms per loop (mean ± std. dev. of 7 runs, 10 loops each)\n",
      "(1000, 1000)\n"
     ]
    }
   ],
   "source": [
    "# One window\n",
    "%timeit vbt.Stochastic.from_params(big_ts, k_window=2)\n",
    "\n",
    "print(vbt.Stochastic.from_params(big_ts, k_window=2).percent_d.shape)"
   ]
  },
  {
   "cell_type": "code",
   "execution_count": 50,
   "metadata": {},
   "outputs": [
    {
     "name": "stdout",
     "output_type": "stream",
     "text": [
      "26 s ± 199 ms per loop (mean ± std. dev. of 7 runs, 1 loop each)\n",
      "(1000, 98000)\n"
     ]
    }
   ],
   "source": [
    "# Multiple windows\n",
    "%timeit vbt.Stochastic.from_params(big_ts, k_window=np.arange(2, 100)) # rolling min/max very expensive\n",
    "\n",
    "print(vbt.Stochastic.from_params(big_ts, k_window=np.arange(2, 100)).percent_d.shape)"
   ]
  },
  {
   "cell_type": "code",
   "execution_count": 51,
   "metadata": {},
   "outputs": [
    {
     "name": "stdout",
     "output_type": "stream",
     "text": [
      "5.94 s ± 88.9 ms per loop (mean ± std. dev. of 7 runs, 1 loop each)\n",
      "(1000, 100000)\n"
     ]
    }
   ],
   "source": [
    "# One window repeated\n",
    "%timeit vbt.Stochastic.from_params(big_ts, k_window=np.full(100, 2))\n",
    "\n",
    "print(vbt.Stochastic.from_params(big_ts, k_window=np.full(100, 2)).percent_d.shape)"
   ]
  },
  {
   "cell_type": "code",
   "execution_count": 16,
   "metadata": {},
   "outputs": [
    {
     "name": "stdout",
     "output_type": "stream",
     "text": [
      "stoch_k_window          2                                4              \n",
      "stoch_d_window          2                                2              \n",
      "stoch_ewm           False                            True               \n",
      "                        a          b          c          a         b   c\n",
      "2018-01-01            NaN        NaN        NaN        NaN       NaN NaN\n",
      "2018-01-02      84.615385        NaN  84.615385        NaN       NaN NaN\n",
      "2018-01-03      80.000000  23.809524  80.000000        NaN       NaN NaN\n",
      "2018-01-04      76.470588  21.052632        NaN  88.571429       NaN NaN\n",
      "2018-01-05      73.684211  17.647059        NaN  86.486486  7.692308 NaN\n",
      "2018-01-06      71.428571  13.333333  13.333333  84.615385  5.405405 NaN\n",
      "2018-01-07            NaN   7.692308   7.692308        NaN  2.857143 NaN\n",
      "stoch_k_window          2                                4              \n",
      "stoch_d_window          2                                2              \n",
      "stoch_ewm           False                            True               \n",
      "                        a          b          c          a         b   c\n",
      "2018-01-01            NaN        NaN        NaN        NaN       NaN NaN\n",
      "2018-01-02            NaN        NaN        NaN        NaN       NaN NaN\n",
      "2018-01-03      82.307692        NaN  82.307692        NaN       NaN NaN\n",
      "2018-01-04      78.235294  22.431078        NaN        NaN       NaN NaN\n",
      "2018-01-05      75.077399  19.349845        NaN  87.007722  7.692308 NaN\n",
      "2018-01-06      72.556391  15.490196        NaN  85.351488  5.977131 NaN\n",
      "2018-01-07            NaN  10.512821  10.512821  85.351488  3.817139 NaN\n"
     ]
    }
   ],
   "source": [
    "stochastic = vbt.Stochastic.from_params(ts, high_ts=ts*1.1, low_ts=ts*0.9, k_window=[2, 4], d_window=2, ewm=[False, True])\n",
    "\n",
    "print(stochastic.percent_k)\n",
    "print(stochastic.percent_d)"
   ]
  },
  {
   "cell_type": "code",
   "execution_count": 17,
   "metadata": {},
   "outputs": [
    {
     "name": "stderr",
     "output_type": "stream",
     "text": [
      "/Users/olegpolakow/Documents/SourceTree/vectorbt/vectorbt/utils.py:1314: RuntimeWarning:\n",
      "\n",
      "invalid value encountered in greater\n",
      "\n",
      "/Users/olegpolakow/Documents/SourceTree/vectorbt/vectorbt/utils.py:1314: RuntimeWarning:\n",
      "\n",
      "invalid value encountered in less\n",
      "\n"
     ]
    },
    {
     "data": {
      "text/plain": [
       "(stoch_k_window      2                    4              \n",
       " stoch_d_window      2                    2              \n",
       " stoch_ewm       False                True               \n",
       "                     a      b      c      a      b      c\n",
       " 2018-01-01      False  False  False  False  False  False\n",
       " 2018-01-02      False  False  False  False  False  False\n",
       " 2018-01-03      False  False  False  False  False  False\n",
       " 2018-01-04      False  False  False  False  False  False\n",
       " 2018-01-05      False  False  False  False  False  False\n",
       " 2018-01-06      False  False  False  False  False  False\n",
       " 2018-01-07      False  False  False  False  False  False,\n",
       " stoch_k_window      2                    4              \n",
       " stoch_d_window      2                    2              \n",
       " stoch_ewm       False                True               \n",
       "                     a      b      c      a      b      c\n",
       " 2018-01-01      False  False  False  False  False  False\n",
       " 2018-01-02      False  False  False  False  False  False\n",
       " 2018-01-03       True  False   True  False  False  False\n",
       " 2018-01-04      False   True  False  False  False  False\n",
       " 2018-01-05      False  False  False   True  False  False\n",
       " 2018-01-06      False  False  False  False   True  False\n",
       " 2018-01-07      False  False   True  False  False  False)"
      ]
     },
     "execution_count": 17,
     "metadata": {},
     "output_type": "execute_result"
    }
   ],
   "source": [
    "stochastic.crossover()"
   ]
  },
  {
   "cell_type": "code",
   "execution_count": 18,
   "metadata": {},
   "outputs": [
    {
     "data": {
      "image/png": "[encoded data removed]"
     },
     "metadata": {},
     "output_type": "display_data"
    }
   ],
   "source": [
    "stochastic[(2, 2, False, 'a')].plot().show_png()"
   ]
  },
  {
   "cell_type": "markdown",
   "metadata": {},
   "source": [
    "## MACD"
   ]
  },
  {
   "cell_type": "code",
   "execution_count": 11,
   "metadata": {},
   "outputs": [
    {
     "name": "stdout",
     "output_type": "stream",
     "text": [
      "2018-01-01         NaN\n",
      "2018-01-02         NaN\n",
      "2018-01-03         NaN\n",
      "2018-01-04    0.454412\n",
      "2018-01-05    0.599079\n",
      "2018-01-06    0.714606\n",
      "2018-01-07    0.714606\n",
      "Name: a, dtype: float64\n",
      "                   a         b         c\n",
      "2018-01-01       NaN       NaN       NaN\n",
      "2018-01-02       NaN       NaN       NaN\n",
      "2018-01-03       NaN       NaN       NaN\n",
      "2018-01-04  0.454412 -0.288854  0.288854\n",
      "2018-01-05  0.599079 -0.454412  0.225420\n",
      "2018-01-06  0.714606 -0.599079 -0.100763\n",
      "2018-01-07  0.714606 -0.714606 -0.348771\n",
      "macd_fast_window           2                             3                    \n",
      "macd_slow_window           4                             4                    \n",
      "macd_signal_window         2                             2                    \n",
      "macd_ewm                True                          True                    \n",
      "                           a         b         c         a         b         c\n",
      "2018-01-01               NaN       NaN       NaN       NaN       NaN       NaN\n",
      "2018-01-02               NaN       NaN       NaN       NaN       NaN       NaN\n",
      "2018-01-03               NaN       NaN       NaN       NaN       NaN       NaN\n",
      "2018-01-04          0.454412 -0.288854  0.288854  0.171078 -0.102041  0.102041\n",
      "2018-01-05          0.599079 -0.454412  0.225420  0.239708 -0.171078  0.104699\n",
      "2018-01-06          0.714606 -0.599079 -0.100763  0.301602 -0.239708 -0.019404\n",
      "2018-01-07          0.714606 -0.714606 -0.348771  0.301602 -0.301602 -0.126547\n",
      "macd_fast_window       2                                            3       \\\n",
      "macd_slow_window       4                                            4        \n",
      "macd_signal_window     2                                            2        \n",
      "macd_ewm           False              True                      False        \n",
      "                       a    b   c         a         b         c     a    b   \n",
      "2018-01-01           NaN  NaN NaN       NaN       NaN       NaN   NaN  NaN   \n",
      "2018-01-02           NaN  NaN NaN       NaN       NaN       NaN   NaN  NaN   \n",
      "2018-01-03           NaN  NaN NaN       NaN       NaN       NaN   NaN  NaN   \n",
      "2018-01-04           1.0  NaN NaN  0.454412 -0.288854  0.288854   0.5  NaN   \n",
      "2018-01-05           1.0 -1.0 NaN  0.599079 -0.454412  0.225420   0.5 -0.5   \n",
      "2018-01-06           1.0 -1.0 NaN  0.714606 -0.599079 -0.100763   0.5 -0.5   \n",
      "2018-01-07           NaN -1.0 NaN  0.714606 -0.714606 -0.348771   NaN -0.5   \n",
      "\n",
      "macd_fast_window                                      \n",
      "macd_slow_window                                      \n",
      "macd_signal_window                                    \n",
      "macd_ewm                   True                       \n",
      "                     c         a         b         c  \n",
      "2018-01-01         NaN       NaN       NaN       NaN  \n",
      "2018-01-02         NaN       NaN       NaN       NaN  \n",
      "2018-01-03         NaN       NaN       NaN       NaN  \n",
      "2018-01-04         NaN  0.171078 -0.102041  0.102041  \n",
      "2018-01-05         NaN  0.239708 -0.171078  0.104699  \n",
      "2018-01-06         NaN  0.301602 -0.239708 -0.019404  \n",
      "2018-01-07         NaN  0.301602 -0.301602 -0.126547  \n"
     ]
    }
   ],
   "source": [
    "print(vbt.MACD.from_params(ts['a'], fast_window=2, slow_window=4, signal_window=2, ewm=True).macd)\n",
    "print(vbt.MACD.from_params(ts, fast_window=2, slow_window=4, signal_window=2, ewm=True).macd)\n",
    "print(vbt.MACD.from_params(ts, fast_window=[2, 3], slow_window=4, signal_window=2, ewm=True).macd)\n",
    "print(vbt.MACD.from_params(ts, fast_window=[2, 3], slow_window=4, signal_window=2, ewm=[False, True], param_product=True).macd)"
   ]
  },
  {
   "cell_type": "code",
   "execution_count": 56,
   "metadata": {},
   "outputs": [
    {
     "name": "stdout",
     "output_type": "stream",
     "text": [
      "70.1 ms ± 913 µs per loop (mean ± std. dev. of 7 runs, 10 loops each)\n",
      "(1000, 1000)\n"
     ]
    }
   ],
   "source": [
    "# One window\n",
    "%timeit vbt.MACD.from_params(big_ts, fast_window=2)\n",
    "\n",
    "print(vbt.MACD.from_params(big_ts, fast_window=2).macd.shape)"
   ]
  },
  {
   "cell_type": "code",
   "execution_count": 57,
   "metadata": {},
   "outputs": [
    {
     "name": "stdout",
     "output_type": "stream",
     "text": [
      "6.22 s ± 258 ms per loop (mean ± std. dev. of 7 runs, 1 loop each)\n",
      "(1000, 98000)\n"
     ]
    }
   ],
   "source": [
    "# Multiple windows\n",
    "%timeit vbt.MACD.from_params(big_ts, fast_window=np.arange(2, 100))\n",
    "\n",
    "print(vbt.MACD.from_params(big_ts, fast_window=np.arange(2, 100)).macd.shape)"
   ]
  },
  {
   "cell_type": "code",
   "execution_count": 58,
   "metadata": {},
   "outputs": [
    {
     "name": "stdout",
     "output_type": "stream",
     "text": [
      "5.17 s ± 600 ms per loop (mean ± std. dev. of 7 runs, 1 loop each)\n",
      "(1000, 100000)\n"
     ]
    }
   ],
   "source": [
    "# One window repeated\n",
    "%timeit vbt.MACD.from_params(big_ts, fast_window=np.full(100, 2))\n",
    "\n",
    "print(vbt.MACD.from_params(big_ts, fast_window=np.full(100, 2)).macd.shape)"
   ]
  },
  {
   "cell_type": "code",
   "execution_count": 19,
   "metadata": {},
   "outputs": [
    {
     "name": "stdout",
     "output_type": "stream",
     "text": [
      "macd_fast_window           2                             3                    \n",
      "macd_slow_window           4                             4                    \n",
      "macd_signal_window         2                             2                    \n",
      "macd_ewm                True                          True                    \n",
      "                           a         b         c         a         b         c\n",
      "2018-01-01               NaN       NaN       NaN       NaN       NaN       NaN\n",
      "2018-01-02          1.750000  6.000000  1.750000       NaN       NaN       NaN\n",
      "2018-01-03          2.615385  5.250000  2.615385  2.428571  5.333333  2.428571\n",
      "2018-01-04          3.550000  4.384615  2.615385  3.266667  4.571429  2.428571\n",
      "2018-01-05          4.520661  3.450000  2.946809  4.161290  3.733333  2.826087\n",
      "2018-01-06          5.508242  2.479339  2.264095  5.095238  2.838710  2.345455\n",
      "2018-01-07          5.508242  1.491758  1.399625  5.095238  1.904762  1.621849\n",
      "macd_fast_window           2                             3                    \n",
      "macd_slow_window           4                             4                    \n",
      "macd_signal_window         2                             2                    \n",
      "macd_ewm                True                          True                    \n",
      "                           a         b         c         a         b         c\n",
      "2018-01-01               NaN       NaN       NaN       NaN       NaN       NaN\n",
      "2018-01-02               NaN       NaN       NaN       NaN       NaN       NaN\n",
      "2018-01-03               NaN       NaN       NaN       NaN       NaN       NaN\n",
      "2018-01-04          3.095588  4.673469  2.326531  3.095588  4.673469  2.326531\n",
      "2018-01-05          3.921582  3.904412  2.721388  3.921582  3.904412  2.721388\n",
      "2018-01-06          4.793636  3.078418  2.364858  4.793636  3.078418  2.364858\n",
      "2018-01-07          4.793636  2.206364  1.748396  4.793636  2.206364  1.748396\n",
      "macd_fast_window           2                             3                    \n",
      "macd_slow_window           4                             4                    \n",
      "macd_signal_window         2                             2                    \n",
      "macd_ewm                True                          True                    \n",
      "                           a         b         c         a         b         c\n",
      "2018-01-01               NaN       NaN       NaN       NaN       NaN       NaN\n",
      "2018-01-02               NaN       NaN       NaN       NaN       NaN       NaN\n",
      "2018-01-03               NaN       NaN       NaN       NaN       NaN       NaN\n",
      "2018-01-04          0.454412 -0.288854  0.288854  0.171078 -0.102041  0.102041\n",
      "2018-01-05          0.599079 -0.454412  0.225420  0.239708 -0.171078  0.104699\n",
      "2018-01-06          0.714606 -0.599079 -0.100763  0.301602 -0.239708 -0.019404\n",
      "2018-01-07          0.714606 -0.714606 -0.348771  0.301602 -0.301602 -0.126547\n",
      "macd_fast_window           2                             3                    \n",
      "macd_slow_window           4                             4                    \n",
      "macd_signal_window         2                             2                    \n",
      "macd_ewm                True                          True                    \n",
      "                           a         b         c         a         b         c\n",
      "2018-01-01               NaN       NaN       NaN       NaN       NaN       NaN\n",
      "2018-01-02               NaN       NaN       NaN       NaN       NaN       NaN\n",
      "2018-01-03               NaN       NaN       NaN       NaN       NaN       NaN\n",
      "2018-01-04               NaN       NaN       NaN       NaN       NaN       NaN\n",
      "2018-01-05          0.562912 -0.413022  0.241279  0.222551 -0.153819  0.104034\n",
      "2018-01-06          0.667931 -0.541831  0.004480  0.277279 -0.213281  0.018577\n",
      "2018-01-07          0.699437 -0.658454 -0.233964  0.293697 -0.272898 -0.079382\n",
      "macd_fast_window           2                             3                    \n",
      "macd_slow_window           4                             4                    \n",
      "macd_signal_window         2                             2                    \n",
      "macd_ewm                True                          True                    \n",
      "                           a         b         c         a         b         c\n",
      "2018-01-01               NaN       NaN       NaN       NaN       NaN       NaN\n",
      "2018-01-02               NaN       NaN       NaN       NaN       NaN       NaN\n",
      "2018-01-03               NaN       NaN       NaN       NaN       NaN       NaN\n",
      "2018-01-04               NaN       NaN       NaN       NaN       NaN       NaN\n",
      "2018-01-05          0.036167 -0.041389 -0.015858  0.017157 -0.017259  0.000664\n",
      "2018-01-06          0.046675 -0.057248 -0.105244  0.024324 -0.026427 -0.037981\n",
      "2018-01-07          0.015169 -0.056152 -0.114807  0.007905 -0.028704 -0.047165\n"
     ]
    }
   ],
   "source": [
    "macd = vbt.MACD.from_params(ts, fast_window=[2, 3], slow_window=4, signal_window=2, ewm=True)\n",
    "\n",
    "print(macd.fast_ma)\n",
    "print(macd.slow_ma)\n",
    "print(macd.macd)\n",
    "print(macd.signal)\n",
    "print(macd.histogram)"
   ]
  },
  {
   "cell_type": "code",
   "execution_count": 20,
   "metadata": {},
   "outputs": [
    {
     "name": "stderr",
     "output_type": "stream",
     "text": [
      "/Users/olegpolakow/Documents/SourceTree/vectorbt/vectorbt/utils.py:1314: RuntimeWarning:\n",
      "\n",
      "invalid value encountered in greater\n",
      "\n",
      "/Users/olegpolakow/Documents/SourceTree/vectorbt/vectorbt/utils.py:1314: RuntimeWarning:\n",
      "\n",
      "invalid value encountered in less\n",
      "\n"
     ]
    },
    {
     "data": {
      "text/plain": [
       "(macd_fast_window        2                    3              \n",
       " macd_slow_window        4                    4              \n",
       " macd_signal_window      2                    2              \n",
       " macd_ewm             True                 True              \n",
       "                         a      b      c      a      b      c\n",
       " 2018-01-01          False  False  False  False  False  False\n",
       " 2018-01-02          False  False  False  False  False  False\n",
       " 2018-01-03          False  False  False  False  False  False\n",
       " 2018-01-04          False  False  False  False  False  False\n",
       " 2018-01-05           True  False  False   True  False   True\n",
       " 2018-01-06          False  False  False  False  False  False\n",
       " 2018-01-07          False  False  False  False  False  False,\n",
       " macd_fast_window        2                    3              \n",
       " macd_slow_window        4                    4              \n",
       " macd_signal_window      2                    2              \n",
       " macd_ewm             True                 True              \n",
       "                         a      b      c      a      b      c\n",
       " 2018-01-01          False  False  False  False  False  False\n",
       " 2018-01-02          False  False  False  False  False  False\n",
       " 2018-01-03          False  False  False  False  False  False\n",
       " 2018-01-04          False  False  False  False  False  False\n",
       " 2018-01-05          False   True   True  False   True  False\n",
       " 2018-01-06          False  False  False  False  False   True\n",
       " 2018-01-07          False  False  False  False  False  False)"
      ]
     },
     "execution_count": 20,
     "metadata": {},
     "output_type": "execute_result"
    }
   ],
   "source": [
    "macd.crossover()"
   ]
  },
  {
   "cell_type": "code",
   "execution_count": 21,
   "metadata": {},
   "outputs": [
    {
     "data": {
      "image/png": "[encoded data removed]"
     },
     "metadata": {},
     "output_type": "display_data"
    }
   ],
   "source": [
    "macd[(2, 4, 2, True, 'a')].plot().show_png()"
   ]
  },
  {
   "cell_type": "markdown",
   "metadata": {},
   "source": [
    "## OBV"
   ]
  },
  {
   "cell_type": "code",
   "execution_count": 5,
   "metadata": {},
   "outputs": [
    {
     "name": "stdout",
     "output_type": "stream",
     "text": [
      "2018-01-01     NaN\n",
      "2018-01-02     6.0\n",
      "2018-01-03    11.0\n",
      "2018-01-04    15.0\n",
      "2018-01-05    18.0\n",
      "2018-01-06    20.0\n",
      "2018-01-07     NaN\n",
      "Name: (a, b), dtype: float64\n",
      "               a     b     c\n",
      "2018-01-01   NaN   NaN   NaN\n",
      "2018-01-02   2.0   6.0   2.0\n",
      "2018-01-03   5.0  11.0   5.0\n",
      "2018-01-04   9.0  15.0   NaN\n",
      "2018-01-05  14.0  18.0   8.0\n",
      "2018-01-06  20.0  20.0  10.0\n",
      "2018-01-07   NaN   NaN   NaN\n",
      "               a     b     c\n",
      "2018-01-01   NaN   NaN   NaN\n",
      "2018-01-02   6.0   NaN   6.0\n",
      "2018-01-03  11.0  -5.0  11.0\n",
      "2018-01-04  15.0  -9.0   NaN\n",
      "2018-01-05  18.0 -12.0   NaN\n",
      "2018-01-06  20.0 -14.0   9.0\n",
      "2018-01-07   NaN -15.0   8.0\n",
      "               a     b    c\n",
      "               c     b    a\n",
      "2018-01-01   NaN   NaN  NaN\n",
      "2018-01-02   2.0   NaN  2.0\n",
      "2018-01-03   5.0  -5.0  5.0\n",
      "2018-01-04   NaN  -9.0  NaN\n",
      "2018-01-05   8.0 -12.0  NaN\n",
      "2018-01-06  10.0 -14.0 -1.0\n",
      "2018-01-07   NaN -15.0  NaN\n"
     ]
    }
   ],
   "source": [
    "print(vbt.OBV.from_params(ts['a'], ts['b']).obv)\n",
    "print(vbt.OBV.from_params(ts['a'], ts).obv)\n",
    "print(vbt.OBV.from_params(ts, ts['b']).obv)\n",
    "print(vbt.OBV.from_params(ts, ts.iloc[:, ::-1]).obv)"
   ]
  },
  {
   "cell_type": "code",
   "execution_count": 6,
   "metadata": {},
   "outputs": [
    {
     "name": "stdout",
     "output_type": "stream",
     "text": [
      "24.5 ms ± 6.69 ms per loop (mean ± std. dev. of 7 runs, 10 loops each)\n",
      "(1000, 1000)\n"
     ]
    }
   ],
   "source": [
    "%timeit vbt.OBV.from_params(big_ts, big_ts.iloc[:, ::-1])\n",
    "\n",
    "print(vbt.OBV.from_params(big_ts, big_ts.iloc[:, ::-1]).obv.shape)"
   ]
  },
  {
   "cell_type": "code",
   "execution_count": 7,
   "metadata": {},
   "outputs": [
    {
     "name": "stdout",
     "output_type": "stream",
     "text": [
      "               a     b    c\n",
      "               c     b    a\n",
      "2018-01-01   NaN   NaN  NaN\n",
      "2018-01-02   2.0   NaN  2.0\n",
      "2018-01-03   5.0  -5.0  5.0\n",
      "2018-01-04   NaN  -9.0  NaN\n",
      "2018-01-05   8.0 -12.0  NaN\n",
      "2018-01-06  10.0 -14.0 -1.0\n",
      "2018-01-07   NaN -15.0  NaN\n"
     ]
    }
   ],
   "source": [
    "obv = vbt.OBV.from_params(ts, ts.iloc[:, ::-1])\n",
    "\n",
    "print(obv.obv)"
   ]
  },
  {
   "cell_type": "code",
   "execution_count": 8,
   "metadata": {},
   "outputs": [
    {
     "name": "stdout",
     "output_type": "stream",
     "text": [
      "obv_above       0                    5              \n",
      "                a      b      c      a      b      c\n",
      "                c      b      a      c      b      a\n",
      "2018-01-01  False  False  False  False  False  False\n",
      "2018-01-02   True  False   True  False  False  False\n",
      "2018-01-03   True  False   True  False  False  False\n",
      "2018-01-04  False  False  False  False  False  False\n",
      "2018-01-05   True  False  False   True  False  False\n",
      "2018-01-06   True  False  False   True  False  False\n",
      "2018-01-07  False  False  False  False  False  False\n"
     ]
    },
    {
     "name": "stderr",
     "output_type": "stream",
     "text": [
      "/Users/olegpolakow/Documents/SourceTree/vectorbt/vectorbt/utils.py:1095: RuntimeWarning:\n",
      "\n",
      "invalid value encountered in greater\n",
      "\n"
     ]
    }
   ],
   "source": [
    "print(obv.obv_above([0, 5], multiple=True))"
   ]
  },
  {
   "cell_type": "code",
   "execution_count": 10,
   "metadata": {},
   "outputs": [
    {
     "data": {
      "image/png": "[encoded data removed]"
     },
     "metadata": {},
     "output_type": "display_data"
    }
   ],
   "source": [
    "obv[('a', 'c')].plot().show_png()"
   ]
  },
  {
   "cell_type": "markdown",
   "metadata": {},
   "source": [
    "## IndicatorFactory"
   ]
  },
  {
   "cell_type": "markdown",
   "metadata": {},
   "source": [
    "### from_custom_func"
   ]
  },
  {
   "cell_type": "code",
   "execution_count": 13,
   "metadata": {},
   "outputs": [
    {
     "name": "stdout",
     "output_type": "stream",
     "text": [
      "custom_param      0                    1                    2              \n",
      "                  a      b      c      a      b      c      a      b      c\n",
      "2018-01-01    110.0    NaN  110.0  111.0    NaN  111.0  112.0    NaN  112.0\n",
      "2018-01-02    110.0  110.0  110.0  112.0  116.0  112.0  114.0  122.0  114.0\n",
      "2018-01-03    110.0  110.0  110.0  113.0  115.0  113.0  116.0  120.0  116.0\n",
      "2018-01-04    110.0  110.0    NaN  114.0  114.0    NaN  118.0  118.0    NaN\n",
      "2018-01-05    110.0  110.0  110.0  115.0  113.0  113.0  120.0  116.0  116.0\n",
      "2018-01-06    110.0  110.0  110.0  116.0  112.0  112.0  122.0  114.0  114.0\n",
      "2018-01-07      NaN  110.0  110.0    NaN  111.0  111.0    NaN  112.0  112.0\n",
      "custom_param      0                    1                    2              \n",
      "                  a      b      c      a      b      c      a      b      c\n",
      "2018-01-01    110.0    NaN  110.0  111.0    NaN  111.0  112.0    NaN  112.0\n",
      "2018-01-02    110.0  110.0  110.0  112.0  116.0  112.0  114.0  122.0  114.0\n",
      "2018-01-03    110.0  110.0  110.0  113.0  115.0  113.0  116.0  120.0  116.0\n",
      "2018-01-04    110.0  110.0    NaN  114.0  114.0    NaN  118.0  118.0    NaN\n",
      "2018-01-05    110.0  110.0  110.0  115.0  113.0  113.0  120.0  116.0  116.0\n",
      "2018-01-06    110.0  110.0  110.0  116.0  112.0  112.0  122.0  114.0  114.0\n",
      "2018-01-07      NaN  110.0  110.0    NaN  111.0  111.0    NaN  112.0  112.0\n"
     ]
    }
   ],
   "source": [
    "def apply_func(i, ts, p, a, b=100):\n",
    "    return ts * p[i] + a + b\n",
    "\n",
    "@njit\n",
    "def apply_func_nb(i, ts, p, a):\n",
    "    return ts * p[i] + a + 100 # numba doesn't support **kwargs\n",
    "\n",
    "# Custom function can be anything that takes time series, params and other arguments, and returns outputs\n",
    "def custom_func(ts, p, *args, **kwargs):\n",
    "    return apply_and_concat_one(len(p), apply_func, ts.vbt.to_2d_array(), p, *args, **kwargs)\n",
    "\n",
    "def custom_func_nb(ts, p, *args):\n",
    "    return apply_and_concat_one_nb(len(p), apply_func_nb, ts.vbt.to_2d_array(), p, *args)\n",
    "\n",
    "print(vbt.IndicatorFactory().from_custom_func(custom_func)\\\n",
    "      .from_params(ts, [0, 1, 2], 10, b=100).output)\n",
    "print(vbt.IndicatorFactory().from_custom_func(custom_func_nb)\\\n",
    "      .from_params(ts, [0, 1, 2], 10).output)"
   ]
  },
  {
   "cell_type": "markdown",
   "metadata": {},
   "source": [
    "### from_apply_func"
   ]
  },
  {
   "cell_type": "code",
   "execution_count": 14,
   "metadata": {},
   "outputs": [
    {
     "name": "stdout",
     "output_type": "stream",
     "text": [
      "custom_param    0              1               2           \n",
      "                a    b    c    a    b    c     a     b    c\n",
      "2018-01-01    0.0  NaN  0.0  1.0  NaN  1.0   2.0   NaN  2.0\n",
      "2018-01-02    0.0  0.0  0.0  2.0  6.0  2.0   4.0  12.0  4.0\n",
      "2018-01-03    0.0  0.0  0.0  3.0  5.0  3.0   6.0  10.0  6.0\n",
      "2018-01-04    0.0  0.0  NaN  4.0  4.0  NaN   8.0   8.0  NaN\n",
      "2018-01-05    0.0  0.0  0.0  5.0  3.0  3.0  10.0   6.0  6.0\n",
      "2018-01-06    0.0  0.0  0.0  6.0  2.0  2.0  12.0   4.0  4.0\n",
      "2018-01-07    NaN  0.0  0.0  NaN  1.0  1.0   NaN   2.0  2.0\n",
      "custom_param    0              1               2           \n",
      "                a    b    c    a    b    c     a     b    c\n",
      "2018-01-01    0.0  NaN  0.0  1.0  NaN  1.0   2.0   NaN  2.0\n",
      "2018-01-02    0.0  0.0  0.0  2.0  6.0  2.0   4.0  12.0  4.0\n",
      "2018-01-03    0.0  0.0  0.0  3.0  5.0  3.0   6.0  10.0  6.0\n",
      "2018-01-04    0.0  0.0  NaN  4.0  4.0  NaN   8.0   8.0  NaN\n",
      "2018-01-05    0.0  0.0  0.0  5.0  3.0  3.0  10.0   6.0  6.0\n",
      "2018-01-06    0.0  0.0  0.0  6.0  2.0  2.0  12.0   4.0  4.0\n",
      "2018-01-07    NaN  0.0  0.0  NaN  1.0  1.0   NaN   2.0  2.0\n"
     ]
    }
   ],
   "source": [
    "# Apply function is performed on each parameter individually, and each output is then stacked for you\n",
    "# Apply functions are less customizable than custom functions, but are simpler to write\n",
    "print(vbt.IndicatorFactory().from_apply_func(lambda ts, p: ts * p)\\\n",
    "      .from_params(ts, [0, 1, 2]).output)\n",
    "print(vbt.IndicatorFactory().from_apply_func(njit(lambda ts, p: ts * p))\\\n",
    "      .from_params(ts, [0, 1, 2]).output)"
   ]
  },
  {
   "cell_type": "code",
   "execution_count": 15,
   "metadata": {},
   "outputs": [
    {
     "name": "stdout",
     "output_type": "stream",
     "text": [
      "custom_param    0               1                 2            \n",
      "                a    b    c     a     b     c     a     b     c\n",
      "2018-01-01    0.0  NaN  0.0   2.0   NaN   2.0   4.0   NaN   4.0\n",
      "2018-01-02    0.0  0.0  0.0   6.0  42.0   6.0  12.0  84.0  12.0\n",
      "2018-01-03    0.0  0.0  0.0  12.0  30.0  12.0  24.0  60.0  24.0\n",
      "2018-01-04    0.0  0.0  NaN  20.0  20.0   NaN  40.0  40.0   NaN\n",
      "2018-01-05    0.0  0.0  0.0  30.0  12.0  12.0  60.0  24.0  24.0\n",
      "2018-01-06    0.0  0.0  0.0  42.0   6.0   6.0  84.0  12.0  12.0\n",
      "2018-01-07    NaN  0.0  0.0   NaN   2.0   2.0   NaN   4.0   4.0\n",
      "custom_param    0               1                 2            \n",
      "                a    b    c     a     b     c     a     b     c\n",
      "2018-01-01    0.0  NaN  0.0   2.0   NaN   2.0   4.0   NaN   4.0\n",
      "2018-01-02    0.0  0.0  0.0   6.0  42.0   6.0  12.0  84.0  12.0\n",
      "2018-01-03    0.0  0.0  0.0  12.0  30.0  12.0  24.0  60.0  24.0\n",
      "2018-01-04    0.0  0.0  NaN  20.0  20.0   NaN  40.0  40.0   NaN\n",
      "2018-01-05    0.0  0.0  0.0  30.0  12.0  12.0  60.0  24.0  24.0\n",
      "2018-01-06    0.0  0.0  0.0  42.0   6.0   6.0  84.0  12.0  12.0\n",
      "2018-01-07    NaN  0.0  0.0   NaN   2.0   2.0   NaN   4.0   4.0\n"
     ]
    }
   ],
   "source": [
    "print(vbt.IndicatorFactory(ts_names=['ts1', 'ts2']).from_apply_func(lambda ts1, ts2, p: ts1 * ts2 * p)\\\n",
    "      .from_params(ts, ts+1, [0, 1, 2]).output) # test multiple ts\n",
    "print(vbt.IndicatorFactory(ts_names=['ts1', 'ts2']).from_apply_func(njit(lambda ts1, ts2, p: ts1 * ts2 * p))\\\n",
    "      .from_params(ts, ts+1, [0, 1, 2]).output)"
   ]
  },
  {
   "cell_type": "code",
   "execution_count": 16,
   "metadata": {},
   "outputs": [
    {
     "name": "stdout",
     "output_type": "stream",
     "text": [
      "custom_p1      0                1            \n",
      "custom_p2      2                3            \n",
      "               a     b    c     a     b     c\n",
      "2018-01-01   2.0   NaN  2.0   4.0   NaN   4.0\n",
      "2018-01-02   4.0  12.0  4.0   8.0  24.0   8.0\n",
      "2018-01-03   6.0  10.0  6.0  12.0  20.0  12.0\n",
      "2018-01-04   8.0   8.0  NaN  16.0  16.0   NaN\n",
      "2018-01-05  10.0   6.0  6.0  20.0  12.0  12.0\n",
      "2018-01-06  12.0   4.0  4.0  24.0   8.0   8.0\n",
      "2018-01-07   NaN   2.0  2.0   NaN   4.0   4.0\n",
      "custom_p1      0                1            \n",
      "custom_p2      2                3            \n",
      "               a     b    c     a     b     c\n",
      "2018-01-01   2.0   NaN  2.0   4.0   NaN   4.0\n",
      "2018-01-02   4.0  12.0  4.0   8.0  24.0   8.0\n",
      "2018-01-03   6.0  10.0  6.0  12.0  20.0  12.0\n",
      "2018-01-04   8.0   8.0  NaN  16.0  16.0   NaN\n",
      "2018-01-05  10.0   6.0  6.0  20.0  12.0  12.0\n",
      "2018-01-06  12.0   4.0  4.0  24.0   8.0   8.0\n",
      "2018-01-07   NaN   2.0  2.0   NaN   4.0   4.0\n"
     ]
    }
   ],
   "source": [
    "print(vbt.IndicatorFactory(param_names=['p1', 'p2']).from_apply_func(lambda ts, p1, p2: ts * (p1 + p2))\\\n",
    "      .from_params(ts, [0, 1], [2, 3]).output) # test multiple params\n",
    "print(vbt.IndicatorFactory(param_names=['p1', 'p2']).from_apply_func(njit(lambda ts, p1, p2: ts * (p1 + p2)))\\\n",
    "      .from_params(ts, [0, 1], [2, 3]).output)"
   ]
  },
  {
   "cell_type": "code",
   "execution_count": 17,
   "metadata": {},
   "outputs": [
    {
     "name": "stdout",
     "output_type": "stream",
     "text": [
      "custom_p1      0                                 1                         \\\n",
      "custom_p2      2                3                2                3         \n",
      "               a     b    c     a     b    c     a     b    c     a     b   \n",
      "2018-01-01   2.0   NaN  2.0   3.0   NaN  3.0   3.0   NaN  3.0   4.0   NaN   \n",
      "2018-01-02   4.0  12.0  4.0   6.0  18.0  6.0   6.0  18.0  6.0   8.0  24.0   \n",
      "2018-01-03   6.0  10.0  6.0   9.0  15.0  9.0   9.0  15.0  9.0  12.0  20.0   \n",
      "2018-01-04   8.0   8.0  NaN  12.0  12.0  NaN  12.0  12.0  NaN  16.0  16.0   \n",
      "2018-01-05  10.0   6.0  6.0  15.0   9.0  9.0  15.0   9.0  9.0  20.0  12.0   \n",
      "2018-01-06  12.0   4.0  4.0  18.0   6.0  6.0  18.0   6.0  6.0  24.0   8.0   \n",
      "2018-01-07   NaN   2.0  2.0   NaN   3.0  3.0   NaN   3.0  3.0   NaN   4.0   \n",
      "\n",
      "custom_p1         \n",
      "custom_p2         \n",
      "               c  \n",
      "2018-01-01   4.0  \n",
      "2018-01-02   8.0  \n",
      "2018-01-03  12.0  \n",
      "2018-01-04   NaN  \n",
      "2018-01-05  12.0  \n",
      "2018-01-06   8.0  \n",
      "2018-01-07   4.0  \n",
      "custom_p1      0                                 1                         \\\n",
      "custom_p2      2                3                2                3         \n",
      "               a     b    c     a     b    c     a     b    c     a     b   \n",
      "2018-01-01   2.0   NaN  2.0   3.0   NaN  3.0   3.0   NaN  3.0   4.0   NaN   \n",
      "2018-01-02   4.0  12.0  4.0   6.0  18.0  6.0   6.0  18.0  6.0   8.0  24.0   \n",
      "2018-01-03   6.0  10.0  6.0   9.0  15.0  9.0   9.0  15.0  9.0  12.0  20.0   \n",
      "2018-01-04   8.0   8.0  NaN  12.0  12.0  NaN  12.0  12.0  NaN  16.0  16.0   \n",
      "2018-01-05  10.0   6.0  6.0  15.0   9.0  9.0  15.0   9.0  9.0  20.0  12.0   \n",
      "2018-01-06  12.0   4.0  4.0  18.0   6.0  6.0  18.0   6.0  6.0  24.0   8.0   \n",
      "2018-01-07   NaN   2.0  2.0   NaN   3.0  3.0   NaN   3.0  3.0   NaN   4.0   \n",
      "\n",
      "custom_p1         \n",
      "custom_p2         \n",
      "               c  \n",
      "2018-01-01   4.0  \n",
      "2018-01-02   8.0  \n",
      "2018-01-03  12.0  \n",
      "2018-01-04   NaN  \n",
      "2018-01-05  12.0  \n",
      "2018-01-06   8.0  \n",
      "2018-01-07   4.0  \n"
     ]
    }
   ],
   "source": [
    "print(vbt.IndicatorFactory(param_names=['p1', 'p2']).from_apply_func(lambda ts, p1, p2: ts * (p1 + p2))\\\n",
    "      .from_params(ts, [0, 1], [2, 3], param_product=True).output) # test param product\n",
    "print(vbt.IndicatorFactory(param_names=['p1', 'p2']).from_apply_func(njit(lambda ts, p1, p2: ts * (p1 + p2)))\\\n",
    "      .from_params(ts, [0, 1], [2, 3], param_product=True).output)"
   ]
  },
  {
   "cell_type": "code",
   "execution_count": 18,
   "metadata": {},
   "outputs": [
    {
     "name": "stdout",
     "output_type": "stream",
     "text": [
      "custom_param    0              1               2           \n",
      "                a    b    c    a    b    c     a     b    c\n",
      "2018-01-01    0.0  NaN  0.0  1.0  NaN  1.0   2.0   NaN  2.0\n",
      "2018-01-02    0.0  0.0  0.0  2.0  6.0  2.0   4.0  12.0  4.0\n",
      "2018-01-03    0.0  0.0  0.0  3.0  5.0  3.0   6.0  10.0  6.0\n",
      "2018-01-04    0.0  0.0  NaN  4.0  4.0  NaN   8.0   8.0  NaN\n",
      "2018-01-05    0.0  0.0  0.0  5.0  3.0  3.0  10.0   6.0  6.0\n",
      "2018-01-06    0.0  0.0  0.0  6.0  2.0  2.0  12.0   4.0  4.0\n",
      "2018-01-07    NaN  0.0  0.0  NaN  1.0  1.0   NaN   2.0  2.0\n",
      "custom_param    0              1               2           \n",
      "                a    b    c    a    b    c     a     b    c\n",
      "2018-01-01    0.0  NaN  0.0  1.0  NaN  1.0   2.0   NaN  2.0\n",
      "2018-01-02    0.0  0.0  0.0  2.0  6.0  2.0   4.0  12.0  4.0\n",
      "2018-01-03    0.0  0.0  0.0  3.0  5.0  3.0   6.0  10.0  6.0\n",
      "2018-01-04    0.0  0.0  NaN  4.0  4.0  NaN   8.0   8.0  NaN\n",
      "2018-01-05    0.0  0.0  0.0  5.0  3.0  3.0  10.0   6.0  6.0\n",
      "2018-01-06    0.0  0.0  0.0  6.0  2.0  2.0  12.0   4.0  4.0\n",
      "2018-01-07    NaN  0.0  0.0  NaN  1.0  1.0   NaN   2.0  2.0\n"
     ]
    }
   ],
   "source": [
    "print(vbt.IndicatorFactory(output_names=['o1', 'o2']).from_apply_func(lambda ts, p: (ts * p, ts * p ** 2))\\\n",
    "      .from_params(ts, [0, 1, 2]).o1) # test multiple outputs\n",
    "print(vbt.IndicatorFactory(output_names=['o1', 'o2']).from_apply_func(njit(lambda ts, p: (ts * p, ts * p ** 2)))\\\n",
    "      .from_params(ts, [0, 1, 2]).o1)"
   ]
  },
  {
   "cell_type": "code",
   "execution_count": 19,
   "metadata": {},
   "outputs": [
    {
     "name": "stdout",
     "output_type": "stream",
     "text": [
      "custom_param    0              1               2           \n",
      "                a    b    c    a    b    c     a     b    c\n",
      "2018-01-01    3.0  NaN  3.0  4.0  NaN  4.0   5.0   NaN  5.0\n",
      "2018-01-02    3.0  3.0  3.0  5.0  9.0  5.0   7.0  15.0  7.0\n",
      "2018-01-03    3.0  3.0  3.0  6.0  8.0  6.0   9.0  13.0  9.0\n",
      "2018-01-04    3.0  3.0  NaN  7.0  7.0  NaN  11.0  11.0  NaN\n",
      "2018-01-05    3.0  3.0  3.0  8.0  6.0  6.0  13.0   9.0  9.0\n",
      "2018-01-06    3.0  3.0  3.0  9.0  5.0  5.0  15.0   7.0  7.0\n",
      "2018-01-07    NaN  3.0  3.0  NaN  4.0  4.0   NaN   5.0  5.0\n",
      "custom_param    0              1               2           \n",
      "                a    b    c    a    b    c     a     b    c\n",
      "2018-01-01    3.0  NaN  3.0  4.0  NaN  4.0   5.0   NaN  5.0\n",
      "2018-01-02    3.0  3.0  3.0  5.0  9.0  5.0   7.0  15.0  7.0\n",
      "2018-01-03    3.0  3.0  3.0  6.0  8.0  6.0   9.0  13.0  9.0\n",
      "2018-01-04    3.0  3.0  NaN  7.0  7.0  NaN  11.0  11.0  NaN\n",
      "2018-01-05    3.0  3.0  3.0  8.0  6.0  6.0  13.0   9.0  9.0\n",
      "2018-01-06    3.0  3.0  3.0  9.0  5.0  5.0  15.0   7.0  7.0\n",
      "2018-01-07    NaN  3.0  3.0  NaN  4.0  4.0   NaN   5.0  5.0\n"
     ]
    }
   ],
   "source": [
    "print(vbt.IndicatorFactory().from_apply_func(lambda ts, p, a: ts * p + a)\\\n",
    "      .from_params(ts, [0, 1, 2], 3).output) # test *args\n",
    "print(vbt.IndicatorFactory().from_apply_func(njit(lambda ts, p, a: ts * p + a))\\\n",
    "      .from_params(ts, [0, 1, 2], 3).output)"
   ]
  },
  {
   "cell_type": "code",
   "execution_count": 20,
   "metadata": {},
   "outputs": [
    {
     "name": "stdout",
     "output_type": "stream",
     "text": [
      "custom_param    0              1               2           \n",
      "                a    b    c    a    b    c     a     b    c\n",
      "2018-01-01    3.0  NaN  3.0  4.0  NaN  4.0   5.0   NaN  5.0\n",
      "2018-01-02    3.0  3.0  3.0  5.0  9.0  5.0   7.0  15.0  7.0\n",
      "2018-01-03    3.0  3.0  3.0  6.0  8.0  6.0   9.0  13.0  9.0\n",
      "2018-01-04    3.0  3.0  NaN  7.0  7.0  NaN  11.0  11.0  NaN\n",
      "2018-01-05    3.0  3.0  3.0  8.0  6.0  6.0  13.0   9.0  9.0\n",
      "2018-01-06    3.0  3.0  3.0  9.0  5.0  5.0  15.0   7.0  7.0\n",
      "2018-01-07    NaN  3.0  3.0  NaN  4.0  4.0   NaN   5.0  5.0\n"
     ]
    }
   ],
   "source": [
    "print(vbt.IndicatorFactory().from_apply_func(lambda ts, p, a=1: ts * p + a)\\\n",
    "      .from_params(ts, [0, 1, 2], a=3).output) # test **kwargs\n",
    "# Numba doesn't support kwargs out of the box"
   ]
  },
  {
   "cell_type": "code",
   "execution_count": 21,
   "metadata": {},
   "outputs": [
    {
     "name": "stdout",
     "output_type": "stream",
     "text": [
      "custom_param    0                1                     2               \n",
      "                a    b    c      a      b      c       a       b      c\n",
      "2018-01-01    0.0  NaN  0.0  100.0    NaN  100.0   200.0     NaN  200.0\n",
      "2018-01-02    0.0  0.0  0.0  200.0  600.0  200.0   400.0  1200.0  400.0\n",
      "2018-01-03    0.0  0.0  0.0  300.0  500.0  300.0   600.0  1000.0  600.0\n",
      "2018-01-04    0.0  0.0  NaN  400.0  400.0    NaN   800.0   800.0    NaN\n",
      "2018-01-05    0.0  0.0  0.0  500.0  300.0  300.0  1000.0   600.0  600.0\n",
      "2018-01-06    0.0  0.0  0.0  600.0  200.0  200.0  1200.0   400.0  400.0\n",
      "2018-01-07    NaN  0.0  0.0    NaN  100.0  100.0     NaN   200.0  200.0\n",
      "custom_param    0                1                     2               \n",
      "                a    b    c      a      b      c       a       b      c\n",
      "2018-01-01    0.0  NaN  0.0  100.0    NaN  100.0   200.0     NaN  200.0\n",
      "2018-01-02    0.0  0.0  0.0  200.0  600.0  200.0   400.0  1200.0  400.0\n",
      "2018-01-03    0.0  0.0  0.0  300.0  500.0  300.0   600.0  1000.0  600.0\n",
      "2018-01-04    0.0  0.0  NaN  400.0  400.0    NaN   800.0   800.0    NaN\n",
      "2018-01-05    0.0  0.0  0.0  500.0  300.0  300.0  1000.0   600.0  600.0\n",
      "2018-01-06    0.0  0.0  0.0  600.0  200.0  200.0  1200.0   400.0  400.0\n",
      "2018-01-07    NaN  0.0  0.0    NaN  100.0  100.0     NaN   200.0  200.0\n"
     ]
    }
   ],
   "source": [
    "print(vbt.IndicatorFactory().from_apply_func(lambda ts, param, c: ts * param * c, caching_func=lambda ts, params: 100)\\\n",
    "      .from_params(ts, [0, 1, 2]).output) # test caching func\n",
    "print(vbt.IndicatorFactory().from_apply_func(njit(lambda ts, param, c: ts * param * c), caching_func=lambda ts, params: 100)\\\n",
    "      .from_params(ts, [0, 1, 2]).output)"
   ]
  },
  {
   "cell_type": "code",
   "execution_count": null,
   "metadata": {},
   "outputs": [],
   "source": []
  }
 ],
 "metadata": {
  "kernelspec": {
   "display_name": "Python 3",
   "language": "python",
   "name": "python3"
  },
  "language_info": {
   "codemirror_mode": {
    "name": "ipython",
    "version": 3
   },
   "file_extension": ".py",
   "mimetype": "text/x-python",
   "name": "python",
   "nbconvert_exporter": "python",
   "pygments_lexer": "ipython3",
   "version": "3.7.3"
  },
  "widgets": {
   "application/vnd.jupyter.widget-state+json": {
    "state": {},
    "version_major": 2,
    "version_minor": 0
   }
  }
 },
 "nbformat": 4,
 "nbformat_minor": 4
}
