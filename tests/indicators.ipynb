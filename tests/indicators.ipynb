{
 "cells": [
  {
   "cell_type": "markdown",
   "metadata": {},
   "source": [
    "# indicators"
   ]
  },
  {
   "cell_type": "code",
   "execution_count": 1,
   "metadata": {},
   "outputs": [],
   "source": [
    "import vectorbt as vbt"
   ]
  },
  {
   "cell_type": "code",
   "execution_count": 2,
   "metadata": {
    "Collapsed": "false"
   },
   "outputs": [],
   "source": [
    "import numpy as np\n",
    "import pandas as pd\n",
    "from datetime import datetime, timedelta\n",
    "from numba import njit, f8, i8, b1, optional\n",
    "import itertools"
   ]
  },
  {
   "cell_type": "code",
   "execution_count": 3,
   "metadata": {},
   "outputs": [
    {
     "name": "stdout",
     "output_type": "stream",
     "text": [
      "              a    b    c\n",
      "2018-01-01  1.0  NaN  1.0\n",
      "2018-01-02  2.0  6.0  2.0\n",
      "2018-01-03  3.0  5.0  3.0\n",
      "2018-01-04  4.0  4.0  NaN\n",
      "2018-01-05  5.0  3.0  3.0\n",
      "2018-01-06  6.0  2.0  2.0\n",
      "2018-01-07  NaN  1.0  1.0\n"
     ]
    }
   ],
   "source": [
    "index = pd.Index([\n",
    "    datetime(2018, 1, 1),\n",
    "    datetime(2018, 1, 2),\n",
    "    datetime(2018, 1, 3),\n",
    "    datetime(2018, 1, 4),\n",
    "    datetime(2018, 1, 5),\n",
    "    datetime(2018, 1, 6),\n",
    "    datetime(2018, 1, 7)\n",
    "])\n",
    "columns = ['a', 'b', 'c']\n",
    "ts = pd.DataFrame({\n",
    "    'a': [1, 2, 3, 4, 5, 6, np.nan], \n",
    "    'b': [np.nan, 6, 5, 4, 3, 2, 1],\n",
    "    'c': [1, 2, 3, np.nan, 3, 2, 1]}, index=index).astype(np.float64)\n",
    "\n",
    "print(ts)"
   ]
  },
  {
   "cell_type": "code",
   "execution_count": 4,
   "metadata": {},
   "outputs": [
    {
     "data": {
      "text/plain": [
       "(1000, 1000)"
      ]
     },
     "execution_count": 4,
     "metadata": {},
     "output_type": "execute_result"
    }
   ],
   "source": [
    "big_ts = pd.DataFrame(np.random.randint(10, size=(1000, 1000)).astype(float))\n",
    "big_ts.index = [datetime(2018, 1, 1) + timedelta(days=i) for i in range(1000)]\n",
    "big_ts.shape"
   ]
  },
  {
   "cell_type": "markdown",
   "metadata": {},
   "source": [
    "## IndicatorFactory"
   ]
  },
  {
   "cell_type": "code",
   "execution_count": 74,
   "metadata": {},
   "outputs": [
    {
     "name": "stdout",
     "output_type": "stream",
     "text": [
      "custom_param      0                    1                    2              \n",
      "                  a      b      c      a      b      c      a      b      c\n",
      "2018-01-01    110.0    NaN  110.0  111.0    NaN  111.0  112.0    NaN  112.0\n",
      "2018-01-02    110.0  110.0  110.0  112.0  116.0  112.0  114.0  122.0  114.0\n",
      "2018-01-03    110.0  110.0  110.0  113.0  115.0  113.0  116.0  120.0  116.0\n",
      "2018-01-04    110.0  110.0    NaN  114.0  114.0    NaN  118.0  118.0    NaN\n",
      "2018-01-05    110.0  110.0  110.0  115.0  113.0  113.0  120.0  116.0  116.0\n",
      "2018-01-06    110.0  110.0  110.0  116.0  112.0  112.0  122.0  114.0  114.0\n",
      "2018-01-07      NaN  110.0  110.0    NaN  111.0  111.0    NaN  112.0  112.0\n",
      "custom_param      0                    1                    2              \n",
      "                  a      b      c      a      b      c      a      b      c\n",
      "2018-01-01    110.0    NaN  110.0  111.0    NaN  111.0  112.0    NaN  112.0\n",
      "2018-01-02    110.0  110.0  110.0  112.0  116.0  112.0  114.0  122.0  114.0\n",
      "2018-01-03    110.0  110.0  110.0  113.0  115.0  113.0  116.0  120.0  116.0\n",
      "2018-01-04    110.0  110.0    NaN  114.0  114.0    NaN  118.0  118.0    NaN\n",
      "2018-01-05    110.0  110.0  110.0  115.0  113.0  113.0  120.0  116.0  116.0\n",
      "2018-01-06    110.0  110.0  110.0  116.0  112.0  112.0  122.0  114.0  114.0\n",
      "2018-01-07      NaN  110.0  110.0    NaN  111.0  111.0    NaN  112.0  112.0\n"
     ]
    }
   ],
   "source": [
    "def apply_func(i, ts, p, a, b=100):\n",
    "    return ts * p[i] + a + b\n",
    "\n",
    "@njit\n",
    "def apply_func_nb(i, ts, p, a):\n",
    "    return ts * p[i] + a + 100 # numba doesn't support **kwargs\n",
    "\n",
    "# Custom function can be anything that takes time series, params and other arguments, and returns outputs\n",
    "def custom_func(ts, p, *args, **kwargs):\n",
    "    return vbt.utils.combine_fns.apply_and_concat_one(len(p), apply_func, ts.vbt.to_2d_array(), p, *args, **kwargs)\n",
    "\n",
    "def custom_func_nb(ts, p, *args):\n",
    "    return vbt.utils.combine_fns.apply_and_concat_one_nb(len(p), apply_func_nb, ts.vbt.to_2d_array(), p, *args)\n",
    "\n",
    "print(vbt.IndicatorFactory().from_custom_func(custom_func)\\\n",
    "      .from_params(ts, [0, 1, 2], 10, b=100).output)\n",
    "print(vbt.IndicatorFactory().from_custom_func(custom_func_nb)\\\n",
    "      .from_params(ts, [0, 1, 2], 10).output)"
   ]
  },
  {
   "cell_type": "code",
   "execution_count": 5,
   "metadata": {},
   "outputs": [
    {
     "name": "stdout",
     "output_type": "stream",
     "text": [
      "custom_param    0              1               2           \n",
      "                a    b    c    a    b    c     a     b    c\n",
      "2018-01-01    0.0  NaN  0.0  1.0  NaN  1.0   2.0   NaN  2.0\n",
      "2018-01-02    0.0  0.0  0.0  2.0  6.0  2.0   4.0  12.0  4.0\n",
      "2018-01-03    0.0  0.0  0.0  3.0  5.0  3.0   6.0  10.0  6.0\n",
      "2018-01-04    0.0  0.0  NaN  4.0  4.0  NaN   8.0   8.0  NaN\n",
      "2018-01-05    0.0  0.0  0.0  5.0  3.0  3.0  10.0   6.0  6.0\n",
      "2018-01-06    0.0  0.0  0.0  6.0  2.0  2.0  12.0   4.0  4.0\n",
      "2018-01-07    NaN  0.0  0.0  NaN  1.0  1.0   NaN   2.0  2.0\n",
      "custom_param    0              1               2           \n",
      "                a    b    c    a    b    c     a     b    c\n",
      "2018-01-01    0.0  NaN  0.0  1.0  NaN  1.0   2.0   NaN  2.0\n",
      "2018-01-02    0.0  0.0  0.0  2.0  6.0  2.0   4.0  12.0  4.0\n",
      "2018-01-03    0.0  0.0  0.0  3.0  5.0  3.0   6.0  10.0  6.0\n",
      "2018-01-04    0.0  0.0  NaN  4.0  4.0  NaN   8.0   8.0  NaN\n",
      "2018-01-05    0.0  0.0  0.0  5.0  3.0  3.0  10.0   6.0  6.0\n",
      "2018-01-06    0.0  0.0  0.0  6.0  2.0  2.0  12.0   4.0  4.0\n",
      "2018-01-07    NaN  0.0  0.0  NaN  1.0  1.0   NaN   2.0  2.0\n"
     ]
    }
   ],
   "source": [
    "# Apply function is performed on each parameter individually, and each output is then stacked for you\n",
    "# Apply functions are less customizable than custom functions, but are simpler to write\n",
    "print(vbt.IndicatorFactory().from_apply_func(lambda ts, p: ts * p)\\\n",
    "      .from_params(ts, [0, 1, 2]).output)\n",
    "print(vbt.IndicatorFactory().from_apply_func(njit(lambda ts, p: ts * p))\\\n",
    "      .from_params(ts, [0, 1, 2]).output)"
   ]
  },
  {
   "cell_type": "code",
   "execution_count": 6,
   "metadata": {},
   "outputs": [
    {
     "name": "stdout",
     "output_type": "stream",
     "text": [
      "custom_param    0               1                 2            \n",
      "                a    b    c     a     b     c     a     b     c\n",
      "2018-01-01    0.0  NaN  0.0   2.0   NaN   2.0   4.0   NaN   4.0\n",
      "2018-01-02    0.0  0.0  0.0   6.0  42.0   6.0  12.0  84.0  12.0\n",
      "2018-01-03    0.0  0.0  0.0  12.0  30.0  12.0  24.0  60.0  24.0\n",
      "2018-01-04    0.0  0.0  NaN  20.0  20.0   NaN  40.0  40.0   NaN\n",
      "2018-01-05    0.0  0.0  0.0  30.0  12.0  12.0  60.0  24.0  24.0\n",
      "2018-01-06    0.0  0.0  0.0  42.0   6.0   6.0  84.0  12.0  12.0\n",
      "2018-01-07    NaN  0.0  0.0   NaN   2.0   2.0   NaN   4.0   4.0\n",
      "custom_param    0               1                 2            \n",
      "                a    b    c     a     b     c     a     b     c\n",
      "2018-01-01    0.0  NaN  0.0   2.0   NaN   2.0   4.0   NaN   4.0\n",
      "2018-01-02    0.0  0.0  0.0   6.0  42.0   6.0  12.0  84.0  12.0\n",
      "2018-01-03    0.0  0.0  0.0  12.0  30.0  12.0  24.0  60.0  24.0\n",
      "2018-01-04    0.0  0.0  NaN  20.0  20.0   NaN  40.0  40.0   NaN\n",
      "2018-01-05    0.0  0.0  0.0  30.0  12.0  12.0  60.0  24.0  24.0\n",
      "2018-01-06    0.0  0.0  0.0  42.0   6.0   6.0  84.0  12.0  12.0\n",
      "2018-01-07    NaN  0.0  0.0   NaN   2.0   2.0   NaN   4.0   4.0\n"
     ]
    }
   ],
   "source": [
    "print(vbt.IndicatorFactory(ts_names=['ts1', 'ts2']).from_apply_func(lambda ts1, ts2, p: ts1 * ts2 * p)\\\n",
    "      .from_params(ts, ts+1, [0, 1, 2]).output) # test multiple ts\n",
    "print(vbt.IndicatorFactory(ts_names=['ts1', 'ts2']).from_apply_func(njit(lambda ts1, ts2, p: ts1 * ts2 * p))\\\n",
    "      .from_params(ts, ts+1, [0, 1, 2]).output)"
   ]
  },
  {
   "cell_type": "code",
   "execution_count": 7,
   "metadata": {},
   "outputs": [
    {
     "name": "stdout",
     "output_type": "stream",
     "text": [
      "custom_p1      0                1            \n",
      "custom_p2      2                3            \n",
      "               a     b    c     a     b     c\n",
      "2018-01-01   2.0   NaN  2.0   4.0   NaN   4.0\n",
      "2018-01-02   4.0  12.0  4.0   8.0  24.0   8.0\n",
      "2018-01-03   6.0  10.0  6.0  12.0  20.0  12.0\n",
      "2018-01-04   8.0   8.0  NaN  16.0  16.0   NaN\n",
      "2018-01-05  10.0   6.0  6.0  20.0  12.0  12.0\n",
      "2018-01-06  12.0   4.0  4.0  24.0   8.0   8.0\n",
      "2018-01-07   NaN   2.0  2.0   NaN   4.0   4.0\n",
      "custom_p1      0                1            \n",
      "custom_p2      2                3            \n",
      "               a     b    c     a     b     c\n",
      "2018-01-01   2.0   NaN  2.0   4.0   NaN   4.0\n",
      "2018-01-02   4.0  12.0  4.0   8.0  24.0   8.0\n",
      "2018-01-03   6.0  10.0  6.0  12.0  20.0  12.0\n",
      "2018-01-04   8.0   8.0  NaN  16.0  16.0   NaN\n",
      "2018-01-05  10.0   6.0  6.0  20.0  12.0  12.0\n",
      "2018-01-06  12.0   4.0  4.0  24.0   8.0   8.0\n",
      "2018-01-07   NaN   2.0  2.0   NaN   4.0   4.0\n"
     ]
    }
   ],
   "source": [
    "print(vbt.IndicatorFactory(param_names=['p1', 'p2']).from_apply_func(lambda ts, p1, p2: ts * (p1 + p2))\\\n",
    "      .from_params(ts, [0, 1], [2, 3]).output) # test multiple params\n",
    "print(vbt.IndicatorFactory(param_names=['p1', 'p2']).from_apply_func(njit(lambda ts, p1, p2: ts * (p1 + p2)))\\\n",
    "      .from_params(ts, [0, 1], [2, 3]).output)"
   ]
  },
  {
   "cell_type": "code",
   "execution_count": 8,
   "metadata": {},
   "outputs": [
    {
     "name": "stdout",
     "output_type": "stream",
     "text": [
      "custom_p1      0                                 1                         \\\n",
      "custom_p2      2                3                2                3         \n",
      "               a     b    c     a     b    c     a     b    c     a     b   \n",
      "2018-01-01   2.0   NaN  2.0   3.0   NaN  3.0   3.0   NaN  3.0   4.0   NaN   \n",
      "2018-01-02   4.0  12.0  4.0   6.0  18.0  6.0   6.0  18.0  6.0   8.0  24.0   \n",
      "2018-01-03   6.0  10.0  6.0   9.0  15.0  9.0   9.0  15.0  9.0  12.0  20.0   \n",
      "2018-01-04   8.0   8.0  NaN  12.0  12.0  NaN  12.0  12.0  NaN  16.0  16.0   \n",
      "2018-01-05  10.0   6.0  6.0  15.0   9.0  9.0  15.0   9.0  9.0  20.0  12.0   \n",
      "2018-01-06  12.0   4.0  4.0  18.0   6.0  6.0  18.0   6.0  6.0  24.0   8.0   \n",
      "2018-01-07   NaN   2.0  2.0   NaN   3.0  3.0   NaN   3.0  3.0   NaN   4.0   \n",
      "\n",
      "custom_p1         \n",
      "custom_p2         \n",
      "               c  \n",
      "2018-01-01   4.0  \n",
      "2018-01-02   8.0  \n",
      "2018-01-03  12.0  \n",
      "2018-01-04   NaN  \n",
      "2018-01-05  12.0  \n",
      "2018-01-06   8.0  \n",
      "2018-01-07   4.0  \n",
      "custom_p1      0                                 1                         \\\n",
      "custom_p2      2                3                2                3         \n",
      "               a     b    c     a     b    c     a     b    c     a     b   \n",
      "2018-01-01   2.0   NaN  2.0   3.0   NaN  3.0   3.0   NaN  3.0   4.0   NaN   \n",
      "2018-01-02   4.0  12.0  4.0   6.0  18.0  6.0   6.0  18.0  6.0   8.0  24.0   \n",
      "2018-01-03   6.0  10.0  6.0   9.0  15.0  9.0   9.0  15.0  9.0  12.0  20.0   \n",
      "2018-01-04   8.0   8.0  NaN  12.0  12.0  NaN  12.0  12.0  NaN  16.0  16.0   \n",
      "2018-01-05  10.0   6.0  6.0  15.0   9.0  9.0  15.0   9.0  9.0  20.0  12.0   \n",
      "2018-01-06  12.0   4.0  4.0  18.0   6.0  6.0  18.0   6.0  6.0  24.0   8.0   \n",
      "2018-01-07   NaN   2.0  2.0   NaN   3.0  3.0   NaN   3.0  3.0   NaN   4.0   \n",
      "\n",
      "custom_p1         \n",
      "custom_p2         \n",
      "               c  \n",
      "2018-01-01   4.0  \n",
      "2018-01-02   8.0  \n",
      "2018-01-03  12.0  \n",
      "2018-01-04   NaN  \n",
      "2018-01-05  12.0  \n",
      "2018-01-06   8.0  \n",
      "2018-01-07   4.0  \n"
     ]
    }
   ],
   "source": [
    "print(vbt.IndicatorFactory(param_names=['p1', 'p2']).from_apply_func(lambda ts, p1, p2: ts * (p1 + p2))\\\n",
    "      .from_params(ts, [0, 1], [2, 3], param_product=True).output) # test param product\n",
    "print(vbt.IndicatorFactory(param_names=['p1', 'p2']).from_apply_func(njit(lambda ts, p1, p2: ts * (p1 + p2)))\\\n",
    "      .from_params(ts, [0, 1], [2, 3], param_product=True).output)"
   ]
  },
  {
   "cell_type": "code",
   "execution_count": 9,
   "metadata": {},
   "outputs": [
    {
     "name": "stdout",
     "output_type": "stream",
     "text": [
      "custom_param    0              1               2           \n",
      "                a    b    c    a    b    c     a     b    c\n",
      "2018-01-01    0.0  NaN  0.0  1.0  NaN  1.0   2.0   NaN  2.0\n",
      "2018-01-02    0.0  0.0  0.0  2.0  6.0  2.0   4.0  12.0  4.0\n",
      "2018-01-03    0.0  0.0  0.0  3.0  5.0  3.0   6.0  10.0  6.0\n",
      "2018-01-04    0.0  0.0  NaN  4.0  4.0  NaN   8.0   8.0  NaN\n",
      "2018-01-05    0.0  0.0  0.0  5.0  3.0  3.0  10.0   6.0  6.0\n",
      "2018-01-06    0.0  0.0  0.0  6.0  2.0  2.0  12.0   4.0  4.0\n",
      "2018-01-07    NaN  0.0  0.0  NaN  1.0  1.0   NaN   2.0  2.0\n",
      "custom_param    0              1               2           \n",
      "                a    b    c    a    b    c     a     b    c\n",
      "2018-01-01    0.0  NaN  0.0  1.0  NaN  1.0   2.0   NaN  2.0\n",
      "2018-01-02    0.0  0.0  0.0  2.0  6.0  2.0   4.0  12.0  4.0\n",
      "2018-01-03    0.0  0.0  0.0  3.0  5.0  3.0   6.0  10.0  6.0\n",
      "2018-01-04    0.0  0.0  NaN  4.0  4.0  NaN   8.0   8.0  NaN\n",
      "2018-01-05    0.0  0.0  0.0  5.0  3.0  3.0  10.0   6.0  6.0\n",
      "2018-01-06    0.0  0.0  0.0  6.0  2.0  2.0  12.0   4.0  4.0\n",
      "2018-01-07    NaN  0.0  0.0  NaN  1.0  1.0   NaN   2.0  2.0\n"
     ]
    }
   ],
   "source": [
    "print(vbt.IndicatorFactory(output_names=['o1', 'o2']).from_apply_func(lambda ts, p: (ts * p, ts * p ** 2))\\\n",
    "      .from_params(ts, [0, 1, 2]).o1) # test multiple outputs\n",
    "print(vbt.IndicatorFactory(output_names=['o1', 'o2']).from_apply_func(njit(lambda ts, p: (ts * p, ts * p ** 2)))\\\n",
    "      .from_params(ts, [0, 1, 2]).o1)"
   ]
  },
  {
   "cell_type": "code",
   "execution_count": 10,
   "metadata": {},
   "outputs": [
    {
     "name": "stdout",
     "output_type": "stream",
     "text": [
      "custom_param    0              1               2           \n",
      "                a    b    c    a    b    c     a     b    c\n",
      "2018-01-01    3.0  NaN  3.0  4.0  NaN  4.0   5.0   NaN  5.0\n",
      "2018-01-02    3.0  3.0  3.0  5.0  9.0  5.0   7.0  15.0  7.0\n",
      "2018-01-03    3.0  3.0  3.0  6.0  8.0  6.0   9.0  13.0  9.0\n",
      "2018-01-04    3.0  3.0  NaN  7.0  7.0  NaN  11.0  11.0  NaN\n",
      "2018-01-05    3.0  3.0  3.0  8.0  6.0  6.0  13.0   9.0  9.0\n",
      "2018-01-06    3.0  3.0  3.0  9.0  5.0  5.0  15.0   7.0  7.0\n",
      "2018-01-07    NaN  3.0  3.0  NaN  4.0  4.0   NaN   5.0  5.0\n",
      "custom_param    0              1               2           \n",
      "                a    b    c    a    b    c     a     b    c\n",
      "2018-01-01    3.0  NaN  3.0  4.0  NaN  4.0   5.0   NaN  5.0\n",
      "2018-01-02    3.0  3.0  3.0  5.0  9.0  5.0   7.0  15.0  7.0\n",
      "2018-01-03    3.0  3.0  3.0  6.0  8.0  6.0   9.0  13.0  9.0\n",
      "2018-01-04    3.0  3.0  NaN  7.0  7.0  NaN  11.0  11.0  NaN\n",
      "2018-01-05    3.0  3.0  3.0  8.0  6.0  6.0  13.0   9.0  9.0\n",
      "2018-01-06    3.0  3.0  3.0  9.0  5.0  5.0  15.0   7.0  7.0\n",
      "2018-01-07    NaN  3.0  3.0  NaN  4.0  4.0   NaN   5.0  5.0\n"
     ]
    }
   ],
   "source": [
    "print(vbt.IndicatorFactory().from_apply_func(lambda ts, p, a: ts * p + a)\\\n",
    "      .from_params(ts, [0, 1, 2], 3).output) # test *args\n",
    "print(vbt.IndicatorFactory().from_apply_func(njit(lambda ts, p, a: ts * p + a))\\\n",
    "      .from_params(ts, [0, 1, 2], 3).output)"
   ]
  },
  {
   "cell_type": "code",
   "execution_count": 11,
   "metadata": {},
   "outputs": [
    {
     "name": "stdout",
     "output_type": "stream",
     "text": [
      "custom_param    0              1               2           \n",
      "                a    b    c    a    b    c     a     b    c\n",
      "2018-01-01    3.0  NaN  3.0  4.0  NaN  4.0   5.0   NaN  5.0\n",
      "2018-01-02    3.0  3.0  3.0  5.0  9.0  5.0   7.0  15.0  7.0\n",
      "2018-01-03    3.0  3.0  3.0  6.0  8.0  6.0   9.0  13.0  9.0\n",
      "2018-01-04    3.0  3.0  NaN  7.0  7.0  NaN  11.0  11.0  NaN\n",
      "2018-01-05    3.0  3.0  3.0  8.0  6.0  6.0  13.0   9.0  9.0\n",
      "2018-01-06    3.0  3.0  3.0  9.0  5.0  5.0  15.0   7.0  7.0\n",
      "2018-01-07    NaN  3.0  3.0  NaN  4.0  4.0   NaN   5.0  5.0\n"
     ]
    }
   ],
   "source": [
    "print(vbt.IndicatorFactory().from_apply_func(lambda ts, p, a=1: ts * p + a)\\\n",
    "      .from_params(ts, [0, 1, 2], a=3).output) # test **kwargs\n",
    "# Numba doesn't support kwargs out of the box"
   ]
  },
  {
   "cell_type": "code",
   "execution_count": 5,
   "metadata": {},
   "outputs": [
    {
     "name": "stdout",
     "output_type": "stream",
     "text": [
      "custom_param    0                1                     2               \n",
      "                a    b    c      a      b      c       a       b      c\n",
      "2018-01-01    0.0  NaN  0.0  100.0    NaN  100.0   200.0     NaN  200.0\n",
      "2018-01-02    0.0  0.0  0.0  200.0  600.0  200.0   400.0  1200.0  400.0\n",
      "2018-01-03    0.0  0.0  0.0  300.0  500.0  300.0   600.0  1000.0  600.0\n",
      "2018-01-04    0.0  0.0  NaN  400.0  400.0    NaN   800.0   800.0    NaN\n",
      "2018-01-05    0.0  0.0  0.0  500.0  300.0  300.0  1000.0   600.0  600.0\n",
      "2018-01-06    0.0  0.0  0.0  600.0  200.0  200.0  1200.0   400.0  400.0\n",
      "2018-01-07    NaN  0.0  0.0    NaN  100.0  100.0     NaN   200.0  200.0\n",
      "custom_param    0                1                     2               \n",
      "                a    b    c      a      b      c       a       b      c\n",
      "2018-01-01    0.0  NaN  0.0  100.0    NaN  100.0   200.0     NaN  200.0\n",
      "2018-01-02    0.0  0.0  0.0  200.0  600.0  200.0   400.0  1200.0  400.0\n",
      "2018-01-03    0.0  0.0  0.0  300.0  500.0  300.0   600.0  1000.0  600.0\n",
      "2018-01-04    0.0  0.0  NaN  400.0  400.0    NaN   800.0   800.0    NaN\n",
      "2018-01-05    0.0  0.0  0.0  500.0  300.0  300.0  1000.0   600.0  600.0\n",
      "2018-01-06    0.0  0.0  0.0  600.0  200.0  200.0  1200.0   400.0  400.0\n",
      "2018-01-07    NaN  0.0  0.0    NaN  100.0  100.0     NaN   200.0  200.0\n"
     ]
    }
   ],
   "source": [
    "print(vbt.IndicatorFactory().from_apply_func(\n",
    "    lambda ts, param, c: ts * param * c, caching_func=lambda ts, params: 100)\\\n",
    "      .from_params(ts, [0, 1, 2]).output) # test caching func\n",
    "print(vbt.IndicatorFactory().from_apply_func(\n",
    "    njit(lambda ts, param, c: ts * param * c), caching_func=lambda ts, params: 100)\\\n",
    "      .from_params(ts, [0, 1, 2]).output)"
   ]
  },
  {
   "cell_type": "code",
   "execution_count": 13,
   "metadata": {},
   "outputs": [],
   "source": [
    "CustomInd = vbt.IndicatorFactory(\n",
    "    ts_names=['ts1', 'ts2'],\n",
    "    param_names=['p1', 'p2'],\n",
    "    output_names=['o1', 'o2']\n",
    ").from_apply_func(lambda ts1, ts2, p1, p2: (ts1 * p1, ts2 * p2))"
   ]
  },
  {
   "cell_type": "code",
   "execution_count": 14,
   "metadata": {},
   "outputs": [
    {
     "data": {
      "text/plain": [
       "['__class__',\n",
       " '__delattr__',\n",
       " '__dict__',\n",
       " '__dir__',\n",
       " '__doc__',\n",
       " '__eq__',\n",
       " '__format__',\n",
       " '__ge__',\n",
       " '__getattribute__',\n",
       " '__getitem__',\n",
       " '__gt__',\n",
       " '__hash__',\n",
       " '__init__',\n",
       " '__init_subclass__',\n",
       " '__le__',\n",
       " '__lt__',\n",
       " '__module__',\n",
       " '__ne__',\n",
       " '__new__',\n",
       " '__reduce__',\n",
       " '__reduce_ex__',\n",
       " '__repr__',\n",
       " '__setattr__',\n",
       " '__sizeof__',\n",
       " '__str__',\n",
       " '__subclasshook__',\n",
       " '__weakref__',\n",
       " 'from_params',\n",
       " 'iloc',\n",
       " 'loc',\n",
       " 'name',\n",
       " 'o1',\n",
       " 'o1_above',\n",
       " 'o1_below',\n",
       " 'o1_equal',\n",
       " 'o2',\n",
       " 'o2_above',\n",
       " 'o2_below',\n",
       " 'o2_equal',\n",
       " 'p1_loc',\n",
       " 'p2_loc',\n",
       " 'ts1',\n",
       " 'ts1_above',\n",
       " 'ts1_below',\n",
       " 'ts1_equal',\n",
       " 'ts2',\n",
       " 'ts2_above',\n",
       " 'ts2_below',\n",
       " 'ts2_equal',\n",
       " 'tuple_loc',\n",
       " 'xs']"
      ]
     },
     "execution_count": 14,
     "metadata": {},
     "output_type": "execute_result"
    }
   ],
   "source": [
    "dir(CustomInd) # you can list here all of the available tools"
   ]
  },
  {
   "cell_type": "code",
   "execution_count": 16,
   "metadata": {},
   "outputs": [],
   "source": [
    "custom_ind = CustomInd.from_params(ts, ts * 2, [1, 2], [3, 4])\n",
    "big_custom_ind = CustomInd.from_params(big_ts, big_ts * 2, [1, 2], [3, 4])"
   ]
  },
  {
   "cell_type": "markdown",
   "metadata": {},
   "source": [
    "### Pandas indexing"
   ]
  },
  {
   "cell_type": "code",
   "execution_count": 17,
   "metadata": {},
   "outputs": [
    {
     "name": "stdout",
     "output_type": "stream",
     "text": [
      "2018-01-01    1.0\n",
      "2018-01-02    2.0\n",
      "2018-01-03    3.0\n",
      "2018-01-04    4.0\n",
      "2018-01-05    5.0\n",
      "2018-01-06    6.0\n",
      "2018-01-07    NaN\n",
      "Name: (1, 3, a), dtype: float64\n",
      "76.1 µs ± 271 ns per loop (mean ± std. dev. of 7 runs, 10000 loops each)\n",
      "2018-01-01    1.0\n",
      "2018-01-02    2.0\n",
      "2018-01-03    3.0\n",
      "2018-01-04    4.0\n",
      "2018-01-05    5.0\n",
      "2018-01-06    6.0\n",
      "2018-01-07    NaN\n",
      "Name: (1, 3, a), dtype: float64\n",
      "21.3 ms ± 831 µs per loop (mean ± std. dev. of 7 runs, 10 loops each)\n"
     ]
    }
   ],
   "source": [
    "print(custom_ind.o1.iloc[:, 0])\n",
    "%timeit big_custom_ind.o1.iloc[:, 0] # benchmark, 1 column\n",
    "\n",
    "print(custom_ind.iloc[:, 0].o1) # performed on the object itself\n",
    "%timeit big_custom_ind.iloc[:, 0] # slower since it forwards the operation to each dataframe"
   ]
  },
  {
   "cell_type": "code",
   "execution_count": 18,
   "metadata": {},
   "outputs": [
    {
     "name": "stdout",
     "output_type": "stream",
     "text": [
      "custom_p1     1          \n",
      "custom_p2     3          \n",
      "              a    b    c\n",
      "2018-01-01  1.0  NaN  1.0\n",
      "2018-01-02  2.0  6.0  2.0\n",
      "2018-01-03  3.0  5.0  3.0\n",
      "2018-01-04  4.0  4.0  NaN\n",
      "2018-01-05  5.0  3.0  3.0\n",
      "2018-01-06  6.0  2.0  2.0\n",
      "2018-01-07  NaN  1.0  1.0\n",
      "3.66 ms ± 678 µs per loop (mean ± std. dev. of 7 runs, 100 loops each)\n",
      "custom_p1     1          \n",
      "custom_p2     3          \n",
      "              a    b    c\n",
      "2018-01-01  1.0  NaN  1.0\n",
      "2018-01-02  2.0  6.0  2.0\n",
      "2018-01-03  3.0  5.0  3.0\n",
      "2018-01-04  4.0  4.0  NaN\n",
      "2018-01-05  5.0  3.0  3.0\n",
      "2018-01-06  6.0  2.0  2.0\n",
      "2018-01-07  NaN  1.0  1.0\n",
      "40.6 ms ± 4.29 ms per loop (mean ± std. dev. of 7 runs, 10 loops each)\n"
     ]
    }
   ],
   "source": [
    "print(custom_ind.o1.iloc[:, np.arange(3)])\n",
    "%timeit big_custom_ind.o1.iloc[:, np.arange(1000)] # 1000 columns\n",
    "\n",
    "print(custom_ind.iloc[:, np.arange(3)].o1)\n",
    "%timeit big_custom_ind.iloc[:, np.arange(1000)]"
   ]
  },
  {
   "cell_type": "code",
   "execution_count": 20,
   "metadata": {},
   "outputs": [
    {
     "name": "stdout",
     "output_type": "stream",
     "text": [
      "              a    b    c\n",
      "2018-01-01  1.0  NaN  1.0\n",
      "2018-01-02  2.0  6.0  2.0\n",
      "2018-01-03  3.0  5.0  3.0\n",
      "2018-01-04  4.0  4.0  NaN\n",
      "2018-01-05  5.0  3.0  3.0\n",
      "2018-01-06  6.0  2.0  2.0\n",
      "2018-01-07  NaN  1.0  1.0\n",
      "588 µs ± 61.1 µs per loop (mean ± std. dev. of 7 runs, 1000 loops each)\n",
      "              a    b    c\n",
      "2018-01-01  1.0  NaN  1.0\n",
      "2018-01-02  2.0  6.0  2.0\n",
      "2018-01-03  3.0  5.0  3.0\n",
      "2018-01-04  4.0  4.0  NaN\n",
      "2018-01-05  5.0  3.0  3.0\n",
      "2018-01-06  6.0  2.0  2.0\n",
      "2018-01-07  NaN  1.0  1.0\n",
      "11 ms ± 1.21 ms per loop (mean ± std. dev. of 7 runs, 100 loops each)\n"
     ]
    }
   ],
   "source": [
    "print(custom_ind.o1.loc[:, (1, 3)])\n",
    "%timeit big_custom_ind.o1.loc[:, (1, 3)] # 1 column\n",
    "\n",
    "print(custom_ind.loc[:, (1, 3)].o1)\n",
    "%timeit big_custom_ind.loc[:, (1, 3)]"
   ]
  },
  {
   "cell_type": "code",
   "execution_count": 21,
   "metadata": {},
   "outputs": [
    {
     "name": "stdout",
     "output_type": "stream",
     "text": [
      "              a    b    c\n",
      "2018-01-01  1.0  NaN  1.0\n",
      "2018-01-02  2.0  6.0  2.0\n",
      "2018-01-03  3.0  5.0  3.0\n",
      "2018-01-04  4.0  4.0  NaN\n",
      "2018-01-05  5.0  3.0  3.0\n",
      "2018-01-06  6.0  2.0  2.0\n",
      "2018-01-07  NaN  1.0  1.0\n",
      "469 µs ± 18.1 µs per loop (mean ± std. dev. of 7 runs, 1000 loops each)\n",
      "              a    b    c\n",
      "2018-01-01  1.0  NaN  1.0\n",
      "2018-01-02  2.0  6.0  2.0\n",
      "2018-01-03  3.0  5.0  3.0\n",
      "2018-01-04  4.0  4.0  NaN\n",
      "2018-01-05  5.0  3.0  3.0\n",
      "2018-01-06  6.0  2.0  2.0\n",
      "2018-01-07  NaN  1.0  1.0\n",
      "11.5 ms ± 252 µs per loop (mean ± std. dev. of 7 runs, 100 loops each)\n"
     ]
    }
   ],
   "source": [
    "print(custom_ind.o1.loc[:, (1, 3)])\n",
    "%timeit big_custom_ind.o1.loc[:, 1] # 1000 columns\n",
    "\n",
    "print(custom_ind.loc[:, (1, 3)].o1)\n",
    "%timeit big_custom_ind.loc[:, 1]"
   ]
  },
  {
   "cell_type": "code",
   "execution_count": 22,
   "metadata": {},
   "outputs": [
    {
     "name": "stdout",
     "output_type": "stream",
     "text": [
      "custom_p2     3          \n",
      "              a    b    c\n",
      "2018-01-01  1.0  NaN  1.0\n",
      "2018-01-02  2.0  6.0  2.0\n",
      "2018-01-03  3.0  5.0  3.0\n",
      "2018-01-04  4.0  4.0  NaN\n",
      "2018-01-05  5.0  3.0  3.0\n",
      "2018-01-06  6.0  2.0  2.0\n",
      "2018-01-07  NaN  1.0  1.0\n",
      "514 µs ± 122 µs per loop (mean ± std. dev. of 7 runs, 1000 loops each)\n",
      "custom_p2     3          \n",
      "              a    b    c\n",
      "2018-01-01  1.0  NaN  1.0\n",
      "2018-01-02  2.0  6.0  2.0\n",
      "2018-01-03  3.0  5.0  3.0\n",
      "2018-01-04  4.0  4.0  NaN\n",
      "2018-01-05  5.0  3.0  3.0\n",
      "2018-01-06  6.0  2.0  2.0\n",
      "2018-01-07  NaN  1.0  1.0\n",
      "13.9 ms ± 715 µs per loop (mean ± std. dev. of 7 runs, 100 loops each)\n"
     ]
    }
   ],
   "source": [
    "print(custom_ind.o1.xs(1, axis=1, level=0))\n",
    "%timeit big_custom_ind.o1.xs(1, axis=1, level=0) # 1000 columns\n",
    "\n",
    "print(custom_ind.xs(1, axis=1, level=0).o1)\n",
    "%timeit big_custom_ind.xs(1, axis=1, level=0)"
   ]
  },
  {
   "cell_type": "markdown",
   "metadata": {},
   "source": [
    "### Parameter indexing"
   ]
  },
  {
   "cell_type": "code",
   "execution_count": 24,
   "metadata": {},
   "outputs": [
    {
     "name": "stdout",
     "output_type": "stream",
     "text": [
      "custom_p1  custom_p2   \n",
      "1          3          a    1\n",
      "                      b    1\n",
      "                      c    1\n",
      "2          4          a    2\n",
      "                      b    2\n",
      "                      c    2\n",
      "Name: custom_p1, dtype: int64\n",
      "custom_p2      4           \n",
      "               a     b    c\n",
      "2018-01-01   2.0   NaN  2.0\n",
      "2018-01-02   4.0  12.0  4.0\n",
      "2018-01-03   6.0  10.0  6.0\n",
      "2018-01-04   8.0   8.0  NaN\n",
      "2018-01-05  10.0   6.0  6.0\n",
      "2018-01-06  12.0   4.0  4.0\n",
      "2018-01-07   NaN   2.0  2.0\n",
      "custom_p1     1               2           \n",
      "custom_p2     3               4           \n",
      "              a    b    c     a     b    c\n",
      "2018-01-01  1.0  NaN  1.0   2.0   NaN  2.0\n",
      "2018-01-02  2.0  6.0  2.0   4.0  12.0  4.0\n",
      "2018-01-03  3.0  5.0  3.0   6.0  10.0  6.0\n",
      "2018-01-04  4.0  4.0  NaN   8.0   8.0  NaN\n",
      "2018-01-05  5.0  3.0  3.0  10.0   6.0  6.0\n",
      "2018-01-06  6.0  2.0  2.0  12.0   4.0  4.0\n",
      "2018-01-07  NaN  1.0  1.0   NaN   2.0  2.0\n",
      "custom_p1     1                                        \n",
      "custom_p2     3                                        \n",
      "              a    b    c    a    b    c    a    b    c\n",
      "2018-01-01  1.0  NaN  1.0  1.0  NaN  1.0  1.0  NaN  1.0\n",
      "2018-01-02  2.0  6.0  2.0  2.0  6.0  2.0  2.0  6.0  2.0\n",
      "2018-01-03  3.0  5.0  3.0  3.0  5.0  3.0  3.0  5.0  3.0\n",
      "2018-01-04  4.0  4.0  NaN  4.0  4.0  NaN  4.0  4.0  NaN\n",
      "2018-01-05  5.0  3.0  3.0  5.0  3.0  3.0  5.0  3.0  3.0\n",
      "2018-01-06  6.0  2.0  2.0  6.0  2.0  2.0  6.0  2.0  2.0\n",
      "2018-01-07  NaN  1.0  1.0  NaN  1.0  1.0  NaN  1.0  1.0\n"
     ]
    }
   ],
   "source": [
    "# Indexing by parameter\n",
    "print(custom_ind._p1_mapper)\n",
    "print(custom_ind.p1_loc[2].o1)\n",
    "print(custom_ind.p1_loc[1:2].o1)\n",
    "print(custom_ind.p1_loc[[1, 1, 1]].o1)"
   ]
  },
  {
   "cell_type": "code",
   "execution_count": 25,
   "metadata": {},
   "outputs": [
    {
     "name": "stdout",
     "output_type": "stream",
     "text": [
      "30.9 ms ± 235 µs per loop (mean ± std. dev. of 7 runs, 10 loops each)\n",
      "220 ms ± 2.07 ms per loop (mean ± std. dev. of 7 runs, 1 loop each)\n"
     ]
    }
   ],
   "source": [
    "%timeit big_custom_ind.p1_loc[1] # 1000 columns\n",
    "%timeit big_custom_ind.p1_loc[np.full(10, 1)] # 10000 columns"
   ]
  },
  {
   "cell_type": "code",
   "execution_count": 26,
   "metadata": {},
   "outputs": [
    {
     "name": "stdout",
     "output_type": "stream",
     "text": [
      "custom_p1  custom_p2   \n",
      "1          3          a    (1, 3)\n",
      "                      b    (1, 3)\n",
      "                      c    (1, 3)\n",
      "2          4          a    (2, 4)\n",
      "                      b    (2, 4)\n",
      "                      c    (2, 4)\n",
      "Name: (custom_p1, custom_p2), dtype: object\n",
      "              a    b    c\n",
      "2018-01-01  1.0  NaN  1.0\n",
      "2018-01-02  2.0  6.0  2.0\n",
      "2018-01-03  3.0  5.0  3.0\n",
      "2018-01-04  4.0  4.0  NaN\n",
      "2018-01-05  5.0  3.0  3.0\n",
      "2018-01-06  6.0  2.0  2.0\n",
      "2018-01-07  NaN  1.0  1.0\n",
      "custom_p1     1               2           \n",
      "custom_p2     3               4           \n",
      "              a    b    c     a     b    c\n",
      "2018-01-01  1.0  NaN  1.0   2.0   NaN  2.0\n",
      "2018-01-02  2.0  6.0  2.0   4.0  12.0  4.0\n",
      "2018-01-03  3.0  5.0  3.0   6.0  10.0  6.0\n",
      "2018-01-04  4.0  4.0  NaN   8.0   8.0  NaN\n",
      "2018-01-05  5.0  3.0  3.0  10.0   6.0  6.0\n",
      "2018-01-06  6.0  2.0  2.0  12.0   4.0  4.0\n",
      "2018-01-07  NaN  1.0  1.0   NaN   2.0  2.0\n"
     ]
    }
   ],
   "source": [
    "print(custom_ind._tuple_mapper)\n",
    "print(custom_ind.tuple_loc[(1, 3)].o1)\n",
    "print(custom_ind.tuple_loc[(1, 3):(2, 4)].o1)"
   ]
  },
  {
   "cell_type": "code",
   "execution_count": 27,
   "metadata": {},
   "outputs": [
    {
     "name": "stdout",
     "output_type": "stream",
     "text": [
      "28.8 ms ± 552 µs per loop (mean ± std. dev. of 7 runs, 10 loops each)\n",
      "221 ms ± 1 ms per loop (mean ± std. dev. of 7 runs, 1 loop each)\n"
     ]
    }
   ],
   "source": [
    "%timeit big_custom_ind.tuple_loc[(1, 3)]\n",
    "%timeit big_custom_ind.tuple_loc[[(1, 3)] * 10]"
   ]
  },
  {
   "cell_type": "markdown",
   "metadata": {},
   "source": [
    "### Comparison methods"
   ]
  },
  {
   "cell_type": "code",
   "execution_count": 28,
   "metadata": {},
   "outputs": [
    {
     "name": "stdout",
     "output_type": "stream",
     "text": [
      "custom_p1       1                    2              \n",
      "custom_p2       3                    4              \n",
      "                a      b      c      a      b      c\n",
      "2018-01-01  False  False  False  False  False  False\n",
      "2018-01-02  False   True  False   True   True   True\n",
      "2018-01-03   True   True   True   True   True   True\n",
      "2018-01-04   True   True  False   True   True  False\n",
      "2018-01-05   True   True   True   True   True   True\n",
      "2018-01-06   True  False  False   True   True   True\n",
      "2018-01-07  False  False  False  False  False  False\n",
      "1.43 ms ± 81.9 µs per loop (mean ± std. dev. of 7 runs, 1000 loops each)\n",
      "custom_p1       1                    2              \n",
      "custom_p2       3                    4              \n",
      "                a      b      c      a      b      c\n",
      "2018-01-01  False  False  False  False  False  False\n",
      "2018-01-02  False   True  False   True   True   True\n",
      "2018-01-03   True   True   True   True   True   True\n",
      "2018-01-04   True   True  False   True   True  False\n",
      "2018-01-05   True   True   True   True   True   True\n",
      "2018-01-06   True  False  False   True   True   True\n",
      "2018-01-07  False  False  False  False  False  False\n"
     ]
    },
    {
     "name": "stderr",
     "output_type": "stream",
     "text": [
      "/Users/olegpolakow/Documents/SourceTree/vectorbt/vectorbt/utils/__init__.py:135: RuntimeWarning:\n",
      "\n",
      "invalid value encountered in greater\n",
      "\n"
     ]
    },
    {
     "name": "stdout",
     "output_type": "stream",
     "text": [
      "3.62 ms ± 599 µs per loop (mean ± std. dev. of 7 runs, 100 loops each)\n"
     ]
    }
   ],
   "source": [
    "print(custom_ind.o1 > 2)\n",
    "%timeit big_custom_ind.o1.values > 2 # don't even try pandas\n",
    "\n",
    "print(custom_ind.o1_above(2))\n",
    "%timeit big_custom_ind.o1_above(2) # slower than numpy because of constructing dataframe"
   ]
  },
  {
   "cell_type": "code",
   "execution_count": 29,
   "metadata": {},
   "outputs": [
    {
     "name": "stdout",
     "output_type": "stream",
     "text": [
      "custom_p1       1                    2                    1                \\\n",
      "custom_p2       3                    4                    3                 \n",
      "                a      b      c      a      b      c      a      b      c   \n",
      "2018-01-01  False  False  False  False  False  False  False  False  False   \n",
      "2018-01-02  False   True  False   True   True   True  False   True  False   \n",
      "2018-01-03   True   True   True   True   True   True  False   True  False   \n",
      "2018-01-04   True   True  False   True   True  False   True   True  False   \n",
      "2018-01-05   True   True   True   True   True   True   True  False  False   \n",
      "2018-01-06   True  False  False   True   True   True   True  False  False   \n",
      "2018-01-07  False  False  False  False  False  False  False  False  False   \n",
      "\n",
      "custom_p1       2                \n",
      "custom_p2       4                \n",
      "                a      b      c  \n",
      "2018-01-01  False  False  False  \n",
      "2018-01-02   True   True   True  \n",
      "2018-01-03   True   True   True  \n",
      "2018-01-04   True   True  False  \n",
      "2018-01-05   True   True   True  \n",
      "2018-01-06   True   True   True  \n",
      "2018-01-07  False  False  False  \n",
      "4.48 ms ± 688 µs per loop (mean ± std. dev. of 7 runs, 100 loops each)\n",
      "custom_o1_above      2                                         3         \\\n",
      "custom_p1            1                    2                    1          \n",
      "custom_p2            3                    4                    3          \n",
      "                     a      b      c      a      b      c      a      b   \n",
      "2018-01-01       False  False  False  False  False  False  False  False   \n",
      "2018-01-02       False   True  False   True   True   True  False   True   \n",
      "2018-01-03        True   True   True   True   True   True  False   True   \n",
      "2018-01-04        True   True  False   True   True  False   True   True   \n",
      "2018-01-05        True   True   True   True   True   True   True  False   \n",
      "2018-01-06        True  False  False   True   True   True   True  False   \n",
      "2018-01-07       False  False  False  False  False  False  False  False   \n",
      "\n",
      "custom_o1_above                              \n",
      "custom_p1                   2                \n",
      "custom_p2                   4                \n",
      "                     c      a      b      c  \n",
      "2018-01-01       False  False  False  False  \n",
      "2018-01-02       False   True   True   True  \n",
      "2018-01-03       False   True   True   True  \n",
      "2018-01-04       False   True   True  False  \n",
      "2018-01-05       False   True   True   True  \n",
      "2018-01-06       False   True   True   True  \n",
      "2018-01-07       False  False  False  False  \n"
     ]
    },
    {
     "name": "stderr",
     "output_type": "stream",
     "text": [
      "/Users/olegpolakow/Documents/SourceTree/vectorbt/vectorbt/utils/combine_fns.py:74: RuntimeWarning:\n",
      "\n",
      "invalid value encountered in greater\n",
      "\n"
     ]
    },
    {
     "name": "stdout",
     "output_type": "stream",
     "text": [
      "15.5 ms ± 1.28 ms per loop (mean ± std. dev. of 7 runs, 100 loops each)\n"
     ]
    }
   ],
   "source": [
    "print(pd.concat((custom_ind.o1 > 2, custom_ind.o1 > 3), axis=1))\n",
    "%timeit np.hstack((big_custom_ind.o1.values > 2, big_custom_ind.o1.values > 3))\n",
    "\n",
    "print(custom_ind.o1_above([2, 3], multiple=True))\n",
    "%timeit big_custom_ind.o1_above([2, 3], multiple=True)"
   ]
  },
  {
   "cell_type": "markdown",
   "metadata": {},
   "source": [
    "## MA"
   ]
  },
  {
   "cell_type": "code",
   "execution_count": 5,
   "metadata": {},
   "outputs": [
    {
     "name": "stdout",
     "output_type": "stream",
     "text": [
      "2018-01-01    NaN\n",
      "2018-01-02    1.5\n",
      "2018-01-03    2.5\n",
      "2018-01-04    3.5\n",
      "2018-01-05    4.5\n",
      "2018-01-06    5.5\n",
      "2018-01-07    NaN\n",
      "Name: a, dtype: float64\n",
      "              a    b    c\n",
      "2018-01-01  NaN  NaN  NaN\n",
      "2018-01-02  1.5  NaN  1.5\n",
      "2018-01-03  2.5  5.5  2.5\n",
      "2018-01-04  3.5  4.5  NaN\n",
      "2018-01-05  4.5  3.5  NaN\n",
      "2018-01-06  5.5  2.5  2.5\n",
      "2018-01-07  NaN  1.5  1.5\n",
      "ma_window      2               3          \n",
      "ma_ewm     False           False          \n",
      "               a    b    c     a    b    c\n",
      "2018-01-01   NaN  NaN  NaN   NaN  NaN  NaN\n",
      "2018-01-02   1.5  NaN  1.5   NaN  NaN  NaN\n",
      "2018-01-03   2.5  5.5  2.5   2.0  NaN  2.0\n",
      "2018-01-04   3.5  4.5  NaN   3.0  5.0  NaN\n",
      "2018-01-05   4.5  3.5  NaN   4.0  4.0  NaN\n",
      "2018-01-06   5.5  2.5  2.5   5.0  3.0  NaN\n",
      "2018-01-07   NaN  1.5  1.5   NaN  2.0  2.0\n",
      "ma_window      2                   3                    \n",
      "ma_ewm     False               True                     \n",
      "               a    b    c         a         b         c\n",
      "2018-01-01   NaN  NaN  NaN       NaN       NaN       NaN\n",
      "2018-01-02   1.5  NaN  1.5       NaN       NaN       NaN\n",
      "2018-01-03   2.5  5.5  2.5  2.428571  5.333333  2.428571\n",
      "2018-01-04   3.5  4.5  NaN  3.266667  4.571429  2.428571\n",
      "2018-01-05   4.5  3.5  NaN  4.161290  3.733333  2.826087\n",
      "2018-01-06   5.5  2.5  2.5  5.095238  2.838710  2.345455\n",
      "2018-01-07   NaN  1.5  1.5  5.095238  1.904762  1.621849\n",
      "ma_window      2                                             3            \\\n",
      "ma_ewm     False               True                      False             \n",
      "               a    b    c         a         b         c     a    b    c   \n",
      "2018-01-01   NaN  NaN  NaN       NaN       NaN       NaN   NaN  NaN  NaN   \n",
      "2018-01-02   1.5  NaN  1.5  1.750000  6.000000  1.750000   NaN  NaN  NaN   \n",
      "2018-01-03   2.5  5.5  2.5  2.615385  5.250000  2.615385   2.0  NaN  2.0   \n",
      "2018-01-04   3.5  4.5  NaN  3.550000  4.384615  2.615385   3.0  5.0  NaN   \n",
      "2018-01-05   4.5  3.5  NaN  4.520661  3.450000  2.946809   4.0  4.0  NaN   \n",
      "2018-01-06   5.5  2.5  2.5  5.508242  2.479339  2.264095   5.0  3.0  NaN   \n",
      "2018-01-07   NaN  1.5  1.5  5.508242  1.491758  1.399625   NaN  2.0  2.0   \n",
      "\n",
      "ma_window                                 \n",
      "ma_ewm         True                       \n",
      "                   a         b         c  \n",
      "2018-01-01       NaN       NaN       NaN  \n",
      "2018-01-02       NaN       NaN       NaN  \n",
      "2018-01-03  2.428571  5.333333  2.428571  \n",
      "2018-01-04  3.266667  4.571429  2.428571  \n",
      "2018-01-05  4.161290  3.733333  2.826087  \n",
      "2018-01-06  5.095238  2.838710  2.345455  \n",
      "2018-01-07  5.095238  1.904762  1.621849  \n"
     ]
    }
   ],
   "source": [
    "print(vbt.MA.from_params(ts['a'], 2).ma)\n",
    "print(vbt.MA.from_params(ts, 2).ma)\n",
    "print(vbt.MA.from_params(ts, [2, 3], ewm=False).ma)\n",
    "print(vbt.MA.from_params(ts, [2, 3], ewm=[False, True]).ma)\n",
    "print(vbt.MA.from_params(ts, [2, 3], ewm=[False, True], param_product=True).ma)"
   ]
  },
  {
   "cell_type": "code",
   "execution_count": 6,
   "metadata": {},
   "outputs": [
    {
     "name": "stdout",
     "output_type": "stream",
     "text": [
      "30.4 ms ± 779 µs per loop (mean ± std. dev. of 7 runs, 10 loops each)\n",
      "16.1 ms ± 2.35 ms per loop (mean ± std. dev. of 7 runs, 100 loops each)\n",
      "22.7 ms ± 372 µs per loop (mean ± std. dev. of 7 runs, 10 loops each)\n",
      "(1000, 1000)\n"
     ]
    }
   ],
   "source": [
    "# One window\n",
    "%timeit big_ts.rolling(2).mean() # pandas\n",
    "%timeit vbt.MA.from_params(big_ts, 2, return_cache=True) # cache only\n",
    "%timeit vbt.MA.from_params(big_ts, 2) # with pre+postprocessing and still beats pandas\n",
    "\n",
    "print(vbt.MA.from_params(big_ts, 2).ma.shape)"
   ]
  },
  {
   "cell_type": "code",
   "execution_count": 7,
   "metadata": {},
   "outputs": [
    {
     "name": "stdout",
     "output_type": "stream",
     "text": [
      "3.65 s ± 80 ms per loop (mean ± std. dev. of 7 runs, 1 loop each)\n",
      "1.64 s ± 4.48 ms per loop (mean ± std. dev. of 7 runs, 1 loop each)\n",
      "2.83 s ± 194 ms per loop (mean ± std. dev. of 7 runs, 1 loop each)\n",
      "1.13 s ± 190 ms per loop (mean ± std. dev. of 7 runs, 1 loop each)\n",
      "(1000, 98000)\n"
     ]
    }
   ],
   "source": [
    "# Multiple windows\n",
    "%timeit pd.concat([big_ts.rolling(i).mean() for i in np.arange(2, 100)])\n",
    "%timeit vbt.MA.from_params(big_ts, np.arange(2, 100), return_cache=True) # cache only\n",
    "%timeit vbt.MA.from_params(big_ts, np.arange(2, 100))\n",
    "cache = vbt.MA.from_params(big_ts, np.arange(2, 100), return_cache=True)\n",
    "%timeit vbt.MA.from_params(big_ts, np.arange(2, 100), cache=cache) # using cache\n",
    "\n",
    "print(vbt.MA.from_params(big_ts, np.arange(2, 100)).ma.shape)"
   ]
  },
  {
   "cell_type": "code",
   "execution_count": 8,
   "metadata": {},
   "outputs": [
    {
     "name": "stdout",
     "output_type": "stream",
     "text": [
      "3.73 s ± 80.7 ms per loop (mean ± std. dev. of 7 runs, 1 loop each)\n",
      "13.8 ms ± 159 µs per loop (mean ± std. dev. of 7 runs, 100 loops each)\n",
      "1.04 s ± 4.93 ms per loop (mean ± std. dev. of 7 runs, 1 loop each)\n",
      "(1000, 100000)\n"
     ]
    }
   ],
   "source": [
    "# One window repeated\n",
    "%timeit pd.concat([big_ts.rolling(i).mean() for i in np.full(100, 2)])\n",
    "%timeit vbt.MA.from_params(big_ts, np.full(100, 2), return_cache=True)\n",
    "%timeit vbt.MA.from_params(big_ts, np.full(100, 2))\n",
    "\n",
    "print(vbt.MA.from_params(big_ts, np.full(100, 2)).ma.shape)"
   ]
  },
  {
   "cell_type": "code",
   "execution_count": 9,
   "metadata": {},
   "outputs": [],
   "source": [
    "ma = vbt.MA.from_params(ts, [2, 3], ewm=[False, True])\n",
    "big_ma = vbt.MA.from_params(big_ts, np.arange(2, 100), ewm=False)"
   ]
  },
  {
   "cell_type": "code",
   "execution_count": 22,
   "metadata": {},
   "outputs": [
    {
     "data": {
      "image/png": "[encoded data removed]"
     },
     "metadata": {},
     "output_type": "display_data"
    }
   ],
   "source": [
    "ma[(2, False, 'a')].plot().show_png()"
   ]
  },
  {
   "cell_type": "markdown",
   "metadata": {},
   "source": [
    "### Combinations"
   ]
  },
  {
   "cell_type": "code",
   "execution_count": 26,
   "metadata": {},
   "outputs": [
    {
     "name": "stdout",
     "output_type": "stream",
     "text": [
      "[ 2  2  2  2  2  2  2  2  2  2  2  2  2  2  2  2  2  3  3  3  3  3  3  3\n",
      "  3  3  3  3  3  3  3  3  3  4  4  4  4  4  4  4  4  4  4  4  4  4  4  4\n",
      "  5  5  5  5  5  5  5  5  5  5  5  5  5  5  6  6  6  6  6  6  6  6  6  6\n",
      "  6  6  6  7  7  7  7  7  7  7  7  7  7  7  7  8  8  8  8  8  8  8  8  8\n",
      "  8  8  9  9  9  9  9  9  9  9  9  9 10 10 10 10 10 10 10 10 10 11 11 11\n",
      " 11 11 11 11 11 12 12 12 12 12 12 12 13 13 13 13 13 13 14 14 14 14 14 15\n",
      " 15 15 15 16 16 16 17 17 18] [ 3  4  5  6  7  8  9 10 11 12 13 14 15 16 17 18 19  4  5  6  7  8  9 10\n",
      " 11 12 13 14 15 16 17 18 19  5  6  7  8  9 10 11 12 13 14 15 16 17 18 19\n",
      "  6  7  8  9 10 11 12 13 14 15 16 17 18 19  7  8  9 10 11 12 13 14 15 16\n",
      " 17 18 19  8  9 10 11 12 13 14 15 16 17 18 19  9 10 11 12 13 14 15 16 17\n",
      " 18 19 10 11 12 13 14 15 16 17 18 19 11 12 13 14 15 16 17 18 19 12 13 14\n",
      " 15 16 17 18 19 13 14 15 16 17 18 19 14 15 16 17 18 19 15 16 17 18 19 16\n",
      " 17 18 19 17 18 19 18 19 19]\n",
      "6.66 s ± 174 ms per loop (mean ± std. dev. of 7 runs, 1 loop each)\n",
      "6.13 s ± 95.6 ms per loop (mean ± std. dev. of 7 runs, 1 loop each)\n"
     ]
    }
   ],
   "source": [
    "comb = itertools.combinations(np.arange(2, 20), 2)\n",
    "fast_windows, slow_windows = np.asarray(list(comb)).transpose()\n",
    "print(fast_windows, slow_windows)\n",
    "\n",
    "%timeit vbt.MA.from_params(big_ts, fast_windows), vbt.MA.from_params(big_ts, slow_windows) # naive way\n",
    "%timeit vbt.MA.from_combinations(big_ts, np.arange(2, 20), 2) # performs caching -> a bit faster"
   ]
  },
  {
   "cell_type": "code",
   "execution_count": 27,
   "metadata": {},
   "outputs": [
    {
     "name": "stdout",
     "output_type": "stream",
     "text": [
      "ma1_window     2                              3          \n",
      "ma1_ewm    False                          False          \n",
      "               a    b    c    a    b    c     a    b    c\n",
      "2018-01-01   NaN  NaN  NaN  NaN  NaN  NaN   NaN  NaN  NaN\n",
      "2018-01-02   1.5  NaN  1.5  1.5  NaN  1.5   NaN  NaN  NaN\n",
      "2018-01-03   2.5  5.5  2.5  2.5  5.5  2.5   2.0  NaN  2.0\n",
      "2018-01-04   3.5  4.5  NaN  3.5  4.5  NaN   3.0  5.0  NaN\n",
      "2018-01-05   4.5  3.5  NaN  4.5  3.5  NaN   4.0  4.0  NaN\n",
      "2018-01-06   5.5  2.5  2.5  5.5  2.5  2.5   5.0  3.0  NaN\n",
      "2018-01-07   NaN  1.5  1.5  NaN  1.5  1.5   NaN  2.0  2.0\n",
      "ma2_window     3                   4                                          \\\n",
      "ma2_ewm    False               True                                            \n",
      "               a    b    c         a         b         c         a         b   \n",
      "2018-01-01   NaN  NaN  NaN       NaN       NaN       NaN       NaN       NaN   \n",
      "2018-01-02   NaN  NaN  NaN       NaN       NaN       NaN       NaN       NaN   \n",
      "2018-01-03   2.0  NaN  2.0       NaN       NaN       NaN       NaN       NaN   \n",
      "2018-01-04   3.0  5.0  NaN  3.095588  4.673469  2.326531  3.095588  4.673469   \n",
      "2018-01-05   4.0  4.0  NaN  3.921582  3.904412  2.721388  3.921582  3.904412   \n",
      "2018-01-06   5.0  3.0  NaN  4.793636  3.078418  2.364858  4.793636  3.078418   \n",
      "2018-01-07   NaN  2.0  2.0  4.793636  2.206364  1.748396  4.793636  2.206364   \n",
      "\n",
      "ma2_window            \n",
      "ma2_ewm               \n",
      "                   c  \n",
      "2018-01-01       NaN  \n",
      "2018-01-02       NaN  \n",
      "2018-01-03       NaN  \n",
      "2018-01-04  2.326531  \n",
      "2018-01-05  2.721388  \n",
      "2018-01-06  2.364858  \n",
      "2018-01-07  1.748396  \n"
     ]
    }
   ],
   "source": [
    "ma1, ma2 = vbt.MA.from_combinations(ts, [2, 3, 4], 2, ewm=[False, False, True])\n",
    "\n",
    "print(ma1.ma)\n",
    "print(ma2.ma)"
   ]
  },
  {
   "cell_type": "code",
   "execution_count": 28,
   "metadata": {},
   "outputs": [
    {
     "name": "stdout",
     "output_type": "stream",
     "text": [
      "ma1_window      2                                         3              \n",
      "ma1_ewm     False                                     False              \n",
      "ma2_window      3                    4                    4              \n",
      "ma2_ewm     False                True                 True               \n",
      "                a      b      c      a      b      c      a      b      c\n",
      "2018-01-01  False  False  False  False  False  False  False  False  False\n",
      "2018-01-02  False  False  False  False  False  False  False  False  False\n",
      "2018-01-03   True  False   True  False  False  False  False  False  False\n",
      "2018-01-04  False  False  False   True  False  False  False   True  False\n",
      "2018-01-05  False  False  False  False  False  False   True  False  False\n",
      "2018-01-06  False  False  False  False  False   True  False  False  False\n",
      "2018-01-07  False  False  False  False  False  False  False  False   True\n",
      "ma1_window      2                                         3              \n",
      "ma1_ewm     False                                     False              \n",
      "ma2_window      3                    4                    4              \n",
      "ma2_ewm     False                True                 True               \n",
      "                a      b      c      a      b      c      a      b      c\n",
      "2018-01-01  False  False  False  False  False  False  False  False  False\n",
      "2018-01-02  False  False  False  False  False  False  False  False  False\n",
      "2018-01-03  False  False  False  False  False  False  False  False  False\n",
      "2018-01-04  False   True  False  False   True  False   True  False  False\n",
      "2018-01-05  False  False  False  False  False  False  False  False  False\n",
      "2018-01-06  False  False  False  False  False  False  False   True  False\n",
      "2018-01-07  False  False   True  False  False   True  False  False  False\n"
     ]
    },
    {
     "name": "stderr",
     "output_type": "stream",
     "text": [
      "/Users/olegpolakow/Documents/SourceTree/vectorbt/vectorbt/utils/__init__.py:135: RuntimeWarning:\n",
      "\n",
      "invalid value encountered in greater\n",
      "\n",
      "/Users/olegpolakow/Documents/SourceTree/vectorbt/vectorbt/utils/__init__.py:135: RuntimeWarning:\n",
      "\n",
      "invalid value encountered in less\n",
      "\n"
     ]
    }
   ],
   "source": [
    "print(ma1.ma_above(ma2, crossover=True))\n",
    "print(ma1.ma_below(ma2, crossover=True))"
   ]
  },
  {
   "cell_type": "markdown",
   "metadata": {},
   "source": [
    "## MSTD"
   ]
  },
  {
   "cell_type": "code",
   "execution_count": 29,
   "metadata": {},
   "outputs": [
    {
     "name": "stdout",
     "output_type": "stream",
     "text": [
      "2018-01-01         NaN\n",
      "2018-01-02    0.707107\n",
      "2018-01-03    0.707107\n",
      "2018-01-04    0.707107\n",
      "2018-01-05    0.707107\n",
      "2018-01-06    0.707107\n",
      "2018-01-07         NaN\n",
      "Name: a, dtype: float64\n",
      "                   a         b         c\n",
      "2018-01-01       NaN       NaN       NaN\n",
      "2018-01-02  0.707107       NaN  0.707107\n",
      "2018-01-03  0.707107  0.707107  0.707107\n",
      "2018-01-04  0.707107  0.707107       NaN\n",
      "2018-01-05  0.707107  0.707107       NaN\n",
      "2018-01-06  0.707107  0.707107  0.707107\n",
      "2018-01-07       NaN  0.707107  0.707107\n",
      "mstd_window         2                         3          \n",
      "mstd_ewm        False                     False          \n",
      "                    a         b         c     a    b    c\n",
      "2018-01-01        NaN       NaN       NaN   NaN  NaN  NaN\n",
      "2018-01-02   0.707107       NaN  0.707107   NaN  NaN  NaN\n",
      "2018-01-03   0.707107  0.707107  0.707107   1.0  NaN  1.0\n",
      "2018-01-04   0.707107  0.707107       NaN   1.0  1.0  NaN\n",
      "2018-01-05   0.707107  0.707107       NaN   1.0  1.0  NaN\n",
      "2018-01-06   0.707107  0.707107  0.707107   1.0  1.0  NaN\n",
      "2018-01-07        NaN  0.707107  0.707107   NaN  1.0  1.0\n",
      "mstd_window         2                             3                    \n",
      "mstd_ewm        False                         True                     \n",
      "                    a         b         c         a         b         c\n",
      "2018-01-01        NaN       NaN       NaN       NaN       NaN       NaN\n",
      "2018-01-02   0.707107       NaN  0.707107       NaN       NaN       NaN\n",
      "2018-01-03   0.707107  0.707107  0.707107  0.963624  0.707107  0.963624\n",
      "2018-01-04   0.707107  0.707107       NaN  1.177164  0.963624  0.963624\n",
      "2018-01-05   0.707107  0.707107       NaN  1.345243  1.177164  0.695792\n",
      "2018-01-06   0.707107  0.707107  0.707107  1.470916  1.345243  0.678643\n",
      "2018-01-07        NaN  0.707107  0.707107  1.470916  1.470916  0.960778\n",
      "mstd_window         2                                                       3  \\\n",
      "mstd_ewm        False                         True                      False   \n",
      "                    a         b         c         a         b         c     a   \n",
      "2018-01-01        NaN       NaN       NaN       NaN       NaN       NaN   NaN   \n",
      "2018-01-02   0.707107       NaN  0.707107  0.707107       NaN  0.707107   NaN   \n",
      "2018-01-03   0.707107  0.707107  0.707107  0.919866  0.707107  0.919866   1.0   \n",
      "2018-01-04   0.707107  0.707107       NaN  1.059753  0.919866  0.919866   1.0   \n",
      "2018-01-05   0.707107  0.707107       NaN  1.141624  1.059753  0.538363   1.0   \n",
      "2018-01-06   0.707107  0.707107  0.707107  1.185252  1.141624  0.689334   1.0   \n",
      "2018-01-07        NaN  0.707107  0.707107  1.185252  1.185252  0.928157   NaN   \n",
      "\n",
      "mstd_window                                          \n",
      "mstd_ewm                  True                       \n",
      "               b    c         a         b         c  \n",
      "2018-01-01   NaN  NaN       NaN       NaN       NaN  \n",
      "2018-01-02   NaN  NaN       NaN       NaN       NaN  \n",
      "2018-01-03   NaN  1.0  0.963624  0.707107  0.963624  \n",
      "2018-01-04   1.0  NaN  1.177164  0.963624  0.963624  \n",
      "2018-01-05   1.0  NaN  1.345243  1.177164  0.695792  \n",
      "2018-01-06   1.0  NaN  1.470916  1.345243  0.678643  \n",
      "2018-01-07   1.0  1.0  1.470916  1.470916  0.960778  \n"
     ]
    }
   ],
   "source": [
    "print(vbt.MSTD.from_params(ts['a'], 2).mstd)\n",
    "print(vbt.MSTD.from_params(ts, 2).mstd)\n",
    "print(vbt.MSTD.from_params(ts, [2, 3], ewm=False).mstd)\n",
    "print(vbt.MSTD.from_params(ts, [2, 3], ewm=[False, True]).mstd)\n",
    "print(vbt.MSTD.from_params(ts, [2, 3], ewm=[False, True], param_product=True).mstd)"
   ]
  },
  {
   "cell_type": "code",
   "execution_count": 30,
   "metadata": {},
   "outputs": [
    {
     "name": "stdout",
     "output_type": "stream",
     "text": [
      "54.5 ms ± 238 µs per loop (mean ± std. dev. of 7 runs, 10 loops each)\n",
      "26.2 ms ± 517 µs per loop (mean ± std. dev. of 7 runs, 10 loops each)\n",
      "(1000, 1000)\n"
     ]
    }
   ],
   "source": [
    "# One window\n",
    "%timeit big_ts.rolling(2).std()\n",
    "%timeit vbt.MSTD.from_params(big_ts, 2)\n",
    "\n",
    "print(vbt.MSTD.from_params(big_ts, 2).mstd.shape)"
   ]
  },
  {
   "cell_type": "code",
   "execution_count": 31,
   "metadata": {},
   "outputs": [
    {
     "name": "stdout",
     "output_type": "stream",
     "text": [
      "6.16 s ± 65.7 ms per loop (mean ± std. dev. of 7 runs, 1 loop each)\n",
      "3.04 s ± 22.5 ms per loop (mean ± std. dev. of 7 runs, 1 loop each)\n",
      "(1000, 98000)\n"
     ]
    }
   ],
   "source": [
    "# Multiple windows\n",
    "%timeit pd.concat([big_ts.rolling(i).std() for i in np.arange(2, 100)])\n",
    "%timeit vbt.MSTD.from_params(big_ts, np.arange(2, 100))\n",
    "\n",
    "print(vbt.MSTD.from_params(big_ts, np.arange(2, 100)).mstd.shape)"
   ]
  },
  {
   "cell_type": "code",
   "execution_count": 32,
   "metadata": {},
   "outputs": [
    {
     "name": "stdout",
     "output_type": "stream",
     "text": [
      "1.04 s ± 9.43 ms per loop (mean ± std. dev. of 7 runs, 1 loop each)\n",
      "(1000, 100000)\n"
     ]
    }
   ],
   "source": [
    "# One window repeated\n",
    "%timeit vbt.MA.from_params(big_ts, np.full(100, 2))\n",
    "\n",
    "print(vbt.MSTD.from_params(big_ts, np.full(100, 2)).mstd.shape)"
   ]
  },
  {
   "cell_type": "code",
   "execution_count": 33,
   "metadata": {},
   "outputs": [
    {
     "name": "stdout",
     "output_type": "stream",
     "text": [
      "mstd_window         2                             3                    \n",
      "mstd_ewm        False                         True                     \n",
      "                    a         b         c         a         b         c\n",
      "2018-01-01        NaN       NaN       NaN       NaN       NaN       NaN\n",
      "2018-01-02   0.707107       NaN  0.707107       NaN       NaN       NaN\n",
      "2018-01-03   0.707107  0.707107  0.707107  0.963624  0.707107  0.963624\n",
      "2018-01-04   0.707107  0.707107       NaN  1.177164  0.963624  0.963624\n",
      "2018-01-05   0.707107  0.707107       NaN  1.345243  1.177164  0.695792\n",
      "2018-01-06   0.707107  0.707107  0.707107  1.470916  1.345243  0.678643\n",
      "2018-01-07        NaN  0.707107  0.707107  1.470916  1.470916  0.960778\n"
     ]
    }
   ],
   "source": [
    "mstd = vbt.MSTD.from_params(ts, [2, 3], [False, True])\n",
    "\n",
    "print(mstd.mstd)"
   ]
  },
  {
   "cell_type": "code",
   "execution_count": 34,
   "metadata": {},
   "outputs": [
    {
     "data": {
      "image/png": "[encoded data removed]"
     },
     "metadata": {},
     "output_type": "display_data"
    }
   ],
   "source": [
    "mstd[(2, False, 'a')].plot().show_png()"
   ]
  },
  {
   "cell_type": "markdown",
   "metadata": {},
   "source": [
    "## BollingerBands"
   ]
  },
  {
   "cell_type": "code",
   "execution_count": 35,
   "metadata": {},
   "outputs": [
    {
     "name": "stdout",
     "output_type": "stream",
     "text": [
      "              a    b    c\n",
      "2018-01-01  NaN  NaN  NaN\n",
      "2018-01-02  1.5  NaN  1.5\n",
      "2018-01-03  2.5  5.5  2.5\n",
      "2018-01-04  3.5  4.5  NaN\n",
      "2018-01-05  4.5  3.5  NaN\n",
      "2018-01-06  5.5  2.5  2.5\n",
      "2018-01-07  NaN  1.5  1.5\n",
      "bb_window      2               3          \n",
      "bb_ewm     False           False          \n",
      "bb_alpha     1.5             1.5          \n",
      "               a    b    c     a    b    c\n",
      "2018-01-01   NaN  NaN  NaN   NaN  NaN  NaN\n",
      "2018-01-02   1.5  NaN  1.5   NaN  NaN  NaN\n",
      "2018-01-03   2.5  5.5  2.5   2.0  NaN  2.0\n",
      "2018-01-04   3.5  4.5  NaN   3.0  5.0  NaN\n",
      "2018-01-05   4.5  3.5  NaN   4.0  4.0  NaN\n",
      "2018-01-06   5.5  2.5  2.5   5.0  3.0  NaN\n",
      "2018-01-07   NaN  1.5  1.5   NaN  2.0  2.0\n",
      "bb_window      2                   3                    \n",
      "bb_ewm     False               True                     \n",
      "bb_alpha     1.0                 2.0                    \n",
      "               a    b    c         a         b         c\n",
      "2018-01-01   NaN  NaN  NaN       NaN       NaN       NaN\n",
      "2018-01-02   1.5  NaN  1.5       NaN       NaN       NaN\n",
      "2018-01-03   2.5  5.5  2.5  2.428571  5.333333  2.428571\n",
      "2018-01-04   3.5  4.5  NaN  3.266667  4.571429  2.428571\n",
      "2018-01-05   4.5  3.5  NaN  4.161290  3.733333  2.826087\n",
      "2018-01-06   5.5  2.5  2.5  5.095238  2.838710  2.345455\n",
      "2018-01-07   NaN  1.5  1.5  5.095238  1.904762  1.621849\n",
      "bb_window      2                                                         \\\n",
      "bb_ewm     False                              True                        \n",
      "bb_alpha     1.0            2.0                 1.0                       \n",
      "               a    b    c    a    b    c         a         b         c   \n",
      "2018-01-01   NaN  NaN  NaN  NaN  NaN  NaN       NaN       NaN       NaN   \n",
      "2018-01-02   1.5  NaN  1.5  1.5  NaN  1.5  1.750000  6.000000  1.750000   \n",
      "2018-01-03   2.5  5.5  2.5  2.5  5.5  2.5  2.615385  5.250000  2.615385   \n",
      "2018-01-04   3.5  4.5  NaN  3.5  4.5  NaN  3.550000  4.384615  2.615385   \n",
      "2018-01-05   4.5  3.5  NaN  4.5  3.5  NaN  4.520661  3.450000  2.946809   \n",
      "2018-01-06   5.5  2.5  2.5  5.5  2.5  2.5  5.508242  2.479339  2.264095   \n",
      "2018-01-07   NaN  1.5  1.5  NaN  1.5  1.5  5.508242  1.491758  1.399625   \n",
      "\n",
      "bb_window             ...     3                                               \\\n",
      "bb_ewm                ... False                    True                        \n",
      "bb_alpha         2.0  ...   1.0  2.0                 1.0                       \n",
      "                   a  ...     c    a    b    c         a         b         c   \n",
      "2018-01-01       NaN  ...   NaN  NaN  NaN  NaN       NaN       NaN       NaN   \n",
      "2018-01-02  1.750000  ...   NaN  NaN  NaN  NaN       NaN       NaN       NaN   \n",
      "2018-01-03  2.615385  ...   2.0  2.0  NaN  2.0  2.428571  5.333333  2.428571   \n",
      "2018-01-04  3.550000  ...   NaN  3.0  5.0  NaN  3.266667  4.571429  2.428571   \n",
      "2018-01-05  4.520661  ...   NaN  4.0  4.0  NaN  4.161290  3.733333  2.826087   \n",
      "2018-01-06  5.508242  ...   NaN  5.0  3.0  NaN  5.095238  2.838710  2.345455   \n",
      "2018-01-07  5.508242  ...   2.0  NaN  2.0  2.0  5.095238  1.904762  1.621849   \n",
      "\n",
      "bb_window                                 \n",
      "bb_ewm                                    \n",
      "bb_alpha         2.0                      \n",
      "                   a         b         c  \n",
      "2018-01-01       NaN       NaN       NaN  \n",
      "2018-01-02       NaN       NaN       NaN  \n",
      "2018-01-03  2.428571  5.333333  2.428571  \n",
      "2018-01-04  3.266667  4.571429  2.428571  \n",
      "2018-01-05  4.161290  3.733333  2.826087  \n",
      "2018-01-06  5.095238  2.838710  2.345455  \n",
      "2018-01-07  5.095238  1.904762  1.621849  \n",
      "\n",
      "[7 rows x 24 columns]\n"
     ]
    }
   ],
   "source": [
    "print(vbt.BollingerBands.from_params(ts, window=2, alpha=1).ma)\n",
    "print(vbt.BollingerBands.from_params(ts, window=[2, 3], ewm=False, alpha=1.5).ma)\n",
    "print(vbt.BollingerBands.from_params(ts, window=[2, 3], ewm=[False, True], alpha=[1, 2]).ma)\n",
    "print(vbt.BollingerBands.from_params(ts, window=[2, 3], ewm=[False, True], alpha=[1, 2], param_product=True).ma)"
   ]
  },
  {
   "cell_type": "code",
   "execution_count": 36,
   "metadata": {},
   "outputs": [
    {
     "name": "stdout",
     "output_type": "stream",
     "text": [
      "57.1 ms ± 3.22 ms per loop (mean ± std. dev. of 7 runs, 1 loop each)\n",
      "(1000, 1000)\n"
     ]
    }
   ],
   "source": [
    "# One window\n",
    "%timeit vbt.BollingerBands.from_params(big_ts)\n",
    "\n",
    "print(vbt.BollingerBands.from_params(big_ts).ts.shape)"
   ]
  },
  {
   "cell_type": "code",
   "execution_count": 37,
   "metadata": {},
   "outputs": [
    {
     "name": "stdout",
     "output_type": "stream",
     "text": [
      "7.87 s ± 467 ms per loop (mean ± std. dev. of 7 runs, 1 loop each)\n",
      "(1000, 98000)\n"
     ]
    }
   ],
   "source": [
    "# Multiple windows\n",
    "%timeit vbt.BollingerBands.from_params(big_ts, window=np.arange(2, 100))\n",
    "\n",
    "print(vbt.BollingerBands.from_params(big_ts, window=np.arange(2, 100)).ts.shape)"
   ]
  },
  {
   "cell_type": "code",
   "execution_count": 38,
   "metadata": {},
   "outputs": [
    {
     "name": "stdout",
     "output_type": "stream",
     "text": [
      "2.96 s ± 17.7 ms per loop (mean ± std. dev. of 7 runs, 1 loop each)\n",
      "(1000, 100000)\n"
     ]
    }
   ],
   "source": [
    "# One window repeated\n",
    "%timeit vbt.BollingerBands.from_params(big_ts, window=np.full(100, 2))\n",
    "\n",
    "print(vbt.BollingerBands.from_params(big_ts, window=np.full(100, 2)).ts.shape)"
   ]
  },
  {
   "cell_type": "code",
   "execution_count": 39,
   "metadata": {},
   "outputs": [
    {
     "name": "stdout",
     "output_type": "stream",
     "text": [
      "bb_window          2                                                  \n",
      "bb_ewm         False                                                  \n",
      "bb_alpha         1.0                           2.0                    \n",
      "                   a         b         c         a         b         c\n",
      "2018-01-01       NaN       NaN       NaN       NaN       NaN       NaN\n",
      "2018-01-02  2.207107       NaN  2.207107  2.914214       NaN  2.914214\n",
      "2018-01-03  3.207107  6.207107  3.207107  3.914214  6.914214  3.914214\n",
      "2018-01-04  4.207107  5.207107       NaN  4.914214  5.914214       NaN\n",
      "2018-01-05  5.207107  4.207107       NaN  5.914214  4.914214       NaN\n",
      "2018-01-06  6.207107  3.207107  3.207107  6.914214  3.914214  3.914214\n",
      "2018-01-07       NaN  2.207107  2.207107       NaN  2.914214  2.914214\n",
      "\n",
      "bb_window      2                         \n",
      "bb_ewm     False                         \n",
      "bb_alpha     1.0            2.0          \n",
      "               a    b    c    a    b    c\n",
      "2018-01-01   NaN  NaN  NaN  NaN  NaN  NaN\n",
      "2018-01-02   1.5  NaN  1.5  1.5  NaN  1.5\n",
      "2018-01-03   2.5  5.5  2.5  2.5  5.5  2.5\n",
      "2018-01-04   3.5  4.5  NaN  3.5  4.5  NaN\n",
      "2018-01-05   4.5  3.5  NaN  4.5  3.5  NaN\n",
      "2018-01-06   5.5  2.5  2.5  5.5  2.5  2.5\n",
      "2018-01-07   NaN  1.5  1.5  NaN  1.5  1.5\n",
      "\n",
      "bb_window          2                                                  \n",
      "bb_ewm         False                                                  \n",
      "bb_alpha         1.0                           2.0                    \n",
      "                   a         b         c         a         b         c\n",
      "2018-01-01       NaN       NaN       NaN       NaN       NaN       NaN\n",
      "2018-01-02  0.792893       NaN  0.792893  0.085786       NaN  0.085786\n",
      "2018-01-03  1.792893  4.792893  1.792893  1.085786  4.085786  1.085786\n",
      "2018-01-04  2.792893  3.792893       NaN  2.085786  3.085786       NaN\n",
      "2018-01-05  3.792893  2.792893       NaN  3.085786  2.085786       NaN\n",
      "2018-01-06  4.792893  1.792893  1.792893  4.085786  1.085786  1.085786\n",
      "2018-01-07       NaN  0.792893  0.792893       NaN  0.085786  0.085786\n",
      "\n",
      "bb_window          2                                                  \n",
      "bb_ewm         False                                                  \n",
      "bb_alpha         1.0                           2.0                    \n",
      "                   a         b         c         a         b         c\n",
      "2018-01-01       NaN       NaN       NaN       NaN       NaN       NaN\n",
      "2018-01-02  0.853553       NaN  0.853553  0.676777       NaN  0.676777\n",
      "2018-01-03  0.853553  0.146447  0.853553  0.676777  0.323223  0.676777\n",
      "2018-01-04  0.853553  0.146447       NaN  0.676777  0.323223       NaN\n",
      "2018-01-05  0.853553  0.146447       NaN  0.676777  0.323223       NaN\n",
      "2018-01-06  0.853553  0.146447  0.146447  0.676777  0.323223  0.323223\n",
      "2018-01-07       NaN  0.146447  0.146447       NaN  0.323223  0.323223\n",
      "\n",
      "bb_window          2                                                  \n",
      "bb_ewm         False                                                  \n",
      "bb_alpha         1.0                           2.0                    \n",
      "                   a         b         c         a         b         c\n",
      "2018-01-01       NaN       NaN       NaN       NaN       NaN       NaN\n",
      "2018-01-02  0.942809       NaN  0.942809  1.885618       NaN  1.885618\n",
      "2018-01-03  0.565685  0.257130  0.565685  1.131371  0.514259  1.131371\n",
      "2018-01-04  0.404061  0.314270       NaN  0.808122  0.628539       NaN\n",
      "2018-01-05  0.314270  0.404061       NaN  0.628539  0.808122       NaN\n",
      "2018-01-06  0.257130  0.565685  0.565685  0.514259  1.131371  1.131371\n",
      "2018-01-07       NaN  0.942809  0.942809       NaN  1.885618  1.885618\n"
     ]
    }
   ],
   "source": [
    "bb = vbt.BollingerBands.from_params(ts, window=2, alpha=[1., 2.], ewm=False)\n",
    "\n",
    "print(bb.upper_band)\n",
    "print()\n",
    "print(bb.ma)\n",
    "print()\n",
    "print(bb.lower_band)\n",
    "print()\n",
    "print(bb.percent_b)\n",
    "print()\n",
    "print(bb.bandwidth)"
   ]
  },
  {
   "cell_type": "code",
   "execution_count": 40,
   "metadata": {},
   "outputs": [
    {
     "name": "stdout",
     "output_type": "stream",
     "text": [
      "bb_window       2                                   \n",
      "bb_ewm      False                                   \n",
      "bb_alpha      1.0                  2.0              \n",
      "                a      b      c      a      b      c\n",
      "2018-01-01  False  False  False  False  False  False\n",
      "2018-01-02   True  False   True   True  False   True\n",
      "2018-01-03   True   True   True   True   True   True\n",
      "2018-01-04   True   True  False   True   True  False\n",
      "2018-01-05   True   True  False   True   True  False\n",
      "2018-01-06   True   True   True   True   True   True\n",
      "2018-01-07  False   True   True  False   True   True\n"
     ]
    },
    {
     "name": "stderr",
     "output_type": "stream",
     "text": [
      "/Users/olegpolakow/Documents/SourceTree/vectorbt/vectorbt/utils/__init__.py:135: RuntimeWarning:\n",
      "\n",
      "invalid value encountered in less\n",
      "\n",
      "/Users/olegpolakow/Documents/SourceTree/vectorbt/vectorbt/utils/__init__.py:135: RuntimeWarning:\n",
      "\n",
      "invalid value encountered in greater\n",
      "\n"
     ]
    }
   ],
   "source": [
    "print(bb.ts_below(bb.upper_band) & bb.ts_above(bb.lower_band)) # price between bands"
   ]
  },
  {
   "cell_type": "code",
   "execution_count": 41,
   "metadata": {},
   "outputs": [
    {
     "data": {
      "image/png": "[encoded data removed]"
     },
     "metadata": {},
     "output_type": "display_data"
    }
   ],
   "source": [
    "bb[(2, False, 1., 'a')].plot().show_png()"
   ]
  },
  {
   "cell_type": "markdown",
   "metadata": {},
   "source": [
    "## RSI"
   ]
  },
  {
   "cell_type": "code",
   "execution_count": 42,
   "metadata": {},
   "outputs": [
    {
     "name": "stdout",
     "output_type": "stream",
     "text": [
      "2018-01-01      NaN\n",
      "2018-01-02      NaN\n",
      "2018-01-03    100.0\n",
      "2018-01-04    100.0\n",
      "2018-01-05    100.0\n",
      "2018-01-06    100.0\n",
      "2018-01-07      NaN\n",
      "Name: a, dtype: float64\n",
      "                a    b      c\n",
      "2018-01-01    NaN  NaN    NaN\n",
      "2018-01-02    NaN  NaN    NaN\n",
      "2018-01-03  100.0  NaN  100.0\n",
      "2018-01-04  100.0  0.0    NaN\n",
      "2018-01-05  100.0  0.0    NaN\n",
      "2018-01-06  100.0  0.0    NaN\n",
      "2018-01-07    NaN  0.0    0.0\n",
      "rsi_window      2                  3         \n",
      "rsi_ewm     False              False         \n",
      "                a    b      c      a    b   c\n",
      "2018-01-01    NaN  NaN    NaN    NaN  NaN NaN\n",
      "2018-01-02    NaN  NaN    NaN    NaN  NaN NaN\n",
      "2018-01-03  100.0  NaN  100.0    NaN  NaN NaN\n",
      "2018-01-04  100.0  0.0    NaN  100.0  NaN NaN\n",
      "2018-01-05  100.0  0.0    NaN  100.0  0.0 NaN\n",
      "2018-01-06  100.0  0.0    NaN  100.0  0.0 NaN\n",
      "2018-01-07    NaN  0.0    0.0    NaN  0.0 NaN\n",
      "rsi_window      2                  3                 \n",
      "rsi_ewm     False              True                  \n",
      "                a    b      c      a    b           c\n",
      "2018-01-01    NaN  NaN    NaN    NaN  NaN         NaN\n",
      "2018-01-02    NaN  NaN    NaN    NaN  NaN         NaN\n",
      "2018-01-03  100.0  NaN  100.0    NaN  NaN         NaN\n",
      "2018-01-04  100.0  0.0    NaN  100.0  0.0  100.000000\n",
      "2018-01-05  100.0  0.0    NaN  100.0  0.0  100.000000\n",
      "2018-01-06  100.0  0.0    NaN  100.0  0.0   15.789474\n",
      "2018-01-07    NaN  0.0    0.0  100.0  0.0    5.882353\n",
      "rsi_window      2                                          3                  \\\n",
      "rsi_ewm     False              True                    False           True    \n",
      "                a    b      c      a    b           c      a    b   c      a   \n",
      "2018-01-01    NaN  NaN    NaN    NaN  NaN         NaN    NaN  NaN NaN    NaN   \n",
      "2018-01-02    NaN  NaN    NaN    NaN  NaN         NaN    NaN  NaN NaN    NaN   \n",
      "2018-01-03  100.0  NaN  100.0  100.0  0.0  100.000000    NaN  NaN NaN    NaN   \n",
      "2018-01-04  100.0  0.0    NaN  100.0  0.0  100.000000  100.0  NaN NaN  100.0   \n",
      "2018-01-05  100.0  0.0    NaN  100.0  0.0  100.000000  100.0  0.0 NaN  100.0   \n",
      "2018-01-06  100.0  0.0    NaN  100.0  0.0    4.705882  100.0  0.0 NaN  100.0   \n",
      "2018-01-07    NaN  0.0    0.0  100.0  0.0    1.219512    NaN  0.0 NaN  100.0   \n",
      "\n",
      "rsi_window                   \n",
      "rsi_ewm                      \n",
      "              b           c  \n",
      "2018-01-01  NaN         NaN  \n",
      "2018-01-02  NaN         NaN  \n",
      "2018-01-03  NaN         NaN  \n",
      "2018-01-04  0.0  100.000000  \n",
      "2018-01-05  0.0  100.000000  \n",
      "2018-01-06  0.0   15.789474  \n",
      "2018-01-07  0.0    5.882353  \n"
     ]
    }
   ],
   "source": [
    "print(vbt.RSI.from_params(ts['a'], window=2).rsi)\n",
    "print(vbt.RSI.from_params(ts, window=2).rsi)\n",
    "print(vbt.RSI.from_params(ts, window=[2, 3], ewm=False).rsi)\n",
    "print(vbt.RSI.from_params(ts, window=[2, 3], ewm=[False, True]).rsi)\n",
    "print(vbt.RSI.from_params(ts, window=[2, 3], ewm=[False, True], param_product=True).rsi)"
   ]
  },
  {
   "cell_type": "code",
   "execution_count": 43,
   "metadata": {},
   "outputs": [
    {
     "name": "stdout",
     "output_type": "stream",
     "text": [
      "67.6 ms ± 674 µs per loop (mean ± std. dev. of 7 runs, 10 loops each)\n",
      "(1000, 1000)\n"
     ]
    }
   ],
   "source": [
    "# One window\n",
    "%timeit vbt.RSI.from_params(big_ts, window=2)\n",
    "\n",
    "print(vbt.RSI.from_params(big_ts, window=2).rsi.shape)"
   ]
  },
  {
   "cell_type": "code",
   "execution_count": 44,
   "metadata": {},
   "outputs": [
    {
     "name": "stdout",
     "output_type": "stream",
     "text": [
      "5.22 s ± 39.2 ms per loop (mean ± std. dev. of 7 runs, 1 loop each)\n",
      "(1000, 98000)\n"
     ]
    }
   ],
   "source": [
    "# Multiple windows\n",
    "%timeit vbt.RSI.from_params(big_ts, window=np.arange(2, 100))\n",
    "\n",
    "print(vbt.RSI.from_params(big_ts, window=np.arange(2, 100)).rsi.shape)"
   ]
  },
  {
   "cell_type": "code",
   "execution_count": 45,
   "metadata": {},
   "outputs": [
    {
     "name": "stdout",
     "output_type": "stream",
     "text": [
      "1.47 s ± 25.5 ms per loop (mean ± std. dev. of 7 runs, 1 loop each)\n",
      "(1000, 100000)\n"
     ]
    }
   ],
   "source": [
    "# One window repeated\n",
    "%timeit vbt.RSI.from_params(big_ts, window=np.full(100, 2))\n",
    "\n",
    "print(vbt.RSI.from_params(big_ts, window=np.full(100, 2)).rsi.shape)"
   ]
  },
  {
   "cell_type": "code",
   "execution_count": 46,
   "metadata": {},
   "outputs": [
    {
     "name": "stdout",
     "output_type": "stream",
     "text": [
      "rsi_window      2                  3                 \n",
      "rsi_ewm     False              True                  \n",
      "                a    b      c      a    b           c\n",
      "2018-01-01    NaN  NaN    NaN    NaN  NaN         NaN\n",
      "2018-01-02    NaN  NaN    NaN    NaN  NaN         NaN\n",
      "2018-01-03  100.0  NaN  100.0    NaN  NaN         NaN\n",
      "2018-01-04  100.0  0.0    NaN  100.0  0.0  100.000000\n",
      "2018-01-05  100.0  0.0    NaN  100.0  0.0  100.000000\n",
      "2018-01-06  100.0  0.0    NaN  100.0  0.0   15.789474\n",
      "2018-01-07    NaN  0.0    0.0  100.0  0.0    5.882353\n"
     ]
    }
   ],
   "source": [
    "rsi = vbt.RSI.from_params(ts, window=[2, 3], ewm=[False, True])\n",
    "\n",
    "print(rsi.rsi)"
   ]
  },
  {
   "cell_type": "code",
   "execution_count": 47,
   "metadata": {},
   "outputs": [
    {
     "name": "stdout",
     "output_type": "stream",
     "text": [
      "rsi_window      2                    3              \n",
      "rsi_ewm     False                True               \n",
      "                a      b      c      a      b      c\n",
      "2018-01-01  False  False  False  False  False  False\n",
      "2018-01-02  False  False  False  False  False  False\n",
      "2018-01-03   True  False   True  False  False  False\n",
      "2018-01-04   True  False  False   True  False   True\n",
      "2018-01-05   True  False  False   True  False   True\n",
      "2018-01-06   True  False  False   True  False  False\n",
      "2018-01-07  False  False  False   True  False  False\n"
     ]
    },
    {
     "name": "stderr",
     "output_type": "stream",
     "text": [
      "/Users/olegpolakow/Documents/SourceTree/vectorbt/vectorbt/utils/__init__.py:135: RuntimeWarning:\n",
      "\n",
      "invalid value encountered in greater\n",
      "\n"
     ]
    }
   ],
   "source": [
    "print(rsi.rsi_above(70))"
   ]
  },
  {
   "cell_type": "code",
   "execution_count": 48,
   "metadata": {},
   "outputs": [
    {
     "data": {
      "image/png": "[encoded data removed]"
     },
     "metadata": {},
     "output_type": "display_data"
    }
   ],
   "source": [
    "rsi[(2, False, 'a')].plot().show_png()"
   ]
  },
  {
   "cell_type": "markdown",
   "metadata": {},
   "source": [
    "## Stochastic"
   ]
  },
  {
   "cell_type": "code",
   "execution_count": 50,
   "metadata": {},
   "outputs": [
    {
     "name": "stdout",
     "output_type": "stream",
     "text": [
      "2018-01-01      NaN\n",
      "2018-01-02      NaN\n",
      "2018-01-03      NaN\n",
      "2018-01-04    100.0\n",
      "2018-01-05    100.0\n",
      "2018-01-06    100.0\n",
      "2018-01-07      NaN\n",
      "Name: a, dtype: float64\n",
      "2018-01-01          NaN\n",
      "2018-01-02          NaN\n",
      "2018-01-03          NaN\n",
      "2018-01-04    80.361991\n",
      "2018-01-05    76.718266\n",
      "2018-01-06    73.861123\n",
      "2018-01-07          NaN\n",
      "Name: a, dtype: float64\n",
      "                a    b   c\n",
      "2018-01-01    NaN  NaN NaN\n",
      "2018-01-02    NaN  NaN NaN\n",
      "2018-01-03    NaN  NaN NaN\n",
      "2018-01-04  100.0  NaN NaN\n",
      "2018-01-05  100.0  0.0 NaN\n",
      "2018-01-06  100.0  0.0 NaN\n",
      "2018-01-07    NaN  0.0 NaN\n",
      "stoch_k_window      2                            \n",
      "stoch_d_window      2                  3         \n",
      "stoch_d_ewm     False              False         \n",
      "                    a    b      c      a    b   c\n",
      "2018-01-01        NaN  NaN    NaN    NaN  NaN NaN\n",
      "2018-01-02        NaN  NaN    NaN    NaN  NaN NaN\n",
      "2018-01-03      100.0  NaN  100.0    NaN  NaN NaN\n",
      "2018-01-04      100.0  0.0    NaN  100.0  NaN NaN\n",
      "2018-01-05      100.0  0.0    NaN  100.0  0.0 NaN\n",
      "2018-01-06      100.0  0.0    NaN  100.0  0.0 NaN\n",
      "2018-01-07        NaN  0.0    0.0    NaN  0.0 NaN\n",
      "stoch_k_window      2                  3         \n",
      "stoch_d_window      2                  3         \n",
      "stoch_d_ewm     False              False         \n",
      "                    a    b      c      a    b   c\n",
      "2018-01-01        NaN  NaN    NaN    NaN  NaN NaN\n",
      "2018-01-02        NaN  NaN    NaN    NaN  NaN NaN\n",
      "2018-01-03      100.0  NaN  100.0    NaN  NaN NaN\n",
      "2018-01-04      100.0  0.0    NaN    NaN  NaN NaN\n",
      "2018-01-05      100.0  0.0    NaN  100.0  NaN NaN\n",
      "2018-01-06      100.0  0.0    NaN  100.0  0.0 NaN\n",
      "2018-01-07        NaN  0.0    0.0    NaN  0.0 NaN\n",
      "stoch_k_window      2                                  3                       \\\n",
      "stoch_d_window      2                  3               2               3        \n",
      "stoch_d_ewm     False              False           False           False        \n",
      "                    a    b      c      a    b   c      a    b   c      a    b   \n",
      "2018-01-01        NaN  NaN    NaN    NaN  NaN NaN    NaN  NaN NaN    NaN  NaN   \n",
      "2018-01-02        NaN  NaN    NaN    NaN  NaN NaN    NaN  NaN NaN    NaN  NaN   \n",
      "2018-01-03      100.0  NaN  100.0    NaN  NaN NaN    NaN  NaN NaN    NaN  NaN   \n",
      "2018-01-04      100.0  0.0    NaN  100.0  NaN NaN  100.0  NaN NaN    NaN  NaN   \n",
      "2018-01-05      100.0  0.0    NaN  100.0  0.0 NaN  100.0  0.0 NaN  100.0  NaN   \n",
      "2018-01-06      100.0  0.0    NaN  100.0  0.0 NaN  100.0  0.0 NaN  100.0  0.0   \n",
      "2018-01-07        NaN  0.0    0.0    NaN  0.0 NaN    NaN  0.0 NaN    NaN  0.0   \n",
      "\n",
      "stoch_k_window      \n",
      "stoch_d_window      \n",
      "stoch_d_ewm         \n",
      "                 c  \n",
      "2018-01-01     NaN  \n",
      "2018-01-02     NaN  \n",
      "2018-01-03     NaN  \n",
      "2018-01-04     NaN  \n",
      "2018-01-05     NaN  \n",
      "2018-01-06     NaN  \n",
      "2018-01-07     NaN  \n"
     ]
    }
   ],
   "source": [
    "print(vbt.Stochastic.from_params(ts['a'], k_window=2, d_window=3, d_ewm=False).percent_d)\n",
    "print(vbt.Stochastic.from_params(ts['a'], high_ts=ts['a']*1.1, low_ts=ts['a']*0.9, k_window=2, d_window=3).percent_d)\n",
    "print(vbt.Stochastic.from_params(ts, k_window=2, d_window=3).percent_d)\n",
    "print(vbt.Stochastic.from_params(ts, k_window=2, d_window=[2, 3]).percent_d)\n",
    "print(vbt.Stochastic.from_params(ts, k_window=[2, 3], d_window=[2, 3]).percent_d)\n",
    "print(vbt.Stochastic.from_params(ts, k_window=[2, 3], d_window=[2, 3], param_product=True).percent_d)"
   ]
  },
  {
   "cell_type": "code",
   "execution_count": 51,
   "metadata": {},
   "outputs": [
    {
     "name": "stdout",
     "output_type": "stream",
     "text": [
      "66 ms ± 806 µs per loop (mean ± std. dev. of 7 runs, 10 loops each)\n",
      "(1000, 1000)\n"
     ]
    }
   ],
   "source": [
    "# One window\n",
    "%timeit vbt.Stochastic.from_params(big_ts, k_window=2)\n",
    "\n",
    "print(vbt.Stochastic.from_params(big_ts, k_window=2).percent_d.shape)"
   ]
  },
  {
   "cell_type": "code",
   "execution_count": 52,
   "metadata": {},
   "outputs": [
    {
     "name": "stdout",
     "output_type": "stream",
     "text": [
      "27 s ± 614 ms per loop (mean ± std. dev. of 7 runs, 1 loop each)\n",
      "(1000, 98000)\n"
     ]
    }
   ],
   "source": [
    "# Multiple windows\n",
    "%timeit vbt.Stochastic.from_params(big_ts, k_window=np.arange(2, 100)) # rolling min/max very expensive\n",
    "\n",
    "print(vbt.Stochastic.from_params(big_ts, k_window=np.arange(2, 100)).percent_d.shape)"
   ]
  },
  {
   "cell_type": "code",
   "execution_count": 53,
   "metadata": {},
   "outputs": [
    {
     "name": "stdout",
     "output_type": "stream",
     "text": [
      "5.9 s ± 111 ms per loop (mean ± std. dev. of 7 runs, 1 loop each)\n",
      "(1000, 100000)\n"
     ]
    }
   ],
   "source": [
    "# One window repeated\n",
    "%timeit vbt.Stochastic.from_params(big_ts, k_window=np.full(100, 2))\n",
    "\n",
    "print(vbt.Stochastic.from_params(big_ts, k_window=np.full(100, 2)).percent_d.shape)"
   ]
  },
  {
   "cell_type": "code",
   "execution_count": 54,
   "metadata": {},
   "outputs": [
    {
     "name": "stdout",
     "output_type": "stream",
     "text": [
      "stoch_k_window          2                                4              \n",
      "stoch_d_window          2                                2              \n",
      "stoch_d_ewm         False                            True               \n",
      "                        a          b          c          a         b   c\n",
      "2018-01-01            NaN        NaN        NaN        NaN       NaN NaN\n",
      "2018-01-02      84.615385        NaN  84.615385        NaN       NaN NaN\n",
      "2018-01-03      80.000000  23.809524  80.000000        NaN       NaN NaN\n",
      "2018-01-04      76.470588  21.052632        NaN  88.571429       NaN NaN\n",
      "2018-01-05      73.684211  17.647059        NaN  86.486486  7.692308 NaN\n",
      "2018-01-06      71.428571  13.333333  13.333333  84.615385  5.405405 NaN\n",
      "2018-01-07            NaN   7.692308   7.692308        NaN  2.857143 NaN\n",
      "stoch_k_window          2                                4              \n",
      "stoch_d_window          2                                2              \n",
      "stoch_d_ewm         False                            True               \n",
      "                        a          b          c          a         b   c\n",
      "2018-01-01            NaN        NaN        NaN        NaN       NaN NaN\n",
      "2018-01-02            NaN        NaN        NaN        NaN       NaN NaN\n",
      "2018-01-03      82.307692        NaN  82.307692        NaN       NaN NaN\n",
      "2018-01-04      78.235294  22.431078        NaN        NaN       NaN NaN\n",
      "2018-01-05      75.077399  19.349845        NaN  87.007722  7.692308 NaN\n",
      "2018-01-06      72.556391  15.490196        NaN  85.351488  5.977131 NaN\n",
      "2018-01-07            NaN  10.512821  10.512821  85.351488  3.817139 NaN\n"
     ]
    }
   ],
   "source": [
    "stochastic = vbt.Stochastic.from_params(ts, high_ts=ts*1.1, low_ts=ts*0.9, k_window=[2, 4], d_window=2, d_ewm=[False, True])\n",
    "\n",
    "print(stochastic.percent_k)\n",
    "print(stochastic.percent_d)"
   ]
  },
  {
   "cell_type": "code",
   "execution_count": 55,
   "metadata": {},
   "outputs": [
    {
     "data": {
      "image/png": "[encoded data removed]"
     },
     "metadata": {},
     "output_type": "display_data"
    }
   ],
   "source": [
    "stochastic[(2, 2, False, 'a')].plot().show_png()"
   ]
  },
  {
   "cell_type": "markdown",
   "metadata": {},
   "source": [
    "## MACD"
   ]
  },
  {
   "cell_type": "code",
   "execution_count": 56,
   "metadata": {},
   "outputs": [
    {
     "name": "stdout",
     "output_type": "stream",
     "text": [
      "2018-01-01         NaN\n",
      "2018-01-02         NaN\n",
      "2018-01-03         NaN\n",
      "2018-01-04         NaN\n",
      "2018-01-05    0.562912\n",
      "2018-01-06    0.667931\n",
      "2018-01-07    0.699437\n",
      "Name: a, dtype: float64\n",
      "                   a         b         c\n",
      "2018-01-01       NaN       NaN       NaN\n",
      "2018-01-02       NaN       NaN       NaN\n",
      "2018-01-03       NaN       NaN       NaN\n",
      "2018-01-04       NaN       NaN       NaN\n",
      "2018-01-05  0.562912 -0.413022  0.241279\n",
      "2018-01-06  0.667931 -0.541831  0.004480\n",
      "2018-01-07  0.699437 -0.658454 -0.233964\n",
      "macd_fast_window           2                             3                    \n",
      "macd_slow_window           4                             4                    \n",
      "macd_signal_window         2                             2                    \n",
      "macd_macd_ewm           True                          True                    \n",
      "macd_signal_ewm        False                         True                     \n",
      "                           a         b         c         a         b         c\n",
      "2018-01-01               NaN       NaN       NaN       NaN       NaN       NaN\n",
      "2018-01-02               NaN       NaN       NaN       NaN       NaN       NaN\n",
      "2018-01-03               NaN       NaN       NaN       NaN       NaN       NaN\n",
      "2018-01-04               NaN       NaN       NaN       NaN       NaN       NaN\n",
      "2018-01-05          0.526745 -0.371633  0.257137  0.222551 -0.153819  0.104034\n",
      "2018-01-06          0.656842 -0.526745  0.062328  0.277279 -0.213281  0.018577\n",
      "2018-01-07          0.714606 -0.656842 -0.224767  0.293697 -0.272898 -0.079382\n",
      "macd_fast_window           2                                          \\\n",
      "macd_slow_window           4                                           \n",
      "macd_signal_window         2                                           \n",
      "macd_macd_ewm           True                                           \n",
      "macd_signal_ewm        False                         True              \n",
      "                           a         b         c         a         b   \n",
      "2018-01-01               NaN       NaN       NaN       NaN       NaN   \n",
      "2018-01-02               NaN       NaN       NaN       NaN       NaN   \n",
      "2018-01-03               NaN       NaN       NaN       NaN       NaN   \n",
      "2018-01-04               NaN       NaN       NaN       NaN       NaN   \n",
      "2018-01-05          0.526745 -0.371633  0.257137  0.562912 -0.413022   \n",
      "2018-01-06          0.656842 -0.526745  0.062328  0.667931 -0.541831   \n",
      "2018-01-07          0.714606 -0.656842 -0.224767  0.699437 -0.658454   \n",
      "\n",
      "macd_fast_window                     3                                \\\n",
      "macd_slow_window                     4                                 \n",
      "macd_signal_window                   2                                 \n",
      "macd_macd_ewm                     True                                 \n",
      "macd_signal_ewm                  False                         True    \n",
      "                           c         a         b         c         a   \n",
      "2018-01-01               NaN       NaN       NaN       NaN       NaN   \n",
      "2018-01-02               NaN       NaN       NaN       NaN       NaN   \n",
      "2018-01-03               NaN       NaN       NaN       NaN       NaN   \n",
      "2018-01-04               NaN       NaN       NaN       NaN       NaN   \n",
      "2018-01-05          0.241279  0.205393 -0.136560  0.103370  0.222551   \n",
      "2018-01-06          0.004480  0.270655 -0.205393  0.042647  0.277279   \n",
      "2018-01-07         -0.233964  0.301602 -0.270655 -0.072975  0.293697   \n",
      "\n",
      "macd_fast_window                        \n",
      "macd_slow_window                        \n",
      "macd_signal_window                      \n",
      "macd_macd_ewm                           \n",
      "macd_signal_ewm                         \n",
      "                           b         c  \n",
      "2018-01-01               NaN       NaN  \n",
      "2018-01-02               NaN       NaN  \n",
      "2018-01-03               NaN       NaN  \n",
      "2018-01-04               NaN       NaN  \n",
      "2018-01-05         -0.153819  0.104034  \n",
      "2018-01-06         -0.213281  0.018577  \n",
      "2018-01-07         -0.272898 -0.079382  \n"
     ]
    }
   ],
   "source": [
    "print(vbt.MACD.from_params(ts['a'], fast_window=2, slow_window=4, \n",
    "                           signal_window=2, macd_ewm=True, signal_ewm=True).signal)\n",
    "print(vbt.MACD.from_params(ts, fast_window=2, slow_window=4, \n",
    "                           signal_window=2, macd_ewm=True, signal_ewm=True).signal)\n",
    "print(vbt.MACD.from_params(ts, fast_window=[2, 3], slow_window=4, \n",
    "                           signal_window=2, macd_ewm=True, signal_ewm=[False, True]).signal)\n",
    "print(vbt.MACD.from_params(ts, fast_window=[2, 3], slow_window=4, \n",
    "                           signal_window=2, macd_ewm=True, signal_ewm=[False, True], param_product=True).signal)"
   ]
  },
  {
   "cell_type": "code",
   "execution_count": 57,
   "metadata": {},
   "outputs": [
    {
     "name": "stdout",
     "output_type": "stream",
     "text": [
      "75.6 ms ± 667 µs per loop (mean ± std. dev. of 7 runs, 10 loops each)\n",
      "(1000, 1000)\n"
     ]
    }
   ],
   "source": [
    "# One window\n",
    "%timeit vbt.MACD.from_params(big_ts, fast_window=2)\n",
    "\n",
    "print(vbt.MACD.from_params(big_ts, fast_window=2).macd.shape)"
   ]
  },
  {
   "cell_type": "code",
   "execution_count": 58,
   "metadata": {},
   "outputs": [
    {
     "name": "stdout",
     "output_type": "stream",
     "text": [
      "6.17 s ± 172 ms per loop (mean ± std. dev. of 7 runs, 1 loop each)\n",
      "(1000, 98000)\n"
     ]
    }
   ],
   "source": [
    "# Multiple windows\n",
    "%timeit vbt.MACD.from_params(big_ts, fast_window=np.arange(2, 100))\n",
    "\n",
    "print(vbt.MACD.from_params(big_ts, fast_window=np.arange(2, 100)).macd.shape)"
   ]
  },
  {
   "cell_type": "code",
   "execution_count": 59,
   "metadata": {},
   "outputs": [
    {
     "name": "stdout",
     "output_type": "stream",
     "text": [
      "5.07 s ± 79.2 ms per loop (mean ± std. dev. of 7 runs, 1 loop each)\n",
      "(1000, 100000)\n"
     ]
    }
   ],
   "source": [
    "# One window repeated\n",
    "%timeit vbt.MACD.from_params(big_ts, fast_window=np.full(100, 2))\n",
    "\n",
    "print(vbt.MACD.from_params(big_ts, fast_window=np.full(100, 2)).macd.shape)"
   ]
  },
  {
   "cell_type": "code",
   "execution_count": 60,
   "metadata": {},
   "outputs": [
    {
     "name": "stdout",
     "output_type": "stream",
     "text": [
      "macd_fast_window           2                             3                    \n",
      "macd_slow_window           4                             4                    \n",
      "macd_signal_window         2                             2                    \n",
      "macd_macd_ewm           True                          True                    \n",
      "macd_signal_ewm         True                          True                    \n",
      "                           a         b         c         a         b         c\n",
      "2018-01-01               NaN       NaN       NaN       NaN       NaN       NaN\n",
      "2018-01-02          1.750000  6.000000  1.750000       NaN       NaN       NaN\n",
      "2018-01-03          2.615385  5.250000  2.615385  2.428571  5.333333  2.428571\n",
      "2018-01-04          3.550000  4.384615  2.615385  3.266667  4.571429  2.428571\n",
      "2018-01-05          4.520661  3.450000  2.946809  4.161290  3.733333  2.826087\n",
      "2018-01-06          5.508242  2.479339  2.264095  5.095238  2.838710  2.345455\n",
      "2018-01-07          5.508242  1.491758  1.399625  5.095238  1.904762  1.621849\n",
      "macd_fast_window           2                             3                    \n",
      "macd_slow_window           4                             4                    \n",
      "macd_signal_window         2                             2                    \n",
      "macd_macd_ewm           True                          True                    \n",
      "macd_signal_ewm         True                          True                    \n",
      "                           a         b         c         a         b         c\n",
      "2018-01-01               NaN       NaN       NaN       NaN       NaN       NaN\n",
      "2018-01-02               NaN       NaN       NaN       NaN       NaN       NaN\n",
      "2018-01-03               NaN       NaN       NaN       NaN       NaN       NaN\n",
      "2018-01-04          3.095588  4.673469  2.326531  3.095588  4.673469  2.326531\n",
      "2018-01-05          3.921582  3.904412  2.721388  3.921582  3.904412  2.721388\n",
      "2018-01-06          4.793636  3.078418  2.364858  4.793636  3.078418  2.364858\n",
      "2018-01-07          4.793636  2.206364  1.748396  4.793636  2.206364  1.748396\n",
      "macd_fast_window           2                             3                    \n",
      "macd_slow_window           4                             4                    \n",
      "macd_signal_window         2                             2                    \n",
      "macd_macd_ewm           True                          True                    \n",
      "macd_signal_ewm         True                          True                    \n",
      "                           a         b         c         a         b         c\n",
      "2018-01-01               NaN       NaN       NaN       NaN       NaN       NaN\n",
      "2018-01-02               NaN       NaN       NaN       NaN       NaN       NaN\n",
      "2018-01-03               NaN       NaN       NaN       NaN       NaN       NaN\n",
      "2018-01-04          0.454412 -0.288854  0.288854  0.171078 -0.102041  0.102041\n",
      "2018-01-05          0.599079 -0.454412  0.225420  0.239708 -0.171078  0.104699\n",
      "2018-01-06          0.714606 -0.599079 -0.100763  0.301602 -0.239708 -0.019404\n",
      "2018-01-07          0.714606 -0.714606 -0.348771  0.301602 -0.301602 -0.126547\n",
      "macd_fast_window           2                             3                    \n",
      "macd_slow_window           4                             4                    \n",
      "macd_signal_window         2                             2                    \n",
      "macd_macd_ewm           True                          True                    \n",
      "macd_signal_ewm         True                          True                    \n",
      "                           a         b         c         a         b         c\n",
      "2018-01-01               NaN       NaN       NaN       NaN       NaN       NaN\n",
      "2018-01-02               NaN       NaN       NaN       NaN       NaN       NaN\n",
      "2018-01-03               NaN       NaN       NaN       NaN       NaN       NaN\n",
      "2018-01-04               NaN       NaN       NaN       NaN       NaN       NaN\n",
      "2018-01-05          0.562912 -0.413022  0.241279  0.222551 -0.153819  0.104034\n",
      "2018-01-06          0.667931 -0.541831  0.004480  0.277279 -0.213281  0.018577\n",
      "2018-01-07          0.699437 -0.658454 -0.233964  0.293697 -0.272898 -0.079382\n",
      "macd_fast_window           2                             3                    \n",
      "macd_slow_window           4                             4                    \n",
      "macd_signal_window         2                             2                    \n",
      "macd_macd_ewm           True                          True                    \n",
      "macd_signal_ewm         True                          True                    \n",
      "                           a         b         c         a         b         c\n",
      "2018-01-01               NaN       NaN       NaN       NaN       NaN       NaN\n",
      "2018-01-02               NaN       NaN       NaN       NaN       NaN       NaN\n",
      "2018-01-03               NaN       NaN       NaN       NaN       NaN       NaN\n",
      "2018-01-04               NaN       NaN       NaN       NaN       NaN       NaN\n",
      "2018-01-05          0.036167 -0.041389 -0.015858  0.017157 -0.017259  0.000664\n",
      "2018-01-06          0.046675 -0.057248 -0.105244  0.024324 -0.026427 -0.037981\n",
      "2018-01-07          0.015169 -0.056152 -0.114807  0.007905 -0.028704 -0.047165\n"
     ]
    }
   ],
   "source": [
    "macd = vbt.MACD.from_params(ts, fast_window=[2, 3], slow_window=4, signal_window=2, macd_ewm=True, signal_ewm=True)\n",
    "\n",
    "print(macd.fast_ma)\n",
    "print(macd.slow_ma)\n",
    "print(macd.macd)\n",
    "print(macd.signal)\n",
    "print(macd.histogram)"
   ]
  },
  {
   "cell_type": "code",
   "execution_count": 61,
   "metadata": {},
   "outputs": [
    {
     "name": "stderr",
     "output_type": "stream",
     "text": [
      "/Users/olegpolakow/Documents/SourceTree/vectorbt/vectorbt/indicators/macd.py:213: RuntimeWarning:\n",
      "\n",
      "invalid value encountered in greater\n",
      "\n",
      "/Users/olegpolakow/Documents/SourceTree/vectorbt/vectorbt/indicators/macd.py:214: RuntimeWarning:\n",
      "\n",
      "invalid value encountered in greater\n",
      "\n",
      "/Users/olegpolakow/Documents/SourceTree/vectorbt/vectorbt/indicators/macd.py:214: RuntimeWarning:\n",
      "\n",
      "invalid value encountered in less_equal\n",
      "\n",
      "/Users/olegpolakow/Documents/SourceTree/vectorbt/vectorbt/indicators/macd.py:216: RuntimeWarning:\n",
      "\n",
      "invalid value encountered in less\n",
      "\n",
      "/Users/olegpolakow/Documents/SourceTree/vectorbt/vectorbt/indicators/macd.py:217: RuntimeWarning:\n",
      "\n",
      "invalid value encountered in less\n",
      "\n",
      "/Users/olegpolakow/Documents/SourceTree/vectorbt/vectorbt/indicators/macd.py:217: RuntimeWarning:\n",
      "\n",
      "invalid value encountered in greater_equal\n",
      "\n"
     ]
    },
    {
     "data": {
      "image/png": "[encoded data removed]"
     },
     "metadata": {},
     "output_type": "display_data"
    }
   ],
   "source": [
    "macd[(2, 4, 2, True, True, 'a')].plot().show_png()"
   ]
  },
  {
   "cell_type": "markdown",
   "metadata": {},
   "source": [
    "## OBV"
   ]
  },
  {
   "cell_type": "code",
   "execution_count": 62,
   "metadata": {},
   "outputs": [
    {
     "name": "stdout",
     "output_type": "stream",
     "text": [
      "2018-01-01     NaN\n",
      "2018-01-02     6.0\n",
      "2018-01-03    11.0\n",
      "2018-01-04    15.0\n",
      "2018-01-05    18.0\n",
      "2018-01-06    20.0\n",
      "2018-01-07     NaN\n",
      "Name: (a, b), dtype: float64\n",
      "               a     b     c\n",
      "2018-01-01   NaN   NaN   NaN\n",
      "2018-01-02   2.0   6.0   2.0\n",
      "2018-01-03   5.0  11.0   5.0\n",
      "2018-01-04   9.0  15.0   NaN\n",
      "2018-01-05  14.0  18.0   8.0\n",
      "2018-01-06  20.0  20.0  10.0\n",
      "2018-01-07   NaN   NaN   NaN\n",
      "               a     b     c\n",
      "2018-01-01   NaN   NaN   NaN\n",
      "2018-01-02   6.0   NaN   6.0\n",
      "2018-01-03  11.0  -5.0  11.0\n",
      "2018-01-04  15.0  -9.0   NaN\n",
      "2018-01-05  18.0 -12.0   NaN\n",
      "2018-01-06  20.0 -14.0   9.0\n",
      "2018-01-07   NaN -15.0   8.0\n",
      "               a     b    c\n",
      "               c     b    a\n",
      "2018-01-01   NaN   NaN  NaN\n",
      "2018-01-02   2.0   NaN  2.0\n",
      "2018-01-03   5.0  -5.0  5.0\n",
      "2018-01-04   NaN  -9.0  NaN\n",
      "2018-01-05   8.0 -12.0  NaN\n",
      "2018-01-06  10.0 -14.0 -1.0\n",
      "2018-01-07   NaN -15.0  NaN\n"
     ]
    }
   ],
   "source": [
    "print(vbt.OBV.from_params(ts['a'], ts['b']).obv)\n",
    "print(vbt.OBV.from_params(ts['a'], ts).obv)\n",
    "print(vbt.OBV.from_params(ts, ts['b']).obv)\n",
    "print(vbt.OBV.from_params(ts, ts.iloc[:, ::-1]).obv)"
   ]
  },
  {
   "cell_type": "code",
   "execution_count": 63,
   "metadata": {},
   "outputs": [
    {
     "name": "stdout",
     "output_type": "stream",
     "text": [
      "21 ms ± 569 µs per loop (mean ± std. dev. of 7 runs, 10 loops each)\n",
      "(1000, 1000)\n"
     ]
    }
   ],
   "source": [
    "%timeit vbt.OBV.from_params(big_ts, big_ts.iloc[:, ::-1])\n",
    "\n",
    "print(vbt.OBV.from_params(big_ts, big_ts.iloc[:, ::-1]).obv.shape)"
   ]
  },
  {
   "cell_type": "code",
   "execution_count": 64,
   "metadata": {},
   "outputs": [
    {
     "name": "stdout",
     "output_type": "stream",
     "text": [
      "               a     b    c\n",
      "               c     b    a\n",
      "2018-01-01   NaN   NaN  NaN\n",
      "2018-01-02   2.0   NaN  2.0\n",
      "2018-01-03   5.0  -5.0  5.0\n",
      "2018-01-04   NaN  -9.0  NaN\n",
      "2018-01-05   8.0 -12.0  NaN\n",
      "2018-01-06  10.0 -14.0 -1.0\n",
      "2018-01-07   NaN -15.0  NaN\n"
     ]
    }
   ],
   "source": [
    "obv = vbt.OBV.from_params(ts, ts.iloc[:, ::-1])\n",
    "\n",
    "print(obv.obv)"
   ]
  },
  {
   "cell_type": "code",
   "execution_count": 65,
   "metadata": {},
   "outputs": [
    {
     "name": "stdout",
     "output_type": "stream",
     "text": [
      "obv_above       0                    5              \n",
      "                a      b      c      a      b      c\n",
      "                c      b      a      c      b      a\n",
      "2018-01-01  False  False  False  False  False  False\n",
      "2018-01-02   True  False   True  False  False  False\n",
      "2018-01-03   True  False   True  False  False  False\n",
      "2018-01-04  False  False  False  False  False  False\n",
      "2018-01-05   True  False  False   True  False  False\n",
      "2018-01-06   True  False  False   True  False  False\n",
      "2018-01-07  False  False  False  False  False  False\n"
     ]
    },
    {
     "name": "stderr",
     "output_type": "stream",
     "text": [
      "/Users/olegpolakow/Documents/SourceTree/vectorbt/vectorbt/utils/combine_fns.py:74: RuntimeWarning:\n",
      "\n",
      "invalid value encountered in greater\n",
      "\n"
     ]
    }
   ],
   "source": [
    "print(obv.obv_above([0, 5], multiple=True))"
   ]
  },
  {
   "cell_type": "code",
   "execution_count": 66,
   "metadata": {},
   "outputs": [
    {
     "data": {
      "image/png": "[encoded data removed]"
     },
     "metadata": {},
     "output_type": "display_data"
    }
   ],
   "source": [
    "obv[('a', 'c')].plot().show_png()"
   ]
  },
  {
   "cell_type": "markdown",
   "metadata": {},
   "source": [
    "## ATR"
   ]
  },
  {
   "cell_type": "code",
   "execution_count": 67,
   "metadata": {},
   "outputs": [
    {
     "name": "stdout",
     "output_type": "stream",
     "text": [
      "2018-01-01         NaN\n",
      "2018-01-02    0.950000\n",
      "2018-01-03    1.192308\n",
      "2018-01-04    1.332500\n",
      "2018-01-05    1.444628\n",
      "2018-01-06    1.548352\n",
      "2018-01-07    1.548352\n",
      "Name: a, dtype: float64\n",
      "                   a         b         c\n",
      "2018-01-01       NaN       NaN       NaN\n",
      "2018-01-02  0.950000  0.350000  0.950000\n",
      "2018-01-03  1.192308  2.392308  1.192308\n",
      "2018-01-04  1.332500  1.722500  1.332500\n",
      "2018-01-05  1.444628  1.573554  1.109917\n",
      "2018-01-06  1.548352  2.926374  2.772253\n",
      "2018-01-07  1.548352  2.926374  2.772253\n",
      "atr_window         2                             3                    \n",
      "atr_ewm         True                          True                    \n",
      "                   a         b         c         a         b         c\n",
      "2018-01-01       NaN       NaN       NaN       NaN       NaN       NaN\n",
      "2018-01-02  0.950000  1.200000  0.950000       NaN       NaN       NaN\n",
      "2018-01-03  1.192308  1.425000  1.192308  1.114286  1.400000  1.114286\n",
      "2018-01-04  1.332500  1.407692  1.192308  1.266667  1.400000  1.114286\n",
      "2018-01-05  1.444628  1.335000  0.681915  1.387097  1.346667  0.756522\n",
      "2018-01-06  1.548352  1.244628  1.055490  1.495238  1.270968  1.014545\n",
      "2018-01-07  1.548352  1.148077  1.085929  1.495238  1.184127  1.060504\n",
      "atr_window     2                                               3            \\\n",
      "atr_ewm    False                 True                      False             \n",
      "               a     b     c         a         b         c     a         b   \n",
      "2018-01-01   NaN   NaN   NaN       NaN       NaN       NaN   NaN       NaN   \n",
      "2018-01-02  0.70   NaN  0.70  0.950000  1.200000  0.950000   NaN       NaN   \n",
      "2018-01-03  1.25  1.35  1.25  1.192308  1.425000  1.192308   0.9       NaN   \n",
      "2018-01-04  1.35  1.45   NaN  1.332500  1.407692  1.192308   1.3  1.366667   \n",
      "2018-01-05  1.45  1.35   NaN  1.444628  1.335000  0.681915   1.4  1.400000   \n",
      "2018-01-06  1.55  1.25  0.90  1.548352  1.244628  1.055490   1.5  1.300000   \n",
      "2018-01-07   NaN  1.15  1.15  1.548352  1.148077  1.085929   NaN  1.200000   \n",
      "\n",
      "atr_window                                          \n",
      "atr_ewm                  True                       \n",
      "                   c         a         b         c  \n",
      "2018-01-01       NaN       NaN       NaN       NaN  \n",
      "2018-01-02       NaN       NaN       NaN       NaN  \n",
      "2018-01-03  0.900000  1.114286  1.400000  1.114286  \n",
      "2018-01-04       NaN  1.266667  1.400000  1.114286  \n",
      "2018-01-05       NaN  1.387097  1.346667  0.756522  \n",
      "2018-01-06       NaN  1.495238  1.270968  1.014545  \n",
      "2018-01-07  0.966667  1.495238  1.184127  1.060504  \n"
     ]
    }
   ],
   "source": [
    "print(vbt.ATR.from_params(ts['a'], ts['a']*1.1, ts['a']*0.9, window=2).atr)\n",
    "print(vbt.ATR.from_params(ts, ts['a']*1.1, ts['a']*0.9, window=2).atr)\n",
    "print(vbt.ATR.from_params(ts, ts*1.1, ts*0.9, window=[2, 3]).atr)\n",
    "print(vbt.ATR.from_params(ts, ts*1.1, ts*0.9, window=[2, 3], ewm=[False, True], param_product=True).atr)"
   ]
  },
  {
   "cell_type": "code",
   "execution_count": 68,
   "metadata": {},
   "outputs": [
    {
     "name": "stdout",
     "output_type": "stream",
     "text": [
      "638 ms ± 29.8 ms per loop (mean ± std. dev. of 7 runs, 1 loop each)\n",
      "(1000, 1000)\n"
     ]
    }
   ],
   "source": [
    "# One window\n",
    "%timeit vbt.ATR.from_params(big_ts, big_ts*1.1, big_ts*0.9, window=2)\n",
    "\n",
    "print(vbt.ATR.from_params(big_ts, big_ts*1.1, big_ts*0.9, window=2).atr.shape)"
   ]
  },
  {
   "cell_type": "code",
   "execution_count": 69,
   "metadata": {},
   "outputs": [
    {
     "name": "stdout",
     "output_type": "stream",
     "text": [
      "4.34 s ± 101 ms per loop (mean ± std. dev. of 7 runs, 1 loop each)\n",
      "(1000, 98000)\n"
     ]
    }
   ],
   "source": [
    "# Multiple windows\n",
    "%timeit vbt.ATR.from_params(big_ts, big_ts*1.1, big_ts*0.9, window=np.arange(2, 100)) # rolling min/max very expensive\n",
    "\n",
    "print(vbt.ATR.from_params(big_ts, big_ts*1.1, big_ts*0.9, window=np.arange(2, 100)).atr.shape)"
   ]
  },
  {
   "cell_type": "code",
   "execution_count": 70,
   "metadata": {},
   "outputs": [
    {
     "name": "stdout",
     "output_type": "stream",
     "text": [
      "2.87 s ± 118 ms per loop (mean ± std. dev. of 7 runs, 1 loop each)\n",
      "(1000, 100000)\n"
     ]
    }
   ],
   "source": [
    "# One window repeated\n",
    "%timeit vbt.ATR.from_params(big_ts, big_ts*1.1, big_ts*0.9, window=np.full(100, 2))\n",
    "\n",
    "print(vbt.ATR.from_params(big_ts, big_ts*1.1, big_ts*0.9, window=np.full(100, 2)).atr.shape)"
   ]
  },
  {
   "cell_type": "code",
   "execution_count": 71,
   "metadata": {},
   "outputs": [
    {
     "name": "stdout",
     "output_type": "stream",
     "text": [
      "atr_window     2               3          \n",
      "atr_ewm    False           True           \n",
      "               a    b    c     a    b    c\n",
      "2018-01-01   0.2  NaN  0.2   0.2  NaN  0.2\n",
      "2018-01-02   1.2  1.2  1.2   1.2  1.2  1.2\n",
      "2018-01-03   1.3  1.5  1.3   1.3  1.5  1.3\n",
      "2018-01-04   1.4  1.4  NaN   1.4  1.4  NaN\n",
      "2018-01-05   1.5  1.3  0.6   1.5  1.3  0.6\n",
      "2018-01-06   1.6  1.2  1.2   1.6  1.2  1.2\n",
      "2018-01-07   NaN  1.1  1.1   NaN  1.1  1.1\n",
      "atr_window     2                     3                    \n",
      "atr_ewm    False                 True                     \n",
      "               a     b     c         a         b         c\n",
      "2018-01-01   NaN   NaN   NaN       NaN       NaN       NaN\n",
      "2018-01-02  0.70   NaN  0.70       NaN       NaN       NaN\n",
      "2018-01-03  1.25  1.35  1.25  1.114286  1.400000  1.114286\n",
      "2018-01-04  1.35  1.45   NaN  1.266667  1.400000  1.114286\n",
      "2018-01-05  1.45  1.35   NaN  1.387097  1.346667  0.756522\n",
      "2018-01-06  1.55  1.25  0.90  1.495238  1.270968  1.014545\n",
      "2018-01-07   NaN  1.15  1.15  1.495238  1.184127  1.060504\n"
     ]
    }
   ],
   "source": [
    "atr = vbt.ATR.from_params(ts, ts*1.1, ts*0.9, window=[2, 3], ewm=[False, True])\n",
    "\n",
    "print(atr.tr)\n",
    "print(atr.atr)"
   ]
  },
  {
   "cell_type": "code",
   "execution_count": 72,
   "metadata": {},
   "outputs": [
    {
     "data": {
      "image/png": "[encoded data removed]"
     },
     "metadata": {},
     "output_type": "display_data"
    }
   ],
   "source": [
    "atr[(2, False, 'a')].plot().show_png()"
   ]
  },
  {
   "cell_type": "code",
   "execution_count": null,
   "metadata": {},
   "outputs": [],
   "source": []
  }
 ],
 "metadata": {
  "kernelspec": {
   "display_name": "Python 3",
   "language": "python",
   "name": "python3"
  },
  "language_info": {
   "codemirror_mode": {
    "name": "ipython",
    "version": 3
   },
   "file_extension": ".py",
   "mimetype": "text/x-python",
   "name": "python",
   "nbconvert_exporter": "python",
   "pygments_lexer": "ipython3",
   "version": "3.7.3"
  },
  "widgets": {
   "application/vnd.jupyter.widget-state+json": {
    "state": {},
    "version_major": 2,
    "version_minor": 0
   }
  }
 },
 "nbformat": 4,
 "nbformat_minor": 4
}
