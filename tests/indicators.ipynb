{
 "cells": [
  {
   "cell_type": "markdown",
   "metadata": {},
   "source": [
    "# indicators"
   ]
  },
  {
   "cell_type": "code",
   "execution_count": 1,
   "metadata": {},
   "outputs": [],
   "source": [
    "import vectorbt as vbt"
   ]
  },
  {
   "cell_type": "code",
   "execution_count": 2,
   "metadata": {
    "Collapsed": "false"
   },
   "outputs": [],
   "source": [
    "import numpy as np\n",
    "import pandas as pd\n",
    "from datetime import datetime, timedelta\n",
    "from numba import njit, f8, i8, b1, optional\n",
    "import itertools"
   ]
  },
  {
   "cell_type": "code",
   "execution_count": 3,
   "metadata": {},
   "outputs": [
    {
     "name": "stdout",
     "output_type": "stream",
     "text": [
      "              a    b    c\n",
      "2018-01-01  1.0  NaN  1.0\n",
      "2018-01-02  2.0  6.0  2.0\n",
      "2018-01-03  3.0  5.0  3.0\n",
      "2018-01-04  4.0  4.0  NaN\n",
      "2018-01-05  5.0  3.0  3.0\n",
      "2018-01-06  6.0  2.0  2.0\n",
      "2018-01-07  NaN  1.0  1.0\n"
     ]
    }
   ],
   "source": [
    "index = pd.Index([\n",
    "    datetime(2018, 1, 1),\n",
    "    datetime(2018, 1, 2),\n",
    "    datetime(2018, 1, 3),\n",
    "    datetime(2018, 1, 4),\n",
    "    datetime(2018, 1, 5),\n",
    "    datetime(2018, 1, 6),\n",
    "    datetime(2018, 1, 7)\n",
    "])\n",
    "columns = ['a', 'b', 'c']\n",
    "ts = pd.DataFrame({\n",
    "    'a': [1, 2, 3, 4, 5, 6, np.nan], \n",
    "    'b': [np.nan, 6, 5, 4, 3, 2, 1],\n",
    "    'c': [1, 2, 3, np.nan, 3, 2, 1]}, index=index).astype(np.float64)\n",
    "\n",
    "print(ts)"
   ]
  },
  {
   "cell_type": "code",
   "execution_count": 4,
   "metadata": {},
   "outputs": [
    {
     "data": {
      "text/plain": [
       "(1000, 1000)"
      ]
     },
     "execution_count": 4,
     "metadata": {},
     "output_type": "execute_result"
    }
   ],
   "source": [
    "big_ts = pd.DataFrame(np.random.randint(10, size=(1000, 1000)).astype(float))\n",
    "big_ts.index = [datetime(2018, 1, 1) + timedelta(days=i) for i in range(1000)]\n",
    "big_ts.shape"
   ]
  },
  {
   "cell_type": "markdown",
   "metadata": {},
   "source": [
    "## IndicatorFactory"
   ]
  },
  {
   "cell_type": "code",
   "execution_count": 5,
   "metadata": {},
   "outputs": [
    {
     "name": "stdout",
     "output_type": "stream",
     "text": [
      "custom_param      0                    1                    2              \n",
      "                  a      b      c      a      b      c      a      b      c\n",
      "2018-01-01    110.0    NaN  110.0  111.0    NaN  111.0  112.0    NaN  112.0\n",
      "2018-01-02    110.0  110.0  110.0  112.0  116.0  112.0  114.0  122.0  114.0\n",
      "2018-01-03    110.0  110.0  110.0  113.0  115.0  113.0  116.0  120.0  116.0\n",
      "2018-01-04    110.0  110.0    NaN  114.0  114.0    NaN  118.0  118.0    NaN\n",
      "2018-01-05    110.0  110.0  110.0  115.0  113.0  113.0  120.0  116.0  116.0\n",
      "2018-01-06    110.0  110.0  110.0  116.0  112.0  112.0  122.0  114.0  114.0\n",
      "2018-01-07      NaN  110.0  110.0    NaN  111.0  111.0    NaN  112.0  112.0\n",
      "custom_param      0                    1                    2              \n",
      "                  a      b      c      a      b      c      a      b      c\n",
      "2018-01-01    110.0    NaN  110.0  111.0    NaN  111.0  112.0    NaN  112.0\n",
      "2018-01-02    110.0  110.0  110.0  112.0  116.0  112.0  114.0  122.0  114.0\n",
      "2018-01-03    110.0  110.0  110.0  113.0  115.0  113.0  116.0  120.0  116.0\n",
      "2018-01-04    110.0  110.0    NaN  114.0  114.0    NaN  118.0  118.0    NaN\n",
      "2018-01-05    110.0  110.0  110.0  115.0  113.0  113.0  120.0  116.0  116.0\n",
      "2018-01-06    110.0  110.0  110.0  116.0  112.0  112.0  122.0  114.0  114.0\n",
      "2018-01-07      NaN  110.0  110.0    NaN  111.0  111.0    NaN  112.0  112.0\n"
     ]
    }
   ],
   "source": [
    "def apply_func(i, ts, p, a, b=100):\n",
    "    return ts * p[i] + a + b\n",
    "\n",
    "@njit\n",
    "def apply_func_nb(i, ts, p, a):\n",
    "    return ts * p[i] + a + 100 # numba doesn't support **kwargs\n",
    "\n",
    "# Custom function can be anything that takes time series, params and other arguments, and returns outputs\n",
    "def custom_func(ts, p, *args, **kwargs):\n",
    "    return vbt.base.combine_fns.apply_and_concat_one(len(p), apply_func, ts, p, *args, **kwargs)\n",
    "\n",
    "@njit\n",
    "def custom_func_nb(ts, p, *args):\n",
    "    return vbt.base.combine_fns.apply_and_concat_one_nb(len(p), apply_func_nb, ts, p, *args)\n",
    "\n",
    "print(vbt.IndicatorFactory().from_custom_func(custom_func)\\\n",
    "      .from_params(ts, [0, 1, 2], 10).output)\n",
    "print(vbt.IndicatorFactory().from_custom_func(custom_func_nb)\\\n",
    "      .from_params(ts, [0, 1, 2], 10).output)"
   ]
  },
  {
   "cell_type": "code",
   "execution_count": 6,
   "metadata": {},
   "outputs": [
    {
     "name": "stdout",
     "output_type": "stream",
     "text": [
      "custom_param    0              1               2           \n",
      "                a    b    c    a    b    c     a     b    c\n",
      "2018-01-01    0.0  NaN  0.0  1.0  NaN  1.0   2.0   NaN  2.0\n",
      "2018-01-02    0.0  0.0  0.0  2.0  6.0  2.0   4.0  12.0  4.0\n",
      "2018-01-03    0.0  0.0  0.0  3.0  5.0  3.0   6.0  10.0  6.0\n",
      "2018-01-04    0.0  0.0  NaN  4.0  4.0  NaN   8.0   8.0  NaN\n",
      "2018-01-05    0.0  0.0  0.0  5.0  3.0  3.0  10.0   6.0  6.0\n",
      "2018-01-06    0.0  0.0  0.0  6.0  2.0  2.0  12.0   4.0  4.0\n",
      "2018-01-07    NaN  0.0  0.0  NaN  1.0  1.0   NaN   2.0  2.0\n",
      "custom_param    0              1               2           \n",
      "                a    b    c    a    b    c     a     b    c\n",
      "2018-01-01    0.0  NaN  0.0  1.0  NaN  1.0   2.0   NaN  2.0\n",
      "2018-01-02    0.0  0.0  0.0  2.0  6.0  2.0   4.0  12.0  4.0\n",
      "2018-01-03    0.0  0.0  0.0  3.0  5.0  3.0   6.0  10.0  6.0\n",
      "2018-01-04    0.0  0.0  NaN  4.0  4.0  NaN   8.0   8.0  NaN\n",
      "2018-01-05    0.0  0.0  0.0  5.0  3.0  3.0  10.0   6.0  6.0\n",
      "2018-01-06    0.0  0.0  0.0  6.0  2.0  2.0  12.0   4.0  4.0\n",
      "2018-01-07    NaN  0.0  0.0  NaN  1.0  1.0   NaN   2.0  2.0\n"
     ]
    }
   ],
   "source": [
    "# Apply function is performed on each parameter individually, and each output is then stacked for you\n",
    "# Apply functions are less customizable than custom functions, but are simpler to write\n",
    "print(vbt.IndicatorFactory().from_apply_func(lambda ts, p: ts * p)\\\n",
    "      .from_params(ts, [0, 1, 2]).output)\n",
    "print(vbt.IndicatorFactory().from_apply_func(njit(lambda ts, p: ts * p))\\\n",
    "      .from_params(ts, [0, 1, 2]).output)"
   ]
  },
  {
   "cell_type": "code",
   "execution_count": 7,
   "metadata": {},
   "outputs": [
    {
     "name": "stdout",
     "output_type": "stream",
     "text": [
      "custom_param    0               1                 2            \n",
      "                a    b    c     a     b     c     a     b     c\n",
      "2018-01-01    0.0  NaN  0.0   2.0   NaN   2.0   4.0   NaN   4.0\n",
      "2018-01-02    0.0  0.0  0.0   6.0  42.0   6.0  12.0  84.0  12.0\n",
      "2018-01-03    0.0  0.0  0.0  12.0  30.0  12.0  24.0  60.0  24.0\n",
      "2018-01-04    0.0  0.0  NaN  20.0  20.0   NaN  40.0  40.0   NaN\n",
      "2018-01-05    0.0  0.0  0.0  30.0  12.0  12.0  60.0  24.0  24.0\n",
      "2018-01-06    0.0  0.0  0.0  42.0   6.0   6.0  84.0  12.0  12.0\n",
      "2018-01-07    NaN  0.0  0.0   NaN   2.0   2.0   NaN   4.0   4.0\n",
      "custom_param    0               1                 2            \n",
      "                a    b    c     a     b     c     a     b     c\n",
      "2018-01-01    0.0  NaN  0.0   2.0   NaN   2.0   4.0   NaN   4.0\n",
      "2018-01-02    0.0  0.0  0.0   6.0  42.0   6.0  12.0  84.0  12.0\n",
      "2018-01-03    0.0  0.0  0.0  12.0  30.0  12.0  24.0  60.0  24.0\n",
      "2018-01-04    0.0  0.0  NaN  20.0  20.0   NaN  40.0  40.0   NaN\n",
      "2018-01-05    0.0  0.0  0.0  30.0  12.0  12.0  60.0  24.0  24.0\n",
      "2018-01-06    0.0  0.0  0.0  42.0   6.0   6.0  84.0  12.0  12.0\n",
      "2018-01-07    NaN  0.0  0.0   NaN   2.0   2.0   NaN   4.0   4.0\n"
     ]
    }
   ],
   "source": [
    "print(vbt.IndicatorFactory(ts_names=['ts1', 'ts2']).from_apply_func(lambda ts1, ts2, p: ts1 * ts2 * p)\\\n",
    "      .from_params(ts, ts+1, [0, 1, 2]).output) # test multiple ts\n",
    "print(vbt.IndicatorFactory(ts_names=['ts1', 'ts2']).from_apply_func(njit(lambda ts1, ts2, p: ts1 * ts2 * p))\\\n",
    "      .from_params(ts, ts+1, [0, 1, 2]).output)"
   ]
  },
  {
   "cell_type": "code",
   "execution_count": 8,
   "metadata": {},
   "outputs": [
    {
     "name": "stdout",
     "output_type": "stream",
     "text": [
      "custom_p1      0                1            \n",
      "custom_p2      2                3            \n",
      "               a     b    c     a     b     c\n",
      "2018-01-01   2.0   NaN  2.0   4.0   NaN   4.0\n",
      "2018-01-02   4.0  12.0  4.0   8.0  24.0   8.0\n",
      "2018-01-03   6.0  10.0  6.0  12.0  20.0  12.0\n",
      "2018-01-04   8.0   8.0  NaN  16.0  16.0   NaN\n",
      "2018-01-05  10.0   6.0  6.0  20.0  12.0  12.0\n",
      "2018-01-06  12.0   4.0  4.0  24.0   8.0   8.0\n",
      "2018-01-07   NaN   2.0  2.0   NaN   4.0   4.0\n",
      "custom_p1      0                1            \n",
      "custom_p2      2                3            \n",
      "               a     b    c     a     b     c\n",
      "2018-01-01   2.0   NaN  2.0   4.0   NaN   4.0\n",
      "2018-01-02   4.0  12.0  4.0   8.0  24.0   8.0\n",
      "2018-01-03   6.0  10.0  6.0  12.0  20.0  12.0\n",
      "2018-01-04   8.0   8.0  NaN  16.0  16.0   NaN\n",
      "2018-01-05  10.0   6.0  6.0  20.0  12.0  12.0\n",
      "2018-01-06  12.0   4.0  4.0  24.0   8.0   8.0\n",
      "2018-01-07   NaN   2.0  2.0   NaN   4.0   4.0\n"
     ]
    }
   ],
   "source": [
    "print(vbt.IndicatorFactory(param_names=['p1', 'p2']).from_apply_func(lambda ts, p1, p2: ts * (p1 + p2))\\\n",
    "      .from_params(ts, [0, 1], [2, 3]).output) # test multiple params\n",
    "print(vbt.IndicatorFactory(param_names=['p1', 'p2']).from_apply_func(njit(lambda ts, p1, p2: ts * (p1 + p2)))\\\n",
    "      .from_params(ts, [0, 1], [2, 3]).output)"
   ]
  },
  {
   "cell_type": "code",
   "execution_count": 9,
   "metadata": {},
   "outputs": [
    {
     "name": "stdout",
     "output_type": "stream",
     "text": [
      "custom_p1      0                                 1                         \\\n",
      "custom_p2      2                3                2                3         \n",
      "               a     b    c     a     b    c     a     b    c     a     b   \n",
      "2018-01-01   2.0   NaN  2.0   3.0   NaN  3.0   3.0   NaN  3.0   4.0   NaN   \n",
      "2018-01-02   4.0  12.0  4.0   6.0  18.0  6.0   6.0  18.0  6.0   8.0  24.0   \n",
      "2018-01-03   6.0  10.0  6.0   9.0  15.0  9.0   9.0  15.0  9.0  12.0  20.0   \n",
      "2018-01-04   8.0   8.0  NaN  12.0  12.0  NaN  12.0  12.0  NaN  16.0  16.0   \n",
      "2018-01-05  10.0   6.0  6.0  15.0   9.0  9.0  15.0   9.0  9.0  20.0  12.0   \n",
      "2018-01-06  12.0   4.0  4.0  18.0   6.0  6.0  18.0   6.0  6.0  24.0   8.0   \n",
      "2018-01-07   NaN   2.0  2.0   NaN   3.0  3.0   NaN   3.0  3.0   NaN   4.0   \n",
      "\n",
      "custom_p1         \n",
      "custom_p2         \n",
      "               c  \n",
      "2018-01-01   4.0  \n",
      "2018-01-02   8.0  \n",
      "2018-01-03  12.0  \n",
      "2018-01-04   NaN  \n",
      "2018-01-05  12.0  \n",
      "2018-01-06   8.0  \n",
      "2018-01-07   4.0  \n",
      "custom_p1      0                                 1                         \\\n",
      "custom_p2      2                3                2                3         \n",
      "               a     b    c     a     b    c     a     b    c     a     b   \n",
      "2018-01-01   2.0   NaN  2.0   3.0   NaN  3.0   3.0   NaN  3.0   4.0   NaN   \n",
      "2018-01-02   4.0  12.0  4.0   6.0  18.0  6.0   6.0  18.0  6.0   8.0  24.0   \n",
      "2018-01-03   6.0  10.0  6.0   9.0  15.0  9.0   9.0  15.0  9.0  12.0  20.0   \n",
      "2018-01-04   8.0   8.0  NaN  12.0  12.0  NaN  12.0  12.0  NaN  16.0  16.0   \n",
      "2018-01-05  10.0   6.0  6.0  15.0   9.0  9.0  15.0   9.0  9.0  20.0  12.0   \n",
      "2018-01-06  12.0   4.0  4.0  18.0   6.0  6.0  18.0   6.0  6.0  24.0   8.0   \n",
      "2018-01-07   NaN   2.0  2.0   NaN   3.0  3.0   NaN   3.0  3.0   NaN   4.0   \n",
      "\n",
      "custom_p1         \n",
      "custom_p2         \n",
      "               c  \n",
      "2018-01-01   4.0  \n",
      "2018-01-02   8.0  \n",
      "2018-01-03  12.0  \n",
      "2018-01-04   NaN  \n",
      "2018-01-05  12.0  \n",
      "2018-01-06   8.0  \n",
      "2018-01-07   4.0  \n"
     ]
    }
   ],
   "source": [
    "print(vbt.IndicatorFactory(param_names=['p1', 'p2']).from_apply_func(lambda ts, p1, p2: ts * (p1 + p2))\\\n",
    "      .from_params(ts, [0, 1], [2, 3], param_product=True).output) # test param product\n",
    "print(vbt.IndicatorFactory(param_names=['p1', 'p2']).from_apply_func(njit(lambda ts, p1, p2: ts * (p1 + p2)))\\\n",
    "      .from_params(ts, [0, 1], [2, 3], param_product=True).output)"
   ]
  },
  {
   "cell_type": "code",
   "execution_count": 10,
   "metadata": {},
   "outputs": [
    {
     "name": "stdout",
     "output_type": "stream",
     "text": [
      "custom_param    0              1               2           \n",
      "                a    b    c    a    b    c     a     b    c\n",
      "2018-01-01    0.0  NaN  0.0  1.0  NaN  1.0   2.0   NaN  2.0\n",
      "2018-01-02    0.0  0.0  0.0  2.0  6.0  2.0   4.0  12.0  4.0\n",
      "2018-01-03    0.0  0.0  0.0  3.0  5.0  3.0   6.0  10.0  6.0\n",
      "2018-01-04    0.0  0.0  NaN  4.0  4.0  NaN   8.0   8.0  NaN\n",
      "2018-01-05    0.0  0.0  0.0  5.0  3.0  3.0  10.0   6.0  6.0\n",
      "2018-01-06    0.0  0.0  0.0  6.0  2.0  2.0  12.0   4.0  4.0\n",
      "2018-01-07    NaN  0.0  0.0  NaN  1.0  1.0   NaN   2.0  2.0\n",
      "custom_param    0              1               2           \n",
      "                a    b    c    a    b    c     a     b    c\n",
      "2018-01-01    0.0  NaN  0.0  1.0  NaN  1.0   2.0   NaN  2.0\n",
      "2018-01-02    0.0  0.0  0.0  2.0  6.0  2.0   4.0  12.0  4.0\n",
      "2018-01-03    0.0  0.0  0.0  3.0  5.0  3.0   6.0  10.0  6.0\n",
      "2018-01-04    0.0  0.0  NaN  4.0  4.0  NaN   8.0   8.0  NaN\n",
      "2018-01-05    0.0  0.0  0.0  5.0  3.0  3.0  10.0   6.0  6.0\n",
      "2018-01-06    0.0  0.0  0.0  6.0  2.0  2.0  12.0   4.0  4.0\n",
      "2018-01-07    NaN  0.0  0.0  NaN  1.0  1.0   NaN   2.0  2.0\n"
     ]
    }
   ],
   "source": [
    "print(vbt.IndicatorFactory(output_names=['o1', 'o2']).from_apply_func(lambda ts, p: (ts * p, ts * p ** 2))\\\n",
    "      .from_params(ts, [0, 1, 2]).o1) # test multiple outputs\n",
    "print(vbt.IndicatorFactory(output_names=['o1', 'o2']).from_apply_func(njit(lambda ts, p: (ts * p, ts * p ** 2)))\\\n",
    "      .from_params(ts, [0, 1, 2]).o1)"
   ]
  },
  {
   "cell_type": "code",
   "execution_count": 11,
   "metadata": {},
   "outputs": [
    {
     "name": "stdout",
     "output_type": "stream",
     "text": [
      "custom_param    0              1               2           \n",
      "                a    b    c    a    b    c     a     b    c\n",
      "2018-01-01    3.0  NaN  3.0  4.0  NaN  4.0   5.0   NaN  5.0\n",
      "2018-01-02    3.0  3.0  3.0  5.0  9.0  5.0   7.0  15.0  7.0\n",
      "2018-01-03    3.0  3.0  3.0  6.0  8.0  6.0   9.0  13.0  9.0\n",
      "2018-01-04    3.0  3.0  NaN  7.0  7.0  NaN  11.0  11.0  NaN\n",
      "2018-01-05    3.0  3.0  3.0  8.0  6.0  6.0  13.0   9.0  9.0\n",
      "2018-01-06    3.0  3.0  3.0  9.0  5.0  5.0  15.0   7.0  7.0\n",
      "2018-01-07    NaN  3.0  3.0  NaN  4.0  4.0   NaN   5.0  5.0\n",
      "custom_param    0              1               2           \n",
      "                a    b    c    a    b    c     a     b    c\n",
      "2018-01-01    3.0  NaN  3.0  4.0  NaN  4.0   5.0   NaN  5.0\n",
      "2018-01-02    3.0  3.0  3.0  5.0  9.0  5.0   7.0  15.0  7.0\n",
      "2018-01-03    3.0  3.0  3.0  6.0  8.0  6.0   9.0  13.0  9.0\n",
      "2018-01-04    3.0  3.0  NaN  7.0  7.0  NaN  11.0  11.0  NaN\n",
      "2018-01-05    3.0  3.0  3.0  8.0  6.0  6.0  13.0   9.0  9.0\n",
      "2018-01-06    3.0  3.0  3.0  9.0  5.0  5.0  15.0   7.0  7.0\n",
      "2018-01-07    NaN  3.0  3.0  NaN  4.0  4.0   NaN   5.0  5.0\n"
     ]
    }
   ],
   "source": [
    "print(vbt.IndicatorFactory().from_apply_func(lambda ts, p, a: ts * p + a)\\\n",
    "      .from_params(ts, [0, 1, 2], 3).output) # test *args\n",
    "print(vbt.IndicatorFactory().from_apply_func(njit(lambda ts, p, a: ts * p + a))\\\n",
    "      .from_params(ts, [0, 1, 2], 3).output)"
   ]
  },
  {
   "cell_type": "code",
   "execution_count": 12,
   "metadata": {},
   "outputs": [
    {
     "name": "stdout",
     "output_type": "stream",
     "text": [
      "custom_param    0              1               2           \n",
      "                a    b    c    a    b    c     a     b    c\n",
      "2018-01-01    3.0  NaN  3.0  4.0  NaN  4.0   5.0   NaN  5.0\n",
      "2018-01-02    3.0  3.0  3.0  5.0  9.0  5.0   7.0  15.0  7.0\n",
      "2018-01-03    3.0  3.0  3.0  6.0  8.0  6.0   9.0  13.0  9.0\n",
      "2018-01-04    3.0  3.0  NaN  7.0  7.0  NaN  11.0  11.0  NaN\n",
      "2018-01-05    3.0  3.0  3.0  8.0  6.0  6.0  13.0   9.0  9.0\n",
      "2018-01-06    3.0  3.0  3.0  9.0  5.0  5.0  15.0   7.0  7.0\n",
      "2018-01-07    NaN  3.0  3.0  NaN  4.0  4.0   NaN   5.0  5.0\n"
     ]
    }
   ],
   "source": [
    "print(vbt.IndicatorFactory().from_apply_func(lambda ts, p, a=1: ts * p + a)\\\n",
    "      .from_params(ts, [0, 1, 2], a=3).output) # test **kwargs\n",
    "# Numba doesn't support kwargs out of the box"
   ]
  },
  {
   "cell_type": "code",
   "execution_count": 13,
   "metadata": {},
   "outputs": [
    {
     "name": "stdout",
     "output_type": "stream",
     "text": [
      "custom_param    0                1                     2               \n",
      "                a    b    c      a      b      c       a       b      c\n",
      "2018-01-01    0.0  NaN  0.0  100.0    NaN  100.0   200.0     NaN  200.0\n",
      "2018-01-02    0.0  0.0  0.0  200.0  600.0  200.0   400.0  1200.0  400.0\n",
      "2018-01-03    0.0  0.0  0.0  300.0  500.0  300.0   600.0  1000.0  600.0\n",
      "2018-01-04    0.0  0.0  NaN  400.0  400.0    NaN   800.0   800.0    NaN\n",
      "2018-01-05    0.0  0.0  0.0  500.0  300.0  300.0  1000.0   600.0  600.0\n",
      "2018-01-06    0.0  0.0  0.0  600.0  200.0  200.0  1200.0   400.0  400.0\n",
      "2018-01-07    NaN  0.0  0.0    NaN  100.0  100.0     NaN   200.0  200.0\n",
      "custom_param    0                1                     2               \n",
      "                a    b    c      a      b      c       a       b      c\n",
      "2018-01-01    0.0  NaN  0.0  100.0    NaN  100.0   200.0     NaN  200.0\n",
      "2018-01-02    0.0  0.0  0.0  200.0  600.0  200.0   400.0  1200.0  400.0\n",
      "2018-01-03    0.0  0.0  0.0  300.0  500.0  300.0   600.0  1000.0  600.0\n",
      "2018-01-04    0.0  0.0  NaN  400.0  400.0    NaN   800.0   800.0    NaN\n",
      "2018-01-05    0.0  0.0  0.0  500.0  300.0  300.0  1000.0   600.0  600.0\n",
      "2018-01-06    0.0  0.0  0.0  600.0  200.0  200.0  1200.0   400.0  400.0\n",
      "2018-01-07    NaN  0.0  0.0    NaN  100.0  100.0     NaN   200.0  200.0\n"
     ]
    }
   ],
   "source": [
    "print(vbt.IndicatorFactory().from_apply_func(\n",
    "    lambda ts, param, c: ts * param * c, caching_func=lambda ts, params: 100)\\\n",
    "      .from_params(ts, [0, 1, 2]).output) # test caching func\n",
    "print(vbt.IndicatorFactory().from_apply_func(\n",
    "    njit(lambda ts, param, c: ts * param * c), caching_func=lambda ts, params: 100)\\\n",
    "      .from_params(ts, [0, 1, 2]).output)"
   ]
  },
  {
   "cell_type": "code",
   "execution_count": 14,
   "metadata": {},
   "outputs": [],
   "source": [
    "CustomInd = vbt.IndicatorFactory(\n",
    "    ts_names=['ts1', 'ts2'],\n",
    "    param_names=['p1', 'p2'],\n",
    "    output_names=['o1', 'o2']\n",
    ").from_apply_func(lambda ts1, ts2, p1, p2: (ts1 * p1, ts2 * p2))"
   ]
  },
  {
   "cell_type": "code",
   "execution_count": 15,
   "metadata": {},
   "outputs": [
    {
     "data": {
      "text/plain": [
       "['__class__',\n",
       " '__delattr__',\n",
       " '__dict__',\n",
       " '__dir__',\n",
       " '__doc__',\n",
       " '__eq__',\n",
       " '__format__',\n",
       " '__ge__',\n",
       " '__getattribute__',\n",
       " '__getitem__',\n",
       " '__gt__',\n",
       " '__hash__',\n",
       " '__init__',\n",
       " '__init_subclass__',\n",
       " '__le__',\n",
       " '__lt__',\n",
       " '__module__',\n",
       " '__ne__',\n",
       " '__new__',\n",
       " '__reduce__',\n",
       " '__reduce_ex__',\n",
       " '__repr__',\n",
       " '__setattr__',\n",
       " '__sizeof__',\n",
       " '__str__',\n",
       " '__subclasshook__',\n",
       " '__weakref__',\n",
       " 'from_params',\n",
       " 'iloc',\n",
       " 'loc',\n",
       " 'name',\n",
       " 'o1',\n",
       " 'o1_above',\n",
       " 'o1_below',\n",
       " 'o1_equal',\n",
       " 'o2',\n",
       " 'o2_above',\n",
       " 'o2_below',\n",
       " 'o2_equal',\n",
       " 'p1_loc',\n",
       " 'p2_loc',\n",
       " 'ts1',\n",
       " 'ts1_above',\n",
       " 'ts1_below',\n",
       " 'ts1_equal',\n",
       " 'ts2',\n",
       " 'ts2_above',\n",
       " 'ts2_below',\n",
       " 'ts2_equal',\n",
       " 'tuple_loc',\n",
       " 'xs']"
      ]
     },
     "execution_count": 15,
     "metadata": {},
     "output_type": "execute_result"
    }
   ],
   "source": [
    "dir(CustomInd) # you can list here all of the available tools"
   ]
  },
  {
   "cell_type": "code",
   "execution_count": 16,
   "metadata": {},
   "outputs": [],
   "source": [
    "custom_ind = CustomInd.from_params(ts, ts * 2, [1, 2], [3, 4])\n",
    "big_custom_ind = CustomInd.from_params(big_ts, big_ts * 2, [1, 2], [3, 4])"
   ]
  },
  {
   "cell_type": "code",
   "execution_count": 17,
   "metadata": {},
   "outputs": [
    {
     "name": "stdout",
     "output_type": "stream",
     "text": [
      "DatetimeIndex(['2018-01-01', '2018-01-02', '2018-01-03', '2018-01-04',\n",
      "               '2018-01-05', '2018-01-06', '2018-01-07'],\n",
      "              dtype='datetime64[ns]', freq=None)\n",
      "MultiIndex([(1, 3, 'a'),\n",
      "            (1, 3, 'b'),\n",
      "            (1, 3, 'c'),\n",
      "            (2, 4, 'a'),\n",
      "            (2, 4, 'b'),\n",
      "            (2, 4, 'c')],\n",
      "           names=['custom_p1', 'custom_p2', None])\n",
      "2\n",
      "(7, 6)\n",
      "1 days 00:00:00\n"
     ]
    }
   ],
   "source": [
    "print(custom_ind.wrapper.index) # subclasses TSArrayWrapper\n",
    "print(custom_ind.wrapper.columns)\n",
    "print(custom_ind.wrapper.ndim)\n",
    "print(custom_ind.wrapper.shape)\n",
    "print(custom_ind.wrapper.freq)"
   ]
  },
  {
   "cell_type": "markdown",
   "metadata": {},
   "source": [
    "### Pandas indexing"
   ]
  },
  {
   "cell_type": "code",
   "execution_count": 18,
   "metadata": {},
   "outputs": [
    {
     "name": "stdout",
     "output_type": "stream",
     "text": [
      "2018-01-01    1.0\n",
      "2018-01-02    2.0\n",
      "2018-01-03    3.0\n",
      "2018-01-04    4.0\n",
      "2018-01-05    5.0\n",
      "2018-01-06    6.0\n",
      "2018-01-07    NaN\n",
      "Name: (1, 3, a), dtype: float64\n",
      "85.1 µs ± 5.27 µs per loop (mean ± std. dev. of 7 runs, 10000 loops each)\n",
      "2018-01-01    1.0\n",
      "2018-01-02    2.0\n",
      "2018-01-03    3.0\n",
      "2018-01-04    4.0\n",
      "2018-01-05    5.0\n",
      "2018-01-06    6.0\n",
      "2018-01-07    NaN\n",
      "Name: (1, 3, a), dtype: float64\n",
      "11.9 ms ± 790 µs per loop (mean ± std. dev. of 7 runs, 100 loops each)\n"
     ]
    }
   ],
   "source": [
    "print(custom_ind.o1.iloc[:, 0])\n",
    "%timeit big_custom_ind.o1.iloc[:, 0] # benchmark, 1 column\n",
    "\n",
    "print(custom_ind.iloc[:, 0].o1) # performed on the object itself\n",
    "%timeit big_custom_ind.iloc[:, 0] # slower since it forwards the operation to each dataframe"
   ]
  },
  {
   "cell_type": "code",
   "execution_count": 19,
   "metadata": {},
   "outputs": [
    {
     "name": "stdout",
     "output_type": "stream",
     "text": [
      "custom_p1     1          \n",
      "custom_p2     3          \n",
      "              a    b    c\n",
      "2018-01-01  1.0  NaN  1.0\n",
      "2018-01-02  2.0  6.0  2.0\n",
      "2018-01-03  3.0  5.0  3.0\n",
      "2018-01-04  4.0  4.0  NaN\n",
      "2018-01-05  5.0  3.0  3.0\n",
      "2018-01-06  6.0  2.0  2.0\n",
      "2018-01-07  NaN  1.0  1.0\n",
      "3.57 ms ± 100 µs per loop (mean ± std. dev. of 7 runs, 100 loops each)\n",
      "custom_p1     1          \n",
      "custom_p2     3          \n",
      "              a    b    c\n",
      "2018-01-01  1.0  NaN  1.0\n",
      "2018-01-02  2.0  6.0  2.0\n",
      "2018-01-03  3.0  5.0  3.0\n",
      "2018-01-04  4.0  4.0  NaN\n",
      "2018-01-05  5.0  3.0  3.0\n",
      "2018-01-06  6.0  2.0  2.0\n",
      "2018-01-07  NaN  1.0  1.0\n",
      "33.6 ms ± 2.26 ms per loop (mean ± std. dev. of 7 runs, 10 loops each)\n"
     ]
    }
   ],
   "source": [
    "print(custom_ind.o1.iloc[:, np.arange(3)])\n",
    "%timeit big_custom_ind.o1.iloc[:, np.arange(1000)] # 1000 columns\n",
    "\n",
    "print(custom_ind.iloc[:, np.arange(3)].o1)\n",
    "%timeit big_custom_ind.iloc[:, np.arange(1000)]"
   ]
  },
  {
   "cell_type": "code",
   "execution_count": 20,
   "metadata": {},
   "outputs": [
    {
     "name": "stdout",
     "output_type": "stream",
     "text": [
      "2018-01-01    1.0\n",
      "2018-01-02    2.0\n",
      "2018-01-03    3.0\n",
      "2018-01-04    4.0\n",
      "2018-01-05    5.0\n",
      "2018-01-06    6.0\n",
      "2018-01-07    NaN\n",
      "Name: (1, 3, a), dtype: float64\n",
      "87.3 µs ± 2.69 µs per loop (mean ± std. dev. of 7 runs, 10000 loops each)\n",
      "2018-01-01    1.0\n",
      "2018-01-02    2.0\n",
      "2018-01-03    3.0\n",
      "2018-01-04    4.0\n",
      "2018-01-05    5.0\n",
      "2018-01-06    6.0\n",
      "2018-01-07    NaN\n",
      "Name: (1, 3, a), dtype: float64\n",
      "13.8 ms ± 1.72 ms per loop (mean ± std. dev. of 7 runs, 100 loops each)\n"
     ]
    }
   ],
   "source": [
    "print(custom_ind.o1.loc[:, (1, 3, 'a')])\n",
    "%timeit big_custom_ind.o1.loc[:, (1, 3, 0)] # 1 column\n",
    "\n",
    "print(custom_ind.loc[:, (1, 3, 'a')].o1)\n",
    "%timeit big_custom_ind.loc[:, (1, 3, 0)]"
   ]
  },
  {
   "cell_type": "code",
   "execution_count": 21,
   "metadata": {},
   "outputs": [
    {
     "name": "stdout",
     "output_type": "stream",
     "text": [
      "              a    b    c\n",
      "2018-01-01  1.0  NaN  1.0\n",
      "2018-01-02  2.0  6.0  2.0\n",
      "2018-01-03  3.0  5.0  3.0\n",
      "2018-01-04  4.0  4.0  NaN\n",
      "2018-01-05  5.0  3.0  3.0\n",
      "2018-01-06  6.0  2.0  2.0\n",
      "2018-01-07  NaN  1.0  1.0\n",
      "459 µs ± 16.1 µs per loop (mean ± std. dev. of 7 runs, 1000 loops each)\n",
      "              a    b    c\n",
      "2018-01-01  1.0  NaN  1.0\n",
      "2018-01-02  2.0  6.0  2.0\n",
      "2018-01-03  3.0  5.0  3.0\n",
      "2018-01-04  4.0  4.0  NaN\n",
      "2018-01-05  5.0  3.0  3.0\n",
      "2018-01-06  6.0  2.0  2.0\n",
      "2018-01-07  NaN  1.0  1.0\n",
      "14.4 ms ± 1.69 ms per loop (mean ± std. dev. of 7 runs, 100 loops each)\n"
     ]
    }
   ],
   "source": [
    "print(custom_ind.o1.loc[:, (1, 3)])\n",
    "%timeit big_custom_ind.o1.loc[:, 1] # 1000 columns\n",
    "\n",
    "print(custom_ind.loc[:, (1, 3)].o1)\n",
    "%timeit big_custom_ind.loc[:, 1]"
   ]
  },
  {
   "cell_type": "code",
   "execution_count": 22,
   "metadata": {},
   "outputs": [
    {
     "name": "stdout",
     "output_type": "stream",
     "text": [
      "custom_p2     3          \n",
      "              a    b    c\n",
      "2018-01-01  1.0  NaN  1.0\n",
      "2018-01-02  2.0  6.0  2.0\n",
      "2018-01-03  3.0  5.0  3.0\n",
      "2018-01-04  4.0  4.0  NaN\n",
      "2018-01-05  5.0  3.0  3.0\n",
      "2018-01-06  6.0  2.0  2.0\n",
      "2018-01-07  NaN  1.0  1.0\n",
      "532 µs ± 72.2 µs per loop (mean ± std. dev. of 7 runs, 1000 loops each)\n",
      "custom_p2     3          \n",
      "              a    b    c\n",
      "2018-01-01  1.0  NaN  1.0\n",
      "2018-01-02  2.0  6.0  2.0\n",
      "2018-01-03  3.0  5.0  3.0\n",
      "2018-01-04  4.0  4.0  NaN\n",
      "2018-01-05  5.0  3.0  3.0\n",
      "2018-01-06  6.0  2.0  2.0\n",
      "2018-01-07  NaN  1.0  1.0\n",
      "12.5 ms ± 472 µs per loop (mean ± std. dev. of 7 runs, 100 loops each)\n"
     ]
    }
   ],
   "source": [
    "print(custom_ind.o1.xs(1, axis=1, level=0))\n",
    "%timeit big_custom_ind.o1.xs(1, axis=1, level=0) # 1000 columns\n",
    "\n",
    "print(custom_ind.xs(1, axis=1, level=0).o1)\n",
    "%timeit big_custom_ind.xs(1, axis=1, level=0)"
   ]
  },
  {
   "cell_type": "markdown",
   "metadata": {},
   "source": [
    "### Parameter indexing"
   ]
  },
  {
   "cell_type": "code",
   "execution_count": 23,
   "metadata": {},
   "outputs": [
    {
     "name": "stdout",
     "output_type": "stream",
     "text": [
      "custom_p1  custom_p2   \n",
      "1          3          a    1\n",
      "                      b    1\n",
      "                      c    1\n",
      "2          4          a    2\n",
      "                      b    2\n",
      "                      c    2\n",
      "Name: custom_p1, dtype: int64\n",
      "custom_p2      4           \n",
      "               a     b    c\n",
      "2018-01-01   2.0   NaN  2.0\n",
      "2018-01-02   4.0  12.0  4.0\n",
      "2018-01-03   6.0  10.0  6.0\n",
      "2018-01-04   8.0   8.0  NaN\n",
      "2018-01-05  10.0   6.0  6.0\n",
      "2018-01-06  12.0   4.0  4.0\n",
      "2018-01-07   NaN   2.0  2.0\n",
      "custom_p1     1               2           \n",
      "custom_p2     3               4           \n",
      "              a    b    c     a     b    c\n",
      "2018-01-01  1.0  NaN  1.0   2.0   NaN  2.0\n",
      "2018-01-02  2.0  6.0  2.0   4.0  12.0  4.0\n",
      "2018-01-03  3.0  5.0  3.0   6.0  10.0  6.0\n",
      "2018-01-04  4.0  4.0  NaN   8.0   8.0  NaN\n",
      "2018-01-05  5.0  3.0  3.0  10.0   6.0  6.0\n",
      "2018-01-06  6.0  2.0  2.0  12.0   4.0  4.0\n",
      "2018-01-07  NaN  1.0  1.0   NaN   2.0  2.0\n",
      "custom_p1     1                                        \n",
      "custom_p2     3                                        \n",
      "              a    b    c    a    b    c    a    b    c\n",
      "2018-01-01  1.0  NaN  1.0  1.0  NaN  1.0  1.0  NaN  1.0\n",
      "2018-01-02  2.0  6.0  2.0  2.0  6.0  2.0  2.0  6.0  2.0\n",
      "2018-01-03  3.0  5.0  3.0  3.0  5.0  3.0  3.0  5.0  3.0\n",
      "2018-01-04  4.0  4.0  NaN  4.0  4.0  NaN  4.0  4.0  NaN\n",
      "2018-01-05  5.0  3.0  3.0  5.0  3.0  3.0  5.0  3.0  3.0\n",
      "2018-01-06  6.0  2.0  2.0  6.0  2.0  2.0  6.0  2.0  2.0\n",
      "2018-01-07  NaN  1.0  1.0  NaN  1.0  1.0  NaN  1.0  1.0\n"
     ]
    }
   ],
   "source": [
    "# Indexing by parameter\n",
    "print(custom_ind._p1_mapper)\n",
    "print(custom_ind.p1_loc[2].o1)\n",
    "print(custom_ind.p1_loc[1:2].o1)\n",
    "print(custom_ind.p1_loc[[1, 1, 1]].o1)"
   ]
  },
  {
   "cell_type": "code",
   "execution_count": 24,
   "metadata": {},
   "outputs": [
    {
     "name": "stdout",
     "output_type": "stream",
     "text": [
      "42.8 ms ± 10.2 ms per loop (mean ± std. dev. of 7 runs, 10 loops each)\n",
      "283 ms ± 28.9 ms per loop (mean ± std. dev. of 7 runs, 1 loop each)\n"
     ]
    }
   ],
   "source": [
    "%timeit big_custom_ind.p1_loc[1] # 1000 columns\n",
    "%timeit big_custom_ind.p1_loc[np.full(10, 1)] # 10000 columns"
   ]
  },
  {
   "cell_type": "code",
   "execution_count": 25,
   "metadata": {},
   "outputs": [
    {
     "name": "stdout",
     "output_type": "stream",
     "text": [
      "custom_p1  custom_p2   \n",
      "1          3          a    (1, 3)\n",
      "                      b    (1, 3)\n",
      "                      c    (1, 3)\n",
      "2          4          a    (2, 4)\n",
      "                      b    (2, 4)\n",
      "                      c    (2, 4)\n",
      "Name: (custom_p1, custom_p2), dtype: object\n",
      "              a    b    c\n",
      "2018-01-01  1.0  NaN  1.0\n",
      "2018-01-02  2.0  6.0  2.0\n",
      "2018-01-03  3.0  5.0  3.0\n",
      "2018-01-04  4.0  4.0  NaN\n",
      "2018-01-05  5.0  3.0  3.0\n",
      "2018-01-06  6.0  2.0  2.0\n",
      "2018-01-07  NaN  1.0  1.0\n",
      "custom_p1     1               2           \n",
      "custom_p2     3               4           \n",
      "              a    b    c     a     b    c\n",
      "2018-01-01  1.0  NaN  1.0   2.0   NaN  2.0\n",
      "2018-01-02  2.0  6.0  2.0   4.0  12.0  4.0\n",
      "2018-01-03  3.0  5.0  3.0   6.0  10.0  6.0\n",
      "2018-01-04  4.0  4.0  NaN   8.0   8.0  NaN\n",
      "2018-01-05  5.0  3.0  3.0  10.0   6.0  6.0\n",
      "2018-01-06  6.0  2.0  2.0  12.0   4.0  4.0\n",
      "2018-01-07  NaN  1.0  1.0   NaN   2.0  2.0\n"
     ]
    }
   ],
   "source": [
    "print(custom_ind._tuple_mapper)\n",
    "print(custom_ind.tuple_loc[(1, 3)].o1)\n",
    "print(custom_ind.tuple_loc[(1, 3):(2, 4)].o1)"
   ]
  },
  {
   "cell_type": "code",
   "execution_count": 26,
   "metadata": {},
   "outputs": [
    {
     "name": "stdout",
     "output_type": "stream",
     "text": [
      "34.9 ms ± 1.6 ms per loop (mean ± std. dev. of 7 runs, 10 loops each)\n",
      "302 ms ± 54.2 ms per loop (mean ± std. dev. of 7 runs, 1 loop each)\n"
     ]
    }
   ],
   "source": [
    "%timeit big_custom_ind.tuple_loc[(1, 3)]\n",
    "%timeit big_custom_ind.tuple_loc[[(1, 3)] * 10]"
   ]
  },
  {
   "cell_type": "markdown",
   "metadata": {},
   "source": [
    "### Comparison methods"
   ]
  },
  {
   "cell_type": "code",
   "execution_count": 27,
   "metadata": {},
   "outputs": [
    {
     "name": "stdout",
     "output_type": "stream",
     "text": [
      "custom_p1       1                    2              \n",
      "custom_p2       3                    4              \n",
      "                a      b      c      a      b      c\n",
      "2018-01-01  False  False  False  False  False  False\n",
      "2018-01-02  False   True  False   True   True   True\n",
      "2018-01-03   True   True   True   True   True   True\n",
      "2018-01-04   True   True  False   True   True  False\n",
      "2018-01-05   True   True   True   True   True   True\n",
      "2018-01-06   True  False  False   True   True   True\n",
      "2018-01-07  False  False  False  False  False  False\n",
      "2.2 ms ± 256 µs per loop (mean ± std. dev. of 7 runs, 1000 loops each)\n",
      "custom_p1       1                    2              \n",
      "custom_p2       3                    4              \n",
      "                a      b      c      a      b      c\n",
      "2018-01-01  False  False  False  False  False  False\n",
      "2018-01-02  False   True  False   True   True   True\n",
      "2018-01-03   True   True   True   True   True   True\n",
      "2018-01-04   True   True  False   True   True  False\n",
      "2018-01-05   True   True   True   True   True   True\n",
      "2018-01-06   True  False  False   True   True   True\n",
      "2018-01-07  False  False  False  False  False  False\n"
     ]
    },
    {
     "name": "stderr",
     "output_type": "stream",
     "text": [
      "/Users/olegpolakow/Documents/SourceTree/vectorbt/vectorbt/base/accessors.py:336: RuntimeWarning: invalid value encountered in greater\n",
      "  result = combine_func(new_obj_arr, new_other_arr, *args, **kwargs)\n"
     ]
    },
    {
     "name": "stdout",
     "output_type": "stream",
     "text": [
      "5.17 ms ± 106 µs per loop (mean ± std. dev. of 7 runs, 100 loops each)\n"
     ]
    }
   ],
   "source": [
    "print(custom_ind.o1 > 2)\n",
    "%timeit big_custom_ind.o1.values > 2 # don't even try pandas\n",
    "\n",
    "print(custom_ind.o1_above(2))\n",
    "%timeit big_custom_ind.o1_above(2) # slower than numpy because of constructing dataframe"
   ]
  },
  {
   "cell_type": "code",
   "execution_count": 28,
   "metadata": {},
   "outputs": [
    {
     "name": "stdout",
     "output_type": "stream",
     "text": [
      "custom_p1       1                    2                    1                \\\n",
      "custom_p2       3                    4                    3                 \n",
      "                a      b      c      a      b      c      a      b      c   \n",
      "2018-01-01  False  False  False  False  False  False  False  False  False   \n",
      "2018-01-02  False   True  False   True   True   True  False   True  False   \n",
      "2018-01-03   True   True   True   True   True   True  False   True  False   \n",
      "2018-01-04   True   True  False   True   True  False   True   True  False   \n",
      "2018-01-05   True   True   True   True   True   True   True  False  False   \n",
      "2018-01-06   True  False  False   True   True   True   True  False  False   \n",
      "2018-01-07  False  False  False  False  False  False  False  False  False   \n",
      "\n",
      "custom_p1       2                \n",
      "custom_p2       4                \n",
      "                a      b      c  \n",
      "2018-01-01  False  False  False  \n",
      "2018-01-02   True   True   True  \n",
      "2018-01-03   True   True   True  \n",
      "2018-01-04   True   True  False  \n",
      "2018-01-05   True   True   True  \n",
      "2018-01-06   True   True   True  \n",
      "2018-01-07  False  False  False  \n",
      "5.2 ms ± 320 µs per loop (mean ± std. dev. of 7 runs, 100 loops each)\n",
      "custom_o1_above      2                                         3         \\\n",
      "custom_p1            1                    2                    1          \n",
      "custom_p2            3                    4                    3          \n",
      "                     a      b      c      a      b      c      a      b   \n",
      "2018-01-01       False  False  False  False  False  False  False  False   \n",
      "2018-01-02       False   True  False   True   True   True  False   True   \n",
      "2018-01-03        True   True   True   True   True   True  False   True   \n",
      "2018-01-04        True   True  False   True   True  False   True   True   \n",
      "2018-01-05        True   True   True   True   True   True   True  False   \n",
      "2018-01-06        True  False  False   True   True   True   True  False   \n",
      "2018-01-07       False  False  False  False  False  False  False  False   \n",
      "\n",
      "custom_o1_above                              \n",
      "custom_p1                   2                \n",
      "custom_p2                   4                \n",
      "                     c      a      b      c  \n",
      "2018-01-01       False  False  False  False  \n",
      "2018-01-02       False   True   True   True  \n",
      "2018-01-03       False   True   True   True  \n",
      "2018-01-04       False   True   True  False  \n",
      "2018-01-05       False   True   True   True  \n",
      "2018-01-06       False   True   True   True  \n",
      "2018-01-07       False  False  False  False  \n"
     ]
    },
    {
     "name": "stderr",
     "output_type": "stream",
     "text": [
      "/Users/olegpolakow/Documents/SourceTree/vectorbt/vectorbt/base/combine_fns.py:115: RuntimeWarning: invalid value encountered in greater\n",
      "  return combine_func(obj, others[i], *args, **kwargs)\n"
     ]
    },
    {
     "name": "stdout",
     "output_type": "stream",
     "text": [
      "18.5 ms ± 394 µs per loop (mean ± std. dev. of 7 runs, 100 loops each)\n"
     ]
    }
   ],
   "source": [
    "print(pd.concat((custom_ind.o1 > 2, custom_ind.o1 > 3), axis=1))\n",
    "%timeit np.hstack((big_custom_ind.o1.values > 2, big_custom_ind.o1.values > 3))\n",
    "\n",
    "print(custom_ind.o1_above([2, 3], multiple=True))\n",
    "%timeit big_custom_ind.o1_above([2, 3], multiple=True)"
   ]
  },
  {
   "cell_type": "markdown",
   "metadata": {},
   "source": [
    "## MA"
   ]
  },
  {
   "cell_type": "code",
   "execution_count": 29,
   "metadata": {},
   "outputs": [
    {
     "name": "stdout",
     "output_type": "stream",
     "text": [
      "2018-01-01    NaN\n",
      "2018-01-02    1.5\n",
      "2018-01-03    2.5\n",
      "2018-01-04    3.5\n",
      "2018-01-05    4.5\n",
      "2018-01-06    5.5\n",
      "2018-01-07    NaN\n",
      "Name: (2, False, a), dtype: float64\n",
      "              a    b    c\n",
      "2018-01-01  NaN  NaN  NaN\n",
      "2018-01-02  1.5  NaN  1.5\n",
      "2018-01-03  2.5  5.5  2.5\n",
      "2018-01-04  3.5  4.5  NaN\n",
      "2018-01-05  4.5  3.5  NaN\n",
      "2018-01-06  5.5  2.5  2.5\n",
      "2018-01-07  NaN  1.5  1.5\n",
      "ma_window      2               3          \n",
      "ma_ewm     False           False          \n",
      "               a    b    c     a    b    c\n",
      "2018-01-01   NaN  NaN  NaN   NaN  NaN  NaN\n",
      "2018-01-02   1.5  NaN  1.5   NaN  NaN  NaN\n",
      "2018-01-03   2.5  5.5  2.5   2.0  NaN  2.0\n",
      "2018-01-04   3.5  4.5  NaN   3.0  5.0  NaN\n",
      "2018-01-05   4.5  3.5  NaN   4.0  4.0  NaN\n",
      "2018-01-06   5.5  2.5  2.5   5.0  3.0  NaN\n",
      "2018-01-07   NaN  1.5  1.5   NaN  2.0  2.0\n",
      "ma_window      2                   3                    \n",
      "ma_ewm     False               True                     \n",
      "               a    b    c         a         b         c\n",
      "2018-01-01   NaN  NaN  NaN       NaN       NaN       NaN\n",
      "2018-01-02   1.5  NaN  1.5       NaN       NaN       NaN\n",
      "2018-01-03   2.5  5.5  2.5  2.428571       NaN  2.428571\n",
      "2018-01-04   3.5  4.5  NaN  3.266667  4.571429  2.428571\n",
      "2018-01-05   4.5  3.5  NaN  4.161290  3.733333  2.826087\n",
      "2018-01-06   5.5  2.5  2.5  5.095238  2.838710  2.345455\n",
      "2018-01-07   NaN  1.5  1.5  5.095238  1.904762  1.621849\n",
      "ma_window      2                                             3            \\\n",
      "ma_ewm     False               True                      False             \n",
      "               a    b    c         a         b         c     a    b    c   \n",
      "2018-01-01   NaN  NaN  NaN       NaN       NaN       NaN   NaN  NaN  NaN   \n",
      "2018-01-02   1.5  NaN  1.5  1.750000       NaN  1.750000   NaN  NaN  NaN   \n",
      "2018-01-03   2.5  5.5  2.5  2.615385  5.250000  2.615385   2.0  NaN  2.0   \n",
      "2018-01-04   3.5  4.5  NaN  3.550000  4.384615  2.615385   3.0  5.0  NaN   \n",
      "2018-01-05   4.5  3.5  NaN  4.520661  3.450000  2.946809   4.0  4.0  NaN   \n",
      "2018-01-06   5.5  2.5  2.5  5.508242  2.479339  2.264095   5.0  3.0  NaN   \n",
      "2018-01-07   NaN  1.5  1.5  5.508242  1.491758  1.399625   NaN  2.0  2.0   \n",
      "\n",
      "ma_window                                 \n",
      "ma_ewm         True                       \n",
      "                   a         b         c  \n",
      "2018-01-01       NaN       NaN       NaN  \n",
      "2018-01-02       NaN       NaN       NaN  \n",
      "2018-01-03  2.428571       NaN  2.428571  \n",
      "2018-01-04  3.266667  4.571429  2.428571  \n",
      "2018-01-05  4.161290  3.733333  2.826087  \n",
      "2018-01-06  5.095238  2.838710  2.345455  \n",
      "2018-01-07  5.095238  1.904762  1.621849  \n"
     ]
    }
   ],
   "source": [
    "print(vbt.MA.from_params(ts['a'], 2).ma)\n",
    "print(vbt.MA.from_params(ts, 2).ma)\n",
    "print(vbt.MA.from_params(ts, [2, 3], ewm=False).ma)\n",
    "print(vbt.MA.from_params(ts, [2, 3], ewm=[False, True]).ma)\n",
    "print(vbt.MA.from_params(ts, [2, 3], ewm=[False, True], param_product=True).ma)"
   ]
  },
  {
   "cell_type": "code",
   "execution_count": 30,
   "metadata": {},
   "outputs": [
    {
     "name": "stdout",
     "output_type": "stream",
     "text": [
      "32.5 ms ± 982 µs per loop (mean ± std. dev. of 7 runs, 10 loops each)\n",
      "17 ms ± 129 µs per loop (mean ± std. dev. of 7 runs, 100 loops each)\n",
      "26.7 ms ± 1.14 ms per loop (mean ± std. dev. of 7 runs, 10 loops each)\n",
      "(1000, 1000)\n"
     ]
    }
   ],
   "source": [
    "# One window\n",
    "%timeit big_ts.rolling(2).mean() # pandas\n",
    "%timeit vbt.MA.from_params(big_ts, 2, return_cache=True) # cache only\n",
    "%timeit vbt.MA.from_params(big_ts, 2) # with pre+postprocessing and still beats pandas\n",
    "\n",
    "print(vbt.MA.from_params(big_ts, 2).ma.shape)"
   ]
  },
  {
   "cell_type": "code",
   "execution_count": 31,
   "metadata": {},
   "outputs": [
    {
     "name": "stdout",
     "output_type": "stream",
     "text": [
      "4.4 s ± 445 ms per loop (mean ± std. dev. of 7 runs, 1 loop each)\n",
      "1.96 s ± 56.4 ms per loop (mean ± std. dev. of 7 runs, 1 loop each)\n",
      "3.36 s ± 512 ms per loop (mean ± std. dev. of 7 runs, 1 loop each)\n",
      "1.82 s ± 618 ms per loop (mean ± std. dev. of 7 runs, 1 loop each)\n",
      "(1000, 98000)\n"
     ]
    }
   ],
   "source": [
    "# Multiple windows\n",
    "%timeit pd.concat([big_ts.rolling(i).mean() for i in np.arange(2, 100)])\n",
    "%timeit vbt.MA.from_params(big_ts, np.arange(2, 100), return_cache=True) # cache only\n",
    "%timeit vbt.MA.from_params(big_ts, np.arange(2, 100))\n",
    "cache = vbt.MA.from_params(big_ts, np.arange(2, 100), return_cache=True)\n",
    "%timeit vbt.MA.from_params(big_ts, np.arange(2, 100), cache=cache) # using cache\n",
    "\n",
    "print(vbt.MA.from_params(big_ts, np.arange(2, 100)).ma.shape)"
   ]
  },
  {
   "cell_type": "code",
   "execution_count": 32,
   "metadata": {},
   "outputs": [
    {
     "name": "stdout",
     "output_type": "stream",
     "text": [
      "4.05 s ± 56.7 ms per loop (mean ± std. dev. of 7 runs, 1 loop each)\n",
      "15.5 ms ± 272 µs per loop (mean ± std. dev. of 7 runs, 100 loops each)\n",
      "1.44 s ± 354 ms per loop (mean ± std. dev. of 7 runs, 1 loop each)\n",
      "(1000, 100000)\n"
     ]
    }
   ],
   "source": [
    "# One window repeated\n",
    "%timeit pd.concat([big_ts.rolling(i).mean() for i in np.full(100, 2)])\n",
    "%timeit vbt.MA.from_params(big_ts, np.full(100, 2), return_cache=True)\n",
    "%timeit vbt.MA.from_params(big_ts, np.full(100, 2))\n",
    "\n",
    "print(vbt.MA.from_params(big_ts, np.full(100, 2)).ma.shape)"
   ]
  },
  {
   "cell_type": "code",
   "execution_count": 33,
   "metadata": {},
   "outputs": [],
   "source": [
    "ma = vbt.MA.from_params(ts, [2, 3], ewm=[False, True])\n",
    "big_ma = vbt.MA.from_params(big_ts, np.arange(2, 100), ewm=False)"
   ]
  },
  {
   "cell_type": "code",
   "execution_count": 34,
   "metadata": {},
   "outputs": [
    {
     "data": {
      "image/png": "[encoded data removed]"
     },
     "metadata": {},
     "output_type": "display_data"
    }
   ],
   "source": [
    "ma[(2, False, 'a')].plot().show_png()"
   ]
  },
  {
   "cell_type": "markdown",
   "metadata": {},
   "source": [
    "### Combinations"
   ]
  },
  {
   "cell_type": "code",
   "execution_count": 35,
   "metadata": {},
   "outputs": [
    {
     "name": "stdout",
     "output_type": "stream",
     "text": [
      "[ 2  2  2  2  2  2  2  2  2  2  2  2  2  2  2  2  2  3  3  3  3  3  3  3\n",
      "  3  3  3  3  3  3  3  3  3  4  4  4  4  4  4  4  4  4  4  4  4  4  4  4\n",
      "  5  5  5  5  5  5  5  5  5  5  5  5  5  5  6  6  6  6  6  6  6  6  6  6\n",
      "  6  6  6  7  7  7  7  7  7  7  7  7  7  7  7  8  8  8  8  8  8  8  8  8\n",
      "  8  8  9  9  9  9  9  9  9  9  9  9 10 10 10 10 10 10 10 10 10 11 11 11\n",
      " 11 11 11 11 11 12 12 12 12 12 12 12 13 13 13 13 13 13 14 14 14 14 14 15\n",
      " 15 15 15 16 16 16 17 17 18] [ 3  4  5  6  7  8  9 10 11 12 13 14 15 16 17 18 19  4  5  6  7  8  9 10\n",
      " 11 12 13 14 15 16 17 18 19  5  6  7  8  9 10 11 12 13 14 15 16 17 18 19\n",
      "  6  7  8  9 10 11 12 13 14 15 16 17 18 19  7  8  9 10 11 12 13 14 15 16\n",
      " 17 18 19  8  9 10 11 12 13 14 15 16 17 18 19  9 10 11 12 13 14 15 16 17\n",
      " 18 19 10 11 12 13 14 15 16 17 18 19 11 12 13 14 15 16 17 18 19 12 13 14\n",
      " 15 16 17 18 19 13 14 15 16 17 18 19 14 15 16 17 18 19 15 16 17 18 19 16\n",
      " 17 18 19 17 18 19 18 19 19]\n",
      "4.76 s ± 681 ms per loop (mean ± std. dev. of 7 runs, 1 loop each)\n",
      "4.33 s ± 86.4 ms per loop (mean ± std. dev. of 7 runs, 1 loop each)\n"
     ]
    }
   ],
   "source": [
    "comb = itertools.combinations(np.arange(2, 20), 2)\n",
    "fast_windows, slow_windows = np.asarray(list(comb)).transpose()\n",
    "print(fast_windows, slow_windows)\n",
    "\n",
    "%timeit vbt.MA.from_params(big_ts, fast_windows), vbt.MA.from_params(big_ts, slow_windows) # naive way\n",
    "%timeit vbt.MA.from_combinations(big_ts, np.arange(2, 20), 2) # performs caching -> a bit faster"
   ]
  },
  {
   "cell_type": "code",
   "execution_count": 36,
   "metadata": {},
   "outputs": [
    {
     "name": "stdout",
     "output_type": "stream",
     "text": [
      "ma1_window     2                              3          \n",
      "ma1_ewm    False                          False          \n",
      "               a    b    c    a    b    c     a    b    c\n",
      "2018-01-01   NaN  NaN  NaN  NaN  NaN  NaN   NaN  NaN  NaN\n",
      "2018-01-02   1.5  NaN  1.5  1.5  NaN  1.5   NaN  NaN  NaN\n",
      "2018-01-03   2.5  5.5  2.5  2.5  5.5  2.5   2.0  NaN  2.0\n",
      "2018-01-04   3.5  4.5  NaN  3.5  4.5  NaN   3.0  5.0  NaN\n",
      "2018-01-05   4.5  3.5  NaN  4.5  3.5  NaN   4.0  4.0  NaN\n",
      "2018-01-06   5.5  2.5  2.5  5.5  2.5  2.5   5.0  3.0  NaN\n",
      "2018-01-07   NaN  1.5  1.5  NaN  1.5  1.5   NaN  2.0  2.0\n",
      "ma2_window     3                   4                                          \\\n",
      "ma2_ewm    False               True                                            \n",
      "               a    b    c         a         b         c         a         b   \n",
      "2018-01-01   NaN  NaN  NaN       NaN       NaN       NaN       NaN       NaN   \n",
      "2018-01-02   NaN  NaN  NaN       NaN       NaN       NaN       NaN       NaN   \n",
      "2018-01-03   2.0  NaN  2.0       NaN       NaN       NaN       NaN       NaN   \n",
      "2018-01-04   3.0  5.0  NaN  3.095588       NaN       NaN  3.095588       NaN   \n",
      "2018-01-05   4.0  4.0  NaN  3.921582  3.904412  2.721388  3.921582  3.904412   \n",
      "2018-01-06   5.0  3.0  NaN  4.793636  3.078418  2.364858  4.793636  3.078418   \n",
      "2018-01-07   NaN  2.0  2.0  4.793636  2.206364  1.748396  4.793636  2.206364   \n",
      "\n",
      "ma2_window            \n",
      "ma2_ewm               \n",
      "                   c  \n",
      "2018-01-01       NaN  \n",
      "2018-01-02       NaN  \n",
      "2018-01-03       NaN  \n",
      "2018-01-04       NaN  \n",
      "2018-01-05  2.721388  \n",
      "2018-01-06  2.364858  \n",
      "2018-01-07  1.748396  \n"
     ]
    }
   ],
   "source": [
    "ma1, ma2 = vbt.MA.from_combinations(ts, [2, 3, 4], 2, ewm=[False, False, True])\n",
    "\n",
    "print(ma1.ma)\n",
    "print(ma2.ma)"
   ]
  },
  {
   "cell_type": "code",
   "execution_count": 37,
   "metadata": {},
   "outputs": [
    {
     "name": "stdout",
     "output_type": "stream",
     "text": [
      "ma1_window      2                                         3              \n",
      "ma1_ewm     False                                     False              \n",
      "ma2_window      3                    4                    4              \n",
      "ma2_ewm     False                True                 True               \n",
      "                a      b      c      a      b      c      a      b      c\n",
      "2018-01-01  False  False  False  False  False  False  False  False  False\n",
      "2018-01-02  False  False  False  False  False  False  False  False  False\n",
      "2018-01-03   True  False   True  False  False  False  False  False  False\n",
      "2018-01-04  False  False  False   True  False  False  False  False  False\n",
      "2018-01-05  False  False  False  False  False  False   True   True  False\n",
      "2018-01-06  False  False  False  False  False   True  False  False  False\n",
      "2018-01-07  False  False  False  False  False  False  False  False   True\n",
      "ma1_window      2                                         3              \n",
      "ma1_ewm     False                                     False              \n",
      "ma2_window      3                    4                    4              \n",
      "ma2_ewm     False                True                 True               \n",
      "                a      b      c      a      b      c      a      b      c\n",
      "2018-01-01  False  False  False  False  False  False  False  False  False\n",
      "2018-01-02  False  False  False  False  False  False  False  False  False\n",
      "2018-01-03  False  False  False  False  False  False  False  False  False\n",
      "2018-01-04  False   True  False  False  False  False   True  False  False\n",
      "2018-01-05  False  False  False  False   True  False  False  False  False\n",
      "2018-01-06  False  False  False  False  False  False  False   True  False\n",
      "2018-01-07  False  False   True  False  False   True  False  False  False\n"
     ]
    },
    {
     "name": "stderr",
     "output_type": "stream",
     "text": [
      "/Users/olegpolakow/Documents/SourceTree/vectorbt/vectorbt/base/accessors.py:336: RuntimeWarning:\n",
      "\n",
      "invalid value encountered in greater\n",
      "\n",
      "/Users/olegpolakow/Documents/SourceTree/vectorbt/vectorbt/base/accessors.py:336: RuntimeWarning:\n",
      "\n",
      "invalid value encountered in less\n",
      "\n"
     ]
    }
   ],
   "source": [
    "print(ma1.ma_above(ma2, crossed=True))\n",
    "print(ma1.ma_below(ma2, crossed=True))"
   ]
  },
  {
   "cell_type": "markdown",
   "metadata": {},
   "source": [
    "## MSTD"
   ]
  },
  {
   "cell_type": "code",
   "execution_count": 38,
   "metadata": {},
   "outputs": [
    {
     "name": "stdout",
     "output_type": "stream",
     "text": [
      "2018-01-01         NaN\n",
      "2018-01-02    0.707107\n",
      "2018-01-03    0.707107\n",
      "2018-01-04    0.707107\n",
      "2018-01-05    0.707107\n",
      "2018-01-06    0.707107\n",
      "2018-01-07         NaN\n",
      "Name: (2, False, a), dtype: float64\n",
      "                   a         b         c\n",
      "2018-01-01       NaN       NaN       NaN\n",
      "2018-01-02  0.707107       NaN  0.707107\n",
      "2018-01-03  0.707107  0.707107  0.707107\n",
      "2018-01-04  0.707107  0.707107       NaN\n",
      "2018-01-05  0.707107  0.707107       NaN\n",
      "2018-01-06  0.707107  0.707107  0.707107\n",
      "2018-01-07       NaN  0.707107  0.707107\n",
      "mstd_window         2                         3          \n",
      "mstd_ewm        False                     False          \n",
      "                    a         b         c     a    b    c\n",
      "2018-01-01        NaN       NaN       NaN   NaN  NaN  NaN\n",
      "2018-01-02   0.707107       NaN  0.707107   NaN  NaN  NaN\n",
      "2018-01-03   0.707107  0.707107  0.707107   1.0  NaN  1.0\n",
      "2018-01-04   0.707107  0.707107       NaN   1.0  1.0  NaN\n",
      "2018-01-05   0.707107  0.707107       NaN   1.0  1.0  NaN\n",
      "2018-01-06   0.707107  0.707107  0.707107   1.0  1.0  NaN\n",
      "2018-01-07        NaN  0.707107  0.707107   NaN  1.0  1.0\n",
      "mstd_window         2                             3                    \n",
      "mstd_ewm        False                         True                     \n",
      "                    a         b         c         a         b         c\n",
      "2018-01-01        NaN       NaN       NaN       NaN       NaN       NaN\n",
      "2018-01-02   0.707107       NaN  0.707107       NaN       NaN       NaN\n",
      "2018-01-03   0.707107  0.707107  0.707107  0.963624       NaN  0.963624\n",
      "2018-01-04   0.707107  0.707107       NaN  1.177164  0.963624  0.963624\n",
      "2018-01-05   0.707107  0.707107       NaN  1.345243  1.177164  0.695792\n",
      "2018-01-06   0.707107  0.707107  0.707107  1.470916  1.345243  0.678643\n",
      "2018-01-07        NaN  0.707107  0.707107  1.470916  1.470916  0.960778\n",
      "mstd_window         2                                                       3  \\\n",
      "mstd_ewm        False                         True                      False   \n",
      "                    a         b         c         a         b         c     a   \n",
      "2018-01-01        NaN       NaN       NaN       NaN       NaN       NaN   NaN   \n",
      "2018-01-02   0.707107       NaN  0.707107  0.707107       NaN  0.707107   NaN   \n",
      "2018-01-03   0.707107  0.707107  0.707107  0.919866  0.707107  0.919866   1.0   \n",
      "2018-01-04   0.707107  0.707107       NaN  1.059753  0.919866  0.919866   1.0   \n",
      "2018-01-05   0.707107  0.707107       NaN  1.141624  1.059753  0.538363   1.0   \n",
      "2018-01-06   0.707107  0.707107  0.707107  1.185252  1.141624  0.689334   1.0   \n",
      "2018-01-07        NaN  0.707107  0.707107  1.185252  1.185252  0.928157   NaN   \n",
      "\n",
      "mstd_window                                          \n",
      "mstd_ewm                  True                       \n",
      "               b    c         a         b         c  \n",
      "2018-01-01   NaN  NaN       NaN       NaN       NaN  \n",
      "2018-01-02   NaN  NaN       NaN       NaN       NaN  \n",
      "2018-01-03   NaN  1.0  0.963624       NaN  0.963624  \n",
      "2018-01-04   1.0  NaN  1.177164  0.963624  0.963624  \n",
      "2018-01-05   1.0  NaN  1.345243  1.177164  0.695792  \n",
      "2018-01-06   1.0  NaN  1.470916  1.345243  0.678643  \n",
      "2018-01-07   1.0  1.0  1.470916  1.470916  0.960778  \n"
     ]
    }
   ],
   "source": [
    "print(vbt.MSTD.from_params(ts['a'], 2).mstd)\n",
    "print(vbt.MSTD.from_params(ts, 2).mstd)\n",
    "print(vbt.MSTD.from_params(ts, [2, 3], ewm=False).mstd)\n",
    "print(vbt.MSTD.from_params(ts, [2, 3], ewm=[False, True]).mstd)\n",
    "print(vbt.MSTD.from_params(ts, [2, 3], ewm=[False, True], param_product=True).mstd)"
   ]
  },
  {
   "cell_type": "code",
   "execution_count": 39,
   "metadata": {},
   "outputs": [
    {
     "name": "stdout",
     "output_type": "stream",
     "text": [
      "54.5 ms ± 1.49 ms per loop (mean ± std. dev. of 7 runs, 10 loops each)\n",
      "24 ms ± 259 µs per loop (mean ± std. dev. of 7 runs, 10 loops each)\n",
      "(1000, 1000)\n"
     ]
    }
   ],
   "source": [
    "# One window\n",
    "%timeit big_ts.rolling(2).std()\n",
    "%timeit vbt.MSTD.from_params(big_ts, 2)\n",
    "\n",
    "print(vbt.MSTD.from_params(big_ts, 2).mstd.shape)"
   ]
  },
  {
   "cell_type": "code",
   "execution_count": 40,
   "metadata": {},
   "outputs": [
    {
     "name": "stdout",
     "output_type": "stream",
     "text": [
      "6.09 s ± 56.3 ms per loop (mean ± std. dev. of 7 runs, 1 loop each)\n",
      "2.86 s ± 17.3 ms per loop (mean ± std. dev. of 7 runs, 1 loop each)\n",
      "(1000, 98000)\n"
     ]
    }
   ],
   "source": [
    "# Multiple windows\n",
    "%timeit pd.concat([big_ts.rolling(i).std() for i in np.arange(2, 100)])\n",
    "%timeit vbt.MSTD.from_params(big_ts, np.arange(2, 100))\n",
    "\n",
    "print(vbt.MSTD.from_params(big_ts, np.arange(2, 100)).mstd.shape)"
   ]
  },
  {
   "cell_type": "code",
   "execution_count": 41,
   "metadata": {},
   "outputs": [
    {
     "name": "stdout",
     "output_type": "stream",
     "text": [
      "981 ms ± 24.4 ms per loop (mean ± std. dev. of 7 runs, 1 loop each)\n",
      "(1000, 100000)\n"
     ]
    }
   ],
   "source": [
    "# One window repeated\n",
    "%timeit vbt.MA.from_params(big_ts, np.full(100, 2))\n",
    "\n",
    "print(vbt.MSTD.from_params(big_ts, np.full(100, 2)).mstd.shape)"
   ]
  },
  {
   "cell_type": "code",
   "execution_count": 42,
   "metadata": {},
   "outputs": [
    {
     "name": "stdout",
     "output_type": "stream",
     "text": [
      "mstd_window         2                             3                    \n",
      "mstd_ewm        False                         True                     \n",
      "                    a         b         c         a         b         c\n",
      "2018-01-01        NaN       NaN       NaN       NaN       NaN       NaN\n",
      "2018-01-02   0.707107       NaN  0.707107       NaN       NaN       NaN\n",
      "2018-01-03   0.707107  0.707107  0.707107  0.963624       NaN  0.963624\n",
      "2018-01-04   0.707107  0.707107       NaN  1.177164  0.963624  0.963624\n",
      "2018-01-05   0.707107  0.707107       NaN  1.345243  1.177164  0.695792\n",
      "2018-01-06   0.707107  0.707107  0.707107  1.470916  1.345243  0.678643\n",
      "2018-01-07        NaN  0.707107  0.707107  1.470916  1.470916  0.960778\n"
     ]
    }
   ],
   "source": [
    "mstd = vbt.MSTD.from_params(ts, [2, 3], [False, True])\n",
    "\n",
    "print(mstd.mstd)"
   ]
  },
  {
   "cell_type": "code",
   "execution_count": 43,
   "metadata": {},
   "outputs": [
    {
     "data": {
      "image/png": "[encoded data removed]"
     },
     "metadata": {},
     "output_type": "display_data"
    }
   ],
   "source": [
    "mstd[(2, False, 'a')].plot().show_png()"
   ]
  },
  {
   "cell_type": "markdown",
   "metadata": {},
   "source": [
    "## BollingerBands"
   ]
  },
  {
   "cell_type": "code",
   "execution_count": 44,
   "metadata": {},
   "outputs": [
    {
     "name": "stdout",
     "output_type": "stream",
     "text": [
      "              a    b    c\n",
      "2018-01-01  NaN  NaN  NaN\n",
      "2018-01-02  1.5  NaN  1.5\n",
      "2018-01-03  2.5  5.5  2.5\n",
      "2018-01-04  3.5  4.5  NaN\n",
      "2018-01-05  4.5  3.5  NaN\n",
      "2018-01-06  5.5  2.5  2.5\n",
      "2018-01-07  NaN  1.5  1.5\n",
      "bb_window      2               3          \n",
      "bb_ewm     False           False          \n",
      "bb_alpha     1.5             1.5          \n",
      "               a    b    c     a    b    c\n",
      "2018-01-01   NaN  NaN  NaN   NaN  NaN  NaN\n",
      "2018-01-02   1.5  NaN  1.5   NaN  NaN  NaN\n",
      "2018-01-03   2.5  5.5  2.5   2.0  NaN  2.0\n",
      "2018-01-04   3.5  4.5  NaN   3.0  5.0  NaN\n",
      "2018-01-05   4.5  3.5  NaN   4.0  4.0  NaN\n",
      "2018-01-06   5.5  2.5  2.5   5.0  3.0  NaN\n",
      "2018-01-07   NaN  1.5  1.5   NaN  2.0  2.0\n",
      "bb_window      2                   3                    \n",
      "bb_ewm     False               True                     \n",
      "bb_alpha     1.0                 2.0                    \n",
      "               a    b    c         a         b         c\n",
      "2018-01-01   NaN  NaN  NaN       NaN       NaN       NaN\n",
      "2018-01-02   1.5  NaN  1.5       NaN       NaN       NaN\n",
      "2018-01-03   2.5  5.5  2.5  2.428571       NaN  2.428571\n",
      "2018-01-04   3.5  4.5  NaN  3.266667  4.571429  2.428571\n",
      "2018-01-05   4.5  3.5  NaN  4.161290  3.733333  2.826087\n",
      "2018-01-06   5.5  2.5  2.5  5.095238  2.838710  2.345455\n",
      "2018-01-07   NaN  1.5  1.5  5.095238  1.904762  1.621849\n",
      "bb_window      2                                                         \\\n",
      "bb_ewm     False                              True                        \n",
      "bb_alpha     1.0            2.0                 1.0                       \n",
      "               a    b    c    a    b    c         a         b         c   \n",
      "2018-01-01   NaN  NaN  NaN  NaN  NaN  NaN       NaN       NaN       NaN   \n",
      "2018-01-02   1.5  NaN  1.5  1.5  NaN  1.5  1.750000       NaN  1.750000   \n",
      "2018-01-03   2.5  5.5  2.5  2.5  5.5  2.5  2.615385  5.250000  2.615385   \n",
      "2018-01-04   3.5  4.5  NaN  3.5  4.5  NaN  3.550000  4.384615  2.615385   \n",
      "2018-01-05   4.5  3.5  NaN  4.5  3.5  NaN  4.520661  3.450000  2.946809   \n",
      "2018-01-06   5.5  2.5  2.5  5.5  2.5  2.5  5.508242  2.479339  2.264095   \n",
      "2018-01-07   NaN  1.5  1.5  NaN  1.5  1.5  5.508242  1.491758  1.399625   \n",
      "\n",
      "bb_window             ...     3                                               \\\n",
      "bb_ewm                ... False                    True                        \n",
      "bb_alpha         2.0  ...   1.0  2.0                 1.0                       \n",
      "                   a  ...     c    a    b    c         a         b         c   \n",
      "2018-01-01       NaN  ...   NaN  NaN  NaN  NaN       NaN       NaN       NaN   \n",
      "2018-01-02  1.750000  ...   NaN  NaN  NaN  NaN       NaN       NaN       NaN   \n",
      "2018-01-03  2.615385  ...   2.0  2.0  NaN  2.0  2.428571       NaN  2.428571   \n",
      "2018-01-04  3.550000  ...   NaN  3.0  5.0  NaN  3.266667  4.571429  2.428571   \n",
      "2018-01-05  4.520661  ...   NaN  4.0  4.0  NaN  4.161290  3.733333  2.826087   \n",
      "2018-01-06  5.508242  ...   NaN  5.0  3.0  NaN  5.095238  2.838710  2.345455   \n",
      "2018-01-07  5.508242  ...   2.0  NaN  2.0  2.0  5.095238  1.904762  1.621849   \n",
      "\n",
      "bb_window                                 \n",
      "bb_ewm                                    \n",
      "bb_alpha         2.0                      \n",
      "                   a         b         c  \n",
      "2018-01-01       NaN       NaN       NaN  \n",
      "2018-01-02       NaN       NaN       NaN  \n",
      "2018-01-03  2.428571       NaN  2.428571  \n",
      "2018-01-04  3.266667  4.571429  2.428571  \n",
      "2018-01-05  4.161290  3.733333  2.826087  \n",
      "2018-01-06  5.095238  2.838710  2.345455  \n",
      "2018-01-07  5.095238  1.904762  1.621849  \n",
      "\n",
      "[7 rows x 24 columns]\n"
     ]
    }
   ],
   "source": [
    "print(vbt.BollingerBands.from_params(ts, window=2, alpha=1).ma)\n",
    "print(vbt.BollingerBands.from_params(ts, window=[2, 3], ewm=False, alpha=1.5).ma)\n",
    "print(vbt.BollingerBands.from_params(ts, window=[2, 3], ewm=[False, True], alpha=[1, 2]).ma)\n",
    "print(vbt.BollingerBands.from_params(ts, window=[2, 3], ewm=[False, True], alpha=[1, 2], param_product=True).ma)"
   ]
  },
  {
   "cell_type": "code",
   "execution_count": 45,
   "metadata": {},
   "outputs": [
    {
     "name": "stdout",
     "output_type": "stream",
     "text": [
      "54.4 ms ± 3.08 ms per loop (mean ± std. dev. of 7 runs, 1 loop each)\n",
      "(1000, 1000)\n"
     ]
    }
   ],
   "source": [
    "# One window\n",
    "%timeit vbt.BollingerBands.from_params(big_ts)\n",
    "\n",
    "print(vbt.BollingerBands.from_params(big_ts).ts.shape)"
   ]
  },
  {
   "cell_type": "code",
   "execution_count": 46,
   "metadata": {},
   "outputs": [
    {
     "name": "stdout",
     "output_type": "stream",
     "text": [
      "6.4 s ± 28.4 ms per loop (mean ± std. dev. of 7 runs, 1 loop each)\n",
      "(1000, 98000)\n"
     ]
    }
   ],
   "source": [
    "# Multiple windows\n",
    "%timeit vbt.BollingerBands.from_params(big_ts, window=np.arange(2, 100))\n",
    "\n",
    "print(vbt.BollingerBands.from_params(big_ts, window=np.arange(2, 100)).ts.shape)"
   ]
  },
  {
   "cell_type": "code",
   "execution_count": 47,
   "metadata": {},
   "outputs": [
    {
     "name": "stdout",
     "output_type": "stream",
     "text": [
      "2.85 s ± 19.3 ms per loop (mean ± std. dev. of 7 runs, 1 loop each)\n",
      "(1000, 100000)\n"
     ]
    }
   ],
   "source": [
    "# One window repeated\n",
    "%timeit vbt.BollingerBands.from_params(big_ts, window=np.full(100, 2))\n",
    "\n",
    "print(vbt.BollingerBands.from_params(big_ts, window=np.full(100, 2)).ts.shape)"
   ]
  },
  {
   "cell_type": "code",
   "execution_count": 48,
   "metadata": {},
   "outputs": [
    {
     "name": "stdout",
     "output_type": "stream",
     "text": [
      "bb_window          2                                                  \n",
      "bb_ewm         False                                                  \n",
      "bb_alpha         1.0                           2.0                    \n",
      "                   a         b         c         a         b         c\n",
      "2018-01-01       NaN       NaN       NaN       NaN       NaN       NaN\n",
      "2018-01-02  2.207107       NaN  2.207107  2.914214       NaN  2.914214\n",
      "2018-01-03  3.207107  6.207107  3.207107  3.914214  6.914214  3.914214\n",
      "2018-01-04  4.207107  5.207107       NaN  4.914214  5.914214       NaN\n",
      "2018-01-05  5.207107  4.207107       NaN  5.914214  4.914214       NaN\n",
      "2018-01-06  6.207107  3.207107  3.207107  6.914214  3.914214  3.914214\n",
      "2018-01-07       NaN  2.207107  2.207107       NaN  2.914214  2.914214\n",
      "\n",
      "bb_window      2                         \n",
      "bb_ewm     False                         \n",
      "bb_alpha     1.0            2.0          \n",
      "               a    b    c    a    b    c\n",
      "2018-01-01   NaN  NaN  NaN  NaN  NaN  NaN\n",
      "2018-01-02   1.5  NaN  1.5  1.5  NaN  1.5\n",
      "2018-01-03   2.5  5.5  2.5  2.5  5.5  2.5\n",
      "2018-01-04   3.5  4.5  NaN  3.5  4.5  NaN\n",
      "2018-01-05   4.5  3.5  NaN  4.5  3.5  NaN\n",
      "2018-01-06   5.5  2.5  2.5  5.5  2.5  2.5\n",
      "2018-01-07   NaN  1.5  1.5  NaN  1.5  1.5\n",
      "\n",
      "bb_window          2                                                  \n",
      "bb_ewm         False                                                  \n",
      "bb_alpha         1.0                           2.0                    \n",
      "                   a         b         c         a         b         c\n",
      "2018-01-01       NaN       NaN       NaN       NaN       NaN       NaN\n",
      "2018-01-02  0.792893       NaN  0.792893  0.085786       NaN  0.085786\n",
      "2018-01-03  1.792893  4.792893  1.792893  1.085786  4.085786  1.085786\n",
      "2018-01-04  2.792893  3.792893       NaN  2.085786  3.085786       NaN\n",
      "2018-01-05  3.792893  2.792893       NaN  3.085786  2.085786       NaN\n",
      "2018-01-06  4.792893  1.792893  1.792893  4.085786  1.085786  1.085786\n",
      "2018-01-07       NaN  0.792893  0.792893       NaN  0.085786  0.085786\n",
      "\n",
      "bb_window          2                                                  \n",
      "bb_ewm         False                                                  \n",
      "bb_alpha         1.0                           2.0                    \n",
      "                   a         b         c         a         b         c\n",
      "2018-01-01       NaN       NaN       NaN       NaN       NaN       NaN\n",
      "2018-01-02  0.853553       NaN  0.853553  0.676777       NaN  0.676777\n",
      "2018-01-03  0.853553  0.146447  0.853553  0.676777  0.323223  0.676777\n",
      "2018-01-04  0.853553  0.146447       NaN  0.676777  0.323223       NaN\n",
      "2018-01-05  0.853553  0.146447       NaN  0.676777  0.323223       NaN\n",
      "2018-01-06  0.853553  0.146447  0.146447  0.676777  0.323223  0.323223\n",
      "2018-01-07       NaN  0.146447  0.146447       NaN  0.323223  0.323223\n",
      "\n",
      "bb_window          2                                                  \n",
      "bb_ewm         False                                                  \n",
      "bb_alpha         1.0                           2.0                    \n",
      "                   a         b         c         a         b         c\n",
      "2018-01-01       NaN       NaN       NaN       NaN       NaN       NaN\n",
      "2018-01-02  0.853553       NaN  0.853553  0.676777       NaN  0.676777\n",
      "2018-01-03  0.853553  0.146447  0.853553  0.676777  0.323223  0.676777\n",
      "2018-01-04  0.853553  0.146447       NaN  0.676777  0.323223       NaN\n",
      "2018-01-05  0.853553  0.146447       NaN  0.676777  0.323223       NaN\n",
      "2018-01-06  0.853553  0.146447  0.146447  0.676777  0.323223  0.323223\n",
      "2018-01-07       NaN  0.146447  0.146447       NaN  0.323223  0.323223\n"
     ]
    }
   ],
   "source": [
    "bb = vbt.BollingerBands.from_params(ts, window=2, alpha=[1., 2.], ewm=False)\n",
    "\n",
    "print(bb.upper_band)\n",
    "print()\n",
    "print(bb.ma)\n",
    "print()\n",
    "print(bb.lower_band)\n",
    "print()\n",
    "print(bb.percent_b)\n",
    "print()\n",
    "print(bb.bandwidth)"
   ]
  },
  {
   "cell_type": "code",
   "execution_count": 49,
   "metadata": {},
   "outputs": [
    {
     "name": "stdout",
     "output_type": "stream",
     "text": [
      "bb_window       2                                   \n",
      "bb_ewm      False                                   \n",
      "bb_alpha      1.0                  2.0              \n",
      "                a      b      c      a      b      c\n",
      "2018-01-01  False  False  False  False  False  False\n",
      "2018-01-02   True  False   True   True  False   True\n",
      "2018-01-03   True   True   True   True   True   True\n",
      "2018-01-04   True   True  False   True   True  False\n",
      "2018-01-05   True   True  False   True   True  False\n",
      "2018-01-06   True   True   True   True   True   True\n",
      "2018-01-07  False   True   True  False   True   True\n"
     ]
    },
    {
     "name": "stderr",
     "output_type": "stream",
     "text": [
      "/Users/olegpolakow/Documents/SourceTree/vectorbt/vectorbt/base/accessors.py:336: RuntimeWarning:\n",
      "\n",
      "invalid value encountered in less\n",
      "\n",
      "/Users/olegpolakow/Documents/SourceTree/vectorbt/vectorbt/base/accessors.py:336: RuntimeWarning:\n",
      "\n",
      "invalid value encountered in greater\n",
      "\n"
     ]
    }
   ],
   "source": [
    "print(bb.ts_below(bb.upper_band) & bb.ts_above(bb.lower_band)) # price between bands"
   ]
  },
  {
   "cell_type": "code",
   "execution_count": 50,
   "metadata": {},
   "outputs": [
    {
     "data": {
      "image/png": "[encoded data removed]"
     },
     "metadata": {},
     "output_type": "display_data"
    }
   ],
   "source": [
    "bb[(2, False, 1., 'a')].plot().show_png()"
   ]
  },
  {
   "cell_type": "markdown",
   "metadata": {},
   "source": [
    "## RSI"
   ]
  },
  {
   "cell_type": "code",
   "execution_count": 51,
   "metadata": {},
   "outputs": [
    {
     "name": "stdout",
     "output_type": "stream",
     "text": [
      "2018-01-01      NaN\n",
      "2018-01-02      NaN\n",
      "2018-01-03    100.0\n",
      "2018-01-04    100.0\n",
      "2018-01-05    100.0\n",
      "2018-01-06    100.0\n",
      "2018-01-07      NaN\n",
      "Name: (2, False, a), dtype: float64\n",
      "                a    b      c\n",
      "2018-01-01    NaN  NaN    NaN\n",
      "2018-01-02    NaN  NaN    NaN\n",
      "2018-01-03  100.0  NaN  100.0\n",
      "2018-01-04  100.0  0.0    NaN\n",
      "2018-01-05  100.0  0.0    NaN\n",
      "2018-01-06  100.0  0.0    NaN\n",
      "2018-01-07    NaN  0.0    0.0\n",
      "rsi_window      2                  3         \n",
      "rsi_ewm     False              False         \n",
      "                a    b      c      a    b   c\n",
      "2018-01-01    NaN  NaN    NaN    NaN  NaN NaN\n",
      "2018-01-02    NaN  NaN    NaN    NaN  NaN NaN\n",
      "2018-01-03  100.0  NaN  100.0    NaN  NaN NaN\n",
      "2018-01-04  100.0  0.0    NaN  100.0  NaN NaN\n",
      "2018-01-05  100.0  0.0    NaN  100.0  0.0 NaN\n",
      "2018-01-06  100.0  0.0    NaN  100.0  0.0 NaN\n",
      "2018-01-07    NaN  0.0    0.0    NaN  0.0 NaN\n",
      "rsi_window      2                  3                \n",
      "rsi_ewm     False              True                 \n",
      "                a    b      c      a    b          c\n",
      "2018-01-01    NaN  NaN    NaN    NaN  NaN        NaN\n",
      "2018-01-02    NaN  NaN    NaN    NaN  NaN        NaN\n",
      "2018-01-03  100.0  NaN  100.0    NaN  NaN        NaN\n",
      "2018-01-04  100.0  0.0    NaN  100.0  NaN        NaN\n",
      "2018-01-05  100.0  0.0    NaN  100.0  0.0        NaN\n",
      "2018-01-06  100.0  0.0    NaN  100.0  0.0  15.789474\n",
      "2018-01-07    NaN  0.0    0.0  100.0  0.0   5.882353\n",
      "rsi_window      2                                          3                  \\\n",
      "rsi_ewm     False              True                    False           True    \n",
      "                a    b      c      a    b           c      a    b   c      a   \n",
      "2018-01-01    NaN  NaN    NaN    NaN  NaN         NaN    NaN  NaN NaN    NaN   \n",
      "2018-01-02    NaN  NaN    NaN    NaN  NaN         NaN    NaN  NaN NaN    NaN   \n",
      "2018-01-03  100.0  NaN  100.0  100.0  NaN  100.000000    NaN  NaN NaN    NaN   \n",
      "2018-01-04  100.0  0.0    NaN  100.0  0.0  100.000000  100.0  NaN NaN  100.0   \n",
      "2018-01-05  100.0  0.0    NaN  100.0  0.0  100.000000  100.0  0.0 NaN  100.0   \n",
      "2018-01-06  100.0  0.0    NaN  100.0  0.0    4.705882  100.0  0.0 NaN  100.0   \n",
      "2018-01-07    NaN  0.0    0.0  100.0  0.0    1.219512    NaN  0.0 NaN  100.0   \n",
      "\n",
      "rsi_window                  \n",
      "rsi_ewm                     \n",
      "              b          c  \n",
      "2018-01-01  NaN        NaN  \n",
      "2018-01-02  NaN        NaN  \n",
      "2018-01-03  NaN        NaN  \n",
      "2018-01-04  NaN        NaN  \n",
      "2018-01-05  0.0        NaN  \n",
      "2018-01-06  0.0  15.789474  \n",
      "2018-01-07  0.0   5.882353  \n"
     ]
    }
   ],
   "source": [
    "print(vbt.RSI.from_params(ts['a'], window=2).rsi)\n",
    "print(vbt.RSI.from_params(ts, window=2).rsi)\n",
    "print(vbt.RSI.from_params(ts, window=[2, 3], ewm=False).rsi)\n",
    "print(vbt.RSI.from_params(ts, window=[2, 3], ewm=[False, True]).rsi)\n",
    "print(vbt.RSI.from_params(ts, window=[2, 3], ewm=[False, True], param_product=True).rsi)"
   ]
  },
  {
   "cell_type": "code",
   "execution_count": 52,
   "metadata": {},
   "outputs": [
    {
     "name": "stdout",
     "output_type": "stream",
     "text": [
      "63.3 ms ± 601 µs per loop (mean ± std. dev. of 7 runs, 10 loops each)\n",
      "(1000, 1000)\n"
     ]
    }
   ],
   "source": [
    "# One window\n",
    "%timeit vbt.RSI.from_params(big_ts, window=2)\n",
    "\n",
    "print(vbt.RSI.from_params(big_ts, window=2).rsi.shape)"
   ]
  },
  {
   "cell_type": "code",
   "execution_count": 53,
   "metadata": {},
   "outputs": [
    {
     "name": "stdout",
     "output_type": "stream",
     "text": [
      "4.89 s ± 25.7 ms per loop (mean ± std. dev. of 7 runs, 1 loop each)\n",
      "(1000, 98000)\n"
     ]
    }
   ],
   "source": [
    "# Multiple windows\n",
    "%timeit vbt.RSI.from_params(big_ts, window=np.arange(2, 100))\n",
    "\n",
    "print(vbt.RSI.from_params(big_ts, window=np.arange(2, 100)).rsi.shape)"
   ]
  },
  {
   "cell_type": "code",
   "execution_count": 54,
   "metadata": {},
   "outputs": [
    {
     "name": "stdout",
     "output_type": "stream",
     "text": [
      "1.39 s ± 14.8 ms per loop (mean ± std. dev. of 7 runs, 1 loop each)\n",
      "(1000, 100000)\n"
     ]
    }
   ],
   "source": [
    "# One window repeated\n",
    "%timeit vbt.RSI.from_params(big_ts, window=np.full(100, 2))\n",
    "\n",
    "print(vbt.RSI.from_params(big_ts, window=np.full(100, 2)).rsi.shape)"
   ]
  },
  {
   "cell_type": "code",
   "execution_count": 55,
   "metadata": {},
   "outputs": [
    {
     "name": "stdout",
     "output_type": "stream",
     "text": [
      "rsi_window      2                  3                \n",
      "rsi_ewm     False              True                 \n",
      "                a    b      c      a    b          c\n",
      "2018-01-01    NaN  NaN    NaN    NaN  NaN        NaN\n",
      "2018-01-02    NaN  NaN    NaN    NaN  NaN        NaN\n",
      "2018-01-03  100.0  NaN  100.0    NaN  NaN        NaN\n",
      "2018-01-04  100.0  0.0    NaN  100.0  NaN        NaN\n",
      "2018-01-05  100.0  0.0    NaN  100.0  0.0        NaN\n",
      "2018-01-06  100.0  0.0    NaN  100.0  0.0  15.789474\n",
      "2018-01-07    NaN  0.0    0.0  100.0  0.0   5.882353\n"
     ]
    }
   ],
   "source": [
    "rsi = vbt.RSI.from_params(ts, window=[2, 3], ewm=[False, True])\n",
    "\n",
    "print(rsi.rsi)"
   ]
  },
  {
   "cell_type": "code",
   "execution_count": 56,
   "metadata": {},
   "outputs": [
    {
     "name": "stdout",
     "output_type": "stream",
     "text": [
      "rsi_window      2                    3              \n",
      "rsi_ewm     False                True               \n",
      "                a      b      c      a      b      c\n",
      "2018-01-01  False  False  False  False  False  False\n",
      "2018-01-02  False  False  False  False  False  False\n",
      "2018-01-03   True  False   True  False  False  False\n",
      "2018-01-04   True  False  False   True  False  False\n",
      "2018-01-05   True  False  False   True  False  False\n",
      "2018-01-06   True  False  False   True  False  False\n",
      "2018-01-07  False  False  False   True  False  False\n"
     ]
    },
    {
     "name": "stderr",
     "output_type": "stream",
     "text": [
      "/Users/olegpolakow/Documents/SourceTree/vectorbt/vectorbt/base/accessors.py:336: RuntimeWarning:\n",
      "\n",
      "invalid value encountered in greater\n",
      "\n"
     ]
    }
   ],
   "source": [
    "print(rsi.rsi_above(70))"
   ]
  },
  {
   "cell_type": "code",
   "execution_count": 57,
   "metadata": {},
   "outputs": [
    {
     "data": {
      "image/png": "[encoded data removed]"
     },
     "metadata": {},
     "output_type": "display_data"
    }
   ],
   "source": [
    "rsi[(2, False, 'a')].plot().show_png()"
   ]
  },
  {
   "cell_type": "markdown",
   "metadata": {},
   "source": [
    "## Stochastic"
   ]
  },
  {
   "cell_type": "code",
   "execution_count": 58,
   "metadata": {},
   "outputs": [
    {
     "name": "stdout",
     "output_type": "stream",
     "text": [
      "2018-01-01      NaN\n",
      "2018-01-02      NaN\n",
      "2018-01-03      NaN\n",
      "2018-01-04    100.0\n",
      "2018-01-05    100.0\n",
      "2018-01-06    100.0\n",
      "2018-01-07      NaN\n",
      "Name: (2, 3, False, a), dtype: float64\n",
      "2018-01-01          NaN\n",
      "2018-01-02          NaN\n",
      "2018-01-03          NaN\n",
      "2018-01-04    80.361991\n",
      "2018-01-05    76.718266\n",
      "2018-01-06    73.861123\n",
      "2018-01-07          NaN\n",
      "Name: (2, 3, False, a), dtype: float64\n",
      "                a    b   c\n",
      "2018-01-01    NaN  NaN NaN\n",
      "2018-01-02    NaN  NaN NaN\n",
      "2018-01-03    NaN  NaN NaN\n",
      "2018-01-04  100.0  NaN NaN\n",
      "2018-01-05  100.0  0.0 NaN\n",
      "2018-01-06  100.0  0.0 NaN\n",
      "2018-01-07    NaN  0.0 NaN\n",
      "stoch_k_window      2                            \n",
      "stoch_d_window      2                  3         \n",
      "stoch_d_ewm     False              False         \n",
      "                    a    b      c      a    b   c\n",
      "2018-01-01        NaN  NaN    NaN    NaN  NaN NaN\n",
      "2018-01-02        NaN  NaN    NaN    NaN  NaN NaN\n",
      "2018-01-03      100.0  NaN  100.0    NaN  NaN NaN\n",
      "2018-01-04      100.0  0.0    NaN  100.0  NaN NaN\n",
      "2018-01-05      100.0  0.0    NaN  100.0  0.0 NaN\n",
      "2018-01-06      100.0  0.0    NaN  100.0  0.0 NaN\n",
      "2018-01-07        NaN  0.0    0.0    NaN  0.0 NaN\n",
      "stoch_k_window      2                  3         \n",
      "stoch_d_window      2                  3         \n",
      "stoch_d_ewm     False              False         \n",
      "                    a    b      c      a    b   c\n",
      "2018-01-01        NaN  NaN    NaN    NaN  NaN NaN\n",
      "2018-01-02        NaN  NaN    NaN    NaN  NaN NaN\n",
      "2018-01-03      100.0  NaN  100.0    NaN  NaN NaN\n",
      "2018-01-04      100.0  0.0    NaN    NaN  NaN NaN\n",
      "2018-01-05      100.0  0.0    NaN  100.0  NaN NaN\n",
      "2018-01-06      100.0  0.0    NaN  100.0  0.0 NaN\n",
      "2018-01-07        NaN  0.0    0.0    NaN  0.0 NaN\n",
      "stoch_k_window      2                                  3                       \\\n",
      "stoch_d_window      2                  3               2               3        \n",
      "stoch_d_ewm     False              False           False           False        \n",
      "                    a    b      c      a    b   c      a    b   c      a    b   \n",
      "2018-01-01        NaN  NaN    NaN    NaN  NaN NaN    NaN  NaN NaN    NaN  NaN   \n",
      "2018-01-02        NaN  NaN    NaN    NaN  NaN NaN    NaN  NaN NaN    NaN  NaN   \n",
      "2018-01-03      100.0  NaN  100.0    NaN  NaN NaN    NaN  NaN NaN    NaN  NaN   \n",
      "2018-01-04      100.0  0.0    NaN  100.0  NaN NaN  100.0  NaN NaN    NaN  NaN   \n",
      "2018-01-05      100.0  0.0    NaN  100.0  0.0 NaN  100.0  0.0 NaN  100.0  NaN   \n",
      "2018-01-06      100.0  0.0    NaN  100.0  0.0 NaN  100.0  0.0 NaN  100.0  0.0   \n",
      "2018-01-07        NaN  0.0    0.0    NaN  0.0 NaN    NaN  0.0 NaN    NaN  0.0   \n",
      "\n",
      "stoch_k_window      \n",
      "stoch_d_window      \n",
      "stoch_d_ewm         \n",
      "                 c  \n",
      "2018-01-01     NaN  \n",
      "2018-01-02     NaN  \n",
      "2018-01-03     NaN  \n",
      "2018-01-04     NaN  \n",
      "2018-01-05     NaN  \n",
      "2018-01-06     NaN  \n",
      "2018-01-07     NaN  \n"
     ]
    }
   ],
   "source": [
    "print(vbt.Stochastic.from_params(ts['a'], k_window=2, d_window=3, d_ewm=False).percent_d)\n",
    "print(vbt.Stochastic.from_params(ts['a'], high_ts=ts['a']*1.1, low_ts=ts['a']*0.9, k_window=2, d_window=3).percent_d)\n",
    "print(vbt.Stochastic.from_params(ts, k_window=2, d_window=3).percent_d)\n",
    "print(vbt.Stochastic.from_params(ts, k_window=2, d_window=[2, 3]).percent_d)\n",
    "print(vbt.Stochastic.from_params(ts, k_window=[2, 3], d_window=[2, 3]).percent_d)\n",
    "print(vbt.Stochastic.from_params(ts, k_window=[2, 3], d_window=[2, 3], param_product=True).percent_d)"
   ]
  },
  {
   "cell_type": "code",
   "execution_count": 59,
   "metadata": {},
   "outputs": [
    {
     "name": "stdout",
     "output_type": "stream",
     "text": [
      "57.6 ms ± 549 µs per loop (mean ± std. dev. of 7 runs, 10 loops each)\n",
      "(1000, 1000)\n"
     ]
    }
   ],
   "source": [
    "# One window\n",
    "%timeit vbt.Stochastic.from_params(big_ts, k_window=2)\n",
    "\n",
    "print(vbt.Stochastic.from_params(big_ts, k_window=2).percent_d.shape)"
   ]
  },
  {
   "cell_type": "code",
   "execution_count": 60,
   "metadata": {},
   "outputs": [
    {
     "name": "stdout",
     "output_type": "stream",
     "text": [
      "25.9 s ± 527 ms per loop (mean ± std. dev. of 7 runs, 1 loop each)\n",
      "(1000, 98000)\n"
     ]
    }
   ],
   "source": [
    "# Multiple windows\n",
    "%timeit vbt.Stochastic.from_params(big_ts, k_window=np.arange(2, 100)) # rolling min/max very expensive\n",
    "\n",
    "print(vbt.Stochastic.from_params(big_ts, k_window=np.arange(2, 100)).percent_d.shape)"
   ]
  },
  {
   "cell_type": "code",
   "execution_count": 61,
   "metadata": {},
   "outputs": [
    {
     "name": "stdout",
     "output_type": "stream",
     "text": [
      "4.27 s ± 45.5 ms per loop (mean ± std. dev. of 7 runs, 1 loop each)\n",
      "(1000, 100000)\n"
     ]
    }
   ],
   "source": [
    "# One window repeated\n",
    "%timeit vbt.Stochastic.from_params(big_ts, k_window=np.full(100, 2))\n",
    "\n",
    "print(vbt.Stochastic.from_params(big_ts, k_window=np.full(100, 2)).percent_d.shape)"
   ]
  },
  {
   "cell_type": "code",
   "execution_count": 62,
   "metadata": {},
   "outputs": [
    {
     "name": "stdout",
     "output_type": "stream",
     "text": [
      "stoch_k_window          2                                4              \n",
      "stoch_d_window          2                                2              \n",
      "stoch_d_ewm         False                            True               \n",
      "                        a          b          c          a         b   c\n",
      "2018-01-01            NaN        NaN        NaN        NaN       NaN NaN\n",
      "2018-01-02      84.615385        NaN  84.615385        NaN       NaN NaN\n",
      "2018-01-03      80.000000  23.809524  80.000000        NaN       NaN NaN\n",
      "2018-01-04      76.470588  21.052632        NaN  88.571429       NaN NaN\n",
      "2018-01-05      73.684211  17.647059        NaN  86.486486  7.692308 NaN\n",
      "2018-01-06      71.428571  13.333333  13.333333  84.615385  5.405405 NaN\n",
      "2018-01-07            NaN   7.692308   7.692308        NaN  2.857143 NaN\n",
      "stoch_k_window          2                                4              \n",
      "stoch_d_window          2                                2              \n",
      "stoch_d_ewm         False                            True               \n",
      "                        a          b          c          a         b   c\n",
      "2018-01-01            NaN        NaN        NaN        NaN       NaN NaN\n",
      "2018-01-02            NaN        NaN        NaN        NaN       NaN NaN\n",
      "2018-01-03      82.307692        NaN  82.307692        NaN       NaN NaN\n",
      "2018-01-04      78.235294  22.431078        NaN        NaN       NaN NaN\n",
      "2018-01-05      75.077399  19.349845        NaN  87.007722       NaN NaN\n",
      "2018-01-06      72.556391  15.490196        NaN  85.351488  5.977131 NaN\n",
      "2018-01-07            NaN  10.512821  10.512821  85.351488  3.817139 NaN\n"
     ]
    }
   ],
   "source": [
    "stochastic = vbt.Stochastic.from_params(\n",
    "    ts, high_ts=ts*1.1, low_ts=ts*0.9, k_window=[2, 4], d_window=2, d_ewm=[False, True])\n",
    "\n",
    "print(stochastic.percent_k)\n",
    "print(stochastic.percent_d)"
   ]
  },
  {
   "cell_type": "code",
   "execution_count": 63,
   "metadata": {},
   "outputs": [
    {
     "data": {
      "image/png": "[encoded data removed]"
     },
     "metadata": {},
     "output_type": "display_data"
    }
   ],
   "source": [
    "stochastic[(2, 2, False, 'a')].plot().show_png()"
   ]
  },
  {
   "cell_type": "markdown",
   "metadata": {},
   "source": [
    "## MACD"
   ]
  },
  {
   "cell_type": "code",
   "execution_count": 64,
   "metadata": {},
   "outputs": [
    {
     "name": "stdout",
     "output_type": "stream",
     "text": [
      "2018-01-01         NaN\n",
      "2018-01-02         NaN\n",
      "2018-01-03         NaN\n",
      "2018-01-04         NaN\n",
      "2018-01-05    0.562912\n",
      "2018-01-06    0.667931\n",
      "2018-01-07    0.699437\n",
      "Name: (2, 4, 2, True, True, a), dtype: float64\n",
      "                   a         b         c\n",
      "2018-01-01       NaN       NaN       NaN\n",
      "2018-01-02       NaN       NaN       NaN\n",
      "2018-01-03       NaN       NaN       NaN\n",
      "2018-01-04       NaN       NaN       NaN\n",
      "2018-01-05  0.562912       NaN       NaN\n",
      "2018-01-06  0.667931 -0.562912 -0.019218\n",
      "2018-01-07  0.699437 -0.667931 -0.247370\n",
      "macd_fast_window           2                             3                    \n",
      "macd_slow_window           4                             4                    \n",
      "macd_signal_window         2                             2                    \n",
      "macd_macd_ewm           True                          True                    \n",
      "macd_signal_ewm        False                         True                     \n",
      "                           a         b         c         a         b         c\n",
      "2018-01-01               NaN       NaN       NaN       NaN       NaN       NaN\n",
      "2018-01-02               NaN       NaN       NaN       NaN       NaN       NaN\n",
      "2018-01-03               NaN       NaN       NaN       NaN       NaN       NaN\n",
      "2018-01-04               NaN       NaN       NaN       NaN       NaN       NaN\n",
      "2018-01-05          0.526745       NaN       NaN  0.222551       NaN       NaN\n",
      "2018-01-06          0.656842 -0.526745  0.062328  0.277279 -0.222551  0.011622\n",
      "2018-01-07          0.714606 -0.656842 -0.224767  0.293697 -0.277279 -0.084034\n",
      "macd_fast_window           2                                          \\\n",
      "macd_slow_window           4                                           \n",
      "macd_signal_window         2                                           \n",
      "macd_macd_ewm           True                                           \n",
      "macd_signal_ewm        False                         True              \n",
      "                           a         b         c         a         b   \n",
      "2018-01-01               NaN       NaN       NaN       NaN       NaN   \n",
      "2018-01-02               NaN       NaN       NaN       NaN       NaN   \n",
      "2018-01-03               NaN       NaN       NaN       NaN       NaN   \n",
      "2018-01-04               NaN       NaN       NaN       NaN       NaN   \n",
      "2018-01-05          0.526745       NaN       NaN  0.562912       NaN   \n",
      "2018-01-06          0.656842 -0.526745  0.062328  0.667931 -0.562912   \n",
      "2018-01-07          0.714606 -0.656842 -0.224767  0.699437 -0.667931   \n",
      "\n",
      "macd_fast_window                     3                                \\\n",
      "macd_slow_window                     4                                 \n",
      "macd_signal_window                   2                                 \n",
      "macd_macd_ewm                     True                                 \n",
      "macd_signal_ewm                  False                         True    \n",
      "                           c         a         b         c         a   \n",
      "2018-01-01               NaN       NaN       NaN       NaN       NaN   \n",
      "2018-01-02               NaN       NaN       NaN       NaN       NaN   \n",
      "2018-01-03               NaN       NaN       NaN       NaN       NaN   \n",
      "2018-01-04               NaN       NaN       NaN       NaN       NaN   \n",
      "2018-01-05               NaN  0.205393       NaN       NaN  0.222551   \n",
      "2018-01-06         -0.019218  0.270655 -0.205393  0.042647  0.277279   \n",
      "2018-01-07         -0.247370  0.301602 -0.270655 -0.072975  0.293697   \n",
      "\n",
      "macd_fast_window                        \n",
      "macd_slow_window                        \n",
      "macd_signal_window                      \n",
      "macd_macd_ewm                           \n",
      "macd_signal_ewm                         \n",
      "                           b         c  \n",
      "2018-01-01               NaN       NaN  \n",
      "2018-01-02               NaN       NaN  \n",
      "2018-01-03               NaN       NaN  \n",
      "2018-01-04               NaN       NaN  \n",
      "2018-01-05               NaN       NaN  \n",
      "2018-01-06         -0.222551  0.011622  \n",
      "2018-01-07         -0.277279 -0.084034  \n"
     ]
    }
   ],
   "source": [
    "print(vbt.MACD.from_params(ts['a'], fast_window=2, slow_window=4, \n",
    "    signal_window=2, macd_ewm=True, signal_ewm=True).signal)\n",
    "print(vbt.MACD.from_params(ts, fast_window=2, slow_window=4, \n",
    "    signal_window=2, macd_ewm=True, signal_ewm=True).signal)\n",
    "print(vbt.MACD.from_params(ts, fast_window=[2, 3], slow_window=4, \n",
    "    signal_window=2, macd_ewm=True, signal_ewm=[False, True]).signal)\n",
    "print(vbt.MACD.from_params(ts, fast_window=[2, 3], slow_window=4, \n",
    "    signal_window=2, macd_ewm=True, signal_ewm=[False, True], param_product=True).signal)"
   ]
  },
  {
   "cell_type": "code",
   "execution_count": 65,
   "metadata": {},
   "outputs": [
    {
     "name": "stdout",
     "output_type": "stream",
     "text": [
      "69 ms ± 641 µs per loop (mean ± std. dev. of 7 runs, 10 loops each)\n",
      "(1000, 1000)\n"
     ]
    }
   ],
   "source": [
    "# One window\n",
    "%timeit vbt.MACD.from_params(big_ts, fast_window=2)\n",
    "\n",
    "print(vbt.MACD.from_params(big_ts, fast_window=2).macd.shape)"
   ]
  },
  {
   "cell_type": "code",
   "execution_count": 66,
   "metadata": {},
   "outputs": [
    {
     "name": "stdout",
     "output_type": "stream",
     "text": [
      "5.54 s ± 29.1 ms per loop (mean ± std. dev. of 7 runs, 1 loop each)\n",
      "(1000, 98000)\n"
     ]
    }
   ],
   "source": [
    "# Multiple windows\n",
    "%timeit vbt.MACD.from_params(big_ts, fast_window=np.arange(2, 100))\n",
    "\n",
    "print(vbt.MACD.from_params(big_ts, fast_window=np.arange(2, 100)).macd.shape)"
   ]
  },
  {
   "cell_type": "code",
   "execution_count": 67,
   "metadata": {},
   "outputs": [
    {
     "name": "stdout",
     "output_type": "stream",
     "text": [
      "4.08 s ± 34.9 ms per loop (mean ± std. dev. of 7 runs, 1 loop each)\n",
      "(1000, 100000)\n"
     ]
    }
   ],
   "source": [
    "# One window repeated\n",
    "%timeit vbt.MACD.from_params(big_ts, fast_window=np.full(100, 2))\n",
    "\n",
    "print(vbt.MACD.from_params(big_ts, fast_window=np.full(100, 2)).macd.shape)"
   ]
  },
  {
   "cell_type": "code",
   "execution_count": 68,
   "metadata": {},
   "outputs": [
    {
     "name": "stdout",
     "output_type": "stream",
     "text": [
      "macd_fast_window           2                             3                    \n",
      "macd_slow_window           4                             4                    \n",
      "macd_signal_window         2                             2                    \n",
      "macd_macd_ewm           True                          True                    \n",
      "macd_signal_ewm         True                          True                    \n",
      "                           a         b         c         a         b         c\n",
      "2018-01-01               NaN       NaN       NaN       NaN       NaN       NaN\n",
      "2018-01-02          1.750000       NaN  1.750000       NaN       NaN       NaN\n",
      "2018-01-03          2.615385  5.250000  2.615385  2.428571       NaN  2.428571\n",
      "2018-01-04          3.550000  4.384615  2.615385  3.266667  4.571429  2.428571\n",
      "2018-01-05          4.520661  3.450000  2.946809  4.161290  3.733333  2.826087\n",
      "2018-01-06          5.508242  2.479339  2.264095  5.095238  2.838710  2.345455\n",
      "2018-01-07          5.508242  1.491758  1.399625  5.095238  1.904762  1.621849\n",
      "macd_fast_window           2                             3                    \n",
      "macd_slow_window           4                             4                    \n",
      "macd_signal_window         2                             2                    \n",
      "macd_macd_ewm           True                          True                    \n",
      "macd_signal_ewm         True                          True                    \n",
      "                           a         b         c         a         b         c\n",
      "2018-01-01               NaN       NaN       NaN       NaN       NaN       NaN\n",
      "2018-01-02               NaN       NaN       NaN       NaN       NaN       NaN\n",
      "2018-01-03               NaN       NaN       NaN       NaN       NaN       NaN\n",
      "2018-01-04          3.095588       NaN       NaN  3.095588       NaN       NaN\n",
      "2018-01-05          3.921582  3.904412  2.721388  3.921582  3.904412  2.721388\n",
      "2018-01-06          4.793636  3.078418  2.364858  4.793636  3.078418  2.364858\n",
      "2018-01-07          4.793636  2.206364  1.748396  4.793636  2.206364  1.748396\n",
      "macd_fast_window           2                             3                    \n",
      "macd_slow_window           4                             4                    \n",
      "macd_signal_window         2                             2                    \n",
      "macd_macd_ewm           True                          True                    \n",
      "macd_signal_ewm         True                          True                    \n",
      "                           a         b         c         a         b         c\n",
      "2018-01-01               NaN       NaN       NaN       NaN       NaN       NaN\n",
      "2018-01-02               NaN       NaN       NaN       NaN       NaN       NaN\n",
      "2018-01-03               NaN       NaN       NaN       NaN       NaN       NaN\n",
      "2018-01-04          0.454412       NaN       NaN  0.171078       NaN       NaN\n",
      "2018-01-05          0.599079 -0.454412  0.225420  0.239708 -0.171078  0.104699\n",
      "2018-01-06          0.714606 -0.599079 -0.100763  0.301602 -0.239708 -0.019404\n",
      "2018-01-07          0.714606 -0.714606 -0.348771  0.301602 -0.301602 -0.126547\n",
      "macd_fast_window           2                             3                    \n",
      "macd_slow_window           4                             4                    \n",
      "macd_signal_window         2                             2                    \n",
      "macd_macd_ewm           True                          True                    \n",
      "macd_signal_ewm         True                          True                    \n",
      "                           a         b         c         a         b         c\n",
      "2018-01-01               NaN       NaN       NaN       NaN       NaN       NaN\n",
      "2018-01-02               NaN       NaN       NaN       NaN       NaN       NaN\n",
      "2018-01-03               NaN       NaN       NaN       NaN       NaN       NaN\n",
      "2018-01-04               NaN       NaN       NaN       NaN       NaN       NaN\n",
      "2018-01-05          0.562912       NaN       NaN  0.222551       NaN       NaN\n",
      "2018-01-06          0.667931 -0.562912 -0.019218  0.277279 -0.222551  0.011622\n",
      "2018-01-07          0.699437 -0.667931 -0.247370  0.293697 -0.277279 -0.084034\n",
      "macd_fast_window           2                             3                    \n",
      "macd_slow_window           4                             4                    \n",
      "macd_signal_window         2                             2                    \n",
      "macd_macd_ewm           True                          True                    \n",
      "macd_signal_ewm         True                          True                    \n",
      "                           a         b         c         a         b         c\n",
      "2018-01-01               NaN       NaN       NaN       NaN       NaN       NaN\n",
      "2018-01-02               NaN       NaN       NaN       NaN       NaN       NaN\n",
      "2018-01-03               NaN       NaN       NaN       NaN       NaN       NaN\n",
      "2018-01-04               NaN       NaN       NaN       NaN       NaN       NaN\n",
      "2018-01-05          0.036167       NaN       NaN  0.017157       NaN       NaN\n",
      "2018-01-06          0.046675 -0.036167 -0.081546  0.024324 -0.017157 -0.031026\n",
      "2018-01-07          0.015169 -0.046675 -0.101401  0.007905 -0.024324 -0.042513\n"
     ]
    }
   ],
   "source": [
    "macd = vbt.MACD.from_params(ts, fast_window=[2, 3], slow_window=4, signal_window=2, macd_ewm=True, signal_ewm=True)\n",
    "\n",
    "print(macd.fast_ma)\n",
    "print(macd.slow_ma)\n",
    "print(macd.macd)\n",
    "print(macd.signal)\n",
    "print(macd.histogram)"
   ]
  },
  {
   "cell_type": "code",
   "execution_count": 69,
   "metadata": {},
   "outputs": [
    {
     "name": "stderr",
     "output_type": "stream",
     "text": [
      "/Users/olegpolakow/Documents/SourceTree/vectorbt/vectorbt/indicators/basic.py:1053: RuntimeWarning:\n",
      "\n",
      "invalid value encountered in greater\n",
      "\n",
      "/Users/olegpolakow/Documents/SourceTree/vectorbt/vectorbt/indicators/basic.py:1054: RuntimeWarning:\n",
      "\n",
      "invalid value encountered in greater\n",
      "\n",
      "/Users/olegpolakow/Documents/SourceTree/vectorbt/vectorbt/indicators/basic.py:1054: RuntimeWarning:\n",
      "\n",
      "invalid value encountered in less_equal\n",
      "\n",
      "/Users/olegpolakow/Documents/SourceTree/vectorbt/vectorbt/indicators/basic.py:1056: RuntimeWarning:\n",
      "\n",
      "invalid value encountered in less\n",
      "\n",
      "/Users/olegpolakow/Documents/SourceTree/vectorbt/vectorbt/indicators/basic.py:1057: RuntimeWarning:\n",
      "\n",
      "invalid value encountered in less\n",
      "\n",
      "/Users/olegpolakow/Documents/SourceTree/vectorbt/vectorbt/indicators/basic.py:1057: RuntimeWarning:\n",
      "\n",
      "invalid value encountered in greater_equal\n",
      "\n"
     ]
    },
    {
     "data": {
      "image/png": "[encoded data removed]"
     },
     "metadata": {},
     "output_type": "display_data"
    }
   ],
   "source": [
    "macd[(2, 4, 2, True, True, 'a')].plot().show_png()"
   ]
  },
  {
   "cell_type": "markdown",
   "metadata": {},
   "source": [
    "## OBV"
   ]
  },
  {
   "cell_type": "code",
   "execution_count": 70,
   "metadata": {},
   "outputs": [
    {
     "name": "stdout",
     "output_type": "stream",
     "text": [
      "2018-01-01     NaN\n",
      "2018-01-02     6.0\n",
      "2018-01-03    11.0\n",
      "2018-01-04    15.0\n",
      "2018-01-05    18.0\n",
      "2018-01-06    20.0\n",
      "2018-01-07     NaN\n",
      "Name: (a, b), dtype: float64\n",
      "               a     b     c\n",
      "2018-01-01   NaN   NaN   NaN\n",
      "2018-01-02   2.0   6.0   2.0\n",
      "2018-01-03   5.0  11.0   5.0\n",
      "2018-01-04   9.0  15.0   NaN\n",
      "2018-01-05  14.0  18.0   8.0\n",
      "2018-01-06  20.0  20.0  10.0\n",
      "2018-01-07   NaN   NaN   NaN\n",
      "               a     b     c\n",
      "2018-01-01   NaN   NaN   NaN\n",
      "2018-01-02   6.0   NaN   6.0\n",
      "2018-01-03  11.0  -5.0  11.0\n",
      "2018-01-04  15.0  -9.0   NaN\n",
      "2018-01-05  18.0 -12.0   NaN\n",
      "2018-01-06  20.0 -14.0   9.0\n",
      "2018-01-07   NaN -15.0   8.0\n",
      "               a     b    c\n",
      "               c     b    a\n",
      "2018-01-01   NaN   NaN  NaN\n",
      "2018-01-02   2.0   NaN  2.0\n",
      "2018-01-03   5.0  -5.0  5.0\n",
      "2018-01-04   NaN  -9.0  NaN\n",
      "2018-01-05   8.0 -12.0  NaN\n",
      "2018-01-06  10.0 -14.0 -1.0\n",
      "2018-01-07   NaN -15.0  NaN\n"
     ]
    }
   ],
   "source": [
    "print(vbt.OBV.from_params(ts['a'], ts['b']).obv)\n",
    "print(vbt.OBV.from_params(ts['a'], ts).obv)\n",
    "print(vbt.OBV.from_params(ts, ts['b']).obv)\n",
    "print(vbt.OBV.from_params(ts, ts.iloc[:, ::-1]).obv)"
   ]
  },
  {
   "cell_type": "code",
   "execution_count": 71,
   "metadata": {},
   "outputs": [
    {
     "name": "stdout",
     "output_type": "stream",
     "text": [
      "19.2 ms ± 1.4 ms per loop (mean ± std. dev. of 7 runs, 1 loop each)\n",
      "(1000, 1000)\n"
     ]
    }
   ],
   "source": [
    "%timeit vbt.OBV.from_params(big_ts, big_ts.iloc[:, ::-1])\n",
    "\n",
    "print(vbt.OBV.from_params(big_ts, big_ts.iloc[:, ::-1]).obv.shape)"
   ]
  },
  {
   "cell_type": "code",
   "execution_count": 72,
   "metadata": {},
   "outputs": [
    {
     "name": "stdout",
     "output_type": "stream",
     "text": [
      "               a     b    c\n",
      "               c     b    a\n",
      "2018-01-01   NaN   NaN  NaN\n",
      "2018-01-02   2.0   NaN  2.0\n",
      "2018-01-03   5.0  -5.0  5.0\n",
      "2018-01-04   NaN  -9.0  NaN\n",
      "2018-01-05   8.0 -12.0  NaN\n",
      "2018-01-06  10.0 -14.0 -1.0\n",
      "2018-01-07   NaN -15.0  NaN\n"
     ]
    }
   ],
   "source": [
    "obv = vbt.OBV.from_params(ts, ts.iloc[:, ::-1])\n",
    "\n",
    "print(obv.obv)"
   ]
  },
  {
   "cell_type": "code",
   "execution_count": 73,
   "metadata": {},
   "outputs": [
    {
     "name": "stdout",
     "output_type": "stream",
     "text": [
      "obv_above       0                    5              \n",
      "                a      b      c      a      b      c\n",
      "                c      b      a      c      b      a\n",
      "2018-01-01  False  False  False  False  False  False\n",
      "2018-01-02   True  False   True  False  False  False\n",
      "2018-01-03   True  False   True  False  False  False\n",
      "2018-01-04  False  False  False  False  False  False\n",
      "2018-01-05   True  False  False   True  False  False\n",
      "2018-01-06   True  False  False   True  False  False\n",
      "2018-01-07  False  False  False  False  False  False\n"
     ]
    },
    {
     "name": "stderr",
     "output_type": "stream",
     "text": [
      "/Users/olegpolakow/Documents/SourceTree/vectorbt/vectorbt/base/combine_fns.py:115: RuntimeWarning:\n",
      "\n",
      "invalid value encountered in greater\n",
      "\n"
     ]
    }
   ],
   "source": [
    "print(obv.obv_above([0, 5], multiple=True))"
   ]
  },
  {
   "cell_type": "code",
   "execution_count": 74,
   "metadata": {},
   "outputs": [
    {
     "data": {
      "image/png": "[encoded data removed]"
     },
     "metadata": {},
     "output_type": "display_data"
    }
   ],
   "source": [
    "obv[('a', 'c')].plot().show_png()"
   ]
  },
  {
   "cell_type": "markdown",
   "metadata": {},
   "source": [
    "## ATR"
   ]
  },
  {
   "cell_type": "code",
   "execution_count": 75,
   "metadata": {},
   "outputs": [
    {
     "name": "stdout",
     "output_type": "stream",
     "text": [
      "2018-01-01         NaN\n",
      "2018-01-02    0.950000\n",
      "2018-01-03    1.192308\n",
      "2018-01-04    1.332500\n",
      "2018-01-05    1.444628\n",
      "2018-01-06    1.548352\n",
      "2018-01-07    1.548352\n",
      "Name: (2, True, a), dtype: float64\n",
      "                   a         b         c\n",
      "2018-01-01       NaN       NaN       NaN\n",
      "2018-01-02  0.950000  0.350000  0.950000\n",
      "2018-01-03  1.192308  2.392308  1.192308\n",
      "2018-01-04  1.332500  1.722500  1.332500\n",
      "2018-01-05  1.444628  1.573554  1.109917\n",
      "2018-01-06  1.548352  2.926374  2.772253\n",
      "2018-01-07  1.548352  2.926374  2.772253\n",
      "atr_window         2                             3                    \n",
      "atr_ewm         True                          True                    \n",
      "                   a         b         c         a         b         c\n",
      "2018-01-01       NaN       NaN       NaN       NaN       NaN       NaN\n",
      "2018-01-02  0.950000       NaN  0.950000       NaN       NaN       NaN\n",
      "2018-01-03  1.192308  1.425000  1.192308  1.114286       NaN  1.114286\n",
      "2018-01-04  1.332500  1.407692  1.192308  1.266667  1.400000  1.114286\n",
      "2018-01-05  1.444628  1.335000  0.681915  1.387097  1.346667  0.756522\n",
      "2018-01-06  1.548352  1.244628  1.055490  1.495238  1.270968  1.014545\n",
      "2018-01-07  1.548352  1.148077  1.085929  1.495238  1.184127  1.060504\n",
      "atr_window     2                                               3            \\\n",
      "atr_ewm    False                 True                      False             \n",
      "               a     b     c         a         b         c     a         b   \n",
      "2018-01-01   NaN   NaN   NaN       NaN       NaN       NaN   NaN       NaN   \n",
      "2018-01-02  0.70   NaN  0.70  0.950000       NaN  0.950000   NaN       NaN   \n",
      "2018-01-03  1.25  1.35  1.25  1.192308  1.425000  1.192308   0.9       NaN   \n",
      "2018-01-04  1.35  1.45   NaN  1.332500  1.407692  1.192308   1.3  1.366667   \n",
      "2018-01-05  1.45  1.35   NaN  1.444628  1.335000  0.681915   1.4  1.400000   \n",
      "2018-01-06  1.55  1.25  0.90  1.548352  1.244628  1.055490   1.5  1.300000   \n",
      "2018-01-07   NaN  1.15  1.15  1.548352  1.148077  1.085929   NaN  1.200000   \n",
      "\n",
      "atr_window                                          \n",
      "atr_ewm                  True                       \n",
      "                   c         a         b         c  \n",
      "2018-01-01       NaN       NaN       NaN       NaN  \n",
      "2018-01-02       NaN       NaN       NaN       NaN  \n",
      "2018-01-03  0.900000  1.114286       NaN  1.114286  \n",
      "2018-01-04       NaN  1.266667  1.400000  1.114286  \n",
      "2018-01-05       NaN  1.387097  1.346667  0.756522  \n",
      "2018-01-06       NaN  1.495238  1.270968  1.014545  \n",
      "2018-01-07  0.966667  1.495238  1.184127  1.060504  \n"
     ]
    }
   ],
   "source": [
    "print(vbt.ATR.from_params(ts['a'], ts['a']*1.1, ts['a']*0.9, window=2).atr)\n",
    "print(vbt.ATR.from_params(ts, ts['a']*1.1, ts['a']*0.9, window=2).atr)\n",
    "print(vbt.ATR.from_params(ts, ts*1.1, ts*0.9, window=[2, 3]).atr)\n",
    "print(vbt.ATR.from_params(ts, ts*1.1, ts*0.9, window=[2, 3], ewm=[False, True], param_product=True).atr)"
   ]
  },
  {
   "cell_type": "code",
   "execution_count": 76,
   "metadata": {},
   "outputs": [
    {
     "name": "stdout",
     "output_type": "stream",
     "text": [
      "643 ms ± 49.7 ms per loop (mean ± std. dev. of 7 runs, 1 loop each)\n",
      "(1000, 1000)\n"
     ]
    }
   ],
   "source": [
    "# One window\n",
    "%timeit vbt.ATR.from_params(big_ts, big_ts*1.1, big_ts*0.9, window=2)\n",
    "\n",
    "print(vbt.ATR.from_params(big_ts, big_ts*1.1, big_ts*0.9, window=2).atr.shape)"
   ]
  },
  {
   "cell_type": "code",
   "execution_count": 77,
   "metadata": {},
   "outputs": [
    {
     "name": "stdout",
     "output_type": "stream",
     "text": [
      "4.22 s ± 18 ms per loop (mean ± std. dev. of 7 runs, 1 loop each)\n",
      "(1000, 98000)\n"
     ]
    }
   ],
   "source": [
    "# Multiple windows\n",
    "%timeit vbt.ATR.from_params(big_ts, big_ts*1.1, big_ts*0.9, window=np.arange(2, 100)) # rolling min/max very expensive\n",
    "\n",
    "print(vbt.ATR.from_params(big_ts, big_ts*1.1, big_ts*0.9, window=np.arange(2, 100)).atr.shape)"
   ]
  },
  {
   "cell_type": "code",
   "execution_count": 78,
   "metadata": {},
   "outputs": [
    {
     "name": "stdout",
     "output_type": "stream",
     "text": [
      "2.74 s ± 39.2 ms per loop (mean ± std. dev. of 7 runs, 1 loop each)\n",
      "(1000, 100000)\n"
     ]
    }
   ],
   "source": [
    "# One window repeated\n",
    "%timeit vbt.ATR.from_params(big_ts, big_ts*1.1, big_ts*0.9, window=np.full(100, 2))\n",
    "\n",
    "print(vbt.ATR.from_params(big_ts, big_ts*1.1, big_ts*0.9, window=np.full(100, 2)).atr.shape)"
   ]
  },
  {
   "cell_type": "code",
   "execution_count": 79,
   "metadata": {},
   "outputs": [
    {
     "name": "stdout",
     "output_type": "stream",
     "text": [
      "atr_window     2               3          \n",
      "atr_ewm    False           True           \n",
      "               a    b    c     a    b    c\n",
      "2018-01-01   0.2  NaN  0.2   0.2  NaN  0.2\n",
      "2018-01-02   1.2  1.2  1.2   1.2  1.2  1.2\n",
      "2018-01-03   1.3  1.5  1.3   1.3  1.5  1.3\n",
      "2018-01-04   1.4  1.4  NaN   1.4  1.4  NaN\n",
      "2018-01-05   1.5  1.3  0.6   1.5  1.3  0.6\n",
      "2018-01-06   1.6  1.2  1.2   1.6  1.2  1.2\n",
      "2018-01-07   NaN  1.1  1.1   NaN  1.1  1.1\n",
      "atr_window     2                     3                    \n",
      "atr_ewm    False                 True                     \n",
      "               a     b     c         a         b         c\n",
      "2018-01-01   NaN   NaN   NaN       NaN       NaN       NaN\n",
      "2018-01-02  0.70   NaN  0.70       NaN       NaN       NaN\n",
      "2018-01-03  1.25  1.35  1.25  1.114286       NaN  1.114286\n",
      "2018-01-04  1.35  1.45   NaN  1.266667  1.400000  1.114286\n",
      "2018-01-05  1.45  1.35   NaN  1.387097  1.346667  0.756522\n",
      "2018-01-06  1.55  1.25  0.90  1.495238  1.270968  1.014545\n",
      "2018-01-07   NaN  1.15  1.15  1.495238  1.184127  1.060504\n"
     ]
    }
   ],
   "source": [
    "atr = vbt.ATR.from_params(ts, ts*1.1, ts*0.9, window=[2, 3], ewm=[False, True])\n",
    "\n",
    "print(atr.tr)\n",
    "print(atr.atr)"
   ]
  },
  {
   "cell_type": "code",
   "execution_count": 80,
   "metadata": {},
   "outputs": [
    {
     "data": {
      "image/png": "[encoded data removed]"
     },
     "metadata": {},
     "output_type": "display_data"
    }
   ],
   "source": [
    "atr[(2, False, 'a')].plot().show_png()"
   ]
  },
  {
   "cell_type": "code",
   "execution_count": null,
   "metadata": {},
   "outputs": [],
   "source": []
  }
 ],
 "metadata": {
  "kernelspec": {
   "display_name": "Python 3",
   "language": "python",
   "name": "python3"
  },
  "language_info": {
   "codemirror_mode": {
    "name": "ipython",
    "version": 3
   },
   "file_extension": ".py",
   "mimetype": "text/x-python",
   "name": "python",
   "nbconvert_exporter": "python",
   "pygments_lexer": "ipython3",
   "version": "3.7.3"
  },
  "widgets": {
   "application/vnd.jupyter.widget-state+json": {
    "state": {
     "1bb786a7edf04e72bdf7ef240714ec8d": {
      "buffers": [
       {
        "data": "AAAAAAAA+H8AAAAAAAAAQAAAAAAAABRAAAAAAAAA+H8AAAAAAAAgQAAAAAAAACRAAAAAAAAA+H8=",
        "encoding": "base64",
        "path": [
         "_data",
         0,
         "y",
         "value"
        ]
       }
      ],
      "model_module": "plotlywidget",
      "model_module_version": "^4.8.0",
      "model_name": "FigureModel",
      "state": {
       "_config": {
        "plotlyServerURL": "https://plot.ly"
       },
       "_data": [
        {
         "mode": "lines",
         "name": "OBV (obv)",
         "showlegend": true,
         "type": "scatter",
         "uid": "a0991a01-289a-4cc8-acfd-1402a3a48bfe",
         "x": [
          "2018-01-01T00:00:00.000000",
          "2018-01-02T00:00:00.000000",
          "2018-01-03T00:00:00.000000",
          "2018-01-04T00:00:00.000000",
          "2018-01-05T00:00:00.000000",
          "2018-01-06T00:00:00.000000",
          "2018-01-07T00:00:00.000000"
         ],
         "y": {
          "dtype": "float64",
          "shape": [
           7
          ]
         }
        }
       ],
       "_js2py_layoutDelta": {},
       "_js2py_pointsCallback": {},
       "_js2py_relayout": {},
       "_js2py_restyle": {},
       "_js2py_traceDeltas": {},
       "_js2py_update": {},
       "_last_layout_edit_id": 2,
       "_last_trace_edit_id": 2,
       "_layout": {
        "autosize": false,
        "colorway": [
         "#1f77b4",
         "#ff7f0e",
         "#2ca02c",
         "#dc3912",
         "#9467bd",
         "#8c564b",
         "#e377c2",
         "#7f7f7f",
         "#bcbd22",
         "#17becf"
        ],
        "height": 300,
        "hovermode": "closest",
        "margin": {
         "b": 30,
         "t": 30
        },
        "template": {
         "data": {
          "bar": [
           {
            "error_x": {
             "color": "#2a3f5f"
            },
            "error_y": {
             "color": "#2a3f5f"
            },
            "marker": {
             "line": {
              "color": "#E5ECF6",
              "width": 0.5
             }
            },
            "type": "bar"
           }
          ],
          "barpolar": [
           {
            "marker": {
             "line": {
              "color": "#E5ECF6",
              "width": 0.5
             }
            },
            "type": "barpolar"
           }
          ],
          "carpet": [
           {
            "aaxis": {
             "endlinecolor": "#2a3f5f",
             "gridcolor": "white",
             "linecolor": "white",
             "minorgridcolor": "white",
             "startlinecolor": "#2a3f5f"
            },
            "baxis": {
             "endlinecolor": "#2a3f5f",
             "gridcolor": "white",
             "linecolor": "white",
             "minorgridcolor": "white",
             "startlinecolor": "#2a3f5f"
            },
            "type": "carpet"
           }
          ],
          "choropleth": [
           {
            "colorbar": {
             "outlinewidth": 0,
             "ticks": ""
            },
            "type": "choropleth"
           }
          ],
          "contour": [
           {
            "colorbar": {
             "outlinewidth": 0,
             "ticks": ""
            },
            "colorscale": [
             [
              0,
              "#0d0887"
             ],
             [
              0.1111111111111111,
              "#46039f"
             ],
             [
              0.2222222222222222,
              "#7201a8"
             ],
             [
              0.3333333333333333,
              "#9c179e"
             ],
             [
              0.4444444444444444,
              "#bd3786"
             ],
             [
              0.5555555555555556,
              "#d8576b"
             ],
             [
              0.6666666666666666,
              "#ed7953"
             ],
             [
              0.7777777777777778,
              "#fb9f3a"
             ],
             [
              0.8888888888888888,
              "#fdca26"
             ],
             [
              1,
              "#f0f921"
             ]
            ],
            "type": "contour"
           }
          ],
          "contourcarpet": [
           {
            "colorbar": {
             "outlinewidth": 0,
             "ticks": ""
            },
            "type": "contourcarpet"
           }
          ],
          "heatmap": [
           {
            "colorbar": {
             "outlinewidth": 0,
             "ticks": ""
            },
            "colorscale": [
             [
              0,
              "#0d0887"
             ],
             [
              0.1111111111111111,
              "#46039f"
             ],
             [
              0.2222222222222222,
              "#7201a8"
             ],
             [
              0.3333333333333333,
              "#9c179e"
             ],
             [
              0.4444444444444444,
              "#bd3786"
             ],
             [
              0.5555555555555556,
              "#d8576b"
             ],
             [
              0.6666666666666666,
              "#ed7953"
             ],
             [
              0.7777777777777778,
              "#fb9f3a"
             ],
             [
              0.8888888888888888,
              "#fdca26"
             ],
             [
              1,
              "#f0f921"
             ]
            ],
            "type": "heatmap"
           }
          ],
          "heatmapgl": [
           {
            "colorbar": {
             "outlinewidth": 0,
             "ticks": ""
            },
            "colorscale": [
             [
              0,
              "#0d0887"
             ],
             [
              0.1111111111111111,
              "#46039f"
             ],
             [
              0.2222222222222222,
              "#7201a8"
             ],
             [
              0.3333333333333333,
              "#9c179e"
             ],
             [
              0.4444444444444444,
              "#bd3786"
             ],
             [
              0.5555555555555556,
              "#d8576b"
             ],
             [
              0.6666666666666666,
              "#ed7953"
             ],
             [
              0.7777777777777778,
              "#fb9f3a"
             ],
             [
              0.8888888888888888,
              "#fdca26"
             ],
             [
              1,
              "#f0f921"
             ]
            ],
            "type": "heatmapgl"
           }
          ],
          "histogram": [
           {
            "marker": {
             "colorbar": {
              "outlinewidth": 0,
              "ticks": ""
             }
            },
            "type": "histogram"
           }
          ],
          "histogram2d": [
           {
            "colorbar": {
             "outlinewidth": 0,
             "ticks": ""
            },
            "colorscale": [
             [
              0,
              "#0d0887"
             ],
             [
              0.1111111111111111,
              "#46039f"
             ],
             [
              0.2222222222222222,
              "#7201a8"
             ],
             [
              0.3333333333333333,
              "#9c179e"
             ],
             [
              0.4444444444444444,
              "#bd3786"
             ],
             [
              0.5555555555555556,
              "#d8576b"
             ],
             [
              0.6666666666666666,
              "#ed7953"
             ],
             [
              0.7777777777777778,
              "#fb9f3a"
             ],
             [
              0.8888888888888888,
              "#fdca26"
             ],
             [
              1,
              "#f0f921"
             ]
            ],
            "type": "histogram2d"
           }
          ],
          "histogram2dcontour": [
           {
            "colorbar": {
             "outlinewidth": 0,
             "ticks": ""
            },
            "colorscale": [
             [
              0,
              "#0d0887"
             ],
             [
              0.1111111111111111,
              "#46039f"
             ],
             [
              0.2222222222222222,
              "#7201a8"
             ],
             [
              0.3333333333333333,
              "#9c179e"
             ],
             [
              0.4444444444444444,
              "#bd3786"
             ],
             [
              0.5555555555555556,
              "#d8576b"
             ],
             [
              0.6666666666666666,
              "#ed7953"
             ],
             [
              0.7777777777777778,
              "#fb9f3a"
             ],
             [
              0.8888888888888888,
              "#fdca26"
             ],
             [
              1,
              "#f0f921"
             ]
            ],
            "type": "histogram2dcontour"
           }
          ],
          "mesh3d": [
           {
            "colorbar": {
             "outlinewidth": 0,
             "ticks": ""
            },
            "type": "mesh3d"
           }
          ],
          "parcoords": [
           {
            "line": {
             "colorbar": {
              "outlinewidth": 0,
              "ticks": ""
             }
            },
            "type": "parcoords"
           }
          ],
          "pie": [
           {
            "automargin": true,
            "type": "pie"
           }
          ],
          "scatter": [
           {
            "marker": {
             "colorbar": {
              "outlinewidth": 0,
              "ticks": ""
             }
            },
            "type": "scatter"
           }
          ],
          "scatter3d": [
           {
            "line": {
             "colorbar": {
              "outlinewidth": 0,
              "ticks": ""
             }
            },
            "marker": {
             "colorbar": {
              "outlinewidth": 0,
              "ticks": ""
             }
            },
            "type": "scatter3d"
           }
          ],
          "scattercarpet": [
           {
            "marker": {
             "colorbar": {
              "outlinewidth": 0,
              "ticks": ""
             }
            },
            "type": "scattercarpet"
           }
          ],
          "scattergeo": [
           {
            "marker": {
             "colorbar": {
              "outlinewidth": 0,
              "ticks": ""
             }
            },
            "type": "scattergeo"
           }
          ],
          "scattergl": [
           {
            "marker": {
             "colorbar": {
              "outlinewidth": 0,
              "ticks": ""
             }
            },
            "type": "scattergl"
           }
          ],
          "scattermapbox": [
           {
            "marker": {
             "colorbar": {
              "outlinewidth": 0,
              "ticks": ""
             }
            },
            "type": "scattermapbox"
           }
          ],
          "scatterpolar": [
           {
            "marker": {
             "colorbar": {
              "outlinewidth": 0,
              "ticks": ""
             }
            },
            "type": "scatterpolar"
           }
          ],
          "scatterpolargl": [
           {
            "marker": {
             "colorbar": {
              "outlinewidth": 0,
              "ticks": ""
             }
            },
            "type": "scatterpolargl"
           }
          ],
          "scatterternary": [
           {
            "marker": {
             "colorbar": {
              "outlinewidth": 0,
              "ticks": ""
             }
            },
            "type": "scatterternary"
           }
          ],
          "surface": [
           {
            "colorbar": {
             "outlinewidth": 0,
             "ticks": ""
            },
            "colorscale": [
             [
              0,
              "#0d0887"
             ],
             [
              0.1111111111111111,
              "#46039f"
             ],
             [
              0.2222222222222222,
              "#7201a8"
             ],
             [
              0.3333333333333333,
              "#9c179e"
             ],
             [
              0.4444444444444444,
              "#bd3786"
             ],
             [
              0.5555555555555556,
              "#d8576b"
             ],
             [
              0.6666666666666666,
              "#ed7953"
             ],
             [
              0.7777777777777778,
              "#fb9f3a"
             ],
             [
              0.8888888888888888,
              "#fdca26"
             ],
             [
              1,
              "#f0f921"
             ]
            ],
            "type": "surface"
           }
          ],
          "table": [
           {
            "cells": {
             "fill": {
              "color": "#EBF0F8"
             },
             "line": {
              "color": "white"
             }
            },
            "header": {
             "fill": {
              "color": "#C8D4E3"
             },
             "line": {
              "color": "white"
             }
            },
            "type": "table"
           }
          ]
         },
         "layout": {
          "annotationdefaults": {
           "arrowcolor": "#2a3f5f",
           "arrowhead": 0,
           "arrowwidth": 1
          },
          "coloraxis": {
           "colorbar": {
            "outlinewidth": 0,
            "ticks": ""
           }
          },
          "colorscale": {
           "diverging": [
            [
             0,
             "#8e0152"
            ],
            [
             0.1,
             "#c51b7d"
            ],
            [
             0.2,
             "#de77ae"
            ],
            [
             0.3,
             "#f1b6da"
            ],
            [
             0.4,
             "#fde0ef"
            ],
            [
             0.5,
             "#f7f7f7"
            ],
            [
             0.6,
             "#e6f5d0"
            ],
            [
             0.7,
             "#b8e186"
            ],
            [
             0.8,
             "#7fbc41"
            ],
            [
             0.9,
             "#4d9221"
            ],
            [
             1,
             "#276419"
            ]
           ],
           "sequential": [
            [
             0,
             "#0d0887"
            ],
            [
             0.1111111111111111,
             "#46039f"
            ],
            [
             0.2222222222222222,
             "#7201a8"
            ],
            [
             0.3333333333333333,
             "#9c179e"
            ],
            [
             0.4444444444444444,
             "#bd3786"
            ],
            [
             0.5555555555555556,
             "#d8576b"
            ],
            [
             0.6666666666666666,
             "#ed7953"
            ],
            [
             0.7777777777777778,
             "#fb9f3a"
            ],
            [
             0.8888888888888888,
             "#fdca26"
            ],
            [
             1,
             "#f0f921"
            ]
           ],
           "sequentialminus": [
            [
             0,
             "#0d0887"
            ],
            [
             0.1111111111111111,
             "#46039f"
            ],
            [
             0.2222222222222222,
             "#7201a8"
            ],
            [
             0.3333333333333333,
             "#9c179e"
            ],
            [
             0.4444444444444444,
             "#bd3786"
            ],
            [
             0.5555555555555556,
             "#d8576b"
            ],
            [
             0.6666666666666666,
             "#ed7953"
            ],
            [
             0.7777777777777778,
             "#fb9f3a"
            ],
            [
             0.8888888888888888,
             "#fdca26"
            ],
            [
             1,
             "#f0f921"
            ]
           ]
          },
          "colorway": [
           "#636efa",
           "#EF553B",
           "#00cc96",
           "#ab63fa",
           "#FFA15A",
           "#19d3f3",
           "#FF6692",
           "#B6E880",
           "#FF97FF",
           "#FECB52"
          ],
          "font": {
           "color": "#2a3f5f"
          },
          "geo": {
           "bgcolor": "white",
           "lakecolor": "white",
           "landcolor": "#E5ECF6",
           "showlakes": true,
           "showland": true,
           "subunitcolor": "white"
          },
          "hoverlabel": {
           "align": "left"
          },
          "hovermode": "closest",
          "mapbox": {
           "style": "light"
          },
          "paper_bgcolor": "white",
          "plot_bgcolor": "#E5ECF6",
          "polar": {
           "angularaxis": {
            "gridcolor": "white",
            "linecolor": "white",
            "ticks": ""
           },
           "bgcolor": "#E5ECF6",
           "radialaxis": {
            "gridcolor": "white",
            "linecolor": "white",
            "ticks": ""
           }
          },
          "scene": {
           "xaxis": {
            "backgroundcolor": "#E5ECF6",
            "gridcolor": "white",
            "gridwidth": 2,
            "linecolor": "white",
            "showbackground": true,
            "ticks": "",
            "zerolinecolor": "white"
           },
           "yaxis": {
            "backgroundcolor": "#E5ECF6",
            "gridcolor": "white",
            "gridwidth": 2,
            "linecolor": "white",
            "showbackground": true,
            "ticks": "",
            "zerolinecolor": "white"
           },
           "zaxis": {
            "backgroundcolor": "#E5ECF6",
            "gridcolor": "white",
            "gridwidth": 2,
            "linecolor": "white",
            "showbackground": true,
            "ticks": "",
            "zerolinecolor": "white"
           }
          },
          "shapedefaults": {
           "line": {
            "color": "#2a3f5f"
           }
          },
          "ternary": {
           "aaxis": {
            "gridcolor": "white",
            "linecolor": "white",
            "ticks": ""
           },
           "baxis": {
            "gridcolor": "white",
            "linecolor": "white",
            "ticks": ""
           },
           "bgcolor": "#E5ECF6",
           "caxis": {
            "gridcolor": "white",
            "linecolor": "white",
            "ticks": ""
           }
          },
          "title": {
           "x": 0.05
          },
          "xaxis": {
           "automargin": true,
           "gridcolor": "white",
           "linecolor": "white",
           "ticks": "",
           "title": {
            "standoff": 15
           },
           "zerolinecolor": "white",
           "zerolinewidth": 2
          },
          "yaxis": {
           "automargin": true,
           "gridcolor": "white",
           "linecolor": "white",
           "ticks": "",
           "title": {
            "standoff": 15
           },
           "zerolinecolor": "white",
           "zerolinewidth": 2
          }
         }
        },
        "width": 700
       },
       "_model_module_version": "^4.8.0",
       "_py2js_animate": {},
       "_py2js_deleteTraces": {},
       "_py2js_moveTraces": {},
       "_py2js_removeLayoutProps": {},
       "_py2js_removeTraceProps": {},
       "_py2js_restyle": {},
       "_view_count": 0,
       "_view_module_version": "^4.8.0"
      }
     },
     "30b07b5e799245f6b2be2c99e0fccdb6": {
      "buffers": [
       {
        "data": "AAAAAAAA8D8AAAAAAAAAQAAAAAAAAAhAAAAAAAAAEEAAAAAAAAAUQAAAAAAAABhAAAAAAAAA+H8=",
        "encoding": "base64",
        "path": [
         "_data",
         0,
         "y",
         "value"
        ]
       },
       {
        "data": "AAAAAAAA+H8AAAAAAAD4PwAAAAAAAARAAAAAAAAADEAAAAAAAAASQAAAAAAAABZAAAAAAAAA+H8=",
        "encoding": "base64",
        "path": [
         "_data",
         1,
         "y",
         "value"
        ]
       }
      ],
      "model_module": "plotlywidget",
      "model_module_version": "^4.8.0",
      "model_name": "FigureModel",
      "state": {
       "_config": {
        "plotlyServerURL": "https://plot.ly"
       },
       "_data": [
        {
         "mode": "lines",
         "name": "Price (ma)",
         "showlegend": true,
         "type": "scatter",
         "uid": "efc33f89-7c5c-4f01-b91c-220b8b41d9e1",
         "x": [
          "2018-01-01T00:00:00.000000",
          "2018-01-02T00:00:00.000000",
          "2018-01-03T00:00:00.000000",
          "2018-01-04T00:00:00.000000",
          "2018-01-05T00:00:00.000000",
          "2018-01-06T00:00:00.000000",
          "2018-01-07T00:00:00.000000"
         ],
         "y": {
          "dtype": "float64",
          "shape": [
           7
          ]
         }
        },
        {
         "mode": "lines",
         "name": "MA (ma)",
         "showlegend": true,
         "type": "scatter",
         "uid": "f3f41957-8ed5-4af0-ab46-a15d46ed6dfb",
         "x": [
          "2018-01-01T00:00:00.000000",
          "2018-01-02T00:00:00.000000",
          "2018-01-03T00:00:00.000000",
          "2018-01-04T00:00:00.000000",
          "2018-01-05T00:00:00.000000",
          "2018-01-06T00:00:00.000000",
          "2018-01-07T00:00:00.000000"
         ],
         "y": {
          "dtype": "float64",
          "shape": [
           7
          ]
         }
        }
       ],
       "_js2py_layoutDelta": {},
       "_js2py_pointsCallback": {},
       "_js2py_relayout": {},
       "_js2py_restyle": {},
       "_js2py_traceDeltas": {},
       "_js2py_update": {},
       "_last_layout_edit_id": 3,
       "_last_trace_edit_id": 3,
       "_layout": {
        "autosize": false,
        "colorway": [
         "#1f77b4",
         "#ff7f0e",
         "#2ca02c",
         "#dc3912",
         "#9467bd",
         "#8c564b",
         "#e377c2",
         "#7f7f7f",
         "#bcbd22",
         "#17becf"
        ],
        "height": 300,
        "hovermode": "closest",
        "margin": {
         "b": 30,
         "t": 30
        },
        "template": {
         "data": {
          "bar": [
           {
            "error_x": {
             "color": "#2a3f5f"
            },
            "error_y": {
             "color": "#2a3f5f"
            },
            "marker": {
             "line": {
              "color": "#E5ECF6",
              "width": 0.5
             }
            },
            "type": "bar"
           }
          ],
          "barpolar": [
           {
            "marker": {
             "line": {
              "color": "#E5ECF6",
              "width": 0.5
             }
            },
            "type": "barpolar"
           }
          ],
          "carpet": [
           {
            "aaxis": {
             "endlinecolor": "#2a3f5f",
             "gridcolor": "white",
             "linecolor": "white",
             "minorgridcolor": "white",
             "startlinecolor": "#2a3f5f"
            },
            "baxis": {
             "endlinecolor": "#2a3f5f",
             "gridcolor": "white",
             "linecolor": "white",
             "minorgridcolor": "white",
             "startlinecolor": "#2a3f5f"
            },
            "type": "carpet"
           }
          ],
          "choropleth": [
           {
            "colorbar": {
             "outlinewidth": 0,
             "ticks": ""
            },
            "type": "choropleth"
           }
          ],
          "contour": [
           {
            "colorbar": {
             "outlinewidth": 0,
             "ticks": ""
            },
            "colorscale": [
             [
              0,
              "#0d0887"
             ],
             [
              0.1111111111111111,
              "#46039f"
             ],
             [
              0.2222222222222222,
              "#7201a8"
             ],
             [
              0.3333333333333333,
              "#9c179e"
             ],
             [
              0.4444444444444444,
              "#bd3786"
             ],
             [
              0.5555555555555556,
              "#d8576b"
             ],
             [
              0.6666666666666666,
              "#ed7953"
             ],
             [
              0.7777777777777778,
              "#fb9f3a"
             ],
             [
              0.8888888888888888,
              "#fdca26"
             ],
             [
              1,
              "#f0f921"
             ]
            ],
            "type": "contour"
           }
          ],
          "contourcarpet": [
           {
            "colorbar": {
             "outlinewidth": 0,
             "ticks": ""
            },
            "type": "contourcarpet"
           }
          ],
          "heatmap": [
           {
            "colorbar": {
             "outlinewidth": 0,
             "ticks": ""
            },
            "colorscale": [
             [
              0,
              "#0d0887"
             ],
             [
              0.1111111111111111,
              "#46039f"
             ],
             [
              0.2222222222222222,
              "#7201a8"
             ],
             [
              0.3333333333333333,
              "#9c179e"
             ],
             [
              0.4444444444444444,
              "#bd3786"
             ],
             [
              0.5555555555555556,
              "#d8576b"
             ],
             [
              0.6666666666666666,
              "#ed7953"
             ],
             [
              0.7777777777777778,
              "#fb9f3a"
             ],
             [
              0.8888888888888888,
              "#fdca26"
             ],
             [
              1,
              "#f0f921"
             ]
            ],
            "type": "heatmap"
           }
          ],
          "heatmapgl": [
           {
            "colorbar": {
             "outlinewidth": 0,
             "ticks": ""
            },
            "colorscale": [
             [
              0,
              "#0d0887"
             ],
             [
              0.1111111111111111,
              "#46039f"
             ],
             [
              0.2222222222222222,
              "#7201a8"
             ],
             [
              0.3333333333333333,
              "#9c179e"
             ],
             [
              0.4444444444444444,
              "#bd3786"
             ],
             [
              0.5555555555555556,
              "#d8576b"
             ],
             [
              0.6666666666666666,
              "#ed7953"
             ],
             [
              0.7777777777777778,
              "#fb9f3a"
             ],
             [
              0.8888888888888888,
              "#fdca26"
             ],
             [
              1,
              "#f0f921"
             ]
            ],
            "type": "heatmapgl"
           }
          ],
          "histogram": [
           {
            "marker": {
             "colorbar": {
              "outlinewidth": 0,
              "ticks": ""
             }
            },
            "type": "histogram"
           }
          ],
          "histogram2d": [
           {
            "colorbar": {
             "outlinewidth": 0,
             "ticks": ""
            },
            "colorscale": [
             [
              0,
              "#0d0887"
             ],
             [
              0.1111111111111111,
              "#46039f"
             ],
             [
              0.2222222222222222,
              "#7201a8"
             ],
             [
              0.3333333333333333,
              "#9c179e"
             ],
             [
              0.4444444444444444,
              "#bd3786"
             ],
             [
              0.5555555555555556,
              "#d8576b"
             ],
             [
              0.6666666666666666,
              "#ed7953"
             ],
             [
              0.7777777777777778,
              "#fb9f3a"
             ],
             [
              0.8888888888888888,
              "#fdca26"
             ],
             [
              1,
              "#f0f921"
             ]
            ],
            "type": "histogram2d"
           }
          ],
          "histogram2dcontour": [
           {
            "colorbar": {
             "outlinewidth": 0,
             "ticks": ""
            },
            "colorscale": [
             [
              0,
              "#0d0887"
             ],
             [
              0.1111111111111111,
              "#46039f"
             ],
             [
              0.2222222222222222,
              "#7201a8"
             ],
             [
              0.3333333333333333,
              "#9c179e"
             ],
             [
              0.4444444444444444,
              "#bd3786"
             ],
             [
              0.5555555555555556,
              "#d8576b"
             ],
             [
              0.6666666666666666,
              "#ed7953"
             ],
             [
              0.7777777777777778,
              "#fb9f3a"
             ],
             [
              0.8888888888888888,
              "#fdca26"
             ],
             [
              1,
              "#f0f921"
             ]
            ],
            "type": "histogram2dcontour"
           }
          ],
          "mesh3d": [
           {
            "colorbar": {
             "outlinewidth": 0,
             "ticks": ""
            },
            "type": "mesh3d"
           }
          ],
          "parcoords": [
           {
            "line": {
             "colorbar": {
              "outlinewidth": 0,
              "ticks": ""
             }
            },
            "type": "parcoords"
           }
          ],
          "pie": [
           {
            "automargin": true,
            "type": "pie"
           }
          ],
          "scatter": [
           {
            "marker": {
             "colorbar": {
              "outlinewidth": 0,
              "ticks": ""
             }
            },
            "type": "scatter"
           }
          ],
          "scatter3d": [
           {
            "line": {
             "colorbar": {
              "outlinewidth": 0,
              "ticks": ""
             }
            },
            "marker": {
             "colorbar": {
              "outlinewidth": 0,
              "ticks": ""
             }
            },
            "type": "scatter3d"
           }
          ],
          "scattercarpet": [
           {
            "marker": {
             "colorbar": {
              "outlinewidth": 0,
              "ticks": ""
             }
            },
            "type": "scattercarpet"
           }
          ],
          "scattergeo": [
           {
            "marker": {
             "colorbar": {
              "outlinewidth": 0,
              "ticks": ""
             }
            },
            "type": "scattergeo"
           }
          ],
          "scattergl": [
           {
            "marker": {
             "colorbar": {
              "outlinewidth": 0,
              "ticks": ""
             }
            },
            "type": "scattergl"
           }
          ],
          "scattermapbox": [
           {
            "marker": {
             "colorbar": {
              "outlinewidth": 0,
              "ticks": ""
             }
            },
            "type": "scattermapbox"
           }
          ],
          "scatterpolar": [
           {
            "marker": {
             "colorbar": {
              "outlinewidth": 0,
              "ticks": ""
             }
            },
            "type": "scatterpolar"
           }
          ],
          "scatterpolargl": [
           {
            "marker": {
             "colorbar": {
              "outlinewidth": 0,
              "ticks": ""
             }
            },
            "type": "scatterpolargl"
           }
          ],
          "scatterternary": [
           {
            "marker": {
             "colorbar": {
              "outlinewidth": 0,
              "ticks": ""
             }
            },
            "type": "scatterternary"
           }
          ],
          "surface": [
           {
            "colorbar": {
             "outlinewidth": 0,
             "ticks": ""
            },
            "colorscale": [
             [
              0,
              "#0d0887"
             ],
             [
              0.1111111111111111,
              "#46039f"
             ],
             [
              0.2222222222222222,
              "#7201a8"
             ],
             [
              0.3333333333333333,
              "#9c179e"
             ],
             [
              0.4444444444444444,
              "#bd3786"
             ],
             [
              0.5555555555555556,
              "#d8576b"
             ],
             [
              0.6666666666666666,
              "#ed7953"
             ],
             [
              0.7777777777777778,
              "#fb9f3a"
             ],
             [
              0.8888888888888888,
              "#fdca26"
             ],
             [
              1,
              "#f0f921"
             ]
            ],
            "type": "surface"
           }
          ],
          "table": [
           {
            "cells": {
             "fill": {
              "color": "#EBF0F8"
             },
             "line": {
              "color": "white"
             }
            },
            "header": {
             "fill": {
              "color": "#C8D4E3"
             },
             "line": {
              "color": "white"
             }
            },
            "type": "table"
           }
          ]
         },
         "layout": {
          "annotationdefaults": {
           "arrowcolor": "#2a3f5f",
           "arrowhead": 0,
           "arrowwidth": 1
          },
          "coloraxis": {
           "colorbar": {
            "outlinewidth": 0,
            "ticks": ""
           }
          },
          "colorscale": {
           "diverging": [
            [
             0,
             "#8e0152"
            ],
            [
             0.1,
             "#c51b7d"
            ],
            [
             0.2,
             "#de77ae"
            ],
            [
             0.3,
             "#f1b6da"
            ],
            [
             0.4,
             "#fde0ef"
            ],
            [
             0.5,
             "#f7f7f7"
            ],
            [
             0.6,
             "#e6f5d0"
            ],
            [
             0.7,
             "#b8e186"
            ],
            [
             0.8,
             "#7fbc41"
            ],
            [
             0.9,
             "#4d9221"
            ],
            [
             1,
             "#276419"
            ]
           ],
           "sequential": [
            [
             0,
             "#0d0887"
            ],
            [
             0.1111111111111111,
             "#46039f"
            ],
            [
             0.2222222222222222,
             "#7201a8"
            ],
            [
             0.3333333333333333,
             "#9c179e"
            ],
            [
             0.4444444444444444,
             "#bd3786"
            ],
            [
             0.5555555555555556,
             "#d8576b"
            ],
            [
             0.6666666666666666,
             "#ed7953"
            ],
            [
             0.7777777777777778,
             "#fb9f3a"
            ],
            [
             0.8888888888888888,
             "#fdca26"
            ],
            [
             1,
             "#f0f921"
            ]
           ],
           "sequentialminus": [
            [
             0,
             "#0d0887"
            ],
            [
             0.1111111111111111,
             "#46039f"
            ],
            [
             0.2222222222222222,
             "#7201a8"
            ],
            [
             0.3333333333333333,
             "#9c179e"
            ],
            [
             0.4444444444444444,
             "#bd3786"
            ],
            [
             0.5555555555555556,
             "#d8576b"
            ],
            [
             0.6666666666666666,
             "#ed7953"
            ],
            [
             0.7777777777777778,
             "#fb9f3a"
            ],
            [
             0.8888888888888888,
             "#fdca26"
            ],
            [
             1,
             "#f0f921"
            ]
           ]
          },
          "colorway": [
           "#636efa",
           "#EF553B",
           "#00cc96",
           "#ab63fa",
           "#FFA15A",
           "#19d3f3",
           "#FF6692",
           "#B6E880",
           "#FF97FF",
           "#FECB52"
          ],
          "font": {
           "color": "#2a3f5f"
          },
          "geo": {
           "bgcolor": "white",
           "lakecolor": "white",
           "landcolor": "#E5ECF6",
           "showlakes": true,
           "showland": true,
           "subunitcolor": "white"
          },
          "hoverlabel": {
           "align": "left"
          },
          "hovermode": "closest",
          "mapbox": {
           "style": "light"
          },
          "paper_bgcolor": "white",
          "plot_bgcolor": "#E5ECF6",
          "polar": {
           "angularaxis": {
            "gridcolor": "white",
            "linecolor": "white",
            "ticks": ""
           },
           "bgcolor": "#E5ECF6",
           "radialaxis": {
            "gridcolor": "white",
            "linecolor": "white",
            "ticks": ""
           }
          },
          "scene": {
           "xaxis": {
            "backgroundcolor": "#E5ECF6",
            "gridcolor": "white",
            "gridwidth": 2,
            "linecolor": "white",
            "showbackground": true,
            "ticks": "",
            "zerolinecolor": "white"
           },
           "yaxis": {
            "backgroundcolor": "#E5ECF6",
            "gridcolor": "white",
            "gridwidth": 2,
            "linecolor": "white",
            "showbackground": true,
            "ticks": "",
            "zerolinecolor": "white"
           },
           "zaxis": {
            "backgroundcolor": "#E5ECF6",
            "gridcolor": "white",
            "gridwidth": 2,
            "linecolor": "white",
            "showbackground": true,
            "ticks": "",
            "zerolinecolor": "white"
           }
          },
          "shapedefaults": {
           "line": {
            "color": "#2a3f5f"
           }
          },
          "ternary": {
           "aaxis": {
            "gridcolor": "white",
            "linecolor": "white",
            "ticks": ""
           },
           "baxis": {
            "gridcolor": "white",
            "linecolor": "white",
            "ticks": ""
           },
           "bgcolor": "#E5ECF6",
           "caxis": {
            "gridcolor": "white",
            "linecolor": "white",
            "ticks": ""
           }
          },
          "title": {
           "x": 0.05
          },
          "xaxis": {
           "automargin": true,
           "gridcolor": "white",
           "linecolor": "white",
           "ticks": "",
           "title": {
            "standoff": 15
           },
           "zerolinecolor": "white",
           "zerolinewidth": 2
          },
          "yaxis": {
           "automargin": true,
           "gridcolor": "white",
           "linecolor": "white",
           "ticks": "",
           "title": {
            "standoff": 15
           },
           "zerolinecolor": "white",
           "zerolinewidth": 2
          }
         }
        },
        "width": 700
       },
       "_model_module_version": "^4.8.0",
       "_py2js_animate": {},
       "_py2js_deleteTraces": {},
       "_py2js_moveTraces": {},
       "_py2js_removeLayoutProps": {},
       "_py2js_removeTraceProps": {},
       "_py2js_restyle": {},
       "_view_count": 0,
       "_view_module_version": "^4.8.0"
      }
     },
     "8078c487b41c47d9b18e6d3c6f16ca39": {
      "buffers": [
       {
        "data": "AAAAAAAA+H92Yid2YidVQP///////1NAHB4eHh4eU0C9hvIaymtSQLZt27Zt21FAAAAAAAAA+H8=",
        "encoding": "base64",
        "path": [
         "_data",
         0,
         "y",
         "value"
        ]
       },
       {
        "data": "AAAAAAAA+H8AAAAAAAD4fzqxEzuxk1RADQ8PDw+PU0BsUogc9MRSQDj65uibI1JAAAAAAAAA+H8=",
        "encoding": "base64",
        "path": [
         "_data",
         1,
         "y",
         "value"
        ]
       }
      ],
      "model_module": "plotlywidget",
      "model_module_version": "^4.8.0",
      "model_name": "FigureModel",
      "state": {
       "_config": {
        "plotlyServerURL": "https://plot.ly"
       },
       "_data": [
        {
         "mode": "lines",
         "name": "%K (stoch)",
         "showlegend": true,
         "type": "scatter",
         "uid": "f2d4e014-ba90-43ad-9c6a-b6cf740f831c",
         "x": [
          "2018-01-01T00:00:00.000000",
          "2018-01-02T00:00:00.000000",
          "2018-01-03T00:00:00.000000",
          "2018-01-04T00:00:00.000000",
          "2018-01-05T00:00:00.000000",
          "2018-01-06T00:00:00.000000",
          "2018-01-07T00:00:00.000000"
         ],
         "y": {
          "dtype": "float64",
          "shape": [
           7
          ]
         }
        },
        {
         "mode": "lines",
         "name": "%D (stoch)",
         "showlegend": true,
         "type": "scatter",
         "uid": "f9a4372c-823f-47c2-b593-eb679a39ec84",
         "x": [
          "2018-01-01T00:00:00.000000",
          "2018-01-02T00:00:00.000000",
          "2018-01-03T00:00:00.000000",
          "2018-01-04T00:00:00.000000",
          "2018-01-05T00:00:00.000000",
          "2018-01-06T00:00:00.000000",
          "2018-01-07T00:00:00.000000"
         ],
         "y": {
          "dtype": "float64",
          "shape": [
           7
          ]
         }
        }
       ],
       "_js2py_layoutDelta": {},
       "_js2py_pointsCallback": {},
       "_js2py_relayout": {},
       "_js2py_restyle": {},
       "_js2py_traceDeltas": {},
       "_js2py_update": {},
       "_last_layout_edit_id": 5,
       "_last_trace_edit_id": 4,
       "_layout": {
        "autosize": false,
        "colorway": [
         "#1f77b4",
         "#ff7f0e",
         "#2ca02c",
         "#dc3912",
         "#9467bd",
         "#8c564b",
         "#e377c2",
         "#7f7f7f",
         "#bcbd22",
         "#17becf"
        ],
        "height": 300,
        "hovermode": "closest",
        "margin": {
         "b": 30,
         "t": 30
        },
        "shapes": [
         {
          "fillcolor": "purple",
          "layer": "below",
          "line": {
           "width": 0
          },
          "opacity": 0.15,
          "type": "rect",
          "x0": "2018-01-01T00:00:00.000000",
          "x1": "2018-01-07T00:00:00.000000",
          "xref": "x",
          "y0": 30,
          "y1": 70,
          "yref": "y"
         }
        ],
        "template": {
         "data": {
          "bar": [
           {
            "error_x": {
             "color": "#2a3f5f"
            },
            "error_y": {
             "color": "#2a3f5f"
            },
            "marker": {
             "line": {
              "color": "#E5ECF6",
              "width": 0.5
             }
            },
            "type": "bar"
           }
          ],
          "barpolar": [
           {
            "marker": {
             "line": {
              "color": "#E5ECF6",
              "width": 0.5
             }
            },
            "type": "barpolar"
           }
          ],
          "carpet": [
           {
            "aaxis": {
             "endlinecolor": "#2a3f5f",
             "gridcolor": "white",
             "linecolor": "white",
             "minorgridcolor": "white",
             "startlinecolor": "#2a3f5f"
            },
            "baxis": {
             "endlinecolor": "#2a3f5f",
             "gridcolor": "white",
             "linecolor": "white",
             "minorgridcolor": "white",
             "startlinecolor": "#2a3f5f"
            },
            "type": "carpet"
           }
          ],
          "choropleth": [
           {
            "colorbar": {
             "outlinewidth": 0,
             "ticks": ""
            },
            "type": "choropleth"
           }
          ],
          "contour": [
           {
            "colorbar": {
             "outlinewidth": 0,
             "ticks": ""
            },
            "colorscale": [
             [
              0,
              "#0d0887"
             ],
             [
              0.1111111111111111,
              "#46039f"
             ],
             [
              0.2222222222222222,
              "#7201a8"
             ],
             [
              0.3333333333333333,
              "#9c179e"
             ],
             [
              0.4444444444444444,
              "#bd3786"
             ],
             [
              0.5555555555555556,
              "#d8576b"
             ],
             [
              0.6666666666666666,
              "#ed7953"
             ],
             [
              0.7777777777777778,
              "#fb9f3a"
             ],
             [
              0.8888888888888888,
              "#fdca26"
             ],
             [
              1,
              "#f0f921"
             ]
            ],
            "type": "contour"
           }
          ],
          "contourcarpet": [
           {
            "colorbar": {
             "outlinewidth": 0,
             "ticks": ""
            },
            "type": "contourcarpet"
           }
          ],
          "heatmap": [
           {
            "colorbar": {
             "outlinewidth": 0,
             "ticks": ""
            },
            "colorscale": [
             [
              0,
              "#0d0887"
             ],
             [
              0.1111111111111111,
              "#46039f"
             ],
             [
              0.2222222222222222,
              "#7201a8"
             ],
             [
              0.3333333333333333,
              "#9c179e"
             ],
             [
              0.4444444444444444,
              "#bd3786"
             ],
             [
              0.5555555555555556,
              "#d8576b"
             ],
             [
              0.6666666666666666,
              "#ed7953"
             ],
             [
              0.7777777777777778,
              "#fb9f3a"
             ],
             [
              0.8888888888888888,
              "#fdca26"
             ],
             [
              1,
              "#f0f921"
             ]
            ],
            "type": "heatmap"
           }
          ],
          "heatmapgl": [
           {
            "colorbar": {
             "outlinewidth": 0,
             "ticks": ""
            },
            "colorscale": [
             [
              0,
              "#0d0887"
             ],
             [
              0.1111111111111111,
              "#46039f"
             ],
             [
              0.2222222222222222,
              "#7201a8"
             ],
             [
              0.3333333333333333,
              "#9c179e"
             ],
             [
              0.4444444444444444,
              "#bd3786"
             ],
             [
              0.5555555555555556,
              "#d8576b"
             ],
             [
              0.6666666666666666,
              "#ed7953"
             ],
             [
              0.7777777777777778,
              "#fb9f3a"
             ],
             [
              0.8888888888888888,
              "#fdca26"
             ],
             [
              1,
              "#f0f921"
             ]
            ],
            "type": "heatmapgl"
           }
          ],
          "histogram": [
           {
            "marker": {
             "colorbar": {
              "outlinewidth": 0,
              "ticks": ""
             }
            },
            "type": "histogram"
           }
          ],
          "histogram2d": [
           {
            "colorbar": {
             "outlinewidth": 0,
             "ticks": ""
            },
            "colorscale": [
             [
              0,
              "#0d0887"
             ],
             [
              0.1111111111111111,
              "#46039f"
             ],
             [
              0.2222222222222222,
              "#7201a8"
             ],
             [
              0.3333333333333333,
              "#9c179e"
             ],
             [
              0.4444444444444444,
              "#bd3786"
             ],
             [
              0.5555555555555556,
              "#d8576b"
             ],
             [
              0.6666666666666666,
              "#ed7953"
             ],
             [
              0.7777777777777778,
              "#fb9f3a"
             ],
             [
              0.8888888888888888,
              "#fdca26"
             ],
             [
              1,
              "#f0f921"
             ]
            ],
            "type": "histogram2d"
           }
          ],
          "histogram2dcontour": [
           {
            "colorbar": {
             "outlinewidth": 0,
             "ticks": ""
            },
            "colorscale": [
             [
              0,
              "#0d0887"
             ],
             [
              0.1111111111111111,
              "#46039f"
             ],
             [
              0.2222222222222222,
              "#7201a8"
             ],
             [
              0.3333333333333333,
              "#9c179e"
             ],
             [
              0.4444444444444444,
              "#bd3786"
             ],
             [
              0.5555555555555556,
              "#d8576b"
             ],
             [
              0.6666666666666666,
              "#ed7953"
             ],
             [
              0.7777777777777778,
              "#fb9f3a"
             ],
             [
              0.8888888888888888,
              "#fdca26"
             ],
             [
              1,
              "#f0f921"
             ]
            ],
            "type": "histogram2dcontour"
           }
          ],
          "mesh3d": [
           {
            "colorbar": {
             "outlinewidth": 0,
             "ticks": ""
            },
            "type": "mesh3d"
           }
          ],
          "parcoords": [
           {
            "line": {
             "colorbar": {
              "outlinewidth": 0,
              "ticks": ""
             }
            },
            "type": "parcoords"
           }
          ],
          "pie": [
           {
            "automargin": true,
            "type": "pie"
           }
          ],
          "scatter": [
           {
            "marker": {
             "colorbar": {
              "outlinewidth": 0,
              "ticks": ""
             }
            },
            "type": "scatter"
           }
          ],
          "scatter3d": [
           {
            "line": {
             "colorbar": {
              "outlinewidth": 0,
              "ticks": ""
             }
            },
            "marker": {
             "colorbar": {
              "outlinewidth": 0,
              "ticks": ""
             }
            },
            "type": "scatter3d"
           }
          ],
          "scattercarpet": [
           {
            "marker": {
             "colorbar": {
              "outlinewidth": 0,
              "ticks": ""
             }
            },
            "type": "scattercarpet"
           }
          ],
          "scattergeo": [
           {
            "marker": {
             "colorbar": {
              "outlinewidth": 0,
              "ticks": ""
             }
            },
            "type": "scattergeo"
           }
          ],
          "scattergl": [
           {
            "marker": {
             "colorbar": {
              "outlinewidth": 0,
              "ticks": ""
             }
            },
            "type": "scattergl"
           }
          ],
          "scattermapbox": [
           {
            "marker": {
             "colorbar": {
              "outlinewidth": 0,
              "ticks": ""
             }
            },
            "type": "scattermapbox"
           }
          ],
          "scatterpolar": [
           {
            "marker": {
             "colorbar": {
              "outlinewidth": 0,
              "ticks": ""
             }
            },
            "type": "scatterpolar"
           }
          ],
          "scatterpolargl": [
           {
            "marker": {
             "colorbar": {
              "outlinewidth": 0,
              "ticks": ""
             }
            },
            "type": "scatterpolargl"
           }
          ],
          "scatterternary": [
           {
            "marker": {
             "colorbar": {
              "outlinewidth": 0,
              "ticks": ""
             }
            },
            "type": "scatterternary"
           }
          ],
          "surface": [
           {
            "colorbar": {
             "outlinewidth": 0,
             "ticks": ""
            },
            "colorscale": [
             [
              0,
              "#0d0887"
             ],
             [
              0.1111111111111111,
              "#46039f"
             ],
             [
              0.2222222222222222,
              "#7201a8"
             ],
             [
              0.3333333333333333,
              "#9c179e"
             ],
             [
              0.4444444444444444,
              "#bd3786"
             ],
             [
              0.5555555555555556,
              "#d8576b"
             ],
             [
              0.6666666666666666,
              "#ed7953"
             ],
             [
              0.7777777777777778,
              "#fb9f3a"
             ],
             [
              0.8888888888888888,
              "#fdca26"
             ],
             [
              1,
              "#f0f921"
             ]
            ],
            "type": "surface"
           }
          ],
          "table": [
           {
            "cells": {
             "fill": {
              "color": "#EBF0F8"
             },
             "line": {
              "color": "white"
             }
            },
            "header": {
             "fill": {
              "color": "#C8D4E3"
             },
             "line": {
              "color": "white"
             }
            },
            "type": "table"
           }
          ]
         },
         "layout": {
          "annotationdefaults": {
           "arrowcolor": "#2a3f5f",
           "arrowhead": 0,
           "arrowwidth": 1
          },
          "coloraxis": {
           "colorbar": {
            "outlinewidth": 0,
            "ticks": ""
           }
          },
          "colorscale": {
           "diverging": [
            [
             0,
             "#8e0152"
            ],
            [
             0.1,
             "#c51b7d"
            ],
            [
             0.2,
             "#de77ae"
            ],
            [
             0.3,
             "#f1b6da"
            ],
            [
             0.4,
             "#fde0ef"
            ],
            [
             0.5,
             "#f7f7f7"
            ],
            [
             0.6,
             "#e6f5d0"
            ],
            [
             0.7,
             "#b8e186"
            ],
            [
             0.8,
             "#7fbc41"
            ],
            [
             0.9,
             "#4d9221"
            ],
            [
             1,
             "#276419"
            ]
           ],
           "sequential": [
            [
             0,
             "#0d0887"
            ],
            [
             0.1111111111111111,
             "#46039f"
            ],
            [
             0.2222222222222222,
             "#7201a8"
            ],
            [
             0.3333333333333333,
             "#9c179e"
            ],
            [
             0.4444444444444444,
             "#bd3786"
            ],
            [
             0.5555555555555556,
             "#d8576b"
            ],
            [
             0.6666666666666666,
             "#ed7953"
            ],
            [
             0.7777777777777778,
             "#fb9f3a"
            ],
            [
             0.8888888888888888,
             "#fdca26"
            ],
            [
             1,
             "#f0f921"
            ]
           ],
           "sequentialminus": [
            [
             0,
             "#0d0887"
            ],
            [
             0.1111111111111111,
             "#46039f"
            ],
            [
             0.2222222222222222,
             "#7201a8"
            ],
            [
             0.3333333333333333,
             "#9c179e"
            ],
            [
             0.4444444444444444,
             "#bd3786"
            ],
            [
             0.5555555555555556,
             "#d8576b"
            ],
            [
             0.6666666666666666,
             "#ed7953"
            ],
            [
             0.7777777777777778,
             "#fb9f3a"
            ],
            [
             0.8888888888888888,
             "#fdca26"
            ],
            [
             1,
             "#f0f921"
            ]
           ]
          },
          "colorway": [
           "#636efa",
           "#EF553B",
           "#00cc96",
           "#ab63fa",
           "#FFA15A",
           "#19d3f3",
           "#FF6692",
           "#B6E880",
           "#FF97FF",
           "#FECB52"
          ],
          "font": {
           "color": "#2a3f5f"
          },
          "geo": {
           "bgcolor": "white",
           "lakecolor": "white",
           "landcolor": "#E5ECF6",
           "showlakes": true,
           "showland": true,
           "subunitcolor": "white"
          },
          "hoverlabel": {
           "align": "left"
          },
          "hovermode": "closest",
          "mapbox": {
           "style": "light"
          },
          "paper_bgcolor": "white",
          "plot_bgcolor": "#E5ECF6",
          "polar": {
           "angularaxis": {
            "gridcolor": "white",
            "linecolor": "white",
            "ticks": ""
           },
           "bgcolor": "#E5ECF6",
           "radialaxis": {
            "gridcolor": "white",
            "linecolor": "white",
            "ticks": ""
           }
          },
          "scene": {
           "xaxis": {
            "backgroundcolor": "#E5ECF6",
            "gridcolor": "white",
            "gridwidth": 2,
            "linecolor": "white",
            "showbackground": true,
            "ticks": "",
            "zerolinecolor": "white"
           },
           "yaxis": {
            "backgroundcolor": "#E5ECF6",
            "gridcolor": "white",
            "gridwidth": 2,
            "linecolor": "white",
            "showbackground": true,
            "ticks": "",
            "zerolinecolor": "white"
           },
           "zaxis": {
            "backgroundcolor": "#E5ECF6",
            "gridcolor": "white",
            "gridwidth": 2,
            "linecolor": "white",
            "showbackground": true,
            "ticks": "",
            "zerolinecolor": "white"
           }
          },
          "shapedefaults": {
           "line": {
            "color": "#2a3f5f"
           }
          },
          "ternary": {
           "aaxis": {
            "gridcolor": "white",
            "linecolor": "white",
            "ticks": ""
           },
           "baxis": {
            "gridcolor": "white",
            "linecolor": "white",
            "ticks": ""
           },
           "bgcolor": "#E5ECF6",
           "caxis": {
            "gridcolor": "white",
            "linecolor": "white",
            "ticks": ""
           }
          },
          "title": {
           "x": 0.05
          },
          "xaxis": {
           "automargin": true,
           "gridcolor": "white",
           "linecolor": "white",
           "ticks": "",
           "title": {
            "standoff": 15
           },
           "zerolinecolor": "white",
           "zerolinewidth": 2
          },
          "yaxis": {
           "automargin": true,
           "gridcolor": "white",
           "linecolor": "white",
           "ticks": "",
           "title": {
            "standoff": 15
           },
           "zerolinecolor": "white",
           "zerolinewidth": 2
          }
         }
        },
        "width": 700,
        "yaxis": {
         "range": [
          -5,
          105
         ]
        }
       },
       "_model_module_version": "^4.8.0",
       "_py2js_animate": {},
       "_py2js_deleteTraces": {},
       "_py2js_moveTraces": {},
       "_py2js_removeLayoutProps": {},
       "_py2js_removeTraceProps": {},
       "_py2js_restyle": {},
       "_view_count": 0,
       "_view_module_version": "^4.8.0"
      }
     },
     "8532dfb281b94f7784418337776b72c0": {
      "buffers": [
       {
        "data": "AAAAAAAA+H8AAAAAAAD4fwAAAAAAAPh/EBUVFRUV3T9EyXaPpyvjP2BSCigN3uY/YFIKKA3e5j8=",
        "encoding": "base64",
        "path": [
         "_data",
         0,
         "y",
         "value"
        ]
       },
       {
        "data": "AAAAAAAA+H8AAAAAAAD4fwAAAAAAAPh/AAAAAAAA+H+UuTtOYAPiP0noQJawX+U/5g/cq8hh5j8=",
        "encoding": "base64",
        "path": [
         "_data",
         1,
         "y",
         "value"
        ]
       },
       {
        "data": "AAAAAAAA+H8AAAAAAAD4fwAAAAAAAPh/AAAAAAAA+H8A+7ATdISiP3ChlhzJ5ac/gJ6QCx8Rjz8=",
        "encoding": "base64",
        "path": [
         "_data",
         2,
         "y",
         "value"
        ]
       }
      ],
      "model_module": "plotlywidget",
      "model_module_version": "^4.8.0",
      "model_name": "FigureModel",
      "state": {
       "_config": {
        "plotlyServerURL": "https://plot.ly"
       },
       "_data": [
        {
         "mode": "lines",
         "name": "MACD (macd)",
         "showlegend": true,
         "type": "scatter",
         "uid": "90e8d20d-c050-4bd2-bdb1-68d4b6b65f34",
         "x": [
          "2018-01-01T00:00:00.000000",
          "2018-01-02T00:00:00.000000",
          "2018-01-03T00:00:00.000000",
          "2018-01-04T00:00:00.000000",
          "2018-01-05T00:00:00.000000",
          "2018-01-06T00:00:00.000000",
          "2018-01-07T00:00:00.000000"
         ],
         "y": {
          "dtype": "float64",
          "shape": [
           7
          ]
         }
        },
        {
         "mode": "lines",
         "name": "Signal (macd)",
         "showlegend": true,
         "type": "scatter",
         "uid": "9b4ef716-a960-40aa-be3f-7e8a20cb6b1c",
         "x": [
          "2018-01-01T00:00:00.000000",
          "2018-01-02T00:00:00.000000",
          "2018-01-03T00:00:00.000000",
          "2018-01-04T00:00:00.000000",
          "2018-01-05T00:00:00.000000",
          "2018-01-06T00:00:00.000000",
          "2018-01-07T00:00:00.000000"
         ],
         "y": {
          "dtype": "float64",
          "shape": [
           7
          ]
         }
        },
        {
         "marker": {
          "color": [
           "nan",
           "nan",
           "nan",
           "nan",
           "nan",
           "green",
           "lightgreen"
          ],
          "line": {
           "width": 0
          }
         },
         "name": "Histogram (macd)",
         "showlegend": false,
         "type": "bar",
         "uid": "9a6e175a-f35a-4bd7-860d-37547e264576",
         "x": [
          "2018-01-01T00:00:00.000000",
          "2018-01-02T00:00:00.000000",
          "2018-01-03T00:00:00.000000",
          "2018-01-04T00:00:00.000000",
          "2018-01-05T00:00:00.000000",
          "2018-01-06T00:00:00.000000",
          "2018-01-07T00:00:00.000000"
         ],
         "y": {
          "dtype": "float64",
          "shape": [
           7
          ]
         }
        }
       ],
       "_js2py_layoutDelta": {},
       "_js2py_pointsCallback": {},
       "_js2py_relayout": {},
       "_js2py_restyle": {},
       "_js2py_traceDeltas": {},
       "_js2py_update": {},
       "_last_layout_edit_id": 5,
       "_last_trace_edit_id": 5,
       "_layout": {
        "autosize": false,
        "bargap": 0,
        "colorway": [
         "#1f77b4",
         "#ff7f0e",
         "#2ca02c",
         "#dc3912",
         "#9467bd",
         "#8c564b",
         "#e377c2",
         "#7f7f7f",
         "#bcbd22",
         "#17becf"
        ],
        "height": 300,
        "hovermode": "closest",
        "margin": {
         "b": 30,
         "t": 30
        },
        "template": {
         "data": {
          "bar": [
           {
            "error_x": {
             "color": "#2a3f5f"
            },
            "error_y": {
             "color": "#2a3f5f"
            },
            "marker": {
             "line": {
              "color": "#E5ECF6",
              "width": 0.5
             }
            },
            "type": "bar"
           }
          ],
          "barpolar": [
           {
            "marker": {
             "line": {
              "color": "#E5ECF6",
              "width": 0.5
             }
            },
            "type": "barpolar"
           }
          ],
          "carpet": [
           {
            "aaxis": {
             "endlinecolor": "#2a3f5f",
             "gridcolor": "white",
             "linecolor": "white",
             "minorgridcolor": "white",
             "startlinecolor": "#2a3f5f"
            },
            "baxis": {
             "endlinecolor": "#2a3f5f",
             "gridcolor": "white",
             "linecolor": "white",
             "minorgridcolor": "white",
             "startlinecolor": "#2a3f5f"
            },
            "type": "carpet"
           }
          ],
          "choropleth": [
           {
            "colorbar": {
             "outlinewidth": 0,
             "ticks": ""
            },
            "type": "choropleth"
           }
          ],
          "contour": [
           {
            "colorbar": {
             "outlinewidth": 0,
             "ticks": ""
            },
            "colorscale": [
             [
              0,
              "#0d0887"
             ],
             [
              0.1111111111111111,
              "#46039f"
             ],
             [
              0.2222222222222222,
              "#7201a8"
             ],
             [
              0.3333333333333333,
              "#9c179e"
             ],
             [
              0.4444444444444444,
              "#bd3786"
             ],
             [
              0.5555555555555556,
              "#d8576b"
             ],
             [
              0.6666666666666666,
              "#ed7953"
             ],
             [
              0.7777777777777778,
              "#fb9f3a"
             ],
             [
              0.8888888888888888,
              "#fdca26"
             ],
             [
              1,
              "#f0f921"
             ]
            ],
            "type": "contour"
           }
          ],
          "contourcarpet": [
           {
            "colorbar": {
             "outlinewidth": 0,
             "ticks": ""
            },
            "type": "contourcarpet"
           }
          ],
          "heatmap": [
           {
            "colorbar": {
             "outlinewidth": 0,
             "ticks": ""
            },
            "colorscale": [
             [
              0,
              "#0d0887"
             ],
             [
              0.1111111111111111,
              "#46039f"
             ],
             [
              0.2222222222222222,
              "#7201a8"
             ],
             [
              0.3333333333333333,
              "#9c179e"
             ],
             [
              0.4444444444444444,
              "#bd3786"
             ],
             [
              0.5555555555555556,
              "#d8576b"
             ],
             [
              0.6666666666666666,
              "#ed7953"
             ],
             [
              0.7777777777777778,
              "#fb9f3a"
             ],
             [
              0.8888888888888888,
              "#fdca26"
             ],
             [
              1,
              "#f0f921"
             ]
            ],
            "type": "heatmap"
           }
          ],
          "heatmapgl": [
           {
            "colorbar": {
             "outlinewidth": 0,
             "ticks": ""
            },
            "colorscale": [
             [
              0,
              "#0d0887"
             ],
             [
              0.1111111111111111,
              "#46039f"
             ],
             [
              0.2222222222222222,
              "#7201a8"
             ],
             [
              0.3333333333333333,
              "#9c179e"
             ],
             [
              0.4444444444444444,
              "#bd3786"
             ],
             [
              0.5555555555555556,
              "#d8576b"
             ],
             [
              0.6666666666666666,
              "#ed7953"
             ],
             [
              0.7777777777777778,
              "#fb9f3a"
             ],
             [
              0.8888888888888888,
              "#fdca26"
             ],
             [
              1,
              "#f0f921"
             ]
            ],
            "type": "heatmapgl"
           }
          ],
          "histogram": [
           {
            "marker": {
             "colorbar": {
              "outlinewidth": 0,
              "ticks": ""
             }
            },
            "type": "histogram"
           }
          ],
          "histogram2d": [
           {
            "colorbar": {
             "outlinewidth": 0,
             "ticks": ""
            },
            "colorscale": [
             [
              0,
              "#0d0887"
             ],
             [
              0.1111111111111111,
              "#46039f"
             ],
             [
              0.2222222222222222,
              "#7201a8"
             ],
             [
              0.3333333333333333,
              "#9c179e"
             ],
             [
              0.4444444444444444,
              "#bd3786"
             ],
             [
              0.5555555555555556,
              "#d8576b"
             ],
             [
              0.6666666666666666,
              "#ed7953"
             ],
             [
              0.7777777777777778,
              "#fb9f3a"
             ],
             [
              0.8888888888888888,
              "#fdca26"
             ],
             [
              1,
              "#f0f921"
             ]
            ],
            "type": "histogram2d"
           }
          ],
          "histogram2dcontour": [
           {
            "colorbar": {
             "outlinewidth": 0,
             "ticks": ""
            },
            "colorscale": [
             [
              0,
              "#0d0887"
             ],
             [
              0.1111111111111111,
              "#46039f"
             ],
             [
              0.2222222222222222,
              "#7201a8"
             ],
             [
              0.3333333333333333,
              "#9c179e"
             ],
             [
              0.4444444444444444,
              "#bd3786"
             ],
             [
              0.5555555555555556,
              "#d8576b"
             ],
             [
              0.6666666666666666,
              "#ed7953"
             ],
             [
              0.7777777777777778,
              "#fb9f3a"
             ],
             [
              0.8888888888888888,
              "#fdca26"
             ],
             [
              1,
              "#f0f921"
             ]
            ],
            "type": "histogram2dcontour"
           }
          ],
          "mesh3d": [
           {
            "colorbar": {
             "outlinewidth": 0,
             "ticks": ""
            },
            "type": "mesh3d"
           }
          ],
          "parcoords": [
           {
            "line": {
             "colorbar": {
              "outlinewidth": 0,
              "ticks": ""
             }
            },
            "type": "parcoords"
           }
          ],
          "pie": [
           {
            "automargin": true,
            "type": "pie"
           }
          ],
          "scatter": [
           {
            "marker": {
             "colorbar": {
              "outlinewidth": 0,
              "ticks": ""
             }
            },
            "type": "scatter"
           }
          ],
          "scatter3d": [
           {
            "line": {
             "colorbar": {
              "outlinewidth": 0,
              "ticks": ""
             }
            },
            "marker": {
             "colorbar": {
              "outlinewidth": 0,
              "ticks": ""
             }
            },
            "type": "scatter3d"
           }
          ],
          "scattercarpet": [
           {
            "marker": {
             "colorbar": {
              "outlinewidth": 0,
              "ticks": ""
             }
            },
            "type": "scattercarpet"
           }
          ],
          "scattergeo": [
           {
            "marker": {
             "colorbar": {
              "outlinewidth": 0,
              "ticks": ""
             }
            },
            "type": "scattergeo"
           }
          ],
          "scattergl": [
           {
            "marker": {
             "colorbar": {
              "outlinewidth": 0,
              "ticks": ""
             }
            },
            "type": "scattergl"
           }
          ],
          "scattermapbox": [
           {
            "marker": {
             "colorbar": {
              "outlinewidth": 0,
              "ticks": ""
             }
            },
            "type": "scattermapbox"
           }
          ],
          "scatterpolar": [
           {
            "marker": {
             "colorbar": {
              "outlinewidth": 0,
              "ticks": ""
             }
            },
            "type": "scatterpolar"
           }
          ],
          "scatterpolargl": [
           {
            "marker": {
             "colorbar": {
              "outlinewidth": 0,
              "ticks": ""
             }
            },
            "type": "scatterpolargl"
           }
          ],
          "scatterternary": [
           {
            "marker": {
             "colorbar": {
              "outlinewidth": 0,
              "ticks": ""
             }
            },
            "type": "scatterternary"
           }
          ],
          "surface": [
           {
            "colorbar": {
             "outlinewidth": 0,
             "ticks": ""
            },
            "colorscale": [
             [
              0,
              "#0d0887"
             ],
             [
              0.1111111111111111,
              "#46039f"
             ],
             [
              0.2222222222222222,
              "#7201a8"
             ],
             [
              0.3333333333333333,
              "#9c179e"
             ],
             [
              0.4444444444444444,
              "#bd3786"
             ],
             [
              0.5555555555555556,
              "#d8576b"
             ],
             [
              0.6666666666666666,
              "#ed7953"
             ],
             [
              0.7777777777777778,
              "#fb9f3a"
             ],
             [
              0.8888888888888888,
              "#fdca26"
             ],
             [
              1,
              "#f0f921"
             ]
            ],
            "type": "surface"
           }
          ],
          "table": [
           {
            "cells": {
             "fill": {
              "color": "#EBF0F8"
             },
             "line": {
              "color": "white"
             }
            },
            "header": {
             "fill": {
              "color": "#C8D4E3"
             },
             "line": {
              "color": "white"
             }
            },
            "type": "table"
           }
          ]
         },
         "layout": {
          "annotationdefaults": {
           "arrowcolor": "#2a3f5f",
           "arrowhead": 0,
           "arrowwidth": 1
          },
          "coloraxis": {
           "colorbar": {
            "outlinewidth": 0,
            "ticks": ""
           }
          },
          "colorscale": {
           "diverging": [
            [
             0,
             "#8e0152"
            ],
            [
             0.1,
             "#c51b7d"
            ],
            [
             0.2,
             "#de77ae"
            ],
            [
             0.3,
             "#f1b6da"
            ],
            [
             0.4,
             "#fde0ef"
            ],
            [
             0.5,
             "#f7f7f7"
            ],
            [
             0.6,
             "#e6f5d0"
            ],
            [
             0.7,
             "#b8e186"
            ],
            [
             0.8,
             "#7fbc41"
            ],
            [
             0.9,
             "#4d9221"
            ],
            [
             1,
             "#276419"
            ]
           ],
           "sequential": [
            [
             0,
             "#0d0887"
            ],
            [
             0.1111111111111111,
             "#46039f"
            ],
            [
             0.2222222222222222,
             "#7201a8"
            ],
            [
             0.3333333333333333,
             "#9c179e"
            ],
            [
             0.4444444444444444,
             "#bd3786"
            ],
            [
             0.5555555555555556,
             "#d8576b"
            ],
            [
             0.6666666666666666,
             "#ed7953"
            ],
            [
             0.7777777777777778,
             "#fb9f3a"
            ],
            [
             0.8888888888888888,
             "#fdca26"
            ],
            [
             1,
             "#f0f921"
            ]
           ],
           "sequentialminus": [
            [
             0,
             "#0d0887"
            ],
            [
             0.1111111111111111,
             "#46039f"
            ],
            [
             0.2222222222222222,
             "#7201a8"
            ],
            [
             0.3333333333333333,
             "#9c179e"
            ],
            [
             0.4444444444444444,
             "#bd3786"
            ],
            [
             0.5555555555555556,
             "#d8576b"
            ],
            [
             0.6666666666666666,
             "#ed7953"
            ],
            [
             0.7777777777777778,
             "#fb9f3a"
            ],
            [
             0.8888888888888888,
             "#fdca26"
            ],
            [
             1,
             "#f0f921"
            ]
           ]
          },
          "colorway": [
           "#636efa",
           "#EF553B",
           "#00cc96",
           "#ab63fa",
           "#FFA15A",
           "#19d3f3",
           "#FF6692",
           "#B6E880",
           "#FF97FF",
           "#FECB52"
          ],
          "font": {
           "color": "#2a3f5f"
          },
          "geo": {
           "bgcolor": "white",
           "lakecolor": "white",
           "landcolor": "#E5ECF6",
           "showlakes": true,
           "showland": true,
           "subunitcolor": "white"
          },
          "hoverlabel": {
           "align": "left"
          },
          "hovermode": "closest",
          "mapbox": {
           "style": "light"
          },
          "paper_bgcolor": "white",
          "plot_bgcolor": "#E5ECF6",
          "polar": {
           "angularaxis": {
            "gridcolor": "white",
            "linecolor": "white",
            "ticks": ""
           },
           "bgcolor": "#E5ECF6",
           "radialaxis": {
            "gridcolor": "white",
            "linecolor": "white",
            "ticks": ""
           }
          },
          "scene": {
           "xaxis": {
            "backgroundcolor": "#E5ECF6",
            "gridcolor": "white",
            "gridwidth": 2,
            "linecolor": "white",
            "showbackground": true,
            "ticks": "",
            "zerolinecolor": "white"
           },
           "yaxis": {
            "backgroundcolor": "#E5ECF6",
            "gridcolor": "white",
            "gridwidth": 2,
            "linecolor": "white",
            "showbackground": true,
            "ticks": "",
            "zerolinecolor": "white"
           },
           "zaxis": {
            "backgroundcolor": "#E5ECF6",
            "gridcolor": "white",
            "gridwidth": 2,
            "linecolor": "white",
            "showbackground": true,
            "ticks": "",
            "zerolinecolor": "white"
           }
          },
          "shapedefaults": {
           "line": {
            "color": "#2a3f5f"
           }
          },
          "ternary": {
           "aaxis": {
            "gridcolor": "white",
            "linecolor": "white",
            "ticks": ""
           },
           "baxis": {
            "gridcolor": "white",
            "linecolor": "white",
            "ticks": ""
           },
           "bgcolor": "#E5ECF6",
           "caxis": {
            "gridcolor": "white",
            "linecolor": "white",
            "ticks": ""
           }
          },
          "title": {
           "x": 0.05
          },
          "xaxis": {
           "automargin": true,
           "gridcolor": "white",
           "linecolor": "white",
           "ticks": "",
           "title": {
            "standoff": 15
           },
           "zerolinecolor": "white",
           "zerolinewidth": 2
          },
          "yaxis": {
           "automargin": true,
           "gridcolor": "white",
           "linecolor": "white",
           "ticks": "",
           "title": {
            "standoff": 15
           },
           "zerolinecolor": "white",
           "zerolinewidth": 2
          }
         }
        },
        "width": 700
       },
       "_model_module_version": "^4.8.0",
       "_py2js_animate": {},
       "_py2js_deleteTraces": {},
       "_py2js_moveTraces": {},
       "_py2js_removeLayoutProps": {},
       "_py2js_removeTraceProps": {},
       "_py2js_restyle": {},
       "_view_count": 0,
       "_view_module_version": "^4.8.0"
      }
     },
     "a22662fcc9aa4ac7a4b6c783c0bcd3ea": {
      "buffers": [
       {
        "data": "AAAAAAAA+H8AAAAAAAD4fwAAAAAAAFlAAAAAAAAAWUAAAAAAAABZQAAAAAAAAFlAAAAAAAAA+H8=",
        "encoding": "base64",
        "path": [
         "_data",
         0,
         "y",
         "value"
        ]
       }
      ],
      "model_module": "plotlywidget",
      "model_module_version": "^4.8.0",
      "model_name": "FigureModel",
      "state": {
       "_config": {
        "plotlyServerURL": "https://plot.ly"
       },
       "_data": [
        {
         "mode": "lines",
         "name": "RSI (rsi)",
         "showlegend": true,
         "type": "scatter",
         "uid": "2ecf5a42-3ca2-4503-8dac-624bfa63c631",
         "x": [
          "2018-01-01T00:00:00.000000",
          "2018-01-02T00:00:00.000000",
          "2018-01-03T00:00:00.000000",
          "2018-01-04T00:00:00.000000",
          "2018-01-05T00:00:00.000000",
          "2018-01-06T00:00:00.000000",
          "2018-01-07T00:00:00.000000"
         ],
         "y": {
          "dtype": "float64",
          "shape": [
           7
          ]
         }
        }
       ],
       "_js2py_layoutDelta": {},
       "_js2py_pointsCallback": {},
       "_js2py_relayout": {},
       "_js2py_restyle": {},
       "_js2py_traceDeltas": {},
       "_js2py_update": {},
       "_last_layout_edit_id": 4,
       "_last_trace_edit_id": 3,
       "_layout": {
        "autosize": false,
        "colorway": [
         "#1f77b4",
         "#ff7f0e",
         "#2ca02c",
         "#dc3912",
         "#9467bd",
         "#8c564b",
         "#e377c2",
         "#7f7f7f",
         "#bcbd22",
         "#17becf"
        ],
        "height": 300,
        "hovermode": "closest",
        "margin": {
         "b": 30,
         "t": 30
        },
        "shapes": [
         {
          "fillcolor": "purple",
          "layer": "below",
          "line": {
           "width": 0
          },
          "opacity": 0.15,
          "type": "rect",
          "x0": "2018-01-01T00:00:00.000000",
          "x1": "2018-01-07T00:00:00.000000",
          "xref": "x",
          "y0": 30,
          "y1": 70,
          "yref": "y"
         }
        ],
        "template": {
         "data": {
          "bar": [
           {
            "error_x": {
             "color": "#2a3f5f"
            },
            "error_y": {
             "color": "#2a3f5f"
            },
            "marker": {
             "line": {
              "color": "#E5ECF6",
              "width": 0.5
             }
            },
            "type": "bar"
           }
          ],
          "barpolar": [
           {
            "marker": {
             "line": {
              "color": "#E5ECF6",
              "width": 0.5
             }
            },
            "type": "barpolar"
           }
          ],
          "carpet": [
           {
            "aaxis": {
             "endlinecolor": "#2a3f5f",
             "gridcolor": "white",
             "linecolor": "white",
             "minorgridcolor": "white",
             "startlinecolor": "#2a3f5f"
            },
            "baxis": {
             "endlinecolor": "#2a3f5f",
             "gridcolor": "white",
             "linecolor": "white",
             "minorgridcolor": "white",
             "startlinecolor": "#2a3f5f"
            },
            "type": "carpet"
           }
          ],
          "choropleth": [
           {
            "colorbar": {
             "outlinewidth": 0,
             "ticks": ""
            },
            "type": "choropleth"
           }
          ],
          "contour": [
           {
            "colorbar": {
             "outlinewidth": 0,
             "ticks": ""
            },
            "colorscale": [
             [
              0,
              "#0d0887"
             ],
             [
              0.1111111111111111,
              "#46039f"
             ],
             [
              0.2222222222222222,
              "#7201a8"
             ],
             [
              0.3333333333333333,
              "#9c179e"
             ],
             [
              0.4444444444444444,
              "#bd3786"
             ],
             [
              0.5555555555555556,
              "#d8576b"
             ],
             [
              0.6666666666666666,
              "#ed7953"
             ],
             [
              0.7777777777777778,
              "#fb9f3a"
             ],
             [
              0.8888888888888888,
              "#fdca26"
             ],
             [
              1,
              "#f0f921"
             ]
            ],
            "type": "contour"
           }
          ],
          "contourcarpet": [
           {
            "colorbar": {
             "outlinewidth": 0,
             "ticks": ""
            },
            "type": "contourcarpet"
           }
          ],
          "heatmap": [
           {
            "colorbar": {
             "outlinewidth": 0,
             "ticks": ""
            },
            "colorscale": [
             [
              0,
              "#0d0887"
             ],
             [
              0.1111111111111111,
              "#46039f"
             ],
             [
              0.2222222222222222,
              "#7201a8"
             ],
             [
              0.3333333333333333,
              "#9c179e"
             ],
             [
              0.4444444444444444,
              "#bd3786"
             ],
             [
              0.5555555555555556,
              "#d8576b"
             ],
             [
              0.6666666666666666,
              "#ed7953"
             ],
             [
              0.7777777777777778,
              "#fb9f3a"
             ],
             [
              0.8888888888888888,
              "#fdca26"
             ],
             [
              1,
              "#f0f921"
             ]
            ],
            "type": "heatmap"
           }
          ],
          "heatmapgl": [
           {
            "colorbar": {
             "outlinewidth": 0,
             "ticks": ""
            },
            "colorscale": [
             [
              0,
              "#0d0887"
             ],
             [
              0.1111111111111111,
              "#46039f"
             ],
             [
              0.2222222222222222,
              "#7201a8"
             ],
             [
              0.3333333333333333,
              "#9c179e"
             ],
             [
              0.4444444444444444,
              "#bd3786"
             ],
             [
              0.5555555555555556,
              "#d8576b"
             ],
             [
              0.6666666666666666,
              "#ed7953"
             ],
             [
              0.7777777777777778,
              "#fb9f3a"
             ],
             [
              0.8888888888888888,
              "#fdca26"
             ],
             [
              1,
              "#f0f921"
             ]
            ],
            "type": "heatmapgl"
           }
          ],
          "histogram": [
           {
            "marker": {
             "colorbar": {
              "outlinewidth": 0,
              "ticks": ""
             }
            },
            "type": "histogram"
           }
          ],
          "histogram2d": [
           {
            "colorbar": {
             "outlinewidth": 0,
             "ticks": ""
            },
            "colorscale": [
             [
              0,
              "#0d0887"
             ],
             [
              0.1111111111111111,
              "#46039f"
             ],
             [
              0.2222222222222222,
              "#7201a8"
             ],
             [
              0.3333333333333333,
              "#9c179e"
             ],
             [
              0.4444444444444444,
              "#bd3786"
             ],
             [
              0.5555555555555556,
              "#d8576b"
             ],
             [
              0.6666666666666666,
              "#ed7953"
             ],
             [
              0.7777777777777778,
              "#fb9f3a"
             ],
             [
              0.8888888888888888,
              "#fdca26"
             ],
             [
              1,
              "#f0f921"
             ]
            ],
            "type": "histogram2d"
           }
          ],
          "histogram2dcontour": [
           {
            "colorbar": {
             "outlinewidth": 0,
             "ticks": ""
            },
            "colorscale": [
             [
              0,
              "#0d0887"
             ],
             [
              0.1111111111111111,
              "#46039f"
             ],
             [
              0.2222222222222222,
              "#7201a8"
             ],
             [
              0.3333333333333333,
              "#9c179e"
             ],
             [
              0.4444444444444444,
              "#bd3786"
             ],
             [
              0.5555555555555556,
              "#d8576b"
             ],
             [
              0.6666666666666666,
              "#ed7953"
             ],
             [
              0.7777777777777778,
              "#fb9f3a"
             ],
             [
              0.8888888888888888,
              "#fdca26"
             ],
             [
              1,
              "#f0f921"
             ]
            ],
            "type": "histogram2dcontour"
           }
          ],
          "mesh3d": [
           {
            "colorbar": {
             "outlinewidth": 0,
             "ticks": ""
            },
            "type": "mesh3d"
           }
          ],
          "parcoords": [
           {
            "line": {
             "colorbar": {
              "outlinewidth": 0,
              "ticks": ""
             }
            },
            "type": "parcoords"
           }
          ],
          "pie": [
           {
            "automargin": true,
            "type": "pie"
           }
          ],
          "scatter": [
           {
            "marker": {
             "colorbar": {
              "outlinewidth": 0,
              "ticks": ""
             }
            },
            "type": "scatter"
           }
          ],
          "scatter3d": [
           {
            "line": {
             "colorbar": {
              "outlinewidth": 0,
              "ticks": ""
             }
            },
            "marker": {
             "colorbar": {
              "outlinewidth": 0,
              "ticks": ""
             }
            },
            "type": "scatter3d"
           }
          ],
          "scattercarpet": [
           {
            "marker": {
             "colorbar": {
              "outlinewidth": 0,
              "ticks": ""
             }
            },
            "type": "scattercarpet"
           }
          ],
          "scattergeo": [
           {
            "marker": {
             "colorbar": {
              "outlinewidth": 0,
              "ticks": ""
             }
            },
            "type": "scattergeo"
           }
          ],
          "scattergl": [
           {
            "marker": {
             "colorbar": {
              "outlinewidth": 0,
              "ticks": ""
             }
            },
            "type": "scattergl"
           }
          ],
          "scattermapbox": [
           {
            "marker": {
             "colorbar": {
              "outlinewidth": 0,
              "ticks": ""
             }
            },
            "type": "scattermapbox"
           }
          ],
          "scatterpolar": [
           {
            "marker": {
             "colorbar": {
              "outlinewidth": 0,
              "ticks": ""
             }
            },
            "type": "scatterpolar"
           }
          ],
          "scatterpolargl": [
           {
            "marker": {
             "colorbar": {
              "outlinewidth": 0,
              "ticks": ""
             }
            },
            "type": "scatterpolargl"
           }
          ],
          "scatterternary": [
           {
            "marker": {
             "colorbar": {
              "outlinewidth": 0,
              "ticks": ""
             }
            },
            "type": "scatterternary"
           }
          ],
          "surface": [
           {
            "colorbar": {
             "outlinewidth": 0,
             "ticks": ""
            },
            "colorscale": [
             [
              0,
              "#0d0887"
             ],
             [
              0.1111111111111111,
              "#46039f"
             ],
             [
              0.2222222222222222,
              "#7201a8"
             ],
             [
              0.3333333333333333,
              "#9c179e"
             ],
             [
              0.4444444444444444,
              "#bd3786"
             ],
             [
              0.5555555555555556,
              "#d8576b"
             ],
             [
              0.6666666666666666,
              "#ed7953"
             ],
             [
              0.7777777777777778,
              "#fb9f3a"
             ],
             [
              0.8888888888888888,
              "#fdca26"
             ],
             [
              1,
              "#f0f921"
             ]
            ],
            "type": "surface"
           }
          ],
          "table": [
           {
            "cells": {
             "fill": {
              "color": "#EBF0F8"
             },
             "line": {
              "color": "white"
             }
            },
            "header": {
             "fill": {
              "color": "#C8D4E3"
             },
             "line": {
              "color": "white"
             }
            },
            "type": "table"
           }
          ]
         },
         "layout": {
          "annotationdefaults": {
           "arrowcolor": "#2a3f5f",
           "arrowhead": 0,
           "arrowwidth": 1
          },
          "coloraxis": {
           "colorbar": {
            "outlinewidth": 0,
            "ticks": ""
           }
          },
          "colorscale": {
           "diverging": [
            [
             0,
             "#8e0152"
            ],
            [
             0.1,
             "#c51b7d"
            ],
            [
             0.2,
             "#de77ae"
            ],
            [
             0.3,
             "#f1b6da"
            ],
            [
             0.4,
             "#fde0ef"
            ],
            [
             0.5,
             "#f7f7f7"
            ],
            [
             0.6,
             "#e6f5d0"
            ],
            [
             0.7,
             "#b8e186"
            ],
            [
             0.8,
             "#7fbc41"
            ],
            [
             0.9,
             "#4d9221"
            ],
            [
             1,
             "#276419"
            ]
           ],
           "sequential": [
            [
             0,
             "#0d0887"
            ],
            [
             0.1111111111111111,
             "#46039f"
            ],
            [
             0.2222222222222222,
             "#7201a8"
            ],
            [
             0.3333333333333333,
             "#9c179e"
            ],
            [
             0.4444444444444444,
             "#bd3786"
            ],
            [
             0.5555555555555556,
             "#d8576b"
            ],
            [
             0.6666666666666666,
             "#ed7953"
            ],
            [
             0.7777777777777778,
             "#fb9f3a"
            ],
            [
             0.8888888888888888,
             "#fdca26"
            ],
            [
             1,
             "#f0f921"
            ]
           ],
           "sequentialminus": [
            [
             0,
             "#0d0887"
            ],
            [
             0.1111111111111111,
             "#46039f"
            ],
            [
             0.2222222222222222,
             "#7201a8"
            ],
            [
             0.3333333333333333,
             "#9c179e"
            ],
            [
             0.4444444444444444,
             "#bd3786"
            ],
            [
             0.5555555555555556,
             "#d8576b"
            ],
            [
             0.6666666666666666,
             "#ed7953"
            ],
            [
             0.7777777777777778,
             "#fb9f3a"
            ],
            [
             0.8888888888888888,
             "#fdca26"
            ],
            [
             1,
             "#f0f921"
            ]
           ]
          },
          "colorway": [
           "#636efa",
           "#EF553B",
           "#00cc96",
           "#ab63fa",
           "#FFA15A",
           "#19d3f3",
           "#FF6692",
           "#B6E880",
           "#FF97FF",
           "#FECB52"
          ],
          "font": {
           "color": "#2a3f5f"
          },
          "geo": {
           "bgcolor": "white",
           "lakecolor": "white",
           "landcolor": "#E5ECF6",
           "showlakes": true,
           "showland": true,
           "subunitcolor": "white"
          },
          "hoverlabel": {
           "align": "left"
          },
          "hovermode": "closest",
          "mapbox": {
           "style": "light"
          },
          "paper_bgcolor": "white",
          "plot_bgcolor": "#E5ECF6",
          "polar": {
           "angularaxis": {
            "gridcolor": "white",
            "linecolor": "white",
            "ticks": ""
           },
           "bgcolor": "#E5ECF6",
           "radialaxis": {
            "gridcolor": "white",
            "linecolor": "white",
            "ticks": ""
           }
          },
          "scene": {
           "xaxis": {
            "backgroundcolor": "#E5ECF6",
            "gridcolor": "white",
            "gridwidth": 2,
            "linecolor": "white",
            "showbackground": true,
            "ticks": "",
            "zerolinecolor": "white"
           },
           "yaxis": {
            "backgroundcolor": "#E5ECF6",
            "gridcolor": "white",
            "gridwidth": 2,
            "linecolor": "white",
            "showbackground": true,
            "ticks": "",
            "zerolinecolor": "white"
           },
           "zaxis": {
            "backgroundcolor": "#E5ECF6",
            "gridcolor": "white",
            "gridwidth": 2,
            "linecolor": "white",
            "showbackground": true,
            "ticks": "",
            "zerolinecolor": "white"
           }
          },
          "shapedefaults": {
           "line": {
            "color": "#2a3f5f"
           }
          },
          "ternary": {
           "aaxis": {
            "gridcolor": "white",
            "linecolor": "white",
            "ticks": ""
           },
           "baxis": {
            "gridcolor": "white",
            "linecolor": "white",
            "ticks": ""
           },
           "bgcolor": "#E5ECF6",
           "caxis": {
            "gridcolor": "white",
            "linecolor": "white",
            "ticks": ""
           }
          },
          "title": {
           "x": 0.05
          },
          "xaxis": {
           "automargin": true,
           "gridcolor": "white",
           "linecolor": "white",
           "ticks": "",
           "title": {
            "standoff": 15
           },
           "zerolinecolor": "white",
           "zerolinewidth": 2
          },
          "yaxis": {
           "automargin": true,
           "gridcolor": "white",
           "linecolor": "white",
           "ticks": "",
           "title": {
            "standoff": 15
           },
           "zerolinecolor": "white",
           "zerolinewidth": 2
          }
         }
        },
        "width": 700,
        "yaxis": {
         "range": [
          -5,
          105
         ]
        }
       },
       "_model_module_version": "^4.8.0",
       "_py2js_animate": {},
       "_py2js_deleteTraces": {},
       "_py2js_moveTraces": {},
       "_py2js_removeLayoutProps": {},
       "_py2js_removeTraceProps": {},
       "_py2js_restyle": {},
       "_view_count": 0,
       "_view_module_version": "^4.8.0"
      }
     },
     "ad256646c13b40f68e42905bbebdedf2": {
      "buffers": [
       {
        "data": "AAAAAAAA+H8zxICZYV/pPxpiwMywr/w/DTFgZthXBkANMWBm2FcOQIYYMDPsKxNAAAAAAAAA+H8=",
        "encoding": "base64",
        "path": [
         "_data",
         0,
         "y",
         "value"
        ]
       },
       {
        "data": "AAAAAAAA+H/zzp+ZJ6gBQPPOn5knqAlAeufPzBPUEEB658/ME9QUQHrnz8wT1BhAAAAAAAAA+H8=",
        "encoding": "base64",
        "path": [
         "_data",
         1,
         "y",
         "value"
        ]
       },
       {
        "data": "AAAAAAAA+H8AAAAAAAD4PwAAAAAAAARAAAAAAAAADEAAAAAAAAASQAAAAAAAABZAAAAAAAAA+H8=",
        "encoding": "base64",
        "path": [
         "_data",
         2,
         "y",
         "value"
        ]
       },
       {
        "data": "AAAAAAAA8D8AAAAAAAAAQAAAAAAAAAhAAAAAAAAAEEAAAAAAAAAUQAAAAAAAABhAAAAAAAAA+H8=",
        "encoding": "base64",
        "path": [
         "_data",
         3,
         "y",
         "value"
        ]
       }
      ],
      "model_module": "plotlywidget",
      "model_module_version": "^4.8.0",
      "model_name": "FigureModel",
      "state": {
       "_config": {
        "plotlyServerURL": "https://plot.ly"
       },
       "_data": [
        {
         "line": {
          "color": "grey",
          "width": 0
         },
         "mode": "lines",
         "name": "Lower Band (bb)",
         "showlegend": false,
         "type": "scatter",
         "uid": "adecdf66-4ac9-4eac-ac09-d9207af6c433",
         "x": [
          "2018-01-01T00:00:00.000000",
          "2018-01-02T00:00:00.000000",
          "2018-01-03T00:00:00.000000",
          "2018-01-04T00:00:00.000000",
          "2018-01-05T00:00:00.000000",
          "2018-01-06T00:00:00.000000",
          "2018-01-07T00:00:00.000000"
         ],
         "y": {
          "dtype": "float64",
          "shape": [
           7
          ]
         }
        },
        {
         "fill": "tonexty",
         "fillcolor": "rgba(128, 128, 128, 0.25)",
         "line": {
          "color": "grey",
          "width": 0
         },
         "mode": "lines",
         "name": "Upper Band (bb)",
         "showlegend": false,
         "type": "scatter",
         "uid": "e1177592-2c3c-4976-9119-b0ce5471a547",
         "x": [
          "2018-01-01T00:00:00.000000",
          "2018-01-02T00:00:00.000000",
          "2018-01-03T00:00:00.000000",
          "2018-01-04T00:00:00.000000",
          "2018-01-05T00:00:00.000000",
          "2018-01-06T00:00:00.000000",
          "2018-01-07T00:00:00.000000"
         ],
         "y": {
          "dtype": "float64",
          "shape": [
           7
          ]
         }
        },
        {
         "line": {
          "color": "#ff7f0e"
         },
         "mode": "lines",
         "name": "MA (bb)",
         "showlegend": true,
         "type": "scatter",
         "uid": "2dd929c8-b06c-44b9-9cf2-c2608ab54c8b",
         "x": [
          "2018-01-01T00:00:00.000000",
          "2018-01-02T00:00:00.000000",
          "2018-01-03T00:00:00.000000",
          "2018-01-04T00:00:00.000000",
          "2018-01-05T00:00:00.000000",
          "2018-01-06T00:00:00.000000",
          "2018-01-07T00:00:00.000000"
         ],
         "y": {
          "dtype": "float64",
          "shape": [
           7
          ]
         }
        },
        {
         "line": {
          "color": "#1f77b4"
         },
         "mode": "lines",
         "name": "Price (bb)",
         "showlegend": true,
         "type": "scatter",
         "uid": "05d4bd96-019d-428e-bb89-ee40c7be4065",
         "x": [
          "2018-01-01T00:00:00.000000",
          "2018-01-02T00:00:00.000000",
          "2018-01-03T00:00:00.000000",
          "2018-01-04T00:00:00.000000",
          "2018-01-05T00:00:00.000000",
          "2018-01-06T00:00:00.000000",
          "2018-01-07T00:00:00.000000"
         ],
         "y": {
          "dtype": "float64",
          "shape": [
           7
          ]
         }
        }
       ],
       "_js2py_layoutDelta": {},
       "_js2py_pointsCallback": {},
       "_js2py_relayout": {},
       "_js2py_restyle": {},
       "_js2py_traceDeltas": {},
       "_js2py_update": {},
       "_last_layout_edit_id": 5,
       "_last_trace_edit_id": 5,
       "_layout": {
        "autosize": false,
        "colorway": [
         "#1f77b4",
         "#ff7f0e",
         "#2ca02c",
         "#dc3912",
         "#9467bd",
         "#8c564b",
         "#e377c2",
         "#7f7f7f",
         "#bcbd22",
         "#17becf"
        ],
        "height": 300,
        "hovermode": "closest",
        "margin": {
         "b": 30,
         "t": 30
        },
        "template": {
         "data": {
          "bar": [
           {
            "error_x": {
             "color": "#2a3f5f"
            },
            "error_y": {
             "color": "#2a3f5f"
            },
            "marker": {
             "line": {
              "color": "#E5ECF6",
              "width": 0.5
             }
            },
            "type": "bar"
           }
          ],
          "barpolar": [
           {
            "marker": {
             "line": {
              "color": "#E5ECF6",
              "width": 0.5
             }
            },
            "type": "barpolar"
           }
          ],
          "carpet": [
           {
            "aaxis": {
             "endlinecolor": "#2a3f5f",
             "gridcolor": "white",
             "linecolor": "white",
             "minorgridcolor": "white",
             "startlinecolor": "#2a3f5f"
            },
            "baxis": {
             "endlinecolor": "#2a3f5f",
             "gridcolor": "white",
             "linecolor": "white",
             "minorgridcolor": "white",
             "startlinecolor": "#2a3f5f"
            },
            "type": "carpet"
           }
          ],
          "choropleth": [
           {
            "colorbar": {
             "outlinewidth": 0,
             "ticks": ""
            },
            "type": "choropleth"
           }
          ],
          "contour": [
           {
            "colorbar": {
             "outlinewidth": 0,
             "ticks": ""
            },
            "colorscale": [
             [
              0,
              "#0d0887"
             ],
             [
              0.1111111111111111,
              "#46039f"
             ],
             [
              0.2222222222222222,
              "#7201a8"
             ],
             [
              0.3333333333333333,
              "#9c179e"
             ],
             [
              0.4444444444444444,
              "#bd3786"
             ],
             [
              0.5555555555555556,
              "#d8576b"
             ],
             [
              0.6666666666666666,
              "#ed7953"
             ],
             [
              0.7777777777777778,
              "#fb9f3a"
             ],
             [
              0.8888888888888888,
              "#fdca26"
             ],
             [
              1,
              "#f0f921"
             ]
            ],
            "type": "contour"
           }
          ],
          "contourcarpet": [
           {
            "colorbar": {
             "outlinewidth": 0,
             "ticks": ""
            },
            "type": "contourcarpet"
           }
          ],
          "heatmap": [
           {
            "colorbar": {
             "outlinewidth": 0,
             "ticks": ""
            },
            "colorscale": [
             [
              0,
              "#0d0887"
             ],
             [
              0.1111111111111111,
              "#46039f"
             ],
             [
              0.2222222222222222,
              "#7201a8"
             ],
             [
              0.3333333333333333,
              "#9c179e"
             ],
             [
              0.4444444444444444,
              "#bd3786"
             ],
             [
              0.5555555555555556,
              "#d8576b"
             ],
             [
              0.6666666666666666,
              "#ed7953"
             ],
             [
              0.7777777777777778,
              "#fb9f3a"
             ],
             [
              0.8888888888888888,
              "#fdca26"
             ],
             [
              1,
              "#f0f921"
             ]
            ],
            "type": "heatmap"
           }
          ],
          "heatmapgl": [
           {
            "colorbar": {
             "outlinewidth": 0,
             "ticks": ""
            },
            "colorscale": [
             [
              0,
              "#0d0887"
             ],
             [
              0.1111111111111111,
              "#46039f"
             ],
             [
              0.2222222222222222,
              "#7201a8"
             ],
             [
              0.3333333333333333,
              "#9c179e"
             ],
             [
              0.4444444444444444,
              "#bd3786"
             ],
             [
              0.5555555555555556,
              "#d8576b"
             ],
             [
              0.6666666666666666,
              "#ed7953"
             ],
             [
              0.7777777777777778,
              "#fb9f3a"
             ],
             [
              0.8888888888888888,
              "#fdca26"
             ],
             [
              1,
              "#f0f921"
             ]
            ],
            "type": "heatmapgl"
           }
          ],
          "histogram": [
           {
            "marker": {
             "colorbar": {
              "outlinewidth": 0,
              "ticks": ""
             }
            },
            "type": "histogram"
           }
          ],
          "histogram2d": [
           {
            "colorbar": {
             "outlinewidth": 0,
             "ticks": ""
            },
            "colorscale": [
             [
              0,
              "#0d0887"
             ],
             [
              0.1111111111111111,
              "#46039f"
             ],
             [
              0.2222222222222222,
              "#7201a8"
             ],
             [
              0.3333333333333333,
              "#9c179e"
             ],
             [
              0.4444444444444444,
              "#bd3786"
             ],
             [
              0.5555555555555556,
              "#d8576b"
             ],
             [
              0.6666666666666666,
              "#ed7953"
             ],
             [
              0.7777777777777778,
              "#fb9f3a"
             ],
             [
              0.8888888888888888,
              "#fdca26"
             ],
             [
              1,
              "#f0f921"
             ]
            ],
            "type": "histogram2d"
           }
          ],
          "histogram2dcontour": [
           {
            "colorbar": {
             "outlinewidth": 0,
             "ticks": ""
            },
            "colorscale": [
             [
              0,
              "#0d0887"
             ],
             [
              0.1111111111111111,
              "#46039f"
             ],
             [
              0.2222222222222222,
              "#7201a8"
             ],
             [
              0.3333333333333333,
              "#9c179e"
             ],
             [
              0.4444444444444444,
              "#bd3786"
             ],
             [
              0.5555555555555556,
              "#d8576b"
             ],
             [
              0.6666666666666666,
              "#ed7953"
             ],
             [
              0.7777777777777778,
              "#fb9f3a"
             ],
             [
              0.8888888888888888,
              "#fdca26"
             ],
             [
              1,
              "#f0f921"
             ]
            ],
            "type": "histogram2dcontour"
           }
          ],
          "mesh3d": [
           {
            "colorbar": {
             "outlinewidth": 0,
             "ticks": ""
            },
            "type": "mesh3d"
           }
          ],
          "parcoords": [
           {
            "line": {
             "colorbar": {
              "outlinewidth": 0,
              "ticks": ""
             }
            },
            "type": "parcoords"
           }
          ],
          "pie": [
           {
            "automargin": true,
            "type": "pie"
           }
          ],
          "scatter": [
           {
            "marker": {
             "colorbar": {
              "outlinewidth": 0,
              "ticks": ""
             }
            },
            "type": "scatter"
           }
          ],
          "scatter3d": [
           {
            "line": {
             "colorbar": {
              "outlinewidth": 0,
              "ticks": ""
             }
            },
            "marker": {
             "colorbar": {
              "outlinewidth": 0,
              "ticks": ""
             }
            },
            "type": "scatter3d"
           }
          ],
          "scattercarpet": [
           {
            "marker": {
             "colorbar": {
              "outlinewidth": 0,
              "ticks": ""
             }
            },
            "type": "scattercarpet"
           }
          ],
          "scattergeo": [
           {
            "marker": {
             "colorbar": {
              "outlinewidth": 0,
              "ticks": ""
             }
            },
            "type": "scattergeo"
           }
          ],
          "scattergl": [
           {
            "marker": {
             "colorbar": {
              "outlinewidth": 0,
              "ticks": ""
             }
            },
            "type": "scattergl"
           }
          ],
          "scattermapbox": [
           {
            "marker": {
             "colorbar": {
              "outlinewidth": 0,
              "ticks": ""
             }
            },
            "type": "scattermapbox"
           }
          ],
          "scatterpolar": [
           {
            "marker": {
             "colorbar": {
              "outlinewidth": 0,
              "ticks": ""
             }
            },
            "type": "scatterpolar"
           }
          ],
          "scatterpolargl": [
           {
            "marker": {
             "colorbar": {
              "outlinewidth": 0,
              "ticks": ""
             }
            },
            "type": "scatterpolargl"
           }
          ],
          "scatterternary": [
           {
            "marker": {
             "colorbar": {
              "outlinewidth": 0,
              "ticks": ""
             }
            },
            "type": "scatterternary"
           }
          ],
          "surface": [
           {
            "colorbar": {
             "outlinewidth": 0,
             "ticks": ""
            },
            "colorscale": [
             [
              0,
              "#0d0887"
             ],
             [
              0.1111111111111111,
              "#46039f"
             ],
             [
              0.2222222222222222,
              "#7201a8"
             ],
             [
              0.3333333333333333,
              "#9c179e"
             ],
             [
              0.4444444444444444,
              "#bd3786"
             ],
             [
              0.5555555555555556,
              "#d8576b"
             ],
             [
              0.6666666666666666,
              "#ed7953"
             ],
             [
              0.7777777777777778,
              "#fb9f3a"
             ],
             [
              0.8888888888888888,
              "#fdca26"
             ],
             [
              1,
              "#f0f921"
             ]
            ],
            "type": "surface"
           }
          ],
          "table": [
           {
            "cells": {
             "fill": {
              "color": "#EBF0F8"
             },
             "line": {
              "color": "white"
             }
            },
            "header": {
             "fill": {
              "color": "#C8D4E3"
             },
             "line": {
              "color": "white"
             }
            },
            "type": "table"
           }
          ]
         },
         "layout": {
          "annotationdefaults": {
           "arrowcolor": "#2a3f5f",
           "arrowhead": 0,
           "arrowwidth": 1
          },
          "coloraxis": {
           "colorbar": {
            "outlinewidth": 0,
            "ticks": ""
           }
          },
          "colorscale": {
           "diverging": [
            [
             0,
             "#8e0152"
            ],
            [
             0.1,
             "#c51b7d"
            ],
            [
             0.2,
             "#de77ae"
            ],
            [
             0.3,
             "#f1b6da"
            ],
            [
             0.4,
             "#fde0ef"
            ],
            [
             0.5,
             "#f7f7f7"
            ],
            [
             0.6,
             "#e6f5d0"
            ],
            [
             0.7,
             "#b8e186"
            ],
            [
             0.8,
             "#7fbc41"
            ],
            [
             0.9,
             "#4d9221"
            ],
            [
             1,
             "#276419"
            ]
           ],
           "sequential": [
            [
             0,
             "#0d0887"
            ],
            [
             0.1111111111111111,
             "#46039f"
            ],
            [
             0.2222222222222222,
             "#7201a8"
            ],
            [
             0.3333333333333333,
             "#9c179e"
            ],
            [
             0.4444444444444444,
             "#bd3786"
            ],
            [
             0.5555555555555556,
             "#d8576b"
            ],
            [
             0.6666666666666666,
             "#ed7953"
            ],
            [
             0.7777777777777778,
             "#fb9f3a"
            ],
            [
             0.8888888888888888,
             "#fdca26"
            ],
            [
             1,
             "#f0f921"
            ]
           ],
           "sequentialminus": [
            [
             0,
             "#0d0887"
            ],
            [
             0.1111111111111111,
             "#46039f"
            ],
            [
             0.2222222222222222,
             "#7201a8"
            ],
            [
             0.3333333333333333,
             "#9c179e"
            ],
            [
             0.4444444444444444,
             "#bd3786"
            ],
            [
             0.5555555555555556,
             "#d8576b"
            ],
            [
             0.6666666666666666,
             "#ed7953"
            ],
            [
             0.7777777777777778,
             "#fb9f3a"
            ],
            [
             0.8888888888888888,
             "#fdca26"
            ],
            [
             1,
             "#f0f921"
            ]
           ]
          },
          "colorway": [
           "#636efa",
           "#EF553B",
           "#00cc96",
           "#ab63fa",
           "#FFA15A",
           "#19d3f3",
           "#FF6692",
           "#B6E880",
           "#FF97FF",
           "#FECB52"
          ],
          "font": {
           "color": "#2a3f5f"
          },
          "geo": {
           "bgcolor": "white",
           "lakecolor": "white",
           "landcolor": "#E5ECF6",
           "showlakes": true,
           "showland": true,
           "subunitcolor": "white"
          },
          "hoverlabel": {
           "align": "left"
          },
          "hovermode": "closest",
          "mapbox": {
           "style": "light"
          },
          "paper_bgcolor": "white",
          "plot_bgcolor": "#E5ECF6",
          "polar": {
           "angularaxis": {
            "gridcolor": "white",
            "linecolor": "white",
            "ticks": ""
           },
           "bgcolor": "#E5ECF6",
           "radialaxis": {
            "gridcolor": "white",
            "linecolor": "white",
            "ticks": ""
           }
          },
          "scene": {
           "xaxis": {
            "backgroundcolor": "#E5ECF6",
            "gridcolor": "white",
            "gridwidth": 2,
            "linecolor": "white",
            "showbackground": true,
            "ticks": "",
            "zerolinecolor": "white"
           },
           "yaxis": {
            "backgroundcolor": "#E5ECF6",
            "gridcolor": "white",
            "gridwidth": 2,
            "linecolor": "white",
            "showbackground": true,
            "ticks": "",
            "zerolinecolor": "white"
           },
           "zaxis": {
            "backgroundcolor": "#E5ECF6",
            "gridcolor": "white",
            "gridwidth": 2,
            "linecolor": "white",
            "showbackground": true,
            "ticks": "",
            "zerolinecolor": "white"
           }
          },
          "shapedefaults": {
           "line": {
            "color": "#2a3f5f"
           }
          },
          "ternary": {
           "aaxis": {
            "gridcolor": "white",
            "linecolor": "white",
            "ticks": ""
           },
           "baxis": {
            "gridcolor": "white",
            "linecolor": "white",
            "ticks": ""
           },
           "bgcolor": "#E5ECF6",
           "caxis": {
            "gridcolor": "white",
            "linecolor": "white",
            "ticks": ""
           }
          },
          "title": {
           "x": 0.05
          },
          "xaxis": {
           "automargin": true,
           "gridcolor": "white",
           "linecolor": "white",
           "ticks": "",
           "title": {
            "standoff": 15
           },
           "zerolinecolor": "white",
           "zerolinewidth": 2
          },
          "yaxis": {
           "automargin": true,
           "gridcolor": "white",
           "linecolor": "white",
           "ticks": "",
           "title": {
            "standoff": 15
           },
           "zerolinecolor": "white",
           "zerolinewidth": 2
          }
         }
        },
        "width": 700
       },
       "_model_module_version": "^4.8.0",
       "_py2js_animate": {},
       "_py2js_deleteTraces": {},
       "_py2js_moveTraces": {},
       "_py2js_removeLayoutProps": {},
       "_py2js_removeTraceProps": {},
       "_py2js_restyle": {},
       "_view_count": 0,
       "_view_module_version": "^4.8.0"
      }
     },
     "ca005f2918a64903ae9c34f5106f9ddb": {
      "buffers": [
       {
        "data": "AAAAAAAA+H/NO39mnqDmP807f2aeoOY/zTt/Zp6g5j/NO39mnqDmP807f2aeoOY/AAAAAAAA+H8=",
        "encoding": "base64",
        "path": [
         "_data",
         0,
         "y",
         "value"
        ]
       }
      ],
      "model_module": "plotlywidget",
      "model_module_version": "^4.8.0",
      "model_name": "FigureModel",
      "state": {
       "_config": {
        "plotlyServerURL": "https://plot.ly"
       },
       "_data": [
        {
         "mode": "lines",
         "name": "MSTD (mstd)",
         "showlegend": true,
         "type": "scatter",
         "uid": "a8d6e221-84db-4f4a-97c0-c1945665ceff",
         "x": [
          "2018-01-01T00:00:00.000000",
          "2018-01-02T00:00:00.000000",
          "2018-01-03T00:00:00.000000",
          "2018-01-04T00:00:00.000000",
          "2018-01-05T00:00:00.000000",
          "2018-01-06T00:00:00.000000",
          "2018-01-07T00:00:00.000000"
         ],
         "y": {
          "dtype": "float64",
          "shape": [
           7
          ]
         }
        }
       ],
       "_js2py_layoutDelta": {},
       "_js2py_pointsCallback": {},
       "_js2py_relayout": {},
       "_js2py_restyle": {},
       "_js2py_traceDeltas": {},
       "_js2py_update": {},
       "_last_layout_edit_id": 2,
       "_last_trace_edit_id": 2,
       "_layout": {
        "autosize": false,
        "colorway": [
         "#1f77b4",
         "#ff7f0e",
         "#2ca02c",
         "#dc3912",
         "#9467bd",
         "#8c564b",
         "#e377c2",
         "#7f7f7f",
         "#bcbd22",
         "#17becf"
        ],
        "height": 300,
        "hovermode": "closest",
        "margin": {
         "b": 30,
         "t": 30
        },
        "template": {
         "data": {
          "bar": [
           {
            "error_x": {
             "color": "#2a3f5f"
            },
            "error_y": {
             "color": "#2a3f5f"
            },
            "marker": {
             "line": {
              "color": "#E5ECF6",
              "width": 0.5
             }
            },
            "type": "bar"
           }
          ],
          "barpolar": [
           {
            "marker": {
             "line": {
              "color": "#E5ECF6",
              "width": 0.5
             }
            },
            "type": "barpolar"
           }
          ],
          "carpet": [
           {
            "aaxis": {
             "endlinecolor": "#2a3f5f",
             "gridcolor": "white",
             "linecolor": "white",
             "minorgridcolor": "white",
             "startlinecolor": "#2a3f5f"
            },
            "baxis": {
             "endlinecolor": "#2a3f5f",
             "gridcolor": "white",
             "linecolor": "white",
             "minorgridcolor": "white",
             "startlinecolor": "#2a3f5f"
            },
            "type": "carpet"
           }
          ],
          "choropleth": [
           {
            "colorbar": {
             "outlinewidth": 0,
             "ticks": ""
            },
            "type": "choropleth"
           }
          ],
          "contour": [
           {
            "colorbar": {
             "outlinewidth": 0,
             "ticks": ""
            },
            "colorscale": [
             [
              0,
              "#0d0887"
             ],
             [
              0.1111111111111111,
              "#46039f"
             ],
             [
              0.2222222222222222,
              "#7201a8"
             ],
             [
              0.3333333333333333,
              "#9c179e"
             ],
             [
              0.4444444444444444,
              "#bd3786"
             ],
             [
              0.5555555555555556,
              "#d8576b"
             ],
             [
              0.6666666666666666,
              "#ed7953"
             ],
             [
              0.7777777777777778,
              "#fb9f3a"
             ],
             [
              0.8888888888888888,
              "#fdca26"
             ],
             [
              1,
              "#f0f921"
             ]
            ],
            "type": "contour"
           }
          ],
          "contourcarpet": [
           {
            "colorbar": {
             "outlinewidth": 0,
             "ticks": ""
            },
            "type": "contourcarpet"
           }
          ],
          "heatmap": [
           {
            "colorbar": {
             "outlinewidth": 0,
             "ticks": ""
            },
            "colorscale": [
             [
              0,
              "#0d0887"
             ],
             [
              0.1111111111111111,
              "#46039f"
             ],
             [
              0.2222222222222222,
              "#7201a8"
             ],
             [
              0.3333333333333333,
              "#9c179e"
             ],
             [
              0.4444444444444444,
              "#bd3786"
             ],
             [
              0.5555555555555556,
              "#d8576b"
             ],
             [
              0.6666666666666666,
              "#ed7953"
             ],
             [
              0.7777777777777778,
              "#fb9f3a"
             ],
             [
              0.8888888888888888,
              "#fdca26"
             ],
             [
              1,
              "#f0f921"
             ]
            ],
            "type": "heatmap"
           }
          ],
          "heatmapgl": [
           {
            "colorbar": {
             "outlinewidth": 0,
             "ticks": ""
            },
            "colorscale": [
             [
              0,
              "#0d0887"
             ],
             [
              0.1111111111111111,
              "#46039f"
             ],
             [
              0.2222222222222222,
              "#7201a8"
             ],
             [
              0.3333333333333333,
              "#9c179e"
             ],
             [
              0.4444444444444444,
              "#bd3786"
             ],
             [
              0.5555555555555556,
              "#d8576b"
             ],
             [
              0.6666666666666666,
              "#ed7953"
             ],
             [
              0.7777777777777778,
              "#fb9f3a"
             ],
             [
              0.8888888888888888,
              "#fdca26"
             ],
             [
              1,
              "#f0f921"
             ]
            ],
            "type": "heatmapgl"
           }
          ],
          "histogram": [
           {
            "marker": {
             "colorbar": {
              "outlinewidth": 0,
              "ticks": ""
             }
            },
            "type": "histogram"
           }
          ],
          "histogram2d": [
           {
            "colorbar": {
             "outlinewidth": 0,
             "ticks": ""
            },
            "colorscale": [
             [
              0,
              "#0d0887"
             ],
             [
              0.1111111111111111,
              "#46039f"
             ],
             [
              0.2222222222222222,
              "#7201a8"
             ],
             [
              0.3333333333333333,
              "#9c179e"
             ],
             [
              0.4444444444444444,
              "#bd3786"
             ],
             [
              0.5555555555555556,
              "#d8576b"
             ],
             [
              0.6666666666666666,
              "#ed7953"
             ],
             [
              0.7777777777777778,
              "#fb9f3a"
             ],
             [
              0.8888888888888888,
              "#fdca26"
             ],
             [
              1,
              "#f0f921"
             ]
            ],
            "type": "histogram2d"
           }
          ],
          "histogram2dcontour": [
           {
            "colorbar": {
             "outlinewidth": 0,
             "ticks": ""
            },
            "colorscale": [
             [
              0,
              "#0d0887"
             ],
             [
              0.1111111111111111,
              "#46039f"
             ],
             [
              0.2222222222222222,
              "#7201a8"
             ],
             [
              0.3333333333333333,
              "#9c179e"
             ],
             [
              0.4444444444444444,
              "#bd3786"
             ],
             [
              0.5555555555555556,
              "#d8576b"
             ],
             [
              0.6666666666666666,
              "#ed7953"
             ],
             [
              0.7777777777777778,
              "#fb9f3a"
             ],
             [
              0.8888888888888888,
              "#fdca26"
             ],
             [
              1,
              "#f0f921"
             ]
            ],
            "type": "histogram2dcontour"
           }
          ],
          "mesh3d": [
           {
            "colorbar": {
             "outlinewidth": 0,
             "ticks": ""
            },
            "type": "mesh3d"
           }
          ],
          "parcoords": [
           {
            "line": {
             "colorbar": {
              "outlinewidth": 0,
              "ticks": ""
             }
            },
            "type": "parcoords"
           }
          ],
          "pie": [
           {
            "automargin": true,
            "type": "pie"
           }
          ],
          "scatter": [
           {
            "marker": {
             "colorbar": {
              "outlinewidth": 0,
              "ticks": ""
             }
            },
            "type": "scatter"
           }
          ],
          "scatter3d": [
           {
            "line": {
             "colorbar": {
              "outlinewidth": 0,
              "ticks": ""
             }
            },
            "marker": {
             "colorbar": {
              "outlinewidth": 0,
              "ticks": ""
             }
            },
            "type": "scatter3d"
           }
          ],
          "scattercarpet": [
           {
            "marker": {
             "colorbar": {
              "outlinewidth": 0,
              "ticks": ""
             }
            },
            "type": "scattercarpet"
           }
          ],
          "scattergeo": [
           {
            "marker": {
             "colorbar": {
              "outlinewidth": 0,
              "ticks": ""
             }
            },
            "type": "scattergeo"
           }
          ],
          "scattergl": [
           {
            "marker": {
             "colorbar": {
              "outlinewidth": 0,
              "ticks": ""
             }
            },
            "type": "scattergl"
           }
          ],
          "scattermapbox": [
           {
            "marker": {
             "colorbar": {
              "outlinewidth": 0,
              "ticks": ""
             }
            },
            "type": "scattermapbox"
           }
          ],
          "scatterpolar": [
           {
            "marker": {
             "colorbar": {
              "outlinewidth": 0,
              "ticks": ""
             }
            },
            "type": "scatterpolar"
           }
          ],
          "scatterpolargl": [
           {
            "marker": {
             "colorbar": {
              "outlinewidth": 0,
              "ticks": ""
             }
            },
            "type": "scatterpolargl"
           }
          ],
          "scatterternary": [
           {
            "marker": {
             "colorbar": {
              "outlinewidth": 0,
              "ticks": ""
             }
            },
            "type": "scatterternary"
           }
          ],
          "surface": [
           {
            "colorbar": {
             "outlinewidth": 0,
             "ticks": ""
            },
            "colorscale": [
             [
              0,
              "#0d0887"
             ],
             [
              0.1111111111111111,
              "#46039f"
             ],
             [
              0.2222222222222222,
              "#7201a8"
             ],
             [
              0.3333333333333333,
              "#9c179e"
             ],
             [
              0.4444444444444444,
              "#bd3786"
             ],
             [
              0.5555555555555556,
              "#d8576b"
             ],
             [
              0.6666666666666666,
              "#ed7953"
             ],
             [
              0.7777777777777778,
              "#fb9f3a"
             ],
             [
              0.8888888888888888,
              "#fdca26"
             ],
             [
              1,
              "#f0f921"
             ]
            ],
            "type": "surface"
           }
          ],
          "table": [
           {
            "cells": {
             "fill": {
              "color": "#EBF0F8"
             },
             "line": {
              "color": "white"
             }
            },
            "header": {
             "fill": {
              "color": "#C8D4E3"
             },
             "line": {
              "color": "white"
             }
            },
            "type": "table"
           }
          ]
         },
         "layout": {
          "annotationdefaults": {
           "arrowcolor": "#2a3f5f",
           "arrowhead": 0,
           "arrowwidth": 1
          },
          "coloraxis": {
           "colorbar": {
            "outlinewidth": 0,
            "ticks": ""
           }
          },
          "colorscale": {
           "diverging": [
            [
             0,
             "#8e0152"
            ],
            [
             0.1,
             "#c51b7d"
            ],
            [
             0.2,
             "#de77ae"
            ],
            [
             0.3,
             "#f1b6da"
            ],
            [
             0.4,
             "#fde0ef"
            ],
            [
             0.5,
             "#f7f7f7"
            ],
            [
             0.6,
             "#e6f5d0"
            ],
            [
             0.7,
             "#b8e186"
            ],
            [
             0.8,
             "#7fbc41"
            ],
            [
             0.9,
             "#4d9221"
            ],
            [
             1,
             "#276419"
            ]
           ],
           "sequential": [
            [
             0,
             "#0d0887"
            ],
            [
             0.1111111111111111,
             "#46039f"
            ],
            [
             0.2222222222222222,
             "#7201a8"
            ],
            [
             0.3333333333333333,
             "#9c179e"
            ],
            [
             0.4444444444444444,
             "#bd3786"
            ],
            [
             0.5555555555555556,
             "#d8576b"
            ],
            [
             0.6666666666666666,
             "#ed7953"
            ],
            [
             0.7777777777777778,
             "#fb9f3a"
            ],
            [
             0.8888888888888888,
             "#fdca26"
            ],
            [
             1,
             "#f0f921"
            ]
           ],
           "sequentialminus": [
            [
             0,
             "#0d0887"
            ],
            [
             0.1111111111111111,
             "#46039f"
            ],
            [
             0.2222222222222222,
             "#7201a8"
            ],
            [
             0.3333333333333333,
             "#9c179e"
            ],
            [
             0.4444444444444444,
             "#bd3786"
            ],
            [
             0.5555555555555556,
             "#d8576b"
            ],
            [
             0.6666666666666666,
             "#ed7953"
            ],
            [
             0.7777777777777778,
             "#fb9f3a"
            ],
            [
             0.8888888888888888,
             "#fdca26"
            ],
            [
             1,
             "#f0f921"
            ]
           ]
          },
          "colorway": [
           "#636efa",
           "#EF553B",
           "#00cc96",
           "#ab63fa",
           "#FFA15A",
           "#19d3f3",
           "#FF6692",
           "#B6E880",
           "#FF97FF",
           "#FECB52"
          ],
          "font": {
           "color": "#2a3f5f"
          },
          "geo": {
           "bgcolor": "white",
           "lakecolor": "white",
           "landcolor": "#E5ECF6",
           "showlakes": true,
           "showland": true,
           "subunitcolor": "white"
          },
          "hoverlabel": {
           "align": "left"
          },
          "hovermode": "closest",
          "mapbox": {
           "style": "light"
          },
          "paper_bgcolor": "white",
          "plot_bgcolor": "#E5ECF6",
          "polar": {
           "angularaxis": {
            "gridcolor": "white",
            "linecolor": "white",
            "ticks": ""
           },
           "bgcolor": "#E5ECF6",
           "radialaxis": {
            "gridcolor": "white",
            "linecolor": "white",
            "ticks": ""
           }
          },
          "scene": {
           "xaxis": {
            "backgroundcolor": "#E5ECF6",
            "gridcolor": "white",
            "gridwidth": 2,
            "linecolor": "white",
            "showbackground": true,
            "ticks": "",
            "zerolinecolor": "white"
           },
           "yaxis": {
            "backgroundcolor": "#E5ECF6",
            "gridcolor": "white",
            "gridwidth": 2,
            "linecolor": "white",
            "showbackground": true,
            "ticks": "",
            "zerolinecolor": "white"
           },
           "zaxis": {
            "backgroundcolor": "#E5ECF6",
            "gridcolor": "white",
            "gridwidth": 2,
            "linecolor": "white",
            "showbackground": true,
            "ticks": "",
            "zerolinecolor": "white"
           }
          },
          "shapedefaults": {
           "line": {
            "color": "#2a3f5f"
           }
          },
          "ternary": {
           "aaxis": {
            "gridcolor": "white",
            "linecolor": "white",
            "ticks": ""
           },
           "baxis": {
            "gridcolor": "white",
            "linecolor": "white",
            "ticks": ""
           },
           "bgcolor": "#E5ECF6",
           "caxis": {
            "gridcolor": "white",
            "linecolor": "white",
            "ticks": ""
           }
          },
          "title": {
           "x": 0.05
          },
          "xaxis": {
           "automargin": true,
           "gridcolor": "white",
           "linecolor": "white",
           "ticks": "",
           "title": {
            "standoff": 15
           },
           "zerolinecolor": "white",
           "zerolinewidth": 2
          },
          "yaxis": {
           "automargin": true,
           "gridcolor": "white",
           "linecolor": "white",
           "ticks": "",
           "title": {
            "standoff": 15
           },
           "zerolinecolor": "white",
           "zerolinewidth": 2
          }
         }
        },
        "width": 700
       },
       "_model_module_version": "^4.8.0",
       "_py2js_animate": {},
       "_py2js_deleteTraces": {},
       "_py2js_moveTraces": {},
       "_py2js_removeLayoutProps": {},
       "_py2js_removeTraceProps": {},
       "_py2js_restyle": {},
       "_view_count": 0,
       "_view_module_version": "^4.8.0"
      }
     },
     "f6cc32075ecf4008bc13b0fa78370a85": {
      "buffers": [
       {
        "data": "nJmZmZmZyT80MzMzMzPzP87MzMzMzPQ/aGZmZmZm9j8AAAAAAAD4P5yZmZmZmfk/AAAAAAAA+H8=",
        "encoding": "base64",
        "path": [
         "_data",
         0,
         "y",
         "value"
        ]
       },
       {
        "data": "AAAAAAAA+H9oZmZmZmbmPwEAAAAAAPQ/nJmZmZmZ9T81MzMzMzP3P87MzMzMzPg/AAAAAAAA+H8=",
        "encoding": "base64",
        "path": [
         "_data",
         1,
         "y",
         "value"
        ]
       }
      ],
      "model_module": "plotlywidget",
      "model_module_version": "^4.8.0",
      "model_name": "FigureModel",
      "state": {
       "_config": {
        "plotlyServerURL": "https://plot.ly"
       },
       "_data": [
        {
         "mode": "lines",
         "name": "TR (atr)",
         "showlegend": true,
         "type": "scatter",
         "uid": "0662eac3-b605-4440-902a-6a4711530227",
         "x": [
          "2018-01-01T00:00:00.000000",
          "2018-01-02T00:00:00.000000",
          "2018-01-03T00:00:00.000000",
          "2018-01-04T00:00:00.000000",
          "2018-01-05T00:00:00.000000",
          "2018-01-06T00:00:00.000000",
          "2018-01-07T00:00:00.000000"
         ],
         "y": {
          "dtype": "float64",
          "shape": [
           7
          ]
         }
        },
        {
         "mode": "lines",
         "name": "ATR (atr)",
         "showlegend": true,
         "type": "scatter",
         "uid": "565c6aa2-8a58-4fab-83ef-6bcfa2df1854",
         "x": [
          "2018-01-01T00:00:00.000000",
          "2018-01-02T00:00:00.000000",
          "2018-01-03T00:00:00.000000",
          "2018-01-04T00:00:00.000000",
          "2018-01-05T00:00:00.000000",
          "2018-01-06T00:00:00.000000",
          "2018-01-07T00:00:00.000000"
         ],
         "y": {
          "dtype": "float64",
          "shape": [
           7
          ]
         }
        }
       ],
       "_js2py_layoutDelta": {},
       "_js2py_pointsCallback": {},
       "_js2py_relayout": {},
       "_js2py_restyle": {},
       "_js2py_traceDeltas": {},
       "_js2py_update": {},
       "_last_layout_edit_id": 3,
       "_last_trace_edit_id": 3,
       "_layout": {
        "autosize": false,
        "colorway": [
         "#1f77b4",
         "#ff7f0e",
         "#2ca02c",
         "#dc3912",
         "#9467bd",
         "#8c564b",
         "#e377c2",
         "#7f7f7f",
         "#bcbd22",
         "#17becf"
        ],
        "height": 300,
        "hovermode": "closest",
        "margin": {
         "b": 30,
         "t": 30
        },
        "template": {
         "data": {
          "bar": [
           {
            "error_x": {
             "color": "#2a3f5f"
            },
            "error_y": {
             "color": "#2a3f5f"
            },
            "marker": {
             "line": {
              "color": "#E5ECF6",
              "width": 0.5
             }
            },
            "type": "bar"
           }
          ],
          "barpolar": [
           {
            "marker": {
             "line": {
              "color": "#E5ECF6",
              "width": 0.5
             }
            },
            "type": "barpolar"
           }
          ],
          "carpet": [
           {
            "aaxis": {
             "endlinecolor": "#2a3f5f",
             "gridcolor": "white",
             "linecolor": "white",
             "minorgridcolor": "white",
             "startlinecolor": "#2a3f5f"
            },
            "baxis": {
             "endlinecolor": "#2a3f5f",
             "gridcolor": "white",
             "linecolor": "white",
             "minorgridcolor": "white",
             "startlinecolor": "#2a3f5f"
            },
            "type": "carpet"
           }
          ],
          "choropleth": [
           {
            "colorbar": {
             "outlinewidth": 0,
             "ticks": ""
            },
            "type": "choropleth"
           }
          ],
          "contour": [
           {
            "colorbar": {
             "outlinewidth": 0,
             "ticks": ""
            },
            "colorscale": [
             [
              0,
              "#0d0887"
             ],
             [
              0.1111111111111111,
              "#46039f"
             ],
             [
              0.2222222222222222,
              "#7201a8"
             ],
             [
              0.3333333333333333,
              "#9c179e"
             ],
             [
              0.4444444444444444,
              "#bd3786"
             ],
             [
              0.5555555555555556,
              "#d8576b"
             ],
             [
              0.6666666666666666,
              "#ed7953"
             ],
             [
              0.7777777777777778,
              "#fb9f3a"
             ],
             [
              0.8888888888888888,
              "#fdca26"
             ],
             [
              1,
              "#f0f921"
             ]
            ],
            "type": "contour"
           }
          ],
          "contourcarpet": [
           {
            "colorbar": {
             "outlinewidth": 0,
             "ticks": ""
            },
            "type": "contourcarpet"
           }
          ],
          "heatmap": [
           {
            "colorbar": {
             "outlinewidth": 0,
             "ticks": ""
            },
            "colorscale": [
             [
              0,
              "#0d0887"
             ],
             [
              0.1111111111111111,
              "#46039f"
             ],
             [
              0.2222222222222222,
              "#7201a8"
             ],
             [
              0.3333333333333333,
              "#9c179e"
             ],
             [
              0.4444444444444444,
              "#bd3786"
             ],
             [
              0.5555555555555556,
              "#d8576b"
             ],
             [
              0.6666666666666666,
              "#ed7953"
             ],
             [
              0.7777777777777778,
              "#fb9f3a"
             ],
             [
              0.8888888888888888,
              "#fdca26"
             ],
             [
              1,
              "#f0f921"
             ]
            ],
            "type": "heatmap"
           }
          ],
          "heatmapgl": [
           {
            "colorbar": {
             "outlinewidth": 0,
             "ticks": ""
            },
            "colorscale": [
             [
              0,
              "#0d0887"
             ],
             [
              0.1111111111111111,
              "#46039f"
             ],
             [
              0.2222222222222222,
              "#7201a8"
             ],
             [
              0.3333333333333333,
              "#9c179e"
             ],
             [
              0.4444444444444444,
              "#bd3786"
             ],
             [
              0.5555555555555556,
              "#d8576b"
             ],
             [
              0.6666666666666666,
              "#ed7953"
             ],
             [
              0.7777777777777778,
              "#fb9f3a"
             ],
             [
              0.8888888888888888,
              "#fdca26"
             ],
             [
              1,
              "#f0f921"
             ]
            ],
            "type": "heatmapgl"
           }
          ],
          "histogram": [
           {
            "marker": {
             "colorbar": {
              "outlinewidth": 0,
              "ticks": ""
             }
            },
            "type": "histogram"
           }
          ],
          "histogram2d": [
           {
            "colorbar": {
             "outlinewidth": 0,
             "ticks": ""
            },
            "colorscale": [
             [
              0,
              "#0d0887"
             ],
             [
              0.1111111111111111,
              "#46039f"
             ],
             [
              0.2222222222222222,
              "#7201a8"
             ],
             [
              0.3333333333333333,
              "#9c179e"
             ],
             [
              0.4444444444444444,
              "#bd3786"
             ],
             [
              0.5555555555555556,
              "#d8576b"
             ],
             [
              0.6666666666666666,
              "#ed7953"
             ],
             [
              0.7777777777777778,
              "#fb9f3a"
             ],
             [
              0.8888888888888888,
              "#fdca26"
             ],
             [
              1,
              "#f0f921"
             ]
            ],
            "type": "histogram2d"
           }
          ],
          "histogram2dcontour": [
           {
            "colorbar": {
             "outlinewidth": 0,
             "ticks": ""
            },
            "colorscale": [
             [
              0,
              "#0d0887"
             ],
             [
              0.1111111111111111,
              "#46039f"
             ],
             [
              0.2222222222222222,
              "#7201a8"
             ],
             [
              0.3333333333333333,
              "#9c179e"
             ],
             [
              0.4444444444444444,
              "#bd3786"
             ],
             [
              0.5555555555555556,
              "#d8576b"
             ],
             [
              0.6666666666666666,
              "#ed7953"
             ],
             [
              0.7777777777777778,
              "#fb9f3a"
             ],
             [
              0.8888888888888888,
              "#fdca26"
             ],
             [
              1,
              "#f0f921"
             ]
            ],
            "type": "histogram2dcontour"
           }
          ],
          "mesh3d": [
           {
            "colorbar": {
             "outlinewidth": 0,
             "ticks": ""
            },
            "type": "mesh3d"
           }
          ],
          "parcoords": [
           {
            "line": {
             "colorbar": {
              "outlinewidth": 0,
              "ticks": ""
             }
            },
            "type": "parcoords"
           }
          ],
          "pie": [
           {
            "automargin": true,
            "type": "pie"
           }
          ],
          "scatter": [
           {
            "marker": {
             "colorbar": {
              "outlinewidth": 0,
              "ticks": ""
             }
            },
            "type": "scatter"
           }
          ],
          "scatter3d": [
           {
            "line": {
             "colorbar": {
              "outlinewidth": 0,
              "ticks": ""
             }
            },
            "marker": {
             "colorbar": {
              "outlinewidth": 0,
              "ticks": ""
             }
            },
            "type": "scatter3d"
           }
          ],
          "scattercarpet": [
           {
            "marker": {
             "colorbar": {
              "outlinewidth": 0,
              "ticks": ""
             }
            },
            "type": "scattercarpet"
           }
          ],
          "scattergeo": [
           {
            "marker": {
             "colorbar": {
              "outlinewidth": 0,
              "ticks": ""
             }
            },
            "type": "scattergeo"
           }
          ],
          "scattergl": [
           {
            "marker": {
             "colorbar": {
              "outlinewidth": 0,
              "ticks": ""
             }
            },
            "type": "scattergl"
           }
          ],
          "scattermapbox": [
           {
            "marker": {
             "colorbar": {
              "outlinewidth": 0,
              "ticks": ""
             }
            },
            "type": "scattermapbox"
           }
          ],
          "scatterpolar": [
           {
            "marker": {
             "colorbar": {
              "outlinewidth": 0,
              "ticks": ""
             }
            },
            "type": "scatterpolar"
           }
          ],
          "scatterpolargl": [
           {
            "marker": {
             "colorbar": {
              "outlinewidth": 0,
              "ticks": ""
             }
            },
            "type": "scatterpolargl"
           }
          ],
          "scatterternary": [
           {
            "marker": {
             "colorbar": {
              "outlinewidth": 0,
              "ticks": ""
             }
            },
            "type": "scatterternary"
           }
          ],
          "surface": [
           {
            "colorbar": {
             "outlinewidth": 0,
             "ticks": ""
            },
            "colorscale": [
             [
              0,
              "#0d0887"
             ],
             [
              0.1111111111111111,
              "#46039f"
             ],
             [
              0.2222222222222222,
              "#7201a8"
             ],
             [
              0.3333333333333333,
              "#9c179e"
             ],
             [
              0.4444444444444444,
              "#bd3786"
             ],
             [
              0.5555555555555556,
              "#d8576b"
             ],
             [
              0.6666666666666666,
              "#ed7953"
             ],
             [
              0.7777777777777778,
              "#fb9f3a"
             ],
             [
              0.8888888888888888,
              "#fdca26"
             ],
             [
              1,
              "#f0f921"
             ]
            ],
            "type": "surface"
           }
          ],
          "table": [
           {
            "cells": {
             "fill": {
              "color": "#EBF0F8"
             },
             "line": {
              "color": "white"
             }
            },
            "header": {
             "fill": {
              "color": "#C8D4E3"
             },
             "line": {
              "color": "white"
             }
            },
            "type": "table"
           }
          ]
         },
         "layout": {
          "annotationdefaults": {
           "arrowcolor": "#2a3f5f",
           "arrowhead": 0,
           "arrowwidth": 1
          },
          "coloraxis": {
           "colorbar": {
            "outlinewidth": 0,
            "ticks": ""
           }
          },
          "colorscale": {
           "diverging": [
            [
             0,
             "#8e0152"
            ],
            [
             0.1,
             "#c51b7d"
            ],
            [
             0.2,
             "#de77ae"
            ],
            [
             0.3,
             "#f1b6da"
            ],
            [
             0.4,
             "#fde0ef"
            ],
            [
             0.5,
             "#f7f7f7"
            ],
            [
             0.6,
             "#e6f5d0"
            ],
            [
             0.7,
             "#b8e186"
            ],
            [
             0.8,
             "#7fbc41"
            ],
            [
             0.9,
             "#4d9221"
            ],
            [
             1,
             "#276419"
            ]
           ],
           "sequential": [
            [
             0,
             "#0d0887"
            ],
            [
             0.1111111111111111,
             "#46039f"
            ],
            [
             0.2222222222222222,
             "#7201a8"
            ],
            [
             0.3333333333333333,
             "#9c179e"
            ],
            [
             0.4444444444444444,
             "#bd3786"
            ],
            [
             0.5555555555555556,
             "#d8576b"
            ],
            [
             0.6666666666666666,
             "#ed7953"
            ],
            [
             0.7777777777777778,
             "#fb9f3a"
            ],
            [
             0.8888888888888888,
             "#fdca26"
            ],
            [
             1,
             "#f0f921"
            ]
           ],
           "sequentialminus": [
            [
             0,
             "#0d0887"
            ],
            [
             0.1111111111111111,
             "#46039f"
            ],
            [
             0.2222222222222222,
             "#7201a8"
            ],
            [
             0.3333333333333333,
             "#9c179e"
            ],
            [
             0.4444444444444444,
             "#bd3786"
            ],
            [
             0.5555555555555556,
             "#d8576b"
            ],
            [
             0.6666666666666666,
             "#ed7953"
            ],
            [
             0.7777777777777778,
             "#fb9f3a"
            ],
            [
             0.8888888888888888,
             "#fdca26"
            ],
            [
             1,
             "#f0f921"
            ]
           ]
          },
          "colorway": [
           "#636efa",
           "#EF553B",
           "#00cc96",
           "#ab63fa",
           "#FFA15A",
           "#19d3f3",
           "#FF6692",
           "#B6E880",
           "#FF97FF",
           "#FECB52"
          ],
          "font": {
           "color": "#2a3f5f"
          },
          "geo": {
           "bgcolor": "white",
           "lakecolor": "white",
           "landcolor": "#E5ECF6",
           "showlakes": true,
           "showland": true,
           "subunitcolor": "white"
          },
          "hoverlabel": {
           "align": "left"
          },
          "hovermode": "closest",
          "mapbox": {
           "style": "light"
          },
          "paper_bgcolor": "white",
          "plot_bgcolor": "#E5ECF6",
          "polar": {
           "angularaxis": {
            "gridcolor": "white",
            "linecolor": "white",
            "ticks": ""
           },
           "bgcolor": "#E5ECF6",
           "radialaxis": {
            "gridcolor": "white",
            "linecolor": "white",
            "ticks": ""
           }
          },
          "scene": {
           "xaxis": {
            "backgroundcolor": "#E5ECF6",
            "gridcolor": "white",
            "gridwidth": 2,
            "linecolor": "white",
            "showbackground": true,
            "ticks": "",
            "zerolinecolor": "white"
           },
           "yaxis": {
            "backgroundcolor": "#E5ECF6",
            "gridcolor": "white",
            "gridwidth": 2,
            "linecolor": "white",
            "showbackground": true,
            "ticks": "",
            "zerolinecolor": "white"
           },
           "zaxis": {
            "backgroundcolor": "#E5ECF6",
            "gridcolor": "white",
            "gridwidth": 2,
            "linecolor": "white",
            "showbackground": true,
            "ticks": "",
            "zerolinecolor": "white"
           }
          },
          "shapedefaults": {
           "line": {
            "color": "#2a3f5f"
           }
          },
          "ternary": {
           "aaxis": {
            "gridcolor": "white",
            "linecolor": "white",
            "ticks": ""
           },
           "baxis": {
            "gridcolor": "white",
            "linecolor": "white",
            "ticks": ""
           },
           "bgcolor": "#E5ECF6",
           "caxis": {
            "gridcolor": "white",
            "linecolor": "white",
            "ticks": ""
           }
          },
          "title": {
           "x": 0.05
          },
          "xaxis": {
           "automargin": true,
           "gridcolor": "white",
           "linecolor": "white",
           "ticks": "",
           "title": {
            "standoff": 15
           },
           "zerolinecolor": "white",
           "zerolinewidth": 2
          },
          "yaxis": {
           "automargin": true,
           "gridcolor": "white",
           "linecolor": "white",
           "ticks": "",
           "title": {
            "standoff": 15
           },
           "zerolinecolor": "white",
           "zerolinewidth": 2
          }
         }
        },
        "width": 700
       },
       "_model_module_version": "^4.8.0",
       "_py2js_animate": {},
       "_py2js_deleteTraces": {},
       "_py2js_moveTraces": {},
       "_py2js_removeLayoutProps": {},
       "_py2js_removeTraceProps": {},
       "_py2js_restyle": {},
       "_view_count": 0,
       "_view_module_version": "^4.8.0"
      }
     }
    },
    "version_major": 2,
    "version_minor": 0
   }
  }
 },
 "nbformat": 4,
 "nbformat_minor": 4
}
