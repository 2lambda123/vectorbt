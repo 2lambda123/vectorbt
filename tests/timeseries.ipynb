{
 "cells": [
  {
   "cell_type": "markdown",
   "metadata": {},
   "source": [
    "# timeseries"
   ]
  },
  {
   "cell_type": "code",
   "execution_count": 1,
   "metadata": {},
   "outputs": [],
   "source": [
    "import vectorbt as vbt"
   ]
  },
  {
   "cell_type": "code",
   "execution_count": 2,
   "metadata": {
    "Collapsed": "false"
   },
   "outputs": [],
   "source": [
    "import numpy as np\n",
    "import pandas as pd\n",
    "from datetime import datetime, timedelta\n",
    "from numba import njit, f8, i8, b1, optional"
   ]
  },
  {
   "cell_type": "code",
   "execution_count": 3,
   "metadata": {},
   "outputs": [
    {
     "name": "stdout",
     "output_type": "stream",
     "text": [
      "              a    b    c\n",
      "2018-01-01  1.0  NaN  1.0\n",
      "2018-01-02  2.0  4.0  2.0\n",
      "2018-01-03  3.0  3.0  NaN\n",
      "2018-01-04  4.0  2.0  2.0\n",
      "2018-01-05  NaN  1.0  1.0\n"
     ]
    }
   ],
   "source": [
    "index = pd.DatetimeIndex([\n",
    "    datetime(2018, 1, 1),\n",
    "    datetime(2018, 1, 2),\n",
    "    datetime(2018, 1, 3),\n",
    "    datetime(2018, 1, 4),\n",
    "    datetime(2018, 1, 5)\n",
    "], freq='D')\n",
    "columns = ['a', 'b', 'c']\n",
    "ts = pd.DataFrame({\n",
    "    'a': [1, 2, 3, 4, np.nan], \n",
    "    'b': [np.nan, 4, 3, 2, 1],\n",
    "    'c': [1, 2, np.nan, 2, 1]}, index=index).astype(np.float32)\n",
    "\n",
    "print(ts)"
   ]
  },
  {
   "cell_type": "code",
   "execution_count": 4,
   "metadata": {},
   "outputs": [
    {
     "data": {
      "text/plain": [
       "(1000, 1000)"
      ]
     },
     "execution_count": 4,
     "metadata": {},
     "output_type": "execute_result"
    }
   ],
   "source": [
    "big_ts = pd.DataFrame(np.random.randint(10, size=(1000, 1000)).astype(float))\n",
    "big_ts.index = [datetime(2018, 1, 1) + timedelta(days=i) for i in range(1000)]\n",
    "big_ts.shape"
   ]
  },
  {
   "cell_type": "code",
   "execution_count": 5,
   "metadata": {
    "Collapsed": "false"
   },
   "outputs": [
    {
     "name": "stdout",
     "output_type": "stream",
     "text": [
      "              a    b    c\n",
      "2018-01-01  1.0 -1.0  1.0\n",
      "2018-01-02  2.0  4.0  2.0\n",
      "2018-01-03  3.0  3.0 -1.0\n",
      "2018-01-04  4.0  2.0  2.0\n",
      "2018-01-05 -1.0  1.0  1.0\n",
      "8.09 ms ± 1.11 ms per loop (mean ± std. dev. of 7 runs, 100 loops each)\n",
      "              a    b    c\n",
      "2018-01-01  1.0 -1.0  1.0\n",
      "2018-01-02  2.0  4.0  2.0\n",
      "2018-01-03  3.0  3.0 -1.0\n",
      "2018-01-04  4.0  2.0  2.0\n",
      "2018-01-05 -1.0  1.0  1.0\n",
      "4.7 ms ± 337 µs per loop (mean ± std. dev. of 7 runs, 100 loops each)\n"
     ]
    }
   ],
   "source": [
    "print(ts.fillna(-1))\n",
    "%timeit big_ts.fillna(-1)\n",
    "\n",
    "print(ts.vbt.timeseries.fillna(-1))\n",
    "%timeit big_ts.vbt.timeseries.fillna(-1)"
   ]
  },
  {
   "cell_type": "code",
   "execution_count": 6,
   "metadata": {
    "Collapsed": "false"
   },
   "outputs": [
    {
     "name": "stdout",
     "output_type": "stream",
     "text": [
      "              a    b    c\n",
      "2018-01-01  NaN  NaN  NaN\n",
      "2018-01-02  NaN  NaN  NaN\n",
      "2018-01-03  NaN  NaN  NaN\n",
      "2018-01-04  1.0  NaN  1.0\n",
      "2018-01-05  2.0  4.0  2.0\n",
      "2.67 ms ± 280 µs per loop (mean ± std. dev. of 7 runs, 100 loops each)\n",
      "              a    b    c\n",
      "2018-01-01  NaN  NaN  NaN\n",
      "2018-01-02  NaN  NaN  NaN\n",
      "2018-01-03  NaN  NaN  NaN\n",
      "2018-01-04  1.0  NaN  1.0\n",
      "2018-01-05  2.0  4.0  2.0\n",
      "3.42 ms ± 647 µs per loop (mean ± std. dev. of 7 runs, 1 loop each)\n"
     ]
    }
   ],
   "source": [
    "print(ts.shift(3))\n",
    "%timeit big_ts.shift(3)\n",
    "\n",
    "print(ts.vbt.timeseries.fshift(3))\n",
    "%timeit big_ts.vbt.timeseries.fshift(3)"
   ]
  },
  {
   "cell_type": "code",
   "execution_count": 7,
   "metadata": {},
   "outputs": [
    {
     "name": "stdout",
     "output_type": "stream",
     "text": [
      "              a    b    c\n",
      "2018-01-01  NaN  NaN  NaN\n",
      "2018-01-02  1.0  NaN  1.0\n",
      "2018-01-03  1.0 -1.0  NaN\n",
      "2018-01-04  1.0 -1.0  NaN\n",
      "2018-01-05  NaN -1.0 -1.0\n",
      "6.85 ms ± 1.47 ms per loop (mean ± std. dev. of 7 runs, 100 loops each)\n",
      "              a    b    c\n",
      "2018-01-01  NaN  NaN  NaN\n",
      "2018-01-02  1.0  NaN  1.0\n",
      "2018-01-03  1.0 -1.0  NaN\n",
      "2018-01-04  1.0 -1.0  NaN\n",
      "2018-01-05  NaN -1.0 -1.0\n",
      "5.58 ms ± 871 µs per loop (mean ± std. dev. of 7 runs, 100 loops each)\n"
     ]
    }
   ],
   "source": [
    "print(ts.diff())\n",
    "%timeit big_ts.diff()\n",
    "\n",
    "print(ts.vbt.timeseries.diff())\n",
    "%timeit big_ts.vbt.timeseries.diff()"
   ]
  },
  {
   "cell_type": "code",
   "execution_count": 8,
   "metadata": {
    "Collapsed": "false"
   },
   "outputs": [
    {
     "name": "stdout",
     "output_type": "stream",
     "text": [
      "                   a         b    c\n",
      "2018-01-01       NaN       NaN  NaN\n",
      "2018-01-02  1.000000       NaN  1.0\n",
      "2018-01-03  0.500000 -0.250000  0.0\n",
      "2018-01-04  0.333333 -0.333333  0.0\n",
      "2018-01-05  0.000000 -0.500000 -0.5\n",
      "271 ms ± 6.45 ms per loop (mean ± std. dev. of 7 runs, 1 loop each)\n",
      "                   a         b    c\n",
      "2018-01-01       NaN       NaN  NaN\n",
      "2018-01-02  1.000000       NaN  1.0\n",
      "2018-01-03  0.500000 -0.250000  NaN\n",
      "2018-01-04  0.333333 -0.333333  NaN\n",
      "2018-01-05       NaN -0.500000 -0.5\n",
      "5.59 ms ± 98.2 µs per loop (mean ± std. dev. of 7 runs, 100 loops each)\n"
     ]
    }
   ],
   "source": [
    "print(ts.pct_change())\n",
    "%timeit big_ts.pct_change()\n",
    "\n",
    "print(ts.vbt.timeseries.pct_change())\n",
    "%timeit big_ts.vbt.timeseries.pct_change()"
   ]
  },
  {
   "cell_type": "code",
   "execution_count": 9,
   "metadata": {
    "Collapsed": "false"
   },
   "outputs": [
    {
     "name": "stdout",
     "output_type": "stream",
     "text": [
      "              a    b    c\n",
      "2018-01-01  1.0  NaN  1.0\n",
      "2018-01-02  2.0  4.0  2.0\n",
      "2018-01-03  3.0  3.0  2.0\n",
      "2018-01-04  4.0  2.0  2.0\n",
      "2018-01-05  4.0  1.0  1.0\n",
      "5.75 ms ± 109 µs per loop (mean ± std. dev. of 7 runs, 100 loops each)\n",
      "              a    b    c\n",
      "2018-01-01  1.0  NaN  1.0\n",
      "2018-01-02  2.0  4.0  2.0\n",
      "2018-01-03  3.0  3.0  2.0\n",
      "2018-01-04  4.0  2.0  2.0\n",
      "2018-01-05  4.0  1.0  1.0\n",
      "8.09 ms ± 264 µs per loop (mean ± std. dev. of 7 runs, 1 loop each)\n"
     ]
    }
   ],
   "source": [
    "print(ts.ffill())\n",
    "%timeit big_ts.ffill()\n",
    "\n",
    "print(ts.vbt.timeseries.ffill())\n",
    "%timeit big_ts.vbt.timeseries.ffill()"
   ]
  },
  {
   "cell_type": "code",
   "execution_count": 10,
   "metadata": {},
   "outputs": [
    {
     "data": {
      "text/html": [
       "<div>\n",
       "<style scoped>\n",
       "    .dataframe tbody tr th:only-of-type {\n",
       "        vertical-align: middle;\n",
       "    }\n",
       "\n",
       "    .dataframe tbody tr th {\n",
       "        vertical-align: top;\n",
       "    }\n",
       "\n",
       "    .dataframe thead th {\n",
       "        text-align: right;\n",
       "    }\n",
       "</style>\n",
       "<table border=\"1\" class=\"dataframe\">\n",
       "  <thead>\n",
       "    <tr style=\"text-align: right;\">\n",
       "      <th></th>\n",
       "      <th>a</th>\n",
       "      <th>b</th>\n",
       "      <th>c</th>\n",
       "    </tr>\n",
       "  </thead>\n",
       "  <tbody>\n",
       "    <tr>\n",
       "      <th>2018-01-01</th>\n",
       "      <td>1.0</td>\n",
       "      <td>NaN</td>\n",
       "      <td>1.0</td>\n",
       "    </tr>\n",
       "    <tr>\n",
       "      <th>2018-01-02</th>\n",
       "      <td>2.0</td>\n",
       "      <td>4.0</td>\n",
       "      <td>2.0</td>\n",
       "    </tr>\n",
       "    <tr>\n",
       "      <th>2018-01-03</th>\n",
       "      <td>3.0</td>\n",
       "      <td>3.0</td>\n",
       "      <td>NaN</td>\n",
       "    </tr>\n",
       "    <tr>\n",
       "      <th>2018-01-04</th>\n",
       "      <td>4.0</td>\n",
       "      <td>2.0</td>\n",
       "      <td>2.0</td>\n",
       "    </tr>\n",
       "    <tr>\n",
       "      <th>2018-01-05</th>\n",
       "      <td>NaN</td>\n",
       "      <td>1.0</td>\n",
       "      <td>1.0</td>\n",
       "    </tr>\n",
       "  </tbody>\n",
       "</table>\n",
       "</div>"
      ],
      "text/plain": [
       "              a    b    c\n",
       "2018-01-01  1.0  NaN  1.0\n",
       "2018-01-02  2.0  4.0  2.0\n",
       "2018-01-03  3.0  3.0  NaN\n",
       "2018-01-04  4.0  2.0  2.0\n",
       "2018-01-05  NaN  1.0  1.0"
      ]
     },
     "execution_count": 10,
     "metadata": {},
     "output_type": "execute_result"
    }
   ],
   "source": [
    "ts"
   ]
  },
  {
   "cell_type": "code",
   "execution_count": 11,
   "metadata": {},
   "outputs": [
    {
     "name": "stdout",
     "output_type": "stream",
     "text": [
      "               a     b    c\n",
      "2018-01-01   1.0   NaN  1.0\n",
      "2018-01-02   3.0   4.0  3.0\n",
      "2018-01-03   6.0   7.0  NaN\n",
      "2018-01-04  10.0   9.0  5.0\n",
      "2018-01-05   NaN  10.0  6.0\n",
      "12.1 ms ± 718 µs per loop (mean ± std. dev. of 7 runs, 10 loops each)\n",
      "               a     b    c\n",
      "2018-01-01   1.0   NaN  1.0\n",
      "2018-01-02   3.0   4.0  3.0\n",
      "2018-01-03   6.0   7.0  NaN\n",
      "2018-01-04  10.0   9.0  5.0\n",
      "2018-01-05   NaN  10.0  6.0\n",
      "9.09 ms ± 582 µs per loop (mean ± std. dev. of 7 runs, 1 loop each)\n"
     ]
    }
   ],
   "source": [
    "print(ts.cumsum())\n",
    "%timeit big_ts.cumsum()\n",
    "\n",
    "print(ts.vbt.timeseries.cumsum())\n",
    "%timeit big_ts.vbt.timeseries.cumsum()"
   ]
  },
  {
   "cell_type": "code",
   "execution_count": 12,
   "metadata": {},
   "outputs": [
    {
     "name": "stdout",
     "output_type": "stream",
     "text": [
      "               a     b    c\n",
      "2018-01-01   1.0   NaN  1.0\n",
      "2018-01-02   2.0   4.0  2.0\n",
      "2018-01-03   6.0  12.0  NaN\n",
      "2018-01-04  24.0  24.0  4.0\n",
      "2018-01-05   NaN  24.0  4.0\n",
      "11.7 ms ± 125 µs per loop (mean ± std. dev. of 7 runs, 100 loops each)\n",
      "               a     b    c\n",
      "2018-01-01   1.0   NaN  1.0\n",
      "2018-01-02   2.0   4.0  2.0\n",
      "2018-01-03   6.0  12.0  NaN\n",
      "2018-01-04  24.0  24.0  4.0\n",
      "2018-01-05   NaN  24.0  4.0\n",
      "8.83 ms ± 303 µs per loop (mean ± std. dev. of 7 runs, 1 loop each)\n"
     ]
    }
   ],
   "source": [
    "print(ts.cumprod())\n",
    "%timeit big_ts.cumprod()\n",
    "\n",
    "print(ts.vbt.timeseries.cumprod())\n",
    "%timeit big_ts.vbt.timeseries.cumprod()"
   ]
  },
  {
   "cell_type": "code",
   "execution_count": 13,
   "metadata": {},
   "outputs": [
    {
     "name": "stdout",
     "output_type": "stream",
     "text": [
      "              a    b    c\n",
      "2018-01-01  NaN  NaN  NaN\n",
      "2018-01-02  1.0  NaN  1.0\n",
      "2018-01-03  2.0  3.0  NaN\n",
      "2018-01-04  3.0  2.0  NaN\n",
      "2018-01-05  NaN  1.0  1.0\n",
      "43.6 ms ± 1.47 ms per loop (mean ± std. dev. of 7 runs, 10 loops each)\n",
      "              a    b    c\n",
      "2018-01-01  NaN  NaN  NaN\n",
      "2018-01-02  1.0  NaN  1.0\n",
      "2018-01-03  2.0  3.0  NaN\n",
      "2018-01-04  3.0  2.0  NaN\n",
      "2018-01-05  NaN  1.0  1.0\n",
      "15.5 ms ± 1.42 ms per loop (mean ± std. dev. of 7 runs, 1 loop each)\n"
     ]
    }
   ],
   "source": [
    "print(ts.rolling(2).min())\n",
    "%timeit big_ts.rolling(2).min()\n",
    "\n",
    "print(ts.vbt.timeseries.rolling_min(2))\n",
    "%timeit big_ts.vbt.timeseries.rolling_min(2)"
   ]
  },
  {
   "cell_type": "code",
   "execution_count": 14,
   "metadata": {},
   "outputs": [
    {
     "name": "stdout",
     "output_type": "stream",
     "text": [
      "              a    b    c\n",
      "2018-01-01  NaN  NaN  NaN\n",
      "2018-01-02  2.0  NaN  2.0\n",
      "2018-01-03  3.0  4.0  NaN\n",
      "2018-01-04  4.0  3.0  NaN\n",
      "2018-01-05  NaN  2.0  2.0\n",
      "43.8 ms ± 1.25 ms per loop (mean ± std. dev. of 7 runs, 10 loops each)\n",
      "              a    b    c\n",
      "2018-01-01  NaN  NaN  NaN\n",
      "2018-01-02  2.0  NaN  2.0\n",
      "2018-01-03  3.0  4.0  NaN\n",
      "2018-01-04  4.0  3.0  NaN\n",
      "2018-01-05  NaN  2.0  2.0\n",
      "14.5 ms ± 888 µs per loop (mean ± std. dev. of 7 runs, 1 loop each)\n"
     ]
    }
   ],
   "source": [
    "print(ts.rolling(2).max())\n",
    "%timeit big_ts.rolling(2).max()\n",
    "\n",
    "print(ts.vbt.timeseries.rolling_max(2))\n",
    "%timeit big_ts.vbt.timeseries.rolling_max(2)"
   ]
  },
  {
   "cell_type": "code",
   "execution_count": 15,
   "metadata": {
    "Collapsed": "false"
   },
   "outputs": [
    {
     "name": "stdout",
     "output_type": "stream",
     "text": [
      "              a    b    c\n",
      "2018-01-01  NaN  NaN  NaN\n",
      "2018-01-02  1.5  NaN  1.5\n",
      "2018-01-03  2.5  3.5  NaN\n",
      "2018-01-04  3.5  2.5  NaN\n",
      "2018-01-05  NaN  1.5  1.5\n",
      "30.2 ms ± 522 µs per loop (mean ± std. dev. of 7 runs, 10 loops each)\n",
      "              a    b    c\n",
      "2018-01-01  NaN  NaN  NaN\n",
      "2018-01-02  1.5  NaN  1.5\n",
      "2018-01-03  2.5  3.5  NaN\n",
      "2018-01-04  3.5  2.5  NaN\n",
      "2018-01-05  NaN  1.5  1.5\n",
      "15.8 ms ± 231 µs per loop (mean ± std. dev. of 7 runs, 1 loop each)\n"
     ]
    }
   ],
   "source": [
    "print(ts.rolling(2).mean())\n",
    "%timeit big_ts.rolling(2).mean()\n",
    "\n",
    "print(ts.vbt.timeseries.rolling_mean(2))\n",
    "%timeit big_ts.vbt.timeseries.rolling_mean(2)"
   ]
  },
  {
   "cell_type": "code",
   "execution_count": 16,
   "metadata": {},
   "outputs": [
    {
     "name": "stdout",
     "output_type": "stream",
     "text": [
      "                   a         b         c\n",
      "2018-01-01       NaN       NaN       NaN\n",
      "2018-01-02  0.707107       NaN  0.707107\n",
      "2018-01-03  0.707107  0.707107       NaN\n",
      "2018-01-04  0.707107  0.707107       NaN\n",
      "2018-01-05       NaN  0.707107  0.707107\n",
      "82.6 ms ± 21.4 ms per loop (mean ± std. dev. of 7 runs, 10 loops each)\n",
      "                   a         b         c\n",
      "2018-01-01       NaN       NaN       NaN\n",
      "2018-01-02  0.707107       NaN  0.707107\n",
      "2018-01-03  0.707107  0.707107       NaN\n",
      "2018-01-04  0.707107  0.707107       NaN\n",
      "2018-01-05       NaN  0.707107  0.707107\n",
      "24.6 ms ± 3.49 ms per loop (mean ± std. dev. of 7 runs, 1 loop each)\n"
     ]
    }
   ],
   "source": [
    "print(ts.rolling(2).std())\n",
    "%timeit big_ts.rolling(2).std()\n",
    "\n",
    "print(ts.vbt.timeseries.rolling_std(2))\n",
    "%timeit big_ts.vbt.timeseries.rolling_std(2)"
   ]
  },
  {
   "cell_type": "code",
   "execution_count": 17,
   "metadata": {
    "Collapsed": "false"
   },
   "outputs": [
    {
     "name": "stdout",
     "output_type": "stream",
     "text": [
      "                   a         b         c\n",
      "2018-01-01       NaN       NaN       NaN\n",
      "2018-01-02  1.750000       NaN  1.750000\n",
      "2018-01-03  2.615385  3.250000  1.750000\n",
      "2018-01-04  3.550000  2.384615  1.967742\n",
      "2018-01-05  3.550000  1.450000  1.267857\n",
      "93.6 ms ± 1.88 ms per loop (mean ± std. dev. of 7 runs, 10 loops each)\n",
      "                   a         b         c\n",
      "2018-01-01       NaN       NaN       NaN\n",
      "2018-01-02  1.750000       NaN  1.750000\n",
      "2018-01-03  2.615385  3.250000  1.750000\n",
      "2018-01-04  3.550000  2.384615  1.967742\n",
      "2018-01-05  3.550000  1.450000  1.267857\n",
      "26.4 ms ± 9.59 ms per loop (mean ± std. dev. of 7 runs, 1 loop each)\n"
     ]
    }
   ],
   "source": [
    "print(ts.ewm(span=2, min_periods=2).mean())\n",
    "%timeit big_ts.ewm(span=2, min_periods=2).mean()\n",
    "\n",
    "print(ts.vbt.timeseries.ewm_mean(2))\n",
    "%timeit big_ts.vbt.timeseries.ewm_mean(2)"
   ]
  },
  {
   "cell_type": "code",
   "execution_count": 18,
   "metadata": {},
   "outputs": [
    {
     "name": "stdout",
     "output_type": "stream",
     "text": [
      "                   a         b         c\n",
      "2018-01-01       NaN       NaN       NaN\n",
      "2018-01-02  0.707107       NaN  0.707107\n",
      "2018-01-03  0.919866  0.707107  0.707107\n",
      "2018-01-04  1.059753  0.919866  0.367607\n",
      "2018-01-05  1.059753  1.059753  0.684914\n",
      "575 ms ± 146 ms per loop (mean ± std. dev. of 7 runs, 1 loop each)\n",
      "                   a         b         c\n",
      "2018-01-01       NaN       NaN       NaN\n",
      "2018-01-02  0.707107       NaN  0.707107\n",
      "2018-01-03  0.919866  0.707107  0.707107\n",
      "2018-01-04  1.059753  0.919866  0.367607\n",
      "2018-01-05  1.059753  1.059753  0.684914\n",
      "25.1 ms ± 2.6 ms per loop (mean ± std. dev. of 7 runs, 1 loop each)\n"
     ]
    }
   ],
   "source": [
    "print(ts.ewm(span=2, min_periods=2).std())\n",
    "%timeit big_ts.ewm(span=2, min_periods=2).std()\n",
    "\n",
    "print(ts.vbt.timeseries.ewm_std(2))\n",
    "%timeit big_ts.vbt.timeseries.ewm_std(2)"
   ]
  },
  {
   "cell_type": "code",
   "execution_count": 19,
   "metadata": {},
   "outputs": [
    {
     "name": "stdout",
     "output_type": "stream",
     "text": [
      "              a    b    c\n",
      "2018-01-01  1.0  NaN  1.0\n",
      "2018-01-02  1.0  4.0  1.0\n",
      "2018-01-03  1.0  3.0  1.0\n",
      "2018-01-04  1.0  2.0  1.0\n",
      "2018-01-05  1.0  1.0  1.0\n",
      "49.4 ms ± 3.77 ms per loop (mean ± std. dev. of 7 runs, 10 loops each)\n",
      "              a    b    c\n",
      "2018-01-01  1.0  NaN  1.0\n",
      "2018-01-02  1.0  4.0  1.0\n",
      "2018-01-03  1.0  3.0  1.0\n",
      "2018-01-04  1.0  2.0  1.0\n",
      "2018-01-05  1.0  1.0  1.0\n",
      "11.2 ms ± 1.42 ms per loop (mean ± std. dev. of 7 runs, 1 loop each)\n"
     ]
    }
   ],
   "source": [
    "print(ts.expanding().min())\n",
    "%timeit big_ts.expanding().min()\n",
    "\n",
    "print(ts.vbt.timeseries.expanding_min())\n",
    "%timeit big_ts.vbt.timeseries.expanding_min()"
   ]
  },
  {
   "cell_type": "code",
   "execution_count": 20,
   "metadata": {},
   "outputs": [
    {
     "name": "stdout",
     "output_type": "stream",
     "text": [
      "              a    b    c\n",
      "2018-01-01  1.0  NaN  1.0\n",
      "2018-01-02  2.0  4.0  2.0\n",
      "2018-01-03  3.0  4.0  2.0\n",
      "2018-01-04  4.0  4.0  2.0\n",
      "2018-01-05  4.0  4.0  2.0\n",
      "47.1 ms ± 1.02 ms per loop (mean ± std. dev. of 7 runs, 10 loops each)\n",
      "              a    b    c\n",
      "2018-01-01  1.0  NaN  1.0\n",
      "2018-01-02  2.0  4.0  2.0\n",
      "2018-01-03  3.0  4.0  2.0\n",
      "2018-01-04  4.0  4.0  2.0\n",
      "2018-01-05  4.0  4.0  2.0\n",
      "8.63 ms ± 560 µs per loop (mean ± std. dev. of 7 runs, 1 loop each)\n"
     ]
    }
   ],
   "source": [
    "print(ts.expanding().max())\n",
    "%timeit big_ts.expanding().max()\n",
    "\n",
    "print(ts.vbt.timeseries.expanding_max())\n",
    "%timeit big_ts.vbt.timeseries.expanding_max()"
   ]
  },
  {
   "cell_type": "code",
   "execution_count": 21,
   "metadata": {},
   "outputs": [
    {
     "name": "stdout",
     "output_type": "stream",
     "text": [
      "              a    b         c\n",
      "2018-01-01  1.0  NaN  1.000000\n",
      "2018-01-02  1.5  4.0  1.500000\n",
      "2018-01-03  2.0  3.5  1.500000\n",
      "2018-01-04  2.5  3.0  1.666667\n",
      "2018-01-05  2.5  2.5  1.500000\n",
      "30.5 ms ± 1.03 ms per loop (mean ± std. dev. of 7 runs, 10 loops each)\n",
      "              a    b         c\n",
      "2018-01-01  1.0  NaN  1.000000\n",
      "2018-01-02  1.5  4.0  1.500000\n",
      "2018-01-03  2.0  3.5  1.500000\n",
      "2018-01-04  2.5  3.0  1.666667\n",
      "2018-01-05  2.5  2.5  1.500000\n",
      "14.8 ms ± 371 µs per loop (mean ± std. dev. of 7 runs, 1 loop each)\n"
     ]
    }
   ],
   "source": [
    "print(ts.expanding().mean())\n",
    "%timeit big_ts.expanding().mean()\n",
    "\n",
    "print(ts.vbt.timeseries.expanding_mean())\n",
    "%timeit big_ts.vbt.timeseries.expanding_mean()"
   ]
  },
  {
   "cell_type": "code",
   "execution_count": 22,
   "metadata": {},
   "outputs": [
    {
     "name": "stdout",
     "output_type": "stream",
     "text": [
      "                   a         b         c\n",
      "2018-01-01       NaN       NaN       NaN\n",
      "2018-01-02  0.707107       NaN  0.707107\n",
      "2018-01-03  1.000000  0.707107  0.707107\n",
      "2018-01-04  1.290994  1.000000  0.577350\n",
      "2018-01-05  1.290994  1.290994  0.577350\n",
      "58.3 ms ± 1.1 ms per loop (mean ± std. dev. of 7 runs, 10 loops each)\n",
      "                   a         b         c\n",
      "2018-01-01       NaN       NaN       NaN\n",
      "2018-01-02  0.707107       NaN  0.707107\n",
      "2018-01-03  1.000000  0.707107  0.707107\n",
      "2018-01-04  1.290994  1.000000  0.577350\n",
      "2018-01-05  1.290994  1.290994  0.577350\n",
      "21.8 ms ± 3.85 ms per loop (mean ± std. dev. of 7 runs, 1 loop each)\n"
     ]
    }
   ],
   "source": [
    "print(ts.expanding().std())\n",
    "%timeit big_ts.expanding().std()\n",
    "\n",
    "print(ts.vbt.timeseries.expanding_std())\n",
    "%timeit big_ts.vbt.timeseries.expanding_std()"
   ]
  },
  {
   "cell_type": "code",
   "execution_count": 23,
   "metadata": {},
   "outputs": [],
   "source": [
    "pd_nanmean_nb = njit(lambda x: np.nanmean(x))\n",
    "nanmean_nb = njit(lambda col, i, x: np.nanmean(x))\n",
    "nanmean_matrix_nb = njit(lambda i, x: np.nanmean(x))"
   ]
  },
  {
   "cell_type": "code",
   "execution_count": 24,
   "metadata": {},
   "outputs": [
    {
     "name": "stdout",
     "output_type": "stream",
     "text": [
      "              a    b    c\n",
      "2018-01-01  1.0  NaN  1.0\n",
      "2018-01-02  1.5  4.0  1.5\n",
      "2018-01-03  2.5  3.5  2.0\n",
      "2018-01-04  3.5  2.5  2.0\n",
      "2018-01-05  4.0  1.5  1.5\n",
      "406 ms ± 28.4 ms per loop (mean ± std. dev. of 7 runs, 1 loop each)\n",
      "              a    b    c\n",
      "2018-01-01  1.0  NaN  1.0\n",
      "2018-01-02  1.5  4.0  1.5\n",
      "2018-01-03  2.5  3.5  2.0\n",
      "2018-01-04  3.5  2.5  2.0\n",
      "2018-01-05  4.0  1.5  1.5\n",
      "60.9 ms ± 679 µs per loop (mean ± std. dev. of 7 runs, 1 loop each)\n",
      "                   a         b         c\n",
      "2018-01-01  1.000000  1.000000  1.000000\n",
      "2018-01-02  2.000000  2.000000  2.000000\n",
      "2018-01-03  2.285714  2.285714  2.285714\n",
      "2018-01-04  2.750000  2.750000  2.750000\n",
      "2018-01-05  2.285714  2.285714  2.285714\n",
      "7.01 ms ± 266 µs per loop (mean ± std. dev. of 7 runs, 1 loop each)\n"
     ]
    }
   ],
   "source": [
    "print(ts.rolling(2, min_periods=1).apply(pd_nanmean_nb, raw=True))\n",
    "%timeit big_ts.rolling(2, min_periods=1).apply(pd_nanmean_nb, raw=True)\n",
    "\n",
    "print(ts.vbt.timeseries.rolling_apply(2, nanmean_nb))\n",
    "%timeit big_ts.vbt.timeseries.rolling_apply(2, nanmean_nb)\n",
    "\n",
    "print(ts.vbt.timeseries.rolling_apply(3, nanmean_matrix_nb, on_matrix=True))\n",
    "%timeit big_ts.vbt.timeseries.rolling_apply(3, nanmean_matrix_nb, on_matrix=True)"
   ]
  },
  {
   "cell_type": "code",
   "execution_count": 25,
   "metadata": {},
   "outputs": [
    {
     "name": "stdout",
     "output_type": "stream",
     "text": [
      "              a    b         c\n",
      "2018-01-01  1.0  NaN  1.000000\n",
      "2018-01-02  1.5  4.0  1.500000\n",
      "2018-01-03  2.0  3.5  1.500000\n",
      "2018-01-04  2.5  3.0  1.666667\n",
      "2018-01-05  2.5  2.5  1.500000\n",
      "1.91 s ± 540 ms per loop (mean ± std. dev. of 7 runs, 1 loop each)\n",
      "              a    b         c\n",
      "2018-01-01  1.0  NaN  1.000000\n",
      "2018-01-02  1.5  4.0  1.500000\n",
      "2018-01-03  2.0  3.5  1.500000\n",
      "2018-01-04  2.5  3.0  1.666667\n",
      "2018-01-05  2.5  2.5  1.500000\n",
      "867 ms ± 38.4 ms per loop (mean ± std. dev. of 7 runs, 1 loop each)\n",
      "                   a         b         c\n",
      "2018-01-01  1.000000  1.000000  1.000000\n",
      "2018-01-02  2.000000  2.000000  2.000000\n",
      "2018-01-03  2.285714  2.285714  2.285714\n",
      "2018-01-04  2.400000  2.400000  2.400000\n",
      "2018-01-05  2.166667  2.166667  2.166667\n",
      "826 ms ± 16 ms per loop (mean ± std. dev. of 7 runs, 1 loop each)\n"
     ]
    }
   ],
   "source": [
    "print(ts.expanding(min_periods=1).apply(pd_nanmean_nb, raw=True))\n",
    "%timeit big_ts.expanding(min_periods=1).apply(pd_nanmean_nb, raw=True)\n",
    "\n",
    "print(ts.vbt.timeseries.expanding_apply(nanmean_nb))\n",
    "%timeit big_ts.vbt.timeseries.expanding_apply(nanmean_nb)\n",
    "\n",
    "print(ts.vbt.timeseries.expanding_apply(nanmean_matrix_nb, on_matrix=True))\n",
    "%timeit big_ts.vbt.timeseries.expanding_apply(nanmean_matrix_nb, on_matrix=True)"
   ]
  },
  {
   "cell_type": "code",
   "execution_count": 26,
   "metadata": {},
   "outputs": [
    {
     "name": "stdout",
     "output_type": "stream",
     "text": [
      "1    1.5\n",
      "2    3.5\n",
      "3    NaN\n",
      "Name: a, dtype: float64\n",
      "3.68 ms ± 65.2 µs per loop (mean ± std. dev. of 7 runs, 100 loops each)\n",
      "1    1.5\n",
      "2    3.5\n",
      "3    NaN\n",
      "Name: a, dtype: float64\n",
      "3.02 ms ± 212 µs per loop (mean ± std. dev. of 7 runs, 1 loop each)\n",
      "     a    b    c\n",
      "1  1.5  4.0  1.5\n",
      "2  3.5  2.5  2.0\n",
      "3  NaN  1.0  1.0\n",
      "     a    b    c\n",
      "1  1.5  4.0  1.5\n",
      "2  3.5  2.5  2.0\n",
      "3  NaN  1.0  1.0\n",
      "10.3 ms ± 731 µs per loop (mean ± std. dev. of 7 runs, 1 loop each)\n",
      "     a    b    c\n",
      "1  2.0  2.0  2.0\n",
      "2  2.8  2.8  2.8\n",
      "3  1.0  1.0  1.0\n",
      "6.1 ms ± 388 µs per loop (mean ± std. dev. of 7 runs, 1 loop each)\n"
     ]
    }
   ],
   "source": [
    "print(ts['a'].groupby(np.asarray([1, 1, 2, 2, 3])).apply(lambda x: pd_nanmean_nb(x.values)))\n",
    "%timeit big_ts.iloc[:, 0].groupby(np.random.randint(10, size=1000)).apply(lambda x: pd_nanmean_nb(x.values))\n",
    "\n",
    "print(ts['a'].vbt.timeseries.groupby_apply(np.asarray([1, 1, 2, 2, 3]), nanmean_nb))\n",
    "%timeit big_ts.iloc[:, 0].vbt.timeseries.groupby_apply(np.random.randint(10, size=1000), nanmean_nb)\n",
    "\n",
    "print(ts.groupby(np.asarray([1, 1, 2, 2, 3])).agg({\n",
    "    'a': lambda x: pd_nanmean_nb(x.values), \n",
    "    'b': lambda x: pd_nanmean_nb(x.values), \n",
    "    'c': lambda x: pd_nanmean_nb(x.values)})) # any clean way to do column-wise grouping in pandas?\n",
    "\n",
    "print(ts.vbt.timeseries.groupby_apply(np.asarray([1, 1, 2, 2, 3]), nanmean_nb))\n",
    "%timeit big_ts.vbt.timeseries.groupby_apply(np.random.randint(10, size=1000), nanmean_nb)\n",
    "\n",
    "print(ts.vbt.timeseries.groupby_apply(np.asarray([1, 1, 2, 2, 3]), nanmean_matrix_nb, on_matrix=True))\n",
    "%timeit big_ts.vbt.timeseries.groupby_apply(np.random.randint(10, size=1000), nanmean_matrix_nb, on_matrix=True)"
   ]
  },
  {
   "cell_type": "code",
   "execution_count": 27,
   "metadata": {},
   "outputs": [
    {
     "name": "stdout",
     "output_type": "stream",
     "text": [
      "2018-01-01 00:00:00    1.0\n",
      "2018-01-01 01:00:00    NaN\n",
      "2018-01-01 02:00:00    NaN\n",
      "2018-01-01 03:00:00    NaN\n",
      "2018-01-01 04:00:00    NaN\n",
      "                      ... \n",
      "2018-01-04 20:00:00    NaN\n",
      "2018-01-04 21:00:00    NaN\n",
      "2018-01-04 22:00:00    NaN\n",
      "2018-01-04 23:00:00    NaN\n",
      "2018-01-05 00:00:00    NaN\n",
      "Freq: H, Name: a, Length: 97, dtype: float32\n",
      "118 ms ± 2.53 ms per loop (mean ± std. dev. of 7 runs, 10 loops each)\n",
      "2018-01-01 00:00:00    1.0\n",
      "2018-01-01 01:00:00    NaN\n",
      "2018-01-01 02:00:00    NaN\n",
      "2018-01-01 03:00:00    NaN\n",
      "2018-01-01 04:00:00    NaN\n",
      "                      ... \n",
      "2018-01-04 20:00:00    NaN\n",
      "2018-01-04 21:00:00    NaN\n",
      "2018-01-04 22:00:00    NaN\n",
      "2018-01-04 23:00:00    NaN\n",
      "2018-01-05 00:00:00    NaN\n",
      "Freq: H, Name: a, Length: 97, dtype: float64\n",
      "114 ms ± 1.07 ms per loop (mean ± std. dev. of 7 runs, 10 loops each)\n",
      "                       a    b    c\n",
      "2018-01-01 00:00:00  1.0  NaN  1.0\n",
      "2018-01-01 01:00:00  NaN  NaN  NaN\n",
      "2018-01-01 02:00:00  NaN  NaN  NaN\n",
      "2018-01-01 03:00:00  NaN  NaN  NaN\n",
      "2018-01-01 04:00:00  NaN  NaN  NaN\n",
      "...                  ...  ...  ...\n",
      "2018-01-04 20:00:00  NaN  NaN  NaN\n",
      "2018-01-04 21:00:00  NaN  NaN  NaN\n",
      "2018-01-04 22:00:00  NaN  NaN  NaN\n",
      "2018-01-04 23:00:00  NaN  NaN  NaN\n",
      "2018-01-05 00:00:00  NaN  1.0  1.0\n",
      "\n",
      "[97 rows x 3 columns]\n",
      "12.1 s ± 209 ms per loop (mean ± std. dev. of 7 runs, 1 loop each)\n",
      "                       a    b    c\n",
      "2018-01-01 00:00:00  1.0  NaN  1.0\n",
      "2018-01-01 01:00:00  NaN  NaN  NaN\n",
      "2018-01-01 02:00:00  NaN  NaN  NaN\n",
      "2018-01-01 03:00:00  NaN  NaN  NaN\n",
      "2018-01-01 04:00:00  NaN  NaN  NaN\n",
      "...                  ...  ...  ...\n",
      "2018-01-04 20:00:00  NaN  NaN  NaN\n",
      "2018-01-04 21:00:00  NaN  NaN  NaN\n",
      "2018-01-04 22:00:00  NaN  NaN  NaN\n",
      "2018-01-04 23:00:00  NaN  NaN  NaN\n",
      "2018-01-05 00:00:00  NaN  1.0  1.0\n",
      "\n",
      "[97 rows x 3 columns]\n",
      "460 ms ± 6.67 ms per loop (mean ± std. dev. of 7 runs, 1 loop each)\n",
      "                       a    b    c\n",
      "2018-01-01 00:00:00  1.0  1.0  1.0\n",
      "2018-01-01 01:00:00  NaN  NaN  NaN\n",
      "2018-01-01 02:00:00  NaN  NaN  NaN\n",
      "2018-01-01 03:00:00  NaN  NaN  NaN\n",
      "2018-01-01 04:00:00  NaN  NaN  NaN\n",
      "...                  ...  ...  ...\n",
      "2018-01-04 20:00:00  NaN  NaN  NaN\n",
      "2018-01-04 21:00:00  NaN  NaN  NaN\n",
      "2018-01-04 22:00:00  NaN  NaN  NaN\n",
      "2018-01-04 23:00:00  NaN  NaN  NaN\n",
      "2018-01-05 00:00:00  1.0  1.0  1.0\n",
      "\n",
      "[97 rows x 3 columns]\n",
      "227 ms ± 6.11 ms per loop (mean ± std. dev. of 7 runs, 1 loop each)\n"
     ]
    }
   ],
   "source": [
    "print(ts['a'].resample('1h').apply(lambda x: pd_nanmean_nb(x.values)))\n",
    "%timeit big_ts.iloc[:, 0].resample('1h').apply(lambda x: pd_nanmean_nb(x.values))\n",
    "\n",
    "print(ts['a'].vbt.timeseries.resample_apply('1h', nanmean_nb))\n",
    "%timeit big_ts.iloc[:, 0].vbt.timeseries.resample_apply('1h', nanmean_nb)\n",
    "\n",
    "print(ts.resample('1h').apply(lambda x: pd_nanmean_nb(x.values)))\n",
    "%timeit big_ts.iloc[:, :100].resample('1h').apply(lambda x: pd_nanmean_nb(x.values))\n",
    "\n",
    "print(ts.vbt.timeseries.resample_apply('1h', nanmean_nb))\n",
    "%timeit big_ts.vbt.timeseries.resample_apply('1h', nanmean_nb)\n",
    "\n",
    "print(ts.vbt.timeseries.resample_apply('1h', nanmean_matrix_nb, on_matrix=True))\n",
    "%timeit big_ts.vbt.timeseries.resample_apply('1h', nanmean_matrix_nb, on_matrix=True)"
   ]
  },
  {
   "cell_type": "code",
   "execution_count": 28,
   "metadata": {},
   "outputs": [
    {
     "name": "stdout",
     "output_type": "stream",
     "text": [
      "2018-01-01 00:00:00    1.0\n",
      "2018-01-01 01:00:00    NaN\n",
      "2018-01-01 02:00:00    NaN\n",
      "2018-01-01 03:00:00    NaN\n",
      "2018-01-01 04:00:00    NaN\n",
      "                      ... \n",
      "2018-01-04 20:00:00    NaN\n",
      "2018-01-04 21:00:00    NaN\n",
      "2018-01-04 22:00:00    NaN\n",
      "2018-01-04 23:00:00    NaN\n",
      "2018-01-05 00:00:00    NaN\n",
      "Freq: H, Name: a, Length: 97, dtype: float32\n",
      "115 ms ± 2.92 ms per loop (mean ± std. dev. of 7 runs, 10 loops each)\n",
      "2018-01-01 00:00:00    1.0\n",
      "2018-01-01 01:00:00    NaN\n",
      "2018-01-01 02:00:00    NaN\n",
      "2018-01-01 03:00:00    NaN\n",
      "2018-01-01 04:00:00    NaN\n",
      "                      ... \n",
      "2018-01-04 20:00:00    NaN\n",
      "2018-01-04 21:00:00    NaN\n",
      "2018-01-04 22:00:00    NaN\n",
      "2018-01-04 23:00:00    NaN\n",
      "2018-01-05 00:00:00    NaN\n",
      "Freq: H, Name: a, Length: 97, dtype: float64\n",
      "115 ms ± 1.16 ms per loop (mean ± std. dev. of 7 runs, 10 loops each)\n",
      "                       a    b    c\n",
      "2018-01-01 00:00:00  1.0  NaN  1.0\n",
      "2018-01-01 01:00:00  NaN  NaN  NaN\n",
      "2018-01-01 02:00:00  NaN  NaN  NaN\n",
      "2018-01-01 03:00:00  NaN  NaN  NaN\n",
      "2018-01-01 04:00:00  NaN  NaN  NaN\n",
      "...                  ...  ...  ...\n",
      "2018-01-04 20:00:00  NaN  NaN  NaN\n",
      "2018-01-04 21:00:00  NaN  NaN  NaN\n",
      "2018-01-04 22:00:00  NaN  NaN  NaN\n",
      "2018-01-04 23:00:00  NaN  NaN  NaN\n",
      "2018-01-05 00:00:00  NaN  1.0  1.0\n",
      "\n",
      "[97 rows x 3 columns]\n",
      "11.8 s ± 88.9 ms per loop (mean ± std. dev. of 7 runs, 1 loop each)\n",
      "                       a    b    c\n",
      "2018-01-01 00:00:00  1.0  NaN  1.0\n",
      "2018-01-01 01:00:00  NaN  NaN  NaN\n",
      "2018-01-01 02:00:00  NaN  NaN  NaN\n",
      "2018-01-01 03:00:00  NaN  NaN  NaN\n",
      "2018-01-01 04:00:00  NaN  NaN  NaN\n",
      "...                  ...  ...  ...\n",
      "2018-01-04 20:00:00  NaN  NaN  NaN\n",
      "2018-01-04 21:00:00  NaN  NaN  NaN\n",
      "2018-01-04 22:00:00  NaN  NaN  NaN\n",
      "2018-01-04 23:00:00  NaN  NaN  NaN\n",
      "2018-01-05 00:00:00  NaN  1.0  1.0\n",
      "\n",
      "[97 rows x 3 columns]\n",
      "507 ms ± 89.5 ms per loop (mean ± std. dev. of 7 runs, 1 loop each)\n",
      "                       a    b    c\n",
      "2018-01-01 00:00:00  1.0  1.0  1.0\n",
      "2018-01-01 01:00:00  NaN  NaN  NaN\n",
      "2018-01-01 02:00:00  NaN  NaN  NaN\n",
      "2018-01-01 03:00:00  NaN  NaN  NaN\n",
      "2018-01-01 04:00:00  NaN  NaN  NaN\n",
      "...                  ...  ...  ...\n",
      "2018-01-04 20:00:00  NaN  NaN  NaN\n",
      "2018-01-04 21:00:00  NaN  NaN  NaN\n",
      "2018-01-04 22:00:00  NaN  NaN  NaN\n",
      "2018-01-04 23:00:00  NaN  NaN  NaN\n",
      "2018-01-05 00:00:00  1.0  1.0  1.0\n",
      "\n",
      "[97 rows x 3 columns]\n",
      "275 ms ± 23.8 ms per loop (mean ± std. dev. of 7 runs, 1 loop each)\n"
     ]
    }
   ],
   "source": [
    "print(ts['a'].resample('1h').apply(lambda x: pd_nanmean_nb(x.values)))\n",
    "%timeit big_ts.iloc[:, 0].resample('1h').apply(lambda x: pd_nanmean_nb(x.values))\n",
    "\n",
    "print(ts['a'].vbt.timeseries.resample_apply('1h', nanmean_nb))\n",
    "%timeit big_ts.iloc[:, 0].vbt.timeseries.resample_apply('1h', nanmean_nb)\n",
    "\n",
    "print(ts.resample('1h').apply(lambda x: pd_nanmean_nb(x.values)))\n",
    "%timeit big_ts.iloc[:, :100].resample('1h').apply(lambda x: pd_nanmean_nb(x.values))\n",
    "\n",
    "print(ts.vbt.timeseries.resample_apply('1h', nanmean_nb))\n",
    "%timeit big_ts.vbt.timeseries.resample_apply('1h', nanmean_nb)\n",
    "\n",
    "print(ts.vbt.timeseries.resample_apply('1h', nanmean_matrix_nb, on_matrix=True))\n",
    "%timeit big_ts.vbt.timeseries.resample_apply('1h', nanmean_matrix_nb, on_matrix=True)"
   ]
  },
  {
   "cell_type": "code",
   "execution_count": 29,
   "metadata": {},
   "outputs": [
    {
     "name": "stdout",
     "output_type": "stream",
     "text": [
      "2018-01-01    2.0\n",
      "2018-01-04    4.0\n",
      "Freq: 3D, Name: a, dtype: float32\n",
      "3.88 ms ± 709 µs per loop (mean ± std. dev. of 7 runs, 100 loops each)\n",
      "2018-01-01    2.0\n",
      "2018-01-04    4.0\n",
      "Freq: 3D, Name: a, dtype: float64\n",
      "8.87 ms ± 284 µs per loop (mean ± std. dev. of 7 runs, 100 loops each)\n",
      "              a    b    c\n",
      "2018-01-01  2.0  3.5  1.5\n",
      "2018-01-04  4.0  1.5  1.5\n",
      "3.45 s ± 29.7 ms per loop (mean ± std. dev. of 7 runs, 1 loop each)\n",
      "              a    b    c\n",
      "2018-01-01  2.0  3.5  1.5\n",
      "2018-01-04  4.0  1.5  1.5\n",
      "92.8 ms ± 1.15 ms per loop (mean ± std. dev. of 7 runs, 10 loops each)\n",
      "                   a         b         c\n",
      "2018-01-01  2.285714  2.285714  2.285714\n",
      "2018-01-04  2.000000  2.000000  2.000000\n",
      "14.4 ms ± 76.6 µs per loop (mean ± std. dev. of 7 runs, 100 loops each)\n"
     ]
    }
   ],
   "source": [
    "print(ts['a'].resample('3d').apply(lambda x: pd_nanmean_nb(x.values)))\n",
    "%timeit big_ts.iloc[:, 0].resample('3d').apply(lambda x: pd_nanmean_nb(x.values))\n",
    "\n",
    "print(ts['a'].vbt.timeseries.resample_apply('3d', nanmean_nb))\n",
    "%timeit big_ts.iloc[:, 0].vbt.timeseries.resample_apply('3d', nanmean_nb)\n",
    "\n",
    "print(ts.resample('3d').apply(lambda x: pd_nanmean_nb(x.values)))\n",
    "%timeit big_ts.resample('3d').apply(lambda x: pd_nanmean_nb(x.values))\n",
    "\n",
    "print(ts.vbt.timeseries.resample_apply('3d', nanmean_nb))\n",
    "%timeit big_ts.vbt.timeseries.resample_apply('3d', nanmean_nb)\n",
    "\n",
    "print(ts.vbt.timeseries.resample_apply('3d', nanmean_matrix_nb, on_matrix=True))\n",
    "%timeit big_ts.vbt.timeseries.resample_apply('3d', nanmean_matrix_nb, on_matrix=True)"
   ]
  },
  {
   "cell_type": "code",
   "execution_count": 30,
   "metadata": {},
   "outputs": [
    {
     "name": "stdout",
     "output_type": "stream",
     "text": [
      "2018-01-07    2.5\n",
      "Freq: W-SUN, Name: a, dtype: float32\n",
      "7.11 ms ± 907 µs per loop (mean ± std. dev. of 7 runs, 100 loops each)\n",
      "2018-01-07    2.5\n",
      "Freq: W-SUN, Name: a, dtype: float64\n",
      "9.69 ms ± 206 µs per loop (mean ± std. dev. of 7 runs, 100 loops each)\n",
      "              a    b    c\n",
      "2018-01-07  2.5  2.5  1.5\n",
      "2.49 s ± 20.2 ms per loop (mean ± std. dev. of 7 runs, 1 loop each)\n",
      "              a    b    c\n",
      "2018-01-07  2.5  2.5  1.5\n",
      "45.7 ms ± 763 µs per loop (mean ± std. dev. of 7 runs, 10 loops each)\n",
      "                   a         b         c\n",
      "2018-01-07  2.166667  2.166667  2.166667\n",
      "14.5 ms ± 1.76 ms per loop (mean ± std. dev. of 7 runs, 100 loops each)\n"
     ]
    }
   ],
   "source": [
    "print(ts['a'].resample('1w').apply(lambda x: pd_nanmean_nb(x.values)))\n",
    "%timeit big_ts.iloc[:, 0].resample('1w').apply(lambda x: pd_nanmean_nb(x.values))\n",
    "\n",
    "print(ts['a'].vbt.timeseries.resample_apply('1w', nanmean_nb))\n",
    "%timeit big_ts.iloc[:, 0].vbt.timeseries.resample_apply('1w', nanmean_nb)\n",
    "\n",
    "print(ts.resample('1w').apply(lambda x: pd_nanmean_nb(x.values)))\n",
    "%timeit big_ts.resample('1w').apply(lambda x: pd_nanmean_nb(x.values))\n",
    "\n",
    "print(ts.vbt.timeseries.resample_apply('1w', nanmean_nb))\n",
    "%timeit big_ts.vbt.timeseries.resample_apply('1w', nanmean_nb)\n",
    "\n",
    "print(ts.vbt.timeseries.resample_apply('1w', nanmean_matrix_nb, on_matrix=True))\n",
    "%timeit big_ts.vbt.timeseries.resample_apply('1w', nanmean_matrix_nb, on_matrix=True)"
   ]
  },
  {
   "cell_type": "code",
   "execution_count": 6,
   "metadata": {},
   "outputs": [
    {
     "name": "stdout",
     "output_type": "stream",
     "text": [
      "start_date  2018-01-01  2018-01-04\n",
      "0                  1.0         4.0\n",
      "1                  2.0         NaN\n",
      "785 µs ± 177 µs per loop (mean ± std. dev. of 7 runs, 1 loop each)\n",
      "                    a                     b                     c           \n",
      "start_date 2018-01-01 2018-01-04 2018-01-01 2018-01-04 2018-01-01 2018-01-04\n",
      "0                 1.0        4.0        NaN        2.0        1.0        2.0\n",
      "1                 2.0        NaN        4.0        1.0        2.0        1.0\n",
      "45.8 ms ± 2.51 ms per loop (mean ± std. dev. of 7 runs, 1 loop each)\n"
     ]
    }
   ],
   "source": [
    "print(ts['a'].vbt.timeseries.rolling_window(2, n=2))\n",
    "%timeit big_ts.iloc[:, 0].vbt.timeseries.rolling_window(2, n=100)\n",
    "\n",
    "print(ts.vbt.timeseries.rolling_window(2, n=2))\n",
    "%timeit big_ts.vbt.timeseries.rolling_window(2, n=100)"
   ]
  },
  {
   "cell_type": "code",
   "execution_count": 7,
   "metadata": {},
   "outputs": [
    {
     "name": "stdout",
     "output_type": "stream",
     "text": [
      "              a    b    c\n",
      "2018-01-01  2.0  NaN  2.0\n",
      "2018-01-02  4.0  8.0  4.0\n",
      "2018-01-03  6.0  6.0  NaN\n",
      "2018-01-04  8.0  4.0  4.0\n",
      "2018-01-05  NaN  2.0  2.0\n",
      "428 ms ± 12 ms per loop (mean ± std. dev. of 7 runs, 1 loop each)\n",
      "2018-01-01    2.0\n",
      "2018-01-02    4.0\n",
      "2018-01-03    6.0\n",
      "2018-01-04    8.0\n",
      "2018-01-05    NaN\n",
      "Freq: D, Name: a, dtype: float64\n",
      "297 µs ± 88.2 µs per loop (mean ± std. dev. of 7 runs, 1 loop each)\n",
      "              a    b    c\n",
      "2018-01-01  2.0  NaN  2.0\n",
      "2018-01-02  4.0  8.0  4.0\n",
      "2018-01-03  6.0  6.0  NaN\n",
      "2018-01-04  8.0  4.0  4.0\n",
      "2018-01-05  NaN  2.0  2.0\n",
      "10.9 ms ± 425 µs per loop (mean ± std. dev. of 7 runs, 1 loop each)\n"
     ]
    }
   ],
   "source": [
    "mult_nb = njit(lambda col, i, x: x * 2)\n",
    "\n",
    "print(ts.applymap(lambda x: x * 2))\n",
    "%timeit big_ts.applymap(lambda x: x * 2)\n",
    "\n",
    "print(ts['a'].vbt.timeseries.applymap(mult_nb))\n",
    "%timeit big_ts.iloc[:, 0].vbt.timeseries.applymap(mult_nb)\n",
    "\n",
    "print(ts.vbt.timeseries.applymap(mult_nb))\n",
    "%timeit big_ts.vbt.timeseries.applymap(mult_nb)"
   ]
  },
  {
   "cell_type": "code",
   "execution_count": 8,
   "metadata": {},
   "outputs": [
    {
     "name": "stdout",
     "output_type": "stream",
     "text": [
      "              a    b   c\n",
      "2018-01-01  NaN  NaN NaN\n",
      "2018-01-02  NaN  4.0 NaN\n",
      "2018-01-03  3.0  3.0 NaN\n",
      "2018-01-04  4.0  NaN NaN\n",
      "2018-01-05  NaN  NaN NaN\n",
      "461 ms ± 24.5 ms per loop (mean ± std. dev. of 7 runs, 1 loop each)\n",
      "2018-01-01    NaN\n",
      "2018-01-02    NaN\n",
      "2018-01-03    3.0\n",
      "2018-01-04    4.0\n",
      "2018-01-05    NaN\n",
      "Freq: D, Name: a, dtype: float64\n",
      "312 µs ± 87 µs per loop (mean ± std. dev. of 7 runs, 1 loop each)\n",
      "              a    b   c\n",
      "2018-01-01  NaN  NaN NaN\n",
      "2018-01-02  NaN  4.0 NaN\n",
      "2018-01-03  3.0  3.0 NaN\n",
      "2018-01-04  4.0  NaN NaN\n",
      "2018-01-05  NaN  NaN NaN\n",
      "11.8 ms ± 269 µs per loop (mean ± std. dev. of 7 runs, 1 loop each)\n"
     ]
    }
   ],
   "source": [
    "greater_nb = njit(lambda col, i, x: x > 2)\n",
    "\n",
    "print(ts.applymap(lambda x: x if x > 2 else np.nan))\n",
    "%timeit big_ts.applymap(lambda x: x if x > 2 else np.nan)\n",
    "\n",
    "print(ts['a'].vbt.timeseries.filter(greater_nb))\n",
    "%timeit big_ts.iloc[:, 0].vbt.timeseries.filter(greater_nb)\n",
    "\n",
    "print(ts.vbt.timeseries.filter(greater_nb))\n",
    "%timeit big_ts.vbt.timeseries.filter(greater_nb)"
   ]
  },
  {
   "cell_type": "code",
   "execution_count": 9,
   "metadata": {},
   "outputs": [
    {
     "name": "stdout",
     "output_type": "stream",
     "text": [
      "1 days 00:00:00\n"
     ]
    }
   ],
   "source": [
    "print(ts.vbt.timeseries.timedelta)"
   ]
  },
  {
   "cell_type": "code",
   "execution_count": 11,
   "metadata": {},
   "outputs": [
    {
     "name": "stdout",
     "output_type": "stream",
     "text": [
      "4.0\n",
      "432 µs ± 99.1 µs per loop (mean ± std. dev. of 7 runs, 1 loop each)\n",
      "a    4.0\n",
      "b    4.0\n",
      "c    2.0\n",
      "dtype: float64\n",
      "2.4 ms ± 512 µs per loop (mean ± std. dev. of 7 runs, 1 loop each)\n",
      "a   4 days\n",
      "b   4 days\n",
      "c   2 days\n",
      "dtype: timedelta64[ns]\n",
      "11 ms ± 741 µs per loop (mean ± std. dev. of 7 runs, 100 loops each)\n"
     ]
    }
   ],
   "source": [
    "every_2th_nb = njit(lambda col, a: a[::2])\n",
    "sum_nb = njit(lambda col, a: np.nansum(a))\n",
    "\n",
    "print(ts['a'].vbt.timeseries.apply_and_reduce(every_2th_nb, sum_nb))\n",
    "%timeit big_ts.iloc[:, 0].vbt.timeseries.apply_and_reduce(every_2th_nb, sum_nb)\n",
    "\n",
    "print(ts.vbt.timeseries.apply_and_reduce(every_2th_nb, sum_nb))\n",
    "%timeit big_ts.vbt.timeseries.apply_and_reduce(every_2th_nb, sum_nb)\n",
    "\n",
    "print(ts.vbt.timeseries.apply_and_reduce(every_2th_nb, sum_nb, time_units=True))\n",
    "%timeit big_ts.vbt.timeseries.apply_and_reduce(every_2th_nb, sum_nb, time_units=True)"
   ]
  },
  {
   "cell_type": "code",
   "execution_count": 12,
   "metadata": {},
   "outputs": [
    {
     "name": "stdout",
     "output_type": "stream",
     "text": [
      "a    10.0\n",
      "b    10.0\n",
      "c     6.0\n",
      "dtype: float64\n",
      "94.1 ms ± 7.25 ms per loop (mean ± std. dev. of 7 runs, 10 loops each)\n",
      "10.0\n",
      "457 µs ± 71.8 µs per loop (mean ± std. dev. of 7 runs, 1000 loops each)\n",
      "a    10.0\n",
      "b    10.0\n",
      "c     6.0\n",
      "dtype: float64\n",
      "3.14 ms ± 16.3 µs per loop (mean ± std. dev. of 7 runs, 100 loops each)\n",
      "a   10 days\n",
      "b   10 days\n",
      "c    6 days\n",
      "dtype: timedelta64[ns]\n",
      "11.5 ms ± 1.39 ms per loop (mean ± std. dev. of 7 runs, 100 loops each)\n"
     ]
    }
   ],
   "source": [
    "print(ts.apply(np.nansum, axis=0))\n",
    "%timeit big_ts.apply(np.nansum, axis=0)\n",
    "\n",
    "print(ts['a'].vbt.timeseries.reduce(sum_nb))\n",
    "%timeit big_ts.iloc[:, 0].vbt.timeseries.reduce(sum_nb)\n",
    "\n",
    "print(ts.vbt.timeseries.reduce(sum_nb))\n",
    "%timeit big_ts.vbt.timeseries.reduce(sum_nb)\n",
    "\n",
    "print(ts.vbt.timeseries.reduce(sum_nb, time_units=True))\n",
    "%timeit big_ts.vbt.timeseries.reduce(sum_nb, time_units=True)"
   ]
  },
  {
   "cell_type": "code",
   "execution_count": 13,
   "metadata": {},
   "outputs": [
    {
     "name": "stdout",
     "output_type": "stream",
     "text": [
      "     a    b    c\n",
      "0  1.0  1.0  1.0\n",
      "1  4.0  4.0  2.0\n",
      "199 ms ± 29.8 ms per loop (mean ± std. dev. of 7 runs, 1 loop each)\n",
      "min    1.0\n",
      "max    4.0\n",
      "Name: a, dtype: float64\n",
      "402 µs ± 102 µs per loop (mean ± std. dev. of 7 runs, 1 loop each)\n",
      "       a    b    c\n",
      "min  1.0  1.0  1.0\n",
      "max  4.0  4.0  2.0\n",
      "5.26 ms ± 139 µs per loop (mean ± std. dev. of 7 runs, 1 loop each)\n",
      "         a      b      c\n",
      "min 1 days 1 days 1 days\n",
      "max 4 days 4 days 2 days\n",
      "134 ms ± 940 µs per loop (mean ± std. dev. of 7 runs, 10 loops each)\n"
     ]
    }
   ],
   "source": [
    "@njit\n",
    "def min_and_max_nb(col, a):\n",
    "    result = np.empty(2)\n",
    "    result[0] = np.nanmin(a)\n",
    "    result[1] = np.nanmax(a)\n",
    "    return result\n",
    "\n",
    "print(ts.apply(lambda x: np.asarray([np.min(x), np.max(x)]), axis=0))\n",
    "%timeit big_ts.apply(lambda x: np.asarray([np.min(x), np.max(x)]), axis=0)\n",
    "\n",
    "print(ts['a'].vbt.timeseries.reduce_to_array(min_and_max_nb, index=['min', 'max']))\n",
    "%timeit big_ts.iloc[:, 0].vbt.timeseries.reduce_to_array(min_and_max_nb, index=['min', 'max'])\n",
    "\n",
    "print(ts.vbt.timeseries.reduce_to_array(min_and_max_nb, index=['min', 'max']))\n",
    "%timeit big_ts.vbt.timeseries.reduce_to_array(min_and_max_nb, index=['min', 'max'])\n",
    "\n",
    "print(ts.vbt.timeseries.reduce_to_array(min_and_max_nb, index=['min', 'max'], time_units=True))\n",
    "%timeit big_ts.vbt.timeseries.reduce_to_array(min_and_max_nb, index=['min', 'max'], time_units=True)"
   ]
  },
  {
   "cell_type": "code",
   "execution_count": 14,
   "metadata": {},
   "outputs": [
    {
     "name": "stdout",
     "output_type": "stream",
     "text": [
      "a    1.0\n",
      "b    1.0\n",
      "c    1.0\n",
      "dtype: float32\n",
      "3.85 ms ± 57.9 µs per loop (mean ± std. dev. of 7 runs, 100 loops each)\n",
      "a    1.0\n",
      "b    1.0\n",
      "c    1.0\n",
      "dtype: float32\n",
      "3.84 ms ± 31.6 µs per loop (mean ± std. dev. of 7 runs, 100 loops each)\n",
      "a   1 days\n",
      "b   1 days\n",
      "c   1 days\n",
      "dtype: timedelta64[ns]\n",
      "11 ms ± 90.1 µs per loop (mean ± std. dev. of 7 runs, 100 loops each)\n"
     ]
    }
   ],
   "source": [
    "print(ts.min())\n",
    "%timeit big_ts.min()\n",
    "\n",
    "print(ts.vbt.timeseries.min())\n",
    "%timeit big_ts.vbt.timeseries.min()\n",
    "\n",
    "print(ts.vbt.timeseries.min(time_units=True))\n",
    "%timeit big_ts.vbt.timeseries.min(time_units=True)"
   ]
  },
  {
   "cell_type": "code",
   "execution_count": 15,
   "metadata": {},
   "outputs": [
    {
     "name": "stdout",
     "output_type": "stream",
     "text": [
      "a    4.0\n",
      "b    4.0\n",
      "c    2.0\n",
      "dtype: float32\n",
      "3.83 ms ± 14.2 µs per loop (mean ± std. dev. of 7 runs, 100 loops each)\n",
      "a    4.0\n",
      "b    4.0\n",
      "c    2.0\n",
      "dtype: float32\n",
      "3.83 ms ± 28.5 µs per loop (mean ± std. dev. of 7 runs, 100 loops each)\n",
      "a   4 days\n",
      "b   4 days\n",
      "c   2 days\n",
      "dtype: timedelta64[ns]\n",
      "11.2 ms ± 67.6 µs per loop (mean ± std. dev. of 7 runs, 100 loops each)\n"
     ]
    }
   ],
   "source": [
    "print(ts.max())\n",
    "%timeit big_ts.max()\n",
    "\n",
    "print(ts.vbt.timeseries.max())\n",
    "%timeit big_ts.vbt.timeseries.max()\n",
    "\n",
    "print(ts.vbt.timeseries.max(time_units=True))\n",
    "%timeit big_ts.vbt.timeseries.max(time_units=True)"
   ]
  },
  {
   "cell_type": "code",
   "execution_count": 16,
   "metadata": {},
   "outputs": [
    {
     "name": "stdout",
     "output_type": "stream",
     "text": [
      "a    2.5\n",
      "b    2.5\n",
      "c    1.5\n",
      "dtype: float32\n",
      "2.92 ms ± 46.9 µs per loop (mean ± std. dev. of 7 runs, 100 loops each)\n",
      "a    2.5\n",
      "b    2.5\n",
      "c    1.5\n",
      "dtype: float32\n",
      "2.88 ms ± 38.5 µs per loop (mean ± std. dev. of 7 runs, 100 loops each)\n",
      "a   2 days 12:00:00\n",
      "b   2 days 12:00:00\n",
      "c   1 days 12:00:00\n",
      "dtype: timedelta64[ns]\n",
      "10.5 ms ± 115 µs per loop (mean ± std. dev. of 7 runs, 100 loops each)\n"
     ]
    }
   ],
   "source": [
    "print(ts.mean())\n",
    "%timeit big_ts.mean()\n",
    "\n",
    "print(ts.vbt.timeseries.mean())\n",
    "%timeit big_ts.vbt.timeseries.mean()\n",
    "\n",
    "print(ts.vbt.timeseries.mean(time_units=True))\n",
    "%timeit big_ts.vbt.timeseries.mean(time_units=True)"
   ]
  },
  {
   "cell_type": "code",
   "execution_count": 17,
   "metadata": {},
   "outputs": [
    {
     "name": "stdout",
     "output_type": "stream",
     "text": [
      "a    1.290994\n",
      "b    1.290994\n",
      "c    0.577350\n",
      "dtype: float32\n",
      "3.99 ms ± 34.9 µs per loop (mean ± std. dev. of 7 runs, 100 loops each)\n",
      "a    1.290994\n",
      "b    1.290994\n",
      "c    0.577350\n",
      "dtype: float32\n",
      "4 ms ± 77.3 µs per loop (mean ± std. dev. of 7 runs, 100 loops each)\n",
      "a   1 days 06:59:01.916656\n",
      "b   1 days 06:59:01.916656\n",
      "c   0 days 13:51:23.062363\n",
      "dtype: timedelta64[ns]\n",
      "11.6 ms ± 76.7 µs per loop (mean ± std. dev. of 7 runs, 100 loops each)\n"
     ]
    }
   ],
   "source": [
    "print(ts.std())\n",
    "%timeit big_ts.std()\n",
    "\n",
    "print(ts.vbt.timeseries.std())\n",
    "%timeit big_ts.vbt.timeseries.std()\n",
    "\n",
    "print(ts.vbt.timeseries.std(time_units=True))\n",
    "%timeit big_ts.vbt.timeseries.std(time_units=True)"
   ]
  },
  {
   "cell_type": "code",
   "execution_count": 18,
   "metadata": {},
   "outputs": [
    {
     "name": "stdout",
     "output_type": "stream",
     "text": [
      "a    4\n",
      "b    4\n",
      "c    4\n",
      "dtype: int64\n",
      "2.6 ms ± 35.9 µs per loop (mean ± std. dev. of 7 runs, 100 loops each)\n",
      "a    4\n",
      "b    4\n",
      "c    4\n",
      "dtype: int64\n",
      "2 ms ± 53.4 µs per loop (mean ± std. dev. of 7 runs, 100 loops each)\n",
      "a   4 days\n",
      "b   4 days\n",
      "c   4 days\n",
      "dtype: timedelta64[ns]\n",
      "9.49 ms ± 190 µs per loop (mean ± std. dev. of 7 runs, 100 loops each)\n"
     ]
    }
   ],
   "source": [
    "print((~ts.isnull()).sum())\n",
    "%timeit (~big_ts.isnull()).sum()\n",
    "\n",
    "print(ts.vbt.timeseries.count())\n",
    "%timeit big_ts.vbt.timeseries.count()\n",
    "\n",
    "print(ts.vbt.timeseries.count(time_units=True))\n",
    "%timeit big_ts.vbt.timeseries.count(time_units=True)"
   ]
  },
  {
   "cell_type": "code",
   "execution_count": 19,
   "metadata": {},
   "outputs": [
    {
     "name": "stdout",
     "output_type": "stream",
     "text": [
      "a   2018-01-01\n",
      "b   2018-01-05\n",
      "c   2018-01-01\n",
      "dtype: datetime64[ns]\n",
      "13.5 ms ± 120 µs per loop (mean ± std. dev. of 7 runs, 100 loops each)\n",
      "a   2018-01-01\n",
      "b   2018-01-05\n",
      "c   2018-01-01\n",
      "dtype: datetime64[ns]\n",
      "3.41 ms ± 24.9 µs per loop (mean ± std. dev. of 7 runs, 100 loops each)\n"
     ]
    }
   ],
   "source": [
    "print(ts.idxmin())\n",
    "%timeit big_ts.idxmin()\n",
    "\n",
    "print(ts.vbt.timeseries.argmin())\n",
    "%timeit big_ts.vbt.timeseries.argmin()"
   ]
  },
  {
   "cell_type": "code",
   "execution_count": 20,
   "metadata": {},
   "outputs": [
    {
     "name": "stdout",
     "output_type": "stream",
     "text": [
      "a   2018-01-04\n",
      "b   2018-01-02\n",
      "c   2018-01-02\n",
      "dtype: datetime64[ns]\n",
      "13.7 ms ± 231 µs per loop (mean ± std. dev. of 7 runs, 100 loops each)\n",
      "a   2018-01-04\n",
      "b   2018-01-02\n",
      "c   2018-01-02\n",
      "dtype: datetime64[ns]\n",
      "3.44 ms ± 61 µs per loop (mean ± std. dev. of 7 runs, 100 loops each)\n"
     ]
    }
   ],
   "source": [
    "print(ts.idxmax())\n",
    "%timeit big_ts.idxmax()\n",
    "\n",
    "print(ts.vbt.timeseries.argmax())\n",
    "%timeit big_ts.vbt.timeseries.argmax()"
   ]
  },
  {
   "cell_type": "code",
   "execution_count": 21,
   "metadata": {},
   "outputs": [
    {
     "name": "stdout",
     "output_type": "stream",
     "text": [
      "              a         b        c\n",
      "count  4.000000  4.000000  4.00000\n",
      "mean   2.500000  2.500000  1.50000\n",
      "std    1.290994  1.290994  0.57735\n",
      "min    1.000000  1.000000  1.00000\n",
      "0%     1.000000  1.000000  1.00000\n",
      "10%    1.300000  1.300000  1.00000\n",
      "20%    1.600000  1.600000  1.00000\n",
      "30%    1.900000  1.900000  1.00000\n",
      "40%    2.200000  2.200000  1.20000\n",
      "50%    2.500000  2.500000  1.50000\n",
      "60%    2.800000  2.800000  1.80000\n",
      "70%    3.100000  3.100000  2.00000\n",
      "80%    3.400000  3.400000  2.00000\n",
      "90%    3.700000  3.700000  2.00000\n",
      "max    4.000000  4.000000  2.00000\n",
      "1.92 s ± 26.3 ms per loop (mean ± std. dev. of 7 runs, 1 loop each)\n",
      "               a         b        c\n",
      "count   4.000000  4.000000  4.00000\n",
      "mean    2.500000  2.500000  1.50000\n",
      "std     1.290994  1.290994  0.57735\n",
      "min     1.000000  1.000000  1.00000\n",
      "0.00%   1.000000  1.000000  1.00000\n",
      "10.00%  1.300000  1.300000  1.00000\n",
      "20.00%  1.600000  1.600000  1.00000\n",
      "30.00%  1.900000  1.900000  1.00000\n",
      "40.00%  2.200000  2.200000  1.20000\n",
      "50.00%  2.500000  2.500000  1.50000\n",
      "60.00%  2.800000  2.800000  1.80000\n",
      "70.00%  3.100000  3.100000  2.00000\n",
      "80.00%  3.400000  3.400000  2.00000\n",
      "90.00%  3.700000  3.700000  2.00000\n",
      "max     4.000000  4.000000  2.00000\n",
      "594 ms ± 5.74 ms per loop (mean ± std. dev. of 7 runs, 1 loop each)\n"
     ]
    }
   ],
   "source": [
    "print(ts.describe(percentiles=np.arange(0, 1, 0.1)))\n",
    "%timeit big_ts.describe(percentiles=np.arange(0, 1, 0.1))\n",
    "\n",
    "print(ts.vbt.timeseries.describe(percentiles=np.arange(0, 1, 0.1)))\n",
    "%timeit big_ts.vbt.timeseries.describe(percentiles=np.arange(0, 1, 0.1))"
   ]
  },
  {
   "cell_type": "code",
   "execution_count": 22,
   "metadata": {
    "Collapsed": "false"
   },
   "outputs": [
    {
     "data": {
      "text/plain": [
       "<matplotlib.axes._subplots.AxesSubplot at 0x1a27ae1668>"
      ]
     },
     "execution_count": 22,
     "metadata": {},
     "output_type": "execute_result"
    },
    {
     "data": {
      "image/png": "[encoded data removed]",
      "text/plain": [
       "<Figure size 432x288 with 1 Axes>"
      ]
     },
     "metadata": {
      "needs_background": "light"
     },
     "output_type": "display_data"
    }
   ],
   "source": [
    "# Two ways of plotting\n",
    "ts.plot()"
   ]
  },
  {
   "cell_type": "code",
   "execution_count": 23,
   "metadata": {},
   "outputs": [
    {
     "data": {
      "image/png": "[encoded data removed]"
     },
     "metadata": {},
     "output_type": "display_data"
    }
   ],
   "source": [
    "ts['a'].vbt.timeseries.plot().show_png()"
   ]
  },
  {
   "cell_type": "code",
   "execution_count": 24,
   "metadata": {},
   "outputs": [
    {
     "data": {
      "image/png": "[encoded data removed]"
     },
     "metadata": {},
     "output_type": "display_data"
    }
   ],
   "source": [
    "ts.vbt.timeseries.plot().show_png()"
   ]
  },
  {
   "cell_type": "code",
   "execution_count": 25,
   "metadata": {},
   "outputs": [
    {
     "data": {
      "image/png": "[encoded data removed]"
     },
     "metadata": {},
     "output_type": "display_data"
    }
   ],
   "source": [
    "ts['a'].vbt.timeseries.plot_against(2).show_png()"
   ]
  },
  {
   "cell_type": "code",
   "execution_count": 26,
   "metadata": {},
   "outputs": [
    {
     "data": {
      "image/png": "[encoded data removed]"
     },
     "metadata": {},
     "output_type": "display_data"
    }
   ],
   "source": [
    "ts['a'].vbt.timeseries.plot_against(ts['b']).show_png()"
   ]
  },
  {
   "cell_type": "markdown",
   "metadata": {},
   "source": [
    "## OHLCV"
   ]
  },
  {
   "cell_type": "code",
   "execution_count": 27,
   "metadata": {},
   "outputs": [
    {
     "name": "stdout",
     "output_type": "stream",
     "text": [
      "                Open      High       Low     Close    Volume\n",
      "2018-01-01 -0.215861  0.550554 -1.006720 -0.207495  0.722158\n",
      "2018-01-02  0.351140  1.070810 -0.129642  1.125355  0.808357\n",
      "2018-01-03  0.940280  1.363845  0.028976  1.857904  1.637592\n",
      "2018-01-04  0.433441  1.108908  0.314202  1.062072  0.903379\n",
      "2018-01-05  0.758673  1.702985  0.472758  0.636532  0.569715\n"
     ]
    }
   ],
   "source": [
    "ohlcv_ts = pd.DataFrame(\n",
    "    columns=['Open', 'High', 'Low', 'Close', 'Volume'],\n",
    "    index=[datetime(2018, 1, 1) + timedelta(days=i) for i in range(1000)]\n",
    ")\n",
    "ohlcv_ts['Open'] = np.cumsum(np.random.uniform(-0.8, 1, size=(1000,)))\n",
    "ohlcv_ts['Close'] = ohlcv_ts['Open'] + np.random.uniform(-1, 1, size=(1000,))\n",
    "ohlcv_ts['High'] = ohlcv_ts['Open'] + np.random.uniform(0, 1, size=(1000,))\n",
    "ohlcv_ts['Low'] = ohlcv_ts['Open'] - np.random.uniform(0, 1, size=(1000,))\n",
    "ohlcv_ts['Volume'] = np.cumsum(np.random.uniform(-1, 1, size=(1000,)))\n",
    "\n",
    "print(ohlcv_ts.head())"
   ]
  },
  {
   "cell_type": "code",
   "execution_count": 28,
   "metadata": {},
   "outputs": [
    {
     "data": {
      "image/png": "[encoded data removed]"
     },
     "metadata": {},
     "output_type": "display_data"
    }
   ],
   "source": [
    "ohlcv_ts = ohlcv_ts.rename(columns={'Volume': 'Volume2'}) # test different column names\n",
    "\n",
    "ohlcv_ts.vbt.ohlcv(volume='Volume2').plot().show_png()"
   ]
  },
  {
   "cell_type": "code",
   "execution_count": null,
   "metadata": {},
   "outputs": [],
   "source": []
  }
 ],
 "metadata": {
  "kernelspec": {
   "display_name": "Python 3",
   "language": "python",
   "name": "python3"
  },
  "language_info": {
   "codemirror_mode": {
    "name": "ipython",
    "version": 3
   },
   "file_extension": ".py",
   "mimetype": "text/x-python",
   "name": "python",
   "nbconvert_exporter": "python",
   "pygments_lexer": "ipython3",
   "version": "3.7.3"
  },
  "widgets": {
   "application/vnd.jupyter.widget-state+json": {
    "state": {
     "0ee54b850b514efe8a5536f3efd78c47": {
      "buffers": [
       {
        "data": "AACAPwAAAEAAAEBAAACAQAAAwH8=",
        "encoding": "base64",
        "path": [
         "_data",
         0,
         "y",
         "value"
        ]
       }
      ],
      "model_module": "plotlywidget",
      "model_module_version": "4.7.1",
      "model_name": "FigureModel",
      "state": {
       "_config": {
        "plotlyServerURL": "https://plot.ly"
       },
       "_data": [
        {
         "mode": "lines",
         "name": "a",
         "showlegend": true,
         "type": "scatter",
         "uid": "c467740c-e7da-44d6-8418-0f77ee8fed6d",
         "x": [
          "2018-01-01T00:00:00.000000",
          "2018-01-02T00:00:00.000000",
          "2018-01-03T00:00:00.000000",
          "2018-01-04T00:00:00.000000",
          "2018-01-05T00:00:00.000000"
         ],
         "y": {
          "dtype": "float32",
          "shape": [
           5
          ]
         }
        }
       ],
       "_js2py_layoutDelta": {},
       "_js2py_pointsCallback": {},
       "_js2py_relayout": {},
       "_js2py_restyle": {},
       "_js2py_traceDeltas": {},
       "_js2py_update": {},
       "_last_layout_edit_id": 2,
       "_last_trace_edit_id": 2,
       "_layout": {
        "autosize": false,
        "colorway": [
         "#1f77b4",
         "#ff7f0e",
         "#2ca02c",
         "#d62728",
         "#9467bd",
         "#8c564b",
         "#e377c2",
         "#7f7f7f",
         "#bcbd22",
         "#17becf"
        ],
        "height": 300,
        "hovermode": "closest",
        "margin": {
         "b": 30,
         "t": 30
        },
        "template": {
         "data": {
          "bar": [
           {
            "error_x": {
             "color": "#2a3f5f"
            },
            "error_y": {
             "color": "#2a3f5f"
            },
            "marker": {
             "line": {
              "color": "#E5ECF6",
              "width": 0.5
             }
            },
            "type": "bar"
           }
          ],
          "barpolar": [
           {
            "marker": {
             "line": {
              "color": "#E5ECF6",
              "width": 0.5
             }
            },
            "type": "barpolar"
           }
          ],
          "carpet": [
           {
            "aaxis": {
             "endlinecolor": "#2a3f5f",
             "gridcolor": "white",
             "linecolor": "white",
             "minorgridcolor": "white",
             "startlinecolor": "#2a3f5f"
            },
            "baxis": {
             "endlinecolor": "#2a3f5f",
             "gridcolor": "white",
             "linecolor": "white",
             "minorgridcolor": "white",
             "startlinecolor": "#2a3f5f"
            },
            "type": "carpet"
           }
          ],
          "choropleth": [
           {
            "colorbar": {
             "outlinewidth": 0,
             "ticks": ""
            },
            "type": "choropleth"
           }
          ],
          "contour": [
           {
            "colorbar": {
             "outlinewidth": 0,
             "ticks": ""
            },
            "colorscale": [
             [
              0,
              "#0d0887"
             ],
             [
              0.1111111111111111,
              "#46039f"
             ],
             [
              0.2222222222222222,
              "#7201a8"
             ],
             [
              0.3333333333333333,
              "#9c179e"
             ],
             [
              0.4444444444444444,
              "#bd3786"
             ],
             [
              0.5555555555555556,
              "#d8576b"
             ],
             [
              0.6666666666666666,
              "#ed7953"
             ],
             [
              0.7777777777777778,
              "#fb9f3a"
             ],
             [
              0.8888888888888888,
              "#fdca26"
             ],
             [
              1,
              "#f0f921"
             ]
            ],
            "type": "contour"
           }
          ],
          "contourcarpet": [
           {
            "colorbar": {
             "outlinewidth": 0,
             "ticks": ""
            },
            "type": "contourcarpet"
           }
          ],
          "heatmap": [
           {
            "colorbar": {
             "outlinewidth": 0,
             "ticks": ""
            },
            "colorscale": [
             [
              0,
              "#0d0887"
             ],
             [
              0.1111111111111111,
              "#46039f"
             ],
             [
              0.2222222222222222,
              "#7201a8"
             ],
             [
              0.3333333333333333,
              "#9c179e"
             ],
             [
              0.4444444444444444,
              "#bd3786"
             ],
             [
              0.5555555555555556,
              "#d8576b"
             ],
             [
              0.6666666666666666,
              "#ed7953"
             ],
             [
              0.7777777777777778,
              "#fb9f3a"
             ],
             [
              0.8888888888888888,
              "#fdca26"
             ],
             [
              1,
              "#f0f921"
             ]
            ],
            "type": "heatmap"
           }
          ],
          "heatmapgl": [
           {
            "colorbar": {
             "outlinewidth": 0,
             "ticks": ""
            },
            "colorscale": [
             [
              0,
              "#0d0887"
             ],
             [
              0.1111111111111111,
              "#46039f"
             ],
             [
              0.2222222222222222,
              "#7201a8"
             ],
             [
              0.3333333333333333,
              "#9c179e"
             ],
             [
              0.4444444444444444,
              "#bd3786"
             ],
             [
              0.5555555555555556,
              "#d8576b"
             ],
             [
              0.6666666666666666,
              "#ed7953"
             ],
             [
              0.7777777777777778,
              "#fb9f3a"
             ],
             [
              0.8888888888888888,
              "#fdca26"
             ],
             [
              1,
              "#f0f921"
             ]
            ],
            "type": "heatmapgl"
           }
          ],
          "histogram": [
           {
            "marker": {
             "colorbar": {
              "outlinewidth": 0,
              "ticks": ""
             }
            },
            "type": "histogram"
           }
          ],
          "histogram2d": [
           {
            "colorbar": {
             "outlinewidth": 0,
             "ticks": ""
            },
            "colorscale": [
             [
              0,
              "#0d0887"
             ],
             [
              0.1111111111111111,
              "#46039f"
             ],
             [
              0.2222222222222222,
              "#7201a8"
             ],
             [
              0.3333333333333333,
              "#9c179e"
             ],
             [
              0.4444444444444444,
              "#bd3786"
             ],
             [
              0.5555555555555556,
              "#d8576b"
             ],
             [
              0.6666666666666666,
              "#ed7953"
             ],
             [
              0.7777777777777778,
              "#fb9f3a"
             ],
             [
              0.8888888888888888,
              "#fdca26"
             ],
             [
              1,
              "#f0f921"
             ]
            ],
            "type": "histogram2d"
           }
          ],
          "histogram2dcontour": [
           {
            "colorbar": {
             "outlinewidth": 0,
             "ticks": ""
            },
            "colorscale": [
             [
              0,
              "#0d0887"
             ],
             [
              0.1111111111111111,
              "#46039f"
             ],
             [
              0.2222222222222222,
              "#7201a8"
             ],
             [
              0.3333333333333333,
              "#9c179e"
             ],
             [
              0.4444444444444444,
              "#bd3786"
             ],
             [
              0.5555555555555556,
              "#d8576b"
             ],
             [
              0.6666666666666666,
              "#ed7953"
             ],
             [
              0.7777777777777778,
              "#fb9f3a"
             ],
             [
              0.8888888888888888,
              "#fdca26"
             ],
             [
              1,
              "#f0f921"
             ]
            ],
            "type": "histogram2dcontour"
           }
          ],
          "mesh3d": [
           {
            "colorbar": {
             "outlinewidth": 0,
             "ticks": ""
            },
            "type": "mesh3d"
           }
          ],
          "parcoords": [
           {
            "line": {
             "colorbar": {
              "outlinewidth": 0,
              "ticks": ""
             }
            },
            "type": "parcoords"
           }
          ],
          "pie": [
           {
            "automargin": true,
            "type": "pie"
           }
          ],
          "scatter": [
           {
            "marker": {
             "colorbar": {
              "outlinewidth": 0,
              "ticks": ""
             }
            },
            "type": "scatter"
           }
          ],
          "scatter3d": [
           {
            "line": {
             "colorbar": {
              "outlinewidth": 0,
              "ticks": ""
             }
            },
            "marker": {
             "colorbar": {
              "outlinewidth": 0,
              "ticks": ""
             }
            },
            "type": "scatter3d"
           }
          ],
          "scattercarpet": [
           {
            "marker": {
             "colorbar": {
              "outlinewidth": 0,
              "ticks": ""
             }
            },
            "type": "scattercarpet"
           }
          ],
          "scattergeo": [
           {
            "marker": {
             "colorbar": {
              "outlinewidth": 0,
              "ticks": ""
             }
            },
            "type": "scattergeo"
           }
          ],
          "scattergl": [
           {
            "marker": {
             "colorbar": {
              "outlinewidth": 0,
              "ticks": ""
             }
            },
            "type": "scattergl"
           }
          ],
          "scattermapbox": [
           {
            "marker": {
             "colorbar": {
              "outlinewidth": 0,
              "ticks": ""
             }
            },
            "type": "scattermapbox"
           }
          ],
          "scatterpolar": [
           {
            "marker": {
             "colorbar": {
              "outlinewidth": 0,
              "ticks": ""
             }
            },
            "type": "scatterpolar"
           }
          ],
          "scatterpolargl": [
           {
            "marker": {
             "colorbar": {
              "outlinewidth": 0,
              "ticks": ""
             }
            },
            "type": "scatterpolargl"
           }
          ],
          "scatterternary": [
           {
            "marker": {
             "colorbar": {
              "outlinewidth": 0,
              "ticks": ""
             }
            },
            "type": "scatterternary"
           }
          ],
          "surface": [
           {
            "colorbar": {
             "outlinewidth": 0,
             "ticks": ""
            },
            "colorscale": [
             [
              0,
              "#0d0887"
             ],
             [
              0.1111111111111111,
              "#46039f"
             ],
             [
              0.2222222222222222,
              "#7201a8"
             ],
             [
              0.3333333333333333,
              "#9c179e"
             ],
             [
              0.4444444444444444,
              "#bd3786"
             ],
             [
              0.5555555555555556,
              "#d8576b"
             ],
             [
              0.6666666666666666,
              "#ed7953"
             ],
             [
              0.7777777777777778,
              "#fb9f3a"
             ],
             [
              0.8888888888888888,
              "#fdca26"
             ],
             [
              1,
              "#f0f921"
             ]
            ],
            "type": "surface"
           }
          ],
          "table": [
           {
            "cells": {
             "fill": {
              "color": "#EBF0F8"
             },
             "line": {
              "color": "white"
             }
            },
            "header": {
             "fill": {
              "color": "#C8D4E3"
             },
             "line": {
              "color": "white"
             }
            },
            "type": "table"
           }
          ]
         },
         "layout": {
          "annotationdefaults": {
           "arrowcolor": "#2a3f5f",
           "arrowhead": 0,
           "arrowwidth": 1
          },
          "coloraxis": {
           "colorbar": {
            "outlinewidth": 0,
            "ticks": ""
           }
          },
          "colorscale": {
           "diverging": [
            [
             0,
             "#8e0152"
            ],
            [
             0.1,
             "#c51b7d"
            ],
            [
             0.2,
             "#de77ae"
            ],
            [
             0.3,
             "#f1b6da"
            ],
            [
             0.4,
             "#fde0ef"
            ],
            [
             0.5,
             "#f7f7f7"
            ],
            [
             0.6,
             "#e6f5d0"
            ],
            [
             0.7,
             "#b8e186"
            ],
            [
             0.8,
             "#7fbc41"
            ],
            [
             0.9,
             "#4d9221"
            ],
            [
             1,
             "#276419"
            ]
           ],
           "sequential": [
            [
             0,
             "#0d0887"
            ],
            [
             0.1111111111111111,
             "#46039f"
            ],
            [
             0.2222222222222222,
             "#7201a8"
            ],
            [
             0.3333333333333333,
             "#9c179e"
            ],
            [
             0.4444444444444444,
             "#bd3786"
            ],
            [
             0.5555555555555556,
             "#d8576b"
            ],
            [
             0.6666666666666666,
             "#ed7953"
            ],
            [
             0.7777777777777778,
             "#fb9f3a"
            ],
            [
             0.8888888888888888,
             "#fdca26"
            ],
            [
             1,
             "#f0f921"
            ]
           ],
           "sequentialminus": [
            [
             0,
             "#0d0887"
            ],
            [
             0.1111111111111111,
             "#46039f"
            ],
            [
             0.2222222222222222,
             "#7201a8"
            ],
            [
             0.3333333333333333,
             "#9c179e"
            ],
            [
             0.4444444444444444,
             "#bd3786"
            ],
            [
             0.5555555555555556,
             "#d8576b"
            ],
            [
             0.6666666666666666,
             "#ed7953"
            ],
            [
             0.7777777777777778,
             "#fb9f3a"
            ],
            [
             0.8888888888888888,
             "#fdca26"
            ],
            [
             1,
             "#f0f921"
            ]
           ]
          },
          "colorway": [
           "#636efa",
           "#EF553B",
           "#00cc96",
           "#ab63fa",
           "#FFA15A",
           "#19d3f3",
           "#FF6692",
           "#B6E880",
           "#FF97FF",
           "#FECB52"
          ],
          "font": {
           "color": "#2a3f5f"
          },
          "geo": {
           "bgcolor": "white",
           "lakecolor": "white",
           "landcolor": "#E5ECF6",
           "showlakes": true,
           "showland": true,
           "subunitcolor": "white"
          },
          "hoverlabel": {
           "align": "left"
          },
          "hovermode": "closest",
          "mapbox": {
           "style": "light"
          },
          "paper_bgcolor": "white",
          "plot_bgcolor": "#E5ECF6",
          "polar": {
           "angularaxis": {
            "gridcolor": "white",
            "linecolor": "white",
            "ticks": ""
           },
           "bgcolor": "#E5ECF6",
           "radialaxis": {
            "gridcolor": "white",
            "linecolor": "white",
            "ticks": ""
           }
          },
          "scene": {
           "xaxis": {
            "backgroundcolor": "#E5ECF6",
            "gridcolor": "white",
            "gridwidth": 2,
            "linecolor": "white",
            "showbackground": true,
            "ticks": "",
            "zerolinecolor": "white"
           },
           "yaxis": {
            "backgroundcolor": "#E5ECF6",
            "gridcolor": "white",
            "gridwidth": 2,
            "linecolor": "white",
            "showbackground": true,
            "ticks": "",
            "zerolinecolor": "white"
           },
           "zaxis": {
            "backgroundcolor": "#E5ECF6",
            "gridcolor": "white",
            "gridwidth": 2,
            "linecolor": "white",
            "showbackground": true,
            "ticks": "",
            "zerolinecolor": "white"
           }
          },
          "shapedefaults": {
           "line": {
            "color": "#2a3f5f"
           }
          },
          "ternary": {
           "aaxis": {
            "gridcolor": "white",
            "linecolor": "white",
            "ticks": ""
           },
           "baxis": {
            "gridcolor": "white",
            "linecolor": "white",
            "ticks": ""
           },
           "bgcolor": "#E5ECF6",
           "caxis": {
            "gridcolor": "white",
            "linecolor": "white",
            "ticks": ""
           }
          },
          "title": {
           "x": 0.05
          },
          "xaxis": {
           "automargin": true,
           "gridcolor": "white",
           "linecolor": "white",
           "ticks": "",
           "title": {
            "standoff": 15
           },
           "zerolinecolor": "white",
           "zerolinewidth": 2
          },
          "yaxis": {
           "automargin": true,
           "gridcolor": "white",
           "linecolor": "white",
           "ticks": "",
           "title": {
            "standoff": 15
           },
           "zerolinecolor": "white",
           "zerolinewidth": 2
          }
         }
        },
        "width": 700
       },
       "_model_module_version": "4.7.1",
       "_py2js_animate": {},
       "_py2js_deleteTraces": {},
       "_py2js_moveTraces": {},
       "_py2js_removeLayoutProps": {},
       "_py2js_removeTraceProps": {},
       "_py2js_restyle": {},
       "_view_count": 0,
       "_view_module_version": "4.7.1"
      }
     },
     "1296b82508774d9faf7bc0b253432497": {
      "buffers": [
       {
        "data": "AACAPwAAAEAAAEBAAACAQAAAwH8=",
        "encoding": "base64",
        "path": [
         "_data",
         0,
         "y",
         "value"
        ]
       },
       {
        "data": "AADAfwAAgEAAAEBAAAAAQAAAgD8=",
        "encoding": "base64",
        "path": [
         "_data",
         1,
         "y",
         "value"
        ]
       },
       {
        "data": "AACAPwAAAEAAAMB/AAAAQAAAgD8=",
        "encoding": "base64",
        "path": [
         "_data",
         2,
         "y",
         "value"
        ]
       }
      ],
      "model_module": "plotlywidget",
      "model_module_version": "4.7.1",
      "model_name": "FigureModel",
      "state": {
       "_config": {
        "plotlyServerURL": "https://plot.ly"
       },
       "_data": [
        {
         "mode": "lines",
         "name": "a",
         "showlegend": true,
         "type": "scatter",
         "uid": "929e2683-b551-4322-88e2-6d30b513b04d",
         "x": [
          "2018-01-01T00:00:00.000000",
          "2018-01-02T00:00:00.000000",
          "2018-01-03T00:00:00.000000",
          "2018-01-04T00:00:00.000000",
          "2018-01-05T00:00:00.000000"
         ],
         "y": {
          "dtype": "float32",
          "shape": [
           5
          ]
         }
        },
        {
         "mode": "lines",
         "name": "b",
         "showlegend": true,
         "type": "scatter",
         "uid": "665f2688-35e1-493f-953b-3932a2a3e237",
         "x": [
          "2018-01-01T00:00:00.000000",
          "2018-01-02T00:00:00.000000",
          "2018-01-03T00:00:00.000000",
          "2018-01-04T00:00:00.000000",
          "2018-01-05T00:00:00.000000"
         ],
         "y": {
          "dtype": "float32",
          "shape": [
           5
          ]
         }
        },
        {
         "mode": "lines",
         "name": "c",
         "showlegend": true,
         "type": "scatter",
         "uid": "ed168bdd-83d1-46dc-9c84-76a8217b9c66",
         "x": [
          "2018-01-01T00:00:00.000000",
          "2018-01-02T00:00:00.000000",
          "2018-01-03T00:00:00.000000",
          "2018-01-04T00:00:00.000000",
          "2018-01-05T00:00:00.000000"
         ],
         "y": {
          "dtype": "float32",
          "shape": [
           5
          ]
         }
        }
       ],
       "_js2py_layoutDelta": {},
       "_js2py_pointsCallback": {},
       "_js2py_relayout": {},
       "_js2py_restyle": {},
       "_js2py_traceDeltas": {},
       "_js2py_update": {},
       "_last_layout_edit_id": 4,
       "_last_trace_edit_id": 4,
       "_layout": {
        "autosize": false,
        "colorway": [
         "#1f77b4",
         "#ff7f0e",
         "#2ca02c",
         "#d62728",
         "#9467bd",
         "#8c564b",
         "#e377c2",
         "#7f7f7f",
         "#bcbd22",
         "#17becf"
        ],
        "height": 300,
        "hovermode": "closest",
        "margin": {
         "b": 30,
         "t": 30
        },
        "template": {
         "data": {
          "bar": [
           {
            "error_x": {
             "color": "#2a3f5f"
            },
            "error_y": {
             "color": "#2a3f5f"
            },
            "marker": {
             "line": {
              "color": "#E5ECF6",
              "width": 0.5
             }
            },
            "type": "bar"
           }
          ],
          "barpolar": [
           {
            "marker": {
             "line": {
              "color": "#E5ECF6",
              "width": 0.5
             }
            },
            "type": "barpolar"
           }
          ],
          "carpet": [
           {
            "aaxis": {
             "endlinecolor": "#2a3f5f",
             "gridcolor": "white",
             "linecolor": "white",
             "minorgridcolor": "white",
             "startlinecolor": "#2a3f5f"
            },
            "baxis": {
             "endlinecolor": "#2a3f5f",
             "gridcolor": "white",
             "linecolor": "white",
             "minorgridcolor": "white",
             "startlinecolor": "#2a3f5f"
            },
            "type": "carpet"
           }
          ],
          "choropleth": [
           {
            "colorbar": {
             "outlinewidth": 0,
             "ticks": ""
            },
            "type": "choropleth"
           }
          ],
          "contour": [
           {
            "colorbar": {
             "outlinewidth": 0,
             "ticks": ""
            },
            "colorscale": [
             [
              0,
              "#0d0887"
             ],
             [
              0.1111111111111111,
              "#46039f"
             ],
             [
              0.2222222222222222,
              "#7201a8"
             ],
             [
              0.3333333333333333,
              "#9c179e"
             ],
             [
              0.4444444444444444,
              "#bd3786"
             ],
             [
              0.5555555555555556,
              "#d8576b"
             ],
             [
              0.6666666666666666,
              "#ed7953"
             ],
             [
              0.7777777777777778,
              "#fb9f3a"
             ],
             [
              0.8888888888888888,
              "#fdca26"
             ],
             [
              1,
              "#f0f921"
             ]
            ],
            "type": "contour"
           }
          ],
          "contourcarpet": [
           {
            "colorbar": {
             "outlinewidth": 0,
             "ticks": ""
            },
            "type": "contourcarpet"
           }
          ],
          "heatmap": [
           {
            "colorbar": {
             "outlinewidth": 0,
             "ticks": ""
            },
            "colorscale": [
             [
              0,
              "#0d0887"
             ],
             [
              0.1111111111111111,
              "#46039f"
             ],
             [
              0.2222222222222222,
              "#7201a8"
             ],
             [
              0.3333333333333333,
              "#9c179e"
             ],
             [
              0.4444444444444444,
              "#bd3786"
             ],
             [
              0.5555555555555556,
              "#d8576b"
             ],
             [
              0.6666666666666666,
              "#ed7953"
             ],
             [
              0.7777777777777778,
              "#fb9f3a"
             ],
             [
              0.8888888888888888,
              "#fdca26"
             ],
             [
              1,
              "#f0f921"
             ]
            ],
            "type": "heatmap"
           }
          ],
          "heatmapgl": [
           {
            "colorbar": {
             "outlinewidth": 0,
             "ticks": ""
            },
            "colorscale": [
             [
              0,
              "#0d0887"
             ],
             [
              0.1111111111111111,
              "#46039f"
             ],
             [
              0.2222222222222222,
              "#7201a8"
             ],
             [
              0.3333333333333333,
              "#9c179e"
             ],
             [
              0.4444444444444444,
              "#bd3786"
             ],
             [
              0.5555555555555556,
              "#d8576b"
             ],
             [
              0.6666666666666666,
              "#ed7953"
             ],
             [
              0.7777777777777778,
              "#fb9f3a"
             ],
             [
              0.8888888888888888,
              "#fdca26"
             ],
             [
              1,
              "#f0f921"
             ]
            ],
            "type": "heatmapgl"
           }
          ],
          "histogram": [
           {
            "marker": {
             "colorbar": {
              "outlinewidth": 0,
              "ticks": ""
             }
            },
            "type": "histogram"
           }
          ],
          "histogram2d": [
           {
            "colorbar": {
             "outlinewidth": 0,
             "ticks": ""
            },
            "colorscale": [
             [
              0,
              "#0d0887"
             ],
             [
              0.1111111111111111,
              "#46039f"
             ],
             [
              0.2222222222222222,
              "#7201a8"
             ],
             [
              0.3333333333333333,
              "#9c179e"
             ],
             [
              0.4444444444444444,
              "#bd3786"
             ],
             [
              0.5555555555555556,
              "#d8576b"
             ],
             [
              0.6666666666666666,
              "#ed7953"
             ],
             [
              0.7777777777777778,
              "#fb9f3a"
             ],
             [
              0.8888888888888888,
              "#fdca26"
             ],
             [
              1,
              "#f0f921"
             ]
            ],
            "type": "histogram2d"
           }
          ],
          "histogram2dcontour": [
           {
            "colorbar": {
             "outlinewidth": 0,
             "ticks": ""
            },
            "colorscale": [
             [
              0,
              "#0d0887"
             ],
             [
              0.1111111111111111,
              "#46039f"
             ],
             [
              0.2222222222222222,
              "#7201a8"
             ],
             [
              0.3333333333333333,
              "#9c179e"
             ],
             [
              0.4444444444444444,
              "#bd3786"
             ],
             [
              0.5555555555555556,
              "#d8576b"
             ],
             [
              0.6666666666666666,
              "#ed7953"
             ],
             [
              0.7777777777777778,
              "#fb9f3a"
             ],
             [
              0.8888888888888888,
              "#fdca26"
             ],
             [
              1,
              "#f0f921"
             ]
            ],
            "type": "histogram2dcontour"
           }
          ],
          "mesh3d": [
           {
            "colorbar": {
             "outlinewidth": 0,
             "ticks": ""
            },
            "type": "mesh3d"
           }
          ],
          "parcoords": [
           {
            "line": {
             "colorbar": {
              "outlinewidth": 0,
              "ticks": ""
             }
            },
            "type": "parcoords"
           }
          ],
          "pie": [
           {
            "automargin": true,
            "type": "pie"
           }
          ],
          "scatter": [
           {
            "marker": {
             "colorbar": {
              "outlinewidth": 0,
              "ticks": ""
             }
            },
            "type": "scatter"
           }
          ],
          "scatter3d": [
           {
            "line": {
             "colorbar": {
              "outlinewidth": 0,
              "ticks": ""
             }
            },
            "marker": {
             "colorbar": {
              "outlinewidth": 0,
              "ticks": ""
             }
            },
            "type": "scatter3d"
           }
          ],
          "scattercarpet": [
           {
            "marker": {
             "colorbar": {
              "outlinewidth": 0,
              "ticks": ""
             }
            },
            "type": "scattercarpet"
           }
          ],
          "scattergeo": [
           {
            "marker": {
             "colorbar": {
              "outlinewidth": 0,
              "ticks": ""
             }
            },
            "type": "scattergeo"
           }
          ],
          "scattergl": [
           {
            "marker": {
             "colorbar": {
              "outlinewidth": 0,
              "ticks": ""
             }
            },
            "type": "scattergl"
           }
          ],
          "scattermapbox": [
           {
            "marker": {
             "colorbar": {
              "outlinewidth": 0,
              "ticks": ""
             }
            },
            "type": "scattermapbox"
           }
          ],
          "scatterpolar": [
           {
            "marker": {
             "colorbar": {
              "outlinewidth": 0,
              "ticks": ""
             }
            },
            "type": "scatterpolar"
           }
          ],
          "scatterpolargl": [
           {
            "marker": {
             "colorbar": {
              "outlinewidth": 0,
              "ticks": ""
             }
            },
            "type": "scatterpolargl"
           }
          ],
          "scatterternary": [
           {
            "marker": {
             "colorbar": {
              "outlinewidth": 0,
              "ticks": ""
             }
            },
            "type": "scatterternary"
           }
          ],
          "surface": [
           {
            "colorbar": {
             "outlinewidth": 0,
             "ticks": ""
            },
            "colorscale": [
             [
              0,
              "#0d0887"
             ],
             [
              0.1111111111111111,
              "#46039f"
             ],
             [
              0.2222222222222222,
              "#7201a8"
             ],
             [
              0.3333333333333333,
              "#9c179e"
             ],
             [
              0.4444444444444444,
              "#bd3786"
             ],
             [
              0.5555555555555556,
              "#d8576b"
             ],
             [
              0.6666666666666666,
              "#ed7953"
             ],
             [
              0.7777777777777778,
              "#fb9f3a"
             ],
             [
              0.8888888888888888,
              "#fdca26"
             ],
             [
              1,
              "#f0f921"
             ]
            ],
            "type": "surface"
           }
          ],
          "table": [
           {
            "cells": {
             "fill": {
              "color": "#EBF0F8"
             },
             "line": {
              "color": "white"
             }
            },
            "header": {
             "fill": {
              "color": "#C8D4E3"
             },
             "line": {
              "color": "white"
             }
            },
            "type": "table"
           }
          ]
         },
         "layout": {
          "annotationdefaults": {
           "arrowcolor": "#2a3f5f",
           "arrowhead": 0,
           "arrowwidth": 1
          },
          "coloraxis": {
           "colorbar": {
            "outlinewidth": 0,
            "ticks": ""
           }
          },
          "colorscale": {
           "diverging": [
            [
             0,
             "#8e0152"
            ],
            [
             0.1,
             "#c51b7d"
            ],
            [
             0.2,
             "#de77ae"
            ],
            [
             0.3,
             "#f1b6da"
            ],
            [
             0.4,
             "#fde0ef"
            ],
            [
             0.5,
             "#f7f7f7"
            ],
            [
             0.6,
             "#e6f5d0"
            ],
            [
             0.7,
             "#b8e186"
            ],
            [
             0.8,
             "#7fbc41"
            ],
            [
             0.9,
             "#4d9221"
            ],
            [
             1,
             "#276419"
            ]
           ],
           "sequential": [
            [
             0,
             "#0d0887"
            ],
            [
             0.1111111111111111,
             "#46039f"
            ],
            [
             0.2222222222222222,
             "#7201a8"
            ],
            [
             0.3333333333333333,
             "#9c179e"
            ],
            [
             0.4444444444444444,
             "#bd3786"
            ],
            [
             0.5555555555555556,
             "#d8576b"
            ],
            [
             0.6666666666666666,
             "#ed7953"
            ],
            [
             0.7777777777777778,
             "#fb9f3a"
            ],
            [
             0.8888888888888888,
             "#fdca26"
            ],
            [
             1,
             "#f0f921"
            ]
           ],
           "sequentialminus": [
            [
             0,
             "#0d0887"
            ],
            [
             0.1111111111111111,
             "#46039f"
            ],
            [
             0.2222222222222222,
             "#7201a8"
            ],
            [
             0.3333333333333333,
             "#9c179e"
            ],
            [
             0.4444444444444444,
             "#bd3786"
            ],
            [
             0.5555555555555556,
             "#d8576b"
            ],
            [
             0.6666666666666666,
             "#ed7953"
            ],
            [
             0.7777777777777778,
             "#fb9f3a"
            ],
            [
             0.8888888888888888,
             "#fdca26"
            ],
            [
             1,
             "#f0f921"
            ]
           ]
          },
          "colorway": [
           "#636efa",
           "#EF553B",
           "#00cc96",
           "#ab63fa",
           "#FFA15A",
           "#19d3f3",
           "#FF6692",
           "#B6E880",
           "#FF97FF",
           "#FECB52"
          ],
          "font": {
           "color": "#2a3f5f"
          },
          "geo": {
           "bgcolor": "white",
           "lakecolor": "white",
           "landcolor": "#E5ECF6",
           "showlakes": true,
           "showland": true,
           "subunitcolor": "white"
          },
          "hoverlabel": {
           "align": "left"
          },
          "hovermode": "closest",
          "mapbox": {
           "style": "light"
          },
          "paper_bgcolor": "white",
          "plot_bgcolor": "#E5ECF6",
          "polar": {
           "angularaxis": {
            "gridcolor": "white",
            "linecolor": "white",
            "ticks": ""
           },
           "bgcolor": "#E5ECF6",
           "radialaxis": {
            "gridcolor": "white",
            "linecolor": "white",
            "ticks": ""
           }
          },
          "scene": {
           "xaxis": {
            "backgroundcolor": "#E5ECF6",
            "gridcolor": "white",
            "gridwidth": 2,
            "linecolor": "white",
            "showbackground": true,
            "ticks": "",
            "zerolinecolor": "white"
           },
           "yaxis": {
            "backgroundcolor": "#E5ECF6",
            "gridcolor": "white",
            "gridwidth": 2,
            "linecolor": "white",
            "showbackground": true,
            "ticks": "",
            "zerolinecolor": "white"
           },
           "zaxis": {
            "backgroundcolor": "#E5ECF6",
            "gridcolor": "white",
            "gridwidth": 2,
            "linecolor": "white",
            "showbackground": true,
            "ticks": "",
            "zerolinecolor": "white"
           }
          },
          "shapedefaults": {
           "line": {
            "color": "#2a3f5f"
           }
          },
          "ternary": {
           "aaxis": {
            "gridcolor": "white",
            "linecolor": "white",
            "ticks": ""
           },
           "baxis": {
            "gridcolor": "white",
            "linecolor": "white",
            "ticks": ""
           },
           "bgcolor": "#E5ECF6",
           "caxis": {
            "gridcolor": "white",
            "linecolor": "white",
            "ticks": ""
           }
          },
          "title": {
           "x": 0.05
          },
          "xaxis": {
           "automargin": true,
           "gridcolor": "white",
           "linecolor": "white",
           "ticks": "",
           "title": {
            "standoff": 15
           },
           "zerolinecolor": "white",
           "zerolinewidth": 2
          },
          "yaxis": {
           "automargin": true,
           "gridcolor": "white",
           "linecolor": "white",
           "ticks": "",
           "title": {
            "standoff": 15
           },
           "zerolinecolor": "white",
           "zerolinewidth": 2
          }
         }
        },
        "width": 700
       },
       "_model_module_version": "4.7.1",
       "_py2js_animate": {},
       "_py2js_deleteTraces": {},
       "_py2js_moveTraces": {},
       "_py2js_removeLayoutProps": {},
       "_py2js_removeTraceProps": {},
       "_py2js_restyle": {},
       "_view_count": 0,
       "_view_module_version": "4.7.1"
      }
     },
     "22d07c0b92a84269856716d6aa7fd4db": {
      "buffers": [
       {
        "data": "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",
        "encoding": "base64",
        "path": [
         "_data",
         0,
         "close",
         "value"
        ]
       },
       {
        "data": "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",
        "encoding": "base64",
        "path": [
         "_data",
         0,
         "high",
         "value"
        ]
       },
       {
        "data": "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",
        "encoding": "base64",
        "path": [
         "_data",
         0,
         "low",
         "value"
        ]
       },
       {
        "data": "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",
        "encoding": "base64",
        "path": [
         "_data",
         0,
         "open",
         "value"
        ]
       },
       {
        "data": "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",
        "encoding": "base64",
        "path": [
         "_data",
         1,
         "y",
         "value"
        ]
       }
      ],
      "model_module": "plotlywidget",
      "model_module_version": "4.7.1",
      "model_name": "FigureModel",
      "state": {
       "_config": {
        "plotlyServerURL": "https://plot.ly"
       },
       "_data": [
        {
         "close": {
          "dtype": "float64",
          "shape": [
           1000
          ]
         },
         "high": {
          "dtype": "float64",
          "shape": [
           1000
          ]
         },
         "low": {
          "dtype": "float64",
          "shape": [
           1000
          ]
         },
         "name": "OHLC",
         "open": {
          "dtype": "float64",
          "shape": [
           1000
          ]
         },
         "type": "candlestick",
         "uid": "2d57655c-fed5-463c-a8cc-8701f290e4a9",
         "x": [
          "2018-01-01T00:00:00.000000",
          "2018-01-02T00:00:00.000000",
          "2018-01-03T00:00:00.000000",
          "2018-01-04T00:00:00.000000",
          "2018-01-05T00:00:00.000000",
          "2018-01-06T00:00:00.000000",
          "2018-01-07T00:00:00.000000",
          "2018-01-08T00:00:00.000000",
          "2018-01-09T00:00:00.000000",
          "2018-01-10T00:00:00.000000",
          "2018-01-11T00:00:00.000000",
          "2018-01-12T00:00:00.000000",
          "2018-01-13T00:00:00.000000",
          "2018-01-14T00:00:00.000000",
          "2018-01-15T00:00:00.000000",
          "2018-01-16T00:00:00.000000",
          "2018-01-17T00:00:00.000000",
          "2018-01-18T00:00:00.000000",
          "2018-01-19T00:00:00.000000",
          "2018-01-20T00:00:00.000000",
          "2018-01-21T00:00:00.000000",
          "2018-01-22T00:00:00.000000",
          "2018-01-23T00:00:00.000000",
          "2018-01-24T00:00:00.000000",
          "2018-01-25T00:00:00.000000",
          "2018-01-26T00:00:00.000000",
          "2018-01-27T00:00:00.000000",
          "2018-01-28T00:00:00.000000",
          "2018-01-29T00:00:00.000000",
          "2018-01-30T00:00:00.000000",
          "2018-01-31T00:00:00.000000",
          "2018-02-01T00:00:00.000000",
          "2018-02-02T00:00:00.000000",
          "2018-02-03T00:00:00.000000",
          "2018-02-04T00:00:00.000000",
          "2018-02-05T00:00:00.000000",
          "2018-02-06T00:00:00.000000",
          "2018-02-07T00:00:00.000000",
          "2018-02-08T00:00:00.000000",
          "2018-02-09T00:00:00.000000",
          "2018-02-10T00:00:00.000000",
          "2018-02-11T00:00:00.000000",
          "2018-02-12T00:00:00.000000",
          "2018-02-13T00:00:00.000000",
          "2018-02-14T00:00:00.000000",
          "2018-02-15T00:00:00.000000",
          "2018-02-16T00:00:00.000000",
          "2018-02-17T00:00:00.000000",
          "2018-02-18T00:00:00.000000",
          "2018-02-19T00:00:00.000000",
          "2018-02-20T00:00:00.000000",
          "2018-02-21T00:00:00.000000",
          "2018-02-22T00:00:00.000000",
          "2018-02-23T00:00:00.000000",
          "2018-02-24T00:00:00.000000",
          "2018-02-25T00:00:00.000000",
          "2018-02-26T00:00:00.000000",
          "2018-02-27T00:00:00.000000",
          "2018-02-28T00:00:00.000000",
          "2018-03-01T00:00:00.000000",
          "2018-03-02T00:00:00.000000",
          "2018-03-03T00:00:00.000000",
          "2018-03-04T00:00:00.000000",
          "2018-03-05T00:00:00.000000",
          "2018-03-06T00:00:00.000000",
          "2018-03-07T00:00:00.000000",
          "2018-03-08T00:00:00.000000",
          "2018-03-09T00:00:00.000000",
          "2018-03-10T00:00:00.000000",
          "2018-03-11T00:00:00.000000",
          "2018-03-12T00:00:00.000000",
          "2018-03-13T00:00:00.000000",
          "2018-03-14T00:00:00.000000",
          "2018-03-15T00:00:00.000000",
          "2018-03-16T00:00:00.000000",
          "2018-03-17T00:00:00.000000",
          "2018-03-18T00:00:00.000000",
          "2018-03-19T00:00:00.000000",
          "2018-03-20T00:00:00.000000",
          "2018-03-21T00:00:00.000000",
          "2018-03-22T00:00:00.000000",
          "2018-03-23T00:00:00.000000",
          "2018-03-24T00:00:00.000000",
          "2018-03-25T00:00:00.000000",
          "2018-03-26T00:00:00.000000",
          "2018-03-27T00:00:00.000000",
          "2018-03-28T00:00:00.000000",
          "2018-03-29T00:00:00.000000",
          "2018-03-30T00:00:00.000000",
          "2018-03-31T00:00:00.000000",
          "2018-04-01T00:00:00.000000",
          "2018-04-02T00:00:00.000000",
          "2018-04-03T00:00:00.000000",
          "2018-04-04T00:00:00.000000",
          "2018-04-05T00:00:00.000000",
          "2018-04-06T00:00:00.000000",
          "2018-04-07T00:00:00.000000",
          "2018-04-08T00:00:00.000000",
          "2018-04-09T00:00:00.000000",
          "2018-04-10T00:00:00.000000",
          "2018-04-11T00:00:00.000000",
          "2018-04-12T00:00:00.000000",
          "2018-04-13T00:00:00.000000",
          "2018-04-14T00:00:00.000000",
          "2018-04-15T00:00:00.000000",
          "2018-04-16T00:00:00.000000",
          "2018-04-17T00:00:00.000000",
          "2018-04-18T00:00:00.000000",
          "2018-04-19T00:00:00.000000",
          "2018-04-20T00:00:00.000000",
          "2018-04-21T00:00:00.000000",
          "2018-04-22T00:00:00.000000",
          "2018-04-23T00:00:00.000000",
          "2018-04-24T00:00:00.000000",
          "2018-04-25T00:00:00.000000",
          "2018-04-26T00:00:00.000000",
          "2018-04-27T00:00:00.000000",
          "2018-04-28T00:00:00.000000",
          "2018-04-29T00:00:00.000000",
          "2018-04-30T00:00:00.000000",
          "2018-05-01T00:00:00.000000",
          "2018-05-02T00:00:00.000000",
          "2018-05-03T00:00:00.000000",
          "2018-05-04T00:00:00.000000",
          "2018-05-05T00:00:00.000000",
          "2018-05-06T00:00:00.000000",
          "2018-05-07T00:00:00.000000",
          "2018-05-08T00:00:00.000000",
          "2018-05-09T00:00:00.000000",
          "2018-05-10T00:00:00.000000",
          "2018-05-11T00:00:00.000000",
          "2018-05-12T00:00:00.000000",
          "2018-05-13T00:00:00.000000",
          "2018-05-14T00:00:00.000000",
          "2018-05-15T00:00:00.000000",
          "2018-05-16T00:00:00.000000",
          "2018-05-17T00:00:00.000000",
          "2018-05-18T00:00:00.000000",
          "2018-05-19T00:00:00.000000",
          "2018-05-20T00:00:00.000000",
          "2018-05-21T00:00:00.000000",
          "2018-05-22T00:00:00.000000",
          "2018-05-23T00:00:00.000000",
          "2018-05-24T00:00:00.000000",
          "2018-05-25T00:00:00.000000",
          "2018-05-26T00:00:00.000000",
          "2018-05-27T00:00:00.000000",
          "2018-05-28T00:00:00.000000",
          "2018-05-29T00:00:00.000000",
          "2018-05-30T00:00:00.000000",
          "2018-05-31T00:00:00.000000",
          "2018-06-01T00:00:00.000000",
          "2018-06-02T00:00:00.000000",
          "2018-06-03T00:00:00.000000",
          "2018-06-04T00:00:00.000000",
          "2018-06-05T00:00:00.000000",
          "2018-06-06T00:00:00.000000",
          "2018-06-07T00:00:00.000000",
          "2018-06-08T00:00:00.000000",
          "2018-06-09T00:00:00.000000",
          "2018-06-10T00:00:00.000000",
          "2018-06-11T00:00:00.000000",
          "2018-06-12T00:00:00.000000",
          "2018-06-13T00:00:00.000000",
          "2018-06-14T00:00:00.000000",
          "2018-06-15T00:00:00.000000",
          "2018-06-16T00:00:00.000000",
          "2018-06-17T00:00:00.000000",
          "2018-06-18T00:00:00.000000",
          "2018-06-19T00:00:00.000000",
          "2018-06-20T00:00:00.000000",
          "2018-06-21T00:00:00.000000",
          "2018-06-22T00:00:00.000000",
          "2018-06-23T00:00:00.000000",
          "2018-06-24T00:00:00.000000",
          "2018-06-25T00:00:00.000000",
          "2018-06-26T00:00:00.000000",
          "2018-06-27T00:00:00.000000",
          "2018-06-28T00:00:00.000000",
          "2018-06-29T00:00:00.000000",
          "2018-06-30T00:00:00.000000",
          "2018-07-01T00:00:00.000000",
          "2018-07-02T00:00:00.000000",
          "2018-07-03T00:00:00.000000",
          "2018-07-04T00:00:00.000000",
          "2018-07-05T00:00:00.000000",
          "2018-07-06T00:00:00.000000",
          "2018-07-07T00:00:00.000000",
          "2018-07-08T00:00:00.000000",
          "2018-07-09T00:00:00.000000",
          "2018-07-10T00:00:00.000000",
          "2018-07-11T00:00:00.000000",
          "2018-07-12T00:00:00.000000",
          "2018-07-13T00:00:00.000000",
          "2018-07-14T00:00:00.000000",
          "2018-07-15T00:00:00.000000",
          "2018-07-16T00:00:00.000000",
          "2018-07-17T00:00:00.000000",
          "2018-07-18T00:00:00.000000",
          "2018-07-19T00:00:00.000000",
          "2018-07-20T00:00:00.000000",
          "2018-07-21T00:00:00.000000",
          "2018-07-22T00:00:00.000000",
          "2018-07-23T00:00:00.000000",
          "2018-07-24T00:00:00.000000",
          "2018-07-25T00:00:00.000000",
          "2018-07-26T00:00:00.000000",
          "2018-07-27T00:00:00.000000",
          "2018-07-28T00:00:00.000000",
          "2018-07-29T00:00:00.000000",
          "2018-07-30T00:00:00.000000",
          "2018-07-31T00:00:00.000000",
          "2018-08-01T00:00:00.000000",
          "2018-08-02T00:00:00.000000",
          "2018-08-03T00:00:00.000000",
          "2018-08-04T00:00:00.000000",
          "2018-08-05T00:00:00.000000",
          "2018-08-06T00:00:00.000000",
          "2018-08-07T00:00:00.000000",
          "2018-08-08T00:00:00.000000",
          "2018-08-09T00:00:00.000000",
          "2018-08-10T00:00:00.000000",
          "2018-08-11T00:00:00.000000",
          "2018-08-12T00:00:00.000000",
          "2018-08-13T00:00:00.000000",
          "2018-08-14T00:00:00.000000",
          "2018-08-15T00:00:00.000000",
          "2018-08-16T00:00:00.000000",
          "2018-08-17T00:00:00.000000",
          "2018-08-18T00:00:00.000000",
          "2018-08-19T00:00:00.000000",
          "2018-08-20T00:00:00.000000",
          "2018-08-21T00:00:00.000000",
          "2018-08-22T00:00:00.000000",
          "2018-08-23T00:00:00.000000",
          "2018-08-24T00:00:00.000000",
          "2018-08-25T00:00:00.000000",
          "2018-08-26T00:00:00.000000",
          "2018-08-27T00:00:00.000000",
          "2018-08-28T00:00:00.000000",
          "2018-08-29T00:00:00.000000",
          "2018-08-30T00:00:00.000000",
          "2018-08-31T00:00:00.000000",
          "2018-09-01T00:00:00.000000",
          "2018-09-02T00:00:00.000000",
          "2018-09-03T00:00:00.000000",
          "2018-09-04T00:00:00.000000",
          "2018-09-05T00:00:00.000000",
          "2018-09-06T00:00:00.000000",
          "2018-09-07T00:00:00.000000",
          "2018-09-08T00:00:00.000000",
          "2018-09-09T00:00:00.000000",
          "2018-09-10T00:00:00.000000",
          "2018-09-11T00:00:00.000000",
          "2018-09-12T00:00:00.000000",
          "2018-09-13T00:00:00.000000",
          "2018-09-14T00:00:00.000000",
          "2018-09-15T00:00:00.000000",
          "2018-09-16T00:00:00.000000",
          "2018-09-17T00:00:00.000000",
          "2018-09-18T00:00:00.000000",
          "2018-09-19T00:00:00.000000",
          "2018-09-20T00:00:00.000000",
          "2018-09-21T00:00:00.000000",
          "2018-09-22T00:00:00.000000",
          "2018-09-23T00:00:00.000000",
          "2018-09-24T00:00:00.000000",
          "2018-09-25T00:00:00.000000",
          "2018-09-26T00:00:00.000000",
          "2018-09-27T00:00:00.000000",
          "2018-09-28T00:00:00.000000",
          "2018-09-29T00:00:00.000000",
          "2018-09-30T00:00:00.000000",
          "2018-10-01T00:00:00.000000",
          "2018-10-02T00:00:00.000000",
          "2018-10-03T00:00:00.000000",
          "2018-10-04T00:00:00.000000",
          "2018-10-05T00:00:00.000000",
          "2018-10-06T00:00:00.000000",
          "2018-10-07T00:00:00.000000",
          "2018-10-08T00:00:00.000000",
          "2018-10-09T00:00:00.000000",
          "2018-10-10T00:00:00.000000",
          "2018-10-11T00:00:00.000000",
          "2018-10-12T00:00:00.000000",
          "2018-10-13T00:00:00.000000",
          "2018-10-14T00:00:00.000000",
          "2018-10-15T00:00:00.000000",
          "2018-10-16T00:00:00.000000",
          "2018-10-17T00:00:00.000000",
          "2018-10-18T00:00:00.000000",
          "2018-10-19T00:00:00.000000",
          "2018-10-20T00:00:00.000000",
          "2018-10-21T00:00:00.000000",
          "2018-10-22T00:00:00.000000",
          "2018-10-23T00:00:00.000000",
          "2018-10-24T00:00:00.000000",
          "2018-10-25T00:00:00.000000",
          "2018-10-26T00:00:00.000000",
          "2018-10-27T00:00:00.000000",
          "2018-10-28T00:00:00.000000",
          "2018-10-29T00:00:00.000000",
          "2018-10-30T00:00:00.000000",
          "2018-10-31T00:00:00.000000",
          "2018-11-01T00:00:00.000000",
          "2018-11-02T00:00:00.000000",
          "2018-11-03T00:00:00.000000",
          "2018-11-04T00:00:00.000000",
          "2018-11-05T00:00:00.000000",
          "2018-11-06T00:00:00.000000",
          "2018-11-07T00:00:00.000000",
          "2018-11-08T00:00:00.000000",
          "2018-11-09T00:00:00.000000",
          "2018-11-10T00:00:00.000000",
          "2018-11-11T00:00:00.000000",
          "2018-11-12T00:00:00.000000",
          "2018-11-13T00:00:00.000000",
          "2018-11-14T00:00:00.000000",
          "2018-11-15T00:00:00.000000",
          "2018-11-16T00:00:00.000000",
          "2018-11-17T00:00:00.000000",
          "2018-11-18T00:00:00.000000",
          "2018-11-19T00:00:00.000000",
          "2018-11-20T00:00:00.000000",
          "2018-11-21T00:00:00.000000",
          "2018-11-22T00:00:00.000000",
          "2018-11-23T00:00:00.000000",
          "2018-11-24T00:00:00.000000",
          "2018-11-25T00:00:00.000000",
          "2018-11-26T00:00:00.000000",
          "2018-11-27T00:00:00.000000",
          "2018-11-28T00:00:00.000000",
          "2018-11-29T00:00:00.000000",
          "2018-11-30T00:00:00.000000",
          "2018-12-01T00:00:00.000000",
          "2018-12-02T00:00:00.000000",
          "2018-12-03T00:00:00.000000",
          "2018-12-04T00:00:00.000000",
          "2018-12-05T00:00:00.000000",
          "2018-12-06T00:00:00.000000",
          "2018-12-07T00:00:00.000000",
          "2018-12-08T00:00:00.000000",
          "2018-12-09T00:00:00.000000",
          "2018-12-10T00:00:00.000000",
          "2018-12-11T00:00:00.000000",
          "2018-12-12T00:00:00.000000",
          "2018-12-13T00:00:00.000000",
          "2018-12-14T00:00:00.000000",
          "2018-12-15T00:00:00.000000",
          "2018-12-16T00:00:00.000000",
          "2018-12-17T00:00:00.000000",
          "2018-12-18T00:00:00.000000",
          "2018-12-19T00:00:00.000000",
          "2018-12-20T00:00:00.000000",
          "2018-12-21T00:00:00.000000",
          "2018-12-22T00:00:00.000000",
          "2018-12-23T00:00:00.000000",
          "2018-12-24T00:00:00.000000",
          "2018-12-25T00:00:00.000000",
          "2018-12-26T00:00:00.000000",
          "2018-12-27T00:00:00.000000",
          "2018-12-28T00:00:00.000000",
          "2018-12-29T00:00:00.000000",
          "2018-12-30T00:00:00.000000",
          "2018-12-31T00:00:00.000000",
          "2019-01-01T00:00:00.000000",
          "2019-01-02T00:00:00.000000",
          "2019-01-03T00:00:00.000000",
          "2019-01-04T00:00:00.000000",
          "2019-01-05T00:00:00.000000",
          "2019-01-06T00:00:00.000000",
          "2019-01-07T00:00:00.000000",
          "2019-01-08T00:00:00.000000",
          "2019-01-09T00:00:00.000000",
          "2019-01-10T00:00:00.000000",
          "2019-01-11T00:00:00.000000",
          "2019-01-12T00:00:00.000000",
          "2019-01-13T00:00:00.000000",
          "2019-01-14T00:00:00.000000",
          "2019-01-15T00:00:00.000000",
          "2019-01-16T00:00:00.000000",
          "2019-01-17T00:00:00.000000",
          "2019-01-18T00:00:00.000000",
          "2019-01-19T00:00:00.000000",
          "2019-01-20T00:00:00.000000",
          "2019-01-21T00:00:00.000000",
          "2019-01-22T00:00:00.000000",
          "2019-01-23T00:00:00.000000",
          "2019-01-24T00:00:00.000000",
          "2019-01-25T00:00:00.000000",
          "2019-01-26T00:00:00.000000",
          "2019-01-27T00:00:00.000000",
          "2019-01-28T00:00:00.000000",
          "2019-01-29T00:00:00.000000",
          "2019-01-30T00:00:00.000000",
          "2019-01-31T00:00:00.000000",
          "2019-02-01T00:00:00.000000",
          "2019-02-02T00:00:00.000000",
          "2019-02-03T00:00:00.000000",
          "2019-02-04T00:00:00.000000",
          "2019-02-05T00:00:00.000000",
          "2019-02-06T00:00:00.000000",
          "2019-02-07T00:00:00.000000",
          "2019-02-08T00:00:00.000000",
          "2019-02-09T00:00:00.000000",
          "2019-02-10T00:00:00.000000",
          "2019-02-11T00:00:00.000000",
          "2019-02-12T00:00:00.000000",
          "2019-02-13T00:00:00.000000",
          "2019-02-14T00:00:00.000000",
          "2019-02-15T00:00:00.000000",
          "2019-02-16T00:00:00.000000",
          "2019-02-17T00:00:00.000000",
          "2019-02-18T00:00:00.000000",
          "2019-02-19T00:00:00.000000",
          "2019-02-20T00:00:00.000000",
          "2019-02-21T00:00:00.000000",
          "2019-02-22T00:00:00.000000",
          "2019-02-23T00:00:00.000000",
          "2019-02-24T00:00:00.000000",
          "2019-02-25T00:00:00.000000",
          "2019-02-26T00:00:00.000000",
          "2019-02-27T00:00:00.000000",
          "2019-02-28T00:00:00.000000",
          "2019-03-01T00:00:00.000000",
          "2019-03-02T00:00:00.000000",
          "2019-03-03T00:00:00.000000",
          "2019-03-04T00:00:00.000000",
          "2019-03-05T00:00:00.000000",
          "2019-03-06T00:00:00.000000",
          "2019-03-07T00:00:00.000000",
          "2019-03-08T00:00:00.000000",
          "2019-03-09T00:00:00.000000",
          "2019-03-10T00:00:00.000000",
          "2019-03-11T00:00:00.000000",
          "2019-03-12T00:00:00.000000",
          "2019-03-13T00:00:00.000000",
          "2019-03-14T00:00:00.000000",
          "2019-03-15T00:00:00.000000",
          "2019-03-16T00:00:00.000000",
          "2019-03-17T00:00:00.000000",
          "2019-03-18T00:00:00.000000",
          "2019-03-19T00:00:00.000000",
          "2019-03-20T00:00:00.000000",
          "2019-03-21T00:00:00.000000",
          "2019-03-22T00:00:00.000000",
          "2019-03-23T00:00:00.000000",
          "2019-03-24T00:00:00.000000",
          "2019-03-25T00:00:00.000000",
          "2019-03-26T00:00:00.000000",
          "2019-03-27T00:00:00.000000",
          "2019-03-28T00:00:00.000000",
          "2019-03-29T00:00:00.000000",
          "2019-03-30T00:00:00.000000",
          "2019-03-31T00:00:00.000000",
          "2019-04-01T00:00:00.000000",
          "2019-04-02T00:00:00.000000",
          "2019-04-03T00:00:00.000000",
          "2019-04-04T00:00:00.000000",
          "2019-04-05T00:00:00.000000",
          "2019-04-06T00:00:00.000000",
          "2019-04-07T00:00:00.000000",
          "2019-04-08T00:00:00.000000",
          "2019-04-09T00:00:00.000000",
          "2019-04-10T00:00:00.000000",
          "2019-04-11T00:00:00.000000",
          "2019-04-12T00:00:00.000000",
          "2019-04-13T00:00:00.000000",
          "2019-04-14T00:00:00.000000",
          "2019-04-15T00:00:00.000000",
          "2019-04-16T00:00:00.000000",
          "2019-04-17T00:00:00.000000",
          "2019-04-18T00:00:00.000000",
          "2019-04-19T00:00:00.000000",
          "2019-04-20T00:00:00.000000",
          "2019-04-21T00:00:00.000000",
          "2019-04-22T00:00:00.000000",
          "2019-04-23T00:00:00.000000",
          "2019-04-24T00:00:00.000000",
          "2019-04-25T00:00:00.000000",
          "2019-04-26T00:00:00.000000",
          "2019-04-27T00:00:00.000000",
          "2019-04-28T00:00:00.000000",
          "2019-04-29T00:00:00.000000",
          "2019-04-30T00:00:00.000000",
          "2019-05-01T00:00:00.000000",
          "2019-05-02T00:00:00.000000",
          "2019-05-03T00:00:00.000000",
          "2019-05-04T00:00:00.000000",
          "2019-05-05T00:00:00.000000",
          "2019-05-06T00:00:00.000000",
          "2019-05-07T00:00:00.000000",
          "2019-05-08T00:00:00.000000",
          "2019-05-09T00:00:00.000000",
          "2019-05-10T00:00:00.000000",
          "2019-05-11T00:00:00.000000",
          "2019-05-12T00:00:00.000000",
          "2019-05-13T00:00:00.000000",
          "2019-05-14T00:00:00.000000",
          "2019-05-15T00:00:00.000000",
          "2019-05-16T00:00:00.000000",
          "2019-05-17T00:00:00.000000",
          "2019-05-18T00:00:00.000000",
          "2019-05-19T00:00:00.000000",
          "2019-05-20T00:00:00.000000",
          "2019-05-21T00:00:00.000000",
          "2019-05-22T00:00:00.000000",
          "2019-05-23T00:00:00.000000",
          "2019-05-24T00:00:00.000000",
          "2019-05-25T00:00:00.000000",
          "2019-05-26T00:00:00.000000",
          "2019-05-27T00:00:00.000000",
          "2019-05-28T00:00:00.000000",
          "2019-05-29T00:00:00.000000",
          "2019-05-30T00:00:00.000000",
          "2019-05-31T00:00:00.000000",
          "2019-06-01T00:00:00.000000",
          "2019-06-02T00:00:00.000000",
          "2019-06-03T00:00:00.000000",
          "2019-06-04T00:00:00.000000",
          "2019-06-05T00:00:00.000000",
          "2019-06-06T00:00:00.000000",
          "2019-06-07T00:00:00.000000",
          "2019-06-08T00:00:00.000000",
          "2019-06-09T00:00:00.000000",
          "2019-06-10T00:00:00.000000",
          "2019-06-11T00:00:00.000000",
          "2019-06-12T00:00:00.000000",
          "2019-06-13T00:00:00.000000",
          "2019-06-14T00:00:00.000000",
          "2019-06-15T00:00:00.000000",
          "2019-06-16T00:00:00.000000",
          "2019-06-17T00:00:00.000000",
          "2019-06-18T00:00:00.000000",
          "2019-06-19T00:00:00.000000",
          "2019-06-20T00:00:00.000000",
          "2019-06-21T00:00:00.000000",
          "2019-06-22T00:00:00.000000",
          "2019-06-23T00:00:00.000000",
          "2019-06-24T00:00:00.000000",
          "2019-06-25T00:00:00.000000",
          "2019-06-26T00:00:00.000000",
          "2019-06-27T00:00:00.000000",
          "2019-06-28T00:00:00.000000",
          "2019-06-29T00:00:00.000000",
          "2019-06-30T00:00:00.000000",
          "2019-07-01T00:00:00.000000",
          "2019-07-02T00:00:00.000000",
          "2019-07-03T00:00:00.000000",
          "2019-07-04T00:00:00.000000",
          "2019-07-05T00:00:00.000000",
          "2019-07-06T00:00:00.000000",
          "2019-07-07T00:00:00.000000",
          "2019-07-08T00:00:00.000000",
          "2019-07-09T00:00:00.000000",
          "2019-07-10T00:00:00.000000",
          "2019-07-11T00:00:00.000000",
          "2019-07-12T00:00:00.000000",
          "2019-07-13T00:00:00.000000",
          "2019-07-14T00:00:00.000000",
          "2019-07-15T00:00:00.000000",
          "2019-07-16T00:00:00.000000",
          "2019-07-17T00:00:00.000000",
          "2019-07-18T00:00:00.000000",
          "2019-07-19T00:00:00.000000",
          "2019-07-20T00:00:00.000000",
          "2019-07-21T00:00:00.000000",
          "2019-07-22T00:00:00.000000",
          "2019-07-23T00:00:00.000000",
          "2019-07-24T00:00:00.000000",
          "2019-07-25T00:00:00.000000",
          "2019-07-26T00:00:00.000000",
          "2019-07-27T00:00:00.000000",
          "2019-07-28T00:00:00.000000",
          "2019-07-29T00:00:00.000000",
          "2019-07-30T00:00:00.000000",
          "2019-07-31T00:00:00.000000",
          "2019-08-01T00:00:00.000000",
          "2019-08-02T00:00:00.000000",
          "2019-08-03T00:00:00.000000",
          "2019-08-04T00:00:00.000000",
          "2019-08-05T00:00:00.000000",
          "2019-08-06T00:00:00.000000",
          "2019-08-07T00:00:00.000000",
          "2019-08-08T00:00:00.000000",
          "2019-08-09T00:00:00.000000",
          "2019-08-10T00:00:00.000000",
          "2019-08-11T00:00:00.000000",
          "2019-08-12T00:00:00.000000",
          "2019-08-13T00:00:00.000000",
          "2019-08-14T00:00:00.000000",
          "2019-08-15T00:00:00.000000",
          "2019-08-16T00:00:00.000000",
          "2019-08-17T00:00:00.000000",
          "2019-08-18T00:00:00.000000",
          "2019-08-19T00:00:00.000000",
          "2019-08-20T00:00:00.000000",
          "2019-08-21T00:00:00.000000",
          "2019-08-22T00:00:00.000000",
          "2019-08-23T00:00:00.000000",
          "2019-08-24T00:00:00.000000",
          "2019-08-25T00:00:00.000000",
          "2019-08-26T00:00:00.000000",
          "2019-08-27T00:00:00.000000",
          "2019-08-28T00:00:00.000000",
          "2019-08-29T00:00:00.000000",
          "2019-08-30T00:00:00.000000",
          "2019-08-31T00:00:00.000000",
          "2019-09-01T00:00:00.000000",
          "2019-09-02T00:00:00.000000",
          "2019-09-03T00:00:00.000000",
          "2019-09-04T00:00:00.000000",
          "2019-09-05T00:00:00.000000",
          "2019-09-06T00:00:00.000000",
          "2019-09-07T00:00:00.000000",
          "2019-09-08T00:00:00.000000",
          "2019-09-09T00:00:00.000000",
          "2019-09-10T00:00:00.000000",
          "2019-09-11T00:00:00.000000",
          "2019-09-12T00:00:00.000000",
          "2019-09-13T00:00:00.000000",
          "2019-09-14T00:00:00.000000",
          "2019-09-15T00:00:00.000000",
          "2019-09-16T00:00:00.000000",
          "2019-09-17T00:00:00.000000",
          "2019-09-18T00:00:00.000000",
          "2019-09-19T00:00:00.000000",
          "2019-09-20T00:00:00.000000",
          "2019-09-21T00:00:00.000000",
          "2019-09-22T00:00:00.000000",
          "2019-09-23T00:00:00.000000",
          "2019-09-24T00:00:00.000000",
          "2019-09-25T00:00:00.000000",
          "2019-09-26T00:00:00.000000",
          "2019-09-27T00:00:00.000000",
          "2019-09-28T00:00:00.000000",
          "2019-09-29T00:00:00.000000",
          "2019-09-30T00:00:00.000000",
          "2019-10-01T00:00:00.000000",
          "2019-10-02T00:00:00.000000",
          "2019-10-03T00:00:00.000000",
          "2019-10-04T00:00:00.000000",
          "2019-10-05T00:00:00.000000",
          "2019-10-06T00:00:00.000000",
          "2019-10-07T00:00:00.000000",
          "2019-10-08T00:00:00.000000",
          "2019-10-09T00:00:00.000000",
          "2019-10-10T00:00:00.000000",
          "2019-10-11T00:00:00.000000",
          "2019-10-12T00:00:00.000000",
          "2019-10-13T00:00:00.000000",
          "2019-10-14T00:00:00.000000",
          "2019-10-15T00:00:00.000000",
          "2019-10-16T00:00:00.000000",
          "2019-10-17T00:00:00.000000",
          "2019-10-18T00:00:00.000000",
          "2019-10-19T00:00:00.000000",
          "2019-10-20T00:00:00.000000",
          "2019-10-21T00:00:00.000000",
          "2019-10-22T00:00:00.000000",
          "2019-10-23T00:00:00.000000",
          "2019-10-24T00:00:00.000000",
          "2019-10-25T00:00:00.000000",
          "2019-10-26T00:00:00.000000",
          "2019-10-27T00:00:00.000000",
          "2019-10-28T00:00:00.000000",
          "2019-10-29T00:00:00.000000",
          "2019-10-30T00:00:00.000000",
          "2019-10-31T00:00:00.000000",
          "2019-11-01T00:00:00.000000",
          "2019-11-02T00:00:00.000000",
          "2019-11-03T00:00:00.000000",
          "2019-11-04T00:00:00.000000",
          "2019-11-05T00:00:00.000000",
          "2019-11-06T00:00:00.000000",
          "2019-11-07T00:00:00.000000",
          "2019-11-08T00:00:00.000000",
          "2019-11-09T00:00:00.000000",
          "2019-11-10T00:00:00.000000",
          "2019-11-11T00:00:00.000000",
          "2019-11-12T00:00:00.000000",
          "2019-11-13T00:00:00.000000",
          "2019-11-14T00:00:00.000000",
          "2019-11-15T00:00:00.000000",
          "2019-11-16T00:00:00.000000",
          "2019-11-17T00:00:00.000000",
          "2019-11-18T00:00:00.000000",
          "2019-11-19T00:00:00.000000",
          "2019-11-20T00:00:00.000000",
          "2019-11-21T00:00:00.000000",
          "2019-11-22T00:00:00.000000",
          "2019-11-23T00:00:00.000000",
          "2019-11-24T00:00:00.000000",
          "2019-11-25T00:00:00.000000",
          "2019-11-26T00:00:00.000000",
          "2019-11-27T00:00:00.000000",
          "2019-11-28T00:00:00.000000",
          "2019-11-29T00:00:00.000000",
          "2019-11-30T00:00:00.000000",
          "2019-12-01T00:00:00.000000",
          "2019-12-02T00:00:00.000000",
          "2019-12-03T00:00:00.000000",
          "2019-12-04T00:00:00.000000",
          "2019-12-05T00:00:00.000000",
          "2019-12-06T00:00:00.000000",
          "2019-12-07T00:00:00.000000",
          "2019-12-08T00:00:00.000000",
          "2019-12-09T00:00:00.000000",
          "2019-12-10T00:00:00.000000",
          "2019-12-11T00:00:00.000000",
          "2019-12-12T00:00:00.000000",
          "2019-12-13T00:00:00.000000",
          "2019-12-14T00:00:00.000000",
          "2019-12-15T00:00:00.000000",
          "2019-12-16T00:00:00.000000",
          "2019-12-17T00:00:00.000000",
          "2019-12-18T00:00:00.000000",
          "2019-12-19T00:00:00.000000",
          "2019-12-20T00:00:00.000000",
          "2019-12-21T00:00:00.000000",
          "2019-12-22T00:00:00.000000",
          "2019-12-23T00:00:00.000000",
          "2019-12-24T00:00:00.000000",
          "2019-12-25T00:00:00.000000",
          "2019-12-26T00:00:00.000000",
          "2019-12-27T00:00:00.000000",
          "2019-12-28T00:00:00.000000",
          "2019-12-29T00:00:00.000000",
          "2019-12-30T00:00:00.000000",
          "2019-12-31T00:00:00.000000",
          "2020-01-01T00:00:00.000000",
          "2020-01-02T00:00:00.000000",
          "2020-01-03T00:00:00.000000",
          "2020-01-04T00:00:00.000000",
          "2020-01-05T00:00:00.000000",
          "2020-01-06T00:00:00.000000",
          "2020-01-07T00:00:00.000000",
          "2020-01-08T00:00:00.000000",
          "2020-01-09T00:00:00.000000",
          "2020-01-10T00:00:00.000000",
          "2020-01-11T00:00:00.000000",
          "2020-01-12T00:00:00.000000",
          "2020-01-13T00:00:00.000000",
          "2020-01-14T00:00:00.000000",
          "2020-01-15T00:00:00.000000",
          "2020-01-16T00:00:00.000000",
          "2020-01-17T00:00:00.000000",
          "2020-01-18T00:00:00.000000",
          "2020-01-19T00:00:00.000000",
          "2020-01-20T00:00:00.000000",
          "2020-01-21T00:00:00.000000",
          "2020-01-22T00:00:00.000000",
          "2020-01-23T00:00:00.000000",
          "2020-01-24T00:00:00.000000",
          "2020-01-25T00:00:00.000000",
          "2020-01-26T00:00:00.000000",
          "2020-01-27T00:00:00.000000",
          "2020-01-28T00:00:00.000000",
          "2020-01-29T00:00:00.000000",
          "2020-01-30T00:00:00.000000",
          "2020-01-31T00:00:00.000000",
          "2020-02-01T00:00:00.000000",
          "2020-02-02T00:00:00.000000",
          "2020-02-03T00:00:00.000000",
          "2020-02-04T00:00:00.000000",
          "2020-02-05T00:00:00.000000",
          "2020-02-06T00:00:00.000000",
          "2020-02-07T00:00:00.000000",
          "2020-02-08T00:00:00.000000",
          "2020-02-09T00:00:00.000000",
          "2020-02-10T00:00:00.000000",
          "2020-02-11T00:00:00.000000",
          "2020-02-12T00:00:00.000000",
          "2020-02-13T00:00:00.000000",
          "2020-02-14T00:00:00.000000",
          "2020-02-15T00:00:00.000000",
          "2020-02-16T00:00:00.000000",
          "2020-02-17T00:00:00.000000",
          "2020-02-18T00:00:00.000000",
          "2020-02-19T00:00:00.000000",
          "2020-02-20T00:00:00.000000",
          "2020-02-21T00:00:00.000000",
          "2020-02-22T00:00:00.000000",
          "2020-02-23T00:00:00.000000",
          "2020-02-24T00:00:00.000000",
          "2020-02-25T00:00:00.000000",
          "2020-02-26T00:00:00.000000",
          "2020-02-27T00:00:00.000000",
          "2020-02-28T00:00:00.000000",
          "2020-02-29T00:00:00.000000",
          "2020-03-01T00:00:00.000000",
          "2020-03-02T00:00:00.000000",
          "2020-03-03T00:00:00.000000",
          "2020-03-04T00:00:00.000000",
          "2020-03-05T00:00:00.000000",
          "2020-03-06T00:00:00.000000",
          "2020-03-07T00:00:00.000000",
          "2020-03-08T00:00:00.000000",
          "2020-03-09T00:00:00.000000",
          "2020-03-10T00:00:00.000000",
          "2020-03-11T00:00:00.000000",
          "2020-03-12T00:00:00.000000",
          "2020-03-13T00:00:00.000000",
          "2020-03-14T00:00:00.000000",
          "2020-03-15T00:00:00.000000",
          "2020-03-16T00:00:00.000000",
          "2020-03-17T00:00:00.000000",
          "2020-03-18T00:00:00.000000",
          "2020-03-19T00:00:00.000000",
          "2020-03-20T00:00:00.000000",
          "2020-03-21T00:00:00.000000",
          "2020-03-22T00:00:00.000000",
          "2020-03-23T00:00:00.000000",
          "2020-03-24T00:00:00.000000",
          "2020-03-25T00:00:00.000000",
          "2020-03-26T00:00:00.000000",
          "2020-03-27T00:00:00.000000",
          "2020-03-28T00:00:00.000000",
          "2020-03-29T00:00:00.000000",
          "2020-03-30T00:00:00.000000",
          "2020-03-31T00:00:00.000000",
          "2020-04-01T00:00:00.000000",
          "2020-04-02T00:00:00.000000",
          "2020-04-03T00:00:00.000000",
          "2020-04-04T00:00:00.000000",
          "2020-04-05T00:00:00.000000",
          "2020-04-06T00:00:00.000000",
          "2020-04-07T00:00:00.000000",
          "2020-04-08T00:00:00.000000",
          "2020-04-09T00:00:00.000000",
          "2020-04-10T00:00:00.000000",
          "2020-04-11T00:00:00.000000",
          "2020-04-12T00:00:00.000000",
          "2020-04-13T00:00:00.000000",
          "2020-04-14T00:00:00.000000",
          "2020-04-15T00:00:00.000000",
          "2020-04-16T00:00:00.000000",
          "2020-04-17T00:00:00.000000",
          "2020-04-18T00:00:00.000000",
          "2020-04-19T00:00:00.000000",
          "2020-04-20T00:00:00.000000",
          "2020-04-21T00:00:00.000000",
          "2020-04-22T00:00:00.000000",
          "2020-04-23T00:00:00.000000",
          "2020-04-24T00:00:00.000000",
          "2020-04-25T00:00:00.000000",
          "2020-04-26T00:00:00.000000",
          "2020-04-27T00:00:00.000000",
          "2020-04-28T00:00:00.000000",
          "2020-04-29T00:00:00.000000",
          "2020-04-30T00:00:00.000000",
          "2020-05-01T00:00:00.000000",
          "2020-05-02T00:00:00.000000",
          "2020-05-03T00:00:00.000000",
          "2020-05-04T00:00:00.000000",
          "2020-05-05T00:00:00.000000",
          "2020-05-06T00:00:00.000000",
          "2020-05-07T00:00:00.000000",
          "2020-05-08T00:00:00.000000",
          "2020-05-09T00:00:00.000000",
          "2020-05-10T00:00:00.000000",
          "2020-05-11T00:00:00.000000",
          "2020-05-12T00:00:00.000000",
          "2020-05-13T00:00:00.000000",
          "2020-05-14T00:00:00.000000",
          "2020-05-15T00:00:00.000000",
          "2020-05-16T00:00:00.000000",
          "2020-05-17T00:00:00.000000",
          "2020-05-18T00:00:00.000000",
          "2020-05-19T00:00:00.000000",
          "2020-05-20T00:00:00.000000",
          "2020-05-21T00:00:00.000000",
          "2020-05-22T00:00:00.000000",
          "2020-05-23T00:00:00.000000",
          "2020-05-24T00:00:00.000000",
          "2020-05-25T00:00:00.000000",
          "2020-05-26T00:00:00.000000",
          "2020-05-27T00:00:00.000000",
          "2020-05-28T00:00:00.000000",
          "2020-05-29T00:00:00.000000",
          "2020-05-30T00:00:00.000000",
          "2020-05-31T00:00:00.000000",
          "2020-06-01T00:00:00.000000",
          "2020-06-02T00:00:00.000000",
          "2020-06-03T00:00:00.000000",
          "2020-06-04T00:00:00.000000",
          "2020-06-05T00:00:00.000000",
          "2020-06-06T00:00:00.000000",
          "2020-06-07T00:00:00.000000",
          "2020-06-08T00:00:00.000000",
          "2020-06-09T00:00:00.000000",
          "2020-06-10T00:00:00.000000",
          "2020-06-11T00:00:00.000000",
          "2020-06-12T00:00:00.000000",
          "2020-06-13T00:00:00.000000",
          "2020-06-14T00:00:00.000000",
          "2020-06-15T00:00:00.000000",
          "2020-06-16T00:00:00.000000",
          "2020-06-17T00:00:00.000000",
          "2020-06-18T00:00:00.000000",
          "2020-06-19T00:00:00.000000",
          "2020-06-20T00:00:00.000000",
          "2020-06-21T00:00:00.000000",
          "2020-06-22T00:00:00.000000",
          "2020-06-23T00:00:00.000000",
          "2020-06-24T00:00:00.000000",
          "2020-06-25T00:00:00.000000",
          "2020-06-26T00:00:00.000000",
          "2020-06-27T00:00:00.000000",
          "2020-06-28T00:00:00.000000",
          "2020-06-29T00:00:00.000000",
          "2020-06-30T00:00:00.000000",
          "2020-07-01T00:00:00.000000",
          "2020-07-02T00:00:00.000000",
          "2020-07-03T00:00:00.000000",
          "2020-07-04T00:00:00.000000",
          "2020-07-05T00:00:00.000000",
          "2020-07-06T00:00:00.000000",
          "2020-07-07T00:00:00.000000",
          "2020-07-08T00:00:00.000000",
          "2020-07-09T00:00:00.000000",
          "2020-07-10T00:00:00.000000",
          "2020-07-11T00:00:00.000000",
          "2020-07-12T00:00:00.000000",
          "2020-07-13T00:00:00.000000",
          "2020-07-14T00:00:00.000000",
          "2020-07-15T00:00:00.000000",
          "2020-07-16T00:00:00.000000",
          "2020-07-17T00:00:00.000000",
          "2020-07-18T00:00:00.000000",
          "2020-07-19T00:00:00.000000",
          "2020-07-20T00:00:00.000000",
          "2020-07-21T00:00:00.000000",
          "2020-07-22T00:00:00.000000",
          "2020-07-23T00:00:00.000000",
          "2020-07-24T00:00:00.000000",
          "2020-07-25T00:00:00.000000",
          "2020-07-26T00:00:00.000000",
          "2020-07-27T00:00:00.000000",
          "2020-07-28T00:00:00.000000",
          "2020-07-29T00:00:00.000000",
          "2020-07-30T00:00:00.000000",
          "2020-07-31T00:00:00.000000",
          "2020-08-01T00:00:00.000000",
          "2020-08-02T00:00:00.000000",
          "2020-08-03T00:00:00.000000",
          "2020-08-04T00:00:00.000000",
          "2020-08-05T00:00:00.000000",
          "2020-08-06T00:00:00.000000",
          "2020-08-07T00:00:00.000000",
          "2020-08-08T00:00:00.000000",
          "2020-08-09T00:00:00.000000",
          "2020-08-10T00:00:00.000000",
          "2020-08-11T00:00:00.000000",
          "2020-08-12T00:00:00.000000",
          "2020-08-13T00:00:00.000000",
          "2020-08-14T00:00:00.000000",
          "2020-08-15T00:00:00.000000",
          "2020-08-16T00:00:00.000000",
          "2020-08-17T00:00:00.000000",
          "2020-08-18T00:00:00.000000",
          "2020-08-19T00:00:00.000000",
          "2020-08-20T00:00:00.000000",
          "2020-08-21T00:00:00.000000",
          "2020-08-22T00:00:00.000000",
          "2020-08-23T00:00:00.000000",
          "2020-08-24T00:00:00.000000",
          "2020-08-25T00:00:00.000000",
          "2020-08-26T00:00:00.000000",
          "2020-08-27T00:00:00.000000",
          "2020-08-28T00:00:00.000000",
          "2020-08-29T00:00:00.000000",
          "2020-08-30T00:00:00.000000",
          "2020-08-31T00:00:00.000000",
          "2020-09-01T00:00:00.000000",
          "2020-09-02T00:00:00.000000",
          "2020-09-03T00:00:00.000000",
          "2020-09-04T00:00:00.000000",
          "2020-09-05T00:00:00.000000",
          "2020-09-06T00:00:00.000000",
          "2020-09-07T00:00:00.000000",
          "2020-09-08T00:00:00.000000",
          "2020-09-09T00:00:00.000000",
          "2020-09-10T00:00:00.000000",
          "2020-09-11T00:00:00.000000",
          "2020-09-12T00:00:00.000000",
          "2020-09-13T00:00:00.000000",
          "2020-09-14T00:00:00.000000",
          "2020-09-15T00:00:00.000000",
          "2020-09-16T00:00:00.000000",
          "2020-09-17T00:00:00.000000",
          "2020-09-18T00:00:00.000000",
          "2020-09-19T00:00:00.000000",
          "2020-09-20T00:00:00.000000",
          "2020-09-21T00:00:00.000000",
          "2020-09-22T00:00:00.000000",
          "2020-09-23T00:00:00.000000",
          "2020-09-24T00:00:00.000000",
          "2020-09-25T00:00:00.000000",
          "2020-09-26T00:00:00.000000"
         ],
         "xaxis": "x",
         "yaxis": "y2"
        },
        {
         "marker": {
          "color": [
           "green",
           "green",
           "green",
           "green",
           "red",
           "green",
           "green",
           "green",
           "green",
           "red",
           "green",
           "green",
           "green",
           "red",
           "green",
           "red",
           "green",
           "red",
           "red",
           "red",
           "red",
           "green",
           "red",
           "green",
           "red",
           "green",
           "red",
           "red",
           "red",
           "green",
           "green",
           "green",
           "red",
           "red",
           "red",
           "red",
           "red",
           "red",
           "red",
           "green",
           "green",
           "green",
           "red",
           "green",
           "red",
           "red",
           "green",
           "green",
           "red",
           "green",
           "green",
           "green",
           "green",
           "green",
           "green",
           "red",
           "green",
           "red",
           "red",
           "green",
           "red",
           "green",
           "red",
           "red",
           "green",
           "red",
           "green",
           "red",
           "red",
           "red",
           "green",
           "green",
           "green",
           "red",
           "green",
           "red",
           "green",
           "green",
           "red",
           "red",
           "green",
           "green",
           "green",
           "red",
           "red",
           "red",
           "green",
           "green",
           "green",
           "green",
           "red",
           "green",
           "red",
           "red",
           "green",
           "green",
           "green",
           "green",
           "red",
           "red",
           "green",
           "green",
           "red",
           "green",
           "red",
           "green",
           "red",
           "green",
           "green",
           "red",
           "green",
           "green",
           "green",
           "red",
           "red",
           "red",
           "green",
           "red",
           "red",
           "red",
           "red",
           "red",
           "red",
           "red",
           "red",
           "green",
           "green",
           "red",
           "green",
           "red",
           "red",
           "red",
           "green",
           "green",
           "red",
           "red",
           "green",
           "red",
           "green",
           "green",
           "red",
           "green",
           "green",
           "green",
           "red",
           "green",
           "red",
           "red",
           "red",
           "red",
           "green",
           "green",
           "red",
           "green",
           "green",
           "red",
           "green",
           "red",
           "green",
           "red",
           "green",
           "green",
           "green",
           "red",
           "green",
           "red",
           "red",
           "red",
           "red",
           "green",
           "red",
           "red",
           "red",
           "red",
           "red",
           "green",
           "green",
           "red",
           "green",
           "green",
           "red",
           "green",
           "green",
           "red",
           "red",
           "red",
           "red",
           "red",
           "red",
           "green",
           "green",
           "green",
           "red",
           "red",
           "green",
           "green",
           "green",
           "red",
           "green",
           "green",
           "green",
           "green",
           "green",
           "red",
           "red",
           "red",
           "green",
           "red",
           "red",
           "green",
           "red",
           "red",
           "red",
           "red",
           "red",
           "red",
           "red",
           "red",
           "red",
           "red",
           "green",
           "red",
           "green",
           "red",
           "green",
           "green",
           "green",
           "green",
           "red",
           "green",
           "green",
           "green",
           "green",
           "red",
           "green",
           "red",
           "green",
           "green",
           "red",
           "red",
           "red",
           "green",
           "green",
           "red",
           "green",
           "red",
           "green",
           "red",
           "green",
           "red",
           "red",
           "red",
           "red",
           "red",
           "red",
           "red",
           "red",
           "green",
           "green",
           "red",
           "red",
           "green",
           "red",
           "red",
           "green",
           "red",
           "red",
           "red",
           "green",
           "red",
           "red",
           "green",
           "red",
           "green",
           "red",
           "red",
           "green",
           "red",
           "red",
           "red",
           "green",
           "red",
           "green",
           "red",
           "red",
           "red",
           "red",
           "green",
           "green",
           "green",
           "green",
           "red",
           "green",
           "red",
           "green",
           "green",
           "red",
           "green",
           "green",
           "red",
           "red",
           "green",
           "green",
           "green",
           "green",
           "green",
           "green",
           "green",
           "red",
           "red",
           "green",
           "red",
           "green",
           "red",
           "red",
           "red",
           "red",
           "red",
           "green",
           "red",
           "green",
           "green",
           "green",
           "red",
           "green",
           "red",
           "red",
           "green",
           "green",
           "red",
           "red",
           "red",
           "green",
           "green",
           "red",
           "green",
           "red",
           "red",
           "red",
           "red",
           "green",
           "red",
           "red",
           "red",
           "green",
           "red",
           "red",
           "red",
           "green",
           "red",
           "red",
           "green",
           "red",
           "green",
           "red",
           "red",
           "red",
           "green",
           "red",
           "green",
           "red",
           "red",
           "red",
           "green",
           "green",
           "red",
           "green",
           "red",
           "red",
           "green",
           "green",
           "green",
           "green",
           "red",
           "green",
           "green",
           "green",
           "red",
           "red",
           "red",
           "red",
           "red",
           "green",
           "red",
           "green",
           "green",
           "red",
           "red",
           "red",
           "red",
           "green",
           "green",
           "green",
           "red",
           "red",
           "red",
           "red",
           "green",
           "red",
           "green",
           "red",
           "green",
           "red",
           "green",
           "green",
           "green",
           "green",
           "green",
           "red",
           "green",
           "green",
           "red",
           "red",
           "red",
           "green",
           "green",
           "green",
           "green",
           "green",
           "green",
           "green",
           "red",
           "red",
           "green",
           "red",
           "red",
           "red",
           "red",
           "green",
           "green",
           "red",
           "red",
           "green",
           "green",
           "green",
           "red",
           "red",
           "red",
           "green",
           "red",
           "red",
           "red",
           "red",
           "red",
           "red",
           "green",
           "red",
           "green",
           "green",
           "green",
           "red",
           "red",
           "red",
           "green",
           "red",
           "green",
           "green",
           "red",
           "green",
           "red",
           "red",
           "green",
           "red",
           "green",
           "green",
           "green",
           "green",
           "red",
           "red",
           "red",
           "green",
           "red",
           "red",
           "green",
           "red",
           "green",
           "red",
           "green",
           "red",
           "red",
           "red",
           "red",
           "red",
           "green",
           "green",
           "green",
           "green",
           "red",
           "green",
           "red",
           "green",
           "red",
           "green",
           "green",
           "green",
           "red",
           "red",
           "green",
           "green",
           "green",
           "green",
           "green",
           "green",
           "green",
           "green",
           "red",
           "green",
           "red",
           "green",
           "green",
           "green",
           "red",
           "red",
           "green",
           "red",
           "red",
           "red",
           "red",
           "red",
           "green",
           "red",
           "red",
           "red",
           "red",
           "green",
           "green",
           "red",
           "red",
           "red",
           "red",
           "green",
           "red",
           "green",
           "green",
           "red",
           "red",
           "red",
           "red",
           "red",
           "green",
           "red",
           "green",
           "red",
           "red",
           "red",
           "red",
           "green",
           "red",
           "green",
           "green",
           "red",
           "red",
           "green",
           "green",
           "green",
           "red",
           "green",
           "red",
           "green",
           "red",
           "red",
           "red",
           "green",
           "red",
           "red",
           "red",
           "red",
           "green",
           "green",
           "red",
           "red",
           "green",
           "red",
           "green",
           "red",
           "red",
           "green",
           "green",
           "red",
           "red",
           "green",
           "green",
           "green",
           "green",
           "red",
           "red",
           "green",
           "red",
           "green",
           "red",
           "red",
           "red",
           "green",
           "red",
           "red",
           "green",
           "green",
           "green",
           "red",
           "red",
           "red",
           "green",
           "green",
           "red",
           "red",
           "green",
           "red",
           "red",
           "red",
           "red",
           "red",
           "red",
           "green",
           "green",
           "green",
           "red",
           "green",
           "green",
           "green",
           "green",
           "green",
           "green",
           "red",
           "green",
           "red",
           "red",
           "green",
           "green",
           "green",
           "green",
           "green",
           "green",
           "green",
           "green",
           "green",
           "green",
           "red",
           "green",
           "green",
           "green",
           "red",
           "green",
           "red",
           "red",
           "green",
           "green",
           "red",
           "red",
           "green",
           "red",
           "green",
           "green",
           "red",
           "green",
           "green",
           "red",
           "red",
           "green",
           "green",
           "red",
           "green",
           "green",
           "red",
           "green",
           "red",
           "red",
           "green",
           "red",
           "red",
           "red",
           "green",
           "red",
           "green",
           "red",
           "green",
           "green",
           "green",
           "red",
           "red",
           "green",
           "red",
           "red",
           "red",
           "red",
           "red",
           "red",
           "green",
           "red",
           "red",
           "red",
           "red",
           "green",
           "green",
           "green",
           "red",
           "green",
           "red",
           "green",
           "green",
           "red",
           "green",
           "red",
           "red",
           "red",
           "green",
           "red",
           "red",
           "green",
           "red",
           "green",
           "red",
           "red",
           "green",
           "green",
           "green",
           "red",
           "green",
           "green",
           "red",
           "green",
           "green",
           "green",
           "red",
           "green",
           "green",
           "green",
           "red",
           "red",
           "red",
           "green",
           "red",
           "green",
           "green",
           "red",
           "red",
           "red",
           "green",
           "green",
           "green",
           "red",
           "green",
           "red",
           "red",
           "red",
           "red",
           "green",
           "red",
           "green",
           "green",
           "red",
           "red",
           "red",
           "red",
           "green",
           "red",
           "red",
           "green",
           "red",
           "red",
           "green",
           "red",
           "red",
           "green",
           "green",
           "green",
           "green",
           "red",
           "red",
           "green",
           "green",
           "red",
           "red",
           "red",
           "green",
           "red",
           "red",
           "green",
           "red",
           "red",
           "red",
           "green",
           "green",
           "red",
           "green",
           "red",
           "green",
           "red",
           "red",
           "green",
           "green",
           "red",
           "green",
           "green",
           "red",
           "red",
           "red",
           "red",
           "red",
           "red",
           "green",
           "red",
           "green",
           "green",
           "red",
           "green",
           "red",
           "green",
           "green",
           "green",
           "red",
           "green",
           "red",
           "green",
           "green",
           "green",
           "red",
           "red",
           "red",
           "red",
           "red",
           "green",
           "red",
           "red",
           "green",
           "green",
           "red",
           "green",
           "green",
           "green",
           "red",
           "red",
           "green",
           "red",
           "green",
           "red",
           "green",
           "red",
           "red",
           "red",
           "red",
           "red",
           "red",
           "green",
           "red",
           "red",
           "green",
           "green",
           "red",
           "green",
           "green",
           "red",
           "green",
           "green",
           "red",
           "red",
           "red",
           "green",
           "green",
           "red",
           "green",
           "red",
           "red",
           "green",
           "green",
           "red",
           "green",
           "green",
           "green",
           "green",
           "red",
           "red",
           "green",
           "green",
           "green",
           "red",
           "green",
           "green",
           "green",
           "red",
           "green",
           "red",
           "red",
           "red",
           "red",
           "red",
           "red",
           "green",
           "red",
           "green",
           "green",
           "green",
           "red",
           "red",
           "red",
           "red",
           "green",
           "green",
           "green",
           "red",
           "red",
           "green",
           "red",
           "green",
           "red",
           "red",
           "red",
           "green",
           "green",
           "red",
           "red",
           "green",
           "green",
           "red",
           "red",
           "green",
           "green",
           "green",
           "red",
           "red",
           "red",
           "red",
           "red",
           "green",
           "red",
           "red",
           "red",
           "red",
           "green",
           "red",
           "green",
           "green",
           "red",
           "green",
           "green",
           "red",
           "red",
           "green",
           "red",
           "green",
           "green",
           "red",
           "red",
           "red",
           "green",
           "green",
           "green",
           "red",
           "green",
           "red",
           "red",
           "green",
           "red",
           "red",
           "red",
           "green",
           "red",
           "green",
           "red",
           "green",
           "red",
           "red",
           "green",
           "green",
           "green",
           "green",
           "green",
           "red",
           "red",
           "green",
           "red",
           "red",
           "green",
           "red",
           "green",
           "red",
           "green",
           "green",
           "green",
           "green",
           "red",
           "red",
           "green",
           "green",
           "green",
           "green",
           "red",
           "red",
           "red",
           "red",
           "green",
           "green",
           "red",
           "red",
           "green",
           "red",
           "red",
           "red",
           "red",
           "green",
           "green"
          ],
          "line": {
           "width": 0
          }
         },
         "name": "Volume",
         "type": "bar",
         "uid": "f40eb5ad-87ed-4cb6-8803-8a418d715ff5",
         "x": [
          "2018-01-01T00:00:00.000000",
          "2018-01-02T00:00:00.000000",
          "2018-01-03T00:00:00.000000",
          "2018-01-04T00:00:00.000000",
          "2018-01-05T00:00:00.000000",
          "2018-01-06T00:00:00.000000",
          "2018-01-07T00:00:00.000000",
          "2018-01-08T00:00:00.000000",
          "2018-01-09T00:00:00.000000",
          "2018-01-10T00:00:00.000000",
          "2018-01-11T00:00:00.000000",
          "2018-01-12T00:00:00.000000",
          "2018-01-13T00:00:00.000000",
          "2018-01-14T00:00:00.000000",
          "2018-01-15T00:00:00.000000",
          "2018-01-16T00:00:00.000000",
          "2018-01-17T00:00:00.000000",
          "2018-01-18T00:00:00.000000",
          "2018-01-19T00:00:00.000000",
          "2018-01-20T00:00:00.000000",
          "2018-01-21T00:00:00.000000",
          "2018-01-22T00:00:00.000000",
          "2018-01-23T00:00:00.000000",
          "2018-01-24T00:00:00.000000",
          "2018-01-25T00:00:00.000000",
          "2018-01-26T00:00:00.000000",
          "2018-01-27T00:00:00.000000",
          "2018-01-28T00:00:00.000000",
          "2018-01-29T00:00:00.000000",
          "2018-01-30T00:00:00.000000",
          "2018-01-31T00:00:00.000000",
          "2018-02-01T00:00:00.000000",
          "2018-02-02T00:00:00.000000",
          "2018-02-03T00:00:00.000000",
          "2018-02-04T00:00:00.000000",
          "2018-02-05T00:00:00.000000",
          "2018-02-06T00:00:00.000000",
          "2018-02-07T00:00:00.000000",
          "2018-02-08T00:00:00.000000",
          "2018-02-09T00:00:00.000000",
          "2018-02-10T00:00:00.000000",
          "2018-02-11T00:00:00.000000",
          "2018-02-12T00:00:00.000000",
          "2018-02-13T00:00:00.000000",
          "2018-02-14T00:00:00.000000",
          "2018-02-15T00:00:00.000000",
          "2018-02-16T00:00:00.000000",
          "2018-02-17T00:00:00.000000",
          "2018-02-18T00:00:00.000000",
          "2018-02-19T00:00:00.000000",
          "2018-02-20T00:00:00.000000",
          "2018-02-21T00:00:00.000000",
          "2018-02-22T00:00:00.000000",
          "2018-02-23T00:00:00.000000",
          "2018-02-24T00:00:00.000000",
          "2018-02-25T00:00:00.000000",
          "2018-02-26T00:00:00.000000",
          "2018-02-27T00:00:00.000000",
          "2018-02-28T00:00:00.000000",
          "2018-03-01T00:00:00.000000",
          "2018-03-02T00:00:00.000000",
          "2018-03-03T00:00:00.000000",
          "2018-03-04T00:00:00.000000",
          "2018-03-05T00:00:00.000000",
          "2018-03-06T00:00:00.000000",
          "2018-03-07T00:00:00.000000",
          "2018-03-08T00:00:00.000000",
          "2018-03-09T00:00:00.000000",
          "2018-03-10T00:00:00.000000",
          "2018-03-11T00:00:00.000000",
          "2018-03-12T00:00:00.000000",
          "2018-03-13T00:00:00.000000",
          "2018-03-14T00:00:00.000000",
          "2018-03-15T00:00:00.000000",
          "2018-03-16T00:00:00.000000",
          "2018-03-17T00:00:00.000000",
          "2018-03-18T00:00:00.000000",
          "2018-03-19T00:00:00.000000",
          "2018-03-20T00:00:00.000000",
          "2018-03-21T00:00:00.000000",
          "2018-03-22T00:00:00.000000",
          "2018-03-23T00:00:00.000000",
          "2018-03-24T00:00:00.000000",
          "2018-03-25T00:00:00.000000",
          "2018-03-26T00:00:00.000000",
          "2018-03-27T00:00:00.000000",
          "2018-03-28T00:00:00.000000",
          "2018-03-29T00:00:00.000000",
          "2018-03-30T00:00:00.000000",
          "2018-03-31T00:00:00.000000",
          "2018-04-01T00:00:00.000000",
          "2018-04-02T00:00:00.000000",
          "2018-04-03T00:00:00.000000",
          "2018-04-04T00:00:00.000000",
          "2018-04-05T00:00:00.000000",
          "2018-04-06T00:00:00.000000",
          "2018-04-07T00:00:00.000000",
          "2018-04-08T00:00:00.000000",
          "2018-04-09T00:00:00.000000",
          "2018-04-10T00:00:00.000000",
          "2018-04-11T00:00:00.000000",
          "2018-04-12T00:00:00.000000",
          "2018-04-13T00:00:00.000000",
          "2018-04-14T00:00:00.000000",
          "2018-04-15T00:00:00.000000",
          "2018-04-16T00:00:00.000000",
          "2018-04-17T00:00:00.000000",
          "2018-04-18T00:00:00.000000",
          "2018-04-19T00:00:00.000000",
          "2018-04-20T00:00:00.000000",
          "2018-04-21T00:00:00.000000",
          "2018-04-22T00:00:00.000000",
          "2018-04-23T00:00:00.000000",
          "2018-04-24T00:00:00.000000",
          "2018-04-25T00:00:00.000000",
          "2018-04-26T00:00:00.000000",
          "2018-04-27T00:00:00.000000",
          "2018-04-28T00:00:00.000000",
          "2018-04-29T00:00:00.000000",
          "2018-04-30T00:00:00.000000",
          "2018-05-01T00:00:00.000000",
          "2018-05-02T00:00:00.000000",
          "2018-05-03T00:00:00.000000",
          "2018-05-04T00:00:00.000000",
          "2018-05-05T00:00:00.000000",
          "2018-05-06T00:00:00.000000",
          "2018-05-07T00:00:00.000000",
          "2018-05-08T00:00:00.000000",
          "2018-05-09T00:00:00.000000",
          "2018-05-10T00:00:00.000000",
          "2018-05-11T00:00:00.000000",
          "2018-05-12T00:00:00.000000",
          "2018-05-13T00:00:00.000000",
          "2018-05-14T00:00:00.000000",
          "2018-05-15T00:00:00.000000",
          "2018-05-16T00:00:00.000000",
          "2018-05-17T00:00:00.000000",
          "2018-05-18T00:00:00.000000",
          "2018-05-19T00:00:00.000000",
          "2018-05-20T00:00:00.000000",
          "2018-05-21T00:00:00.000000",
          "2018-05-22T00:00:00.000000",
          "2018-05-23T00:00:00.000000",
          "2018-05-24T00:00:00.000000",
          "2018-05-25T00:00:00.000000",
          "2018-05-26T00:00:00.000000",
          "2018-05-27T00:00:00.000000",
          "2018-05-28T00:00:00.000000",
          "2018-05-29T00:00:00.000000",
          "2018-05-30T00:00:00.000000",
          "2018-05-31T00:00:00.000000",
          "2018-06-01T00:00:00.000000",
          "2018-06-02T00:00:00.000000",
          "2018-06-03T00:00:00.000000",
          "2018-06-04T00:00:00.000000",
          "2018-06-05T00:00:00.000000",
          "2018-06-06T00:00:00.000000",
          "2018-06-07T00:00:00.000000",
          "2018-06-08T00:00:00.000000",
          "2018-06-09T00:00:00.000000",
          "2018-06-10T00:00:00.000000",
          "2018-06-11T00:00:00.000000",
          "2018-06-12T00:00:00.000000",
          "2018-06-13T00:00:00.000000",
          "2018-06-14T00:00:00.000000",
          "2018-06-15T00:00:00.000000",
          "2018-06-16T00:00:00.000000",
          "2018-06-17T00:00:00.000000",
          "2018-06-18T00:00:00.000000",
          "2018-06-19T00:00:00.000000",
          "2018-06-20T00:00:00.000000",
          "2018-06-21T00:00:00.000000",
          "2018-06-22T00:00:00.000000",
          "2018-06-23T00:00:00.000000",
          "2018-06-24T00:00:00.000000",
          "2018-06-25T00:00:00.000000",
          "2018-06-26T00:00:00.000000",
          "2018-06-27T00:00:00.000000",
          "2018-06-28T00:00:00.000000",
          "2018-06-29T00:00:00.000000",
          "2018-06-30T00:00:00.000000",
          "2018-07-01T00:00:00.000000",
          "2018-07-02T00:00:00.000000",
          "2018-07-03T00:00:00.000000",
          "2018-07-04T00:00:00.000000",
          "2018-07-05T00:00:00.000000",
          "2018-07-06T00:00:00.000000",
          "2018-07-07T00:00:00.000000",
          "2018-07-08T00:00:00.000000",
          "2018-07-09T00:00:00.000000",
          "2018-07-10T00:00:00.000000",
          "2018-07-11T00:00:00.000000",
          "2018-07-12T00:00:00.000000",
          "2018-07-13T00:00:00.000000",
          "2018-07-14T00:00:00.000000",
          "2018-07-15T00:00:00.000000",
          "2018-07-16T00:00:00.000000",
          "2018-07-17T00:00:00.000000",
          "2018-07-18T00:00:00.000000",
          "2018-07-19T00:00:00.000000",
          "2018-07-20T00:00:00.000000",
          "2018-07-21T00:00:00.000000",
          "2018-07-22T00:00:00.000000",
          "2018-07-23T00:00:00.000000",
          "2018-07-24T00:00:00.000000",
          "2018-07-25T00:00:00.000000",
          "2018-07-26T00:00:00.000000",
          "2018-07-27T00:00:00.000000",
          "2018-07-28T00:00:00.000000",
          "2018-07-29T00:00:00.000000",
          "2018-07-30T00:00:00.000000",
          "2018-07-31T00:00:00.000000",
          "2018-08-01T00:00:00.000000",
          "2018-08-02T00:00:00.000000",
          "2018-08-03T00:00:00.000000",
          "2018-08-04T00:00:00.000000",
          "2018-08-05T00:00:00.000000",
          "2018-08-06T00:00:00.000000",
          "2018-08-07T00:00:00.000000",
          "2018-08-08T00:00:00.000000",
          "2018-08-09T00:00:00.000000",
          "2018-08-10T00:00:00.000000",
          "2018-08-11T00:00:00.000000",
          "2018-08-12T00:00:00.000000",
          "2018-08-13T00:00:00.000000",
          "2018-08-14T00:00:00.000000",
          "2018-08-15T00:00:00.000000",
          "2018-08-16T00:00:00.000000",
          "2018-08-17T00:00:00.000000",
          "2018-08-18T00:00:00.000000",
          "2018-08-19T00:00:00.000000",
          "2018-08-20T00:00:00.000000",
          "2018-08-21T00:00:00.000000",
          "2018-08-22T00:00:00.000000",
          "2018-08-23T00:00:00.000000",
          "2018-08-24T00:00:00.000000",
          "2018-08-25T00:00:00.000000",
          "2018-08-26T00:00:00.000000",
          "2018-08-27T00:00:00.000000",
          "2018-08-28T00:00:00.000000",
          "2018-08-29T00:00:00.000000",
          "2018-08-30T00:00:00.000000",
          "2018-08-31T00:00:00.000000",
          "2018-09-01T00:00:00.000000",
          "2018-09-02T00:00:00.000000",
          "2018-09-03T00:00:00.000000",
          "2018-09-04T00:00:00.000000",
          "2018-09-05T00:00:00.000000",
          "2018-09-06T00:00:00.000000",
          "2018-09-07T00:00:00.000000",
          "2018-09-08T00:00:00.000000",
          "2018-09-09T00:00:00.000000",
          "2018-09-10T00:00:00.000000",
          "2018-09-11T00:00:00.000000",
          "2018-09-12T00:00:00.000000",
          "2018-09-13T00:00:00.000000",
          "2018-09-14T00:00:00.000000",
          "2018-09-15T00:00:00.000000",
          "2018-09-16T00:00:00.000000",
          "2018-09-17T00:00:00.000000",
          "2018-09-18T00:00:00.000000",
          "2018-09-19T00:00:00.000000",
          "2018-09-20T00:00:00.000000",
          "2018-09-21T00:00:00.000000",
          "2018-09-22T00:00:00.000000",
          "2018-09-23T00:00:00.000000",
          "2018-09-24T00:00:00.000000",
          "2018-09-25T00:00:00.000000",
          "2018-09-26T00:00:00.000000",
          "2018-09-27T00:00:00.000000",
          "2018-09-28T00:00:00.000000",
          "2018-09-29T00:00:00.000000",
          "2018-09-30T00:00:00.000000",
          "2018-10-01T00:00:00.000000",
          "2018-10-02T00:00:00.000000",
          "2018-10-03T00:00:00.000000",
          "2018-10-04T00:00:00.000000",
          "2018-10-05T00:00:00.000000",
          "2018-10-06T00:00:00.000000",
          "2018-10-07T00:00:00.000000",
          "2018-10-08T00:00:00.000000",
          "2018-10-09T00:00:00.000000",
          "2018-10-10T00:00:00.000000",
          "2018-10-11T00:00:00.000000",
          "2018-10-12T00:00:00.000000",
          "2018-10-13T00:00:00.000000",
          "2018-10-14T00:00:00.000000",
          "2018-10-15T00:00:00.000000",
          "2018-10-16T00:00:00.000000",
          "2018-10-17T00:00:00.000000",
          "2018-10-18T00:00:00.000000",
          "2018-10-19T00:00:00.000000",
          "2018-10-20T00:00:00.000000",
          "2018-10-21T00:00:00.000000",
          "2018-10-22T00:00:00.000000",
          "2018-10-23T00:00:00.000000",
          "2018-10-24T00:00:00.000000",
          "2018-10-25T00:00:00.000000",
          "2018-10-26T00:00:00.000000",
          "2018-10-27T00:00:00.000000",
          "2018-10-28T00:00:00.000000",
          "2018-10-29T00:00:00.000000",
          "2018-10-30T00:00:00.000000",
          "2018-10-31T00:00:00.000000",
          "2018-11-01T00:00:00.000000",
          "2018-11-02T00:00:00.000000",
          "2018-11-03T00:00:00.000000",
          "2018-11-04T00:00:00.000000",
          "2018-11-05T00:00:00.000000",
          "2018-11-06T00:00:00.000000",
          "2018-11-07T00:00:00.000000",
          "2018-11-08T00:00:00.000000",
          "2018-11-09T00:00:00.000000",
          "2018-11-10T00:00:00.000000",
          "2018-11-11T00:00:00.000000",
          "2018-11-12T00:00:00.000000",
          "2018-11-13T00:00:00.000000",
          "2018-11-14T00:00:00.000000",
          "2018-11-15T00:00:00.000000",
          "2018-11-16T00:00:00.000000",
          "2018-11-17T00:00:00.000000",
          "2018-11-18T00:00:00.000000",
          "2018-11-19T00:00:00.000000",
          "2018-11-20T00:00:00.000000",
          "2018-11-21T00:00:00.000000",
          "2018-11-22T00:00:00.000000",
          "2018-11-23T00:00:00.000000",
          "2018-11-24T00:00:00.000000",
          "2018-11-25T00:00:00.000000",
          "2018-11-26T00:00:00.000000",
          "2018-11-27T00:00:00.000000",
          "2018-11-28T00:00:00.000000",
          "2018-11-29T00:00:00.000000",
          "2018-11-30T00:00:00.000000",
          "2018-12-01T00:00:00.000000",
          "2018-12-02T00:00:00.000000",
          "2018-12-03T00:00:00.000000",
          "2018-12-04T00:00:00.000000",
          "2018-12-05T00:00:00.000000",
          "2018-12-06T00:00:00.000000",
          "2018-12-07T00:00:00.000000",
          "2018-12-08T00:00:00.000000",
          "2018-12-09T00:00:00.000000",
          "2018-12-10T00:00:00.000000",
          "2018-12-11T00:00:00.000000",
          "2018-12-12T00:00:00.000000",
          "2018-12-13T00:00:00.000000",
          "2018-12-14T00:00:00.000000",
          "2018-12-15T00:00:00.000000",
          "2018-12-16T00:00:00.000000",
          "2018-12-17T00:00:00.000000",
          "2018-12-18T00:00:00.000000",
          "2018-12-19T00:00:00.000000",
          "2018-12-20T00:00:00.000000",
          "2018-12-21T00:00:00.000000",
          "2018-12-22T00:00:00.000000",
          "2018-12-23T00:00:00.000000",
          "2018-12-24T00:00:00.000000",
          "2018-12-25T00:00:00.000000",
          "2018-12-26T00:00:00.000000",
          "2018-12-27T00:00:00.000000",
          "2018-12-28T00:00:00.000000",
          "2018-12-29T00:00:00.000000",
          "2018-12-30T00:00:00.000000",
          "2018-12-31T00:00:00.000000",
          "2019-01-01T00:00:00.000000",
          "2019-01-02T00:00:00.000000",
          "2019-01-03T00:00:00.000000",
          "2019-01-04T00:00:00.000000",
          "2019-01-05T00:00:00.000000",
          "2019-01-06T00:00:00.000000",
          "2019-01-07T00:00:00.000000",
          "2019-01-08T00:00:00.000000",
          "2019-01-09T00:00:00.000000",
          "2019-01-10T00:00:00.000000",
          "2019-01-11T00:00:00.000000",
          "2019-01-12T00:00:00.000000",
          "2019-01-13T00:00:00.000000",
          "2019-01-14T00:00:00.000000",
          "2019-01-15T00:00:00.000000",
          "2019-01-16T00:00:00.000000",
          "2019-01-17T00:00:00.000000",
          "2019-01-18T00:00:00.000000",
          "2019-01-19T00:00:00.000000",
          "2019-01-20T00:00:00.000000",
          "2019-01-21T00:00:00.000000",
          "2019-01-22T00:00:00.000000",
          "2019-01-23T00:00:00.000000",
          "2019-01-24T00:00:00.000000",
          "2019-01-25T00:00:00.000000",
          "2019-01-26T00:00:00.000000",
          "2019-01-27T00:00:00.000000",
          "2019-01-28T00:00:00.000000",
          "2019-01-29T00:00:00.000000",
          "2019-01-30T00:00:00.000000",
          "2019-01-31T00:00:00.000000",
          "2019-02-01T00:00:00.000000",
          "2019-02-02T00:00:00.000000",
          "2019-02-03T00:00:00.000000",
          "2019-02-04T00:00:00.000000",
          "2019-02-05T00:00:00.000000",
          "2019-02-06T00:00:00.000000",
          "2019-02-07T00:00:00.000000",
          "2019-02-08T00:00:00.000000",
          "2019-02-09T00:00:00.000000",
          "2019-02-10T00:00:00.000000",
          "2019-02-11T00:00:00.000000",
          "2019-02-12T00:00:00.000000",
          "2019-02-13T00:00:00.000000",
          "2019-02-14T00:00:00.000000",
          "2019-02-15T00:00:00.000000",
          "2019-02-16T00:00:00.000000",
          "2019-02-17T00:00:00.000000",
          "2019-02-18T00:00:00.000000",
          "2019-02-19T00:00:00.000000",
          "2019-02-20T00:00:00.000000",
          "2019-02-21T00:00:00.000000",
          "2019-02-22T00:00:00.000000",
          "2019-02-23T00:00:00.000000",
          "2019-02-24T00:00:00.000000",
          "2019-02-25T00:00:00.000000",
          "2019-02-26T00:00:00.000000",
          "2019-02-27T00:00:00.000000",
          "2019-02-28T00:00:00.000000",
          "2019-03-01T00:00:00.000000",
          "2019-03-02T00:00:00.000000",
          "2019-03-03T00:00:00.000000",
          "2019-03-04T00:00:00.000000",
          "2019-03-05T00:00:00.000000",
          "2019-03-06T00:00:00.000000",
          "2019-03-07T00:00:00.000000",
          "2019-03-08T00:00:00.000000",
          "2019-03-09T00:00:00.000000",
          "2019-03-10T00:00:00.000000",
          "2019-03-11T00:00:00.000000",
          "2019-03-12T00:00:00.000000",
          "2019-03-13T00:00:00.000000",
          "2019-03-14T00:00:00.000000",
          "2019-03-15T00:00:00.000000",
          "2019-03-16T00:00:00.000000",
          "2019-03-17T00:00:00.000000",
          "2019-03-18T00:00:00.000000",
          "2019-03-19T00:00:00.000000",
          "2019-03-20T00:00:00.000000",
          "2019-03-21T00:00:00.000000",
          "2019-03-22T00:00:00.000000",
          "2019-03-23T00:00:00.000000",
          "2019-03-24T00:00:00.000000",
          "2019-03-25T00:00:00.000000",
          "2019-03-26T00:00:00.000000",
          "2019-03-27T00:00:00.000000",
          "2019-03-28T00:00:00.000000",
          "2019-03-29T00:00:00.000000",
          "2019-03-30T00:00:00.000000",
          "2019-03-31T00:00:00.000000",
          "2019-04-01T00:00:00.000000",
          "2019-04-02T00:00:00.000000",
          "2019-04-03T00:00:00.000000",
          "2019-04-04T00:00:00.000000",
          "2019-04-05T00:00:00.000000",
          "2019-04-06T00:00:00.000000",
          "2019-04-07T00:00:00.000000",
          "2019-04-08T00:00:00.000000",
          "2019-04-09T00:00:00.000000",
          "2019-04-10T00:00:00.000000",
          "2019-04-11T00:00:00.000000",
          "2019-04-12T00:00:00.000000",
          "2019-04-13T00:00:00.000000",
          "2019-04-14T00:00:00.000000",
          "2019-04-15T00:00:00.000000",
          "2019-04-16T00:00:00.000000",
          "2019-04-17T00:00:00.000000",
          "2019-04-18T00:00:00.000000",
          "2019-04-19T00:00:00.000000",
          "2019-04-20T00:00:00.000000",
          "2019-04-21T00:00:00.000000",
          "2019-04-22T00:00:00.000000",
          "2019-04-23T00:00:00.000000",
          "2019-04-24T00:00:00.000000",
          "2019-04-25T00:00:00.000000",
          "2019-04-26T00:00:00.000000",
          "2019-04-27T00:00:00.000000",
          "2019-04-28T00:00:00.000000",
          "2019-04-29T00:00:00.000000",
          "2019-04-30T00:00:00.000000",
          "2019-05-01T00:00:00.000000",
          "2019-05-02T00:00:00.000000",
          "2019-05-03T00:00:00.000000",
          "2019-05-04T00:00:00.000000",
          "2019-05-05T00:00:00.000000",
          "2019-05-06T00:00:00.000000",
          "2019-05-07T00:00:00.000000",
          "2019-05-08T00:00:00.000000",
          "2019-05-09T00:00:00.000000",
          "2019-05-10T00:00:00.000000",
          "2019-05-11T00:00:00.000000",
          "2019-05-12T00:00:00.000000",
          "2019-05-13T00:00:00.000000",
          "2019-05-14T00:00:00.000000",
          "2019-05-15T00:00:00.000000",
          "2019-05-16T00:00:00.000000",
          "2019-05-17T00:00:00.000000",
          "2019-05-18T00:00:00.000000",
          "2019-05-19T00:00:00.000000",
          "2019-05-20T00:00:00.000000",
          "2019-05-21T00:00:00.000000",
          "2019-05-22T00:00:00.000000",
          "2019-05-23T00:00:00.000000",
          "2019-05-24T00:00:00.000000",
          "2019-05-25T00:00:00.000000",
          "2019-05-26T00:00:00.000000",
          "2019-05-27T00:00:00.000000",
          "2019-05-28T00:00:00.000000",
          "2019-05-29T00:00:00.000000",
          "2019-05-30T00:00:00.000000",
          "2019-05-31T00:00:00.000000",
          "2019-06-01T00:00:00.000000",
          "2019-06-02T00:00:00.000000",
          "2019-06-03T00:00:00.000000",
          "2019-06-04T00:00:00.000000",
          "2019-06-05T00:00:00.000000",
          "2019-06-06T00:00:00.000000",
          "2019-06-07T00:00:00.000000",
          "2019-06-08T00:00:00.000000",
          "2019-06-09T00:00:00.000000",
          "2019-06-10T00:00:00.000000",
          "2019-06-11T00:00:00.000000",
          "2019-06-12T00:00:00.000000",
          "2019-06-13T00:00:00.000000",
          "2019-06-14T00:00:00.000000",
          "2019-06-15T00:00:00.000000",
          "2019-06-16T00:00:00.000000",
          "2019-06-17T00:00:00.000000",
          "2019-06-18T00:00:00.000000",
          "2019-06-19T00:00:00.000000",
          "2019-06-20T00:00:00.000000",
          "2019-06-21T00:00:00.000000",
          "2019-06-22T00:00:00.000000",
          "2019-06-23T00:00:00.000000",
          "2019-06-24T00:00:00.000000",
          "2019-06-25T00:00:00.000000",
          "2019-06-26T00:00:00.000000",
          "2019-06-27T00:00:00.000000",
          "2019-06-28T00:00:00.000000",
          "2019-06-29T00:00:00.000000",
          "2019-06-30T00:00:00.000000",
          "2019-07-01T00:00:00.000000",
          "2019-07-02T00:00:00.000000",
          "2019-07-03T00:00:00.000000",
          "2019-07-04T00:00:00.000000",
          "2019-07-05T00:00:00.000000",
          "2019-07-06T00:00:00.000000",
          "2019-07-07T00:00:00.000000",
          "2019-07-08T00:00:00.000000",
          "2019-07-09T00:00:00.000000",
          "2019-07-10T00:00:00.000000",
          "2019-07-11T00:00:00.000000",
          "2019-07-12T00:00:00.000000",
          "2019-07-13T00:00:00.000000",
          "2019-07-14T00:00:00.000000",
          "2019-07-15T00:00:00.000000",
          "2019-07-16T00:00:00.000000",
          "2019-07-17T00:00:00.000000",
          "2019-07-18T00:00:00.000000",
          "2019-07-19T00:00:00.000000",
          "2019-07-20T00:00:00.000000",
          "2019-07-21T00:00:00.000000",
          "2019-07-22T00:00:00.000000",
          "2019-07-23T00:00:00.000000",
          "2019-07-24T00:00:00.000000",
          "2019-07-25T00:00:00.000000",
          "2019-07-26T00:00:00.000000",
          "2019-07-27T00:00:00.000000",
          "2019-07-28T00:00:00.000000",
          "2019-07-29T00:00:00.000000",
          "2019-07-30T00:00:00.000000",
          "2019-07-31T00:00:00.000000",
          "2019-08-01T00:00:00.000000",
          "2019-08-02T00:00:00.000000",
          "2019-08-03T00:00:00.000000",
          "2019-08-04T00:00:00.000000",
          "2019-08-05T00:00:00.000000",
          "2019-08-06T00:00:00.000000",
          "2019-08-07T00:00:00.000000",
          "2019-08-08T00:00:00.000000",
          "2019-08-09T00:00:00.000000",
          "2019-08-10T00:00:00.000000",
          "2019-08-11T00:00:00.000000",
          "2019-08-12T00:00:00.000000",
          "2019-08-13T00:00:00.000000",
          "2019-08-14T00:00:00.000000",
          "2019-08-15T00:00:00.000000",
          "2019-08-16T00:00:00.000000",
          "2019-08-17T00:00:00.000000",
          "2019-08-18T00:00:00.000000",
          "2019-08-19T00:00:00.000000",
          "2019-08-20T00:00:00.000000",
          "2019-08-21T00:00:00.000000",
          "2019-08-22T00:00:00.000000",
          "2019-08-23T00:00:00.000000",
          "2019-08-24T00:00:00.000000",
          "2019-08-25T00:00:00.000000",
          "2019-08-26T00:00:00.000000",
          "2019-08-27T00:00:00.000000",
          "2019-08-28T00:00:00.000000",
          "2019-08-29T00:00:00.000000",
          "2019-08-30T00:00:00.000000",
          "2019-08-31T00:00:00.000000",
          "2019-09-01T00:00:00.000000",
          "2019-09-02T00:00:00.000000",
          "2019-09-03T00:00:00.000000",
          "2019-09-04T00:00:00.000000",
          "2019-09-05T00:00:00.000000",
          "2019-09-06T00:00:00.000000",
          "2019-09-07T00:00:00.000000",
          "2019-09-08T00:00:00.000000",
          "2019-09-09T00:00:00.000000",
          "2019-09-10T00:00:00.000000",
          "2019-09-11T00:00:00.000000",
          "2019-09-12T00:00:00.000000",
          "2019-09-13T00:00:00.000000",
          "2019-09-14T00:00:00.000000",
          "2019-09-15T00:00:00.000000",
          "2019-09-16T00:00:00.000000",
          "2019-09-17T00:00:00.000000",
          "2019-09-18T00:00:00.000000",
          "2019-09-19T00:00:00.000000",
          "2019-09-20T00:00:00.000000",
          "2019-09-21T00:00:00.000000",
          "2019-09-22T00:00:00.000000",
          "2019-09-23T00:00:00.000000",
          "2019-09-24T00:00:00.000000",
          "2019-09-25T00:00:00.000000",
          "2019-09-26T00:00:00.000000",
          "2019-09-27T00:00:00.000000",
          "2019-09-28T00:00:00.000000",
          "2019-09-29T00:00:00.000000",
          "2019-09-30T00:00:00.000000",
          "2019-10-01T00:00:00.000000",
          "2019-10-02T00:00:00.000000",
          "2019-10-03T00:00:00.000000",
          "2019-10-04T00:00:00.000000",
          "2019-10-05T00:00:00.000000",
          "2019-10-06T00:00:00.000000",
          "2019-10-07T00:00:00.000000",
          "2019-10-08T00:00:00.000000",
          "2019-10-09T00:00:00.000000",
          "2019-10-10T00:00:00.000000",
          "2019-10-11T00:00:00.000000",
          "2019-10-12T00:00:00.000000",
          "2019-10-13T00:00:00.000000",
          "2019-10-14T00:00:00.000000",
          "2019-10-15T00:00:00.000000",
          "2019-10-16T00:00:00.000000",
          "2019-10-17T00:00:00.000000",
          "2019-10-18T00:00:00.000000",
          "2019-10-19T00:00:00.000000",
          "2019-10-20T00:00:00.000000",
          "2019-10-21T00:00:00.000000",
          "2019-10-22T00:00:00.000000",
          "2019-10-23T00:00:00.000000",
          "2019-10-24T00:00:00.000000",
          "2019-10-25T00:00:00.000000",
          "2019-10-26T00:00:00.000000",
          "2019-10-27T00:00:00.000000",
          "2019-10-28T00:00:00.000000",
          "2019-10-29T00:00:00.000000",
          "2019-10-30T00:00:00.000000",
          "2019-10-31T00:00:00.000000",
          "2019-11-01T00:00:00.000000",
          "2019-11-02T00:00:00.000000",
          "2019-11-03T00:00:00.000000",
          "2019-11-04T00:00:00.000000",
          "2019-11-05T00:00:00.000000",
          "2019-11-06T00:00:00.000000",
          "2019-11-07T00:00:00.000000",
          "2019-11-08T00:00:00.000000",
          "2019-11-09T00:00:00.000000",
          "2019-11-10T00:00:00.000000",
          "2019-11-11T00:00:00.000000",
          "2019-11-12T00:00:00.000000",
          "2019-11-13T00:00:00.000000",
          "2019-11-14T00:00:00.000000",
          "2019-11-15T00:00:00.000000",
          "2019-11-16T00:00:00.000000",
          "2019-11-17T00:00:00.000000",
          "2019-11-18T00:00:00.000000",
          "2019-11-19T00:00:00.000000",
          "2019-11-20T00:00:00.000000",
          "2019-11-21T00:00:00.000000",
          "2019-11-22T00:00:00.000000",
          "2019-11-23T00:00:00.000000",
          "2019-11-24T00:00:00.000000",
          "2019-11-25T00:00:00.000000",
          "2019-11-26T00:00:00.000000",
          "2019-11-27T00:00:00.000000",
          "2019-11-28T00:00:00.000000",
          "2019-11-29T00:00:00.000000",
          "2019-11-30T00:00:00.000000",
          "2019-12-01T00:00:00.000000",
          "2019-12-02T00:00:00.000000",
          "2019-12-03T00:00:00.000000",
          "2019-12-04T00:00:00.000000",
          "2019-12-05T00:00:00.000000",
          "2019-12-06T00:00:00.000000",
          "2019-12-07T00:00:00.000000",
          "2019-12-08T00:00:00.000000",
          "2019-12-09T00:00:00.000000",
          "2019-12-10T00:00:00.000000",
          "2019-12-11T00:00:00.000000",
          "2019-12-12T00:00:00.000000",
          "2019-12-13T00:00:00.000000",
          "2019-12-14T00:00:00.000000",
          "2019-12-15T00:00:00.000000",
          "2019-12-16T00:00:00.000000",
          "2019-12-17T00:00:00.000000",
          "2019-12-18T00:00:00.000000",
          "2019-12-19T00:00:00.000000",
          "2019-12-20T00:00:00.000000",
          "2019-12-21T00:00:00.000000",
          "2019-12-22T00:00:00.000000",
          "2019-12-23T00:00:00.000000",
          "2019-12-24T00:00:00.000000",
          "2019-12-25T00:00:00.000000",
          "2019-12-26T00:00:00.000000",
          "2019-12-27T00:00:00.000000",
          "2019-12-28T00:00:00.000000",
          "2019-12-29T00:00:00.000000",
          "2019-12-30T00:00:00.000000",
          "2019-12-31T00:00:00.000000",
          "2020-01-01T00:00:00.000000",
          "2020-01-02T00:00:00.000000",
          "2020-01-03T00:00:00.000000",
          "2020-01-04T00:00:00.000000",
          "2020-01-05T00:00:00.000000",
          "2020-01-06T00:00:00.000000",
          "2020-01-07T00:00:00.000000",
          "2020-01-08T00:00:00.000000",
          "2020-01-09T00:00:00.000000",
          "2020-01-10T00:00:00.000000",
          "2020-01-11T00:00:00.000000",
          "2020-01-12T00:00:00.000000",
          "2020-01-13T00:00:00.000000",
          "2020-01-14T00:00:00.000000",
          "2020-01-15T00:00:00.000000",
          "2020-01-16T00:00:00.000000",
          "2020-01-17T00:00:00.000000",
          "2020-01-18T00:00:00.000000",
          "2020-01-19T00:00:00.000000",
          "2020-01-20T00:00:00.000000",
          "2020-01-21T00:00:00.000000",
          "2020-01-22T00:00:00.000000",
          "2020-01-23T00:00:00.000000",
          "2020-01-24T00:00:00.000000",
          "2020-01-25T00:00:00.000000",
          "2020-01-26T00:00:00.000000",
          "2020-01-27T00:00:00.000000",
          "2020-01-28T00:00:00.000000",
          "2020-01-29T00:00:00.000000",
          "2020-01-30T00:00:00.000000",
          "2020-01-31T00:00:00.000000",
          "2020-02-01T00:00:00.000000",
          "2020-02-02T00:00:00.000000",
          "2020-02-03T00:00:00.000000",
          "2020-02-04T00:00:00.000000",
          "2020-02-05T00:00:00.000000",
          "2020-02-06T00:00:00.000000",
          "2020-02-07T00:00:00.000000",
          "2020-02-08T00:00:00.000000",
          "2020-02-09T00:00:00.000000",
          "2020-02-10T00:00:00.000000",
          "2020-02-11T00:00:00.000000",
          "2020-02-12T00:00:00.000000",
          "2020-02-13T00:00:00.000000",
          "2020-02-14T00:00:00.000000",
          "2020-02-15T00:00:00.000000",
          "2020-02-16T00:00:00.000000",
          "2020-02-17T00:00:00.000000",
          "2020-02-18T00:00:00.000000",
          "2020-02-19T00:00:00.000000",
          "2020-02-20T00:00:00.000000",
          "2020-02-21T00:00:00.000000",
          "2020-02-22T00:00:00.000000",
          "2020-02-23T00:00:00.000000",
          "2020-02-24T00:00:00.000000",
          "2020-02-25T00:00:00.000000",
          "2020-02-26T00:00:00.000000",
          "2020-02-27T00:00:00.000000",
          "2020-02-28T00:00:00.000000",
          "2020-02-29T00:00:00.000000",
          "2020-03-01T00:00:00.000000",
          "2020-03-02T00:00:00.000000",
          "2020-03-03T00:00:00.000000",
          "2020-03-04T00:00:00.000000",
          "2020-03-05T00:00:00.000000",
          "2020-03-06T00:00:00.000000",
          "2020-03-07T00:00:00.000000",
          "2020-03-08T00:00:00.000000",
          "2020-03-09T00:00:00.000000",
          "2020-03-10T00:00:00.000000",
          "2020-03-11T00:00:00.000000",
          "2020-03-12T00:00:00.000000",
          "2020-03-13T00:00:00.000000",
          "2020-03-14T00:00:00.000000",
          "2020-03-15T00:00:00.000000",
          "2020-03-16T00:00:00.000000",
          "2020-03-17T00:00:00.000000",
          "2020-03-18T00:00:00.000000",
          "2020-03-19T00:00:00.000000",
          "2020-03-20T00:00:00.000000",
          "2020-03-21T00:00:00.000000",
          "2020-03-22T00:00:00.000000",
          "2020-03-23T00:00:00.000000",
          "2020-03-24T00:00:00.000000",
          "2020-03-25T00:00:00.000000",
          "2020-03-26T00:00:00.000000",
          "2020-03-27T00:00:00.000000",
          "2020-03-28T00:00:00.000000",
          "2020-03-29T00:00:00.000000",
          "2020-03-30T00:00:00.000000",
          "2020-03-31T00:00:00.000000",
          "2020-04-01T00:00:00.000000",
          "2020-04-02T00:00:00.000000",
          "2020-04-03T00:00:00.000000",
          "2020-04-04T00:00:00.000000",
          "2020-04-05T00:00:00.000000",
          "2020-04-06T00:00:00.000000",
          "2020-04-07T00:00:00.000000",
          "2020-04-08T00:00:00.000000",
          "2020-04-09T00:00:00.000000",
          "2020-04-10T00:00:00.000000",
          "2020-04-11T00:00:00.000000",
          "2020-04-12T00:00:00.000000",
          "2020-04-13T00:00:00.000000",
          "2020-04-14T00:00:00.000000",
          "2020-04-15T00:00:00.000000",
          "2020-04-16T00:00:00.000000",
          "2020-04-17T00:00:00.000000",
          "2020-04-18T00:00:00.000000",
          "2020-04-19T00:00:00.000000",
          "2020-04-20T00:00:00.000000",
          "2020-04-21T00:00:00.000000",
          "2020-04-22T00:00:00.000000",
          "2020-04-23T00:00:00.000000",
          "2020-04-24T00:00:00.000000",
          "2020-04-25T00:00:00.000000",
          "2020-04-26T00:00:00.000000",
          "2020-04-27T00:00:00.000000",
          "2020-04-28T00:00:00.000000",
          "2020-04-29T00:00:00.000000",
          "2020-04-30T00:00:00.000000",
          "2020-05-01T00:00:00.000000",
          "2020-05-02T00:00:00.000000",
          "2020-05-03T00:00:00.000000",
          "2020-05-04T00:00:00.000000",
          "2020-05-05T00:00:00.000000",
          "2020-05-06T00:00:00.000000",
          "2020-05-07T00:00:00.000000",
          "2020-05-08T00:00:00.000000",
          "2020-05-09T00:00:00.000000",
          "2020-05-10T00:00:00.000000",
          "2020-05-11T00:00:00.000000",
          "2020-05-12T00:00:00.000000",
          "2020-05-13T00:00:00.000000",
          "2020-05-14T00:00:00.000000",
          "2020-05-15T00:00:00.000000",
          "2020-05-16T00:00:00.000000",
          "2020-05-17T00:00:00.000000",
          "2020-05-18T00:00:00.000000",
          "2020-05-19T00:00:00.000000",
          "2020-05-20T00:00:00.000000",
          "2020-05-21T00:00:00.000000",
          "2020-05-22T00:00:00.000000",
          "2020-05-23T00:00:00.000000",
          "2020-05-24T00:00:00.000000",
          "2020-05-25T00:00:00.000000",
          "2020-05-26T00:00:00.000000",
          "2020-05-27T00:00:00.000000",
          "2020-05-28T00:00:00.000000",
          "2020-05-29T00:00:00.000000",
          "2020-05-30T00:00:00.000000",
          "2020-05-31T00:00:00.000000",
          "2020-06-01T00:00:00.000000",
          "2020-06-02T00:00:00.000000",
          "2020-06-03T00:00:00.000000",
          "2020-06-04T00:00:00.000000",
          "2020-06-05T00:00:00.000000",
          "2020-06-06T00:00:00.000000",
          "2020-06-07T00:00:00.000000",
          "2020-06-08T00:00:00.000000",
          "2020-06-09T00:00:00.000000",
          "2020-06-10T00:00:00.000000",
          "2020-06-11T00:00:00.000000",
          "2020-06-12T00:00:00.000000",
          "2020-06-13T00:00:00.000000",
          "2020-06-14T00:00:00.000000",
          "2020-06-15T00:00:00.000000",
          "2020-06-16T00:00:00.000000",
          "2020-06-17T00:00:00.000000",
          "2020-06-18T00:00:00.000000",
          "2020-06-19T00:00:00.000000",
          "2020-06-20T00:00:00.000000",
          "2020-06-21T00:00:00.000000",
          "2020-06-22T00:00:00.000000",
          "2020-06-23T00:00:00.000000",
          "2020-06-24T00:00:00.000000",
          "2020-06-25T00:00:00.000000",
          "2020-06-26T00:00:00.000000",
          "2020-06-27T00:00:00.000000",
          "2020-06-28T00:00:00.000000",
          "2020-06-29T00:00:00.000000",
          "2020-06-30T00:00:00.000000",
          "2020-07-01T00:00:00.000000",
          "2020-07-02T00:00:00.000000",
          "2020-07-03T00:00:00.000000",
          "2020-07-04T00:00:00.000000",
          "2020-07-05T00:00:00.000000",
          "2020-07-06T00:00:00.000000",
          "2020-07-07T00:00:00.000000",
          "2020-07-08T00:00:00.000000",
          "2020-07-09T00:00:00.000000",
          "2020-07-10T00:00:00.000000",
          "2020-07-11T00:00:00.000000",
          "2020-07-12T00:00:00.000000",
          "2020-07-13T00:00:00.000000",
          "2020-07-14T00:00:00.000000",
          "2020-07-15T00:00:00.000000",
          "2020-07-16T00:00:00.000000",
          "2020-07-17T00:00:00.000000",
          "2020-07-18T00:00:00.000000",
          "2020-07-19T00:00:00.000000",
          "2020-07-20T00:00:00.000000",
          "2020-07-21T00:00:00.000000",
          "2020-07-22T00:00:00.000000",
          "2020-07-23T00:00:00.000000",
          "2020-07-24T00:00:00.000000",
          "2020-07-25T00:00:00.000000",
          "2020-07-26T00:00:00.000000",
          "2020-07-27T00:00:00.000000",
          "2020-07-28T00:00:00.000000",
          "2020-07-29T00:00:00.000000",
          "2020-07-30T00:00:00.000000",
          "2020-07-31T00:00:00.000000",
          "2020-08-01T00:00:00.000000",
          "2020-08-02T00:00:00.000000",
          "2020-08-03T00:00:00.000000",
          "2020-08-04T00:00:00.000000",
          "2020-08-05T00:00:00.000000",
          "2020-08-06T00:00:00.000000",
          "2020-08-07T00:00:00.000000",
          "2020-08-08T00:00:00.000000",
          "2020-08-09T00:00:00.000000",
          "2020-08-10T00:00:00.000000",
          "2020-08-11T00:00:00.000000",
          "2020-08-12T00:00:00.000000",
          "2020-08-13T00:00:00.000000",
          "2020-08-14T00:00:00.000000",
          "2020-08-15T00:00:00.000000",
          "2020-08-16T00:00:00.000000",
          "2020-08-17T00:00:00.000000",
          "2020-08-18T00:00:00.000000",
          "2020-08-19T00:00:00.000000",
          "2020-08-20T00:00:00.000000",
          "2020-08-21T00:00:00.000000",
          "2020-08-22T00:00:00.000000",
          "2020-08-23T00:00:00.000000",
          "2020-08-24T00:00:00.000000",
          "2020-08-25T00:00:00.000000",
          "2020-08-26T00:00:00.000000",
          "2020-08-27T00:00:00.000000",
          "2020-08-28T00:00:00.000000",
          "2020-08-29T00:00:00.000000",
          "2020-08-30T00:00:00.000000",
          "2020-08-31T00:00:00.000000",
          "2020-09-01T00:00:00.000000",
          "2020-09-02T00:00:00.000000",
          "2020-09-03T00:00:00.000000",
          "2020-09-04T00:00:00.000000",
          "2020-09-05T00:00:00.000000",
          "2020-09-06T00:00:00.000000",
          "2020-09-07T00:00:00.000000",
          "2020-09-08T00:00:00.000000",
          "2020-09-09T00:00:00.000000",
          "2020-09-10T00:00:00.000000",
          "2020-09-11T00:00:00.000000",
          "2020-09-12T00:00:00.000000",
          "2020-09-13T00:00:00.000000",
          "2020-09-14T00:00:00.000000",
          "2020-09-15T00:00:00.000000",
          "2020-09-16T00:00:00.000000",
          "2020-09-17T00:00:00.000000",
          "2020-09-18T00:00:00.000000",
          "2020-09-19T00:00:00.000000",
          "2020-09-20T00:00:00.000000",
          "2020-09-21T00:00:00.000000",
          "2020-09-22T00:00:00.000000",
          "2020-09-23T00:00:00.000000",
          "2020-09-24T00:00:00.000000",
          "2020-09-25T00:00:00.000000",
          "2020-09-26T00:00:00.000000"
         ],
         "xaxis": "x",
         "y": {
          "dtype": "float64",
          "shape": [
           1000
          ]
         },
         "yaxis": "y"
        }
       ],
       "_js2py_layoutDelta": {},
       "_js2py_pointsCallback": {},
       "_js2py_relayout": {},
       "_js2py_restyle": {},
       "_js2py_traceDeltas": {},
       "_js2py_update": {},
       "_last_layout_edit_id": 5,
       "_last_trace_edit_id": 5,
       "_layout": {
        "autosize": false,
        "colorway": [
         "#1f77b4",
         "#ff7f0e",
         "#2ca02c",
         "#d62728",
         "#9467bd",
         "#8c564b",
         "#e377c2",
         "#7f7f7f",
         "#bcbd22",
         "#17becf"
        ],
        "height": 300,
        "hovermode": "closest",
        "margin": {
         "b": 30,
         "t": 30
        },
        "showlegend": true,
        "template": {
         "data": {
          "bar": [
           {
            "error_x": {
             "color": "#2a3f5f"
            },
            "error_y": {
             "color": "#2a3f5f"
            },
            "marker": {
             "line": {
              "color": "#E5ECF6",
              "width": 0.5
             }
            },
            "type": "bar"
           }
          ],
          "barpolar": [
           {
            "marker": {
             "line": {
              "color": "#E5ECF6",
              "width": 0.5
             }
            },
            "type": "barpolar"
           }
          ],
          "carpet": [
           {
            "aaxis": {
             "endlinecolor": "#2a3f5f",
             "gridcolor": "white",
             "linecolor": "white",
             "minorgridcolor": "white",
             "startlinecolor": "#2a3f5f"
            },
            "baxis": {
             "endlinecolor": "#2a3f5f",
             "gridcolor": "white",
             "linecolor": "white",
             "minorgridcolor": "white",
             "startlinecolor": "#2a3f5f"
            },
            "type": "carpet"
           }
          ],
          "choropleth": [
           {
            "colorbar": {
             "outlinewidth": 0,
             "ticks": ""
            },
            "type": "choropleth"
           }
          ],
          "contour": [
           {
            "colorbar": {
             "outlinewidth": 0,
             "ticks": ""
            },
            "colorscale": [
             [
              0,
              "#0d0887"
             ],
             [
              0.1111111111111111,
              "#46039f"
             ],
             [
              0.2222222222222222,
              "#7201a8"
             ],
             [
              0.3333333333333333,
              "#9c179e"
             ],
             [
              0.4444444444444444,
              "#bd3786"
             ],
             [
              0.5555555555555556,
              "#d8576b"
             ],
             [
              0.6666666666666666,
              "#ed7953"
             ],
             [
              0.7777777777777778,
              "#fb9f3a"
             ],
             [
              0.8888888888888888,
              "#fdca26"
             ],
             [
              1,
              "#f0f921"
             ]
            ],
            "type": "contour"
           }
          ],
          "contourcarpet": [
           {
            "colorbar": {
             "outlinewidth": 0,
             "ticks": ""
            },
            "type": "contourcarpet"
           }
          ],
          "heatmap": [
           {
            "colorbar": {
             "outlinewidth": 0,
             "ticks": ""
            },
            "colorscale": [
             [
              0,
              "#0d0887"
             ],
             [
              0.1111111111111111,
              "#46039f"
             ],
             [
              0.2222222222222222,
              "#7201a8"
             ],
             [
              0.3333333333333333,
              "#9c179e"
             ],
             [
              0.4444444444444444,
              "#bd3786"
             ],
             [
              0.5555555555555556,
              "#d8576b"
             ],
             [
              0.6666666666666666,
              "#ed7953"
             ],
             [
              0.7777777777777778,
              "#fb9f3a"
             ],
             [
              0.8888888888888888,
              "#fdca26"
             ],
             [
              1,
              "#f0f921"
             ]
            ],
            "type": "heatmap"
           }
          ],
          "heatmapgl": [
           {
            "colorbar": {
             "outlinewidth": 0,
             "ticks": ""
            },
            "colorscale": [
             [
              0,
              "#0d0887"
             ],
             [
              0.1111111111111111,
              "#46039f"
             ],
             [
              0.2222222222222222,
              "#7201a8"
             ],
             [
              0.3333333333333333,
              "#9c179e"
             ],
             [
              0.4444444444444444,
              "#bd3786"
             ],
             [
              0.5555555555555556,
              "#d8576b"
             ],
             [
              0.6666666666666666,
              "#ed7953"
             ],
             [
              0.7777777777777778,
              "#fb9f3a"
             ],
             [
              0.8888888888888888,
              "#fdca26"
             ],
             [
              1,
              "#f0f921"
             ]
            ],
            "type": "heatmapgl"
           }
          ],
          "histogram": [
           {
            "marker": {
             "colorbar": {
              "outlinewidth": 0,
              "ticks": ""
             }
            },
            "type": "histogram"
           }
          ],
          "histogram2d": [
           {
            "colorbar": {
             "outlinewidth": 0,
             "ticks": ""
            },
            "colorscale": [
             [
              0,
              "#0d0887"
             ],
             [
              0.1111111111111111,
              "#46039f"
             ],
             [
              0.2222222222222222,
              "#7201a8"
             ],
             [
              0.3333333333333333,
              "#9c179e"
             ],
             [
              0.4444444444444444,
              "#bd3786"
             ],
             [
              0.5555555555555556,
              "#d8576b"
             ],
             [
              0.6666666666666666,
              "#ed7953"
             ],
             [
              0.7777777777777778,
              "#fb9f3a"
             ],
             [
              0.8888888888888888,
              "#fdca26"
             ],
             [
              1,
              "#f0f921"
             ]
            ],
            "type": "histogram2d"
           }
          ],
          "histogram2dcontour": [
           {
            "colorbar": {
             "outlinewidth": 0,
             "ticks": ""
            },
            "colorscale": [
             [
              0,
              "#0d0887"
             ],
             [
              0.1111111111111111,
              "#46039f"
             ],
             [
              0.2222222222222222,
              "#7201a8"
             ],
             [
              0.3333333333333333,
              "#9c179e"
             ],
             [
              0.4444444444444444,
              "#bd3786"
             ],
             [
              0.5555555555555556,
              "#d8576b"
             ],
             [
              0.6666666666666666,
              "#ed7953"
             ],
             [
              0.7777777777777778,
              "#fb9f3a"
             ],
             [
              0.8888888888888888,
              "#fdca26"
             ],
             [
              1,
              "#f0f921"
             ]
            ],
            "type": "histogram2dcontour"
           }
          ],
          "mesh3d": [
           {
            "colorbar": {
             "outlinewidth": 0,
             "ticks": ""
            },
            "type": "mesh3d"
           }
          ],
          "parcoords": [
           {
            "line": {
             "colorbar": {
              "outlinewidth": 0,
              "ticks": ""
             }
            },
            "type": "parcoords"
           }
          ],
          "pie": [
           {
            "automargin": true,
            "type": "pie"
           }
          ],
          "scatter": [
           {
            "marker": {
             "colorbar": {
              "outlinewidth": 0,
              "ticks": ""
             }
            },
            "type": "scatter"
           }
          ],
          "scatter3d": [
           {
            "line": {
             "colorbar": {
              "outlinewidth": 0,
              "ticks": ""
             }
            },
            "marker": {
             "colorbar": {
              "outlinewidth": 0,
              "ticks": ""
             }
            },
            "type": "scatter3d"
           }
          ],
          "scattercarpet": [
           {
            "marker": {
             "colorbar": {
              "outlinewidth": 0,
              "ticks": ""
             }
            },
            "type": "scattercarpet"
           }
          ],
          "scattergeo": [
           {
            "marker": {
             "colorbar": {
              "outlinewidth": 0,
              "ticks": ""
             }
            },
            "type": "scattergeo"
           }
          ],
          "scattergl": [
           {
            "marker": {
             "colorbar": {
              "outlinewidth": 0,
              "ticks": ""
             }
            },
            "type": "scattergl"
           }
          ],
          "scattermapbox": [
           {
            "marker": {
             "colorbar": {
              "outlinewidth": 0,
              "ticks": ""
             }
            },
            "type": "scattermapbox"
           }
          ],
          "scatterpolar": [
           {
            "marker": {
             "colorbar": {
              "outlinewidth": 0,
              "ticks": ""
             }
            },
            "type": "scatterpolar"
           }
          ],
          "scatterpolargl": [
           {
            "marker": {
             "colorbar": {
              "outlinewidth": 0,
              "ticks": ""
             }
            },
            "type": "scatterpolargl"
           }
          ],
          "scatterternary": [
           {
            "marker": {
             "colorbar": {
              "outlinewidth": 0,
              "ticks": ""
             }
            },
            "type": "scatterternary"
           }
          ],
          "surface": [
           {
            "colorbar": {
             "outlinewidth": 0,
             "ticks": ""
            },
            "colorscale": [
             [
              0,
              "#0d0887"
             ],
             [
              0.1111111111111111,
              "#46039f"
             ],
             [
              0.2222222222222222,
              "#7201a8"
             ],
             [
              0.3333333333333333,
              "#9c179e"
             ],
             [
              0.4444444444444444,
              "#bd3786"
             ],
             [
              0.5555555555555556,
              "#d8576b"
             ],
             [
              0.6666666666666666,
              "#ed7953"
             ],
             [
              0.7777777777777778,
              "#fb9f3a"
             ],
             [
              0.8888888888888888,
              "#fdca26"
             ],
             [
              1,
              "#f0f921"
             ]
            ],
            "type": "surface"
           }
          ],
          "table": [
           {
            "cells": {
             "fill": {
              "color": "#EBF0F8"
             },
             "line": {
              "color": "white"
             }
            },
            "header": {
             "fill": {
              "color": "#C8D4E3"
             },
             "line": {
              "color": "white"
             }
            },
            "type": "table"
           }
          ]
         },
         "layout": {
          "annotationdefaults": {
           "arrowcolor": "#2a3f5f",
           "arrowhead": 0,
           "arrowwidth": 1
          },
          "coloraxis": {
           "colorbar": {
            "outlinewidth": 0,
            "ticks": ""
           }
          },
          "colorscale": {
           "diverging": [
            [
             0,
             "#8e0152"
            ],
            [
             0.1,
             "#c51b7d"
            ],
            [
             0.2,
             "#de77ae"
            ],
            [
             0.3,
             "#f1b6da"
            ],
            [
             0.4,
             "#fde0ef"
            ],
            [
             0.5,
             "#f7f7f7"
            ],
            [
             0.6,
             "#e6f5d0"
            ],
            [
             0.7,
             "#b8e186"
            ],
            [
             0.8,
             "#7fbc41"
            ],
            [
             0.9,
             "#4d9221"
            ],
            [
             1,
             "#276419"
            ]
           ],
           "sequential": [
            [
             0,
             "#0d0887"
            ],
            [
             0.1111111111111111,
             "#46039f"
            ],
            [
             0.2222222222222222,
             "#7201a8"
            ],
            [
             0.3333333333333333,
             "#9c179e"
            ],
            [
             0.4444444444444444,
             "#bd3786"
            ],
            [
             0.5555555555555556,
             "#d8576b"
            ],
            [
             0.6666666666666666,
             "#ed7953"
            ],
            [
             0.7777777777777778,
             "#fb9f3a"
            ],
            [
             0.8888888888888888,
             "#fdca26"
            ],
            [
             1,
             "#f0f921"
            ]
           ],
           "sequentialminus": [
            [
             0,
             "#0d0887"
            ],
            [
             0.1111111111111111,
             "#46039f"
            ],
            [
             0.2222222222222222,
             "#7201a8"
            ],
            [
             0.3333333333333333,
             "#9c179e"
            ],
            [
             0.4444444444444444,
             "#bd3786"
            ],
            [
             0.5555555555555556,
             "#d8576b"
            ],
            [
             0.6666666666666666,
             "#ed7953"
            ],
            [
             0.7777777777777778,
             "#fb9f3a"
            ],
            [
             0.8888888888888888,
             "#fdca26"
            ],
            [
             1,
             "#f0f921"
            ]
           ]
          },
          "colorway": [
           "#636efa",
           "#EF553B",
           "#00cc96",
           "#ab63fa",
           "#FFA15A",
           "#19d3f3",
           "#FF6692",
           "#B6E880",
           "#FF97FF",
           "#FECB52"
          ],
          "font": {
           "color": "#2a3f5f"
          },
          "geo": {
           "bgcolor": "white",
           "lakecolor": "white",
           "landcolor": "#E5ECF6",
           "showlakes": true,
           "showland": true,
           "subunitcolor": "white"
          },
          "hoverlabel": {
           "align": "left"
          },
          "hovermode": "closest",
          "mapbox": {
           "style": "light"
          },
          "paper_bgcolor": "white",
          "plot_bgcolor": "#E5ECF6",
          "polar": {
           "angularaxis": {
            "gridcolor": "white",
            "linecolor": "white",
            "ticks": ""
           },
           "bgcolor": "#E5ECF6",
           "radialaxis": {
            "gridcolor": "white",
            "linecolor": "white",
            "ticks": ""
           }
          },
          "scene": {
           "xaxis": {
            "backgroundcolor": "#E5ECF6",
            "gridcolor": "white",
            "gridwidth": 2,
            "linecolor": "white",
            "showbackground": true,
            "ticks": "",
            "zerolinecolor": "white"
           },
           "yaxis": {
            "backgroundcolor": "#E5ECF6",
            "gridcolor": "white",
            "gridwidth": 2,
            "linecolor": "white",
            "showbackground": true,
            "ticks": "",
            "zerolinecolor": "white"
           },
           "zaxis": {
            "backgroundcolor": "#E5ECF6",
            "gridcolor": "white",
            "gridwidth": 2,
            "linecolor": "white",
            "showbackground": true,
            "ticks": "",
            "zerolinecolor": "white"
           }
          },
          "shapedefaults": {
           "line": {
            "color": "#2a3f5f"
           }
          },
          "ternary": {
           "aaxis": {
            "gridcolor": "white",
            "linecolor": "white",
            "ticks": ""
           },
           "baxis": {
            "gridcolor": "white",
            "linecolor": "white",
            "ticks": ""
           },
           "bgcolor": "#E5ECF6",
           "caxis": {
            "gridcolor": "white",
            "linecolor": "white",
            "ticks": ""
           }
          },
          "title": {
           "x": 0.05
          },
          "xaxis": {
           "automargin": true,
           "gridcolor": "white",
           "linecolor": "white",
           "ticks": "",
           "title": {
            "standoff": 15
           },
           "zerolinecolor": "white",
           "zerolinewidth": 2
          },
          "yaxis": {
           "automargin": true,
           "gridcolor": "white",
           "linecolor": "white",
           "ticks": "",
           "title": {
            "standoff": 15
           },
           "zerolinecolor": "white",
           "zerolinewidth": 2
          }
         }
        },
        "width": 700,
        "xaxis": {
         "rangeslider": {
          "visible": false
         },
         "showgrid": true
        },
        "yaxis": {
         "domain": [
          0,
          0.33
         ],
         "showgrid": true
        },
        "yaxis2": {
         "domain": [
          0.33,
          1
         ]
        }
       },
       "_model_module_version": "4.7.1",
       "_py2js_animate": {},
       "_py2js_deleteTraces": {},
       "_py2js_moveTraces": {},
       "_py2js_removeLayoutProps": {},
       "_py2js_removeTraceProps": {},
       "_py2js_restyle": {},
       "_view_count": 0,
       "_view_module_version": "4.7.1"
      }
     },
     "4a9b9c121e324b6b86d0c633d4e73477": {
      "buffers": [
       {
        "data": "AABAQAAAgEA=",
        "encoding": "base64",
        "path": [
         "_data",
         1,
         "y",
         "value"
        ]
       },
       {
        "data": "AACAPw==",
        "encoding": "base64",
        "path": [
         "_data",
         2,
         "y",
         "value"
        ]
       },
       {
        "data": "AAAAQA==",
        "encoding": "base64",
        "path": [
         "_data",
         3,
         "y",
         "value"
        ]
       }
      ],
      "model_module": "plotlywidget",
      "model_module_version": "4.7.1",
      "model_name": "FigureModel",
      "state": {
       "_config": {
        "plotlyServerURL": "https://plot.ly"
       },
       "_data": [
        {
         "line": {
          "color": "grey",
          "dash": "dot",
          "width": 2
         },
         "showlegend": false,
         "type": "scatter",
         "uid": "8e807c26-9444-457a-8842-244e58643821",
         "x": [
          "2018-01-01T00:00:00.000000",
          "2018-01-02T00:00:00.000000",
          "2018-01-03T00:00:00.000000",
          "2018-01-04T00:00:00.000000",
          "2018-01-05T00:00:00.000000"
         ],
         "y": [
          2,
          2,
          2,
          2,
          2
         ]
        },
        {
         "marker": {
          "color": "green",
          "size": 10,
          "symbol": "circle"
         },
         "mode": "markers",
         "name": "a (above)",
         "showlegend": true,
         "type": "scatter",
         "uid": "91c1a415-de9b-42b3-b939-39ff1b5c0100",
         "x": [
          "2018-01-03T00:00:00.000000",
          "2018-01-04T00:00:00.000000"
         ],
         "y": {
          "dtype": "float32",
          "shape": [
           2
          ]
         }
        },
        {
         "marker": {
          "color": "red",
          "size": 10,
          "symbol": "circle"
         },
         "mode": "markers",
         "name": "a (below)",
         "showlegend": true,
         "type": "scatter",
         "uid": "80d729a4-b2a2-4224-a394-26620dd8a0d2",
         "x": [
          "2018-01-01T00:00:00.000000"
         ],
         "y": {
          "dtype": "float32",
          "shape": [
           1
          ]
         }
        },
        {
         "marker": {
          "color": "grey",
          "size": 10,
          "symbol": "circle"
         },
         "mode": "markers",
         "name": "a (equal)",
         "showlegend": true,
         "type": "scatter",
         "uid": "2ab8fda4-7001-44f6-b07c-4db3482adb78",
         "x": [
          "2018-01-02T00:00:00.000000"
         ],
         "y": {
          "dtype": "float32",
          "shape": [
           1
          ]
         }
        }
       ],
       "_js2py_layoutDelta": {},
       "_js2py_pointsCallback": {},
       "_js2py_relayout": {},
       "_js2py_restyle": {},
       "_js2py_traceDeltas": {},
       "_js2py_update": {},
       "_last_layout_edit_id": 6,
       "_last_trace_edit_id": 6,
       "_layout": {
        "autosize": false,
        "colorway": [
         "#1f77b4",
         "#ff7f0e",
         "#2ca02c",
         "#d62728",
         "#9467bd",
         "#8c564b",
         "#e377c2",
         "#7f7f7f",
         "#bcbd22",
         "#17becf"
        ],
        "height": 300,
        "hovermode": "closest",
        "margin": {
         "b": 30,
         "t": 30
        },
        "shapes": [
         {
          "line": {
           "color": "grey",
           "dash": "dot",
           "width": 2
          },
          "type": "line",
          "x0": 0,
          "x1": 1,
          "xref": "paper",
          "y0": 2,
          "y1": 2,
          "yref": "y"
         }
        ],
        "template": {
         "data": {
          "bar": [
           {
            "error_x": {
             "color": "#2a3f5f"
            },
            "error_y": {
             "color": "#2a3f5f"
            },
            "marker": {
             "line": {
              "color": "#E5ECF6",
              "width": 0.5
             }
            },
            "type": "bar"
           }
          ],
          "barpolar": [
           {
            "marker": {
             "line": {
              "color": "#E5ECF6",
              "width": 0.5
             }
            },
            "type": "barpolar"
           }
          ],
          "carpet": [
           {
            "aaxis": {
             "endlinecolor": "#2a3f5f",
             "gridcolor": "white",
             "linecolor": "white",
             "minorgridcolor": "white",
             "startlinecolor": "#2a3f5f"
            },
            "baxis": {
             "endlinecolor": "#2a3f5f",
             "gridcolor": "white",
             "linecolor": "white",
             "minorgridcolor": "white",
             "startlinecolor": "#2a3f5f"
            },
            "type": "carpet"
           }
          ],
          "choropleth": [
           {
            "colorbar": {
             "outlinewidth": 0,
             "ticks": ""
            },
            "type": "choropleth"
           }
          ],
          "contour": [
           {
            "colorbar": {
             "outlinewidth": 0,
             "ticks": ""
            },
            "colorscale": [
             [
              0,
              "#0d0887"
             ],
             [
              0.1111111111111111,
              "#46039f"
             ],
             [
              0.2222222222222222,
              "#7201a8"
             ],
             [
              0.3333333333333333,
              "#9c179e"
             ],
             [
              0.4444444444444444,
              "#bd3786"
             ],
             [
              0.5555555555555556,
              "#d8576b"
             ],
             [
              0.6666666666666666,
              "#ed7953"
             ],
             [
              0.7777777777777778,
              "#fb9f3a"
             ],
             [
              0.8888888888888888,
              "#fdca26"
             ],
             [
              1,
              "#f0f921"
             ]
            ],
            "type": "contour"
           }
          ],
          "contourcarpet": [
           {
            "colorbar": {
             "outlinewidth": 0,
             "ticks": ""
            },
            "type": "contourcarpet"
           }
          ],
          "heatmap": [
           {
            "colorbar": {
             "outlinewidth": 0,
             "ticks": ""
            },
            "colorscale": [
             [
              0,
              "#0d0887"
             ],
             [
              0.1111111111111111,
              "#46039f"
             ],
             [
              0.2222222222222222,
              "#7201a8"
             ],
             [
              0.3333333333333333,
              "#9c179e"
             ],
             [
              0.4444444444444444,
              "#bd3786"
             ],
             [
              0.5555555555555556,
              "#d8576b"
             ],
             [
              0.6666666666666666,
              "#ed7953"
             ],
             [
              0.7777777777777778,
              "#fb9f3a"
             ],
             [
              0.8888888888888888,
              "#fdca26"
             ],
             [
              1,
              "#f0f921"
             ]
            ],
            "type": "heatmap"
           }
          ],
          "heatmapgl": [
           {
            "colorbar": {
             "outlinewidth": 0,
             "ticks": ""
            },
            "colorscale": [
             [
              0,
              "#0d0887"
             ],
             [
              0.1111111111111111,
              "#46039f"
             ],
             [
              0.2222222222222222,
              "#7201a8"
             ],
             [
              0.3333333333333333,
              "#9c179e"
             ],
             [
              0.4444444444444444,
              "#bd3786"
             ],
             [
              0.5555555555555556,
              "#d8576b"
             ],
             [
              0.6666666666666666,
              "#ed7953"
             ],
             [
              0.7777777777777778,
              "#fb9f3a"
             ],
             [
              0.8888888888888888,
              "#fdca26"
             ],
             [
              1,
              "#f0f921"
             ]
            ],
            "type": "heatmapgl"
           }
          ],
          "histogram": [
           {
            "marker": {
             "colorbar": {
              "outlinewidth": 0,
              "ticks": ""
             }
            },
            "type": "histogram"
           }
          ],
          "histogram2d": [
           {
            "colorbar": {
             "outlinewidth": 0,
             "ticks": ""
            },
            "colorscale": [
             [
              0,
              "#0d0887"
             ],
             [
              0.1111111111111111,
              "#46039f"
             ],
             [
              0.2222222222222222,
              "#7201a8"
             ],
             [
              0.3333333333333333,
              "#9c179e"
             ],
             [
              0.4444444444444444,
              "#bd3786"
             ],
             [
              0.5555555555555556,
              "#d8576b"
             ],
             [
              0.6666666666666666,
              "#ed7953"
             ],
             [
              0.7777777777777778,
              "#fb9f3a"
             ],
             [
              0.8888888888888888,
              "#fdca26"
             ],
             [
              1,
              "#f0f921"
             ]
            ],
            "type": "histogram2d"
           }
          ],
          "histogram2dcontour": [
           {
            "colorbar": {
             "outlinewidth": 0,
             "ticks": ""
            },
            "colorscale": [
             [
              0,
              "#0d0887"
             ],
             [
              0.1111111111111111,
              "#46039f"
             ],
             [
              0.2222222222222222,
              "#7201a8"
             ],
             [
              0.3333333333333333,
              "#9c179e"
             ],
             [
              0.4444444444444444,
              "#bd3786"
             ],
             [
              0.5555555555555556,
              "#d8576b"
             ],
             [
              0.6666666666666666,
              "#ed7953"
             ],
             [
              0.7777777777777778,
              "#fb9f3a"
             ],
             [
              0.8888888888888888,
              "#fdca26"
             ],
             [
              1,
              "#f0f921"
             ]
            ],
            "type": "histogram2dcontour"
           }
          ],
          "mesh3d": [
           {
            "colorbar": {
             "outlinewidth": 0,
             "ticks": ""
            },
            "type": "mesh3d"
           }
          ],
          "parcoords": [
           {
            "line": {
             "colorbar": {
              "outlinewidth": 0,
              "ticks": ""
             }
            },
            "type": "parcoords"
           }
          ],
          "pie": [
           {
            "automargin": true,
            "type": "pie"
           }
          ],
          "scatter": [
           {
            "marker": {
             "colorbar": {
              "outlinewidth": 0,
              "ticks": ""
             }
            },
            "type": "scatter"
           }
          ],
          "scatter3d": [
           {
            "line": {
             "colorbar": {
              "outlinewidth": 0,
              "ticks": ""
             }
            },
            "marker": {
             "colorbar": {
              "outlinewidth": 0,
              "ticks": ""
             }
            },
            "type": "scatter3d"
           }
          ],
          "scattercarpet": [
           {
            "marker": {
             "colorbar": {
              "outlinewidth": 0,
              "ticks": ""
             }
            },
            "type": "scattercarpet"
           }
          ],
          "scattergeo": [
           {
            "marker": {
             "colorbar": {
              "outlinewidth": 0,
              "ticks": ""
             }
            },
            "type": "scattergeo"
           }
          ],
          "scattergl": [
           {
            "marker": {
             "colorbar": {
              "outlinewidth": 0,
              "ticks": ""
             }
            },
            "type": "scattergl"
           }
          ],
          "scattermapbox": [
           {
            "marker": {
             "colorbar": {
              "outlinewidth": 0,
              "ticks": ""
             }
            },
            "type": "scattermapbox"
           }
          ],
          "scatterpolar": [
           {
            "marker": {
             "colorbar": {
              "outlinewidth": 0,
              "ticks": ""
             }
            },
            "type": "scatterpolar"
           }
          ],
          "scatterpolargl": [
           {
            "marker": {
             "colorbar": {
              "outlinewidth": 0,
              "ticks": ""
             }
            },
            "type": "scatterpolargl"
           }
          ],
          "scatterternary": [
           {
            "marker": {
             "colorbar": {
              "outlinewidth": 0,
              "ticks": ""
             }
            },
            "type": "scatterternary"
           }
          ],
          "surface": [
           {
            "colorbar": {
             "outlinewidth": 0,
             "ticks": ""
            },
            "colorscale": [
             [
              0,
              "#0d0887"
             ],
             [
              0.1111111111111111,
              "#46039f"
             ],
             [
              0.2222222222222222,
              "#7201a8"
             ],
             [
              0.3333333333333333,
              "#9c179e"
             ],
             [
              0.4444444444444444,
              "#bd3786"
             ],
             [
              0.5555555555555556,
              "#d8576b"
             ],
             [
              0.6666666666666666,
              "#ed7953"
             ],
             [
              0.7777777777777778,
              "#fb9f3a"
             ],
             [
              0.8888888888888888,
              "#fdca26"
             ],
             [
              1,
              "#f0f921"
             ]
            ],
            "type": "surface"
           }
          ],
          "table": [
           {
            "cells": {
             "fill": {
              "color": "#EBF0F8"
             },
             "line": {
              "color": "white"
             }
            },
            "header": {
             "fill": {
              "color": "#C8D4E3"
             },
             "line": {
              "color": "white"
             }
            },
            "type": "table"
           }
          ]
         },
         "layout": {
          "annotationdefaults": {
           "arrowcolor": "#2a3f5f",
           "arrowhead": 0,
           "arrowwidth": 1
          },
          "coloraxis": {
           "colorbar": {
            "outlinewidth": 0,
            "ticks": ""
           }
          },
          "colorscale": {
           "diverging": [
            [
             0,
             "#8e0152"
            ],
            [
             0.1,
             "#c51b7d"
            ],
            [
             0.2,
             "#de77ae"
            ],
            [
             0.3,
             "#f1b6da"
            ],
            [
             0.4,
             "#fde0ef"
            ],
            [
             0.5,
             "#f7f7f7"
            ],
            [
             0.6,
             "#e6f5d0"
            ],
            [
             0.7,
             "#b8e186"
            ],
            [
             0.8,
             "#7fbc41"
            ],
            [
             0.9,
             "#4d9221"
            ],
            [
             1,
             "#276419"
            ]
           ],
           "sequential": [
            [
             0,
             "#0d0887"
            ],
            [
             0.1111111111111111,
             "#46039f"
            ],
            [
             0.2222222222222222,
             "#7201a8"
            ],
            [
             0.3333333333333333,
             "#9c179e"
            ],
            [
             0.4444444444444444,
             "#bd3786"
            ],
            [
             0.5555555555555556,
             "#d8576b"
            ],
            [
             0.6666666666666666,
             "#ed7953"
            ],
            [
             0.7777777777777778,
             "#fb9f3a"
            ],
            [
             0.8888888888888888,
             "#fdca26"
            ],
            [
             1,
             "#f0f921"
            ]
           ],
           "sequentialminus": [
            [
             0,
             "#0d0887"
            ],
            [
             0.1111111111111111,
             "#46039f"
            ],
            [
             0.2222222222222222,
             "#7201a8"
            ],
            [
             0.3333333333333333,
             "#9c179e"
            ],
            [
             0.4444444444444444,
             "#bd3786"
            ],
            [
             0.5555555555555556,
             "#d8576b"
            ],
            [
             0.6666666666666666,
             "#ed7953"
            ],
            [
             0.7777777777777778,
             "#fb9f3a"
            ],
            [
             0.8888888888888888,
             "#fdca26"
            ],
            [
             1,
             "#f0f921"
            ]
           ]
          },
          "colorway": [
           "#636efa",
           "#EF553B",
           "#00cc96",
           "#ab63fa",
           "#FFA15A",
           "#19d3f3",
           "#FF6692",
           "#B6E880",
           "#FF97FF",
           "#FECB52"
          ],
          "font": {
           "color": "#2a3f5f"
          },
          "geo": {
           "bgcolor": "white",
           "lakecolor": "white",
           "landcolor": "#E5ECF6",
           "showlakes": true,
           "showland": true,
           "subunitcolor": "white"
          },
          "hoverlabel": {
           "align": "left"
          },
          "hovermode": "closest",
          "mapbox": {
           "style": "light"
          },
          "paper_bgcolor": "white",
          "plot_bgcolor": "#E5ECF6",
          "polar": {
           "angularaxis": {
            "gridcolor": "white",
            "linecolor": "white",
            "ticks": ""
           },
           "bgcolor": "#E5ECF6",
           "radialaxis": {
            "gridcolor": "white",
            "linecolor": "white",
            "ticks": ""
           }
          },
          "scene": {
           "xaxis": {
            "backgroundcolor": "#E5ECF6",
            "gridcolor": "white",
            "gridwidth": 2,
            "linecolor": "white",
            "showbackground": true,
            "ticks": "",
            "zerolinecolor": "white"
           },
           "yaxis": {
            "backgroundcolor": "#E5ECF6",
            "gridcolor": "white",
            "gridwidth": 2,
            "linecolor": "white",
            "showbackground": true,
            "ticks": "",
            "zerolinecolor": "white"
           },
           "zaxis": {
            "backgroundcolor": "#E5ECF6",
            "gridcolor": "white",
            "gridwidth": 2,
            "linecolor": "white",
            "showbackground": true,
            "ticks": "",
            "zerolinecolor": "white"
           }
          },
          "shapedefaults": {
           "line": {
            "color": "#2a3f5f"
           }
          },
          "ternary": {
           "aaxis": {
            "gridcolor": "white",
            "linecolor": "white",
            "ticks": ""
           },
           "baxis": {
            "gridcolor": "white",
            "linecolor": "white",
            "ticks": ""
           },
           "bgcolor": "#E5ECF6",
           "caxis": {
            "gridcolor": "white",
            "linecolor": "white",
            "ticks": ""
           }
          },
          "title": {
           "x": 0.05
          },
          "xaxis": {
           "automargin": true,
           "gridcolor": "white",
           "linecolor": "white",
           "ticks": "",
           "title": {
            "standoff": 15
           },
           "zerolinecolor": "white",
           "zerolinewidth": 2
          },
          "yaxis": {
           "automargin": true,
           "gridcolor": "white",
           "linecolor": "white",
           "ticks": "",
           "title": {
            "standoff": 15
           },
           "zerolinecolor": "white",
           "zerolinewidth": 2
          }
         }
        },
        "width": 700,
        "yaxis": {
         "range": [
          -2.8,
          6.8
         ]
        }
       },
       "_model_module_version": "4.7.1",
       "_py2js_animate": {},
       "_py2js_deleteTraces": {},
       "_py2js_moveTraces": {},
       "_py2js_removeLayoutProps": {},
       "_py2js_removeTraceProps": {},
       "_py2js_restyle": {},
       "_view_count": 0,
       "_view_module_version": "4.7.1"
      }
     },
     "e02e616f6f564b9e974b2cf460f8f33a": {
      "buffers": [
       {
        "data": "AADAfwAAgEAAAEBAAAAAQAAAgD8=",
        "encoding": "base64",
        "path": [
         "_data",
         0,
         "y",
         "value"
        ]
       },
       {
        "data": "AACAQA==",
        "encoding": "base64",
        "path": [
         "_data",
         1,
         "y",
         "value"
        ]
       },
       {
        "data": "AAAAQA==",
        "encoding": "base64",
        "path": [
         "_data",
         2,
         "y",
         "value"
        ]
       },
       {
        "data": "AABAQA==",
        "encoding": "base64",
        "path": [
         "_data",
         3,
         "y",
         "value"
        ]
       }
      ],
      "model_module": "plotlywidget",
      "model_module_version": "4.7.1",
      "model_name": "FigureModel",
      "state": {
       "_config": {
        "plotlyServerURL": "https://plot.ly"
       },
       "_data": [
        {
         "line": {
          "color": "grey",
          "dash": "dot",
          "width": 2
         },
         "name": "b",
         "showlegend": true,
         "type": "scatter",
         "uid": "e71027f4-6d0f-4a3a-a02f-6c399bc51895",
         "x": [
          "2018-01-01T00:00:00.000000",
          "2018-01-02T00:00:00.000000",
          "2018-01-03T00:00:00.000000",
          "2018-01-04T00:00:00.000000",
          "2018-01-05T00:00:00.000000"
         ],
         "y": {
          "dtype": "float32",
          "shape": [
           5
          ]
         }
        },
        {
         "marker": {
          "color": "green",
          "size": 10,
          "symbol": "circle"
         },
         "mode": "markers",
         "name": "a (above)",
         "showlegend": true,
         "type": "scatter",
         "uid": "b5d9abb5-3706-4350-a9fe-3fedb844ee65",
         "x": [
          "2018-01-04T00:00:00.000000"
         ],
         "y": {
          "dtype": "float32",
          "shape": [
           1
          ]
         }
        },
        {
         "marker": {
          "color": "red",
          "size": 10,
          "symbol": "circle"
         },
         "mode": "markers",
         "name": "a (below)",
         "showlegend": true,
         "type": "scatter",
         "uid": "db1a10dd-b0c6-4de0-b1ac-8473ce02deef",
         "x": [
          "2018-01-02T00:00:00.000000"
         ],
         "y": {
          "dtype": "float32",
          "shape": [
           1
          ]
         }
        },
        {
         "marker": {
          "color": "grey",
          "size": 10,
          "symbol": "circle"
         },
         "mode": "markers",
         "name": "a (equal)",
         "showlegend": true,
         "type": "scatter",
         "uid": "3d30827c-f336-42ba-9114-eb020be1691b",
         "x": [
          "2018-01-03T00:00:00.000000"
         ],
         "y": {
          "dtype": "float32",
          "shape": [
           1
          ]
         }
        }
       ],
       "_js2py_layoutDelta": {},
       "_js2py_pointsCallback": {},
       "_js2py_relayout": {},
       "_js2py_restyle": {},
       "_js2py_traceDeltas": {},
       "_js2py_update": {},
       "_last_layout_edit_id": 5,
       "_last_trace_edit_id": 5,
       "_layout": {
        "autosize": false,
        "colorway": [
         "#1f77b4",
         "#ff7f0e",
         "#2ca02c",
         "#d62728",
         "#9467bd",
         "#8c564b",
         "#e377c2",
         "#7f7f7f",
         "#bcbd22",
         "#17becf"
        ],
        "height": 300,
        "hovermode": "closest",
        "margin": {
         "b": 30,
         "t": 30
        },
        "template": {
         "data": {
          "bar": [
           {
            "error_x": {
             "color": "#2a3f5f"
            },
            "error_y": {
             "color": "#2a3f5f"
            },
            "marker": {
             "line": {
              "color": "#E5ECF6",
              "width": 0.5
             }
            },
            "type": "bar"
           }
          ],
          "barpolar": [
           {
            "marker": {
             "line": {
              "color": "#E5ECF6",
              "width": 0.5
             }
            },
            "type": "barpolar"
           }
          ],
          "carpet": [
           {
            "aaxis": {
             "endlinecolor": "#2a3f5f",
             "gridcolor": "white",
             "linecolor": "white",
             "minorgridcolor": "white",
             "startlinecolor": "#2a3f5f"
            },
            "baxis": {
             "endlinecolor": "#2a3f5f",
             "gridcolor": "white",
             "linecolor": "white",
             "minorgridcolor": "white",
             "startlinecolor": "#2a3f5f"
            },
            "type": "carpet"
           }
          ],
          "choropleth": [
           {
            "colorbar": {
             "outlinewidth": 0,
             "ticks": ""
            },
            "type": "choropleth"
           }
          ],
          "contour": [
           {
            "colorbar": {
             "outlinewidth": 0,
             "ticks": ""
            },
            "colorscale": [
             [
              0,
              "#0d0887"
             ],
             [
              0.1111111111111111,
              "#46039f"
             ],
             [
              0.2222222222222222,
              "#7201a8"
             ],
             [
              0.3333333333333333,
              "#9c179e"
             ],
             [
              0.4444444444444444,
              "#bd3786"
             ],
             [
              0.5555555555555556,
              "#d8576b"
             ],
             [
              0.6666666666666666,
              "#ed7953"
             ],
             [
              0.7777777777777778,
              "#fb9f3a"
             ],
             [
              0.8888888888888888,
              "#fdca26"
             ],
             [
              1,
              "#f0f921"
             ]
            ],
            "type": "contour"
           }
          ],
          "contourcarpet": [
           {
            "colorbar": {
             "outlinewidth": 0,
             "ticks": ""
            },
            "type": "contourcarpet"
           }
          ],
          "heatmap": [
           {
            "colorbar": {
             "outlinewidth": 0,
             "ticks": ""
            },
            "colorscale": [
             [
              0,
              "#0d0887"
             ],
             [
              0.1111111111111111,
              "#46039f"
             ],
             [
              0.2222222222222222,
              "#7201a8"
             ],
             [
              0.3333333333333333,
              "#9c179e"
             ],
             [
              0.4444444444444444,
              "#bd3786"
             ],
             [
              0.5555555555555556,
              "#d8576b"
             ],
             [
              0.6666666666666666,
              "#ed7953"
             ],
             [
              0.7777777777777778,
              "#fb9f3a"
             ],
             [
              0.8888888888888888,
              "#fdca26"
             ],
             [
              1,
              "#f0f921"
             ]
            ],
            "type": "heatmap"
           }
          ],
          "heatmapgl": [
           {
            "colorbar": {
             "outlinewidth": 0,
             "ticks": ""
            },
            "colorscale": [
             [
              0,
              "#0d0887"
             ],
             [
              0.1111111111111111,
              "#46039f"
             ],
             [
              0.2222222222222222,
              "#7201a8"
             ],
             [
              0.3333333333333333,
              "#9c179e"
             ],
             [
              0.4444444444444444,
              "#bd3786"
             ],
             [
              0.5555555555555556,
              "#d8576b"
             ],
             [
              0.6666666666666666,
              "#ed7953"
             ],
             [
              0.7777777777777778,
              "#fb9f3a"
             ],
             [
              0.8888888888888888,
              "#fdca26"
             ],
             [
              1,
              "#f0f921"
             ]
            ],
            "type": "heatmapgl"
           }
          ],
          "histogram": [
           {
            "marker": {
             "colorbar": {
              "outlinewidth": 0,
              "ticks": ""
             }
            },
            "type": "histogram"
           }
          ],
          "histogram2d": [
           {
            "colorbar": {
             "outlinewidth": 0,
             "ticks": ""
            },
            "colorscale": [
             [
              0,
              "#0d0887"
             ],
             [
              0.1111111111111111,
              "#46039f"
             ],
             [
              0.2222222222222222,
              "#7201a8"
             ],
             [
              0.3333333333333333,
              "#9c179e"
             ],
             [
              0.4444444444444444,
              "#bd3786"
             ],
             [
              0.5555555555555556,
              "#d8576b"
             ],
             [
              0.6666666666666666,
              "#ed7953"
             ],
             [
              0.7777777777777778,
              "#fb9f3a"
             ],
             [
              0.8888888888888888,
              "#fdca26"
             ],
             [
              1,
              "#f0f921"
             ]
            ],
            "type": "histogram2d"
           }
          ],
          "histogram2dcontour": [
           {
            "colorbar": {
             "outlinewidth": 0,
             "ticks": ""
            },
            "colorscale": [
             [
              0,
              "#0d0887"
             ],
             [
              0.1111111111111111,
              "#46039f"
             ],
             [
              0.2222222222222222,
              "#7201a8"
             ],
             [
              0.3333333333333333,
              "#9c179e"
             ],
             [
              0.4444444444444444,
              "#bd3786"
             ],
             [
              0.5555555555555556,
              "#d8576b"
             ],
             [
              0.6666666666666666,
              "#ed7953"
             ],
             [
              0.7777777777777778,
              "#fb9f3a"
             ],
             [
              0.8888888888888888,
              "#fdca26"
             ],
             [
              1,
              "#f0f921"
             ]
            ],
            "type": "histogram2dcontour"
           }
          ],
          "mesh3d": [
           {
            "colorbar": {
             "outlinewidth": 0,
             "ticks": ""
            },
            "type": "mesh3d"
           }
          ],
          "parcoords": [
           {
            "line": {
             "colorbar": {
              "outlinewidth": 0,
              "ticks": ""
             }
            },
            "type": "parcoords"
           }
          ],
          "pie": [
           {
            "automargin": true,
            "type": "pie"
           }
          ],
          "scatter": [
           {
            "marker": {
             "colorbar": {
              "outlinewidth": 0,
              "ticks": ""
             }
            },
            "type": "scatter"
           }
          ],
          "scatter3d": [
           {
            "line": {
             "colorbar": {
              "outlinewidth": 0,
              "ticks": ""
             }
            },
            "marker": {
             "colorbar": {
              "outlinewidth": 0,
              "ticks": ""
             }
            },
            "type": "scatter3d"
           }
          ],
          "scattercarpet": [
           {
            "marker": {
             "colorbar": {
              "outlinewidth": 0,
              "ticks": ""
             }
            },
            "type": "scattercarpet"
           }
          ],
          "scattergeo": [
           {
            "marker": {
             "colorbar": {
              "outlinewidth": 0,
              "ticks": ""
             }
            },
            "type": "scattergeo"
           }
          ],
          "scattergl": [
           {
            "marker": {
             "colorbar": {
              "outlinewidth": 0,
              "ticks": ""
             }
            },
            "type": "scattergl"
           }
          ],
          "scattermapbox": [
           {
            "marker": {
             "colorbar": {
              "outlinewidth": 0,
              "ticks": ""
             }
            },
            "type": "scattermapbox"
           }
          ],
          "scatterpolar": [
           {
            "marker": {
             "colorbar": {
              "outlinewidth": 0,
              "ticks": ""
             }
            },
            "type": "scatterpolar"
           }
          ],
          "scatterpolargl": [
           {
            "marker": {
             "colorbar": {
              "outlinewidth": 0,
              "ticks": ""
             }
            },
            "type": "scatterpolargl"
           }
          ],
          "scatterternary": [
           {
            "marker": {
             "colorbar": {
              "outlinewidth": 0,
              "ticks": ""
             }
            },
            "type": "scatterternary"
           }
          ],
          "surface": [
           {
            "colorbar": {
             "outlinewidth": 0,
             "ticks": ""
            },
            "colorscale": [
             [
              0,
              "#0d0887"
             ],
             [
              0.1111111111111111,
              "#46039f"
             ],
             [
              0.2222222222222222,
              "#7201a8"
             ],
             [
              0.3333333333333333,
              "#9c179e"
             ],
             [
              0.4444444444444444,
              "#bd3786"
             ],
             [
              0.5555555555555556,
              "#d8576b"
             ],
             [
              0.6666666666666666,
              "#ed7953"
             ],
             [
              0.7777777777777778,
              "#fb9f3a"
             ],
             [
              0.8888888888888888,
              "#fdca26"
             ],
             [
              1,
              "#f0f921"
             ]
            ],
            "type": "surface"
           }
          ],
          "table": [
           {
            "cells": {
             "fill": {
              "color": "#EBF0F8"
             },
             "line": {
              "color": "white"
             }
            },
            "header": {
             "fill": {
              "color": "#C8D4E3"
             },
             "line": {
              "color": "white"
             }
            },
            "type": "table"
           }
          ]
         },
         "layout": {
          "annotationdefaults": {
           "arrowcolor": "#2a3f5f",
           "arrowhead": 0,
           "arrowwidth": 1
          },
          "coloraxis": {
           "colorbar": {
            "outlinewidth": 0,
            "ticks": ""
           }
          },
          "colorscale": {
           "diverging": [
            [
             0,
             "#8e0152"
            ],
            [
             0.1,
             "#c51b7d"
            ],
            [
             0.2,
             "#de77ae"
            ],
            [
             0.3,
             "#f1b6da"
            ],
            [
             0.4,
             "#fde0ef"
            ],
            [
             0.5,
             "#f7f7f7"
            ],
            [
             0.6,
             "#e6f5d0"
            ],
            [
             0.7,
             "#b8e186"
            ],
            [
             0.8,
             "#7fbc41"
            ],
            [
             0.9,
             "#4d9221"
            ],
            [
             1,
             "#276419"
            ]
           ],
           "sequential": [
            [
             0,
             "#0d0887"
            ],
            [
             0.1111111111111111,
             "#46039f"
            ],
            [
             0.2222222222222222,
             "#7201a8"
            ],
            [
             0.3333333333333333,
             "#9c179e"
            ],
            [
             0.4444444444444444,
             "#bd3786"
            ],
            [
             0.5555555555555556,
             "#d8576b"
            ],
            [
             0.6666666666666666,
             "#ed7953"
            ],
            [
             0.7777777777777778,
             "#fb9f3a"
            ],
            [
             0.8888888888888888,
             "#fdca26"
            ],
            [
             1,
             "#f0f921"
            ]
           ],
           "sequentialminus": [
            [
             0,
             "#0d0887"
            ],
            [
             0.1111111111111111,
             "#46039f"
            ],
            [
             0.2222222222222222,
             "#7201a8"
            ],
            [
             0.3333333333333333,
             "#9c179e"
            ],
            [
             0.4444444444444444,
             "#bd3786"
            ],
            [
             0.5555555555555556,
             "#d8576b"
            ],
            [
             0.6666666666666666,
             "#ed7953"
            ],
            [
             0.7777777777777778,
             "#fb9f3a"
            ],
            [
             0.8888888888888888,
             "#fdca26"
            ],
            [
             1,
             "#f0f921"
            ]
           ]
          },
          "colorway": [
           "#636efa",
           "#EF553B",
           "#00cc96",
           "#ab63fa",
           "#FFA15A",
           "#19d3f3",
           "#FF6692",
           "#B6E880",
           "#FF97FF",
           "#FECB52"
          ],
          "font": {
           "color": "#2a3f5f"
          },
          "geo": {
           "bgcolor": "white",
           "lakecolor": "white",
           "landcolor": "#E5ECF6",
           "showlakes": true,
           "showland": true,
           "subunitcolor": "white"
          },
          "hoverlabel": {
           "align": "left"
          },
          "hovermode": "closest",
          "mapbox": {
           "style": "light"
          },
          "paper_bgcolor": "white",
          "plot_bgcolor": "#E5ECF6",
          "polar": {
           "angularaxis": {
            "gridcolor": "white",
            "linecolor": "white",
            "ticks": ""
           },
           "bgcolor": "#E5ECF6",
           "radialaxis": {
            "gridcolor": "white",
            "linecolor": "white",
            "ticks": ""
           }
          },
          "scene": {
           "xaxis": {
            "backgroundcolor": "#E5ECF6",
            "gridcolor": "white",
            "gridwidth": 2,
            "linecolor": "white",
            "showbackground": true,
            "ticks": "",
            "zerolinecolor": "white"
           },
           "yaxis": {
            "backgroundcolor": "#E5ECF6",
            "gridcolor": "white",
            "gridwidth": 2,
            "linecolor": "white",
            "showbackground": true,
            "ticks": "",
            "zerolinecolor": "white"
           },
           "zaxis": {
            "backgroundcolor": "#E5ECF6",
            "gridcolor": "white",
            "gridwidth": 2,
            "linecolor": "white",
            "showbackground": true,
            "ticks": "",
            "zerolinecolor": "white"
           }
          },
          "shapedefaults": {
           "line": {
            "color": "#2a3f5f"
           }
          },
          "ternary": {
           "aaxis": {
            "gridcolor": "white",
            "linecolor": "white",
            "ticks": ""
           },
           "baxis": {
            "gridcolor": "white",
            "linecolor": "white",
            "ticks": ""
           },
           "bgcolor": "#E5ECF6",
           "caxis": {
            "gridcolor": "white",
            "linecolor": "white",
            "ticks": ""
           }
          },
          "title": {
           "x": 0.05
          },
          "xaxis": {
           "automargin": true,
           "gridcolor": "white",
           "linecolor": "white",
           "ticks": "",
           "title": {
            "standoff": 15
           },
           "zerolinecolor": "white",
           "zerolinewidth": 2
          },
          "yaxis": {
           "automargin": true,
           "gridcolor": "white",
           "linecolor": "white",
           "ticks": "",
           "title": {
            "standoff": 15
           },
           "zerolinecolor": "white",
           "zerolinewidth": 2
          }
         }
        },
        "width": 700
       },
       "_model_module_version": "4.7.1",
       "_py2js_animate": {},
       "_py2js_deleteTraces": {},
       "_py2js_moveTraces": {},
       "_py2js_removeLayoutProps": {},
       "_py2js_removeTraceProps": {},
       "_py2js_restyle": {},
       "_view_count": 0,
       "_view_module_version": "4.7.1"
      }
     }
    },
    "version_major": 2,
    "version_minor": 0
   }
  }
 },
 "nbformat": 4,
 "nbformat_minor": 4
}
