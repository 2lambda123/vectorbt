{
 "cells": [
  {
   "cell_type": "markdown",
   "metadata": {},
   "source": [
    "# timeseries.py"
   ]
  },
  {
   "cell_type": "code",
   "execution_count": 1,
   "metadata": {},
   "outputs": [],
   "source": [
    "import vectorbt as vbt\n",
    "from vectorbt.utils import *"
   ]
  },
  {
   "cell_type": "code",
   "execution_count": 2,
   "metadata": {
    "Collapsed": "false"
   },
   "outputs": [],
   "source": [
    "import numpy as np\n",
    "import pandas as pd\n",
    "from datetime import datetime, timedelta\n",
    "from numba import njit, f8, i8, b1, optional"
   ]
  },
  {
   "cell_type": "code",
   "execution_count": 3,
   "metadata": {},
   "outputs": [
    {
     "name": "stdout",
     "output_type": "stream",
     "text": [
      "              a    b    c\n",
      "2018-01-01  1.0  NaN  1.0\n",
      "2018-01-02  2.0  4.0  2.0\n",
      "2018-01-03  3.0  3.0  NaN\n",
      "2018-01-04  4.0  2.0  2.0\n",
      "2018-01-05  NaN  1.0  1.0\n"
     ]
    }
   ],
   "source": [
    "index = pd.Index([\n",
    "    datetime(2018, 1, 1),\n",
    "    datetime(2018, 1, 2),\n",
    "    datetime(2018, 1, 3),\n",
    "    datetime(2018, 1, 4),\n",
    "    datetime(2018, 1, 5)\n",
    "])\n",
    "columns = ['a', 'b', 'c']\n",
    "ts = pd.DataFrame({\n",
    "    'a': [1, 2, 3, 4, np.nan], \n",
    "    'b': [np.nan, 4, 3, 2, 1],\n",
    "    'c': [1, 2, np.nan, 2, 1]}, index=index).astype(np.float64)\n",
    "\n",
    "print(ts)"
   ]
  },
  {
   "cell_type": "code",
   "execution_count": 4,
   "metadata": {},
   "outputs": [
    {
     "data": {
      "text/plain": [
       "(1000, 1000)"
      ]
     },
     "execution_count": 4,
     "metadata": {},
     "output_type": "execute_result"
    }
   ],
   "source": [
    "big_ts = pd.DataFrame(np.random.randint(10, size=(1000, 1000)).astype(float))\n",
    "big_ts.index = [datetime(2018, 1, 1) + timedelta(days=i) for i in range(1000)]\n",
    "big_ts.shape"
   ]
  },
  {
   "cell_type": "code",
   "execution_count": 5,
   "metadata": {
    "Collapsed": "false"
   },
   "outputs": [
    {
     "name": "stdout",
     "output_type": "stream",
     "text": [
      "              a    b    c\n",
      "2018-01-01  1.0 -1.0  1.0\n",
      "2018-01-02  2.0  4.0  2.0\n",
      "2018-01-03  3.0  3.0 -1.0\n",
      "2018-01-04  4.0  2.0  2.0\n",
      "2018-01-05 -1.0  1.0  1.0\n",
      "6.79 ms ± 512 µs per loop (mean ± std. dev. of 7 runs, 100 loops each)\n",
      "              a    b    c\n",
      "2018-01-01  1.0 -1.0  1.0\n",
      "2018-01-02  2.0  4.0  2.0\n",
      "2018-01-03  3.0  3.0 -1.0\n",
      "2018-01-04  4.0  2.0  2.0\n",
      "2018-01-05 -1.0  1.0  1.0\n",
      "4.95 ms ± 529 µs per loop (mean ± std. dev. of 7 runs, 100 loops each)\n"
     ]
    }
   ],
   "source": [
    "print(ts.fillna(-1))\n",
    "%timeit big_ts.fillna(-1)\n",
    "\n",
    "print(ts.vbt.timeseries.fillna(-1))\n",
    "%timeit big_ts.vbt.timeseries.fillna(-1)"
   ]
  },
  {
   "cell_type": "code",
   "execution_count": 6,
   "metadata": {
    "Collapsed": "false"
   },
   "outputs": [
    {
     "name": "stdout",
     "output_type": "stream",
     "text": [
      "              a    b    c\n",
      "2018-01-01  NaN  NaN  NaN\n",
      "2018-01-02  NaN  NaN  NaN\n",
      "2018-01-03  NaN  NaN  NaN\n",
      "2018-01-04  1.0  NaN  1.0\n",
      "2018-01-05  2.0  4.0  2.0\n",
      "2.51 ms ± 82.1 µs per loop (mean ± std. dev. of 7 runs, 100 loops each)\n",
      "              a    b    c\n",
      "2018-01-01  NaN  NaN  NaN\n",
      "2018-01-02  NaN  NaN  NaN\n",
      "2018-01-03  NaN  NaN  NaN\n",
      "2018-01-04  1.0  NaN  1.0\n",
      "2018-01-05  2.0  4.0  2.0\n",
      "4.02 ms ± 333 µs per loop (mean ± std. dev. of 7 runs, 100 loops each)\n"
     ]
    }
   ],
   "source": [
    "print(ts.shift(3))\n",
    "%timeit big_ts.shift(3)\n",
    "\n",
    "print(ts.vbt.timeseries.fshift(3))\n",
    "%timeit big_ts.vbt.timeseries.fshift(3)"
   ]
  },
  {
   "cell_type": "code",
   "execution_count": 7,
   "metadata": {},
   "outputs": [
    {
     "name": "stdout",
     "output_type": "stream",
     "text": [
      "              a    b    c\n",
      "2018-01-01  NaN  NaN  NaN\n",
      "2018-01-02  1.0  NaN  1.0\n",
      "2018-01-03  1.0 -1.0  NaN\n",
      "2018-01-04  1.0 -1.0  NaN\n",
      "2018-01-05  NaN -1.0 -1.0\n",
      "4.95 ms ± 124 µs per loop (mean ± std. dev. of 7 runs, 100 loops each)\n",
      "              a    b    c\n",
      "2018-01-01  NaN  NaN  NaN\n",
      "2018-01-02  1.0  NaN  1.0\n",
      "2018-01-03  1.0 -1.0  NaN\n",
      "2018-01-04  1.0 -1.0  NaN\n",
      "2018-01-05  NaN -1.0 -1.0\n",
      "7.58 ms ± 753 µs per loop (mean ± std. dev. of 7 runs, 100 loops each)\n"
     ]
    }
   ],
   "source": [
    "print(ts.diff())\n",
    "%timeit big_ts.diff()\n",
    "\n",
    "print(ts.vbt.timeseries.diff())\n",
    "%timeit big_ts.vbt.timeseries.diff()"
   ]
  },
  {
   "cell_type": "code",
   "execution_count": 8,
   "metadata": {
    "Collapsed": "false"
   },
   "outputs": [
    {
     "name": "stdout",
     "output_type": "stream",
     "text": [
      "                   a         b    c\n",
      "2018-01-01       NaN       NaN  NaN\n",
      "2018-01-02  1.000000       NaN  1.0\n",
      "2018-01-03  0.500000 -0.250000  0.0\n",
      "2018-01-04  0.333333 -0.333333  0.0\n",
      "2018-01-05  0.000000 -0.500000 -0.5\n",
      "333 ms ± 11.8 ms per loop (mean ± std. dev. of 7 runs, 1 loop each)\n",
      "                   a         b    c\n",
      "2018-01-01       NaN       NaN  NaN\n",
      "2018-01-02  1.000000       NaN  1.0\n",
      "2018-01-03  0.500000 -0.250000  NaN\n",
      "2018-01-04  0.333333 -0.333333  NaN\n",
      "2018-01-05       NaN -0.500000 -0.5\n",
      "7.43 ms ± 91.6 µs per loop (mean ± std. dev. of 7 runs, 100 loops each)\n"
     ]
    }
   ],
   "source": [
    "print(ts.pct_change())\n",
    "%timeit big_ts.pct_change()\n",
    "\n",
    "print(ts.vbt.timeseries.pct_change())\n",
    "%timeit big_ts.vbt.timeseries.pct_change()"
   ]
  },
  {
   "cell_type": "code",
   "execution_count": 9,
   "metadata": {
    "Collapsed": "false"
   },
   "outputs": [
    {
     "name": "stdout",
     "output_type": "stream",
     "text": [
      "              a    b    c\n",
      "2018-01-01  1.0  NaN  1.0\n",
      "2018-01-02  2.0  4.0  2.0\n",
      "2018-01-03  3.0  3.0  2.0\n",
      "2018-01-04  4.0  2.0  2.0\n",
      "2018-01-05  4.0  1.0  1.0\n",
      "6.07 ms ± 332 µs per loop (mean ± std. dev. of 7 runs, 100 loops each)\n",
      "              a    b    c\n",
      "2018-01-01  1.0  NaN  1.0\n",
      "2018-01-02  2.0  4.0  2.0\n",
      "2018-01-03  3.0  3.0  2.0\n",
      "2018-01-04  4.0  2.0  2.0\n",
      "2018-01-05  4.0  1.0  1.0\n",
      "8.7 ms ± 84.6 µs per loop (mean ± std. dev. of 7 runs, 100 loops each)\n"
     ]
    }
   ],
   "source": [
    "print(ts.ffill())\n",
    "%timeit big_ts.ffill()\n",
    "\n",
    "print(ts.vbt.timeseries.ffill())\n",
    "%timeit big_ts.vbt.timeseries.ffill()"
   ]
  },
  {
   "cell_type": "code",
   "execution_count": 10,
   "metadata": {},
   "outputs": [
    {
     "name": "stdout",
     "output_type": "stream",
     "text": [
      "               a     b    c\n",
      "2018-01-01   1.0   NaN  1.0\n",
      "2018-01-02   3.0   4.0  3.0\n",
      "2018-01-03   6.0   7.0  NaN\n",
      "2018-01-04  10.0   9.0  5.0\n",
      "2018-01-05   NaN  10.0  6.0\n",
      "12.4 ms ± 143 µs per loop (mean ± std. dev. of 7 runs, 100 loops each)\n",
      "               a     b    c\n",
      "2018-01-01   1.0   NaN  1.0\n",
      "2018-01-02   3.0   4.0  3.0\n",
      "2018-01-03   6.0   7.0  NaN\n",
      "2018-01-04  10.0   9.0  5.0\n",
      "2018-01-05   NaN  10.0  6.0\n",
      "8.51 ms ± 40.6 µs per loop (mean ± std. dev. of 7 runs, 100 loops each)\n"
     ]
    }
   ],
   "source": [
    "print(ts.cumsum())\n",
    "%timeit big_ts.cumsum()\n",
    "\n",
    "print(ts.vbt.timeseries.cumsum())\n",
    "%timeit big_ts.vbt.timeseries.cumsum()"
   ]
  },
  {
   "cell_type": "code",
   "execution_count": 11,
   "metadata": {},
   "outputs": [
    {
     "name": "stdout",
     "output_type": "stream",
     "text": [
      "               a     b    c\n",
      "2018-01-01   1.0   NaN  1.0\n",
      "2018-01-02   2.0   4.0  2.0\n",
      "2018-01-03   6.0  12.0  NaN\n",
      "2018-01-04  24.0  24.0  4.0\n",
      "2018-01-05   NaN  24.0  4.0\n",
      "12.3 ms ± 270 µs per loop (mean ± std. dev. of 7 runs, 100 loops each)\n",
      "               a     b    c\n",
      "2018-01-01   1.0   NaN  1.0\n",
      "2018-01-02   2.0   4.0  2.0\n",
      "2018-01-03   6.0  12.0  NaN\n",
      "2018-01-04  24.0  24.0  4.0\n",
      "2018-01-05   NaN  24.0  4.0\n",
      "8.6 ms ± 168 µs per loop (mean ± std. dev. of 7 runs, 100 loops each)\n"
     ]
    }
   ],
   "source": [
    "print(ts.cumprod())\n",
    "%timeit big_ts.cumprod()\n",
    "\n",
    "print(ts.vbt.timeseries.cumprod())\n",
    "%timeit big_ts.vbt.timeseries.cumprod()"
   ]
  },
  {
   "cell_type": "code",
   "execution_count": 12,
   "metadata": {
    "Collapsed": "false"
   },
   "outputs": [
    {
     "name": "stdout",
     "output_type": "stream",
     "text": [
      "              a    b    c\n",
      "2018-01-01  NaN  NaN  NaN\n",
      "2018-01-02  1.5  NaN  1.5\n",
      "2018-01-03  2.5  3.5  NaN\n",
      "2018-01-04  3.5  2.5  NaN\n",
      "2018-01-05  NaN  1.5  1.5\n",
      "31.5 ms ± 679 µs per loop (mean ± std. dev. of 7 runs, 10 loops each)\n",
      "              a    b    c\n",
      "2018-01-01  NaN  NaN  NaN\n",
      "2018-01-02  1.5  NaN  1.5\n",
      "2018-01-03  2.5  3.5  NaN\n",
      "2018-01-04  3.5  2.5  NaN\n",
      "2018-01-05  NaN  1.5  1.5\n",
      "15.2 ms ± 349 µs per loop (mean ± std. dev. of 7 runs, 100 loops each)\n"
     ]
    }
   ],
   "source": [
    "print(ts.rolling(2).mean())\n",
    "%timeit big_ts.rolling(2).mean()\n",
    "\n",
    "print(ts.vbt.timeseries.rolling_mean(2))\n",
    "%timeit big_ts.vbt.timeseries.rolling_mean(2)"
   ]
  },
  {
   "cell_type": "code",
   "execution_count": 13,
   "metadata": {},
   "outputs": [
    {
     "name": "stdout",
     "output_type": "stream",
     "text": [
      "                   a         b         c\n",
      "2018-01-01       NaN       NaN       NaN\n",
      "2018-01-02  0.707107       NaN  0.707107\n",
      "2018-01-03  0.707107  0.707107       NaN\n",
      "2018-01-04  0.707107  0.707107       NaN\n",
      "2018-01-05       NaN  0.707107  0.707107\n",
      "61.3 ms ± 1.91 ms per loop (mean ± std. dev. of 7 runs, 10 loops each)\n",
      "                   a         b         c\n",
      "2018-01-01       NaN       NaN       NaN\n",
      "2018-01-02  0.707107       NaN  0.707107\n",
      "2018-01-03  0.707107  0.707107       NaN\n",
      "2018-01-04  0.707107  0.707107       NaN\n",
      "2018-01-05       NaN  0.707107  0.707107\n",
      "19.6 ms ± 741 µs per loop (mean ± std. dev. of 7 runs, 100 loops each)\n"
     ]
    }
   ],
   "source": [
    "print(ts.rolling(2).std())\n",
    "%timeit big_ts.rolling(2).std()\n",
    "\n",
    "print(ts.vbt.timeseries.rolling_std(2))\n",
    "%timeit big_ts.vbt.timeseries.rolling_std(2)"
   ]
  },
  {
   "cell_type": "code",
   "execution_count": 14,
   "metadata": {},
   "outputs": [
    {
     "name": "stdout",
     "output_type": "stream",
     "text": [
      "              a    b    c\n",
      "2018-01-01  NaN  NaN  NaN\n",
      "2018-01-02  1.0  NaN  1.0\n",
      "2018-01-03  2.0  3.0  NaN\n",
      "2018-01-04  3.0  2.0  NaN\n",
      "2018-01-05  NaN  1.0  1.0\n",
      "50.5 ms ± 1.42 ms per loop (mean ± std. dev. of 7 runs, 10 loops each)\n",
      "              a    b    c\n",
      "2018-01-01  NaN  NaN  NaN\n",
      "2018-01-02  1.0  NaN  1.0\n",
      "2018-01-03  2.0  3.0  NaN\n",
      "2018-01-04  3.0  2.0  NaN\n",
      "2018-01-05  NaN  1.0  1.0\n",
      "19 ms ± 953 µs per loop (mean ± std. dev. of 7 runs, 100 loops each)\n"
     ]
    }
   ],
   "source": [
    "print(ts.rolling(2).min())\n",
    "%timeit big_ts.rolling(2).min()\n",
    "\n",
    "print(ts.vbt.timeseries.rolling_min(2))\n",
    "%timeit big_ts.vbt.timeseries.rolling_min(2)"
   ]
  },
  {
   "cell_type": "code",
   "execution_count": 15,
   "metadata": {},
   "outputs": [
    {
     "name": "stdout",
     "output_type": "stream",
     "text": [
      "              a    b    c\n",
      "2018-01-01  NaN  NaN  NaN\n",
      "2018-01-02  2.0  NaN  2.0\n",
      "2018-01-03  3.0  4.0  NaN\n",
      "2018-01-04  4.0  3.0  NaN\n",
      "2018-01-05  NaN  2.0  2.0\n",
      "44.3 ms ± 1.35 ms per loop (mean ± std. dev. of 7 runs, 10 loops each)\n",
      "              a    b    c\n",
      "2018-01-01  NaN  NaN  NaN\n",
      "2018-01-02  2.0  NaN  2.0\n",
      "2018-01-03  3.0  4.0  NaN\n",
      "2018-01-04  4.0  3.0  NaN\n",
      "2018-01-05  NaN  2.0  2.0\n",
      "17.3 ms ± 199 µs per loop (mean ± std. dev. of 7 runs, 100 loops each)\n"
     ]
    }
   ],
   "source": [
    "print(ts.rolling(2).max())\n",
    "%timeit big_ts.rolling(2).max()\n",
    "\n",
    "print(ts.vbt.timeseries.rolling_max(2))\n",
    "%timeit big_ts.vbt.timeseries.rolling_max(2)"
   ]
  },
  {
   "cell_type": "code",
   "execution_count": 16,
   "metadata": {},
   "outputs": [
    {
     "name": "stdout",
     "output_type": "stream",
     "text": [
      "              a    b    c\n",
      "2018-01-01  1.0  NaN  1.0\n",
      "2018-01-02  2.0  4.0  2.0\n",
      "2018-01-03  3.0  4.0  2.0\n",
      "2018-01-04  4.0  4.0  2.0\n",
      "2018-01-05  4.0  4.0  2.0\n",
      "53.5 ms ± 2.73 ms per loop (mean ± std. dev. of 7 runs, 10 loops each)\n",
      "              a    b    c\n",
      "2018-01-01  1.0  NaN  1.0\n",
      "2018-01-02  2.0  4.0  2.0\n",
      "2018-01-03  3.0  4.0  2.0\n",
      "2018-01-04  4.0  4.0  2.0\n",
      "2018-01-05  4.0  4.0  2.0\n",
      "10.9 ms ± 355 µs per loop (mean ± std. dev. of 7 runs, 100 loops each)\n"
     ]
    }
   ],
   "source": [
    "print(ts.expanding().max())\n",
    "%timeit big_ts.expanding().max()\n",
    "\n",
    "print(ts.vbt.timeseries.expanding_max())\n",
    "%timeit big_ts.vbt.timeseries.expanding_max()"
   ]
  },
  {
   "cell_type": "code",
   "execution_count": 17,
   "metadata": {
    "Collapsed": "false"
   },
   "outputs": [
    {
     "name": "stdout",
     "output_type": "stream",
     "text": [
      "                   a         b         c\n",
      "2018-01-01  1.000000       NaN  1.000000\n",
      "2018-01-02  1.750000  4.000000  1.750000\n",
      "2018-01-03  2.615385  3.250000  1.750000\n",
      "2018-01-04  3.550000  2.384615  1.967742\n",
      "2018-01-05  3.550000  1.450000  1.267857\n",
      "102 ms ± 5.1 ms per loop (mean ± std. dev. of 7 runs, 10 loops each)\n",
      "                   a         b         c\n",
      "2018-01-01       NaN       NaN       NaN\n",
      "2018-01-02  1.750000  4.000000  1.750000\n",
      "2018-01-03  2.615385  3.250000  1.750000\n",
      "2018-01-04  3.550000  2.384615  1.967742\n",
      "2018-01-05  3.550000  1.450000  1.267857\n",
      "14.7 ms ± 1.9 ms per loop (mean ± std. dev. of 7 runs, 100 loops each)\n"
     ]
    }
   ],
   "source": [
    "print(ts.ewm(span=2).mean())\n",
    "%timeit big_ts.ewm(span=2).mean()\n",
    "\n",
    "print(ts.vbt.timeseries.ewm_mean(2))\n",
    "%timeit big_ts.vbt.timeseries.ewm_mean(2)"
   ]
  },
  {
   "cell_type": "code",
   "execution_count": 18,
   "metadata": {},
   "outputs": [
    {
     "name": "stdout",
     "output_type": "stream",
     "text": [
      "                   a         b         c\n",
      "2018-01-01       NaN       NaN       NaN\n",
      "2018-01-02  0.707107       NaN  0.707107\n",
      "2018-01-03  0.919866  0.707107  0.707107\n",
      "2018-01-04  1.059753  0.919866  0.367607\n",
      "2018-01-05  1.059753  1.059753  0.684914\n",
      "524 ms ± 10.8 ms per loop (mean ± std. dev. of 7 runs, 1 loop each)\n",
      "                   a         b         c\n",
      "2018-01-01       NaN       NaN       NaN\n",
      "2018-01-02  0.707107       NaN  0.707107\n",
      "2018-01-03  0.919866  0.707107  0.707107\n",
      "2018-01-04  1.059753  0.919866  0.367607\n",
      "2018-01-05  1.059753  1.059753  0.684914\n",
      "23.2 ms ± 331 µs per loop (mean ± std. dev. of 7 runs, 10 loops each)\n"
     ]
    }
   ],
   "source": [
    "print(ts.ewm(span=2).std())\n",
    "%timeit big_ts.ewm(span=2).std()\n",
    "\n",
    "print(ts.vbt.timeseries.ewm_std(2))\n",
    "%timeit big_ts.vbt.timeseries.ewm_std(2)"
   ]
  },
  {
   "cell_type": "code",
   "execution_count": 19,
   "metadata": {},
   "outputs": [
    {
     "name": "stdout",
     "output_type": "stream",
     "text": [
      "              a    b   c\n",
      "2018-01-01  NaN  NaN NaN\n",
      "2018-01-02  NaN  NaN NaN\n",
      "2018-01-03  2.0  NaN NaN\n",
      "2018-01-04  3.0  3.0 NaN\n",
      "2018-01-05  NaN  2.0 NaN\n",
      "431 ms ± 27.6 ms per loop (mean ± std. dev. of 7 runs, 1 loop each)\n",
      "              a    b    c\n",
      "2018-01-01  NaN  NaN  NaN\n",
      "2018-01-02  NaN  NaN  NaN\n",
      "2018-01-03  2.0  3.5  1.5\n",
      "2018-01-04  3.0  3.0  2.0\n",
      "2018-01-05  3.5  2.0  1.5\n",
      "49.6 ms ± 803 µs per loop (mean ± std. dev. of 7 runs, 1 loop each)\n",
      "                   a         b         c\n",
      "2018-01-01       NaN       NaN       NaN\n",
      "2018-01-02       NaN       NaN       NaN\n",
      "2018-01-03  2.285714  2.285714  2.285714\n",
      "2018-01-04  2.750000  2.750000  2.750000\n",
      "2018-01-05  2.285714  2.285714  2.285714\n",
      "7.73 ms ± 119 µs per loop (mean ± std. dev. of 7 runs, 100 loops each)\n"
     ]
    }
   ],
   "source": [
    "nanmean_nb = njit(lambda x: np.nanmean(x))\n",
    "\n",
    "print(ts.rolling(3).apply(nanmean_nb, raw=True)) # not correct\n",
    "%timeit big_ts.rolling(3).apply(nanmean_nb, raw=True)\n",
    "\n",
    "print(ts.vbt.timeseries.rolling_apply(3, nanmean_nb)) # correct\n",
    "%timeit big_ts.vbt.timeseries.rolling_apply(3, nanmean_nb)\n",
    "\n",
    "print(ts.vbt.timeseries.rolling_apply(3, nanmean_nb, on_2d=True))\n",
    "%timeit big_ts.vbt.timeseries.rolling_apply(3, nanmean_nb, on_2d=True)"
   ]
  },
  {
   "cell_type": "code",
   "execution_count": 20,
   "metadata": {},
   "outputs": [
    {
     "name": "stdout",
     "output_type": "stream",
     "text": [
      "              a    b         c\n",
      "2018-01-01  1.0  NaN  1.000000\n",
      "2018-01-02  1.5  4.0  1.500000\n",
      "2018-01-03  2.0  3.5  1.500000\n",
      "2018-01-04  2.5  3.0  1.666667\n",
      "2018-01-05  2.5  2.5  1.500000\n",
      "1.52 s ± 31.5 ms per loop (mean ± std. dev. of 7 runs, 1 loop each)\n",
      "              a    b         c\n",
      "2018-01-01  1.0  NaN  1.000000\n",
      "2018-01-02  1.5  4.0  1.500000\n",
      "2018-01-03  2.0  3.5  1.500000\n",
      "2018-01-04  2.5  3.0  1.666667\n",
      "2018-01-05  2.5  2.5  1.500000\n",
      "891 ms ± 25.4 ms per loop (mean ± std. dev. of 7 runs, 1 loop each)\n",
      "                   a         b         c\n",
      "2018-01-01  1.000000  1.000000  1.000000\n",
      "2018-01-02  2.000000  2.000000  2.000000\n",
      "2018-01-03  2.285714  2.285714  2.285714\n",
      "2018-01-04  2.400000  2.400000  2.400000\n",
      "2018-01-05  2.166667  2.166667  2.166667\n",
      "880 ms ± 17.7 ms per loop (mean ± std. dev. of 7 runs, 1 loop each)\n"
     ]
    }
   ],
   "source": [
    "print(ts.expanding().apply(nanmean_nb, raw=True))\n",
    "%timeit big_ts.expanding().apply(nanmean_nb, raw=True)\n",
    "\n",
    "print(ts.vbt.timeseries.expanding_apply(nanmean_nb))\n",
    "%timeit big_ts.vbt.timeseries.expanding_apply(nanmean_nb)\n",
    "\n",
    "print(ts.vbt.timeseries.expanding_apply(nanmean_nb, on_2d=True))\n",
    "%timeit big_ts.vbt.timeseries.expanding_apply(nanmean_nb, on_2d=True)"
   ]
  },
  {
   "cell_type": "code",
   "execution_count": 21,
   "metadata": {},
   "outputs": [
    {
     "name": "stdout",
     "output_type": "stream",
     "text": [
      "1    1.5\n",
      "2    3.5\n",
      "3    NaN\n",
      "Name: a, dtype: float64\n",
      "4.39 ms ± 229 µs per loop (mean ± std. dev. of 7 runs, 100 loops each)\n",
      "1    1.5\n",
      "2    3.5\n",
      "3    NaN\n",
      "Name: a, dtype: float64\n",
      "475 µs ± 89.2 µs per loop (mean ± std. dev. of 7 runs, 1 loop each)\n",
      "     a    b    c\n",
      "1  1.5  4.0  1.5\n",
      "2  3.5  2.5  2.0\n",
      "3  NaN  1.0  1.0\n",
      "     a    b    c\n",
      "1  1.5  4.0  1.5\n",
      "2  3.5  2.5  2.0\n",
      "3  NaN  1.0  1.0\n",
      "7.82 ms ± 237 µs per loop (mean ± std. dev. of 7 runs, 100 loops each)\n",
      "     a    b    c\n",
      "1  2.0  2.0  2.0\n",
      "2  2.8  2.8  2.8\n",
      "3  1.0  1.0  1.0\n"
     ]
    }
   ],
   "source": [
    "print(ts['a'].groupby(np.asarray([1, 1, 2, 2, 3])).apply(lambda x: nanmean_nb(x.values)))\n",
    "%timeit big_ts.iloc[:, 0].groupby(np.random.randint(10, size=1000)).apply(lambda x: nanmean_nb(x.values))\n",
    "\n",
    "print(ts['a'].vbt.timeseries.groupby_apply(np.asarray([1, 1, 2, 2, 3]), nanmean_nb))\n",
    "%timeit big_ts.iloc[:, 0].vbt.timeseries.groupby_apply(np.random.randint(10, size=1000), nanmean_nb)\n",
    "\n",
    "print(ts.groupby(np.asarray([1, 1, 2, 2, 3])).agg({\n",
    "    'a': lambda x: nanmean_nb(x.values), \n",
    "    'b': lambda x: nanmean_nb(x.values), \n",
    "    'c': lambda x: nanmean_nb(x.values)})) # any clean way to do column-wise grouping in pandas?\n",
    "\n",
    "print(ts.vbt.timeseries.groupby_apply(np.asarray([1, 1, 2, 2, 3]), nanmean_nb))\n",
    "%timeit big_ts.vbt.timeseries.groupby_apply(np.random.randint(10, size=1000), nanmean_nb)\n",
    "\n",
    "print(ts.vbt.timeseries.groupby_apply(np.asarray([1, 1, 2, 2, 3]), nanmean_nb, on_2d=True))"
   ]
  },
  {
   "cell_type": "code",
   "execution_count": 22,
   "metadata": {},
   "outputs": [
    {
     "name": "stdout",
     "output_type": "stream",
     "text": [
      "2018-01-01 00:00:00    1.0\n",
      "2018-01-01 01:00:00    NaN\n",
      "2018-01-01 02:00:00    NaN\n",
      "2018-01-01 03:00:00    NaN\n",
      "2018-01-01 04:00:00    NaN\n",
      "                      ... \n",
      "2018-01-04 20:00:00    NaN\n",
      "2018-01-04 21:00:00    NaN\n",
      "2018-01-04 22:00:00    NaN\n",
      "2018-01-04 23:00:00    NaN\n",
      "2018-01-05 00:00:00    NaN\n",
      "Freq: H, Name: a, Length: 97, dtype: float64\n",
      "137 ms ± 9.1 ms per loop (mean ± std. dev. of 7 runs, 10 loops each)\n",
      "2018-01-01 00:00:00    1.0\n",
      "2018-01-01 01:00:00    NaN\n",
      "2018-01-01 02:00:00    NaN\n",
      "2018-01-01 03:00:00    NaN\n",
      "2018-01-01 04:00:00    NaN\n",
      "                      ... \n",
      "2018-01-04 20:00:00    NaN\n",
      "2018-01-04 21:00:00    NaN\n",
      "2018-01-04 22:00:00    NaN\n",
      "2018-01-04 23:00:00    NaN\n",
      "2018-01-05 00:00:00    NaN\n",
      "Freq: H, Name: a, Length: 97, dtype: float64\n",
      "120 ms ± 1.99 ms per loop (mean ± std. dev. of 7 runs, 1 loop each)\n",
      "                       a    b    c\n",
      "2018-01-01 00:00:00  1.0  NaN  1.0\n",
      "2018-01-01 01:00:00  NaN  NaN  NaN\n",
      "2018-01-01 02:00:00  NaN  NaN  NaN\n",
      "2018-01-01 03:00:00  NaN  NaN  NaN\n",
      "2018-01-01 04:00:00  NaN  NaN  NaN\n",
      "...                  ...  ...  ...\n",
      "2018-01-04 20:00:00  NaN  NaN  NaN\n",
      "2018-01-04 21:00:00  NaN  NaN  NaN\n",
      "2018-01-04 22:00:00  NaN  NaN  NaN\n",
      "2018-01-04 23:00:00  NaN  NaN  NaN\n",
      "2018-01-05 00:00:00  NaN  1.0  1.0\n",
      "\n",
      "[97 rows x 3 columns]\n",
      "13.9 s ± 1.12 s per loop (mean ± std. dev. of 7 runs, 1 loop each)\n",
      "                       a    b    c\n",
      "2018-01-01 00:00:00  1.0  NaN  1.0\n",
      "2018-01-01 01:00:00  NaN  NaN  NaN\n",
      "2018-01-01 02:00:00  NaN  NaN  NaN\n",
      "2018-01-01 03:00:00  NaN  NaN  NaN\n",
      "2018-01-01 04:00:00  NaN  NaN  NaN\n",
      "...                  ...  ...  ...\n",
      "2018-01-04 20:00:00  NaN  NaN  NaN\n",
      "2018-01-04 21:00:00  NaN  NaN  NaN\n",
      "2018-01-04 22:00:00  NaN  NaN  NaN\n",
      "2018-01-04 23:00:00  NaN  NaN  NaN\n",
      "2018-01-05 00:00:00  NaN  1.0  1.0\n",
      "\n",
      "[97 rows x 3 columns]\n",
      "1.1 s ± 57.6 ms per loop (mean ± std. dev. of 7 runs, 1 loop each)\n",
      "                       a    b    c\n",
      "2018-01-01 00:00:00  1.0  1.0  1.0\n",
      "2018-01-01 01:00:00  NaN  NaN  NaN\n",
      "2018-01-01 02:00:00  NaN  NaN  NaN\n",
      "2018-01-01 03:00:00  NaN  NaN  NaN\n",
      "2018-01-01 04:00:00  NaN  NaN  NaN\n",
      "...                  ...  ...  ...\n",
      "2018-01-04 20:00:00  NaN  NaN  NaN\n",
      "2018-01-04 21:00:00  NaN  NaN  NaN\n",
      "2018-01-04 22:00:00  NaN  NaN  NaN\n",
      "2018-01-04 23:00:00  NaN  NaN  NaN\n",
      "2018-01-05 00:00:00  1.0  1.0  1.0\n",
      "\n",
      "[97 rows x 3 columns]\n",
      "227 ms ± 4.56 ms per loop (mean ± std. dev. of 7 runs, 1 loop each)\n"
     ]
    }
   ],
   "source": [
    "print(ts['a'].resample('1h').apply(lambda x: nanmean_nb(x.values)))\n",
    "%timeit big_ts.iloc[:, 0].resample('1h').apply(lambda x: nanmean_nb(x.values))\n",
    "\n",
    "print(ts['a'].vbt.timeseries.resample_apply('1h', nanmean_nb))\n",
    "%timeit big_ts.iloc[:, 0].vbt.timeseries.resample_apply('1h', nanmean_nb)\n",
    "\n",
    "print(ts.resample('1h').apply(lambda x: nanmean_nb(x.values)))\n",
    "%timeit big_ts.iloc[:, :100].resample('1h').apply(lambda x: nanmean_nb(x.values))\n",
    "\n",
    "print(ts.vbt.timeseries.resample_apply('1h', nanmean_nb))\n",
    "%timeit big_ts.vbt.timeseries.resample_apply('1h', nanmean_nb) # 100x faster\n",
    "\n",
    "print(ts.vbt.timeseries.resample_apply('1h', nanmean_nb, on_2d=True))\n",
    "%timeit big_ts.vbt.timeseries.resample_apply('1h', nanmean_nb, on_2d=True)"
   ]
  },
  {
   "cell_type": "code",
   "execution_count": 23,
   "metadata": {},
   "outputs": [
    {
     "name": "stdout",
     "output_type": "stream",
     "text": [
      "2018-01-01    2.0\n",
      "2018-01-04    4.0\n",
      "Freq: 3D, Name: a, dtype: float64\n",
      "3.66 ms ± 45.7 µs per loop (mean ± std. dev. of 7 runs, 100 loops each)\n",
      "2018-01-01    2.0\n",
      "2018-01-04    4.0\n",
      "Freq: 3D, Name: a, dtype: float64\n",
      "7.77 ms ± 177 µs per loop (mean ± std. dev. of 7 runs, 100 loops each)\n",
      "              a    b    c\n",
      "2018-01-01  2.0  3.5  1.5\n",
      "2018-01-04  4.0  1.5  1.5\n",
      "3.46 s ± 17 ms per loop (mean ± std. dev. of 7 runs, 1 loop each)\n",
      "              a    b    c\n",
      "2018-01-01  2.0  3.5  1.5\n",
      "2018-01-04  4.0  1.5  1.5\n",
      "296 ms ± 2.03 ms per loop (mean ± std. dev. of 7 runs, 1 loop each)\n"
     ]
    }
   ],
   "source": [
    "print(ts['a'].resample('3d').apply(lambda x: nanmean_nb(x.values)))\n",
    "%timeit big_ts.iloc[:, 0].resample('3d').apply(lambda x: nanmean_nb(x.values))\n",
    "\n",
    "print(ts['a'].vbt.timeseries.resample_apply('3d', nanmean_nb))\n",
    "%timeit big_ts.iloc[:, 0].vbt.timeseries.resample_apply('3d', nanmean_nb)\n",
    "\n",
    "print(ts.resample('3d').apply(lambda x: nanmean_nb(x.values)))\n",
    "%timeit big_ts.resample('3d').apply(lambda x: nanmean_nb(x.values))\n",
    "\n",
    "print(ts.vbt.timeseries.resample_apply('3d', nanmean_nb))\n",
    "%timeit big_ts.vbt.timeseries.resample_apply('3d', nanmean_nb)"
   ]
  },
  {
   "cell_type": "code",
   "execution_count": 24,
   "metadata": {},
   "outputs": [
    {
     "name": "stdout",
     "output_type": "stream",
     "text": [
      "2018-01-07    2.5\n",
      "Freq: W-SUN, Name: a, dtype: float64\n",
      "6.36 ms ± 71.8 µs per loop (mean ± std. dev. of 7 runs, 100 loops each)\n",
      "2018-01-07    2.5\n",
      "Freq: W-SUN, Name: a, dtype: float64\n",
      "8.94 ms ± 92.2 µs per loop (mean ± std. dev. of 7 runs, 100 loops each)\n",
      "              a    b    c\n",
      "2018-01-07  2.5  2.5  1.5\n",
      "2.49 s ± 8.23 ms per loop (mean ± std. dev. of 7 runs, 1 loop each)\n",
      "              a    b    c\n",
      "2018-01-07  2.5  2.5  1.5\n",
      "134 ms ± 775 µs per loop (mean ± std. dev. of 7 runs, 10 loops each)\n"
     ]
    }
   ],
   "source": [
    "print(ts['a'].resample('1w').apply(lambda x: nanmean_nb(x.values)))\n",
    "%timeit big_ts.iloc[:, 0].resample('1w').apply(lambda x: nanmean_nb(x.values))\n",
    "\n",
    "print(ts['a'].vbt.timeseries.resample_apply('1w', nanmean_nb))\n",
    "%timeit big_ts.iloc[:, 0].vbt.timeseries.resample_apply('1w', nanmean_nb)\n",
    "\n",
    "print(ts.resample('1w').apply(lambda x: nanmean_nb(x.values)))\n",
    "%timeit big_ts.resample('1w').apply(lambda x: nanmean_nb(x.values))\n",
    "\n",
    "print(ts.vbt.timeseries.resample_apply('1w', nanmean_nb))\n",
    "%timeit big_ts.vbt.timeseries.resample_apply('1w', nanmean_nb)"
   ]
  },
  {
   "cell_type": "code",
   "execution_count": 25,
   "metadata": {},
   "outputs": [
    {
     "name": "stdout",
     "output_type": "stream",
     "text": [
      "range_start  2018-01-01  2018-01-04\n",
      "0                   1.0         4.0\n",
      "1                   2.0         NaN\n",
      "854 µs ± 6.22 µs per loop (mean ± std. dev. of 7 runs, 1000 loops each)\n",
      "range_start 2018-01-01           2018-01-04          \n",
      "                     a    b    c          a    b    c\n",
      "0                  1.0  4.0  NaN        2.0  1.0  2.0\n",
      "1                  2.0  NaN  4.0        1.0  2.0  1.0\n",
      "63.6 ms ± 393 µs per loop (mean ± std. dev. of 7 runs, 10 loops each)\n"
     ]
    }
   ],
   "source": [
    "print(ts['a'].vbt.timeseries.rolling_range(2, n=2))\n",
    "%timeit big_ts.iloc[:, 0].vbt.timeseries.rolling_range(2, n=100)\n",
    "\n",
    "print(ts.vbt.timeseries.rolling_range(2, n=2))\n",
    "%timeit big_ts.vbt.timeseries.rolling_range(2, n=100)"
   ]
  },
  {
   "cell_type": "code",
   "execution_count": 26,
   "metadata": {
    "Collapsed": "false"
   },
   "outputs": [
    {
     "data": {
      "text/plain": [
       "<matplotlib.axes._subplots.AxesSubplot at 0x629a7eb38>"
      ]
     },
     "execution_count": 26,
     "metadata": {},
     "output_type": "execute_result"
    },
    {
     "data": {
      "image/png": "[encoded data removed]",
      "text/plain": [
       "<Figure size 432x288 with 1 Axes>"
      ]
     },
     "metadata": {
      "needs_background": "light"
     },
     "output_type": "display_data"
    }
   ],
   "source": [
    "# Two ways of plotting\n",
    "ts.plot()"
   ]
  },
  {
   "cell_type": "code",
   "execution_count": 27,
   "metadata": {},
   "outputs": [
    {
     "data": {
      "application/vnd.jupyter.widget-view+json": {
       "model_id": "6f79978956db49d28acd1258c7b085ff",
       "version_major": 2,
       "version_minor": 0
      },
      "text/plain": [
       "FigureWidget({\n",
       "    'data': [{'mode': 'lines',\n",
       "              'name': 'a',\n",
       "              'type': 'scatter',\n",
       "    …"
      ]
     },
     "metadata": {},
     "output_type": "display_data"
    }
   ],
   "source": [
    "ts.vbt.timeseries.plot()"
   ]
  },
  {
   "cell_type": "code",
   "execution_count": 28,
   "metadata": {},
   "outputs": [
    {
     "data": {
      "application/vnd.jupyter.widget-view+json": {
       "model_id": "72d7f8c2a6174a68afeda3651cd398da",
       "version_major": 2,
       "version_minor": 0
      },
      "text/plain": [
       "FigureWidget({\n",
       "    'data': [{'mode': 'lines',\n",
       "              'name': 'a',\n",
       "              'type': 'scatter',\n",
       "    …"
      ]
     },
     "metadata": {},
     "output_type": "display_data"
    }
   ],
   "source": [
    "ts['a'].vbt.timeseries.plot()"
   ]
  },
  {
   "cell_type": "markdown",
   "metadata": {},
   "source": [
    "## OHLCV"
   ]
  },
  {
   "cell_type": "code",
   "execution_count": 31,
   "metadata": {},
   "outputs": [
    {
     "name": "stdout",
     "output_type": "stream",
     "text": [
      "                Open      High       Low     Close    Volume\n",
      "2018-01-01 -0.225892  0.460849 -1.040607  0.458119 -0.645918\n",
      "2018-01-02  0.021885  0.481961 -0.690531  0.253005 -1.071680\n",
      "2018-01-03 -0.549334 -0.098237 -1.050758  0.438909 -0.540684\n",
      "2018-01-04 -0.131453 -0.013180 -0.883006  0.784554  0.284947\n",
      "2018-01-05  0.213626  0.722338 -0.121478  0.647181 -0.100242\n"
     ]
    }
   ],
   "source": [
    "ohlcv_ts = pd.DataFrame(\n",
    "    columns=['Open', 'High', 'Low', 'Close', 'Volume'],\n",
    "    index=[datetime(2018, 1, 1) + timedelta(days=i) for i in range(1000)]\n",
    ")\n",
    "ohlcv_ts['Open'] = np.cumsum(np.random.uniform(-0.8, 1, size=(1000,)))\n",
    "ohlcv_ts['Close'] = ohlcv_ts['Open'] + np.random.uniform(-1, 1, size=(1000,))\n",
    "ohlcv_ts['High'] = ohlcv_ts['Open'] + np.random.uniform(0, 1, size=(1000,))\n",
    "ohlcv_ts['Low'] = ohlcv_ts['Open'] - np.random.uniform(0, 1, size=(1000,))\n",
    "ohlcv_ts['Volume'] = np.cumsum(np.random.uniform(-1, 1, size=(1000,)))\n",
    "\n",
    "print(ohlcv_ts.head())"
   ]
  },
  {
   "cell_type": "code",
   "execution_count": 33,
   "metadata": {},
   "outputs": [
    {
     "data": {
      "image/png": "[encoded data removed]"
     },
     "metadata": {},
     "output_type": "display_data"
    }
   ],
   "source": [
    "ohlcv_ts = ohlcv_ts.rename(columns={'Volume': 'Volume2'}) # test different column names\n",
    "\n",
    "ohlcv_ts.vbt.ohlcv(volume='Volume2').plot().show_png()"
   ]
  },
  {
   "cell_type": "code",
   "execution_count": null,
   "metadata": {},
   "outputs": [],
   "source": []
  }
 ],
 "metadata": {
  "kernelspec": {
   "display_name": "Python 3",
   "language": "python",
   "name": "python3"
  },
  "language_info": {
   "codemirror_mode": {
    "name": "ipython",
    "version": 3
   },
   "file_extension": ".py",
   "mimetype": "text/x-python",
   "name": "python",
   "nbconvert_exporter": "python",
   "pygments_lexer": "ipython3",
   "version": "3.7.3"
  },
  "widgets": {
   "application/vnd.jupyter.widget-state+json": {
    "state": {
     "2ae5b3fc83714d6387c4909860a81e55": {
      "buffers": [
       {
        "data": "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",
        "encoding": "base64",
        "path": [
         "_data",
         0,
         "close",
         "value"
        ]
       },
       {
        "data": "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",
        "encoding": "base64",
        "path": [
         "_data",
         0,
         "high",
         "value"
        ]
       },
       {
        "data": "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",
        "encoding": "base64",
        "path": [
         "_data",
         0,
         "low",
         "value"
        ]
       },
       {
        "data": "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",
        "encoding": "base64",
        "path": [
         "_data",
         0,
         "open",
         "value"
        ]
       },
       {
        "data": "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",
        "encoding": "base64",
        "path": [
         "_data",
         1,
         "y",
         "value"
        ]
       }
      ],
      "model_module": "plotlywidget",
      "model_module_version": "1.5.0",
      "model_name": "FigureModel",
      "state": {
       "_config": {
        "plotlyServerURL": "https://plot.ly"
       },
       "_data": [
        {
         "close": {
          "dtype": "float64",
          "shape": [
           1000
          ]
         },
         "high": {
          "dtype": "float64",
          "shape": [
           1000
          ]
         },
         "low": {
          "dtype": "float64",
          "shape": [
           1000
          ]
         },
         "name": "OHLC",
         "open": {
          "dtype": "float64",
          "shape": [
           1000
          ]
         },
         "type": "candlestick",
         "uid": "18c7a5f5-fb80-4bd7-8669-947febc5633d",
         "x": [
          "2018-01-01T00:00:00.000000",
          "2018-01-02T00:00:00.000000",
          "2018-01-03T00:00:00.000000",
          "2018-01-04T00:00:00.000000",
          "2018-01-05T00:00:00.000000",
          "2018-01-06T00:00:00.000000",
          "2018-01-07T00:00:00.000000",
          "2018-01-08T00:00:00.000000",
          "2018-01-09T00:00:00.000000",
          "2018-01-10T00:00:00.000000",
          "2018-01-11T00:00:00.000000",
          "2018-01-12T00:00:00.000000",
          "2018-01-13T00:00:00.000000",
          "2018-01-14T00:00:00.000000",
          "2018-01-15T00:00:00.000000",
          "2018-01-16T00:00:00.000000",
          "2018-01-17T00:00:00.000000",
          "2018-01-18T00:00:00.000000",
          "2018-01-19T00:00:00.000000",
          "2018-01-20T00:00:00.000000",
          "2018-01-21T00:00:00.000000",
          "2018-01-22T00:00:00.000000",
          "2018-01-23T00:00:00.000000",
          "2018-01-24T00:00:00.000000",
          "2018-01-25T00:00:00.000000",
          "2018-01-26T00:00:00.000000",
          "2018-01-27T00:00:00.000000",
          "2018-01-28T00:00:00.000000",
          "2018-01-29T00:00:00.000000",
          "2018-01-30T00:00:00.000000",
          "2018-01-31T00:00:00.000000",
          "2018-02-01T00:00:00.000000",
          "2018-02-02T00:00:00.000000",
          "2018-02-03T00:00:00.000000",
          "2018-02-04T00:00:00.000000",
          "2018-02-05T00:00:00.000000",
          "2018-02-06T00:00:00.000000",
          "2018-02-07T00:00:00.000000",
          "2018-02-08T00:00:00.000000",
          "2018-02-09T00:00:00.000000",
          "2018-02-10T00:00:00.000000",
          "2018-02-11T00:00:00.000000",
          "2018-02-12T00:00:00.000000",
          "2018-02-13T00:00:00.000000",
          "2018-02-14T00:00:00.000000",
          "2018-02-15T00:00:00.000000",
          "2018-02-16T00:00:00.000000",
          "2018-02-17T00:00:00.000000",
          "2018-02-18T00:00:00.000000",
          "2018-02-19T00:00:00.000000",
          "2018-02-20T00:00:00.000000",
          "2018-02-21T00:00:00.000000",
          "2018-02-22T00:00:00.000000",
          "2018-02-23T00:00:00.000000",
          "2018-02-24T00:00:00.000000",
          "2018-02-25T00:00:00.000000",
          "2018-02-26T00:00:00.000000",
          "2018-02-27T00:00:00.000000",
          "2018-02-28T00:00:00.000000",
          "2018-03-01T00:00:00.000000",
          "2018-03-02T00:00:00.000000",
          "2018-03-03T00:00:00.000000",
          "2018-03-04T00:00:00.000000",
          "2018-03-05T00:00:00.000000",
          "2018-03-06T00:00:00.000000",
          "2018-03-07T00:00:00.000000",
          "2018-03-08T00:00:00.000000",
          "2018-03-09T00:00:00.000000",
          "2018-03-10T00:00:00.000000",
          "2018-03-11T00:00:00.000000",
          "2018-03-12T00:00:00.000000",
          "2018-03-13T00:00:00.000000",
          "2018-03-14T00:00:00.000000",
          "2018-03-15T00:00:00.000000",
          "2018-03-16T00:00:00.000000",
          "2018-03-17T00:00:00.000000",
          "2018-03-18T00:00:00.000000",
          "2018-03-19T00:00:00.000000",
          "2018-03-20T00:00:00.000000",
          "2018-03-21T00:00:00.000000",
          "2018-03-22T00:00:00.000000",
          "2018-03-23T00:00:00.000000",
          "2018-03-24T00:00:00.000000",
          "2018-03-25T00:00:00.000000",
          "2018-03-26T00:00:00.000000",
          "2018-03-27T00:00:00.000000",
          "2018-03-28T00:00:00.000000",
          "2018-03-29T00:00:00.000000",
          "2018-03-30T00:00:00.000000",
          "2018-03-31T00:00:00.000000",
          "2018-04-01T00:00:00.000000",
          "2018-04-02T00:00:00.000000",
          "2018-04-03T00:00:00.000000",
          "2018-04-04T00:00:00.000000",
          "2018-04-05T00:00:00.000000",
          "2018-04-06T00:00:00.000000",
          "2018-04-07T00:00:00.000000",
          "2018-04-08T00:00:00.000000",
          "2018-04-09T00:00:00.000000",
          "2018-04-10T00:00:00.000000",
          "2018-04-11T00:00:00.000000",
          "2018-04-12T00:00:00.000000",
          "2018-04-13T00:00:00.000000",
          "2018-04-14T00:00:00.000000",
          "2018-04-15T00:00:00.000000",
          "2018-04-16T00:00:00.000000",
          "2018-04-17T00:00:00.000000",
          "2018-04-18T00:00:00.000000",
          "2018-04-19T00:00:00.000000",
          "2018-04-20T00:00:00.000000",
          "2018-04-21T00:00:00.000000",
          "2018-04-22T00:00:00.000000",
          "2018-04-23T00:00:00.000000",
          "2018-04-24T00:00:00.000000",
          "2018-04-25T00:00:00.000000",
          "2018-04-26T00:00:00.000000",
          "2018-04-27T00:00:00.000000",
          "2018-04-28T00:00:00.000000",
          "2018-04-29T00:00:00.000000",
          "2018-04-30T00:00:00.000000",
          "2018-05-01T00:00:00.000000",
          "2018-05-02T00:00:00.000000",
          "2018-05-03T00:00:00.000000",
          "2018-05-04T00:00:00.000000",
          "2018-05-05T00:00:00.000000",
          "2018-05-06T00:00:00.000000",
          "2018-05-07T00:00:00.000000",
          "2018-05-08T00:00:00.000000",
          "2018-05-09T00:00:00.000000",
          "2018-05-10T00:00:00.000000",
          "2018-05-11T00:00:00.000000",
          "2018-05-12T00:00:00.000000",
          "2018-05-13T00:00:00.000000",
          "2018-05-14T00:00:00.000000",
          "2018-05-15T00:00:00.000000",
          "2018-05-16T00:00:00.000000",
          "2018-05-17T00:00:00.000000",
          "2018-05-18T00:00:00.000000",
          "2018-05-19T00:00:00.000000",
          "2018-05-20T00:00:00.000000",
          "2018-05-21T00:00:00.000000",
          "2018-05-22T00:00:00.000000",
          "2018-05-23T00:00:00.000000",
          "2018-05-24T00:00:00.000000",
          "2018-05-25T00:00:00.000000",
          "2018-05-26T00:00:00.000000",
          "2018-05-27T00:00:00.000000",
          "2018-05-28T00:00:00.000000",
          "2018-05-29T00:00:00.000000",
          "2018-05-30T00:00:00.000000",
          "2018-05-31T00:00:00.000000",
          "2018-06-01T00:00:00.000000",
          "2018-06-02T00:00:00.000000",
          "2018-06-03T00:00:00.000000",
          "2018-06-04T00:00:00.000000",
          "2018-06-05T00:00:00.000000",
          "2018-06-06T00:00:00.000000",
          "2018-06-07T00:00:00.000000",
          "2018-06-08T00:00:00.000000",
          "2018-06-09T00:00:00.000000",
          "2018-06-10T00:00:00.000000",
          "2018-06-11T00:00:00.000000",
          "2018-06-12T00:00:00.000000",
          "2018-06-13T00:00:00.000000",
          "2018-06-14T00:00:00.000000",
          "2018-06-15T00:00:00.000000",
          "2018-06-16T00:00:00.000000",
          "2018-06-17T00:00:00.000000",
          "2018-06-18T00:00:00.000000",
          "2018-06-19T00:00:00.000000",
          "2018-06-20T00:00:00.000000",
          "2018-06-21T00:00:00.000000",
          "2018-06-22T00:00:00.000000",
          "2018-06-23T00:00:00.000000",
          "2018-06-24T00:00:00.000000",
          "2018-06-25T00:00:00.000000",
          "2018-06-26T00:00:00.000000",
          "2018-06-27T00:00:00.000000",
          "2018-06-28T00:00:00.000000",
          "2018-06-29T00:00:00.000000",
          "2018-06-30T00:00:00.000000",
          "2018-07-01T00:00:00.000000",
          "2018-07-02T00:00:00.000000",
          "2018-07-03T00:00:00.000000",
          "2018-07-04T00:00:00.000000",
          "2018-07-05T00:00:00.000000",
          "2018-07-06T00:00:00.000000",
          "2018-07-07T00:00:00.000000",
          "2018-07-08T00:00:00.000000",
          "2018-07-09T00:00:00.000000",
          "2018-07-10T00:00:00.000000",
          "2018-07-11T00:00:00.000000",
          "2018-07-12T00:00:00.000000",
          "2018-07-13T00:00:00.000000",
          "2018-07-14T00:00:00.000000",
          "2018-07-15T00:00:00.000000",
          "2018-07-16T00:00:00.000000",
          "2018-07-17T00:00:00.000000",
          "2018-07-18T00:00:00.000000",
          "2018-07-19T00:00:00.000000",
          "2018-07-20T00:00:00.000000",
          "2018-07-21T00:00:00.000000",
          "2018-07-22T00:00:00.000000",
          "2018-07-23T00:00:00.000000",
          "2018-07-24T00:00:00.000000",
          "2018-07-25T00:00:00.000000",
          "2018-07-26T00:00:00.000000",
          "2018-07-27T00:00:00.000000",
          "2018-07-28T00:00:00.000000",
          "2018-07-29T00:00:00.000000",
          "2018-07-30T00:00:00.000000",
          "2018-07-31T00:00:00.000000",
          "2018-08-01T00:00:00.000000",
          "2018-08-02T00:00:00.000000",
          "2018-08-03T00:00:00.000000",
          "2018-08-04T00:00:00.000000",
          "2018-08-05T00:00:00.000000",
          "2018-08-06T00:00:00.000000",
          "2018-08-07T00:00:00.000000",
          "2018-08-08T00:00:00.000000",
          "2018-08-09T00:00:00.000000",
          "2018-08-10T00:00:00.000000",
          "2018-08-11T00:00:00.000000",
          "2018-08-12T00:00:00.000000",
          "2018-08-13T00:00:00.000000",
          "2018-08-14T00:00:00.000000",
          "2018-08-15T00:00:00.000000",
          "2018-08-16T00:00:00.000000",
          "2018-08-17T00:00:00.000000",
          "2018-08-18T00:00:00.000000",
          "2018-08-19T00:00:00.000000",
          "2018-08-20T00:00:00.000000",
          "2018-08-21T00:00:00.000000",
          "2018-08-22T00:00:00.000000",
          "2018-08-23T00:00:00.000000",
          "2018-08-24T00:00:00.000000",
          "2018-08-25T00:00:00.000000",
          "2018-08-26T00:00:00.000000",
          "2018-08-27T00:00:00.000000",
          "2018-08-28T00:00:00.000000",
          "2018-08-29T00:00:00.000000",
          "2018-08-30T00:00:00.000000",
          "2018-08-31T00:00:00.000000",
          "2018-09-01T00:00:00.000000",
          "2018-09-02T00:00:00.000000",
          "2018-09-03T00:00:00.000000",
          "2018-09-04T00:00:00.000000",
          "2018-09-05T00:00:00.000000",
          "2018-09-06T00:00:00.000000",
          "2018-09-07T00:00:00.000000",
          "2018-09-08T00:00:00.000000",
          "2018-09-09T00:00:00.000000",
          "2018-09-10T00:00:00.000000",
          "2018-09-11T00:00:00.000000",
          "2018-09-12T00:00:00.000000",
          "2018-09-13T00:00:00.000000",
          "2018-09-14T00:00:00.000000",
          "2018-09-15T00:00:00.000000",
          "2018-09-16T00:00:00.000000",
          "2018-09-17T00:00:00.000000",
          "2018-09-18T00:00:00.000000",
          "2018-09-19T00:00:00.000000",
          "2018-09-20T00:00:00.000000",
          "2018-09-21T00:00:00.000000",
          "2018-09-22T00:00:00.000000",
          "2018-09-23T00:00:00.000000",
          "2018-09-24T00:00:00.000000",
          "2018-09-25T00:00:00.000000",
          "2018-09-26T00:00:00.000000",
          "2018-09-27T00:00:00.000000",
          "2018-09-28T00:00:00.000000",
          "2018-09-29T00:00:00.000000",
          "2018-09-30T00:00:00.000000",
          "2018-10-01T00:00:00.000000",
          "2018-10-02T00:00:00.000000",
          "2018-10-03T00:00:00.000000",
          "2018-10-04T00:00:00.000000",
          "2018-10-05T00:00:00.000000",
          "2018-10-06T00:00:00.000000",
          "2018-10-07T00:00:00.000000",
          "2018-10-08T00:00:00.000000",
          "2018-10-09T00:00:00.000000",
          "2018-10-10T00:00:00.000000",
          "2018-10-11T00:00:00.000000",
          "2018-10-12T00:00:00.000000",
          "2018-10-13T00:00:00.000000",
          "2018-10-14T00:00:00.000000",
          "2018-10-15T00:00:00.000000",
          "2018-10-16T00:00:00.000000",
          "2018-10-17T00:00:00.000000",
          "2018-10-18T00:00:00.000000",
          "2018-10-19T00:00:00.000000",
          "2018-10-20T00:00:00.000000",
          "2018-10-21T00:00:00.000000",
          "2018-10-22T00:00:00.000000",
          "2018-10-23T00:00:00.000000",
          "2018-10-24T00:00:00.000000",
          "2018-10-25T00:00:00.000000",
          "2018-10-26T00:00:00.000000",
          "2018-10-27T00:00:00.000000",
          "2018-10-28T00:00:00.000000",
          "2018-10-29T00:00:00.000000",
          "2018-10-30T00:00:00.000000",
          "2018-10-31T00:00:00.000000",
          "2018-11-01T00:00:00.000000",
          "2018-11-02T00:00:00.000000",
          "2018-11-03T00:00:00.000000",
          "2018-11-04T00:00:00.000000",
          "2018-11-05T00:00:00.000000",
          "2018-11-06T00:00:00.000000",
          "2018-11-07T00:00:00.000000",
          "2018-11-08T00:00:00.000000",
          "2018-11-09T00:00:00.000000",
          "2018-11-10T00:00:00.000000",
          "2018-11-11T00:00:00.000000",
          "2018-11-12T00:00:00.000000",
          "2018-11-13T00:00:00.000000",
          "2018-11-14T00:00:00.000000",
          "2018-11-15T00:00:00.000000",
          "2018-11-16T00:00:00.000000",
          "2018-11-17T00:00:00.000000",
          "2018-11-18T00:00:00.000000",
          "2018-11-19T00:00:00.000000",
          "2018-11-20T00:00:00.000000",
          "2018-11-21T00:00:00.000000",
          "2018-11-22T00:00:00.000000",
          "2018-11-23T00:00:00.000000",
          "2018-11-24T00:00:00.000000",
          "2018-11-25T00:00:00.000000",
          "2018-11-26T00:00:00.000000",
          "2018-11-27T00:00:00.000000",
          "2018-11-28T00:00:00.000000",
          "2018-11-29T00:00:00.000000",
          "2018-11-30T00:00:00.000000",
          "2018-12-01T00:00:00.000000",
          "2018-12-02T00:00:00.000000",
          "2018-12-03T00:00:00.000000",
          "2018-12-04T00:00:00.000000",
          "2018-12-05T00:00:00.000000",
          "2018-12-06T00:00:00.000000",
          "2018-12-07T00:00:00.000000",
          "2018-12-08T00:00:00.000000",
          "2018-12-09T00:00:00.000000",
          "2018-12-10T00:00:00.000000",
          "2018-12-11T00:00:00.000000",
          "2018-12-12T00:00:00.000000",
          "2018-12-13T00:00:00.000000",
          "2018-12-14T00:00:00.000000",
          "2018-12-15T00:00:00.000000",
          "2018-12-16T00:00:00.000000",
          "2018-12-17T00:00:00.000000",
          "2018-12-18T00:00:00.000000",
          "2018-12-19T00:00:00.000000",
          "2018-12-20T00:00:00.000000",
          "2018-12-21T00:00:00.000000",
          "2018-12-22T00:00:00.000000",
          "2018-12-23T00:00:00.000000",
          "2018-12-24T00:00:00.000000",
          "2018-12-25T00:00:00.000000",
          "2018-12-26T00:00:00.000000",
          "2018-12-27T00:00:00.000000",
          "2018-12-28T00:00:00.000000",
          "2018-12-29T00:00:00.000000",
          "2018-12-30T00:00:00.000000",
          "2018-12-31T00:00:00.000000",
          "2019-01-01T00:00:00.000000",
          "2019-01-02T00:00:00.000000",
          "2019-01-03T00:00:00.000000",
          "2019-01-04T00:00:00.000000",
          "2019-01-05T00:00:00.000000",
          "2019-01-06T00:00:00.000000",
          "2019-01-07T00:00:00.000000",
          "2019-01-08T00:00:00.000000",
          "2019-01-09T00:00:00.000000",
          "2019-01-10T00:00:00.000000",
          "2019-01-11T00:00:00.000000",
          "2019-01-12T00:00:00.000000",
          "2019-01-13T00:00:00.000000",
          "2019-01-14T00:00:00.000000",
          "2019-01-15T00:00:00.000000",
          "2019-01-16T00:00:00.000000",
          "2019-01-17T00:00:00.000000",
          "2019-01-18T00:00:00.000000",
          "2019-01-19T00:00:00.000000",
          "2019-01-20T00:00:00.000000",
          "2019-01-21T00:00:00.000000",
          "2019-01-22T00:00:00.000000",
          "2019-01-23T00:00:00.000000",
          "2019-01-24T00:00:00.000000",
          "2019-01-25T00:00:00.000000",
          "2019-01-26T00:00:00.000000",
          "2019-01-27T00:00:00.000000",
          "2019-01-28T00:00:00.000000",
          "2019-01-29T00:00:00.000000",
          "2019-01-30T00:00:00.000000",
          "2019-01-31T00:00:00.000000",
          "2019-02-01T00:00:00.000000",
          "2019-02-02T00:00:00.000000",
          "2019-02-03T00:00:00.000000",
          "2019-02-04T00:00:00.000000",
          "2019-02-05T00:00:00.000000",
          "2019-02-06T00:00:00.000000",
          "2019-02-07T00:00:00.000000",
          "2019-02-08T00:00:00.000000",
          "2019-02-09T00:00:00.000000",
          "2019-02-10T00:00:00.000000",
          "2019-02-11T00:00:00.000000",
          "2019-02-12T00:00:00.000000",
          "2019-02-13T00:00:00.000000",
          "2019-02-14T00:00:00.000000",
          "2019-02-15T00:00:00.000000",
          "2019-02-16T00:00:00.000000",
          "2019-02-17T00:00:00.000000",
          "2019-02-18T00:00:00.000000",
          "2019-02-19T00:00:00.000000",
          "2019-02-20T00:00:00.000000",
          "2019-02-21T00:00:00.000000",
          "2019-02-22T00:00:00.000000",
          "2019-02-23T00:00:00.000000",
          "2019-02-24T00:00:00.000000",
          "2019-02-25T00:00:00.000000",
          "2019-02-26T00:00:00.000000",
          "2019-02-27T00:00:00.000000",
          "2019-02-28T00:00:00.000000",
          "2019-03-01T00:00:00.000000",
          "2019-03-02T00:00:00.000000",
          "2019-03-03T00:00:00.000000",
          "2019-03-04T00:00:00.000000",
          "2019-03-05T00:00:00.000000",
          "2019-03-06T00:00:00.000000",
          "2019-03-07T00:00:00.000000",
          "2019-03-08T00:00:00.000000",
          "2019-03-09T00:00:00.000000",
          "2019-03-10T00:00:00.000000",
          "2019-03-11T00:00:00.000000",
          "2019-03-12T00:00:00.000000",
          "2019-03-13T00:00:00.000000",
          "2019-03-14T00:00:00.000000",
          "2019-03-15T00:00:00.000000",
          "2019-03-16T00:00:00.000000",
          "2019-03-17T00:00:00.000000",
          "2019-03-18T00:00:00.000000",
          "2019-03-19T00:00:00.000000",
          "2019-03-20T00:00:00.000000",
          "2019-03-21T00:00:00.000000",
          "2019-03-22T00:00:00.000000",
          "2019-03-23T00:00:00.000000",
          "2019-03-24T00:00:00.000000",
          "2019-03-25T00:00:00.000000",
          "2019-03-26T00:00:00.000000",
          "2019-03-27T00:00:00.000000",
          "2019-03-28T00:00:00.000000",
          "2019-03-29T00:00:00.000000",
          "2019-03-30T00:00:00.000000",
          "2019-03-31T00:00:00.000000",
          "2019-04-01T00:00:00.000000",
          "2019-04-02T00:00:00.000000",
          "2019-04-03T00:00:00.000000",
          "2019-04-04T00:00:00.000000",
          "2019-04-05T00:00:00.000000",
          "2019-04-06T00:00:00.000000",
          "2019-04-07T00:00:00.000000",
          "2019-04-08T00:00:00.000000",
          "2019-04-09T00:00:00.000000",
          "2019-04-10T00:00:00.000000",
          "2019-04-11T00:00:00.000000",
          "2019-04-12T00:00:00.000000",
          "2019-04-13T00:00:00.000000",
          "2019-04-14T00:00:00.000000",
          "2019-04-15T00:00:00.000000",
          "2019-04-16T00:00:00.000000",
          "2019-04-17T00:00:00.000000",
          "2019-04-18T00:00:00.000000",
          "2019-04-19T00:00:00.000000",
          "2019-04-20T00:00:00.000000",
          "2019-04-21T00:00:00.000000",
          "2019-04-22T00:00:00.000000",
          "2019-04-23T00:00:00.000000",
          "2019-04-24T00:00:00.000000",
          "2019-04-25T00:00:00.000000",
          "2019-04-26T00:00:00.000000",
          "2019-04-27T00:00:00.000000",
          "2019-04-28T00:00:00.000000",
          "2019-04-29T00:00:00.000000",
          "2019-04-30T00:00:00.000000",
          "2019-05-01T00:00:00.000000",
          "2019-05-02T00:00:00.000000",
          "2019-05-03T00:00:00.000000",
          "2019-05-04T00:00:00.000000",
          "2019-05-05T00:00:00.000000",
          "2019-05-06T00:00:00.000000",
          "2019-05-07T00:00:00.000000",
          "2019-05-08T00:00:00.000000",
          "2019-05-09T00:00:00.000000",
          "2019-05-10T00:00:00.000000",
          "2019-05-11T00:00:00.000000",
          "2019-05-12T00:00:00.000000",
          "2019-05-13T00:00:00.000000",
          "2019-05-14T00:00:00.000000",
          "2019-05-15T00:00:00.000000",
          "2019-05-16T00:00:00.000000",
          "2019-05-17T00:00:00.000000",
          "2019-05-18T00:00:00.000000",
          "2019-05-19T00:00:00.000000",
          "2019-05-20T00:00:00.000000",
          "2019-05-21T00:00:00.000000",
          "2019-05-22T00:00:00.000000",
          "2019-05-23T00:00:00.000000",
          "2019-05-24T00:00:00.000000",
          "2019-05-25T00:00:00.000000",
          "2019-05-26T00:00:00.000000",
          "2019-05-27T00:00:00.000000",
          "2019-05-28T00:00:00.000000",
          "2019-05-29T00:00:00.000000",
          "2019-05-30T00:00:00.000000",
          "2019-05-31T00:00:00.000000",
          "2019-06-01T00:00:00.000000",
          "2019-06-02T00:00:00.000000",
          "2019-06-03T00:00:00.000000",
          "2019-06-04T00:00:00.000000",
          "2019-06-05T00:00:00.000000",
          "2019-06-06T00:00:00.000000",
          "2019-06-07T00:00:00.000000",
          "2019-06-08T00:00:00.000000",
          "2019-06-09T00:00:00.000000",
          "2019-06-10T00:00:00.000000",
          "2019-06-11T00:00:00.000000",
          "2019-06-12T00:00:00.000000",
          "2019-06-13T00:00:00.000000",
          "2019-06-14T00:00:00.000000",
          "2019-06-15T00:00:00.000000",
          "2019-06-16T00:00:00.000000",
          "2019-06-17T00:00:00.000000",
          "2019-06-18T00:00:00.000000",
          "2019-06-19T00:00:00.000000",
          "2019-06-20T00:00:00.000000",
          "2019-06-21T00:00:00.000000",
          "2019-06-22T00:00:00.000000",
          "2019-06-23T00:00:00.000000",
          "2019-06-24T00:00:00.000000",
          "2019-06-25T00:00:00.000000",
          "2019-06-26T00:00:00.000000",
          "2019-06-27T00:00:00.000000",
          "2019-06-28T00:00:00.000000",
          "2019-06-29T00:00:00.000000",
          "2019-06-30T00:00:00.000000",
          "2019-07-01T00:00:00.000000",
          "2019-07-02T00:00:00.000000",
          "2019-07-03T00:00:00.000000",
          "2019-07-04T00:00:00.000000",
          "2019-07-05T00:00:00.000000",
          "2019-07-06T00:00:00.000000",
          "2019-07-07T00:00:00.000000",
          "2019-07-08T00:00:00.000000",
          "2019-07-09T00:00:00.000000",
          "2019-07-10T00:00:00.000000",
          "2019-07-11T00:00:00.000000",
          "2019-07-12T00:00:00.000000",
          "2019-07-13T00:00:00.000000",
          "2019-07-14T00:00:00.000000",
          "2019-07-15T00:00:00.000000",
          "2019-07-16T00:00:00.000000",
          "2019-07-17T00:00:00.000000",
          "2019-07-18T00:00:00.000000",
          "2019-07-19T00:00:00.000000",
          "2019-07-20T00:00:00.000000",
          "2019-07-21T00:00:00.000000",
          "2019-07-22T00:00:00.000000",
          "2019-07-23T00:00:00.000000",
          "2019-07-24T00:00:00.000000",
          "2019-07-25T00:00:00.000000",
          "2019-07-26T00:00:00.000000",
          "2019-07-27T00:00:00.000000",
          "2019-07-28T00:00:00.000000",
          "2019-07-29T00:00:00.000000",
          "2019-07-30T00:00:00.000000",
          "2019-07-31T00:00:00.000000",
          "2019-08-01T00:00:00.000000",
          "2019-08-02T00:00:00.000000",
          "2019-08-03T00:00:00.000000",
          "2019-08-04T00:00:00.000000",
          "2019-08-05T00:00:00.000000",
          "2019-08-06T00:00:00.000000",
          "2019-08-07T00:00:00.000000",
          "2019-08-08T00:00:00.000000",
          "2019-08-09T00:00:00.000000",
          "2019-08-10T00:00:00.000000",
          "2019-08-11T00:00:00.000000",
          "2019-08-12T00:00:00.000000",
          "2019-08-13T00:00:00.000000",
          "2019-08-14T00:00:00.000000",
          "2019-08-15T00:00:00.000000",
          "2019-08-16T00:00:00.000000",
          "2019-08-17T00:00:00.000000",
          "2019-08-18T00:00:00.000000",
          "2019-08-19T00:00:00.000000",
          "2019-08-20T00:00:00.000000",
          "2019-08-21T00:00:00.000000",
          "2019-08-22T00:00:00.000000",
          "2019-08-23T00:00:00.000000",
          "2019-08-24T00:00:00.000000",
          "2019-08-25T00:00:00.000000",
          "2019-08-26T00:00:00.000000",
          "2019-08-27T00:00:00.000000",
          "2019-08-28T00:00:00.000000",
          "2019-08-29T00:00:00.000000",
          "2019-08-30T00:00:00.000000",
          "2019-08-31T00:00:00.000000",
          "2019-09-01T00:00:00.000000",
          "2019-09-02T00:00:00.000000",
          "2019-09-03T00:00:00.000000",
          "2019-09-04T00:00:00.000000",
          "2019-09-05T00:00:00.000000",
          "2019-09-06T00:00:00.000000",
          "2019-09-07T00:00:00.000000",
          "2019-09-08T00:00:00.000000",
          "2019-09-09T00:00:00.000000",
          "2019-09-10T00:00:00.000000",
          "2019-09-11T00:00:00.000000",
          "2019-09-12T00:00:00.000000",
          "2019-09-13T00:00:00.000000",
          "2019-09-14T00:00:00.000000",
          "2019-09-15T00:00:00.000000",
          "2019-09-16T00:00:00.000000",
          "2019-09-17T00:00:00.000000",
          "2019-09-18T00:00:00.000000",
          "2019-09-19T00:00:00.000000",
          "2019-09-20T00:00:00.000000",
          "2019-09-21T00:00:00.000000",
          "2019-09-22T00:00:00.000000",
          "2019-09-23T00:00:00.000000",
          "2019-09-24T00:00:00.000000",
          "2019-09-25T00:00:00.000000",
          "2019-09-26T00:00:00.000000",
          "2019-09-27T00:00:00.000000",
          "2019-09-28T00:00:00.000000",
          "2019-09-29T00:00:00.000000",
          "2019-09-30T00:00:00.000000",
          "2019-10-01T00:00:00.000000",
          "2019-10-02T00:00:00.000000",
          "2019-10-03T00:00:00.000000",
          "2019-10-04T00:00:00.000000",
          "2019-10-05T00:00:00.000000",
          "2019-10-06T00:00:00.000000",
          "2019-10-07T00:00:00.000000",
          "2019-10-08T00:00:00.000000",
          "2019-10-09T00:00:00.000000",
          "2019-10-10T00:00:00.000000",
          "2019-10-11T00:00:00.000000",
          "2019-10-12T00:00:00.000000",
          "2019-10-13T00:00:00.000000",
          "2019-10-14T00:00:00.000000",
          "2019-10-15T00:00:00.000000",
          "2019-10-16T00:00:00.000000",
          "2019-10-17T00:00:00.000000",
          "2019-10-18T00:00:00.000000",
          "2019-10-19T00:00:00.000000",
          "2019-10-20T00:00:00.000000",
          "2019-10-21T00:00:00.000000",
          "2019-10-22T00:00:00.000000",
          "2019-10-23T00:00:00.000000",
          "2019-10-24T00:00:00.000000",
          "2019-10-25T00:00:00.000000",
          "2019-10-26T00:00:00.000000",
          "2019-10-27T00:00:00.000000",
          "2019-10-28T00:00:00.000000",
          "2019-10-29T00:00:00.000000",
          "2019-10-30T00:00:00.000000",
          "2019-10-31T00:00:00.000000",
          "2019-11-01T00:00:00.000000",
          "2019-11-02T00:00:00.000000",
          "2019-11-03T00:00:00.000000",
          "2019-11-04T00:00:00.000000",
          "2019-11-05T00:00:00.000000",
          "2019-11-06T00:00:00.000000",
          "2019-11-07T00:00:00.000000",
          "2019-11-08T00:00:00.000000",
          "2019-11-09T00:00:00.000000",
          "2019-11-10T00:00:00.000000",
          "2019-11-11T00:00:00.000000",
          "2019-11-12T00:00:00.000000",
          "2019-11-13T00:00:00.000000",
          "2019-11-14T00:00:00.000000",
          "2019-11-15T00:00:00.000000",
          "2019-11-16T00:00:00.000000",
          "2019-11-17T00:00:00.000000",
          "2019-11-18T00:00:00.000000",
          "2019-11-19T00:00:00.000000",
          "2019-11-20T00:00:00.000000",
          "2019-11-21T00:00:00.000000",
          "2019-11-22T00:00:00.000000",
          "2019-11-23T00:00:00.000000",
          "2019-11-24T00:00:00.000000",
          "2019-11-25T00:00:00.000000",
          "2019-11-26T00:00:00.000000",
          "2019-11-27T00:00:00.000000",
          "2019-11-28T00:00:00.000000",
          "2019-11-29T00:00:00.000000",
          "2019-11-30T00:00:00.000000",
          "2019-12-01T00:00:00.000000",
          "2019-12-02T00:00:00.000000",
          "2019-12-03T00:00:00.000000",
          "2019-12-04T00:00:00.000000",
          "2019-12-05T00:00:00.000000",
          "2019-12-06T00:00:00.000000",
          "2019-12-07T00:00:00.000000",
          "2019-12-08T00:00:00.000000",
          "2019-12-09T00:00:00.000000",
          "2019-12-10T00:00:00.000000",
          "2019-12-11T00:00:00.000000",
          "2019-12-12T00:00:00.000000",
          "2019-12-13T00:00:00.000000",
          "2019-12-14T00:00:00.000000",
          "2019-12-15T00:00:00.000000",
          "2019-12-16T00:00:00.000000",
          "2019-12-17T00:00:00.000000",
          "2019-12-18T00:00:00.000000",
          "2019-12-19T00:00:00.000000",
          "2019-12-20T00:00:00.000000",
          "2019-12-21T00:00:00.000000",
          "2019-12-22T00:00:00.000000",
          "2019-12-23T00:00:00.000000",
          "2019-12-24T00:00:00.000000",
          "2019-12-25T00:00:00.000000",
          "2019-12-26T00:00:00.000000",
          "2019-12-27T00:00:00.000000",
          "2019-12-28T00:00:00.000000",
          "2019-12-29T00:00:00.000000",
          "2019-12-30T00:00:00.000000",
          "2019-12-31T00:00:00.000000",
          "2020-01-01T00:00:00.000000",
          "2020-01-02T00:00:00.000000",
          "2020-01-03T00:00:00.000000",
          "2020-01-04T00:00:00.000000",
          "2020-01-05T00:00:00.000000",
          "2020-01-06T00:00:00.000000",
          "2020-01-07T00:00:00.000000",
          "2020-01-08T00:00:00.000000",
          "2020-01-09T00:00:00.000000",
          "2020-01-10T00:00:00.000000",
          "2020-01-11T00:00:00.000000",
          "2020-01-12T00:00:00.000000",
          "2020-01-13T00:00:00.000000",
          "2020-01-14T00:00:00.000000",
          "2020-01-15T00:00:00.000000",
          "2020-01-16T00:00:00.000000",
          "2020-01-17T00:00:00.000000",
          "2020-01-18T00:00:00.000000",
          "2020-01-19T00:00:00.000000",
          "2020-01-20T00:00:00.000000",
          "2020-01-21T00:00:00.000000",
          "2020-01-22T00:00:00.000000",
          "2020-01-23T00:00:00.000000",
          "2020-01-24T00:00:00.000000",
          "2020-01-25T00:00:00.000000",
          "2020-01-26T00:00:00.000000",
          "2020-01-27T00:00:00.000000",
          "2020-01-28T00:00:00.000000",
          "2020-01-29T00:00:00.000000",
          "2020-01-30T00:00:00.000000",
          "2020-01-31T00:00:00.000000",
          "2020-02-01T00:00:00.000000",
          "2020-02-02T00:00:00.000000",
          "2020-02-03T00:00:00.000000",
          "2020-02-04T00:00:00.000000",
          "2020-02-05T00:00:00.000000",
          "2020-02-06T00:00:00.000000",
          "2020-02-07T00:00:00.000000",
          "2020-02-08T00:00:00.000000",
          "2020-02-09T00:00:00.000000",
          "2020-02-10T00:00:00.000000",
          "2020-02-11T00:00:00.000000",
          "2020-02-12T00:00:00.000000",
          "2020-02-13T00:00:00.000000",
          "2020-02-14T00:00:00.000000",
          "2020-02-15T00:00:00.000000",
          "2020-02-16T00:00:00.000000",
          "2020-02-17T00:00:00.000000",
          "2020-02-18T00:00:00.000000",
          "2020-02-19T00:00:00.000000",
          "2020-02-20T00:00:00.000000",
          "2020-02-21T00:00:00.000000",
          "2020-02-22T00:00:00.000000",
          "2020-02-23T00:00:00.000000",
          "2020-02-24T00:00:00.000000",
          "2020-02-25T00:00:00.000000",
          "2020-02-26T00:00:00.000000",
          "2020-02-27T00:00:00.000000",
          "2020-02-28T00:00:00.000000",
          "2020-02-29T00:00:00.000000",
          "2020-03-01T00:00:00.000000",
          "2020-03-02T00:00:00.000000",
          "2020-03-03T00:00:00.000000",
          "2020-03-04T00:00:00.000000",
          "2020-03-05T00:00:00.000000",
          "2020-03-06T00:00:00.000000",
          "2020-03-07T00:00:00.000000",
          "2020-03-08T00:00:00.000000",
          "2020-03-09T00:00:00.000000",
          "2020-03-10T00:00:00.000000",
          "2020-03-11T00:00:00.000000",
          "2020-03-12T00:00:00.000000",
          "2020-03-13T00:00:00.000000",
          "2020-03-14T00:00:00.000000",
          "2020-03-15T00:00:00.000000",
          "2020-03-16T00:00:00.000000",
          "2020-03-17T00:00:00.000000",
          "2020-03-18T00:00:00.000000",
          "2020-03-19T00:00:00.000000",
          "2020-03-20T00:00:00.000000",
          "2020-03-21T00:00:00.000000",
          "2020-03-22T00:00:00.000000",
          "2020-03-23T00:00:00.000000",
          "2020-03-24T00:00:00.000000",
          "2020-03-25T00:00:00.000000",
          "2020-03-26T00:00:00.000000",
          "2020-03-27T00:00:00.000000",
          "2020-03-28T00:00:00.000000",
          "2020-03-29T00:00:00.000000",
          "2020-03-30T00:00:00.000000",
          "2020-03-31T00:00:00.000000",
          "2020-04-01T00:00:00.000000",
          "2020-04-02T00:00:00.000000",
          "2020-04-03T00:00:00.000000",
          "2020-04-04T00:00:00.000000",
          "2020-04-05T00:00:00.000000",
          "2020-04-06T00:00:00.000000",
          "2020-04-07T00:00:00.000000",
          "2020-04-08T00:00:00.000000",
          "2020-04-09T00:00:00.000000",
          "2020-04-10T00:00:00.000000",
          "2020-04-11T00:00:00.000000",
          "2020-04-12T00:00:00.000000",
          "2020-04-13T00:00:00.000000",
          "2020-04-14T00:00:00.000000",
          "2020-04-15T00:00:00.000000",
          "2020-04-16T00:00:00.000000",
          "2020-04-17T00:00:00.000000",
          "2020-04-18T00:00:00.000000",
          "2020-04-19T00:00:00.000000",
          "2020-04-20T00:00:00.000000",
          "2020-04-21T00:00:00.000000",
          "2020-04-22T00:00:00.000000",
          "2020-04-23T00:00:00.000000",
          "2020-04-24T00:00:00.000000",
          "2020-04-25T00:00:00.000000",
          "2020-04-26T00:00:00.000000",
          "2020-04-27T00:00:00.000000",
          "2020-04-28T00:00:00.000000",
          "2020-04-29T00:00:00.000000",
          "2020-04-30T00:00:00.000000",
          "2020-05-01T00:00:00.000000",
          "2020-05-02T00:00:00.000000",
          "2020-05-03T00:00:00.000000",
          "2020-05-04T00:00:00.000000",
          "2020-05-05T00:00:00.000000",
          "2020-05-06T00:00:00.000000",
          "2020-05-07T00:00:00.000000",
          "2020-05-08T00:00:00.000000",
          "2020-05-09T00:00:00.000000",
          "2020-05-10T00:00:00.000000",
          "2020-05-11T00:00:00.000000",
          "2020-05-12T00:00:00.000000",
          "2020-05-13T00:00:00.000000",
          "2020-05-14T00:00:00.000000",
          "2020-05-15T00:00:00.000000",
          "2020-05-16T00:00:00.000000",
          "2020-05-17T00:00:00.000000",
          "2020-05-18T00:00:00.000000",
          "2020-05-19T00:00:00.000000",
          "2020-05-20T00:00:00.000000",
          "2020-05-21T00:00:00.000000",
          "2020-05-22T00:00:00.000000",
          "2020-05-23T00:00:00.000000",
          "2020-05-24T00:00:00.000000",
          "2020-05-25T00:00:00.000000",
          "2020-05-26T00:00:00.000000",
          "2020-05-27T00:00:00.000000",
          "2020-05-28T00:00:00.000000",
          "2020-05-29T00:00:00.000000",
          "2020-05-30T00:00:00.000000",
          "2020-05-31T00:00:00.000000",
          "2020-06-01T00:00:00.000000",
          "2020-06-02T00:00:00.000000",
          "2020-06-03T00:00:00.000000",
          "2020-06-04T00:00:00.000000",
          "2020-06-05T00:00:00.000000",
          "2020-06-06T00:00:00.000000",
          "2020-06-07T00:00:00.000000",
          "2020-06-08T00:00:00.000000",
          "2020-06-09T00:00:00.000000",
          "2020-06-10T00:00:00.000000",
          "2020-06-11T00:00:00.000000",
          "2020-06-12T00:00:00.000000",
          "2020-06-13T00:00:00.000000",
          "2020-06-14T00:00:00.000000",
          "2020-06-15T00:00:00.000000",
          "2020-06-16T00:00:00.000000",
          "2020-06-17T00:00:00.000000",
          "2020-06-18T00:00:00.000000",
          "2020-06-19T00:00:00.000000",
          "2020-06-20T00:00:00.000000",
          "2020-06-21T00:00:00.000000",
          "2020-06-22T00:00:00.000000",
          "2020-06-23T00:00:00.000000",
          "2020-06-24T00:00:00.000000",
          "2020-06-25T00:00:00.000000",
          "2020-06-26T00:00:00.000000",
          "2020-06-27T00:00:00.000000",
          "2020-06-28T00:00:00.000000",
          "2020-06-29T00:00:00.000000",
          "2020-06-30T00:00:00.000000",
          "2020-07-01T00:00:00.000000",
          "2020-07-02T00:00:00.000000",
          "2020-07-03T00:00:00.000000",
          "2020-07-04T00:00:00.000000",
          "2020-07-05T00:00:00.000000",
          "2020-07-06T00:00:00.000000",
          "2020-07-07T00:00:00.000000",
          "2020-07-08T00:00:00.000000",
          "2020-07-09T00:00:00.000000",
          "2020-07-10T00:00:00.000000",
          "2020-07-11T00:00:00.000000",
          "2020-07-12T00:00:00.000000",
          "2020-07-13T00:00:00.000000",
          "2020-07-14T00:00:00.000000",
          "2020-07-15T00:00:00.000000",
          "2020-07-16T00:00:00.000000",
          "2020-07-17T00:00:00.000000",
          "2020-07-18T00:00:00.000000",
          "2020-07-19T00:00:00.000000",
          "2020-07-20T00:00:00.000000",
          "2020-07-21T00:00:00.000000",
          "2020-07-22T00:00:00.000000",
          "2020-07-23T00:00:00.000000",
          "2020-07-24T00:00:00.000000",
          "2020-07-25T00:00:00.000000",
          "2020-07-26T00:00:00.000000",
          "2020-07-27T00:00:00.000000",
          "2020-07-28T00:00:00.000000",
          "2020-07-29T00:00:00.000000",
          "2020-07-30T00:00:00.000000",
          "2020-07-31T00:00:00.000000",
          "2020-08-01T00:00:00.000000",
          "2020-08-02T00:00:00.000000",
          "2020-08-03T00:00:00.000000",
          "2020-08-04T00:00:00.000000",
          "2020-08-05T00:00:00.000000",
          "2020-08-06T00:00:00.000000",
          "2020-08-07T00:00:00.000000",
          "2020-08-08T00:00:00.000000",
          "2020-08-09T00:00:00.000000",
          "2020-08-10T00:00:00.000000",
          "2020-08-11T00:00:00.000000",
          "2020-08-12T00:00:00.000000",
          "2020-08-13T00:00:00.000000",
          "2020-08-14T00:00:00.000000",
          "2020-08-15T00:00:00.000000",
          "2020-08-16T00:00:00.000000",
          "2020-08-17T00:00:00.000000",
          "2020-08-18T00:00:00.000000",
          "2020-08-19T00:00:00.000000",
          "2020-08-20T00:00:00.000000",
          "2020-08-21T00:00:00.000000",
          "2020-08-22T00:00:00.000000",
          "2020-08-23T00:00:00.000000",
          "2020-08-24T00:00:00.000000",
          "2020-08-25T00:00:00.000000",
          "2020-08-26T00:00:00.000000",
          "2020-08-27T00:00:00.000000",
          "2020-08-28T00:00:00.000000",
          "2020-08-29T00:00:00.000000",
          "2020-08-30T00:00:00.000000",
          "2020-08-31T00:00:00.000000",
          "2020-09-01T00:00:00.000000",
          "2020-09-02T00:00:00.000000",
          "2020-09-03T00:00:00.000000",
          "2020-09-04T00:00:00.000000",
          "2020-09-05T00:00:00.000000",
          "2020-09-06T00:00:00.000000",
          "2020-09-07T00:00:00.000000",
          "2020-09-08T00:00:00.000000",
          "2020-09-09T00:00:00.000000",
          "2020-09-10T00:00:00.000000",
          "2020-09-11T00:00:00.000000",
          "2020-09-12T00:00:00.000000",
          "2020-09-13T00:00:00.000000",
          "2020-09-14T00:00:00.000000",
          "2020-09-15T00:00:00.000000",
          "2020-09-16T00:00:00.000000",
          "2020-09-17T00:00:00.000000",
          "2020-09-18T00:00:00.000000",
          "2020-09-19T00:00:00.000000",
          "2020-09-20T00:00:00.000000",
          "2020-09-21T00:00:00.000000",
          "2020-09-22T00:00:00.000000",
          "2020-09-23T00:00:00.000000",
          "2020-09-24T00:00:00.000000",
          "2020-09-25T00:00:00.000000",
          "2020-09-26T00:00:00.000000"
         ],
         "xaxis": "x",
         "yaxis": "y2"
        },
        {
         "marker": {
          "color": [
           "green",
           "green",
           "green",
           "green",
           "green",
           "green",
           "green",
           "green",
           "green",
           "green",
           "red",
           "green",
           "green",
           "green",
           "red",
           "green",
           "red",
           "red",
           "red",
           "green",
           "green",
           "red",
           "green",
           "green",
           "red",
           "red",
           "green",
           "green",
           "red",
           "red",
           "green",
           "red",
           "red",
           "red",
           "red",
           "green",
           "red",
           "green",
           "green",
           "red",
           "red",
           "green",
           "green",
           "green",
           "red",
           "green",
           "red",
           "green",
           "green",
           "red",
           "green",
           "green",
           "red",
           "red",
           "green",
           "green",
           "red",
           "red",
           "green",
           "green",
           "green",
           "red",
           "red",
           "red",
           "red",
           "red",
           "green",
           "green",
           "green",
           "red",
           "green",
           "red",
           "red",
           "red",
           "red",
           "red",
           "green",
           "green",
           "red",
           "red",
           "red",
           "red",
           "red",
           "red",
           "red",
           "green",
           "green",
           "green",
           "green",
           "green",
           "green",
           "red",
           "red",
           "green",
           "green",
           "red",
           "green",
           "green",
           "red",
           "green",
           "green",
           "red",
           "green",
           "red",
           "red",
           "green",
           "green",
           "green",
           "red",
           "red",
           "red",
           "red",
           "green",
           "green",
           "red",
           "green",
           "red",
           "green",
           "green",
           "green",
           "green",
           "red",
           "red",
           "red",
           "red",
           "red",
           "red",
           "red",
           "green",
           "red",
           "green",
           "red",
           "green",
           "green",
           "red",
           "green",
           "green",
           "green",
           "green",
           "green",
           "green",
           "red",
           "red",
           "red",
           "red",
           "red",
           "green",
           "green",
           "red",
           "green",
           "red",
           "green",
           "red",
           "red",
           "red",
           "green",
           "green",
           "green",
           "red",
           "green",
           "green",
           "green",
           "red",
           "green",
           "green",
           "green",
           "red",
           "green",
           "green",
           "green",
           "red",
           "green",
           "green",
           "green",
           "red",
           "red",
           "green",
           "red",
           "green",
           "green",
           "red",
           "red",
           "red",
           "red",
           "red",
           "red",
           "red",
           "red",
           "red",
           "green",
           "green",
           "red",
           "green",
           "red",
           "red",
           "red",
           "red",
           "green",
           "green",
           "red",
           "red",
           "red",
           "red",
           "green",
           "green",
           "red",
           "green",
           "red",
           "red",
           "red",
           "green",
           "red",
           "green",
           "red",
           "red",
           "green",
           "green",
           "red",
           "red",
           "green",
           "green",
           "red",
           "red",
           "green",
           "green",
           "red",
           "green",
           "green",
           "red",
           "red",
           "red",
           "green",
           "green",
           "red",
           "red",
           "green",
           "red",
           "red",
           "green",
           "red",
           "red",
           "green",
           "red",
           "green",
           "red",
           "green",
           "green",
           "red",
           "red",
           "red",
           "red",
           "green",
           "green",
           "green",
           "green",
           "green",
           "green",
           "green",
           "red",
           "green",
           "green",
           "green",
           "red",
           "green",
           "red",
           "green",
           "green",
           "green",
           "red",
           "green",
           "red",
           "green",
           "red",
           "green",
           "green",
           "red",
           "red",
           "green",
           "red",
           "red",
           "red",
           "red",
           "green",
           "red",
           "red",
           "green",
           "green",
           "red",
           "green",
           "green",
           "red",
           "red",
           "red",
           "red",
           "red",
           "green",
           "green",
           "red",
           "red",
           "red",
           "green",
           "red",
           "red",
           "red",
           "green",
           "red",
           "green",
           "green",
           "green",
           "green",
           "red",
           "red",
           "green",
           "red",
           "green",
           "green",
           "green",
           "green",
           "red",
           "red",
           "green",
           "red",
           "red",
           "green",
           "red",
           "red",
           "red",
           "green",
           "red",
           "red",
           "green",
           "red",
           "red",
           "green",
           "green",
           "red",
           "red",
           "green",
           "red",
           "red",
           "red",
           "green",
           "red",
           "red",
           "red",
           "red",
           "green",
           "red",
           "red",
           "green",
           "green",
           "green",
           "green",
           "red",
           "green",
           "red",
           "red",
           "green",
           "green",
           "red",
           "green",
           "green",
           "red",
           "red",
           "green",
           "red",
           "green",
           "red",
           "green",
           "green",
           "green",
           "green",
           "red",
           "red",
           "red",
           "red",
           "red",
           "red",
           "green",
           "red",
           "red",
           "red",
           "red",
           "green",
           "green",
           "red",
           "green",
           "red",
           "green",
           "green",
           "green",
           "green",
           "red",
           "green",
           "green",
           "green",
           "green",
           "green",
           "red",
           "green",
           "green",
           "green",
           "green",
           "green",
           "green",
           "red",
           "green",
           "red",
           "red",
           "red",
           "red",
           "green",
           "red",
           "red",
           "green",
           "red",
           "green",
           "green",
           "green",
           "green",
           "green",
           "red",
           "red",
           "red",
           "red",
           "green",
           "red",
           "green",
           "red",
           "green",
           "green",
           "green",
           "green",
           "red",
           "green",
           "green",
           "green",
           "red",
           "red",
           "red",
           "green",
           "red",
           "red",
           "green",
           "green",
           "red",
           "red",
           "red",
           "green",
           "green",
           "green",
           "green",
           "green",
           "green",
           "red",
           "green",
           "red",
           "green",
           "red",
           "green",
           "red",
           "red",
           "red",
           "red",
           "green",
           "red",
           "green",
           "red",
           "green",
           "green",
           "green",
           "green",
           "red",
           "red",
           "red",
           "green",
           "green",
           "red",
           "red",
           "red",
           "red",
           "green",
           "red",
           "red",
           "green",
           "red",
           "green",
           "red",
           "green",
           "green",
           "green",
           "red",
           "red",
           "green",
           "green",
           "green",
           "green",
           "green",
           "green",
           "red",
           "red",
           "red",
           "green",
           "red",
           "red",
           "green",
           "green",
           "green",
           "red",
           "red",
           "red",
           "green",
           "red",
           "red",
           "green",
           "green",
           "red",
           "green",
           "red",
           "green",
           "green",
           "green",
           "red",
           "green",
           "red",
           "red",
           "green",
           "green",
           "red",
           "green",
           "green",
           "green",
           "green",
           "red",
           "green",
           "red",
           "red",
           "red",
           "red",
           "red",
           "green",
           "green",
           "red",
           "red",
           "green",
           "green",
           "red",
           "green",
           "red",
           "red",
           "red",
           "green",
           "red",
           "green",
           "green",
           "red",
           "green",
           "green",
           "red",
           "green",
           "green",
           "red",
           "red",
           "green",
           "green",
           "green",
           "red",
           "green",
           "green",
           "red",
           "green",
           "red",
           "green",
           "green",
           "red",
           "red",
           "red",
           "green",
           "green",
           "red",
           "green",
           "green",
           "green",
           "green",
           "green",
           "green",
           "green",
           "green",
           "red",
           "red",
           "red",
           "red",
           "red",
           "green",
           "green",
           "green",
           "green",
           "red",
           "green",
           "red",
           "green",
           "red",
           "green",
           "red",
           "green",
           "green",
           "green",
           "red",
           "red",
           "green",
           "green",
           "red",
           "green",
           "red",
           "green",
           "red",
           "red",
           "red",
           "red",
           "green",
           "green",
           "green",
           "green",
           "red",
           "red",
           "green",
           "red",
           "green",
           "red",
           "green",
           "green",
           "green",
           "red",
           "green",
           "green",
           "red",
           "red",
           "red",
           "green",
           "red",
           "green",
           "green",
           "green",
           "green",
           "green",
           "red",
           "green",
           "green",
           "green",
           "red",
           "green",
           "green",
           "green",
           "green",
           "green",
           "red",
           "red",
           "red",
           "red",
           "green",
           "red",
           "green",
           "green",
           "red",
           "green",
           "red",
           "red",
           "red",
           "red",
           "red",
           "red",
           "green",
           "red",
           "green",
           "red",
           "green",
           "red",
           "green",
           "green",
           "green",
           "green",
           "red",
           "red",
           "green",
           "red",
           "red",
           "green",
           "green",
           "red",
           "red",
           "green",
           "red",
           "red",
           "green",
           "green",
           "red",
           "green",
           "green",
           "green",
           "red",
           "green",
           "green",
           "red",
           "red",
           "green",
           "red",
           "red",
           "red",
           "red",
           "red",
           "green",
           "red",
           "green",
           "red",
           "green",
           "red",
           "green",
           "green",
           "green",
           "green",
           "green",
           "green",
           "red",
           "green",
           "green",
           "red",
           "red",
           "green",
           "red",
           "green",
           "red",
           "red",
           "red",
           "green",
           "red",
           "red",
           "green",
           "green",
           "red",
           "red",
           "green",
           "green",
           "red",
           "green",
           "green",
           "green",
           "red",
           "red",
           "green",
           "red",
           "green",
           "green",
           "green",
           "green",
           "green",
           "red",
           "red",
           "green",
           "red",
           "red",
           "red",
           "red",
           "red",
           "green",
           "red",
           "red",
           "green",
           "green",
           "red",
           "green",
           "green",
           "red",
           "red",
           "green",
           "red",
           "red",
           "green",
           "red",
           "red",
           "green",
           "green",
           "red",
           "red",
           "red",
           "green",
           "red",
           "red",
           "green",
           "green",
           "red",
           "red",
           "red",
           "red",
           "red",
           "green",
           "green",
           "green",
           "green",
           "green",
           "red",
           "red",
           "green",
           "red",
           "red",
           "green",
           "green",
           "red",
           "green",
           "red",
           "red",
           "red",
           "red",
           "green",
           "red",
           "red",
           "green",
           "red",
           "red",
           "red",
           "green",
           "red",
           "green",
           "red",
           "red",
           "green",
           "green",
           "green",
           "red",
           "red",
           "red",
           "green",
           "green",
           "green",
           "red",
           "red",
           "green",
           "green",
           "green",
           "red",
           "green",
           "red",
           "red",
           "green",
           "green",
           "red",
           "red",
           "green",
           "red",
           "red",
           "green",
           "green",
           "red",
           "green",
           "red",
           "green",
           "green",
           "red",
           "red",
           "green",
           "green",
           "red",
           "green",
           "green",
           "green",
           "green",
           "green",
           "green",
           "red",
           "red",
           "red",
           "red",
           "red",
           "red",
           "red",
           "red",
           "green",
           "green",
           "red",
           "green",
           "green",
           "red",
           "green",
           "green",
           "green",
           "green",
           "green",
           "green",
           "red",
           "green",
           "green",
           "red",
           "red",
           "red",
           "red",
           "green",
           "red",
           "red",
           "red",
           "green",
           "red",
           "red",
           "red",
           "red",
           "green",
           "red",
           "red",
           "red",
           "red",
           "red",
           "green",
           "red",
           "green",
           "red",
           "red",
           "green",
           "green",
           "green",
           "red",
           "green",
           "red",
           "red",
           "red",
           "red",
           "red",
           "green",
           "red",
           "red",
           "red",
           "green",
           "green",
           "red",
           "red",
           "red",
           "green",
           "red",
           "red",
           "green",
           "green",
           "red",
           "green",
           "green",
           "red",
           "green",
           "red",
           "red",
           "red",
           "red",
           "red",
           "green",
           "red",
           "green",
           "green",
           "green",
           "green",
           "green",
           "green",
           "red",
           "green",
           "red",
           "green",
           "red",
           "green",
           "green",
           "green",
           "green",
           "red",
           "green",
           "red",
           "red",
           "red",
           "green",
           "red",
           "red",
           "green",
           "red",
           "green",
           "green",
           "green",
           "green",
           "green",
           "green",
           "red",
           "green",
           "green",
           "green",
           "red",
           "red",
           "green",
           "green",
           "red",
           "green",
           "red",
           "green",
           "green",
           "red",
           "green",
           "green",
           "red",
           "green",
           "red"
          ],
          "line": {
           "width": 0
          }
         },
         "name": "Volume",
         "type": "bar",
         "uid": "55fcae6b-926a-404f-b2fe-10cd03869fd7",
         "x": [
          "2018-01-01T00:00:00.000000",
          "2018-01-02T00:00:00.000000",
          "2018-01-03T00:00:00.000000",
          "2018-01-04T00:00:00.000000",
          "2018-01-05T00:00:00.000000",
          "2018-01-06T00:00:00.000000",
          "2018-01-07T00:00:00.000000",
          "2018-01-08T00:00:00.000000",
          "2018-01-09T00:00:00.000000",
          "2018-01-10T00:00:00.000000",
          "2018-01-11T00:00:00.000000",
          "2018-01-12T00:00:00.000000",
          "2018-01-13T00:00:00.000000",
          "2018-01-14T00:00:00.000000",
          "2018-01-15T00:00:00.000000",
          "2018-01-16T00:00:00.000000",
          "2018-01-17T00:00:00.000000",
          "2018-01-18T00:00:00.000000",
          "2018-01-19T00:00:00.000000",
          "2018-01-20T00:00:00.000000",
          "2018-01-21T00:00:00.000000",
          "2018-01-22T00:00:00.000000",
          "2018-01-23T00:00:00.000000",
          "2018-01-24T00:00:00.000000",
          "2018-01-25T00:00:00.000000",
          "2018-01-26T00:00:00.000000",
          "2018-01-27T00:00:00.000000",
          "2018-01-28T00:00:00.000000",
          "2018-01-29T00:00:00.000000",
          "2018-01-30T00:00:00.000000",
          "2018-01-31T00:00:00.000000",
          "2018-02-01T00:00:00.000000",
          "2018-02-02T00:00:00.000000",
          "2018-02-03T00:00:00.000000",
          "2018-02-04T00:00:00.000000",
          "2018-02-05T00:00:00.000000",
          "2018-02-06T00:00:00.000000",
          "2018-02-07T00:00:00.000000",
          "2018-02-08T00:00:00.000000",
          "2018-02-09T00:00:00.000000",
          "2018-02-10T00:00:00.000000",
          "2018-02-11T00:00:00.000000",
          "2018-02-12T00:00:00.000000",
          "2018-02-13T00:00:00.000000",
          "2018-02-14T00:00:00.000000",
          "2018-02-15T00:00:00.000000",
          "2018-02-16T00:00:00.000000",
          "2018-02-17T00:00:00.000000",
          "2018-02-18T00:00:00.000000",
          "2018-02-19T00:00:00.000000",
          "2018-02-20T00:00:00.000000",
          "2018-02-21T00:00:00.000000",
          "2018-02-22T00:00:00.000000",
          "2018-02-23T00:00:00.000000",
          "2018-02-24T00:00:00.000000",
          "2018-02-25T00:00:00.000000",
          "2018-02-26T00:00:00.000000",
          "2018-02-27T00:00:00.000000",
          "2018-02-28T00:00:00.000000",
          "2018-03-01T00:00:00.000000",
          "2018-03-02T00:00:00.000000",
          "2018-03-03T00:00:00.000000",
          "2018-03-04T00:00:00.000000",
          "2018-03-05T00:00:00.000000",
          "2018-03-06T00:00:00.000000",
          "2018-03-07T00:00:00.000000",
          "2018-03-08T00:00:00.000000",
          "2018-03-09T00:00:00.000000",
          "2018-03-10T00:00:00.000000",
          "2018-03-11T00:00:00.000000",
          "2018-03-12T00:00:00.000000",
          "2018-03-13T00:00:00.000000",
          "2018-03-14T00:00:00.000000",
          "2018-03-15T00:00:00.000000",
          "2018-03-16T00:00:00.000000",
          "2018-03-17T00:00:00.000000",
          "2018-03-18T00:00:00.000000",
          "2018-03-19T00:00:00.000000",
          "2018-03-20T00:00:00.000000",
          "2018-03-21T00:00:00.000000",
          "2018-03-22T00:00:00.000000",
          "2018-03-23T00:00:00.000000",
          "2018-03-24T00:00:00.000000",
          "2018-03-25T00:00:00.000000",
          "2018-03-26T00:00:00.000000",
          "2018-03-27T00:00:00.000000",
          "2018-03-28T00:00:00.000000",
          "2018-03-29T00:00:00.000000",
          "2018-03-30T00:00:00.000000",
          "2018-03-31T00:00:00.000000",
          "2018-04-01T00:00:00.000000",
          "2018-04-02T00:00:00.000000",
          "2018-04-03T00:00:00.000000",
          "2018-04-04T00:00:00.000000",
          "2018-04-05T00:00:00.000000",
          "2018-04-06T00:00:00.000000",
          "2018-04-07T00:00:00.000000",
          "2018-04-08T00:00:00.000000",
          "2018-04-09T00:00:00.000000",
          "2018-04-10T00:00:00.000000",
          "2018-04-11T00:00:00.000000",
          "2018-04-12T00:00:00.000000",
          "2018-04-13T00:00:00.000000",
          "2018-04-14T00:00:00.000000",
          "2018-04-15T00:00:00.000000",
          "2018-04-16T00:00:00.000000",
          "2018-04-17T00:00:00.000000",
          "2018-04-18T00:00:00.000000",
          "2018-04-19T00:00:00.000000",
          "2018-04-20T00:00:00.000000",
          "2018-04-21T00:00:00.000000",
          "2018-04-22T00:00:00.000000",
          "2018-04-23T00:00:00.000000",
          "2018-04-24T00:00:00.000000",
          "2018-04-25T00:00:00.000000",
          "2018-04-26T00:00:00.000000",
          "2018-04-27T00:00:00.000000",
          "2018-04-28T00:00:00.000000",
          "2018-04-29T00:00:00.000000",
          "2018-04-30T00:00:00.000000",
          "2018-05-01T00:00:00.000000",
          "2018-05-02T00:00:00.000000",
          "2018-05-03T00:00:00.000000",
          "2018-05-04T00:00:00.000000",
          "2018-05-05T00:00:00.000000",
          "2018-05-06T00:00:00.000000",
          "2018-05-07T00:00:00.000000",
          "2018-05-08T00:00:00.000000",
          "2018-05-09T00:00:00.000000",
          "2018-05-10T00:00:00.000000",
          "2018-05-11T00:00:00.000000",
          "2018-05-12T00:00:00.000000",
          "2018-05-13T00:00:00.000000",
          "2018-05-14T00:00:00.000000",
          "2018-05-15T00:00:00.000000",
          "2018-05-16T00:00:00.000000",
          "2018-05-17T00:00:00.000000",
          "2018-05-18T00:00:00.000000",
          "2018-05-19T00:00:00.000000",
          "2018-05-20T00:00:00.000000",
          "2018-05-21T00:00:00.000000",
          "2018-05-22T00:00:00.000000",
          "2018-05-23T00:00:00.000000",
          "2018-05-24T00:00:00.000000",
          "2018-05-25T00:00:00.000000",
          "2018-05-26T00:00:00.000000",
          "2018-05-27T00:00:00.000000",
          "2018-05-28T00:00:00.000000",
          "2018-05-29T00:00:00.000000",
          "2018-05-30T00:00:00.000000",
          "2018-05-31T00:00:00.000000",
          "2018-06-01T00:00:00.000000",
          "2018-06-02T00:00:00.000000",
          "2018-06-03T00:00:00.000000",
          "2018-06-04T00:00:00.000000",
          "2018-06-05T00:00:00.000000",
          "2018-06-06T00:00:00.000000",
          "2018-06-07T00:00:00.000000",
          "2018-06-08T00:00:00.000000",
          "2018-06-09T00:00:00.000000",
          "2018-06-10T00:00:00.000000",
          "2018-06-11T00:00:00.000000",
          "2018-06-12T00:00:00.000000",
          "2018-06-13T00:00:00.000000",
          "2018-06-14T00:00:00.000000",
          "2018-06-15T00:00:00.000000",
          "2018-06-16T00:00:00.000000",
          "2018-06-17T00:00:00.000000",
          "2018-06-18T00:00:00.000000",
          "2018-06-19T00:00:00.000000",
          "2018-06-20T00:00:00.000000",
          "2018-06-21T00:00:00.000000",
          "2018-06-22T00:00:00.000000",
          "2018-06-23T00:00:00.000000",
          "2018-06-24T00:00:00.000000",
          "2018-06-25T00:00:00.000000",
          "2018-06-26T00:00:00.000000",
          "2018-06-27T00:00:00.000000",
          "2018-06-28T00:00:00.000000",
          "2018-06-29T00:00:00.000000",
          "2018-06-30T00:00:00.000000",
          "2018-07-01T00:00:00.000000",
          "2018-07-02T00:00:00.000000",
          "2018-07-03T00:00:00.000000",
          "2018-07-04T00:00:00.000000",
          "2018-07-05T00:00:00.000000",
          "2018-07-06T00:00:00.000000",
          "2018-07-07T00:00:00.000000",
          "2018-07-08T00:00:00.000000",
          "2018-07-09T00:00:00.000000",
          "2018-07-10T00:00:00.000000",
          "2018-07-11T00:00:00.000000",
          "2018-07-12T00:00:00.000000",
          "2018-07-13T00:00:00.000000",
          "2018-07-14T00:00:00.000000",
          "2018-07-15T00:00:00.000000",
          "2018-07-16T00:00:00.000000",
          "2018-07-17T00:00:00.000000",
          "2018-07-18T00:00:00.000000",
          "2018-07-19T00:00:00.000000",
          "2018-07-20T00:00:00.000000",
          "2018-07-21T00:00:00.000000",
          "2018-07-22T00:00:00.000000",
          "2018-07-23T00:00:00.000000",
          "2018-07-24T00:00:00.000000",
          "2018-07-25T00:00:00.000000",
          "2018-07-26T00:00:00.000000",
          "2018-07-27T00:00:00.000000",
          "2018-07-28T00:00:00.000000",
          "2018-07-29T00:00:00.000000",
          "2018-07-30T00:00:00.000000",
          "2018-07-31T00:00:00.000000",
          "2018-08-01T00:00:00.000000",
          "2018-08-02T00:00:00.000000",
          "2018-08-03T00:00:00.000000",
          "2018-08-04T00:00:00.000000",
          "2018-08-05T00:00:00.000000",
          "2018-08-06T00:00:00.000000",
          "2018-08-07T00:00:00.000000",
          "2018-08-08T00:00:00.000000",
          "2018-08-09T00:00:00.000000",
          "2018-08-10T00:00:00.000000",
          "2018-08-11T00:00:00.000000",
          "2018-08-12T00:00:00.000000",
          "2018-08-13T00:00:00.000000",
          "2018-08-14T00:00:00.000000",
          "2018-08-15T00:00:00.000000",
          "2018-08-16T00:00:00.000000",
          "2018-08-17T00:00:00.000000",
          "2018-08-18T00:00:00.000000",
          "2018-08-19T00:00:00.000000",
          "2018-08-20T00:00:00.000000",
          "2018-08-21T00:00:00.000000",
          "2018-08-22T00:00:00.000000",
          "2018-08-23T00:00:00.000000",
          "2018-08-24T00:00:00.000000",
          "2018-08-25T00:00:00.000000",
          "2018-08-26T00:00:00.000000",
          "2018-08-27T00:00:00.000000",
          "2018-08-28T00:00:00.000000",
          "2018-08-29T00:00:00.000000",
          "2018-08-30T00:00:00.000000",
          "2018-08-31T00:00:00.000000",
          "2018-09-01T00:00:00.000000",
          "2018-09-02T00:00:00.000000",
          "2018-09-03T00:00:00.000000",
          "2018-09-04T00:00:00.000000",
          "2018-09-05T00:00:00.000000",
          "2018-09-06T00:00:00.000000",
          "2018-09-07T00:00:00.000000",
          "2018-09-08T00:00:00.000000",
          "2018-09-09T00:00:00.000000",
          "2018-09-10T00:00:00.000000",
          "2018-09-11T00:00:00.000000",
          "2018-09-12T00:00:00.000000",
          "2018-09-13T00:00:00.000000",
          "2018-09-14T00:00:00.000000",
          "2018-09-15T00:00:00.000000",
          "2018-09-16T00:00:00.000000",
          "2018-09-17T00:00:00.000000",
          "2018-09-18T00:00:00.000000",
          "2018-09-19T00:00:00.000000",
          "2018-09-20T00:00:00.000000",
          "2018-09-21T00:00:00.000000",
          "2018-09-22T00:00:00.000000",
          "2018-09-23T00:00:00.000000",
          "2018-09-24T00:00:00.000000",
          "2018-09-25T00:00:00.000000",
          "2018-09-26T00:00:00.000000",
          "2018-09-27T00:00:00.000000",
          "2018-09-28T00:00:00.000000",
          "2018-09-29T00:00:00.000000",
          "2018-09-30T00:00:00.000000",
          "2018-10-01T00:00:00.000000",
          "2018-10-02T00:00:00.000000",
          "2018-10-03T00:00:00.000000",
          "2018-10-04T00:00:00.000000",
          "2018-10-05T00:00:00.000000",
          "2018-10-06T00:00:00.000000",
          "2018-10-07T00:00:00.000000",
          "2018-10-08T00:00:00.000000",
          "2018-10-09T00:00:00.000000",
          "2018-10-10T00:00:00.000000",
          "2018-10-11T00:00:00.000000",
          "2018-10-12T00:00:00.000000",
          "2018-10-13T00:00:00.000000",
          "2018-10-14T00:00:00.000000",
          "2018-10-15T00:00:00.000000",
          "2018-10-16T00:00:00.000000",
          "2018-10-17T00:00:00.000000",
          "2018-10-18T00:00:00.000000",
          "2018-10-19T00:00:00.000000",
          "2018-10-20T00:00:00.000000",
          "2018-10-21T00:00:00.000000",
          "2018-10-22T00:00:00.000000",
          "2018-10-23T00:00:00.000000",
          "2018-10-24T00:00:00.000000",
          "2018-10-25T00:00:00.000000",
          "2018-10-26T00:00:00.000000",
          "2018-10-27T00:00:00.000000",
          "2018-10-28T00:00:00.000000",
          "2018-10-29T00:00:00.000000",
          "2018-10-30T00:00:00.000000",
          "2018-10-31T00:00:00.000000",
          "2018-11-01T00:00:00.000000",
          "2018-11-02T00:00:00.000000",
          "2018-11-03T00:00:00.000000",
          "2018-11-04T00:00:00.000000",
          "2018-11-05T00:00:00.000000",
          "2018-11-06T00:00:00.000000",
          "2018-11-07T00:00:00.000000",
          "2018-11-08T00:00:00.000000",
          "2018-11-09T00:00:00.000000",
          "2018-11-10T00:00:00.000000",
          "2018-11-11T00:00:00.000000",
          "2018-11-12T00:00:00.000000",
          "2018-11-13T00:00:00.000000",
          "2018-11-14T00:00:00.000000",
          "2018-11-15T00:00:00.000000",
          "2018-11-16T00:00:00.000000",
          "2018-11-17T00:00:00.000000",
          "2018-11-18T00:00:00.000000",
          "2018-11-19T00:00:00.000000",
          "2018-11-20T00:00:00.000000",
          "2018-11-21T00:00:00.000000",
          "2018-11-22T00:00:00.000000",
          "2018-11-23T00:00:00.000000",
          "2018-11-24T00:00:00.000000",
          "2018-11-25T00:00:00.000000",
          "2018-11-26T00:00:00.000000",
          "2018-11-27T00:00:00.000000",
          "2018-11-28T00:00:00.000000",
          "2018-11-29T00:00:00.000000",
          "2018-11-30T00:00:00.000000",
          "2018-12-01T00:00:00.000000",
          "2018-12-02T00:00:00.000000",
          "2018-12-03T00:00:00.000000",
          "2018-12-04T00:00:00.000000",
          "2018-12-05T00:00:00.000000",
          "2018-12-06T00:00:00.000000",
          "2018-12-07T00:00:00.000000",
          "2018-12-08T00:00:00.000000",
          "2018-12-09T00:00:00.000000",
          "2018-12-10T00:00:00.000000",
          "2018-12-11T00:00:00.000000",
          "2018-12-12T00:00:00.000000",
          "2018-12-13T00:00:00.000000",
          "2018-12-14T00:00:00.000000",
          "2018-12-15T00:00:00.000000",
          "2018-12-16T00:00:00.000000",
          "2018-12-17T00:00:00.000000",
          "2018-12-18T00:00:00.000000",
          "2018-12-19T00:00:00.000000",
          "2018-12-20T00:00:00.000000",
          "2018-12-21T00:00:00.000000",
          "2018-12-22T00:00:00.000000",
          "2018-12-23T00:00:00.000000",
          "2018-12-24T00:00:00.000000",
          "2018-12-25T00:00:00.000000",
          "2018-12-26T00:00:00.000000",
          "2018-12-27T00:00:00.000000",
          "2018-12-28T00:00:00.000000",
          "2018-12-29T00:00:00.000000",
          "2018-12-30T00:00:00.000000",
          "2018-12-31T00:00:00.000000",
          "2019-01-01T00:00:00.000000",
          "2019-01-02T00:00:00.000000",
          "2019-01-03T00:00:00.000000",
          "2019-01-04T00:00:00.000000",
          "2019-01-05T00:00:00.000000",
          "2019-01-06T00:00:00.000000",
          "2019-01-07T00:00:00.000000",
          "2019-01-08T00:00:00.000000",
          "2019-01-09T00:00:00.000000",
          "2019-01-10T00:00:00.000000",
          "2019-01-11T00:00:00.000000",
          "2019-01-12T00:00:00.000000",
          "2019-01-13T00:00:00.000000",
          "2019-01-14T00:00:00.000000",
          "2019-01-15T00:00:00.000000",
          "2019-01-16T00:00:00.000000",
          "2019-01-17T00:00:00.000000",
          "2019-01-18T00:00:00.000000",
          "2019-01-19T00:00:00.000000",
          "2019-01-20T00:00:00.000000",
          "2019-01-21T00:00:00.000000",
          "2019-01-22T00:00:00.000000",
          "2019-01-23T00:00:00.000000",
          "2019-01-24T00:00:00.000000",
          "2019-01-25T00:00:00.000000",
          "2019-01-26T00:00:00.000000",
          "2019-01-27T00:00:00.000000",
          "2019-01-28T00:00:00.000000",
          "2019-01-29T00:00:00.000000",
          "2019-01-30T00:00:00.000000",
          "2019-01-31T00:00:00.000000",
          "2019-02-01T00:00:00.000000",
          "2019-02-02T00:00:00.000000",
          "2019-02-03T00:00:00.000000",
          "2019-02-04T00:00:00.000000",
          "2019-02-05T00:00:00.000000",
          "2019-02-06T00:00:00.000000",
          "2019-02-07T00:00:00.000000",
          "2019-02-08T00:00:00.000000",
          "2019-02-09T00:00:00.000000",
          "2019-02-10T00:00:00.000000",
          "2019-02-11T00:00:00.000000",
          "2019-02-12T00:00:00.000000",
          "2019-02-13T00:00:00.000000",
          "2019-02-14T00:00:00.000000",
          "2019-02-15T00:00:00.000000",
          "2019-02-16T00:00:00.000000",
          "2019-02-17T00:00:00.000000",
          "2019-02-18T00:00:00.000000",
          "2019-02-19T00:00:00.000000",
          "2019-02-20T00:00:00.000000",
          "2019-02-21T00:00:00.000000",
          "2019-02-22T00:00:00.000000",
          "2019-02-23T00:00:00.000000",
          "2019-02-24T00:00:00.000000",
          "2019-02-25T00:00:00.000000",
          "2019-02-26T00:00:00.000000",
          "2019-02-27T00:00:00.000000",
          "2019-02-28T00:00:00.000000",
          "2019-03-01T00:00:00.000000",
          "2019-03-02T00:00:00.000000",
          "2019-03-03T00:00:00.000000",
          "2019-03-04T00:00:00.000000",
          "2019-03-05T00:00:00.000000",
          "2019-03-06T00:00:00.000000",
          "2019-03-07T00:00:00.000000",
          "2019-03-08T00:00:00.000000",
          "2019-03-09T00:00:00.000000",
          "2019-03-10T00:00:00.000000",
          "2019-03-11T00:00:00.000000",
          "2019-03-12T00:00:00.000000",
          "2019-03-13T00:00:00.000000",
          "2019-03-14T00:00:00.000000",
          "2019-03-15T00:00:00.000000",
          "2019-03-16T00:00:00.000000",
          "2019-03-17T00:00:00.000000",
          "2019-03-18T00:00:00.000000",
          "2019-03-19T00:00:00.000000",
          "2019-03-20T00:00:00.000000",
          "2019-03-21T00:00:00.000000",
          "2019-03-22T00:00:00.000000",
          "2019-03-23T00:00:00.000000",
          "2019-03-24T00:00:00.000000",
          "2019-03-25T00:00:00.000000",
          "2019-03-26T00:00:00.000000",
          "2019-03-27T00:00:00.000000",
          "2019-03-28T00:00:00.000000",
          "2019-03-29T00:00:00.000000",
          "2019-03-30T00:00:00.000000",
          "2019-03-31T00:00:00.000000",
          "2019-04-01T00:00:00.000000",
          "2019-04-02T00:00:00.000000",
          "2019-04-03T00:00:00.000000",
          "2019-04-04T00:00:00.000000",
          "2019-04-05T00:00:00.000000",
          "2019-04-06T00:00:00.000000",
          "2019-04-07T00:00:00.000000",
          "2019-04-08T00:00:00.000000",
          "2019-04-09T00:00:00.000000",
          "2019-04-10T00:00:00.000000",
          "2019-04-11T00:00:00.000000",
          "2019-04-12T00:00:00.000000",
          "2019-04-13T00:00:00.000000",
          "2019-04-14T00:00:00.000000",
          "2019-04-15T00:00:00.000000",
          "2019-04-16T00:00:00.000000",
          "2019-04-17T00:00:00.000000",
          "2019-04-18T00:00:00.000000",
          "2019-04-19T00:00:00.000000",
          "2019-04-20T00:00:00.000000",
          "2019-04-21T00:00:00.000000",
          "2019-04-22T00:00:00.000000",
          "2019-04-23T00:00:00.000000",
          "2019-04-24T00:00:00.000000",
          "2019-04-25T00:00:00.000000",
          "2019-04-26T00:00:00.000000",
          "2019-04-27T00:00:00.000000",
          "2019-04-28T00:00:00.000000",
          "2019-04-29T00:00:00.000000",
          "2019-04-30T00:00:00.000000",
          "2019-05-01T00:00:00.000000",
          "2019-05-02T00:00:00.000000",
          "2019-05-03T00:00:00.000000",
          "2019-05-04T00:00:00.000000",
          "2019-05-05T00:00:00.000000",
          "2019-05-06T00:00:00.000000",
          "2019-05-07T00:00:00.000000",
          "2019-05-08T00:00:00.000000",
          "2019-05-09T00:00:00.000000",
          "2019-05-10T00:00:00.000000",
          "2019-05-11T00:00:00.000000",
          "2019-05-12T00:00:00.000000",
          "2019-05-13T00:00:00.000000",
          "2019-05-14T00:00:00.000000",
          "2019-05-15T00:00:00.000000",
          "2019-05-16T00:00:00.000000",
          "2019-05-17T00:00:00.000000",
          "2019-05-18T00:00:00.000000",
          "2019-05-19T00:00:00.000000",
          "2019-05-20T00:00:00.000000",
          "2019-05-21T00:00:00.000000",
          "2019-05-22T00:00:00.000000",
          "2019-05-23T00:00:00.000000",
          "2019-05-24T00:00:00.000000",
          "2019-05-25T00:00:00.000000",
          "2019-05-26T00:00:00.000000",
          "2019-05-27T00:00:00.000000",
          "2019-05-28T00:00:00.000000",
          "2019-05-29T00:00:00.000000",
          "2019-05-30T00:00:00.000000",
          "2019-05-31T00:00:00.000000",
          "2019-06-01T00:00:00.000000",
          "2019-06-02T00:00:00.000000",
          "2019-06-03T00:00:00.000000",
          "2019-06-04T00:00:00.000000",
          "2019-06-05T00:00:00.000000",
          "2019-06-06T00:00:00.000000",
          "2019-06-07T00:00:00.000000",
          "2019-06-08T00:00:00.000000",
          "2019-06-09T00:00:00.000000",
          "2019-06-10T00:00:00.000000",
          "2019-06-11T00:00:00.000000",
          "2019-06-12T00:00:00.000000",
          "2019-06-13T00:00:00.000000",
          "2019-06-14T00:00:00.000000",
          "2019-06-15T00:00:00.000000",
          "2019-06-16T00:00:00.000000",
          "2019-06-17T00:00:00.000000",
          "2019-06-18T00:00:00.000000",
          "2019-06-19T00:00:00.000000",
          "2019-06-20T00:00:00.000000",
          "2019-06-21T00:00:00.000000",
          "2019-06-22T00:00:00.000000",
          "2019-06-23T00:00:00.000000",
          "2019-06-24T00:00:00.000000",
          "2019-06-25T00:00:00.000000",
          "2019-06-26T00:00:00.000000",
          "2019-06-27T00:00:00.000000",
          "2019-06-28T00:00:00.000000",
          "2019-06-29T00:00:00.000000",
          "2019-06-30T00:00:00.000000",
          "2019-07-01T00:00:00.000000",
          "2019-07-02T00:00:00.000000",
          "2019-07-03T00:00:00.000000",
          "2019-07-04T00:00:00.000000",
          "2019-07-05T00:00:00.000000",
          "2019-07-06T00:00:00.000000",
          "2019-07-07T00:00:00.000000",
          "2019-07-08T00:00:00.000000",
          "2019-07-09T00:00:00.000000",
          "2019-07-10T00:00:00.000000",
          "2019-07-11T00:00:00.000000",
          "2019-07-12T00:00:00.000000",
          "2019-07-13T00:00:00.000000",
          "2019-07-14T00:00:00.000000",
          "2019-07-15T00:00:00.000000",
          "2019-07-16T00:00:00.000000",
          "2019-07-17T00:00:00.000000",
          "2019-07-18T00:00:00.000000",
          "2019-07-19T00:00:00.000000",
          "2019-07-20T00:00:00.000000",
          "2019-07-21T00:00:00.000000",
          "2019-07-22T00:00:00.000000",
          "2019-07-23T00:00:00.000000",
          "2019-07-24T00:00:00.000000",
          "2019-07-25T00:00:00.000000",
          "2019-07-26T00:00:00.000000",
          "2019-07-27T00:00:00.000000",
          "2019-07-28T00:00:00.000000",
          "2019-07-29T00:00:00.000000",
          "2019-07-30T00:00:00.000000",
          "2019-07-31T00:00:00.000000",
          "2019-08-01T00:00:00.000000",
          "2019-08-02T00:00:00.000000",
          "2019-08-03T00:00:00.000000",
          "2019-08-04T00:00:00.000000",
          "2019-08-05T00:00:00.000000",
          "2019-08-06T00:00:00.000000",
          "2019-08-07T00:00:00.000000",
          "2019-08-08T00:00:00.000000",
          "2019-08-09T00:00:00.000000",
          "2019-08-10T00:00:00.000000",
          "2019-08-11T00:00:00.000000",
          "2019-08-12T00:00:00.000000",
          "2019-08-13T00:00:00.000000",
          "2019-08-14T00:00:00.000000",
          "2019-08-15T00:00:00.000000",
          "2019-08-16T00:00:00.000000",
          "2019-08-17T00:00:00.000000",
          "2019-08-18T00:00:00.000000",
          "2019-08-19T00:00:00.000000",
          "2019-08-20T00:00:00.000000",
          "2019-08-21T00:00:00.000000",
          "2019-08-22T00:00:00.000000",
          "2019-08-23T00:00:00.000000",
          "2019-08-24T00:00:00.000000",
          "2019-08-25T00:00:00.000000",
          "2019-08-26T00:00:00.000000",
          "2019-08-27T00:00:00.000000",
          "2019-08-28T00:00:00.000000",
          "2019-08-29T00:00:00.000000",
          "2019-08-30T00:00:00.000000",
          "2019-08-31T00:00:00.000000",
          "2019-09-01T00:00:00.000000",
          "2019-09-02T00:00:00.000000",
          "2019-09-03T00:00:00.000000",
          "2019-09-04T00:00:00.000000",
          "2019-09-05T00:00:00.000000",
          "2019-09-06T00:00:00.000000",
          "2019-09-07T00:00:00.000000",
          "2019-09-08T00:00:00.000000",
          "2019-09-09T00:00:00.000000",
          "2019-09-10T00:00:00.000000",
          "2019-09-11T00:00:00.000000",
          "2019-09-12T00:00:00.000000",
          "2019-09-13T00:00:00.000000",
          "2019-09-14T00:00:00.000000",
          "2019-09-15T00:00:00.000000",
          "2019-09-16T00:00:00.000000",
          "2019-09-17T00:00:00.000000",
          "2019-09-18T00:00:00.000000",
          "2019-09-19T00:00:00.000000",
          "2019-09-20T00:00:00.000000",
          "2019-09-21T00:00:00.000000",
          "2019-09-22T00:00:00.000000",
          "2019-09-23T00:00:00.000000",
          "2019-09-24T00:00:00.000000",
          "2019-09-25T00:00:00.000000",
          "2019-09-26T00:00:00.000000",
          "2019-09-27T00:00:00.000000",
          "2019-09-28T00:00:00.000000",
          "2019-09-29T00:00:00.000000",
          "2019-09-30T00:00:00.000000",
          "2019-10-01T00:00:00.000000",
          "2019-10-02T00:00:00.000000",
          "2019-10-03T00:00:00.000000",
          "2019-10-04T00:00:00.000000",
          "2019-10-05T00:00:00.000000",
          "2019-10-06T00:00:00.000000",
          "2019-10-07T00:00:00.000000",
          "2019-10-08T00:00:00.000000",
          "2019-10-09T00:00:00.000000",
          "2019-10-10T00:00:00.000000",
          "2019-10-11T00:00:00.000000",
          "2019-10-12T00:00:00.000000",
          "2019-10-13T00:00:00.000000",
          "2019-10-14T00:00:00.000000",
          "2019-10-15T00:00:00.000000",
          "2019-10-16T00:00:00.000000",
          "2019-10-17T00:00:00.000000",
          "2019-10-18T00:00:00.000000",
          "2019-10-19T00:00:00.000000",
          "2019-10-20T00:00:00.000000",
          "2019-10-21T00:00:00.000000",
          "2019-10-22T00:00:00.000000",
          "2019-10-23T00:00:00.000000",
          "2019-10-24T00:00:00.000000",
          "2019-10-25T00:00:00.000000",
          "2019-10-26T00:00:00.000000",
          "2019-10-27T00:00:00.000000",
          "2019-10-28T00:00:00.000000",
          "2019-10-29T00:00:00.000000",
          "2019-10-30T00:00:00.000000",
          "2019-10-31T00:00:00.000000",
          "2019-11-01T00:00:00.000000",
          "2019-11-02T00:00:00.000000",
          "2019-11-03T00:00:00.000000",
          "2019-11-04T00:00:00.000000",
          "2019-11-05T00:00:00.000000",
          "2019-11-06T00:00:00.000000",
          "2019-11-07T00:00:00.000000",
          "2019-11-08T00:00:00.000000",
          "2019-11-09T00:00:00.000000",
          "2019-11-10T00:00:00.000000",
          "2019-11-11T00:00:00.000000",
          "2019-11-12T00:00:00.000000",
          "2019-11-13T00:00:00.000000",
          "2019-11-14T00:00:00.000000",
          "2019-11-15T00:00:00.000000",
          "2019-11-16T00:00:00.000000",
          "2019-11-17T00:00:00.000000",
          "2019-11-18T00:00:00.000000",
          "2019-11-19T00:00:00.000000",
          "2019-11-20T00:00:00.000000",
          "2019-11-21T00:00:00.000000",
          "2019-11-22T00:00:00.000000",
          "2019-11-23T00:00:00.000000",
          "2019-11-24T00:00:00.000000",
          "2019-11-25T00:00:00.000000",
          "2019-11-26T00:00:00.000000",
          "2019-11-27T00:00:00.000000",
          "2019-11-28T00:00:00.000000",
          "2019-11-29T00:00:00.000000",
          "2019-11-30T00:00:00.000000",
          "2019-12-01T00:00:00.000000",
          "2019-12-02T00:00:00.000000",
          "2019-12-03T00:00:00.000000",
          "2019-12-04T00:00:00.000000",
          "2019-12-05T00:00:00.000000",
          "2019-12-06T00:00:00.000000",
          "2019-12-07T00:00:00.000000",
          "2019-12-08T00:00:00.000000",
          "2019-12-09T00:00:00.000000",
          "2019-12-10T00:00:00.000000",
          "2019-12-11T00:00:00.000000",
          "2019-12-12T00:00:00.000000",
          "2019-12-13T00:00:00.000000",
          "2019-12-14T00:00:00.000000",
          "2019-12-15T00:00:00.000000",
          "2019-12-16T00:00:00.000000",
          "2019-12-17T00:00:00.000000",
          "2019-12-18T00:00:00.000000",
          "2019-12-19T00:00:00.000000",
          "2019-12-20T00:00:00.000000",
          "2019-12-21T00:00:00.000000",
          "2019-12-22T00:00:00.000000",
          "2019-12-23T00:00:00.000000",
          "2019-12-24T00:00:00.000000",
          "2019-12-25T00:00:00.000000",
          "2019-12-26T00:00:00.000000",
          "2019-12-27T00:00:00.000000",
          "2019-12-28T00:00:00.000000",
          "2019-12-29T00:00:00.000000",
          "2019-12-30T00:00:00.000000",
          "2019-12-31T00:00:00.000000",
          "2020-01-01T00:00:00.000000",
          "2020-01-02T00:00:00.000000",
          "2020-01-03T00:00:00.000000",
          "2020-01-04T00:00:00.000000",
          "2020-01-05T00:00:00.000000",
          "2020-01-06T00:00:00.000000",
          "2020-01-07T00:00:00.000000",
          "2020-01-08T00:00:00.000000",
          "2020-01-09T00:00:00.000000",
          "2020-01-10T00:00:00.000000",
          "2020-01-11T00:00:00.000000",
          "2020-01-12T00:00:00.000000",
          "2020-01-13T00:00:00.000000",
          "2020-01-14T00:00:00.000000",
          "2020-01-15T00:00:00.000000",
          "2020-01-16T00:00:00.000000",
          "2020-01-17T00:00:00.000000",
          "2020-01-18T00:00:00.000000",
          "2020-01-19T00:00:00.000000",
          "2020-01-20T00:00:00.000000",
          "2020-01-21T00:00:00.000000",
          "2020-01-22T00:00:00.000000",
          "2020-01-23T00:00:00.000000",
          "2020-01-24T00:00:00.000000",
          "2020-01-25T00:00:00.000000",
          "2020-01-26T00:00:00.000000",
          "2020-01-27T00:00:00.000000",
          "2020-01-28T00:00:00.000000",
          "2020-01-29T00:00:00.000000",
          "2020-01-30T00:00:00.000000",
          "2020-01-31T00:00:00.000000",
          "2020-02-01T00:00:00.000000",
          "2020-02-02T00:00:00.000000",
          "2020-02-03T00:00:00.000000",
          "2020-02-04T00:00:00.000000",
          "2020-02-05T00:00:00.000000",
          "2020-02-06T00:00:00.000000",
          "2020-02-07T00:00:00.000000",
          "2020-02-08T00:00:00.000000",
          "2020-02-09T00:00:00.000000",
          "2020-02-10T00:00:00.000000",
          "2020-02-11T00:00:00.000000",
          "2020-02-12T00:00:00.000000",
          "2020-02-13T00:00:00.000000",
          "2020-02-14T00:00:00.000000",
          "2020-02-15T00:00:00.000000",
          "2020-02-16T00:00:00.000000",
          "2020-02-17T00:00:00.000000",
          "2020-02-18T00:00:00.000000",
          "2020-02-19T00:00:00.000000",
          "2020-02-20T00:00:00.000000",
          "2020-02-21T00:00:00.000000",
          "2020-02-22T00:00:00.000000",
          "2020-02-23T00:00:00.000000",
          "2020-02-24T00:00:00.000000",
          "2020-02-25T00:00:00.000000",
          "2020-02-26T00:00:00.000000",
          "2020-02-27T00:00:00.000000",
          "2020-02-28T00:00:00.000000",
          "2020-02-29T00:00:00.000000",
          "2020-03-01T00:00:00.000000",
          "2020-03-02T00:00:00.000000",
          "2020-03-03T00:00:00.000000",
          "2020-03-04T00:00:00.000000",
          "2020-03-05T00:00:00.000000",
          "2020-03-06T00:00:00.000000",
          "2020-03-07T00:00:00.000000",
          "2020-03-08T00:00:00.000000",
          "2020-03-09T00:00:00.000000",
          "2020-03-10T00:00:00.000000",
          "2020-03-11T00:00:00.000000",
          "2020-03-12T00:00:00.000000",
          "2020-03-13T00:00:00.000000",
          "2020-03-14T00:00:00.000000",
          "2020-03-15T00:00:00.000000",
          "2020-03-16T00:00:00.000000",
          "2020-03-17T00:00:00.000000",
          "2020-03-18T00:00:00.000000",
          "2020-03-19T00:00:00.000000",
          "2020-03-20T00:00:00.000000",
          "2020-03-21T00:00:00.000000",
          "2020-03-22T00:00:00.000000",
          "2020-03-23T00:00:00.000000",
          "2020-03-24T00:00:00.000000",
          "2020-03-25T00:00:00.000000",
          "2020-03-26T00:00:00.000000",
          "2020-03-27T00:00:00.000000",
          "2020-03-28T00:00:00.000000",
          "2020-03-29T00:00:00.000000",
          "2020-03-30T00:00:00.000000",
          "2020-03-31T00:00:00.000000",
          "2020-04-01T00:00:00.000000",
          "2020-04-02T00:00:00.000000",
          "2020-04-03T00:00:00.000000",
          "2020-04-04T00:00:00.000000",
          "2020-04-05T00:00:00.000000",
          "2020-04-06T00:00:00.000000",
          "2020-04-07T00:00:00.000000",
          "2020-04-08T00:00:00.000000",
          "2020-04-09T00:00:00.000000",
          "2020-04-10T00:00:00.000000",
          "2020-04-11T00:00:00.000000",
          "2020-04-12T00:00:00.000000",
          "2020-04-13T00:00:00.000000",
          "2020-04-14T00:00:00.000000",
          "2020-04-15T00:00:00.000000",
          "2020-04-16T00:00:00.000000",
          "2020-04-17T00:00:00.000000",
          "2020-04-18T00:00:00.000000",
          "2020-04-19T00:00:00.000000",
          "2020-04-20T00:00:00.000000",
          "2020-04-21T00:00:00.000000",
          "2020-04-22T00:00:00.000000",
          "2020-04-23T00:00:00.000000",
          "2020-04-24T00:00:00.000000",
          "2020-04-25T00:00:00.000000",
          "2020-04-26T00:00:00.000000",
          "2020-04-27T00:00:00.000000",
          "2020-04-28T00:00:00.000000",
          "2020-04-29T00:00:00.000000",
          "2020-04-30T00:00:00.000000",
          "2020-05-01T00:00:00.000000",
          "2020-05-02T00:00:00.000000",
          "2020-05-03T00:00:00.000000",
          "2020-05-04T00:00:00.000000",
          "2020-05-05T00:00:00.000000",
          "2020-05-06T00:00:00.000000",
          "2020-05-07T00:00:00.000000",
          "2020-05-08T00:00:00.000000",
          "2020-05-09T00:00:00.000000",
          "2020-05-10T00:00:00.000000",
          "2020-05-11T00:00:00.000000",
          "2020-05-12T00:00:00.000000",
          "2020-05-13T00:00:00.000000",
          "2020-05-14T00:00:00.000000",
          "2020-05-15T00:00:00.000000",
          "2020-05-16T00:00:00.000000",
          "2020-05-17T00:00:00.000000",
          "2020-05-18T00:00:00.000000",
          "2020-05-19T00:00:00.000000",
          "2020-05-20T00:00:00.000000",
          "2020-05-21T00:00:00.000000",
          "2020-05-22T00:00:00.000000",
          "2020-05-23T00:00:00.000000",
          "2020-05-24T00:00:00.000000",
          "2020-05-25T00:00:00.000000",
          "2020-05-26T00:00:00.000000",
          "2020-05-27T00:00:00.000000",
          "2020-05-28T00:00:00.000000",
          "2020-05-29T00:00:00.000000",
          "2020-05-30T00:00:00.000000",
          "2020-05-31T00:00:00.000000",
          "2020-06-01T00:00:00.000000",
          "2020-06-02T00:00:00.000000",
          "2020-06-03T00:00:00.000000",
          "2020-06-04T00:00:00.000000",
          "2020-06-05T00:00:00.000000",
          "2020-06-06T00:00:00.000000",
          "2020-06-07T00:00:00.000000",
          "2020-06-08T00:00:00.000000",
          "2020-06-09T00:00:00.000000",
          "2020-06-10T00:00:00.000000",
          "2020-06-11T00:00:00.000000",
          "2020-06-12T00:00:00.000000",
          "2020-06-13T00:00:00.000000",
          "2020-06-14T00:00:00.000000",
          "2020-06-15T00:00:00.000000",
          "2020-06-16T00:00:00.000000",
          "2020-06-17T00:00:00.000000",
          "2020-06-18T00:00:00.000000",
          "2020-06-19T00:00:00.000000",
          "2020-06-20T00:00:00.000000",
          "2020-06-21T00:00:00.000000",
          "2020-06-22T00:00:00.000000",
          "2020-06-23T00:00:00.000000",
          "2020-06-24T00:00:00.000000",
          "2020-06-25T00:00:00.000000",
          "2020-06-26T00:00:00.000000",
          "2020-06-27T00:00:00.000000",
          "2020-06-28T00:00:00.000000",
          "2020-06-29T00:00:00.000000",
          "2020-06-30T00:00:00.000000",
          "2020-07-01T00:00:00.000000",
          "2020-07-02T00:00:00.000000",
          "2020-07-03T00:00:00.000000",
          "2020-07-04T00:00:00.000000",
          "2020-07-05T00:00:00.000000",
          "2020-07-06T00:00:00.000000",
          "2020-07-07T00:00:00.000000",
          "2020-07-08T00:00:00.000000",
          "2020-07-09T00:00:00.000000",
          "2020-07-10T00:00:00.000000",
          "2020-07-11T00:00:00.000000",
          "2020-07-12T00:00:00.000000",
          "2020-07-13T00:00:00.000000",
          "2020-07-14T00:00:00.000000",
          "2020-07-15T00:00:00.000000",
          "2020-07-16T00:00:00.000000",
          "2020-07-17T00:00:00.000000",
          "2020-07-18T00:00:00.000000",
          "2020-07-19T00:00:00.000000",
          "2020-07-20T00:00:00.000000",
          "2020-07-21T00:00:00.000000",
          "2020-07-22T00:00:00.000000",
          "2020-07-23T00:00:00.000000",
          "2020-07-24T00:00:00.000000",
          "2020-07-25T00:00:00.000000",
          "2020-07-26T00:00:00.000000",
          "2020-07-27T00:00:00.000000",
          "2020-07-28T00:00:00.000000",
          "2020-07-29T00:00:00.000000",
          "2020-07-30T00:00:00.000000",
          "2020-07-31T00:00:00.000000",
          "2020-08-01T00:00:00.000000",
          "2020-08-02T00:00:00.000000",
          "2020-08-03T00:00:00.000000",
          "2020-08-04T00:00:00.000000",
          "2020-08-05T00:00:00.000000",
          "2020-08-06T00:00:00.000000",
          "2020-08-07T00:00:00.000000",
          "2020-08-08T00:00:00.000000",
          "2020-08-09T00:00:00.000000",
          "2020-08-10T00:00:00.000000",
          "2020-08-11T00:00:00.000000",
          "2020-08-12T00:00:00.000000",
          "2020-08-13T00:00:00.000000",
          "2020-08-14T00:00:00.000000",
          "2020-08-15T00:00:00.000000",
          "2020-08-16T00:00:00.000000",
          "2020-08-17T00:00:00.000000",
          "2020-08-18T00:00:00.000000",
          "2020-08-19T00:00:00.000000",
          "2020-08-20T00:00:00.000000",
          "2020-08-21T00:00:00.000000",
          "2020-08-22T00:00:00.000000",
          "2020-08-23T00:00:00.000000",
          "2020-08-24T00:00:00.000000",
          "2020-08-25T00:00:00.000000",
          "2020-08-26T00:00:00.000000",
          "2020-08-27T00:00:00.000000",
          "2020-08-28T00:00:00.000000",
          "2020-08-29T00:00:00.000000",
          "2020-08-30T00:00:00.000000",
          "2020-08-31T00:00:00.000000",
          "2020-09-01T00:00:00.000000",
          "2020-09-02T00:00:00.000000",
          "2020-09-03T00:00:00.000000",
          "2020-09-04T00:00:00.000000",
          "2020-09-05T00:00:00.000000",
          "2020-09-06T00:00:00.000000",
          "2020-09-07T00:00:00.000000",
          "2020-09-08T00:00:00.000000",
          "2020-09-09T00:00:00.000000",
          "2020-09-10T00:00:00.000000",
          "2020-09-11T00:00:00.000000",
          "2020-09-12T00:00:00.000000",
          "2020-09-13T00:00:00.000000",
          "2020-09-14T00:00:00.000000",
          "2020-09-15T00:00:00.000000",
          "2020-09-16T00:00:00.000000",
          "2020-09-17T00:00:00.000000",
          "2020-09-18T00:00:00.000000",
          "2020-09-19T00:00:00.000000",
          "2020-09-20T00:00:00.000000",
          "2020-09-21T00:00:00.000000",
          "2020-09-22T00:00:00.000000",
          "2020-09-23T00:00:00.000000",
          "2020-09-24T00:00:00.000000",
          "2020-09-25T00:00:00.000000",
          "2020-09-26T00:00:00.000000"
         ],
         "xaxis": "x",
         "y": {
          "dtype": "float64",
          "shape": [
           1000
          ]
         },
         "yaxis": "y"
        }
       ],
       "_js2py_pointsCallback": {},
       "_js2py_relayout": {},
       "_js2py_restyle": {},
       "_js2py_update": {},
       "_last_layout_edit_id": 5,
       "_last_trace_edit_id": 5,
       "_layout": {
        "autosize": false,
        "colorway": [
         "#1f77b4",
         "#ff7f0e",
         "#2ca02c",
         "#d62728",
         "#9467bd",
         "#8c564b",
         "#e377c2",
         "#7f7f7f",
         "#bcbd22",
         "#17becf"
        ],
        "height": 300,
        "hovermode": "closest",
        "margin": {
         "b": 30,
         "t": 30
        },
        "showlegend": true,
        "template": {
         "data": {
          "bar": [
           {
            "error_x": {
             "color": "#2a3f5f"
            },
            "error_y": {
             "color": "#2a3f5f"
            },
            "marker": {
             "line": {
              "color": "#E5ECF6",
              "width": 0.5
             }
            },
            "type": "bar"
           }
          ],
          "barpolar": [
           {
            "marker": {
             "line": {
              "color": "#E5ECF6",
              "width": 0.5
             }
            },
            "type": "barpolar"
           }
          ],
          "carpet": [
           {
            "aaxis": {
             "endlinecolor": "#2a3f5f",
             "gridcolor": "white",
             "linecolor": "white",
             "minorgridcolor": "white",
             "startlinecolor": "#2a3f5f"
            },
            "baxis": {
             "endlinecolor": "#2a3f5f",
             "gridcolor": "white",
             "linecolor": "white",
             "minorgridcolor": "white",
             "startlinecolor": "#2a3f5f"
            },
            "type": "carpet"
           }
          ],
          "choropleth": [
           {
            "colorbar": {
             "outlinewidth": 0,
             "ticks": ""
            },
            "type": "choropleth"
           }
          ],
          "contour": [
           {
            "colorbar": {
             "outlinewidth": 0,
             "ticks": ""
            },
            "colorscale": [
             [
              0,
              "#0d0887"
             ],
             [
              0.1111111111111111,
              "#46039f"
             ],
             [
              0.2222222222222222,
              "#7201a8"
             ],
             [
              0.3333333333333333,
              "#9c179e"
             ],
             [
              0.4444444444444444,
              "#bd3786"
             ],
             [
              0.5555555555555556,
              "#d8576b"
             ],
             [
              0.6666666666666666,
              "#ed7953"
             ],
             [
              0.7777777777777778,
              "#fb9f3a"
             ],
             [
              0.8888888888888888,
              "#fdca26"
             ],
             [
              1,
              "#f0f921"
             ]
            ],
            "type": "contour"
           }
          ],
          "contourcarpet": [
           {
            "colorbar": {
             "outlinewidth": 0,
             "ticks": ""
            },
            "type": "contourcarpet"
           }
          ],
          "heatmap": [
           {
            "colorbar": {
             "outlinewidth": 0,
             "ticks": ""
            },
            "colorscale": [
             [
              0,
              "#0d0887"
             ],
             [
              0.1111111111111111,
              "#46039f"
             ],
             [
              0.2222222222222222,
              "#7201a8"
             ],
             [
              0.3333333333333333,
              "#9c179e"
             ],
             [
              0.4444444444444444,
              "#bd3786"
             ],
             [
              0.5555555555555556,
              "#d8576b"
             ],
             [
              0.6666666666666666,
              "#ed7953"
             ],
             [
              0.7777777777777778,
              "#fb9f3a"
             ],
             [
              0.8888888888888888,
              "#fdca26"
             ],
             [
              1,
              "#f0f921"
             ]
            ],
            "type": "heatmap"
           }
          ],
          "heatmapgl": [
           {
            "colorbar": {
             "outlinewidth": 0,
             "ticks": ""
            },
            "colorscale": [
             [
              0,
              "#0d0887"
             ],
             [
              0.1111111111111111,
              "#46039f"
             ],
             [
              0.2222222222222222,
              "#7201a8"
             ],
             [
              0.3333333333333333,
              "#9c179e"
             ],
             [
              0.4444444444444444,
              "#bd3786"
             ],
             [
              0.5555555555555556,
              "#d8576b"
             ],
             [
              0.6666666666666666,
              "#ed7953"
             ],
             [
              0.7777777777777778,
              "#fb9f3a"
             ],
             [
              0.8888888888888888,
              "#fdca26"
             ],
             [
              1,
              "#f0f921"
             ]
            ],
            "type": "heatmapgl"
           }
          ],
          "histogram": [
           {
            "marker": {
             "colorbar": {
              "outlinewidth": 0,
              "ticks": ""
             }
            },
            "type": "histogram"
           }
          ],
          "histogram2d": [
           {
            "colorbar": {
             "outlinewidth": 0,
             "ticks": ""
            },
            "colorscale": [
             [
              0,
              "#0d0887"
             ],
             [
              0.1111111111111111,
              "#46039f"
             ],
             [
              0.2222222222222222,
              "#7201a8"
             ],
             [
              0.3333333333333333,
              "#9c179e"
             ],
             [
              0.4444444444444444,
              "#bd3786"
             ],
             [
              0.5555555555555556,
              "#d8576b"
             ],
             [
              0.6666666666666666,
              "#ed7953"
             ],
             [
              0.7777777777777778,
              "#fb9f3a"
             ],
             [
              0.8888888888888888,
              "#fdca26"
             ],
             [
              1,
              "#f0f921"
             ]
            ],
            "type": "histogram2d"
           }
          ],
          "histogram2dcontour": [
           {
            "colorbar": {
             "outlinewidth": 0,
             "ticks": ""
            },
            "colorscale": [
             [
              0,
              "#0d0887"
             ],
             [
              0.1111111111111111,
              "#46039f"
             ],
             [
              0.2222222222222222,
              "#7201a8"
             ],
             [
              0.3333333333333333,
              "#9c179e"
             ],
             [
              0.4444444444444444,
              "#bd3786"
             ],
             [
              0.5555555555555556,
              "#d8576b"
             ],
             [
              0.6666666666666666,
              "#ed7953"
             ],
             [
              0.7777777777777778,
              "#fb9f3a"
             ],
             [
              0.8888888888888888,
              "#fdca26"
             ],
             [
              1,
              "#f0f921"
             ]
            ],
            "type": "histogram2dcontour"
           }
          ],
          "mesh3d": [
           {
            "colorbar": {
             "outlinewidth": 0,
             "ticks": ""
            },
            "type": "mesh3d"
           }
          ],
          "parcoords": [
           {
            "line": {
             "colorbar": {
              "outlinewidth": 0,
              "ticks": ""
             }
            },
            "type": "parcoords"
           }
          ],
          "pie": [
           {
            "automargin": true,
            "type": "pie"
           }
          ],
          "scatter": [
           {
            "marker": {
             "colorbar": {
              "outlinewidth": 0,
              "ticks": ""
             }
            },
            "type": "scatter"
           }
          ],
          "scatter3d": [
           {
            "line": {
             "colorbar": {
              "outlinewidth": 0,
              "ticks": ""
             }
            },
            "marker": {
             "colorbar": {
              "outlinewidth": 0,
              "ticks": ""
             }
            },
            "type": "scatter3d"
           }
          ],
          "scattercarpet": [
           {
            "marker": {
             "colorbar": {
              "outlinewidth": 0,
              "ticks": ""
             }
            },
            "type": "scattercarpet"
           }
          ],
          "scattergeo": [
           {
            "marker": {
             "colorbar": {
              "outlinewidth": 0,
              "ticks": ""
             }
            },
            "type": "scattergeo"
           }
          ],
          "scattergl": [
           {
            "marker": {
             "colorbar": {
              "outlinewidth": 0,
              "ticks": ""
             }
            },
            "type": "scattergl"
           }
          ],
          "scattermapbox": [
           {
            "marker": {
             "colorbar": {
              "outlinewidth": 0,
              "ticks": ""
             }
            },
            "type": "scattermapbox"
           }
          ],
          "scatterpolar": [
           {
            "marker": {
             "colorbar": {
              "outlinewidth": 0,
              "ticks": ""
             }
            },
            "type": "scatterpolar"
           }
          ],
          "scatterpolargl": [
           {
            "marker": {
             "colorbar": {
              "outlinewidth": 0,
              "ticks": ""
             }
            },
            "type": "scatterpolargl"
           }
          ],
          "scatterternary": [
           {
            "marker": {
             "colorbar": {
              "outlinewidth": 0,
              "ticks": ""
             }
            },
            "type": "scatterternary"
           }
          ],
          "surface": [
           {
            "colorbar": {
             "outlinewidth": 0,
             "ticks": ""
            },
            "colorscale": [
             [
              0,
              "#0d0887"
             ],
             [
              0.1111111111111111,
              "#46039f"
             ],
             [
              0.2222222222222222,
              "#7201a8"
             ],
             [
              0.3333333333333333,
              "#9c179e"
             ],
             [
              0.4444444444444444,
              "#bd3786"
             ],
             [
              0.5555555555555556,
              "#d8576b"
             ],
             [
              0.6666666666666666,
              "#ed7953"
             ],
             [
              0.7777777777777778,
              "#fb9f3a"
             ],
             [
              0.8888888888888888,
              "#fdca26"
             ],
             [
              1,
              "#f0f921"
             ]
            ],
            "type": "surface"
           }
          ],
          "table": [
           {
            "cells": {
             "fill": {
              "color": "#EBF0F8"
             },
             "line": {
              "color": "white"
             }
            },
            "header": {
             "fill": {
              "color": "#C8D4E3"
             },
             "line": {
              "color": "white"
             }
            },
            "type": "table"
           }
          ]
         },
         "layout": {
          "annotationdefaults": {
           "arrowcolor": "#2a3f5f",
           "arrowhead": 0,
           "arrowwidth": 1
          },
          "coloraxis": {
           "colorbar": {
            "outlinewidth": 0,
            "ticks": ""
           }
          },
          "colorscale": {
           "diverging": [
            [
             0,
             "#8e0152"
            ],
            [
             0.1,
             "#c51b7d"
            ],
            [
             0.2,
             "#de77ae"
            ],
            [
             0.3,
             "#f1b6da"
            ],
            [
             0.4,
             "#fde0ef"
            ],
            [
             0.5,
             "#f7f7f7"
            ],
            [
             0.6,
             "#e6f5d0"
            ],
            [
             0.7,
             "#b8e186"
            ],
            [
             0.8,
             "#7fbc41"
            ],
            [
             0.9,
             "#4d9221"
            ],
            [
             1,
             "#276419"
            ]
           ],
           "sequential": [
            [
             0,
             "#0d0887"
            ],
            [
             0.1111111111111111,
             "#46039f"
            ],
            [
             0.2222222222222222,
             "#7201a8"
            ],
            [
             0.3333333333333333,
             "#9c179e"
            ],
            [
             0.4444444444444444,
             "#bd3786"
            ],
            [
             0.5555555555555556,
             "#d8576b"
            ],
            [
             0.6666666666666666,
             "#ed7953"
            ],
            [
             0.7777777777777778,
             "#fb9f3a"
            ],
            [
             0.8888888888888888,
             "#fdca26"
            ],
            [
             1,
             "#f0f921"
            ]
           ],
           "sequentialminus": [
            [
             0,
             "#0d0887"
            ],
            [
             0.1111111111111111,
             "#46039f"
            ],
            [
             0.2222222222222222,
             "#7201a8"
            ],
            [
             0.3333333333333333,
             "#9c179e"
            ],
            [
             0.4444444444444444,
             "#bd3786"
            ],
            [
             0.5555555555555556,
             "#d8576b"
            ],
            [
             0.6666666666666666,
             "#ed7953"
            ],
            [
             0.7777777777777778,
             "#fb9f3a"
            ],
            [
             0.8888888888888888,
             "#fdca26"
            ],
            [
             1,
             "#f0f921"
            ]
           ]
          },
          "colorway": [
           "#636efa",
           "#EF553B",
           "#00cc96",
           "#ab63fa",
           "#FFA15A",
           "#19d3f3",
           "#FF6692",
           "#B6E880",
           "#FF97FF",
           "#FECB52"
          ],
          "font": {
           "color": "#2a3f5f"
          },
          "geo": {
           "bgcolor": "white",
           "lakecolor": "white",
           "landcolor": "#E5ECF6",
           "showlakes": true,
           "showland": true,
           "subunitcolor": "white"
          },
          "hoverlabel": {
           "align": "left"
          },
          "hovermode": "closest",
          "mapbox": {
           "style": "light"
          },
          "paper_bgcolor": "white",
          "plot_bgcolor": "#E5ECF6",
          "polar": {
           "angularaxis": {
            "gridcolor": "white",
            "linecolor": "white",
            "ticks": ""
           },
           "bgcolor": "#E5ECF6",
           "radialaxis": {
            "gridcolor": "white",
            "linecolor": "white",
            "ticks": ""
           }
          },
          "scene": {
           "xaxis": {
            "backgroundcolor": "#E5ECF6",
            "gridcolor": "white",
            "gridwidth": 2,
            "linecolor": "white",
            "showbackground": true,
            "ticks": "",
            "zerolinecolor": "white"
           },
           "yaxis": {
            "backgroundcolor": "#E5ECF6",
            "gridcolor": "white",
            "gridwidth": 2,
            "linecolor": "white",
            "showbackground": true,
            "ticks": "",
            "zerolinecolor": "white"
           },
           "zaxis": {
            "backgroundcolor": "#E5ECF6",
            "gridcolor": "white",
            "gridwidth": 2,
            "linecolor": "white",
            "showbackground": true,
            "ticks": "",
            "zerolinecolor": "white"
           }
          },
          "shapedefaults": {
           "line": {
            "color": "#2a3f5f"
           }
          },
          "ternary": {
           "aaxis": {
            "gridcolor": "white",
            "linecolor": "white",
            "ticks": ""
           },
           "baxis": {
            "gridcolor": "white",
            "linecolor": "white",
            "ticks": ""
           },
           "bgcolor": "#E5ECF6",
           "caxis": {
            "gridcolor": "white",
            "linecolor": "white",
            "ticks": ""
           }
          },
          "title": {
           "x": 0.05
          },
          "xaxis": {
           "automargin": true,
           "gridcolor": "white",
           "linecolor": "white",
           "ticks": "",
           "title": {
            "standoff": 15
           },
           "zerolinecolor": "white",
           "zerolinewidth": 2
          },
          "yaxis": {
           "automargin": true,
           "gridcolor": "white",
           "linecolor": "white",
           "ticks": "",
           "title": {
            "standoff": 15
           },
           "zerolinecolor": "white",
           "zerolinewidth": 2
          }
         }
        },
        "width": 700,
        "xaxis": {
         "rangeslider": {
          "visible": false
         },
         "showgrid": true
        },
        "yaxis": {
         "domain": [
          0,
          0.33
         ],
         "showgrid": true
        },
        "yaxis2": {
         "domain": [
          0.33,
          1
         ]
        }
       },
       "_model_module_version": "1.5.0",
       "_py2js_animate": {},
       "_py2js_deleteTraces": {},
       "_py2js_moveTraces": {},
       "_py2js_removeLayoutProps": {},
       "_py2js_removeTraceProps": {},
       "_py2js_restyle": {},
       "_view_count": 0,
       "_view_module_version": "1.5.0"
      }
     },
     "6f79978956db49d28acd1258c7b085ff": {
      "buffers": [
       {
        "data": "AAAAAAAA8D8AAAAAAAAAQAAAAAAAAAhAAAAAAAAAEEAAAAAAAAD4fw==",
        "encoding": "base64",
        "path": [
         "_data",
         0,
         "y",
         "value"
        ]
       },
       {
        "data": "AAAAAAAA+H8AAAAAAAAQQAAAAAAAAAhAAAAAAAAAAEAAAAAAAADwPw==",
        "encoding": "base64",
        "path": [
         "_data",
         1,
         "y",
         "value"
        ]
       },
       {
        "data": "AAAAAAAA8D8AAAAAAAAAQAAAAAAAAPh/AAAAAAAAAEAAAAAAAADwPw==",
        "encoding": "base64",
        "path": [
         "_data",
         2,
         "y",
         "value"
        ]
       }
      ],
      "model_module": "plotlywidget",
      "model_module_version": "1.5.0",
      "model_name": "FigureModel",
      "state": {
       "_config": {
        "plotlyServerURL": "https://plot.ly"
       },
       "_data": [
        {
         "mode": "lines",
         "name": "a",
         "type": "scatter",
         "uid": "dced2b5a-256d-462f-9d77-ed32f006747d",
         "x": [
          "2018-01-01T00:00:00.000000",
          "2018-01-02T00:00:00.000000",
          "2018-01-03T00:00:00.000000",
          "2018-01-04T00:00:00.000000",
          "2018-01-05T00:00:00.000000"
         ],
         "y": {
          "dtype": "float64",
          "shape": [
           5
          ]
         }
        },
        {
         "mode": "lines",
         "name": "b",
         "type": "scatter",
         "uid": "4bb1df1b-7544-4f45-aa03-abb760bd2af6",
         "x": [
          "2018-01-01T00:00:00.000000",
          "2018-01-02T00:00:00.000000",
          "2018-01-03T00:00:00.000000",
          "2018-01-04T00:00:00.000000",
          "2018-01-05T00:00:00.000000"
         ],
         "y": {
          "dtype": "float64",
          "shape": [
           5
          ]
         }
        },
        {
         "mode": "lines",
         "name": "c",
         "type": "scatter",
         "uid": "6427975f-dec7-46f7-a580-b58d1bf44b6d",
         "x": [
          "2018-01-01T00:00:00.000000",
          "2018-01-02T00:00:00.000000",
          "2018-01-03T00:00:00.000000",
          "2018-01-04T00:00:00.000000",
          "2018-01-05T00:00:00.000000"
         ],
         "y": {
          "dtype": "float64",
          "shape": [
           5
          ]
         }
        }
       ],
       "_js2py_pointsCallback": {},
       "_js2py_relayout": {},
       "_js2py_restyle": {},
       "_js2py_update": {},
       "_last_layout_edit_id": 5,
       "_last_trace_edit_id": 5,
       "_layout": {
        "autosize": false,
        "colorway": [
         "#1f77b4",
         "#ff7f0e",
         "#2ca02c",
         "#d62728",
         "#9467bd",
         "#8c564b",
         "#e377c2",
         "#7f7f7f",
         "#bcbd22",
         "#17becf"
        ],
        "height": 300,
        "hovermode": "closest",
        "margin": {
         "b": 30,
         "t": 30
        },
        "showlegend": true,
        "template": {
         "data": {
          "bar": [
           {
            "error_x": {
             "color": "#2a3f5f"
            },
            "error_y": {
             "color": "#2a3f5f"
            },
            "marker": {
             "line": {
              "color": "#E5ECF6",
              "width": 0.5
             }
            },
            "type": "bar"
           }
          ],
          "barpolar": [
           {
            "marker": {
             "line": {
              "color": "#E5ECF6",
              "width": 0.5
             }
            },
            "type": "barpolar"
           }
          ],
          "carpet": [
           {
            "aaxis": {
             "endlinecolor": "#2a3f5f",
             "gridcolor": "white",
             "linecolor": "white",
             "minorgridcolor": "white",
             "startlinecolor": "#2a3f5f"
            },
            "baxis": {
             "endlinecolor": "#2a3f5f",
             "gridcolor": "white",
             "linecolor": "white",
             "minorgridcolor": "white",
             "startlinecolor": "#2a3f5f"
            },
            "type": "carpet"
           }
          ],
          "choropleth": [
           {
            "colorbar": {
             "outlinewidth": 0,
             "ticks": ""
            },
            "type": "choropleth"
           }
          ],
          "contour": [
           {
            "colorbar": {
             "outlinewidth": 0,
             "ticks": ""
            },
            "colorscale": [
             [
              0,
              "#0d0887"
             ],
             [
              0.1111111111111111,
              "#46039f"
             ],
             [
              0.2222222222222222,
              "#7201a8"
             ],
             [
              0.3333333333333333,
              "#9c179e"
             ],
             [
              0.4444444444444444,
              "#bd3786"
             ],
             [
              0.5555555555555556,
              "#d8576b"
             ],
             [
              0.6666666666666666,
              "#ed7953"
             ],
             [
              0.7777777777777778,
              "#fb9f3a"
             ],
             [
              0.8888888888888888,
              "#fdca26"
             ],
             [
              1,
              "#f0f921"
             ]
            ],
            "type": "contour"
           }
          ],
          "contourcarpet": [
           {
            "colorbar": {
             "outlinewidth": 0,
             "ticks": ""
            },
            "type": "contourcarpet"
           }
          ],
          "heatmap": [
           {
            "colorbar": {
             "outlinewidth": 0,
             "ticks": ""
            },
            "colorscale": [
             [
              0,
              "#0d0887"
             ],
             [
              0.1111111111111111,
              "#46039f"
             ],
             [
              0.2222222222222222,
              "#7201a8"
             ],
             [
              0.3333333333333333,
              "#9c179e"
             ],
             [
              0.4444444444444444,
              "#bd3786"
             ],
             [
              0.5555555555555556,
              "#d8576b"
             ],
             [
              0.6666666666666666,
              "#ed7953"
             ],
             [
              0.7777777777777778,
              "#fb9f3a"
             ],
             [
              0.8888888888888888,
              "#fdca26"
             ],
             [
              1,
              "#f0f921"
             ]
            ],
            "type": "heatmap"
           }
          ],
          "heatmapgl": [
           {
            "colorbar": {
             "outlinewidth": 0,
             "ticks": ""
            },
            "colorscale": [
             [
              0,
              "#0d0887"
             ],
             [
              0.1111111111111111,
              "#46039f"
             ],
             [
              0.2222222222222222,
              "#7201a8"
             ],
             [
              0.3333333333333333,
              "#9c179e"
             ],
             [
              0.4444444444444444,
              "#bd3786"
             ],
             [
              0.5555555555555556,
              "#d8576b"
             ],
             [
              0.6666666666666666,
              "#ed7953"
             ],
             [
              0.7777777777777778,
              "#fb9f3a"
             ],
             [
              0.8888888888888888,
              "#fdca26"
             ],
             [
              1,
              "#f0f921"
             ]
            ],
            "type": "heatmapgl"
           }
          ],
          "histogram": [
           {
            "marker": {
             "colorbar": {
              "outlinewidth": 0,
              "ticks": ""
             }
            },
            "type": "histogram"
           }
          ],
          "histogram2d": [
           {
            "colorbar": {
             "outlinewidth": 0,
             "ticks": ""
            },
            "colorscale": [
             [
              0,
              "#0d0887"
             ],
             [
              0.1111111111111111,
              "#46039f"
             ],
             [
              0.2222222222222222,
              "#7201a8"
             ],
             [
              0.3333333333333333,
              "#9c179e"
             ],
             [
              0.4444444444444444,
              "#bd3786"
             ],
             [
              0.5555555555555556,
              "#d8576b"
             ],
             [
              0.6666666666666666,
              "#ed7953"
             ],
             [
              0.7777777777777778,
              "#fb9f3a"
             ],
             [
              0.8888888888888888,
              "#fdca26"
             ],
             [
              1,
              "#f0f921"
             ]
            ],
            "type": "histogram2d"
           }
          ],
          "histogram2dcontour": [
           {
            "colorbar": {
             "outlinewidth": 0,
             "ticks": ""
            },
            "colorscale": [
             [
              0,
              "#0d0887"
             ],
             [
              0.1111111111111111,
              "#46039f"
             ],
             [
              0.2222222222222222,
              "#7201a8"
             ],
             [
              0.3333333333333333,
              "#9c179e"
             ],
             [
              0.4444444444444444,
              "#bd3786"
             ],
             [
              0.5555555555555556,
              "#d8576b"
             ],
             [
              0.6666666666666666,
              "#ed7953"
             ],
             [
              0.7777777777777778,
              "#fb9f3a"
             ],
             [
              0.8888888888888888,
              "#fdca26"
             ],
             [
              1,
              "#f0f921"
             ]
            ],
            "type": "histogram2dcontour"
           }
          ],
          "mesh3d": [
           {
            "colorbar": {
             "outlinewidth": 0,
             "ticks": ""
            },
            "type": "mesh3d"
           }
          ],
          "parcoords": [
           {
            "line": {
             "colorbar": {
              "outlinewidth": 0,
              "ticks": ""
             }
            },
            "type": "parcoords"
           }
          ],
          "pie": [
           {
            "automargin": true,
            "type": "pie"
           }
          ],
          "scatter": [
           {
            "marker": {
             "colorbar": {
              "outlinewidth": 0,
              "ticks": ""
             }
            },
            "type": "scatter"
           }
          ],
          "scatter3d": [
           {
            "line": {
             "colorbar": {
              "outlinewidth": 0,
              "ticks": ""
             }
            },
            "marker": {
             "colorbar": {
              "outlinewidth": 0,
              "ticks": ""
             }
            },
            "type": "scatter3d"
           }
          ],
          "scattercarpet": [
           {
            "marker": {
             "colorbar": {
              "outlinewidth": 0,
              "ticks": ""
             }
            },
            "type": "scattercarpet"
           }
          ],
          "scattergeo": [
           {
            "marker": {
             "colorbar": {
              "outlinewidth": 0,
              "ticks": ""
             }
            },
            "type": "scattergeo"
           }
          ],
          "scattergl": [
           {
            "marker": {
             "colorbar": {
              "outlinewidth": 0,
              "ticks": ""
             }
            },
            "type": "scattergl"
           }
          ],
          "scattermapbox": [
           {
            "marker": {
             "colorbar": {
              "outlinewidth": 0,
              "ticks": ""
             }
            },
            "type": "scattermapbox"
           }
          ],
          "scatterpolar": [
           {
            "marker": {
             "colorbar": {
              "outlinewidth": 0,
              "ticks": ""
             }
            },
            "type": "scatterpolar"
           }
          ],
          "scatterpolargl": [
           {
            "marker": {
             "colorbar": {
              "outlinewidth": 0,
              "ticks": ""
             }
            },
            "type": "scatterpolargl"
           }
          ],
          "scatterternary": [
           {
            "marker": {
             "colorbar": {
              "outlinewidth": 0,
              "ticks": ""
             }
            },
            "type": "scatterternary"
           }
          ],
          "surface": [
           {
            "colorbar": {
             "outlinewidth": 0,
             "ticks": ""
            },
            "colorscale": [
             [
              0,
              "#0d0887"
             ],
             [
              0.1111111111111111,
              "#46039f"
             ],
             [
              0.2222222222222222,
              "#7201a8"
             ],
             [
              0.3333333333333333,
              "#9c179e"
             ],
             [
              0.4444444444444444,
              "#bd3786"
             ],
             [
              0.5555555555555556,
              "#d8576b"
             ],
             [
              0.6666666666666666,
              "#ed7953"
             ],
             [
              0.7777777777777778,
              "#fb9f3a"
             ],
             [
              0.8888888888888888,
              "#fdca26"
             ],
             [
              1,
              "#f0f921"
             ]
            ],
            "type": "surface"
           }
          ],
          "table": [
           {
            "cells": {
             "fill": {
              "color": "#EBF0F8"
             },
             "line": {
              "color": "white"
             }
            },
            "header": {
             "fill": {
              "color": "#C8D4E3"
             },
             "line": {
              "color": "white"
             }
            },
            "type": "table"
           }
          ]
         },
         "layout": {
          "annotationdefaults": {
           "arrowcolor": "#2a3f5f",
           "arrowhead": 0,
           "arrowwidth": 1
          },
          "coloraxis": {
           "colorbar": {
            "outlinewidth": 0,
            "ticks": ""
           }
          },
          "colorscale": {
           "diverging": [
            [
             0,
             "#8e0152"
            ],
            [
             0.1,
             "#c51b7d"
            ],
            [
             0.2,
             "#de77ae"
            ],
            [
             0.3,
             "#f1b6da"
            ],
            [
             0.4,
             "#fde0ef"
            ],
            [
             0.5,
             "#f7f7f7"
            ],
            [
             0.6,
             "#e6f5d0"
            ],
            [
             0.7,
             "#b8e186"
            ],
            [
             0.8,
             "#7fbc41"
            ],
            [
             0.9,
             "#4d9221"
            ],
            [
             1,
             "#276419"
            ]
           ],
           "sequential": [
            [
             0,
             "#0d0887"
            ],
            [
             0.1111111111111111,
             "#46039f"
            ],
            [
             0.2222222222222222,
             "#7201a8"
            ],
            [
             0.3333333333333333,
             "#9c179e"
            ],
            [
             0.4444444444444444,
             "#bd3786"
            ],
            [
             0.5555555555555556,
             "#d8576b"
            ],
            [
             0.6666666666666666,
             "#ed7953"
            ],
            [
             0.7777777777777778,
             "#fb9f3a"
            ],
            [
             0.8888888888888888,
             "#fdca26"
            ],
            [
             1,
             "#f0f921"
            ]
           ],
           "sequentialminus": [
            [
             0,
             "#0d0887"
            ],
            [
             0.1111111111111111,
             "#46039f"
            ],
            [
             0.2222222222222222,
             "#7201a8"
            ],
            [
             0.3333333333333333,
             "#9c179e"
            ],
            [
             0.4444444444444444,
             "#bd3786"
            ],
            [
             0.5555555555555556,
             "#d8576b"
            ],
            [
             0.6666666666666666,
             "#ed7953"
            ],
            [
             0.7777777777777778,
             "#fb9f3a"
            ],
            [
             0.8888888888888888,
             "#fdca26"
            ],
            [
             1,
             "#f0f921"
            ]
           ]
          },
          "colorway": [
           "#636efa",
           "#EF553B",
           "#00cc96",
           "#ab63fa",
           "#FFA15A",
           "#19d3f3",
           "#FF6692",
           "#B6E880",
           "#FF97FF",
           "#FECB52"
          ],
          "font": {
           "color": "#2a3f5f"
          },
          "geo": {
           "bgcolor": "white",
           "lakecolor": "white",
           "landcolor": "#E5ECF6",
           "showlakes": true,
           "showland": true,
           "subunitcolor": "white"
          },
          "hoverlabel": {
           "align": "left"
          },
          "hovermode": "closest",
          "mapbox": {
           "style": "light"
          },
          "paper_bgcolor": "white",
          "plot_bgcolor": "#E5ECF6",
          "polar": {
           "angularaxis": {
            "gridcolor": "white",
            "linecolor": "white",
            "ticks": ""
           },
           "bgcolor": "#E5ECF6",
           "radialaxis": {
            "gridcolor": "white",
            "linecolor": "white",
            "ticks": ""
           }
          },
          "scene": {
           "xaxis": {
            "backgroundcolor": "#E5ECF6",
            "gridcolor": "white",
            "gridwidth": 2,
            "linecolor": "white",
            "showbackground": true,
            "ticks": "",
            "zerolinecolor": "white"
           },
           "yaxis": {
            "backgroundcolor": "#E5ECF6",
            "gridcolor": "white",
            "gridwidth": 2,
            "linecolor": "white",
            "showbackground": true,
            "ticks": "",
            "zerolinecolor": "white"
           },
           "zaxis": {
            "backgroundcolor": "#E5ECF6",
            "gridcolor": "white",
            "gridwidth": 2,
            "linecolor": "white",
            "showbackground": true,
            "ticks": "",
            "zerolinecolor": "white"
           }
          },
          "shapedefaults": {
           "line": {
            "color": "#2a3f5f"
           }
          },
          "ternary": {
           "aaxis": {
            "gridcolor": "white",
            "linecolor": "white",
            "ticks": ""
           },
           "baxis": {
            "gridcolor": "white",
            "linecolor": "white",
            "ticks": ""
           },
           "bgcolor": "#E5ECF6",
           "caxis": {
            "gridcolor": "white",
            "linecolor": "white",
            "ticks": ""
           }
          },
          "title": {
           "x": 0.05
          },
          "xaxis": {
           "automargin": true,
           "gridcolor": "white",
           "linecolor": "white",
           "ticks": "",
           "title": {
            "standoff": 15
           },
           "zerolinecolor": "white",
           "zerolinewidth": 2
          },
          "yaxis": {
           "automargin": true,
           "gridcolor": "white",
           "linecolor": "white",
           "ticks": "",
           "title": {
            "standoff": 15
           },
           "zerolinecolor": "white",
           "zerolinewidth": 2
          }
         }
        },
        "width": 700
       },
       "_model_module_version": "1.5.0",
       "_py2js_animate": {},
       "_py2js_deleteTraces": {},
       "_py2js_moveTraces": {},
       "_py2js_removeLayoutProps": {},
       "_py2js_removeTraceProps": {},
       "_py2js_restyle": {},
       "_view_count": 1,
       "_view_module_version": "1.5.0"
      }
     },
     "72d7f8c2a6174a68afeda3651cd398da": {
      "buffers": [
       {
        "data": "AAAAAAAA8D8AAAAAAAAAQAAAAAAAAAhAAAAAAAAAEEAAAAAAAAD4fw==",
        "encoding": "base64",
        "path": [
         "_data",
         0,
         "y",
         "value"
        ]
       }
      ],
      "model_module": "plotlywidget",
      "model_module_version": "1.5.0",
      "model_name": "FigureModel",
      "state": {
       "_config": {
        "plotlyServerURL": "https://plot.ly"
       },
       "_data": [
        {
         "mode": "lines",
         "name": "a",
         "type": "scatter",
         "uid": "82ac980e-6bfe-4762-af12-6c1413243197",
         "x": [
          "2018-01-01T00:00:00.000000",
          "2018-01-02T00:00:00.000000",
          "2018-01-03T00:00:00.000000",
          "2018-01-04T00:00:00.000000",
          "2018-01-05T00:00:00.000000"
         ],
         "y": {
          "dtype": "float64",
          "shape": [
           5
          ]
         }
        }
       ],
       "_js2py_pointsCallback": {},
       "_js2py_relayout": {},
       "_js2py_restyle": {},
       "_js2py_update": {},
       "_last_layout_edit_id": 3,
       "_last_trace_edit_id": 3,
       "_layout": {
        "autosize": false,
        "colorway": [
         "#1f77b4",
         "#ff7f0e",
         "#2ca02c",
         "#d62728",
         "#9467bd",
         "#8c564b",
         "#e377c2",
         "#7f7f7f",
         "#bcbd22",
         "#17becf"
        ],
        "height": 300,
        "hovermode": "closest",
        "margin": {
         "b": 30,
         "t": 30
        },
        "showlegend": true,
        "template": {
         "data": {
          "bar": [
           {
            "error_x": {
             "color": "#2a3f5f"
            },
            "error_y": {
             "color": "#2a3f5f"
            },
            "marker": {
             "line": {
              "color": "#E5ECF6",
              "width": 0.5
             }
            },
            "type": "bar"
           }
          ],
          "barpolar": [
           {
            "marker": {
             "line": {
              "color": "#E5ECF6",
              "width": 0.5
             }
            },
            "type": "barpolar"
           }
          ],
          "carpet": [
           {
            "aaxis": {
             "endlinecolor": "#2a3f5f",
             "gridcolor": "white",
             "linecolor": "white",
             "minorgridcolor": "white",
             "startlinecolor": "#2a3f5f"
            },
            "baxis": {
             "endlinecolor": "#2a3f5f",
             "gridcolor": "white",
             "linecolor": "white",
             "minorgridcolor": "white",
             "startlinecolor": "#2a3f5f"
            },
            "type": "carpet"
           }
          ],
          "choropleth": [
           {
            "colorbar": {
             "outlinewidth": 0,
             "ticks": ""
            },
            "type": "choropleth"
           }
          ],
          "contour": [
           {
            "colorbar": {
             "outlinewidth": 0,
             "ticks": ""
            },
            "colorscale": [
             [
              0,
              "#0d0887"
             ],
             [
              0.1111111111111111,
              "#46039f"
             ],
             [
              0.2222222222222222,
              "#7201a8"
             ],
             [
              0.3333333333333333,
              "#9c179e"
             ],
             [
              0.4444444444444444,
              "#bd3786"
             ],
             [
              0.5555555555555556,
              "#d8576b"
             ],
             [
              0.6666666666666666,
              "#ed7953"
             ],
             [
              0.7777777777777778,
              "#fb9f3a"
             ],
             [
              0.8888888888888888,
              "#fdca26"
             ],
             [
              1,
              "#f0f921"
             ]
            ],
            "type": "contour"
           }
          ],
          "contourcarpet": [
           {
            "colorbar": {
             "outlinewidth": 0,
             "ticks": ""
            },
            "type": "contourcarpet"
           }
          ],
          "heatmap": [
           {
            "colorbar": {
             "outlinewidth": 0,
             "ticks": ""
            },
            "colorscale": [
             [
              0,
              "#0d0887"
             ],
             [
              0.1111111111111111,
              "#46039f"
             ],
             [
              0.2222222222222222,
              "#7201a8"
             ],
             [
              0.3333333333333333,
              "#9c179e"
             ],
             [
              0.4444444444444444,
              "#bd3786"
             ],
             [
              0.5555555555555556,
              "#d8576b"
             ],
             [
              0.6666666666666666,
              "#ed7953"
             ],
             [
              0.7777777777777778,
              "#fb9f3a"
             ],
             [
              0.8888888888888888,
              "#fdca26"
             ],
             [
              1,
              "#f0f921"
             ]
            ],
            "type": "heatmap"
           }
          ],
          "heatmapgl": [
           {
            "colorbar": {
             "outlinewidth": 0,
             "ticks": ""
            },
            "colorscale": [
             [
              0,
              "#0d0887"
             ],
             [
              0.1111111111111111,
              "#46039f"
             ],
             [
              0.2222222222222222,
              "#7201a8"
             ],
             [
              0.3333333333333333,
              "#9c179e"
             ],
             [
              0.4444444444444444,
              "#bd3786"
             ],
             [
              0.5555555555555556,
              "#d8576b"
             ],
             [
              0.6666666666666666,
              "#ed7953"
             ],
             [
              0.7777777777777778,
              "#fb9f3a"
             ],
             [
              0.8888888888888888,
              "#fdca26"
             ],
             [
              1,
              "#f0f921"
             ]
            ],
            "type": "heatmapgl"
           }
          ],
          "histogram": [
           {
            "marker": {
             "colorbar": {
              "outlinewidth": 0,
              "ticks": ""
             }
            },
            "type": "histogram"
           }
          ],
          "histogram2d": [
           {
            "colorbar": {
             "outlinewidth": 0,
             "ticks": ""
            },
            "colorscale": [
             [
              0,
              "#0d0887"
             ],
             [
              0.1111111111111111,
              "#46039f"
             ],
             [
              0.2222222222222222,
              "#7201a8"
             ],
             [
              0.3333333333333333,
              "#9c179e"
             ],
             [
              0.4444444444444444,
              "#bd3786"
             ],
             [
              0.5555555555555556,
              "#d8576b"
             ],
             [
              0.6666666666666666,
              "#ed7953"
             ],
             [
              0.7777777777777778,
              "#fb9f3a"
             ],
             [
              0.8888888888888888,
              "#fdca26"
             ],
             [
              1,
              "#f0f921"
             ]
            ],
            "type": "histogram2d"
           }
          ],
          "histogram2dcontour": [
           {
            "colorbar": {
             "outlinewidth": 0,
             "ticks": ""
            },
            "colorscale": [
             [
              0,
              "#0d0887"
             ],
             [
              0.1111111111111111,
              "#46039f"
             ],
             [
              0.2222222222222222,
              "#7201a8"
             ],
             [
              0.3333333333333333,
              "#9c179e"
             ],
             [
              0.4444444444444444,
              "#bd3786"
             ],
             [
              0.5555555555555556,
              "#d8576b"
             ],
             [
              0.6666666666666666,
              "#ed7953"
             ],
             [
              0.7777777777777778,
              "#fb9f3a"
             ],
             [
              0.8888888888888888,
              "#fdca26"
             ],
             [
              1,
              "#f0f921"
             ]
            ],
            "type": "histogram2dcontour"
           }
          ],
          "mesh3d": [
           {
            "colorbar": {
             "outlinewidth": 0,
             "ticks": ""
            },
            "type": "mesh3d"
           }
          ],
          "parcoords": [
           {
            "line": {
             "colorbar": {
              "outlinewidth": 0,
              "ticks": ""
             }
            },
            "type": "parcoords"
           }
          ],
          "pie": [
           {
            "automargin": true,
            "type": "pie"
           }
          ],
          "scatter": [
           {
            "marker": {
             "colorbar": {
              "outlinewidth": 0,
              "ticks": ""
             }
            },
            "type": "scatter"
           }
          ],
          "scatter3d": [
           {
            "line": {
             "colorbar": {
              "outlinewidth": 0,
              "ticks": ""
             }
            },
            "marker": {
             "colorbar": {
              "outlinewidth": 0,
              "ticks": ""
             }
            },
            "type": "scatter3d"
           }
          ],
          "scattercarpet": [
           {
            "marker": {
             "colorbar": {
              "outlinewidth": 0,
              "ticks": ""
             }
            },
            "type": "scattercarpet"
           }
          ],
          "scattergeo": [
           {
            "marker": {
             "colorbar": {
              "outlinewidth": 0,
              "ticks": ""
             }
            },
            "type": "scattergeo"
           }
          ],
          "scattergl": [
           {
            "marker": {
             "colorbar": {
              "outlinewidth": 0,
              "ticks": ""
             }
            },
            "type": "scattergl"
           }
          ],
          "scattermapbox": [
           {
            "marker": {
             "colorbar": {
              "outlinewidth": 0,
              "ticks": ""
             }
            },
            "type": "scattermapbox"
           }
          ],
          "scatterpolar": [
           {
            "marker": {
             "colorbar": {
              "outlinewidth": 0,
              "ticks": ""
             }
            },
            "type": "scatterpolar"
           }
          ],
          "scatterpolargl": [
           {
            "marker": {
             "colorbar": {
              "outlinewidth": 0,
              "ticks": ""
             }
            },
            "type": "scatterpolargl"
           }
          ],
          "scatterternary": [
           {
            "marker": {
             "colorbar": {
              "outlinewidth": 0,
              "ticks": ""
             }
            },
            "type": "scatterternary"
           }
          ],
          "surface": [
           {
            "colorbar": {
             "outlinewidth": 0,
             "ticks": ""
            },
            "colorscale": [
             [
              0,
              "#0d0887"
             ],
             [
              0.1111111111111111,
              "#46039f"
             ],
             [
              0.2222222222222222,
              "#7201a8"
             ],
             [
              0.3333333333333333,
              "#9c179e"
             ],
             [
              0.4444444444444444,
              "#bd3786"
             ],
             [
              0.5555555555555556,
              "#d8576b"
             ],
             [
              0.6666666666666666,
              "#ed7953"
             ],
             [
              0.7777777777777778,
              "#fb9f3a"
             ],
             [
              0.8888888888888888,
              "#fdca26"
             ],
             [
              1,
              "#f0f921"
             ]
            ],
            "type": "surface"
           }
          ],
          "table": [
           {
            "cells": {
             "fill": {
              "color": "#EBF0F8"
             },
             "line": {
              "color": "white"
             }
            },
            "header": {
             "fill": {
              "color": "#C8D4E3"
             },
             "line": {
              "color": "white"
             }
            },
            "type": "table"
           }
          ]
         },
         "layout": {
          "annotationdefaults": {
           "arrowcolor": "#2a3f5f",
           "arrowhead": 0,
           "arrowwidth": 1
          },
          "coloraxis": {
           "colorbar": {
            "outlinewidth": 0,
            "ticks": ""
           }
          },
          "colorscale": {
           "diverging": [
            [
             0,
             "#8e0152"
            ],
            [
             0.1,
             "#c51b7d"
            ],
            [
             0.2,
             "#de77ae"
            ],
            [
             0.3,
             "#f1b6da"
            ],
            [
             0.4,
             "#fde0ef"
            ],
            [
             0.5,
             "#f7f7f7"
            ],
            [
             0.6,
             "#e6f5d0"
            ],
            [
             0.7,
             "#b8e186"
            ],
            [
             0.8,
             "#7fbc41"
            ],
            [
             0.9,
             "#4d9221"
            ],
            [
             1,
             "#276419"
            ]
           ],
           "sequential": [
            [
             0,
             "#0d0887"
            ],
            [
             0.1111111111111111,
             "#46039f"
            ],
            [
             0.2222222222222222,
             "#7201a8"
            ],
            [
             0.3333333333333333,
             "#9c179e"
            ],
            [
             0.4444444444444444,
             "#bd3786"
            ],
            [
             0.5555555555555556,
             "#d8576b"
            ],
            [
             0.6666666666666666,
             "#ed7953"
            ],
            [
             0.7777777777777778,
             "#fb9f3a"
            ],
            [
             0.8888888888888888,
             "#fdca26"
            ],
            [
             1,
             "#f0f921"
            ]
           ],
           "sequentialminus": [
            [
             0,
             "#0d0887"
            ],
            [
             0.1111111111111111,
             "#46039f"
            ],
            [
             0.2222222222222222,
             "#7201a8"
            ],
            [
             0.3333333333333333,
             "#9c179e"
            ],
            [
             0.4444444444444444,
             "#bd3786"
            ],
            [
             0.5555555555555556,
             "#d8576b"
            ],
            [
             0.6666666666666666,
             "#ed7953"
            ],
            [
             0.7777777777777778,
             "#fb9f3a"
            ],
            [
             0.8888888888888888,
             "#fdca26"
            ],
            [
             1,
             "#f0f921"
            ]
           ]
          },
          "colorway": [
           "#636efa",
           "#EF553B",
           "#00cc96",
           "#ab63fa",
           "#FFA15A",
           "#19d3f3",
           "#FF6692",
           "#B6E880",
           "#FF97FF",
           "#FECB52"
          ],
          "font": {
           "color": "#2a3f5f"
          },
          "geo": {
           "bgcolor": "white",
           "lakecolor": "white",
           "landcolor": "#E5ECF6",
           "showlakes": true,
           "showland": true,
           "subunitcolor": "white"
          },
          "hoverlabel": {
           "align": "left"
          },
          "hovermode": "closest",
          "mapbox": {
           "style": "light"
          },
          "paper_bgcolor": "white",
          "plot_bgcolor": "#E5ECF6",
          "polar": {
           "angularaxis": {
            "gridcolor": "white",
            "linecolor": "white",
            "ticks": ""
           },
           "bgcolor": "#E5ECF6",
           "radialaxis": {
            "gridcolor": "white",
            "linecolor": "white",
            "ticks": ""
           }
          },
          "scene": {
           "xaxis": {
            "backgroundcolor": "#E5ECF6",
            "gridcolor": "white",
            "gridwidth": 2,
            "linecolor": "white",
            "showbackground": true,
            "ticks": "",
            "zerolinecolor": "white"
           },
           "yaxis": {
            "backgroundcolor": "#E5ECF6",
            "gridcolor": "white",
            "gridwidth": 2,
            "linecolor": "white",
            "showbackground": true,
            "ticks": "",
            "zerolinecolor": "white"
           },
           "zaxis": {
            "backgroundcolor": "#E5ECF6",
            "gridcolor": "white",
            "gridwidth": 2,
            "linecolor": "white",
            "showbackground": true,
            "ticks": "",
            "zerolinecolor": "white"
           }
          },
          "shapedefaults": {
           "line": {
            "color": "#2a3f5f"
           }
          },
          "ternary": {
           "aaxis": {
            "gridcolor": "white",
            "linecolor": "white",
            "ticks": ""
           },
           "baxis": {
            "gridcolor": "white",
            "linecolor": "white",
            "ticks": ""
           },
           "bgcolor": "#E5ECF6",
           "caxis": {
            "gridcolor": "white",
            "linecolor": "white",
            "ticks": ""
           }
          },
          "title": {
           "x": 0.05
          },
          "xaxis": {
           "automargin": true,
           "gridcolor": "white",
           "linecolor": "white",
           "ticks": "",
           "title": {
            "standoff": 15
           },
           "zerolinecolor": "white",
           "zerolinewidth": 2
          },
          "yaxis": {
           "automargin": true,
           "gridcolor": "white",
           "linecolor": "white",
           "ticks": "",
           "title": {
            "standoff": 15
           },
           "zerolinecolor": "white",
           "zerolinewidth": 2
          }
         }
        },
        "width": 700
       },
       "_model_module_version": "1.5.0",
       "_py2js_animate": {},
       "_py2js_deleteTraces": {},
       "_py2js_moveTraces": {},
       "_py2js_removeLayoutProps": {},
       "_py2js_removeTraceProps": {},
       "_py2js_restyle": {},
       "_view_count": 1,
       "_view_module_version": "1.5.0"
      }
     },
     "9c23d0621e9f41fb9f7ff23f64ffc999": {
      "buffers": [
       {
        "data": "rqMJ+jAO6L9MLIz77j70vyBWTRqgpcu/sSVcm5b2+b93nk6WSrz4v+TzSv0H7OG/2qzwaMOo/79OYMCiQWMAwJ6GRZ3rgwbAjrb9ifXW/L84Mgx29kICwKTRS5lJtPy/dfL0Yp58AsDAPSxcCzQDwBOAHepN+QzAlu1WfmbOCsBB2DUBIkgNwCxvqpwo+AfAFn98Gx3hBcBICg/zUc4CwEkggdSI+Pe/SEr0faJWyD+CX2VyuZXgP/CVl2VX4L0/1Oc/sPGjyz9g4CGoMai3P4hJUgUBG+8/VnO3nolq+j/YBkcK37X4P4wvLg7tZcc/krWwy6Vm07/OZdiNud33P0pWXqWLKsI/so8SzhTW8L9C3goOgtjQv+iCpBzg1vQ/KI0u1IA71j8kbAIO+MHpP6oahYpt4d8/+oypP+UA37/WdErtRrLhP3AVW3+Fk9u/Erm/e+mw57/kSelff3X/v04/YeTVl+2/FEbxNwby/r+uheQOfkDgv1MEof486fO/oNLpDVSs+L/202qK3c/8v4ifriGlRPA/KAWWqmJm4L8A6uWj6Nypv+cSPdQMTda/Q0aQHtw48z/UhTmjlVvOP2Ao7B1sas4/dPk3B3WM4T/2E6jc7irjP64NP29FrPI/IOR8pkLV+j/noFDHXvjnv29frFk0ZOq/wAriu0qS3T9MsqQo29fRP9YaLplA0O4//BFoK75J8r8/sF6jr6rkP/KcKSvFltu/HgZpHAgS8b9PkEtPV/DmP5xKcMwnptG/zeQhYFw057/WdCq61m7Xv07Ed9eKy+q/cF47oIuVtD/+9DCnEl7wv4CYBqOfUp2/nKJTdMDy4b+wYF2bZmLkP+RZ7E7wBNe/RlboC+Fj1r+nitcITD3rP81J/w2Dfu2/5NRqCjQ8zL/c25ovvHr3PyRc+6QJ5cQ/rMXUxstX1L/Ebg4+NB76v2lcvLRo5f2/GBekszq++L+PQUgMUbf7v0YXfALJOOa/oCGOpUzs478AjCppZs2Lv0A2RUxJOPy/yNR1PssO4D94b1F+iVTDv8p15/oxsdQ/v6+5MCx04b8=",
        "encoding": "base64",
        "path": [
         "_data",
         0,
         "close",
         "value"
        ]
       },
       {
        "data": "mAucnPh02L8WN7p0K6fQvwy+anXcp9S/UiyovCVQ8L+baUeAzvnov1yvCrirQ+W/JIg1Cz5k6b8dMn33BPTyv5J22O01JP6/Zoi5NMKnBMA6Q0XgJAUAwE9+COBcyPu/q0kmGgESAsCmU8Ho/gL9v8orXnWqOQTAq1mtWsYlC8B7xTAs2HMGwPny5MoDO/a/pANxb+L4AcBI1BNCVEL3v+LUp2KYBNS/OLmecSVpyD/TDBKN203zP+sfpsaQrP0/GNNPFl/S7D+nA0L0eXXvP4gwV157FfU/81rvyazj9z/IyBIIJFPxP3sTUAFfIPk/mBrhodN+wT/zw1tT/Iv4P/IhHjlXKO8/AHl6VyBcpj+PETlflM70PxGbGUck5OQ/2s9maIp3+j9AQztqS2fyP/+PbX+29eE/Gh/r89X70j/y5pafTzjQP9pa4hCQxuO/v8YKHWAE4L/pD+yWtFHhvwzpeV49LM8/aFO7/cta078Nw7ZgVwHivx4YIbjWJuG/m3+OpGOc4b+i3QGglLTdvw6ISp7yi/A/BBbjrJY65z/xiXvtBKr4P3Kiff3TGuI/dmidZW0Z+D9I0rvTpYXLPzrLM6nCOd0/pKSkn9AO8j/pPqRbW6v8Pyoha/kXOPI/gnBEDpo/8T+w4fn1yi7HP7Z3xoLlJN6/OJdEcvkkxr+QiBnm3z3MPy/JKyLBM+E/igxgi5md0790x7RwMd/iP5WIYZAfcuM/0kbPFFDg278SPbxGJTXwP9qwIKefJdc/wXtTwsB55D/yBBEKNs3SP+HyPZfMkt0/cJRz3Bqi47/kLnewpWDIPzCNADhFpuA/lkHxAMPlwz+rtOB288/rP9qHKxMwGOc/FHJWgnyL0T+6uiR2H+L2PwBgsf6n2CW/0IPHw3p88j9zSEHFrG/7P4bAmcXcHtI/sL71p/wqqj9QGoFvc7Dyv4wUTN9esPq/voRTIVn1278ETP+0nnzvv4uE72qkfeG/ZHDpBMXezT/2UPWf/XHYvxDeL6T3oqe/wIlAAPr17T+nQZShJXbkP1TlR8VO59w/eHhR4hhctj8=",
        "encoding": "base64",
        "path": [
         "_data",
         0,
         "high",
         "value"
        ]
       },
       {
        "data": "xVUSR7no8r9cNS1nEQfqv8aeVWB6XfC/KMCliqKR/L8QWyRU60EAwBojBDwpBwHAdFwBjjyJA8A9MJVPuPAHwB/tbux44QjAJk6cAFzaDMAo7RxZ+csGwM1cL5zHiwjAIuwIwEz9B8DLGqTLhYAFwIh2rQKPHQrA0Y26K4bJEMAgTHqBo8wMwLKHnB+rsgbAwNueeRtWC8BlwACP49sEwHTNDmK+LP2/NPRe7xMp8b8A6FAP2Ilzv1yPOYjsH90/8BXN7Ewnuj84oc05cfXIv/qlG4wNnuM/7ijPEdxb8j84Y05k9YHTP6ilfytW7OA/AjG0Ansh2r/wIRk6mJrJP0NNYbY8/tW/xujy9ftI4b/KTOd3B9javzi558EIzt8/yYQHSLfy4D+AxfygL5a1P0zjDgW0C+G/uiYDMWG8278W0s04y3rzvwwWLxjgtfe/EMOwYdbX9b8SfqHC+xIAwM8XIcZRrO6/ej6kbc8N/r87ErU2s8H+v170iRbDLf2/oH+BkJ7m+r+EOmqHP8H1v9SsX38nIOG/CG3p6otA2r8IuAafLq+6vxYQLbvx98m/YITl1CSqzb+0/chGzrDrv+T9V1/Xrsu/+Cy/83no0b/UBv2nHrnVPxDmpTh9Jq8/ACLDPh4JXr8IaiBXHdmzP3RQRF6S7fe/gGj5cvyv5L+T+yhqU0TnvzXeuS/jN+m/PQ1PkpyF8r8wJETIVTO/v7LlV6m8oNq/RTaeyqrp6r8w0vuGwMamP+LzyXGcY+2/T0+QLhrT6r8BMqsnIUflv9uxahwLh9m/uCd4eEyO+L+GIfEIeu3hv1Bqz+aoDqI/9v/bABQk6L8Qr9ANICe5P+Ac77Dr8rA/zlp0mzDK9L8EJAUMlorVv9AV1g225M6/GHRIqrpktz+AP02L311zPwFgLkzPPOC/GXyfXJwB7r985PWWr3X9vx22WAJQZfy/nrNi0grr+r/1ORLC2GUAwE81/n5ptv6/aEMxlNsF67+IwOQVclL4v2bVHqP8GPC/DJFKWeFNz78ozZflcMvGv7ALx7JjV/a/CBVOje/16L8=",
        "encoding": "base64",
        "path": [
         "_data",
         0,
         "low",
         "value"
        ]
       },
       {
        "data": "iHgyQyz047809iJGggfcv6a3X3Z0LuW/r1aCcUIB878PGeqBz+v7v+eJauskcvS/UagQh8xQ/L9egBgrpX4AwNrGTt1g8AHAMIBREitYBsC6LYyK+pwAwMrAacdSgQXAbBjuzO2HBsDlIK6b1VgDwKYU+KfVAgnAuioZ+nlWDMBLWU/CkSoHwFv+vYi1QwDAbj5eJ79kBcABMyK9sLQBwPP542gHePS/PBR+r78707/IZ66myqfSP6pR5vywOfE/rlnzL70i2D90c1j/ArzTPwTgO+ihc/M/XrxlNtRm9z9KJE3MMAbsP4PEs+8Dtug/yACnoNN+tD/rnYNhhjjoP1nnFhRYetA/NJ+18Czoy7+mZ46j3grePylJ1lwceeM/VEPoUMRh8D9MY0/W4KDtPxwXCF0i4sY/dEzaLMIAzz+860htP2jbv1QQWXx2wOu/dC3T+t358r/K6Pry3u31v8b50nmYFeS/n/T4r/TT779xviu+qMP3v4fHMUsW4fO/QtsO7vDt579HKVpwIITrv/ymM/rkLcE/8Lt9bVBixL+CfR2xMeHnP0kVSMFdGNQ/stURAy+35T+YHHTNllK8v3CbjqWf5Le/uDTyXwh2zz8LIkx2UQXyP4dVKdzuae0/WmJoyJbR5j/4zG9yOsK/P61tqtFhUOC/SA1DCNdh3L/AM4a01/fLv6Aba7N+vMA/Oj+aL+iC2L+QhXggrimuvwbz495cK9O/zk0XoT0y3r+IMCQhjxK4P0BOrronEb2/zDSs4rYYzr/i5cs4dr7RPx7Tm+zPFci/LqLpVo+65L/Axm6Aux+4v3CRgZyGq8g/0hjNNWkSzb8u03Hj6H/oP5BCnOyGFcE/4hVYsp4l3b/2e28GU1PdP1R4b9HJ8cu/Ft6xQQJd0T/ZTDgSeprsPwJR5CKOk9E/dDJshj+137+IA6V9P4TzvwaTlGmECvy/itBRT6nY8r9NpckxukTxv87DdH58x/K/lG+Jt4jK4b90YZsc52LpvygsOh8HNuy/oGD7mcUUsD8c8MbgjuTYP8rGponiY9m/9jvjUq1K2L8=",
        "encoding": "base64",
        "path": [
         "_data",
         0,
         "open",
         "value"
        ]
       },
       {
        "data": "WP6eJrdw5r94xAh6xKHgv8CjIM3xbNE/aJv4jYhg0b8UmX9rjAD0vyqGIohJcQHAusWeaQ1yAsBIf8Y7GAMHwA4iHFgV0wjA3NO9xv8TD8CgFrUfU7UQwJ3fTCFZeBLAMGzwEsC+EMDXDAewcHoUwPw+nh1rCRfAn7P6e2s+F8CYblQ4VmgZwLurIQ7VUhjAloLog10gG8DNOOnGb98awIDJTWwUrB3AmZHH0izuH8BEXaCq+2AgwBObJa0O9RzAeUaKJNWBHcDjXO9G8zAgwJ2p2uFiXx7Akh4VaRCnHsAB0J8Ag2MfwOIXJWqE2iDAyyffVekvHsBWvhAevo4fwAk+1YCkxyDAYdBUEEVcIMD0KkTmi1YdwK4dxshv2xvA6IRIoVfuHMDYb654ToAewA0h6NeqzSDAajwHxsuUIsBHbjvD44IiwOjLQ7YbLyTA91QELG5zI8BtY8nSmWQiwKWUTDYuXSLAPbUJQiPuIcDovKGU0UshwDwjpsq40x7A+MHPaKqNH8CLjzKAipshwAvrM7UpRB/AqkOYtrrGIMAylNBf+d8ewFVx5U1lwSDA5VFNMRqyH8Ah8GIIIqocwHLXky/XIBnA/hVmNosGG8C0lys17uUdwGbl6HrSORvAQ6LknfHQG8A8CX7vKXIfwBDN/NtGwRzAorBH4ZjZGMDMQqbIc+8awDPmBNzutRvAVi+KXeSoHcBBl881VBQdwAgBRkMT+BvAVPBv13trGMDmzJQjK7EUwDn5kwCpQRPAI6BR4t4+FMBo6/2YA0wQwOzb7YndzBLAjhm+uL5TE8DqmSa8SzcPwA8ooQqsqBDAZqPqb0C5DcBF4KKPMZYRwNheINwsnBPAPtvbjShDEMDxqqwLeScTwPgpXS+oLxTAcNWMbtOoEMCGgOMEId4MwH65llUb/w3ACA8ZQN3YC8Aym2/9GuoDwFahKHwVXfi/wvyMNyuS/L+fc3BbwwD5vwoSFMmnb+6/+H/LnXUf0L9mujZzhqntv79VGmwPzve/uKWpquhS6r90H6YK/H3yv321OvOv4v+/7QShOdRX878=",
        "encoding": "base64",
        "path": [
         "_data",
         1,
         "y",
         "value"
        ]
       }
      ],
      "model_module": "plotlywidget",
      "model_module_version": "1.5.0",
      "model_name": "FigureModel",
      "state": {
       "_config": {
        "plotlyServerURL": "https://plot.ly"
       },
       "_data": [
        {
         "close": {
          "dtype": "float64",
          "shape": [
           100
          ]
         },
         "high": {
          "dtype": "float64",
          "shape": [
           100
          ]
         },
         "low": {
          "dtype": "float64",
          "shape": [
           100
          ]
         },
         "name": "OHLC",
         "open": {
          "dtype": "float64",
          "shape": [
           100
          ]
         },
         "type": "candlestick",
         "uid": "b76b8e23-3f58-43fb-8645-9c541036238f",
         "x": [
          "2018-01-01T00:00:00.000000",
          "2018-01-02T00:00:00.000000",
          "2018-01-03T00:00:00.000000",
          "2018-01-04T00:00:00.000000",
          "2018-01-05T00:00:00.000000",
          "2018-01-06T00:00:00.000000",
          "2018-01-07T00:00:00.000000",
          "2018-01-08T00:00:00.000000",
          "2018-01-09T00:00:00.000000",
          "2018-01-10T00:00:00.000000",
          "2018-01-11T00:00:00.000000",
          "2018-01-12T00:00:00.000000",
          "2018-01-13T00:00:00.000000",
          "2018-01-14T00:00:00.000000",
          "2018-01-15T00:00:00.000000",
          "2018-01-16T00:00:00.000000",
          "2018-01-17T00:00:00.000000",
          "2018-01-18T00:00:00.000000",
          "2018-01-19T00:00:00.000000",
          "2018-01-20T00:00:00.000000",
          "2018-01-21T00:00:00.000000",
          "2018-01-22T00:00:00.000000",
          "2018-01-23T00:00:00.000000",
          "2018-01-24T00:00:00.000000",
          "2018-01-25T00:00:00.000000",
          "2018-01-26T00:00:00.000000",
          "2018-01-27T00:00:00.000000",
          "2018-01-28T00:00:00.000000",
          "2018-01-29T00:00:00.000000",
          "2018-01-30T00:00:00.000000",
          "2018-01-31T00:00:00.000000",
          "2018-02-01T00:00:00.000000",
          "2018-02-02T00:00:00.000000",
          "2018-02-03T00:00:00.000000",
          "2018-02-04T00:00:00.000000",
          "2018-02-05T00:00:00.000000",
          "2018-02-06T00:00:00.000000",
          "2018-02-07T00:00:00.000000",
          "2018-02-08T00:00:00.000000",
          "2018-02-09T00:00:00.000000",
          "2018-02-10T00:00:00.000000",
          "2018-02-11T00:00:00.000000",
          "2018-02-12T00:00:00.000000",
          "2018-02-13T00:00:00.000000",
          "2018-02-14T00:00:00.000000",
          "2018-02-15T00:00:00.000000",
          "2018-02-16T00:00:00.000000",
          "2018-02-17T00:00:00.000000",
          "2018-02-18T00:00:00.000000",
          "2018-02-19T00:00:00.000000",
          "2018-02-20T00:00:00.000000",
          "2018-02-21T00:00:00.000000",
          "2018-02-22T00:00:00.000000",
          "2018-02-23T00:00:00.000000",
          "2018-02-24T00:00:00.000000",
          "2018-02-25T00:00:00.000000",
          "2018-02-26T00:00:00.000000",
          "2018-02-27T00:00:00.000000",
          "2018-02-28T00:00:00.000000",
          "2018-03-01T00:00:00.000000",
          "2018-03-02T00:00:00.000000",
          "2018-03-03T00:00:00.000000",
          "2018-03-04T00:00:00.000000",
          "2018-03-05T00:00:00.000000",
          "2018-03-06T00:00:00.000000",
          "2018-03-07T00:00:00.000000",
          "2018-03-08T00:00:00.000000",
          "2018-03-09T00:00:00.000000",
          "2018-03-10T00:00:00.000000",
          "2018-03-11T00:00:00.000000",
          "2018-03-12T00:00:00.000000",
          "2018-03-13T00:00:00.000000",
          "2018-03-14T00:00:00.000000",
          "2018-03-15T00:00:00.000000",
          "2018-03-16T00:00:00.000000",
          "2018-03-17T00:00:00.000000",
          "2018-03-18T00:00:00.000000",
          "2018-03-19T00:00:00.000000",
          "2018-03-20T00:00:00.000000",
          "2018-03-21T00:00:00.000000",
          "2018-03-22T00:00:00.000000",
          "2018-03-23T00:00:00.000000",
          "2018-03-24T00:00:00.000000",
          "2018-03-25T00:00:00.000000",
          "2018-03-26T00:00:00.000000",
          "2018-03-27T00:00:00.000000",
          "2018-03-28T00:00:00.000000",
          "2018-03-29T00:00:00.000000",
          "2018-03-30T00:00:00.000000",
          "2018-03-31T00:00:00.000000",
          "2018-04-01T00:00:00.000000",
          "2018-04-02T00:00:00.000000",
          "2018-04-03T00:00:00.000000",
          "2018-04-04T00:00:00.000000",
          "2018-04-05T00:00:00.000000",
          "2018-04-06T00:00:00.000000",
          "2018-04-07T00:00:00.000000",
          "2018-04-08T00:00:00.000000",
          "2018-04-09T00:00:00.000000",
          "2018-04-10T00:00:00.000000"
         ],
         "xaxis": "x",
         "yaxis": "y2"
        },
        {
         "marker": {
          "color": [
           "red",
           "red",
           "green",
           "red",
           "green",
           "green",
           "red",
           "green",
           "red",
           "green",
           "red",
           "green",
           "green",
           "green",
           "red",
           "green",
           "red",
           "red",
           "red",
           "red",
           "red",
           "green",
           "green",
           "red",
           "red",
           "red",
           "red",
           "green",
           "green",
           "red",
           "red",
           "green",
           "red",
           "red",
           "red",
           "green",
           "red",
           "red",
           "green",
           "red",
           "green",
           "green",
           "green",
           "red",
           "red",
           "red",
           "green",
           "red",
           "red",
           "red",
           "green",
           "red",
           "red",
           "red",
           "green",
           "green",
           "green",
           "green",
           "red",
           "green",
           "green",
           "red",
           "red",
           "green",
           "green",
           "green",
           "red",
           "green",
           "red",
           "red",
           "green",
           "red",
           "red",
           "red",
           "red",
           "green",
           "red",
           "red",
           "red",
           "red",
           "red",
           "green",
           "green",
           "red",
           "red",
           "green",
           "red",
           "green",
           "red",
           "red",
           "red",
           "red",
           "green",
           "red",
           "green",
           "red",
           "green",
           "red",
           "green",
           "red"
          ],
          "line": {
           "width": 0
          }
         },
         "name": "Volume",
         "type": "bar",
         "uid": "614ce97a-b628-47f4-93a1-cabbb702d1e4",
         "x": [
          "2018-01-01T00:00:00.000000",
          "2018-01-02T00:00:00.000000",
          "2018-01-03T00:00:00.000000",
          "2018-01-04T00:00:00.000000",
          "2018-01-05T00:00:00.000000",
          "2018-01-06T00:00:00.000000",
          "2018-01-07T00:00:00.000000",
          "2018-01-08T00:00:00.000000",
          "2018-01-09T00:00:00.000000",
          "2018-01-10T00:00:00.000000",
          "2018-01-11T00:00:00.000000",
          "2018-01-12T00:00:00.000000",
          "2018-01-13T00:00:00.000000",
          "2018-01-14T00:00:00.000000",
          "2018-01-15T00:00:00.000000",
          "2018-01-16T00:00:00.000000",
          "2018-01-17T00:00:00.000000",
          "2018-01-18T00:00:00.000000",
          "2018-01-19T00:00:00.000000",
          "2018-01-20T00:00:00.000000",
          "2018-01-21T00:00:00.000000",
          "2018-01-22T00:00:00.000000",
          "2018-01-23T00:00:00.000000",
          "2018-01-24T00:00:00.000000",
          "2018-01-25T00:00:00.000000",
          "2018-01-26T00:00:00.000000",
          "2018-01-27T00:00:00.000000",
          "2018-01-28T00:00:00.000000",
          "2018-01-29T00:00:00.000000",
          "2018-01-30T00:00:00.000000",
          "2018-01-31T00:00:00.000000",
          "2018-02-01T00:00:00.000000",
          "2018-02-02T00:00:00.000000",
          "2018-02-03T00:00:00.000000",
          "2018-02-04T00:00:00.000000",
          "2018-02-05T00:00:00.000000",
          "2018-02-06T00:00:00.000000",
          "2018-02-07T00:00:00.000000",
          "2018-02-08T00:00:00.000000",
          "2018-02-09T00:00:00.000000",
          "2018-02-10T00:00:00.000000",
          "2018-02-11T00:00:00.000000",
          "2018-02-12T00:00:00.000000",
          "2018-02-13T00:00:00.000000",
          "2018-02-14T00:00:00.000000",
          "2018-02-15T00:00:00.000000",
          "2018-02-16T00:00:00.000000",
          "2018-02-17T00:00:00.000000",
          "2018-02-18T00:00:00.000000",
          "2018-02-19T00:00:00.000000",
          "2018-02-20T00:00:00.000000",
          "2018-02-21T00:00:00.000000",
          "2018-02-22T00:00:00.000000",
          "2018-02-23T00:00:00.000000",
          "2018-02-24T00:00:00.000000",
          "2018-02-25T00:00:00.000000",
          "2018-02-26T00:00:00.000000",
          "2018-02-27T00:00:00.000000",
          "2018-02-28T00:00:00.000000",
          "2018-03-01T00:00:00.000000",
          "2018-03-02T00:00:00.000000",
          "2018-03-03T00:00:00.000000",
          "2018-03-04T00:00:00.000000",
          "2018-03-05T00:00:00.000000",
          "2018-03-06T00:00:00.000000",
          "2018-03-07T00:00:00.000000",
          "2018-03-08T00:00:00.000000",
          "2018-03-09T00:00:00.000000",
          "2018-03-10T00:00:00.000000",
          "2018-03-11T00:00:00.000000",
          "2018-03-12T00:00:00.000000",
          "2018-03-13T00:00:00.000000",
          "2018-03-14T00:00:00.000000",
          "2018-03-15T00:00:00.000000",
          "2018-03-16T00:00:00.000000",
          "2018-03-17T00:00:00.000000",
          "2018-03-18T00:00:00.000000",
          "2018-03-19T00:00:00.000000",
          "2018-03-20T00:00:00.000000",
          "2018-03-21T00:00:00.000000",
          "2018-03-22T00:00:00.000000",
          "2018-03-23T00:00:00.000000",
          "2018-03-24T00:00:00.000000",
          "2018-03-25T00:00:00.000000",
          "2018-03-26T00:00:00.000000",
          "2018-03-27T00:00:00.000000",
          "2018-03-28T00:00:00.000000",
          "2018-03-29T00:00:00.000000",
          "2018-03-30T00:00:00.000000",
          "2018-03-31T00:00:00.000000",
          "2018-04-01T00:00:00.000000",
          "2018-04-02T00:00:00.000000",
          "2018-04-03T00:00:00.000000",
          "2018-04-04T00:00:00.000000",
          "2018-04-05T00:00:00.000000",
          "2018-04-06T00:00:00.000000",
          "2018-04-07T00:00:00.000000",
          "2018-04-08T00:00:00.000000",
          "2018-04-09T00:00:00.000000",
          "2018-04-10T00:00:00.000000"
         ],
         "xaxis": "x",
         "y": {
          "dtype": "float64",
          "shape": [
           100
          ]
         },
         "yaxis": "y"
        }
       ],
       "_js2py_pointsCallback": {},
       "_js2py_relayout": {},
       "_js2py_restyle": {},
       "_js2py_update": {},
       "_last_layout_edit_id": 5,
       "_last_trace_edit_id": 5,
       "_layout": {
        "autosize": false,
        "colorway": [
         "#1f77b4",
         "#ff7f0e",
         "#2ca02c",
         "#d62728",
         "#9467bd",
         "#8c564b",
         "#e377c2",
         "#7f7f7f",
         "#bcbd22",
         "#17becf"
        ],
        "height": 300,
        "hovermode": "closest",
        "margin": {
         "b": 30,
         "t": 30
        },
        "showlegend": true,
        "template": {
         "data": {
          "bar": [
           {
            "error_x": {
             "color": "#2a3f5f"
            },
            "error_y": {
             "color": "#2a3f5f"
            },
            "marker": {
             "line": {
              "color": "#E5ECF6",
              "width": 0.5
             }
            },
            "type": "bar"
           }
          ],
          "barpolar": [
           {
            "marker": {
             "line": {
              "color": "#E5ECF6",
              "width": 0.5
             }
            },
            "type": "barpolar"
           }
          ],
          "carpet": [
           {
            "aaxis": {
             "endlinecolor": "#2a3f5f",
             "gridcolor": "white",
             "linecolor": "white",
             "minorgridcolor": "white",
             "startlinecolor": "#2a3f5f"
            },
            "baxis": {
             "endlinecolor": "#2a3f5f",
             "gridcolor": "white",
             "linecolor": "white",
             "minorgridcolor": "white",
             "startlinecolor": "#2a3f5f"
            },
            "type": "carpet"
           }
          ],
          "choropleth": [
           {
            "colorbar": {
             "outlinewidth": 0,
             "ticks": ""
            },
            "type": "choropleth"
           }
          ],
          "contour": [
           {
            "colorbar": {
             "outlinewidth": 0,
             "ticks": ""
            },
            "colorscale": [
             [
              0,
              "#0d0887"
             ],
             [
              0.1111111111111111,
              "#46039f"
             ],
             [
              0.2222222222222222,
              "#7201a8"
             ],
             [
              0.3333333333333333,
              "#9c179e"
             ],
             [
              0.4444444444444444,
              "#bd3786"
             ],
             [
              0.5555555555555556,
              "#d8576b"
             ],
             [
              0.6666666666666666,
              "#ed7953"
             ],
             [
              0.7777777777777778,
              "#fb9f3a"
             ],
             [
              0.8888888888888888,
              "#fdca26"
             ],
             [
              1,
              "#f0f921"
             ]
            ],
            "type": "contour"
           }
          ],
          "contourcarpet": [
           {
            "colorbar": {
             "outlinewidth": 0,
             "ticks": ""
            },
            "type": "contourcarpet"
           }
          ],
          "heatmap": [
           {
            "colorbar": {
             "outlinewidth": 0,
             "ticks": ""
            },
            "colorscale": [
             [
              0,
              "#0d0887"
             ],
             [
              0.1111111111111111,
              "#46039f"
             ],
             [
              0.2222222222222222,
              "#7201a8"
             ],
             [
              0.3333333333333333,
              "#9c179e"
             ],
             [
              0.4444444444444444,
              "#bd3786"
             ],
             [
              0.5555555555555556,
              "#d8576b"
             ],
             [
              0.6666666666666666,
              "#ed7953"
             ],
             [
              0.7777777777777778,
              "#fb9f3a"
             ],
             [
              0.8888888888888888,
              "#fdca26"
             ],
             [
              1,
              "#f0f921"
             ]
            ],
            "type": "heatmap"
           }
          ],
          "heatmapgl": [
           {
            "colorbar": {
             "outlinewidth": 0,
             "ticks": ""
            },
            "colorscale": [
             [
              0,
              "#0d0887"
             ],
             [
              0.1111111111111111,
              "#46039f"
             ],
             [
              0.2222222222222222,
              "#7201a8"
             ],
             [
              0.3333333333333333,
              "#9c179e"
             ],
             [
              0.4444444444444444,
              "#bd3786"
             ],
             [
              0.5555555555555556,
              "#d8576b"
             ],
             [
              0.6666666666666666,
              "#ed7953"
             ],
             [
              0.7777777777777778,
              "#fb9f3a"
             ],
             [
              0.8888888888888888,
              "#fdca26"
             ],
             [
              1,
              "#f0f921"
             ]
            ],
            "type": "heatmapgl"
           }
          ],
          "histogram": [
           {
            "marker": {
             "colorbar": {
              "outlinewidth": 0,
              "ticks": ""
             }
            },
            "type": "histogram"
           }
          ],
          "histogram2d": [
           {
            "colorbar": {
             "outlinewidth": 0,
             "ticks": ""
            },
            "colorscale": [
             [
              0,
              "#0d0887"
             ],
             [
              0.1111111111111111,
              "#46039f"
             ],
             [
              0.2222222222222222,
              "#7201a8"
             ],
             [
              0.3333333333333333,
              "#9c179e"
             ],
             [
              0.4444444444444444,
              "#bd3786"
             ],
             [
              0.5555555555555556,
              "#d8576b"
             ],
             [
              0.6666666666666666,
              "#ed7953"
             ],
             [
              0.7777777777777778,
              "#fb9f3a"
             ],
             [
              0.8888888888888888,
              "#fdca26"
             ],
             [
              1,
              "#f0f921"
             ]
            ],
            "type": "histogram2d"
           }
          ],
          "histogram2dcontour": [
           {
            "colorbar": {
             "outlinewidth": 0,
             "ticks": ""
            },
            "colorscale": [
             [
              0,
              "#0d0887"
             ],
             [
              0.1111111111111111,
              "#46039f"
             ],
             [
              0.2222222222222222,
              "#7201a8"
             ],
             [
              0.3333333333333333,
              "#9c179e"
             ],
             [
              0.4444444444444444,
              "#bd3786"
             ],
             [
              0.5555555555555556,
              "#d8576b"
             ],
             [
              0.6666666666666666,
              "#ed7953"
             ],
             [
              0.7777777777777778,
              "#fb9f3a"
             ],
             [
              0.8888888888888888,
              "#fdca26"
             ],
             [
              1,
              "#f0f921"
             ]
            ],
            "type": "histogram2dcontour"
           }
          ],
          "mesh3d": [
           {
            "colorbar": {
             "outlinewidth": 0,
             "ticks": ""
            },
            "type": "mesh3d"
           }
          ],
          "parcoords": [
           {
            "line": {
             "colorbar": {
              "outlinewidth": 0,
              "ticks": ""
             }
            },
            "type": "parcoords"
           }
          ],
          "pie": [
           {
            "automargin": true,
            "type": "pie"
           }
          ],
          "scatter": [
           {
            "marker": {
             "colorbar": {
              "outlinewidth": 0,
              "ticks": ""
             }
            },
            "type": "scatter"
           }
          ],
          "scatter3d": [
           {
            "line": {
             "colorbar": {
              "outlinewidth": 0,
              "ticks": ""
             }
            },
            "marker": {
             "colorbar": {
              "outlinewidth": 0,
              "ticks": ""
             }
            },
            "type": "scatter3d"
           }
          ],
          "scattercarpet": [
           {
            "marker": {
             "colorbar": {
              "outlinewidth": 0,
              "ticks": ""
             }
            },
            "type": "scattercarpet"
           }
          ],
          "scattergeo": [
           {
            "marker": {
             "colorbar": {
              "outlinewidth": 0,
              "ticks": ""
             }
            },
            "type": "scattergeo"
           }
          ],
          "scattergl": [
           {
            "marker": {
             "colorbar": {
              "outlinewidth": 0,
              "ticks": ""
             }
            },
            "type": "scattergl"
           }
          ],
          "scattermapbox": [
           {
            "marker": {
             "colorbar": {
              "outlinewidth": 0,
              "ticks": ""
             }
            },
            "type": "scattermapbox"
           }
          ],
          "scatterpolar": [
           {
            "marker": {
             "colorbar": {
              "outlinewidth": 0,
              "ticks": ""
             }
            },
            "type": "scatterpolar"
           }
          ],
          "scatterpolargl": [
           {
            "marker": {
             "colorbar": {
              "outlinewidth": 0,
              "ticks": ""
             }
            },
            "type": "scatterpolargl"
           }
          ],
          "scatterternary": [
           {
            "marker": {
             "colorbar": {
              "outlinewidth": 0,
              "ticks": ""
             }
            },
            "type": "scatterternary"
           }
          ],
          "surface": [
           {
            "colorbar": {
             "outlinewidth": 0,
             "ticks": ""
            },
            "colorscale": [
             [
              0,
              "#0d0887"
             ],
             [
              0.1111111111111111,
              "#46039f"
             ],
             [
              0.2222222222222222,
              "#7201a8"
             ],
             [
              0.3333333333333333,
              "#9c179e"
             ],
             [
              0.4444444444444444,
              "#bd3786"
             ],
             [
              0.5555555555555556,
              "#d8576b"
             ],
             [
              0.6666666666666666,
              "#ed7953"
             ],
             [
              0.7777777777777778,
              "#fb9f3a"
             ],
             [
              0.8888888888888888,
              "#fdca26"
             ],
             [
              1,
              "#f0f921"
             ]
            ],
            "type": "surface"
           }
          ],
          "table": [
           {
            "cells": {
             "fill": {
              "color": "#EBF0F8"
             },
             "line": {
              "color": "white"
             }
            },
            "header": {
             "fill": {
              "color": "#C8D4E3"
             },
             "line": {
              "color": "white"
             }
            },
            "type": "table"
           }
          ]
         },
         "layout": {
          "annotationdefaults": {
           "arrowcolor": "#2a3f5f",
           "arrowhead": 0,
           "arrowwidth": 1
          },
          "coloraxis": {
           "colorbar": {
            "outlinewidth": 0,
            "ticks": ""
           }
          },
          "colorscale": {
           "diverging": [
            [
             0,
             "#8e0152"
            ],
            [
             0.1,
             "#c51b7d"
            ],
            [
             0.2,
             "#de77ae"
            ],
            [
             0.3,
             "#f1b6da"
            ],
            [
             0.4,
             "#fde0ef"
            ],
            [
             0.5,
             "#f7f7f7"
            ],
            [
             0.6,
             "#e6f5d0"
            ],
            [
             0.7,
             "#b8e186"
            ],
            [
             0.8,
             "#7fbc41"
            ],
            [
             0.9,
             "#4d9221"
            ],
            [
             1,
             "#276419"
            ]
           ],
           "sequential": [
            [
             0,
             "#0d0887"
            ],
            [
             0.1111111111111111,
             "#46039f"
            ],
            [
             0.2222222222222222,
             "#7201a8"
            ],
            [
             0.3333333333333333,
             "#9c179e"
            ],
            [
             0.4444444444444444,
             "#bd3786"
            ],
            [
             0.5555555555555556,
             "#d8576b"
            ],
            [
             0.6666666666666666,
             "#ed7953"
            ],
            [
             0.7777777777777778,
             "#fb9f3a"
            ],
            [
             0.8888888888888888,
             "#fdca26"
            ],
            [
             1,
             "#f0f921"
            ]
           ],
           "sequentialminus": [
            [
             0,
             "#0d0887"
            ],
            [
             0.1111111111111111,
             "#46039f"
            ],
            [
             0.2222222222222222,
             "#7201a8"
            ],
            [
             0.3333333333333333,
             "#9c179e"
            ],
            [
             0.4444444444444444,
             "#bd3786"
            ],
            [
             0.5555555555555556,
             "#d8576b"
            ],
            [
             0.6666666666666666,
             "#ed7953"
            ],
            [
             0.7777777777777778,
             "#fb9f3a"
            ],
            [
             0.8888888888888888,
             "#fdca26"
            ],
            [
             1,
             "#f0f921"
            ]
           ]
          },
          "colorway": [
           "#636efa",
           "#EF553B",
           "#00cc96",
           "#ab63fa",
           "#FFA15A",
           "#19d3f3",
           "#FF6692",
           "#B6E880",
           "#FF97FF",
           "#FECB52"
          ],
          "font": {
           "color": "#2a3f5f"
          },
          "geo": {
           "bgcolor": "white",
           "lakecolor": "white",
           "landcolor": "#E5ECF6",
           "showlakes": true,
           "showland": true,
           "subunitcolor": "white"
          },
          "hoverlabel": {
           "align": "left"
          },
          "hovermode": "closest",
          "mapbox": {
           "style": "light"
          },
          "paper_bgcolor": "white",
          "plot_bgcolor": "#E5ECF6",
          "polar": {
           "angularaxis": {
            "gridcolor": "white",
            "linecolor": "white",
            "ticks": ""
           },
           "bgcolor": "#E5ECF6",
           "radialaxis": {
            "gridcolor": "white",
            "linecolor": "white",
            "ticks": ""
           }
          },
          "scene": {
           "xaxis": {
            "backgroundcolor": "#E5ECF6",
            "gridcolor": "white",
            "gridwidth": 2,
            "linecolor": "white",
            "showbackground": true,
            "ticks": "",
            "zerolinecolor": "white"
           },
           "yaxis": {
            "backgroundcolor": "#E5ECF6",
            "gridcolor": "white",
            "gridwidth": 2,
            "linecolor": "white",
            "showbackground": true,
            "ticks": "",
            "zerolinecolor": "white"
           },
           "zaxis": {
            "backgroundcolor": "#E5ECF6",
            "gridcolor": "white",
            "gridwidth": 2,
            "linecolor": "white",
            "showbackground": true,
            "ticks": "",
            "zerolinecolor": "white"
           }
          },
          "shapedefaults": {
           "line": {
            "color": "#2a3f5f"
           }
          },
          "ternary": {
           "aaxis": {
            "gridcolor": "white",
            "linecolor": "white",
            "ticks": ""
           },
           "baxis": {
            "gridcolor": "white",
            "linecolor": "white",
            "ticks": ""
           },
           "bgcolor": "#E5ECF6",
           "caxis": {
            "gridcolor": "white",
            "linecolor": "white",
            "ticks": ""
           }
          },
          "title": {
           "x": 0.05
          },
          "xaxis": {
           "automargin": true,
           "gridcolor": "white",
           "linecolor": "white",
           "ticks": "",
           "title": {
            "standoff": 15
           },
           "zerolinecolor": "white",
           "zerolinewidth": 2
          },
          "yaxis": {
           "automargin": true,
           "gridcolor": "white",
           "linecolor": "white",
           "ticks": "",
           "title": {
            "standoff": 15
           },
           "zerolinecolor": "white",
           "zerolinewidth": 2
          }
         }
        },
        "width": 700,
        "xaxis": {
         "rangeslider": {
          "visible": false
         },
         "showgrid": true
        },
        "yaxis": {
         "domain": [
          0,
          0.33
         ],
         "showgrid": true
        },
        "yaxis2": {
         "domain": [
          0.33,
          1
         ]
        }
       },
       "_model_module_version": "1.5.0",
       "_py2js_animate": {},
       "_py2js_deleteTraces": {},
       "_py2js_moveTraces": {},
       "_py2js_removeLayoutProps": {},
       "_py2js_removeTraceProps": {},
       "_py2js_restyle": {},
       "_view_count": 0,
       "_view_module_version": "1.5.0"
      }
     },
     "ada82e0f842d460c92157be720203978": {
      "buffers": [
       {
        "data": "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",
        "encoding": "base64",
        "path": [
         "_data",
         0,
         "close",
         "value"
        ]
       },
       {
        "data": "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",
        "encoding": "base64",
        "path": [
         "_data",
         0,
         "high",
         "value"
        ]
       },
       {
        "data": "cBm2qlOm8L8BNjUm1RjmvyH/fynnz/C/dwlbIpZB7L/YmmVpNBm/v23GqSW/tfC/4k7/FS9ix79IQyC1RPKkv1boRFJJF/S/sMU8FLgX4b+AvV2BszyxPyhfmBd7Dew/xNvlbwtb3j9OcypC+EXZv4xWMOl6nMI/ei5M3fB84z95Cj9SAYDlP0CDlkCXh52/6w4YvTJq4T8ItTAmWV/8P9iPaHt7qec/5xjGieBW9D9hb4XJ3jfoPwpL5ImIcAJApAZJdNydBEA0ZLhUi18EQH1KEoAClf4/QVmIkHTPCUDMf7wDYZECQHQoNXBDAf4/jDfhLnDR9D/C9uZGB0v6P7EZtZX1SP0/wJuYuS3dAUBeEw1Uu+QDQLw/hFz68fs/HKbCt6ObAkAjOi109eH0P802hDA2ev4/Wd1yV7DSCEA4EKdIpdMHQJ7xLEh3HxBAMo8TYBBfE0DJpkPh6l4UQGaVQBsONBVApPmuRNGCEEDFkgLcXOAVQMHg5L35YxZAfPjpt0BtE0DsTO13RUUUQGFJL9VhDRBAnAaIPuKaE0AjnSBoaxsTQDZPcDUNfxdAtxm6z9kRG0Dsu1E7iX0bQGONUomlvBlAOjbZrJ1/F0BGVRhzNvcXQP9wwRpYxhVADPbbjq/qFkBxZu8s0uoSQBDNoCqvrhFAJJQ0gOUAEkDtIz5Y4HkQQAYjGbLdhw1AkaxoEKenDUBMcdikz3kLQC9k0AKEKA9Ad2LbmeA+DkAoJqe7QKUUQJxIRw8VNBBAGwAkuUhZEUAzBWE2qgQSQN58LkxwTBFAeL5tPkTTFECk0ixzlnEZQHkeK496bhZA8rk5v4OwGUBr1I0Zao4bQGZhRoXIXR9AmOtWGuO/HUBqF1ABs34aQBTUz6xj8xRAk0ZgpZf5FkCUAl9skAcUQMAJmStmyxNALUvZOrX/F0COjWGfA9YVQG63vzfQHxdAur9zmeT4GUBxitNXilsdQO1MYB/ZOxxAKgRAzPp3HkBqLgbVK+IfQKfdYMSetiFAIPGG688SIECupPRtYHYgQNjtaISDzx5A+0wx29tIIEC+oJxmA2IhQHU4kBRGqCBAX8s2m9jyIEChlONSsxwhQOf+oXZBCyJAIXgxP9qTIkDM6RjzDhkkQOtIvp9rhSZApoP4/T+sKEDZ1/BZMP4nQDA1M5lTbilAltuN/4cbK0BhMhw/d88oQNkrgAnF9ypAMwaGRWW2KUC57bLnU1MpQKzP5eDk5SdAqcgJcvt+KUBF4Zib2oQqQK0UxzkOJSpA1KfRUjoaK0DmmNhZzDopQADgzHd2JCpAxkW606o0LUDqBAnIyvEqQLjKHdvORitATfYIsnGrK0AvvGjZmDUrQBGBcxfMEipAsq2Zhpf2KkAi/6lFFyQtQFhjl608Hy1AYU78Fl30LEDUml5Jcd4tQJmWVg2mXS1AzRhdk00BLUBkVrT2xR0sQIyd3VoxhCxA+j6G4ffqKkC61W+iHLosQNmx9pAMqSxAfJfA/vHSLkCCK2amDfcvQAx/UL3lhTBAw4uSXZs4MUC40nGAW0IwQMNq7MEv0jBATF2Mqlt4MEDgGdFhEekwQOgJAq/UDDFAMG6T7USfMUD05mPcBkgxQIQkDr6hrjFAgvrI76CSMkBCPBNZmDIzQPE0inZZ4zJAlJlnlFaNM0AdrOzbMAozQGELbzgcLjRA++vylEVKM0CdbdELznYyQIUpY8TMXTJABbuzbXqPMUC7xuvkn9cxQPBUP4H7NDFAJ9PdRjdUMUBRj/5c3k0xQEEq79iuBTFA92CPEWtxMUCAq9R2/6sxQERGHzd14zBA4TQvg6AEMUDxn2faKikyQI7E4TnP0jFAZKu/F5zOMkBCS7m4YkkyQPV0qx5p5jFAmpThSmZ+MUAXkzcpvIwxQB5KAiofOzFAzB3W1nsAMkC7uSIYICsyQGOT0NAxXTNAhlt27tHsMkCLemDpiG40QM+kmjNaWTRAgXIgyA80NEBn7WkOjRE1QGPGR+nCITVAjh3mVJ/jNECDpt6hy/s0QPSXEQLk/TRAxhtSVsh/NEA20kU7BPM1QA6El1C61zZA4HIpUT/2NUDpoVLq1o41QI3Qs9qUajVA6jXejh7xNUBgHhlS+WU2QAdByKvL8TZADJJxQ2gcN0BTZPf+AQI3QLWit75LazdARAD15gezN0ATjW8sHE03QCmzVrMrJDdAl41uv0dIOEDOxaxmCTw4QGVFjsZpATlANKtn7RHXOEAFcP9388E4QMajKOZ+iDlAJ4OnwOSFOkBzWr+eH1g5QGlrNTogdzpAznIUQjAcO0AkMTWdHbc7QFTXI6X6wztAyV8dVwVSO0DZyeF6tiI8QAvOw4pFXT1Abs9oamtFPUBCOAalNtY8QGUcsM63wTxAVpPp7895PUDzlFkloKU9QMGrylyBkz1AuE1duyWZPUDkfXii2pc9QASXIdTOyj5AfOih5HNMP0A9JItemGU+QOnOV4Fv2D9AzWRUrSgyP0BcovsQAv0/QCqdarovSkBAwMYIxiUAQEBEHwH2pKdAQBpyuImwY0BA0bxSGebdQEByN8ozhPBAQNZQx07uGEFAsAEfSnAyQUDyGXZSzQJBQLoir4e150BAygOUWWpsQUDTU3TpC/dAQPe74cGlm0FAM6Jbkk/PQUCQZtZLqyRCQIUnJjXpyUJADZ3fAeH6QkCkGhM0gIBCQGA2rskb/UJAFcYJQjidQkCa4NhybdRCQAyDoM7/JkNAvnyMEDHaQkCe4DsSgltDQPd3kD2IbkNAZKpo4PUKREB1N1Mi4MdDQOs1CtGXFERAXmtMwUlCREBQ2VrupxNEQJZpTbxL/ENAlQ0nj+AhREC4B5WsxBJEQFEHrMBeuERAC78XzhATRECTN2DML31EQMo+8/HgDURAh/BN4uXGREDxNs1eb4hEQBWmetlEUERAoVlb5AlSREDIAYmHh8BEQE+E+ZRETURA3xQir3WJREBIVVMNH5xEQF8zbtNBSURAB5wd9tczREB4sFZniiJEQDDKKdGoKkRA5f8IdIz3Q0DQ6uX6p/NDQPH94xNZXkRAsYEqCmolREDRS1bV4X1EQNCmzp5Xf0RAqOZNU6npRECvYmp+Jv9EQPNBejxpQEVAON6zP5+9RUAdgYZZZFNFQAMegzRe10VAdEDKTQ/QRUAzysVQ04JFQMhBBeglukVAhNsdHoJyRUDKR9GFTwFFQEyf9xCeY0VAsHibUQs+RUCokYmUNwVFQB5iM8afBUVAcGTErB3ZRECi09tBkGxEQHjhZuW43kRAT/hiokFcRUCTQhkH411FQAStsSoo/ERAVq/IrOoRRUD7OoJnZNlEQKh6Q1uSl0VAUTsu6RHWRUBFZoiBqPtFQFoVfVsSLEZAp+WiG8T5RUBhDBx/lg5GQGmh3dZXtUVArdxSnWvRRUAKMumdbUNFQAuMwule+0VAmcTjOx7URUBC2TsGa7BFQCQ0Y/dPO0VA2XSo3+ZjRUDRy896SD9FQOGf01XgJkVAOh5E0CweRUA8uu4ncadEQFwTuJoyq0RAGyOu9Z0yRUAHOTLdzFhFQMvqV0BlmkVA0t4KrPWJRUB3ZTrbCWhFQDy0P4PAjkVAKrOuvnDiRUDoZioQwDxGQLrEpwWEjEZAwuBXARyKRkDCRtPZh4pGQFn5yhjOaEZAlb0wV4YoRkB089r1Q/1FQCKvBx7Mp0VArxVaVScNRkC484zdsUBGQCJyG8HHjEZARObaeufCRkDlOxS3B01HQNqn0d0yA0dAwY+VPWAAR0CPo6yFjrBGQK3yF9wnPUZABxQ3HYCuRkCsjj1UkmhHQHzP5gmINEdA+yweaez9RkBS+rN+GPdGQG6Z8ljM5EZAiOxiBE2pRkDn6q65EJNGQLGStgZOV0ZAIL9XFgTjRUDUHVF3YgVGQPEP1XaNdkZAinstsQUvRkDOQCggVP9FQBRo20BwJkZAVnjKRvCdRUARqA+fwndGQClqNafl+UZAQ6zbZlyNRkDmp89NMOFGQMaaONVM0kZAP8fmzsTgRkAeQmpzKBxHQKEz5JjLA0dAxe+jDjoqR0C6MPDiXohHQGXSuSAPAUhAwxHC5mB+SEAolggPjHhIQDKyQJYEeUhAOV1SWtIfSEAN1A94CJZIQBHuopdjW0hAoL/6l6AnSEDg8nnHoCZIQMwr2AMWJkhA0h+nWIxuSEBNVO++15dIQJ+sGhNCCEhAD7ICG90mSEDHTAwOEYJIQNqR8fvWJkhAhx5+cdeOSECt/WN9g7BIQN2Uhd5vj0hAbTCmkYAlSEA0myT9vSpIQDIaa5Ql00dAlTc55sLRR0Ak4QI2of1HQDRSVNwroEdAc/TC2UmBR0D5HinZt9lHQLyRUKoLUkhAcMoBbKr3R0BxUtk3pRBIQGsAJJJ930dAKR9zWbetR0CGERI9SJ9HQCW2XEZJYkdAGh3SMtF2R0Ba275CfsBGQLB+7KqWBEdAvd5pFT5gR0A/TGKLyCNHQF737NFyIUdAvAogaTu9R0AnDn3L4whIQAsoUKlDKUhA0nmECkwOSEB1yDUK2MBHQLGMIb2+60dANwiE3ZCSR0AHdzyLd+1HQMEIkj1bWkhAo43xUTfiR0BoZqJnysxHQCicPuqwT0dAGq0EWvIJR0Cp26MNA6NHQP6DEMEv60ZAzFkgHREZR0C6a6aG8xVHQE0GnzVLdkdANznKdgeHR0CtNcE+QiFHQDiENWBChUdArB8Yb/j2R0AeDxPvNbpHQOXwzZ8FikdA033m6N1xR0DBGV/AlPtGQGQ2L3G/nEdAMLOy+4klR0BFRGSqSO1HQCeHdquHrEdAjBcbpgIaSEDufhaAsmVIQCKb2Y1hyEhAU5aXgjWlSED4I4em4oBIQIwLGkhh70hAJoGKkqBGSUC9kvO8dJtJQH54urx1P0lAxHGZl4ZxSUDj6vYN4i1JQPU5k4eGk0lAz+RdmpHLSUC9iSUmHBBKQKP03vt6BkpAMDfQHPPISUAmlxmccDpJQDVontybGklAQ2i0UIMkSUBZo5/eT1xJQC7tT8R1V0lAcZpjQ4uxSUCsOLnHOWFJQLh/eWPomklAnz/6fAYcSUCl1neJCWJJQCy0SsfmHklANW+vtqAdSUBlCTGuqwZJQMYgSUQ6FUlAYW3+RyPrSEBeJZre/s5IQMEiljhT/0hAFqiAOQTdSUA0PVo+vpFJQC/rUUKE6UlAMIoeHml9SUDwhomDCD9JQMDz8/Bx/UhA/CSp3oPiSEAebilx10BJQBr5XJPixEhAUzG2V5hVSUDYSIqNNxlJQPueiW8J+UhA+XhTHTQTSUBuUtMDOklJQI5fU/d2NUlAe5uBtTfnSUDiRajFFTZJQOSugKRqpUlAjW7HtzKWSUDKZtPNn2dJQL6MFYwx1ElAWvJUa4lASkCwyCudFHNKQOTbM6HjrUlAuJle89eYSUBE8c4v8+NIQMuJ33aH4khAxraasKbGSECcQ4g1GKxIQBg7kofpsEhAygKg76a1SEDIJTwekw5JQL/G//tI10hAQVra7vfQSED6l7L5/KxIQCjyjXbSyUhAWH79vNHmSEA5Twi9/BJJQJUJ4RCo90hAInG6EQdmSUAYp4XQuAxJQF1OKRaYYElA0j8+vdnmSEDggAxw/pRIQIjJ7YHbrUhAAo9qKNEISUDYuL8om3xIQH3PoD/j80dALlL2QSqVSEAYaT6ubGJIQGeJgz13GkhAbT71x97WSECGAJ4JBb5IQAiQfK8lmkhADA1YVWBuSUAWdWwS9ylJQDMue/m4QUlAWdNIGzyDSUAJO7Z86mZJQMmdpoNuRUlAKJFaDDUqSUBLE37A4qxIQGfT4GOJ2khAK4MRFGTpSEArRK3g1hpJQBnAnrE5d0lAPLHQwVe0SUCV518me71JQCQRfF+GSUpAOxAp/PxnSkCGYlZdHvdJQLdQupoyg0lApnBN68wySkA9RKKfDp5KQMUZT5+vNEpAeOse0iAKS0DRXSh6+7tKQClmr43VgkpABDlhJAvOSkAyzqppx7VKQGuXbV5KbEpAVKJmNtnJSkDKZfXjRgdLQMr5BTRJhEpAv0UAPSfFSkA5GSCzjwhLQEZXLprQgUpAKDeN0vTZSkDIpTS5cshKQJafSibsnkpAb5eANgJmSkCtxf2NC/NKQPcM5lwVr0pAXuqpsJouS0AT8xvXCTJLQKskMCgFl0tAvfQRa+zCS0BNLV59U5BLQI6wnbax2UtAw7oj+1NFTEACizGhvOtLQCUxATefGUxAaxcA8oZATECJ5pJR8XtMQBN+rnpVW0xA4bEatOu+TED9eSIlky1NQEGhm6VMiU1AkWL8L+OFTUBpcaDfmwVOQDEyjFO22k1APBx0Z0g8TkBCSfdYp3tOQBqI5ZAptk5AUFBh9LWoTkBpj0iV04FOQFNMhgvRoE5AhJeImQlJTkDBvJuwV1FOQHfryLzNCk5AwkLfnTHlTUCIHjmOX4NNQPdrtDLKX01AzuwRRIaiTUAPzE7CHANOQEo0tMapRk5AyF+69w3/TUD1PFWw2OhNQNL5vrYGe01AvDjZkaIRTkBlVQWPWJZOQA+ul3Ykl05AuqRb/H1bTkAO9gFlT0ZOQIOnGkaJn05Aap6l2XDUTkCT4DYWxlVPQNLHt0xASU9AC2DsR2uvTkBHnekY4dpOQIYIy4idTE9AT1y26yVDT0BNEGznnuNPQHHsj1jKI1BACoC+hj8+UEDV8HHpVilQQMSrttvNelBAklaejE9MUECd8iqchCRQQNxfY1dMUlBA4ec/A1seUEAo9IX+/FNQQKnxozlmQ1BAuoMTvQpMUEB3l6FtaBdQQKzxtPt5ZFBAhGTY+QyvUEAaTtOljJxQQHDJRaGgvlBAyT7JyqGOUEA1On6He3JQQNaD+meqZVBAjY1NswRpUEBUL3If62RQQKdjwCGWPVBAV7M+3sImUECy5hEDqEtQQJrLn3nyTVBAfMk/50Z8UEAjBp/0GbJQQMY2auydclBAZYsjUuFGUEATFsuY5ENQQOfl2KEBUlBAamvYXrF/UECejnumCClQQK+//9xZRlBAvpFKJLgbUEC6ZAjfUU1QQDCI0ERRelBA3e3vPDBNUEBYag5iQzVQQOJeDEe3AVBAOriE0/M7UEBKjsphTB9QQAXob/7wQVBAWSXyjeDpT0Ap2FU5IAFQQMYpPTXSP1BAp24Zgb16UEDaBYiv/qtQQFxZ0aCewFBAGV1pmj/AUEARvfa0TuBQQC1OSG1uyVBAOHhozlP7UEAa5d76uRxRQGS2UtAWI1FAEG14h7NLUUAlpBcyyldRQHQ6OAuyo1FADzGtMzdwUUAg7gseLZVRQCFF/zeNvVFAZb2WRCbLUUC1hMYbAZVRQOBPjkPGhVFAsjhBVfalUUBvz6nW2NNRQLLS4qkq3FFAH+2AdN8jUkCK2qQJ0wZSQB/9jkZ5+VFA9uEGgvz4UUAp3dcKN/dRQOFwspHDBlJAHttg1MHwUUAyN5XI6etRQOC9o7Do4lFALAfy1OwWUkB8HM4JfsZRQN6TKWuRr1FAoKHhaHnFUUBWGS7mCXdRQKEPA3jkWlFAoNJ30TZSUUBu/pKaSj5RQFc/OwxXcVFAZRZzca2fUUBJjzVu0r1RQA9osFzOuVFAB/U59m7VUUA/PpWMFsRRQGCksd/aoVFAdGQnO5OmUUCuFd4kTrhRQORM6K5lalFAonhGxVGfUUCN5Asab85RQGpMZ9VGxFFAn8ptqma2UUADB9B08pVRQDbHaCVXPFFAtTHNgeJNUUBBE8LnxT1RQLf+e7e4LFFAhUE8x7c/UUDWVvS65z1RQDu1tNllPlFAVM3iq/ruUECr57ptDQ9RQMyJeozZ5lBALK3PNC5AUUBlqv5LWyNRQHEgTqSm/VBAoPhlyaC6UEB1e5c69OhQQPT/Um/131BAQ6gLzIfqUEAem/pLGOFQQCXNgCpeIlFA7Qa8+BQLUUBUXWYd/Q9RQL5rIOkU41BAUyq5ayXqUEAdb1L+bd9QQN2g6jW93FBAOwUW87rfUEC1DaWjJRZRQHqS6S8+/lBAkWDloKm0UEA6GFCxKLFQQN/D6RJbmlBAKEq7mTXQUEALeMN4LbhQQC60lWV9DFFAbB23pK/xUEBZNXfErhxRQJj4y3VZ6lBAnHXtbHgKUUDscFIVBmlRQGduEZKudlFAmLivUCDMUUAUCpkBwvZRQGvxsG6nCFJA3N2Z1w4rUkD9PBlMDQpSQPqPj5OeElJAWpfarTEGUkCIzjsSDBpSQOI6bov8PFJAHRFeMDUSUkAvBmCR2Q1SQLjTxtk/81FAr3R6VPwsUkBHdUHxRxFSQCqkjTkOW1JAnCeATyJTUkBqT5y90W5SQKVkzdlArlJAM0bgYPO6UkBqGJpvIspSQCIqysajsFJAhJ1Kjoe1UkBXJlOEJttSQO1N6R2rDlNAnQmSySevUkCXqz5ku8FSQDFD782xqFJA7TeCAbPEUkB4U6ZBZ+NSQBsFVOk2CVNAZrL3UaoBU0AsBtD0Wv1SQJWtOLW471JAkUHaVpoAU0BDvOD2KC5TQFnMydo0flNAibJbZmlkU0Cyoxs1ADVTQOXG95wuUFNAgBy79KNjU0CPIrdpfWpTQChtv4QkhVNATbYdLAqSU0ACP1iNX7JTQCF7kXpRi1NAmPzdcp/PU0AoraFJgYtTQGheYcI4cFNANiKxe0iMU0COgtZRV3RTQED9MqwWeVNA/cFswp3YU0DCMmARzcdTQAcV57rC8FNACdIuV1rgU0Bb0WqnRMRTQIL9Qh3ro1NAZ+MqLZXOU0AaEO73Z7NTQHaCnh3Vo1NA3SheqNnsU0CZtGeF4exTQGrHq2e9rlNAdhxJTMT/U0AthbZvVvJTQEmoSFSb31NAh/GuT10RVED4kX5ofx5UQOeDSf2wgVRA82+ufXWbVEC0AIpiS5VUQOEO8238Z1RArsZupOWcVEDPQ7sJho1UQP1MyV/nr1RA9KxXyfeqVEBbcnehbO9UQGE4hLRD7FRA7cuioIHbVEBBZxy90L9UQHGfrb/PyVRA02AeFoLsVEAld+HXsNxUQJbyigoM1VRA6VTjC1YPVUDJ02n0TR9VQOXdHtL5LVVAOMVZ3M5SVUBlrUYj9hVVQA14hA4YXVVAmFIAsN9PVUDsYP61N5ZVQCQ3iaK+WVVAejzdXFctVUD5m8vdxlZVQNrebgUId1VAECZWn+VyVUBGMstTY6xVQGXtkGD8v1VAj/9vDemyVUAodTWJWbtVQGi9QugX5FVAgaC23L/IVUCY6Z/g6M5VQEYTVoij3lVAkSmdMczaVUC5YuGg+r9VQDcWbhNvHlZAwOQmr/L+VUDgZxPuOUZWQCrAKd1fJVZA+f8BRj0ZVkA6ecqRHi9WQI5FKuPQ2VVAWeuX+nXyVUCL1PllXbBVQJhmt1xmw1VAnb+bKn7PVUAobpHdxdpVQMyACqU9k1VAoS//O/TBVUAbyAztTsFVQLa4VjsbdVVAdFocDLbEVUDG/rOJ7JVVQIOGFdn1gFVAcC/uZt2CVUCrRu85W2BVQLUgudwUW1VAyv2z6f9pVUCskikgrnNVQDGyrPx/j1VAarMvEUZ3VUDGL0gP/ppVQKVdU84J6VVAPFgGI8z9VUCskINNyuNVQGeA+/IjFVZAl/mEaAQSVkAKBw5cjk5WQIJvXeGnUlZAkhPBxraPVkCJEw4Ff5lWQMbvtPo0xFZAlqhGzrziVkAByubTD9pWQPLTNwyvDldA4F97270LV0CbaSBBiSNXQEio9+dpC1dAoflLli/vVkDKKLASZvhWQGsppgT0zlZAvTKhtjj8VkA/DEDUextXQMBduqzSGFdA4Ywq8EhKV0DPltYl7u1WQNpGkpLkG1dA/DcFuPQbV0DIp1E83jVXQNXD5glDSFdAFe9xxKk0V0D9+rYgbfdWQNXVa+a0HldAODI46nbdVkDu1XQpHrpWQHfvzldumVZAIlVXTBbSVkCStnZO8LFWQEoaoKqt2FZAcE9RJ6CmVkDmKqt6JgVXQPDdIS+c1FZAGfYxBzoAV0DhghCdYApXQGkbrW+n41ZAo03BF5AXV0CrlJWc8BpXQNj9c6XZ4VZAUxzvaur9VkCPaZkFCeZWQBos79KJDFdA//p9mJDvVkDJqG5Jsu1WQDz1RnHerlZAP2fgFsCIVkACa6d5WbtWQLldEz+c91ZAihN6ShTYVkBCNmC4Ie5WQEC58+SZzFZA2jmyLb8gV0DnD8Z7AO5WQFlLGTNWE1dAWrkGMHgBV0CIwDNKTMxWQDO2F0k6PldAwWcJ454BV0CC686twMpWQLQgkNOP6VZAB5WohzLVVkBWx5vQhcVWQFKdxAzVs1ZAJyUitw6/VkDi88VkSslWQLspHXI2vFZAo1XG8dGKVkBp+DYXJ6hWQIXB2DXCvVZAUmO71OTwVkArqeI2VPBWQB3SfVDWEVdAjNihNCcPV0DcfmwfQ/1WQCtpcyvUDFdAcGCxeEnhVkASKnpt0bhWQHkD0w9H4lZAtcQJ9rkDV0AuD5roGBJXQD7wQNl+61ZAmGUzfDEMV0D3zROC+RFXQNDnE9uR31ZA65VJCT+dVkAnDg8rvPhWQHLLt9FnKFdAl42O0Hv8VkCn8UqImkBXQJwkwCbocldAyh/6bK12V0A=",
        "encoding": "base64",
        "path": [
         "_data",
         0,
         "low",
         "value"
        ]
       },
       {
        "data": "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",
        "encoding": "base64",
        "path": [
         "_data",
         0,
         "open",
         "value"
        ]
       },
       {
        "data": "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",
        "encoding": "base64",
        "path": [
         "_data",
         1,
         "y",
         "value"
        ]
       }
      ],
      "model_module": "plotlywidget",
      "model_module_version": "1.5.0",
      "model_name": "FigureModel",
      "state": {
       "_config": {
        "plotlyServerURL": "https://plot.ly"
       },
       "_data": [
        {
         "close": {
          "dtype": "float64",
          "shape": [
           1000
          ]
         },
         "high": {
          "dtype": "float64",
          "shape": [
           1000
          ]
         },
         "low": {
          "dtype": "float64",
          "shape": [
           1000
          ]
         },
         "name": "OHLC",
         "open": {
          "dtype": "float64",
          "shape": [
           1000
          ]
         },
         "type": "candlestick",
         "uid": "7be81bbf-89e8-4644-a66c-5cf914b66803",
         "x": [
          "2018-01-01T00:00:00.000000",
          "2018-01-02T00:00:00.000000",
          "2018-01-03T00:00:00.000000",
          "2018-01-04T00:00:00.000000",
          "2018-01-05T00:00:00.000000",
          "2018-01-06T00:00:00.000000",
          "2018-01-07T00:00:00.000000",
          "2018-01-08T00:00:00.000000",
          "2018-01-09T00:00:00.000000",
          "2018-01-10T00:00:00.000000",
          "2018-01-11T00:00:00.000000",
          "2018-01-12T00:00:00.000000",
          "2018-01-13T00:00:00.000000",
          "2018-01-14T00:00:00.000000",
          "2018-01-15T00:00:00.000000",
          "2018-01-16T00:00:00.000000",
          "2018-01-17T00:00:00.000000",
          "2018-01-18T00:00:00.000000",
          "2018-01-19T00:00:00.000000",
          "2018-01-20T00:00:00.000000",
          "2018-01-21T00:00:00.000000",
          "2018-01-22T00:00:00.000000",
          "2018-01-23T00:00:00.000000",
          "2018-01-24T00:00:00.000000",
          "2018-01-25T00:00:00.000000",
          "2018-01-26T00:00:00.000000",
          "2018-01-27T00:00:00.000000",
          "2018-01-28T00:00:00.000000",
          "2018-01-29T00:00:00.000000",
          "2018-01-30T00:00:00.000000",
          "2018-01-31T00:00:00.000000",
          "2018-02-01T00:00:00.000000",
          "2018-02-02T00:00:00.000000",
          "2018-02-03T00:00:00.000000",
          "2018-02-04T00:00:00.000000",
          "2018-02-05T00:00:00.000000",
          "2018-02-06T00:00:00.000000",
          "2018-02-07T00:00:00.000000",
          "2018-02-08T00:00:00.000000",
          "2018-02-09T00:00:00.000000",
          "2018-02-10T00:00:00.000000",
          "2018-02-11T00:00:00.000000",
          "2018-02-12T00:00:00.000000",
          "2018-02-13T00:00:00.000000",
          "2018-02-14T00:00:00.000000",
          "2018-02-15T00:00:00.000000",
          "2018-02-16T00:00:00.000000",
          "2018-02-17T00:00:00.000000",
          "2018-02-18T00:00:00.000000",
          "2018-02-19T00:00:00.000000",
          "2018-02-20T00:00:00.000000",
          "2018-02-21T00:00:00.000000",
          "2018-02-22T00:00:00.000000",
          "2018-02-23T00:00:00.000000",
          "2018-02-24T00:00:00.000000",
          "2018-02-25T00:00:00.000000",
          "2018-02-26T00:00:00.000000",
          "2018-02-27T00:00:00.000000",
          "2018-02-28T00:00:00.000000",
          "2018-03-01T00:00:00.000000",
          "2018-03-02T00:00:00.000000",
          "2018-03-03T00:00:00.000000",
          "2018-03-04T00:00:00.000000",
          "2018-03-05T00:00:00.000000",
          "2018-03-06T00:00:00.000000",
          "2018-03-07T00:00:00.000000",
          "2018-03-08T00:00:00.000000",
          "2018-03-09T00:00:00.000000",
          "2018-03-10T00:00:00.000000",
          "2018-03-11T00:00:00.000000",
          "2018-03-12T00:00:00.000000",
          "2018-03-13T00:00:00.000000",
          "2018-03-14T00:00:00.000000",
          "2018-03-15T00:00:00.000000",
          "2018-03-16T00:00:00.000000",
          "2018-03-17T00:00:00.000000",
          "2018-03-18T00:00:00.000000",
          "2018-03-19T00:00:00.000000",
          "2018-03-20T00:00:00.000000",
          "2018-03-21T00:00:00.000000",
          "2018-03-22T00:00:00.000000",
          "2018-03-23T00:00:00.000000",
          "2018-03-24T00:00:00.000000",
          "2018-03-25T00:00:00.000000",
          "2018-03-26T00:00:00.000000",
          "2018-03-27T00:00:00.000000",
          "2018-03-28T00:00:00.000000",
          "2018-03-29T00:00:00.000000",
          "2018-03-30T00:00:00.000000",
          "2018-03-31T00:00:00.000000",
          "2018-04-01T00:00:00.000000",
          "2018-04-02T00:00:00.000000",
          "2018-04-03T00:00:00.000000",
          "2018-04-04T00:00:00.000000",
          "2018-04-05T00:00:00.000000",
          "2018-04-06T00:00:00.000000",
          "2018-04-07T00:00:00.000000",
          "2018-04-08T00:00:00.000000",
          "2018-04-09T00:00:00.000000",
          "2018-04-10T00:00:00.000000",
          "2018-04-11T00:00:00.000000",
          "2018-04-12T00:00:00.000000",
          "2018-04-13T00:00:00.000000",
          "2018-04-14T00:00:00.000000",
          "2018-04-15T00:00:00.000000",
          "2018-04-16T00:00:00.000000",
          "2018-04-17T00:00:00.000000",
          "2018-04-18T00:00:00.000000",
          "2018-04-19T00:00:00.000000",
          "2018-04-20T00:00:00.000000",
          "2018-04-21T00:00:00.000000",
          "2018-04-22T00:00:00.000000",
          "2018-04-23T00:00:00.000000",
          "2018-04-24T00:00:00.000000",
          "2018-04-25T00:00:00.000000",
          "2018-04-26T00:00:00.000000",
          "2018-04-27T00:00:00.000000",
          "2018-04-28T00:00:00.000000",
          "2018-04-29T00:00:00.000000",
          "2018-04-30T00:00:00.000000",
          "2018-05-01T00:00:00.000000",
          "2018-05-02T00:00:00.000000",
          "2018-05-03T00:00:00.000000",
          "2018-05-04T00:00:00.000000",
          "2018-05-05T00:00:00.000000",
          "2018-05-06T00:00:00.000000",
          "2018-05-07T00:00:00.000000",
          "2018-05-08T00:00:00.000000",
          "2018-05-09T00:00:00.000000",
          "2018-05-10T00:00:00.000000",
          "2018-05-11T00:00:00.000000",
          "2018-05-12T00:00:00.000000",
          "2018-05-13T00:00:00.000000",
          "2018-05-14T00:00:00.000000",
          "2018-05-15T00:00:00.000000",
          "2018-05-16T00:00:00.000000",
          "2018-05-17T00:00:00.000000",
          "2018-05-18T00:00:00.000000",
          "2018-05-19T00:00:00.000000",
          "2018-05-20T00:00:00.000000",
          "2018-05-21T00:00:00.000000",
          "2018-05-22T00:00:00.000000",
          "2018-05-23T00:00:00.000000",
          "2018-05-24T00:00:00.000000",
          "2018-05-25T00:00:00.000000",
          "2018-05-26T00:00:00.000000",
          "2018-05-27T00:00:00.000000",
          "2018-05-28T00:00:00.000000",
          "2018-05-29T00:00:00.000000",
          "2018-05-30T00:00:00.000000",
          "2018-05-31T00:00:00.000000",
          "2018-06-01T00:00:00.000000",
          "2018-06-02T00:00:00.000000",
          "2018-06-03T00:00:00.000000",
          "2018-06-04T00:00:00.000000",
          "2018-06-05T00:00:00.000000",
          "2018-06-06T00:00:00.000000",
          "2018-06-07T00:00:00.000000",
          "2018-06-08T00:00:00.000000",
          "2018-06-09T00:00:00.000000",
          "2018-06-10T00:00:00.000000",
          "2018-06-11T00:00:00.000000",
          "2018-06-12T00:00:00.000000",
          "2018-06-13T00:00:00.000000",
          "2018-06-14T00:00:00.000000",
          "2018-06-15T00:00:00.000000",
          "2018-06-16T00:00:00.000000",
          "2018-06-17T00:00:00.000000",
          "2018-06-18T00:00:00.000000",
          "2018-06-19T00:00:00.000000",
          "2018-06-20T00:00:00.000000",
          "2018-06-21T00:00:00.000000",
          "2018-06-22T00:00:00.000000",
          "2018-06-23T00:00:00.000000",
          "2018-06-24T00:00:00.000000",
          "2018-06-25T00:00:00.000000",
          "2018-06-26T00:00:00.000000",
          "2018-06-27T00:00:00.000000",
          "2018-06-28T00:00:00.000000",
          "2018-06-29T00:00:00.000000",
          "2018-06-30T00:00:00.000000",
          "2018-07-01T00:00:00.000000",
          "2018-07-02T00:00:00.000000",
          "2018-07-03T00:00:00.000000",
          "2018-07-04T00:00:00.000000",
          "2018-07-05T00:00:00.000000",
          "2018-07-06T00:00:00.000000",
          "2018-07-07T00:00:00.000000",
          "2018-07-08T00:00:00.000000",
          "2018-07-09T00:00:00.000000",
          "2018-07-10T00:00:00.000000",
          "2018-07-11T00:00:00.000000",
          "2018-07-12T00:00:00.000000",
          "2018-07-13T00:00:00.000000",
          "2018-07-14T00:00:00.000000",
          "2018-07-15T00:00:00.000000",
          "2018-07-16T00:00:00.000000",
          "2018-07-17T00:00:00.000000",
          "2018-07-18T00:00:00.000000",
          "2018-07-19T00:00:00.000000",
          "2018-07-20T00:00:00.000000",
          "2018-07-21T00:00:00.000000",
          "2018-07-22T00:00:00.000000",
          "2018-07-23T00:00:00.000000",
          "2018-07-24T00:00:00.000000",
          "2018-07-25T00:00:00.000000",
          "2018-07-26T00:00:00.000000",
          "2018-07-27T00:00:00.000000",
          "2018-07-28T00:00:00.000000",
          "2018-07-29T00:00:00.000000",
          "2018-07-30T00:00:00.000000",
          "2018-07-31T00:00:00.000000",
          "2018-08-01T00:00:00.000000",
          "2018-08-02T00:00:00.000000",
          "2018-08-03T00:00:00.000000",
          "2018-08-04T00:00:00.000000",
          "2018-08-05T00:00:00.000000",
          "2018-08-06T00:00:00.000000",
          "2018-08-07T00:00:00.000000",
          "2018-08-08T00:00:00.000000",
          "2018-08-09T00:00:00.000000",
          "2018-08-10T00:00:00.000000",
          "2018-08-11T00:00:00.000000",
          "2018-08-12T00:00:00.000000",
          "2018-08-13T00:00:00.000000",
          "2018-08-14T00:00:00.000000",
          "2018-08-15T00:00:00.000000",
          "2018-08-16T00:00:00.000000",
          "2018-08-17T00:00:00.000000",
          "2018-08-18T00:00:00.000000",
          "2018-08-19T00:00:00.000000",
          "2018-08-20T00:00:00.000000",
          "2018-08-21T00:00:00.000000",
          "2018-08-22T00:00:00.000000",
          "2018-08-23T00:00:00.000000",
          "2018-08-24T00:00:00.000000",
          "2018-08-25T00:00:00.000000",
          "2018-08-26T00:00:00.000000",
          "2018-08-27T00:00:00.000000",
          "2018-08-28T00:00:00.000000",
          "2018-08-29T00:00:00.000000",
          "2018-08-30T00:00:00.000000",
          "2018-08-31T00:00:00.000000",
          "2018-09-01T00:00:00.000000",
          "2018-09-02T00:00:00.000000",
          "2018-09-03T00:00:00.000000",
          "2018-09-04T00:00:00.000000",
          "2018-09-05T00:00:00.000000",
          "2018-09-06T00:00:00.000000",
          "2018-09-07T00:00:00.000000",
          "2018-09-08T00:00:00.000000",
          "2018-09-09T00:00:00.000000",
          "2018-09-10T00:00:00.000000",
          "2018-09-11T00:00:00.000000",
          "2018-09-12T00:00:00.000000",
          "2018-09-13T00:00:00.000000",
          "2018-09-14T00:00:00.000000",
          "2018-09-15T00:00:00.000000",
          "2018-09-16T00:00:00.000000",
          "2018-09-17T00:00:00.000000",
          "2018-09-18T00:00:00.000000",
          "2018-09-19T00:00:00.000000",
          "2018-09-20T00:00:00.000000",
          "2018-09-21T00:00:00.000000",
          "2018-09-22T00:00:00.000000",
          "2018-09-23T00:00:00.000000",
          "2018-09-24T00:00:00.000000",
          "2018-09-25T00:00:00.000000",
          "2018-09-26T00:00:00.000000",
          "2018-09-27T00:00:00.000000",
          "2018-09-28T00:00:00.000000",
          "2018-09-29T00:00:00.000000",
          "2018-09-30T00:00:00.000000",
          "2018-10-01T00:00:00.000000",
          "2018-10-02T00:00:00.000000",
          "2018-10-03T00:00:00.000000",
          "2018-10-04T00:00:00.000000",
          "2018-10-05T00:00:00.000000",
          "2018-10-06T00:00:00.000000",
          "2018-10-07T00:00:00.000000",
          "2018-10-08T00:00:00.000000",
          "2018-10-09T00:00:00.000000",
          "2018-10-10T00:00:00.000000",
          "2018-10-11T00:00:00.000000",
          "2018-10-12T00:00:00.000000",
          "2018-10-13T00:00:00.000000",
          "2018-10-14T00:00:00.000000",
          "2018-10-15T00:00:00.000000",
          "2018-10-16T00:00:00.000000",
          "2018-10-17T00:00:00.000000",
          "2018-10-18T00:00:00.000000",
          "2018-10-19T00:00:00.000000",
          "2018-10-20T00:00:00.000000",
          "2018-10-21T00:00:00.000000",
          "2018-10-22T00:00:00.000000",
          "2018-10-23T00:00:00.000000",
          "2018-10-24T00:00:00.000000",
          "2018-10-25T00:00:00.000000",
          "2018-10-26T00:00:00.000000",
          "2018-10-27T00:00:00.000000",
          "2018-10-28T00:00:00.000000",
          "2018-10-29T00:00:00.000000",
          "2018-10-30T00:00:00.000000",
          "2018-10-31T00:00:00.000000",
          "2018-11-01T00:00:00.000000",
          "2018-11-02T00:00:00.000000",
          "2018-11-03T00:00:00.000000",
          "2018-11-04T00:00:00.000000",
          "2018-11-05T00:00:00.000000",
          "2018-11-06T00:00:00.000000",
          "2018-11-07T00:00:00.000000",
          "2018-11-08T00:00:00.000000",
          "2018-11-09T00:00:00.000000",
          "2018-11-10T00:00:00.000000",
          "2018-11-11T00:00:00.000000",
          "2018-11-12T00:00:00.000000",
          "2018-11-13T00:00:00.000000",
          "2018-11-14T00:00:00.000000",
          "2018-11-15T00:00:00.000000",
          "2018-11-16T00:00:00.000000",
          "2018-11-17T00:00:00.000000",
          "2018-11-18T00:00:00.000000",
          "2018-11-19T00:00:00.000000",
          "2018-11-20T00:00:00.000000",
          "2018-11-21T00:00:00.000000",
          "2018-11-22T00:00:00.000000",
          "2018-11-23T00:00:00.000000",
          "2018-11-24T00:00:00.000000",
          "2018-11-25T00:00:00.000000",
          "2018-11-26T00:00:00.000000",
          "2018-11-27T00:00:00.000000",
          "2018-11-28T00:00:00.000000",
          "2018-11-29T00:00:00.000000",
          "2018-11-30T00:00:00.000000",
          "2018-12-01T00:00:00.000000",
          "2018-12-02T00:00:00.000000",
          "2018-12-03T00:00:00.000000",
          "2018-12-04T00:00:00.000000",
          "2018-12-05T00:00:00.000000",
          "2018-12-06T00:00:00.000000",
          "2018-12-07T00:00:00.000000",
          "2018-12-08T00:00:00.000000",
          "2018-12-09T00:00:00.000000",
          "2018-12-10T00:00:00.000000",
          "2018-12-11T00:00:00.000000",
          "2018-12-12T00:00:00.000000",
          "2018-12-13T00:00:00.000000",
          "2018-12-14T00:00:00.000000",
          "2018-12-15T00:00:00.000000",
          "2018-12-16T00:00:00.000000",
          "2018-12-17T00:00:00.000000",
          "2018-12-18T00:00:00.000000",
          "2018-12-19T00:00:00.000000",
          "2018-12-20T00:00:00.000000",
          "2018-12-21T00:00:00.000000",
          "2018-12-22T00:00:00.000000",
          "2018-12-23T00:00:00.000000",
          "2018-12-24T00:00:00.000000",
          "2018-12-25T00:00:00.000000",
          "2018-12-26T00:00:00.000000",
          "2018-12-27T00:00:00.000000",
          "2018-12-28T00:00:00.000000",
          "2018-12-29T00:00:00.000000",
          "2018-12-30T00:00:00.000000",
          "2018-12-31T00:00:00.000000",
          "2019-01-01T00:00:00.000000",
          "2019-01-02T00:00:00.000000",
          "2019-01-03T00:00:00.000000",
          "2019-01-04T00:00:00.000000",
          "2019-01-05T00:00:00.000000",
          "2019-01-06T00:00:00.000000",
          "2019-01-07T00:00:00.000000",
          "2019-01-08T00:00:00.000000",
          "2019-01-09T00:00:00.000000",
          "2019-01-10T00:00:00.000000",
          "2019-01-11T00:00:00.000000",
          "2019-01-12T00:00:00.000000",
          "2019-01-13T00:00:00.000000",
          "2019-01-14T00:00:00.000000",
          "2019-01-15T00:00:00.000000",
          "2019-01-16T00:00:00.000000",
          "2019-01-17T00:00:00.000000",
          "2019-01-18T00:00:00.000000",
          "2019-01-19T00:00:00.000000",
          "2019-01-20T00:00:00.000000",
          "2019-01-21T00:00:00.000000",
          "2019-01-22T00:00:00.000000",
          "2019-01-23T00:00:00.000000",
          "2019-01-24T00:00:00.000000",
          "2019-01-25T00:00:00.000000",
          "2019-01-26T00:00:00.000000",
          "2019-01-27T00:00:00.000000",
          "2019-01-28T00:00:00.000000",
          "2019-01-29T00:00:00.000000",
          "2019-01-30T00:00:00.000000",
          "2019-01-31T00:00:00.000000",
          "2019-02-01T00:00:00.000000",
          "2019-02-02T00:00:00.000000",
          "2019-02-03T00:00:00.000000",
          "2019-02-04T00:00:00.000000",
          "2019-02-05T00:00:00.000000",
          "2019-02-06T00:00:00.000000",
          "2019-02-07T00:00:00.000000",
          "2019-02-08T00:00:00.000000",
          "2019-02-09T00:00:00.000000",
          "2019-02-10T00:00:00.000000",
          "2019-02-11T00:00:00.000000",
          "2019-02-12T00:00:00.000000",
          "2019-02-13T00:00:00.000000",
          "2019-02-14T00:00:00.000000",
          "2019-02-15T00:00:00.000000",
          "2019-02-16T00:00:00.000000",
          "2019-02-17T00:00:00.000000",
          "2019-02-18T00:00:00.000000",
          "2019-02-19T00:00:00.000000",
          "2019-02-20T00:00:00.000000",
          "2019-02-21T00:00:00.000000",
          "2019-02-22T00:00:00.000000",
          "2019-02-23T00:00:00.000000",
          "2019-02-24T00:00:00.000000",
          "2019-02-25T00:00:00.000000",
          "2019-02-26T00:00:00.000000",
          "2019-02-27T00:00:00.000000",
          "2019-02-28T00:00:00.000000",
          "2019-03-01T00:00:00.000000",
          "2019-03-02T00:00:00.000000",
          "2019-03-03T00:00:00.000000",
          "2019-03-04T00:00:00.000000",
          "2019-03-05T00:00:00.000000",
          "2019-03-06T00:00:00.000000",
          "2019-03-07T00:00:00.000000",
          "2019-03-08T00:00:00.000000",
          "2019-03-09T00:00:00.000000",
          "2019-03-10T00:00:00.000000",
          "2019-03-11T00:00:00.000000",
          "2019-03-12T00:00:00.000000",
          "2019-03-13T00:00:00.000000",
          "2019-03-14T00:00:00.000000",
          "2019-03-15T00:00:00.000000",
          "2019-03-16T00:00:00.000000",
          "2019-03-17T00:00:00.000000",
          "2019-03-18T00:00:00.000000",
          "2019-03-19T00:00:00.000000",
          "2019-03-20T00:00:00.000000",
          "2019-03-21T00:00:00.000000",
          "2019-03-22T00:00:00.000000",
          "2019-03-23T00:00:00.000000",
          "2019-03-24T00:00:00.000000",
          "2019-03-25T00:00:00.000000",
          "2019-03-26T00:00:00.000000",
          "2019-03-27T00:00:00.000000",
          "2019-03-28T00:00:00.000000",
          "2019-03-29T00:00:00.000000",
          "2019-03-30T00:00:00.000000",
          "2019-03-31T00:00:00.000000",
          "2019-04-01T00:00:00.000000",
          "2019-04-02T00:00:00.000000",
          "2019-04-03T00:00:00.000000",
          "2019-04-04T00:00:00.000000",
          "2019-04-05T00:00:00.000000",
          "2019-04-06T00:00:00.000000",
          "2019-04-07T00:00:00.000000",
          "2019-04-08T00:00:00.000000",
          "2019-04-09T00:00:00.000000",
          "2019-04-10T00:00:00.000000",
          "2019-04-11T00:00:00.000000",
          "2019-04-12T00:00:00.000000",
          "2019-04-13T00:00:00.000000",
          "2019-04-14T00:00:00.000000",
          "2019-04-15T00:00:00.000000",
          "2019-04-16T00:00:00.000000",
          "2019-04-17T00:00:00.000000",
          "2019-04-18T00:00:00.000000",
          "2019-04-19T00:00:00.000000",
          "2019-04-20T00:00:00.000000",
          "2019-04-21T00:00:00.000000",
          "2019-04-22T00:00:00.000000",
          "2019-04-23T00:00:00.000000",
          "2019-04-24T00:00:00.000000",
          "2019-04-25T00:00:00.000000",
          "2019-04-26T00:00:00.000000",
          "2019-04-27T00:00:00.000000",
          "2019-04-28T00:00:00.000000",
          "2019-04-29T00:00:00.000000",
          "2019-04-30T00:00:00.000000",
          "2019-05-01T00:00:00.000000",
          "2019-05-02T00:00:00.000000",
          "2019-05-03T00:00:00.000000",
          "2019-05-04T00:00:00.000000",
          "2019-05-05T00:00:00.000000",
          "2019-05-06T00:00:00.000000",
          "2019-05-07T00:00:00.000000",
          "2019-05-08T00:00:00.000000",
          "2019-05-09T00:00:00.000000",
          "2019-05-10T00:00:00.000000",
          "2019-05-11T00:00:00.000000",
          "2019-05-12T00:00:00.000000",
          "2019-05-13T00:00:00.000000",
          "2019-05-14T00:00:00.000000",
          "2019-05-15T00:00:00.000000",
          "2019-05-16T00:00:00.000000",
          "2019-05-17T00:00:00.000000",
          "2019-05-18T00:00:00.000000",
          "2019-05-19T00:00:00.000000",
          "2019-05-20T00:00:00.000000",
          "2019-05-21T00:00:00.000000",
          "2019-05-22T00:00:00.000000",
          "2019-05-23T00:00:00.000000",
          "2019-05-24T00:00:00.000000",
          "2019-05-25T00:00:00.000000",
          "2019-05-26T00:00:00.000000",
          "2019-05-27T00:00:00.000000",
          "2019-05-28T00:00:00.000000",
          "2019-05-29T00:00:00.000000",
          "2019-05-30T00:00:00.000000",
          "2019-05-31T00:00:00.000000",
          "2019-06-01T00:00:00.000000",
          "2019-06-02T00:00:00.000000",
          "2019-06-03T00:00:00.000000",
          "2019-06-04T00:00:00.000000",
          "2019-06-05T00:00:00.000000",
          "2019-06-06T00:00:00.000000",
          "2019-06-07T00:00:00.000000",
          "2019-06-08T00:00:00.000000",
          "2019-06-09T00:00:00.000000",
          "2019-06-10T00:00:00.000000",
          "2019-06-11T00:00:00.000000",
          "2019-06-12T00:00:00.000000",
          "2019-06-13T00:00:00.000000",
          "2019-06-14T00:00:00.000000",
          "2019-06-15T00:00:00.000000",
          "2019-06-16T00:00:00.000000",
          "2019-06-17T00:00:00.000000",
          "2019-06-18T00:00:00.000000",
          "2019-06-19T00:00:00.000000",
          "2019-06-20T00:00:00.000000",
          "2019-06-21T00:00:00.000000",
          "2019-06-22T00:00:00.000000",
          "2019-06-23T00:00:00.000000",
          "2019-06-24T00:00:00.000000",
          "2019-06-25T00:00:00.000000",
          "2019-06-26T00:00:00.000000",
          "2019-06-27T00:00:00.000000",
          "2019-06-28T00:00:00.000000",
          "2019-06-29T00:00:00.000000",
          "2019-06-30T00:00:00.000000",
          "2019-07-01T00:00:00.000000",
          "2019-07-02T00:00:00.000000",
          "2019-07-03T00:00:00.000000",
          "2019-07-04T00:00:00.000000",
          "2019-07-05T00:00:00.000000",
          "2019-07-06T00:00:00.000000",
          "2019-07-07T00:00:00.000000",
          "2019-07-08T00:00:00.000000",
          "2019-07-09T00:00:00.000000",
          "2019-07-10T00:00:00.000000",
          "2019-07-11T00:00:00.000000",
          "2019-07-12T00:00:00.000000",
          "2019-07-13T00:00:00.000000",
          "2019-07-14T00:00:00.000000",
          "2019-07-15T00:00:00.000000",
          "2019-07-16T00:00:00.000000",
          "2019-07-17T00:00:00.000000",
          "2019-07-18T00:00:00.000000",
          "2019-07-19T00:00:00.000000",
          "2019-07-20T00:00:00.000000",
          "2019-07-21T00:00:00.000000",
          "2019-07-22T00:00:00.000000",
          "2019-07-23T00:00:00.000000",
          "2019-07-24T00:00:00.000000",
          "2019-07-25T00:00:00.000000",
          "2019-07-26T00:00:00.000000",
          "2019-07-27T00:00:00.000000",
          "2019-07-28T00:00:00.000000",
          "2019-07-29T00:00:00.000000",
          "2019-07-30T00:00:00.000000",
          "2019-07-31T00:00:00.000000",
          "2019-08-01T00:00:00.000000",
          "2019-08-02T00:00:00.000000",
          "2019-08-03T00:00:00.000000",
          "2019-08-04T00:00:00.000000",
          "2019-08-05T00:00:00.000000",
          "2019-08-06T00:00:00.000000",
          "2019-08-07T00:00:00.000000",
          "2019-08-08T00:00:00.000000",
          "2019-08-09T00:00:00.000000",
          "2019-08-10T00:00:00.000000",
          "2019-08-11T00:00:00.000000",
          "2019-08-12T00:00:00.000000",
          "2019-08-13T00:00:00.000000",
          "2019-08-14T00:00:00.000000",
          "2019-08-15T00:00:00.000000",
          "2019-08-16T00:00:00.000000",
          "2019-08-17T00:00:00.000000",
          "2019-08-18T00:00:00.000000",
          "2019-08-19T00:00:00.000000",
          "2019-08-20T00:00:00.000000",
          "2019-08-21T00:00:00.000000",
          "2019-08-22T00:00:00.000000",
          "2019-08-23T00:00:00.000000",
          "2019-08-24T00:00:00.000000",
          "2019-08-25T00:00:00.000000",
          "2019-08-26T00:00:00.000000",
          "2019-08-27T00:00:00.000000",
          "2019-08-28T00:00:00.000000",
          "2019-08-29T00:00:00.000000",
          "2019-08-30T00:00:00.000000",
          "2019-08-31T00:00:00.000000",
          "2019-09-01T00:00:00.000000",
          "2019-09-02T00:00:00.000000",
          "2019-09-03T00:00:00.000000",
          "2019-09-04T00:00:00.000000",
          "2019-09-05T00:00:00.000000",
          "2019-09-06T00:00:00.000000",
          "2019-09-07T00:00:00.000000",
          "2019-09-08T00:00:00.000000",
          "2019-09-09T00:00:00.000000",
          "2019-09-10T00:00:00.000000",
          "2019-09-11T00:00:00.000000",
          "2019-09-12T00:00:00.000000",
          "2019-09-13T00:00:00.000000",
          "2019-09-14T00:00:00.000000",
          "2019-09-15T00:00:00.000000",
          "2019-09-16T00:00:00.000000",
          "2019-09-17T00:00:00.000000",
          "2019-09-18T00:00:00.000000",
          "2019-09-19T00:00:00.000000",
          "2019-09-20T00:00:00.000000",
          "2019-09-21T00:00:00.000000",
          "2019-09-22T00:00:00.000000",
          "2019-09-23T00:00:00.000000",
          "2019-09-24T00:00:00.000000",
          "2019-09-25T00:00:00.000000",
          "2019-09-26T00:00:00.000000",
          "2019-09-27T00:00:00.000000",
          "2019-09-28T00:00:00.000000",
          "2019-09-29T00:00:00.000000",
          "2019-09-30T00:00:00.000000",
          "2019-10-01T00:00:00.000000",
          "2019-10-02T00:00:00.000000",
          "2019-10-03T00:00:00.000000",
          "2019-10-04T00:00:00.000000",
          "2019-10-05T00:00:00.000000",
          "2019-10-06T00:00:00.000000",
          "2019-10-07T00:00:00.000000",
          "2019-10-08T00:00:00.000000",
          "2019-10-09T00:00:00.000000",
          "2019-10-10T00:00:00.000000",
          "2019-10-11T00:00:00.000000",
          "2019-10-12T00:00:00.000000",
          "2019-10-13T00:00:00.000000",
          "2019-10-14T00:00:00.000000",
          "2019-10-15T00:00:00.000000",
          "2019-10-16T00:00:00.000000",
          "2019-10-17T00:00:00.000000",
          "2019-10-18T00:00:00.000000",
          "2019-10-19T00:00:00.000000",
          "2019-10-20T00:00:00.000000",
          "2019-10-21T00:00:00.000000",
          "2019-10-22T00:00:00.000000",
          "2019-10-23T00:00:00.000000",
          "2019-10-24T00:00:00.000000",
          "2019-10-25T00:00:00.000000",
          "2019-10-26T00:00:00.000000",
          "2019-10-27T00:00:00.000000",
          "2019-10-28T00:00:00.000000",
          "2019-10-29T00:00:00.000000",
          "2019-10-30T00:00:00.000000",
          "2019-10-31T00:00:00.000000",
          "2019-11-01T00:00:00.000000",
          "2019-11-02T00:00:00.000000",
          "2019-11-03T00:00:00.000000",
          "2019-11-04T00:00:00.000000",
          "2019-11-05T00:00:00.000000",
          "2019-11-06T00:00:00.000000",
          "2019-11-07T00:00:00.000000",
          "2019-11-08T00:00:00.000000",
          "2019-11-09T00:00:00.000000",
          "2019-11-10T00:00:00.000000",
          "2019-11-11T00:00:00.000000",
          "2019-11-12T00:00:00.000000",
          "2019-11-13T00:00:00.000000",
          "2019-11-14T00:00:00.000000",
          "2019-11-15T00:00:00.000000",
          "2019-11-16T00:00:00.000000",
          "2019-11-17T00:00:00.000000",
          "2019-11-18T00:00:00.000000",
          "2019-11-19T00:00:00.000000",
          "2019-11-20T00:00:00.000000",
          "2019-11-21T00:00:00.000000",
          "2019-11-22T00:00:00.000000",
          "2019-11-23T00:00:00.000000",
          "2019-11-24T00:00:00.000000",
          "2019-11-25T00:00:00.000000",
          "2019-11-26T00:00:00.000000",
          "2019-11-27T00:00:00.000000",
          "2019-11-28T00:00:00.000000",
          "2019-11-29T00:00:00.000000",
          "2019-11-30T00:00:00.000000",
          "2019-12-01T00:00:00.000000",
          "2019-12-02T00:00:00.000000",
          "2019-12-03T00:00:00.000000",
          "2019-12-04T00:00:00.000000",
          "2019-12-05T00:00:00.000000",
          "2019-12-06T00:00:00.000000",
          "2019-12-07T00:00:00.000000",
          "2019-12-08T00:00:00.000000",
          "2019-12-09T00:00:00.000000",
          "2019-12-10T00:00:00.000000",
          "2019-12-11T00:00:00.000000",
          "2019-12-12T00:00:00.000000",
          "2019-12-13T00:00:00.000000",
          "2019-12-14T00:00:00.000000",
          "2019-12-15T00:00:00.000000",
          "2019-12-16T00:00:00.000000",
          "2019-12-17T00:00:00.000000",
          "2019-12-18T00:00:00.000000",
          "2019-12-19T00:00:00.000000",
          "2019-12-20T00:00:00.000000",
          "2019-12-21T00:00:00.000000",
          "2019-12-22T00:00:00.000000",
          "2019-12-23T00:00:00.000000",
          "2019-12-24T00:00:00.000000",
          "2019-12-25T00:00:00.000000",
          "2019-12-26T00:00:00.000000",
          "2019-12-27T00:00:00.000000",
          "2019-12-28T00:00:00.000000",
          "2019-12-29T00:00:00.000000",
          "2019-12-30T00:00:00.000000",
          "2019-12-31T00:00:00.000000",
          "2020-01-01T00:00:00.000000",
          "2020-01-02T00:00:00.000000",
          "2020-01-03T00:00:00.000000",
          "2020-01-04T00:00:00.000000",
          "2020-01-05T00:00:00.000000",
          "2020-01-06T00:00:00.000000",
          "2020-01-07T00:00:00.000000",
          "2020-01-08T00:00:00.000000",
          "2020-01-09T00:00:00.000000",
          "2020-01-10T00:00:00.000000",
          "2020-01-11T00:00:00.000000",
          "2020-01-12T00:00:00.000000",
          "2020-01-13T00:00:00.000000",
          "2020-01-14T00:00:00.000000",
          "2020-01-15T00:00:00.000000",
          "2020-01-16T00:00:00.000000",
          "2020-01-17T00:00:00.000000",
          "2020-01-18T00:00:00.000000",
          "2020-01-19T00:00:00.000000",
          "2020-01-20T00:00:00.000000",
          "2020-01-21T00:00:00.000000",
          "2020-01-22T00:00:00.000000",
          "2020-01-23T00:00:00.000000",
          "2020-01-24T00:00:00.000000",
          "2020-01-25T00:00:00.000000",
          "2020-01-26T00:00:00.000000",
          "2020-01-27T00:00:00.000000",
          "2020-01-28T00:00:00.000000",
          "2020-01-29T00:00:00.000000",
          "2020-01-30T00:00:00.000000",
          "2020-01-31T00:00:00.000000",
          "2020-02-01T00:00:00.000000",
          "2020-02-02T00:00:00.000000",
          "2020-02-03T00:00:00.000000",
          "2020-02-04T00:00:00.000000",
          "2020-02-05T00:00:00.000000",
          "2020-02-06T00:00:00.000000",
          "2020-02-07T00:00:00.000000",
          "2020-02-08T00:00:00.000000",
          "2020-02-09T00:00:00.000000",
          "2020-02-10T00:00:00.000000",
          "2020-02-11T00:00:00.000000",
          "2020-02-12T00:00:00.000000",
          "2020-02-13T00:00:00.000000",
          "2020-02-14T00:00:00.000000",
          "2020-02-15T00:00:00.000000",
          "2020-02-16T00:00:00.000000",
          "2020-02-17T00:00:00.000000",
          "2020-02-18T00:00:00.000000",
          "2020-02-19T00:00:00.000000",
          "2020-02-20T00:00:00.000000",
          "2020-02-21T00:00:00.000000",
          "2020-02-22T00:00:00.000000",
          "2020-02-23T00:00:00.000000",
          "2020-02-24T00:00:00.000000",
          "2020-02-25T00:00:00.000000",
          "2020-02-26T00:00:00.000000",
          "2020-02-27T00:00:00.000000",
          "2020-02-28T00:00:00.000000",
          "2020-02-29T00:00:00.000000",
          "2020-03-01T00:00:00.000000",
          "2020-03-02T00:00:00.000000",
          "2020-03-03T00:00:00.000000",
          "2020-03-04T00:00:00.000000",
          "2020-03-05T00:00:00.000000",
          "2020-03-06T00:00:00.000000",
          "2020-03-07T00:00:00.000000",
          "2020-03-08T00:00:00.000000",
          "2020-03-09T00:00:00.000000",
          "2020-03-10T00:00:00.000000",
          "2020-03-11T00:00:00.000000",
          "2020-03-12T00:00:00.000000",
          "2020-03-13T00:00:00.000000",
          "2020-03-14T00:00:00.000000",
          "2020-03-15T00:00:00.000000",
          "2020-03-16T00:00:00.000000",
          "2020-03-17T00:00:00.000000",
          "2020-03-18T00:00:00.000000",
          "2020-03-19T00:00:00.000000",
          "2020-03-20T00:00:00.000000",
          "2020-03-21T00:00:00.000000",
          "2020-03-22T00:00:00.000000",
          "2020-03-23T00:00:00.000000",
          "2020-03-24T00:00:00.000000",
          "2020-03-25T00:00:00.000000",
          "2020-03-26T00:00:00.000000",
          "2020-03-27T00:00:00.000000",
          "2020-03-28T00:00:00.000000",
          "2020-03-29T00:00:00.000000",
          "2020-03-30T00:00:00.000000",
          "2020-03-31T00:00:00.000000",
          "2020-04-01T00:00:00.000000",
          "2020-04-02T00:00:00.000000",
          "2020-04-03T00:00:00.000000",
          "2020-04-04T00:00:00.000000",
          "2020-04-05T00:00:00.000000",
          "2020-04-06T00:00:00.000000",
          "2020-04-07T00:00:00.000000",
          "2020-04-08T00:00:00.000000",
          "2020-04-09T00:00:00.000000",
          "2020-04-10T00:00:00.000000",
          "2020-04-11T00:00:00.000000",
          "2020-04-12T00:00:00.000000",
          "2020-04-13T00:00:00.000000",
          "2020-04-14T00:00:00.000000",
          "2020-04-15T00:00:00.000000",
          "2020-04-16T00:00:00.000000",
          "2020-04-17T00:00:00.000000",
          "2020-04-18T00:00:00.000000",
          "2020-04-19T00:00:00.000000",
          "2020-04-20T00:00:00.000000",
          "2020-04-21T00:00:00.000000",
          "2020-04-22T00:00:00.000000",
          "2020-04-23T00:00:00.000000",
          "2020-04-24T00:00:00.000000",
          "2020-04-25T00:00:00.000000",
          "2020-04-26T00:00:00.000000",
          "2020-04-27T00:00:00.000000",
          "2020-04-28T00:00:00.000000",
          "2020-04-29T00:00:00.000000",
          "2020-04-30T00:00:00.000000",
          "2020-05-01T00:00:00.000000",
          "2020-05-02T00:00:00.000000",
          "2020-05-03T00:00:00.000000",
          "2020-05-04T00:00:00.000000",
          "2020-05-05T00:00:00.000000",
          "2020-05-06T00:00:00.000000",
          "2020-05-07T00:00:00.000000",
          "2020-05-08T00:00:00.000000",
          "2020-05-09T00:00:00.000000",
          "2020-05-10T00:00:00.000000",
          "2020-05-11T00:00:00.000000",
          "2020-05-12T00:00:00.000000",
          "2020-05-13T00:00:00.000000",
          "2020-05-14T00:00:00.000000",
          "2020-05-15T00:00:00.000000",
          "2020-05-16T00:00:00.000000",
          "2020-05-17T00:00:00.000000",
          "2020-05-18T00:00:00.000000",
          "2020-05-19T00:00:00.000000",
          "2020-05-20T00:00:00.000000",
          "2020-05-21T00:00:00.000000",
          "2020-05-22T00:00:00.000000",
          "2020-05-23T00:00:00.000000",
          "2020-05-24T00:00:00.000000",
          "2020-05-25T00:00:00.000000",
          "2020-05-26T00:00:00.000000",
          "2020-05-27T00:00:00.000000",
          "2020-05-28T00:00:00.000000",
          "2020-05-29T00:00:00.000000",
          "2020-05-30T00:00:00.000000",
          "2020-05-31T00:00:00.000000",
          "2020-06-01T00:00:00.000000",
          "2020-06-02T00:00:00.000000",
          "2020-06-03T00:00:00.000000",
          "2020-06-04T00:00:00.000000",
          "2020-06-05T00:00:00.000000",
          "2020-06-06T00:00:00.000000",
          "2020-06-07T00:00:00.000000",
          "2020-06-08T00:00:00.000000",
          "2020-06-09T00:00:00.000000",
          "2020-06-10T00:00:00.000000",
          "2020-06-11T00:00:00.000000",
          "2020-06-12T00:00:00.000000",
          "2020-06-13T00:00:00.000000",
          "2020-06-14T00:00:00.000000",
          "2020-06-15T00:00:00.000000",
          "2020-06-16T00:00:00.000000",
          "2020-06-17T00:00:00.000000",
          "2020-06-18T00:00:00.000000",
          "2020-06-19T00:00:00.000000",
          "2020-06-20T00:00:00.000000",
          "2020-06-21T00:00:00.000000",
          "2020-06-22T00:00:00.000000",
          "2020-06-23T00:00:00.000000",
          "2020-06-24T00:00:00.000000",
          "2020-06-25T00:00:00.000000",
          "2020-06-26T00:00:00.000000",
          "2020-06-27T00:00:00.000000",
          "2020-06-28T00:00:00.000000",
          "2020-06-29T00:00:00.000000",
          "2020-06-30T00:00:00.000000",
          "2020-07-01T00:00:00.000000",
          "2020-07-02T00:00:00.000000",
          "2020-07-03T00:00:00.000000",
          "2020-07-04T00:00:00.000000",
          "2020-07-05T00:00:00.000000",
          "2020-07-06T00:00:00.000000",
          "2020-07-07T00:00:00.000000",
          "2020-07-08T00:00:00.000000",
          "2020-07-09T00:00:00.000000",
          "2020-07-10T00:00:00.000000",
          "2020-07-11T00:00:00.000000",
          "2020-07-12T00:00:00.000000",
          "2020-07-13T00:00:00.000000",
          "2020-07-14T00:00:00.000000",
          "2020-07-15T00:00:00.000000",
          "2020-07-16T00:00:00.000000",
          "2020-07-17T00:00:00.000000",
          "2020-07-18T00:00:00.000000",
          "2020-07-19T00:00:00.000000",
          "2020-07-20T00:00:00.000000",
          "2020-07-21T00:00:00.000000",
          "2020-07-22T00:00:00.000000",
          "2020-07-23T00:00:00.000000",
          "2020-07-24T00:00:00.000000",
          "2020-07-25T00:00:00.000000",
          "2020-07-26T00:00:00.000000",
          "2020-07-27T00:00:00.000000",
          "2020-07-28T00:00:00.000000",
          "2020-07-29T00:00:00.000000",
          "2020-07-30T00:00:00.000000",
          "2020-07-31T00:00:00.000000",
          "2020-08-01T00:00:00.000000",
          "2020-08-02T00:00:00.000000",
          "2020-08-03T00:00:00.000000",
          "2020-08-04T00:00:00.000000",
          "2020-08-05T00:00:00.000000",
          "2020-08-06T00:00:00.000000",
          "2020-08-07T00:00:00.000000",
          "2020-08-08T00:00:00.000000",
          "2020-08-09T00:00:00.000000",
          "2020-08-10T00:00:00.000000",
          "2020-08-11T00:00:00.000000",
          "2020-08-12T00:00:00.000000",
          "2020-08-13T00:00:00.000000",
          "2020-08-14T00:00:00.000000",
          "2020-08-15T00:00:00.000000",
          "2020-08-16T00:00:00.000000",
          "2020-08-17T00:00:00.000000",
          "2020-08-18T00:00:00.000000",
          "2020-08-19T00:00:00.000000",
          "2020-08-20T00:00:00.000000",
          "2020-08-21T00:00:00.000000",
          "2020-08-22T00:00:00.000000",
          "2020-08-23T00:00:00.000000",
          "2020-08-24T00:00:00.000000",
          "2020-08-25T00:00:00.000000",
          "2020-08-26T00:00:00.000000",
          "2020-08-27T00:00:00.000000",
          "2020-08-28T00:00:00.000000",
          "2020-08-29T00:00:00.000000",
          "2020-08-30T00:00:00.000000",
          "2020-08-31T00:00:00.000000",
          "2020-09-01T00:00:00.000000",
          "2020-09-02T00:00:00.000000",
          "2020-09-03T00:00:00.000000",
          "2020-09-04T00:00:00.000000",
          "2020-09-05T00:00:00.000000",
          "2020-09-06T00:00:00.000000",
          "2020-09-07T00:00:00.000000",
          "2020-09-08T00:00:00.000000",
          "2020-09-09T00:00:00.000000",
          "2020-09-10T00:00:00.000000",
          "2020-09-11T00:00:00.000000",
          "2020-09-12T00:00:00.000000",
          "2020-09-13T00:00:00.000000",
          "2020-09-14T00:00:00.000000",
          "2020-09-15T00:00:00.000000",
          "2020-09-16T00:00:00.000000",
          "2020-09-17T00:00:00.000000",
          "2020-09-18T00:00:00.000000",
          "2020-09-19T00:00:00.000000",
          "2020-09-20T00:00:00.000000",
          "2020-09-21T00:00:00.000000",
          "2020-09-22T00:00:00.000000",
          "2020-09-23T00:00:00.000000",
          "2020-09-24T00:00:00.000000",
          "2020-09-25T00:00:00.000000",
          "2020-09-26T00:00:00.000000"
         ],
         "xaxis": "x",
         "yaxis": "y2"
        },
        {
         "marker": {
          "color": [
           "green",
           "green",
           "green",
           "green",
           "green",
           "green",
           "green",
           "green",
           "green",
           "green",
           "red",
           "green",
           "green",
           "green",
           "red",
           "green",
           "red",
           "red",
           "red",
           "green",
           "green",
           "red",
           "green",
           "green",
           "red",
           "red",
           "green",
           "green",
           "red",
           "red",
           "green",
           "red",
           "red",
           "red",
           "red",
           "green",
           "red",
           "green",
           "green",
           "red",
           "red",
           "green",
           "green",
           "green",
           "red",
           "green",
           "red",
           "green",
           "green",
           "red",
           "green",
           "green",
           "red",
           "red",
           "green",
           "green",
           "red",
           "red",
           "green",
           "green",
           "green",
           "red",
           "red",
           "red",
           "red",
           "red",
           "green",
           "green",
           "green",
           "red",
           "green",
           "red",
           "red",
           "red",
           "red",
           "red",
           "green",
           "green",
           "red",
           "red",
           "red",
           "red",
           "red",
           "red",
           "red",
           "green",
           "green",
           "green",
           "green",
           "green",
           "green",
           "red",
           "red",
           "green",
           "green",
           "red",
           "green",
           "green",
           "red",
           "green",
           "green",
           "red",
           "green",
           "red",
           "red",
           "green",
           "green",
           "green",
           "red",
           "red",
           "red",
           "red",
           "green",
           "green",
           "red",
           "green",
           "red",
           "green",
           "green",
           "green",
           "green",
           "red",
           "red",
           "red",
           "red",
           "red",
           "red",
           "red",
           "green",
           "red",
           "green",
           "red",
           "green",
           "green",
           "red",
           "green",
           "green",
           "green",
           "green",
           "green",
           "green",
           "red",
           "red",
           "red",
           "red",
           "red",
           "green",
           "green",
           "red",
           "green",
           "red",
           "green",
           "red",
           "red",
           "red",
           "green",
           "green",
           "green",
           "red",
           "green",
           "green",
           "green",
           "red",
           "green",
           "green",
           "green",
           "red",
           "green",
           "green",
           "green",
           "red",
           "green",
           "green",
           "green",
           "red",
           "red",
           "green",
           "red",
           "green",
           "green",
           "red",
           "red",
           "red",
           "red",
           "red",
           "red",
           "red",
           "red",
           "red",
           "green",
           "green",
           "red",
           "green",
           "red",
           "red",
           "red",
           "red",
           "green",
           "green",
           "red",
           "red",
           "red",
           "red",
           "green",
           "green",
           "red",
           "green",
           "red",
           "red",
           "red",
           "green",
           "red",
           "green",
           "red",
           "red",
           "green",
           "green",
           "red",
           "red",
           "green",
           "green",
           "red",
           "red",
           "green",
           "green",
           "red",
           "green",
           "green",
           "red",
           "red",
           "red",
           "green",
           "green",
           "red",
           "red",
           "green",
           "red",
           "red",
           "green",
           "red",
           "red",
           "green",
           "red",
           "green",
           "red",
           "green",
           "green",
           "red",
           "red",
           "red",
           "red",
           "green",
           "green",
           "green",
           "green",
           "green",
           "green",
           "green",
           "red",
           "green",
           "green",
           "green",
           "red",
           "green",
           "red",
           "green",
           "green",
           "green",
           "red",
           "green",
           "red",
           "green",
           "red",
           "green",
           "green",
           "red",
           "red",
           "green",
           "red",
           "red",
           "red",
           "red",
           "green",
           "red",
           "red",
           "green",
           "green",
           "red",
           "green",
           "green",
           "red",
           "red",
           "red",
           "red",
           "red",
           "green",
           "green",
           "red",
           "red",
           "red",
           "green",
           "red",
           "red",
           "red",
           "green",
           "red",
           "green",
           "green",
           "green",
           "green",
           "red",
           "red",
           "green",
           "red",
           "green",
           "green",
           "green",
           "green",
           "red",
           "red",
           "green",
           "red",
           "red",
           "green",
           "red",
           "red",
           "red",
           "green",
           "red",
           "red",
           "green",
           "red",
           "red",
           "green",
           "green",
           "red",
           "red",
           "green",
           "red",
           "red",
           "red",
           "green",
           "red",
           "red",
           "red",
           "red",
           "green",
           "red",
           "red",
           "green",
           "green",
           "green",
           "green",
           "red",
           "green",
           "red",
           "red",
           "green",
           "green",
           "red",
           "green",
           "green",
           "red",
           "red",
           "green",
           "red",
           "green",
           "red",
           "green",
           "green",
           "green",
           "green",
           "red",
           "red",
           "red",
           "red",
           "red",
           "red",
           "green",
           "red",
           "red",
           "red",
           "red",
           "green",
           "green",
           "red",
           "green",
           "red",
           "green",
           "green",
           "green",
           "green",
           "red",
           "green",
           "green",
           "green",
           "green",
           "green",
           "red",
           "green",
           "green",
           "green",
           "green",
           "green",
           "green",
           "red",
           "green",
           "red",
           "red",
           "red",
           "red",
           "green",
           "red",
           "red",
           "green",
           "red",
           "green",
           "green",
           "green",
           "green",
           "green",
           "red",
           "red",
           "red",
           "red",
           "green",
           "red",
           "green",
           "red",
           "green",
           "green",
           "green",
           "green",
           "red",
           "green",
           "green",
           "green",
           "red",
           "red",
           "red",
           "green",
           "red",
           "red",
           "green",
           "green",
           "red",
           "red",
           "red",
           "green",
           "green",
           "green",
           "green",
           "green",
           "green",
           "red",
           "green",
           "red",
           "green",
           "red",
           "green",
           "red",
           "red",
           "red",
           "red",
           "green",
           "red",
           "green",
           "red",
           "green",
           "green",
           "green",
           "green",
           "red",
           "red",
           "red",
           "green",
           "green",
           "red",
           "red",
           "red",
           "red",
           "green",
           "red",
           "red",
           "green",
           "red",
           "green",
           "red",
           "green",
           "green",
           "green",
           "red",
           "red",
           "green",
           "green",
           "green",
           "green",
           "green",
           "green",
           "red",
           "red",
           "red",
           "green",
           "red",
           "red",
           "green",
           "green",
           "green",
           "red",
           "red",
           "red",
           "green",
           "red",
           "red",
           "green",
           "green",
           "red",
           "green",
           "red",
           "green",
           "green",
           "green",
           "red",
           "green",
           "red",
           "red",
           "green",
           "green",
           "red",
           "green",
           "green",
           "green",
           "green",
           "red",
           "green",
           "red",
           "red",
           "red",
           "red",
           "red",
           "green",
           "green",
           "red",
           "red",
           "green",
           "green",
           "red",
           "green",
           "red",
           "red",
           "red",
           "green",
           "red",
           "green",
           "green",
           "red",
           "green",
           "green",
           "red",
           "green",
           "green",
           "red",
           "red",
           "green",
           "green",
           "green",
           "red",
           "green",
           "green",
           "red",
           "green",
           "red",
           "green",
           "green",
           "red",
           "red",
           "red",
           "green",
           "green",
           "red",
           "green",
           "green",
           "green",
           "green",
           "green",
           "green",
           "green",
           "green",
           "red",
           "red",
           "red",
           "red",
           "red",
           "green",
           "green",
           "green",
           "green",
           "red",
           "green",
           "red",
           "green",
           "red",
           "green",
           "red",
           "green",
           "green",
           "green",
           "red",
           "red",
           "green",
           "green",
           "red",
           "green",
           "red",
           "green",
           "red",
           "red",
           "red",
           "red",
           "green",
           "green",
           "green",
           "green",
           "red",
           "red",
           "green",
           "red",
           "green",
           "red",
           "green",
           "green",
           "green",
           "red",
           "green",
           "green",
           "red",
           "red",
           "red",
           "green",
           "red",
           "green",
           "green",
           "green",
           "green",
           "green",
           "red",
           "green",
           "green",
           "green",
           "red",
           "green",
           "green",
           "green",
           "green",
           "green",
           "red",
           "red",
           "red",
           "red",
           "green",
           "red",
           "green",
           "green",
           "red",
           "green",
           "red",
           "red",
           "red",
           "red",
           "red",
           "red",
           "green",
           "red",
           "green",
           "red",
           "green",
           "red",
           "green",
           "green",
           "green",
           "green",
           "red",
           "red",
           "green",
           "red",
           "red",
           "green",
           "green",
           "red",
           "red",
           "green",
           "red",
           "red",
           "green",
           "green",
           "red",
           "green",
           "green",
           "green",
           "red",
           "green",
           "green",
           "red",
           "red",
           "green",
           "red",
           "red",
           "red",
           "red",
           "red",
           "green",
           "red",
           "green",
           "red",
           "green",
           "red",
           "green",
           "green",
           "green",
           "green",
           "green",
           "green",
           "red",
           "green",
           "green",
           "red",
           "red",
           "green",
           "red",
           "green",
           "red",
           "red",
           "red",
           "green",
           "red",
           "red",
           "green",
           "green",
           "red",
           "red",
           "green",
           "green",
           "red",
           "green",
           "green",
           "green",
           "red",
           "red",
           "green",
           "red",
           "green",
           "green",
           "green",
           "green",
           "green",
           "red",
           "red",
           "green",
           "red",
           "red",
           "red",
           "red",
           "red",
           "green",
           "red",
           "red",
           "green",
           "green",
           "red",
           "green",
           "green",
           "red",
           "red",
           "green",
           "red",
           "red",
           "green",
           "red",
           "red",
           "green",
           "green",
           "red",
           "red",
           "red",
           "green",
           "red",
           "red",
           "green",
           "green",
           "red",
           "red",
           "red",
           "red",
           "red",
           "green",
           "green",
           "green",
           "green",
           "green",
           "red",
           "red",
           "green",
           "red",
           "red",
           "green",
           "green",
           "red",
           "green",
           "red",
           "red",
           "red",
           "red",
           "green",
           "red",
           "red",
           "green",
           "red",
           "red",
           "red",
           "green",
           "red",
           "green",
           "red",
           "red",
           "green",
           "green",
           "green",
           "red",
           "red",
           "red",
           "green",
           "green",
           "green",
           "red",
           "red",
           "green",
           "green",
           "green",
           "red",
           "green",
           "red",
           "red",
           "green",
           "green",
           "red",
           "red",
           "green",
           "red",
           "red",
           "green",
           "green",
           "red",
           "green",
           "red",
           "green",
           "green",
           "red",
           "red",
           "green",
           "green",
           "red",
           "green",
           "green",
           "green",
           "green",
           "green",
           "green",
           "red",
           "red",
           "red",
           "red",
           "red",
           "red",
           "red",
           "red",
           "green",
           "green",
           "red",
           "green",
           "green",
           "red",
           "green",
           "green",
           "green",
           "green",
           "green",
           "green",
           "red",
           "green",
           "green",
           "red",
           "red",
           "red",
           "red",
           "green",
           "red",
           "red",
           "red",
           "green",
           "red",
           "red",
           "red",
           "red",
           "green",
           "red",
           "red",
           "red",
           "red",
           "red",
           "green",
           "red",
           "green",
           "red",
           "red",
           "green",
           "green",
           "green",
           "red",
           "green",
           "red",
           "red",
           "red",
           "red",
           "red",
           "green",
           "red",
           "red",
           "red",
           "green",
           "green",
           "red",
           "red",
           "red",
           "green",
           "red",
           "red",
           "green",
           "green",
           "red",
           "green",
           "green",
           "red",
           "green",
           "red",
           "red",
           "red",
           "red",
           "red",
           "green",
           "red",
           "green",
           "green",
           "green",
           "green",
           "green",
           "green",
           "red",
           "green",
           "red",
           "green",
           "red",
           "green",
           "green",
           "green",
           "green",
           "red",
           "green",
           "red",
           "red",
           "red",
           "green",
           "red",
           "red",
           "green",
           "red",
           "green",
           "green",
           "green",
           "green",
           "green",
           "green",
           "red",
           "green",
           "green",
           "green",
           "red",
           "red",
           "green",
           "green",
           "red",
           "green",
           "red",
           "green",
           "green",
           "red",
           "green",
           "green",
           "red",
           "green",
           "red"
          ],
          "line": {
           "width": 0
          }
         },
         "name": "Volume",
         "type": "bar",
         "uid": "5c18dcc5-53f0-424c-8934-22ffc700a9d4",
         "x": [
          "2018-01-01T00:00:00.000000",
          "2018-01-02T00:00:00.000000",
          "2018-01-03T00:00:00.000000",
          "2018-01-04T00:00:00.000000",
          "2018-01-05T00:00:00.000000",
          "2018-01-06T00:00:00.000000",
          "2018-01-07T00:00:00.000000",
          "2018-01-08T00:00:00.000000",
          "2018-01-09T00:00:00.000000",
          "2018-01-10T00:00:00.000000",
          "2018-01-11T00:00:00.000000",
          "2018-01-12T00:00:00.000000",
          "2018-01-13T00:00:00.000000",
          "2018-01-14T00:00:00.000000",
          "2018-01-15T00:00:00.000000",
          "2018-01-16T00:00:00.000000",
          "2018-01-17T00:00:00.000000",
          "2018-01-18T00:00:00.000000",
          "2018-01-19T00:00:00.000000",
          "2018-01-20T00:00:00.000000",
          "2018-01-21T00:00:00.000000",
          "2018-01-22T00:00:00.000000",
          "2018-01-23T00:00:00.000000",
          "2018-01-24T00:00:00.000000",
          "2018-01-25T00:00:00.000000",
          "2018-01-26T00:00:00.000000",
          "2018-01-27T00:00:00.000000",
          "2018-01-28T00:00:00.000000",
          "2018-01-29T00:00:00.000000",
          "2018-01-30T00:00:00.000000",
          "2018-01-31T00:00:00.000000",
          "2018-02-01T00:00:00.000000",
          "2018-02-02T00:00:00.000000",
          "2018-02-03T00:00:00.000000",
          "2018-02-04T00:00:00.000000",
          "2018-02-05T00:00:00.000000",
          "2018-02-06T00:00:00.000000",
          "2018-02-07T00:00:00.000000",
          "2018-02-08T00:00:00.000000",
          "2018-02-09T00:00:00.000000",
          "2018-02-10T00:00:00.000000",
          "2018-02-11T00:00:00.000000",
          "2018-02-12T00:00:00.000000",
          "2018-02-13T00:00:00.000000",
          "2018-02-14T00:00:00.000000",
          "2018-02-15T00:00:00.000000",
          "2018-02-16T00:00:00.000000",
          "2018-02-17T00:00:00.000000",
          "2018-02-18T00:00:00.000000",
          "2018-02-19T00:00:00.000000",
          "2018-02-20T00:00:00.000000",
          "2018-02-21T00:00:00.000000",
          "2018-02-22T00:00:00.000000",
          "2018-02-23T00:00:00.000000",
          "2018-02-24T00:00:00.000000",
          "2018-02-25T00:00:00.000000",
          "2018-02-26T00:00:00.000000",
          "2018-02-27T00:00:00.000000",
          "2018-02-28T00:00:00.000000",
          "2018-03-01T00:00:00.000000",
          "2018-03-02T00:00:00.000000",
          "2018-03-03T00:00:00.000000",
          "2018-03-04T00:00:00.000000",
          "2018-03-05T00:00:00.000000",
          "2018-03-06T00:00:00.000000",
          "2018-03-07T00:00:00.000000",
          "2018-03-08T00:00:00.000000",
          "2018-03-09T00:00:00.000000",
          "2018-03-10T00:00:00.000000",
          "2018-03-11T00:00:00.000000",
          "2018-03-12T00:00:00.000000",
          "2018-03-13T00:00:00.000000",
          "2018-03-14T00:00:00.000000",
          "2018-03-15T00:00:00.000000",
          "2018-03-16T00:00:00.000000",
          "2018-03-17T00:00:00.000000",
          "2018-03-18T00:00:00.000000",
          "2018-03-19T00:00:00.000000",
          "2018-03-20T00:00:00.000000",
          "2018-03-21T00:00:00.000000",
          "2018-03-22T00:00:00.000000",
          "2018-03-23T00:00:00.000000",
          "2018-03-24T00:00:00.000000",
          "2018-03-25T00:00:00.000000",
          "2018-03-26T00:00:00.000000",
          "2018-03-27T00:00:00.000000",
          "2018-03-28T00:00:00.000000",
          "2018-03-29T00:00:00.000000",
          "2018-03-30T00:00:00.000000",
          "2018-03-31T00:00:00.000000",
          "2018-04-01T00:00:00.000000",
          "2018-04-02T00:00:00.000000",
          "2018-04-03T00:00:00.000000",
          "2018-04-04T00:00:00.000000",
          "2018-04-05T00:00:00.000000",
          "2018-04-06T00:00:00.000000",
          "2018-04-07T00:00:00.000000",
          "2018-04-08T00:00:00.000000",
          "2018-04-09T00:00:00.000000",
          "2018-04-10T00:00:00.000000",
          "2018-04-11T00:00:00.000000",
          "2018-04-12T00:00:00.000000",
          "2018-04-13T00:00:00.000000",
          "2018-04-14T00:00:00.000000",
          "2018-04-15T00:00:00.000000",
          "2018-04-16T00:00:00.000000",
          "2018-04-17T00:00:00.000000",
          "2018-04-18T00:00:00.000000",
          "2018-04-19T00:00:00.000000",
          "2018-04-20T00:00:00.000000",
          "2018-04-21T00:00:00.000000",
          "2018-04-22T00:00:00.000000",
          "2018-04-23T00:00:00.000000",
          "2018-04-24T00:00:00.000000",
          "2018-04-25T00:00:00.000000",
          "2018-04-26T00:00:00.000000",
          "2018-04-27T00:00:00.000000",
          "2018-04-28T00:00:00.000000",
          "2018-04-29T00:00:00.000000",
          "2018-04-30T00:00:00.000000",
          "2018-05-01T00:00:00.000000",
          "2018-05-02T00:00:00.000000",
          "2018-05-03T00:00:00.000000",
          "2018-05-04T00:00:00.000000",
          "2018-05-05T00:00:00.000000",
          "2018-05-06T00:00:00.000000",
          "2018-05-07T00:00:00.000000",
          "2018-05-08T00:00:00.000000",
          "2018-05-09T00:00:00.000000",
          "2018-05-10T00:00:00.000000",
          "2018-05-11T00:00:00.000000",
          "2018-05-12T00:00:00.000000",
          "2018-05-13T00:00:00.000000",
          "2018-05-14T00:00:00.000000",
          "2018-05-15T00:00:00.000000",
          "2018-05-16T00:00:00.000000",
          "2018-05-17T00:00:00.000000",
          "2018-05-18T00:00:00.000000",
          "2018-05-19T00:00:00.000000",
          "2018-05-20T00:00:00.000000",
          "2018-05-21T00:00:00.000000",
          "2018-05-22T00:00:00.000000",
          "2018-05-23T00:00:00.000000",
          "2018-05-24T00:00:00.000000",
          "2018-05-25T00:00:00.000000",
          "2018-05-26T00:00:00.000000",
          "2018-05-27T00:00:00.000000",
          "2018-05-28T00:00:00.000000",
          "2018-05-29T00:00:00.000000",
          "2018-05-30T00:00:00.000000",
          "2018-05-31T00:00:00.000000",
          "2018-06-01T00:00:00.000000",
          "2018-06-02T00:00:00.000000",
          "2018-06-03T00:00:00.000000",
          "2018-06-04T00:00:00.000000",
          "2018-06-05T00:00:00.000000",
          "2018-06-06T00:00:00.000000",
          "2018-06-07T00:00:00.000000",
          "2018-06-08T00:00:00.000000",
          "2018-06-09T00:00:00.000000",
          "2018-06-10T00:00:00.000000",
          "2018-06-11T00:00:00.000000",
          "2018-06-12T00:00:00.000000",
          "2018-06-13T00:00:00.000000",
          "2018-06-14T00:00:00.000000",
          "2018-06-15T00:00:00.000000",
          "2018-06-16T00:00:00.000000",
          "2018-06-17T00:00:00.000000",
          "2018-06-18T00:00:00.000000",
          "2018-06-19T00:00:00.000000",
          "2018-06-20T00:00:00.000000",
          "2018-06-21T00:00:00.000000",
          "2018-06-22T00:00:00.000000",
          "2018-06-23T00:00:00.000000",
          "2018-06-24T00:00:00.000000",
          "2018-06-25T00:00:00.000000",
          "2018-06-26T00:00:00.000000",
          "2018-06-27T00:00:00.000000",
          "2018-06-28T00:00:00.000000",
          "2018-06-29T00:00:00.000000",
          "2018-06-30T00:00:00.000000",
          "2018-07-01T00:00:00.000000",
          "2018-07-02T00:00:00.000000",
          "2018-07-03T00:00:00.000000",
          "2018-07-04T00:00:00.000000",
          "2018-07-05T00:00:00.000000",
          "2018-07-06T00:00:00.000000",
          "2018-07-07T00:00:00.000000",
          "2018-07-08T00:00:00.000000",
          "2018-07-09T00:00:00.000000",
          "2018-07-10T00:00:00.000000",
          "2018-07-11T00:00:00.000000",
          "2018-07-12T00:00:00.000000",
          "2018-07-13T00:00:00.000000",
          "2018-07-14T00:00:00.000000",
          "2018-07-15T00:00:00.000000",
          "2018-07-16T00:00:00.000000",
          "2018-07-17T00:00:00.000000",
          "2018-07-18T00:00:00.000000",
          "2018-07-19T00:00:00.000000",
          "2018-07-20T00:00:00.000000",
          "2018-07-21T00:00:00.000000",
          "2018-07-22T00:00:00.000000",
          "2018-07-23T00:00:00.000000",
          "2018-07-24T00:00:00.000000",
          "2018-07-25T00:00:00.000000",
          "2018-07-26T00:00:00.000000",
          "2018-07-27T00:00:00.000000",
          "2018-07-28T00:00:00.000000",
          "2018-07-29T00:00:00.000000",
          "2018-07-30T00:00:00.000000",
          "2018-07-31T00:00:00.000000",
          "2018-08-01T00:00:00.000000",
          "2018-08-02T00:00:00.000000",
          "2018-08-03T00:00:00.000000",
          "2018-08-04T00:00:00.000000",
          "2018-08-05T00:00:00.000000",
          "2018-08-06T00:00:00.000000",
          "2018-08-07T00:00:00.000000",
          "2018-08-08T00:00:00.000000",
          "2018-08-09T00:00:00.000000",
          "2018-08-10T00:00:00.000000",
          "2018-08-11T00:00:00.000000",
          "2018-08-12T00:00:00.000000",
          "2018-08-13T00:00:00.000000",
          "2018-08-14T00:00:00.000000",
          "2018-08-15T00:00:00.000000",
          "2018-08-16T00:00:00.000000",
          "2018-08-17T00:00:00.000000",
          "2018-08-18T00:00:00.000000",
          "2018-08-19T00:00:00.000000",
          "2018-08-20T00:00:00.000000",
          "2018-08-21T00:00:00.000000",
          "2018-08-22T00:00:00.000000",
          "2018-08-23T00:00:00.000000",
          "2018-08-24T00:00:00.000000",
          "2018-08-25T00:00:00.000000",
          "2018-08-26T00:00:00.000000",
          "2018-08-27T00:00:00.000000",
          "2018-08-28T00:00:00.000000",
          "2018-08-29T00:00:00.000000",
          "2018-08-30T00:00:00.000000",
          "2018-08-31T00:00:00.000000",
          "2018-09-01T00:00:00.000000",
          "2018-09-02T00:00:00.000000",
          "2018-09-03T00:00:00.000000",
          "2018-09-04T00:00:00.000000",
          "2018-09-05T00:00:00.000000",
          "2018-09-06T00:00:00.000000",
          "2018-09-07T00:00:00.000000",
          "2018-09-08T00:00:00.000000",
          "2018-09-09T00:00:00.000000",
          "2018-09-10T00:00:00.000000",
          "2018-09-11T00:00:00.000000",
          "2018-09-12T00:00:00.000000",
          "2018-09-13T00:00:00.000000",
          "2018-09-14T00:00:00.000000",
          "2018-09-15T00:00:00.000000",
          "2018-09-16T00:00:00.000000",
          "2018-09-17T00:00:00.000000",
          "2018-09-18T00:00:00.000000",
          "2018-09-19T00:00:00.000000",
          "2018-09-20T00:00:00.000000",
          "2018-09-21T00:00:00.000000",
          "2018-09-22T00:00:00.000000",
          "2018-09-23T00:00:00.000000",
          "2018-09-24T00:00:00.000000",
          "2018-09-25T00:00:00.000000",
          "2018-09-26T00:00:00.000000",
          "2018-09-27T00:00:00.000000",
          "2018-09-28T00:00:00.000000",
          "2018-09-29T00:00:00.000000",
          "2018-09-30T00:00:00.000000",
          "2018-10-01T00:00:00.000000",
          "2018-10-02T00:00:00.000000",
          "2018-10-03T00:00:00.000000",
          "2018-10-04T00:00:00.000000",
          "2018-10-05T00:00:00.000000",
          "2018-10-06T00:00:00.000000",
          "2018-10-07T00:00:00.000000",
          "2018-10-08T00:00:00.000000",
          "2018-10-09T00:00:00.000000",
          "2018-10-10T00:00:00.000000",
          "2018-10-11T00:00:00.000000",
          "2018-10-12T00:00:00.000000",
          "2018-10-13T00:00:00.000000",
          "2018-10-14T00:00:00.000000",
          "2018-10-15T00:00:00.000000",
          "2018-10-16T00:00:00.000000",
          "2018-10-17T00:00:00.000000",
          "2018-10-18T00:00:00.000000",
          "2018-10-19T00:00:00.000000",
          "2018-10-20T00:00:00.000000",
          "2018-10-21T00:00:00.000000",
          "2018-10-22T00:00:00.000000",
          "2018-10-23T00:00:00.000000",
          "2018-10-24T00:00:00.000000",
          "2018-10-25T00:00:00.000000",
          "2018-10-26T00:00:00.000000",
          "2018-10-27T00:00:00.000000",
          "2018-10-28T00:00:00.000000",
          "2018-10-29T00:00:00.000000",
          "2018-10-30T00:00:00.000000",
          "2018-10-31T00:00:00.000000",
          "2018-11-01T00:00:00.000000",
          "2018-11-02T00:00:00.000000",
          "2018-11-03T00:00:00.000000",
          "2018-11-04T00:00:00.000000",
          "2018-11-05T00:00:00.000000",
          "2018-11-06T00:00:00.000000",
          "2018-11-07T00:00:00.000000",
          "2018-11-08T00:00:00.000000",
          "2018-11-09T00:00:00.000000",
          "2018-11-10T00:00:00.000000",
          "2018-11-11T00:00:00.000000",
          "2018-11-12T00:00:00.000000",
          "2018-11-13T00:00:00.000000",
          "2018-11-14T00:00:00.000000",
          "2018-11-15T00:00:00.000000",
          "2018-11-16T00:00:00.000000",
          "2018-11-17T00:00:00.000000",
          "2018-11-18T00:00:00.000000",
          "2018-11-19T00:00:00.000000",
          "2018-11-20T00:00:00.000000",
          "2018-11-21T00:00:00.000000",
          "2018-11-22T00:00:00.000000",
          "2018-11-23T00:00:00.000000",
          "2018-11-24T00:00:00.000000",
          "2018-11-25T00:00:00.000000",
          "2018-11-26T00:00:00.000000",
          "2018-11-27T00:00:00.000000",
          "2018-11-28T00:00:00.000000",
          "2018-11-29T00:00:00.000000",
          "2018-11-30T00:00:00.000000",
          "2018-12-01T00:00:00.000000",
          "2018-12-02T00:00:00.000000",
          "2018-12-03T00:00:00.000000",
          "2018-12-04T00:00:00.000000",
          "2018-12-05T00:00:00.000000",
          "2018-12-06T00:00:00.000000",
          "2018-12-07T00:00:00.000000",
          "2018-12-08T00:00:00.000000",
          "2018-12-09T00:00:00.000000",
          "2018-12-10T00:00:00.000000",
          "2018-12-11T00:00:00.000000",
          "2018-12-12T00:00:00.000000",
          "2018-12-13T00:00:00.000000",
          "2018-12-14T00:00:00.000000",
          "2018-12-15T00:00:00.000000",
          "2018-12-16T00:00:00.000000",
          "2018-12-17T00:00:00.000000",
          "2018-12-18T00:00:00.000000",
          "2018-12-19T00:00:00.000000",
          "2018-12-20T00:00:00.000000",
          "2018-12-21T00:00:00.000000",
          "2018-12-22T00:00:00.000000",
          "2018-12-23T00:00:00.000000",
          "2018-12-24T00:00:00.000000",
          "2018-12-25T00:00:00.000000",
          "2018-12-26T00:00:00.000000",
          "2018-12-27T00:00:00.000000",
          "2018-12-28T00:00:00.000000",
          "2018-12-29T00:00:00.000000",
          "2018-12-30T00:00:00.000000",
          "2018-12-31T00:00:00.000000",
          "2019-01-01T00:00:00.000000",
          "2019-01-02T00:00:00.000000",
          "2019-01-03T00:00:00.000000",
          "2019-01-04T00:00:00.000000",
          "2019-01-05T00:00:00.000000",
          "2019-01-06T00:00:00.000000",
          "2019-01-07T00:00:00.000000",
          "2019-01-08T00:00:00.000000",
          "2019-01-09T00:00:00.000000",
          "2019-01-10T00:00:00.000000",
          "2019-01-11T00:00:00.000000",
          "2019-01-12T00:00:00.000000",
          "2019-01-13T00:00:00.000000",
          "2019-01-14T00:00:00.000000",
          "2019-01-15T00:00:00.000000",
          "2019-01-16T00:00:00.000000",
          "2019-01-17T00:00:00.000000",
          "2019-01-18T00:00:00.000000",
          "2019-01-19T00:00:00.000000",
          "2019-01-20T00:00:00.000000",
          "2019-01-21T00:00:00.000000",
          "2019-01-22T00:00:00.000000",
          "2019-01-23T00:00:00.000000",
          "2019-01-24T00:00:00.000000",
          "2019-01-25T00:00:00.000000",
          "2019-01-26T00:00:00.000000",
          "2019-01-27T00:00:00.000000",
          "2019-01-28T00:00:00.000000",
          "2019-01-29T00:00:00.000000",
          "2019-01-30T00:00:00.000000",
          "2019-01-31T00:00:00.000000",
          "2019-02-01T00:00:00.000000",
          "2019-02-02T00:00:00.000000",
          "2019-02-03T00:00:00.000000",
          "2019-02-04T00:00:00.000000",
          "2019-02-05T00:00:00.000000",
          "2019-02-06T00:00:00.000000",
          "2019-02-07T00:00:00.000000",
          "2019-02-08T00:00:00.000000",
          "2019-02-09T00:00:00.000000",
          "2019-02-10T00:00:00.000000",
          "2019-02-11T00:00:00.000000",
          "2019-02-12T00:00:00.000000",
          "2019-02-13T00:00:00.000000",
          "2019-02-14T00:00:00.000000",
          "2019-02-15T00:00:00.000000",
          "2019-02-16T00:00:00.000000",
          "2019-02-17T00:00:00.000000",
          "2019-02-18T00:00:00.000000",
          "2019-02-19T00:00:00.000000",
          "2019-02-20T00:00:00.000000",
          "2019-02-21T00:00:00.000000",
          "2019-02-22T00:00:00.000000",
          "2019-02-23T00:00:00.000000",
          "2019-02-24T00:00:00.000000",
          "2019-02-25T00:00:00.000000",
          "2019-02-26T00:00:00.000000",
          "2019-02-27T00:00:00.000000",
          "2019-02-28T00:00:00.000000",
          "2019-03-01T00:00:00.000000",
          "2019-03-02T00:00:00.000000",
          "2019-03-03T00:00:00.000000",
          "2019-03-04T00:00:00.000000",
          "2019-03-05T00:00:00.000000",
          "2019-03-06T00:00:00.000000",
          "2019-03-07T00:00:00.000000",
          "2019-03-08T00:00:00.000000",
          "2019-03-09T00:00:00.000000",
          "2019-03-10T00:00:00.000000",
          "2019-03-11T00:00:00.000000",
          "2019-03-12T00:00:00.000000",
          "2019-03-13T00:00:00.000000",
          "2019-03-14T00:00:00.000000",
          "2019-03-15T00:00:00.000000",
          "2019-03-16T00:00:00.000000",
          "2019-03-17T00:00:00.000000",
          "2019-03-18T00:00:00.000000",
          "2019-03-19T00:00:00.000000",
          "2019-03-20T00:00:00.000000",
          "2019-03-21T00:00:00.000000",
          "2019-03-22T00:00:00.000000",
          "2019-03-23T00:00:00.000000",
          "2019-03-24T00:00:00.000000",
          "2019-03-25T00:00:00.000000",
          "2019-03-26T00:00:00.000000",
          "2019-03-27T00:00:00.000000",
          "2019-03-28T00:00:00.000000",
          "2019-03-29T00:00:00.000000",
          "2019-03-30T00:00:00.000000",
          "2019-03-31T00:00:00.000000",
          "2019-04-01T00:00:00.000000",
          "2019-04-02T00:00:00.000000",
          "2019-04-03T00:00:00.000000",
          "2019-04-04T00:00:00.000000",
          "2019-04-05T00:00:00.000000",
          "2019-04-06T00:00:00.000000",
          "2019-04-07T00:00:00.000000",
          "2019-04-08T00:00:00.000000",
          "2019-04-09T00:00:00.000000",
          "2019-04-10T00:00:00.000000",
          "2019-04-11T00:00:00.000000",
          "2019-04-12T00:00:00.000000",
          "2019-04-13T00:00:00.000000",
          "2019-04-14T00:00:00.000000",
          "2019-04-15T00:00:00.000000",
          "2019-04-16T00:00:00.000000",
          "2019-04-17T00:00:00.000000",
          "2019-04-18T00:00:00.000000",
          "2019-04-19T00:00:00.000000",
          "2019-04-20T00:00:00.000000",
          "2019-04-21T00:00:00.000000",
          "2019-04-22T00:00:00.000000",
          "2019-04-23T00:00:00.000000",
          "2019-04-24T00:00:00.000000",
          "2019-04-25T00:00:00.000000",
          "2019-04-26T00:00:00.000000",
          "2019-04-27T00:00:00.000000",
          "2019-04-28T00:00:00.000000",
          "2019-04-29T00:00:00.000000",
          "2019-04-30T00:00:00.000000",
          "2019-05-01T00:00:00.000000",
          "2019-05-02T00:00:00.000000",
          "2019-05-03T00:00:00.000000",
          "2019-05-04T00:00:00.000000",
          "2019-05-05T00:00:00.000000",
          "2019-05-06T00:00:00.000000",
          "2019-05-07T00:00:00.000000",
          "2019-05-08T00:00:00.000000",
          "2019-05-09T00:00:00.000000",
          "2019-05-10T00:00:00.000000",
          "2019-05-11T00:00:00.000000",
          "2019-05-12T00:00:00.000000",
          "2019-05-13T00:00:00.000000",
          "2019-05-14T00:00:00.000000",
          "2019-05-15T00:00:00.000000",
          "2019-05-16T00:00:00.000000",
          "2019-05-17T00:00:00.000000",
          "2019-05-18T00:00:00.000000",
          "2019-05-19T00:00:00.000000",
          "2019-05-20T00:00:00.000000",
          "2019-05-21T00:00:00.000000",
          "2019-05-22T00:00:00.000000",
          "2019-05-23T00:00:00.000000",
          "2019-05-24T00:00:00.000000",
          "2019-05-25T00:00:00.000000",
          "2019-05-26T00:00:00.000000",
          "2019-05-27T00:00:00.000000",
          "2019-05-28T00:00:00.000000",
          "2019-05-29T00:00:00.000000",
          "2019-05-30T00:00:00.000000",
          "2019-05-31T00:00:00.000000",
          "2019-06-01T00:00:00.000000",
          "2019-06-02T00:00:00.000000",
          "2019-06-03T00:00:00.000000",
          "2019-06-04T00:00:00.000000",
          "2019-06-05T00:00:00.000000",
          "2019-06-06T00:00:00.000000",
          "2019-06-07T00:00:00.000000",
          "2019-06-08T00:00:00.000000",
          "2019-06-09T00:00:00.000000",
          "2019-06-10T00:00:00.000000",
          "2019-06-11T00:00:00.000000",
          "2019-06-12T00:00:00.000000",
          "2019-06-13T00:00:00.000000",
          "2019-06-14T00:00:00.000000",
          "2019-06-15T00:00:00.000000",
          "2019-06-16T00:00:00.000000",
          "2019-06-17T00:00:00.000000",
          "2019-06-18T00:00:00.000000",
          "2019-06-19T00:00:00.000000",
          "2019-06-20T00:00:00.000000",
          "2019-06-21T00:00:00.000000",
          "2019-06-22T00:00:00.000000",
          "2019-06-23T00:00:00.000000",
          "2019-06-24T00:00:00.000000",
          "2019-06-25T00:00:00.000000",
          "2019-06-26T00:00:00.000000",
          "2019-06-27T00:00:00.000000",
          "2019-06-28T00:00:00.000000",
          "2019-06-29T00:00:00.000000",
          "2019-06-30T00:00:00.000000",
          "2019-07-01T00:00:00.000000",
          "2019-07-02T00:00:00.000000",
          "2019-07-03T00:00:00.000000",
          "2019-07-04T00:00:00.000000",
          "2019-07-05T00:00:00.000000",
          "2019-07-06T00:00:00.000000",
          "2019-07-07T00:00:00.000000",
          "2019-07-08T00:00:00.000000",
          "2019-07-09T00:00:00.000000",
          "2019-07-10T00:00:00.000000",
          "2019-07-11T00:00:00.000000",
          "2019-07-12T00:00:00.000000",
          "2019-07-13T00:00:00.000000",
          "2019-07-14T00:00:00.000000",
          "2019-07-15T00:00:00.000000",
          "2019-07-16T00:00:00.000000",
          "2019-07-17T00:00:00.000000",
          "2019-07-18T00:00:00.000000",
          "2019-07-19T00:00:00.000000",
          "2019-07-20T00:00:00.000000",
          "2019-07-21T00:00:00.000000",
          "2019-07-22T00:00:00.000000",
          "2019-07-23T00:00:00.000000",
          "2019-07-24T00:00:00.000000",
          "2019-07-25T00:00:00.000000",
          "2019-07-26T00:00:00.000000",
          "2019-07-27T00:00:00.000000",
          "2019-07-28T00:00:00.000000",
          "2019-07-29T00:00:00.000000",
          "2019-07-30T00:00:00.000000",
          "2019-07-31T00:00:00.000000",
          "2019-08-01T00:00:00.000000",
          "2019-08-02T00:00:00.000000",
          "2019-08-03T00:00:00.000000",
          "2019-08-04T00:00:00.000000",
          "2019-08-05T00:00:00.000000",
          "2019-08-06T00:00:00.000000",
          "2019-08-07T00:00:00.000000",
          "2019-08-08T00:00:00.000000",
          "2019-08-09T00:00:00.000000",
          "2019-08-10T00:00:00.000000",
          "2019-08-11T00:00:00.000000",
          "2019-08-12T00:00:00.000000",
          "2019-08-13T00:00:00.000000",
          "2019-08-14T00:00:00.000000",
          "2019-08-15T00:00:00.000000",
          "2019-08-16T00:00:00.000000",
          "2019-08-17T00:00:00.000000",
          "2019-08-18T00:00:00.000000",
          "2019-08-19T00:00:00.000000",
          "2019-08-20T00:00:00.000000",
          "2019-08-21T00:00:00.000000",
          "2019-08-22T00:00:00.000000",
          "2019-08-23T00:00:00.000000",
          "2019-08-24T00:00:00.000000",
          "2019-08-25T00:00:00.000000",
          "2019-08-26T00:00:00.000000",
          "2019-08-27T00:00:00.000000",
          "2019-08-28T00:00:00.000000",
          "2019-08-29T00:00:00.000000",
          "2019-08-30T00:00:00.000000",
          "2019-08-31T00:00:00.000000",
          "2019-09-01T00:00:00.000000",
          "2019-09-02T00:00:00.000000",
          "2019-09-03T00:00:00.000000",
          "2019-09-04T00:00:00.000000",
          "2019-09-05T00:00:00.000000",
          "2019-09-06T00:00:00.000000",
          "2019-09-07T00:00:00.000000",
          "2019-09-08T00:00:00.000000",
          "2019-09-09T00:00:00.000000",
          "2019-09-10T00:00:00.000000",
          "2019-09-11T00:00:00.000000",
          "2019-09-12T00:00:00.000000",
          "2019-09-13T00:00:00.000000",
          "2019-09-14T00:00:00.000000",
          "2019-09-15T00:00:00.000000",
          "2019-09-16T00:00:00.000000",
          "2019-09-17T00:00:00.000000",
          "2019-09-18T00:00:00.000000",
          "2019-09-19T00:00:00.000000",
          "2019-09-20T00:00:00.000000",
          "2019-09-21T00:00:00.000000",
          "2019-09-22T00:00:00.000000",
          "2019-09-23T00:00:00.000000",
          "2019-09-24T00:00:00.000000",
          "2019-09-25T00:00:00.000000",
          "2019-09-26T00:00:00.000000",
          "2019-09-27T00:00:00.000000",
          "2019-09-28T00:00:00.000000",
          "2019-09-29T00:00:00.000000",
          "2019-09-30T00:00:00.000000",
          "2019-10-01T00:00:00.000000",
          "2019-10-02T00:00:00.000000",
          "2019-10-03T00:00:00.000000",
          "2019-10-04T00:00:00.000000",
          "2019-10-05T00:00:00.000000",
          "2019-10-06T00:00:00.000000",
          "2019-10-07T00:00:00.000000",
          "2019-10-08T00:00:00.000000",
          "2019-10-09T00:00:00.000000",
          "2019-10-10T00:00:00.000000",
          "2019-10-11T00:00:00.000000",
          "2019-10-12T00:00:00.000000",
          "2019-10-13T00:00:00.000000",
          "2019-10-14T00:00:00.000000",
          "2019-10-15T00:00:00.000000",
          "2019-10-16T00:00:00.000000",
          "2019-10-17T00:00:00.000000",
          "2019-10-18T00:00:00.000000",
          "2019-10-19T00:00:00.000000",
          "2019-10-20T00:00:00.000000",
          "2019-10-21T00:00:00.000000",
          "2019-10-22T00:00:00.000000",
          "2019-10-23T00:00:00.000000",
          "2019-10-24T00:00:00.000000",
          "2019-10-25T00:00:00.000000",
          "2019-10-26T00:00:00.000000",
          "2019-10-27T00:00:00.000000",
          "2019-10-28T00:00:00.000000",
          "2019-10-29T00:00:00.000000",
          "2019-10-30T00:00:00.000000",
          "2019-10-31T00:00:00.000000",
          "2019-11-01T00:00:00.000000",
          "2019-11-02T00:00:00.000000",
          "2019-11-03T00:00:00.000000",
          "2019-11-04T00:00:00.000000",
          "2019-11-05T00:00:00.000000",
          "2019-11-06T00:00:00.000000",
          "2019-11-07T00:00:00.000000",
          "2019-11-08T00:00:00.000000",
          "2019-11-09T00:00:00.000000",
          "2019-11-10T00:00:00.000000",
          "2019-11-11T00:00:00.000000",
          "2019-11-12T00:00:00.000000",
          "2019-11-13T00:00:00.000000",
          "2019-11-14T00:00:00.000000",
          "2019-11-15T00:00:00.000000",
          "2019-11-16T00:00:00.000000",
          "2019-11-17T00:00:00.000000",
          "2019-11-18T00:00:00.000000",
          "2019-11-19T00:00:00.000000",
          "2019-11-20T00:00:00.000000",
          "2019-11-21T00:00:00.000000",
          "2019-11-22T00:00:00.000000",
          "2019-11-23T00:00:00.000000",
          "2019-11-24T00:00:00.000000",
          "2019-11-25T00:00:00.000000",
          "2019-11-26T00:00:00.000000",
          "2019-11-27T00:00:00.000000",
          "2019-11-28T00:00:00.000000",
          "2019-11-29T00:00:00.000000",
          "2019-11-30T00:00:00.000000",
          "2019-12-01T00:00:00.000000",
          "2019-12-02T00:00:00.000000",
          "2019-12-03T00:00:00.000000",
          "2019-12-04T00:00:00.000000",
          "2019-12-05T00:00:00.000000",
          "2019-12-06T00:00:00.000000",
          "2019-12-07T00:00:00.000000",
          "2019-12-08T00:00:00.000000",
          "2019-12-09T00:00:00.000000",
          "2019-12-10T00:00:00.000000",
          "2019-12-11T00:00:00.000000",
          "2019-12-12T00:00:00.000000",
          "2019-12-13T00:00:00.000000",
          "2019-12-14T00:00:00.000000",
          "2019-12-15T00:00:00.000000",
          "2019-12-16T00:00:00.000000",
          "2019-12-17T00:00:00.000000",
          "2019-12-18T00:00:00.000000",
          "2019-12-19T00:00:00.000000",
          "2019-12-20T00:00:00.000000",
          "2019-12-21T00:00:00.000000",
          "2019-12-22T00:00:00.000000",
          "2019-12-23T00:00:00.000000",
          "2019-12-24T00:00:00.000000",
          "2019-12-25T00:00:00.000000",
          "2019-12-26T00:00:00.000000",
          "2019-12-27T00:00:00.000000",
          "2019-12-28T00:00:00.000000",
          "2019-12-29T00:00:00.000000",
          "2019-12-30T00:00:00.000000",
          "2019-12-31T00:00:00.000000",
          "2020-01-01T00:00:00.000000",
          "2020-01-02T00:00:00.000000",
          "2020-01-03T00:00:00.000000",
          "2020-01-04T00:00:00.000000",
          "2020-01-05T00:00:00.000000",
          "2020-01-06T00:00:00.000000",
          "2020-01-07T00:00:00.000000",
          "2020-01-08T00:00:00.000000",
          "2020-01-09T00:00:00.000000",
          "2020-01-10T00:00:00.000000",
          "2020-01-11T00:00:00.000000",
          "2020-01-12T00:00:00.000000",
          "2020-01-13T00:00:00.000000",
          "2020-01-14T00:00:00.000000",
          "2020-01-15T00:00:00.000000",
          "2020-01-16T00:00:00.000000",
          "2020-01-17T00:00:00.000000",
          "2020-01-18T00:00:00.000000",
          "2020-01-19T00:00:00.000000",
          "2020-01-20T00:00:00.000000",
          "2020-01-21T00:00:00.000000",
          "2020-01-22T00:00:00.000000",
          "2020-01-23T00:00:00.000000",
          "2020-01-24T00:00:00.000000",
          "2020-01-25T00:00:00.000000",
          "2020-01-26T00:00:00.000000",
          "2020-01-27T00:00:00.000000",
          "2020-01-28T00:00:00.000000",
          "2020-01-29T00:00:00.000000",
          "2020-01-30T00:00:00.000000",
          "2020-01-31T00:00:00.000000",
          "2020-02-01T00:00:00.000000",
          "2020-02-02T00:00:00.000000",
          "2020-02-03T00:00:00.000000",
          "2020-02-04T00:00:00.000000",
          "2020-02-05T00:00:00.000000",
          "2020-02-06T00:00:00.000000",
          "2020-02-07T00:00:00.000000",
          "2020-02-08T00:00:00.000000",
          "2020-02-09T00:00:00.000000",
          "2020-02-10T00:00:00.000000",
          "2020-02-11T00:00:00.000000",
          "2020-02-12T00:00:00.000000",
          "2020-02-13T00:00:00.000000",
          "2020-02-14T00:00:00.000000",
          "2020-02-15T00:00:00.000000",
          "2020-02-16T00:00:00.000000",
          "2020-02-17T00:00:00.000000",
          "2020-02-18T00:00:00.000000",
          "2020-02-19T00:00:00.000000",
          "2020-02-20T00:00:00.000000",
          "2020-02-21T00:00:00.000000",
          "2020-02-22T00:00:00.000000",
          "2020-02-23T00:00:00.000000",
          "2020-02-24T00:00:00.000000",
          "2020-02-25T00:00:00.000000",
          "2020-02-26T00:00:00.000000",
          "2020-02-27T00:00:00.000000",
          "2020-02-28T00:00:00.000000",
          "2020-02-29T00:00:00.000000",
          "2020-03-01T00:00:00.000000",
          "2020-03-02T00:00:00.000000",
          "2020-03-03T00:00:00.000000",
          "2020-03-04T00:00:00.000000",
          "2020-03-05T00:00:00.000000",
          "2020-03-06T00:00:00.000000",
          "2020-03-07T00:00:00.000000",
          "2020-03-08T00:00:00.000000",
          "2020-03-09T00:00:00.000000",
          "2020-03-10T00:00:00.000000",
          "2020-03-11T00:00:00.000000",
          "2020-03-12T00:00:00.000000",
          "2020-03-13T00:00:00.000000",
          "2020-03-14T00:00:00.000000",
          "2020-03-15T00:00:00.000000",
          "2020-03-16T00:00:00.000000",
          "2020-03-17T00:00:00.000000",
          "2020-03-18T00:00:00.000000",
          "2020-03-19T00:00:00.000000",
          "2020-03-20T00:00:00.000000",
          "2020-03-21T00:00:00.000000",
          "2020-03-22T00:00:00.000000",
          "2020-03-23T00:00:00.000000",
          "2020-03-24T00:00:00.000000",
          "2020-03-25T00:00:00.000000",
          "2020-03-26T00:00:00.000000",
          "2020-03-27T00:00:00.000000",
          "2020-03-28T00:00:00.000000",
          "2020-03-29T00:00:00.000000",
          "2020-03-30T00:00:00.000000",
          "2020-03-31T00:00:00.000000",
          "2020-04-01T00:00:00.000000",
          "2020-04-02T00:00:00.000000",
          "2020-04-03T00:00:00.000000",
          "2020-04-04T00:00:00.000000",
          "2020-04-05T00:00:00.000000",
          "2020-04-06T00:00:00.000000",
          "2020-04-07T00:00:00.000000",
          "2020-04-08T00:00:00.000000",
          "2020-04-09T00:00:00.000000",
          "2020-04-10T00:00:00.000000",
          "2020-04-11T00:00:00.000000",
          "2020-04-12T00:00:00.000000",
          "2020-04-13T00:00:00.000000",
          "2020-04-14T00:00:00.000000",
          "2020-04-15T00:00:00.000000",
          "2020-04-16T00:00:00.000000",
          "2020-04-17T00:00:00.000000",
          "2020-04-18T00:00:00.000000",
          "2020-04-19T00:00:00.000000",
          "2020-04-20T00:00:00.000000",
          "2020-04-21T00:00:00.000000",
          "2020-04-22T00:00:00.000000",
          "2020-04-23T00:00:00.000000",
          "2020-04-24T00:00:00.000000",
          "2020-04-25T00:00:00.000000",
          "2020-04-26T00:00:00.000000",
          "2020-04-27T00:00:00.000000",
          "2020-04-28T00:00:00.000000",
          "2020-04-29T00:00:00.000000",
          "2020-04-30T00:00:00.000000",
          "2020-05-01T00:00:00.000000",
          "2020-05-02T00:00:00.000000",
          "2020-05-03T00:00:00.000000",
          "2020-05-04T00:00:00.000000",
          "2020-05-05T00:00:00.000000",
          "2020-05-06T00:00:00.000000",
          "2020-05-07T00:00:00.000000",
          "2020-05-08T00:00:00.000000",
          "2020-05-09T00:00:00.000000",
          "2020-05-10T00:00:00.000000",
          "2020-05-11T00:00:00.000000",
          "2020-05-12T00:00:00.000000",
          "2020-05-13T00:00:00.000000",
          "2020-05-14T00:00:00.000000",
          "2020-05-15T00:00:00.000000",
          "2020-05-16T00:00:00.000000",
          "2020-05-17T00:00:00.000000",
          "2020-05-18T00:00:00.000000",
          "2020-05-19T00:00:00.000000",
          "2020-05-20T00:00:00.000000",
          "2020-05-21T00:00:00.000000",
          "2020-05-22T00:00:00.000000",
          "2020-05-23T00:00:00.000000",
          "2020-05-24T00:00:00.000000",
          "2020-05-25T00:00:00.000000",
          "2020-05-26T00:00:00.000000",
          "2020-05-27T00:00:00.000000",
          "2020-05-28T00:00:00.000000",
          "2020-05-29T00:00:00.000000",
          "2020-05-30T00:00:00.000000",
          "2020-05-31T00:00:00.000000",
          "2020-06-01T00:00:00.000000",
          "2020-06-02T00:00:00.000000",
          "2020-06-03T00:00:00.000000",
          "2020-06-04T00:00:00.000000",
          "2020-06-05T00:00:00.000000",
          "2020-06-06T00:00:00.000000",
          "2020-06-07T00:00:00.000000",
          "2020-06-08T00:00:00.000000",
          "2020-06-09T00:00:00.000000",
          "2020-06-10T00:00:00.000000",
          "2020-06-11T00:00:00.000000",
          "2020-06-12T00:00:00.000000",
          "2020-06-13T00:00:00.000000",
          "2020-06-14T00:00:00.000000",
          "2020-06-15T00:00:00.000000",
          "2020-06-16T00:00:00.000000",
          "2020-06-17T00:00:00.000000",
          "2020-06-18T00:00:00.000000",
          "2020-06-19T00:00:00.000000",
          "2020-06-20T00:00:00.000000",
          "2020-06-21T00:00:00.000000",
          "2020-06-22T00:00:00.000000",
          "2020-06-23T00:00:00.000000",
          "2020-06-24T00:00:00.000000",
          "2020-06-25T00:00:00.000000",
          "2020-06-26T00:00:00.000000",
          "2020-06-27T00:00:00.000000",
          "2020-06-28T00:00:00.000000",
          "2020-06-29T00:00:00.000000",
          "2020-06-30T00:00:00.000000",
          "2020-07-01T00:00:00.000000",
          "2020-07-02T00:00:00.000000",
          "2020-07-03T00:00:00.000000",
          "2020-07-04T00:00:00.000000",
          "2020-07-05T00:00:00.000000",
          "2020-07-06T00:00:00.000000",
          "2020-07-07T00:00:00.000000",
          "2020-07-08T00:00:00.000000",
          "2020-07-09T00:00:00.000000",
          "2020-07-10T00:00:00.000000",
          "2020-07-11T00:00:00.000000",
          "2020-07-12T00:00:00.000000",
          "2020-07-13T00:00:00.000000",
          "2020-07-14T00:00:00.000000",
          "2020-07-15T00:00:00.000000",
          "2020-07-16T00:00:00.000000",
          "2020-07-17T00:00:00.000000",
          "2020-07-18T00:00:00.000000",
          "2020-07-19T00:00:00.000000",
          "2020-07-20T00:00:00.000000",
          "2020-07-21T00:00:00.000000",
          "2020-07-22T00:00:00.000000",
          "2020-07-23T00:00:00.000000",
          "2020-07-24T00:00:00.000000",
          "2020-07-25T00:00:00.000000",
          "2020-07-26T00:00:00.000000",
          "2020-07-27T00:00:00.000000",
          "2020-07-28T00:00:00.000000",
          "2020-07-29T00:00:00.000000",
          "2020-07-30T00:00:00.000000",
          "2020-07-31T00:00:00.000000",
          "2020-08-01T00:00:00.000000",
          "2020-08-02T00:00:00.000000",
          "2020-08-03T00:00:00.000000",
          "2020-08-04T00:00:00.000000",
          "2020-08-05T00:00:00.000000",
          "2020-08-06T00:00:00.000000",
          "2020-08-07T00:00:00.000000",
          "2020-08-08T00:00:00.000000",
          "2020-08-09T00:00:00.000000",
          "2020-08-10T00:00:00.000000",
          "2020-08-11T00:00:00.000000",
          "2020-08-12T00:00:00.000000",
          "2020-08-13T00:00:00.000000",
          "2020-08-14T00:00:00.000000",
          "2020-08-15T00:00:00.000000",
          "2020-08-16T00:00:00.000000",
          "2020-08-17T00:00:00.000000",
          "2020-08-18T00:00:00.000000",
          "2020-08-19T00:00:00.000000",
          "2020-08-20T00:00:00.000000",
          "2020-08-21T00:00:00.000000",
          "2020-08-22T00:00:00.000000",
          "2020-08-23T00:00:00.000000",
          "2020-08-24T00:00:00.000000",
          "2020-08-25T00:00:00.000000",
          "2020-08-26T00:00:00.000000",
          "2020-08-27T00:00:00.000000",
          "2020-08-28T00:00:00.000000",
          "2020-08-29T00:00:00.000000",
          "2020-08-30T00:00:00.000000",
          "2020-08-31T00:00:00.000000",
          "2020-09-01T00:00:00.000000",
          "2020-09-02T00:00:00.000000",
          "2020-09-03T00:00:00.000000",
          "2020-09-04T00:00:00.000000",
          "2020-09-05T00:00:00.000000",
          "2020-09-06T00:00:00.000000",
          "2020-09-07T00:00:00.000000",
          "2020-09-08T00:00:00.000000",
          "2020-09-09T00:00:00.000000",
          "2020-09-10T00:00:00.000000",
          "2020-09-11T00:00:00.000000",
          "2020-09-12T00:00:00.000000",
          "2020-09-13T00:00:00.000000",
          "2020-09-14T00:00:00.000000",
          "2020-09-15T00:00:00.000000",
          "2020-09-16T00:00:00.000000",
          "2020-09-17T00:00:00.000000",
          "2020-09-18T00:00:00.000000",
          "2020-09-19T00:00:00.000000",
          "2020-09-20T00:00:00.000000",
          "2020-09-21T00:00:00.000000",
          "2020-09-22T00:00:00.000000",
          "2020-09-23T00:00:00.000000",
          "2020-09-24T00:00:00.000000",
          "2020-09-25T00:00:00.000000",
          "2020-09-26T00:00:00.000000"
         ],
         "xaxis": "x",
         "y": {
          "dtype": "float64",
          "shape": [
           1000
          ]
         },
         "yaxis": "y"
        }
       ],
       "_js2py_layoutDelta": {},
       "_js2py_pointsCallback": {},
       "_js2py_relayout": {},
       "_js2py_restyle": {},
       "_js2py_traceDeltas": {},
       "_js2py_update": {},
       "_last_layout_edit_id": 5,
       "_last_trace_edit_id": 5,
       "_layout": {
        "autosize": false,
        "colorway": [
         "#1f77b4",
         "#ff7f0e",
         "#2ca02c",
         "#d62728",
         "#9467bd",
         "#8c564b",
         "#e377c2",
         "#7f7f7f",
         "#bcbd22",
         "#17becf"
        ],
        "height": 300,
        "hovermode": "closest",
        "margin": {
         "b": 30,
         "t": 30
        },
        "showlegend": true,
        "template": {
         "data": {
          "bar": [
           {
            "error_x": {
             "color": "#2a3f5f"
            },
            "error_y": {
             "color": "#2a3f5f"
            },
            "marker": {
             "line": {
              "color": "#E5ECF6",
              "width": 0.5
             }
            },
            "type": "bar"
           }
          ],
          "barpolar": [
           {
            "marker": {
             "line": {
              "color": "#E5ECF6",
              "width": 0.5
             }
            },
            "type": "barpolar"
           }
          ],
          "carpet": [
           {
            "aaxis": {
             "endlinecolor": "#2a3f5f",
             "gridcolor": "white",
             "linecolor": "white",
             "minorgridcolor": "white",
             "startlinecolor": "#2a3f5f"
            },
            "baxis": {
             "endlinecolor": "#2a3f5f",
             "gridcolor": "white",
             "linecolor": "white",
             "minorgridcolor": "white",
             "startlinecolor": "#2a3f5f"
            },
            "type": "carpet"
           }
          ],
          "choropleth": [
           {
            "colorbar": {
             "outlinewidth": 0,
             "ticks": ""
            },
            "type": "choropleth"
           }
          ],
          "contour": [
           {
            "colorbar": {
             "outlinewidth": 0,
             "ticks": ""
            },
            "colorscale": [
             [
              0,
              "#0d0887"
             ],
             [
              0.1111111111111111,
              "#46039f"
             ],
             [
              0.2222222222222222,
              "#7201a8"
             ],
             [
              0.3333333333333333,
              "#9c179e"
             ],
             [
              0.4444444444444444,
              "#bd3786"
             ],
             [
              0.5555555555555556,
              "#d8576b"
             ],
             [
              0.6666666666666666,
              "#ed7953"
             ],
             [
              0.7777777777777778,
              "#fb9f3a"
             ],
             [
              0.8888888888888888,
              "#fdca26"
             ],
             [
              1,
              "#f0f921"
             ]
            ],
            "type": "contour"
           }
          ],
          "contourcarpet": [
           {
            "colorbar": {
             "outlinewidth": 0,
             "ticks": ""
            },
            "type": "contourcarpet"
           }
          ],
          "heatmap": [
           {
            "colorbar": {
             "outlinewidth": 0,
             "ticks": ""
            },
            "colorscale": [
             [
              0,
              "#0d0887"
             ],
             [
              0.1111111111111111,
              "#46039f"
             ],
             [
              0.2222222222222222,
              "#7201a8"
             ],
             [
              0.3333333333333333,
              "#9c179e"
             ],
             [
              0.4444444444444444,
              "#bd3786"
             ],
             [
              0.5555555555555556,
              "#d8576b"
             ],
             [
              0.6666666666666666,
              "#ed7953"
             ],
             [
              0.7777777777777778,
              "#fb9f3a"
             ],
             [
              0.8888888888888888,
              "#fdca26"
             ],
             [
              1,
              "#f0f921"
             ]
            ],
            "type": "heatmap"
           }
          ],
          "heatmapgl": [
           {
            "colorbar": {
             "outlinewidth": 0,
             "ticks": ""
            },
            "colorscale": [
             [
              0,
              "#0d0887"
             ],
             [
              0.1111111111111111,
              "#46039f"
             ],
             [
              0.2222222222222222,
              "#7201a8"
             ],
             [
              0.3333333333333333,
              "#9c179e"
             ],
             [
              0.4444444444444444,
              "#bd3786"
             ],
             [
              0.5555555555555556,
              "#d8576b"
             ],
             [
              0.6666666666666666,
              "#ed7953"
             ],
             [
              0.7777777777777778,
              "#fb9f3a"
             ],
             [
              0.8888888888888888,
              "#fdca26"
             ],
             [
              1,
              "#f0f921"
             ]
            ],
            "type": "heatmapgl"
           }
          ],
          "histogram": [
           {
            "marker": {
             "colorbar": {
              "outlinewidth": 0,
              "ticks": ""
             }
            },
            "type": "histogram"
           }
          ],
          "histogram2d": [
           {
            "colorbar": {
             "outlinewidth": 0,
             "ticks": ""
            },
            "colorscale": [
             [
              0,
              "#0d0887"
             ],
             [
              0.1111111111111111,
              "#46039f"
             ],
             [
              0.2222222222222222,
              "#7201a8"
             ],
             [
              0.3333333333333333,
              "#9c179e"
             ],
             [
              0.4444444444444444,
              "#bd3786"
             ],
             [
              0.5555555555555556,
              "#d8576b"
             ],
             [
              0.6666666666666666,
              "#ed7953"
             ],
             [
              0.7777777777777778,
              "#fb9f3a"
             ],
             [
              0.8888888888888888,
              "#fdca26"
             ],
             [
              1,
              "#f0f921"
             ]
            ],
            "type": "histogram2d"
           }
          ],
          "histogram2dcontour": [
           {
            "colorbar": {
             "outlinewidth": 0,
             "ticks": ""
            },
            "colorscale": [
             [
              0,
              "#0d0887"
             ],
             [
              0.1111111111111111,
              "#46039f"
             ],
             [
              0.2222222222222222,
              "#7201a8"
             ],
             [
              0.3333333333333333,
              "#9c179e"
             ],
             [
              0.4444444444444444,
              "#bd3786"
             ],
             [
              0.5555555555555556,
              "#d8576b"
             ],
             [
              0.6666666666666666,
              "#ed7953"
             ],
             [
              0.7777777777777778,
              "#fb9f3a"
             ],
             [
              0.8888888888888888,
              "#fdca26"
             ],
             [
              1,
              "#f0f921"
             ]
            ],
            "type": "histogram2dcontour"
           }
          ],
          "mesh3d": [
           {
            "colorbar": {
             "outlinewidth": 0,
             "ticks": ""
            },
            "type": "mesh3d"
           }
          ],
          "parcoords": [
           {
            "line": {
             "colorbar": {
              "outlinewidth": 0,
              "ticks": ""
             }
            },
            "type": "parcoords"
           }
          ],
          "pie": [
           {
            "automargin": true,
            "type": "pie"
           }
          ],
          "scatter": [
           {
            "marker": {
             "colorbar": {
              "outlinewidth": 0,
              "ticks": ""
             }
            },
            "type": "scatter"
           }
          ],
          "scatter3d": [
           {
            "line": {
             "colorbar": {
              "outlinewidth": 0,
              "ticks": ""
             }
            },
            "marker": {
             "colorbar": {
              "outlinewidth": 0,
              "ticks": ""
             }
            },
            "type": "scatter3d"
           }
          ],
          "scattercarpet": [
           {
            "marker": {
             "colorbar": {
              "outlinewidth": 0,
              "ticks": ""
             }
            },
            "type": "scattercarpet"
           }
          ],
          "scattergeo": [
           {
            "marker": {
             "colorbar": {
              "outlinewidth": 0,
              "ticks": ""
             }
            },
            "type": "scattergeo"
           }
          ],
          "scattergl": [
           {
            "marker": {
             "colorbar": {
              "outlinewidth": 0,
              "ticks": ""
             }
            },
            "type": "scattergl"
           }
          ],
          "scattermapbox": [
           {
            "marker": {
             "colorbar": {
              "outlinewidth": 0,
              "ticks": ""
             }
            },
            "type": "scattermapbox"
           }
          ],
          "scatterpolar": [
           {
            "marker": {
             "colorbar": {
              "outlinewidth": 0,
              "ticks": ""
             }
            },
            "type": "scatterpolar"
           }
          ],
          "scatterpolargl": [
           {
            "marker": {
             "colorbar": {
              "outlinewidth": 0,
              "ticks": ""
             }
            },
            "type": "scatterpolargl"
           }
          ],
          "scatterternary": [
           {
            "marker": {
             "colorbar": {
              "outlinewidth": 0,
              "ticks": ""
             }
            },
            "type": "scatterternary"
           }
          ],
          "surface": [
           {
            "colorbar": {
             "outlinewidth": 0,
             "ticks": ""
            },
            "colorscale": [
             [
              0,
              "#0d0887"
             ],
             [
              0.1111111111111111,
              "#46039f"
             ],
             [
              0.2222222222222222,
              "#7201a8"
             ],
             [
              0.3333333333333333,
              "#9c179e"
             ],
             [
              0.4444444444444444,
              "#bd3786"
             ],
             [
              0.5555555555555556,
              "#d8576b"
             ],
             [
              0.6666666666666666,
              "#ed7953"
             ],
             [
              0.7777777777777778,
              "#fb9f3a"
             ],
             [
              0.8888888888888888,
              "#fdca26"
             ],
             [
              1,
              "#f0f921"
             ]
            ],
            "type": "surface"
           }
          ],
          "table": [
           {
            "cells": {
             "fill": {
              "color": "#EBF0F8"
             },
             "line": {
              "color": "white"
             }
            },
            "header": {
             "fill": {
              "color": "#C8D4E3"
             },
             "line": {
              "color": "white"
             }
            },
            "type": "table"
           }
          ]
         },
         "layout": {
          "annotationdefaults": {
           "arrowcolor": "#2a3f5f",
           "arrowhead": 0,
           "arrowwidth": 1
          },
          "coloraxis": {
           "colorbar": {
            "outlinewidth": 0,
            "ticks": ""
           }
          },
          "colorscale": {
           "diverging": [
            [
             0,
             "#8e0152"
            ],
            [
             0.1,
             "#c51b7d"
            ],
            [
             0.2,
             "#de77ae"
            ],
            [
             0.3,
             "#f1b6da"
            ],
            [
             0.4,
             "#fde0ef"
            ],
            [
             0.5,
             "#f7f7f7"
            ],
            [
             0.6,
             "#e6f5d0"
            ],
            [
             0.7,
             "#b8e186"
            ],
            [
             0.8,
             "#7fbc41"
            ],
            [
             0.9,
             "#4d9221"
            ],
            [
             1,
             "#276419"
            ]
           ],
           "sequential": [
            [
             0,
             "#0d0887"
            ],
            [
             0.1111111111111111,
             "#46039f"
            ],
            [
             0.2222222222222222,
             "#7201a8"
            ],
            [
             0.3333333333333333,
             "#9c179e"
            ],
            [
             0.4444444444444444,
             "#bd3786"
            ],
            [
             0.5555555555555556,
             "#d8576b"
            ],
            [
             0.6666666666666666,
             "#ed7953"
            ],
            [
             0.7777777777777778,
             "#fb9f3a"
            ],
            [
             0.8888888888888888,
             "#fdca26"
            ],
            [
             1,
             "#f0f921"
            ]
           ],
           "sequentialminus": [
            [
             0,
             "#0d0887"
            ],
            [
             0.1111111111111111,
             "#46039f"
            ],
            [
             0.2222222222222222,
             "#7201a8"
            ],
            [
             0.3333333333333333,
             "#9c179e"
            ],
            [
             0.4444444444444444,
             "#bd3786"
            ],
            [
             0.5555555555555556,
             "#d8576b"
            ],
            [
             0.6666666666666666,
             "#ed7953"
            ],
            [
             0.7777777777777778,
             "#fb9f3a"
            ],
            [
             0.8888888888888888,
             "#fdca26"
            ],
            [
             1,
             "#f0f921"
            ]
           ]
          },
          "colorway": [
           "#636efa",
           "#EF553B",
           "#00cc96",
           "#ab63fa",
           "#FFA15A",
           "#19d3f3",
           "#FF6692",
           "#B6E880",
           "#FF97FF",
           "#FECB52"
          ],
          "font": {
           "color": "#2a3f5f"
          },
          "geo": {
           "bgcolor": "white",
           "lakecolor": "white",
           "landcolor": "#E5ECF6",
           "showlakes": true,
           "showland": true,
           "subunitcolor": "white"
          },
          "hoverlabel": {
           "align": "left"
          },
          "hovermode": "closest",
          "mapbox": {
           "style": "light"
          },
          "paper_bgcolor": "white",
          "plot_bgcolor": "#E5ECF6",
          "polar": {
           "angularaxis": {
            "gridcolor": "white",
            "linecolor": "white",
            "ticks": ""
           },
           "bgcolor": "#E5ECF6",
           "radialaxis": {
            "gridcolor": "white",
            "linecolor": "white",
            "ticks": ""
           }
          },
          "scene": {
           "xaxis": {
            "backgroundcolor": "#E5ECF6",
            "gridcolor": "white",
            "gridwidth": 2,
            "linecolor": "white",
            "showbackground": true,
            "ticks": "",
            "zerolinecolor": "white"
           },
           "yaxis": {
            "backgroundcolor": "#E5ECF6",
            "gridcolor": "white",
            "gridwidth": 2,
            "linecolor": "white",
            "showbackground": true,
            "ticks": "",
            "zerolinecolor": "white"
           },
           "zaxis": {
            "backgroundcolor": "#E5ECF6",
            "gridcolor": "white",
            "gridwidth": 2,
            "linecolor": "white",
            "showbackground": true,
            "ticks": "",
            "zerolinecolor": "white"
           }
          },
          "shapedefaults": {
           "line": {
            "color": "#2a3f5f"
           }
          },
          "ternary": {
           "aaxis": {
            "gridcolor": "white",
            "linecolor": "white",
            "ticks": ""
           },
           "baxis": {
            "gridcolor": "white",
            "linecolor": "white",
            "ticks": ""
           },
           "bgcolor": "#E5ECF6",
           "caxis": {
            "gridcolor": "white",
            "linecolor": "white",
            "ticks": ""
           }
          },
          "title": {
           "x": 0.05
          },
          "xaxis": {
           "automargin": true,
           "gridcolor": "white",
           "linecolor": "white",
           "ticks": "",
           "title": {
            "standoff": 15
           },
           "zerolinecolor": "white",
           "zerolinewidth": 2
          },
          "yaxis": {
           "automargin": true,
           "gridcolor": "white",
           "linecolor": "white",
           "ticks": "",
           "title": {
            "standoff": 15
           },
           "zerolinecolor": "white",
           "zerolinewidth": 2
          }
         }
        },
        "width": 700,
        "xaxis": {
         "rangeslider": {
          "visible": false
         },
         "showgrid": true
        },
        "yaxis": {
         "domain": [
          0,
          0.33
         ],
         "showgrid": true
        },
        "yaxis2": {
         "domain": [
          0.33,
          1
         ]
        }
       },
       "_model_module_version": "1.5.0",
       "_py2js_animate": {},
       "_py2js_deleteTraces": {},
       "_py2js_moveTraces": {},
       "_py2js_removeLayoutProps": {},
       "_py2js_removeTraceProps": {},
       "_py2js_restyle": {},
       "_view_count": 0,
       "_view_module_version": "1.5.0"
      }
     }
    },
    "version_major": 2,
    "version_minor": 0
   }
  }
 },
 "nbformat": 4,
 "nbformat_minor": 4
}
