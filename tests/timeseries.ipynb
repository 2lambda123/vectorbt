{
 "cells": [
  {
   "cell_type": "markdown",
   "metadata": {},
   "source": [
    "# timeseries"
   ]
  },
  {
   "cell_type": "code",
   "execution_count": 1,
   "metadata": {},
   "outputs": [],
   "source": [
    "import vectorbt as vbt"
   ]
  },
  {
   "cell_type": "code",
   "execution_count": 2,
   "metadata": {
    "Collapsed": "false"
   },
   "outputs": [],
   "source": [
    "import numpy as np\n",
    "import pandas as pd\n",
    "from datetime import datetime, timedelta\n",
    "from numba import njit, f8, i8, b1, optional"
   ]
  },
  {
   "cell_type": "code",
   "execution_count": 3,
   "metadata": {},
   "outputs": [
    {
     "name": "stdout",
     "output_type": "stream",
     "text": [
      "              a    b    c\n",
      "2018-01-01  1.0  NaN  1.0\n",
      "2018-01-02  2.0  4.0  2.0\n",
      "2018-01-03  3.0  3.0  NaN\n",
      "2018-01-04  4.0  2.0  2.0\n",
      "2018-01-05  NaN  1.0  1.0\n"
     ]
    }
   ],
   "source": [
    "index = pd.Index([\n",
    "    datetime(2018, 1, 1),\n",
    "    datetime(2018, 1, 2),\n",
    "    datetime(2018, 1, 3),\n",
    "    datetime(2018, 1, 4),\n",
    "    datetime(2018, 1, 5)\n",
    "])\n",
    "columns = ['a', 'b', 'c']\n",
    "ts = pd.DataFrame({\n",
    "    'a': [1, 2, 3, 4, np.nan], \n",
    "    'b': [np.nan, 4, 3, 2, 1],\n",
    "    'c': [1, 2, np.nan, 2, 1]}, index=index).astype(np.float64)\n",
    "\n",
    "print(ts)"
   ]
  },
  {
   "cell_type": "code",
   "execution_count": 4,
   "metadata": {},
   "outputs": [
    {
     "data": {
      "text/plain": [
       "(1000, 1000)"
      ]
     },
     "execution_count": 4,
     "metadata": {},
     "output_type": "execute_result"
    }
   ],
   "source": [
    "big_ts = pd.DataFrame(np.random.randint(10, size=(1000, 1000)).astype(float))\n",
    "big_ts.index = [datetime(2018, 1, 1) + timedelta(days=i) for i in range(1000)]\n",
    "big_ts.shape"
   ]
  },
  {
   "cell_type": "code",
   "execution_count": 5,
   "metadata": {
    "Collapsed": "false"
   },
   "outputs": [
    {
     "name": "stdout",
     "output_type": "stream",
     "text": [
      "              a    b    c\n",
      "2018-01-01  1.0 -1.0  1.0\n",
      "2018-01-02  2.0  4.0  2.0\n",
      "2018-01-03  3.0  3.0 -1.0\n",
      "2018-01-04  4.0  2.0  2.0\n",
      "2018-01-05 -1.0  1.0  1.0\n",
      "6.35 ms ± 632 µs per loop (mean ± std. dev. of 7 runs, 100 loops each)\n",
      "              a    b    c\n",
      "2018-01-01  1.0 -1.0  1.0\n",
      "2018-01-02  2.0  4.0  2.0\n",
      "2018-01-03  3.0  3.0 -1.0\n",
      "2018-01-04  4.0  2.0  2.0\n",
      "2018-01-05 -1.0  1.0  1.0\n",
      "4.38 ms ± 67.6 µs per loop (mean ± std. dev. of 7 runs, 100 loops each)\n"
     ]
    }
   ],
   "source": [
    "print(ts.fillna(-1))\n",
    "%timeit big_ts.fillna(-1)\n",
    "\n",
    "print(ts.vbt.timeseries.fillna(-1))\n",
    "%timeit big_ts.vbt.timeseries.fillna(-1)"
   ]
  },
  {
   "cell_type": "code",
   "execution_count": 6,
   "metadata": {
    "Collapsed": "false"
   },
   "outputs": [
    {
     "name": "stdout",
     "output_type": "stream",
     "text": [
      "              a    b    c\n",
      "2018-01-01  NaN  NaN  NaN\n",
      "2018-01-02  NaN  NaN  NaN\n",
      "2018-01-03  NaN  NaN  NaN\n",
      "2018-01-04  1.0  NaN  1.0\n",
      "2018-01-05  2.0  4.0  2.0\n",
      "2.46 ms ± 17 µs per loop (mean ± std. dev. of 7 runs, 100 loops each)\n",
      "              a    b    c\n",
      "2018-01-01  NaN  NaN  NaN\n",
      "2018-01-02  NaN  NaN  NaN\n",
      "2018-01-03  NaN  NaN  NaN\n",
      "2018-01-04  1.0  NaN  1.0\n",
      "2018-01-05  2.0  4.0  2.0\n",
      "4.15 ms ± 636 µs per loop (mean ± std. dev. of 7 runs, 100 loops each)\n"
     ]
    }
   ],
   "source": [
    "print(ts.shift(3))\n",
    "%timeit big_ts.shift(3)\n",
    "\n",
    "print(ts.vbt.timeseries.fshift(3))\n",
    "%timeit big_ts.vbt.timeseries.fshift(3)"
   ]
  },
  {
   "cell_type": "code",
   "execution_count": 7,
   "metadata": {},
   "outputs": [
    {
     "name": "stdout",
     "output_type": "stream",
     "text": [
      "              a    b    c\n",
      "2018-01-01  NaN  NaN  NaN\n",
      "2018-01-02  1.0  NaN  1.0\n",
      "2018-01-03  1.0 -1.0  NaN\n",
      "2018-01-04  1.0 -1.0  NaN\n",
      "2018-01-05  NaN -1.0 -1.0\n",
      "5.12 ms ± 255 µs per loop (mean ± std. dev. of 7 runs, 100 loops each)\n",
      "              a    b    c\n",
      "2018-01-01  NaN  NaN  NaN\n",
      "2018-01-02  1.0  NaN  1.0\n",
      "2018-01-03  1.0 -1.0  NaN\n",
      "2018-01-04  1.0 -1.0  NaN\n",
      "2018-01-05  NaN -1.0 -1.0\n",
      "6.42 ms ± 260 µs per loop (mean ± std. dev. of 7 runs, 100 loops each)\n"
     ]
    }
   ],
   "source": [
    "print(ts.diff())\n",
    "%timeit big_ts.diff()\n",
    "\n",
    "print(ts.vbt.timeseries.diff())\n",
    "%timeit big_ts.vbt.timeseries.diff()"
   ]
  },
  {
   "cell_type": "code",
   "execution_count": 8,
   "metadata": {
    "Collapsed": "false"
   },
   "outputs": [
    {
     "name": "stdout",
     "output_type": "stream",
     "text": [
      "                   a         b    c\n",
      "2018-01-01       NaN       NaN  NaN\n",
      "2018-01-02  1.000000       NaN  1.0\n",
      "2018-01-03  0.500000 -0.250000  0.0\n",
      "2018-01-04  0.333333 -0.333333  0.0\n",
      "2018-01-05  0.000000 -0.500000 -0.5\n",
      "267 ms ± 5.67 ms per loop (mean ± std. dev. of 7 runs, 1 loop each)\n",
      "                   a         b    c\n",
      "2018-01-01       NaN       NaN  NaN\n",
      "2018-01-02  1.000000       NaN  1.0\n",
      "2018-01-03  0.500000 -0.250000  NaN\n",
      "2018-01-04  0.333333 -0.333333  NaN\n",
      "2018-01-05       NaN -0.500000 -0.5\n",
      "6.64 ms ± 49.8 µs per loop (mean ± std. dev. of 7 runs, 100 loops each)\n"
     ]
    }
   ],
   "source": [
    "print(ts.pct_change())\n",
    "%timeit big_ts.pct_change()\n",
    "\n",
    "print(ts.vbt.timeseries.pct_change())\n",
    "%timeit big_ts.vbt.timeseries.pct_change()"
   ]
  },
  {
   "cell_type": "code",
   "execution_count": 9,
   "metadata": {
    "Collapsed": "false"
   },
   "outputs": [
    {
     "name": "stdout",
     "output_type": "stream",
     "text": [
      "              a    b    c\n",
      "2018-01-01  1.0  NaN  1.0\n",
      "2018-01-02  2.0  4.0  2.0\n",
      "2018-01-03  3.0  3.0  2.0\n",
      "2018-01-04  4.0  2.0  2.0\n",
      "2018-01-05  4.0  1.0  1.0\n",
      "6.16 ms ± 125 µs per loop (mean ± std. dev. of 7 runs, 100 loops each)\n",
      "              a    b    c\n",
      "2018-01-01  1.0  NaN  1.0\n",
      "2018-01-02  2.0  4.0  2.0\n",
      "2018-01-03  3.0  3.0  2.0\n",
      "2018-01-04  4.0  2.0  2.0\n",
      "2018-01-05  4.0  1.0  1.0\n",
      "8.2 ms ± 29.4 µs per loop (mean ± std. dev. of 7 runs, 100 loops each)\n"
     ]
    }
   ],
   "source": [
    "print(ts.ffill())\n",
    "%timeit big_ts.ffill()\n",
    "\n",
    "print(ts.vbt.timeseries.ffill())\n",
    "%timeit big_ts.vbt.timeseries.ffill()"
   ]
  },
  {
   "cell_type": "code",
   "execution_count": 10,
   "metadata": {},
   "outputs": [
    {
     "name": "stdout",
     "output_type": "stream",
     "text": [
      "               a     b    c\n",
      "2018-01-01   1.0   NaN  1.0\n",
      "2018-01-02   3.0   4.0  3.0\n",
      "2018-01-03   6.0   7.0  NaN\n",
      "2018-01-04  10.0   9.0  5.0\n",
      "2018-01-05   NaN  10.0  6.0\n",
      "11.8 ms ± 130 µs per loop (mean ± std. dev. of 7 runs, 100 loops each)\n",
      "               a     b    c\n",
      "2018-01-01   1.0   NaN  1.0\n",
      "2018-01-02   3.0   4.0  3.0\n",
      "2018-01-03   6.0   7.0  NaN\n",
      "2018-01-04  10.0   9.0  5.0\n",
      "2018-01-05   NaN  10.0  6.0\n",
      "8.27 ms ± 58.2 µs per loop (mean ± std. dev. of 7 runs, 100 loops each)\n"
     ]
    }
   ],
   "source": [
    "print(ts.cumsum())\n",
    "%timeit big_ts.cumsum()\n",
    "\n",
    "print(ts.vbt.timeseries.cumsum())\n",
    "%timeit big_ts.vbt.timeseries.cumsum()"
   ]
  },
  {
   "cell_type": "code",
   "execution_count": 11,
   "metadata": {},
   "outputs": [
    {
     "name": "stdout",
     "output_type": "stream",
     "text": [
      "               a     b    c\n",
      "2018-01-01   1.0   NaN  1.0\n",
      "2018-01-02   2.0   4.0  2.0\n",
      "2018-01-03   6.0  12.0  NaN\n",
      "2018-01-04  24.0  24.0  4.0\n",
      "2018-01-05   NaN  24.0  4.0\n",
      "11.8 ms ± 102 µs per loop (mean ± std. dev. of 7 runs, 100 loops each)\n",
      "               a     b    c\n",
      "2018-01-01   1.0   NaN  1.0\n",
      "2018-01-02   2.0   4.0  2.0\n",
      "2018-01-03   6.0  12.0  NaN\n",
      "2018-01-04  24.0  24.0  4.0\n",
      "2018-01-05   NaN  24.0  4.0\n",
      "8.25 ms ± 63.4 µs per loop (mean ± std. dev. of 7 runs, 100 loops each)\n"
     ]
    }
   ],
   "source": [
    "print(ts.cumprod())\n",
    "%timeit big_ts.cumprod()\n",
    "\n",
    "print(ts.vbt.timeseries.cumprod())\n",
    "%timeit big_ts.vbt.timeseries.cumprod()"
   ]
  },
  {
   "cell_type": "code",
   "execution_count": 12,
   "metadata": {
    "Collapsed": "false"
   },
   "outputs": [
    {
     "name": "stdout",
     "output_type": "stream",
     "text": [
      "              a    b    c\n",
      "2018-01-01  NaN  NaN  NaN\n",
      "2018-01-02  1.5  NaN  1.5\n",
      "2018-01-03  2.5  3.5  NaN\n",
      "2018-01-04  3.5  2.5  NaN\n",
      "2018-01-05  NaN  1.5  1.5\n",
      "29.8 ms ± 595 µs per loop (mean ± std. dev. of 7 runs, 10 loops each)\n",
      "              a    b    c\n",
      "2018-01-01  NaN  NaN  NaN\n",
      "2018-01-02  1.5  NaN  1.5\n",
      "2018-01-03  2.5  3.5  NaN\n",
      "2018-01-04  3.5  2.5  NaN\n",
      "2018-01-05  NaN  1.5  1.5\n",
      "14.2 ms ± 95.8 µs per loop (mean ± std. dev. of 7 runs, 100 loops each)\n"
     ]
    }
   ],
   "source": [
    "print(ts.rolling(2).mean())\n",
    "%timeit big_ts.rolling(2).mean()\n",
    "\n",
    "print(ts.vbt.timeseries.rolling_mean(2))\n",
    "%timeit big_ts.vbt.timeseries.rolling_mean(2)"
   ]
  },
  {
   "cell_type": "code",
   "execution_count": 13,
   "metadata": {},
   "outputs": [
    {
     "name": "stdout",
     "output_type": "stream",
     "text": [
      "                   a         b         c\n",
      "2018-01-01       NaN       NaN       NaN\n",
      "2018-01-02  0.707107       NaN  0.707107\n",
      "2018-01-03  0.707107  0.707107       NaN\n",
      "2018-01-04  0.707107  0.707107       NaN\n",
      "2018-01-05       NaN  0.707107  0.707107\n",
      "54.2 ms ± 282 µs per loop (mean ± std. dev. of 7 runs, 10 loops each)\n",
      "                   a         b         c\n",
      "2018-01-01       NaN       NaN       NaN\n",
      "2018-01-02  0.707107       NaN  0.707107\n",
      "2018-01-03  0.707107  0.707107       NaN\n",
      "2018-01-04  0.707107  0.707107       NaN\n",
      "2018-01-05       NaN  0.707107  0.707107\n",
      "19.7 ms ± 2.06 ms per loop (mean ± std. dev. of 7 runs, 100 loops each)\n"
     ]
    }
   ],
   "source": [
    "print(ts.rolling(2).std())\n",
    "%timeit big_ts.rolling(2).std()\n",
    "\n",
    "print(ts.vbt.timeseries.rolling_std(2))\n",
    "%timeit big_ts.vbt.timeseries.rolling_std(2)"
   ]
  },
  {
   "cell_type": "code",
   "execution_count": 14,
   "metadata": {},
   "outputs": [
    {
     "name": "stdout",
     "output_type": "stream",
     "text": [
      "              a    b    c\n",
      "2018-01-01  NaN  NaN  NaN\n",
      "2018-01-02  1.0  NaN  1.0\n",
      "2018-01-03  2.0  3.0  NaN\n",
      "2018-01-04  3.0  2.0  NaN\n",
      "2018-01-05  NaN  1.0  1.0\n",
      "42.9 ms ± 574 µs per loop (mean ± std. dev. of 7 runs, 10 loops each)\n",
      "              a    b    c\n",
      "2018-01-01  NaN  NaN  NaN\n",
      "2018-01-02  1.0  NaN  1.0\n",
      "2018-01-03  2.0  3.0  NaN\n",
      "2018-01-04  3.0  2.0  NaN\n",
      "2018-01-05  NaN  1.0  1.0\n",
      "16.8 ms ± 767 µs per loop (mean ± std. dev. of 7 runs, 100 loops each)\n"
     ]
    }
   ],
   "source": [
    "print(ts.rolling(2).min())\n",
    "%timeit big_ts.rolling(2).min()\n",
    "\n",
    "print(ts.vbt.timeseries.rolling_min(2))\n",
    "%timeit big_ts.vbt.timeseries.rolling_min(2)"
   ]
  },
  {
   "cell_type": "code",
   "execution_count": 15,
   "metadata": {},
   "outputs": [
    {
     "name": "stdout",
     "output_type": "stream",
     "text": [
      "              a    b    c\n",
      "2018-01-01  NaN  NaN  NaN\n",
      "2018-01-02  2.0  NaN  2.0\n",
      "2018-01-03  3.0  4.0  NaN\n",
      "2018-01-04  4.0  3.0  NaN\n",
      "2018-01-05  NaN  2.0  2.0\n",
      "43.6 ms ± 276 µs per loop (mean ± std. dev. of 7 runs, 10 loops each)\n",
      "              a    b    c\n",
      "2018-01-01  NaN  NaN  NaN\n",
      "2018-01-02  2.0  NaN  2.0\n",
      "2018-01-03  3.0  4.0  NaN\n",
      "2018-01-04  4.0  3.0  NaN\n",
      "2018-01-05  NaN  2.0  2.0\n",
      "16.4 ms ± 82.6 µs per loop (mean ± std. dev. of 7 runs, 100 loops each)\n"
     ]
    }
   ],
   "source": [
    "print(ts.rolling(2).max())\n",
    "%timeit big_ts.rolling(2).max()\n",
    "\n",
    "print(ts.vbt.timeseries.rolling_max(2))\n",
    "%timeit big_ts.vbt.timeseries.rolling_max(2)"
   ]
  },
  {
   "cell_type": "code",
   "execution_count": 16,
   "metadata": {},
   "outputs": [
    {
     "name": "stdout",
     "output_type": "stream",
     "text": [
      "              a    b    c\n",
      "2018-01-01  1.0  NaN  1.0\n",
      "2018-01-02  2.0  4.0  2.0\n",
      "2018-01-03  3.0  4.0  2.0\n",
      "2018-01-04  4.0  4.0  2.0\n",
      "2018-01-05  4.0  4.0  2.0\n",
      "49.2 ms ± 1.64 ms per loop (mean ± std. dev. of 7 runs, 10 loops each)\n",
      "              a    b    c\n",
      "2018-01-01  1.0  NaN  1.0\n",
      "2018-01-02  2.0  4.0  2.0\n",
      "2018-01-03  3.0  4.0  2.0\n",
      "2018-01-04  4.0  4.0  2.0\n",
      "2018-01-05  4.0  4.0  2.0\n",
      "9.85 ms ± 103 µs per loop (mean ± std. dev. of 7 runs, 100 loops each)\n"
     ]
    }
   ],
   "source": [
    "print(ts.expanding().max())\n",
    "%timeit big_ts.expanding().max()\n",
    "\n",
    "print(ts.vbt.timeseries.expanding_max())\n",
    "%timeit big_ts.vbt.timeseries.expanding_max()"
   ]
  },
  {
   "cell_type": "code",
   "execution_count": 17,
   "metadata": {
    "Collapsed": "false"
   },
   "outputs": [
    {
     "name": "stdout",
     "output_type": "stream",
     "text": [
      "                   a         b         c\n",
      "2018-01-01  1.000000       NaN  1.000000\n",
      "2018-01-02  1.750000  4.000000  1.750000\n",
      "2018-01-03  2.615385  3.250000  1.750000\n",
      "2018-01-04  3.550000  2.384615  1.967742\n",
      "2018-01-05  3.550000  1.450000  1.267857\n",
      "87 ms ± 564 µs per loop (mean ± std. dev. of 7 runs, 10 loops each)\n",
      "                   a         b         c\n",
      "2018-01-01       NaN       NaN       NaN\n",
      "2018-01-02  1.750000  4.000000  1.750000\n",
      "2018-01-03  2.615385  3.250000  1.750000\n",
      "2018-01-04  3.550000  2.384615  1.967742\n",
      "2018-01-05  3.550000  1.450000  1.267857\n",
      "13 ms ± 124 µs per loop (mean ± std. dev. of 7 runs, 100 loops each)\n"
     ]
    }
   ],
   "source": [
    "print(ts.ewm(span=2).mean())\n",
    "%timeit big_ts.ewm(span=2).mean()\n",
    "\n",
    "print(ts.vbt.timeseries.ewm_mean(2))\n",
    "%timeit big_ts.vbt.timeseries.ewm_mean(2)"
   ]
  },
  {
   "cell_type": "code",
   "execution_count": 18,
   "metadata": {},
   "outputs": [
    {
     "name": "stdout",
     "output_type": "stream",
     "text": [
      "                   a         b         c\n",
      "2018-01-01       NaN       NaN       NaN\n",
      "2018-01-02  0.707107       NaN  0.707107\n",
      "2018-01-03  0.919866  0.707107  0.707107\n",
      "2018-01-04  1.059753  0.919866  0.367607\n",
      "2018-01-05  1.059753  1.059753  0.684914\n",
      "474 ms ± 10.1 ms per loop (mean ± std. dev. of 7 runs, 1 loop each)\n",
      "                   a         b         c\n",
      "2018-01-01       NaN       NaN       NaN\n",
      "2018-01-02  0.707107       NaN  0.707107\n",
      "2018-01-03  0.919866  0.707107  0.707107\n",
      "2018-01-04  1.059753  0.919866  0.367607\n",
      "2018-01-05  1.059753  1.059753  0.684914\n",
      "21.9 ms ± 317 µs per loop (mean ± std. dev. of 7 runs, 10 loops each)\n"
     ]
    }
   ],
   "source": [
    "print(ts.ewm(span=2).std())\n",
    "%timeit big_ts.ewm(span=2).std()\n",
    "\n",
    "print(ts.vbt.timeseries.ewm_std(2))\n",
    "%timeit big_ts.vbt.timeseries.ewm_std(2)"
   ]
  },
  {
   "cell_type": "code",
   "execution_count": 5,
   "metadata": {},
   "outputs": [],
   "source": [
    "nanmean_nb = njit(lambda x: np.nanmean(x))"
   ]
  },
  {
   "cell_type": "code",
   "execution_count": 19,
   "metadata": {},
   "outputs": [
    {
     "name": "stdout",
     "output_type": "stream",
     "text": [
      "              a    b   c\n",
      "2018-01-01  NaN  NaN NaN\n",
      "2018-01-02  NaN  NaN NaN\n",
      "2018-01-03  2.0  NaN NaN\n",
      "2018-01-04  3.0  3.0 NaN\n",
      "2018-01-05  NaN  2.0 NaN\n",
      "382 ms ± 5.31 ms per loop (mean ± std. dev. of 7 runs, 1 loop each)\n",
      "              a    b    c\n",
      "2018-01-01  NaN  NaN  NaN\n",
      "2018-01-02  NaN  NaN  NaN\n",
      "2018-01-03  2.0  3.5  1.5\n",
      "2018-01-04  3.0  3.0  2.0\n",
      "2018-01-05  3.5  2.0  1.5\n",
      "45.4 ms ± 1.27 ms per loop (mean ± std. dev. of 7 runs, 1 loop each)\n",
      "                   a         b         c\n",
      "2018-01-01       NaN       NaN       NaN\n",
      "2018-01-02       NaN       NaN       NaN\n",
      "2018-01-03  2.285714  2.285714  2.285714\n",
      "2018-01-04  2.750000  2.750000  2.750000\n",
      "2018-01-05  2.285714  2.285714  2.285714\n",
      "7.59 ms ± 142 µs per loop (mean ± std. dev. of 7 runs, 100 loops each)\n"
     ]
    }
   ],
   "source": [
    "print(ts.rolling(3).apply(nanmean_nb, raw=True)) # not correct\n",
    "%timeit big_ts.rolling(3).apply(nanmean_nb, raw=True)\n",
    "\n",
    "print(ts.vbt.timeseries.rolling_apply(3, nanmean_nb)) # correct\n",
    "%timeit big_ts.vbt.timeseries.rolling_apply(3, nanmean_nb)\n",
    "\n",
    "print(ts.vbt.timeseries.rolling_apply(3, nanmean_nb, on_2d=True))\n",
    "%timeit big_ts.vbt.timeseries.rolling_apply(3, nanmean_nb, on_2d=True)"
   ]
  },
  {
   "cell_type": "code",
   "execution_count": 20,
   "metadata": {},
   "outputs": [
    {
     "name": "stdout",
     "output_type": "stream",
     "text": [
      "              a    b         c\n",
      "2018-01-01  1.0  NaN  1.000000\n",
      "2018-01-02  1.5  4.0  1.500000\n",
      "2018-01-03  2.0  3.5  1.500000\n",
      "2018-01-04  2.5  3.0  1.666667\n",
      "2018-01-05  2.5  2.5  1.500000\n",
      "1.45 s ± 10.2 ms per loop (mean ± std. dev. of 7 runs, 1 loop each)\n",
      "              a    b         c\n",
      "2018-01-01  1.0  NaN  1.000000\n",
      "2018-01-02  1.5  4.0  1.500000\n",
      "2018-01-03  2.0  3.5  1.500000\n",
      "2018-01-04  2.5  3.0  1.666667\n",
      "2018-01-05  2.5  2.5  1.500000\n",
      "847 ms ± 6.4 ms per loop (mean ± std. dev. of 7 runs, 1 loop each)\n",
      "                   a         b         c\n",
      "2018-01-01  1.000000  1.000000  1.000000\n",
      "2018-01-02  2.000000  2.000000  2.000000\n",
      "2018-01-03  2.285714  2.285714  2.285714\n",
      "2018-01-04  2.400000  2.400000  2.400000\n",
      "2018-01-05  2.166667  2.166667  2.166667\n",
      "840 ms ± 4.93 ms per loop (mean ± std. dev. of 7 runs, 1 loop each)\n"
     ]
    }
   ],
   "source": [
    "print(ts.expanding().apply(nanmean_nb, raw=True))\n",
    "%timeit big_ts.expanding().apply(nanmean_nb, raw=True)\n",
    "\n",
    "print(ts.vbt.timeseries.expanding_apply(nanmean_nb))\n",
    "%timeit big_ts.vbt.timeseries.expanding_apply(nanmean_nb)\n",
    "\n",
    "print(ts.vbt.timeseries.expanding_apply(nanmean_nb, on_2d=True))\n",
    "%timeit big_ts.vbt.timeseries.expanding_apply(nanmean_nb, on_2d=True)"
   ]
  },
  {
   "cell_type": "code",
   "execution_count": 21,
   "metadata": {},
   "outputs": [
    {
     "name": "stdout",
     "output_type": "stream",
     "text": [
      "1    1.5\n",
      "2    3.5\n",
      "3    NaN\n",
      "Name: a, dtype: float64\n",
      "3.76 ms ± 64.8 µs per loop (mean ± std. dev. of 7 runs, 100 loops each)\n",
      "1    1.5\n",
      "2    3.5\n",
      "3    NaN\n",
      "Name: a, dtype: float64\n",
      "499 µs ± 99.1 µs per loop (mean ± std. dev. of 7 runs, 1 loop each)\n",
      "     a    b    c\n",
      "1  1.5  4.0  1.5\n",
      "2  3.5  2.5  2.0\n",
      "3  NaN  1.0  1.0\n",
      "     a    b    c\n",
      "1  1.5  4.0  1.5\n",
      "2  3.5  2.5  2.0\n",
      "3  NaN  1.0  1.0\n",
      "6.53 ms ± 92.4 µs per loop (mean ± std. dev. of 7 runs, 100 loops each)\n",
      "     a    b    c\n",
      "1  2.0  2.0  2.0\n",
      "2  2.8  2.8  2.8\n",
      "3  1.0  1.0  1.0\n"
     ]
    }
   ],
   "source": [
    "print(ts['a'].groupby(np.asarray([1, 1, 2, 2, 3])).apply(lambda x: nanmean_nb(x.values)))\n",
    "%timeit big_ts.iloc[:, 0].groupby(np.random.randint(10, size=1000)).apply(lambda x: nanmean_nb(x.values))\n",
    "\n",
    "print(ts['a'].vbt.timeseries.groupby_apply(np.asarray([1, 1, 2, 2, 3]), nanmean_nb))\n",
    "%timeit big_ts.iloc[:, 0].vbt.timeseries.groupby_apply(np.random.randint(10, size=1000), nanmean_nb)\n",
    "\n",
    "print(ts.groupby(np.asarray([1, 1, 2, 2, 3])).agg({\n",
    "    'a': lambda x: nanmean_nb(x.values), \n",
    "    'b': lambda x: nanmean_nb(x.values), \n",
    "    'c': lambda x: nanmean_nb(x.values)})) # any clean way to do column-wise grouping in pandas?\n",
    "\n",
    "print(ts.vbt.timeseries.groupby_apply(np.asarray([1, 1, 2, 2, 3]), nanmean_nb))\n",
    "%timeit big_ts.vbt.timeseries.groupby_apply(np.random.randint(10, size=1000), nanmean_nb)\n",
    "\n",
    "print(ts.vbt.timeseries.groupby_apply(np.asarray([1, 1, 2, 2, 3]), nanmean_nb, on_2d=True))"
   ]
  },
  {
   "cell_type": "code",
   "execution_count": 6,
   "metadata": {},
   "outputs": [
    {
     "name": "stdout",
     "output_type": "stream",
     "text": [
      "2018-01-01 00:00:00    1.0\n",
      "2018-01-01 01:00:00    NaN\n",
      "2018-01-01 02:00:00    NaN\n",
      "2018-01-01 03:00:00    NaN\n",
      "2018-01-01 04:00:00    NaN\n",
      "                      ... \n",
      "2018-01-04 20:00:00    NaN\n",
      "2018-01-04 21:00:00    NaN\n",
      "2018-01-04 22:00:00    NaN\n",
      "2018-01-04 23:00:00    NaN\n",
      "2018-01-05 00:00:00    NaN\n",
      "Freq: H, Name: a, Length: 97, dtype: float64\n",
      "118 ms ± 4.58 ms per loop (mean ± std. dev. of 7 runs, 10 loops each)\n",
      "2018-01-01 00:00:00    1.0\n",
      "2018-01-01 01:00:00    NaN\n",
      "2018-01-01 02:00:00    NaN\n",
      "2018-01-01 03:00:00    NaN\n",
      "2018-01-01 04:00:00    NaN\n",
      "                      ... \n",
      "2018-01-04 20:00:00    NaN\n",
      "2018-01-04 21:00:00    NaN\n",
      "2018-01-04 22:00:00    NaN\n",
      "2018-01-04 23:00:00    NaN\n",
      "2018-01-05 00:00:00    NaN\n",
      "Freq: H, Name: a, Length: 97, dtype: float64\n",
      "110 ms ± 2.66 ms per loop (mean ± std. dev. of 7 runs, 1 loop each)\n",
      "                       a    b    c\n",
      "2018-01-01 00:00:00  1.0  NaN  1.0\n",
      "2018-01-01 01:00:00  NaN  NaN  NaN\n",
      "2018-01-01 02:00:00  NaN  NaN  NaN\n",
      "2018-01-01 03:00:00  NaN  NaN  NaN\n",
      "2018-01-01 04:00:00  NaN  NaN  NaN\n",
      "...                  ...  ...  ...\n",
      "2018-01-04 20:00:00  NaN  NaN  NaN\n",
      "2018-01-04 21:00:00  NaN  NaN  NaN\n",
      "2018-01-04 22:00:00  NaN  NaN  NaN\n",
      "2018-01-04 23:00:00  NaN  NaN  NaN\n",
      "2018-01-05 00:00:00  NaN  1.0  1.0\n",
      "\n",
      "[97 rows x 3 columns]\n",
      "12.1 s ± 280 ms per loop (mean ± std. dev. of 7 runs, 1 loop each)\n",
      "                       a    b    c\n",
      "2018-01-01 00:00:00  1.0  NaN  1.0\n",
      "2018-01-01 01:00:00  NaN  NaN  NaN\n",
      "2018-01-01 02:00:00  NaN  NaN  NaN\n",
      "2018-01-01 03:00:00  NaN  NaN  NaN\n",
      "2018-01-01 04:00:00  NaN  NaN  NaN\n",
      "...                  ...  ...  ...\n",
      "2018-01-04 20:00:00  NaN  NaN  NaN\n",
      "2018-01-04 21:00:00  NaN  NaN  NaN\n",
      "2018-01-04 22:00:00  NaN  NaN  NaN\n",
      "2018-01-04 23:00:00  NaN  NaN  NaN\n",
      "2018-01-05 00:00:00  NaN  1.0  1.0\n",
      "\n",
      "[97 rows x 3 columns]\n",
      "1.03 s ± 4.21 ms per loop (mean ± std. dev. of 7 runs, 1 loop each)\n",
      "                       a    b    c\n",
      "2018-01-01 00:00:00  1.0  1.0  1.0\n",
      "2018-01-01 01:00:00  NaN  NaN  NaN\n",
      "2018-01-01 02:00:00  NaN  NaN  NaN\n",
      "2018-01-01 03:00:00  NaN  NaN  NaN\n",
      "2018-01-01 04:00:00  NaN  NaN  NaN\n",
      "...                  ...  ...  ...\n",
      "2018-01-04 20:00:00  NaN  NaN  NaN\n",
      "2018-01-04 21:00:00  NaN  NaN  NaN\n",
      "2018-01-04 22:00:00  NaN  NaN  NaN\n",
      "2018-01-04 23:00:00  NaN  NaN  NaN\n",
      "2018-01-05 00:00:00  1.0  1.0  1.0\n",
      "\n",
      "[97 rows x 3 columns]\n",
      "216 ms ± 2.43 ms per loop (mean ± std. dev. of 7 runs, 1 loop each)\n"
     ]
    }
   ],
   "source": [
    "print(ts['a'].resample('1h').apply(lambda x: nanmean_nb(x.values)))\n",
    "%timeit big_ts.iloc[:, 0].resample('1h').apply(lambda x: nanmean_nb(x.values))\n",
    "\n",
    "print(ts['a'].vbt.timeseries.resample_apply('1h', nanmean_nb))\n",
    "%timeit big_ts.iloc[:, 0].vbt.timeseries.resample_apply('1h', nanmean_nb)\n",
    "\n",
    "print(ts.resample('1h').apply(lambda x: nanmean_nb(x.values)))\n",
    "%timeit big_ts.iloc[:, :100].resample('1h').apply(lambda x: nanmean_nb(x.values))\n",
    "\n",
    "print(ts.vbt.timeseries.resample_apply('1h', nanmean_nb))\n",
    "%timeit big_ts.vbt.timeseries.resample_apply('1h', nanmean_nb)\n",
    "\n",
    "print(ts.vbt.timeseries.resample_apply('1h', nanmean_nb, on_2d=True))\n",
    "%timeit big_ts.vbt.timeseries.resample_apply('1h', nanmean_nb, on_2d=True)"
   ]
  },
  {
   "cell_type": "code",
   "execution_count": 7,
   "metadata": {},
   "outputs": [
    {
     "name": "stdout",
     "output_type": "stream",
     "text": [
      "2018-01-01    2.0\n",
      "2018-01-04    4.0\n",
      "Freq: 3D, Name: a, dtype: float64\n",
      "3.48 ms ± 21.9 µs per loop (mean ± std. dev. of 7 runs, 100 loops each)\n",
      "2018-01-01    2.0\n",
      "2018-01-04    4.0\n",
      "Freq: 3D, Name: a, dtype: float64\n",
      "7.16 ms ± 71.4 µs per loop (mean ± std. dev. of 7 runs, 100 loops each)\n",
      "              a    b    c\n",
      "2018-01-01  2.0  3.5  1.5\n",
      "2018-01-04  4.0  1.5  1.5\n",
      "3.49 s ± 101 ms per loop (mean ± std. dev. of 7 runs, 1 loop each)\n",
      "              a    b    c\n",
      "2018-01-01  2.0  3.5  1.5\n",
      "2018-01-04  4.0  1.5  1.5\n",
      "329 ms ± 37.5 ms per loop (mean ± std. dev. of 7 runs, 1 loop each)\n"
     ]
    }
   ],
   "source": [
    "print(ts['a'].resample('3d').apply(lambda x: nanmean_nb(x.values)))\n",
    "%timeit big_ts.iloc[:, 0].resample('3d').apply(lambda x: nanmean_nb(x.values))\n",
    "\n",
    "print(ts['a'].vbt.timeseries.resample_apply('3d', nanmean_nb))\n",
    "%timeit big_ts.iloc[:, 0].vbt.timeseries.resample_apply('3d', nanmean_nb)\n",
    "\n",
    "print(ts.resample('3d').apply(lambda x: nanmean_nb(x.values)))\n",
    "%timeit big_ts.resample('3d').apply(lambda x: nanmean_nb(x.values))\n",
    "\n",
    "print(ts.vbt.timeseries.resample_apply('3d', nanmean_nb))\n",
    "%timeit big_ts.vbt.timeseries.resample_apply('3d', nanmean_nb)"
   ]
  },
  {
   "cell_type": "code",
   "execution_count": 8,
   "metadata": {},
   "outputs": [
    {
     "name": "stdout",
     "output_type": "stream",
     "text": [
      "2018-01-07    2.5\n",
      "Freq: W-SUN, Name: a, dtype: float64\n",
      "14.7 ms ± 5.38 ms per loop (mean ± std. dev. of 7 runs, 100 loops each)\n",
      "2018-01-07    2.5\n",
      "Freq: W-SUN, Name: a, dtype: float64\n",
      "9.88 ms ± 1.8 ms per loop (mean ± std. dev. of 7 runs, 100 loops each)\n",
      "              a    b    c\n",
      "2018-01-07  2.5  2.5  1.5\n",
      "3.98 s ± 1.68 s per loop (mean ± std. dev. of 7 runs, 1 loop each)\n",
      "              a    b    c\n",
      "2018-01-07  2.5  2.5  1.5\n",
      "149 ms ± 9.11 ms per loop (mean ± std. dev. of 7 runs, 10 loops each)\n"
     ]
    }
   ],
   "source": [
    "print(ts['a'].resample('1w').apply(lambda x: nanmean_nb(x.values)))\n",
    "%timeit big_ts.iloc[:, 0].resample('1w').apply(lambda x: nanmean_nb(x.values))\n",
    "\n",
    "print(ts['a'].vbt.timeseries.resample_apply('1w', nanmean_nb))\n",
    "%timeit big_ts.iloc[:, 0].vbt.timeseries.resample_apply('1w', nanmean_nb)\n",
    "\n",
    "print(ts.resample('1w').apply(lambda x: nanmean_nb(x.values)))\n",
    "%timeit big_ts.resample('1w').apply(lambda x: nanmean_nb(x.values))\n",
    "\n",
    "print(ts.vbt.timeseries.resample_apply('1w', nanmean_nb))\n",
    "%timeit big_ts.vbt.timeseries.resample_apply('1w', nanmean_nb)"
   ]
  },
  {
   "cell_type": "code",
   "execution_count": 5,
   "metadata": {},
   "outputs": [
    {
     "name": "stdout",
     "output_type": "stream",
     "text": [
      "start_date  2018-01-01  2018-01-04\n",
      "0                  1.0         4.0\n",
      "1                  2.0         NaN\n",
      "945 µs ± 36.2 µs per loop (mean ± std. dev. of 7 runs, 1000 loops each)\n",
      "start_date 2018-01-01           2018-01-04          \n",
      "                    a    b    c          a    b    c\n",
      "0                 1.0  4.0  NaN        2.0  1.0  2.0\n",
      "1                 2.0  NaN  4.0        1.0  2.0  1.0\n",
      "45.1 ms ± 439 µs per loop (mean ± std. dev. of 7 runs, 10 loops each)\n"
     ]
    }
   ],
   "source": [
    "print(ts['a'].vbt.timeseries.rolling_window(2, n=2))\n",
    "%timeit big_ts.iloc[:, 0].vbt.timeseries.rolling_window(2, n=100)\n",
    "\n",
    "print(ts.vbt.timeseries.rolling_window(2, n=2))\n",
    "%timeit big_ts.vbt.timeseries.rolling_window(2, n=100)"
   ]
  },
  {
   "cell_type": "code",
   "execution_count": 6,
   "metadata": {
    "Collapsed": "false"
   },
   "outputs": [
    {
     "data": {
      "text/plain": [
       "<matplotlib.axes._subplots.AxesSubplot at 0x619a1d160>"
      ]
     },
     "execution_count": 6,
     "metadata": {},
     "output_type": "execute_result"
    },
    {
     "data": {
      "image/png": "[encoded data removed]",
      "text/plain": [
       "<Figure size 432x288 with 1 Axes>"
      ]
     },
     "metadata": {
      "needs_background": "light"
     },
     "output_type": "display_data"
    }
   ],
   "source": [
    "# Two ways of plotting\n",
    "ts.plot()"
   ]
  },
  {
   "cell_type": "code",
   "execution_count": 7,
   "metadata": {},
   "outputs": [
    {
     "data": {
      "image/png": "[encoded data removed]"
     },
     "metadata": {},
     "output_type": "display_data"
    }
   ],
   "source": [
    "ts['a'].vbt.timeseries.plot().show_png()"
   ]
  },
  {
   "cell_type": "code",
   "execution_count": 8,
   "metadata": {},
   "outputs": [
    {
     "data": {
      "image/png": "[encoded data removed]"
     },
     "metadata": {},
     "output_type": "display_data"
    }
   ],
   "source": [
    "ts.vbt.timeseries.plot().show_png()"
   ]
  },
  {
   "cell_type": "markdown",
   "metadata": {},
   "source": [
    "## OHLCV"
   ]
  },
  {
   "cell_type": "code",
   "execution_count": 9,
   "metadata": {},
   "outputs": [
    {
     "name": "stdout",
     "output_type": "stream",
     "text": [
      "                Open      High       Low     Close    Volume\n",
      "2018-01-01  0.996138  1.598521  0.523267  0.833444  0.000940\n",
      "2018-01-02  0.629759  1.617323  0.377078  0.116447  0.245807\n",
      "2018-01-03  0.850013  1.773967  0.266527  0.033355  1.174050\n",
      "2018-01-04  1.168259  1.173397  0.536548  1.999817  0.226275\n",
      "2018-01-05  0.494530  1.086565 -0.330488  0.616773  0.459292\n"
     ]
    }
   ],
   "source": [
    "ohlcv_ts = pd.DataFrame(\n",
    "    columns=['Open', 'High', 'Low', 'Close', 'Volume'],\n",
    "    index=[datetime(2018, 1, 1) + timedelta(days=i) for i in range(1000)]\n",
    ")\n",
    "ohlcv_ts['Open'] = np.cumsum(np.random.uniform(-0.8, 1, size=(1000,)))\n",
    "ohlcv_ts['Close'] = ohlcv_ts['Open'] + np.random.uniform(-1, 1, size=(1000,))\n",
    "ohlcv_ts['High'] = ohlcv_ts['Open'] + np.random.uniform(0, 1, size=(1000,))\n",
    "ohlcv_ts['Low'] = ohlcv_ts['Open'] - np.random.uniform(0, 1, size=(1000,))\n",
    "ohlcv_ts['Volume'] = np.cumsum(np.random.uniform(-1, 1, size=(1000,)))\n",
    "\n",
    "print(ohlcv_ts.head())"
   ]
  },
  {
   "cell_type": "code",
   "execution_count": 10,
   "metadata": {},
   "outputs": [
    {
     "data": {
      "image/png": "[encoded data removed]"
     },
     "metadata": {},
     "output_type": "display_data"
    }
   ],
   "source": [
    "ohlcv_ts = ohlcv_ts.rename(columns={'Volume': 'Volume2'}) # test different column names\n",
    "\n",
    "ohlcv_ts.vbt.ohlcv(volume='Volume2').plot().show_png()"
   ]
  },
  {
   "cell_type": "code",
   "execution_count": null,
   "metadata": {},
   "outputs": [],
   "source": []
  }
 ],
 "metadata": {
  "kernelspec": {
   "display_name": "Python 3",
   "language": "python",
   "name": "python3"
  },
  "language_info": {
   "codemirror_mode": {
    "name": "ipython",
    "version": 3
   },
   "file_extension": ".py",
   "mimetype": "text/x-python",
   "name": "python",
   "nbconvert_exporter": "python",
   "pygments_lexer": "ipython3",
   "version": "3.7.3"
  },
  "widgets": {
   "application/vnd.jupyter.widget-state+json": {
    "state": {
     "3ac8c0ba81ec4d66a462b1c0641cdeb7": {
      "buffers": [
       {
        "data": "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",
        "encoding": "base64",
        "path": [
         "_data",
         0,
         "close",
         "value"
        ]
       },
       {
        "data": "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",
        "encoding": "base64",
        "path": [
         "_data",
         0,
         "high",
         "value"
        ]
       },
       {
        "data": "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",
        "encoding": "base64",
        "path": [
         "_data",
         0,
         "low",
         "value"
        ]
       },
       {
        "data": "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",
        "encoding": "base64",
        "path": [
         "_data",
         0,
         "open",
         "value"
        ]
       },
       {
        "data": "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",
        "encoding": "base64",
        "path": [
         "_data",
         1,
         "y",
         "value"
        ]
       }
      ],
      "model_module": "plotlywidget",
      "model_module_version": "1.5.0",
      "model_name": "FigureModel",
      "state": {
       "_config": {
        "plotlyServerURL": "https://plot.ly"
       },
       "_data": [
        {
         "close": {
          "dtype": "float64",
          "shape": [
           1000
          ]
         },
         "high": {
          "dtype": "float64",
          "shape": [
           1000
          ]
         },
         "low": {
          "dtype": "float64",
          "shape": [
           1000
          ]
         },
         "name": "OHLC",
         "open": {
          "dtype": "float64",
          "shape": [
           1000
          ]
         },
         "type": "candlestick",
         "uid": "3d465f33-a3ad-47cc-bf1a-88a9e50ebe1d",
         "x": [
          "2018-01-01T00:00:00.000000",
          "2018-01-02T00:00:00.000000",
          "2018-01-03T00:00:00.000000",
          "2018-01-04T00:00:00.000000",
          "2018-01-05T00:00:00.000000",
          "2018-01-06T00:00:00.000000",
          "2018-01-07T00:00:00.000000",
          "2018-01-08T00:00:00.000000",
          "2018-01-09T00:00:00.000000",
          "2018-01-10T00:00:00.000000",
          "2018-01-11T00:00:00.000000",
          "2018-01-12T00:00:00.000000",
          "2018-01-13T00:00:00.000000",
          "2018-01-14T00:00:00.000000",
          "2018-01-15T00:00:00.000000",
          "2018-01-16T00:00:00.000000",
          "2018-01-17T00:00:00.000000",
          "2018-01-18T00:00:00.000000",
          "2018-01-19T00:00:00.000000",
          "2018-01-20T00:00:00.000000",
          "2018-01-21T00:00:00.000000",
          "2018-01-22T00:00:00.000000",
          "2018-01-23T00:00:00.000000",
          "2018-01-24T00:00:00.000000",
          "2018-01-25T00:00:00.000000",
          "2018-01-26T00:00:00.000000",
          "2018-01-27T00:00:00.000000",
          "2018-01-28T00:00:00.000000",
          "2018-01-29T00:00:00.000000",
          "2018-01-30T00:00:00.000000",
          "2018-01-31T00:00:00.000000",
          "2018-02-01T00:00:00.000000",
          "2018-02-02T00:00:00.000000",
          "2018-02-03T00:00:00.000000",
          "2018-02-04T00:00:00.000000",
          "2018-02-05T00:00:00.000000",
          "2018-02-06T00:00:00.000000",
          "2018-02-07T00:00:00.000000",
          "2018-02-08T00:00:00.000000",
          "2018-02-09T00:00:00.000000",
          "2018-02-10T00:00:00.000000",
          "2018-02-11T00:00:00.000000",
          "2018-02-12T00:00:00.000000",
          "2018-02-13T00:00:00.000000",
          "2018-02-14T00:00:00.000000",
          "2018-02-15T00:00:00.000000",
          "2018-02-16T00:00:00.000000",
          "2018-02-17T00:00:00.000000",
          "2018-02-18T00:00:00.000000",
          "2018-02-19T00:00:00.000000",
          "2018-02-20T00:00:00.000000",
          "2018-02-21T00:00:00.000000",
          "2018-02-22T00:00:00.000000",
          "2018-02-23T00:00:00.000000",
          "2018-02-24T00:00:00.000000",
          "2018-02-25T00:00:00.000000",
          "2018-02-26T00:00:00.000000",
          "2018-02-27T00:00:00.000000",
          "2018-02-28T00:00:00.000000",
          "2018-03-01T00:00:00.000000",
          "2018-03-02T00:00:00.000000",
          "2018-03-03T00:00:00.000000",
          "2018-03-04T00:00:00.000000",
          "2018-03-05T00:00:00.000000",
          "2018-03-06T00:00:00.000000",
          "2018-03-07T00:00:00.000000",
          "2018-03-08T00:00:00.000000",
          "2018-03-09T00:00:00.000000",
          "2018-03-10T00:00:00.000000",
          "2018-03-11T00:00:00.000000",
          "2018-03-12T00:00:00.000000",
          "2018-03-13T00:00:00.000000",
          "2018-03-14T00:00:00.000000",
          "2018-03-15T00:00:00.000000",
          "2018-03-16T00:00:00.000000",
          "2018-03-17T00:00:00.000000",
          "2018-03-18T00:00:00.000000",
          "2018-03-19T00:00:00.000000",
          "2018-03-20T00:00:00.000000",
          "2018-03-21T00:00:00.000000",
          "2018-03-22T00:00:00.000000",
          "2018-03-23T00:00:00.000000",
          "2018-03-24T00:00:00.000000",
          "2018-03-25T00:00:00.000000",
          "2018-03-26T00:00:00.000000",
          "2018-03-27T00:00:00.000000",
          "2018-03-28T00:00:00.000000",
          "2018-03-29T00:00:00.000000",
          "2018-03-30T00:00:00.000000",
          "2018-03-31T00:00:00.000000",
          "2018-04-01T00:00:00.000000",
          "2018-04-02T00:00:00.000000",
          "2018-04-03T00:00:00.000000",
          "2018-04-04T00:00:00.000000",
          "2018-04-05T00:00:00.000000",
          "2018-04-06T00:00:00.000000",
          "2018-04-07T00:00:00.000000",
          "2018-04-08T00:00:00.000000",
          "2018-04-09T00:00:00.000000",
          "2018-04-10T00:00:00.000000",
          "2018-04-11T00:00:00.000000",
          "2018-04-12T00:00:00.000000",
          "2018-04-13T00:00:00.000000",
          "2018-04-14T00:00:00.000000",
          "2018-04-15T00:00:00.000000",
          "2018-04-16T00:00:00.000000",
          "2018-04-17T00:00:00.000000",
          "2018-04-18T00:00:00.000000",
          "2018-04-19T00:00:00.000000",
          "2018-04-20T00:00:00.000000",
          "2018-04-21T00:00:00.000000",
          "2018-04-22T00:00:00.000000",
          "2018-04-23T00:00:00.000000",
          "2018-04-24T00:00:00.000000",
          "2018-04-25T00:00:00.000000",
          "2018-04-26T00:00:00.000000",
          "2018-04-27T00:00:00.000000",
          "2018-04-28T00:00:00.000000",
          "2018-04-29T00:00:00.000000",
          "2018-04-30T00:00:00.000000",
          "2018-05-01T00:00:00.000000",
          "2018-05-02T00:00:00.000000",
          "2018-05-03T00:00:00.000000",
          "2018-05-04T00:00:00.000000",
          "2018-05-05T00:00:00.000000",
          "2018-05-06T00:00:00.000000",
          "2018-05-07T00:00:00.000000",
          "2018-05-08T00:00:00.000000",
          "2018-05-09T00:00:00.000000",
          "2018-05-10T00:00:00.000000",
          "2018-05-11T00:00:00.000000",
          "2018-05-12T00:00:00.000000",
          "2018-05-13T00:00:00.000000",
          "2018-05-14T00:00:00.000000",
          "2018-05-15T00:00:00.000000",
          "2018-05-16T00:00:00.000000",
          "2018-05-17T00:00:00.000000",
          "2018-05-18T00:00:00.000000",
          "2018-05-19T00:00:00.000000",
          "2018-05-20T00:00:00.000000",
          "2018-05-21T00:00:00.000000",
          "2018-05-22T00:00:00.000000",
          "2018-05-23T00:00:00.000000",
          "2018-05-24T00:00:00.000000",
          "2018-05-25T00:00:00.000000",
          "2018-05-26T00:00:00.000000",
          "2018-05-27T00:00:00.000000",
          "2018-05-28T00:00:00.000000",
          "2018-05-29T00:00:00.000000",
          "2018-05-30T00:00:00.000000",
          "2018-05-31T00:00:00.000000",
          "2018-06-01T00:00:00.000000",
          "2018-06-02T00:00:00.000000",
          "2018-06-03T00:00:00.000000",
          "2018-06-04T00:00:00.000000",
          "2018-06-05T00:00:00.000000",
          "2018-06-06T00:00:00.000000",
          "2018-06-07T00:00:00.000000",
          "2018-06-08T00:00:00.000000",
          "2018-06-09T00:00:00.000000",
          "2018-06-10T00:00:00.000000",
          "2018-06-11T00:00:00.000000",
          "2018-06-12T00:00:00.000000",
          "2018-06-13T00:00:00.000000",
          "2018-06-14T00:00:00.000000",
          "2018-06-15T00:00:00.000000",
          "2018-06-16T00:00:00.000000",
          "2018-06-17T00:00:00.000000",
          "2018-06-18T00:00:00.000000",
          "2018-06-19T00:00:00.000000",
          "2018-06-20T00:00:00.000000",
          "2018-06-21T00:00:00.000000",
          "2018-06-22T00:00:00.000000",
          "2018-06-23T00:00:00.000000",
          "2018-06-24T00:00:00.000000",
          "2018-06-25T00:00:00.000000",
          "2018-06-26T00:00:00.000000",
          "2018-06-27T00:00:00.000000",
          "2018-06-28T00:00:00.000000",
          "2018-06-29T00:00:00.000000",
          "2018-06-30T00:00:00.000000",
          "2018-07-01T00:00:00.000000",
          "2018-07-02T00:00:00.000000",
          "2018-07-03T00:00:00.000000",
          "2018-07-04T00:00:00.000000",
          "2018-07-05T00:00:00.000000",
          "2018-07-06T00:00:00.000000",
          "2018-07-07T00:00:00.000000",
          "2018-07-08T00:00:00.000000",
          "2018-07-09T00:00:00.000000",
          "2018-07-10T00:00:00.000000",
          "2018-07-11T00:00:00.000000",
          "2018-07-12T00:00:00.000000",
          "2018-07-13T00:00:00.000000",
          "2018-07-14T00:00:00.000000",
          "2018-07-15T00:00:00.000000",
          "2018-07-16T00:00:00.000000",
          "2018-07-17T00:00:00.000000",
          "2018-07-18T00:00:00.000000",
          "2018-07-19T00:00:00.000000",
          "2018-07-20T00:00:00.000000",
          "2018-07-21T00:00:00.000000",
          "2018-07-22T00:00:00.000000",
          "2018-07-23T00:00:00.000000",
          "2018-07-24T00:00:00.000000",
          "2018-07-25T00:00:00.000000",
          "2018-07-26T00:00:00.000000",
          "2018-07-27T00:00:00.000000",
          "2018-07-28T00:00:00.000000",
          "2018-07-29T00:00:00.000000",
          "2018-07-30T00:00:00.000000",
          "2018-07-31T00:00:00.000000",
          "2018-08-01T00:00:00.000000",
          "2018-08-02T00:00:00.000000",
          "2018-08-03T00:00:00.000000",
          "2018-08-04T00:00:00.000000",
          "2018-08-05T00:00:00.000000",
          "2018-08-06T00:00:00.000000",
          "2018-08-07T00:00:00.000000",
          "2018-08-08T00:00:00.000000",
          "2018-08-09T00:00:00.000000",
          "2018-08-10T00:00:00.000000",
          "2018-08-11T00:00:00.000000",
          "2018-08-12T00:00:00.000000",
          "2018-08-13T00:00:00.000000",
          "2018-08-14T00:00:00.000000",
          "2018-08-15T00:00:00.000000",
          "2018-08-16T00:00:00.000000",
          "2018-08-17T00:00:00.000000",
          "2018-08-18T00:00:00.000000",
          "2018-08-19T00:00:00.000000",
          "2018-08-20T00:00:00.000000",
          "2018-08-21T00:00:00.000000",
          "2018-08-22T00:00:00.000000",
          "2018-08-23T00:00:00.000000",
          "2018-08-24T00:00:00.000000",
          "2018-08-25T00:00:00.000000",
          "2018-08-26T00:00:00.000000",
          "2018-08-27T00:00:00.000000",
          "2018-08-28T00:00:00.000000",
          "2018-08-29T00:00:00.000000",
          "2018-08-30T00:00:00.000000",
          "2018-08-31T00:00:00.000000",
          "2018-09-01T00:00:00.000000",
          "2018-09-02T00:00:00.000000",
          "2018-09-03T00:00:00.000000",
          "2018-09-04T00:00:00.000000",
          "2018-09-05T00:00:00.000000",
          "2018-09-06T00:00:00.000000",
          "2018-09-07T00:00:00.000000",
          "2018-09-08T00:00:00.000000",
          "2018-09-09T00:00:00.000000",
          "2018-09-10T00:00:00.000000",
          "2018-09-11T00:00:00.000000",
          "2018-09-12T00:00:00.000000",
          "2018-09-13T00:00:00.000000",
          "2018-09-14T00:00:00.000000",
          "2018-09-15T00:00:00.000000",
          "2018-09-16T00:00:00.000000",
          "2018-09-17T00:00:00.000000",
          "2018-09-18T00:00:00.000000",
          "2018-09-19T00:00:00.000000",
          "2018-09-20T00:00:00.000000",
          "2018-09-21T00:00:00.000000",
          "2018-09-22T00:00:00.000000",
          "2018-09-23T00:00:00.000000",
          "2018-09-24T00:00:00.000000",
          "2018-09-25T00:00:00.000000",
          "2018-09-26T00:00:00.000000",
          "2018-09-27T00:00:00.000000",
          "2018-09-28T00:00:00.000000",
          "2018-09-29T00:00:00.000000",
          "2018-09-30T00:00:00.000000",
          "2018-10-01T00:00:00.000000",
          "2018-10-02T00:00:00.000000",
          "2018-10-03T00:00:00.000000",
          "2018-10-04T00:00:00.000000",
          "2018-10-05T00:00:00.000000",
          "2018-10-06T00:00:00.000000",
          "2018-10-07T00:00:00.000000",
          "2018-10-08T00:00:00.000000",
          "2018-10-09T00:00:00.000000",
          "2018-10-10T00:00:00.000000",
          "2018-10-11T00:00:00.000000",
          "2018-10-12T00:00:00.000000",
          "2018-10-13T00:00:00.000000",
          "2018-10-14T00:00:00.000000",
          "2018-10-15T00:00:00.000000",
          "2018-10-16T00:00:00.000000",
          "2018-10-17T00:00:00.000000",
          "2018-10-18T00:00:00.000000",
          "2018-10-19T00:00:00.000000",
          "2018-10-20T00:00:00.000000",
          "2018-10-21T00:00:00.000000",
          "2018-10-22T00:00:00.000000",
          "2018-10-23T00:00:00.000000",
          "2018-10-24T00:00:00.000000",
          "2018-10-25T00:00:00.000000",
          "2018-10-26T00:00:00.000000",
          "2018-10-27T00:00:00.000000",
          "2018-10-28T00:00:00.000000",
          "2018-10-29T00:00:00.000000",
          "2018-10-30T00:00:00.000000",
          "2018-10-31T00:00:00.000000",
          "2018-11-01T00:00:00.000000",
          "2018-11-02T00:00:00.000000",
          "2018-11-03T00:00:00.000000",
          "2018-11-04T00:00:00.000000",
          "2018-11-05T00:00:00.000000",
          "2018-11-06T00:00:00.000000",
          "2018-11-07T00:00:00.000000",
          "2018-11-08T00:00:00.000000",
          "2018-11-09T00:00:00.000000",
          "2018-11-10T00:00:00.000000",
          "2018-11-11T00:00:00.000000",
          "2018-11-12T00:00:00.000000",
          "2018-11-13T00:00:00.000000",
          "2018-11-14T00:00:00.000000",
          "2018-11-15T00:00:00.000000",
          "2018-11-16T00:00:00.000000",
          "2018-11-17T00:00:00.000000",
          "2018-11-18T00:00:00.000000",
          "2018-11-19T00:00:00.000000",
          "2018-11-20T00:00:00.000000",
          "2018-11-21T00:00:00.000000",
          "2018-11-22T00:00:00.000000",
          "2018-11-23T00:00:00.000000",
          "2018-11-24T00:00:00.000000",
          "2018-11-25T00:00:00.000000",
          "2018-11-26T00:00:00.000000",
          "2018-11-27T00:00:00.000000",
          "2018-11-28T00:00:00.000000",
          "2018-11-29T00:00:00.000000",
          "2018-11-30T00:00:00.000000",
          "2018-12-01T00:00:00.000000",
          "2018-12-02T00:00:00.000000",
          "2018-12-03T00:00:00.000000",
          "2018-12-04T00:00:00.000000",
          "2018-12-05T00:00:00.000000",
          "2018-12-06T00:00:00.000000",
          "2018-12-07T00:00:00.000000",
          "2018-12-08T00:00:00.000000",
          "2018-12-09T00:00:00.000000",
          "2018-12-10T00:00:00.000000",
          "2018-12-11T00:00:00.000000",
          "2018-12-12T00:00:00.000000",
          "2018-12-13T00:00:00.000000",
          "2018-12-14T00:00:00.000000",
          "2018-12-15T00:00:00.000000",
          "2018-12-16T00:00:00.000000",
          "2018-12-17T00:00:00.000000",
          "2018-12-18T00:00:00.000000",
          "2018-12-19T00:00:00.000000",
          "2018-12-20T00:00:00.000000",
          "2018-12-21T00:00:00.000000",
          "2018-12-22T00:00:00.000000",
          "2018-12-23T00:00:00.000000",
          "2018-12-24T00:00:00.000000",
          "2018-12-25T00:00:00.000000",
          "2018-12-26T00:00:00.000000",
          "2018-12-27T00:00:00.000000",
          "2018-12-28T00:00:00.000000",
          "2018-12-29T00:00:00.000000",
          "2018-12-30T00:00:00.000000",
          "2018-12-31T00:00:00.000000",
          "2019-01-01T00:00:00.000000",
          "2019-01-02T00:00:00.000000",
          "2019-01-03T00:00:00.000000",
          "2019-01-04T00:00:00.000000",
          "2019-01-05T00:00:00.000000",
          "2019-01-06T00:00:00.000000",
          "2019-01-07T00:00:00.000000",
          "2019-01-08T00:00:00.000000",
          "2019-01-09T00:00:00.000000",
          "2019-01-10T00:00:00.000000",
          "2019-01-11T00:00:00.000000",
          "2019-01-12T00:00:00.000000",
          "2019-01-13T00:00:00.000000",
          "2019-01-14T00:00:00.000000",
          "2019-01-15T00:00:00.000000",
          "2019-01-16T00:00:00.000000",
          "2019-01-17T00:00:00.000000",
          "2019-01-18T00:00:00.000000",
          "2019-01-19T00:00:00.000000",
          "2019-01-20T00:00:00.000000",
          "2019-01-21T00:00:00.000000",
          "2019-01-22T00:00:00.000000",
          "2019-01-23T00:00:00.000000",
          "2019-01-24T00:00:00.000000",
          "2019-01-25T00:00:00.000000",
          "2019-01-26T00:00:00.000000",
          "2019-01-27T00:00:00.000000",
          "2019-01-28T00:00:00.000000",
          "2019-01-29T00:00:00.000000",
          "2019-01-30T00:00:00.000000",
          "2019-01-31T00:00:00.000000",
          "2019-02-01T00:00:00.000000",
          "2019-02-02T00:00:00.000000",
          "2019-02-03T00:00:00.000000",
          "2019-02-04T00:00:00.000000",
          "2019-02-05T00:00:00.000000",
          "2019-02-06T00:00:00.000000",
          "2019-02-07T00:00:00.000000",
          "2019-02-08T00:00:00.000000",
          "2019-02-09T00:00:00.000000",
          "2019-02-10T00:00:00.000000",
          "2019-02-11T00:00:00.000000",
          "2019-02-12T00:00:00.000000",
          "2019-02-13T00:00:00.000000",
          "2019-02-14T00:00:00.000000",
          "2019-02-15T00:00:00.000000",
          "2019-02-16T00:00:00.000000",
          "2019-02-17T00:00:00.000000",
          "2019-02-18T00:00:00.000000",
          "2019-02-19T00:00:00.000000",
          "2019-02-20T00:00:00.000000",
          "2019-02-21T00:00:00.000000",
          "2019-02-22T00:00:00.000000",
          "2019-02-23T00:00:00.000000",
          "2019-02-24T00:00:00.000000",
          "2019-02-25T00:00:00.000000",
          "2019-02-26T00:00:00.000000",
          "2019-02-27T00:00:00.000000",
          "2019-02-28T00:00:00.000000",
          "2019-03-01T00:00:00.000000",
          "2019-03-02T00:00:00.000000",
          "2019-03-03T00:00:00.000000",
          "2019-03-04T00:00:00.000000",
          "2019-03-05T00:00:00.000000",
          "2019-03-06T00:00:00.000000",
          "2019-03-07T00:00:00.000000",
          "2019-03-08T00:00:00.000000",
          "2019-03-09T00:00:00.000000",
          "2019-03-10T00:00:00.000000",
          "2019-03-11T00:00:00.000000",
          "2019-03-12T00:00:00.000000",
          "2019-03-13T00:00:00.000000",
          "2019-03-14T00:00:00.000000",
          "2019-03-15T00:00:00.000000",
          "2019-03-16T00:00:00.000000",
          "2019-03-17T00:00:00.000000",
          "2019-03-18T00:00:00.000000",
          "2019-03-19T00:00:00.000000",
          "2019-03-20T00:00:00.000000",
          "2019-03-21T00:00:00.000000",
          "2019-03-22T00:00:00.000000",
          "2019-03-23T00:00:00.000000",
          "2019-03-24T00:00:00.000000",
          "2019-03-25T00:00:00.000000",
          "2019-03-26T00:00:00.000000",
          "2019-03-27T00:00:00.000000",
          "2019-03-28T00:00:00.000000",
          "2019-03-29T00:00:00.000000",
          "2019-03-30T00:00:00.000000",
          "2019-03-31T00:00:00.000000",
          "2019-04-01T00:00:00.000000",
          "2019-04-02T00:00:00.000000",
          "2019-04-03T00:00:00.000000",
          "2019-04-04T00:00:00.000000",
          "2019-04-05T00:00:00.000000",
          "2019-04-06T00:00:00.000000",
          "2019-04-07T00:00:00.000000",
          "2019-04-08T00:00:00.000000",
          "2019-04-09T00:00:00.000000",
          "2019-04-10T00:00:00.000000",
          "2019-04-11T00:00:00.000000",
          "2019-04-12T00:00:00.000000",
          "2019-04-13T00:00:00.000000",
          "2019-04-14T00:00:00.000000",
          "2019-04-15T00:00:00.000000",
          "2019-04-16T00:00:00.000000",
          "2019-04-17T00:00:00.000000",
          "2019-04-18T00:00:00.000000",
          "2019-04-19T00:00:00.000000",
          "2019-04-20T00:00:00.000000",
          "2019-04-21T00:00:00.000000",
          "2019-04-22T00:00:00.000000",
          "2019-04-23T00:00:00.000000",
          "2019-04-24T00:00:00.000000",
          "2019-04-25T00:00:00.000000",
          "2019-04-26T00:00:00.000000",
          "2019-04-27T00:00:00.000000",
          "2019-04-28T00:00:00.000000",
          "2019-04-29T00:00:00.000000",
          "2019-04-30T00:00:00.000000",
          "2019-05-01T00:00:00.000000",
          "2019-05-02T00:00:00.000000",
          "2019-05-03T00:00:00.000000",
          "2019-05-04T00:00:00.000000",
          "2019-05-05T00:00:00.000000",
          "2019-05-06T00:00:00.000000",
          "2019-05-07T00:00:00.000000",
          "2019-05-08T00:00:00.000000",
          "2019-05-09T00:00:00.000000",
          "2019-05-10T00:00:00.000000",
          "2019-05-11T00:00:00.000000",
          "2019-05-12T00:00:00.000000",
          "2019-05-13T00:00:00.000000",
          "2019-05-14T00:00:00.000000",
          "2019-05-15T00:00:00.000000",
          "2019-05-16T00:00:00.000000",
          "2019-05-17T00:00:00.000000",
          "2019-05-18T00:00:00.000000",
          "2019-05-19T00:00:00.000000",
          "2019-05-20T00:00:00.000000",
          "2019-05-21T00:00:00.000000",
          "2019-05-22T00:00:00.000000",
          "2019-05-23T00:00:00.000000",
          "2019-05-24T00:00:00.000000",
          "2019-05-25T00:00:00.000000",
          "2019-05-26T00:00:00.000000",
          "2019-05-27T00:00:00.000000",
          "2019-05-28T00:00:00.000000",
          "2019-05-29T00:00:00.000000",
          "2019-05-30T00:00:00.000000",
          "2019-05-31T00:00:00.000000",
          "2019-06-01T00:00:00.000000",
          "2019-06-02T00:00:00.000000",
          "2019-06-03T00:00:00.000000",
          "2019-06-04T00:00:00.000000",
          "2019-06-05T00:00:00.000000",
          "2019-06-06T00:00:00.000000",
          "2019-06-07T00:00:00.000000",
          "2019-06-08T00:00:00.000000",
          "2019-06-09T00:00:00.000000",
          "2019-06-10T00:00:00.000000",
          "2019-06-11T00:00:00.000000",
          "2019-06-12T00:00:00.000000",
          "2019-06-13T00:00:00.000000",
          "2019-06-14T00:00:00.000000",
          "2019-06-15T00:00:00.000000",
          "2019-06-16T00:00:00.000000",
          "2019-06-17T00:00:00.000000",
          "2019-06-18T00:00:00.000000",
          "2019-06-19T00:00:00.000000",
          "2019-06-20T00:00:00.000000",
          "2019-06-21T00:00:00.000000",
          "2019-06-22T00:00:00.000000",
          "2019-06-23T00:00:00.000000",
          "2019-06-24T00:00:00.000000",
          "2019-06-25T00:00:00.000000",
          "2019-06-26T00:00:00.000000",
          "2019-06-27T00:00:00.000000",
          "2019-06-28T00:00:00.000000",
          "2019-06-29T00:00:00.000000",
          "2019-06-30T00:00:00.000000",
          "2019-07-01T00:00:00.000000",
          "2019-07-02T00:00:00.000000",
          "2019-07-03T00:00:00.000000",
          "2019-07-04T00:00:00.000000",
          "2019-07-05T00:00:00.000000",
          "2019-07-06T00:00:00.000000",
          "2019-07-07T00:00:00.000000",
          "2019-07-08T00:00:00.000000",
          "2019-07-09T00:00:00.000000",
          "2019-07-10T00:00:00.000000",
          "2019-07-11T00:00:00.000000",
          "2019-07-12T00:00:00.000000",
          "2019-07-13T00:00:00.000000",
          "2019-07-14T00:00:00.000000",
          "2019-07-15T00:00:00.000000",
          "2019-07-16T00:00:00.000000",
          "2019-07-17T00:00:00.000000",
          "2019-07-18T00:00:00.000000",
          "2019-07-19T00:00:00.000000",
          "2019-07-20T00:00:00.000000",
          "2019-07-21T00:00:00.000000",
          "2019-07-22T00:00:00.000000",
          "2019-07-23T00:00:00.000000",
          "2019-07-24T00:00:00.000000",
          "2019-07-25T00:00:00.000000",
          "2019-07-26T00:00:00.000000",
          "2019-07-27T00:00:00.000000",
          "2019-07-28T00:00:00.000000",
          "2019-07-29T00:00:00.000000",
          "2019-07-30T00:00:00.000000",
          "2019-07-31T00:00:00.000000",
          "2019-08-01T00:00:00.000000",
          "2019-08-02T00:00:00.000000",
          "2019-08-03T00:00:00.000000",
          "2019-08-04T00:00:00.000000",
          "2019-08-05T00:00:00.000000",
          "2019-08-06T00:00:00.000000",
          "2019-08-07T00:00:00.000000",
          "2019-08-08T00:00:00.000000",
          "2019-08-09T00:00:00.000000",
          "2019-08-10T00:00:00.000000",
          "2019-08-11T00:00:00.000000",
          "2019-08-12T00:00:00.000000",
          "2019-08-13T00:00:00.000000",
          "2019-08-14T00:00:00.000000",
          "2019-08-15T00:00:00.000000",
          "2019-08-16T00:00:00.000000",
          "2019-08-17T00:00:00.000000",
          "2019-08-18T00:00:00.000000",
          "2019-08-19T00:00:00.000000",
          "2019-08-20T00:00:00.000000",
          "2019-08-21T00:00:00.000000",
          "2019-08-22T00:00:00.000000",
          "2019-08-23T00:00:00.000000",
          "2019-08-24T00:00:00.000000",
          "2019-08-25T00:00:00.000000",
          "2019-08-26T00:00:00.000000",
          "2019-08-27T00:00:00.000000",
          "2019-08-28T00:00:00.000000",
          "2019-08-29T00:00:00.000000",
          "2019-08-30T00:00:00.000000",
          "2019-08-31T00:00:00.000000",
          "2019-09-01T00:00:00.000000",
          "2019-09-02T00:00:00.000000",
          "2019-09-03T00:00:00.000000",
          "2019-09-04T00:00:00.000000",
          "2019-09-05T00:00:00.000000",
          "2019-09-06T00:00:00.000000",
          "2019-09-07T00:00:00.000000",
          "2019-09-08T00:00:00.000000",
          "2019-09-09T00:00:00.000000",
          "2019-09-10T00:00:00.000000",
          "2019-09-11T00:00:00.000000",
          "2019-09-12T00:00:00.000000",
          "2019-09-13T00:00:00.000000",
          "2019-09-14T00:00:00.000000",
          "2019-09-15T00:00:00.000000",
          "2019-09-16T00:00:00.000000",
          "2019-09-17T00:00:00.000000",
          "2019-09-18T00:00:00.000000",
          "2019-09-19T00:00:00.000000",
          "2019-09-20T00:00:00.000000",
          "2019-09-21T00:00:00.000000",
          "2019-09-22T00:00:00.000000",
          "2019-09-23T00:00:00.000000",
          "2019-09-24T00:00:00.000000",
          "2019-09-25T00:00:00.000000",
          "2019-09-26T00:00:00.000000",
          "2019-09-27T00:00:00.000000",
          "2019-09-28T00:00:00.000000",
          "2019-09-29T00:00:00.000000",
          "2019-09-30T00:00:00.000000",
          "2019-10-01T00:00:00.000000",
          "2019-10-02T00:00:00.000000",
          "2019-10-03T00:00:00.000000",
          "2019-10-04T00:00:00.000000",
          "2019-10-05T00:00:00.000000",
          "2019-10-06T00:00:00.000000",
          "2019-10-07T00:00:00.000000",
          "2019-10-08T00:00:00.000000",
          "2019-10-09T00:00:00.000000",
          "2019-10-10T00:00:00.000000",
          "2019-10-11T00:00:00.000000",
          "2019-10-12T00:00:00.000000",
          "2019-10-13T00:00:00.000000",
          "2019-10-14T00:00:00.000000",
          "2019-10-15T00:00:00.000000",
          "2019-10-16T00:00:00.000000",
          "2019-10-17T00:00:00.000000",
          "2019-10-18T00:00:00.000000",
          "2019-10-19T00:00:00.000000",
          "2019-10-20T00:00:00.000000",
          "2019-10-21T00:00:00.000000",
          "2019-10-22T00:00:00.000000",
          "2019-10-23T00:00:00.000000",
          "2019-10-24T00:00:00.000000",
          "2019-10-25T00:00:00.000000",
          "2019-10-26T00:00:00.000000",
          "2019-10-27T00:00:00.000000",
          "2019-10-28T00:00:00.000000",
          "2019-10-29T00:00:00.000000",
          "2019-10-30T00:00:00.000000",
          "2019-10-31T00:00:00.000000",
          "2019-11-01T00:00:00.000000",
          "2019-11-02T00:00:00.000000",
          "2019-11-03T00:00:00.000000",
          "2019-11-04T00:00:00.000000",
          "2019-11-05T00:00:00.000000",
          "2019-11-06T00:00:00.000000",
          "2019-11-07T00:00:00.000000",
          "2019-11-08T00:00:00.000000",
          "2019-11-09T00:00:00.000000",
          "2019-11-10T00:00:00.000000",
          "2019-11-11T00:00:00.000000",
          "2019-11-12T00:00:00.000000",
          "2019-11-13T00:00:00.000000",
          "2019-11-14T00:00:00.000000",
          "2019-11-15T00:00:00.000000",
          "2019-11-16T00:00:00.000000",
          "2019-11-17T00:00:00.000000",
          "2019-11-18T00:00:00.000000",
          "2019-11-19T00:00:00.000000",
          "2019-11-20T00:00:00.000000",
          "2019-11-21T00:00:00.000000",
          "2019-11-22T00:00:00.000000",
          "2019-11-23T00:00:00.000000",
          "2019-11-24T00:00:00.000000",
          "2019-11-25T00:00:00.000000",
          "2019-11-26T00:00:00.000000",
          "2019-11-27T00:00:00.000000",
          "2019-11-28T00:00:00.000000",
          "2019-11-29T00:00:00.000000",
          "2019-11-30T00:00:00.000000",
          "2019-12-01T00:00:00.000000",
          "2019-12-02T00:00:00.000000",
          "2019-12-03T00:00:00.000000",
          "2019-12-04T00:00:00.000000",
          "2019-12-05T00:00:00.000000",
          "2019-12-06T00:00:00.000000",
          "2019-12-07T00:00:00.000000",
          "2019-12-08T00:00:00.000000",
          "2019-12-09T00:00:00.000000",
          "2019-12-10T00:00:00.000000",
          "2019-12-11T00:00:00.000000",
          "2019-12-12T00:00:00.000000",
          "2019-12-13T00:00:00.000000",
          "2019-12-14T00:00:00.000000",
          "2019-12-15T00:00:00.000000",
          "2019-12-16T00:00:00.000000",
          "2019-12-17T00:00:00.000000",
          "2019-12-18T00:00:00.000000",
          "2019-12-19T00:00:00.000000",
          "2019-12-20T00:00:00.000000",
          "2019-12-21T00:00:00.000000",
          "2019-12-22T00:00:00.000000",
          "2019-12-23T00:00:00.000000",
          "2019-12-24T00:00:00.000000",
          "2019-12-25T00:00:00.000000",
          "2019-12-26T00:00:00.000000",
          "2019-12-27T00:00:00.000000",
          "2019-12-28T00:00:00.000000",
          "2019-12-29T00:00:00.000000",
          "2019-12-30T00:00:00.000000",
          "2019-12-31T00:00:00.000000",
          "2020-01-01T00:00:00.000000",
          "2020-01-02T00:00:00.000000",
          "2020-01-03T00:00:00.000000",
          "2020-01-04T00:00:00.000000",
          "2020-01-05T00:00:00.000000",
          "2020-01-06T00:00:00.000000",
          "2020-01-07T00:00:00.000000",
          "2020-01-08T00:00:00.000000",
          "2020-01-09T00:00:00.000000",
          "2020-01-10T00:00:00.000000",
          "2020-01-11T00:00:00.000000",
          "2020-01-12T00:00:00.000000",
          "2020-01-13T00:00:00.000000",
          "2020-01-14T00:00:00.000000",
          "2020-01-15T00:00:00.000000",
          "2020-01-16T00:00:00.000000",
          "2020-01-17T00:00:00.000000",
          "2020-01-18T00:00:00.000000",
          "2020-01-19T00:00:00.000000",
          "2020-01-20T00:00:00.000000",
          "2020-01-21T00:00:00.000000",
          "2020-01-22T00:00:00.000000",
          "2020-01-23T00:00:00.000000",
          "2020-01-24T00:00:00.000000",
          "2020-01-25T00:00:00.000000",
          "2020-01-26T00:00:00.000000",
          "2020-01-27T00:00:00.000000",
          "2020-01-28T00:00:00.000000",
          "2020-01-29T00:00:00.000000",
          "2020-01-30T00:00:00.000000",
          "2020-01-31T00:00:00.000000",
          "2020-02-01T00:00:00.000000",
          "2020-02-02T00:00:00.000000",
          "2020-02-03T00:00:00.000000",
          "2020-02-04T00:00:00.000000",
          "2020-02-05T00:00:00.000000",
          "2020-02-06T00:00:00.000000",
          "2020-02-07T00:00:00.000000",
          "2020-02-08T00:00:00.000000",
          "2020-02-09T00:00:00.000000",
          "2020-02-10T00:00:00.000000",
          "2020-02-11T00:00:00.000000",
          "2020-02-12T00:00:00.000000",
          "2020-02-13T00:00:00.000000",
          "2020-02-14T00:00:00.000000",
          "2020-02-15T00:00:00.000000",
          "2020-02-16T00:00:00.000000",
          "2020-02-17T00:00:00.000000",
          "2020-02-18T00:00:00.000000",
          "2020-02-19T00:00:00.000000",
          "2020-02-20T00:00:00.000000",
          "2020-02-21T00:00:00.000000",
          "2020-02-22T00:00:00.000000",
          "2020-02-23T00:00:00.000000",
          "2020-02-24T00:00:00.000000",
          "2020-02-25T00:00:00.000000",
          "2020-02-26T00:00:00.000000",
          "2020-02-27T00:00:00.000000",
          "2020-02-28T00:00:00.000000",
          "2020-02-29T00:00:00.000000",
          "2020-03-01T00:00:00.000000",
          "2020-03-02T00:00:00.000000",
          "2020-03-03T00:00:00.000000",
          "2020-03-04T00:00:00.000000",
          "2020-03-05T00:00:00.000000",
          "2020-03-06T00:00:00.000000",
          "2020-03-07T00:00:00.000000",
          "2020-03-08T00:00:00.000000",
          "2020-03-09T00:00:00.000000",
          "2020-03-10T00:00:00.000000",
          "2020-03-11T00:00:00.000000",
          "2020-03-12T00:00:00.000000",
          "2020-03-13T00:00:00.000000",
          "2020-03-14T00:00:00.000000",
          "2020-03-15T00:00:00.000000",
          "2020-03-16T00:00:00.000000",
          "2020-03-17T00:00:00.000000",
          "2020-03-18T00:00:00.000000",
          "2020-03-19T00:00:00.000000",
          "2020-03-20T00:00:00.000000",
          "2020-03-21T00:00:00.000000",
          "2020-03-22T00:00:00.000000",
          "2020-03-23T00:00:00.000000",
          "2020-03-24T00:00:00.000000",
          "2020-03-25T00:00:00.000000",
          "2020-03-26T00:00:00.000000",
          "2020-03-27T00:00:00.000000",
          "2020-03-28T00:00:00.000000",
          "2020-03-29T00:00:00.000000",
          "2020-03-30T00:00:00.000000",
          "2020-03-31T00:00:00.000000",
          "2020-04-01T00:00:00.000000",
          "2020-04-02T00:00:00.000000",
          "2020-04-03T00:00:00.000000",
          "2020-04-04T00:00:00.000000",
          "2020-04-05T00:00:00.000000",
          "2020-04-06T00:00:00.000000",
          "2020-04-07T00:00:00.000000",
          "2020-04-08T00:00:00.000000",
          "2020-04-09T00:00:00.000000",
          "2020-04-10T00:00:00.000000",
          "2020-04-11T00:00:00.000000",
          "2020-04-12T00:00:00.000000",
          "2020-04-13T00:00:00.000000",
          "2020-04-14T00:00:00.000000",
          "2020-04-15T00:00:00.000000",
          "2020-04-16T00:00:00.000000",
          "2020-04-17T00:00:00.000000",
          "2020-04-18T00:00:00.000000",
          "2020-04-19T00:00:00.000000",
          "2020-04-20T00:00:00.000000",
          "2020-04-21T00:00:00.000000",
          "2020-04-22T00:00:00.000000",
          "2020-04-23T00:00:00.000000",
          "2020-04-24T00:00:00.000000",
          "2020-04-25T00:00:00.000000",
          "2020-04-26T00:00:00.000000",
          "2020-04-27T00:00:00.000000",
          "2020-04-28T00:00:00.000000",
          "2020-04-29T00:00:00.000000",
          "2020-04-30T00:00:00.000000",
          "2020-05-01T00:00:00.000000",
          "2020-05-02T00:00:00.000000",
          "2020-05-03T00:00:00.000000",
          "2020-05-04T00:00:00.000000",
          "2020-05-05T00:00:00.000000",
          "2020-05-06T00:00:00.000000",
          "2020-05-07T00:00:00.000000",
          "2020-05-08T00:00:00.000000",
          "2020-05-09T00:00:00.000000",
          "2020-05-10T00:00:00.000000",
          "2020-05-11T00:00:00.000000",
          "2020-05-12T00:00:00.000000",
          "2020-05-13T00:00:00.000000",
          "2020-05-14T00:00:00.000000",
          "2020-05-15T00:00:00.000000",
          "2020-05-16T00:00:00.000000",
          "2020-05-17T00:00:00.000000",
          "2020-05-18T00:00:00.000000",
          "2020-05-19T00:00:00.000000",
          "2020-05-20T00:00:00.000000",
          "2020-05-21T00:00:00.000000",
          "2020-05-22T00:00:00.000000",
          "2020-05-23T00:00:00.000000",
          "2020-05-24T00:00:00.000000",
          "2020-05-25T00:00:00.000000",
          "2020-05-26T00:00:00.000000",
          "2020-05-27T00:00:00.000000",
          "2020-05-28T00:00:00.000000",
          "2020-05-29T00:00:00.000000",
          "2020-05-30T00:00:00.000000",
          "2020-05-31T00:00:00.000000",
          "2020-06-01T00:00:00.000000",
          "2020-06-02T00:00:00.000000",
          "2020-06-03T00:00:00.000000",
          "2020-06-04T00:00:00.000000",
          "2020-06-05T00:00:00.000000",
          "2020-06-06T00:00:00.000000",
          "2020-06-07T00:00:00.000000",
          "2020-06-08T00:00:00.000000",
          "2020-06-09T00:00:00.000000",
          "2020-06-10T00:00:00.000000",
          "2020-06-11T00:00:00.000000",
          "2020-06-12T00:00:00.000000",
          "2020-06-13T00:00:00.000000",
          "2020-06-14T00:00:00.000000",
          "2020-06-15T00:00:00.000000",
          "2020-06-16T00:00:00.000000",
          "2020-06-17T00:00:00.000000",
          "2020-06-18T00:00:00.000000",
          "2020-06-19T00:00:00.000000",
          "2020-06-20T00:00:00.000000",
          "2020-06-21T00:00:00.000000",
          "2020-06-22T00:00:00.000000",
          "2020-06-23T00:00:00.000000",
          "2020-06-24T00:00:00.000000",
          "2020-06-25T00:00:00.000000",
          "2020-06-26T00:00:00.000000",
          "2020-06-27T00:00:00.000000",
          "2020-06-28T00:00:00.000000",
          "2020-06-29T00:00:00.000000",
          "2020-06-30T00:00:00.000000",
          "2020-07-01T00:00:00.000000",
          "2020-07-02T00:00:00.000000",
          "2020-07-03T00:00:00.000000",
          "2020-07-04T00:00:00.000000",
          "2020-07-05T00:00:00.000000",
          "2020-07-06T00:00:00.000000",
          "2020-07-07T00:00:00.000000",
          "2020-07-08T00:00:00.000000",
          "2020-07-09T00:00:00.000000",
          "2020-07-10T00:00:00.000000",
          "2020-07-11T00:00:00.000000",
          "2020-07-12T00:00:00.000000",
          "2020-07-13T00:00:00.000000",
          "2020-07-14T00:00:00.000000",
          "2020-07-15T00:00:00.000000",
          "2020-07-16T00:00:00.000000",
          "2020-07-17T00:00:00.000000",
          "2020-07-18T00:00:00.000000",
          "2020-07-19T00:00:00.000000",
          "2020-07-20T00:00:00.000000",
          "2020-07-21T00:00:00.000000",
          "2020-07-22T00:00:00.000000",
          "2020-07-23T00:00:00.000000",
          "2020-07-24T00:00:00.000000",
          "2020-07-25T00:00:00.000000",
          "2020-07-26T00:00:00.000000",
          "2020-07-27T00:00:00.000000",
          "2020-07-28T00:00:00.000000",
          "2020-07-29T00:00:00.000000",
          "2020-07-30T00:00:00.000000",
          "2020-07-31T00:00:00.000000",
          "2020-08-01T00:00:00.000000",
          "2020-08-02T00:00:00.000000",
          "2020-08-03T00:00:00.000000",
          "2020-08-04T00:00:00.000000",
          "2020-08-05T00:00:00.000000",
          "2020-08-06T00:00:00.000000",
          "2020-08-07T00:00:00.000000",
          "2020-08-08T00:00:00.000000",
          "2020-08-09T00:00:00.000000",
          "2020-08-10T00:00:00.000000",
          "2020-08-11T00:00:00.000000",
          "2020-08-12T00:00:00.000000",
          "2020-08-13T00:00:00.000000",
          "2020-08-14T00:00:00.000000",
          "2020-08-15T00:00:00.000000",
          "2020-08-16T00:00:00.000000",
          "2020-08-17T00:00:00.000000",
          "2020-08-18T00:00:00.000000",
          "2020-08-19T00:00:00.000000",
          "2020-08-20T00:00:00.000000",
          "2020-08-21T00:00:00.000000",
          "2020-08-22T00:00:00.000000",
          "2020-08-23T00:00:00.000000",
          "2020-08-24T00:00:00.000000",
          "2020-08-25T00:00:00.000000",
          "2020-08-26T00:00:00.000000",
          "2020-08-27T00:00:00.000000",
          "2020-08-28T00:00:00.000000",
          "2020-08-29T00:00:00.000000",
          "2020-08-30T00:00:00.000000",
          "2020-08-31T00:00:00.000000",
          "2020-09-01T00:00:00.000000",
          "2020-09-02T00:00:00.000000",
          "2020-09-03T00:00:00.000000",
          "2020-09-04T00:00:00.000000",
          "2020-09-05T00:00:00.000000",
          "2020-09-06T00:00:00.000000",
          "2020-09-07T00:00:00.000000",
          "2020-09-08T00:00:00.000000",
          "2020-09-09T00:00:00.000000",
          "2020-09-10T00:00:00.000000",
          "2020-09-11T00:00:00.000000",
          "2020-09-12T00:00:00.000000",
          "2020-09-13T00:00:00.000000",
          "2020-09-14T00:00:00.000000",
          "2020-09-15T00:00:00.000000",
          "2020-09-16T00:00:00.000000",
          "2020-09-17T00:00:00.000000",
          "2020-09-18T00:00:00.000000",
          "2020-09-19T00:00:00.000000",
          "2020-09-20T00:00:00.000000",
          "2020-09-21T00:00:00.000000",
          "2020-09-22T00:00:00.000000",
          "2020-09-23T00:00:00.000000",
          "2020-09-24T00:00:00.000000",
          "2020-09-25T00:00:00.000000",
          "2020-09-26T00:00:00.000000"
         ],
         "xaxis": "x",
         "yaxis": "y2"
        },
        {
         "marker": {
          "color": [
           "red",
           "red",
           "red",
           "green",
           "green",
           "red",
           "red",
           "green",
           "red",
           "red",
           "red",
           "green",
           "green",
           "red",
           "green",
           "green",
           "green",
           "red",
           "red",
           "green",
           "green",
           "red",
           "red",
           "red",
           "red",
           "red",
           "green",
           "red",
           "green",
           "green",
           "green",
           "red",
           "green",
           "green",
           "red",
           "green",
           "red",
           "green",
           "red",
           "green",
           "red",
           "red",
           "green",
           "green",
           "red",
           "green",
           "red",
           "green",
           "red",
           "green",
           "red",
           "red",
           "red",
           "red",
           "green",
           "red",
           "green",
           "red",
           "green",
           "green",
           "green",
           "green",
           "red",
           "green",
           "red",
           "green",
           "red",
           "red",
           "red",
           "green",
           "red",
           "green",
           "red",
           "red",
           "red",
           "green",
           "red",
           "red",
           "red",
           "green",
           "red",
           "green",
           "red",
           "green",
           "green",
           "red",
           "green",
           "green",
           "red",
           "red",
           "red",
           "green",
           "green",
           "green",
           "green",
           "red",
           "green",
           "red",
           "red",
           "green",
           "green",
           "green",
           "red",
           "green",
           "green",
           "red",
           "red",
           "red",
           "red",
           "red",
           "red",
           "red",
           "green",
           "red",
           "red",
           "green",
           "green",
           "red",
           "red",
           "red",
           "red",
           "red",
           "red",
           "red",
           "green",
           "green",
           "red",
           "red",
           "green",
           "red",
           "green",
           "red",
           "red",
           "green",
           "red",
           "red",
           "green",
           "green",
           "red",
           "green",
           "green",
           "green",
           "red",
           "green",
           "red",
           "red",
           "green",
           "green",
           "green",
           "green",
           "red",
           "green",
           "green",
           "red",
           "red",
           "green",
           "red",
           "green",
           "red",
           "green",
           "red",
           "red",
           "red",
           "red",
           "red",
           "green",
           "red",
           "red",
           "green",
           "green",
           "red",
           "green",
           "red",
           "green",
           "red",
           "red",
           "green",
           "green",
           "red",
           "red",
           "green",
           "green",
           "green",
           "green",
           "red",
           "red",
           "green",
           "green",
           "green",
           "green",
           "green",
           "green",
           "green",
           "red",
           "green",
           "red",
           "green",
           "green",
           "red",
           "green",
           "green",
           "red",
           "green",
           "red",
           "red",
           "red",
           "red",
           "green",
           "green",
           "red",
           "red",
           "red",
           "green",
           "red",
           "green",
           "red",
           "green",
           "red",
           "red",
           "green",
           "green",
           "green",
           "green",
           "red",
           "red",
           "green",
           "red",
           "green",
           "green",
           "green",
           "red",
           "green",
           "red",
           "red",
           "green",
           "red",
           "red",
           "green",
           "green",
           "red",
           "green",
           "red",
           "red",
           "red",
           "green",
           "green",
           "green",
           "red",
           "red",
           "green",
           "red",
           "green",
           "red",
           "green",
           "green",
           "green",
           "red",
           "green",
           "red",
           "green",
           "red",
           "red",
           "green",
           "green",
           "green",
           "red",
           "red",
           "green",
           "red",
           "green",
           "green",
           "red",
           "red",
           "green",
           "green",
           "red",
           "red",
           "green",
           "green",
           "green",
           "red",
           "green",
           "green",
           "green",
           "green",
           "green",
           "green",
           "red",
           "red",
           "red",
           "red",
           "green",
           "green",
           "green",
           "green",
           "green",
           "green",
           "green",
           "red",
           "green",
           "red",
           "red",
           "green",
           "green",
           "green",
           "green",
           "red",
           "red",
           "red",
           "red",
           "red",
           "green",
           "red",
           "red",
           "red",
           "red",
           "red",
           "green",
           "green",
           "green",
           "red",
           "red",
           "red",
           "green",
           "green",
           "red",
           "green",
           "red",
           "green",
           "green",
           "red",
           "green",
           "green",
           "green",
           "red",
           "red",
           "green",
           "green",
           "red",
           "green",
           "green",
           "red",
           "green",
           "green",
           "red",
           "green",
           "red",
           "red",
           "green",
           "green",
           "red",
           "red",
           "green",
           "red",
           "green",
           "red",
           "red",
           "green",
           "green",
           "red",
           "red",
           "red",
           "green",
           "red",
           "green",
           "red",
           "red",
           "red",
           "green",
           "red",
           "red",
           "green",
           "green",
           "green",
           "green",
           "green",
           "green",
           "red",
           "red",
           "red",
           "red",
           "green",
           "green",
           "red",
           "green",
           "red",
           "red",
           "green",
           "green",
           "red",
           "red",
           "green",
           "green",
           "red",
           "green",
           "green",
           "green",
           "green",
           "red",
           "green",
           "red",
           "red",
           "green",
           "red",
           "green",
           "red",
           "red",
           "green",
           "green",
           "green",
           "red",
           "green",
           "red",
           "red",
           "red",
           "red",
           "red",
           "red",
           "red",
           "red",
           "red",
           "green",
           "green",
           "green",
           "green",
           "green",
           "red",
           "green",
           "red",
           "red",
           "red",
           "green",
           "red",
           "red",
           "red",
           "green",
           "green",
           "green",
           "red",
           "red",
           "green",
           "green",
           "red",
           "red",
           "green",
           "red",
           "red",
           "red",
           "red",
           "green",
           "green",
           "red",
           "red",
           "red",
           "green",
           "green",
           "green",
           "red",
           "red",
           "red",
           "green",
           "red",
           "red",
           "red",
           "green",
           "red",
           "green",
           "red",
           "green",
           "red",
           "red",
           "red",
           "red",
           "green",
           "red",
           "red",
           "red",
           "green",
           "green",
           "red",
           "red",
           "green",
           "green",
           "red",
           "green",
           "red",
           "red",
           "red",
           "green",
           "red",
           "green",
           "red",
           "red",
           "green",
           "green",
           "red",
           "green",
           "red",
           "red",
           "green",
           "red",
           "red",
           "red",
           "red",
           "green",
           "green",
           "red",
           "red",
           "green",
           "red",
           "green",
           "red",
           "green",
           "red",
           "green",
           "red",
           "green",
           "green",
           "red",
           "green",
           "green",
           "green",
           "red",
           "red",
           "green",
           "green",
           "green",
           "green",
           "red",
           "red",
           "red",
           "red",
           "green",
           "red",
           "green",
           "red",
           "green",
           "red",
           "red",
           "green",
           "green",
           "red",
           "red",
           "red",
           "red",
           "red",
           "red",
           "green",
           "green",
           "green",
           "green",
           "red",
           "red",
           "green",
           "green",
           "red",
           "red",
           "red",
           "red",
           "red",
           "red",
           "red",
           "red",
           "red",
           "green",
           "green",
           "green",
           "green",
           "green",
           "green",
           "red",
           "green",
           "red",
           "green",
           "green",
           "green",
           "red",
           "red",
           "green",
           "red",
           "green",
           "green",
           "green",
           "green",
           "red",
           "red",
           "red",
           "red",
           "green",
           "red",
           "green",
           "green",
           "red",
           "green",
           "green",
           "red",
           "green",
           "red",
           "green",
           "green",
           "red",
           "red",
           "red",
           "green",
           "green",
           "red",
           "red",
           "green",
           "red",
           "red",
           "red",
           "red",
           "red",
           "green",
           "red",
           "red",
           "red",
           "red",
           "red",
           "green",
           "green",
           "green",
           "green",
           "green",
           "green",
           "red",
           "green",
           "green",
           "red",
           "red",
           "green",
           "red",
           "red",
           "red",
           "red",
           "red",
           "green",
           "red",
           "red",
           "red",
           "green",
           "red",
           "red",
           "green",
           "green",
           "red",
           "green",
           "red",
           "red",
           "red",
           "green",
           "red",
           "red",
           "red",
           "red",
           "green",
           "red",
           "red",
           "red",
           "red",
           "green",
           "red",
           "red",
           "green",
           "red",
           "green",
           "green",
           "red",
           "green",
           "red",
           "green",
           "red",
           "green",
           "red",
           "green",
           "green",
           "green",
           "red",
           "red",
           "red",
           "green",
           "red",
           "red",
           "green",
           "red",
           "red",
           "red",
           "red",
           "green",
           "green",
           "red",
           "red",
           "red",
           "green",
           "red",
           "green",
           "green",
           "green",
           "green",
           "green",
           "green",
           "green",
           "red",
           "red",
           "green",
           "green",
           "green",
           "green",
           "red",
           "green",
           "green",
           "red",
           "green",
           "green",
           "green",
           "red",
           "green",
           "red",
           "green",
           "green",
           "green",
           "red",
           "green",
           "green",
           "green",
           "red",
           "green",
           "red",
           "red",
           "green",
           "red",
           "green",
           "green",
           "red",
           "green",
           "red",
           "red",
           "red",
           "green",
           "green",
           "red",
           "red",
           "red",
           "red",
           "green",
           "red",
           "green",
           "green",
           "red",
           "green",
           "green",
           "green",
           "green",
           "red",
           "green",
           "green",
           "red",
           "green",
           "red",
           "green",
           "green",
           "green",
           "red",
           "red",
           "green",
           "red",
           "green",
           "red",
           "green",
           "green",
           "red",
           "green",
           "red",
           "red",
           "green",
           "green",
           "green",
           "green",
           "red",
           "green",
           "red",
           "red",
           "green",
           "green",
           "red",
           "green",
           "green",
           "green",
           "red",
           "green",
           "green",
           "green",
           "red",
           "green",
           "green",
           "red",
           "green",
           "green",
           "red",
           "green",
           "red",
           "green",
           "red",
           "red",
           "red",
           "red",
           "green",
           "green",
           "red",
           "red",
           "red",
           "green",
           "green",
           "green",
           "green",
           "red",
           "red",
           "red",
           "green",
           "green",
           "green",
           "green",
           "red",
           "green",
           "red",
           "red",
           "green",
           "red",
           "red",
           "red",
           "red",
           "red",
           "red",
           "red",
           "red",
           "red",
           "green",
           "green",
           "red",
           "green",
           "red",
           "green",
           "green",
           "green",
           "green",
           "red",
           "green",
           "red",
           "green",
           "green",
           "green",
           "red",
           "red",
           "green",
           "red",
           "red",
           "red",
           "red",
           "red",
           "green",
           "red",
           "red",
           "red",
           "red",
           "red",
           "green",
           "red",
           "green",
           "red",
           "green",
           "green",
           "green",
           "red",
           "green",
           "green",
           "red",
           "red",
           "green",
           "red",
           "green",
           "red",
           "red",
           "red",
           "green",
           "red",
           "green",
           "green",
           "green",
           "red",
           "green",
           "red",
           "green",
           "red",
           "red",
           "green",
           "red",
           "red",
           "green",
           "green",
           "red",
           "red",
           "red",
           "red",
           "green",
           "red",
           "green",
           "green",
           "red",
           "green",
           "green",
           "red",
           "green",
           "green",
           "green",
           "green",
           "red",
           "green",
           "red",
           "green",
           "red",
           "red",
           "green",
           "red",
           "green",
           "red",
           "red",
           "red",
           "red",
           "red",
           "green",
           "green",
           "green",
           "green",
           "red",
           "green",
           "red",
           "red",
           "red",
           "red",
           "red",
           "red",
           "red",
           "red",
           "green",
           "red",
           "green",
           "red",
           "red",
           "red",
           "green",
           "red",
           "green",
           "green",
           "red",
           "green",
           "green",
           "red",
           "green",
           "green",
           "red",
           "red",
           "green",
           "green",
           "red",
           "red",
           "red",
           "red",
           "red",
           "red",
           "red",
           "red",
           "red",
           "green",
           "green",
           "green",
           "green",
           "red",
           "red",
           "red",
           "red",
           "green",
           "red",
           "green",
           "red",
           "green",
           "red",
           "green",
           "red",
           "green",
           "red",
           "green",
           "green",
           "red",
           "green",
           "green",
           "green",
           "green",
           "red",
           "red",
           "green"
          ],
          "line": {
           "width": 0
          }
         },
         "name": "Volume",
         "type": "bar",
         "uid": "325b5265-3912-4f8e-8e35-0365b28d4806",
         "x": [
          "2018-01-01T00:00:00.000000",
          "2018-01-02T00:00:00.000000",
          "2018-01-03T00:00:00.000000",
          "2018-01-04T00:00:00.000000",
          "2018-01-05T00:00:00.000000",
          "2018-01-06T00:00:00.000000",
          "2018-01-07T00:00:00.000000",
          "2018-01-08T00:00:00.000000",
          "2018-01-09T00:00:00.000000",
          "2018-01-10T00:00:00.000000",
          "2018-01-11T00:00:00.000000",
          "2018-01-12T00:00:00.000000",
          "2018-01-13T00:00:00.000000",
          "2018-01-14T00:00:00.000000",
          "2018-01-15T00:00:00.000000",
          "2018-01-16T00:00:00.000000",
          "2018-01-17T00:00:00.000000",
          "2018-01-18T00:00:00.000000",
          "2018-01-19T00:00:00.000000",
          "2018-01-20T00:00:00.000000",
          "2018-01-21T00:00:00.000000",
          "2018-01-22T00:00:00.000000",
          "2018-01-23T00:00:00.000000",
          "2018-01-24T00:00:00.000000",
          "2018-01-25T00:00:00.000000",
          "2018-01-26T00:00:00.000000",
          "2018-01-27T00:00:00.000000",
          "2018-01-28T00:00:00.000000",
          "2018-01-29T00:00:00.000000",
          "2018-01-30T00:00:00.000000",
          "2018-01-31T00:00:00.000000",
          "2018-02-01T00:00:00.000000",
          "2018-02-02T00:00:00.000000",
          "2018-02-03T00:00:00.000000",
          "2018-02-04T00:00:00.000000",
          "2018-02-05T00:00:00.000000",
          "2018-02-06T00:00:00.000000",
          "2018-02-07T00:00:00.000000",
          "2018-02-08T00:00:00.000000",
          "2018-02-09T00:00:00.000000",
          "2018-02-10T00:00:00.000000",
          "2018-02-11T00:00:00.000000",
          "2018-02-12T00:00:00.000000",
          "2018-02-13T00:00:00.000000",
          "2018-02-14T00:00:00.000000",
          "2018-02-15T00:00:00.000000",
          "2018-02-16T00:00:00.000000",
          "2018-02-17T00:00:00.000000",
          "2018-02-18T00:00:00.000000",
          "2018-02-19T00:00:00.000000",
          "2018-02-20T00:00:00.000000",
          "2018-02-21T00:00:00.000000",
          "2018-02-22T00:00:00.000000",
          "2018-02-23T00:00:00.000000",
          "2018-02-24T00:00:00.000000",
          "2018-02-25T00:00:00.000000",
          "2018-02-26T00:00:00.000000",
          "2018-02-27T00:00:00.000000",
          "2018-02-28T00:00:00.000000",
          "2018-03-01T00:00:00.000000",
          "2018-03-02T00:00:00.000000",
          "2018-03-03T00:00:00.000000",
          "2018-03-04T00:00:00.000000",
          "2018-03-05T00:00:00.000000",
          "2018-03-06T00:00:00.000000",
          "2018-03-07T00:00:00.000000",
          "2018-03-08T00:00:00.000000",
          "2018-03-09T00:00:00.000000",
          "2018-03-10T00:00:00.000000",
          "2018-03-11T00:00:00.000000",
          "2018-03-12T00:00:00.000000",
          "2018-03-13T00:00:00.000000",
          "2018-03-14T00:00:00.000000",
          "2018-03-15T00:00:00.000000",
          "2018-03-16T00:00:00.000000",
          "2018-03-17T00:00:00.000000",
          "2018-03-18T00:00:00.000000",
          "2018-03-19T00:00:00.000000",
          "2018-03-20T00:00:00.000000",
          "2018-03-21T00:00:00.000000",
          "2018-03-22T00:00:00.000000",
          "2018-03-23T00:00:00.000000",
          "2018-03-24T00:00:00.000000",
          "2018-03-25T00:00:00.000000",
          "2018-03-26T00:00:00.000000",
          "2018-03-27T00:00:00.000000",
          "2018-03-28T00:00:00.000000",
          "2018-03-29T00:00:00.000000",
          "2018-03-30T00:00:00.000000",
          "2018-03-31T00:00:00.000000",
          "2018-04-01T00:00:00.000000",
          "2018-04-02T00:00:00.000000",
          "2018-04-03T00:00:00.000000",
          "2018-04-04T00:00:00.000000",
          "2018-04-05T00:00:00.000000",
          "2018-04-06T00:00:00.000000",
          "2018-04-07T00:00:00.000000",
          "2018-04-08T00:00:00.000000",
          "2018-04-09T00:00:00.000000",
          "2018-04-10T00:00:00.000000",
          "2018-04-11T00:00:00.000000",
          "2018-04-12T00:00:00.000000",
          "2018-04-13T00:00:00.000000",
          "2018-04-14T00:00:00.000000",
          "2018-04-15T00:00:00.000000",
          "2018-04-16T00:00:00.000000",
          "2018-04-17T00:00:00.000000",
          "2018-04-18T00:00:00.000000",
          "2018-04-19T00:00:00.000000",
          "2018-04-20T00:00:00.000000",
          "2018-04-21T00:00:00.000000",
          "2018-04-22T00:00:00.000000",
          "2018-04-23T00:00:00.000000",
          "2018-04-24T00:00:00.000000",
          "2018-04-25T00:00:00.000000",
          "2018-04-26T00:00:00.000000",
          "2018-04-27T00:00:00.000000",
          "2018-04-28T00:00:00.000000",
          "2018-04-29T00:00:00.000000",
          "2018-04-30T00:00:00.000000",
          "2018-05-01T00:00:00.000000",
          "2018-05-02T00:00:00.000000",
          "2018-05-03T00:00:00.000000",
          "2018-05-04T00:00:00.000000",
          "2018-05-05T00:00:00.000000",
          "2018-05-06T00:00:00.000000",
          "2018-05-07T00:00:00.000000",
          "2018-05-08T00:00:00.000000",
          "2018-05-09T00:00:00.000000",
          "2018-05-10T00:00:00.000000",
          "2018-05-11T00:00:00.000000",
          "2018-05-12T00:00:00.000000",
          "2018-05-13T00:00:00.000000",
          "2018-05-14T00:00:00.000000",
          "2018-05-15T00:00:00.000000",
          "2018-05-16T00:00:00.000000",
          "2018-05-17T00:00:00.000000",
          "2018-05-18T00:00:00.000000",
          "2018-05-19T00:00:00.000000",
          "2018-05-20T00:00:00.000000",
          "2018-05-21T00:00:00.000000",
          "2018-05-22T00:00:00.000000",
          "2018-05-23T00:00:00.000000",
          "2018-05-24T00:00:00.000000",
          "2018-05-25T00:00:00.000000",
          "2018-05-26T00:00:00.000000",
          "2018-05-27T00:00:00.000000",
          "2018-05-28T00:00:00.000000",
          "2018-05-29T00:00:00.000000",
          "2018-05-30T00:00:00.000000",
          "2018-05-31T00:00:00.000000",
          "2018-06-01T00:00:00.000000",
          "2018-06-02T00:00:00.000000",
          "2018-06-03T00:00:00.000000",
          "2018-06-04T00:00:00.000000",
          "2018-06-05T00:00:00.000000",
          "2018-06-06T00:00:00.000000",
          "2018-06-07T00:00:00.000000",
          "2018-06-08T00:00:00.000000",
          "2018-06-09T00:00:00.000000",
          "2018-06-10T00:00:00.000000",
          "2018-06-11T00:00:00.000000",
          "2018-06-12T00:00:00.000000",
          "2018-06-13T00:00:00.000000",
          "2018-06-14T00:00:00.000000",
          "2018-06-15T00:00:00.000000",
          "2018-06-16T00:00:00.000000",
          "2018-06-17T00:00:00.000000",
          "2018-06-18T00:00:00.000000",
          "2018-06-19T00:00:00.000000",
          "2018-06-20T00:00:00.000000",
          "2018-06-21T00:00:00.000000",
          "2018-06-22T00:00:00.000000",
          "2018-06-23T00:00:00.000000",
          "2018-06-24T00:00:00.000000",
          "2018-06-25T00:00:00.000000",
          "2018-06-26T00:00:00.000000",
          "2018-06-27T00:00:00.000000",
          "2018-06-28T00:00:00.000000",
          "2018-06-29T00:00:00.000000",
          "2018-06-30T00:00:00.000000",
          "2018-07-01T00:00:00.000000",
          "2018-07-02T00:00:00.000000",
          "2018-07-03T00:00:00.000000",
          "2018-07-04T00:00:00.000000",
          "2018-07-05T00:00:00.000000",
          "2018-07-06T00:00:00.000000",
          "2018-07-07T00:00:00.000000",
          "2018-07-08T00:00:00.000000",
          "2018-07-09T00:00:00.000000",
          "2018-07-10T00:00:00.000000",
          "2018-07-11T00:00:00.000000",
          "2018-07-12T00:00:00.000000",
          "2018-07-13T00:00:00.000000",
          "2018-07-14T00:00:00.000000",
          "2018-07-15T00:00:00.000000",
          "2018-07-16T00:00:00.000000",
          "2018-07-17T00:00:00.000000",
          "2018-07-18T00:00:00.000000",
          "2018-07-19T00:00:00.000000",
          "2018-07-20T00:00:00.000000",
          "2018-07-21T00:00:00.000000",
          "2018-07-22T00:00:00.000000",
          "2018-07-23T00:00:00.000000",
          "2018-07-24T00:00:00.000000",
          "2018-07-25T00:00:00.000000",
          "2018-07-26T00:00:00.000000",
          "2018-07-27T00:00:00.000000",
          "2018-07-28T00:00:00.000000",
          "2018-07-29T00:00:00.000000",
          "2018-07-30T00:00:00.000000",
          "2018-07-31T00:00:00.000000",
          "2018-08-01T00:00:00.000000",
          "2018-08-02T00:00:00.000000",
          "2018-08-03T00:00:00.000000",
          "2018-08-04T00:00:00.000000",
          "2018-08-05T00:00:00.000000",
          "2018-08-06T00:00:00.000000",
          "2018-08-07T00:00:00.000000",
          "2018-08-08T00:00:00.000000",
          "2018-08-09T00:00:00.000000",
          "2018-08-10T00:00:00.000000",
          "2018-08-11T00:00:00.000000",
          "2018-08-12T00:00:00.000000",
          "2018-08-13T00:00:00.000000",
          "2018-08-14T00:00:00.000000",
          "2018-08-15T00:00:00.000000",
          "2018-08-16T00:00:00.000000",
          "2018-08-17T00:00:00.000000",
          "2018-08-18T00:00:00.000000",
          "2018-08-19T00:00:00.000000",
          "2018-08-20T00:00:00.000000",
          "2018-08-21T00:00:00.000000",
          "2018-08-22T00:00:00.000000",
          "2018-08-23T00:00:00.000000",
          "2018-08-24T00:00:00.000000",
          "2018-08-25T00:00:00.000000",
          "2018-08-26T00:00:00.000000",
          "2018-08-27T00:00:00.000000",
          "2018-08-28T00:00:00.000000",
          "2018-08-29T00:00:00.000000",
          "2018-08-30T00:00:00.000000",
          "2018-08-31T00:00:00.000000",
          "2018-09-01T00:00:00.000000",
          "2018-09-02T00:00:00.000000",
          "2018-09-03T00:00:00.000000",
          "2018-09-04T00:00:00.000000",
          "2018-09-05T00:00:00.000000",
          "2018-09-06T00:00:00.000000",
          "2018-09-07T00:00:00.000000",
          "2018-09-08T00:00:00.000000",
          "2018-09-09T00:00:00.000000",
          "2018-09-10T00:00:00.000000",
          "2018-09-11T00:00:00.000000",
          "2018-09-12T00:00:00.000000",
          "2018-09-13T00:00:00.000000",
          "2018-09-14T00:00:00.000000",
          "2018-09-15T00:00:00.000000",
          "2018-09-16T00:00:00.000000",
          "2018-09-17T00:00:00.000000",
          "2018-09-18T00:00:00.000000",
          "2018-09-19T00:00:00.000000",
          "2018-09-20T00:00:00.000000",
          "2018-09-21T00:00:00.000000",
          "2018-09-22T00:00:00.000000",
          "2018-09-23T00:00:00.000000",
          "2018-09-24T00:00:00.000000",
          "2018-09-25T00:00:00.000000",
          "2018-09-26T00:00:00.000000",
          "2018-09-27T00:00:00.000000",
          "2018-09-28T00:00:00.000000",
          "2018-09-29T00:00:00.000000",
          "2018-09-30T00:00:00.000000",
          "2018-10-01T00:00:00.000000",
          "2018-10-02T00:00:00.000000",
          "2018-10-03T00:00:00.000000",
          "2018-10-04T00:00:00.000000",
          "2018-10-05T00:00:00.000000",
          "2018-10-06T00:00:00.000000",
          "2018-10-07T00:00:00.000000",
          "2018-10-08T00:00:00.000000",
          "2018-10-09T00:00:00.000000",
          "2018-10-10T00:00:00.000000",
          "2018-10-11T00:00:00.000000",
          "2018-10-12T00:00:00.000000",
          "2018-10-13T00:00:00.000000",
          "2018-10-14T00:00:00.000000",
          "2018-10-15T00:00:00.000000",
          "2018-10-16T00:00:00.000000",
          "2018-10-17T00:00:00.000000",
          "2018-10-18T00:00:00.000000",
          "2018-10-19T00:00:00.000000",
          "2018-10-20T00:00:00.000000",
          "2018-10-21T00:00:00.000000",
          "2018-10-22T00:00:00.000000",
          "2018-10-23T00:00:00.000000",
          "2018-10-24T00:00:00.000000",
          "2018-10-25T00:00:00.000000",
          "2018-10-26T00:00:00.000000",
          "2018-10-27T00:00:00.000000",
          "2018-10-28T00:00:00.000000",
          "2018-10-29T00:00:00.000000",
          "2018-10-30T00:00:00.000000",
          "2018-10-31T00:00:00.000000",
          "2018-11-01T00:00:00.000000",
          "2018-11-02T00:00:00.000000",
          "2018-11-03T00:00:00.000000",
          "2018-11-04T00:00:00.000000",
          "2018-11-05T00:00:00.000000",
          "2018-11-06T00:00:00.000000",
          "2018-11-07T00:00:00.000000",
          "2018-11-08T00:00:00.000000",
          "2018-11-09T00:00:00.000000",
          "2018-11-10T00:00:00.000000",
          "2018-11-11T00:00:00.000000",
          "2018-11-12T00:00:00.000000",
          "2018-11-13T00:00:00.000000",
          "2018-11-14T00:00:00.000000",
          "2018-11-15T00:00:00.000000",
          "2018-11-16T00:00:00.000000",
          "2018-11-17T00:00:00.000000",
          "2018-11-18T00:00:00.000000",
          "2018-11-19T00:00:00.000000",
          "2018-11-20T00:00:00.000000",
          "2018-11-21T00:00:00.000000",
          "2018-11-22T00:00:00.000000",
          "2018-11-23T00:00:00.000000",
          "2018-11-24T00:00:00.000000",
          "2018-11-25T00:00:00.000000",
          "2018-11-26T00:00:00.000000",
          "2018-11-27T00:00:00.000000",
          "2018-11-28T00:00:00.000000",
          "2018-11-29T00:00:00.000000",
          "2018-11-30T00:00:00.000000",
          "2018-12-01T00:00:00.000000",
          "2018-12-02T00:00:00.000000",
          "2018-12-03T00:00:00.000000",
          "2018-12-04T00:00:00.000000",
          "2018-12-05T00:00:00.000000",
          "2018-12-06T00:00:00.000000",
          "2018-12-07T00:00:00.000000",
          "2018-12-08T00:00:00.000000",
          "2018-12-09T00:00:00.000000",
          "2018-12-10T00:00:00.000000",
          "2018-12-11T00:00:00.000000",
          "2018-12-12T00:00:00.000000",
          "2018-12-13T00:00:00.000000",
          "2018-12-14T00:00:00.000000",
          "2018-12-15T00:00:00.000000",
          "2018-12-16T00:00:00.000000",
          "2018-12-17T00:00:00.000000",
          "2018-12-18T00:00:00.000000",
          "2018-12-19T00:00:00.000000",
          "2018-12-20T00:00:00.000000",
          "2018-12-21T00:00:00.000000",
          "2018-12-22T00:00:00.000000",
          "2018-12-23T00:00:00.000000",
          "2018-12-24T00:00:00.000000",
          "2018-12-25T00:00:00.000000",
          "2018-12-26T00:00:00.000000",
          "2018-12-27T00:00:00.000000",
          "2018-12-28T00:00:00.000000",
          "2018-12-29T00:00:00.000000",
          "2018-12-30T00:00:00.000000",
          "2018-12-31T00:00:00.000000",
          "2019-01-01T00:00:00.000000",
          "2019-01-02T00:00:00.000000",
          "2019-01-03T00:00:00.000000",
          "2019-01-04T00:00:00.000000",
          "2019-01-05T00:00:00.000000",
          "2019-01-06T00:00:00.000000",
          "2019-01-07T00:00:00.000000",
          "2019-01-08T00:00:00.000000",
          "2019-01-09T00:00:00.000000",
          "2019-01-10T00:00:00.000000",
          "2019-01-11T00:00:00.000000",
          "2019-01-12T00:00:00.000000",
          "2019-01-13T00:00:00.000000",
          "2019-01-14T00:00:00.000000",
          "2019-01-15T00:00:00.000000",
          "2019-01-16T00:00:00.000000",
          "2019-01-17T00:00:00.000000",
          "2019-01-18T00:00:00.000000",
          "2019-01-19T00:00:00.000000",
          "2019-01-20T00:00:00.000000",
          "2019-01-21T00:00:00.000000",
          "2019-01-22T00:00:00.000000",
          "2019-01-23T00:00:00.000000",
          "2019-01-24T00:00:00.000000",
          "2019-01-25T00:00:00.000000",
          "2019-01-26T00:00:00.000000",
          "2019-01-27T00:00:00.000000",
          "2019-01-28T00:00:00.000000",
          "2019-01-29T00:00:00.000000",
          "2019-01-30T00:00:00.000000",
          "2019-01-31T00:00:00.000000",
          "2019-02-01T00:00:00.000000",
          "2019-02-02T00:00:00.000000",
          "2019-02-03T00:00:00.000000",
          "2019-02-04T00:00:00.000000",
          "2019-02-05T00:00:00.000000",
          "2019-02-06T00:00:00.000000",
          "2019-02-07T00:00:00.000000",
          "2019-02-08T00:00:00.000000",
          "2019-02-09T00:00:00.000000",
          "2019-02-10T00:00:00.000000",
          "2019-02-11T00:00:00.000000",
          "2019-02-12T00:00:00.000000",
          "2019-02-13T00:00:00.000000",
          "2019-02-14T00:00:00.000000",
          "2019-02-15T00:00:00.000000",
          "2019-02-16T00:00:00.000000",
          "2019-02-17T00:00:00.000000",
          "2019-02-18T00:00:00.000000",
          "2019-02-19T00:00:00.000000",
          "2019-02-20T00:00:00.000000",
          "2019-02-21T00:00:00.000000",
          "2019-02-22T00:00:00.000000",
          "2019-02-23T00:00:00.000000",
          "2019-02-24T00:00:00.000000",
          "2019-02-25T00:00:00.000000",
          "2019-02-26T00:00:00.000000",
          "2019-02-27T00:00:00.000000",
          "2019-02-28T00:00:00.000000",
          "2019-03-01T00:00:00.000000",
          "2019-03-02T00:00:00.000000",
          "2019-03-03T00:00:00.000000",
          "2019-03-04T00:00:00.000000",
          "2019-03-05T00:00:00.000000",
          "2019-03-06T00:00:00.000000",
          "2019-03-07T00:00:00.000000",
          "2019-03-08T00:00:00.000000",
          "2019-03-09T00:00:00.000000",
          "2019-03-10T00:00:00.000000",
          "2019-03-11T00:00:00.000000",
          "2019-03-12T00:00:00.000000",
          "2019-03-13T00:00:00.000000",
          "2019-03-14T00:00:00.000000",
          "2019-03-15T00:00:00.000000",
          "2019-03-16T00:00:00.000000",
          "2019-03-17T00:00:00.000000",
          "2019-03-18T00:00:00.000000",
          "2019-03-19T00:00:00.000000",
          "2019-03-20T00:00:00.000000",
          "2019-03-21T00:00:00.000000",
          "2019-03-22T00:00:00.000000",
          "2019-03-23T00:00:00.000000",
          "2019-03-24T00:00:00.000000",
          "2019-03-25T00:00:00.000000",
          "2019-03-26T00:00:00.000000",
          "2019-03-27T00:00:00.000000",
          "2019-03-28T00:00:00.000000",
          "2019-03-29T00:00:00.000000",
          "2019-03-30T00:00:00.000000",
          "2019-03-31T00:00:00.000000",
          "2019-04-01T00:00:00.000000",
          "2019-04-02T00:00:00.000000",
          "2019-04-03T00:00:00.000000",
          "2019-04-04T00:00:00.000000",
          "2019-04-05T00:00:00.000000",
          "2019-04-06T00:00:00.000000",
          "2019-04-07T00:00:00.000000",
          "2019-04-08T00:00:00.000000",
          "2019-04-09T00:00:00.000000",
          "2019-04-10T00:00:00.000000",
          "2019-04-11T00:00:00.000000",
          "2019-04-12T00:00:00.000000",
          "2019-04-13T00:00:00.000000",
          "2019-04-14T00:00:00.000000",
          "2019-04-15T00:00:00.000000",
          "2019-04-16T00:00:00.000000",
          "2019-04-17T00:00:00.000000",
          "2019-04-18T00:00:00.000000",
          "2019-04-19T00:00:00.000000",
          "2019-04-20T00:00:00.000000",
          "2019-04-21T00:00:00.000000",
          "2019-04-22T00:00:00.000000",
          "2019-04-23T00:00:00.000000",
          "2019-04-24T00:00:00.000000",
          "2019-04-25T00:00:00.000000",
          "2019-04-26T00:00:00.000000",
          "2019-04-27T00:00:00.000000",
          "2019-04-28T00:00:00.000000",
          "2019-04-29T00:00:00.000000",
          "2019-04-30T00:00:00.000000",
          "2019-05-01T00:00:00.000000",
          "2019-05-02T00:00:00.000000",
          "2019-05-03T00:00:00.000000",
          "2019-05-04T00:00:00.000000",
          "2019-05-05T00:00:00.000000",
          "2019-05-06T00:00:00.000000",
          "2019-05-07T00:00:00.000000",
          "2019-05-08T00:00:00.000000",
          "2019-05-09T00:00:00.000000",
          "2019-05-10T00:00:00.000000",
          "2019-05-11T00:00:00.000000",
          "2019-05-12T00:00:00.000000",
          "2019-05-13T00:00:00.000000",
          "2019-05-14T00:00:00.000000",
          "2019-05-15T00:00:00.000000",
          "2019-05-16T00:00:00.000000",
          "2019-05-17T00:00:00.000000",
          "2019-05-18T00:00:00.000000",
          "2019-05-19T00:00:00.000000",
          "2019-05-20T00:00:00.000000",
          "2019-05-21T00:00:00.000000",
          "2019-05-22T00:00:00.000000",
          "2019-05-23T00:00:00.000000",
          "2019-05-24T00:00:00.000000",
          "2019-05-25T00:00:00.000000",
          "2019-05-26T00:00:00.000000",
          "2019-05-27T00:00:00.000000",
          "2019-05-28T00:00:00.000000",
          "2019-05-29T00:00:00.000000",
          "2019-05-30T00:00:00.000000",
          "2019-05-31T00:00:00.000000",
          "2019-06-01T00:00:00.000000",
          "2019-06-02T00:00:00.000000",
          "2019-06-03T00:00:00.000000",
          "2019-06-04T00:00:00.000000",
          "2019-06-05T00:00:00.000000",
          "2019-06-06T00:00:00.000000",
          "2019-06-07T00:00:00.000000",
          "2019-06-08T00:00:00.000000",
          "2019-06-09T00:00:00.000000",
          "2019-06-10T00:00:00.000000",
          "2019-06-11T00:00:00.000000",
          "2019-06-12T00:00:00.000000",
          "2019-06-13T00:00:00.000000",
          "2019-06-14T00:00:00.000000",
          "2019-06-15T00:00:00.000000",
          "2019-06-16T00:00:00.000000",
          "2019-06-17T00:00:00.000000",
          "2019-06-18T00:00:00.000000",
          "2019-06-19T00:00:00.000000",
          "2019-06-20T00:00:00.000000",
          "2019-06-21T00:00:00.000000",
          "2019-06-22T00:00:00.000000",
          "2019-06-23T00:00:00.000000",
          "2019-06-24T00:00:00.000000",
          "2019-06-25T00:00:00.000000",
          "2019-06-26T00:00:00.000000",
          "2019-06-27T00:00:00.000000",
          "2019-06-28T00:00:00.000000",
          "2019-06-29T00:00:00.000000",
          "2019-06-30T00:00:00.000000",
          "2019-07-01T00:00:00.000000",
          "2019-07-02T00:00:00.000000",
          "2019-07-03T00:00:00.000000",
          "2019-07-04T00:00:00.000000",
          "2019-07-05T00:00:00.000000",
          "2019-07-06T00:00:00.000000",
          "2019-07-07T00:00:00.000000",
          "2019-07-08T00:00:00.000000",
          "2019-07-09T00:00:00.000000",
          "2019-07-10T00:00:00.000000",
          "2019-07-11T00:00:00.000000",
          "2019-07-12T00:00:00.000000",
          "2019-07-13T00:00:00.000000",
          "2019-07-14T00:00:00.000000",
          "2019-07-15T00:00:00.000000",
          "2019-07-16T00:00:00.000000",
          "2019-07-17T00:00:00.000000",
          "2019-07-18T00:00:00.000000",
          "2019-07-19T00:00:00.000000",
          "2019-07-20T00:00:00.000000",
          "2019-07-21T00:00:00.000000",
          "2019-07-22T00:00:00.000000",
          "2019-07-23T00:00:00.000000",
          "2019-07-24T00:00:00.000000",
          "2019-07-25T00:00:00.000000",
          "2019-07-26T00:00:00.000000",
          "2019-07-27T00:00:00.000000",
          "2019-07-28T00:00:00.000000",
          "2019-07-29T00:00:00.000000",
          "2019-07-30T00:00:00.000000",
          "2019-07-31T00:00:00.000000",
          "2019-08-01T00:00:00.000000",
          "2019-08-02T00:00:00.000000",
          "2019-08-03T00:00:00.000000",
          "2019-08-04T00:00:00.000000",
          "2019-08-05T00:00:00.000000",
          "2019-08-06T00:00:00.000000",
          "2019-08-07T00:00:00.000000",
          "2019-08-08T00:00:00.000000",
          "2019-08-09T00:00:00.000000",
          "2019-08-10T00:00:00.000000",
          "2019-08-11T00:00:00.000000",
          "2019-08-12T00:00:00.000000",
          "2019-08-13T00:00:00.000000",
          "2019-08-14T00:00:00.000000",
          "2019-08-15T00:00:00.000000",
          "2019-08-16T00:00:00.000000",
          "2019-08-17T00:00:00.000000",
          "2019-08-18T00:00:00.000000",
          "2019-08-19T00:00:00.000000",
          "2019-08-20T00:00:00.000000",
          "2019-08-21T00:00:00.000000",
          "2019-08-22T00:00:00.000000",
          "2019-08-23T00:00:00.000000",
          "2019-08-24T00:00:00.000000",
          "2019-08-25T00:00:00.000000",
          "2019-08-26T00:00:00.000000",
          "2019-08-27T00:00:00.000000",
          "2019-08-28T00:00:00.000000",
          "2019-08-29T00:00:00.000000",
          "2019-08-30T00:00:00.000000",
          "2019-08-31T00:00:00.000000",
          "2019-09-01T00:00:00.000000",
          "2019-09-02T00:00:00.000000",
          "2019-09-03T00:00:00.000000",
          "2019-09-04T00:00:00.000000",
          "2019-09-05T00:00:00.000000",
          "2019-09-06T00:00:00.000000",
          "2019-09-07T00:00:00.000000",
          "2019-09-08T00:00:00.000000",
          "2019-09-09T00:00:00.000000",
          "2019-09-10T00:00:00.000000",
          "2019-09-11T00:00:00.000000",
          "2019-09-12T00:00:00.000000",
          "2019-09-13T00:00:00.000000",
          "2019-09-14T00:00:00.000000",
          "2019-09-15T00:00:00.000000",
          "2019-09-16T00:00:00.000000",
          "2019-09-17T00:00:00.000000",
          "2019-09-18T00:00:00.000000",
          "2019-09-19T00:00:00.000000",
          "2019-09-20T00:00:00.000000",
          "2019-09-21T00:00:00.000000",
          "2019-09-22T00:00:00.000000",
          "2019-09-23T00:00:00.000000",
          "2019-09-24T00:00:00.000000",
          "2019-09-25T00:00:00.000000",
          "2019-09-26T00:00:00.000000",
          "2019-09-27T00:00:00.000000",
          "2019-09-28T00:00:00.000000",
          "2019-09-29T00:00:00.000000",
          "2019-09-30T00:00:00.000000",
          "2019-10-01T00:00:00.000000",
          "2019-10-02T00:00:00.000000",
          "2019-10-03T00:00:00.000000",
          "2019-10-04T00:00:00.000000",
          "2019-10-05T00:00:00.000000",
          "2019-10-06T00:00:00.000000",
          "2019-10-07T00:00:00.000000",
          "2019-10-08T00:00:00.000000",
          "2019-10-09T00:00:00.000000",
          "2019-10-10T00:00:00.000000",
          "2019-10-11T00:00:00.000000",
          "2019-10-12T00:00:00.000000",
          "2019-10-13T00:00:00.000000",
          "2019-10-14T00:00:00.000000",
          "2019-10-15T00:00:00.000000",
          "2019-10-16T00:00:00.000000",
          "2019-10-17T00:00:00.000000",
          "2019-10-18T00:00:00.000000",
          "2019-10-19T00:00:00.000000",
          "2019-10-20T00:00:00.000000",
          "2019-10-21T00:00:00.000000",
          "2019-10-22T00:00:00.000000",
          "2019-10-23T00:00:00.000000",
          "2019-10-24T00:00:00.000000",
          "2019-10-25T00:00:00.000000",
          "2019-10-26T00:00:00.000000",
          "2019-10-27T00:00:00.000000",
          "2019-10-28T00:00:00.000000",
          "2019-10-29T00:00:00.000000",
          "2019-10-30T00:00:00.000000",
          "2019-10-31T00:00:00.000000",
          "2019-11-01T00:00:00.000000",
          "2019-11-02T00:00:00.000000",
          "2019-11-03T00:00:00.000000",
          "2019-11-04T00:00:00.000000",
          "2019-11-05T00:00:00.000000",
          "2019-11-06T00:00:00.000000",
          "2019-11-07T00:00:00.000000",
          "2019-11-08T00:00:00.000000",
          "2019-11-09T00:00:00.000000",
          "2019-11-10T00:00:00.000000",
          "2019-11-11T00:00:00.000000",
          "2019-11-12T00:00:00.000000",
          "2019-11-13T00:00:00.000000",
          "2019-11-14T00:00:00.000000",
          "2019-11-15T00:00:00.000000",
          "2019-11-16T00:00:00.000000",
          "2019-11-17T00:00:00.000000",
          "2019-11-18T00:00:00.000000",
          "2019-11-19T00:00:00.000000",
          "2019-11-20T00:00:00.000000",
          "2019-11-21T00:00:00.000000",
          "2019-11-22T00:00:00.000000",
          "2019-11-23T00:00:00.000000",
          "2019-11-24T00:00:00.000000",
          "2019-11-25T00:00:00.000000",
          "2019-11-26T00:00:00.000000",
          "2019-11-27T00:00:00.000000",
          "2019-11-28T00:00:00.000000",
          "2019-11-29T00:00:00.000000",
          "2019-11-30T00:00:00.000000",
          "2019-12-01T00:00:00.000000",
          "2019-12-02T00:00:00.000000",
          "2019-12-03T00:00:00.000000",
          "2019-12-04T00:00:00.000000",
          "2019-12-05T00:00:00.000000",
          "2019-12-06T00:00:00.000000",
          "2019-12-07T00:00:00.000000",
          "2019-12-08T00:00:00.000000",
          "2019-12-09T00:00:00.000000",
          "2019-12-10T00:00:00.000000",
          "2019-12-11T00:00:00.000000",
          "2019-12-12T00:00:00.000000",
          "2019-12-13T00:00:00.000000",
          "2019-12-14T00:00:00.000000",
          "2019-12-15T00:00:00.000000",
          "2019-12-16T00:00:00.000000",
          "2019-12-17T00:00:00.000000",
          "2019-12-18T00:00:00.000000",
          "2019-12-19T00:00:00.000000",
          "2019-12-20T00:00:00.000000",
          "2019-12-21T00:00:00.000000",
          "2019-12-22T00:00:00.000000",
          "2019-12-23T00:00:00.000000",
          "2019-12-24T00:00:00.000000",
          "2019-12-25T00:00:00.000000",
          "2019-12-26T00:00:00.000000",
          "2019-12-27T00:00:00.000000",
          "2019-12-28T00:00:00.000000",
          "2019-12-29T00:00:00.000000",
          "2019-12-30T00:00:00.000000",
          "2019-12-31T00:00:00.000000",
          "2020-01-01T00:00:00.000000",
          "2020-01-02T00:00:00.000000",
          "2020-01-03T00:00:00.000000",
          "2020-01-04T00:00:00.000000",
          "2020-01-05T00:00:00.000000",
          "2020-01-06T00:00:00.000000",
          "2020-01-07T00:00:00.000000",
          "2020-01-08T00:00:00.000000",
          "2020-01-09T00:00:00.000000",
          "2020-01-10T00:00:00.000000",
          "2020-01-11T00:00:00.000000",
          "2020-01-12T00:00:00.000000",
          "2020-01-13T00:00:00.000000",
          "2020-01-14T00:00:00.000000",
          "2020-01-15T00:00:00.000000",
          "2020-01-16T00:00:00.000000",
          "2020-01-17T00:00:00.000000",
          "2020-01-18T00:00:00.000000",
          "2020-01-19T00:00:00.000000",
          "2020-01-20T00:00:00.000000",
          "2020-01-21T00:00:00.000000",
          "2020-01-22T00:00:00.000000",
          "2020-01-23T00:00:00.000000",
          "2020-01-24T00:00:00.000000",
          "2020-01-25T00:00:00.000000",
          "2020-01-26T00:00:00.000000",
          "2020-01-27T00:00:00.000000",
          "2020-01-28T00:00:00.000000",
          "2020-01-29T00:00:00.000000",
          "2020-01-30T00:00:00.000000",
          "2020-01-31T00:00:00.000000",
          "2020-02-01T00:00:00.000000",
          "2020-02-02T00:00:00.000000",
          "2020-02-03T00:00:00.000000",
          "2020-02-04T00:00:00.000000",
          "2020-02-05T00:00:00.000000",
          "2020-02-06T00:00:00.000000",
          "2020-02-07T00:00:00.000000",
          "2020-02-08T00:00:00.000000",
          "2020-02-09T00:00:00.000000",
          "2020-02-10T00:00:00.000000",
          "2020-02-11T00:00:00.000000",
          "2020-02-12T00:00:00.000000",
          "2020-02-13T00:00:00.000000",
          "2020-02-14T00:00:00.000000",
          "2020-02-15T00:00:00.000000",
          "2020-02-16T00:00:00.000000",
          "2020-02-17T00:00:00.000000",
          "2020-02-18T00:00:00.000000",
          "2020-02-19T00:00:00.000000",
          "2020-02-20T00:00:00.000000",
          "2020-02-21T00:00:00.000000",
          "2020-02-22T00:00:00.000000",
          "2020-02-23T00:00:00.000000",
          "2020-02-24T00:00:00.000000",
          "2020-02-25T00:00:00.000000",
          "2020-02-26T00:00:00.000000",
          "2020-02-27T00:00:00.000000",
          "2020-02-28T00:00:00.000000",
          "2020-02-29T00:00:00.000000",
          "2020-03-01T00:00:00.000000",
          "2020-03-02T00:00:00.000000",
          "2020-03-03T00:00:00.000000",
          "2020-03-04T00:00:00.000000",
          "2020-03-05T00:00:00.000000",
          "2020-03-06T00:00:00.000000",
          "2020-03-07T00:00:00.000000",
          "2020-03-08T00:00:00.000000",
          "2020-03-09T00:00:00.000000",
          "2020-03-10T00:00:00.000000",
          "2020-03-11T00:00:00.000000",
          "2020-03-12T00:00:00.000000",
          "2020-03-13T00:00:00.000000",
          "2020-03-14T00:00:00.000000",
          "2020-03-15T00:00:00.000000",
          "2020-03-16T00:00:00.000000",
          "2020-03-17T00:00:00.000000",
          "2020-03-18T00:00:00.000000",
          "2020-03-19T00:00:00.000000",
          "2020-03-20T00:00:00.000000",
          "2020-03-21T00:00:00.000000",
          "2020-03-22T00:00:00.000000",
          "2020-03-23T00:00:00.000000",
          "2020-03-24T00:00:00.000000",
          "2020-03-25T00:00:00.000000",
          "2020-03-26T00:00:00.000000",
          "2020-03-27T00:00:00.000000",
          "2020-03-28T00:00:00.000000",
          "2020-03-29T00:00:00.000000",
          "2020-03-30T00:00:00.000000",
          "2020-03-31T00:00:00.000000",
          "2020-04-01T00:00:00.000000",
          "2020-04-02T00:00:00.000000",
          "2020-04-03T00:00:00.000000",
          "2020-04-04T00:00:00.000000",
          "2020-04-05T00:00:00.000000",
          "2020-04-06T00:00:00.000000",
          "2020-04-07T00:00:00.000000",
          "2020-04-08T00:00:00.000000",
          "2020-04-09T00:00:00.000000",
          "2020-04-10T00:00:00.000000",
          "2020-04-11T00:00:00.000000",
          "2020-04-12T00:00:00.000000",
          "2020-04-13T00:00:00.000000",
          "2020-04-14T00:00:00.000000",
          "2020-04-15T00:00:00.000000",
          "2020-04-16T00:00:00.000000",
          "2020-04-17T00:00:00.000000",
          "2020-04-18T00:00:00.000000",
          "2020-04-19T00:00:00.000000",
          "2020-04-20T00:00:00.000000",
          "2020-04-21T00:00:00.000000",
          "2020-04-22T00:00:00.000000",
          "2020-04-23T00:00:00.000000",
          "2020-04-24T00:00:00.000000",
          "2020-04-25T00:00:00.000000",
          "2020-04-26T00:00:00.000000",
          "2020-04-27T00:00:00.000000",
          "2020-04-28T00:00:00.000000",
          "2020-04-29T00:00:00.000000",
          "2020-04-30T00:00:00.000000",
          "2020-05-01T00:00:00.000000",
          "2020-05-02T00:00:00.000000",
          "2020-05-03T00:00:00.000000",
          "2020-05-04T00:00:00.000000",
          "2020-05-05T00:00:00.000000",
          "2020-05-06T00:00:00.000000",
          "2020-05-07T00:00:00.000000",
          "2020-05-08T00:00:00.000000",
          "2020-05-09T00:00:00.000000",
          "2020-05-10T00:00:00.000000",
          "2020-05-11T00:00:00.000000",
          "2020-05-12T00:00:00.000000",
          "2020-05-13T00:00:00.000000",
          "2020-05-14T00:00:00.000000",
          "2020-05-15T00:00:00.000000",
          "2020-05-16T00:00:00.000000",
          "2020-05-17T00:00:00.000000",
          "2020-05-18T00:00:00.000000",
          "2020-05-19T00:00:00.000000",
          "2020-05-20T00:00:00.000000",
          "2020-05-21T00:00:00.000000",
          "2020-05-22T00:00:00.000000",
          "2020-05-23T00:00:00.000000",
          "2020-05-24T00:00:00.000000",
          "2020-05-25T00:00:00.000000",
          "2020-05-26T00:00:00.000000",
          "2020-05-27T00:00:00.000000",
          "2020-05-28T00:00:00.000000",
          "2020-05-29T00:00:00.000000",
          "2020-05-30T00:00:00.000000",
          "2020-05-31T00:00:00.000000",
          "2020-06-01T00:00:00.000000",
          "2020-06-02T00:00:00.000000",
          "2020-06-03T00:00:00.000000",
          "2020-06-04T00:00:00.000000",
          "2020-06-05T00:00:00.000000",
          "2020-06-06T00:00:00.000000",
          "2020-06-07T00:00:00.000000",
          "2020-06-08T00:00:00.000000",
          "2020-06-09T00:00:00.000000",
          "2020-06-10T00:00:00.000000",
          "2020-06-11T00:00:00.000000",
          "2020-06-12T00:00:00.000000",
          "2020-06-13T00:00:00.000000",
          "2020-06-14T00:00:00.000000",
          "2020-06-15T00:00:00.000000",
          "2020-06-16T00:00:00.000000",
          "2020-06-17T00:00:00.000000",
          "2020-06-18T00:00:00.000000",
          "2020-06-19T00:00:00.000000",
          "2020-06-20T00:00:00.000000",
          "2020-06-21T00:00:00.000000",
          "2020-06-22T00:00:00.000000",
          "2020-06-23T00:00:00.000000",
          "2020-06-24T00:00:00.000000",
          "2020-06-25T00:00:00.000000",
          "2020-06-26T00:00:00.000000",
          "2020-06-27T00:00:00.000000",
          "2020-06-28T00:00:00.000000",
          "2020-06-29T00:00:00.000000",
          "2020-06-30T00:00:00.000000",
          "2020-07-01T00:00:00.000000",
          "2020-07-02T00:00:00.000000",
          "2020-07-03T00:00:00.000000",
          "2020-07-04T00:00:00.000000",
          "2020-07-05T00:00:00.000000",
          "2020-07-06T00:00:00.000000",
          "2020-07-07T00:00:00.000000",
          "2020-07-08T00:00:00.000000",
          "2020-07-09T00:00:00.000000",
          "2020-07-10T00:00:00.000000",
          "2020-07-11T00:00:00.000000",
          "2020-07-12T00:00:00.000000",
          "2020-07-13T00:00:00.000000",
          "2020-07-14T00:00:00.000000",
          "2020-07-15T00:00:00.000000",
          "2020-07-16T00:00:00.000000",
          "2020-07-17T00:00:00.000000",
          "2020-07-18T00:00:00.000000",
          "2020-07-19T00:00:00.000000",
          "2020-07-20T00:00:00.000000",
          "2020-07-21T00:00:00.000000",
          "2020-07-22T00:00:00.000000",
          "2020-07-23T00:00:00.000000",
          "2020-07-24T00:00:00.000000",
          "2020-07-25T00:00:00.000000",
          "2020-07-26T00:00:00.000000",
          "2020-07-27T00:00:00.000000",
          "2020-07-28T00:00:00.000000",
          "2020-07-29T00:00:00.000000",
          "2020-07-30T00:00:00.000000",
          "2020-07-31T00:00:00.000000",
          "2020-08-01T00:00:00.000000",
          "2020-08-02T00:00:00.000000",
          "2020-08-03T00:00:00.000000",
          "2020-08-04T00:00:00.000000",
          "2020-08-05T00:00:00.000000",
          "2020-08-06T00:00:00.000000",
          "2020-08-07T00:00:00.000000",
          "2020-08-08T00:00:00.000000",
          "2020-08-09T00:00:00.000000",
          "2020-08-10T00:00:00.000000",
          "2020-08-11T00:00:00.000000",
          "2020-08-12T00:00:00.000000",
          "2020-08-13T00:00:00.000000",
          "2020-08-14T00:00:00.000000",
          "2020-08-15T00:00:00.000000",
          "2020-08-16T00:00:00.000000",
          "2020-08-17T00:00:00.000000",
          "2020-08-18T00:00:00.000000",
          "2020-08-19T00:00:00.000000",
          "2020-08-20T00:00:00.000000",
          "2020-08-21T00:00:00.000000",
          "2020-08-22T00:00:00.000000",
          "2020-08-23T00:00:00.000000",
          "2020-08-24T00:00:00.000000",
          "2020-08-25T00:00:00.000000",
          "2020-08-26T00:00:00.000000",
          "2020-08-27T00:00:00.000000",
          "2020-08-28T00:00:00.000000",
          "2020-08-29T00:00:00.000000",
          "2020-08-30T00:00:00.000000",
          "2020-08-31T00:00:00.000000",
          "2020-09-01T00:00:00.000000",
          "2020-09-02T00:00:00.000000",
          "2020-09-03T00:00:00.000000",
          "2020-09-04T00:00:00.000000",
          "2020-09-05T00:00:00.000000",
          "2020-09-06T00:00:00.000000",
          "2020-09-07T00:00:00.000000",
          "2020-09-08T00:00:00.000000",
          "2020-09-09T00:00:00.000000",
          "2020-09-10T00:00:00.000000",
          "2020-09-11T00:00:00.000000",
          "2020-09-12T00:00:00.000000",
          "2020-09-13T00:00:00.000000",
          "2020-09-14T00:00:00.000000",
          "2020-09-15T00:00:00.000000",
          "2020-09-16T00:00:00.000000",
          "2020-09-17T00:00:00.000000",
          "2020-09-18T00:00:00.000000",
          "2020-09-19T00:00:00.000000",
          "2020-09-20T00:00:00.000000",
          "2020-09-21T00:00:00.000000",
          "2020-09-22T00:00:00.000000",
          "2020-09-23T00:00:00.000000",
          "2020-09-24T00:00:00.000000",
          "2020-09-25T00:00:00.000000",
          "2020-09-26T00:00:00.000000"
         ],
         "xaxis": "x",
         "y": {
          "dtype": "float64",
          "shape": [
           1000
          ]
         },
         "yaxis": "y"
        }
       ],
       "_js2py_layoutDelta": {},
       "_js2py_pointsCallback": {},
       "_js2py_relayout": {},
       "_js2py_restyle": {},
       "_js2py_traceDeltas": {},
       "_js2py_update": {},
       "_last_layout_edit_id": 5,
       "_last_trace_edit_id": 5,
       "_layout": {
        "autosize": false,
        "colorway": [
         "#1f77b4",
         "#ff7f0e",
         "#2ca02c",
         "#d62728",
         "#9467bd",
         "#8c564b",
         "#e377c2",
         "#7f7f7f",
         "#bcbd22",
         "#17becf"
        ],
        "height": 300,
        "hovermode": "closest",
        "margin": {
         "b": 30,
         "t": 30
        },
        "showlegend": true,
        "template": {
         "data": {
          "bar": [
           {
            "error_x": {
             "color": "#2a3f5f"
            },
            "error_y": {
             "color": "#2a3f5f"
            },
            "marker": {
             "line": {
              "color": "#E5ECF6",
              "width": 0.5
             }
            },
            "type": "bar"
           }
          ],
          "barpolar": [
           {
            "marker": {
             "line": {
              "color": "#E5ECF6",
              "width": 0.5
             }
            },
            "type": "barpolar"
           }
          ],
          "carpet": [
           {
            "aaxis": {
             "endlinecolor": "#2a3f5f",
             "gridcolor": "white",
             "linecolor": "white",
             "minorgridcolor": "white",
             "startlinecolor": "#2a3f5f"
            },
            "baxis": {
             "endlinecolor": "#2a3f5f",
             "gridcolor": "white",
             "linecolor": "white",
             "minorgridcolor": "white",
             "startlinecolor": "#2a3f5f"
            },
            "type": "carpet"
           }
          ],
          "choropleth": [
           {
            "colorbar": {
             "outlinewidth": 0,
             "ticks": ""
            },
            "type": "choropleth"
           }
          ],
          "contour": [
           {
            "colorbar": {
             "outlinewidth": 0,
             "ticks": ""
            },
            "colorscale": [
             [
              0,
              "#0d0887"
             ],
             [
              0.1111111111111111,
              "#46039f"
             ],
             [
              0.2222222222222222,
              "#7201a8"
             ],
             [
              0.3333333333333333,
              "#9c179e"
             ],
             [
              0.4444444444444444,
              "#bd3786"
             ],
             [
              0.5555555555555556,
              "#d8576b"
             ],
             [
              0.6666666666666666,
              "#ed7953"
             ],
             [
              0.7777777777777778,
              "#fb9f3a"
             ],
             [
              0.8888888888888888,
              "#fdca26"
             ],
             [
              1,
              "#f0f921"
             ]
            ],
            "type": "contour"
           }
          ],
          "contourcarpet": [
           {
            "colorbar": {
             "outlinewidth": 0,
             "ticks": ""
            },
            "type": "contourcarpet"
           }
          ],
          "heatmap": [
           {
            "colorbar": {
             "outlinewidth": 0,
             "ticks": ""
            },
            "colorscale": [
             [
              0,
              "#0d0887"
             ],
             [
              0.1111111111111111,
              "#46039f"
             ],
             [
              0.2222222222222222,
              "#7201a8"
             ],
             [
              0.3333333333333333,
              "#9c179e"
             ],
             [
              0.4444444444444444,
              "#bd3786"
             ],
             [
              0.5555555555555556,
              "#d8576b"
             ],
             [
              0.6666666666666666,
              "#ed7953"
             ],
             [
              0.7777777777777778,
              "#fb9f3a"
             ],
             [
              0.8888888888888888,
              "#fdca26"
             ],
             [
              1,
              "#f0f921"
             ]
            ],
            "type": "heatmap"
           }
          ],
          "heatmapgl": [
           {
            "colorbar": {
             "outlinewidth": 0,
             "ticks": ""
            },
            "colorscale": [
             [
              0,
              "#0d0887"
             ],
             [
              0.1111111111111111,
              "#46039f"
             ],
             [
              0.2222222222222222,
              "#7201a8"
             ],
             [
              0.3333333333333333,
              "#9c179e"
             ],
             [
              0.4444444444444444,
              "#bd3786"
             ],
             [
              0.5555555555555556,
              "#d8576b"
             ],
             [
              0.6666666666666666,
              "#ed7953"
             ],
             [
              0.7777777777777778,
              "#fb9f3a"
             ],
             [
              0.8888888888888888,
              "#fdca26"
             ],
             [
              1,
              "#f0f921"
             ]
            ],
            "type": "heatmapgl"
           }
          ],
          "histogram": [
           {
            "marker": {
             "colorbar": {
              "outlinewidth": 0,
              "ticks": ""
             }
            },
            "type": "histogram"
           }
          ],
          "histogram2d": [
           {
            "colorbar": {
             "outlinewidth": 0,
             "ticks": ""
            },
            "colorscale": [
             [
              0,
              "#0d0887"
             ],
             [
              0.1111111111111111,
              "#46039f"
             ],
             [
              0.2222222222222222,
              "#7201a8"
             ],
             [
              0.3333333333333333,
              "#9c179e"
             ],
             [
              0.4444444444444444,
              "#bd3786"
             ],
             [
              0.5555555555555556,
              "#d8576b"
             ],
             [
              0.6666666666666666,
              "#ed7953"
             ],
             [
              0.7777777777777778,
              "#fb9f3a"
             ],
             [
              0.8888888888888888,
              "#fdca26"
             ],
             [
              1,
              "#f0f921"
             ]
            ],
            "type": "histogram2d"
           }
          ],
          "histogram2dcontour": [
           {
            "colorbar": {
             "outlinewidth": 0,
             "ticks": ""
            },
            "colorscale": [
             [
              0,
              "#0d0887"
             ],
             [
              0.1111111111111111,
              "#46039f"
             ],
             [
              0.2222222222222222,
              "#7201a8"
             ],
             [
              0.3333333333333333,
              "#9c179e"
             ],
             [
              0.4444444444444444,
              "#bd3786"
             ],
             [
              0.5555555555555556,
              "#d8576b"
             ],
             [
              0.6666666666666666,
              "#ed7953"
             ],
             [
              0.7777777777777778,
              "#fb9f3a"
             ],
             [
              0.8888888888888888,
              "#fdca26"
             ],
             [
              1,
              "#f0f921"
             ]
            ],
            "type": "histogram2dcontour"
           }
          ],
          "mesh3d": [
           {
            "colorbar": {
             "outlinewidth": 0,
             "ticks": ""
            },
            "type": "mesh3d"
           }
          ],
          "parcoords": [
           {
            "line": {
             "colorbar": {
              "outlinewidth": 0,
              "ticks": ""
             }
            },
            "type": "parcoords"
           }
          ],
          "pie": [
           {
            "automargin": true,
            "type": "pie"
           }
          ],
          "scatter": [
           {
            "marker": {
             "colorbar": {
              "outlinewidth": 0,
              "ticks": ""
             }
            },
            "type": "scatter"
           }
          ],
          "scatter3d": [
           {
            "line": {
             "colorbar": {
              "outlinewidth": 0,
              "ticks": ""
             }
            },
            "marker": {
             "colorbar": {
              "outlinewidth": 0,
              "ticks": ""
             }
            },
            "type": "scatter3d"
           }
          ],
          "scattercarpet": [
           {
            "marker": {
             "colorbar": {
              "outlinewidth": 0,
              "ticks": ""
             }
            },
            "type": "scattercarpet"
           }
          ],
          "scattergeo": [
           {
            "marker": {
             "colorbar": {
              "outlinewidth": 0,
              "ticks": ""
             }
            },
            "type": "scattergeo"
           }
          ],
          "scattergl": [
           {
            "marker": {
             "colorbar": {
              "outlinewidth": 0,
              "ticks": ""
             }
            },
            "type": "scattergl"
           }
          ],
          "scattermapbox": [
           {
            "marker": {
             "colorbar": {
              "outlinewidth": 0,
              "ticks": ""
             }
            },
            "type": "scattermapbox"
           }
          ],
          "scatterpolar": [
           {
            "marker": {
             "colorbar": {
              "outlinewidth": 0,
              "ticks": ""
             }
            },
            "type": "scatterpolar"
           }
          ],
          "scatterpolargl": [
           {
            "marker": {
             "colorbar": {
              "outlinewidth": 0,
              "ticks": ""
             }
            },
            "type": "scatterpolargl"
           }
          ],
          "scatterternary": [
           {
            "marker": {
             "colorbar": {
              "outlinewidth": 0,
              "ticks": ""
             }
            },
            "type": "scatterternary"
           }
          ],
          "surface": [
           {
            "colorbar": {
             "outlinewidth": 0,
             "ticks": ""
            },
            "colorscale": [
             [
              0,
              "#0d0887"
             ],
             [
              0.1111111111111111,
              "#46039f"
             ],
             [
              0.2222222222222222,
              "#7201a8"
             ],
             [
              0.3333333333333333,
              "#9c179e"
             ],
             [
              0.4444444444444444,
              "#bd3786"
             ],
             [
              0.5555555555555556,
              "#d8576b"
             ],
             [
              0.6666666666666666,
              "#ed7953"
             ],
             [
              0.7777777777777778,
              "#fb9f3a"
             ],
             [
              0.8888888888888888,
              "#fdca26"
             ],
             [
              1,
              "#f0f921"
             ]
            ],
            "type": "surface"
           }
          ],
          "table": [
           {
            "cells": {
             "fill": {
              "color": "#EBF0F8"
             },
             "line": {
              "color": "white"
             }
            },
            "header": {
             "fill": {
              "color": "#C8D4E3"
             },
             "line": {
              "color": "white"
             }
            },
            "type": "table"
           }
          ]
         },
         "layout": {
          "annotationdefaults": {
           "arrowcolor": "#2a3f5f",
           "arrowhead": 0,
           "arrowwidth": 1
          },
          "coloraxis": {
           "colorbar": {
            "outlinewidth": 0,
            "ticks": ""
           }
          },
          "colorscale": {
           "diverging": [
            [
             0,
             "#8e0152"
            ],
            [
             0.1,
             "#c51b7d"
            ],
            [
             0.2,
             "#de77ae"
            ],
            [
             0.3,
             "#f1b6da"
            ],
            [
             0.4,
             "#fde0ef"
            ],
            [
             0.5,
             "#f7f7f7"
            ],
            [
             0.6,
             "#e6f5d0"
            ],
            [
             0.7,
             "#b8e186"
            ],
            [
             0.8,
             "#7fbc41"
            ],
            [
             0.9,
             "#4d9221"
            ],
            [
             1,
             "#276419"
            ]
           ],
           "sequential": [
            [
             0,
             "#0d0887"
            ],
            [
             0.1111111111111111,
             "#46039f"
            ],
            [
             0.2222222222222222,
             "#7201a8"
            ],
            [
             0.3333333333333333,
             "#9c179e"
            ],
            [
             0.4444444444444444,
             "#bd3786"
            ],
            [
             0.5555555555555556,
             "#d8576b"
            ],
            [
             0.6666666666666666,
             "#ed7953"
            ],
            [
             0.7777777777777778,
             "#fb9f3a"
            ],
            [
             0.8888888888888888,
             "#fdca26"
            ],
            [
             1,
             "#f0f921"
            ]
           ],
           "sequentialminus": [
            [
             0,
             "#0d0887"
            ],
            [
             0.1111111111111111,
             "#46039f"
            ],
            [
             0.2222222222222222,
             "#7201a8"
            ],
            [
             0.3333333333333333,
             "#9c179e"
            ],
            [
             0.4444444444444444,
             "#bd3786"
            ],
            [
             0.5555555555555556,
             "#d8576b"
            ],
            [
             0.6666666666666666,
             "#ed7953"
            ],
            [
             0.7777777777777778,
             "#fb9f3a"
            ],
            [
             0.8888888888888888,
             "#fdca26"
            ],
            [
             1,
             "#f0f921"
            ]
           ]
          },
          "colorway": [
           "#636efa",
           "#EF553B",
           "#00cc96",
           "#ab63fa",
           "#FFA15A",
           "#19d3f3",
           "#FF6692",
           "#B6E880",
           "#FF97FF",
           "#FECB52"
          ],
          "font": {
           "color": "#2a3f5f"
          },
          "geo": {
           "bgcolor": "white",
           "lakecolor": "white",
           "landcolor": "#E5ECF6",
           "showlakes": true,
           "showland": true,
           "subunitcolor": "white"
          },
          "hoverlabel": {
           "align": "left"
          },
          "hovermode": "closest",
          "mapbox": {
           "style": "light"
          },
          "paper_bgcolor": "white",
          "plot_bgcolor": "#E5ECF6",
          "polar": {
           "angularaxis": {
            "gridcolor": "white",
            "linecolor": "white",
            "ticks": ""
           },
           "bgcolor": "#E5ECF6",
           "radialaxis": {
            "gridcolor": "white",
            "linecolor": "white",
            "ticks": ""
           }
          },
          "scene": {
           "xaxis": {
            "backgroundcolor": "#E5ECF6",
            "gridcolor": "white",
            "gridwidth": 2,
            "linecolor": "white",
            "showbackground": true,
            "ticks": "",
            "zerolinecolor": "white"
           },
           "yaxis": {
            "backgroundcolor": "#E5ECF6",
            "gridcolor": "white",
            "gridwidth": 2,
            "linecolor": "white",
            "showbackground": true,
            "ticks": "",
            "zerolinecolor": "white"
           },
           "zaxis": {
            "backgroundcolor": "#E5ECF6",
            "gridcolor": "white",
            "gridwidth": 2,
            "linecolor": "white",
            "showbackground": true,
            "ticks": "",
            "zerolinecolor": "white"
           }
          },
          "shapedefaults": {
           "line": {
            "color": "#2a3f5f"
           }
          },
          "ternary": {
           "aaxis": {
            "gridcolor": "white",
            "linecolor": "white",
            "ticks": ""
           },
           "baxis": {
            "gridcolor": "white",
            "linecolor": "white",
            "ticks": ""
           },
           "bgcolor": "#E5ECF6",
           "caxis": {
            "gridcolor": "white",
            "linecolor": "white",
            "ticks": ""
           }
          },
          "title": {
           "x": 0.05
          },
          "xaxis": {
           "automargin": true,
           "gridcolor": "white",
           "linecolor": "white",
           "ticks": "",
           "title": {
            "standoff": 15
           },
           "zerolinecolor": "white",
           "zerolinewidth": 2
          },
          "yaxis": {
           "automargin": true,
           "gridcolor": "white",
           "linecolor": "white",
           "ticks": "",
           "title": {
            "standoff": 15
           },
           "zerolinecolor": "white",
           "zerolinewidth": 2
          }
         }
        },
        "width": 700,
        "xaxis": {
         "rangeslider": {
          "visible": false
         },
         "showgrid": true
        },
        "yaxis": {
         "domain": [
          0,
          0.33
         ],
         "showgrid": true
        },
        "yaxis2": {
         "domain": [
          0.33,
          1
         ]
        }
       },
       "_model_module_version": "1.5.0",
       "_py2js_animate": {},
       "_py2js_deleteTraces": {},
       "_py2js_moveTraces": {},
       "_py2js_removeLayoutProps": {},
       "_py2js_removeTraceProps": {},
       "_py2js_restyle": {},
       "_view_count": 0,
       "_view_module_version": "1.5.0"
      }
     },
     "53c014d343884b979c649c93b61e5d15": {
      "buffers": [
       {
        "data": "AAAAAAAA8D8AAAAAAAAAQAAAAAAAAAhAAAAAAAAAEEAAAAAAAAD4fw==",
        "encoding": "base64",
        "path": [
         "_data",
         0,
         "y",
         "value"
        ]
       }
      ],
      "model_module": "plotlywidget",
      "model_module_version": "1.5.0",
      "model_name": "FigureModel",
      "state": {
       "_config": {
        "plotlyServerURL": "https://plot.ly"
       },
       "_data": [
        {
         "mode": "lines",
         "name": "a",
         "type": "scatter",
         "uid": "10b2d279-3aff-43e1-9337-76c012a0860c",
         "x": [
          "2018-01-01T00:00:00.000000",
          "2018-01-02T00:00:00.000000",
          "2018-01-03T00:00:00.000000",
          "2018-01-04T00:00:00.000000",
          "2018-01-05T00:00:00.000000"
         ],
         "y": {
          "dtype": "float64",
          "shape": [
           5
          ]
         }
        }
       ],
       "_js2py_layoutDelta": {},
       "_js2py_pointsCallback": {},
       "_js2py_relayout": {},
       "_js2py_restyle": {},
       "_js2py_traceDeltas": {},
       "_js2py_update": {},
       "_last_layout_edit_id": 3,
       "_last_trace_edit_id": 3,
       "_layout": {
        "autosize": false,
        "colorway": [
         "#1f77b4",
         "#ff7f0e",
         "#2ca02c",
         "#d62728",
         "#9467bd",
         "#8c564b",
         "#e377c2",
         "#7f7f7f",
         "#bcbd22",
         "#17becf"
        ],
        "height": 300,
        "hovermode": "closest",
        "margin": {
         "b": 30,
         "t": 30
        },
        "showlegend": true,
        "template": {
         "data": {
          "bar": [
           {
            "error_x": {
             "color": "#2a3f5f"
            },
            "error_y": {
             "color": "#2a3f5f"
            },
            "marker": {
             "line": {
              "color": "#E5ECF6",
              "width": 0.5
             }
            },
            "type": "bar"
           }
          ],
          "barpolar": [
           {
            "marker": {
             "line": {
              "color": "#E5ECF6",
              "width": 0.5
             }
            },
            "type": "barpolar"
           }
          ],
          "carpet": [
           {
            "aaxis": {
             "endlinecolor": "#2a3f5f",
             "gridcolor": "white",
             "linecolor": "white",
             "minorgridcolor": "white",
             "startlinecolor": "#2a3f5f"
            },
            "baxis": {
             "endlinecolor": "#2a3f5f",
             "gridcolor": "white",
             "linecolor": "white",
             "minorgridcolor": "white",
             "startlinecolor": "#2a3f5f"
            },
            "type": "carpet"
           }
          ],
          "choropleth": [
           {
            "colorbar": {
             "outlinewidth": 0,
             "ticks": ""
            },
            "type": "choropleth"
           }
          ],
          "contour": [
           {
            "colorbar": {
             "outlinewidth": 0,
             "ticks": ""
            },
            "colorscale": [
             [
              0,
              "#0d0887"
             ],
             [
              0.1111111111111111,
              "#46039f"
             ],
             [
              0.2222222222222222,
              "#7201a8"
             ],
             [
              0.3333333333333333,
              "#9c179e"
             ],
             [
              0.4444444444444444,
              "#bd3786"
             ],
             [
              0.5555555555555556,
              "#d8576b"
             ],
             [
              0.6666666666666666,
              "#ed7953"
             ],
             [
              0.7777777777777778,
              "#fb9f3a"
             ],
             [
              0.8888888888888888,
              "#fdca26"
             ],
             [
              1,
              "#f0f921"
             ]
            ],
            "type": "contour"
           }
          ],
          "contourcarpet": [
           {
            "colorbar": {
             "outlinewidth": 0,
             "ticks": ""
            },
            "type": "contourcarpet"
           }
          ],
          "heatmap": [
           {
            "colorbar": {
             "outlinewidth": 0,
             "ticks": ""
            },
            "colorscale": [
             [
              0,
              "#0d0887"
             ],
             [
              0.1111111111111111,
              "#46039f"
             ],
             [
              0.2222222222222222,
              "#7201a8"
             ],
             [
              0.3333333333333333,
              "#9c179e"
             ],
             [
              0.4444444444444444,
              "#bd3786"
             ],
             [
              0.5555555555555556,
              "#d8576b"
             ],
             [
              0.6666666666666666,
              "#ed7953"
             ],
             [
              0.7777777777777778,
              "#fb9f3a"
             ],
             [
              0.8888888888888888,
              "#fdca26"
             ],
             [
              1,
              "#f0f921"
             ]
            ],
            "type": "heatmap"
           }
          ],
          "heatmapgl": [
           {
            "colorbar": {
             "outlinewidth": 0,
             "ticks": ""
            },
            "colorscale": [
             [
              0,
              "#0d0887"
             ],
             [
              0.1111111111111111,
              "#46039f"
             ],
             [
              0.2222222222222222,
              "#7201a8"
             ],
             [
              0.3333333333333333,
              "#9c179e"
             ],
             [
              0.4444444444444444,
              "#bd3786"
             ],
             [
              0.5555555555555556,
              "#d8576b"
             ],
             [
              0.6666666666666666,
              "#ed7953"
             ],
             [
              0.7777777777777778,
              "#fb9f3a"
             ],
             [
              0.8888888888888888,
              "#fdca26"
             ],
             [
              1,
              "#f0f921"
             ]
            ],
            "type": "heatmapgl"
           }
          ],
          "histogram": [
           {
            "marker": {
             "colorbar": {
              "outlinewidth": 0,
              "ticks": ""
             }
            },
            "type": "histogram"
           }
          ],
          "histogram2d": [
           {
            "colorbar": {
             "outlinewidth": 0,
             "ticks": ""
            },
            "colorscale": [
             [
              0,
              "#0d0887"
             ],
             [
              0.1111111111111111,
              "#46039f"
             ],
             [
              0.2222222222222222,
              "#7201a8"
             ],
             [
              0.3333333333333333,
              "#9c179e"
             ],
             [
              0.4444444444444444,
              "#bd3786"
             ],
             [
              0.5555555555555556,
              "#d8576b"
             ],
             [
              0.6666666666666666,
              "#ed7953"
             ],
             [
              0.7777777777777778,
              "#fb9f3a"
             ],
             [
              0.8888888888888888,
              "#fdca26"
             ],
             [
              1,
              "#f0f921"
             ]
            ],
            "type": "histogram2d"
           }
          ],
          "histogram2dcontour": [
           {
            "colorbar": {
             "outlinewidth": 0,
             "ticks": ""
            },
            "colorscale": [
             [
              0,
              "#0d0887"
             ],
             [
              0.1111111111111111,
              "#46039f"
             ],
             [
              0.2222222222222222,
              "#7201a8"
             ],
             [
              0.3333333333333333,
              "#9c179e"
             ],
             [
              0.4444444444444444,
              "#bd3786"
             ],
             [
              0.5555555555555556,
              "#d8576b"
             ],
             [
              0.6666666666666666,
              "#ed7953"
             ],
             [
              0.7777777777777778,
              "#fb9f3a"
             ],
             [
              0.8888888888888888,
              "#fdca26"
             ],
             [
              1,
              "#f0f921"
             ]
            ],
            "type": "histogram2dcontour"
           }
          ],
          "mesh3d": [
           {
            "colorbar": {
             "outlinewidth": 0,
             "ticks": ""
            },
            "type": "mesh3d"
           }
          ],
          "parcoords": [
           {
            "line": {
             "colorbar": {
              "outlinewidth": 0,
              "ticks": ""
             }
            },
            "type": "parcoords"
           }
          ],
          "pie": [
           {
            "automargin": true,
            "type": "pie"
           }
          ],
          "scatter": [
           {
            "marker": {
             "colorbar": {
              "outlinewidth": 0,
              "ticks": ""
             }
            },
            "type": "scatter"
           }
          ],
          "scatter3d": [
           {
            "line": {
             "colorbar": {
              "outlinewidth": 0,
              "ticks": ""
             }
            },
            "marker": {
             "colorbar": {
              "outlinewidth": 0,
              "ticks": ""
             }
            },
            "type": "scatter3d"
           }
          ],
          "scattercarpet": [
           {
            "marker": {
             "colorbar": {
              "outlinewidth": 0,
              "ticks": ""
             }
            },
            "type": "scattercarpet"
           }
          ],
          "scattergeo": [
           {
            "marker": {
             "colorbar": {
              "outlinewidth": 0,
              "ticks": ""
             }
            },
            "type": "scattergeo"
           }
          ],
          "scattergl": [
           {
            "marker": {
             "colorbar": {
              "outlinewidth": 0,
              "ticks": ""
             }
            },
            "type": "scattergl"
           }
          ],
          "scattermapbox": [
           {
            "marker": {
             "colorbar": {
              "outlinewidth": 0,
              "ticks": ""
             }
            },
            "type": "scattermapbox"
           }
          ],
          "scatterpolar": [
           {
            "marker": {
             "colorbar": {
              "outlinewidth": 0,
              "ticks": ""
             }
            },
            "type": "scatterpolar"
           }
          ],
          "scatterpolargl": [
           {
            "marker": {
             "colorbar": {
              "outlinewidth": 0,
              "ticks": ""
             }
            },
            "type": "scatterpolargl"
           }
          ],
          "scatterternary": [
           {
            "marker": {
             "colorbar": {
              "outlinewidth": 0,
              "ticks": ""
             }
            },
            "type": "scatterternary"
           }
          ],
          "surface": [
           {
            "colorbar": {
             "outlinewidth": 0,
             "ticks": ""
            },
            "colorscale": [
             [
              0,
              "#0d0887"
             ],
             [
              0.1111111111111111,
              "#46039f"
             ],
             [
              0.2222222222222222,
              "#7201a8"
             ],
             [
              0.3333333333333333,
              "#9c179e"
             ],
             [
              0.4444444444444444,
              "#bd3786"
             ],
             [
              0.5555555555555556,
              "#d8576b"
             ],
             [
              0.6666666666666666,
              "#ed7953"
             ],
             [
              0.7777777777777778,
              "#fb9f3a"
             ],
             [
              0.8888888888888888,
              "#fdca26"
             ],
             [
              1,
              "#f0f921"
             ]
            ],
            "type": "surface"
           }
          ],
          "table": [
           {
            "cells": {
             "fill": {
              "color": "#EBF0F8"
             },
             "line": {
              "color": "white"
             }
            },
            "header": {
             "fill": {
              "color": "#C8D4E3"
             },
             "line": {
              "color": "white"
             }
            },
            "type": "table"
           }
          ]
         },
         "layout": {
          "annotationdefaults": {
           "arrowcolor": "#2a3f5f",
           "arrowhead": 0,
           "arrowwidth": 1
          },
          "coloraxis": {
           "colorbar": {
            "outlinewidth": 0,
            "ticks": ""
           }
          },
          "colorscale": {
           "diverging": [
            [
             0,
             "#8e0152"
            ],
            [
             0.1,
             "#c51b7d"
            ],
            [
             0.2,
             "#de77ae"
            ],
            [
             0.3,
             "#f1b6da"
            ],
            [
             0.4,
             "#fde0ef"
            ],
            [
             0.5,
             "#f7f7f7"
            ],
            [
             0.6,
             "#e6f5d0"
            ],
            [
             0.7,
             "#b8e186"
            ],
            [
             0.8,
             "#7fbc41"
            ],
            [
             0.9,
             "#4d9221"
            ],
            [
             1,
             "#276419"
            ]
           ],
           "sequential": [
            [
             0,
             "#0d0887"
            ],
            [
             0.1111111111111111,
             "#46039f"
            ],
            [
             0.2222222222222222,
             "#7201a8"
            ],
            [
             0.3333333333333333,
             "#9c179e"
            ],
            [
             0.4444444444444444,
             "#bd3786"
            ],
            [
             0.5555555555555556,
             "#d8576b"
            ],
            [
             0.6666666666666666,
             "#ed7953"
            ],
            [
             0.7777777777777778,
             "#fb9f3a"
            ],
            [
             0.8888888888888888,
             "#fdca26"
            ],
            [
             1,
             "#f0f921"
            ]
           ],
           "sequentialminus": [
            [
             0,
             "#0d0887"
            ],
            [
             0.1111111111111111,
             "#46039f"
            ],
            [
             0.2222222222222222,
             "#7201a8"
            ],
            [
             0.3333333333333333,
             "#9c179e"
            ],
            [
             0.4444444444444444,
             "#bd3786"
            ],
            [
             0.5555555555555556,
             "#d8576b"
            ],
            [
             0.6666666666666666,
             "#ed7953"
            ],
            [
             0.7777777777777778,
             "#fb9f3a"
            ],
            [
             0.8888888888888888,
             "#fdca26"
            ],
            [
             1,
             "#f0f921"
            ]
           ]
          },
          "colorway": [
           "#636efa",
           "#EF553B",
           "#00cc96",
           "#ab63fa",
           "#FFA15A",
           "#19d3f3",
           "#FF6692",
           "#B6E880",
           "#FF97FF",
           "#FECB52"
          ],
          "font": {
           "color": "#2a3f5f"
          },
          "geo": {
           "bgcolor": "white",
           "lakecolor": "white",
           "landcolor": "#E5ECF6",
           "showlakes": true,
           "showland": true,
           "subunitcolor": "white"
          },
          "hoverlabel": {
           "align": "left"
          },
          "hovermode": "closest",
          "mapbox": {
           "style": "light"
          },
          "paper_bgcolor": "white",
          "plot_bgcolor": "#E5ECF6",
          "polar": {
           "angularaxis": {
            "gridcolor": "white",
            "linecolor": "white",
            "ticks": ""
           },
           "bgcolor": "#E5ECF6",
           "radialaxis": {
            "gridcolor": "white",
            "linecolor": "white",
            "ticks": ""
           }
          },
          "scene": {
           "xaxis": {
            "backgroundcolor": "#E5ECF6",
            "gridcolor": "white",
            "gridwidth": 2,
            "linecolor": "white",
            "showbackground": true,
            "ticks": "",
            "zerolinecolor": "white"
           },
           "yaxis": {
            "backgroundcolor": "#E5ECF6",
            "gridcolor": "white",
            "gridwidth": 2,
            "linecolor": "white",
            "showbackground": true,
            "ticks": "",
            "zerolinecolor": "white"
           },
           "zaxis": {
            "backgroundcolor": "#E5ECF6",
            "gridcolor": "white",
            "gridwidth": 2,
            "linecolor": "white",
            "showbackground": true,
            "ticks": "",
            "zerolinecolor": "white"
           }
          },
          "shapedefaults": {
           "line": {
            "color": "#2a3f5f"
           }
          },
          "ternary": {
           "aaxis": {
            "gridcolor": "white",
            "linecolor": "white",
            "ticks": ""
           },
           "baxis": {
            "gridcolor": "white",
            "linecolor": "white",
            "ticks": ""
           },
           "bgcolor": "#E5ECF6",
           "caxis": {
            "gridcolor": "white",
            "linecolor": "white",
            "ticks": ""
           }
          },
          "title": {
           "x": 0.05
          },
          "xaxis": {
           "automargin": true,
           "gridcolor": "white",
           "linecolor": "white",
           "ticks": "",
           "title": {
            "standoff": 15
           },
           "zerolinecolor": "white",
           "zerolinewidth": 2
          },
          "yaxis": {
           "automargin": true,
           "gridcolor": "white",
           "linecolor": "white",
           "ticks": "",
           "title": {
            "standoff": 15
           },
           "zerolinecolor": "white",
           "zerolinewidth": 2
          }
         }
        },
        "width": 700
       },
       "_model_module_version": "1.5.0",
       "_py2js_animate": {},
       "_py2js_deleteTraces": {},
       "_py2js_moveTraces": {},
       "_py2js_removeLayoutProps": {},
       "_py2js_removeTraceProps": {},
       "_py2js_restyle": {},
       "_view_count": 0,
       "_view_module_version": "1.5.0"
      }
     },
     "ebd877c694264856bf1bf9038c74a675": {
      "buffers": [
       {
        "data": "AAAAAAAA8D8AAAAAAAAAQAAAAAAAAAhAAAAAAAAAEEAAAAAAAAD4fw==",
        "encoding": "base64",
        "path": [
         "_data",
         0,
         "y",
         "value"
        ]
       },
       {
        "data": "AAAAAAAA+H8AAAAAAAAQQAAAAAAAAAhAAAAAAAAAAEAAAAAAAADwPw==",
        "encoding": "base64",
        "path": [
         "_data",
         1,
         "y",
         "value"
        ]
       },
       {
        "data": "AAAAAAAA8D8AAAAAAAAAQAAAAAAAAPh/AAAAAAAAAEAAAAAAAADwPw==",
        "encoding": "base64",
        "path": [
         "_data",
         2,
         "y",
         "value"
        ]
       }
      ],
      "model_module": "plotlywidget",
      "model_module_version": "1.5.0",
      "model_name": "FigureModel",
      "state": {
       "_config": {
        "plotlyServerURL": "https://plot.ly"
       },
       "_data": [
        {
         "mode": "lines",
         "name": "a",
         "type": "scatter",
         "uid": "665ce6ed-f9a0-4445-9813-6c03539b599b",
         "x": [
          "2018-01-01T00:00:00.000000",
          "2018-01-02T00:00:00.000000",
          "2018-01-03T00:00:00.000000",
          "2018-01-04T00:00:00.000000",
          "2018-01-05T00:00:00.000000"
         ],
         "y": {
          "dtype": "float64",
          "shape": [
           5
          ]
         }
        },
        {
         "mode": "lines",
         "name": "b",
         "type": "scatter",
         "uid": "d62e980f-3b42-4b20-9b2d-79130205c2da",
         "x": [
          "2018-01-01T00:00:00.000000",
          "2018-01-02T00:00:00.000000",
          "2018-01-03T00:00:00.000000",
          "2018-01-04T00:00:00.000000",
          "2018-01-05T00:00:00.000000"
         ],
         "y": {
          "dtype": "float64",
          "shape": [
           5
          ]
         }
        },
        {
         "mode": "lines",
         "name": "c",
         "type": "scatter",
         "uid": "555beb43-e234-4f3c-ba76-98f68fbb8eaf",
         "x": [
          "2018-01-01T00:00:00.000000",
          "2018-01-02T00:00:00.000000",
          "2018-01-03T00:00:00.000000",
          "2018-01-04T00:00:00.000000",
          "2018-01-05T00:00:00.000000"
         ],
         "y": {
          "dtype": "float64",
          "shape": [
           5
          ]
         }
        }
       ],
       "_js2py_layoutDelta": {},
       "_js2py_pointsCallback": {},
       "_js2py_relayout": {},
       "_js2py_restyle": {},
       "_js2py_traceDeltas": {},
       "_js2py_update": {},
       "_last_layout_edit_id": 5,
       "_last_trace_edit_id": 5,
       "_layout": {
        "autosize": false,
        "colorway": [
         "#1f77b4",
         "#ff7f0e",
         "#2ca02c",
         "#d62728",
         "#9467bd",
         "#8c564b",
         "#e377c2",
         "#7f7f7f",
         "#bcbd22",
         "#17becf"
        ],
        "height": 300,
        "hovermode": "closest",
        "margin": {
         "b": 30,
         "t": 30
        },
        "showlegend": true,
        "template": {
         "data": {
          "bar": [
           {
            "error_x": {
             "color": "#2a3f5f"
            },
            "error_y": {
             "color": "#2a3f5f"
            },
            "marker": {
             "line": {
              "color": "#E5ECF6",
              "width": 0.5
             }
            },
            "type": "bar"
           }
          ],
          "barpolar": [
           {
            "marker": {
             "line": {
              "color": "#E5ECF6",
              "width": 0.5
             }
            },
            "type": "barpolar"
           }
          ],
          "carpet": [
           {
            "aaxis": {
             "endlinecolor": "#2a3f5f",
             "gridcolor": "white",
             "linecolor": "white",
             "minorgridcolor": "white",
             "startlinecolor": "#2a3f5f"
            },
            "baxis": {
             "endlinecolor": "#2a3f5f",
             "gridcolor": "white",
             "linecolor": "white",
             "minorgridcolor": "white",
             "startlinecolor": "#2a3f5f"
            },
            "type": "carpet"
           }
          ],
          "choropleth": [
           {
            "colorbar": {
             "outlinewidth": 0,
             "ticks": ""
            },
            "type": "choropleth"
           }
          ],
          "contour": [
           {
            "colorbar": {
             "outlinewidth": 0,
             "ticks": ""
            },
            "colorscale": [
             [
              0,
              "#0d0887"
             ],
             [
              0.1111111111111111,
              "#46039f"
             ],
             [
              0.2222222222222222,
              "#7201a8"
             ],
             [
              0.3333333333333333,
              "#9c179e"
             ],
             [
              0.4444444444444444,
              "#bd3786"
             ],
             [
              0.5555555555555556,
              "#d8576b"
             ],
             [
              0.6666666666666666,
              "#ed7953"
             ],
             [
              0.7777777777777778,
              "#fb9f3a"
             ],
             [
              0.8888888888888888,
              "#fdca26"
             ],
             [
              1,
              "#f0f921"
             ]
            ],
            "type": "contour"
           }
          ],
          "contourcarpet": [
           {
            "colorbar": {
             "outlinewidth": 0,
             "ticks": ""
            },
            "type": "contourcarpet"
           }
          ],
          "heatmap": [
           {
            "colorbar": {
             "outlinewidth": 0,
             "ticks": ""
            },
            "colorscale": [
             [
              0,
              "#0d0887"
             ],
             [
              0.1111111111111111,
              "#46039f"
             ],
             [
              0.2222222222222222,
              "#7201a8"
             ],
             [
              0.3333333333333333,
              "#9c179e"
             ],
             [
              0.4444444444444444,
              "#bd3786"
             ],
             [
              0.5555555555555556,
              "#d8576b"
             ],
             [
              0.6666666666666666,
              "#ed7953"
             ],
             [
              0.7777777777777778,
              "#fb9f3a"
             ],
             [
              0.8888888888888888,
              "#fdca26"
             ],
             [
              1,
              "#f0f921"
             ]
            ],
            "type": "heatmap"
           }
          ],
          "heatmapgl": [
           {
            "colorbar": {
             "outlinewidth": 0,
             "ticks": ""
            },
            "colorscale": [
             [
              0,
              "#0d0887"
             ],
             [
              0.1111111111111111,
              "#46039f"
             ],
             [
              0.2222222222222222,
              "#7201a8"
             ],
             [
              0.3333333333333333,
              "#9c179e"
             ],
             [
              0.4444444444444444,
              "#bd3786"
             ],
             [
              0.5555555555555556,
              "#d8576b"
             ],
             [
              0.6666666666666666,
              "#ed7953"
             ],
             [
              0.7777777777777778,
              "#fb9f3a"
             ],
             [
              0.8888888888888888,
              "#fdca26"
             ],
             [
              1,
              "#f0f921"
             ]
            ],
            "type": "heatmapgl"
           }
          ],
          "histogram": [
           {
            "marker": {
             "colorbar": {
              "outlinewidth": 0,
              "ticks": ""
             }
            },
            "type": "histogram"
           }
          ],
          "histogram2d": [
           {
            "colorbar": {
             "outlinewidth": 0,
             "ticks": ""
            },
            "colorscale": [
             [
              0,
              "#0d0887"
             ],
             [
              0.1111111111111111,
              "#46039f"
             ],
             [
              0.2222222222222222,
              "#7201a8"
             ],
             [
              0.3333333333333333,
              "#9c179e"
             ],
             [
              0.4444444444444444,
              "#bd3786"
             ],
             [
              0.5555555555555556,
              "#d8576b"
             ],
             [
              0.6666666666666666,
              "#ed7953"
             ],
             [
              0.7777777777777778,
              "#fb9f3a"
             ],
             [
              0.8888888888888888,
              "#fdca26"
             ],
             [
              1,
              "#f0f921"
             ]
            ],
            "type": "histogram2d"
           }
          ],
          "histogram2dcontour": [
           {
            "colorbar": {
             "outlinewidth": 0,
             "ticks": ""
            },
            "colorscale": [
             [
              0,
              "#0d0887"
             ],
             [
              0.1111111111111111,
              "#46039f"
             ],
             [
              0.2222222222222222,
              "#7201a8"
             ],
             [
              0.3333333333333333,
              "#9c179e"
             ],
             [
              0.4444444444444444,
              "#bd3786"
             ],
             [
              0.5555555555555556,
              "#d8576b"
             ],
             [
              0.6666666666666666,
              "#ed7953"
             ],
             [
              0.7777777777777778,
              "#fb9f3a"
             ],
             [
              0.8888888888888888,
              "#fdca26"
             ],
             [
              1,
              "#f0f921"
             ]
            ],
            "type": "histogram2dcontour"
           }
          ],
          "mesh3d": [
           {
            "colorbar": {
             "outlinewidth": 0,
             "ticks": ""
            },
            "type": "mesh3d"
           }
          ],
          "parcoords": [
           {
            "line": {
             "colorbar": {
              "outlinewidth": 0,
              "ticks": ""
             }
            },
            "type": "parcoords"
           }
          ],
          "pie": [
           {
            "automargin": true,
            "type": "pie"
           }
          ],
          "scatter": [
           {
            "marker": {
             "colorbar": {
              "outlinewidth": 0,
              "ticks": ""
             }
            },
            "type": "scatter"
           }
          ],
          "scatter3d": [
           {
            "line": {
             "colorbar": {
              "outlinewidth": 0,
              "ticks": ""
             }
            },
            "marker": {
             "colorbar": {
              "outlinewidth": 0,
              "ticks": ""
             }
            },
            "type": "scatter3d"
           }
          ],
          "scattercarpet": [
           {
            "marker": {
             "colorbar": {
              "outlinewidth": 0,
              "ticks": ""
             }
            },
            "type": "scattercarpet"
           }
          ],
          "scattergeo": [
           {
            "marker": {
             "colorbar": {
              "outlinewidth": 0,
              "ticks": ""
             }
            },
            "type": "scattergeo"
           }
          ],
          "scattergl": [
           {
            "marker": {
             "colorbar": {
              "outlinewidth": 0,
              "ticks": ""
             }
            },
            "type": "scattergl"
           }
          ],
          "scattermapbox": [
           {
            "marker": {
             "colorbar": {
              "outlinewidth": 0,
              "ticks": ""
             }
            },
            "type": "scattermapbox"
           }
          ],
          "scatterpolar": [
           {
            "marker": {
             "colorbar": {
              "outlinewidth": 0,
              "ticks": ""
             }
            },
            "type": "scatterpolar"
           }
          ],
          "scatterpolargl": [
           {
            "marker": {
             "colorbar": {
              "outlinewidth": 0,
              "ticks": ""
             }
            },
            "type": "scatterpolargl"
           }
          ],
          "scatterternary": [
           {
            "marker": {
             "colorbar": {
              "outlinewidth": 0,
              "ticks": ""
             }
            },
            "type": "scatterternary"
           }
          ],
          "surface": [
           {
            "colorbar": {
             "outlinewidth": 0,
             "ticks": ""
            },
            "colorscale": [
             [
              0,
              "#0d0887"
             ],
             [
              0.1111111111111111,
              "#46039f"
             ],
             [
              0.2222222222222222,
              "#7201a8"
             ],
             [
              0.3333333333333333,
              "#9c179e"
             ],
             [
              0.4444444444444444,
              "#bd3786"
             ],
             [
              0.5555555555555556,
              "#d8576b"
             ],
             [
              0.6666666666666666,
              "#ed7953"
             ],
             [
              0.7777777777777778,
              "#fb9f3a"
             ],
             [
              0.8888888888888888,
              "#fdca26"
             ],
             [
              1,
              "#f0f921"
             ]
            ],
            "type": "surface"
           }
          ],
          "table": [
           {
            "cells": {
             "fill": {
              "color": "#EBF0F8"
             },
             "line": {
              "color": "white"
             }
            },
            "header": {
             "fill": {
              "color": "#C8D4E3"
             },
             "line": {
              "color": "white"
             }
            },
            "type": "table"
           }
          ]
         },
         "layout": {
          "annotationdefaults": {
           "arrowcolor": "#2a3f5f",
           "arrowhead": 0,
           "arrowwidth": 1
          },
          "coloraxis": {
           "colorbar": {
            "outlinewidth": 0,
            "ticks": ""
           }
          },
          "colorscale": {
           "diverging": [
            [
             0,
             "#8e0152"
            ],
            [
             0.1,
             "#c51b7d"
            ],
            [
             0.2,
             "#de77ae"
            ],
            [
             0.3,
             "#f1b6da"
            ],
            [
             0.4,
             "#fde0ef"
            ],
            [
             0.5,
             "#f7f7f7"
            ],
            [
             0.6,
             "#e6f5d0"
            ],
            [
             0.7,
             "#b8e186"
            ],
            [
             0.8,
             "#7fbc41"
            ],
            [
             0.9,
             "#4d9221"
            ],
            [
             1,
             "#276419"
            ]
           ],
           "sequential": [
            [
             0,
             "#0d0887"
            ],
            [
             0.1111111111111111,
             "#46039f"
            ],
            [
             0.2222222222222222,
             "#7201a8"
            ],
            [
             0.3333333333333333,
             "#9c179e"
            ],
            [
             0.4444444444444444,
             "#bd3786"
            ],
            [
             0.5555555555555556,
             "#d8576b"
            ],
            [
             0.6666666666666666,
             "#ed7953"
            ],
            [
             0.7777777777777778,
             "#fb9f3a"
            ],
            [
             0.8888888888888888,
             "#fdca26"
            ],
            [
             1,
             "#f0f921"
            ]
           ],
           "sequentialminus": [
            [
             0,
             "#0d0887"
            ],
            [
             0.1111111111111111,
             "#46039f"
            ],
            [
             0.2222222222222222,
             "#7201a8"
            ],
            [
             0.3333333333333333,
             "#9c179e"
            ],
            [
             0.4444444444444444,
             "#bd3786"
            ],
            [
             0.5555555555555556,
             "#d8576b"
            ],
            [
             0.6666666666666666,
             "#ed7953"
            ],
            [
             0.7777777777777778,
             "#fb9f3a"
            ],
            [
             0.8888888888888888,
             "#fdca26"
            ],
            [
             1,
             "#f0f921"
            ]
           ]
          },
          "colorway": [
           "#636efa",
           "#EF553B",
           "#00cc96",
           "#ab63fa",
           "#FFA15A",
           "#19d3f3",
           "#FF6692",
           "#B6E880",
           "#FF97FF",
           "#FECB52"
          ],
          "font": {
           "color": "#2a3f5f"
          },
          "geo": {
           "bgcolor": "white",
           "lakecolor": "white",
           "landcolor": "#E5ECF6",
           "showlakes": true,
           "showland": true,
           "subunitcolor": "white"
          },
          "hoverlabel": {
           "align": "left"
          },
          "hovermode": "closest",
          "mapbox": {
           "style": "light"
          },
          "paper_bgcolor": "white",
          "plot_bgcolor": "#E5ECF6",
          "polar": {
           "angularaxis": {
            "gridcolor": "white",
            "linecolor": "white",
            "ticks": ""
           },
           "bgcolor": "#E5ECF6",
           "radialaxis": {
            "gridcolor": "white",
            "linecolor": "white",
            "ticks": ""
           }
          },
          "scene": {
           "xaxis": {
            "backgroundcolor": "#E5ECF6",
            "gridcolor": "white",
            "gridwidth": 2,
            "linecolor": "white",
            "showbackground": true,
            "ticks": "",
            "zerolinecolor": "white"
           },
           "yaxis": {
            "backgroundcolor": "#E5ECF6",
            "gridcolor": "white",
            "gridwidth": 2,
            "linecolor": "white",
            "showbackground": true,
            "ticks": "",
            "zerolinecolor": "white"
           },
           "zaxis": {
            "backgroundcolor": "#E5ECF6",
            "gridcolor": "white",
            "gridwidth": 2,
            "linecolor": "white",
            "showbackground": true,
            "ticks": "",
            "zerolinecolor": "white"
           }
          },
          "shapedefaults": {
           "line": {
            "color": "#2a3f5f"
           }
          },
          "ternary": {
           "aaxis": {
            "gridcolor": "white",
            "linecolor": "white",
            "ticks": ""
           },
           "baxis": {
            "gridcolor": "white",
            "linecolor": "white",
            "ticks": ""
           },
           "bgcolor": "#E5ECF6",
           "caxis": {
            "gridcolor": "white",
            "linecolor": "white",
            "ticks": ""
           }
          },
          "title": {
           "x": 0.05
          },
          "xaxis": {
           "automargin": true,
           "gridcolor": "white",
           "linecolor": "white",
           "ticks": "",
           "title": {
            "standoff": 15
           },
           "zerolinecolor": "white",
           "zerolinewidth": 2
          },
          "yaxis": {
           "automargin": true,
           "gridcolor": "white",
           "linecolor": "white",
           "ticks": "",
           "title": {
            "standoff": 15
           },
           "zerolinecolor": "white",
           "zerolinewidth": 2
          }
         }
        },
        "width": 700
       },
       "_model_module_version": "1.5.0",
       "_py2js_animate": {},
       "_py2js_deleteTraces": {},
       "_py2js_moveTraces": {},
       "_py2js_removeLayoutProps": {},
       "_py2js_removeTraceProps": {},
       "_py2js_restyle": {},
       "_view_count": 0,
       "_view_module_version": "1.5.0"
      }
     }
    },
    "version_major": 2,
    "version_minor": 0
   }
  }
 },
 "nbformat": 4,
 "nbformat_minor": 4
}
