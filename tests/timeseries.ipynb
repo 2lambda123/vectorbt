{
 "cells": [
  {
   "cell_type": "markdown",
   "metadata": {},
   "source": [
    "# timeseries"
   ]
  },
  {
   "cell_type": "code",
   "execution_count": 1,
   "metadata": {},
   "outputs": [],
   "source": [
    "import vectorbt as vbt"
   ]
  },
  {
   "cell_type": "code",
   "execution_count": 2,
   "metadata": {
    "Collapsed": "false"
   },
   "outputs": [],
   "source": [
    "import numpy as np\n",
    "import pandas as pd\n",
    "from datetime import datetime, timedelta\n",
    "from numba import njit, f8, i8, b1, optional"
   ]
  },
  {
   "cell_type": "code",
   "execution_count": 3,
   "metadata": {},
   "outputs": [
    {
     "name": "stdout",
     "output_type": "stream",
     "text": [
      "              a    b    c\n",
      "2018-01-01  1.0  NaN  1.0\n",
      "2018-01-02  2.0  4.0  2.0\n",
      "2018-01-03  3.0  3.0  NaN\n",
      "2018-01-04  4.0  2.0  2.0\n",
      "2018-01-05  NaN  1.0  1.0\n"
     ]
    }
   ],
   "source": [
    "index = pd.Index([\n",
    "    datetime(2018, 1, 1),\n",
    "    datetime(2018, 1, 2),\n",
    "    datetime(2018, 1, 3),\n",
    "    datetime(2018, 1, 4),\n",
    "    datetime(2018, 1, 5)\n",
    "])\n",
    "columns = ['a', 'b', 'c']\n",
    "ts = pd.DataFrame({\n",
    "    'a': [1, 2, 3, 4, np.nan], \n",
    "    'b': [np.nan, 4, 3, 2, 1],\n",
    "    'c': [1, 2, np.nan, 2, 1]}, index=index).astype(np.float32)\n",
    "\n",
    "print(ts)"
   ]
  },
  {
   "cell_type": "code",
   "execution_count": 4,
   "metadata": {},
   "outputs": [
    {
     "data": {
      "text/plain": [
       "(1000, 1000)"
      ]
     },
     "execution_count": 4,
     "metadata": {},
     "output_type": "execute_result"
    }
   ],
   "source": [
    "big_ts = pd.DataFrame(np.random.randint(10, size=(1000, 1000)).astype(float))\n",
    "big_ts.index = [datetime(2018, 1, 1) + timedelta(days=i) for i in range(1000)]\n",
    "big_ts.shape"
   ]
  },
  {
   "cell_type": "code",
   "execution_count": 5,
   "metadata": {
    "Collapsed": "false"
   },
   "outputs": [
    {
     "name": "stdout",
     "output_type": "stream",
     "text": [
      "              a    b    c\n",
      "2018-01-01  1.0 -1.0  1.0\n",
      "2018-01-02  2.0  4.0  2.0\n",
      "2018-01-03  3.0  3.0 -1.0\n",
      "2018-01-04  4.0  2.0  2.0\n",
      "2018-01-05 -1.0  1.0  1.0\n",
      "6.01 ms ± 82.3 µs per loop (mean ± std. dev. of 7 runs, 100 loops each)\n",
      "              a    b    c\n",
      "2018-01-01  1.0 -1.0  1.0\n",
      "2018-01-02  2.0  4.0  2.0\n",
      "2018-01-03  3.0  3.0 -1.0\n",
      "2018-01-04  4.0  2.0  2.0\n",
      "2018-01-05 -1.0  1.0  1.0\n",
      "4.05 ms ± 57.9 µs per loop (mean ± std. dev. of 7 runs, 100 loops each)\n"
     ]
    }
   ],
   "source": [
    "print(ts.fillna(-1))\n",
    "%timeit big_ts.fillna(-1)\n",
    "\n",
    "print(ts.vbt.timeseries.fillna(-1))\n",
    "%timeit big_ts.vbt.timeseries.fillna(-1)"
   ]
  },
  {
   "cell_type": "code",
   "execution_count": 6,
   "metadata": {
    "Collapsed": "false"
   },
   "outputs": [
    {
     "name": "stdout",
     "output_type": "stream",
     "text": [
      "              a    b    c\n",
      "2018-01-01  NaN  NaN  NaN\n",
      "2018-01-02  NaN  NaN  NaN\n",
      "2018-01-03  NaN  NaN  NaN\n",
      "2018-01-04  1.0  NaN  1.0\n",
      "2018-01-05  2.0  4.0  2.0\n",
      "2.41 ms ± 36.1 µs per loop (mean ± std. dev. of 7 runs, 100 loops each)\n",
      "              a    b    c\n",
      "2018-01-01  NaN  NaN  NaN\n",
      "2018-01-02  NaN  NaN  NaN\n",
      "2018-01-03  NaN  NaN  NaN\n",
      "2018-01-04  1.0  NaN  1.0\n",
      "2018-01-05  2.0  4.0  2.0\n",
      "2.51 ms ± 269 µs per loop (mean ± std. dev. of 7 runs, 1 loop each)\n"
     ]
    }
   ],
   "source": [
    "print(ts.shift(3))\n",
    "%timeit big_ts.shift(3)\n",
    "\n",
    "print(ts.vbt.timeseries.fshift(3))\n",
    "%timeit big_ts.vbt.timeseries.fshift(3)"
   ]
  },
  {
   "cell_type": "code",
   "execution_count": 7,
   "metadata": {},
   "outputs": [
    {
     "name": "stdout",
     "output_type": "stream",
     "text": [
      "              a    b    c\n",
      "2018-01-01  NaN  NaN  NaN\n",
      "2018-01-02  1.0  NaN  1.0\n",
      "2018-01-03  1.0 -1.0  NaN\n",
      "2018-01-04  1.0 -1.0  NaN\n",
      "2018-01-05  NaN -1.0 -1.0\n",
      "4.82 ms ± 62.8 µs per loop (mean ± std. dev. of 7 runs, 100 loops each)\n",
      "              a    b    c\n",
      "2018-01-01  NaN  NaN  NaN\n",
      "2018-01-02  1.0  NaN  1.0\n",
      "2018-01-03  1.0 -1.0  NaN\n",
      "2018-01-04  1.0 -1.0  NaN\n",
      "2018-01-05  NaN -1.0 -1.0\n",
      "4.78 ms ± 50 µs per loop (mean ± std. dev. of 7 runs, 100 loops each)\n"
     ]
    }
   ],
   "source": [
    "print(ts.diff())\n",
    "%timeit big_ts.diff()\n",
    "\n",
    "print(ts.vbt.timeseries.diff())\n",
    "%timeit big_ts.vbt.timeseries.diff()"
   ]
  },
  {
   "cell_type": "code",
   "execution_count": 8,
   "metadata": {
    "Collapsed": "false"
   },
   "outputs": [
    {
     "name": "stdout",
     "output_type": "stream",
     "text": [
      "                   a         b    c\n",
      "2018-01-01       NaN       NaN  NaN\n",
      "2018-01-02  1.000000       NaN  1.0\n",
      "2018-01-03  0.500000 -0.250000  0.0\n",
      "2018-01-04  0.333333 -0.333333  0.0\n",
      "2018-01-05  0.000000 -0.500000 -0.5\n",
      "269 ms ± 4.25 ms per loop (mean ± std. dev. of 7 runs, 1 loop each)\n",
      "                   a         b    c\n",
      "2018-01-01       NaN       NaN  NaN\n",
      "2018-01-02  1.000000       NaN  1.0\n",
      "2018-01-03  0.500000 -0.250000  NaN\n",
      "2018-01-04  0.333333 -0.333333  NaN\n",
      "2018-01-05       NaN -0.500000 -0.5\n",
      "5.31 ms ± 92.8 µs per loop (mean ± std. dev. of 7 runs, 100 loops each)\n"
     ]
    }
   ],
   "source": [
    "print(ts.pct_change())\n",
    "%timeit big_ts.pct_change()\n",
    "\n",
    "print(ts.vbt.timeseries.pct_change())\n",
    "%timeit big_ts.vbt.timeseries.pct_change()"
   ]
  },
  {
   "cell_type": "code",
   "execution_count": 9,
   "metadata": {
    "Collapsed": "false"
   },
   "outputs": [
    {
     "name": "stdout",
     "output_type": "stream",
     "text": [
      "              a    b    c\n",
      "2018-01-01  1.0  NaN  1.0\n",
      "2018-01-02  2.0  4.0  2.0\n",
      "2018-01-03  3.0  3.0  2.0\n",
      "2018-01-04  4.0  2.0  2.0\n",
      "2018-01-05  4.0  1.0  1.0\n",
      "5.71 ms ± 85.9 µs per loop (mean ± std. dev. of 7 runs, 100 loops each)\n",
      "              a    b    c\n",
      "2018-01-01  1.0  NaN  1.0\n",
      "2018-01-02  2.0  4.0  2.0\n",
      "2018-01-03  3.0  3.0  2.0\n",
      "2018-01-04  4.0  2.0  2.0\n",
      "2018-01-05  4.0  1.0  1.0\n",
      "7.94 ms ± 105 µs per loop (mean ± std. dev. of 7 runs, 1 loop each)\n"
     ]
    }
   ],
   "source": [
    "print(ts.ffill())\n",
    "%timeit big_ts.ffill()\n",
    "\n",
    "print(ts.vbt.timeseries.ffill())\n",
    "%timeit big_ts.vbt.timeseries.ffill()"
   ]
  },
  {
   "cell_type": "code",
   "execution_count": 10,
   "metadata": {},
   "outputs": [
    {
     "data": {
      "text/html": [
       "<div>\n",
       "<style scoped>\n",
       "    .dataframe tbody tr th:only-of-type {\n",
       "        vertical-align: middle;\n",
       "    }\n",
       "\n",
       "    .dataframe tbody tr th {\n",
       "        vertical-align: top;\n",
       "    }\n",
       "\n",
       "    .dataframe thead th {\n",
       "        text-align: right;\n",
       "    }\n",
       "</style>\n",
       "<table border=\"1\" class=\"dataframe\">\n",
       "  <thead>\n",
       "    <tr style=\"text-align: right;\">\n",
       "      <th></th>\n",
       "      <th>a</th>\n",
       "      <th>b</th>\n",
       "      <th>c</th>\n",
       "    </tr>\n",
       "  </thead>\n",
       "  <tbody>\n",
       "    <tr>\n",
       "      <th>2018-01-01</th>\n",
       "      <td>1.0</td>\n",
       "      <td>NaN</td>\n",
       "      <td>1.0</td>\n",
       "    </tr>\n",
       "    <tr>\n",
       "      <th>2018-01-02</th>\n",
       "      <td>2.0</td>\n",
       "      <td>4.0</td>\n",
       "      <td>2.0</td>\n",
       "    </tr>\n",
       "    <tr>\n",
       "      <th>2018-01-03</th>\n",
       "      <td>3.0</td>\n",
       "      <td>3.0</td>\n",
       "      <td>NaN</td>\n",
       "    </tr>\n",
       "    <tr>\n",
       "      <th>2018-01-04</th>\n",
       "      <td>4.0</td>\n",
       "      <td>2.0</td>\n",
       "      <td>2.0</td>\n",
       "    </tr>\n",
       "    <tr>\n",
       "      <th>2018-01-05</th>\n",
       "      <td>NaN</td>\n",
       "      <td>1.0</td>\n",
       "      <td>1.0</td>\n",
       "    </tr>\n",
       "  </tbody>\n",
       "</table>\n",
       "</div>"
      ],
      "text/plain": [
       "              a    b    c\n",
       "2018-01-01  1.0  NaN  1.0\n",
       "2018-01-02  2.0  4.0  2.0\n",
       "2018-01-03  3.0  3.0  NaN\n",
       "2018-01-04  4.0  2.0  2.0\n",
       "2018-01-05  NaN  1.0  1.0"
      ]
     },
     "execution_count": 10,
     "metadata": {},
     "output_type": "execute_result"
    }
   ],
   "source": [
    "ts"
   ]
  },
  {
   "cell_type": "code",
   "execution_count": 11,
   "metadata": {},
   "outputs": [
    {
     "name": "stdout",
     "output_type": "stream",
     "text": [
      "               a     b    c\n",
      "2018-01-01   1.0   NaN  1.0\n",
      "2018-01-02   3.0   4.0  3.0\n",
      "2018-01-03   6.0   7.0  NaN\n",
      "2018-01-04  10.0   9.0  5.0\n",
      "2018-01-05   NaN  10.0  6.0\n",
      "11.8 ms ± 182 µs per loop (mean ± std. dev. of 7 runs, 100 loops each)\n",
      "               a     b    c\n",
      "2018-01-01   1.0   NaN  1.0\n",
      "2018-01-02   3.0   4.0  3.0\n",
      "2018-01-03   6.0   7.0  NaN\n",
      "2018-01-04  10.0   9.0  5.0\n",
      "2018-01-05   NaN  10.0  6.0\n",
      "8.72 ms ± 269 µs per loop (mean ± std. dev. of 7 runs, 1 loop each)\n"
     ]
    }
   ],
   "source": [
    "print(ts.cumsum())\n",
    "%timeit big_ts.cumsum()\n",
    "\n",
    "print(ts.vbt.timeseries.cumsum())\n",
    "%timeit big_ts.vbt.timeseries.cumsum()"
   ]
  },
  {
   "cell_type": "code",
   "execution_count": 12,
   "metadata": {},
   "outputs": [
    {
     "name": "stdout",
     "output_type": "stream",
     "text": [
      "               a     b    c\n",
      "2018-01-01   1.0   NaN  1.0\n",
      "2018-01-02   2.0   4.0  2.0\n",
      "2018-01-03   6.0  12.0  NaN\n",
      "2018-01-04  24.0  24.0  4.0\n",
      "2018-01-05   NaN  24.0  4.0\n",
      "11.9 ms ± 170 µs per loop (mean ± std. dev. of 7 runs, 100 loops each)\n",
      "               a     b    c\n",
      "2018-01-01   1.0   NaN  1.0\n",
      "2018-01-02   2.0   4.0  2.0\n",
      "2018-01-03   6.0  12.0  NaN\n",
      "2018-01-04  24.0  24.0  4.0\n",
      "2018-01-05   NaN  24.0  4.0\n",
      "8.91 ms ± 293 µs per loop (mean ± std. dev. of 7 runs, 1 loop each)\n"
     ]
    }
   ],
   "source": [
    "print(ts.cumprod())\n",
    "%timeit big_ts.cumprod()\n",
    "\n",
    "print(ts.vbt.timeseries.cumprod())\n",
    "%timeit big_ts.vbt.timeseries.cumprod()"
   ]
  },
  {
   "cell_type": "code",
   "execution_count": 13,
   "metadata": {},
   "outputs": [
    {
     "name": "stdout",
     "output_type": "stream",
     "text": [
      "              a    b    c\n",
      "2018-01-01  NaN  NaN  NaN\n",
      "2018-01-02  1.0  NaN  1.0\n",
      "2018-01-03  2.0  3.0  NaN\n",
      "2018-01-04  3.0  2.0  NaN\n",
      "2018-01-05  NaN  1.0  1.0\n",
      "43.8 ms ± 1.21 ms per loop (mean ± std. dev. of 7 runs, 10 loops each)\n",
      "              a    b    c\n",
      "2018-01-01  NaN  NaN  NaN\n",
      "2018-01-02  1.0  NaN  1.0\n",
      "2018-01-03  2.0  3.0  NaN\n",
      "2018-01-04  3.0  2.0  NaN\n",
      "2018-01-05  NaN  1.0  1.0\n",
      "14.5 ms ± 711 µs per loop (mean ± std. dev. of 7 runs, 1 loop each)\n"
     ]
    }
   ],
   "source": [
    "print(ts.rolling(2).min())\n",
    "%timeit big_ts.rolling(2).min()\n",
    "\n",
    "print(ts.vbt.timeseries.rolling_min(2))\n",
    "%timeit big_ts.vbt.timeseries.rolling_min(2)"
   ]
  },
  {
   "cell_type": "code",
   "execution_count": 14,
   "metadata": {},
   "outputs": [
    {
     "name": "stdout",
     "output_type": "stream",
     "text": [
      "              a    b    c\n",
      "2018-01-01  NaN  NaN  NaN\n",
      "2018-01-02  2.0  NaN  2.0\n",
      "2018-01-03  3.0  4.0  NaN\n",
      "2018-01-04  4.0  3.0  NaN\n",
      "2018-01-05  NaN  2.0  2.0\n",
      "41.6 ms ± 1.09 ms per loop (mean ± std. dev. of 7 runs, 10 loops each)\n",
      "              a    b    c\n",
      "2018-01-01  NaN  NaN  NaN\n",
      "2018-01-02  2.0  NaN  2.0\n",
      "2018-01-03  3.0  4.0  NaN\n",
      "2018-01-04  4.0  3.0  NaN\n",
      "2018-01-05  NaN  2.0  2.0\n",
      "13.9 ms ± 215 µs per loop (mean ± std. dev. of 7 runs, 1 loop each)\n"
     ]
    }
   ],
   "source": [
    "print(ts.rolling(2).max())\n",
    "%timeit big_ts.rolling(2).max()\n",
    "\n",
    "print(ts.vbt.timeseries.rolling_max(2))\n",
    "%timeit big_ts.vbt.timeseries.rolling_max(2)"
   ]
  },
  {
   "cell_type": "code",
   "execution_count": 15,
   "metadata": {
    "Collapsed": "false"
   },
   "outputs": [
    {
     "name": "stdout",
     "output_type": "stream",
     "text": [
      "              a    b    c\n",
      "2018-01-01  NaN  NaN  NaN\n",
      "2018-01-02  1.5  NaN  1.5\n",
      "2018-01-03  2.5  3.5  NaN\n",
      "2018-01-04  3.5  2.5  NaN\n",
      "2018-01-05  NaN  1.5  1.5\n",
      "30 ms ± 1.25 ms per loop (mean ± std. dev. of 7 runs, 10 loops each)\n",
      "              a    b    c\n",
      "2018-01-01  NaN  NaN  NaN\n",
      "2018-01-02  1.5  NaN  1.5\n",
      "2018-01-03  2.5  3.5  NaN\n",
      "2018-01-04  3.5  2.5  NaN\n",
      "2018-01-05  NaN  1.5  1.5\n",
      "14.4 ms ± 314 µs per loop (mean ± std. dev. of 7 runs, 1 loop each)\n"
     ]
    }
   ],
   "source": [
    "print(ts.rolling(2).mean())\n",
    "%timeit big_ts.rolling(2).mean()\n",
    "\n",
    "print(ts.vbt.timeseries.rolling_mean(2))\n",
    "%timeit big_ts.vbt.timeseries.rolling_mean(2)"
   ]
  },
  {
   "cell_type": "code",
   "execution_count": 16,
   "metadata": {},
   "outputs": [
    {
     "name": "stdout",
     "output_type": "stream",
     "text": [
      "                   a         b         c\n",
      "2018-01-01       NaN       NaN       NaN\n",
      "2018-01-02  0.707107       NaN  0.707107\n",
      "2018-01-03  0.707107  0.707107       NaN\n",
      "2018-01-04  0.707107  0.707107       NaN\n",
      "2018-01-05       NaN  0.707107  0.707107\n",
      "54.5 ms ± 768 µs per loop (mean ± std. dev. of 7 runs, 10 loops each)\n",
      "                   a         b         c\n",
      "2018-01-01       NaN       NaN       NaN\n",
      "2018-01-02  0.707107       NaN  0.707107\n",
      "2018-01-03  0.707107  0.707107       NaN\n",
      "2018-01-04  0.707107  0.707107       NaN\n",
      "2018-01-05       NaN  0.707107  0.707107\n",
      "17 ms ± 253 µs per loop (mean ± std. dev. of 7 runs, 1 loop each)\n"
     ]
    }
   ],
   "source": [
    "print(ts.rolling(2).std())\n",
    "%timeit big_ts.rolling(2).std()\n",
    "\n",
    "print(ts.vbt.timeseries.rolling_std(2))\n",
    "%timeit big_ts.vbt.timeseries.rolling_std(2)"
   ]
  },
  {
   "cell_type": "code",
   "execution_count": 17,
   "metadata": {
    "Collapsed": "false"
   },
   "outputs": [
    {
     "name": "stdout",
     "output_type": "stream",
     "text": [
      "                   a         b         c\n",
      "2018-01-01       NaN       NaN       NaN\n",
      "2018-01-02  1.750000       NaN  1.750000\n",
      "2018-01-03  2.615385  3.250000  1.750000\n",
      "2018-01-04  3.550000  2.384615  1.967742\n",
      "2018-01-05  3.550000  1.450000  1.267857\n",
      "85.6 ms ± 1.6 ms per loop (mean ± std. dev. of 7 runs, 10 loops each)\n",
      "                   a         b         c\n",
      "2018-01-01       NaN       NaN       NaN\n",
      "2018-01-02  1.750000       NaN  1.750000\n",
      "2018-01-03  2.615385  3.250000  1.750000\n",
      "2018-01-04  3.550000  2.384615  1.967742\n",
      "2018-01-05  3.550000  1.450000  1.267857\n",
      "13.3 ms ± 265 µs per loop (mean ± std. dev. of 7 runs, 1 loop each)\n"
     ]
    }
   ],
   "source": [
    "print(ts.ewm(span=2, min_periods=2).mean())\n",
    "%timeit big_ts.ewm(span=2, min_periods=2).mean()\n",
    "\n",
    "print(ts.vbt.timeseries.ewm_mean(2))\n",
    "%timeit big_ts.vbt.timeseries.ewm_mean(2)"
   ]
  },
  {
   "cell_type": "code",
   "execution_count": 18,
   "metadata": {},
   "outputs": [
    {
     "name": "stdout",
     "output_type": "stream",
     "text": [
      "                   a         b         c\n",
      "2018-01-01       NaN       NaN       NaN\n",
      "2018-01-02  0.707107       NaN  0.707107\n",
      "2018-01-03  0.919866  0.707107  0.707107\n",
      "2018-01-04  1.059753  0.919866  0.367607\n",
      "2018-01-05  1.059753  1.059753  0.684914\n",
      "471 ms ± 8.68 ms per loop (mean ± std. dev. of 7 runs, 1 loop each)\n",
      "                   a         b         c\n",
      "2018-01-01       NaN       NaN       NaN\n",
      "2018-01-02  0.707107       NaN  0.707107\n",
      "2018-01-03  0.919866  0.707107  0.707107\n",
      "2018-01-04  1.059753  0.919866  0.367607\n",
      "2018-01-05  1.059753  1.059753  0.684914\n",
      "23.3 ms ± 780 µs per loop (mean ± std. dev. of 7 runs, 1 loop each)\n"
     ]
    }
   ],
   "source": [
    "print(ts.ewm(span=2, min_periods=2).std())\n",
    "%timeit big_ts.ewm(span=2, min_periods=2).std()\n",
    "\n",
    "print(ts.vbt.timeseries.ewm_std(2))\n",
    "%timeit big_ts.vbt.timeseries.ewm_std(2)"
   ]
  },
  {
   "cell_type": "code",
   "execution_count": 19,
   "metadata": {},
   "outputs": [
    {
     "name": "stdout",
     "output_type": "stream",
     "text": [
      "              a    b    c\n",
      "2018-01-01  1.0  NaN  1.0\n",
      "2018-01-02  1.0  4.0  1.0\n",
      "2018-01-03  1.0  3.0  1.0\n",
      "2018-01-04  1.0  2.0  1.0\n",
      "2018-01-05  1.0  1.0  1.0\n",
      "46 ms ± 319 µs per loop (mean ± std. dev. of 7 runs, 10 loops each)\n",
      "              a    b    c\n",
      "2018-01-01  1.0  NaN  1.0\n",
      "2018-01-02  1.0  4.0  1.0\n",
      "2018-01-03  1.0  3.0  1.0\n",
      "2018-01-04  1.0  2.0  1.0\n",
      "2018-01-05  1.0  1.0  1.0\n",
      "8.98 ms ± 523 µs per loop (mean ± std. dev. of 7 runs, 1 loop each)\n"
     ]
    }
   ],
   "source": [
    "print(ts.expanding().min())\n",
    "%timeit big_ts.expanding().min()\n",
    "\n",
    "print(ts.vbt.timeseries.expanding_min())\n",
    "%timeit big_ts.vbt.timeseries.expanding_min()"
   ]
  },
  {
   "cell_type": "code",
   "execution_count": 20,
   "metadata": {},
   "outputs": [
    {
     "name": "stdout",
     "output_type": "stream",
     "text": [
      "              a    b    c\n",
      "2018-01-01  1.0  NaN  1.0\n",
      "2018-01-02  2.0  4.0  2.0\n",
      "2018-01-03  3.0  4.0  2.0\n",
      "2018-01-04  4.0  4.0  2.0\n",
      "2018-01-05  4.0  4.0  2.0\n",
      "46 ms ± 771 µs per loop (mean ± std. dev. of 7 runs, 10 loops each)\n",
      "              a    b    c\n",
      "2018-01-01  1.0  NaN  1.0\n",
      "2018-01-02  2.0  4.0  2.0\n",
      "2018-01-03  3.0  4.0  2.0\n",
      "2018-01-04  4.0  4.0  2.0\n",
      "2018-01-05  4.0  4.0  2.0\n",
      "9.61 ms ± 847 µs per loop (mean ± std. dev. of 7 runs, 1 loop each)\n"
     ]
    }
   ],
   "source": [
    "print(ts.expanding().max())\n",
    "%timeit big_ts.expanding().max()\n",
    "\n",
    "print(ts.vbt.timeseries.expanding_max())\n",
    "%timeit big_ts.vbt.timeseries.expanding_max()"
   ]
  },
  {
   "cell_type": "code",
   "execution_count": 21,
   "metadata": {},
   "outputs": [
    {
     "name": "stdout",
     "output_type": "stream",
     "text": [
      "              a    b         c\n",
      "2018-01-01  1.0  NaN  1.000000\n",
      "2018-01-02  1.5  4.0  1.500000\n",
      "2018-01-03  2.0  3.5  1.500000\n",
      "2018-01-04  2.5  3.0  1.666667\n",
      "2018-01-05  2.5  2.5  1.500000\n",
      "28.9 ms ± 419 µs per loop (mean ± std. dev. of 7 runs, 10 loops each)\n",
      "              a    b         c\n",
      "2018-01-01  1.0  NaN  1.000000\n",
      "2018-01-02  1.5  4.0  1.500000\n",
      "2018-01-03  2.0  3.5  1.500000\n",
      "2018-01-04  2.5  3.0  1.666667\n",
      "2018-01-05  2.5  2.5  1.500000\n",
      "14.7 ms ± 326 µs per loop (mean ± std. dev. of 7 runs, 1 loop each)\n"
     ]
    }
   ],
   "source": [
    "print(ts.expanding().mean())\n",
    "%timeit big_ts.expanding().mean()\n",
    "\n",
    "print(ts.vbt.timeseries.expanding_mean())\n",
    "%timeit big_ts.vbt.timeseries.expanding_mean()"
   ]
  },
  {
   "cell_type": "code",
   "execution_count": 22,
   "metadata": {},
   "outputs": [
    {
     "name": "stdout",
     "output_type": "stream",
     "text": [
      "                   a         b         c\n",
      "2018-01-01       NaN       NaN       NaN\n",
      "2018-01-02  0.707107       NaN  0.707107\n",
      "2018-01-03  1.000000  0.707107  0.707107\n",
      "2018-01-04  1.290994  1.000000  0.577350\n",
      "2018-01-05  1.290994  1.290994  0.577350\n",
      "55.9 ms ± 1.05 ms per loop (mean ± std. dev. of 7 runs, 10 loops each)\n",
      "                   a         b         c\n",
      "2018-01-01       NaN       NaN       NaN\n",
      "2018-01-02  0.707107       NaN  0.707107\n",
      "2018-01-03  1.000000  0.707107  0.707107\n",
      "2018-01-04  1.290994  1.000000  0.577350\n",
      "2018-01-05  1.290994  1.290994  0.577350\n",
      "16.7 ms ± 461 µs per loop (mean ± std. dev. of 7 runs, 1 loop each)\n"
     ]
    }
   ],
   "source": [
    "print(ts.expanding().std())\n",
    "%timeit big_ts.expanding().std()\n",
    "\n",
    "print(ts.vbt.timeseries.expanding_std())\n",
    "%timeit big_ts.vbt.timeseries.expanding_std()"
   ]
  },
  {
   "cell_type": "code",
   "execution_count": 23,
   "metadata": {},
   "outputs": [],
   "source": [
    "pd_nanmean_nb = njit(lambda x: np.nanmean(x))\n",
    "nanmean_nb = njit(lambda col, i, x: np.nanmean(x))\n",
    "nanmean_matrix_nb = njit(lambda i, x: np.nanmean(x))"
   ]
  },
  {
   "cell_type": "code",
   "execution_count": 24,
   "metadata": {},
   "outputs": [
    {
     "name": "stdout",
     "output_type": "stream",
     "text": [
      "              a    b    c\n",
      "2018-01-01  1.0  NaN  1.0\n",
      "2018-01-02  1.5  4.0  1.5\n",
      "2018-01-03  2.5  3.5  2.0\n",
      "2018-01-04  3.5  2.5  2.0\n",
      "2018-01-05  4.0  1.5  1.5\n",
      "404 ms ± 5.7 ms per loop (mean ± std. dev. of 7 runs, 1 loop each)\n",
      "              a    b    c\n",
      "2018-01-01  1.0  NaN  1.0\n",
      "2018-01-02  1.5  4.0  1.5\n",
      "2018-01-03  2.5  3.5  2.0\n",
      "2018-01-04  3.5  2.5  2.0\n",
      "2018-01-05  4.0  1.5  1.5\n",
      "60.6 ms ± 576 µs per loop (mean ± std. dev. of 7 runs, 1 loop each)\n",
      "                   a         b         c\n",
      "2018-01-01  1.000000  1.000000  1.000000\n",
      "2018-01-02  2.000000  2.000000  2.000000\n",
      "2018-01-03  2.285714  2.285714  2.285714\n",
      "2018-01-04  2.750000  2.750000  2.750000\n",
      "2018-01-05  2.285714  2.285714  2.285714\n",
      "6.97 ms ± 136 µs per loop (mean ± std. dev. of 7 runs, 1 loop each)\n"
     ]
    }
   ],
   "source": [
    "print(ts.rolling(2, min_periods=1).apply(pd_nanmean_nb, raw=True))\n",
    "%timeit big_ts.rolling(2, min_periods=1).apply(pd_nanmean_nb, raw=True)\n",
    "\n",
    "print(ts.vbt.timeseries.rolling_apply(2, nanmean_nb))\n",
    "%timeit big_ts.vbt.timeseries.rolling_apply(2, nanmean_nb)\n",
    "\n",
    "print(ts.vbt.timeseries.rolling_apply(3, nanmean_matrix_nb, on_matrix=True))\n",
    "%timeit big_ts.vbt.timeseries.rolling_apply(3, nanmean_matrix_nb, on_matrix=True)"
   ]
  },
  {
   "cell_type": "code",
   "execution_count": 25,
   "metadata": {},
   "outputs": [
    {
     "name": "stdout",
     "output_type": "stream",
     "text": [
      "              a    b         c\n",
      "2018-01-01  1.0  NaN  1.000000\n",
      "2018-01-02  1.5  4.0  1.500000\n",
      "2018-01-03  2.0  3.5  1.500000\n",
      "2018-01-04  2.5  3.0  1.666667\n",
      "2018-01-05  2.5  2.5  1.500000\n",
      "1.44 s ± 9.74 ms per loop (mean ± std. dev. of 7 runs, 1 loop each)\n",
      "              a    b         c\n",
      "2018-01-01  1.0  NaN  1.000000\n",
      "2018-01-02  1.5  4.0  1.500000\n",
      "2018-01-03  2.0  3.5  1.500000\n",
      "2018-01-04  2.5  3.0  1.666667\n",
      "2018-01-05  2.5  2.5  1.500000\n",
      "855 ms ± 5.82 ms per loop (mean ± std. dev. of 7 runs, 1 loop each)\n",
      "                   a         b         c\n",
      "2018-01-01  1.000000  1.000000  1.000000\n",
      "2018-01-02  2.000000  2.000000  2.000000\n",
      "2018-01-03  2.285714  2.285714  2.285714\n",
      "2018-01-04  2.400000  2.400000  2.400000\n",
      "2018-01-05  2.166667  2.166667  2.166667\n",
      "830 ms ± 5.99 ms per loop (mean ± std. dev. of 7 runs, 1 loop each)\n"
     ]
    }
   ],
   "source": [
    "print(ts.expanding(min_periods=1).apply(pd_nanmean_nb, raw=True))\n",
    "%timeit big_ts.expanding(min_periods=1).apply(pd_nanmean_nb, raw=True)\n",
    "\n",
    "print(ts.vbt.timeseries.expanding_apply(nanmean_nb))\n",
    "%timeit big_ts.vbt.timeseries.expanding_apply(nanmean_nb)\n",
    "\n",
    "print(ts.vbt.timeseries.expanding_apply(nanmean_matrix_nb, on_matrix=True))\n",
    "%timeit big_ts.vbt.timeseries.expanding_apply(nanmean_matrix_nb, on_matrix=True)"
   ]
  },
  {
   "cell_type": "code",
   "execution_count": 26,
   "metadata": {},
   "outputs": [
    {
     "name": "stdout",
     "output_type": "stream",
     "text": [
      "1    1.5\n",
      "2    3.5\n",
      "3    NaN\n",
      "Name: a, dtype: float64\n",
      "3.7 ms ± 45.2 µs per loop (mean ± std. dev. of 7 runs, 100 loops each)\n",
      "1    1.5\n",
      "2    3.5\n",
      "3    NaN\n",
      "Name: a, dtype: float64\n",
      "2.86 ms ± 223 µs per loop (mean ± std. dev. of 7 runs, 1 loop each)\n",
      "     a    b    c\n",
      "1  1.5  4.0  1.5\n",
      "2  3.5  2.5  2.0\n",
      "3  NaN  1.0  1.0\n",
      "     a    b    c\n",
      "1  1.5  4.0  1.5\n",
      "2  3.5  2.5  2.0\n",
      "3  NaN  1.0  1.0\n",
      "10.4 ms ± 1 ms per loop (mean ± std. dev. of 7 runs, 1 loop each)\n",
      "     a    b    c\n",
      "1  2.0  2.0  2.0\n",
      "2  2.8  2.8  2.8\n",
      "3  1.0  1.0  1.0\n",
      "5.86 ms ± 381 µs per loop (mean ± std. dev. of 7 runs, 1 loop each)\n"
     ]
    }
   ],
   "source": [
    "print(ts['a'].groupby(np.asarray([1, 1, 2, 2, 3])).apply(lambda x: pd_nanmean_nb(x.values)))\n",
    "%timeit big_ts.iloc[:, 0].groupby(np.random.randint(10, size=1000)).apply(lambda x: pd_nanmean_nb(x.values))\n",
    "\n",
    "print(ts['a'].vbt.timeseries.groupby_apply(np.asarray([1, 1, 2, 2, 3]), nanmean_nb))\n",
    "%timeit big_ts.iloc[:, 0].vbt.timeseries.groupby_apply(np.random.randint(10, size=1000), nanmean_nb)\n",
    "\n",
    "print(ts.groupby(np.asarray([1, 1, 2, 2, 3])).agg({\n",
    "    'a': lambda x: pd_nanmean_nb(x.values), \n",
    "    'b': lambda x: pd_nanmean_nb(x.values), \n",
    "    'c': lambda x: pd_nanmean_nb(x.values)})) # any clean way to do column-wise grouping in pandas?\n",
    "\n",
    "print(ts.vbt.timeseries.groupby_apply(np.asarray([1, 1, 2, 2, 3]), nanmean_nb))\n",
    "%timeit big_ts.vbt.timeseries.groupby_apply(np.random.randint(10, size=1000), nanmean_nb)\n",
    "\n",
    "print(ts.vbt.timeseries.groupby_apply(np.asarray([1, 1, 2, 2, 3]), nanmean_matrix_nb, on_matrix=True))\n",
    "%timeit big_ts.vbt.timeseries.groupby_apply(np.random.randint(10, size=1000), nanmean_matrix_nb, on_matrix=True)"
   ]
  },
  {
   "cell_type": "code",
   "execution_count": 27,
   "metadata": {},
   "outputs": [
    {
     "name": "stdout",
     "output_type": "stream",
     "text": [
      "2018-01-01 00:00:00    1.0\n",
      "2018-01-01 01:00:00    NaN\n",
      "2018-01-01 02:00:00    NaN\n",
      "2018-01-01 03:00:00    NaN\n",
      "2018-01-01 04:00:00    NaN\n",
      "                      ... \n",
      "2018-01-04 20:00:00    NaN\n",
      "2018-01-04 21:00:00    NaN\n",
      "2018-01-04 22:00:00    NaN\n",
      "2018-01-04 23:00:00    NaN\n",
      "2018-01-05 00:00:00    NaN\n",
      "Freq: H, Name: a, Length: 97, dtype: float32\n",
      "130 ms ± 14.2 ms per loop (mean ± std. dev. of 7 runs, 10 loops each)\n",
      "2018-01-01 00:00:00    1.0\n",
      "2018-01-01 01:00:00    NaN\n",
      "2018-01-01 02:00:00    NaN\n",
      "2018-01-01 03:00:00    NaN\n",
      "2018-01-01 04:00:00    NaN\n",
      "                      ... \n",
      "2018-01-04 20:00:00    NaN\n",
      "2018-01-04 21:00:00    NaN\n",
      "2018-01-04 22:00:00    NaN\n",
      "2018-01-04 23:00:00    NaN\n",
      "2018-01-05 00:00:00    NaN\n",
      "Freq: H, Name: a, Length: 97, dtype: float64\n",
      "116 ms ± 1.87 ms per loop (mean ± std. dev. of 7 runs, 10 loops each)\n",
      "                       a    b    c\n",
      "2018-01-01 00:00:00  1.0  NaN  1.0\n",
      "2018-01-01 01:00:00  NaN  NaN  NaN\n",
      "2018-01-01 02:00:00  NaN  NaN  NaN\n",
      "2018-01-01 03:00:00  NaN  NaN  NaN\n",
      "2018-01-01 04:00:00  NaN  NaN  NaN\n",
      "...                  ...  ...  ...\n",
      "2018-01-04 20:00:00  NaN  NaN  NaN\n",
      "2018-01-04 21:00:00  NaN  NaN  NaN\n",
      "2018-01-04 22:00:00  NaN  NaN  NaN\n",
      "2018-01-04 23:00:00  NaN  NaN  NaN\n",
      "2018-01-05 00:00:00  NaN  1.0  1.0\n",
      "\n",
      "[97 rows x 3 columns]\n",
      "14.4 s ± 1.46 s per loop (mean ± std. dev. of 7 runs, 1 loop each)\n",
      "                       a    b    c\n",
      "2018-01-01 00:00:00  1.0  NaN  1.0\n",
      "2018-01-01 01:00:00  NaN  NaN  NaN\n",
      "2018-01-01 02:00:00  NaN  NaN  NaN\n",
      "2018-01-01 03:00:00  NaN  NaN  NaN\n",
      "2018-01-01 04:00:00  NaN  NaN  NaN\n",
      "...                  ...  ...  ...\n",
      "2018-01-04 20:00:00  NaN  NaN  NaN\n",
      "2018-01-04 21:00:00  NaN  NaN  NaN\n",
      "2018-01-04 22:00:00  NaN  NaN  NaN\n",
      "2018-01-04 23:00:00  NaN  NaN  NaN\n",
      "2018-01-05 00:00:00  NaN  1.0  1.0\n",
      "\n",
      "[97 rows x 3 columns]\n",
      "468 ms ± 10 ms per loop (mean ± std. dev. of 7 runs, 1 loop each)\n",
      "                       a    b    c\n",
      "2018-01-01 00:00:00  1.0  1.0  1.0\n",
      "2018-01-01 01:00:00  NaN  NaN  NaN\n",
      "2018-01-01 02:00:00  NaN  NaN  NaN\n",
      "2018-01-01 03:00:00  NaN  NaN  NaN\n",
      "2018-01-01 04:00:00  NaN  NaN  NaN\n",
      "...                  ...  ...  ...\n",
      "2018-01-04 20:00:00  NaN  NaN  NaN\n",
      "2018-01-04 21:00:00  NaN  NaN  NaN\n",
      "2018-01-04 22:00:00  NaN  NaN  NaN\n",
      "2018-01-04 23:00:00  NaN  NaN  NaN\n",
      "2018-01-05 00:00:00  1.0  1.0  1.0\n",
      "\n",
      "[97 rows x 3 columns]\n",
      "230 ms ± 3.38 ms per loop (mean ± std. dev. of 7 runs, 1 loop each)\n"
     ]
    }
   ],
   "source": [
    "print(ts['a'].resample('1h').apply(lambda x: pd_nanmean_nb(x.values)))\n",
    "%timeit big_ts.iloc[:, 0].resample('1h').apply(lambda x: pd_nanmean_nb(x.values))\n",
    "\n",
    "print(ts['a'].vbt.timeseries.resample_apply('1h', nanmean_nb))\n",
    "%timeit big_ts.iloc[:, 0].vbt.timeseries.resample_apply('1h', nanmean_nb)\n",
    "\n",
    "print(ts.resample('1h').apply(lambda x: pd_nanmean_nb(x.values)))\n",
    "%timeit big_ts.iloc[:, :100].resample('1h').apply(lambda x: pd_nanmean_nb(x.values))\n",
    "\n",
    "print(ts.vbt.timeseries.resample_apply('1h', nanmean_nb))\n",
    "%timeit big_ts.vbt.timeseries.resample_apply('1h', nanmean_nb)\n",
    "\n",
    "print(ts.vbt.timeseries.resample_apply('1h', nanmean_matrix_nb, on_matrix=True))\n",
    "%timeit big_ts.vbt.timeseries.resample_apply('1h', nanmean_matrix_nb, on_matrix=True)"
   ]
  },
  {
   "cell_type": "code",
   "execution_count": 28,
   "metadata": {},
   "outputs": [
    {
     "name": "stdout",
     "output_type": "stream",
     "text": [
      "2018-01-01 00:00:00    1.0\n",
      "2018-01-01 01:00:00    NaN\n",
      "2018-01-01 02:00:00    NaN\n",
      "2018-01-01 03:00:00    NaN\n",
      "2018-01-01 04:00:00    NaN\n",
      "                      ... \n",
      "2018-01-04 20:00:00    NaN\n",
      "2018-01-04 21:00:00    NaN\n",
      "2018-01-04 22:00:00    NaN\n",
      "2018-01-04 23:00:00    NaN\n",
      "2018-01-05 00:00:00    NaN\n",
      "Freq: H, Name: a, Length: 97, dtype: float32\n",
      "145 ms ± 18.7 ms per loop (mean ± std. dev. of 7 runs, 10 loops each)\n",
      "2018-01-01 00:00:00    1.0\n",
      "2018-01-01 01:00:00    NaN\n",
      "2018-01-01 02:00:00    NaN\n",
      "2018-01-01 03:00:00    NaN\n",
      "2018-01-01 04:00:00    NaN\n",
      "                      ... \n",
      "2018-01-04 20:00:00    NaN\n",
      "2018-01-04 21:00:00    NaN\n",
      "2018-01-04 22:00:00    NaN\n",
      "2018-01-04 23:00:00    NaN\n",
      "2018-01-05 00:00:00    NaN\n",
      "Freq: H, Name: a, Length: 97, dtype: float64\n",
      "118 ms ± 756 µs per loop (mean ± std. dev. of 7 runs, 10 loops each)\n",
      "                       a    b    c\n",
      "2018-01-01 00:00:00  1.0  NaN  1.0\n",
      "2018-01-01 01:00:00  NaN  NaN  NaN\n",
      "2018-01-01 02:00:00  NaN  NaN  NaN\n",
      "2018-01-01 03:00:00  NaN  NaN  NaN\n",
      "2018-01-01 04:00:00  NaN  NaN  NaN\n",
      "...                  ...  ...  ...\n",
      "2018-01-04 20:00:00  NaN  NaN  NaN\n",
      "2018-01-04 21:00:00  NaN  NaN  NaN\n",
      "2018-01-04 22:00:00  NaN  NaN  NaN\n",
      "2018-01-04 23:00:00  NaN  NaN  NaN\n",
      "2018-01-05 00:00:00  NaN  1.0  1.0\n",
      "\n",
      "[97 rows x 3 columns]\n",
      "13.4 s ± 684 ms per loop (mean ± std. dev. of 7 runs, 1 loop each)\n",
      "                       a    b    c\n",
      "2018-01-01 00:00:00  1.0  NaN  1.0\n",
      "2018-01-01 01:00:00  NaN  NaN  NaN\n",
      "2018-01-01 02:00:00  NaN  NaN  NaN\n",
      "2018-01-01 03:00:00  NaN  NaN  NaN\n",
      "2018-01-01 04:00:00  NaN  NaN  NaN\n",
      "...                  ...  ...  ...\n",
      "2018-01-04 20:00:00  NaN  NaN  NaN\n",
      "2018-01-04 21:00:00  NaN  NaN  NaN\n",
      "2018-01-04 22:00:00  NaN  NaN  NaN\n",
      "2018-01-04 23:00:00  NaN  NaN  NaN\n",
      "2018-01-05 00:00:00  NaN  1.0  1.0\n",
      "\n",
      "[97 rows x 3 columns]\n",
      "471 ms ± 11.7 ms per loop (mean ± std. dev. of 7 runs, 1 loop each)\n",
      "                       a    b    c\n",
      "2018-01-01 00:00:00  1.0  1.0  1.0\n",
      "2018-01-01 01:00:00  NaN  NaN  NaN\n",
      "2018-01-01 02:00:00  NaN  NaN  NaN\n",
      "2018-01-01 03:00:00  NaN  NaN  NaN\n",
      "2018-01-01 04:00:00  NaN  NaN  NaN\n",
      "...                  ...  ...  ...\n",
      "2018-01-04 20:00:00  NaN  NaN  NaN\n",
      "2018-01-04 21:00:00  NaN  NaN  NaN\n",
      "2018-01-04 22:00:00  NaN  NaN  NaN\n",
      "2018-01-04 23:00:00  NaN  NaN  NaN\n",
      "2018-01-05 00:00:00  1.0  1.0  1.0\n",
      "\n",
      "[97 rows x 3 columns]\n",
      "266 ms ± 43.3 ms per loop (mean ± std. dev. of 7 runs, 1 loop each)\n"
     ]
    }
   ],
   "source": [
    "print(ts['a'].resample('1h').apply(lambda x: pd_nanmean_nb(x.values)))\n",
    "%timeit big_ts.iloc[:, 0].resample('1h').apply(lambda x: pd_nanmean_nb(x.values))\n",
    "\n",
    "print(ts['a'].vbt.timeseries.resample_apply('1h', nanmean_nb))\n",
    "%timeit big_ts.iloc[:, 0].vbt.timeseries.resample_apply('1h', nanmean_nb)\n",
    "\n",
    "print(ts.resample('1h').apply(lambda x: pd_nanmean_nb(x.values)))\n",
    "%timeit big_ts.iloc[:, :100].resample('1h').apply(lambda x: pd_nanmean_nb(x.values))\n",
    "\n",
    "print(ts.vbt.timeseries.resample_apply('1h', nanmean_nb))\n",
    "%timeit big_ts.vbt.timeseries.resample_apply('1h', nanmean_nb)\n",
    "\n",
    "print(ts.vbt.timeseries.resample_apply('1h', nanmean_matrix_nb, on_matrix=True))\n",
    "%timeit big_ts.vbt.timeseries.resample_apply('1h', nanmean_matrix_nb, on_matrix=True)"
   ]
  },
  {
   "cell_type": "code",
   "execution_count": 29,
   "metadata": {},
   "outputs": [
    {
     "name": "stdout",
     "output_type": "stream",
     "text": [
      "2018-01-01    2.0\n",
      "2018-01-04    4.0\n",
      "Freq: 3D, Name: a, dtype: float32\n",
      "3.73 ms ± 45.9 µs per loop (mean ± std. dev. of 7 runs, 100 loops each)\n",
      "2018-01-01    2.0\n",
      "2018-01-04    4.0\n",
      "Freq: 3D, Name: a, dtype: float64\n",
      "8.7 ms ± 96.3 µs per loop (mean ± std. dev. of 7 runs, 100 loops each)\n",
      "              a    b    c\n",
      "2018-01-01  2.0  3.5  1.5\n",
      "2018-01-04  4.0  1.5  1.5\n",
      "4.42 s ± 738 ms per loop (mean ± std. dev. of 7 runs, 1 loop each)\n",
      "              a    b    c\n",
      "2018-01-01  2.0  3.5  1.5\n",
      "2018-01-04  4.0  1.5  1.5\n",
      "102 ms ± 14 ms per loop (mean ± std. dev. of 7 runs, 10 loops each)\n",
      "                   a         b         c\n",
      "2018-01-01  2.285714  2.285714  2.285714\n",
      "2018-01-04  2.000000  2.000000  2.000000\n",
      "13.8 ms ± 63 µs per loop (mean ± std. dev. of 7 runs, 100 loops each)\n"
     ]
    }
   ],
   "source": [
    "print(ts['a'].resample('3d').apply(lambda x: pd_nanmean_nb(x.values)))\n",
    "%timeit big_ts.iloc[:, 0].resample('3d').apply(lambda x: pd_nanmean_nb(x.values))\n",
    "\n",
    "print(ts['a'].vbt.timeseries.resample_apply('3d', nanmean_nb))\n",
    "%timeit big_ts.iloc[:, 0].vbt.timeseries.resample_apply('3d', nanmean_nb)\n",
    "\n",
    "print(ts.resample('3d').apply(lambda x: pd_nanmean_nb(x.values)))\n",
    "%timeit big_ts.resample('3d').apply(lambda x: pd_nanmean_nb(x.values))\n",
    "\n",
    "print(ts.vbt.timeseries.resample_apply('3d', nanmean_nb))\n",
    "%timeit big_ts.vbt.timeseries.resample_apply('3d', nanmean_nb)\n",
    "\n",
    "print(ts.vbt.timeseries.resample_apply('3d', nanmean_matrix_nb, on_matrix=True))\n",
    "%timeit big_ts.vbt.timeseries.resample_apply('3d', nanmean_matrix_nb, on_matrix=True)"
   ]
  },
  {
   "cell_type": "code",
   "execution_count": 30,
   "metadata": {},
   "outputs": [
    {
     "name": "stdout",
     "output_type": "stream",
     "text": [
      "2018-01-07    2.5\n",
      "Freq: W-SUN, Name: a, dtype: float32\n",
      "6.9 ms ± 679 µs per loop (mean ± std. dev. of 7 runs, 100 loops each)\n",
      "2018-01-07    2.5\n",
      "Freq: W-SUN, Name: a, dtype: float64\n",
      "10.3 ms ± 665 µs per loop (mean ± std. dev. of 7 runs, 100 loops each)\n",
      "              a    b    c\n",
      "2018-01-07  2.5  2.5  1.5\n",
      "2.57 s ± 128 ms per loop (mean ± std. dev. of 7 runs, 1 loop each)\n",
      "              a    b    c\n",
      "2018-01-07  2.5  2.5  1.5\n",
      "45.1 ms ± 228 µs per loop (mean ± std. dev. of 7 runs, 10 loops each)\n",
      "                   a         b         c\n",
      "2018-01-07  2.166667  2.166667  2.166667\n",
      "13.5 ms ± 107 µs per loop (mean ± std. dev. of 7 runs, 100 loops each)\n"
     ]
    }
   ],
   "source": [
    "print(ts['a'].resample('1w').apply(lambda x: pd_nanmean_nb(x.values)))\n",
    "%timeit big_ts.iloc[:, 0].resample('1w').apply(lambda x: pd_nanmean_nb(x.values))\n",
    "\n",
    "print(ts['a'].vbt.timeseries.resample_apply('1w', nanmean_nb))\n",
    "%timeit big_ts.iloc[:, 0].vbt.timeseries.resample_apply('1w', nanmean_nb)\n",
    "\n",
    "print(ts.resample('1w').apply(lambda x: pd_nanmean_nb(x.values)))\n",
    "%timeit big_ts.resample('1w').apply(lambda x: pd_nanmean_nb(x.values))\n",
    "\n",
    "print(ts.vbt.timeseries.resample_apply('1w', nanmean_nb))\n",
    "%timeit big_ts.vbt.timeseries.resample_apply('1w', nanmean_nb)\n",
    "\n",
    "print(ts.vbt.timeseries.resample_apply('1w', nanmean_matrix_nb, on_matrix=True))\n",
    "%timeit big_ts.vbt.timeseries.resample_apply('1w', nanmean_matrix_nb, on_matrix=True)"
   ]
  },
  {
   "cell_type": "code",
   "execution_count": 31,
   "metadata": {},
   "outputs": [
    {
     "name": "stdout",
     "output_type": "stream",
     "text": [
      "start_date  2018-01-01  2018-01-04\n",
      "0                  1.0         4.0\n",
      "1                  2.0         NaN\n",
      "874 µs ± 183 µs per loop (mean ± std. dev. of 7 runs, 1 loop each)\n",
      "                    a                     b                     c           \n",
      "start_date 2018-01-01 2018-01-04 2018-01-01 2018-01-04 2018-01-01 2018-01-04\n",
      "0                 1.0        4.0        NaN        2.0        1.0        2.0\n",
      "1                 2.0        NaN        4.0        1.0        2.0        1.0\n",
      "45 ms ± 250 µs per loop (mean ± std. dev. of 7 runs, 1 loop each)\n"
     ]
    }
   ],
   "source": [
    "print(ts['a'].vbt.timeseries.rolling_window(2, n=2))\n",
    "%timeit big_ts.iloc[:, 0].vbt.timeseries.rolling_window(2, n=100)\n",
    "\n",
    "print(ts.vbt.timeseries.rolling_window(2, n=2))\n",
    "%timeit big_ts.vbt.timeseries.rolling_window(2, n=100)"
   ]
  },
  {
   "cell_type": "code",
   "execution_count": 32,
   "metadata": {},
   "outputs": [
    {
     "name": "stdout",
     "output_type": "stream",
     "text": [
      "              a    b    c\n",
      "2018-01-01  2.0  NaN  2.0\n",
      "2018-01-02  4.0  8.0  4.0\n",
      "2018-01-03  6.0  6.0  NaN\n",
      "2018-01-04  8.0  4.0  4.0\n",
      "2018-01-05  NaN  2.0  2.0\n",
      "654 ms ± 188 ms per loop (mean ± std. dev. of 7 runs, 1 loop each)\n",
      "2018-01-01    2.0\n",
      "2018-01-02    4.0\n",
      "2018-01-03    6.0\n",
      "2018-01-04    8.0\n",
      "2018-01-05    NaN\n",
      "Name: a, dtype: float64\n",
      "The slowest run took 5.91 times longer than the fastest. This could mean that an intermediate result is being cached.\n",
      "579 µs ± 472 µs per loop (mean ± std. dev. of 7 runs, 1 loop each)\n",
      "              a    b    c\n",
      "2018-01-01  2.0  NaN  2.0\n",
      "2018-01-02  4.0  8.0  4.0\n",
      "2018-01-03  6.0  6.0  NaN\n",
      "2018-01-04  8.0  4.0  4.0\n",
      "2018-01-05  NaN  2.0  2.0\n",
      "10.8 ms ± 94 µs per loop (mean ± std. dev. of 7 runs, 1 loop each)\n"
     ]
    }
   ],
   "source": [
    "mult_nb = njit(lambda col, i, x: x * 2)\n",
    "\n",
    "print(ts.applymap(lambda x: x * 2))\n",
    "%timeit big_ts.applymap(lambda x: x * 2)\n",
    "\n",
    "print(ts['a'].vbt.timeseries.applymap(mult_nb))\n",
    "%timeit big_ts.iloc[:, 0].vbt.timeseries.applymap(mult_nb)\n",
    "\n",
    "print(ts.vbt.timeseries.applymap(mult_nb))\n",
    "%timeit big_ts.vbt.timeseries.applymap(mult_nb)"
   ]
  },
  {
   "cell_type": "code",
   "execution_count": 33,
   "metadata": {},
   "outputs": [
    {
     "name": "stdout",
     "output_type": "stream",
     "text": [
      "              a    b   c\n",
      "2018-01-01  NaN  NaN NaN\n",
      "2018-01-02  NaN  4.0 NaN\n",
      "2018-01-03  3.0  3.0 NaN\n",
      "2018-01-04  4.0  NaN NaN\n",
      "2018-01-05  NaN  NaN NaN\n",
      "531 ms ± 70.5 ms per loop (mean ± std. dev. of 7 runs, 1 loop each)\n",
      "2018-01-01    NaN\n",
      "2018-01-02    NaN\n",
      "2018-01-03    3.0\n",
      "2018-01-04    4.0\n",
      "2018-01-05    NaN\n",
      "Name: a, dtype: float64\n",
      "313 µs ± 107 µs per loop (mean ± std. dev. of 7 runs, 1 loop each)\n",
      "              a    b   c\n",
      "2018-01-01  NaN  NaN NaN\n",
      "2018-01-02  NaN  4.0 NaN\n",
      "2018-01-03  3.0  3.0 NaN\n",
      "2018-01-04  4.0  NaN NaN\n",
      "2018-01-05  NaN  NaN NaN\n",
      "12.3 ms ± 1.19 ms per loop (mean ± std. dev. of 7 runs, 1 loop each)\n"
     ]
    }
   ],
   "source": [
    "greater_nb = njit(lambda col, i, x: x > 2)\n",
    "\n",
    "print(ts.applymap(lambda x: x if x > 2 else np.nan))\n",
    "%timeit big_ts.applymap(lambda x: x if x > 2 else np.nan)\n",
    "\n",
    "print(ts['a'].vbt.timeseries.filter(greater_nb))\n",
    "%timeit big_ts.iloc[:, 0].vbt.timeseries.filter(greater_nb)\n",
    "\n",
    "print(ts.vbt.timeseries.filter(greater_nb))\n",
    "%timeit big_ts.vbt.timeseries.filter(greater_nb)"
   ]
  },
  {
   "cell_type": "code",
   "execution_count": 34,
   "metadata": {},
   "outputs": [
    {
     "name": "stdout",
     "output_type": "stream",
     "text": [
      "                a      b      c\n",
      "2018-01-01 1 days    NaT 1 days\n",
      "2018-01-02 2 days 4 days 2 days\n",
      "2018-01-03 3 days 3 days    NaT\n",
      "2018-01-04 4 days 2 days 2 days\n",
      "2018-01-05    NaT 1 days 1 days\n",
      "6.99 ms ± 157 µs per loop (mean ± std. dev. of 7 runs, 100 loops each)\n"
     ]
    }
   ],
   "source": [
    "print(ts.vbt.timeseries.to_time_units(ts.index[1] - ts.index[0]))\n",
    "%timeit big_ts.iloc[:, 0].vbt.timeseries.to_time_units(ts.index[1] - ts.index[0]) # pretty slow"
   ]
  },
  {
   "cell_type": "code",
   "execution_count": 35,
   "metadata": {},
   "outputs": [
    {
     "name": "stdout",
     "output_type": "stream",
     "text": [
      "4.0\n",
      "433 µs ± 96.7 µs per loop (mean ± std. dev. of 7 runs, 1 loop each)\n",
      "a    4.0\n",
      "b    4.0\n",
      "c    2.0\n",
      "dtype: float64\n",
      "1.47 ms ± 12.2 µs per loop (mean ± std. dev. of 7 runs, 1000 loops each)\n",
      "a   4 days\n",
      "b   4 days\n",
      "c   2 days\n",
      "dtype: timedelta64[ns]\n",
      "8.63 ms ± 70.6 µs per loop (mean ± std. dev. of 7 runs, 100 loops each)\n"
     ]
    }
   ],
   "source": [
    "every_2th_nb = njit(lambda col, a: a[::2])\n",
    "sum_nb = njit(lambda col, a: np.nansum(a))\n",
    "\n",
    "print(ts['a'].vbt.timeseries.apply_and_reduce(every_2th_nb, sum_nb))\n",
    "%timeit big_ts.iloc[:, 0].vbt.timeseries.apply_and_reduce(every_2th_nb, sum_nb)\n",
    "\n",
    "print(ts.vbt.timeseries.apply_and_reduce(every_2th_nb, sum_nb))\n",
    "%timeit big_ts.vbt.timeseries.apply_and_reduce(every_2th_nb, sum_nb)\n",
    "\n",
    "print(ts.vbt.timeseries.apply_and_reduce(every_2th_nb, sum_nb, time_units=True))\n",
    "%timeit big_ts.vbt.timeseries.apply_and_reduce(every_2th_nb, sum_nb, time_units=True)"
   ]
  },
  {
   "cell_type": "code",
   "execution_count": 36,
   "metadata": {},
   "outputs": [
    {
     "name": "stdout",
     "output_type": "stream",
     "text": [
      "a    10.0\n",
      "b    10.0\n",
      "c     6.0\n",
      "dtype: float64\n",
      "78.3 ms ± 1.32 ms per loop (mean ± std. dev. of 7 runs, 10 loops each)\n",
      "10.0\n",
      "432 µs ± 77.7 µs per loop (mean ± std. dev. of 7 runs, 1000 loops each)\n",
      "a    10.0\n",
      "b    10.0\n",
      "c     6.0\n",
      "dtype: float64\n",
      "5.41 ms ± 1.31 ms per loop (mean ± std. dev. of 7 runs, 1 loop each)\n",
      "a   10 days\n",
      "b   10 days\n",
      "c    6 days\n",
      "dtype: timedelta64[ns]\n",
      "12.4 ms ± 935 µs per loop (mean ± std. dev. of 7 runs, 100 loops each)\n"
     ]
    }
   ],
   "source": [
    "print(ts.apply(np.nansum, axis=0))\n",
    "%timeit big_ts.apply(np.nansum, axis=0)\n",
    "\n",
    "print(ts['a'].vbt.timeseries.reduce(sum_nb))\n",
    "%timeit big_ts.iloc[:, 0].vbt.timeseries.reduce(sum_nb)\n",
    "\n",
    "print(ts.vbt.timeseries.reduce(sum_nb))\n",
    "%timeit big_ts.vbt.timeseries.reduce(sum_nb)\n",
    "\n",
    "print(ts.vbt.timeseries.reduce(sum_nb, time_units=True))\n",
    "%timeit big_ts.vbt.timeseries.reduce(sum_nb, time_units=True)"
   ]
  },
  {
   "cell_type": "code",
   "execution_count": 37,
   "metadata": {},
   "outputs": [
    {
     "name": "stdout",
     "output_type": "stream",
     "text": [
      "     a    b    c\n",
      "0  1.0  1.0  1.0\n",
      "1  4.0  4.0  2.0\n",
      "221 ms ± 42.3 ms per loop (mean ± std. dev. of 7 runs, 10 loops each)\n",
      "min    1.0\n",
      "max    4.0\n",
      "Name: a, dtype: float64\n",
      "391 µs ± 110 µs per loop (mean ± std. dev. of 7 runs, 1 loop each)\n",
      "       a    b    c\n",
      "min  1.0  1.0  1.0\n",
      "max  4.0  4.0  2.0\n",
      "The slowest run took 5.79 times longer than the fastest. This could mean that an intermediate result is being cached.\n",
      "8.92 ms ± 8.41 ms per loop (mean ± std. dev. of 7 runs, 1 loop each)\n",
      "         a      b      c\n",
      "min 1 days 1 days 1 days\n",
      "max 4 days 4 days 2 days\n",
      "156 ms ± 21.8 ms per loop (mean ± std. dev. of 7 runs, 1 loop each)\n"
     ]
    }
   ],
   "source": [
    "@njit\n",
    "def min_and_max_nb(col, a):\n",
    "    result = np.empty(2)\n",
    "    result[0] = np.nanmin(a)\n",
    "    result[1] = np.nanmax(a)\n",
    "    return result\n",
    "\n",
    "print(ts.apply(lambda x: np.asarray([np.min(x), np.max(x)]), axis=0))\n",
    "%timeit big_ts.apply(lambda x: np.asarray([np.min(x), np.max(x)]), axis=0)\n",
    "\n",
    "print(ts['a'].vbt.timeseries.reduce_to_array(min_and_max_nb, index=['min', 'max']))\n",
    "%timeit big_ts.iloc[:, 0].vbt.timeseries.reduce_to_array(min_and_max_nb, index=['min', 'max'])\n",
    "\n",
    "print(ts.vbt.timeseries.reduce_to_array(min_and_max_nb, index=['min', 'max']))\n",
    "%timeit big_ts.vbt.timeseries.reduce_to_array(min_and_max_nb, index=['min', 'max'])\n",
    "\n",
    "print(ts.vbt.timeseries.reduce_to_array(min_and_max_nb, index=['min', 'max'], time_units=True))\n",
    "%timeit big_ts.vbt.timeseries.reduce_to_array(min_and_max_nb, index=['min', 'max'], time_units=True)"
   ]
  },
  {
   "cell_type": "code",
   "execution_count": 38,
   "metadata": {},
   "outputs": [
    {
     "name": "stdout",
     "output_type": "stream",
     "text": [
      "a    1.0\n",
      "b    1.0\n",
      "c    1.0\n",
      "dtype: float32\n",
      "5 ms ± 707 µs per loop (mean ± std. dev. of 7 runs, 100 loops each)\n",
      "a    1.0\n",
      "b    1.0\n",
      "c    1.0\n",
      "dtype: float32\n",
      "2.34 ms ± 117 µs per loop (mean ± std. dev. of 7 runs, 100 loops each)\n",
      "a   1 days\n",
      "b   1 days\n",
      "c   1 days\n",
      "dtype: timedelta64[ns]\n",
      "9.9 ms ± 456 µs per loop (mean ± std. dev. of 7 runs, 100 loops each)\n"
     ]
    }
   ],
   "source": [
    "print(ts.min())\n",
    "%timeit big_ts.min()\n",
    "\n",
    "print(ts.vbt.timeseries.min())\n",
    "%timeit big_ts.vbt.timeseries.min()\n",
    "\n",
    "print(ts.vbt.timeseries.min(time_units=True))\n",
    "%timeit big_ts.vbt.timeseries.min(time_units=True)"
   ]
  },
  {
   "cell_type": "code",
   "execution_count": 39,
   "metadata": {},
   "outputs": [
    {
     "name": "stdout",
     "output_type": "stream",
     "text": [
      "a    4.0\n",
      "b    4.0\n",
      "c    2.0\n",
      "dtype: float32\n",
      "3.85 ms ± 72.6 µs per loop (mean ± std. dev. of 7 runs, 100 loops each)\n",
      "a    4.0\n",
      "b    4.0\n",
      "c    2.0\n",
      "dtype: float32\n",
      "2.23 ms ± 14.2 µs per loop (mean ± std. dev. of 7 runs, 100 loops each)\n",
      "a   4 days\n",
      "b   4 days\n",
      "c   2 days\n",
      "dtype: timedelta64[ns]\n",
      "9.73 ms ± 590 µs per loop (mean ± std. dev. of 7 runs, 100 loops each)\n"
     ]
    }
   ],
   "source": [
    "print(ts.max())\n",
    "%timeit big_ts.max()\n",
    "\n",
    "print(ts.vbt.timeseries.max())\n",
    "%timeit big_ts.vbt.timeseries.max()\n",
    "\n",
    "print(ts.vbt.timeseries.max(time_units=True))\n",
    "%timeit big_ts.vbt.timeseries.max(time_units=True)"
   ]
  },
  {
   "cell_type": "code",
   "execution_count": 40,
   "metadata": {},
   "outputs": [
    {
     "name": "stdout",
     "output_type": "stream",
     "text": [
      "a    2.5\n",
      "b    2.5\n",
      "c    1.5\n",
      "dtype: float32\n",
      "3 ms ± 152 µs per loop (mean ± std. dev. of 7 runs, 100 loops each)\n",
      "a    2.5\n",
      "b    2.5\n",
      "c    1.5\n",
      "dtype: float32\n",
      "8.09 ms ± 1.44 ms per loop (mean ± std. dev. of 7 runs, 100 loops each)\n",
      "a   2 days 12:00:00\n",
      "b   2 days 12:00:00\n",
      "c   1 days 12:00:00\n",
      "dtype: timedelta64[ns]\n",
      "15.3 ms ± 3.94 ms per loop (mean ± std. dev. of 7 runs, 100 loops each)\n"
     ]
    }
   ],
   "source": [
    "print(ts.mean())\n",
    "%timeit big_ts.mean()\n",
    "\n",
    "print(ts.vbt.timeseries.mean())\n",
    "%timeit big_ts.vbt.timeseries.mean()\n",
    "\n",
    "print(ts.vbt.timeseries.mean(time_units=True))\n",
    "%timeit big_ts.vbt.timeseries.mean(time_units=True)"
   ]
  },
  {
   "cell_type": "code",
   "execution_count": 41,
   "metadata": {},
   "outputs": [
    {
     "name": "stdout",
     "output_type": "stream",
     "text": [
      "a    1.290994\n",
      "b    1.290994\n",
      "c    0.577350\n",
      "dtype: float32\n",
      "3.98 ms ± 97.1 µs per loop (mean ± std. dev. of 7 runs, 100 loops each)\n",
      "a    1.290994\n",
      "b    1.290994\n",
      "c    0.577350\n",
      "dtype: float32\n",
      "7.94 ms ± 76.8 µs per loop (mean ± std. dev. of 7 runs, 100 loops each)\n",
      "a   1 days 06:59:01.916656\n",
      "b   1 days 06:59:01.916656\n",
      "c   0 days 13:51:23.062363\n",
      "dtype: timedelta64[ns]\n",
      "15.3 ms ± 200 µs per loop (mean ± std. dev. of 7 runs, 100 loops each)\n"
     ]
    }
   ],
   "source": [
    "print(ts.std())\n",
    "%timeit big_ts.std()\n",
    "\n",
    "print(ts.vbt.timeseries.std())\n",
    "%timeit big_ts.vbt.timeseries.std()\n",
    "\n",
    "print(ts.vbt.timeseries.std(time_units=True))\n",
    "%timeit big_ts.vbt.timeseries.std(time_units=True)"
   ]
  },
  {
   "cell_type": "code",
   "execution_count": 42,
   "metadata": {},
   "outputs": [
    {
     "name": "stdout",
     "output_type": "stream",
     "text": [
      "a    4\n",
      "b    4\n",
      "c    4\n",
      "dtype: int64\n",
      "2.5 ms ± 35 µs per loop (mean ± std. dev. of 7 runs, 100 loops each)\n",
      "a    4\n",
      "b    4\n",
      "c    4\n",
      "dtype: int64\n",
      "2.02 ms ± 22.6 µs per loop (mean ± std. dev. of 7 runs, 100 loops each)\n",
      "a   4 days\n",
      "b   4 days\n",
      "c   4 days\n",
      "dtype: timedelta64[ns]\n",
      "8.85 ms ± 71.5 µs per loop (mean ± std. dev. of 7 runs, 100 loops each)\n"
     ]
    }
   ],
   "source": [
    "print((~ts.isnull()).sum())\n",
    "%timeit (~big_ts.isnull()).sum()\n",
    "\n",
    "print(ts.vbt.timeseries.count())\n",
    "%timeit big_ts.vbt.timeseries.count()\n",
    "\n",
    "print(ts.vbt.timeseries.count(time_units=True))\n",
    "%timeit big_ts.vbt.timeseries.count(time_units=True)"
   ]
  },
  {
   "cell_type": "code",
   "execution_count": 43,
   "metadata": {},
   "outputs": [
    {
     "name": "stdout",
     "output_type": "stream",
     "text": [
      "              a         b        c\n",
      "count  4.000000  4.000000  4.00000\n",
      "mean   2.500000  2.500000  1.50000\n",
      "std    1.290994  1.290994  0.57735\n",
      "min    1.000000  1.000000  1.00000\n",
      "0%     1.000000  1.000000  1.00000\n",
      "10%    1.300000  1.300000  1.00000\n",
      "20%    1.600000  1.600000  1.00000\n",
      "30%    1.900000  1.900000  1.00000\n",
      "40%    2.200000  2.200000  1.20000\n",
      "50%    2.500000  2.500000  1.50000\n",
      "60%    2.800000  2.800000  1.80000\n",
      "70%    3.100000  3.100000  2.00000\n",
      "80%    3.400000  3.400000  2.00000\n",
      "90%    3.700000  3.700000  2.00000\n",
      "max    4.000000  4.000000  2.00000\n",
      "1.89 s ± 21.5 ms per loop (mean ± std. dev. of 7 runs, 1 loop each)\n",
      "               a         b        c\n",
      "count   4.000000  4.000000  4.00000\n",
      "mean    2.500000  2.500000  1.50000\n",
      "std     1.290994  1.290994  0.57735\n",
      "min     1.000000  1.000000  1.00000\n",
      "0.00%   1.000000  1.000000  1.00000\n",
      "10.00%  1.300000  1.300000  1.00000\n",
      "20.00%  1.600000  1.600000  1.00000\n",
      "30.00%  1.900000  1.900000  1.00000\n",
      "40.00%  2.200000  2.200000  1.20000\n",
      "50.00%  2.500000  2.500000  1.50000\n",
      "60.00%  2.800000  2.800000  1.80000\n",
      "70.00%  3.100000  3.100000  2.00000\n",
      "80.00%  3.400000  3.400000  2.00000\n",
      "90.00%  3.700000  3.700000  2.00000\n",
      "max     4.000000  4.000000  2.00000\n",
      "587 ms ± 2.8 ms per loop (mean ± std. dev. of 7 runs, 1 loop each)\n"
     ]
    }
   ],
   "source": [
    "print(ts.describe(percentiles=np.arange(0, 1, 0.1)))\n",
    "%timeit big_ts.describe(percentiles=np.arange(0, 1, 0.1))\n",
    "\n",
    "print(ts.vbt.timeseries.describe(percentiles=np.arange(0, 1, 0.1)))\n",
    "%timeit big_ts.vbt.timeseries.describe(percentiles=np.arange(0, 1, 0.1))"
   ]
  },
  {
   "cell_type": "code",
   "execution_count": 44,
   "metadata": {
    "Collapsed": "false"
   },
   "outputs": [
    {
     "data": {
      "text/plain": [
       "<matplotlib.axes._subplots.AxesSubplot at 0x61ef6ab70>"
      ]
     },
     "execution_count": 44,
     "metadata": {},
     "output_type": "execute_result"
    },
    {
     "data": {
      "image/png": "[encoded data removed]",
      "text/plain": [
       "<Figure size 432x288 with 1 Axes>"
      ]
     },
     "metadata": {
      "needs_background": "light"
     },
     "output_type": "display_data"
    }
   ],
   "source": [
    "# Two ways of plotting\n",
    "ts.plot()"
   ]
  },
  {
   "cell_type": "code",
   "execution_count": 45,
   "metadata": {},
   "outputs": [
    {
     "data": {
      "image/png": "[encoded data removed]"
     },
     "metadata": {},
     "output_type": "display_data"
    }
   ],
   "source": [
    "ts['a'].vbt.timeseries.plot().show_png()"
   ]
  },
  {
   "cell_type": "code",
   "execution_count": 46,
   "metadata": {},
   "outputs": [
    {
     "data": {
      "image/png": "[encoded data removed]"
     },
     "metadata": {},
     "output_type": "display_data"
    }
   ],
   "source": [
    "ts.vbt.timeseries.plot().show_png()"
   ]
  },
  {
   "cell_type": "code",
   "execution_count": 47,
   "metadata": {},
   "outputs": [
    {
     "data": {
      "image/png": "[encoded data removed]"
     },
     "metadata": {},
     "output_type": "display_data"
    }
   ],
   "source": [
    "ts['a'].vbt.timeseries.plot_against(2).show_png()"
   ]
  },
  {
   "cell_type": "code",
   "execution_count": 48,
   "metadata": {},
   "outputs": [
    {
     "data": {
      "image/png": "[encoded data removed]"
     },
     "metadata": {},
     "output_type": "display_data"
    }
   ],
   "source": [
    "ts['a'].vbt.timeseries.plot_against(ts['b']).show_png()"
   ]
  },
  {
   "cell_type": "markdown",
   "metadata": {},
   "source": [
    "## OHLCV"
   ]
  },
  {
   "cell_type": "code",
   "execution_count": 49,
   "metadata": {},
   "outputs": [
    {
     "name": "stdout",
     "output_type": "stream",
     "text": [
      "                Open      High       Low     Close    Volume\n",
      "2018-01-01  0.000673  0.307404 -0.662628  0.198832  0.786300\n",
      "2018-01-02 -0.465192  0.222101 -1.408354 -1.030133  0.053357\n",
      "2018-01-03 -0.711902 -0.709150 -1.090777  0.024247 -0.182044\n",
      "2018-01-04 -1.424144 -0.519782 -1.913185 -2.101173 -0.700050\n",
      "2018-01-05 -0.483202 -0.069671 -1.154076  0.509298  0.069749\n"
     ]
    }
   ],
   "source": [
    "ohlcv_ts = pd.DataFrame(\n",
    "    columns=['Open', 'High', 'Low', 'Close', 'Volume'],\n",
    "    index=[datetime(2018, 1, 1) + timedelta(days=i) for i in range(1000)]\n",
    ")\n",
    "ohlcv_ts['Open'] = np.cumsum(np.random.uniform(-0.8, 1, size=(1000,)))\n",
    "ohlcv_ts['Close'] = ohlcv_ts['Open'] + np.random.uniform(-1, 1, size=(1000,))\n",
    "ohlcv_ts['High'] = ohlcv_ts['Open'] + np.random.uniform(0, 1, size=(1000,))\n",
    "ohlcv_ts['Low'] = ohlcv_ts['Open'] - np.random.uniform(0, 1, size=(1000,))\n",
    "ohlcv_ts['Volume'] = np.cumsum(np.random.uniform(-1, 1, size=(1000,)))\n",
    "\n",
    "print(ohlcv_ts.head())"
   ]
  },
  {
   "cell_type": "code",
   "execution_count": 50,
   "metadata": {},
   "outputs": [
    {
     "data": {
      "image/png": "[encoded data removed]"
     },
     "metadata": {},
     "output_type": "display_data"
    }
   ],
   "source": [
    "ohlcv_ts = ohlcv_ts.rename(columns={'Volume': 'Volume2'}) # test different column names\n",
    "\n",
    "ohlcv_ts.vbt.ohlcv(volume='Volume2').plot().show_png()"
   ]
  },
  {
   "cell_type": "code",
   "execution_count": null,
   "metadata": {},
   "outputs": [],
   "source": []
  }
 ],
 "metadata": {
  "kernelspec": {
   "display_name": "Python 3",
   "language": "python",
   "name": "python3"
  },
  "language_info": {
   "codemirror_mode": {
    "name": "ipython",
    "version": 3
   },
   "file_extension": ".py",
   "mimetype": "text/x-python",
   "name": "python",
   "nbconvert_exporter": "python",
   "pygments_lexer": "ipython3",
   "version": "3.7.3"
  },
  "widgets": {
   "application/vnd.jupyter.widget-state+json": {
    "state": {
     "36859f0b3dcc4498b24fa6ca3e0a8a36": {
      "buffers": [
       {
        "data": "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",
        "encoding": "base64",
        "path": [
         "_data",
         0,
         "close",
         "value"
        ]
       },
       {
        "data": "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",
        "encoding": "base64",
        "path": [
         "_data",
         0,
         "high",
         "value"
        ]
       },
       {
        "data": "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",
        "encoding": "base64",
        "path": [
         "_data",
         0,
         "low",
         "value"
        ]
       },
       {
        "data": "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",
        "encoding": "base64",
        "path": [
         "_data",
         0,
         "open",
         "value"
        ]
       },
       {
        "data": "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",
        "encoding": "base64",
        "path": [
         "_data",
         1,
         "y",
         "value"
        ]
       }
      ],
      "model_module": "plotlywidget",
      "model_module_version": "1.5.0",
      "model_name": "FigureModel",
      "state": {
       "_config": {
        "plotlyServerURL": "https://plot.ly"
       },
       "_data": [
        {
         "close": {
          "dtype": "float64",
          "shape": [
           1000
          ]
         },
         "high": {
          "dtype": "float64",
          "shape": [
           1000
          ]
         },
         "low": {
          "dtype": "float64",
          "shape": [
           1000
          ]
         },
         "name": "OHLC",
         "open": {
          "dtype": "float64",
          "shape": [
           1000
          ]
         },
         "type": "candlestick",
         "uid": "170fd00f-1b5a-4e57-903c-f6cdcc7ea9a3",
         "x": [
          "2018-01-01T00:00:00.000000",
          "2018-01-02T00:00:00.000000",
          "2018-01-03T00:00:00.000000",
          "2018-01-04T00:00:00.000000",
          "2018-01-05T00:00:00.000000",
          "2018-01-06T00:00:00.000000",
          "2018-01-07T00:00:00.000000",
          "2018-01-08T00:00:00.000000",
          "2018-01-09T00:00:00.000000",
          "2018-01-10T00:00:00.000000",
          "2018-01-11T00:00:00.000000",
          "2018-01-12T00:00:00.000000",
          "2018-01-13T00:00:00.000000",
          "2018-01-14T00:00:00.000000",
          "2018-01-15T00:00:00.000000",
          "2018-01-16T00:00:00.000000",
          "2018-01-17T00:00:00.000000",
          "2018-01-18T00:00:00.000000",
          "2018-01-19T00:00:00.000000",
          "2018-01-20T00:00:00.000000",
          "2018-01-21T00:00:00.000000",
          "2018-01-22T00:00:00.000000",
          "2018-01-23T00:00:00.000000",
          "2018-01-24T00:00:00.000000",
          "2018-01-25T00:00:00.000000",
          "2018-01-26T00:00:00.000000",
          "2018-01-27T00:00:00.000000",
          "2018-01-28T00:00:00.000000",
          "2018-01-29T00:00:00.000000",
          "2018-01-30T00:00:00.000000",
          "2018-01-31T00:00:00.000000",
          "2018-02-01T00:00:00.000000",
          "2018-02-02T00:00:00.000000",
          "2018-02-03T00:00:00.000000",
          "2018-02-04T00:00:00.000000",
          "2018-02-05T00:00:00.000000",
          "2018-02-06T00:00:00.000000",
          "2018-02-07T00:00:00.000000",
          "2018-02-08T00:00:00.000000",
          "2018-02-09T00:00:00.000000",
          "2018-02-10T00:00:00.000000",
          "2018-02-11T00:00:00.000000",
          "2018-02-12T00:00:00.000000",
          "2018-02-13T00:00:00.000000",
          "2018-02-14T00:00:00.000000",
          "2018-02-15T00:00:00.000000",
          "2018-02-16T00:00:00.000000",
          "2018-02-17T00:00:00.000000",
          "2018-02-18T00:00:00.000000",
          "2018-02-19T00:00:00.000000",
          "2018-02-20T00:00:00.000000",
          "2018-02-21T00:00:00.000000",
          "2018-02-22T00:00:00.000000",
          "2018-02-23T00:00:00.000000",
          "2018-02-24T00:00:00.000000",
          "2018-02-25T00:00:00.000000",
          "2018-02-26T00:00:00.000000",
          "2018-02-27T00:00:00.000000",
          "2018-02-28T00:00:00.000000",
          "2018-03-01T00:00:00.000000",
          "2018-03-02T00:00:00.000000",
          "2018-03-03T00:00:00.000000",
          "2018-03-04T00:00:00.000000",
          "2018-03-05T00:00:00.000000",
          "2018-03-06T00:00:00.000000",
          "2018-03-07T00:00:00.000000",
          "2018-03-08T00:00:00.000000",
          "2018-03-09T00:00:00.000000",
          "2018-03-10T00:00:00.000000",
          "2018-03-11T00:00:00.000000",
          "2018-03-12T00:00:00.000000",
          "2018-03-13T00:00:00.000000",
          "2018-03-14T00:00:00.000000",
          "2018-03-15T00:00:00.000000",
          "2018-03-16T00:00:00.000000",
          "2018-03-17T00:00:00.000000",
          "2018-03-18T00:00:00.000000",
          "2018-03-19T00:00:00.000000",
          "2018-03-20T00:00:00.000000",
          "2018-03-21T00:00:00.000000",
          "2018-03-22T00:00:00.000000",
          "2018-03-23T00:00:00.000000",
          "2018-03-24T00:00:00.000000",
          "2018-03-25T00:00:00.000000",
          "2018-03-26T00:00:00.000000",
          "2018-03-27T00:00:00.000000",
          "2018-03-28T00:00:00.000000",
          "2018-03-29T00:00:00.000000",
          "2018-03-30T00:00:00.000000",
          "2018-03-31T00:00:00.000000",
          "2018-04-01T00:00:00.000000",
          "2018-04-02T00:00:00.000000",
          "2018-04-03T00:00:00.000000",
          "2018-04-04T00:00:00.000000",
          "2018-04-05T00:00:00.000000",
          "2018-04-06T00:00:00.000000",
          "2018-04-07T00:00:00.000000",
          "2018-04-08T00:00:00.000000",
          "2018-04-09T00:00:00.000000",
          "2018-04-10T00:00:00.000000",
          "2018-04-11T00:00:00.000000",
          "2018-04-12T00:00:00.000000",
          "2018-04-13T00:00:00.000000",
          "2018-04-14T00:00:00.000000",
          "2018-04-15T00:00:00.000000",
          "2018-04-16T00:00:00.000000",
          "2018-04-17T00:00:00.000000",
          "2018-04-18T00:00:00.000000",
          "2018-04-19T00:00:00.000000",
          "2018-04-20T00:00:00.000000",
          "2018-04-21T00:00:00.000000",
          "2018-04-22T00:00:00.000000",
          "2018-04-23T00:00:00.000000",
          "2018-04-24T00:00:00.000000",
          "2018-04-25T00:00:00.000000",
          "2018-04-26T00:00:00.000000",
          "2018-04-27T00:00:00.000000",
          "2018-04-28T00:00:00.000000",
          "2018-04-29T00:00:00.000000",
          "2018-04-30T00:00:00.000000",
          "2018-05-01T00:00:00.000000",
          "2018-05-02T00:00:00.000000",
          "2018-05-03T00:00:00.000000",
          "2018-05-04T00:00:00.000000",
          "2018-05-05T00:00:00.000000",
          "2018-05-06T00:00:00.000000",
          "2018-05-07T00:00:00.000000",
          "2018-05-08T00:00:00.000000",
          "2018-05-09T00:00:00.000000",
          "2018-05-10T00:00:00.000000",
          "2018-05-11T00:00:00.000000",
          "2018-05-12T00:00:00.000000",
          "2018-05-13T00:00:00.000000",
          "2018-05-14T00:00:00.000000",
          "2018-05-15T00:00:00.000000",
          "2018-05-16T00:00:00.000000",
          "2018-05-17T00:00:00.000000",
          "2018-05-18T00:00:00.000000",
          "2018-05-19T00:00:00.000000",
          "2018-05-20T00:00:00.000000",
          "2018-05-21T00:00:00.000000",
          "2018-05-22T00:00:00.000000",
          "2018-05-23T00:00:00.000000",
          "2018-05-24T00:00:00.000000",
          "2018-05-25T00:00:00.000000",
          "2018-05-26T00:00:00.000000",
          "2018-05-27T00:00:00.000000",
          "2018-05-28T00:00:00.000000",
          "2018-05-29T00:00:00.000000",
          "2018-05-30T00:00:00.000000",
          "2018-05-31T00:00:00.000000",
          "2018-06-01T00:00:00.000000",
          "2018-06-02T00:00:00.000000",
          "2018-06-03T00:00:00.000000",
          "2018-06-04T00:00:00.000000",
          "2018-06-05T00:00:00.000000",
          "2018-06-06T00:00:00.000000",
          "2018-06-07T00:00:00.000000",
          "2018-06-08T00:00:00.000000",
          "2018-06-09T00:00:00.000000",
          "2018-06-10T00:00:00.000000",
          "2018-06-11T00:00:00.000000",
          "2018-06-12T00:00:00.000000",
          "2018-06-13T00:00:00.000000",
          "2018-06-14T00:00:00.000000",
          "2018-06-15T00:00:00.000000",
          "2018-06-16T00:00:00.000000",
          "2018-06-17T00:00:00.000000",
          "2018-06-18T00:00:00.000000",
          "2018-06-19T00:00:00.000000",
          "2018-06-20T00:00:00.000000",
          "2018-06-21T00:00:00.000000",
          "2018-06-22T00:00:00.000000",
          "2018-06-23T00:00:00.000000",
          "2018-06-24T00:00:00.000000",
          "2018-06-25T00:00:00.000000",
          "2018-06-26T00:00:00.000000",
          "2018-06-27T00:00:00.000000",
          "2018-06-28T00:00:00.000000",
          "2018-06-29T00:00:00.000000",
          "2018-06-30T00:00:00.000000",
          "2018-07-01T00:00:00.000000",
          "2018-07-02T00:00:00.000000",
          "2018-07-03T00:00:00.000000",
          "2018-07-04T00:00:00.000000",
          "2018-07-05T00:00:00.000000",
          "2018-07-06T00:00:00.000000",
          "2018-07-07T00:00:00.000000",
          "2018-07-08T00:00:00.000000",
          "2018-07-09T00:00:00.000000",
          "2018-07-10T00:00:00.000000",
          "2018-07-11T00:00:00.000000",
          "2018-07-12T00:00:00.000000",
          "2018-07-13T00:00:00.000000",
          "2018-07-14T00:00:00.000000",
          "2018-07-15T00:00:00.000000",
          "2018-07-16T00:00:00.000000",
          "2018-07-17T00:00:00.000000",
          "2018-07-18T00:00:00.000000",
          "2018-07-19T00:00:00.000000",
          "2018-07-20T00:00:00.000000",
          "2018-07-21T00:00:00.000000",
          "2018-07-22T00:00:00.000000",
          "2018-07-23T00:00:00.000000",
          "2018-07-24T00:00:00.000000",
          "2018-07-25T00:00:00.000000",
          "2018-07-26T00:00:00.000000",
          "2018-07-27T00:00:00.000000",
          "2018-07-28T00:00:00.000000",
          "2018-07-29T00:00:00.000000",
          "2018-07-30T00:00:00.000000",
          "2018-07-31T00:00:00.000000",
          "2018-08-01T00:00:00.000000",
          "2018-08-02T00:00:00.000000",
          "2018-08-03T00:00:00.000000",
          "2018-08-04T00:00:00.000000",
          "2018-08-05T00:00:00.000000",
          "2018-08-06T00:00:00.000000",
          "2018-08-07T00:00:00.000000",
          "2018-08-08T00:00:00.000000",
          "2018-08-09T00:00:00.000000",
          "2018-08-10T00:00:00.000000",
          "2018-08-11T00:00:00.000000",
          "2018-08-12T00:00:00.000000",
          "2018-08-13T00:00:00.000000",
          "2018-08-14T00:00:00.000000",
          "2018-08-15T00:00:00.000000",
          "2018-08-16T00:00:00.000000",
          "2018-08-17T00:00:00.000000",
          "2018-08-18T00:00:00.000000",
          "2018-08-19T00:00:00.000000",
          "2018-08-20T00:00:00.000000",
          "2018-08-21T00:00:00.000000",
          "2018-08-22T00:00:00.000000",
          "2018-08-23T00:00:00.000000",
          "2018-08-24T00:00:00.000000",
          "2018-08-25T00:00:00.000000",
          "2018-08-26T00:00:00.000000",
          "2018-08-27T00:00:00.000000",
          "2018-08-28T00:00:00.000000",
          "2018-08-29T00:00:00.000000",
          "2018-08-30T00:00:00.000000",
          "2018-08-31T00:00:00.000000",
          "2018-09-01T00:00:00.000000",
          "2018-09-02T00:00:00.000000",
          "2018-09-03T00:00:00.000000",
          "2018-09-04T00:00:00.000000",
          "2018-09-05T00:00:00.000000",
          "2018-09-06T00:00:00.000000",
          "2018-09-07T00:00:00.000000",
          "2018-09-08T00:00:00.000000",
          "2018-09-09T00:00:00.000000",
          "2018-09-10T00:00:00.000000",
          "2018-09-11T00:00:00.000000",
          "2018-09-12T00:00:00.000000",
          "2018-09-13T00:00:00.000000",
          "2018-09-14T00:00:00.000000",
          "2018-09-15T00:00:00.000000",
          "2018-09-16T00:00:00.000000",
          "2018-09-17T00:00:00.000000",
          "2018-09-18T00:00:00.000000",
          "2018-09-19T00:00:00.000000",
          "2018-09-20T00:00:00.000000",
          "2018-09-21T00:00:00.000000",
          "2018-09-22T00:00:00.000000",
          "2018-09-23T00:00:00.000000",
          "2018-09-24T00:00:00.000000",
          "2018-09-25T00:00:00.000000",
          "2018-09-26T00:00:00.000000",
          "2018-09-27T00:00:00.000000",
          "2018-09-28T00:00:00.000000",
          "2018-09-29T00:00:00.000000",
          "2018-09-30T00:00:00.000000",
          "2018-10-01T00:00:00.000000",
          "2018-10-02T00:00:00.000000",
          "2018-10-03T00:00:00.000000",
          "2018-10-04T00:00:00.000000",
          "2018-10-05T00:00:00.000000",
          "2018-10-06T00:00:00.000000",
          "2018-10-07T00:00:00.000000",
          "2018-10-08T00:00:00.000000",
          "2018-10-09T00:00:00.000000",
          "2018-10-10T00:00:00.000000",
          "2018-10-11T00:00:00.000000",
          "2018-10-12T00:00:00.000000",
          "2018-10-13T00:00:00.000000",
          "2018-10-14T00:00:00.000000",
          "2018-10-15T00:00:00.000000",
          "2018-10-16T00:00:00.000000",
          "2018-10-17T00:00:00.000000",
          "2018-10-18T00:00:00.000000",
          "2018-10-19T00:00:00.000000",
          "2018-10-20T00:00:00.000000",
          "2018-10-21T00:00:00.000000",
          "2018-10-22T00:00:00.000000",
          "2018-10-23T00:00:00.000000",
          "2018-10-24T00:00:00.000000",
          "2018-10-25T00:00:00.000000",
          "2018-10-26T00:00:00.000000",
          "2018-10-27T00:00:00.000000",
          "2018-10-28T00:00:00.000000",
          "2018-10-29T00:00:00.000000",
          "2018-10-30T00:00:00.000000",
          "2018-10-31T00:00:00.000000",
          "2018-11-01T00:00:00.000000",
          "2018-11-02T00:00:00.000000",
          "2018-11-03T00:00:00.000000",
          "2018-11-04T00:00:00.000000",
          "2018-11-05T00:00:00.000000",
          "2018-11-06T00:00:00.000000",
          "2018-11-07T00:00:00.000000",
          "2018-11-08T00:00:00.000000",
          "2018-11-09T00:00:00.000000",
          "2018-11-10T00:00:00.000000",
          "2018-11-11T00:00:00.000000",
          "2018-11-12T00:00:00.000000",
          "2018-11-13T00:00:00.000000",
          "2018-11-14T00:00:00.000000",
          "2018-11-15T00:00:00.000000",
          "2018-11-16T00:00:00.000000",
          "2018-11-17T00:00:00.000000",
          "2018-11-18T00:00:00.000000",
          "2018-11-19T00:00:00.000000",
          "2018-11-20T00:00:00.000000",
          "2018-11-21T00:00:00.000000",
          "2018-11-22T00:00:00.000000",
          "2018-11-23T00:00:00.000000",
          "2018-11-24T00:00:00.000000",
          "2018-11-25T00:00:00.000000",
          "2018-11-26T00:00:00.000000",
          "2018-11-27T00:00:00.000000",
          "2018-11-28T00:00:00.000000",
          "2018-11-29T00:00:00.000000",
          "2018-11-30T00:00:00.000000",
          "2018-12-01T00:00:00.000000",
          "2018-12-02T00:00:00.000000",
          "2018-12-03T00:00:00.000000",
          "2018-12-04T00:00:00.000000",
          "2018-12-05T00:00:00.000000",
          "2018-12-06T00:00:00.000000",
          "2018-12-07T00:00:00.000000",
          "2018-12-08T00:00:00.000000",
          "2018-12-09T00:00:00.000000",
          "2018-12-10T00:00:00.000000",
          "2018-12-11T00:00:00.000000",
          "2018-12-12T00:00:00.000000",
          "2018-12-13T00:00:00.000000",
          "2018-12-14T00:00:00.000000",
          "2018-12-15T00:00:00.000000",
          "2018-12-16T00:00:00.000000",
          "2018-12-17T00:00:00.000000",
          "2018-12-18T00:00:00.000000",
          "2018-12-19T00:00:00.000000",
          "2018-12-20T00:00:00.000000",
          "2018-12-21T00:00:00.000000",
          "2018-12-22T00:00:00.000000",
          "2018-12-23T00:00:00.000000",
          "2018-12-24T00:00:00.000000",
          "2018-12-25T00:00:00.000000",
          "2018-12-26T00:00:00.000000",
          "2018-12-27T00:00:00.000000",
          "2018-12-28T00:00:00.000000",
          "2018-12-29T00:00:00.000000",
          "2018-12-30T00:00:00.000000",
          "2018-12-31T00:00:00.000000",
          "2019-01-01T00:00:00.000000",
          "2019-01-02T00:00:00.000000",
          "2019-01-03T00:00:00.000000",
          "2019-01-04T00:00:00.000000",
          "2019-01-05T00:00:00.000000",
          "2019-01-06T00:00:00.000000",
          "2019-01-07T00:00:00.000000",
          "2019-01-08T00:00:00.000000",
          "2019-01-09T00:00:00.000000",
          "2019-01-10T00:00:00.000000",
          "2019-01-11T00:00:00.000000",
          "2019-01-12T00:00:00.000000",
          "2019-01-13T00:00:00.000000",
          "2019-01-14T00:00:00.000000",
          "2019-01-15T00:00:00.000000",
          "2019-01-16T00:00:00.000000",
          "2019-01-17T00:00:00.000000",
          "2019-01-18T00:00:00.000000",
          "2019-01-19T00:00:00.000000",
          "2019-01-20T00:00:00.000000",
          "2019-01-21T00:00:00.000000",
          "2019-01-22T00:00:00.000000",
          "2019-01-23T00:00:00.000000",
          "2019-01-24T00:00:00.000000",
          "2019-01-25T00:00:00.000000",
          "2019-01-26T00:00:00.000000",
          "2019-01-27T00:00:00.000000",
          "2019-01-28T00:00:00.000000",
          "2019-01-29T00:00:00.000000",
          "2019-01-30T00:00:00.000000",
          "2019-01-31T00:00:00.000000",
          "2019-02-01T00:00:00.000000",
          "2019-02-02T00:00:00.000000",
          "2019-02-03T00:00:00.000000",
          "2019-02-04T00:00:00.000000",
          "2019-02-05T00:00:00.000000",
          "2019-02-06T00:00:00.000000",
          "2019-02-07T00:00:00.000000",
          "2019-02-08T00:00:00.000000",
          "2019-02-09T00:00:00.000000",
          "2019-02-10T00:00:00.000000",
          "2019-02-11T00:00:00.000000",
          "2019-02-12T00:00:00.000000",
          "2019-02-13T00:00:00.000000",
          "2019-02-14T00:00:00.000000",
          "2019-02-15T00:00:00.000000",
          "2019-02-16T00:00:00.000000",
          "2019-02-17T00:00:00.000000",
          "2019-02-18T00:00:00.000000",
          "2019-02-19T00:00:00.000000",
          "2019-02-20T00:00:00.000000",
          "2019-02-21T00:00:00.000000",
          "2019-02-22T00:00:00.000000",
          "2019-02-23T00:00:00.000000",
          "2019-02-24T00:00:00.000000",
          "2019-02-25T00:00:00.000000",
          "2019-02-26T00:00:00.000000",
          "2019-02-27T00:00:00.000000",
          "2019-02-28T00:00:00.000000",
          "2019-03-01T00:00:00.000000",
          "2019-03-02T00:00:00.000000",
          "2019-03-03T00:00:00.000000",
          "2019-03-04T00:00:00.000000",
          "2019-03-05T00:00:00.000000",
          "2019-03-06T00:00:00.000000",
          "2019-03-07T00:00:00.000000",
          "2019-03-08T00:00:00.000000",
          "2019-03-09T00:00:00.000000",
          "2019-03-10T00:00:00.000000",
          "2019-03-11T00:00:00.000000",
          "2019-03-12T00:00:00.000000",
          "2019-03-13T00:00:00.000000",
          "2019-03-14T00:00:00.000000",
          "2019-03-15T00:00:00.000000",
          "2019-03-16T00:00:00.000000",
          "2019-03-17T00:00:00.000000",
          "2019-03-18T00:00:00.000000",
          "2019-03-19T00:00:00.000000",
          "2019-03-20T00:00:00.000000",
          "2019-03-21T00:00:00.000000",
          "2019-03-22T00:00:00.000000",
          "2019-03-23T00:00:00.000000",
          "2019-03-24T00:00:00.000000",
          "2019-03-25T00:00:00.000000",
          "2019-03-26T00:00:00.000000",
          "2019-03-27T00:00:00.000000",
          "2019-03-28T00:00:00.000000",
          "2019-03-29T00:00:00.000000",
          "2019-03-30T00:00:00.000000",
          "2019-03-31T00:00:00.000000",
          "2019-04-01T00:00:00.000000",
          "2019-04-02T00:00:00.000000",
          "2019-04-03T00:00:00.000000",
          "2019-04-04T00:00:00.000000",
          "2019-04-05T00:00:00.000000",
          "2019-04-06T00:00:00.000000",
          "2019-04-07T00:00:00.000000",
          "2019-04-08T00:00:00.000000",
          "2019-04-09T00:00:00.000000",
          "2019-04-10T00:00:00.000000",
          "2019-04-11T00:00:00.000000",
          "2019-04-12T00:00:00.000000",
          "2019-04-13T00:00:00.000000",
          "2019-04-14T00:00:00.000000",
          "2019-04-15T00:00:00.000000",
          "2019-04-16T00:00:00.000000",
          "2019-04-17T00:00:00.000000",
          "2019-04-18T00:00:00.000000",
          "2019-04-19T00:00:00.000000",
          "2019-04-20T00:00:00.000000",
          "2019-04-21T00:00:00.000000",
          "2019-04-22T00:00:00.000000",
          "2019-04-23T00:00:00.000000",
          "2019-04-24T00:00:00.000000",
          "2019-04-25T00:00:00.000000",
          "2019-04-26T00:00:00.000000",
          "2019-04-27T00:00:00.000000",
          "2019-04-28T00:00:00.000000",
          "2019-04-29T00:00:00.000000",
          "2019-04-30T00:00:00.000000",
          "2019-05-01T00:00:00.000000",
          "2019-05-02T00:00:00.000000",
          "2019-05-03T00:00:00.000000",
          "2019-05-04T00:00:00.000000",
          "2019-05-05T00:00:00.000000",
          "2019-05-06T00:00:00.000000",
          "2019-05-07T00:00:00.000000",
          "2019-05-08T00:00:00.000000",
          "2019-05-09T00:00:00.000000",
          "2019-05-10T00:00:00.000000",
          "2019-05-11T00:00:00.000000",
          "2019-05-12T00:00:00.000000",
          "2019-05-13T00:00:00.000000",
          "2019-05-14T00:00:00.000000",
          "2019-05-15T00:00:00.000000",
          "2019-05-16T00:00:00.000000",
          "2019-05-17T00:00:00.000000",
          "2019-05-18T00:00:00.000000",
          "2019-05-19T00:00:00.000000",
          "2019-05-20T00:00:00.000000",
          "2019-05-21T00:00:00.000000",
          "2019-05-22T00:00:00.000000",
          "2019-05-23T00:00:00.000000",
          "2019-05-24T00:00:00.000000",
          "2019-05-25T00:00:00.000000",
          "2019-05-26T00:00:00.000000",
          "2019-05-27T00:00:00.000000",
          "2019-05-28T00:00:00.000000",
          "2019-05-29T00:00:00.000000",
          "2019-05-30T00:00:00.000000",
          "2019-05-31T00:00:00.000000",
          "2019-06-01T00:00:00.000000",
          "2019-06-02T00:00:00.000000",
          "2019-06-03T00:00:00.000000",
          "2019-06-04T00:00:00.000000",
          "2019-06-05T00:00:00.000000",
          "2019-06-06T00:00:00.000000",
          "2019-06-07T00:00:00.000000",
          "2019-06-08T00:00:00.000000",
          "2019-06-09T00:00:00.000000",
          "2019-06-10T00:00:00.000000",
          "2019-06-11T00:00:00.000000",
          "2019-06-12T00:00:00.000000",
          "2019-06-13T00:00:00.000000",
          "2019-06-14T00:00:00.000000",
          "2019-06-15T00:00:00.000000",
          "2019-06-16T00:00:00.000000",
          "2019-06-17T00:00:00.000000",
          "2019-06-18T00:00:00.000000",
          "2019-06-19T00:00:00.000000",
          "2019-06-20T00:00:00.000000",
          "2019-06-21T00:00:00.000000",
          "2019-06-22T00:00:00.000000",
          "2019-06-23T00:00:00.000000",
          "2019-06-24T00:00:00.000000",
          "2019-06-25T00:00:00.000000",
          "2019-06-26T00:00:00.000000",
          "2019-06-27T00:00:00.000000",
          "2019-06-28T00:00:00.000000",
          "2019-06-29T00:00:00.000000",
          "2019-06-30T00:00:00.000000",
          "2019-07-01T00:00:00.000000",
          "2019-07-02T00:00:00.000000",
          "2019-07-03T00:00:00.000000",
          "2019-07-04T00:00:00.000000",
          "2019-07-05T00:00:00.000000",
          "2019-07-06T00:00:00.000000",
          "2019-07-07T00:00:00.000000",
          "2019-07-08T00:00:00.000000",
          "2019-07-09T00:00:00.000000",
          "2019-07-10T00:00:00.000000",
          "2019-07-11T00:00:00.000000",
          "2019-07-12T00:00:00.000000",
          "2019-07-13T00:00:00.000000",
          "2019-07-14T00:00:00.000000",
          "2019-07-15T00:00:00.000000",
          "2019-07-16T00:00:00.000000",
          "2019-07-17T00:00:00.000000",
          "2019-07-18T00:00:00.000000",
          "2019-07-19T00:00:00.000000",
          "2019-07-20T00:00:00.000000",
          "2019-07-21T00:00:00.000000",
          "2019-07-22T00:00:00.000000",
          "2019-07-23T00:00:00.000000",
          "2019-07-24T00:00:00.000000",
          "2019-07-25T00:00:00.000000",
          "2019-07-26T00:00:00.000000",
          "2019-07-27T00:00:00.000000",
          "2019-07-28T00:00:00.000000",
          "2019-07-29T00:00:00.000000",
          "2019-07-30T00:00:00.000000",
          "2019-07-31T00:00:00.000000",
          "2019-08-01T00:00:00.000000",
          "2019-08-02T00:00:00.000000",
          "2019-08-03T00:00:00.000000",
          "2019-08-04T00:00:00.000000",
          "2019-08-05T00:00:00.000000",
          "2019-08-06T00:00:00.000000",
          "2019-08-07T00:00:00.000000",
          "2019-08-08T00:00:00.000000",
          "2019-08-09T00:00:00.000000",
          "2019-08-10T00:00:00.000000",
          "2019-08-11T00:00:00.000000",
          "2019-08-12T00:00:00.000000",
          "2019-08-13T00:00:00.000000",
          "2019-08-14T00:00:00.000000",
          "2019-08-15T00:00:00.000000",
          "2019-08-16T00:00:00.000000",
          "2019-08-17T00:00:00.000000",
          "2019-08-18T00:00:00.000000",
          "2019-08-19T00:00:00.000000",
          "2019-08-20T00:00:00.000000",
          "2019-08-21T00:00:00.000000",
          "2019-08-22T00:00:00.000000",
          "2019-08-23T00:00:00.000000",
          "2019-08-24T00:00:00.000000",
          "2019-08-25T00:00:00.000000",
          "2019-08-26T00:00:00.000000",
          "2019-08-27T00:00:00.000000",
          "2019-08-28T00:00:00.000000",
          "2019-08-29T00:00:00.000000",
          "2019-08-30T00:00:00.000000",
          "2019-08-31T00:00:00.000000",
          "2019-09-01T00:00:00.000000",
          "2019-09-02T00:00:00.000000",
          "2019-09-03T00:00:00.000000",
          "2019-09-04T00:00:00.000000",
          "2019-09-05T00:00:00.000000",
          "2019-09-06T00:00:00.000000",
          "2019-09-07T00:00:00.000000",
          "2019-09-08T00:00:00.000000",
          "2019-09-09T00:00:00.000000",
          "2019-09-10T00:00:00.000000",
          "2019-09-11T00:00:00.000000",
          "2019-09-12T00:00:00.000000",
          "2019-09-13T00:00:00.000000",
          "2019-09-14T00:00:00.000000",
          "2019-09-15T00:00:00.000000",
          "2019-09-16T00:00:00.000000",
          "2019-09-17T00:00:00.000000",
          "2019-09-18T00:00:00.000000",
          "2019-09-19T00:00:00.000000",
          "2019-09-20T00:00:00.000000",
          "2019-09-21T00:00:00.000000",
          "2019-09-22T00:00:00.000000",
          "2019-09-23T00:00:00.000000",
          "2019-09-24T00:00:00.000000",
          "2019-09-25T00:00:00.000000",
          "2019-09-26T00:00:00.000000",
          "2019-09-27T00:00:00.000000",
          "2019-09-28T00:00:00.000000",
          "2019-09-29T00:00:00.000000",
          "2019-09-30T00:00:00.000000",
          "2019-10-01T00:00:00.000000",
          "2019-10-02T00:00:00.000000",
          "2019-10-03T00:00:00.000000",
          "2019-10-04T00:00:00.000000",
          "2019-10-05T00:00:00.000000",
          "2019-10-06T00:00:00.000000",
          "2019-10-07T00:00:00.000000",
          "2019-10-08T00:00:00.000000",
          "2019-10-09T00:00:00.000000",
          "2019-10-10T00:00:00.000000",
          "2019-10-11T00:00:00.000000",
          "2019-10-12T00:00:00.000000",
          "2019-10-13T00:00:00.000000",
          "2019-10-14T00:00:00.000000",
          "2019-10-15T00:00:00.000000",
          "2019-10-16T00:00:00.000000",
          "2019-10-17T00:00:00.000000",
          "2019-10-18T00:00:00.000000",
          "2019-10-19T00:00:00.000000",
          "2019-10-20T00:00:00.000000",
          "2019-10-21T00:00:00.000000",
          "2019-10-22T00:00:00.000000",
          "2019-10-23T00:00:00.000000",
          "2019-10-24T00:00:00.000000",
          "2019-10-25T00:00:00.000000",
          "2019-10-26T00:00:00.000000",
          "2019-10-27T00:00:00.000000",
          "2019-10-28T00:00:00.000000",
          "2019-10-29T00:00:00.000000",
          "2019-10-30T00:00:00.000000",
          "2019-10-31T00:00:00.000000",
          "2019-11-01T00:00:00.000000",
          "2019-11-02T00:00:00.000000",
          "2019-11-03T00:00:00.000000",
          "2019-11-04T00:00:00.000000",
          "2019-11-05T00:00:00.000000",
          "2019-11-06T00:00:00.000000",
          "2019-11-07T00:00:00.000000",
          "2019-11-08T00:00:00.000000",
          "2019-11-09T00:00:00.000000",
          "2019-11-10T00:00:00.000000",
          "2019-11-11T00:00:00.000000",
          "2019-11-12T00:00:00.000000",
          "2019-11-13T00:00:00.000000",
          "2019-11-14T00:00:00.000000",
          "2019-11-15T00:00:00.000000",
          "2019-11-16T00:00:00.000000",
          "2019-11-17T00:00:00.000000",
          "2019-11-18T00:00:00.000000",
          "2019-11-19T00:00:00.000000",
          "2019-11-20T00:00:00.000000",
          "2019-11-21T00:00:00.000000",
          "2019-11-22T00:00:00.000000",
          "2019-11-23T00:00:00.000000",
          "2019-11-24T00:00:00.000000",
          "2019-11-25T00:00:00.000000",
          "2019-11-26T00:00:00.000000",
          "2019-11-27T00:00:00.000000",
          "2019-11-28T00:00:00.000000",
          "2019-11-29T00:00:00.000000",
          "2019-11-30T00:00:00.000000",
          "2019-12-01T00:00:00.000000",
          "2019-12-02T00:00:00.000000",
          "2019-12-03T00:00:00.000000",
          "2019-12-04T00:00:00.000000",
          "2019-12-05T00:00:00.000000",
          "2019-12-06T00:00:00.000000",
          "2019-12-07T00:00:00.000000",
          "2019-12-08T00:00:00.000000",
          "2019-12-09T00:00:00.000000",
          "2019-12-10T00:00:00.000000",
          "2019-12-11T00:00:00.000000",
          "2019-12-12T00:00:00.000000",
          "2019-12-13T00:00:00.000000",
          "2019-12-14T00:00:00.000000",
          "2019-12-15T00:00:00.000000",
          "2019-12-16T00:00:00.000000",
          "2019-12-17T00:00:00.000000",
          "2019-12-18T00:00:00.000000",
          "2019-12-19T00:00:00.000000",
          "2019-12-20T00:00:00.000000",
          "2019-12-21T00:00:00.000000",
          "2019-12-22T00:00:00.000000",
          "2019-12-23T00:00:00.000000",
          "2019-12-24T00:00:00.000000",
          "2019-12-25T00:00:00.000000",
          "2019-12-26T00:00:00.000000",
          "2019-12-27T00:00:00.000000",
          "2019-12-28T00:00:00.000000",
          "2019-12-29T00:00:00.000000",
          "2019-12-30T00:00:00.000000",
          "2019-12-31T00:00:00.000000",
          "2020-01-01T00:00:00.000000",
          "2020-01-02T00:00:00.000000",
          "2020-01-03T00:00:00.000000",
          "2020-01-04T00:00:00.000000",
          "2020-01-05T00:00:00.000000",
          "2020-01-06T00:00:00.000000",
          "2020-01-07T00:00:00.000000",
          "2020-01-08T00:00:00.000000",
          "2020-01-09T00:00:00.000000",
          "2020-01-10T00:00:00.000000",
          "2020-01-11T00:00:00.000000",
          "2020-01-12T00:00:00.000000",
          "2020-01-13T00:00:00.000000",
          "2020-01-14T00:00:00.000000",
          "2020-01-15T00:00:00.000000",
          "2020-01-16T00:00:00.000000",
          "2020-01-17T00:00:00.000000",
          "2020-01-18T00:00:00.000000",
          "2020-01-19T00:00:00.000000",
          "2020-01-20T00:00:00.000000",
          "2020-01-21T00:00:00.000000",
          "2020-01-22T00:00:00.000000",
          "2020-01-23T00:00:00.000000",
          "2020-01-24T00:00:00.000000",
          "2020-01-25T00:00:00.000000",
          "2020-01-26T00:00:00.000000",
          "2020-01-27T00:00:00.000000",
          "2020-01-28T00:00:00.000000",
          "2020-01-29T00:00:00.000000",
          "2020-01-30T00:00:00.000000",
          "2020-01-31T00:00:00.000000",
          "2020-02-01T00:00:00.000000",
          "2020-02-02T00:00:00.000000",
          "2020-02-03T00:00:00.000000",
          "2020-02-04T00:00:00.000000",
          "2020-02-05T00:00:00.000000",
          "2020-02-06T00:00:00.000000",
          "2020-02-07T00:00:00.000000",
          "2020-02-08T00:00:00.000000",
          "2020-02-09T00:00:00.000000",
          "2020-02-10T00:00:00.000000",
          "2020-02-11T00:00:00.000000",
          "2020-02-12T00:00:00.000000",
          "2020-02-13T00:00:00.000000",
          "2020-02-14T00:00:00.000000",
          "2020-02-15T00:00:00.000000",
          "2020-02-16T00:00:00.000000",
          "2020-02-17T00:00:00.000000",
          "2020-02-18T00:00:00.000000",
          "2020-02-19T00:00:00.000000",
          "2020-02-20T00:00:00.000000",
          "2020-02-21T00:00:00.000000",
          "2020-02-22T00:00:00.000000",
          "2020-02-23T00:00:00.000000",
          "2020-02-24T00:00:00.000000",
          "2020-02-25T00:00:00.000000",
          "2020-02-26T00:00:00.000000",
          "2020-02-27T00:00:00.000000",
          "2020-02-28T00:00:00.000000",
          "2020-02-29T00:00:00.000000",
          "2020-03-01T00:00:00.000000",
          "2020-03-02T00:00:00.000000",
          "2020-03-03T00:00:00.000000",
          "2020-03-04T00:00:00.000000",
          "2020-03-05T00:00:00.000000",
          "2020-03-06T00:00:00.000000",
          "2020-03-07T00:00:00.000000",
          "2020-03-08T00:00:00.000000",
          "2020-03-09T00:00:00.000000",
          "2020-03-10T00:00:00.000000",
          "2020-03-11T00:00:00.000000",
          "2020-03-12T00:00:00.000000",
          "2020-03-13T00:00:00.000000",
          "2020-03-14T00:00:00.000000",
          "2020-03-15T00:00:00.000000",
          "2020-03-16T00:00:00.000000",
          "2020-03-17T00:00:00.000000",
          "2020-03-18T00:00:00.000000",
          "2020-03-19T00:00:00.000000",
          "2020-03-20T00:00:00.000000",
          "2020-03-21T00:00:00.000000",
          "2020-03-22T00:00:00.000000",
          "2020-03-23T00:00:00.000000",
          "2020-03-24T00:00:00.000000",
          "2020-03-25T00:00:00.000000",
          "2020-03-26T00:00:00.000000",
          "2020-03-27T00:00:00.000000",
          "2020-03-28T00:00:00.000000",
          "2020-03-29T00:00:00.000000",
          "2020-03-30T00:00:00.000000",
          "2020-03-31T00:00:00.000000",
          "2020-04-01T00:00:00.000000",
          "2020-04-02T00:00:00.000000",
          "2020-04-03T00:00:00.000000",
          "2020-04-04T00:00:00.000000",
          "2020-04-05T00:00:00.000000",
          "2020-04-06T00:00:00.000000",
          "2020-04-07T00:00:00.000000",
          "2020-04-08T00:00:00.000000",
          "2020-04-09T00:00:00.000000",
          "2020-04-10T00:00:00.000000",
          "2020-04-11T00:00:00.000000",
          "2020-04-12T00:00:00.000000",
          "2020-04-13T00:00:00.000000",
          "2020-04-14T00:00:00.000000",
          "2020-04-15T00:00:00.000000",
          "2020-04-16T00:00:00.000000",
          "2020-04-17T00:00:00.000000",
          "2020-04-18T00:00:00.000000",
          "2020-04-19T00:00:00.000000",
          "2020-04-20T00:00:00.000000",
          "2020-04-21T00:00:00.000000",
          "2020-04-22T00:00:00.000000",
          "2020-04-23T00:00:00.000000",
          "2020-04-24T00:00:00.000000",
          "2020-04-25T00:00:00.000000",
          "2020-04-26T00:00:00.000000",
          "2020-04-27T00:00:00.000000",
          "2020-04-28T00:00:00.000000",
          "2020-04-29T00:00:00.000000",
          "2020-04-30T00:00:00.000000",
          "2020-05-01T00:00:00.000000",
          "2020-05-02T00:00:00.000000",
          "2020-05-03T00:00:00.000000",
          "2020-05-04T00:00:00.000000",
          "2020-05-05T00:00:00.000000",
          "2020-05-06T00:00:00.000000",
          "2020-05-07T00:00:00.000000",
          "2020-05-08T00:00:00.000000",
          "2020-05-09T00:00:00.000000",
          "2020-05-10T00:00:00.000000",
          "2020-05-11T00:00:00.000000",
          "2020-05-12T00:00:00.000000",
          "2020-05-13T00:00:00.000000",
          "2020-05-14T00:00:00.000000",
          "2020-05-15T00:00:00.000000",
          "2020-05-16T00:00:00.000000",
          "2020-05-17T00:00:00.000000",
          "2020-05-18T00:00:00.000000",
          "2020-05-19T00:00:00.000000",
          "2020-05-20T00:00:00.000000",
          "2020-05-21T00:00:00.000000",
          "2020-05-22T00:00:00.000000",
          "2020-05-23T00:00:00.000000",
          "2020-05-24T00:00:00.000000",
          "2020-05-25T00:00:00.000000",
          "2020-05-26T00:00:00.000000",
          "2020-05-27T00:00:00.000000",
          "2020-05-28T00:00:00.000000",
          "2020-05-29T00:00:00.000000",
          "2020-05-30T00:00:00.000000",
          "2020-05-31T00:00:00.000000",
          "2020-06-01T00:00:00.000000",
          "2020-06-02T00:00:00.000000",
          "2020-06-03T00:00:00.000000",
          "2020-06-04T00:00:00.000000",
          "2020-06-05T00:00:00.000000",
          "2020-06-06T00:00:00.000000",
          "2020-06-07T00:00:00.000000",
          "2020-06-08T00:00:00.000000",
          "2020-06-09T00:00:00.000000",
          "2020-06-10T00:00:00.000000",
          "2020-06-11T00:00:00.000000",
          "2020-06-12T00:00:00.000000",
          "2020-06-13T00:00:00.000000",
          "2020-06-14T00:00:00.000000",
          "2020-06-15T00:00:00.000000",
          "2020-06-16T00:00:00.000000",
          "2020-06-17T00:00:00.000000",
          "2020-06-18T00:00:00.000000",
          "2020-06-19T00:00:00.000000",
          "2020-06-20T00:00:00.000000",
          "2020-06-21T00:00:00.000000",
          "2020-06-22T00:00:00.000000",
          "2020-06-23T00:00:00.000000",
          "2020-06-24T00:00:00.000000",
          "2020-06-25T00:00:00.000000",
          "2020-06-26T00:00:00.000000",
          "2020-06-27T00:00:00.000000",
          "2020-06-28T00:00:00.000000",
          "2020-06-29T00:00:00.000000",
          "2020-06-30T00:00:00.000000",
          "2020-07-01T00:00:00.000000",
          "2020-07-02T00:00:00.000000",
          "2020-07-03T00:00:00.000000",
          "2020-07-04T00:00:00.000000",
          "2020-07-05T00:00:00.000000",
          "2020-07-06T00:00:00.000000",
          "2020-07-07T00:00:00.000000",
          "2020-07-08T00:00:00.000000",
          "2020-07-09T00:00:00.000000",
          "2020-07-10T00:00:00.000000",
          "2020-07-11T00:00:00.000000",
          "2020-07-12T00:00:00.000000",
          "2020-07-13T00:00:00.000000",
          "2020-07-14T00:00:00.000000",
          "2020-07-15T00:00:00.000000",
          "2020-07-16T00:00:00.000000",
          "2020-07-17T00:00:00.000000",
          "2020-07-18T00:00:00.000000",
          "2020-07-19T00:00:00.000000",
          "2020-07-20T00:00:00.000000",
          "2020-07-21T00:00:00.000000",
          "2020-07-22T00:00:00.000000",
          "2020-07-23T00:00:00.000000",
          "2020-07-24T00:00:00.000000",
          "2020-07-25T00:00:00.000000",
          "2020-07-26T00:00:00.000000",
          "2020-07-27T00:00:00.000000",
          "2020-07-28T00:00:00.000000",
          "2020-07-29T00:00:00.000000",
          "2020-07-30T00:00:00.000000",
          "2020-07-31T00:00:00.000000",
          "2020-08-01T00:00:00.000000",
          "2020-08-02T00:00:00.000000",
          "2020-08-03T00:00:00.000000",
          "2020-08-04T00:00:00.000000",
          "2020-08-05T00:00:00.000000",
          "2020-08-06T00:00:00.000000",
          "2020-08-07T00:00:00.000000",
          "2020-08-08T00:00:00.000000",
          "2020-08-09T00:00:00.000000",
          "2020-08-10T00:00:00.000000",
          "2020-08-11T00:00:00.000000",
          "2020-08-12T00:00:00.000000",
          "2020-08-13T00:00:00.000000",
          "2020-08-14T00:00:00.000000",
          "2020-08-15T00:00:00.000000",
          "2020-08-16T00:00:00.000000",
          "2020-08-17T00:00:00.000000",
          "2020-08-18T00:00:00.000000",
          "2020-08-19T00:00:00.000000",
          "2020-08-20T00:00:00.000000",
          "2020-08-21T00:00:00.000000",
          "2020-08-22T00:00:00.000000",
          "2020-08-23T00:00:00.000000",
          "2020-08-24T00:00:00.000000",
          "2020-08-25T00:00:00.000000",
          "2020-08-26T00:00:00.000000",
          "2020-08-27T00:00:00.000000",
          "2020-08-28T00:00:00.000000",
          "2020-08-29T00:00:00.000000",
          "2020-08-30T00:00:00.000000",
          "2020-08-31T00:00:00.000000",
          "2020-09-01T00:00:00.000000",
          "2020-09-02T00:00:00.000000",
          "2020-09-03T00:00:00.000000",
          "2020-09-04T00:00:00.000000",
          "2020-09-05T00:00:00.000000",
          "2020-09-06T00:00:00.000000",
          "2020-09-07T00:00:00.000000",
          "2020-09-08T00:00:00.000000",
          "2020-09-09T00:00:00.000000",
          "2020-09-10T00:00:00.000000",
          "2020-09-11T00:00:00.000000",
          "2020-09-12T00:00:00.000000",
          "2020-09-13T00:00:00.000000",
          "2020-09-14T00:00:00.000000",
          "2020-09-15T00:00:00.000000",
          "2020-09-16T00:00:00.000000",
          "2020-09-17T00:00:00.000000",
          "2020-09-18T00:00:00.000000",
          "2020-09-19T00:00:00.000000",
          "2020-09-20T00:00:00.000000",
          "2020-09-21T00:00:00.000000",
          "2020-09-22T00:00:00.000000",
          "2020-09-23T00:00:00.000000",
          "2020-09-24T00:00:00.000000",
          "2020-09-25T00:00:00.000000",
          "2020-09-26T00:00:00.000000"
         ],
         "xaxis": "x",
         "yaxis": "y2"
        },
        {
         "marker": {
          "color": [
           "green",
           "red",
           "green",
           "red",
           "green",
           "red",
           "green",
           "red",
           "red",
           "red",
           "green",
           "red",
           "green",
           "red",
           "red",
           "green",
           "red",
           "green",
           "red",
           "red",
           "red",
           "red",
           "red",
           "green",
           "green",
           "red",
           "green",
           "green",
           "green",
           "green",
           "green",
           "green",
           "red",
           "green",
           "red",
           "red",
           "green",
           "green",
           "red",
           "red",
           "red",
           "green",
           "green",
           "green",
           "red",
           "green",
           "red",
           "red",
           "red",
           "green",
           "green",
           "green",
           "green",
           "red",
           "red",
           "red",
           "green",
           "red",
           "red",
           "red",
           "green",
           "green",
           "green",
           "green",
           "red",
           "green",
           "green",
           "green",
           "red",
           "red",
           "green",
           "red",
           "red",
           "green",
           "green",
           "red",
           "red",
           "red",
           "red",
           "red",
           "red",
           "red",
           "green",
           "red",
           "red",
           "red",
           "green",
           "green",
           "green",
           "red",
           "red",
           "red",
           "red",
           "green",
           "red",
           "green",
           "red",
           "green",
           "red",
           "green",
           "red",
           "red",
           "green",
           "red",
           "red",
           "green",
           "green",
           "green",
           "red",
           "red",
           "green",
           "red",
           "red",
           "red",
           "red",
           "green",
           "green",
           "green",
           "red",
           "red",
           "green",
           "green",
           "green",
           "red",
           "red",
           "red",
           "green",
           "red",
           "red",
           "red",
           "red",
           "red",
           "green",
           "green",
           "red",
           "red",
           "red",
           "red",
           "green",
           "red",
           "red",
           "green",
           "green",
           "red",
           "red",
           "red",
           "green",
           "green",
           "green",
           "red",
           "red",
           "red",
           "red",
           "red",
           "green",
           "green",
           "red",
           "green",
           "green",
           "green",
           "green",
           "green",
           "green",
           "red",
           "green",
           "red",
           "green",
           "green",
           "red",
           "green",
           "red",
           "red",
           "green",
           "green",
           "red",
           "green",
           "red",
           "green",
           "red",
           "green",
           "red",
           "red",
           "red",
           "green",
           "green",
           "red",
           "red",
           "red",
           "green",
           "green",
           "green",
           "green",
           "green",
           "green",
           "green",
           "red",
           "red",
           "red",
           "green",
           "red",
           "green",
           "green",
           "red",
           "red",
           "green",
           "green",
           "red",
           "green",
           "green",
           "red",
           "red",
           "red",
           "red",
           "green",
           "red",
           "red",
           "red",
           "red",
           "red",
           "green",
           "green",
           "red",
           "red",
           "red",
           "red",
           "green",
           "red",
           "green",
           "green",
           "green",
           "green",
           "green",
           "red",
           "red",
           "green",
           "red",
           "red",
           "red",
           "green",
           "green",
           "green",
           "green",
           "green",
           "green",
           "red",
           "red",
           "red",
           "red",
           "red",
           "red",
           "red",
           "red",
           "red",
           "green",
           "green",
           "red",
           "red",
           "red",
           "green",
           "green",
           "green",
           "green",
           "red",
           "red",
           "green",
           "red",
           "green",
           "green",
           "green",
           "red",
           "green",
           "green",
           "red",
           "red",
           "red",
           "green",
           "green",
           "red",
           "green",
           "green",
           "red",
           "red",
           "green",
           "red",
           "red",
           "green",
           "red",
           "green",
           "green",
           "green",
           "green",
           "red",
           "red",
           "green",
           "green",
           "green",
           "red",
           "green",
           "red",
           "green",
           "red",
           "red",
           "green",
           "red",
           "red",
           "green",
           "red",
           "green",
           "red",
           "green",
           "red",
           "red",
           "green",
           "green",
           "red",
           "green",
           "green",
           "green",
           "green",
           "red",
           "green",
           "red",
           "green",
           "green",
           "green",
           "green",
           "green",
           "green",
           "green",
           "red",
           "green",
           "red",
           "red",
           "red",
           "red",
           "green",
           "green",
           "red",
           "red",
           "red",
           "green",
           "green",
           "red",
           "red",
           "red",
           "green",
           "green",
           "red",
           "red",
           "green",
           "green",
           "red",
           "green",
           "red",
           "red",
           "green",
           "red",
           "green",
           "red",
           "green",
           "red",
           "green",
           "green",
           "red",
           "red",
           "red",
           "green",
           "red",
           "red",
           "red",
           "red",
           "green",
           "green",
           "green",
           "red",
           "red",
           "red",
           "red",
           "green",
           "green",
           "green",
           "green",
           "red",
           "green",
           "green",
           "red",
           "red",
           "green",
           "red",
           "red",
           "red",
           "green",
           "green",
           "red",
           "red",
           "green",
           "green",
           "red",
           "green",
           "red",
           "red",
           "red",
           "green",
           "red",
           "red",
           "green",
           "red",
           "green",
           "red",
           "green",
           "red",
           "red",
           "red",
           "red",
           "green",
           "red",
           "green",
           "green",
           "green",
           "green",
           "green",
           "red",
           "red",
           "red",
           "red",
           "green",
           "red",
           "green",
           "green",
           "red",
           "red",
           "red",
           "green",
           "green",
           "red",
           "green",
           "green",
           "red",
           "red",
           "red",
           "red",
           "red",
           "red",
           "green",
           "green",
           "red",
           "red",
           "green",
           "green",
           "green",
           "red",
           "green",
           "red",
           "red",
           "green",
           "green",
           "green",
           "red",
           "red",
           "red",
           "green",
           "green",
           "green",
           "red",
           "green",
           "green",
           "green",
           "red",
           "red",
           "green",
           "red",
           "red",
           "red",
           "green",
           "red",
           "green",
           "red",
           "green",
           "green",
           "green",
           "green",
           "red",
           "green",
           "red",
           "red",
           "red",
           "green",
           "green",
           "red",
           "green",
           "red",
           "red",
           "red",
           "green",
           "green",
           "green",
           "green",
           "red",
           "red",
           "green",
           "red",
           "red",
           "red",
           "red",
           "green",
           "green",
           "red",
           "green",
           "green",
           "red",
           "green",
           "green",
           "red",
           "red",
           "green",
           "red",
           "red",
           "green",
           "red",
           "red",
           "red",
           "green",
           "green",
           "red",
           "red",
           "red",
           "green",
           "red",
           "green",
           "red",
           "red",
           "red",
           "green",
           "green",
           "green",
           "red",
           "green",
           "green",
           "red",
           "red",
           "green",
           "green",
           "green",
           "red",
           "red",
           "red",
           "red",
           "red",
           "green",
           "red",
           "green",
           "green",
           "red",
           "green",
           "red",
           "red",
           "green",
           "green",
           "green",
           "green",
           "green",
           "green",
           "green",
           "green",
           "green",
           "green",
           "green",
           "green",
           "red",
           "green",
           "red",
           "green",
           "green",
           "red",
           "red",
           "red",
           "red",
           "green",
           "red",
           "green",
           "red",
           "green",
           "red",
           "red",
           "red",
           "green",
           "red",
           "red",
           "red",
           "green",
           "red",
           "red",
           "red",
           "red",
           "red",
           "green",
           "red",
           "green",
           "green",
           "red",
           "red",
           "green",
           "green",
           "green",
           "green",
           "green",
           "red",
           "red",
           "red",
           "red",
           "red",
           "green",
           "red",
           "green",
           "red",
           "red",
           "green",
           "red",
           "red",
           "red",
           "green",
           "green",
           "green",
           "red",
           "green",
           "green",
           "green",
           "green",
           "red",
           "green",
           "green",
           "green",
           "red",
           "red",
           "red",
           "red",
           "green",
           "red",
           "green",
           "green",
           "red",
           "red",
           "green",
           "red",
           "red",
           "green",
           "red",
           "green",
           "green",
           "red",
           "red",
           "red",
           "red",
           "red",
           "red",
           "green",
           "red",
           "red",
           "green",
           "green",
           "red",
           "red",
           "red",
           "red",
           "red",
           "green",
           "red",
           "green",
           "green",
           "green",
           "red",
           "red",
           "red",
           "red",
           "red",
           "green",
           "red",
           "green",
           "red",
           "green",
           "green",
           "green",
           "red",
           "green",
           "red",
           "green",
           "red",
           "red",
           "green",
           "green",
           "green",
           "red",
           "green",
           "green",
           "green",
           "green",
           "green",
           "green",
           "red",
           "green",
           "red",
           "red",
           "red",
           "green",
           "red",
           "red",
           "red",
           "green",
           "red",
           "red",
           "red",
           "green",
           "red",
           "green",
           "green",
           "red",
           "red",
           "red",
           "red",
           "green",
           "red",
           "red",
           "red",
           "red",
           "green",
           "green",
           "green",
           "green",
           "green",
           "red",
           "red",
           "green",
           "red",
           "red",
           "red",
           "green",
           "red",
           "red",
           "green",
           "red",
           "green",
           "red",
           "green",
           "red",
           "red",
           "red",
           "green",
           "red",
           "green",
           "green",
           "red",
           "green",
           "green",
           "green",
           "green",
           "green",
           "red",
           "red",
           "red",
           "green",
           "green",
           "red",
           "red",
           "red",
           "red",
           "green",
           "green",
           "red",
           "green",
           "green",
           "red",
           "red",
           "green",
           "green",
           "red",
           "red",
           "green",
           "green",
           "red",
           "red",
           "green",
           "red",
           "green",
           "red",
           "red",
           "green",
           "green",
           "green",
           "green",
           "green",
           "red",
           "green",
           "red",
           "red",
           "green",
           "green",
           "green",
           "red",
           "red",
           "red",
           "red",
           "red",
           "red",
           "red",
           "red",
           "red",
           "green",
           "red",
           "red",
           "green",
           "green",
           "green",
           "green",
           "red",
           "green",
           "green",
           "red",
           "red",
           "green",
           "green",
           "green",
           "red",
           "red",
           "red",
           "red",
           "green",
           "green",
           "green",
           "red",
           "green",
           "green",
           "red",
           "red",
           "red",
           "green",
           "green",
           "red",
           "red",
           "green",
           "red",
           "green",
           "green",
           "green",
           "green",
           "red",
           "red",
           "green",
           "green",
           "red",
           "red",
           "green",
           "red",
           "red",
           "green",
           "green",
           "red",
           "red",
           "red",
           "red",
           "green",
           "green",
           "red",
           "red",
           "green",
           "green",
           "green",
           "red",
           "green",
           "red",
           "green",
           "green",
           "red",
           "green",
           "red",
           "green",
           "red",
           "red",
           "green",
           "red",
           "red",
           "green",
           "red",
           "red",
           "green",
           "green",
           "red",
           "green",
           "red",
           "red",
           "green",
           "green",
           "red",
           "red",
           "green",
           "green",
           "green",
           "red",
           "red",
           "green",
           "green",
           "red",
           "green",
           "red",
           "red",
           "green",
           "green",
           "red",
           "red",
           "red",
           "green",
           "red",
           "green",
           "green",
           "green",
           "red",
           "red",
           "red",
           "green",
           "red",
           "green",
           "green",
           "green",
           "green",
           "red",
           "green",
           "green",
           "green",
           "red",
           "red",
           "red",
           "red",
           "green",
           "red",
           "green",
           "green",
           "red",
           "red",
           "green",
           "red",
           "red",
           "green",
           "red",
           "red",
           "green",
           "green",
           "green",
           "red",
           "red",
           "green",
           "green",
           "green",
           "red",
           "red",
           "green",
           "red",
           "green",
           "green",
           "red",
           "red",
           "green",
           "red",
           "green",
           "red",
           "green",
           "red",
           "red",
           "green",
           "red",
           "red",
           "green",
           "red",
           "green",
           "red",
           "red",
           "red",
           "red",
           "red",
           "green",
           "green",
           "red",
           "green",
           "red",
           "green",
           "green",
           "red",
           "green",
           "red",
           "green",
           "red",
           "green",
           "red",
           "green",
           "red",
           "red",
           "green",
           "red",
           "green",
           "green",
           "green",
           "red"
          ],
          "line": {
           "width": 0
          }
         },
         "name": "Volume",
         "type": "bar",
         "uid": "d398fec9-5719-4517-931f-029b911d6bde",
         "x": [
          "2018-01-01T00:00:00.000000",
          "2018-01-02T00:00:00.000000",
          "2018-01-03T00:00:00.000000",
          "2018-01-04T00:00:00.000000",
          "2018-01-05T00:00:00.000000",
          "2018-01-06T00:00:00.000000",
          "2018-01-07T00:00:00.000000",
          "2018-01-08T00:00:00.000000",
          "2018-01-09T00:00:00.000000",
          "2018-01-10T00:00:00.000000",
          "2018-01-11T00:00:00.000000",
          "2018-01-12T00:00:00.000000",
          "2018-01-13T00:00:00.000000",
          "2018-01-14T00:00:00.000000",
          "2018-01-15T00:00:00.000000",
          "2018-01-16T00:00:00.000000",
          "2018-01-17T00:00:00.000000",
          "2018-01-18T00:00:00.000000",
          "2018-01-19T00:00:00.000000",
          "2018-01-20T00:00:00.000000",
          "2018-01-21T00:00:00.000000",
          "2018-01-22T00:00:00.000000",
          "2018-01-23T00:00:00.000000",
          "2018-01-24T00:00:00.000000",
          "2018-01-25T00:00:00.000000",
          "2018-01-26T00:00:00.000000",
          "2018-01-27T00:00:00.000000",
          "2018-01-28T00:00:00.000000",
          "2018-01-29T00:00:00.000000",
          "2018-01-30T00:00:00.000000",
          "2018-01-31T00:00:00.000000",
          "2018-02-01T00:00:00.000000",
          "2018-02-02T00:00:00.000000",
          "2018-02-03T00:00:00.000000",
          "2018-02-04T00:00:00.000000",
          "2018-02-05T00:00:00.000000",
          "2018-02-06T00:00:00.000000",
          "2018-02-07T00:00:00.000000",
          "2018-02-08T00:00:00.000000",
          "2018-02-09T00:00:00.000000",
          "2018-02-10T00:00:00.000000",
          "2018-02-11T00:00:00.000000",
          "2018-02-12T00:00:00.000000",
          "2018-02-13T00:00:00.000000",
          "2018-02-14T00:00:00.000000",
          "2018-02-15T00:00:00.000000",
          "2018-02-16T00:00:00.000000",
          "2018-02-17T00:00:00.000000",
          "2018-02-18T00:00:00.000000",
          "2018-02-19T00:00:00.000000",
          "2018-02-20T00:00:00.000000",
          "2018-02-21T00:00:00.000000",
          "2018-02-22T00:00:00.000000",
          "2018-02-23T00:00:00.000000",
          "2018-02-24T00:00:00.000000",
          "2018-02-25T00:00:00.000000",
          "2018-02-26T00:00:00.000000",
          "2018-02-27T00:00:00.000000",
          "2018-02-28T00:00:00.000000",
          "2018-03-01T00:00:00.000000",
          "2018-03-02T00:00:00.000000",
          "2018-03-03T00:00:00.000000",
          "2018-03-04T00:00:00.000000",
          "2018-03-05T00:00:00.000000",
          "2018-03-06T00:00:00.000000",
          "2018-03-07T00:00:00.000000",
          "2018-03-08T00:00:00.000000",
          "2018-03-09T00:00:00.000000",
          "2018-03-10T00:00:00.000000",
          "2018-03-11T00:00:00.000000",
          "2018-03-12T00:00:00.000000",
          "2018-03-13T00:00:00.000000",
          "2018-03-14T00:00:00.000000",
          "2018-03-15T00:00:00.000000",
          "2018-03-16T00:00:00.000000",
          "2018-03-17T00:00:00.000000",
          "2018-03-18T00:00:00.000000",
          "2018-03-19T00:00:00.000000",
          "2018-03-20T00:00:00.000000",
          "2018-03-21T00:00:00.000000",
          "2018-03-22T00:00:00.000000",
          "2018-03-23T00:00:00.000000",
          "2018-03-24T00:00:00.000000",
          "2018-03-25T00:00:00.000000",
          "2018-03-26T00:00:00.000000",
          "2018-03-27T00:00:00.000000",
          "2018-03-28T00:00:00.000000",
          "2018-03-29T00:00:00.000000",
          "2018-03-30T00:00:00.000000",
          "2018-03-31T00:00:00.000000",
          "2018-04-01T00:00:00.000000",
          "2018-04-02T00:00:00.000000",
          "2018-04-03T00:00:00.000000",
          "2018-04-04T00:00:00.000000",
          "2018-04-05T00:00:00.000000",
          "2018-04-06T00:00:00.000000",
          "2018-04-07T00:00:00.000000",
          "2018-04-08T00:00:00.000000",
          "2018-04-09T00:00:00.000000",
          "2018-04-10T00:00:00.000000",
          "2018-04-11T00:00:00.000000",
          "2018-04-12T00:00:00.000000",
          "2018-04-13T00:00:00.000000",
          "2018-04-14T00:00:00.000000",
          "2018-04-15T00:00:00.000000",
          "2018-04-16T00:00:00.000000",
          "2018-04-17T00:00:00.000000",
          "2018-04-18T00:00:00.000000",
          "2018-04-19T00:00:00.000000",
          "2018-04-20T00:00:00.000000",
          "2018-04-21T00:00:00.000000",
          "2018-04-22T00:00:00.000000",
          "2018-04-23T00:00:00.000000",
          "2018-04-24T00:00:00.000000",
          "2018-04-25T00:00:00.000000",
          "2018-04-26T00:00:00.000000",
          "2018-04-27T00:00:00.000000",
          "2018-04-28T00:00:00.000000",
          "2018-04-29T00:00:00.000000",
          "2018-04-30T00:00:00.000000",
          "2018-05-01T00:00:00.000000",
          "2018-05-02T00:00:00.000000",
          "2018-05-03T00:00:00.000000",
          "2018-05-04T00:00:00.000000",
          "2018-05-05T00:00:00.000000",
          "2018-05-06T00:00:00.000000",
          "2018-05-07T00:00:00.000000",
          "2018-05-08T00:00:00.000000",
          "2018-05-09T00:00:00.000000",
          "2018-05-10T00:00:00.000000",
          "2018-05-11T00:00:00.000000",
          "2018-05-12T00:00:00.000000",
          "2018-05-13T00:00:00.000000",
          "2018-05-14T00:00:00.000000",
          "2018-05-15T00:00:00.000000",
          "2018-05-16T00:00:00.000000",
          "2018-05-17T00:00:00.000000",
          "2018-05-18T00:00:00.000000",
          "2018-05-19T00:00:00.000000",
          "2018-05-20T00:00:00.000000",
          "2018-05-21T00:00:00.000000",
          "2018-05-22T00:00:00.000000",
          "2018-05-23T00:00:00.000000",
          "2018-05-24T00:00:00.000000",
          "2018-05-25T00:00:00.000000",
          "2018-05-26T00:00:00.000000",
          "2018-05-27T00:00:00.000000",
          "2018-05-28T00:00:00.000000",
          "2018-05-29T00:00:00.000000",
          "2018-05-30T00:00:00.000000",
          "2018-05-31T00:00:00.000000",
          "2018-06-01T00:00:00.000000",
          "2018-06-02T00:00:00.000000",
          "2018-06-03T00:00:00.000000",
          "2018-06-04T00:00:00.000000",
          "2018-06-05T00:00:00.000000",
          "2018-06-06T00:00:00.000000",
          "2018-06-07T00:00:00.000000",
          "2018-06-08T00:00:00.000000",
          "2018-06-09T00:00:00.000000",
          "2018-06-10T00:00:00.000000",
          "2018-06-11T00:00:00.000000",
          "2018-06-12T00:00:00.000000",
          "2018-06-13T00:00:00.000000",
          "2018-06-14T00:00:00.000000",
          "2018-06-15T00:00:00.000000",
          "2018-06-16T00:00:00.000000",
          "2018-06-17T00:00:00.000000",
          "2018-06-18T00:00:00.000000",
          "2018-06-19T00:00:00.000000",
          "2018-06-20T00:00:00.000000",
          "2018-06-21T00:00:00.000000",
          "2018-06-22T00:00:00.000000",
          "2018-06-23T00:00:00.000000",
          "2018-06-24T00:00:00.000000",
          "2018-06-25T00:00:00.000000",
          "2018-06-26T00:00:00.000000",
          "2018-06-27T00:00:00.000000",
          "2018-06-28T00:00:00.000000",
          "2018-06-29T00:00:00.000000",
          "2018-06-30T00:00:00.000000",
          "2018-07-01T00:00:00.000000",
          "2018-07-02T00:00:00.000000",
          "2018-07-03T00:00:00.000000",
          "2018-07-04T00:00:00.000000",
          "2018-07-05T00:00:00.000000",
          "2018-07-06T00:00:00.000000",
          "2018-07-07T00:00:00.000000",
          "2018-07-08T00:00:00.000000",
          "2018-07-09T00:00:00.000000",
          "2018-07-10T00:00:00.000000",
          "2018-07-11T00:00:00.000000",
          "2018-07-12T00:00:00.000000",
          "2018-07-13T00:00:00.000000",
          "2018-07-14T00:00:00.000000",
          "2018-07-15T00:00:00.000000",
          "2018-07-16T00:00:00.000000",
          "2018-07-17T00:00:00.000000",
          "2018-07-18T00:00:00.000000",
          "2018-07-19T00:00:00.000000",
          "2018-07-20T00:00:00.000000",
          "2018-07-21T00:00:00.000000",
          "2018-07-22T00:00:00.000000",
          "2018-07-23T00:00:00.000000",
          "2018-07-24T00:00:00.000000",
          "2018-07-25T00:00:00.000000",
          "2018-07-26T00:00:00.000000",
          "2018-07-27T00:00:00.000000",
          "2018-07-28T00:00:00.000000",
          "2018-07-29T00:00:00.000000",
          "2018-07-30T00:00:00.000000",
          "2018-07-31T00:00:00.000000",
          "2018-08-01T00:00:00.000000",
          "2018-08-02T00:00:00.000000",
          "2018-08-03T00:00:00.000000",
          "2018-08-04T00:00:00.000000",
          "2018-08-05T00:00:00.000000",
          "2018-08-06T00:00:00.000000",
          "2018-08-07T00:00:00.000000",
          "2018-08-08T00:00:00.000000",
          "2018-08-09T00:00:00.000000",
          "2018-08-10T00:00:00.000000",
          "2018-08-11T00:00:00.000000",
          "2018-08-12T00:00:00.000000",
          "2018-08-13T00:00:00.000000",
          "2018-08-14T00:00:00.000000",
          "2018-08-15T00:00:00.000000",
          "2018-08-16T00:00:00.000000",
          "2018-08-17T00:00:00.000000",
          "2018-08-18T00:00:00.000000",
          "2018-08-19T00:00:00.000000",
          "2018-08-20T00:00:00.000000",
          "2018-08-21T00:00:00.000000",
          "2018-08-22T00:00:00.000000",
          "2018-08-23T00:00:00.000000",
          "2018-08-24T00:00:00.000000",
          "2018-08-25T00:00:00.000000",
          "2018-08-26T00:00:00.000000",
          "2018-08-27T00:00:00.000000",
          "2018-08-28T00:00:00.000000",
          "2018-08-29T00:00:00.000000",
          "2018-08-30T00:00:00.000000",
          "2018-08-31T00:00:00.000000",
          "2018-09-01T00:00:00.000000",
          "2018-09-02T00:00:00.000000",
          "2018-09-03T00:00:00.000000",
          "2018-09-04T00:00:00.000000",
          "2018-09-05T00:00:00.000000",
          "2018-09-06T00:00:00.000000",
          "2018-09-07T00:00:00.000000",
          "2018-09-08T00:00:00.000000",
          "2018-09-09T00:00:00.000000",
          "2018-09-10T00:00:00.000000",
          "2018-09-11T00:00:00.000000",
          "2018-09-12T00:00:00.000000",
          "2018-09-13T00:00:00.000000",
          "2018-09-14T00:00:00.000000",
          "2018-09-15T00:00:00.000000",
          "2018-09-16T00:00:00.000000",
          "2018-09-17T00:00:00.000000",
          "2018-09-18T00:00:00.000000",
          "2018-09-19T00:00:00.000000",
          "2018-09-20T00:00:00.000000",
          "2018-09-21T00:00:00.000000",
          "2018-09-22T00:00:00.000000",
          "2018-09-23T00:00:00.000000",
          "2018-09-24T00:00:00.000000",
          "2018-09-25T00:00:00.000000",
          "2018-09-26T00:00:00.000000",
          "2018-09-27T00:00:00.000000",
          "2018-09-28T00:00:00.000000",
          "2018-09-29T00:00:00.000000",
          "2018-09-30T00:00:00.000000",
          "2018-10-01T00:00:00.000000",
          "2018-10-02T00:00:00.000000",
          "2018-10-03T00:00:00.000000",
          "2018-10-04T00:00:00.000000",
          "2018-10-05T00:00:00.000000",
          "2018-10-06T00:00:00.000000",
          "2018-10-07T00:00:00.000000",
          "2018-10-08T00:00:00.000000",
          "2018-10-09T00:00:00.000000",
          "2018-10-10T00:00:00.000000",
          "2018-10-11T00:00:00.000000",
          "2018-10-12T00:00:00.000000",
          "2018-10-13T00:00:00.000000",
          "2018-10-14T00:00:00.000000",
          "2018-10-15T00:00:00.000000",
          "2018-10-16T00:00:00.000000",
          "2018-10-17T00:00:00.000000",
          "2018-10-18T00:00:00.000000",
          "2018-10-19T00:00:00.000000",
          "2018-10-20T00:00:00.000000",
          "2018-10-21T00:00:00.000000",
          "2018-10-22T00:00:00.000000",
          "2018-10-23T00:00:00.000000",
          "2018-10-24T00:00:00.000000",
          "2018-10-25T00:00:00.000000",
          "2018-10-26T00:00:00.000000",
          "2018-10-27T00:00:00.000000",
          "2018-10-28T00:00:00.000000",
          "2018-10-29T00:00:00.000000",
          "2018-10-30T00:00:00.000000",
          "2018-10-31T00:00:00.000000",
          "2018-11-01T00:00:00.000000",
          "2018-11-02T00:00:00.000000",
          "2018-11-03T00:00:00.000000",
          "2018-11-04T00:00:00.000000",
          "2018-11-05T00:00:00.000000",
          "2018-11-06T00:00:00.000000",
          "2018-11-07T00:00:00.000000",
          "2018-11-08T00:00:00.000000",
          "2018-11-09T00:00:00.000000",
          "2018-11-10T00:00:00.000000",
          "2018-11-11T00:00:00.000000",
          "2018-11-12T00:00:00.000000",
          "2018-11-13T00:00:00.000000",
          "2018-11-14T00:00:00.000000",
          "2018-11-15T00:00:00.000000",
          "2018-11-16T00:00:00.000000",
          "2018-11-17T00:00:00.000000",
          "2018-11-18T00:00:00.000000",
          "2018-11-19T00:00:00.000000",
          "2018-11-20T00:00:00.000000",
          "2018-11-21T00:00:00.000000",
          "2018-11-22T00:00:00.000000",
          "2018-11-23T00:00:00.000000",
          "2018-11-24T00:00:00.000000",
          "2018-11-25T00:00:00.000000",
          "2018-11-26T00:00:00.000000",
          "2018-11-27T00:00:00.000000",
          "2018-11-28T00:00:00.000000",
          "2018-11-29T00:00:00.000000",
          "2018-11-30T00:00:00.000000",
          "2018-12-01T00:00:00.000000",
          "2018-12-02T00:00:00.000000",
          "2018-12-03T00:00:00.000000",
          "2018-12-04T00:00:00.000000",
          "2018-12-05T00:00:00.000000",
          "2018-12-06T00:00:00.000000",
          "2018-12-07T00:00:00.000000",
          "2018-12-08T00:00:00.000000",
          "2018-12-09T00:00:00.000000",
          "2018-12-10T00:00:00.000000",
          "2018-12-11T00:00:00.000000",
          "2018-12-12T00:00:00.000000",
          "2018-12-13T00:00:00.000000",
          "2018-12-14T00:00:00.000000",
          "2018-12-15T00:00:00.000000",
          "2018-12-16T00:00:00.000000",
          "2018-12-17T00:00:00.000000",
          "2018-12-18T00:00:00.000000",
          "2018-12-19T00:00:00.000000",
          "2018-12-20T00:00:00.000000",
          "2018-12-21T00:00:00.000000",
          "2018-12-22T00:00:00.000000",
          "2018-12-23T00:00:00.000000",
          "2018-12-24T00:00:00.000000",
          "2018-12-25T00:00:00.000000",
          "2018-12-26T00:00:00.000000",
          "2018-12-27T00:00:00.000000",
          "2018-12-28T00:00:00.000000",
          "2018-12-29T00:00:00.000000",
          "2018-12-30T00:00:00.000000",
          "2018-12-31T00:00:00.000000",
          "2019-01-01T00:00:00.000000",
          "2019-01-02T00:00:00.000000",
          "2019-01-03T00:00:00.000000",
          "2019-01-04T00:00:00.000000",
          "2019-01-05T00:00:00.000000",
          "2019-01-06T00:00:00.000000",
          "2019-01-07T00:00:00.000000",
          "2019-01-08T00:00:00.000000",
          "2019-01-09T00:00:00.000000",
          "2019-01-10T00:00:00.000000",
          "2019-01-11T00:00:00.000000",
          "2019-01-12T00:00:00.000000",
          "2019-01-13T00:00:00.000000",
          "2019-01-14T00:00:00.000000",
          "2019-01-15T00:00:00.000000",
          "2019-01-16T00:00:00.000000",
          "2019-01-17T00:00:00.000000",
          "2019-01-18T00:00:00.000000",
          "2019-01-19T00:00:00.000000",
          "2019-01-20T00:00:00.000000",
          "2019-01-21T00:00:00.000000",
          "2019-01-22T00:00:00.000000",
          "2019-01-23T00:00:00.000000",
          "2019-01-24T00:00:00.000000",
          "2019-01-25T00:00:00.000000",
          "2019-01-26T00:00:00.000000",
          "2019-01-27T00:00:00.000000",
          "2019-01-28T00:00:00.000000",
          "2019-01-29T00:00:00.000000",
          "2019-01-30T00:00:00.000000",
          "2019-01-31T00:00:00.000000",
          "2019-02-01T00:00:00.000000",
          "2019-02-02T00:00:00.000000",
          "2019-02-03T00:00:00.000000",
          "2019-02-04T00:00:00.000000",
          "2019-02-05T00:00:00.000000",
          "2019-02-06T00:00:00.000000",
          "2019-02-07T00:00:00.000000",
          "2019-02-08T00:00:00.000000",
          "2019-02-09T00:00:00.000000",
          "2019-02-10T00:00:00.000000",
          "2019-02-11T00:00:00.000000",
          "2019-02-12T00:00:00.000000",
          "2019-02-13T00:00:00.000000",
          "2019-02-14T00:00:00.000000",
          "2019-02-15T00:00:00.000000",
          "2019-02-16T00:00:00.000000",
          "2019-02-17T00:00:00.000000",
          "2019-02-18T00:00:00.000000",
          "2019-02-19T00:00:00.000000",
          "2019-02-20T00:00:00.000000",
          "2019-02-21T00:00:00.000000",
          "2019-02-22T00:00:00.000000",
          "2019-02-23T00:00:00.000000",
          "2019-02-24T00:00:00.000000",
          "2019-02-25T00:00:00.000000",
          "2019-02-26T00:00:00.000000",
          "2019-02-27T00:00:00.000000",
          "2019-02-28T00:00:00.000000",
          "2019-03-01T00:00:00.000000",
          "2019-03-02T00:00:00.000000",
          "2019-03-03T00:00:00.000000",
          "2019-03-04T00:00:00.000000",
          "2019-03-05T00:00:00.000000",
          "2019-03-06T00:00:00.000000",
          "2019-03-07T00:00:00.000000",
          "2019-03-08T00:00:00.000000",
          "2019-03-09T00:00:00.000000",
          "2019-03-10T00:00:00.000000",
          "2019-03-11T00:00:00.000000",
          "2019-03-12T00:00:00.000000",
          "2019-03-13T00:00:00.000000",
          "2019-03-14T00:00:00.000000",
          "2019-03-15T00:00:00.000000",
          "2019-03-16T00:00:00.000000",
          "2019-03-17T00:00:00.000000",
          "2019-03-18T00:00:00.000000",
          "2019-03-19T00:00:00.000000",
          "2019-03-20T00:00:00.000000",
          "2019-03-21T00:00:00.000000",
          "2019-03-22T00:00:00.000000",
          "2019-03-23T00:00:00.000000",
          "2019-03-24T00:00:00.000000",
          "2019-03-25T00:00:00.000000",
          "2019-03-26T00:00:00.000000",
          "2019-03-27T00:00:00.000000",
          "2019-03-28T00:00:00.000000",
          "2019-03-29T00:00:00.000000",
          "2019-03-30T00:00:00.000000",
          "2019-03-31T00:00:00.000000",
          "2019-04-01T00:00:00.000000",
          "2019-04-02T00:00:00.000000",
          "2019-04-03T00:00:00.000000",
          "2019-04-04T00:00:00.000000",
          "2019-04-05T00:00:00.000000",
          "2019-04-06T00:00:00.000000",
          "2019-04-07T00:00:00.000000",
          "2019-04-08T00:00:00.000000",
          "2019-04-09T00:00:00.000000",
          "2019-04-10T00:00:00.000000",
          "2019-04-11T00:00:00.000000",
          "2019-04-12T00:00:00.000000",
          "2019-04-13T00:00:00.000000",
          "2019-04-14T00:00:00.000000",
          "2019-04-15T00:00:00.000000",
          "2019-04-16T00:00:00.000000",
          "2019-04-17T00:00:00.000000",
          "2019-04-18T00:00:00.000000",
          "2019-04-19T00:00:00.000000",
          "2019-04-20T00:00:00.000000",
          "2019-04-21T00:00:00.000000",
          "2019-04-22T00:00:00.000000",
          "2019-04-23T00:00:00.000000",
          "2019-04-24T00:00:00.000000",
          "2019-04-25T00:00:00.000000",
          "2019-04-26T00:00:00.000000",
          "2019-04-27T00:00:00.000000",
          "2019-04-28T00:00:00.000000",
          "2019-04-29T00:00:00.000000",
          "2019-04-30T00:00:00.000000",
          "2019-05-01T00:00:00.000000",
          "2019-05-02T00:00:00.000000",
          "2019-05-03T00:00:00.000000",
          "2019-05-04T00:00:00.000000",
          "2019-05-05T00:00:00.000000",
          "2019-05-06T00:00:00.000000",
          "2019-05-07T00:00:00.000000",
          "2019-05-08T00:00:00.000000",
          "2019-05-09T00:00:00.000000",
          "2019-05-10T00:00:00.000000",
          "2019-05-11T00:00:00.000000",
          "2019-05-12T00:00:00.000000",
          "2019-05-13T00:00:00.000000",
          "2019-05-14T00:00:00.000000",
          "2019-05-15T00:00:00.000000",
          "2019-05-16T00:00:00.000000",
          "2019-05-17T00:00:00.000000",
          "2019-05-18T00:00:00.000000",
          "2019-05-19T00:00:00.000000",
          "2019-05-20T00:00:00.000000",
          "2019-05-21T00:00:00.000000",
          "2019-05-22T00:00:00.000000",
          "2019-05-23T00:00:00.000000",
          "2019-05-24T00:00:00.000000",
          "2019-05-25T00:00:00.000000",
          "2019-05-26T00:00:00.000000",
          "2019-05-27T00:00:00.000000",
          "2019-05-28T00:00:00.000000",
          "2019-05-29T00:00:00.000000",
          "2019-05-30T00:00:00.000000",
          "2019-05-31T00:00:00.000000",
          "2019-06-01T00:00:00.000000",
          "2019-06-02T00:00:00.000000",
          "2019-06-03T00:00:00.000000",
          "2019-06-04T00:00:00.000000",
          "2019-06-05T00:00:00.000000",
          "2019-06-06T00:00:00.000000",
          "2019-06-07T00:00:00.000000",
          "2019-06-08T00:00:00.000000",
          "2019-06-09T00:00:00.000000",
          "2019-06-10T00:00:00.000000",
          "2019-06-11T00:00:00.000000",
          "2019-06-12T00:00:00.000000",
          "2019-06-13T00:00:00.000000",
          "2019-06-14T00:00:00.000000",
          "2019-06-15T00:00:00.000000",
          "2019-06-16T00:00:00.000000",
          "2019-06-17T00:00:00.000000",
          "2019-06-18T00:00:00.000000",
          "2019-06-19T00:00:00.000000",
          "2019-06-20T00:00:00.000000",
          "2019-06-21T00:00:00.000000",
          "2019-06-22T00:00:00.000000",
          "2019-06-23T00:00:00.000000",
          "2019-06-24T00:00:00.000000",
          "2019-06-25T00:00:00.000000",
          "2019-06-26T00:00:00.000000",
          "2019-06-27T00:00:00.000000",
          "2019-06-28T00:00:00.000000",
          "2019-06-29T00:00:00.000000",
          "2019-06-30T00:00:00.000000",
          "2019-07-01T00:00:00.000000",
          "2019-07-02T00:00:00.000000",
          "2019-07-03T00:00:00.000000",
          "2019-07-04T00:00:00.000000",
          "2019-07-05T00:00:00.000000",
          "2019-07-06T00:00:00.000000",
          "2019-07-07T00:00:00.000000",
          "2019-07-08T00:00:00.000000",
          "2019-07-09T00:00:00.000000",
          "2019-07-10T00:00:00.000000",
          "2019-07-11T00:00:00.000000",
          "2019-07-12T00:00:00.000000",
          "2019-07-13T00:00:00.000000",
          "2019-07-14T00:00:00.000000",
          "2019-07-15T00:00:00.000000",
          "2019-07-16T00:00:00.000000",
          "2019-07-17T00:00:00.000000",
          "2019-07-18T00:00:00.000000",
          "2019-07-19T00:00:00.000000",
          "2019-07-20T00:00:00.000000",
          "2019-07-21T00:00:00.000000",
          "2019-07-22T00:00:00.000000",
          "2019-07-23T00:00:00.000000",
          "2019-07-24T00:00:00.000000",
          "2019-07-25T00:00:00.000000",
          "2019-07-26T00:00:00.000000",
          "2019-07-27T00:00:00.000000",
          "2019-07-28T00:00:00.000000",
          "2019-07-29T00:00:00.000000",
          "2019-07-30T00:00:00.000000",
          "2019-07-31T00:00:00.000000",
          "2019-08-01T00:00:00.000000",
          "2019-08-02T00:00:00.000000",
          "2019-08-03T00:00:00.000000",
          "2019-08-04T00:00:00.000000",
          "2019-08-05T00:00:00.000000",
          "2019-08-06T00:00:00.000000",
          "2019-08-07T00:00:00.000000",
          "2019-08-08T00:00:00.000000",
          "2019-08-09T00:00:00.000000",
          "2019-08-10T00:00:00.000000",
          "2019-08-11T00:00:00.000000",
          "2019-08-12T00:00:00.000000",
          "2019-08-13T00:00:00.000000",
          "2019-08-14T00:00:00.000000",
          "2019-08-15T00:00:00.000000",
          "2019-08-16T00:00:00.000000",
          "2019-08-17T00:00:00.000000",
          "2019-08-18T00:00:00.000000",
          "2019-08-19T00:00:00.000000",
          "2019-08-20T00:00:00.000000",
          "2019-08-21T00:00:00.000000",
          "2019-08-22T00:00:00.000000",
          "2019-08-23T00:00:00.000000",
          "2019-08-24T00:00:00.000000",
          "2019-08-25T00:00:00.000000",
          "2019-08-26T00:00:00.000000",
          "2019-08-27T00:00:00.000000",
          "2019-08-28T00:00:00.000000",
          "2019-08-29T00:00:00.000000",
          "2019-08-30T00:00:00.000000",
          "2019-08-31T00:00:00.000000",
          "2019-09-01T00:00:00.000000",
          "2019-09-02T00:00:00.000000",
          "2019-09-03T00:00:00.000000",
          "2019-09-04T00:00:00.000000",
          "2019-09-05T00:00:00.000000",
          "2019-09-06T00:00:00.000000",
          "2019-09-07T00:00:00.000000",
          "2019-09-08T00:00:00.000000",
          "2019-09-09T00:00:00.000000",
          "2019-09-10T00:00:00.000000",
          "2019-09-11T00:00:00.000000",
          "2019-09-12T00:00:00.000000",
          "2019-09-13T00:00:00.000000",
          "2019-09-14T00:00:00.000000",
          "2019-09-15T00:00:00.000000",
          "2019-09-16T00:00:00.000000",
          "2019-09-17T00:00:00.000000",
          "2019-09-18T00:00:00.000000",
          "2019-09-19T00:00:00.000000",
          "2019-09-20T00:00:00.000000",
          "2019-09-21T00:00:00.000000",
          "2019-09-22T00:00:00.000000",
          "2019-09-23T00:00:00.000000",
          "2019-09-24T00:00:00.000000",
          "2019-09-25T00:00:00.000000",
          "2019-09-26T00:00:00.000000",
          "2019-09-27T00:00:00.000000",
          "2019-09-28T00:00:00.000000",
          "2019-09-29T00:00:00.000000",
          "2019-09-30T00:00:00.000000",
          "2019-10-01T00:00:00.000000",
          "2019-10-02T00:00:00.000000",
          "2019-10-03T00:00:00.000000",
          "2019-10-04T00:00:00.000000",
          "2019-10-05T00:00:00.000000",
          "2019-10-06T00:00:00.000000",
          "2019-10-07T00:00:00.000000",
          "2019-10-08T00:00:00.000000",
          "2019-10-09T00:00:00.000000",
          "2019-10-10T00:00:00.000000",
          "2019-10-11T00:00:00.000000",
          "2019-10-12T00:00:00.000000",
          "2019-10-13T00:00:00.000000",
          "2019-10-14T00:00:00.000000",
          "2019-10-15T00:00:00.000000",
          "2019-10-16T00:00:00.000000",
          "2019-10-17T00:00:00.000000",
          "2019-10-18T00:00:00.000000",
          "2019-10-19T00:00:00.000000",
          "2019-10-20T00:00:00.000000",
          "2019-10-21T00:00:00.000000",
          "2019-10-22T00:00:00.000000",
          "2019-10-23T00:00:00.000000",
          "2019-10-24T00:00:00.000000",
          "2019-10-25T00:00:00.000000",
          "2019-10-26T00:00:00.000000",
          "2019-10-27T00:00:00.000000",
          "2019-10-28T00:00:00.000000",
          "2019-10-29T00:00:00.000000",
          "2019-10-30T00:00:00.000000",
          "2019-10-31T00:00:00.000000",
          "2019-11-01T00:00:00.000000",
          "2019-11-02T00:00:00.000000",
          "2019-11-03T00:00:00.000000",
          "2019-11-04T00:00:00.000000",
          "2019-11-05T00:00:00.000000",
          "2019-11-06T00:00:00.000000",
          "2019-11-07T00:00:00.000000",
          "2019-11-08T00:00:00.000000",
          "2019-11-09T00:00:00.000000",
          "2019-11-10T00:00:00.000000",
          "2019-11-11T00:00:00.000000",
          "2019-11-12T00:00:00.000000",
          "2019-11-13T00:00:00.000000",
          "2019-11-14T00:00:00.000000",
          "2019-11-15T00:00:00.000000",
          "2019-11-16T00:00:00.000000",
          "2019-11-17T00:00:00.000000",
          "2019-11-18T00:00:00.000000",
          "2019-11-19T00:00:00.000000",
          "2019-11-20T00:00:00.000000",
          "2019-11-21T00:00:00.000000",
          "2019-11-22T00:00:00.000000",
          "2019-11-23T00:00:00.000000",
          "2019-11-24T00:00:00.000000",
          "2019-11-25T00:00:00.000000",
          "2019-11-26T00:00:00.000000",
          "2019-11-27T00:00:00.000000",
          "2019-11-28T00:00:00.000000",
          "2019-11-29T00:00:00.000000",
          "2019-11-30T00:00:00.000000",
          "2019-12-01T00:00:00.000000",
          "2019-12-02T00:00:00.000000",
          "2019-12-03T00:00:00.000000",
          "2019-12-04T00:00:00.000000",
          "2019-12-05T00:00:00.000000",
          "2019-12-06T00:00:00.000000",
          "2019-12-07T00:00:00.000000",
          "2019-12-08T00:00:00.000000",
          "2019-12-09T00:00:00.000000",
          "2019-12-10T00:00:00.000000",
          "2019-12-11T00:00:00.000000",
          "2019-12-12T00:00:00.000000",
          "2019-12-13T00:00:00.000000",
          "2019-12-14T00:00:00.000000",
          "2019-12-15T00:00:00.000000",
          "2019-12-16T00:00:00.000000",
          "2019-12-17T00:00:00.000000",
          "2019-12-18T00:00:00.000000",
          "2019-12-19T00:00:00.000000",
          "2019-12-20T00:00:00.000000",
          "2019-12-21T00:00:00.000000",
          "2019-12-22T00:00:00.000000",
          "2019-12-23T00:00:00.000000",
          "2019-12-24T00:00:00.000000",
          "2019-12-25T00:00:00.000000",
          "2019-12-26T00:00:00.000000",
          "2019-12-27T00:00:00.000000",
          "2019-12-28T00:00:00.000000",
          "2019-12-29T00:00:00.000000",
          "2019-12-30T00:00:00.000000",
          "2019-12-31T00:00:00.000000",
          "2020-01-01T00:00:00.000000",
          "2020-01-02T00:00:00.000000",
          "2020-01-03T00:00:00.000000",
          "2020-01-04T00:00:00.000000",
          "2020-01-05T00:00:00.000000",
          "2020-01-06T00:00:00.000000",
          "2020-01-07T00:00:00.000000",
          "2020-01-08T00:00:00.000000",
          "2020-01-09T00:00:00.000000",
          "2020-01-10T00:00:00.000000",
          "2020-01-11T00:00:00.000000",
          "2020-01-12T00:00:00.000000",
          "2020-01-13T00:00:00.000000",
          "2020-01-14T00:00:00.000000",
          "2020-01-15T00:00:00.000000",
          "2020-01-16T00:00:00.000000",
          "2020-01-17T00:00:00.000000",
          "2020-01-18T00:00:00.000000",
          "2020-01-19T00:00:00.000000",
          "2020-01-20T00:00:00.000000",
          "2020-01-21T00:00:00.000000",
          "2020-01-22T00:00:00.000000",
          "2020-01-23T00:00:00.000000",
          "2020-01-24T00:00:00.000000",
          "2020-01-25T00:00:00.000000",
          "2020-01-26T00:00:00.000000",
          "2020-01-27T00:00:00.000000",
          "2020-01-28T00:00:00.000000",
          "2020-01-29T00:00:00.000000",
          "2020-01-30T00:00:00.000000",
          "2020-01-31T00:00:00.000000",
          "2020-02-01T00:00:00.000000",
          "2020-02-02T00:00:00.000000",
          "2020-02-03T00:00:00.000000",
          "2020-02-04T00:00:00.000000",
          "2020-02-05T00:00:00.000000",
          "2020-02-06T00:00:00.000000",
          "2020-02-07T00:00:00.000000",
          "2020-02-08T00:00:00.000000",
          "2020-02-09T00:00:00.000000",
          "2020-02-10T00:00:00.000000",
          "2020-02-11T00:00:00.000000",
          "2020-02-12T00:00:00.000000",
          "2020-02-13T00:00:00.000000",
          "2020-02-14T00:00:00.000000",
          "2020-02-15T00:00:00.000000",
          "2020-02-16T00:00:00.000000",
          "2020-02-17T00:00:00.000000",
          "2020-02-18T00:00:00.000000",
          "2020-02-19T00:00:00.000000",
          "2020-02-20T00:00:00.000000",
          "2020-02-21T00:00:00.000000",
          "2020-02-22T00:00:00.000000",
          "2020-02-23T00:00:00.000000",
          "2020-02-24T00:00:00.000000",
          "2020-02-25T00:00:00.000000",
          "2020-02-26T00:00:00.000000",
          "2020-02-27T00:00:00.000000",
          "2020-02-28T00:00:00.000000",
          "2020-02-29T00:00:00.000000",
          "2020-03-01T00:00:00.000000",
          "2020-03-02T00:00:00.000000",
          "2020-03-03T00:00:00.000000",
          "2020-03-04T00:00:00.000000",
          "2020-03-05T00:00:00.000000",
          "2020-03-06T00:00:00.000000",
          "2020-03-07T00:00:00.000000",
          "2020-03-08T00:00:00.000000",
          "2020-03-09T00:00:00.000000",
          "2020-03-10T00:00:00.000000",
          "2020-03-11T00:00:00.000000",
          "2020-03-12T00:00:00.000000",
          "2020-03-13T00:00:00.000000",
          "2020-03-14T00:00:00.000000",
          "2020-03-15T00:00:00.000000",
          "2020-03-16T00:00:00.000000",
          "2020-03-17T00:00:00.000000",
          "2020-03-18T00:00:00.000000",
          "2020-03-19T00:00:00.000000",
          "2020-03-20T00:00:00.000000",
          "2020-03-21T00:00:00.000000",
          "2020-03-22T00:00:00.000000",
          "2020-03-23T00:00:00.000000",
          "2020-03-24T00:00:00.000000",
          "2020-03-25T00:00:00.000000",
          "2020-03-26T00:00:00.000000",
          "2020-03-27T00:00:00.000000",
          "2020-03-28T00:00:00.000000",
          "2020-03-29T00:00:00.000000",
          "2020-03-30T00:00:00.000000",
          "2020-03-31T00:00:00.000000",
          "2020-04-01T00:00:00.000000",
          "2020-04-02T00:00:00.000000",
          "2020-04-03T00:00:00.000000",
          "2020-04-04T00:00:00.000000",
          "2020-04-05T00:00:00.000000",
          "2020-04-06T00:00:00.000000",
          "2020-04-07T00:00:00.000000",
          "2020-04-08T00:00:00.000000",
          "2020-04-09T00:00:00.000000",
          "2020-04-10T00:00:00.000000",
          "2020-04-11T00:00:00.000000",
          "2020-04-12T00:00:00.000000",
          "2020-04-13T00:00:00.000000",
          "2020-04-14T00:00:00.000000",
          "2020-04-15T00:00:00.000000",
          "2020-04-16T00:00:00.000000",
          "2020-04-17T00:00:00.000000",
          "2020-04-18T00:00:00.000000",
          "2020-04-19T00:00:00.000000",
          "2020-04-20T00:00:00.000000",
          "2020-04-21T00:00:00.000000",
          "2020-04-22T00:00:00.000000",
          "2020-04-23T00:00:00.000000",
          "2020-04-24T00:00:00.000000",
          "2020-04-25T00:00:00.000000",
          "2020-04-26T00:00:00.000000",
          "2020-04-27T00:00:00.000000",
          "2020-04-28T00:00:00.000000",
          "2020-04-29T00:00:00.000000",
          "2020-04-30T00:00:00.000000",
          "2020-05-01T00:00:00.000000",
          "2020-05-02T00:00:00.000000",
          "2020-05-03T00:00:00.000000",
          "2020-05-04T00:00:00.000000",
          "2020-05-05T00:00:00.000000",
          "2020-05-06T00:00:00.000000",
          "2020-05-07T00:00:00.000000",
          "2020-05-08T00:00:00.000000",
          "2020-05-09T00:00:00.000000",
          "2020-05-10T00:00:00.000000",
          "2020-05-11T00:00:00.000000",
          "2020-05-12T00:00:00.000000",
          "2020-05-13T00:00:00.000000",
          "2020-05-14T00:00:00.000000",
          "2020-05-15T00:00:00.000000",
          "2020-05-16T00:00:00.000000",
          "2020-05-17T00:00:00.000000",
          "2020-05-18T00:00:00.000000",
          "2020-05-19T00:00:00.000000",
          "2020-05-20T00:00:00.000000",
          "2020-05-21T00:00:00.000000",
          "2020-05-22T00:00:00.000000",
          "2020-05-23T00:00:00.000000",
          "2020-05-24T00:00:00.000000",
          "2020-05-25T00:00:00.000000",
          "2020-05-26T00:00:00.000000",
          "2020-05-27T00:00:00.000000",
          "2020-05-28T00:00:00.000000",
          "2020-05-29T00:00:00.000000",
          "2020-05-30T00:00:00.000000",
          "2020-05-31T00:00:00.000000",
          "2020-06-01T00:00:00.000000",
          "2020-06-02T00:00:00.000000",
          "2020-06-03T00:00:00.000000",
          "2020-06-04T00:00:00.000000",
          "2020-06-05T00:00:00.000000",
          "2020-06-06T00:00:00.000000",
          "2020-06-07T00:00:00.000000",
          "2020-06-08T00:00:00.000000",
          "2020-06-09T00:00:00.000000",
          "2020-06-10T00:00:00.000000",
          "2020-06-11T00:00:00.000000",
          "2020-06-12T00:00:00.000000",
          "2020-06-13T00:00:00.000000",
          "2020-06-14T00:00:00.000000",
          "2020-06-15T00:00:00.000000",
          "2020-06-16T00:00:00.000000",
          "2020-06-17T00:00:00.000000",
          "2020-06-18T00:00:00.000000",
          "2020-06-19T00:00:00.000000",
          "2020-06-20T00:00:00.000000",
          "2020-06-21T00:00:00.000000",
          "2020-06-22T00:00:00.000000",
          "2020-06-23T00:00:00.000000",
          "2020-06-24T00:00:00.000000",
          "2020-06-25T00:00:00.000000",
          "2020-06-26T00:00:00.000000",
          "2020-06-27T00:00:00.000000",
          "2020-06-28T00:00:00.000000",
          "2020-06-29T00:00:00.000000",
          "2020-06-30T00:00:00.000000",
          "2020-07-01T00:00:00.000000",
          "2020-07-02T00:00:00.000000",
          "2020-07-03T00:00:00.000000",
          "2020-07-04T00:00:00.000000",
          "2020-07-05T00:00:00.000000",
          "2020-07-06T00:00:00.000000",
          "2020-07-07T00:00:00.000000",
          "2020-07-08T00:00:00.000000",
          "2020-07-09T00:00:00.000000",
          "2020-07-10T00:00:00.000000",
          "2020-07-11T00:00:00.000000",
          "2020-07-12T00:00:00.000000",
          "2020-07-13T00:00:00.000000",
          "2020-07-14T00:00:00.000000",
          "2020-07-15T00:00:00.000000",
          "2020-07-16T00:00:00.000000",
          "2020-07-17T00:00:00.000000",
          "2020-07-18T00:00:00.000000",
          "2020-07-19T00:00:00.000000",
          "2020-07-20T00:00:00.000000",
          "2020-07-21T00:00:00.000000",
          "2020-07-22T00:00:00.000000",
          "2020-07-23T00:00:00.000000",
          "2020-07-24T00:00:00.000000",
          "2020-07-25T00:00:00.000000",
          "2020-07-26T00:00:00.000000",
          "2020-07-27T00:00:00.000000",
          "2020-07-28T00:00:00.000000",
          "2020-07-29T00:00:00.000000",
          "2020-07-30T00:00:00.000000",
          "2020-07-31T00:00:00.000000",
          "2020-08-01T00:00:00.000000",
          "2020-08-02T00:00:00.000000",
          "2020-08-03T00:00:00.000000",
          "2020-08-04T00:00:00.000000",
          "2020-08-05T00:00:00.000000",
          "2020-08-06T00:00:00.000000",
          "2020-08-07T00:00:00.000000",
          "2020-08-08T00:00:00.000000",
          "2020-08-09T00:00:00.000000",
          "2020-08-10T00:00:00.000000",
          "2020-08-11T00:00:00.000000",
          "2020-08-12T00:00:00.000000",
          "2020-08-13T00:00:00.000000",
          "2020-08-14T00:00:00.000000",
          "2020-08-15T00:00:00.000000",
          "2020-08-16T00:00:00.000000",
          "2020-08-17T00:00:00.000000",
          "2020-08-18T00:00:00.000000",
          "2020-08-19T00:00:00.000000",
          "2020-08-20T00:00:00.000000",
          "2020-08-21T00:00:00.000000",
          "2020-08-22T00:00:00.000000",
          "2020-08-23T00:00:00.000000",
          "2020-08-24T00:00:00.000000",
          "2020-08-25T00:00:00.000000",
          "2020-08-26T00:00:00.000000",
          "2020-08-27T00:00:00.000000",
          "2020-08-28T00:00:00.000000",
          "2020-08-29T00:00:00.000000",
          "2020-08-30T00:00:00.000000",
          "2020-08-31T00:00:00.000000",
          "2020-09-01T00:00:00.000000",
          "2020-09-02T00:00:00.000000",
          "2020-09-03T00:00:00.000000",
          "2020-09-04T00:00:00.000000",
          "2020-09-05T00:00:00.000000",
          "2020-09-06T00:00:00.000000",
          "2020-09-07T00:00:00.000000",
          "2020-09-08T00:00:00.000000",
          "2020-09-09T00:00:00.000000",
          "2020-09-10T00:00:00.000000",
          "2020-09-11T00:00:00.000000",
          "2020-09-12T00:00:00.000000",
          "2020-09-13T00:00:00.000000",
          "2020-09-14T00:00:00.000000",
          "2020-09-15T00:00:00.000000",
          "2020-09-16T00:00:00.000000",
          "2020-09-17T00:00:00.000000",
          "2020-09-18T00:00:00.000000",
          "2020-09-19T00:00:00.000000",
          "2020-09-20T00:00:00.000000",
          "2020-09-21T00:00:00.000000",
          "2020-09-22T00:00:00.000000",
          "2020-09-23T00:00:00.000000",
          "2020-09-24T00:00:00.000000",
          "2020-09-25T00:00:00.000000",
          "2020-09-26T00:00:00.000000"
         ],
         "xaxis": "x",
         "y": {
          "dtype": "float64",
          "shape": [
           1000
          ]
         },
         "yaxis": "y"
        }
       ],
       "_js2py_layoutDelta": {},
       "_js2py_pointsCallback": {},
       "_js2py_relayout": {},
       "_js2py_restyle": {},
       "_js2py_traceDeltas": {},
       "_js2py_update": {},
       "_last_layout_edit_id": 5,
       "_last_trace_edit_id": 5,
       "_layout": {
        "autosize": false,
        "colorway": [
         "#1f77b4",
         "#ff7f0e",
         "#2ca02c",
         "#d62728",
         "#9467bd",
         "#8c564b",
         "#e377c2",
         "#7f7f7f",
         "#bcbd22",
         "#17becf"
        ],
        "height": 300,
        "hovermode": "closest",
        "margin": {
         "b": 30,
         "t": 30
        },
        "showlegend": true,
        "template": {
         "data": {
          "bar": [
           {
            "error_x": {
             "color": "#2a3f5f"
            },
            "error_y": {
             "color": "#2a3f5f"
            },
            "marker": {
             "line": {
              "color": "#E5ECF6",
              "width": 0.5
             }
            },
            "type": "bar"
           }
          ],
          "barpolar": [
           {
            "marker": {
             "line": {
              "color": "#E5ECF6",
              "width": 0.5
             }
            },
            "type": "barpolar"
           }
          ],
          "carpet": [
           {
            "aaxis": {
             "endlinecolor": "#2a3f5f",
             "gridcolor": "white",
             "linecolor": "white",
             "minorgridcolor": "white",
             "startlinecolor": "#2a3f5f"
            },
            "baxis": {
             "endlinecolor": "#2a3f5f",
             "gridcolor": "white",
             "linecolor": "white",
             "minorgridcolor": "white",
             "startlinecolor": "#2a3f5f"
            },
            "type": "carpet"
           }
          ],
          "choropleth": [
           {
            "colorbar": {
             "outlinewidth": 0,
             "ticks": ""
            },
            "type": "choropleth"
           }
          ],
          "contour": [
           {
            "colorbar": {
             "outlinewidth": 0,
             "ticks": ""
            },
            "colorscale": [
             [
              0,
              "#0d0887"
             ],
             [
              0.1111111111111111,
              "#46039f"
             ],
             [
              0.2222222222222222,
              "#7201a8"
             ],
             [
              0.3333333333333333,
              "#9c179e"
             ],
             [
              0.4444444444444444,
              "#bd3786"
             ],
             [
              0.5555555555555556,
              "#d8576b"
             ],
             [
              0.6666666666666666,
              "#ed7953"
             ],
             [
              0.7777777777777778,
              "#fb9f3a"
             ],
             [
              0.8888888888888888,
              "#fdca26"
             ],
             [
              1,
              "#f0f921"
             ]
            ],
            "type": "contour"
           }
          ],
          "contourcarpet": [
           {
            "colorbar": {
             "outlinewidth": 0,
             "ticks": ""
            },
            "type": "contourcarpet"
           }
          ],
          "heatmap": [
           {
            "colorbar": {
             "outlinewidth": 0,
             "ticks": ""
            },
            "colorscale": [
             [
              0,
              "#0d0887"
             ],
             [
              0.1111111111111111,
              "#46039f"
             ],
             [
              0.2222222222222222,
              "#7201a8"
             ],
             [
              0.3333333333333333,
              "#9c179e"
             ],
             [
              0.4444444444444444,
              "#bd3786"
             ],
             [
              0.5555555555555556,
              "#d8576b"
             ],
             [
              0.6666666666666666,
              "#ed7953"
             ],
             [
              0.7777777777777778,
              "#fb9f3a"
             ],
             [
              0.8888888888888888,
              "#fdca26"
             ],
             [
              1,
              "#f0f921"
             ]
            ],
            "type": "heatmap"
           }
          ],
          "heatmapgl": [
           {
            "colorbar": {
             "outlinewidth": 0,
             "ticks": ""
            },
            "colorscale": [
             [
              0,
              "#0d0887"
             ],
             [
              0.1111111111111111,
              "#46039f"
             ],
             [
              0.2222222222222222,
              "#7201a8"
             ],
             [
              0.3333333333333333,
              "#9c179e"
             ],
             [
              0.4444444444444444,
              "#bd3786"
             ],
             [
              0.5555555555555556,
              "#d8576b"
             ],
             [
              0.6666666666666666,
              "#ed7953"
             ],
             [
              0.7777777777777778,
              "#fb9f3a"
             ],
             [
              0.8888888888888888,
              "#fdca26"
             ],
             [
              1,
              "#f0f921"
             ]
            ],
            "type": "heatmapgl"
           }
          ],
          "histogram": [
           {
            "marker": {
             "colorbar": {
              "outlinewidth": 0,
              "ticks": ""
             }
            },
            "type": "histogram"
           }
          ],
          "histogram2d": [
           {
            "colorbar": {
             "outlinewidth": 0,
             "ticks": ""
            },
            "colorscale": [
             [
              0,
              "#0d0887"
             ],
             [
              0.1111111111111111,
              "#46039f"
             ],
             [
              0.2222222222222222,
              "#7201a8"
             ],
             [
              0.3333333333333333,
              "#9c179e"
             ],
             [
              0.4444444444444444,
              "#bd3786"
             ],
             [
              0.5555555555555556,
              "#d8576b"
             ],
             [
              0.6666666666666666,
              "#ed7953"
             ],
             [
              0.7777777777777778,
              "#fb9f3a"
             ],
             [
              0.8888888888888888,
              "#fdca26"
             ],
             [
              1,
              "#f0f921"
             ]
            ],
            "type": "histogram2d"
           }
          ],
          "histogram2dcontour": [
           {
            "colorbar": {
             "outlinewidth": 0,
             "ticks": ""
            },
            "colorscale": [
             [
              0,
              "#0d0887"
             ],
             [
              0.1111111111111111,
              "#46039f"
             ],
             [
              0.2222222222222222,
              "#7201a8"
             ],
             [
              0.3333333333333333,
              "#9c179e"
             ],
             [
              0.4444444444444444,
              "#bd3786"
             ],
             [
              0.5555555555555556,
              "#d8576b"
             ],
             [
              0.6666666666666666,
              "#ed7953"
             ],
             [
              0.7777777777777778,
              "#fb9f3a"
             ],
             [
              0.8888888888888888,
              "#fdca26"
             ],
             [
              1,
              "#f0f921"
             ]
            ],
            "type": "histogram2dcontour"
           }
          ],
          "mesh3d": [
           {
            "colorbar": {
             "outlinewidth": 0,
             "ticks": ""
            },
            "type": "mesh3d"
           }
          ],
          "parcoords": [
           {
            "line": {
             "colorbar": {
              "outlinewidth": 0,
              "ticks": ""
             }
            },
            "type": "parcoords"
           }
          ],
          "pie": [
           {
            "automargin": true,
            "type": "pie"
           }
          ],
          "scatter": [
           {
            "marker": {
             "colorbar": {
              "outlinewidth": 0,
              "ticks": ""
             }
            },
            "type": "scatter"
           }
          ],
          "scatter3d": [
           {
            "line": {
             "colorbar": {
              "outlinewidth": 0,
              "ticks": ""
             }
            },
            "marker": {
             "colorbar": {
              "outlinewidth": 0,
              "ticks": ""
             }
            },
            "type": "scatter3d"
           }
          ],
          "scattercarpet": [
           {
            "marker": {
             "colorbar": {
              "outlinewidth": 0,
              "ticks": ""
             }
            },
            "type": "scattercarpet"
           }
          ],
          "scattergeo": [
           {
            "marker": {
             "colorbar": {
              "outlinewidth": 0,
              "ticks": ""
             }
            },
            "type": "scattergeo"
           }
          ],
          "scattergl": [
           {
            "marker": {
             "colorbar": {
              "outlinewidth": 0,
              "ticks": ""
             }
            },
            "type": "scattergl"
           }
          ],
          "scattermapbox": [
           {
            "marker": {
             "colorbar": {
              "outlinewidth": 0,
              "ticks": ""
             }
            },
            "type": "scattermapbox"
           }
          ],
          "scatterpolar": [
           {
            "marker": {
             "colorbar": {
              "outlinewidth": 0,
              "ticks": ""
             }
            },
            "type": "scatterpolar"
           }
          ],
          "scatterpolargl": [
           {
            "marker": {
             "colorbar": {
              "outlinewidth": 0,
              "ticks": ""
             }
            },
            "type": "scatterpolargl"
           }
          ],
          "scatterternary": [
           {
            "marker": {
             "colorbar": {
              "outlinewidth": 0,
              "ticks": ""
             }
            },
            "type": "scatterternary"
           }
          ],
          "surface": [
           {
            "colorbar": {
             "outlinewidth": 0,
             "ticks": ""
            },
            "colorscale": [
             [
              0,
              "#0d0887"
             ],
             [
              0.1111111111111111,
              "#46039f"
             ],
             [
              0.2222222222222222,
              "#7201a8"
             ],
             [
              0.3333333333333333,
              "#9c179e"
             ],
             [
              0.4444444444444444,
              "#bd3786"
             ],
             [
              0.5555555555555556,
              "#d8576b"
             ],
             [
              0.6666666666666666,
              "#ed7953"
             ],
             [
              0.7777777777777778,
              "#fb9f3a"
             ],
             [
              0.8888888888888888,
              "#fdca26"
             ],
             [
              1,
              "#f0f921"
             ]
            ],
            "type": "surface"
           }
          ],
          "table": [
           {
            "cells": {
             "fill": {
              "color": "#EBF0F8"
             },
             "line": {
              "color": "white"
             }
            },
            "header": {
             "fill": {
              "color": "#C8D4E3"
             },
             "line": {
              "color": "white"
             }
            },
            "type": "table"
           }
          ]
         },
         "layout": {
          "annotationdefaults": {
           "arrowcolor": "#2a3f5f",
           "arrowhead": 0,
           "arrowwidth": 1
          },
          "coloraxis": {
           "colorbar": {
            "outlinewidth": 0,
            "ticks": ""
           }
          },
          "colorscale": {
           "diverging": [
            [
             0,
             "#8e0152"
            ],
            [
             0.1,
             "#c51b7d"
            ],
            [
             0.2,
             "#de77ae"
            ],
            [
             0.3,
             "#f1b6da"
            ],
            [
             0.4,
             "#fde0ef"
            ],
            [
             0.5,
             "#f7f7f7"
            ],
            [
             0.6,
             "#e6f5d0"
            ],
            [
             0.7,
             "#b8e186"
            ],
            [
             0.8,
             "#7fbc41"
            ],
            [
             0.9,
             "#4d9221"
            ],
            [
             1,
             "#276419"
            ]
           ],
           "sequential": [
            [
             0,
             "#0d0887"
            ],
            [
             0.1111111111111111,
             "#46039f"
            ],
            [
             0.2222222222222222,
             "#7201a8"
            ],
            [
             0.3333333333333333,
             "#9c179e"
            ],
            [
             0.4444444444444444,
             "#bd3786"
            ],
            [
             0.5555555555555556,
             "#d8576b"
            ],
            [
             0.6666666666666666,
             "#ed7953"
            ],
            [
             0.7777777777777778,
             "#fb9f3a"
            ],
            [
             0.8888888888888888,
             "#fdca26"
            ],
            [
             1,
             "#f0f921"
            ]
           ],
           "sequentialminus": [
            [
             0,
             "#0d0887"
            ],
            [
             0.1111111111111111,
             "#46039f"
            ],
            [
             0.2222222222222222,
             "#7201a8"
            ],
            [
             0.3333333333333333,
             "#9c179e"
            ],
            [
             0.4444444444444444,
             "#bd3786"
            ],
            [
             0.5555555555555556,
             "#d8576b"
            ],
            [
             0.6666666666666666,
             "#ed7953"
            ],
            [
             0.7777777777777778,
             "#fb9f3a"
            ],
            [
             0.8888888888888888,
             "#fdca26"
            ],
            [
             1,
             "#f0f921"
            ]
           ]
          },
          "colorway": [
           "#636efa",
           "#EF553B",
           "#00cc96",
           "#ab63fa",
           "#FFA15A",
           "#19d3f3",
           "#FF6692",
           "#B6E880",
           "#FF97FF",
           "#FECB52"
          ],
          "font": {
           "color": "#2a3f5f"
          },
          "geo": {
           "bgcolor": "white",
           "lakecolor": "white",
           "landcolor": "#E5ECF6",
           "showlakes": true,
           "showland": true,
           "subunitcolor": "white"
          },
          "hoverlabel": {
           "align": "left"
          },
          "hovermode": "closest",
          "mapbox": {
           "style": "light"
          },
          "paper_bgcolor": "white",
          "plot_bgcolor": "#E5ECF6",
          "polar": {
           "angularaxis": {
            "gridcolor": "white",
            "linecolor": "white",
            "ticks": ""
           },
           "bgcolor": "#E5ECF6",
           "radialaxis": {
            "gridcolor": "white",
            "linecolor": "white",
            "ticks": ""
           }
          },
          "scene": {
           "xaxis": {
            "backgroundcolor": "#E5ECF6",
            "gridcolor": "white",
            "gridwidth": 2,
            "linecolor": "white",
            "showbackground": true,
            "ticks": "",
            "zerolinecolor": "white"
           },
           "yaxis": {
            "backgroundcolor": "#E5ECF6",
            "gridcolor": "white",
            "gridwidth": 2,
            "linecolor": "white",
            "showbackground": true,
            "ticks": "",
            "zerolinecolor": "white"
           },
           "zaxis": {
            "backgroundcolor": "#E5ECF6",
            "gridcolor": "white",
            "gridwidth": 2,
            "linecolor": "white",
            "showbackground": true,
            "ticks": "",
            "zerolinecolor": "white"
           }
          },
          "shapedefaults": {
           "line": {
            "color": "#2a3f5f"
           }
          },
          "ternary": {
           "aaxis": {
            "gridcolor": "white",
            "linecolor": "white",
            "ticks": ""
           },
           "baxis": {
            "gridcolor": "white",
            "linecolor": "white",
            "ticks": ""
           },
           "bgcolor": "#E5ECF6",
           "caxis": {
            "gridcolor": "white",
            "linecolor": "white",
            "ticks": ""
           }
          },
          "title": {
           "x": 0.05
          },
          "xaxis": {
           "automargin": true,
           "gridcolor": "white",
           "linecolor": "white",
           "ticks": "",
           "title": {
            "standoff": 15
           },
           "zerolinecolor": "white",
           "zerolinewidth": 2
          },
          "yaxis": {
           "automargin": true,
           "gridcolor": "white",
           "linecolor": "white",
           "ticks": "",
           "title": {
            "standoff": 15
           },
           "zerolinecolor": "white",
           "zerolinewidth": 2
          }
         }
        },
        "width": 700,
        "xaxis": {
         "rangeslider": {
          "visible": false
         },
         "showgrid": true
        },
        "yaxis": {
         "domain": [
          0,
          0.33
         ],
         "showgrid": true
        },
        "yaxis2": {
         "domain": [
          0.33,
          1
         ]
        }
       },
       "_model_module_version": "1.5.0",
       "_py2js_animate": {},
       "_py2js_deleteTraces": {},
       "_py2js_moveTraces": {},
       "_py2js_removeLayoutProps": {},
       "_py2js_removeTraceProps": {},
       "_py2js_restyle": {},
       "_view_count": 0,
       "_view_module_version": "1.5.0"
      }
     },
     "80cc1947e822443b818d0a136f8e1e67": {
      "buffers": [
       {
        "data": "AABAQAAAgEA=",
        "encoding": "base64",
        "path": [
         "_data",
         1,
         "y",
         "value"
        ]
       },
       {
        "data": "AACAPw==",
        "encoding": "base64",
        "path": [
         "_data",
         2,
         "y",
         "value"
        ]
       },
       {
        "data": "AAAAQA==",
        "encoding": "base64",
        "path": [
         "_data",
         3,
         "y",
         "value"
        ]
       }
      ],
      "model_module": "plotlywidget",
      "model_module_version": "1.5.0",
      "model_name": "FigureModel",
      "state": {
       "_config": {
        "plotlyServerURL": "https://plot.ly"
       },
       "_data": [
        {
         "line": {
          "color": "grey",
          "dash": "dot",
          "width": 2
         },
         "showlegend": false,
         "type": "scatter",
         "uid": "5f4d393b-892c-4df0-943f-761485b1ceee",
         "x": [
          "2018-01-01T00:00:00.000000",
          "2018-01-02T00:00:00.000000",
          "2018-01-03T00:00:00.000000",
          "2018-01-04T00:00:00.000000",
          "2018-01-05T00:00:00.000000"
         ],
         "y": [
          2,
          2,
          2,
          2,
          2
         ]
        },
        {
         "marker": {
          "color": "green",
          "size": 10,
          "symbol": "circle"
         },
         "mode": "markers",
         "name": "a (above)",
         "showlegend": true,
         "type": "scatter",
         "uid": "db2ba3ef-4772-454d-96a8-acced944f100",
         "x": [
          "2018-01-03T00:00:00.000000",
          "2018-01-04T00:00:00.000000"
         ],
         "y": {
          "dtype": "float32",
          "shape": [
           2
          ]
         }
        },
        {
         "marker": {
          "color": "red",
          "size": 10,
          "symbol": "circle"
         },
         "mode": "markers",
         "name": "a (below)",
         "showlegend": true,
         "type": "scatter",
         "uid": "10ca99f6-e833-4da6-a912-e6a8512168c4",
         "x": [
          "2018-01-01T00:00:00.000000"
         ],
         "y": {
          "dtype": "float32",
          "shape": [
           1
          ]
         }
        },
        {
         "marker": {
          "color": "grey",
          "size": 10,
          "symbol": "circle"
         },
         "mode": "markers",
         "name": "a (equal)",
         "showlegend": true,
         "type": "scatter",
         "uid": "e9257ed6-4500-4887-a291-7da810f467f5",
         "x": [
          "2018-01-02T00:00:00.000000"
         ],
         "y": {
          "dtype": "float32",
          "shape": [
           1
          ]
         }
        }
       ],
       "_js2py_layoutDelta": {},
       "_js2py_pointsCallback": {},
       "_js2py_relayout": {},
       "_js2py_restyle": {},
       "_js2py_traceDeltas": {},
       "_js2py_update": {},
       "_last_layout_edit_id": 6,
       "_last_trace_edit_id": 6,
       "_layout": {
        "autosize": false,
        "colorway": [
         "#1f77b4",
         "#ff7f0e",
         "#2ca02c",
         "#d62728",
         "#9467bd",
         "#8c564b",
         "#e377c2",
         "#7f7f7f",
         "#bcbd22",
         "#17becf"
        ],
        "height": 300,
        "hovermode": "closest",
        "margin": {
         "b": 30,
         "t": 30
        },
        "shapes": [
         {
          "line": {
           "color": "grey",
           "dash": "dot",
           "width": 2
          },
          "type": "line",
          "x0": 0,
          "x1": 1,
          "xref": "paper",
          "y0": 2,
          "y1": 2,
          "yref": "y"
         }
        ],
        "template": {
         "data": {
          "bar": [
           {
            "error_x": {
             "color": "#2a3f5f"
            },
            "error_y": {
             "color": "#2a3f5f"
            },
            "marker": {
             "line": {
              "color": "#E5ECF6",
              "width": 0.5
             }
            },
            "type": "bar"
           }
          ],
          "barpolar": [
           {
            "marker": {
             "line": {
              "color": "#E5ECF6",
              "width": 0.5
             }
            },
            "type": "barpolar"
           }
          ],
          "carpet": [
           {
            "aaxis": {
             "endlinecolor": "#2a3f5f",
             "gridcolor": "white",
             "linecolor": "white",
             "minorgridcolor": "white",
             "startlinecolor": "#2a3f5f"
            },
            "baxis": {
             "endlinecolor": "#2a3f5f",
             "gridcolor": "white",
             "linecolor": "white",
             "minorgridcolor": "white",
             "startlinecolor": "#2a3f5f"
            },
            "type": "carpet"
           }
          ],
          "choropleth": [
           {
            "colorbar": {
             "outlinewidth": 0,
             "ticks": ""
            },
            "type": "choropleth"
           }
          ],
          "contour": [
           {
            "colorbar": {
             "outlinewidth": 0,
             "ticks": ""
            },
            "colorscale": [
             [
              0,
              "#0d0887"
             ],
             [
              0.1111111111111111,
              "#46039f"
             ],
             [
              0.2222222222222222,
              "#7201a8"
             ],
             [
              0.3333333333333333,
              "#9c179e"
             ],
             [
              0.4444444444444444,
              "#bd3786"
             ],
             [
              0.5555555555555556,
              "#d8576b"
             ],
             [
              0.6666666666666666,
              "#ed7953"
             ],
             [
              0.7777777777777778,
              "#fb9f3a"
             ],
             [
              0.8888888888888888,
              "#fdca26"
             ],
             [
              1,
              "#f0f921"
             ]
            ],
            "type": "contour"
           }
          ],
          "contourcarpet": [
           {
            "colorbar": {
             "outlinewidth": 0,
             "ticks": ""
            },
            "type": "contourcarpet"
           }
          ],
          "heatmap": [
           {
            "colorbar": {
             "outlinewidth": 0,
             "ticks": ""
            },
            "colorscale": [
             [
              0,
              "#0d0887"
             ],
             [
              0.1111111111111111,
              "#46039f"
             ],
             [
              0.2222222222222222,
              "#7201a8"
             ],
             [
              0.3333333333333333,
              "#9c179e"
             ],
             [
              0.4444444444444444,
              "#bd3786"
             ],
             [
              0.5555555555555556,
              "#d8576b"
             ],
             [
              0.6666666666666666,
              "#ed7953"
             ],
             [
              0.7777777777777778,
              "#fb9f3a"
             ],
             [
              0.8888888888888888,
              "#fdca26"
             ],
             [
              1,
              "#f0f921"
             ]
            ],
            "type": "heatmap"
           }
          ],
          "heatmapgl": [
           {
            "colorbar": {
             "outlinewidth": 0,
             "ticks": ""
            },
            "colorscale": [
             [
              0,
              "#0d0887"
             ],
             [
              0.1111111111111111,
              "#46039f"
             ],
             [
              0.2222222222222222,
              "#7201a8"
             ],
             [
              0.3333333333333333,
              "#9c179e"
             ],
             [
              0.4444444444444444,
              "#bd3786"
             ],
             [
              0.5555555555555556,
              "#d8576b"
             ],
             [
              0.6666666666666666,
              "#ed7953"
             ],
             [
              0.7777777777777778,
              "#fb9f3a"
             ],
             [
              0.8888888888888888,
              "#fdca26"
             ],
             [
              1,
              "#f0f921"
             ]
            ],
            "type": "heatmapgl"
           }
          ],
          "histogram": [
           {
            "marker": {
             "colorbar": {
              "outlinewidth": 0,
              "ticks": ""
             }
            },
            "type": "histogram"
           }
          ],
          "histogram2d": [
           {
            "colorbar": {
             "outlinewidth": 0,
             "ticks": ""
            },
            "colorscale": [
             [
              0,
              "#0d0887"
             ],
             [
              0.1111111111111111,
              "#46039f"
             ],
             [
              0.2222222222222222,
              "#7201a8"
             ],
             [
              0.3333333333333333,
              "#9c179e"
             ],
             [
              0.4444444444444444,
              "#bd3786"
             ],
             [
              0.5555555555555556,
              "#d8576b"
             ],
             [
              0.6666666666666666,
              "#ed7953"
             ],
             [
              0.7777777777777778,
              "#fb9f3a"
             ],
             [
              0.8888888888888888,
              "#fdca26"
             ],
             [
              1,
              "#f0f921"
             ]
            ],
            "type": "histogram2d"
           }
          ],
          "histogram2dcontour": [
           {
            "colorbar": {
             "outlinewidth": 0,
             "ticks": ""
            },
            "colorscale": [
             [
              0,
              "#0d0887"
             ],
             [
              0.1111111111111111,
              "#46039f"
             ],
             [
              0.2222222222222222,
              "#7201a8"
             ],
             [
              0.3333333333333333,
              "#9c179e"
             ],
             [
              0.4444444444444444,
              "#bd3786"
             ],
             [
              0.5555555555555556,
              "#d8576b"
             ],
             [
              0.6666666666666666,
              "#ed7953"
             ],
             [
              0.7777777777777778,
              "#fb9f3a"
             ],
             [
              0.8888888888888888,
              "#fdca26"
             ],
             [
              1,
              "#f0f921"
             ]
            ],
            "type": "histogram2dcontour"
           }
          ],
          "mesh3d": [
           {
            "colorbar": {
             "outlinewidth": 0,
             "ticks": ""
            },
            "type": "mesh3d"
           }
          ],
          "parcoords": [
           {
            "line": {
             "colorbar": {
              "outlinewidth": 0,
              "ticks": ""
             }
            },
            "type": "parcoords"
           }
          ],
          "pie": [
           {
            "automargin": true,
            "type": "pie"
           }
          ],
          "scatter": [
           {
            "marker": {
             "colorbar": {
              "outlinewidth": 0,
              "ticks": ""
             }
            },
            "type": "scatter"
           }
          ],
          "scatter3d": [
           {
            "line": {
             "colorbar": {
              "outlinewidth": 0,
              "ticks": ""
             }
            },
            "marker": {
             "colorbar": {
              "outlinewidth": 0,
              "ticks": ""
             }
            },
            "type": "scatter3d"
           }
          ],
          "scattercarpet": [
           {
            "marker": {
             "colorbar": {
              "outlinewidth": 0,
              "ticks": ""
             }
            },
            "type": "scattercarpet"
           }
          ],
          "scattergeo": [
           {
            "marker": {
             "colorbar": {
              "outlinewidth": 0,
              "ticks": ""
             }
            },
            "type": "scattergeo"
           }
          ],
          "scattergl": [
           {
            "marker": {
             "colorbar": {
              "outlinewidth": 0,
              "ticks": ""
             }
            },
            "type": "scattergl"
           }
          ],
          "scattermapbox": [
           {
            "marker": {
             "colorbar": {
              "outlinewidth": 0,
              "ticks": ""
             }
            },
            "type": "scattermapbox"
           }
          ],
          "scatterpolar": [
           {
            "marker": {
             "colorbar": {
              "outlinewidth": 0,
              "ticks": ""
             }
            },
            "type": "scatterpolar"
           }
          ],
          "scatterpolargl": [
           {
            "marker": {
             "colorbar": {
              "outlinewidth": 0,
              "ticks": ""
             }
            },
            "type": "scatterpolargl"
           }
          ],
          "scatterternary": [
           {
            "marker": {
             "colorbar": {
              "outlinewidth": 0,
              "ticks": ""
             }
            },
            "type": "scatterternary"
           }
          ],
          "surface": [
           {
            "colorbar": {
             "outlinewidth": 0,
             "ticks": ""
            },
            "colorscale": [
             [
              0,
              "#0d0887"
             ],
             [
              0.1111111111111111,
              "#46039f"
             ],
             [
              0.2222222222222222,
              "#7201a8"
             ],
             [
              0.3333333333333333,
              "#9c179e"
             ],
             [
              0.4444444444444444,
              "#bd3786"
             ],
             [
              0.5555555555555556,
              "#d8576b"
             ],
             [
              0.6666666666666666,
              "#ed7953"
             ],
             [
              0.7777777777777778,
              "#fb9f3a"
             ],
             [
              0.8888888888888888,
              "#fdca26"
             ],
             [
              1,
              "#f0f921"
             ]
            ],
            "type": "surface"
           }
          ],
          "table": [
           {
            "cells": {
             "fill": {
              "color": "#EBF0F8"
             },
             "line": {
              "color": "white"
             }
            },
            "header": {
             "fill": {
              "color": "#C8D4E3"
             },
             "line": {
              "color": "white"
             }
            },
            "type": "table"
           }
          ]
         },
         "layout": {
          "annotationdefaults": {
           "arrowcolor": "#2a3f5f",
           "arrowhead": 0,
           "arrowwidth": 1
          },
          "coloraxis": {
           "colorbar": {
            "outlinewidth": 0,
            "ticks": ""
           }
          },
          "colorscale": {
           "diverging": [
            [
             0,
             "#8e0152"
            ],
            [
             0.1,
             "#c51b7d"
            ],
            [
             0.2,
             "#de77ae"
            ],
            [
             0.3,
             "#f1b6da"
            ],
            [
             0.4,
             "#fde0ef"
            ],
            [
             0.5,
             "#f7f7f7"
            ],
            [
             0.6,
             "#e6f5d0"
            ],
            [
             0.7,
             "#b8e186"
            ],
            [
             0.8,
             "#7fbc41"
            ],
            [
             0.9,
             "#4d9221"
            ],
            [
             1,
             "#276419"
            ]
           ],
           "sequential": [
            [
             0,
             "#0d0887"
            ],
            [
             0.1111111111111111,
             "#46039f"
            ],
            [
             0.2222222222222222,
             "#7201a8"
            ],
            [
             0.3333333333333333,
             "#9c179e"
            ],
            [
             0.4444444444444444,
             "#bd3786"
            ],
            [
             0.5555555555555556,
             "#d8576b"
            ],
            [
             0.6666666666666666,
             "#ed7953"
            ],
            [
             0.7777777777777778,
             "#fb9f3a"
            ],
            [
             0.8888888888888888,
             "#fdca26"
            ],
            [
             1,
             "#f0f921"
            ]
           ],
           "sequentialminus": [
            [
             0,
             "#0d0887"
            ],
            [
             0.1111111111111111,
             "#46039f"
            ],
            [
             0.2222222222222222,
             "#7201a8"
            ],
            [
             0.3333333333333333,
             "#9c179e"
            ],
            [
             0.4444444444444444,
             "#bd3786"
            ],
            [
             0.5555555555555556,
             "#d8576b"
            ],
            [
             0.6666666666666666,
             "#ed7953"
            ],
            [
             0.7777777777777778,
             "#fb9f3a"
            ],
            [
             0.8888888888888888,
             "#fdca26"
            ],
            [
             1,
             "#f0f921"
            ]
           ]
          },
          "colorway": [
           "#636efa",
           "#EF553B",
           "#00cc96",
           "#ab63fa",
           "#FFA15A",
           "#19d3f3",
           "#FF6692",
           "#B6E880",
           "#FF97FF",
           "#FECB52"
          ],
          "font": {
           "color": "#2a3f5f"
          },
          "geo": {
           "bgcolor": "white",
           "lakecolor": "white",
           "landcolor": "#E5ECF6",
           "showlakes": true,
           "showland": true,
           "subunitcolor": "white"
          },
          "hoverlabel": {
           "align": "left"
          },
          "hovermode": "closest",
          "mapbox": {
           "style": "light"
          },
          "paper_bgcolor": "white",
          "plot_bgcolor": "#E5ECF6",
          "polar": {
           "angularaxis": {
            "gridcolor": "white",
            "linecolor": "white",
            "ticks": ""
           },
           "bgcolor": "#E5ECF6",
           "radialaxis": {
            "gridcolor": "white",
            "linecolor": "white",
            "ticks": ""
           }
          },
          "scene": {
           "xaxis": {
            "backgroundcolor": "#E5ECF6",
            "gridcolor": "white",
            "gridwidth": 2,
            "linecolor": "white",
            "showbackground": true,
            "ticks": "",
            "zerolinecolor": "white"
           },
           "yaxis": {
            "backgroundcolor": "#E5ECF6",
            "gridcolor": "white",
            "gridwidth": 2,
            "linecolor": "white",
            "showbackground": true,
            "ticks": "",
            "zerolinecolor": "white"
           },
           "zaxis": {
            "backgroundcolor": "#E5ECF6",
            "gridcolor": "white",
            "gridwidth": 2,
            "linecolor": "white",
            "showbackground": true,
            "ticks": "",
            "zerolinecolor": "white"
           }
          },
          "shapedefaults": {
           "line": {
            "color": "#2a3f5f"
           }
          },
          "ternary": {
           "aaxis": {
            "gridcolor": "white",
            "linecolor": "white",
            "ticks": ""
           },
           "baxis": {
            "gridcolor": "white",
            "linecolor": "white",
            "ticks": ""
           },
           "bgcolor": "#E5ECF6",
           "caxis": {
            "gridcolor": "white",
            "linecolor": "white",
            "ticks": ""
           }
          },
          "title": {
           "x": 0.05
          },
          "xaxis": {
           "automargin": true,
           "gridcolor": "white",
           "linecolor": "white",
           "ticks": "",
           "title": {
            "standoff": 15
           },
           "zerolinecolor": "white",
           "zerolinewidth": 2
          },
          "yaxis": {
           "automargin": true,
           "gridcolor": "white",
           "linecolor": "white",
           "ticks": "",
           "title": {
            "standoff": 15
           },
           "zerolinecolor": "white",
           "zerolinewidth": 2
          }
         }
        },
        "width": 700,
        "yaxis": {
         "range": [
          -2.8,
          6.8
         ]
        }
       },
       "_model_module_version": "1.5.0",
       "_py2js_animate": {},
       "_py2js_deleteTraces": {},
       "_py2js_moveTraces": {},
       "_py2js_removeLayoutProps": {},
       "_py2js_removeTraceProps": {},
       "_py2js_restyle": {},
       "_view_count": 0,
       "_view_module_version": "1.5.0"
      }
     },
     "83dc2a5c43d641528506bfb7c65f64ba": {
      "buffers": [
       {
        "data": "AADAfwAAgEAAAEBAAAAAQAAAgD8=",
        "encoding": "base64",
        "path": [
         "_data",
         0,
         "y",
         "value"
        ]
       },
       {
        "data": "AACAQA==",
        "encoding": "base64",
        "path": [
         "_data",
         1,
         "y",
         "value"
        ]
       },
       {
        "data": "AAAAQA==",
        "encoding": "base64",
        "path": [
         "_data",
         2,
         "y",
         "value"
        ]
       },
       {
        "data": "AABAQA==",
        "encoding": "base64",
        "path": [
         "_data",
         3,
         "y",
         "value"
        ]
       }
      ],
      "model_module": "plotlywidget",
      "model_module_version": "1.5.0",
      "model_name": "FigureModel",
      "state": {
       "_config": {
        "plotlyServerURL": "https://plot.ly"
       },
       "_data": [
        {
         "line": {
          "color": "grey",
          "dash": "dot",
          "width": 2
         },
         "name": "b",
         "showlegend": true,
         "type": "scatter",
         "uid": "7dd83ac2-d9ee-4c3e-9b47-233162963c3f",
         "x": [
          "2018-01-01T00:00:00.000000",
          "2018-01-02T00:00:00.000000",
          "2018-01-03T00:00:00.000000",
          "2018-01-04T00:00:00.000000",
          "2018-01-05T00:00:00.000000"
         ],
         "y": {
          "dtype": "float32",
          "shape": [
           5
          ]
         }
        },
        {
         "marker": {
          "color": "green",
          "size": 10,
          "symbol": "circle"
         },
         "mode": "markers",
         "name": "a (above)",
         "showlegend": true,
         "type": "scatter",
         "uid": "68869c42-f134-4c4c-8309-92f30ddc373c",
         "x": [
          "2018-01-04T00:00:00.000000"
         ],
         "y": {
          "dtype": "float32",
          "shape": [
           1
          ]
         }
        },
        {
         "marker": {
          "color": "red",
          "size": 10,
          "symbol": "circle"
         },
         "mode": "markers",
         "name": "a (below)",
         "showlegend": true,
         "type": "scatter",
         "uid": "2204a66e-66a7-488e-a27e-041a9f6ca0c5",
         "x": [
          "2018-01-02T00:00:00.000000"
         ],
         "y": {
          "dtype": "float32",
          "shape": [
           1
          ]
         }
        },
        {
         "marker": {
          "color": "grey",
          "size": 10,
          "symbol": "circle"
         },
         "mode": "markers",
         "name": "a (equal)",
         "showlegend": true,
         "type": "scatter",
         "uid": "d1d0b804-bf3e-475d-824a-d9d074454af8",
         "x": [
          "2018-01-03T00:00:00.000000"
         ],
         "y": {
          "dtype": "float32",
          "shape": [
           1
          ]
         }
        }
       ],
       "_js2py_layoutDelta": {},
       "_js2py_pointsCallback": {},
       "_js2py_relayout": {},
       "_js2py_restyle": {},
       "_js2py_traceDeltas": {},
       "_js2py_update": {},
       "_last_layout_edit_id": 5,
       "_last_trace_edit_id": 5,
       "_layout": {
        "autosize": false,
        "colorway": [
         "#1f77b4",
         "#ff7f0e",
         "#2ca02c",
         "#d62728",
         "#9467bd",
         "#8c564b",
         "#e377c2",
         "#7f7f7f",
         "#bcbd22",
         "#17becf"
        ],
        "height": 300,
        "hovermode": "closest",
        "margin": {
         "b": 30,
         "t": 30
        },
        "template": {
         "data": {
          "bar": [
           {
            "error_x": {
             "color": "#2a3f5f"
            },
            "error_y": {
             "color": "#2a3f5f"
            },
            "marker": {
             "line": {
              "color": "#E5ECF6",
              "width": 0.5
             }
            },
            "type": "bar"
           }
          ],
          "barpolar": [
           {
            "marker": {
             "line": {
              "color": "#E5ECF6",
              "width": 0.5
             }
            },
            "type": "barpolar"
           }
          ],
          "carpet": [
           {
            "aaxis": {
             "endlinecolor": "#2a3f5f",
             "gridcolor": "white",
             "linecolor": "white",
             "minorgridcolor": "white",
             "startlinecolor": "#2a3f5f"
            },
            "baxis": {
             "endlinecolor": "#2a3f5f",
             "gridcolor": "white",
             "linecolor": "white",
             "minorgridcolor": "white",
             "startlinecolor": "#2a3f5f"
            },
            "type": "carpet"
           }
          ],
          "choropleth": [
           {
            "colorbar": {
             "outlinewidth": 0,
             "ticks": ""
            },
            "type": "choropleth"
           }
          ],
          "contour": [
           {
            "colorbar": {
             "outlinewidth": 0,
             "ticks": ""
            },
            "colorscale": [
             [
              0,
              "#0d0887"
             ],
             [
              0.1111111111111111,
              "#46039f"
             ],
             [
              0.2222222222222222,
              "#7201a8"
             ],
             [
              0.3333333333333333,
              "#9c179e"
             ],
             [
              0.4444444444444444,
              "#bd3786"
             ],
             [
              0.5555555555555556,
              "#d8576b"
             ],
             [
              0.6666666666666666,
              "#ed7953"
             ],
             [
              0.7777777777777778,
              "#fb9f3a"
             ],
             [
              0.8888888888888888,
              "#fdca26"
             ],
             [
              1,
              "#f0f921"
             ]
            ],
            "type": "contour"
           }
          ],
          "contourcarpet": [
           {
            "colorbar": {
             "outlinewidth": 0,
             "ticks": ""
            },
            "type": "contourcarpet"
           }
          ],
          "heatmap": [
           {
            "colorbar": {
             "outlinewidth": 0,
             "ticks": ""
            },
            "colorscale": [
             [
              0,
              "#0d0887"
             ],
             [
              0.1111111111111111,
              "#46039f"
             ],
             [
              0.2222222222222222,
              "#7201a8"
             ],
             [
              0.3333333333333333,
              "#9c179e"
             ],
             [
              0.4444444444444444,
              "#bd3786"
             ],
             [
              0.5555555555555556,
              "#d8576b"
             ],
             [
              0.6666666666666666,
              "#ed7953"
             ],
             [
              0.7777777777777778,
              "#fb9f3a"
             ],
             [
              0.8888888888888888,
              "#fdca26"
             ],
             [
              1,
              "#f0f921"
             ]
            ],
            "type": "heatmap"
           }
          ],
          "heatmapgl": [
           {
            "colorbar": {
             "outlinewidth": 0,
             "ticks": ""
            },
            "colorscale": [
             [
              0,
              "#0d0887"
             ],
             [
              0.1111111111111111,
              "#46039f"
             ],
             [
              0.2222222222222222,
              "#7201a8"
             ],
             [
              0.3333333333333333,
              "#9c179e"
             ],
             [
              0.4444444444444444,
              "#bd3786"
             ],
             [
              0.5555555555555556,
              "#d8576b"
             ],
             [
              0.6666666666666666,
              "#ed7953"
             ],
             [
              0.7777777777777778,
              "#fb9f3a"
             ],
             [
              0.8888888888888888,
              "#fdca26"
             ],
             [
              1,
              "#f0f921"
             ]
            ],
            "type": "heatmapgl"
           }
          ],
          "histogram": [
           {
            "marker": {
             "colorbar": {
              "outlinewidth": 0,
              "ticks": ""
             }
            },
            "type": "histogram"
           }
          ],
          "histogram2d": [
           {
            "colorbar": {
             "outlinewidth": 0,
             "ticks": ""
            },
            "colorscale": [
             [
              0,
              "#0d0887"
             ],
             [
              0.1111111111111111,
              "#46039f"
             ],
             [
              0.2222222222222222,
              "#7201a8"
             ],
             [
              0.3333333333333333,
              "#9c179e"
             ],
             [
              0.4444444444444444,
              "#bd3786"
             ],
             [
              0.5555555555555556,
              "#d8576b"
             ],
             [
              0.6666666666666666,
              "#ed7953"
             ],
             [
              0.7777777777777778,
              "#fb9f3a"
             ],
             [
              0.8888888888888888,
              "#fdca26"
             ],
             [
              1,
              "#f0f921"
             ]
            ],
            "type": "histogram2d"
           }
          ],
          "histogram2dcontour": [
           {
            "colorbar": {
             "outlinewidth": 0,
             "ticks": ""
            },
            "colorscale": [
             [
              0,
              "#0d0887"
             ],
             [
              0.1111111111111111,
              "#46039f"
             ],
             [
              0.2222222222222222,
              "#7201a8"
             ],
             [
              0.3333333333333333,
              "#9c179e"
             ],
             [
              0.4444444444444444,
              "#bd3786"
             ],
             [
              0.5555555555555556,
              "#d8576b"
             ],
             [
              0.6666666666666666,
              "#ed7953"
             ],
             [
              0.7777777777777778,
              "#fb9f3a"
             ],
             [
              0.8888888888888888,
              "#fdca26"
             ],
             [
              1,
              "#f0f921"
             ]
            ],
            "type": "histogram2dcontour"
           }
          ],
          "mesh3d": [
           {
            "colorbar": {
             "outlinewidth": 0,
             "ticks": ""
            },
            "type": "mesh3d"
           }
          ],
          "parcoords": [
           {
            "line": {
             "colorbar": {
              "outlinewidth": 0,
              "ticks": ""
             }
            },
            "type": "parcoords"
           }
          ],
          "pie": [
           {
            "automargin": true,
            "type": "pie"
           }
          ],
          "scatter": [
           {
            "marker": {
             "colorbar": {
              "outlinewidth": 0,
              "ticks": ""
             }
            },
            "type": "scatter"
           }
          ],
          "scatter3d": [
           {
            "line": {
             "colorbar": {
              "outlinewidth": 0,
              "ticks": ""
             }
            },
            "marker": {
             "colorbar": {
              "outlinewidth": 0,
              "ticks": ""
             }
            },
            "type": "scatter3d"
           }
          ],
          "scattercarpet": [
           {
            "marker": {
             "colorbar": {
              "outlinewidth": 0,
              "ticks": ""
             }
            },
            "type": "scattercarpet"
           }
          ],
          "scattergeo": [
           {
            "marker": {
             "colorbar": {
              "outlinewidth": 0,
              "ticks": ""
             }
            },
            "type": "scattergeo"
           }
          ],
          "scattergl": [
           {
            "marker": {
             "colorbar": {
              "outlinewidth": 0,
              "ticks": ""
             }
            },
            "type": "scattergl"
           }
          ],
          "scattermapbox": [
           {
            "marker": {
             "colorbar": {
              "outlinewidth": 0,
              "ticks": ""
             }
            },
            "type": "scattermapbox"
           }
          ],
          "scatterpolar": [
           {
            "marker": {
             "colorbar": {
              "outlinewidth": 0,
              "ticks": ""
             }
            },
            "type": "scatterpolar"
           }
          ],
          "scatterpolargl": [
           {
            "marker": {
             "colorbar": {
              "outlinewidth": 0,
              "ticks": ""
             }
            },
            "type": "scatterpolargl"
           }
          ],
          "scatterternary": [
           {
            "marker": {
             "colorbar": {
              "outlinewidth": 0,
              "ticks": ""
             }
            },
            "type": "scatterternary"
           }
          ],
          "surface": [
           {
            "colorbar": {
             "outlinewidth": 0,
             "ticks": ""
            },
            "colorscale": [
             [
              0,
              "#0d0887"
             ],
             [
              0.1111111111111111,
              "#46039f"
             ],
             [
              0.2222222222222222,
              "#7201a8"
             ],
             [
              0.3333333333333333,
              "#9c179e"
             ],
             [
              0.4444444444444444,
              "#bd3786"
             ],
             [
              0.5555555555555556,
              "#d8576b"
             ],
             [
              0.6666666666666666,
              "#ed7953"
             ],
             [
              0.7777777777777778,
              "#fb9f3a"
             ],
             [
              0.8888888888888888,
              "#fdca26"
             ],
             [
              1,
              "#f0f921"
             ]
            ],
            "type": "surface"
           }
          ],
          "table": [
           {
            "cells": {
             "fill": {
              "color": "#EBF0F8"
             },
             "line": {
              "color": "white"
             }
            },
            "header": {
             "fill": {
              "color": "#C8D4E3"
             },
             "line": {
              "color": "white"
             }
            },
            "type": "table"
           }
          ]
         },
         "layout": {
          "annotationdefaults": {
           "arrowcolor": "#2a3f5f",
           "arrowhead": 0,
           "arrowwidth": 1
          },
          "coloraxis": {
           "colorbar": {
            "outlinewidth": 0,
            "ticks": ""
           }
          },
          "colorscale": {
           "diverging": [
            [
             0,
             "#8e0152"
            ],
            [
             0.1,
             "#c51b7d"
            ],
            [
             0.2,
             "#de77ae"
            ],
            [
             0.3,
             "#f1b6da"
            ],
            [
             0.4,
             "#fde0ef"
            ],
            [
             0.5,
             "#f7f7f7"
            ],
            [
             0.6,
             "#e6f5d0"
            ],
            [
             0.7,
             "#b8e186"
            ],
            [
             0.8,
             "#7fbc41"
            ],
            [
             0.9,
             "#4d9221"
            ],
            [
             1,
             "#276419"
            ]
           ],
           "sequential": [
            [
             0,
             "#0d0887"
            ],
            [
             0.1111111111111111,
             "#46039f"
            ],
            [
             0.2222222222222222,
             "#7201a8"
            ],
            [
             0.3333333333333333,
             "#9c179e"
            ],
            [
             0.4444444444444444,
             "#bd3786"
            ],
            [
             0.5555555555555556,
             "#d8576b"
            ],
            [
             0.6666666666666666,
             "#ed7953"
            ],
            [
             0.7777777777777778,
             "#fb9f3a"
            ],
            [
             0.8888888888888888,
             "#fdca26"
            ],
            [
             1,
             "#f0f921"
            ]
           ],
           "sequentialminus": [
            [
             0,
             "#0d0887"
            ],
            [
             0.1111111111111111,
             "#46039f"
            ],
            [
             0.2222222222222222,
             "#7201a8"
            ],
            [
             0.3333333333333333,
             "#9c179e"
            ],
            [
             0.4444444444444444,
             "#bd3786"
            ],
            [
             0.5555555555555556,
             "#d8576b"
            ],
            [
             0.6666666666666666,
             "#ed7953"
            ],
            [
             0.7777777777777778,
             "#fb9f3a"
            ],
            [
             0.8888888888888888,
             "#fdca26"
            ],
            [
             1,
             "#f0f921"
            ]
           ]
          },
          "colorway": [
           "#636efa",
           "#EF553B",
           "#00cc96",
           "#ab63fa",
           "#FFA15A",
           "#19d3f3",
           "#FF6692",
           "#B6E880",
           "#FF97FF",
           "#FECB52"
          ],
          "font": {
           "color": "#2a3f5f"
          },
          "geo": {
           "bgcolor": "white",
           "lakecolor": "white",
           "landcolor": "#E5ECF6",
           "showlakes": true,
           "showland": true,
           "subunitcolor": "white"
          },
          "hoverlabel": {
           "align": "left"
          },
          "hovermode": "closest",
          "mapbox": {
           "style": "light"
          },
          "paper_bgcolor": "white",
          "plot_bgcolor": "#E5ECF6",
          "polar": {
           "angularaxis": {
            "gridcolor": "white",
            "linecolor": "white",
            "ticks": ""
           },
           "bgcolor": "#E5ECF6",
           "radialaxis": {
            "gridcolor": "white",
            "linecolor": "white",
            "ticks": ""
           }
          },
          "scene": {
           "xaxis": {
            "backgroundcolor": "#E5ECF6",
            "gridcolor": "white",
            "gridwidth": 2,
            "linecolor": "white",
            "showbackground": true,
            "ticks": "",
            "zerolinecolor": "white"
           },
           "yaxis": {
            "backgroundcolor": "#E5ECF6",
            "gridcolor": "white",
            "gridwidth": 2,
            "linecolor": "white",
            "showbackground": true,
            "ticks": "",
            "zerolinecolor": "white"
           },
           "zaxis": {
            "backgroundcolor": "#E5ECF6",
            "gridcolor": "white",
            "gridwidth": 2,
            "linecolor": "white",
            "showbackground": true,
            "ticks": "",
            "zerolinecolor": "white"
           }
          },
          "shapedefaults": {
           "line": {
            "color": "#2a3f5f"
           }
          },
          "ternary": {
           "aaxis": {
            "gridcolor": "white",
            "linecolor": "white",
            "ticks": ""
           },
           "baxis": {
            "gridcolor": "white",
            "linecolor": "white",
            "ticks": ""
           },
           "bgcolor": "#E5ECF6",
           "caxis": {
            "gridcolor": "white",
            "linecolor": "white",
            "ticks": ""
           }
          },
          "title": {
           "x": 0.05
          },
          "xaxis": {
           "automargin": true,
           "gridcolor": "white",
           "linecolor": "white",
           "ticks": "",
           "title": {
            "standoff": 15
           },
           "zerolinecolor": "white",
           "zerolinewidth": 2
          },
          "yaxis": {
           "automargin": true,
           "gridcolor": "white",
           "linecolor": "white",
           "ticks": "",
           "title": {
            "standoff": 15
           },
           "zerolinecolor": "white",
           "zerolinewidth": 2
          }
         }
        },
        "width": 700
       },
       "_model_module_version": "1.5.0",
       "_py2js_animate": {},
       "_py2js_deleteTraces": {},
       "_py2js_moveTraces": {},
       "_py2js_removeLayoutProps": {},
       "_py2js_removeTraceProps": {},
       "_py2js_restyle": {},
       "_view_count": 0,
       "_view_module_version": "1.5.0"
      }
     },
     "cf13d6cf447947cd93a59024dc3af2b5": {
      "buffers": [
       {
        "data": "AACAPwAAAEAAAEBAAACAQAAAwH8=",
        "encoding": "base64",
        "path": [
         "_data",
         0,
         "y",
         "value"
        ]
       }
      ],
      "model_module": "plotlywidget",
      "model_module_version": "1.5.0",
      "model_name": "FigureModel",
      "state": {
       "_config": {
        "plotlyServerURL": "https://plot.ly"
       },
       "_data": [
        {
         "mode": "lines",
         "name": "a",
         "showlegend": true,
         "type": "scatter",
         "uid": "d6059f73-3461-4ad0-b9d6-55da486527c2",
         "x": [
          "2018-01-01T00:00:00.000000",
          "2018-01-02T00:00:00.000000",
          "2018-01-03T00:00:00.000000",
          "2018-01-04T00:00:00.000000",
          "2018-01-05T00:00:00.000000"
         ],
         "y": {
          "dtype": "float32",
          "shape": [
           5
          ]
         }
        }
       ],
       "_js2py_layoutDelta": {},
       "_js2py_pointsCallback": {},
       "_js2py_relayout": {},
       "_js2py_restyle": {},
       "_js2py_traceDeltas": {},
       "_js2py_update": {},
       "_last_layout_edit_id": 2,
       "_last_trace_edit_id": 2,
       "_layout": {
        "autosize": false,
        "colorway": [
         "#1f77b4",
         "#ff7f0e",
         "#2ca02c",
         "#d62728",
         "#9467bd",
         "#8c564b",
         "#e377c2",
         "#7f7f7f",
         "#bcbd22",
         "#17becf"
        ],
        "height": 300,
        "hovermode": "closest",
        "margin": {
         "b": 30,
         "t": 30
        },
        "template": {
         "data": {
          "bar": [
           {
            "error_x": {
             "color": "#2a3f5f"
            },
            "error_y": {
             "color": "#2a3f5f"
            },
            "marker": {
             "line": {
              "color": "#E5ECF6",
              "width": 0.5
             }
            },
            "type": "bar"
           }
          ],
          "barpolar": [
           {
            "marker": {
             "line": {
              "color": "#E5ECF6",
              "width": 0.5
             }
            },
            "type": "barpolar"
           }
          ],
          "carpet": [
           {
            "aaxis": {
             "endlinecolor": "#2a3f5f",
             "gridcolor": "white",
             "linecolor": "white",
             "minorgridcolor": "white",
             "startlinecolor": "#2a3f5f"
            },
            "baxis": {
             "endlinecolor": "#2a3f5f",
             "gridcolor": "white",
             "linecolor": "white",
             "minorgridcolor": "white",
             "startlinecolor": "#2a3f5f"
            },
            "type": "carpet"
           }
          ],
          "choropleth": [
           {
            "colorbar": {
             "outlinewidth": 0,
             "ticks": ""
            },
            "type": "choropleth"
           }
          ],
          "contour": [
           {
            "colorbar": {
             "outlinewidth": 0,
             "ticks": ""
            },
            "colorscale": [
             [
              0,
              "#0d0887"
             ],
             [
              0.1111111111111111,
              "#46039f"
             ],
             [
              0.2222222222222222,
              "#7201a8"
             ],
             [
              0.3333333333333333,
              "#9c179e"
             ],
             [
              0.4444444444444444,
              "#bd3786"
             ],
             [
              0.5555555555555556,
              "#d8576b"
             ],
             [
              0.6666666666666666,
              "#ed7953"
             ],
             [
              0.7777777777777778,
              "#fb9f3a"
             ],
             [
              0.8888888888888888,
              "#fdca26"
             ],
             [
              1,
              "#f0f921"
             ]
            ],
            "type": "contour"
           }
          ],
          "contourcarpet": [
           {
            "colorbar": {
             "outlinewidth": 0,
             "ticks": ""
            },
            "type": "contourcarpet"
           }
          ],
          "heatmap": [
           {
            "colorbar": {
             "outlinewidth": 0,
             "ticks": ""
            },
            "colorscale": [
             [
              0,
              "#0d0887"
             ],
             [
              0.1111111111111111,
              "#46039f"
             ],
             [
              0.2222222222222222,
              "#7201a8"
             ],
             [
              0.3333333333333333,
              "#9c179e"
             ],
             [
              0.4444444444444444,
              "#bd3786"
             ],
             [
              0.5555555555555556,
              "#d8576b"
             ],
             [
              0.6666666666666666,
              "#ed7953"
             ],
             [
              0.7777777777777778,
              "#fb9f3a"
             ],
             [
              0.8888888888888888,
              "#fdca26"
             ],
             [
              1,
              "#f0f921"
             ]
            ],
            "type": "heatmap"
           }
          ],
          "heatmapgl": [
           {
            "colorbar": {
             "outlinewidth": 0,
             "ticks": ""
            },
            "colorscale": [
             [
              0,
              "#0d0887"
             ],
             [
              0.1111111111111111,
              "#46039f"
             ],
             [
              0.2222222222222222,
              "#7201a8"
             ],
             [
              0.3333333333333333,
              "#9c179e"
             ],
             [
              0.4444444444444444,
              "#bd3786"
             ],
             [
              0.5555555555555556,
              "#d8576b"
             ],
             [
              0.6666666666666666,
              "#ed7953"
             ],
             [
              0.7777777777777778,
              "#fb9f3a"
             ],
             [
              0.8888888888888888,
              "#fdca26"
             ],
             [
              1,
              "#f0f921"
             ]
            ],
            "type": "heatmapgl"
           }
          ],
          "histogram": [
           {
            "marker": {
             "colorbar": {
              "outlinewidth": 0,
              "ticks": ""
             }
            },
            "type": "histogram"
           }
          ],
          "histogram2d": [
           {
            "colorbar": {
             "outlinewidth": 0,
             "ticks": ""
            },
            "colorscale": [
             [
              0,
              "#0d0887"
             ],
             [
              0.1111111111111111,
              "#46039f"
             ],
             [
              0.2222222222222222,
              "#7201a8"
             ],
             [
              0.3333333333333333,
              "#9c179e"
             ],
             [
              0.4444444444444444,
              "#bd3786"
             ],
             [
              0.5555555555555556,
              "#d8576b"
             ],
             [
              0.6666666666666666,
              "#ed7953"
             ],
             [
              0.7777777777777778,
              "#fb9f3a"
             ],
             [
              0.8888888888888888,
              "#fdca26"
             ],
             [
              1,
              "#f0f921"
             ]
            ],
            "type": "histogram2d"
           }
          ],
          "histogram2dcontour": [
           {
            "colorbar": {
             "outlinewidth": 0,
             "ticks": ""
            },
            "colorscale": [
             [
              0,
              "#0d0887"
             ],
             [
              0.1111111111111111,
              "#46039f"
             ],
             [
              0.2222222222222222,
              "#7201a8"
             ],
             [
              0.3333333333333333,
              "#9c179e"
             ],
             [
              0.4444444444444444,
              "#bd3786"
             ],
             [
              0.5555555555555556,
              "#d8576b"
             ],
             [
              0.6666666666666666,
              "#ed7953"
             ],
             [
              0.7777777777777778,
              "#fb9f3a"
             ],
             [
              0.8888888888888888,
              "#fdca26"
             ],
             [
              1,
              "#f0f921"
             ]
            ],
            "type": "histogram2dcontour"
           }
          ],
          "mesh3d": [
           {
            "colorbar": {
             "outlinewidth": 0,
             "ticks": ""
            },
            "type": "mesh3d"
           }
          ],
          "parcoords": [
           {
            "line": {
             "colorbar": {
              "outlinewidth": 0,
              "ticks": ""
             }
            },
            "type": "parcoords"
           }
          ],
          "pie": [
           {
            "automargin": true,
            "type": "pie"
           }
          ],
          "scatter": [
           {
            "marker": {
             "colorbar": {
              "outlinewidth": 0,
              "ticks": ""
             }
            },
            "type": "scatter"
           }
          ],
          "scatter3d": [
           {
            "line": {
             "colorbar": {
              "outlinewidth": 0,
              "ticks": ""
             }
            },
            "marker": {
             "colorbar": {
              "outlinewidth": 0,
              "ticks": ""
             }
            },
            "type": "scatter3d"
           }
          ],
          "scattercarpet": [
           {
            "marker": {
             "colorbar": {
              "outlinewidth": 0,
              "ticks": ""
             }
            },
            "type": "scattercarpet"
           }
          ],
          "scattergeo": [
           {
            "marker": {
             "colorbar": {
              "outlinewidth": 0,
              "ticks": ""
             }
            },
            "type": "scattergeo"
           }
          ],
          "scattergl": [
           {
            "marker": {
             "colorbar": {
              "outlinewidth": 0,
              "ticks": ""
             }
            },
            "type": "scattergl"
           }
          ],
          "scattermapbox": [
           {
            "marker": {
             "colorbar": {
              "outlinewidth": 0,
              "ticks": ""
             }
            },
            "type": "scattermapbox"
           }
          ],
          "scatterpolar": [
           {
            "marker": {
             "colorbar": {
              "outlinewidth": 0,
              "ticks": ""
             }
            },
            "type": "scatterpolar"
           }
          ],
          "scatterpolargl": [
           {
            "marker": {
             "colorbar": {
              "outlinewidth": 0,
              "ticks": ""
             }
            },
            "type": "scatterpolargl"
           }
          ],
          "scatterternary": [
           {
            "marker": {
             "colorbar": {
              "outlinewidth": 0,
              "ticks": ""
             }
            },
            "type": "scatterternary"
           }
          ],
          "surface": [
           {
            "colorbar": {
             "outlinewidth": 0,
             "ticks": ""
            },
            "colorscale": [
             [
              0,
              "#0d0887"
             ],
             [
              0.1111111111111111,
              "#46039f"
             ],
             [
              0.2222222222222222,
              "#7201a8"
             ],
             [
              0.3333333333333333,
              "#9c179e"
             ],
             [
              0.4444444444444444,
              "#bd3786"
             ],
             [
              0.5555555555555556,
              "#d8576b"
             ],
             [
              0.6666666666666666,
              "#ed7953"
             ],
             [
              0.7777777777777778,
              "#fb9f3a"
             ],
             [
              0.8888888888888888,
              "#fdca26"
             ],
             [
              1,
              "#f0f921"
             ]
            ],
            "type": "surface"
           }
          ],
          "table": [
           {
            "cells": {
             "fill": {
              "color": "#EBF0F8"
             },
             "line": {
              "color": "white"
             }
            },
            "header": {
             "fill": {
              "color": "#C8D4E3"
             },
             "line": {
              "color": "white"
             }
            },
            "type": "table"
           }
          ]
         },
         "layout": {
          "annotationdefaults": {
           "arrowcolor": "#2a3f5f",
           "arrowhead": 0,
           "arrowwidth": 1
          },
          "coloraxis": {
           "colorbar": {
            "outlinewidth": 0,
            "ticks": ""
           }
          },
          "colorscale": {
           "diverging": [
            [
             0,
             "#8e0152"
            ],
            [
             0.1,
             "#c51b7d"
            ],
            [
             0.2,
             "#de77ae"
            ],
            [
             0.3,
             "#f1b6da"
            ],
            [
             0.4,
             "#fde0ef"
            ],
            [
             0.5,
             "#f7f7f7"
            ],
            [
             0.6,
             "#e6f5d0"
            ],
            [
             0.7,
             "#b8e186"
            ],
            [
             0.8,
             "#7fbc41"
            ],
            [
             0.9,
             "#4d9221"
            ],
            [
             1,
             "#276419"
            ]
           ],
           "sequential": [
            [
             0,
             "#0d0887"
            ],
            [
             0.1111111111111111,
             "#46039f"
            ],
            [
             0.2222222222222222,
             "#7201a8"
            ],
            [
             0.3333333333333333,
             "#9c179e"
            ],
            [
             0.4444444444444444,
             "#bd3786"
            ],
            [
             0.5555555555555556,
             "#d8576b"
            ],
            [
             0.6666666666666666,
             "#ed7953"
            ],
            [
             0.7777777777777778,
             "#fb9f3a"
            ],
            [
             0.8888888888888888,
             "#fdca26"
            ],
            [
             1,
             "#f0f921"
            ]
           ],
           "sequentialminus": [
            [
             0,
             "#0d0887"
            ],
            [
             0.1111111111111111,
             "#46039f"
            ],
            [
             0.2222222222222222,
             "#7201a8"
            ],
            [
             0.3333333333333333,
             "#9c179e"
            ],
            [
             0.4444444444444444,
             "#bd3786"
            ],
            [
             0.5555555555555556,
             "#d8576b"
            ],
            [
             0.6666666666666666,
             "#ed7953"
            ],
            [
             0.7777777777777778,
             "#fb9f3a"
            ],
            [
             0.8888888888888888,
             "#fdca26"
            ],
            [
             1,
             "#f0f921"
            ]
           ]
          },
          "colorway": [
           "#636efa",
           "#EF553B",
           "#00cc96",
           "#ab63fa",
           "#FFA15A",
           "#19d3f3",
           "#FF6692",
           "#B6E880",
           "#FF97FF",
           "#FECB52"
          ],
          "font": {
           "color": "#2a3f5f"
          },
          "geo": {
           "bgcolor": "white",
           "lakecolor": "white",
           "landcolor": "#E5ECF6",
           "showlakes": true,
           "showland": true,
           "subunitcolor": "white"
          },
          "hoverlabel": {
           "align": "left"
          },
          "hovermode": "closest",
          "mapbox": {
           "style": "light"
          },
          "paper_bgcolor": "white",
          "plot_bgcolor": "#E5ECF6",
          "polar": {
           "angularaxis": {
            "gridcolor": "white",
            "linecolor": "white",
            "ticks": ""
           },
           "bgcolor": "#E5ECF6",
           "radialaxis": {
            "gridcolor": "white",
            "linecolor": "white",
            "ticks": ""
           }
          },
          "scene": {
           "xaxis": {
            "backgroundcolor": "#E5ECF6",
            "gridcolor": "white",
            "gridwidth": 2,
            "linecolor": "white",
            "showbackground": true,
            "ticks": "",
            "zerolinecolor": "white"
           },
           "yaxis": {
            "backgroundcolor": "#E5ECF6",
            "gridcolor": "white",
            "gridwidth": 2,
            "linecolor": "white",
            "showbackground": true,
            "ticks": "",
            "zerolinecolor": "white"
           },
           "zaxis": {
            "backgroundcolor": "#E5ECF6",
            "gridcolor": "white",
            "gridwidth": 2,
            "linecolor": "white",
            "showbackground": true,
            "ticks": "",
            "zerolinecolor": "white"
           }
          },
          "shapedefaults": {
           "line": {
            "color": "#2a3f5f"
           }
          },
          "ternary": {
           "aaxis": {
            "gridcolor": "white",
            "linecolor": "white",
            "ticks": ""
           },
           "baxis": {
            "gridcolor": "white",
            "linecolor": "white",
            "ticks": ""
           },
           "bgcolor": "#E5ECF6",
           "caxis": {
            "gridcolor": "white",
            "linecolor": "white",
            "ticks": ""
           }
          },
          "title": {
           "x": 0.05
          },
          "xaxis": {
           "automargin": true,
           "gridcolor": "white",
           "linecolor": "white",
           "ticks": "",
           "title": {
            "standoff": 15
           },
           "zerolinecolor": "white",
           "zerolinewidth": 2
          },
          "yaxis": {
           "automargin": true,
           "gridcolor": "white",
           "linecolor": "white",
           "ticks": "",
           "title": {
            "standoff": 15
           },
           "zerolinecolor": "white",
           "zerolinewidth": 2
          }
         }
        },
        "width": 700
       },
       "_model_module_version": "1.5.0",
       "_py2js_animate": {},
       "_py2js_deleteTraces": {},
       "_py2js_moveTraces": {},
       "_py2js_removeLayoutProps": {},
       "_py2js_removeTraceProps": {},
       "_py2js_restyle": {},
       "_view_count": 0,
       "_view_module_version": "1.5.0"
      }
     },
     "efe6812c0918469da6b434e1c8bac17f": {
      "buffers": [
       {
        "data": "AACAPwAAAEAAAEBAAACAQAAAwH8=",
        "encoding": "base64",
        "path": [
         "_data",
         0,
         "y",
         "value"
        ]
       },
       {
        "data": "AADAfwAAgEAAAEBAAAAAQAAAgD8=",
        "encoding": "base64",
        "path": [
         "_data",
         1,
         "y",
         "value"
        ]
       },
       {
        "data": "AACAPwAAAEAAAMB/AAAAQAAAgD8=",
        "encoding": "base64",
        "path": [
         "_data",
         2,
         "y",
         "value"
        ]
       }
      ],
      "model_module": "plotlywidget",
      "model_module_version": "1.5.0",
      "model_name": "FigureModel",
      "state": {
       "_config": {
        "plotlyServerURL": "https://plot.ly"
       },
       "_data": [
        {
         "mode": "lines",
         "name": "a",
         "showlegend": true,
         "type": "scatter",
         "uid": "1c6eb6cd-5250-4c60-9780-58e117644492",
         "x": [
          "2018-01-01T00:00:00.000000",
          "2018-01-02T00:00:00.000000",
          "2018-01-03T00:00:00.000000",
          "2018-01-04T00:00:00.000000",
          "2018-01-05T00:00:00.000000"
         ],
         "y": {
          "dtype": "float32",
          "shape": [
           5
          ]
         }
        },
        {
         "mode": "lines",
         "name": "b",
         "showlegend": true,
         "type": "scatter",
         "uid": "8da87501-0c57-458a-8c93-5a52a72a5823",
         "x": [
          "2018-01-01T00:00:00.000000",
          "2018-01-02T00:00:00.000000",
          "2018-01-03T00:00:00.000000",
          "2018-01-04T00:00:00.000000",
          "2018-01-05T00:00:00.000000"
         ],
         "y": {
          "dtype": "float32",
          "shape": [
           5
          ]
         }
        },
        {
         "mode": "lines",
         "name": "c",
         "showlegend": true,
         "type": "scatter",
         "uid": "9cc88e4f-b673-48b2-ae42-70832e6c4dbe",
         "x": [
          "2018-01-01T00:00:00.000000",
          "2018-01-02T00:00:00.000000",
          "2018-01-03T00:00:00.000000",
          "2018-01-04T00:00:00.000000",
          "2018-01-05T00:00:00.000000"
         ],
         "y": {
          "dtype": "float32",
          "shape": [
           5
          ]
         }
        }
       ],
       "_js2py_layoutDelta": {},
       "_js2py_pointsCallback": {},
       "_js2py_relayout": {},
       "_js2py_restyle": {},
       "_js2py_traceDeltas": {},
       "_js2py_update": {},
       "_last_layout_edit_id": 4,
       "_last_trace_edit_id": 4,
       "_layout": {
        "autosize": false,
        "colorway": [
         "#1f77b4",
         "#ff7f0e",
         "#2ca02c",
         "#d62728",
         "#9467bd",
         "#8c564b",
         "#e377c2",
         "#7f7f7f",
         "#bcbd22",
         "#17becf"
        ],
        "height": 300,
        "hovermode": "closest",
        "margin": {
         "b": 30,
         "t": 30
        },
        "template": {
         "data": {
          "bar": [
           {
            "error_x": {
             "color": "#2a3f5f"
            },
            "error_y": {
             "color": "#2a3f5f"
            },
            "marker": {
             "line": {
              "color": "#E5ECF6",
              "width": 0.5
             }
            },
            "type": "bar"
           }
          ],
          "barpolar": [
           {
            "marker": {
             "line": {
              "color": "#E5ECF6",
              "width": 0.5
             }
            },
            "type": "barpolar"
           }
          ],
          "carpet": [
           {
            "aaxis": {
             "endlinecolor": "#2a3f5f",
             "gridcolor": "white",
             "linecolor": "white",
             "minorgridcolor": "white",
             "startlinecolor": "#2a3f5f"
            },
            "baxis": {
             "endlinecolor": "#2a3f5f",
             "gridcolor": "white",
             "linecolor": "white",
             "minorgridcolor": "white",
             "startlinecolor": "#2a3f5f"
            },
            "type": "carpet"
           }
          ],
          "choropleth": [
           {
            "colorbar": {
             "outlinewidth": 0,
             "ticks": ""
            },
            "type": "choropleth"
           }
          ],
          "contour": [
           {
            "colorbar": {
             "outlinewidth": 0,
             "ticks": ""
            },
            "colorscale": [
             [
              0,
              "#0d0887"
             ],
             [
              0.1111111111111111,
              "#46039f"
             ],
             [
              0.2222222222222222,
              "#7201a8"
             ],
             [
              0.3333333333333333,
              "#9c179e"
             ],
             [
              0.4444444444444444,
              "#bd3786"
             ],
             [
              0.5555555555555556,
              "#d8576b"
             ],
             [
              0.6666666666666666,
              "#ed7953"
             ],
             [
              0.7777777777777778,
              "#fb9f3a"
             ],
             [
              0.8888888888888888,
              "#fdca26"
             ],
             [
              1,
              "#f0f921"
             ]
            ],
            "type": "contour"
           }
          ],
          "contourcarpet": [
           {
            "colorbar": {
             "outlinewidth": 0,
             "ticks": ""
            },
            "type": "contourcarpet"
           }
          ],
          "heatmap": [
           {
            "colorbar": {
             "outlinewidth": 0,
             "ticks": ""
            },
            "colorscale": [
             [
              0,
              "#0d0887"
             ],
             [
              0.1111111111111111,
              "#46039f"
             ],
             [
              0.2222222222222222,
              "#7201a8"
             ],
             [
              0.3333333333333333,
              "#9c179e"
             ],
             [
              0.4444444444444444,
              "#bd3786"
             ],
             [
              0.5555555555555556,
              "#d8576b"
             ],
             [
              0.6666666666666666,
              "#ed7953"
             ],
             [
              0.7777777777777778,
              "#fb9f3a"
             ],
             [
              0.8888888888888888,
              "#fdca26"
             ],
             [
              1,
              "#f0f921"
             ]
            ],
            "type": "heatmap"
           }
          ],
          "heatmapgl": [
           {
            "colorbar": {
             "outlinewidth": 0,
             "ticks": ""
            },
            "colorscale": [
             [
              0,
              "#0d0887"
             ],
             [
              0.1111111111111111,
              "#46039f"
             ],
             [
              0.2222222222222222,
              "#7201a8"
             ],
             [
              0.3333333333333333,
              "#9c179e"
             ],
             [
              0.4444444444444444,
              "#bd3786"
             ],
             [
              0.5555555555555556,
              "#d8576b"
             ],
             [
              0.6666666666666666,
              "#ed7953"
             ],
             [
              0.7777777777777778,
              "#fb9f3a"
             ],
             [
              0.8888888888888888,
              "#fdca26"
             ],
             [
              1,
              "#f0f921"
             ]
            ],
            "type": "heatmapgl"
           }
          ],
          "histogram": [
           {
            "marker": {
             "colorbar": {
              "outlinewidth": 0,
              "ticks": ""
             }
            },
            "type": "histogram"
           }
          ],
          "histogram2d": [
           {
            "colorbar": {
             "outlinewidth": 0,
             "ticks": ""
            },
            "colorscale": [
             [
              0,
              "#0d0887"
             ],
             [
              0.1111111111111111,
              "#46039f"
             ],
             [
              0.2222222222222222,
              "#7201a8"
             ],
             [
              0.3333333333333333,
              "#9c179e"
             ],
             [
              0.4444444444444444,
              "#bd3786"
             ],
             [
              0.5555555555555556,
              "#d8576b"
             ],
             [
              0.6666666666666666,
              "#ed7953"
             ],
             [
              0.7777777777777778,
              "#fb9f3a"
             ],
             [
              0.8888888888888888,
              "#fdca26"
             ],
             [
              1,
              "#f0f921"
             ]
            ],
            "type": "histogram2d"
           }
          ],
          "histogram2dcontour": [
           {
            "colorbar": {
             "outlinewidth": 0,
             "ticks": ""
            },
            "colorscale": [
             [
              0,
              "#0d0887"
             ],
             [
              0.1111111111111111,
              "#46039f"
             ],
             [
              0.2222222222222222,
              "#7201a8"
             ],
             [
              0.3333333333333333,
              "#9c179e"
             ],
             [
              0.4444444444444444,
              "#bd3786"
             ],
             [
              0.5555555555555556,
              "#d8576b"
             ],
             [
              0.6666666666666666,
              "#ed7953"
             ],
             [
              0.7777777777777778,
              "#fb9f3a"
             ],
             [
              0.8888888888888888,
              "#fdca26"
             ],
             [
              1,
              "#f0f921"
             ]
            ],
            "type": "histogram2dcontour"
           }
          ],
          "mesh3d": [
           {
            "colorbar": {
             "outlinewidth": 0,
             "ticks": ""
            },
            "type": "mesh3d"
           }
          ],
          "parcoords": [
           {
            "line": {
             "colorbar": {
              "outlinewidth": 0,
              "ticks": ""
             }
            },
            "type": "parcoords"
           }
          ],
          "pie": [
           {
            "automargin": true,
            "type": "pie"
           }
          ],
          "scatter": [
           {
            "marker": {
             "colorbar": {
              "outlinewidth": 0,
              "ticks": ""
             }
            },
            "type": "scatter"
           }
          ],
          "scatter3d": [
           {
            "line": {
             "colorbar": {
              "outlinewidth": 0,
              "ticks": ""
             }
            },
            "marker": {
             "colorbar": {
              "outlinewidth": 0,
              "ticks": ""
             }
            },
            "type": "scatter3d"
           }
          ],
          "scattercarpet": [
           {
            "marker": {
             "colorbar": {
              "outlinewidth": 0,
              "ticks": ""
             }
            },
            "type": "scattercarpet"
           }
          ],
          "scattergeo": [
           {
            "marker": {
             "colorbar": {
              "outlinewidth": 0,
              "ticks": ""
             }
            },
            "type": "scattergeo"
           }
          ],
          "scattergl": [
           {
            "marker": {
             "colorbar": {
              "outlinewidth": 0,
              "ticks": ""
             }
            },
            "type": "scattergl"
           }
          ],
          "scattermapbox": [
           {
            "marker": {
             "colorbar": {
              "outlinewidth": 0,
              "ticks": ""
             }
            },
            "type": "scattermapbox"
           }
          ],
          "scatterpolar": [
           {
            "marker": {
             "colorbar": {
              "outlinewidth": 0,
              "ticks": ""
             }
            },
            "type": "scatterpolar"
           }
          ],
          "scatterpolargl": [
           {
            "marker": {
             "colorbar": {
              "outlinewidth": 0,
              "ticks": ""
             }
            },
            "type": "scatterpolargl"
           }
          ],
          "scatterternary": [
           {
            "marker": {
             "colorbar": {
              "outlinewidth": 0,
              "ticks": ""
             }
            },
            "type": "scatterternary"
           }
          ],
          "surface": [
           {
            "colorbar": {
             "outlinewidth": 0,
             "ticks": ""
            },
            "colorscale": [
             [
              0,
              "#0d0887"
             ],
             [
              0.1111111111111111,
              "#46039f"
             ],
             [
              0.2222222222222222,
              "#7201a8"
             ],
             [
              0.3333333333333333,
              "#9c179e"
             ],
             [
              0.4444444444444444,
              "#bd3786"
             ],
             [
              0.5555555555555556,
              "#d8576b"
             ],
             [
              0.6666666666666666,
              "#ed7953"
             ],
             [
              0.7777777777777778,
              "#fb9f3a"
             ],
             [
              0.8888888888888888,
              "#fdca26"
             ],
             [
              1,
              "#f0f921"
             ]
            ],
            "type": "surface"
           }
          ],
          "table": [
           {
            "cells": {
             "fill": {
              "color": "#EBF0F8"
             },
             "line": {
              "color": "white"
             }
            },
            "header": {
             "fill": {
              "color": "#C8D4E3"
             },
             "line": {
              "color": "white"
             }
            },
            "type": "table"
           }
          ]
         },
         "layout": {
          "annotationdefaults": {
           "arrowcolor": "#2a3f5f",
           "arrowhead": 0,
           "arrowwidth": 1
          },
          "coloraxis": {
           "colorbar": {
            "outlinewidth": 0,
            "ticks": ""
           }
          },
          "colorscale": {
           "diverging": [
            [
             0,
             "#8e0152"
            ],
            [
             0.1,
             "#c51b7d"
            ],
            [
             0.2,
             "#de77ae"
            ],
            [
             0.3,
             "#f1b6da"
            ],
            [
             0.4,
             "#fde0ef"
            ],
            [
             0.5,
             "#f7f7f7"
            ],
            [
             0.6,
             "#e6f5d0"
            ],
            [
             0.7,
             "#b8e186"
            ],
            [
             0.8,
             "#7fbc41"
            ],
            [
             0.9,
             "#4d9221"
            ],
            [
             1,
             "#276419"
            ]
           ],
           "sequential": [
            [
             0,
             "#0d0887"
            ],
            [
             0.1111111111111111,
             "#46039f"
            ],
            [
             0.2222222222222222,
             "#7201a8"
            ],
            [
             0.3333333333333333,
             "#9c179e"
            ],
            [
             0.4444444444444444,
             "#bd3786"
            ],
            [
             0.5555555555555556,
             "#d8576b"
            ],
            [
             0.6666666666666666,
             "#ed7953"
            ],
            [
             0.7777777777777778,
             "#fb9f3a"
            ],
            [
             0.8888888888888888,
             "#fdca26"
            ],
            [
             1,
             "#f0f921"
            ]
           ],
           "sequentialminus": [
            [
             0,
             "#0d0887"
            ],
            [
             0.1111111111111111,
             "#46039f"
            ],
            [
             0.2222222222222222,
             "#7201a8"
            ],
            [
             0.3333333333333333,
             "#9c179e"
            ],
            [
             0.4444444444444444,
             "#bd3786"
            ],
            [
             0.5555555555555556,
             "#d8576b"
            ],
            [
             0.6666666666666666,
             "#ed7953"
            ],
            [
             0.7777777777777778,
             "#fb9f3a"
            ],
            [
             0.8888888888888888,
             "#fdca26"
            ],
            [
             1,
             "#f0f921"
            ]
           ]
          },
          "colorway": [
           "#636efa",
           "#EF553B",
           "#00cc96",
           "#ab63fa",
           "#FFA15A",
           "#19d3f3",
           "#FF6692",
           "#B6E880",
           "#FF97FF",
           "#FECB52"
          ],
          "font": {
           "color": "#2a3f5f"
          },
          "geo": {
           "bgcolor": "white",
           "lakecolor": "white",
           "landcolor": "#E5ECF6",
           "showlakes": true,
           "showland": true,
           "subunitcolor": "white"
          },
          "hoverlabel": {
           "align": "left"
          },
          "hovermode": "closest",
          "mapbox": {
           "style": "light"
          },
          "paper_bgcolor": "white",
          "plot_bgcolor": "#E5ECF6",
          "polar": {
           "angularaxis": {
            "gridcolor": "white",
            "linecolor": "white",
            "ticks": ""
           },
           "bgcolor": "#E5ECF6",
           "radialaxis": {
            "gridcolor": "white",
            "linecolor": "white",
            "ticks": ""
           }
          },
          "scene": {
           "xaxis": {
            "backgroundcolor": "#E5ECF6",
            "gridcolor": "white",
            "gridwidth": 2,
            "linecolor": "white",
            "showbackground": true,
            "ticks": "",
            "zerolinecolor": "white"
           },
           "yaxis": {
            "backgroundcolor": "#E5ECF6",
            "gridcolor": "white",
            "gridwidth": 2,
            "linecolor": "white",
            "showbackground": true,
            "ticks": "",
            "zerolinecolor": "white"
           },
           "zaxis": {
            "backgroundcolor": "#E5ECF6",
            "gridcolor": "white",
            "gridwidth": 2,
            "linecolor": "white",
            "showbackground": true,
            "ticks": "",
            "zerolinecolor": "white"
           }
          },
          "shapedefaults": {
           "line": {
            "color": "#2a3f5f"
           }
          },
          "ternary": {
           "aaxis": {
            "gridcolor": "white",
            "linecolor": "white",
            "ticks": ""
           },
           "baxis": {
            "gridcolor": "white",
            "linecolor": "white",
            "ticks": ""
           },
           "bgcolor": "#E5ECF6",
           "caxis": {
            "gridcolor": "white",
            "linecolor": "white",
            "ticks": ""
           }
          },
          "title": {
           "x": 0.05
          },
          "xaxis": {
           "automargin": true,
           "gridcolor": "white",
           "linecolor": "white",
           "ticks": "",
           "title": {
            "standoff": 15
           },
           "zerolinecolor": "white",
           "zerolinewidth": 2
          },
          "yaxis": {
           "automargin": true,
           "gridcolor": "white",
           "linecolor": "white",
           "ticks": "",
           "title": {
            "standoff": 15
           },
           "zerolinecolor": "white",
           "zerolinewidth": 2
          }
         }
        },
        "width": 700
       },
       "_model_module_version": "1.5.0",
       "_py2js_animate": {},
       "_py2js_deleteTraces": {},
       "_py2js_moveTraces": {},
       "_py2js_removeLayoutProps": {},
       "_py2js_removeTraceProps": {},
       "_py2js_restyle": {},
       "_view_count": 0,
       "_view_module_version": "1.5.0"
      }
     }
    },
    "version_major": 2,
    "version_minor": 0
   }
  }
 },
 "nbformat": 4,
 "nbformat_minor": 4
}
