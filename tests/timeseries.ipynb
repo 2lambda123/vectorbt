{
 "cells": [
  {
   "cell_type": "markdown",
   "metadata": {},
   "source": [
    "# timeseries"
   ]
  },
  {
   "cell_type": "code",
   "execution_count": 1,
   "metadata": {},
   "outputs": [],
   "source": [
    "import vectorbt as vbt"
   ]
  },
  {
   "cell_type": "code",
   "execution_count": 2,
   "metadata": {
    "Collapsed": "false"
   },
   "outputs": [],
   "source": [
    "import numpy as np\n",
    "import pandas as pd\n",
    "from datetime import datetime, timedelta\n",
    "from numba import njit, f8, i8, b1, optional"
   ]
  },
  {
   "cell_type": "code",
   "execution_count": 3,
   "metadata": {},
   "outputs": [
    {
     "name": "stdout",
     "output_type": "stream",
     "text": [
      "              a    b    c\n",
      "2018-01-01  1.0  NaN  1.0\n",
      "2018-01-02  2.0  4.0  2.0\n",
      "2018-01-03  3.0  3.0  NaN\n",
      "2018-01-04  4.0  2.0  2.0\n",
      "2018-01-05  NaN  1.0  1.0\n"
     ]
    }
   ],
   "source": [
    "index = pd.DatetimeIndex([\n",
    "    datetime(2018, 1, 1),\n",
    "    datetime(2018, 1, 2),\n",
    "    datetime(2018, 1, 3),\n",
    "    datetime(2018, 1, 4),\n",
    "    datetime(2018, 1, 5)\n",
    "], freq='D')\n",
    "columns = ['a', 'b', 'c']\n",
    "ts = pd.DataFrame({\n",
    "    'a': [1, 2, 3, 4, np.nan], \n",
    "    'b': [np.nan, 4, 3, 2, 1],\n",
    "    'c': [1, 2, np.nan, 2, 1]}, index=index).astype(np.float32)\n",
    "\n",
    "print(ts)"
   ]
  },
  {
   "cell_type": "code",
   "execution_count": 4,
   "metadata": {},
   "outputs": [
    {
     "data": {
      "text/plain": [
       "(1000, 1000)"
      ]
     },
     "execution_count": 4,
     "metadata": {},
     "output_type": "execute_result"
    }
   ],
   "source": [
    "big_ts = pd.DataFrame(np.random.randint(10, size=(1000, 1000)).astype(float))\n",
    "big_ts.index = [datetime(2018, 1, 1) + timedelta(days=i) for i in range(1000)]\n",
    "big_ts.shape"
   ]
  },
  {
   "cell_type": "code",
   "execution_count": 5,
   "metadata": {
    "Collapsed": "false"
   },
   "outputs": [
    {
     "name": "stdout",
     "output_type": "stream",
     "text": [
      "              a    b    c\n",
      "2018-01-01  1.0 -1.0  1.0\n",
      "2018-01-02  2.0  4.0  2.0\n",
      "2018-01-03  3.0  3.0 -1.0\n",
      "2018-01-04  4.0  2.0  2.0\n",
      "2018-01-05 -1.0  1.0  1.0\n",
      "6.48 ms ± 756 µs per loop (mean ± std. dev. of 7 runs, 100 loops each)\n",
      "              a    b    c\n",
      "2018-01-01  1.0 -1.0  1.0\n",
      "2018-01-02  2.0  4.0  2.0\n",
      "2018-01-03  3.0  3.0 -1.0\n",
      "2018-01-04  4.0  2.0  2.0\n",
      "2018-01-05 -1.0  1.0  1.0\n",
      "4.54 ms ± 332 µs per loop (mean ± std. dev. of 7 runs, 1 loop each)\n"
     ]
    }
   ],
   "source": [
    "print(ts.fillna(-1))\n",
    "%timeit big_ts.fillna(-1)\n",
    "\n",
    "print(ts.vbt.timeseries.fillna(-1))\n",
    "%timeit big_ts.vbt.timeseries.fillna(-1)"
   ]
  },
  {
   "cell_type": "code",
   "execution_count": 6,
   "metadata": {
    "Collapsed": "false"
   },
   "outputs": [
    {
     "name": "stdout",
     "output_type": "stream",
     "text": [
      "              a    b    c\n",
      "2018-01-01  NaN  NaN  NaN\n",
      "2018-01-02  NaN  NaN  NaN\n",
      "2018-01-03  NaN  NaN  NaN\n",
      "2018-01-04  1.0  NaN  1.0\n",
      "2018-01-05  2.0  4.0  2.0\n",
      "2.69 ms ± 142 µs per loop (mean ± std. dev. of 7 runs, 100 loops each)\n",
      "              a    b    c\n",
      "2018-01-01  NaN  NaN  NaN\n",
      "2018-01-02  NaN  NaN  NaN\n",
      "2018-01-03  NaN  NaN  NaN\n",
      "2018-01-04  1.0  NaN  1.0\n",
      "2018-01-05  2.0  4.0  2.0\n",
      "3.12 ms ± 687 µs per loop (mean ± std. dev. of 7 runs, 1 loop each)\n"
     ]
    }
   ],
   "source": [
    "print(ts.shift(3))\n",
    "%timeit big_ts.shift(3)\n",
    "\n",
    "print(ts.vbt.timeseries.fshift(3))\n",
    "%timeit big_ts.vbt.timeseries.fshift(3)"
   ]
  },
  {
   "cell_type": "code",
   "execution_count": 7,
   "metadata": {},
   "outputs": [
    {
     "name": "stdout",
     "output_type": "stream",
     "text": [
      "              a    b    c\n",
      "2018-01-01  NaN  NaN  NaN\n",
      "2018-01-02  1.0  NaN  1.0\n",
      "2018-01-03  1.0 -1.0  NaN\n",
      "2018-01-04  1.0 -1.0  NaN\n",
      "2018-01-05  NaN -1.0 -1.0\n",
      "5.59 ms ± 426 µs per loop (mean ± std. dev. of 7 runs, 100 loops each)\n",
      "              a    b    c\n",
      "2018-01-01  NaN  NaN  NaN\n",
      "2018-01-02  1.0  NaN  1.0\n",
      "2018-01-03  1.0 -1.0  NaN\n",
      "2018-01-04  1.0 -1.0  NaN\n",
      "2018-01-05  NaN -1.0 -1.0\n",
      "4.88 ms ± 119 µs per loop (mean ± std. dev. of 7 runs, 1 loop each)\n"
     ]
    }
   ],
   "source": [
    "print(ts.diff())\n",
    "%timeit big_ts.diff()\n",
    "\n",
    "print(ts.vbt.timeseries.diff())\n",
    "%timeit big_ts.vbt.timeseries.diff()"
   ]
  },
  {
   "cell_type": "code",
   "execution_count": 8,
   "metadata": {
    "Collapsed": "false"
   },
   "outputs": [
    {
     "name": "stdout",
     "output_type": "stream",
     "text": [
      "                   a         b    c\n",
      "2018-01-01       NaN       NaN  NaN\n",
      "2018-01-02  1.000000       NaN  1.0\n",
      "2018-01-03  0.500000 -0.250000  0.0\n",
      "2018-01-04  0.333333 -0.333333  0.0\n",
      "2018-01-05  0.000000 -0.500000 -0.5\n",
      "295 ms ± 10.1 ms per loop (mean ± std. dev. of 7 runs, 1 loop each)\n",
      "                   a         b    c\n",
      "2018-01-01       NaN       NaN  NaN\n",
      "2018-01-02  1.000000       NaN  1.0\n",
      "2018-01-03  0.500000 -0.250000  NaN\n",
      "2018-01-04  0.333333 -0.333333  NaN\n",
      "2018-01-05       NaN -0.500000 -0.5\n",
      "6.81 ms ± 1.29 ms per loop (mean ± std. dev. of 7 runs, 1 loop each)\n"
     ]
    }
   ],
   "source": [
    "print(ts.pct_change())\n",
    "%timeit big_ts.pct_change()\n",
    "\n",
    "print(ts.vbt.timeseries.pct_change())\n",
    "%timeit big_ts.vbt.timeseries.pct_change()"
   ]
  },
  {
   "cell_type": "code",
   "execution_count": 9,
   "metadata": {
    "Collapsed": "false"
   },
   "outputs": [
    {
     "name": "stdout",
     "output_type": "stream",
     "text": [
      "              a    b    c\n",
      "2018-01-01  1.0  NaN  1.0\n",
      "2018-01-02  2.0  4.0  2.0\n",
      "2018-01-03  3.0  3.0  2.0\n",
      "2018-01-04  4.0  2.0  2.0\n",
      "2018-01-05  4.0  1.0  1.0\n",
      "7.23 ms ± 365 µs per loop (mean ± std. dev. of 7 runs, 100 loops each)\n",
      "              a    b    c\n",
      "2018-01-01  1.0  NaN  1.0\n",
      "2018-01-02  2.0  4.0  2.0\n",
      "2018-01-03  3.0  3.0  2.0\n",
      "2018-01-04  4.0  2.0  2.0\n",
      "2018-01-05  4.0  1.0  1.0\n",
      "9 ms ± 895 µs per loop (mean ± std. dev. of 7 runs, 1 loop each)\n"
     ]
    }
   ],
   "source": [
    "print(ts.ffill())\n",
    "%timeit big_ts.ffill()\n",
    "\n",
    "print(ts.vbt.timeseries.ffill())\n",
    "%timeit big_ts.vbt.timeseries.ffill()"
   ]
  },
  {
   "cell_type": "code",
   "execution_count": 10,
   "metadata": {},
   "outputs": [
    {
     "data": {
      "text/html": [
       "<div>\n",
       "<style scoped>\n",
       "    .dataframe tbody tr th:only-of-type {\n",
       "        vertical-align: middle;\n",
       "    }\n",
       "\n",
       "    .dataframe tbody tr th {\n",
       "        vertical-align: top;\n",
       "    }\n",
       "\n",
       "    .dataframe thead th {\n",
       "        text-align: right;\n",
       "    }\n",
       "</style>\n",
       "<table border=\"1\" class=\"dataframe\">\n",
       "  <thead>\n",
       "    <tr style=\"text-align: right;\">\n",
       "      <th></th>\n",
       "      <th>a</th>\n",
       "      <th>b</th>\n",
       "      <th>c</th>\n",
       "    </tr>\n",
       "  </thead>\n",
       "  <tbody>\n",
       "    <tr>\n",
       "      <th>2018-01-01</th>\n",
       "      <td>1.0</td>\n",
       "      <td>NaN</td>\n",
       "      <td>1.0</td>\n",
       "    </tr>\n",
       "    <tr>\n",
       "      <th>2018-01-02</th>\n",
       "      <td>2.0</td>\n",
       "      <td>4.0</td>\n",
       "      <td>2.0</td>\n",
       "    </tr>\n",
       "    <tr>\n",
       "      <th>2018-01-03</th>\n",
       "      <td>3.0</td>\n",
       "      <td>3.0</td>\n",
       "      <td>NaN</td>\n",
       "    </tr>\n",
       "    <tr>\n",
       "      <th>2018-01-04</th>\n",
       "      <td>4.0</td>\n",
       "      <td>2.0</td>\n",
       "      <td>2.0</td>\n",
       "    </tr>\n",
       "    <tr>\n",
       "      <th>2018-01-05</th>\n",
       "      <td>NaN</td>\n",
       "      <td>1.0</td>\n",
       "      <td>1.0</td>\n",
       "    </tr>\n",
       "  </tbody>\n",
       "</table>\n",
       "</div>"
      ],
      "text/plain": [
       "              a    b    c\n",
       "2018-01-01  1.0  NaN  1.0\n",
       "2018-01-02  2.0  4.0  2.0\n",
       "2018-01-03  3.0  3.0  NaN\n",
       "2018-01-04  4.0  2.0  2.0\n",
       "2018-01-05  NaN  1.0  1.0"
      ]
     },
     "execution_count": 10,
     "metadata": {},
     "output_type": "execute_result"
    }
   ],
   "source": [
    "ts"
   ]
  },
  {
   "cell_type": "code",
   "execution_count": 11,
   "metadata": {},
   "outputs": [
    {
     "name": "stdout",
     "output_type": "stream",
     "text": [
      "               a     b    c\n",
      "2018-01-01   1.0   NaN  1.0\n",
      "2018-01-02   3.0   4.0  3.0\n",
      "2018-01-03   6.0   7.0  NaN\n",
      "2018-01-04  10.0   9.0  5.0\n",
      "2018-01-05   NaN  10.0  6.0\n",
      "12.9 ms ± 1.66 ms per loop (mean ± std. dev. of 7 runs, 100 loops each)\n",
      "               a     b    c\n",
      "2018-01-01   1.0   NaN  1.0\n",
      "2018-01-02   3.0   4.0  3.0\n",
      "2018-01-03   6.0   7.0  NaN\n",
      "2018-01-04  10.0   9.0  5.0\n",
      "2018-01-05   NaN  10.0  6.0\n",
      "8.89 ms ± 513 µs per loop (mean ± std. dev. of 7 runs, 1 loop each)\n"
     ]
    }
   ],
   "source": [
    "print(ts.cumsum())\n",
    "%timeit big_ts.cumsum()\n",
    "\n",
    "print(ts.vbt.timeseries.cumsum())\n",
    "%timeit big_ts.vbt.timeseries.cumsum()"
   ]
  },
  {
   "cell_type": "code",
   "execution_count": 12,
   "metadata": {},
   "outputs": [
    {
     "name": "stdout",
     "output_type": "stream",
     "text": [
      "               a     b    c\n",
      "2018-01-01   1.0   NaN  1.0\n",
      "2018-01-02   2.0   4.0  2.0\n",
      "2018-01-03   6.0  12.0  NaN\n",
      "2018-01-04  24.0  24.0  4.0\n",
      "2018-01-05   NaN  24.0  4.0\n",
      "16.9 ms ± 4.64 ms per loop (mean ± std. dev. of 7 runs, 100 loops each)\n",
      "               a     b    c\n",
      "2018-01-01   1.0   NaN  1.0\n",
      "2018-01-02   2.0   4.0  2.0\n",
      "2018-01-03   6.0  12.0  NaN\n",
      "2018-01-04  24.0  24.0  4.0\n",
      "2018-01-05   NaN  24.0  4.0\n",
      "9.62 ms ± 380 µs per loop (mean ± std. dev. of 7 runs, 1 loop each)\n"
     ]
    }
   ],
   "source": [
    "print(ts.cumprod())\n",
    "%timeit big_ts.cumprod()\n",
    "\n",
    "print(ts.vbt.timeseries.cumprod())\n",
    "%timeit big_ts.vbt.timeseries.cumprod()"
   ]
  },
  {
   "cell_type": "code",
   "execution_count": 13,
   "metadata": {},
   "outputs": [
    {
     "name": "stdout",
     "output_type": "stream",
     "text": [
      "              a    b    c\n",
      "2018-01-01  NaN  NaN  NaN\n",
      "2018-01-02  1.0  NaN  1.0\n",
      "2018-01-03  2.0  3.0  NaN\n",
      "2018-01-04  3.0  2.0  NaN\n",
      "2018-01-05  NaN  1.0  1.0\n",
      "61.4 ms ± 22.1 ms per loop (mean ± std. dev. of 7 runs, 10 loops each)\n",
      "              a    b    c\n",
      "2018-01-01  NaN  NaN  NaN\n",
      "2018-01-02  1.0  NaN  1.0\n",
      "2018-01-03  2.0  3.0  NaN\n",
      "2018-01-04  3.0  2.0  NaN\n",
      "2018-01-05  NaN  1.0  1.0\n",
      "15.6 ms ± 913 µs per loop (mean ± std. dev. of 7 runs, 1 loop each)\n"
     ]
    }
   ],
   "source": [
    "print(ts.rolling(2).min())\n",
    "%timeit big_ts.rolling(2).min()\n",
    "\n",
    "print(ts.vbt.timeseries.rolling_min(2))\n",
    "%timeit big_ts.vbt.timeseries.rolling_min(2)"
   ]
  },
  {
   "cell_type": "code",
   "execution_count": 14,
   "metadata": {},
   "outputs": [
    {
     "name": "stdout",
     "output_type": "stream",
     "text": [
      "              a    b    c\n",
      "2018-01-01  NaN  NaN  NaN\n",
      "2018-01-02  2.0  NaN  2.0\n",
      "2018-01-03  3.0  4.0  NaN\n",
      "2018-01-04  4.0  3.0  NaN\n",
      "2018-01-05  NaN  2.0  2.0\n",
      "50.1 ms ± 1.18 ms per loop (mean ± std. dev. of 7 runs, 10 loops each)\n",
      "              a    b    c\n",
      "2018-01-01  NaN  NaN  NaN\n",
      "2018-01-02  2.0  NaN  2.0\n",
      "2018-01-03  3.0  4.0  NaN\n",
      "2018-01-04  4.0  3.0  NaN\n",
      "2018-01-05  NaN  2.0  2.0\n",
      "15.5 ms ± 350 µs per loop (mean ± std. dev. of 7 runs, 1 loop each)\n"
     ]
    }
   ],
   "source": [
    "print(ts.rolling(2).max())\n",
    "%timeit big_ts.rolling(2).max()\n",
    "\n",
    "print(ts.vbt.timeseries.rolling_max(2))\n",
    "%timeit big_ts.vbt.timeseries.rolling_max(2)"
   ]
  },
  {
   "cell_type": "code",
   "execution_count": 15,
   "metadata": {
    "Collapsed": "false"
   },
   "outputs": [
    {
     "name": "stdout",
     "output_type": "stream",
     "text": [
      "              a    b    c\n",
      "2018-01-01  NaN  NaN  NaN\n",
      "2018-01-02  1.5  NaN  1.5\n",
      "2018-01-03  2.5  3.5  NaN\n",
      "2018-01-04  3.5  2.5  NaN\n",
      "2018-01-05  NaN  1.5  1.5\n",
      "34.6 ms ± 513 µs per loop (mean ± std. dev. of 7 runs, 10 loops each)\n",
      "              a    b    c\n",
      "2018-01-01  NaN  NaN  NaN\n",
      "2018-01-02  1.5  NaN  1.5\n",
      "2018-01-03  2.5  3.5  NaN\n",
      "2018-01-04  3.5  2.5  NaN\n",
      "2018-01-05  NaN  1.5  1.5\n",
      "16 ms ± 1.36 ms per loop (mean ± std. dev. of 7 runs, 1 loop each)\n"
     ]
    }
   ],
   "source": [
    "print(ts.rolling(2).mean())\n",
    "%timeit big_ts.rolling(2).mean()\n",
    "\n",
    "print(ts.vbt.timeseries.rolling_mean(2))\n",
    "%timeit big_ts.vbt.timeseries.rolling_mean(2)"
   ]
  },
  {
   "cell_type": "code",
   "execution_count": 16,
   "metadata": {},
   "outputs": [
    {
     "name": "stdout",
     "output_type": "stream",
     "text": [
      "                   a         b         c\n",
      "2018-01-01       NaN       NaN       NaN\n",
      "2018-01-02  0.707107       NaN  0.707107\n",
      "2018-01-03  0.707107  0.707107       NaN\n",
      "2018-01-04  0.707107  0.707107       NaN\n",
      "2018-01-05       NaN  0.707107  0.707107\n",
      "64.9 ms ± 1.46 ms per loop (mean ± std. dev. of 7 runs, 10 loops each)\n",
      "                   a         b         c\n",
      "2018-01-01       NaN       NaN       NaN\n",
      "2018-01-02  0.707107       NaN  0.707107\n",
      "2018-01-03  0.707107  0.707107       NaN\n",
      "2018-01-04  0.707107  0.707107       NaN\n",
      "2018-01-05       NaN  0.707107  0.707107\n",
      "18.5 ms ± 1.17 ms per loop (mean ± std. dev. of 7 runs, 1 loop each)\n"
     ]
    }
   ],
   "source": [
    "print(ts.rolling(2).std())\n",
    "%timeit big_ts.rolling(2).std()\n",
    "\n",
    "print(ts.vbt.timeseries.rolling_std(2))\n",
    "%timeit big_ts.vbt.timeseries.rolling_std(2)"
   ]
  },
  {
   "cell_type": "code",
   "execution_count": 17,
   "metadata": {
    "Collapsed": "false"
   },
   "outputs": [
    {
     "name": "stdout",
     "output_type": "stream",
     "text": [
      "                   a         b         c\n",
      "2018-01-01       NaN       NaN       NaN\n",
      "2018-01-02  1.750000       NaN  1.750000\n",
      "2018-01-03  2.615385  3.250000  1.750000\n",
      "2018-01-04  3.550000  2.384615  1.967742\n",
      "2018-01-05  3.550000  1.450000  1.267857\n",
      "106 ms ± 4.18 ms per loop (mean ± std. dev. of 7 runs, 10 loops each)\n",
      "                   a         b         c\n",
      "2018-01-01       NaN       NaN       NaN\n",
      "2018-01-02  1.750000       NaN  1.750000\n",
      "2018-01-03  2.615385  3.250000  1.750000\n",
      "2018-01-04  3.550000  2.384615  1.967742\n",
      "2018-01-05  3.550000  1.450000  1.267857\n",
      "14.9 ms ± 649 µs per loop (mean ± std. dev. of 7 runs, 1 loop each)\n"
     ]
    }
   ],
   "source": [
    "print(ts.ewm(span=2, min_periods=2).mean())\n",
    "%timeit big_ts.ewm(span=2, min_periods=2).mean()\n",
    "\n",
    "print(ts.vbt.timeseries.ewm_mean(2))\n",
    "%timeit big_ts.vbt.timeseries.ewm_mean(2)"
   ]
  },
  {
   "cell_type": "code",
   "execution_count": 18,
   "metadata": {},
   "outputs": [
    {
     "name": "stdout",
     "output_type": "stream",
     "text": [
      "                   a         b         c\n",
      "2018-01-01       NaN       NaN       NaN\n",
      "2018-01-02  0.707107       NaN  0.707107\n",
      "2018-01-03  0.919866  0.707107  0.707107\n",
      "2018-01-04  1.059753  0.919866  0.367607\n",
      "2018-01-05  1.059753  1.059753  0.684914\n",
      "554 ms ± 22.3 ms per loop (mean ± std. dev. of 7 runs, 1 loop each)\n",
      "                   a         b         c\n",
      "2018-01-01       NaN       NaN       NaN\n",
      "2018-01-02  0.707107       NaN  0.707107\n",
      "2018-01-03  0.919866  0.707107  0.707107\n",
      "2018-01-04  1.059753  0.919866  0.367607\n",
      "2018-01-05  1.059753  1.059753  0.684914\n",
      "25.8 ms ± 1.26 ms per loop (mean ± std. dev. of 7 runs, 1 loop each)\n"
     ]
    }
   ],
   "source": [
    "print(ts.ewm(span=2, min_periods=2).std())\n",
    "%timeit big_ts.ewm(span=2, min_periods=2).std()\n",
    "\n",
    "print(ts.vbt.timeseries.ewm_std(2))\n",
    "%timeit big_ts.vbt.timeseries.ewm_std(2)"
   ]
  },
  {
   "cell_type": "code",
   "execution_count": 19,
   "metadata": {},
   "outputs": [
    {
     "name": "stdout",
     "output_type": "stream",
     "text": [
      "              a    b    c\n",
      "2018-01-01  1.0  NaN  1.0\n",
      "2018-01-02  1.0  4.0  1.0\n",
      "2018-01-03  1.0  3.0  1.0\n",
      "2018-01-04  1.0  2.0  1.0\n",
      "2018-01-05  1.0  1.0  1.0\n",
      "65.3 ms ± 15.1 ms per loop (mean ± std. dev. of 7 runs, 10 loops each)\n",
      "              a    b    c\n",
      "2018-01-01  1.0  NaN  1.0\n",
      "2018-01-02  1.0  4.0  1.0\n",
      "2018-01-03  1.0  3.0  1.0\n",
      "2018-01-04  1.0  2.0  1.0\n",
      "2018-01-05  1.0  1.0  1.0\n",
      "14.1 ms ± 1.52 ms per loop (mean ± std. dev. of 7 runs, 1 loop each)\n"
     ]
    }
   ],
   "source": [
    "print(ts.expanding().min())\n",
    "%timeit big_ts.expanding().min()\n",
    "\n",
    "print(ts.vbt.timeseries.expanding_min())\n",
    "%timeit big_ts.vbt.timeseries.expanding_min()"
   ]
  },
  {
   "cell_type": "code",
   "execution_count": 20,
   "metadata": {},
   "outputs": [
    {
     "name": "stdout",
     "output_type": "stream",
     "text": [
      "              a    b    c\n",
      "2018-01-01  1.0  NaN  1.0\n",
      "2018-01-02  2.0  4.0  2.0\n",
      "2018-01-03  3.0  4.0  2.0\n",
      "2018-01-04  4.0  4.0  2.0\n",
      "2018-01-05  4.0  4.0  2.0\n",
      "98 ms ± 20.2 ms per loop (mean ± std. dev. of 7 runs, 10 loops each)\n",
      "              a    b    c\n",
      "2018-01-01  1.0  NaN  1.0\n",
      "2018-01-02  2.0  4.0  2.0\n",
      "2018-01-03  3.0  4.0  2.0\n",
      "2018-01-04  4.0  4.0  2.0\n",
      "2018-01-05  4.0  4.0  2.0\n",
      "8.92 ms ± 132 µs per loop (mean ± std. dev. of 7 runs, 1 loop each)\n"
     ]
    }
   ],
   "source": [
    "print(ts.expanding().max())\n",
    "%timeit big_ts.expanding().max()\n",
    "\n",
    "print(ts.vbt.timeseries.expanding_max())\n",
    "%timeit big_ts.vbt.timeseries.expanding_max()"
   ]
  },
  {
   "cell_type": "code",
   "execution_count": 21,
   "metadata": {},
   "outputs": [
    {
     "name": "stdout",
     "output_type": "stream",
     "text": [
      "              a    b         c\n",
      "2018-01-01  1.0  NaN  1.000000\n",
      "2018-01-02  1.5  4.0  1.500000\n",
      "2018-01-03  2.0  3.5  1.500000\n",
      "2018-01-04  2.5  3.0  1.666667\n",
      "2018-01-05  2.5  2.5  1.500000\n",
      "36.5 ms ± 2.87 ms per loop (mean ± std. dev. of 7 runs, 10 loops each)\n",
      "              a    b         c\n",
      "2018-01-01  1.0  NaN  1.000000\n",
      "2018-01-02  1.5  4.0  1.500000\n",
      "2018-01-03  2.0  3.5  1.500000\n",
      "2018-01-04  2.5  3.0  1.666667\n",
      "2018-01-05  2.5  2.5  1.500000\n",
      "18.4 ms ± 3.7 ms per loop (mean ± std. dev. of 7 runs, 1 loop each)\n"
     ]
    }
   ],
   "source": [
    "print(ts.expanding().mean())\n",
    "%timeit big_ts.expanding().mean()\n",
    "\n",
    "print(ts.vbt.timeseries.expanding_mean())\n",
    "%timeit big_ts.vbt.timeseries.expanding_mean()"
   ]
  },
  {
   "cell_type": "code",
   "execution_count": 22,
   "metadata": {},
   "outputs": [
    {
     "name": "stdout",
     "output_type": "stream",
     "text": [
      "                   a         b         c\n",
      "2018-01-01       NaN       NaN       NaN\n",
      "2018-01-02  0.707107       NaN  0.707107\n",
      "2018-01-03  1.000000  0.707107  0.707107\n",
      "2018-01-04  1.290994  1.000000  0.577350\n",
      "2018-01-05  1.290994  1.290994  0.577350\n",
      "69.4 ms ± 2.05 ms per loop (mean ± std. dev. of 7 runs, 10 loops each)\n",
      "                   a         b         c\n",
      "2018-01-01       NaN       NaN       NaN\n",
      "2018-01-02  0.707107       NaN  0.707107\n",
      "2018-01-03  1.000000  0.707107  0.707107\n",
      "2018-01-04  1.290994  1.000000  0.577350\n",
      "2018-01-05  1.290994  1.290994  0.577350\n",
      "18.2 ms ± 1.47 ms per loop (mean ± std. dev. of 7 runs, 1 loop each)\n"
     ]
    }
   ],
   "source": [
    "print(ts.expanding().std())\n",
    "%timeit big_ts.expanding().std()\n",
    "\n",
    "print(ts.vbt.timeseries.expanding_std())\n",
    "%timeit big_ts.vbt.timeseries.expanding_std()"
   ]
  },
  {
   "cell_type": "code",
   "execution_count": 23,
   "metadata": {},
   "outputs": [],
   "source": [
    "pd_nanmean_nb = njit(lambda x: np.nanmean(x))\n",
    "nanmean_nb = njit(lambda col, i, x: np.nanmean(x))\n",
    "nanmean_matrix_nb = njit(lambda i, x: np.nanmean(x))"
   ]
  },
  {
   "cell_type": "code",
   "execution_count": 24,
   "metadata": {},
   "outputs": [
    {
     "name": "stdout",
     "output_type": "stream",
     "text": [
      "              a    b    c\n",
      "2018-01-01  1.0  NaN  1.0\n",
      "2018-01-02  1.5  4.0  1.5\n",
      "2018-01-03  2.5  3.5  2.0\n",
      "2018-01-04  3.5  2.5  2.0\n",
      "2018-01-05  4.0  1.5  1.5\n",
      "471 ms ± 39.1 ms per loop (mean ± std. dev. of 7 runs, 1 loop each)\n",
      "              a    b    c\n",
      "2018-01-01  1.0  NaN  1.0\n",
      "2018-01-02  1.5  4.0  1.5\n",
      "2018-01-03  2.5  3.5  2.0\n",
      "2018-01-04  3.5  2.5  2.0\n",
      "2018-01-05  4.0  1.5  1.5\n",
      "69.8 ms ± 2.65 ms per loop (mean ± std. dev. of 7 runs, 1 loop each)\n",
      "                   a         b         c\n",
      "2018-01-01  1.000000  1.000000  1.000000\n",
      "2018-01-02  2.000000  2.000000  2.000000\n",
      "2018-01-03  2.285714  2.285714  2.285714\n",
      "2018-01-04  2.750000  2.750000  2.750000\n",
      "2018-01-05  2.285714  2.285714  2.285714\n",
      "7.59 ms ± 119 µs per loop (mean ± std. dev. of 7 runs, 1 loop each)\n"
     ]
    }
   ],
   "source": [
    "print(ts.rolling(2, min_periods=1).apply(pd_nanmean_nb, raw=True))\n",
    "%timeit big_ts.rolling(2, min_periods=1).apply(pd_nanmean_nb, raw=True)\n",
    "\n",
    "print(ts.vbt.timeseries.rolling_apply(2, nanmean_nb))\n",
    "%timeit big_ts.vbt.timeseries.rolling_apply(2, nanmean_nb)\n",
    "\n",
    "print(ts.vbt.timeseries.rolling_apply(3, nanmean_matrix_nb, on_matrix=True))\n",
    "%timeit big_ts.vbt.timeseries.rolling_apply(3, nanmean_matrix_nb, on_matrix=True)"
   ]
  },
  {
   "cell_type": "code",
   "execution_count": 25,
   "metadata": {},
   "outputs": [
    {
     "name": "stdout",
     "output_type": "stream",
     "text": [
      "              a    b         c\n",
      "2018-01-01  1.0  NaN  1.000000\n",
      "2018-01-02  1.5  4.0  1.500000\n",
      "2018-01-03  2.0  3.5  1.500000\n",
      "2018-01-04  2.5  3.0  1.666667\n",
      "2018-01-05  2.5  2.5  1.500000\n",
      "1.58 s ± 39.9 ms per loop (mean ± std. dev. of 7 runs, 1 loop each)\n",
      "              a    b         c\n",
      "2018-01-01  1.0  NaN  1.000000\n",
      "2018-01-02  1.5  4.0  1.500000\n",
      "2018-01-03  2.0  3.5  1.500000\n",
      "2018-01-04  2.5  3.0  1.666667\n",
      "2018-01-05  2.5  2.5  1.500000\n",
      "944 ms ± 8.25 ms per loop (mean ± std. dev. of 7 runs, 1 loop each)\n",
      "                   a         b         c\n",
      "2018-01-01  1.000000  1.000000  1.000000\n",
      "2018-01-02  2.000000  2.000000  2.000000\n",
      "2018-01-03  2.285714  2.285714  2.285714\n",
      "2018-01-04  2.400000  2.400000  2.400000\n",
      "2018-01-05  2.166667  2.166667  2.166667\n",
      "930 ms ± 25.2 ms per loop (mean ± std. dev. of 7 runs, 1 loop each)\n"
     ]
    }
   ],
   "source": [
    "print(ts.expanding(min_periods=1).apply(pd_nanmean_nb, raw=True))\n",
    "%timeit big_ts.expanding(min_periods=1).apply(pd_nanmean_nb, raw=True)\n",
    "\n",
    "print(ts.vbt.timeseries.expanding_apply(nanmean_nb))\n",
    "%timeit big_ts.vbt.timeseries.expanding_apply(nanmean_nb)\n",
    "\n",
    "print(ts.vbt.timeseries.expanding_apply(nanmean_matrix_nb, on_matrix=True))\n",
    "%timeit big_ts.vbt.timeseries.expanding_apply(nanmean_matrix_nb, on_matrix=True)"
   ]
  },
  {
   "cell_type": "code",
   "execution_count": 26,
   "metadata": {},
   "outputs": [
    {
     "name": "stdout",
     "output_type": "stream",
     "text": [
      "1    1.5\n",
      "2    3.5\n",
      "3    NaN\n",
      "Name: a, dtype: float64\n",
      "4.31 ms ± 115 µs per loop (mean ± std. dev. of 7 runs, 100 loops each)\n",
      "1    1.5\n",
      "2    3.5\n",
      "3    NaN\n",
      "Name: a, dtype: float64\n",
      "3.2 ms ± 232 µs per loop (mean ± std. dev. of 7 runs, 1 loop each)\n",
      "     a    b    c\n",
      "1  1.5  4.0  1.5\n",
      "2  3.5  2.5  2.0\n",
      "3  NaN  1.0  1.0\n",
      "     a    b    c\n",
      "1  1.5  4.0  1.5\n",
      "2  3.5  2.5  2.0\n",
      "3  NaN  1.0  1.0\n",
      "11 ms ± 764 µs per loop (mean ± std. dev. of 7 runs, 1 loop each)\n",
      "     a    b    c\n",
      "1  2.0  2.0  2.0\n",
      "2  2.8  2.8  2.8\n",
      "3  1.0  1.0  1.0\n",
      "6.71 ms ± 343 µs per loop (mean ± std. dev. of 7 runs, 1 loop each)\n"
     ]
    }
   ],
   "source": [
    "print(ts['a'].groupby(np.asarray([1, 1, 2, 2, 3])).apply(lambda x: pd_nanmean_nb(x.values)))\n",
    "%timeit big_ts.iloc[:, 0].groupby(np.random.randint(10, size=1000)).apply(lambda x: pd_nanmean_nb(x.values))\n",
    "\n",
    "print(ts['a'].vbt.timeseries.groupby_apply(np.asarray([1, 1, 2, 2, 3]), nanmean_nb))\n",
    "%timeit big_ts.iloc[:, 0].vbt.timeseries.groupby_apply(np.random.randint(10, size=1000), nanmean_nb)\n",
    "\n",
    "print(ts.groupby(np.asarray([1, 1, 2, 2, 3])).agg({\n",
    "    'a': lambda x: pd_nanmean_nb(x.values), \n",
    "    'b': lambda x: pd_nanmean_nb(x.values), \n",
    "    'c': lambda x: pd_nanmean_nb(x.values)})) # any clean way to do column-wise grouping in pandas?\n",
    "\n",
    "print(ts.vbt.timeseries.groupby_apply(np.asarray([1, 1, 2, 2, 3]), nanmean_nb))\n",
    "%timeit big_ts.vbt.timeseries.groupby_apply(np.random.randint(10, size=1000), nanmean_nb)\n",
    "\n",
    "print(ts.vbt.timeseries.groupby_apply(np.asarray([1, 1, 2, 2, 3]), nanmean_matrix_nb, on_matrix=True))\n",
    "%timeit big_ts.vbt.timeseries.groupby_apply(np.random.randint(10, size=1000), nanmean_matrix_nb, on_matrix=True)"
   ]
  },
  {
   "cell_type": "code",
   "execution_count": 27,
   "metadata": {},
   "outputs": [
    {
     "name": "stdout",
     "output_type": "stream",
     "text": [
      "2018-01-01 00:00:00    1.0\n",
      "2018-01-01 01:00:00    NaN\n",
      "2018-01-01 02:00:00    NaN\n",
      "2018-01-01 03:00:00    NaN\n",
      "2018-01-01 04:00:00    NaN\n",
      "                      ... \n",
      "2018-01-04 20:00:00    NaN\n",
      "2018-01-04 21:00:00    NaN\n",
      "2018-01-04 22:00:00    NaN\n",
      "2018-01-04 23:00:00    NaN\n",
      "2018-01-05 00:00:00    NaN\n",
      "Freq: H, Name: a, Length: 97, dtype: float32\n",
      "186 ms ± 42.2 ms per loop (mean ± std. dev. of 7 runs, 10 loops each)\n",
      "2018-01-01 00:00:00    1.0\n",
      "2018-01-01 01:00:00    NaN\n",
      "2018-01-01 02:00:00    NaN\n",
      "2018-01-01 03:00:00    NaN\n",
      "2018-01-01 04:00:00    NaN\n",
      "                      ... \n",
      "2018-01-04 20:00:00    NaN\n",
      "2018-01-04 21:00:00    NaN\n",
      "2018-01-04 22:00:00    NaN\n",
      "2018-01-04 23:00:00    NaN\n",
      "2018-01-05 00:00:00    NaN\n",
      "Freq: H, Name: a, Length: 97, dtype: float64\n",
      "157 ms ± 18.5 ms per loop (mean ± std. dev. of 7 runs, 10 loops each)\n",
      "                       a    b    c\n",
      "2018-01-01 00:00:00  1.0  NaN  1.0\n",
      "2018-01-01 01:00:00  NaN  NaN  NaN\n",
      "2018-01-01 02:00:00  NaN  NaN  NaN\n",
      "2018-01-01 03:00:00  NaN  NaN  NaN\n",
      "2018-01-01 04:00:00  NaN  NaN  NaN\n",
      "...                  ...  ...  ...\n",
      "2018-01-04 20:00:00  NaN  NaN  NaN\n",
      "2018-01-04 21:00:00  NaN  NaN  NaN\n",
      "2018-01-04 22:00:00  NaN  NaN  NaN\n",
      "2018-01-04 23:00:00  NaN  NaN  NaN\n",
      "2018-01-05 00:00:00  NaN  1.0  1.0\n",
      "\n",
      "[97 rows x 3 columns]\n",
      "14.6 s ± 713 ms per loop (mean ± std. dev. of 7 runs, 1 loop each)\n",
      "                       a    b    c\n",
      "2018-01-01 00:00:00  1.0  NaN  1.0\n",
      "2018-01-01 01:00:00  NaN  NaN  NaN\n",
      "2018-01-01 02:00:00  NaN  NaN  NaN\n",
      "2018-01-01 03:00:00  NaN  NaN  NaN\n",
      "2018-01-01 04:00:00  NaN  NaN  NaN\n",
      "...                  ...  ...  ...\n",
      "2018-01-04 20:00:00  NaN  NaN  NaN\n",
      "2018-01-04 21:00:00  NaN  NaN  NaN\n",
      "2018-01-04 22:00:00  NaN  NaN  NaN\n",
      "2018-01-04 23:00:00  NaN  NaN  NaN\n",
      "2018-01-05 00:00:00  NaN  1.0  1.0\n",
      "\n",
      "[97 rows x 3 columns]\n",
      "489 ms ± 6.96 ms per loop (mean ± std. dev. of 7 runs, 1 loop each)\n",
      "                       a    b    c\n",
      "2018-01-01 00:00:00  1.0  1.0  1.0\n",
      "2018-01-01 01:00:00  NaN  NaN  NaN\n",
      "2018-01-01 02:00:00  NaN  NaN  NaN\n",
      "2018-01-01 03:00:00  NaN  NaN  NaN\n",
      "2018-01-01 04:00:00  NaN  NaN  NaN\n",
      "...                  ...  ...  ...\n",
      "2018-01-04 20:00:00  NaN  NaN  NaN\n",
      "2018-01-04 21:00:00  NaN  NaN  NaN\n",
      "2018-01-04 22:00:00  NaN  NaN  NaN\n",
      "2018-01-04 23:00:00  NaN  NaN  NaN\n",
      "2018-01-05 00:00:00  1.0  1.0  1.0\n",
      "\n",
      "[97 rows x 3 columns]\n",
      "276 ms ± 47 ms per loop (mean ± std. dev. of 7 runs, 1 loop each)\n"
     ]
    }
   ],
   "source": [
    "print(ts['a'].resample('1h').apply(lambda x: pd_nanmean_nb(x.values)))\n",
    "%timeit big_ts.iloc[:, 0].resample('1h').apply(lambda x: pd_nanmean_nb(x.values))\n",
    "\n",
    "print(ts['a'].vbt.timeseries.resample_apply('1h', nanmean_nb))\n",
    "%timeit big_ts.iloc[:, 0].vbt.timeseries.resample_apply('1h', nanmean_nb)\n",
    "\n",
    "print(ts.resample('1h').apply(lambda x: pd_nanmean_nb(x.values)))\n",
    "%timeit big_ts.iloc[:, :100].resample('1h').apply(lambda x: pd_nanmean_nb(x.values))\n",
    "\n",
    "print(ts.vbt.timeseries.resample_apply('1h', nanmean_nb))\n",
    "%timeit big_ts.vbt.timeseries.resample_apply('1h', nanmean_nb)\n",
    "\n",
    "print(ts.vbt.timeseries.resample_apply('1h', nanmean_matrix_nb, on_matrix=True))\n",
    "%timeit big_ts.vbt.timeseries.resample_apply('1h', nanmean_matrix_nb, on_matrix=True)"
   ]
  },
  {
   "cell_type": "code",
   "execution_count": 28,
   "metadata": {},
   "outputs": [
    {
     "name": "stdout",
     "output_type": "stream",
     "text": [
      "2018-01-01 00:00:00    1.0\n",
      "2018-01-01 01:00:00    NaN\n",
      "2018-01-01 02:00:00    NaN\n",
      "2018-01-01 03:00:00    NaN\n",
      "2018-01-01 04:00:00    NaN\n",
      "                      ... \n",
      "2018-01-04 20:00:00    NaN\n",
      "2018-01-04 21:00:00    NaN\n",
      "2018-01-04 22:00:00    NaN\n",
      "2018-01-04 23:00:00    NaN\n",
      "2018-01-05 00:00:00    NaN\n",
      "Freq: H, Name: a, Length: 97, dtype: float32\n",
      "132 ms ± 3.22 ms per loop (mean ± std. dev. of 7 runs, 10 loops each)\n",
      "2018-01-01 00:00:00    1.0\n",
      "2018-01-01 01:00:00    NaN\n",
      "2018-01-01 02:00:00    NaN\n",
      "2018-01-01 03:00:00    NaN\n",
      "2018-01-01 04:00:00    NaN\n",
      "                      ... \n",
      "2018-01-04 20:00:00    NaN\n",
      "2018-01-04 21:00:00    NaN\n",
      "2018-01-04 22:00:00    NaN\n",
      "2018-01-04 23:00:00    NaN\n",
      "2018-01-05 00:00:00    NaN\n",
      "Freq: H, Name: a, Length: 97, dtype: float64\n",
      "146 ms ± 11.2 ms per loop (mean ± std. dev. of 7 runs, 10 loops each)\n",
      "                       a    b    c\n",
      "2018-01-01 00:00:00  1.0  NaN  1.0\n",
      "2018-01-01 01:00:00  NaN  NaN  NaN\n",
      "2018-01-01 02:00:00  NaN  NaN  NaN\n",
      "2018-01-01 03:00:00  NaN  NaN  NaN\n",
      "2018-01-01 04:00:00  NaN  NaN  NaN\n",
      "...                  ...  ...  ...\n",
      "2018-01-04 20:00:00  NaN  NaN  NaN\n",
      "2018-01-04 21:00:00  NaN  NaN  NaN\n",
      "2018-01-04 22:00:00  NaN  NaN  NaN\n",
      "2018-01-04 23:00:00  NaN  NaN  NaN\n",
      "2018-01-05 00:00:00  NaN  1.0  1.0\n",
      "\n",
      "[97 rows x 3 columns]\n",
      "11.8 s ± 192 ms per loop (mean ± std. dev. of 7 runs, 1 loop each)\n",
      "                       a    b    c\n",
      "2018-01-01 00:00:00  1.0  NaN  1.0\n",
      "2018-01-01 01:00:00  NaN  NaN  NaN\n",
      "2018-01-01 02:00:00  NaN  NaN  NaN\n",
      "2018-01-01 03:00:00  NaN  NaN  NaN\n",
      "2018-01-01 04:00:00  NaN  NaN  NaN\n",
      "...                  ...  ...  ...\n",
      "2018-01-04 20:00:00  NaN  NaN  NaN\n",
      "2018-01-04 21:00:00  NaN  NaN  NaN\n",
      "2018-01-04 22:00:00  NaN  NaN  NaN\n",
      "2018-01-04 23:00:00  NaN  NaN  NaN\n",
      "2018-01-05 00:00:00  NaN  1.0  1.0\n",
      "\n",
      "[97 rows x 3 columns]\n",
      "456 ms ± 2.99 ms per loop (mean ± std. dev. of 7 runs, 1 loop each)\n",
      "                       a    b    c\n",
      "2018-01-01 00:00:00  1.0  1.0  1.0\n",
      "2018-01-01 01:00:00  NaN  NaN  NaN\n",
      "2018-01-01 02:00:00  NaN  NaN  NaN\n",
      "2018-01-01 03:00:00  NaN  NaN  NaN\n",
      "2018-01-01 04:00:00  NaN  NaN  NaN\n",
      "...                  ...  ...  ...\n",
      "2018-01-04 20:00:00  NaN  NaN  NaN\n",
      "2018-01-04 21:00:00  NaN  NaN  NaN\n",
      "2018-01-04 22:00:00  NaN  NaN  NaN\n",
      "2018-01-04 23:00:00  NaN  NaN  NaN\n",
      "2018-01-05 00:00:00  1.0  1.0  1.0\n",
      "\n",
      "[97 rows x 3 columns]\n",
      "225 ms ± 5.65 ms per loop (mean ± std. dev. of 7 runs, 1 loop each)\n"
     ]
    }
   ],
   "source": [
    "print(ts['a'].resample('1h').apply(lambda x: pd_nanmean_nb(x.values)))\n",
    "%timeit big_ts.iloc[:, 0].resample('1h').apply(lambda x: pd_nanmean_nb(x.values))\n",
    "\n",
    "print(ts['a'].vbt.timeseries.resample_apply('1h', nanmean_nb))\n",
    "%timeit big_ts.iloc[:, 0].vbt.timeseries.resample_apply('1h', nanmean_nb)\n",
    "\n",
    "print(ts.resample('1h').apply(lambda x: pd_nanmean_nb(x.values)))\n",
    "%timeit big_ts.iloc[:, :100].resample('1h').apply(lambda x: pd_nanmean_nb(x.values))\n",
    "\n",
    "print(ts.vbt.timeseries.resample_apply('1h', nanmean_nb))\n",
    "%timeit big_ts.vbt.timeseries.resample_apply('1h', nanmean_nb)\n",
    "\n",
    "print(ts.vbt.timeseries.resample_apply('1h', nanmean_matrix_nb, on_matrix=True))\n",
    "%timeit big_ts.vbt.timeseries.resample_apply('1h', nanmean_matrix_nb, on_matrix=True)"
   ]
  },
  {
   "cell_type": "code",
   "execution_count": 29,
   "metadata": {},
   "outputs": [
    {
     "name": "stdout",
     "output_type": "stream",
     "text": [
      "2018-01-01    2.0\n",
      "2018-01-04    4.0\n",
      "Freq: 3D, Name: a, dtype: float32\n",
      "3.59 ms ± 31.9 µs per loop (mean ± std. dev. of 7 runs, 100 loops each)\n",
      "2018-01-01    2.0\n",
      "2018-01-04    4.0\n",
      "Freq: 3D, Name: a, dtype: float64\n",
      "8.8 ms ± 125 µs per loop (mean ± std. dev. of 7 runs, 100 loops each)\n",
      "              a    b    c\n",
      "2018-01-01  2.0  3.5  1.5\n",
      "2018-01-04  4.0  1.5  1.5\n",
      "3.93 s ± 328 ms per loop (mean ± std. dev. of 7 runs, 1 loop each)\n",
      "              a    b    c\n",
      "2018-01-01  2.0  3.5  1.5\n",
      "2018-01-04  4.0  1.5  1.5\n",
      "91.6 ms ± 476 µs per loop (mean ± std. dev. of 7 runs, 10 loops each)\n",
      "                   a         b         c\n",
      "2018-01-01  2.285714  2.285714  2.285714\n",
      "2018-01-04  2.000000  2.000000  2.000000\n",
      "14.4 ms ± 41.9 µs per loop (mean ± std. dev. of 7 runs, 100 loops each)\n"
     ]
    }
   ],
   "source": [
    "print(ts['a'].resample('3d').apply(lambda x: pd_nanmean_nb(x.values)))\n",
    "%timeit big_ts.iloc[:, 0].resample('3d').apply(lambda x: pd_nanmean_nb(x.values))\n",
    "\n",
    "print(ts['a'].vbt.timeseries.resample_apply('3d', nanmean_nb))\n",
    "%timeit big_ts.iloc[:, 0].vbt.timeseries.resample_apply('3d', nanmean_nb)\n",
    "\n",
    "print(ts.resample('3d').apply(lambda x: pd_nanmean_nb(x.values)))\n",
    "%timeit big_ts.resample('3d').apply(lambda x: pd_nanmean_nb(x.values))\n",
    "\n",
    "print(ts.vbt.timeseries.resample_apply('3d', nanmean_nb))\n",
    "%timeit big_ts.vbt.timeseries.resample_apply('3d', nanmean_nb)\n",
    "\n",
    "print(ts.vbt.timeseries.resample_apply('3d', nanmean_matrix_nb, on_matrix=True))\n",
    "%timeit big_ts.vbt.timeseries.resample_apply('3d', nanmean_matrix_nb, on_matrix=True)"
   ]
  },
  {
   "cell_type": "code",
   "execution_count": 30,
   "metadata": {},
   "outputs": [
    {
     "name": "stdout",
     "output_type": "stream",
     "text": [
      "2018-01-07    2.5\n",
      "Freq: W-SUN, Name: a, dtype: float32\n",
      "6.76 ms ± 39.3 µs per loop (mean ± std. dev. of 7 runs, 100 loops each)\n",
      "2018-01-07    2.5\n",
      "Freq: W-SUN, Name: a, dtype: float64\n",
      "9.95 ms ± 103 µs per loop (mean ± std. dev. of 7 runs, 100 loops each)\n",
      "              a    b    c\n",
      "2018-01-07  2.5  2.5  1.5\n",
      "2.54 s ± 34 ms per loop (mean ± std. dev. of 7 runs, 1 loop each)\n",
      "              a    b    c\n",
      "2018-01-07  2.5  2.5  1.5\n",
      "46 ms ± 357 µs per loop (mean ± std. dev. of 7 runs, 10 loops each)\n",
      "                   a         b         c\n",
      "2018-01-07  2.166667  2.166667  2.166667\n",
      "14 ms ± 98.3 µs per loop (mean ± std. dev. of 7 runs, 100 loops each)\n"
     ]
    }
   ],
   "source": [
    "print(ts['a'].resample('1w').apply(lambda x: pd_nanmean_nb(x.values)))\n",
    "%timeit big_ts.iloc[:, 0].resample('1w').apply(lambda x: pd_nanmean_nb(x.values))\n",
    "\n",
    "print(ts['a'].vbt.timeseries.resample_apply('1w', nanmean_nb))\n",
    "%timeit big_ts.iloc[:, 0].vbt.timeseries.resample_apply('1w', nanmean_nb)\n",
    "\n",
    "print(ts.resample('1w').apply(lambda x: pd_nanmean_nb(x.values)))\n",
    "%timeit big_ts.resample('1w').apply(lambda x: pd_nanmean_nb(x.values))\n",
    "\n",
    "print(ts.vbt.timeseries.resample_apply('1w', nanmean_nb))\n",
    "%timeit big_ts.vbt.timeseries.resample_apply('1w', nanmean_nb)\n",
    "\n",
    "print(ts.vbt.timeseries.resample_apply('1w', nanmean_matrix_nb, on_matrix=True))\n",
    "%timeit big_ts.vbt.timeseries.resample_apply('1w', nanmean_matrix_nb, on_matrix=True)"
   ]
  },
  {
   "cell_type": "code",
   "execution_count": 31,
   "metadata": {},
   "outputs": [
    {
     "name": "stdout",
     "output_type": "stream",
     "text": [
      "start_date  2018-01-01  2018-01-04\n",
      "0                  1.0         4.0\n",
      "1                  2.0         NaN\n",
      "836 µs ± 149 µs per loop (mean ± std. dev. of 7 runs, 1 loop each)\n",
      "                    a                     b                     c           \n",
      "start_date 2018-01-01 2018-01-04 2018-01-01 2018-01-04 2018-01-01 2018-01-04\n",
      "0                 1.0        4.0        NaN        2.0        1.0        2.0\n",
      "1                 2.0        NaN        4.0        1.0        2.0        1.0\n",
      "46.3 ms ± 1.84 ms per loop (mean ± std. dev. of 7 runs, 1 loop each)\n"
     ]
    }
   ],
   "source": [
    "print(ts['a'].vbt.timeseries.rolling_window(2, n=2))\n",
    "%timeit big_ts.iloc[:, 0].vbt.timeseries.rolling_window(2, n=100)\n",
    "\n",
    "print(ts.vbt.timeseries.rolling_window(2, n=2))\n",
    "%timeit big_ts.vbt.timeseries.rolling_window(2, n=100)"
   ]
  },
  {
   "cell_type": "code",
   "execution_count": 32,
   "metadata": {},
   "outputs": [
    {
     "name": "stdout",
     "output_type": "stream",
     "text": [
      "              a    b    c\n",
      "2018-01-01  2.0  NaN  2.0\n",
      "2018-01-02  4.0  8.0  4.0\n",
      "2018-01-03  6.0  6.0  NaN\n",
      "2018-01-04  8.0  4.0  4.0\n",
      "2018-01-05  NaN  2.0  2.0\n",
      "446 ms ± 14.4 ms per loop (mean ± std. dev. of 7 runs, 1 loop each)\n",
      "2018-01-01    2.0\n",
      "2018-01-02    4.0\n",
      "2018-01-03    6.0\n",
      "2018-01-04    8.0\n",
      "2018-01-05    NaN\n",
      "Freq: D, Name: a, dtype: float64\n",
      "350 µs ± 103 µs per loop (mean ± std. dev. of 7 runs, 1 loop each)\n",
      "              a    b    c\n",
      "2018-01-01  2.0  NaN  2.0\n",
      "2018-01-02  4.0  8.0  4.0\n",
      "2018-01-03  6.0  6.0  NaN\n",
      "2018-01-04  8.0  4.0  4.0\n",
      "2018-01-05  NaN  2.0  2.0\n",
      "10.9 ms ± 441 µs per loop (mean ± std. dev. of 7 runs, 1 loop each)\n"
     ]
    }
   ],
   "source": [
    "mult_nb = njit(lambda col, i, x: x * 2)\n",
    "\n",
    "print(ts.applymap(lambda x: x * 2))\n",
    "%timeit big_ts.applymap(lambda x: x * 2)\n",
    "\n",
    "print(ts['a'].vbt.timeseries.applymap(mult_nb))\n",
    "%timeit big_ts.iloc[:, 0].vbt.timeseries.applymap(mult_nb)\n",
    "\n",
    "print(ts.vbt.timeseries.applymap(mult_nb))\n",
    "%timeit big_ts.vbt.timeseries.applymap(mult_nb)"
   ]
  },
  {
   "cell_type": "code",
   "execution_count": 33,
   "metadata": {},
   "outputs": [
    {
     "name": "stdout",
     "output_type": "stream",
     "text": [
      "              a    b   c\n",
      "2018-01-01  NaN  NaN NaN\n",
      "2018-01-02  NaN  4.0 NaN\n",
      "2018-01-03  3.0  3.0 NaN\n",
      "2018-01-04  4.0  NaN NaN\n",
      "2018-01-05  NaN  NaN NaN\n",
      "456 ms ± 8.92 ms per loop (mean ± std. dev. of 7 runs, 1 loop each)\n",
      "2018-01-01    NaN\n",
      "2018-01-02    NaN\n",
      "2018-01-03    3.0\n",
      "2018-01-04    4.0\n",
      "2018-01-05    NaN\n",
      "Freq: D, Name: a, dtype: float64\n",
      "364 µs ± 99.7 µs per loop (mean ± std. dev. of 7 runs, 1 loop each)\n",
      "              a    b   c\n",
      "2018-01-01  NaN  NaN NaN\n",
      "2018-01-02  NaN  4.0 NaN\n",
      "2018-01-03  3.0  3.0 NaN\n",
      "2018-01-04  4.0  NaN NaN\n",
      "2018-01-05  NaN  NaN NaN\n",
      "11.9 ms ± 778 µs per loop (mean ± std. dev. of 7 runs, 1 loop each)\n"
     ]
    }
   ],
   "source": [
    "greater_nb = njit(lambda col, i, x: x > 2)\n",
    "\n",
    "print(ts.applymap(lambda x: x if x > 2 else np.nan))\n",
    "%timeit big_ts.applymap(lambda x: x if x > 2 else np.nan)\n",
    "\n",
    "print(ts['a'].vbt.timeseries.filter(greater_nb))\n",
    "%timeit big_ts.iloc[:, 0].vbt.timeseries.filter(greater_nb)\n",
    "\n",
    "print(ts.vbt.timeseries.filter(greater_nb))\n",
    "%timeit big_ts.vbt.timeseries.filter(greater_nb)"
   ]
  },
  {
   "cell_type": "code",
   "execution_count": 34,
   "metadata": {},
   "outputs": [
    {
     "name": "stdout",
     "output_type": "stream",
     "text": [
      "1 days 00:00:00\n"
     ]
    }
   ],
   "source": [
    "print(ts.vbt.timeseries.timedelta)"
   ]
  },
  {
   "cell_type": "code",
   "execution_count": 35,
   "metadata": {},
   "outputs": [
    {
     "name": "stdout",
     "output_type": "stream",
     "text": [
      "4.0\n",
      "506 µs ± 134 µs per loop (mean ± std. dev. of 7 runs, 1 loop each)\n",
      "a    4.0\n",
      "b    4.0\n",
      "c    2.0\n",
      "dtype: float64\n",
      "2.06 ms ± 70.3 µs per loop (mean ± std. dev. of 7 runs, 100 loops each)\n",
      "a   4 days\n",
      "b   4 days\n",
      "c   2 days\n",
      "dtype: timedelta64[ns]\n",
      "9.46 ms ± 119 µs per loop (mean ± std. dev. of 7 runs, 100 loops each)\n"
     ]
    }
   ],
   "source": [
    "every_2th_nb = njit(lambda col, a: a[::2])\n",
    "sum_nb = njit(lambda col, a: np.nansum(a))\n",
    "\n",
    "print(ts['a'].vbt.timeseries.apply_and_reduce(every_2th_nb, sum_nb))\n",
    "%timeit big_ts.iloc[:, 0].vbt.timeseries.apply_and_reduce(every_2th_nb, sum_nb)\n",
    "\n",
    "print(ts.vbt.timeseries.apply_and_reduce(every_2th_nb, sum_nb))\n",
    "%timeit big_ts.vbt.timeseries.apply_and_reduce(every_2th_nb, sum_nb)\n",
    "\n",
    "print(ts.vbt.timeseries.apply_and_reduce(every_2th_nb, sum_nb, time_units=True))\n",
    "%timeit big_ts.vbt.timeseries.apply_and_reduce(every_2th_nb, sum_nb, time_units=True)"
   ]
  },
  {
   "cell_type": "code",
   "execution_count": 36,
   "metadata": {},
   "outputs": [
    {
     "name": "stdout",
     "output_type": "stream",
     "text": [
      "a    10.0\n",
      "b    10.0\n",
      "c     6.0\n",
      "dtype: float64\n",
      "78.5 ms ± 953 µs per loop (mean ± std. dev. of 7 runs, 10 loops each)\n",
      "10.0\n",
      "400 µs ± 5.07 µs per loop (mean ± std. dev. of 7 runs, 1000 loops each)\n",
      "a    10.0\n",
      "b    10.0\n",
      "c     6.0\n",
      "dtype: float64\n",
      "3.14 ms ± 70.1 µs per loop (mean ± std. dev. of 7 runs, 100 loops each)\n",
      "a   10 days\n",
      "b   10 days\n",
      "c    6 days\n",
      "dtype: timedelta64[ns]\n",
      "11 ms ± 211 µs per loop (mean ± std. dev. of 7 runs, 100 loops each)\n"
     ]
    }
   ],
   "source": [
    "print(ts.apply(np.nansum, axis=0))\n",
    "%timeit big_ts.apply(np.nansum, axis=0)\n",
    "\n",
    "print(ts['a'].vbt.timeseries.reduce(sum_nb))\n",
    "%timeit big_ts.iloc[:, 0].vbt.timeseries.reduce(sum_nb)\n",
    "\n",
    "print(ts.vbt.timeseries.reduce(sum_nb))\n",
    "%timeit big_ts.vbt.timeseries.reduce(sum_nb)\n",
    "\n",
    "print(ts.vbt.timeseries.reduce(sum_nb, time_units=True))\n",
    "%timeit big_ts.vbt.timeseries.reduce(sum_nb, time_units=True)"
   ]
  },
  {
   "cell_type": "code",
   "execution_count": 37,
   "metadata": {},
   "outputs": [
    {
     "name": "stdout",
     "output_type": "stream",
     "text": [
      "     a    b    c\n",
      "0  1.0  1.0  1.0\n",
      "1  4.0  4.0  2.0\n",
      "175 ms ± 535 µs per loop (mean ± std. dev. of 7 runs, 10 loops each)\n",
      "min    1.0\n",
      "max    4.0\n",
      "Name: a, dtype: float64\n",
      "446 µs ± 116 µs per loop (mean ± std. dev. of 7 runs, 1 loop each)\n",
      "       a    b    c\n",
      "min  1.0  1.0  1.0\n",
      "max  4.0  4.0  2.0\n",
      "5.36 ms ± 650 µs per loop (mean ± std. dev. of 7 runs, 1 loop each)\n",
      "         a      b      c\n",
      "min 1 days 1 days 1 days\n",
      "max 4 days 4 days 2 days\n",
      "136 ms ± 726 µs per loop (mean ± std. dev. of 7 runs, 10 loops each)\n"
     ]
    }
   ],
   "source": [
    "@njit\n",
    "def min_and_max_nb(col, a):\n",
    "    result = np.empty(2)\n",
    "    result[0] = np.nanmin(a)\n",
    "    result[1] = np.nanmax(a)\n",
    "    return result\n",
    "\n",
    "print(ts.apply(lambda x: np.asarray([np.min(x), np.max(x)]), axis=0))\n",
    "%timeit big_ts.apply(lambda x: np.asarray([np.min(x), np.max(x)]), axis=0)\n",
    "\n",
    "print(ts['a'].vbt.timeseries.reduce_to_array(min_and_max_nb, index=['min', 'max']))\n",
    "%timeit big_ts.iloc[:, 0].vbt.timeseries.reduce_to_array(min_and_max_nb, index=['min', 'max'])\n",
    "\n",
    "print(ts.vbt.timeseries.reduce_to_array(min_and_max_nb, index=['min', 'max']))\n",
    "%timeit big_ts.vbt.timeseries.reduce_to_array(min_and_max_nb, index=['min', 'max'])\n",
    "\n",
    "print(ts.vbt.timeseries.reduce_to_array(min_and_max_nb, index=['min', 'max'], time_units=True))\n",
    "%timeit big_ts.vbt.timeseries.reduce_to_array(min_and_max_nb, index=['min', 'max'], time_units=True)"
   ]
  },
  {
   "cell_type": "code",
   "execution_count": 38,
   "metadata": {},
   "outputs": [
    {
     "name": "stdout",
     "output_type": "stream",
     "text": [
      "a    1.0\n",
      "b    1.0\n",
      "c    1.0\n",
      "dtype: float32\n",
      "3.86 ms ± 65.9 µs per loop (mean ± std. dev. of 7 runs, 100 loops each)\n",
      "a    1.0\n",
      "b    1.0\n",
      "c    1.0\n",
      "dtype: float32\n",
      "3.84 ms ± 22 µs per loop (mean ± std. dev. of 7 runs, 100 loops each)\n",
      "a   1 days\n",
      "b   1 days\n",
      "c   1 days\n",
      "dtype: timedelta64[ns]\n",
      "11.4 ms ± 148 µs per loop (mean ± std. dev. of 7 runs, 100 loops each)\n"
     ]
    }
   ],
   "source": [
    "print(ts.min())\n",
    "%timeit big_ts.min()\n",
    "\n",
    "print(ts.vbt.timeseries.min())\n",
    "%timeit big_ts.vbt.timeseries.min()\n",
    "\n",
    "print(ts.vbt.timeseries.min(time_units=True))\n",
    "%timeit big_ts.vbt.timeseries.min(time_units=True)"
   ]
  },
  {
   "cell_type": "code",
   "execution_count": 39,
   "metadata": {},
   "outputs": [
    {
     "name": "stdout",
     "output_type": "stream",
     "text": [
      "a    4.0\n",
      "b    4.0\n",
      "c    2.0\n",
      "dtype: float32\n",
      "3.83 ms ± 42.4 µs per loop (mean ± std. dev. of 7 runs, 100 loops each)\n",
      "a    4.0\n",
      "b    4.0\n",
      "c    2.0\n",
      "dtype: float32\n",
      "3.79 ms ± 49.3 µs per loop (mean ± std. dev. of 7 runs, 100 loops each)\n",
      "a   4 days\n",
      "b   4 days\n",
      "c   2 days\n",
      "dtype: timedelta64[ns]\n",
      "11.8 ms ± 185 µs per loop (mean ± std. dev. of 7 runs, 100 loops each)\n"
     ]
    }
   ],
   "source": [
    "print(ts.max())\n",
    "%timeit big_ts.max()\n",
    "\n",
    "print(ts.vbt.timeseries.max())\n",
    "%timeit big_ts.vbt.timeseries.max()\n",
    "\n",
    "print(ts.vbt.timeseries.max(time_units=True))\n",
    "%timeit big_ts.vbt.timeseries.max(time_units=True)"
   ]
  },
  {
   "cell_type": "code",
   "execution_count": 40,
   "metadata": {},
   "outputs": [
    {
     "name": "stdout",
     "output_type": "stream",
     "text": [
      "a    2.5\n",
      "b    2.5\n",
      "c    1.5\n",
      "dtype: float32\n",
      "2.91 ms ± 64.6 µs per loop (mean ± std. dev. of 7 runs, 100 loops each)\n",
      "a    2.5\n",
      "b    2.5\n",
      "c    1.5\n",
      "dtype: float32\n",
      "2.87 ms ± 88.2 µs per loop (mean ± std. dev. of 7 runs, 100 loops each)\n",
      "a   2 days 12:00:00\n",
      "b   2 days 12:00:00\n",
      "c   1 days 12:00:00\n",
      "dtype: timedelta64[ns]\n",
      "10.9 ms ± 92.7 µs per loop (mean ± std. dev. of 7 runs, 100 loops each)\n"
     ]
    }
   ],
   "source": [
    "print(ts.mean())\n",
    "%timeit big_ts.mean()\n",
    "\n",
    "print(ts.vbt.timeseries.mean())\n",
    "%timeit big_ts.vbt.timeseries.mean()\n",
    "\n",
    "print(ts.vbt.timeseries.mean(time_units=True))\n",
    "%timeit big_ts.vbt.timeseries.mean(time_units=True)"
   ]
  },
  {
   "cell_type": "code",
   "execution_count": 41,
   "metadata": {},
   "outputs": [
    {
     "name": "stdout",
     "output_type": "stream",
     "text": [
      "a    1.290994\n",
      "b    1.290994\n",
      "c    0.577350\n",
      "dtype: float32\n",
      "4.01 ms ± 81.7 µs per loop (mean ± std. dev. of 7 runs, 100 loops each)\n",
      "a    1.290994\n",
      "b    1.290994\n",
      "c    0.577350\n",
      "dtype: float32\n",
      "3.93 ms ± 88.9 µs per loop (mean ± std. dev. of 7 runs, 100 loops each)\n",
      "a   1 days 06:59:01.916656\n",
      "b   1 days 06:59:01.916656\n",
      "c   0 days 13:51:23.062363\n",
      "dtype: timedelta64[ns]\n",
      "12 ms ± 129 µs per loop (mean ± std. dev. of 7 runs, 100 loops each)\n"
     ]
    }
   ],
   "source": [
    "print(ts.std())\n",
    "%timeit big_ts.std()\n",
    "\n",
    "print(ts.vbt.timeseries.std())\n",
    "%timeit big_ts.vbt.timeseries.std()\n",
    "\n",
    "print(ts.vbt.timeseries.std(time_units=True))\n",
    "%timeit big_ts.vbt.timeseries.std(time_units=True)"
   ]
  },
  {
   "cell_type": "code",
   "execution_count": 42,
   "metadata": {},
   "outputs": [
    {
     "name": "stdout",
     "output_type": "stream",
     "text": [
      "a    4\n",
      "b    4\n",
      "c    4\n",
      "dtype: int64\n",
      "2.58 ms ± 19.2 µs per loop (mean ± std. dev. of 7 runs, 100 loops each)\n",
      "a    4\n",
      "b    4\n",
      "c    4\n",
      "dtype: int64\n",
      "1.98 ms ± 23.4 µs per loop (mean ± std. dev. of 7 runs, 100 loops each)\n",
      "a   4 days\n",
      "b   4 days\n",
      "c   4 days\n",
      "dtype: timedelta64[ns]\n",
      "12.7 ms ± 5.21 ms per loop (mean ± std. dev. of 7 runs, 100 loops each)\n"
     ]
    }
   ],
   "source": [
    "print((~ts.isnull()).sum())\n",
    "%timeit (~big_ts.isnull()).sum()\n",
    "\n",
    "print(ts.vbt.timeseries.count())\n",
    "%timeit big_ts.vbt.timeseries.count()\n",
    "\n",
    "print(ts.vbt.timeseries.count(time_units=True))\n",
    "%timeit big_ts.vbt.timeseries.count(time_units=True)"
   ]
  },
  {
   "cell_type": "code",
   "execution_count": 43,
   "metadata": {},
   "outputs": [
    {
     "name": "stdout",
     "output_type": "stream",
     "text": [
      "a   2018-01-01\n",
      "b   2018-01-05\n",
      "c   2018-01-01\n",
      "dtype: datetime64[ns]\n",
      "24.1 ms ± 3.19 ms per loop (mean ± std. dev. of 7 runs, 10 loops each)\n",
      "a   2018-01-01\n",
      "b   2018-01-05\n",
      "c   2018-01-01\n",
      "dtype: datetime64[ns]\n",
      "5.05 ms ± 1.38 ms per loop (mean ± std. dev. of 7 runs, 100 loops each)\n"
     ]
    }
   ],
   "source": [
    "print(ts.idxmin())\n",
    "%timeit big_ts.idxmin()\n",
    "\n",
    "print(ts.vbt.timeseries.argmin())\n",
    "%timeit big_ts.vbt.timeseries.argmin()"
   ]
  },
  {
   "cell_type": "code",
   "execution_count": 44,
   "metadata": {},
   "outputs": [
    {
     "name": "stdout",
     "output_type": "stream",
     "text": [
      "a   2018-01-04\n",
      "b   2018-01-02\n",
      "c   2018-01-02\n",
      "dtype: datetime64[ns]\n",
      "13.9 ms ± 339 µs per loop (mean ± std. dev. of 7 runs, 100 loops each)\n",
      "a   2018-01-04\n",
      "b   2018-01-02\n",
      "c   2018-01-02\n",
      "dtype: datetime64[ns]\n",
      "3.42 ms ± 47.9 µs per loop (mean ± std. dev. of 7 runs, 100 loops each)\n"
     ]
    }
   ],
   "source": [
    "print(ts.idxmax())\n",
    "%timeit big_ts.idxmax()\n",
    "\n",
    "print(ts.vbt.timeseries.argmax())\n",
    "%timeit big_ts.vbt.timeseries.argmax()"
   ]
  },
  {
   "cell_type": "code",
   "execution_count": 45,
   "metadata": {},
   "outputs": [
    {
     "name": "stdout",
     "output_type": "stream",
     "text": [
      "              a         b        c\n",
      "count  4.000000  4.000000  4.00000\n",
      "mean   2.500000  2.500000  1.50000\n",
      "std    1.290994  1.290994  0.57735\n",
      "min    1.000000  1.000000  1.00000\n",
      "0%     1.000000  1.000000  1.00000\n",
      "10%    1.300000  1.300000  1.00000\n",
      "20%    1.600000  1.600000  1.00000\n",
      "30%    1.900000  1.900000  1.00000\n",
      "40%    2.200000  2.200000  1.20000\n",
      "50%    2.500000  2.500000  1.50000\n",
      "60%    2.800000  2.800000  1.80000\n",
      "70%    3.100000  3.100000  2.00000\n",
      "80%    3.400000  3.400000  2.00000\n",
      "90%    3.700000  3.700000  2.00000\n",
      "max    4.000000  4.000000  2.00000\n",
      "1.94 s ± 14.8 ms per loop (mean ± std. dev. of 7 runs, 1 loop each)\n",
      "               a         b        c\n",
      "count   4.000000  4.000000  4.00000\n",
      "mean    2.500000  2.500000  1.50000\n",
      "std     1.290994  1.290994  0.57735\n",
      "min     1.000000  1.000000  1.00000\n",
      "0.00%   1.000000  1.000000  1.00000\n",
      "10.00%  1.300000  1.300000  1.00000\n",
      "20.00%  1.600000  1.600000  1.00000\n",
      "30.00%  1.900000  1.900000  1.00000\n",
      "40.00%  2.200000  2.200000  1.20000\n",
      "50.00%  2.500000  2.500000  1.50000\n",
      "60.00%  2.800000  2.800000  1.80000\n",
      "70.00%  3.100000  3.100000  2.00000\n",
      "80.00%  3.400000  3.400000  2.00000\n",
      "90.00%  3.700000  3.700000  2.00000\n",
      "max     4.000000  4.000000  2.00000\n",
      "591 ms ± 6.15 ms per loop (mean ± std. dev. of 7 runs, 1 loop each)\n"
     ]
    }
   ],
   "source": [
    "print(ts.describe(percentiles=np.arange(0, 1, 0.1)))\n",
    "%timeit big_ts.describe(percentiles=np.arange(0, 1, 0.1))\n",
    "\n",
    "print(ts.vbt.timeseries.describe(percentiles=np.arange(0, 1, 0.1)))\n",
    "%timeit big_ts.vbt.timeseries.describe(percentiles=np.arange(0, 1, 0.1))"
   ]
  },
  {
   "cell_type": "code",
   "execution_count": 46,
   "metadata": {
    "Collapsed": "false"
   },
   "outputs": [
    {
     "data": {
      "text/plain": [
       "<matplotlib.axes._subplots.AxesSubplot at 0x1a1d12e1d0>"
      ]
     },
     "execution_count": 46,
     "metadata": {},
     "output_type": "execute_result"
    },
    {
     "data": {
      "image/png": "[encoded data removed]",
      "text/plain": [
       "<Figure size 432x288 with 1 Axes>"
      ]
     },
     "metadata": {
      "needs_background": "light"
     },
     "output_type": "display_data"
    }
   ],
   "source": [
    "# Two ways of plotting\n",
    "ts.plot()"
   ]
  },
  {
   "cell_type": "code",
   "execution_count": 47,
   "metadata": {},
   "outputs": [
    {
     "data": {
      "image/png": "[encoded data removed]"
     },
     "metadata": {},
     "output_type": "display_data"
    }
   ],
   "source": [
    "ts['a'].vbt.timeseries.plot().show_png()"
   ]
  },
  {
   "cell_type": "code",
   "execution_count": 48,
   "metadata": {},
   "outputs": [
    {
     "data": {
      "image/png": "[encoded data removed]"
     },
     "metadata": {},
     "output_type": "display_data"
    }
   ],
   "source": [
    "ts.vbt.timeseries.plot().show_png()"
   ]
  },
  {
   "cell_type": "code",
   "execution_count": 49,
   "metadata": {},
   "outputs": [
    {
     "data": {
      "image/png": "[encoded data removed]"
     },
     "metadata": {},
     "output_type": "display_data"
    }
   ],
   "source": [
    "ts['a'].vbt.timeseries.plot_against(2).show_png()"
   ]
  },
  {
   "cell_type": "code",
   "execution_count": 50,
   "metadata": {},
   "outputs": [
    {
     "data": {
      "image/png": "[encoded data removed]"
     },
     "metadata": {},
     "output_type": "display_data"
    }
   ],
   "source": [
    "ts['a'].vbt.timeseries.plot_against(ts['b']).show_png()"
   ]
  },
  {
   "cell_type": "markdown",
   "metadata": {},
   "source": [
    "## OHLCV"
   ]
  },
  {
   "cell_type": "code",
   "execution_count": 51,
   "metadata": {},
   "outputs": [
    {
     "name": "stdout",
     "output_type": "stream",
     "text": [
      "                Open      High       Low     Close    Volume\n",
      "2018-01-01 -0.748102 -0.041274 -1.731557 -0.883523 -0.220742\n",
      "2018-01-02 -1.118570 -0.608631 -1.514462 -1.113827 -0.965374\n",
      "2018-01-03 -1.647499 -1.311320 -1.765030 -2.130970 -0.213829\n",
      "2018-01-04 -0.753035 -0.678157 -1.563666 -0.407780  0.541131\n",
      "2018-01-05 -1.259745 -1.191414 -2.235802 -1.389345  0.851025\n"
     ]
    }
   ],
   "source": [
    "ohlcv_ts = pd.DataFrame(\n",
    "    columns=['Open', 'High', 'Low', 'Close', 'Volume'],\n",
    "    index=[datetime(2018, 1, 1) + timedelta(days=i) for i in range(1000)]\n",
    ")\n",
    "ohlcv_ts['Open'] = np.cumsum(np.random.uniform(-0.8, 1, size=(1000,)))\n",
    "ohlcv_ts['Close'] = ohlcv_ts['Open'] + np.random.uniform(-1, 1, size=(1000,))\n",
    "ohlcv_ts['High'] = ohlcv_ts['Open'] + np.random.uniform(0, 1, size=(1000,))\n",
    "ohlcv_ts['Low'] = ohlcv_ts['Open'] - np.random.uniform(0, 1, size=(1000,))\n",
    "ohlcv_ts['Volume'] = np.cumsum(np.random.uniform(-1, 1, size=(1000,)))\n",
    "\n",
    "print(ohlcv_ts.head())"
   ]
  },
  {
   "cell_type": "code",
   "execution_count": 52,
   "metadata": {},
   "outputs": [
    {
     "data": {
      "image/png": "[encoded data removed]"
     },
     "metadata": {},
     "output_type": "display_data"
    }
   ],
   "source": [
    "ohlcv_ts = ohlcv_ts.rename(columns={'Volume': 'Volume2'}) # test different column names\n",
    "\n",
    "ohlcv_ts.vbt.ohlcv(volume='Volume2').plot().show_png()"
   ]
  },
  {
   "cell_type": "code",
   "execution_count": null,
   "metadata": {},
   "outputs": [],
   "source": []
  }
 ],
 "metadata": {
  "kernelspec": {
   "display_name": "Python 3",
   "language": "python",
   "name": "python3"
  },
  "language_info": {
   "codemirror_mode": {
    "name": "ipython",
    "version": 3
   },
   "file_extension": ".py",
   "mimetype": "text/x-python",
   "name": "python",
   "nbconvert_exporter": "python",
   "pygments_lexer": "ipython3",
   "version": "3.7.3"
  },
  "widgets": {
   "application/vnd.jupyter.widget-state+json": {
    "state": {
     "26db1e31310248fb969c2de4408fab34": {
      "buffers": [
       {
        "data": "AACAPwAAAEAAAEBAAACAQAAAwH8=",
        "encoding": "base64",
        "path": [
         "_data",
         0,
         "y",
         "value"
        ]
       },
       {
        "data": "AADAfwAAgEAAAEBAAAAAQAAAgD8=",
        "encoding": "base64",
        "path": [
         "_data",
         1,
         "y",
         "value"
        ]
       },
       {
        "data": "AACAPwAAAEAAAMB/AAAAQAAAgD8=",
        "encoding": "base64",
        "path": [
         "_data",
         2,
         "y",
         "value"
        ]
       }
      ],
      "model_module": "plotlywidget",
      "model_module_version": "4.7.1",
      "model_name": "FigureModel",
      "state": {
       "_config": {
        "plotlyServerURL": "https://plot.ly"
       },
       "_data": [
        {
         "mode": "lines",
         "name": "a",
         "showlegend": true,
         "type": "scatter",
         "uid": "f82a7a93-7a5d-4ba7-bf85-20a5c618418d",
         "x": [
          "2018-01-01T00:00:00.000000",
          "2018-01-02T00:00:00.000000",
          "2018-01-03T00:00:00.000000",
          "2018-01-04T00:00:00.000000",
          "2018-01-05T00:00:00.000000"
         ],
         "y": {
          "dtype": "float32",
          "shape": [
           5
          ]
         }
        },
        {
         "mode": "lines",
         "name": "b",
         "showlegend": true,
         "type": "scatter",
         "uid": "b8e81d54-2215-42fc-ba83-3ffb1448f27c",
         "x": [
          "2018-01-01T00:00:00.000000",
          "2018-01-02T00:00:00.000000",
          "2018-01-03T00:00:00.000000",
          "2018-01-04T00:00:00.000000",
          "2018-01-05T00:00:00.000000"
         ],
         "y": {
          "dtype": "float32",
          "shape": [
           5
          ]
         }
        },
        {
         "mode": "lines",
         "name": "c",
         "showlegend": true,
         "type": "scatter",
         "uid": "08741097-adb6-404e-bde5-3d0c2dfe36bc",
         "x": [
          "2018-01-01T00:00:00.000000",
          "2018-01-02T00:00:00.000000",
          "2018-01-03T00:00:00.000000",
          "2018-01-04T00:00:00.000000",
          "2018-01-05T00:00:00.000000"
         ],
         "y": {
          "dtype": "float32",
          "shape": [
           5
          ]
         }
        }
       ],
       "_js2py_layoutDelta": {},
       "_js2py_pointsCallback": {},
       "_js2py_relayout": {},
       "_js2py_restyle": {},
       "_js2py_traceDeltas": {},
       "_js2py_update": {},
       "_last_layout_edit_id": 4,
       "_last_trace_edit_id": 4,
       "_layout": {
        "autosize": false,
        "colorway": [
         "#1f77b4",
         "#ff7f0e",
         "#2ca02c",
         "#d62728",
         "#9467bd",
         "#8c564b",
         "#e377c2",
         "#7f7f7f",
         "#bcbd22",
         "#17becf"
        ],
        "height": 300,
        "hovermode": "closest",
        "margin": {
         "b": 30,
         "t": 30
        },
        "template": {
         "data": {
          "bar": [
           {
            "error_x": {
             "color": "#2a3f5f"
            },
            "error_y": {
             "color": "#2a3f5f"
            },
            "marker": {
             "line": {
              "color": "#E5ECF6",
              "width": 0.5
             }
            },
            "type": "bar"
           }
          ],
          "barpolar": [
           {
            "marker": {
             "line": {
              "color": "#E5ECF6",
              "width": 0.5
             }
            },
            "type": "barpolar"
           }
          ],
          "carpet": [
           {
            "aaxis": {
             "endlinecolor": "#2a3f5f",
             "gridcolor": "white",
             "linecolor": "white",
             "minorgridcolor": "white",
             "startlinecolor": "#2a3f5f"
            },
            "baxis": {
             "endlinecolor": "#2a3f5f",
             "gridcolor": "white",
             "linecolor": "white",
             "minorgridcolor": "white",
             "startlinecolor": "#2a3f5f"
            },
            "type": "carpet"
           }
          ],
          "choropleth": [
           {
            "colorbar": {
             "outlinewidth": 0,
             "ticks": ""
            },
            "type": "choropleth"
           }
          ],
          "contour": [
           {
            "colorbar": {
             "outlinewidth": 0,
             "ticks": ""
            },
            "colorscale": [
             [
              0,
              "#0d0887"
             ],
             [
              0.1111111111111111,
              "#46039f"
             ],
             [
              0.2222222222222222,
              "#7201a8"
             ],
             [
              0.3333333333333333,
              "#9c179e"
             ],
             [
              0.4444444444444444,
              "#bd3786"
             ],
             [
              0.5555555555555556,
              "#d8576b"
             ],
             [
              0.6666666666666666,
              "#ed7953"
             ],
             [
              0.7777777777777778,
              "#fb9f3a"
             ],
             [
              0.8888888888888888,
              "#fdca26"
             ],
             [
              1,
              "#f0f921"
             ]
            ],
            "type": "contour"
           }
          ],
          "contourcarpet": [
           {
            "colorbar": {
             "outlinewidth": 0,
             "ticks": ""
            },
            "type": "contourcarpet"
           }
          ],
          "heatmap": [
           {
            "colorbar": {
             "outlinewidth": 0,
             "ticks": ""
            },
            "colorscale": [
             [
              0,
              "#0d0887"
             ],
             [
              0.1111111111111111,
              "#46039f"
             ],
             [
              0.2222222222222222,
              "#7201a8"
             ],
             [
              0.3333333333333333,
              "#9c179e"
             ],
             [
              0.4444444444444444,
              "#bd3786"
             ],
             [
              0.5555555555555556,
              "#d8576b"
             ],
             [
              0.6666666666666666,
              "#ed7953"
             ],
             [
              0.7777777777777778,
              "#fb9f3a"
             ],
             [
              0.8888888888888888,
              "#fdca26"
             ],
             [
              1,
              "#f0f921"
             ]
            ],
            "type": "heatmap"
           }
          ],
          "heatmapgl": [
           {
            "colorbar": {
             "outlinewidth": 0,
             "ticks": ""
            },
            "colorscale": [
             [
              0,
              "#0d0887"
             ],
             [
              0.1111111111111111,
              "#46039f"
             ],
             [
              0.2222222222222222,
              "#7201a8"
             ],
             [
              0.3333333333333333,
              "#9c179e"
             ],
             [
              0.4444444444444444,
              "#bd3786"
             ],
             [
              0.5555555555555556,
              "#d8576b"
             ],
             [
              0.6666666666666666,
              "#ed7953"
             ],
             [
              0.7777777777777778,
              "#fb9f3a"
             ],
             [
              0.8888888888888888,
              "#fdca26"
             ],
             [
              1,
              "#f0f921"
             ]
            ],
            "type": "heatmapgl"
           }
          ],
          "histogram": [
           {
            "marker": {
             "colorbar": {
              "outlinewidth": 0,
              "ticks": ""
             }
            },
            "type": "histogram"
           }
          ],
          "histogram2d": [
           {
            "colorbar": {
             "outlinewidth": 0,
             "ticks": ""
            },
            "colorscale": [
             [
              0,
              "#0d0887"
             ],
             [
              0.1111111111111111,
              "#46039f"
             ],
             [
              0.2222222222222222,
              "#7201a8"
             ],
             [
              0.3333333333333333,
              "#9c179e"
             ],
             [
              0.4444444444444444,
              "#bd3786"
             ],
             [
              0.5555555555555556,
              "#d8576b"
             ],
             [
              0.6666666666666666,
              "#ed7953"
             ],
             [
              0.7777777777777778,
              "#fb9f3a"
             ],
             [
              0.8888888888888888,
              "#fdca26"
             ],
             [
              1,
              "#f0f921"
             ]
            ],
            "type": "histogram2d"
           }
          ],
          "histogram2dcontour": [
           {
            "colorbar": {
             "outlinewidth": 0,
             "ticks": ""
            },
            "colorscale": [
             [
              0,
              "#0d0887"
             ],
             [
              0.1111111111111111,
              "#46039f"
             ],
             [
              0.2222222222222222,
              "#7201a8"
             ],
             [
              0.3333333333333333,
              "#9c179e"
             ],
             [
              0.4444444444444444,
              "#bd3786"
             ],
             [
              0.5555555555555556,
              "#d8576b"
             ],
             [
              0.6666666666666666,
              "#ed7953"
             ],
             [
              0.7777777777777778,
              "#fb9f3a"
             ],
             [
              0.8888888888888888,
              "#fdca26"
             ],
             [
              1,
              "#f0f921"
             ]
            ],
            "type": "histogram2dcontour"
           }
          ],
          "mesh3d": [
           {
            "colorbar": {
             "outlinewidth": 0,
             "ticks": ""
            },
            "type": "mesh3d"
           }
          ],
          "parcoords": [
           {
            "line": {
             "colorbar": {
              "outlinewidth": 0,
              "ticks": ""
             }
            },
            "type": "parcoords"
           }
          ],
          "pie": [
           {
            "automargin": true,
            "type": "pie"
           }
          ],
          "scatter": [
           {
            "marker": {
             "colorbar": {
              "outlinewidth": 0,
              "ticks": ""
             }
            },
            "type": "scatter"
           }
          ],
          "scatter3d": [
           {
            "line": {
             "colorbar": {
              "outlinewidth": 0,
              "ticks": ""
             }
            },
            "marker": {
             "colorbar": {
              "outlinewidth": 0,
              "ticks": ""
             }
            },
            "type": "scatter3d"
           }
          ],
          "scattercarpet": [
           {
            "marker": {
             "colorbar": {
              "outlinewidth": 0,
              "ticks": ""
             }
            },
            "type": "scattercarpet"
           }
          ],
          "scattergeo": [
           {
            "marker": {
             "colorbar": {
              "outlinewidth": 0,
              "ticks": ""
             }
            },
            "type": "scattergeo"
           }
          ],
          "scattergl": [
           {
            "marker": {
             "colorbar": {
              "outlinewidth": 0,
              "ticks": ""
             }
            },
            "type": "scattergl"
           }
          ],
          "scattermapbox": [
           {
            "marker": {
             "colorbar": {
              "outlinewidth": 0,
              "ticks": ""
             }
            },
            "type": "scattermapbox"
           }
          ],
          "scatterpolar": [
           {
            "marker": {
             "colorbar": {
              "outlinewidth": 0,
              "ticks": ""
             }
            },
            "type": "scatterpolar"
           }
          ],
          "scatterpolargl": [
           {
            "marker": {
             "colorbar": {
              "outlinewidth": 0,
              "ticks": ""
             }
            },
            "type": "scatterpolargl"
           }
          ],
          "scatterternary": [
           {
            "marker": {
             "colorbar": {
              "outlinewidth": 0,
              "ticks": ""
             }
            },
            "type": "scatterternary"
           }
          ],
          "surface": [
           {
            "colorbar": {
             "outlinewidth": 0,
             "ticks": ""
            },
            "colorscale": [
             [
              0,
              "#0d0887"
             ],
             [
              0.1111111111111111,
              "#46039f"
             ],
             [
              0.2222222222222222,
              "#7201a8"
             ],
             [
              0.3333333333333333,
              "#9c179e"
             ],
             [
              0.4444444444444444,
              "#bd3786"
             ],
             [
              0.5555555555555556,
              "#d8576b"
             ],
             [
              0.6666666666666666,
              "#ed7953"
             ],
             [
              0.7777777777777778,
              "#fb9f3a"
             ],
             [
              0.8888888888888888,
              "#fdca26"
             ],
             [
              1,
              "#f0f921"
             ]
            ],
            "type": "surface"
           }
          ],
          "table": [
           {
            "cells": {
             "fill": {
              "color": "#EBF0F8"
             },
             "line": {
              "color": "white"
             }
            },
            "header": {
             "fill": {
              "color": "#C8D4E3"
             },
             "line": {
              "color": "white"
             }
            },
            "type": "table"
           }
          ]
         },
         "layout": {
          "annotationdefaults": {
           "arrowcolor": "#2a3f5f",
           "arrowhead": 0,
           "arrowwidth": 1
          },
          "coloraxis": {
           "colorbar": {
            "outlinewidth": 0,
            "ticks": ""
           }
          },
          "colorscale": {
           "diverging": [
            [
             0,
             "#8e0152"
            ],
            [
             0.1,
             "#c51b7d"
            ],
            [
             0.2,
             "#de77ae"
            ],
            [
             0.3,
             "#f1b6da"
            ],
            [
             0.4,
             "#fde0ef"
            ],
            [
             0.5,
             "#f7f7f7"
            ],
            [
             0.6,
             "#e6f5d0"
            ],
            [
             0.7,
             "#b8e186"
            ],
            [
             0.8,
             "#7fbc41"
            ],
            [
             0.9,
             "#4d9221"
            ],
            [
             1,
             "#276419"
            ]
           ],
           "sequential": [
            [
             0,
             "#0d0887"
            ],
            [
             0.1111111111111111,
             "#46039f"
            ],
            [
             0.2222222222222222,
             "#7201a8"
            ],
            [
             0.3333333333333333,
             "#9c179e"
            ],
            [
             0.4444444444444444,
             "#bd3786"
            ],
            [
             0.5555555555555556,
             "#d8576b"
            ],
            [
             0.6666666666666666,
             "#ed7953"
            ],
            [
             0.7777777777777778,
             "#fb9f3a"
            ],
            [
             0.8888888888888888,
             "#fdca26"
            ],
            [
             1,
             "#f0f921"
            ]
           ],
           "sequentialminus": [
            [
             0,
             "#0d0887"
            ],
            [
             0.1111111111111111,
             "#46039f"
            ],
            [
             0.2222222222222222,
             "#7201a8"
            ],
            [
             0.3333333333333333,
             "#9c179e"
            ],
            [
             0.4444444444444444,
             "#bd3786"
            ],
            [
             0.5555555555555556,
             "#d8576b"
            ],
            [
             0.6666666666666666,
             "#ed7953"
            ],
            [
             0.7777777777777778,
             "#fb9f3a"
            ],
            [
             0.8888888888888888,
             "#fdca26"
            ],
            [
             1,
             "#f0f921"
            ]
           ]
          },
          "colorway": [
           "#636efa",
           "#EF553B",
           "#00cc96",
           "#ab63fa",
           "#FFA15A",
           "#19d3f3",
           "#FF6692",
           "#B6E880",
           "#FF97FF",
           "#FECB52"
          ],
          "font": {
           "color": "#2a3f5f"
          },
          "geo": {
           "bgcolor": "white",
           "lakecolor": "white",
           "landcolor": "#E5ECF6",
           "showlakes": true,
           "showland": true,
           "subunitcolor": "white"
          },
          "hoverlabel": {
           "align": "left"
          },
          "hovermode": "closest",
          "mapbox": {
           "style": "light"
          },
          "paper_bgcolor": "white",
          "plot_bgcolor": "#E5ECF6",
          "polar": {
           "angularaxis": {
            "gridcolor": "white",
            "linecolor": "white",
            "ticks": ""
           },
           "bgcolor": "#E5ECF6",
           "radialaxis": {
            "gridcolor": "white",
            "linecolor": "white",
            "ticks": ""
           }
          },
          "scene": {
           "xaxis": {
            "backgroundcolor": "#E5ECF6",
            "gridcolor": "white",
            "gridwidth": 2,
            "linecolor": "white",
            "showbackground": true,
            "ticks": "",
            "zerolinecolor": "white"
           },
           "yaxis": {
            "backgroundcolor": "#E5ECF6",
            "gridcolor": "white",
            "gridwidth": 2,
            "linecolor": "white",
            "showbackground": true,
            "ticks": "",
            "zerolinecolor": "white"
           },
           "zaxis": {
            "backgroundcolor": "#E5ECF6",
            "gridcolor": "white",
            "gridwidth": 2,
            "linecolor": "white",
            "showbackground": true,
            "ticks": "",
            "zerolinecolor": "white"
           }
          },
          "shapedefaults": {
           "line": {
            "color": "#2a3f5f"
           }
          },
          "ternary": {
           "aaxis": {
            "gridcolor": "white",
            "linecolor": "white",
            "ticks": ""
           },
           "baxis": {
            "gridcolor": "white",
            "linecolor": "white",
            "ticks": ""
           },
           "bgcolor": "#E5ECF6",
           "caxis": {
            "gridcolor": "white",
            "linecolor": "white",
            "ticks": ""
           }
          },
          "title": {
           "x": 0.05
          },
          "xaxis": {
           "automargin": true,
           "gridcolor": "white",
           "linecolor": "white",
           "ticks": "",
           "title": {
            "standoff": 15
           },
           "zerolinecolor": "white",
           "zerolinewidth": 2
          },
          "yaxis": {
           "automargin": true,
           "gridcolor": "white",
           "linecolor": "white",
           "ticks": "",
           "title": {
            "standoff": 15
           },
           "zerolinecolor": "white",
           "zerolinewidth": 2
          }
         }
        },
        "width": 700
       },
       "_model_module_version": "4.7.1",
       "_py2js_animate": {},
       "_py2js_deleteTraces": {},
       "_py2js_moveTraces": {},
       "_py2js_removeLayoutProps": {},
       "_py2js_removeTraceProps": {},
       "_py2js_restyle": {},
       "_view_count": 0,
       "_view_module_version": "4.7.1"
      }
     },
     "30ff582dff5f417e88bf6f039a730aea": {
      "buffers": [
       {
        "data": "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",
        "encoding": "base64",
        "path": [
         "_data",
         0,
         "close",
         "value"
        ]
       },
       {
        "data": "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",
        "encoding": "base64",
        "path": [
         "_data",
         0,
         "high",
         "value"
        ]
       },
       {
        "data": "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",
        "encoding": "base64",
        "path": [
         "_data",
         0,
         "low",
         "value"
        ]
       },
       {
        "data": "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",
        "encoding": "base64",
        "path": [
         "_data",
         0,
         "open",
         "value"
        ]
       },
       {
        "data": "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",
        "encoding": "base64",
        "path": [
         "_data",
         1,
         "y",
         "value"
        ]
       }
      ],
      "model_module": "plotlywidget",
      "model_module_version": "4.7.1",
      "model_name": "FigureModel",
      "state": {
       "_config": {
        "plotlyServerURL": "https://plot.ly"
       },
       "_data": [
        {
         "close": {
          "dtype": "float64",
          "shape": [
           1000
          ]
         },
         "high": {
          "dtype": "float64",
          "shape": [
           1000
          ]
         },
         "low": {
          "dtype": "float64",
          "shape": [
           1000
          ]
         },
         "name": "OHLC",
         "open": {
          "dtype": "float64",
          "shape": [
           1000
          ]
         },
         "type": "candlestick",
         "uid": "d5959e0d-6ad0-42a0-ac60-c5c8e4a0fbdb",
         "x": [
          "2018-01-01T00:00:00.000000",
          "2018-01-02T00:00:00.000000",
          "2018-01-03T00:00:00.000000",
          "2018-01-04T00:00:00.000000",
          "2018-01-05T00:00:00.000000",
          "2018-01-06T00:00:00.000000",
          "2018-01-07T00:00:00.000000",
          "2018-01-08T00:00:00.000000",
          "2018-01-09T00:00:00.000000",
          "2018-01-10T00:00:00.000000",
          "2018-01-11T00:00:00.000000",
          "2018-01-12T00:00:00.000000",
          "2018-01-13T00:00:00.000000",
          "2018-01-14T00:00:00.000000",
          "2018-01-15T00:00:00.000000",
          "2018-01-16T00:00:00.000000",
          "2018-01-17T00:00:00.000000",
          "2018-01-18T00:00:00.000000",
          "2018-01-19T00:00:00.000000",
          "2018-01-20T00:00:00.000000",
          "2018-01-21T00:00:00.000000",
          "2018-01-22T00:00:00.000000",
          "2018-01-23T00:00:00.000000",
          "2018-01-24T00:00:00.000000",
          "2018-01-25T00:00:00.000000",
          "2018-01-26T00:00:00.000000",
          "2018-01-27T00:00:00.000000",
          "2018-01-28T00:00:00.000000",
          "2018-01-29T00:00:00.000000",
          "2018-01-30T00:00:00.000000",
          "2018-01-31T00:00:00.000000",
          "2018-02-01T00:00:00.000000",
          "2018-02-02T00:00:00.000000",
          "2018-02-03T00:00:00.000000",
          "2018-02-04T00:00:00.000000",
          "2018-02-05T00:00:00.000000",
          "2018-02-06T00:00:00.000000",
          "2018-02-07T00:00:00.000000",
          "2018-02-08T00:00:00.000000",
          "2018-02-09T00:00:00.000000",
          "2018-02-10T00:00:00.000000",
          "2018-02-11T00:00:00.000000",
          "2018-02-12T00:00:00.000000",
          "2018-02-13T00:00:00.000000",
          "2018-02-14T00:00:00.000000",
          "2018-02-15T00:00:00.000000",
          "2018-02-16T00:00:00.000000",
          "2018-02-17T00:00:00.000000",
          "2018-02-18T00:00:00.000000",
          "2018-02-19T00:00:00.000000",
          "2018-02-20T00:00:00.000000",
          "2018-02-21T00:00:00.000000",
          "2018-02-22T00:00:00.000000",
          "2018-02-23T00:00:00.000000",
          "2018-02-24T00:00:00.000000",
          "2018-02-25T00:00:00.000000",
          "2018-02-26T00:00:00.000000",
          "2018-02-27T00:00:00.000000",
          "2018-02-28T00:00:00.000000",
          "2018-03-01T00:00:00.000000",
          "2018-03-02T00:00:00.000000",
          "2018-03-03T00:00:00.000000",
          "2018-03-04T00:00:00.000000",
          "2018-03-05T00:00:00.000000",
          "2018-03-06T00:00:00.000000",
          "2018-03-07T00:00:00.000000",
          "2018-03-08T00:00:00.000000",
          "2018-03-09T00:00:00.000000",
          "2018-03-10T00:00:00.000000",
          "2018-03-11T00:00:00.000000",
          "2018-03-12T00:00:00.000000",
          "2018-03-13T00:00:00.000000",
          "2018-03-14T00:00:00.000000",
          "2018-03-15T00:00:00.000000",
          "2018-03-16T00:00:00.000000",
          "2018-03-17T00:00:00.000000",
          "2018-03-18T00:00:00.000000",
          "2018-03-19T00:00:00.000000",
          "2018-03-20T00:00:00.000000",
          "2018-03-21T00:00:00.000000",
          "2018-03-22T00:00:00.000000",
          "2018-03-23T00:00:00.000000",
          "2018-03-24T00:00:00.000000",
          "2018-03-25T00:00:00.000000",
          "2018-03-26T00:00:00.000000",
          "2018-03-27T00:00:00.000000",
          "2018-03-28T00:00:00.000000",
          "2018-03-29T00:00:00.000000",
          "2018-03-30T00:00:00.000000",
          "2018-03-31T00:00:00.000000",
          "2018-04-01T00:00:00.000000",
          "2018-04-02T00:00:00.000000",
          "2018-04-03T00:00:00.000000",
          "2018-04-04T00:00:00.000000",
          "2018-04-05T00:00:00.000000",
          "2018-04-06T00:00:00.000000",
          "2018-04-07T00:00:00.000000",
          "2018-04-08T00:00:00.000000",
          "2018-04-09T00:00:00.000000",
          "2018-04-10T00:00:00.000000",
          "2018-04-11T00:00:00.000000",
          "2018-04-12T00:00:00.000000",
          "2018-04-13T00:00:00.000000",
          "2018-04-14T00:00:00.000000",
          "2018-04-15T00:00:00.000000",
          "2018-04-16T00:00:00.000000",
          "2018-04-17T00:00:00.000000",
          "2018-04-18T00:00:00.000000",
          "2018-04-19T00:00:00.000000",
          "2018-04-20T00:00:00.000000",
          "2018-04-21T00:00:00.000000",
          "2018-04-22T00:00:00.000000",
          "2018-04-23T00:00:00.000000",
          "2018-04-24T00:00:00.000000",
          "2018-04-25T00:00:00.000000",
          "2018-04-26T00:00:00.000000",
          "2018-04-27T00:00:00.000000",
          "2018-04-28T00:00:00.000000",
          "2018-04-29T00:00:00.000000",
          "2018-04-30T00:00:00.000000",
          "2018-05-01T00:00:00.000000",
          "2018-05-02T00:00:00.000000",
          "2018-05-03T00:00:00.000000",
          "2018-05-04T00:00:00.000000",
          "2018-05-05T00:00:00.000000",
          "2018-05-06T00:00:00.000000",
          "2018-05-07T00:00:00.000000",
          "2018-05-08T00:00:00.000000",
          "2018-05-09T00:00:00.000000",
          "2018-05-10T00:00:00.000000",
          "2018-05-11T00:00:00.000000",
          "2018-05-12T00:00:00.000000",
          "2018-05-13T00:00:00.000000",
          "2018-05-14T00:00:00.000000",
          "2018-05-15T00:00:00.000000",
          "2018-05-16T00:00:00.000000",
          "2018-05-17T00:00:00.000000",
          "2018-05-18T00:00:00.000000",
          "2018-05-19T00:00:00.000000",
          "2018-05-20T00:00:00.000000",
          "2018-05-21T00:00:00.000000",
          "2018-05-22T00:00:00.000000",
          "2018-05-23T00:00:00.000000",
          "2018-05-24T00:00:00.000000",
          "2018-05-25T00:00:00.000000",
          "2018-05-26T00:00:00.000000",
          "2018-05-27T00:00:00.000000",
          "2018-05-28T00:00:00.000000",
          "2018-05-29T00:00:00.000000",
          "2018-05-30T00:00:00.000000",
          "2018-05-31T00:00:00.000000",
          "2018-06-01T00:00:00.000000",
          "2018-06-02T00:00:00.000000",
          "2018-06-03T00:00:00.000000",
          "2018-06-04T00:00:00.000000",
          "2018-06-05T00:00:00.000000",
          "2018-06-06T00:00:00.000000",
          "2018-06-07T00:00:00.000000",
          "2018-06-08T00:00:00.000000",
          "2018-06-09T00:00:00.000000",
          "2018-06-10T00:00:00.000000",
          "2018-06-11T00:00:00.000000",
          "2018-06-12T00:00:00.000000",
          "2018-06-13T00:00:00.000000",
          "2018-06-14T00:00:00.000000",
          "2018-06-15T00:00:00.000000",
          "2018-06-16T00:00:00.000000",
          "2018-06-17T00:00:00.000000",
          "2018-06-18T00:00:00.000000",
          "2018-06-19T00:00:00.000000",
          "2018-06-20T00:00:00.000000",
          "2018-06-21T00:00:00.000000",
          "2018-06-22T00:00:00.000000",
          "2018-06-23T00:00:00.000000",
          "2018-06-24T00:00:00.000000",
          "2018-06-25T00:00:00.000000",
          "2018-06-26T00:00:00.000000",
          "2018-06-27T00:00:00.000000",
          "2018-06-28T00:00:00.000000",
          "2018-06-29T00:00:00.000000",
          "2018-06-30T00:00:00.000000",
          "2018-07-01T00:00:00.000000",
          "2018-07-02T00:00:00.000000",
          "2018-07-03T00:00:00.000000",
          "2018-07-04T00:00:00.000000",
          "2018-07-05T00:00:00.000000",
          "2018-07-06T00:00:00.000000",
          "2018-07-07T00:00:00.000000",
          "2018-07-08T00:00:00.000000",
          "2018-07-09T00:00:00.000000",
          "2018-07-10T00:00:00.000000",
          "2018-07-11T00:00:00.000000",
          "2018-07-12T00:00:00.000000",
          "2018-07-13T00:00:00.000000",
          "2018-07-14T00:00:00.000000",
          "2018-07-15T00:00:00.000000",
          "2018-07-16T00:00:00.000000",
          "2018-07-17T00:00:00.000000",
          "2018-07-18T00:00:00.000000",
          "2018-07-19T00:00:00.000000",
          "2018-07-20T00:00:00.000000",
          "2018-07-21T00:00:00.000000",
          "2018-07-22T00:00:00.000000",
          "2018-07-23T00:00:00.000000",
          "2018-07-24T00:00:00.000000",
          "2018-07-25T00:00:00.000000",
          "2018-07-26T00:00:00.000000",
          "2018-07-27T00:00:00.000000",
          "2018-07-28T00:00:00.000000",
          "2018-07-29T00:00:00.000000",
          "2018-07-30T00:00:00.000000",
          "2018-07-31T00:00:00.000000",
          "2018-08-01T00:00:00.000000",
          "2018-08-02T00:00:00.000000",
          "2018-08-03T00:00:00.000000",
          "2018-08-04T00:00:00.000000",
          "2018-08-05T00:00:00.000000",
          "2018-08-06T00:00:00.000000",
          "2018-08-07T00:00:00.000000",
          "2018-08-08T00:00:00.000000",
          "2018-08-09T00:00:00.000000",
          "2018-08-10T00:00:00.000000",
          "2018-08-11T00:00:00.000000",
          "2018-08-12T00:00:00.000000",
          "2018-08-13T00:00:00.000000",
          "2018-08-14T00:00:00.000000",
          "2018-08-15T00:00:00.000000",
          "2018-08-16T00:00:00.000000",
          "2018-08-17T00:00:00.000000",
          "2018-08-18T00:00:00.000000",
          "2018-08-19T00:00:00.000000",
          "2018-08-20T00:00:00.000000",
          "2018-08-21T00:00:00.000000",
          "2018-08-22T00:00:00.000000",
          "2018-08-23T00:00:00.000000",
          "2018-08-24T00:00:00.000000",
          "2018-08-25T00:00:00.000000",
          "2018-08-26T00:00:00.000000",
          "2018-08-27T00:00:00.000000",
          "2018-08-28T00:00:00.000000",
          "2018-08-29T00:00:00.000000",
          "2018-08-30T00:00:00.000000",
          "2018-08-31T00:00:00.000000",
          "2018-09-01T00:00:00.000000",
          "2018-09-02T00:00:00.000000",
          "2018-09-03T00:00:00.000000",
          "2018-09-04T00:00:00.000000",
          "2018-09-05T00:00:00.000000",
          "2018-09-06T00:00:00.000000",
          "2018-09-07T00:00:00.000000",
          "2018-09-08T00:00:00.000000",
          "2018-09-09T00:00:00.000000",
          "2018-09-10T00:00:00.000000",
          "2018-09-11T00:00:00.000000",
          "2018-09-12T00:00:00.000000",
          "2018-09-13T00:00:00.000000",
          "2018-09-14T00:00:00.000000",
          "2018-09-15T00:00:00.000000",
          "2018-09-16T00:00:00.000000",
          "2018-09-17T00:00:00.000000",
          "2018-09-18T00:00:00.000000",
          "2018-09-19T00:00:00.000000",
          "2018-09-20T00:00:00.000000",
          "2018-09-21T00:00:00.000000",
          "2018-09-22T00:00:00.000000",
          "2018-09-23T00:00:00.000000",
          "2018-09-24T00:00:00.000000",
          "2018-09-25T00:00:00.000000",
          "2018-09-26T00:00:00.000000",
          "2018-09-27T00:00:00.000000",
          "2018-09-28T00:00:00.000000",
          "2018-09-29T00:00:00.000000",
          "2018-09-30T00:00:00.000000",
          "2018-10-01T00:00:00.000000",
          "2018-10-02T00:00:00.000000",
          "2018-10-03T00:00:00.000000",
          "2018-10-04T00:00:00.000000",
          "2018-10-05T00:00:00.000000",
          "2018-10-06T00:00:00.000000",
          "2018-10-07T00:00:00.000000",
          "2018-10-08T00:00:00.000000",
          "2018-10-09T00:00:00.000000",
          "2018-10-10T00:00:00.000000",
          "2018-10-11T00:00:00.000000",
          "2018-10-12T00:00:00.000000",
          "2018-10-13T00:00:00.000000",
          "2018-10-14T00:00:00.000000",
          "2018-10-15T00:00:00.000000",
          "2018-10-16T00:00:00.000000",
          "2018-10-17T00:00:00.000000",
          "2018-10-18T00:00:00.000000",
          "2018-10-19T00:00:00.000000",
          "2018-10-20T00:00:00.000000",
          "2018-10-21T00:00:00.000000",
          "2018-10-22T00:00:00.000000",
          "2018-10-23T00:00:00.000000",
          "2018-10-24T00:00:00.000000",
          "2018-10-25T00:00:00.000000",
          "2018-10-26T00:00:00.000000",
          "2018-10-27T00:00:00.000000",
          "2018-10-28T00:00:00.000000",
          "2018-10-29T00:00:00.000000",
          "2018-10-30T00:00:00.000000",
          "2018-10-31T00:00:00.000000",
          "2018-11-01T00:00:00.000000",
          "2018-11-02T00:00:00.000000",
          "2018-11-03T00:00:00.000000",
          "2018-11-04T00:00:00.000000",
          "2018-11-05T00:00:00.000000",
          "2018-11-06T00:00:00.000000",
          "2018-11-07T00:00:00.000000",
          "2018-11-08T00:00:00.000000",
          "2018-11-09T00:00:00.000000",
          "2018-11-10T00:00:00.000000",
          "2018-11-11T00:00:00.000000",
          "2018-11-12T00:00:00.000000",
          "2018-11-13T00:00:00.000000",
          "2018-11-14T00:00:00.000000",
          "2018-11-15T00:00:00.000000",
          "2018-11-16T00:00:00.000000",
          "2018-11-17T00:00:00.000000",
          "2018-11-18T00:00:00.000000",
          "2018-11-19T00:00:00.000000",
          "2018-11-20T00:00:00.000000",
          "2018-11-21T00:00:00.000000",
          "2018-11-22T00:00:00.000000",
          "2018-11-23T00:00:00.000000",
          "2018-11-24T00:00:00.000000",
          "2018-11-25T00:00:00.000000",
          "2018-11-26T00:00:00.000000",
          "2018-11-27T00:00:00.000000",
          "2018-11-28T00:00:00.000000",
          "2018-11-29T00:00:00.000000",
          "2018-11-30T00:00:00.000000",
          "2018-12-01T00:00:00.000000",
          "2018-12-02T00:00:00.000000",
          "2018-12-03T00:00:00.000000",
          "2018-12-04T00:00:00.000000",
          "2018-12-05T00:00:00.000000",
          "2018-12-06T00:00:00.000000",
          "2018-12-07T00:00:00.000000",
          "2018-12-08T00:00:00.000000",
          "2018-12-09T00:00:00.000000",
          "2018-12-10T00:00:00.000000",
          "2018-12-11T00:00:00.000000",
          "2018-12-12T00:00:00.000000",
          "2018-12-13T00:00:00.000000",
          "2018-12-14T00:00:00.000000",
          "2018-12-15T00:00:00.000000",
          "2018-12-16T00:00:00.000000",
          "2018-12-17T00:00:00.000000",
          "2018-12-18T00:00:00.000000",
          "2018-12-19T00:00:00.000000",
          "2018-12-20T00:00:00.000000",
          "2018-12-21T00:00:00.000000",
          "2018-12-22T00:00:00.000000",
          "2018-12-23T00:00:00.000000",
          "2018-12-24T00:00:00.000000",
          "2018-12-25T00:00:00.000000",
          "2018-12-26T00:00:00.000000",
          "2018-12-27T00:00:00.000000",
          "2018-12-28T00:00:00.000000",
          "2018-12-29T00:00:00.000000",
          "2018-12-30T00:00:00.000000",
          "2018-12-31T00:00:00.000000",
          "2019-01-01T00:00:00.000000",
          "2019-01-02T00:00:00.000000",
          "2019-01-03T00:00:00.000000",
          "2019-01-04T00:00:00.000000",
          "2019-01-05T00:00:00.000000",
          "2019-01-06T00:00:00.000000",
          "2019-01-07T00:00:00.000000",
          "2019-01-08T00:00:00.000000",
          "2019-01-09T00:00:00.000000",
          "2019-01-10T00:00:00.000000",
          "2019-01-11T00:00:00.000000",
          "2019-01-12T00:00:00.000000",
          "2019-01-13T00:00:00.000000",
          "2019-01-14T00:00:00.000000",
          "2019-01-15T00:00:00.000000",
          "2019-01-16T00:00:00.000000",
          "2019-01-17T00:00:00.000000",
          "2019-01-18T00:00:00.000000",
          "2019-01-19T00:00:00.000000",
          "2019-01-20T00:00:00.000000",
          "2019-01-21T00:00:00.000000",
          "2019-01-22T00:00:00.000000",
          "2019-01-23T00:00:00.000000",
          "2019-01-24T00:00:00.000000",
          "2019-01-25T00:00:00.000000",
          "2019-01-26T00:00:00.000000",
          "2019-01-27T00:00:00.000000",
          "2019-01-28T00:00:00.000000",
          "2019-01-29T00:00:00.000000",
          "2019-01-30T00:00:00.000000",
          "2019-01-31T00:00:00.000000",
          "2019-02-01T00:00:00.000000",
          "2019-02-02T00:00:00.000000",
          "2019-02-03T00:00:00.000000",
          "2019-02-04T00:00:00.000000",
          "2019-02-05T00:00:00.000000",
          "2019-02-06T00:00:00.000000",
          "2019-02-07T00:00:00.000000",
          "2019-02-08T00:00:00.000000",
          "2019-02-09T00:00:00.000000",
          "2019-02-10T00:00:00.000000",
          "2019-02-11T00:00:00.000000",
          "2019-02-12T00:00:00.000000",
          "2019-02-13T00:00:00.000000",
          "2019-02-14T00:00:00.000000",
          "2019-02-15T00:00:00.000000",
          "2019-02-16T00:00:00.000000",
          "2019-02-17T00:00:00.000000",
          "2019-02-18T00:00:00.000000",
          "2019-02-19T00:00:00.000000",
          "2019-02-20T00:00:00.000000",
          "2019-02-21T00:00:00.000000",
          "2019-02-22T00:00:00.000000",
          "2019-02-23T00:00:00.000000",
          "2019-02-24T00:00:00.000000",
          "2019-02-25T00:00:00.000000",
          "2019-02-26T00:00:00.000000",
          "2019-02-27T00:00:00.000000",
          "2019-02-28T00:00:00.000000",
          "2019-03-01T00:00:00.000000",
          "2019-03-02T00:00:00.000000",
          "2019-03-03T00:00:00.000000",
          "2019-03-04T00:00:00.000000",
          "2019-03-05T00:00:00.000000",
          "2019-03-06T00:00:00.000000",
          "2019-03-07T00:00:00.000000",
          "2019-03-08T00:00:00.000000",
          "2019-03-09T00:00:00.000000",
          "2019-03-10T00:00:00.000000",
          "2019-03-11T00:00:00.000000",
          "2019-03-12T00:00:00.000000",
          "2019-03-13T00:00:00.000000",
          "2019-03-14T00:00:00.000000",
          "2019-03-15T00:00:00.000000",
          "2019-03-16T00:00:00.000000",
          "2019-03-17T00:00:00.000000",
          "2019-03-18T00:00:00.000000",
          "2019-03-19T00:00:00.000000",
          "2019-03-20T00:00:00.000000",
          "2019-03-21T00:00:00.000000",
          "2019-03-22T00:00:00.000000",
          "2019-03-23T00:00:00.000000",
          "2019-03-24T00:00:00.000000",
          "2019-03-25T00:00:00.000000",
          "2019-03-26T00:00:00.000000",
          "2019-03-27T00:00:00.000000",
          "2019-03-28T00:00:00.000000",
          "2019-03-29T00:00:00.000000",
          "2019-03-30T00:00:00.000000",
          "2019-03-31T00:00:00.000000",
          "2019-04-01T00:00:00.000000",
          "2019-04-02T00:00:00.000000",
          "2019-04-03T00:00:00.000000",
          "2019-04-04T00:00:00.000000",
          "2019-04-05T00:00:00.000000",
          "2019-04-06T00:00:00.000000",
          "2019-04-07T00:00:00.000000",
          "2019-04-08T00:00:00.000000",
          "2019-04-09T00:00:00.000000",
          "2019-04-10T00:00:00.000000",
          "2019-04-11T00:00:00.000000",
          "2019-04-12T00:00:00.000000",
          "2019-04-13T00:00:00.000000",
          "2019-04-14T00:00:00.000000",
          "2019-04-15T00:00:00.000000",
          "2019-04-16T00:00:00.000000",
          "2019-04-17T00:00:00.000000",
          "2019-04-18T00:00:00.000000",
          "2019-04-19T00:00:00.000000",
          "2019-04-20T00:00:00.000000",
          "2019-04-21T00:00:00.000000",
          "2019-04-22T00:00:00.000000",
          "2019-04-23T00:00:00.000000",
          "2019-04-24T00:00:00.000000",
          "2019-04-25T00:00:00.000000",
          "2019-04-26T00:00:00.000000",
          "2019-04-27T00:00:00.000000",
          "2019-04-28T00:00:00.000000",
          "2019-04-29T00:00:00.000000",
          "2019-04-30T00:00:00.000000",
          "2019-05-01T00:00:00.000000",
          "2019-05-02T00:00:00.000000",
          "2019-05-03T00:00:00.000000",
          "2019-05-04T00:00:00.000000",
          "2019-05-05T00:00:00.000000",
          "2019-05-06T00:00:00.000000",
          "2019-05-07T00:00:00.000000",
          "2019-05-08T00:00:00.000000",
          "2019-05-09T00:00:00.000000",
          "2019-05-10T00:00:00.000000",
          "2019-05-11T00:00:00.000000",
          "2019-05-12T00:00:00.000000",
          "2019-05-13T00:00:00.000000",
          "2019-05-14T00:00:00.000000",
          "2019-05-15T00:00:00.000000",
          "2019-05-16T00:00:00.000000",
          "2019-05-17T00:00:00.000000",
          "2019-05-18T00:00:00.000000",
          "2019-05-19T00:00:00.000000",
          "2019-05-20T00:00:00.000000",
          "2019-05-21T00:00:00.000000",
          "2019-05-22T00:00:00.000000",
          "2019-05-23T00:00:00.000000",
          "2019-05-24T00:00:00.000000",
          "2019-05-25T00:00:00.000000",
          "2019-05-26T00:00:00.000000",
          "2019-05-27T00:00:00.000000",
          "2019-05-28T00:00:00.000000",
          "2019-05-29T00:00:00.000000",
          "2019-05-30T00:00:00.000000",
          "2019-05-31T00:00:00.000000",
          "2019-06-01T00:00:00.000000",
          "2019-06-02T00:00:00.000000",
          "2019-06-03T00:00:00.000000",
          "2019-06-04T00:00:00.000000",
          "2019-06-05T00:00:00.000000",
          "2019-06-06T00:00:00.000000",
          "2019-06-07T00:00:00.000000",
          "2019-06-08T00:00:00.000000",
          "2019-06-09T00:00:00.000000",
          "2019-06-10T00:00:00.000000",
          "2019-06-11T00:00:00.000000",
          "2019-06-12T00:00:00.000000",
          "2019-06-13T00:00:00.000000",
          "2019-06-14T00:00:00.000000",
          "2019-06-15T00:00:00.000000",
          "2019-06-16T00:00:00.000000",
          "2019-06-17T00:00:00.000000",
          "2019-06-18T00:00:00.000000",
          "2019-06-19T00:00:00.000000",
          "2019-06-20T00:00:00.000000",
          "2019-06-21T00:00:00.000000",
          "2019-06-22T00:00:00.000000",
          "2019-06-23T00:00:00.000000",
          "2019-06-24T00:00:00.000000",
          "2019-06-25T00:00:00.000000",
          "2019-06-26T00:00:00.000000",
          "2019-06-27T00:00:00.000000",
          "2019-06-28T00:00:00.000000",
          "2019-06-29T00:00:00.000000",
          "2019-06-30T00:00:00.000000",
          "2019-07-01T00:00:00.000000",
          "2019-07-02T00:00:00.000000",
          "2019-07-03T00:00:00.000000",
          "2019-07-04T00:00:00.000000",
          "2019-07-05T00:00:00.000000",
          "2019-07-06T00:00:00.000000",
          "2019-07-07T00:00:00.000000",
          "2019-07-08T00:00:00.000000",
          "2019-07-09T00:00:00.000000",
          "2019-07-10T00:00:00.000000",
          "2019-07-11T00:00:00.000000",
          "2019-07-12T00:00:00.000000",
          "2019-07-13T00:00:00.000000",
          "2019-07-14T00:00:00.000000",
          "2019-07-15T00:00:00.000000",
          "2019-07-16T00:00:00.000000",
          "2019-07-17T00:00:00.000000",
          "2019-07-18T00:00:00.000000",
          "2019-07-19T00:00:00.000000",
          "2019-07-20T00:00:00.000000",
          "2019-07-21T00:00:00.000000",
          "2019-07-22T00:00:00.000000",
          "2019-07-23T00:00:00.000000",
          "2019-07-24T00:00:00.000000",
          "2019-07-25T00:00:00.000000",
          "2019-07-26T00:00:00.000000",
          "2019-07-27T00:00:00.000000",
          "2019-07-28T00:00:00.000000",
          "2019-07-29T00:00:00.000000",
          "2019-07-30T00:00:00.000000",
          "2019-07-31T00:00:00.000000",
          "2019-08-01T00:00:00.000000",
          "2019-08-02T00:00:00.000000",
          "2019-08-03T00:00:00.000000",
          "2019-08-04T00:00:00.000000",
          "2019-08-05T00:00:00.000000",
          "2019-08-06T00:00:00.000000",
          "2019-08-07T00:00:00.000000",
          "2019-08-08T00:00:00.000000",
          "2019-08-09T00:00:00.000000",
          "2019-08-10T00:00:00.000000",
          "2019-08-11T00:00:00.000000",
          "2019-08-12T00:00:00.000000",
          "2019-08-13T00:00:00.000000",
          "2019-08-14T00:00:00.000000",
          "2019-08-15T00:00:00.000000",
          "2019-08-16T00:00:00.000000",
          "2019-08-17T00:00:00.000000",
          "2019-08-18T00:00:00.000000",
          "2019-08-19T00:00:00.000000",
          "2019-08-20T00:00:00.000000",
          "2019-08-21T00:00:00.000000",
          "2019-08-22T00:00:00.000000",
          "2019-08-23T00:00:00.000000",
          "2019-08-24T00:00:00.000000",
          "2019-08-25T00:00:00.000000",
          "2019-08-26T00:00:00.000000",
          "2019-08-27T00:00:00.000000",
          "2019-08-28T00:00:00.000000",
          "2019-08-29T00:00:00.000000",
          "2019-08-30T00:00:00.000000",
          "2019-08-31T00:00:00.000000",
          "2019-09-01T00:00:00.000000",
          "2019-09-02T00:00:00.000000",
          "2019-09-03T00:00:00.000000",
          "2019-09-04T00:00:00.000000",
          "2019-09-05T00:00:00.000000",
          "2019-09-06T00:00:00.000000",
          "2019-09-07T00:00:00.000000",
          "2019-09-08T00:00:00.000000",
          "2019-09-09T00:00:00.000000",
          "2019-09-10T00:00:00.000000",
          "2019-09-11T00:00:00.000000",
          "2019-09-12T00:00:00.000000",
          "2019-09-13T00:00:00.000000",
          "2019-09-14T00:00:00.000000",
          "2019-09-15T00:00:00.000000",
          "2019-09-16T00:00:00.000000",
          "2019-09-17T00:00:00.000000",
          "2019-09-18T00:00:00.000000",
          "2019-09-19T00:00:00.000000",
          "2019-09-20T00:00:00.000000",
          "2019-09-21T00:00:00.000000",
          "2019-09-22T00:00:00.000000",
          "2019-09-23T00:00:00.000000",
          "2019-09-24T00:00:00.000000",
          "2019-09-25T00:00:00.000000",
          "2019-09-26T00:00:00.000000",
          "2019-09-27T00:00:00.000000",
          "2019-09-28T00:00:00.000000",
          "2019-09-29T00:00:00.000000",
          "2019-09-30T00:00:00.000000",
          "2019-10-01T00:00:00.000000",
          "2019-10-02T00:00:00.000000",
          "2019-10-03T00:00:00.000000",
          "2019-10-04T00:00:00.000000",
          "2019-10-05T00:00:00.000000",
          "2019-10-06T00:00:00.000000",
          "2019-10-07T00:00:00.000000",
          "2019-10-08T00:00:00.000000",
          "2019-10-09T00:00:00.000000",
          "2019-10-10T00:00:00.000000",
          "2019-10-11T00:00:00.000000",
          "2019-10-12T00:00:00.000000",
          "2019-10-13T00:00:00.000000",
          "2019-10-14T00:00:00.000000",
          "2019-10-15T00:00:00.000000",
          "2019-10-16T00:00:00.000000",
          "2019-10-17T00:00:00.000000",
          "2019-10-18T00:00:00.000000",
          "2019-10-19T00:00:00.000000",
          "2019-10-20T00:00:00.000000",
          "2019-10-21T00:00:00.000000",
          "2019-10-22T00:00:00.000000",
          "2019-10-23T00:00:00.000000",
          "2019-10-24T00:00:00.000000",
          "2019-10-25T00:00:00.000000",
          "2019-10-26T00:00:00.000000",
          "2019-10-27T00:00:00.000000",
          "2019-10-28T00:00:00.000000",
          "2019-10-29T00:00:00.000000",
          "2019-10-30T00:00:00.000000",
          "2019-10-31T00:00:00.000000",
          "2019-11-01T00:00:00.000000",
          "2019-11-02T00:00:00.000000",
          "2019-11-03T00:00:00.000000",
          "2019-11-04T00:00:00.000000",
          "2019-11-05T00:00:00.000000",
          "2019-11-06T00:00:00.000000",
          "2019-11-07T00:00:00.000000",
          "2019-11-08T00:00:00.000000",
          "2019-11-09T00:00:00.000000",
          "2019-11-10T00:00:00.000000",
          "2019-11-11T00:00:00.000000",
          "2019-11-12T00:00:00.000000",
          "2019-11-13T00:00:00.000000",
          "2019-11-14T00:00:00.000000",
          "2019-11-15T00:00:00.000000",
          "2019-11-16T00:00:00.000000",
          "2019-11-17T00:00:00.000000",
          "2019-11-18T00:00:00.000000",
          "2019-11-19T00:00:00.000000",
          "2019-11-20T00:00:00.000000",
          "2019-11-21T00:00:00.000000",
          "2019-11-22T00:00:00.000000",
          "2019-11-23T00:00:00.000000",
          "2019-11-24T00:00:00.000000",
          "2019-11-25T00:00:00.000000",
          "2019-11-26T00:00:00.000000",
          "2019-11-27T00:00:00.000000",
          "2019-11-28T00:00:00.000000",
          "2019-11-29T00:00:00.000000",
          "2019-11-30T00:00:00.000000",
          "2019-12-01T00:00:00.000000",
          "2019-12-02T00:00:00.000000",
          "2019-12-03T00:00:00.000000",
          "2019-12-04T00:00:00.000000",
          "2019-12-05T00:00:00.000000",
          "2019-12-06T00:00:00.000000",
          "2019-12-07T00:00:00.000000",
          "2019-12-08T00:00:00.000000",
          "2019-12-09T00:00:00.000000",
          "2019-12-10T00:00:00.000000",
          "2019-12-11T00:00:00.000000",
          "2019-12-12T00:00:00.000000",
          "2019-12-13T00:00:00.000000",
          "2019-12-14T00:00:00.000000",
          "2019-12-15T00:00:00.000000",
          "2019-12-16T00:00:00.000000",
          "2019-12-17T00:00:00.000000",
          "2019-12-18T00:00:00.000000",
          "2019-12-19T00:00:00.000000",
          "2019-12-20T00:00:00.000000",
          "2019-12-21T00:00:00.000000",
          "2019-12-22T00:00:00.000000",
          "2019-12-23T00:00:00.000000",
          "2019-12-24T00:00:00.000000",
          "2019-12-25T00:00:00.000000",
          "2019-12-26T00:00:00.000000",
          "2019-12-27T00:00:00.000000",
          "2019-12-28T00:00:00.000000",
          "2019-12-29T00:00:00.000000",
          "2019-12-30T00:00:00.000000",
          "2019-12-31T00:00:00.000000",
          "2020-01-01T00:00:00.000000",
          "2020-01-02T00:00:00.000000",
          "2020-01-03T00:00:00.000000",
          "2020-01-04T00:00:00.000000",
          "2020-01-05T00:00:00.000000",
          "2020-01-06T00:00:00.000000",
          "2020-01-07T00:00:00.000000",
          "2020-01-08T00:00:00.000000",
          "2020-01-09T00:00:00.000000",
          "2020-01-10T00:00:00.000000",
          "2020-01-11T00:00:00.000000",
          "2020-01-12T00:00:00.000000",
          "2020-01-13T00:00:00.000000",
          "2020-01-14T00:00:00.000000",
          "2020-01-15T00:00:00.000000",
          "2020-01-16T00:00:00.000000",
          "2020-01-17T00:00:00.000000",
          "2020-01-18T00:00:00.000000",
          "2020-01-19T00:00:00.000000",
          "2020-01-20T00:00:00.000000",
          "2020-01-21T00:00:00.000000",
          "2020-01-22T00:00:00.000000",
          "2020-01-23T00:00:00.000000",
          "2020-01-24T00:00:00.000000",
          "2020-01-25T00:00:00.000000",
          "2020-01-26T00:00:00.000000",
          "2020-01-27T00:00:00.000000",
          "2020-01-28T00:00:00.000000",
          "2020-01-29T00:00:00.000000",
          "2020-01-30T00:00:00.000000",
          "2020-01-31T00:00:00.000000",
          "2020-02-01T00:00:00.000000",
          "2020-02-02T00:00:00.000000",
          "2020-02-03T00:00:00.000000",
          "2020-02-04T00:00:00.000000",
          "2020-02-05T00:00:00.000000",
          "2020-02-06T00:00:00.000000",
          "2020-02-07T00:00:00.000000",
          "2020-02-08T00:00:00.000000",
          "2020-02-09T00:00:00.000000",
          "2020-02-10T00:00:00.000000",
          "2020-02-11T00:00:00.000000",
          "2020-02-12T00:00:00.000000",
          "2020-02-13T00:00:00.000000",
          "2020-02-14T00:00:00.000000",
          "2020-02-15T00:00:00.000000",
          "2020-02-16T00:00:00.000000",
          "2020-02-17T00:00:00.000000",
          "2020-02-18T00:00:00.000000",
          "2020-02-19T00:00:00.000000",
          "2020-02-20T00:00:00.000000",
          "2020-02-21T00:00:00.000000",
          "2020-02-22T00:00:00.000000",
          "2020-02-23T00:00:00.000000",
          "2020-02-24T00:00:00.000000",
          "2020-02-25T00:00:00.000000",
          "2020-02-26T00:00:00.000000",
          "2020-02-27T00:00:00.000000",
          "2020-02-28T00:00:00.000000",
          "2020-02-29T00:00:00.000000",
          "2020-03-01T00:00:00.000000",
          "2020-03-02T00:00:00.000000",
          "2020-03-03T00:00:00.000000",
          "2020-03-04T00:00:00.000000",
          "2020-03-05T00:00:00.000000",
          "2020-03-06T00:00:00.000000",
          "2020-03-07T00:00:00.000000",
          "2020-03-08T00:00:00.000000",
          "2020-03-09T00:00:00.000000",
          "2020-03-10T00:00:00.000000",
          "2020-03-11T00:00:00.000000",
          "2020-03-12T00:00:00.000000",
          "2020-03-13T00:00:00.000000",
          "2020-03-14T00:00:00.000000",
          "2020-03-15T00:00:00.000000",
          "2020-03-16T00:00:00.000000",
          "2020-03-17T00:00:00.000000",
          "2020-03-18T00:00:00.000000",
          "2020-03-19T00:00:00.000000",
          "2020-03-20T00:00:00.000000",
          "2020-03-21T00:00:00.000000",
          "2020-03-22T00:00:00.000000",
          "2020-03-23T00:00:00.000000",
          "2020-03-24T00:00:00.000000",
          "2020-03-25T00:00:00.000000",
          "2020-03-26T00:00:00.000000",
          "2020-03-27T00:00:00.000000",
          "2020-03-28T00:00:00.000000",
          "2020-03-29T00:00:00.000000",
          "2020-03-30T00:00:00.000000",
          "2020-03-31T00:00:00.000000",
          "2020-04-01T00:00:00.000000",
          "2020-04-02T00:00:00.000000",
          "2020-04-03T00:00:00.000000",
          "2020-04-04T00:00:00.000000",
          "2020-04-05T00:00:00.000000",
          "2020-04-06T00:00:00.000000",
          "2020-04-07T00:00:00.000000",
          "2020-04-08T00:00:00.000000",
          "2020-04-09T00:00:00.000000",
          "2020-04-10T00:00:00.000000",
          "2020-04-11T00:00:00.000000",
          "2020-04-12T00:00:00.000000",
          "2020-04-13T00:00:00.000000",
          "2020-04-14T00:00:00.000000",
          "2020-04-15T00:00:00.000000",
          "2020-04-16T00:00:00.000000",
          "2020-04-17T00:00:00.000000",
          "2020-04-18T00:00:00.000000",
          "2020-04-19T00:00:00.000000",
          "2020-04-20T00:00:00.000000",
          "2020-04-21T00:00:00.000000",
          "2020-04-22T00:00:00.000000",
          "2020-04-23T00:00:00.000000",
          "2020-04-24T00:00:00.000000",
          "2020-04-25T00:00:00.000000",
          "2020-04-26T00:00:00.000000",
          "2020-04-27T00:00:00.000000",
          "2020-04-28T00:00:00.000000",
          "2020-04-29T00:00:00.000000",
          "2020-04-30T00:00:00.000000",
          "2020-05-01T00:00:00.000000",
          "2020-05-02T00:00:00.000000",
          "2020-05-03T00:00:00.000000",
          "2020-05-04T00:00:00.000000",
          "2020-05-05T00:00:00.000000",
          "2020-05-06T00:00:00.000000",
          "2020-05-07T00:00:00.000000",
          "2020-05-08T00:00:00.000000",
          "2020-05-09T00:00:00.000000",
          "2020-05-10T00:00:00.000000",
          "2020-05-11T00:00:00.000000",
          "2020-05-12T00:00:00.000000",
          "2020-05-13T00:00:00.000000",
          "2020-05-14T00:00:00.000000",
          "2020-05-15T00:00:00.000000",
          "2020-05-16T00:00:00.000000",
          "2020-05-17T00:00:00.000000",
          "2020-05-18T00:00:00.000000",
          "2020-05-19T00:00:00.000000",
          "2020-05-20T00:00:00.000000",
          "2020-05-21T00:00:00.000000",
          "2020-05-22T00:00:00.000000",
          "2020-05-23T00:00:00.000000",
          "2020-05-24T00:00:00.000000",
          "2020-05-25T00:00:00.000000",
          "2020-05-26T00:00:00.000000",
          "2020-05-27T00:00:00.000000",
          "2020-05-28T00:00:00.000000",
          "2020-05-29T00:00:00.000000",
          "2020-05-30T00:00:00.000000",
          "2020-05-31T00:00:00.000000",
          "2020-06-01T00:00:00.000000",
          "2020-06-02T00:00:00.000000",
          "2020-06-03T00:00:00.000000",
          "2020-06-04T00:00:00.000000",
          "2020-06-05T00:00:00.000000",
          "2020-06-06T00:00:00.000000",
          "2020-06-07T00:00:00.000000",
          "2020-06-08T00:00:00.000000",
          "2020-06-09T00:00:00.000000",
          "2020-06-10T00:00:00.000000",
          "2020-06-11T00:00:00.000000",
          "2020-06-12T00:00:00.000000",
          "2020-06-13T00:00:00.000000",
          "2020-06-14T00:00:00.000000",
          "2020-06-15T00:00:00.000000",
          "2020-06-16T00:00:00.000000",
          "2020-06-17T00:00:00.000000",
          "2020-06-18T00:00:00.000000",
          "2020-06-19T00:00:00.000000",
          "2020-06-20T00:00:00.000000",
          "2020-06-21T00:00:00.000000",
          "2020-06-22T00:00:00.000000",
          "2020-06-23T00:00:00.000000",
          "2020-06-24T00:00:00.000000",
          "2020-06-25T00:00:00.000000",
          "2020-06-26T00:00:00.000000",
          "2020-06-27T00:00:00.000000",
          "2020-06-28T00:00:00.000000",
          "2020-06-29T00:00:00.000000",
          "2020-06-30T00:00:00.000000",
          "2020-07-01T00:00:00.000000",
          "2020-07-02T00:00:00.000000",
          "2020-07-03T00:00:00.000000",
          "2020-07-04T00:00:00.000000",
          "2020-07-05T00:00:00.000000",
          "2020-07-06T00:00:00.000000",
          "2020-07-07T00:00:00.000000",
          "2020-07-08T00:00:00.000000",
          "2020-07-09T00:00:00.000000",
          "2020-07-10T00:00:00.000000",
          "2020-07-11T00:00:00.000000",
          "2020-07-12T00:00:00.000000",
          "2020-07-13T00:00:00.000000",
          "2020-07-14T00:00:00.000000",
          "2020-07-15T00:00:00.000000",
          "2020-07-16T00:00:00.000000",
          "2020-07-17T00:00:00.000000",
          "2020-07-18T00:00:00.000000",
          "2020-07-19T00:00:00.000000",
          "2020-07-20T00:00:00.000000",
          "2020-07-21T00:00:00.000000",
          "2020-07-22T00:00:00.000000",
          "2020-07-23T00:00:00.000000",
          "2020-07-24T00:00:00.000000",
          "2020-07-25T00:00:00.000000",
          "2020-07-26T00:00:00.000000",
          "2020-07-27T00:00:00.000000",
          "2020-07-28T00:00:00.000000",
          "2020-07-29T00:00:00.000000",
          "2020-07-30T00:00:00.000000",
          "2020-07-31T00:00:00.000000",
          "2020-08-01T00:00:00.000000",
          "2020-08-02T00:00:00.000000",
          "2020-08-03T00:00:00.000000",
          "2020-08-04T00:00:00.000000",
          "2020-08-05T00:00:00.000000",
          "2020-08-06T00:00:00.000000",
          "2020-08-07T00:00:00.000000",
          "2020-08-08T00:00:00.000000",
          "2020-08-09T00:00:00.000000",
          "2020-08-10T00:00:00.000000",
          "2020-08-11T00:00:00.000000",
          "2020-08-12T00:00:00.000000",
          "2020-08-13T00:00:00.000000",
          "2020-08-14T00:00:00.000000",
          "2020-08-15T00:00:00.000000",
          "2020-08-16T00:00:00.000000",
          "2020-08-17T00:00:00.000000",
          "2020-08-18T00:00:00.000000",
          "2020-08-19T00:00:00.000000",
          "2020-08-20T00:00:00.000000",
          "2020-08-21T00:00:00.000000",
          "2020-08-22T00:00:00.000000",
          "2020-08-23T00:00:00.000000",
          "2020-08-24T00:00:00.000000",
          "2020-08-25T00:00:00.000000",
          "2020-08-26T00:00:00.000000",
          "2020-08-27T00:00:00.000000",
          "2020-08-28T00:00:00.000000",
          "2020-08-29T00:00:00.000000",
          "2020-08-30T00:00:00.000000",
          "2020-08-31T00:00:00.000000",
          "2020-09-01T00:00:00.000000",
          "2020-09-02T00:00:00.000000",
          "2020-09-03T00:00:00.000000",
          "2020-09-04T00:00:00.000000",
          "2020-09-05T00:00:00.000000",
          "2020-09-06T00:00:00.000000",
          "2020-09-07T00:00:00.000000",
          "2020-09-08T00:00:00.000000",
          "2020-09-09T00:00:00.000000",
          "2020-09-10T00:00:00.000000",
          "2020-09-11T00:00:00.000000",
          "2020-09-12T00:00:00.000000",
          "2020-09-13T00:00:00.000000",
          "2020-09-14T00:00:00.000000",
          "2020-09-15T00:00:00.000000",
          "2020-09-16T00:00:00.000000",
          "2020-09-17T00:00:00.000000",
          "2020-09-18T00:00:00.000000",
          "2020-09-19T00:00:00.000000",
          "2020-09-20T00:00:00.000000",
          "2020-09-21T00:00:00.000000",
          "2020-09-22T00:00:00.000000",
          "2020-09-23T00:00:00.000000",
          "2020-09-24T00:00:00.000000",
          "2020-09-25T00:00:00.000000",
          "2020-09-26T00:00:00.000000"
         ],
         "xaxis": "x",
         "yaxis": "y2"
        },
        {
         "marker": {
          "color": [
           "red",
           "green",
           "red",
           "green",
           "red",
           "red",
           "green",
           "red",
           "green",
           "red",
           "green",
           "green",
           "red",
           "red",
           "green",
           "green",
           "green",
           "red",
           "red",
           "red",
           "green",
           "red",
           "green",
           "green",
           "green",
           "green",
           "green",
           "red",
           "green",
           "red",
           "green",
           "red",
           "green",
           "red",
           "red",
           "red",
           "red",
           "red",
           "red",
           "green",
           "red",
           "green",
           "green",
           "red",
           "red",
           "red",
           "green",
           "red",
           "red",
           "green",
           "red",
           "red",
           "green",
           "red",
           "red",
           "red",
           "red",
           "red",
           "red",
           "red",
           "red",
           "red",
           "green",
           "red",
           "red",
           "red",
           "green",
           "red",
           "red",
           "green",
           "red",
           "red",
           "green",
           "green",
           "red",
           "green",
           "green",
           "green",
           "red",
           "green",
           "green",
           "green",
           "red",
           "red",
           "green",
           "red",
           "red",
           "green",
           "red",
           "green",
           "green",
           "green",
           "green",
           "red",
           "green",
           "red",
           "green",
           "red",
           "red",
           "red",
           "red",
           "green",
           "red",
           "red",
           "green",
           "red",
           "red",
           "green",
           "red",
           "green",
           "red",
           "green",
           "red",
           "red",
           "green",
           "green",
           "green",
           "red",
           "green",
           "red",
           "green",
           "red",
           "red",
           "green",
           "red",
           "green",
           "red",
           "green",
           "red",
           "green",
           "green",
           "green",
           "green",
           "red",
           "green",
           "red",
           "red",
           "green",
           "red",
           "red",
           "red",
           "green",
           "green",
           "red",
           "green",
           "green",
           "green",
           "red",
           "red",
           "green",
           "green",
           "red",
           "green",
           "red",
           "red",
           "green",
           "red",
           "green",
           "red",
           "green",
           "red",
           "red",
           "green",
           "red",
           "red",
           "red",
           "red",
           "green",
           "green",
           "red",
           "red",
           "green",
           "green",
           "red",
           "red",
           "green",
           "red",
           "red",
           "red",
           "green",
           "red",
           "green",
           "red",
           "red",
           "red",
           "green",
           "red",
           "green",
           "green",
           "red",
           "green",
           "green",
           "red",
           "red",
           "green",
           "green",
           "red",
           "green",
           "red",
           "green",
           "green",
           "red",
           "red",
           "red",
           "green",
           "red",
           "green",
           "green",
           "red",
           "green",
           "green",
           "red",
           "red",
           "red",
           "red",
           "red",
           "green",
           "red",
           "red",
           "green",
           "red",
           "green",
           "red",
           "red",
           "red",
           "red",
           "red",
           "green",
           "red",
           "red",
           "green",
           "red",
           "green",
           "red",
           "red",
           "green",
           "green",
           "green",
           "red",
           "green",
           "red",
           "green",
           "red",
           "green",
           "green",
           "green",
           "green",
           "red",
           "red",
           "green",
           "green",
           "red",
           "green",
           "red",
           "red",
           "red",
           "red",
           "red",
           "green",
           "red",
           "red",
           "red",
           "green",
           "green",
           "red",
           "green",
           "red",
           "red",
           "green",
           "red",
           "green",
           "red",
           "green",
           "red",
           "green",
           "red",
           "green",
           "green",
           "red",
           "red",
           "green",
           "green",
           "red",
           "red",
           "red",
           "red",
           "red",
           "red",
           "red",
           "green",
           "green",
           "red",
           "red",
           "red",
           "red",
           "red",
           "green",
           "red",
           "red",
           "red",
           "red",
           "green",
           "green",
           "red",
           "red",
           "red",
           "red",
           "green",
           "green",
           "red",
           "green",
           "red",
           "green",
           "green",
           "red",
           "red",
           "red",
           "green",
           "red",
           "green",
           "red",
           "green",
           "red",
           "green",
           "red",
           "green",
           "green",
           "green",
           "red",
           "green",
           "red",
           "red",
           "red",
           "red",
           "red",
           "red",
           "red",
           "green",
           "green",
           "green",
           "red",
           "red",
           "green",
           "red",
           "green",
           "green",
           "green",
           "red",
           "red",
           "green",
           "green",
           "red",
           "green",
           "green",
           "green",
           "red",
           "red",
           "green",
           "green",
           "red",
           "green",
           "green",
           "green",
           "red",
           "red",
           "red",
           "green",
           "green",
           "red",
           "red",
           "green",
           "green",
           "green",
           "red",
           "green",
           "red",
           "red",
           "red",
           "red",
           "green",
           "green",
           "green",
           "green",
           "green",
           "green",
           "red",
           "green",
           "red",
           "red",
           "red",
           "green",
           "red",
           "red",
           "green",
           "red",
           "green",
           "red",
           "red",
           "red",
           "green",
           "green",
           "green",
           "red",
           "green",
           "red",
           "green",
           "red",
           "green",
           "green",
           "green",
           "green",
           "red",
           "green",
           "green",
           "red",
           "green",
           "green",
           "green",
           "red",
           "green",
           "red",
           "red",
           "green",
           "green",
           "green",
           "red",
           "red",
           "red",
           "red",
           "red",
           "green",
           "red",
           "green",
           "red",
           "green",
           "green",
           "green",
           "red",
           "green",
           "red",
           "green",
           "green",
           "green",
           "red",
           "red",
           "green",
           "green",
           "green",
           "red",
           "red",
           "green",
           "green",
           "red",
           "red",
           "red",
           "red",
           "green",
           "red",
           "red",
           "red",
           "green",
           "green",
           "green",
           "red",
           "green",
           "red",
           "red",
           "red",
           "green",
           "green",
           "green",
           "red",
           "green",
           "red",
           "green",
           "green",
           "green",
           "green",
           "green",
           "red",
           "green",
           "green",
           "green",
           "red",
           "red",
           "red",
           "red",
           "red",
           "green",
           "red",
           "green",
           "green",
           "red",
           "green",
           "green",
           "red",
           "red",
           "red",
           "green",
           "green",
           "red",
           "green",
           "red",
           "red",
           "green",
           "red",
           "red",
           "red",
           "green",
           "red",
           "red",
           "green",
           "red",
           "red",
           "red",
           "green",
           "red",
           "green",
           "green",
           "red",
           "red",
           "red",
           "green",
           "red",
           "green",
           "red",
           "red",
           "green",
           "red",
           "green",
           "green",
           "red",
           "green",
           "red",
           "green",
           "red",
           "red",
           "red",
           "green",
           "green",
           "green",
           "red",
           "red",
           "red",
           "red",
           "red",
           "green",
           "red",
           "red",
           "red",
           "red",
           "green",
           "red",
           "green",
           "red",
           "red",
           "red",
           "red",
           "red",
           "red",
           "green",
           "red",
           "red",
           "red",
           "green",
           "red",
           "red",
           "green",
           "red",
           "green",
           "red",
           "green",
           "green",
           "red",
           "red",
           "red",
           "green",
           "green",
           "red",
           "red",
           "green",
           "red",
           "red",
           "red",
           "red",
           "green",
           "green",
           "red",
           "red",
           "red",
           "red",
           "green",
           "green",
           "green",
           "green",
           "green",
           "red",
           "red",
           "red",
           "green",
           "red",
           "red",
           "green",
           "red",
           "green",
           "green",
           "green",
           "red",
           "green",
           "red",
           "red",
           "green",
           "green",
           "red",
           "red",
           "green",
           "red",
           "green",
           "green",
           "red",
           "red",
           "red",
           "green",
           "red",
           "green",
           "red",
           "red",
           "green",
           "red",
           "green",
           "green",
           "green",
           "green",
           "green",
           "green",
           "green",
           "green",
           "green",
           "red",
           "red",
           "red",
           "green",
           "red",
           "red",
           "green",
           "green",
           "green",
           "green",
           "green",
           "red",
           "red",
           "red",
           "green",
           "green",
           "green",
           "green",
           "green",
           "red",
           "green",
           "red",
           "red",
           "green",
           "green",
           "green",
           "green",
           "green",
           "red",
           "red",
           "red",
           "green",
           "red",
           "red",
           "green",
           "green",
           "red",
           "red",
           "red",
           "red",
           "green",
           "red",
           "green",
           "green",
           "green",
           "green",
           "green",
           "red",
           "green",
           "green",
           "red",
           "red",
           "green",
           "red",
           "green",
           "red",
           "green",
           "green",
           "red",
           "red",
           "green",
           "green",
           "green",
           "red",
           "green",
           "green",
           "red",
           "red",
           "green",
           "red",
           "green",
           "green",
           "red",
           "green",
           "red",
           "red",
           "green",
           "red",
           "red",
           "red",
           "red",
           "red",
           "green",
           "green",
           "green",
           "green",
           "red",
           "red",
           "red",
           "green",
           "green",
           "red",
           "green",
           "green",
           "green",
           "red",
           "green",
           "red",
           "red",
           "red",
           "red",
           "red",
           "green",
           "red",
           "red",
           "red",
           "green",
           "green",
           "green",
           "green",
           "red",
           "green",
           "green",
           "red",
           "green",
           "green",
           "red",
           "green",
           "red",
           "red",
           "green",
           "green",
           "green",
           "red",
           "green",
           "green",
           "green",
           "green",
           "red",
           "green",
           "red",
           "red",
           "red",
           "red",
           "red",
           "green",
           "green",
           "red",
           "red",
           "green",
           "red",
           "green",
           "red",
           "green",
           "red",
           "green",
           "green",
           "red",
           "green",
           "green",
           "red",
           "red",
           "red",
           "green",
           "green",
           "green",
           "green",
           "green",
           "green",
           "green",
           "green",
           "red",
           "red",
           "red",
           "green",
           "green",
           "green",
           "red",
           "green",
           "green",
           "red",
           "green",
           "green",
           "green",
           "red",
           "green",
           "red",
           "red",
           "red",
           "green",
           "red",
           "green",
           "green",
           "red",
           "red",
           "red",
           "green",
           "green",
           "green",
           "red",
           "green",
           "red",
           "green",
           "green",
           "green",
           "green",
           "red",
           "green",
           "red",
           "red",
           "red",
           "red",
           "red",
           "green",
           "red",
           "green",
           "red",
           "red",
           "green",
           "green",
           "red",
           "green",
           "red",
           "red",
           "red",
           "red",
           "green",
           "red",
           "green",
           "green",
           "green",
           "red",
           "red",
           "red",
           "red",
           "green",
           "green",
           "red",
           "green",
           "red",
           "red",
           "green",
           "green",
           "red",
           "green",
           "green",
           "red",
           "green",
           "green",
           "green",
           "red",
           "red",
           "red",
           "red",
           "green",
           "red",
           "green",
           "green",
           "green",
           "red",
           "red",
           "red",
           "green",
           "red",
           "red",
           "green",
           "red",
           "green",
           "red",
           "red",
           "red",
           "red",
           "red",
           "red",
           "red",
           "green",
           "green",
           "red",
           "green",
           "red",
           "red",
           "red",
           "red",
           "green",
           "red",
           "red",
           "red",
           "red",
           "green",
           "red",
           "green",
           "red",
           "red",
           "red",
           "green",
           "green",
           "red",
           "green",
           "red",
           "green",
           "red",
           "red",
           "red",
           "green",
           "green",
           "green",
           "green",
           "red",
           "red",
           "red",
           "green",
           "red",
           "green",
           "green",
           "red",
           "red",
           "red",
           "red",
           "red",
           "red",
           "green",
           "green",
           "red",
           "red",
           "red",
           "green",
           "red",
           "green",
           "red",
           "green",
           "green",
           "red",
           "green",
           "green",
           "red",
           "green",
           "red",
           "green",
           "green",
           "green",
           "red",
           "green",
           "green",
           "red",
           "red",
           "red",
           "red",
           "red",
           "green",
           "green",
           "green",
           "green",
           "green",
           "red",
           "red",
           "green",
           "green",
           "green",
           "green",
           "red",
           "red",
           "green",
           "green",
           "red",
           "green",
           "red",
           "green",
           "green",
           "green",
           "green",
           "green",
           "green"
          ],
          "line": {
           "width": 0
          }
         },
         "name": "Volume",
         "type": "bar",
         "uid": "b9e85a92-599a-44b9-9873-de85d65a066c",
         "x": [
          "2018-01-01T00:00:00.000000",
          "2018-01-02T00:00:00.000000",
          "2018-01-03T00:00:00.000000",
          "2018-01-04T00:00:00.000000",
          "2018-01-05T00:00:00.000000",
          "2018-01-06T00:00:00.000000",
          "2018-01-07T00:00:00.000000",
          "2018-01-08T00:00:00.000000",
          "2018-01-09T00:00:00.000000",
          "2018-01-10T00:00:00.000000",
          "2018-01-11T00:00:00.000000",
          "2018-01-12T00:00:00.000000",
          "2018-01-13T00:00:00.000000",
          "2018-01-14T00:00:00.000000",
          "2018-01-15T00:00:00.000000",
          "2018-01-16T00:00:00.000000",
          "2018-01-17T00:00:00.000000",
          "2018-01-18T00:00:00.000000",
          "2018-01-19T00:00:00.000000",
          "2018-01-20T00:00:00.000000",
          "2018-01-21T00:00:00.000000",
          "2018-01-22T00:00:00.000000",
          "2018-01-23T00:00:00.000000",
          "2018-01-24T00:00:00.000000",
          "2018-01-25T00:00:00.000000",
          "2018-01-26T00:00:00.000000",
          "2018-01-27T00:00:00.000000",
          "2018-01-28T00:00:00.000000",
          "2018-01-29T00:00:00.000000",
          "2018-01-30T00:00:00.000000",
          "2018-01-31T00:00:00.000000",
          "2018-02-01T00:00:00.000000",
          "2018-02-02T00:00:00.000000",
          "2018-02-03T00:00:00.000000",
          "2018-02-04T00:00:00.000000",
          "2018-02-05T00:00:00.000000",
          "2018-02-06T00:00:00.000000",
          "2018-02-07T00:00:00.000000",
          "2018-02-08T00:00:00.000000",
          "2018-02-09T00:00:00.000000",
          "2018-02-10T00:00:00.000000",
          "2018-02-11T00:00:00.000000",
          "2018-02-12T00:00:00.000000",
          "2018-02-13T00:00:00.000000",
          "2018-02-14T00:00:00.000000",
          "2018-02-15T00:00:00.000000",
          "2018-02-16T00:00:00.000000",
          "2018-02-17T00:00:00.000000",
          "2018-02-18T00:00:00.000000",
          "2018-02-19T00:00:00.000000",
          "2018-02-20T00:00:00.000000",
          "2018-02-21T00:00:00.000000",
          "2018-02-22T00:00:00.000000",
          "2018-02-23T00:00:00.000000",
          "2018-02-24T00:00:00.000000",
          "2018-02-25T00:00:00.000000",
          "2018-02-26T00:00:00.000000",
          "2018-02-27T00:00:00.000000",
          "2018-02-28T00:00:00.000000",
          "2018-03-01T00:00:00.000000",
          "2018-03-02T00:00:00.000000",
          "2018-03-03T00:00:00.000000",
          "2018-03-04T00:00:00.000000",
          "2018-03-05T00:00:00.000000",
          "2018-03-06T00:00:00.000000",
          "2018-03-07T00:00:00.000000",
          "2018-03-08T00:00:00.000000",
          "2018-03-09T00:00:00.000000",
          "2018-03-10T00:00:00.000000",
          "2018-03-11T00:00:00.000000",
          "2018-03-12T00:00:00.000000",
          "2018-03-13T00:00:00.000000",
          "2018-03-14T00:00:00.000000",
          "2018-03-15T00:00:00.000000",
          "2018-03-16T00:00:00.000000",
          "2018-03-17T00:00:00.000000",
          "2018-03-18T00:00:00.000000",
          "2018-03-19T00:00:00.000000",
          "2018-03-20T00:00:00.000000",
          "2018-03-21T00:00:00.000000",
          "2018-03-22T00:00:00.000000",
          "2018-03-23T00:00:00.000000",
          "2018-03-24T00:00:00.000000",
          "2018-03-25T00:00:00.000000",
          "2018-03-26T00:00:00.000000",
          "2018-03-27T00:00:00.000000",
          "2018-03-28T00:00:00.000000",
          "2018-03-29T00:00:00.000000",
          "2018-03-30T00:00:00.000000",
          "2018-03-31T00:00:00.000000",
          "2018-04-01T00:00:00.000000",
          "2018-04-02T00:00:00.000000",
          "2018-04-03T00:00:00.000000",
          "2018-04-04T00:00:00.000000",
          "2018-04-05T00:00:00.000000",
          "2018-04-06T00:00:00.000000",
          "2018-04-07T00:00:00.000000",
          "2018-04-08T00:00:00.000000",
          "2018-04-09T00:00:00.000000",
          "2018-04-10T00:00:00.000000",
          "2018-04-11T00:00:00.000000",
          "2018-04-12T00:00:00.000000",
          "2018-04-13T00:00:00.000000",
          "2018-04-14T00:00:00.000000",
          "2018-04-15T00:00:00.000000",
          "2018-04-16T00:00:00.000000",
          "2018-04-17T00:00:00.000000",
          "2018-04-18T00:00:00.000000",
          "2018-04-19T00:00:00.000000",
          "2018-04-20T00:00:00.000000",
          "2018-04-21T00:00:00.000000",
          "2018-04-22T00:00:00.000000",
          "2018-04-23T00:00:00.000000",
          "2018-04-24T00:00:00.000000",
          "2018-04-25T00:00:00.000000",
          "2018-04-26T00:00:00.000000",
          "2018-04-27T00:00:00.000000",
          "2018-04-28T00:00:00.000000",
          "2018-04-29T00:00:00.000000",
          "2018-04-30T00:00:00.000000",
          "2018-05-01T00:00:00.000000",
          "2018-05-02T00:00:00.000000",
          "2018-05-03T00:00:00.000000",
          "2018-05-04T00:00:00.000000",
          "2018-05-05T00:00:00.000000",
          "2018-05-06T00:00:00.000000",
          "2018-05-07T00:00:00.000000",
          "2018-05-08T00:00:00.000000",
          "2018-05-09T00:00:00.000000",
          "2018-05-10T00:00:00.000000",
          "2018-05-11T00:00:00.000000",
          "2018-05-12T00:00:00.000000",
          "2018-05-13T00:00:00.000000",
          "2018-05-14T00:00:00.000000",
          "2018-05-15T00:00:00.000000",
          "2018-05-16T00:00:00.000000",
          "2018-05-17T00:00:00.000000",
          "2018-05-18T00:00:00.000000",
          "2018-05-19T00:00:00.000000",
          "2018-05-20T00:00:00.000000",
          "2018-05-21T00:00:00.000000",
          "2018-05-22T00:00:00.000000",
          "2018-05-23T00:00:00.000000",
          "2018-05-24T00:00:00.000000",
          "2018-05-25T00:00:00.000000",
          "2018-05-26T00:00:00.000000",
          "2018-05-27T00:00:00.000000",
          "2018-05-28T00:00:00.000000",
          "2018-05-29T00:00:00.000000",
          "2018-05-30T00:00:00.000000",
          "2018-05-31T00:00:00.000000",
          "2018-06-01T00:00:00.000000",
          "2018-06-02T00:00:00.000000",
          "2018-06-03T00:00:00.000000",
          "2018-06-04T00:00:00.000000",
          "2018-06-05T00:00:00.000000",
          "2018-06-06T00:00:00.000000",
          "2018-06-07T00:00:00.000000",
          "2018-06-08T00:00:00.000000",
          "2018-06-09T00:00:00.000000",
          "2018-06-10T00:00:00.000000",
          "2018-06-11T00:00:00.000000",
          "2018-06-12T00:00:00.000000",
          "2018-06-13T00:00:00.000000",
          "2018-06-14T00:00:00.000000",
          "2018-06-15T00:00:00.000000",
          "2018-06-16T00:00:00.000000",
          "2018-06-17T00:00:00.000000",
          "2018-06-18T00:00:00.000000",
          "2018-06-19T00:00:00.000000",
          "2018-06-20T00:00:00.000000",
          "2018-06-21T00:00:00.000000",
          "2018-06-22T00:00:00.000000",
          "2018-06-23T00:00:00.000000",
          "2018-06-24T00:00:00.000000",
          "2018-06-25T00:00:00.000000",
          "2018-06-26T00:00:00.000000",
          "2018-06-27T00:00:00.000000",
          "2018-06-28T00:00:00.000000",
          "2018-06-29T00:00:00.000000",
          "2018-06-30T00:00:00.000000",
          "2018-07-01T00:00:00.000000",
          "2018-07-02T00:00:00.000000",
          "2018-07-03T00:00:00.000000",
          "2018-07-04T00:00:00.000000",
          "2018-07-05T00:00:00.000000",
          "2018-07-06T00:00:00.000000",
          "2018-07-07T00:00:00.000000",
          "2018-07-08T00:00:00.000000",
          "2018-07-09T00:00:00.000000",
          "2018-07-10T00:00:00.000000",
          "2018-07-11T00:00:00.000000",
          "2018-07-12T00:00:00.000000",
          "2018-07-13T00:00:00.000000",
          "2018-07-14T00:00:00.000000",
          "2018-07-15T00:00:00.000000",
          "2018-07-16T00:00:00.000000",
          "2018-07-17T00:00:00.000000",
          "2018-07-18T00:00:00.000000",
          "2018-07-19T00:00:00.000000",
          "2018-07-20T00:00:00.000000",
          "2018-07-21T00:00:00.000000",
          "2018-07-22T00:00:00.000000",
          "2018-07-23T00:00:00.000000",
          "2018-07-24T00:00:00.000000",
          "2018-07-25T00:00:00.000000",
          "2018-07-26T00:00:00.000000",
          "2018-07-27T00:00:00.000000",
          "2018-07-28T00:00:00.000000",
          "2018-07-29T00:00:00.000000",
          "2018-07-30T00:00:00.000000",
          "2018-07-31T00:00:00.000000",
          "2018-08-01T00:00:00.000000",
          "2018-08-02T00:00:00.000000",
          "2018-08-03T00:00:00.000000",
          "2018-08-04T00:00:00.000000",
          "2018-08-05T00:00:00.000000",
          "2018-08-06T00:00:00.000000",
          "2018-08-07T00:00:00.000000",
          "2018-08-08T00:00:00.000000",
          "2018-08-09T00:00:00.000000",
          "2018-08-10T00:00:00.000000",
          "2018-08-11T00:00:00.000000",
          "2018-08-12T00:00:00.000000",
          "2018-08-13T00:00:00.000000",
          "2018-08-14T00:00:00.000000",
          "2018-08-15T00:00:00.000000",
          "2018-08-16T00:00:00.000000",
          "2018-08-17T00:00:00.000000",
          "2018-08-18T00:00:00.000000",
          "2018-08-19T00:00:00.000000",
          "2018-08-20T00:00:00.000000",
          "2018-08-21T00:00:00.000000",
          "2018-08-22T00:00:00.000000",
          "2018-08-23T00:00:00.000000",
          "2018-08-24T00:00:00.000000",
          "2018-08-25T00:00:00.000000",
          "2018-08-26T00:00:00.000000",
          "2018-08-27T00:00:00.000000",
          "2018-08-28T00:00:00.000000",
          "2018-08-29T00:00:00.000000",
          "2018-08-30T00:00:00.000000",
          "2018-08-31T00:00:00.000000",
          "2018-09-01T00:00:00.000000",
          "2018-09-02T00:00:00.000000",
          "2018-09-03T00:00:00.000000",
          "2018-09-04T00:00:00.000000",
          "2018-09-05T00:00:00.000000",
          "2018-09-06T00:00:00.000000",
          "2018-09-07T00:00:00.000000",
          "2018-09-08T00:00:00.000000",
          "2018-09-09T00:00:00.000000",
          "2018-09-10T00:00:00.000000",
          "2018-09-11T00:00:00.000000",
          "2018-09-12T00:00:00.000000",
          "2018-09-13T00:00:00.000000",
          "2018-09-14T00:00:00.000000",
          "2018-09-15T00:00:00.000000",
          "2018-09-16T00:00:00.000000",
          "2018-09-17T00:00:00.000000",
          "2018-09-18T00:00:00.000000",
          "2018-09-19T00:00:00.000000",
          "2018-09-20T00:00:00.000000",
          "2018-09-21T00:00:00.000000",
          "2018-09-22T00:00:00.000000",
          "2018-09-23T00:00:00.000000",
          "2018-09-24T00:00:00.000000",
          "2018-09-25T00:00:00.000000",
          "2018-09-26T00:00:00.000000",
          "2018-09-27T00:00:00.000000",
          "2018-09-28T00:00:00.000000",
          "2018-09-29T00:00:00.000000",
          "2018-09-30T00:00:00.000000",
          "2018-10-01T00:00:00.000000",
          "2018-10-02T00:00:00.000000",
          "2018-10-03T00:00:00.000000",
          "2018-10-04T00:00:00.000000",
          "2018-10-05T00:00:00.000000",
          "2018-10-06T00:00:00.000000",
          "2018-10-07T00:00:00.000000",
          "2018-10-08T00:00:00.000000",
          "2018-10-09T00:00:00.000000",
          "2018-10-10T00:00:00.000000",
          "2018-10-11T00:00:00.000000",
          "2018-10-12T00:00:00.000000",
          "2018-10-13T00:00:00.000000",
          "2018-10-14T00:00:00.000000",
          "2018-10-15T00:00:00.000000",
          "2018-10-16T00:00:00.000000",
          "2018-10-17T00:00:00.000000",
          "2018-10-18T00:00:00.000000",
          "2018-10-19T00:00:00.000000",
          "2018-10-20T00:00:00.000000",
          "2018-10-21T00:00:00.000000",
          "2018-10-22T00:00:00.000000",
          "2018-10-23T00:00:00.000000",
          "2018-10-24T00:00:00.000000",
          "2018-10-25T00:00:00.000000",
          "2018-10-26T00:00:00.000000",
          "2018-10-27T00:00:00.000000",
          "2018-10-28T00:00:00.000000",
          "2018-10-29T00:00:00.000000",
          "2018-10-30T00:00:00.000000",
          "2018-10-31T00:00:00.000000",
          "2018-11-01T00:00:00.000000",
          "2018-11-02T00:00:00.000000",
          "2018-11-03T00:00:00.000000",
          "2018-11-04T00:00:00.000000",
          "2018-11-05T00:00:00.000000",
          "2018-11-06T00:00:00.000000",
          "2018-11-07T00:00:00.000000",
          "2018-11-08T00:00:00.000000",
          "2018-11-09T00:00:00.000000",
          "2018-11-10T00:00:00.000000",
          "2018-11-11T00:00:00.000000",
          "2018-11-12T00:00:00.000000",
          "2018-11-13T00:00:00.000000",
          "2018-11-14T00:00:00.000000",
          "2018-11-15T00:00:00.000000",
          "2018-11-16T00:00:00.000000",
          "2018-11-17T00:00:00.000000",
          "2018-11-18T00:00:00.000000",
          "2018-11-19T00:00:00.000000",
          "2018-11-20T00:00:00.000000",
          "2018-11-21T00:00:00.000000",
          "2018-11-22T00:00:00.000000",
          "2018-11-23T00:00:00.000000",
          "2018-11-24T00:00:00.000000",
          "2018-11-25T00:00:00.000000",
          "2018-11-26T00:00:00.000000",
          "2018-11-27T00:00:00.000000",
          "2018-11-28T00:00:00.000000",
          "2018-11-29T00:00:00.000000",
          "2018-11-30T00:00:00.000000",
          "2018-12-01T00:00:00.000000",
          "2018-12-02T00:00:00.000000",
          "2018-12-03T00:00:00.000000",
          "2018-12-04T00:00:00.000000",
          "2018-12-05T00:00:00.000000",
          "2018-12-06T00:00:00.000000",
          "2018-12-07T00:00:00.000000",
          "2018-12-08T00:00:00.000000",
          "2018-12-09T00:00:00.000000",
          "2018-12-10T00:00:00.000000",
          "2018-12-11T00:00:00.000000",
          "2018-12-12T00:00:00.000000",
          "2018-12-13T00:00:00.000000",
          "2018-12-14T00:00:00.000000",
          "2018-12-15T00:00:00.000000",
          "2018-12-16T00:00:00.000000",
          "2018-12-17T00:00:00.000000",
          "2018-12-18T00:00:00.000000",
          "2018-12-19T00:00:00.000000",
          "2018-12-20T00:00:00.000000",
          "2018-12-21T00:00:00.000000",
          "2018-12-22T00:00:00.000000",
          "2018-12-23T00:00:00.000000",
          "2018-12-24T00:00:00.000000",
          "2018-12-25T00:00:00.000000",
          "2018-12-26T00:00:00.000000",
          "2018-12-27T00:00:00.000000",
          "2018-12-28T00:00:00.000000",
          "2018-12-29T00:00:00.000000",
          "2018-12-30T00:00:00.000000",
          "2018-12-31T00:00:00.000000",
          "2019-01-01T00:00:00.000000",
          "2019-01-02T00:00:00.000000",
          "2019-01-03T00:00:00.000000",
          "2019-01-04T00:00:00.000000",
          "2019-01-05T00:00:00.000000",
          "2019-01-06T00:00:00.000000",
          "2019-01-07T00:00:00.000000",
          "2019-01-08T00:00:00.000000",
          "2019-01-09T00:00:00.000000",
          "2019-01-10T00:00:00.000000",
          "2019-01-11T00:00:00.000000",
          "2019-01-12T00:00:00.000000",
          "2019-01-13T00:00:00.000000",
          "2019-01-14T00:00:00.000000",
          "2019-01-15T00:00:00.000000",
          "2019-01-16T00:00:00.000000",
          "2019-01-17T00:00:00.000000",
          "2019-01-18T00:00:00.000000",
          "2019-01-19T00:00:00.000000",
          "2019-01-20T00:00:00.000000",
          "2019-01-21T00:00:00.000000",
          "2019-01-22T00:00:00.000000",
          "2019-01-23T00:00:00.000000",
          "2019-01-24T00:00:00.000000",
          "2019-01-25T00:00:00.000000",
          "2019-01-26T00:00:00.000000",
          "2019-01-27T00:00:00.000000",
          "2019-01-28T00:00:00.000000",
          "2019-01-29T00:00:00.000000",
          "2019-01-30T00:00:00.000000",
          "2019-01-31T00:00:00.000000",
          "2019-02-01T00:00:00.000000",
          "2019-02-02T00:00:00.000000",
          "2019-02-03T00:00:00.000000",
          "2019-02-04T00:00:00.000000",
          "2019-02-05T00:00:00.000000",
          "2019-02-06T00:00:00.000000",
          "2019-02-07T00:00:00.000000",
          "2019-02-08T00:00:00.000000",
          "2019-02-09T00:00:00.000000",
          "2019-02-10T00:00:00.000000",
          "2019-02-11T00:00:00.000000",
          "2019-02-12T00:00:00.000000",
          "2019-02-13T00:00:00.000000",
          "2019-02-14T00:00:00.000000",
          "2019-02-15T00:00:00.000000",
          "2019-02-16T00:00:00.000000",
          "2019-02-17T00:00:00.000000",
          "2019-02-18T00:00:00.000000",
          "2019-02-19T00:00:00.000000",
          "2019-02-20T00:00:00.000000",
          "2019-02-21T00:00:00.000000",
          "2019-02-22T00:00:00.000000",
          "2019-02-23T00:00:00.000000",
          "2019-02-24T00:00:00.000000",
          "2019-02-25T00:00:00.000000",
          "2019-02-26T00:00:00.000000",
          "2019-02-27T00:00:00.000000",
          "2019-02-28T00:00:00.000000",
          "2019-03-01T00:00:00.000000",
          "2019-03-02T00:00:00.000000",
          "2019-03-03T00:00:00.000000",
          "2019-03-04T00:00:00.000000",
          "2019-03-05T00:00:00.000000",
          "2019-03-06T00:00:00.000000",
          "2019-03-07T00:00:00.000000",
          "2019-03-08T00:00:00.000000",
          "2019-03-09T00:00:00.000000",
          "2019-03-10T00:00:00.000000",
          "2019-03-11T00:00:00.000000",
          "2019-03-12T00:00:00.000000",
          "2019-03-13T00:00:00.000000",
          "2019-03-14T00:00:00.000000",
          "2019-03-15T00:00:00.000000",
          "2019-03-16T00:00:00.000000",
          "2019-03-17T00:00:00.000000",
          "2019-03-18T00:00:00.000000",
          "2019-03-19T00:00:00.000000",
          "2019-03-20T00:00:00.000000",
          "2019-03-21T00:00:00.000000",
          "2019-03-22T00:00:00.000000",
          "2019-03-23T00:00:00.000000",
          "2019-03-24T00:00:00.000000",
          "2019-03-25T00:00:00.000000",
          "2019-03-26T00:00:00.000000",
          "2019-03-27T00:00:00.000000",
          "2019-03-28T00:00:00.000000",
          "2019-03-29T00:00:00.000000",
          "2019-03-30T00:00:00.000000",
          "2019-03-31T00:00:00.000000",
          "2019-04-01T00:00:00.000000",
          "2019-04-02T00:00:00.000000",
          "2019-04-03T00:00:00.000000",
          "2019-04-04T00:00:00.000000",
          "2019-04-05T00:00:00.000000",
          "2019-04-06T00:00:00.000000",
          "2019-04-07T00:00:00.000000",
          "2019-04-08T00:00:00.000000",
          "2019-04-09T00:00:00.000000",
          "2019-04-10T00:00:00.000000",
          "2019-04-11T00:00:00.000000",
          "2019-04-12T00:00:00.000000",
          "2019-04-13T00:00:00.000000",
          "2019-04-14T00:00:00.000000",
          "2019-04-15T00:00:00.000000",
          "2019-04-16T00:00:00.000000",
          "2019-04-17T00:00:00.000000",
          "2019-04-18T00:00:00.000000",
          "2019-04-19T00:00:00.000000",
          "2019-04-20T00:00:00.000000",
          "2019-04-21T00:00:00.000000",
          "2019-04-22T00:00:00.000000",
          "2019-04-23T00:00:00.000000",
          "2019-04-24T00:00:00.000000",
          "2019-04-25T00:00:00.000000",
          "2019-04-26T00:00:00.000000",
          "2019-04-27T00:00:00.000000",
          "2019-04-28T00:00:00.000000",
          "2019-04-29T00:00:00.000000",
          "2019-04-30T00:00:00.000000",
          "2019-05-01T00:00:00.000000",
          "2019-05-02T00:00:00.000000",
          "2019-05-03T00:00:00.000000",
          "2019-05-04T00:00:00.000000",
          "2019-05-05T00:00:00.000000",
          "2019-05-06T00:00:00.000000",
          "2019-05-07T00:00:00.000000",
          "2019-05-08T00:00:00.000000",
          "2019-05-09T00:00:00.000000",
          "2019-05-10T00:00:00.000000",
          "2019-05-11T00:00:00.000000",
          "2019-05-12T00:00:00.000000",
          "2019-05-13T00:00:00.000000",
          "2019-05-14T00:00:00.000000",
          "2019-05-15T00:00:00.000000",
          "2019-05-16T00:00:00.000000",
          "2019-05-17T00:00:00.000000",
          "2019-05-18T00:00:00.000000",
          "2019-05-19T00:00:00.000000",
          "2019-05-20T00:00:00.000000",
          "2019-05-21T00:00:00.000000",
          "2019-05-22T00:00:00.000000",
          "2019-05-23T00:00:00.000000",
          "2019-05-24T00:00:00.000000",
          "2019-05-25T00:00:00.000000",
          "2019-05-26T00:00:00.000000",
          "2019-05-27T00:00:00.000000",
          "2019-05-28T00:00:00.000000",
          "2019-05-29T00:00:00.000000",
          "2019-05-30T00:00:00.000000",
          "2019-05-31T00:00:00.000000",
          "2019-06-01T00:00:00.000000",
          "2019-06-02T00:00:00.000000",
          "2019-06-03T00:00:00.000000",
          "2019-06-04T00:00:00.000000",
          "2019-06-05T00:00:00.000000",
          "2019-06-06T00:00:00.000000",
          "2019-06-07T00:00:00.000000",
          "2019-06-08T00:00:00.000000",
          "2019-06-09T00:00:00.000000",
          "2019-06-10T00:00:00.000000",
          "2019-06-11T00:00:00.000000",
          "2019-06-12T00:00:00.000000",
          "2019-06-13T00:00:00.000000",
          "2019-06-14T00:00:00.000000",
          "2019-06-15T00:00:00.000000",
          "2019-06-16T00:00:00.000000",
          "2019-06-17T00:00:00.000000",
          "2019-06-18T00:00:00.000000",
          "2019-06-19T00:00:00.000000",
          "2019-06-20T00:00:00.000000",
          "2019-06-21T00:00:00.000000",
          "2019-06-22T00:00:00.000000",
          "2019-06-23T00:00:00.000000",
          "2019-06-24T00:00:00.000000",
          "2019-06-25T00:00:00.000000",
          "2019-06-26T00:00:00.000000",
          "2019-06-27T00:00:00.000000",
          "2019-06-28T00:00:00.000000",
          "2019-06-29T00:00:00.000000",
          "2019-06-30T00:00:00.000000",
          "2019-07-01T00:00:00.000000",
          "2019-07-02T00:00:00.000000",
          "2019-07-03T00:00:00.000000",
          "2019-07-04T00:00:00.000000",
          "2019-07-05T00:00:00.000000",
          "2019-07-06T00:00:00.000000",
          "2019-07-07T00:00:00.000000",
          "2019-07-08T00:00:00.000000",
          "2019-07-09T00:00:00.000000",
          "2019-07-10T00:00:00.000000",
          "2019-07-11T00:00:00.000000",
          "2019-07-12T00:00:00.000000",
          "2019-07-13T00:00:00.000000",
          "2019-07-14T00:00:00.000000",
          "2019-07-15T00:00:00.000000",
          "2019-07-16T00:00:00.000000",
          "2019-07-17T00:00:00.000000",
          "2019-07-18T00:00:00.000000",
          "2019-07-19T00:00:00.000000",
          "2019-07-20T00:00:00.000000",
          "2019-07-21T00:00:00.000000",
          "2019-07-22T00:00:00.000000",
          "2019-07-23T00:00:00.000000",
          "2019-07-24T00:00:00.000000",
          "2019-07-25T00:00:00.000000",
          "2019-07-26T00:00:00.000000",
          "2019-07-27T00:00:00.000000",
          "2019-07-28T00:00:00.000000",
          "2019-07-29T00:00:00.000000",
          "2019-07-30T00:00:00.000000",
          "2019-07-31T00:00:00.000000",
          "2019-08-01T00:00:00.000000",
          "2019-08-02T00:00:00.000000",
          "2019-08-03T00:00:00.000000",
          "2019-08-04T00:00:00.000000",
          "2019-08-05T00:00:00.000000",
          "2019-08-06T00:00:00.000000",
          "2019-08-07T00:00:00.000000",
          "2019-08-08T00:00:00.000000",
          "2019-08-09T00:00:00.000000",
          "2019-08-10T00:00:00.000000",
          "2019-08-11T00:00:00.000000",
          "2019-08-12T00:00:00.000000",
          "2019-08-13T00:00:00.000000",
          "2019-08-14T00:00:00.000000",
          "2019-08-15T00:00:00.000000",
          "2019-08-16T00:00:00.000000",
          "2019-08-17T00:00:00.000000",
          "2019-08-18T00:00:00.000000",
          "2019-08-19T00:00:00.000000",
          "2019-08-20T00:00:00.000000",
          "2019-08-21T00:00:00.000000",
          "2019-08-22T00:00:00.000000",
          "2019-08-23T00:00:00.000000",
          "2019-08-24T00:00:00.000000",
          "2019-08-25T00:00:00.000000",
          "2019-08-26T00:00:00.000000",
          "2019-08-27T00:00:00.000000",
          "2019-08-28T00:00:00.000000",
          "2019-08-29T00:00:00.000000",
          "2019-08-30T00:00:00.000000",
          "2019-08-31T00:00:00.000000",
          "2019-09-01T00:00:00.000000",
          "2019-09-02T00:00:00.000000",
          "2019-09-03T00:00:00.000000",
          "2019-09-04T00:00:00.000000",
          "2019-09-05T00:00:00.000000",
          "2019-09-06T00:00:00.000000",
          "2019-09-07T00:00:00.000000",
          "2019-09-08T00:00:00.000000",
          "2019-09-09T00:00:00.000000",
          "2019-09-10T00:00:00.000000",
          "2019-09-11T00:00:00.000000",
          "2019-09-12T00:00:00.000000",
          "2019-09-13T00:00:00.000000",
          "2019-09-14T00:00:00.000000",
          "2019-09-15T00:00:00.000000",
          "2019-09-16T00:00:00.000000",
          "2019-09-17T00:00:00.000000",
          "2019-09-18T00:00:00.000000",
          "2019-09-19T00:00:00.000000",
          "2019-09-20T00:00:00.000000",
          "2019-09-21T00:00:00.000000",
          "2019-09-22T00:00:00.000000",
          "2019-09-23T00:00:00.000000",
          "2019-09-24T00:00:00.000000",
          "2019-09-25T00:00:00.000000",
          "2019-09-26T00:00:00.000000",
          "2019-09-27T00:00:00.000000",
          "2019-09-28T00:00:00.000000",
          "2019-09-29T00:00:00.000000",
          "2019-09-30T00:00:00.000000",
          "2019-10-01T00:00:00.000000",
          "2019-10-02T00:00:00.000000",
          "2019-10-03T00:00:00.000000",
          "2019-10-04T00:00:00.000000",
          "2019-10-05T00:00:00.000000",
          "2019-10-06T00:00:00.000000",
          "2019-10-07T00:00:00.000000",
          "2019-10-08T00:00:00.000000",
          "2019-10-09T00:00:00.000000",
          "2019-10-10T00:00:00.000000",
          "2019-10-11T00:00:00.000000",
          "2019-10-12T00:00:00.000000",
          "2019-10-13T00:00:00.000000",
          "2019-10-14T00:00:00.000000",
          "2019-10-15T00:00:00.000000",
          "2019-10-16T00:00:00.000000",
          "2019-10-17T00:00:00.000000",
          "2019-10-18T00:00:00.000000",
          "2019-10-19T00:00:00.000000",
          "2019-10-20T00:00:00.000000",
          "2019-10-21T00:00:00.000000",
          "2019-10-22T00:00:00.000000",
          "2019-10-23T00:00:00.000000",
          "2019-10-24T00:00:00.000000",
          "2019-10-25T00:00:00.000000",
          "2019-10-26T00:00:00.000000",
          "2019-10-27T00:00:00.000000",
          "2019-10-28T00:00:00.000000",
          "2019-10-29T00:00:00.000000",
          "2019-10-30T00:00:00.000000",
          "2019-10-31T00:00:00.000000",
          "2019-11-01T00:00:00.000000",
          "2019-11-02T00:00:00.000000",
          "2019-11-03T00:00:00.000000",
          "2019-11-04T00:00:00.000000",
          "2019-11-05T00:00:00.000000",
          "2019-11-06T00:00:00.000000",
          "2019-11-07T00:00:00.000000",
          "2019-11-08T00:00:00.000000",
          "2019-11-09T00:00:00.000000",
          "2019-11-10T00:00:00.000000",
          "2019-11-11T00:00:00.000000",
          "2019-11-12T00:00:00.000000",
          "2019-11-13T00:00:00.000000",
          "2019-11-14T00:00:00.000000",
          "2019-11-15T00:00:00.000000",
          "2019-11-16T00:00:00.000000",
          "2019-11-17T00:00:00.000000",
          "2019-11-18T00:00:00.000000",
          "2019-11-19T00:00:00.000000",
          "2019-11-20T00:00:00.000000",
          "2019-11-21T00:00:00.000000",
          "2019-11-22T00:00:00.000000",
          "2019-11-23T00:00:00.000000",
          "2019-11-24T00:00:00.000000",
          "2019-11-25T00:00:00.000000",
          "2019-11-26T00:00:00.000000",
          "2019-11-27T00:00:00.000000",
          "2019-11-28T00:00:00.000000",
          "2019-11-29T00:00:00.000000",
          "2019-11-30T00:00:00.000000",
          "2019-12-01T00:00:00.000000",
          "2019-12-02T00:00:00.000000",
          "2019-12-03T00:00:00.000000",
          "2019-12-04T00:00:00.000000",
          "2019-12-05T00:00:00.000000",
          "2019-12-06T00:00:00.000000",
          "2019-12-07T00:00:00.000000",
          "2019-12-08T00:00:00.000000",
          "2019-12-09T00:00:00.000000",
          "2019-12-10T00:00:00.000000",
          "2019-12-11T00:00:00.000000",
          "2019-12-12T00:00:00.000000",
          "2019-12-13T00:00:00.000000",
          "2019-12-14T00:00:00.000000",
          "2019-12-15T00:00:00.000000",
          "2019-12-16T00:00:00.000000",
          "2019-12-17T00:00:00.000000",
          "2019-12-18T00:00:00.000000",
          "2019-12-19T00:00:00.000000",
          "2019-12-20T00:00:00.000000",
          "2019-12-21T00:00:00.000000",
          "2019-12-22T00:00:00.000000",
          "2019-12-23T00:00:00.000000",
          "2019-12-24T00:00:00.000000",
          "2019-12-25T00:00:00.000000",
          "2019-12-26T00:00:00.000000",
          "2019-12-27T00:00:00.000000",
          "2019-12-28T00:00:00.000000",
          "2019-12-29T00:00:00.000000",
          "2019-12-30T00:00:00.000000",
          "2019-12-31T00:00:00.000000",
          "2020-01-01T00:00:00.000000",
          "2020-01-02T00:00:00.000000",
          "2020-01-03T00:00:00.000000",
          "2020-01-04T00:00:00.000000",
          "2020-01-05T00:00:00.000000",
          "2020-01-06T00:00:00.000000",
          "2020-01-07T00:00:00.000000",
          "2020-01-08T00:00:00.000000",
          "2020-01-09T00:00:00.000000",
          "2020-01-10T00:00:00.000000",
          "2020-01-11T00:00:00.000000",
          "2020-01-12T00:00:00.000000",
          "2020-01-13T00:00:00.000000",
          "2020-01-14T00:00:00.000000",
          "2020-01-15T00:00:00.000000",
          "2020-01-16T00:00:00.000000",
          "2020-01-17T00:00:00.000000",
          "2020-01-18T00:00:00.000000",
          "2020-01-19T00:00:00.000000",
          "2020-01-20T00:00:00.000000",
          "2020-01-21T00:00:00.000000",
          "2020-01-22T00:00:00.000000",
          "2020-01-23T00:00:00.000000",
          "2020-01-24T00:00:00.000000",
          "2020-01-25T00:00:00.000000",
          "2020-01-26T00:00:00.000000",
          "2020-01-27T00:00:00.000000",
          "2020-01-28T00:00:00.000000",
          "2020-01-29T00:00:00.000000",
          "2020-01-30T00:00:00.000000",
          "2020-01-31T00:00:00.000000",
          "2020-02-01T00:00:00.000000",
          "2020-02-02T00:00:00.000000",
          "2020-02-03T00:00:00.000000",
          "2020-02-04T00:00:00.000000",
          "2020-02-05T00:00:00.000000",
          "2020-02-06T00:00:00.000000",
          "2020-02-07T00:00:00.000000",
          "2020-02-08T00:00:00.000000",
          "2020-02-09T00:00:00.000000",
          "2020-02-10T00:00:00.000000",
          "2020-02-11T00:00:00.000000",
          "2020-02-12T00:00:00.000000",
          "2020-02-13T00:00:00.000000",
          "2020-02-14T00:00:00.000000",
          "2020-02-15T00:00:00.000000",
          "2020-02-16T00:00:00.000000",
          "2020-02-17T00:00:00.000000",
          "2020-02-18T00:00:00.000000",
          "2020-02-19T00:00:00.000000",
          "2020-02-20T00:00:00.000000",
          "2020-02-21T00:00:00.000000",
          "2020-02-22T00:00:00.000000",
          "2020-02-23T00:00:00.000000",
          "2020-02-24T00:00:00.000000",
          "2020-02-25T00:00:00.000000",
          "2020-02-26T00:00:00.000000",
          "2020-02-27T00:00:00.000000",
          "2020-02-28T00:00:00.000000",
          "2020-02-29T00:00:00.000000",
          "2020-03-01T00:00:00.000000",
          "2020-03-02T00:00:00.000000",
          "2020-03-03T00:00:00.000000",
          "2020-03-04T00:00:00.000000",
          "2020-03-05T00:00:00.000000",
          "2020-03-06T00:00:00.000000",
          "2020-03-07T00:00:00.000000",
          "2020-03-08T00:00:00.000000",
          "2020-03-09T00:00:00.000000",
          "2020-03-10T00:00:00.000000",
          "2020-03-11T00:00:00.000000",
          "2020-03-12T00:00:00.000000",
          "2020-03-13T00:00:00.000000",
          "2020-03-14T00:00:00.000000",
          "2020-03-15T00:00:00.000000",
          "2020-03-16T00:00:00.000000",
          "2020-03-17T00:00:00.000000",
          "2020-03-18T00:00:00.000000",
          "2020-03-19T00:00:00.000000",
          "2020-03-20T00:00:00.000000",
          "2020-03-21T00:00:00.000000",
          "2020-03-22T00:00:00.000000",
          "2020-03-23T00:00:00.000000",
          "2020-03-24T00:00:00.000000",
          "2020-03-25T00:00:00.000000",
          "2020-03-26T00:00:00.000000",
          "2020-03-27T00:00:00.000000",
          "2020-03-28T00:00:00.000000",
          "2020-03-29T00:00:00.000000",
          "2020-03-30T00:00:00.000000",
          "2020-03-31T00:00:00.000000",
          "2020-04-01T00:00:00.000000",
          "2020-04-02T00:00:00.000000",
          "2020-04-03T00:00:00.000000",
          "2020-04-04T00:00:00.000000",
          "2020-04-05T00:00:00.000000",
          "2020-04-06T00:00:00.000000",
          "2020-04-07T00:00:00.000000",
          "2020-04-08T00:00:00.000000",
          "2020-04-09T00:00:00.000000",
          "2020-04-10T00:00:00.000000",
          "2020-04-11T00:00:00.000000",
          "2020-04-12T00:00:00.000000",
          "2020-04-13T00:00:00.000000",
          "2020-04-14T00:00:00.000000",
          "2020-04-15T00:00:00.000000",
          "2020-04-16T00:00:00.000000",
          "2020-04-17T00:00:00.000000",
          "2020-04-18T00:00:00.000000",
          "2020-04-19T00:00:00.000000",
          "2020-04-20T00:00:00.000000",
          "2020-04-21T00:00:00.000000",
          "2020-04-22T00:00:00.000000",
          "2020-04-23T00:00:00.000000",
          "2020-04-24T00:00:00.000000",
          "2020-04-25T00:00:00.000000",
          "2020-04-26T00:00:00.000000",
          "2020-04-27T00:00:00.000000",
          "2020-04-28T00:00:00.000000",
          "2020-04-29T00:00:00.000000",
          "2020-04-30T00:00:00.000000",
          "2020-05-01T00:00:00.000000",
          "2020-05-02T00:00:00.000000",
          "2020-05-03T00:00:00.000000",
          "2020-05-04T00:00:00.000000",
          "2020-05-05T00:00:00.000000",
          "2020-05-06T00:00:00.000000",
          "2020-05-07T00:00:00.000000",
          "2020-05-08T00:00:00.000000",
          "2020-05-09T00:00:00.000000",
          "2020-05-10T00:00:00.000000",
          "2020-05-11T00:00:00.000000",
          "2020-05-12T00:00:00.000000",
          "2020-05-13T00:00:00.000000",
          "2020-05-14T00:00:00.000000",
          "2020-05-15T00:00:00.000000",
          "2020-05-16T00:00:00.000000",
          "2020-05-17T00:00:00.000000",
          "2020-05-18T00:00:00.000000",
          "2020-05-19T00:00:00.000000",
          "2020-05-20T00:00:00.000000",
          "2020-05-21T00:00:00.000000",
          "2020-05-22T00:00:00.000000",
          "2020-05-23T00:00:00.000000",
          "2020-05-24T00:00:00.000000",
          "2020-05-25T00:00:00.000000",
          "2020-05-26T00:00:00.000000",
          "2020-05-27T00:00:00.000000",
          "2020-05-28T00:00:00.000000",
          "2020-05-29T00:00:00.000000",
          "2020-05-30T00:00:00.000000",
          "2020-05-31T00:00:00.000000",
          "2020-06-01T00:00:00.000000",
          "2020-06-02T00:00:00.000000",
          "2020-06-03T00:00:00.000000",
          "2020-06-04T00:00:00.000000",
          "2020-06-05T00:00:00.000000",
          "2020-06-06T00:00:00.000000",
          "2020-06-07T00:00:00.000000",
          "2020-06-08T00:00:00.000000",
          "2020-06-09T00:00:00.000000",
          "2020-06-10T00:00:00.000000",
          "2020-06-11T00:00:00.000000",
          "2020-06-12T00:00:00.000000",
          "2020-06-13T00:00:00.000000",
          "2020-06-14T00:00:00.000000",
          "2020-06-15T00:00:00.000000",
          "2020-06-16T00:00:00.000000",
          "2020-06-17T00:00:00.000000",
          "2020-06-18T00:00:00.000000",
          "2020-06-19T00:00:00.000000",
          "2020-06-20T00:00:00.000000",
          "2020-06-21T00:00:00.000000",
          "2020-06-22T00:00:00.000000",
          "2020-06-23T00:00:00.000000",
          "2020-06-24T00:00:00.000000",
          "2020-06-25T00:00:00.000000",
          "2020-06-26T00:00:00.000000",
          "2020-06-27T00:00:00.000000",
          "2020-06-28T00:00:00.000000",
          "2020-06-29T00:00:00.000000",
          "2020-06-30T00:00:00.000000",
          "2020-07-01T00:00:00.000000",
          "2020-07-02T00:00:00.000000",
          "2020-07-03T00:00:00.000000",
          "2020-07-04T00:00:00.000000",
          "2020-07-05T00:00:00.000000",
          "2020-07-06T00:00:00.000000",
          "2020-07-07T00:00:00.000000",
          "2020-07-08T00:00:00.000000",
          "2020-07-09T00:00:00.000000",
          "2020-07-10T00:00:00.000000",
          "2020-07-11T00:00:00.000000",
          "2020-07-12T00:00:00.000000",
          "2020-07-13T00:00:00.000000",
          "2020-07-14T00:00:00.000000",
          "2020-07-15T00:00:00.000000",
          "2020-07-16T00:00:00.000000",
          "2020-07-17T00:00:00.000000",
          "2020-07-18T00:00:00.000000",
          "2020-07-19T00:00:00.000000",
          "2020-07-20T00:00:00.000000",
          "2020-07-21T00:00:00.000000",
          "2020-07-22T00:00:00.000000",
          "2020-07-23T00:00:00.000000",
          "2020-07-24T00:00:00.000000",
          "2020-07-25T00:00:00.000000",
          "2020-07-26T00:00:00.000000",
          "2020-07-27T00:00:00.000000",
          "2020-07-28T00:00:00.000000",
          "2020-07-29T00:00:00.000000",
          "2020-07-30T00:00:00.000000",
          "2020-07-31T00:00:00.000000",
          "2020-08-01T00:00:00.000000",
          "2020-08-02T00:00:00.000000",
          "2020-08-03T00:00:00.000000",
          "2020-08-04T00:00:00.000000",
          "2020-08-05T00:00:00.000000",
          "2020-08-06T00:00:00.000000",
          "2020-08-07T00:00:00.000000",
          "2020-08-08T00:00:00.000000",
          "2020-08-09T00:00:00.000000",
          "2020-08-10T00:00:00.000000",
          "2020-08-11T00:00:00.000000",
          "2020-08-12T00:00:00.000000",
          "2020-08-13T00:00:00.000000",
          "2020-08-14T00:00:00.000000",
          "2020-08-15T00:00:00.000000",
          "2020-08-16T00:00:00.000000",
          "2020-08-17T00:00:00.000000",
          "2020-08-18T00:00:00.000000",
          "2020-08-19T00:00:00.000000",
          "2020-08-20T00:00:00.000000",
          "2020-08-21T00:00:00.000000",
          "2020-08-22T00:00:00.000000",
          "2020-08-23T00:00:00.000000",
          "2020-08-24T00:00:00.000000",
          "2020-08-25T00:00:00.000000",
          "2020-08-26T00:00:00.000000",
          "2020-08-27T00:00:00.000000",
          "2020-08-28T00:00:00.000000",
          "2020-08-29T00:00:00.000000",
          "2020-08-30T00:00:00.000000",
          "2020-08-31T00:00:00.000000",
          "2020-09-01T00:00:00.000000",
          "2020-09-02T00:00:00.000000",
          "2020-09-03T00:00:00.000000",
          "2020-09-04T00:00:00.000000",
          "2020-09-05T00:00:00.000000",
          "2020-09-06T00:00:00.000000",
          "2020-09-07T00:00:00.000000",
          "2020-09-08T00:00:00.000000",
          "2020-09-09T00:00:00.000000",
          "2020-09-10T00:00:00.000000",
          "2020-09-11T00:00:00.000000",
          "2020-09-12T00:00:00.000000",
          "2020-09-13T00:00:00.000000",
          "2020-09-14T00:00:00.000000",
          "2020-09-15T00:00:00.000000",
          "2020-09-16T00:00:00.000000",
          "2020-09-17T00:00:00.000000",
          "2020-09-18T00:00:00.000000",
          "2020-09-19T00:00:00.000000",
          "2020-09-20T00:00:00.000000",
          "2020-09-21T00:00:00.000000",
          "2020-09-22T00:00:00.000000",
          "2020-09-23T00:00:00.000000",
          "2020-09-24T00:00:00.000000",
          "2020-09-25T00:00:00.000000",
          "2020-09-26T00:00:00.000000"
         ],
         "xaxis": "x",
         "y": {
          "dtype": "float64",
          "shape": [
           1000
          ]
         },
         "yaxis": "y"
        }
       ],
       "_js2py_layoutDelta": {},
       "_js2py_pointsCallback": {},
       "_js2py_relayout": {},
       "_js2py_restyle": {},
       "_js2py_traceDeltas": {},
       "_js2py_update": {},
       "_last_layout_edit_id": 5,
       "_last_trace_edit_id": 5,
       "_layout": {
        "autosize": false,
        "colorway": [
         "#1f77b4",
         "#ff7f0e",
         "#2ca02c",
         "#d62728",
         "#9467bd",
         "#8c564b",
         "#e377c2",
         "#7f7f7f",
         "#bcbd22",
         "#17becf"
        ],
        "height": 300,
        "hovermode": "closest",
        "margin": {
         "b": 30,
         "t": 30
        },
        "showlegend": true,
        "template": {
         "data": {
          "bar": [
           {
            "error_x": {
             "color": "#2a3f5f"
            },
            "error_y": {
             "color": "#2a3f5f"
            },
            "marker": {
             "line": {
              "color": "#E5ECF6",
              "width": 0.5
             }
            },
            "type": "bar"
           }
          ],
          "barpolar": [
           {
            "marker": {
             "line": {
              "color": "#E5ECF6",
              "width": 0.5
             }
            },
            "type": "barpolar"
           }
          ],
          "carpet": [
           {
            "aaxis": {
             "endlinecolor": "#2a3f5f",
             "gridcolor": "white",
             "linecolor": "white",
             "minorgridcolor": "white",
             "startlinecolor": "#2a3f5f"
            },
            "baxis": {
             "endlinecolor": "#2a3f5f",
             "gridcolor": "white",
             "linecolor": "white",
             "minorgridcolor": "white",
             "startlinecolor": "#2a3f5f"
            },
            "type": "carpet"
           }
          ],
          "choropleth": [
           {
            "colorbar": {
             "outlinewidth": 0,
             "ticks": ""
            },
            "type": "choropleth"
           }
          ],
          "contour": [
           {
            "colorbar": {
             "outlinewidth": 0,
             "ticks": ""
            },
            "colorscale": [
             [
              0,
              "#0d0887"
             ],
             [
              0.1111111111111111,
              "#46039f"
             ],
             [
              0.2222222222222222,
              "#7201a8"
             ],
             [
              0.3333333333333333,
              "#9c179e"
             ],
             [
              0.4444444444444444,
              "#bd3786"
             ],
             [
              0.5555555555555556,
              "#d8576b"
             ],
             [
              0.6666666666666666,
              "#ed7953"
             ],
             [
              0.7777777777777778,
              "#fb9f3a"
             ],
             [
              0.8888888888888888,
              "#fdca26"
             ],
             [
              1,
              "#f0f921"
             ]
            ],
            "type": "contour"
           }
          ],
          "contourcarpet": [
           {
            "colorbar": {
             "outlinewidth": 0,
             "ticks": ""
            },
            "type": "contourcarpet"
           }
          ],
          "heatmap": [
           {
            "colorbar": {
             "outlinewidth": 0,
             "ticks": ""
            },
            "colorscale": [
             [
              0,
              "#0d0887"
             ],
             [
              0.1111111111111111,
              "#46039f"
             ],
             [
              0.2222222222222222,
              "#7201a8"
             ],
             [
              0.3333333333333333,
              "#9c179e"
             ],
             [
              0.4444444444444444,
              "#bd3786"
             ],
             [
              0.5555555555555556,
              "#d8576b"
             ],
             [
              0.6666666666666666,
              "#ed7953"
             ],
             [
              0.7777777777777778,
              "#fb9f3a"
             ],
             [
              0.8888888888888888,
              "#fdca26"
             ],
             [
              1,
              "#f0f921"
             ]
            ],
            "type": "heatmap"
           }
          ],
          "heatmapgl": [
           {
            "colorbar": {
             "outlinewidth": 0,
             "ticks": ""
            },
            "colorscale": [
             [
              0,
              "#0d0887"
             ],
             [
              0.1111111111111111,
              "#46039f"
             ],
             [
              0.2222222222222222,
              "#7201a8"
             ],
             [
              0.3333333333333333,
              "#9c179e"
             ],
             [
              0.4444444444444444,
              "#bd3786"
             ],
             [
              0.5555555555555556,
              "#d8576b"
             ],
             [
              0.6666666666666666,
              "#ed7953"
             ],
             [
              0.7777777777777778,
              "#fb9f3a"
             ],
             [
              0.8888888888888888,
              "#fdca26"
             ],
             [
              1,
              "#f0f921"
             ]
            ],
            "type": "heatmapgl"
           }
          ],
          "histogram": [
           {
            "marker": {
             "colorbar": {
              "outlinewidth": 0,
              "ticks": ""
             }
            },
            "type": "histogram"
           }
          ],
          "histogram2d": [
           {
            "colorbar": {
             "outlinewidth": 0,
             "ticks": ""
            },
            "colorscale": [
             [
              0,
              "#0d0887"
             ],
             [
              0.1111111111111111,
              "#46039f"
             ],
             [
              0.2222222222222222,
              "#7201a8"
             ],
             [
              0.3333333333333333,
              "#9c179e"
             ],
             [
              0.4444444444444444,
              "#bd3786"
             ],
             [
              0.5555555555555556,
              "#d8576b"
             ],
             [
              0.6666666666666666,
              "#ed7953"
             ],
             [
              0.7777777777777778,
              "#fb9f3a"
             ],
             [
              0.8888888888888888,
              "#fdca26"
             ],
             [
              1,
              "#f0f921"
             ]
            ],
            "type": "histogram2d"
           }
          ],
          "histogram2dcontour": [
           {
            "colorbar": {
             "outlinewidth": 0,
             "ticks": ""
            },
            "colorscale": [
             [
              0,
              "#0d0887"
             ],
             [
              0.1111111111111111,
              "#46039f"
             ],
             [
              0.2222222222222222,
              "#7201a8"
             ],
             [
              0.3333333333333333,
              "#9c179e"
             ],
             [
              0.4444444444444444,
              "#bd3786"
             ],
             [
              0.5555555555555556,
              "#d8576b"
             ],
             [
              0.6666666666666666,
              "#ed7953"
             ],
             [
              0.7777777777777778,
              "#fb9f3a"
             ],
             [
              0.8888888888888888,
              "#fdca26"
             ],
             [
              1,
              "#f0f921"
             ]
            ],
            "type": "histogram2dcontour"
           }
          ],
          "mesh3d": [
           {
            "colorbar": {
             "outlinewidth": 0,
             "ticks": ""
            },
            "type": "mesh3d"
           }
          ],
          "parcoords": [
           {
            "line": {
             "colorbar": {
              "outlinewidth": 0,
              "ticks": ""
             }
            },
            "type": "parcoords"
           }
          ],
          "pie": [
           {
            "automargin": true,
            "type": "pie"
           }
          ],
          "scatter": [
           {
            "marker": {
             "colorbar": {
              "outlinewidth": 0,
              "ticks": ""
             }
            },
            "type": "scatter"
           }
          ],
          "scatter3d": [
           {
            "line": {
             "colorbar": {
              "outlinewidth": 0,
              "ticks": ""
             }
            },
            "marker": {
             "colorbar": {
              "outlinewidth": 0,
              "ticks": ""
             }
            },
            "type": "scatter3d"
           }
          ],
          "scattercarpet": [
           {
            "marker": {
             "colorbar": {
              "outlinewidth": 0,
              "ticks": ""
             }
            },
            "type": "scattercarpet"
           }
          ],
          "scattergeo": [
           {
            "marker": {
             "colorbar": {
              "outlinewidth": 0,
              "ticks": ""
             }
            },
            "type": "scattergeo"
           }
          ],
          "scattergl": [
           {
            "marker": {
             "colorbar": {
              "outlinewidth": 0,
              "ticks": ""
             }
            },
            "type": "scattergl"
           }
          ],
          "scattermapbox": [
           {
            "marker": {
             "colorbar": {
              "outlinewidth": 0,
              "ticks": ""
             }
            },
            "type": "scattermapbox"
           }
          ],
          "scatterpolar": [
           {
            "marker": {
             "colorbar": {
              "outlinewidth": 0,
              "ticks": ""
             }
            },
            "type": "scatterpolar"
           }
          ],
          "scatterpolargl": [
           {
            "marker": {
             "colorbar": {
              "outlinewidth": 0,
              "ticks": ""
             }
            },
            "type": "scatterpolargl"
           }
          ],
          "scatterternary": [
           {
            "marker": {
             "colorbar": {
              "outlinewidth": 0,
              "ticks": ""
             }
            },
            "type": "scatterternary"
           }
          ],
          "surface": [
           {
            "colorbar": {
             "outlinewidth": 0,
             "ticks": ""
            },
            "colorscale": [
             [
              0,
              "#0d0887"
             ],
             [
              0.1111111111111111,
              "#46039f"
             ],
             [
              0.2222222222222222,
              "#7201a8"
             ],
             [
              0.3333333333333333,
              "#9c179e"
             ],
             [
              0.4444444444444444,
              "#bd3786"
             ],
             [
              0.5555555555555556,
              "#d8576b"
             ],
             [
              0.6666666666666666,
              "#ed7953"
             ],
             [
              0.7777777777777778,
              "#fb9f3a"
             ],
             [
              0.8888888888888888,
              "#fdca26"
             ],
             [
              1,
              "#f0f921"
             ]
            ],
            "type": "surface"
           }
          ],
          "table": [
           {
            "cells": {
             "fill": {
              "color": "#EBF0F8"
             },
             "line": {
              "color": "white"
             }
            },
            "header": {
             "fill": {
              "color": "#C8D4E3"
             },
             "line": {
              "color": "white"
             }
            },
            "type": "table"
           }
          ]
         },
         "layout": {
          "annotationdefaults": {
           "arrowcolor": "#2a3f5f",
           "arrowhead": 0,
           "arrowwidth": 1
          },
          "coloraxis": {
           "colorbar": {
            "outlinewidth": 0,
            "ticks": ""
           }
          },
          "colorscale": {
           "diverging": [
            [
             0,
             "#8e0152"
            ],
            [
             0.1,
             "#c51b7d"
            ],
            [
             0.2,
             "#de77ae"
            ],
            [
             0.3,
             "#f1b6da"
            ],
            [
             0.4,
             "#fde0ef"
            ],
            [
             0.5,
             "#f7f7f7"
            ],
            [
             0.6,
             "#e6f5d0"
            ],
            [
             0.7,
             "#b8e186"
            ],
            [
             0.8,
             "#7fbc41"
            ],
            [
             0.9,
             "#4d9221"
            ],
            [
             1,
             "#276419"
            ]
           ],
           "sequential": [
            [
             0,
             "#0d0887"
            ],
            [
             0.1111111111111111,
             "#46039f"
            ],
            [
             0.2222222222222222,
             "#7201a8"
            ],
            [
             0.3333333333333333,
             "#9c179e"
            ],
            [
             0.4444444444444444,
             "#bd3786"
            ],
            [
             0.5555555555555556,
             "#d8576b"
            ],
            [
             0.6666666666666666,
             "#ed7953"
            ],
            [
             0.7777777777777778,
             "#fb9f3a"
            ],
            [
             0.8888888888888888,
             "#fdca26"
            ],
            [
             1,
             "#f0f921"
            ]
           ],
           "sequentialminus": [
            [
             0,
             "#0d0887"
            ],
            [
             0.1111111111111111,
             "#46039f"
            ],
            [
             0.2222222222222222,
             "#7201a8"
            ],
            [
             0.3333333333333333,
             "#9c179e"
            ],
            [
             0.4444444444444444,
             "#bd3786"
            ],
            [
             0.5555555555555556,
             "#d8576b"
            ],
            [
             0.6666666666666666,
             "#ed7953"
            ],
            [
             0.7777777777777778,
             "#fb9f3a"
            ],
            [
             0.8888888888888888,
             "#fdca26"
            ],
            [
             1,
             "#f0f921"
            ]
           ]
          },
          "colorway": [
           "#636efa",
           "#EF553B",
           "#00cc96",
           "#ab63fa",
           "#FFA15A",
           "#19d3f3",
           "#FF6692",
           "#B6E880",
           "#FF97FF",
           "#FECB52"
          ],
          "font": {
           "color": "#2a3f5f"
          },
          "geo": {
           "bgcolor": "white",
           "lakecolor": "white",
           "landcolor": "#E5ECF6",
           "showlakes": true,
           "showland": true,
           "subunitcolor": "white"
          },
          "hoverlabel": {
           "align": "left"
          },
          "hovermode": "closest",
          "mapbox": {
           "style": "light"
          },
          "paper_bgcolor": "white",
          "plot_bgcolor": "#E5ECF6",
          "polar": {
           "angularaxis": {
            "gridcolor": "white",
            "linecolor": "white",
            "ticks": ""
           },
           "bgcolor": "#E5ECF6",
           "radialaxis": {
            "gridcolor": "white",
            "linecolor": "white",
            "ticks": ""
           }
          },
          "scene": {
           "xaxis": {
            "backgroundcolor": "#E5ECF6",
            "gridcolor": "white",
            "gridwidth": 2,
            "linecolor": "white",
            "showbackground": true,
            "ticks": "",
            "zerolinecolor": "white"
           },
           "yaxis": {
            "backgroundcolor": "#E5ECF6",
            "gridcolor": "white",
            "gridwidth": 2,
            "linecolor": "white",
            "showbackground": true,
            "ticks": "",
            "zerolinecolor": "white"
           },
           "zaxis": {
            "backgroundcolor": "#E5ECF6",
            "gridcolor": "white",
            "gridwidth": 2,
            "linecolor": "white",
            "showbackground": true,
            "ticks": "",
            "zerolinecolor": "white"
           }
          },
          "shapedefaults": {
           "line": {
            "color": "#2a3f5f"
           }
          },
          "ternary": {
           "aaxis": {
            "gridcolor": "white",
            "linecolor": "white",
            "ticks": ""
           },
           "baxis": {
            "gridcolor": "white",
            "linecolor": "white",
            "ticks": ""
           },
           "bgcolor": "#E5ECF6",
           "caxis": {
            "gridcolor": "white",
            "linecolor": "white",
            "ticks": ""
           }
          },
          "title": {
           "x": 0.05
          },
          "xaxis": {
           "automargin": true,
           "gridcolor": "white",
           "linecolor": "white",
           "ticks": "",
           "title": {
            "standoff": 15
           },
           "zerolinecolor": "white",
           "zerolinewidth": 2
          },
          "yaxis": {
           "automargin": true,
           "gridcolor": "white",
           "linecolor": "white",
           "ticks": "",
           "title": {
            "standoff": 15
           },
           "zerolinecolor": "white",
           "zerolinewidth": 2
          }
         }
        },
        "width": 700,
        "xaxis": {
         "rangeslider": {
          "visible": false
         },
         "showgrid": true
        },
        "yaxis": {
         "domain": [
          0,
          0.33
         ],
         "showgrid": true
        },
        "yaxis2": {
         "domain": [
          0.33,
          1
         ]
        }
       },
       "_model_module_version": "4.7.1",
       "_py2js_animate": {},
       "_py2js_deleteTraces": {},
       "_py2js_moveTraces": {},
       "_py2js_removeLayoutProps": {},
       "_py2js_removeTraceProps": {},
       "_py2js_restyle": {},
       "_view_count": 0,
       "_view_module_version": "4.7.1"
      }
     },
     "531b671bc4a34c81b7149c43c0691b8a": {
      "buffers": [
       {
        "data": "AABAQAAAgEA=",
        "encoding": "base64",
        "path": [
         "_data",
         1,
         "y",
         "value"
        ]
       },
       {
        "data": "AACAPw==",
        "encoding": "base64",
        "path": [
         "_data",
         2,
         "y",
         "value"
        ]
       },
       {
        "data": "AAAAQA==",
        "encoding": "base64",
        "path": [
         "_data",
         3,
         "y",
         "value"
        ]
       }
      ],
      "model_module": "plotlywidget",
      "model_module_version": "4.7.1",
      "model_name": "FigureModel",
      "state": {
       "_config": {
        "plotlyServerURL": "https://plot.ly"
       },
       "_data": [
        {
         "line": {
          "color": "grey",
          "dash": "dot",
          "width": 2
         },
         "showlegend": false,
         "type": "scatter",
         "uid": "1f7caf79-26e3-49ab-b0d3-e8eb2305e213",
         "x": [
          "2018-01-01T00:00:00.000000",
          "2018-01-02T00:00:00.000000",
          "2018-01-03T00:00:00.000000",
          "2018-01-04T00:00:00.000000",
          "2018-01-05T00:00:00.000000"
         ],
         "y": [
          2,
          2,
          2,
          2,
          2
         ]
        },
        {
         "marker": {
          "color": "green",
          "size": 10,
          "symbol": "circle"
         },
         "mode": "markers",
         "name": "a (above)",
         "showlegend": true,
         "type": "scatter",
         "uid": "821d83b1-cb7f-4389-8a4b-c8fb056e89e3",
         "x": [
          "2018-01-03T00:00:00.000000",
          "2018-01-04T00:00:00.000000"
         ],
         "y": {
          "dtype": "float32",
          "shape": [
           2
          ]
         }
        },
        {
         "marker": {
          "color": "red",
          "size": 10,
          "symbol": "circle"
         },
         "mode": "markers",
         "name": "a (below)",
         "showlegend": true,
         "type": "scatter",
         "uid": "a2fc0b3c-9ae9-4b73-b5c0-a135f6875756",
         "x": [
          "2018-01-01T00:00:00.000000"
         ],
         "y": {
          "dtype": "float32",
          "shape": [
           1
          ]
         }
        },
        {
         "marker": {
          "color": "grey",
          "size": 10,
          "symbol": "circle"
         },
         "mode": "markers",
         "name": "a (equal)",
         "showlegend": true,
         "type": "scatter",
         "uid": "f3eae6ad-ecc0-4271-a765-3a7f031a5868",
         "x": [
          "2018-01-02T00:00:00.000000"
         ],
         "y": {
          "dtype": "float32",
          "shape": [
           1
          ]
         }
        }
       ],
       "_js2py_layoutDelta": {},
       "_js2py_pointsCallback": {},
       "_js2py_relayout": {},
       "_js2py_restyle": {},
       "_js2py_traceDeltas": {},
       "_js2py_update": {},
       "_last_layout_edit_id": 6,
       "_last_trace_edit_id": 6,
       "_layout": {
        "autosize": false,
        "colorway": [
         "#1f77b4",
         "#ff7f0e",
         "#2ca02c",
         "#d62728",
         "#9467bd",
         "#8c564b",
         "#e377c2",
         "#7f7f7f",
         "#bcbd22",
         "#17becf"
        ],
        "height": 300,
        "hovermode": "closest",
        "margin": {
         "b": 30,
         "t": 30
        },
        "shapes": [
         {
          "line": {
           "color": "grey",
           "dash": "dot",
           "width": 2
          },
          "type": "line",
          "x0": 0,
          "x1": 1,
          "xref": "paper",
          "y0": 2,
          "y1": 2,
          "yref": "y"
         }
        ],
        "template": {
         "data": {
          "bar": [
           {
            "error_x": {
             "color": "#2a3f5f"
            },
            "error_y": {
             "color": "#2a3f5f"
            },
            "marker": {
             "line": {
              "color": "#E5ECF6",
              "width": 0.5
             }
            },
            "type": "bar"
           }
          ],
          "barpolar": [
           {
            "marker": {
             "line": {
              "color": "#E5ECF6",
              "width": 0.5
             }
            },
            "type": "barpolar"
           }
          ],
          "carpet": [
           {
            "aaxis": {
             "endlinecolor": "#2a3f5f",
             "gridcolor": "white",
             "linecolor": "white",
             "minorgridcolor": "white",
             "startlinecolor": "#2a3f5f"
            },
            "baxis": {
             "endlinecolor": "#2a3f5f",
             "gridcolor": "white",
             "linecolor": "white",
             "minorgridcolor": "white",
             "startlinecolor": "#2a3f5f"
            },
            "type": "carpet"
           }
          ],
          "choropleth": [
           {
            "colorbar": {
             "outlinewidth": 0,
             "ticks": ""
            },
            "type": "choropleth"
           }
          ],
          "contour": [
           {
            "colorbar": {
             "outlinewidth": 0,
             "ticks": ""
            },
            "colorscale": [
             [
              0,
              "#0d0887"
             ],
             [
              0.1111111111111111,
              "#46039f"
             ],
             [
              0.2222222222222222,
              "#7201a8"
             ],
             [
              0.3333333333333333,
              "#9c179e"
             ],
             [
              0.4444444444444444,
              "#bd3786"
             ],
             [
              0.5555555555555556,
              "#d8576b"
             ],
             [
              0.6666666666666666,
              "#ed7953"
             ],
             [
              0.7777777777777778,
              "#fb9f3a"
             ],
             [
              0.8888888888888888,
              "#fdca26"
             ],
             [
              1,
              "#f0f921"
             ]
            ],
            "type": "contour"
           }
          ],
          "contourcarpet": [
           {
            "colorbar": {
             "outlinewidth": 0,
             "ticks": ""
            },
            "type": "contourcarpet"
           }
          ],
          "heatmap": [
           {
            "colorbar": {
             "outlinewidth": 0,
             "ticks": ""
            },
            "colorscale": [
             [
              0,
              "#0d0887"
             ],
             [
              0.1111111111111111,
              "#46039f"
             ],
             [
              0.2222222222222222,
              "#7201a8"
             ],
             [
              0.3333333333333333,
              "#9c179e"
             ],
             [
              0.4444444444444444,
              "#bd3786"
             ],
             [
              0.5555555555555556,
              "#d8576b"
             ],
             [
              0.6666666666666666,
              "#ed7953"
             ],
             [
              0.7777777777777778,
              "#fb9f3a"
             ],
             [
              0.8888888888888888,
              "#fdca26"
             ],
             [
              1,
              "#f0f921"
             ]
            ],
            "type": "heatmap"
           }
          ],
          "heatmapgl": [
           {
            "colorbar": {
             "outlinewidth": 0,
             "ticks": ""
            },
            "colorscale": [
             [
              0,
              "#0d0887"
             ],
             [
              0.1111111111111111,
              "#46039f"
             ],
             [
              0.2222222222222222,
              "#7201a8"
             ],
             [
              0.3333333333333333,
              "#9c179e"
             ],
             [
              0.4444444444444444,
              "#bd3786"
             ],
             [
              0.5555555555555556,
              "#d8576b"
             ],
             [
              0.6666666666666666,
              "#ed7953"
             ],
             [
              0.7777777777777778,
              "#fb9f3a"
             ],
             [
              0.8888888888888888,
              "#fdca26"
             ],
             [
              1,
              "#f0f921"
             ]
            ],
            "type": "heatmapgl"
           }
          ],
          "histogram": [
           {
            "marker": {
             "colorbar": {
              "outlinewidth": 0,
              "ticks": ""
             }
            },
            "type": "histogram"
           }
          ],
          "histogram2d": [
           {
            "colorbar": {
             "outlinewidth": 0,
             "ticks": ""
            },
            "colorscale": [
             [
              0,
              "#0d0887"
             ],
             [
              0.1111111111111111,
              "#46039f"
             ],
             [
              0.2222222222222222,
              "#7201a8"
             ],
             [
              0.3333333333333333,
              "#9c179e"
             ],
             [
              0.4444444444444444,
              "#bd3786"
             ],
             [
              0.5555555555555556,
              "#d8576b"
             ],
             [
              0.6666666666666666,
              "#ed7953"
             ],
             [
              0.7777777777777778,
              "#fb9f3a"
             ],
             [
              0.8888888888888888,
              "#fdca26"
             ],
             [
              1,
              "#f0f921"
             ]
            ],
            "type": "histogram2d"
           }
          ],
          "histogram2dcontour": [
           {
            "colorbar": {
             "outlinewidth": 0,
             "ticks": ""
            },
            "colorscale": [
             [
              0,
              "#0d0887"
             ],
             [
              0.1111111111111111,
              "#46039f"
             ],
             [
              0.2222222222222222,
              "#7201a8"
             ],
             [
              0.3333333333333333,
              "#9c179e"
             ],
             [
              0.4444444444444444,
              "#bd3786"
             ],
             [
              0.5555555555555556,
              "#d8576b"
             ],
             [
              0.6666666666666666,
              "#ed7953"
             ],
             [
              0.7777777777777778,
              "#fb9f3a"
             ],
             [
              0.8888888888888888,
              "#fdca26"
             ],
             [
              1,
              "#f0f921"
             ]
            ],
            "type": "histogram2dcontour"
           }
          ],
          "mesh3d": [
           {
            "colorbar": {
             "outlinewidth": 0,
             "ticks": ""
            },
            "type": "mesh3d"
           }
          ],
          "parcoords": [
           {
            "line": {
             "colorbar": {
              "outlinewidth": 0,
              "ticks": ""
             }
            },
            "type": "parcoords"
           }
          ],
          "pie": [
           {
            "automargin": true,
            "type": "pie"
           }
          ],
          "scatter": [
           {
            "marker": {
             "colorbar": {
              "outlinewidth": 0,
              "ticks": ""
             }
            },
            "type": "scatter"
           }
          ],
          "scatter3d": [
           {
            "line": {
             "colorbar": {
              "outlinewidth": 0,
              "ticks": ""
             }
            },
            "marker": {
             "colorbar": {
              "outlinewidth": 0,
              "ticks": ""
             }
            },
            "type": "scatter3d"
           }
          ],
          "scattercarpet": [
           {
            "marker": {
             "colorbar": {
              "outlinewidth": 0,
              "ticks": ""
             }
            },
            "type": "scattercarpet"
           }
          ],
          "scattergeo": [
           {
            "marker": {
             "colorbar": {
              "outlinewidth": 0,
              "ticks": ""
             }
            },
            "type": "scattergeo"
           }
          ],
          "scattergl": [
           {
            "marker": {
             "colorbar": {
              "outlinewidth": 0,
              "ticks": ""
             }
            },
            "type": "scattergl"
           }
          ],
          "scattermapbox": [
           {
            "marker": {
             "colorbar": {
              "outlinewidth": 0,
              "ticks": ""
             }
            },
            "type": "scattermapbox"
           }
          ],
          "scatterpolar": [
           {
            "marker": {
             "colorbar": {
              "outlinewidth": 0,
              "ticks": ""
             }
            },
            "type": "scatterpolar"
           }
          ],
          "scatterpolargl": [
           {
            "marker": {
             "colorbar": {
              "outlinewidth": 0,
              "ticks": ""
             }
            },
            "type": "scatterpolargl"
           }
          ],
          "scatterternary": [
           {
            "marker": {
             "colorbar": {
              "outlinewidth": 0,
              "ticks": ""
             }
            },
            "type": "scatterternary"
           }
          ],
          "surface": [
           {
            "colorbar": {
             "outlinewidth": 0,
             "ticks": ""
            },
            "colorscale": [
             [
              0,
              "#0d0887"
             ],
             [
              0.1111111111111111,
              "#46039f"
             ],
             [
              0.2222222222222222,
              "#7201a8"
             ],
             [
              0.3333333333333333,
              "#9c179e"
             ],
             [
              0.4444444444444444,
              "#bd3786"
             ],
             [
              0.5555555555555556,
              "#d8576b"
             ],
             [
              0.6666666666666666,
              "#ed7953"
             ],
             [
              0.7777777777777778,
              "#fb9f3a"
             ],
             [
              0.8888888888888888,
              "#fdca26"
             ],
             [
              1,
              "#f0f921"
             ]
            ],
            "type": "surface"
           }
          ],
          "table": [
           {
            "cells": {
             "fill": {
              "color": "#EBF0F8"
             },
             "line": {
              "color": "white"
             }
            },
            "header": {
             "fill": {
              "color": "#C8D4E3"
             },
             "line": {
              "color": "white"
             }
            },
            "type": "table"
           }
          ]
         },
         "layout": {
          "annotationdefaults": {
           "arrowcolor": "#2a3f5f",
           "arrowhead": 0,
           "arrowwidth": 1
          },
          "coloraxis": {
           "colorbar": {
            "outlinewidth": 0,
            "ticks": ""
           }
          },
          "colorscale": {
           "diverging": [
            [
             0,
             "#8e0152"
            ],
            [
             0.1,
             "#c51b7d"
            ],
            [
             0.2,
             "#de77ae"
            ],
            [
             0.3,
             "#f1b6da"
            ],
            [
             0.4,
             "#fde0ef"
            ],
            [
             0.5,
             "#f7f7f7"
            ],
            [
             0.6,
             "#e6f5d0"
            ],
            [
             0.7,
             "#b8e186"
            ],
            [
             0.8,
             "#7fbc41"
            ],
            [
             0.9,
             "#4d9221"
            ],
            [
             1,
             "#276419"
            ]
           ],
           "sequential": [
            [
             0,
             "#0d0887"
            ],
            [
             0.1111111111111111,
             "#46039f"
            ],
            [
             0.2222222222222222,
             "#7201a8"
            ],
            [
             0.3333333333333333,
             "#9c179e"
            ],
            [
             0.4444444444444444,
             "#bd3786"
            ],
            [
             0.5555555555555556,
             "#d8576b"
            ],
            [
             0.6666666666666666,
             "#ed7953"
            ],
            [
             0.7777777777777778,
             "#fb9f3a"
            ],
            [
             0.8888888888888888,
             "#fdca26"
            ],
            [
             1,
             "#f0f921"
            ]
           ],
           "sequentialminus": [
            [
             0,
             "#0d0887"
            ],
            [
             0.1111111111111111,
             "#46039f"
            ],
            [
             0.2222222222222222,
             "#7201a8"
            ],
            [
             0.3333333333333333,
             "#9c179e"
            ],
            [
             0.4444444444444444,
             "#bd3786"
            ],
            [
             0.5555555555555556,
             "#d8576b"
            ],
            [
             0.6666666666666666,
             "#ed7953"
            ],
            [
             0.7777777777777778,
             "#fb9f3a"
            ],
            [
             0.8888888888888888,
             "#fdca26"
            ],
            [
             1,
             "#f0f921"
            ]
           ]
          },
          "colorway": [
           "#636efa",
           "#EF553B",
           "#00cc96",
           "#ab63fa",
           "#FFA15A",
           "#19d3f3",
           "#FF6692",
           "#B6E880",
           "#FF97FF",
           "#FECB52"
          ],
          "font": {
           "color": "#2a3f5f"
          },
          "geo": {
           "bgcolor": "white",
           "lakecolor": "white",
           "landcolor": "#E5ECF6",
           "showlakes": true,
           "showland": true,
           "subunitcolor": "white"
          },
          "hoverlabel": {
           "align": "left"
          },
          "hovermode": "closest",
          "mapbox": {
           "style": "light"
          },
          "paper_bgcolor": "white",
          "plot_bgcolor": "#E5ECF6",
          "polar": {
           "angularaxis": {
            "gridcolor": "white",
            "linecolor": "white",
            "ticks": ""
           },
           "bgcolor": "#E5ECF6",
           "radialaxis": {
            "gridcolor": "white",
            "linecolor": "white",
            "ticks": ""
           }
          },
          "scene": {
           "xaxis": {
            "backgroundcolor": "#E5ECF6",
            "gridcolor": "white",
            "gridwidth": 2,
            "linecolor": "white",
            "showbackground": true,
            "ticks": "",
            "zerolinecolor": "white"
           },
           "yaxis": {
            "backgroundcolor": "#E5ECF6",
            "gridcolor": "white",
            "gridwidth": 2,
            "linecolor": "white",
            "showbackground": true,
            "ticks": "",
            "zerolinecolor": "white"
           },
           "zaxis": {
            "backgroundcolor": "#E5ECF6",
            "gridcolor": "white",
            "gridwidth": 2,
            "linecolor": "white",
            "showbackground": true,
            "ticks": "",
            "zerolinecolor": "white"
           }
          },
          "shapedefaults": {
           "line": {
            "color": "#2a3f5f"
           }
          },
          "ternary": {
           "aaxis": {
            "gridcolor": "white",
            "linecolor": "white",
            "ticks": ""
           },
           "baxis": {
            "gridcolor": "white",
            "linecolor": "white",
            "ticks": ""
           },
           "bgcolor": "#E5ECF6",
           "caxis": {
            "gridcolor": "white",
            "linecolor": "white",
            "ticks": ""
           }
          },
          "title": {
           "x": 0.05
          },
          "xaxis": {
           "automargin": true,
           "gridcolor": "white",
           "linecolor": "white",
           "ticks": "",
           "title": {
            "standoff": 15
           },
           "zerolinecolor": "white",
           "zerolinewidth": 2
          },
          "yaxis": {
           "automargin": true,
           "gridcolor": "white",
           "linecolor": "white",
           "ticks": "",
           "title": {
            "standoff": 15
           },
           "zerolinecolor": "white",
           "zerolinewidth": 2
          }
         }
        },
        "width": 700,
        "yaxis": {
         "range": [
          -2.8,
          6.8
         ]
        }
       },
       "_model_module_version": "4.7.1",
       "_py2js_animate": {},
       "_py2js_deleteTraces": {},
       "_py2js_moveTraces": {},
       "_py2js_removeLayoutProps": {},
       "_py2js_removeTraceProps": {},
       "_py2js_restyle": {},
       "_view_count": 0,
       "_view_module_version": "4.7.1"
      }
     },
     "75703a6e672748a5abde1bc92c8d43ec": {
      "buffers": [
       {
        "data": "AADAfwAAgEAAAEBAAAAAQAAAgD8=",
        "encoding": "base64",
        "path": [
         "_data",
         0,
         "y",
         "value"
        ]
       },
       {
        "data": "AACAQA==",
        "encoding": "base64",
        "path": [
         "_data",
         1,
         "y",
         "value"
        ]
       },
       {
        "data": "AAAAQA==",
        "encoding": "base64",
        "path": [
         "_data",
         2,
         "y",
         "value"
        ]
       },
       {
        "data": "AABAQA==",
        "encoding": "base64",
        "path": [
         "_data",
         3,
         "y",
         "value"
        ]
       }
      ],
      "model_module": "plotlywidget",
      "model_module_version": "4.7.1",
      "model_name": "FigureModel",
      "state": {
       "_config": {
        "plotlyServerURL": "https://plot.ly"
       },
       "_data": [
        {
         "line": {
          "color": "grey",
          "dash": "dot",
          "width": 2
         },
         "name": "b",
         "showlegend": true,
         "type": "scatter",
         "uid": "fe347238-05e4-48a5-910a-2262cda3c77d",
         "x": [
          "2018-01-01T00:00:00.000000",
          "2018-01-02T00:00:00.000000",
          "2018-01-03T00:00:00.000000",
          "2018-01-04T00:00:00.000000",
          "2018-01-05T00:00:00.000000"
         ],
         "y": {
          "dtype": "float32",
          "shape": [
           5
          ]
         }
        },
        {
         "marker": {
          "color": "green",
          "size": 10,
          "symbol": "circle"
         },
         "mode": "markers",
         "name": "a (above)",
         "showlegend": true,
         "type": "scatter",
         "uid": "8fb4c0c0-00e6-424b-a49f-28a2d5b4b8ba",
         "x": [
          "2018-01-04T00:00:00.000000"
         ],
         "y": {
          "dtype": "float32",
          "shape": [
           1
          ]
         }
        },
        {
         "marker": {
          "color": "red",
          "size": 10,
          "symbol": "circle"
         },
         "mode": "markers",
         "name": "a (below)",
         "showlegend": true,
         "type": "scatter",
         "uid": "76c1c78e-a5f8-42c5-80a2-30937e1065b2",
         "x": [
          "2018-01-02T00:00:00.000000"
         ],
         "y": {
          "dtype": "float32",
          "shape": [
           1
          ]
         }
        },
        {
         "marker": {
          "color": "grey",
          "size": 10,
          "symbol": "circle"
         },
         "mode": "markers",
         "name": "a (equal)",
         "showlegend": true,
         "type": "scatter",
         "uid": "31b15ebb-2331-48d3-9c7c-e4aadd134daf",
         "x": [
          "2018-01-03T00:00:00.000000"
         ],
         "y": {
          "dtype": "float32",
          "shape": [
           1
          ]
         }
        }
       ],
       "_js2py_layoutDelta": {},
       "_js2py_pointsCallback": {},
       "_js2py_relayout": {},
       "_js2py_restyle": {},
       "_js2py_traceDeltas": {},
       "_js2py_update": {},
       "_last_layout_edit_id": 5,
       "_last_trace_edit_id": 5,
       "_layout": {
        "autosize": false,
        "colorway": [
         "#1f77b4",
         "#ff7f0e",
         "#2ca02c",
         "#d62728",
         "#9467bd",
         "#8c564b",
         "#e377c2",
         "#7f7f7f",
         "#bcbd22",
         "#17becf"
        ],
        "height": 300,
        "hovermode": "closest",
        "margin": {
         "b": 30,
         "t": 30
        },
        "template": {
         "data": {
          "bar": [
           {
            "error_x": {
             "color": "#2a3f5f"
            },
            "error_y": {
             "color": "#2a3f5f"
            },
            "marker": {
             "line": {
              "color": "#E5ECF6",
              "width": 0.5
             }
            },
            "type": "bar"
           }
          ],
          "barpolar": [
           {
            "marker": {
             "line": {
              "color": "#E5ECF6",
              "width": 0.5
             }
            },
            "type": "barpolar"
           }
          ],
          "carpet": [
           {
            "aaxis": {
             "endlinecolor": "#2a3f5f",
             "gridcolor": "white",
             "linecolor": "white",
             "minorgridcolor": "white",
             "startlinecolor": "#2a3f5f"
            },
            "baxis": {
             "endlinecolor": "#2a3f5f",
             "gridcolor": "white",
             "linecolor": "white",
             "minorgridcolor": "white",
             "startlinecolor": "#2a3f5f"
            },
            "type": "carpet"
           }
          ],
          "choropleth": [
           {
            "colorbar": {
             "outlinewidth": 0,
             "ticks": ""
            },
            "type": "choropleth"
           }
          ],
          "contour": [
           {
            "colorbar": {
             "outlinewidth": 0,
             "ticks": ""
            },
            "colorscale": [
             [
              0,
              "#0d0887"
             ],
             [
              0.1111111111111111,
              "#46039f"
             ],
             [
              0.2222222222222222,
              "#7201a8"
             ],
             [
              0.3333333333333333,
              "#9c179e"
             ],
             [
              0.4444444444444444,
              "#bd3786"
             ],
             [
              0.5555555555555556,
              "#d8576b"
             ],
             [
              0.6666666666666666,
              "#ed7953"
             ],
             [
              0.7777777777777778,
              "#fb9f3a"
             ],
             [
              0.8888888888888888,
              "#fdca26"
             ],
             [
              1,
              "#f0f921"
             ]
            ],
            "type": "contour"
           }
          ],
          "contourcarpet": [
           {
            "colorbar": {
             "outlinewidth": 0,
             "ticks": ""
            },
            "type": "contourcarpet"
           }
          ],
          "heatmap": [
           {
            "colorbar": {
             "outlinewidth": 0,
             "ticks": ""
            },
            "colorscale": [
             [
              0,
              "#0d0887"
             ],
             [
              0.1111111111111111,
              "#46039f"
             ],
             [
              0.2222222222222222,
              "#7201a8"
             ],
             [
              0.3333333333333333,
              "#9c179e"
             ],
             [
              0.4444444444444444,
              "#bd3786"
             ],
             [
              0.5555555555555556,
              "#d8576b"
             ],
             [
              0.6666666666666666,
              "#ed7953"
             ],
             [
              0.7777777777777778,
              "#fb9f3a"
             ],
             [
              0.8888888888888888,
              "#fdca26"
             ],
             [
              1,
              "#f0f921"
             ]
            ],
            "type": "heatmap"
           }
          ],
          "heatmapgl": [
           {
            "colorbar": {
             "outlinewidth": 0,
             "ticks": ""
            },
            "colorscale": [
             [
              0,
              "#0d0887"
             ],
             [
              0.1111111111111111,
              "#46039f"
             ],
             [
              0.2222222222222222,
              "#7201a8"
             ],
             [
              0.3333333333333333,
              "#9c179e"
             ],
             [
              0.4444444444444444,
              "#bd3786"
             ],
             [
              0.5555555555555556,
              "#d8576b"
             ],
             [
              0.6666666666666666,
              "#ed7953"
             ],
             [
              0.7777777777777778,
              "#fb9f3a"
             ],
             [
              0.8888888888888888,
              "#fdca26"
             ],
             [
              1,
              "#f0f921"
             ]
            ],
            "type": "heatmapgl"
           }
          ],
          "histogram": [
           {
            "marker": {
             "colorbar": {
              "outlinewidth": 0,
              "ticks": ""
             }
            },
            "type": "histogram"
           }
          ],
          "histogram2d": [
           {
            "colorbar": {
             "outlinewidth": 0,
             "ticks": ""
            },
            "colorscale": [
             [
              0,
              "#0d0887"
             ],
             [
              0.1111111111111111,
              "#46039f"
             ],
             [
              0.2222222222222222,
              "#7201a8"
             ],
             [
              0.3333333333333333,
              "#9c179e"
             ],
             [
              0.4444444444444444,
              "#bd3786"
             ],
             [
              0.5555555555555556,
              "#d8576b"
             ],
             [
              0.6666666666666666,
              "#ed7953"
             ],
             [
              0.7777777777777778,
              "#fb9f3a"
             ],
             [
              0.8888888888888888,
              "#fdca26"
             ],
             [
              1,
              "#f0f921"
             ]
            ],
            "type": "histogram2d"
           }
          ],
          "histogram2dcontour": [
           {
            "colorbar": {
             "outlinewidth": 0,
             "ticks": ""
            },
            "colorscale": [
             [
              0,
              "#0d0887"
             ],
             [
              0.1111111111111111,
              "#46039f"
             ],
             [
              0.2222222222222222,
              "#7201a8"
             ],
             [
              0.3333333333333333,
              "#9c179e"
             ],
             [
              0.4444444444444444,
              "#bd3786"
             ],
             [
              0.5555555555555556,
              "#d8576b"
             ],
             [
              0.6666666666666666,
              "#ed7953"
             ],
             [
              0.7777777777777778,
              "#fb9f3a"
             ],
             [
              0.8888888888888888,
              "#fdca26"
             ],
             [
              1,
              "#f0f921"
             ]
            ],
            "type": "histogram2dcontour"
           }
          ],
          "mesh3d": [
           {
            "colorbar": {
             "outlinewidth": 0,
             "ticks": ""
            },
            "type": "mesh3d"
           }
          ],
          "parcoords": [
           {
            "line": {
             "colorbar": {
              "outlinewidth": 0,
              "ticks": ""
             }
            },
            "type": "parcoords"
           }
          ],
          "pie": [
           {
            "automargin": true,
            "type": "pie"
           }
          ],
          "scatter": [
           {
            "marker": {
             "colorbar": {
              "outlinewidth": 0,
              "ticks": ""
             }
            },
            "type": "scatter"
           }
          ],
          "scatter3d": [
           {
            "line": {
             "colorbar": {
              "outlinewidth": 0,
              "ticks": ""
             }
            },
            "marker": {
             "colorbar": {
              "outlinewidth": 0,
              "ticks": ""
             }
            },
            "type": "scatter3d"
           }
          ],
          "scattercarpet": [
           {
            "marker": {
             "colorbar": {
              "outlinewidth": 0,
              "ticks": ""
             }
            },
            "type": "scattercarpet"
           }
          ],
          "scattergeo": [
           {
            "marker": {
             "colorbar": {
              "outlinewidth": 0,
              "ticks": ""
             }
            },
            "type": "scattergeo"
           }
          ],
          "scattergl": [
           {
            "marker": {
             "colorbar": {
              "outlinewidth": 0,
              "ticks": ""
             }
            },
            "type": "scattergl"
           }
          ],
          "scattermapbox": [
           {
            "marker": {
             "colorbar": {
              "outlinewidth": 0,
              "ticks": ""
             }
            },
            "type": "scattermapbox"
           }
          ],
          "scatterpolar": [
           {
            "marker": {
             "colorbar": {
              "outlinewidth": 0,
              "ticks": ""
             }
            },
            "type": "scatterpolar"
           }
          ],
          "scatterpolargl": [
           {
            "marker": {
             "colorbar": {
              "outlinewidth": 0,
              "ticks": ""
             }
            },
            "type": "scatterpolargl"
           }
          ],
          "scatterternary": [
           {
            "marker": {
             "colorbar": {
              "outlinewidth": 0,
              "ticks": ""
             }
            },
            "type": "scatterternary"
           }
          ],
          "surface": [
           {
            "colorbar": {
             "outlinewidth": 0,
             "ticks": ""
            },
            "colorscale": [
             [
              0,
              "#0d0887"
             ],
             [
              0.1111111111111111,
              "#46039f"
             ],
             [
              0.2222222222222222,
              "#7201a8"
             ],
             [
              0.3333333333333333,
              "#9c179e"
             ],
             [
              0.4444444444444444,
              "#bd3786"
             ],
             [
              0.5555555555555556,
              "#d8576b"
             ],
             [
              0.6666666666666666,
              "#ed7953"
             ],
             [
              0.7777777777777778,
              "#fb9f3a"
             ],
             [
              0.8888888888888888,
              "#fdca26"
             ],
             [
              1,
              "#f0f921"
             ]
            ],
            "type": "surface"
           }
          ],
          "table": [
           {
            "cells": {
             "fill": {
              "color": "#EBF0F8"
             },
             "line": {
              "color": "white"
             }
            },
            "header": {
             "fill": {
              "color": "#C8D4E3"
             },
             "line": {
              "color": "white"
             }
            },
            "type": "table"
           }
          ]
         },
         "layout": {
          "annotationdefaults": {
           "arrowcolor": "#2a3f5f",
           "arrowhead": 0,
           "arrowwidth": 1
          },
          "coloraxis": {
           "colorbar": {
            "outlinewidth": 0,
            "ticks": ""
           }
          },
          "colorscale": {
           "diverging": [
            [
             0,
             "#8e0152"
            ],
            [
             0.1,
             "#c51b7d"
            ],
            [
             0.2,
             "#de77ae"
            ],
            [
             0.3,
             "#f1b6da"
            ],
            [
             0.4,
             "#fde0ef"
            ],
            [
             0.5,
             "#f7f7f7"
            ],
            [
             0.6,
             "#e6f5d0"
            ],
            [
             0.7,
             "#b8e186"
            ],
            [
             0.8,
             "#7fbc41"
            ],
            [
             0.9,
             "#4d9221"
            ],
            [
             1,
             "#276419"
            ]
           ],
           "sequential": [
            [
             0,
             "#0d0887"
            ],
            [
             0.1111111111111111,
             "#46039f"
            ],
            [
             0.2222222222222222,
             "#7201a8"
            ],
            [
             0.3333333333333333,
             "#9c179e"
            ],
            [
             0.4444444444444444,
             "#bd3786"
            ],
            [
             0.5555555555555556,
             "#d8576b"
            ],
            [
             0.6666666666666666,
             "#ed7953"
            ],
            [
             0.7777777777777778,
             "#fb9f3a"
            ],
            [
             0.8888888888888888,
             "#fdca26"
            ],
            [
             1,
             "#f0f921"
            ]
           ],
           "sequentialminus": [
            [
             0,
             "#0d0887"
            ],
            [
             0.1111111111111111,
             "#46039f"
            ],
            [
             0.2222222222222222,
             "#7201a8"
            ],
            [
             0.3333333333333333,
             "#9c179e"
            ],
            [
             0.4444444444444444,
             "#bd3786"
            ],
            [
             0.5555555555555556,
             "#d8576b"
            ],
            [
             0.6666666666666666,
             "#ed7953"
            ],
            [
             0.7777777777777778,
             "#fb9f3a"
            ],
            [
             0.8888888888888888,
             "#fdca26"
            ],
            [
             1,
             "#f0f921"
            ]
           ]
          },
          "colorway": [
           "#636efa",
           "#EF553B",
           "#00cc96",
           "#ab63fa",
           "#FFA15A",
           "#19d3f3",
           "#FF6692",
           "#B6E880",
           "#FF97FF",
           "#FECB52"
          ],
          "font": {
           "color": "#2a3f5f"
          },
          "geo": {
           "bgcolor": "white",
           "lakecolor": "white",
           "landcolor": "#E5ECF6",
           "showlakes": true,
           "showland": true,
           "subunitcolor": "white"
          },
          "hoverlabel": {
           "align": "left"
          },
          "hovermode": "closest",
          "mapbox": {
           "style": "light"
          },
          "paper_bgcolor": "white",
          "plot_bgcolor": "#E5ECF6",
          "polar": {
           "angularaxis": {
            "gridcolor": "white",
            "linecolor": "white",
            "ticks": ""
           },
           "bgcolor": "#E5ECF6",
           "radialaxis": {
            "gridcolor": "white",
            "linecolor": "white",
            "ticks": ""
           }
          },
          "scene": {
           "xaxis": {
            "backgroundcolor": "#E5ECF6",
            "gridcolor": "white",
            "gridwidth": 2,
            "linecolor": "white",
            "showbackground": true,
            "ticks": "",
            "zerolinecolor": "white"
           },
           "yaxis": {
            "backgroundcolor": "#E5ECF6",
            "gridcolor": "white",
            "gridwidth": 2,
            "linecolor": "white",
            "showbackground": true,
            "ticks": "",
            "zerolinecolor": "white"
           },
           "zaxis": {
            "backgroundcolor": "#E5ECF6",
            "gridcolor": "white",
            "gridwidth": 2,
            "linecolor": "white",
            "showbackground": true,
            "ticks": "",
            "zerolinecolor": "white"
           }
          },
          "shapedefaults": {
           "line": {
            "color": "#2a3f5f"
           }
          },
          "ternary": {
           "aaxis": {
            "gridcolor": "white",
            "linecolor": "white",
            "ticks": ""
           },
           "baxis": {
            "gridcolor": "white",
            "linecolor": "white",
            "ticks": ""
           },
           "bgcolor": "#E5ECF6",
           "caxis": {
            "gridcolor": "white",
            "linecolor": "white",
            "ticks": ""
           }
          },
          "title": {
           "x": 0.05
          },
          "xaxis": {
           "automargin": true,
           "gridcolor": "white",
           "linecolor": "white",
           "ticks": "",
           "title": {
            "standoff": 15
           },
           "zerolinecolor": "white",
           "zerolinewidth": 2
          },
          "yaxis": {
           "automargin": true,
           "gridcolor": "white",
           "linecolor": "white",
           "ticks": "",
           "title": {
            "standoff": 15
           },
           "zerolinecolor": "white",
           "zerolinewidth": 2
          }
         }
        },
        "width": 700
       },
       "_model_module_version": "4.7.1",
       "_py2js_animate": {},
       "_py2js_deleteTraces": {},
       "_py2js_moveTraces": {},
       "_py2js_removeLayoutProps": {},
       "_py2js_removeTraceProps": {},
       "_py2js_restyle": {},
       "_view_count": 0,
       "_view_module_version": "4.7.1"
      }
     },
     "a251b78eb25e4507b089a872f778436b": {
      "buffers": [
       {
        "data": "AACAPwAAAEAAAEBAAACAQAAAwH8=",
        "encoding": "base64",
        "path": [
         "_data",
         0,
         "y",
         "value"
        ]
       }
      ],
      "model_module": "plotlywidget",
      "model_module_version": "4.7.1",
      "model_name": "FigureModel",
      "state": {
       "_config": {
        "plotlyServerURL": "https://plot.ly"
       },
       "_data": [
        {
         "mode": "lines",
         "name": "a",
         "showlegend": true,
         "type": "scatter",
         "uid": "c338ebb3-4b4f-464c-9958-b536cff45b66",
         "x": [
          "2018-01-01T00:00:00.000000",
          "2018-01-02T00:00:00.000000",
          "2018-01-03T00:00:00.000000",
          "2018-01-04T00:00:00.000000",
          "2018-01-05T00:00:00.000000"
         ],
         "y": {
          "dtype": "float32",
          "shape": [
           5
          ]
         }
        }
       ],
       "_js2py_layoutDelta": {},
       "_js2py_pointsCallback": {},
       "_js2py_relayout": {},
       "_js2py_restyle": {},
       "_js2py_traceDeltas": {},
       "_js2py_update": {},
       "_last_layout_edit_id": 2,
       "_last_trace_edit_id": 2,
       "_layout": {
        "autosize": false,
        "colorway": [
         "#1f77b4",
         "#ff7f0e",
         "#2ca02c",
         "#d62728",
         "#9467bd",
         "#8c564b",
         "#e377c2",
         "#7f7f7f",
         "#bcbd22",
         "#17becf"
        ],
        "height": 300,
        "hovermode": "closest",
        "margin": {
         "b": 30,
         "t": 30
        },
        "template": {
         "data": {
          "bar": [
           {
            "error_x": {
             "color": "#2a3f5f"
            },
            "error_y": {
             "color": "#2a3f5f"
            },
            "marker": {
             "line": {
              "color": "#E5ECF6",
              "width": 0.5
             }
            },
            "type": "bar"
           }
          ],
          "barpolar": [
           {
            "marker": {
             "line": {
              "color": "#E5ECF6",
              "width": 0.5
             }
            },
            "type": "barpolar"
           }
          ],
          "carpet": [
           {
            "aaxis": {
             "endlinecolor": "#2a3f5f",
             "gridcolor": "white",
             "linecolor": "white",
             "minorgridcolor": "white",
             "startlinecolor": "#2a3f5f"
            },
            "baxis": {
             "endlinecolor": "#2a3f5f",
             "gridcolor": "white",
             "linecolor": "white",
             "minorgridcolor": "white",
             "startlinecolor": "#2a3f5f"
            },
            "type": "carpet"
           }
          ],
          "choropleth": [
           {
            "colorbar": {
             "outlinewidth": 0,
             "ticks": ""
            },
            "type": "choropleth"
           }
          ],
          "contour": [
           {
            "colorbar": {
             "outlinewidth": 0,
             "ticks": ""
            },
            "colorscale": [
             [
              0,
              "#0d0887"
             ],
             [
              0.1111111111111111,
              "#46039f"
             ],
             [
              0.2222222222222222,
              "#7201a8"
             ],
             [
              0.3333333333333333,
              "#9c179e"
             ],
             [
              0.4444444444444444,
              "#bd3786"
             ],
             [
              0.5555555555555556,
              "#d8576b"
             ],
             [
              0.6666666666666666,
              "#ed7953"
             ],
             [
              0.7777777777777778,
              "#fb9f3a"
             ],
             [
              0.8888888888888888,
              "#fdca26"
             ],
             [
              1,
              "#f0f921"
             ]
            ],
            "type": "contour"
           }
          ],
          "contourcarpet": [
           {
            "colorbar": {
             "outlinewidth": 0,
             "ticks": ""
            },
            "type": "contourcarpet"
           }
          ],
          "heatmap": [
           {
            "colorbar": {
             "outlinewidth": 0,
             "ticks": ""
            },
            "colorscale": [
             [
              0,
              "#0d0887"
             ],
             [
              0.1111111111111111,
              "#46039f"
             ],
             [
              0.2222222222222222,
              "#7201a8"
             ],
             [
              0.3333333333333333,
              "#9c179e"
             ],
             [
              0.4444444444444444,
              "#bd3786"
             ],
             [
              0.5555555555555556,
              "#d8576b"
             ],
             [
              0.6666666666666666,
              "#ed7953"
             ],
             [
              0.7777777777777778,
              "#fb9f3a"
             ],
             [
              0.8888888888888888,
              "#fdca26"
             ],
             [
              1,
              "#f0f921"
             ]
            ],
            "type": "heatmap"
           }
          ],
          "heatmapgl": [
           {
            "colorbar": {
             "outlinewidth": 0,
             "ticks": ""
            },
            "colorscale": [
             [
              0,
              "#0d0887"
             ],
             [
              0.1111111111111111,
              "#46039f"
             ],
             [
              0.2222222222222222,
              "#7201a8"
             ],
             [
              0.3333333333333333,
              "#9c179e"
             ],
             [
              0.4444444444444444,
              "#bd3786"
             ],
             [
              0.5555555555555556,
              "#d8576b"
             ],
             [
              0.6666666666666666,
              "#ed7953"
             ],
             [
              0.7777777777777778,
              "#fb9f3a"
             ],
             [
              0.8888888888888888,
              "#fdca26"
             ],
             [
              1,
              "#f0f921"
             ]
            ],
            "type": "heatmapgl"
           }
          ],
          "histogram": [
           {
            "marker": {
             "colorbar": {
              "outlinewidth": 0,
              "ticks": ""
             }
            },
            "type": "histogram"
           }
          ],
          "histogram2d": [
           {
            "colorbar": {
             "outlinewidth": 0,
             "ticks": ""
            },
            "colorscale": [
             [
              0,
              "#0d0887"
             ],
             [
              0.1111111111111111,
              "#46039f"
             ],
             [
              0.2222222222222222,
              "#7201a8"
             ],
             [
              0.3333333333333333,
              "#9c179e"
             ],
             [
              0.4444444444444444,
              "#bd3786"
             ],
             [
              0.5555555555555556,
              "#d8576b"
             ],
             [
              0.6666666666666666,
              "#ed7953"
             ],
             [
              0.7777777777777778,
              "#fb9f3a"
             ],
             [
              0.8888888888888888,
              "#fdca26"
             ],
             [
              1,
              "#f0f921"
             ]
            ],
            "type": "histogram2d"
           }
          ],
          "histogram2dcontour": [
           {
            "colorbar": {
             "outlinewidth": 0,
             "ticks": ""
            },
            "colorscale": [
             [
              0,
              "#0d0887"
             ],
             [
              0.1111111111111111,
              "#46039f"
             ],
             [
              0.2222222222222222,
              "#7201a8"
             ],
             [
              0.3333333333333333,
              "#9c179e"
             ],
             [
              0.4444444444444444,
              "#bd3786"
             ],
             [
              0.5555555555555556,
              "#d8576b"
             ],
             [
              0.6666666666666666,
              "#ed7953"
             ],
             [
              0.7777777777777778,
              "#fb9f3a"
             ],
             [
              0.8888888888888888,
              "#fdca26"
             ],
             [
              1,
              "#f0f921"
             ]
            ],
            "type": "histogram2dcontour"
           }
          ],
          "mesh3d": [
           {
            "colorbar": {
             "outlinewidth": 0,
             "ticks": ""
            },
            "type": "mesh3d"
           }
          ],
          "parcoords": [
           {
            "line": {
             "colorbar": {
              "outlinewidth": 0,
              "ticks": ""
             }
            },
            "type": "parcoords"
           }
          ],
          "pie": [
           {
            "automargin": true,
            "type": "pie"
           }
          ],
          "scatter": [
           {
            "marker": {
             "colorbar": {
              "outlinewidth": 0,
              "ticks": ""
             }
            },
            "type": "scatter"
           }
          ],
          "scatter3d": [
           {
            "line": {
             "colorbar": {
              "outlinewidth": 0,
              "ticks": ""
             }
            },
            "marker": {
             "colorbar": {
              "outlinewidth": 0,
              "ticks": ""
             }
            },
            "type": "scatter3d"
           }
          ],
          "scattercarpet": [
           {
            "marker": {
             "colorbar": {
              "outlinewidth": 0,
              "ticks": ""
             }
            },
            "type": "scattercarpet"
           }
          ],
          "scattergeo": [
           {
            "marker": {
             "colorbar": {
              "outlinewidth": 0,
              "ticks": ""
             }
            },
            "type": "scattergeo"
           }
          ],
          "scattergl": [
           {
            "marker": {
             "colorbar": {
              "outlinewidth": 0,
              "ticks": ""
             }
            },
            "type": "scattergl"
           }
          ],
          "scattermapbox": [
           {
            "marker": {
             "colorbar": {
              "outlinewidth": 0,
              "ticks": ""
             }
            },
            "type": "scattermapbox"
           }
          ],
          "scatterpolar": [
           {
            "marker": {
             "colorbar": {
              "outlinewidth": 0,
              "ticks": ""
             }
            },
            "type": "scatterpolar"
           }
          ],
          "scatterpolargl": [
           {
            "marker": {
             "colorbar": {
              "outlinewidth": 0,
              "ticks": ""
             }
            },
            "type": "scatterpolargl"
           }
          ],
          "scatterternary": [
           {
            "marker": {
             "colorbar": {
              "outlinewidth": 0,
              "ticks": ""
             }
            },
            "type": "scatterternary"
           }
          ],
          "surface": [
           {
            "colorbar": {
             "outlinewidth": 0,
             "ticks": ""
            },
            "colorscale": [
             [
              0,
              "#0d0887"
             ],
             [
              0.1111111111111111,
              "#46039f"
             ],
             [
              0.2222222222222222,
              "#7201a8"
             ],
             [
              0.3333333333333333,
              "#9c179e"
             ],
             [
              0.4444444444444444,
              "#bd3786"
             ],
             [
              0.5555555555555556,
              "#d8576b"
             ],
             [
              0.6666666666666666,
              "#ed7953"
             ],
             [
              0.7777777777777778,
              "#fb9f3a"
             ],
             [
              0.8888888888888888,
              "#fdca26"
             ],
             [
              1,
              "#f0f921"
             ]
            ],
            "type": "surface"
           }
          ],
          "table": [
           {
            "cells": {
             "fill": {
              "color": "#EBF0F8"
             },
             "line": {
              "color": "white"
             }
            },
            "header": {
             "fill": {
              "color": "#C8D4E3"
             },
             "line": {
              "color": "white"
             }
            },
            "type": "table"
           }
          ]
         },
         "layout": {
          "annotationdefaults": {
           "arrowcolor": "#2a3f5f",
           "arrowhead": 0,
           "arrowwidth": 1
          },
          "coloraxis": {
           "colorbar": {
            "outlinewidth": 0,
            "ticks": ""
           }
          },
          "colorscale": {
           "diverging": [
            [
             0,
             "#8e0152"
            ],
            [
             0.1,
             "#c51b7d"
            ],
            [
             0.2,
             "#de77ae"
            ],
            [
             0.3,
             "#f1b6da"
            ],
            [
             0.4,
             "#fde0ef"
            ],
            [
             0.5,
             "#f7f7f7"
            ],
            [
             0.6,
             "#e6f5d0"
            ],
            [
             0.7,
             "#b8e186"
            ],
            [
             0.8,
             "#7fbc41"
            ],
            [
             0.9,
             "#4d9221"
            ],
            [
             1,
             "#276419"
            ]
           ],
           "sequential": [
            [
             0,
             "#0d0887"
            ],
            [
             0.1111111111111111,
             "#46039f"
            ],
            [
             0.2222222222222222,
             "#7201a8"
            ],
            [
             0.3333333333333333,
             "#9c179e"
            ],
            [
             0.4444444444444444,
             "#bd3786"
            ],
            [
             0.5555555555555556,
             "#d8576b"
            ],
            [
             0.6666666666666666,
             "#ed7953"
            ],
            [
             0.7777777777777778,
             "#fb9f3a"
            ],
            [
             0.8888888888888888,
             "#fdca26"
            ],
            [
             1,
             "#f0f921"
            ]
           ],
           "sequentialminus": [
            [
             0,
             "#0d0887"
            ],
            [
             0.1111111111111111,
             "#46039f"
            ],
            [
             0.2222222222222222,
             "#7201a8"
            ],
            [
             0.3333333333333333,
             "#9c179e"
            ],
            [
             0.4444444444444444,
             "#bd3786"
            ],
            [
             0.5555555555555556,
             "#d8576b"
            ],
            [
             0.6666666666666666,
             "#ed7953"
            ],
            [
             0.7777777777777778,
             "#fb9f3a"
            ],
            [
             0.8888888888888888,
             "#fdca26"
            ],
            [
             1,
             "#f0f921"
            ]
           ]
          },
          "colorway": [
           "#636efa",
           "#EF553B",
           "#00cc96",
           "#ab63fa",
           "#FFA15A",
           "#19d3f3",
           "#FF6692",
           "#B6E880",
           "#FF97FF",
           "#FECB52"
          ],
          "font": {
           "color": "#2a3f5f"
          },
          "geo": {
           "bgcolor": "white",
           "lakecolor": "white",
           "landcolor": "#E5ECF6",
           "showlakes": true,
           "showland": true,
           "subunitcolor": "white"
          },
          "hoverlabel": {
           "align": "left"
          },
          "hovermode": "closest",
          "mapbox": {
           "style": "light"
          },
          "paper_bgcolor": "white",
          "plot_bgcolor": "#E5ECF6",
          "polar": {
           "angularaxis": {
            "gridcolor": "white",
            "linecolor": "white",
            "ticks": ""
           },
           "bgcolor": "#E5ECF6",
           "radialaxis": {
            "gridcolor": "white",
            "linecolor": "white",
            "ticks": ""
           }
          },
          "scene": {
           "xaxis": {
            "backgroundcolor": "#E5ECF6",
            "gridcolor": "white",
            "gridwidth": 2,
            "linecolor": "white",
            "showbackground": true,
            "ticks": "",
            "zerolinecolor": "white"
           },
           "yaxis": {
            "backgroundcolor": "#E5ECF6",
            "gridcolor": "white",
            "gridwidth": 2,
            "linecolor": "white",
            "showbackground": true,
            "ticks": "",
            "zerolinecolor": "white"
           },
           "zaxis": {
            "backgroundcolor": "#E5ECF6",
            "gridcolor": "white",
            "gridwidth": 2,
            "linecolor": "white",
            "showbackground": true,
            "ticks": "",
            "zerolinecolor": "white"
           }
          },
          "shapedefaults": {
           "line": {
            "color": "#2a3f5f"
           }
          },
          "ternary": {
           "aaxis": {
            "gridcolor": "white",
            "linecolor": "white",
            "ticks": ""
           },
           "baxis": {
            "gridcolor": "white",
            "linecolor": "white",
            "ticks": ""
           },
           "bgcolor": "#E5ECF6",
           "caxis": {
            "gridcolor": "white",
            "linecolor": "white",
            "ticks": ""
           }
          },
          "title": {
           "x": 0.05
          },
          "xaxis": {
           "automargin": true,
           "gridcolor": "white",
           "linecolor": "white",
           "ticks": "",
           "title": {
            "standoff": 15
           },
           "zerolinecolor": "white",
           "zerolinewidth": 2
          },
          "yaxis": {
           "automargin": true,
           "gridcolor": "white",
           "linecolor": "white",
           "ticks": "",
           "title": {
            "standoff": 15
           },
           "zerolinecolor": "white",
           "zerolinewidth": 2
          }
         }
        },
        "width": 700
       },
       "_model_module_version": "4.7.1",
       "_py2js_animate": {},
       "_py2js_deleteTraces": {},
       "_py2js_moveTraces": {},
       "_py2js_removeLayoutProps": {},
       "_py2js_removeTraceProps": {},
       "_py2js_restyle": {},
       "_view_count": 0,
       "_view_module_version": "4.7.1"
      }
     }
    },
    "version_major": 2,
    "version_minor": 0
   }
  }
 },
 "nbformat": 4,
 "nbformat_minor": 4
}
