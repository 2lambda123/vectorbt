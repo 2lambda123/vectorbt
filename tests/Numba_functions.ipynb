{
 "cells": [
  {
   "cell_type": "code",
   "execution_count": 1,
   "metadata": {},
   "outputs": [],
   "source": [
    "import vectorbt as vbt"
   ]
  },
  {
   "cell_type": "code",
   "execution_count": 2,
   "metadata": {},
   "outputs": [],
   "source": [
    "import numpy as np\n",
    "import pandas as pd"
   ]
  },
  {
   "cell_type": "markdown",
   "metadata": {},
   "source": [
    "## timeseries.py"
   ]
  },
  {
   "cell_type": "code",
   "execution_count": 3,
   "metadata": {},
   "outputs": [
    {
     "data": {
      "text/plain": [
       "(1000, 1000)"
      ]
     },
     "execution_count": 3,
     "metadata": {},
     "output_type": "execute_result"
    }
   ],
   "source": [
    "a = np.random.uniform(size=(1000, 1000))\n",
    "\n",
    "a.shape"
   ]
  },
  {
   "cell_type": "code",
   "execution_count": 4,
   "metadata": {},
   "outputs": [
    {
     "name": "stdout",
     "output_type": "stream",
     "text": [
      "1.81 µs ± 41.2 ns per loop (mean ± std. dev. of 7 runs, 100000 loops each)\n",
      "(1100,)\n"
     ]
    }
   ],
   "source": [
    "%timeit vbt.timeseries.prepend_1d_nb(a[0], 100, np.nan)\n",
    "\n",
    "print(vbt.timeseries.prepend_1d_nb(a[0], 100, np.nan).shape)"
   ]
  },
  {
   "cell_type": "code",
   "execution_count": 5,
   "metadata": {},
   "outputs": [
    {
     "name": "stdout",
     "output_type": "stream",
     "text": [
      "3.39 ms ± 36.1 µs per loop (mean ± std. dev. of 7 runs, 100 loops each)\n",
      "(1100, 1000)\n"
     ]
    }
   ],
   "source": [
    "%timeit vbt.timeseries.prepend_nb(a, 100, np.nan)\n",
    "\n",
    "print(vbt.timeseries.prepend_nb(a, 100, np.nan).shape)"
   ]
  },
  {
   "cell_type": "code",
   "execution_count": 6,
   "metadata": {},
   "outputs": [
    {
     "name": "stdout",
     "output_type": "stream",
     "text": [
      "162 µs ± 555 ns per loop (mean ± std. dev. of 7 runs, 10000 loops each)\n",
      "(100, 901)\n"
     ]
    }
   ],
   "source": [
    "%timeit vbt.timeseries.rolling_window_1d_nb(a[0], 100)\n",
    "\n",
    "print(vbt.timeseries.rolling_window_1d_nb(a[0], 100).shape)"
   ]
  },
  {
   "cell_type": "code",
   "execution_count": 7,
   "metadata": {},
   "outputs": [
    {
     "name": "stdout",
     "output_type": "stream",
     "text": [
      "4.23 µs ± 110 ns per loop (mean ± std. dev. of 7 runs, 100000 loops each)\n",
      "(1000,)\n"
     ]
    }
   ],
   "source": [
    "%timeit vbt.timeseries.set_by_mask_1d_nb(a[0], np.isnan(a[0]), 0)\n",
    "\n",
    "print(vbt.timeseries.set_by_mask_1d_nb(a[0], np.isnan(a[0]), 0).shape)"
   ]
  },
  {
   "cell_type": "code",
   "execution_count": 8,
   "metadata": {},
   "outputs": [
    {
     "name": "stdout",
     "output_type": "stream",
     "text": [
      "3.77 ms ± 33.4 µs per loop (mean ± std. dev. of 7 runs, 100 loops each)\n",
      "(1000, 1000)\n"
     ]
    }
   ],
   "source": [
    "%timeit vbt.timeseries.set_by_mask_nb(a, np.isnan(a), 0)\n",
    "\n",
    "print(vbt.timeseries.set_by_mask_nb(a, np.isnan(a), 0).shape)"
   ]
  },
  {
   "cell_type": "code",
   "execution_count": 9,
   "metadata": {},
   "outputs": [
    {
     "name": "stdout",
     "output_type": "stream",
     "text": [
      "2.63 µs ± 49.3 ns per loop (mean ± std. dev. of 7 runs, 100000 loops each)\n",
      "(1000,)\n"
     ]
    }
   ],
   "source": [
    "%timeit vbt.timeseries.fillna_1d_nb(a[0], 0)\n",
    "\n",
    "print(vbt.timeseries.fillna_1d_nb(a[0], 0).shape)"
   ]
  },
  {
   "cell_type": "code",
   "execution_count": 10,
   "metadata": {},
   "outputs": [
    {
     "name": "stdout",
     "output_type": "stream",
     "text": [
      "3.87 ms ± 28 µs per loop (mean ± std. dev. of 7 runs, 100 loops each)\n",
      "(1000, 1000)\n"
     ]
    }
   ],
   "source": [
    "%timeit vbt.timeseries.fillna_nb(a, 0)\n",
    "\n",
    "print(vbt.timeseries.fillna_nb(a, 0).shape)"
   ]
  },
  {
   "cell_type": "code",
   "execution_count": 11,
   "metadata": {},
   "outputs": [
    {
     "name": "stdout",
     "output_type": "stream",
     "text": [
      "2.23 µs ± 501 ns per loop (mean ± std. dev. of 7 runs, 100000 loops each)\n",
      "(1000,)\n"
     ]
    }
   ],
   "source": [
    "%timeit vbt.timeseries.fshift_1d_nb(a[0], 100)\n",
    "\n",
    "print(vbt.timeseries.fshift_1d_nb(a[0], 100).shape)"
   ]
  },
  {
   "cell_type": "code",
   "execution_count": 12,
   "metadata": {},
   "outputs": [
    {
     "name": "stdout",
     "output_type": "stream",
     "text": [
      "3.76 ms ± 911 µs per loop (mean ± std. dev. of 7 runs, 100 loops each)\n",
      "(1000, 1000)\n"
     ]
    }
   ],
   "source": [
    "%timeit vbt.timeseries.fshift_nb(a, 100)\n",
    "\n",
    "print(vbt.timeseries.fshift_nb(a, 100).shape)"
   ]
  },
  {
   "cell_type": "code",
   "execution_count": 13,
   "metadata": {},
   "outputs": [
    {
     "name": "stdout",
     "output_type": "stream",
     "text": [
      "4.36 µs ± 553 ns per loop (mean ± std. dev. of 7 runs, 100000 loops each)\n",
      "(1000,)\n"
     ]
    }
   ],
   "source": [
    "%timeit vbt.timeseries.diff_1d_nb(a[0])\n",
    "\n",
    "print(vbt.timeseries.diff_1d_nb(a[0]).shape)"
   ]
  },
  {
   "cell_type": "code",
   "execution_count": 14,
   "metadata": {},
   "outputs": [
    {
     "name": "stdout",
     "output_type": "stream",
     "text": [
      "10.1 ms ± 149 µs per loop (mean ± std. dev. of 7 runs, 100 loops each)\n",
      "(1000, 1000)\n"
     ]
    }
   ],
   "source": [
    "%timeit vbt.timeseries.diff_nb(a)\n",
    "\n",
    "print(vbt.timeseries.diff_nb(a).shape)"
   ]
  },
  {
   "cell_type": "code",
   "execution_count": 15,
   "metadata": {},
   "outputs": [
    {
     "name": "stdout",
     "output_type": "stream",
     "text": [
      "5.19 µs ± 41.4 ns per loop (mean ± std. dev. of 7 runs, 100000 loops each)\n",
      "(1000,)\n"
     ]
    }
   ],
   "source": [
    "%timeit vbt.timeseries.pct_change_1d_nb(a[0])\n",
    "\n",
    "print(vbt.timeseries.pct_change_1d_nb(a[0]).shape)"
   ]
  },
  {
   "cell_type": "code",
   "execution_count": 16,
   "metadata": {},
   "outputs": [
    {
     "name": "stdout",
     "output_type": "stream",
     "text": [
      "11.7 ms ± 77.6 µs per loop (mean ± std. dev. of 7 runs, 100 loops each)\n",
      "(1000, 1000)\n"
     ]
    }
   ],
   "source": [
    "%timeit vbt.timeseries.pct_change_nb(a)\n",
    "\n",
    "print(vbt.timeseries.pct_change_nb(a).shape)"
   ]
  },
  {
   "cell_type": "code",
   "execution_count": 17,
   "metadata": {},
   "outputs": [
    {
     "name": "stdout",
     "output_type": "stream",
     "text": [
      "1.87 µs ± 27.4 ns per loop (mean ± std. dev. of 7 runs, 100000 loops each)\n",
      "(1000,)\n"
     ]
    }
   ],
   "source": [
    "%timeit vbt.timeseries.ffill_1d_nb(a[0])\n",
    "\n",
    "print(vbt.timeseries.ffill_1d_nb(a[0]).shape)"
   ]
  },
  {
   "cell_type": "code",
   "execution_count": 18,
   "metadata": {},
   "outputs": [
    {
     "name": "stdout",
     "output_type": "stream",
     "text": [
      "7.69 ms ± 22 µs per loop (mean ± std. dev. of 7 runs, 100 loops each)\n",
      "(1000, 1000)\n"
     ]
    }
   ],
   "source": [
    "%timeit vbt.timeseries.ffill_nb(a)\n",
    "\n",
    "print(vbt.timeseries.ffill_nb(a).shape)"
   ]
  },
  {
   "cell_type": "code",
   "execution_count": 19,
   "metadata": {},
   "outputs": [
    {
     "name": "stdout",
     "output_type": "stream",
     "text": [
      "2.17 µs ± 22.8 ns per loop (mean ± std. dev. of 7 runs, 100000 loops each)\n",
      "(1000,)\n"
     ]
    }
   ],
   "source": [
    "%timeit vbt.timeseries.cumsum_1d_nb(a[0])\n",
    "\n",
    "print(vbt.timeseries.cumsum_1d_nb(a[0]).shape)"
   ]
  },
  {
   "cell_type": "code",
   "execution_count": 20,
   "metadata": {},
   "outputs": [
    {
     "name": "stdout",
     "output_type": "stream",
     "text": [
      "9.17 ms ± 1.25 ms per loop (mean ± std. dev. of 7 runs, 100 loops each)\n",
      "(1000, 1000)\n"
     ]
    }
   ],
   "source": [
    "%timeit vbt.timeseries.cumsum_nb(a)\n",
    "\n",
    "print(vbt.timeseries.cumsum_nb(a).shape)"
   ]
  },
  {
   "cell_type": "code",
   "execution_count": 21,
   "metadata": {},
   "outputs": [
    {
     "name": "stdout",
     "output_type": "stream",
     "text": [
      "4.49 µs ± 202 ns per loop (mean ± std. dev. of 7 runs, 100000 loops each)\n",
      "(1000,)\n"
     ]
    }
   ],
   "source": [
    "%timeit vbt.timeseries.cumprod_1d_nb(a[0])\n",
    "\n",
    "print(vbt.timeseries.cumprod_1d_nb(a[0]).shape)"
   ]
  },
  {
   "cell_type": "code",
   "execution_count": 22,
   "metadata": {},
   "outputs": [
    {
     "name": "stdout",
     "output_type": "stream",
     "text": [
      "9.5 ms ± 40.4 µs per loop (mean ± std. dev. of 7 runs, 100 loops each)\n",
      "(1000, 1000)\n"
     ]
    }
   ],
   "source": [
    "%timeit vbt.timeseries.cumprod_nb(a)\n",
    "\n",
    "print(vbt.timeseries.cumprod_nb(a).shape)"
   ]
  },
  {
   "cell_type": "code",
   "execution_count": 23,
   "metadata": {},
   "outputs": [
    {
     "name": "stdout",
     "output_type": "stream",
     "text": [
      "4.97 µs ± 38.1 ns per loop (mean ± std. dev. of 7 runs, 100000 loops each)\n",
      "(1000,)\n"
     ]
    }
   ],
   "source": [
    "%timeit vbt.timeseries.rolling_mean_1d_nb(a[0], 10)\n",
    "\n",
    "print(vbt.timeseries.rolling_mean_1d_nb(a[0], 10).shape)"
   ]
  },
  {
   "cell_type": "code",
   "execution_count": 24,
   "metadata": {},
   "outputs": [
    {
     "name": "stdout",
     "output_type": "stream",
     "text": [
      "13.9 ms ± 390 µs per loop (mean ± std. dev. of 7 runs, 100 loops each)\n",
      "(1000, 1000)\n"
     ]
    }
   ],
   "source": [
    "%timeit vbt.timeseries.rolling_mean_nb(a, 10)\n",
    "\n",
    "print(vbt.timeseries.rolling_mean_nb(a, 10).shape)"
   ]
  },
  {
   "cell_type": "code",
   "execution_count": 25,
   "metadata": {},
   "outputs": [
    {
     "name": "stdout",
     "output_type": "stream",
     "text": [
      "9.12 µs ± 63.6 ns per loop (mean ± std. dev. of 7 runs, 100000 loops each)\n",
      "(1000,)\n"
     ]
    }
   ],
   "source": [
    "%timeit vbt.timeseries.rolling_std_1d_nb(a[0], 10)\n",
    "\n",
    "print(vbt.timeseries.rolling_std_1d_nb(a[0], 10).shape)"
   ]
  },
  {
   "cell_type": "code",
   "execution_count": 26,
   "metadata": {},
   "outputs": [
    {
     "name": "stdout",
     "output_type": "stream",
     "text": [
      "17.9 ms ± 273 µs per loop (mean ± std. dev. of 7 runs, 10 loops each)\n",
      "(1000, 1000)\n"
     ]
    }
   ],
   "source": [
    "%timeit vbt.timeseries.rolling_std_nb(a, 10)\n",
    "\n",
    "print(vbt.timeseries.rolling_std_nb(a, 10).shape)"
   ]
  },
  {
   "cell_type": "code",
   "execution_count": 27,
   "metadata": {},
   "outputs": [
    {
     "name": "stdout",
     "output_type": "stream",
     "text": [
      "2.93 µs ± 18.1 ns per loop (mean ± std. dev. of 7 runs, 100000 loops each)\n",
      "(1000,)\n"
     ]
    }
   ],
   "source": [
    "%timeit vbt.timeseries.expanding_max_1d_nb(a[0])\n",
    "\n",
    "print(vbt.timeseries.expanding_max_1d_nb(a[0]).shape)"
   ]
  },
  {
   "cell_type": "code",
   "execution_count": 28,
   "metadata": {},
   "outputs": [
    {
     "name": "stdout",
     "output_type": "stream",
     "text": [
      "9.06 ms ± 62.9 µs per loop (mean ± std. dev. of 7 runs, 100 loops each)\n",
      "(1000, 1000)\n"
     ]
    }
   ],
   "source": [
    "%timeit vbt.timeseries.expanding_max_nb(a)\n",
    "\n",
    "print(vbt.timeseries.expanding_max_nb(a).shape)"
   ]
  },
  {
   "cell_type": "code",
   "execution_count": 29,
   "metadata": {},
   "outputs": [
    {
     "name": "stdout",
     "output_type": "stream",
     "text": [
      "7.37 µs ± 27.3 ns per loop (mean ± std. dev. of 7 runs, 100000 loops each)\n",
      "(1000,)\n"
     ]
    }
   ],
   "source": [
    "%timeit vbt.timeseries.ewm_mean_1d_nb(a[0], 10)\n",
    "\n",
    "print(vbt.timeseries.ewm_mean_1d_nb(a[0], 10).shape)"
   ]
  },
  {
   "cell_type": "code",
   "execution_count": 30,
   "metadata": {},
   "outputs": [
    {
     "name": "stdout",
     "output_type": "stream",
     "text": [
      "12.2 ms ± 38.2 µs per loop (mean ± std. dev. of 7 runs, 100 loops each)\n",
      "(1000, 1000)\n"
     ]
    }
   ],
   "source": [
    "%timeit vbt.timeseries.ewm_mean_nb(a, 10)\n",
    "\n",
    "print(vbt.timeseries.ewm_mean_nb(a, 10).shape)"
   ]
  },
  {
   "cell_type": "code",
   "execution_count": 31,
   "metadata": {},
   "outputs": [
    {
     "name": "stdout",
     "output_type": "stream",
     "text": [
      "11.4 µs ± 33.4 ns per loop (mean ± std. dev. of 7 runs, 100000 loops each)\n",
      "(1000,)\n"
     ]
    }
   ],
   "source": [
    "%timeit vbt.timeseries.ewm_std_1d_nb(a[0], 10)\n",
    "\n",
    "print(vbt.timeseries.ewm_std_1d_nb(a[0], 10).shape)"
   ]
  },
  {
   "cell_type": "code",
   "execution_count": 32,
   "metadata": {},
   "outputs": [
    {
     "name": "stdout",
     "output_type": "stream",
     "text": [
      "20.8 ms ± 307 µs per loop (mean ± std. dev. of 7 runs, 10 loops each)\n",
      "(1000, 1000)\n"
     ]
    }
   ],
   "source": [
    "%timeit vbt.timeseries.ewm_std_nb(a, 10)\n",
    "\n",
    "print(vbt.timeseries.ewm_std_nb(a, 10).shape)"
   ]
  },
  {
   "cell_type": "markdown",
   "metadata": {},
   "source": [
    "## signals.py"
   ]
  },
  {
   "cell_type": "code",
   "execution_count": 4,
   "metadata": {},
   "outputs": [
    {
     "name": "stdout",
     "output_type": "stream",
     "text": [
      "3.46 ms ± 741 µs per loop (mean ± std. dev. of 7 runs, 100 loops each)\n",
      "(1000, 1000)\n"
     ]
    }
   ],
   "source": [
    "%timeit vbt.signals.random_entries_nb((1000, 1000), 100, 2, 42)\n",
    "\n",
    "entries = vbt.signals.random_entries_nb((1000, 1000), 100, 2, 42)\n",
    "print(entries.shape)"
   ]
  },
  {
   "cell_type": "code",
   "execution_count": 5,
   "metadata": {},
   "outputs": [
    {
     "name": "stdout",
     "output_type": "stream",
     "text": [
      "37.5 ms ± 8.52 ms per loop (mean ± std. dev. of 7 runs, 10 loops each)\n",
      "(1000, 1000)\n"
     ]
    }
   ],
   "source": [
    "%timeit vbt.signals.random_exits_nb(entries, 42)\n",
    "\n",
    "exits = vbt.signals.random_exits_nb(entries, 42)\n",
    "print(exits.shape)"
   ]
  },
  {
   "cell_type": "code",
   "execution_count": 6,
   "metadata": {},
   "outputs": [
    {
     "name": "stdout",
     "output_type": "stream",
     "text": [
      "16.3 ms ± 1.21 ms per loop (mean ± std. dev. of 7 runs, 100 loops each)\n",
      "(1000, 1000)\n"
     ]
    }
   ],
   "source": [
    "%timeit vbt.signals.shuffle_nb(entries, 42)\n",
    "\n",
    "print(vbt.signals.shuffle_nb(entries, 42).shape)"
   ]
  },
  {
   "cell_type": "code",
   "execution_count": 7,
   "metadata": {},
   "outputs": [],
   "source": [
    "from numba import njit, b1\n",
    "\n",
    "@njit\n",
    "def exit_mask_nb(entries, col_idx, prev_idx, next_idx):\n",
    "    # First value after entry\n",
    "    a = np.full(entries.shape, False, dtype=b1)\n",
    "    a[prev_idx+1:] = True\n",
    "    return a"
   ]
  },
  {
   "cell_type": "code",
   "execution_count": 8,
   "metadata": {},
   "outputs": [
    {
     "name": "stdout",
     "output_type": "stream",
     "text": [
      "217 ms ± 1.22 ms per loop (mean ± std. dev. of 7 runs, 1 loop each)\n",
      "(1000, 1000)\n"
     ]
    }
   ],
   "source": [
    "%timeit vbt.signals.exits_nb(entries, exit_mask_nb, True)\n",
    "\n",
    "print(vbt.signals.exits_nb(entries, exit_mask_nb, True).shape)\n",
    "# Iterative functions are the most expensive"
   ]
  },
  {
   "cell_type": "code",
   "execution_count": 9,
   "metadata": {},
   "outputs": [],
   "source": [
    "@njit\n",
    "def entry_mask_nb(exits, col_idx, prev_idx, next_idx, a):\n",
    "    # First value after last entry\n",
    "    a = a[:, col_idx]\n",
    "    entries = np.full(exits.shape, False, dtype=b1)\n",
    "    entries[a > 0.5] = True\n",
    "    return entries\n",
    "\n",
    "@njit\n",
    "def exit_mask_nb(entries, col_idx, prev_idx, next_idx, a):\n",
    "    # First value after last exit\n",
    "    a = a[:, col_idx]\n",
    "    exits = np.full(entries.shape, False, dtype=b1)\n",
    "    exits[a < 0.5] = True\n",
    "    return exits"
   ]
  },
  {
   "cell_type": "code",
   "execution_count": 10,
   "metadata": {},
   "outputs": [
    {
     "name": "stdout",
     "output_type": "stream",
     "text": [
      "2.22 s ± 6.21 ms per loop (mean ± std. dev. of 7 runs, 1 loop each)\n",
      "(1000, 1000)\n"
     ]
    }
   ],
   "source": [
    "%timeit vbt.signals.entries_and_exits_nb(a.shape, entry_mask_nb, exit_mask_nb, a)\n",
    "\n",
    "print(vbt.signals.entries_and_exits_nb(a.shape, entry_mask_nb, exit_mask_nb, a)[0].shape)\n",
    "# Iterative functions are the most expensive"
   ]
  },
  {
   "cell_type": "code",
   "execution_count": 9,
   "metadata": {},
   "outputs": [
    {
     "name": "stdout",
     "output_type": "stream",
     "text": [
      "4.34 ms ± 732 µs per loop (mean ± std. dev. of 7 runs, 100 loops each)\n",
      "(1000, 1000)\n"
     ]
    }
   ],
   "source": [
    "%timeit vbt.signals.rank_true_nb(entries, True)\n",
    "\n",
    "print(vbt.signals.rank_true_nb(entries, True).shape)"
   ]
  },
  {
   "cell_type": "code",
   "execution_count": 10,
   "metadata": {},
   "outputs": [
    {
     "name": "stdout",
     "output_type": "stream",
     "text": [
      "6.35 ms ± 540 µs per loop (mean ± std. dev. of 7 runs, 100 loops each)\n",
      "(1000, 1000)\n"
     ]
    }
   ],
   "source": [
    "%timeit vbt.signals.rank_false_nb(entries, True)\n",
    "\n",
    "print(vbt.signals.rank_false_nb(entries, True).shape)"
   ]
  },
  {
   "cell_type": "code",
   "execution_count": 11,
   "metadata": {},
   "outputs": [
    {
     "name": "stdout",
     "output_type": "stream",
     "text": [
      "4.59 ms ± 267 µs per loop (mean ± std. dev. of 7 runs, 100 loops each)\n",
      "(1000,)\n"
     ]
    }
   ],
   "source": [
    "%timeit vbt.signals.avg_distance_nb(entries)\n",
    "\n",
    "print(vbt.signals.avg_distance_nb(entries).shape)"
   ]
  },
  {
   "cell_type": "code",
   "execution_count": 12,
   "metadata": {},
   "outputs": [
    {
     "name": "stdout",
     "output_type": "stream",
     "text": [
      "1.49 ms ± 95.2 µs per loop (mean ± std. dev. of 7 runs, 1000 loops each)\n",
      "(1000, 1000)\n"
     ]
    }
   ],
   "source": [
    "%timeit vbt.signals.fshift_nb(entries, 100)\n",
    "\n",
    "print(vbt.signals.fshift_nb(entries, 100).shape)"
   ]
  },
  {
   "cell_type": "code",
   "execution_count": 13,
   "metadata": {},
   "outputs": [
    {
     "name": "stdout",
     "output_type": "stream",
     "text": [
      "5.01 ms ± 585 µs per loop (mean ± std. dev. of 7 runs, 100 loops each)\n",
      "(1000, 1000)\n"
     ]
    }
   ],
   "source": [
    "%timeit vbt.signals.first_true_nb(entries, True)\n",
    "\n",
    "print(vbt.signals.first_true_nb(entries, True).shape)"
   ]
  },
  {
   "cell_type": "code",
   "execution_count": 14,
   "metadata": {},
   "outputs": [
    {
     "name": "stdout",
     "output_type": "stream",
     "text": [
      "7.62 ms ± 694 µs per loop (mean ± std. dev. of 7 runs, 100 loops each)\n",
      "(1000, 1000)\n"
     ]
    }
   ],
   "source": [
    "%timeit vbt.signals.first_false_nb(entries, True)\n",
    "\n",
    "print(vbt.signals.first_false_nb(entries, True).shape)"
   ]
  },
  {
   "cell_type": "code",
   "execution_count": 16,
   "metadata": {},
   "outputs": [
    {
     "name": "stdout",
     "output_type": "stream",
     "text": [
      "1.73 ms ± 66.1 µs per loop (mean ± std. dev. of 7 runs, 100 loops each)\n",
      "(1000,)\n"
     ]
    }
   ],
   "source": [
    "%timeit vbt.signals.stoploss_exit_mask_nb(entries[:, 0], 0, 0, a.shape[0], a, np.full_like(a, 0.1), True)\n",
    "\n",
    "print(vbt.signals.stoploss_exit_mask_nb(entries[:, 0], 0, 0, a.shape[0], a, np.full_like(a, 0.1), True).shape)"
   ]
  },
  {
   "cell_type": "code",
   "execution_count": 17,
   "metadata": {},
   "outputs": [
    {
     "name": "stdout",
     "output_type": "stream",
     "text": [
      "847 ms ± 64.5 ms per loop (mean ± std. dev. of 7 runs, 1 loop each)\n",
      "(1000, 1000)\n"
     ]
    }
   ],
   "source": [
    "%timeit vbt.signals.stoploss_exits_nb(entries, a, np.broadcast_to(0.1, a.shape)[None, :].copy(), True, True)\n",
    "\n",
    "print(vbt.signals.stoploss_exits_nb(entries, a, np.broadcast_to(0.1, a.shape)[None, :].copy(), True, True).shape)"
   ]
  },
  {
   "cell_type": "code",
   "execution_count": 18,
   "metadata": {},
   "outputs": [
    {
     "name": "stdout",
     "output_type": "stream",
     "text": [
      "(100, 1000, 1000)\n"
     ]
    }
   ],
   "source": [
    "stops = np.arange(0, 1, 0.01)\n",
    "stops = np.tile(stops[:, None][:, None], (1, a.shape[0], a.shape[1]))\n",
    "\n",
    "print(stops.shape)"
   ]
  },
  {
   "cell_type": "code",
   "execution_count": 19,
   "metadata": {},
   "outputs": [
    {
     "name": "stdout",
     "output_type": "stream",
     "text": [
      "1min 2s ± 145 ms per loop (mean ± std. dev. of 7 runs, 1 loop each)\n",
      "(1000, 100000)\n"
     ]
    }
   ],
   "source": [
    "%timeit vbt.signals.stoploss_exits_nb(entries, a, stops, True, True)\n",
    "\n",
    "print(vbt.signals.stoploss_exits_nb(entries, a, stops, True, True).shape)"
   ]
  },
  {
   "cell_type": "code",
   "execution_count": 20,
   "metadata": {},
   "outputs": [
    {
     "name": "stdout",
     "output_type": "stream",
     "text": [
      "1.7 ms ± 5.43 µs per loop (mean ± std. dev. of 7 runs, 1000 loops each)\n",
      "(1000,)\n"
     ]
    }
   ],
   "source": [
    "%timeit vbt.signals.trailstop_exit_mask_nb(entries[:, 0], 0, 0, a.shape[0], a, np.full_like(a, 0.1), True)\n",
    "\n",
    "print(vbt.signals.trailstop_exit_mask_nb(entries[:, 0], 0, 0, a.shape[0], a, np.full_like(a, 0.1), True).shape)"
   ]
  },
  {
   "cell_type": "code",
   "execution_count": 21,
   "metadata": {},
   "outputs": [
    {
     "name": "stdout",
     "output_type": "stream",
     "text": [
      "631 ms ± 4.44 ms per loop (mean ± std. dev. of 7 runs, 1 loop each)\n",
      "(1000, 1000)\n"
     ]
    }
   ],
   "source": [
    "%timeit vbt.signals.trailstop_exits_nb(entries, a, np.broadcast_to(0.1, a.shape)[None, :].copy(), True, True)\n",
    "\n",
    "print(vbt.signals.trailstop_exits_nb(entries, a, np.broadcast_to(0.1, a.shape)[None, :].copy(), True, True).shape)"
   ]
  },
  {
   "cell_type": "code",
   "execution_count": 22,
   "metadata": {},
   "outputs": [
    {
     "name": "stdout",
     "output_type": "stream",
     "text": [
      "56.6 s ± 781 ms per loop (mean ± std. dev. of 7 runs, 1 loop each)\n",
      "(1000, 100000)\n"
     ]
    }
   ],
   "source": [
    "%timeit vbt.signals.trailstop_exits_nb(entries, a, stops, True, True)\n",
    "\n",
    "print(vbt.signals.trailstop_exits_nb(entries, a, stops, True, True).shape)"
   ]
  },
  {
   "cell_type": "markdown",
   "metadata": {},
   "source": [
    "## portfolio.py"
   ]
  },
  {
   "cell_type": "code",
   "execution_count": 12,
   "metadata": {},
   "outputs": [
    {
     "name": "stdout",
     "output_type": "stream",
     "text": [
      "1.28 µs ± 95.4 ns per loop (mean ± std. dev. of 7 runs, 1000000 loops each)\n",
      "0.8902211610541884\n"
     ]
    }
   ],
   "source": [
    "%timeit vbt.portfolio.signals_order_func_np(0, 0, 0, 0, entries, exits, a, False)\n",
    "\n",
    "print(vbt.portfolio.signals_order_func_np(0, 0, 0, 0, entries, exits, a, False))"
   ]
  },
  {
   "cell_type": "code",
   "execution_count": 14,
   "metadata": {},
   "outputs": [
    {
     "name": "stdout",
     "output_type": "stream",
     "text": [
      "723 ns ± 47.5 ns per loop (mean ± std. dev. of 7 runs, 1000000 loops each)\n",
      "0.8902211610541884\n"
     ]
    }
   ],
   "source": [
    "%timeit vbt.portfolio.orders_order_func_np(0, 0, 0, 0, a, False)\n",
    "\n",
    "print(vbt.portfolio.orders_order_func_np(0, 0, 0, 0, a, False))"
   ]
  },
  {
   "cell_type": "code",
   "execution_count": 15,
   "metadata": {},
   "outputs": [
    {
     "name": "stdout",
     "output_type": "stream",
     "text": [
      "85 ms ± 8.54 ms per loop (mean ± std. dev. of 7 runs, 10 loops each)\n",
      "(1000, 1000) (1000, 1000)\n"
     ]
    }
   ],
   "source": [
    "%timeit vbt.portfolio.portfolio_from_signals_np(a, 1000, np.full_like(a, 0.1), np.full_like(a, 0.1), entries, exits, np.full_like(a, 1), False)\n",
    "\n",
    "cash, shares = vbt.portfolio.portfolio_from_signals_np(a, 1000, np.full_like(a, 0.1), np.full_like(a, 0.1), entries, exits, np.full_like(a, 1), False)\n",
    "print(cash.shape, shares.shape)"
   ]
  },
  {
   "cell_type": "code",
   "execution_count": 16,
   "metadata": {},
   "outputs": [
    {
     "name": "stdout",
     "output_type": "stream",
     "text": [
      "44.1 ms ± 5.74 ms per loop (mean ± std. dev. of 7 runs, 10 loops each)\n",
      "(1000, 1000)\n"
     ]
    }
   ],
   "source": [
    "%timeit vbt.portfolio.portfolio_from_orders_np(a, 1000, np.full_like(a, 0.1), np.full_like(a, 0.1), np.full_like(a, 1), False)\n",
    "\n",
    "print(vbt.portfolio.portfolio_from_orders_np(a, 1000, np.full_like(a, 0.1), np.full_like(a, 0.1), np.full_like(a, 1), False)[0].shape)"
   ]
  },
  {
   "cell_type": "code",
   "execution_count": 17,
   "metadata": {},
   "outputs": [],
   "source": [
    "trades = vbt.timeseries.fillna_nb(vbt.timeseries.diff_nb(shares), 0)\n",
    "trades[0, :] = shares[0, :]"
   ]
  },
  {
   "cell_type": "code",
   "execution_count": 18,
   "metadata": {},
   "outputs": [],
   "source": [
    "equity = cash + a * shares"
   ]
  },
  {
   "cell_type": "code",
   "execution_count": 23,
   "metadata": {},
   "outputs": [
    {
     "name": "stdout",
     "output_type": "stream",
     "text": [
      "642 ns ± 18.5 ns per loop (mean ± std. dev. of 7 runs, 1000000 loops each)\n",
      "True\n"
     ]
    }
   ],
   "source": [
    "%timeit vbt.portfolio.detect_order_accumulation_1d_nb(trades[0])\n",
    "\n",
    "print(vbt.portfolio.detect_order_accumulation_1d_nb(trades[0]))"
   ]
  },
  {
   "cell_type": "code",
   "execution_count": 21,
   "metadata": {},
   "outputs": [
    {
     "name": "stdout",
     "output_type": "stream",
     "text": [
      "4.48 ms ± 53.2 µs per loop (mean ± std. dev. of 7 runs, 100 loops each)\n",
      "(1000,)\n"
     ]
    }
   ],
   "source": [
    "%timeit vbt.portfolio.detect_order_accumulation_nb(trades)\n",
    "\n",
    "print(vbt.portfolio.detect_order_accumulation_nb(trades).shape)"
   ]
  },
  {
   "cell_type": "code",
   "execution_count": 24,
   "metadata": {},
   "outputs": [
    {
     "name": "stdout",
     "output_type": "stream",
     "text": [
      "14.5 ms ± 1.33 ms per loop (mean ± std. dev. of 7 runs, 100 loops each)\n",
      "(1000, 1000)\n"
     ]
    }
   ],
   "source": [
    "%timeit vbt.portfolio.position_profits_nb(trades, equity)\n",
    "\n",
    "print(vbt.portfolio.position_profits_nb(trades, equity).shape)"
   ]
  },
  {
   "cell_type": "code",
   "execution_count": 25,
   "metadata": {},
   "outputs": [
    {
     "name": "stdout",
     "output_type": "stream",
     "text": [
      "18.2 ms ± 1.81 ms per loop (mean ± std. dev. of 7 runs, 100 loops each)\n",
      "(1000, 1000)\n"
     ]
    }
   ],
   "source": [
    "%timeit vbt.portfolio.position_returns_nb(trades, equity)\n",
    "\n",
    "print(vbt.portfolio.position_returns_nb(trades, equity).shape)"
   ]
  },
  {
   "cell_type": "markdown",
   "metadata": {},
   "source": [
    "## strategy.py"
   ]
  },
  {
   "cell_type": "code",
   "execution_count": 26,
   "metadata": {},
   "outputs": [
    {
     "name": "stdout",
     "output_type": "stream",
     "text": [
      "2.68 s ± 117 ms per loop (mean ± std. dev. of 7 runs, 1 loop each)\n",
      "(1000, 99000)\n"
     ]
    }
   ],
   "source": [
    "%timeit vbt.strategy.dmac_nb(a, np.arange(1, 100), np.arange(1, 100)+1, False, True)\n",
    "\n",
    "print(vbt.strategy.dmac_nb(a, np.arange(1, 100), np.arange(1, 100)+1, False, True)[0].shape)"
   ]
  },
  {
   "cell_type": "code",
   "execution_count": 27,
   "metadata": {},
   "outputs": [
    {
     "name": "stdout",
     "output_type": "stream",
     "text": [
      "2.5 s ± 11.8 ms per loop (mean ± std. dev. of 7 runs, 1 loop each)\n",
      "(1000, 99000)\n"
     ]
    }
   ],
   "source": [
    "%timeit vbt.strategy.dmac_nb(a, np.arange(1, 100), np.arange(1, 100)+1, True, True)\n",
    "\n",
    "print(vbt.strategy.dmac_nb(a, np.arange(1, 100), np.arange(1, 100)+1, True, True)[0].shape)\n",
    "# ewm is much more efficient"
   ]
  },
  {
   "cell_type": "code",
   "execution_count": 28,
   "metadata": {},
   "outputs": [
    {
     "name": "stdout",
     "output_type": "stream",
     "text": [
      "1.03 s ± 5.61 ms per loop (mean ± std. dev. of 7 runs, 1 loop each)\n",
      "(1000, 100000)\n"
     ]
    }
   ],
   "source": [
    "# Test caching\n",
    "%timeit vbt.strategy.dmac_nb(a, np.full(100, 2), np.full(100, 3), True, True)\n",
    "\n",
    "print(vbt.strategy.dmac_nb(a, np.full(100, 2), np.full(100, 3), True, True)[0].shape)"
   ]
  },
  {
   "cell_type": "code",
   "execution_count": 29,
   "metadata": {},
   "outputs": [
    {
     "name": "stdout",
     "output_type": "stream",
     "text": [
      "5.85 s ± 332 ms per loop (mean ± std. dev. of 7 runs, 1 loop each)\n",
      "(1000, 100000)\n"
     ]
    }
   ],
   "source": [
    "%timeit vbt.strategy.bb_nb(a, np.arange(1, 101), np.full(100, 1), False, True)\n",
    "\n",
    "print(vbt.strategy.bb_nb(a, np.arange(1, 101), np.full(100, 1), False, True)[0].shape)"
   ]
  },
  {
   "cell_type": "code",
   "execution_count": 30,
   "metadata": {},
   "outputs": [
    {
     "name": "stdout",
     "output_type": "stream",
     "text": [
      "5.83 s ± 49.2 ms per loop (mean ± std. dev. of 7 runs, 1 loop each)\n",
      "(1000, 100000)\n"
     ]
    }
   ],
   "source": [
    "%timeit vbt.strategy.bb_nb(a, np.arange(1, 101), np.full(100, 1), True, True)\n",
    "\n",
    "print(vbt.strategy.bb_nb(a, np.arange(1, 101), np.full(100, 1), True, True)[0].shape)"
   ]
  },
  {
   "cell_type": "code",
   "execution_count": 31,
   "metadata": {},
   "outputs": [
    {
     "name": "stdout",
     "output_type": "stream",
     "text": [
      "2.04 s ± 6.57 ms per loop (mean ± std. dev. of 7 runs, 1 loop each)\n",
      "(1000, 100000)\n"
     ]
    }
   ],
   "source": [
    "# Test caching\n",
    "%timeit vbt.strategy.bb_nb(a, np.full(100, 2), np.full(100, 1), True, True)\n",
    "\n",
    "print(vbt.strategy.bb_nb(a, np.full(100, 2), np.full(100, 1), True, True)[0].shape)"
   ]
  },
  {
   "cell_type": "code",
   "execution_count": 32,
   "metadata": {},
   "outputs": [
    {
     "name": "stdout",
     "output_type": "stream",
     "text": [
      "4.65 s ± 24.2 ms per loop (mean ± std. dev. of 7 runs, 1 loop each)\n",
      "(1000, 99000)\n"
     ]
    }
   ],
   "source": [
    "%timeit vbt.strategy.rsi_nb(a, np.arange(1, 100), False, True)\n",
    "\n",
    "print(vbt.strategy.rsi_nb(a, np.arange(1, 100), False, True).shape)"
   ]
  },
  {
   "cell_type": "code",
   "execution_count": 33,
   "metadata": {},
   "outputs": [
    {
     "name": "stdout",
     "output_type": "stream",
     "text": [
      "4.49 s ± 131 ms per loop (mean ± std. dev. of 7 runs, 1 loop each)\n",
      "(1000, 99000)\n"
     ]
    }
   ],
   "source": [
    "%timeit vbt.strategy.rsi_nb(a, np.arange(1, 100), True, True)\n",
    "\n",
    "print(vbt.strategy.rsi_nb(a, np.arange(1, 100), True, True).shape)"
   ]
  },
  {
   "cell_type": "code",
   "execution_count": 34,
   "metadata": {},
   "outputs": [
    {
     "name": "stdout",
     "output_type": "stream",
     "text": [
      "906 ms ± 5.73 ms per loop (mean ± std. dev. of 7 runs, 1 loop each)\n",
      "(1000, 100000)\n"
     ]
    }
   ],
   "source": [
    "# Test caching\n",
    "%timeit vbt.strategy.rsi_nb(a, np.full(100, 2), True, True)\n",
    "\n",
    "print(vbt.strategy.rsi_nb(a, np.full(100, 2), True, True).shape)"
   ]
  },
  {
   "cell_type": "code",
   "execution_count": null,
   "metadata": {},
   "outputs": [],
   "source": []
  }
 ],
 "metadata": {
  "kernelspec": {
   "display_name": "Python 3",
   "language": "python",
   "name": "python3"
  },
  "language_info": {
   "codemirror_mode": {
    "name": "ipython",
    "version": 3
   },
   "file_extension": ".py",
   "mimetype": "text/x-python",
   "name": "python",
   "nbconvert_exporter": "python",
   "pygments_lexer": "ipython3",
   "version": "3.7.3"
  },
  "widgets": {
   "application/vnd.jupyter.widget-state+json": {
    "state": {},
    "version_major": 2,
    "version_minor": 0
   }
  }
 },
 "nbformat": 4,
 "nbformat_minor": 4
}
