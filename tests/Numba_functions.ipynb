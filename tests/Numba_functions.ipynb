{
 "cells": [
  {
   "cell_type": "code",
   "execution_count": 1,
   "metadata": {},
   "outputs": [],
   "source": [
    "import vectorbt as vbt"
   ]
  },
  {
   "cell_type": "code",
   "execution_count": 2,
   "metadata": {},
   "outputs": [],
   "source": [
    "import numpy as np\n",
    "import pandas as pd"
   ]
  },
  {
   "cell_type": "markdown",
   "metadata": {},
   "source": [
    "## timeseries.py"
   ]
  },
  {
   "cell_type": "code",
   "execution_count": 3,
   "metadata": {},
   "outputs": [
    {
     "data": {
      "text/plain": [
       "(1000, 1000)"
      ]
     },
     "execution_count": 3,
     "metadata": {},
     "output_type": "execute_result"
    }
   ],
   "source": [
    "a = np.random.uniform(size=(1000, 1000))\n",
    "\n",
    "a.shape"
   ]
  },
  {
   "cell_type": "code",
   "execution_count": 6,
   "metadata": {},
   "outputs": [
    {
     "name": "stdout",
     "output_type": "stream",
     "text": [
      "3.6 ms ± 28.8 µs per loop (mean ± std. dev. of 7 runs, 100 loops each)\n",
      "(1000, 1000)\n"
     ]
    }
   ],
   "source": [
    "%timeit vbt.timeseries.set_by_mask_nb(a, np.isnan(a), 0)\n",
    "\n",
    "print(vbt.timeseries.set_by_mask_nb(a, np.isnan(a), 0).shape)"
   ]
  },
  {
   "cell_type": "code",
   "execution_count": 5,
   "metadata": {},
   "outputs": [
    {
     "name": "stdout",
     "output_type": "stream",
     "text": [
      "4.25 ms ± 32.8 µs per loop (mean ± std. dev. of 7 runs, 100 loops each)\n",
      "(1000, 1000)\n"
     ]
    }
   ],
   "source": [
    "%timeit vbt.timeseries.fillna_nb(a, 0)\n",
    "\n",
    "print(vbt.timeseries.fillna_nb(a, 0).shape)"
   ]
  },
  {
   "cell_type": "code",
   "execution_count": 6,
   "metadata": {},
   "outputs": [
    {
     "name": "stdout",
     "output_type": "stream",
     "text": [
      "5.05 ms ± 85.2 µs per loop (mean ± std. dev. of 7 runs, 100 loops each)\n",
      "(2000, 1000)\n"
     ]
    }
   ],
   "source": [
    "%timeit vbt.timeseries.prepend_nb(a, 1000, np.nan)\n",
    "\n",
    "print(vbt.timeseries.prepend_nb(a, 1000, np.nan).shape)"
   ]
  },
  {
   "cell_type": "code",
   "execution_count": 7,
   "metadata": {},
   "outputs": [
    {
     "name": "stdout",
     "output_type": "stream",
     "text": [
      "3.79 ms ± 30.2 µs per loop (mean ± std. dev. of 7 runs, 100 loops each)\n",
      "(1000, 1000)\n"
     ]
    }
   ],
   "source": [
    "%timeit vbt.timeseries.fshift_nb(a, 100)\n",
    "\n",
    "print(vbt.timeseries.fshift_nb(a, 100).shape)"
   ]
  },
  {
   "cell_type": "code",
   "execution_count": 8,
   "metadata": {},
   "outputs": [
    {
     "name": "stdout",
     "output_type": "stream",
     "text": [
      "25.8 ms ± 255 µs per loop (mean ± std. dev. of 7 runs, 10 loops each)\n",
      "(1000, 1000)\n"
     ]
    }
   ],
   "source": [
    "%timeit vbt.timeseries.diff_nb(a, 100)\n",
    "\n",
    "print(vbt.timeseries.diff_nb(a, 100).shape)"
   ]
  },
  {
   "cell_type": "code",
   "execution_count": 9,
   "metadata": {},
   "outputs": [
    {
     "name": "stdout",
     "output_type": "stream",
     "text": [
      "11.1 ms ± 84.7 µs per loop (mean ± std. dev. of 7 runs, 100 loops each)\n",
      "(1000, 1000)\n"
     ]
    }
   ],
   "source": [
    "%timeit vbt.timeseries.pct_change_nb(a)\n",
    "\n",
    "print(vbt.timeseries.pct_change_nb(a).shape)"
   ]
  },
  {
   "cell_type": "code",
   "execution_count": 10,
   "metadata": {},
   "outputs": [
    {
     "name": "stdout",
     "output_type": "stream",
     "text": [
      "6.67 ms ± 38.3 µs per loop (mean ± std. dev. of 7 runs, 100 loops each)\n",
      "(1000, 1000)\n"
     ]
    }
   ],
   "source": [
    "%timeit vbt.timeseries.ffill_nb(a)\n",
    "\n",
    "print(vbt.timeseries.ffill_nb(a).shape)"
   ]
  },
  {
   "cell_type": "code",
   "execution_count": 7,
   "metadata": {},
   "outputs": [
    {
     "name": "stdout",
     "output_type": "stream",
     "text": [
      "10.1 ms ± 86.9 µs per loop (mean ± std. dev. of 7 runs, 100 loops each)\n",
      "(1000, 1000)\n"
     ]
    }
   ],
   "source": [
    "%timeit vbt.timeseries.cumsum_nb(a)\n",
    "\n",
    "print(vbt.timeseries.cumsum_nb(a).shape)"
   ]
  },
  {
   "cell_type": "code",
   "execution_count": 12,
   "metadata": {},
   "outputs": [
    {
     "name": "stdout",
     "output_type": "stream",
     "text": [
      "8.57 ms ± 939 µs per loop (mean ± std. dev. of 7 runs, 100 loops each)\n",
      "(1000, 1000)\n"
     ]
    }
   ],
   "source": [
    "%timeit vbt.timeseries.cumprod_nb(a)\n",
    "\n",
    "print(vbt.timeseries.cumprod_nb(a).shape)"
   ]
  },
  {
   "cell_type": "code",
   "execution_count": 8,
   "metadata": {},
   "outputs": [
    {
     "name": "stdout",
     "output_type": "stream",
     "text": [
      "13.2 ms ± 94.4 µs per loop (mean ± std. dev. of 7 runs, 100 loops each)\n",
      "(1000, 1000)\n"
     ]
    }
   ],
   "source": [
    "%timeit vbt.timeseries.rolling_mean_nb(a, 10)\n",
    "\n",
    "print(vbt.timeseries.rolling_mean_nb(a, 10).shape)"
   ]
  },
  {
   "cell_type": "code",
   "execution_count": 9,
   "metadata": {},
   "outputs": [
    {
     "name": "stdout",
     "output_type": "stream",
     "text": [
      "17.5 ms ± 482 µs per loop (mean ± std. dev. of 7 runs, 10 loops each)\n",
      "(1000, 1000)\n"
     ]
    }
   ],
   "source": [
    "%timeit vbt.timeseries.rolling_std_nb(a, 10)\n",
    "\n",
    "print(vbt.timeseries.rolling_std_nb(a, 10).shape)"
   ]
  },
  {
   "cell_type": "code",
   "execution_count": 11,
   "metadata": {},
   "outputs": [
    {
     "name": "stdout",
     "output_type": "stream",
     "text": [
      "9.22 ms ± 173 µs per loop (mean ± std. dev. of 7 runs, 100 loops each)\n",
      "(1000, 1000)\n"
     ]
    }
   ],
   "source": [
    "%timeit vbt.timeseries.expanding_max_nb(a)\n",
    "\n",
    "print(vbt.timeseries.expanding_max_nb(a).shape)"
   ]
  },
  {
   "cell_type": "code",
   "execution_count": 12,
   "metadata": {},
   "outputs": [
    {
     "name": "stdout",
     "output_type": "stream",
     "text": [
      "12.2 ms ± 52.5 µs per loop (mean ± std. dev. of 7 runs, 100 loops each)\n",
      "(1000, 1000)\n"
     ]
    }
   ],
   "source": [
    "%timeit vbt.timeseries.ewm_mean_nb(a, 10)\n",
    "\n",
    "print(vbt.timeseries.ewm_mean_nb(a, 10).shape)"
   ]
  },
  {
   "cell_type": "code",
   "execution_count": 13,
   "metadata": {},
   "outputs": [
    {
     "name": "stdout",
     "output_type": "stream",
     "text": [
      "25 ms ± 4.89 ms per loop (mean ± std. dev. of 7 runs, 10 loops each)\n",
      "(1000, 1000)\n"
     ]
    }
   ],
   "source": [
    "%timeit vbt.timeseries.ewm_std_nb(a, 10)\n",
    "\n",
    "print(vbt.timeseries.ewm_std_nb(a, 10).shape)"
   ]
  },
  {
   "cell_type": "markdown",
   "metadata": {},
   "source": [
    "## signals.py"
   ]
  },
  {
   "cell_type": "code",
   "execution_count": 8,
   "metadata": {},
   "outputs": [
    {
     "name": "stdout",
     "output_type": "stream",
     "text": [
      "3.7 ms ± 341 µs per loop (mean ± std. dev. of 7 runs, 100 loops each)\n",
      "(1000, 1000)\n"
     ]
    }
   ],
   "source": [
    "%timeit vbt.signals.generate_random_entries_nb((1000, 1000), 100, 2, 42)\n",
    "\n",
    "entries = vbt.signals.generate_random_entries_nb((1000, 1000), 100, 2, 42)\n",
    "print(entries.shape)"
   ]
  },
  {
   "cell_type": "code",
   "execution_count": 9,
   "metadata": {},
   "outputs": [
    {
     "name": "stdout",
     "output_type": "stream",
     "text": [
      "30.2 ms ± 563 µs per loop (mean ± std. dev. of 7 runs, 10 loops each)\n",
      "(1000, 1000)\n"
     ]
    }
   ],
   "source": [
    "%timeit vbt.signals.generate_random_exits_nb(entries, 42)\n",
    "\n",
    "exits = vbt.signals.generate_random_exits_nb(entries, 42)\n",
    "print(exits.shape)"
   ]
  },
  {
   "cell_type": "code",
   "execution_count": 20,
   "metadata": {},
   "outputs": [],
   "source": [
    "from numba import njit, b1\n",
    "\n",
    "@njit\n",
    "def exit_func_nb(entries, col_idx, prev_idx):\n",
    "    # First value after entry\n",
    "    entries = entries[:, col_idx]\n",
    "    a = np.full(entries.shape, False, dtype=b1)\n",
    "    a[prev_idx+1:] = True\n",
    "    return a"
   ]
  },
  {
   "cell_type": "code",
   "execution_count": 21,
   "metadata": {},
   "outputs": [
    {
     "name": "stdout",
     "output_type": "stream",
     "text": [
      "585 ms ± 2.48 ms per loop (mean ± std. dev. of 7 runs, 1 loop each)\n",
      "(1000, 1000)\n"
     ]
    }
   ],
   "source": [
    "%timeit vbt.signals.generate_exits_nb(entries, exit_func_nb, True)\n",
    "\n",
    "print(vbt.signals.generate_exits_nb(entries, exit_func_nb, True).shape)\n",
    "# Iterative functions are the most expensive"
   ]
  },
  {
   "cell_type": "code",
   "execution_count": 22,
   "metadata": {},
   "outputs": [],
   "source": [
    "@njit\n",
    "def entry_func_nb(exits, col_idx, prev_idx, a):\n",
    "    # First value after last entry\n",
    "    exits = exits[:, col_idx]\n",
    "    a = a[:, col_idx]\n",
    "    entries = np.full(exits.shape, False, dtype=b1)\n",
    "    entries[a > 0.5] = True\n",
    "    return entries\n",
    "\n",
    "@njit\n",
    "def exit_func_nb(entries, col_idx, prev_idx, a):\n",
    "    # First value after last exit\n",
    "    entries = entries[:, col_idx]\n",
    "    a = a[:, col_idx]\n",
    "    exits = np.full(entries.shape, False, dtype=b1)\n",
    "    exits[a < 0.5] = True\n",
    "    return exits"
   ]
  },
  {
   "cell_type": "code",
   "execution_count": 23,
   "metadata": {},
   "outputs": [
    {
     "name": "stdout",
     "output_type": "stream",
     "text": [
      "2.87 s ± 120 ms per loop (mean ± std. dev. of 7 runs, 1 loop each)\n",
      "(1000, 1000)\n"
     ]
    }
   ],
   "source": [
    "%timeit vbt.signals.generate_entries_and_exits_nb(a.shape, entry_func_nb, exit_func_nb, a)\n",
    "\n",
    "print(vbt.signals.generate_entries_and_exits_nb(a.shape, entry_func_nb, exit_func_nb, a)[0].shape)\n",
    "# Iterative functions are the most expensive"
   ]
  },
  {
   "cell_type": "code",
   "execution_count": 24,
   "metadata": {},
   "outputs": [
    {
     "name": "stdout",
     "output_type": "stream",
     "text": [
      "3.5 ms ± 62.2 µs per loop (mean ± std. dev. of 7 runs, 100 loops each)\n",
      "(1000, 1000)\n"
     ]
    }
   ],
   "source": [
    "%timeit vbt.signals.rank_true_nb(entries, True)\n",
    "\n",
    "print(vbt.signals.rank_true_nb(entries, True).shape)"
   ]
  },
  {
   "cell_type": "code",
   "execution_count": 25,
   "metadata": {},
   "outputs": [
    {
     "name": "stdout",
     "output_type": "stream",
     "text": [
      "5.38 ms ± 39 µs per loop (mean ± std. dev. of 7 runs, 100 loops each)\n",
      "(1000, 1000)\n"
     ]
    }
   ],
   "source": [
    "%timeit vbt.signals.rank_false_nb(entries, True)\n",
    "\n",
    "print(vbt.signals.rank_false_nb(entries, True).shape)"
   ]
  },
  {
   "cell_type": "code",
   "execution_count": 26,
   "metadata": {},
   "outputs": [
    {
     "name": "stdout",
     "output_type": "stream",
     "text": [
      "15.5 ms ± 60.2 µs per loop (mean ± std. dev. of 7 runs, 100 loops each)\n",
      "(1000, 1000)\n"
     ]
    }
   ],
   "source": [
    "%timeit vbt.signals.shuffle(entries, 42)\n",
    "\n",
    "print(vbt.signals.shuffle(entries, 42).shape)"
   ]
  },
  {
   "cell_type": "code",
   "execution_count": 27,
   "metadata": {},
   "outputs": [
    {
     "name": "stdout",
     "output_type": "stream",
     "text": [
      "3.73 ms ± 20.5 µs per loop (mean ± std. dev. of 7 runs, 100 loops each)\n",
      "(1000,)\n"
     ]
    }
   ],
   "source": [
    "%timeit vbt.signals.avg_distance_nb(entries)\n",
    "\n",
    "print(vbt.signals.avg_distance_nb(entries).shape)"
   ]
  },
  {
   "cell_type": "code",
   "execution_count": 28,
   "metadata": {},
   "outputs": [
    {
     "name": "stdout",
     "output_type": "stream",
     "text": [
      "1.36 ms ± 24.1 µs per loop (mean ± std. dev. of 7 runs, 1000 loops each)\n",
      "(1100, 1000)\n"
     ]
    }
   ],
   "source": [
    "%timeit vbt.signals.prepend_nb(entries, 100, False)\n",
    "\n",
    "print(vbt.signals.prepend_nb(entries, 100, False).shape)"
   ]
  },
  {
   "cell_type": "code",
   "execution_count": 29,
   "metadata": {},
   "outputs": [
    {
     "name": "stdout",
     "output_type": "stream",
     "text": [
      "1.37 ms ± 8.81 µs per loop (mean ± std. dev. of 7 runs, 1000 loops each)\n",
      "(1000, 1000)\n"
     ]
    }
   ],
   "source": [
    "%timeit vbt.signals.fshift_nb(entries, 100)\n",
    "\n",
    "print(vbt.signals.fshift_nb(entries, 100).shape)"
   ]
  },
  {
   "cell_type": "code",
   "execution_count": 30,
   "metadata": {},
   "outputs": [
    {
     "name": "stdout",
     "output_type": "stream",
     "text": [
      "4.88 ms ± 474 µs per loop (mean ± std. dev. of 7 runs, 100 loops each)\n",
      "(1000, 1000)\n"
     ]
    }
   ],
   "source": [
    "%timeit vbt.signals.first_true_nb(entries, True)\n",
    "\n",
    "print(vbt.signals.first_true_nb(entries, True).shape)"
   ]
  },
  {
   "cell_type": "code",
   "execution_count": 31,
   "metadata": {},
   "outputs": [
    {
     "name": "stdout",
     "output_type": "stream",
     "text": [
      "6.3 ms ± 98.7 µs per loop (mean ± std. dev. of 7 runs, 100 loops each)\n",
      "(1000, 1000)\n"
     ]
    }
   ],
   "source": [
    "%timeit vbt.signals.first_false_nb(entries, True)\n",
    "\n",
    "print(vbt.signals.first_false_nb(entries, True).shape)"
   ]
  },
  {
   "cell_type": "markdown",
   "metadata": {},
   "source": [
    "## positions.py"
   ]
  },
  {
   "cell_type": "code",
   "execution_count": 16,
   "metadata": {},
   "outputs": [
    {
     "name": "stdout",
     "output_type": "stream",
     "text": [
      "4.54 ms ± 250 µs per loop (mean ± std. dev. of 7 runs, 100 loops each)\n",
      "(1000, 1000)\n"
     ]
    }
   ],
   "source": [
    "%timeit vbt.positions.from_signals_nb(entries, exits)\n",
    "\n",
    "positions = vbt.positions.from_signals_nb(entries, exits)\n",
    "print(positions.shape)"
   ]
  },
  {
   "cell_type": "markdown",
   "metadata": {},
   "source": [
    "## portfolio.py"
   ]
  },
  {
   "cell_type": "code",
   "execution_count": 18,
   "metadata": {},
   "outputs": [
    {
     "name": "stdout",
     "output_type": "stream",
     "text": [
      "17.3 ms ± 428 µs per loop (mean ± std. dev. of 7 runs, 10 loops each)\n",
      "(1000, 1000)\n"
     ]
    }
   ],
   "source": [
    "%timeit vbt.portfolio.equity_nb(a, positions, 1000, np.full_like(a, 0.1), np.full_like(a, 0.1))\n",
    "\n",
    "equity = vbt.portfolio.equity_nb(a, positions, 1000, np.full_like(a, 0.1), np.full_like(a, 0.1))\n",
    "print(equity.shape)"
   ]
  },
  {
   "cell_type": "code",
   "execution_count": 34,
   "metadata": {},
   "outputs": [
    {
     "name": "stdout",
     "output_type": "stream",
     "text": [
      "7.53 ms ± 55 µs per loop (mean ± std. dev. of 7 runs, 100 loops each)\n",
      "(1000, 1000)\n"
     ]
    }
   ],
   "source": [
    "%timeit vbt.portfolio.trade_profits_nb(equity, positions)\n",
    "\n",
    "print(vbt.portfolio.trade_profits_nb(equity, positions).shape)"
   ]
  },
  {
   "cell_type": "code",
   "execution_count": 35,
   "metadata": {},
   "outputs": [
    {
     "name": "stdout",
     "output_type": "stream",
     "text": [
      "7.83 ms ± 88.8 µs per loop (mean ± std. dev. of 7 runs, 100 loops each)\n",
      "(1000, 1000)\n"
     ]
    }
   ],
   "source": [
    "%timeit vbt.portfolio.trade_returns_nb(equity, positions)\n",
    "\n",
    "print(vbt.portfolio.trade_returns_nb(equity, positions).shape)"
   ]
  },
  {
   "cell_type": "markdown",
   "metadata": {},
   "source": [
    "## strategy.py"
   ]
  },
  {
   "cell_type": "code",
   "execution_count": 4,
   "metadata": {},
   "outputs": [
    {
     "name": "stdout",
     "output_type": "stream",
     "text": [
      "2.65 s ± 17.6 ms per loop (mean ± std. dev. of 7 runs, 1 loop each)\n",
      "(1000, 99000)\n"
     ]
    }
   ],
   "source": [
    "%timeit vbt.strategy.dmac_nb(a, np.arange(1, 100), np.arange(1, 100)+1, False, True)\n",
    "\n",
    "print(vbt.strategy.dmac_nb(a, np.arange(1, 100), np.arange(1, 100)+1, False, True)[0].shape)"
   ]
  },
  {
   "cell_type": "code",
   "execution_count": 5,
   "metadata": {},
   "outputs": [
    {
     "name": "stdout",
     "output_type": "stream",
     "text": [
      "2.51 s ± 13.4 ms per loop (mean ± std. dev. of 7 runs, 1 loop each)\n",
      "(1000, 99000)\n"
     ]
    }
   ],
   "source": [
    "%timeit vbt.strategy.dmac_nb(a, np.arange(1, 100), np.arange(1, 100)+1, True, True)\n",
    "\n",
    "print(vbt.strategy.dmac_nb(a, np.arange(1, 100), np.arange(1, 100)+1, True, True)[0].shape)\n",
    "# ewm is much more efficient"
   ]
  },
  {
   "cell_type": "code",
   "execution_count": 6,
   "metadata": {},
   "outputs": [
    {
     "name": "stdout",
     "output_type": "stream",
     "text": [
      "1.02 s ± 8.56 ms per loop (mean ± std. dev. of 7 runs, 1 loop each)\n",
      "(1000, 100000)\n"
     ]
    }
   ],
   "source": [
    "# Test caching\n",
    "%timeit vbt.strategy.dmac_nb(a, np.full(100, 2), np.full(100, 3), True, True)\n",
    "\n",
    "print(vbt.strategy.dmac_nb(a, np.full(100, 2), np.full(100, 3), True, True)[0].shape)"
   ]
  },
  {
   "cell_type": "code",
   "execution_count": 4,
   "metadata": {},
   "outputs": [
    {
     "name": "stdout",
     "output_type": "stream",
     "text": [
      "5.81 s ± 247 ms per loop (mean ± std. dev. of 7 runs, 1 loop each)\n",
      "(1000, 100000)\n"
     ]
    }
   ],
   "source": [
    "%timeit vbt.strategy.bb_nb(a, np.arange(1, 101), np.full(100, 1), False, True)\n",
    "\n",
    "print(vbt.strategy.bb_nb(a, np.arange(1, 101), np.full(100, 1), False, True)[0].shape)"
   ]
  },
  {
   "cell_type": "code",
   "execution_count": 5,
   "metadata": {},
   "outputs": [
    {
     "name": "stdout",
     "output_type": "stream",
     "text": [
      "5.86 s ± 200 ms per loop (mean ± std. dev. of 7 runs, 1 loop each)\n",
      "(1000, 100000)\n"
     ]
    }
   ],
   "source": [
    "%timeit vbt.strategy.bb_nb(a, np.arange(1, 101), np.full(100, 1), True, True)\n",
    "\n",
    "print(vbt.strategy.bb_nb(a, np.arange(1, 101), np.full(100, 1), True, True)[0].shape)"
   ]
  },
  {
   "cell_type": "code",
   "execution_count": 6,
   "metadata": {},
   "outputs": [
    {
     "name": "stdout",
     "output_type": "stream",
     "text": [
      "2.03 s ± 11.9 ms per loop (mean ± std. dev. of 7 runs, 1 loop each)\n",
      "(1000, 100000)\n"
     ]
    }
   ],
   "source": [
    "# Test caching\n",
    "%timeit vbt.strategy.bb_nb(a, np.full(100, 2), np.full(100, 1), True, True)\n",
    "\n",
    "print(vbt.strategy.bb_nb(a, np.full(100, 2), np.full(100, 1), True, True)[0].shape)"
   ]
  },
  {
   "cell_type": "code",
   "execution_count": 4,
   "metadata": {},
   "outputs": [
    {
     "name": "stdout",
     "output_type": "stream",
     "text": [
      "5.09 s ± 480 ms per loop (mean ± std. dev. of 7 runs, 1 loop each)\n",
      "(1000, 99000)\n"
     ]
    }
   ],
   "source": [
    "%timeit vbt.strategy.rsi_nb(a, np.arange(1, 100), False, True)\n",
    "\n",
    "print(vbt.strategy.rsi_nb(a, np.arange(1, 100), False, True).shape)"
   ]
  },
  {
   "cell_type": "code",
   "execution_count": 5,
   "metadata": {},
   "outputs": [
    {
     "name": "stdout",
     "output_type": "stream",
     "text": [
      "4.6 s ± 360 ms per loop (mean ± std. dev. of 7 runs, 1 loop each)\n",
      "(1000, 99000)\n"
     ]
    }
   ],
   "source": [
    "%timeit vbt.strategy.rsi_nb(a, np.arange(1, 100), True, True)\n",
    "\n",
    "print(vbt.strategy.rsi_nb(a, np.arange(1, 100), True, True).shape)"
   ]
  },
  {
   "cell_type": "code",
   "execution_count": 6,
   "metadata": {},
   "outputs": [
    {
     "name": "stdout",
     "output_type": "stream",
     "text": [
      "930 ms ± 8.83 ms per loop (mean ± std. dev. of 7 runs, 1 loop each)\n",
      "(1000, 100000)\n"
     ]
    }
   ],
   "source": [
    "# Test caching\n",
    "%timeit vbt.strategy.rsi_nb(a, np.full(100, 2), True, True)\n",
    "\n",
    "print(vbt.strategy.rsi_nb(a, np.full(100, 2), True, True).shape)"
   ]
  },
  {
   "cell_type": "code",
   "execution_count": 10,
   "metadata": {},
   "outputs": [
    {
     "name": "stdout",
     "output_type": "stream",
     "text": [
      "1.56 ms ± 10.2 µs per loop (mean ± std. dev. of 7 runs, 1000 loops each)\n",
      "(1000,)\n"
     ]
    }
   ],
   "source": [
    "%timeit vbt.strategy.stoploss_exit_mask_nb(entries, 0, 0, a.shape[0], a, np.full_like(a, 0.1), True)\n",
    "\n",
    "print(vbt.strategy.stoploss_exit_mask_nb(entries, 0, 0, a.shape[0], a, np.full_like(a, 0.1), True).shape)"
   ]
  },
  {
   "cell_type": "code",
   "execution_count": 11,
   "metadata": {},
   "outputs": [
    {
     "name": "stdout",
     "output_type": "stream",
     "text": [
      "844 ms ± 47.2 ms per loop (mean ± std. dev. of 7 runs, 1 loop each)\n",
      "(1000, 1000)\n"
     ]
    }
   ],
   "source": [
    "%timeit vbt.strategy.stoploss_exits_nb(a, entries, np.broadcast_to(0.1, a.shape)[None, :].copy(), True, True)\n",
    "\n",
    "print(vbt.strategy.stoploss_exits_nb(a, entries, np.broadcast_to(0.1, a.shape)[None, :].copy(), True, True).shape)"
   ]
  },
  {
   "cell_type": "code",
   "execution_count": 12,
   "metadata": {},
   "outputs": [
    {
     "name": "stdout",
     "output_type": "stream",
     "text": [
      "(100, 1000, 1000)\n"
     ]
    }
   ],
   "source": [
    "stops = np.arange(0, 1, 0.01)\n",
    "stops = np.tile(stops[:, None][:, None], (1, a.shape[0], a.shape[1]))\n",
    "\n",
    "print(stops.shape)"
   ]
  },
  {
   "cell_type": "code",
   "execution_count": 13,
   "metadata": {},
   "outputs": [
    {
     "name": "stdout",
     "output_type": "stream",
     "text": [
      "1min 4s ± 154 ms per loop (mean ± std. dev. of 7 runs, 1 loop each)\n",
      "(1000, 100000)\n"
     ]
    }
   ],
   "source": [
    "%timeit vbt.strategy.stoploss_exits_nb(a, entries, stops, True, True)\n",
    "\n",
    "print(vbt.strategy.stoploss_exits_nb(a, entries, stops, True, True).shape)"
   ]
  },
  {
   "cell_type": "code",
   "execution_count": 14,
   "metadata": {},
   "outputs": [
    {
     "name": "stdout",
     "output_type": "stream",
     "text": [
      "1.74 ms ± 253 µs per loop (mean ± std. dev. of 7 runs, 100 loops each)\n",
      "(1000,)\n"
     ]
    }
   ],
   "source": [
    "%timeit vbt.strategy.tstop_exit_mask_nb(entries, 0, 0, a.shape[0], a, np.full_like(a, 0.1), True)\n",
    "\n",
    "print(vbt.strategy.tstop_exit_mask_nb(entries, 0, 0, a.shape[0], a, np.full_like(a, 0.1), True).shape)"
   ]
  },
  {
   "cell_type": "code",
   "execution_count": 15,
   "metadata": {},
   "outputs": [
    {
     "name": "stdout",
     "output_type": "stream",
     "text": [
      "659 ms ± 5.08 ms per loop (mean ± std. dev. of 7 runs, 1 loop each)\n",
      "(1000, 1000)\n"
     ]
    }
   ],
   "source": [
    "%timeit vbt.strategy.tstop_exits_nb(a, entries, np.broadcast_to(0.1, a.shape)[None, :].copy(), True, True)\n",
    "\n",
    "print(vbt.strategy.tstop_exits_nb(a, entries, np.broadcast_to(0.1, a.shape)[None, :].copy(), True, True).shape)"
   ]
  },
  {
   "cell_type": "code",
   "execution_count": 16,
   "metadata": {},
   "outputs": [
    {
     "name": "stdout",
     "output_type": "stream",
     "text": [
      "59.1 s ± 348 ms per loop (mean ± std. dev. of 7 runs, 1 loop each)\n",
      "(1000, 100000)\n"
     ]
    }
   ],
   "source": [
    "%timeit vbt.strategy.tstop_exits_nb(a, entries, stops, True, True)\n",
    "\n",
    "print(vbt.strategy.tstop_exits_nb(a, entries, stops, True, True).shape)"
   ]
  },
  {
   "cell_type": "code",
   "execution_count": null,
   "metadata": {},
   "outputs": [],
   "source": []
  }
 ],
 "metadata": {
  "kernelspec": {
   "display_name": "Python 3",
   "language": "python",
   "name": "python3"
  },
  "language_info": {
   "codemirror_mode": {
    "name": "ipython",
    "version": 3
   },
   "file_extension": ".py",
   "mimetype": "text/x-python",
   "name": "python",
   "nbconvert_exporter": "python",
   "pygments_lexer": "ipython3",
   "version": "3.7.3"
  },
  "widgets": {
   "application/vnd.jupyter.widget-state+json": {
    "state": {},
    "version_major": 2,
    "version_minor": 0
   }
  }
 },
 "nbformat": 4,
 "nbformat_minor": 4
}
