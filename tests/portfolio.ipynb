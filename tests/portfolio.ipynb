{
 "cells": [
  {
   "cell_type": "markdown",
   "metadata": {},
   "source": [
    "# portfolio"
   ]
  },
  {
   "cell_type": "code",
   "execution_count": 1,
   "metadata": {},
   "outputs": [],
   "source": [
    "import vectorbt as vbt"
   ]
  },
  {
   "cell_type": "code",
   "execution_count": 2,
   "metadata": {
    "Collapsed": "false"
   },
   "outputs": [],
   "source": [
    "import numpy as np\n",
    "import pandas as pd\n",
    "from datetime import datetime, timedelta\n",
    "from numba import njit, f8, i8, b1, optional\n",
    "import empyrical"
   ]
  },
  {
   "cell_type": "code",
   "execution_count": 3,
   "metadata": {
    "Collapsed": "false"
   },
   "outputs": [
    {
     "name": "stdout",
     "output_type": "stream",
     "text": [
      "              a    b    c    d\n",
      "2020-01-01  1.0  9.0  1.0  4.0\n",
      "2020-01-02  2.0  8.0  2.0  3.0\n",
      "2020-01-03  3.0  7.0  3.0  2.0\n",
      "2020-01-04  4.0  6.0  4.0  1.0\n",
      "2020-01-05  5.0  5.0  3.0  2.0\n",
      "2020-01-06  6.0  4.0  2.0  3.0\n",
      "2020-01-07  7.0  3.0  1.0  4.0\n"
     ]
    }
   ],
   "source": [
    "from datetime import datetime\n",
    "index = pd.Index([\n",
    "    datetime(2020, 1, 1),\n",
    "    datetime(2020, 1, 2),\n",
    "    datetime(2020, 1, 3),\n",
    "    datetime(2020, 1, 4),\n",
    "    datetime(2020, 1, 5),\n",
    "    datetime(2020, 1, 6),\n",
    "    datetime(2020, 1, 7),\n",
    "])\n",
    "price = pd.DataFrame({\n",
    "    'a': [1, 2, 3, 4, 5, 6, 7],\n",
    "    'b': [9, 8, 7, 6, 5, 4, 3],\n",
    "    'c': [1, 2, 3, 4, 3, 2, 1],\n",
    "    'd': [4, 3, 2, 1, 2, 3, 4]\n",
    "}, index=index).astype(float)\n",
    "\n",
    "print(price)"
   ]
  },
  {
   "cell_type": "code",
   "execution_count": 4,
   "metadata": {},
   "outputs": [
    {
     "name": "stdout",
     "output_type": "stream",
     "text": [
      "(1000, 1000)\n"
     ]
    }
   ],
   "source": [
    "big_price = pd.DataFrame(np.random.uniform(size=(1000, 1000)).astype(float))\n",
    "big_price.index = [datetime(2018, 1, 1) + timedelta(days=i) for i in range(1000)]\n",
    "\n",
    "print(big_price.shape)"
   ]
  },
  {
   "cell_type": "code",
   "execution_count": 5,
   "metadata": {
    "Collapsed": "false"
   },
   "outputs": [
    {
     "name": "stdout",
     "output_type": "stream",
     "text": [
      "                a      b      c      d\n",
      "2020-01-01  False  False   True  False\n",
      "2020-01-02  False  False  False  False\n",
      "2020-01-03   True   True  False   True\n",
      "2020-01-04  False  False  False  False\n",
      "2020-01-05   True   True  False  False\n",
      "2020-01-06  False  False  False  False\n",
      "2020-01-07  False  False   True   True\n"
     ]
    }
   ],
   "source": [
    "entries = pd.DataFrame.vbt.signals.generate_random(\n",
    "    price.shape, 2, min_space=1, seed=42, index=price.index, columns=price.columns)\n",
    "big_entries = pd.DataFrame.vbt.signals.generate_random(\n",
    "    big_price.shape, 100, min_space=1, seed=42, index=big_price.index)\n",
    "\n",
    "print(entries)"
   ]
  },
  {
   "cell_type": "code",
   "execution_count": 6,
   "metadata": {
    "Collapsed": "false"
   },
   "outputs": [
    {
     "name": "stdout",
     "output_type": "stream",
     "text": [
      "                a      b      c      d\n",
      "2020-01-01  False  False  False  False\n",
      "2020-01-02  False  False   True  False\n",
      "2020-01-03  False  False  False  False\n",
      "2020-01-04   True   True  False  False\n",
      "2020-01-05  False  False  False   True\n",
      "2020-01-06  False   True  False  False\n",
      "2020-01-07   True  False  False  False\n"
     ]
    }
   ],
   "source": [
    "exits = entries.vbt.signals.generate_random_after(1, seed=42)\n",
    "big_exits = big_entries.vbt.signals.generate_random_after(1, seed=42)\n",
    "\n",
    "print(exits)"
   ]
  },
  {
   "cell_type": "code",
   "execution_count": 7,
   "metadata": {},
   "outputs": [],
   "source": [
    "vbt.defaults.portfolio['init_capital'] = 100 # set init_capital in cash globally"
   ]
  },
  {
   "cell_type": "code",
   "execution_count": 8,
   "metadata": {},
   "outputs": [],
   "source": [
    "# Disable caching for performance testing\n",
    "# NOTE: Expect waterfall of executions, since some attributes depend on other attributes \n",
    "# that have to be calculated again and again\n",
    "vbt.defaults.caching = False"
   ]
  },
  {
   "cell_type": "markdown",
   "metadata": {},
   "source": [
    "## from_signals"
   ]
  },
  {
   "cell_type": "code",
   "execution_count": 9,
   "metadata": {},
   "outputs": [
    {
     "name": "stdout",
     "output_type": "stream",
     "text": [
      "   col  idx  size  price  fees  side\n",
      "0    0    2   1.0    3.0   0.0     0\n",
      "1    0    3   1.0    4.0   0.0     1\n",
      "2    0    4   1.0    5.0   0.0     0\n",
      "3    0    6   1.0    7.0   0.0     1\n",
      "2020-01-01    0.0\n",
      "2020-01-02    0.0\n",
      "2020-01-03    1.0\n",
      "2020-01-04    0.0\n",
      "2020-01-05    1.0\n",
      "2020-01-06    1.0\n",
      "2020-01-07    0.0\n",
      "Name: a, dtype: float64\n",
      "2020-01-01    100.0\n",
      "2020-01-02    100.0\n",
      "2020-01-03     97.0\n",
      "2020-01-04    101.0\n",
      "2020-01-05     96.0\n",
      "2020-01-06     96.0\n",
      "2020-01-07    103.0\n",
      "Name: a, dtype: float64\n",
      "10.1 ms ± 1.85 ms per loop (mean ± std. dev. of 7 runs, 1 loop each)\n"
     ]
    }
   ],
   "source": [
    "portfolio = vbt.Portfolio.from_signals(price['a'], entries['a'], exits['a'], size=1)\n",
    "print(portfolio.orders.records)\n",
    "print(portfolio.shares)\n",
    "print(portfolio.cash)\n",
    "\n",
    "%timeit vbt.Portfolio.from_signals(big_price.iloc[:, 0], big_entries.iloc[:, 0], big_exits.iloc[:, 0])"
   ]
  },
  {
   "cell_type": "code",
   "execution_count": 10,
   "metadata": {},
   "outputs": [
    {
     "name": "stdout",
     "output_type": "stream",
     "text": [
      "    col  idx  size  price  fees  side\n",
      "0     0    2   1.0    3.0   0.0     0\n",
      "1     0    3   1.0    4.0   0.0     1\n",
      "2     0    4   1.0    5.0   0.0     0\n",
      "3     0    6   1.0    7.0   0.0     1\n",
      "4     1    2   1.0    7.0   0.0     0\n",
      "5     1    3   1.0    6.0   0.0     1\n",
      "6     1    4   1.0    5.0   0.0     0\n",
      "7     1    5   1.0    4.0   0.0     1\n",
      "8     2    0   1.0    1.0   0.0     0\n",
      "9     2    1   1.0    2.0   0.0     1\n",
      "10    2    6   1.0    1.0   0.0     0\n",
      "11    3    2   1.0    2.0   0.0     0\n",
      "12    3    4   1.0    2.0   0.0     1\n",
      "13    3    6   1.0    4.0   0.0     0\n",
      "              a    b    c    d\n",
      "2020-01-01  0.0  0.0  1.0  0.0\n",
      "2020-01-02  0.0  0.0  0.0  0.0\n",
      "2020-01-03  1.0  1.0  0.0  1.0\n",
      "2020-01-04  0.0  0.0  0.0  1.0\n",
      "2020-01-05  1.0  1.0  0.0  0.0\n",
      "2020-01-06  1.0  0.0  0.0  0.0\n",
      "2020-01-07  0.0  0.0  1.0  1.0\n",
      "                a      b      c      d\n",
      "2020-01-01  100.0  100.0   99.0  100.0\n",
      "2020-01-02  100.0  100.0  101.0  100.0\n",
      "2020-01-03   97.0   93.0  101.0   98.0\n",
      "2020-01-04  101.0   99.0  101.0   98.0\n",
      "2020-01-05   96.0   94.0  101.0  100.0\n",
      "2020-01-06   96.0   98.0  101.0  100.0\n",
      "2020-01-07  103.0   98.0  100.0   96.0\n",
      "65.8 ms ± 5.41 ms per loop (mean ± std. dev. of 7 runs, 1 loop each)\n"
     ]
    }
   ],
   "source": [
    "portfolio = vbt.Portfolio.from_signals(price, entries, exits, size=1)\n",
    "print(portfolio.orders.records)\n",
    "print(portfolio.shares)\n",
    "print(portfolio.cash)\n",
    "\n",
    "%timeit vbt.Portfolio.from_signals(big_price, big_entries, big_exits, size=1)"
   ]
  },
  {
   "cell_type": "code",
   "execution_count": 11,
   "metadata": {},
   "outputs": [
    {
     "name": "stdout",
     "output_type": "stream",
     "text": [
      "    col  idx        size  price  fees  side\n",
      "0     0    2   33.333333    3.0   0.0     0\n",
      "1     0    3   33.333333    4.0   0.0     1\n",
      "2     0    4   26.666667    5.0   0.0     0\n",
      "3     0    6   26.666667    7.0   0.0     1\n",
      "4     1    2   14.285714    7.0   0.0     0\n",
      "5     1    3   14.285714    6.0   0.0     1\n",
      "6     1    4   17.142857    5.0   0.0     0\n",
      "7     1    5   17.142857    4.0   0.0     1\n",
      "8     2    0  100.000000    1.0   0.0     0\n",
      "9     2    1  100.000000    2.0   0.0     1\n",
      "10    2    6  200.000000    1.0   0.0     0\n",
      "11    3    2   50.000000    2.0   0.0     0\n",
      "12    3    4   50.000000    2.0   0.0     1\n",
      "13    3    6   25.000000    4.0   0.0     0\n",
      "                    a          b      c     d\n",
      "2020-01-01   0.000000   0.000000  100.0   0.0\n",
      "2020-01-02   0.000000   0.000000    0.0   0.0\n",
      "2020-01-03  33.333333  14.285714    0.0  50.0\n",
      "2020-01-04   0.000000   0.000000    0.0  50.0\n",
      "2020-01-05  26.666667  17.142857    0.0   0.0\n",
      "2020-01-06  26.666667   0.000000    0.0   0.0\n",
      "2020-01-07   0.000000   0.000000  200.0  25.0\n",
      "                     a           b      c      d\n",
      "2020-01-01  100.000000  100.000000    0.0  100.0\n",
      "2020-01-02  100.000000  100.000000  200.0  100.0\n",
      "2020-01-03    0.000000    0.000000  200.0    0.0\n",
      "2020-01-04  133.333333   85.714286  200.0    0.0\n",
      "2020-01-05    0.000000    0.000000  200.0  100.0\n",
      "2020-01-06    0.000000   68.571429  200.0  100.0\n",
      "2020-01-07  186.666667   68.571429    0.0    0.0\n",
      "65.4 ms ± 5.94 ms per loop (mean ± std. dev. of 7 runs, 1 loop each)\n"
     ]
    }
   ],
   "source": [
    "portfolio = vbt.Portfolio.from_signals(price, entries, exits, size=np.inf) # all in/out\n",
    "print(portfolio.orders.records)\n",
    "print(portfolio.shares)\n",
    "print(portfolio.cash)\n",
    "\n",
    "%timeit vbt.Portfolio.from_signals(big_price, big_entries, big_exits, size=np.inf)"
   ]
  },
  {
   "cell_type": "code",
   "execution_count": 12,
   "metadata": {},
   "outputs": [
    {
     "name": "stdout",
     "output_type": "stream",
     "text": [
      "    col  idx  size  price  fees  side\n",
      "0     0    2   1.0    3.0  0.03     0\n",
      "1     0    3   1.0    4.0  0.04     1\n",
      "2     0    4   1.0    5.0  0.05     0\n",
      "3     0    6   1.0    7.0  0.07     1\n",
      "4     1    2   1.0    7.0  0.07     0\n",
      "5     1    3   1.0    6.0  0.06     1\n",
      "6     1    4   1.0    5.0  0.05     0\n",
      "7     1    5   1.0    4.0  0.04     1\n",
      "8     2    0   1.0    1.0  0.01     0\n",
      "9     2    1   1.0    2.0  0.02     1\n",
      "10    2    6   1.0    1.0  0.01     0\n",
      "11    3    2   1.0    2.0  0.02     0\n",
      "12    3    4   1.0    2.0  0.02     1\n",
      "13    3    6   1.0    4.0  0.04     0\n",
      "              a    b    c    d\n",
      "2020-01-01  0.0  0.0  1.0  0.0\n",
      "2020-01-02  0.0  0.0  0.0  0.0\n",
      "2020-01-03  1.0  1.0  0.0  1.0\n",
      "2020-01-04  0.0  0.0  0.0  1.0\n",
      "2020-01-05  1.0  1.0  0.0  0.0\n",
      "2020-01-06  1.0  0.0  0.0  0.0\n",
      "2020-01-07  0.0  0.0  1.0  1.0\n",
      "                 a       b       c       d\n",
      "2020-01-01  100.00  100.00   98.99  100.00\n",
      "2020-01-02  100.00  100.00  100.97  100.00\n",
      "2020-01-03   96.97   92.93  100.97   97.98\n",
      "2020-01-04  100.93   98.87  100.97   97.98\n",
      "2020-01-05   95.88   93.82  100.97   99.96\n",
      "2020-01-06   95.88   97.78  100.97   99.96\n",
      "2020-01-07  102.81   97.78   99.96   95.92\n",
      "62.3 ms ± 3.8 ms per loop (mean ± std. dev. of 7 runs, 10 loops each)\n"
     ]
    }
   ],
   "source": [
    "portfolio = vbt.Portfolio.from_signals(price, entries, exits, size=1, fees=0.01) # w/ fees\n",
    "print(portfolio.orders.records)\n",
    "print(portfolio.shares)\n",
    "print(portfolio.cash)\n",
    "\n",
    "%timeit vbt.Portfolio.from_signals(big_price, big_entries, big_exits, size=1, fees=0.01)"
   ]
  },
  {
   "cell_type": "code",
   "execution_count": 13,
   "metadata": {},
   "outputs": [
    {
     "name": "stdout",
     "output_type": "stream",
     "text": [
      "    col  idx  size  price  fees  side\n",
      "0     0    2   1.0    3.0   1.0     0\n",
      "1     0    3   1.0    4.0   1.0     1\n",
      "2     0    4   1.0    5.0   1.0     0\n",
      "3     0    6   1.0    7.0   1.0     1\n",
      "4     1    2   1.0    7.0   1.0     0\n",
      "5     1    3   1.0    6.0   1.0     1\n",
      "6     1    4   1.0    5.0   1.0     0\n",
      "7     1    5   1.0    4.0   1.0     1\n",
      "8     2    0   1.0    1.0   1.0     0\n",
      "9     2    1   1.0    2.0   1.0     1\n",
      "10    2    6   1.0    1.0   1.0     0\n",
      "11    3    2   1.0    2.0   1.0     0\n",
      "12    3    4   1.0    2.0   1.0     1\n",
      "13    3    6   1.0    4.0   1.0     0\n",
      "              a    b    c    d\n",
      "2020-01-01  0.0  0.0  1.0  0.0\n",
      "2020-01-02  0.0  0.0  0.0  0.0\n",
      "2020-01-03  1.0  1.0  0.0  1.0\n",
      "2020-01-04  0.0  0.0  0.0  1.0\n",
      "2020-01-05  1.0  1.0  0.0  0.0\n",
      "2020-01-06  1.0  0.0  0.0  0.0\n",
      "2020-01-07  0.0  0.0  1.0  1.0\n",
      "                a      b     c      d\n",
      "2020-01-01  100.0  100.0  98.0  100.0\n",
      "2020-01-02  100.0  100.0  99.0  100.0\n",
      "2020-01-03   96.0   92.0  99.0   97.0\n",
      "2020-01-04   99.0   97.0  99.0   97.0\n",
      "2020-01-05   93.0   91.0  99.0   98.0\n",
      "2020-01-06   93.0   94.0  99.0   98.0\n",
      "2020-01-07   99.0   94.0  97.0   93.0\n",
      "67.7 ms ± 11.1 ms per loop (mean ± std. dev. of 7 runs, 1 loop each)\n"
     ]
    }
   ],
   "source": [
    "portfolio = vbt.Portfolio.from_signals(price, entries, exits, size=1, fixed_fees=1) # w/ fixed fees\n",
    "print(portfolio.orders.records)\n",
    "print(portfolio.shares)\n",
    "print(portfolio.cash)\n",
    "\n",
    "%timeit vbt.Portfolio.from_signals(big_price, big_entries, big_exits, size=1, fixed_fees=1)"
   ]
  },
  {
   "cell_type": "code",
   "execution_count": 14,
   "metadata": {},
   "outputs": [
    {
     "name": "stdout",
     "output_type": "stream",
     "text": [
      "    col  idx  size  price  fees  side\n",
      "0     0    2   1.0   3.03   0.0     0\n",
      "1     0    3   1.0   3.96   0.0     1\n",
      "2     0    4   1.0   5.05   0.0     0\n",
      "3     0    6   1.0   6.93   0.0     1\n",
      "4     1    2   1.0   7.07   0.0     0\n",
      "5     1    3   1.0   5.94   0.0     1\n",
      "6     1    4   1.0   5.05   0.0     0\n",
      "7     1    5   1.0   3.96   0.0     1\n",
      "8     2    0   1.0   1.01   0.0     0\n",
      "9     2    1   1.0   1.98   0.0     1\n",
      "10    2    6   1.0   1.01   0.0     0\n",
      "11    3    2   1.0   2.02   0.0     0\n",
      "12    3    4   1.0   1.98   0.0     1\n",
      "13    3    6   1.0   4.04   0.0     0\n",
      "              a    b    c    d\n",
      "2020-01-01  0.0  0.0  1.0  0.0\n",
      "2020-01-02  0.0  0.0  0.0  0.0\n",
      "2020-01-03  1.0  1.0  0.0  1.0\n",
      "2020-01-04  0.0  0.0  0.0  1.0\n",
      "2020-01-05  1.0  1.0  0.0  0.0\n",
      "2020-01-06  1.0  0.0  0.0  0.0\n",
      "2020-01-07  0.0  0.0  1.0  1.0\n",
      "                 a       b       c       d\n",
      "2020-01-01  100.00  100.00   98.99  100.00\n",
      "2020-01-02  100.00  100.00  100.97  100.00\n",
      "2020-01-03   96.97   92.93  100.97   97.98\n",
      "2020-01-04  100.93   98.87  100.97   97.98\n",
      "2020-01-05   95.88   93.82  100.97   99.96\n",
      "2020-01-06   95.88   97.78  100.97   99.96\n",
      "2020-01-07  102.81   97.78   99.96   95.92\n",
      "65.9 ms ± 3.47 ms per loop (mean ± std. dev. of 7 runs, 10 loops each)\n"
     ]
    }
   ],
   "source": [
    "portfolio = vbt.Portfolio.from_signals(price, entries, exits, size=1, slippage=0.01) # w/ slippage\n",
    "print(portfolio.orders.records)\n",
    "print(portfolio.shares)\n",
    "print(portfolio.cash)\n",
    "\n",
    "%timeit vbt.Portfolio.from_signals(big_price, big_entries, big_exits, size=1, slippage=0.01)"
   ]
  },
  {
   "cell_type": "markdown",
   "metadata": {},
   "source": [
    "## from_orders"
   ]
  },
  {
   "cell_type": "code",
   "execution_count": 15,
   "metadata": {},
   "outputs": [],
   "source": [
    "order_size = pd.DataFrame.vbt.tseries.empty_like(price, 1) # buy 1 share every day\n",
    "big_order_size = pd.DataFrame.vbt.tseries.empty_like(big_price, 1)"
   ]
  },
  {
   "cell_type": "code",
   "execution_count": 16,
   "metadata": {},
   "outputs": [
    {
     "name": "stdout",
     "output_type": "stream",
     "text": [
      "   col  idx  size  price  fees  side\n",
      "0    0    0   1.0    1.0   0.0     0\n",
      "1    0    1   1.0    2.0   0.0     0\n",
      "2    0    2   1.0    3.0   0.0     0\n",
      "3    0    3   1.0    4.0   0.0     0\n",
      "4    0    4   1.0    5.0   0.0     0\n",
      "5    0    5   1.0    6.0   0.0     0\n",
      "6    0    6   1.0    7.0   0.0     0\n",
      "2020-01-01    1.0\n",
      "2020-01-02    2.0\n",
      "2020-01-03    3.0\n",
      "2020-01-04    4.0\n",
      "2020-01-05    5.0\n",
      "2020-01-06    6.0\n",
      "2020-01-07    7.0\n",
      "Name: a, dtype: float64\n",
      "2020-01-01    99.0\n",
      "2020-01-02    97.0\n",
      "2020-01-03    94.0\n",
      "2020-01-04    90.0\n",
      "2020-01-05    85.0\n",
      "2020-01-06    79.0\n",
      "2020-01-07    72.0\n",
      "Name: a, dtype: float64\n",
      "9.61 ms ± 711 µs per loop (mean ± std. dev. of 7 runs, 1 loop each)\n"
     ]
    }
   ],
   "source": [
    "portfolio = vbt.Portfolio.from_orders(price['a'], order_size['a'])\n",
    "print(portfolio.orders.records)\n",
    "print(portfolio.shares)\n",
    "print(portfolio.cash)\n",
    "\n",
    "%timeit vbt.Portfolio.from_orders(big_price.iloc[:, 0], big_order_size.iloc[:, 0])"
   ]
  },
  {
   "cell_type": "code",
   "execution_count": 17,
   "metadata": {},
   "outputs": [
    {
     "name": "stdout",
     "output_type": "stream",
     "text": [
      "    col  idx  size  price  fees  side\n",
      "0     0    0   1.0    1.0   0.0     0\n",
      "1     0    1   1.0    2.0   0.0     0\n",
      "2     0    2   1.0    3.0   0.0     0\n",
      "3     0    3   1.0    4.0   0.0     0\n",
      "4     0    4   1.0    5.0   0.0     0\n",
      "5     0    5   1.0    6.0   0.0     0\n",
      "6     0    6   1.0    7.0   0.0     0\n",
      "7     1    0   1.0    9.0   0.0     0\n",
      "8     1    1   1.0    8.0   0.0     0\n",
      "9     1    2   1.0    7.0   0.0     0\n",
      "10    1    3   1.0    6.0   0.0     0\n",
      "11    1    4   1.0    5.0   0.0     0\n",
      "12    1    5   1.0    4.0   0.0     0\n",
      "13    1    6   1.0    3.0   0.0     0\n",
      "14    2    0   1.0    1.0   0.0     0\n",
      "15    2    1   1.0    2.0   0.0     0\n",
      "16    2    2   1.0    3.0   0.0     0\n",
      "17    2    3   1.0    4.0   0.0     0\n",
      "18    2    4   1.0    3.0   0.0     0\n",
      "19    2    5   1.0    2.0   0.0     0\n",
      "20    2    6   1.0    1.0   0.0     0\n",
      "21    3    0   1.0    4.0   0.0     0\n",
      "22    3    1   1.0    3.0   0.0     0\n",
      "23    3    2   1.0    2.0   0.0     0\n",
      "24    3    3   1.0    1.0   0.0     0\n",
      "25    3    4   1.0    2.0   0.0     0\n",
      "26    3    5   1.0    3.0   0.0     0\n",
      "27    3    6   1.0    4.0   0.0     0\n",
      "              a    b    c    d\n",
      "2020-01-01  1.0  1.0  1.0  1.0\n",
      "2020-01-02  2.0  2.0  2.0  2.0\n",
      "2020-01-03  3.0  3.0  3.0  3.0\n",
      "2020-01-04  4.0  4.0  4.0  4.0\n",
      "2020-01-05  5.0  5.0  5.0  5.0\n",
      "2020-01-06  6.0  6.0  6.0  6.0\n",
      "2020-01-07  7.0  7.0  7.0  7.0\n",
      "               a     b     c     d\n",
      "2020-01-01  99.0  91.0  99.0  96.0\n",
      "2020-01-02  97.0  83.0  97.0  93.0\n",
      "2020-01-03  94.0  76.0  94.0  91.0\n",
      "2020-01-04  90.0  70.0  90.0  90.0\n",
      "2020-01-05  85.0  65.0  87.0  88.0\n",
      "2020-01-06  79.0  61.0  85.0  85.0\n",
      "2020-01-07  72.0  58.0  84.0  81.0\n",
      "77.9 ms ± 11 ms per loop (mean ± std. dev. of 7 runs, 1 loop each)\n"
     ]
    }
   ],
   "source": [
    "portfolio = vbt.Portfolio.from_orders(price, order_size)\n",
    "print(portfolio.orders.records)\n",
    "print(portfolio.shares)\n",
    "print(portfolio.cash)\n",
    "\n",
    "%timeit vbt.Portfolio.from_orders(big_price, big_order_size)"
   ]
  },
  {
   "cell_type": "code",
   "execution_count": 18,
   "metadata": {},
   "outputs": [
    {
     "name": "stdout",
     "output_type": "stream",
     "text": [
      "   col  idx  size  price  fees  side\n",
      "0    0    0   1.0    1.0   0.0     0\n",
      "1    1    0   1.0    9.0   0.0     0\n",
      "2    2    0   1.0    1.0   0.0     0\n",
      "3    3    0   1.0    4.0   0.0     0\n",
      "              a    b    c    d\n",
      "2020-01-01  1.0  1.0  1.0  1.0\n",
      "2020-01-02  1.0  1.0  1.0  1.0\n",
      "2020-01-03  1.0  1.0  1.0  1.0\n",
      "2020-01-04  1.0  1.0  1.0  1.0\n",
      "2020-01-05  1.0  1.0  1.0  1.0\n",
      "2020-01-06  1.0  1.0  1.0  1.0\n",
      "2020-01-07  1.0  1.0  1.0  1.0\n",
      "               a     b     c     d\n",
      "2020-01-01  99.0  91.0  99.0  96.0\n",
      "2020-01-02  99.0  91.0  99.0  96.0\n",
      "2020-01-03  99.0  91.0  99.0  96.0\n",
      "2020-01-04  99.0  91.0  99.0  96.0\n",
      "2020-01-05  99.0  91.0  99.0  96.0\n",
      "2020-01-06  99.0  91.0  99.0  96.0\n",
      "2020-01-07  99.0  91.0  99.0  96.0\n",
      "56.6 ms ± 1.64 ms per loop (mean ± std. dev. of 7 runs, 10 loops each)\n"
     ]
    }
   ],
   "source": [
    "portfolio = vbt.Portfolio.from_orders(price, order_size, is_target=True) # target size\n",
    "print(portfolio.orders.records)\n",
    "print(portfolio.shares)\n",
    "print(portfolio.cash)\n",
    "\n",
    "%timeit vbt.Portfolio.from_orders(big_price, big_order_size, is_target=True)"
   ]
  },
  {
   "cell_type": "markdown",
   "metadata": {},
   "source": [
    "## from_order_func"
   ]
  },
  {
   "cell_type": "code",
   "execution_count": 19,
   "metadata": {},
   "outputs": [
    {
     "name": "stdout",
     "output_type": "stream",
     "text": [
      "   col  idx  size  price    fees  side\n",
      "0    0    1   1.0   2.02  1.0202     0\n",
      "1    0    2   1.0   2.97  1.0297     1\n",
      "2    0    3   3.0   4.04  1.1212     0\n",
      "3    0    4   3.0   4.95  1.1485     1\n",
      "4    0    5   5.0   6.06  1.3030     0\n",
      "5    0    6   5.0   6.93  1.3465     1\n",
      "2020-01-01    0.0\n",
      "2020-01-02    1.0\n",
      "2020-01-03    0.0\n",
      "2020-01-04    3.0\n",
      "2020-01-05    0.0\n",
      "2020-01-06    5.0\n",
      "2020-01-07    0.0\n",
      "Name: a, dtype: float64\n",
      "2020-01-01    100.0000\n",
      "2020-01-02     96.9598\n",
      "2020-01-03     98.9001\n",
      "2020-01-04     85.6589\n",
      "2020-01-05     99.3604\n",
      "2020-01-06     67.7574\n",
      "2020-01-07    101.0609\n",
      "Name: a, dtype: float64\n",
      "6 ms ± 425 µs per loop (mean ± std. dev. of 7 runs, 1 loop each)\n"
     ]
    }
   ],
   "source": [
    "fees = 0.01\n",
    "fixed_fees = 1\n",
    "slippage = 0.01\n",
    "\n",
    "@njit\n",
    "def order_func_nb(col, i, run_cash, run_shares, price):\n",
    "    return vbt.portfolio.nb.Order(-i if i % 2 == 0 else i, price[i, col], fees, fixed_fees, slippage)\n",
    "\n",
    "portfolio = vbt.Portfolio.from_order_func(price['a'], order_func_nb, price.values)\n",
    "print(portfolio.orders.records)\n",
    "print(portfolio.shares)\n",
    "print(portfolio.cash)\n",
    "\n",
    "%timeit vbt.Portfolio.from_order_func(big_price.iloc[:, 0], order_func_nb, big_price.values)"
   ]
  },
  {
   "cell_type": "code",
   "execution_count": 20,
   "metadata": {},
   "outputs": [
    {
     "name": "stdout",
     "output_type": "stream",
     "text": [
      "    col  idx  size  price    fees  side\n",
      "0     0    1   1.0   2.02  1.0202     0\n",
      "1     0    2   1.0   2.97  1.0297     1\n",
      "2     0    3   3.0   4.04  1.1212     0\n",
      "3     0    4   3.0   4.95  1.1485     1\n",
      "4     0    5   5.0   6.06  1.3030     0\n",
      "5     0    6   5.0   6.93  1.3465     1\n",
      "6     1    1   1.0   8.08  1.0808     0\n",
      "7     1    2   1.0   6.93  1.0693     1\n",
      "8     1    3   3.0   6.06  1.1818     0\n",
      "9     1    4   3.0   4.95  1.1485     1\n",
      "10    1    5   5.0   4.04  1.2020     0\n",
      "11    1    6   5.0   2.97  1.1485     1\n",
      "12    2    1   1.0   2.02  1.0202     0\n",
      "13    2    2   1.0   2.97  1.0297     1\n",
      "14    2    3   3.0   4.04  1.1212     0\n",
      "15    2    4   3.0   2.97  1.0891     1\n",
      "16    2    5   5.0   2.02  1.1010     0\n",
      "17    2    6   5.0   0.99  1.0495     1\n",
      "18    3    1   1.0   3.03  1.0303     0\n",
      "19    3    2   1.0   1.98  1.0198     1\n",
      "20    3    3   3.0   1.01  1.0303     0\n",
      "21    3    4   3.0   1.98  1.0594     1\n",
      "22    3    5   5.0   3.03  1.1515     0\n",
      "23    3    6   5.0   3.96  1.1980     1\n",
      "              a    b    c    d\n",
      "2020-01-01  0.0  0.0  0.0  0.0\n",
      "2020-01-02  1.0  1.0  1.0  1.0\n",
      "2020-01-03  0.0  0.0  0.0  0.0\n",
      "2020-01-04  3.0  3.0  3.0  3.0\n",
      "2020-01-05  0.0  0.0  0.0  0.0\n",
      "2020-01-06  5.0  5.0  5.0  5.0\n",
      "2020-01-07  0.0  0.0  0.0  0.0\n",
      "                   a         b         c         d\n",
      "2020-01-01  100.0000  100.0000  100.0000  100.0000\n",
      "2020-01-02   96.9598   90.8392   96.9598   95.9397\n",
      "2020-01-03   98.9001   96.6999   98.9001   96.8999\n",
      "2020-01-04   85.6589   77.3381   85.6589   92.8396\n",
      "2020-01-05   99.3604   91.0396   93.4798   97.7202\n",
      "2020-01-06   67.7574   69.6376   82.2788   81.4187\n",
      "2020-01-07  101.0609   83.3391   86.1793  100.0207\n",
      "34.5 ms ± 2.62 ms per loop (mean ± std. dev. of 7 runs, 1 loop each)\n"
     ]
    }
   ],
   "source": [
    "portfolio = vbt.Portfolio.from_order_func(price, order_func_nb, price.values)\n",
    "print(portfolio.orders.records)\n",
    "print(portfolio.shares)\n",
    "print(portfolio.cash)\n",
    "\n",
    "%timeit vbt.Portfolio.from_order_func(big_price, order_func_nb, big_price.values)"
   ]
  },
  {
   "cell_type": "markdown",
   "metadata": {},
   "source": [
    "## Indexing"
   ]
  },
  {
   "cell_type": "code",
   "execution_count": 21,
   "metadata": {},
   "outputs": [
    {
     "name": "stdout",
     "output_type": "stream",
     "text": [
      "(7, 4)\n",
      "(1000, 1000)\n"
     ]
    }
   ],
   "source": [
    "levy_alpha = 3.\n",
    "risk_free = 0.01\n",
    "required_return = 0.1\n",
    "cutoff = 0.05\n",
    "factor_returns = price['a'] * 0.9\n",
    "big_factor_returns = big_price[0] * 0.9\n",
    "\n",
    "portfolio = vbt.Portfolio.from_signals(\n",
    "    price, entries, exits, fees=0.01, freq='1 day', year_freq='252 days',\n",
    "    levy_alpha=levy_alpha, risk_free=risk_free, required_return=required_return, \n",
    "    cutoff=cutoff, factor_returns=factor_returns)\n",
    "print(portfolio.main_price.shape)\n",
    "\n",
    "big_portfolio = vbt.Portfolio.from_signals(\n",
    "    big_price, big_entries, big_exits, fees=0.01, freq='1 day', year_freq='252 days',\n",
    "    levy_alpha=levy_alpha, risk_free=risk_free, required_return=required_return, \n",
    "    cutoff=cutoff, factor_returns=big_factor_returns)\n",
    "print(big_portfolio.main_price.shape)"
   ]
  },
  {
   "cell_type": "code",
   "execution_count": 22,
   "metadata": {},
   "outputs": [
    {
     "name": "stdout",
     "output_type": "stream",
     "text": [
      "              a    b    c    d\n",
      "2020-01-01  1.0  9.0  1.0  4.0\n",
      "2020-01-02  2.0  8.0  2.0  3.0\n",
      "2020-01-03  3.0  7.0  3.0  2.0\n",
      "2020-01-04  4.0  6.0  4.0  1.0\n",
      "2020-01-05  5.0  5.0  3.0  2.0\n",
      "2020-01-06  6.0  4.0  2.0  3.0\n",
      "2020-01-07  7.0  3.0  1.0  4.0\n",
      "a    100\n",
      "b    100\n",
      "c    100\n",
      "d    100\n",
      "dtype: int64\n",
      "    col  idx        size  price      fees  side\n",
      "0     0    2   33.003300    3.0  0.990099     0\n",
      "1     0    3   33.003300    4.0  1.320132     1\n",
      "2     0    4   25.879816    5.0  1.293991     0\n",
      "3     0    6   25.879816    7.0  1.811587     1\n",
      "4     1    2   14.144272    7.0  0.990099     0\n",
      "5     1    3   14.144272    6.0  0.848656     1\n",
      "6     1    4   16.637024    5.0  0.831851     0\n",
      "7     1    5   16.637024    4.0  0.665481     1\n",
      "8     2    0   99.009901    1.0  0.990099     0\n",
      "9     2    1   99.009901    2.0  1.980198     1\n",
      "10    2    6  194.098618    1.0  1.940986     0\n",
      "11    3    2   49.504950    2.0  0.990099     0\n",
      "12    3    4   49.504950    2.0  0.990099     1\n",
      "13    3    6   24.262327    4.0  0.970493     0\n",
      "                     a           b           c           d\n",
      "2020-01-01  100.000000  100.000000    0.000000  100.000000\n",
      "2020-01-02  100.000000  100.000000  196.039604  100.000000\n",
      "2020-01-03    0.000000    0.000000  196.039604    0.000000\n",
      "2020-01-04  130.693069   84.016973  196.039604    0.000000\n",
      "2020-01-05    0.000000    0.000000  196.039604   98.019802\n",
      "2020-01-06    0.000000   65.882617  196.039604   98.019802\n",
      "2020-01-07  179.347123   65.882617    0.000000    0.000000\n",
      "                    a          b           c          d\n",
      "2020-01-01   0.000000   0.000000   99.009901   0.000000\n",
      "2020-01-02   0.000000   0.000000    0.000000   0.000000\n",
      "2020-01-03  33.003300  14.144272    0.000000  49.504950\n",
      "2020-01-04   0.000000   0.000000    0.000000  49.504950\n",
      "2020-01-05  25.879816  16.637024    0.000000   0.000000\n",
      "2020-01-06  25.879816   0.000000    0.000000   0.000000\n",
      "2020-01-07   0.000000   0.000000  194.098618  24.262327\n",
      "1 days 00:00:00\n",
      "252 days 00:00:00\n",
      "3.0\n",
      "0.01\n",
      "0.1\n",
      "0.05\n",
      "2020-01-01    0.9\n",
      "2020-01-02    1.8\n",
      "2020-01-03    2.7\n",
      "2020-01-04    3.6\n",
      "2020-01-05    4.5\n",
      "2020-01-06    5.4\n",
      "2020-01-07    6.3\n",
      "Name: a, dtype: float64\n"
     ]
    }
   ],
   "source": [
    "print(portfolio.main_price)\n",
    "print(portfolio.init_capital)\n",
    "print(portfolio.orders.records)\n",
    "print(portfolio.cash)\n",
    "print(portfolio.shares)\n",
    "print(portfolio.freq)\n",
    "print(portfolio.year_freq)\n",
    "print(portfolio.levy_alpha)\n",
    "print(portfolio.risk_free)\n",
    "print(portfolio.required_return)\n",
    "print(portfolio.cutoff)\n",
    "print(portfolio.factor_returns)"
   ]
  },
  {
   "cell_type": "code",
   "execution_count": 23,
   "metadata": {},
   "outputs": [
    {
     "name": "stdout",
     "output_type": "stream",
     "text": [
      "2020-01-01    1.0\n",
      "2020-01-02    2.0\n",
      "2020-01-03    3.0\n",
      "2020-01-04    4.0\n",
      "2020-01-05    5.0\n",
      "2020-01-06    6.0\n",
      "2020-01-07    7.0\n",
      "Name: a, dtype: float64\n",
      "100\n",
      "   col  idx       size  price      fees  side\n",
      "0    0    2  33.003300    3.0  0.990099     0\n",
      "1    0    3  33.003300    4.0  1.320132     1\n",
      "2    0    4  25.879816    5.0  1.293991     0\n",
      "3    0    6  25.879816    7.0  1.811587     1\n",
      "2020-01-01    100.000000\n",
      "2020-01-02    100.000000\n",
      "2020-01-03      0.000000\n",
      "2020-01-04    130.693069\n",
      "2020-01-05      0.000000\n",
      "2020-01-06      0.000000\n",
      "2020-01-07    179.347123\n",
      "Name: a, dtype: float64\n",
      "2020-01-01     0.000000\n",
      "2020-01-02     0.000000\n",
      "2020-01-03    33.003300\n",
      "2020-01-04     0.000000\n",
      "2020-01-05    25.879816\n",
      "2020-01-06    25.879816\n",
      "2020-01-07     0.000000\n",
      "Name: a, dtype: float64\n",
      "1 days 00:00:00\n",
      "252 days 00:00:00\n",
      "3.0\n",
      "0.01\n",
      "0.1\n",
      "0.05\n",
      "2020-01-01    0.9\n",
      "2020-01-02    1.8\n",
      "2020-01-03    2.7\n",
      "2020-01-04    3.6\n",
      "2020-01-05    4.5\n",
      "2020-01-06    5.4\n",
      "2020-01-07    6.3\n",
      "Name: a, dtype: float64\n"
     ]
    }
   ],
   "source": [
    "print(portfolio['a'].main_price)\n",
    "print(portfolio['a'].init_capital)\n",
    "print(portfolio['a'].orders.records)\n",
    "print(portfolio['a'].cash)\n",
    "print(portfolio['a'].shares)\n",
    "print(portfolio['a'].freq)\n",
    "print(portfolio['a'].year_freq)\n",
    "print(portfolio['a'].levy_alpha)\n",
    "print(portfolio['a'].risk_free)\n",
    "print(portfolio['a'].required_return)\n",
    "print(portfolio['a'].cutoff)\n",
    "print(portfolio['a'].factor_returns)"
   ]
  },
  {
   "cell_type": "code",
   "execution_count": 24,
   "metadata": {},
   "outputs": [
    {
     "name": "stdout",
     "output_type": "stream",
     "text": [
      "2020-01-01    1.0\n",
      "2020-01-02    2.0\n",
      "2020-01-03    3.0\n",
      "2020-01-04    4.0\n",
      "2020-01-05    5.0\n",
      "2020-01-06    6.0\n",
      "2020-01-07    7.0\n",
      "Name: a, dtype: float64\n",
      "61.8 µs ± 1.99 µs per loop (mean ± std. dev. of 7 runs, 10000 loops each)\n",
      "2020-01-01    1.0\n",
      "2020-01-02    2.0\n",
      "2020-01-03    3.0\n",
      "2020-01-04    4.0\n",
      "2020-01-05    5.0\n",
      "2020-01-06    6.0\n",
      "2020-01-07    7.0\n",
      "Name: a, dtype: float64\n",
      "6.86 ms ± 142 µs per loop (mean ± std. dev. of 7 runs, 100 loops each)\n"
     ]
    }
   ],
   "source": [
    "print(portfolio.main_price.iloc[:, 0])\n",
    "%timeit big_portfolio.main_price.iloc[:, 0]\n",
    "\n",
    "print(portfolio.iloc[:, 0].main_price)\n",
    "%timeit big_portfolio.iloc[:, 0].main_price # slower since requires does much more processing"
   ]
  },
  {
   "cell_type": "code",
   "execution_count": 25,
   "metadata": {},
   "outputs": [
    {
     "name": "stdout",
     "output_type": "stream",
     "text": [
      "              a    b    c    d\n",
      "2020-01-01  1.0  9.0  1.0  4.0\n",
      "2020-01-02  2.0  8.0  2.0  3.0\n",
      "2020-01-03  3.0  7.0  3.0  2.0\n",
      "2020-01-04  4.0  6.0  4.0  1.0\n",
      "2020-01-05  5.0  5.0  3.0  2.0\n",
      "2020-01-06  6.0  4.0  2.0  3.0\n",
      "2020-01-07  7.0  3.0  1.0  4.0\n",
      "3.36 ms ± 64.2 µs per loop (mean ± std. dev. of 7 runs, 100 loops each)\n",
      "              a    b    c    d\n",
      "2020-01-01  1.0  9.0  1.0  4.0\n",
      "2020-01-02  2.0  8.0  2.0  3.0\n",
      "2020-01-03  3.0  7.0  3.0  2.0\n",
      "2020-01-04  4.0  6.0  4.0  1.0\n",
      "2020-01-05  5.0  5.0  3.0  2.0\n",
      "2020-01-06  6.0  4.0  2.0  3.0\n",
      "2020-01-07  7.0  3.0  1.0  4.0\n",
      "31.7 ms ± 967 µs per loop (mean ± std. dev. of 7 runs, 10 loops each)\n"
     ]
    }
   ],
   "source": [
    "print(portfolio.main_price.iloc[:, np.arange(portfolio.main_price.shape[1])])\n",
    "%timeit big_portfolio.main_price.iloc[:, np.arange(big_portfolio.main_price.shape[1])]\n",
    "\n",
    "print(portfolio.iloc[:, np.arange(portfolio.main_price.shape[1])].main_price)\n",
    "%timeit big_portfolio.iloc[:, np.arange(big_portfolio.main_price.shape[1])].main_price"
   ]
  },
  {
   "cell_type": "code",
   "execution_count": 26,
   "metadata": {},
   "outputs": [
    {
     "name": "stdout",
     "output_type": "stream",
     "text": [
      "   col  idx       size  price      fees  side\n",
      "0    0    2  33.003300    3.0  0.990099     0\n",
      "1    0    3  33.003300    4.0  1.320132     1\n",
      "2    0    4  25.879816    5.0  1.293991     0\n",
      "3    0    6  25.879816    7.0  1.811587     1\n",
      "2.85 ms ± 345 µs per loop (mean ± std. dev. of 7 runs, 100 loops each)\n"
     ]
    }
   ],
   "source": [
    "orders = portfolio.orders\n",
    "big_orders = big_portfolio.orders\n",
    "\n",
    "print(orders.iloc[:, 0].records)\n",
    "%timeit big_orders.iloc[:, 0].records"
   ]
  },
  {
   "cell_type": "code",
   "execution_count": 27,
   "metadata": {},
   "outputs": [
    {
     "name": "stdout",
     "output_type": "stream",
     "text": [
      "    col  idx        size  price      fees  side\n",
      "0     0    2   33.003300    3.0  0.990099     0\n",
      "1     0    3   33.003300    4.0  1.320132     1\n",
      "2     0    4   25.879816    5.0  1.293991     0\n",
      "3     0    6   25.879816    7.0  1.811587     1\n",
      "4     1    2   14.144272    7.0  0.990099     0\n",
      "5     1    3   14.144272    6.0  0.848656     1\n",
      "6     1    4   16.637024    5.0  0.831851     0\n",
      "7     1    5   16.637024    4.0  0.665481     1\n",
      "8     2    0   99.009901    1.0  0.990099     0\n",
      "9     2    1   99.009901    2.0  1.980198     1\n",
      "10    2    6  194.098618    1.0  1.940986     0\n",
      "11    3    2   49.504950    2.0  0.990099     0\n",
      "12    3    4   49.504950    2.0  0.990099     1\n",
      "13    3    6   24.262327    4.0  0.970493     0\n",
      "3.61 ms ± 115 µs per loop (mean ± std. dev. of 7 runs, 100 loops each)\n"
     ]
    }
   ],
   "source": [
    "print(orders.iloc[:, np.arange(portfolio.main_price.shape[1])].records)\n",
    "%timeit big_orders.iloc[:, np.arange(portfolio.main_price.shape[1])].records"
   ]
  },
  {
   "cell_type": "code",
   "execution_count": 28,
   "metadata": {},
   "outputs": [
    {
     "name": "stdout",
     "output_type": "stream",
     "text": [
      "1\n",
      "1\n"
     ]
    }
   ],
   "source": [
    "print(vbt.Portfolio.from_signals(price, entries, exits, levy_alpha=1)['a'].levy_alpha)\n",
    "print(vbt.Portfolio.from_signals(price, entries, exits, levy_alpha=np.arange(price.shape[1]))['b'].levy_alpha)"
   ]
  },
  {
   "cell_type": "code",
   "execution_count": 29,
   "metadata": {},
   "outputs": [
    {
     "name": "stdout",
     "output_type": "stream",
     "text": [
      "1\n",
      "2020-01-01    1.0\n",
      "2020-01-02    2.0\n",
      "2020-01-03    3.0\n",
      "2020-01-04    4.0\n",
      "2020-01-05    5.0\n",
      "2020-01-06    6.0\n",
      "2020-01-07    7.0\n",
      "Name: a, dtype: float64\n",
      "2020-01-01    1.0\n",
      "2020-01-02    2.0\n",
      "2020-01-03    3.0\n",
      "2020-01-04    4.0\n",
      "2020-01-05    5.0\n",
      "2020-01-06    6.0\n",
      "2020-01-07    7.0\n",
      "Name: a, dtype: float64\n"
     ]
    }
   ],
   "source": [
    "print(vbt.Portfolio.from_signals(price, entries, exits, factor_returns=1)['a'].factor_returns)\n",
    "print(vbt.Portfolio.from_signals(price, entries, exits, factor_returns=price['a'])['b'].factor_returns)\n",
    "print(vbt.Portfolio.from_signals(price, entries, exits, factor_returns=price)['a'].factor_returns)"
   ]
  },
  {
   "cell_type": "markdown",
   "metadata": {},
   "source": [
    "## Records"
   ]
  },
  {
   "cell_type": "code",
   "execution_count": 30,
   "metadata": {},
   "outputs": [
    {
     "name": "stdout",
     "output_type": "stream",
     "text": [
      "   col  idx       size  price      fees  side\n",
      "0    0    2  33.003300    3.0  0.990099     0\n",
      "1    0    3  33.003300    4.0  1.320132     1\n",
      "2    0    4  25.879816    5.0  1.293991     0\n",
      "3    0    6  25.879816    7.0  1.811587     1\n",
      "   col  idx       size  price      fees  side\n",
      "0    0    2  33.003300    3.0  0.990099     0\n",
      "1    0    3  33.003300    4.0  1.320132     1\n",
      "2    0    4  25.879816    5.0  1.293991     0\n",
      "3    0    6  25.879816    7.0  1.811587     1\n",
      "    col  idx        size  price      fees  side\n",
      "0     0    2   33.003300    3.0  0.990099     0\n",
      "1     0    3   33.003300    4.0  1.320132     1\n",
      "2     0    4   25.879816    5.0  1.293991     0\n",
      "3     0    6   25.879816    7.0  1.811587     1\n",
      "4     1    2   14.144272    7.0  0.990099     0\n",
      "5     1    3   14.144272    6.0  0.848656     1\n",
      "6     1    4   16.637024    5.0  0.831851     0\n",
      "7     1    5   16.637024    4.0  0.665481     1\n",
      "8     2    0   99.009901    1.0  0.990099     0\n",
      "9     2    1   99.009901    2.0  1.980198     1\n",
      "10    2    6  194.098618    1.0  1.940986     0\n",
      "11    3    2   49.504950    2.0  0.990099     0\n",
      "12    3    4   49.504950    2.0  0.990099     1\n",
      "13    3    6   24.262327    4.0  0.970493     0\n",
      "7.14 ms ± 140 µs per loop (mean ± std. dev. of 7 runs, 100 loops each)\n"
     ]
    }
   ],
   "source": [
    "print(portfolio['a'].orders.records)\n",
    "print(portfolio.orders['a'].records)\n",
    "print(portfolio.orders.records)\n",
    "\n",
    "%timeit big_portfolio.orders.records"
   ]
  },
  {
   "cell_type": "code",
   "execution_count": 31,
   "metadata": {},
   "outputs": [
    {
     "name": "stdout",
     "output_type": "stream",
     "text": [
      "   col  idx       size  open_idx  open_price  open_fees  close_idx  \\\n",
      "0    0    3  33.003300         2         3.0   0.990099          3   \n",
      "1    0    6  25.879816         4         5.0   1.293991          6   \n",
      "\n",
      "   close_price  close_fees        pnl    return  status  position_idx  \n",
      "0          4.0    1.320132  30.693069  0.306931       1             0  \n",
      "1          7.0    1.811587  48.654054  0.372277       1             1  \n",
      "   col  idx       size  open_idx  open_price  open_fees  close_idx  \\\n",
      "0    0    3  33.003300         2         3.0   0.990099          3   \n",
      "1    0    6  25.879816         4         5.0   1.293991          6   \n",
      "\n",
      "   close_price  close_fees        pnl    return  status  position_idx  \n",
      "0          4.0    1.320132  30.693069  0.306931       1             0  \n",
      "1          7.0    1.811587  48.654054  0.372277       1             1  \n",
      "   col  idx        size  open_idx  open_price  open_fees  close_idx  \\\n",
      "0    0    3   33.003300         2         3.0   0.990099          3   \n",
      "1    0    6   25.879816         4         5.0   1.293991          6   \n",
      "2    1    3   14.144272         2         7.0   0.990099          3   \n",
      "3    1    5   16.637024         4         5.0   0.831851          5   \n",
      "4    2    1   99.009901         0         1.0   0.990099          1   \n",
      "5    2    6  194.098618         6         1.0   1.940986          6   \n",
      "6    3    4   49.504950         2         2.0   0.990099          4   \n",
      "7    3    6   24.262327         6         4.0   0.970493          6   \n",
      "\n",
      "   close_price  close_fees        pnl    return  status  position_idx  \n",
      "0          4.0    1.320132  30.693069  0.306931       1             0  \n",
      "1          7.0    1.811587  48.654054  0.372277       1             1  \n",
      "2          6.0    0.848656 -15.983027 -0.159830       1             2  \n",
      "3          4.0    0.665481 -18.134357 -0.215842       1             3  \n",
      "4          2.0    1.980198  96.039604  0.960396       1             4  \n",
      "5          1.0    0.000000  -1.940986 -0.009901       0             5  \n",
      "6          2.0    0.990099  -1.980198 -0.019802       1             6  \n",
      "7          4.0    0.000000  -0.970493 -0.009901       0             7  \n",
      "23.3 ms ± 1.48 ms per loop (mean ± std. dev. of 7 runs, 10 loops each)\n"
     ]
    }
   ],
   "source": [
    "print(portfolio['a'].trades.records)\n",
    "print(portfolio.trades['a'].records)\n",
    "print(portfolio.trades.records)\n",
    "\n",
    "%timeit big_portfolio.trades.records"
   ]
  },
  {
   "cell_type": "code",
   "execution_count": 32,
   "metadata": {},
   "outputs": [
    {
     "name": "stdout",
     "output_type": "stream",
     "text": [
      "   col  idx       size  open_idx  open_price  open_fees  close_idx  \\\n",
      "0    0    3  33.003300         2         3.0   0.990099          3   \n",
      "1    0    6  25.879816         4         5.0   1.293991          6   \n",
      "\n",
      "   close_price  close_fees        pnl    return  status  \n",
      "0          4.0    1.320132  30.693069  0.306931       1  \n",
      "1          7.0    1.811587  48.654054  0.372277       1  \n",
      "   col  idx       size  open_idx  open_price  open_fees  close_idx  \\\n",
      "0    0    3  33.003300         2         3.0   0.990099          3   \n",
      "1    0    6  25.879816         4         5.0   1.293991          6   \n",
      "\n",
      "   close_price  close_fees        pnl    return  status  \n",
      "0          4.0    1.320132  30.693069  0.306931       1  \n",
      "1          7.0    1.811587  48.654054  0.372277       1  \n",
      "   col  idx        size  open_idx  open_price  open_fees  close_idx  \\\n",
      "0    0    3   33.003300         2         3.0   0.990099          3   \n",
      "1    0    6   25.879816         4         5.0   1.293991          6   \n",
      "2    1    3   14.144272         2         7.0   0.990099          3   \n",
      "3    1    5   16.637024         4         5.0   0.831851          5   \n",
      "4    2    1   99.009901         0         1.0   0.990099          1   \n",
      "5    2    6  194.098618         6         1.0   1.940986          6   \n",
      "6    3    4   49.504950         2         2.0   0.990099          4   \n",
      "7    3    6   24.262327         6         4.0   0.970493          6   \n",
      "\n",
      "   close_price  close_fees         pnl    return  status  \n",
      "0          4.0    1.320132   30.693069  0.306931       1  \n",
      "1          7.0    1.811587   48.654054  0.372277       1  \n",
      "2          6.0    0.848656  -15.983027 -0.159830       1  \n",
      "3          4.0    0.665481  -18.134357 -0.215842       1  \n",
      "4          2.0    1.980198   96.039604  0.960396       1  \n",
      "5          4.0    0.000000  580.354867  2.960396       0  \n",
      "6          2.0    0.990099   -1.980198 -0.019802       1  \n",
      "7          4.0    0.000000   -0.970493 -0.009901       0  \n",
      "16.8 ms ± 280 µs per loop (mean ± std. dev. of 7 runs, 100 loops each)\n"
     ]
    }
   ],
   "source": [
    "print(portfolio['a'].positions.records)\n",
    "print(portfolio.positions['a'].records)\n",
    "print(portfolio.positions.records)\n",
    "\n",
    "%timeit big_portfolio.positions.records"
   ]
  },
  {
   "cell_type": "markdown",
   "metadata": {},
   "source": [
    "## Equity"
   ]
  },
  {
   "cell_type": "code",
   "execution_count": 33,
   "metadata": {},
   "outputs": [
    {
     "name": "stdout",
     "output_type": "stream",
     "text": [
      "2020-01-01    100.000000\n",
      "2020-01-02    100.000000\n",
      "2020-01-03     99.009901\n",
      "2020-01-04    130.693069\n",
      "2020-01-05    129.399079\n",
      "2020-01-06    155.278894\n",
      "2020-01-07    179.347123\n",
      "Name: a, dtype: float64\n",
      "                     a           b           c           d\n",
      "2020-01-01  100.000000  100.000000   99.009901  100.000000\n",
      "2020-01-02  100.000000  100.000000  196.039604  100.000000\n",
      "2020-01-03   99.009901   99.009901  196.039604   99.009901\n",
      "2020-01-04  130.693069   84.016973  196.039604   49.504950\n",
      "2020-01-05  129.399079   83.185122  196.039604   98.019802\n",
      "2020-01-06  155.278894   65.882617  196.039604   98.019802\n",
      "2020-01-07  179.347123   65.882617  194.098618   97.049309\n",
      "7.97 ms ± 112 µs per loop (mean ± std. dev. of 7 runs, 100 loops each)\n"
     ]
    }
   ],
   "source": [
    "print(portfolio['a'].equity)\n",
    "print(portfolio.equity)\n",
    "\n",
    "%timeit big_portfolio.equity"
   ]
  },
  {
   "cell_type": "code",
   "execution_count": 34,
   "metadata": {},
   "outputs": [
    {
     "name": "stdout",
     "output_type": "stream",
     "text": [
      "179.347122831095\n",
      "a    179.347123\n",
      "b     65.882617\n",
      "c    194.098618\n",
      "d     97.049309\n",
      "dtype: float64\n",
      "12.7 ms ± 3.37 ms per loop (mean ± std. dev. of 7 runs, 100 loops each)\n"
     ]
    }
   ],
   "source": [
    "print(portfolio['a'].final_equity)\n",
    "print(portfolio.final_equity)\n",
    "\n",
    "%timeit big_portfolio.final_equity"
   ]
  },
  {
   "cell_type": "code",
   "execution_count": 35,
   "metadata": {},
   "outputs": [
    {
     "name": "stdout",
     "output_type": "stream",
     "text": [
      "179.347122831095\n",
      "a    179.347123\n",
      "b    100.000000\n",
      "c    196.039604\n",
      "d    100.000000\n",
      "dtype: float64\n",
      "29.2 ms ± 7.12 ms per loop (mean ± std. dev. of 7 runs, 10 loops each)\n"
     ]
    }
   ],
   "source": [
    "print(portfolio['a'].peak_equity)\n",
    "print(portfolio.peak_equity)\n",
    "\n",
    "%timeit big_portfolio.peak_equity"
   ]
  },
  {
   "cell_type": "code",
   "execution_count": 36,
   "metadata": {},
   "outputs": [
    {
     "name": "stdout",
     "output_type": "stream",
     "text": [
      "99.00990099009903\n",
      "a    99.009901\n",
      "b    65.882617\n",
      "c    99.009901\n",
      "d    49.504950\n",
      "dtype: float64\n",
      "23.6 ms ± 4.3 ms per loop (mean ± std. dev. of 7 runs, 10 loops each)\n"
     ]
    }
   ],
   "source": [
    "print(portfolio['a'].dip_equity)\n",
    "print(portfolio.dip_equity)\n",
    "\n",
    "%timeit big_portfolio.dip_equity"
   ]
  },
  {
   "cell_type": "code",
   "execution_count": 37,
   "metadata": {},
   "outputs": [
    {
     "name": "stdout",
     "output_type": "stream",
     "text": [
      "79.34712283109499\n",
      "a    79.347123\n",
      "b   -34.117383\n",
      "c    94.098618\n",
      "d    -2.950691\n",
      "dtype: float64\n",
      "10.6 ms ± 1e+03 µs per loop (mean ± std. dev. of 7 runs, 100 loops each)\n"
     ]
    }
   ],
   "source": [
    "print(portfolio['a'].total_profit)\n",
    "print(portfolio.total_profit)\n",
    "\n",
    "%timeit big_portfolio.total_profit"
   ]
  },
  {
   "cell_type": "markdown",
   "metadata": {},
   "source": [
    "## Drawdown"
   ]
  },
  {
   "cell_type": "code",
   "execution_count": 38,
   "metadata": {},
   "outputs": [
    {
     "name": "stdout",
     "output_type": "stream",
     "text": [
      "2020-01-01    0.000000\n",
      "2020-01-02    0.000000\n",
      "2020-01-03   -0.009901\n",
      "2020-01-04    0.000000\n",
      "2020-01-05   -0.009901\n",
      "2020-01-06    0.000000\n",
      "2020-01-07    0.000000\n",
      "Name: a, dtype: float64\n",
      "                   a         b         c         d\n",
      "2020-01-01  0.000000  0.000000  0.000000  0.000000\n",
      "2020-01-02  0.000000  0.000000  0.000000  0.000000\n",
      "2020-01-03 -0.009901 -0.009901  0.000000 -0.009901\n",
      "2020-01-04  0.000000 -0.159830  0.000000 -0.504950\n",
      "2020-01-05 -0.009901 -0.168149  0.000000 -0.019802\n",
      "2020-01-06  0.000000 -0.341174  0.000000 -0.019802\n",
      "2020-01-07  0.000000 -0.341174 -0.009901 -0.029507\n",
      "24.5 ms ± 1.56 ms per loop (mean ± std. dev. of 7 runs, 10 loops each)\n"
     ]
    }
   ],
   "source": [
    "print(portfolio['a'].drawdown)\n",
    "print(portfolio.drawdown)\n",
    "\n",
    "%timeit big_portfolio.drawdown"
   ]
  },
  {
   "cell_type": "code",
   "execution_count": 39,
   "metadata": {},
   "outputs": [
    {
     "name": "stdout",
     "output_type": "stream",
     "text": [
      "-0.00990099009901002\n",
      "a   -0.009901\n",
      "b   -0.341174\n",
      "c   -0.009901\n",
      "d   -0.504950\n",
      "dtype: float64\n",
      "28.3 ms ± 1.42 ms per loop (mean ± std. dev. of 7 runs, 10 loops each)\n"
     ]
    }
   ],
   "source": [
    "print(portfolio['a'].max_drawdown)\n",
    "print(portfolio.max_drawdown)\n",
    "\n",
    "%timeit big_portfolio.max_drawdown"
   ]
  },
  {
   "cell_type": "code",
   "execution_count": 40,
   "metadata": {},
   "outputs": [
    {
     "name": "stdout",
     "output_type": "stream",
     "text": [
      "   col  idx  start_idx  valley_idx  end_idx  status\n",
      "0    0    3          1           2        3       1\n",
      "1    0    5          3           4        5       1\n",
      "   col  idx  start_idx  valley_idx  end_idx  status\n",
      "0    0    3          1           2        3       1\n",
      "1    0    5          3           4        5       1\n",
      "   col  idx  start_idx  valley_idx  end_idx  status\n",
      "0    0    3          1           2        3       1\n",
      "1    0    5          3           4        5       1\n",
      "2    1    6          1           5        6       0\n",
      "3    2    6          5           6        6       0\n",
      "4    3    6          1           3        6       0\n",
      "17.8 ms ± 874 µs per loop (mean ± std. dev. of 7 runs, 100 loops each)\n"
     ]
    }
   ],
   "source": [
    "print(portfolio['a'].drawdowns.records)\n",
    "print(portfolio.drawdowns['a'].records)\n",
    "print(portfolio.drawdowns.records)\n",
    "\n",
    "%timeit big_portfolio.drawdowns.records"
   ]
  },
  {
   "cell_type": "markdown",
   "metadata": {},
   "source": [
    "## Returns"
   ]
  },
  {
   "cell_type": "code",
   "execution_count": 41,
   "metadata": {},
   "outputs": [
    {
     "name": "stdout",
     "output_type": "stream",
     "text": [
      "6.0\n",
      "a    6.000000\n",
      "b   -0.666667\n",
      "c    0.000000\n",
      "d    0.000000\n",
      "dtype: float64\n",
      "13.3 ms ± 279 µs per loop (mean ± std. dev. of 7 runs, 100 loops each)\n"
     ]
    }
   ],
   "source": [
    "print(portfolio['a'].buy_and_hold_return)\n",
    "print(portfolio.buy_and_hold_return)\n",
    "\n",
    "%timeit big_portfolio.buy_and_hold_return"
   ]
  },
  {
   "cell_type": "code",
   "execution_count": 42,
   "metadata": {},
   "outputs": [
    {
     "name": "stdout",
     "output_type": "stream",
     "text": [
      "2020-01-01    0.000000\n",
      "2020-01-02    0.000000\n",
      "2020-01-03   -0.009901\n",
      "2020-01-04    0.320000\n",
      "2020-01-05   -0.009901\n",
      "2020-01-06    0.200000\n",
      "2020-01-07    0.155000\n",
      "Name: a, dtype: float64\n",
      "                   a         b         c         d\n",
      "2020-01-01  0.000000  0.000000 -0.009901  0.000000\n",
      "2020-01-02  0.000000  0.000000  0.980000  0.000000\n",
      "2020-01-03 -0.009901 -0.009901  0.000000 -0.009901\n",
      "2020-01-04  0.320000 -0.151429  0.000000 -0.500000\n",
      "2020-01-05 -0.009901 -0.009901  0.000000  0.980000\n",
      "2020-01-06  0.200000 -0.208000  0.000000  0.000000\n",
      "2020-01-07  0.155000  0.000000 -0.009901 -0.009901\n",
      "356 ms ± 15.6 ms per loop (mean ± std. dev. of 7 runs, 1 loop each)\n",
      "18 ms ± 932 µs per loop (mean ± std. dev. of 7 runs, 100 loops each)\n"
     ]
    }
   ],
   "source": [
    "print(portfolio['a'].returns)\n",
    "print(portfolio.returns)\n",
    "\n",
    "%timeit big_portfolio.equity.pct_change()\n",
    "%timeit big_portfolio.returns # numba helps a lot"
   ]
  },
  {
   "cell_type": "code",
   "execution_count": 43,
   "metadata": {},
   "outputs": [
    {
     "name": "stdout",
     "output_type": "stream",
     "text": [
      "2020-01-01    0.000000\n",
      "2020-01-02    0.000000\n",
      "2020-01-03   -0.009901\n",
      "2020-01-04    0.320000\n",
      "2020-01-05   -0.009901\n",
      "2020-01-06    0.200000\n",
      "2020-01-07    0.155000\n",
      "Name: a, dtype: float64\n",
      "                   a         b         c         d\n",
      "2020-01-01  0.000000  0.000000 -0.009901  0.000000\n",
      "2020-01-02  0.000000  0.000000  0.980000  0.000000\n",
      "2020-01-03 -0.009901 -0.009901  0.000000 -0.009901\n",
      "2020-01-04  0.320000 -0.151429  0.000000 -0.500000\n",
      "2020-01-05 -0.009901 -0.009901  0.000000  0.980000\n",
      "2020-01-06  0.200000 -0.208000  0.000000  0.000000\n",
      "2020-01-07  0.155000  0.000000 -0.009901 -0.009901\n",
      "20.7 ms ± 4.36 ms per loop (mean ± std. dev. of 7 runs, 10 loops each)\n"
     ]
    }
   ],
   "source": [
    "print(portfolio['a'].daily_returns)\n",
    "print(portfolio.daily_returns)\n",
    "\n",
    "%timeit big_portfolio.daily_returns"
   ]
  },
  {
   "cell_type": "code",
   "execution_count": 44,
   "metadata": {},
   "outputs": [
    {
     "name": "stdout",
     "output_type": "stream",
     "text": [
      "2020-01-01    0.793471\n",
      "Freq: 252D, Name: a, dtype: float64\n",
      "                   a         b         c         d\n",
      "2020-01-01  0.793471 -0.341174  0.940986 -0.029507\n",
      "31.5 ms ± 2.48 ms per loop (mean ± std. dev. of 7 runs, 10 loops each)\n"
     ]
    }
   ],
   "source": [
    "print(portfolio['a'].annual_returns)\n",
    "print(portfolio.annual_returns)\n",
    "\n",
    "%timeit big_portfolio.annual_returns"
   ]
  },
  {
   "cell_type": "code",
   "execution_count": 45,
   "metadata": {},
   "outputs": [
    {
     "name": "stdout",
     "output_type": "stream",
     "text": [
      "2020-01-01    0.000000\n",
      "2020-01-02    0.000000\n",
      "2020-01-03   -0.009901\n",
      "2020-01-04    0.306931\n",
      "2020-01-05    0.293991\n",
      "2020-01-06    0.552789\n",
      "2020-01-07    0.793471\n",
      "Name: a, dtype: float64\n",
      "                   a         b         c         d\n",
      "2020-01-01  0.000000  0.000000 -0.009901  0.000000\n",
      "2020-01-02  0.000000  0.000000  0.960396  0.000000\n",
      "2020-01-03 -0.009901 -0.009901  0.960396 -0.009901\n",
      "2020-01-04  0.306931 -0.159830  0.960396 -0.504950\n",
      "2020-01-05  0.293991 -0.168149  0.960396 -0.019802\n",
      "2020-01-06  0.552789 -0.341174  0.960396 -0.019802\n",
      "2020-01-07  0.793471 -0.341174  0.940986 -0.029507\n",
      "35.5 ms ± 2.91 ms per loop (mean ± std. dev. of 7 runs, 10 loops each)\n"
     ]
    }
   ],
   "source": [
    "print(portfolio['a'].cumulative_returns)\n",
    "print(portfolio.cumulative_returns)\n",
    "\n",
    "%timeit big_portfolio.cumulative_returns"
   ]
  },
  {
   "cell_type": "code",
   "execution_count": 46,
   "metadata": {},
   "outputs": [
    {
     "name": "stdout",
     "output_type": "stream",
     "text": [
      "0.7934712283109495\n",
      "a    0.793471\n",
      "b   -0.341174\n",
      "c    0.940986\n",
      "d   -0.029507\n",
      "dtype: float64\n",
      "23.7 ms ± 1.81 ms per loop (mean ± std. dev. of 7 runs, 10 loops each)\n"
     ]
    }
   ],
   "source": [
    "print(portfolio['a'].total_return)\n",
    "print(portfolio.total_return)\n",
    "\n",
    "%timeit big_portfolio.total_return"
   ]
  },
  {
   "cell_type": "code",
   "execution_count": 47,
   "metadata": {},
   "outputs": [
    {
     "name": "stdout",
     "output_type": "stream",
     "text": [
      "1358310008.2882464\n",
      "1358310008.2882464\n",
      "a    1.358310e+09\n",
      "b   -9.999997e-01\n",
      "c    2.337803e+10\n",
      "d   -6.598049e-01\n",
      "dtype: float64\n",
      "23.4 ms ± 2.65 ms per loop (mean ± std. dev. of 7 runs, 10 loops each)\n"
     ]
    }
   ],
   "source": [
    "print(empyrical.annual_return(portfolio['a'].returns.values))\n",
    "\n",
    "print(portfolio['a'].annualized_return)\n",
    "print(portfolio.annualized_return)\n",
    "\n",
    "%timeit big_portfolio.annualized_return"
   ]
  },
  {
   "cell_type": "code",
   "execution_count": 48,
   "metadata": {},
   "outputs": [
    {
     "name": "stdout",
     "output_type": "stream",
     "text": [
      "0.8367476434836345\n",
      "0.8367476434836347\n",
      "a    0.836748\n",
      "b    0.552128\n",
      "c    2.347677\n",
      "d    2.801529\n",
      "dtype: float64\n",
      "26.6 ms ± 2.28 ms per loop (mean ± std. dev. of 7 runs, 10 loops each)\n"
     ]
    }
   ],
   "source": [
    "print(empyrical.annual_volatility(portfolio['a'].returns.values, alpha=levy_alpha))\n",
    "\n",
    "print(portfolio['a'].annualized_volatility)\n",
    "print(portfolio.annualized_volatility)\n",
    "\n",
    "%timeit big_portfolio.annualized_volatility"
   ]
  },
  {
   "cell_type": "code",
   "execution_count": 49,
   "metadata": {},
   "outputs": [
    {
     "name": "stdout",
     "output_type": "stream",
     "text": [
      "137189310837.11166\n",
      "137189310837.11122\n",
      "a    1.371893e+11\n",
      "b   -2.931056e+00\n",
      "c    2.361181e+12\n",
      "d   -1.306672e+00\n",
      "dtype: float64\n",
      "35.1 ms ± 1.65 ms per loop (mean ± std. dev. of 7 runs, 10 loops each)\n"
     ]
    }
   ],
   "source": [
    "print(empyrical.calmar_ratio(portfolio['a'].returns.values))\n",
    "\n",
    "print(portfolio['a'].calmar_ratio)\n",
    "print(portfolio.calmar_ratio)\n",
    "\n",
    "%timeit big_portfolio.calmar_ratio"
   ]
  },
  {
   "cell_type": "code",
   "execution_count": 50,
   "metadata": {},
   "outputs": [
    {
     "name": "stdout",
     "output_type": "stream",
     "text": [
      "10.500918435712794\n",
      "10.500918435712794\n",
      "a    10.500918\n",
      "b     0.000000\n",
      "c    11.814325\n",
      "d     1.665811\n",
      "dtype: float64\n",
      "30.6 ms ± 2.19 ms per loop (mean ± std. dev. of 7 runs, 10 loops each)\n"
     ]
    }
   ],
   "source": [
    "print(empyrical.omega_ratio(portfolio['a'].returns.values, risk_free=risk_free, required_return=required_return))\n",
    "\n",
    "print(portfolio['a'].omega_ratio)\n",
    "print(portfolio.omega_ratio)\n",
    "\n",
    "%timeit big_portfolio.omega_ratio"
   ]
  },
  {
   "cell_type": "code",
   "execution_count": 51,
   "metadata": {},
   "outputs": [
    {
     "name": "stdout",
     "output_type": "stream",
     "text": [
      "10.017916955773694\n",
      "10.017916955773693\n",
      "a    10.017917\n",
      "b   -11.654631\n",
      "c     5.431471\n",
      "d     1.995074\n",
      "dtype: float64\n",
      "28.1 ms ± 4.16 ms per loop (mean ± std. dev. of 7 runs, 10 loops each)\n"
     ]
    }
   ],
   "source": [
    "print(empyrical.sharpe_ratio(portfolio['a'].returns.values, risk_free=risk_free))\n",
    "\n",
    "print(portfolio['a'].sharpe_ratio)\n",
    "print(portfolio.sharpe_ratio)\n",
    "\n",
    "%timeit big_portfolio.sharpe_ratio"
   ]
  },
  {
   "cell_type": "code",
   "execution_count": 52,
   "metadata": {},
   "outputs": [
    {
     "name": "stdout",
     "output_type": "stream",
     "text": [
      "1.2608062456148732\n",
      "1.2608062456148732\n",
      "a    1.260806\n",
      "b    2.764150\n",
      "c    1.519747\n",
      "d    3.861299\n",
      "dtype: float64\n",
      "28.4 ms ± 2.3 ms per loop (mean ± std. dev. of 7 runs, 10 loops each)\n"
     ]
    }
   ],
   "source": [
    "print(empyrical.downside_risk(portfolio['a'].returns.values, required_return=required_return))\n",
    "\n",
    "print(portfolio['a'].downside_risk)\n",
    "print(portfolio.downside_risk)\n",
    "\n",
    "%timeit big_portfolio.downside_risk"
   ]
  },
  {
   "cell_type": "code",
   "execution_count": 53,
   "metadata": {},
   "outputs": [
    {
     "name": "stdout",
     "output_type": "stream",
     "text": [
      "-1.2792380214948547\n",
      "-1.2792380214948547\n",
      "a    -1.279238\n",
      "b   -14.055787\n",
      "c     6.163609\n",
      "d    -2.235743\n",
      "dtype: float64\n",
      "29.8 ms ± 2.15 ms per loop (mean ± std. dev. of 7 runs, 10 loops each)\n"
     ]
    }
   ],
   "source": [
    "print(empyrical.sortino_ratio(portfolio['a'].returns.values, required_return=required_return))\n",
    "\n",
    "print(portfolio['a'].sortino_ratio)\n",
    "print(portfolio.sortino_ratio)\n",
    "\n",
    "%timeit big_portfolio.sortino_ratio"
   ]
  },
  {
   "cell_type": "code",
   "execution_count": 54,
   "metadata": {},
   "outputs": [
    {
     "name": "stdout",
     "output_type": "stream",
     "text": [
      "-1.8641444566093555\n",
      "-1.8641444566093555\n",
      "a   -1.864144\n",
      "b   -1.847420\n",
      "c   -1.631279\n",
      "d   -1.840194\n",
      "dtype: float64\n",
      "28 ms ± 2.53 ms per loop (mean ± std. dev. of 7 runs, 10 loops each)\n"
     ]
    }
   ],
   "source": [
    "print(empyrical.excess_sharpe(portfolio['a'].returns.values, factor_returns))\n",
    "\n",
    "print(portfolio['a'].information_ratio)\n",
    "print(portfolio.information_ratio)\n",
    "\n",
    "%timeit big_portfolio.information_ratio"
   ]
  },
  {
   "cell_type": "code",
   "execution_count": 55,
   "metadata": {},
   "outputs": [
    {
     "name": "stdout",
     "output_type": "stream",
     "text": [
      "nan\n",
      "0.03432539682539679\n",
      "a    0.034325\n",
      "b   -0.016508\n",
      "c   -0.077778\n",
      "d    0.038103\n",
      "dtype: float64\n",
      "32.7 ms ± 2.18 ms per loop (mean ± std. dev. of 7 runs, 10 loops each)\n"
     ]
    }
   ],
   "source": [
    "print(empyrical.beta(portfolio['a'].returns.values, factor_returns))\n",
    "\n",
    "print(portfolio['a'].beta)\n",
    "print(portfolio.beta)\n",
    "\n",
    "%timeit big_portfolio.beta"
   ]
  },
  {
   "cell_type": "code",
   "execution_count": 56,
   "metadata": {},
   "outputs": [
    {
     "name": "stdout",
     "output_type": "stream",
     "text": [
      "nan\n",
      "-0.999962442278867\n",
      "a   -9.999624e-01\n",
      "b   -7.108907e-01\n",
      "c    2.103372e+37\n",
      "d   -1.000000e+00\n",
      "dtype: float64\n",
      "38.7 ms ± 4.55 ms per loop (mean ± std. dev. of 7 runs, 10 loops each)\n"
     ]
    }
   ],
   "source": [
    "print(empyrical.alpha(portfolio['a'].returns.values, factor_returns, risk_free=risk_free))\n",
    "\n",
    "print(portfolio['a'].alpha)\n",
    "print(portfolio.alpha)\n",
    "\n",
    "%timeit big_portfolio.alpha"
   ]
  },
  {
   "cell_type": "code",
   "execution_count": 57,
   "metadata": {},
   "outputs": [
    {
     "name": "stdout",
     "output_type": "stream",
     "text": [
      "28.68399999999992\n",
      "28.68399999999992\n",
      "a    28.684000\n",
      "b     0.000000\n",
      "c    69.286000\n",
      "d     1.943506\n",
      "dtype: float64\n",
      "66.2 ms ± 21 ms per loop (mean ± std. dev. of 7 runs, 10 loops each)\n"
     ]
    }
   ],
   "source": [
    "print(empyrical.tail_ratio(portfolio['a'].returns.values))\n",
    "\n",
    "print(portfolio['a'].tail_ratio)\n",
    "print(portfolio.tail_ratio)\n",
    "\n",
    "%timeit big_portfolio.tail_ratio"
   ]
  },
  {
   "cell_type": "code",
   "execution_count": 58,
   "metadata": {},
   "outputs": [
    {
     "name": "stdout",
     "output_type": "stream",
     "text": [
      "-0.009900990099009938\n",
      "-0.00990099009900992\n",
      "a   -0.009901\n",
      "b   -0.191029\n",
      "c   -0.009901\n",
      "d   -0.352970\n",
      "dtype: float64\n",
      "45.9 ms ± 6 ms per loop (mean ± std. dev. of 7 runs, 10 loops each)\n"
     ]
    }
   ],
   "source": [
    "print(empyrical.value_at_risk(portfolio['a'].returns.values[1:], cutoff=cutoff))\n",
    "\n",
    "print(portfolio['a'].value_at_risk)\n",
    "print(portfolio.value_at_risk)\n",
    "\n",
    "%timeit big_portfolio.value_at_risk"
   ]
  },
  {
   "cell_type": "code",
   "execution_count": 59,
   "metadata": {},
   "outputs": [
    {
     "name": "stdout",
     "output_type": "stream",
     "text": [
      "-0.00990099009901002\n",
      "-0.00990099009901002\n",
      "a   -0.009901\n",
      "b   -0.208000\n",
      "c   -0.009901\n",
      "d   -0.500000\n",
      "dtype: float64\n",
      "58.4 ms ± 27.9 ms per loop (mean ± std. dev. of 7 runs, 10 loops each)\n"
     ]
    }
   ],
   "source": [
    "print(empyrical.conditional_value_at_risk(portfolio['a'].returns.values, cutoff=cutoff))\n",
    "\n",
    "print(portfolio['a'].conditional_value_at_risk)\n",
    "print(portfolio.conditional_value_at_risk)\n",
    "\n",
    "%timeit big_portfolio.conditional_value_at_risk"
   ]
  },
  {
   "cell_type": "code",
   "execution_count": 60,
   "metadata": {},
   "outputs": [
    {
     "name": "stdout",
     "output_type": "stream",
     "text": [
      "8.52073937232888e-149\n",
      "8.52073937232888e-149\n",
      "a    8.520739e-149\n",
      "b   -6.273043e-158\n",
      "c    1.466514e-147\n",
      "d   -4.138985e-158\n",
      "dtype: float64\n",
      "33.2 ms ± 16 ms per loop (mean ± std. dev. of 7 runs, 10 loops each)\n"
     ]
    }
   ],
   "source": [
    "print(empyrical.capture(portfolio['a'].returns.values, factor_returns))\n",
    "\n",
    "print(portfolio['a'].capture)\n",
    "print(portfolio.capture)\n",
    "\n",
    "%timeit big_portfolio.capture"
   ]
  },
  {
   "cell_type": "code",
   "execution_count": 61,
   "metadata": {},
   "outputs": [
    {
     "name": "stdout",
     "output_type": "stream",
     "text": [
      "8.52073937232888e-149\n",
      "8.52073937232888e-149\n",
      "a    8.520739e-149\n",
      "b   -6.273043e-158\n",
      "c    1.466514e-147\n",
      "d   -4.138985e-158\n",
      "dtype: float64\n",
      "31.3 ms ± 2.36 ms per loop (mean ± std. dev. of 7 runs, 10 loops each)\n"
     ]
    }
   ],
   "source": [
    "print(empyrical.up_capture(portfolio['a'].returns.values, factor_returns))\n",
    "\n",
    "print(portfolio['a'].up_capture)\n",
    "print(portfolio.up_capture)\n",
    "\n",
    "%timeit big_portfolio.up_capture"
   ]
  },
  {
   "cell_type": "code",
   "execution_count": 62,
   "metadata": {},
   "outputs": [
    {
     "name": "stdout",
     "output_type": "stream",
     "text": [
      "nan\n",
      "nan\n",
      "a   NaN\n",
      "b   NaN\n",
      "c   NaN\n",
      "d   NaN\n",
      "dtype: float64\n",
      "24.7 ms ± 2.47 ms per loop (mean ± std. dev. of 7 runs, 10 loops each)\n"
     ]
    }
   ],
   "source": [
    "print(empyrical.down_capture(portfolio['a'].returns.values, factor_returns))\n",
    "\n",
    "print(portfolio['a'].down_capture)\n",
    "print(portfolio.down_capture)\n",
    "\n",
    "%timeit big_portfolio.down_capture"
   ]
  },
  {
   "cell_type": "markdown",
   "metadata": {},
   "source": [
    "## Stats"
   ]
  },
  {
   "cell_type": "code",
   "execution_count": 63,
   "metadata": {},
   "outputs": [
    {
     "name": "stdout",
     "output_type": "stream",
     "text": [
      "Start                     2020-01-01 00:00:00\n",
      "End                       2020-01-07 00:00:00\n",
      "Duration                      7 days 00:00:00\n",
      "Time in Position [%]                  42.8571\n",
      "Total Profit                          79.3471\n",
      "Total Return [%]                      79.3471\n",
      "Buy & Hold Return [%]                     600\n",
      "Max. Drawdown [%]                    0.990099\n",
      "Avg. Drawdown [%]                    0.990099\n",
      "Max. Drawdown Duration        2 days 00:00:00\n",
      "Avg. Drawdown Duration        2 days 00:00:00\n",
      "Num. Trades                                 2\n",
      "Win Rate [%]                              100\n",
      "Best Trade [%]                        37.2277\n",
      "Worst Trade [%]                       30.6931\n",
      "Avg. Trade [%]                        33.9604\n",
      "Max. Trade Duration           2 days 00:00:00\n",
      "Avg. Trade Duration           1 days 12:00:00\n",
      "Expectancy                            39.6736\n",
      "SQN                                   4.41775\n",
      "Sharpe Ratio                          10.0179\n",
      "Sortino Ratio                        -1.27924\n",
      "Calmar Ratio                      1.37189e+11\n",
      "dtype: object\n",
      "58.7 ms ± 1.54 ms per loop (mean ± std. dev. of 7 runs, 1 loop each)\n"
     ]
    }
   ],
   "source": [
    "print(portfolio['a'].stats)\n",
    "\n",
    "%timeit big_portfolio[0].stats"
   ]
  },
  {
   "cell_type": "code",
   "execution_count": null,
   "metadata": {},
   "outputs": [],
   "source": []
  }
 ],
 "metadata": {
  "kernelspec": {
   "display_name": "Python 3",
   "language": "python",
   "name": "python3"
  },
  "language_info": {
   "codemirror_mode": {
    "name": "ipython",
    "version": 3
   },
   "file_extension": ".py",
   "mimetype": "text/x-python",
   "name": "python",
   "nbconvert_exporter": "python",
   "pygments_lexer": "ipython3",
   "version": "3.7.3"
  },
  "widgets": {
   "application/vnd.jupyter.widget-state+json": {
    "state": {},
    "version_major": 2,
    "version_minor": 0
   }
  }
 },
 "nbformat": 4,
 "nbformat_minor": 4
}
