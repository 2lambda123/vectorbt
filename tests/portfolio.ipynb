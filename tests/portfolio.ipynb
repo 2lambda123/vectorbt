{
 "cells": [
  {
   "cell_type": "markdown",
   "metadata": {},
   "source": [
    "# portfolio"
   ]
  },
  {
   "cell_type": "code",
   "execution_count": 1,
   "metadata": {},
   "outputs": [],
   "source": [
    "import vectorbt as vbt"
   ]
  },
  {
   "cell_type": "code",
   "execution_count": 2,
   "metadata": {},
   "outputs": [
    {
     "data": {
      "text/plain": [
       "['Portfolio',\n",
       " '__builtins__',\n",
       " '__cached__',\n",
       " '__doc__',\n",
       " '__file__',\n",
       " '__loader__',\n",
       " '__name__',\n",
       " '__package__',\n",
       " '__path__',\n",
       " '__spec__',\n",
       " 'common',\n",
       " 'const',\n",
       " 'nb',\n",
       " 'portfolio',\n",
       " 'positions',\n",
       " 'props']"
      ]
     },
     "execution_count": 2,
     "metadata": {},
     "output_type": "execute_result"
    }
   ],
   "source": [
    "dir(vbt.portfolio)"
   ]
  },
  {
   "cell_type": "code",
   "execution_count": 3,
   "metadata": {
    "Collapsed": "false"
   },
   "outputs": [],
   "source": [
    "import numpy as np\n",
    "import pandas as pd\n",
    "from datetime import datetime, timedelta\n",
    "from numba import njit, f8, i8, b1, optional"
   ]
  },
  {
   "cell_type": "code",
   "execution_count": 4,
   "metadata": {
    "Collapsed": "false"
   },
   "outputs": [
    {
     "name": "stdout",
     "output_type": "stream",
     "text": [
      "              a    b    c    d\n",
      "2020-01-01  1.0  9.0  1.0  4.0\n",
      "2020-01-02  2.0  8.0  2.0  3.0\n",
      "2020-01-03  3.0  7.0  3.0  2.0\n",
      "2020-01-04  4.0  6.0  4.0  1.0\n",
      "2020-01-05  5.0  5.0  3.0  2.0\n",
      "2020-01-06  6.0  4.0  2.0  3.0\n",
      "2020-01-07  7.0  3.0  1.0  4.0\n"
     ]
    }
   ],
   "source": [
    "from datetime import datetime\n",
    "index = pd.Index([\n",
    "    datetime(2020, 1, 1),\n",
    "    datetime(2020, 1, 2),\n",
    "    datetime(2020, 1, 3),\n",
    "    datetime(2020, 1, 4),\n",
    "    datetime(2020, 1, 5),\n",
    "    datetime(2020, 1, 6),\n",
    "    datetime(2020, 1, 7),\n",
    "])\n",
    "price = pd.DataFrame({\n",
    "    'a': [1, 2, 3, 4, 5, 6, 7],\n",
    "    'b': [9, 8, 7, 6, 5, 4, 3],\n",
    "    'c': [1, 2, 3, 4, 3, 2, 1],\n",
    "    'd': [4, 3, 2, 1, 2, 3, 4]\n",
    "}, index=index).astype(float)\n",
    "\n",
    "print(price)"
   ]
  },
  {
   "cell_type": "code",
   "execution_count": 5,
   "metadata": {},
   "outputs": [
    {
     "data": {
      "text/plain": [
       "(1000, 1000)"
      ]
     },
     "execution_count": 5,
     "metadata": {},
     "output_type": "execute_result"
    }
   ],
   "source": [
    "big_price = pd.DataFrame(np.random.uniform(size=(1000, 1000)).astype(float))\n",
    "big_price.index = [datetime(2018, 1, 1) + timedelta(days=i) for i in range(1000)]\n",
    "big_price.shape"
   ]
  },
  {
   "cell_type": "code",
   "execution_count": 6,
   "metadata": {
    "Collapsed": "false"
   },
   "outputs": [
    {
     "name": "stdout",
     "output_type": "stream",
     "text": [
      "                a      b      c      d\n",
      "2020-01-01  False  False   True  False\n",
      "2020-01-02  False  False  False  False\n",
      "2020-01-03   True   True  False   True\n",
      "2020-01-04  False  False  False  False\n",
      "2020-01-05   True   True  False  False\n",
      "2020-01-06  False  False  False  False\n",
      "2020-01-07  False  False   True   True\n"
     ]
    }
   ],
   "source": [
    "entries = pd.DataFrame.vbt.signals.generate_random(\n",
    "    price.shape, 2, min_space=1, seed=42, index=price.index, columns=price.columns)\n",
    "big_entries = pd.DataFrame.vbt.signals.generate_random(\n",
    "    big_price.shape, 100, min_space=1, seed=42, index=big_price.index)\n",
    "\n",
    "print(entries)"
   ]
  },
  {
   "cell_type": "code",
   "execution_count": 7,
   "metadata": {
    "Collapsed": "false"
   },
   "outputs": [
    {
     "name": "stdout",
     "output_type": "stream",
     "text": [
      "                a      b      c      d\n",
      "2020-01-01  False  False  False  False\n",
      "2020-01-02  False  False   True  False\n",
      "2020-01-03  False  False  False  False\n",
      "2020-01-04   True   True  False  False\n",
      "2020-01-05  False  False  False   True\n",
      "2020-01-06  False   True  False  False\n",
      "2020-01-07   True  False  False  False\n"
     ]
    }
   ],
   "source": [
    "exits = entries.vbt.signals.generate_random_after(1, seed=42)\n",
    "big_exits = big_entries.vbt.signals.generate_random_after(1, seed=42)\n",
    "\n",
    "print(exits)"
   ]
  },
  {
   "cell_type": "code",
   "execution_count": 8,
   "metadata": {},
   "outputs": [],
   "source": [
    "vbt.defaults.portfolio['init_capital'] = 100 # set init_capital in cash globally"
   ]
  },
  {
   "cell_type": "code",
   "execution_count": 9,
   "metadata": {},
   "outputs": [],
   "source": [
    "# Disable caching for performance testing\n",
    "# NOTE: Expect waterfall of executions, since some attributes depend on other attributes \n",
    "# that have to be calculated again and again\n",
    "vbt.defaults.caching = False"
   ]
  },
  {
   "cell_type": "markdown",
   "metadata": {},
   "source": [
    "## Portfolio"
   ]
  },
  {
   "cell_type": "markdown",
   "metadata": {},
   "source": [
    "### from_signals"
   ]
  },
  {
   "cell_type": "code",
   "execution_count": 10,
   "metadata": {},
   "outputs": [
    {
     "name": "stdout",
     "output_type": "stream",
     "text": [
      "2020-01-01    0.0\n",
      "2020-01-02    0.0\n",
      "2020-01-03    1.0\n",
      "2020-01-04   -1.0\n",
      "2020-01-05    1.0\n",
      "2020-01-06    0.0\n",
      "2020-01-07   -1.0\n",
      "Name: a, dtype: float64\n",
      "2020-01-01    0.0\n",
      "2020-01-02    0.0\n",
      "2020-01-03    1.0\n",
      "2020-01-04    0.0\n",
      "2020-01-05    1.0\n",
      "2020-01-06    1.0\n",
      "2020-01-07    0.0\n",
      "Name: a, dtype: float64\n",
      "2020-01-01    100.0\n",
      "2020-01-02    100.0\n",
      "2020-01-03     97.0\n",
      "2020-01-04    101.0\n",
      "2020-01-05     96.0\n",
      "2020-01-06     96.0\n",
      "2020-01-07    103.0\n",
      "Name: a, dtype: float64\n",
      "7.35 ms ± 386 µs per loop (mean ± std. dev. of 7 runs, 1 loop each)\n",
      "(1000,)\n"
     ]
    }
   ],
   "source": [
    "portfolio = vbt.Portfolio.from_signals(price['a'], entries['a'], exits['a'], amount=1)\n",
    "print(portfolio.trades)\n",
    "print(portfolio.shares)\n",
    "print(portfolio.cash)\n",
    "\n",
    "%timeit vbt.Portfolio.from_signals(big_price.iloc[:, 0], big_entries.iloc[:, 0], big_exits.iloc[:, 0], amount=1)\n",
    "print(vbt.Portfolio.from_signals(big_price.iloc[:, 0], big_entries.iloc[:, 0], big_exits.iloc[:, 0], amount=1).equity.shape)"
   ]
  },
  {
   "cell_type": "code",
   "execution_count": 11,
   "metadata": {},
   "outputs": [
    {
     "name": "stdout",
     "output_type": "stream",
     "text": [
      "              a    b    c    d\n",
      "2020-01-01  0.0  0.0  1.0  0.0\n",
      "2020-01-02  0.0  0.0 -1.0  0.0\n",
      "2020-01-03  1.0  1.0  0.0  1.0\n",
      "2020-01-04 -1.0 -1.0  0.0  0.0\n",
      "2020-01-05  1.0  1.0  0.0 -1.0\n",
      "2020-01-06  0.0 -1.0  0.0  0.0\n",
      "2020-01-07 -1.0  0.0  1.0  1.0\n",
      "              a    b    c    d\n",
      "2020-01-01  0.0  0.0  1.0  0.0\n",
      "2020-01-02  0.0  0.0  0.0  0.0\n",
      "2020-01-03  1.0  1.0  0.0  1.0\n",
      "2020-01-04  0.0  0.0  0.0  1.0\n",
      "2020-01-05  1.0  1.0  0.0  0.0\n",
      "2020-01-06  1.0  0.0  0.0  0.0\n",
      "2020-01-07  0.0  0.0  1.0  1.0\n",
      "                a      b      c      d\n",
      "2020-01-01  100.0  100.0   99.0  100.0\n",
      "2020-01-02  100.0  100.0  101.0  100.0\n",
      "2020-01-03   97.0   97.0  101.0   97.0\n",
      "2020-01-04  101.0  101.0  101.0   97.0\n",
      "2020-01-05   96.0   96.0  101.0  102.0\n",
      "2020-01-06   96.0  102.0  101.0  102.0\n",
      "2020-01-07  103.0  102.0   94.0   95.0\n",
      "234 ms ± 50.3 ms per loop (mean ± std. dev. of 7 runs, 10 loops each)\n",
      "(1000, 1000)\n"
     ]
    }
   ],
   "source": [
    "portfolio = vbt.Portfolio.from_signals(price['a'], entries, exits, amount=1) # test broadcasting\n",
    "print(portfolio.trades)\n",
    "print(portfolio.shares)\n",
    "print(portfolio.cash)\n",
    "\n",
    "%timeit vbt.Portfolio.from_signals(big_price.iloc[:, 0], big_entries, big_exits, amount=1)\n",
    "print(vbt.Portfolio.from_signals(big_price.iloc[:, 0], big_entries, big_exits, amount=1).equity.shape)"
   ]
  },
  {
   "cell_type": "code",
   "execution_count": 12,
   "metadata": {},
   "outputs": [
    {
     "name": "stdout",
     "output_type": "stream",
     "text": [
      "              a    b    c    d\n",
      "2020-01-01  0.0  0.0  1.0  0.0\n",
      "2020-01-02  0.0  0.0 -1.0  0.0\n",
      "2020-01-03  1.0  1.0  0.0  1.0\n",
      "2020-01-04 -1.0 -1.0  0.0  0.0\n",
      "2020-01-05  1.0  1.0  0.0 -1.0\n",
      "2020-01-06  0.0 -1.0  0.0  0.0\n",
      "2020-01-07 -1.0  0.0  1.0  1.0\n",
      "              a    b    c    d\n",
      "2020-01-01  0.0  0.0  1.0  0.0\n",
      "2020-01-02  0.0  0.0  0.0  0.0\n",
      "2020-01-03  1.0  1.0  0.0  1.0\n",
      "2020-01-04  0.0  0.0  0.0  1.0\n",
      "2020-01-05  1.0  1.0  0.0  0.0\n",
      "2020-01-06  1.0  0.0  0.0  0.0\n",
      "2020-01-07  0.0  0.0  1.0  1.0\n",
      "                a      b      c      d\n",
      "2020-01-01  100.0  100.0   99.0  100.0\n",
      "2020-01-02  100.0  100.0  101.0  100.0\n",
      "2020-01-03   97.0   93.0  101.0   98.0\n",
      "2020-01-04  101.0   99.0  101.0   98.0\n",
      "2020-01-05   96.0   94.0  101.0  100.0\n",
      "2020-01-06   96.0   98.0  101.0  100.0\n",
      "2020-01-07  103.0   98.0  100.0   96.0\n",
      "226 ms ± 37.9 ms per loop (mean ± std. dev. of 7 runs, 1 loop each)\n",
      "(1000, 1000)\n"
     ]
    }
   ],
   "source": [
    "portfolio = vbt.Portfolio.from_signals(price, entries, exits, amount=1)\n",
    "print(portfolio.trades)\n",
    "print(portfolio.shares)\n",
    "print(portfolio.cash)\n",
    "\n",
    "%timeit vbt.Portfolio.from_signals(big_price, big_entries, big_exits, amount=1)\n",
    "print(vbt.Portfolio.from_signals(big_price, big_entries, big_exits, amount=1).equity.shape)"
   ]
  },
  {
   "cell_type": "code",
   "execution_count": 13,
   "metadata": {},
   "outputs": [
    {
     "name": "stdout",
     "output_type": "stream",
     "text": [
      "                    a          b      c     d\n",
      "2020-01-01   0.000000   0.000000  100.0   0.0\n",
      "2020-01-02   0.000000   0.000000 -100.0   0.0\n",
      "2020-01-03  33.333333  14.285714    0.0  50.0\n",
      "2020-01-04 -33.333333 -14.285714    0.0   0.0\n",
      "2020-01-05  26.666667  17.142857    0.0 -50.0\n",
      "2020-01-06   0.000000 -17.142857    0.0   0.0\n",
      "2020-01-07 -26.666667   0.000000  200.0  25.0\n",
      "                    a          b      c     d\n",
      "2020-01-01   0.000000   0.000000  100.0   0.0\n",
      "2020-01-02   0.000000   0.000000    0.0   0.0\n",
      "2020-01-03  33.333333  14.285714    0.0  50.0\n",
      "2020-01-04   0.000000   0.000000    0.0  50.0\n",
      "2020-01-05  26.666667  17.142857    0.0   0.0\n",
      "2020-01-06  26.666667   0.000000    0.0   0.0\n",
      "2020-01-07   0.000000   0.000000  200.0  25.0\n",
      "                     a           b      c      d\n",
      "2020-01-01  100.000000  100.000000    0.0  100.0\n",
      "2020-01-02  100.000000  100.000000  200.0  100.0\n",
      "2020-01-03    0.000000    0.000000  200.0    0.0\n",
      "2020-01-04  133.333333   85.714286  200.0    0.0\n",
      "2020-01-05    0.000000    0.000000  200.0  100.0\n",
      "2020-01-06    0.000000   68.571429  200.0  100.0\n",
      "2020-01-07  186.666667   68.571429    0.0    0.0\n",
      "191 ms ± 32.3 ms per loop (mean ± std. dev. of 7 runs, 1 loop each)\n",
      "(1000, 1000)\n"
     ]
    }
   ],
   "source": [
    "portfolio = vbt.Portfolio.from_signals(price, entries, exits, amount=np.inf) # all in/out\n",
    "print(portfolio.trades)\n",
    "print(portfolio.shares)\n",
    "print(portfolio.cash)\n",
    "\n",
    "%timeit vbt.Portfolio.from_signals(big_price, big_entries, big_exits, amount=np.inf)\n",
    "print(vbt.Portfolio.from_signals(big_price, big_entries, big_exits, amount=np.inf).equity.shape)"
   ]
  },
  {
   "cell_type": "code",
   "execution_count": 14,
   "metadata": {},
   "outputs": [
    {
     "name": "stdout",
     "output_type": "stream",
     "text": [
      "              a    b    c    d\n",
      "2020-01-01  0.0  0.0  1.0  0.0\n",
      "2020-01-02  0.0  0.0 -1.0  0.0\n",
      "2020-01-03  1.0  1.0  0.0  1.0\n",
      "2020-01-04 -1.0 -1.0  0.0  0.0\n",
      "2020-01-05  1.0  1.0  0.0 -1.0\n",
      "2020-01-06  0.0 -1.0  0.0  0.0\n",
      "2020-01-07 -1.0  0.0  1.0  1.0\n",
      "              a    b    c    d\n",
      "2020-01-01  0.0  0.0  1.0  0.0\n",
      "2020-01-02  0.0  0.0  0.0  0.0\n",
      "2020-01-03  1.0  1.0  0.0  1.0\n",
      "2020-01-04  0.0  0.0  0.0  1.0\n",
      "2020-01-05  1.0  1.0  0.0  0.0\n",
      "2020-01-06  1.0  0.0  0.0  0.0\n",
      "2020-01-07  0.0  0.0  1.0  1.0\n",
      "                 a       b       c       d\n",
      "2020-01-01  100.00  100.00   98.99  100.00\n",
      "2020-01-02  100.00  100.00  100.97  100.00\n",
      "2020-01-03   96.97   92.93  100.97   97.98\n",
      "2020-01-04  100.93   98.87  100.97   97.98\n",
      "2020-01-05   95.88   93.82  100.97   99.96\n",
      "2020-01-06   95.88   97.78  100.97   99.96\n",
      "2020-01-07  102.81   97.78   99.96   95.92\n",
      "               a     b     c     d\n",
      "2020-01-01  0.00  0.00  0.01  0.00\n",
      "2020-01-02  0.00  0.00  0.02  0.00\n",
      "2020-01-03  0.03  0.07  0.00  0.02\n",
      "2020-01-04  0.04  0.06  0.00  0.00\n",
      "2020-01-05  0.05  0.05  0.00  0.02\n",
      "2020-01-06  0.00  0.04  0.00  0.00\n",
      "2020-01-07  0.07  0.00  0.01  0.04\n",
      "192 ms ± 29 ms per loop (mean ± std. dev. of 7 runs, 1 loop each)\n",
      "(1000, 1000)\n"
     ]
    }
   ],
   "source": [
    "portfolio = vbt.Portfolio.from_signals(price, entries, exits, amount=1, fees=0.01) # w/ fees\n",
    "print(portfolio.trades)\n",
    "print(portfolio.shares)\n",
    "print(portfolio.cash)\n",
    "print(portfolio.fees_paid)\n",
    "\n",
    "%timeit vbt.Portfolio.from_signals(big_price, big_entries, big_exits, amount=1, fees=0.01)\n",
    "print(vbt.Portfolio.from_signals(big_price, big_entries, big_exits, amount=1, fees=0.01).equity.shape)"
   ]
  },
  {
   "cell_type": "code",
   "execution_count": 15,
   "metadata": {},
   "outputs": [
    {
     "name": "stdout",
     "output_type": "stream",
     "text": [
      "              a    b    c    d\n",
      "2020-01-01  0.0  0.0  1.0  0.0\n",
      "2020-01-02  0.0  0.0 -1.0  0.0\n",
      "2020-01-03  1.0  1.0  0.0  1.0\n",
      "2020-01-04 -1.0 -1.0  0.0  0.0\n",
      "2020-01-05  1.0  1.0  0.0 -1.0\n",
      "2020-01-06  0.0 -1.0  0.0  0.0\n",
      "2020-01-07 -1.0  0.0  1.0  1.0\n",
      "              a    b    c    d\n",
      "2020-01-01  0.0  0.0  1.0  0.0\n",
      "2020-01-02  0.0  0.0  0.0  0.0\n",
      "2020-01-03  1.0  1.0  0.0  1.0\n",
      "2020-01-04  0.0  0.0  0.0  1.0\n",
      "2020-01-05  1.0  1.0  0.0  0.0\n",
      "2020-01-06  1.0  0.0  0.0  0.0\n",
      "2020-01-07  0.0  0.0  1.0  1.0\n",
      "                 a       b       c       d\n",
      "2020-01-01  100.00  100.00   98.99  100.00\n",
      "2020-01-02  100.00  100.00  100.97  100.00\n",
      "2020-01-03   96.97   92.93  100.97   97.98\n",
      "2020-01-04  100.93   98.87  100.97   97.98\n",
      "2020-01-05   95.88   93.82  100.97   99.96\n",
      "2020-01-06   95.88   97.78  100.97   99.96\n",
      "2020-01-07  102.81   97.78   99.96   95.92\n",
      "               a     b     c     d\n",
      "2020-01-01  0.00  0.00  0.01  0.00\n",
      "2020-01-02  0.00  0.00  0.02  0.00\n",
      "2020-01-03  0.03  0.07  0.00  0.02\n",
      "2020-01-04  0.04  0.06  0.00  0.00\n",
      "2020-01-05  0.05  0.05  0.00  0.02\n",
      "2020-01-06  0.00  0.04  0.00  0.00\n",
      "2020-01-07  0.07  0.00  0.01  0.04\n",
      "177 ms ± 21.4 ms per loop (mean ± std. dev. of 7 runs, 1 loop each)\n",
      "(1000, 1000)\n"
     ]
    }
   ],
   "source": [
    "portfolio = vbt.Portfolio.from_signals(price, entries, exits, amount=1, slippage=0.01) # w/ slippage\n",
    "print(portfolio.trades)\n",
    "print(portfolio.shares)\n",
    "print(portfolio.cash)\n",
    "print(portfolio.slippage_paid)\n",
    "\n",
    "%timeit vbt.Portfolio.from_signals(big_price, big_entries, big_exits, amount=1, slippage=0.01)\n",
    "print(vbt.Portfolio.from_signals(big_price, big_entries, big_exits, amount=1, slippage=0.01).equity.shape)"
   ]
  },
  {
   "cell_type": "markdown",
   "metadata": {},
   "source": [
    "### from_amount"
   ]
  },
  {
   "cell_type": "code",
   "execution_count": 16,
   "metadata": {},
   "outputs": [],
   "source": [
    "orders = pd.DataFrame.vbt.timeseries.empty_like(price, 1) # buy 1 share every day\n",
    "big_orders = pd.DataFrame.vbt.timeseries.empty_like(big_price, 1)"
   ]
  },
  {
   "cell_type": "code",
   "execution_count": 17,
   "metadata": {},
   "outputs": [
    {
     "name": "stdout",
     "output_type": "stream",
     "text": [
      "2020-01-01    1.0\n",
      "2020-01-02    1.0\n",
      "2020-01-03    1.0\n",
      "2020-01-04    1.0\n",
      "2020-01-05    1.0\n",
      "2020-01-06    1.0\n",
      "2020-01-07    1.0\n",
      "Name: a, dtype: float64\n",
      "2020-01-01    1.0\n",
      "2020-01-02    2.0\n",
      "2020-01-03    3.0\n",
      "2020-01-04    4.0\n",
      "2020-01-05    5.0\n",
      "2020-01-06    6.0\n",
      "2020-01-07    7.0\n",
      "Name: a, dtype: float64\n",
      "2020-01-01    99.0\n",
      "2020-01-02    97.0\n",
      "2020-01-03    94.0\n",
      "2020-01-04    90.0\n",
      "2020-01-05    85.0\n",
      "2020-01-06    79.0\n",
      "2020-01-07    72.0\n",
      "Name: a, dtype: float64\n",
      "10.5 ms ± 2.14 ms per loop (mean ± std. dev. of 7 runs, 1 loop each)\n",
      "(1000,)\n"
     ]
    }
   ],
   "source": [
    "portfolio = vbt.Portfolio.from_orders(price['a'], orders['a'])\n",
    "print(portfolio.trades)\n",
    "print(portfolio.shares)\n",
    "print(portfolio.cash)\n",
    "\n",
    "%timeit vbt.Portfolio.from_orders(big_price.iloc[:, 0], big_orders.iloc[:, 0])\n",
    "print(vbt.Portfolio.from_orders(big_price.iloc[:, 0], big_orders.iloc[:, 0]).equity.shape)"
   ]
  },
  {
   "cell_type": "code",
   "execution_count": 18,
   "metadata": {},
   "outputs": [
    {
     "name": "stdout",
     "output_type": "stream",
     "text": [
      "              a    b    c    d\n",
      "2020-01-01  1.0  1.0  1.0  1.0\n",
      "2020-01-02  1.0  1.0  1.0  1.0\n",
      "2020-01-03  1.0  1.0  1.0  1.0\n",
      "2020-01-04  1.0  1.0  1.0  1.0\n",
      "2020-01-05  1.0  1.0  1.0  1.0\n",
      "2020-01-06  1.0  1.0  1.0  1.0\n",
      "2020-01-07  1.0  1.0  1.0  1.0\n",
      "              a    b    c    d\n",
      "2020-01-01  1.0  1.0  1.0  1.0\n",
      "2020-01-02  2.0  2.0  2.0  2.0\n",
      "2020-01-03  3.0  3.0  3.0  3.0\n",
      "2020-01-04  4.0  4.0  4.0  4.0\n",
      "2020-01-05  5.0  5.0  5.0  5.0\n",
      "2020-01-06  6.0  6.0  6.0  6.0\n",
      "2020-01-07  7.0  7.0  7.0  7.0\n",
      "               a     b     c     d\n",
      "2020-01-01  99.0  99.0  99.0  99.0\n",
      "2020-01-02  97.0  97.0  97.0  97.0\n",
      "2020-01-03  94.0  94.0  94.0  94.0\n",
      "2020-01-04  90.0  90.0  90.0  90.0\n",
      "2020-01-05  85.0  85.0  85.0  85.0\n",
      "2020-01-06  79.0  79.0  79.0  79.0\n",
      "2020-01-07  72.0  72.0  72.0  72.0\n",
      "85.8 ms ± 15.3 ms per loop (mean ± std. dev. of 7 runs, 10 loops each)\n",
      "(1000, 1000)\n"
     ]
    }
   ],
   "source": [
    "portfolio = vbt.Portfolio.from_orders(price['a'], orders)\n",
    "print(portfolio.trades)\n",
    "print(portfolio.shares)\n",
    "print(portfolio.cash)\n",
    "\n",
    "%timeit vbt.Portfolio.from_orders(big_price.iloc[:, 0], big_orders)\n",
    "print(vbt.Portfolio.from_orders(big_price.iloc[:, 0], big_orders).equity.shape)"
   ]
  },
  {
   "cell_type": "code",
   "execution_count": 19,
   "metadata": {},
   "outputs": [
    {
     "name": "stdout",
     "output_type": "stream",
     "text": [
      "              a    b    c    d\n",
      "2020-01-01  1.0  1.0  1.0  1.0\n",
      "2020-01-02  1.0  1.0  1.0  1.0\n",
      "2020-01-03  1.0  1.0  1.0  1.0\n",
      "2020-01-04  1.0  1.0  1.0  1.0\n",
      "2020-01-05  1.0  1.0  1.0  1.0\n",
      "2020-01-06  1.0  1.0  1.0  1.0\n",
      "2020-01-07  1.0  1.0  1.0  1.0\n",
      "              a    b    c    d\n",
      "2020-01-01  1.0  1.0  1.0  1.0\n",
      "2020-01-02  2.0  2.0  2.0  2.0\n",
      "2020-01-03  3.0  3.0  3.0  3.0\n",
      "2020-01-04  4.0  4.0  4.0  4.0\n",
      "2020-01-05  5.0  5.0  5.0  5.0\n",
      "2020-01-06  6.0  6.0  6.0  6.0\n",
      "2020-01-07  7.0  7.0  7.0  7.0\n",
      "               a     b     c     d\n",
      "2020-01-01  99.0  91.0  99.0  96.0\n",
      "2020-01-02  97.0  83.0  97.0  93.0\n",
      "2020-01-03  94.0  76.0  94.0  91.0\n",
      "2020-01-04  90.0  70.0  90.0  90.0\n",
      "2020-01-05  85.0  65.0  87.0  88.0\n",
      "2020-01-06  79.0  61.0  85.0  85.0\n",
      "2020-01-07  72.0  58.0  84.0  81.0\n",
      "73 ms ± 6.02 ms per loop (mean ± std. dev. of 7 runs, 10 loops each)\n",
      "(1000, 1000)\n"
     ]
    }
   ],
   "source": [
    "portfolio = vbt.Portfolio.from_orders(price, orders)\n",
    "print(portfolio.trades)\n",
    "print(portfolio.shares)\n",
    "print(portfolio.cash)\n",
    "\n",
    "%timeit vbt.Portfolio.from_orders(big_price, big_orders)\n",
    "print(vbt.Portfolio.from_orders(big_price, big_orders).equity.shape)"
   ]
  },
  {
   "cell_type": "code",
   "execution_count": 20,
   "metadata": {},
   "outputs": [
    {
     "name": "stdout",
     "output_type": "stream",
     "text": [
      "              a    b    c    d\n",
      "2020-01-01  1.0  1.0  1.0  1.0\n",
      "2020-01-02  0.0  0.0  0.0  0.0\n",
      "2020-01-03  0.0  0.0  0.0  0.0\n",
      "2020-01-04  0.0  0.0  0.0  0.0\n",
      "2020-01-05  0.0  0.0  0.0  0.0\n",
      "2020-01-06  0.0  0.0  0.0  0.0\n",
      "2020-01-07  0.0  0.0  0.0  0.0\n",
      "              a    b    c    d\n",
      "2020-01-01  1.0  1.0  1.0  1.0\n",
      "2020-01-02  1.0  1.0  1.0  1.0\n",
      "2020-01-03  1.0  1.0  1.0  1.0\n",
      "2020-01-04  1.0  1.0  1.0  1.0\n",
      "2020-01-05  1.0  1.0  1.0  1.0\n",
      "2020-01-06  1.0  1.0  1.0  1.0\n",
      "2020-01-07  1.0  1.0  1.0  1.0\n",
      "               a     b     c     d\n",
      "2020-01-01  99.0  91.0  99.0  96.0\n",
      "2020-01-02  99.0  91.0  99.0  96.0\n",
      "2020-01-03  99.0  91.0  99.0  96.0\n",
      "2020-01-04  99.0  91.0  99.0  96.0\n",
      "2020-01-05  99.0  91.0  99.0  96.0\n",
      "2020-01-06  99.0  91.0  99.0  96.0\n",
      "2020-01-07  99.0  91.0  99.0  96.0\n",
      "36.8 ms ± 2.03 ms per loop (mean ± std. dev. of 7 runs, 10 loops each)\n",
      "(1000, 1000)\n"
     ]
    }
   ],
   "source": [
    "portfolio = vbt.Portfolio.from_orders(price, orders, is_target=True) # target amount of shares to hold\n",
    "print(portfolio.trades)\n",
    "print(portfolio.shares)\n",
    "print(portfolio.cash)\n",
    "\n",
    "%timeit vbt.Portfolio.from_orders(big_price, big_orders, is_target=True)\n",
    "print(vbt.Portfolio.from_orders(big_price, big_orders, is_target=True).equity.shape)"
   ]
  },
  {
   "cell_type": "markdown",
   "metadata": {},
   "source": [
    "### from_order_func"
   ]
  },
  {
   "cell_type": "code",
   "execution_count": 21,
   "metadata": {},
   "outputs": [
    {
     "name": "stdout",
     "output_type": "stream",
     "text": [
      "2020-01-01    0.0\n",
      "2020-01-02    1.0\n",
      "2020-01-03   -1.0\n",
      "2020-01-04    3.0\n",
      "2020-01-05   -3.0\n",
      "2020-01-06    5.0\n",
      "2020-01-07   -5.0\n",
      "Name: a, dtype: float64\n",
      "2020-01-01    0.0\n",
      "2020-01-02    1.0\n",
      "2020-01-03    0.0\n",
      "2020-01-04    3.0\n",
      "2020-01-05    0.0\n",
      "2020-01-06    5.0\n",
      "2020-01-07    0.0\n",
      "Name: a, dtype: float64\n",
      "2020-01-01    100.0\n",
      "2020-01-02     98.0\n",
      "2020-01-03    101.0\n",
      "2020-01-04     89.0\n",
      "2020-01-05    104.0\n",
      "2020-01-06     74.0\n",
      "2020-01-07    109.0\n",
      "Name: a, dtype: float64\n",
      "4.5 ms ± 214 µs per loop (mean ± std. dev. of 7 runs, 1 loop each)\n",
      "(1000,)\n"
     ]
    }
   ],
   "source": [
    "@njit\n",
    "def order_func_nb(col, i, run_cash, run_shares):\n",
    "    return -i if i % 2 == 0 else i\n",
    "\n",
    "portfolio = vbt.Portfolio.from_order_func(price['a'], order_func_nb)\n",
    "print(portfolio.trades)\n",
    "print(portfolio.shares)\n",
    "print(portfolio.cash)\n",
    "\n",
    "%timeit vbt.Portfolio.from_order_func(big_price.iloc[:, 0], order_func_nb)\n",
    "print(vbt.Portfolio.from_order_func(big_price.iloc[:, 0], order_func_nb).equity.shape)"
   ]
  },
  {
   "cell_type": "code",
   "execution_count": 22,
   "metadata": {},
   "outputs": [
    {
     "name": "stdout",
     "output_type": "stream",
     "text": [
      "              a    b    c    d\n",
      "2020-01-01  0.0  0.0  0.0  0.0\n",
      "2020-01-02  1.0  1.0  1.0  1.0\n",
      "2020-01-03 -1.0 -1.0 -1.0 -1.0\n",
      "2020-01-04  3.0  3.0  3.0  3.0\n",
      "2020-01-05 -3.0 -3.0 -3.0 -3.0\n",
      "2020-01-06  5.0  5.0  5.0  5.0\n",
      "2020-01-07 -5.0 -5.0 -5.0 -5.0\n",
      "              a    b    c    d\n",
      "2020-01-01  0.0  0.0  0.0  0.0\n",
      "2020-01-02  1.0  1.0  1.0  1.0\n",
      "2020-01-03  0.0  0.0  0.0  0.0\n",
      "2020-01-04  3.0  3.0  3.0  3.0\n",
      "2020-01-05  0.0  0.0  0.0  0.0\n",
      "2020-01-06  5.0  5.0  5.0  5.0\n",
      "2020-01-07  0.0  0.0  0.0  0.0\n",
      "                a      b      c      d\n",
      "2020-01-01  100.0  100.0  100.0  100.0\n",
      "2020-01-02   98.0   92.0   98.0   97.0\n",
      "2020-01-03  101.0   99.0  101.0   99.0\n",
      "2020-01-04   89.0   81.0   89.0   96.0\n",
      "2020-01-05  104.0   96.0   98.0  102.0\n",
      "2020-01-06   74.0   76.0   88.0   87.0\n",
      "2020-01-07  109.0   91.0   93.0  107.0\n",
      "67.1 ms ± 2.8 ms per loop (mean ± std. dev. of 7 runs, 10 loops each)\n",
      "(1000, 1000)\n"
     ]
    }
   ],
   "source": [
    "portfolio = vbt.Portfolio.from_order_func(price, order_func_nb)\n",
    "print(portfolio.trades)\n",
    "print(portfolio.shares)\n",
    "print(portfolio.cash)\n",
    "\n",
    "%timeit vbt.Portfolio.from_order_func(big_price, order_func_nb)\n",
    "print(vbt.Portfolio.from_order_func(big_price, order_func_nb).equity.shape)"
   ]
  },
  {
   "cell_type": "markdown",
   "metadata": {},
   "source": [
    "### Indexing and magic methods"
   ]
  },
  {
   "cell_type": "code",
   "execution_count": 10,
   "metadata": {},
   "outputs": [],
   "source": [
    "portfolio = vbt.Portfolio.from_signals(price, entries, exits, fees=0.01,\n",
    "    risk_free=0.01, required_return=0.1, cutoff=0.07, factor_returns=np.random.uniform(size=price.shape))\n",
    "big_portfolio = vbt.Portfolio.from_signals(big_price, big_entries, big_exits, fees=0.01,\n",
    "    risk_free=0.01, required_return=0.1, cutoff=0.07, factor_returns=np.random.uniform(size=big_price.shape))"
   ]
  },
  {
   "cell_type": "code",
   "execution_count": 24,
   "metadata": {},
   "outputs": [
    {
     "name": "stdout",
     "output_type": "stream",
     "text": [
      "2020-01-01    100.000000\n",
      "2020-01-02    100.000000\n",
      "2020-01-03     99.009901\n",
      "2020-01-04    130.693069\n",
      "2020-01-05    129.399079\n",
      "2020-01-06    155.278894\n",
      "2020-01-07    179.347123\n",
      "Name: a, dtype: float64\n",
      "65.4 µs ± 1.09 µs per loop (mean ± std. dev. of 7 runs, 10000 loops each)\n",
      "5.04 ms ± 492 µs per loop (mean ± std. dev. of 7 runs, 100 loops each)\n"
     ]
    }
   ],
   "source": [
    "print(portfolio.iloc[:, 0].equity)\n",
    "\n",
    "%timeit big_portfolio.price.iloc[:, 0]\n",
    "%timeit big_portfolio.iloc[:, 0].price"
   ]
  },
  {
   "cell_type": "code",
   "execution_count": 25,
   "metadata": {},
   "outputs": [
    {
     "name": "stdout",
     "output_type": "stream",
     "text": [
      "2020-01-01    0.326381\n",
      "2020-01-02    0.324873\n",
      "2020-01-03    0.767783\n",
      "2020-01-04    0.964595\n",
      "2020-01-05    0.662025\n",
      "2020-01-06    0.023477\n",
      "2020-01-07    0.232259\n",
      "Name: a, dtype: float64\n"
     ]
    }
   ],
   "source": [
    "print(portfolio['a'].factor_returns)"
   ]
  },
  {
   "cell_type": "code",
   "execution_count": 26,
   "metadata": {},
   "outputs": [
    {
     "name": "stdout",
     "output_type": "stream",
     "text": [
      "300.0\n",
      "              a    b    c    d\n",
      "2020-01-01  1.0  9.0  1.0  4.0\n",
      "2020-01-02  2.0  8.0  2.0  3.0\n",
      "2020-01-03  3.0  7.0  3.0  2.0\n",
      "2020-01-04  4.0  6.0  4.0  1.0\n",
      "2020-01-05  5.0  5.0  3.0  2.0\n",
      "2020-01-06  6.0  4.0  2.0  3.0\n",
      "2020-01-07  7.0  3.0  1.0  4.0\n",
      "                     a           b           c           d\n",
      "2020-01-01  300.000000  300.000000  200.000000  300.000000\n",
      "2020-01-02  300.000000  300.000000  192.157632  300.000000\n",
      "2020-01-03  200.000000  200.000000  192.157632  200.000000\n",
      "2020-01-04  128.105088   82.353271  192.157632  200.000000\n",
      "2020-01-05  230.776624  153.851083  192.157632   96.078816\n",
      "2020-01-06  230.776624   63.299238  192.157632   96.078816\n",
      "2020-01-07  172.314592   63.299238   92.310650  369.242599\n",
      "                    a          b           c          d\n",
      "2020-01-01   0.000000   0.000000   98.029605   0.000000\n",
      "2020-01-02   0.000000   0.000000   96.116878   0.000000\n",
      "2020-01-03  32.676535  14.004229   96.116878  49.014802\n",
      "2020-01-04  48.058439  32.038959   96.116878  49.014802\n",
      "2020-01-05  25.116182  16.146117   96.116878  96.116878\n",
      "2020-01-06  25.116182  36.969214   96.116878  96.116878\n",
      "2020-01-07  31.687898  36.969214  188.371367  23.546421\n",
      "                   a         b         c         d\n",
      "2020-01-01  0.000000  0.000000  0.990099  0.000000\n",
      "2020-01-02  0.000000  0.000000  5.862555  0.000000\n",
      "2020-01-03  0.990099  0.990099  0.000000  0.990099\n",
      "2020-01-04  5.215559  4.753420  0.000000  0.000000\n",
      "2020-01-05  5.978094  3.955197  0.000000  4.892062\n",
      "2020-01-06  0.000000  3.656074  0.000000  0.000000\n",
      "2020-01-07  6.265583  0.000000  3.786442  8.486839\n",
      "                   a         b         c         d\n",
      "2020-01-01  0.000000  0.000000  0.980296  0.000000\n",
      "2020-01-02  0.000000  0.000000  5.805267  0.000000\n",
      "2020-01-03  0.980296  0.980296  0.000000  0.980296\n",
      "2020-01-04  5.151737  4.684929  0.000000  0.000000\n",
      "2020-01-05  6.061653  4.011202  0.000000  4.824971\n",
      "2020-01-06  0.000000  3.603382  0.000000  0.000000\n",
      "2020-01-07  6.194438  0.000000  3.806051  8.631207\n"
     ]
    }
   ],
   "source": [
    "portfolio_a = vbt.Portfolio.from_signals(price, entries, exits, init_capital=100, fees=0.01, slippage=0.01)\n",
    "portfolio_b = vbt.Portfolio.from_signals(price, exits, entries, init_capital=200, fees=0.02, slippage=0.02)\n",
    "\n",
    "portfolio_ab = portfolio_a + portfolio_b\n",
    "\n",
    "print(portfolio_ab.init_capital)\n",
    "print(portfolio_ab.price)\n",
    "print(portfolio_ab.cash)\n",
    "print(portfolio_ab.shares)\n",
    "print(portfolio_ab.fees_paid)\n",
    "print(portfolio_ab.slippage_paid)"
   ]
  },
  {
   "cell_type": "markdown",
   "metadata": {},
   "source": [
    "### Properties"
   ]
  },
  {
   "cell_type": "code",
   "execution_count": 27,
   "metadata": {},
   "outputs": [
    {
     "name": "stdout",
     "output_type": "stream",
     "text": [
      "              a    b    c    d\n",
      "2020-01-01  1.0  9.0  1.0  4.0\n",
      "2020-01-02  2.0  8.0  2.0  3.0\n",
      "2020-01-03  3.0  7.0  3.0  2.0\n",
      "2020-01-04  4.0  6.0  4.0  1.0\n",
      "2020-01-05  5.0  5.0  3.0  2.0\n",
      "2020-01-06  6.0  4.0  2.0  3.0\n",
      "2020-01-07  7.0  3.0  1.0  4.0\n",
      "                     a           b           c           d\n",
      "2020-01-01  100.000000  100.000000    0.000000  100.000000\n",
      "2020-01-02  100.000000  100.000000  196.039604  100.000000\n",
      "2020-01-03    0.000000    0.000000  196.039604    0.000000\n",
      "2020-01-04  130.693069   84.016973  196.039604    0.000000\n",
      "2020-01-05    0.000000    0.000000  196.039604   98.019802\n",
      "2020-01-06    0.000000   65.882617  196.039604   98.019802\n",
      "2020-01-07  179.347123   65.882617    0.000000    0.000000\n",
      "                    a          b           c          d\n",
      "2020-01-01   0.000000   0.000000   99.009901   0.000000\n",
      "2020-01-02   0.000000   0.000000    0.000000   0.000000\n",
      "2020-01-03  33.003300  14.144272    0.000000  49.504950\n",
      "2020-01-04   0.000000   0.000000    0.000000  49.504950\n",
      "2020-01-05  25.879816  16.637024    0.000000   0.000000\n",
      "2020-01-06  25.879816   0.000000    0.000000   0.000000\n",
      "2020-01-07   0.000000   0.000000  194.098618  24.262327\n",
      "                   a         b         c         d\n",
      "2020-01-01  0.000000  0.000000  0.990099  0.000000\n",
      "2020-01-02  0.000000  0.000000  1.980198  0.000000\n",
      "2020-01-03  0.990099  0.990099  0.000000  0.990099\n",
      "2020-01-04  1.320132  0.848656  0.000000  0.000000\n",
      "2020-01-05  1.293991  0.831851  0.000000  0.990099\n",
      "2020-01-06  0.000000  0.665481  0.000000  0.000000\n",
      "2020-01-07  1.811587  0.000000  1.940986  0.970493\n",
      "              a    b    c    d\n",
      "2020-01-01  0.0  0.0  0.0  0.0\n",
      "2020-01-02  0.0  0.0  0.0  0.0\n",
      "2020-01-03  0.0  0.0  0.0  0.0\n",
      "2020-01-04  0.0  0.0  0.0  0.0\n",
      "2020-01-05  0.0  0.0  0.0  0.0\n",
      "2020-01-06  0.0  0.0  0.0  0.0\n",
      "2020-01-07  0.0  0.0  0.0  0.0\n"
     ]
    }
   ],
   "source": [
    "print(portfolio.price)\n",
    "print(portfolio.cash)\n",
    "print(portfolio.shares)\n",
    "print(portfolio.fees_paid)\n",
    "print(portfolio.slippage_paid)"
   ]
  },
  {
   "cell_type": "code",
   "execution_count": 28,
   "metadata": {},
   "outputs": [
    {
     "name": "stdout",
     "output_type": "stream",
     "text": [
      "100.0\n",
      "1 days 00:00:00\n",
      "365 days 05:49:12\n",
      "365.2425\n",
      "0.01\n",
      "0.1\n",
      "0.07\n",
      "                   a         b         c         d\n",
      "2020-01-01  0.326381  0.992912  0.476350  0.154160\n",
      "2020-01-02  0.324873  0.876893  0.402050  0.901827\n",
      "2020-01-03  0.767783  0.130440  0.208662  0.057590\n",
      "2020-01-04  0.964595  0.716656  0.533927  0.803770\n",
      "2020-01-05  0.662025  0.681841  0.000501  0.866871\n",
      "2020-01-06  0.023477  0.592724  0.574661  0.031483\n",
      "2020-01-07  0.232259  0.531504  0.305735  0.698689\n"
     ]
    }
   ],
   "source": [
    "print(portfolio.init_capital)\n",
    "print(portfolio.data_freq)\n",
    "print(portfolio.year_freq)\n",
    "print(portfolio.ann_factor)\n",
    "print(portfolio.risk_free)\n",
    "print(portfolio.required_return)\n",
    "print(portfolio.cutoff)\n",
    "print(portfolio.factor_returns)"
   ]
  },
  {
   "cell_type": "markdown",
   "metadata": {},
   "source": [
    "### Positions"
   ]
  },
  {
   "cell_type": "code",
   "execution_count": 29,
   "metadata": {},
   "outputs": [
    {
     "name": "stdout",
     "output_type": "stream",
     "text": [
      "<vectorbt.portfolio.positions.Positions object at 0x1a21222518>\n"
     ]
    }
   ],
   "source": [
    "print(portfolio['a'].positions)"
   ]
  },
  {
   "cell_type": "code",
   "execution_count": 30,
   "metadata": {},
   "outputs": [
    {
     "name": "stdout",
     "output_type": "stream",
     "text": [
      "<vectorbt.portfolio.positions.PnLPositions object at 0x1a21688240>\n",
      "<vectorbt.portfolio.positions.PnLPositions object at 0x10ac7f2e8>\n"
     ]
    }
   ],
   "source": [
    "print(portfolio['a'].positions.open)\n",
    "print(portfolio['a'].positions.closed)"
   ]
  },
  {
   "cell_type": "code",
   "execution_count": 31,
   "metadata": {},
   "outputs": [
    {
     "name": "stdout",
     "output_type": "stream",
     "text": [
      "<vectorbt.portfolio.positions.BasePositions object at 0x1a22ea6208>\n",
      "<vectorbt.portfolio.positions.BasePositions object at 0x1a23493438>\n",
      "<vectorbt.portfolio.positions.BasePositions object at 0x1a216b8a20>\n",
      "<vectorbt.portfolio.positions.BasePositions object at 0x1a23181390>\n",
      "<vectorbt.portfolio.positions.BasePositions object at 0x1a22f9c1d0>\n",
      "<vectorbt.portfolio.positions.BasePositions object at 0x1a22f9c588>\n"
     ]
    }
   ],
   "source": [
    "print(portfolio['a'].positions.winning)\n",
    "print(portfolio['a'].positions.losing)\n",
    "print(portfolio['a'].positions.open.winning)\n",
    "print(portfolio['a'].positions.open.losing)\n",
    "print(portfolio['a'].positions.closed.winning)\n",
    "print(portfolio['a'].positions.closed.losing)"
   ]
  },
  {
   "cell_type": "code",
   "execution_count": 32,
   "metadata": {},
   "outputs": [
    {
     "name": "stdout",
     "output_type": "stream",
     "text": [
      "1.0\n",
      "a    1.0\n",
      "b    1.0\n",
      "c    0.5\n",
      "d    0.5\n",
      "dtype: float64\n",
      "27.8 ms ± 6.61 ms per loop (mean ± std. dev. of 7 runs, 10 loops each)\n"
     ]
    }
   ],
   "source": [
    "print(portfolio['a'].positions.closed_rate)\n",
    "print(portfolio.positions.closed_rate)\n",
    "\n",
    "%timeit big_portfolio.positions.closed_rate"
   ]
  },
  {
   "cell_type": "code",
   "execution_count": 33,
   "metadata": {},
   "outputs": [
    {
     "name": "stdout",
     "output_type": "stream",
     "text": [
      "2020-01-01    NaN\n",
      "2020-01-02    NaN\n",
      "2020-01-03    NaN\n",
      "2020-01-04    1.0\n",
      "2020-01-05    NaN\n",
      "2020-01-06    NaN\n",
      "2020-01-07    1.0\n",
      "Name: a, dtype: float64\n",
      "              a    b    c    d\n",
      "2020-01-01  NaN  NaN  NaN  NaN\n",
      "2020-01-02  NaN  NaN  1.0  NaN\n",
      "2020-01-03  NaN  NaN  NaN  NaN\n",
      "2020-01-04  1.0  1.0  NaN  NaN\n",
      "2020-01-05  NaN  NaN  NaN  1.0\n",
      "2020-01-06  NaN  1.0  NaN  NaN\n",
      "2020-01-07  1.0  NaN  0.0  0.0\n",
      "7.57 ms ± 168 µs per loop (mean ± std. dev. of 7 runs, 100 loops each)\n"
     ]
    }
   ],
   "source": [
    "print(portfolio['a'].positions.status)\n",
    "print(portfolio.positions.status)\n",
    "\n",
    "%timeit big_portfolio.positions.status"
   ]
  },
  {
   "cell_type": "code",
   "execution_count": 34,
   "metadata": {},
   "outputs": [
    {
     "name": "stdout",
     "output_type": "stream",
     "text": [
      "2020-01-01    NaN\n",
      "2020-01-02    NaN\n",
      "2020-01-03    NaN\n",
      "2020-01-04    1.0\n",
      "2020-01-05    NaN\n",
      "2020-01-06    NaN\n",
      "2020-01-07    1.0\n",
      "Name: a, dtype: float64\n",
      "              a   b    c   d\n",
      "2020-01-01  NaN NaN  NaN NaN\n",
      "2020-01-02  NaN NaN  1.0 NaN\n",
      "2020-01-03  NaN NaN  NaN NaN\n",
      "2020-01-04  1.0 NaN  NaN NaN\n",
      "2020-01-05  NaN NaN  NaN NaN\n",
      "2020-01-06  NaN NaN  NaN NaN\n",
      "2020-01-07  1.0 NaN  NaN NaN\n",
      "50.3 ms ± 2.44 ms per loop (mean ± std. dev. of 7 runs, 10 loops each)\n"
     ]
    }
   ],
   "source": [
    "print(portfolio['a'].positions.winning.status)\n",
    "print(portfolio.positions.winning.status)\n",
    "\n",
    "%timeit big_portfolio.positions.winning.status"
   ]
  },
  {
   "cell_type": "code",
   "execution_count": 35,
   "metadata": {},
   "outputs": [
    {
     "name": "stdout",
     "output_type": "stream",
     "text": [
      "2020-01-01   NaN\n",
      "2020-01-02   NaN\n",
      "2020-01-03   NaN\n",
      "2020-01-04   NaN\n",
      "2020-01-05   NaN\n",
      "2020-01-06   NaN\n",
      "2020-01-07   NaN\n",
      "Name: a, dtype: float64\n",
      "             a    b    c    d\n",
      "2020-01-01 NaN  NaN  NaN  NaN\n",
      "2020-01-02 NaN  NaN  NaN  NaN\n",
      "2020-01-03 NaN  NaN  NaN  NaN\n",
      "2020-01-04 NaN  1.0  NaN  NaN\n",
      "2020-01-05 NaN  NaN  NaN  1.0\n",
      "2020-01-06 NaN  1.0  NaN  NaN\n",
      "2020-01-07 NaN  NaN  0.0  0.0\n",
      "50.6 ms ± 4.2 ms per loop (mean ± std. dev. of 7 runs, 10 loops each)\n"
     ]
    }
   ],
   "source": [
    "print(portfolio['a'].positions.losing.status)\n",
    "print(portfolio.positions.losing.status)\n",
    "\n",
    "%timeit big_portfolio.positions.losing.status"
   ]
  },
  {
   "cell_type": "code",
   "execution_count": 36,
   "metadata": {},
   "outputs": [
    {
     "name": "stdout",
     "output_type": "stream",
     "text": [
      "2\n",
      "a    2\n",
      "b    2\n",
      "c    2\n",
      "d    2\n",
      "dtype: int64\n",
      "13.3 ms ± 1.32 ms per loop (mean ± std. dev. of 7 runs, 100 loops each)\n"
     ]
    }
   ],
   "source": [
    "print(portfolio['a'].positions.count)\n",
    "print(portfolio.positions.count)\n",
    "\n",
    "%timeit big_portfolio.positions.count"
   ]
  },
  {
   "cell_type": "code",
   "execution_count": 37,
   "metadata": {},
   "outputs": [
    {
     "name": "stdout",
     "output_type": "stream",
     "text": [
      "2\n",
      "a    2\n",
      "b    0\n",
      "c    1\n",
      "d    0\n",
      "dtype: int64\n",
      "56.8 ms ± 3.15 ms per loop (mean ± std. dev. of 7 runs, 10 loops each)\n"
     ]
    }
   ],
   "source": [
    "print(portfolio['a'].positions.winning.count)\n",
    "print(portfolio.positions.winning.count)\n",
    "\n",
    "%timeit big_portfolio.positions.winning.count"
   ]
  },
  {
   "cell_type": "code",
   "execution_count": 38,
   "metadata": {},
   "outputs": [
    {
     "name": "stdout",
     "output_type": "stream",
     "text": [
      "0\n",
      "a    0\n",
      "b    2\n",
      "c    1\n",
      "d    2\n",
      "dtype: int64\n",
      "59.3 ms ± 4.27 ms per loop (mean ± std. dev. of 7 runs, 10 loops each)\n"
     ]
    }
   ],
   "source": [
    "print(portfolio['a'].positions.losing.count)\n",
    "print(portfolio.positions.losing.count)\n",
    "\n",
    "%timeit big_portfolio.positions.losing.count"
   ]
  },
  {
   "cell_type": "code",
   "execution_count": 39,
   "metadata": {},
   "outputs": [
    {
     "name": "stdout",
     "output_type": "stream",
     "text": [
      "2020-01-01    NaN\n",
      "2020-01-02    NaN\n",
      "2020-01-03    NaN\n",
      "2020-01-04    1.0\n",
      "2020-01-05    NaN\n",
      "2020-01-06    NaN\n",
      "2020-01-07    2.0\n",
      "Name: a, dtype: float64\n",
      "              a    b    c    d\n",
      "2020-01-01  NaN  NaN  NaN  NaN\n",
      "2020-01-02  NaN  NaN  1.0  NaN\n",
      "2020-01-03  NaN  NaN  NaN  NaN\n",
      "2020-01-04  1.0  1.0  NaN  NaN\n",
      "2020-01-05  NaN  NaN  NaN  2.0\n",
      "2020-01-06  NaN  1.0  NaN  NaN\n",
      "2020-01-07  2.0  NaN  1.0  1.0\n",
      "8 ms ± 964 µs per loop (mean ± std. dev. of 7 runs, 1 loop each)\n"
     ]
    }
   ],
   "source": [
    "print(portfolio['a'].positions.duration)\n",
    "print(portfolio.positions.duration)\n",
    "\n",
    "%timeit big_portfolio.positions.duration"
   ]
  },
  {
   "cell_type": "code",
   "execution_count": 40,
   "metadata": {},
   "outputs": [
    {
     "name": "stdout",
     "output_type": "stream",
     "text": [
      "2020-01-01    NaN\n",
      "2020-01-02    NaN\n",
      "2020-01-03    NaN\n",
      "2020-01-04    1.0\n",
      "2020-01-05    NaN\n",
      "2020-01-06    NaN\n",
      "2020-01-07    2.0\n",
      "Name: a, dtype: float64\n",
      "              a   b    c   d\n",
      "2020-01-01  NaN NaN  NaN NaN\n",
      "2020-01-02  NaN NaN  1.0 NaN\n",
      "2020-01-03  NaN NaN  NaN NaN\n",
      "2020-01-04  1.0 NaN  NaN NaN\n",
      "2020-01-05  NaN NaN  NaN NaN\n",
      "2020-01-06  NaN NaN  NaN NaN\n",
      "2020-01-07  2.0 NaN  NaN NaN\n",
      "51.7 ms ± 1.75 ms per loop (mean ± std. dev. of 7 runs, 10 loops each)\n"
     ]
    }
   ],
   "source": [
    "print(portfolio['a'].positions.winning.duration)\n",
    "print(portfolio.positions.winning.duration)\n",
    "\n",
    "%timeit big_portfolio.positions.winning.duration"
   ]
  },
  {
   "cell_type": "code",
   "execution_count": 41,
   "metadata": {},
   "outputs": [
    {
     "name": "stdout",
     "output_type": "stream",
     "text": [
      "2020-01-01   NaN\n",
      "2020-01-02   NaN\n",
      "2020-01-03   NaN\n",
      "2020-01-04   NaN\n",
      "2020-01-05   NaN\n",
      "2020-01-06   NaN\n",
      "2020-01-07   NaN\n",
      "Name: a, dtype: float64\n",
      "             a    b    c    d\n",
      "2020-01-01 NaN  NaN  NaN  NaN\n",
      "2020-01-02 NaN  NaN  NaN  NaN\n",
      "2020-01-03 NaN  NaN  NaN  NaN\n",
      "2020-01-04 NaN  1.0  NaN  NaN\n",
      "2020-01-05 NaN  NaN  NaN  2.0\n",
      "2020-01-06 NaN  1.0  NaN  NaN\n",
      "2020-01-07 NaN  NaN  1.0  1.0\n",
      "54.3 ms ± 5.29 ms per loop (mean ± std. dev. of 7 runs, 10 loops each)\n"
     ]
    }
   ],
   "source": [
    "print(portfolio['a'].positions.losing.duration)\n",
    "print(portfolio.positions.losing.duration)\n",
    "\n",
    "%timeit big_portfolio.positions.losing.duration"
   ]
  },
  {
   "cell_type": "code",
   "execution_count": 42,
   "metadata": {},
   "outputs": [
    {
     "name": "stdout",
     "output_type": "stream",
     "text": [
      "1 days 12:00:00\n",
      "a   1 days 12:00:00\n",
      "b   1 days 00:00:00\n",
      "c   1 days 00:00:00\n",
      "d   1 days 12:00:00\n",
      "dtype: timedelta64[ns]\n",
      "27.3 ms ± 3.74 ms per loop (mean ± std. dev. of 7 runs, 10 loops each)\n"
     ]
    }
   ],
   "source": [
    "print(portfolio['a'].positions.avg_duration)\n",
    "print(portfolio.positions.avg_duration)\n",
    "\n",
    "%timeit big_portfolio.positions.avg_duration"
   ]
  },
  {
   "cell_type": "code",
   "execution_count": 43,
   "metadata": {},
   "outputs": [
    {
     "name": "stdout",
     "output_type": "stream",
     "text": [
      "1 days 12:00:00\n",
      "a   1 days 12:00:00\n",
      "b               NaT\n",
      "c   1 days 00:00:00\n",
      "d               NaT\n",
      "dtype: timedelta64[ns]\n",
      "72.7 ms ± 3.31 ms per loop (mean ± std. dev. of 7 runs, 10 loops each)\n"
     ]
    }
   ],
   "source": [
    "print(portfolio['a'].positions.winning.avg_duration)\n",
    "print(portfolio.positions.winning.avg_duration)\n",
    "\n",
    "%timeit big_portfolio.positions.winning.avg_duration"
   ]
  },
  {
   "cell_type": "code",
   "execution_count": 44,
   "metadata": {},
   "outputs": [
    {
     "name": "stdout",
     "output_type": "stream",
     "text": [
      "nan\n",
      "a               NaT\n",
      "b   1 days 00:00:00\n",
      "c   1 days 00:00:00\n",
      "d   1 days 12:00:00\n",
      "dtype: timedelta64[ns]\n",
      "70 ms ± 4.96 ms per loop (mean ± std. dev. of 7 runs, 10 loops each)\n"
     ]
    }
   ],
   "source": [
    "print(portfolio['a'].positions.losing.avg_duration)\n",
    "print(portfolio.positions.losing.avg_duration)\n",
    "\n",
    "%timeit big_portfolio.positions.losing.avg_duration"
   ]
  },
  {
   "cell_type": "code",
   "execution_count": 45,
   "metadata": {
    "Collapsed": "false"
   },
   "outputs": [
    {
     "name": "stdout",
     "output_type": "stream",
     "text": [
      "2020-01-01          NaN\n",
      "2020-01-02          NaN\n",
      "2020-01-03          NaN\n",
      "2020-01-04    30.693069\n",
      "2020-01-05          NaN\n",
      "2020-01-06          NaN\n",
      "2020-01-07    48.654054\n",
      "Name: a, dtype: float64\n",
      "                    a          b          c         d\n",
      "2020-01-01        NaN        NaN        NaN       NaN\n",
      "2020-01-02        NaN        NaN  96.039604       NaN\n",
      "2020-01-03        NaN        NaN        NaN       NaN\n",
      "2020-01-04  30.693069 -15.983027        NaN       NaN\n",
      "2020-01-05        NaN        NaN        NaN -1.980198\n",
      "2020-01-06        NaN -18.134357        NaN       NaN\n",
      "2020-01-07  48.654054        NaN  -1.940986 -0.970493\n",
      "32.5 ms ± 755 µs per loop (mean ± std. dev. of 7 runs, 10 loops each)\n"
     ]
    }
   ],
   "source": [
    "print(portfolio['a'].positions.pnl)\n",
    "print(portfolio.positions.pnl)\n",
    "\n",
    "%timeit big_portfolio.positions.pnl"
   ]
  },
  {
   "cell_type": "code",
   "execution_count": 46,
   "metadata": {},
   "outputs": [
    {
     "data": {
      "image/png": "[encoded data removed]"
     },
     "metadata": {},
     "output_type": "display_data"
    }
   ],
   "source": [
    "portfolio['a'].positions.plot_pnl().show_png()"
   ]
  },
  {
   "cell_type": "code",
   "execution_count": 47,
   "metadata": {},
   "outputs": [
    {
     "name": "stdout",
     "output_type": "stream",
     "text": [
      "2020-01-01          NaN\n",
      "2020-01-02          NaN\n",
      "2020-01-03          NaN\n",
      "2020-01-04    30.693069\n",
      "2020-01-05          NaN\n",
      "2020-01-06          NaN\n",
      "2020-01-07    48.654054\n",
      "Name: a, dtype: float64\n",
      "                    a   b          c   d\n",
      "2020-01-01        NaN NaN        NaN NaN\n",
      "2020-01-02        NaN NaN  96.039604 NaN\n",
      "2020-01-03        NaN NaN        NaN NaN\n",
      "2020-01-04  30.693069 NaN        NaN NaN\n",
      "2020-01-05        NaN NaN        NaN NaN\n",
      "2020-01-06        NaN NaN        NaN NaN\n",
      "2020-01-07  48.654054 NaN        NaN NaN\n",
      "75.9 ms ± 3.45 ms per loop (mean ± std. dev. of 7 runs, 10 loops each)\n"
     ]
    }
   ],
   "source": [
    "print(portfolio['a'].positions.winning.pnl)\n",
    "print(portfolio.positions.winning.pnl)\n",
    "\n",
    "%timeit big_portfolio.positions.winning.pnl"
   ]
  },
  {
   "cell_type": "code",
   "execution_count": 48,
   "metadata": {},
   "outputs": [
    {
     "name": "stdout",
     "output_type": "stream",
     "text": [
      "2020-01-01   NaN\n",
      "2020-01-02   NaN\n",
      "2020-01-03   NaN\n",
      "2020-01-04   NaN\n",
      "2020-01-05   NaN\n",
      "2020-01-06   NaN\n",
      "2020-01-07   NaN\n",
      "Name: a, dtype: float64\n",
      "             a          b         c         d\n",
      "2020-01-01 NaN        NaN       NaN       NaN\n",
      "2020-01-02 NaN        NaN       NaN       NaN\n",
      "2020-01-03 NaN        NaN       NaN       NaN\n",
      "2020-01-04 NaN -15.983027       NaN       NaN\n",
      "2020-01-05 NaN        NaN       NaN -1.980198\n",
      "2020-01-06 NaN -18.134357       NaN       NaN\n",
      "2020-01-07 NaN        NaN -1.940986 -0.970493\n",
      "71.3 ms ± 4.31 ms per loop (mean ± std. dev. of 7 runs, 10 loops each)\n"
     ]
    }
   ],
   "source": [
    "print(portfolio['a'].positions.losing.pnl)\n",
    "print(portfolio.positions.losing.pnl)\n",
    "\n",
    "%timeit big_portfolio.positions.losing.pnl"
   ]
  },
  {
   "cell_type": "code",
   "execution_count": 49,
   "metadata": {},
   "outputs": [
    {
     "name": "stdout",
     "output_type": "stream",
     "text": [
      "79.34712283109499\n",
      "a    79.347123\n",
      "b   -34.117383\n",
      "c    94.098618\n",
      "d    -2.950691\n",
      "dtype: float64\n",
      "35.4 ms ± 2.12 ms per loop (mean ± std. dev. of 7 runs, 10 loops each)\n"
     ]
    }
   ],
   "source": [
    "print(portfolio['a'].positions.total_pnl)\n",
    "print(portfolio.positions.total_pnl)\n",
    "\n",
    "%timeit big_portfolio.positions.total_pnl"
   ]
  },
  {
   "cell_type": "code",
   "execution_count": 50,
   "metadata": {},
   "outputs": [
    {
     "name": "stdout",
     "output_type": "stream",
     "text": [
      "79.34712283109499\n",
      "a    79.347123\n",
      "b     0.000000\n",
      "c    96.039604\n",
      "d     0.000000\n",
      "dtype: float64\n",
      "75.5 ms ± 3.39 ms per loop (mean ± std. dev. of 7 runs, 10 loops each)\n"
     ]
    }
   ],
   "source": [
    "print(portfolio['a'].positions.winning.total_pnl)\n",
    "print(portfolio.positions.winning.total_pnl)\n",
    "\n",
    "%timeit big_portfolio.positions.winning.total_pnl"
   ]
  },
  {
   "cell_type": "code",
   "execution_count": 51,
   "metadata": {},
   "outputs": [
    {
     "name": "stdout",
     "output_type": "stream",
     "text": [
      "0.0\n",
      "a     0.000000\n",
      "b   -34.117383\n",
      "c    -1.940986\n",
      "d    -2.950691\n",
      "dtype: float64\n",
      "74.6 ms ± 2.7 ms per loop (mean ± std. dev. of 7 runs, 10 loops each)\n"
     ]
    }
   ],
   "source": [
    "print(portfolio['a'].positions.losing.total_pnl)\n",
    "print(portfolio.positions.losing.total_pnl)\n",
    "\n",
    "%timeit big_portfolio.positions.losing.total_pnl"
   ]
  },
  {
   "cell_type": "code",
   "execution_count": 52,
   "metadata": {},
   "outputs": [
    {
     "name": "stdout",
     "output_type": "stream",
     "text": [
      "39.673561415547496\n",
      "a    39.673561\n",
      "b   -17.058692\n",
      "c    47.049309\n",
      "d    -1.475346\n",
      "dtype: float64\n",
      "34 ms ± 1.46 ms per loop (mean ± std. dev. of 7 runs, 10 loops each)\n"
     ]
    }
   ],
   "source": [
    "print(portfolio['a'].positions.avg_pnl)\n",
    "print(portfolio.positions.avg_pnl)\n",
    "\n",
    "%timeit big_portfolio.positions.avg_pnl"
   ]
  },
  {
   "cell_type": "code",
   "execution_count": 53,
   "metadata": {},
   "outputs": [
    {
     "name": "stdout",
     "output_type": "stream",
     "text": [
      "39.673561415547496\n",
      "a    39.673561\n",
      "b          NaN\n",
      "c    96.039604\n",
      "d          NaN\n",
      "dtype: float64\n",
      "96.8 ms ± 22.6 ms per loop (mean ± std. dev. of 7 runs, 10 loops each)\n"
     ]
    }
   ],
   "source": [
    "print(portfolio['a'].positions.winning.avg_pnl)\n",
    "print(portfolio.positions.winning.avg_pnl)\n",
    "\n",
    "%timeit big_portfolio.positions.winning.avg_pnl"
   ]
  },
  {
   "cell_type": "code",
   "execution_count": 54,
   "metadata": {},
   "outputs": [
    {
     "name": "stdout",
     "output_type": "stream",
     "text": [
      "nan\n",
      "a          NaN\n",
      "b   -17.058692\n",
      "c    -1.940986\n",
      "d    -1.475346\n",
      "dtype: float64\n",
      "75.2 ms ± 2.7 ms per loop (mean ± std. dev. of 7 runs, 10 loops each)\n"
     ]
    }
   ],
   "source": [
    "print(portfolio['a'].positions.losing.avg_pnl)\n",
    "print(portfolio.positions.losing.avg_pnl)\n",
    "\n",
    "%timeit big_portfolio.positions.losing.avg_pnl"
   ]
  },
  {
   "cell_type": "code",
   "execution_count": 55,
   "metadata": {},
   "outputs": [
    {
     "name": "stdout",
     "output_type": "stream",
     "text": [
      "2020-01-01         NaN\n",
      "2020-01-02         NaN\n",
      "2020-01-03         NaN\n",
      "2020-01-04    0.306931\n",
      "2020-01-05         NaN\n",
      "2020-01-06         NaN\n",
      "2020-01-07    0.372277\n",
      "Name: a, dtype: float64\n",
      "                   a         b         c         d\n",
      "2020-01-01       NaN       NaN       NaN       NaN\n",
      "2020-01-02       NaN       NaN  0.960396       NaN\n",
      "2020-01-03       NaN       NaN       NaN       NaN\n",
      "2020-01-04  0.306931 -0.159830       NaN       NaN\n",
      "2020-01-05       NaN       NaN       NaN -0.019802\n",
      "2020-01-06       NaN -0.215842       NaN       NaN\n",
      "2020-01-07  0.372277       NaN -0.009901 -0.009901\n",
      "29.3 ms ± 585 µs per loop (mean ± std. dev. of 7 runs, 10 loops each)\n"
     ]
    }
   ],
   "source": [
    "print(portfolio['a'].positions.returns)\n",
    "print(portfolio.positions.returns)\n",
    "\n",
    "%timeit big_portfolio.positions.returns"
   ]
  },
  {
   "cell_type": "code",
   "execution_count": 56,
   "metadata": {},
   "outputs": [
    {
     "data": {
      "image/png": "[encoded data removed]"
     },
     "metadata": {},
     "output_type": "display_data"
    }
   ],
   "source": [
    "portfolio['a'].positions.plot_returns().show_png()"
   ]
  },
  {
   "cell_type": "code",
   "execution_count": 57,
   "metadata": {},
   "outputs": [
    {
     "name": "stdout",
     "output_type": "stream",
     "text": [
      "2020-01-01         NaN\n",
      "2020-01-02         NaN\n",
      "2020-01-03         NaN\n",
      "2020-01-04    0.306931\n",
      "2020-01-05         NaN\n",
      "2020-01-06         NaN\n",
      "2020-01-07    0.372277\n",
      "Name: a, dtype: float64\n",
      "                   a   b         c   d\n",
      "2020-01-01       NaN NaN       NaN NaN\n",
      "2020-01-02       NaN NaN  0.960396 NaN\n",
      "2020-01-03       NaN NaN       NaN NaN\n",
      "2020-01-04  0.306931 NaN       NaN NaN\n",
      "2020-01-05       NaN NaN       NaN NaN\n",
      "2020-01-06       NaN NaN       NaN NaN\n",
      "2020-01-07  0.372277 NaN       NaN NaN\n",
      "70.8 ms ± 4.03 ms per loop (mean ± std. dev. of 7 runs, 10 loops each)\n"
     ]
    }
   ],
   "source": [
    "print(portfolio['a'].positions.winning.returns)\n",
    "print(portfolio.positions.winning.returns)\n",
    "\n",
    "%timeit big_portfolio.positions.winning.returns"
   ]
  },
  {
   "cell_type": "code",
   "execution_count": 58,
   "metadata": {},
   "outputs": [
    {
     "name": "stdout",
     "output_type": "stream",
     "text": [
      "2020-01-01   NaN\n",
      "2020-01-02   NaN\n",
      "2020-01-03   NaN\n",
      "2020-01-04   NaN\n",
      "2020-01-05   NaN\n",
      "2020-01-06   NaN\n",
      "2020-01-07   NaN\n",
      "Name: a, dtype: float64\n",
      "             a         b         c         d\n",
      "2020-01-01 NaN       NaN       NaN       NaN\n",
      "2020-01-02 NaN       NaN       NaN       NaN\n",
      "2020-01-03 NaN       NaN       NaN       NaN\n",
      "2020-01-04 NaN -0.159830       NaN       NaN\n",
      "2020-01-05 NaN       NaN       NaN -0.019802\n",
      "2020-01-06 NaN -0.215842       NaN       NaN\n",
      "2020-01-07 NaN       NaN -0.009901 -0.009901\n",
      "70.9 ms ± 2.19 ms per loop (mean ± std. dev. of 7 runs, 10 loops each)\n"
     ]
    }
   ],
   "source": [
    "print(portfolio['a'].positions.losing.returns)\n",
    "print(portfolio.positions.losing.returns)\n",
    "\n",
    "%timeit big_portfolio.positions.losing.returns"
   ]
  },
  {
   "cell_type": "code",
   "execution_count": 59,
   "metadata": {},
   "outputs": [
    {
     "name": "stdout",
     "output_type": "stream",
     "text": [
      "0.3396039603960397\n",
      "a    0.339604\n",
      "b   -0.187836\n",
      "c    0.475248\n",
      "d   -0.014851\n",
      "dtype: float64\n",
      "36 ms ± 3.1 ms per loop (mean ± std. dev. of 7 runs, 10 loops each)\n"
     ]
    }
   ],
   "source": [
    "print(portfolio['a'].positions.avg_return)\n",
    "print(portfolio.positions.avg_return)\n",
    "\n",
    "%timeit big_portfolio.positions.avg_return"
   ]
  },
  {
   "cell_type": "code",
   "execution_count": 60,
   "metadata": {},
   "outputs": [
    {
     "name": "stdout",
     "output_type": "stream",
     "text": [
      "0.3396039603960397\n",
      "a    0.339604\n",
      "b         NaN\n",
      "c    0.960396\n",
      "d         NaN\n",
      "dtype: float64\n",
      "109 ms ± 33.7 ms per loop (mean ± std. dev. of 7 runs, 10 loops each)\n"
     ]
    }
   ],
   "source": [
    "print(portfolio['a'].positions.winning.avg_return)\n",
    "print(portfolio.positions.winning.avg_return)\n",
    "\n",
    "%timeit big_portfolio.positions.winning.avg_return"
   ]
  },
  {
   "cell_type": "code",
   "execution_count": 61,
   "metadata": {},
   "outputs": [
    {
     "name": "stdout",
     "output_type": "stream",
     "text": [
      "nan\n",
      "a         NaN\n",
      "b   -0.187836\n",
      "c   -0.009901\n",
      "d   -0.014851\n",
      "dtype: float64\n",
      "81.9 ms ± 11.6 ms per loop (mean ± std. dev. of 7 runs, 10 loops each)\n"
     ]
    }
   ],
   "source": [
    "print(portfolio['a'].positions.losing.avg_return)\n",
    "print(portfolio.positions.losing.avg_return)\n",
    "\n",
    "%timeit big_portfolio.positions.losing.avg_return"
   ]
  },
  {
   "cell_type": "code",
   "execution_count": 62,
   "metadata": {},
   "outputs": [
    {
     "name": "stdout",
     "output_type": "stream",
     "text": [
      "1.0\n",
      "a    1.0\n",
      "b    0.0\n",
      "c    0.5\n",
      "d    0.0\n",
      "dtype: float64\n",
      "66.8 ms ± 2.82 ms per loop (mean ± std. dev. of 7 runs, 10 loops each)\n"
     ]
    }
   ],
   "source": [
    "print(portfolio['a'].positions.win_rate)\n",
    "print(portfolio.positions.win_rate)\n",
    "\n",
    "%timeit big_portfolio.positions.win_rate"
   ]
  },
  {
   "cell_type": "code",
   "execution_count": 63,
   "metadata": {},
   "outputs": [
    {
     "name": "stdout",
     "output_type": "stream",
     "text": [
      "0.0\n",
      "a    0.0\n",
      "b    1.0\n",
      "c    0.5\n",
      "d    1.0\n",
      "dtype: float64\n",
      "94.7 ms ± 37.1 ms per loop (mean ± std. dev. of 7 runs, 10 loops each)\n"
     ]
    }
   ],
   "source": [
    "print(portfolio['a'].positions.loss_rate)\n",
    "print(portfolio.positions.loss_rate)\n",
    "\n",
    "%timeit big_portfolio.positions.loss_rate"
   ]
  },
  {
   "cell_type": "code",
   "execution_count": 64,
   "metadata": {},
   "outputs": [
    {
     "name": "stdout",
     "output_type": "stream",
     "text": [
      "inf\n",
      "a          inf\n",
      "b     0.000000\n",
      "c    49.479798\n",
      "d     0.000000\n",
      "dtype: float64\n"
     ]
    },
    {
     "name": "stderr",
     "output_type": "stream",
     "text": [
      "/Users/olegpolakow/Documents/SourceTree/vectorbt/vectorbt/portfolio/positions.py:260: RuntimeWarning:\n",
      "\n",
      "divide by zero encountered in true_divide\n",
      "\n"
     ]
    },
    {
     "name": "stdout",
     "output_type": "stream",
     "text": [
      "183 ms ± 26.6 ms per loop (mean ± std. dev. of 7 runs, 10 loops each)\n"
     ]
    }
   ],
   "source": [
    "print(portfolio['a'].positions.profit_factor)\n",
    "print(portfolio.positions.profit_factor)\n",
    "\n",
    "%timeit big_portfolio.positions.profit_factor"
   ]
  },
  {
   "cell_type": "code",
   "execution_count": 65,
   "metadata": {},
   "outputs": [
    {
     "name": "stdout",
     "output_type": "stream",
     "text": [
      "39.673561415547496\n",
      "a    39.673561\n",
      "b   -17.058692\n",
      "c    47.049309\n",
      "d    -1.475346\n",
      "dtype: float64\n",
      "294 ms ± 20.5 ms per loop (mean ± std. dev. of 7 runs, 1 loop each)\n"
     ]
    }
   ],
   "source": [
    "print(portfolio['a'].positions.expectancy)\n",
    "print(portfolio.positions.expectancy)\n",
    "\n",
    "%timeit big_portfolio.positions.expectancy"
   ]
  },
  {
   "cell_type": "markdown",
   "metadata": {},
   "source": [
    "### Equity"
   ]
  },
  {
   "cell_type": "code",
   "execution_count": 66,
   "metadata": {},
   "outputs": [
    {
     "name": "stdout",
     "output_type": "stream",
     "text": [
      "2020-01-01    100.000000\n",
      "2020-01-02    100.000000\n",
      "2020-01-03     99.009901\n",
      "2020-01-04    130.693069\n",
      "2020-01-05    129.399079\n",
      "2020-01-06    155.278894\n",
      "2020-01-07    179.347123\n",
      "Name: a, dtype: float64\n",
      "                     a           b           c           d\n",
      "2020-01-01  100.000000  100.000000   99.009901  100.000000\n",
      "2020-01-02  100.000000  100.000000  196.039604  100.000000\n",
      "2020-01-03   99.009901   99.009901  196.039604   99.009901\n",
      "2020-01-04  130.693069   84.016973  196.039604   49.504950\n",
      "2020-01-05  129.399079   83.185122  196.039604   98.019802\n",
      "2020-01-06  155.278894   65.882617  196.039604   98.019802\n",
      "2020-01-07  179.347123   65.882617  194.098618   97.049309\n",
      "5.05 ms ± 146 µs per loop (mean ± std. dev. of 7 runs, 100 loops each)\n"
     ]
    }
   ],
   "source": [
    "print(portfolio['a'].equity)\n",
    "print(portfolio.equity)\n",
    "\n",
    "%timeit big_portfolio.equity"
   ]
  },
  {
   "cell_type": "code",
   "execution_count": 67,
   "metadata": {},
   "outputs": [
    {
     "name": "stdout",
     "output_type": "stream",
     "text": [
      "79.34712283109499\n",
      "a    79.347123\n",
      "b   -34.117383\n",
      "c    94.098618\n",
      "d    -2.950691\n",
      "dtype: float64\n",
      "10.5 ms ± 5.71 ms per loop (mean ± std. dev. of 7 runs, 100 loops each)\n"
     ]
    }
   ],
   "source": [
    "print(portfolio['a'].total_profit)\n",
    "print(portfolio.total_profit)\n",
    "\n",
    "%timeit big_portfolio.total_profit"
   ]
  },
  {
   "cell_type": "markdown",
   "metadata": {},
   "source": [
    "### Returns"
   ]
  },
  {
   "cell_type": "code",
   "execution_count": 68,
   "metadata": {},
   "outputs": [
    {
     "name": "stdout",
     "output_type": "stream",
     "text": [
      "2020-01-01         NaN\n",
      "2020-01-02    0.000000\n",
      "2020-01-03   -0.009901\n",
      "2020-01-04    0.320000\n",
      "2020-01-05   -0.009901\n",
      "2020-01-06    0.200000\n",
      "2020-01-07    0.155000\n",
      "Name: a, dtype: float64\n",
      "                   a         b         c         d\n",
      "2020-01-01       NaN       NaN       NaN       NaN\n",
      "2020-01-02  0.000000  0.000000  0.980000  0.000000\n",
      "2020-01-03 -0.009901 -0.009901  0.000000 -0.009901\n",
      "2020-01-04  0.320000 -0.151429  0.000000 -0.500000\n",
      "2020-01-05 -0.009901 -0.009901  0.000000  0.980000\n",
      "2020-01-06  0.200000 -0.208000  0.000000  0.000000\n",
      "2020-01-07  0.155000  0.000000 -0.009901 -0.009901\n",
      "303 ms ± 17.1 ms per loop (mean ± std. dev. of 7 runs, 1 loop each)\n",
      "11.9 ms ± 598 µs per loop (mean ± std. dev. of 7 runs, 100 loops each)\n"
     ]
    }
   ],
   "source": [
    "print(portfolio['a'].returns)\n",
    "print(portfolio.returns)\n",
    "\n",
    "%timeit big_portfolio.equity.pct_change()\n",
    "%timeit big_portfolio.returns # numba helps a lot"
   ]
  },
  {
   "cell_type": "code",
   "execution_count": 69,
   "metadata": {},
   "outputs": [
    {
     "name": "stdout",
     "output_type": "stream",
     "text": [
      "2020-01-01         NaN\n",
      "2020-01-02    0.000000\n",
      "2020-01-03   -0.009901\n",
      "2020-01-04    0.320000\n",
      "2020-01-05   -0.009901\n",
      "2020-01-06    0.200000\n",
      "2020-01-07    0.155000\n",
      "Name: a, dtype: float64\n",
      "                   a         b         c         d\n",
      "2020-01-01       NaN       NaN       NaN       NaN\n",
      "2020-01-02  0.000000  0.000000  0.980000  0.000000\n",
      "2020-01-03 -0.009901 -0.009901  0.000000 -0.009901\n",
      "2020-01-04  0.320000 -0.151429  0.000000 -0.500000\n",
      "2020-01-05 -0.009901 -0.009901  0.000000  0.980000\n",
      "2020-01-06  0.200000 -0.208000  0.000000  0.000000\n",
      "2020-01-07  0.155000  0.000000 -0.009901 -0.009901\n",
      "23.2 ms ± 616 µs per loop (mean ± std. dev. of 7 runs, 10 loops each)\n"
     ]
    }
   ],
   "source": [
    "print(portfolio['a'].daily_returns)\n",
    "print(portfolio.daily_returns)\n",
    "\n",
    "%timeit big_portfolio.daily_returns"
   ]
  },
  {
   "cell_type": "code",
   "execution_count": 70,
   "metadata": {},
   "outputs": [
    {
     "name": "stdout",
     "output_type": "stream",
     "text": [
      "2020-12-31    0.793471\n",
      "Freq: A-DEC, Name: a, dtype: float64\n",
      "                   a         b         c         d\n",
      "2020-12-31  0.793471 -0.341174  0.960396 -0.029507\n",
      "35.7 ms ± 1.01 ms per loop (mean ± std. dev. of 7 runs, 10 loops each)\n"
     ]
    }
   ],
   "source": [
    "print(portfolio['a'].annual_returns)\n",
    "print(portfolio.annual_returns)\n",
    "\n",
    "%timeit big_portfolio.annual_returns"
   ]
  },
  {
   "cell_type": "code",
   "execution_count": 71,
   "metadata": {},
   "outputs": [
    {
     "name": "stdout",
     "output_type": "stream",
     "text": [
      "0.79347122831095\n",
      "a    0.793471\n",
      "b   -0.341174\n",
      "c    0.940986\n",
      "d   -0.029507\n",
      "dtype: float64\n",
      "6.97 ms ± 749 µs per loop (mean ± std. dev. of 7 runs, 100 loops each)\n"
     ]
    }
   ],
   "source": [
    "print(portfolio['a'].total_return)\n",
    "print(portfolio.total_return)\n",
    "\n",
    "%timeit big_portfolio.total_return"
   ]
  },
  {
   "cell_type": "markdown",
   "metadata": {},
   "source": [
    "### Trades"
   ]
  },
  {
   "cell_type": "code",
   "execution_count": 72,
   "metadata": {},
   "outputs": [
    {
     "name": "stdout",
     "output_type": "stream",
     "text": [
      "2020-01-01     0.000000\n",
      "2020-01-02     0.000000\n",
      "2020-01-03    33.003300\n",
      "2020-01-04   -33.003300\n",
      "2020-01-05    25.879816\n",
      "2020-01-06     0.000000\n",
      "2020-01-07   -25.879816\n",
      "Name: a, dtype: float64\n",
      "                    a          b           c          d\n",
      "2020-01-01   0.000000   0.000000   99.009901   0.000000\n",
      "2020-01-02   0.000000   0.000000  -99.009901   0.000000\n",
      "2020-01-03  33.003300  14.144272    0.000000  49.504950\n",
      "2020-01-04 -33.003300 -14.144272    0.000000   0.000000\n",
      "2020-01-05  25.879816  16.637024    0.000000 -49.504950\n",
      "2020-01-06   0.000000 -16.637024    0.000000   0.000000\n",
      "2020-01-07 -25.879816   0.000000  194.098618  24.262327\n",
      "9.08 ms ± 202 µs per loop (mean ± std. dev. of 7 runs, 100 loops each)\n"
     ]
    }
   ],
   "source": [
    "print(portfolio['a'].trades)\n",
    "print(portfolio.trades)\n",
    "\n",
    "%timeit big_portfolio.trades"
   ]
  },
  {
   "cell_type": "code",
   "execution_count": 73,
   "metadata": {},
   "outputs": [
    {
     "data": {
      "image/png": "[encoded data removed]"
     },
     "metadata": {},
     "output_type": "display_data"
    }
   ],
   "source": [
    "portfolio['a'].plot_trades().show_png()"
   ]
  },
  {
   "cell_type": "code",
   "execution_count": 74,
   "metadata": {},
   "outputs": [
    {
     "name": "stdout",
     "output_type": "stream",
     "text": [
      "2\n",
      "a    2\n",
      "b    2\n",
      "c    2\n",
      "d    2\n",
      "dtype: int64\n",
      "13.2 ms ± 483 µs per loop (mean ± std. dev. of 7 runs, 100 loops each)\n"
     ]
    }
   ],
   "source": [
    "print(portfolio['a'].trade_count)\n",
    "print(portfolio.trade_count)\n",
    "\n",
    "%timeit big_portfolio.trade_count"
   ]
  },
  {
   "cell_type": "markdown",
   "metadata": {},
   "source": [
    "### Drawdown"
   ]
  },
  {
   "cell_type": "code",
   "execution_count": 75,
   "metadata": {},
   "outputs": [
    {
     "name": "stdout",
     "output_type": "stream",
     "text": [
      "2020-01-01    0.000000\n",
      "2020-01-02    0.000000\n",
      "2020-01-03    0.009901\n",
      "2020-01-04    0.000000\n",
      "2020-01-05    0.009901\n",
      "2020-01-06    0.000000\n",
      "2020-01-07    0.000000\n",
      "Name: a, dtype: float64\n",
      "                   a         b         c         d\n",
      "2020-01-01  0.000000  0.000000  0.000000  0.000000\n",
      "2020-01-02  0.000000  0.000000  0.000000  0.000000\n",
      "2020-01-03  0.009901  0.009901  0.000000  0.009901\n",
      "2020-01-04  0.000000  0.159830  0.000000  0.504950\n",
      "2020-01-05  0.009901  0.168149  0.000000  0.019802\n",
      "2020-01-06  0.000000  0.341174  0.000000  0.019802\n",
      "2020-01-07  0.000000  0.341174  0.009901  0.029507\n",
      "20.8 ms ± 1.2 ms per loop (mean ± std. dev. of 7 runs, 10 loops each)\n"
     ]
    }
   ],
   "source": [
    "print(portfolio['a'].drawdown)\n",
    "print(portfolio.drawdown)\n",
    "\n",
    "%timeit big_portfolio.drawdown"
   ]
  },
  {
   "cell_type": "code",
   "execution_count": 76,
   "metadata": {},
   "outputs": [
    {
     "name": "stdout",
     "output_type": "stream",
     "text": [
      "0.00990099009901002\n",
      "a    0.009901\n",
      "b    0.341174\n",
      "c    0.009901\n",
      "d    0.504950\n",
      "dtype: float64\n",
      "24.8 ms ± 2.29 ms per loop (mean ± std. dev. of 7 runs, 10 loops each)\n"
     ]
    }
   ],
   "source": [
    "print(portfolio['a'].max_drawdown)\n",
    "print(portfolio.max_drawdown)\n",
    "\n",
    "%timeit big_portfolio.max_drawdown"
   ]
  },
  {
   "cell_type": "markdown",
   "metadata": {},
   "source": [
    "### Costs"
   ]
  },
  {
   "cell_type": "code",
   "execution_count": 77,
   "metadata": {},
   "outputs": [
    {
     "name": "stdout",
     "output_type": "stream",
     "text": [
      "5.415808907623429\n",
      "a    5.415809\n",
      "b    3.336087\n",
      "c    4.911283\n",
      "d    2.950691\n",
      "dtype: float64\n",
      "994 µs ± 23.4 µs per loop (mean ± std. dev. of 7 runs, 1000 loops each)\n"
     ]
    }
   ],
   "source": [
    "print(portfolio['a'].total_fees_paid)\n",
    "print(portfolio.total_fees_paid)\n",
    "\n",
    "%timeit big_portfolio.total_fees_paid"
   ]
  },
  {
   "cell_type": "code",
   "execution_count": 78,
   "metadata": {},
   "outputs": [
    {
     "name": "stdout",
     "output_type": "stream",
     "text": [
      "0.0\n",
      "a    0.0\n",
      "b    0.0\n",
      "c    0.0\n",
      "d    0.0\n",
      "dtype: float64\n",
      "1.03 ms ± 51.8 µs per loop (mean ± std. dev. of 7 runs, 1000 loops each)\n"
     ]
    }
   ],
   "source": [
    "print(portfolio['a'].total_slippage_paid)\n",
    "print(portfolio.total_slippage_paid)\n",
    "\n",
    "%timeit big_portfolio.total_slippage_paid"
   ]
  },
  {
   "cell_type": "code",
   "execution_count": 79,
   "metadata": {},
   "outputs": [
    {
     "name": "stdout",
     "output_type": "stream",
     "text": [
      "5.415808907623429\n",
      "a    5.415809\n",
      "b    3.336087\n",
      "c    4.911283\n",
      "d    2.950691\n",
      "dtype: float64\n",
      "2.33 ms ± 128 µs per loop (mean ± std. dev. of 7 runs, 100 loops each)\n"
     ]
    }
   ],
   "source": [
    "print(portfolio['a'].total_costs)\n",
    "print(portfolio.total_costs)\n",
    "\n",
    "%timeit big_portfolio.total_costs"
   ]
  },
  {
   "cell_type": "markdown",
   "metadata": {},
   "source": [
    "### Financial risk and performance metrics"
   ]
  },
  {
   "cell_type": "code",
   "execution_count": 80,
   "metadata": {
    "Collapsed": "false"
   },
   "outputs": [
    {
     "name": "stdout",
     "output_type": "stream",
     "text": [
      "[ 0.          0.         -0.00990099  0.30693069  0.29399079  0.55278894\n",
      "  0.79347123]\n",
      "2020-01-01         NaN\n",
      "2020-01-02    0.000000\n",
      "2020-01-03   -0.009901\n",
      "2020-01-04    0.306931\n",
      "2020-01-05    0.293991\n",
      "2020-01-06    0.552789\n",
      "2020-01-07    0.793471\n",
      "Name: a, dtype: float64\n",
      "                   a         b         c         d\n",
      "2020-01-01       NaN       NaN       NaN       NaN\n",
      "2020-01-02  0.000000  0.000000  0.980000  0.000000\n",
      "2020-01-03 -0.009901 -0.009901  0.980000 -0.009901\n",
      "2020-01-04  0.306931 -0.159830  0.980000 -0.504950\n",
      "2020-01-05  0.293991 -0.168149  0.980000 -0.019802\n",
      "2020-01-06  0.552789 -0.341174  0.980000 -0.019802\n",
      "2020-01-07  0.793471 -0.341174  0.960396 -0.029507\n",
      "25.3 ms ± 2.46 ms per loop (mean ± std. dev. of 7 runs, 10 loops each)\n"
     ]
    }
   ],
   "source": [
    "import empyrical\n",
    "\n",
    "print(empyrical.cum_returns(portfolio['a'].returns.values))\n",
    "\n",
    "print(portfolio['a'].cum_returns)\n",
    "print(portfolio.cum_returns)\n",
    "\n",
    "%timeit big_portfolio.cum_returns"
   ]
  },
  {
   "cell_type": "code",
   "execution_count": 81,
   "metadata": {},
   "outputs": [
    {
     "name": "stdout",
     "output_type": "stream",
     "text": [
      "17263954475534.926\n",
      "17263954475534.998\n",
      "a    1.726395e+13\n",
      "b   -1.000000e+00\n",
      "c    1.793781e+15\n",
      "d   -7.904448e-01\n",
      "dtype: float64\n",
      "35.4 ms ± 13.4 ms per loop (mean ± std. dev. of 7 runs, 100 loops each)\n"
     ]
    }
   ],
   "source": [
    "print(empyrical.annual_return(portfolio['a'].returns.values, annualization=portfolio.ann_factor))\n",
    "\n",
    "print(portfolio['a'].annualized_return)\n",
    "print(portfolio.annualized_return)\n",
    "\n",
    "%timeit big_portfolio.annualized_return"
   ]
  },
  {
   "cell_type": "code",
   "execution_count": 82,
   "metadata": {},
   "outputs": [
    {
     "name": "stdout",
     "output_type": "stream",
     "text": [
      "2.6353344465311017\n",
      "2.6353344465311017\n",
      "a    2.635334\n",
      "b    1.760346\n",
      "c    7.661944\n",
      "d    9.265734\n",
      "dtype: float64\n",
      "21.3 ms ± 2.71 ms per loop (mean ± std. dev. of 7 runs, 10 loops each)\n"
     ]
    }
   ],
   "source": [
    "print(empyrical.annual_volatility(portfolio['a'].returns.values, annualization=portfolio.ann_factor))\n",
    "\n",
    "print(portfolio['a'].annualized_volatility)\n",
    "print(portfolio.annualized_volatility)\n",
    "\n",
    "%timeit big_portfolio.annualized_volatility"
   ]
  },
  {
   "cell_type": "code",
   "execution_count": 83,
   "metadata": {},
   "outputs": [
    {
     "name": "stdout",
     "output_type": "stream",
     "text": [
      "1743659402029012.0\n",
      "1743659402029013.8\n",
      "a    1.743659e+15\n",
      "b   -2.931057e+00\n",
      "c    1.811719e+17\n",
      "d   -1.565391e+00\n",
      "dtype: float64\n",
      "75.9 ms ± 17.1 ms per loop (mean ± std. dev. of 7 runs, 10 loops each)\n"
     ]
    }
   ],
   "source": [
    "print(empyrical.calmar_ratio(portfolio['a'].returns.values, annualization=portfolio.ann_factor))\n",
    "\n",
    "print(portfolio['a'].calmar_ratio)\n",
    "print(portfolio.calmar_ratio)\n",
    "\n",
    "%timeit big_portfolio.calmar_ratio"
   ]
  },
  {
   "cell_type": "code",
   "execution_count": 84,
   "metadata": {},
   "outputs": [
    {
     "name": "stdout",
     "output_type": "stream",
     "text": [
      "12.73535420662537\n"
     ]
    },
    {
     "name": "stderr",
     "output_type": "stream",
     "text": [
      "/Users/olegpolakow/miniconda3/lib/python3.7/site-packages/empyrical/stats.py:641: RuntimeWarning:\n",
      "\n",
      "invalid value encountered in greater\n",
      "\n",
      "/Users/olegpolakow/miniconda3/lib/python3.7/site-packages/empyrical/stats.py:642: RuntimeWarning:\n",
      "\n",
      "invalid value encountered in less\n",
      "\n"
     ]
    },
    {
     "name": "stdout",
     "output_type": "stream",
     "text": [
      "12.73535420662537\n",
      "a    12.735354\n",
      "b     0.000000\n",
      "c    15.843878\n",
      "d     1.697999\n",
      "dtype: float64\n",
      "27.5 ms ± 4.36 ms per loop (mean ± std. dev. of 7 runs, 10 loops each)\n"
     ]
    }
   ],
   "source": [
    "print(empyrical.omega_ratio(portfolio['a'].returns.values, \n",
    "    annualization=portfolio.ann_factor, risk_free=portfolio.risk_free, required_return=portfolio.required_return))\n",
    "\n",
    "print(portfolio['a'].omega_ratio)\n",
    "print(portfolio.omega_ratio)\n",
    "\n",
    "%timeit big_portfolio.omega_ratio"
   ]
  },
  {
   "cell_type": "code",
   "execution_count": 85,
   "metadata": {},
   "outputs": [
    {
     "name": "stdout",
     "output_type": "stream",
     "text": [
      "13.748515109956147\n",
      "13.748515109956147\n",
      "a    13.748515\n",
      "b   -15.188840\n",
      "c     7.230690\n",
      "d     2.629209\n",
      "dtype: float64\n",
      "The slowest run took 6.88 times longer than the fastest. This could mean that an intermediate result is being cached.\n",
      "50.1 ms ± 43.7 ms per loop (mean ± std. dev. of 7 runs, 10 loops each)\n"
     ]
    }
   ],
   "source": [
    "print(empyrical.sharpe_ratio(portfolio['a'].returns.values, \n",
    "    annualization=portfolio.ann_factor, risk_free=portfolio.risk_free))\n",
    "\n",
    "print(portfolio['a'].sharpe_ratio)\n",
    "print(portfolio.sharpe_ratio)\n",
    "\n",
    "%timeit big_portfolio.sharpe_ratio"
   ]
  },
  {
   "cell_type": "code",
   "execution_count": 86,
   "metadata": {},
   "outputs": [
    {
     "name": "stdout",
     "output_type": "stream",
     "text": [
      "1.4419540622860902\n",
      "1.4419540622860902\n",
      "a    1.441954\n",
      "b    3.508691\n",
      "c    1.780505\n",
      "d    4.960093\n",
      "dtype: float64\n",
      "The slowest run took 4.02 times longer than the fastest. This could mean that an intermediate result is being cached.\n",
      "29 ms ± 18.9 ms per loop (mean ± std. dev. of 7 runs, 10 loops each)\n"
     ]
    }
   ],
   "source": [
    "print(empyrical.downside_risk(portfolio['a'].returns.values, \n",
    "    annualization=portfolio.ann_factor, required_return=portfolio.required_return))\n",
    "\n",
    "print(portfolio['a'].downside_risk)\n",
    "print(portfolio.downside_risk)\n",
    "\n",
    "%timeit big_portfolio.downside_risk"
   ]
  },
  {
   "cell_type": "code",
   "execution_count": 87,
   "metadata": {},
   "outputs": [
    {
     "name": "stdout",
     "output_type": "stream",
     "text": [
      "2.3302479224571235\n",
      "2.3302479224571235\n",
      "a     2.330248\n",
      "b   -16.989082\n",
      "c    12.653331\n",
      "d    -1.715748\n",
      "dtype: float64\n",
      "42 ms ± 4.97 ms per loop (mean ± std. dev. of 7 runs, 10 loops each)\n"
     ]
    }
   ],
   "source": [
    "print(empyrical.sortino_ratio(portfolio['a'].returns.values, \n",
    "    annualization=portfolio.ann_factor, required_return=portfolio.required_return))\n",
    "\n",
    "print(portfolio['a'].sortino_ratio)\n",
    "print(portfolio.sortino_ratio)\n",
    "\n",
    "%timeit big_portfolio.sortino_ratio"
   ]
  },
  {
   "cell_type": "code",
   "execution_count": 88,
   "metadata": {},
   "outputs": [
    {
     "name": "stdout",
     "output_type": "stream",
     "text": [
      "-1.0206278539385194\n",
      "-1.0206278539385196\n",
      "a   -1.020628\n",
      "b   -2.311441\n",
      "c   -0.413047\n",
      "d   -0.846050\n",
      "dtype: float64\n",
      "46.9 ms ± 8.75 ms per loop (mean ± std. dev. of 7 runs, 1 loop each)\n"
     ]
    }
   ],
   "source": [
    "print(empyrical.excess_sharpe(portfolio['a'].returns.values, portfolio['a'].factor_returns))\n",
    "\n",
    "print(portfolio['a'].information_ratio)\n",
    "print(portfolio.information_ratio)\n",
    "\n",
    "%timeit big_portfolio.information_ratio"
   ]
  },
  {
   "cell_type": "code",
   "execution_count": 89,
   "metadata": {},
   "outputs": [
    {
     "name": "stdout",
     "output_type": "stream",
     "text": [
      "nan\n",
      "0.016075990416083683\n",
      "a    0.016076\n",
      "b   -0.052066\n",
      "c    0.275825\n",
      "d    0.222094\n",
      "dtype: float64\n",
      "30.3 ms ± 1.91 ms per loop (mean ± std. dev. of 7 runs, 1 loop each)\n"
     ]
    }
   ],
   "source": [
    "print(empyrical.beta(portfolio['a'].returns.values, \n",
    "    portfolio['a'].factor_returns, risk_free=portfolio.risk_free))\n",
    "\n",
    "print(portfolio['a'].beta)\n",
    "print(portfolio.beta)\n",
    "\n",
    "%timeit big_portfolio.beta"
   ]
  },
  {
   "cell_type": "code",
   "execution_count": 90,
   "metadata": {},
   "outputs": [
    {
     "name": "stdout",
     "output_type": "stream",
     "text": [
      "nan\n",
      "74440604878326.83\n",
      "a    7.444060e+13\n",
      "b   -9.999999e-01\n",
      "c    2.760911e+09\n",
      "d   -1.000000e+00\n",
      "dtype: float64\n",
      "The slowest run took 5.25 times longer than the fastest. This could mean that an intermediate result is being cached.\n",
      "126 ms ± 78.8 ms per loop (mean ± std. dev. of 7 runs, 1 loop each)\n"
     ]
    }
   ],
   "source": [
    "print(empyrical.alpha(portfolio['a'].returns.values,\n",
    "    portfolio['a'].factor_returns, risk_free=portfolio.risk_free))\n",
    "\n",
    "print(portfolio['a'].alpha)\n",
    "print(portfolio.alpha)\n",
    "\n",
    "%timeit big_portfolio.alpha"
   ]
  },
  {
   "cell_type": "code",
   "execution_count": 91,
   "metadata": {},
   "outputs": [
    {
     "name": "stdout",
     "output_type": "stream",
     "text": [
      "29.289999999999875\n",
      "29.289999999999875\n",
      "a    29.290000\n",
      "b     0.000000\n",
      "c    98.980000\n",
      "d     1.947148\n",
      "dtype: float64\n",
      "58.5 ms ± 22.2 ms per loop (mean ± std. dev. of 7 runs, 10 loops each)\n"
     ]
    }
   ],
   "source": [
    "print(empyrical.tail_ratio(portfolio['a'].returns.values))\n",
    "\n",
    "print(portfolio['a'].tail_ratio)\n",
    "print(portfolio.tail_ratio)\n",
    "\n",
    "%timeit big_portfolio.tail_ratio"
   ]
  },
  {
   "cell_type": "code",
   "execution_count": 92,
   "metadata": {},
   "outputs": [
    {
     "name": "stdout",
     "output_type": "stream",
     "text": [
      "-0.009900990099009903\n",
      "-0.009900990099009905\n",
      "a   -0.009901\n",
      "b   -0.188200\n",
      "c   -0.006436\n",
      "d   -0.328465\n",
      "dtype: float64\n",
      "The slowest run took 4.46 times longer than the fastest. This could mean that an intermediate result is being cached.\n",
      "65.7 ms ± 35 ms per loop (mean ± std. dev. of 7 runs, 10 loops each)\n"
     ]
    }
   ],
   "source": [
    "print(empyrical.value_at_risk(portfolio['a'].returns.values[1:], cutoff=portfolio.cutoff))\n",
    "\n",
    "print(portfolio['a'].value_at_risk)\n",
    "print(portfolio.value_at_risk)\n",
    "\n",
    "%timeit big_portfolio.value_at_risk"
   ]
  },
  {
   "cell_type": "code",
   "execution_count": 93,
   "metadata": {},
   "outputs": [
    {
     "name": "stdout",
     "output_type": "stream",
     "text": [
      "-0.00990099009901002\n",
      "-0.00990099009901002\n",
      "a   -0.009901\n",
      "b   -0.208000\n",
      "c   -0.009901\n",
      "d   -0.500000\n",
      "dtype: float64\n",
      "64.6 ms ± 24 ms per loop (mean ± std. dev. of 7 runs, 10 loops each)\n"
     ]
    }
   ],
   "source": [
    "print(empyrical.conditional_value_at_risk(portfolio['a'].returns.values, cutoff=portfolio.cutoff))\n",
    "\n",
    "print(portfolio['a'].conditional_value_at_risk)\n",
    "print(portfolio.conditional_value_at_risk)\n",
    "\n",
    "%timeit big_portfolio.conditional_value_at_risk"
   ]
  },
  {
   "cell_type": "code",
   "execution_count": 94,
   "metadata": {},
   "outputs": [
    {
     "name": "stdout",
     "output_type": "stream",
     "text": [
      "3.0103257359682125e-45\n",
      "a    3.010326e-45\n",
      "b   -1.245903e-77\n",
      "c    2.714835e-32\n",
      "d   -3.904461e-60\n",
      "dtype: float64\n",
      "24 ms ± 2.27 ms per loop (mean ± std. dev. of 7 runs, 1 loop each)\n"
     ]
    }
   ],
   "source": [
    "print(portfolio['a'].capture)\n",
    "print(portfolio.capture)\n",
    "\n",
    "%timeit big_portfolio.capture"
   ]
  },
  {
   "cell_type": "code",
   "execution_count": 95,
   "metadata": {},
   "outputs": [
    {
     "name": "stdout",
     "output_type": "stream",
     "text": [
      "3.0103257359682125e-45\n",
      "a    3.010326e-45\n",
      "b   -1.245903e-77\n",
      "c    2.714835e-32\n",
      "d   -3.904461e-60\n",
      "dtype: float64\n",
      "78.7 ms ± 24.4 ms per loop (mean ± std. dev. of 7 runs, 1 loop each)\n"
     ]
    }
   ],
   "source": [
    "print(portfolio['a'].up_capture)\n",
    "print(portfolio.up_capture)\n",
    "\n",
    "%timeit big_portfolio.up_capture"
   ]
  },
  {
   "cell_type": "code",
   "execution_count": 96,
   "metadata": {},
   "outputs": [
    {
     "name": "stdout",
     "output_type": "stream",
     "text": [
      "nan\n",
      "a   NaN\n",
      "b   NaN\n",
      "c   NaN\n",
      "d   NaN\n",
      "dtype: float64\n",
      "21.5 ms ± 1.75 ms per loop (mean ± std. dev. of 7 runs, 1 loop each)\n"
     ]
    }
   ],
   "source": [
    "print(portfolio['a'].down_capture)\n",
    "print(portfolio.down_capture)\n",
    "\n",
    "%timeit big_portfolio.down_capture"
   ]
  },
  {
   "cell_type": "code",
   "execution_count": 97,
   "metadata": {},
   "outputs": [
    {
     "name": "stdout",
     "output_type": "stream",
     "text": [
      "0.4621519716150829\n",
      "a    0.462152\n",
      "b   -0.817071\n",
      "c    1.788460\n",
      "d    1.043977\n",
      "dtype: float64\n",
      "150 ms ± 25.7 ms per loop (mean ± std. dev. of 7 runs, 10 loops each)\n"
     ]
    }
   ],
   "source": [
    "print(portfolio['a'].skew)\n",
    "print(portfolio.skew)\n",
    "\n",
    "%timeit big_portfolio.skew"
   ]
  },
  {
   "cell_type": "code",
   "execution_count": 98,
   "metadata": {},
   "outputs": [
    {
     "name": "stdout",
     "output_type": "stream",
     "text": [
      "-1.2797047692491799\n",
      "a   -1.279705\n",
      "b   -1.172231\n",
      "c    1.199300\n",
      "d    0.373144\n",
      "dtype: float64\n",
      "145 ms ± 3.35 ms per loop (mean ± std. dev. of 7 runs, 10 loops each)\n"
     ]
    }
   ],
   "source": [
    "print(portfolio['a'].kurtosis)\n",
    "print(portfolio.kurtosis)\n",
    "\n",
    "%timeit big_portfolio.kurtosis"
   ]
  },
  {
   "cell_type": "markdown",
   "metadata": {},
   "source": [
    "## Property traversal"
   ]
  },
  {
   "cell_type": "code",
   "execution_count": 13,
   "metadata": {},
   "outputs": [
    {
     "data": {
      "text/plain": [
       "{'annual_returns': {'property_cls': vectorbt.portfolio.props.timeseries_property,\n",
       "  'name': 'Annual returns',\n",
       "  'format': '%'},\n",
       " 'cash': {'property_cls': vectorbt.portfolio.props.timeseries_property,\n",
       "  'name': 'Cash',\n",
       "  'format': '$'},\n",
       " 'cum_returns': {'property_cls': vectorbt.portfolio.props.timeseries_property,\n",
       "  'name': 'Cumulative returns',\n",
       "  'format': '%'},\n",
       " 'daily_returns': {'property_cls': vectorbt.portfolio.props.timeseries_property,\n",
       "  'name': 'Daily returns',\n",
       "  'format': '%'},\n",
       " 'drawdown': {'property_cls': vectorbt.portfolio.props.timeseries_property,\n",
       "  'name': 'Drawdown',\n",
       "  'format': '%'},\n",
       " 'equity': {'property_cls': vectorbt.portfolio.props.timeseries_property,\n",
       "  'name': 'Equity',\n",
       "  'format': '$'},\n",
       " 'fees_paid': {'property_cls': vectorbt.portfolio.props.timeseries_property,\n",
       "  'name': 'Paid fees',\n",
       "  'format': '$'},\n",
       " 'positions': {'property_cls': vectorbt.portfolio.props.group_property,\n",
       "  'name': 'Positions',\n",
       "  'cls': vectorbt.portfolio.positions.Positions,\n",
       "  'children': {'closed': {'property_cls': vectorbt.portfolio.props.group_property,\n",
       "    'name': 'Closed',\n",
       "    'cls': vectorbt.portfolio.positions.PnLPositions,\n",
       "    'children': {'duration': {'property_cls': vectorbt.portfolio.props.timeseries_property,\n",
       "      'name': 'Duration',\n",
       "      'format': ''},\n",
       "     'losing': {'property_cls': vectorbt.portfolio.props.group_property,\n",
       "      'name': 'Losing',\n",
       "      'cls': vectorbt.portfolio.positions.BasePositions,\n",
       "      'children': {'duration': {'property_cls': vectorbt.portfolio.props.timeseries_property,\n",
       "        'name': 'Duration',\n",
       "        'format': ''},\n",
       "       'pnl': {'property_cls': vectorbt.portfolio.props.timeseries_property,\n",
       "        'name': 'P/L',\n",
       "        'format': '$'},\n",
       "       'returns': {'property_cls': vectorbt.portfolio.props.timeseries_property,\n",
       "        'name': 'Returns',\n",
       "        'format': '%'},\n",
       "       'status': {'property_cls': vectorbt.portfolio.props.timeseries_property,\n",
       "        'name': 'Status',\n",
       "        'format': 'nominal'}}},\n",
       "     'pnl': {'property_cls': vectorbt.portfolio.props.timeseries_property,\n",
       "      'name': 'P/L',\n",
       "      'format': '$'},\n",
       "     'returns': {'property_cls': vectorbt.portfolio.props.timeseries_property,\n",
       "      'name': 'Returns',\n",
       "      'format': '%'},\n",
       "     'status': {'property_cls': vectorbt.portfolio.props.timeseries_property,\n",
       "      'name': 'Status',\n",
       "      'format': 'nominal'},\n",
       "     'winning': {'property_cls': vectorbt.portfolio.props.group_property,\n",
       "      'name': 'Winning',\n",
       "      'cls': vectorbt.portfolio.positions.BasePositions,\n",
       "      'children': {'duration': {'property_cls': vectorbt.portfolio.props.timeseries_property,\n",
       "        'name': 'Duration',\n",
       "        'format': ''},\n",
       "       'pnl': {'property_cls': vectorbt.portfolio.props.timeseries_property,\n",
       "        'name': 'P/L',\n",
       "        'format': '$'},\n",
       "       'returns': {'property_cls': vectorbt.portfolio.props.timeseries_property,\n",
       "        'name': 'Returns',\n",
       "        'format': '%'},\n",
       "       'status': {'property_cls': vectorbt.portfolio.props.timeseries_property,\n",
       "        'name': 'Status',\n",
       "        'format': 'nominal'}}}}},\n",
       "   'duration': {'property_cls': vectorbt.portfolio.props.timeseries_property,\n",
       "    'name': 'Duration',\n",
       "    'format': ''},\n",
       "   'losing': {'property_cls': vectorbt.portfolio.props.group_property,\n",
       "    'name': 'Losing',\n",
       "    'cls': vectorbt.portfolio.positions.BasePositions,\n",
       "    'children': {'duration': {'property_cls': vectorbt.portfolio.props.timeseries_property,\n",
       "      'name': 'Duration',\n",
       "      'format': ''},\n",
       "     'pnl': {'property_cls': vectorbt.portfolio.props.timeseries_property,\n",
       "      'name': 'P/L',\n",
       "      'format': '$'},\n",
       "     'returns': {'property_cls': vectorbt.portfolio.props.timeseries_property,\n",
       "      'name': 'Returns',\n",
       "      'format': '%'},\n",
       "     'status': {'property_cls': vectorbt.portfolio.props.timeseries_property,\n",
       "      'name': 'Status',\n",
       "      'format': 'nominal'}}},\n",
       "   'open': {'property_cls': vectorbt.portfolio.props.group_property,\n",
       "    'name': 'Open',\n",
       "    'cls': vectorbt.portfolio.positions.PnLPositions,\n",
       "    'children': {'duration': {'property_cls': vectorbt.portfolio.props.timeseries_property,\n",
       "      'name': 'Duration',\n",
       "      'format': ''},\n",
       "     'losing': {'property_cls': vectorbt.portfolio.props.group_property,\n",
       "      'name': 'Losing',\n",
       "      'cls': vectorbt.portfolio.positions.BasePositions,\n",
       "      'children': {'duration': {'property_cls': vectorbt.portfolio.props.timeseries_property,\n",
       "        'name': 'Duration',\n",
       "        'format': ''},\n",
       "       'pnl': {'property_cls': vectorbt.portfolio.props.timeseries_property,\n",
       "        'name': 'P/L',\n",
       "        'format': '$'},\n",
       "       'returns': {'property_cls': vectorbt.portfolio.props.timeseries_property,\n",
       "        'name': 'Returns',\n",
       "        'format': '%'},\n",
       "       'status': {'property_cls': vectorbt.portfolio.props.timeseries_property,\n",
       "        'name': 'Status',\n",
       "        'format': 'nominal'}}},\n",
       "     'pnl': {'property_cls': vectorbt.portfolio.props.timeseries_property,\n",
       "      'name': 'P/L',\n",
       "      'format': '$'},\n",
       "     'returns': {'property_cls': vectorbt.portfolio.props.timeseries_property,\n",
       "      'name': 'Returns',\n",
       "      'format': '%'},\n",
       "     'status': {'property_cls': vectorbt.portfolio.props.timeseries_property,\n",
       "      'name': 'Status',\n",
       "      'format': 'nominal'},\n",
       "     'winning': {'property_cls': vectorbt.portfolio.props.group_property,\n",
       "      'name': 'Winning',\n",
       "      'cls': vectorbt.portfolio.positions.BasePositions,\n",
       "      'children': {'duration': {'property_cls': vectorbt.portfolio.props.timeseries_property,\n",
       "        'name': 'Duration',\n",
       "        'format': ''},\n",
       "       'pnl': {'property_cls': vectorbt.portfolio.props.timeseries_property,\n",
       "        'name': 'P/L',\n",
       "        'format': '$'},\n",
       "       'returns': {'property_cls': vectorbt.portfolio.props.timeseries_property,\n",
       "        'name': 'Returns',\n",
       "        'format': '%'},\n",
       "       'status': {'property_cls': vectorbt.portfolio.props.timeseries_property,\n",
       "        'name': 'Status',\n",
       "        'format': 'nominal'}}}}},\n",
       "   'pnl': {'property_cls': vectorbt.portfolio.props.timeseries_property,\n",
       "    'name': 'P/L',\n",
       "    'format': '$'},\n",
       "   'returns': {'property_cls': vectorbt.portfolio.props.timeseries_property,\n",
       "    'name': 'Returns',\n",
       "    'format': '%'},\n",
       "   'status': {'property_cls': vectorbt.portfolio.props.timeseries_property,\n",
       "    'name': 'Status',\n",
       "    'format': 'nominal'},\n",
       "   'winning': {'property_cls': vectorbt.portfolio.props.group_property,\n",
       "    'name': 'Winning',\n",
       "    'cls': vectorbt.portfolio.positions.BasePositions,\n",
       "    'children': {'duration': {'property_cls': vectorbt.portfolio.props.timeseries_property,\n",
       "      'name': 'Duration',\n",
       "      'format': ''},\n",
       "     'pnl': {'property_cls': vectorbt.portfolio.props.timeseries_property,\n",
       "      'name': 'P/L',\n",
       "      'format': '$'},\n",
       "     'returns': {'property_cls': vectorbt.portfolio.props.timeseries_property,\n",
       "      'name': 'Returns',\n",
       "      'format': '%'},\n",
       "     'status': {'property_cls': vectorbt.portfolio.props.timeseries_property,\n",
       "      'name': 'Status',\n",
       "      'format': 'nominal'}}}}},\n",
       " 'price': {'property_cls': vectorbt.portfolio.props.timeseries_property,\n",
       "  'name': 'Price',\n",
       "  'format': '$'},\n",
       " 'returns': {'property_cls': vectorbt.portfolio.props.timeseries_property,\n",
       "  'name': 'Returns',\n",
       "  'format': '%'},\n",
       " 'shares': {'property_cls': vectorbt.portfolio.props.timeseries_property,\n",
       "  'name': 'Shares',\n",
       "  'format': ''},\n",
       " 'slippage_paid': {'property_cls': vectorbt.portfolio.props.timeseries_property,\n",
       "  'name': 'Paid slippage',\n",
       "  'format': '$'},\n",
       " 'trades': {'property_cls': vectorbt.portfolio.props.timeseries_property,\n",
       "  'name': 'Trades',\n",
       "  'format': ''}}"
      ]
     },
     "execution_count": 13,
     "metadata": {},
     "output_type": "execute_result"
    }
   ],
   "source": [
    "portfolio.traverse_timeseries()"
   ]
  },
  {
   "cell_type": "code",
   "execution_count": 14,
   "metadata": {},
   "outputs": [
    {
     "data": {
      "text/plain": [
       "{'alpha': {'property_cls': vectorbt.portfolio.props.metric_property,\n",
       "  'name': 'Annualized alpha',\n",
       "  'format': '%'},\n",
       " 'annualized_return': {'property_cls': vectorbt.portfolio.props.metric_property,\n",
       "  'name': 'Annualized return',\n",
       "  'format': '%'},\n",
       " 'annualized_volatility': {'property_cls': vectorbt.portfolio.props.metric_property,\n",
       "  'name': 'Annualized volatility',\n",
       "  'format': '%'},\n",
       " 'beta': {'property_cls': vectorbt.portfolio.props.metric_property,\n",
       "  'name': 'Beta',\n",
       "  'format': '%'},\n",
       " 'calmar_ratio': {'property_cls': vectorbt.portfolio.props.metric_property,\n",
       "  'name': 'Calmar ratio',\n",
       "  'format': '%'},\n",
       " 'capture': {'property_cls': vectorbt.portfolio.props.metric_property,\n",
       "  'name': 'Capture ratio',\n",
       "  'format': '%'},\n",
       " 'conditional_value_at_risk': {'property_cls': vectorbt.portfolio.props.metric_property,\n",
       "  'name': 'Conditional value at risk',\n",
       "  'format': '$'},\n",
       " 'down_capture': {'property_cls': vectorbt.portfolio.props.metric_property,\n",
       "  'name': 'Capture ratio (negative)',\n",
       "  'format': '%'},\n",
       " 'downside_risk': {'property_cls': vectorbt.portfolio.props.metric_property,\n",
       "  'name': 'Downside risk',\n",
       "  'format': '%'},\n",
       " 'information_ratio': {'property_cls': vectorbt.portfolio.props.metric_property,\n",
       "  'name': 'Information ratio',\n",
       "  'format': '%'},\n",
       " 'kurtosis': {'property_cls': vectorbt.portfolio.props.metric_property,\n",
       "  'name': 'Kurtosis',\n",
       "  'format': ''},\n",
       " 'max_drawdown': {'property_cls': vectorbt.portfolio.props.metric_property,\n",
       "  'name': 'Max drawdown',\n",
       "  'format': '%'},\n",
       " 'omega_ratio': {'property_cls': vectorbt.portfolio.props.metric_property,\n",
       "  'name': 'Omega ratio',\n",
       "  'format': '%'},\n",
       " 'positions': {'property_cls': vectorbt.portfolio.props.group_property,\n",
       "  'name': 'Positions',\n",
       "  'cls': vectorbt.portfolio.positions.Positions,\n",
       "  'children': {'avg_duration': {'property_cls': vectorbt.portfolio.props.metric_property,\n",
       "    'name': 'Average duration',\n",
       "    'format': 'time'},\n",
       "   'avg_pnl': {'property_cls': vectorbt.portfolio.props.metric_property,\n",
       "    'name': 'Average P/L',\n",
       "    'format': '$'},\n",
       "   'avg_return': {'property_cls': vectorbt.portfolio.props.metric_property,\n",
       "    'name': 'Average return',\n",
       "    'format': '%'},\n",
       "   'closed': {'property_cls': vectorbt.portfolio.props.group_property,\n",
       "    'name': 'Closed',\n",
       "    'cls': vectorbt.portfolio.positions.PnLPositions,\n",
       "    'children': {'avg_duration': {'property_cls': vectorbt.portfolio.props.metric_property,\n",
       "      'name': 'Average duration',\n",
       "      'format': 'time'},\n",
       "     'avg_pnl': {'property_cls': vectorbt.portfolio.props.metric_property,\n",
       "      'name': 'Average P/L',\n",
       "      'format': '$'},\n",
       "     'avg_return': {'property_cls': vectorbt.portfolio.props.metric_property,\n",
       "      'name': 'Average return',\n",
       "      'format': '%'},\n",
       "     'count': {'property_cls': vectorbt.portfolio.props.metric_property,\n",
       "      'name': 'Total count',\n",
       "      'format': ''},\n",
       "     'expectancy': {'property_cls': vectorbt.portfolio.props.metric_property,\n",
       "      'name': 'Expectancy',\n",
       "      'format': '$'},\n",
       "     'losing': {'property_cls': vectorbt.portfolio.props.group_property,\n",
       "      'name': 'Losing',\n",
       "      'cls': vectorbt.portfolio.positions.BasePositions,\n",
       "      'children': {'avg_duration': {'property_cls': vectorbt.portfolio.props.metric_property,\n",
       "        'name': 'Average duration',\n",
       "        'format': 'time'},\n",
       "       'avg_pnl': {'property_cls': vectorbt.portfolio.props.metric_property,\n",
       "        'name': 'Average P/L',\n",
       "        'format': '$'},\n",
       "       'avg_return': {'property_cls': vectorbt.portfolio.props.metric_property,\n",
       "        'name': 'Average return',\n",
       "        'format': '%'},\n",
       "       'count': {'property_cls': vectorbt.portfolio.props.metric_property,\n",
       "        'name': 'Total count',\n",
       "        'format': ''},\n",
       "       'total_pnl': {'property_cls': vectorbt.portfolio.props.metric_property,\n",
       "        'name': 'Total P/L',\n",
       "        'format': '$'}}},\n",
       "     'loss_rate': {'property_cls': vectorbt.portfolio.props.metric_property,\n",
       "      'name': 'Loss rate',\n",
       "      'format': '%'},\n",
       "     'profit_factor': {'property_cls': vectorbt.portfolio.props.metric_property,\n",
       "      'name': 'Profit factor',\n",
       "      'format': '%'},\n",
       "     'total_pnl': {'property_cls': vectorbt.portfolio.props.metric_property,\n",
       "      'name': 'Total P/L',\n",
       "      'format': '$'},\n",
       "     'win_rate': {'property_cls': vectorbt.portfolio.props.metric_property,\n",
       "      'name': 'Win rate',\n",
       "      'format': '%'},\n",
       "     'winning': {'property_cls': vectorbt.portfolio.props.group_property,\n",
       "      'name': 'Winning',\n",
       "      'cls': vectorbt.portfolio.positions.BasePositions,\n",
       "      'children': {'avg_duration': {'property_cls': vectorbt.portfolio.props.metric_property,\n",
       "        'name': 'Average duration',\n",
       "        'format': 'time'},\n",
       "       'avg_pnl': {'property_cls': vectorbt.portfolio.props.metric_property,\n",
       "        'name': 'Average P/L',\n",
       "        'format': '$'},\n",
       "       'avg_return': {'property_cls': vectorbt.portfolio.props.metric_property,\n",
       "        'name': 'Average return',\n",
       "        'format': '%'},\n",
       "       'count': {'property_cls': vectorbt.portfolio.props.metric_property,\n",
       "        'name': 'Total count',\n",
       "        'format': ''},\n",
       "       'total_pnl': {'property_cls': vectorbt.portfolio.props.metric_property,\n",
       "        'name': 'Total P/L',\n",
       "        'format': '$'}}}}},\n",
       "   'closed_rate': {'property_cls': vectorbt.portfolio.props.metric_property,\n",
       "    'name': 'Closed rate',\n",
       "    'format': '%'},\n",
       "   'count': {'property_cls': vectorbt.portfolio.props.metric_property,\n",
       "    'name': 'Total count',\n",
       "    'format': ''},\n",
       "   'expectancy': {'property_cls': vectorbt.portfolio.props.metric_property,\n",
       "    'name': 'Expectancy',\n",
       "    'format': '$'},\n",
       "   'losing': {'property_cls': vectorbt.portfolio.props.group_property,\n",
       "    'name': 'Losing',\n",
       "    'cls': vectorbt.portfolio.positions.BasePositions,\n",
       "    'children': {'avg_duration': {'property_cls': vectorbt.portfolio.props.metric_property,\n",
       "      'name': 'Average duration',\n",
       "      'format': 'time'},\n",
       "     'avg_pnl': {'property_cls': vectorbt.portfolio.props.metric_property,\n",
       "      'name': 'Average P/L',\n",
       "      'format': '$'},\n",
       "     'avg_return': {'property_cls': vectorbt.portfolio.props.metric_property,\n",
       "      'name': 'Average return',\n",
       "      'format': '%'},\n",
       "     'count': {'property_cls': vectorbt.portfolio.props.metric_property,\n",
       "      'name': 'Total count',\n",
       "      'format': ''},\n",
       "     'total_pnl': {'property_cls': vectorbt.portfolio.props.metric_property,\n",
       "      'name': 'Total P/L',\n",
       "      'format': '$'}}},\n",
       "   'loss_rate': {'property_cls': vectorbt.portfolio.props.metric_property,\n",
       "    'name': 'Loss rate',\n",
       "    'format': '%'},\n",
       "   'open': {'property_cls': vectorbt.portfolio.props.group_property,\n",
       "    'name': 'Open',\n",
       "    'cls': vectorbt.portfolio.positions.PnLPositions,\n",
       "    'children': {'avg_duration': {'property_cls': vectorbt.portfolio.props.metric_property,\n",
       "      'name': 'Average duration',\n",
       "      'format': 'time'},\n",
       "     'avg_pnl': {'property_cls': vectorbt.portfolio.props.metric_property,\n",
       "      'name': 'Average P/L',\n",
       "      'format': '$'},\n",
       "     'avg_return': {'property_cls': vectorbt.portfolio.props.metric_property,\n",
       "      'name': 'Average return',\n",
       "      'format': '%'},\n",
       "     'count': {'property_cls': vectorbt.portfolio.props.metric_property,\n",
       "      'name': 'Total count',\n",
       "      'format': ''},\n",
       "     'expectancy': {'property_cls': vectorbt.portfolio.props.metric_property,\n",
       "      'name': 'Expectancy',\n",
       "      'format': '$'},\n",
       "     'losing': {'property_cls': vectorbt.portfolio.props.group_property,\n",
       "      'name': 'Losing',\n",
       "      'cls': vectorbt.portfolio.positions.BasePositions,\n",
       "      'children': {'avg_duration': {'property_cls': vectorbt.portfolio.props.metric_property,\n",
       "        'name': 'Average duration',\n",
       "        'format': 'time'},\n",
       "       'avg_pnl': {'property_cls': vectorbt.portfolio.props.metric_property,\n",
       "        'name': 'Average P/L',\n",
       "        'format': '$'},\n",
       "       'avg_return': {'property_cls': vectorbt.portfolio.props.metric_property,\n",
       "        'name': 'Average return',\n",
       "        'format': '%'},\n",
       "       'count': {'property_cls': vectorbt.portfolio.props.metric_property,\n",
       "        'name': 'Total count',\n",
       "        'format': ''},\n",
       "       'total_pnl': {'property_cls': vectorbt.portfolio.props.metric_property,\n",
       "        'name': 'Total P/L',\n",
       "        'format': '$'}}},\n",
       "     'loss_rate': {'property_cls': vectorbt.portfolio.props.metric_property,\n",
       "      'name': 'Loss rate',\n",
       "      'format': '%'},\n",
       "     'profit_factor': {'property_cls': vectorbt.portfolio.props.metric_property,\n",
       "      'name': 'Profit factor',\n",
       "      'format': '%'},\n",
       "     'total_pnl': {'property_cls': vectorbt.portfolio.props.metric_property,\n",
       "      'name': 'Total P/L',\n",
       "      'format': '$'},\n",
       "     'win_rate': {'property_cls': vectorbt.portfolio.props.metric_property,\n",
       "      'name': 'Win rate',\n",
       "      'format': '%'},\n",
       "     'winning': {'property_cls': vectorbt.portfolio.props.group_property,\n",
       "      'name': 'Winning',\n",
       "      'cls': vectorbt.portfolio.positions.BasePositions,\n",
       "      'children': {'avg_duration': {'property_cls': vectorbt.portfolio.props.metric_property,\n",
       "        'name': 'Average duration',\n",
       "        'format': 'time'},\n",
       "       'avg_pnl': {'property_cls': vectorbt.portfolio.props.metric_property,\n",
       "        'name': 'Average P/L',\n",
       "        'format': '$'},\n",
       "       'avg_return': {'property_cls': vectorbt.portfolio.props.metric_property,\n",
       "        'name': 'Average return',\n",
       "        'format': '%'},\n",
       "       'count': {'property_cls': vectorbt.portfolio.props.metric_property,\n",
       "        'name': 'Total count',\n",
       "        'format': ''},\n",
       "       'total_pnl': {'property_cls': vectorbt.portfolio.props.metric_property,\n",
       "        'name': 'Total P/L',\n",
       "        'format': '$'}}}}},\n",
       "   'profit_factor': {'property_cls': vectorbt.portfolio.props.metric_property,\n",
       "    'name': 'Profit factor',\n",
       "    'format': '%'},\n",
       "   'total_pnl': {'property_cls': vectorbt.portfolio.props.metric_property,\n",
       "    'name': 'Total P/L',\n",
       "    'format': '$'},\n",
       "   'win_rate': {'property_cls': vectorbt.portfolio.props.metric_property,\n",
       "    'name': 'Win rate',\n",
       "    'format': '%'},\n",
       "   'winning': {'property_cls': vectorbt.portfolio.props.group_property,\n",
       "    'name': 'Winning',\n",
       "    'cls': vectorbt.portfolio.positions.BasePositions,\n",
       "    'children': {'avg_duration': {'property_cls': vectorbt.portfolio.props.metric_property,\n",
       "      'name': 'Average duration',\n",
       "      'format': 'time'},\n",
       "     'avg_pnl': {'property_cls': vectorbt.portfolio.props.metric_property,\n",
       "      'name': 'Average P/L',\n",
       "      'format': '$'},\n",
       "     'avg_return': {'property_cls': vectorbt.portfolio.props.metric_property,\n",
       "      'name': 'Average return',\n",
       "      'format': '%'},\n",
       "     'count': {'property_cls': vectorbt.portfolio.props.metric_property,\n",
       "      'name': 'Total count',\n",
       "      'format': ''},\n",
       "     'total_pnl': {'property_cls': vectorbt.portfolio.props.metric_property,\n",
       "      'name': 'Total P/L',\n",
       "      'format': '$'}}}}},\n",
       " 'sharpe_ratio': {'property_cls': vectorbt.portfolio.props.metric_property,\n",
       "  'name': 'Sharpe ratio',\n",
       "  'format': '%'},\n",
       " 'skew': {'property_cls': vectorbt.portfolio.props.metric_property,\n",
       "  'name': 'Skewness',\n",
       "  'format': ''},\n",
       " 'sortino_ratio': {'property_cls': vectorbt.portfolio.props.metric_property,\n",
       "  'name': 'Sortino ratio',\n",
       "  'format': '%'},\n",
       " 'tail_ratio': {'property_cls': vectorbt.portfolio.props.metric_property,\n",
       "  'name': 'Tail ratio',\n",
       "  'format': '%'},\n",
       " 'total_costs': {'property_cls': vectorbt.portfolio.props.metric_property,\n",
       "  'name': 'Total costs',\n",
       "  'format': '$'},\n",
       " 'total_fees_paid': {'property_cls': vectorbt.portfolio.props.metric_property,\n",
       "  'name': 'Total paid fees',\n",
       "  'format': '$'},\n",
       " 'total_profit': {'property_cls': vectorbt.portfolio.props.metric_property,\n",
       "  'name': 'Total profit',\n",
       "  'format': '$'},\n",
       " 'total_return': {'property_cls': vectorbt.portfolio.props.metric_property,\n",
       "  'name': 'Total return',\n",
       "  'format': '%'},\n",
       " 'total_slippage_paid': {'property_cls': vectorbt.portfolio.props.metric_property,\n",
       "  'name': 'Total paid slippage',\n",
       "  'format': '$'},\n",
       " 'trade_count': {'property_cls': vectorbt.portfolio.props.metric_property,\n",
       "  'name': 'Trade count',\n",
       "  'format': ''},\n",
       " 'up_capture': {'property_cls': vectorbt.portfolio.props.metric_property,\n",
       "  'name': 'Capture ratio (positive)',\n",
       "  'format': '%'},\n",
       " 'value_at_risk': {'property_cls': vectorbt.portfolio.props.metric_property,\n",
       "  'name': 'Value at risk',\n",
       "  'format': '$'}}"
      ]
     },
     "execution_count": 14,
     "metadata": {},
     "output_type": "execute_result"
    }
   ],
   "source": [
    "portfolio.traverse_metrics()"
   ]
  },
  {
   "cell_type": "code",
   "execution_count": null,
   "metadata": {},
   "outputs": [],
   "source": []
  }
 ],
 "metadata": {
  "kernelspec": {
   "display_name": "Python 3",
   "language": "python",
   "name": "python3"
  },
  "language_info": {
   "codemirror_mode": {
    "name": "ipython",
    "version": 3
   },
   "file_extension": ".py",
   "mimetype": "text/x-python",
   "name": "python",
   "nbconvert_exporter": "python",
   "pygments_lexer": "ipython3",
   "version": "3.7.3"
  },
  "widgets": {
   "application/vnd.jupyter.widget-state+json": {
    "state": {},
    "version_major": 2,
    "version_minor": 0
   }
  }
 },
 "nbformat": 4,
 "nbformat_minor": 4
}
