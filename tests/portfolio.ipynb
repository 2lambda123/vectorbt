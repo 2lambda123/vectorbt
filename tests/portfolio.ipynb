{
 "cells": [
  {
   "cell_type": "markdown",
   "metadata": {},
   "source": [
    "# portfolio.py"
   ]
  },
  {
   "cell_type": "code",
   "execution_count": 1,
   "metadata": {},
   "outputs": [],
   "source": [
    "import vectorbt as vbt\n",
    "from vectorbt.utils import *"
   ]
  },
  {
   "cell_type": "code",
   "execution_count": 2,
   "metadata": {
    "Collapsed": "false"
   },
   "outputs": [],
   "source": [
    "import numpy as np\n",
    "import pandas as pd\n",
    "from datetime import datetime, timedelta\n",
    "from numba import njit, f8, i8, b1, optional"
   ]
  },
  {
   "cell_type": "code",
   "execution_count": 3,
   "metadata": {
    "Collapsed": "false"
   },
   "outputs": [
    {
     "name": "stdout",
     "output_type": "stream",
     "text": [
      "              a    b    c    d\n",
      "2020-01-01  1.0  9.0  1.0  4.0\n",
      "2020-01-02  2.0  8.0  2.0  3.0\n",
      "2020-01-03  3.0  7.0  3.0  2.0\n",
      "2020-01-04  4.0  6.0  4.0  1.0\n",
      "2020-01-05  5.0  5.0  3.0  2.0\n",
      "2020-01-06  6.0  4.0  2.0  3.0\n",
      "2020-01-07  7.0  3.0  1.0  4.0\n"
     ]
    }
   ],
   "source": [
    "from datetime import datetime\n",
    "index = pd.Index([\n",
    "    datetime(2020, 1, 1),\n",
    "    datetime(2020, 1, 2),\n",
    "    datetime(2020, 1, 3),\n",
    "    datetime(2020, 1, 4),\n",
    "    datetime(2020, 1, 5),\n",
    "    datetime(2020, 1, 6),\n",
    "    datetime(2020, 1, 7),\n",
    "])\n",
    "ts = pd.DataFrame({\n",
    "    'a': [1, 2, 3, 4, 5, 6, 7],\n",
    "    'b': [9, 8, 7, 6, 5, 4, 3],\n",
    "    'c': [1, 2, 3, 4, 3, 2, 1],\n",
    "    'd': [4, 3, 2, 1, 2, 3, 4]\n",
    "}, index=index).astype(float)\n",
    "\n",
    "print(ts)"
   ]
  },
  {
   "cell_type": "code",
   "execution_count": 4,
   "metadata": {},
   "outputs": [
    {
     "data": {
      "text/plain": [
       "(1000, 1000)"
      ]
     },
     "execution_count": 4,
     "metadata": {},
     "output_type": "execute_result"
    }
   ],
   "source": [
    "big_ts = pd.DataFrame(np.random.uniform(size=(1000, 1000)).astype(float))\n",
    "big_ts.index = [datetime(2018, 1, 1) + timedelta(days=i) for i in range(1000)]\n",
    "big_ts.shape"
   ]
  },
  {
   "cell_type": "code",
   "execution_count": 5,
   "metadata": {
    "Collapsed": "false"
   },
   "outputs": [
    {
     "name": "stdout",
     "output_type": "stream",
     "text": [
      "                a      b      c      d\n",
      "2020-01-01  False  False  False   True\n",
      "2020-01-02  False  False  False  False\n",
      "2020-01-03   True  False   True  False\n",
      "2020-01-04  False  False  False  False\n",
      "2020-01-05   True   True  False  False\n",
      "2020-01-06  False  False  False  False\n",
      "2020-01-07  False   True   True   True\n"
     ]
    }
   ],
   "source": [
    "entries = pd.DataFrame.vbt.signals.random(ts.shape, 2, every_nth=2, seed=42, index=ts.index, columns=ts.columns)\n",
    "big_entries = pd.DataFrame.vbt.signals.random(big_ts.shape, 100, every_nth=2, seed=42, index=big_ts.index)\n",
    "\n",
    "print(entries)"
   ]
  },
  {
   "cell_type": "code",
   "execution_count": 6,
   "metadata": {
    "Collapsed": "false"
   },
   "outputs": [
    {
     "name": "stdout",
     "output_type": "stream",
     "text": [
      "                a      b      c      d\n",
      "2020-01-01  False  False  False  False\n",
      "2020-01-02  False  False  False  False\n",
      "2020-01-03  False  False  False  False\n",
      "2020-01-04   True  False   True   True\n",
      "2020-01-05  False  False  False  False\n",
      "2020-01-06   True   True  False  False\n",
      "2020-01-07  False  False  False  False\n"
     ]
    }
   ],
   "source": [
    "exits = entries.vbt.signals.random_exits(1, seed=42)\n",
    "big_exits = big_entries.vbt.signals.random_exits(1, seed=42)\n",
    "\n",
    "print(exits)"
   ]
  },
  {
   "cell_type": "markdown",
   "metadata": {},
   "source": [
    "## from_signals"
   ]
  },
  {
   "cell_type": "code",
   "execution_count": 7,
   "metadata": {},
   "outputs": [],
   "source": [
    "vbt.portfolio.portfolio_defaults['investment'] = 100 # set investment in cash globally"
   ]
  },
  {
   "cell_type": "code",
   "execution_count": 8,
   "metadata": {},
   "outputs": [
    {
     "name": "stdout",
     "output_type": "stream",
     "text": [
      "2020-01-01    0.0\n",
      "2020-01-02    0.0\n",
      "2020-01-03    1.0\n",
      "2020-01-04   -1.0\n",
      "2020-01-05    1.0\n",
      "2020-01-06   -1.0\n",
      "2020-01-07    0.0\n",
      "Name: a, dtype: float64\n",
      "2020-01-01    0.0\n",
      "2020-01-02    0.0\n",
      "2020-01-03    1.0\n",
      "2020-01-04    0.0\n",
      "2020-01-05    1.0\n",
      "2020-01-06    0.0\n",
      "2020-01-07    0.0\n",
      "Name: a, dtype: float64\n",
      "2020-01-01    100.0\n",
      "2020-01-02    100.0\n",
      "2020-01-03     97.0\n",
      "2020-01-04    101.0\n",
      "2020-01-05     96.0\n",
      "2020-01-06    102.0\n",
      "2020-01-07    102.0\n",
      "Name: a, dtype: float64\n",
      "9.54 ms ± 1.44 ms per loop (mean ± std. dev. of 7 runs, 100 loops each)\n",
      "(1000,)\n"
     ]
    }
   ],
   "source": [
    "portfolio = vbt.Portfolio.from_signals(ts['a'], entries['a'], exits['a'], volume=1)\n",
    "print(portfolio.trades)\n",
    "print(portfolio.shares)\n",
    "print(portfolio.cash)\n",
    "\n",
    "%timeit vbt.Portfolio.from_signals(big_ts.iloc[:, 0], big_entries.iloc[:, 0], big_exits.iloc[:, 0], volume=1)\n",
    "print(vbt.Portfolio.from_signals(big_ts.iloc[:, 0], big_entries.iloc[:, 0], big_exits.iloc[:, 0], volume=1).equity.shape)"
   ]
  },
  {
   "cell_type": "code",
   "execution_count": 9,
   "metadata": {},
   "outputs": [
    {
     "name": "stdout",
     "output_type": "stream",
     "text": [
      "              a    b    c    d\n",
      "2020-01-01  0.0  0.0  0.0  1.0\n",
      "2020-01-02  0.0  0.0  0.0  0.0\n",
      "2020-01-03  1.0  0.0  1.0  0.0\n",
      "2020-01-04 -1.0  0.0 -1.0 -1.0\n",
      "2020-01-05  1.0  1.0  0.0  0.0\n",
      "2020-01-06 -1.0 -1.0  0.0  0.0\n",
      "2020-01-07  0.0  1.0  1.0  1.0\n",
      "              a    b    c    d\n",
      "2020-01-01  0.0  0.0  0.0  1.0\n",
      "2020-01-02  0.0  0.0  0.0  1.0\n",
      "2020-01-03  1.0  0.0  1.0  1.0\n",
      "2020-01-04  0.0  0.0  0.0  0.0\n",
      "2020-01-05  1.0  1.0  0.0  0.0\n",
      "2020-01-06  0.0  0.0  0.0  0.0\n",
      "2020-01-07  0.0  1.0  1.0  1.0\n",
      "                a      b      c      d\n",
      "2020-01-01  100.0  100.0  100.0   99.0\n",
      "2020-01-02  100.0  100.0  100.0   99.0\n",
      "2020-01-03   97.0  100.0   97.0   99.0\n",
      "2020-01-04  101.0  100.0  101.0  103.0\n",
      "2020-01-05   96.0   95.0  101.0  103.0\n",
      "2020-01-06  102.0  101.0  101.0  103.0\n",
      "2020-01-07  102.0   94.0   94.0   96.0\n",
      "121 ms ± 4.24 ms per loop (mean ± std. dev. of 7 runs, 10 loops each)\n",
      "(1000, 1000)\n"
     ]
    }
   ],
   "source": [
    "portfolio = vbt.Portfolio.from_signals(ts['a'], entries, exits, volume=1) # test broadcasting\n",
    "print(portfolio.trades)\n",
    "print(portfolio.shares)\n",
    "print(portfolio.cash)\n",
    "\n",
    "%timeit vbt.Portfolio.from_signals(big_ts.iloc[:, 0], big_entries, big_exits, volume=1)\n",
    "print(vbt.Portfolio.from_signals(big_ts.iloc[:, 0], big_entries, big_exits, volume=1).equity.shape)"
   ]
  },
  {
   "cell_type": "code",
   "execution_count": 10,
   "metadata": {},
   "outputs": [
    {
     "name": "stdout",
     "output_type": "stream",
     "text": [
      "              a    b    c    d\n",
      "2020-01-01  0.0  0.0  0.0  1.0\n",
      "2020-01-02  0.0  0.0  0.0  0.0\n",
      "2020-01-03  1.0  0.0  1.0  0.0\n",
      "2020-01-04 -1.0  0.0 -1.0 -1.0\n",
      "2020-01-05  1.0  1.0  0.0  0.0\n",
      "2020-01-06 -1.0 -1.0  0.0  0.0\n",
      "2020-01-07  0.0  1.0  1.0  1.0\n",
      "              a    b    c    d\n",
      "2020-01-01  0.0  0.0  0.0  1.0\n",
      "2020-01-02  0.0  0.0  0.0  1.0\n",
      "2020-01-03  1.0  0.0  1.0  1.0\n",
      "2020-01-04  0.0  0.0  0.0  0.0\n",
      "2020-01-05  1.0  1.0  0.0  0.0\n",
      "2020-01-06  0.0  0.0  0.0  0.0\n",
      "2020-01-07  0.0  1.0  1.0  1.0\n",
      "                a      b      c     d\n",
      "2020-01-01  100.0  100.0  100.0  96.0\n",
      "2020-01-02  100.0  100.0  100.0  96.0\n",
      "2020-01-03   97.0  100.0   97.0  96.0\n",
      "2020-01-04  101.0  100.0  101.0  97.0\n",
      "2020-01-05   96.0   95.0  101.0  97.0\n",
      "2020-01-06  102.0   99.0  101.0  97.0\n",
      "2020-01-07  102.0   96.0  100.0  93.0\n",
      "109 ms ± 10.2 ms per loop (mean ± std. dev. of 7 runs, 10 loops each)\n",
      "(1000, 1000)\n"
     ]
    }
   ],
   "source": [
    "portfolio = vbt.Portfolio.from_signals(ts, entries, exits, volume=1)\n",
    "print(portfolio.trades)\n",
    "print(portfolio.shares)\n",
    "print(portfolio.cash)\n",
    "\n",
    "%timeit vbt.Portfolio.from_signals(big_ts, big_entries, big_exits, volume=1)\n",
    "print(vbt.Portfolio.from_signals(big_ts, big_entries, big_exits, volume=1).equity.shape)"
   ]
  },
  {
   "cell_type": "code",
   "execution_count": 11,
   "metadata": {},
   "outputs": [
    {
     "name": "stdout",
     "output_type": "stream",
     "text": [
      "                    a          b           c      d\n",
      "2020-01-01   0.000000   0.000000    0.000000  25.00\n",
      "2020-01-02   0.000000   0.000000    0.000000   0.00\n",
      "2020-01-03  33.333333   0.000000   33.333333   0.00\n",
      "2020-01-04 -33.333333   0.000000  -33.333333 -25.00\n",
      "2020-01-05  26.666667  20.000000    0.000000   0.00\n",
      "2020-01-06 -26.666667 -20.000000    0.000000   0.00\n",
      "2020-01-07   0.000000  26.666667  133.333333   6.25\n",
      "                    a          b           c      d\n",
      "2020-01-01   0.000000   0.000000    0.000000  25.00\n",
      "2020-01-02   0.000000   0.000000    0.000000  25.00\n",
      "2020-01-03  33.333333   0.000000   33.333333  25.00\n",
      "2020-01-04   0.000000   0.000000    0.000000   0.00\n",
      "2020-01-05  26.666667  20.000000    0.000000   0.00\n",
      "2020-01-06   0.000000   0.000000    0.000000   0.00\n",
      "2020-01-07   0.000000  26.666667  133.333333   6.25\n",
      "                     a      b           c     d\n",
      "2020-01-01  100.000000  100.0  100.000000   0.0\n",
      "2020-01-02  100.000000  100.0  100.000000   0.0\n",
      "2020-01-03    0.000000  100.0    0.000000   0.0\n",
      "2020-01-04  133.333333  100.0  133.333333  25.0\n",
      "2020-01-05    0.000000    0.0  133.333333  25.0\n",
      "2020-01-06  160.000000   80.0  133.333333  25.0\n",
      "2020-01-07  160.000000    0.0    0.000000   0.0\n",
      "111 ms ± 15.1 ms per loop (mean ± std. dev. of 7 runs, 10 loops each)\n",
      "(1000, 1000)\n"
     ]
    }
   ],
   "source": [
    "portfolio = vbt.Portfolio.from_signals(ts, entries, exits, volume=np.inf) # all in/out\n",
    "print(portfolio.trades)\n",
    "print(portfolio.shares)\n",
    "print(portfolio.cash)\n",
    "\n",
    "%timeit vbt.Portfolio.from_signals(big_ts, big_entries, big_exits, volume=np.inf)\n",
    "print(vbt.Portfolio.from_signals(big_ts, big_entries, big_exits, volume=np.inf).equity.shape)"
   ]
  },
  {
   "cell_type": "code",
   "execution_count": 12,
   "metadata": {},
   "outputs": [
    {
     "name": "stdout",
     "output_type": "stream",
     "text": [
      "              a    b    c    d\n",
      "2020-01-01  0.0  0.0  0.0  1.0\n",
      "2020-01-02  0.0  0.0  0.0  0.0\n",
      "2020-01-03  1.0  0.0  1.0  0.0\n",
      "2020-01-04 -1.0  0.0 -1.0 -1.0\n",
      "2020-01-05  1.0  1.0  0.0  0.0\n",
      "2020-01-06 -1.0 -1.0  0.0  0.0\n",
      "2020-01-07  0.0  1.0  1.0  1.0\n",
      "              a    b    c    d\n",
      "2020-01-01  0.0  0.0  0.0  1.0\n",
      "2020-01-02  0.0  0.0  0.0  1.0\n",
      "2020-01-03  1.0  0.0  1.0  1.0\n",
      "2020-01-04  0.0  0.0  0.0  0.0\n",
      "2020-01-05  1.0  1.0  0.0  0.0\n",
      "2020-01-06  0.0  0.0  0.0  0.0\n",
      "2020-01-07  0.0  1.0  1.0  1.0\n",
      "                     a           b           c          d\n",
      "2020-01-01  100.000000  100.000000  100.000000  95.959596\n",
      "2020-01-02  100.000000  100.000000  100.000000  95.959596\n",
      "2020-01-03   96.969697  100.000000   96.969697  95.959596\n",
      "2020-01-04  100.929697  100.000000  100.929697  96.949596\n",
      "2020-01-05   95.879192   94.949495  100.929697  96.949596\n",
      "2020-01-06  101.819192   98.909495  100.929697  96.949596\n",
      "2020-01-07  101.819192   95.879192   99.919596  92.909192\n",
      "107 ms ± 7.76 ms per loop (mean ± std. dev. of 7 runs, 10 loops each)\n",
      "(1000, 1000)\n"
     ]
    }
   ],
   "source": [
    "portfolio = vbt.Portfolio.from_signals(ts, entries, exits, volume=1, commission=0.01) # w/ commission\n",
    "print(portfolio.trades)\n",
    "print(portfolio.shares)\n",
    "print(portfolio.cash)\n",
    "\n",
    "%timeit vbt.Portfolio.from_signals(big_ts, big_entries, big_exits, volume=1, commission=0.01)\n",
    "print(vbt.Portfolio.from_signals(big_ts, big_entries, big_exits, volume=1, commission=0.01).equity.shape)"
   ]
  },
  {
   "cell_type": "code",
   "execution_count": 13,
   "metadata": {},
   "outputs": [
    {
     "name": "stdout",
     "output_type": "stream",
     "text": [
      "              a    b    c    d\n",
      "2020-01-01  0.0  0.0  0.0  1.0\n",
      "2020-01-02  0.0  0.0  0.0  0.0\n",
      "2020-01-03  1.0  0.0  1.0  0.0\n",
      "2020-01-04 -1.0  0.0 -1.0 -1.0\n",
      "2020-01-05  1.0  1.0  0.0  0.0\n",
      "2020-01-06 -1.0 -1.0  0.0  0.0\n",
      "2020-01-07  0.0  1.0  1.0  1.0\n",
      "              a    b    c    d\n",
      "2020-01-01  0.0  0.0  0.0  1.0\n",
      "2020-01-02  0.0  0.0  0.0  1.0\n",
      "2020-01-03  1.0  0.0  1.0  1.0\n",
      "2020-01-04  0.0  0.0  0.0  0.0\n",
      "2020-01-05  1.0  1.0  0.0  0.0\n",
      "2020-01-06  0.0  0.0  0.0  0.0\n",
      "2020-01-07  0.0  1.0  1.0  1.0\n",
      "                 a       b       c      d\n",
      "2020-01-01  100.00  100.00  100.00  95.96\n",
      "2020-01-02  100.00  100.00  100.00  95.96\n",
      "2020-01-03   96.97  100.00   96.97  95.96\n",
      "2020-01-04  100.93  100.00  100.93  96.95\n",
      "2020-01-05   95.88   94.95  100.93  96.95\n",
      "2020-01-06  101.82   98.91  100.93  96.95\n",
      "2020-01-07  101.82   95.88   99.92  92.91\n",
      "104 ms ± 6.58 ms per loop (mean ± std. dev. of 7 runs, 10 loops each)\n",
      "(1000, 1000)\n"
     ]
    }
   ],
   "source": [
    "portfolio = vbt.Portfolio.from_signals(ts, entries, exits, volume=1, slippage=0.01) # w/ slippage\n",
    "print(portfolio.trades)\n",
    "print(portfolio.shares)\n",
    "print(portfolio.cash)\n",
    "\n",
    "%timeit vbt.Portfolio.from_signals(big_ts, big_entries, big_exits, volume=1, slippage=0.01)\n",
    "print(vbt.Portfolio.from_signals(big_ts, big_entries, big_exits, volume=1, slippage=0.01).equity.shape)"
   ]
  },
  {
   "cell_type": "code",
   "execution_count": 14,
   "metadata": {},
   "outputs": [
    {
     "name": "stdout",
     "output_type": "stream",
     "text": [
      "              a    b    c    d\n",
      "2020-01-01  1.0  1.0  1.0  1.0\n",
      "2020-01-02  1.0  1.0  1.0  1.0\n",
      "2020-01-03  1.0  1.0  1.0  1.0\n",
      "2020-01-04  1.0  1.0  1.0  1.0\n",
      "2020-01-05  1.0  1.0  1.0  1.0\n",
      "2020-01-06  1.0  1.0  1.0  1.0\n",
      "2020-01-07  1.0  1.0  1.0  1.0\n",
      "              a    b    c    d\n",
      "2020-01-01  1.0  1.0  1.0  1.0\n",
      "2020-01-02  2.0  2.0  2.0  2.0\n",
      "2020-01-03  3.0  3.0  3.0  3.0\n",
      "2020-01-04  4.0  4.0  4.0  4.0\n",
      "2020-01-05  5.0  5.0  5.0  5.0\n",
      "2020-01-06  6.0  6.0  6.0  6.0\n",
      "2020-01-07  7.0  7.0  7.0  7.0\n",
      "               a     b     c     d\n",
      "2020-01-01  99.0  91.0  99.0  96.0\n",
      "2020-01-02  97.0  83.0  97.0  93.0\n",
      "2020-01-03  94.0  76.0  94.0  91.0\n",
      "2020-01-04  90.0  70.0  90.0  90.0\n",
      "2020-01-05  85.0  65.0  87.0  88.0\n",
      "2020-01-06  79.0  61.0  85.0  85.0\n",
      "2020-01-07  72.0  58.0  84.0  81.0\n",
      "110 ms ± 4.2 ms per loop (mean ± std. dev. of 7 runs, 10 loops each)\n",
      "(1000, 1000)\n"
     ]
    }
   ],
   "source": [
    "portfolio = vbt.Portfolio.from_signals(ts, \n",
    "                                 pd.DataFrame.vbt.signals.empty_like(ts, fill_value=True), \n",
    "                                 pd.DataFrame.vbt.signals.empty_like(ts, fill_value=False), \n",
    "                                 volume=1,\n",
    "                                 accumulate=True) # w/ order accumulation\n",
    "print(portfolio.trades)\n",
    "print(portfolio.shares)\n",
    "print(portfolio.cash)\n",
    "\n",
    "%timeit (vbt.Portfolio.from_signals(big_ts, \\\n",
    "                                 pd.DataFrame.vbt.signals.empty_like(big_ts, fill_value=True), \\\n",
    "                                 pd.DataFrame.vbt.signals.empty_like(big_ts, fill_value=False), \\\n",
    "                                 volume=1, \\\n",
    "                                 accumulate=True))\n",
    "print((vbt.Portfolio.from_signals(big_ts, \\\n",
    "                                 pd.DataFrame.vbt.signals.empty_like(big_ts, fill_value=True), \\\n",
    "                                 pd.DataFrame.vbt.signals.empty_like(big_ts, fill_value=False), \\\n",
    "                                 volume=1, \\\n",
    "                                 accumulate=True).equity.shape))"
   ]
  },
  {
   "cell_type": "markdown",
   "metadata": {},
   "source": [
    "## from_orders"
   ]
  },
  {
   "cell_type": "code",
   "execution_count": 15,
   "metadata": {},
   "outputs": [],
   "source": [
    "volume = pd.DataFrame.vbt.timeseries.empty_like(ts, 1) # buy 1 share every day\n",
    "big_volume = pd.DataFrame.vbt.timeseries.empty_like(big_ts, 1)"
   ]
  },
  {
   "cell_type": "code",
   "execution_count": 16,
   "metadata": {},
   "outputs": [
    {
     "name": "stdout",
     "output_type": "stream",
     "text": [
      "2020-01-01    1.0\n",
      "2020-01-02    1.0\n",
      "2020-01-03    1.0\n",
      "2020-01-04    1.0\n",
      "2020-01-05    1.0\n",
      "2020-01-06    1.0\n",
      "2020-01-07    1.0\n",
      "Name: a, dtype: float64\n",
      "2020-01-01    1.0\n",
      "2020-01-02    2.0\n",
      "2020-01-03    3.0\n",
      "2020-01-04    4.0\n",
      "2020-01-05    5.0\n",
      "2020-01-06    6.0\n",
      "2020-01-07    7.0\n",
      "Name: a, dtype: float64\n",
      "2020-01-01    99.0\n",
      "2020-01-02    97.0\n",
      "2020-01-03    94.0\n",
      "2020-01-04    90.0\n",
      "2020-01-05    85.0\n",
      "2020-01-06    79.0\n",
      "2020-01-07    72.0\n",
      "Name: a, dtype: float64\n",
      "6.81 ms ± 229 µs per loop (mean ± std. dev. of 7 runs, 100 loops each)\n",
      "(1000,)\n"
     ]
    }
   ],
   "source": [
    "portfolio = vbt.Portfolio.from_orders(ts['a'], volume['a'])\n",
    "print(portfolio.trades)\n",
    "print(portfolio.shares)\n",
    "print(portfolio.cash)\n",
    "\n",
    "%timeit vbt.Portfolio.from_orders(big_ts.iloc[:, 0], big_volume.iloc[:, 0])\n",
    "print(vbt.Portfolio.from_orders(big_ts.iloc[:, 0], big_volume.iloc[:, 0]).equity.shape)"
   ]
  },
  {
   "cell_type": "code",
   "execution_count": 17,
   "metadata": {},
   "outputs": [
    {
     "name": "stdout",
     "output_type": "stream",
     "text": [
      "              a    b    c    d\n",
      "2020-01-01  1.0  1.0  1.0  1.0\n",
      "2020-01-02  1.0  1.0  1.0  1.0\n",
      "2020-01-03  1.0  1.0  1.0  1.0\n",
      "2020-01-04  1.0  1.0  1.0  1.0\n",
      "2020-01-05  1.0  1.0  1.0  1.0\n",
      "2020-01-06  1.0  1.0  1.0  1.0\n",
      "2020-01-07  1.0  1.0  1.0  1.0\n",
      "              a    b    c    d\n",
      "2020-01-01  1.0  1.0  1.0  1.0\n",
      "2020-01-02  2.0  2.0  2.0  2.0\n",
      "2020-01-03  3.0  3.0  3.0  3.0\n",
      "2020-01-04  4.0  4.0  4.0  4.0\n",
      "2020-01-05  5.0  5.0  5.0  5.0\n",
      "2020-01-06  6.0  6.0  6.0  6.0\n",
      "2020-01-07  7.0  7.0  7.0  7.0\n",
      "               a     b     c     d\n",
      "2020-01-01  99.0  99.0  99.0  99.0\n",
      "2020-01-02  97.0  97.0  97.0  97.0\n",
      "2020-01-03  94.0  94.0  94.0  94.0\n",
      "2020-01-04  90.0  90.0  90.0  90.0\n",
      "2020-01-05  85.0  85.0  85.0  85.0\n",
      "2020-01-06  79.0  79.0  79.0  79.0\n",
      "2020-01-07  72.0  72.0  72.0  72.0\n",
      "53.1 ms ± 4.58 ms per loop (mean ± std. dev. of 7 runs, 10 loops each)\n",
      "(1000, 1000)\n"
     ]
    }
   ],
   "source": [
    "portfolio = vbt.Portfolio.from_orders(ts['a'], volume)\n",
    "print(portfolio.trades)\n",
    "print(portfolio.shares)\n",
    "print(portfolio.cash)\n",
    "\n",
    "%timeit vbt.Portfolio.from_orders(big_ts.iloc[:, 0], big_volume)\n",
    "print(vbt.Portfolio.from_orders(big_ts.iloc[:, 0], big_volume).equity.shape)"
   ]
  },
  {
   "cell_type": "code",
   "execution_count": 18,
   "metadata": {},
   "outputs": [
    {
     "name": "stdout",
     "output_type": "stream",
     "text": [
      "              a    b    c    d\n",
      "2020-01-01  1.0  1.0  1.0  1.0\n",
      "2020-01-02  1.0  1.0  1.0  1.0\n",
      "2020-01-03  1.0  1.0  1.0  1.0\n",
      "2020-01-04  1.0  1.0  1.0  1.0\n",
      "2020-01-05  1.0  1.0  1.0  1.0\n",
      "2020-01-06  1.0  1.0  1.0  1.0\n",
      "2020-01-07  1.0  1.0  1.0  1.0\n",
      "              a    b    c    d\n",
      "2020-01-01  1.0  1.0  1.0  1.0\n",
      "2020-01-02  2.0  2.0  2.0  2.0\n",
      "2020-01-03  3.0  3.0  3.0  3.0\n",
      "2020-01-04  4.0  4.0  4.0  4.0\n",
      "2020-01-05  5.0  5.0  5.0  5.0\n",
      "2020-01-06  6.0  6.0  6.0  6.0\n",
      "2020-01-07  7.0  7.0  7.0  7.0\n",
      "               a     b     c     d\n",
      "2020-01-01  99.0  91.0  99.0  96.0\n",
      "2020-01-02  97.0  83.0  97.0  93.0\n",
      "2020-01-03  94.0  76.0  94.0  91.0\n",
      "2020-01-04  90.0  70.0  90.0  90.0\n",
      "2020-01-05  85.0  65.0  87.0  88.0\n",
      "2020-01-06  79.0  61.0  85.0  85.0\n",
      "2020-01-07  72.0  58.0  84.0  81.0\n",
      "40.6 ms ± 6.4 ms per loop (mean ± std. dev. of 7 runs, 10 loops each)\n",
      "(1000, 1000)\n"
     ]
    }
   ],
   "source": [
    "portfolio = vbt.Portfolio.from_orders(ts, volume)\n",
    "print(portfolio.trades)\n",
    "print(portfolio.shares)\n",
    "print(portfolio.cash)\n",
    "\n",
    "%timeit vbt.Portfolio.from_orders(big_ts, big_volume)\n",
    "print(vbt.Portfolio.from_orders(big_ts, big_volume).equity.shape)"
   ]
  },
  {
   "cell_type": "code",
   "execution_count": 19,
   "metadata": {},
   "outputs": [
    {
     "name": "stdout",
     "output_type": "stream",
     "text": [
      "              a    b    c    d\n",
      "2020-01-01  1.0  1.0  1.0  1.0\n",
      "2020-01-02  0.0  0.0  0.0  0.0\n",
      "2020-01-03  0.0  0.0  0.0  0.0\n",
      "2020-01-04  0.0  0.0  0.0  0.0\n",
      "2020-01-05  0.0  0.0  0.0  0.0\n",
      "2020-01-06  0.0  0.0  0.0  0.0\n",
      "2020-01-07  0.0  0.0  0.0  0.0\n",
      "              a    b    c    d\n",
      "2020-01-01  1.0  1.0  1.0  1.0\n",
      "2020-01-02  1.0  1.0  1.0  1.0\n",
      "2020-01-03  1.0  1.0  1.0  1.0\n",
      "2020-01-04  1.0  1.0  1.0  1.0\n",
      "2020-01-05  1.0  1.0  1.0  1.0\n",
      "2020-01-06  1.0  1.0  1.0  1.0\n",
      "2020-01-07  1.0  1.0  1.0  1.0\n",
      "               a     b     c     d\n",
      "2020-01-01  99.0  91.0  99.0  96.0\n",
      "2020-01-02  99.0  91.0  99.0  96.0\n",
      "2020-01-03  99.0  91.0  99.0  96.0\n",
      "2020-01-04  99.0  91.0  99.0  96.0\n",
      "2020-01-05  99.0  91.0  99.0  96.0\n",
      "2020-01-06  99.0  91.0  99.0  96.0\n",
      "2020-01-07  99.0  91.0  99.0  96.0\n",
      "28.8 ms ± 3.4 ms per loop (mean ± std. dev. of 7 runs, 10 loops each)\n",
      "(1000, 1000)\n"
     ]
    }
   ],
   "source": [
    "portfolio = vbt.Portfolio.from_orders(ts, volume, is_target=True) # target amount of shares to hold\n",
    "print(portfolio.trades)\n",
    "print(portfolio.shares)\n",
    "print(portfolio.cash)\n",
    "\n",
    "%timeit vbt.Portfolio.from_orders(big_ts, big_volume, is_target=True)\n",
    "print(vbt.Portfolio.from_orders(big_ts, big_volume, is_target=True).equity.shape)"
   ]
  },
  {
   "cell_type": "markdown",
   "metadata": {},
   "source": [
    "## from_order_func"
   ]
  },
  {
   "cell_type": "code",
   "execution_count": 20,
   "metadata": {},
   "outputs": [
    {
     "name": "stdout",
     "output_type": "stream",
     "text": [
      "2020-01-01    0.0\n",
      "2020-01-02    1.0\n",
      "2020-01-03   -1.0\n",
      "2020-01-04    3.0\n",
      "2020-01-05   -3.0\n",
      "2020-01-06    5.0\n",
      "2020-01-07   -5.0\n",
      "Name: a, dtype: float64\n",
      "2020-01-01    0.0\n",
      "2020-01-02    1.0\n",
      "2020-01-03    0.0\n",
      "2020-01-04    3.0\n",
      "2020-01-05    0.0\n",
      "2020-01-06    5.0\n",
      "2020-01-07    0.0\n",
      "Name: a, dtype: float64\n",
      "2020-01-01    100.0\n",
      "2020-01-02     98.0\n",
      "2020-01-03    101.0\n",
      "2020-01-04     89.0\n",
      "2020-01-05    104.0\n",
      "2020-01-06     74.0\n",
      "2020-01-07    109.0\n",
      "Name: a, dtype: float64\n",
      "The slowest run took 6.72 times longer than the fastest. This could mean that an intermediate result is being cached.\n",
      "4.96 ms ± 3.74 ms per loop (mean ± std. dev. of 7 runs, 1 loop each)\n",
      "(1000,)\n"
     ]
    }
   ],
   "source": [
    "@njit\n",
    "def orders_func_np(i, j, run_cash, run_shares):\n",
    "    return -i if i % 2 == 0 else i\n",
    "\n",
    "portfolio = vbt.Portfolio.from_order_func(ts['a'], orders_func_np)\n",
    "print(portfolio.trades)\n",
    "print(portfolio.shares)\n",
    "print(portfolio.cash)\n",
    "\n",
    "%timeit vbt.Portfolio.from_order_func(big_ts.iloc[:, 0], orders_func_np)\n",
    "print(vbt.Portfolio.from_order_func(big_ts.iloc[:, 0], orders_func_np).equity.shape)"
   ]
  },
  {
   "cell_type": "code",
   "execution_count": 21,
   "metadata": {},
   "outputs": [
    {
     "name": "stdout",
     "output_type": "stream",
     "text": [
      "              a    b    c    d\n",
      "2020-01-01  0.0  0.0  0.0  0.0\n",
      "2020-01-02  1.0  1.0  1.0  1.0\n",
      "2020-01-03 -1.0 -1.0 -1.0 -1.0\n",
      "2020-01-04  3.0  3.0  3.0  3.0\n",
      "2020-01-05 -3.0 -3.0 -3.0 -3.0\n",
      "2020-01-06  5.0  5.0  5.0  5.0\n",
      "2020-01-07 -5.0 -5.0 -5.0 -5.0\n",
      "              a    b    c    d\n",
      "2020-01-01  0.0  0.0  0.0  0.0\n",
      "2020-01-02  1.0  1.0  1.0  1.0\n",
      "2020-01-03  0.0  0.0  0.0  0.0\n",
      "2020-01-04  3.0  3.0  3.0  3.0\n",
      "2020-01-05  0.0  0.0  0.0  0.0\n",
      "2020-01-06  5.0  5.0  5.0  5.0\n",
      "2020-01-07  0.0  0.0  0.0  0.0\n",
      "                a      b      c      d\n",
      "2020-01-01  100.0  100.0  100.0  100.0\n",
      "2020-01-02   98.0   92.0   98.0   97.0\n",
      "2020-01-03  101.0   99.0  101.0   99.0\n",
      "2020-01-04   89.0   81.0   89.0   96.0\n",
      "2020-01-05  104.0   96.0   98.0  102.0\n",
      "2020-01-06   74.0   76.0   88.0   87.0\n",
      "2020-01-07  109.0   91.0   93.0  107.0\n",
      "33.4 ms ± 7.28 ms per loop (mean ± std. dev. of 7 runs, 10 loops each)\n",
      "(1000, 1000)\n"
     ]
    }
   ],
   "source": [
    "portfolio = vbt.Portfolio.from_order_func(ts, orders_func_np)\n",
    "print(portfolio.trades)\n",
    "print(portfolio.shares)\n",
    "print(portfolio.cash)\n",
    "\n",
    "%timeit vbt.Portfolio.from_order_func(big_ts, orders_func_np)\n",
    "print(vbt.Portfolio.from_order_func(big_ts, orders_func_np).equity.shape)"
   ]
  },
  {
   "cell_type": "markdown",
   "metadata": {},
   "source": [
    "## Indexing and magic methods"
   ]
  },
  {
   "cell_type": "code",
   "execution_count": 22,
   "metadata": {},
   "outputs": [],
   "source": [
    "portfolio = vbt.Portfolio.from_signals(ts, entries, exits)\n",
    "big_portfolio = vbt.Portfolio.from_signals(big_ts, big_entries, big_exits)"
   ]
  },
  {
   "cell_type": "code",
   "execution_count": 23,
   "metadata": {},
   "outputs": [
    {
     "name": "stdout",
     "output_type": "stream",
     "text": [
      "2020-01-01    100.000000\n",
      "2020-01-02    100.000000\n",
      "2020-01-03    100.000000\n",
      "2020-01-04    133.333333\n",
      "2020-01-05    133.333333\n",
      "2020-01-06    160.000000\n",
      "2020-01-07    160.000000\n",
      "Name: a, dtype: float64\n",
      "112 µs ± 32 µs per loop (mean ± std. dev. of 7 runs, 10000 loops each)\n",
      "3.69 ms ± 723 µs per loop (mean ± std. dev. of 7 runs, 100 loops each)\n"
     ]
    }
   ],
   "source": [
    "print(portfolio.iloc[:, 0].equity)\n",
    "\n",
    "%timeit big_portfolio.ts.iloc[:, 0]\n",
    "%timeit big_portfolio.iloc[:, 0].ts"
   ]
  },
  {
   "cell_type": "code",
   "execution_count": 24,
   "metadata": {},
   "outputs": [
    {
     "name": "stdout",
     "output_type": "stream",
     "text": [
      "              a    b    c    d\n",
      "2020-01-01  1.0  9.0  1.0  4.0\n",
      "2020-01-02  2.0  8.0  2.0  3.0\n",
      "2020-01-03  3.0  7.0  3.0  2.0\n",
      "2020-01-04  4.0  6.0  4.0  1.0\n",
      "2020-01-05  5.0  5.0  3.0  2.0\n",
      "2020-01-06  6.0  4.0  2.0  3.0\n",
      "2020-01-07  7.0  3.0  1.0  4.0\n",
      "                     a           b           c           d\n",
      "2020-01-01  300.000000  300.000000  300.000000  200.000000\n",
      "2020-01-02  300.000000  300.000000  300.000000  200.000000\n",
      "2020-01-03  200.000000  300.000000  200.000000  200.000000\n",
      "2020-01-04  128.092277  300.000000  128.092277   24.017302\n",
      "2020-01-05  240.173020  200.000000  128.092277   24.017302\n",
      "2020-01-06  147.668683   76.855366  128.092277   24.017302\n",
      "2020-01-07  147.668683  144.103812   48.034604  768.553663\n",
      "                    a          b           c           d\n",
      "2020-01-01   0.000000   0.000000    0.000000   24.504950\n",
      "2020-01-02   0.000000   0.000000    0.000000   24.504950\n",
      "2020-01-03  32.673267   0.000000   32.673267   24.504950\n",
      "2020-01-04  49.009901   0.000000   49.009901  196.039604\n",
      "2020-01-05  25.111159  19.603960   49.009901  196.039604\n",
      "2020-01-06  39.236186  49.009901   49.009901  196.039604\n",
      "2020-01-07  39.236186  25.111159  125.555796    5.885428\n",
      "300.0\n",
      "0.01\n",
      "0.01\n"
     ]
    }
   ],
   "source": [
    "portfolio_a = vbt.Portfolio.from_signals(ts, entries, exits, investment=100, slippage=0.01, commission=0.01)\n",
    "portfolio_b = vbt.Portfolio.from_signals(ts, exits, entries, investment=200, slippage=0.01, commission=0.01)\n",
    "\n",
    "portfolio_ab = portfolio_a + portfolio_b\n",
    "\n",
    "print(portfolio_ab.ts)\n",
    "print(portfolio_ab.cash)\n",
    "print(portfolio_ab.shares)\n",
    "print(portfolio_ab.investment)\n",
    "print(portfolio_ab.slippage)\n",
    "print(portfolio_ab.commission)"
   ]
  },
  {
   "cell_type": "markdown",
   "metadata": {},
   "source": [
    "## General properties"
   ]
  },
  {
   "cell_type": "code",
   "execution_count": 25,
   "metadata": {},
   "outputs": [
    {
     "name": "stdout",
     "output_type": "stream",
     "text": [
      "2020-01-01    100.000000\n",
      "2020-01-02    100.000000\n",
      "2020-01-03      0.000000\n",
      "2020-01-04    133.333333\n",
      "2020-01-05      0.000000\n",
      "2020-01-06    160.000000\n",
      "2020-01-07    160.000000\n",
      "Name: a, dtype: float64\n",
      "                     a      b           c     d\n",
      "2020-01-01  100.000000  100.0  100.000000   0.0\n",
      "2020-01-02  100.000000  100.0  100.000000   0.0\n",
      "2020-01-03    0.000000  100.0    0.000000   0.0\n",
      "2020-01-04  133.333333  100.0  133.333333  25.0\n",
      "2020-01-05    0.000000    0.0  133.333333  25.0\n",
      "2020-01-06  160.000000   80.0  133.333333  25.0\n",
      "2020-01-07  160.000000    0.0    0.000000   0.0\n",
      "91.6 ns ± 4.43 ns per loop (mean ± std. dev. of 7 runs, 10000000 loops each)\n"
     ]
    }
   ],
   "source": [
    "# NOTE: don't forget to remove @cached_property before running %timeit\n",
    "\n",
    "print(portfolio['a'].cash)\n",
    "print(portfolio.cash)\n",
    "\n",
    "%timeit big_portfolio.cash"
   ]
  },
  {
   "cell_type": "code",
   "execution_count": 26,
   "metadata": {},
   "outputs": [
    {
     "name": "stdout",
     "output_type": "stream",
     "text": [
      "2020-01-01     0.000000\n",
      "2020-01-02     0.000000\n",
      "2020-01-03    33.333333\n",
      "2020-01-04     0.000000\n",
      "2020-01-05    26.666667\n",
      "2020-01-06     0.000000\n",
      "2020-01-07     0.000000\n",
      "Name: a, dtype: float64\n",
      "                    a          b           c      d\n",
      "2020-01-01   0.000000   0.000000    0.000000  25.00\n",
      "2020-01-02   0.000000   0.000000    0.000000  25.00\n",
      "2020-01-03  33.333333   0.000000   33.333333  25.00\n",
      "2020-01-04   0.000000   0.000000    0.000000   0.00\n",
      "2020-01-05  26.666667  20.000000    0.000000   0.00\n",
      "2020-01-06   0.000000   0.000000    0.000000   0.00\n",
      "2020-01-07   0.000000  26.666667  133.333333   6.25\n",
      "93.5 ns ± 11.5 ns per loop (mean ± std. dev. of 7 runs, 10000000 loops each)\n"
     ]
    }
   ],
   "source": [
    "print(portfolio['a'].shares)\n",
    "print(portfolio.shares)\n",
    "\n",
    "%timeit big_portfolio.shares"
   ]
  },
  {
   "cell_type": "code",
   "execution_count": 27,
   "metadata": {},
   "outputs": [
    {
     "name": "stdout",
     "output_type": "stream",
     "text": [
      "2020-01-01    100.000000\n",
      "2020-01-02    100.000000\n",
      "2020-01-03    100.000000\n",
      "2020-01-04    133.333333\n",
      "2020-01-05    133.333333\n",
      "2020-01-06    160.000000\n",
      "2020-01-07    160.000000\n",
      "Name: a, dtype: float64\n",
      "                     a      b           c      d\n",
      "2020-01-01  100.000000  100.0  100.000000  100.0\n",
      "2020-01-02  100.000000  100.0  100.000000   75.0\n",
      "2020-01-03  100.000000  100.0  100.000000   50.0\n",
      "2020-01-04  133.333333  100.0  133.333333   25.0\n",
      "2020-01-05  133.333333  100.0  133.333333   25.0\n",
      "2020-01-06  160.000000   80.0  133.333333   25.0\n",
      "2020-01-07  160.000000   80.0  133.333333   25.0\n",
      "1.12 µs ± 53.6 ns per loop (mean ± std. dev. of 7 runs, 1000000 loops each)\n"
     ]
    }
   ],
   "source": [
    "print(portfolio['a'].equity)\n",
    "print(portfolio.equity)\n",
    "\n",
    "%timeit big_portfolio.equity"
   ]
  },
  {
   "cell_type": "code",
   "execution_count": 28,
   "metadata": {
    "Collapsed": "false"
   },
   "outputs": [
    {
     "name": "stdout",
     "output_type": "stream",
     "text": [
      "2020-01-01    100.000000\n",
      "2020-01-02     50.000000\n",
      "2020-01-03     33.333333\n",
      "2020-01-04     33.333333\n",
      "2020-01-05     26.666667\n",
      "2020-01-06     26.666667\n",
      "2020-01-07     22.857143\n",
      "Name: a, dtype: float64\n",
      "                     a          b           c          d\n",
      "2020-01-01  100.000000  11.111111  100.000000  25.000000\n",
      "2020-01-02   50.000000  12.500000   50.000000  25.000000\n",
      "2020-01-03   33.333333  14.285714   33.333333  25.000000\n",
      "2020-01-04   33.333333  16.666667   33.333333  25.000000\n",
      "2020-01-05   26.666667  20.000000   44.444444  12.500000\n",
      "2020-01-06   26.666667  20.000000   66.666667   8.333333\n",
      "2020-01-07   22.857143  26.666667  133.333333   6.250000\n",
      "1.12 µs ± 36.8 ns per loop (mean ± std. dev. of 7 runs, 1000000 loops each)\n"
     ]
    }
   ],
   "source": [
    "print(portfolio['a'].equity_in_shares)\n",
    "print(portfolio.equity_in_shares)\n",
    "\n",
    "%timeit big_portfolio.equity_in_shares"
   ]
  },
  {
   "cell_type": "code",
   "execution_count": 29,
   "metadata": {
    "Collapsed": "false"
   },
   "outputs": [
    {
     "name": "stdout",
     "output_type": "stream",
     "text": [
      "2020-01-01         NaN\n",
      "2020-01-02    0.000000\n",
      "2020-01-03    0.000000\n",
      "2020-01-04    0.333333\n",
      "2020-01-05    0.000000\n",
      "2020-01-06    0.200000\n",
      "2020-01-07    0.000000\n",
      "Name: a, dtype: float64\n",
      "                   a    b         c         d\n",
      "2020-01-01       NaN  NaN       NaN       NaN\n",
      "2020-01-02  0.000000  0.0  0.000000 -0.250000\n",
      "2020-01-03  0.000000  0.0  0.000000 -0.333333\n",
      "2020-01-04  0.333333  0.0  0.333333 -0.500000\n",
      "2020-01-05  0.000000  0.0  0.000000  0.000000\n",
      "2020-01-06  0.200000 -0.2  0.000000  0.000000\n",
      "2020-01-07  0.000000  0.0  0.000000  0.000000\n",
      "463 ms ± 18.4 ms per loop (mean ± std. dev. of 7 runs, 1 loop each)\n",
      "1.03 µs ± 40 ns per loop (mean ± std. dev. of 7 runs, 1000000 loops each)\n"
     ]
    }
   ],
   "source": [
    "print(portfolio['a'].returns)\n",
    "print(portfolio.returns)\n",
    "\n",
    "%timeit big_portfolio.equity.pct_change()\n",
    "%timeit big_portfolio.returns # numba helps a lot"
   ]
  },
  {
   "cell_type": "code",
   "execution_count": 30,
   "metadata": {},
   "outputs": [
    {
     "name": "stdout",
     "output_type": "stream",
     "text": [
      "2020-01-01    0.0\n",
      "2020-01-02    0.0\n",
      "2020-01-03    0.0\n",
      "2020-01-04    0.0\n",
      "2020-01-05    0.0\n",
      "2020-01-06    0.0\n",
      "2020-01-07    0.0\n",
      "Name: a, dtype: float64\n",
      "              a    b    c     d\n",
      "2020-01-01  0.0  0.0  0.0  0.00\n",
      "2020-01-02  0.0  0.0  0.0  0.25\n",
      "2020-01-03  0.0  0.0  0.0  0.50\n",
      "2020-01-04  0.0  0.0  0.0  0.75\n",
      "2020-01-05  0.0  0.0  0.0  0.75\n",
      "2020-01-06  0.0  0.2  0.0  0.75\n",
      "2020-01-07  0.0  0.2  0.0  0.75\n",
      "1.06 µs ± 18.3 ns per loop (mean ± std. dev. of 7 runs, 1000000 loops each)\n"
     ]
    }
   ],
   "source": [
    "print(portfolio['a'].drawdown)\n",
    "print(portfolio.drawdown)\n",
    "\n",
    "%timeit big_portfolio.drawdown"
   ]
  },
  {
   "cell_type": "code",
   "execution_count": 31,
   "metadata": {},
   "outputs": [
    {
     "name": "stdout",
     "output_type": "stream",
     "text": [
      "2020-01-01     0.000000\n",
      "2020-01-02     0.000000\n",
      "2020-01-03    33.333333\n",
      "2020-01-04   -33.333333\n",
      "2020-01-05    26.666667\n",
      "2020-01-06   -26.666667\n",
      "2020-01-07     0.000000\n",
      "Name: a, dtype: float64\n",
      "                    a          b           c      d\n",
      "2020-01-01   0.000000   0.000000    0.000000  25.00\n",
      "2020-01-02   0.000000   0.000000    0.000000   0.00\n",
      "2020-01-03  33.333333   0.000000   33.333333   0.00\n",
      "2020-01-04 -33.333333   0.000000  -33.333333 -25.00\n",
      "2020-01-05  26.666667  20.000000    0.000000   0.00\n",
      "2020-01-06 -26.666667 -20.000000    0.000000   0.00\n",
      "2020-01-07   0.000000  26.666667  133.333333   6.25\n",
      "1.1 µs ± 33.7 ns per loop (mean ± std. dev. of 7 runs, 1000000 loops each)\n"
     ]
    }
   ],
   "source": [
    "print(portfolio['a'].trades)\n",
    "print(portfolio.trades)\n",
    "\n",
    "%timeit big_portfolio.trades"
   ]
  },
  {
   "cell_type": "code",
   "execution_count": 32,
   "metadata": {
    "Collapsed": "false"
   },
   "outputs": [
    {
     "name": "stdout",
     "output_type": "stream",
     "text": [
      "2020-01-01          NaN\n",
      "2020-01-02          NaN\n",
      "2020-01-03          NaN\n",
      "2020-01-04    33.333333\n",
      "2020-01-05          NaN\n",
      "2020-01-06    26.666667\n",
      "2020-01-07          NaN\n",
      "Name: a, dtype: float64\n",
      "                    a     b          c     d\n",
      "2020-01-01        NaN   NaN        NaN   NaN\n",
      "2020-01-02        NaN   NaN        NaN   NaN\n",
      "2020-01-03        NaN   NaN        NaN   NaN\n",
      "2020-01-04  33.333333   NaN  33.333333 -75.0\n",
      "2020-01-05        NaN   NaN        NaN   NaN\n",
      "2020-01-06  26.666667 -20.0        NaN   NaN\n",
      "2020-01-07        NaN   0.0   0.000000   0.0\n",
      "1.24 µs ± 325 ns per loop (mean ± std. dev. of 7 runs, 1000000 loops each)\n"
     ]
    }
   ],
   "source": [
    "print(portfolio['a'].position_profits)\n",
    "print(portfolio.position_profits)\n",
    "\n",
    "%timeit big_portfolio.position_profits"
   ]
  },
  {
   "cell_type": "code",
   "execution_count": 33,
   "metadata": {},
   "outputs": [
    {
     "name": "stdout",
     "output_type": "stream",
     "text": [
      "2020-01-01         NaN\n",
      "2020-01-02         NaN\n",
      "2020-01-03         NaN\n",
      "2020-01-04    0.333333\n",
      "2020-01-05         NaN\n",
      "2020-01-06    0.200000\n",
      "2020-01-07         NaN\n",
      "Name: a, dtype: float64\n",
      "                   a    b         c     d\n",
      "2020-01-01       NaN  NaN       NaN   NaN\n",
      "2020-01-02       NaN  NaN       NaN   NaN\n",
      "2020-01-03       NaN  NaN       NaN   NaN\n",
      "2020-01-04  0.333333  NaN  0.333333 -0.75\n",
      "2020-01-05       NaN  NaN       NaN   NaN\n",
      "2020-01-06  0.200000 -0.2       NaN   NaN\n",
      "2020-01-07       NaN  0.0  0.000000  0.00\n",
      "1.35 µs ± 424 ns per loop (mean ± std. dev. of 7 runs, 1000000 loops each)\n"
     ]
    }
   ],
   "source": [
    "print(portfolio['a'].position_returns)\n",
    "print(portfolio.position_returns)\n",
    "\n",
    "%timeit big_portfolio.position_returns"
   ]
  },
  {
   "cell_type": "code",
   "execution_count": 34,
   "metadata": {},
   "outputs": [
    {
     "name": "stdout",
     "output_type": "stream",
     "text": [
      "2020-01-01    False\n",
      "2020-01-02    False\n",
      "2020-01-03    False\n",
      "2020-01-04     True\n",
      "2020-01-05    False\n",
      "2020-01-06     True\n",
      "2020-01-07    False\n",
      "Name: a, dtype: bool\n",
      "                a      b      c      d\n",
      "2020-01-01  False  False  False  False\n",
      "2020-01-02  False  False  False  False\n",
      "2020-01-03  False  False  False  False\n",
      "2020-01-04   True  False   True  False\n",
      "2020-01-05  False  False  False  False\n",
      "2020-01-06   True  False  False  False\n",
      "2020-01-07  False  False  False  False\n",
      "1.07 µs ± 47.6 ns per loop (mean ± std. dev. of 7 runs, 1000000 loops each)\n"
     ]
    }
   ],
   "source": [
    "print(portfolio['a'].win_mask)\n",
    "print(portfolio.win_mask)\n",
    "\n",
    "%timeit big_portfolio.win_mask"
   ]
  },
  {
   "cell_type": "code",
   "execution_count": 35,
   "metadata": {},
   "outputs": [
    {
     "name": "stdout",
     "output_type": "stream",
     "text": [
      "2020-01-01    False\n",
      "2020-01-02    False\n",
      "2020-01-03    False\n",
      "2020-01-04    False\n",
      "2020-01-05    False\n",
      "2020-01-06    False\n",
      "2020-01-07    False\n",
      "Name: a, dtype: bool\n",
      "                a      b      c      d\n",
      "2020-01-01  False  False  False  False\n",
      "2020-01-02  False  False  False  False\n",
      "2020-01-03  False  False  False  False\n",
      "2020-01-04  False  False  False   True\n",
      "2020-01-05  False  False  False  False\n",
      "2020-01-06  False   True  False  False\n",
      "2020-01-07  False  False  False  False\n",
      "1.04 µs ± 47.4 ns per loop (mean ± std. dev. of 7 runs, 1000000 loops each)\n"
     ]
    }
   ],
   "source": [
    "print(portfolio['a'].loss_mask)\n",
    "print(portfolio.loss_mask)\n",
    "\n",
    "%timeit big_portfolio.loss_mask"
   ]
  },
  {
   "cell_type": "code",
   "execution_count": 36,
   "metadata": {},
   "outputs": [
    {
     "name": "stdout",
     "output_type": "stream",
     "text": [
      "2020-01-01    False\n",
      "2020-01-02    False\n",
      "2020-01-03    False\n",
      "2020-01-04     True\n",
      "2020-01-05    False\n",
      "2020-01-06     True\n",
      "2020-01-07    False\n",
      "Name: a, dtype: bool\n",
      "                a      b      c      d\n",
      "2020-01-01  False  False  False  False\n",
      "2020-01-02  False  False  False  False\n",
      "2020-01-03  False  False  False  False\n",
      "2020-01-04   True  False   True   True\n",
      "2020-01-05  False  False  False  False\n",
      "2020-01-06   True   True  False  False\n",
      "2020-01-07  False   True   True   True\n",
      "1.07 µs ± 22.7 ns per loop (mean ± std. dev. of 7 runs, 1000000 loops each)\n"
     ]
    }
   ],
   "source": [
    "print(portfolio['a'].position_mask)\n",
    "print(portfolio.position_mask)\n",
    "\n",
    "%timeit big_portfolio.position_mask"
   ]
  },
  {
   "cell_type": "markdown",
   "metadata": {},
   "source": [
    "## Performance metrics"
   ]
  },
  {
   "cell_type": "code",
   "execution_count": 37,
   "metadata": {},
   "outputs": [
    {
     "name": "stdout",
     "output_type": "stream",
     "text": [
      "60.0\n",
      "a    60.000000\n",
      "b     0.000000\n",
      "c    33.333333\n",
      "d     0.000000\n",
      "dtype: float64\n",
      "1.05 µs ± 38 ns per loop (mean ± std. dev. of 7 runs, 1000000 loops each)\n"
     ]
    }
   ],
   "source": [
    "print(portfolio['a'].sum_win)\n",
    "print(portfolio.sum_win)\n",
    "\n",
    "%timeit big_portfolio.sum_win"
   ]
  },
  {
   "cell_type": "code",
   "execution_count": 38,
   "metadata": {},
   "outputs": [
    {
     "name": "stdout",
     "output_type": "stream",
     "text": [
      "0.0\n",
      "a     0.0\n",
      "b    20.0\n",
      "c     0.0\n",
      "d    75.0\n",
      "dtype: float64\n",
      "1.07 µs ± 70.3 ns per loop (mean ± std. dev. of 7 runs, 1000000 loops each)\n"
     ]
    }
   ],
   "source": [
    "print(portfolio['a'].sum_loss)\n",
    "print(portfolio.sum_loss)\n",
    "\n",
    "%timeit big_portfolio.sum_loss"
   ]
  },
  {
   "cell_type": "code",
   "execution_count": 39,
   "metadata": {},
   "outputs": [
    {
     "name": "stdout",
     "output_type": "stream",
     "text": [
      "30.0\n",
      "a    30.000000\n",
      "b     0.000000\n",
      "c    33.333333\n",
      "d     0.000000\n",
      "dtype: float64\n",
      "1.07 µs ± 39.2 ns per loop (mean ± std. dev. of 7 runs, 1000000 loops each)\n"
     ]
    }
   ],
   "source": [
    "print(portfolio['a'].avg_win)\n",
    "print(portfolio.avg_win)\n",
    "\n",
    "%timeit big_portfolio.avg_win"
   ]
  },
  {
   "cell_type": "code",
   "execution_count": 40,
   "metadata": {},
   "outputs": [
    {
     "name": "stdout",
     "output_type": "stream",
     "text": [
      "0.0\n",
      "a     0.0\n",
      "b    20.0\n",
      "c     0.0\n",
      "d    75.0\n",
      "dtype: float64\n",
      "1.08 µs ± 42.5 ns per loop (mean ± std. dev. of 7 runs, 1000000 loops each)\n"
     ]
    }
   ],
   "source": [
    "print(portfolio['a'].avg_loss)\n",
    "print(portfolio.avg_loss)\n",
    "\n",
    "%timeit big_portfolio.avg_loss"
   ]
  },
  {
   "cell_type": "code",
   "execution_count": 41,
   "metadata": {},
   "outputs": [
    {
     "name": "stdout",
     "output_type": "stream",
     "text": [
      "1.0\n",
      "a    1.0\n",
      "b    0.0\n",
      "c    0.5\n",
      "d    0.0\n",
      "dtype: float64\n",
      "1.06 µs ± 14.4 ns per loop (mean ± std. dev. of 7 runs, 1000000 loops each)\n"
     ]
    }
   ],
   "source": [
    "print(portfolio['a'].win_rate)\n",
    "print(portfolio.win_rate)\n",
    "\n",
    "%timeit big_portfolio.win_rate"
   ]
  },
  {
   "cell_type": "code",
   "execution_count": 42,
   "metadata": {},
   "outputs": [
    {
     "name": "stdout",
     "output_type": "stream",
     "text": [
      "0.0\n",
      "a    0.0\n",
      "b    0.5\n",
      "c    0.0\n",
      "d    0.5\n",
      "dtype: float64\n",
      "1.07 µs ± 31.1 ns per loop (mean ± std. dev. of 7 runs, 1000000 loops each)\n"
     ]
    }
   ],
   "source": [
    "print(portfolio['a'].loss_rate)\n",
    "print(portfolio.loss_rate)\n",
    "\n",
    "%timeit big_portfolio.loss_rate"
   ]
  },
  {
   "cell_type": "code",
   "execution_count": 43,
   "metadata": {
    "Collapsed": "false"
   },
   "outputs": [
    {
     "name": "stdout",
     "output_type": "stream",
     "text": [
      "inf\n",
      "a    inf\n",
      "b    0.0\n",
      "c    inf\n",
      "d    0.0\n",
      "dtype: float64\n"
     ]
    },
    {
     "name": "stderr",
     "output_type": "stream",
     "text": [
      "/Users/olegpolakow/Documents/SourceTree/vectorbt/vectorbt/portfolio.py:480: RuntimeWarning:\n",
      "\n",
      "divide by zero encountered in true_divide\n",
      "\n"
     ]
    },
    {
     "name": "stdout",
     "output_type": "stream",
     "text": [
      "1.05 µs ± 36.4 ns per loop (mean ± std. dev. of 7 runs, 1000000 loops each)\n"
     ]
    }
   ],
   "source": [
    "print(portfolio['a'].profit_factor)\n",
    "print(portfolio.profit_factor)\n",
    "\n",
    "%timeit big_portfolio.profit_factor"
   ]
  },
  {
   "cell_type": "code",
   "execution_count": 44,
   "metadata": {
    "Collapsed": "false"
   },
   "outputs": [
    {
     "name": "stdout",
     "output_type": "stream",
     "text": [
      "30.0\n",
      "a    30.000000\n",
      "b   -10.000000\n",
      "c    16.666667\n",
      "d   -37.500000\n",
      "dtype: float64\n",
      "1 µs ± 60.4 ns per loop (mean ± std. dev. of 7 runs, 1000000 loops each)\n"
     ]
    }
   ],
   "source": [
    "print(portfolio['a'].appt)\n",
    "print(portfolio.appt)\n",
    "\n",
    "%timeit big_portfolio.appt"
   ]
  },
  {
   "cell_type": "code",
   "execution_count": 45,
   "metadata": {
    "Collapsed": "false"
   },
   "outputs": [
    {
     "name": "stdout",
     "output_type": "stream",
     "text": [
      "60.0\n",
      "a    60.000000\n",
      "b   -20.000000\n",
      "c    33.333333\n",
      "d   -75.000000\n",
      "dtype: float64\n",
      "1.1 µs ± 66.3 ns per loop (mean ± std. dev. of 7 runs, 1000000 loops each)\n"
     ]
    }
   ],
   "source": [
    "print(portfolio['a'].total_net_profit)\n",
    "print(portfolio.total_net_profit)\n",
    "\n",
    "%timeit big_portfolio.total_net_profit"
   ]
  },
  {
   "cell_type": "code",
   "execution_count": 46,
   "metadata": {},
   "outputs": [
    {
     "name": "stdout",
     "output_type": "stream",
     "text": [
      "0.6\n",
      "a    0.600000\n",
      "b   -0.200000\n",
      "c    0.333333\n",
      "d   -0.750000\n",
      "dtype: float64\n",
      "1.06 µs ± 29.5 ns per loop (mean ± std. dev. of 7 runs, 1000000 loops each)\n"
     ]
    }
   ],
   "source": [
    "print(portfolio['a'].total_return)\n",
    "print(portfolio.total_return)\n",
    "\n",
    "%timeit big_portfolio.total_return"
   ]
  },
  {
   "cell_type": "code",
   "execution_count": 47,
   "metadata": {
    "Collapsed": "false"
   },
   "outputs": [
    {
     "name": "stdout",
     "output_type": "stream",
     "text": [
      "0.0\n",
      "a    0.00\n",
      "b    0.20\n",
      "c    0.00\n",
      "d    0.75\n",
      "dtype: float64\n",
      "1.09 µs ± 127 ns per loop (mean ± std. dev. of 7 runs, 1000000 loops each)\n"
     ]
    }
   ],
   "source": [
    "print(portfolio['a'].mdd)\n",
    "print(portfolio.mdd)\n",
    "\n",
    "%timeit big_portfolio.mdd"
   ]
  },
  {
   "cell_type": "markdown",
   "metadata": {},
   "source": [
    "## Plotting"
   ]
  },
  {
   "cell_type": "code",
   "execution_count": 48,
   "metadata": {},
   "outputs": [
    {
     "data": {
      "application/vnd.jupyter.widget-view+json": {
       "model_id": "15081f1e8f34459691c2b1eb71a1dfdf",
       "version_major": 2,
       "version_minor": 0
      },
      "text/plain": [
       "FigureWidget({\n",
       "    'data': [{'mode': 'lines',\n",
       "              'name': 'a',\n",
       "              'type': 'scatter',\n",
       "    …"
      ]
     },
     "metadata": {},
     "output_type": "display_data"
    }
   ],
   "source": [
    "portfolio['a'].plot_trades()"
   ]
  },
  {
   "cell_type": "code",
   "execution_count": 49,
   "metadata": {},
   "outputs": [
    {
     "data": {
      "application/vnd.jupyter.widget-view+json": {
       "model_id": "6382517283ef479292c8069089e64485",
       "version_major": 2,
       "version_minor": 0
      },
      "text/plain": [
       "FigureWidget({\n",
       "    'data': [{'marker': {'color': 'green', 'size': 10, 'symbol': 'circle'},\n",
       "              'mode…"
      ]
     },
     "metadata": {},
     "output_type": "display_data"
    }
   ],
   "source": [
    "portfolio['a'].plot_position_profits()"
   ]
  },
  {
   "cell_type": "code",
   "execution_count": null,
   "metadata": {},
   "outputs": [],
   "source": []
  }
 ],
 "metadata": {
  "kernelspec": {
   "display_name": "Python 3",
   "language": "python",
   "name": "python3"
  },
  "language_info": {
   "codemirror_mode": {
    "name": "ipython",
    "version": 3
   },
   "file_extension": ".py",
   "mimetype": "text/x-python",
   "name": "python",
   "nbconvert_exporter": "python",
   "pygments_lexer": "ipython3",
   "version": "3.7.3"
  },
  "widgets": {
   "application/vnd.jupyter.widget-state+json": {
    "state": {
     "15081f1e8f34459691c2b1eb71a1dfdf": {
      "buffers": [
       {
        "data": "AAAAAAAA8D8AAAAAAAAAQAAAAAAAAAhAAAAAAAAAEEAAAAAAAAAUQAAAAAAAABhAAAAAAAAAHEA=",
        "encoding": "base64",
        "path": [
         "_data",
         0,
         "y",
         "value"
        ]
       },
       {
        "data": "q6qqqqqqQECrqqqqqqo6QA==",
        "encoding": "base64",
        "path": [
         "_data",
         1,
         "customdata",
         "value"
        ]
       },
       {
        "data": "AAAAAAAACEAAAAAAAAAUQA==",
        "encoding": "base64",
        "path": [
         "_data",
         1,
         "y",
         "value"
        ]
       },
       {
        "data": "q6qqqqqqQMCrqqqqqqo6wA==",
        "encoding": "base64",
        "path": [
         "_data",
         2,
         "customdata",
         "value"
        ]
       },
       {
        "data": "AAAAAAAAEEAAAAAAAAAYQA==",
        "encoding": "base64",
        "path": [
         "_data",
         2,
         "y",
         "value"
        ]
       }
      ],
      "model_module": "plotlywidget",
      "model_module_version": "1.5.0",
      "model_name": "FigureModel",
      "state": {
       "_config": {
        "plotlyServerURL": "https://plot.ly"
       },
       "_data": [
        {
         "mode": "lines",
         "name": "a",
         "type": "scatter",
         "uid": "10559408-b9f3-46bf-a6c0-693a3bd8b67e",
         "x": [
          "2020-01-01T00:00:00.000000",
          "2020-01-02T00:00:00.000000",
          "2020-01-03T00:00:00.000000",
          "2020-01-04T00:00:00.000000",
          "2020-01-05T00:00:00.000000",
          "2020-01-06T00:00:00.000000",
          "2020-01-07T00:00:00.000000"
         ],
         "y": {
          "dtype": "float64",
          "shape": [
           7
          ]
         }
        },
        {
         "customdata": {
          "dtype": "float64",
          "shape": [
           2
          ]
         },
         "hovertemplate": "(%{x}, %{y})<br>%{customdata:.6g}",
         "marker": {
          "color": "limegreen",
          "size": 10,
          "symbol": "triangle-up"
         },
         "mode": "markers",
         "name": "Buy",
         "type": "scatter",
         "uid": "f2e7f342-62ff-42f4-9830-832f9ab35b58",
         "x": [
          "2020-01-03T00:00:00.000000",
          "2020-01-05T00:00:00.000000"
         ],
         "y": {
          "dtype": "float64",
          "shape": [
           2
          ]
         }
        },
        {
         "customdata": {
          "dtype": "float64",
          "shape": [
           2
          ]
         },
         "hovertemplate": "(%{x}, %{y})<br>%{customdata:.6g}",
         "marker": {
          "color": "orangered",
          "size": 10,
          "symbol": "triangle-down"
         },
         "mode": "markers",
         "name": "Sell",
         "type": "scatter",
         "uid": "5325a196-4a82-4163-b5f0-dba165d88cd8",
         "x": [
          "2020-01-04T00:00:00.000000",
          "2020-01-06T00:00:00.000000"
         ],
         "y": {
          "dtype": "float64",
          "shape": [
           2
          ]
         }
        }
       ],
       "_js2py_pointsCallback": {},
       "_js2py_relayout": {},
       "_js2py_restyle": {},
       "_js2py_update": {},
       "_last_layout_edit_id": 5,
       "_last_trace_edit_id": 5,
       "_layout": {
        "autosize": false,
        "colorway": [
         "#1f77b4",
         "#ff7f0e",
         "#2ca02c",
         "#d62728",
         "#9467bd",
         "#8c564b",
         "#e377c2",
         "#7f7f7f",
         "#bcbd22",
         "#17becf"
        ],
        "height": 300,
        "hovermode": "closest",
        "margin": {
         "b": 30,
         "t": 30
        },
        "showlegend": true,
        "template": {
         "data": {
          "bar": [
           {
            "error_x": {
             "color": "#2a3f5f"
            },
            "error_y": {
             "color": "#2a3f5f"
            },
            "marker": {
             "line": {
              "color": "#E5ECF6",
              "width": 0.5
             }
            },
            "type": "bar"
           }
          ],
          "barpolar": [
           {
            "marker": {
             "line": {
              "color": "#E5ECF6",
              "width": 0.5
             }
            },
            "type": "barpolar"
           }
          ],
          "carpet": [
           {
            "aaxis": {
             "endlinecolor": "#2a3f5f",
             "gridcolor": "white",
             "linecolor": "white",
             "minorgridcolor": "white",
             "startlinecolor": "#2a3f5f"
            },
            "baxis": {
             "endlinecolor": "#2a3f5f",
             "gridcolor": "white",
             "linecolor": "white",
             "minorgridcolor": "white",
             "startlinecolor": "#2a3f5f"
            },
            "type": "carpet"
           }
          ],
          "choropleth": [
           {
            "colorbar": {
             "outlinewidth": 0,
             "ticks": ""
            },
            "type": "choropleth"
           }
          ],
          "contour": [
           {
            "colorbar": {
             "outlinewidth": 0,
             "ticks": ""
            },
            "colorscale": [
             [
              0,
              "#0d0887"
             ],
             [
              0.1111111111111111,
              "#46039f"
             ],
             [
              0.2222222222222222,
              "#7201a8"
             ],
             [
              0.3333333333333333,
              "#9c179e"
             ],
             [
              0.4444444444444444,
              "#bd3786"
             ],
             [
              0.5555555555555556,
              "#d8576b"
             ],
             [
              0.6666666666666666,
              "#ed7953"
             ],
             [
              0.7777777777777778,
              "#fb9f3a"
             ],
             [
              0.8888888888888888,
              "#fdca26"
             ],
             [
              1,
              "#f0f921"
             ]
            ],
            "type": "contour"
           }
          ],
          "contourcarpet": [
           {
            "colorbar": {
             "outlinewidth": 0,
             "ticks": ""
            },
            "type": "contourcarpet"
           }
          ],
          "heatmap": [
           {
            "colorbar": {
             "outlinewidth": 0,
             "ticks": ""
            },
            "colorscale": [
             [
              0,
              "#0d0887"
             ],
             [
              0.1111111111111111,
              "#46039f"
             ],
             [
              0.2222222222222222,
              "#7201a8"
             ],
             [
              0.3333333333333333,
              "#9c179e"
             ],
             [
              0.4444444444444444,
              "#bd3786"
             ],
             [
              0.5555555555555556,
              "#d8576b"
             ],
             [
              0.6666666666666666,
              "#ed7953"
             ],
             [
              0.7777777777777778,
              "#fb9f3a"
             ],
             [
              0.8888888888888888,
              "#fdca26"
             ],
             [
              1,
              "#f0f921"
             ]
            ],
            "type": "heatmap"
           }
          ],
          "heatmapgl": [
           {
            "colorbar": {
             "outlinewidth": 0,
             "ticks": ""
            },
            "colorscale": [
             [
              0,
              "#0d0887"
             ],
             [
              0.1111111111111111,
              "#46039f"
             ],
             [
              0.2222222222222222,
              "#7201a8"
             ],
             [
              0.3333333333333333,
              "#9c179e"
             ],
             [
              0.4444444444444444,
              "#bd3786"
             ],
             [
              0.5555555555555556,
              "#d8576b"
             ],
             [
              0.6666666666666666,
              "#ed7953"
             ],
             [
              0.7777777777777778,
              "#fb9f3a"
             ],
             [
              0.8888888888888888,
              "#fdca26"
             ],
             [
              1,
              "#f0f921"
             ]
            ],
            "type": "heatmapgl"
           }
          ],
          "histogram": [
           {
            "marker": {
             "colorbar": {
              "outlinewidth": 0,
              "ticks": ""
             }
            },
            "type": "histogram"
           }
          ],
          "histogram2d": [
           {
            "colorbar": {
             "outlinewidth": 0,
             "ticks": ""
            },
            "colorscale": [
             [
              0,
              "#0d0887"
             ],
             [
              0.1111111111111111,
              "#46039f"
             ],
             [
              0.2222222222222222,
              "#7201a8"
             ],
             [
              0.3333333333333333,
              "#9c179e"
             ],
             [
              0.4444444444444444,
              "#bd3786"
             ],
             [
              0.5555555555555556,
              "#d8576b"
             ],
             [
              0.6666666666666666,
              "#ed7953"
             ],
             [
              0.7777777777777778,
              "#fb9f3a"
             ],
             [
              0.8888888888888888,
              "#fdca26"
             ],
             [
              1,
              "#f0f921"
             ]
            ],
            "type": "histogram2d"
           }
          ],
          "histogram2dcontour": [
           {
            "colorbar": {
             "outlinewidth": 0,
             "ticks": ""
            },
            "colorscale": [
             [
              0,
              "#0d0887"
             ],
             [
              0.1111111111111111,
              "#46039f"
             ],
             [
              0.2222222222222222,
              "#7201a8"
             ],
             [
              0.3333333333333333,
              "#9c179e"
             ],
             [
              0.4444444444444444,
              "#bd3786"
             ],
             [
              0.5555555555555556,
              "#d8576b"
             ],
             [
              0.6666666666666666,
              "#ed7953"
             ],
             [
              0.7777777777777778,
              "#fb9f3a"
             ],
             [
              0.8888888888888888,
              "#fdca26"
             ],
             [
              1,
              "#f0f921"
             ]
            ],
            "type": "histogram2dcontour"
           }
          ],
          "mesh3d": [
           {
            "colorbar": {
             "outlinewidth": 0,
             "ticks": ""
            },
            "type": "mesh3d"
           }
          ],
          "parcoords": [
           {
            "line": {
             "colorbar": {
              "outlinewidth": 0,
              "ticks": ""
             }
            },
            "type": "parcoords"
           }
          ],
          "pie": [
           {
            "automargin": true,
            "type": "pie"
           }
          ],
          "scatter": [
           {
            "marker": {
             "colorbar": {
              "outlinewidth": 0,
              "ticks": ""
             }
            },
            "type": "scatter"
           }
          ],
          "scatter3d": [
           {
            "line": {
             "colorbar": {
              "outlinewidth": 0,
              "ticks": ""
             }
            },
            "marker": {
             "colorbar": {
              "outlinewidth": 0,
              "ticks": ""
             }
            },
            "type": "scatter3d"
           }
          ],
          "scattercarpet": [
           {
            "marker": {
             "colorbar": {
              "outlinewidth": 0,
              "ticks": ""
             }
            },
            "type": "scattercarpet"
           }
          ],
          "scattergeo": [
           {
            "marker": {
             "colorbar": {
              "outlinewidth": 0,
              "ticks": ""
             }
            },
            "type": "scattergeo"
           }
          ],
          "scattergl": [
           {
            "marker": {
             "colorbar": {
              "outlinewidth": 0,
              "ticks": ""
             }
            },
            "type": "scattergl"
           }
          ],
          "scattermapbox": [
           {
            "marker": {
             "colorbar": {
              "outlinewidth": 0,
              "ticks": ""
             }
            },
            "type": "scattermapbox"
           }
          ],
          "scatterpolar": [
           {
            "marker": {
             "colorbar": {
              "outlinewidth": 0,
              "ticks": ""
             }
            },
            "type": "scatterpolar"
           }
          ],
          "scatterpolargl": [
           {
            "marker": {
             "colorbar": {
              "outlinewidth": 0,
              "ticks": ""
             }
            },
            "type": "scatterpolargl"
           }
          ],
          "scatterternary": [
           {
            "marker": {
             "colorbar": {
              "outlinewidth": 0,
              "ticks": ""
             }
            },
            "type": "scatterternary"
           }
          ],
          "surface": [
           {
            "colorbar": {
             "outlinewidth": 0,
             "ticks": ""
            },
            "colorscale": [
             [
              0,
              "#0d0887"
             ],
             [
              0.1111111111111111,
              "#46039f"
             ],
             [
              0.2222222222222222,
              "#7201a8"
             ],
             [
              0.3333333333333333,
              "#9c179e"
             ],
             [
              0.4444444444444444,
              "#bd3786"
             ],
             [
              0.5555555555555556,
              "#d8576b"
             ],
             [
              0.6666666666666666,
              "#ed7953"
             ],
             [
              0.7777777777777778,
              "#fb9f3a"
             ],
             [
              0.8888888888888888,
              "#fdca26"
             ],
             [
              1,
              "#f0f921"
             ]
            ],
            "type": "surface"
           }
          ],
          "table": [
           {
            "cells": {
             "fill": {
              "color": "#EBF0F8"
             },
             "line": {
              "color": "white"
             }
            },
            "header": {
             "fill": {
              "color": "#C8D4E3"
             },
             "line": {
              "color": "white"
             }
            },
            "type": "table"
           }
          ]
         },
         "layout": {
          "annotationdefaults": {
           "arrowcolor": "#2a3f5f",
           "arrowhead": 0,
           "arrowwidth": 1
          },
          "coloraxis": {
           "colorbar": {
            "outlinewidth": 0,
            "ticks": ""
           }
          },
          "colorscale": {
           "diverging": [
            [
             0,
             "#8e0152"
            ],
            [
             0.1,
             "#c51b7d"
            ],
            [
             0.2,
             "#de77ae"
            ],
            [
             0.3,
             "#f1b6da"
            ],
            [
             0.4,
             "#fde0ef"
            ],
            [
             0.5,
             "#f7f7f7"
            ],
            [
             0.6,
             "#e6f5d0"
            ],
            [
             0.7,
             "#b8e186"
            ],
            [
             0.8,
             "#7fbc41"
            ],
            [
             0.9,
             "#4d9221"
            ],
            [
             1,
             "#276419"
            ]
           ],
           "sequential": [
            [
             0,
             "#0d0887"
            ],
            [
             0.1111111111111111,
             "#46039f"
            ],
            [
             0.2222222222222222,
             "#7201a8"
            ],
            [
             0.3333333333333333,
             "#9c179e"
            ],
            [
             0.4444444444444444,
             "#bd3786"
            ],
            [
             0.5555555555555556,
             "#d8576b"
            ],
            [
             0.6666666666666666,
             "#ed7953"
            ],
            [
             0.7777777777777778,
             "#fb9f3a"
            ],
            [
             0.8888888888888888,
             "#fdca26"
            ],
            [
             1,
             "#f0f921"
            ]
           ],
           "sequentialminus": [
            [
             0,
             "#0d0887"
            ],
            [
             0.1111111111111111,
             "#46039f"
            ],
            [
             0.2222222222222222,
             "#7201a8"
            ],
            [
             0.3333333333333333,
             "#9c179e"
            ],
            [
             0.4444444444444444,
             "#bd3786"
            ],
            [
             0.5555555555555556,
             "#d8576b"
            ],
            [
             0.6666666666666666,
             "#ed7953"
            ],
            [
             0.7777777777777778,
             "#fb9f3a"
            ],
            [
             0.8888888888888888,
             "#fdca26"
            ],
            [
             1,
             "#f0f921"
            ]
           ]
          },
          "colorway": [
           "#636efa",
           "#EF553B",
           "#00cc96",
           "#ab63fa",
           "#FFA15A",
           "#19d3f3",
           "#FF6692",
           "#B6E880",
           "#FF97FF",
           "#FECB52"
          ],
          "font": {
           "color": "#2a3f5f"
          },
          "geo": {
           "bgcolor": "white",
           "lakecolor": "white",
           "landcolor": "#E5ECF6",
           "showlakes": true,
           "showland": true,
           "subunitcolor": "white"
          },
          "hoverlabel": {
           "align": "left"
          },
          "hovermode": "closest",
          "mapbox": {
           "style": "light"
          },
          "paper_bgcolor": "white",
          "plot_bgcolor": "#E5ECF6",
          "polar": {
           "angularaxis": {
            "gridcolor": "white",
            "linecolor": "white",
            "ticks": ""
           },
           "bgcolor": "#E5ECF6",
           "radialaxis": {
            "gridcolor": "white",
            "linecolor": "white",
            "ticks": ""
           }
          },
          "scene": {
           "xaxis": {
            "backgroundcolor": "#E5ECF6",
            "gridcolor": "white",
            "gridwidth": 2,
            "linecolor": "white",
            "showbackground": true,
            "ticks": "",
            "zerolinecolor": "white"
           },
           "yaxis": {
            "backgroundcolor": "#E5ECF6",
            "gridcolor": "white",
            "gridwidth": 2,
            "linecolor": "white",
            "showbackground": true,
            "ticks": "",
            "zerolinecolor": "white"
           },
           "zaxis": {
            "backgroundcolor": "#E5ECF6",
            "gridcolor": "white",
            "gridwidth": 2,
            "linecolor": "white",
            "showbackground": true,
            "ticks": "",
            "zerolinecolor": "white"
           }
          },
          "shapedefaults": {
           "line": {
            "color": "#2a3f5f"
           }
          },
          "ternary": {
           "aaxis": {
            "gridcolor": "white",
            "linecolor": "white",
            "ticks": ""
           },
           "baxis": {
            "gridcolor": "white",
            "linecolor": "white",
            "ticks": ""
           },
           "bgcolor": "#E5ECF6",
           "caxis": {
            "gridcolor": "white",
            "linecolor": "white",
            "ticks": ""
           }
          },
          "title": {
           "x": 0.05
          },
          "xaxis": {
           "automargin": true,
           "gridcolor": "white",
           "linecolor": "white",
           "ticks": "",
           "title": {
            "standoff": 15
           },
           "zerolinecolor": "white",
           "zerolinewidth": 2
          },
          "yaxis": {
           "automargin": true,
           "gridcolor": "white",
           "linecolor": "white",
           "ticks": "",
           "title": {
            "standoff": 15
           },
           "zerolinecolor": "white",
           "zerolinewidth": 2
          }
         }
        },
        "width": 700
       },
       "_model_module_version": "1.5.0",
       "_py2js_animate": {},
       "_py2js_deleteTraces": {},
       "_py2js_moveTraces": {},
       "_py2js_removeLayoutProps": {},
       "_py2js_removeTraceProps": {},
       "_py2js_restyle": {},
       "_view_count": 1,
       "_view_module_version": "1.5.0"
      }
     },
     "6382517283ef479292c8069089e64485": {
      "buffers": [
       {
        "data": "AAAAAAAA+H8AAAAAAAD4fwAAAAAAAPh/rKqqqqqqQEAAAAAAAAD4f6iqqqqqqjpAAAAAAAAA+H8=",
        "encoding": "base64",
        "path": [
         "_data",
         0,
         "y",
         "value"
        ]
       },
       {
        "data": "AAAAAAAA+H8AAAAAAAD4fwAAAAAAAPh/AAAAAAAA+H8AAAAAAAD4fwAAAAAAAPh/AAAAAAAA+H8=",
        "encoding": "base64",
        "path": [
         "_data",
         1,
         "y",
         "value"
        ]
       }
      ],
      "model_module": "plotlywidget",
      "model_module_version": "1.5.0",
      "model_name": "FigureModel",
      "state": {
       "_config": {
        "plotlyServerURL": "https://plot.ly"
       },
       "_data": [
        {
         "marker": {
          "color": "green",
          "size": 10,
          "symbol": "circle"
         },
         "mode": "markers",
         "name": "Profit",
         "type": "scatter",
         "uid": "875d015c-c637-45eb-a386-dbfe588a5963",
         "x": [
          "2020-01-01T00:00:00.000000",
          "2020-01-02T00:00:00.000000",
          "2020-01-03T00:00:00.000000",
          "2020-01-04T00:00:00.000000",
          "2020-01-05T00:00:00.000000",
          "2020-01-06T00:00:00.000000",
          "2020-01-07T00:00:00.000000"
         ],
         "y": {
          "dtype": "float64",
          "shape": [
           7
          ]
         }
        },
        {
         "marker": {
          "color": "red",
          "size": 10,
          "symbol": "circle"
         },
         "mode": "markers",
         "name": "Loss",
         "type": "scatter",
         "uid": "7db4a44e-3546-43e5-be22-f9e05158aeea",
         "x": [
          "2020-01-01T00:00:00.000000",
          "2020-01-02T00:00:00.000000",
          "2020-01-03T00:00:00.000000",
          "2020-01-04T00:00:00.000000",
          "2020-01-05T00:00:00.000000",
          "2020-01-06T00:00:00.000000",
          "2020-01-07T00:00:00.000000"
         ],
         "y": {
          "dtype": "float64",
          "shape": [
           7
          ]
         }
        }
       ],
       "_js2py_pointsCallback": {},
       "_js2py_relayout": {},
       "_js2py_restyle": {},
       "_js2py_update": {},
       "_last_layout_edit_id": 5,
       "_last_trace_edit_id": 5,
       "_layout": {
        "autosize": false,
        "colorway": [
         "#1f77b4",
         "#ff7f0e",
         "#2ca02c",
         "#d62728",
         "#9467bd",
         "#8c564b",
         "#e377c2",
         "#7f7f7f",
         "#bcbd22",
         "#17becf"
        ],
        "height": 300,
        "hovermode": "closest",
        "margin": {
         "b": 30,
         "t": 30
        },
        "shapes": [
         {
          "line": {
           "color": "grey",
           "dash": "dot",
           "width": 2
          },
          "type": "line",
          "x0": 0,
          "x1": 1,
          "xref": "paper",
          "y0": 0,
          "y1": 0,
          "yref": "y"
         }
        ],
        "showlegend": true,
        "template": {
         "data": {
          "bar": [
           {
            "error_x": {
             "color": "#2a3f5f"
            },
            "error_y": {
             "color": "#2a3f5f"
            },
            "marker": {
             "line": {
              "color": "#E5ECF6",
              "width": 0.5
             }
            },
            "type": "bar"
           }
          ],
          "barpolar": [
           {
            "marker": {
             "line": {
              "color": "#E5ECF6",
              "width": 0.5
             }
            },
            "type": "barpolar"
           }
          ],
          "carpet": [
           {
            "aaxis": {
             "endlinecolor": "#2a3f5f",
             "gridcolor": "white",
             "linecolor": "white",
             "minorgridcolor": "white",
             "startlinecolor": "#2a3f5f"
            },
            "baxis": {
             "endlinecolor": "#2a3f5f",
             "gridcolor": "white",
             "linecolor": "white",
             "minorgridcolor": "white",
             "startlinecolor": "#2a3f5f"
            },
            "type": "carpet"
           }
          ],
          "choropleth": [
           {
            "colorbar": {
             "outlinewidth": 0,
             "ticks": ""
            },
            "type": "choropleth"
           }
          ],
          "contour": [
           {
            "colorbar": {
             "outlinewidth": 0,
             "ticks": ""
            },
            "colorscale": [
             [
              0,
              "#0d0887"
             ],
             [
              0.1111111111111111,
              "#46039f"
             ],
             [
              0.2222222222222222,
              "#7201a8"
             ],
             [
              0.3333333333333333,
              "#9c179e"
             ],
             [
              0.4444444444444444,
              "#bd3786"
             ],
             [
              0.5555555555555556,
              "#d8576b"
             ],
             [
              0.6666666666666666,
              "#ed7953"
             ],
             [
              0.7777777777777778,
              "#fb9f3a"
             ],
             [
              0.8888888888888888,
              "#fdca26"
             ],
             [
              1,
              "#f0f921"
             ]
            ],
            "type": "contour"
           }
          ],
          "contourcarpet": [
           {
            "colorbar": {
             "outlinewidth": 0,
             "ticks": ""
            },
            "type": "contourcarpet"
           }
          ],
          "heatmap": [
           {
            "colorbar": {
             "outlinewidth": 0,
             "ticks": ""
            },
            "colorscale": [
             [
              0,
              "#0d0887"
             ],
             [
              0.1111111111111111,
              "#46039f"
             ],
             [
              0.2222222222222222,
              "#7201a8"
             ],
             [
              0.3333333333333333,
              "#9c179e"
             ],
             [
              0.4444444444444444,
              "#bd3786"
             ],
             [
              0.5555555555555556,
              "#d8576b"
             ],
             [
              0.6666666666666666,
              "#ed7953"
             ],
             [
              0.7777777777777778,
              "#fb9f3a"
             ],
             [
              0.8888888888888888,
              "#fdca26"
             ],
             [
              1,
              "#f0f921"
             ]
            ],
            "type": "heatmap"
           }
          ],
          "heatmapgl": [
           {
            "colorbar": {
             "outlinewidth": 0,
             "ticks": ""
            },
            "colorscale": [
             [
              0,
              "#0d0887"
             ],
             [
              0.1111111111111111,
              "#46039f"
             ],
             [
              0.2222222222222222,
              "#7201a8"
             ],
             [
              0.3333333333333333,
              "#9c179e"
             ],
             [
              0.4444444444444444,
              "#bd3786"
             ],
             [
              0.5555555555555556,
              "#d8576b"
             ],
             [
              0.6666666666666666,
              "#ed7953"
             ],
             [
              0.7777777777777778,
              "#fb9f3a"
             ],
             [
              0.8888888888888888,
              "#fdca26"
             ],
             [
              1,
              "#f0f921"
             ]
            ],
            "type": "heatmapgl"
           }
          ],
          "histogram": [
           {
            "marker": {
             "colorbar": {
              "outlinewidth": 0,
              "ticks": ""
             }
            },
            "type": "histogram"
           }
          ],
          "histogram2d": [
           {
            "colorbar": {
             "outlinewidth": 0,
             "ticks": ""
            },
            "colorscale": [
             [
              0,
              "#0d0887"
             ],
             [
              0.1111111111111111,
              "#46039f"
             ],
             [
              0.2222222222222222,
              "#7201a8"
             ],
             [
              0.3333333333333333,
              "#9c179e"
             ],
             [
              0.4444444444444444,
              "#bd3786"
             ],
             [
              0.5555555555555556,
              "#d8576b"
             ],
             [
              0.6666666666666666,
              "#ed7953"
             ],
             [
              0.7777777777777778,
              "#fb9f3a"
             ],
             [
              0.8888888888888888,
              "#fdca26"
             ],
             [
              1,
              "#f0f921"
             ]
            ],
            "type": "histogram2d"
           }
          ],
          "histogram2dcontour": [
           {
            "colorbar": {
             "outlinewidth": 0,
             "ticks": ""
            },
            "colorscale": [
             [
              0,
              "#0d0887"
             ],
             [
              0.1111111111111111,
              "#46039f"
             ],
             [
              0.2222222222222222,
              "#7201a8"
             ],
             [
              0.3333333333333333,
              "#9c179e"
             ],
             [
              0.4444444444444444,
              "#bd3786"
             ],
             [
              0.5555555555555556,
              "#d8576b"
             ],
             [
              0.6666666666666666,
              "#ed7953"
             ],
             [
              0.7777777777777778,
              "#fb9f3a"
             ],
             [
              0.8888888888888888,
              "#fdca26"
             ],
             [
              1,
              "#f0f921"
             ]
            ],
            "type": "histogram2dcontour"
           }
          ],
          "mesh3d": [
           {
            "colorbar": {
             "outlinewidth": 0,
             "ticks": ""
            },
            "type": "mesh3d"
           }
          ],
          "parcoords": [
           {
            "line": {
             "colorbar": {
              "outlinewidth": 0,
              "ticks": ""
             }
            },
            "type": "parcoords"
           }
          ],
          "pie": [
           {
            "automargin": true,
            "type": "pie"
           }
          ],
          "scatter": [
           {
            "marker": {
             "colorbar": {
              "outlinewidth": 0,
              "ticks": ""
             }
            },
            "type": "scatter"
           }
          ],
          "scatter3d": [
           {
            "line": {
             "colorbar": {
              "outlinewidth": 0,
              "ticks": ""
             }
            },
            "marker": {
             "colorbar": {
              "outlinewidth": 0,
              "ticks": ""
             }
            },
            "type": "scatter3d"
           }
          ],
          "scattercarpet": [
           {
            "marker": {
             "colorbar": {
              "outlinewidth": 0,
              "ticks": ""
             }
            },
            "type": "scattercarpet"
           }
          ],
          "scattergeo": [
           {
            "marker": {
             "colorbar": {
              "outlinewidth": 0,
              "ticks": ""
             }
            },
            "type": "scattergeo"
           }
          ],
          "scattergl": [
           {
            "marker": {
             "colorbar": {
              "outlinewidth": 0,
              "ticks": ""
             }
            },
            "type": "scattergl"
           }
          ],
          "scattermapbox": [
           {
            "marker": {
             "colorbar": {
              "outlinewidth": 0,
              "ticks": ""
             }
            },
            "type": "scattermapbox"
           }
          ],
          "scatterpolar": [
           {
            "marker": {
             "colorbar": {
              "outlinewidth": 0,
              "ticks": ""
             }
            },
            "type": "scatterpolar"
           }
          ],
          "scatterpolargl": [
           {
            "marker": {
             "colorbar": {
              "outlinewidth": 0,
              "ticks": ""
             }
            },
            "type": "scatterpolargl"
           }
          ],
          "scatterternary": [
           {
            "marker": {
             "colorbar": {
              "outlinewidth": 0,
              "ticks": ""
             }
            },
            "type": "scatterternary"
           }
          ],
          "surface": [
           {
            "colorbar": {
             "outlinewidth": 0,
             "ticks": ""
            },
            "colorscale": [
             [
              0,
              "#0d0887"
             ],
             [
              0.1111111111111111,
              "#46039f"
             ],
             [
              0.2222222222222222,
              "#7201a8"
             ],
             [
              0.3333333333333333,
              "#9c179e"
             ],
             [
              0.4444444444444444,
              "#bd3786"
             ],
             [
              0.5555555555555556,
              "#d8576b"
             ],
             [
              0.6666666666666666,
              "#ed7953"
             ],
             [
              0.7777777777777778,
              "#fb9f3a"
             ],
             [
              0.8888888888888888,
              "#fdca26"
             ],
             [
              1,
              "#f0f921"
             ]
            ],
            "type": "surface"
           }
          ],
          "table": [
           {
            "cells": {
             "fill": {
              "color": "#EBF0F8"
             },
             "line": {
              "color": "white"
             }
            },
            "header": {
             "fill": {
              "color": "#C8D4E3"
             },
             "line": {
              "color": "white"
             }
            },
            "type": "table"
           }
          ]
         },
         "layout": {
          "annotationdefaults": {
           "arrowcolor": "#2a3f5f",
           "arrowhead": 0,
           "arrowwidth": 1
          },
          "coloraxis": {
           "colorbar": {
            "outlinewidth": 0,
            "ticks": ""
           }
          },
          "colorscale": {
           "diverging": [
            [
             0,
             "#8e0152"
            ],
            [
             0.1,
             "#c51b7d"
            ],
            [
             0.2,
             "#de77ae"
            ],
            [
             0.3,
             "#f1b6da"
            ],
            [
             0.4,
             "#fde0ef"
            ],
            [
             0.5,
             "#f7f7f7"
            ],
            [
             0.6,
             "#e6f5d0"
            ],
            [
             0.7,
             "#b8e186"
            ],
            [
             0.8,
             "#7fbc41"
            ],
            [
             0.9,
             "#4d9221"
            ],
            [
             1,
             "#276419"
            ]
           ],
           "sequential": [
            [
             0,
             "#0d0887"
            ],
            [
             0.1111111111111111,
             "#46039f"
            ],
            [
             0.2222222222222222,
             "#7201a8"
            ],
            [
             0.3333333333333333,
             "#9c179e"
            ],
            [
             0.4444444444444444,
             "#bd3786"
            ],
            [
             0.5555555555555556,
             "#d8576b"
            ],
            [
             0.6666666666666666,
             "#ed7953"
            ],
            [
             0.7777777777777778,
             "#fb9f3a"
            ],
            [
             0.8888888888888888,
             "#fdca26"
            ],
            [
             1,
             "#f0f921"
            ]
           ],
           "sequentialminus": [
            [
             0,
             "#0d0887"
            ],
            [
             0.1111111111111111,
             "#46039f"
            ],
            [
             0.2222222222222222,
             "#7201a8"
            ],
            [
             0.3333333333333333,
             "#9c179e"
            ],
            [
             0.4444444444444444,
             "#bd3786"
            ],
            [
             0.5555555555555556,
             "#d8576b"
            ],
            [
             0.6666666666666666,
             "#ed7953"
            ],
            [
             0.7777777777777778,
             "#fb9f3a"
            ],
            [
             0.8888888888888888,
             "#fdca26"
            ],
            [
             1,
             "#f0f921"
            ]
           ]
          },
          "colorway": [
           "#636efa",
           "#EF553B",
           "#00cc96",
           "#ab63fa",
           "#FFA15A",
           "#19d3f3",
           "#FF6692",
           "#B6E880",
           "#FF97FF",
           "#FECB52"
          ],
          "font": {
           "color": "#2a3f5f"
          },
          "geo": {
           "bgcolor": "white",
           "lakecolor": "white",
           "landcolor": "#E5ECF6",
           "showlakes": true,
           "showland": true,
           "subunitcolor": "white"
          },
          "hoverlabel": {
           "align": "left"
          },
          "hovermode": "closest",
          "mapbox": {
           "style": "light"
          },
          "paper_bgcolor": "white",
          "plot_bgcolor": "#E5ECF6",
          "polar": {
           "angularaxis": {
            "gridcolor": "white",
            "linecolor": "white",
            "ticks": ""
           },
           "bgcolor": "#E5ECF6",
           "radialaxis": {
            "gridcolor": "white",
            "linecolor": "white",
            "ticks": ""
           }
          },
          "scene": {
           "xaxis": {
            "backgroundcolor": "#E5ECF6",
            "gridcolor": "white",
            "gridwidth": 2,
            "linecolor": "white",
            "showbackground": true,
            "ticks": "",
            "zerolinecolor": "white"
           },
           "yaxis": {
            "backgroundcolor": "#E5ECF6",
            "gridcolor": "white",
            "gridwidth": 2,
            "linecolor": "white",
            "showbackground": true,
            "ticks": "",
            "zerolinecolor": "white"
           },
           "zaxis": {
            "backgroundcolor": "#E5ECF6",
            "gridcolor": "white",
            "gridwidth": 2,
            "linecolor": "white",
            "showbackground": true,
            "ticks": "",
            "zerolinecolor": "white"
           }
          },
          "shapedefaults": {
           "line": {
            "color": "#2a3f5f"
           }
          },
          "ternary": {
           "aaxis": {
            "gridcolor": "white",
            "linecolor": "white",
            "ticks": ""
           },
           "baxis": {
            "gridcolor": "white",
            "linecolor": "white",
            "ticks": ""
           },
           "bgcolor": "#E5ECF6",
           "caxis": {
            "gridcolor": "white",
            "linecolor": "white",
            "ticks": ""
           }
          },
          "title": {
           "x": 0.05
          },
          "xaxis": {
           "automargin": true,
           "gridcolor": "white",
           "linecolor": "white",
           "ticks": "",
           "title": {
            "standoff": 15
           },
           "zerolinecolor": "white",
           "zerolinewidth": 2
          },
          "yaxis": {
           "automargin": true,
           "gridcolor": "white",
           "linecolor": "white",
           "ticks": "",
           "title": {
            "standoff": 15
           },
           "zerolinecolor": "white",
           "zerolinewidth": 2
          }
         }
        },
        "width": 700,
        "yaxis": {
         "range": [
          -40.000000000000014,
          40.000000000000014
         ]
        }
       },
       "_model_module_version": "1.5.0",
       "_py2js_animate": {},
       "_py2js_deleteTraces": {},
       "_py2js_moveTraces": {},
       "_py2js_removeLayoutProps": {},
       "_py2js_removeTraceProps": {},
       "_py2js_restyle": {},
       "_view_count": 1,
       "_view_module_version": "1.5.0"
      }
     }
    },
    "version_major": 2,
    "version_minor": 0
   }
  }
 },
 "nbformat": 4,
 "nbformat_minor": 4
}
