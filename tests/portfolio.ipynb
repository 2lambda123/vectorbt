{
 "cells": [
  {
   "cell_type": "markdown",
   "metadata": {},
   "source": [
    "# portfolio"
   ]
  },
  {
   "cell_type": "code",
   "execution_count": 1,
   "metadata": {},
   "outputs": [],
   "source": [
    "import vectorbt as vbt"
   ]
  },
  {
   "cell_type": "code",
   "execution_count": 2,
   "metadata": {
    "Collapsed": "false"
   },
   "outputs": [],
   "source": [
    "import numpy as np\n",
    "import pandas as pd\n",
    "from datetime import datetime, timedelta\n",
    "from numba import njit, f8, i8, b1, optional"
   ]
  },
  {
   "cell_type": "code",
   "execution_count": 3,
   "metadata": {
    "Collapsed": "false"
   },
   "outputs": [
    {
     "name": "stdout",
     "output_type": "stream",
     "text": [
      "              a    b    c    d\n",
      "2020-01-01  1.0  9.0  1.0  4.0\n",
      "2020-01-02  2.0  8.0  2.0  3.0\n",
      "2020-01-03  3.0  7.0  3.0  2.0\n",
      "2020-01-04  4.0  6.0  4.0  1.0\n",
      "2020-01-05  5.0  5.0  3.0  2.0\n",
      "2020-01-06  6.0  4.0  2.0  3.0\n",
      "2020-01-07  7.0  3.0  1.0  4.0\n"
     ]
    }
   ],
   "source": [
    "from datetime import datetime\n",
    "index = pd.Index([\n",
    "    datetime(2020, 1, 1),\n",
    "    datetime(2020, 1, 2),\n",
    "    datetime(2020, 1, 3),\n",
    "    datetime(2020, 1, 4),\n",
    "    datetime(2020, 1, 5),\n",
    "    datetime(2020, 1, 6),\n",
    "    datetime(2020, 1, 7),\n",
    "])\n",
    "price = pd.DataFrame({\n",
    "    'a': [1, 2, 3, 4, 5, 6, 7],\n",
    "    'b': [9, 8, 7, 6, 5, 4, 3],\n",
    "    'c': [1, 2, 3, 4, 3, 2, 1],\n",
    "    'd': [4, 3, 2, 1, 2, 3, 4]\n",
    "}, index=index).astype(float)\n",
    "\n",
    "print(price)"
   ]
  },
  {
   "cell_type": "code",
   "execution_count": 4,
   "metadata": {},
   "outputs": [
    {
     "name": "stdout",
     "output_type": "stream",
     "text": [
      "(1000, 1000)\n"
     ]
    }
   ],
   "source": [
    "big_price = pd.DataFrame(np.random.uniform(size=(1000, 1000)).astype(float))\n",
    "big_price.index = [datetime(2018, 1, 1) + timedelta(days=i) for i in range(1000)]\n",
    "\n",
    "print(big_price.shape)"
   ]
  },
  {
   "cell_type": "code",
   "execution_count": 5,
   "metadata": {
    "Collapsed": "false"
   },
   "outputs": [
    {
     "name": "stdout",
     "output_type": "stream",
     "text": [
      "                a      b      c      d\n",
      "2020-01-01  False  False   True  False\n",
      "2020-01-02  False  False  False  False\n",
      "2020-01-03   True   True  False   True\n",
      "2020-01-04  False  False  False  False\n",
      "2020-01-05   True   True  False  False\n",
      "2020-01-06  False  False  False  False\n",
      "2020-01-07  False  False   True   True\n"
     ]
    }
   ],
   "source": [
    "entries = pd.DataFrame.vbt.signals.generate_random(\n",
    "    price.shape, 2, min_space=1, seed=42, index=price.index, columns=price.columns)\n",
    "big_entries = pd.DataFrame.vbt.signals.generate_random(\n",
    "    big_price.shape, 100, min_space=1, seed=42, index=big_price.index)\n",
    "\n",
    "print(entries)"
   ]
  },
  {
   "cell_type": "code",
   "execution_count": 6,
   "metadata": {
    "Collapsed": "false"
   },
   "outputs": [
    {
     "name": "stdout",
     "output_type": "stream",
     "text": [
      "                a      b      c      d\n",
      "2020-01-01  False  False  False  False\n",
      "2020-01-02  False  False   True  False\n",
      "2020-01-03  False  False  False  False\n",
      "2020-01-04   True   True  False  False\n",
      "2020-01-05  False  False  False   True\n",
      "2020-01-06  False   True  False  False\n",
      "2020-01-07   True  False  False  False\n"
     ]
    }
   ],
   "source": [
    "exits = entries.vbt.signals.generate_random_after(1, seed=42)\n",
    "big_exits = big_entries.vbt.signals.generate_random_after(1, seed=42)\n",
    "\n",
    "print(exits)"
   ]
  },
  {
   "cell_type": "code",
   "execution_count": 7,
   "metadata": {},
   "outputs": [],
   "source": [
    "vbt.defaults.portfolio['init_capital'] = 100 # set init_capital in cash globally"
   ]
  },
  {
   "cell_type": "code",
   "execution_count": 8,
   "metadata": {},
   "outputs": [],
   "source": [
    "# Disable caching for performance testing\n",
    "# NOTE: Expect waterfall of executions, since some attributes depend on other attributes \n",
    "# that have to be calculated again and again\n",
    "vbt.defaults.caching = False"
   ]
  },
  {
   "cell_type": "markdown",
   "metadata": {},
   "source": [
    "## from_signals"
   ]
  },
  {
   "cell_type": "code",
   "execution_count": 9,
   "metadata": {},
   "outputs": [
    {
     "name": "stdout",
     "output_type": "stream",
     "text": [
      "   Column  Index  Size  Price  Fees  Side\n",
      "0     0.0    2.0   1.0    3.0   0.0   0.0\n",
      "1     0.0    3.0   1.0    4.0   0.0   1.0\n",
      "2     0.0    4.0   1.0    5.0   0.0   0.0\n",
      "3     0.0    6.0   1.0    7.0   0.0   1.0\n",
      "2020-01-01    0.0\n",
      "2020-01-02    0.0\n",
      "2020-01-03    1.0\n",
      "2020-01-04    0.0\n",
      "2020-01-05    1.0\n",
      "2020-01-06    1.0\n",
      "2020-01-07    0.0\n",
      "Name: a, dtype: float64\n",
      "2020-01-01    100.0\n",
      "2020-01-02    100.0\n",
      "2020-01-03     97.0\n",
      "2020-01-04    101.0\n",
      "2020-01-05     96.0\n",
      "2020-01-06     96.0\n",
      "2020-01-07    103.0\n",
      "Name: a, dtype: float64\n",
      "7.85 ms ± 410 µs per loop (mean ± std. dev. of 7 runs, 1 loop each)\n"
     ]
    }
   ],
   "source": [
    "portfolio = vbt.Portfolio.from_signals(price['a'], entries['a'], exits['a'], size=1)\n",
    "print(portfolio.order_records)\n",
    "print(portfolio.shares)\n",
    "print(portfolio.cash)\n",
    "\n",
    "%timeit vbt.Portfolio.from_signals(big_price.iloc[:, 0], big_entries.iloc[:, 0], big_exits.iloc[:, 0])"
   ]
  },
  {
   "cell_type": "code",
   "execution_count": 10,
   "metadata": {},
   "outputs": [
    {
     "name": "stdout",
     "output_type": "stream",
     "text": [
      "    Column  Index  Size  Price  Fees  Side\n",
      "0      0.0    2.0   1.0    3.0   0.0   0.0\n",
      "1      0.0    3.0   1.0    4.0   0.0   1.0\n",
      "2      0.0    4.0   1.0    5.0   0.0   0.0\n",
      "3      0.0    6.0   1.0    7.0   0.0   1.0\n",
      "4      1.0    2.0   1.0    7.0   0.0   0.0\n",
      "5      1.0    3.0   1.0    6.0   0.0   1.0\n",
      "6      1.0    4.0   1.0    5.0   0.0   0.0\n",
      "7      1.0    5.0   1.0    4.0   0.0   1.0\n",
      "8      2.0    0.0   1.0    1.0   0.0   0.0\n",
      "9      2.0    1.0   1.0    2.0   0.0   1.0\n",
      "10     2.0    6.0   1.0    1.0   0.0   0.0\n",
      "11     3.0    2.0   1.0    2.0   0.0   0.0\n",
      "12     3.0    4.0   1.0    2.0   0.0   1.0\n",
      "13     3.0    6.0   1.0    4.0   0.0   0.0\n",
      "              a    b    c    d\n",
      "2020-01-01  0.0  0.0  1.0  0.0\n",
      "2020-01-02  0.0  0.0  0.0  0.0\n",
      "2020-01-03  1.0  1.0  0.0  1.0\n",
      "2020-01-04  0.0  0.0  0.0  1.0\n",
      "2020-01-05  1.0  1.0  0.0  0.0\n",
      "2020-01-06  1.0  0.0  0.0  0.0\n",
      "2020-01-07  0.0  0.0  1.0  1.0\n",
      "                a      b      c      d\n",
      "2020-01-01  100.0  100.0   99.0  100.0\n",
      "2020-01-02  100.0  100.0  101.0  100.0\n",
      "2020-01-03   97.0   93.0  101.0   98.0\n",
      "2020-01-04  101.0   99.0  101.0   98.0\n",
      "2020-01-05   96.0   94.0  101.0  100.0\n",
      "2020-01-06   96.0   98.0  101.0  100.0\n",
      "2020-01-07  103.0   98.0  100.0   96.0\n",
      "43.4 ms ± 671 µs per loop (mean ± std. dev. of 7 runs, 1 loop each)\n"
     ]
    }
   ],
   "source": [
    "portfolio = vbt.Portfolio.from_signals(price, entries, exits, size=1)\n",
    "print(portfolio.order_records)\n",
    "print(portfolio.shares)\n",
    "print(portfolio.cash)\n",
    "\n",
    "%timeit vbt.Portfolio.from_signals(big_price, big_entries, big_exits, size=1)"
   ]
  },
  {
   "cell_type": "code",
   "execution_count": 11,
   "metadata": {},
   "outputs": [
    {
     "name": "stdout",
     "output_type": "stream",
     "text": [
      "    Column  Index        Size  Price  Fees  Side\n",
      "0      0.0    2.0   33.333333    3.0   0.0   0.0\n",
      "1      0.0    3.0   33.333333    4.0   0.0   1.0\n",
      "2      0.0    4.0   26.666667    5.0   0.0   0.0\n",
      "3      0.0    6.0   26.666667    7.0   0.0   1.0\n",
      "4      1.0    2.0   14.285714    7.0   0.0   0.0\n",
      "5      1.0    3.0   14.285714    6.0   0.0   1.0\n",
      "6      1.0    4.0   17.142857    5.0   0.0   0.0\n",
      "7      1.0    5.0   17.142857    4.0   0.0   1.0\n",
      "8      2.0    0.0  100.000000    1.0   0.0   0.0\n",
      "9      2.0    1.0  100.000000    2.0   0.0   1.0\n",
      "10     2.0    6.0  200.000000    1.0   0.0   0.0\n",
      "11     3.0    2.0   50.000000    2.0   0.0   0.0\n",
      "12     3.0    4.0   50.000000    2.0   0.0   1.0\n",
      "13     3.0    6.0   25.000000    4.0   0.0   0.0\n",
      "                    a          b      c     d\n",
      "2020-01-01   0.000000   0.000000  100.0   0.0\n",
      "2020-01-02   0.000000   0.000000    0.0   0.0\n",
      "2020-01-03  33.333333  14.285714    0.0  50.0\n",
      "2020-01-04   0.000000   0.000000    0.0  50.0\n",
      "2020-01-05  26.666667  17.142857    0.0   0.0\n",
      "2020-01-06  26.666667   0.000000    0.0   0.0\n",
      "2020-01-07   0.000000   0.000000  200.0  25.0\n",
      "                     a           b      c      d\n",
      "2020-01-01  100.000000  100.000000    0.0  100.0\n",
      "2020-01-02  100.000000  100.000000  200.0  100.0\n",
      "2020-01-03    0.000000    0.000000  200.0    0.0\n",
      "2020-01-04  133.333333   85.714286  200.0    0.0\n",
      "2020-01-05    0.000000    0.000000  200.0  100.0\n",
      "2020-01-06    0.000000   68.571429  200.0  100.0\n",
      "2020-01-07  186.666667   68.571429    0.0    0.0\n",
      "43.6 ms ± 844 µs per loop (mean ± std. dev. of 7 runs, 1 loop each)\n"
     ]
    }
   ],
   "source": [
    "portfolio = vbt.Portfolio.from_signals(price, entries, exits, size=np.inf) # all in/out\n",
    "print(portfolio.order_records)\n",
    "print(portfolio.shares)\n",
    "print(portfolio.cash)\n",
    "\n",
    "%timeit vbt.Portfolio.from_signals(big_price, big_entries, big_exits, size=np.inf)"
   ]
  },
  {
   "cell_type": "code",
   "execution_count": 12,
   "metadata": {},
   "outputs": [
    {
     "name": "stdout",
     "output_type": "stream",
     "text": [
      "    Column  Index  Size  Price  Fees  Side\n",
      "0      0.0    2.0   1.0    3.0  0.03   0.0\n",
      "1      0.0    3.0   1.0    4.0  0.04   1.0\n",
      "2      0.0    4.0   1.0    5.0  0.05   0.0\n",
      "3      0.0    6.0   1.0    7.0  0.07   1.0\n",
      "4      1.0    2.0   1.0    7.0  0.07   0.0\n",
      "5      1.0    3.0   1.0    6.0  0.06   1.0\n",
      "6      1.0    4.0   1.0    5.0  0.05   0.0\n",
      "7      1.0    5.0   1.0    4.0  0.04   1.0\n",
      "8      2.0    0.0   1.0    1.0  0.01   0.0\n",
      "9      2.0    1.0   1.0    2.0  0.02   1.0\n",
      "10     2.0    6.0   1.0    1.0  0.01   0.0\n",
      "11     3.0    2.0   1.0    2.0  0.02   0.0\n",
      "12     3.0    4.0   1.0    2.0  0.02   1.0\n",
      "13     3.0    6.0   1.0    4.0  0.04   0.0\n",
      "              a    b    c    d\n",
      "2020-01-01  0.0  0.0  1.0  0.0\n",
      "2020-01-02  0.0  0.0  0.0  0.0\n",
      "2020-01-03  1.0  1.0  0.0  1.0\n",
      "2020-01-04  0.0  0.0  0.0  1.0\n",
      "2020-01-05  1.0  1.0  0.0  0.0\n",
      "2020-01-06  1.0  0.0  0.0  0.0\n",
      "2020-01-07  0.0  0.0  1.0  1.0\n",
      "                 a       b       c       d\n",
      "2020-01-01  100.00  100.00   98.99  100.00\n",
      "2020-01-02  100.00  100.00  100.97  100.00\n",
      "2020-01-03   96.97   92.93  100.97   97.98\n",
      "2020-01-04  100.93   98.87  100.97   97.98\n",
      "2020-01-05   95.88   93.82  100.97   99.96\n",
      "2020-01-06   95.88   97.78  100.97   99.96\n",
      "2020-01-07  102.81   97.78   99.96   95.92\n",
      "43.6 ms ± 342 µs per loop (mean ± std. dev. of 7 runs, 10 loops each)\n"
     ]
    }
   ],
   "source": [
    "portfolio = vbt.Portfolio.from_signals(price, entries, exits, size=1, fees=0.01) # w/ fees\n",
    "print(portfolio.order_records)\n",
    "print(portfolio.shares)\n",
    "print(portfolio.cash)\n",
    "\n",
    "%timeit vbt.Portfolio.from_signals(big_price, big_entries, big_exits, size=1, fees=0.01)"
   ]
  },
  {
   "cell_type": "code",
   "execution_count": 13,
   "metadata": {},
   "outputs": [
    {
     "name": "stdout",
     "output_type": "stream",
     "text": [
      "    Column  Index  Size  Price  Fees  Side\n",
      "0      0.0    2.0   1.0    3.0   1.0   0.0\n",
      "1      0.0    3.0   1.0    4.0   1.0   1.0\n",
      "2      0.0    4.0   1.0    5.0   1.0   0.0\n",
      "3      0.0    6.0   1.0    7.0   1.0   1.0\n",
      "4      1.0    2.0   1.0    7.0   1.0   0.0\n",
      "5      1.0    3.0   1.0    6.0   1.0   1.0\n",
      "6      1.0    4.0   1.0    5.0   1.0   0.0\n",
      "7      1.0    5.0   1.0    4.0   1.0   1.0\n",
      "8      2.0    0.0   1.0    1.0   1.0   0.0\n",
      "9      2.0    1.0   1.0    2.0   1.0   1.0\n",
      "10     2.0    6.0   1.0    1.0   1.0   0.0\n",
      "11     3.0    2.0   1.0    2.0   1.0   0.0\n",
      "12     3.0    4.0   1.0    2.0   1.0   1.0\n",
      "13     3.0    6.0   1.0    4.0   1.0   0.0\n",
      "              a    b    c    d\n",
      "2020-01-01  0.0  0.0  1.0  0.0\n",
      "2020-01-02  0.0  0.0  0.0  0.0\n",
      "2020-01-03  1.0  1.0  0.0  1.0\n",
      "2020-01-04  0.0  0.0  0.0  1.0\n",
      "2020-01-05  1.0  1.0  0.0  0.0\n",
      "2020-01-06  1.0  0.0  0.0  0.0\n",
      "2020-01-07  0.0  0.0  1.0  1.0\n",
      "                a      b     c      d\n",
      "2020-01-01  100.0  100.0  98.0  100.0\n",
      "2020-01-02  100.0  100.0  99.0  100.0\n",
      "2020-01-03   96.0   92.0  99.0   97.0\n",
      "2020-01-04   99.0   97.0  99.0   97.0\n",
      "2020-01-05   93.0   91.0  99.0   98.0\n",
      "2020-01-06   93.0   94.0  99.0   98.0\n",
      "2020-01-07   99.0   94.0  97.0   93.0\n",
      "42.3 ms ± 988 µs per loop (mean ± std. dev. of 7 runs, 1 loop each)\n"
     ]
    }
   ],
   "source": [
    "portfolio = vbt.Portfolio.from_signals(price, entries, exits, size=1, fixed_fees=1) # w/ fixed fees\n",
    "print(portfolio.order_records)\n",
    "print(portfolio.shares)\n",
    "print(portfolio.cash)\n",
    "\n",
    "%timeit vbt.Portfolio.from_signals(big_price, big_entries, big_exits, size=1, fixed_fees=1)"
   ]
  },
  {
   "cell_type": "code",
   "execution_count": 14,
   "metadata": {},
   "outputs": [
    {
     "name": "stdout",
     "output_type": "stream",
     "text": [
      "    Column  Index  Size  Price  Fees  Side\n",
      "0      0.0    2.0   1.0   3.03   0.0   0.0\n",
      "1      0.0    3.0   1.0   3.96   0.0   1.0\n",
      "2      0.0    4.0   1.0   5.05   0.0   0.0\n",
      "3      0.0    6.0   1.0   6.93   0.0   1.0\n",
      "4      1.0    2.0   1.0   7.07   0.0   0.0\n",
      "5      1.0    3.0   1.0   5.94   0.0   1.0\n",
      "6      1.0    4.0   1.0   5.05   0.0   0.0\n",
      "7      1.0    5.0   1.0   3.96   0.0   1.0\n",
      "8      2.0    0.0   1.0   1.01   0.0   0.0\n",
      "9      2.0    1.0   1.0   1.98   0.0   1.0\n",
      "10     2.0    6.0   1.0   1.01   0.0   0.0\n",
      "11     3.0    2.0   1.0   2.02   0.0   0.0\n",
      "12     3.0    4.0   1.0   1.98   0.0   1.0\n",
      "13     3.0    6.0   1.0   4.04   0.0   0.0\n",
      "              a    b    c    d\n",
      "2020-01-01  0.0  0.0  1.0  0.0\n",
      "2020-01-02  0.0  0.0  0.0  0.0\n",
      "2020-01-03  1.0  1.0  0.0  1.0\n",
      "2020-01-04  0.0  0.0  0.0  1.0\n",
      "2020-01-05  1.0  1.0  0.0  0.0\n",
      "2020-01-06  1.0  0.0  0.0  0.0\n",
      "2020-01-07  0.0  0.0  1.0  1.0\n",
      "                 a       b       c       d\n",
      "2020-01-01  100.00  100.00   98.99  100.00\n",
      "2020-01-02  100.00  100.00  100.97  100.00\n",
      "2020-01-03   96.97   92.93  100.97   97.98\n",
      "2020-01-04  100.93   98.87  100.97   97.98\n",
      "2020-01-05   95.88   93.82  100.97   99.96\n",
      "2020-01-06   95.88   97.78  100.97   99.96\n",
      "2020-01-07  102.81   97.78   99.96   95.92\n",
      "44.6 ms ± 1.33 ms per loop (mean ± std. dev. of 7 runs, 10 loops each)\n"
     ]
    }
   ],
   "source": [
    "portfolio = vbt.Portfolio.from_signals(price, entries, exits, size=1, slippage=0.01) # w/ slippage\n",
    "print(portfolio.order_records)\n",
    "print(portfolio.shares)\n",
    "print(portfolio.cash)\n",
    "\n",
    "%timeit vbt.Portfolio.from_signals(big_price, big_entries, big_exits, size=1, slippage=0.01)"
   ]
  },
  {
   "cell_type": "markdown",
   "metadata": {},
   "source": [
    "## from_orders"
   ]
  },
  {
   "cell_type": "code",
   "execution_count": 15,
   "metadata": {},
   "outputs": [],
   "source": [
    "order_size = pd.DataFrame.vbt.timeseries.empty_like(price, 1) # buy 1 share every day\n",
    "big_order_size = pd.DataFrame.vbt.timeseries.empty_like(big_price, 1)"
   ]
  },
  {
   "cell_type": "code",
   "execution_count": 16,
   "metadata": {},
   "outputs": [
    {
     "name": "stdout",
     "output_type": "stream",
     "text": [
      "   Column  Index  Size  Price  Fees  Side\n",
      "0     0.0    0.0   1.0    1.0   0.0   0.0\n",
      "1     0.0    1.0   1.0    2.0   0.0   0.0\n",
      "2     0.0    2.0   1.0    3.0   0.0   0.0\n",
      "3     0.0    3.0   1.0    4.0   0.0   0.0\n",
      "4     0.0    4.0   1.0    5.0   0.0   0.0\n",
      "5     0.0    5.0   1.0    6.0   0.0   0.0\n",
      "6     0.0    6.0   1.0    7.0   0.0   0.0\n",
      "2020-01-01    1.0\n",
      "2020-01-02    2.0\n",
      "2020-01-03    3.0\n",
      "2020-01-04    4.0\n",
      "2020-01-05    5.0\n",
      "2020-01-06    6.0\n",
      "2020-01-07    7.0\n",
      "Name: a, dtype: float64\n",
      "2020-01-01    99.0\n",
      "2020-01-02    97.0\n",
      "2020-01-03    94.0\n",
      "2020-01-04    90.0\n",
      "2020-01-05    85.0\n",
      "2020-01-06    79.0\n",
      "2020-01-07    72.0\n",
      "Name: a, dtype: float64\n",
      "5.8 ms ± 285 µs per loop (mean ± std. dev. of 7 runs, 1 loop each)\n"
     ]
    }
   ],
   "source": [
    "portfolio = vbt.Portfolio.from_orders(price['a'], order_size['a'])\n",
    "print(portfolio.order_records)\n",
    "print(portfolio.shares)\n",
    "print(portfolio.cash)\n",
    "\n",
    "%timeit vbt.Portfolio.from_orders(big_price.iloc[:, 0], big_order_size.iloc[:, 0])"
   ]
  },
  {
   "cell_type": "code",
   "execution_count": 17,
   "metadata": {},
   "outputs": [
    {
     "name": "stdout",
     "output_type": "stream",
     "text": [
      "    Column  Index  Size  Price  Fees  Side\n",
      "0      0.0    0.0   1.0    1.0   0.0   0.0\n",
      "1      0.0    1.0   1.0    2.0   0.0   0.0\n",
      "2      0.0    2.0   1.0    3.0   0.0   0.0\n",
      "3      0.0    3.0   1.0    4.0   0.0   0.0\n",
      "4      0.0    4.0   1.0    5.0   0.0   0.0\n",
      "5      0.0    5.0   1.0    6.0   0.0   0.0\n",
      "6      0.0    6.0   1.0    7.0   0.0   0.0\n",
      "7      1.0    0.0   1.0    9.0   0.0   0.0\n",
      "8      1.0    1.0   1.0    8.0   0.0   0.0\n",
      "9      1.0    2.0   1.0    7.0   0.0   0.0\n",
      "10     1.0    3.0   1.0    6.0   0.0   0.0\n",
      "11     1.0    4.0   1.0    5.0   0.0   0.0\n",
      "12     1.0    5.0   1.0    4.0   0.0   0.0\n",
      "13     1.0    6.0   1.0    3.0   0.0   0.0\n",
      "14     2.0    0.0   1.0    1.0   0.0   0.0\n",
      "15     2.0    1.0   1.0    2.0   0.0   0.0\n",
      "16     2.0    2.0   1.0    3.0   0.0   0.0\n",
      "17     2.0    3.0   1.0    4.0   0.0   0.0\n",
      "18     2.0    4.0   1.0    3.0   0.0   0.0\n",
      "19     2.0    5.0   1.0    2.0   0.0   0.0\n",
      "20     2.0    6.0   1.0    1.0   0.0   0.0\n",
      "21     3.0    0.0   1.0    4.0   0.0   0.0\n",
      "22     3.0    1.0   1.0    3.0   0.0   0.0\n",
      "23     3.0    2.0   1.0    2.0   0.0   0.0\n",
      "24     3.0    3.0   1.0    1.0   0.0   0.0\n",
      "25     3.0    4.0   1.0    2.0   0.0   0.0\n",
      "26     3.0    5.0   1.0    3.0   0.0   0.0\n",
      "27     3.0    6.0   1.0    4.0   0.0   0.0\n",
      "              a    b    c    d\n",
      "2020-01-01  1.0  1.0  1.0  1.0\n",
      "2020-01-02  2.0  2.0  2.0  2.0\n",
      "2020-01-03  3.0  3.0  3.0  3.0\n",
      "2020-01-04  4.0  4.0  4.0  4.0\n",
      "2020-01-05  5.0  5.0  5.0  5.0\n",
      "2020-01-06  6.0  6.0  6.0  6.0\n",
      "2020-01-07  7.0  7.0  7.0  7.0\n",
      "               a     b     c     d\n",
      "2020-01-01  99.0  91.0  99.0  96.0\n",
      "2020-01-02  97.0  83.0  97.0  93.0\n",
      "2020-01-03  94.0  76.0  94.0  91.0\n",
      "2020-01-04  90.0  70.0  90.0  90.0\n",
      "2020-01-05  85.0  65.0  87.0  88.0\n",
      "2020-01-06  79.0  61.0  85.0  85.0\n",
      "2020-01-07  72.0  58.0  84.0  81.0\n",
      "49.7 ms ± 760 µs per loop (mean ± std. dev. of 7 runs, 1 loop each)\n"
     ]
    }
   ],
   "source": [
    "portfolio = vbt.Portfolio.from_orders(price, order_size)\n",
    "print(portfolio.order_records)\n",
    "print(portfolio.shares)\n",
    "print(portfolio.cash)\n",
    "\n",
    "%timeit vbt.Portfolio.from_orders(big_price, big_order_size)"
   ]
  },
  {
   "cell_type": "code",
   "execution_count": 18,
   "metadata": {},
   "outputs": [
    {
     "name": "stdout",
     "output_type": "stream",
     "text": [
      "   Column  Index  Size  Price  Fees  Side\n",
      "0     0.0    0.0   1.0    1.0   0.0   0.0\n",
      "1     1.0    0.0   1.0    9.0   0.0   0.0\n",
      "2     2.0    0.0   1.0    1.0   0.0   0.0\n",
      "3     3.0    0.0   1.0    4.0   0.0   0.0\n",
      "              a    b    c    d\n",
      "2020-01-01  1.0  1.0  1.0  1.0\n",
      "2020-01-02  1.0  1.0  1.0  1.0\n",
      "2020-01-03  1.0  1.0  1.0  1.0\n",
      "2020-01-04  1.0  1.0  1.0  1.0\n",
      "2020-01-05  1.0  1.0  1.0  1.0\n",
      "2020-01-06  1.0  1.0  1.0  1.0\n",
      "2020-01-07  1.0  1.0  1.0  1.0\n",
      "               a     b     c     d\n",
      "2020-01-01  99.0  91.0  99.0  96.0\n",
      "2020-01-02  99.0  91.0  99.0  96.0\n",
      "2020-01-03  99.0  91.0  99.0  96.0\n",
      "2020-01-04  99.0  91.0  99.0  96.0\n",
      "2020-01-05  99.0  91.0  99.0  96.0\n",
      "2020-01-06  99.0  91.0  99.0  96.0\n",
      "2020-01-07  99.0  91.0  99.0  96.0\n",
      "54 ms ± 402 µs per loop (mean ± std. dev. of 7 runs, 10 loops each)\n"
     ]
    }
   ],
   "source": [
    "portfolio = vbt.Portfolio.from_orders(price, order_size, is_target=True) # target size\n",
    "print(portfolio.order_records)\n",
    "print(portfolio.shares)\n",
    "print(portfolio.cash)\n",
    "\n",
    "%timeit vbt.Portfolio.from_orders(big_price, big_order_size, is_target=True)"
   ]
  },
  {
   "cell_type": "markdown",
   "metadata": {},
   "source": [
    "## from_order_func"
   ]
  },
  {
   "cell_type": "code",
   "execution_count": 19,
   "metadata": {},
   "outputs": [
    {
     "name": "stdout",
     "output_type": "stream",
     "text": [
      "   Column  Index  Size  Price    Fees  Side\n",
      "0     0.0    1.0   1.0   2.02  1.0202   0.0\n",
      "1     0.0    2.0   1.0   2.97  1.0297   1.0\n",
      "2     0.0    3.0   3.0   4.04  1.1212   0.0\n",
      "3     0.0    4.0   3.0   4.95  1.1485   1.0\n",
      "4     0.0    5.0   5.0   6.06  1.3030   0.0\n",
      "5     0.0    6.0   5.0   6.93  1.3465   1.0\n",
      "2020-01-01    0.0\n",
      "2020-01-02    1.0\n",
      "2020-01-03    0.0\n",
      "2020-01-04    3.0\n",
      "2020-01-05    0.0\n",
      "2020-01-06    5.0\n",
      "2020-01-07    0.0\n",
      "Name: a, dtype: float64\n",
      "2020-01-01    100.0000\n",
      "2020-01-02     96.9598\n",
      "2020-01-03     98.9001\n",
      "2020-01-04     85.6589\n",
      "2020-01-05     99.3604\n",
      "2020-01-06     67.7574\n",
      "2020-01-07    101.0609\n",
      "Name: a, dtype: float64\n",
      "2.15 ms ± 271 µs per loop (mean ± std. dev. of 7 runs, 1 loop each)\n"
     ]
    }
   ],
   "source": [
    "fees = 0.01\n",
    "fixed_fees = 1\n",
    "slippage = 0.01\n",
    "\n",
    "@njit\n",
    "def order_func_nb(col, i, run_cash, run_shares, price):\n",
    "    return vbt.portfolio.nb.Order(-i if i % 2 == 0 else i, price[i, col], fees, fixed_fees, slippage)\n",
    "\n",
    "portfolio = vbt.Portfolio.from_order_func(price['a'], order_func_nb, price.values)\n",
    "print(portfolio.order_records)\n",
    "print(portfolio.shares)\n",
    "print(portfolio.cash)\n",
    "\n",
    "%timeit vbt.Portfolio.from_order_func(big_price.iloc[:, 0], order_func_nb, big_price.values)"
   ]
  },
  {
   "cell_type": "code",
   "execution_count": 20,
   "metadata": {},
   "outputs": [
    {
     "name": "stdout",
     "output_type": "stream",
     "text": [
      "    Column  Index  Size  Price    Fees  Side\n",
      "0      0.0    1.0   1.0   2.02  1.0202   0.0\n",
      "1      0.0    2.0   1.0   2.97  1.0297   1.0\n",
      "2      0.0    3.0   3.0   4.04  1.1212   0.0\n",
      "3      0.0    4.0   3.0   4.95  1.1485   1.0\n",
      "4      0.0    5.0   5.0   6.06  1.3030   0.0\n",
      "5      0.0    6.0   5.0   6.93  1.3465   1.0\n",
      "6      1.0    1.0   1.0   8.08  1.0808   0.0\n",
      "7      1.0    2.0   1.0   6.93  1.0693   1.0\n",
      "8      1.0    3.0   3.0   6.06  1.1818   0.0\n",
      "9      1.0    4.0   3.0   4.95  1.1485   1.0\n",
      "10     1.0    5.0   5.0   4.04  1.2020   0.0\n",
      "11     1.0    6.0   5.0   2.97  1.1485   1.0\n",
      "12     2.0    1.0   1.0   2.02  1.0202   0.0\n",
      "13     2.0    2.0   1.0   2.97  1.0297   1.0\n",
      "14     2.0    3.0   3.0   4.04  1.1212   0.0\n",
      "15     2.0    4.0   3.0   2.97  1.0891   1.0\n",
      "16     2.0    5.0   5.0   2.02  1.1010   0.0\n",
      "17     2.0    6.0   5.0   0.99  1.0495   1.0\n",
      "18     3.0    1.0   1.0   3.03  1.0303   0.0\n",
      "19     3.0    2.0   1.0   1.98  1.0198   1.0\n",
      "20     3.0    3.0   3.0   1.01  1.0303   0.0\n",
      "21     3.0    4.0   3.0   1.98  1.0594   1.0\n",
      "22     3.0    5.0   5.0   3.03  1.1515   0.0\n",
      "23     3.0    6.0   5.0   3.96  1.1980   1.0\n",
      "              a    b    c    d\n",
      "2020-01-01  0.0  0.0  0.0  0.0\n",
      "2020-01-02  1.0  1.0  1.0  1.0\n",
      "2020-01-03  0.0  0.0  0.0  0.0\n",
      "2020-01-04  3.0  3.0  3.0  3.0\n",
      "2020-01-05  0.0  0.0  0.0  0.0\n",
      "2020-01-06  5.0  5.0  5.0  5.0\n",
      "2020-01-07  0.0  0.0  0.0  0.0\n",
      "                   a         b         c         d\n",
      "2020-01-01  100.0000  100.0000  100.0000  100.0000\n",
      "2020-01-02   96.9598   90.8392   96.9598   95.9397\n",
      "2020-01-03   98.9001   96.6999   98.9001   96.8999\n",
      "2020-01-04   85.6589   77.3381   85.6589   92.8396\n",
      "2020-01-05   99.3604   91.0396   93.4798   97.7202\n",
      "2020-01-06   67.7574   69.6376   82.2788   81.4187\n",
      "2020-01-07  101.0609   83.3391   86.1793  100.0207\n",
      "19.4 ms ± 505 µs per loop (mean ± std. dev. of 7 runs, 10 loops each)\n"
     ]
    }
   ],
   "source": [
    "portfolio = vbt.Portfolio.from_order_func(price, order_func_nb, price.values)\n",
    "print(portfolio.order_records)\n",
    "print(portfolio.shares)\n",
    "print(portfolio.cash)\n",
    "\n",
    "%timeit vbt.Portfolio.from_order_func(big_price, order_func_nb, big_price.values)"
   ]
  },
  {
   "cell_type": "markdown",
   "metadata": {},
   "source": [
    "## Properties"
   ]
  },
  {
   "cell_type": "code",
   "execution_count": 21,
   "metadata": {},
   "outputs": [
    {
     "name": "stdout",
     "output_type": "stream",
     "text": [
      "(7,)\n",
      "(7, 4)\n",
      "(1000,)\n",
      "(1000, 1000)\n"
     ]
    }
   ],
   "source": [
    "# One column\n",
    "portfolio_a = vbt.Portfolio.from_signals(\n",
    "    price['a'], entries['a'], exits['a'], fees=0.01,\n",
    "    risk_free=0.01, required_return=0.1, cutoff=0.07, \n",
    "    factor_returns=np.random.uniform(size=price.shape[0]))\n",
    "print(portfolio_a.price.shape)\n",
    "portfolio = vbt.Portfolio.from_signals(\n",
    "    price, entries, exits, fees=0.01,\n",
    "    risk_free=0.01, required_return=0.1, cutoff=0.07, \n",
    "    factor_returns=np.random.uniform(size=price.shape))\n",
    "print(portfolio.price.shape)\n",
    "\n",
    "# Multiple columns\n",
    "big_portfolio_a = vbt.Portfolio.from_signals(\n",
    "    big_price[0], big_entries[0], big_exits[0], fees=0.01,\n",
    "    risk_free=0.01, required_return=0.1, cutoff=0.07, \n",
    "    factor_returns=np.random.uniform(size=big_price.shape[0]))\n",
    "print(big_portfolio_a.price.shape)\n",
    "big_portfolio = vbt.Portfolio.from_signals(\n",
    "    big_price, big_entries, big_exits, fees=0.01,\n",
    "    risk_free=0.01, required_return=0.1, cutoff=0.07, \n",
    "    factor_returns=np.random.uniform(size=big_price.shape))\n",
    "print(big_portfolio.price.shape)"
   ]
  },
  {
   "cell_type": "code",
   "execution_count": 22,
   "metadata": {},
   "outputs": [
    {
     "name": "stdout",
     "output_type": "stream",
     "text": [
      "100\n",
      "              a    b    c    d\n",
      "2020-01-01  1.0  9.0  1.0  4.0\n",
      "2020-01-02  2.0  8.0  2.0  3.0\n",
      "2020-01-03  3.0  7.0  3.0  2.0\n",
      "2020-01-04  4.0  6.0  4.0  1.0\n",
      "2020-01-05  5.0  5.0  3.0  2.0\n",
      "2020-01-06  6.0  4.0  2.0  3.0\n",
      "2020-01-07  7.0  3.0  1.0  4.0\n",
      "                       a           b           c           d\n",
      "2020-01-01  1.000000e+02  100.000000    0.000000  100.000000\n",
      "2020-01-02  1.000000e+02  100.000000  196.039604  100.000000\n",
      "2020-01-03 -1.421085e-14    0.000000  196.039604    0.000000\n",
      "2020-01-04  1.306931e+02   84.016973  196.039604    0.000000\n",
      "2020-01-05  0.000000e+00    0.000000  196.039604   98.019802\n",
      "2020-01-06  0.000000e+00   65.882617  196.039604   98.019802\n",
      "2020-01-07  1.793471e+02   65.882617    0.000000    0.000000\n",
      "                    a          b           c          d\n",
      "2020-01-01   0.000000   0.000000   99.009901   0.000000\n",
      "2020-01-02   0.000000   0.000000    0.000000   0.000000\n",
      "2020-01-03  33.003300  14.144272    0.000000  49.504950\n",
      "2020-01-04   0.000000   0.000000    0.000000  49.504950\n",
      "2020-01-05  25.879816  16.637024    0.000000   0.000000\n",
      "2020-01-06  25.879816   0.000000    0.000000   0.000000\n",
      "2020-01-07   0.000000   0.000000  194.098618  24.262327\n"
     ]
    }
   ],
   "source": [
    "print(portfolio.init_capital)\n",
    "print(portfolio.price)\n",
    "print(portfolio.cash)\n",
    "print(portfolio.shares)"
   ]
  },
  {
   "cell_type": "code",
   "execution_count": 23,
   "metadata": {},
   "outputs": [
    {
     "name": "stdout",
     "output_type": "stream",
     "text": [
      "1 days 00:00:00\n",
      "365 days 05:49:12\n",
      "365.2425\n",
      "0.01\n",
      "0.1\n",
      "0.07\n",
      "                   a         b         c         d\n",
      "2020-01-01  0.870147  0.261076  0.036430  0.265255\n",
      "2020-01-02  0.884610  0.695212  0.686213  0.001662\n",
      "2020-01-03  0.120155  0.683872  0.442295  0.189147\n",
      "2020-01-04  0.136374  0.868007  0.700792  0.192035\n",
      "2020-01-05  0.426088  0.197941  0.814747  0.852869\n",
      "2020-01-06  0.943961  0.508545  0.159171  0.534067\n",
      "2020-01-07  0.651458  0.596186  0.299866  0.895747\n"
     ]
    }
   ],
   "source": [
    "print(portfolio.data_freq)\n",
    "print(portfolio.year_freq)\n",
    "print(portfolio.ann_factor)\n",
    "print(portfolio.risk_free)\n",
    "print(portfolio.required_return)\n",
    "print(portfolio.cutoff)\n",
    "print(portfolio.factor_returns)"
   ]
  },
  {
   "cell_type": "markdown",
   "metadata": {},
   "source": [
    "## Orders"
   ]
  },
  {
   "cell_type": "code",
   "execution_count": 24,
   "metadata": {},
   "outputs": [
    {
     "name": "stdout",
     "output_type": "stream",
     "text": [
      "   Column  Index       Size  Price      Fees  Side\n",
      "0     0.0    2.0  33.003300    3.0  0.990099   0.0\n",
      "1     0.0    3.0  33.003300    4.0  1.320132   1.0\n",
      "2     0.0    4.0  25.879816    5.0  1.293991   0.0\n",
      "3     0.0    6.0  25.879816    7.0  1.811587   1.0\n",
      "    Column  Index        Size  Price      Fees  Side\n",
      "0      0.0    2.0   33.003300    3.0  0.990099   0.0\n",
      "1      0.0    3.0   33.003300    4.0  1.320132   1.0\n",
      "2      0.0    4.0   25.879816    5.0  1.293991   0.0\n",
      "3      0.0    6.0   25.879816    7.0  1.811587   1.0\n",
      "4      1.0    2.0   14.144272    7.0  0.990099   0.0\n",
      "5      1.0    3.0   14.144272    6.0  0.848656   1.0\n",
      "6      1.0    4.0   16.637024    5.0  0.831851   0.0\n",
      "7      1.0    5.0   16.637024    4.0  0.665481   1.0\n",
      "8      2.0    0.0   99.009901    1.0  0.990099   0.0\n",
      "9      2.0    1.0   99.009901    2.0  1.980198   1.0\n",
      "10     2.0    6.0  194.098618    1.0  1.940986   0.0\n",
      "11     3.0    2.0   49.504950    2.0  0.990099   0.0\n",
      "12     3.0    4.0   49.504950    2.0  0.990099   1.0\n",
      "13     3.0    6.0   24.262327    4.0  0.970493   0.0\n"
     ]
    }
   ],
   "source": [
    "print(portfolio_a.order_records)\n",
    "print(portfolio.order_records)"
   ]
  },
  {
   "cell_type": "code",
   "execution_count": 25,
   "metadata": {},
   "outputs": [
    {
     "name": "stdout",
     "output_type": "stream",
     "text": [
      "<vectorbt.portfolio.records.Orders object at 0x1a272a1978>\n"
     ]
    }
   ],
   "source": [
    "print(portfolio_a.orders)"
   ]
  },
  {
   "cell_type": "code",
   "execution_count": 26,
   "metadata": {},
   "outputs": [
    {
     "name": "stdout",
     "output_type": "stream",
     "text": [
      "<vectorbt.portfolio.records.BaseOrders object at 0x1a279e1e10>\n",
      "<vectorbt.portfolio.records.BaseOrders object at 0x1a279e1470>\n"
     ]
    }
   ],
   "source": [
    "print(portfolio_a.orders.buy)\n",
    "print(portfolio_a.orders.sell)"
   ]
  },
  {
   "cell_type": "code",
   "execution_count": 27,
   "metadata": {},
   "outputs": [
    {
     "name": "stdout",
     "output_type": "stream",
     "text": [
      "2020-01-01          NaN\n",
      "2020-01-02          NaN\n",
      "2020-01-03    33.003300\n",
      "2020-01-04    33.003300\n",
      "2020-01-05    25.879816\n",
      "2020-01-06          NaN\n",
      "2020-01-07    25.879816\n",
      "Name: a, dtype: float64\n",
      "                    a          b           c          d\n",
      "2020-01-01        NaN        NaN   99.009901        NaN\n",
      "2020-01-02        NaN        NaN   99.009901        NaN\n",
      "2020-01-03  33.003300  14.144272         NaN  49.504950\n",
      "2020-01-04  33.003300  14.144272         NaN        NaN\n",
      "2020-01-05  25.879816  16.637024         NaN  49.504950\n",
      "2020-01-06        NaN  16.637024         NaN        NaN\n",
      "2020-01-07  25.879816        NaN  194.098618  24.262327\n",
      "4.36 ms ± 53.4 µs per loop (mean ± std. dev. of 7 runs, 100 loops each)\n"
     ]
    }
   ],
   "source": [
    "print(portfolio_a.orders.size)\n",
    "print(portfolio.orders.size)\n",
    "\n",
    "%timeit big_portfolio.orders.size"
   ]
  },
  {
   "cell_type": "code",
   "execution_count": 28,
   "metadata": {},
   "outputs": [
    {
     "name": "stdout",
     "output_type": "stream",
     "text": [
      "2020-01-01          NaN\n",
      "2020-01-02          NaN\n",
      "2020-01-03    33.003300\n",
      "2020-01-04          NaN\n",
      "2020-01-05    25.879816\n",
      "2020-01-06          NaN\n",
      "2020-01-07          NaN\n",
      "Name: a, dtype: float64\n",
      "                    a          b           c          d\n",
      "2020-01-01        NaN        NaN   99.009901        NaN\n",
      "2020-01-02        NaN        NaN         NaN        NaN\n",
      "2020-01-03  33.003300  14.144272         NaN  49.504950\n",
      "2020-01-04        NaN        NaN         NaN        NaN\n",
      "2020-01-05  25.879816  16.637024         NaN        NaN\n",
      "2020-01-06        NaN        NaN         NaN        NaN\n",
      "2020-01-07        NaN        NaN  194.098618  24.262327\n",
      "7.64 ms ± 167 µs per loop (mean ± std. dev. of 7 runs, 100 loops each)\n"
     ]
    }
   ],
   "source": [
    "print(portfolio_a.orders.buy.size)\n",
    "print(portfolio.orders.buy.size)\n",
    "\n",
    "%timeit big_portfolio.orders.buy.size"
   ]
  },
  {
   "cell_type": "code",
   "execution_count": 29,
   "metadata": {},
   "outputs": [
    {
     "name": "stdout",
     "output_type": "stream",
     "text": [
      "2020-01-01          NaN\n",
      "2020-01-02          NaN\n",
      "2020-01-03          NaN\n",
      "2020-01-04    33.003300\n",
      "2020-01-05          NaN\n",
      "2020-01-06          NaN\n",
      "2020-01-07    25.879816\n",
      "Name: a, dtype: float64\n",
      "                    a          b          c         d\n",
      "2020-01-01        NaN        NaN        NaN       NaN\n",
      "2020-01-02        NaN        NaN  99.009901       NaN\n",
      "2020-01-03        NaN        NaN        NaN       NaN\n",
      "2020-01-04  33.003300  14.144272        NaN       NaN\n",
      "2020-01-05        NaN        NaN        NaN  49.50495\n",
      "2020-01-06        NaN  16.637024        NaN       NaN\n",
      "2020-01-07  25.879816        NaN        NaN       NaN\n",
      "9.19 ms ± 2.18 ms per loop (mean ± std. dev. of 7 runs, 100 loops each)\n"
     ]
    }
   ],
   "source": [
    "print(portfolio_a.orders.sell.size)\n",
    "print(portfolio.orders.sell.size)\n",
    "\n",
    "%timeit big_portfolio.orders.sell.size"
   ]
  },
  {
   "cell_type": "code",
   "execution_count": 30,
   "metadata": {},
   "outputs": [
    {
     "name": "stdout",
     "output_type": "stream",
     "text": [
      "2020-01-01    NaN\n",
      "2020-01-02    NaN\n",
      "2020-01-03    3.0\n",
      "2020-01-04    4.0\n",
      "2020-01-05    5.0\n",
      "2020-01-06    NaN\n",
      "2020-01-07    7.0\n",
      "Name: a, dtype: float64\n",
      "              a    b    c    d\n",
      "2020-01-01  NaN  NaN  1.0  NaN\n",
      "2020-01-02  NaN  NaN  2.0  NaN\n",
      "2020-01-03  3.0  7.0  NaN  2.0\n",
      "2020-01-04  4.0  6.0  NaN  NaN\n",
      "2020-01-05  5.0  5.0  NaN  2.0\n",
      "2020-01-06  NaN  4.0  NaN  NaN\n",
      "2020-01-07  7.0  NaN  1.0  4.0\n",
      "5.42 ms ± 878 µs per loop (mean ± std. dev. of 7 runs, 100 loops each)\n"
     ]
    }
   ],
   "source": [
    "print(portfolio_a.orders.price)\n",
    "print(portfolio.orders.price)\n",
    "\n",
    "%timeit big_portfolio.orders.price"
   ]
  },
  {
   "cell_type": "code",
   "execution_count": 31,
   "metadata": {},
   "outputs": [
    {
     "name": "stdout",
     "output_type": "stream",
     "text": [
      "2020-01-01         NaN\n",
      "2020-01-02         NaN\n",
      "2020-01-03    0.990099\n",
      "2020-01-04    1.320132\n",
      "2020-01-05    1.293991\n",
      "2020-01-06         NaN\n",
      "2020-01-07    1.811587\n",
      "Name: a, dtype: float64\n",
      "                   a         b         c         d\n",
      "2020-01-01       NaN       NaN  0.990099       NaN\n",
      "2020-01-02       NaN       NaN  1.980198       NaN\n",
      "2020-01-03  0.990099  0.990099       NaN  0.990099\n",
      "2020-01-04  1.320132  0.848656       NaN       NaN\n",
      "2020-01-05  1.293991  0.831851       NaN  0.990099\n",
      "2020-01-06       NaN  0.665481       NaN       NaN\n",
      "2020-01-07  1.811587       NaN  1.940986  0.970493\n",
      "6.52 ms ± 1.61 ms per loop (mean ± std. dev. of 7 runs, 100 loops each)\n"
     ]
    }
   ],
   "source": [
    "print(portfolio_a.orders.fees)\n",
    "print(portfolio.orders.fees)\n",
    "\n",
    "%timeit big_portfolio.orders.fees"
   ]
  },
  {
   "cell_type": "code",
   "execution_count": 32,
   "metadata": {},
   "outputs": [
    {
     "name": "stdout",
     "output_type": "stream",
     "text": [
      "5.415808907623429\n",
      "a    5.415809\n",
      "b    3.336087\n",
      "c    4.911283\n",
      "d    2.950691\n",
      "dtype: float64\n",
      "13.7 ms ± 6.36 ms per loop (mean ± std. dev. of 7 runs, 10 loops each)\n"
     ]
    }
   ],
   "source": [
    "print(portfolio_a.orders.total_fees)\n",
    "print(portfolio.orders.total_fees)\n",
    "\n",
    "%timeit big_portfolio.orders.total_fees"
   ]
  },
  {
   "cell_type": "markdown",
   "metadata": {},
   "source": [
    "## Trades"
   ]
  },
  {
   "cell_type": "code",
   "execution_count": 33,
   "metadata": {},
   "outputs": [
    {
     "name": "stdout",
     "output_type": "stream",
     "text": [
      "   Column       Size  OpenAt  OpenPrice  OpenFees  CloseAt  ClosePrice  \\\n",
      "0     0.0  33.003300     2.0        3.0  0.990099      3.0         4.0   \n",
      "1     0.0  25.879816     4.0        5.0  1.293991      6.0         7.0   \n",
      "\n",
      "   CloseFees        PnL    Return  Position  \n",
      "0   1.320132  30.693069  0.306931       0.0  \n",
      "1   1.811587  48.654054  0.372277       1.0  \n",
      "   Column       Size  OpenAt  OpenPrice  OpenFees  CloseAt  ClosePrice  \\\n",
      "0     0.0  33.003300     2.0        3.0  0.990099      3.0         4.0   \n",
      "1     0.0  25.879816     4.0        5.0  1.293991      6.0         7.0   \n",
      "2     1.0  14.144272     2.0        7.0  0.990099      3.0         6.0   \n",
      "3     1.0  16.637024     4.0        5.0  0.831851      5.0         4.0   \n",
      "4     2.0  99.009901     0.0        1.0  0.990099      1.0         2.0   \n",
      "5     3.0  49.504950     2.0        2.0  0.990099      4.0         2.0   \n",
      "\n",
      "   CloseFees        PnL    Return  Position  \n",
      "0   1.320132  30.693069  0.306931       0.0  \n",
      "1   1.811587  48.654054  0.372277       1.0  \n",
      "2   0.848656 -15.983027 -0.159830       2.0  \n",
      "3   0.665481 -18.134357 -0.215842       3.0  \n",
      "4   1.980198  96.039604  0.960396       4.0  \n",
      "5   0.990099  -1.980198 -0.019802       6.0  \n"
     ]
    }
   ],
   "source": [
    "print(portfolio_a.trade_records)\n",
    "print(portfolio.trade_records)"
   ]
  },
  {
   "cell_type": "code",
   "execution_count": 34,
   "metadata": {},
   "outputs": [
    {
     "name": "stdout",
     "output_type": "stream",
     "text": [
      "<vectorbt.portfolio.records.Trades object at 0x1a259e4d68>\n"
     ]
    }
   ],
   "source": [
    "print(portfolio_a.trades)"
   ]
  },
  {
   "cell_type": "code",
   "execution_count": 35,
   "metadata": {},
   "outputs": [
    {
     "name": "stdout",
     "output_type": "stream",
     "text": [
      "<vectorbt.portfolio.records.BaseEvents object at 0x1a259dd9b0>\n",
      "<vectorbt.portfolio.records.BaseEvents object at 0x1a259dd550>\n"
     ]
    }
   ],
   "source": [
    "print(portfolio_a.trades.winning)\n",
    "print(portfolio_a.trades.losing)"
   ]
  },
  {
   "cell_type": "code",
   "execution_count": 36,
   "metadata": {},
   "outputs": [
    {
     "name": "stdout",
     "output_type": "stream",
     "text": [
      "2.0\n",
      "a    2.0\n",
      "b    2.0\n",
      "c    1.0\n",
      "d    1.0\n",
      "dtype: float64\n",
      "6.09 ms ± 160 µs per loop (mean ± std. dev. of 7 runs, 100 loops each)\n"
     ]
    }
   ],
   "source": [
    "print(portfolio_a.trades.count)\n",
    "print(portfolio.trades.count)\n",
    "\n",
    "%timeit big_portfolio.trades.count"
   ]
  },
  {
   "cell_type": "code",
   "execution_count": 37,
   "metadata": {},
   "outputs": [
    {
     "name": "stdout",
     "output_type": "stream",
     "text": [
      "2.0\n",
      "a    2.0\n",
      "b    NaN\n",
      "c    1.0\n",
      "d    NaN\n",
      "dtype: float64\n",
      "8.53 ms ± 61.9 µs per loop (mean ± std. dev. of 7 runs, 100 loops each)\n"
     ]
    }
   ],
   "source": [
    "print(portfolio_a.trades.winning.count)\n",
    "print(portfolio.trades.winning.count)\n",
    "\n",
    "%timeit big_portfolio.trades.winning.count"
   ]
  },
  {
   "cell_type": "code",
   "execution_count": 38,
   "metadata": {},
   "outputs": [
    {
     "name": "stdout",
     "output_type": "stream",
     "text": [
      "nan\n",
      "a    NaN\n",
      "b    2.0\n",
      "c    NaN\n",
      "d    1.0\n",
      "dtype: float64\n",
      "8.61 ms ± 32 µs per loop (mean ± std. dev. of 7 runs, 100 loops each)\n"
     ]
    }
   ],
   "source": [
    "print(portfolio_a.trades.losing.count)\n",
    "print(portfolio.trades.losing.count)\n",
    "\n",
    "%timeit big_portfolio.trades.losing.count"
   ]
  },
  {
   "cell_type": "code",
   "execution_count": 39,
   "metadata": {},
   "outputs": [
    {
     "name": "stdout",
     "output_type": "stream",
     "text": [
      "2020-01-01    NaN\n",
      "2020-01-02    NaN\n",
      "2020-01-03    NaN\n",
      "2020-01-04    1.0\n",
      "2020-01-05    NaN\n",
      "2020-01-06    NaN\n",
      "2020-01-07    2.0\n",
      "Name: a, dtype: float64\n",
      "              a    b    c    d\n",
      "2020-01-01  NaN  NaN  NaN  NaN\n",
      "2020-01-02  NaN  NaN  1.0  NaN\n",
      "2020-01-03  NaN  NaN  NaN  NaN\n",
      "2020-01-04  1.0  1.0  NaN  NaN\n",
      "2020-01-05  NaN  NaN  NaN  2.0\n",
      "2020-01-06  NaN  1.0  NaN  NaN\n",
      "2020-01-07  2.0  NaN  NaN  NaN\n",
      "9.58 ms ± 2.47 ms per loop (mean ± std. dev. of 7 runs, 100 loops each)\n"
     ]
    }
   ],
   "source": [
    "print(portfolio_a.trades.duration)\n",
    "print(portfolio.trades.duration)\n",
    "\n",
    "%timeit big_portfolio.trades.duration"
   ]
  },
  {
   "cell_type": "code",
   "execution_count": 40,
   "metadata": {},
   "outputs": [
    {
     "name": "stdout",
     "output_type": "stream",
     "text": [
      "1 days 12:00:00\n",
      "a   1 days 12:00:00\n",
      "b   1 days 00:00:00\n",
      "c   1 days 00:00:00\n",
      "d   2 days 00:00:00\n",
      "dtype: timedelta64[ns]\n",
      "22 ms ± 2.48 ms per loop (mean ± std. dev. of 7 runs, 10 loops each)\n"
     ]
    }
   ],
   "source": [
    "print(portfolio_a.trades.avg_duration)\n",
    "print(portfolio.trades.avg_duration)\n",
    "\n",
    "%timeit big_portfolio.trades.avg_duration"
   ]
  },
  {
   "cell_type": "code",
   "execution_count": 41,
   "metadata": {
    "Collapsed": "false"
   },
   "outputs": [
    {
     "name": "stdout",
     "output_type": "stream",
     "text": [
      "2020-01-01          NaN\n",
      "2020-01-02          NaN\n",
      "2020-01-03          NaN\n",
      "2020-01-04    30.693069\n",
      "2020-01-05          NaN\n",
      "2020-01-06          NaN\n",
      "2020-01-07    48.654054\n",
      "Name: a, dtype: float64\n",
      "                    a          b          c         d\n",
      "2020-01-01        NaN        NaN        NaN       NaN\n",
      "2020-01-02        NaN        NaN  96.039604       NaN\n",
      "2020-01-03        NaN        NaN        NaN       NaN\n",
      "2020-01-04  30.693069 -15.983027        NaN       NaN\n",
      "2020-01-05        NaN        NaN        NaN -1.980198\n",
      "2020-01-06        NaN -18.134357        NaN       NaN\n",
      "2020-01-07  48.654054        NaN        NaN       NaN\n",
      "10 ms ± 1.71 ms per loop (mean ± std. dev. of 7 runs, 100 loops each)\n"
     ]
    }
   ],
   "source": [
    "print(portfolio_a.trades.pnl)\n",
    "print(portfolio.trades.pnl)\n",
    "\n",
    "%timeit big_portfolio.trades.pnl"
   ]
  },
  {
   "cell_type": "code",
   "execution_count": 42,
   "metadata": {},
   "outputs": [
    {
     "name": "stdout",
     "output_type": "stream",
     "text": [
      "79.34712283109498\n",
      "a    79.347123\n",
      "b   -34.117383\n",
      "c    96.039604\n",
      "d    -1.980198\n",
      "dtype: float64\n",
      "14.2 ms ± 35.7 µs per loop (mean ± std. dev. of 7 runs, 100 loops each)\n"
     ]
    }
   ],
   "source": [
    "print(portfolio_a.trades.total_pnl)\n",
    "print(portfolio.trades.total_pnl)\n",
    "\n",
    "%timeit big_portfolio.trades.total_pnl"
   ]
  },
  {
   "cell_type": "code",
   "execution_count": 43,
   "metadata": {},
   "outputs": [
    {
     "name": "stdout",
     "output_type": "stream",
     "text": [
      "39.67356141554749\n",
      "a    39.673561\n",
      "b   -17.058692\n",
      "c    96.039604\n",
      "d    -1.980198\n",
      "dtype: float64\n",
      "14.6 ms ± 63.1 µs per loop (mean ± std. dev. of 7 runs, 100 loops each)\n"
     ]
    }
   ],
   "source": [
    "print(portfolio_a.trades.avg_pnl)\n",
    "print(portfolio.trades.avg_pnl)\n",
    "\n",
    "%timeit big_portfolio.trades.avg_pnl"
   ]
  },
  {
   "cell_type": "code",
   "execution_count": 44,
   "metadata": {},
   "outputs": [
    {
     "data": {
      "image/png": "[encoded data removed]"
     },
     "metadata": {},
     "output_type": "display_data"
    }
   ],
   "source": [
    "portfolio_a.trades.plot_pnl().show_png()"
   ]
  },
  {
   "cell_type": "code",
   "execution_count": 45,
   "metadata": {},
   "outputs": [
    {
     "name": "stdout",
     "output_type": "stream",
     "text": [
      "2020-01-01         NaN\n",
      "2020-01-02         NaN\n",
      "2020-01-03         NaN\n",
      "2020-01-04    0.306931\n",
      "2020-01-05         NaN\n",
      "2020-01-06         NaN\n",
      "2020-01-07    0.372277\n",
      "Name: a, dtype: float64\n",
      "                   a         b         c         d\n",
      "2020-01-01       NaN       NaN       NaN       NaN\n",
      "2020-01-02       NaN       NaN  0.960396       NaN\n",
      "2020-01-03       NaN       NaN       NaN       NaN\n",
      "2020-01-04  0.306931 -0.159830       NaN       NaN\n",
      "2020-01-05       NaN       NaN       NaN -0.019802\n",
      "2020-01-06       NaN -0.215842       NaN       NaN\n",
      "2020-01-07  0.372277       NaN       NaN       NaN\n",
      "11.1 ms ± 2.77 ms per loop (mean ± std. dev. of 7 runs, 100 loops each)\n"
     ]
    }
   ],
   "source": [
    "print(portfolio_a.trades.returns)\n",
    "print(portfolio.trades.returns)\n",
    "\n",
    "%timeit big_portfolio.trades.returns"
   ]
  },
  {
   "cell_type": "code",
   "execution_count": 46,
   "metadata": {},
   "outputs": [
    {
     "name": "stdout",
     "output_type": "stream",
     "text": [
      "0.3396039603960396\n",
      "a    0.339604\n",
      "b   -0.187836\n",
      "c    0.960396\n",
      "d   -0.019802\n",
      "dtype: float64\n",
      "24.6 ms ± 6.48 ms per loop (mean ± std. dev. of 7 runs, 100 loops each)\n"
     ]
    }
   ],
   "source": [
    "print(portfolio_a.trades.avg_return)\n",
    "print(portfolio.trades.avg_return)\n",
    "\n",
    "%timeit big_portfolio.trades.avg_return"
   ]
  },
  {
   "cell_type": "code",
   "execution_count": 47,
   "metadata": {},
   "outputs": [
    {
     "data": {
      "image/png": "[encoded data removed]"
     },
     "metadata": {},
     "output_type": "display_data"
    }
   ],
   "source": [
    "portfolio_a.trades.plot_returns().show_png()"
   ]
  },
  {
   "cell_type": "code",
   "execution_count": 48,
   "metadata": {},
   "outputs": [
    {
     "name": "stdout",
     "output_type": "stream",
     "text": [
      "1.0\n",
      "a    1.0\n",
      "b    NaN\n",
      "c    1.0\n",
      "d    NaN\n",
      "dtype: float64\n",
      "10.1 ms ± 737 µs per loop (mean ± std. dev. of 7 runs, 100 loops each)\n"
     ]
    }
   ],
   "source": [
    "print(portfolio_a.trades.win_rate)\n",
    "print(portfolio.trades.win_rate)\n",
    "\n",
    "%timeit big_portfolio.trades.win_rate"
   ]
  },
  {
   "cell_type": "code",
   "execution_count": 49,
   "metadata": {},
   "outputs": [
    {
     "name": "stdout",
     "output_type": "stream",
     "text": [
      "inf\n",
      "a    inf\n",
      "b    0.0\n",
      "c    inf\n",
      "d    0.0\n",
      "dtype: float64\n"
     ]
    },
    {
     "name": "stderr",
     "output_type": "stream",
     "text": [
      "/Users/olegpolakow/Documents/SourceTree/vectorbt/vectorbt/portfolio/records.py:230: RuntimeWarning:\n",
      "\n",
      "divide by zero encountered in true_divide\n",
      "\n"
     ]
    },
    {
     "name": "stdout",
     "output_type": "stream",
     "text": [
      "29.6 ms ± 2.71 ms per loop (mean ± std. dev. of 7 runs, 10 loops each)\n"
     ]
    }
   ],
   "source": [
    "print(portfolio_a.trades.profit_factor)\n",
    "print(portfolio.trades.profit_factor)\n",
    "\n",
    "%timeit big_portfolio.trades.profit_factor"
   ]
  },
  {
   "cell_type": "code",
   "execution_count": 50,
   "metadata": {},
   "outputs": [
    {
     "name": "stdout",
     "output_type": "stream",
     "text": [
      "39.67356141554749\n",
      "a    39.673561\n",
      "b          NaN\n",
      "c    96.039604\n",
      "d          NaN\n",
      "dtype: float64\n",
      "34.2 ms ± 2.06 ms per loop (mean ± std. dev. of 7 runs, 10 loops each)\n"
     ]
    }
   ],
   "source": [
    "print(portfolio_a.trades.expectancy)\n",
    "print(portfolio.trades.expectancy)\n",
    "\n",
    "%timeit big_portfolio.trades.expectancy"
   ]
  },
  {
   "cell_type": "markdown",
   "metadata": {},
   "source": [
    "## Positions"
   ]
  },
  {
   "cell_type": "code",
   "execution_count": 51,
   "metadata": {},
   "outputs": [
    {
     "name": "stdout",
     "output_type": "stream",
     "text": [
      "   Column       Size  OpenAt  OpenPrice  OpenFees  CloseAt  ClosePrice  \\\n",
      "0     0.0  33.003300     2.0        3.0  0.990099      3.0         4.0   \n",
      "1     0.0  25.879816     4.0        5.0  1.293991      6.0         7.0   \n",
      "\n",
      "   CloseFees        PnL    Return  Status  \n",
      "0   1.320132  30.693069  0.306931     1.0  \n",
      "1   1.811587  48.654054  0.372277     1.0  \n",
      "   Column        Size  OpenAt  OpenPrice  OpenFees  CloseAt  ClosePrice  \\\n",
      "0     0.0   33.003300     2.0        3.0  0.990099      3.0         4.0   \n",
      "1     0.0   25.879816     4.0        5.0  1.293991      6.0         7.0   \n",
      "2     1.0   14.144272     2.0        7.0  0.990099      3.0         6.0   \n",
      "3     1.0   16.637024     4.0        5.0  0.831851      5.0         4.0   \n",
      "4     2.0   99.009901     0.0        1.0  0.990099      1.0         2.0   \n",
      "5     2.0  194.098618     6.0        1.0  1.940986      6.0         1.0   \n",
      "6     3.0   49.504950     2.0        2.0  0.990099      4.0         2.0   \n",
      "7     3.0   24.262327     6.0        4.0  0.970493      6.0         4.0   \n",
      "\n",
      "   CloseFees        PnL    Return  Status  \n",
      "0   1.320132  30.693069  0.306931     1.0  \n",
      "1   1.811587  48.654054  0.372277     1.0  \n",
      "2   0.848656 -15.983027 -0.159830     1.0  \n",
      "3   0.665481 -18.134357 -0.215842     1.0  \n",
      "4   1.980198  96.039604  0.960396     1.0  \n",
      "5   0.000000  -1.940986 -0.009901     0.0  \n",
      "6   0.990099  -1.980198 -0.019802     1.0  \n",
      "7   0.000000  -0.970493 -0.009901     0.0  \n"
     ]
    }
   ],
   "source": [
    "print(portfolio_a.position_records)\n",
    "print(portfolio.position_records)"
   ]
  },
  {
   "cell_type": "code",
   "execution_count": 52,
   "metadata": {},
   "outputs": [
    {
     "name": "stdout",
     "output_type": "stream",
     "text": [
      "<vectorbt.portfolio.records.Positions object at 0x1a292a2ef0>\n"
     ]
    }
   ],
   "source": [
    "print(portfolio_a.positions)"
   ]
  },
  {
   "cell_type": "code",
   "execution_count": 53,
   "metadata": {},
   "outputs": [
    {
     "name": "stdout",
     "output_type": "stream",
     "text": [
      "<vectorbt.portfolio.records.Events object at 0x1a292a2358>\n",
      "<vectorbt.portfolio.records.Events object at 0x1a292a22e8>\n"
     ]
    }
   ],
   "source": [
    "print(portfolio_a.positions.open)\n",
    "print(portfolio_a.positions.closed)"
   ]
  },
  {
   "cell_type": "code",
   "execution_count": 54,
   "metadata": {},
   "outputs": [
    {
     "name": "stdout",
     "output_type": "stream",
     "text": [
      "<vectorbt.portfolio.records.BaseEvents object at 0x1a29395898>\n",
      "<vectorbt.portfolio.records.BaseEvents object at 0x1a29395390>\n",
      "<vectorbt.portfolio.records.BaseEvents object at 0x1a29395d30>\n",
      "<vectorbt.portfolio.records.BaseEvents object at 0x1a29395160>\n",
      "<vectorbt.portfolio.records.BaseEvents object at 0x1a29395278>\n",
      "<vectorbt.portfolio.records.BaseEvents object at 0x1a29395550>\n"
     ]
    }
   ],
   "source": [
    "print(portfolio_a.positions.winning)\n",
    "print(portfolio_a.positions.losing)\n",
    "print(portfolio_a.positions.open.winning)\n",
    "print(portfolio_a.positions.open.losing)\n",
    "print(portfolio_a.positions.closed.winning)\n",
    "print(portfolio_a.positions.closed.losing)"
   ]
  },
  {
   "cell_type": "code",
   "execution_count": 55,
   "metadata": {},
   "outputs": [
    {
     "name": "stdout",
     "output_type": "stream",
     "text": [
      "2020-01-01    NaN\n",
      "2020-01-02    NaN\n",
      "2020-01-03    NaN\n",
      "2020-01-04    1.0\n",
      "2020-01-05    NaN\n",
      "2020-01-06    NaN\n",
      "2020-01-07    1.0\n",
      "Name: a, dtype: float64\n",
      "              a    b    c    d\n",
      "2020-01-01  NaN  NaN  NaN  NaN\n",
      "2020-01-02  NaN  NaN  1.0  NaN\n",
      "2020-01-03  NaN  NaN  NaN  NaN\n",
      "2020-01-04  1.0  1.0  NaN  NaN\n",
      "2020-01-05  NaN  NaN  NaN  1.0\n",
      "2020-01-06  NaN  1.0  NaN  NaN\n",
      "2020-01-07  1.0  NaN  0.0  0.0\n",
      "8.37 ms ± 770 µs per loop (mean ± std. dev. of 7 runs, 100 loops each)\n"
     ]
    }
   ],
   "source": [
    "print(portfolio_a.positions.status)\n",
    "print(portfolio.positions.status)\n",
    "\n",
    "%timeit big_portfolio.positions.status"
   ]
  },
  {
   "cell_type": "code",
   "execution_count": 56,
   "metadata": {},
   "outputs": [
    {
     "name": "stdout",
     "output_type": "stream",
     "text": [
      "1.0\n",
      "a    1.0\n",
      "b    1.0\n",
      "c    0.5\n",
      "d    0.5\n",
      "dtype: float64\n",
      "11.9 ms ± 1.63 ms per loop (mean ± std. dev. of 7 runs, 100 loops each)\n"
     ]
    }
   ],
   "source": [
    "print(portfolio_a.positions.closed_rate)\n",
    "print(portfolio.positions.closed_rate)\n",
    "\n",
    "%timeit big_portfolio.positions.closed_rate"
   ]
  },
  {
   "cell_type": "code",
   "execution_count": 57,
   "metadata": {},
   "outputs": [
    {
     "name": "stdout",
     "output_type": "stream",
     "text": [
      "2.0\n",
      "a    2.0\n",
      "b    2.0\n",
      "c    2.0\n",
      "d    2.0\n",
      "dtype: float64\n",
      "7.36 ms ± 1.94 ms per loop (mean ± std. dev. of 7 runs, 100 loops each)\n"
     ]
    }
   ],
   "source": [
    "print(portfolio_a.positions.count)\n",
    "print(portfolio.positions.count)\n",
    "\n",
    "%timeit big_portfolio.positions.count"
   ]
  },
  {
   "cell_type": "code",
   "execution_count": 58,
   "metadata": {},
   "outputs": [
    {
     "name": "stdout",
     "output_type": "stream",
     "text": [
      "2.0\n",
      "a    2.0\n",
      "b    NaN\n",
      "c    1.0\n",
      "d    NaN\n",
      "dtype: float64\n",
      "10.2 ms ± 2.48 ms per loop (mean ± std. dev. of 7 runs, 100 loops each)\n"
     ]
    }
   ],
   "source": [
    "print(portfolio_a.positions.winning.count)\n",
    "print(portfolio.positions.winning.count)\n",
    "\n",
    "%timeit big_portfolio.positions.winning.count"
   ]
  },
  {
   "cell_type": "code",
   "execution_count": 59,
   "metadata": {},
   "outputs": [
    {
     "name": "stdout",
     "output_type": "stream",
     "text": [
      "nan\n",
      "a    NaN\n",
      "b    2.0\n",
      "c    1.0\n",
      "d    2.0\n",
      "dtype: float64\n",
      "8.85 ms ± 382 µs per loop (mean ± std. dev. of 7 runs, 100 loops each)\n"
     ]
    }
   ],
   "source": [
    "print(portfolio_a.positions.losing.count)\n",
    "print(portfolio.positions.losing.count)\n",
    "\n",
    "%timeit big_portfolio.positions.losing.count"
   ]
  },
  {
   "cell_type": "code",
   "execution_count": 60,
   "metadata": {},
   "outputs": [
    {
     "name": "stdout",
     "output_type": "stream",
     "text": [
      "2.0\n",
      "a    2.0\n",
      "b    NaN\n",
      "c    1.0\n",
      "d    NaN\n",
      "dtype: float64\n",
      "13.1 ms ± 292 µs per loop (mean ± std. dev. of 7 runs, 100 loops each)\n"
     ]
    }
   ],
   "source": [
    "print(portfolio_a.positions.closed.winning.count)\n",
    "print(portfolio.positions.closed.winning.count)\n",
    "\n",
    "%timeit big_portfolio.positions.closed.winning.count"
   ]
  },
  {
   "cell_type": "code",
   "execution_count": 61,
   "metadata": {},
   "outputs": [
    {
     "name": "stdout",
     "output_type": "stream",
     "text": [
      "nan\n",
      "a    NaN\n",
      "b    2.0\n",
      "c    NaN\n",
      "d    1.0\n",
      "dtype: float64\n",
      "13.2 ms ± 419 µs per loop (mean ± std. dev. of 7 runs, 100 loops each)\n"
     ]
    }
   ],
   "source": [
    "print(portfolio_a.positions.closed.losing.count)\n",
    "print(portfolio.positions.closed.losing.count)\n",
    "\n",
    "%timeit big_portfolio.positions.closed.losing.count"
   ]
  },
  {
   "cell_type": "code",
   "execution_count": 62,
   "metadata": {},
   "outputs": [
    {
     "name": "stdout",
     "output_type": "stream",
     "text": [
      "2020-01-01    NaN\n",
      "2020-01-02    NaN\n",
      "2020-01-03    NaN\n",
      "2020-01-04    1.0\n",
      "2020-01-05    NaN\n",
      "2020-01-06    NaN\n",
      "2020-01-07    2.0\n",
      "Name: a, dtype: float64\n",
      "              a    b    c    d\n",
      "2020-01-01  NaN  NaN  NaN  NaN\n",
      "2020-01-02  NaN  NaN  1.0  NaN\n",
      "2020-01-03  NaN  NaN  NaN  NaN\n",
      "2020-01-04  1.0  1.0  NaN  NaN\n",
      "2020-01-05  NaN  NaN  NaN  2.0\n",
      "2020-01-06  NaN  1.0  NaN  NaN\n",
      "2020-01-07  2.0  NaN  0.0  0.0\n",
      "8.62 ms ± 671 µs per loop (mean ± std. dev. of 7 runs, 100 loops each)\n"
     ]
    }
   ],
   "source": [
    "print(portfolio_a.positions.duration)\n",
    "print(portfolio.positions.duration)\n",
    "\n",
    "%timeit big_portfolio.positions.duration"
   ]
  },
  {
   "cell_type": "code",
   "execution_count": 63,
   "metadata": {},
   "outputs": [
    {
     "name": "stdout",
     "output_type": "stream",
     "text": [
      "1 days 12:00:00\n",
      "a   1 days 12:00:00\n",
      "b   1 days 00:00:00\n",
      "c   0 days 12:00:00\n",
      "d   1 days 00:00:00\n",
      "dtype: timedelta64[ns]\n",
      "21.7 ms ± 2.18 ms per loop (mean ± std. dev. of 7 runs, 10 loops each)\n"
     ]
    }
   ],
   "source": [
    "print(portfolio_a.positions.avg_duration)\n",
    "print(portfolio.positions.avg_duration)\n",
    "\n",
    "%timeit big_portfolio.positions.avg_duration"
   ]
  },
  {
   "cell_type": "code",
   "execution_count": 64,
   "metadata": {
    "Collapsed": "false"
   },
   "outputs": [
    {
     "name": "stdout",
     "output_type": "stream",
     "text": [
      "2020-01-01          NaN\n",
      "2020-01-02          NaN\n",
      "2020-01-03          NaN\n",
      "2020-01-04    30.693069\n",
      "2020-01-05          NaN\n",
      "2020-01-06          NaN\n",
      "2020-01-07    48.654054\n",
      "Name: a, dtype: float64\n",
      "                    a          b          c         d\n",
      "2020-01-01        NaN        NaN        NaN       NaN\n",
      "2020-01-02        NaN        NaN  96.039604       NaN\n",
      "2020-01-03        NaN        NaN        NaN       NaN\n",
      "2020-01-04  30.693069 -15.983027        NaN       NaN\n",
      "2020-01-05        NaN        NaN        NaN -1.980198\n",
      "2020-01-06        NaN -18.134357        NaN       NaN\n",
      "2020-01-07  48.654054        NaN  -1.940986 -0.970493\n",
      "9.43 ms ± 2.2 ms per loop (mean ± std. dev. of 7 runs, 100 loops each)\n"
     ]
    }
   ],
   "source": [
    "print(portfolio_a.positions.pnl)\n",
    "print(portfolio.positions.pnl)\n",
    "\n",
    "%timeit big_portfolio.positions.pnl"
   ]
  },
  {
   "cell_type": "code",
   "execution_count": 65,
   "metadata": {},
   "outputs": [
    {
     "name": "stdout",
     "output_type": "stream",
     "text": [
      "79.34712283109498\n",
      "a    79.347123\n",
      "b   -34.117383\n",
      "c    94.098618\n",
      "d    -2.950691\n",
      "dtype: float64\n",
      "15.5 ms ± 1.71 ms per loop (mean ± std. dev. of 7 runs, 100 loops each)\n"
     ]
    }
   ],
   "source": [
    "print(portfolio_a.positions.total_pnl)\n",
    "print(portfolio.positions.total_pnl)\n",
    "\n",
    "%timeit big_portfolio.positions.total_pnl"
   ]
  },
  {
   "cell_type": "code",
   "execution_count": 66,
   "metadata": {},
   "outputs": [
    {
     "name": "stdout",
     "output_type": "stream",
     "text": [
      "39.67356141554749\n",
      "a    39.673561\n",
      "b   -17.058692\n",
      "c    47.049309\n",
      "d    -1.475346\n",
      "dtype: float64\n",
      "22.6 ms ± 7.19 ms per loop (mean ± std. dev. of 7 runs, 100 loops each)\n"
     ]
    }
   ],
   "source": [
    "print(portfolio_a.positions.avg_pnl)\n",
    "print(portfolio.positions.avg_pnl)\n",
    "\n",
    "%timeit big_portfolio.positions.avg_pnl"
   ]
  },
  {
   "cell_type": "code",
   "execution_count": 67,
   "metadata": {},
   "outputs": [
    {
     "data": {
      "image/png": "[encoded data removed]"
     },
     "metadata": {},
     "output_type": "display_data"
    }
   ],
   "source": [
    "portfolio_a.positions.plot_pnl().show_png()"
   ]
  },
  {
   "cell_type": "code",
   "execution_count": 68,
   "metadata": {},
   "outputs": [
    {
     "name": "stdout",
     "output_type": "stream",
     "text": [
      "2020-01-01         NaN\n",
      "2020-01-02         NaN\n",
      "2020-01-03         NaN\n",
      "2020-01-04    0.306931\n",
      "2020-01-05         NaN\n",
      "2020-01-06         NaN\n",
      "2020-01-07    0.372277\n",
      "Name: a, dtype: float64\n",
      "                   a         b         c         d\n",
      "2020-01-01       NaN       NaN       NaN       NaN\n",
      "2020-01-02       NaN       NaN  0.960396       NaN\n",
      "2020-01-03       NaN       NaN       NaN       NaN\n",
      "2020-01-04  0.306931 -0.159830       NaN       NaN\n",
      "2020-01-05       NaN       NaN       NaN -0.019802\n",
      "2020-01-06       NaN -0.215842       NaN       NaN\n",
      "2020-01-07  0.372277       NaN -0.009901 -0.009901\n",
      "8.11 ms ± 134 µs per loop (mean ± std. dev. of 7 runs, 100 loops each)\n"
     ]
    }
   ],
   "source": [
    "print(portfolio_a.positions.returns)\n",
    "print(portfolio.positions.returns)\n",
    "\n",
    "%timeit big_portfolio.positions.returns"
   ]
  },
  {
   "cell_type": "code",
   "execution_count": 69,
   "metadata": {},
   "outputs": [
    {
     "name": "stdout",
     "output_type": "stream",
     "text": [
      "0.3396039603960396\n",
      "a    0.339604\n",
      "b   -0.187836\n",
      "c    0.475248\n",
      "d   -0.014851\n",
      "dtype: float64\n",
      "15.1 ms ± 268 µs per loop (mean ± std. dev. of 7 runs, 100 loops each)\n"
     ]
    }
   ],
   "source": [
    "print(portfolio_a.positions.avg_return)\n",
    "print(portfolio.positions.avg_return)\n",
    "\n",
    "%timeit big_portfolio.positions.avg_return"
   ]
  },
  {
   "cell_type": "code",
   "execution_count": 70,
   "metadata": {},
   "outputs": [
    {
     "data": {
      "image/png": "[encoded data removed]"
     },
     "metadata": {},
     "output_type": "display_data"
    }
   ],
   "source": [
    "portfolio_a.positions.plot_returns().show_png()"
   ]
  },
  {
   "cell_type": "code",
   "execution_count": 71,
   "metadata": {},
   "outputs": [
    {
     "name": "stdout",
     "output_type": "stream",
     "text": [
      "1.0\n",
      "a    1.0\n",
      "b    NaN\n",
      "c    0.5\n",
      "d    NaN\n",
      "dtype: float64\n",
      "9.73 ms ± 202 µs per loop (mean ± std. dev. of 7 runs, 100 loops each)\n"
     ]
    }
   ],
   "source": [
    "print(portfolio_a.positions.win_rate)\n",
    "print(portfolio.positions.win_rate)\n",
    "\n",
    "%timeit big_portfolio.positions.win_rate"
   ]
  },
  {
   "cell_type": "code",
   "execution_count": 72,
   "metadata": {},
   "outputs": [
    {
     "name": "stdout",
     "output_type": "stream",
     "text": [
      "inf\n",
      "a          inf\n",
      "b     0.000000\n",
      "c    49.479798\n",
      "d     0.000000\n",
      "dtype: float64\n"
     ]
    },
    {
     "name": "stderr",
     "output_type": "stream",
     "text": [
      "/Users/olegpolakow/Documents/SourceTree/vectorbt/vectorbt/portfolio/records.py:230: RuntimeWarning:\n",
      "\n",
      "divide by zero encountered in true_divide\n",
      "\n"
     ]
    },
    {
     "name": "stdout",
     "output_type": "stream",
     "text": [
      "30.2 ms ± 2.63 ms per loop (mean ± std. dev. of 7 runs, 10 loops each)\n"
     ]
    }
   ],
   "source": [
    "print(portfolio_a.positions.profit_factor)\n",
    "print(portfolio.positions.profit_factor)\n",
    "\n",
    "%timeit big_portfolio.positions.profit_factor"
   ]
  },
  {
   "cell_type": "code",
   "execution_count": 73,
   "metadata": {},
   "outputs": [
    {
     "name": "stdout",
     "output_type": "stream",
     "text": [
      "39.67356141554749\n",
      "a    39.673561\n",
      "b          NaN\n",
      "c    47.049309\n",
      "d          NaN\n",
      "dtype: float64\n",
      "34.9 ms ± 2.2 ms per loop (mean ± std. dev. of 7 runs, 10 loops each)\n"
     ]
    }
   ],
   "source": [
    "print(portfolio_a.positions.expectancy)\n",
    "print(portfolio.positions.expectancy)\n",
    "\n",
    "%timeit big_portfolio.positions.expectancy"
   ]
  },
  {
   "cell_type": "markdown",
   "metadata": {},
   "source": [
    "## Equity"
   ]
  },
  {
   "cell_type": "code",
   "execution_count": 74,
   "metadata": {},
   "outputs": [
    {
     "name": "stdout",
     "output_type": "stream",
     "text": [
      "2020-01-01    100.000000\n",
      "2020-01-02    100.000000\n",
      "2020-01-03     99.009901\n",
      "2020-01-04    130.693069\n",
      "2020-01-05    129.399079\n",
      "2020-01-06    155.278894\n",
      "2020-01-07    179.347123\n",
      "Name: a, dtype: float64\n",
      "                     a           b           c           d\n",
      "2020-01-01  100.000000  100.000000   99.009901  100.000000\n",
      "2020-01-02  100.000000  100.000000  196.039604  100.000000\n",
      "2020-01-03   99.009901   99.009901  196.039604   99.009901\n",
      "2020-01-04  130.693069   84.016973  196.039604   49.504950\n",
      "2020-01-05  129.399079   83.185122  196.039604   98.019802\n",
      "2020-01-06  155.278894   65.882617  196.039604   98.019802\n",
      "2020-01-07  179.347123   65.882617  194.098618   97.049309\n",
      "4.52 ms ± 89.9 µs per loop (mean ± std. dev. of 7 runs, 100 loops each)\n"
     ]
    }
   ],
   "source": [
    "print(portfolio_a.equity)\n",
    "print(portfolio.equity)\n",
    "\n",
    "%timeit big_portfolio.equity"
   ]
  },
  {
   "cell_type": "code",
   "execution_count": 75,
   "metadata": {},
   "outputs": [
    {
     "name": "stdout",
     "output_type": "stream",
     "text": [
      "79.34712283109496\n",
      "a    79.347123\n",
      "b   -34.117383\n",
      "c    94.098618\n",
      "d    -2.950691\n",
      "dtype: float64\n",
      "6.07 ms ± 57 µs per loop (mean ± std. dev. of 7 runs, 100 loops each)\n"
     ]
    }
   ],
   "source": [
    "print(portfolio_a.total_profit)\n",
    "print(portfolio.total_profit)\n",
    "\n",
    "%timeit big_portfolio.total_profit"
   ]
  },
  {
   "cell_type": "markdown",
   "metadata": {},
   "source": [
    "## Returns"
   ]
  },
  {
   "cell_type": "code",
   "execution_count": 76,
   "metadata": {},
   "outputs": [
    {
     "name": "stdout",
     "output_type": "stream",
     "text": [
      "2020-01-01         NaN\n",
      "2020-01-02    0.000000\n",
      "2020-01-03   -0.009901\n",
      "2020-01-04    0.320000\n",
      "2020-01-05   -0.009901\n",
      "2020-01-06    0.200000\n",
      "2020-01-07    0.155000\n",
      "Name: a, dtype: float64\n",
      "                   a         b         c         d\n",
      "2020-01-01       NaN       NaN       NaN       NaN\n",
      "2020-01-02  0.000000  0.000000  0.980000  0.000000\n",
      "2020-01-03 -0.009901 -0.009901  0.000000 -0.009901\n",
      "2020-01-04  0.320000 -0.151429  0.000000 -0.500000\n",
      "2020-01-05 -0.009901 -0.009901  0.000000  0.980000\n",
      "2020-01-06  0.200000 -0.208000  0.000000  0.000000\n",
      "2020-01-07  0.155000  0.000000 -0.009901 -0.009901\n",
      "276 ms ± 8.17 ms per loop (mean ± std. dev. of 7 runs, 1 loop each)\n",
      "10.8 ms ± 150 µs per loop (mean ± std. dev. of 7 runs, 100 loops each)\n"
     ]
    }
   ],
   "source": [
    "print(portfolio_a.returns)\n",
    "print(portfolio.returns)\n",
    "\n",
    "%timeit big_portfolio.equity.pct_change()\n",
    "%timeit big_portfolio.returns # numba helps a lot"
   ]
  },
  {
   "cell_type": "code",
   "execution_count": 77,
   "metadata": {},
   "outputs": [
    {
     "name": "stdout",
     "output_type": "stream",
     "text": [
      "2020-01-01         NaN\n",
      "2020-01-02    0.000000\n",
      "2020-01-03   -0.009901\n",
      "2020-01-04    0.320000\n",
      "2020-01-05   -0.009901\n",
      "2020-01-06    0.200000\n",
      "2020-01-07    0.155000\n",
      "Name: a, dtype: float64\n",
      "                   a         b         c         d\n",
      "2020-01-01       NaN       NaN       NaN       NaN\n",
      "2020-01-02  0.000000  0.000000  0.980000  0.000000\n",
      "2020-01-03 -0.009901 -0.009901  0.000000 -0.009901\n",
      "2020-01-04  0.320000 -0.151429  0.000000 -0.500000\n",
      "2020-01-05 -0.009901 -0.009901  0.000000  0.980000\n",
      "2020-01-06  0.200000 -0.208000  0.000000  0.000000\n",
      "2020-01-07  0.155000  0.000000 -0.009901 -0.009901\n",
      "21.6 ms ± 985 µs per loop (mean ± std. dev. of 7 runs, 10 loops each)\n"
     ]
    }
   ],
   "source": [
    "print(portfolio_a.daily_returns)\n",
    "print(portfolio.daily_returns)\n",
    "\n",
    "%timeit big_portfolio.daily_returns"
   ]
  },
  {
   "cell_type": "code",
   "execution_count": 78,
   "metadata": {},
   "outputs": [
    {
     "name": "stdout",
     "output_type": "stream",
     "text": [
      "2020-12-31    0.793471\n",
      "Freq: A-DEC, Name: a, dtype: float64\n",
      "                   a         b         c         d\n",
      "2020-12-31  0.793471 -0.341174  0.960396 -0.029507\n",
      "34 ms ± 1.72 ms per loop (mean ± std. dev. of 7 runs, 10 loops each)\n"
     ]
    }
   ],
   "source": [
    "print(portfolio_a.annual_returns)\n",
    "print(portfolio.annual_returns)\n",
    "\n",
    "%timeit big_portfolio.annual_returns"
   ]
  },
  {
   "cell_type": "code",
   "execution_count": 79,
   "metadata": {},
   "outputs": [
    {
     "name": "stdout",
     "output_type": "stream",
     "text": [
      "0.7934712283109496\n",
      "a    0.793471\n",
      "b   -0.341174\n",
      "c    0.940986\n",
      "d   -0.029507\n",
      "dtype: float64\n",
      "6.18 ms ± 56.5 µs per loop (mean ± std. dev. of 7 runs, 100 loops each)\n"
     ]
    }
   ],
   "source": [
    "print(portfolio_a.total_return)\n",
    "print(portfolio.total_return)\n",
    "\n",
    "%timeit big_portfolio.total_return"
   ]
  },
  {
   "cell_type": "markdown",
   "metadata": {},
   "source": [
    "## Drawdown"
   ]
  },
  {
   "cell_type": "code",
   "execution_count": 80,
   "metadata": {},
   "outputs": [
    {
     "name": "stdout",
     "output_type": "stream",
     "text": [
      "2020-01-01    0.000000\n",
      "2020-01-02    0.000000\n",
      "2020-01-03    0.009901\n",
      "2020-01-04    0.000000\n",
      "2020-01-05    0.009901\n",
      "2020-01-06    0.000000\n",
      "2020-01-07    0.000000\n",
      "Name: a, dtype: float64\n",
      "                   a         b         c         d\n",
      "2020-01-01  0.000000  0.000000  0.000000  0.000000\n",
      "2020-01-02  0.000000  0.000000  0.000000  0.000000\n",
      "2020-01-03  0.009901  0.009901  0.000000  0.009901\n",
      "2020-01-04  0.000000  0.159830  0.000000  0.504950\n",
      "2020-01-05  0.009901  0.168149  0.000000  0.019802\n",
      "2020-01-06  0.000000  0.341174  0.000000  0.019802\n",
      "2020-01-07  0.000000  0.341174  0.009901  0.029507\n",
      "19.7 ms ± 1.33 ms per loop (mean ± std. dev. of 7 runs, 100 loops each)\n"
     ]
    }
   ],
   "source": [
    "print(portfolio_a.drawdown)\n",
    "print(portfolio.drawdown)\n",
    "\n",
    "%timeit big_portfolio.drawdown"
   ]
  },
  {
   "cell_type": "code",
   "execution_count": 81,
   "metadata": {},
   "outputs": [
    {
     "name": "stdout",
     "output_type": "stream",
     "text": [
      "0.00990099009901002\n",
      "a    0.009901\n",
      "b    0.341174\n",
      "c    0.009901\n",
      "d    0.504950\n",
      "dtype: float64\n",
      "23.9 ms ± 1.63 ms per loop (mean ± std. dev. of 7 runs, 10 loops each)\n"
     ]
    }
   ],
   "source": [
    "print(portfolio_a.max_drawdown)\n",
    "print(portfolio.max_drawdown)\n",
    "\n",
    "%timeit big_portfolio.max_drawdown"
   ]
  },
  {
   "cell_type": "markdown",
   "metadata": {},
   "source": [
    "## Financial risk and performance metrics"
   ]
  },
  {
   "cell_type": "code",
   "execution_count": 82,
   "metadata": {
    "Collapsed": "false"
   },
   "outputs": [
    {
     "name": "stdout",
     "output_type": "stream",
     "text": [
      "[ 0.          0.         -0.00990099  0.30693069  0.29399079  0.55278894\n",
      "  0.79347123]\n",
      "2020-01-01         NaN\n",
      "2020-01-02    0.000000\n",
      "2020-01-03   -0.009901\n",
      "2020-01-04    0.306931\n",
      "2020-01-05    0.293991\n",
      "2020-01-06    0.552789\n",
      "2020-01-07    0.793471\n",
      "Name: a, dtype: float64\n",
      "                   a         b         c         d\n",
      "2020-01-01       NaN       NaN       NaN       NaN\n",
      "2020-01-02  0.000000  0.000000  0.980000  0.000000\n",
      "2020-01-03 -0.009901 -0.009901  0.980000 -0.009901\n",
      "2020-01-04  0.306931 -0.159830  0.980000 -0.504950\n",
      "2020-01-05  0.293991 -0.168149  0.980000 -0.019802\n",
      "2020-01-06  0.552789 -0.341174  0.980000 -0.019802\n",
      "2020-01-07  0.793471 -0.341174  0.960396 -0.029507\n",
      "23.3 ms ± 1.75 ms per loop (mean ± std. dev. of 7 runs, 10 loops each)\n"
     ]
    }
   ],
   "source": [
    "import empyrical\n",
    "\n",
    "print(empyrical.cum_returns(portfolio_a.returns.values))\n",
    "\n",
    "print(portfolio_a.cum_returns)\n",
    "print(portfolio.cum_returns)\n",
    "\n",
    "%timeit big_portfolio.cum_returns"
   ]
  },
  {
   "cell_type": "code",
   "execution_count": 83,
   "metadata": {},
   "outputs": [
    {
     "name": "stdout",
     "output_type": "stream",
     "text": [
      "17263954475535.037\n",
      "17263954475535.11\n",
      "a    1.726395e+13\n",
      "b   -1.000000e+00\n",
      "c    1.793781e+15\n",
      "d   -7.904448e-01\n",
      "dtype: float64\n",
      "17 ms ± 391 µs per loop (mean ± std. dev. of 7 runs, 100 loops each)\n"
     ]
    }
   ],
   "source": [
    "print(empyrical.annual_return(portfolio_a.returns.values, annualization=portfolio.ann_factor))\n",
    "\n",
    "print(portfolio_a.annualized_return)\n",
    "print(portfolio.annualized_return)\n",
    "\n",
    "%timeit big_portfolio.annualized_return"
   ]
  },
  {
   "cell_type": "code",
   "execution_count": 84,
   "metadata": {},
   "outputs": [
    {
     "name": "stdout",
     "output_type": "stream",
     "text": [
      "2.635334446531104\n",
      "2.6353344465311035\n",
      "a    2.635334\n",
      "b    1.760346\n",
      "c    7.661944\n",
      "d    9.265734\n",
      "dtype: float64\n",
      "18.6 ms ± 115 µs per loop (mean ± std. dev. of 7 runs, 100 loops each)\n"
     ]
    }
   ],
   "source": [
    "print(empyrical.annual_volatility(portfolio_a.returns.values, annualization=portfolio.ann_factor))\n",
    "\n",
    "print(portfolio_a.annualized_volatility)\n",
    "print(portfolio.annualized_volatility)\n",
    "\n",
    "%timeit big_portfolio.annualized_volatility"
   ]
  },
  {
   "cell_type": "code",
   "execution_count": 85,
   "metadata": {},
   "outputs": [
    {
     "name": "stdout",
     "output_type": "stream",
     "text": [
      "1743659402029022.8\n",
      "1743659402029025.0\n",
      "a    1.743659e+15\n",
      "b   -2.931057e+00\n",
      "c    1.811719e+17\n",
      "d   -1.565391e+00\n",
      "dtype: float64\n",
      "53.4 ms ± 2.13 ms per loop (mean ± std. dev. of 7 runs, 10 loops each)\n"
     ]
    }
   ],
   "source": [
    "print(empyrical.calmar_ratio(portfolio_a.returns.values, annualization=portfolio.ann_factor))\n",
    "\n",
    "print(portfolio_a.calmar_ratio)\n",
    "print(portfolio.calmar_ratio)\n",
    "\n",
    "%timeit big_portfolio.calmar_ratio"
   ]
  },
  {
   "cell_type": "code",
   "execution_count": 86,
   "metadata": {},
   "outputs": [
    {
     "name": "stdout",
     "output_type": "stream",
     "text": [
      "12.735354206625322\n"
     ]
    },
    {
     "name": "stderr",
     "output_type": "stream",
     "text": [
      "/Users/olegpolakow/miniconda3/lib/python3.7/site-packages/empyrical/stats.py:641: RuntimeWarning:\n",
      "\n",
      "invalid value encountered in greater\n",
      "\n",
      "/Users/olegpolakow/miniconda3/lib/python3.7/site-packages/empyrical/stats.py:642: RuntimeWarning:\n",
      "\n",
      "invalid value encountered in less\n",
      "\n"
     ]
    },
    {
     "name": "stdout",
     "output_type": "stream",
     "text": [
      "12.735354206625322\n",
      "a    12.735354\n",
      "b     0.000000\n",
      "c    15.843878\n",
      "d     1.697999\n",
      "dtype: float64\n",
      "23.4 ms ± 1.5 ms per loop (mean ± std. dev. of 7 runs, 10 loops each)\n"
     ]
    }
   ],
   "source": [
    "print(empyrical.omega_ratio(portfolio_a.returns.values, \n",
    "    annualization=portfolio.ann_factor, risk_free=portfolio.risk_free, required_return=portfolio.required_return))\n",
    "\n",
    "print(portfolio_a.omega_ratio)\n",
    "print(portfolio.omega_ratio)\n",
    "\n",
    "%timeit big_portfolio.omega_ratio"
   ]
  },
  {
   "cell_type": "code",
   "execution_count": 87,
   "metadata": {},
   "outputs": [
    {
     "name": "stdout",
     "output_type": "stream",
     "text": [
      "13.748515109956141\n",
      "13.748515109956145\n",
      "a    13.748515\n",
      "b   -15.188840\n",
      "c     7.230690\n",
      "d     2.629209\n",
      "dtype: float64\n",
      "19.7 ms ± 1.48 ms per loop (mean ± std. dev. of 7 runs, 10 loops each)\n"
     ]
    }
   ],
   "source": [
    "print(empyrical.sharpe_ratio(portfolio_a.returns.values, \n",
    "    annualization=portfolio.ann_factor, risk_free=portfolio.risk_free))\n",
    "\n",
    "print(portfolio_a.sharpe_ratio)\n",
    "print(portfolio.sharpe_ratio)\n",
    "\n",
    "%timeit big_portfolio.sharpe_ratio"
   ]
  },
  {
   "cell_type": "code",
   "execution_count": 88,
   "metadata": {},
   "outputs": [
    {
     "name": "stdout",
     "output_type": "stream",
     "text": [
      "1.4419540622860911\n",
      "1.4419540622860911\n",
      "a    1.441954\n",
      "b    3.508691\n",
      "c    1.780505\n",
      "d    4.960093\n",
      "dtype: float64\n",
      "19.8 ms ± 1.36 ms per loop (mean ± std. dev. of 7 runs, 10 loops each)\n"
     ]
    }
   ],
   "source": [
    "print(empyrical.downside_risk(portfolio_a.returns.values, \n",
    "    annualization=portfolio.ann_factor, required_return=portfolio.required_return))\n",
    "\n",
    "print(portfolio_a.downside_risk)\n",
    "print(portfolio.downside_risk)\n",
    "\n",
    "%timeit big_portfolio.downside_risk"
   ]
  },
  {
   "cell_type": "code",
   "execution_count": 89,
   "metadata": {},
   "outputs": [
    {
     "name": "stdout",
     "output_type": "stream",
     "text": [
      "2.3302479224571315\n",
      "2.3302479224571315\n",
      "a     2.330248\n",
      "b   -16.989082\n",
      "c    12.653331\n",
      "d    -1.715748\n",
      "dtype: float64\n",
      "37 ms ± 1.86 ms per loop (mean ± std. dev. of 7 runs, 10 loops each)\n"
     ]
    }
   ],
   "source": [
    "print(empyrical.sortino_ratio(portfolio_a.returns.values, \n",
    "    annualization=portfolio.ann_factor, required_return=portfolio.required_return))\n",
    "\n",
    "print(portfolio_a.sortino_ratio)\n",
    "print(portfolio.sortino_ratio)\n",
    "\n",
    "%timeit big_portfolio.sortino_ratio"
   ]
  },
  {
   "cell_type": "code",
   "execution_count": 90,
   "metadata": {},
   "outputs": [
    {
     "name": "stdout",
     "output_type": "stream",
     "text": [
      "-1.9046740155345088\n",
      "-1.9046740155345088\n",
      "a   -1.061268\n",
      "b   -2.499685\n",
      "c   -0.888811\n",
      "d   -0.902376\n",
      "dtype: float64\n",
      "42.1 ms ± 3.6 ms per loop (mean ± std. dev. of 7 runs, 10 loops each)\n"
     ]
    }
   ],
   "source": [
    "print(empyrical.excess_sharpe(portfolio_a.returns.values, portfolio_a.factor_returns))\n",
    "\n",
    "print(portfolio_a.information_ratio)\n",
    "print(portfolio.information_ratio)\n",
    "\n",
    "%timeit big_portfolio.information_ratio"
   ]
  },
  {
   "cell_type": "code",
   "execution_count": 91,
   "metadata": {},
   "outputs": [
    {
     "name": "stdout",
     "output_type": "stream",
     "text": [
      "nan\n",
      "0.24034205607418133\n",
      "a   -0.026893\n",
      "b   -0.083818\n",
      "c    0.505682\n",
      "d    0.745754\n",
      "dtype: float64\n",
      "27.3 ms ± 1.99 ms per loop (mean ± std. dev. of 7 runs, 10 loops each)\n"
     ]
    }
   ],
   "source": [
    "print(empyrical.beta(portfolio_a.returns.values, \n",
    "    portfolio_a.factor_returns, risk_free=portfolio.risk_free))\n",
    "\n",
    "print(portfolio_a.beta)\n",
    "print(portfolio.beta)\n",
    "\n",
    "%timeit big_portfolio.beta"
   ]
  },
  {
   "cell_type": "code",
   "execution_count": 92,
   "metadata": {},
   "outputs": [
    {
     "name": "stdout",
     "output_type": "stream",
     "text": [
      "nan\n",
      "-0.9999999893700713\n",
      "a    9.935344e+16\n",
      "b   -9.998818e-01\n",
      "c   -1.000000e+00\n",
      "d   -1.000000e+00\n",
      "dtype: float64\n",
      "48.7 ms ± 2.13 ms per loop (mean ± std. dev. of 7 runs, 10 loops each)\n"
     ]
    }
   ],
   "source": [
    "print(empyrical.alpha(portfolio_a.returns.values,\n",
    "    portfolio_a.factor_returns, risk_free=portfolio.risk_free))\n",
    "\n",
    "print(portfolio_a.alpha)\n",
    "print(portfolio.alpha)\n",
    "\n",
    "%timeit big_portfolio.alpha"
   ]
  },
  {
   "cell_type": "code",
   "execution_count": 93,
   "metadata": {},
   "outputs": [
    {
     "name": "stdout",
     "output_type": "stream",
     "text": [
      "29.28999999999972\n",
      "29.28999999999972\n",
      "a    29.290000\n",
      "b     0.000000\n",
      "c    98.980000\n",
      "d     1.947148\n",
      "dtype: float64\n",
      "43.9 ms ± 1.93 ms per loop (mean ± std. dev. of 7 runs, 10 loops each)\n"
     ]
    }
   ],
   "source": [
    "print(empyrical.tail_ratio(portfolio_a.returns.values))\n",
    "\n",
    "print(portfolio_a.tail_ratio)\n",
    "print(portfolio.tail_ratio)\n",
    "\n",
    "%timeit big_portfolio.tail_ratio"
   ]
  },
  {
   "cell_type": "code",
   "execution_count": 94,
   "metadata": {},
   "outputs": [
    {
     "name": "stdout",
     "output_type": "stream",
     "text": [
      "-0.009900990099009981\n",
      "-0.009900990099009983\n",
      "a   -0.009901\n",
      "b   -0.188200\n",
      "c   -0.006436\n",
      "d   -0.328465\n",
      "dtype: float64\n",
      "32.1 ms ± 1.52 ms per loop (mean ± std. dev. of 7 runs, 10 loops each)\n"
     ]
    }
   ],
   "source": [
    "print(empyrical.value_at_risk(portfolio_a.returns.values[1:], cutoff=portfolio.cutoff))\n",
    "\n",
    "print(portfolio_a.value_at_risk)\n",
    "print(portfolio.value_at_risk)\n",
    "\n",
    "%timeit big_portfolio.value_at_risk"
   ]
  },
  {
   "cell_type": "code",
   "execution_count": 95,
   "metadata": {},
   "outputs": [
    {
     "name": "stdout",
     "output_type": "stream",
     "text": [
      "-0.00990099009901002\n",
      "-0.00990099009901002\n",
      "a   -0.009901\n",
      "b   -0.208000\n",
      "c   -0.009901\n",
      "d   -0.500000\n",
      "dtype: float64\n",
      "29.5 ms ± 1.52 ms per loop (mean ± std. dev. of 7 runs, 10 loops each)\n"
     ]
    }
   ],
   "source": [
    "print(empyrical.conditional_value_at_risk(portfolio_a.returns.values, cutoff=portfolio.cutoff))\n",
    "\n",
    "print(portfolio_a.conditional_value_at_risk)\n",
    "print(portfolio.conditional_value_at_risk)\n",
    "\n",
    "%timeit big_portfolio.conditional_value_at_risk"
   ]
  },
  {
   "cell_type": "code",
   "execution_count": 96,
   "metadata": {},
   "outputs": [
    {
     "name": "stdout",
     "output_type": "stream",
     "text": [
      "8.503174806441265e-64\n",
      "a    5.611193e-56\n",
      "b   -6.448696e-68\n",
      "c    2.985336e-41\n",
      "d   -2.860275e-52\n",
      "dtype: float64\n",
      "22.1 ms ± 1.63 ms per loop (mean ± std. dev. of 7 runs, 10 loops each)\n"
     ]
    }
   ],
   "source": [
    "print(portfolio_a.capture)\n",
    "print(portfolio.capture)\n",
    "\n",
    "%timeit big_portfolio.capture"
   ]
  },
  {
   "cell_type": "code",
   "execution_count": 97,
   "metadata": {},
   "outputs": [
    {
     "name": "stdout",
     "output_type": "stream",
     "text": [
      "8.503174806441265e-64\n",
      "a    5.611193e-56\n",
      "b   -6.448696e-68\n",
      "c    2.985336e-41\n",
      "d   -2.860275e-52\n",
      "dtype: float64\n",
      "28.1 ms ± 1.34 ms per loop (mean ± std. dev. of 7 runs, 10 loops each)\n"
     ]
    }
   ],
   "source": [
    "print(portfolio_a.up_capture)\n",
    "print(portfolio.up_capture)\n",
    "\n",
    "%timeit big_portfolio.up_capture"
   ]
  },
  {
   "cell_type": "code",
   "execution_count": 98,
   "metadata": {},
   "outputs": [
    {
     "name": "stdout",
     "output_type": "stream",
     "text": [
      "nan\n",
      "a   NaN\n",
      "b   NaN\n",
      "c   NaN\n",
      "d   NaN\n",
      "dtype: float64\n",
      "19.3 ms ± 2.35 ms per loop (mean ± std. dev. of 7 runs, 10 loops each)\n"
     ]
    }
   ],
   "source": [
    "print(portfolio_a.down_capture)\n",
    "print(portfolio.down_capture)\n",
    "\n",
    "%timeit big_portfolio.down_capture"
   ]
  },
  {
   "cell_type": "code",
   "execution_count": 99,
   "metadata": {},
   "outputs": [
    {
     "name": "stdout",
     "output_type": "stream",
     "text": [
      "0.462151971615081\n",
      "a    0.462152\n",
      "b   -0.817071\n",
      "c    1.788460\n",
      "d    1.043977\n",
      "dtype: float64\n",
      "117 ms ± 1.72 ms per loop (mean ± std. dev. of 7 runs, 10 loops each)\n"
     ]
    }
   ],
   "source": [
    "print(portfolio_a.skew)\n",
    "print(portfolio.skew)\n",
    "\n",
    "%timeit big_portfolio.skew"
   ]
  },
  {
   "cell_type": "code",
   "execution_count": 100,
   "metadata": {},
   "outputs": [
    {
     "name": "stdout",
     "output_type": "stream",
     "text": [
      "-1.279704769249184\n",
      "a   -1.279705\n",
      "b   -1.172231\n",
      "c    1.199300\n",
      "d    0.373144\n",
      "dtype: float64\n",
      "138 ms ± 4.96 ms per loop (mean ± std. dev. of 7 runs, 10 loops each)\n"
     ]
    }
   ],
   "source": [
    "print(portfolio_a.kurtosis)\n",
    "print(portfolio.kurtosis)\n",
    "\n",
    "%timeit big_portfolio.kurtosis"
   ]
  },
  {
   "cell_type": "code",
   "execution_count": null,
   "metadata": {},
   "outputs": [],
   "source": []
  }
 ],
 "metadata": {
  "kernelspec": {
   "display_name": "Python 3",
   "language": "python",
   "name": "python3"
  },
  "language_info": {
   "codemirror_mode": {
    "name": "ipython",
    "version": 3
   },
   "file_extension": ".py",
   "mimetype": "text/x-python",
   "name": "python",
   "nbconvert_exporter": "python",
   "pygments_lexer": "ipython3",
   "version": "3.7.3"
  },
  "widgets": {
   "application/vnd.jupyter.widget-state+json": {
    "state": {},
    "version_major": 2,
    "version_minor": 0
   }
  }
 },
 "nbformat": 4,
 "nbformat_minor": 4
}
