{
 "cells": [
  {
   "cell_type": "markdown",
   "metadata": {},
   "source": [
    "## widgets.py"
   ]
  },
  {
   "cell_type": "code",
   "execution_count": 1,
   "metadata": {},
   "outputs": [],
   "source": [
    "import vectorbt as vbt\n",
    "from vectorbt.utils import *"
   ]
  },
  {
   "cell_type": "code",
   "execution_count": 2,
   "metadata": {
    "Collapsed": "false"
   },
   "outputs": [],
   "source": [
    "import numpy as np\n",
    "import pandas as pd\n",
    "from datetime import datetime, timedelta\n",
    "from numba import njit, f8, i8, b1, optional"
   ]
  },
  {
   "cell_type": "code",
   "execution_count": 3,
   "metadata": {},
   "outputs": [
    {
     "name": "stdout",
     "output_type": "stream",
     "text": [
      "              a    b\n",
      "2020-01-01  0.0  1.0\n",
      "2020-01-02  2.0  4.0\n",
      "2020-01-03  0.0  1.0\n",
      "2020-01-04  1.0  4.0\n",
      "2020-01-05  2.0  3.0\n"
     ]
    }
   ],
   "source": [
    "ts = pd.DataFrame({\n",
    "    'a': np.random.randint(5, size=5), \n",
    "    'b': np.random.randint(5, size=5)}, index=pd.Index([\n",
    "    datetime(2020, 1, 1),\n",
    "    datetime(2020, 1, 2),\n",
    "    datetime(2020, 1, 3),\n",
    "    datetime(2020, 1, 4),\n",
    "    datetime(2020, 1, 5)\n",
    "])).astype(np.float64)\n",
    "print(ts)"
   ]
  },
  {
   "cell_type": "code",
   "execution_count": 4,
   "metadata": {},
   "outputs": [
    {
     "name": "stdout",
     "output_type": "stream",
     "text": [
      "(100, 100)\n"
     ]
    }
   ],
   "source": [
    "big_ts = pd.DataFrame(np.random.uniform(size=(100, 100)).astype(float))\n",
    "big_ts.columns = list(map(str, big_ts.columns))\n",
    "big_ts.index = [datetime(2018, 1, 1) + timedelta(days=i) for i in range(100)]\n",
    "print(big_ts.shape)"
   ]
  },
  {
   "cell_type": "markdown",
   "metadata": {},
   "source": [
    "## Gauge"
   ]
  },
  {
   "cell_type": "code",
   "execution_count": 5,
   "metadata": {},
   "outputs": [
    {
     "data": {
      "application/vnd.jupyter.widget-view+json": {
       "model_id": "34566f0656074c78adb6e28e6474a4bf",
       "version_major": 2,
       "version_minor": 0
      },
      "text/plain": [
       "Gauge({\n",
       "    'data': [{'domain': {'x': [0, 1], 'y': [0, 1]},\n",
       "              'gauge': {'axis': {'range': [0, 0]},…"
      ]
     },
     "metadata": {},
     "output_type": "display_data"
    }
   ],
   "source": [
    "gauge_fig = vbt.Gauge(value=0)\n",
    "gauge_fig"
   ]
  },
  {
   "cell_type": "code",
   "execution_count": 6,
   "metadata": {},
   "outputs": [],
   "source": [
    "gauge_fig.update_data(1)\n",
    "gauge_fig.update_data(0.5)"
   ]
  },
  {
   "cell_type": "code",
   "execution_count": 7,
   "metadata": {},
   "outputs": [
    {
     "data": {
      "image/png": "[encoded data removed]"
     },
     "metadata": {},
     "output_type": "display_data"
    }
   ],
   "source": [
    "vbt.Gauge(value=5, value_range=(-10, 10)).show_png()"
   ]
  },
  {
   "cell_type": "code",
   "execution_count": 8,
   "metadata": {},
   "outputs": [
    {
     "name": "stdout",
     "output_type": "stream",
     "text": [
      "190 ms ± 41.8 ms per loop (mean ± std. dev. of 7 runs, 1 loop each)\n",
      "471 µs ± 48.2 µs per loop (mean ± std. dev. of 7 runs, 1000 loops each)\n"
     ]
    }
   ],
   "source": [
    "big_fig = vbt.Gauge(value=0)\n",
    "\n",
    "%timeit vbt.Gauge(value=0)\n",
    "%timeit big_fig.update_data(0)\n",
    "\n",
    "del big_fig"
   ]
  },
  {
   "cell_type": "markdown",
   "metadata": {},
   "source": [
    "## Bar"
   ]
  },
  {
   "cell_type": "code",
   "execution_count": 9,
   "metadata": {},
   "outputs": [
    {
     "data": {
      "application/vnd.jupyter.widget-view+json": {
       "model_id": "ac9be96170754f00a5e7a4b8b460ba7f",
       "version_major": 2,
       "version_minor": 0
      },
      "text/plain": [
       "Bar({\n",
       "    'data': [{'name': 'a',\n",
       "              'type': 'bar',\n",
       "              'uid': '975d7aa4-a5aa-475a-808c-34…"
      ]
     },
     "metadata": {},
     "output_type": "display_data"
    }
   ],
   "source": [
    "bar_fig = pd.DataFrame(ts).vbt.Bar()\n",
    "bar_fig"
   ]
  },
  {
   "cell_type": "code",
   "execution_count": 10,
   "metadata": {},
   "outputs": [],
   "source": [
    "bar_fig.update_data(ts.values * 2)"
   ]
  },
  {
   "cell_type": "code",
   "execution_count": 11,
   "metadata": {},
   "outputs": [
    {
     "data": {
      "application/vnd.jupyter.widget-view+json": {
       "model_id": "a85a96a469474c8aa76afa50360ffdc7",
       "version_major": 2,
       "version_minor": 0
      },
      "text/plain": [
       "Bar({\n",
       "    'data': [{'name': 'hello',\n",
       "              'type': 'bar',\n",
       "              'uid': '206628cb-d01c-47ca-aaf…"
      ]
     },
     "metadata": {},
     "output_type": "display_data"
    }
   ],
   "source": [
    "pd.DataFrame(ts).vbt.Bar(trace_kwargs=[dict(name='hello'), dict(name='world')], barmode='relative')"
   ]
  },
  {
   "cell_type": "code",
   "execution_count": 12,
   "metadata": {},
   "outputs": [
    {
     "name": "stdout",
     "output_type": "stream",
     "text": [
      "2.9 s ± 611 ms per loop (mean ± std. dev. of 7 runs, 1 loop each)\n",
      "8.02 ms ± 390 µs per loop (mean ± std. dev. of 7 runs, 100 loops each)\n"
     ]
    }
   ],
   "source": [
    "%timeit pd.DataFrame(big_ts).vbt.Bar()\n",
    "\n",
    "big_fig = pd.DataFrame(big_ts).vbt.Bar()\n",
    "%timeit big_fig.update_data(big_ts.values * 2)\n",
    "\n",
    "del big_fig"
   ]
  },
  {
   "cell_type": "markdown",
   "metadata": {},
   "source": [
    "## Scatter"
   ]
  },
  {
   "cell_type": "code",
   "execution_count": 13,
   "metadata": {},
   "outputs": [
    {
     "data": {
      "application/vnd.jupyter.widget-view+json": {
       "model_id": "efe38cde3d70493dba0a117e26d2abae",
       "version_major": 2,
       "version_minor": 0
      },
      "text/plain": [
       "Scatter({\n",
       "    'data': [{'name': 'a',\n",
       "              'type': 'scatter',\n",
       "              'uid': '457fb078-c4d4-4f8e…"
      ]
     },
     "metadata": {},
     "output_type": "display_data"
    }
   ],
   "source": [
    "scatter_fig = pd.DataFrame(ts).vbt.Scatter()\n",
    "scatter_fig"
   ]
  },
  {
   "cell_type": "code",
   "execution_count": 14,
   "metadata": {},
   "outputs": [],
   "source": [
    "scatter_fig.update_data(ts.values * 2)"
   ]
  },
  {
   "cell_type": "code",
   "execution_count": 15,
   "metadata": {},
   "outputs": [
    {
     "name": "stdout",
     "output_type": "stream",
     "text": [
      "3.27 s ± 236 ms per loop (mean ± std. dev. of 7 runs, 1 loop each)\n",
      "5.76 ms ± 120 µs per loop (mean ± std. dev. of 7 runs, 100 loops each)\n"
     ]
    }
   ],
   "source": [
    "%timeit pd.DataFrame(big_ts).vbt.Scatter()\n",
    "\n",
    "big_fig = pd.DataFrame(big_ts).vbt.Scatter()\n",
    "%timeit big_fig.update_data(big_ts.values * 2)\n",
    "\n",
    "del big_fig"
   ]
  },
  {
   "cell_type": "markdown",
   "metadata": {},
   "source": [
    "## Histogram"
   ]
  },
  {
   "cell_type": "code",
   "execution_count": 16,
   "metadata": {},
   "outputs": [
    {
     "data": {
      "application/vnd.jupyter.widget-view+json": {
       "model_id": "23b90260a8824cd2bf9c31f23ab300ef",
       "version_major": 2,
       "version_minor": 0
      },
      "text/plain": [
       "Histogram({\n",
       "    'data': [{'name': 'a',\n",
       "              'opacity': 0.75,\n",
       "              'type': 'histogram',\n",
       "     …"
      ]
     },
     "metadata": {},
     "output_type": "display_data"
    }
   ],
   "source": [
    "hist_fig = pd.DataFrame(ts).vbt.Histogram()\n",
    "hist_fig"
   ]
  },
  {
   "cell_type": "code",
   "execution_count": 17,
   "metadata": {},
   "outputs": [],
   "source": [
    "hist_fig.update_data(ts.values * 2)"
   ]
  },
  {
   "cell_type": "code",
   "execution_count": 18,
   "metadata": {},
   "outputs": [
    {
     "data": {
      "application/vnd.jupyter.widget-view+json": {
       "model_id": "6609be4e9fa042cfbe97dd7283acaa70",
       "version_major": 2,
       "version_minor": 0
      },
      "text/plain": [
       "Histogram({\n",
       "    'data': [{'name': 'a',\n",
       "              'opacity': 0.75,\n",
       "              'type': 'histogram',\n",
       "     …"
      ]
     },
     "metadata": {},
     "output_type": "display_data"
    }
   ],
   "source": [
    "pd.DataFrame(ts).vbt.Histogram(horizontal=True)"
   ]
  },
  {
   "cell_type": "code",
   "execution_count": 19,
   "metadata": {},
   "outputs": [
    {
     "name": "stdout",
     "output_type": "stream",
     "text": [
      "2.3 s ± 121 ms per loop (mean ± std. dev. of 7 runs, 1 loop each)\n",
      "9.04 ms ± 869 µs per loop (mean ± std. dev. of 7 runs, 100 loops each)\n"
     ]
    }
   ],
   "source": [
    "%timeit pd.DataFrame(big_ts).vbt.Histogram()\n",
    "\n",
    "big_fig = pd.DataFrame(big_ts).vbt.Histogram()\n",
    "%timeit big_fig.update_data(big_ts.values * 2)\n",
    "\n",
    "del big_fig"
   ]
  },
  {
   "cell_type": "markdown",
   "metadata": {},
   "source": [
    "## Heatmap"
   ]
  },
  {
   "cell_type": "code",
   "execution_count": 20,
   "metadata": {},
   "outputs": [
    {
     "data": {
      "application/vnd.jupyter.widget-view+json": {
       "model_id": "cec8b91986fd44fc8d1436efa4a713fc",
       "version_major": 2,
       "version_minor": 0
      },
      "text/plain": [
       "Heatmap({\n",
       "    'data': [{'colorscale': [[0.0, '#0d0887'], [0.1111111111111111, '#46039f'],\n",
       "                    …"
      ]
     },
     "metadata": {},
     "output_type": "display_data"
    }
   ],
   "source": [
    "heatmap_fig = pd.DataFrame(ts).vbt.Heatmap()\n",
    "heatmap_fig"
   ]
  },
  {
   "cell_type": "code",
   "execution_count": 21,
   "metadata": {},
   "outputs": [],
   "source": [
    "heatmap_fig.update_data(ts.values * 2)"
   ]
  },
  {
   "cell_type": "code",
   "execution_count": 22,
   "metadata": {},
   "outputs": [
    {
     "data": {
      "application/vnd.jupyter.widget-view+json": {
       "model_id": "587304e6c02e41e69b04d941b9c75fea",
       "version_major": 2,
       "version_minor": 0
      },
      "text/plain": [
       "Heatmap({\n",
       "    'data': [{'colorscale': [[0.0, '#0d0887'], [0.1111111111111111, '#46039f'],\n",
       "                    …"
      ]
     },
     "metadata": {},
     "output_type": "display_data"
    }
   ],
   "source": [
    "pd.DataFrame(ts).vbt.Heatmap(horizontal=True)"
   ]
  },
  {
   "cell_type": "code",
   "execution_count": 23,
   "metadata": {},
   "outputs": [
    {
     "name": "stdout",
     "output_type": "stream",
     "text": [
      "373 ms ± 20.4 ms per loop (mean ± std. dev. of 7 runs, 1 loop each)\n",
      "209 µs ± 29.9 µs per loop (mean ± std. dev. of 7 runs, 1000 loops each)\n"
     ]
    }
   ],
   "source": [
    "%timeit pd.DataFrame(big_ts).vbt.Heatmap()\n",
    "\n",
    "big_fig = pd.DataFrame(big_ts).vbt.Heatmap()\n",
    "%timeit big_fig.update_data(big_ts.values * 2)\n",
    "\n",
    "del big_fig"
   ]
  },
  {
   "cell_type": "code",
   "execution_count": null,
   "metadata": {},
   "outputs": [],
   "source": []
  }
 ],
 "metadata": {
  "kernelspec": {
   "display_name": "Python 3",
   "language": "python",
   "name": "python3"
  },
  "language_info": {
   "codemirror_mode": {
    "name": "ipython",
    "version": 3
   },
   "file_extension": ".py",
   "mimetype": "text/x-python",
   "name": "python",
   "nbconvert_exporter": "python",
   "pygments_lexer": "ipython3",
   "version": "3.7.3"
  },
  "widgets": {
   "application/vnd.jupyter.widget-state+json": {
    "state": {},
    "version_major": 2,
    "version_minor": 0
   }
  }
 },
 "nbformat": 4,
 "nbformat_minor": 4
}
