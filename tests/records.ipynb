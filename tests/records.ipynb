{
 "cells": [
  {
   "cell_type": "markdown",
   "metadata": {},
   "source": [
    "# records"
   ]
  },
  {
   "cell_type": "code",
   "execution_count": 1,
   "metadata": {},
   "outputs": [],
   "source": [
    "import vectorbt as vbt"
   ]
  },
  {
   "cell_type": "code",
   "execution_count": 2,
   "metadata": {
    "Collapsed": "false"
   },
   "outputs": [],
   "source": [
    "import numpy as np\n",
    "import pandas as pd\n",
    "from numba import njit\n",
    "from collections import namedtuple"
   ]
  },
  {
   "cell_type": "code",
   "execution_count": 3,
   "metadata": {},
   "outputs": [],
   "source": [
    "# Disable caching for performance testing\n",
    "# NOTE: Expect waterfall of executions, since some attributes depend on other attributes \n",
    "# that have to be calculated again and again\n",
    "vbt.defaults.caching = False"
   ]
  },
  {
   "cell_type": "code",
   "execution_count": 4,
   "metadata": {},
   "outputs": [],
   "source": [
    "example_dt = np.dtype([\n",
    "    ('col', np.int64),\n",
    "    ('idx', np.int64),\n",
    "    ('some_field1', np.float64),\n",
    "    ('some_field2', np.float64)\n",
    "], align=True)"
   ]
  },
  {
   "cell_type": "code",
   "execution_count": 5,
   "metadata": {},
   "outputs": [
    {
     "name": "stdout",
     "output_type": "stream",
     "text": [
      "[(0, 0, 10., 21.) (0, 1, 11., 22.) (0, 2, 12., 23.) (1, 0, 13., 24.)\n",
      " (1, 1, 14., 25.) (1, 2, 15., 26.) (2, 0, 16., 27.) (2, 1, 17., 28.)\n",
      " (2, 2, 18., 29.)]\n",
      "(9,)\n"
     ]
    }
   ],
   "source": [
    "records_arr = np.asarray([\n",
    "    (0, 0, 10, 21),\n",
    "    (0, 1, 11, 22),\n",
    "    (0, 2, 12, 23),\n",
    "    (1, 0, 13, 24),\n",
    "    (1, 1, 14, 25),\n",
    "    (1, 2, 15, 26),\n",
    "    (2, 0, 16, 27),\n",
    "    (2, 1, 17, 28),\n",
    "    (2, 2, 18, 29)\n",
    "], dtype=example_dt)\n",
    "print(records_arr)\n",
    "print(records_arr.shape)\n",
    "wrapper = vbt.timeseries.common.TSArrayWrapper(index=['x', 'y', 'z'], columns=['a', 'b', 'c', 'd'], ndim=2)\n",
    "records = vbt.records.Records(records_arr, wrapper)"
   ]
  },
  {
   "cell_type": "code",
   "execution_count": 6,
   "metadata": {},
   "outputs": [
    {
     "name": "stdout",
     "output_type": "stream",
     "text": [
      "(1000000,)\n"
     ]
    }
   ],
   "source": [
    "big_records_arr = np.asarray(list(zip(*(\n",
    "    np.repeat(np.arange(1000), 1000),\n",
    "    np.tile(np.arange(1000), 1000),\n",
    "    np.random.uniform(size=1000000),\n",
    "    np.random.uniform(size=1000000)))), dtype=example_dt)\n",
    "print(big_records_arr.shape)\n",
    "big_wrapper = vbt.timeseries.common.TSArrayWrapper(index=np.arange(1000), columns=np.arange(1000), ndim=2)\n",
    "big_records = vbt.records.Records(big_records_arr, big_wrapper)"
   ]
  },
  {
   "cell_type": "code",
   "execution_count": 7,
   "metadata": {},
   "outputs": [
    {
     "name": "stdout",
     "output_type": "stream",
     "text": [
      "[(0, 0, 10., 21.) (0, 1, 11., 22.) (0, 2, 12., 23.) (1, 0, 13., 24.)\n",
      " (1, 1, 14., 25.) (1, 2, 15., 26.) (2, 0, 16., 27.) (2, 1, 17., 28.)\n",
      " (2, 2, 18., 29.)]\n",
      "[(0, 0, 10., 21.) (0, 1, 11., 22.) (0, 2, 12., 23.) (1, 0, 13., 24.)\n",
      " (1, 1, 14., 25.) (1, 2, 15., 26.) (2, 0, 16., 27.) (2, 1, 17., 28.)\n",
      " (2, 2, 18., 29.)]\n",
      "21.2 µs ± 6.37 µs per loop (mean ± std. dev. of 7 runs, 10000 loops each)\n"
     ]
    }
   ],
   "source": [
    "print(records.records_arr)\n",
    "\n",
    "print(records.recarray)\n",
    "%timeit big_records.recarray"
   ]
  },
  {
   "cell_type": "code",
   "execution_count": 8,
   "metadata": {},
   "outputs": [
    {
     "name": "stdout",
     "output_type": "stream",
     "text": [
      "   col  idx  some_field1  some_field2\n",
      "0    0    0         10.0         21.0\n",
      "1    0    1         11.0         22.0\n",
      "2    0    2         12.0         23.0\n",
      "3    1    0         13.0         24.0\n",
      "4    1    1         14.0         25.0\n",
      "5    1    2         15.0         26.0\n",
      "6    2    0         16.0         27.0\n",
      "7    2    1         17.0         28.0\n",
      "8    2    2         18.0         29.0\n"
     ]
    }
   ],
   "source": [
    "print(records.records)"
   ]
  },
  {
   "cell_type": "code",
   "execution_count": 9,
   "metadata": {},
   "outputs": [
    {
     "name": "stdout",
     "output_type": "stream",
     "text": [
      "[[ 0  3]\n",
      " [ 3  6]\n",
      " [ 6  9]\n",
      " [-1 -1]]\n",
      "4.22 ms ± 644 µs per loop (mean ± std. dev. of 7 runs, 100 loops each)\n"
     ]
    }
   ],
   "source": [
    "print(records.records_col_index)\n",
    "\n",
    "%timeit big_records.records_col_index"
   ]
  },
  {
   "cell_type": "code",
   "execution_count": 10,
   "metadata": {},
   "outputs": [
    {
     "name": "stdout",
     "output_type": "stream",
     "text": [
      "     a    b    c   d\n",
      "x  0.0  1.0  2.0 NaN\n",
      "y  0.0  1.0  2.0 NaN\n",
      "z  0.0  1.0  2.0 NaN\n",
      "     a    b    c   d\n",
      "x  0.0  0.0  0.0 NaN\n",
      "y  1.0  1.0  1.0 NaN\n",
      "z  2.0  2.0  2.0 NaN\n",
      "      a     b     c   d\n",
      "x  10.0  13.0  16.0 NaN\n",
      "y  11.0  14.0  17.0 NaN\n",
      "z  12.0  15.0  18.0 NaN\n",
      "      a     b     c   d\n",
      "x  21.0  24.0  27.0 NaN\n",
      "y  22.0  25.0  28.0 NaN\n",
      "z  23.0  26.0  29.0 NaN\n",
      "      a     b     c    d\n",
      "x  21.0  24.0  27.0  0.0\n",
      "y  22.0  25.0  28.0  0.0\n",
      "z  23.0  26.0  29.0  0.0\n",
      "9.21 ms ± 1.42 ms per loop (mean ± std. dev. of 7 runs, 100 loops each)\n"
     ]
    }
   ],
   "source": [
    "print(records.map_field_to_matrix('col'))\n",
    "print(records.map_field_to_matrix('idx'))\n",
    "print(records.map_field_to_matrix('some_field1'))\n",
    "print(records.map_field_to_matrix('some_field2'))\n",
    "print(records.map_field_to_matrix('some_field2', default_val=0.))\n",
    "\n",
    "%timeit big_records.map_field_to_matrix('some_field1')"
   ]
  },
  {
   "cell_type": "code",
   "execution_count": 11,
   "metadata": {},
   "outputs": [
    {
     "name": "stdout",
     "output_type": "stream",
     "text": [
      "      a     b     c   d\n",
      "x  31.0  37.0  43.0 NaN\n",
      "y  33.0  39.0  45.0 NaN\n",
      "z  35.0  41.0  47.0 NaN\n",
      "      a     b     c    d\n",
      "x  31.0  37.0  43.0  0.0\n",
      "y  33.0  39.0  45.0  0.0\n",
      "z  35.0  41.0  47.0  0.0\n",
      "7.74 ms ± 1.32 ms per loop (mean ± std. dev. of 7 runs, 100 loops each)\n"
     ]
    }
   ],
   "source": [
    "@njit\n",
    "def map_func_nb(record):\n",
    "    return record.some_field1 + record.some_field2\n",
    "\n",
    "print(records.map_records_to_matrix(map_func_nb))\n",
    "print(records.map_records_to_matrix(map_func_nb, default_val=0.))\n",
    "\n",
    "%timeit big_records.map_records_to_matrix(map_func_nb)"
   ]
  },
  {
   "cell_type": "code",
   "execution_count": 12,
   "metadata": {},
   "outputs": [
    {
     "name": "stdout",
     "output_type": "stream",
     "text": [
      "      a     b     c   d\n",
      "x  31.0  37.0  43.0 NaN\n",
      "y  33.0  39.0  45.0 NaN\n",
      "z  35.0  41.0  47.0 NaN\n",
      "      a     b     c    d\n",
      "x  31.0  37.0  43.0  0.0\n",
      "y  33.0  39.0  45.0  0.0\n",
      "z  35.0  41.0  47.0  0.0\n",
      "10.8 ms ± 363 µs per loop (mean ± std. dev. of 7 runs, 100 loops each)\n"
     ]
    }
   ],
   "source": [
    "print(records.convert_array_to_matrix(records_arr['some_field1'] + records_arr['some_field2']))\n",
    "print(records.convert_array_to_matrix(records_arr['some_field1'] + records_arr['some_field2'], default_val=0.))\n",
    "\n",
    "%timeit big_records.convert_array_to_matrix(big_records_arr['some_field1'] + big_records_arr['some_field2'])\n",
    "# slow, only good for mapping single columns"
   ]
  },
  {
   "cell_type": "code",
   "execution_count": 13,
   "metadata": {},
   "outputs": [
    {
     "name": "stdout",
     "output_type": "stream",
     "text": [
      "a    33.0\n",
      "b    39.0\n",
      "c    45.0\n",
      "d     NaN\n",
      "dtype: float64\n",
      "a    33.0\n",
      "b    39.0\n",
      "c    45.0\n",
      "d     0.0\n",
      "dtype: float64\n",
      "4.56 ms ± 90.3 µs per loop (mean ± std. dev. of 7 runs, 100 loops each)\n"
     ]
    }
   ],
   "source": [
    "@njit\n",
    "def reduce_func1_nb(records):\n",
    "    return np.mean(records.some_field1 + records.some_field2)\n",
    "\n",
    "print(records.reduce_records(reduce_func1_nb))\n",
    "print(records.reduce_records(reduce_func1_nb, default_val=0.))\n",
    "\n",
    "%timeit big_records.reduce_records(reduce_func1_nb)"
   ]
  },
  {
   "cell_type": "code",
   "execution_count": 14,
   "metadata": {},
   "outputs": [
    {
     "name": "stdout",
     "output_type": "stream",
     "text": [
      "a    33.0\n",
      "b    39.0\n",
      "c    45.0\n",
      "d     NaN\n",
      "dtype: float64\n",
      "a    33.0\n",
      "b    39.0\n",
      "c    45.0\n",
      "d     0.0\n",
      "dtype: float64\n",
      "5.59 ms ± 55.2 µs per loop (mean ± std. dev. of 7 runs, 100 loops each)\n"
     ]
    }
   ],
   "source": [
    "@njit\n",
    "def reduce_func2_nb(a):\n",
    "    return np.mean(a)\n",
    "\n",
    "print(records.map_reduce_records(map_func_nb, reduce_func2_nb))\n",
    "print(records.map_reduce_records(map_func_nb, reduce_func2_nb, default_val=0.))\n",
    "\n",
    "%timeit big_records.map_reduce_records(map_func_nb, reduce_func2_nb) # slower but more flexible"
   ]
  },
  {
   "cell_type": "code",
   "execution_count": 15,
   "metadata": {},
   "outputs": [
    {
     "name": "stdout",
     "output_type": "stream",
     "text": [
      "a    3.0\n",
      "b    3.0\n",
      "c    3.0\n",
      "d    0.0\n",
      "dtype: float64\n",
      "2.56 ms ± 196 µs per loop (mean ± std. dev. of 7 runs, 100 loops each)\n"
     ]
    }
   ],
   "source": [
    "print(records.count)\n",
    "\n",
    "%timeit big_records.count"
   ]
  },
  {
   "cell_type": "code",
   "execution_count": 16,
   "metadata": {},
   "outputs": [
    {
     "name": "stdout",
     "output_type": "stream",
     "text": [
      "   col  idx  some_field1  some_field2\n",
      "0    0    0         10.0         21.0\n",
      "1    0    1         11.0         22.0\n",
      "2    0    2         12.0         23.0\n",
      "Index(['a'], dtype='object')\n",
      "   col  idx  some_field1  some_field2\n",
      "0    0    0         13.0         24.0\n",
      "1    0    1         14.0         25.0\n",
      "2    0    2         15.0         26.0\n",
      "Index(['b'], dtype='object')\n",
      "3 ms ± 78.4 µs per loop (mean ± std. dev. of 7 runs, 100 loops each)\n",
      "70.8 ms ± 12.8 ms per loop (mean ± std. dev. of 7 runs, 10 loops each)\n"
     ]
    }
   ],
   "source": [
    "print(records['a'].records)\n",
    "print(records['a'].wrapper.columns)\n",
    "print(records['b'].records)\n",
    "print(records['b'].wrapper.columns)\n",
    "\n",
    "%timeit big_records.iloc[:, 0]\n",
    "%timeit big_records.iloc[:, :]"
   ]
  },
  {
   "cell_type": "code",
   "execution_count": 17,
   "metadata": {},
   "outputs": [
    {
     "name": "stdout",
     "output_type": "stream",
     "text": [
      "   col  idx  some_field1  some_field2\n",
      "0    0    0         10.0         21.0\n",
      "1    2    2         18.0         29.0\n",
      "[[ 0  1]\n",
      " [-1 -1]\n",
      " [ 1  2]\n",
      " [-1 -1]]\n"
     ]
    }
   ],
   "source": [
    "filtered_records = vbt.records.Records(records_arr[[0, -1]], wrapper)\n",
    "print(filtered_records.records)\n",
    "print(filtered_records.records_col_index)"
   ]
  },
  {
   "cell_type": "code",
   "execution_count": 18,
   "metadata": {},
   "outputs": [
    {
     "name": "stdout",
     "output_type": "stream",
     "text": [
      "   col  idx  some_field1  some_field2\n",
      "0    0    0         10.0         21.0\n",
      "[[0 1]]\n",
      "x    10.0\n",
      "y     NaN\n",
      "z     NaN\n",
      "Name: a, dtype: float64\n",
      "1.0\n"
     ]
    }
   ],
   "source": [
    "print(filtered_records['a'].records)\n",
    "print(filtered_records['a'].records_col_index)\n",
    "print(filtered_records['a'].map_field_to_matrix('some_field1'))\n",
    "print(filtered_records['a'].count)"
   ]
  },
  {
   "cell_type": "code",
   "execution_count": 19,
   "metadata": {},
   "outputs": [
    {
     "name": "stdout",
     "output_type": "stream",
     "text": [
      "Empty DataFrame\n",
      "Columns: [col, idx, some_field1, some_field2]\n",
      "Index: []\n",
      "[[-1 -1]]\n",
      "x   NaN\n",
      "y   NaN\n",
      "z   NaN\n",
      "Name: b, dtype: float64\n",
      "0.0\n"
     ]
    }
   ],
   "source": [
    "print(filtered_records['b'].records)\n",
    "print(filtered_records['b'].records_col_index)\n",
    "print(filtered_records['b'].map_field_to_matrix('some_field1'))\n",
    "print(filtered_records['b'].count)"
   ]
  },
  {
   "cell_type": "code",
   "execution_count": 20,
   "metadata": {},
   "outputs": [
    {
     "name": "stdout",
     "output_type": "stream",
     "text": [
      "   col  idx  some_field1  some_field2\n",
      "0    0    2         18.0         29.0\n",
      "[[0 1]]\n",
      "x     NaN\n",
      "y     NaN\n",
      "z    18.0\n",
      "Name: c, dtype: float64\n",
      "1.0\n"
     ]
    }
   ],
   "source": [
    "print(filtered_records['c'].records)\n",
    "print(filtered_records['c'].records_col_index)\n",
    "print(filtered_records['c'].map_field_to_matrix('some_field1'))\n",
    "print(filtered_records['c'].count)"
   ]
  },
  {
   "cell_type": "code",
   "execution_count": 21,
   "metadata": {},
   "outputs": [
    {
     "name": "stdout",
     "output_type": "stream",
     "text": [
      "Empty DataFrame\n",
      "Columns: [col, idx, some_field1, some_field2]\n",
      "Index: []\n",
      "[[-1 -1]]\n",
      "x   NaN\n",
      "y   NaN\n",
      "z   NaN\n",
      "Name: d, dtype: float64\n",
      "0.0\n"
     ]
    }
   ],
   "source": [
    "print(filtered_records['d'].records)\n",
    "print(filtered_records['d'].records_col_index)\n",
    "print(filtered_records['d'].map_field_to_matrix('some_field1'))\n",
    "print(filtered_records['d'].count)"
   ]
  },
  {
   "cell_type": "markdown",
   "metadata": {},
   "source": [
    "## Drawdowns"
   ]
  },
  {
   "cell_type": "code",
   "execution_count": 22,
   "metadata": {},
   "outputs": [],
   "source": [
    "from vectorbt.records import Drawdowns"
   ]
  },
  {
   "cell_type": "code",
   "execution_count": 23,
   "metadata": {},
   "outputs": [
    {
     "name": "stdout",
     "output_type": "stream",
     "text": [
      "     a    b    c    d\n",
      "0  2.0  1.0  1.0  1.0\n",
      "1  1.0  2.0  2.0  2.0\n",
      "2  3.0  1.0  3.0  3.0\n",
      "3  1.0  3.0  2.0  4.0\n",
      "4  4.0  1.0  1.0  5.0\n",
      "5  1.0  4.0  2.0  6.0\n"
     ]
    }
   ],
   "source": [
    "ts = pd.DataFrame({\n",
    "    'a': [2, 1, 3, 1, 4, 1], \n",
    "    'b': [1, 2, 1, 3, 1, 4],\n",
    "    'c': [1, 2, 3, 2, 1, 2],\n",
    "    'd': [1, 2, 3, 4, 5, 6]\n",
    "}).astype(np.float32)\n",
    "\n",
    "print(ts)"
   ]
  },
  {
   "cell_type": "code",
   "execution_count": 24,
   "metadata": {},
   "outputs": [
    {
     "data": {
      "text/plain": [
       "(1000, 1000)"
      ]
     },
     "execution_count": 24,
     "metadata": {},
     "output_type": "execute_result"
    }
   ],
   "source": [
    "big_ts = pd.DataFrame(np.random.randint(1, 10, size=(1000, 1000)).astype(float))\n",
    "big_ts.shape"
   ]
  },
  {
   "cell_type": "code",
   "execution_count": 25,
   "metadata": {},
   "outputs": [
    {
     "name": "stdout",
     "output_type": "stream",
     "text": [
      "9.76 ms ± 388 µs per loop (mean ± std. dev. of 7 runs, 100 loops each)\n"
     ]
    }
   ],
   "source": [
    "drawdowns = Drawdowns.from_ts(ts, freq='1 days')\n",
    "big_drawdowns = Drawdowns.from_ts(big_ts, freq='1 days')\n",
    "\n",
    "%timeit Drawdowns.from_ts(big_ts, freq='1 days')"
   ]
  },
  {
   "cell_type": "code",
   "execution_count": 26,
   "metadata": {},
   "outputs": [
    {
     "name": "stdout",
     "output_type": "stream",
     "text": [
      "   col  idx  start_idx  valley_idx  end_idx  status\n",
      "0    0    2          0           1        2       1\n",
      "1    0    4          2           3        4       1\n",
      "2    0    5          4           5        5       0\n",
      "3    1    3          1           2        3       1\n",
      "4    1    5          3           4        5       1\n",
      "5    2    5          2           4        5       0\n",
      "     a    b    c    d\n",
      "0  2.0  1.0  1.0  1.0\n",
      "1  1.0  2.0  2.0  2.0\n",
      "2  3.0  1.0  3.0  3.0\n",
      "3  1.0  3.0  2.0  4.0\n",
      "4  4.0  1.0  1.0  5.0\n",
      "5  1.0  4.0  2.0  6.0\n",
      "   col  idx  start_idx  valley_idx  end_idx  status\n",
      "0    0    2          0           1        2       1\n",
      "1    0    4          2           3        4       1\n",
      "2    0    5          4           5        5       0\n",
      "0    2.0\n",
      "1    1.0\n",
      "2    3.0\n",
      "3    1.0\n",
      "4    4.0\n",
      "5    1.0\n",
      "Name: a, dtype: float32\n",
      "   col  idx  start_idx  valley_idx  end_idx  status\n",
      "0    0    3          1           2        3       1\n",
      "1    0    5          3           4        5       1\n",
      "0    1.0\n",
      "1    2.0\n",
      "2    1.0\n",
      "3    3.0\n",
      "4    1.0\n",
      "5    4.0\n",
      "Name: b, dtype: float32\n",
      "   col  idx  start_idx  valley_idx  end_idx  status\n",
      "0    0    5          2           4        5       0\n",
      "0    1.0\n",
      "1    2.0\n",
      "2    3.0\n",
      "3    2.0\n",
      "4    1.0\n",
      "5    2.0\n",
      "Name: c, dtype: float32\n",
      "Empty DataFrame\n",
      "Columns: [col, idx, start_idx, valley_idx, end_idx, status]\n",
      "Index: []\n",
      "0    1.0\n",
      "1    2.0\n",
      "2    3.0\n",
      "3    4.0\n",
      "4    5.0\n",
      "5    6.0\n",
      "Name: d, dtype: float32\n"
     ]
    }
   ],
   "source": [
    "print(drawdowns.records)\n",
    "print(drawdowns.ts)\n",
    "\n",
    "print(drawdowns['a'].records)\n",
    "print(drawdowns['a'].ts)\n",
    "\n",
    "print(drawdowns['b'].records)\n",
    "print(drawdowns['b'].ts)\n",
    "\n",
    "print(drawdowns['c'].records)\n",
    "print(drawdowns['c'].ts)\n",
    "\n",
    "print(drawdowns['d'].records)\n",
    "print(drawdowns['d'].ts)"
   ]
  },
  {
   "cell_type": "code",
   "execution_count": 27,
   "metadata": {},
   "outputs": [
    {
     "data": {
      "image/png": "[encoded data removed]"
     },
     "metadata": {},
     "output_type": "display_data"
    }
   ],
   "source": [
    "drawdowns['a'].plot().show_png()"
   ]
  },
  {
   "cell_type": "code",
   "execution_count": 28,
   "metadata": {},
   "outputs": [
    {
     "data": {
      "image/png": "[encoded data removed]"
     },
     "metadata": {},
     "output_type": "display_data"
    }
   ],
   "source": [
    "drawdowns['c'].plot().show_png()"
   ]
  },
  {
   "cell_type": "code",
   "execution_count": 29,
   "metadata": {},
   "outputs": [
    {
     "name": "stdout",
     "output_type": "stream",
     "text": [
      "3.0\n",
      "a    3.0\n",
      "b    2.0\n",
      "c    1.0\n",
      "d    0.0\n",
      "dtype: float64\n"
     ]
    }
   ],
   "source": [
    "print(drawdowns['a'].count)\n",
    "print(drawdowns.count)"
   ]
  },
  {
   "cell_type": "code",
   "execution_count": 30,
   "metadata": {},
   "outputs": [
    {
     "name": "stdout",
     "output_type": "stream",
     "text": [
      "0    NaN\n",
      "1    NaN\n",
      "2    2.0\n",
      "3    NaN\n",
      "4    3.0\n",
      "5    4.0\n",
      "Name: a, dtype: float64\n",
      "     a    b    c   d\n",
      "0  NaN  NaN  NaN NaN\n",
      "1  NaN  NaN  NaN NaN\n",
      "2  2.0  NaN  NaN NaN\n",
      "3  NaN  2.0  NaN NaN\n",
      "4  3.0  NaN  NaN NaN\n",
      "5  4.0  3.0  3.0 NaN\n",
      "5.25 ms ± 354 µs per loop (mean ± std. dev. of 7 runs, 1 loop each)\n"
     ]
    }
   ],
   "source": [
    "print(drawdowns['a'].start_value)\n",
    "print(drawdowns.start_value)\n",
    "\n",
    "%timeit big_drawdowns.start_value"
   ]
  },
  {
   "cell_type": "code",
   "execution_count": 31,
   "metadata": {},
   "outputs": [
    {
     "name": "stdout",
     "output_type": "stream",
     "text": [
      "0    NaN\n",
      "1    NaN\n",
      "2    1.0\n",
      "3    NaN\n",
      "4    1.0\n",
      "5    1.0\n",
      "Name: a, dtype: float64\n",
      "     a    b    c   d\n",
      "0  NaN  NaN  NaN NaN\n",
      "1  NaN  NaN  NaN NaN\n",
      "2  1.0  NaN  NaN NaN\n",
      "3  NaN  1.0  NaN NaN\n",
      "4  1.0  NaN  NaN NaN\n",
      "5  1.0  1.0  1.0 NaN\n",
      "5.29 ms ± 533 µs per loop (mean ± std. dev. of 7 runs, 1 loop each)\n"
     ]
    }
   ],
   "source": [
    "print(drawdowns['a'].valley_value)\n",
    "print(drawdowns.valley_value)\n",
    "\n",
    "%timeit big_drawdowns.valley_value"
   ]
  },
  {
   "cell_type": "code",
   "execution_count": 32,
   "metadata": {},
   "outputs": [
    {
     "name": "stdout",
     "output_type": "stream",
     "text": [
      "0    NaN\n",
      "1    NaN\n",
      "2    3.0\n",
      "3    NaN\n",
      "4    4.0\n",
      "5    1.0\n",
      "Name: a, dtype: float64\n",
      "     a    b    c   d\n",
      "0  NaN  NaN  NaN NaN\n",
      "1  NaN  NaN  NaN NaN\n",
      "2  3.0  NaN  NaN NaN\n",
      "3  NaN  3.0  NaN NaN\n",
      "4  4.0  NaN  NaN NaN\n",
      "5  1.0  4.0  2.0 NaN\n",
      "5.03 ms ± 329 µs per loop (mean ± std. dev. of 7 runs, 1 loop each)\n"
     ]
    }
   ],
   "source": [
    "print(drawdowns['a'].end_value)\n",
    "print(drawdowns.end_value)\n",
    "\n",
    "%timeit big_drawdowns.end_value"
   ]
  },
  {
   "cell_type": "code",
   "execution_count": 33,
   "metadata": {},
   "outputs": [
    {
     "name": "stdout",
     "output_type": "stream",
     "text": [
      "0         NaN\n",
      "1         NaN\n",
      "2   -0.500000\n",
      "3         NaN\n",
      "4   -0.666667\n",
      "5   -0.750000\n",
      "Name: a, dtype: float64\n",
      "          a         b         c   d\n",
      "0       NaN       NaN       NaN NaN\n",
      "1       NaN       NaN       NaN NaN\n",
      "2 -0.500000       NaN       NaN NaN\n",
      "3       NaN -0.500000       NaN NaN\n",
      "4 -0.666667       NaN       NaN NaN\n",
      "5 -0.750000 -0.666667 -0.666667 NaN\n",
      "7.6 ms ± 195 µs per loop (mean ± std. dev. of 7 runs, 100 loops each)\n"
     ]
    }
   ],
   "source": [
    "print(drawdowns['a'].drawdown)\n",
    "print(drawdowns.drawdown)\n",
    "\n",
    "%timeit big_drawdowns.drawdown"
   ]
  },
  {
   "cell_type": "code",
   "execution_count": 34,
   "metadata": {},
   "outputs": [
    {
     "name": "stdout",
     "output_type": "stream",
     "text": [
      "-0.6388888955116272\n",
      "a   -0.638889\n",
      "b   -0.583333\n",
      "c   -0.666667\n",
      "d         NaN\n",
      "dtype: float64\n",
      "4.69 ms ± 276 µs per loop (mean ± std. dev. of 7 runs, 1 loop each)\n"
     ]
    }
   ],
   "source": [
    "print(drawdowns['a'].avg_drawdown)\n",
    "print(drawdowns.avg_drawdown)\n",
    "\n",
    "%timeit big_drawdowns.avg_drawdown"
   ]
  },
  {
   "cell_type": "code",
   "execution_count": 35,
   "metadata": {},
   "outputs": [
    {
     "name": "stdout",
     "output_type": "stream",
     "text": [
      "-0.75\n",
      "a   -0.750000\n",
      "b   -0.666667\n",
      "c   -0.666667\n",
      "d         NaN\n",
      "dtype: float64\n",
      "4.78 ms ± 640 µs per loop (mean ± std. dev. of 7 runs, 1 loop each)\n"
     ]
    }
   ],
   "source": [
    "print(drawdowns['a'].max_drawdown)\n",
    "print(drawdowns.max_drawdown)\n",
    "\n",
    "%timeit big_drawdowns.max_drawdown"
   ]
  },
  {
   "cell_type": "code",
   "execution_count": 36,
   "metadata": {},
   "outputs": [
    {
     "name": "stdout",
     "output_type": "stream",
     "text": [
      "0    NaN\n",
      "1    NaN\n",
      "2    2.0\n",
      "3    NaN\n",
      "4    2.0\n",
      "5    1.0\n",
      "Name: a, dtype: float64\n",
      "     a    b    c   d\n",
      "0  NaN  NaN  NaN NaN\n",
      "1  NaN  NaN  NaN NaN\n",
      "2  2.0  NaN  NaN NaN\n",
      "3  NaN  2.0  NaN NaN\n",
      "4  2.0  NaN  NaN NaN\n",
      "5  1.0  2.0  3.0 NaN\n",
      "3.57 ms ± 71.3 µs per loop (mean ± std. dev. of 7 runs, 100 loops each)\n"
     ]
    }
   ],
   "source": [
    "print(drawdowns['a'].duration)\n",
    "print(drawdowns.duration)\n",
    "\n",
    "%timeit big_drawdowns.duration"
   ]
  },
  {
   "cell_type": "code",
   "execution_count": 37,
   "metadata": {},
   "outputs": [
    {
     "name": "stdout",
     "output_type": "stream",
     "text": [
      "1 days 16:00:00\n",
      "a   1 days 16:00:00\n",
      "b   2 days 00:00:00\n",
      "c   3 days 00:00:00\n",
      "d               NaT\n",
      "dtype: timedelta64[ns]\n",
      "9.04 ms ± 236 µs per loop (mean ± std. dev. of 7 runs, 100 loops each)\n"
     ]
    }
   ],
   "source": [
    "print(drawdowns['a'].avg_duration)\n",
    "print(drawdowns.avg_duration)\n",
    "\n",
    "%timeit big_drawdowns.avg_duration"
   ]
  },
  {
   "cell_type": "code",
   "execution_count": 38,
   "metadata": {},
   "outputs": [
    {
     "name": "stdout",
     "output_type": "stream",
     "text": [
      "2 days 00:00:00\n",
      "a   2 days\n",
      "b   2 days\n",
      "c   3 days\n",
      "d      NaT\n",
      "dtype: timedelta64[ns]\n",
      "9.42 ms ± 192 µs per loop (mean ± std. dev. of 7 runs, 100 loops each)\n"
     ]
    }
   ],
   "source": [
    "print(drawdowns['a'].max_duration)\n",
    "print(drawdowns.max_duration)\n",
    "\n",
    "%timeit big_drawdowns.max_duration"
   ]
  },
  {
   "cell_type": "code",
   "execution_count": 39,
   "metadata": {},
   "outputs": [
    {
     "name": "stdout",
     "output_type": "stream",
     "text": [
      "0.8333333333333334\n",
      "a    0.833333\n",
      "b    0.666667\n",
      "c    0.500000\n",
      "d    0.000000\n",
      "dtype: float64\n",
      "990 µs ± 72.2 µs per loop (mean ± std. dev. of 7 runs, 1000 loops each)\n"
     ]
    }
   ],
   "source": [
    "print(drawdowns['a'].coverage)\n",
    "print(drawdowns.coverage)\n",
    "\n",
    "%timeit big_drawdowns.coverage"
   ]
  },
  {
   "cell_type": "code",
   "execution_count": 40,
   "metadata": {},
   "outputs": [
    {
     "name": "stdout",
     "output_type": "stream",
     "text": [
      "0    NaN\n",
      "1    NaN\n",
      "2    1.0\n",
      "3    NaN\n",
      "4    1.0\n",
      "5    1.0\n",
      "Name: a, dtype: float64\n",
      "     a    b    c   d\n",
      "0  NaN  NaN  NaN NaN\n",
      "1  NaN  NaN  NaN NaN\n",
      "2  1.0  NaN  NaN NaN\n",
      "3  NaN  1.0  NaN NaN\n",
      "4  1.0  NaN  NaN NaN\n",
      "5  1.0  1.0  2.0 NaN\n",
      "3.53 ms ± 127 µs per loop (mean ± std. dev. of 7 runs, 100 loops each)\n"
     ]
    }
   ],
   "source": [
    "print(drawdowns['a'].ptv_duration)\n",
    "print(drawdowns.ptv_duration)\n",
    "\n",
    "%timeit big_drawdowns.ptv_duration"
   ]
  },
  {
   "cell_type": "code",
   "execution_count": 41,
   "metadata": {},
   "outputs": [
    {
     "name": "stdout",
     "output_type": "stream",
     "text": [
      "0    NaN\n",
      "1    NaN\n",
      "2    1.0\n",
      "3    NaN\n",
      "4    1.0\n",
      "5    0.0\n",
      "Name: a, dtype: float64\n",
      "     a    b    c   d\n",
      "0  NaN  NaN  NaN NaN\n",
      "1  NaN  NaN  NaN NaN\n",
      "2  1.0  NaN  NaN NaN\n",
      "3  NaN  1.0  NaN NaN\n",
      "4  1.0  NaN  NaN NaN\n",
      "5  0.0  1.0  0.0 NaN\n",
      "3.44 ms ± 47 µs per loop (mean ± std. dev. of 7 runs, 100 loops each)\n"
     ]
    }
   ],
   "source": [
    "print(drawdowns['a'].status)\n",
    "print(drawdowns.status)\n",
    "\n",
    "%timeit big_drawdowns.status"
   ]
  },
  {
   "cell_type": "code",
   "execution_count": 42,
   "metadata": {},
   "outputs": [
    {
     "name": "stdout",
     "output_type": "stream",
     "text": [
      "0.6666666666666666\n",
      "a    0.666667\n",
      "b    1.000000\n",
      "c    0.000000\n",
      "d         NaN\n",
      "dtype: float64\n"
     ]
    },
    {
     "name": "stderr",
     "output_type": "stream",
     "text": [
      "/Users/olegpolakow/Documents/SourceTree/vectorbt/vectorbt/records/drawdowns.py:375: RuntimeWarning:\n",
      "\n",
      "invalid value encountered in true_divide\n",
      "\n"
     ]
    },
    {
     "name": "stdout",
     "output_type": "stream",
     "text": [
      "4.4 ms ± 108 µs per loop (mean ± std. dev. of 7 runs, 100 loops each)\n"
     ]
    }
   ],
   "source": [
    "print(drawdowns['a'].recovered_rate)\n",
    "print(drawdowns.recovered_rate)\n",
    "\n",
    "%timeit big_drawdowns.recovered_rate"
   ]
  },
  {
   "cell_type": "code",
   "execution_count": 43,
   "metadata": {},
   "outputs": [
    {
     "name": "stdout",
     "output_type": "stream",
     "text": [
      "   col  idx  start_idx  valley_idx  end_idx  status\n",
      "0    0    5          4           5        5       0\n",
      "   col  idx  start_idx  valley_idx  end_idx  status\n",
      "0    0    5          4           5        5       0\n",
      "   col  idx  start_idx  valley_idx  end_idx  status\n",
      "0    0    5          4           5        5       0\n",
      "1    2    5          2           4        5       0\n"
     ]
    }
   ],
   "source": [
    "print(drawdowns['a'].active.records)\n",
    "print(drawdowns.active['a'].records)\n",
    "print(drawdowns.active.records)"
   ]
  },
  {
   "cell_type": "code",
   "execution_count": 44,
   "metadata": {},
   "outputs": [
    {
     "name": "stdout",
     "output_type": "stream",
     "text": [
      "   col  idx  start_idx  valley_idx  end_idx  status\n",
      "0    0    2          0           1        2       1\n",
      "1    0    4          2           3        4       1\n",
      "   col  idx  start_idx  valley_idx  end_idx  status\n",
      "0    0    2          0           1        2       1\n",
      "1    0    4          2           3        4       1\n",
      "   col  idx  start_idx  valley_idx  end_idx  status\n",
      "0    0    2          0           1        2       1\n",
      "1    0    4          2           3        4       1\n",
      "2    1    3          1           2        3       1\n",
      "3    1    5          3           4        5       1\n"
     ]
    }
   ],
   "source": [
    "print(drawdowns['a'].recovered.records)\n",
    "print(drawdowns.recovered['a'].records)\n",
    "print(drawdowns.recovered.records)"
   ]
  },
  {
   "cell_type": "code",
   "execution_count": 45,
   "metadata": {},
   "outputs": [
    {
     "name": "stdout",
     "output_type": "stream",
     "text": [
      "478 µs ± 12.5 µs per loop (mean ± std. dev. of 7 runs, 1000 loops each)\n"
     ]
    }
   ],
   "source": [
    "%timeit big_drawdowns.active"
   ]
  },
  {
   "cell_type": "code",
   "execution_count": 46,
   "metadata": {},
   "outputs": [
    {
     "name": "stdout",
     "output_type": "stream",
     "text": [
      "3.05 ms ± 244 µs per loop (mean ± std. dev. of 7 runs, 100 loops each)\n"
     ]
    }
   ],
   "source": [
    "%timeit big_drawdowns.recovered"
   ]
  },
  {
   "cell_type": "code",
   "execution_count": 47,
   "metadata": {},
   "outputs": [
    {
     "name": "stdout",
     "output_type": "stream",
     "text": [
      "0    NaN\n",
      "1    NaN\n",
      "2    2.0\n",
      "3    NaN\n",
      "4    3.0\n",
      "5    NaN\n",
      "Name: a, dtype: float64\n",
      "     a    b   c   d\n",
      "0  NaN  NaN NaN NaN\n",
      "1  NaN  NaN NaN NaN\n",
      "2  2.0  NaN NaN NaN\n",
      "3  NaN  2.0 NaN NaN\n",
      "4  3.0  NaN NaN NaN\n",
      "5  NaN  3.0 NaN NaN\n",
      "8.93 ms ± 236 µs per loop (mean ± std. dev. of 7 runs, 1 loop each)\n"
     ]
    }
   ],
   "source": [
    "print(drawdowns['a'].recovered.recovery_return)\n",
    "print(drawdowns.recovered.recovery_return)\n",
    "\n",
    "%timeit big_drawdowns.recovered.recovery_return"
   ]
  },
  {
   "cell_type": "code",
   "execution_count": 48,
   "metadata": {},
   "outputs": [
    {
     "name": "stdout",
     "output_type": "stream",
     "text": [
      "0    NaN\n",
      "1    NaN\n",
      "2    1.0\n",
      "3    NaN\n",
      "4    1.0\n",
      "5    NaN\n",
      "Name: a, dtype: float64\n",
      "     a    b   c   d\n",
      "0  NaN  NaN NaN NaN\n",
      "1  NaN  NaN NaN NaN\n",
      "2  1.0  NaN NaN NaN\n",
      "3  NaN  1.0 NaN NaN\n",
      "4  1.0  NaN NaN NaN\n",
      "5  NaN  1.0 NaN NaN\n",
      "7.26 ms ± 151 µs per loop (mean ± std. dev. of 7 runs, 100 loops each)\n"
     ]
    }
   ],
   "source": [
    "print(drawdowns['a'].recovered.vtr_duration)\n",
    "print(drawdowns.recovered.vtr_duration)\n",
    "\n",
    "%timeit big_drawdowns.recovered.vtr_duration"
   ]
  },
  {
   "cell_type": "code",
   "execution_count": 49,
   "metadata": {},
   "outputs": [
    {
     "name": "stdout",
     "output_type": "stream",
     "text": [
      "0    NaN\n",
      "1    NaN\n",
      "2    0.5\n",
      "3    NaN\n",
      "4    0.5\n",
      "5    NaN\n",
      "Name: a, dtype: float64\n",
      "     a    b   c   d\n",
      "0  NaN  NaN NaN NaN\n",
      "1  NaN  NaN NaN NaN\n",
      "2  0.5  NaN NaN NaN\n",
      "3  NaN  0.5 NaN NaN\n",
      "4  0.5  NaN NaN NaN\n",
      "5  NaN  0.5 NaN NaN\n",
      "7.49 ms ± 341 µs per loop (mean ± std. dev. of 7 runs, 100 loops each)\n"
     ]
    }
   ],
   "source": [
    "print(drawdowns['a'].recovered.vtr_duration_ratio)\n",
    "print(drawdowns.recovered.vtr_duration_ratio)\n",
    "\n",
    "%timeit big_drawdowns.recovered.vtr_duration_ratio"
   ]
  },
  {
   "cell_type": "markdown",
   "metadata": {},
   "source": [
    "## Orders"
   ]
  },
  {
   "cell_type": "code",
   "execution_count": 50,
   "metadata": {},
   "outputs": [],
   "source": [
    "from vectorbt.records import Orders, order_dt"
   ]
  },
  {
   "cell_type": "code",
   "execution_count": 51,
   "metadata": {},
   "outputs": [
    {
     "name": "stdout",
     "output_type": "stream",
     "text": [
      "(7, 4)\n",
      "(1000, 1000)\n"
     ]
    }
   ],
   "source": [
    "from datetime import datetime\n",
    "price = pd.DataFrame({\n",
    "    'a': [1, 2, 3, 4, 5, 6, 7],\n",
    "    'b': [9, 8, 7, 6, 5, 4, 3],\n",
    "    'c': [1, 2, 3, 4, 3, 2, 1],\n",
    "    'd': [4, 3, 2, 1, 2, 3, 4]\n",
    "}).astype(float)\n",
    "print(price.shape)\n",
    "\n",
    "big_price = pd.DataFrame(np.random.uniform(1, 10, size=(1000, 1000)).astype(float))\n",
    "print(big_price.shape)"
   ]
  },
  {
   "cell_type": "code",
   "execution_count": 52,
   "metadata": {},
   "outputs": [
    {
     "name": "stdout",
     "output_type": "stream",
     "text": [
      "(14,)\n"
     ]
    }
   ],
   "source": [
    "records_arr = np.asarray([\n",
    "    (0, 2, 33.00330033, 3., 0.99009901, 0),\n",
    "    (0, 3, 33.00330033, 4., 1.32013201, 1),\n",
    "    (0, 4, 25.8798157, 5., 1.29399079, 0),\n",
    "    (0, 6, 25.8798157, 7., 1.8115871, 1),\n",
    "    (1, 2, 14.14427157, 7., 0.99009901, 0),\n",
    "    (1, 3, 14.14427157, 6., 0.84865629, 1),\n",
    "    (1, 4, 16.63702438, 5., 0.83185122, 0),\n",
    "    (1, 5, 16.63702438, 4., 0.66548098, 1),\n",
    "    (2, 0, 99.00990099, 1., 0.99009901, 0),\n",
    "    (2, 1, 99.00990099, 2., 1.98019802, 1),\n",
    "    (2, 6, 194.09861778, 1., 1.94098618, 0),\n",
    "    (3, 2, 49.5049505, 2., 0.99009901, 0),\n",
    "    (3, 4, 49.5049505, 2., 0.99009901, 1),\n",
    "    (3, 6, 24.26232722, 4., 0.97049309, 0)\n",
    "], dtype=order_dt)\n",
    "print(records_arr.shape)\n",
    "orders = Orders(records_arr, price, freq='1 days')"
   ]
  },
  {
   "cell_type": "code",
   "execution_count": 53,
   "metadata": {},
   "outputs": [
    {
     "name": "stdout",
     "output_type": "stream",
     "text": [
      "(1000000,)\n"
     ]
    }
   ],
   "source": [
    "big_records_arr = np.asarray(list(zip(*(\n",
    "    np.repeat(np.arange(1000), 1000),\n",
    "    np.tile(np.arange(1000), 1000),\n",
    "    np.full(1000000, 10),\n",
    "    np.random.uniform(1, 10, size=1000000),\n",
    "    np.full(1000000, 1),\n",
    "    np.full(1000000, 1)\n",
    "))), dtype=order_dt)\n",
    "big_records_arr['side'][::2] = 0\n",
    "print(big_records_arr.shape)\n",
    "big_orders = vbt.records.Orders(big_records_arr, big_price, freq='1 days')"
   ]
  },
  {
   "cell_type": "code",
   "execution_count": 54,
   "metadata": {},
   "outputs": [
    {
     "name": "stdout",
     "output_type": "stream",
     "text": [
      "    col  idx        size  price      fees  side\n",
      "0     0    2   33.003300    3.0  0.990099     0\n",
      "1     0    3   33.003300    4.0  1.320132     1\n",
      "2     0    4   25.879816    5.0  1.293991     0\n",
      "3     0    6   25.879816    7.0  1.811587     1\n",
      "4     1    2   14.144272    7.0  0.990099     0\n",
      "5     1    3   14.144272    6.0  0.848656     1\n",
      "6     1    4   16.637024    5.0  0.831851     0\n",
      "7     1    5   16.637024    4.0  0.665481     1\n",
      "8     2    0   99.009901    1.0  0.990099     0\n",
      "9     2    1   99.009901    2.0  1.980198     1\n",
      "10    2    6  194.098618    1.0  1.940986     0\n",
      "11    3    2   49.504950    2.0  0.990099     0\n",
      "12    3    4   49.504950    2.0  0.990099     1\n",
      "13    3    6   24.262327    4.0  0.970493     0\n",
      "   col  idx       size  price      fees  side\n",
      "0    0    2  33.003300    3.0  0.990099     0\n",
      "1    0    3  33.003300    4.0  1.320132     1\n",
      "2    0    4  25.879816    5.0  1.293991     0\n",
      "3    0    6  25.879816    7.0  1.811587     1\n",
      "   col  idx       size  price      fees  side\n",
      "0    0    2  14.144272    7.0  0.990099     0\n",
      "1    0    3  14.144272    6.0  0.848656     1\n",
      "2    0    4  16.637024    5.0  0.831851     0\n",
      "3    0    5  16.637024    4.0  0.665481     1\n",
      "   col  idx        size  price      fees  side\n",
      "0    0    0   99.009901    1.0  0.990099     0\n",
      "1    0    1   99.009901    2.0  1.980198     1\n",
      "2    0    6  194.098618    1.0  1.940986     0\n",
      "   col  idx       size  price      fees  side\n",
      "0    0    2  49.504950    2.0  0.990099     0\n",
      "1    0    4  49.504950    2.0  0.990099     1\n",
      "2    0    6  24.262327    4.0  0.970493     0\n"
     ]
    }
   ],
   "source": [
    "print(orders.records)\n",
    "print(orders['a'].records)\n",
    "print(orders['b'].records)\n",
    "print(orders['c'].records)\n",
    "print(orders['d'].records)"
   ]
  },
  {
   "cell_type": "code",
   "execution_count": 55,
   "metadata": {},
   "outputs": [
    {
     "data": {
      "image/png": "[encoded data removed]"
     },
     "metadata": {},
     "output_type": "display_data"
    }
   ],
   "source": [
    "orders['a'].plot().show_png()"
   ]
  },
  {
   "cell_type": "code",
   "execution_count": 56,
   "metadata": {},
   "outputs": [
    {
     "name": "stdout",
     "output_type": "stream",
     "text": [
      "0          NaN\n",
      "1          NaN\n",
      "2    33.003300\n",
      "3    33.003300\n",
      "4    25.879816\n",
      "5          NaN\n",
      "6    25.879816\n",
      "Name: a, dtype: float64\n",
      "           a          b           c          d\n",
      "0        NaN        NaN   99.009901        NaN\n",
      "1        NaN        NaN   99.009901        NaN\n",
      "2  33.003300  14.144272         NaN  49.504950\n",
      "3  33.003300  14.144272         NaN        NaN\n",
      "4  25.879816  16.637024         NaN  49.504950\n",
      "5        NaN  16.637024         NaN        NaN\n",
      "6  25.879816        NaN  194.098618  24.262327\n",
      "11.4 ms ± 3.24 ms per loop (mean ± std. dev. of 7 runs, 100 loops each)\n"
     ]
    }
   ],
   "source": [
    "print(orders['a'].size)\n",
    "print(orders.size)\n",
    "\n",
    "%timeit big_orders.size"
   ]
  },
  {
   "cell_type": "code",
   "execution_count": 57,
   "metadata": {},
   "outputs": [
    {
     "name": "stdout",
     "output_type": "stream",
     "text": [
      "29.441558015\n",
      "a     29.441558\n",
      "b     15.390648\n",
      "c    130.706140\n",
      "d     41.090743\n",
      "dtype: float64\n",
      "6.12 ms ± 364 µs per loop (mean ± std. dev. of 7 runs, 100 loops each)\n"
     ]
    }
   ],
   "source": [
    "print(orders['a'].avg_size)\n",
    "print(orders.avg_size)\n",
    "\n",
    "%timeit big_orders.avg_size"
   ]
  },
  {
   "cell_type": "code",
   "execution_count": 58,
   "metadata": {},
   "outputs": [
    {
     "name": "stdout",
     "output_type": "stream",
     "text": [
      "117.76623206\n",
      "a    117.766232\n",
      "b     61.562592\n",
      "c    392.118420\n",
      "d    123.272228\n",
      "dtype: float64\n",
      "5.63 ms ± 76.7 µs per loop (mean ± std. dev. of 7 runs, 100 loops each)\n"
     ]
    }
   ],
   "source": [
    "print(orders['a'].total_size)\n",
    "print(orders.total_size)\n",
    "\n",
    "%timeit big_orders.total_size"
   ]
  },
  {
   "cell_type": "code",
   "execution_count": 59,
   "metadata": {},
   "outputs": [
    {
     "name": "stdout",
     "output_type": "stream",
     "text": [
      "0    NaN\n",
      "1    NaN\n",
      "2    3.0\n",
      "3    4.0\n",
      "4    5.0\n",
      "5    NaN\n",
      "6    7.0\n",
      "Name: a, dtype: float64\n",
      "     a    b    c    d\n",
      "0  NaN  NaN  1.0  NaN\n",
      "1  NaN  NaN  2.0  NaN\n",
      "2  3.0  7.0  NaN  2.0\n",
      "3  4.0  6.0  NaN  NaN\n",
      "4  5.0  5.0  NaN  2.0\n",
      "5  NaN  4.0  NaN  NaN\n",
      "6  7.0  NaN  1.0  4.0\n",
      "9.46 ms ± 1.54 ms per loop (mean ± std. dev. of 7 runs, 100 loops each)\n"
     ]
    }
   ],
   "source": [
    "print(orders['a'].price)\n",
    "print(orders.price)\n",
    "\n",
    "%timeit big_orders.price"
   ]
  },
  {
   "cell_type": "code",
   "execution_count": 60,
   "metadata": {},
   "outputs": [
    {
     "name": "stdout",
     "output_type": "stream",
     "text": [
      "4.75\n",
      "a    4.750000\n",
      "b    5.500000\n",
      "c    1.333333\n",
      "d    2.666667\n",
      "dtype: float64\n",
      "6.14 ms ± 266 µs per loop (mean ± std. dev. of 7 runs, 100 loops each)\n"
     ]
    }
   ],
   "source": [
    "print(orders['a'].avg_price)\n",
    "print(orders.avg_price)\n",
    "\n",
    "%timeit big_orders.avg_price"
   ]
  },
  {
   "cell_type": "code",
   "execution_count": 61,
   "metadata": {},
   "outputs": [
    {
     "name": "stdout",
     "output_type": "stream",
     "text": [
      "0         NaN\n",
      "1         NaN\n",
      "2    0.990099\n",
      "3    1.320132\n",
      "4    1.293991\n",
      "5         NaN\n",
      "6    1.811587\n",
      "Name: a, dtype: float64\n",
      "          a         b         c         d\n",
      "0       NaN       NaN  0.990099       NaN\n",
      "1       NaN       NaN  1.980198       NaN\n",
      "2  0.990099  0.990099       NaN  0.990099\n",
      "3  1.320132  0.848656       NaN       NaN\n",
      "4  1.293991  0.831851       NaN  0.990099\n",
      "5       NaN  0.665481       NaN       NaN\n",
      "6  1.811587       NaN  1.940986  0.970493\n",
      "7.59 ms ± 141 µs per loop (mean ± std. dev. of 7 runs, 100 loops each)\n"
     ]
    }
   ],
   "source": [
    "print(orders['a'].fees)\n",
    "print(orders.fees)\n",
    "\n",
    "%timeit big_orders.fees"
   ]
  },
  {
   "cell_type": "code",
   "execution_count": 62,
   "metadata": {},
   "outputs": [
    {
     "name": "stdout",
     "output_type": "stream",
     "text": [
      "1.3539522275\n",
      "a    1.353952\n",
      "b    0.834022\n",
      "c    1.637094\n",
      "d    0.983564\n",
      "dtype: float64\n",
      "5.77 ms ± 91.5 µs per loop (mean ± std. dev. of 7 runs, 100 loops each)\n"
     ]
    }
   ],
   "source": [
    "print(orders['a'].avg_fees)\n",
    "print(orders.avg_fees)\n",
    "\n",
    "%timeit big_orders.avg_fees"
   ]
  },
  {
   "cell_type": "code",
   "execution_count": 63,
   "metadata": {},
   "outputs": [
    {
     "name": "stdout",
     "output_type": "stream",
     "text": [
      "5.41580891\n",
      "a    5.415809\n",
      "b    3.336087\n",
      "c    4.911283\n",
      "d    2.950691\n",
      "dtype: float64\n",
      "5.68 ms ± 106 µs per loop (mean ± std. dev. of 7 runs, 100 loops each)\n"
     ]
    }
   ],
   "source": [
    "print(orders['a'].total_fees)\n",
    "print(orders.total_fees)\n",
    "\n",
    "%timeit big_orders.total_fees"
   ]
  },
  {
   "cell_type": "code",
   "execution_count": 64,
   "metadata": {},
   "outputs": [
    {
     "name": "stdout",
     "output_type": "stream",
     "text": [
      "0    NaN\n",
      "1    NaN\n",
      "2    0.0\n",
      "3    1.0\n",
      "4    0.0\n",
      "5    NaN\n",
      "6    1.0\n",
      "Name: a, dtype: float64\n",
      "     a    b    c    d\n",
      "0  NaN  NaN  0.0  NaN\n",
      "1  NaN  NaN  1.0  NaN\n",
      "2  0.0  0.0  NaN  0.0\n",
      "3  1.0  1.0  NaN  NaN\n",
      "4  0.0  0.0  NaN  1.0\n",
      "5  NaN  1.0  NaN  NaN\n",
      "6  1.0  NaN  0.0  0.0\n",
      "8.56 ms ± 569 µs per loop (mean ± std. dev. of 7 runs, 100 loops each)\n"
     ]
    }
   ],
   "source": [
    "print(orders['a'].side)\n",
    "print(orders.side)\n",
    "\n",
    "%timeit big_orders.side"
   ]
  },
  {
   "cell_type": "code",
   "execution_count": 65,
   "metadata": {},
   "outputs": [
    {
     "name": "stdout",
     "output_type": "stream",
     "text": [
      "   col  idx       size  price      fees  side\n",
      "0    0    2  33.003300    3.0  0.990099     0\n",
      "1    0    4  25.879816    5.0  1.293991     0\n",
      "   col  idx       size  price      fees  side\n",
      "0    0    2  33.003300    3.0  0.990099     0\n",
      "1    0    4  25.879816    5.0  1.293991     0\n",
      "   col  idx        size  price      fees  side\n",
      "0    0    2   33.003300    3.0  0.990099     0\n",
      "1    0    4   25.879816    5.0  1.293991     0\n",
      "2    1    2   14.144272    7.0  0.990099     0\n",
      "3    1    4   16.637024    5.0  0.831851     0\n",
      "4    2    0   99.009901    1.0  0.990099     0\n",
      "5    2    6  194.098618    1.0  1.940986     0\n",
      "6    3    2   49.504950    2.0  0.990099     0\n",
      "7    3    6   24.262327    4.0  0.970493     0\n"
     ]
    }
   ],
   "source": [
    "print(orders['a'].buy.records)\n",
    "print(orders.buy['a'].records)\n",
    "print(orders.buy.records)"
   ]
  },
  {
   "cell_type": "code",
   "execution_count": 66,
   "metadata": {},
   "outputs": [
    {
     "name": "stdout",
     "output_type": "stream",
     "text": [
      "   col  idx       size  price      fees  side\n",
      "0    0    3  33.003300    4.0  1.320132     1\n",
      "1    0    6  25.879816    7.0  1.811587     1\n",
      "   col  idx       size  price      fees  side\n",
      "0    0    3  33.003300    4.0  1.320132     1\n",
      "1    0    6  25.879816    7.0  1.811587     1\n",
      "   col  idx       size  price      fees  side\n",
      "0    0    3  33.003300    4.0  1.320132     1\n",
      "1    0    6  25.879816    7.0  1.811587     1\n",
      "2    1    3  14.144272    6.0  0.848656     1\n",
      "3    1    5  16.637024    4.0  0.665481     1\n",
      "4    2    1  99.009901    2.0  1.980198     1\n",
      "5    3    4  49.504950    2.0  0.990099     1\n"
     ]
    }
   ],
   "source": [
    "print(orders['a'].sell.records)\n",
    "print(orders.sell['a'].records)\n",
    "print(orders.sell.records)"
   ]
  },
  {
   "cell_type": "code",
   "execution_count": 67,
   "metadata": {},
   "outputs": [
    {
     "name": "stdout",
     "output_type": "stream",
     "text": [
      "The slowest run took 4.68 times longer than the fastest. This could mean that an intermediate result is being cached.\n",
      "46.9 ms ± 21.6 ms per loop (mean ± std. dev. of 7 runs, 10 loops each)\n"
     ]
    }
   ],
   "source": [
    "%timeit big_orders.buy"
   ]
  },
  {
   "cell_type": "code",
   "execution_count": 68,
   "metadata": {},
   "outputs": [
    {
     "name": "stdout",
     "output_type": "stream",
     "text": [
      "The slowest run took 4.34 times longer than the fastest. This could mean that an intermediate result is being cached.\n",
      "39.8 ms ± 16.1 ms per loop (mean ± std. dev. of 7 runs, 10 loops each)\n"
     ]
    }
   ],
   "source": [
    "%timeit big_orders.sell"
   ]
  },
  {
   "cell_type": "code",
   "execution_count": 69,
   "metadata": {},
   "outputs": [
    {
     "name": "stdout",
     "output_type": "stream",
     "text": [
      "0          NaN\n",
      "1          NaN\n",
      "2    33.003300\n",
      "3          NaN\n",
      "4    25.879816\n",
      "5          NaN\n",
      "6          NaN\n",
      "Name: a, dtype: float64\n",
      "           a          b           c          d\n",
      "0        NaN        NaN   99.009901        NaN\n",
      "1        NaN        NaN         NaN        NaN\n",
      "2  33.003300  14.144272         NaN  49.504950\n",
      "3        NaN        NaN         NaN        NaN\n",
      "4  25.879816  16.637024         NaN        NaN\n",
      "5        NaN        NaN         NaN        NaN\n",
      "6        NaN        NaN  194.098618  24.262327\n",
      "31.6 ms ± 9.22 ms per loop (mean ± std. dev. of 7 runs, 10 loops each)\n"
     ]
    }
   ],
   "source": [
    "print(orders['a'].buy.size)\n",
    "print(orders.buy.size)\n",
    "\n",
    "%timeit big_orders.buy.size"
   ]
  },
  {
   "cell_type": "code",
   "execution_count": 70,
   "metadata": {},
   "outputs": [
    {
     "name": "stdout",
     "output_type": "stream",
     "text": [
      "0          NaN\n",
      "1          NaN\n",
      "2          NaN\n",
      "3    33.003300\n",
      "4          NaN\n",
      "5          NaN\n",
      "6    25.879816\n",
      "Name: a, dtype: float64\n",
      "           a          b          c         d\n",
      "0        NaN        NaN        NaN       NaN\n",
      "1        NaN        NaN  99.009901       NaN\n",
      "2        NaN        NaN        NaN       NaN\n",
      "3  33.003300  14.144272        NaN       NaN\n",
      "4        NaN        NaN        NaN  49.50495\n",
      "5        NaN  16.637024        NaN       NaN\n",
      "6  25.879816        NaN        NaN       NaN\n",
      "33.8 ms ± 9.67 ms per loop (mean ± std. dev. of 7 runs, 10 loops each)\n"
     ]
    }
   ],
   "source": [
    "print(orders['a'].sell.size)\n",
    "print(orders.sell.size)\n",
    "\n",
    "%timeit big_orders.sell.size"
   ]
  },
  {
   "cell_type": "markdown",
   "metadata": {},
   "source": [
    "## Trades"
   ]
  },
  {
   "cell_type": "code",
   "execution_count": 71,
   "metadata": {},
   "outputs": [],
   "source": [
    "from vectorbt.records import Trades"
   ]
  },
  {
   "cell_type": "code",
   "execution_count": 72,
   "metadata": {},
   "outputs": [
    {
     "name": "stdout",
     "output_type": "stream",
     "text": [
      "(8,)\n"
     ]
    }
   ],
   "source": [
    "trades = Trades.from_orders(orders)\n",
    "print(trades.records_arr.shape)"
   ]
  },
  {
   "cell_type": "code",
   "execution_count": 73,
   "metadata": {},
   "outputs": [
    {
     "name": "stdout",
     "output_type": "stream",
     "text": [
      "(500000,)\n"
     ]
    }
   ],
   "source": [
    "big_trades = Trades.from_orders(big_orders)\n",
    "print(big_trades.records_arr.shape)"
   ]
  },
  {
   "cell_type": "code",
   "execution_count": 74,
   "metadata": {},
   "outputs": [
    {
     "name": "stdout",
     "output_type": "stream",
     "text": [
      "The slowest run took 8.34 times longer than the fastest. This could mean that an intermediate result is being cached.\n",
      "47.5 ms ± 32.2 ms per loop (mean ± std. dev. of 7 runs, 10 loops each)\n"
     ]
    }
   ],
   "source": [
    "%timeit Trades.from_orders(big_orders)"
   ]
  },
  {
   "cell_type": "code",
   "execution_count": 75,
   "metadata": {},
   "outputs": [
    {
     "name": "stdout",
     "output_type": "stream",
     "text": [
      "   col  idx        size  open_idx  open_price  open_fees  close_idx  \\\n",
      "0    0    3   33.003300         2         3.0   0.990099          3   \n",
      "1    0    6   25.879816         4         5.0   1.293991          6   \n",
      "2    1    3   14.144272         2         7.0   0.990099          3   \n",
      "3    1    5   16.637024         4         5.0   0.831851          5   \n",
      "4    2    1   99.009901         0         1.0   0.990099          1   \n",
      "5    2    6  194.098618         6         1.0   1.940986          6   \n",
      "6    3    4   49.504950         2         2.0   0.990099          4   \n",
      "7    3    6   24.262327         6         4.0   0.970493          6   \n",
      "\n",
      "   close_price  close_fees        pnl    return  status  position_idx  \n",
      "0          4.0    1.320132  30.693069  0.306931       1             0  \n",
      "1          7.0    1.811587  48.654054  0.372277       1             1  \n",
      "2          6.0    0.848656 -15.983027 -0.159830       1             2  \n",
      "3          4.0    0.665481 -18.134357 -0.215842       1             3  \n",
      "4          2.0    1.980198  96.039604  0.960396       1             4  \n",
      "5          1.0    0.000000  -1.940986 -0.009901       0             5  \n",
      "6          2.0    0.990099  -1.980198 -0.019802       1             6  \n",
      "7          4.0    0.000000  -0.970493 -0.009901       0             7  \n",
      "   col  idx       size  open_idx  open_price  open_fees  close_idx  \\\n",
      "0    0    3  33.003300         2         3.0   0.990099          3   \n",
      "1    0    6  25.879816         4         5.0   1.293991          6   \n",
      "\n",
      "   close_price  close_fees        pnl    return  status  position_idx  \n",
      "0          4.0    1.320132  30.693069  0.306931       1             0  \n",
      "1          7.0    1.811587  48.654054  0.372277       1             1  \n",
      "   col  idx       size  open_idx  open_price  open_fees  close_idx  \\\n",
      "0    0    3  14.144272         2         7.0   0.990099          3   \n",
      "1    0    5  16.637024         4         5.0   0.831851          5   \n",
      "\n",
      "   close_price  close_fees        pnl    return  status  position_idx  \n",
      "0          6.0    0.848656 -15.983027 -0.159830       1             2  \n",
      "1          4.0    0.665481 -18.134357 -0.215842       1             3  \n",
      "   col  idx        size  open_idx  open_price  open_fees  close_idx  \\\n",
      "0    0    1   99.009901         0         1.0   0.990099          1   \n",
      "1    0    6  194.098618         6         1.0   1.940986          6   \n",
      "\n",
      "   close_price  close_fees        pnl    return  status  position_idx  \n",
      "0          2.0    1.980198  96.039604  0.960396       1             4  \n",
      "1          1.0    0.000000  -1.940986 -0.009901       0             5  \n",
      "   col  idx       size  open_idx  open_price  open_fees  close_idx  \\\n",
      "0    0    4  49.504950         2         2.0   0.990099          4   \n",
      "1    0    6  24.262327         6         4.0   0.970493          6   \n",
      "\n",
      "   close_price  close_fees       pnl    return  status  position_idx  \n",
      "0          2.0    0.990099 -1.980198 -0.019802       1             6  \n",
      "1          4.0    0.000000 -0.970493 -0.009901       0             7  \n"
     ]
    }
   ],
   "source": [
    "print(trades.records)\n",
    "print(trades['a'].records)\n",
    "print(trades['b'].records)\n",
    "print(trades['c'].records)\n",
    "print(trades['d'].records)"
   ]
  },
  {
   "cell_type": "code",
   "execution_count": 76,
   "metadata": {},
   "outputs": [
    {
     "data": {
      "image/png": "[encoded data removed]"
     },
     "metadata": {},
     "output_type": "display_data"
    }
   ],
   "source": [
    "trades['a'].plot().show_png()"
   ]
  },
  {
   "cell_type": "code",
   "execution_count": 77,
   "metadata": {},
   "outputs": [
    {
     "name": "stdout",
     "output_type": "stream",
     "text": [
      "2.0\n",
      "a    2.0\n",
      "b    2.0\n",
      "c    2.0\n",
      "d    2.0\n",
      "dtype: float64\n",
      "3.77 ms ± 110 µs per loop (mean ± std. dev. of 7 runs, 100 loops each)\n"
     ]
    }
   ],
   "source": [
    "print(trades['a'].count)\n",
    "print(trades.count)\n",
    "\n",
    "%timeit big_trades.count"
   ]
  },
  {
   "cell_type": "code",
   "execution_count": 78,
   "metadata": {},
   "outputs": [
    {
     "name": "stdout",
     "output_type": "stream",
     "text": [
      "0    NaN\n",
      "1    NaN\n",
      "2    NaN\n",
      "3    1.0\n",
      "4    NaN\n",
      "5    NaN\n",
      "6    2.0\n",
      "Name: a, dtype: float64\n",
      "     a    b    c    d\n",
      "0  NaN  NaN  NaN  NaN\n",
      "1  NaN  NaN  1.0  NaN\n",
      "2  NaN  NaN  NaN  NaN\n",
      "3  1.0  1.0  NaN  NaN\n",
      "4  NaN  NaN  NaN  2.0\n",
      "5  NaN  1.0  NaN  NaN\n",
      "6  2.0  NaN  0.0  0.0\n",
      "8.09 ms ± 364 µs per loop (mean ± std. dev. of 7 runs, 100 loops each)\n"
     ]
    }
   ],
   "source": [
    "print(trades['a'].duration)\n",
    "print(trades.duration)\n",
    "\n",
    "%timeit big_trades.duration"
   ]
  },
  {
   "cell_type": "code",
   "execution_count": 79,
   "metadata": {},
   "outputs": [
    {
     "name": "stdout",
     "output_type": "stream",
     "text": [
      "1 days 12:00:00\n",
      "a   1 days 12:00:00\n",
      "b   1 days 00:00:00\n",
      "c   0 days 12:00:00\n",
      "d   1 days 00:00:00\n",
      "dtype: timedelta64[ns]\n",
      "12.7 ms ± 400 µs per loop (mean ± std. dev. of 7 runs, 100 loops each)\n"
     ]
    }
   ],
   "source": [
    "print(trades['a'].avg_duration)\n",
    "print(trades.avg_duration)\n",
    "\n",
    "%timeit big_trades.avg_duration"
   ]
  },
  {
   "cell_type": "code",
   "execution_count": 80,
   "metadata": {},
   "outputs": [
    {
     "name": "stdout",
     "output_type": "stream",
     "text": [
      "2 days 00:00:00\n",
      "a   2 days\n",
      "b   1 days\n",
      "c   1 days\n",
      "d   2 days\n",
      "dtype: timedelta64[ns]\n",
      "13 ms ± 466 µs per loop (mean ± std. dev. of 7 runs, 100 loops each)\n"
     ]
    }
   ],
   "source": [
    "print(trades['a'].max_duration)\n",
    "print(trades.max_duration)\n",
    "\n",
    "%timeit big_trades.max_duration"
   ]
  },
  {
   "cell_type": "code",
   "execution_count": 81,
   "metadata": {},
   "outputs": [
    {
     "name": "stdout",
     "output_type": "stream",
     "text": [
      "0.42857142857142855\n",
      "a    0.428571\n",
      "b    0.285714\n",
      "c    0.142857\n",
      "d    0.285714\n",
      "dtype: float64\n",
      "7.26 ms ± 872 µs per loop (mean ± std. dev. of 7 runs, 100 loops each)\n"
     ]
    }
   ],
   "source": [
    "print(trades['a'].coverage)\n",
    "print(trades.coverage)\n",
    "\n",
    "%timeit big_trades.coverage"
   ]
  },
  {
   "cell_type": "code",
   "execution_count": 82,
   "metadata": {},
   "outputs": [
    {
     "name": "stdout",
     "output_type": "stream",
     "text": [
      "0          NaN\n",
      "1          NaN\n",
      "2          NaN\n",
      "3    30.693069\n",
      "4          NaN\n",
      "5          NaN\n",
      "6    48.654054\n",
      "Name: a, dtype: float64\n",
      "           a          b          c         d\n",
      "0        NaN        NaN        NaN       NaN\n",
      "1        NaN        NaN  96.039604       NaN\n",
      "2        NaN        NaN        NaN       NaN\n",
      "3  30.693069 -15.983027        NaN       NaN\n",
      "4        NaN        NaN        NaN -1.980198\n",
      "5        NaN -18.134357        NaN       NaN\n",
      "6  48.654054        NaN  -1.940986 -0.970493\n",
      "9.04 ms ± 2.72 ms per loop (mean ± std. dev. of 7 runs, 100 loops each)\n"
     ]
    }
   ],
   "source": [
    "print(trades['a'].pnl)\n",
    "print(trades.pnl)\n",
    "\n",
    "%timeit big_trades.pnl"
   ]
  },
  {
   "cell_type": "code",
   "execution_count": 83,
   "metadata": {},
   "outputs": [
    {
     "name": "stdout",
     "output_type": "stream",
     "text": [
      "30.69306931\n",
      "a    30.693069\n",
      "b   -18.134357\n",
      "c    -1.940986\n",
      "d    -1.980198\n",
      "dtype: float64\n",
      "6.79 ms ± 1.9 ms per loop (mean ± std. dev. of 7 runs, 100 loops each)\n"
     ]
    }
   ],
   "source": [
    "print(trades['a'].min_pnl)\n",
    "print(trades.min_pnl)\n",
    "\n",
    "%timeit big_trades.min_pnl"
   ]
  },
  {
   "cell_type": "code",
   "execution_count": 84,
   "metadata": {},
   "outputs": [
    {
     "name": "stdout",
     "output_type": "stream",
     "text": [
      "48.65405351000001\n",
      "a    48.654054\n",
      "b   -15.983027\n",
      "c    96.039604\n",
      "d    -0.970493\n",
      "dtype: float64\n",
      "6.22 ms ± 1.55 ms per loop (mean ± std. dev. of 7 runs, 100 loops each)\n"
     ]
    }
   ],
   "source": [
    "print(trades['a'].max_pnl)\n",
    "print(trades.max_pnl)\n",
    "\n",
    "%timeit big_trades.max_pnl"
   ]
  },
  {
   "cell_type": "code",
   "execution_count": 85,
   "metadata": {},
   "outputs": [
    {
     "name": "stdout",
     "output_type": "stream",
     "text": [
      "39.673561410000005\n",
      "a    39.673561\n",
      "b   -17.058692\n",
      "c    47.049309\n",
      "d    -1.475346\n",
      "dtype: float64\n",
      "4.83 ms ± 124 µs per loop (mean ± std. dev. of 7 runs, 100 loops each)\n"
     ]
    }
   ],
   "source": [
    "print(trades['a'].avg_pnl)\n",
    "print(trades.avg_pnl)\n",
    "\n",
    "%timeit big_trades.avg_pnl"
   ]
  },
  {
   "cell_type": "code",
   "execution_count": 86,
   "metadata": {},
   "outputs": [
    {
     "name": "stdout",
     "output_type": "stream",
     "text": [
      "79.34712282000001\n",
      "a    79.347123\n",
      "b   -34.117383\n",
      "c    94.098618\n",
      "d    -2.950691\n",
      "dtype: float64\n",
      "4.72 ms ± 49.1 µs per loop (mean ± std. dev. of 7 runs, 100 loops each)\n"
     ]
    }
   ],
   "source": [
    "print(trades['a'].total_pnl)\n",
    "print(trades.total_pnl)\n",
    "\n",
    "%timeit big_trades.total_pnl"
   ]
  },
  {
   "cell_type": "code",
   "execution_count": 87,
   "metadata": {},
   "outputs": [
    {
     "name": "stdout",
     "output_type": "stream",
     "text": [
      "0         NaN\n",
      "1         NaN\n",
      "2         NaN\n",
      "3    0.306931\n",
      "4         NaN\n",
      "5         NaN\n",
      "6    0.372277\n",
      "Name: a, dtype: float64\n",
      "          a         b         c         d\n",
      "0       NaN       NaN       NaN       NaN\n",
      "1       NaN       NaN  0.960396       NaN\n",
      "2       NaN       NaN       NaN       NaN\n",
      "3  0.306931 -0.159830       NaN       NaN\n",
      "4       NaN       NaN       NaN -0.019802\n",
      "5       NaN -0.215842       NaN       NaN\n",
      "6  0.372277       NaN -0.009901 -0.009901\n",
      "6.92 ms ± 151 µs per loop (mean ± std. dev. of 7 runs, 100 loops each)\n"
     ]
    }
   ],
   "source": [
    "print(trades['a'].returns)\n",
    "print(trades.returns)\n",
    "\n",
    "%timeit big_trades.returns"
   ]
  },
  {
   "cell_type": "code",
   "execution_count": 88,
   "metadata": {},
   "outputs": [
    {
     "name": "stdout",
     "output_type": "stream",
     "text": [
      "0.3069306931\n",
      "a    0.306931\n",
      "b   -0.215842\n",
      "c   -0.009901\n",
      "d   -0.019802\n",
      "dtype: float64\n",
      "4.77 ms ± 90.4 µs per loop (mean ± std. dev. of 7 runs, 100 loops each)\n"
     ]
    }
   ],
   "source": [
    "print(trades['a'].min_return)\n",
    "print(trades.min_return)\n",
    "\n",
    "%timeit big_trades.min_return"
   ]
  },
  {
   "cell_type": "code",
   "execution_count": 89,
   "metadata": {},
   "outputs": [
    {
     "name": "stdout",
     "output_type": "stream",
     "text": [
      "0.37227722766262084\n",
      "a    0.372277\n",
      "b   -0.159830\n",
      "c    0.960396\n",
      "d   -0.009901\n",
      "dtype: float64\n",
      "4.76 ms ± 50.2 µs per loop (mean ± std. dev. of 7 runs, 100 loops each)\n"
     ]
    }
   ],
   "source": [
    "print(trades['a'].max_return)\n",
    "print(trades.max_return)\n",
    "\n",
    "%timeit big_trades.max_return"
   ]
  },
  {
   "cell_type": "code",
   "execution_count": 90,
   "metadata": {},
   "outputs": [
    {
     "name": "stdout",
     "output_type": "stream",
     "text": [
      "0.3396039603813104\n",
      "a    0.339604\n",
      "b   -0.187836\n",
      "c    0.475248\n",
      "d   -0.014851\n",
      "dtype: float64\n",
      "4.85 ms ± 135 µs per loop (mean ± std. dev. of 7 runs, 100 loops each)\n"
     ]
    }
   ],
   "source": [
    "print(trades['a'].avg_return)\n",
    "print(trades.avg_return)\n",
    "\n",
    "%timeit big_trades.avg_return"
   ]
  },
  {
   "cell_type": "code",
   "execution_count": 91,
   "metadata": {},
   "outputs": [
    {
     "name": "stdout",
     "output_type": "stream",
     "text": [
      "4.4177491576435965\n",
      "a     4.417749\n",
      "b   -15.858742\n",
      "c     0.960380\n",
      "d    -2.922330\n",
      "dtype: float64\n",
      "5.58 ms ± 66.2 µs per loop (mean ± std. dev. of 7 runs, 100 loops each)\n"
     ]
    }
   ],
   "source": [
    "print(trades['a'].sqn)\n",
    "print(trades.sqn)\n",
    "\n",
    "%timeit big_trades.sqn"
   ]
  },
  {
   "cell_type": "code",
   "execution_count": 92,
   "metadata": {},
   "outputs": [
    {
     "name": "stdout",
     "output_type": "stream",
     "text": [
      "   col  idx       size  open_idx  open_price  open_fees  close_idx  \\\n",
      "0    0    3  33.003300         2         3.0   0.990099          3   \n",
      "1    0    6  25.879816         4         5.0   1.293991          6   \n",
      "\n",
      "   close_price  close_fees        pnl    return  status  position_idx  \n",
      "0          4.0    1.320132  30.693069  0.306931       1             0  \n",
      "1          7.0    1.811587  48.654054  0.372277       1             1  \n",
      "   col  idx       size  open_idx  open_price  open_fees  close_idx  \\\n",
      "0    0    3  33.003300         2         3.0   0.990099          3   \n",
      "1    0    6  25.879816         4         5.0   1.293991          6   \n",
      "\n",
      "   close_price  close_fees        pnl    return  status  position_idx  \n",
      "0          4.0    1.320132  30.693069  0.306931       1             0  \n",
      "1          7.0    1.811587  48.654054  0.372277       1             1  \n",
      "   col  idx       size  open_idx  open_price  open_fees  close_idx  \\\n",
      "0    0    3  33.003300         2         3.0   0.990099          3   \n",
      "1    0    6  25.879816         4         5.0   1.293991          6   \n",
      "2    2    1  99.009901         0         1.0   0.990099          1   \n",
      "\n",
      "   close_price  close_fees        pnl    return  status  position_idx  \n",
      "0          4.0    1.320132  30.693069  0.306931       1             0  \n",
      "1          7.0    1.811587  48.654054  0.372277       1             1  \n",
      "2          2.0    1.980198  96.039604  0.960396       1             4  \n"
     ]
    }
   ],
   "source": [
    "print(trades['a'].winning.records)\n",
    "print(trades.winning['a'].records)\n",
    "print(trades.winning.records)"
   ]
  },
  {
   "cell_type": "code",
   "execution_count": 93,
   "metadata": {},
   "outputs": [
    {
     "name": "stdout",
     "output_type": "stream",
     "text": [
      "Empty DataFrame\n",
      "Columns: [col, idx, size, open_idx, open_price, open_fees, close_idx, close_price, close_fees, pnl, return, status, position_idx]\n",
      "Index: []\n",
      "Empty DataFrame\n",
      "Columns: [col, idx, size, open_idx, open_price, open_fees, close_idx, close_price, close_fees, pnl, return, status, position_idx]\n",
      "Index: []\n",
      "   col  idx        size  open_idx  open_price  open_fees  close_idx  \\\n",
      "0    1    3   14.144272         2         7.0   0.990099          3   \n",
      "1    1    5   16.637024         4         5.0   0.831851          5   \n",
      "2    2    6  194.098618         6         1.0   1.940986          6   \n",
      "3    3    4   49.504950         2         2.0   0.990099          4   \n",
      "4    3    6   24.262327         6         4.0   0.970493          6   \n",
      "\n",
      "   close_price  close_fees        pnl    return  status  position_idx  \n",
      "0          6.0    0.848656 -15.983027 -0.159830       1             2  \n",
      "1          4.0    0.665481 -18.134357 -0.215842       1             3  \n",
      "2          1.0    0.000000  -1.940986 -0.009901       0             5  \n",
      "3          2.0    0.990099  -1.980198 -0.019802       1             6  \n",
      "4          4.0    0.000000  -0.970493 -0.009901       0             7  \n"
     ]
    }
   ],
   "source": [
    "print(trades['a'].losing.records)\n",
    "print(trades.losing['a'].records)\n",
    "print(trades.losing.records)"
   ]
  },
  {
   "cell_type": "code",
   "execution_count": 94,
   "metadata": {},
   "outputs": [
    {
     "name": "stdout",
     "output_type": "stream",
     "text": [
      "20.9 ms ± 3.94 ms per loop (mean ± std. dev. of 7 runs, 10 loops each)\n"
     ]
    }
   ],
   "source": [
    "%timeit big_trades.winning"
   ]
  },
  {
   "cell_type": "code",
   "execution_count": 95,
   "metadata": {},
   "outputs": [
    {
     "name": "stdout",
     "output_type": "stream",
     "text": [
      "The slowest run took 4.83 times longer than the fastest. This could mean that an intermediate result is being cached.\n",
      "38.2 ms ± 22.1 ms per loop (mean ± std. dev. of 7 runs, 10 loops each)\n"
     ]
    }
   ],
   "source": [
    "%timeit big_trades.losing"
   ]
  },
  {
   "cell_type": "code",
   "execution_count": 96,
   "metadata": {},
   "outputs": [
    {
     "name": "stdout",
     "output_type": "stream",
     "text": [
      "1.0\n",
      "a    1.0\n",
      "b    0.0\n",
      "c    0.5\n",
      "d    0.0\n",
      "dtype: float64\n",
      "29.8 ms ± 7.05 ms per loop (mean ± std. dev. of 7 runs, 10 loops each)\n"
     ]
    }
   ],
   "source": [
    "print(trades['a'].win_rate)\n",
    "print(trades.win_rate)\n",
    "\n",
    "%timeit big_trades.win_rate"
   ]
  },
  {
   "cell_type": "code",
   "execution_count": 97,
   "metadata": {},
   "outputs": [
    {
     "name": "stdout",
     "output_type": "stream",
     "text": [
      "inf\n",
      "a          inf\n",
      "b     0.000000\n",
      "c    49.479798\n",
      "d     0.000000\n",
      "dtype: float64\n"
     ]
    },
    {
     "name": "stderr",
     "output_type": "stream",
     "text": [
      "/Users/olegpolakow/Documents/SourceTree/vectorbt/vectorbt/records/events.py:347: RuntimeWarning:\n",
      "\n",
      "divide by zero encountered in true_divide\n",
      "\n"
     ]
    },
    {
     "name": "stdout",
     "output_type": "stream",
     "text": [
      "78.9 ms ± 33.1 ms per loop (mean ± std. dev. of 7 runs, 10 loops each)\n"
     ]
    }
   ],
   "source": [
    "print(trades['a'].profit_factor)\n",
    "print(trades.profit_factor)\n",
    "\n",
    "%timeit big_trades.profit_factor"
   ]
  },
  {
   "cell_type": "code",
   "execution_count": 98,
   "metadata": {},
   "outputs": [
    {
     "name": "stdout",
     "output_type": "stream",
     "text": [
      "39.673561410000005\n",
      "a    39.673561\n",
      "b   -17.058692\n",
      "c    47.049309\n",
      "d    -1.475346\n",
      "dtype: float64\n",
      "79.7 ms ± 11.9 ms per loop (mean ± std. dev. of 7 runs, 10 loops each)\n"
     ]
    }
   ],
   "source": [
    "print(trades['a'].expectancy)\n",
    "print(trades.expectancy)\n",
    "\n",
    "%timeit big_trades.expectancy"
   ]
  },
  {
   "cell_type": "code",
   "execution_count": 99,
   "metadata": {},
   "outputs": [
    {
     "name": "stdout",
     "output_type": "stream",
     "text": [
      "0    NaN\n",
      "1    NaN\n",
      "2    NaN\n",
      "3    1.0\n",
      "4    NaN\n",
      "5    NaN\n",
      "6    1.0\n",
      "Name: a, dtype: float64\n",
      "     a    b    c    d\n",
      "0  NaN  NaN  NaN  NaN\n",
      "1  NaN  NaN  1.0  NaN\n",
      "2  NaN  NaN  NaN  NaN\n",
      "3  1.0  1.0  NaN  NaN\n",
      "4  NaN  NaN  NaN  1.0\n",
      "5  NaN  1.0  NaN  NaN\n",
      "6  1.0  NaN  0.0  0.0\n",
      "5.98 ms ± 115 µs per loop (mean ± std. dev. of 7 runs, 100 loops each)\n"
     ]
    }
   ],
   "source": [
    "print(trades['a'].status)\n",
    "print(trades.status)\n",
    "\n",
    "%timeit big_trades.status"
   ]
  },
  {
   "cell_type": "code",
   "execution_count": 100,
   "metadata": {},
   "outputs": [
    {
     "name": "stdout",
     "output_type": "stream",
     "text": [
      "1.0\n",
      "a    1.0\n",
      "b    1.0\n",
      "c    0.5\n",
      "d    0.5\n",
      "dtype: float64\n",
      "The slowest run took 5.36 times longer than the fastest. This could mean that an intermediate result is being cached.\n",
      "49.2 ms ± 26.5 ms per loop (mean ± std. dev. of 7 runs, 10 loops each)\n"
     ]
    }
   ],
   "source": [
    "print(trades['a'].closed_rate)\n",
    "print(trades.closed_rate)\n",
    "\n",
    "%timeit big_trades.closed_rate"
   ]
  },
  {
   "cell_type": "code",
   "execution_count": 101,
   "metadata": {},
   "outputs": [
    {
     "name": "stdout",
     "output_type": "stream",
     "text": [
      "Empty DataFrame\n",
      "Columns: [col, idx, size, open_idx, open_price, open_fees, close_idx, close_price, close_fees, pnl, return, status, position_idx]\n",
      "Index: []\n",
      "Empty DataFrame\n",
      "Columns: [col, idx, size, open_idx, open_price, open_fees, close_idx, close_price, close_fees, pnl, return, status, position_idx]\n",
      "Index: []\n",
      "   col  idx        size  open_idx  open_price  open_fees  close_idx  \\\n",
      "0    2    6  194.098618         6         1.0   1.940986          6   \n",
      "1    3    6   24.262327         6         4.0   0.970493          6   \n",
      "\n",
      "   close_price  close_fees       pnl    return  status  position_idx  \n",
      "0          1.0         0.0 -1.940986 -0.009901       0             5  \n",
      "1          4.0         0.0 -0.970493 -0.009901       0             7  \n"
     ]
    }
   ],
   "source": [
    "print(trades['a'].open.records)\n",
    "print(trades.open['a'].records)\n",
    "print(trades.open.records)"
   ]
  },
  {
   "cell_type": "code",
   "execution_count": 102,
   "metadata": {},
   "outputs": [
    {
     "name": "stdout",
     "output_type": "stream",
     "text": [
      "   col  idx       size  open_idx  open_price  open_fees  close_idx  \\\n",
      "0    0    3  33.003300         2         3.0   0.990099          3   \n",
      "1    0    6  25.879816         4         5.0   1.293991          6   \n",
      "\n",
      "   close_price  close_fees        pnl    return  status  position_idx  \n",
      "0          4.0    1.320132  30.693069  0.306931       1             0  \n",
      "1          7.0    1.811587  48.654054  0.372277       1             1  \n",
      "   col  idx       size  open_idx  open_price  open_fees  close_idx  \\\n",
      "0    0    3  33.003300         2         3.0   0.990099          3   \n",
      "1    0    6  25.879816         4         5.0   1.293991          6   \n",
      "\n",
      "   close_price  close_fees        pnl    return  status  position_idx  \n",
      "0          4.0    1.320132  30.693069  0.306931       1             0  \n",
      "1          7.0    1.811587  48.654054  0.372277       1             1  \n",
      "   col  idx       size  open_idx  open_price  open_fees  close_idx  \\\n",
      "0    0    3  33.003300         2         3.0   0.990099          3   \n",
      "1    0    6  25.879816         4         5.0   1.293991          6   \n",
      "2    1    3  14.144272         2         7.0   0.990099          3   \n",
      "3    1    5  16.637024         4         5.0   0.831851          5   \n",
      "4    2    1  99.009901         0         1.0   0.990099          1   \n",
      "5    3    4  49.504950         2         2.0   0.990099          4   \n",
      "\n",
      "   close_price  close_fees        pnl    return  status  position_idx  \n",
      "0          4.0    1.320132  30.693069  0.306931       1             0  \n",
      "1          7.0    1.811587  48.654054  0.372277       1             1  \n",
      "2          6.0    0.848656 -15.983027 -0.159830       1             2  \n",
      "3          4.0    0.665481 -18.134357 -0.215842       1             3  \n",
      "4          2.0    1.980198  96.039604  0.960396       1             4  \n",
      "5          2.0    0.990099  -1.980198 -0.019802       1             6  \n"
     ]
    }
   ],
   "source": [
    "print(trades['a'].closed.records)\n",
    "print(trades.closed['a'].records)\n",
    "print(trades.closed.records)"
   ]
  },
  {
   "cell_type": "code",
   "execution_count": 103,
   "metadata": {},
   "outputs": [
    {
     "name": "stdout",
     "output_type": "stream",
     "text": [
      "3.33 ms ± 104 µs per loop (mean ± std. dev. of 7 runs, 100 loops each)\n"
     ]
    }
   ],
   "source": [
    "%timeit big_trades.open # less records"
   ]
  },
  {
   "cell_type": "code",
   "execution_count": 104,
   "metadata": {},
   "outputs": [
    {
     "name": "stdout",
     "output_type": "stream",
     "text": [
      "50.3 ms ± 5.8 ms per loop (mean ± std. dev. of 7 runs, 100 loops each)\n"
     ]
    }
   ],
   "source": [
    "%timeit big_trades.closed # almost all"
   ]
  },
  {
   "cell_type": "markdown",
   "metadata": {},
   "source": [
    "## Positions"
   ]
  },
  {
   "cell_type": "code",
   "execution_count": 105,
   "metadata": {},
   "outputs": [],
   "source": [
    "from vectorbt.records import Positions"
   ]
  },
  {
   "cell_type": "code",
   "execution_count": 106,
   "metadata": {},
   "outputs": [
    {
     "name": "stdout",
     "output_type": "stream",
     "text": [
      "(8,)\n"
     ]
    }
   ],
   "source": [
    "positions = Positions.from_orders(orders)\n",
    "print(positions.records_arr.shape)"
   ]
  },
  {
   "cell_type": "code",
   "execution_count": 107,
   "metadata": {},
   "outputs": [
    {
     "name": "stdout",
     "output_type": "stream",
     "text": [
      "(500000,)\n"
     ]
    }
   ],
   "source": [
    "big_positions = Positions.from_orders(big_orders)\n",
    "print(big_positions.records_arr.shape)"
   ]
  },
  {
   "cell_type": "code",
   "execution_count": 108,
   "metadata": {},
   "outputs": [
    {
     "name": "stdout",
     "output_type": "stream",
     "text": [
      "21.9 ms ± 5.67 ms per loop (mean ± std. dev. of 7 runs, 10 loops each)\n"
     ]
    }
   ],
   "source": [
    "%timeit Positions.from_orders(big_orders)"
   ]
  },
  {
   "cell_type": "code",
   "execution_count": 109,
   "metadata": {},
   "outputs": [
    {
     "name": "stdout",
     "output_type": "stream",
     "text": [
      "   col  idx        size  open_idx  open_price  open_fees  close_idx  \\\n",
      "0    0    3   33.003300         2         3.0   0.990099          3   \n",
      "1    0    6   25.879816         4         5.0   1.293991          6   \n",
      "2    1    3   14.144272         2         7.0   0.990099          3   \n",
      "3    1    5   16.637024         4         5.0   0.831851          5   \n",
      "4    2    1   99.009901         0         1.0   0.990099          1   \n",
      "5    2    6  194.098618         6         1.0   1.940986          6   \n",
      "6    3    4   49.504950         2         2.0   0.990099          4   \n",
      "7    3    6   24.262327         6         4.0   0.970493          6   \n",
      "\n",
      "   close_price  close_fees         pnl    return  status  \n",
      "0          4.0    1.320132   30.693069  0.306931       1  \n",
      "1          7.0    1.811587   48.654054  0.372277       1  \n",
      "2          6.0    0.848656  -15.983027 -0.159830       1  \n",
      "3          4.0    0.665481  -18.134357 -0.215842       1  \n",
      "4          2.0    1.980198   96.039604  0.960396       1  \n",
      "5          4.0    0.000000  580.354867  2.960396       0  \n",
      "6          2.0    0.990099   -1.980198 -0.019802       1  \n",
      "7          4.0    0.000000   -0.970493 -0.009901       0  \n",
      "   col  idx       size  open_idx  open_price  open_fees  close_idx  \\\n",
      "0    0    3  33.003300         2         3.0   0.990099          3   \n",
      "1    0    6  25.879816         4         5.0   1.293991          6   \n",
      "\n",
      "   close_price  close_fees        pnl    return  status  \n",
      "0          4.0    1.320132  30.693069  0.306931       1  \n",
      "1          7.0    1.811587  48.654054  0.372277       1  \n",
      "   col  idx       size  open_idx  open_price  open_fees  close_idx  \\\n",
      "0    0    3  14.144272         2         7.0   0.990099          3   \n",
      "1    0    5  16.637024         4         5.0   0.831851          5   \n",
      "\n",
      "   close_price  close_fees        pnl    return  status  \n",
      "0          6.0    0.848656 -15.983027 -0.159830       1  \n",
      "1          4.0    0.665481 -18.134357 -0.215842       1  \n",
      "   col  idx        size  open_idx  open_price  open_fees  close_idx  \\\n",
      "0    0    1   99.009901         0         1.0   0.990099          1   \n",
      "1    0    6  194.098618         6         1.0   1.940986          6   \n",
      "\n",
      "   close_price  close_fees         pnl    return  status  \n",
      "0          2.0    1.980198   96.039604  0.960396       1  \n",
      "1          4.0    0.000000  580.354867  2.960396       0  \n",
      "   col  idx       size  open_idx  open_price  open_fees  close_idx  \\\n",
      "0    0    4  49.504950         2         2.0   0.990099          4   \n",
      "1    0    6  24.262327         6         4.0   0.970493          6   \n",
      "\n",
      "   close_price  close_fees       pnl    return  status  \n",
      "0          2.0    0.990099 -1.980198 -0.019802       1  \n",
      "1          4.0    0.000000 -0.970493 -0.009901       0  \n"
     ]
    }
   ],
   "source": [
    "print(positions.records)\n",
    "print(positions['a'].records)\n",
    "print(positions['b'].records)\n",
    "print(positions['c'].records)\n",
    "print(positions['d'].records)"
   ]
  },
  {
   "cell_type": "code",
   "execution_count": 110,
   "metadata": {},
   "outputs": [
    {
     "data": {
      "text/plain": [
       "array([(0, 1,  99.00990099, 0, 1., 0.99009901, 1, 2., 1.98019802,  96.03960396, 0.96039604, 1),\n",
       "       (0, 6, 194.09861778, 6, 1., 1.94098618, 6, 4., 0.        , 580.35486716, 2.96039604, 0)],\n",
       "      dtype={'names':['col','idx','size','open_idx','open_price','open_fees','close_idx','close_price','close_fees','pnl','return','status'], 'formats':['<i8','<i8','<f8','<i8','<f8','<f8','<i8','<f8','<f8','<f8','<f8','<i8'], 'offsets':[0,8,16,24,32,40,48,56,64,72,80,88], 'itemsize':96, 'aligned':True})"
      ]
     },
     "execution_count": 110,
     "metadata": {},
     "output_type": "execute_result"
    }
   ],
   "source": [
    "positions['c'].records_arr"
   ]
  },
  {
   "cell_type": "code",
   "execution_count": 111,
   "metadata": {},
   "outputs": [
    {
     "data": {
      "image/png": "[encoded data removed]"
     },
     "metadata": {},
     "output_type": "display_data"
    }
   ],
   "source": [
    "positions['a'].plot().show_png()"
   ]
  },
  {
   "cell_type": "code",
   "execution_count": 112,
   "metadata": {},
   "outputs": [
    {
     "name": "stdout",
     "output_type": "stream",
     "text": [
      "2.0\n",
      "a    2.0\n",
      "b    2.0\n",
      "c    2.0\n",
      "d    2.0\n",
      "dtype: float64\n",
      "3.03 ms ± 59.7 µs per loop (mean ± std. dev. of 7 runs, 100 loops each)\n"
     ]
    }
   ],
   "source": [
    "print(positions['a'].count)\n",
    "print(positions.count)\n",
    "\n",
    "%timeit big_positions.count"
   ]
  },
  {
   "cell_type": "code",
   "execution_count": 113,
   "metadata": {},
   "outputs": [
    {
     "name": "stdout",
     "output_type": "stream",
     "text": [
      "0    NaN\n",
      "1    NaN\n",
      "2    NaN\n",
      "3    1.0\n",
      "4    NaN\n",
      "5    NaN\n",
      "6    2.0\n",
      "Name: a, dtype: float64\n",
      "     a    b    c    d\n",
      "0  NaN  NaN  NaN  NaN\n",
      "1  NaN  NaN  1.0  NaN\n",
      "2  NaN  NaN  NaN  NaN\n",
      "3  1.0  1.0  NaN  NaN\n",
      "4  NaN  NaN  NaN  2.0\n",
      "5  NaN  1.0  NaN  NaN\n",
      "6  2.0  NaN  0.0  0.0\n",
      "6.19 ms ± 69.6 µs per loop (mean ± std. dev. of 7 runs, 100 loops each)\n"
     ]
    }
   ],
   "source": [
    "print(positions['a'].duration)\n",
    "print(positions.duration)\n",
    "\n",
    "%timeit big_positions.duration"
   ]
  },
  {
   "cell_type": "code",
   "execution_count": 114,
   "metadata": {},
   "outputs": [
    {
     "name": "stdout",
     "output_type": "stream",
     "text": [
      "1 days 12:00:00\n",
      "a   1 days 12:00:00\n",
      "b   1 days 00:00:00\n",
      "c   0 days 12:00:00\n",
      "d   1 days 00:00:00\n",
      "dtype: timedelta64[ns]\n",
      "11 ms ± 77.9 µs per loop (mean ± std. dev. of 7 runs, 100 loops each)\n"
     ]
    }
   ],
   "source": [
    "print(positions['a'].avg_duration)\n",
    "print(positions.avg_duration)\n",
    "\n",
    "%timeit big_positions.avg_duration"
   ]
  },
  {
   "cell_type": "code",
   "execution_count": 115,
   "metadata": {},
   "outputs": [
    {
     "name": "stdout",
     "output_type": "stream",
     "text": [
      "2 days 00:00:00\n",
      "a   2 days\n",
      "b   1 days\n",
      "c   1 days\n",
      "d   2 days\n",
      "dtype: timedelta64[ns]\n",
      "11.1 ms ± 76.5 µs per loop (mean ± std. dev. of 7 runs, 100 loops each)\n"
     ]
    }
   ],
   "source": [
    "print(positions['a'].max_duration)\n",
    "print(positions.max_duration)\n",
    "\n",
    "%timeit big_positions.max_duration"
   ]
  },
  {
   "cell_type": "code",
   "execution_count": 116,
   "metadata": {},
   "outputs": [
    {
     "name": "stdout",
     "output_type": "stream",
     "text": [
      "0.42857142857142855\n",
      "a    0.428571\n",
      "b    0.285714\n",
      "c    0.142857\n",
      "d    0.285714\n",
      "dtype: float64\n",
      "4.33 ms ± 46.9 µs per loop (mean ± std. dev. of 7 runs, 100 loops each)\n"
     ]
    }
   ],
   "source": [
    "print(positions['a'].coverage)\n",
    "print(positions.coverage)\n",
    "\n",
    "%timeit big_positions.coverage"
   ]
  },
  {
   "cell_type": "code",
   "execution_count": 117,
   "metadata": {},
   "outputs": [
    {
     "name": "stdout",
     "output_type": "stream",
     "text": [
      "0          NaN\n",
      "1          NaN\n",
      "2          NaN\n",
      "3    30.693069\n",
      "4          NaN\n",
      "5          NaN\n",
      "6    48.654054\n",
      "Name: a, dtype: float64\n",
      "           a          b           c         d\n",
      "0        NaN        NaN         NaN       NaN\n",
      "1        NaN        NaN   96.039604       NaN\n",
      "2        NaN        NaN         NaN       NaN\n",
      "3  30.693069 -15.983027         NaN       NaN\n",
      "4        NaN        NaN         NaN -1.980198\n",
      "5        NaN -18.134357         NaN       NaN\n",
      "6  48.654054        NaN  580.354867 -0.970493\n",
      "6.17 ms ± 247 µs per loop (mean ± std. dev. of 7 runs, 100 loops each)\n"
     ]
    }
   ],
   "source": [
    "print(positions['a'].pnl)\n",
    "print(positions.pnl)\n",
    "\n",
    "%timeit big_positions.pnl"
   ]
  },
  {
   "cell_type": "code",
   "execution_count": 118,
   "metadata": {},
   "outputs": [
    {
     "name": "stdout",
     "output_type": "stream",
     "text": [
      "30.69306931\n",
      "a    30.693069\n",
      "b   -18.134357\n",
      "c    96.039604\n",
      "d    -1.980198\n",
      "dtype: float64\n",
      "4.38 ms ± 73.7 µs per loop (mean ± std. dev. of 7 runs, 100 loops each)\n"
     ]
    }
   ],
   "source": [
    "print(positions['a'].min_pnl)\n",
    "print(positions.min_pnl)\n",
    "\n",
    "%timeit big_positions.min_pnl"
   ]
  },
  {
   "cell_type": "code",
   "execution_count": 119,
   "metadata": {},
   "outputs": [
    {
     "name": "stdout",
     "output_type": "stream",
     "text": [
      "48.65405351000001\n",
      "a     48.654054\n",
      "b    -15.983027\n",
      "c    580.354867\n",
      "d     -0.970493\n",
      "dtype: float64\n",
      "4.32 ms ± 56.9 µs per loop (mean ± std. dev. of 7 runs, 100 loops each)\n"
     ]
    }
   ],
   "source": [
    "print(positions['a'].max_pnl)\n",
    "print(positions.max_pnl)\n",
    "\n",
    "%timeit big_positions.max_pnl"
   ]
  },
  {
   "cell_type": "code",
   "execution_count": 120,
   "metadata": {},
   "outputs": [
    {
     "name": "stdout",
     "output_type": "stream",
     "text": [
      "39.673561410000005\n",
      "a     39.673561\n",
      "b    -17.058692\n",
      "c    338.197236\n",
      "d     -1.475346\n",
      "dtype: float64\n",
      "4.13 ms ± 78.4 µs per loop (mean ± std. dev. of 7 runs, 100 loops each)\n"
     ]
    }
   ],
   "source": [
    "print(positions['a'].avg_pnl)\n",
    "print(positions.avg_pnl)\n",
    "\n",
    "%timeit big_positions.avg_pnl"
   ]
  },
  {
   "cell_type": "code",
   "execution_count": 121,
   "metadata": {},
   "outputs": [
    {
     "name": "stdout",
     "output_type": "stream",
     "text": [
      "79.34712282000001\n",
      "a     79.347123\n",
      "b    -34.117383\n",
      "c    676.394471\n",
      "d     -2.950691\n",
      "dtype: float64\n",
      "4.16 ms ± 68.3 µs per loop (mean ± std. dev. of 7 runs, 100 loops each)\n"
     ]
    }
   ],
   "source": [
    "print(positions['a'].total_pnl)\n",
    "print(positions.total_pnl)\n",
    "\n",
    "%timeit big_positions.total_pnl"
   ]
  },
  {
   "cell_type": "code",
   "execution_count": 122,
   "metadata": {},
   "outputs": [
    {
     "name": "stdout",
     "output_type": "stream",
     "text": [
      "0         NaN\n",
      "1         NaN\n",
      "2         NaN\n",
      "3    0.306931\n",
      "4         NaN\n",
      "5         NaN\n",
      "6    0.372277\n",
      "Name: a, dtype: float64\n",
      "          a         b         c         d\n",
      "0       NaN       NaN       NaN       NaN\n",
      "1       NaN       NaN  0.960396       NaN\n",
      "2       NaN       NaN       NaN       NaN\n",
      "3  0.306931 -0.159830       NaN       NaN\n",
      "4       NaN       NaN       NaN -0.019802\n",
      "5       NaN -0.215842       NaN       NaN\n",
      "6  0.372277       NaN  2.960396 -0.009901\n",
      "6.2 ms ± 121 µs per loop (mean ± std. dev. of 7 runs, 100 loops each)\n"
     ]
    }
   ],
   "source": [
    "print(positions['a'].returns)\n",
    "print(positions.returns)\n",
    "\n",
    "%timeit big_positions.returns"
   ]
  },
  {
   "cell_type": "code",
   "execution_count": 123,
   "metadata": {},
   "outputs": [
    {
     "name": "stdout",
     "output_type": "stream",
     "text": [
      "0.3069306931\n",
      "a    0.306931\n",
      "b   -0.215842\n",
      "c    0.960396\n",
      "d   -0.019802\n",
      "dtype: float64\n",
      "4.28 ms ± 34.6 µs per loop (mean ± std. dev. of 7 runs, 100 loops each)\n"
     ]
    }
   ],
   "source": [
    "print(positions['a'].min_return)\n",
    "print(positions.min_return)\n",
    "\n",
    "%timeit big_positions.min_return"
   ]
  },
  {
   "cell_type": "code",
   "execution_count": 124,
   "metadata": {},
   "outputs": [
    {
     "name": "stdout",
     "output_type": "stream",
     "text": [
      "0.37227722766262084\n",
      "a    0.372277\n",
      "b   -0.159830\n",
      "c    2.960396\n",
      "d   -0.009901\n",
      "dtype: float64\n",
      "4.32 ms ± 31.1 µs per loop (mean ± std. dev. of 7 runs, 100 loops each)\n"
     ]
    }
   ],
   "source": [
    "print(positions['a'].max_return)\n",
    "print(positions.max_return)\n",
    "\n",
    "%timeit big_positions.max_return"
   ]
  },
  {
   "cell_type": "code",
   "execution_count": 125,
   "metadata": {},
   "outputs": [
    {
     "name": "stdout",
     "output_type": "stream",
     "text": [
      "0.3396039603813104\n",
      "a    0.339604\n",
      "b   -0.187836\n",
      "c    1.960396\n",
      "d   -0.014851\n",
      "dtype: float64\n",
      "4.16 ms ± 79.7 µs per loop (mean ± std. dev. of 7 runs, 100 loops each)\n"
     ]
    }
   ],
   "source": [
    "print(positions['a'].avg_return)\n",
    "print(positions.avg_return)\n",
    "\n",
    "%timeit big_positions.avg_return"
   ]
  },
  {
   "cell_type": "code",
   "execution_count": 126,
   "metadata": {},
   "outputs": [
    {
     "name": "stdout",
     "output_type": "stream",
     "text": [
      "4.4177491576435965\n",
      "a     4.417749\n",
      "b   -15.858742\n",
      "c     1.396600\n",
      "d    -2.922330\n",
      "dtype: float64\n",
      "4.94 ms ± 21.4 µs per loop (mean ± std. dev. of 7 runs, 100 loops each)\n"
     ]
    }
   ],
   "source": [
    "print(positions['a'].sqn)\n",
    "print(positions.sqn)\n",
    "\n",
    "%timeit big_positions.sqn"
   ]
  },
  {
   "cell_type": "code",
   "execution_count": 127,
   "metadata": {},
   "outputs": [
    {
     "name": "stdout",
     "output_type": "stream",
     "text": [
      "   col  idx       size  open_idx  open_price  open_fees  close_idx  \\\n",
      "0    0    3  33.003300         2         3.0   0.990099          3   \n",
      "1    0    6  25.879816         4         5.0   1.293991          6   \n",
      "\n",
      "   close_price  close_fees        pnl    return  status  \n",
      "0          4.0    1.320132  30.693069  0.306931       1  \n",
      "1          7.0    1.811587  48.654054  0.372277       1  \n",
      "   col  idx       size  open_idx  open_price  open_fees  close_idx  \\\n",
      "0    0    3  33.003300         2         3.0   0.990099          3   \n",
      "1    0    6  25.879816         4         5.0   1.293991          6   \n",
      "\n",
      "   close_price  close_fees        pnl    return  status  \n",
      "0          4.0    1.320132  30.693069  0.306931       1  \n",
      "1          7.0    1.811587  48.654054  0.372277       1  \n",
      "   col  idx        size  open_idx  open_price  open_fees  close_idx  \\\n",
      "0    0    3   33.003300         2         3.0   0.990099          3   \n",
      "1    0    6   25.879816         4         5.0   1.293991          6   \n",
      "2    2    1   99.009901         0         1.0   0.990099          1   \n",
      "3    2    6  194.098618         6         1.0   1.940986          6   \n",
      "\n",
      "   close_price  close_fees         pnl    return  status  \n",
      "0          4.0    1.320132   30.693069  0.306931       1  \n",
      "1          7.0    1.811587   48.654054  0.372277       1  \n",
      "2          2.0    1.980198   96.039604  0.960396       1  \n",
      "3          4.0    0.000000  580.354867  2.960396       0  \n"
     ]
    }
   ],
   "source": [
    "print(positions['a'].winning.records)\n",
    "print(positions.winning['a'].records)\n",
    "print(positions.winning.records)"
   ]
  },
  {
   "cell_type": "code",
   "execution_count": 128,
   "metadata": {},
   "outputs": [
    {
     "name": "stdout",
     "output_type": "stream",
     "text": [
      "Empty DataFrame\n",
      "Columns: [col, idx, size, open_idx, open_price, open_fees, close_idx, close_price, close_fees, pnl, return, status]\n",
      "Index: []\n",
      "Empty DataFrame\n",
      "Columns: [col, idx, size, open_idx, open_price, open_fees, close_idx, close_price, close_fees, pnl, return, status]\n",
      "Index: []\n",
      "   col  idx       size  open_idx  open_price  open_fees  close_idx  \\\n",
      "0    1    3  14.144272         2         7.0   0.990099          3   \n",
      "1    1    5  16.637024         4         5.0   0.831851          5   \n",
      "2    3    4  49.504950         2         2.0   0.990099          4   \n",
      "3    3    6  24.262327         6         4.0   0.970493          6   \n",
      "\n",
      "   close_price  close_fees        pnl    return  status  \n",
      "0          6.0    0.848656 -15.983027 -0.159830       1  \n",
      "1          4.0    0.665481 -18.134357 -0.215842       1  \n",
      "2          2.0    0.990099  -1.980198 -0.019802       1  \n",
      "3          4.0    0.000000  -0.970493 -0.009901       0  \n"
     ]
    }
   ],
   "source": [
    "print(positions['a'].losing.records)\n",
    "print(positions.losing['a'].records)\n",
    "print(positions.losing.records)"
   ]
  },
  {
   "cell_type": "code",
   "execution_count": 129,
   "metadata": {},
   "outputs": [
    {
     "name": "stdout",
     "output_type": "stream",
     "text": [
      "16.1 ms ± 2.07 ms per loop (mean ± std. dev. of 7 runs, 10 loops each)\n"
     ]
    }
   ],
   "source": [
    "%timeit big_positions.winning"
   ]
  },
  {
   "cell_type": "code",
   "execution_count": 130,
   "metadata": {},
   "outputs": [
    {
     "name": "stdout",
     "output_type": "stream",
     "text": [
      "17.3 ms ± 3.1 ms per loop (mean ± std. dev. of 7 runs, 10 loops each)\n"
     ]
    }
   ],
   "source": [
    "%timeit big_positions.losing"
   ]
  },
  {
   "cell_type": "code",
   "execution_count": 131,
   "metadata": {},
   "outputs": [
    {
     "name": "stdout",
     "output_type": "stream",
     "text": [
      "1.0\n",
      "a    1.0\n",
      "b    0.0\n",
      "c    1.0\n",
      "d    0.0\n",
      "dtype: float64\n",
      "22.8 ms ± 3.24 ms per loop (mean ± std. dev. of 7 runs, 10 loops each)\n"
     ]
    }
   ],
   "source": [
    "print(positions['a'].win_rate)\n",
    "print(positions.win_rate)\n",
    "\n",
    "%timeit big_positions.win_rate"
   ]
  },
  {
   "cell_type": "code",
   "execution_count": 132,
   "metadata": {},
   "outputs": [
    {
     "name": "stdout",
     "output_type": "stream",
     "text": [
      "inf\n",
      "a    inf\n",
      "b    0.0\n",
      "c    inf\n",
      "d    0.0\n",
      "dtype: float64\n"
     ]
    },
    {
     "name": "stderr",
     "output_type": "stream",
     "text": [
      "/Users/olegpolakow/Documents/SourceTree/vectorbt/vectorbt/records/events.py:347: RuntimeWarning:\n",
      "\n",
      "divide by zero encountered in true_divide\n",
      "\n"
     ]
    },
    {
     "name": "stdout",
     "output_type": "stream",
     "text": [
      "42.6 ms ± 3.61 ms per loop (mean ± std. dev. of 7 runs, 10 loops each)\n"
     ]
    }
   ],
   "source": [
    "print(positions['a'].profit_factor)\n",
    "print(positions.profit_factor)\n",
    "\n",
    "%timeit big_positions.profit_factor"
   ]
  },
  {
   "cell_type": "code",
   "execution_count": 133,
   "metadata": {},
   "outputs": [
    {
     "name": "stdout",
     "output_type": "stream",
     "text": [
      "39.673561410000005\n",
      "a     39.673561\n",
      "b    -17.058692\n",
      "c    338.197236\n",
      "d     -1.475346\n",
      "dtype: float64\n",
      "63.2 ms ± 5.59 ms per loop (mean ± std. dev. of 7 runs, 10 loops each)\n"
     ]
    }
   ],
   "source": [
    "print(positions['a'].expectancy)\n",
    "print(positions.expectancy)\n",
    "\n",
    "%timeit big_positions.expectancy"
   ]
  },
  {
   "cell_type": "code",
   "execution_count": 134,
   "metadata": {},
   "outputs": [
    {
     "name": "stdout",
     "output_type": "stream",
     "text": [
      "0    NaN\n",
      "1    NaN\n",
      "2    NaN\n",
      "3    1.0\n",
      "4    NaN\n",
      "5    NaN\n",
      "6    1.0\n",
      "Name: a, dtype: float64\n",
      "     a    b    c    d\n",
      "0  NaN  NaN  NaN  NaN\n",
      "1  NaN  NaN  1.0  NaN\n",
      "2  NaN  NaN  NaN  NaN\n",
      "3  1.0  1.0  NaN  NaN\n",
      "4  NaN  NaN  NaN  1.0\n",
      "5  NaN  1.0  NaN  NaN\n",
      "6  1.0  NaN  0.0  0.0\n",
      "5.39 ms ± 49.2 µs per loop (mean ± std. dev. of 7 runs, 100 loops each)\n"
     ]
    }
   ],
   "source": [
    "print(positions['a'].status)\n",
    "print(positions.status)\n",
    "\n",
    "%timeit big_positions.status"
   ]
  },
  {
   "cell_type": "code",
   "execution_count": 135,
   "metadata": {},
   "outputs": [
    {
     "name": "stdout",
     "output_type": "stream",
     "text": [
      "1.0\n",
      "a    1.0\n",
      "b    1.0\n",
      "c    0.5\n",
      "d    0.5\n",
      "dtype: float64\n",
      "31.6 ms ± 6.42 ms per loop (mean ± std. dev. of 7 runs, 10 loops each)\n"
     ]
    }
   ],
   "source": [
    "print(positions['a'].closed_rate)\n",
    "print(positions.closed_rate)\n",
    "\n",
    "%timeit big_positions.closed_rate"
   ]
  },
  {
   "cell_type": "code",
   "execution_count": 136,
   "metadata": {},
   "outputs": [
    {
     "name": "stdout",
     "output_type": "stream",
     "text": [
      "Empty DataFrame\n",
      "Columns: [col, idx, size, open_idx, open_price, open_fees, close_idx, close_price, close_fees, pnl, return, status]\n",
      "Index: []\n",
      "Empty DataFrame\n",
      "Columns: [col, idx, size, open_idx, open_price, open_fees, close_idx, close_price, close_fees, pnl, return, status]\n",
      "Index: []\n",
      "   col  idx        size  open_idx  open_price  open_fees  close_idx  \\\n",
      "0    2    6  194.098618         6         1.0   1.940986          6   \n",
      "1    3    6   24.262327         6         4.0   0.970493          6   \n",
      "\n",
      "   close_price  close_fees         pnl    return  status  \n",
      "0          4.0         0.0  580.354867  2.960396       0  \n",
      "1          4.0         0.0   -0.970493 -0.009901       0  \n"
     ]
    }
   ],
   "source": [
    "print(positions['a'].open.records)\n",
    "print(positions.open['a'].records)\n",
    "print(positions.open.records)"
   ]
  },
  {
   "cell_type": "code",
   "execution_count": 137,
   "metadata": {},
   "outputs": [
    {
     "name": "stdout",
     "output_type": "stream",
     "text": [
      "   col  idx       size  open_idx  open_price  open_fees  close_idx  \\\n",
      "0    0    3  33.003300         2         3.0   0.990099          3   \n",
      "1    0    6  25.879816         4         5.0   1.293991          6   \n",
      "\n",
      "   close_price  close_fees        pnl    return  status  \n",
      "0          4.0    1.320132  30.693069  0.306931       1  \n",
      "1          7.0    1.811587  48.654054  0.372277       1  \n",
      "   col  idx       size  open_idx  open_price  open_fees  close_idx  \\\n",
      "0    0    3  33.003300         2         3.0   0.990099          3   \n",
      "1    0    6  25.879816         4         5.0   1.293991          6   \n",
      "\n",
      "   close_price  close_fees        pnl    return  status  \n",
      "0          4.0    1.320132  30.693069  0.306931       1  \n",
      "1          7.0    1.811587  48.654054  0.372277       1  \n",
      "   col  idx       size  open_idx  open_price  open_fees  close_idx  \\\n",
      "0    0    3  33.003300         2         3.0   0.990099          3   \n",
      "1    0    6  25.879816         4         5.0   1.293991          6   \n",
      "2    1    3  14.144272         2         7.0   0.990099          3   \n",
      "3    1    5  16.637024         4         5.0   0.831851          5   \n",
      "4    2    1  99.009901         0         1.0   0.990099          1   \n",
      "5    3    4  49.504950         2         2.0   0.990099          4   \n",
      "\n",
      "   close_price  close_fees        pnl    return  status  \n",
      "0          4.0    1.320132  30.693069  0.306931       1  \n",
      "1          7.0    1.811587  48.654054  0.372277       1  \n",
      "2          6.0    0.848656 -15.983027 -0.159830       1  \n",
      "3          4.0    0.665481 -18.134357 -0.215842       1  \n",
      "4          2.0    1.980198  96.039604  0.960396       1  \n",
      "5          2.0    0.990099  -1.980198 -0.019802       1  \n"
     ]
    }
   ],
   "source": [
    "print(positions['a'].closed.records)\n",
    "print(positions.closed['a'].records)\n",
    "print(positions.closed.records)"
   ]
  },
  {
   "cell_type": "code",
   "execution_count": 138,
   "metadata": {},
   "outputs": [
    {
     "name": "stdout",
     "output_type": "stream",
     "text": [
      "3.09 ms ± 91.1 µs per loop (mean ± std. dev. of 7 runs, 100 loops each)\n"
     ]
    }
   ],
   "source": [
    "%timeit big_positions.open # less records"
   ]
  },
  {
   "cell_type": "code",
   "execution_count": 139,
   "metadata": {},
   "outputs": [
    {
     "name": "stdout",
     "output_type": "stream",
     "text": [
      "41.5 ms ± 1.06 ms per loop (mean ± std. dev. of 7 runs, 100 loops each)\n"
     ]
    }
   ],
   "source": [
    "%timeit big_positions.closed # almost all"
   ]
  },
  {
   "cell_type": "code",
   "execution_count": null,
   "metadata": {},
   "outputs": [],
   "source": []
  }
 ],
 "metadata": {
  "kernelspec": {
   "display_name": "Python 3",
   "language": "python",
   "name": "python3"
  },
  "language_info": {
   "codemirror_mode": {
    "name": "ipython",
    "version": 3
   },
   "file_extension": ".py",
   "mimetype": "text/x-python",
   "name": "python",
   "nbconvert_exporter": "python",
   "pygments_lexer": "ipython3",
   "version": "3.7.3"
  },
  "widgets": {
   "application/vnd.jupyter.widget-state+json": {
    "state": {
     "0acc060b30e14c588f23baa830c02bd4": {
      "buffers": [
       {
        "data": "AACAPwAAAEAAAEBAAAAAQAAAgD8AAABA",
        "encoding": "base64",
        "path": [
         "_data",
         0,
         "y",
         "value"
        ]
       },
       {
        "data": "AABAQA==",
        "encoding": "base64",
        "path": [
         "_data",
         1,
         "y",
         "value"
        ]
       },
       {
        "data": "AAAAQA==",
        "encoding": "base64",
        "path": [
         "_data",
         2,
         "y",
         "value"
        ]
       }
      ],
      "model_module": "plotlywidget",
      "model_module_version": "^4.8.0",
      "model_name": "FigureModel",
      "state": {
       "_config": {
        "plotlyServerURL": "https://plot.ly"
       },
       "_data": [
        {
         "mode": "lines",
         "name": "c",
         "showlegend": true,
         "type": "scatter",
         "uid": "d5d258ed-ab75-4a8d-b6f1-61b79ef3ab1e",
         "x": [
          0,
          1,
          2,
          3,
          4,
          5
         ],
         "y": {
          "dtype": "float32",
          "shape": [
           6
          ]
         }
        },
        {
         "marker": {
          "color": "#4285F4",
          "line": {
           "color": "rgb(11,84,205)",
           "width": 1
          },
          "size": 7,
          "symbol": "circle"
         },
         "mode": "markers",
         "name": "Peak",
         "type": "scatter",
         "uid": "2561b13b-eca5-4bf3-9e48-00315984779e",
         "x": [
          2
         ],
         "y": {
          "dtype": "float32",
          "shape": [
           1
          ]
         }
        },
        {
         "customdata": [
          [
           "-0.6666667",
           "1 day, 0:00:00"
          ]
         ],
         "hovertemplate": "(%{x}, %{y})<br>Drawdown: %{customdata[0]:.2%}<br>Duration: %{customdata[1]}",
         "marker": {
          "color": "#FFAA00",
          "line": {
           "color": "rgb(178,118,0)",
           "width": 1
          },
          "size": 7,
          "symbol": "circle"
         },
         "mode": "markers",
         "name": "Active",
         "type": "scatter",
         "uid": "e4f1b691-f0a8-4254-90c3-13887a86a5b0",
         "x": [
          5
         ],
         "y": {
          "dtype": "float32",
          "shape": [
           1
          ]
         }
        }
       ],
       "_js2py_layoutDelta": {},
       "_js2py_pointsCallback": {},
       "_js2py_relayout": {},
       "_js2py_restyle": {},
       "_js2py_traceDeltas": {},
       "_js2py_update": {},
       "_last_layout_edit_id": 5,
       "_last_trace_edit_id": 4,
       "_layout": {
        "autosize": false,
        "colorway": [
         "#1f77b4",
         "#ff7f0e",
         "#2ca02c",
         "#dc3912",
         "#9467bd",
         "#8c564b",
         "#e377c2",
         "#7f7f7f",
         "#bcbd22",
         "#17becf"
        ],
        "height": 300,
        "hovermode": "closest",
        "margin": {
         "b": 30,
         "t": 30
        },
        "shapes": [
         {
          "fillcolor": "#FFAA00",
          "layer": "below",
          "line": {
           "width": 0
          },
          "opacity": 0.15,
          "type": "rect",
          "x0": 2,
          "x1": 5,
          "xref": "x",
          "y0": 0,
          "y1": 1,
          "yref": "paper"
         }
        ],
        "template": {
         "data": {
          "bar": [
           {
            "error_x": {
             "color": "#2a3f5f"
            },
            "error_y": {
             "color": "#2a3f5f"
            },
            "marker": {
             "line": {
              "color": "#E5ECF6",
              "width": 0.5
             }
            },
            "type": "bar"
           }
          ],
          "barpolar": [
           {
            "marker": {
             "line": {
              "color": "#E5ECF6",
              "width": 0.5
             }
            },
            "type": "barpolar"
           }
          ],
          "carpet": [
           {
            "aaxis": {
             "endlinecolor": "#2a3f5f",
             "gridcolor": "white",
             "linecolor": "white",
             "minorgridcolor": "white",
             "startlinecolor": "#2a3f5f"
            },
            "baxis": {
             "endlinecolor": "#2a3f5f",
             "gridcolor": "white",
             "linecolor": "white",
             "minorgridcolor": "white",
             "startlinecolor": "#2a3f5f"
            },
            "type": "carpet"
           }
          ],
          "choropleth": [
           {
            "colorbar": {
             "outlinewidth": 0,
             "ticks": ""
            },
            "type": "choropleth"
           }
          ],
          "contour": [
           {
            "colorbar": {
             "outlinewidth": 0,
             "ticks": ""
            },
            "colorscale": [
             [
              0,
              "#0d0887"
             ],
             [
              0.1111111111111111,
              "#46039f"
             ],
             [
              0.2222222222222222,
              "#7201a8"
             ],
             [
              0.3333333333333333,
              "#9c179e"
             ],
             [
              0.4444444444444444,
              "#bd3786"
             ],
             [
              0.5555555555555556,
              "#d8576b"
             ],
             [
              0.6666666666666666,
              "#ed7953"
             ],
             [
              0.7777777777777778,
              "#fb9f3a"
             ],
             [
              0.8888888888888888,
              "#fdca26"
             ],
             [
              1,
              "#f0f921"
             ]
            ],
            "type": "contour"
           }
          ],
          "contourcarpet": [
           {
            "colorbar": {
             "outlinewidth": 0,
             "ticks": ""
            },
            "type": "contourcarpet"
           }
          ],
          "heatmap": [
           {
            "colorbar": {
             "outlinewidth": 0,
             "ticks": ""
            },
            "colorscale": [
             [
              0,
              "#0d0887"
             ],
             [
              0.1111111111111111,
              "#46039f"
             ],
             [
              0.2222222222222222,
              "#7201a8"
             ],
             [
              0.3333333333333333,
              "#9c179e"
             ],
             [
              0.4444444444444444,
              "#bd3786"
             ],
             [
              0.5555555555555556,
              "#d8576b"
             ],
             [
              0.6666666666666666,
              "#ed7953"
             ],
             [
              0.7777777777777778,
              "#fb9f3a"
             ],
             [
              0.8888888888888888,
              "#fdca26"
             ],
             [
              1,
              "#f0f921"
             ]
            ],
            "type": "heatmap"
           }
          ],
          "heatmapgl": [
           {
            "colorbar": {
             "outlinewidth": 0,
             "ticks": ""
            },
            "colorscale": [
             [
              0,
              "#0d0887"
             ],
             [
              0.1111111111111111,
              "#46039f"
             ],
             [
              0.2222222222222222,
              "#7201a8"
             ],
             [
              0.3333333333333333,
              "#9c179e"
             ],
             [
              0.4444444444444444,
              "#bd3786"
             ],
             [
              0.5555555555555556,
              "#d8576b"
             ],
             [
              0.6666666666666666,
              "#ed7953"
             ],
             [
              0.7777777777777778,
              "#fb9f3a"
             ],
             [
              0.8888888888888888,
              "#fdca26"
             ],
             [
              1,
              "#f0f921"
             ]
            ],
            "type": "heatmapgl"
           }
          ],
          "histogram": [
           {
            "marker": {
             "colorbar": {
              "outlinewidth": 0,
              "ticks": ""
             }
            },
            "type": "histogram"
           }
          ],
          "histogram2d": [
           {
            "colorbar": {
             "outlinewidth": 0,
             "ticks": ""
            },
            "colorscale": [
             [
              0,
              "#0d0887"
             ],
             [
              0.1111111111111111,
              "#46039f"
             ],
             [
              0.2222222222222222,
              "#7201a8"
             ],
             [
              0.3333333333333333,
              "#9c179e"
             ],
             [
              0.4444444444444444,
              "#bd3786"
             ],
             [
              0.5555555555555556,
              "#d8576b"
             ],
             [
              0.6666666666666666,
              "#ed7953"
             ],
             [
              0.7777777777777778,
              "#fb9f3a"
             ],
             [
              0.8888888888888888,
              "#fdca26"
             ],
             [
              1,
              "#f0f921"
             ]
            ],
            "type": "histogram2d"
           }
          ],
          "histogram2dcontour": [
           {
            "colorbar": {
             "outlinewidth": 0,
             "ticks": ""
            },
            "colorscale": [
             [
              0,
              "#0d0887"
             ],
             [
              0.1111111111111111,
              "#46039f"
             ],
             [
              0.2222222222222222,
              "#7201a8"
             ],
             [
              0.3333333333333333,
              "#9c179e"
             ],
             [
              0.4444444444444444,
              "#bd3786"
             ],
             [
              0.5555555555555556,
              "#d8576b"
             ],
             [
              0.6666666666666666,
              "#ed7953"
             ],
             [
              0.7777777777777778,
              "#fb9f3a"
             ],
             [
              0.8888888888888888,
              "#fdca26"
             ],
             [
              1,
              "#f0f921"
             ]
            ],
            "type": "histogram2dcontour"
           }
          ],
          "mesh3d": [
           {
            "colorbar": {
             "outlinewidth": 0,
             "ticks": ""
            },
            "type": "mesh3d"
           }
          ],
          "parcoords": [
           {
            "line": {
             "colorbar": {
              "outlinewidth": 0,
              "ticks": ""
             }
            },
            "type": "parcoords"
           }
          ],
          "pie": [
           {
            "automargin": true,
            "type": "pie"
           }
          ],
          "scatter": [
           {
            "marker": {
             "colorbar": {
              "outlinewidth": 0,
              "ticks": ""
             }
            },
            "type": "scatter"
           }
          ],
          "scatter3d": [
           {
            "line": {
             "colorbar": {
              "outlinewidth": 0,
              "ticks": ""
             }
            },
            "marker": {
             "colorbar": {
              "outlinewidth": 0,
              "ticks": ""
             }
            },
            "type": "scatter3d"
           }
          ],
          "scattercarpet": [
           {
            "marker": {
             "colorbar": {
              "outlinewidth": 0,
              "ticks": ""
             }
            },
            "type": "scattercarpet"
           }
          ],
          "scattergeo": [
           {
            "marker": {
             "colorbar": {
              "outlinewidth": 0,
              "ticks": ""
             }
            },
            "type": "scattergeo"
           }
          ],
          "scattergl": [
           {
            "marker": {
             "colorbar": {
              "outlinewidth": 0,
              "ticks": ""
             }
            },
            "type": "scattergl"
           }
          ],
          "scattermapbox": [
           {
            "marker": {
             "colorbar": {
              "outlinewidth": 0,
              "ticks": ""
             }
            },
            "type": "scattermapbox"
           }
          ],
          "scatterpolar": [
           {
            "marker": {
             "colorbar": {
              "outlinewidth": 0,
              "ticks": ""
             }
            },
            "type": "scatterpolar"
           }
          ],
          "scatterpolargl": [
           {
            "marker": {
             "colorbar": {
              "outlinewidth": 0,
              "ticks": ""
             }
            },
            "type": "scatterpolargl"
           }
          ],
          "scatterternary": [
           {
            "marker": {
             "colorbar": {
              "outlinewidth": 0,
              "ticks": ""
             }
            },
            "type": "scatterternary"
           }
          ],
          "surface": [
           {
            "colorbar": {
             "outlinewidth": 0,
             "ticks": ""
            },
            "colorscale": [
             [
              0,
              "#0d0887"
             ],
             [
              0.1111111111111111,
              "#46039f"
             ],
             [
              0.2222222222222222,
              "#7201a8"
             ],
             [
              0.3333333333333333,
              "#9c179e"
             ],
             [
              0.4444444444444444,
              "#bd3786"
             ],
             [
              0.5555555555555556,
              "#d8576b"
             ],
             [
              0.6666666666666666,
              "#ed7953"
             ],
             [
              0.7777777777777778,
              "#fb9f3a"
             ],
             [
              0.8888888888888888,
              "#fdca26"
             ],
             [
              1,
              "#f0f921"
             ]
            ],
            "type": "surface"
           }
          ],
          "table": [
           {
            "cells": {
             "fill": {
              "color": "#EBF0F8"
             },
             "line": {
              "color": "white"
             }
            },
            "header": {
             "fill": {
              "color": "#C8D4E3"
             },
             "line": {
              "color": "white"
             }
            },
            "type": "table"
           }
          ]
         },
         "layout": {
          "annotationdefaults": {
           "arrowcolor": "#2a3f5f",
           "arrowhead": 0,
           "arrowwidth": 1
          },
          "coloraxis": {
           "colorbar": {
            "outlinewidth": 0,
            "ticks": ""
           }
          },
          "colorscale": {
           "diverging": [
            [
             0,
             "#8e0152"
            ],
            [
             0.1,
             "#c51b7d"
            ],
            [
             0.2,
             "#de77ae"
            ],
            [
             0.3,
             "#f1b6da"
            ],
            [
             0.4,
             "#fde0ef"
            ],
            [
             0.5,
             "#f7f7f7"
            ],
            [
             0.6,
             "#e6f5d0"
            ],
            [
             0.7,
             "#b8e186"
            ],
            [
             0.8,
             "#7fbc41"
            ],
            [
             0.9,
             "#4d9221"
            ],
            [
             1,
             "#276419"
            ]
           ],
           "sequential": [
            [
             0,
             "#0d0887"
            ],
            [
             0.1111111111111111,
             "#46039f"
            ],
            [
             0.2222222222222222,
             "#7201a8"
            ],
            [
             0.3333333333333333,
             "#9c179e"
            ],
            [
             0.4444444444444444,
             "#bd3786"
            ],
            [
             0.5555555555555556,
             "#d8576b"
            ],
            [
             0.6666666666666666,
             "#ed7953"
            ],
            [
             0.7777777777777778,
             "#fb9f3a"
            ],
            [
             0.8888888888888888,
             "#fdca26"
            ],
            [
             1,
             "#f0f921"
            ]
           ],
           "sequentialminus": [
            [
             0,
             "#0d0887"
            ],
            [
             0.1111111111111111,
             "#46039f"
            ],
            [
             0.2222222222222222,
             "#7201a8"
            ],
            [
             0.3333333333333333,
             "#9c179e"
            ],
            [
             0.4444444444444444,
             "#bd3786"
            ],
            [
             0.5555555555555556,
             "#d8576b"
            ],
            [
             0.6666666666666666,
             "#ed7953"
            ],
            [
             0.7777777777777778,
             "#fb9f3a"
            ],
            [
             0.8888888888888888,
             "#fdca26"
            ],
            [
             1,
             "#f0f921"
            ]
           ]
          },
          "colorway": [
           "#636efa",
           "#EF553B",
           "#00cc96",
           "#ab63fa",
           "#FFA15A",
           "#19d3f3",
           "#FF6692",
           "#B6E880",
           "#FF97FF",
           "#FECB52"
          ],
          "font": {
           "color": "#2a3f5f"
          },
          "geo": {
           "bgcolor": "white",
           "lakecolor": "white",
           "landcolor": "#E5ECF6",
           "showlakes": true,
           "showland": true,
           "subunitcolor": "white"
          },
          "hoverlabel": {
           "align": "left"
          },
          "hovermode": "closest",
          "mapbox": {
           "style": "light"
          },
          "paper_bgcolor": "white",
          "plot_bgcolor": "#E5ECF6",
          "polar": {
           "angularaxis": {
            "gridcolor": "white",
            "linecolor": "white",
            "ticks": ""
           },
           "bgcolor": "#E5ECF6",
           "radialaxis": {
            "gridcolor": "white",
            "linecolor": "white",
            "ticks": ""
           }
          },
          "scene": {
           "xaxis": {
            "backgroundcolor": "#E5ECF6",
            "gridcolor": "white",
            "gridwidth": 2,
            "linecolor": "white",
            "showbackground": true,
            "ticks": "",
            "zerolinecolor": "white"
           },
           "yaxis": {
            "backgroundcolor": "#E5ECF6",
            "gridcolor": "white",
            "gridwidth": 2,
            "linecolor": "white",
            "showbackground": true,
            "ticks": "",
            "zerolinecolor": "white"
           },
           "zaxis": {
            "backgroundcolor": "#E5ECF6",
            "gridcolor": "white",
            "gridwidth": 2,
            "linecolor": "white",
            "showbackground": true,
            "ticks": "",
            "zerolinecolor": "white"
           }
          },
          "shapedefaults": {
           "line": {
            "color": "#2a3f5f"
           }
          },
          "ternary": {
           "aaxis": {
            "gridcolor": "white",
            "linecolor": "white",
            "ticks": ""
           },
           "baxis": {
            "gridcolor": "white",
            "linecolor": "white",
            "ticks": ""
           },
           "bgcolor": "#E5ECF6",
           "caxis": {
            "gridcolor": "white",
            "linecolor": "white",
            "ticks": ""
           }
          },
          "title": {
           "x": 0.05
          },
          "xaxis": {
           "automargin": true,
           "gridcolor": "white",
           "linecolor": "white",
           "ticks": "",
           "title": {
            "standoff": 15
           },
           "zerolinecolor": "white",
           "zerolinewidth": 2
          },
          "yaxis": {
           "automargin": true,
           "gridcolor": "white",
           "linecolor": "white",
           "ticks": "",
           "title": {
            "standoff": 15
           },
           "zerolinecolor": "white",
           "zerolinewidth": 2
          }
         }
        },
        "width": 700
       },
       "_model_module_version": "^4.8.0",
       "_py2js_animate": {},
       "_py2js_deleteTraces": {},
       "_py2js_moveTraces": {},
       "_py2js_removeLayoutProps": {},
       "_py2js_removeTraceProps": {},
       "_py2js_restyle": {},
       "_view_count": 0,
       "_view_module_version": "^4.8.0"
      }
     },
     "327ae53d9c404c44a26462e8f41475b7": {
      "buffers": [
       {
        "data": "AAAAQAAAgD8AAEBAAACAPwAAgEAAAIA/",
        "encoding": "base64",
        "path": [
         "_data",
         0,
         "y",
         "value"
        ]
       },
       {
        "data": "AAAAQA==",
        "encoding": "base64",
        "path": [
         "_data",
         1,
         "y",
         "value"
        ]
       },
       {
        "data": "AACAPwAAgD8=",
        "encoding": "base64",
        "path": [
         "_data",
         2,
         "y",
         "value"
        ]
       },
       {
        "data": "AABAQAAAgEA=",
        "encoding": "base64",
        "path": [
         "_data",
         3,
         "y",
         "value"
        ]
       },
       {
        "data": "AACAPw==",
        "encoding": "base64",
        "path": [
         "_data",
         4,
         "y",
         "value"
        ]
       }
      ],
      "model_module": "plotlywidget",
      "model_module_version": "^4.8.0",
      "model_name": "FigureModel",
      "state": {
       "_config": {
        "plotlyServerURL": "https://plot.ly"
       },
       "_data": [
        {
         "mode": "lines",
         "name": "a",
         "showlegend": true,
         "type": "scatter",
         "uid": "5121185e-7107-40ab-a574-cb8a163d894a",
         "x": [
          0,
          1,
          2,
          3,
          4,
          5
         ],
         "y": {
          "dtype": "float32",
          "shape": [
           6
          ]
         }
        },
        {
         "marker": {
          "color": "#4285F4",
          "line": {
           "color": "rgb(11,84,205)",
           "width": 1
          },
          "size": 7,
          "symbol": "circle"
         },
         "mode": "markers",
         "name": "Peak",
         "type": "scatter",
         "uid": "c6c86abe-6ea1-45bb-920c-9a78a0374234",
         "x": [
          0
         ],
         "y": {
          "dtype": "float32",
          "shape": [
           1
          ]
         }
        },
        {
         "customdata": [
          [
           "-0.5",
           "1 day, 0:00:00"
          ],
          [
           "-0.6666667",
           "1 day, 0:00:00"
          ]
         ],
         "hovertemplate": "(%{x}, %{y})<br>Drawdown: %{customdata[0]:.2%}<br>Duration: %{customdata[1]}",
         "marker": {
          "color": "#EA4335",
          "line": {
           "color": "rgb(181,31,18)",
           "width": 1
          },
          "size": 7,
          "symbol": "circle"
         },
         "mode": "markers",
         "name": "Valley",
         "type": "scatter",
         "uid": "5de7f753-8b14-431c-97de-5d105dbf5630",
         "x": [
          1,
          3
         ],
         "y": {
          "dtype": "float32",
          "shape": [
           2
          ]
         }
        },
        {
         "customdata": [
          [
           "2.0",
           "1 day, 0:00:00"
          ],
          [
           "3.0",
           "1 day, 0:00:00"
          ]
         ],
         "hovertemplate": "(%{x}, %{y})<br>Return: %{customdata[0]:.2%}<br>Duration: %{customdata[1]}",
         "marker": {
          "color": "#37B13F",
          "line": {
           "color": "rgb(38,123,44)",
           "width": 1
          },
          "size": 7,
          "symbol": "circle"
         },
         "mode": "markers",
         "name": "Recovery/Peak",
         "type": "scatter",
         "uid": "532140f9-585d-44fd-a4b9-0c84284341cd",
         "x": [
          2,
          4
         ],
         "y": {
          "dtype": "float32",
          "shape": [
           2
          ]
         }
        },
        {
         "customdata": [
          [
           "-0.75",
           "0:00:00"
          ]
         ],
         "hovertemplate": "(%{x}, %{y})<br>Drawdown: %{customdata[0]:.2%}<br>Duration: %{customdata[1]}",
         "marker": {
          "color": "#FFAA00",
          "line": {
           "color": "rgb(178,118,0)",
           "width": 1
          },
          "size": 7,
          "symbol": "circle"
         },
         "mode": "markers",
         "name": "Active",
         "type": "scatter",
         "uid": "ba097a34-3c40-4355-ab6c-636258cee1f5",
         "x": [
          5
         ],
         "y": {
          "dtype": "float32",
          "shape": [
           1
          ]
         }
        }
       ],
       "_js2py_layoutDelta": {},
       "_js2py_pointsCallback": {},
       "_js2py_relayout": {},
       "_js2py_restyle": {},
       "_js2py_traceDeltas": {},
       "_js2py_update": {},
       "_last_layout_edit_id": 11,
       "_last_trace_edit_id": 6,
       "_layout": {
        "autosize": false,
        "colorway": [
         "#1f77b4",
         "#ff7f0e",
         "#2ca02c",
         "#dc3912",
         "#9467bd",
         "#8c564b",
         "#e377c2",
         "#7f7f7f",
         "#bcbd22",
         "#17becf"
        ],
        "height": 300,
        "hovermode": "closest",
        "margin": {
         "b": 30,
         "t": 30
        },
        "shapes": [
         {
          "fillcolor": "#EA4335",
          "layer": "below",
          "line": {
           "width": 0
          },
          "opacity": 0.15,
          "type": "rect",
          "x0": 0,
          "x1": 1,
          "xref": "x",
          "y0": 0,
          "y1": 1,
          "yref": "paper"
         },
         {
          "fillcolor": "#EA4335",
          "layer": "below",
          "line": {
           "width": 0
          },
          "opacity": 0.15,
          "type": "rect",
          "x0": 2,
          "x1": 3,
          "xref": "x",
          "y0": 0,
          "y1": 1,
          "yref": "paper"
         },
         {
          "fillcolor": "#37B13F",
          "layer": "below",
          "line": {
           "width": 0
          },
          "opacity": 0.15,
          "type": "rect",
          "x0": 1,
          "x1": 2,
          "xref": "x",
          "y0": 0,
          "y1": 1,
          "yref": "paper"
         },
         {
          "fillcolor": "#37B13F",
          "layer": "below",
          "line": {
           "width": 0
          },
          "opacity": 0.15,
          "type": "rect",
          "x0": 3,
          "x1": 4,
          "xref": "x",
          "y0": 0,
          "y1": 1,
          "yref": "paper"
         },
         {
          "fillcolor": "#FFAA00",
          "layer": "below",
          "line": {
           "width": 0
          },
          "opacity": 0.15,
          "type": "rect",
          "x0": 4,
          "x1": 5,
          "xref": "x",
          "y0": 0,
          "y1": 1,
          "yref": "paper"
         }
        ],
        "template": {
         "data": {
          "bar": [
           {
            "error_x": {
             "color": "#2a3f5f"
            },
            "error_y": {
             "color": "#2a3f5f"
            },
            "marker": {
             "line": {
              "color": "#E5ECF6",
              "width": 0.5
             }
            },
            "type": "bar"
           }
          ],
          "barpolar": [
           {
            "marker": {
             "line": {
              "color": "#E5ECF6",
              "width": 0.5
             }
            },
            "type": "barpolar"
           }
          ],
          "carpet": [
           {
            "aaxis": {
             "endlinecolor": "#2a3f5f",
             "gridcolor": "white",
             "linecolor": "white",
             "minorgridcolor": "white",
             "startlinecolor": "#2a3f5f"
            },
            "baxis": {
             "endlinecolor": "#2a3f5f",
             "gridcolor": "white",
             "linecolor": "white",
             "minorgridcolor": "white",
             "startlinecolor": "#2a3f5f"
            },
            "type": "carpet"
           }
          ],
          "choropleth": [
           {
            "colorbar": {
             "outlinewidth": 0,
             "ticks": ""
            },
            "type": "choropleth"
           }
          ],
          "contour": [
           {
            "colorbar": {
             "outlinewidth": 0,
             "ticks": ""
            },
            "colorscale": [
             [
              0,
              "#0d0887"
             ],
             [
              0.1111111111111111,
              "#46039f"
             ],
             [
              0.2222222222222222,
              "#7201a8"
             ],
             [
              0.3333333333333333,
              "#9c179e"
             ],
             [
              0.4444444444444444,
              "#bd3786"
             ],
             [
              0.5555555555555556,
              "#d8576b"
             ],
             [
              0.6666666666666666,
              "#ed7953"
             ],
             [
              0.7777777777777778,
              "#fb9f3a"
             ],
             [
              0.8888888888888888,
              "#fdca26"
             ],
             [
              1,
              "#f0f921"
             ]
            ],
            "type": "contour"
           }
          ],
          "contourcarpet": [
           {
            "colorbar": {
             "outlinewidth": 0,
             "ticks": ""
            },
            "type": "contourcarpet"
           }
          ],
          "heatmap": [
           {
            "colorbar": {
             "outlinewidth": 0,
             "ticks": ""
            },
            "colorscale": [
             [
              0,
              "#0d0887"
             ],
             [
              0.1111111111111111,
              "#46039f"
             ],
             [
              0.2222222222222222,
              "#7201a8"
             ],
             [
              0.3333333333333333,
              "#9c179e"
             ],
             [
              0.4444444444444444,
              "#bd3786"
             ],
             [
              0.5555555555555556,
              "#d8576b"
             ],
             [
              0.6666666666666666,
              "#ed7953"
             ],
             [
              0.7777777777777778,
              "#fb9f3a"
             ],
             [
              0.8888888888888888,
              "#fdca26"
             ],
             [
              1,
              "#f0f921"
             ]
            ],
            "type": "heatmap"
           }
          ],
          "heatmapgl": [
           {
            "colorbar": {
             "outlinewidth": 0,
             "ticks": ""
            },
            "colorscale": [
             [
              0,
              "#0d0887"
             ],
             [
              0.1111111111111111,
              "#46039f"
             ],
             [
              0.2222222222222222,
              "#7201a8"
             ],
             [
              0.3333333333333333,
              "#9c179e"
             ],
             [
              0.4444444444444444,
              "#bd3786"
             ],
             [
              0.5555555555555556,
              "#d8576b"
             ],
             [
              0.6666666666666666,
              "#ed7953"
             ],
             [
              0.7777777777777778,
              "#fb9f3a"
             ],
             [
              0.8888888888888888,
              "#fdca26"
             ],
             [
              1,
              "#f0f921"
             ]
            ],
            "type": "heatmapgl"
           }
          ],
          "histogram": [
           {
            "marker": {
             "colorbar": {
              "outlinewidth": 0,
              "ticks": ""
             }
            },
            "type": "histogram"
           }
          ],
          "histogram2d": [
           {
            "colorbar": {
             "outlinewidth": 0,
             "ticks": ""
            },
            "colorscale": [
             [
              0,
              "#0d0887"
             ],
             [
              0.1111111111111111,
              "#46039f"
             ],
             [
              0.2222222222222222,
              "#7201a8"
             ],
             [
              0.3333333333333333,
              "#9c179e"
             ],
             [
              0.4444444444444444,
              "#bd3786"
             ],
             [
              0.5555555555555556,
              "#d8576b"
             ],
             [
              0.6666666666666666,
              "#ed7953"
             ],
             [
              0.7777777777777778,
              "#fb9f3a"
             ],
             [
              0.8888888888888888,
              "#fdca26"
             ],
             [
              1,
              "#f0f921"
             ]
            ],
            "type": "histogram2d"
           }
          ],
          "histogram2dcontour": [
           {
            "colorbar": {
             "outlinewidth": 0,
             "ticks": ""
            },
            "colorscale": [
             [
              0,
              "#0d0887"
             ],
             [
              0.1111111111111111,
              "#46039f"
             ],
             [
              0.2222222222222222,
              "#7201a8"
             ],
             [
              0.3333333333333333,
              "#9c179e"
             ],
             [
              0.4444444444444444,
              "#bd3786"
             ],
             [
              0.5555555555555556,
              "#d8576b"
             ],
             [
              0.6666666666666666,
              "#ed7953"
             ],
             [
              0.7777777777777778,
              "#fb9f3a"
             ],
             [
              0.8888888888888888,
              "#fdca26"
             ],
             [
              1,
              "#f0f921"
             ]
            ],
            "type": "histogram2dcontour"
           }
          ],
          "mesh3d": [
           {
            "colorbar": {
             "outlinewidth": 0,
             "ticks": ""
            },
            "type": "mesh3d"
           }
          ],
          "parcoords": [
           {
            "line": {
             "colorbar": {
              "outlinewidth": 0,
              "ticks": ""
             }
            },
            "type": "parcoords"
           }
          ],
          "pie": [
           {
            "automargin": true,
            "type": "pie"
           }
          ],
          "scatter": [
           {
            "marker": {
             "colorbar": {
              "outlinewidth": 0,
              "ticks": ""
             }
            },
            "type": "scatter"
           }
          ],
          "scatter3d": [
           {
            "line": {
             "colorbar": {
              "outlinewidth": 0,
              "ticks": ""
             }
            },
            "marker": {
             "colorbar": {
              "outlinewidth": 0,
              "ticks": ""
             }
            },
            "type": "scatter3d"
           }
          ],
          "scattercarpet": [
           {
            "marker": {
             "colorbar": {
              "outlinewidth": 0,
              "ticks": ""
             }
            },
            "type": "scattercarpet"
           }
          ],
          "scattergeo": [
           {
            "marker": {
             "colorbar": {
              "outlinewidth": 0,
              "ticks": ""
             }
            },
            "type": "scattergeo"
           }
          ],
          "scattergl": [
           {
            "marker": {
             "colorbar": {
              "outlinewidth": 0,
              "ticks": ""
             }
            },
            "type": "scattergl"
           }
          ],
          "scattermapbox": [
           {
            "marker": {
             "colorbar": {
              "outlinewidth": 0,
              "ticks": ""
             }
            },
            "type": "scattermapbox"
           }
          ],
          "scatterpolar": [
           {
            "marker": {
             "colorbar": {
              "outlinewidth": 0,
              "ticks": ""
             }
            },
            "type": "scatterpolar"
           }
          ],
          "scatterpolargl": [
           {
            "marker": {
             "colorbar": {
              "outlinewidth": 0,
              "ticks": ""
             }
            },
            "type": "scatterpolargl"
           }
          ],
          "scatterternary": [
           {
            "marker": {
             "colorbar": {
              "outlinewidth": 0,
              "ticks": ""
             }
            },
            "type": "scatterternary"
           }
          ],
          "surface": [
           {
            "colorbar": {
             "outlinewidth": 0,
             "ticks": ""
            },
            "colorscale": [
             [
              0,
              "#0d0887"
             ],
             [
              0.1111111111111111,
              "#46039f"
             ],
             [
              0.2222222222222222,
              "#7201a8"
             ],
             [
              0.3333333333333333,
              "#9c179e"
             ],
             [
              0.4444444444444444,
              "#bd3786"
             ],
             [
              0.5555555555555556,
              "#d8576b"
             ],
             [
              0.6666666666666666,
              "#ed7953"
             ],
             [
              0.7777777777777778,
              "#fb9f3a"
             ],
             [
              0.8888888888888888,
              "#fdca26"
             ],
             [
              1,
              "#f0f921"
             ]
            ],
            "type": "surface"
           }
          ],
          "table": [
           {
            "cells": {
             "fill": {
              "color": "#EBF0F8"
             },
             "line": {
              "color": "white"
             }
            },
            "header": {
             "fill": {
              "color": "#C8D4E3"
             },
             "line": {
              "color": "white"
             }
            },
            "type": "table"
           }
          ]
         },
         "layout": {
          "annotationdefaults": {
           "arrowcolor": "#2a3f5f",
           "arrowhead": 0,
           "arrowwidth": 1
          },
          "coloraxis": {
           "colorbar": {
            "outlinewidth": 0,
            "ticks": ""
           }
          },
          "colorscale": {
           "diverging": [
            [
             0,
             "#8e0152"
            ],
            [
             0.1,
             "#c51b7d"
            ],
            [
             0.2,
             "#de77ae"
            ],
            [
             0.3,
             "#f1b6da"
            ],
            [
             0.4,
             "#fde0ef"
            ],
            [
             0.5,
             "#f7f7f7"
            ],
            [
             0.6,
             "#e6f5d0"
            ],
            [
             0.7,
             "#b8e186"
            ],
            [
             0.8,
             "#7fbc41"
            ],
            [
             0.9,
             "#4d9221"
            ],
            [
             1,
             "#276419"
            ]
           ],
           "sequential": [
            [
             0,
             "#0d0887"
            ],
            [
             0.1111111111111111,
             "#46039f"
            ],
            [
             0.2222222222222222,
             "#7201a8"
            ],
            [
             0.3333333333333333,
             "#9c179e"
            ],
            [
             0.4444444444444444,
             "#bd3786"
            ],
            [
             0.5555555555555556,
             "#d8576b"
            ],
            [
             0.6666666666666666,
             "#ed7953"
            ],
            [
             0.7777777777777778,
             "#fb9f3a"
            ],
            [
             0.8888888888888888,
             "#fdca26"
            ],
            [
             1,
             "#f0f921"
            ]
           ],
           "sequentialminus": [
            [
             0,
             "#0d0887"
            ],
            [
             0.1111111111111111,
             "#46039f"
            ],
            [
             0.2222222222222222,
             "#7201a8"
            ],
            [
             0.3333333333333333,
             "#9c179e"
            ],
            [
             0.4444444444444444,
             "#bd3786"
            ],
            [
             0.5555555555555556,
             "#d8576b"
            ],
            [
             0.6666666666666666,
             "#ed7953"
            ],
            [
             0.7777777777777778,
             "#fb9f3a"
            ],
            [
             0.8888888888888888,
             "#fdca26"
            ],
            [
             1,
             "#f0f921"
            ]
           ]
          },
          "colorway": [
           "#636efa",
           "#EF553B",
           "#00cc96",
           "#ab63fa",
           "#FFA15A",
           "#19d3f3",
           "#FF6692",
           "#B6E880",
           "#FF97FF",
           "#FECB52"
          ],
          "font": {
           "color": "#2a3f5f"
          },
          "geo": {
           "bgcolor": "white",
           "lakecolor": "white",
           "landcolor": "#E5ECF6",
           "showlakes": true,
           "showland": true,
           "subunitcolor": "white"
          },
          "hoverlabel": {
           "align": "left"
          },
          "hovermode": "closest",
          "mapbox": {
           "style": "light"
          },
          "paper_bgcolor": "white",
          "plot_bgcolor": "#E5ECF6",
          "polar": {
           "angularaxis": {
            "gridcolor": "white",
            "linecolor": "white",
            "ticks": ""
           },
           "bgcolor": "#E5ECF6",
           "radialaxis": {
            "gridcolor": "white",
            "linecolor": "white",
            "ticks": ""
           }
          },
          "scene": {
           "xaxis": {
            "backgroundcolor": "#E5ECF6",
            "gridcolor": "white",
            "gridwidth": 2,
            "linecolor": "white",
            "showbackground": true,
            "ticks": "",
            "zerolinecolor": "white"
           },
           "yaxis": {
            "backgroundcolor": "#E5ECF6",
            "gridcolor": "white",
            "gridwidth": 2,
            "linecolor": "white",
            "showbackground": true,
            "ticks": "",
            "zerolinecolor": "white"
           },
           "zaxis": {
            "backgroundcolor": "#E5ECF6",
            "gridcolor": "white",
            "gridwidth": 2,
            "linecolor": "white",
            "showbackground": true,
            "ticks": "",
            "zerolinecolor": "white"
           }
          },
          "shapedefaults": {
           "line": {
            "color": "#2a3f5f"
           }
          },
          "ternary": {
           "aaxis": {
            "gridcolor": "white",
            "linecolor": "white",
            "ticks": ""
           },
           "baxis": {
            "gridcolor": "white",
            "linecolor": "white",
            "ticks": ""
           },
           "bgcolor": "#E5ECF6",
           "caxis": {
            "gridcolor": "white",
            "linecolor": "white",
            "ticks": ""
           }
          },
          "title": {
           "x": 0.05
          },
          "xaxis": {
           "automargin": true,
           "gridcolor": "white",
           "linecolor": "white",
           "ticks": "",
           "title": {
            "standoff": 15
           },
           "zerolinecolor": "white",
           "zerolinewidth": 2
          },
          "yaxis": {
           "automargin": true,
           "gridcolor": "white",
           "linecolor": "white",
           "ticks": "",
           "title": {
            "standoff": 15
           },
           "zerolinecolor": "white",
           "zerolinewidth": 2
          }
         }
        },
        "width": 700
       },
       "_model_module_version": "^4.8.0",
       "_py2js_animate": {},
       "_py2js_deleteTraces": {},
       "_py2js_moveTraces": {},
       "_py2js_removeLayoutProps": {},
       "_py2js_removeTraceProps": {},
       "_py2js_restyle": {},
       "_view_count": 0,
       "_view_module_version": "^4.8.0"
      }
     },
     "48334e4322f74c22a1471f7b6d795e53": {
      "buffers": [
       {
        "data": "AAAAAAAA8D8AAAAAAAAAQAAAAAAAAAhAAAAAAAAAEEAAAAAAAAAUQAAAAAAAABhAAAAAAAAAHEA=",
        "encoding": "base64",
        "path": [
         "_data",
         0,
         "y",
         "value"
        ]
       },
       {
        "data": "AAAAAAAACEAAAAAAAAAUQA==",
        "encoding": "base64",
        "path": [
         "_data",
         1,
         "y",
         "value"
        ]
       },
       {
        "data": "AAAAAAAAEEAAAAAAAAAcQA==",
        "encoding": "base64",
        "path": [
         "_data",
         2,
         "y",
         "value"
        ]
       }
      ],
      "model_module": "plotlywidget",
      "model_module_version": "^4.8.0",
      "model_name": "FigureModel",
      "state": {
       "_config": {
        "plotlyServerURL": "https://plot.ly"
       },
       "_data": [
        {
         "mode": "lines",
         "name": "a",
         "showlegend": true,
         "type": "scatter",
         "uid": "78937fd4-9cd6-4d11-9ebf-835f43195ea6",
         "x": [
          0,
          1,
          2,
          3,
          4,
          5,
          6
         ],
         "y": {
          "dtype": "float64",
          "shape": [
           7
          ]
         }
        },
        {
         "customdata": [
          [
           33.00330033,
           0.99009901
          ],
          [
           25.8798157,
           1.29399079
          ]
         ],
         "hovertemplate": "%{x}<br>Price: %{y}<br>Size: %{customdata[0]}<br>Fees: %{customdata[1]}",
         "marker": {
          "color": "#37B13F",
          "line": {
           "color": "rgb(38,123,44)",
           "width": 1
          },
          "size": 7,
          "symbol": "circle"
         },
         "mode": "markers",
         "name": "Buy",
         "type": "scatter",
         "uid": "dab99f07-85db-4dfa-9152-141dd2d36155",
         "x": [
          2,
          4
         ],
         "y": {
          "dtype": "float64",
          "shape": [
           2
          ]
         }
        },
        {
         "customdata": [
          [
           33.00330033,
           1.32013201
          ],
          [
           25.8798157,
           1.8115871
          ]
         ],
         "hovertemplate": "%{x}<br>Price: %{y}<br>Size: %{customdata[0]}<br>Fees: %{customdata[1]}",
         "marker": {
          "color": "#FFAA00",
          "line": {
           "color": "rgb(178,118,0)",
           "width": 1
          },
          "size": 7,
          "symbol": "circle"
         },
         "mode": "markers",
         "name": "Sell",
         "type": "scatter",
         "uid": "59efe947-c6de-45be-a6ab-617cbe93bb91",
         "x": [
          3,
          6
         ],
         "y": {
          "dtype": "float64",
          "shape": [
           2
          ]
         }
        }
       ],
       "_js2py_layoutDelta": {},
       "_js2py_pointsCallback": {},
       "_js2py_relayout": {},
       "_js2py_restyle": {},
       "_js2py_traceDeltas": {},
       "_js2py_update": {},
       "_last_layout_edit_id": 4,
       "_last_trace_edit_id": 4,
       "_layout": {
        "autosize": false,
        "colorway": [
         "#1f77b4",
         "#ff7f0e",
         "#2ca02c",
         "#dc3912",
         "#9467bd",
         "#8c564b",
         "#e377c2",
         "#7f7f7f",
         "#bcbd22",
         "#17becf"
        ],
        "height": 300,
        "hovermode": "closest",
        "margin": {
         "b": 30,
         "t": 30
        },
        "template": {
         "data": {
          "bar": [
           {
            "error_x": {
             "color": "#2a3f5f"
            },
            "error_y": {
             "color": "#2a3f5f"
            },
            "marker": {
             "line": {
              "color": "#E5ECF6",
              "width": 0.5
             }
            },
            "type": "bar"
           }
          ],
          "barpolar": [
           {
            "marker": {
             "line": {
              "color": "#E5ECF6",
              "width": 0.5
             }
            },
            "type": "barpolar"
           }
          ],
          "carpet": [
           {
            "aaxis": {
             "endlinecolor": "#2a3f5f",
             "gridcolor": "white",
             "linecolor": "white",
             "minorgridcolor": "white",
             "startlinecolor": "#2a3f5f"
            },
            "baxis": {
             "endlinecolor": "#2a3f5f",
             "gridcolor": "white",
             "linecolor": "white",
             "minorgridcolor": "white",
             "startlinecolor": "#2a3f5f"
            },
            "type": "carpet"
           }
          ],
          "choropleth": [
           {
            "colorbar": {
             "outlinewidth": 0,
             "ticks": ""
            },
            "type": "choropleth"
           }
          ],
          "contour": [
           {
            "colorbar": {
             "outlinewidth": 0,
             "ticks": ""
            },
            "colorscale": [
             [
              0,
              "#0d0887"
             ],
             [
              0.1111111111111111,
              "#46039f"
             ],
             [
              0.2222222222222222,
              "#7201a8"
             ],
             [
              0.3333333333333333,
              "#9c179e"
             ],
             [
              0.4444444444444444,
              "#bd3786"
             ],
             [
              0.5555555555555556,
              "#d8576b"
             ],
             [
              0.6666666666666666,
              "#ed7953"
             ],
             [
              0.7777777777777778,
              "#fb9f3a"
             ],
             [
              0.8888888888888888,
              "#fdca26"
             ],
             [
              1,
              "#f0f921"
             ]
            ],
            "type": "contour"
           }
          ],
          "contourcarpet": [
           {
            "colorbar": {
             "outlinewidth": 0,
             "ticks": ""
            },
            "type": "contourcarpet"
           }
          ],
          "heatmap": [
           {
            "colorbar": {
             "outlinewidth": 0,
             "ticks": ""
            },
            "colorscale": [
             [
              0,
              "#0d0887"
             ],
             [
              0.1111111111111111,
              "#46039f"
             ],
             [
              0.2222222222222222,
              "#7201a8"
             ],
             [
              0.3333333333333333,
              "#9c179e"
             ],
             [
              0.4444444444444444,
              "#bd3786"
             ],
             [
              0.5555555555555556,
              "#d8576b"
             ],
             [
              0.6666666666666666,
              "#ed7953"
             ],
             [
              0.7777777777777778,
              "#fb9f3a"
             ],
             [
              0.8888888888888888,
              "#fdca26"
             ],
             [
              1,
              "#f0f921"
             ]
            ],
            "type": "heatmap"
           }
          ],
          "heatmapgl": [
           {
            "colorbar": {
             "outlinewidth": 0,
             "ticks": ""
            },
            "colorscale": [
             [
              0,
              "#0d0887"
             ],
             [
              0.1111111111111111,
              "#46039f"
             ],
             [
              0.2222222222222222,
              "#7201a8"
             ],
             [
              0.3333333333333333,
              "#9c179e"
             ],
             [
              0.4444444444444444,
              "#bd3786"
             ],
             [
              0.5555555555555556,
              "#d8576b"
             ],
             [
              0.6666666666666666,
              "#ed7953"
             ],
             [
              0.7777777777777778,
              "#fb9f3a"
             ],
             [
              0.8888888888888888,
              "#fdca26"
             ],
             [
              1,
              "#f0f921"
             ]
            ],
            "type": "heatmapgl"
           }
          ],
          "histogram": [
           {
            "marker": {
             "colorbar": {
              "outlinewidth": 0,
              "ticks": ""
             }
            },
            "type": "histogram"
           }
          ],
          "histogram2d": [
           {
            "colorbar": {
             "outlinewidth": 0,
             "ticks": ""
            },
            "colorscale": [
             [
              0,
              "#0d0887"
             ],
             [
              0.1111111111111111,
              "#46039f"
             ],
             [
              0.2222222222222222,
              "#7201a8"
             ],
             [
              0.3333333333333333,
              "#9c179e"
             ],
             [
              0.4444444444444444,
              "#bd3786"
             ],
             [
              0.5555555555555556,
              "#d8576b"
             ],
             [
              0.6666666666666666,
              "#ed7953"
             ],
             [
              0.7777777777777778,
              "#fb9f3a"
             ],
             [
              0.8888888888888888,
              "#fdca26"
             ],
             [
              1,
              "#f0f921"
             ]
            ],
            "type": "histogram2d"
           }
          ],
          "histogram2dcontour": [
           {
            "colorbar": {
             "outlinewidth": 0,
             "ticks": ""
            },
            "colorscale": [
             [
              0,
              "#0d0887"
             ],
             [
              0.1111111111111111,
              "#46039f"
             ],
             [
              0.2222222222222222,
              "#7201a8"
             ],
             [
              0.3333333333333333,
              "#9c179e"
             ],
             [
              0.4444444444444444,
              "#bd3786"
             ],
             [
              0.5555555555555556,
              "#d8576b"
             ],
             [
              0.6666666666666666,
              "#ed7953"
             ],
             [
              0.7777777777777778,
              "#fb9f3a"
             ],
             [
              0.8888888888888888,
              "#fdca26"
             ],
             [
              1,
              "#f0f921"
             ]
            ],
            "type": "histogram2dcontour"
           }
          ],
          "mesh3d": [
           {
            "colorbar": {
             "outlinewidth": 0,
             "ticks": ""
            },
            "type": "mesh3d"
           }
          ],
          "parcoords": [
           {
            "line": {
             "colorbar": {
              "outlinewidth": 0,
              "ticks": ""
             }
            },
            "type": "parcoords"
           }
          ],
          "pie": [
           {
            "automargin": true,
            "type": "pie"
           }
          ],
          "scatter": [
           {
            "marker": {
             "colorbar": {
              "outlinewidth": 0,
              "ticks": ""
             }
            },
            "type": "scatter"
           }
          ],
          "scatter3d": [
           {
            "line": {
             "colorbar": {
              "outlinewidth": 0,
              "ticks": ""
             }
            },
            "marker": {
             "colorbar": {
              "outlinewidth": 0,
              "ticks": ""
             }
            },
            "type": "scatter3d"
           }
          ],
          "scattercarpet": [
           {
            "marker": {
             "colorbar": {
              "outlinewidth": 0,
              "ticks": ""
             }
            },
            "type": "scattercarpet"
           }
          ],
          "scattergeo": [
           {
            "marker": {
             "colorbar": {
              "outlinewidth": 0,
              "ticks": ""
             }
            },
            "type": "scattergeo"
           }
          ],
          "scattergl": [
           {
            "marker": {
             "colorbar": {
              "outlinewidth": 0,
              "ticks": ""
             }
            },
            "type": "scattergl"
           }
          ],
          "scattermapbox": [
           {
            "marker": {
             "colorbar": {
              "outlinewidth": 0,
              "ticks": ""
             }
            },
            "type": "scattermapbox"
           }
          ],
          "scatterpolar": [
           {
            "marker": {
             "colorbar": {
              "outlinewidth": 0,
              "ticks": ""
             }
            },
            "type": "scatterpolar"
           }
          ],
          "scatterpolargl": [
           {
            "marker": {
             "colorbar": {
              "outlinewidth": 0,
              "ticks": ""
             }
            },
            "type": "scatterpolargl"
           }
          ],
          "scatterternary": [
           {
            "marker": {
             "colorbar": {
              "outlinewidth": 0,
              "ticks": ""
             }
            },
            "type": "scatterternary"
           }
          ],
          "surface": [
           {
            "colorbar": {
             "outlinewidth": 0,
             "ticks": ""
            },
            "colorscale": [
             [
              0,
              "#0d0887"
             ],
             [
              0.1111111111111111,
              "#46039f"
             ],
             [
              0.2222222222222222,
              "#7201a8"
             ],
             [
              0.3333333333333333,
              "#9c179e"
             ],
             [
              0.4444444444444444,
              "#bd3786"
             ],
             [
              0.5555555555555556,
              "#d8576b"
             ],
             [
              0.6666666666666666,
              "#ed7953"
             ],
             [
              0.7777777777777778,
              "#fb9f3a"
             ],
             [
              0.8888888888888888,
              "#fdca26"
             ],
             [
              1,
              "#f0f921"
             ]
            ],
            "type": "surface"
           }
          ],
          "table": [
           {
            "cells": {
             "fill": {
              "color": "#EBF0F8"
             },
             "line": {
              "color": "white"
             }
            },
            "header": {
             "fill": {
              "color": "#C8D4E3"
             },
             "line": {
              "color": "white"
             }
            },
            "type": "table"
           }
          ]
         },
         "layout": {
          "annotationdefaults": {
           "arrowcolor": "#2a3f5f",
           "arrowhead": 0,
           "arrowwidth": 1
          },
          "coloraxis": {
           "colorbar": {
            "outlinewidth": 0,
            "ticks": ""
           }
          },
          "colorscale": {
           "diverging": [
            [
             0,
             "#8e0152"
            ],
            [
             0.1,
             "#c51b7d"
            ],
            [
             0.2,
             "#de77ae"
            ],
            [
             0.3,
             "#f1b6da"
            ],
            [
             0.4,
             "#fde0ef"
            ],
            [
             0.5,
             "#f7f7f7"
            ],
            [
             0.6,
             "#e6f5d0"
            ],
            [
             0.7,
             "#b8e186"
            ],
            [
             0.8,
             "#7fbc41"
            ],
            [
             0.9,
             "#4d9221"
            ],
            [
             1,
             "#276419"
            ]
           ],
           "sequential": [
            [
             0,
             "#0d0887"
            ],
            [
             0.1111111111111111,
             "#46039f"
            ],
            [
             0.2222222222222222,
             "#7201a8"
            ],
            [
             0.3333333333333333,
             "#9c179e"
            ],
            [
             0.4444444444444444,
             "#bd3786"
            ],
            [
             0.5555555555555556,
             "#d8576b"
            ],
            [
             0.6666666666666666,
             "#ed7953"
            ],
            [
             0.7777777777777778,
             "#fb9f3a"
            ],
            [
             0.8888888888888888,
             "#fdca26"
            ],
            [
             1,
             "#f0f921"
            ]
           ],
           "sequentialminus": [
            [
             0,
             "#0d0887"
            ],
            [
             0.1111111111111111,
             "#46039f"
            ],
            [
             0.2222222222222222,
             "#7201a8"
            ],
            [
             0.3333333333333333,
             "#9c179e"
            ],
            [
             0.4444444444444444,
             "#bd3786"
            ],
            [
             0.5555555555555556,
             "#d8576b"
            ],
            [
             0.6666666666666666,
             "#ed7953"
            ],
            [
             0.7777777777777778,
             "#fb9f3a"
            ],
            [
             0.8888888888888888,
             "#fdca26"
            ],
            [
             1,
             "#f0f921"
            ]
           ]
          },
          "colorway": [
           "#636efa",
           "#EF553B",
           "#00cc96",
           "#ab63fa",
           "#FFA15A",
           "#19d3f3",
           "#FF6692",
           "#B6E880",
           "#FF97FF",
           "#FECB52"
          ],
          "font": {
           "color": "#2a3f5f"
          },
          "geo": {
           "bgcolor": "white",
           "lakecolor": "white",
           "landcolor": "#E5ECF6",
           "showlakes": true,
           "showland": true,
           "subunitcolor": "white"
          },
          "hoverlabel": {
           "align": "left"
          },
          "hovermode": "closest",
          "mapbox": {
           "style": "light"
          },
          "paper_bgcolor": "white",
          "plot_bgcolor": "#E5ECF6",
          "polar": {
           "angularaxis": {
            "gridcolor": "white",
            "linecolor": "white",
            "ticks": ""
           },
           "bgcolor": "#E5ECF6",
           "radialaxis": {
            "gridcolor": "white",
            "linecolor": "white",
            "ticks": ""
           }
          },
          "scene": {
           "xaxis": {
            "backgroundcolor": "#E5ECF6",
            "gridcolor": "white",
            "gridwidth": 2,
            "linecolor": "white",
            "showbackground": true,
            "ticks": "",
            "zerolinecolor": "white"
           },
           "yaxis": {
            "backgroundcolor": "#E5ECF6",
            "gridcolor": "white",
            "gridwidth": 2,
            "linecolor": "white",
            "showbackground": true,
            "ticks": "",
            "zerolinecolor": "white"
           },
           "zaxis": {
            "backgroundcolor": "#E5ECF6",
            "gridcolor": "white",
            "gridwidth": 2,
            "linecolor": "white",
            "showbackground": true,
            "ticks": "",
            "zerolinecolor": "white"
           }
          },
          "shapedefaults": {
           "line": {
            "color": "#2a3f5f"
           }
          },
          "ternary": {
           "aaxis": {
            "gridcolor": "white",
            "linecolor": "white",
            "ticks": ""
           },
           "baxis": {
            "gridcolor": "white",
            "linecolor": "white",
            "ticks": ""
           },
           "bgcolor": "#E5ECF6",
           "caxis": {
            "gridcolor": "white",
            "linecolor": "white",
            "ticks": ""
           }
          },
          "title": {
           "x": 0.05
          },
          "xaxis": {
           "automargin": true,
           "gridcolor": "white",
           "linecolor": "white",
           "ticks": "",
           "title": {
            "standoff": 15
           },
           "zerolinecolor": "white",
           "zerolinewidth": 2
          },
          "yaxis": {
           "automargin": true,
           "gridcolor": "white",
           "linecolor": "white",
           "ticks": "",
           "title": {
            "standoff": 15
           },
           "zerolinecolor": "white",
           "zerolinewidth": 2
          }
         }
        },
        "width": 700
       },
       "_model_module_version": "^4.8.0",
       "_py2js_animate": {},
       "_py2js_deleteTraces": {},
       "_py2js_moveTraces": {},
       "_py2js_removeLayoutProps": {},
       "_py2js_removeTraceProps": {},
       "_py2js_restyle": {},
       "_view_count": 0,
       "_view_module_version": "^4.8.0"
      }
     },
     "962926069cb6453e8d11f0eb15a347dc": {
      "buffers": [
       {
        "data": "AAAAAAAA8D8AAAAAAAAAQAAAAAAAAAhAAAAAAAAAEEAAAAAAAAAUQAAAAAAAABhAAAAAAAAAHEA=",
        "encoding": "base64",
        "path": [
         "_data",
         0,
         "y",
         "value"
        ]
       },
       {
        "data": "AAAAAAAACEAAAAAAAAAUQA==",
        "encoding": "base64",
        "path": [
         "_data",
         1,
         "y",
         "value"
        ]
       },
       {
        "data": "",
        "encoding": "base64",
        "path": [
         "_data",
         2,
         "y",
         "value"
        ]
       },
       {
        "data": "AAAAAAAAEEAAAAAAAAAcQA==",
        "encoding": "base64",
        "path": [
         "_data",
         3,
         "y",
         "value"
        ]
       },
       {
        "data": "",
        "encoding": "base64",
        "path": [
         "_data",
         4,
         "y",
         "value"
        ]
       },
       {
        "data": "",
        "encoding": "base64",
        "path": [
         "_data",
         5,
         "y",
         "value"
        ]
       }
      ],
      "model_module": "plotlywidget",
      "model_module_version": "^4.8.0",
      "model_name": "FigureModel",
      "state": {
       "_config": {
        "plotlyServerURL": "https://plot.ly"
       },
       "_data": [
        {
         "mode": "lines",
         "name": "a",
         "showlegend": true,
         "type": "scatter",
         "uid": "a8028fd0-02b5-4e80-8601-37754ddc87f2",
         "x": [
          0,
          1,
          2,
          3,
          4,
          5,
          6
         ],
         "y": {
          "dtype": "float64",
          "shape": [
           7
          ]
         }
        },
        {
         "customdata": [
          [
           33.00330033,
           0.99009901
          ],
          [
           25.8798157,
           1.29399079
          ]
         ],
         "hovertemplate": "%{x}<br>Price: %{y}<br>Size: %{customdata[0]:.4f}<br>Fees: %{customdata[1]:.2f}",
         "marker": {
          "color": "#4285F4",
          "line": {
           "color": "rgb(11,84,205)",
           "width": 1
          },
          "size": 7,
          "symbol": "circle"
         },
         "mode": "markers",
         "name": "Open",
         "type": "scatter",
         "uid": "0c2b22bc-54bb-4ab3-a007-e5080ef197d8",
         "x": [
          2,
          4
         ],
         "y": {
          "dtype": "float64",
          "shape": [
           2
          ]
         }
        },
        {
         "customdata": [],
         "hovertemplate": "%{x}<br>Price: %{y}<br>Size: %{customdata[0]:.4f}<br>Fees: %{customdata[1]:.2f}<br>PnL: %{customdata[2]:.2f}<br>Return: %{customdata[3]:.2%}<br>Duration: %{customdata[4]}",
         "marker": {
          "color": "#E2E2E2",
          "line": {
           "color": "rgb(158,158,158)",
           "width": 1
          },
          "size": 7,
          "symbol": "circle"
         },
         "mode": "markers",
         "name": "Close",
         "type": "scatter",
         "uid": "89c60f14-e1a5-48a4-82aa-143066a0ef86",
         "x": [],
         "y": {
          "dtype": "float64",
          "shape": [
           0
          ]
         }
        },
        {
         "customdata": [
          [
           "33.00330033",
           "1.32013201",
           "30.69306931",
           "0.3069306931",
           "1 day, 0:00:00"
          ],
          [
           "25.8798157",
           "1.8115871",
           "48.65405351000001",
           "0.37227722766262084",
           "2 days, 0:00:00"
          ]
         ],
         "hovertemplate": "%{x}<br>Price: %{y}<br>Size: %{customdata[0]:.4f}<br>Fees: %{customdata[1]:.2f}<br>PnL: %{customdata[2]:.2f}<br>Return: %{customdata[3]:.2%}<br>Duration: %{customdata[4]}",
         "marker": {
          "color": "#37B13F",
          "line": {
           "color": "rgb(38,123,44)",
           "width": 1
          },
          "size": 7,
          "symbol": "circle"
         },
         "mode": "markers",
         "name": "Close - Profit",
         "type": "scatter",
         "uid": "8363fe0d-bb70-469e-8b38-703eab197b11",
         "x": [
          3,
          6
         ],
         "y": {
          "dtype": "float64",
          "shape": [
           2
          ]
         }
        },
        {
         "customdata": [],
         "hovertemplate": "%{x}<br>Price: %{y}<br>Size: %{customdata[0]:.4f}<br>Fees: %{customdata[1]:.2f}<br>PnL: %{customdata[2]:.2f}<br>Return: %{customdata[3]:.2%}<br>Duration: %{customdata[4]}",
         "marker": {
          "color": "#EA4335",
          "line": {
           "color": "rgb(181,31,18)",
           "width": 1
          },
          "size": 7,
          "symbol": "circle"
         },
         "mode": "markers",
         "name": "Close - Loss",
         "type": "scatter",
         "uid": "14edf399-1cfb-4561-9b7d-55fb4501e5d1",
         "x": [],
         "y": {
          "dtype": "float64",
          "shape": [
           0
          ]
         }
        },
        {
         "customdata": [],
         "hovertemplate": "%{x}<br>Price: %{y}<br>Size: %{customdata[0]:.4f}<br>Fees: %{customdata[1]:.2f}<br>PnL: %{customdata[2]:.2f}<br>Return: %{customdata[3]:.2%}<br>Duration: %{customdata[4]}",
         "marker": {
          "color": "#FFAA00",
          "line": {
           "color": "rgb(178,118,0)",
           "width": 1
          },
          "size": 7,
          "symbol": "circle"
         },
         "mode": "markers",
         "name": "Active",
         "type": "scatter",
         "uid": "7490ae8e-b601-4899-865b-2575af9c9925",
         "x": [],
         "y": {
          "dtype": "float64",
          "shape": [
           0
          ]
         }
        }
       ],
       "_js2py_layoutDelta": {},
       "_js2py_pointsCallback": {},
       "_js2py_relayout": {},
       "_js2py_restyle": {},
       "_js2py_traceDeltas": {},
       "_js2py_update": {},
       "_last_layout_edit_id": 9,
       "_last_trace_edit_id": 7,
       "_layout": {
        "autosize": false,
        "colorway": [
         "#1f77b4",
         "#ff7f0e",
         "#2ca02c",
         "#dc3912",
         "#9467bd",
         "#8c564b",
         "#e377c2",
         "#7f7f7f",
         "#bcbd22",
         "#17becf"
        ],
        "height": 300,
        "hovermode": "closest",
        "margin": {
         "b": 30,
         "t": 30
        },
        "shapes": [
         {
          "fillcolor": "#37B13F",
          "layer": "below",
          "line": {
           "width": 0
          },
          "opacity": 0.15,
          "type": "rect",
          "x0": 2,
          "x1": 3,
          "xref": "x",
          "y0": 3,
          "y1": 4,
          "yref": "y"
         },
         {
          "fillcolor": "#37B13F",
          "layer": "below",
          "line": {
           "width": 0
          },
          "opacity": 0.15,
          "type": "rect",
          "x0": 4,
          "x1": 6,
          "xref": "x",
          "y0": 5,
          "y1": 7,
          "yref": "y"
         }
        ],
        "template": {
         "data": {
          "bar": [
           {
            "error_x": {
             "color": "#2a3f5f"
            },
            "error_y": {
             "color": "#2a3f5f"
            },
            "marker": {
             "line": {
              "color": "#E5ECF6",
              "width": 0.5
             }
            },
            "type": "bar"
           }
          ],
          "barpolar": [
           {
            "marker": {
             "line": {
              "color": "#E5ECF6",
              "width": 0.5
             }
            },
            "type": "barpolar"
           }
          ],
          "carpet": [
           {
            "aaxis": {
             "endlinecolor": "#2a3f5f",
             "gridcolor": "white",
             "linecolor": "white",
             "minorgridcolor": "white",
             "startlinecolor": "#2a3f5f"
            },
            "baxis": {
             "endlinecolor": "#2a3f5f",
             "gridcolor": "white",
             "linecolor": "white",
             "minorgridcolor": "white",
             "startlinecolor": "#2a3f5f"
            },
            "type": "carpet"
           }
          ],
          "choropleth": [
           {
            "colorbar": {
             "outlinewidth": 0,
             "ticks": ""
            },
            "type": "choropleth"
           }
          ],
          "contour": [
           {
            "colorbar": {
             "outlinewidth": 0,
             "ticks": ""
            },
            "colorscale": [
             [
              0,
              "#0d0887"
             ],
             [
              0.1111111111111111,
              "#46039f"
             ],
             [
              0.2222222222222222,
              "#7201a8"
             ],
             [
              0.3333333333333333,
              "#9c179e"
             ],
             [
              0.4444444444444444,
              "#bd3786"
             ],
             [
              0.5555555555555556,
              "#d8576b"
             ],
             [
              0.6666666666666666,
              "#ed7953"
             ],
             [
              0.7777777777777778,
              "#fb9f3a"
             ],
             [
              0.8888888888888888,
              "#fdca26"
             ],
             [
              1,
              "#f0f921"
             ]
            ],
            "type": "contour"
           }
          ],
          "contourcarpet": [
           {
            "colorbar": {
             "outlinewidth": 0,
             "ticks": ""
            },
            "type": "contourcarpet"
           }
          ],
          "heatmap": [
           {
            "colorbar": {
             "outlinewidth": 0,
             "ticks": ""
            },
            "colorscale": [
             [
              0,
              "#0d0887"
             ],
             [
              0.1111111111111111,
              "#46039f"
             ],
             [
              0.2222222222222222,
              "#7201a8"
             ],
             [
              0.3333333333333333,
              "#9c179e"
             ],
             [
              0.4444444444444444,
              "#bd3786"
             ],
             [
              0.5555555555555556,
              "#d8576b"
             ],
             [
              0.6666666666666666,
              "#ed7953"
             ],
             [
              0.7777777777777778,
              "#fb9f3a"
             ],
             [
              0.8888888888888888,
              "#fdca26"
             ],
             [
              1,
              "#f0f921"
             ]
            ],
            "type": "heatmap"
           }
          ],
          "heatmapgl": [
           {
            "colorbar": {
             "outlinewidth": 0,
             "ticks": ""
            },
            "colorscale": [
             [
              0,
              "#0d0887"
             ],
             [
              0.1111111111111111,
              "#46039f"
             ],
             [
              0.2222222222222222,
              "#7201a8"
             ],
             [
              0.3333333333333333,
              "#9c179e"
             ],
             [
              0.4444444444444444,
              "#bd3786"
             ],
             [
              0.5555555555555556,
              "#d8576b"
             ],
             [
              0.6666666666666666,
              "#ed7953"
             ],
             [
              0.7777777777777778,
              "#fb9f3a"
             ],
             [
              0.8888888888888888,
              "#fdca26"
             ],
             [
              1,
              "#f0f921"
             ]
            ],
            "type": "heatmapgl"
           }
          ],
          "histogram": [
           {
            "marker": {
             "colorbar": {
              "outlinewidth": 0,
              "ticks": ""
             }
            },
            "type": "histogram"
           }
          ],
          "histogram2d": [
           {
            "colorbar": {
             "outlinewidth": 0,
             "ticks": ""
            },
            "colorscale": [
             [
              0,
              "#0d0887"
             ],
             [
              0.1111111111111111,
              "#46039f"
             ],
             [
              0.2222222222222222,
              "#7201a8"
             ],
             [
              0.3333333333333333,
              "#9c179e"
             ],
             [
              0.4444444444444444,
              "#bd3786"
             ],
             [
              0.5555555555555556,
              "#d8576b"
             ],
             [
              0.6666666666666666,
              "#ed7953"
             ],
             [
              0.7777777777777778,
              "#fb9f3a"
             ],
             [
              0.8888888888888888,
              "#fdca26"
             ],
             [
              1,
              "#f0f921"
             ]
            ],
            "type": "histogram2d"
           }
          ],
          "histogram2dcontour": [
           {
            "colorbar": {
             "outlinewidth": 0,
             "ticks": ""
            },
            "colorscale": [
             [
              0,
              "#0d0887"
             ],
             [
              0.1111111111111111,
              "#46039f"
             ],
             [
              0.2222222222222222,
              "#7201a8"
             ],
             [
              0.3333333333333333,
              "#9c179e"
             ],
             [
              0.4444444444444444,
              "#bd3786"
             ],
             [
              0.5555555555555556,
              "#d8576b"
             ],
             [
              0.6666666666666666,
              "#ed7953"
             ],
             [
              0.7777777777777778,
              "#fb9f3a"
             ],
             [
              0.8888888888888888,
              "#fdca26"
             ],
             [
              1,
              "#f0f921"
             ]
            ],
            "type": "histogram2dcontour"
           }
          ],
          "mesh3d": [
           {
            "colorbar": {
             "outlinewidth": 0,
             "ticks": ""
            },
            "type": "mesh3d"
           }
          ],
          "parcoords": [
           {
            "line": {
             "colorbar": {
              "outlinewidth": 0,
              "ticks": ""
             }
            },
            "type": "parcoords"
           }
          ],
          "pie": [
           {
            "automargin": true,
            "type": "pie"
           }
          ],
          "scatter": [
           {
            "marker": {
             "colorbar": {
              "outlinewidth": 0,
              "ticks": ""
             }
            },
            "type": "scatter"
           }
          ],
          "scatter3d": [
           {
            "line": {
             "colorbar": {
              "outlinewidth": 0,
              "ticks": ""
             }
            },
            "marker": {
             "colorbar": {
              "outlinewidth": 0,
              "ticks": ""
             }
            },
            "type": "scatter3d"
           }
          ],
          "scattercarpet": [
           {
            "marker": {
             "colorbar": {
              "outlinewidth": 0,
              "ticks": ""
             }
            },
            "type": "scattercarpet"
           }
          ],
          "scattergeo": [
           {
            "marker": {
             "colorbar": {
              "outlinewidth": 0,
              "ticks": ""
             }
            },
            "type": "scattergeo"
           }
          ],
          "scattergl": [
           {
            "marker": {
             "colorbar": {
              "outlinewidth": 0,
              "ticks": ""
             }
            },
            "type": "scattergl"
           }
          ],
          "scattermapbox": [
           {
            "marker": {
             "colorbar": {
              "outlinewidth": 0,
              "ticks": ""
             }
            },
            "type": "scattermapbox"
           }
          ],
          "scatterpolar": [
           {
            "marker": {
             "colorbar": {
              "outlinewidth": 0,
              "ticks": ""
             }
            },
            "type": "scatterpolar"
           }
          ],
          "scatterpolargl": [
           {
            "marker": {
             "colorbar": {
              "outlinewidth": 0,
              "ticks": ""
             }
            },
            "type": "scatterpolargl"
           }
          ],
          "scatterternary": [
           {
            "marker": {
             "colorbar": {
              "outlinewidth": 0,
              "ticks": ""
             }
            },
            "type": "scatterternary"
           }
          ],
          "surface": [
           {
            "colorbar": {
             "outlinewidth": 0,
             "ticks": ""
            },
            "colorscale": [
             [
              0,
              "#0d0887"
             ],
             [
              0.1111111111111111,
              "#46039f"
             ],
             [
              0.2222222222222222,
              "#7201a8"
             ],
             [
              0.3333333333333333,
              "#9c179e"
             ],
             [
              0.4444444444444444,
              "#bd3786"
             ],
             [
              0.5555555555555556,
              "#d8576b"
             ],
             [
              0.6666666666666666,
              "#ed7953"
             ],
             [
              0.7777777777777778,
              "#fb9f3a"
             ],
             [
              0.8888888888888888,
              "#fdca26"
             ],
             [
              1,
              "#f0f921"
             ]
            ],
            "type": "surface"
           }
          ],
          "table": [
           {
            "cells": {
             "fill": {
              "color": "#EBF0F8"
             },
             "line": {
              "color": "white"
             }
            },
            "header": {
             "fill": {
              "color": "#C8D4E3"
             },
             "line": {
              "color": "white"
             }
            },
            "type": "table"
           }
          ]
         },
         "layout": {
          "annotationdefaults": {
           "arrowcolor": "#2a3f5f",
           "arrowhead": 0,
           "arrowwidth": 1
          },
          "coloraxis": {
           "colorbar": {
            "outlinewidth": 0,
            "ticks": ""
           }
          },
          "colorscale": {
           "diverging": [
            [
             0,
             "#8e0152"
            ],
            [
             0.1,
             "#c51b7d"
            ],
            [
             0.2,
             "#de77ae"
            ],
            [
             0.3,
             "#f1b6da"
            ],
            [
             0.4,
             "#fde0ef"
            ],
            [
             0.5,
             "#f7f7f7"
            ],
            [
             0.6,
             "#e6f5d0"
            ],
            [
             0.7,
             "#b8e186"
            ],
            [
             0.8,
             "#7fbc41"
            ],
            [
             0.9,
             "#4d9221"
            ],
            [
             1,
             "#276419"
            ]
           ],
           "sequential": [
            [
             0,
             "#0d0887"
            ],
            [
             0.1111111111111111,
             "#46039f"
            ],
            [
             0.2222222222222222,
             "#7201a8"
            ],
            [
             0.3333333333333333,
             "#9c179e"
            ],
            [
             0.4444444444444444,
             "#bd3786"
            ],
            [
             0.5555555555555556,
             "#d8576b"
            ],
            [
             0.6666666666666666,
             "#ed7953"
            ],
            [
             0.7777777777777778,
             "#fb9f3a"
            ],
            [
             0.8888888888888888,
             "#fdca26"
            ],
            [
             1,
             "#f0f921"
            ]
           ],
           "sequentialminus": [
            [
             0,
             "#0d0887"
            ],
            [
             0.1111111111111111,
             "#46039f"
            ],
            [
             0.2222222222222222,
             "#7201a8"
            ],
            [
             0.3333333333333333,
             "#9c179e"
            ],
            [
             0.4444444444444444,
             "#bd3786"
            ],
            [
             0.5555555555555556,
             "#d8576b"
            ],
            [
             0.6666666666666666,
             "#ed7953"
            ],
            [
             0.7777777777777778,
             "#fb9f3a"
            ],
            [
             0.8888888888888888,
             "#fdca26"
            ],
            [
             1,
             "#f0f921"
            ]
           ]
          },
          "colorway": [
           "#636efa",
           "#EF553B",
           "#00cc96",
           "#ab63fa",
           "#FFA15A",
           "#19d3f3",
           "#FF6692",
           "#B6E880",
           "#FF97FF",
           "#FECB52"
          ],
          "font": {
           "color": "#2a3f5f"
          },
          "geo": {
           "bgcolor": "white",
           "lakecolor": "white",
           "landcolor": "#E5ECF6",
           "showlakes": true,
           "showland": true,
           "subunitcolor": "white"
          },
          "hoverlabel": {
           "align": "left"
          },
          "hovermode": "closest",
          "mapbox": {
           "style": "light"
          },
          "paper_bgcolor": "white",
          "plot_bgcolor": "#E5ECF6",
          "polar": {
           "angularaxis": {
            "gridcolor": "white",
            "linecolor": "white",
            "ticks": ""
           },
           "bgcolor": "#E5ECF6",
           "radialaxis": {
            "gridcolor": "white",
            "linecolor": "white",
            "ticks": ""
           }
          },
          "scene": {
           "xaxis": {
            "backgroundcolor": "#E5ECF6",
            "gridcolor": "white",
            "gridwidth": 2,
            "linecolor": "white",
            "showbackground": true,
            "ticks": "",
            "zerolinecolor": "white"
           },
           "yaxis": {
            "backgroundcolor": "#E5ECF6",
            "gridcolor": "white",
            "gridwidth": 2,
            "linecolor": "white",
            "showbackground": true,
            "ticks": "",
            "zerolinecolor": "white"
           },
           "zaxis": {
            "backgroundcolor": "#E5ECF6",
            "gridcolor": "white",
            "gridwidth": 2,
            "linecolor": "white",
            "showbackground": true,
            "ticks": "",
            "zerolinecolor": "white"
           }
          },
          "shapedefaults": {
           "line": {
            "color": "#2a3f5f"
           }
          },
          "ternary": {
           "aaxis": {
            "gridcolor": "white",
            "linecolor": "white",
            "ticks": ""
           },
           "baxis": {
            "gridcolor": "white",
            "linecolor": "white",
            "ticks": ""
           },
           "bgcolor": "#E5ECF6",
           "caxis": {
            "gridcolor": "white",
            "linecolor": "white",
            "ticks": ""
           }
          },
          "title": {
           "x": 0.05
          },
          "xaxis": {
           "automargin": true,
           "gridcolor": "white",
           "linecolor": "white",
           "ticks": "",
           "title": {
            "standoff": 15
           },
           "zerolinecolor": "white",
           "zerolinewidth": 2
          },
          "yaxis": {
           "automargin": true,
           "gridcolor": "white",
           "linecolor": "white",
           "ticks": "",
           "title": {
            "standoff": 15
           },
           "zerolinecolor": "white",
           "zerolinewidth": 2
          }
         }
        },
        "width": 700
       },
       "_model_module_version": "^4.8.0",
       "_py2js_animate": {},
       "_py2js_deleteTraces": {},
       "_py2js_moveTraces": {},
       "_py2js_removeLayoutProps": {},
       "_py2js_removeTraceProps": {},
       "_py2js_restyle": {},
       "_view_count": 0,
       "_view_module_version": "^4.8.0"
      }
     },
     "ff594c7c3f2d49a0828ec1ba4481d523": {
      "buffers": [
       {
        "data": "AAAAAAAA8D8AAAAAAAAAQAAAAAAAAAhAAAAAAAAAEEAAAAAAAAAUQAAAAAAAABhAAAAAAAAAHEA=",
        "encoding": "base64",
        "path": [
         "_data",
         0,
         "y",
         "value"
        ]
       },
       {
        "data": "AAAAAAAACEAAAAAAAAAUQA==",
        "encoding": "base64",
        "path": [
         "_data",
         1,
         "y",
         "value"
        ]
       },
       {
        "data": "",
        "encoding": "base64",
        "path": [
         "_data",
         2,
         "y",
         "value"
        ]
       },
       {
        "data": "AAAAAAAAEEAAAAAAAAAcQA==",
        "encoding": "base64",
        "path": [
         "_data",
         3,
         "y",
         "value"
        ]
       },
       {
        "data": "",
        "encoding": "base64",
        "path": [
         "_data",
         4,
         "y",
         "value"
        ]
       },
       {
        "data": "",
        "encoding": "base64",
        "path": [
         "_data",
         5,
         "y",
         "value"
        ]
       }
      ],
      "model_module": "plotlywidget",
      "model_module_version": "^4.8.0",
      "model_name": "FigureModel",
      "state": {
       "_config": {
        "plotlyServerURL": "https://plot.ly"
       },
       "_data": [
        {
         "mode": "lines",
         "name": "a",
         "showlegend": true,
         "type": "scatter",
         "uid": "3be77c67-ceeb-4282-ad88-705111701925",
         "x": [
          0,
          1,
          2,
          3,
          4,
          5,
          6
         ],
         "y": {
          "dtype": "float64",
          "shape": [
           7
          ]
         }
        },
        {
         "customdata": [
          [
           33.00330033,
           0.99009901
          ],
          [
           25.8798157,
           1.29399079
          ]
         ],
         "hovertemplate": "%{x}<br>Price: %{y}<br>Size: %{customdata[0]:.4f}<br>Fees: %{customdata[1]:.2f}",
         "marker": {
          "color": "#4285F4",
          "line": {
           "color": "rgb(11,84,205)",
           "width": 1
          },
          "size": 7,
          "symbol": "circle"
         },
         "mode": "markers",
         "name": "Open",
         "type": "scatter",
         "uid": "f662e904-054e-42dc-a412-fe94253f0c0c",
         "x": [
          2,
          4
         ],
         "y": {
          "dtype": "float64",
          "shape": [
           2
          ]
         }
        },
        {
         "customdata": [],
         "hovertemplate": "%{x}<br>Price: %{y}<br>Size: %{customdata[0]:.4f}<br>Fees: %{customdata[1]:.2f}<br>PnL: %{customdata[2]:.2f}<br>Return: %{customdata[3]:.2%}<br>Duration: %{customdata[4]}",
         "marker": {
          "color": "#E2E2E2",
          "line": {
           "color": "rgb(158,158,158)",
           "width": 1
          },
          "size": 7,
          "symbol": "circle"
         },
         "mode": "markers",
         "name": "Close",
         "type": "scatter",
         "uid": "d2e99e58-04ec-446d-8a13-987914294916",
         "x": [],
         "y": {
          "dtype": "float64",
          "shape": [
           0
          ]
         }
        },
        {
         "customdata": [
          [
           "33.00330033",
           "1.32013201",
           "30.69306931",
           "0.3069306931",
           "1 day, 0:00:00"
          ],
          [
           "25.8798157",
           "1.8115871",
           "48.65405351000001",
           "0.37227722766262084",
           "2 days, 0:00:00"
          ]
         ],
         "hovertemplate": "%{x}<br>Price: %{y}<br>Size: %{customdata[0]:.4f}<br>Fees: %{customdata[1]:.2f}<br>PnL: %{customdata[2]:.2f}<br>Return: %{customdata[3]:.2%}<br>Duration: %{customdata[4]}",
         "marker": {
          "color": "#37B13F",
          "line": {
           "color": "rgb(38,123,44)",
           "width": 1
          },
          "size": 7,
          "symbol": "circle"
         },
         "mode": "markers",
         "name": "Close - Profit",
         "type": "scatter",
         "uid": "15bc58ca-b4c9-4000-b05c-fbe446dd11b4",
         "x": [
          3,
          6
         ],
         "y": {
          "dtype": "float64",
          "shape": [
           2
          ]
         }
        },
        {
         "customdata": [],
         "hovertemplate": "%{x}<br>Price: %{y}<br>Size: %{customdata[0]:.4f}<br>Fees: %{customdata[1]:.2f}<br>PnL: %{customdata[2]:.2f}<br>Return: %{customdata[3]:.2%}<br>Duration: %{customdata[4]}",
         "marker": {
          "color": "#EA4335",
          "line": {
           "color": "rgb(181,31,18)",
           "width": 1
          },
          "size": 7,
          "symbol": "circle"
         },
         "mode": "markers",
         "name": "Close - Loss",
         "type": "scatter",
         "uid": "d03d6450-fa23-427b-b7da-138de8a24abc",
         "x": [],
         "y": {
          "dtype": "float64",
          "shape": [
           0
          ]
         }
        },
        {
         "customdata": [],
         "hovertemplate": "%{x}<br>Price: %{y}<br>Size: %{customdata[0]:.4f}<br>Fees: %{customdata[1]:.2f}<br>PnL: %{customdata[2]:.2f}<br>Return: %{customdata[3]:.2%}<br>Duration: %{customdata[4]}",
         "marker": {
          "color": "#FFAA00",
          "line": {
           "color": "rgb(178,118,0)",
           "width": 1
          },
          "size": 7,
          "symbol": "circle"
         },
         "mode": "markers",
         "name": "Active",
         "type": "scatter",
         "uid": "65d020b7-47b9-4bbd-909e-44cf111322ec",
         "x": [],
         "y": {
          "dtype": "float64",
          "shape": [
           0
          ]
         }
        }
       ],
       "_js2py_layoutDelta": {},
       "_js2py_pointsCallback": {},
       "_js2py_relayout": {},
       "_js2py_restyle": {},
       "_js2py_traceDeltas": {},
       "_js2py_update": {},
       "_last_layout_edit_id": 9,
       "_last_trace_edit_id": 7,
       "_layout": {
        "autosize": false,
        "colorway": [
         "#1f77b4",
         "#ff7f0e",
         "#2ca02c",
         "#dc3912",
         "#9467bd",
         "#8c564b",
         "#e377c2",
         "#7f7f7f",
         "#bcbd22",
         "#17becf"
        ],
        "height": 300,
        "hovermode": "closest",
        "margin": {
         "b": 30,
         "t": 30
        },
        "shapes": [
         {
          "fillcolor": "#37B13F",
          "layer": "below",
          "line": {
           "width": 0
          },
          "opacity": 0.15,
          "type": "rect",
          "x0": 2,
          "x1": 3,
          "xref": "x",
          "y0": 3,
          "y1": 4,
          "yref": "y"
         },
         {
          "fillcolor": "#37B13F",
          "layer": "below",
          "line": {
           "width": 0
          },
          "opacity": 0.15,
          "type": "rect",
          "x0": 4,
          "x1": 6,
          "xref": "x",
          "y0": 5,
          "y1": 7,
          "yref": "y"
         }
        ],
        "template": {
         "data": {
          "bar": [
           {
            "error_x": {
             "color": "#2a3f5f"
            },
            "error_y": {
             "color": "#2a3f5f"
            },
            "marker": {
             "line": {
              "color": "#E5ECF6",
              "width": 0.5
             }
            },
            "type": "bar"
           }
          ],
          "barpolar": [
           {
            "marker": {
             "line": {
              "color": "#E5ECF6",
              "width": 0.5
             }
            },
            "type": "barpolar"
           }
          ],
          "carpet": [
           {
            "aaxis": {
             "endlinecolor": "#2a3f5f",
             "gridcolor": "white",
             "linecolor": "white",
             "minorgridcolor": "white",
             "startlinecolor": "#2a3f5f"
            },
            "baxis": {
             "endlinecolor": "#2a3f5f",
             "gridcolor": "white",
             "linecolor": "white",
             "minorgridcolor": "white",
             "startlinecolor": "#2a3f5f"
            },
            "type": "carpet"
           }
          ],
          "choropleth": [
           {
            "colorbar": {
             "outlinewidth": 0,
             "ticks": ""
            },
            "type": "choropleth"
           }
          ],
          "contour": [
           {
            "colorbar": {
             "outlinewidth": 0,
             "ticks": ""
            },
            "colorscale": [
             [
              0,
              "#0d0887"
             ],
             [
              0.1111111111111111,
              "#46039f"
             ],
             [
              0.2222222222222222,
              "#7201a8"
             ],
             [
              0.3333333333333333,
              "#9c179e"
             ],
             [
              0.4444444444444444,
              "#bd3786"
             ],
             [
              0.5555555555555556,
              "#d8576b"
             ],
             [
              0.6666666666666666,
              "#ed7953"
             ],
             [
              0.7777777777777778,
              "#fb9f3a"
             ],
             [
              0.8888888888888888,
              "#fdca26"
             ],
             [
              1,
              "#f0f921"
             ]
            ],
            "type": "contour"
           }
          ],
          "contourcarpet": [
           {
            "colorbar": {
             "outlinewidth": 0,
             "ticks": ""
            },
            "type": "contourcarpet"
           }
          ],
          "heatmap": [
           {
            "colorbar": {
             "outlinewidth": 0,
             "ticks": ""
            },
            "colorscale": [
             [
              0,
              "#0d0887"
             ],
             [
              0.1111111111111111,
              "#46039f"
             ],
             [
              0.2222222222222222,
              "#7201a8"
             ],
             [
              0.3333333333333333,
              "#9c179e"
             ],
             [
              0.4444444444444444,
              "#bd3786"
             ],
             [
              0.5555555555555556,
              "#d8576b"
             ],
             [
              0.6666666666666666,
              "#ed7953"
             ],
             [
              0.7777777777777778,
              "#fb9f3a"
             ],
             [
              0.8888888888888888,
              "#fdca26"
             ],
             [
              1,
              "#f0f921"
             ]
            ],
            "type": "heatmap"
           }
          ],
          "heatmapgl": [
           {
            "colorbar": {
             "outlinewidth": 0,
             "ticks": ""
            },
            "colorscale": [
             [
              0,
              "#0d0887"
             ],
             [
              0.1111111111111111,
              "#46039f"
             ],
             [
              0.2222222222222222,
              "#7201a8"
             ],
             [
              0.3333333333333333,
              "#9c179e"
             ],
             [
              0.4444444444444444,
              "#bd3786"
             ],
             [
              0.5555555555555556,
              "#d8576b"
             ],
             [
              0.6666666666666666,
              "#ed7953"
             ],
             [
              0.7777777777777778,
              "#fb9f3a"
             ],
             [
              0.8888888888888888,
              "#fdca26"
             ],
             [
              1,
              "#f0f921"
             ]
            ],
            "type": "heatmapgl"
           }
          ],
          "histogram": [
           {
            "marker": {
             "colorbar": {
              "outlinewidth": 0,
              "ticks": ""
             }
            },
            "type": "histogram"
           }
          ],
          "histogram2d": [
           {
            "colorbar": {
             "outlinewidth": 0,
             "ticks": ""
            },
            "colorscale": [
             [
              0,
              "#0d0887"
             ],
             [
              0.1111111111111111,
              "#46039f"
             ],
             [
              0.2222222222222222,
              "#7201a8"
             ],
             [
              0.3333333333333333,
              "#9c179e"
             ],
             [
              0.4444444444444444,
              "#bd3786"
             ],
             [
              0.5555555555555556,
              "#d8576b"
             ],
             [
              0.6666666666666666,
              "#ed7953"
             ],
             [
              0.7777777777777778,
              "#fb9f3a"
             ],
             [
              0.8888888888888888,
              "#fdca26"
             ],
             [
              1,
              "#f0f921"
             ]
            ],
            "type": "histogram2d"
           }
          ],
          "histogram2dcontour": [
           {
            "colorbar": {
             "outlinewidth": 0,
             "ticks": ""
            },
            "colorscale": [
             [
              0,
              "#0d0887"
             ],
             [
              0.1111111111111111,
              "#46039f"
             ],
             [
              0.2222222222222222,
              "#7201a8"
             ],
             [
              0.3333333333333333,
              "#9c179e"
             ],
             [
              0.4444444444444444,
              "#bd3786"
             ],
             [
              0.5555555555555556,
              "#d8576b"
             ],
             [
              0.6666666666666666,
              "#ed7953"
             ],
             [
              0.7777777777777778,
              "#fb9f3a"
             ],
             [
              0.8888888888888888,
              "#fdca26"
             ],
             [
              1,
              "#f0f921"
             ]
            ],
            "type": "histogram2dcontour"
           }
          ],
          "mesh3d": [
           {
            "colorbar": {
             "outlinewidth": 0,
             "ticks": ""
            },
            "type": "mesh3d"
           }
          ],
          "parcoords": [
           {
            "line": {
             "colorbar": {
              "outlinewidth": 0,
              "ticks": ""
             }
            },
            "type": "parcoords"
           }
          ],
          "pie": [
           {
            "automargin": true,
            "type": "pie"
           }
          ],
          "scatter": [
           {
            "marker": {
             "colorbar": {
              "outlinewidth": 0,
              "ticks": ""
             }
            },
            "type": "scatter"
           }
          ],
          "scatter3d": [
           {
            "line": {
             "colorbar": {
              "outlinewidth": 0,
              "ticks": ""
             }
            },
            "marker": {
             "colorbar": {
              "outlinewidth": 0,
              "ticks": ""
             }
            },
            "type": "scatter3d"
           }
          ],
          "scattercarpet": [
           {
            "marker": {
             "colorbar": {
              "outlinewidth": 0,
              "ticks": ""
             }
            },
            "type": "scattercarpet"
           }
          ],
          "scattergeo": [
           {
            "marker": {
             "colorbar": {
              "outlinewidth": 0,
              "ticks": ""
             }
            },
            "type": "scattergeo"
           }
          ],
          "scattergl": [
           {
            "marker": {
             "colorbar": {
              "outlinewidth": 0,
              "ticks": ""
             }
            },
            "type": "scattergl"
           }
          ],
          "scattermapbox": [
           {
            "marker": {
             "colorbar": {
              "outlinewidth": 0,
              "ticks": ""
             }
            },
            "type": "scattermapbox"
           }
          ],
          "scatterpolar": [
           {
            "marker": {
             "colorbar": {
              "outlinewidth": 0,
              "ticks": ""
             }
            },
            "type": "scatterpolar"
           }
          ],
          "scatterpolargl": [
           {
            "marker": {
             "colorbar": {
              "outlinewidth": 0,
              "ticks": ""
             }
            },
            "type": "scatterpolargl"
           }
          ],
          "scatterternary": [
           {
            "marker": {
             "colorbar": {
              "outlinewidth": 0,
              "ticks": ""
             }
            },
            "type": "scatterternary"
           }
          ],
          "surface": [
           {
            "colorbar": {
             "outlinewidth": 0,
             "ticks": ""
            },
            "colorscale": [
             [
              0,
              "#0d0887"
             ],
             [
              0.1111111111111111,
              "#46039f"
             ],
             [
              0.2222222222222222,
              "#7201a8"
             ],
             [
              0.3333333333333333,
              "#9c179e"
             ],
             [
              0.4444444444444444,
              "#bd3786"
             ],
             [
              0.5555555555555556,
              "#d8576b"
             ],
             [
              0.6666666666666666,
              "#ed7953"
             ],
             [
              0.7777777777777778,
              "#fb9f3a"
             ],
             [
              0.8888888888888888,
              "#fdca26"
             ],
             [
              1,
              "#f0f921"
             ]
            ],
            "type": "surface"
           }
          ],
          "table": [
           {
            "cells": {
             "fill": {
              "color": "#EBF0F8"
             },
             "line": {
              "color": "white"
             }
            },
            "header": {
             "fill": {
              "color": "#C8D4E3"
             },
             "line": {
              "color": "white"
             }
            },
            "type": "table"
           }
          ]
         },
         "layout": {
          "annotationdefaults": {
           "arrowcolor": "#2a3f5f",
           "arrowhead": 0,
           "arrowwidth": 1
          },
          "coloraxis": {
           "colorbar": {
            "outlinewidth": 0,
            "ticks": ""
           }
          },
          "colorscale": {
           "diverging": [
            [
             0,
             "#8e0152"
            ],
            [
             0.1,
             "#c51b7d"
            ],
            [
             0.2,
             "#de77ae"
            ],
            [
             0.3,
             "#f1b6da"
            ],
            [
             0.4,
             "#fde0ef"
            ],
            [
             0.5,
             "#f7f7f7"
            ],
            [
             0.6,
             "#e6f5d0"
            ],
            [
             0.7,
             "#b8e186"
            ],
            [
             0.8,
             "#7fbc41"
            ],
            [
             0.9,
             "#4d9221"
            ],
            [
             1,
             "#276419"
            ]
           ],
           "sequential": [
            [
             0,
             "#0d0887"
            ],
            [
             0.1111111111111111,
             "#46039f"
            ],
            [
             0.2222222222222222,
             "#7201a8"
            ],
            [
             0.3333333333333333,
             "#9c179e"
            ],
            [
             0.4444444444444444,
             "#bd3786"
            ],
            [
             0.5555555555555556,
             "#d8576b"
            ],
            [
             0.6666666666666666,
             "#ed7953"
            ],
            [
             0.7777777777777778,
             "#fb9f3a"
            ],
            [
             0.8888888888888888,
             "#fdca26"
            ],
            [
             1,
             "#f0f921"
            ]
           ],
           "sequentialminus": [
            [
             0,
             "#0d0887"
            ],
            [
             0.1111111111111111,
             "#46039f"
            ],
            [
             0.2222222222222222,
             "#7201a8"
            ],
            [
             0.3333333333333333,
             "#9c179e"
            ],
            [
             0.4444444444444444,
             "#bd3786"
            ],
            [
             0.5555555555555556,
             "#d8576b"
            ],
            [
             0.6666666666666666,
             "#ed7953"
            ],
            [
             0.7777777777777778,
             "#fb9f3a"
            ],
            [
             0.8888888888888888,
             "#fdca26"
            ],
            [
             1,
             "#f0f921"
            ]
           ]
          },
          "colorway": [
           "#636efa",
           "#EF553B",
           "#00cc96",
           "#ab63fa",
           "#FFA15A",
           "#19d3f3",
           "#FF6692",
           "#B6E880",
           "#FF97FF",
           "#FECB52"
          ],
          "font": {
           "color": "#2a3f5f"
          },
          "geo": {
           "bgcolor": "white",
           "lakecolor": "white",
           "landcolor": "#E5ECF6",
           "showlakes": true,
           "showland": true,
           "subunitcolor": "white"
          },
          "hoverlabel": {
           "align": "left"
          },
          "hovermode": "closest",
          "mapbox": {
           "style": "light"
          },
          "paper_bgcolor": "white",
          "plot_bgcolor": "#E5ECF6",
          "polar": {
           "angularaxis": {
            "gridcolor": "white",
            "linecolor": "white",
            "ticks": ""
           },
           "bgcolor": "#E5ECF6",
           "radialaxis": {
            "gridcolor": "white",
            "linecolor": "white",
            "ticks": ""
           }
          },
          "scene": {
           "xaxis": {
            "backgroundcolor": "#E5ECF6",
            "gridcolor": "white",
            "gridwidth": 2,
            "linecolor": "white",
            "showbackground": true,
            "ticks": "",
            "zerolinecolor": "white"
           },
           "yaxis": {
            "backgroundcolor": "#E5ECF6",
            "gridcolor": "white",
            "gridwidth": 2,
            "linecolor": "white",
            "showbackground": true,
            "ticks": "",
            "zerolinecolor": "white"
           },
           "zaxis": {
            "backgroundcolor": "#E5ECF6",
            "gridcolor": "white",
            "gridwidth": 2,
            "linecolor": "white",
            "showbackground": true,
            "ticks": "",
            "zerolinecolor": "white"
           }
          },
          "shapedefaults": {
           "line": {
            "color": "#2a3f5f"
           }
          },
          "ternary": {
           "aaxis": {
            "gridcolor": "white",
            "linecolor": "white",
            "ticks": ""
           },
           "baxis": {
            "gridcolor": "white",
            "linecolor": "white",
            "ticks": ""
           },
           "bgcolor": "#E5ECF6",
           "caxis": {
            "gridcolor": "white",
            "linecolor": "white",
            "ticks": ""
           }
          },
          "title": {
           "x": 0.05
          },
          "xaxis": {
           "automargin": true,
           "gridcolor": "white",
           "linecolor": "white",
           "ticks": "",
           "title": {
            "standoff": 15
           },
           "zerolinecolor": "white",
           "zerolinewidth": 2
          },
          "yaxis": {
           "automargin": true,
           "gridcolor": "white",
           "linecolor": "white",
           "ticks": "",
           "title": {
            "standoff": 15
           },
           "zerolinecolor": "white",
           "zerolinewidth": 2
          }
         }
        },
        "width": 700
       },
       "_model_module_version": "^4.8.0",
       "_py2js_animate": {},
       "_py2js_deleteTraces": {},
       "_py2js_moveTraces": {},
       "_py2js_removeLayoutProps": {},
       "_py2js_removeTraceProps": {},
       "_py2js_restyle": {},
       "_view_count": 0,
       "_view_module_version": "^4.8.0"
      }
     }
    },
    "version_major": 2,
    "version_minor": 0
   }
  }
 },
 "nbformat": 4,
 "nbformat_minor": 4
}
