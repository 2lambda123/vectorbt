{
 "cells": [
  {
   "cell_type": "code",
   "execution_count": 1,
   "metadata": {},
   "outputs": [
    {
     "name": "stdout",
     "output_type": "stream",
     "text": [
      "(5,) (5, 3)\n",
      "(1000, 1) (1000, 1000)\n"
     ]
    }
   ],
   "source": [
    "import vectorbt as vbt\n",
    "from vectorbt.portfolio.enums import *\n",
    "\n",
    "import numpy as np\n",
    "import pandas as pd\n",
    "from numba import njit\n",
    "from datetime import datetime, timedelta\n",
    "\n",
    "seed = 42\n",
    "\n",
    "price = pd.Series([1., 2., 3., 4., 5.], index=pd.Index([\n",
    "    datetime(2020, 1, 1),\n",
    "    datetime(2020, 1, 2),\n",
    "    datetime(2020, 1, 3),\n",
    "    datetime(2020, 1, 4),\n",
    "    datetime(2020, 1, 5)\n",
    "]))\n",
    "price_wide = price.vbt.tile(3, keys=['a', 'b', 'c'])\n",
    "print(price.shape, price_wide.shape)\n",
    "\n",
    "big_price = pd.DataFrame(np.random.uniform(size=(1000,)))\n",
    "big_price.index = [datetime(2018, 1, 1) + timedelta(days=i) for i in range(1000)]\n",
    "big_price_wide = big_price.vbt.tile(1000)\n",
    "print(big_price.shape, big_price_wide.shape)\n",
    "\n",
    "# Disable caching for performance testing\n",
    "# NOTE: Expect waterfall of executions, since some attributes depend on other attributes \n",
    "# that have to be calculated again and again\n",
    "vbt.settings.caching['enabled'] = False"
   ]
  },
  {
   "cell_type": "markdown",
   "metadata": {},
   "source": [
    "## from_signals"
   ]
  },
  {
   "cell_type": "code",
   "execution_count": 2,
   "metadata": {},
   "outputs": [
    {
     "name": "stdout",
     "output_type": "stream",
     "text": [
      "(5,) (5, 3)\n",
      "(5,) (5, 3)\n",
      "(1000,) (1000, 1000)\n",
      "(1000,) (1000, 1000)\n"
     ]
    }
   ],
   "source": [
    "entries = pd.Series([True, True, True, False, False], index=price.index)\n",
    "entries_wide = entries.vbt.tile(3, keys=['a', 'b', 'c'])\n",
    "print(entries.shape, entries_wide.shape)\n",
    "\n",
    "exits = pd.Series([False, False, True, True, True], index=price.index)\n",
    "exits_wide = exits.vbt.tile(3, keys=['a', 'b', 'c'])\n",
    "print(exits.shape, exits_wide.shape)\n",
    "\n",
    "big_entries = pd.DataFrame.vbt.signals.empty((1000,), index=big_price.index)\n",
    "big_entries.iloc[0::2] = True\n",
    "big_entries_wide = big_entries.vbt.tile(1000)\n",
    "print(big_entries.shape, big_entries_wide.shape)\n",
    "\n",
    "big_exits = pd.DataFrame.vbt.signals.empty((1000,), index=big_price.index)\n",
    "big_exits.iloc[1::2] = True\n",
    "big_exits_wide = big_exits.vbt.tile(1000)\n",
    "print(big_exits.shape, big_exits_wide.shape)"
   ]
  },
  {
   "cell_type": "code",
   "execution_count": 3,
   "metadata": {},
   "outputs": [
    {
     "name": "stdout",
     "output_type": "stream",
     "text": [
      "1.56 ms ± 162 µs per loop (mean ± std. dev. of 7 runs, 1 loop each)\n"
     ]
    }
   ],
   "source": [
    "%timeit vbt.Portfolio.from_signals(\\\n",
    "    big_price, big_entries, big_exits,\\\n",
    "    size=1., init_cash=np.inf, accumulate=True)"
   ]
  },
  {
   "cell_type": "code",
   "execution_count": 4,
   "metadata": {},
   "outputs": [
    {
     "name": "stdout",
     "output_type": "stream",
     "text": [
      "65.9 ms ± 3.33 ms per loop (mean ± std. dev. of 7 runs, 1 loop each)\n"
     ]
    }
   ],
   "source": [
    "%timeit vbt.Portfolio.from_signals(\\\n",
    "    big_price_wide, big_entries_wide, big_exits_wide,\\\n",
    "    size=1., init_cash=np.inf, accumulate=True)"
   ]
  },
  {
   "cell_type": "code",
   "execution_count": 5,
   "metadata": {},
   "outputs": [
    {
     "name": "stdout",
     "output_type": "stream",
     "text": [
      "126 ms ± 36 ms per loop (mean ± std. dev. of 7 runs, 10 loops each)\n"
     ]
    }
   ],
   "source": [
    "%timeit vbt.Portfolio.from_signals(\\\n",
    "    big_price_wide, big_entries_wide, big_exits_wide,\\\n",
    "    size=1., init_cash=np.inf, accumulate=True, log=True)"
   ]
  },
  {
   "cell_type": "code",
   "execution_count": 6,
   "metadata": {},
   "outputs": [
    {
     "name": "stdout",
     "output_type": "stream",
     "text": [
      "53.6 ms ± 176 µs per loop (mean ± std. dev. of 7 runs, 10 loops each)\n"
     ]
    }
   ],
   "source": [
    "%timeit vbt.Portfolio.from_signals(\\\n",
    "    big_price_wide, big_entries_wide, big_exits_wide,\\\n",
    "    size=1., init_cash=np.inf, accumulate=True,\\\n",
    "    group_by=np.repeat(np.arange(500), 2))"
   ]
  },
  {
   "cell_type": "code",
   "execution_count": 7,
   "metadata": {},
   "outputs": [
    {
     "name": "stdout",
     "output_type": "stream",
     "text": [
      "54.2 ms ± 121 µs per loop (mean ± std. dev. of 7 runs, 10 loops each)\n"
     ]
    }
   ],
   "source": [
    "%timeit vbt.Portfolio.from_signals(\\\n",
    "    big_price_wide, big_entries_wide, big_exits_wide,\\\n",
    "    size=1., init_cash=np.inf, accumulate=True,\\\n",
    "    group_by=np.repeat(np.arange(500), 2), cash_sharing=True)"
   ]
  },
  {
   "cell_type": "code",
   "execution_count": 8,
   "metadata": {},
   "outputs": [
    {
     "name": "stdout",
     "output_type": "stream",
     "text": [
      "56.4 ms ± 412 µs per loop (mean ± std. dev. of 7 runs, 1 loop each)\n"
     ]
    }
   ],
   "source": [
    "# worst case\n",
    "%timeit vbt.Portfolio.from_signals(\\\n",
    "    big_price_wide, big_entries_wide, big_exits_wide,\\\n",
    "    size=np.arange(1000)[::-1], init_cash=np.inf, accumulate=True,\\\n",
    "    group_by=np.repeat(np.arange(500), 2), cash_sharing=True, call_seq=CallSeqType.Auto)"
   ]
  },
  {
   "cell_type": "code",
   "execution_count": 9,
   "metadata": {},
   "outputs": [
    {
     "name": "stdout",
     "output_type": "stream",
     "text": [
      "53.9 ms ± 243 µs per loop (mean ± std. dev. of 7 runs, 10 loops each)\n"
     ]
    }
   ],
   "source": [
    "%timeit vbt.Portfolio.from_signals(\\\n",
    "    big_price_wide, big_entries_wide, big_exits_wide,\\\n",
    "    size=1., init_cash=np.inf, accumulate=True,\\\n",
    "    group_by=np.full(1000, 0))"
   ]
  },
  {
   "cell_type": "code",
   "execution_count": 10,
   "metadata": {},
   "outputs": [
    {
     "name": "stdout",
     "output_type": "stream",
     "text": [
      "49.5 ms ± 82.6 µs per loop (mean ± std. dev. of 7 runs, 1 loop each)\n"
     ]
    }
   ],
   "source": [
    "%timeit vbt.Portfolio.from_signals(\\\n",
    "    big_price_wide, big_entries_wide, big_exits_wide,\\\n",
    "    size=1., init_cash=np.inf, accumulate=True,\\\n",
    "    group_by=np.full(1000, 0), cash_sharing=True)"
   ]
  },
  {
   "cell_type": "code",
   "execution_count": 11,
   "metadata": {},
   "outputs": [
    {
     "name": "stdout",
     "output_type": "stream",
     "text": [
      "197 ms ± 1.75 ms per loop (mean ± std. dev. of 7 runs, 1 loop each)\n"
     ]
    }
   ],
   "source": [
    "# worst case\n",
    "%timeit vbt.Portfolio.from_signals(\\\n",
    "    big_price_wide, big_entries_wide, big_exits_wide,\\\n",
    "    size=np.arange(1000)[::-1], init_cash=np.inf, accumulate=True,\\\n",
    "    group_by=np.full(1000, 0), cash_sharing=True, call_seq=CallSeqType.Auto)"
   ]
  },
  {
   "cell_type": "code",
   "execution_count": 5,
   "metadata": {},
   "outputs": [],
   "source": [
    "def test_per_direction(price=price, entries=entries, exits=exits, **kwargs):\n",
    "    print('All')\n",
    "    try:\n",
    "        portfolio = vbt.Portfolio.from_signals(price, entries, exits, direction='all', **kwargs)\n",
    "        print(portfolio.orders.records)\n",
    "    except Exception as e:\n",
    "        print(e)\n",
    "    print('LongOnly')\n",
    "    try:\n",
    "        portfolio = vbt.Portfolio.from_signals(price, entries, exits, direction='longonly', **kwargs)\n",
    "        print(portfolio.orders.records)\n",
    "    except Exception as e:\n",
    "        print(e)\n",
    "    print('ShortOnly')\n",
    "    try:\n",
    "        portfolio = vbt.Portfolio.from_signals(price, entries, exits, direction='shortonly', **kwargs)\n",
    "        print(portfolio.orders.records)\n",
    "    except Exception as e:\n",
    "        print(e)"
   ]
  },
  {
   "cell_type": "code",
   "execution_count": 6,
   "metadata": {},
   "outputs": [
    {
     "name": "stdout",
     "output_type": "stream",
     "text": [
      "All\n",
      "   id  idx  col   size  price  fees  side\n",
      "0   0    0    0  100.0    1.0   0.0     0\n",
      "1   1    3    0  200.0    4.0   0.0     1\n",
      "LongOnly\n",
      "   id  idx  col   size  price  fees  side\n",
      "0   0    0    0  100.0    1.0   0.0     0\n",
      "1   1    3    0  100.0    4.0   0.0     1\n",
      "ShortOnly\n",
      "   id  idx  col   size  price  fees  side\n",
      "0   0    0    0  100.0    1.0   0.0     1\n",
      "1   1    3    0   50.0    4.0   0.0     0\n"
     ]
    }
   ],
   "source": [
    "test_per_direction()"
   ]
  },
  {
   "cell_type": "code",
   "execution_count": 7,
   "metadata": {},
   "outputs": [
    {
     "name": "stdout",
     "output_type": "stream",
     "text": [
      "All\n",
      "   id  idx  col   size  price  fees  side\n",
      "0   0    0    0    1.0    1.0   0.0     0\n",
      "1   1    3    0    2.0    4.0   0.0     1\n",
      "2   2    0    2    1.0    1.0   0.0     0\n",
      "3   3    3    2    2.0    4.0   0.0     1\n",
      "4   4    0    3  100.0    1.0   0.0     0\n",
      "5   5    3    3  200.0    4.0   0.0     1\n",
      "LongOnly\n",
      "   id  idx  col   size  price  fees  side\n",
      "0   0    0    0    1.0    1.0   0.0     0\n",
      "1   1    3    0    1.0    4.0   0.0     1\n",
      "2   2    0    2    1.0    1.0   0.0     0\n",
      "3   3    3    2    1.0    4.0   0.0     1\n",
      "4   4    0    3  100.0    1.0   0.0     0\n",
      "5   5    3    3  100.0    4.0   0.0     1\n",
      "ShortOnly\n",
      "   id  idx  col   size  price  fees  side\n",
      "0   0    0    0    1.0    1.0   0.0     1\n",
      "1   1    3    0    1.0    4.0   0.0     0\n",
      "2   2    0    2    1.0    1.0   0.0     1\n",
      "3   3    3    2    1.0    4.0   0.0     0\n",
      "4   4    0    3  100.0    1.0   0.0     1\n",
      "5   5    3    3   50.0    4.0   0.0     0\n"
     ]
    }
   ],
   "source": [
    "test_per_direction(size=[[-1, 0, 1, np.inf]])"
   ]
  },
  {
   "cell_type": "code",
   "execution_count": 8,
   "metadata": {},
   "outputs": [
    {
     "name": "stdout",
     "output_type": "stream",
     "text": [
      "All\n",
      "SizeType.Percent does not support Direction.All\n",
      "LongOnly\n",
      "   id  idx  col  size  price  fees  side\n",
      "0   0    0    0  50.0    1.0   0.0     0\n",
      "1   1    3    0  50.0    4.0   0.0     1\n",
      "ShortOnly\n",
      "   id  idx  col  size  price  fees  side\n",
      "0   0    0    0  50.0    1.0   0.0     1\n",
      "1   1    3    0  37.5    4.0   0.0     0\n"
     ]
    }
   ],
   "source": [
    "test_per_direction(size=0.5, size_type='percent')"
   ]
  },
  {
   "cell_type": "code",
   "execution_count": 9,
   "metadata": {},
   "outputs": [
    {
     "name": "stdout",
     "output_type": "stream",
     "text": [
      "All\n",
      "   id  idx  col    size  price  fees  side\n",
      "0   0    0    0  50.000    1.0   0.0     0\n",
      "1   1    1    0  12.500    2.0   0.0     0\n",
      "2   2    3    0  65.625    4.0   0.0     1\n",
      "3   3    4    0  25.625    5.0   0.0     1\n",
      "LongOnly\n",
      "   id  idx  col    size  price  fees  side\n",
      "0   0    0    0  50.000    1.0   0.0     0\n",
      "1   1    1    0  12.500    2.0   0.0     0\n",
      "2   2    3    0  31.250    4.0   0.0     1\n",
      "3   3    4    0  15.625    5.0   0.0     1\n",
      "ShortOnly\n",
      "   id  idx  col   size  price  fees  side\n",
      "0   0    0    0  50.00    1.0   0.0     1\n",
      "1   1    3    0  18.75    4.0   0.0     0\n",
      "2   2    4    0   7.50    5.0   0.0     0\n"
     ]
    }
   ],
   "source": [
    "test_per_direction(size=0.5, size_type='percent', accumulate=True)"
   ]
  },
  {
   "cell_type": "code",
   "execution_count": 10,
   "metadata": {},
   "outputs": [
    {
     "name": "stdout",
     "output_type": "stream",
     "text": [
      "All\n",
      "   id  idx  col        size  price  fees  side\n",
      "0   0    0    0   99.009901   1.01   0.0     0\n",
      "1   1    3    0  198.019802   4.04   0.0     1\n",
      "LongOnly\n",
      "   id  idx  col       size  price  fees  side\n",
      "0   0    0    0  99.009901   1.01   0.0     0\n",
      "1   1    3    0  99.009901   4.04   0.0     1\n",
      "ShortOnly\n",
      "   id  idx  col       size  price  fees  side\n",
      "0   0    0    0  99.009901   1.01   0.0     1\n",
      "1   1    3    0  49.504950   4.04   0.0     0\n"
     ]
    }
   ],
   "source": [
    "test_per_direction(price=price * 1.01)"
   ]
  },
  {
   "cell_type": "code",
   "execution_count": 11,
   "metadata": {},
   "outputs": [
    {
     "name": "stdout",
     "output_type": "stream",
     "text": [
      "All\n",
      "   id  idx  col  size  price  fees  side\n",
      "0   0    0    0   1.0    1.0   0.0     0\n",
      "1   1    3    0   2.0    4.0   0.0     1\n",
      "2   2    0    1   1.0    1.0   0.1     0\n",
      "3   3    3    1   2.0    4.0   0.8     1\n",
      "4   4    0    2   1.0    1.0   1.0     0\n",
      "5   5    3    2   2.0    4.0   8.0     1\n",
      "LongOnly\n",
      "   id  idx  col  size  price  fees  side\n",
      "0   0    0    0   1.0    1.0   0.0     0\n",
      "1   1    3    0   1.0    4.0   0.0     1\n",
      "2   2    0    1   1.0    1.0   0.1     0\n",
      "3   3    3    1   1.0    4.0   0.4     1\n",
      "4   4    0    2   1.0    1.0   1.0     0\n",
      "5   5    3    2   1.0    4.0   4.0     1\n",
      "ShortOnly\n",
      "   id  idx  col  size  price  fees  side\n",
      "0   0    0    0   1.0    1.0   0.0     1\n",
      "1   1    3    0   1.0    4.0   0.0     0\n",
      "2   2    0    1   1.0    1.0   0.1     1\n",
      "3   3    3    1   1.0    4.0   0.4     0\n",
      "4   4    0    2   1.0    1.0   1.0     1\n",
      "5   5    3    2   1.0    4.0   4.0     0\n"
     ]
    }
   ],
   "source": [
    "test_per_direction(size=1, fees=[[0., 0.1, 1.]])"
   ]
  },
  {
   "cell_type": "code",
   "execution_count": 12,
   "metadata": {},
   "outputs": [
    {
     "name": "stdout",
     "output_type": "stream",
     "text": [
      "All\n",
      "   id  idx  col  size  price  fees  side\n",
      "0   0    0    0   1.0    1.0   0.0     0\n",
      "1   1    3    0   2.0    4.0   0.0     1\n",
      "2   2    0    1   1.0    1.0   0.1     0\n",
      "3   3    3    1   2.0    4.0   0.1     1\n",
      "4   4    0    2   1.0    1.0   1.0     0\n",
      "5   5    3    2   2.0    4.0   1.0     1\n",
      "LongOnly\n",
      "   id  idx  col  size  price  fees  side\n",
      "0   0    0    0   1.0    1.0   0.0     0\n",
      "1   1    3    0   1.0    4.0   0.0     1\n",
      "2   2    0    1   1.0    1.0   0.1     0\n",
      "3   3    3    1   1.0    4.0   0.1     1\n",
      "4   4    0    2   1.0    1.0   1.0     0\n",
      "5   5    3    2   1.0    4.0   1.0     1\n",
      "ShortOnly\n",
      "   id  idx  col  size  price  fees  side\n",
      "0   0    0    0   1.0    1.0   0.0     1\n",
      "1   1    3    0   1.0    4.0   0.0     0\n",
      "2   2    0    1   1.0    1.0   0.1     1\n",
      "3   3    3    1   1.0    4.0   0.1     0\n",
      "4   4    0    2   1.0    1.0   1.0     1\n",
      "5   5    3    2   1.0    4.0   1.0     0\n"
     ]
    }
   ],
   "source": [
    "test_per_direction(size=1, fixed_fees=[[0., 0.1, 1.]])"
   ]
  },
  {
   "cell_type": "code",
   "execution_count": 13,
   "metadata": {},
   "outputs": [
    {
     "name": "stdout",
     "output_type": "stream",
     "text": [
      "All\n",
      "   id  idx  col  size  price  fees  side\n",
      "0   0    0    0   1.0    1.0   0.0     0\n",
      "1   1    3    0   2.0    4.0   0.0     1\n",
      "2   2    0    1   1.0    1.1   0.0     0\n",
      "3   3    3    1   2.0    3.6   0.0     1\n",
      "4   4    0    2   1.0    2.0   0.0     0\n",
      "5   5    3    2   2.0    0.0   0.0     1\n",
      "LongOnly\n",
      "   id  idx  col  size  price  fees  side\n",
      "0   0    0    0   1.0    1.0   0.0     0\n",
      "1   1    3    0   1.0    4.0   0.0     1\n",
      "2   2    0    1   1.0    1.1   0.0     0\n",
      "3   3    3    1   1.0    3.6   0.0     1\n",
      "4   4    0    2   1.0    2.0   0.0     0\n",
      "5   5    3    2   1.0    0.0   0.0     1\n",
      "ShortOnly\n",
      "   id  idx  col  size  price  fees  side\n",
      "0   0    0    0   1.0    1.0   0.0     1\n",
      "1   1    3    0   1.0    4.0   0.0     0\n",
      "2   2    0    1   1.0    0.9   0.0     1\n",
      "3   3    3    1   1.0    4.4   0.0     0\n",
      "4   4    0    2   1.0    0.0   0.0     1\n",
      "5   5    3    2   1.0    8.0   0.0     0\n"
     ]
    }
   ],
   "source": [
    "test_per_direction(size=1, slippage=[[0., 0.1, 1.]])"
   ]
  },
  {
   "cell_type": "code",
   "execution_count": 14,
   "metadata": {},
   "outputs": [
    {
     "name": "stdout",
     "output_type": "stream",
     "text": [
      "All\n",
      "   id  idx  col  size  price  fees  side\n",
      "0   0    0    0   1.0    1.0   0.0     0\n",
      "1   1    3    0   2.0    4.0   0.0     1\n",
      "2   2    0    1   1.0    1.0   0.0     0\n",
      "3   3    3    1   2.0    4.0   0.0     1\n",
      "LongOnly\n",
      "   id  idx  col  size  price  fees  side\n",
      "0   0    0    0   1.0    1.0   0.0     0\n",
      "1   1    3    0   1.0    4.0   0.0     1\n",
      "2   2    0    1   1.0    1.0   0.0     0\n",
      "3   3    3    1   1.0    4.0   0.0     1\n",
      "ShortOnly\n",
      "   id  idx  col  size  price  fees  side\n",
      "0   0    0    0   1.0    1.0   0.0     1\n",
      "1   1    3    0   1.0    4.0   0.0     0\n",
      "2   2    0    1   1.0    1.0   0.0     1\n",
      "3   3    3    1   1.0    4.0   0.0     0\n"
     ]
    }
   ],
   "source": [
    "test_per_direction(size=1, min_size=[[0., 1., 2.]])"
   ]
  },
  {
   "cell_type": "code",
   "execution_count": 15,
   "metadata": {},
   "outputs": [
    {
     "name": "stdout",
     "output_type": "stream",
     "text": [
      "All\n",
      "   id  idx  col  size  price  fees  side\n",
      "0   0    0    0   0.5    1.0   0.0     0\n",
      "1   1    3    0   0.5    4.0   0.0     1\n",
      "2   2    4    0   0.5    5.0   0.0     1\n",
      "3   3    0    1   1.0    1.0   0.0     0\n",
      "4   4    3    1   1.0    4.0   0.0     1\n",
      "5   5    4    1   1.0    5.0   0.0     1\n",
      "6   6    0    2   1.0    1.0   0.0     0\n",
      "7   7    3    2   2.0    4.0   0.0     1\n",
      "LongOnly\n",
      "   id  idx  col  size  price  fees  side\n",
      "0   0    0    0   0.5    1.0   0.0     0\n",
      "1   1    3    0   0.5    4.0   0.0     1\n",
      "2   2    0    1   1.0    1.0   0.0     0\n",
      "3   3    3    1   1.0    4.0   0.0     1\n",
      "4   4    0    2   1.0    1.0   0.0     0\n",
      "5   5    3    2   1.0    4.0   0.0     1\n",
      "ShortOnly\n",
      "   id  idx  col  size  price  fees  side\n",
      "0   0    0    0   0.5    1.0   0.0     1\n",
      "1   1    3    0   0.5    4.0   0.0     0\n",
      "2   2    0    1   1.0    1.0   0.0     1\n",
      "3   3    3    1   1.0    4.0   0.0     0\n",
      "4   4    0    2   1.0    1.0   0.0     1\n",
      "5   5    3    2   1.0    4.0   0.0     0\n"
     ]
    }
   ],
   "source": [
    "test_per_direction(size=1, max_size=[[0.5, 1., np.inf]])"
   ]
  },
  {
   "cell_type": "code",
   "execution_count": 16,
   "metadata": {},
   "outputs": [
    {
     "name": "stdout",
     "output_type": "stream",
     "text": [
      "All\n",
      "   id  idx  col  size  price  fees  side\n",
      "0   0    0    0   1.0    1.0   0.0     0\n",
      "1   1    3    0   2.0    4.0   0.0     1\n",
      "2   2    1    1   1.0    2.0   0.0     0\n",
      "3   3    3    1   2.0    4.0   0.0     1\n",
      "LongOnly\n",
      "   id  idx  col  size  price  fees  side\n",
      "0   0    0    0   1.0    1.0   0.0     0\n",
      "1   1    3    0   1.0    4.0   0.0     1\n",
      "2   2    1    1   1.0    2.0   0.0     0\n",
      "3   3    3    1   1.0    4.0   0.0     1\n",
      "ShortOnly\n",
      "   id  idx  col  size  price  fees  side\n",
      "0   0    0    0   1.0    1.0   0.0     1\n",
      "1   1    3    0   1.0    4.0   0.0     0\n",
      "2   2    1    1   1.0    2.0   0.0     1\n",
      "3   3    3    1   1.0    4.0   0.0     0\n"
     ]
    }
   ],
   "source": [
    "test_per_direction(size=1., reject_prob=[[0., 0.5, 1.]], seed=42)"
   ]
  },
  {
   "cell_type": "code",
   "execution_count": 25,
   "metadata": {},
   "outputs": [
    {
     "name": "stdout",
     "output_type": "stream",
     "text": [
      "   id  idx  col   size  price  fees  side\n",
      "0   0    0    0  100.0    1.0   0.0     0\n",
      "1   1    3    0  200.0    4.0   0.0     1\n",
      "2   2    0    1  100.0    1.0   0.0     0\n",
      "3   3    3    1  100.0    4.0   0.0     1\n",
      "4   4    4    1   80.0    5.0   0.0     1\n",
      "   id  idx  col   size  price  fees  side\n",
      "0   0    0    0   20.0    5.0   0.0     1\n",
      "1   1    3    0  100.0    2.0   0.0     0\n",
      "2   2    0    1   20.0    5.0   0.0     1\n",
      "3   3    3    1   20.0    2.0   0.0     0\n",
      "4   4    4    1  160.0    1.0   0.0     0\n"
     ]
    }
   ],
   "source": [
    "portfolio = vbt.Portfolio.from_signals(\n",
    "    price, entries, exits, direction='all',\n",
    "    close_first=[[False, True]]\n",
    ")\n",
    "print(portfolio.orders.records)\n",
    "\n",
    "portfolio = vbt.Portfolio.from_signals(\n",
    "    pd.Series(price.values[::-1], index=price.index),\n",
    "    pd.Series(entries.values[::-1], index=price.index),\n",
    "    pd.Series(exits.values[::-1], index=price.index), \n",
    "    direction='all',\n",
    "    close_first=[[False, True]]\n",
    ")\n",
    "print(portfolio.orders.records)"
   ]
  },
  {
   "cell_type": "code",
   "execution_count": 26,
   "metadata": {},
   "outputs": [
    {
     "name": "stdout",
     "output_type": "stream",
     "text": [
      "All\n",
      "   id  idx  col    size  price  fees  side\n",
      "0   0    0    0   100.0    1.0   0.0     0\n",
      "1   1    3    0  1100.0    4.0   0.0     1\n",
      "2   2    3    1  1000.0    4.0   0.0     1\n",
      "LongOnly\n",
      "   id  idx  col   size  price  fees  side\n",
      "0   0    0    0  100.0    1.0   0.0     0\n",
      "1   1    3    0  100.0    4.0   0.0     1\n",
      "ShortOnly\n",
      "   id  idx  col    size  price  fees  side\n",
      "0   0    0    0  1000.0    1.0   0.0     1\n",
      "1   1    3    0   275.0    4.0   0.0     0\n",
      "2   2    0    1  1000.0    1.0   0.0     1\n",
      "All\n",
      "   id  idx  col   size  price  fees  side\n",
      "0   0    0    0  100.0    1.0   0.0     0\n",
      "1   1    3    0  200.0    4.0   0.0     1\n",
      "2   2    0    1  100.0    1.0   0.0     0\n",
      "3   3    3    1  200.0    4.0   0.0     1\n",
      "LongOnly\n",
      "   id  idx  col   size  price  fees  side\n",
      "0   0    0    0  100.0    1.0   0.0     0\n",
      "1   1    3    0  100.0    4.0   0.0     1\n",
      "2   2    0    1  100.0    1.0   0.0     0\n",
      "3   3    3    1  100.0    4.0   0.0     1\n",
      "ShortOnly\n",
      "   id  idx  col   size  price  fees  side\n",
      "0   0    0    0  100.0    1.0   0.0     1\n",
      "1   1    3    0   50.0    4.0   0.0     0\n",
      "2   2    0    1  100.0    1.0   0.0     1\n"
     ]
    }
   ],
   "source": [
    "test_per_direction(size=1000, allow_partial=[[True, False]])\n",
    "test_per_direction(size=np.inf, allow_partial=[[True, False]])"
   ]
  },
  {
   "cell_type": "code",
   "execution_count": 27,
   "metadata": {},
   "outputs": [
    {
     "name": "stdout",
     "output_type": "stream",
     "text": [
      "All\n",
      "   id  idx  col    size  price  fees  side\n",
      "0   0    0    0   100.0    1.0   0.0     0\n",
      "1   1    3    0  1100.0    4.0   0.0     1\n",
      "LongOnly\n",
      "   id  idx  col   size  price  fees  side\n",
      "0   0    0    0  100.0    1.0   0.0     0\n",
      "1   1    3    0  100.0    4.0   0.0     1\n",
      "ShortOnly\n",
      "Order rejected: Not enough cash to cover fees\n",
      "All\n",
      "Order rejected: Final size is less than requested\n",
      "LongOnly\n",
      "Order rejected: Final size is less than requested\n",
      "ShortOnly\n",
      "Order rejected: Final size is less than requested\n"
     ]
    }
   ],
   "source": [
    "test_per_direction(size=1000, allow_partial=True, raise_reject=True)\n",
    "test_per_direction(size=1000, allow_partial=False, raise_reject=True)"
   ]
  },
  {
   "cell_type": "code",
   "execution_count": 28,
   "metadata": {},
   "outputs": [
    {
     "name": "stdout",
     "output_type": "stream",
     "text": [
      "All\n",
      "   id  idx  col  size  price  fees  side\n",
      "0   0    0    0   1.0    1.0   0.0     0\n",
      "1   1    1    0   1.0    2.0   0.0     0\n",
      "2   2    3    0   1.0    4.0   0.0     1\n",
      "3   3    4    0   1.0    5.0   0.0     1\n",
      "LongOnly\n",
      "   id  idx  col  size  price  fees  side\n",
      "0   0    0    0   1.0    1.0   0.0     0\n",
      "1   1    1    0   1.0    2.0   0.0     0\n",
      "2   2    3    0   1.0    4.0   0.0     1\n",
      "3   3    4    0   1.0    5.0   0.0     1\n",
      "ShortOnly\n",
      "   id  idx  col  size  price  fees  side\n",
      "0   0    0    0   1.0    1.0   0.0     1\n",
      "1   1    1    0   1.0    2.0   0.0     1\n",
      "2   2    3    0   1.0    4.0   0.0     0\n",
      "3   3    4    0   1.0    5.0   0.0     0\n"
     ]
    }
   ],
   "source": [
    "test_per_direction(size=1, accumulate=True)"
   ]
  },
  {
   "cell_type": "code",
   "execution_count": 29,
   "metadata": {},
   "outputs": [
    {
     "name": "stdout",
     "output_type": "stream",
     "text": [
      "   id  idx  col   size  price  fees  side\n",
      "0   0    0    0  100.0    1.0   0.0     0\n",
      "1   1    3    0  200.0    4.0   0.0     1\n",
      "   id  idx  col  group  cash_now  shares_now  val_price_now  value_now  size  \\\n",
      "0   0    0    0      0     100.0         0.0            1.0      100.0   inf   \n",
      "1   1    3    0      0       0.0       100.0            4.0      400.0  -inf   \n",
      "\n",
      "   size_type  ...   log  new_cash  new_shares  res_size  res_price  res_fees  \\\n",
      "0          0  ...  True       0.0       100.0     100.0        1.0       0.0   \n",
      "1          0  ...  True     800.0      -100.0     200.0        4.0       0.0   \n",
      "\n",
      "   res_side  res_status  res_status_info  order_id  \n",
      "0         0           0               -1         0  \n",
      "1         1           0               -1         1  \n",
      "\n",
      "[2 rows x 30 columns]\n"
     ]
    }
   ],
   "source": [
    "portfolio = vbt.Portfolio.from_signals(price, entries, exits, log=True, direction='all')\n",
    "print(portfolio.orders.records)\n",
    "print(portfolio.logs.records)"
   ]
  },
  {
   "cell_type": "code",
   "execution_count": 17,
   "metadata": {},
   "outputs": [
    {
     "name": "stdout",
     "output_type": "stream",
     "text": [
      "All\n",
      "   id  idx  col  size  price  fees  side\n",
      "0   0    1    0   1.0    2.0   0.0     0\n",
      "1   1    0    1   1.0    1.0   0.0     0\n",
      "2   2    0    2   1.0    1.0   0.0     1\n",
      "3   3    1    2   2.0    2.0   0.0     0\n",
      "4   4    2    2   2.0    3.0   0.0     1\n",
      "5   5    1    3   1.0    2.0   0.0     0\n",
      "6   6    2    3   2.0    3.0   0.0     1\n",
      "7   7    1    4   1.0    2.0   0.0     1\n",
      "8   8    2    4   2.0    3.0   0.0     0\n",
      "LongOnly\n",
      "   id  idx  col  size  price  fees  side\n",
      "0   0    1    0   1.0    2.0   0.0     0\n",
      "1   1    0    1   1.0    1.0   0.0     0\n",
      "2   2    1    2   1.0    2.0   0.0     0\n",
      "3   3    2    2   1.0    3.0   0.0     1\n",
      "4   4    1    3   1.0    2.0   0.0     0\n",
      "5   5    2    3   1.0    3.0   0.0     1\n",
      "ShortOnly\n",
      "   id  idx  col  size  price  fees  side\n",
      "0   0    1    0   1.0    2.0   0.0     1\n",
      "1   1    0    1   1.0    1.0   0.0     1\n",
      "2   2    1    2   1.0    2.0   0.0     1\n",
      "3   3    2    2   1.0    3.0   0.0     0\n",
      "4   4    1    3   1.0    2.0   0.0     1\n",
      "5   5    2    3   1.0    3.0   0.0     0\n"
     ]
    }
   ],
   "source": [
    "test_per_direction(price=price.iloc[:3], entries=pd.DataFrame([\n",
    "    [True, True, True, True, True],\n",
    "    [True, True, True, True, False],\n",
    "    [True, True, True, True, True]\n",
    "]), exits=pd.DataFrame([\n",
    "    [True, True, True, True, True],\n",
    "    [False, False, False, False, True],\n",
    "    [True, True, True, True, True]\n",
    "]), size=1., conflict_mode=[[\n",
    "    'ignore', \n",
    "    'entry', \n",
    "    'exit', \n",
    "    'opposite',\n",
    "    'opposite'\n",
    "]])"
   ]
  },
  {
   "cell_type": "code",
   "execution_count": 18,
   "metadata": {},
   "outputs": [
    {
     "name": "stdout",
     "output_type": "stream",
     "text": [
      "All\n",
      "   id  idx  col  size  price  fees  side\n",
      "0   0    3    0   1.0    4.0   0.0     1\n",
      "1   1    0    1   1.0    1.0   0.0     0\n",
      "2   2    3    1   2.0    4.0   0.0     1\n",
      "3   3    0    2   1.0    1.0   0.0     0\n",
      "4   4    3    2   2.0    4.0   0.0     1\n",
      "LongOnly\n",
      "   id  idx  col  size  price  fees  side\n",
      "0   0    0    1   1.0    1.0   0.0     0\n",
      "1   1    3    1   1.0    4.0   0.0     1\n",
      "2   2    0    2   1.0    1.0   0.0     0\n",
      "3   3    3    2   1.0    4.0   0.0     1\n",
      "ShortOnly\n",
      "   id  idx  col  size  price  fees  side\n",
      "0   0    0    0  1.00    1.0   0.0     1\n",
      "1   1    3    0  0.25    4.0   0.0     0\n",
      "2   2    0    1  1.00    1.0   0.0     1\n",
      "3   3    3    1  0.50    4.0   0.0     0\n",
      "4   4    0    2  1.00    1.0   0.0     1\n",
      "5   5    3    2  1.00    4.0   0.0     0\n",
      "All\n",
      "Attempt to go in long direction indefinitely. Set max_size or finite init_cash.\n",
      "LongOnly\n",
      "Attempt to go in long direction indefinitely. Set max_size or finite init_cash.\n",
      "ShortOnly\n",
      "Attempt to go in short direction indefinitely. Set max_size or finite init_cash.\n"
     ]
    }
   ],
   "source": [
    "test_per_direction(price=price_wide, size=1., init_cash=[0., 1., 100.])\n",
    "test_per_direction(init_cash=np.inf)"
   ]
  },
  {
   "cell_type": "code",
   "execution_count": 32,
   "metadata": {},
   "outputs": [
    {
     "name": "stdout",
     "output_type": "stream",
     "text": [
      "   id  idx  col   size  price  fees  side\n",
      "0   0    0    0  100.0    1.0   0.0     0\n",
      "1   1    3    0  200.0    4.0   0.0     1\n",
      "2   2    0    1  100.0    1.0   0.0     0\n",
      "3   3    3    1  200.0    4.0   0.0     1\n",
      "4   4    0    2  100.0    1.0   0.0     0\n",
      "5   5    3    2  200.0    4.0   0.0     1\n"
     ]
    }
   ],
   "source": [
    "portfolio = vbt.Portfolio.from_signals(\n",
    "    price_wide, entries, exits, \n",
    "    group_by=np.array([0, 0, 1]), direction='all')\n",
    "\n",
    "print(portfolio.orders.records)"
   ]
  },
  {
   "cell_type": "code",
   "execution_count": 33,
   "metadata": {},
   "outputs": [
    {
     "name": "stdout",
     "output_type": "stream",
     "text": [
      "   id  idx  col   size  price  fees  side\n",
      "0   0    0    0  100.0    1.0   0.0     0\n",
      "1   1    3    0  200.0    4.0   0.0     1\n",
      "2   2    3    1  200.0    4.0   0.0     1\n",
      "3   3    0    2  100.0    1.0   0.0     0\n",
      "4   4    3    2  200.0    4.0   0.0     1\n",
      "            a  b  c\n",
      "2020-01-01  0  1  0\n",
      "2020-01-02  0  1  0\n",
      "2020-01-03  0  1  0\n",
      "2020-01-04  0  1  0\n",
      "2020-01-05  0  1  0\n",
      "Cannot modify grouping globally when cash_sharing=True\n"
     ]
    }
   ],
   "source": [
    "portfolio = vbt.Portfolio.from_signals(\n",
    "    price_wide, entries, exits, \n",
    "    group_by=np.array([0, 0, 1]), cash_sharing=True, direction='all')\n",
    "\n",
    "print(portfolio.orders.records)\n",
    "print(portfolio.call_seq)\n",
    "try:\n",
    "    print(portfolio.regroup(group_by=False))\n",
    "except Exception as e:\n",
    "    print(e)"
   ]
  },
  {
   "cell_type": "code",
   "execution_count": 34,
   "metadata": {},
   "outputs": [
    {
     "name": "stdout",
     "output_type": "stream",
     "text": [
      "   id  idx  col   size  price  fees  side\n",
      "0   0    0    1  100.0    1.0   0.0     0\n",
      "1   1    3    1  200.0    4.0   0.0     1\n",
      "2   2    3    0  200.0    4.0   0.0     1\n",
      "3   3    0    2  100.0    1.0   0.0     0\n",
      "4   4    3    2  200.0    4.0   0.0     1\n",
      "            a  b  c\n",
      "2020-01-01  1  0  0\n",
      "2020-01-02  1  0  0\n",
      "2020-01-03  1  0  0\n",
      "2020-01-04  1  0  0\n",
      "2020-01-05  1  0  0\n"
     ]
    }
   ],
   "source": [
    "portfolio = vbt.Portfolio.from_signals(\n",
    "    price_wide, entries, exits, \n",
    "    group_by=np.array([0, 0, 1]), cash_sharing=True, direction='all', call_seq='reversed')\n",
    "\n",
    "print(portfolio.orders.records)\n",
    "print(portfolio.call_seq)"
   ]
  },
  {
   "cell_type": "code",
   "execution_count": 35,
   "metadata": {},
   "outputs": [
    {
     "name": "stdout",
     "output_type": "stream",
     "text": [
      "   id  idx  col   size  price  fees  side\n",
      "0   0    0    1  100.0    1.0   0.0     0\n",
      "1   1    3    1  200.0    4.0   0.0     1\n",
      "2   2    3    0  200.0    4.0   0.0     1\n",
      "3   3    0    2  100.0    1.0   0.0     0\n",
      "4   4    3    2  200.0    4.0   0.0     1\n",
      "            a  b  c\n",
      "2020-01-01  1  0  0\n",
      "2020-01-02  1  0  0\n",
      "2020-01-03  1  0  0\n",
      "2020-01-04  1  0  0\n",
      "2020-01-05  0  1  0\n",
      "   id  idx  col   size  price  fees  side\n",
      "0   0    0    1  100.0    1.0   0.0     0\n",
      "1   1    3    1  200.0    4.0   0.0     1\n",
      "2   2    3    0  200.0    4.0   0.0     1\n",
      "3   3    0    2  100.0    1.0   0.0     0\n",
      "4   4    3    2  200.0    4.0   0.0     1\n",
      "            a  b  c\n",
      "2020-01-01  1  0  0\n",
      "2020-01-02  0  1  0\n",
      "2020-01-03  1  0  0\n",
      "2020-01-04  1  0  0\n",
      "2020-01-05  1  0  0\n"
     ]
    }
   ],
   "source": [
    "portfolio = vbt.Portfolio.from_signals(\n",
    "    price_wide, entries, exits, \n",
    "    group_by=np.array([0, 0, 1]), cash_sharing=True, direction='all', call_seq='random')\n",
    "\n",
    "print(portfolio.orders.records)\n",
    "print(portfolio.call_seq)\n",
    "\n",
    "portfolio = vbt.Portfolio.from_signals(\n",
    "    price_wide, entries, exits, \n",
    "    group_by=np.array([0, 0, 1]), cash_sharing=True, direction='all', call_seq='random', seed=42)\n",
    "\n",
    "print(portfolio.orders.records)\n",
    "print(portfolio.call_seq)"
   ]
  },
  {
   "cell_type": "code",
   "execution_count": 36,
   "metadata": {},
   "outputs": [
    {
     "name": "stdout",
     "output_type": "stream",
     "text": [
      "All\n",
      "   id  idx  col    size  price  fees  side\n",
      "0   0    0    2   100.0    1.0   0.0     0\n",
      "1   1    1    2   200.0    1.0   0.0     1\n",
      "2   2    1    1   200.0    1.0   0.0     0\n",
      "3   3    2    1   400.0    1.0   0.0     1\n",
      "4   4    2    0   400.0    1.0   0.0     0\n",
      "5   5    3    0   800.0    1.0   0.0     1\n",
      "6   6    3    2   800.0    1.0   0.0     0\n",
      "7   7    4    2  1400.0    1.0   0.0     1\n",
      "8   8    4    1  1400.0    1.0   0.0     0\n",
      "   0  1  2\n",
      "0  0  1  2\n",
      "1  2  0  1\n",
      "2  1  2  0\n",
      "3  0  1  2\n",
      "4  2  0  1\n",
      "       0       1      2\n",
      "0    0.0     0.0  100.0\n",
      "1    0.0   200.0 -100.0\n",
      "2  400.0  -200.0 -100.0\n",
      "3 -400.0  -200.0  700.0\n",
      "4 -400.0  1200.0 -700.0\n",
      "0    100.0\n",
      "1    100.0\n",
      "2    100.0\n",
      "3    100.0\n",
      "4    100.0\n",
      "dtype: float64\n",
      "LongOnly\n",
      "   id  idx  col   size  price  fees  side\n",
      "0   0    0    2  100.0    1.0   0.0     0\n",
      "1   1    1    2  100.0    1.0   0.0     1\n",
      "2   2    1    1  100.0    1.0   0.0     0\n",
      "3   3    2    1  100.0    1.0   0.0     1\n",
      "4   4    2    0  100.0    1.0   0.0     0\n",
      "5   5    3    0  100.0    1.0   0.0     1\n",
      "6   6    3    2  100.0    1.0   0.0     0\n",
      "7   7    4    2  100.0    1.0   0.0     1\n",
      "8   8    4    1  100.0    1.0   0.0     0\n",
      "   0  1  2\n",
      "0  0  1  2\n",
      "1  2  0  1\n",
      "2  1  2  0\n",
      "3  0  1  2\n",
      "4  2  0  1\n",
      "       0      1      2\n",
      "0    0.0    0.0  100.0\n",
      "1    0.0  100.0    0.0\n",
      "2  100.0    0.0    0.0\n",
      "3    0.0    0.0  100.0\n",
      "4    0.0  100.0    0.0\n",
      "0    100.0\n",
      "1    100.0\n",
      "2    100.0\n",
      "3    100.0\n",
      "4    100.0\n",
      "dtype: float64\n",
      "ShortOnly\n",
      "   id  idx  col   size  price  fees  side\n",
      "0   0    0    2  100.0    1.0   0.0     1\n",
      "1   1    1    1  200.0    1.0   0.0     1\n",
      "2   2    1    2  100.0    1.0   0.0     0\n",
      "3   3    2    0  300.0    1.0   0.0     1\n",
      "4   4    2    1  200.0    1.0   0.0     0\n",
      "5   5    3    2  400.0    1.0   0.0     1\n",
      "6   6    3    0  300.0    1.0   0.0     0\n",
      "7   7    4    1  500.0    1.0   0.0     1\n",
      "8   8    4    2  400.0    1.0   0.0     0\n",
      "   0  1  2\n",
      "0  2  0  1\n",
      "1  1  0  2\n",
      "2  0  2  1\n",
      "3  2  1  0\n",
      "4  1  0  2\n",
      "       0      1      2\n",
      "0    0.0    0.0 -100.0\n",
      "1    0.0 -200.0    0.0\n",
      "2 -300.0    0.0    0.0\n",
      "3    0.0    0.0 -400.0\n",
      "4    0.0 -500.0    0.0\n",
      "0    100.0\n",
      "1    100.0\n",
      "2    100.0\n",
      "3    100.0\n",
      "4    100.0\n",
      "dtype: float64\n"
     ]
    }
   ],
   "source": [
    "for direction in ('All', 'LongOnly', 'ShortOnly'):\n",
    "    print(direction)\n",
    "    portfolio = vbt.Portfolio.from_signals(1., pd.DataFrame([\n",
    "        [False, False, True],\n",
    "        [False, True, False],\n",
    "        [True, False, False],\n",
    "        [False, False, True],\n",
    "        [False, True, False],\n",
    "    ]), pd.DataFrame([\n",
    "        [False, False, False],\n",
    "        [False, False, True],\n",
    "        [False, True, False],\n",
    "        [True, False, False],\n",
    "        [False, False, True],\n",
    "    ]), group_by=np.array([0, 0, 0]), \n",
    "        cash_sharing=True, call_seq='auto', direction=direction)\n",
    "\n",
    "    print(portfolio.orders.records)\n",
    "    print(portfolio.call_seq)\n",
    "    print(portfolio.shares())\n",
    "    print(portfolio.value())\n",
    "    # notice how shorting with np.inf only accounts for current cash, not for other assets!"
   ]
  },
  {
   "cell_type": "markdown",
   "metadata": {},
   "source": [
    "## from_orders"
   ]
  },
  {
   "cell_type": "code",
   "execution_count": 19,
   "metadata": {},
   "outputs": [],
   "source": [
    "order_size = pd.Series([np.inf, -np.inf, np.nan, np.inf, -np.inf], index=price.index)\n",
    "order_size_wide = order_size.vbt.tile(3, keys=['a', 'b', 'c'])\n",
    "\n",
    "big_order_size = pd.DataFrame.vbt.empty((1000,), 1, dtype=np.float_)\n",
    "big_order_size.iloc[1::2] = -1\n",
    "big_order_size_wide = big_order_size.vbt.tile(1000)"
   ]
  },
  {
   "cell_type": "code",
   "execution_count": 20,
   "metadata": {},
   "outputs": [
    {
     "name": "stdout",
     "output_type": "stream",
     "text": [
      "1.5 ms ± 177 µs per loop (mean ± std. dev. of 7 runs, 1 loop each)\n"
     ]
    }
   ],
   "source": [
    "%timeit vbt.Portfolio.from_orders(big_price, big_order_size, init_cash=np.inf)"
   ]
  },
  {
   "cell_type": "code",
   "execution_count": 21,
   "metadata": {},
   "outputs": [
    {
     "name": "stdout",
     "output_type": "stream",
     "text": [
      "49.2 ms ± 1.68 ms per loop (mean ± std. dev. of 7 runs, 1 loop each)\n"
     ]
    }
   ],
   "source": [
    "%timeit vbt.Portfolio.from_orders(big_price_wide, big_order_size_wide, init_cash=np.inf)"
   ]
  },
  {
   "cell_type": "code",
   "execution_count": 22,
   "metadata": {},
   "outputs": [
    {
     "name": "stdout",
     "output_type": "stream",
     "text": [
      "46.2 ms ± 2.1 ms per loop (mean ± std. dev. of 7 runs, 10 loops each)\n"
     ]
    }
   ],
   "source": [
    "%timeit vbt.Portfolio.from_orders(\\\n",
    "    big_price_wide, big_order_size_wide, init_cash=np.inf, \\\n",
    "    group_by=np.repeat(np.arange(500), 2))"
   ]
  },
  {
   "cell_type": "code",
   "execution_count": 41,
   "metadata": {},
   "outputs": [
    {
     "name": "stdout",
     "output_type": "stream",
     "text": [
      "43.5 ms ± 1.4 ms per loop (mean ± std. dev. of 7 runs, 10 loops each)\n"
     ]
    }
   ],
   "source": [
    "%timeit vbt.Portfolio.from_orders(\\\n",
    "    big_price_wide, big_order_size_wide, init_cash=np.inf, \\\n",
    "    group_by=np.repeat(np.arange(500), 2), cash_sharing=True)"
   ]
  },
  {
   "cell_type": "code",
   "execution_count": 42,
   "metadata": {},
   "outputs": [
    {
     "name": "stdout",
     "output_type": "stream",
     "text": [
      "50 ms ± 725 µs per loop (mean ± std. dev. of 7 runs, 10 loops each)\n"
     ]
    }
   ],
   "source": [
    "%timeit vbt.Portfolio.from_orders(\\\n",
    "    big_price_wide, big_order_size_wide, init_cash=np.inf, \\\n",
    "    group_by=np.repeat(np.arange(500), 2), cash_sharing=True, call_seq=CallSeqType.Auto)"
   ]
  },
  {
   "cell_type": "code",
   "execution_count": 43,
   "metadata": {},
   "outputs": [
    {
     "name": "stdout",
     "output_type": "stream",
     "text": [
      "43.4 ms ± 769 µs per loop (mean ± std. dev. of 7 runs, 10 loops each)\n"
     ]
    }
   ],
   "source": [
    "%timeit vbt.Portfolio.from_orders(\\\n",
    "    big_price_wide, big_order_size_wide, init_cash=np.inf, \\\n",
    "    group_by=np.full(1000, 0))"
   ]
  },
  {
   "cell_type": "code",
   "execution_count": 44,
   "metadata": {},
   "outputs": [
    {
     "name": "stdout",
     "output_type": "stream",
     "text": [
      "39.7 ms ± 122 µs per loop (mean ± std. dev. of 7 runs, 1 loop each)\n"
     ]
    }
   ],
   "source": [
    "%timeit vbt.Portfolio.from_orders(\\\n",
    "    big_price_wide, big_order_size_wide, init_cash=np.inf, \\\n",
    "    group_by=np.full(1000, 0), cash_sharing=True)"
   ]
  },
  {
   "cell_type": "code",
   "execution_count": 45,
   "metadata": {},
   "outputs": [
    {
     "name": "stdout",
     "output_type": "stream",
     "text": [
      "45.7 ms ± 1.03 ms per loop (mean ± std. dev. of 7 runs, 10 loops each)\n"
     ]
    }
   ],
   "source": [
    "%timeit vbt.Portfolio.from_orders(\\\n",
    "    big_price_wide, big_order_size_wide, init_cash=np.inf, \\\n",
    "    group_by=np.full(1000, 0), cash_sharing=True, call_seq=CallSeqType.Auto)"
   ]
  },
  {
   "cell_type": "code",
   "execution_count": 23,
   "metadata": {},
   "outputs": [],
   "source": [
    "def test_per_direction(price=price, size=order_size, **kwargs):\n",
    "    print('All')\n",
    "    try:\n",
    "        portfolio = vbt.Portfolio.from_orders(price, size, direction='all', **kwargs)\n",
    "        print(portfolio.orders.records)\n",
    "    except Exception as e:\n",
    "        print(e)\n",
    "    print('LongOnly')\n",
    "    try:\n",
    "        portfolio = vbt.Portfolio.from_orders(price, size, direction='longonly', **kwargs)\n",
    "        print(portfolio.orders.records)\n",
    "    except Exception as e:\n",
    "        print(e)\n",
    "    print('ShortOnly')\n",
    "    try:\n",
    "        portfolio = vbt.Portfolio.from_orders(price, size, direction='shortonly', **kwargs)\n",
    "        print(portfolio.orders.records)\n",
    "    except Exception as e:\n",
    "        print(e)"
   ]
  },
  {
   "cell_type": "code",
   "execution_count": 24,
   "metadata": {},
   "outputs": [
    {
     "name": "stdout",
     "output_type": "stream",
     "text": [
      "All\n",
      "   id  idx  col   size  price  fees  side\n",
      "0   0    0    0  100.0    1.0   0.0     0\n",
      "1   1    1    0  200.0    2.0   0.0     1\n",
      "2   2    3    0  100.0    4.0   0.0     0\n",
      "LongOnly\n",
      "   id  idx  col   size  price  fees  side\n",
      "0   0    0    0  100.0    1.0   0.0     0\n",
      "1   1    1    0  100.0    2.0   0.0     1\n",
      "2   2    3    0   50.0    4.0   0.0     0\n",
      "3   3    4    0   50.0    5.0   0.0     1\n",
      "ShortOnly\n",
      "   id  idx  col   size  price  fees  side\n",
      "0   0    0    0  100.0    1.0   0.0     1\n",
      "1   1    1    0  100.0    2.0   0.0     0\n"
     ]
    }
   ],
   "source": [
    "test_per_direction()"
   ]
  },
  {
   "cell_type": "code",
   "execution_count": 25,
   "metadata": {},
   "outputs": [
    {
     "name": "stdout",
     "output_type": "stream",
     "text": [
      "All\n",
      "   id  idx  col   size  price  fees  side\n",
      "0   0    0    0  100.0    1.0   0.0     0\n",
      "1   1    1    0  200.0    2.0   0.0     1\n",
      "2   2    3    0  100.0    4.0   0.0     0\n",
      "3   3    0    1  100.0    1.0   0.0     0\n",
      "4   4    1    1  200.0    2.0   0.0     1\n",
      "5   5    3    1  100.0    4.0   0.0     0\n",
      "6   6    0    2  100.0    1.0   0.0     0\n",
      "7   7    1    2  200.0    2.0   0.0     1\n",
      "8   8    3    2  100.0    4.0   0.0     0\n",
      "LongOnly\n",
      "    id  idx  col   size  price  fees  side\n",
      "0    0    0    0  100.0    1.0   0.0     0\n",
      "1    1    1    0  100.0    2.0   0.0     1\n",
      "2    2    3    0   50.0    4.0   0.0     0\n",
      "3    3    4    0   50.0    5.0   0.0     1\n",
      "4    4    0    1  100.0    1.0   0.0     0\n",
      "5    5    1    1  100.0    2.0   0.0     1\n",
      "6    6    3    1   50.0    4.0   0.0     0\n",
      "7    7    4    1   50.0    5.0   0.0     1\n",
      "8    8    0    2  100.0    1.0   0.0     0\n",
      "9    9    1    2  100.0    2.0   0.0     1\n",
      "10  10    3    2   50.0    4.0   0.0     0\n",
      "11  11    4    2   50.0    5.0   0.0     1\n",
      "ShortOnly\n",
      "   id  idx  col   size  price  fees  side\n",
      "0   0    0    0  100.0    1.0   0.0     1\n",
      "1   1    1    0  100.0    2.0   0.0     0\n",
      "2   2    0    1  100.0    1.0   0.0     1\n",
      "3   3    1    1  100.0    2.0   0.0     0\n",
      "4   4    0    2  100.0    1.0   0.0     1\n",
      "5   5    1    2  100.0    2.0   0.0     0\n"
     ]
    }
   ],
   "source": [
    "test_per_direction(price=price_wide)"
   ]
  },
  {
   "cell_type": "code",
   "execution_count": 26,
   "metadata": {},
   "outputs": [
    {
     "name": "stdout",
     "output_type": "stream",
     "text": [
      "All\n",
      "   id  idx  col   size  price  fees  side\n",
      "0   0    0    0  100.0    1.0   0.0     0\n",
      "1   1    0    1  100.0    1.0   0.0     1\n",
      "LongOnly\n",
      "   id  idx  col   size  price  fees  side\n",
      "0   0    0    0  100.0    1.0   0.0     0\n",
      "ShortOnly\n",
      "   id  idx  col   size  price  fees  side\n",
      "0   0    0    0  100.0    1.0   0.0     1\n"
     ]
    }
   ],
   "source": [
    "test_per_direction(size=[[np.inf, -np.inf]])"
   ]
  },
  {
   "cell_type": "code",
   "execution_count": 27,
   "metadata": {},
   "outputs": [],
   "source": [
    "order_size_one = pd.Series([1, -1, np.nan, 1, -1], index=price.index)"
   ]
  },
  {
   "cell_type": "code",
   "execution_count": 28,
   "metadata": {},
   "outputs": [
    {
     "name": "stdout",
     "output_type": "stream",
     "text": [
      "All\n",
      "   id  idx  col        size  price  fees  side\n",
      "0   0    0    0   99.009901   1.01   0.0     0\n",
      "1   1    1    0  198.019802   2.02   0.0     1\n",
      "2   2    3    0   99.009901   4.04   0.0     0\n",
      "LongOnly\n",
      "   id  idx  col       size  price  fees  side\n",
      "0   0    0    0  99.009901   1.01   0.0     0\n",
      "1   1    1    0  99.009901   2.02   0.0     1\n",
      "2   2    3    0  49.504950   4.04   0.0     0\n",
      "3   3    4    0  49.504950   5.05   0.0     1\n",
      "ShortOnly\n",
      "   id  idx  col       size  price  fees  side\n",
      "0   0    0    0  99.009901   1.01   0.0     1\n",
      "1   1    1    0  99.009901   2.02   0.0     0\n"
     ]
    }
   ],
   "source": [
    "test_per_direction(price=price * 1.01)"
   ]
  },
  {
   "cell_type": "code",
   "execution_count": 29,
   "metadata": {},
   "outputs": [
    {
     "name": "stdout",
     "output_type": "stream",
     "text": [
      "All\n",
      "    id  idx  col  size  price  fees  side\n",
      "0    0    0    0   1.0    1.0   0.0     0\n",
      "1    1    1    0   1.0    2.0   0.0     1\n",
      "2    2    3    0   1.0    4.0   0.0     0\n",
      "3    3    4    0   1.0    5.0   0.0     1\n",
      "4    4    0    1   1.0    1.0   0.1     0\n",
      "5    5    1    1   1.0    2.0   0.2     1\n",
      "6    6    3    1   1.0    4.0   0.4     0\n",
      "7    7    4    1   1.0    5.0   0.5     1\n",
      "8    8    0    2   1.0    1.0   1.0     0\n",
      "9    9    1    2   1.0    2.0   2.0     1\n",
      "10  10    3    2   1.0    4.0   4.0     0\n",
      "11  11    4    2   1.0    5.0   5.0     1\n",
      "LongOnly\n",
      "    id  idx  col  size  price  fees  side\n",
      "0    0    0    0   1.0    1.0   0.0     0\n",
      "1    1    1    0   1.0    2.0   0.0     1\n",
      "2    2    3    0   1.0    4.0   0.0     0\n",
      "3    3    4    0   1.0    5.0   0.0     1\n",
      "4    4    0    1   1.0    1.0   0.1     0\n",
      "5    5    1    1   1.0    2.0   0.2     1\n",
      "6    6    3    1   1.0    4.0   0.4     0\n",
      "7    7    4    1   1.0    5.0   0.5     1\n",
      "8    8    0    2   1.0    1.0   1.0     0\n",
      "9    9    1    2   1.0    2.0   2.0     1\n",
      "10  10    3    2   1.0    4.0   4.0     0\n",
      "11  11    4    2   1.0    5.0   5.0     1\n",
      "ShortOnly\n",
      "    id  idx  col  size  price  fees  side\n",
      "0    0    0    0   1.0    1.0   0.0     1\n",
      "1    1    1    0   1.0    2.0   0.0     0\n",
      "2    2    3    0   1.0    4.0   0.0     1\n",
      "3    3    4    0   1.0    5.0   0.0     0\n",
      "4    4    0    1   1.0    1.0   0.1     1\n",
      "5    5    1    1   1.0    2.0   0.2     0\n",
      "6    6    3    1   1.0    4.0   0.4     1\n",
      "7    7    4    1   1.0    5.0   0.5     0\n",
      "8    8    0    2   1.0    1.0   1.0     1\n",
      "9    9    1    2   1.0    2.0   2.0     0\n",
      "10  10    3    2   1.0    4.0   4.0     1\n",
      "11  11    4    2   1.0    5.0   5.0     0\n"
     ]
    }
   ],
   "source": [
    "test_per_direction(size=order_size_one, fees=[[0., 0.1, 1.]])"
   ]
  },
  {
   "cell_type": "code",
   "execution_count": 30,
   "metadata": {},
   "outputs": [
    {
     "name": "stdout",
     "output_type": "stream",
     "text": [
      "All\n",
      "    id  idx  col  size  price  fees  side\n",
      "0    0    0    0   1.0    1.0   0.0     0\n",
      "1    1    1    0   1.0    2.0   0.0     1\n",
      "2    2    3    0   1.0    4.0   0.0     0\n",
      "3    3    4    0   1.0    5.0   0.0     1\n",
      "4    4    0    1   1.0    1.0   0.1     0\n",
      "5    5    1    1   1.0    2.0   0.1     1\n",
      "6    6    3    1   1.0    4.0   0.1     0\n",
      "7    7    4    1   1.0    5.0   0.1     1\n",
      "8    8    0    2   1.0    1.0   1.0     0\n",
      "9    9    1    2   1.0    2.0   1.0     1\n",
      "10  10    3    2   1.0    4.0   1.0     0\n",
      "11  11    4    2   1.0    5.0   1.0     1\n",
      "LongOnly\n",
      "    id  idx  col  size  price  fees  side\n",
      "0    0    0    0   1.0    1.0   0.0     0\n",
      "1    1    1    0   1.0    2.0   0.0     1\n",
      "2    2    3    0   1.0    4.0   0.0     0\n",
      "3    3    4    0   1.0    5.0   0.0     1\n",
      "4    4    0    1   1.0    1.0   0.1     0\n",
      "5    5    1    1   1.0    2.0   0.1     1\n",
      "6    6    3    1   1.0    4.0   0.1     0\n",
      "7    7    4    1   1.0    5.0   0.1     1\n",
      "8    8    0    2   1.0    1.0   1.0     0\n",
      "9    9    1    2   1.0    2.0   1.0     1\n",
      "10  10    3    2   1.0    4.0   1.0     0\n",
      "11  11    4    2   1.0    5.0   1.0     1\n",
      "ShortOnly\n",
      "    id  idx  col  size  price  fees  side\n",
      "0    0    0    0   1.0    1.0   0.0     1\n",
      "1    1    1    0   1.0    2.0   0.0     0\n",
      "2    2    3    0   1.0    4.0   0.0     1\n",
      "3    3    4    0   1.0    5.0   0.0     0\n",
      "4    4    0    1   1.0    1.0   0.1     1\n",
      "5    5    1    1   1.0    2.0   0.1     0\n",
      "6    6    3    1   1.0    4.0   0.1     1\n",
      "7    7    4    1   1.0    5.0   0.1     0\n",
      "8    8    0    2   1.0    1.0   1.0     1\n",
      "9    9    1    2   1.0    2.0   1.0     0\n",
      "10  10    3    2   1.0    4.0   1.0     1\n",
      "11  11    4    2   1.0    5.0   1.0     0\n"
     ]
    }
   ],
   "source": [
    "test_per_direction(size=order_size_one, fixed_fees=[[0., 0.1, 1.]])"
   ]
  },
  {
   "cell_type": "code",
   "execution_count": 31,
   "metadata": {},
   "outputs": [
    {
     "name": "stdout",
     "output_type": "stream",
     "text": [
      "All\n",
      "    id  idx  col  size  price  fees  side\n",
      "0    0    0    0   1.0    1.0   0.0     0\n",
      "1    1    1    0   1.0    2.0   0.0     1\n",
      "2    2    3    0   1.0    4.0   0.0     0\n",
      "3    3    4    0   1.0    5.0   0.0     1\n",
      "4    4    0    1   1.0    1.1   0.0     0\n",
      "5    5    1    1   1.0    1.8   0.0     1\n",
      "6    6    3    1   1.0    4.4   0.0     0\n",
      "7    7    4    1   1.0    4.5   0.0     1\n",
      "8    8    0    2   1.0    2.0   0.0     0\n",
      "9    9    1    2   1.0    0.0   0.0     1\n",
      "10  10    3    2   1.0    8.0   0.0     0\n",
      "11  11    4    2   1.0    0.0   0.0     1\n",
      "LongOnly\n",
      "    id  idx  col  size  price  fees  side\n",
      "0    0    0    0   1.0    1.0   0.0     0\n",
      "1    1    1    0   1.0    2.0   0.0     1\n",
      "2    2    3    0   1.0    4.0   0.0     0\n",
      "3    3    4    0   1.0    5.0   0.0     1\n",
      "4    4    0    1   1.0    1.1   0.0     0\n",
      "5    5    1    1   1.0    1.8   0.0     1\n",
      "6    6    3    1   1.0    4.4   0.0     0\n",
      "7    7    4    1   1.0    4.5   0.0     1\n",
      "8    8    0    2   1.0    2.0   0.0     0\n",
      "9    9    1    2   1.0    0.0   0.0     1\n",
      "10  10    3    2   1.0    8.0   0.0     0\n",
      "11  11    4    2   1.0    0.0   0.0     1\n",
      "ShortOnly\n",
      "    id  idx  col  size  price  fees  side\n",
      "0    0    0    0   1.0    1.0   0.0     1\n",
      "1    1    1    0   1.0    2.0   0.0     0\n",
      "2    2    3    0   1.0    4.0   0.0     1\n",
      "3    3    4    0   1.0    5.0   0.0     0\n",
      "4    4    0    1   1.0    0.9   0.0     1\n",
      "5    5    1    1   1.0    2.2   0.0     0\n",
      "6    6    3    1   1.0    3.6   0.0     1\n",
      "7    7    4    1   1.0    5.5   0.0     0\n",
      "8    8    0    2   1.0    0.0   0.0     1\n",
      "9    9    1    2   1.0    4.0   0.0     0\n",
      "10  10    3    2   1.0    0.0   0.0     1\n",
      "11  11    4    2   1.0   10.0   0.0     0\n"
     ]
    }
   ],
   "source": [
    "test_per_direction(size=order_size_one, slippage=[[0., 0.1, 1.]])"
   ]
  },
  {
   "cell_type": "code",
   "execution_count": 32,
   "metadata": {},
   "outputs": [
    {
     "name": "stdout",
     "output_type": "stream",
     "text": [
      "All\n",
      "   id  idx  col  size  price  fees  side\n",
      "0   0    0    0   1.0    1.0   0.0     0\n",
      "1   1    1    0   1.0    2.0   0.0     1\n",
      "2   2    3    0   1.0    4.0   0.0     0\n",
      "3   3    4    0   1.0    5.0   0.0     1\n",
      "4   4    0    1   1.0    1.0   0.0     0\n",
      "5   5    1    1   1.0    2.0   0.0     1\n",
      "6   6    3    1   1.0    4.0   0.0     0\n",
      "7   7    4    1   1.0    5.0   0.0     1\n",
      "LongOnly\n",
      "   id  idx  col  size  price  fees  side\n",
      "0   0    0    0   1.0    1.0   0.0     0\n",
      "1   1    1    0   1.0    2.0   0.0     1\n",
      "2   2    3    0   1.0    4.0   0.0     0\n",
      "3   3    4    0   1.0    5.0   0.0     1\n",
      "4   4    0    1   1.0    1.0   0.0     0\n",
      "5   5    1    1   1.0    2.0   0.0     1\n",
      "6   6    3    1   1.0    4.0   0.0     0\n",
      "7   7    4    1   1.0    5.0   0.0     1\n",
      "ShortOnly\n",
      "   id  idx  col  size  price  fees  side\n",
      "0   0    0    0   1.0    1.0   0.0     1\n",
      "1   1    1    0   1.0    2.0   0.0     0\n",
      "2   2    3    0   1.0    4.0   0.0     1\n",
      "3   3    4    0   1.0    5.0   0.0     0\n",
      "4   4    0    1   1.0    1.0   0.0     1\n",
      "5   5    1    1   1.0    2.0   0.0     0\n",
      "6   6    3    1   1.0    4.0   0.0     1\n",
      "7   7    4    1   1.0    5.0   0.0     0\n"
     ]
    }
   ],
   "source": [
    "test_per_direction(size=order_size_one, min_size=[[0., 1., 2.]])"
   ]
  },
  {
   "cell_type": "code",
   "execution_count": 33,
   "metadata": {},
   "outputs": [
    {
     "name": "stdout",
     "output_type": "stream",
     "text": [
      "All\n",
      "    id  idx  col  size  price  fees  side\n",
      "0    0    0    0   0.5    1.0   0.0     0\n",
      "1    1    1    0   0.5    2.0   0.0     1\n",
      "2    2    3    0   0.5    4.0   0.0     0\n",
      "3    3    4    0   0.5    5.0   0.0     1\n",
      "4    4    0    1   1.0    1.0   0.0     0\n",
      "5    5    1    1   1.0    2.0   0.0     1\n",
      "6    6    3    1   1.0    4.0   0.0     0\n",
      "7    7    4    1   1.0    5.0   0.0     1\n",
      "8    8    0    2   1.0    1.0   0.0     0\n",
      "9    9    1    2   1.0    2.0   0.0     1\n",
      "10  10    3    2   1.0    4.0   0.0     0\n",
      "11  11    4    2   1.0    5.0   0.0     1\n",
      "LongOnly\n",
      "    id  idx  col  size  price  fees  side\n",
      "0    0    0    0   0.5    1.0   0.0     0\n",
      "1    1    1    0   0.5    2.0   0.0     1\n",
      "2    2    3    0   0.5    4.0   0.0     0\n",
      "3    3    4    0   0.5    5.0   0.0     1\n",
      "4    4    0    1   1.0    1.0   0.0     0\n",
      "5    5    1    1   1.0    2.0   0.0     1\n",
      "6    6    3    1   1.0    4.0   0.0     0\n",
      "7    7    4    1   1.0    5.0   0.0     1\n",
      "8    8    0    2   1.0    1.0   0.0     0\n",
      "9    9    1    2   1.0    2.0   0.0     1\n",
      "10  10    3    2   1.0    4.0   0.0     0\n",
      "11  11    4    2   1.0    5.0   0.0     1\n",
      "ShortOnly\n",
      "    id  idx  col  size  price  fees  side\n",
      "0    0    0    0   0.5    1.0   0.0     1\n",
      "1    1    1    0   0.5    2.0   0.0     0\n",
      "2    2    3    0   0.5    4.0   0.0     1\n",
      "3    3    4    0   0.5    5.0   0.0     0\n",
      "4    4    0    1   1.0    1.0   0.0     1\n",
      "5    5    1    1   1.0    2.0   0.0     0\n",
      "6    6    3    1   1.0    4.0   0.0     1\n",
      "7    7    4    1   1.0    5.0   0.0     0\n",
      "8    8    0    2   1.0    1.0   0.0     1\n",
      "9    9    1    2   1.0    2.0   0.0     0\n",
      "10  10    3    2   1.0    4.0   0.0     1\n",
      "11  11    4    2   1.0    5.0   0.0     0\n"
     ]
    }
   ],
   "source": [
    "test_per_direction(size=order_size_one, max_size=[[0.5, 1., np.inf]])"
   ]
  },
  {
   "cell_type": "code",
   "execution_count": 34,
   "metadata": {},
   "outputs": [
    {
     "name": "stdout",
     "output_type": "stream",
     "text": [
      "All\n",
      "   id  idx  col  size  price  fees  side\n",
      "0   0    0    0   1.0    1.0   0.0     0\n",
      "1   1    1    0   1.0    2.0   0.0     1\n",
      "2   2    3    0   1.0    4.0   0.0     0\n",
      "3   3    4    0   1.0    5.0   0.0     1\n",
      "4   4    1    1   1.0    2.0   0.0     1\n",
      "5   5    3    1   1.0    4.0   0.0     0\n",
      "6   6    4    1   1.0    5.0   0.0     1\n",
      "LongOnly\n",
      "   id  idx  col  size  price  fees  side\n",
      "0   0    0    0   1.0    1.0   0.0     0\n",
      "1   1    1    0   1.0    2.0   0.0     1\n",
      "2   2    3    0   1.0    4.0   0.0     0\n",
      "3   3    4    0   1.0    5.0   0.0     1\n",
      "4   4    3    1   1.0    4.0   0.0     0\n",
      "5   5    4    1   1.0    5.0   0.0     1\n",
      "ShortOnly\n",
      "   id  idx  col  size  price  fees  side\n",
      "0   0    0    0   1.0    1.0   0.0     1\n",
      "1   1    1    0   1.0    2.0   0.0     0\n",
      "2   2    3    0   1.0    4.0   0.0     1\n",
      "3   3    4    0   1.0    5.0   0.0     0\n",
      "4   4    3    1   1.0    4.0   0.0     1\n",
      "5   5    4    1   1.0    5.0   0.0     0\n"
     ]
    }
   ],
   "source": [
    "test_per_direction(size=order_size_one, reject_prob=[[0., 0.5, 1.]], seed=42)"
   ]
  },
  {
   "cell_type": "code",
   "execution_count": 35,
   "metadata": {},
   "outputs": [
    {
     "name": "stdout",
     "output_type": "stream",
     "text": [
      "All\n",
      "__init__() got an unexpected keyword argument 'close_first'\n",
      "LongOnly\n",
      "__init__() got an unexpected keyword argument 'close_first'\n",
      "ShortOnly\n",
      "__init__() got an unexpected keyword argument 'close_first'\n"
     ]
    }
   ],
   "source": [
    "test_per_direction(size=pd.Series([np.inf, -np.inf, -np.inf, np.inf, np.inf]), close_first=[[False, True]])"
   ]
  },
  {
   "cell_type": "code",
   "execution_count": 36,
   "metadata": {},
   "outputs": [
    {
     "name": "stdout",
     "output_type": "stream",
     "text": [
      "All\n",
      "   id  idx  col    size  price  fees  side\n",
      "0   0    0    0   100.0    1.0   0.0     0\n",
      "1   1    1    0  1000.0    2.0   0.0     1\n",
      "2   2    3    0   500.0    4.0   0.0     0\n",
      "3   3    4    0  1000.0    5.0   0.0     1\n",
      "4   4    1    1  1000.0    2.0   0.0     1\n",
      "5   5    4    1  1000.0    5.0   0.0     1\n",
      "LongOnly\n",
      "   id  idx  col   size  price  fees  side\n",
      "0   0    0    0  100.0    1.0   0.0     0\n",
      "1   1    1    0  100.0    2.0   0.0     1\n",
      "2   2    3    0   50.0    4.0   0.0     0\n",
      "3   3    4    0   50.0    5.0   0.0     1\n",
      "ShortOnly\n",
      "   id  idx  col    size  price  fees  side\n",
      "0   0    0    0  1000.0    1.0   0.0     1\n",
      "1   1    1    0   550.0    2.0   0.0     0\n",
      "2   2    3    0  1000.0    4.0   0.0     1\n",
      "3   3    4    0   800.0    5.0   0.0     0\n",
      "4   4    0    1  1000.0    1.0   0.0     1\n",
      "5   5    3    1  1000.0    4.0   0.0     1\n",
      "6   6    4    1  1000.0    5.0   0.0     0\n",
      "All\n",
      "   id  idx  col   size  price  fees  side\n",
      "0   0    0    0  100.0    1.0   0.0     0\n",
      "1   1    1    0  200.0    2.0   0.0     1\n",
      "2   2    3    0  100.0    4.0   0.0     0\n",
      "3   3    0    1  100.0    1.0   0.0     0\n",
      "4   4    1    1  200.0    2.0   0.0     1\n",
      "5   5    3    1  100.0    4.0   0.0     0\n",
      "LongOnly\n",
      "   id  idx  col   size  price  fees  side\n",
      "0   0    0    0  100.0    1.0   0.0     0\n",
      "1   1    1    0  100.0    2.0   0.0     1\n",
      "2   2    3    0   50.0    4.0   0.0     0\n",
      "3   3    4    0   50.0    5.0   0.0     1\n",
      "4   4    0    1  100.0    1.0   0.0     0\n",
      "5   5    1    1  100.0    2.0   0.0     1\n",
      "6   6    3    1   50.0    4.0   0.0     0\n",
      "7   7    4    1   50.0    5.0   0.0     1\n",
      "ShortOnly\n",
      "   id  idx  col   size  price  fees  side\n",
      "0   0    0    0  100.0    1.0   0.0     1\n",
      "1   1    1    0  100.0    2.0   0.0     0\n",
      "2   2    0    1  100.0    1.0   0.0     1\n",
      "3   3    1    1  100.0    2.0   0.0     0\n"
     ]
    }
   ],
   "source": [
    "test_per_direction(size=order_size_one * 1000, allow_partial=[[True, False]])\n",
    "test_per_direction(size=order_size, allow_partial=[[True, False]])"
   ]
  },
  {
   "cell_type": "code",
   "execution_count": 37,
   "metadata": {},
   "outputs": [
    {
     "name": "stdout",
     "output_type": "stream",
     "text": [
      "All\n",
      "   id  idx  col    size  price  fees  side\n",
      "0   0    0    0   100.0    1.0   0.0     0\n",
      "1   1    1    0  1000.0    2.0   0.0     1\n",
      "2   2    3    0   500.0    4.0   0.0     0\n",
      "3   3    4    0  1000.0    5.0   0.0     1\n",
      "LongOnly\n",
      "   id  idx  col   size  price  fees  side\n",
      "0   0    0    0  100.0    1.0   0.0     0\n",
      "1   1    1    0  100.0    2.0   0.0     1\n",
      "2   2    3    0   50.0    4.0   0.0     0\n",
      "3   3    4    0   50.0    5.0   0.0     1\n",
      "ShortOnly\n",
      "   id  idx  col    size  price  fees  side\n",
      "0   0    0    0  1000.0    1.0   0.0     1\n",
      "1   1    1    0   550.0    2.0   0.0     0\n",
      "2   2    3    0  1000.0    4.0   0.0     1\n",
      "3   3    4    0   800.0    5.0   0.0     0\n",
      "All\n",
      "Order rejected: Final size is less than requested\n",
      "LongOnly\n",
      "Order rejected: Final size is less than requested\n",
      "ShortOnly\n",
      "Order rejected: Final size is less than requested\n"
     ]
    }
   ],
   "source": [
    "test_per_direction(size=order_size_one * 1000, allow_partial=True, raise_reject=True)\n",
    "test_per_direction(size=order_size_one * 1000, allow_partial=False, raise_reject=True)"
   ]
  },
  {
   "cell_type": "code",
   "execution_count": 38,
   "metadata": {},
   "outputs": [
    {
     "name": "stdout",
     "output_type": "stream",
     "text": [
      "   id  idx  col  group  cash_now  shares_now  val_price_now  value_now  size  \\\n",
      "0   0    0    0      0     100.0         0.0            1.0      100.0   inf   \n",
      "1   1    1    0      0       0.0       100.0            2.0      200.0  -inf   \n",
      "2   2    2    0      0     400.0      -100.0            3.0      100.0   NaN   \n",
      "3   3    3    0      0     400.0      -100.0            4.0        0.0   inf   \n",
      "4   4    4    0      0       0.0         0.0            5.0        0.0  -inf   \n",
      "\n",
      "   size_type  ...   log  new_cash  new_shares  res_size  res_price  res_fees  \\\n",
      "0          0  ...  True       0.0       100.0     100.0        1.0       0.0   \n",
      "1          0  ...  True     400.0      -100.0     200.0        2.0       0.0   \n",
      "2          0  ...  True     400.0      -100.0       NaN        NaN       NaN   \n",
      "3          0  ...  True       0.0         0.0     100.0        4.0       0.0   \n",
      "4          0  ...  True       0.0         0.0       NaN        NaN       NaN   \n",
      "\n",
      "   res_side  res_status  res_status_info  order_id  \n",
      "0         0           0               -1         0  \n",
      "1         1           0               -1         1  \n",
      "2        -1           1                0        -1  \n",
      "3         0           0               -1         2  \n",
      "4        -1           2                6        -1  \n",
      "\n",
      "[5 rows x 30 columns]\n"
     ]
    }
   ],
   "source": [
    "portfolio = vbt.Portfolio.from_orders(price, order_size, log=True, direction='all')\n",
    "\n",
    "print(portfolio.logs.records)"
   ]
  },
  {
   "cell_type": "code",
   "execution_count": 39,
   "metadata": {},
   "outputs": [
    {
     "name": "stdout",
     "output_type": "stream",
     "text": [
      "   id  idx  col   size  price  fees  side\n",
      "0   0    0    0  100.0    1.0   0.0     0\n",
      "1   1    1    0  200.0    2.0   0.0     1\n",
      "2   2    3    0  100.0    4.0   0.0     0\n",
      "3   3    0    1  100.0    1.0   0.0     0\n",
      "4   4    1    1  200.0    2.0   0.0     1\n",
      "5   5    3    1  100.0    4.0   0.0     0\n",
      "6   6    0    2  100.0    1.0   0.0     0\n",
      "7   7    1    2  200.0    2.0   0.0     1\n",
      "8   8    3    2  100.0    4.0   0.0     0\n"
     ]
    }
   ],
   "source": [
    "portfolio = vbt.Portfolio.from_orders(\n",
    "    price_wide, order_size, \n",
    "    group_by=np.array([0, 0, 1]), direction='all')\n",
    "\n",
    "print(portfolio.orders.records)"
   ]
  },
  {
   "cell_type": "code",
   "execution_count": 40,
   "metadata": {},
   "outputs": [
    {
     "name": "stdout",
     "output_type": "stream",
     "text": [
      "   id  idx  col   size  price  fees  side\n",
      "0   0    0    0  100.0    1.0   0.0     0\n",
      "1   1    1    0  200.0    2.0   0.0     1\n",
      "2   2    1    1  200.0    2.0   0.0     1\n",
      "3   3    3    0  200.0    4.0   0.0     0\n",
      "4   4    4    0  200.0    5.0   0.0     1\n",
      "5   5    0    2  100.0    1.0   0.0     0\n",
      "6   6    1    2  200.0    2.0   0.0     1\n",
      "7   7    3    2  100.0    4.0   0.0     0\n",
      "            a  b  c\n",
      "2020-01-01  0  1  0\n",
      "2020-01-02  0  1  0\n",
      "2020-01-03  0  1  0\n",
      "2020-01-04  0  1  0\n",
      "2020-01-05  0  1  0\n"
     ]
    }
   ],
   "source": [
    "portfolio = vbt.Portfolio.from_orders(\n",
    "    price_wide, order_size, \n",
    "    group_by=np.array([0, 0, 1]), cash_sharing=True, direction='all')\n",
    "\n",
    "print(portfolio.orders.records)\n",
    "print(portfolio.call_seq)"
   ]
  },
  {
   "cell_type": "code",
   "execution_count": 41,
   "metadata": {},
   "outputs": [
    {
     "name": "stdout",
     "output_type": "stream",
     "text": [
      "   id  idx  col   size  price  fees  side\n",
      "0   0    0    1  100.0    1.0   0.0     0\n",
      "1   1    1    1  200.0    2.0   0.0     1\n",
      "2   2    1    0  200.0    2.0   0.0     1\n",
      "3   3    3    1  200.0    4.0   0.0     0\n",
      "4   4    4    1  200.0    5.0   0.0     1\n",
      "5   5    0    2  100.0    1.0   0.0     0\n",
      "6   6    1    2  200.0    2.0   0.0     1\n",
      "7   7    3    2  100.0    4.0   0.0     0\n",
      "            a  b  c\n",
      "2020-01-01  1  0  0\n",
      "2020-01-02  1  0  0\n",
      "2020-01-03  1  0  0\n",
      "2020-01-04  1  0  0\n",
      "2020-01-05  1  0  0\n"
     ]
    }
   ],
   "source": [
    "portfolio = vbt.Portfolio.from_orders(\n",
    "    price_wide, order_size, \n",
    "    group_by=np.array([0, 0, 1]), cash_sharing=True, direction='all', call_seq='reversed')\n",
    "\n",
    "print(portfolio.orders.records)\n",
    "print(portfolio.call_seq)"
   ]
  },
  {
   "cell_type": "code",
   "execution_count": 42,
   "metadata": {},
   "outputs": [
    {
     "name": "stdout",
     "output_type": "stream",
     "text": [
      "   id  idx  col   size  price  fees  side\n",
      "0   0    0    0  100.0    1.0   0.0     0\n",
      "1   1    1    0  200.0    2.0   0.0     1\n",
      "2   2    1    1  200.0    2.0   0.0     1\n",
      "3   3    3    1  200.0    4.0   0.0     0\n",
      "4   4    0    2  100.0    1.0   0.0     0\n",
      "5   5    1    2  200.0    2.0   0.0     1\n",
      "6   6    3    2  100.0    4.0   0.0     0\n",
      "            a  b  c\n",
      "2020-01-01  0  1  0\n",
      "2020-01-02  0  1  0\n",
      "2020-01-03  0  1  0\n",
      "2020-01-04  1  0  0\n",
      "2020-01-05  0  1  0\n",
      "   id  idx  col   size  price  fees  side\n",
      "0   0    0    1  100.0    1.0   0.0     0\n",
      "1   1    1    1  200.0    2.0   0.0     1\n",
      "2   2    3    1  100.0    4.0   0.0     0\n",
      "3   3    0    2  100.0    1.0   0.0     0\n",
      "4   4    1    2  200.0    2.0   0.0     1\n",
      "5   5    3    2  100.0    4.0   0.0     0\n",
      "            a  b  c\n",
      "2020-01-01  1  0  0\n",
      "2020-01-02  0  1  0\n",
      "2020-01-03  1  0  0\n",
      "2020-01-04  1  0  0\n",
      "2020-01-05  1  0  0\n"
     ]
    }
   ],
   "source": [
    "portfolio = vbt.Portfolio.from_orders(\n",
    "    price_wide, order_size, \n",
    "    group_by=np.array([0, 0, 1]), cash_sharing=True, direction='all', call_seq='random')\n",
    "\n",
    "print(portfolio.orders.records)\n",
    "print(portfolio.call_seq)\n",
    "\n",
    "portfolio = vbt.Portfolio.from_orders(\n",
    "    price_wide, order_size, \n",
    "    group_by=np.array([0, 0, 1]), cash_sharing=True, direction='all', call_seq='random', seed=42)\n",
    "\n",
    "print(portfolio.orders.records)\n",
    "print(portfolio.call_seq)"
   ]
  },
  {
   "cell_type": "code",
   "execution_count": 43,
   "metadata": {},
   "outputs": [
    {
     "name": "stdout",
     "output_type": "stream",
     "text": [
      "All\n",
      "   id  idx  col    size  price  fees  side\n",
      "0   0    0    2   100.0    1.0   0.0     0\n",
      "1   1    1    2   200.0    1.0   0.0     1\n",
      "2   2    1    1   200.0    1.0   0.0     0\n",
      "3   3    2    1   400.0    1.0   0.0     1\n",
      "4   4    2    0   400.0    1.0   0.0     0\n",
      "5   5    3    0   800.0    1.0   0.0     1\n",
      "6   6    3    2   800.0    1.0   0.0     0\n",
      "7   7    4    2  1400.0    1.0   0.0     1\n",
      "8   8    4    1  1400.0    1.0   0.0     0\n",
      "   0  1  2\n",
      "0  0  1  2\n",
      "1  2  0  1\n",
      "2  1  2  0\n",
      "3  0  1  2\n",
      "4  2  0  1\n",
      "       0       1      2\n",
      "0    0.0     0.0  100.0\n",
      "1    0.0   200.0 -100.0\n",
      "2  400.0  -200.0 -100.0\n",
      "3 -400.0  -200.0  700.0\n",
      "4 -400.0  1200.0 -700.0\n",
      "0    100.0\n",
      "1    100.0\n",
      "2    100.0\n",
      "3    100.0\n",
      "4    100.0\n",
      "dtype: float64\n",
      "LongOnly\n",
      "   id  idx  col   size  price  fees  side\n",
      "0   0    0    2  100.0    1.0   0.0     0\n",
      "1   1    1    2  100.0    1.0   0.0     1\n",
      "2   2    1    1  100.0    1.0   0.0     0\n",
      "3   3    2    1  100.0    1.0   0.0     1\n",
      "4   4    2    0  100.0    1.0   0.0     0\n",
      "5   5    3    0  100.0    1.0   0.0     1\n",
      "6   6    3    2  100.0    1.0   0.0     0\n",
      "7   7    4    2  100.0    1.0   0.0     1\n",
      "8   8    4    1  100.0    1.0   0.0     0\n",
      "   0  1  2\n",
      "0  0  1  2\n",
      "1  2  0  1\n",
      "2  1  2  0\n",
      "3  0  1  2\n",
      "4  2  0  1\n",
      "       0      1      2\n",
      "0    0.0    0.0  100.0\n",
      "1    0.0  100.0    0.0\n",
      "2  100.0    0.0    0.0\n",
      "3    0.0    0.0  100.0\n",
      "4    0.0  100.0    0.0\n",
      "0    100.0\n",
      "1    100.0\n",
      "2    100.0\n",
      "3    100.0\n",
      "4    100.0\n",
      "dtype: float64\n",
      "ShortOnly\n",
      "   id  idx  col   size  price  fees  side\n",
      "0   0    0    2  100.0    1.0   0.0     1\n",
      "1   1    1    1  200.0    1.0   0.0     1\n",
      "2   2    1    2  100.0    1.0   0.0     0\n",
      "3   3    2    0  300.0    1.0   0.0     1\n",
      "4   4    2    1  200.0    1.0   0.0     0\n",
      "5   5    3    2  400.0    1.0   0.0     1\n",
      "6   6    3    0  300.0    1.0   0.0     0\n",
      "7   7    4    1  500.0    1.0   0.0     1\n",
      "8   8    4    2  400.0    1.0   0.0     0\n",
      "   0  1  2\n",
      "0  2  0  1\n",
      "1  1  0  2\n",
      "2  0  2  1\n",
      "3  2  1  0\n",
      "4  1  0  2\n",
      "       0      1      2\n",
      "0    0.0    0.0 -100.0\n",
      "1    0.0 -200.0    0.0\n",
      "2 -300.0    0.0    0.0\n",
      "3    0.0    0.0 -400.0\n",
      "4    0.0 -500.0    0.0\n",
      "0    100.0\n",
      "1    100.0\n",
      "2    100.0\n",
      "3    100.0\n",
      "4    100.0\n",
      "dtype: float64\n"
     ]
    }
   ],
   "source": [
    "for direction in ('All', 'LongOnly', 'ShortOnly'):\n",
    "    print(direction)\n",
    "    portfolio = vbt.Portfolio.from_orders(1., pd.DataFrame([\n",
    "        [0., 0., np.inf],\n",
    "        [0., np.inf, -np.inf],\n",
    "        [np.inf, -np.inf, 0.],\n",
    "        [-np.inf, 0., np.inf],\n",
    "        [0., np.inf, -np.inf],\n",
    "    ]), group_by=np.array([0, 0, 0]), \n",
    "        cash_sharing=True, call_seq='auto', direction=direction)\n",
    "\n",
    "    print(portfolio.orders.records)\n",
    "    print(portfolio.call_seq)\n",
    "    print(portfolio.shares())\n",
    "    print(portfolio.value())\n",
    "    # notice how shorting with np.inf only accounts for current cash, not for other assets!"
   ]
  },
  {
   "cell_type": "code",
   "execution_count": 67,
   "metadata": {},
   "outputs": [
    {
     "name": "stdout",
     "output_type": "stream",
     "text": [
      "All\n",
      "   id  idx  col  size  price  fees  side\n",
      "0   0    0    0  75.0    1.0   0.0     0\n",
      "1   1    0    1  75.0    1.0   0.0     1\n",
      "LongOnly\n",
      "   id  idx  col  size  price  fees  side\n",
      "0   0    0    0  75.0    1.0   0.0     0\n",
      "ShortOnly\n",
      "   id  idx  col  size  price  fees  side\n",
      "0   0    0    0  75.0    1.0   0.0     1\n",
      "               0     1\n",
      "2020-01-01  75.0 -75.0\n",
      "2020-01-02  75.0 -75.0\n",
      "2020-01-03  75.0 -75.0\n",
      "2020-01-04  75.0 -75.0\n",
      "2020-01-05  75.0 -75.0\n",
      "   id  idx  col  size  price  fees  side\n",
      "0   0    0    0  75.0    1.0   0.0     0\n",
      "1   1    0    1  25.0    1.0   0.0     0\n",
      "               a     b    c\n",
      "2020-01-01  75.0  25.0  0.0\n",
      "2020-01-02  75.0  25.0  0.0\n",
      "2020-01-03  75.0  25.0  0.0\n",
      "2020-01-04  75.0  25.0  0.0\n",
      "2020-01-05  75.0  25.0  0.0\n"
     ]
    }
   ],
   "source": [
    "test_per_direction(size=[[75., -75.]], size_type=SizeType.TargetShares)\n",
    "\n",
    "portfolio = vbt.Portfolio.from_orders(\n",
    "    price, [[75., -75.]], size_type=SizeType.TargetShares, direction='all')\n",
    "print(portfolio.shares())\n",
    "\n",
    "portfolio = vbt.Portfolio.from_orders(\n",
    "    price_wide, 75., size_type=SizeType.TargetShares, \n",
    "    group_by=np.array([0, 0, 0]), cash_sharing=True, direction='all')\n",
    "print(portfolio.orders.records)\n",
    "print(portfolio.shares())"
   ]
  },
  {
   "cell_type": "code",
   "execution_count": 68,
   "metadata": {},
   "outputs": [
    {
     "name": "stdout",
     "output_type": "stream",
     "text": [
      "All\n",
      "   id  idx  col       size  price  fees  side\n",
      "0   0    0    0  50.000000    1.0   0.0     0\n",
      "1   1    1    0  25.000000    2.0   0.0     1\n",
      "2   2    2    0   8.333333    3.0   0.0     1\n",
      "3   3    3    0   4.166667    4.0   0.0     1\n",
      "4   4    4    0   2.500000    5.0   0.0     1\n",
      "5   5    0    1  50.000000    1.0   0.0     1\n",
      "6   6    1    1  25.000000    2.0   0.0     0\n",
      "7   7    2    1   8.333333    3.0   0.0     0\n",
      "8   8    3    1   4.166667    4.0   0.0     0\n",
      "9   9    4    1   2.500000    5.0   0.0     0\n",
      "LongOnly\n",
      "   id  idx  col       size  price  fees  side\n",
      "0   0    0    0  50.000000    1.0   0.0     0\n",
      "1   1    1    0  25.000000    2.0   0.0     1\n",
      "2   2    2    0   8.333333    3.0   0.0     1\n",
      "3   3    3    0   4.166667    4.0   0.0     1\n",
      "4   4    4    0   2.500000    5.0   0.0     1\n",
      "ShortOnly\n",
      "   id  idx  col       size  price  fees  side\n",
      "0   0    0    0  50.000000    1.0   0.0     1\n",
      "1   1    1    0  25.000000    2.0   0.0     0\n",
      "2   2    2    0   8.333333    3.0   0.0     0\n",
      "3   3    3    0   4.166667    4.0   0.0     0\n",
      "4   4    4    0   2.500000    5.0   0.0     0\n",
      "               0     1\n",
      "2020-01-01  50.0 -50.0\n",
      "2020-01-02  50.0 -50.0\n",
      "2020-01-03  50.0 -50.0\n",
      "2020-01-04  50.0 -50.0\n",
      "2020-01-05  50.0 -50.0\n",
      "    id  idx  col       size  price  fees  side\n",
      "0    0    0    0  50.000000    1.0   0.0     0\n",
      "1    1    0    1  50.000000    1.0   0.0     0\n",
      "2    2    1    0  25.000000    2.0   0.0     1\n",
      "3    3    1    1  25.000000    2.0   0.0     1\n",
      "4    4    1    2  25.000000    2.0   0.0     0\n",
      "5    5    2    0   8.333333    3.0   0.0     1\n",
      "6    6    2    1   8.333333    3.0   0.0     1\n",
      "7    7    2    2   8.333333    3.0   0.0     1\n",
      "8    8    3    0   4.166667    4.0   0.0     1\n",
      "9    9    3    1   4.166667    4.0   0.0     1\n",
      "10  10    3    2   4.166667    4.0   0.0     1\n",
      "11  11    4    0   2.500000    5.0   0.0     1\n",
      "12  12    4    1   2.500000    5.0   0.0     1\n",
      "13  13    4    2   2.500000    5.0   0.0     1\n",
      "               a     b     c\n",
      "2020-01-01  50.0  50.0   0.0\n",
      "2020-01-02  50.0  50.0  50.0\n",
      "2020-01-03  50.0  50.0  50.0\n",
      "2020-01-04  50.0  50.0  50.0\n",
      "2020-01-05  50.0  50.0  50.0\n"
     ]
    }
   ],
   "source": [
    "test_per_direction(size=[[50., -50.]], size_type=SizeType.TargetValue)\n",
    "\n",
    "portfolio = vbt.Portfolio.from_orders(\n",
    "    price, [[50., -50.]], size_type=SizeType.TargetValue, direction='all')\n",
    "print(portfolio.holding_value())\n",
    "\n",
    "portfolio = vbt.Portfolio.from_orders(\n",
    "    price_wide, 50., size_type=SizeType.TargetValue, \n",
    "    group_by=np.array([0, 0, 0]), cash_sharing=True, direction='all')\n",
    "print(portfolio.orders.records)\n",
    "print(portfolio.holding_value(group_by=False))"
   ]
  },
  {
   "cell_type": "code",
   "execution_count": 69,
   "metadata": {},
   "outputs": [
    {
     "name": "stdout",
     "output_type": "stream",
     "text": [
      "All\n",
      "   id  idx  col       size  price  fees  side\n",
      "0   0    0    0  50.000000    1.0   0.0     0\n",
      "1   1    1    0  12.500000    2.0   0.0     1\n",
      "2   2    2    0   6.250000    3.0   0.0     1\n",
      "3   3    3    0   3.906250    4.0   0.0     1\n",
      "4   4    4    0   2.734375    5.0   0.0     1\n",
      "5   5    0    1  50.000000    1.0   0.0     1\n",
      "6   6    1    1  37.500000    2.0   0.0     0\n",
      "7   7    2    1   6.250000    3.0   0.0     0\n",
      "8   8    3    1   2.343750    4.0   0.0     0\n",
      "9   9    4    1   1.171875    5.0   0.0     0\n",
      "LongOnly\n",
      "   id  idx  col       size  price  fees  side\n",
      "0   0    0    0  50.000000    1.0   0.0     0\n",
      "1   1    1    0  12.500000    2.0   0.0     1\n",
      "2   2    2    0   6.250000    3.0   0.0     1\n",
      "3   3    3    0   3.906250    4.0   0.0     1\n",
      "4   4    4    0   2.734375    5.0   0.0     1\n",
      "ShortOnly\n",
      "   id  idx  col       size  price  fees  side\n",
      "0   0    0    0  50.000000    1.0   0.0     1\n",
      "1   1    1    0  37.500000    2.0   0.0     0\n",
      "2   2    2    0   6.250000    3.0   0.0     0\n",
      "3   3    3    0   2.343750    4.0   0.0     0\n",
      "4   4    4    0   1.171875    5.0   0.0     0\n",
      "              0    1\n",
      "2020-01-01  0.5 -0.5\n",
      "2020-01-02  0.5 -0.5\n",
      "2020-01-03  0.5 -0.5\n",
      "2020-01-04  0.5 -0.5\n",
      "2020-01-05  0.5 -0.5\n",
      "   id  idx  col  size  price  fees  side\n",
      "0   0    0    0  50.0    1.0   0.0     0\n",
      "1   1    0    1  50.0    1.0   0.0     0\n",
      "                   a         b    c\n",
      "2020-01-01  0.500000  0.500000  0.0\n",
      "2020-01-02  0.666667  0.666667  0.0\n",
      "2020-01-03  0.750000  0.750000  0.0\n",
      "2020-01-04  0.800000  0.800000  0.0\n",
      "2020-01-05  0.833333  0.833333  0.0\n"
     ]
    }
   ],
   "source": [
    "test_per_direction(size=[[0.5, -0.5]], size_type=SizeType.TargetPercent)\n",
    "\n",
    "portfolio = vbt.Portfolio.from_orders(\n",
    "    price, [[0.5, -0.5]], size_type=SizeType.TargetPercent, direction='all')\n",
    "print(portfolio.holding_value() / portfolio.value())\n",
    "\n",
    "portfolio = vbt.Portfolio.from_orders(\n",
    "    price_wide, 0.5, size_type=SizeType.TargetPercent, \n",
    "    group_by=np.array([0, 0, 0]), cash_sharing=True, direction='all')\n",
    "print(portfolio.orders.records)\n",
    "print(portfolio.holding_value(group_by=False) / portfolio.value(group_by=False))"
   ]
  },
  {
   "cell_type": "code",
   "execution_count": 70,
   "metadata": {},
   "outputs": [
    {
     "name": "stdout",
     "output_type": "stream",
     "text": [
      "               a     b     c\n",
      "2020-01-01   0.0  30.0  70.0\n",
      "2020-01-02  70.0   0.0  30.0\n",
      "2020-01-03  30.0  70.0   0.0\n",
      "2020-01-04   0.0  30.0  70.0\n",
      "2020-01-05  70.0  30.0   0.0\n"
     ]
    }
   ],
   "source": [
    "price_one = pd.Series([1., 1., 1., 1., 1.], index=price.index)\n",
    "target_hold_value = pd.DataFrame({\n",
    "    'a': [0., 70., 30., 0., 70.],\n",
    "    'b': [30., 0., 70., 30., 30.],\n",
    "    'c': [70., 30., 0., 70., 0.]\n",
    "}, index=price.index)\n",
    "print(target_hold_value)"
   ]
  },
  {
   "cell_type": "code",
   "execution_count": 71,
   "metadata": {},
   "outputs": [
    {
     "name": "stdout",
     "output_type": "stream",
     "text": [
      "   id  idx  col  size  price  fees  side\n",
      "0   0    0    1  30.0    1.0   0.0     0\n",
      "1   1    0    2  70.0    1.0   0.0     0\n",
      "2   2    1    2  40.0    1.0   0.0     1\n",
      "3   3    1    1  30.0    1.0   0.0     1\n",
      "4   4    2    1  70.0    1.0   0.0     0\n",
      "5   5    2    2  30.0    1.0   0.0     1\n",
      "6   6    3    2  30.0    1.0   0.0     0\n",
      "7   7    3    1  40.0    1.0   0.0     1\n",
      "8   8    4    0  40.0    1.0   0.0     0\n",
      "9   9    4    2  30.0    1.0   0.0     1\n",
      "               a     b     c\n",
      "2020-01-01   0.0  30.0  70.0\n",
      "2020-01-02   0.0 -30.0 -40.0\n",
      "2020-01-03   0.0  70.0 -30.0\n",
      "2020-01-04   0.0 -40.0  30.0\n",
      "2020-01-05  40.0   0.0 -30.0\n",
      "               a     b     c\n",
      "2020-01-01   0.0  30.0  70.0\n",
      "2020-01-02   0.0   0.0  30.0\n",
      "2020-01-03   0.0  70.0   0.0\n",
      "2020-01-04   0.0  30.0  30.0\n",
      "2020-01-05  40.0  30.0   0.0\n",
      "            a  b  c\n",
      "2020-01-01  1  2  0\n",
      "2020-01-02  0  2  1\n",
      "2020-01-03  1  0  2\n",
      "2020-01-04  0  2  1\n",
      "2020-01-05  1  0  2\n"
     ]
    }
   ],
   "source": [
    "portfolio = vbt.Portfolio.from_orders(\n",
    "    price_one, target_hold_value, size_type=SizeType.TargetValue,\n",
    "    group_by=np.array([0, 0, 0]), cash_sharing=True,\n",
    "    call_seq='random', seed=43)\n",
    "\n",
    "print(portfolio.orders.records)\n",
    "print(portfolio.share_flow())\n",
    "print(portfolio.holding_value(group_by=False))  # order fixed -> cannot rebalance properly\n",
    "print(portfolio.call_seq)"
   ]
  },
  {
   "cell_type": "code",
   "execution_count": 72,
   "metadata": {},
   "outputs": [
    {
     "name": "stdout",
     "output_type": "stream",
     "text": [
      "    id  idx  col  size  price  fees  side\n",
      "0    0    0    1  30.0    1.0   0.0     0\n",
      "1    1    0    2  70.0    1.0   0.0     0\n",
      "2    2    1    2  40.0    1.0   0.0     1\n",
      "3    3    1    1  30.0    1.0   0.0     1\n",
      "4    4    1    0  70.0    1.0   0.0     0\n",
      "5    5    2    0  40.0    1.0   0.0     1\n",
      "6    6    2    2  30.0    1.0   0.0     1\n",
      "7    7    2    1  70.0    1.0   0.0     0\n",
      "8    8    3    1  40.0    1.0   0.0     1\n",
      "9    9    3    0  30.0    1.0   0.0     1\n",
      "10  10    3    2  70.0    1.0   0.0     0\n",
      "11  11    4    2  70.0    1.0   0.0     1\n",
      "12  12    4    0  70.0    1.0   0.0     0\n",
      "               a     b     c\n",
      "2020-01-01   0.0  30.0  70.0\n",
      "2020-01-02  70.0 -30.0 -40.0\n",
      "2020-01-03 -40.0  70.0 -30.0\n",
      "2020-01-04 -30.0 -40.0  70.0\n",
      "2020-01-05  70.0   0.0 -70.0\n",
      "               a     b     c\n",
      "2020-01-01   0.0  30.0  70.0\n",
      "2020-01-02  70.0   0.0  30.0\n",
      "2020-01-03  30.0  70.0   0.0\n",
      "2020-01-04   0.0  30.0  70.0\n",
      "2020-01-05  70.0  30.0   0.0\n",
      "            a  b  c\n",
      "2020-01-01  0  1  2\n",
      "2020-01-02  2  1  0\n",
      "2020-01-03  0  2  1\n",
      "2020-01-04  1  0  2\n",
      "2020-01-05  2  1  0\n"
     ]
    }
   ],
   "source": [
    "portfolio = vbt.Portfolio.from_orders(\n",
    "    price_one, target_hold_value, size_type=SizeType.TargetValue, \n",
    "    group_by=np.array([0, 0, 0]), cash_sharing=True,\n",
    "    call_seq='auto')\n",
    "\n",
    "print(portfolio.orders.records)\n",
    "print(portfolio.share_flow())\n",
    "print(portfolio.holding_value(group_by=False))  # order dynamic -> can rebalance\n",
    "print(portfolio.call_seq)"
   ]
  },
  {
   "cell_type": "code",
   "execution_count": 73,
   "metadata": {},
   "outputs": [
    {
     "name": "stdout",
     "output_type": "stream",
     "text": [
      "    id  idx  col  size  price  fees  side\n",
      "0    0    0    1  30.0    1.0   0.0     0\n",
      "1    1    0    2  70.0    1.0   0.0     0\n",
      "2    2    1    2  40.0    1.0   0.0     1\n",
      "3    3    1    1  30.0    1.0   0.0     1\n",
      "4    4    1    0  70.0    1.0   0.0     0\n",
      "5    5    2    0  40.0    1.0   0.0     1\n",
      "6    6    2    2  30.0    1.0   0.0     1\n",
      "7    7    2    1  70.0    1.0   0.0     0\n",
      "8    8    3    1  40.0    1.0   0.0     1\n",
      "9    9    3    0  30.0    1.0   0.0     1\n",
      "10  10    3    2  70.0    1.0   0.0     0\n",
      "11  11    4    2  70.0    1.0   0.0     1\n",
      "12  12    4    0  70.0    1.0   0.0     0\n",
      "               a     b     c\n",
      "2020-01-01   0.0  30.0  70.0\n",
      "2020-01-02  70.0 -30.0 -40.0\n",
      "2020-01-03 -40.0  70.0 -30.0\n",
      "2020-01-04 -30.0 -40.0  70.0\n",
      "2020-01-05  70.0   0.0 -70.0\n",
      "               a     b     c\n",
      "2020-01-01   0.0  30.0  70.0\n",
      "2020-01-02  70.0   0.0  30.0\n",
      "2020-01-03  30.0  70.0   0.0\n",
      "2020-01-04   0.0  30.0  70.0\n",
      "2020-01-05  70.0  30.0   0.0\n",
      "            a  b  c\n",
      "2020-01-01  0  1  2\n",
      "2020-01-02  2  1  0\n",
      "2020-01-03  0  2  1\n",
      "2020-01-04  1  0  2\n",
      "2020-01-05  2  1  0\n"
     ]
    }
   ],
   "source": [
    "portfolio = vbt.Portfolio.from_orders(\n",
    "    price_one, target_hold_value / 100., size_type=SizeType.TargetPercent, \n",
    "    group_by=np.array([0, 0, 0]), cash_sharing=True,\n",
    "    call_seq='auto')\n",
    "\n",
    "print(portfolio.orders.records)\n",
    "print(portfolio.share_flow())\n",
    "print(portfolio.holding_value(group_by=False))\n",
    "print(portfolio.call_seq)"
   ]
  },
  {
   "cell_type": "markdown",
   "metadata": {},
   "source": [
    "## from_order_func"
   ]
  },
  {
   "cell_type": "code",
   "execution_count": 44,
   "metadata": {},
   "outputs": [],
   "source": [
    "from vectorbt.portfolio.nb import create_order_nb\n",
    "\n",
    "@njit\n",
    "def order_func_nb(c, size):\n",
    "    return create_order_nb(size if c.i % 2 == 0 else -size, c.close[c.i, c.col])"
   ]
  },
  {
   "cell_type": "code",
   "execution_count": 46,
   "metadata": {},
   "outputs": [
    {
     "name": "stdout",
     "output_type": "stream",
     "text": [
      "907 µs ± 3.67 µs per loop (mean ± std. dev. of 7 runs, 1000 loops each)\n",
      "935 µs ± 14.9 µs per loop (mean ± std. dev. of 7 runs, 1000 loops each)\n"
     ]
    }
   ],
   "source": [
    "%timeit vbt.Portfolio.from_order_func(\\\n",
    "    big_price, order_func_nb, 1., init_cash=np.inf)\n",
    "%timeit vbt.Portfolio.from_order_func(\\\n",
    "    big_price, order_func_nb, 1., init_cash=np.inf, row_wise=True)"
   ]
  },
  {
   "cell_type": "code",
   "execution_count": 47,
   "metadata": {},
   "outputs": [
    {
     "name": "stdout",
     "output_type": "stream",
     "text": [
      "47.3 ms ± 650 µs per loop (mean ± std. dev. of 7 runs, 1 loop each)\n",
      "58.7 ms ± 1.35 ms per loop (mean ± std. dev. of 7 runs, 1 loop each)\n"
     ]
    }
   ],
   "source": [
    "%timeit vbt.Portfolio.from_order_func(\\\n",
    "    big_price_wide, order_func_nb, 1., init_cash=np.inf)\n",
    "%timeit vbt.Portfolio.from_order_func(\\\n",
    "    big_price_wide, order_func_nb, 1., init_cash=np.inf, row_wise=True)"
   ]
  },
  {
   "cell_type": "code",
   "execution_count": 48,
   "metadata": {},
   "outputs": [
    {
     "name": "stdout",
     "output_type": "stream",
     "text": [
      "42.2 ms ± 325 µs per loop (mean ± std. dev. of 7 runs, 10 loops each)\n",
      "48.3 ms ± 621 µs per loop (mean ± std. dev. of 7 runs, 10 loops each)\n"
     ]
    }
   ],
   "source": [
    "%timeit vbt.Portfolio.from_order_func(\\\n",
    "    big_price_wide, order_func_nb, 1., \\\n",
    "    group_by=np.repeat(np.arange(500), 2), init_cash=np.inf)\n",
    "%timeit vbt.Portfolio.from_order_func(\\\n",
    "    big_price_wide, order_func_nb, 1., \\\n",
    "    group_by=np.repeat(np.arange(500), 2), init_cash=np.inf, row_wise=True)"
   ]
  },
  {
   "cell_type": "code",
   "execution_count": 6,
   "metadata": {},
   "outputs": [
    {
     "name": "stdout",
     "output_type": "stream",
     "text": [
      "39.6 ms ± 639 µs per loop (mean ± std. dev. of 7 runs, 10 loops each)\n",
      "43.5 ms ± 94.3 µs per loop (mean ± std. dev. of 7 runs, 10 loops each)\n"
     ]
    }
   ],
   "source": [
    "%timeit vbt.Portfolio.from_order_func(\\\n",
    "    big_price_wide, order_func_nb, 1., \\\n",
    "    group_by=np.repeat(np.arange(500), 2), cash_sharing=True, init_cash=np.inf)\n",
    "%timeit vbt.Portfolio.from_order_func(\\\n",
    "    big_price_wide, order_func_nb, 1., \\\n",
    "    group_by=np.repeat(np.arange(500), 2), cash_sharing=True, init_cash=np.inf, row_wise=True)"
   ]
  },
  {
   "cell_type": "code",
   "execution_count": 7,
   "metadata": {},
   "outputs": [
    {
     "name": "stdout",
     "output_type": "stream",
     "text": [
      "35.2 ms ± 435 µs per loop (mean ± std. dev. of 7 runs, 10 loops each)\n",
      "36 ms ± 101 µs per loop (mean ± std. dev. of 7 runs, 10 loops each)\n"
     ]
    }
   ],
   "source": [
    "%timeit vbt.Portfolio.from_order_func(\\\n",
    "    big_price_wide, order_func_nb, 1., init_cash=np.inf, \\\n",
    "    group_by=np.full(1000, 0))\n",
    "%timeit vbt.Portfolio.from_order_func(\\\n",
    "    big_price_wide, order_func_nb, 1., init_cash=np.inf, \\\n",
    "    group_by=np.full(1000, 0), row_wise=True)"
   ]
  },
  {
   "cell_type": "code",
   "execution_count": 8,
   "metadata": {},
   "outputs": [
    {
     "name": "stdout",
     "output_type": "stream",
     "text": [
      "36.1 ms ± 103 µs per loop (mean ± std. dev. of 7 runs, 1 loop each)\n",
      "37.4 ms ± 1.53 ms per loop (mean ± std. dev. of 7 runs, 1 loop each)\n"
     ]
    }
   ],
   "source": [
    "%timeit vbt.Portfolio.from_order_func(\\\n",
    "    big_price_wide, order_func_nb, 1., init_cash=np.inf, \\\n",
    "    group_by=np.full(1000, 0), cash_sharing=True)\n",
    "%timeit vbt.Portfolio.from_order_func(\\\n",
    "    big_price_wide, order_func_nb, 1., init_cash=np.inf, \\\n",
    "    group_by=np.full(1000, 0), cash_sharing=True, row_wise=True)"
   ]
  },
  {
   "cell_type": "code",
   "execution_count": 49,
   "metadata": {},
   "outputs": [],
   "source": [
    "def test_call_seq(call_seq, **kwargs):\n",
    "    return vbt.Portfolio.from_order_func(\n",
    "        price_wide, \n",
    "        order_func_nb, \n",
    "        1.,\n",
    "        group_by=np.array([0, 0, 0]),\n",
    "        call_seq=call_seq, **kwargs\n",
    "    ).call_seq\n",
    "\n",
    "def big_test_call_seq(call_seq, **kwargs):\n",
    "    return vbt.Portfolio.from_order_func(\n",
    "        big_price_wide, \n",
    "        order_func_nb, \n",
    "        1.,\n",
    "        group_by=np.repeat(np.arange(500), 2),\n",
    "        call_seq=call_seq, **kwargs\n",
    "    ).call_seq"
   ]
  },
  {
   "cell_type": "code",
   "execution_count": 10,
   "metadata": {},
   "outputs": [
    {
     "name": "stdout",
     "output_type": "stream",
     "text": [
      "            a  b  c\n",
      "2020-01-01  0  1  2\n",
      "2020-01-02  0  1  2\n",
      "2020-01-03  0  1  2\n",
      "2020-01-04  0  1  2\n",
      "2020-01-05  0  1  2\n",
      "46.2 ms ± 838 µs per loop (mean ± std. dev. of 7 runs, 10 loops each)\n",
      "            a  b  c\n",
      "2020-01-01  2  1  0\n",
      "2020-01-02  2  1  0\n",
      "2020-01-03  2  1  0\n",
      "2020-01-04  2  1  0\n",
      "2020-01-05  2  1  0\n",
      "46.4 ms ± 683 µs per loop (mean ± std. dev. of 7 runs, 10 loops each)\n",
      "            a  b  c\n",
      "2020-01-01  0  1  2\n",
      "2020-01-02  2  1  0\n",
      "2020-01-03  1  0  2\n",
      "2020-01-04  2  0  1\n",
      "2020-01-05  2  1  0\n",
      "55.1 ms ± 849 µs per loop (mean ± std. dev. of 7 runs, 10 loops each)\n"
     ]
    }
   ],
   "source": [
    "print(test_call_seq(CallSeqType.Default))\n",
    "%timeit big_test_call_seq(CallSeqType.Default)\n",
    "\n",
    "print(test_call_seq(CallSeqType.Reversed))\n",
    "%timeit big_test_call_seq(CallSeqType.Reversed)\n",
    "\n",
    "print(test_call_seq(CallSeqType.Random))\n",
    "%timeit big_test_call_seq(CallSeqType.Random)"
   ]
  },
  {
   "cell_type": "code",
   "execution_count": 37,
   "metadata": {},
   "outputs": [],
   "source": [
    "@njit\n",
    "def segment_prep_func1_nb(c, *args):\n",
    "    c.call_seq_now[:] = np.arange(c.to_col - c.from_col - 1, -1, -1)\n",
    "    return ()\n",
    "\n",
    "@njit\n",
    "def segment_prep_func2_nb(c, *args):\n",
    "    c.call_seq_now[:] = np.copy(c.call_seq_now[::-1])\n",
    "    return ()\n",
    "\n",
    "@njit\n",
    "def segment_prep_func3_nb(c, *args):\n",
    "    call_seq_now = c.call_seq_now\n",
    "    n_cols = c.to_col - c.from_col\n",
    "    for k in range(n_cols):\n",
    "        call_seq_now[k] = n_cols - k - 1\n",
    "    return ()\n",
    "\n",
    "@njit\n",
    "def segment_prep_func4_nb(c, *args):\n",
    "    np.random.shuffle(c.call_seq_now)\n",
    "    return ()"
   ]
  },
  {
   "cell_type": "code",
   "execution_count": 38,
   "metadata": {},
   "outputs": [
    {
     "name": "stdout",
     "output_type": "stream",
     "text": [
      "            a  b  c\n",
      "2020-01-01  2  1  0\n",
      "2020-01-02  2  1  0\n",
      "2020-01-03  2  1  0\n",
      "2020-01-04  2  1  0\n",
      "2020-01-05  2  1  0\n",
      "160 ms ± 44.3 ms per loop (mean ± std. dev. of 7 runs, 10 loops each)\n",
      "147 ms ± 5.65 ms per loop (mean ± std. dev. of 7 runs, 1 loop each)\n",
      "            a  b  c\n",
      "2020-01-01  2  1  0\n",
      "2020-01-02  2  1  0\n",
      "2020-01-03  2  1  0\n",
      "2020-01-04  2  1  0\n",
      "2020-01-05  2  1  0\n",
      "163 ms ± 17.5 ms per loop (mean ± std. dev. of 7 runs, 10 loops each)\n",
      "141 ms ± 1.54 ms per loop (mean ± std. dev. of 7 runs, 1 loop each)\n",
      "            a  b  c\n",
      "2020-01-01  2  1  0\n",
      "2020-01-02  2  1  0\n",
      "2020-01-03  2  1  0\n",
      "2020-01-04  2  1  0\n",
      "2020-01-05  2  1  0\n",
      "53.4 ms ± 7.79 ms per loop (mean ± std. dev. of 7 runs, 10 loops each)\n",
      "89.9 ms ± 26.9 ms per loop (mean ± std. dev. of 7 runs, 1 loop each)\n",
      "            a  b  c\n",
      "2020-01-01  0  1  2\n",
      "2020-01-02  1  0  2\n",
      "2020-01-03  2  0  1\n",
      "2020-01-04  0  1  2\n",
      "2020-01-05  1  2  0\n",
      "117 ms ± 21.5 ms per loop (mean ± std. dev. of 7 runs, 10 loops each)\n",
      "84.7 ms ± 1.67 ms per loop (mean ± std. dev. of 7 runs, 1 loop each)\n"
     ]
    }
   ],
   "source": [
    "print(test_call_seq(CallSeqType.Default, segment_prep_func_nb=segment_prep_func1_nb))\n",
    "%timeit big_test_call_seq(CallSeqType.Default, segment_prep_func_nb=segment_prep_func1_nb)\n",
    "%timeit big_test_call_seq(CallSeqType.Default, segment_prep_func_nb=segment_prep_func1_nb, row_wise=True)\n",
    "\n",
    "print(test_call_seq(CallSeqType.Default, segment_prep_func_nb=segment_prep_func2_nb))\n",
    "%timeit big_test_call_seq(CallSeqType.Default, segment_prep_func_nb=segment_prep_func2_nb)\n",
    "%timeit big_test_call_seq(CallSeqType.Default, segment_prep_func_nb=segment_prep_func2_nb, row_wise=True)\n",
    "\n",
    "print(test_call_seq(CallSeqType.Default, segment_prep_func_nb=segment_prep_func3_nb))\n",
    "%timeit big_test_call_seq(CallSeqType.Default, segment_prep_func_nb=segment_prep_func3_nb)\n",
    "%timeit big_test_call_seq(CallSeqType.Default, segment_prep_func_nb=segment_prep_func3_nb, row_wise=True)\n",
    "\n",
    "print(test_call_seq(CallSeqType.Default, segment_prep_func_nb=segment_prep_func4_nb))\n",
    "%timeit big_test_call_seq(CallSeqType.Default, segment_prep_func_nb=segment_prep_func4_nb)  # in-place fastest\n",
    "%timeit big_test_call_seq(CallSeqType.Default, segment_prep_func_nb=segment_prep_func4_nb, row_wise=True)"
   ]
  },
  {
   "cell_type": "code",
   "execution_count": 50,
   "metadata": {},
   "outputs": [
    {
     "name": "stdout",
     "output_type": "stream",
     "text": [
      "Int64Index([0], dtype='int64')\n",
      "1\n",
      "Int64Index([0], dtype='int64', name='iteration_idx')\n",
      "2\n",
      "Index(['first'], dtype='object', name='custom')\n",
      "2\n",
      "Int64Index([0, 1, 2], dtype='int64', name='iteration_idx')\n",
      "2\n",
      "Index(['first', 'second', 'third'], dtype='object', name='custom')\n",
      "2\n"
     ]
    }
   ],
   "source": [
    "portfolio = vbt.Portfolio.from_order_func(\n",
    "    price, order_func_nb, np.inf,\n",
    "    target_shape=(5,))\n",
    "print(portfolio.wrapper.columns)\n",
    "print(portfolio.wrapper.ndim)\n",
    "\n",
    "portfolio = vbt.Portfolio.from_order_func(\n",
    "    price, order_func_nb, np.inf,\n",
    "    target_shape=(5, 1))\n",
    "print(portfolio.wrapper.columns)\n",
    "print(portfolio.wrapper.ndim)\n",
    "\n",
    "portfolio = vbt.Portfolio.from_order_func(\n",
    "    price, order_func_nb, np.inf,\n",
    "    target_shape=(5, 1), keys=pd.Index(['first'], name='custom'))\n",
    "print(portfolio.wrapper.columns)\n",
    "print(portfolio.wrapper.ndim)\n",
    "\n",
    "portfolio = vbt.Portfolio.from_order_func(\n",
    "    price, order_func_nb, np.inf,\n",
    "    target_shape=(5, 3))\n",
    "print(portfolio.wrapper.columns)\n",
    "print(portfolio.wrapper.ndim)\n",
    "\n",
    "portfolio = vbt.Portfolio.from_order_func(\n",
    "    price, order_func_nb, np.inf,\n",
    "    target_shape=(5, 3), keys=pd.Index(['first', 'second', 'third'], name='custom'))\n",
    "print(portfolio.wrapper.columns)\n",
    "print(portfolio.wrapper.ndim)"
   ]
  },
  {
   "cell_type": "code",
   "execution_count": 51,
   "metadata": {},
   "outputs": [
    {
     "name": "stdout",
     "output_type": "stream",
     "text": [
      "   id  idx  col        size  price  fees  side\n",
      "0   0    0    0  100.000000    1.0   0.0     0\n",
      "1   1    1    0  200.000000    2.0   0.0     1\n",
      "2   2    2    0  133.333333    3.0   0.0     0\n",
      "3   3    3    0   66.666667    4.0   0.0     1\n",
      "4   4    4    0   53.333333    5.0   0.0     0\n",
      "   id  idx  col        size  price  fees  side\n",
      "0   0    0    0  100.000000    1.0   0.0     0\n",
      "1   1    1    0  200.000000    2.0   0.0     1\n",
      "2   2    2    0  133.333333    3.0   0.0     0\n",
      "3   3    3    0   66.666667    4.0   0.0     1\n",
      "4   4    4    0   53.333333    5.0   0.0     0\n"
     ]
    }
   ],
   "source": [
    "portfolio = vbt.Portfolio.from_order_func(price, order_func_nb, np.inf)\n",
    "print(portfolio.orders.records)\n",
    "\n",
    "portfolio = vbt.Portfolio.from_order_func(price, order_func_nb, np.inf, row_wise=True)\n",
    "print(portfolio.orders.records)"
   ]
  },
  {
   "cell_type": "code",
   "execution_count": 52,
   "metadata": {},
   "outputs": [
    {
     "name": "stdout",
     "output_type": "stream",
     "text": [
      "    id  idx  col        size  price  fees  side\n",
      "0    0    0    0  100.000000    1.0   0.0     0\n",
      "1    1    1    0  200.000000    2.0   0.0     1\n",
      "2    2    2    0  133.333333    3.0   0.0     0\n",
      "3    3    3    0   66.666667    4.0   0.0     1\n",
      "4    4    4    0   53.333333    5.0   0.0     0\n",
      "5    5    0    1  100.000000    1.0   0.0     0\n",
      "6    6    1    1  200.000000    2.0   0.0     1\n",
      "7    7    2    1  133.333333    3.0   0.0     0\n",
      "8    8    3    1   66.666667    4.0   0.0     1\n",
      "9    9    4    1   53.333333    5.0   0.0     0\n",
      "10  10    0    2  100.000000    1.0   0.0     0\n",
      "11  11    1    2  200.000000    2.0   0.0     1\n",
      "12  12    2    2  133.333333    3.0   0.0     0\n",
      "13  13    3    2   66.666667    4.0   0.0     1\n",
      "14  14    4    2   53.333333    5.0   0.0     0\n",
      "    id  idx  col        size  price  fees  side\n",
      "0    0    0    0  100.000000    1.0   0.0     0\n",
      "1    1    0    1  100.000000    1.0   0.0     0\n",
      "2    2    0    2  100.000000    1.0   0.0     0\n",
      "3    3    1    0  200.000000    2.0   0.0     1\n",
      "4    4    1    1  200.000000    2.0   0.0     1\n",
      "5    5    1    2  200.000000    2.0   0.0     1\n",
      "6    6    2    0  133.333333    3.0   0.0     0\n",
      "7    7    2    1  133.333333    3.0   0.0     0\n",
      "8    8    2    2  133.333333    3.0   0.0     0\n",
      "9    9    3    0   66.666667    4.0   0.0     1\n",
      "10  10    3    1   66.666667    4.0   0.0     1\n",
      "11  11    3    2   66.666667    4.0   0.0     1\n",
      "12  12    4    0   53.333333    5.0   0.0     0\n",
      "13  13    4    1   53.333333    5.0   0.0     0\n",
      "14  14    4    2   53.333333    5.0   0.0     0\n"
     ]
    }
   ],
   "source": [
    "portfolio = vbt.Portfolio.from_order_func(price_wide, order_func_nb, np.inf)\n",
    "print(portfolio.orders.records)\n",
    "\n",
    "portfolio = vbt.Portfolio.from_order_func(price_wide, order_func_nb, np.inf, row_wise=True)\n",
    "print(portfolio.orders.records)"
   ]
  },
  {
   "cell_type": "code",
   "execution_count": 53,
   "metadata": {},
   "outputs": [
    {
     "name": "stdout",
     "output_type": "stream",
     "text": [
      "    id  idx  col        size  price  fees  side\n",
      "0    0    0    0  100.000000    1.0   0.0     0\n",
      "1    1    0    1  100.000000    1.0   0.0     0\n",
      "2    2    1    0  200.000000    2.0   0.0     1\n",
      "3    3    1    1  200.000000    2.0   0.0     1\n",
      "4    4    2    0  133.333333    3.0   0.0     0\n",
      "5    5    2    1  133.333333    3.0   0.0     0\n",
      "6    6    3    0   66.666667    4.0   0.0     1\n",
      "7    7    3    1   66.666667    4.0   0.0     1\n",
      "8    8    4    0   53.333333    5.0   0.0     0\n",
      "9    9    4    1   53.333333    5.0   0.0     0\n",
      "10  10    0    2  100.000000    1.0   0.0     0\n",
      "11  11    1    2  200.000000    2.0   0.0     1\n",
      "12  12    2    2  133.333333    3.0   0.0     0\n",
      "13  13    3    2   66.666667    4.0   0.0     1\n",
      "14  14    4    2   53.333333    5.0   0.0     0\n",
      "    id  idx  col        size  price  fees  side\n",
      "0    0    0    0  100.000000    1.0   0.0     0\n",
      "1    1    0    1  100.000000    1.0   0.0     0\n",
      "2    2    0    2  100.000000    1.0   0.0     0\n",
      "3    3    1    0  200.000000    2.0   0.0     1\n",
      "4    4    1    1  200.000000    2.0   0.0     1\n",
      "5    5    1    2  200.000000    2.0   0.0     1\n",
      "6    6    2    0  133.333333    3.0   0.0     0\n",
      "7    7    2    1  133.333333    3.0   0.0     0\n",
      "8    8    2    2  133.333333    3.0   0.0     0\n",
      "9    9    3    0   66.666667    4.0   0.0     1\n",
      "10  10    3    1   66.666667    4.0   0.0     1\n",
      "11  11    3    2   66.666667    4.0   0.0     1\n",
      "12  12    4    0   53.333333    5.0   0.0     0\n",
      "13  13    4    1   53.333333    5.0   0.0     0\n",
      "14  14    4    2   53.333333    5.0   0.0     0\n"
     ]
    }
   ],
   "source": [
    "portfolio = vbt.Portfolio.from_order_func(\n",
    "    price_wide, order_func_nb, np.inf,\n",
    "    group_by=np.array([0, 0, 1]))\n",
    "print(portfolio.orders.records)\n",
    "\n",
    "portfolio = vbt.Portfolio.from_order_func(\n",
    "    price_wide, order_func_nb, np.inf,\n",
    "    group_by=np.array([0, 0, 1]), row_wise=True)\n",
    "print(portfolio.orders.records)"
   ]
  },
  {
   "cell_type": "code",
   "execution_count": 54,
   "metadata": {},
   "outputs": [
    {
     "name": "stdout",
     "output_type": "stream",
     "text": [
      "    id  idx  col        size  price  fees  side\n",
      "0    0    0    0  100.000000    1.0   0.0     0\n",
      "1    1    1    0  200.000000    2.0   0.0     1\n",
      "2    2    1    1  200.000000    2.0   0.0     1\n",
      "3    3    2    0  266.666667    3.0   0.0     0\n",
      "4    4    3    0  333.333333    4.0   0.0     1\n",
      "5    5    4    0  266.666667    5.0   0.0     0\n",
      "6    6    0    2  100.000000    1.0   0.0     0\n",
      "7    7    1    2  200.000000    2.0   0.0     1\n",
      "8    8    2    2  133.333333    3.0   0.0     0\n",
      "9    9    3    2   66.666667    4.0   0.0     1\n",
      "10  10    4    2   53.333333    5.0   0.0     0\n",
      "    id  idx  col        size  price  fees  side\n",
      "0    0    0    0  100.000000    1.0   0.0     0\n",
      "1    1    0    2  100.000000    1.0   0.0     0\n",
      "2    2    1    0  200.000000    2.0   0.0     1\n",
      "3    3    1    1  200.000000    2.0   0.0     1\n",
      "4    4    1    2  200.000000    2.0   0.0     1\n",
      "5    5    2    0  266.666667    3.0   0.0     0\n",
      "6    6    2    2  133.333333    3.0   0.0     0\n",
      "7    7    3    0  333.333333    4.0   0.0     1\n",
      "8    8    3    2   66.666667    4.0   0.0     1\n",
      "9    9    4    0  266.666667    5.0   0.0     0\n",
      "10  10    4    2   53.333333    5.0   0.0     0\n"
     ]
    }
   ],
   "source": [
    "portfolio = vbt.Portfolio.from_order_func(\n",
    "    price_wide, order_func_nb, np.inf,\n",
    "    group_by=np.array([0, 0, 1]), cash_sharing=True)\n",
    "print(portfolio.orders.records)\n",
    "\n",
    "portfolio = vbt.Portfolio.from_order_func(\n",
    "    price_wide, order_func_nb, np.inf,\n",
    "    group_by=np.array([0, 0, 1]), cash_sharing=True, row_wise=True)\n",
    "print(portfolio.orders.records)"
   ]
  },
  {
   "cell_type": "code",
   "execution_count": 55,
   "metadata": {},
   "outputs": [
    {
     "name": "stdout",
     "output_type": "stream",
     "text": [
      "[1.] 25.0\n",
      "[2.] -33.33333333333333\n",
      "[3.] -12.5\n",
      "[4.] -6.666666666666668\n",
      "   id  idx  col       size  price  fees  side\n",
      "0   0    0    0  50.000000    2.0   0.0     0\n",
      "1   1    1    0  25.000000    3.0   0.0     1\n",
      "2   2    2    0   8.333333    4.0   0.0     1\n",
      "3   3    3    0   4.166667    5.0   0.0     1\n",
      "[1.] 25.0\n",
      "[2.] -33.33333333333333\n",
      "[3.] -12.5\n",
      "[4.] -6.666666666666668\n",
      "   id  idx  col       size  price  fees  side\n",
      "0   0    0    0  50.000000    2.0   0.0     0\n",
      "1   1    1    0  25.000000    3.0   0.0     1\n",
      "2   2    2    0   8.333333    4.0   0.0     1\n",
      "3   3    3    0   4.166667    5.0   0.0     1\n"
     ]
    }
   ],
   "source": [
    "@njit\n",
    "def target_val_segment_prep_func_nb(c, val_price):\n",
    "    c.last_val_price[c.from_col:c.to_col] = val_price[c.i]\n",
    "    return ()\n",
    "\n",
    "@njit\n",
    "def target_val_order_func_nb(c):\n",
    "    print(c.last_val_price[c.from_col:c.to_col], 50. / c.close[c.i, c.col] - c.shares_now)\n",
    "    return create_order_nb(size=50., size_type=SizeType.TargetValue, price=c.close[c.i, c.col])\n",
    "\n",
    "portfolio = vbt.Portfolio.from_order_func(\n",
    "    price.iloc[1:], target_val_order_func_nb, \n",
    "    segment_prep_func_nb=target_val_segment_prep_func_nb,\n",
    "    segment_prep_args=(price.values[:-1],)  # lagged valuation price\n",
    ")\n",
    "print(portfolio.orders.records)\n",
    "\n",
    "portfolio = vbt.Portfolio.from_order_func(\n",
    "    price.iloc[1:], target_val_order_func_nb, \n",
    "    segment_prep_func_nb=target_val_segment_prep_func_nb,\n",
    "    segment_prep_args=(price.values[:-1],), row_wise=True\n",
    ")\n",
    "print(portfolio.orders.records)"
   ]
  },
  {
   "cell_type": "code",
   "execution_count": 56,
   "metadata": {},
   "outputs": [
    {
     "name": "stdout",
     "output_type": "stream",
     "text": [
      "[2.] 25.0\n",
      "[3.] -8.333333333333332\n",
      "[4.] -4.166666666666668\n",
      "[5.] -2.5\n",
      "   id  idx  col       size  price  fees  side\n",
      "0   0    0    0  25.000000    2.0   0.0     0\n",
      "1   1    1    0   8.333333    3.0   0.0     1\n",
      "2   2    2    0   4.166667    4.0   0.0     1\n",
      "3   3    3    0   2.500000    5.0   0.0     1\n",
      "[2.] 25.0\n",
      "[3.] -8.333333333333332\n",
      "[4.] -4.166666666666668\n",
      "[5.] -2.5\n",
      "   id  idx  col       size  price  fees  side\n",
      "0   0    0    0  25.000000    2.0   0.0     0\n",
      "1   1    1    0   8.333333    3.0   0.0     1\n",
      "2   2    2    0   4.166667    4.0   0.0     1\n",
      "3   3    3    0   2.500000    5.0   0.0     1\n"
     ]
    }
   ],
   "source": [
    "portfolio = vbt.Portfolio.from_order_func(\n",
    "    price.iloc[1:], target_val_order_func_nb, \n",
    "    segment_prep_func_nb=target_val_segment_prep_func_nb,\n",
    "    segment_prep_args=(price.values[1:],)  # current order price\n",
    ")\n",
    "print(portfolio.orders.records)\n",
    "\n",
    "portfolio = vbt.Portfolio.from_order_func(\n",
    "    price.iloc[1:], target_val_order_func_nb, \n",
    "    segment_prep_func_nb=target_val_segment_prep_func_nb,\n",
    "    segment_prep_args=(price.values[1:],), row_wise=True\n",
    ")\n",
    "print(portfolio.orders.records)"
   ]
  },
  {
   "cell_type": "code",
   "execution_count": 57,
   "metadata": {},
   "outputs": [
    {
     "name": "stdout",
     "output_type": "stream",
     "text": [
      "[1.] 25.0\n",
      "[2.] -33.33333333333333\n",
      "[3.] -6.25\n",
      "[4.] -7.5\n",
      "   id  idx  col    size  price  fees  side\n",
      "0   0    0    0  50.000    2.0   0.0     0\n",
      "1   1    1    0  25.000    3.0   0.0     1\n",
      "2   2    3    0   3.125    5.0   0.0     1\n",
      "[1.] 25.0\n",
      "[2.] -33.33333333333333\n",
      "[3.] -6.25\n",
      "[4.] -7.5\n",
      "   id  idx  col    size  price  fees  side\n",
      "0   0    0    0  50.000    2.0   0.0     0\n",
      "1   1    1    0  25.000    3.0   0.0     1\n",
      "2   2    3    0   3.125    5.0   0.0     1\n"
     ]
    }
   ],
   "source": [
    "@njit\n",
    "def target_pct_segment_prep_func_nb(c, val_price):\n",
    "    c.last_val_price[c.from_col:c.to_col] = val_price[c.i]\n",
    "    return ()\n",
    "\n",
    "@njit\n",
    "def target_pct_order_func_nb(c):\n",
    "    print(c.last_val_price[c.from_col:c.to_col], 0.5 * c.value_now / c.close[c.i, c.col] - c.shares_now)\n",
    "    return create_order_nb(size=0.5, size_type=SizeType.TargetPercent, price=c.close[c.i, c.col])\n",
    "\n",
    "portfolio = vbt.Portfolio.from_order_func(\n",
    "    price.iloc[1:], target_pct_order_func_nb, \n",
    "    segment_prep_func_nb=target_pct_segment_prep_func_nb,\n",
    "    segment_prep_args=(price.values[:-1],)  # lagged valuation price\n",
    ")\n",
    "print(portfolio.orders.records)\n",
    "\n",
    "portfolio = vbt.Portfolio.from_order_func(\n",
    "    price.iloc[1:], target_pct_order_func_nb, \n",
    "    segment_prep_func_nb=target_pct_segment_prep_func_nb,\n",
    "    segment_prep_args=(price.values[:-1],), row_wise=True\n",
    ")\n",
    "print(portfolio.orders.records)"
   ]
  },
  {
   "cell_type": "code",
   "execution_count": 58,
   "metadata": {},
   "outputs": [
    {
     "name": "stdout",
     "output_type": "stream",
     "text": [
      "[2.] 25.0\n",
      "[3.] -4.166666666666668\n",
      "[4.] -2.604166666666668\n",
      "[5.] -1.8229166666666643\n",
      "   id  idx  col       size  price  fees  side\n",
      "0   0    0    0  25.000000    2.0   0.0     0\n",
      "1   1    1    0   4.166667    3.0   0.0     1\n",
      "2   2    2    0   2.604167    4.0   0.0     1\n",
      "3   3    3    0   1.822917    5.0   0.0     1\n",
      "[2.] 25.0\n",
      "[3.] -4.166666666666668\n",
      "[4.] -2.604166666666668\n",
      "[5.] -1.8229166666666643\n",
      "   id  idx  col       size  price  fees  side\n",
      "0   0    0    0  25.000000    2.0   0.0     0\n",
      "1   1    1    0   4.166667    3.0   0.0     1\n",
      "2   2    2    0   2.604167    4.0   0.0     1\n",
      "3   3    3    0   1.822917    5.0   0.0     1\n"
     ]
    }
   ],
   "source": [
    "portfolio = vbt.Portfolio.from_order_func(\n",
    "    price.iloc[1:], target_pct_order_func_nb, \n",
    "    segment_prep_func_nb=target_pct_segment_prep_func_nb,\n",
    "    segment_prep_args=(price.values[1:],)  # current order price\n",
    ")\n",
    "print(portfolio.orders.records)\n",
    "\n",
    "portfolio = vbt.Portfolio.from_order_func(\n",
    "    price.iloc[1:], target_pct_order_func_nb, \n",
    "    segment_prep_func_nb=target_pct_segment_prep_func_nb,\n",
    "    segment_prep_args=(price.values[1:],), row_wise=True\n",
    ")\n",
    "print(portfolio.orders.records)"
   ]
  },
  {
   "cell_type": "code",
   "execution_count": 59,
   "metadata": {},
   "outputs": [
    {
     "name": "stdout",
     "output_type": "stream",
     "text": [
      "   id  idx  col  size  price  fees  side\n",
      "0   0    0    0   1.0    1.0   0.0     0\n",
      "1   1    2    0   1.0    3.0   0.0     0\n",
      "2   2    4    0   1.0    5.0   0.0     0\n",
      "   id  idx  col  size  price  fees  side\n",
      "0   0    0    0   1.0    1.0   0.0     0\n",
      "1   1    2    0   1.0    3.0   0.0     0\n",
      "2   2    4    0   1.0    5.0   0.0     0\n"
     ]
    }
   ],
   "source": [
    "portfolio = vbt.Portfolio.from_order_func(\n",
    "    price, order_func_nb, 1.,\n",
    "    active_mask=pd.Series([True, False, True, False, True]))\n",
    "print(portfolio.orders.records)\n",
    "\n",
    "portfolio = vbt.Portfolio.from_order_func(\n",
    "    price, order_func_nb, 1.,\n",
    "    active_mask=pd.Series([True, False, True, False, True]), row_wise=True)\n",
    "print(portfolio.orders.records)"
   ]
  },
  {
   "cell_type": "code",
   "execution_count": 60,
   "metadata": {},
   "outputs": [
    {
     "name": "stdout",
     "output_type": "stream",
     "text": [
      "preparing simulation\n",
      "\tpreparing group 0\n",
      "\t\tpreparing segment 0 (row)\n",
      "\t\t\trunning order 0 at column 0\n",
      "\t\t\trunning order 1 at column 1\n",
      "\t\tpreparing segment 1 (row)\n",
      "\t\t\trunning order 0 at column 0\n",
      "\t\t\trunning order 1 at column 1\n",
      "\t\tpreparing segment 2 (row)\n",
      "\t\t\trunning order 0 at column 0\n",
      "\t\t\trunning order 1 at column 1\n",
      "\t\tpreparing segment 3 (row)\n",
      "\t\t\trunning order 0 at column 0\n",
      "\t\t\trunning order 1 at column 1\n",
      "\t\tpreparing segment 4 (row)\n",
      "\t\t\trunning order 0 at column 0\n",
      "\t\t\trunning order 1 at column 1\n",
      "\tpreparing group 1\n",
      "\t\tpreparing segment 0 (row)\n",
      "\t\t\trunning order 0 at column 2\n",
      "\t\tpreparing segment 1 (row)\n",
      "\t\t\trunning order 0 at column 2\n",
      "\t\tpreparing segment 2 (row)\n",
      "\t\t\trunning order 0 at column 2\n",
      "\t\tpreparing segment 3 (row)\n",
      "\t\t\trunning order 0 at column 2\n",
      "\t\tpreparing segment 4 (row)\n",
      "\t\t\trunning order 0 at column 2\n",
      "[1] [2] [10] [15]\n"
     ]
    }
   ],
   "source": [
    "@njit\n",
    "def prep_func_nb(c, sim_i):\n",
    "    print('preparing simulation')\n",
    "    sim_i[0] += 1\n",
    "    return sim_i,\n",
    "\n",
    "@njit\n",
    "def group_prep_func_nb(c, sim_i, group_i):\n",
    "    print('\\tpreparing group', c.group)\n",
    "    group_i[0] += 1\n",
    "    return sim_i, group_i\n",
    "\n",
    "@njit\n",
    "def segment_prep_func_nb(c, sim_i, group_i, segment_i):\n",
    "    print('\\t\\tpreparing segment', c.i, '(row)')\n",
    "    segment_i[0] += 1\n",
    "    return sim_i, group_i, segment_i\n",
    "\n",
    "@njit\n",
    "def order_func_nb(c, sim_i, group_i, segment_i, order_i):\n",
    "    print('\\t\\t\\trunning order', c.call_idx, 'at column', c.col)\n",
    "    order_i[0] += 1\n",
    "    return NoOrder\n",
    "\n",
    "sim_i = np.array([0])\n",
    "group_i = np.array([0])\n",
    "segment_i = np.array([0])\n",
    "order_i = np.array([0])\n",
    "portfolio = vbt.Portfolio.from_order_func(\n",
    "    price_wide, order_func_nb, order_i, \n",
    "    group_by=np.array([0, 0, 1]), \n",
    "    prep_func_nb=prep_func_nb, prep_args=(sim_i,),\n",
    "    group_prep_func_nb=group_prep_func_nb, group_prep_args=(group_i,),\n",
    "    segment_prep_func_nb=segment_prep_func_nb, segment_prep_args=(segment_i,)\n",
    ")\n",
    "print(sim_i, group_i, segment_i, order_i)"
   ]
  },
  {
   "cell_type": "code",
   "execution_count": 61,
   "metadata": {},
   "outputs": [
    {
     "name": "stdout",
     "output_type": "stream",
     "text": [
      "preparing simulation\n",
      "\tpreparing row 0\n",
      "\t\tpreparing segment 0 (group)\n",
      "\t\t\trunning order 0 at column 0\n",
      "\t\t\trunning order 1 at column 1\n",
      "\t\tpreparing segment 1 (group)\n",
      "\t\t\trunning order 0 at column 2\n",
      "\tpreparing row 1\n",
      "\t\tpreparing segment 0 (group)\n",
      "\t\t\trunning order 0 at column 0\n",
      "\t\t\trunning order 1 at column 1\n",
      "\t\tpreparing segment 1 (group)\n",
      "\t\t\trunning order 0 at column 2\n",
      "\tpreparing row 2\n",
      "\t\tpreparing segment 0 (group)\n",
      "\t\t\trunning order 0 at column 0\n",
      "\t\t\trunning order 1 at column 1\n",
      "\t\tpreparing segment 1 (group)\n",
      "\t\t\trunning order 0 at column 2\n",
      "\tpreparing row 3\n",
      "\t\tpreparing segment 0 (group)\n",
      "\t\t\trunning order 0 at column 0\n",
      "\t\t\trunning order 1 at column 1\n",
      "\t\tpreparing segment 1 (group)\n",
      "\t\t\trunning order 0 at column 2\n",
      "\tpreparing row 4\n",
      "\t\tpreparing segment 0 (group)\n",
      "\t\t\trunning order 0 at column 0\n",
      "\t\t\trunning order 1 at column 1\n",
      "\t\tpreparing segment 1 (group)\n",
      "\t\t\trunning order 0 at column 2\n",
      "[1] [5] [10] [15]\n"
     ]
    }
   ],
   "source": [
    "@njit\n",
    "def prep_func_nb(c, sim_i):\n",
    "    print('preparing simulation')\n",
    "    sim_i[0] += 1\n",
    "    return sim_i,\n",
    "\n",
    "@njit\n",
    "def row_prep_func_nb(c, sim_i, row_i):\n",
    "    print('\\tpreparing row', c.i)\n",
    "    row_i[0] += 1\n",
    "    return sim_i, row_i\n",
    "\n",
    "@njit\n",
    "def segment_prep_func_nb(c, sim_i, row_i, segment_i):\n",
    "    print('\\t\\tpreparing segment', c.group, '(group)')\n",
    "    segment_i[0] += 1\n",
    "    return sim_i, row_i, segment_i\n",
    "\n",
    "@njit\n",
    "def order_func_nb(c, sim_i, row_i, segment_i, order_i):\n",
    "    print('\\t\\t\\trunning order', c.call_idx, 'at column', c.col)\n",
    "    order_i[0] += 1\n",
    "    return NoOrder\n",
    "\n",
    "sim_i = np.array([0])\n",
    "row_i = np.array([0])\n",
    "segment_i = np.array([0])\n",
    "order_i = np.array([0])\n",
    "\n",
    "portfolio = vbt.Portfolio.from_order_func(\n",
    "    price_wide, order_func_nb, order_i, \n",
    "    group_by=np.array([0, 0, 1]), \n",
    "    prep_func_nb=prep_func_nb, prep_args=(sim_i,),\n",
    "    row_prep_func_nb=row_prep_func_nb, row_prep_args=(row_i,),\n",
    "    segment_prep_func_nb=segment_prep_func_nb, segment_prep_args=(segment_i,),\n",
    "    row_wise=True\n",
    ")\n",
    "print(sim_i, row_i, segment_i, order_i)"
   ]
  },
  {
   "cell_type": "markdown",
   "metadata": {},
   "source": [
    "## methods and properties"
   ]
  },
  {
   "cell_type": "code",
   "execution_count": 8,
   "metadata": {},
   "outputs": [],
   "source": [
    "price_na = pd.DataFrame({\n",
    "    'a': [np.nan, 2., 3., 4., 5.],\n",
    "    'b': [1., 2., np.nan, 4., 5.],\n",
    "    'c': [1., 2., 3., 4., np.nan]\n",
    "}, index=price.index)\n",
    "order_size = pd.Series([1., 0.1, -1., -0.1, 1.])\n",
    "directions = ['longonly', 'shortonly', 'all']\n",
    "group_by = pd.Index(['first', 'first', 'second'], name='group')"
   ]
  },
  {
   "cell_type": "code",
   "execution_count": 9,
   "metadata": {},
   "outputs": [
    {
     "name": "stdout",
     "output_type": "stream",
     "text": [
      "    id  idx  col  size  price     fees  side\n",
      "0    0    1    0   0.1   2.02  0.10202     0\n",
      "1    1    2    0   0.1   2.97  0.10297     1\n",
      "2    2    4    0   1.0   5.05  0.15050     0\n",
      "3    3    0    1   1.0   0.99  0.10990     1\n",
      "4    4    1    1   0.1   1.98  0.10198     1\n",
      "5    5    3    1   0.1   4.04  0.10404     0\n",
      "6    6    4    1   1.0   4.95  0.14950     1\n",
      "7    7    0    2   1.0   1.01  0.11010     0\n",
      "8    8    1    2   0.1   2.02  0.10202     0\n",
      "9    9    2    2   1.0   2.97  0.12970     1\n",
      "10  10    3    2   0.1   3.96  0.10396     1\n",
      "    id  idx  col  size  price     fees  side\n",
      "0    0    1    0   0.1   2.02  0.10202     0\n",
      "1    1    2    0   0.1   2.97  0.10297     1\n",
      "2    2    4    0   1.0   5.05  0.15050     0\n",
      "3    3    0    1   1.0   0.99  0.10990     1\n",
      "4    4    1    1   0.1   1.98  0.10198     1\n",
      "5    5    3    1   0.1   4.04  0.10404     0\n",
      "6    6    4    1   1.0   4.95  0.14950     1\n",
      "7    7    0    2   1.0   1.01  0.11010     0\n",
      "8    8    1    2   0.1   2.02  0.10202     0\n",
      "9    9    2    2   1.0   2.97  0.12970     1\n",
      "10  10    3    2   0.1   3.96  0.10396     1\n",
      "    id  idx  col  size  price     fees  side\n",
      "0    0    0    1   1.0   0.99  0.10990     1\n",
      "1    1    1    1   0.1   1.98  0.10198     1\n",
      "2    2    1    0   0.1   2.02  0.10202     0\n",
      "3    3    2    0   0.1   2.97  0.10297     1\n",
      "4    4    3    1   0.1   4.04  0.10404     0\n",
      "5    5    4    1   1.0   4.95  0.14950     1\n",
      "6    6    4    0   1.0   5.05  0.15050     0\n",
      "7    7    0    2   1.0   1.01  0.11010     0\n",
      "8    8    1    2   0.1   2.02  0.10202     0\n",
      "9    9    2    2   1.0   2.97  0.12970     1\n",
      "10  10    3    2   0.1   3.96  0.10396     1\n"
     ]
    }
   ],
   "source": [
    "portfolio = vbt.Portfolio.from_orders(\n",
    "    price_na, order_size, size_type='shares', direction=directions,\n",
    "    fees=0.01, fixed_fees=0.1, slippage=0.01, log=True,\n",
    "    call_seq='reversed', group_by=None,\n",
    "    init_cash=[100., 100., 100.], freq='1D'\n",
    ")  # independent\n",
    "print(portfolio.orders.records)\n",
    "\n",
    "portfolio_grouped = vbt.Portfolio.from_orders(\n",
    "    price_na, order_size, size_type='shares', direction=directions,\n",
    "    fees=0.01, fixed_fees=0.1, slippage=0.01, log=True,\n",
    "    call_seq='reversed', group_by=group_by, cash_sharing=False,\n",
    "    init_cash=[100., 100., 100.], freq='1D'\n",
    ")  # grouped\n",
    "print(portfolio_grouped.orders.records)\n",
    "\n",
    "portfolio_shared = vbt.Portfolio.from_orders(\n",
    "    price_na, order_size, size_type='shares', direction=directions,\n",
    "    fees=0.01, fixed_fees=0.1, slippage=0.01, log=True,\n",
    "    call_seq='reversed', group_by=group_by, cash_sharing=True,\n",
    "    init_cash=[200., 100.], freq='1D'\n",
    ")  # shared\n",
    "print(portfolio_shared.orders.records)"
   ]
  },
  {
   "cell_type": "code",
   "execution_count": 10,
   "metadata": {},
   "outputs": [
    {
     "name": "stdout",
     "output_type": "stream",
     "text": [
      "(1000000,)\n",
      "(1000000,)\n",
      "(1000000,)\n"
     ]
    }
   ],
   "source": [
    "big_group_by = np.repeat(np.arange(500), 2)\n",
    "big_portfolio = vbt.Portfolio.from_orders(\n",
    "    big_price_wide, big_order_size)\n",
    "print(big_portfolio.orders.values.shape)\n",
    "\n",
    "big_portfolio_grouped = vbt.Portfolio.from_orders(\n",
    "    big_price_wide, big_order_size, group_by=big_group_by)\n",
    "print(big_portfolio_grouped.orders.values.shape)\n",
    "\n",
    "big_portfolio_shared = vbt.Portfolio.from_orders(\n",
    "    big_price_wide, big_order_size, group_by=big_group_by, cash_sharing=True)\n",
    "print(big_portfolio_shared.orders.values.shape)"
   ]
  },
  {
   "cell_type": "code",
   "execution_count": 11,
   "metadata": {},
   "outputs": [
    {
     "name": "stdout",
     "output_type": "stream",
     "text": [
      "DatetimeIndex(['2020-01-01', '2020-01-02', '2020-01-03', '2020-01-04',\n",
      "               '2020-01-05'],\n",
      "              dtype='datetime64[ns]', freq=None)\n",
      "Index(['a', 'b', 'c'], dtype='object')\n",
      "2\n",
      "None\n",
      "True\n",
      "True\n",
      "True\n",
      "DatetimeIndex(['2020-01-01', '2020-01-02', '2020-01-03', '2020-01-04',\n",
      "               '2020-01-05'],\n",
      "              dtype='datetime64[ns]', freq=None)\n",
      "Index(['a', 'b', 'c'], dtype='object')\n",
      "2\n",
      "Index(['first', 'first', 'second'], dtype='object', name='group')\n",
      "True\n",
      "True\n",
      "True\n",
      "DatetimeIndex(['2020-01-01', '2020-01-02', '2020-01-03', '2020-01-04',\n",
      "               '2020-01-05'],\n",
      "              dtype='datetime64[ns]', freq=None)\n",
      "Index(['a', 'b', 'c'], dtype='object')\n",
      "2\n",
      "Index(['first', 'first', 'second'], dtype='object', name='group')\n",
      "False\n",
      "True\n",
      "False\n"
     ]
    }
   ],
   "source": [
    "print(portfolio.wrapper.index)\n",
    "print(portfolio.wrapper.columns)\n",
    "print(portfolio.wrapper.ndim)\n",
    "print(portfolio.wrapper.grouper.group_by)\n",
    "print(portfolio.wrapper.grouper.allow_enable)\n",
    "print(portfolio.wrapper.grouper.allow_disable)\n",
    "print(portfolio.wrapper.grouper.allow_modify)\n",
    "\n",
    "print(portfolio_grouped.wrapper.index)\n",
    "print(portfolio_grouped.wrapper.columns)\n",
    "print(portfolio_grouped.wrapper.ndim)\n",
    "print(portfolio_grouped.wrapper.grouper.group_by)\n",
    "print(portfolio_grouped.wrapper.grouper.allow_enable)\n",
    "print(portfolio_grouped.wrapper.grouper.allow_disable)\n",
    "print(portfolio_grouped.wrapper.grouper.allow_modify)\n",
    "\n",
    "print(portfolio_shared.wrapper.index)\n",
    "print(portfolio_shared.wrapper.columns)\n",
    "print(portfolio_shared.wrapper.ndim)\n",
    "print(portfolio_shared.wrapper.grouper.group_by)\n",
    "print(portfolio_shared.wrapper.grouper.allow_enable)\n",
    "print(portfolio_shared.wrapper.grouper.allow_disable)\n",
    "print(portfolio_shared.wrapper.grouper.allow_modify)"
   ]
  },
  {
   "cell_type": "code",
   "execution_count": 54,
   "metadata": {},
   "outputs": [
    {
     "name": "stdout",
     "output_type": "stream",
     "text": [
      "    id  idx  col  size  price     fees  side\n",
      "0    0    1    0   0.1   2.02  0.10202     0\n",
      "1    1    2    0   0.1   2.97  0.10297     1\n",
      "2    2    4    0   1.0   5.05  0.15050     0\n",
      "3    3    0    1   1.0   0.99  0.10990     1\n",
      "4    4    1    1   0.1   1.98  0.10198     1\n",
      "5    5    3    1   0.1   4.04  0.10404     0\n",
      "6    6    4    1   1.0   4.95  0.14950     1\n",
      "7    7    0    2   1.0   1.01  0.11010     0\n",
      "8    8    1    2   0.1   2.02  0.10202     0\n",
      "9    9    2    2   1.0   2.97  0.12970     1\n",
      "10  10    3    2   0.1   3.96  0.10396     1\n",
      "a    3\n",
      "b    4\n",
      "c    4\n",
      "Name: count, dtype: int64\n",
      "a    5\n",
      "b    5\n",
      "c    5\n",
      "Name: count, dtype: int64\n",
      "              a    b    c\n",
      "2020-01-01  NaN  1.0  1.0\n",
      "2020-01-02  2.0  2.0  2.0\n",
      "2020-01-03  3.0  NaN  3.0\n",
      "2020-01-04  4.0  4.0  4.0\n",
      "2020-01-05  5.0  5.0  NaN\n",
      "a    100.0\n",
      "b    100.0\n",
      "c    100.0\n",
      "Name: init_cash, dtype: float64\n",
      "                    a         b          c\n",
      "2020-01-01  100.00000  99.88010   99.87990\n",
      "2020-01-02   99.89598  98.77612  100.77588\n",
      "2020-01-03   99.89001       NaN  101.71618\n",
      "2020-01-04   99.89001  96.46808  101.70822\n",
      "2020-01-05   99.68951  95.26858  101.70822\n",
      "a     99.68951\n",
      "b     95.26858\n",
      "c    101.70822\n",
      "Name: final_value, dtype: float64\n"
     ]
    }
   ],
   "source": [
    "print(portfolio.orders.records)\n",
    "print(portfolio.orders.count())\n",
    "print(portfolio.logs.count())\n",
    "print(portfolio.close)\n",
    "print(portfolio.init_cash)\n",
    "print(portfolio.value())\n",
    "print(portfolio.final_value())"
   ]
  },
  {
   "cell_type": "code",
   "execution_count": 55,
   "metadata": {},
   "outputs": [
    {
     "name": "stdout",
     "output_type": "stream",
     "text": [
      "   id  idx  col  size  price     fees  side\n",
      "0   0    1    0   0.1   2.02  0.10202     0\n",
      "1   1    2    0   0.1   2.97  0.10297     1\n",
      "2   2    4    0   1.0   5.05  0.15050     0\n",
      "3\n",
      "5\n",
      "2020-01-01    NaN\n",
      "2020-01-02    2.0\n",
      "2020-01-03    3.0\n",
      "2020-01-04    4.0\n",
      "2020-01-05    5.0\n",
      "Name: a, dtype: float64\n",
      "100.0\n",
      "2020-01-01    100.00000\n",
      "2020-01-02     99.89598\n",
      "2020-01-03     99.89001\n",
      "2020-01-04     99.89001\n",
      "2020-01-05     99.68951\n",
      "Name: a, dtype: float64\n",
      "99.68951\n"
     ]
    }
   ],
   "source": [
    "print(portfolio['a'].orders.records)\n",
    "print(portfolio['a'].orders.count())\n",
    "print(portfolio['a'].logs.count())\n",
    "print(portfolio['a'].close)\n",
    "print(portfolio['a'].init_cash)\n",
    "print(portfolio['a'].value())\n",
    "print(portfolio['a'].final_value())"
   ]
  },
  {
   "cell_type": "code",
   "execution_count": 56,
   "metadata": {},
   "outputs": [
    {
     "name": "stdout",
     "output_type": "stream",
     "text": [
      "   id  idx  col  size  price     fees  side\n",
      "0   7    0    0   1.0   1.01  0.11010     0\n",
      "1   8    1    0   0.1   2.02  0.10202     0\n",
      "2   9    2    0   1.0   2.97  0.12970     1\n",
      "3  10    3    0   0.1   3.96  0.10396     1\n",
      "4\n",
      "5\n",
      "2020-01-01    1.0\n",
      "2020-01-02    2.0\n",
      "2020-01-03    3.0\n",
      "2020-01-04    4.0\n",
      "2020-01-05    NaN\n",
      "Name: c, dtype: float64\n",
      "100.0\n",
      "2020-01-01     99.87990\n",
      "2020-01-02    100.77588\n",
      "2020-01-03    101.71618\n",
      "2020-01-04    101.70822\n",
      "2020-01-05    101.70822\n",
      "Name: c, dtype: float64\n",
      "101.70822\n"
     ]
    }
   ],
   "source": [
    "print(portfolio['c'].orders.records)\n",
    "print(portfolio['c'].orders.count())\n",
    "print(portfolio['c'].logs.count())\n",
    "print(portfolio['c'].close)\n",
    "print(portfolio['c'].init_cash)\n",
    "print(portfolio['c'].value())\n",
    "print(portfolio['c'].final_value())"
   ]
  },
  {
   "cell_type": "code",
   "execution_count": 57,
   "metadata": {},
   "outputs": [
    {
     "name": "stdout",
     "output_type": "stream",
     "text": [
      "   id  idx  col  size  price     fees  side\n",
      "0   7    0    0   1.0   1.01  0.11010     0\n",
      "1   8    1    0   0.1   2.02  0.10202     0\n",
      "2   9    2    0   1.0   2.97  0.12970     1\n",
      "3  10    3    0   0.1   3.96  0.10396     1\n",
      "c    4\n",
      "Name: count, dtype: int64\n",
      "c    5\n",
      "Name: count, dtype: int64\n",
      "              c\n",
      "2020-01-01  1.0\n",
      "2020-01-02  2.0\n",
      "2020-01-03  3.0\n",
      "2020-01-04  4.0\n",
      "2020-01-05  NaN\n",
      "c    100.0\n",
      "Name: init_cash, dtype: float64\n",
      "                    c\n",
      "2020-01-01   99.87990\n",
      "2020-01-02  100.77588\n",
      "2020-01-03  101.71618\n",
      "2020-01-04  101.70822\n",
      "2020-01-05  101.70822\n",
      "c    101.70822\n",
      "Name: final_value, dtype: float64\n"
     ]
    }
   ],
   "source": [
    "print(portfolio[['c']].orders.records)\n",
    "print(portfolio[['c']].orders.count())\n",
    "print(portfolio[['c']].logs.count())\n",
    "print(portfolio[['c']].close)\n",
    "print(portfolio[['c']].init_cash)\n",
    "print(portfolio[['c']].value())\n",
    "print(portfolio[['c']].final_value())"
   ]
  },
  {
   "cell_type": "code",
   "execution_count": 58,
   "metadata": {},
   "outputs": [
    {
     "name": "stdout",
     "output_type": "stream",
     "text": [
      "    id  idx  col  size  price     fees  side\n",
      "0    0    1    0   0.1   2.02  0.10202     0\n",
      "1    1    2    0   0.1   2.97  0.10297     1\n",
      "2    2    4    0   1.0   5.05  0.15050     0\n",
      "3    3    0    1   1.0   0.99  0.10990     1\n",
      "4    4    1    1   0.1   1.98  0.10198     1\n",
      "5    5    3    1   0.1   4.04  0.10404     0\n",
      "6    6    4    1   1.0   4.95  0.14950     1\n",
      "7    7    0    2   1.0   1.01  0.11010     0\n",
      "8    8    1    2   0.1   2.02  0.10202     0\n",
      "9    9    2    2   1.0   2.97  0.12970     1\n",
      "10  10    3    2   0.1   3.96  0.10396     1\n",
      "group\n",
      "first     7\n",
      "second    4\n",
      "Name: count, dtype: int64\n",
      "group\n",
      "first     10\n",
      "second     5\n",
      "Name: count, dtype: int64\n",
      "              a    b    c\n",
      "2020-01-01  NaN  1.0  1.0\n",
      "2020-01-02  2.0  2.0  2.0\n",
      "2020-01-03  3.0  NaN  3.0\n",
      "2020-01-04  4.0  4.0  4.0\n",
      "2020-01-05  5.0  5.0  NaN\n",
      "group\n",
      "first     200.0\n",
      "second    100.0\n",
      "Name: init_cash, dtype: float64\n",
      "group           first     second\n",
      "2020-01-01  199.88010   99.87990\n",
      "2020-01-02  198.67210  100.77588\n",
      "2020-01-03        NaN  101.71618\n",
      "2020-01-04  196.35809  101.70822\n",
      "2020-01-05  194.95809  101.70822\n",
      "group\n",
      "first     194.95809\n",
      "second    101.70822\n",
      "Name: final_value, dtype: float64\n"
     ]
    }
   ],
   "source": [
    "print(portfolio_grouped.orders.records)\n",
    "print(portfolio_grouped.orders.count())\n",
    "print(portfolio_grouped.logs.count())\n",
    "print(portfolio_grouped.close)\n",
    "print(portfolio_grouped.init_cash)\n",
    "print(portfolio_grouped.value())\n",
    "print(portfolio_grouped.final_value())"
   ]
  },
  {
   "cell_type": "code",
   "execution_count": 59,
   "metadata": {},
   "outputs": [
    {
     "name": "stdout",
     "output_type": "stream",
     "text": [
      "   id  idx  col  size  price     fees  side\n",
      "0   0    1    0   0.1   2.02  0.10202     0\n",
      "1   1    2    0   0.1   2.97  0.10297     1\n",
      "2   2    4    0   1.0   5.05  0.15050     0\n",
      "3   3    0    1   1.0   0.99  0.10990     1\n",
      "4   4    1    1   0.1   1.98  0.10198     1\n",
      "5   5    3    1   0.1   4.04  0.10404     0\n",
      "6   6    4    1   1.0   4.95  0.14950     1\n",
      "7\n",
      "10\n",
      "              a    b\n",
      "2020-01-01  NaN  1.0\n",
      "2020-01-02  2.0  2.0\n",
      "2020-01-03  3.0  NaN\n",
      "2020-01-04  4.0  4.0\n",
      "2020-01-05  5.0  5.0\n",
      "200.0\n",
      "2020-01-01    199.88010\n",
      "2020-01-02    198.67210\n",
      "2020-01-03          NaN\n",
      "2020-01-04    196.35809\n",
      "2020-01-05    194.95809\n",
      "Name: first, dtype: float64\n",
      "194.95809\n"
     ]
    }
   ],
   "source": [
    "print(portfolio_grouped['first'].orders.records)\n",
    "print(portfolio_grouped['first'].orders.count())\n",
    "print(portfolio_grouped['first'].logs.count())\n",
    "print(portfolio_grouped['first'].close)\n",
    "print(portfolio_grouped['first'].init_cash)\n",
    "print(portfolio_grouped['first'].value())\n",
    "print(portfolio_grouped['first'].final_value())"
   ]
  },
  {
   "cell_type": "code",
   "execution_count": 60,
   "metadata": {},
   "outputs": [
    {
     "name": "stdout",
     "output_type": "stream",
     "text": [
      "   id  idx  col  size  price     fees  side\n",
      "0   7    0    0   1.0   1.01  0.11010     0\n",
      "1   8    1    0   0.1   2.02  0.10202     0\n",
      "2   9    2    0   1.0   2.97  0.12970     1\n",
      "3  10    3    0   0.1   3.96  0.10396     1\n",
      "4\n",
      "5\n",
      "2020-01-01    1.0\n",
      "2020-01-02    2.0\n",
      "2020-01-03    3.0\n",
      "2020-01-04    4.0\n",
      "2020-01-05    NaN\n",
      "Name: c, dtype: float64\n",
      "100.0\n",
      "2020-01-01     99.87990\n",
      "2020-01-02    100.77588\n",
      "2020-01-03    101.71618\n",
      "2020-01-04    101.70822\n",
      "2020-01-05    101.70822\n",
      "Name: second, dtype: float64\n",
      "101.70822\n"
     ]
    }
   ],
   "source": [
    "print(portfolio_grouped['second'].orders.records)\n",
    "print(portfolio_grouped['second'].orders.count())\n",
    "print(portfolio_grouped['second'].logs.count())\n",
    "print(portfolio_grouped['second'].close)\n",
    "print(portfolio_grouped['second'].init_cash)\n",
    "print(portfolio_grouped['second'].value())\n",
    "print(portfolio_grouped['second'].final_value())"
   ]
  },
  {
   "cell_type": "code",
   "execution_count": 61,
   "metadata": {},
   "outputs": [
    {
     "name": "stdout",
     "output_type": "stream",
     "text": [
      "   id  idx  col  size  price     fees  side\n",
      "0   7    0    0   1.0   1.01  0.11010     0\n",
      "1   8    1    0   0.1   2.02  0.10202     0\n",
      "2   9    2    0   1.0   2.97  0.12970     1\n",
      "3  10    3    0   0.1   3.96  0.10396     1\n",
      "group\n",
      "second    4\n",
      "Name: count, dtype: int64\n",
      "group\n",
      "second    5\n",
      "Name: count, dtype: int64\n",
      "              c\n",
      "2020-01-01  1.0\n",
      "2020-01-02  2.0\n",
      "2020-01-03  3.0\n",
      "2020-01-04  4.0\n",
      "2020-01-05  NaN\n",
      "group\n",
      "second    100.0\n",
      "Name: init_cash, dtype: float64\n",
      "group          second\n",
      "2020-01-01   99.87990\n",
      "2020-01-02  100.77588\n",
      "2020-01-03  101.71618\n",
      "2020-01-04  101.70822\n",
      "2020-01-05  101.70822\n",
      "group\n",
      "second    101.70822\n",
      "Name: final_value, dtype: float64\n"
     ]
    }
   ],
   "source": [
    "print(portfolio_grouped[['second']].orders.records)\n",
    "print(portfolio_grouped[['second']].orders.count())\n",
    "print(portfolio_grouped[['second']].logs.count())\n",
    "print(portfolio_grouped[['second']].close)\n",
    "print(portfolio_grouped[['second']].init_cash)\n",
    "print(portfolio_grouped[['second']].value())\n",
    "print(portfolio_grouped[['second']].final_value())"
   ]
  },
  {
   "cell_type": "code",
   "execution_count": 62,
   "metadata": {},
   "outputs": [
    {
     "name": "stdout",
     "output_type": "stream",
     "text": [
      "3.42 ms ± 283 µs per loop (mean ± std. dev. of 7 runs, 1 loop each)\n",
      "The slowest run took 17.43 times longer than the fastest. This could mean that an intermediate result is being cached.\n",
      "111 ms ± 89.2 ms per loop (mean ± std. dev. of 7 runs, 1 loop each)\n",
      "3.37 ms ± 46.7 µs per loop (mean ± std. dev. of 7 runs, 100 loops each)\n",
      "14.3 ms ± 1.99 ms per loop (mean ± std. dev. of 7 runs, 10 loops each)\n",
      "6.41 ms ± 139 µs per loop (mean ± std. dev. of 7 runs, 100 loops each)\n",
      "18.1 ms ± 366 µs per loop (mean ± std. dev. of 7 runs, 10 loops each)\n"
     ]
    }
   ],
   "source": [
    "%timeit big_portfolio.iloc[0]\n",
    "%timeit big_portfolio.iloc[:]\n",
    "%timeit big_portfolio_grouped.iloc[0]\n",
    "%timeit big_portfolio_grouped.iloc[:]\n",
    "%timeit big_portfolio_shared.iloc[0]\n",
    "%timeit big_portfolio_shared.iloc[:]"
   ]
  },
  {
   "cell_type": "code",
   "execution_count": 63,
   "metadata": {},
   "outputs": [
    {
     "name": "stdout",
     "output_type": "stream",
     "text": [
      "False\n",
      "False\n",
      "True\n"
     ]
    }
   ],
   "source": [
    "print(portfolio.cash_sharing)\n",
    "print(portfolio_grouped.cash_sharing)\n",
    "print(portfolio_shared.cash_sharing)"
   ]
  },
  {
   "cell_type": "code",
   "execution_count": 64,
   "metadata": {},
   "outputs": [
    {
     "name": "stdout",
     "output_type": "stream",
     "text": [
      "            a  b  c\n",
      "2020-01-01  0  0  0\n",
      "2020-01-02  0  0  0\n",
      "2020-01-03  0  0  0\n",
      "2020-01-04  0  0  0\n",
      "2020-01-05  0  0  0\n",
      "            a  b  c\n",
      "2020-01-01  1  0  0\n",
      "2020-01-02  1  0  0\n",
      "2020-01-03  1  0  0\n",
      "2020-01-04  1  0  0\n",
      "2020-01-05  1  0  0\n",
      "            a  b  c\n",
      "2020-01-01  1  0  0\n",
      "2020-01-02  1  0  0\n",
      "2020-01-03  1  0  0\n",
      "2020-01-04  1  0  0\n",
      "2020-01-05  1  0  0\n"
     ]
    }
   ],
   "source": [
    "print(portfolio.call_seq)\n",
    "print(portfolio_grouped.call_seq)\n",
    "print(portfolio_shared.call_seq)"
   ]
  },
  {
   "cell_type": "code",
   "execution_count": 65,
   "metadata": {},
   "outputs": [
    {
     "name": "stdout",
     "output_type": "stream",
     "text": [
      "a    3\n",
      "b    4\n",
      "c    4\n",
      "Name: count, dtype: int64\n",
      "a    3\n",
      "b    4\n",
      "c    4\n",
      "Name: count, dtype: int64\n",
      "a    3\n",
      "b    4\n",
      "c    4\n",
      "Name: count, dtype: int64\n",
      "group\n",
      "first     7\n",
      "second    4\n",
      "Name: count, dtype: int64\n",
      "group\n",
      "first     7\n",
      "second    4\n",
      "Name: count, dtype: int64\n",
      "group\n",
      "first     7\n",
      "second    4\n",
      "Name: count, dtype: int64\n"
     ]
    }
   ],
   "source": [
    "print(portfolio.orders.count())\n",
    "print(portfolio_grouped.get_orders(group_by=False).count())\n",
    "print(portfolio_shared.get_orders(group_by=False).count())\n",
    "\n",
    "print(portfolio.get_orders(group_by=group_by).count())\n",
    "print(portfolio_grouped.orders.count())\n",
    "print(portfolio_shared.orders.count())"
   ]
  },
  {
   "cell_type": "code",
   "execution_count": 66,
   "metadata": {},
   "outputs": [
    {
     "name": "stdout",
     "output_type": "stream",
     "text": [
      "a    5\n",
      "b    5\n",
      "c    5\n",
      "Name: count, dtype: int64\n",
      "a    5\n",
      "b    5\n",
      "c    5\n",
      "Name: count, dtype: int64\n",
      "a    5\n",
      "b    5\n",
      "c    5\n",
      "Name: count, dtype: int64\n",
      "group\n",
      "first     10\n",
      "second     5\n",
      "Name: count, dtype: int64\n",
      "group\n",
      "first     10\n",
      "second     5\n",
      "Name: count, dtype: int64\n",
      "group\n",
      "first     10\n",
      "second     5\n",
      "Name: count, dtype: int64\n"
     ]
    }
   ],
   "source": [
    "print(portfolio.logs.count())\n",
    "print(portfolio_grouped.get_logs(group_by=False).count())\n",
    "print(portfolio_shared.get_logs(group_by=False).count())\n",
    "\n",
    "print(portfolio.get_logs(group_by=group_by).count())\n",
    "print(portfolio_grouped.logs.count())\n",
    "print(portfolio_shared.logs.count())"
   ]
  },
  {
   "cell_type": "code",
   "execution_count": 67,
   "metadata": {},
   "outputs": [
    {
     "name": "stdout",
     "output_type": "stream",
     "text": [
      "a    2\n",
      "b    2\n",
      "c    2\n",
      "Name: count, dtype: int64\n",
      "a    2\n",
      "b    2\n",
      "c    2\n",
      "Name: count, dtype: int64\n",
      "a    2\n",
      "b    2\n",
      "c    2\n",
      "Name: count, dtype: int64\n",
      "group\n",
      "first     4\n",
      "second    2\n",
      "Name: count, dtype: int64\n",
      "group\n",
      "first     4\n",
      "second    2\n",
      "Name: count, dtype: int64\n",
      "group\n",
      "first     4\n",
      "second    2\n",
      "Name: count, dtype: int64\n"
     ]
    }
   ],
   "source": [
    "print(portfolio.trades.count())\n",
    "print(portfolio_grouped.get_trades(group_by=False).count())\n",
    "print(portfolio_shared.get_trades(group_by=False).count())\n",
    "\n",
    "print(portfolio.get_trades(group_by=group_by).count())\n",
    "print(portfolio_grouped.trades.count())\n",
    "print(portfolio_shared.trades.count())"
   ]
  },
  {
   "cell_type": "code",
   "execution_count": 68,
   "metadata": {},
   "outputs": [
    {
     "name": "stdout",
     "output_type": "stream",
     "text": [
      "32.7 ms ± 9.97 ms per loop (mean ± std. dev. of 7 runs, 1 loop each)\n"
     ]
    }
   ],
   "source": [
    "%timeit big_portfolio.trades"
   ]
  },
  {
   "cell_type": "code",
   "execution_count": 69,
   "metadata": {},
   "outputs": [
    {
     "name": "stdout",
     "output_type": "stream",
     "text": [
      "a    2\n",
      "b    1\n",
      "c    1\n",
      "Name: count, dtype: int64\n",
      "a    2\n",
      "b    1\n",
      "c    1\n",
      "Name: count, dtype: int64\n",
      "a    2\n",
      "b    1\n",
      "c    1\n",
      "Name: count, dtype: int64\n",
      "group\n",
      "first     3\n",
      "second    1\n",
      "Name: count, dtype: int64\n",
      "group\n",
      "first     3\n",
      "second    1\n",
      "Name: count, dtype: int64\n",
      "group\n",
      "first     3\n",
      "second    1\n",
      "Name: count, dtype: int64\n"
     ]
    }
   ],
   "source": [
    "print(portfolio.positions.count())\n",
    "print(portfolio_grouped.get_positions(group_by=False).count())\n",
    "print(portfolio_shared.get_positions(group_by=False).count())\n",
    "\n",
    "print(portfolio.get_positions(group_by=group_by).count())\n",
    "print(portfolio_grouped.positions.count())\n",
    "print(portfolio_shared.positions.count())"
   ]
  },
  {
   "cell_type": "code",
   "execution_count": 70,
   "metadata": {},
   "outputs": [
    {
     "name": "stdout",
     "output_type": "stream",
     "text": [
      "26.9 ms ± 1.16 ms per loop (mean ± std. dev. of 7 runs, 10 loops each)\n"
     ]
    }
   ],
   "source": [
    "%timeit big_portfolio.positions"
   ]
  },
  {
   "cell_type": "code",
   "execution_count": 71,
   "metadata": {},
   "outputs": [
    {
     "name": "stdout",
     "output_type": "stream",
     "text": [
      "a    1\n",
      "b    1\n",
      "c    1\n",
      "Name: count, dtype: int64\n",
      "a    1\n",
      "b    1\n",
      "c    1\n",
      "Name: count, dtype: int64\n",
      "a    1\n",
      "b    1\n",
      "c    1\n",
      "Name: count, dtype: int64\n",
      "group\n",
      "first     1\n",
      "second    1\n",
      "Name: count, dtype: int64\n",
      "group\n",
      "first     1\n",
      "second    1\n",
      "Name: count, dtype: int64\n",
      "group\n",
      "first     1\n",
      "second    1\n",
      "Name: count, dtype: int64\n"
     ]
    }
   ],
   "source": [
    "print(portfolio.drawdowns.count())\n",
    "print(portfolio_grouped.get_drawdowns(group_by=False).count())\n",
    "print(portfolio_shared.get_drawdowns(group_by=False).count())\n",
    "\n",
    "print(portfolio.get_drawdowns(group_by=group_by).count())\n",
    "print(portfolio_grouped.drawdowns.count())\n",
    "print(portfolio_shared.drawdowns.count())"
   ]
  },
  {
   "cell_type": "code",
   "execution_count": 72,
   "metadata": {},
   "outputs": [
    {
     "name": "stdout",
     "output_type": "stream",
     "text": [
      "39.9 ms ± 907 µs per loop (mean ± std. dev. of 7 runs, 1 loop each)\n"
     ]
    }
   ],
   "source": [
    "%timeit big_portfolio.drawdowns"
   ]
  },
  {
   "cell_type": "code",
   "execution_count": 73,
   "metadata": {},
   "outputs": [
    {
     "name": "stdout",
     "output_type": "stream",
     "text": [
      "              a    b    c\n",
      "2020-01-01  NaN  1.0  1.0\n",
      "2020-01-02  2.0  2.0  2.0\n",
      "2020-01-03  3.0  NaN  3.0\n",
      "2020-01-04  4.0  4.0  4.0\n",
      "2020-01-05  5.0  5.0  NaN\n",
      "              a    b    c\n",
      "2020-01-01  NaN  1.0  1.0\n",
      "2020-01-02  2.0  2.0  2.0\n",
      "2020-01-03  3.0  NaN  3.0\n",
      "2020-01-04  4.0  4.0  4.0\n",
      "2020-01-05  5.0  5.0  NaN\n",
      "              a    b    c\n",
      "2020-01-01  NaN  1.0  1.0\n",
      "2020-01-02  2.0  2.0  2.0\n",
      "2020-01-03  3.0  NaN  3.0\n",
      "2020-01-04  4.0  4.0  4.0\n",
      "2020-01-05  5.0  5.0  NaN\n"
     ]
    }
   ],
   "source": [
    "print(portfolio.close)\n",
    "print(portfolio_grouped.close)\n",
    "print(portfolio_shared.close)"
   ]
  },
  {
   "cell_type": "code",
   "execution_count": 74,
   "metadata": {},
   "outputs": [
    {
     "name": "stdout",
     "output_type": "stream",
     "text": [
      "              a    b    c\n",
      "2020-01-01  NaN  1.0  1.0\n",
      "2020-01-02  2.0  2.0  2.0\n",
      "2020-01-03  3.0  NaN  3.0\n",
      "2020-01-04  4.0  4.0  4.0\n",
      "2020-01-05  5.0  5.0  NaN\n",
      "              a    b    c\n",
      "2020-01-01  NaN  1.0  1.0\n",
      "2020-01-02  2.0  2.0  2.0\n",
      "2020-01-03  3.0  2.0  3.0\n",
      "2020-01-04  4.0  4.0  4.0\n",
      "2020-01-05  5.0  5.0  4.0\n",
      "              a    b    c\n",
      "2020-01-01  2.0  1.0  1.0\n",
      "2020-01-02  2.0  2.0  2.0\n",
      "2020-01-03  3.0  4.0  3.0\n",
      "2020-01-04  4.0  4.0  4.0\n",
      "2020-01-05  5.0  5.0  NaN\n",
      "              a    b    c\n",
      "2020-01-01  2.0  1.0  1.0\n",
      "2020-01-02  2.0  2.0  2.0\n",
      "2020-01-03  3.0  2.0  3.0\n",
      "2020-01-04  4.0  4.0  4.0\n",
      "2020-01-05  5.0  5.0  4.0\n"
     ]
    }
   ],
   "source": [
    "print(portfolio.fill_close(ffill=False, bfill=False))\n",
    "print(portfolio.fill_close(ffill=True, bfill=False))\n",
    "print(portfolio.fill_close(ffill=False, bfill=True))\n",
    "print(portfolio.fill_close(ffill=True, bfill=True))"
   ]
  },
  {
   "cell_type": "code",
   "execution_count": 75,
   "metadata": {},
   "outputs": [
    {
     "name": "stdout",
     "output_type": "stream",
     "text": [
      "67.6 µs ± 1.39 µs per loop (mean ± std. dev. of 7 runs, 10000 loops each)\n"
     ]
    }
   ],
   "source": [
    "%timeit big_portfolio.fill_close()"
   ]
  },
  {
   "cell_type": "code",
   "execution_count": 76,
   "metadata": {},
   "outputs": [
    {
     "name": "stdout",
     "output_type": "stream",
     "text": [
      "              a    b    c\n",
      "2020-01-01  0.0  0.0  1.0\n",
      "2020-01-02  0.1  0.0  0.1\n",
      "2020-01-03 -0.1  0.0 -1.0\n",
      "2020-01-04  0.0  0.0 -0.1\n",
      "2020-01-05  1.0  0.0  0.0\n",
      "              a    b    c\n",
      "2020-01-01  0.0  1.0  0.0\n",
      "2020-01-02  0.0  0.1  0.0\n",
      "2020-01-03  0.0  0.0  0.0\n",
      "2020-01-04  0.0 -0.1  0.0\n",
      "2020-01-05  0.0  1.0  0.0\n",
      "              a    b    c\n",
      "2020-01-01  0.0 -1.0  1.0\n",
      "2020-01-02  0.1 -0.1  0.1\n",
      "2020-01-03 -0.1  0.0 -1.0\n",
      "2020-01-04  0.0  0.1 -0.1\n",
      "2020-01-05  1.0 -1.0  0.0\n",
      "              a    b    c\n",
      "2020-01-01  0.0 -1.0  1.0\n",
      "2020-01-02  0.1 -0.1  0.1\n",
      "2020-01-03 -0.1  0.0 -1.0\n",
      "2020-01-04  0.0  0.1 -0.1\n",
      "2020-01-05  1.0 -1.0  0.0\n",
      "              a    b    c\n",
      "2020-01-01  0.0 -1.0  1.0\n",
      "2020-01-02  0.1 -0.1  0.1\n",
      "2020-01-03 -0.1  0.0 -1.0\n",
      "2020-01-04  0.0  0.1 -0.1\n",
      "2020-01-05  1.0 -1.0  0.0\n"
     ]
    }
   ],
   "source": [
    "print(portfolio.share_flow(direction='longonly'))\n",
    "print(portfolio.share_flow(direction='shortonly'))\n",
    "\n",
    "print(portfolio.share_flow())\n",
    "print(portfolio_grouped.share_flow())\n",
    "print(portfolio_shared.share_flow())"
   ]
  },
  {
   "cell_type": "code",
   "execution_count": 77,
   "metadata": {},
   "outputs": [
    {
     "name": "stdout",
     "output_type": "stream",
     "text": [
      "11 ms ± 539 µs per loop (mean ± std. dev. of 7 runs, 100 loops each)\n",
      "10.6 ms ± 276 µs per loop (mean ± std. dev. of 7 runs, 100 loops each)\n",
      "10.5 ms ± 148 µs per loop (mean ± std. dev. of 7 runs, 100 loops each)\n"
     ]
    }
   ],
   "source": [
    "%timeit big_portfolio.share_flow()\n",
    "%timeit big_portfolio_grouped.share_flow()\n",
    "%timeit big_portfolio_shared.share_flow()"
   ]
  },
  {
   "cell_type": "code",
   "execution_count": 78,
   "metadata": {},
   "outputs": [
    {
     "name": "stdout",
     "output_type": "stream",
     "text": [
      "              a    b    c\n",
      "2020-01-01  0.0  0.0  1.0\n",
      "2020-01-02  0.1  0.0  1.1\n",
      "2020-01-03  0.0  0.0  0.1\n",
      "2020-01-04  0.0  0.0  0.0\n",
      "2020-01-05  1.0  0.0  0.0\n",
      "              a    b    c\n",
      "2020-01-01  0.0  1.0  0.0\n",
      "2020-01-02  0.0  1.1  0.0\n",
      "2020-01-03  0.0  1.1  0.0\n",
      "2020-01-04  0.0  1.0  0.0\n",
      "2020-01-05  0.0  2.0  0.0\n",
      "              a    b    c\n",
      "2020-01-01  0.0 -1.0  1.0\n",
      "2020-01-02  0.1 -1.1  1.1\n",
      "2020-01-03  0.0 -1.1  0.1\n",
      "2020-01-04  0.0 -1.0  0.0\n",
      "2020-01-05  1.0 -2.0  0.0\n",
      "              a    b    c\n",
      "2020-01-01  0.0 -1.0  1.0\n",
      "2020-01-02  0.1 -1.1  1.1\n",
      "2020-01-03  0.0 -1.1  0.1\n",
      "2020-01-04  0.0 -1.0  0.0\n",
      "2020-01-05  1.0 -2.0  0.0\n",
      "              a    b    c\n",
      "2020-01-01  0.0 -1.0  1.0\n",
      "2020-01-02  0.1 -1.1  1.1\n",
      "2020-01-03  0.0 -1.1  0.1\n",
      "2020-01-04  0.0 -1.0  0.0\n",
      "2020-01-05  1.0 -2.0  0.0\n"
     ]
    }
   ],
   "source": [
    "print(portfolio.shares(direction='longonly'))\n",
    "print(portfolio.shares(direction='shortonly'))\n",
    "\n",
    "print(portfolio.shares())\n",
    "print(portfolio_grouped.shares())\n",
    "print(portfolio_shared.shares())"
   ]
  },
  {
   "cell_type": "code",
   "execution_count": 79,
   "metadata": {},
   "outputs": [
    {
     "name": "stdout",
     "output_type": "stream",
     "text": [
      "14.4 ms ± 539 µs per loop (mean ± std. dev. of 7 runs, 100 loops each)\n",
      "14.6 ms ± 265 µs per loop (mean ± std. dev. of 7 runs, 100 loops each)\n",
      "14 ms ± 50.3 µs per loop (mean ± std. dev. of 7 runs, 100 loops each)\n"
     ]
    }
   ],
   "source": [
    "%timeit big_portfolio.shares()\n",
    "%timeit big_portfolio_grouped.shares()\n",
    "%timeit big_portfolio_shared.shares()"
   ]
  },
  {
   "cell_type": "code",
   "execution_count": 80,
   "metadata": {},
   "outputs": [
    {
     "name": "stdout",
     "output_type": "stream",
     "text": [
      "                a      b      c\n",
      "2020-01-01  False  False   True\n",
      "2020-01-02   True  False   True\n",
      "2020-01-03  False  False   True\n",
      "2020-01-04  False  False  False\n",
      "2020-01-05   True  False  False\n",
      "                a     b      c\n",
      "2020-01-01  False  True  False\n",
      "2020-01-02  False  True  False\n",
      "2020-01-03  False  True  False\n",
      "2020-01-04  False  True  False\n",
      "2020-01-05  False  True  False\n",
      "                a     b      c\n",
      "2020-01-01  False  True   True\n",
      "2020-01-02   True  True   True\n",
      "2020-01-03  False  True   True\n",
      "2020-01-04  False  True  False\n",
      "2020-01-05   True  True  False\n",
      "                a     b      c\n",
      "2020-01-01  False  True   True\n",
      "2020-01-02   True  True   True\n",
      "2020-01-03  False  True   True\n",
      "2020-01-04  False  True  False\n",
      "2020-01-05   True  True  False\n",
      "                a     b      c\n",
      "2020-01-01  False  True   True\n",
      "2020-01-02   True  True   True\n",
      "2020-01-03  False  True   True\n",
      "2020-01-04  False  True  False\n",
      "2020-01-05   True  True  False\n",
      "group       first  second\n",
      "2020-01-01   True    True\n",
      "2020-01-02   True    True\n",
      "2020-01-03   True    True\n",
      "2020-01-04   True   False\n",
      "2020-01-05   True   False\n",
      "group       first  second\n",
      "2020-01-01   True    True\n",
      "2020-01-02   True    True\n",
      "2020-01-03   True    True\n",
      "2020-01-04   True   False\n",
      "2020-01-05   True   False\n",
      "group       first  second\n",
      "2020-01-01   True    True\n",
      "2020-01-02   True    True\n",
      "2020-01-03   True    True\n",
      "2020-01-04   True   False\n",
      "2020-01-05   True   False\n"
     ]
    }
   ],
   "source": [
    "print(portfolio.pos_mask(direction='longonly'))\n",
    "print(portfolio.pos_mask(direction='shortonly'))\n",
    "\n",
    "print(portfolio.pos_mask())\n",
    "print(portfolio_grouped.pos_mask(group_by=False))\n",
    "print(portfolio_shared.pos_mask(group_by=False))\n",
    "\n",
    "print(portfolio.pos_mask(group_by=group_by))\n",
    "print(portfolio_grouped.pos_mask())\n",
    "print(portfolio_shared.pos_mask())"
   ]
  },
  {
   "cell_type": "code",
   "execution_count": 81,
   "metadata": {},
   "outputs": [
    {
     "name": "stdout",
     "output_type": "stream",
     "text": [
      "14.8 ms ± 113 µs per loop (mean ± std. dev. of 7 runs, 100 loops each)\n",
      "15.1 ms ± 462 µs per loop (mean ± std. dev. of 7 runs, 100 loops each)\n",
      "15.6 ms ± 299 µs per loop (mean ± std. dev. of 7 runs, 100 loops each)\n",
      "31.4 ms ± 275 µs per loop (mean ± std. dev. of 7 runs, 10 loops each)\n",
      "31 ms ± 198 µs per loop (mean ± std. dev. of 7 runs, 10 loops each)\n",
      "32 ms ± 208 µs per loop (mean ± std. dev. of 7 runs, 10 loops each)\n"
     ]
    }
   ],
   "source": [
    "%timeit big_portfolio.pos_mask()\n",
    "%timeit big_portfolio_grouped.pos_mask(group_by=False)\n",
    "%timeit big_portfolio_shared.pos_mask(group_by=False)\n",
    "\n",
    "%timeit big_portfolio.pos_mask(group_by=big_group_by)\n",
    "%timeit big_portfolio_grouped.pos_mask()\n",
    "%timeit big_portfolio_shared.pos_mask()"
   ]
  },
  {
   "cell_type": "code",
   "execution_count": 82,
   "metadata": {},
   "outputs": [
    {
     "name": "stdout",
     "output_type": "stream",
     "text": [
      "a    0.4\n",
      "b    0.0\n",
      "c    0.6\n",
      "Name: pos_coverage, dtype: float64\n",
      "a    0.0\n",
      "b    1.0\n",
      "c    0.0\n",
      "Name: pos_coverage, dtype: float64\n",
      "a    0.4\n",
      "b    1.0\n",
      "c    0.6\n",
      "Name: pos_coverage, dtype: float64\n",
      "a    0.4\n",
      "b    1.0\n",
      "c    0.6\n",
      "Name: pos_coverage, dtype: float64\n",
      "a    0.4\n",
      "b    1.0\n",
      "c    0.6\n",
      "Name: pos_coverage, dtype: float64\n",
      "group\n",
      "first     0.7\n",
      "second    0.6\n",
      "Name: pos_coverage, dtype: float64\n",
      "group\n",
      "first     0.7\n",
      "second    0.6\n",
      "Name: pos_coverage, dtype: float64\n",
      "group\n",
      "first     0.7\n",
      "second    0.6\n",
      "Name: pos_coverage, dtype: float64\n"
     ]
    }
   ],
   "source": [
    "print(portfolio.pos_coverage(direction='longonly'))\n",
    "print(portfolio.pos_coverage(direction='shortonly'))\n",
    "\n",
    "print(portfolio.pos_coverage())\n",
    "print(portfolio_grouped.pos_coverage(group_by=False))\n",
    "print(portfolio_shared.pos_coverage(group_by=False))\n",
    "\n",
    "print(portfolio.pos_coverage(group_by=group_by))\n",
    "print(portfolio_grouped.pos_coverage())\n",
    "print(portfolio_shared.pos_coverage())"
   ]
  },
  {
   "cell_type": "code",
   "execution_count": 83,
   "metadata": {},
   "outputs": [
    {
     "name": "stdout",
     "output_type": "stream",
     "text": [
      "16.6 ms ± 1.51 ms per loop (mean ± std. dev. of 7 runs, 100 loops each)\n",
      "14.8 ms ± 104 µs per loop (mean ± std. dev. of 7 runs, 100 loops each)\n",
      "15 ms ± 116 µs per loop (mean ± std. dev. of 7 runs, 100 loops each)\n",
      "34.1 ms ± 1.49 ms per loop (mean ± std. dev. of 7 runs, 10 loops each)\n",
      "32.2 ms ± 1.15 ms per loop (mean ± std. dev. of 7 runs, 10 loops each)\n",
      "33.4 ms ± 1.19 ms per loop (mean ± std. dev. of 7 runs, 10 loops each)\n"
     ]
    }
   ],
   "source": [
    "%timeit big_portfolio.pos_coverage()\n",
    "%timeit big_portfolio_grouped.pos_coverage(group_by=False)\n",
    "%timeit big_portfolio_shared.pos_coverage(group_by=False)\n",
    "\n",
    "%timeit big_portfolio.pos_coverage(group_by=big_group_by)\n",
    "%timeit big_portfolio_grouped.pos_coverage()\n",
    "%timeit big_portfolio_shared.pos_coverage()"
   ]
  },
  {
   "cell_type": "code",
   "execution_count": 84,
   "metadata": {},
   "outputs": [
    {
     "name": "stdout",
     "output_type": "stream",
     "text": [
      "                  a        b        c\n",
      "2020-01-01  0.00000 -1.09990 -1.12010\n",
      "2020-01-02 -0.30402 -0.29998 -0.30402\n",
      "2020-01-03  0.19403  0.00000  2.84030\n",
      "2020-01-04  0.00000  0.29996  0.29204\n",
      "2020-01-05 -5.20050 -5.09950  0.00000\n",
      "                  a        b        c\n",
      "2020-01-01  0.00000  0.88010 -1.12010\n",
      "2020-01-02 -0.30402  0.09602 -0.30402\n",
      "2020-01-03  0.19403  0.00000  2.84030\n",
      "2020-01-04  0.00000 -0.50804  0.29204\n",
      "2020-01-05 -5.20050  4.80050  0.00000\n",
      "                  a        b        c\n",
      "2020-01-01  0.00000  0.88010 -1.12010\n",
      "2020-01-02 -0.30402  0.09602 -0.30402\n",
      "2020-01-03  0.19403  0.00000  2.84030\n",
      "2020-01-04  0.00000 -0.50804  0.29204\n",
      "2020-01-05 -5.20050  4.80050  0.00000\n",
      "                  a        b        c\n",
      "2020-01-01  0.00000  0.88010 -1.12010\n",
      "2020-01-02 -0.30402  0.09602 -0.30402\n",
      "2020-01-03  0.19403  0.00000  2.84030\n",
      "2020-01-04  0.00000 -0.50804  0.29204\n",
      "2020-01-05 -5.20050  4.80050  0.00000\n",
      "group         first   second\n",
      "2020-01-01  0.88010 -1.12010\n",
      "2020-01-02 -0.20800 -0.30402\n",
      "2020-01-03  0.19403  2.84030\n",
      "2020-01-04 -0.50804  0.29204\n",
      "2020-01-05 -0.40000  0.00000\n",
      "group         first   second\n",
      "2020-01-01  0.88010 -1.12010\n",
      "2020-01-02 -0.20800 -0.30402\n",
      "2020-01-03  0.19403  2.84030\n",
      "2020-01-04 -0.50804  0.29204\n",
      "2020-01-05 -0.40000  0.00000\n",
      "group         first   second\n",
      "2020-01-01  0.88010 -1.12010\n",
      "2020-01-02 -0.20800 -0.30402\n",
      "2020-01-03  0.19403  2.84030\n",
      "2020-01-04 -0.50804  0.29204\n",
      "2020-01-05 -0.40000  0.00000\n"
     ]
    }
   ],
   "source": [
    "print(portfolio.cash_flow(short_cash=False))\n",
    "print(portfolio.cash_flow())\n",
    "print(portfolio_grouped.cash_flow(group_by=False))\n",
    "print(portfolio_shared.cash_flow(group_by=False))\n",
    "\n",
    "print(portfolio.cash_flow(group_by=group_by))\n",
    "print(portfolio_grouped.cash_flow())\n",
    "print(portfolio_shared.cash_flow())"
   ]
  },
  {
   "cell_type": "code",
   "execution_count": 85,
   "metadata": {},
   "outputs": [
    {
     "name": "stdout",
     "output_type": "stream",
     "text": [
      "12.5 ms ± 502 µs per loop (mean ± std. dev. of 7 runs, 100 loops each)\n",
      "14.6 ms ± 3.25 ms per loop (mean ± std. dev. of 7 runs, 100 loops each)\n",
      "12.3 ms ± 175 µs per loop (mean ± std. dev. of 7 runs, 100 loops each)\n",
      "11.8 ms ± 14.6 µs per loop (mean ± std. dev. of 7 runs, 100 loops each)\n",
      "14.7 ms ± 56.9 µs per loop (mean ± std. dev. of 7 runs, 100 loops each)\n",
      "14 ms ± 51.7 µs per loop (mean ± std. dev. of 7 runs, 100 loops each)\n",
      "14.6 ms ± 41.9 µs per loop (mean ± std. dev. of 7 runs, 100 loops each)\n"
     ]
    }
   ],
   "source": [
    "%timeit big_portfolio.cash_flow()\n",
    "%timeit big_portfolio.cash_flow(short_cash=False)\n",
    "%timeit big_portfolio_grouped.cash_flow(group_by=False)\n",
    "%timeit big_portfolio_shared.cash_flow(group_by=False)\n",
    "\n",
    "%timeit big_portfolio.cash_flow(group_by=big_group_by)\n",
    "%timeit big_portfolio_grouped.cash_flow()\n",
    "%timeit big_portfolio_shared.cash_flow()"
   ]
  },
  {
   "cell_type": "code",
   "execution_count": 86,
   "metadata": {},
   "outputs": [
    {
     "name": "stdout",
     "output_type": "stream",
     "text": [
      "a    100.0\n",
      "b    100.0\n",
      "c    100.0\n",
      "Name: init_cash, dtype: float64\n",
      "a    100.0\n",
      "b    100.0\n",
      "c    100.0\n",
      "Name: init_cash, dtype: float64\n",
      "a    200.0\n",
      "b    200.0\n",
      "c    100.0\n",
      "Name: init_cash, dtype: float64\n",
      "group\n",
      "first     200.0\n",
      "second    100.0\n",
      "Name: init_cash, dtype: float64\n",
      "group\n",
      "first     200.0\n",
      "second    100.0\n",
      "Name: init_cash, dtype: float64\n",
      "group\n",
      "first     200.0\n",
      "second    100.0\n",
      "Name: init_cash, dtype: float64\n"
     ]
    }
   ],
   "source": [
    "print(portfolio.get_init_cash())\n",
    "print(portfolio_grouped.get_init_cash(group_by=False))\n",
    "print(portfolio_shared.get_init_cash(group_by=False))\n",
    "\n",
    "print(portfolio.get_init_cash(group_by=group_by))\n",
    "print(portfolio_grouped.get_init_cash())\n",
    "print(portfolio_shared.get_init_cash())"
   ]
  },
  {
   "cell_type": "code",
   "execution_count": 87,
   "metadata": {},
   "outputs": [
    {
     "name": "stdout",
     "output_type": "stream",
     "text": [
      "43.2 µs ± 125 ns per loop (mean ± std. dev. of 7 runs, 10000 loops each)\n",
      "42.9 µs ± 611 ns per loop (mean ± std. dev. of 7 runs, 10000 loops each)\n",
      "533 µs ± 13.9 µs per loop (mean ± std. dev. of 7 runs, 1000 loops each)\n",
      "737 µs ± 44.3 µs per loop (mean ± std. dev. of 7 runs, 1 loop each)\n",
      "46.6 µs ± 617 ns per loop (mean ± std. dev. of 7 runs, 10000 loops each)\n",
      "850 µs ± 37.8 µs per loop (mean ± std. dev. of 7 runs, 1000 loops each)\n"
     ]
    }
   ],
   "source": [
    "%timeit big_portfolio.get_init_cash()\n",
    "%timeit big_portfolio_grouped.get_init_cash(group_by=False)\n",
    "%timeit big_portfolio_shared.get_init_cash(group_by=False)\n",
    "\n",
    "%timeit big_portfolio.get_init_cash(group_by=big_group_by)\n",
    "%timeit big_portfolio_grouped.get_init_cash()\n",
    "%timeit big_portfolio_shared.get_init_cash()"
   ]
  },
  {
   "cell_type": "code",
   "execution_count": 7,
   "metadata": {},
   "outputs": [
    {
     "name": "stdout",
     "output_type": "stream",
     "text": [
      "a    14000.0\n",
      "b    12000.0\n",
      "c    10000.0\n",
      "Name: init_cash, dtype: float64\n",
      "group\n",
      "first     26000.0\n",
      "second    10000.0\n",
      "Name: init_cash, dtype: float64\n",
      "group\n",
      "first     26000.0\n",
      "second    10000.0\n",
      "Name: init_cash, dtype: float64\n",
      "a    14000.0\n",
      "b    14000.0\n",
      "c    14000.0\n",
      "Name: init_cash, dtype: float64\n",
      "group\n",
      "first     26000.0\n",
      "second    26000.0\n",
      "Name: init_cash, dtype: float64\n",
      "group\n",
      "first     26000.0\n",
      "second    26000.0\n",
      "Name: init_cash, dtype: float64\n"
     ]
    }
   ],
   "source": [
    "print(vbt.Portfolio.from_orders(\n",
    "    price_na, 1000., init_cash=InitCashMode.Auto, group_by=None).init_cash)\n",
    "\n",
    "print(vbt.Portfolio.from_orders(\n",
    "    price_na, 1000., init_cash=InitCashMode.Auto, group_by=group_by).init_cash)\n",
    "\n",
    "print(vbt.Portfolio.from_orders(\n",
    "    price_na, 1000., init_cash=InitCashMode.Auto, group_by=group_by, cash_sharing=True).init_cash)\n",
    "\n",
    "print(vbt.Portfolio.from_orders(\n",
    "    price_na, 1000., init_cash=InitCashMode.AutoAlign, group_by=None).init_cash)\n",
    "\n",
    "print(vbt.Portfolio.from_orders(\n",
    "    price_na, 1000., init_cash=InitCashMode.AutoAlign, group_by=group_by).init_cash)\n",
    "\n",
    "print(vbt.Portfolio.from_orders(\n",
    "    price_na, 1000., init_cash=InitCashMode.AutoAlign, group_by=group_by, cash_sharing=True).init_cash)"
   ]
  },
  {
   "cell_type": "code",
   "execution_count": 8,
   "metadata": {},
   "outputs": [
    {
     "name": "stdout",
     "output_type": "stream",
     "text": [
      "                    a         b          c\n",
      "2020-01-01  100.00000  98.90010   98.87990\n",
      "2020-01-02   99.69598  98.60012   98.57588\n",
      "2020-01-03   99.89001  98.60012  101.41618\n",
      "2020-01-04   99.89001  98.90008  101.70822\n",
      "2020-01-05   94.68951  93.80058  101.70822\n",
      "                    a          b          c\n",
      "2020-01-01  100.00000  100.88010   98.87990\n",
      "2020-01-02   99.69598  100.97612   98.57588\n",
      "2020-01-03   99.89001  100.97612  101.41618\n",
      "2020-01-04   99.89001  100.46808  101.70822\n",
      "2020-01-05   94.68951  105.26858  101.70822\n",
      "                    a          b          c\n",
      "2020-01-01  100.00000  100.88010   98.87990\n",
      "2020-01-02   99.69598  100.97612   98.57588\n",
      "2020-01-03   99.89001  100.97612  101.41618\n",
      "2020-01-04   99.89001  100.46808  101.70822\n",
      "2020-01-05   94.68951  105.26858  101.70822\n",
      "                    a          b          c\n",
      "2020-01-01  200.00000  200.88010   98.87990\n",
      "2020-01-02  199.69598  200.97612   98.57588\n",
      "2020-01-03  199.89001  200.97612  101.41618\n",
      "2020-01-04  199.89001  200.46808  101.70822\n",
      "2020-01-05  194.68951  205.26858  101.70822\n",
      "                    a          b          c\n",
      "2020-01-01  200.88010  200.88010   98.87990\n",
      "2020-01-02  200.67210  200.97612   98.57588\n",
      "2020-01-03  200.86613  200.67210  101.41618\n",
      "2020-01-04  200.35809  200.35809  101.70822\n",
      "2020-01-05  199.95809  205.15859  101.70822\n",
      "group           first     second\n",
      "2020-01-01  200.88010   98.87990\n",
      "2020-01-02  200.67210   98.57588\n",
      "2020-01-03  200.86613  101.41618\n",
      "2020-01-04  200.35809  101.70822\n",
      "2020-01-05  199.95809  101.70822\n",
      "group           first     second\n",
      "2020-01-01  200.88010   98.87990\n",
      "2020-01-02  200.67210   98.57588\n",
      "2020-01-03  200.86613  101.41618\n",
      "2020-01-04  200.35809  101.70822\n",
      "2020-01-05  199.95809  101.70822\n",
      "group           first     second\n",
      "2020-01-01  200.88010   98.87990\n",
      "2020-01-02  200.67210   98.57588\n",
      "2020-01-03  200.86613  101.41618\n",
      "2020-01-04  200.35809  101.70822\n",
      "2020-01-05  199.95809  101.70822\n"
     ]
    }
   ],
   "source": [
    "print(portfolio.cash(short_cash=False))\n",
    "print(portfolio.cash())\n",
    "print(portfolio_grouped.cash(group_by=False))\n",
    "print(portfolio_shared.cash(group_by=False))\n",
    "print(portfolio_shared.cash(group_by=False, in_sim_order=True))\n",
    "\n",
    "print(portfolio.cash(group_by=group_by))\n",
    "print(portfolio_grouped.cash())\n",
    "print(portfolio_shared.cash())"
   ]
  },
  {
   "cell_type": "code",
   "execution_count": 90,
   "metadata": {},
   "outputs": [
    {
     "name": "stdout",
     "output_type": "stream",
     "text": [
      "19.4 ms ± 920 µs per loop (mean ± std. dev. of 7 runs, 10 loops each)\n",
      "18.3 ms ± 470 µs per loop (mean ± std. dev. of 7 runs, 10 loops each)\n",
      "18.4 ms ± 2.12 ms per loop (mean ± std. dev. of 7 runs, 100 loops each)\n",
      "17.6 ms ± 201 µs per loop (mean ± std. dev. of 7 runs, 100 loops each)\n",
      "18.7 ms ± 303 µs per loop (mean ± std. dev. of 7 runs, 1 loop each)\n",
      "18.3 ms ± 292 µs per loop (mean ± std. dev. of 7 runs, 100 loops each)\n",
      "19.6 ms ± 1.75 ms per loop (mean ± std. dev. of 7 runs, 100 loops each)\n",
      "21.7 ms ± 1.76 ms per loop (mean ± std. dev. of 7 runs, 1 loop each)\n"
     ]
    }
   ],
   "source": [
    "%timeit big_portfolio.cash()\n",
    "%timeit big_portfolio.cash(short_cash=False)\n",
    "%timeit big_portfolio_grouped.cash(group_by=False)\n",
    "%timeit big_portfolio_shared.cash(group_by=False)\n",
    "%timeit big_portfolio_shared.cash(group_by=False, in_sim_order=True)\n",
    "\n",
    "%timeit big_portfolio.cash(group_by=big_group_by)\n",
    "%timeit big_portfolio_grouped.cash()\n",
    "%timeit big_portfolio_shared.cash()"
   ]
  },
  {
   "cell_type": "code",
   "execution_count": 91,
   "metadata": {},
   "outputs": [
    {
     "name": "stdout",
     "output_type": "stream",
     "text": [
      "              a    b    c\n",
      "2020-01-01  0.0  0.0  1.0\n",
      "2020-01-02  0.2  0.0  2.2\n",
      "2020-01-03  0.0  0.0  0.3\n",
      "2020-01-04  0.0  0.0  0.0\n",
      "2020-01-05  5.0  0.0  0.0\n",
      "              a     b    c\n",
      "2020-01-01  0.0   1.0  0.0\n",
      "2020-01-02  0.0   2.2  0.0\n",
      "2020-01-03  0.0   NaN  0.0\n",
      "2020-01-04  0.0   4.0  0.0\n",
      "2020-01-05  0.0  10.0  0.0\n",
      "              a     b    c\n",
      "2020-01-01  0.0  -1.0  1.0\n",
      "2020-01-02  0.2  -2.2  2.2\n",
      "2020-01-03  0.0   NaN  0.3\n",
      "2020-01-04  0.0  -4.0  0.0\n",
      "2020-01-05  5.0 -10.0  0.0\n",
      "              a     b    c\n",
      "2020-01-01  0.0  -1.0  1.0\n",
      "2020-01-02  0.2  -2.2  2.2\n",
      "2020-01-03  0.0   NaN  0.3\n",
      "2020-01-04  0.0  -4.0  0.0\n",
      "2020-01-05  5.0 -10.0  0.0\n",
      "              a     b    c\n",
      "2020-01-01  0.0  -1.0  1.0\n",
      "2020-01-02  0.2  -2.2  2.2\n",
      "2020-01-03  0.0   NaN  0.3\n",
      "2020-01-04  0.0  -4.0  0.0\n",
      "2020-01-05  5.0 -10.0  0.0\n",
      "group       first  second\n",
      "2020-01-01   -1.0     1.0\n",
      "2020-01-02   -2.0     2.2\n",
      "2020-01-03    NaN     0.3\n",
      "2020-01-04   -4.0     0.0\n",
      "2020-01-05   -5.0     0.0\n",
      "group       first  second\n",
      "2020-01-01   -1.0     1.0\n",
      "2020-01-02   -2.0     2.2\n",
      "2020-01-03    NaN     0.3\n",
      "2020-01-04   -4.0     0.0\n",
      "2020-01-05   -5.0     0.0\n",
      "group       first  second\n",
      "2020-01-01   -1.0     1.0\n",
      "2020-01-02   -2.0     2.2\n",
      "2020-01-03    NaN     0.3\n",
      "2020-01-04   -4.0     0.0\n",
      "2020-01-05   -5.0     0.0\n"
     ]
    }
   ],
   "source": [
    "print(portfolio.holding_value(direction='longonly'))\n",
    "print(portfolio.holding_value(direction='shortonly'))\n",
    "\n",
    "print(portfolio.holding_value())\n",
    "print(portfolio_grouped.holding_value(group_by=False))\n",
    "print(portfolio_shared.holding_value(group_by=False))\n",
    "\n",
    "print(portfolio.holding_value(group_by=group_by))\n",
    "print(portfolio_grouped.holding_value())\n",
    "print(portfolio_shared.holding_value())"
   ]
  },
  {
   "cell_type": "code",
   "execution_count": 92,
   "metadata": {},
   "outputs": [
    {
     "name": "stdout",
     "output_type": "stream",
     "text": [
      "16.7 ms ± 331 µs per loop (mean ± std. dev. of 7 runs, 10 loops each)\n",
      "19.4 ms ± 2.51 ms per loop (mean ± std. dev. of 7 runs, 100 loops each)\n",
      "18.4 ms ± 1.48 ms per loop (mean ± std. dev. of 7 runs, 100 loops each)\n",
      "34.4 ms ± 308 µs per loop (mean ± std. dev. of 7 runs, 10 loops each)\n",
      "33.6 ms ± 428 µs per loop (mean ± std. dev. of 7 runs, 10 loops each)\n",
      "34.7 ms ± 213 µs per loop (mean ± std. dev. of 7 runs, 10 loops each)\n"
     ]
    }
   ],
   "source": [
    "%timeit big_portfolio.holding_value()\n",
    "%timeit big_portfolio_grouped.holding_value(group_by=False)\n",
    "%timeit big_portfolio_shared.holding_value(group_by=False)\n",
    "\n",
    "%timeit big_portfolio.holding_value(group_by=big_group_by)\n",
    "%timeit big_portfolio_grouped.holding_value()\n",
    "%timeit big_portfolio_shared.holding_value()"
   ]
  },
  {
   "cell_type": "code",
   "execution_count": 9,
   "metadata": {},
   "outputs": [
    {
     "name": "stdout",
     "output_type": "stream",
     "text": [
      "                   a    b         c\n",
      "2020-01-01  0.000000  0.0  0.010012\n",
      "2020-01-02  0.002002  0.0  0.021831\n",
      "2020-01-03  0.000000  0.0  0.002949\n",
      "2020-01-04  0.000000  0.0  0.000000\n",
      "2020-01-05  0.050156  0.0  0.000000\n",
      "              a         b    c\n",
      "2020-01-01  0.0  0.010010  0.0\n",
      "2020-01-02  0.0  0.021825  0.0\n",
      "2020-01-03  0.0       NaN  0.0\n",
      "2020-01-04  0.0  0.038873  0.0\n",
      "2020-01-05  0.0  0.096339  0.0\n",
      "                   a         b         c\n",
      "2020-01-01  0.000000 -0.010214  0.010012\n",
      "2020-01-02  0.002002 -0.022822  0.021831\n",
      "2020-01-03  0.000000       NaN  0.002949\n",
      "2020-01-04  0.000000 -0.042150  0.000000\n",
      "2020-01-05  0.050156 -0.119331  0.000000\n",
      "                   a         b         c\n",
      "2020-01-01  0.000000 -0.010214  0.010012\n",
      "2020-01-02  0.002002 -0.022822  0.021831\n",
      "2020-01-03  0.000000       NaN  0.002949\n",
      "2020-01-04  0.000000 -0.042150  0.000000\n",
      "2020-01-05  0.050156 -0.119331  0.000000\n",
      "                   a         b         c\n",
      "2020-01-01  0.000000 -0.005053  0.010012\n",
      "2020-01-02  0.001001 -0.011202  0.021831\n",
      "2020-01-03  0.000000       NaN  0.002949\n",
      "2020-01-04  0.000000 -0.020523  0.000000\n",
      "2020-01-05  0.025039 -0.054407  0.000000\n",
      "group          first    second\n",
      "2020-01-01 -0.005003  0.010012\n",
      "2020-01-02 -0.010067  0.021831\n",
      "2020-01-03       NaN  0.002949\n",
      "2020-01-04 -0.020371  0.000000\n",
      "2020-01-05 -0.025647  0.000000\n",
      "group          first    second\n",
      "2020-01-01 -0.005003  0.010012\n",
      "2020-01-02 -0.010067  0.021831\n",
      "2020-01-03       NaN  0.002949\n",
      "2020-01-04 -0.020371  0.000000\n",
      "2020-01-05 -0.025647  0.000000\n",
      "group          first    second\n",
      "2020-01-01 -0.005003  0.010012\n",
      "2020-01-02 -0.010067  0.021831\n",
      "2020-01-03       NaN  0.002949\n",
      "2020-01-04 -0.020371  0.000000\n",
      "2020-01-05 -0.025647  0.000000\n"
     ]
    }
   ],
   "source": [
    "print(portfolio.gross_exposure(direction='longonly'))\n",
    "print(portfolio.gross_exposure(direction='shortonly'))\n",
    "\n",
    "print(portfolio.gross_exposure())\n",
    "print(portfolio_grouped.gross_exposure(group_by=False))\n",
    "print(portfolio_shared.gross_exposure(group_by=False))\n",
    "\n",
    "print(portfolio.gross_exposure(group_by=group_by))\n",
    "print(portfolio_grouped.gross_exposure())\n",
    "print(portfolio_shared.gross_exposure())"
   ]
  },
  {
   "cell_type": "code",
   "execution_count": 10,
   "metadata": {},
   "outputs": [
    {
     "name": "stdout",
     "output_type": "stream",
     "text": [
      "54.6 ms ± 5.8 ms per loop (mean ± std. dev. of 7 runs, 1 loop each)\n",
      "44.3 ms ± 1.64 ms per loop (mean ± std. dev. of 7 runs, 10 loops each)\n",
      "44.2 ms ± 1.07 ms per loop (mean ± std. dev. of 7 runs, 10 loops each)\n",
      "58.8 ms ± 2.64 ms per loop (mean ± std. dev. of 7 runs, 10 loops each)\n",
      "55 ms ± 1.09 ms per loop (mean ± std. dev. of 7 runs, 10 loops each)\n",
      "60.9 ms ± 1.87 ms per loop (mean ± std. dev. of 7 runs, 10 loops each)\n"
     ]
    }
   ],
   "source": [
    "%timeit big_portfolio.gross_exposure()\n",
    "%timeit big_portfolio_grouped.gross_exposure(group_by=False)\n",
    "%timeit big_portfolio_shared.gross_exposure(group_by=False)\n",
    "\n",
    "%timeit big_portfolio.gross_exposure(group_by=big_group_by)\n",
    "%timeit big_portfolio_grouped.gross_exposure()\n",
    "%timeit big_portfolio_shared.gross_exposure()"
   ]
  },
  {
   "cell_type": "code",
   "execution_count": 11,
   "metadata": {},
   "outputs": [
    {
     "name": "stdout",
     "output_type": "stream",
     "text": [
      "                   a         b         c\n",
      "2020-01-01  0.000000 -0.010010  0.010012\n",
      "2020-01-02  0.002002 -0.021825  0.021831\n",
      "2020-01-03  0.000000       NaN  0.002949\n",
      "2020-01-04  0.000000 -0.038873  0.000000\n",
      "2020-01-05  0.050156 -0.096339  0.000000\n",
      "                   a         b         c\n",
      "2020-01-01  0.000000 -0.010010  0.010012\n",
      "2020-01-02  0.002002 -0.021825  0.021831\n",
      "2020-01-03  0.000000       NaN  0.002949\n",
      "2020-01-04  0.000000 -0.038873  0.000000\n",
      "2020-01-05  0.050156 -0.096339  0.000000\n",
      "                   a         b         c\n",
      "2020-01-01  0.000000 -0.005002  0.010012\n",
      "2020-01-02  0.001001 -0.010956  0.021831\n",
      "2020-01-03  0.000000       NaN  0.002949\n",
      "2020-01-04  0.000000 -0.019714  0.000000\n",
      "2020-01-05  0.025039 -0.049068  0.000000\n",
      "group          first    second\n",
      "2020-01-01 -0.004953  0.010012\n",
      "2020-01-02 -0.009849  0.021831\n",
      "2020-01-03       NaN  0.002949\n",
      "2020-01-04 -0.019573  0.000000\n",
      "2020-01-05 -0.023233  0.000000\n",
      "group          first    second\n",
      "2020-01-01 -0.004953  0.010012\n",
      "2020-01-02 -0.009849  0.021831\n",
      "2020-01-03       NaN  0.002949\n",
      "2020-01-04 -0.019573  0.000000\n",
      "2020-01-05 -0.023233  0.000000\n",
      "group          first    second\n",
      "2020-01-01 -0.004953  0.010012\n",
      "2020-01-02 -0.009849  0.021831\n",
      "2020-01-03       NaN  0.002949\n",
      "2020-01-04 -0.019573  0.000000\n",
      "2020-01-05 -0.023233  0.000000\n"
     ]
    }
   ],
   "source": [
    "print(portfolio.net_exposure())\n",
    "print(portfolio_grouped.net_exposure(group_by=False))\n",
    "print(portfolio_shared.net_exposure(group_by=False))\n",
    "\n",
    "print(portfolio.net_exposure(group_by=group_by))\n",
    "print(portfolio_grouped.net_exposure())\n",
    "print(portfolio_shared.net_exposure())"
   ]
  },
  {
   "cell_type": "code",
   "execution_count": 12,
   "metadata": {},
   "outputs": [
    {
     "name": "stdout",
     "output_type": "stream",
     "text": [
      "91.5 ms ± 1.76 ms per loop (mean ± std. dev. of 7 runs, 10 loops each)\n",
      "90.4 ms ± 1.52 ms per loop (mean ± std. dev. of 7 runs, 10 loops each)\n",
      "95.4 ms ± 4.26 ms per loop (mean ± std. dev. of 7 runs, 10 loops each)\n",
      "129 ms ± 3.21 ms per loop (mean ± std. dev. of 7 runs, 10 loops each)\n",
      "119 ms ± 1.51 ms per loop (mean ± std. dev. of 7 runs, 10 loops each)\n",
      "127 ms ± 1.85 ms per loop (mean ± std. dev. of 7 runs, 10 loops each)\n"
     ]
    }
   ],
   "source": [
    "%timeit big_portfolio.net_exposure()\n",
    "%timeit big_portfolio_grouped.net_exposure(group_by=False)\n",
    "%timeit big_portfolio_shared.net_exposure(group_by=False)\n",
    "\n",
    "%timeit big_portfolio.net_exposure(group_by=big_group_by)\n",
    "%timeit big_portfolio_grouped.net_exposure()\n",
    "%timeit big_portfolio_shared.net_exposure()"
   ]
  },
  {
   "cell_type": "code",
   "execution_count": 13,
   "metadata": {},
   "outputs": [
    {
     "name": "stdout",
     "output_type": "stream",
     "text": [
      "                    a         b          c\n",
      "2020-01-01  100.00000  99.88010   99.87990\n",
      "2020-01-02   99.89598  98.77612  100.77588\n",
      "2020-01-03   99.89001       NaN  101.71618\n",
      "2020-01-04   99.89001  96.46808  101.70822\n",
      "2020-01-05   99.68951  95.26858  101.70822\n",
      "                    a         b          c\n",
      "2020-01-01  100.00000  99.88010   99.87990\n",
      "2020-01-02   99.89598  98.77612  100.77588\n",
      "2020-01-03   99.89001       NaN  101.71618\n",
      "2020-01-04   99.89001  96.46808  101.70822\n",
      "2020-01-05   99.68951  95.26858  101.70822\n",
      "                    a          b          c\n",
      "2020-01-01  200.00000  199.88010   99.87990\n",
      "2020-01-02  199.89598  198.77612  100.77588\n",
      "2020-01-03  199.89001        NaN  101.71618\n",
      "2020-01-04  199.89001  196.46808  101.70822\n",
      "2020-01-05  199.68951  195.26858  101.70822\n",
      "                    a          b          c\n",
      "2020-01-01  199.88010  199.88010   99.87990\n",
      "2020-01-02  198.67210  198.77612  100.77588\n",
      "2020-01-03        NaN        NaN  101.71618\n",
      "2020-01-04  196.35809  196.35809  101.70822\n",
      "2020-01-05  194.95809  195.15859  101.70822\n",
      "group           first     second\n",
      "2020-01-01  199.88010   99.87990\n",
      "2020-01-02  198.67210  100.77588\n",
      "2020-01-03        NaN  101.71618\n",
      "2020-01-04  196.35809  101.70822\n",
      "2020-01-05  194.95809  101.70822\n",
      "group           first     second\n",
      "2020-01-01  199.88010   99.87990\n",
      "2020-01-02  198.67210  100.77588\n",
      "2020-01-03        NaN  101.71618\n",
      "2020-01-04  196.35809  101.70822\n",
      "2020-01-05  194.95809  101.70822\n",
      "group           first     second\n",
      "2020-01-01  199.88010   99.87990\n",
      "2020-01-02  198.67210  100.77588\n",
      "2020-01-03        NaN  101.71618\n",
      "2020-01-04  196.35809  101.70822\n",
      "2020-01-05  194.95809  101.70822\n"
     ]
    }
   ],
   "source": [
    "print(portfolio.value())\n",
    "print(portfolio_grouped.value(group_by=False))\n",
    "print(portfolio_shared.value(group_by=False))\n",
    "print(portfolio_shared.value(group_by=False, in_sim_order=True))\n",
    "\n",
    "print(portfolio.value(group_by=group_by))\n",
    "print(portfolio_grouped.value())\n",
    "print(portfolio_shared.value())"
   ]
  },
  {
   "cell_type": "code",
   "execution_count": 14,
   "metadata": {},
   "outputs": [
    {
     "name": "stdout",
     "output_type": "stream",
     "text": [
      "36.9 ms ± 1.21 ms per loop (mean ± std. dev. of 7 runs, 10 loops each)\n",
      "35 ms ± 210 µs per loop (mean ± std. dev. of 7 runs, 10 loops each)\n",
      "35.8 ms ± 81.1 µs per loop (mean ± std. dev. of 7 runs, 10 loops each)\n",
      "46 ms ± 152 µs per loop (mean ± std. dev. of 7 runs, 10 loops each)\n",
      "53.9 ms ± 626 µs per loop (mean ± std. dev. of 7 runs, 10 loops each)\n",
      "50.4 ms ± 722 µs per loop (mean ± std. dev. of 7 runs, 10 loops each)\n",
      "55.3 ms ± 941 µs per loop (mean ± std. dev. of 7 runs, 10 loops each)\n"
     ]
    }
   ],
   "source": [
    "%timeit big_portfolio.value()\n",
    "%timeit big_portfolio_grouped.value(group_by=False)\n",
    "%timeit big_portfolio_shared.value(group_by=False)\n",
    "%timeit big_portfolio_shared.value(group_by=False, in_sim_order=True)\n",
    "\n",
    "%timeit big_portfolio.value(group_by=big_group_by)\n",
    "%timeit big_portfolio_grouped.value()\n",
    "%timeit big_portfolio_shared.value()"
   ]
  },
  {
   "cell_type": "code",
   "execution_count": 15,
   "metadata": {},
   "outputs": [
    {
     "name": "stdout",
     "output_type": "stream",
     "text": [
      "a   -0.31049\n",
      "b   -4.73142\n",
      "c    1.70822\n",
      "Name: total_profit, dtype: float64\n",
      "a   -0.31049\n",
      "b   -4.73142\n",
      "c    1.70822\n",
      "Name: total_profit, dtype: float64\n",
      "a   -0.31049\n",
      "b   -4.73142\n",
      "c    1.70822\n",
      "Name: total_profit, dtype: float64\n",
      "group\n",
      "first    -5.04191\n",
      "second    1.70822\n",
      "Name: total_profit, dtype: float64\n",
      "group\n",
      "first    -5.04191\n",
      "second    1.70822\n",
      "Name: total_profit, dtype: float64\n",
      "group\n",
      "first    -5.04191\n",
      "second    1.70822\n",
      "Name: total_profit, dtype: float64\n"
     ]
    }
   ],
   "source": [
    "print(portfolio.total_profit())\n",
    "print(portfolio_grouped.total_profit(group_by=False))\n",
    "print(portfolio_shared.total_profit(group_by=False))\n",
    "\n",
    "print(portfolio.total_profit(group_by=group_by))\n",
    "print(portfolio_grouped.total_profit())\n",
    "print(portfolio_shared.total_profit())"
   ]
  },
  {
   "cell_type": "code",
   "execution_count": 16,
   "metadata": {},
   "outputs": [
    {
     "name": "stdout",
     "output_type": "stream",
     "text": [
      "12.3 ms ± 79.7 µs per loop (mean ± std. dev. of 7 runs, 1 loop each)\n",
      "12.5 ms ± 190 µs per loop (mean ± std. dev. of 7 runs, 100 loops each)\n",
      "12.5 ms ± 225 µs per loop (mean ± std. dev. of 7 runs, 100 loops each)\n",
      "13.2 ms ± 224 µs per loop (mean ± std. dev. of 7 runs, 100 loops each)\n",
      "12.6 ms ± 176 µs per loop (mean ± std. dev. of 7 runs, 100 loops each)\n",
      "13.4 ms ± 217 µs per loop (mean ± std. dev. of 7 runs, 100 loops each)\n"
     ]
    }
   ],
   "source": [
    "%timeit big_portfolio.total_profit()\n",
    "%timeit big_portfolio_grouped.total_profit(group_by=False)\n",
    "%timeit big_portfolio_shared.total_profit(group_by=False)\n",
    "\n",
    "%timeit big_portfolio.total_profit(group_by=big_group_by)\n",
    "%timeit big_portfolio_grouped.total_profit()\n",
    "%timeit big_portfolio_shared.total_profit()"
   ]
  },
  {
   "cell_type": "code",
   "execution_count": 17,
   "metadata": {},
   "outputs": [
    {
     "name": "stdout",
     "output_type": "stream",
     "text": [
      "a     99.68951\n",
      "b     95.26858\n",
      "c    101.70822\n",
      "Name: final_value, dtype: float64\n",
      "a     99.68951\n",
      "b     95.26858\n",
      "c    101.70822\n",
      "Name: final_value, dtype: float64\n",
      "a    199.68951\n",
      "b    195.26858\n",
      "c    101.70822\n",
      "Name: final_value, dtype: float64\n",
      "group\n",
      "first     194.95809\n",
      "second    101.70822\n",
      "Name: final_value, dtype: float64\n",
      "group\n",
      "first     194.95809\n",
      "second    101.70822\n",
      "Name: final_value, dtype: float64\n",
      "group\n",
      "first     194.95809\n",
      "second    101.70822\n",
      "Name: final_value, dtype: float64\n"
     ]
    }
   ],
   "source": [
    "print(portfolio.final_value())\n",
    "print(portfolio_grouped.final_value(group_by=False))\n",
    "print(portfolio_shared.final_value(group_by=False))\n",
    "\n",
    "print(portfolio.final_value(group_by=group_by))\n",
    "print(portfolio_grouped.final_value())\n",
    "print(portfolio_shared.final_value())"
   ]
  },
  {
   "cell_type": "code",
   "execution_count": 18,
   "metadata": {},
   "outputs": [
    {
     "name": "stdout",
     "output_type": "stream",
     "text": [
      "12.3 ms ± 159 µs per loop (mean ± std. dev. of 7 runs, 100 loops each)\n",
      "12.2 ms ± 122 µs per loop (mean ± std. dev. of 7 runs, 100 loops each)\n",
      "12.9 ms ± 128 µs per loop (mean ± std. dev. of 7 runs, 100 loops each)\n",
      "14.1 ms ± 280 µs per loop (mean ± std. dev. of 7 runs, 100 loops each)\n",
      "12 ms ± 145 µs per loop (mean ± std. dev. of 7 runs, 100 loops each)\n",
      "14.1 ms ± 231 µs per loop (mean ± std. dev. of 7 runs, 100 loops each)\n"
     ]
    }
   ],
   "source": [
    "%timeit big_portfolio.final_value()\n",
    "%timeit big_portfolio_grouped.final_value(group_by=False)\n",
    "%timeit big_portfolio_shared.final_value(group_by=False)\n",
    "\n",
    "%timeit big_portfolio.final_value(group_by=big_group_by)\n",
    "%timeit big_portfolio_grouped.final_value()\n",
    "%timeit big_portfolio_shared.final_value()"
   ]
  },
  {
   "cell_type": "code",
   "execution_count": 19,
   "metadata": {},
   "outputs": [
    {
     "name": "stdout",
     "output_type": "stream",
     "text": [
      "a   -0.003105\n",
      "b   -0.047314\n",
      "c    0.017082\n",
      "Name: total_return, dtype: float64\n",
      "a   -0.003105\n",
      "b   -0.047314\n",
      "c    0.017082\n",
      "Name: total_return, dtype: float64\n",
      "a   -0.001552\n",
      "b   -0.023657\n",
      "c    0.017082\n",
      "Name: total_return, dtype: float64\n",
      "group\n",
      "first    -0.025210\n",
      "second    0.017082\n",
      "Name: total_return, dtype: float64\n",
      "group\n",
      "first    -0.025210\n",
      "second    0.017082\n",
      "Name: total_return, dtype: float64\n",
      "group\n",
      "first    -0.025210\n",
      "second    0.017082\n",
      "Name: total_return, dtype: float64\n"
     ]
    }
   ],
   "source": [
    "print(portfolio.total_return())\n",
    "print(portfolio_grouped.total_return(group_by=False))\n",
    "print(portfolio_shared.total_return(group_by=False))\n",
    "\n",
    "print(portfolio.total_return(group_by=group_by))\n",
    "print(portfolio_grouped.total_return())\n",
    "print(portfolio_shared.total_return())"
   ]
  },
  {
   "cell_type": "code",
   "execution_count": 20,
   "metadata": {},
   "outputs": [
    {
     "name": "stdout",
     "output_type": "stream",
     "text": [
      "12.5 ms ± 200 µs per loop (mean ± std. dev. of 7 runs, 100 loops each)\n",
      "12.4 ms ± 207 µs per loop (mean ± std. dev. of 7 runs, 100 loops each)\n",
      "12.8 ms ± 151 µs per loop (mean ± std. dev. of 7 runs, 100 loops each)\n",
      "14 ms ± 178 µs per loop (mean ± std. dev. of 7 runs, 100 loops each)\n",
      "12.6 ms ± 199 µs per loop (mean ± std. dev. of 7 runs, 100 loops each)\n",
      "14.2 ms ± 122 µs per loop (mean ± std. dev. of 7 runs, 100 loops each)\n"
     ]
    }
   ],
   "source": [
    "%timeit big_portfolio.total_return()\n",
    "%timeit big_portfolio_grouped.total_return(group_by=False)\n",
    "%timeit big_portfolio_shared.total_return(group_by=False)\n",
    "\n",
    "%timeit big_portfolio.total_return(group_by=big_group_by)\n",
    "%timeit big_portfolio_grouped.total_return()\n",
    "%timeit big_portfolio_shared.total_return()"
   ]
  },
  {
   "cell_type": "code",
   "execution_count": 21,
   "metadata": {},
   "outputs": [
    {
     "name": "stdout",
     "output_type": "stream",
     "text": [
      "                   a         b         c\n",
      "2020-01-01  0.000000 -0.001199 -0.001201\n",
      "2020-01-02 -0.001040 -0.011053  0.008971\n",
      "2020-01-03 -0.000060       NaN  0.009331\n",
      "2020-01-04  0.000000       NaN -0.000078\n",
      "2020-01-05 -0.002007 -0.012434  0.000000\n",
      "                   a         b         c\n",
      "2020-01-01  0.000000 -0.001199 -0.001201\n",
      "2020-01-02 -0.001040 -0.011053  0.008971\n",
      "2020-01-03 -0.000060       NaN  0.009331\n",
      "2020-01-04  0.000000       NaN -0.000078\n",
      "2020-01-05 -0.002007 -0.012434  0.000000\n",
      "                   a         b         c\n",
      "2020-01-01  0.000000 -0.000600 -0.001201\n",
      "2020-01-02 -0.000520 -0.005523  0.008971\n",
      "2020-01-03 -0.000030       NaN  0.009331\n",
      "2020-01-04  0.000000       NaN -0.000078\n",
      "2020-01-05 -0.001003 -0.006105  0.000000\n",
      "                   a         b         c\n",
      "2020-01-01  0.000000 -0.000600 -0.001201\n",
      "2020-01-02 -0.000523 -0.005523  0.008971\n",
      "2020-01-03       NaN       NaN  0.009331\n",
      "2020-01-04  0.000000       NaN -0.000078\n",
      "2020-01-05 -0.001027 -0.006109  0.000000\n",
      "group          first    second\n",
      "2020-01-01 -0.000600 -0.001201\n",
      "2020-01-02 -0.006044  0.008971\n",
      "2020-01-03       NaN  0.009331\n",
      "2020-01-04       NaN -0.000078\n",
      "2020-01-05 -0.007130  0.000000\n",
      "group          first    second\n",
      "2020-01-01 -0.000600 -0.001201\n",
      "2020-01-02 -0.006044  0.008971\n",
      "2020-01-03       NaN  0.009331\n",
      "2020-01-04       NaN -0.000078\n",
      "2020-01-05 -0.007130  0.000000\n",
      "group          first    second\n",
      "2020-01-01 -0.000600 -0.001201\n",
      "2020-01-02 -0.006044  0.008971\n",
      "2020-01-03       NaN  0.009331\n",
      "2020-01-04       NaN -0.000078\n",
      "2020-01-05 -0.007130  0.000000\n"
     ]
    }
   ],
   "source": [
    "print(portfolio.returns())\n",
    "print(portfolio_grouped.returns(group_by=False))\n",
    "print(portfolio_shared.returns(group_by=False))\n",
    "print(portfolio_shared.returns(group_by=False, in_sim_order=True))\n",
    "\n",
    "print(portfolio.returns(group_by=group_by))\n",
    "print(portfolio_grouped.returns())\n",
    "print(portfolio_shared.returns())"
   ]
  },
  {
   "cell_type": "code",
   "execution_count": 22,
   "metadata": {},
   "outputs": [
    {
     "name": "stdout",
     "output_type": "stream",
     "text": [
      "39.5 ms ± 2.59 ms per loop (mean ± std. dev. of 7 runs, 10 loops each)\n",
      "37.4 ms ± 313 µs per loop (mean ± std. dev. of 7 runs, 10 loops each)\n",
      "39.4 ms ± 226 µs per loop (mean ± std. dev. of 7 runs, 10 loops each)\n",
      "52.3 ms ± 149 µs per loop (mean ± std. dev. of 7 runs, 10 loops each)\n",
      "55.6 ms ± 310 µs per loop (mean ± std. dev. of 7 runs, 10 loops each)\n",
      "50.9 ms ± 276 µs per loop (mean ± std. dev. of 7 runs, 10 loops each)\n",
      "63.5 ms ± 4.23 ms per loop (mean ± std. dev. of 7 runs, 10 loops each)\n"
     ]
    }
   ],
   "source": [
    "%timeit big_portfolio.returns()\n",
    "%timeit big_portfolio_grouped.returns(group_by=False)\n",
    "%timeit big_portfolio_shared.returns(group_by=False)\n",
    "%timeit big_portfolio_shared.returns(group_by=False, in_sim_order=True)\n",
    "\n",
    "%timeit big_portfolio.returns(group_by=big_group_by)\n",
    "%timeit big_portfolio_grouped.returns()\n",
    "%timeit big_portfolio_shared.returns()"
   ]
  },
  {
   "cell_type": "code",
   "execution_count": 23,
   "metadata": {},
   "outputs": [
    {
     "name": "stdout",
     "output_type": "stream",
     "text": [
      "                  a         b         c\n",
      "2020-01-01  0.00000      -inf      -inf\n",
      "2020-01-02     -inf -1.103980  0.895980\n",
      "2020-01-03 -0.02985       NaN  0.427409\n",
      "2020-01-04  0.00000       NaN -0.026533\n",
      "2020-01-05     -inf -0.299875  0.000000\n",
      "                  a         b         c\n",
      "2020-01-01  0.00000      -inf      -inf\n",
      "2020-01-02     -inf -1.103980  0.895980\n",
      "2020-01-03 -0.02985       NaN  0.427409\n",
      "2020-01-04  0.00000       NaN -0.026533\n",
      "2020-01-05     -inf -0.299875  0.000000\n",
      "                  a         b         c\n",
      "2020-01-01  0.00000      -inf      -inf\n",
      "2020-01-02     -inf -1.103980  0.895980\n",
      "2020-01-03 -0.02985       NaN  0.427409\n",
      "2020-01-04  0.00000       NaN -0.026533\n",
      "2020-01-05     -inf -0.299875  0.000000\n",
      "group       first    second\n",
      "2020-01-01   -inf      -inf\n",
      "2020-01-02 -1.208  0.895980\n",
      "2020-01-03    NaN  0.427409\n",
      "2020-01-04    NaN -0.026533\n",
      "2020-01-05 -0.350  0.000000\n",
      "group       first    second\n",
      "2020-01-01   -inf      -inf\n",
      "2020-01-02 -1.208  0.895980\n",
      "2020-01-03    NaN  0.427409\n",
      "2020-01-04    NaN -0.026533\n",
      "2020-01-05 -0.350  0.000000\n",
      "group       first    second\n",
      "2020-01-01   -inf      -inf\n",
      "2020-01-02 -1.208  0.895980\n",
      "2020-01-03    NaN  0.427409\n",
      "2020-01-04    NaN -0.026533\n",
      "2020-01-05 -0.350  0.000000\n"
     ]
    }
   ],
   "source": [
    "print(portfolio.active_returns())\n",
    "print(portfolio_grouped.active_returns(group_by=False))\n",
    "print(portfolio_shared.active_returns(group_by=False))\n",
    "\n",
    "print(portfolio.active_returns(group_by=group_by))\n",
    "print(portfolio_grouped.active_returns())\n",
    "print(portfolio_shared.active_returns())"
   ]
  },
  {
   "cell_type": "code",
   "execution_count": 24,
   "metadata": {},
   "outputs": [
    {
     "name": "stdout",
     "output_type": "stream",
     "text": [
      "40.2 ms ± 5.18 ms per loop (mean ± std. dev. of 7 runs, 10 loops each)\n",
      "36.9 ms ± 235 µs per loop (mean ± std. dev. of 7 runs, 10 loops each)\n",
      "37.4 ms ± 193 µs per loop (mean ± std. dev. of 7 runs, 10 loops each)\n",
      "51.7 ms ± 195 µs per loop (mean ± std. dev. of 7 runs, 10 loops each)\n",
      "49.8 ms ± 220 µs per loop (mean ± std. dev. of 7 runs, 10 loops each)\n",
      "52.4 ms ± 264 µs per loop (mean ± std. dev. of 7 runs, 10 loops each)\n"
     ]
    }
   ],
   "source": [
    "%timeit big_portfolio.active_returns()\n",
    "%timeit big_portfolio_grouped.active_returns(group_by=False)\n",
    "%timeit big_portfolio_shared.active_returns(group_by=False)\n",
    "\n",
    "%timeit big_portfolio.active_returns(group_by=big_group_by)\n",
    "%timeit big_portfolio_grouped.active_returns()\n",
    "%timeit big_portfolio_shared.active_returns()"
   ]
  },
  {
   "cell_type": "code",
   "execution_count": 25,
   "metadata": {},
   "outputs": [
    {
     "name": "stdout",
     "output_type": "stream",
     "text": [
      "                a      b      c\n",
      "2020-01-01  100.0  100.0  100.0\n",
      "2020-01-02  100.0  200.0  200.0\n",
      "2020-01-03  150.0  200.0  300.0\n",
      "2020-01-04  200.0  400.0  400.0\n",
      "2020-01-05  250.0  500.0  400.0\n",
      "                a      b      c\n",
      "2020-01-01  100.0  100.0  100.0\n",
      "2020-01-02  100.0  200.0  200.0\n",
      "2020-01-03  150.0  200.0  300.0\n",
      "2020-01-04  200.0  400.0  400.0\n",
      "2020-01-05  250.0  500.0  400.0\n",
      "                a       b      c\n",
      "2020-01-01  200.0   200.0  100.0\n",
      "2020-01-02  200.0   400.0  200.0\n",
      "2020-01-03  300.0   400.0  300.0\n",
      "2020-01-04  400.0   800.0  400.0\n",
      "2020-01-05  500.0  1000.0  400.0\n",
      "group       first  second\n",
      "2020-01-01  200.0   100.0\n",
      "2020-01-02  300.0   200.0\n",
      "2020-01-03  350.0   300.0\n",
      "2020-01-04  600.0   400.0\n",
      "2020-01-05  750.0   400.0\n",
      "group       first  second\n",
      "2020-01-01  200.0   100.0\n",
      "2020-01-02  300.0   200.0\n",
      "2020-01-03  350.0   300.0\n",
      "2020-01-04  600.0   400.0\n",
      "2020-01-05  750.0   400.0\n",
      "group       first  second\n",
      "2020-01-01  200.0   100.0\n",
      "2020-01-02  300.0   200.0\n",
      "2020-01-03  350.0   300.0\n",
      "2020-01-04  600.0   400.0\n",
      "2020-01-05  750.0   400.0\n"
     ]
    }
   ],
   "source": [
    "print(portfolio.market_value())\n",
    "print(portfolio_grouped.market_value(group_by=False))\n",
    "print(portfolio_shared.market_value(group_by=False))\n",
    "\n",
    "print(portfolio.market_value(group_by=group_by))\n",
    "print(portfolio_grouped.market_value())\n",
    "print(portfolio_shared.market_value())"
   ]
  },
  {
   "cell_type": "code",
   "execution_count": 26,
   "metadata": {},
   "outputs": [
    {
     "name": "stdout",
     "output_type": "stream",
     "text": [
      "909 µs ± 51.7 µs per loop (mean ± std. dev. of 7 runs, 1000 loops each)\n",
      "967 µs ± 34.4 µs per loop (mean ± std. dev. of 7 runs, 1000 loops each)\n",
      "1.81 ms ± 111 µs per loop (mean ± std. dev. of 7 runs, 100 loops each)\n",
      "4.86 ms ± 415 µs per loop (mean ± std. dev. of 7 runs, 1 loop each)\n",
      "2.82 ms ± 35.5 µs per loop (mean ± std. dev. of 7 runs, 100 loops each)\n",
      "5.2 ms ± 387 µs per loop (mean ± std. dev. of 7 runs, 1 loop each)\n"
     ]
    }
   ],
   "source": [
    "%timeit big_portfolio.market_value()\n",
    "%timeit big_portfolio_grouped.market_value(group_by=False)\n",
    "%timeit big_portfolio_shared.market_value(group_by=False)\n",
    "\n",
    "%timeit big_portfolio.market_value(group_by=big_group_by)\n",
    "%timeit big_portfolio_grouped.market_value()\n",
    "%timeit big_portfolio_shared.market_value()"
   ]
  },
  {
   "cell_type": "code",
   "execution_count": 27,
   "metadata": {},
   "outputs": [
    {
     "name": "stdout",
     "output_type": "stream",
     "text": [
      "                   a     b         c\n",
      "2020-01-01  0.000000  0.00  0.000000\n",
      "2020-01-02  0.000000  1.00  1.000000\n",
      "2020-01-03  0.500000  0.00  0.500000\n",
      "2020-01-04  0.333333  1.00  0.333333\n",
      "2020-01-05  0.250000  0.25  0.000000\n",
      "                   a     b         c\n",
      "2020-01-01  0.000000  0.00  0.000000\n",
      "2020-01-02  0.000000  1.00  1.000000\n",
      "2020-01-03  0.500000  0.00  0.500000\n",
      "2020-01-04  0.333333  1.00  0.333333\n",
      "2020-01-05  0.250000  0.25  0.000000\n",
      "                   a     b         c\n",
      "2020-01-01  0.000000  0.00  0.000000\n",
      "2020-01-02  0.000000  1.00  1.000000\n",
      "2020-01-03  0.500000  0.00  0.500000\n",
      "2020-01-04  0.333333  1.00  0.333333\n",
      "2020-01-05  0.250000  0.25  0.000000\n",
      "group          first    second\n",
      "2020-01-01  0.000000  0.000000\n",
      "2020-01-02  0.500000  1.000000\n",
      "2020-01-03  0.166667  0.500000\n",
      "2020-01-04  0.714286  0.333333\n",
      "2020-01-05  0.250000  0.000000\n",
      "group          first    second\n",
      "2020-01-01  0.000000  0.000000\n",
      "2020-01-02  0.500000  1.000000\n",
      "2020-01-03  0.166667  0.500000\n",
      "2020-01-04  0.714286  0.333333\n",
      "2020-01-05  0.250000  0.000000\n",
      "group          first    second\n",
      "2020-01-01  0.000000  0.000000\n",
      "2020-01-02  0.500000  1.000000\n",
      "2020-01-03  0.166667  0.500000\n",
      "2020-01-04  0.714286  0.333333\n",
      "2020-01-05  0.250000  0.000000\n"
     ]
    }
   ],
   "source": [
    "print(portfolio.market_returns())\n",
    "print(portfolio_grouped.market_returns(group_by=False))\n",
    "print(portfolio_shared.market_returns(group_by=False))\n",
    "\n",
    "print(portfolio.market_returns(group_by=group_by))\n",
    "print(portfolio_grouped.market_returns())\n",
    "print(portfolio_shared.market_returns())"
   ]
  },
  {
   "cell_type": "code",
   "execution_count": 28,
   "metadata": {},
   "outputs": [
    {
     "name": "stdout",
     "output_type": "stream",
     "text": [
      "3.7 ms ± 67.9 µs per loop (mean ± std. dev. of 7 runs, 100 loops each)\n",
      "3.72 ms ± 66.8 µs per loop (mean ± std. dev. of 7 runs, 100 loops each)\n",
      "5.11 ms ± 5.82 µs per loop (mean ± std. dev. of 7 runs, 100 loops each)\n",
      "7.2 ms ± 618 µs per loop (mean ± std. dev. of 7 runs, 100 loops each)\n",
      "4.1 ms ± 52.4 µs per loop (mean ± std. dev. of 7 runs, 100 loops each)\n",
      "7.28 ms ± 40.2 µs per loop (mean ± std. dev. of 7 runs, 100 loops each)\n"
     ]
    }
   ],
   "source": [
    "%timeit big_portfolio.market_returns()\n",
    "%timeit big_portfolio_grouped.market_returns(group_by=False)\n",
    "%timeit big_portfolio_shared.market_returns(group_by=False)\n",
    "\n",
    "%timeit big_portfolio.market_returns(group_by=big_group_by)\n",
    "%timeit big_portfolio_grouped.market_returns()\n",
    "%timeit big_portfolio_shared.market_returns()"
   ]
  },
  {
   "cell_type": "code",
   "execution_count": 29,
   "metadata": {},
   "outputs": [
    {
     "name": "stdout",
     "output_type": "stream",
     "text": [
      "a    1.5\n",
      "b    4.0\n",
      "c    3.0\n",
      "Name: total_market_return, dtype: float64\n",
      "a    1.5\n",
      "b    4.0\n",
      "c    3.0\n",
      "Name: total_market_return, dtype: float64\n",
      "a    1.5\n",
      "b    4.0\n",
      "c    3.0\n",
      "Name: total_market_return, dtype: float64\n",
      "group\n",
      "first     2.75\n",
      "second    3.00\n",
      "Name: total_market_return, dtype: float64\n",
      "group\n",
      "first     2.75\n",
      "second    3.00\n",
      "Name: total_market_return, dtype: float64\n",
      "group\n",
      "first     2.75\n",
      "second    3.00\n",
      "Name: total_market_return, dtype: float64\n"
     ]
    }
   ],
   "source": [
    "print(portfolio.total_market_return())\n",
    "print(portfolio_grouped.total_market_return(group_by=False))\n",
    "print(portfolio_shared.total_market_return(group_by=False))\n",
    "\n",
    "print(portfolio.total_market_return(group_by=group_by))\n",
    "print(portfolio_grouped.total_market_return())\n",
    "print(portfolio_shared.total_market_return())"
   ]
  },
  {
   "cell_type": "code",
   "execution_count": 30,
   "metadata": {},
   "outputs": [
    {
     "name": "stdout",
     "output_type": "stream",
     "text": [
      "975 µs ± 61.3 µs per loop (mean ± std. dev. of 7 runs, 1000 loops each)\n",
      "937 µs ± 10.7 µs per loop (mean ± std. dev. of 7 runs, 1000 loops each)\n",
      "1.83 ms ± 7.9 µs per loop (mean ± std. dev. of 7 runs, 1000 loops each)\n",
      "4.77 ms ± 30 µs per loop (mean ± std. dev. of 7 runs, 100 loops each)\n",
      "2.85 ms ± 11.9 µs per loop (mean ± std. dev. of 7 runs, 100 loops each)\n",
      "5.21 ms ± 79.8 µs per loop (mean ± std. dev. of 7 runs, 100 loops each)\n"
     ]
    }
   ],
   "source": [
    "%timeit big_portfolio.total_market_return()\n",
    "%timeit big_portfolio_grouped.total_market_return(group_by=False)\n",
    "%timeit big_portfolio_shared.total_market_return(group_by=False)\n",
    "\n",
    "%timeit big_portfolio.total_market_return(group_by=big_group_by)\n",
    "%timeit big_portfolio_grouped.total_market_return()\n",
    "%timeit big_portfolio_shared.total_market_return()"
   ]
  },
  {
   "cell_type": "code",
   "execution_count": 31,
   "metadata": {},
   "outputs": [
    {
     "name": "stdout",
     "output_type": "stream",
     "text": [
      "group          first    second\n",
      "2020-01-01 -0.000599 -0.001201\n",
      "2020-01-02 -0.006639  0.007759\n",
      "2020-01-03 -0.006639  0.017162\n",
      "2020-01-04 -0.006639  0.017082\n",
      "2020-01-05 -0.013722  0.017082\n",
      "                   a         b         c\n",
      "2020-01-01  0.000000 -0.000599 -0.001201\n",
      "2020-01-02 -0.000520 -0.006119  0.007759\n",
      "2020-01-03 -0.000550 -0.006119  0.017162\n",
      "2020-01-04 -0.000550 -0.006119  0.017082\n",
      "2020-01-05 -0.001552 -0.012187  0.017082\n"
     ]
    }
   ],
   "source": [
    "print(portfolio_shared.cumulative_returns())\n",
    "print(portfolio_shared.cumulative_returns(group_by=False))"
   ]
  },
  {
   "cell_type": "code",
   "execution_count": 32,
   "metadata": {},
   "outputs": [
    {
     "name": "stdout",
     "output_type": "stream",
     "text": [
      "group\n",
      "first    -25.066399\n",
      "second    12.345065\n",
      "Name: sharpe_ratio, dtype: float64\n",
      "group\n",
      "first    -79.665578\n",
      "second   -23.917188\n",
      "Name: sharpe_ratio, dtype: float64\n",
      "group\n",
      "first    -20.827915\n",
      "second    10.257635\n",
      "Name: sharpe_ratio, dtype: float64\n",
      "a   -13.309506\n",
      "b   -25.744690\n",
      "c    12.345065\n",
      "Name: sharpe_ratio, dtype: float64\n"
     ]
    }
   ],
   "source": [
    "print(portfolio_shared.sharpe_ratio())\n",
    "print(portfolio_shared.sharpe_ratio(risk_free=0.01))\n",
    "print(portfolio_shared.sharpe_ratio(year_freq='252D'))\n",
    "print(portfolio_shared.sharpe_ratio(group_by=False))"
   ]
  },
  {
   "cell_type": "code",
   "execution_count": 33,
   "metadata": {},
   "outputs": [
    {
     "name": "stdout",
     "output_type": "stream",
     "text": [
      "Start                     2020-01-01 00:00:00\n",
      "End                       2020-01-05 00:00:00\n",
      "Duration                      5 days 00:00:00\n",
      "Init. Cash                                100\n",
      "Total Profit                         -1.11123\n",
      "Total Return [%]                     -1.11123\n",
      "Benchmark Return [%]                  283.333\n",
      "Position Coverage [%]                 66.6667\n",
      "Max. Drawdown [%]                     1.64512\n",
      "Avg. Drawdown [%]                     1.64512\n",
      "Max. Drawdown Duration        3 days 08:00:00\n",
      "Avg. Drawdown Duration        3 days 08:00:00\n",
      "Num. Trades                           1.33333\n",
      "Win Rate [%]                          33.3333\n",
      "Best Trade [%]                       -98.3806\n",
      "Worst Trade [%]                      -100.804\n",
      "Avg. Trade [%]                       -99.5922\n",
      "Max. Trade Duration           2 days 08:00:00\n",
      "Avg. Trade Duration           2 days 04:00:00\n",
      "Expectancy                           0.108273\n",
      "SQN                                   1.23509\n",
      "Gross Exposure                     -0.0104131\n",
      "Sharpe Ratio                         -8.87388\n",
      "Sortino Ratio                         30.9251\n",
      "Calmar Ratio                            10374\n",
      "Name: stats_mean, dtype: object\n"
     ]
    },
    {
     "name": "stderr",
     "output_type": "stream",
     "text": [
      "/Users/olegpolakow/Documents/SourceTree/vectorbt/vectorbt/utils/decorators.py:306: UserWarning: Taking mean across columns. To return a DataFrame, pass agg_func=None.\n",
      "  return func(instance, *args, **kwargs)\n"
     ]
    }
   ],
   "source": [
    "print(portfolio.stats())  # mean statistics"
   ]
  },
  {
   "cell_type": "code",
   "execution_count": 34,
   "metadata": {},
   "outputs": [
    {
     "name": "stdout",
     "output_type": "stream",
     "text": [
      "Start                     2020-01-01 00:00:00\n",
      "End                       2020-01-05 00:00:00\n",
      "Duration                      5 days 00:00:00\n",
      "Init. Cash                                100\n",
      "Total Profit                         -0.31049\n",
      "Total Return [%]                     -0.31049\n",
      "Benchmark Return [%]                      150\n",
      "Position Coverage [%]                      40\n",
      "Max. Drawdown [%]                     0.31049\n",
      "Avg. Drawdown [%]                     0.31049\n",
      "Max. Drawdown Duration        4 days 00:00:00\n",
      "Avg. Drawdown Duration        4 days 00:00:00\n",
      "Num. Trades                                 1\n",
      "Win Rate [%]                                0\n",
      "Best Trade [%]                       -54.4505\n",
      "Worst Trade [%]                      -54.4505\n",
      "Avg. Trade [%]                       -54.4505\n",
      "Max. Trade Duration           1 days 00:00:00\n",
      "Avg. Trade Duration           1 days 00:00:00\n",
      "Expectancy                           -0.10999\n",
      "SQN                                       NaN\n",
      "Gross Exposure                      0.0104316\n",
      "Sharpe Ratio                          -13.308\n",
      "Sortino Ratio                        -11.7389\n",
      "Calmar Ratio                         -65.4087\n",
      "Name: a, dtype: object\n"
     ]
    }
   ],
   "source": [
    "print(portfolio['a'].stats())"
   ]
  },
  {
   "cell_type": "code",
   "execution_count": 35,
   "metadata": {},
   "outputs": [
    {
     "name": "stdout",
     "output_type": "stream",
     "text": [
      "Start                     2020-01-01 00:00:00\n",
      "End                       2020-01-05 00:00:00\n",
      "Duration                      5 days 00:00:00\n",
      "Init. Cash                                100\n",
      "Total Profit                         -0.31049\n",
      "Total Return [%]                     -0.31049\n",
      "Benchmark Return [%]                      150\n",
      "Position Coverage [%]                      40\n",
      "Max. Drawdown [%]                     0.31049\n",
      "Avg. Drawdown [%]                     0.31049\n",
      "Max. Drawdown Duration        4 days 00:00:00\n",
      "Avg. Drawdown Duration        4 days 00:00:00\n",
      "Num. Trades                                 1\n",
      "Win Rate [%]                                0\n",
      "Best Trade [%]                       -54.4505\n",
      "Worst Trade [%]                      -54.4505\n",
      "Avg. Trade [%]                       -54.4505\n",
      "Max. Trade Duration           1 days 00:00:00\n",
      "Avg. Trade Duration           1 days 00:00:00\n",
      "Expectancy                           -0.10999\n",
      "SQN                                       NaN\n",
      "Gross Exposure                      0.0104316\n",
      "Sharpe Ratio                         -227.459\n",
      "Sortino Ratio                        -19.1044\n",
      "Calmar Ratio                         -65.4087\n",
      "Name: a, dtype: object\n"
     ]
    }
   ],
   "source": [
    "print(portfolio['a'].stats(required_return=0.1, risk_free=0.01))  # test kwargs"
   ]
  },
  {
   "cell_type": "code",
   "execution_count": 36,
   "metadata": {},
   "outputs": [
    {
     "name": "stdout",
     "output_type": "stream",
     "text": [
      "Start                     2020-01-01 00:00:00\n",
      "End                       2020-01-05 00:00:00\n",
      "Duration                      5 days 00:00:00\n",
      "Init. Cash                                100\n",
      "Total Profit                         -0.31049\n",
      "Total Return [%]                     -0.31049\n",
      "Benchmark Return [%]                      150\n",
      "Position Coverage [%]                      40\n",
      "Max. Drawdown [%]                     0.31049\n",
      "Avg. Drawdown [%]                     0.31049\n",
      "Max. Drawdown Duration        4 days 00:00:00\n",
      "Avg. Drawdown Duration        4 days 00:00:00\n",
      "Num. Trades                                 2\n",
      "Win Rate [%]                                0\n",
      "Best Trade [%]                        -3.9703\n",
      "Worst Trade [%]                      -54.4505\n",
      "Avg. Trade [%]                       -29.2104\n",
      "Max. Trade Duration           1 days 00:00:00\n",
      "Avg. Trade Duration           0 days 12:00:00\n",
      "Expectancy                          -0.155245\n",
      "SQN                                  -3.43045\n",
      "Gross Exposure                      0.0104316\n",
      "Sharpe Ratio                          -13.308\n",
      "Sortino Ratio                        -11.7389\n",
      "Calmar Ratio                         -65.4087\n",
      "Name: a, dtype: object\n"
     ]
    }
   ],
   "source": [
    "print(portfolio['a'].stats(incl_unrealized=True))  # test incl_unrealized"
   ]
  },
  {
   "cell_type": "code",
   "execution_count": 37,
   "metadata": {},
   "outputs": [
    {
     "data": {
      "text/plain": [
       "Start                     2020-01-01 00:00:00\n",
       "End                       2020-01-05 00:00:00\n",
       "Duration                      5 days 00:00:00\n",
       "Init. Cash                                200\n",
       "Total Profit                         -5.04191\n",
       "Total Return [%]                     -2.52095\n",
       "Benchmark Return [%]                      275\n",
       "Position Coverage [%]                      70\n",
       "Max. Drawdown [%]                     2.46248\n",
       "Avg. Drawdown [%]                     2.46248\n",
       "Max. Drawdown Duration        4 days 00:00:00\n",
       "Avg. Drawdown Duration        4 days 00:00:00\n",
       "Num. Trades                                 2\n",
       "Win Rate [%]                                0\n",
       "Best Trade [%]                       -54.4505\n",
       "Worst Trade [%]                      -388.242\n",
       "Avg. Trade [%]                       -221.346\n",
       "Max. Trade Duration           3 days 00:00:00\n",
       "Avg. Trade Duration           2 days 00:00:00\n",
       "Expectancy                          -0.264646\n",
       "SQN                                  -1.71119\n",
       "Gross Exposure                     -0.0152718\n",
       "Sharpe Ratio                         -25.0664\n",
       "Sortino Ratio                        -16.2205\n",
       "Calmar Ratio                          -48.383\n",
       "Name: first, dtype: object"
      ]
     },
     "execution_count": 37,
     "metadata": {},
     "output_type": "execute_result"
    }
   ],
   "source": [
    "portfolio_grouped['first'].stats()"
   ]
  },
  {
   "cell_type": "code",
   "execution_count": 38,
   "metadata": {},
   "outputs": [],
   "source": [
    "pd.testing.assert_series_equal(portfolio['c'].stats(), portfolio.stats(column='c'))\n",
    "pd.testing.assert_series_equal(portfolio['c'].stats(), portfolio_grouped.stats(column='c', group_by=False))\n",
    "pd.testing.assert_series_equal(portfolio_grouped['second'].stats(), portfolio_grouped.stats(column='second'))"
   ]
  },
  {
   "cell_type": "code",
   "execution_count": 39,
   "metadata": {},
   "outputs": [
    {
     "name": "stdout",
     "output_type": "stream",
     "text": [
      "19.7 ms ± 669 µs per loop (mean ± std. dev. of 7 runs, 1 loop each)\n",
      "18.7 ms ± 425 µs per loop (mean ± std. dev. of 7 runs, 1 loop each)\n",
      "31.2 ms ± 890 µs per loop (mean ± std. dev. of 7 runs, 10 loops each)\n",
      "37.5 ms ± 276 µs per loop (mean ± std. dev. of 7 runs, 1 loop each)\n",
      "19.2 ms ± 210 µs per loop (mean ± std. dev. of 7 runs, 1 loop each)\n",
      "42.6 ms ± 956 µs per loop (mean ± std. dev. of 7 runs, 10 loops each)\n"
     ]
    }
   ],
   "source": [
    "# Calculates stats for one column\n",
    "%timeit big_portfolio.iloc[0].stats()\n",
    "%timeit big_portfolio_grouped.iloc[0].stats(group_by=False, column=0)\n",
    "%timeit big_portfolio_shared.iloc[0].stats(group_by=False, column=0)\n",
    "\n",
    "%timeit big_portfolio.iloc[0].stats(group_by=np.array([0]))\n",
    "%timeit big_portfolio_grouped.iloc[0].stats()\n",
    "%timeit big_portfolio_shared.iloc[0].stats()"
   ]
  },
  {
   "cell_type": "code",
   "execution_count": 40,
   "metadata": {},
   "outputs": [
    {
     "name": "stdout",
     "output_type": "stream",
     "text": [
      "291 ms ± 3.22 ms per loop (mean ± std. dev. of 7 runs, 1 loop each)\n",
      "305 ms ± 7.86 ms per loop (mean ± std. dev. of 7 runs, 1 loop each)\n",
      "300 ms ± 5.05 ms per loop (mean ± std. dev. of 7 runs, 1 loop each)\n",
      "361 ms ± 5.2 ms per loop (mean ± std. dev. of 7 runs, 1 loop each)\n",
      "339 ms ± 3.1 ms per loop (mean ± std. dev. of 7 runs, 1 loop each)\n",
      "361 ms ± 2.9 ms per loop (mean ± std. dev. of 7 runs, 1 loop each)\n"
     ]
    }
   ],
   "source": [
    "# Calculates stats for all columns and selects one, takes advantage of caching (which is disabled here)\n",
    "# Thus some series are re-calculated multiple times, such as records and returns\n",
    "%timeit big_portfolio.stats(column=0)\n",
    "%timeit big_portfolio_grouped.stats(group_by=False, column=0)\n",
    "%timeit big_portfolio_shared.stats(group_by=False, column=0)\n",
    "\n",
    "%timeit big_portfolio.stats(group_by=big_group_by, column=0)\n",
    "%timeit big_portfolio_grouped.stats(column=0)\n",
    "%timeit big_portfolio_shared.stats(column=0)"
   ]
  },
  {
   "cell_type": "code",
   "execution_count": 41,
   "metadata": {},
   "outputs": [
    {
     "name": "stdout",
     "output_type": "stream",
     "text": [
      "Start                    2020-01-01 00:00:00\n",
      "End                      2020-01-05 00:00:00\n",
      "Duration                     5 days 00:00:00\n",
      "Total Return [%]                    -0.35145\n",
      "Benchmark Return [%]                 283.333\n",
      "Annual Return [%]                    46.7874\n",
      "Annual Volatility [%]                7.82518\n",
      "Sharpe Ratio                        -8.87388\n",
      "Calmar Ratio                           10374\n",
      "Max. Drawdown [%]                  -0.884431\n",
      "Omega Ratio                           4.7687\n",
      "Sortino Ratio                        30.9251\n",
      "Skew                                0.329244\n",
      "Kurtosis                            -1.56615\n",
      "Tail Ratio                           3.21985\n",
      "Common Sense Ratio                   10.8931\n",
      "Value at Risk                    -0.00502877\n",
      "Alpha                              -0.424832\n",
      "Beta                              0.00143011\n",
      "Name: stats_mean, dtype: object\n"
     ]
    },
    {
     "name": "stderr",
     "output_type": "stream",
     "text": [
      "/Users/olegpolakow/miniconda3/lib/python3.7/site-packages/ipykernel_launcher.py:1: UserWarning: Taking mean across columns. To return a DataFrame, pass agg_func=None.\n",
      "  \"\"\"Entry point for launching an IPython kernel.\n"
     ]
    }
   ],
   "source": [
    "print(portfolio.returns_stats())  # mean statistics"
   ]
  },
  {
   "cell_type": "code",
   "execution_count": 42,
   "metadata": {},
   "outputs": [
    {
     "name": "stdout",
     "output_type": "stream",
     "text": [
      "Start                    2020-01-01 00:00:00\n",
      "End                      2020-01-05 00:00:00\n",
      "Duration                     5 days 00:00:00\n",
      "Total Return [%]                    -0.31049\n",
      "Benchmark Return [%]                     150\n",
      "Annual Return [%]                   -20.3087\n",
      "Annual Volatility [%]                1.70441\n",
      "Sharpe Ratio                         -13.308\n",
      "Calmar Ratio                        -65.4087\n",
      "Max. Drawdown [%]                   -0.31049\n",
      "Omega Ratio                                0\n",
      "Sortino Ratio                       -11.7389\n",
      "Skew                                -1.21911\n",
      "Kurtosis                            0.122976\n",
      "Tail Ratio                                 0\n",
      "Common Sense Ratio                         0\n",
      "Value at Risk                    -0.00181381\n",
      "Alpha                              -0.248883\n",
      "Beta                             0.000749314\n",
      "Name: a, dtype: object\n"
     ]
    }
   ],
   "source": [
    "print(portfolio['a'].returns_stats())"
   ]
  },
  {
   "cell_type": "code",
   "execution_count": 43,
   "metadata": {},
   "outputs": [
    {
     "name": "stdout",
     "output_type": "stream",
     "text": [
      "Start                    2020-01-01 00:00:00\n",
      "End                      2020-01-05 00:00:00\n",
      "Duration                     5 days 00:00:00\n",
      "Total Return [%]                     -1.3722\n",
      "Benchmark Return [%]                     275\n",
      "Annual Return [%]                   -63.5286\n",
      "Annual Volatility [%]                6.68508\n",
      "Sharpe Ratio                        -25.0664\n",
      "Calmar Ratio                         -48.383\n",
      "Max. Drawdown [%]                   -1.31304\n",
      "Omega Ratio                                0\n",
      "Sortino Ratio                       -16.2205\n",
      "Skew                                 1.54618\n",
      "Kurtosis                                 NaN\n",
      "Tail Ratio                          0.162922\n",
      "Common Sense Ratio                 0.0594201\n",
      "Value at Risk                    -0.00702121\n",
      "Alpha                              -0.494797\n",
      "Beta                              -0.0108882\n",
      "Name: first, dtype: object\n"
     ]
    }
   ],
   "source": [
    "print(portfolio_grouped['first'].returns_stats())"
   ]
  },
  {
   "cell_type": "code",
   "execution_count": 44,
   "metadata": {},
   "outputs": [],
   "source": [
    "pd.testing.assert_series_equal(portfolio['c'].returns_stats(), portfolio.returns_stats(column='c'))\n",
    "pd.testing.assert_series_equal(portfolio['c'].returns_stats(), portfolio_grouped.returns_stats(column='c', group_by=False))\n",
    "pd.testing.assert_series_equal(portfolio_grouped['second'].returns_stats(), portfolio_grouped.returns_stats(column='second'))"
   ]
  },
  {
   "cell_type": "code",
   "execution_count": 12,
   "metadata": {},
   "outputs": [
    {
     "data": {
      "image/svg+xml": [
       "<svg class=\"main-svg\" xmlns=\"http://www.w3.org/2000/svg\" xmlns:xlink=\"http://www.w3.org/1999/xlink\" width=\"750\" height=\"5400\" style=\"\" viewBox=\"0 0 750 5400\"><rect x=\"0\" y=\"0\" width=\"750\" height=\"5400\" style=\"fill: rgb(255, 255, 255); fill-opacity: 1;\"/><defs id=\"defs-184629\"><g class=\"clips\"><clipPath id=\"clip184629xyplot\" class=\"plotclip\"><rect width=\"625\" height=\"251.83045267489564\"/></clipPath><clipPath id=\"clip184629x2y2plot\" class=\"plotclip\"><rect width=\"625\" height=\"251.83045267489734\"/></clipPath><clipPath id=\"clip184629x3y3plot\" class=\"plotclip\"><rect width=\"625\" height=\"251.83045267489734\"/></clipPath><clipPath id=\"clip184629x4y4plot\" class=\"plotclip\"><rect width=\"625\" height=\"251.83045267489734\"/></clipPath><clipPath id=\"clip184629x5y5plot\" class=\"plotclip\"><rect width=\"625\" height=\"251.83045267489734\"/></clipPath><clipPath id=\"clip184629x6y6plot\" class=\"plotclip\"><rect width=\"625\" height=\"251.83045267489734\"/></clipPath><clipPath id=\"clip184629x7y7plot\" class=\"plotclip\"><rect width=\"625\" height=\"251.83045267489734\"/></clipPath><clipPath id=\"clip184629x8y8plot\" class=\"plotclip\"><rect width=\"625\" height=\"251.83045267489734\"/></clipPath><clipPath id=\"clip184629x9y9plot\" class=\"plotclip\"><rect width=\"625\" height=\"251.83045267489734\"/></clipPath><clipPath id=\"clip184629x10y10plot\" class=\"plotclip\"><rect width=\"625\" height=\"251.83045267489706\"/></clipPath><clipPath id=\"clip184629x11y11plot\" class=\"plotclip\"><rect width=\"625\" height=\"251.83045267489706\"/></clipPath><clipPath id=\"clip184629x12y12plot\" class=\"plotclip\"><rect width=\"625\" height=\"251.83045267489706\"/></clipPath><clipPath id=\"clip184629x13y13plot\" class=\"plotclip\"><rect width=\"625\" height=\"251.83045267489706\"/></clipPath><clipPath id=\"clip184629x14y14plot\" class=\"plotclip\"><rect width=\"625\" height=\"251.83045267489706\"/></clipPath><clipPath id=\"clip184629x15y15plot\" class=\"plotclip\"><rect width=\"625\" height=\"251.83045267489706\"/></clipPath><clipPath id=\"clip184629x16y16plot\" class=\"plotclip\"><rect width=\"625\" height=\"251.83045267489706\"/></clipPath><clipPath id=\"clip184629x17y17plot\" class=\"plotclip\"><rect width=\"625\" height=\"251.83045267489706\"/></clipPath><clipPath id=\"clip184629x18y18plot\" class=\"plotclip\"><rect width=\"625\" height=\"251.83045267489712\"/></clipPath><clipPath class=\"axesclip\" id=\"clip184629x\"><rect x=\"95\" y=\"0\" width=\"625\" height=\"5400\"/></clipPath><clipPath class=\"axesclip\" id=\"clip184629y\"><rect x=\"0\" y=\"146\" width=\"750\" height=\"251.83045267489564\"/></clipPath><clipPath class=\"axesclip\" id=\"clip184629xy\"><rect x=\"95\" y=\"146\" width=\"625\" height=\"251.83045267489564\"/></clipPath><clipPath class=\"axesclip\" id=\"clip184629y2\"><rect x=\"0\" y=\"436.2452674897105\" width=\"750\" height=\"251.83045267489734\"/></clipPath><clipPath class=\"axesclip\" id=\"clip184629xy2\"><rect x=\"95\" y=\"436.2452674897105\" width=\"625\" height=\"251.83045267489734\"/></clipPath><clipPath class=\"axesclip\" id=\"clip184629y3\"><rect x=\"0\" y=\"726.4905349794227\" width=\"750\" height=\"251.83045267489734\"/></clipPath><clipPath class=\"axesclip\" id=\"clip184629xy3\"><rect x=\"95\" y=\"726.4905349794227\" width=\"625\" height=\"251.83045267489734\"/></clipPath><clipPath class=\"axesclip\" id=\"clip184629y4\"><rect x=\"0\" y=\"1016.7358024691349\" width=\"750\" height=\"251.83045267489734\"/></clipPath><clipPath class=\"axesclip\" id=\"clip184629xy4\"><rect x=\"95\" y=\"1016.7358024691349\" width=\"625\" height=\"251.83045267489734\"/></clipPath><clipPath class=\"axesclip\" id=\"clip184629y5\"><rect x=\"0\" y=\"1306.9810699588472\" width=\"750\" height=\"251.83045267489734\"/></clipPath><clipPath class=\"axesclip\" id=\"clip184629xy5\"><rect x=\"95\" y=\"1306.9810699588472\" width=\"625\" height=\"251.83045267489734\"/></clipPath><clipPath class=\"axesclip\" id=\"clip184629y6\"><rect x=\"0\" y=\"1597.2263374485594\" width=\"750\" height=\"251.83045267489734\"/></clipPath><clipPath class=\"axesclip\" id=\"clip184629xy6\"><rect x=\"95\" y=\"1597.2263374485594\" width=\"625\" height=\"251.83045267489734\"/></clipPath><clipPath class=\"axesclip\" id=\"clip184629y7\"><rect x=\"0\" y=\"1887.4716049382716\" width=\"750\" height=\"251.83045267489734\"/></clipPath><clipPath class=\"axesclip\" id=\"clip184629xy7\"><rect x=\"95\" y=\"1887.4716049382716\" width=\"625\" height=\"251.83045267489734\"/></clipPath><clipPath class=\"axesclip\" id=\"clip184629y8\"><rect x=\"0\" y=\"2177.7168724279836\" width=\"750\" height=\"251.83045267489734\"/></clipPath><clipPath class=\"axesclip\" id=\"clip184629xy8\"><rect x=\"95\" y=\"2177.7168724279836\" width=\"625\" height=\"251.83045267489734\"/></clipPath><clipPath class=\"axesclip\" id=\"clip184629y9\"><rect x=\"0\" y=\"2467.9621399176954\" width=\"750\" height=\"251.83045267489734\"/></clipPath><clipPath class=\"axesclip\" id=\"clip184629xy9\"><rect x=\"95\" y=\"2467.9621399176954\" width=\"625\" height=\"251.83045267489734\"/></clipPath><clipPath class=\"axesclip\" id=\"clip184629y10\"><rect x=\"0\" y=\"2758.2074074074076\" width=\"750\" height=\"251.83045267489706\"/></clipPath><clipPath class=\"axesclip\" id=\"clip184629xy10\"><rect x=\"95\" y=\"2758.2074074074076\" width=\"625\" height=\"251.83045267489706\"/></clipPath><clipPath class=\"axesclip\" id=\"clip184629y11\"><rect x=\"0\" y=\"3048.4526748971193\" width=\"750\" height=\"251.83045267489706\"/></clipPath><clipPath class=\"axesclip\" id=\"clip184629xy11\"><rect x=\"95\" y=\"3048.4526748971193\" width=\"625\" height=\"251.83045267489706\"/></clipPath><clipPath class=\"axesclip\" id=\"clip184629y12\"><rect x=\"0\" y=\"3338.697942386831\" width=\"750\" height=\"251.83045267489706\"/></clipPath><clipPath class=\"axesclip\" id=\"clip184629xy12\"><rect x=\"95\" y=\"3338.697942386831\" width=\"625\" height=\"251.83045267489706\"/></clipPath><clipPath class=\"axesclip\" id=\"clip184629y13\"><rect x=\"0\" y=\"3628.9432098765433\" width=\"750\" height=\"251.83045267489706\"/></clipPath><clipPath class=\"axesclip\" id=\"clip184629xy13\"><rect x=\"95\" y=\"3628.9432098765433\" width=\"625\" height=\"251.83045267489706\"/></clipPath><clipPath class=\"axesclip\" id=\"clip184629y14\"><rect x=\"0\" y=\"3919.1884773662555\" width=\"750\" height=\"251.83045267489706\"/></clipPath><clipPath class=\"axesclip\" id=\"clip184629xy14\"><rect x=\"95\" y=\"3919.1884773662555\" width=\"625\" height=\"251.83045267489706\"/></clipPath><clipPath class=\"axesclip\" id=\"clip184629y15\"><rect x=\"0\" y=\"4209.433744855967\" width=\"750\" height=\"251.83045267489706\"/></clipPath><clipPath class=\"axesclip\" id=\"clip184629xy15\"><rect x=\"95\" y=\"4209.433744855967\" width=\"625\" height=\"251.83045267489706\"/></clipPath><clipPath class=\"axesclip\" id=\"clip184629y16\"><rect x=\"0\" y=\"4499.6790123456785\" width=\"750\" height=\"251.83045267489706\"/></clipPath><clipPath class=\"axesclip\" id=\"clip184629xy16\"><rect x=\"95\" y=\"4499.6790123456785\" width=\"625\" height=\"251.83045267489706\"/></clipPath><clipPath class=\"axesclip\" id=\"clip184629y17\"><rect x=\"0\" y=\"4789.924279835391\" width=\"750\" height=\"251.83045267489706\"/></clipPath><clipPath class=\"axesclip\" id=\"clip184629xy17\"><rect x=\"95\" y=\"4789.924279835391\" width=\"625\" height=\"251.83045267489706\"/></clipPath><clipPath class=\"axesclip\" id=\"clip184629y18\"><rect x=\"0\" y=\"5080.169547325103\" width=\"750\" height=\"251.83045267489712\"/></clipPath><clipPath class=\"axesclip\" id=\"clip184629xy18\"><rect x=\"95\" y=\"5080.169547325103\" width=\"625\" height=\"251.83045267489712\"/></clipPath><clipPath class=\"axesclip\" id=\"clip184629x2\"><rect x=\"95\" y=\"0\" width=\"625\" height=\"5400\"/></clipPath><clipPath class=\"axesclip\" id=\"clip184629x2y\"><rect x=\"95\" y=\"146\" width=\"625\" height=\"251.83045267489564\"/></clipPath><clipPath class=\"axesclip\" id=\"clip184629x2y2\"><rect x=\"95\" y=\"436.2452674897105\" width=\"625\" height=\"251.83045267489734\"/></clipPath><clipPath class=\"axesclip\" id=\"clip184629x2y3\"><rect x=\"95\" y=\"726.4905349794227\" width=\"625\" height=\"251.83045267489734\"/></clipPath><clipPath class=\"axesclip\" id=\"clip184629x2y4\"><rect x=\"95\" y=\"1016.7358024691349\" width=\"625\" height=\"251.83045267489734\"/></clipPath><clipPath class=\"axesclip\" id=\"clip184629x2y5\"><rect x=\"95\" y=\"1306.9810699588472\" width=\"625\" height=\"251.83045267489734\"/></clipPath><clipPath class=\"axesclip\" id=\"clip184629x2y6\"><rect x=\"95\" y=\"1597.2263374485594\" width=\"625\" height=\"251.83045267489734\"/></clipPath><clipPath class=\"axesclip\" id=\"clip184629x2y7\"><rect x=\"95\" y=\"1887.4716049382716\" width=\"625\" height=\"251.83045267489734\"/></clipPath><clipPath class=\"axesclip\" id=\"clip184629x2y8\"><rect x=\"95\" y=\"2177.7168724279836\" width=\"625\" height=\"251.83045267489734\"/></clipPath><clipPath class=\"axesclip\" id=\"clip184629x2y9\"><rect x=\"95\" y=\"2467.9621399176954\" width=\"625\" height=\"251.83045267489734\"/></clipPath><clipPath class=\"axesclip\" id=\"clip184629x2y10\"><rect x=\"95\" y=\"2758.2074074074076\" width=\"625\" height=\"251.83045267489706\"/></clipPath><clipPath class=\"axesclip\" id=\"clip184629x2y11\"><rect x=\"95\" y=\"3048.4526748971193\" width=\"625\" height=\"251.83045267489706\"/></clipPath><clipPath class=\"axesclip\" id=\"clip184629x2y12\"><rect x=\"95\" y=\"3338.697942386831\" width=\"625\" height=\"251.83045267489706\"/></clipPath><clipPath class=\"axesclip\" id=\"clip184629x2y13\"><rect x=\"95\" y=\"3628.9432098765433\" width=\"625\" height=\"251.83045267489706\"/></clipPath><clipPath class=\"axesclip\" id=\"clip184629x2y14\"><rect x=\"95\" y=\"3919.1884773662555\" width=\"625\" height=\"251.83045267489706\"/></clipPath><clipPath class=\"axesclip\" id=\"clip184629x2y15\"><rect x=\"95\" y=\"4209.433744855967\" width=\"625\" height=\"251.83045267489706\"/></clipPath><clipPath class=\"axesclip\" id=\"clip184629x2y16\"><rect x=\"95\" y=\"4499.6790123456785\" width=\"625\" height=\"251.83045267489706\"/></clipPath><clipPath class=\"axesclip\" id=\"clip184629x2y17\"><rect x=\"95\" y=\"4789.924279835391\" width=\"625\" height=\"251.83045267489706\"/></clipPath><clipPath class=\"axesclip\" id=\"clip184629x2y18\"><rect x=\"95\" y=\"5080.169547325103\" width=\"625\" height=\"251.83045267489712\"/></clipPath><clipPath class=\"axesclip\" id=\"clip184629x3\"><rect x=\"95\" y=\"0\" width=\"625\" height=\"5400\"/></clipPath><clipPath class=\"axesclip\" id=\"clip184629x3y\"><rect x=\"95\" y=\"146\" width=\"625\" height=\"251.83045267489564\"/></clipPath><clipPath class=\"axesclip\" id=\"clip184629x3y2\"><rect x=\"95\" y=\"436.2452674897105\" width=\"625\" height=\"251.83045267489734\"/></clipPath><clipPath class=\"axesclip\" id=\"clip184629x3y3\"><rect x=\"95\" y=\"726.4905349794227\" width=\"625\" height=\"251.83045267489734\"/></clipPath><clipPath class=\"axesclip\" id=\"clip184629x3y4\"><rect x=\"95\" y=\"1016.7358024691349\" width=\"625\" height=\"251.83045267489734\"/></clipPath><clipPath class=\"axesclip\" id=\"clip184629x3y5\"><rect x=\"95\" y=\"1306.9810699588472\" width=\"625\" height=\"251.83045267489734\"/></clipPath><clipPath class=\"axesclip\" id=\"clip184629x3y6\"><rect x=\"95\" y=\"1597.2263374485594\" width=\"625\" height=\"251.83045267489734\"/></clipPath><clipPath class=\"axesclip\" id=\"clip184629x3y7\"><rect x=\"95\" y=\"1887.4716049382716\" width=\"625\" height=\"251.83045267489734\"/></clipPath><clipPath class=\"axesclip\" id=\"clip184629x3y8\"><rect x=\"95\" y=\"2177.7168724279836\" width=\"625\" height=\"251.83045267489734\"/></clipPath><clipPath class=\"axesclip\" id=\"clip184629x3y9\"><rect x=\"95\" y=\"2467.9621399176954\" width=\"625\" height=\"251.83045267489734\"/></clipPath><clipPath class=\"axesclip\" id=\"clip184629x3y10\"><rect x=\"95\" y=\"2758.2074074074076\" width=\"625\" height=\"251.83045267489706\"/></clipPath><clipPath class=\"axesclip\" id=\"clip184629x3y11\"><rect x=\"95\" y=\"3048.4526748971193\" width=\"625\" height=\"251.83045267489706\"/></clipPath><clipPath class=\"axesclip\" id=\"clip184629x3y12\"><rect x=\"95\" y=\"3338.697942386831\" width=\"625\" height=\"251.83045267489706\"/></clipPath><clipPath class=\"axesclip\" id=\"clip184629x3y13\"><rect x=\"95\" y=\"3628.9432098765433\" width=\"625\" height=\"251.83045267489706\"/></clipPath><clipPath class=\"axesclip\" id=\"clip184629x3y14\"><rect x=\"95\" y=\"3919.1884773662555\" width=\"625\" height=\"251.83045267489706\"/></clipPath><clipPath class=\"axesclip\" id=\"clip184629x3y15\"><rect x=\"95\" y=\"4209.433744855967\" width=\"625\" height=\"251.83045267489706\"/></clipPath><clipPath class=\"axesclip\" id=\"clip184629x3y16\"><rect x=\"95\" y=\"4499.6790123456785\" width=\"625\" height=\"251.83045267489706\"/></clipPath><clipPath class=\"axesclip\" id=\"clip184629x3y17\"><rect x=\"95\" y=\"4789.924279835391\" width=\"625\" height=\"251.83045267489706\"/></clipPath><clipPath class=\"axesclip\" id=\"clip184629x3y18\"><rect x=\"95\" y=\"5080.169547325103\" width=\"625\" height=\"251.83045267489712\"/></clipPath><clipPath class=\"axesclip\" id=\"clip184629x4\"><rect x=\"95\" y=\"0\" width=\"625\" height=\"5400\"/></clipPath><clipPath class=\"axesclip\" id=\"clip184629x4y\"><rect x=\"95\" y=\"146\" width=\"625\" height=\"251.83045267489564\"/></clipPath><clipPath class=\"axesclip\" id=\"clip184629x4y2\"><rect x=\"95\" y=\"436.2452674897105\" width=\"625\" height=\"251.83045267489734\"/></clipPath><clipPath class=\"axesclip\" id=\"clip184629x4y3\"><rect x=\"95\" y=\"726.4905349794227\" width=\"625\" height=\"251.83045267489734\"/></clipPath><clipPath class=\"axesclip\" id=\"clip184629x4y4\"><rect x=\"95\" y=\"1016.7358024691349\" width=\"625\" height=\"251.83045267489734\"/></clipPath><clipPath class=\"axesclip\" id=\"clip184629x4y5\"><rect x=\"95\" y=\"1306.9810699588472\" width=\"625\" height=\"251.83045267489734\"/></clipPath><clipPath class=\"axesclip\" id=\"clip184629x4y6\"><rect x=\"95\" y=\"1597.2263374485594\" width=\"625\" height=\"251.83045267489734\"/></clipPath><clipPath class=\"axesclip\" id=\"clip184629x4y7\"><rect x=\"95\" y=\"1887.4716049382716\" width=\"625\" height=\"251.83045267489734\"/></clipPath><clipPath class=\"axesclip\" id=\"clip184629x4y8\"><rect x=\"95\" y=\"2177.7168724279836\" width=\"625\" height=\"251.83045267489734\"/></clipPath><clipPath class=\"axesclip\" id=\"clip184629x4y9\"><rect x=\"95\" y=\"2467.9621399176954\" width=\"625\" height=\"251.83045267489734\"/></clipPath><clipPath class=\"axesclip\" id=\"clip184629x4y10\"><rect x=\"95\" y=\"2758.2074074074076\" width=\"625\" height=\"251.83045267489706\"/></clipPath><clipPath class=\"axesclip\" id=\"clip184629x4y11\"><rect x=\"95\" y=\"3048.4526748971193\" width=\"625\" height=\"251.83045267489706\"/></clipPath><clipPath class=\"axesclip\" id=\"clip184629x4y12\"><rect x=\"95\" y=\"3338.697942386831\" width=\"625\" height=\"251.83045267489706\"/></clipPath><clipPath class=\"axesclip\" id=\"clip184629x4y13\"><rect x=\"95\" y=\"3628.9432098765433\" width=\"625\" height=\"251.83045267489706\"/></clipPath><clipPath class=\"axesclip\" id=\"clip184629x4y14\"><rect x=\"95\" y=\"3919.1884773662555\" width=\"625\" height=\"251.83045267489706\"/></clipPath><clipPath class=\"axesclip\" id=\"clip184629x4y15\"><rect x=\"95\" y=\"4209.433744855967\" width=\"625\" height=\"251.83045267489706\"/></clipPath><clipPath class=\"axesclip\" id=\"clip184629x4y16\"><rect x=\"95\" y=\"4499.6790123456785\" width=\"625\" height=\"251.83045267489706\"/></clipPath><clipPath class=\"axesclip\" id=\"clip184629x4y17\"><rect x=\"95\" y=\"4789.924279835391\" width=\"625\" height=\"251.83045267489706\"/></clipPath><clipPath class=\"axesclip\" id=\"clip184629x4y18\"><rect x=\"95\" y=\"5080.169547325103\" width=\"625\" height=\"251.83045267489712\"/></clipPath><clipPath class=\"axesclip\" id=\"clip184629x5\"><rect x=\"95\" y=\"0\" width=\"625\" height=\"5400\"/></clipPath><clipPath class=\"axesclip\" id=\"clip184629x5y\"><rect x=\"95\" y=\"146\" width=\"625\" height=\"251.83045267489564\"/></clipPath><clipPath class=\"axesclip\" id=\"clip184629x5y2\"><rect x=\"95\" y=\"436.2452674897105\" width=\"625\" height=\"251.83045267489734\"/></clipPath><clipPath class=\"axesclip\" id=\"clip184629x5y3\"><rect x=\"95\" y=\"726.4905349794227\" width=\"625\" height=\"251.83045267489734\"/></clipPath><clipPath class=\"axesclip\" id=\"clip184629x5y4\"><rect x=\"95\" y=\"1016.7358024691349\" width=\"625\" height=\"251.83045267489734\"/></clipPath><clipPath class=\"axesclip\" id=\"clip184629x5y5\"><rect x=\"95\" y=\"1306.9810699588472\" width=\"625\" height=\"251.83045267489734\"/></clipPath><clipPath class=\"axesclip\" id=\"clip184629x5y6\"><rect x=\"95\" y=\"1597.2263374485594\" width=\"625\" height=\"251.83045267489734\"/></clipPath><clipPath class=\"axesclip\" id=\"clip184629x5y7\"><rect x=\"95\" y=\"1887.4716049382716\" width=\"625\" height=\"251.83045267489734\"/></clipPath><clipPath class=\"axesclip\" id=\"clip184629x5y8\"><rect x=\"95\" y=\"2177.7168724279836\" width=\"625\" height=\"251.83045267489734\"/></clipPath><clipPath class=\"axesclip\" id=\"clip184629x5y9\"><rect x=\"95\" y=\"2467.9621399176954\" width=\"625\" height=\"251.83045267489734\"/></clipPath><clipPath class=\"axesclip\" id=\"clip184629x5y10\"><rect x=\"95\" y=\"2758.2074074074076\" width=\"625\" height=\"251.83045267489706\"/></clipPath><clipPath class=\"axesclip\" id=\"clip184629x5y11\"><rect x=\"95\" y=\"3048.4526748971193\" width=\"625\" height=\"251.83045267489706\"/></clipPath><clipPath class=\"axesclip\" id=\"clip184629x5y12\"><rect x=\"95\" y=\"3338.697942386831\" width=\"625\" height=\"251.83045267489706\"/></clipPath><clipPath class=\"axesclip\" id=\"clip184629x5y13\"><rect x=\"95\" y=\"3628.9432098765433\" width=\"625\" height=\"251.83045267489706\"/></clipPath><clipPath class=\"axesclip\" id=\"clip184629x5y14\"><rect x=\"95\" y=\"3919.1884773662555\" width=\"625\" height=\"251.83045267489706\"/></clipPath><clipPath class=\"axesclip\" id=\"clip184629x5y15\"><rect x=\"95\" y=\"4209.433744855967\" width=\"625\" height=\"251.83045267489706\"/></clipPath><clipPath class=\"axesclip\" id=\"clip184629x5y16\"><rect x=\"95\" y=\"4499.6790123456785\" width=\"625\" height=\"251.83045267489706\"/></clipPath><clipPath class=\"axesclip\" id=\"clip184629x5y17\"><rect x=\"95\" y=\"4789.924279835391\" width=\"625\" height=\"251.83045267489706\"/></clipPath><clipPath class=\"axesclip\" id=\"clip184629x5y18\"><rect x=\"95\" y=\"5080.169547325103\" width=\"625\" height=\"251.83045267489712\"/></clipPath><clipPath class=\"axesclip\" id=\"clip184629x6\"><rect x=\"95\" y=\"0\" width=\"625\" height=\"5400\"/></clipPath><clipPath class=\"axesclip\" id=\"clip184629x6y\"><rect x=\"95\" y=\"146\" width=\"625\" height=\"251.83045267489564\"/></clipPath><clipPath class=\"axesclip\" id=\"clip184629x6y2\"><rect x=\"95\" y=\"436.2452674897105\" width=\"625\" height=\"251.83045267489734\"/></clipPath><clipPath class=\"axesclip\" id=\"clip184629x6y3\"><rect x=\"95\" y=\"726.4905349794227\" width=\"625\" height=\"251.83045267489734\"/></clipPath><clipPath class=\"axesclip\" id=\"clip184629x6y4\"><rect x=\"95\" y=\"1016.7358024691349\" width=\"625\" height=\"251.83045267489734\"/></clipPath><clipPath class=\"axesclip\" id=\"clip184629x6y5\"><rect x=\"95\" y=\"1306.9810699588472\" width=\"625\" height=\"251.83045267489734\"/></clipPath><clipPath class=\"axesclip\" id=\"clip184629x6y6\"><rect x=\"95\" y=\"1597.2263374485594\" width=\"625\" height=\"251.83045267489734\"/></clipPath><clipPath class=\"axesclip\" id=\"clip184629x6y7\"><rect x=\"95\" y=\"1887.4716049382716\" width=\"625\" height=\"251.83045267489734\"/></clipPath><clipPath class=\"axesclip\" id=\"clip184629x6y8\"><rect x=\"95\" y=\"2177.7168724279836\" width=\"625\" height=\"251.83045267489734\"/></clipPath><clipPath class=\"axesclip\" id=\"clip184629x6y9\"><rect x=\"95\" y=\"2467.9621399176954\" width=\"625\" height=\"251.83045267489734\"/></clipPath><clipPath class=\"axesclip\" id=\"clip184629x6y10\"><rect x=\"95\" y=\"2758.2074074074076\" width=\"625\" height=\"251.83045267489706\"/></clipPath><clipPath class=\"axesclip\" id=\"clip184629x6y11\"><rect x=\"95\" y=\"3048.4526748971193\" width=\"625\" height=\"251.83045267489706\"/></clipPath><clipPath class=\"axesclip\" id=\"clip184629x6y12\"><rect x=\"95\" y=\"3338.697942386831\" width=\"625\" height=\"251.83045267489706\"/></clipPath><clipPath class=\"axesclip\" id=\"clip184629x6y13\"><rect x=\"95\" y=\"3628.9432098765433\" width=\"625\" height=\"251.83045267489706\"/></clipPath><clipPath class=\"axesclip\" id=\"clip184629x6y14\"><rect x=\"95\" y=\"3919.1884773662555\" width=\"625\" height=\"251.83045267489706\"/></clipPath><clipPath class=\"axesclip\" id=\"clip184629x6y15\"><rect x=\"95\" y=\"4209.433744855967\" width=\"625\" height=\"251.83045267489706\"/></clipPath><clipPath class=\"axesclip\" id=\"clip184629x6y16\"><rect x=\"95\" y=\"4499.6790123456785\" width=\"625\" height=\"251.83045267489706\"/></clipPath><clipPath class=\"axesclip\" id=\"clip184629x6y17\"><rect x=\"95\" y=\"4789.924279835391\" width=\"625\" height=\"251.83045267489706\"/></clipPath><clipPath class=\"axesclip\" id=\"clip184629x6y18\"><rect x=\"95\" y=\"5080.169547325103\" width=\"625\" height=\"251.83045267489712\"/></clipPath><clipPath class=\"axesclip\" id=\"clip184629x7\"><rect x=\"95\" y=\"0\" width=\"625\" height=\"5400\"/></clipPath><clipPath class=\"axesclip\" id=\"clip184629x7y\"><rect x=\"95\" y=\"146\" width=\"625\" height=\"251.83045267489564\"/></clipPath><clipPath class=\"axesclip\" id=\"clip184629x7y2\"><rect x=\"95\" y=\"436.2452674897105\" width=\"625\" height=\"251.83045267489734\"/></clipPath><clipPath class=\"axesclip\" id=\"clip184629x7y3\"><rect x=\"95\" y=\"726.4905349794227\" width=\"625\" height=\"251.83045267489734\"/></clipPath><clipPath class=\"axesclip\" id=\"clip184629x7y4\"><rect x=\"95\" y=\"1016.7358024691349\" width=\"625\" height=\"251.83045267489734\"/></clipPath><clipPath class=\"axesclip\" id=\"clip184629x7y5\"><rect x=\"95\" y=\"1306.9810699588472\" width=\"625\" height=\"251.83045267489734\"/></clipPath><clipPath class=\"axesclip\" id=\"clip184629x7y6\"><rect x=\"95\" y=\"1597.2263374485594\" width=\"625\" height=\"251.83045267489734\"/></clipPath><clipPath class=\"axesclip\" id=\"clip184629x7y7\"><rect x=\"95\" y=\"1887.4716049382716\" width=\"625\" height=\"251.83045267489734\"/></clipPath><clipPath class=\"axesclip\" id=\"clip184629x7y8\"><rect x=\"95\" y=\"2177.7168724279836\" width=\"625\" height=\"251.83045267489734\"/></clipPath><clipPath class=\"axesclip\" id=\"clip184629x7y9\"><rect x=\"95\" y=\"2467.9621399176954\" width=\"625\" height=\"251.83045267489734\"/></clipPath><clipPath class=\"axesclip\" id=\"clip184629x7y10\"><rect x=\"95\" y=\"2758.2074074074076\" width=\"625\" height=\"251.83045267489706\"/></clipPath><clipPath class=\"axesclip\" id=\"clip184629x7y11\"><rect x=\"95\" y=\"3048.4526748971193\" width=\"625\" height=\"251.83045267489706\"/></clipPath><clipPath class=\"axesclip\" id=\"clip184629x7y12\"><rect x=\"95\" y=\"3338.697942386831\" width=\"625\" height=\"251.83045267489706\"/></clipPath><clipPath class=\"axesclip\" id=\"clip184629x7y13\"><rect x=\"95\" y=\"3628.9432098765433\" width=\"625\" height=\"251.83045267489706\"/></clipPath><clipPath class=\"axesclip\" id=\"clip184629x7y14\"><rect x=\"95\" y=\"3919.1884773662555\" width=\"625\" height=\"251.83045267489706\"/></clipPath><clipPath class=\"axesclip\" id=\"clip184629x7y15\"><rect x=\"95\" y=\"4209.433744855967\" width=\"625\" height=\"251.83045267489706\"/></clipPath><clipPath class=\"axesclip\" id=\"clip184629x7y16\"><rect x=\"95\" y=\"4499.6790123456785\" width=\"625\" height=\"251.83045267489706\"/></clipPath><clipPath class=\"axesclip\" id=\"clip184629x7y17\"><rect x=\"95\" y=\"4789.924279835391\" width=\"625\" height=\"251.83045267489706\"/></clipPath><clipPath class=\"axesclip\" id=\"clip184629x7y18\"><rect x=\"95\" y=\"5080.169547325103\" width=\"625\" height=\"251.83045267489712\"/></clipPath><clipPath class=\"axesclip\" id=\"clip184629x8\"><rect x=\"95\" y=\"0\" width=\"625\" height=\"5400\"/></clipPath><clipPath class=\"axesclip\" id=\"clip184629x8y\"><rect x=\"95\" y=\"146\" width=\"625\" height=\"251.83045267489564\"/></clipPath><clipPath class=\"axesclip\" id=\"clip184629x8y2\"><rect x=\"95\" y=\"436.2452674897105\" width=\"625\" height=\"251.83045267489734\"/></clipPath><clipPath class=\"axesclip\" id=\"clip184629x8y3\"><rect x=\"95\" y=\"726.4905349794227\" width=\"625\" height=\"251.83045267489734\"/></clipPath><clipPath class=\"axesclip\" id=\"clip184629x8y4\"><rect x=\"95\" y=\"1016.7358024691349\" width=\"625\" height=\"251.83045267489734\"/></clipPath><clipPath class=\"axesclip\" id=\"clip184629x8y5\"><rect x=\"95\" y=\"1306.9810699588472\" width=\"625\" height=\"251.83045267489734\"/></clipPath><clipPath class=\"axesclip\" id=\"clip184629x8y6\"><rect x=\"95\" y=\"1597.2263374485594\" width=\"625\" height=\"251.83045267489734\"/></clipPath><clipPath class=\"axesclip\" id=\"clip184629x8y7\"><rect x=\"95\" y=\"1887.4716049382716\" width=\"625\" height=\"251.83045267489734\"/></clipPath><clipPath class=\"axesclip\" id=\"clip184629x8y8\"><rect x=\"95\" y=\"2177.7168724279836\" width=\"625\" height=\"251.83045267489734\"/></clipPath><clipPath class=\"axesclip\" id=\"clip184629x8y9\"><rect x=\"95\" y=\"2467.9621399176954\" width=\"625\" height=\"251.83045267489734\"/></clipPath><clipPath class=\"axesclip\" id=\"clip184629x8y10\"><rect x=\"95\" y=\"2758.2074074074076\" width=\"625\" height=\"251.83045267489706\"/></clipPath><clipPath class=\"axesclip\" id=\"clip184629x8y11\"><rect x=\"95\" y=\"3048.4526748971193\" width=\"625\" height=\"251.83045267489706\"/></clipPath><clipPath class=\"axesclip\" id=\"clip184629x8y12\"><rect x=\"95\" y=\"3338.697942386831\" width=\"625\" height=\"251.83045267489706\"/></clipPath><clipPath class=\"axesclip\" id=\"clip184629x8y13\"><rect x=\"95\" y=\"3628.9432098765433\" width=\"625\" height=\"251.83045267489706\"/></clipPath><clipPath class=\"axesclip\" id=\"clip184629x8y14\"><rect x=\"95\" y=\"3919.1884773662555\" width=\"625\" height=\"251.83045267489706\"/></clipPath><clipPath class=\"axesclip\" id=\"clip184629x8y15\"><rect x=\"95\" y=\"4209.433744855967\" width=\"625\" height=\"251.83045267489706\"/></clipPath><clipPath class=\"axesclip\" id=\"clip184629x8y16\"><rect x=\"95\" y=\"4499.6790123456785\" width=\"625\" height=\"251.83045267489706\"/></clipPath><clipPath class=\"axesclip\" id=\"clip184629x8y17\"><rect x=\"95\" y=\"4789.924279835391\" width=\"625\" height=\"251.83045267489706\"/></clipPath><clipPath class=\"axesclip\" id=\"clip184629x8y18\"><rect x=\"95\" y=\"5080.169547325103\" width=\"625\" height=\"251.83045267489712\"/></clipPath><clipPath class=\"axesclip\" id=\"clip184629x9\"><rect x=\"95\" y=\"0\" width=\"625\" height=\"5400\"/></clipPath><clipPath class=\"axesclip\" id=\"clip184629x9y\"><rect x=\"95\" y=\"146\" width=\"625\" height=\"251.83045267489564\"/></clipPath><clipPath class=\"axesclip\" id=\"clip184629x9y2\"><rect x=\"95\" y=\"436.2452674897105\" width=\"625\" height=\"251.83045267489734\"/></clipPath><clipPath class=\"axesclip\" id=\"clip184629x9y3\"><rect x=\"95\" y=\"726.4905349794227\" width=\"625\" height=\"251.83045267489734\"/></clipPath><clipPath class=\"axesclip\" id=\"clip184629x9y4\"><rect x=\"95\" y=\"1016.7358024691349\" width=\"625\" height=\"251.83045267489734\"/></clipPath><clipPath class=\"axesclip\" id=\"clip184629x9y5\"><rect x=\"95\" y=\"1306.9810699588472\" width=\"625\" height=\"251.83045267489734\"/></clipPath><clipPath class=\"axesclip\" id=\"clip184629x9y6\"><rect x=\"95\" y=\"1597.2263374485594\" width=\"625\" height=\"251.83045267489734\"/></clipPath><clipPath class=\"axesclip\" id=\"clip184629x9y7\"><rect x=\"95\" y=\"1887.4716049382716\" width=\"625\" height=\"251.83045267489734\"/></clipPath><clipPath class=\"axesclip\" id=\"clip184629x9y8\"><rect x=\"95\" y=\"2177.7168724279836\" width=\"625\" height=\"251.83045267489734\"/></clipPath><clipPath class=\"axesclip\" id=\"clip184629x9y9\"><rect x=\"95\" y=\"2467.9621399176954\" width=\"625\" height=\"251.83045267489734\"/></clipPath><clipPath class=\"axesclip\" id=\"clip184629x9y10\"><rect x=\"95\" y=\"2758.2074074074076\" width=\"625\" height=\"251.83045267489706\"/></clipPath><clipPath class=\"axesclip\" id=\"clip184629x9y11\"><rect x=\"95\" y=\"3048.4526748971193\" width=\"625\" height=\"251.83045267489706\"/></clipPath><clipPath class=\"axesclip\" id=\"clip184629x9y12\"><rect x=\"95\" y=\"3338.697942386831\" width=\"625\" height=\"251.83045267489706\"/></clipPath><clipPath class=\"axesclip\" id=\"clip184629x9y13\"><rect x=\"95\" y=\"3628.9432098765433\" width=\"625\" height=\"251.83045267489706\"/></clipPath><clipPath class=\"axesclip\" id=\"clip184629x9y14\"><rect x=\"95\" y=\"3919.1884773662555\" width=\"625\" height=\"251.83045267489706\"/></clipPath><clipPath class=\"axesclip\" id=\"clip184629x9y15\"><rect x=\"95\" y=\"4209.433744855967\" width=\"625\" height=\"251.83045267489706\"/></clipPath><clipPath class=\"axesclip\" id=\"clip184629x9y16\"><rect x=\"95\" y=\"4499.6790123456785\" width=\"625\" height=\"251.83045267489706\"/></clipPath><clipPath class=\"axesclip\" id=\"clip184629x9y17\"><rect x=\"95\" y=\"4789.924279835391\" width=\"625\" height=\"251.83045267489706\"/></clipPath><clipPath class=\"axesclip\" id=\"clip184629x9y18\"><rect x=\"95\" y=\"5080.169547325103\" width=\"625\" height=\"251.83045267489712\"/></clipPath><clipPath class=\"axesclip\" id=\"clip184629x10\"><rect x=\"95\" y=\"0\" width=\"625\" height=\"5400\"/></clipPath><clipPath class=\"axesclip\" id=\"clip184629x10y\"><rect x=\"95\" y=\"146\" width=\"625\" height=\"251.83045267489564\"/></clipPath><clipPath class=\"axesclip\" id=\"clip184629x10y2\"><rect x=\"95\" y=\"436.2452674897105\" width=\"625\" height=\"251.83045267489734\"/></clipPath><clipPath class=\"axesclip\" id=\"clip184629x10y3\"><rect x=\"95\" y=\"726.4905349794227\" width=\"625\" height=\"251.83045267489734\"/></clipPath><clipPath class=\"axesclip\" id=\"clip184629x10y4\"><rect x=\"95\" y=\"1016.7358024691349\" width=\"625\" height=\"251.83045267489734\"/></clipPath><clipPath class=\"axesclip\" id=\"clip184629x10y5\"><rect x=\"95\" y=\"1306.9810699588472\" width=\"625\" height=\"251.83045267489734\"/></clipPath><clipPath class=\"axesclip\" id=\"clip184629x10y6\"><rect x=\"95\" y=\"1597.2263374485594\" width=\"625\" height=\"251.83045267489734\"/></clipPath><clipPath class=\"axesclip\" id=\"clip184629x10y7\"><rect x=\"95\" y=\"1887.4716049382716\" width=\"625\" height=\"251.83045267489734\"/></clipPath><clipPath class=\"axesclip\" id=\"clip184629x10y8\"><rect x=\"95\" y=\"2177.7168724279836\" width=\"625\" height=\"251.83045267489734\"/></clipPath><clipPath class=\"axesclip\" id=\"clip184629x10y9\"><rect x=\"95\" y=\"2467.9621399176954\" width=\"625\" height=\"251.83045267489734\"/></clipPath><clipPath class=\"axesclip\" id=\"clip184629x10y10\"><rect x=\"95\" y=\"2758.2074074074076\" width=\"625\" height=\"251.83045267489706\"/></clipPath><clipPath class=\"axesclip\" id=\"clip184629x10y11\"><rect x=\"95\" y=\"3048.4526748971193\" width=\"625\" height=\"251.83045267489706\"/></clipPath><clipPath class=\"axesclip\" id=\"clip184629x10y12\"><rect x=\"95\" y=\"3338.697942386831\" width=\"625\" height=\"251.83045267489706\"/></clipPath><clipPath class=\"axesclip\" id=\"clip184629x10y13\"><rect x=\"95\" y=\"3628.9432098765433\" width=\"625\" height=\"251.83045267489706\"/></clipPath><clipPath class=\"axesclip\" id=\"clip184629x10y14\"><rect x=\"95\" y=\"3919.1884773662555\" width=\"625\" height=\"251.83045267489706\"/></clipPath><clipPath class=\"axesclip\" id=\"clip184629x10y15\"><rect x=\"95\" y=\"4209.433744855967\" width=\"625\" height=\"251.83045267489706\"/></clipPath><clipPath class=\"axesclip\" id=\"clip184629x10y16\"><rect x=\"95\" y=\"4499.6790123456785\" width=\"625\" height=\"251.83045267489706\"/></clipPath><clipPath class=\"axesclip\" id=\"clip184629x10y17\"><rect x=\"95\" y=\"4789.924279835391\" width=\"625\" height=\"251.83045267489706\"/></clipPath><clipPath class=\"axesclip\" id=\"clip184629x10y18\"><rect x=\"95\" y=\"5080.169547325103\" width=\"625\" height=\"251.83045267489712\"/></clipPath><clipPath class=\"axesclip\" id=\"clip184629x11\"><rect x=\"95\" y=\"0\" width=\"625\" height=\"5400\"/></clipPath><clipPath class=\"axesclip\" id=\"clip184629x11y\"><rect x=\"95\" y=\"146\" width=\"625\" height=\"251.83045267489564\"/></clipPath><clipPath class=\"axesclip\" id=\"clip184629x11y2\"><rect x=\"95\" y=\"436.2452674897105\" width=\"625\" height=\"251.83045267489734\"/></clipPath><clipPath class=\"axesclip\" id=\"clip184629x11y3\"><rect x=\"95\" y=\"726.4905349794227\" width=\"625\" height=\"251.83045267489734\"/></clipPath><clipPath class=\"axesclip\" id=\"clip184629x11y4\"><rect x=\"95\" y=\"1016.7358024691349\" width=\"625\" height=\"251.83045267489734\"/></clipPath><clipPath class=\"axesclip\" id=\"clip184629x11y5\"><rect x=\"95\" y=\"1306.9810699588472\" width=\"625\" height=\"251.83045267489734\"/></clipPath><clipPath class=\"axesclip\" id=\"clip184629x11y6\"><rect x=\"95\" y=\"1597.2263374485594\" width=\"625\" height=\"251.83045267489734\"/></clipPath><clipPath class=\"axesclip\" id=\"clip184629x11y7\"><rect x=\"95\" y=\"1887.4716049382716\" width=\"625\" height=\"251.83045267489734\"/></clipPath><clipPath class=\"axesclip\" id=\"clip184629x11y8\"><rect x=\"95\" y=\"2177.7168724279836\" width=\"625\" height=\"251.83045267489734\"/></clipPath><clipPath class=\"axesclip\" id=\"clip184629x11y9\"><rect x=\"95\" y=\"2467.9621399176954\" width=\"625\" height=\"251.83045267489734\"/></clipPath><clipPath class=\"axesclip\" id=\"clip184629x11y10\"><rect x=\"95\" y=\"2758.2074074074076\" width=\"625\" height=\"251.83045267489706\"/></clipPath><clipPath class=\"axesclip\" id=\"clip184629x11y11\"><rect x=\"95\" y=\"3048.4526748971193\" width=\"625\" height=\"251.83045267489706\"/></clipPath><clipPath class=\"axesclip\" id=\"clip184629x11y12\"><rect x=\"95\" y=\"3338.697942386831\" width=\"625\" height=\"251.83045267489706\"/></clipPath><clipPath class=\"axesclip\" id=\"clip184629x11y13\"><rect x=\"95\" y=\"3628.9432098765433\" width=\"625\" height=\"251.83045267489706\"/></clipPath><clipPath class=\"axesclip\" id=\"clip184629x11y14\"><rect x=\"95\" y=\"3919.1884773662555\" width=\"625\" height=\"251.83045267489706\"/></clipPath><clipPath class=\"axesclip\" id=\"clip184629x11y15\"><rect x=\"95\" y=\"4209.433744855967\" width=\"625\" height=\"251.83045267489706\"/></clipPath><clipPath class=\"axesclip\" id=\"clip184629x11y16\"><rect x=\"95\" y=\"4499.6790123456785\" width=\"625\" height=\"251.83045267489706\"/></clipPath><clipPath class=\"axesclip\" id=\"clip184629x11y17\"><rect x=\"95\" y=\"4789.924279835391\" width=\"625\" height=\"251.83045267489706\"/></clipPath><clipPath class=\"axesclip\" id=\"clip184629x11y18\"><rect x=\"95\" y=\"5080.169547325103\" width=\"625\" height=\"251.83045267489712\"/></clipPath><clipPath class=\"axesclip\" id=\"clip184629x12\"><rect x=\"95\" y=\"0\" width=\"625\" height=\"5400\"/></clipPath><clipPath class=\"axesclip\" id=\"clip184629x12y\"><rect x=\"95\" y=\"146\" width=\"625\" height=\"251.83045267489564\"/></clipPath><clipPath class=\"axesclip\" id=\"clip184629x12y2\"><rect x=\"95\" y=\"436.2452674897105\" width=\"625\" height=\"251.83045267489734\"/></clipPath><clipPath class=\"axesclip\" id=\"clip184629x12y3\"><rect x=\"95\" y=\"726.4905349794227\" width=\"625\" height=\"251.83045267489734\"/></clipPath><clipPath class=\"axesclip\" id=\"clip184629x12y4\"><rect x=\"95\" y=\"1016.7358024691349\" width=\"625\" height=\"251.83045267489734\"/></clipPath><clipPath class=\"axesclip\" id=\"clip184629x12y5\"><rect x=\"95\" y=\"1306.9810699588472\" width=\"625\" height=\"251.83045267489734\"/></clipPath><clipPath class=\"axesclip\" id=\"clip184629x12y6\"><rect x=\"95\" y=\"1597.2263374485594\" width=\"625\" height=\"251.83045267489734\"/></clipPath><clipPath class=\"axesclip\" id=\"clip184629x12y7\"><rect x=\"95\" y=\"1887.4716049382716\" width=\"625\" height=\"251.83045267489734\"/></clipPath><clipPath class=\"axesclip\" id=\"clip184629x12y8\"><rect x=\"95\" y=\"2177.7168724279836\" width=\"625\" height=\"251.83045267489734\"/></clipPath><clipPath class=\"axesclip\" id=\"clip184629x12y9\"><rect x=\"95\" y=\"2467.9621399176954\" width=\"625\" height=\"251.83045267489734\"/></clipPath><clipPath class=\"axesclip\" id=\"clip184629x12y10\"><rect x=\"95\" y=\"2758.2074074074076\" width=\"625\" height=\"251.83045267489706\"/></clipPath><clipPath class=\"axesclip\" id=\"clip184629x12y11\"><rect x=\"95\" y=\"3048.4526748971193\" width=\"625\" height=\"251.83045267489706\"/></clipPath><clipPath class=\"axesclip\" id=\"clip184629x12y12\"><rect x=\"95\" y=\"3338.697942386831\" width=\"625\" height=\"251.83045267489706\"/></clipPath><clipPath class=\"axesclip\" id=\"clip184629x12y13\"><rect x=\"95\" y=\"3628.9432098765433\" width=\"625\" height=\"251.83045267489706\"/></clipPath><clipPath class=\"axesclip\" id=\"clip184629x12y14\"><rect x=\"95\" y=\"3919.1884773662555\" width=\"625\" height=\"251.83045267489706\"/></clipPath><clipPath class=\"axesclip\" id=\"clip184629x12y15\"><rect x=\"95\" y=\"4209.433744855967\" width=\"625\" height=\"251.83045267489706\"/></clipPath><clipPath class=\"axesclip\" id=\"clip184629x12y16\"><rect x=\"95\" y=\"4499.6790123456785\" width=\"625\" height=\"251.83045267489706\"/></clipPath><clipPath class=\"axesclip\" id=\"clip184629x12y17\"><rect x=\"95\" y=\"4789.924279835391\" width=\"625\" height=\"251.83045267489706\"/></clipPath><clipPath class=\"axesclip\" id=\"clip184629x12y18\"><rect x=\"95\" y=\"5080.169547325103\" width=\"625\" height=\"251.83045267489712\"/></clipPath><clipPath class=\"axesclip\" id=\"clip184629x13\"><rect x=\"95\" y=\"0\" width=\"625\" height=\"5400\"/></clipPath><clipPath class=\"axesclip\" id=\"clip184629x13y\"><rect x=\"95\" y=\"146\" width=\"625\" height=\"251.83045267489564\"/></clipPath><clipPath class=\"axesclip\" id=\"clip184629x13y2\"><rect x=\"95\" y=\"436.2452674897105\" width=\"625\" height=\"251.83045267489734\"/></clipPath><clipPath class=\"axesclip\" id=\"clip184629x13y3\"><rect x=\"95\" y=\"726.4905349794227\" width=\"625\" height=\"251.83045267489734\"/></clipPath><clipPath class=\"axesclip\" id=\"clip184629x13y4\"><rect x=\"95\" y=\"1016.7358024691349\" width=\"625\" height=\"251.83045267489734\"/></clipPath><clipPath class=\"axesclip\" id=\"clip184629x13y5\"><rect x=\"95\" y=\"1306.9810699588472\" width=\"625\" height=\"251.83045267489734\"/></clipPath><clipPath class=\"axesclip\" id=\"clip184629x13y6\"><rect x=\"95\" y=\"1597.2263374485594\" width=\"625\" height=\"251.83045267489734\"/></clipPath><clipPath class=\"axesclip\" id=\"clip184629x13y7\"><rect x=\"95\" y=\"1887.4716049382716\" width=\"625\" height=\"251.83045267489734\"/></clipPath><clipPath class=\"axesclip\" id=\"clip184629x13y8\"><rect x=\"95\" y=\"2177.7168724279836\" width=\"625\" height=\"251.83045267489734\"/></clipPath><clipPath class=\"axesclip\" id=\"clip184629x13y9\"><rect x=\"95\" y=\"2467.9621399176954\" width=\"625\" height=\"251.83045267489734\"/></clipPath><clipPath class=\"axesclip\" id=\"clip184629x13y10\"><rect x=\"95\" y=\"2758.2074074074076\" width=\"625\" height=\"251.83045267489706\"/></clipPath><clipPath class=\"axesclip\" id=\"clip184629x13y11\"><rect x=\"95\" y=\"3048.4526748971193\" width=\"625\" height=\"251.83045267489706\"/></clipPath><clipPath class=\"axesclip\" id=\"clip184629x13y12\"><rect x=\"95\" y=\"3338.697942386831\" width=\"625\" height=\"251.83045267489706\"/></clipPath><clipPath class=\"axesclip\" id=\"clip184629x13y13\"><rect x=\"95\" y=\"3628.9432098765433\" width=\"625\" height=\"251.83045267489706\"/></clipPath><clipPath class=\"axesclip\" id=\"clip184629x13y14\"><rect x=\"95\" y=\"3919.1884773662555\" width=\"625\" height=\"251.83045267489706\"/></clipPath><clipPath class=\"axesclip\" id=\"clip184629x13y15\"><rect x=\"95\" y=\"4209.433744855967\" width=\"625\" height=\"251.83045267489706\"/></clipPath><clipPath class=\"axesclip\" id=\"clip184629x13y16\"><rect x=\"95\" y=\"4499.6790123456785\" width=\"625\" height=\"251.83045267489706\"/></clipPath><clipPath class=\"axesclip\" id=\"clip184629x13y17\"><rect x=\"95\" y=\"4789.924279835391\" width=\"625\" height=\"251.83045267489706\"/></clipPath><clipPath class=\"axesclip\" id=\"clip184629x13y18\"><rect x=\"95\" y=\"5080.169547325103\" width=\"625\" height=\"251.83045267489712\"/></clipPath><clipPath class=\"axesclip\" id=\"clip184629x14\"><rect x=\"95\" y=\"0\" width=\"625\" height=\"5400\"/></clipPath><clipPath class=\"axesclip\" id=\"clip184629x14y\"><rect x=\"95\" y=\"146\" width=\"625\" height=\"251.83045267489564\"/></clipPath><clipPath class=\"axesclip\" id=\"clip184629x14y2\"><rect x=\"95\" y=\"436.2452674897105\" width=\"625\" height=\"251.83045267489734\"/></clipPath><clipPath class=\"axesclip\" id=\"clip184629x14y3\"><rect x=\"95\" y=\"726.4905349794227\" width=\"625\" height=\"251.83045267489734\"/></clipPath><clipPath class=\"axesclip\" id=\"clip184629x14y4\"><rect x=\"95\" y=\"1016.7358024691349\" width=\"625\" height=\"251.83045267489734\"/></clipPath><clipPath class=\"axesclip\" id=\"clip184629x14y5\"><rect x=\"95\" y=\"1306.9810699588472\" width=\"625\" height=\"251.83045267489734\"/></clipPath><clipPath class=\"axesclip\" id=\"clip184629x14y6\"><rect x=\"95\" y=\"1597.2263374485594\" width=\"625\" height=\"251.83045267489734\"/></clipPath><clipPath class=\"axesclip\" id=\"clip184629x14y7\"><rect x=\"95\" y=\"1887.4716049382716\" width=\"625\" height=\"251.83045267489734\"/></clipPath><clipPath class=\"axesclip\" id=\"clip184629x14y8\"><rect x=\"95\" y=\"2177.7168724279836\" width=\"625\" height=\"251.83045267489734\"/></clipPath><clipPath class=\"axesclip\" id=\"clip184629x14y9\"><rect x=\"95\" y=\"2467.9621399176954\" width=\"625\" height=\"251.83045267489734\"/></clipPath><clipPath class=\"axesclip\" id=\"clip184629x14y10\"><rect x=\"95\" y=\"2758.2074074074076\" width=\"625\" height=\"251.83045267489706\"/></clipPath><clipPath class=\"axesclip\" id=\"clip184629x14y11\"><rect x=\"95\" y=\"3048.4526748971193\" width=\"625\" height=\"251.83045267489706\"/></clipPath><clipPath class=\"axesclip\" id=\"clip184629x14y12\"><rect x=\"95\" y=\"3338.697942386831\" width=\"625\" height=\"251.83045267489706\"/></clipPath><clipPath class=\"axesclip\" id=\"clip184629x14y13\"><rect x=\"95\" y=\"3628.9432098765433\" width=\"625\" height=\"251.83045267489706\"/></clipPath><clipPath class=\"axesclip\" id=\"clip184629x14y14\"><rect x=\"95\" y=\"3919.1884773662555\" width=\"625\" height=\"251.83045267489706\"/></clipPath><clipPath class=\"axesclip\" id=\"clip184629x14y15\"><rect x=\"95\" y=\"4209.433744855967\" width=\"625\" height=\"251.83045267489706\"/></clipPath><clipPath class=\"axesclip\" id=\"clip184629x14y16\"><rect x=\"95\" y=\"4499.6790123456785\" width=\"625\" height=\"251.83045267489706\"/></clipPath><clipPath class=\"axesclip\" id=\"clip184629x14y17\"><rect x=\"95\" y=\"4789.924279835391\" width=\"625\" height=\"251.83045267489706\"/></clipPath><clipPath class=\"axesclip\" id=\"clip184629x14y18\"><rect x=\"95\" y=\"5080.169547325103\" width=\"625\" height=\"251.83045267489712\"/></clipPath><clipPath class=\"axesclip\" id=\"clip184629x15\"><rect x=\"95\" y=\"0\" width=\"625\" height=\"5400\"/></clipPath><clipPath class=\"axesclip\" id=\"clip184629x15y\"><rect x=\"95\" y=\"146\" width=\"625\" height=\"251.83045267489564\"/></clipPath><clipPath class=\"axesclip\" id=\"clip184629x15y2\"><rect x=\"95\" y=\"436.2452674897105\" width=\"625\" height=\"251.83045267489734\"/></clipPath><clipPath class=\"axesclip\" id=\"clip184629x15y3\"><rect x=\"95\" y=\"726.4905349794227\" width=\"625\" height=\"251.83045267489734\"/></clipPath><clipPath class=\"axesclip\" id=\"clip184629x15y4\"><rect x=\"95\" y=\"1016.7358024691349\" width=\"625\" height=\"251.83045267489734\"/></clipPath><clipPath class=\"axesclip\" id=\"clip184629x15y5\"><rect x=\"95\" y=\"1306.9810699588472\" width=\"625\" height=\"251.83045267489734\"/></clipPath><clipPath class=\"axesclip\" id=\"clip184629x15y6\"><rect x=\"95\" y=\"1597.2263374485594\" width=\"625\" height=\"251.83045267489734\"/></clipPath><clipPath class=\"axesclip\" id=\"clip184629x15y7\"><rect x=\"95\" y=\"1887.4716049382716\" width=\"625\" height=\"251.83045267489734\"/></clipPath><clipPath class=\"axesclip\" id=\"clip184629x15y8\"><rect x=\"95\" y=\"2177.7168724279836\" width=\"625\" height=\"251.83045267489734\"/></clipPath><clipPath class=\"axesclip\" id=\"clip184629x15y9\"><rect x=\"95\" y=\"2467.9621399176954\" width=\"625\" height=\"251.83045267489734\"/></clipPath><clipPath class=\"axesclip\" id=\"clip184629x15y10\"><rect x=\"95\" y=\"2758.2074074074076\" width=\"625\" height=\"251.83045267489706\"/></clipPath><clipPath class=\"axesclip\" id=\"clip184629x15y11\"><rect x=\"95\" y=\"3048.4526748971193\" width=\"625\" height=\"251.83045267489706\"/></clipPath><clipPath class=\"axesclip\" id=\"clip184629x15y12\"><rect x=\"95\" y=\"3338.697942386831\" width=\"625\" height=\"251.83045267489706\"/></clipPath><clipPath class=\"axesclip\" id=\"clip184629x15y13\"><rect x=\"95\" y=\"3628.9432098765433\" width=\"625\" height=\"251.83045267489706\"/></clipPath><clipPath class=\"axesclip\" id=\"clip184629x15y14\"><rect x=\"95\" y=\"3919.1884773662555\" width=\"625\" height=\"251.83045267489706\"/></clipPath><clipPath class=\"axesclip\" id=\"clip184629x15y15\"><rect x=\"95\" y=\"4209.433744855967\" width=\"625\" height=\"251.83045267489706\"/></clipPath><clipPath class=\"axesclip\" id=\"clip184629x15y16\"><rect x=\"95\" y=\"4499.6790123456785\" width=\"625\" height=\"251.83045267489706\"/></clipPath><clipPath class=\"axesclip\" id=\"clip184629x15y17\"><rect x=\"95\" y=\"4789.924279835391\" width=\"625\" height=\"251.83045267489706\"/></clipPath><clipPath class=\"axesclip\" id=\"clip184629x15y18\"><rect x=\"95\" y=\"5080.169547325103\" width=\"625\" height=\"251.83045267489712\"/></clipPath><clipPath class=\"axesclip\" id=\"clip184629x16\"><rect x=\"95\" y=\"0\" width=\"625\" height=\"5400\"/></clipPath><clipPath class=\"axesclip\" id=\"clip184629x16y\"><rect x=\"95\" y=\"146\" width=\"625\" height=\"251.83045267489564\"/></clipPath><clipPath class=\"axesclip\" id=\"clip184629x16y2\"><rect x=\"95\" y=\"436.2452674897105\" width=\"625\" height=\"251.83045267489734\"/></clipPath><clipPath class=\"axesclip\" id=\"clip184629x16y3\"><rect x=\"95\" y=\"726.4905349794227\" width=\"625\" height=\"251.83045267489734\"/></clipPath><clipPath class=\"axesclip\" id=\"clip184629x16y4\"><rect x=\"95\" y=\"1016.7358024691349\" width=\"625\" height=\"251.83045267489734\"/></clipPath><clipPath class=\"axesclip\" id=\"clip184629x16y5\"><rect x=\"95\" y=\"1306.9810699588472\" width=\"625\" height=\"251.83045267489734\"/></clipPath><clipPath class=\"axesclip\" id=\"clip184629x16y6\"><rect x=\"95\" y=\"1597.2263374485594\" width=\"625\" height=\"251.83045267489734\"/></clipPath><clipPath class=\"axesclip\" id=\"clip184629x16y7\"><rect x=\"95\" y=\"1887.4716049382716\" width=\"625\" height=\"251.83045267489734\"/></clipPath><clipPath class=\"axesclip\" id=\"clip184629x16y8\"><rect x=\"95\" y=\"2177.7168724279836\" width=\"625\" height=\"251.83045267489734\"/></clipPath><clipPath class=\"axesclip\" id=\"clip184629x16y9\"><rect x=\"95\" y=\"2467.9621399176954\" width=\"625\" height=\"251.83045267489734\"/></clipPath><clipPath class=\"axesclip\" id=\"clip184629x16y10\"><rect x=\"95\" y=\"2758.2074074074076\" width=\"625\" height=\"251.83045267489706\"/></clipPath><clipPath class=\"axesclip\" id=\"clip184629x16y11\"><rect x=\"95\" y=\"3048.4526748971193\" width=\"625\" height=\"251.83045267489706\"/></clipPath><clipPath class=\"axesclip\" id=\"clip184629x16y12\"><rect x=\"95\" y=\"3338.697942386831\" width=\"625\" height=\"251.83045267489706\"/></clipPath><clipPath class=\"axesclip\" id=\"clip184629x16y13\"><rect x=\"95\" y=\"3628.9432098765433\" width=\"625\" height=\"251.83045267489706\"/></clipPath><clipPath class=\"axesclip\" id=\"clip184629x16y14\"><rect x=\"95\" y=\"3919.1884773662555\" width=\"625\" height=\"251.83045267489706\"/></clipPath><clipPath class=\"axesclip\" id=\"clip184629x16y15\"><rect x=\"95\" y=\"4209.433744855967\" width=\"625\" height=\"251.83045267489706\"/></clipPath><clipPath class=\"axesclip\" id=\"clip184629x16y16\"><rect x=\"95\" y=\"4499.6790123456785\" width=\"625\" height=\"251.83045267489706\"/></clipPath><clipPath class=\"axesclip\" id=\"clip184629x16y17\"><rect x=\"95\" y=\"4789.924279835391\" width=\"625\" height=\"251.83045267489706\"/></clipPath><clipPath class=\"axesclip\" id=\"clip184629x16y18\"><rect x=\"95\" y=\"5080.169547325103\" width=\"625\" height=\"251.83045267489712\"/></clipPath><clipPath class=\"axesclip\" id=\"clip184629x17\"><rect x=\"95\" y=\"0\" width=\"625\" height=\"5400\"/></clipPath><clipPath class=\"axesclip\" id=\"clip184629x17y\"><rect x=\"95\" y=\"146\" width=\"625\" height=\"251.83045267489564\"/></clipPath><clipPath class=\"axesclip\" id=\"clip184629x17y2\"><rect x=\"95\" y=\"436.2452674897105\" width=\"625\" height=\"251.83045267489734\"/></clipPath><clipPath class=\"axesclip\" id=\"clip184629x17y3\"><rect x=\"95\" y=\"726.4905349794227\" width=\"625\" height=\"251.83045267489734\"/></clipPath><clipPath class=\"axesclip\" id=\"clip184629x17y4\"><rect x=\"95\" y=\"1016.7358024691349\" width=\"625\" height=\"251.83045267489734\"/></clipPath><clipPath class=\"axesclip\" id=\"clip184629x17y5\"><rect x=\"95\" y=\"1306.9810699588472\" width=\"625\" height=\"251.83045267489734\"/></clipPath><clipPath class=\"axesclip\" id=\"clip184629x17y6\"><rect x=\"95\" y=\"1597.2263374485594\" width=\"625\" height=\"251.83045267489734\"/></clipPath><clipPath class=\"axesclip\" id=\"clip184629x17y7\"><rect x=\"95\" y=\"1887.4716049382716\" width=\"625\" height=\"251.83045267489734\"/></clipPath><clipPath class=\"axesclip\" id=\"clip184629x17y8\"><rect x=\"95\" y=\"2177.7168724279836\" width=\"625\" height=\"251.83045267489734\"/></clipPath><clipPath class=\"axesclip\" id=\"clip184629x17y9\"><rect x=\"95\" y=\"2467.9621399176954\" width=\"625\" height=\"251.83045267489734\"/></clipPath><clipPath class=\"axesclip\" id=\"clip184629x17y10\"><rect x=\"95\" y=\"2758.2074074074076\" width=\"625\" height=\"251.83045267489706\"/></clipPath><clipPath class=\"axesclip\" id=\"clip184629x17y11\"><rect x=\"95\" y=\"3048.4526748971193\" width=\"625\" height=\"251.83045267489706\"/></clipPath><clipPath class=\"axesclip\" id=\"clip184629x17y12\"><rect x=\"95\" y=\"3338.697942386831\" width=\"625\" height=\"251.83045267489706\"/></clipPath><clipPath class=\"axesclip\" id=\"clip184629x17y13\"><rect x=\"95\" y=\"3628.9432098765433\" width=\"625\" height=\"251.83045267489706\"/></clipPath><clipPath class=\"axesclip\" id=\"clip184629x17y14\"><rect x=\"95\" y=\"3919.1884773662555\" width=\"625\" height=\"251.83045267489706\"/></clipPath><clipPath class=\"axesclip\" id=\"clip184629x17y15\"><rect x=\"95\" y=\"4209.433744855967\" width=\"625\" height=\"251.83045267489706\"/></clipPath><clipPath class=\"axesclip\" id=\"clip184629x17y16\"><rect x=\"95\" y=\"4499.6790123456785\" width=\"625\" height=\"251.83045267489706\"/></clipPath><clipPath class=\"axesclip\" id=\"clip184629x17y17\"><rect x=\"95\" y=\"4789.924279835391\" width=\"625\" height=\"251.83045267489706\"/></clipPath><clipPath class=\"axesclip\" id=\"clip184629x17y18\"><rect x=\"95\" y=\"5080.169547325103\" width=\"625\" height=\"251.83045267489712\"/></clipPath><clipPath class=\"axesclip\" id=\"clip184629x18\"><rect x=\"95\" y=\"0\" width=\"625\" height=\"5400\"/></clipPath><clipPath class=\"axesclip\" id=\"clip184629x18y\"><rect x=\"95\" y=\"146\" width=\"625\" height=\"251.83045267489564\"/></clipPath><clipPath class=\"axesclip\" id=\"clip184629x18y2\"><rect x=\"95\" y=\"436.2452674897105\" width=\"625\" height=\"251.83045267489734\"/></clipPath><clipPath class=\"axesclip\" id=\"clip184629x18y3\"><rect x=\"95\" y=\"726.4905349794227\" width=\"625\" height=\"251.83045267489734\"/></clipPath><clipPath class=\"axesclip\" id=\"clip184629x18y4\"><rect x=\"95\" y=\"1016.7358024691349\" width=\"625\" height=\"251.83045267489734\"/></clipPath><clipPath class=\"axesclip\" id=\"clip184629x18y5\"><rect x=\"95\" y=\"1306.9810699588472\" width=\"625\" height=\"251.83045267489734\"/></clipPath><clipPath class=\"axesclip\" id=\"clip184629x18y6\"><rect x=\"95\" y=\"1597.2263374485594\" width=\"625\" height=\"251.83045267489734\"/></clipPath><clipPath class=\"axesclip\" id=\"clip184629x18y7\"><rect x=\"95\" y=\"1887.4716049382716\" width=\"625\" height=\"251.83045267489734\"/></clipPath><clipPath class=\"axesclip\" id=\"clip184629x18y8\"><rect x=\"95\" y=\"2177.7168724279836\" width=\"625\" height=\"251.83045267489734\"/></clipPath><clipPath class=\"axesclip\" id=\"clip184629x18y9\"><rect x=\"95\" y=\"2467.9621399176954\" width=\"625\" height=\"251.83045267489734\"/></clipPath><clipPath class=\"axesclip\" id=\"clip184629x18y10\"><rect x=\"95\" y=\"2758.2074074074076\" width=\"625\" height=\"251.83045267489706\"/></clipPath><clipPath class=\"axesclip\" id=\"clip184629x18y11\"><rect x=\"95\" y=\"3048.4526748971193\" width=\"625\" height=\"251.83045267489706\"/></clipPath><clipPath class=\"axesclip\" id=\"clip184629x18y12\"><rect x=\"95\" y=\"3338.697942386831\" width=\"625\" height=\"251.83045267489706\"/></clipPath><clipPath class=\"axesclip\" id=\"clip184629x18y13\"><rect x=\"95\" y=\"3628.9432098765433\" width=\"625\" height=\"251.83045267489706\"/></clipPath><clipPath class=\"axesclip\" id=\"clip184629x18y14\"><rect x=\"95\" y=\"3919.1884773662555\" width=\"625\" height=\"251.83045267489706\"/></clipPath><clipPath class=\"axesclip\" id=\"clip184629x18y15\"><rect x=\"95\" y=\"4209.433744855967\" width=\"625\" height=\"251.83045267489706\"/></clipPath><clipPath class=\"axesclip\" id=\"clip184629x18y16\"><rect x=\"95\" y=\"4499.6790123456785\" width=\"625\" height=\"251.83045267489706\"/></clipPath><clipPath class=\"axesclip\" id=\"clip184629x18y17\"><rect x=\"95\" y=\"4789.924279835391\" width=\"625\" height=\"251.83045267489706\"/></clipPath><clipPath class=\"axesclip\" id=\"clip184629x18y18\"><rect x=\"95\" y=\"5080.169547325103\" width=\"625\" height=\"251.83045267489712\"/></clipPath></g><g class=\"gradients\"/></defs><g class=\"bglayer\"><rect class=\"bg\" x=\"95\" y=\"146\" width=\"625\" height=\"251.83045267489564\" style=\"fill: rgb(229, 236, 246); fill-opacity: 1; stroke-width: 0;\"/><rect class=\"bg\" x=\"95\" y=\"436.2452674897105\" width=\"625\" height=\"251.83045267489734\" style=\"fill: rgb(229, 236, 246); fill-opacity: 1; stroke-width: 0;\"/><rect class=\"bg\" x=\"95\" y=\"726.4905349794227\" width=\"625\" height=\"251.83045267489734\" style=\"fill: rgb(229, 236, 246); fill-opacity: 1; stroke-width: 0;\"/><rect class=\"bg\" x=\"95\" y=\"1016.7358024691349\" width=\"625\" height=\"251.83045267489734\" style=\"fill: rgb(229, 236, 246); fill-opacity: 1; stroke-width: 0;\"/><rect class=\"bg\" x=\"95\" y=\"1306.9810699588472\" width=\"625\" height=\"251.83045267489734\" style=\"fill: rgb(229, 236, 246); fill-opacity: 1; stroke-width: 0;\"/><rect class=\"bg\" x=\"95\" y=\"1597.2263374485594\" width=\"625\" height=\"251.83045267489734\" style=\"fill: rgb(229, 236, 246); fill-opacity: 1; stroke-width: 0;\"/><rect class=\"bg\" x=\"95\" y=\"1887.4716049382716\" width=\"625\" height=\"251.83045267489734\" style=\"fill: rgb(229, 236, 246); fill-opacity: 1; stroke-width: 0;\"/><rect class=\"bg\" x=\"95\" y=\"2177.7168724279836\" width=\"625\" height=\"251.83045267489734\" style=\"fill: rgb(229, 236, 246); fill-opacity: 1; stroke-width: 0;\"/><rect class=\"bg\" x=\"95\" y=\"2467.9621399176954\" width=\"625\" height=\"251.83045267489734\" style=\"fill: rgb(229, 236, 246); fill-opacity: 1; stroke-width: 0;\"/><rect class=\"bg\" x=\"95\" y=\"2758.2074074074076\" width=\"625\" height=\"251.83045267489706\" style=\"fill: rgb(229, 236, 246); fill-opacity: 1; stroke-width: 0;\"/><rect class=\"bg\" x=\"95\" y=\"3048.4526748971193\" width=\"625\" height=\"251.83045267489706\" style=\"fill: rgb(229, 236, 246); fill-opacity: 1; stroke-width: 0;\"/><rect class=\"bg\" x=\"95\" y=\"3338.697942386831\" width=\"625\" height=\"251.83045267489706\" style=\"fill: rgb(229, 236, 246); fill-opacity: 1; stroke-width: 0;\"/><rect class=\"bg\" x=\"95\" y=\"3628.9432098765433\" width=\"625\" height=\"251.83045267489706\" style=\"fill: rgb(229, 236, 246); fill-opacity: 1; stroke-width: 0;\"/><rect class=\"bg\" x=\"95\" y=\"3919.1884773662555\" width=\"625\" height=\"251.83045267489706\" style=\"fill: rgb(229, 236, 246); fill-opacity: 1; stroke-width: 0;\"/><rect class=\"bg\" x=\"95\" y=\"4209.433744855967\" width=\"625\" height=\"251.83045267489706\" style=\"fill: rgb(229, 236, 246); fill-opacity: 1; stroke-width: 0;\"/><rect class=\"bg\" x=\"95\" y=\"4499.6790123456785\" width=\"625\" height=\"251.83045267489706\" style=\"fill: rgb(229, 236, 246); fill-opacity: 1; stroke-width: 0;\"/><rect class=\"bg\" x=\"95\" y=\"4789.924279835391\" width=\"625\" height=\"251.83045267489706\" style=\"fill: rgb(229, 236, 246); fill-opacity: 1; stroke-width: 0;\"/><rect class=\"bg\" x=\"95\" y=\"5080.169547325103\" width=\"625\" height=\"251.83045267489712\" style=\"fill: rgb(229, 236, 246); fill-opacity: 1; stroke-width: 0;\"/></g><g class=\"layer-below\"><g class=\"imagelayer\"/><g class=\"shapelayer\"><path data-index=\"15\" fill-rule=\"evenodd\" d=\"M130.21,4461.264197530864H683.75V4209.433744855967H130.21Z\" clip-path=\"url('#clip184629x15')\" style=\"opacity: 0.2; stroke: rgb(0, 0, 0); stroke-opacity: 0; fill: rgb(255, 165, 0); fill-opacity: 1; stroke-width: 0px;\"/></g></g><g class=\"cartesianlayer\"><g class=\"subplot xy\"><g class=\"layer-subplot\"><g class=\"shapelayer\"/><g class=\"imagelayer\"/></g><g class=\"gridlayer\"><g class=\"x\"><path class=\"xgrid crisp\" transform=\"translate(130.21,0)\" d=\"M0,146v251.83045267489564\" style=\"stroke: rgb(255, 255, 255); stroke-opacity: 1; stroke-width: 1px;\"/><path class=\"xgrid crisp\" transform=\"translate(268.6,0)\" d=\"M0,146v251.83045267489564\" style=\"stroke: rgb(255, 255, 255); stroke-opacity: 1; stroke-width: 1px;\"/><path class=\"xgrid crisp\" transform=\"translate(406.98,0)\" d=\"M0,146v251.83045267489564\" style=\"stroke: rgb(255, 255, 255); stroke-opacity: 1; stroke-width: 1px;\"/><path class=\"xgrid crisp\" transform=\"translate(545.37,0)\" d=\"M0,146v251.83045267489564\" style=\"stroke: rgb(255, 255, 255); stroke-opacity: 1; stroke-width: 1px;\"/><path class=\"xgrid crisp\" transform=\"translate(683.75,0)\" d=\"M0,146v251.83045267489564\" style=\"stroke: rgb(255, 255, 255); stroke-opacity: 1; stroke-width: 1px;\"/></g><g class=\"y\"><path class=\"ygrid crisp\" transform=\"translate(0,381.49)\" d=\"M95,0h625\" style=\"stroke: rgb(255, 255, 255); stroke-opacity: 1; stroke-width: 1px;\"/><path class=\"ygrid crisp\" transform=\"translate(0,345.77)\" d=\"M95,0h625\" style=\"stroke: rgb(255, 255, 255); stroke-opacity: 1; stroke-width: 1px;\"/><path class=\"ygrid crisp\" transform=\"translate(0,310.05)\" d=\"M95,0h625\" style=\"stroke: rgb(255, 255, 255); stroke-opacity: 1; stroke-width: 1px;\"/><path class=\"ygrid crisp\" transform=\"translate(0,274.33000000000004)\" d=\"M95,0h625\" style=\"stroke: rgb(255, 255, 255); stroke-opacity: 1; stroke-width: 1px;\"/><path class=\"ygrid crisp\" transform=\"translate(0,238.61)\" d=\"M95,0h625\" style=\"stroke: rgb(255, 255, 255); stroke-opacity: 1; stroke-width: 1px;\"/><path class=\"ygrid crisp\" transform=\"translate(0,202.88)\" d=\"M95,0h625\" style=\"stroke: rgb(255, 255, 255); stroke-opacity: 1; stroke-width: 1px;\"/><path class=\"ygrid crisp\" transform=\"translate(0,167.16)\" d=\"M95,0h625\" style=\"stroke: rgb(255, 255, 255); stroke-opacity: 1; stroke-width: 1px;\"/></g></g><g class=\"zerolinelayer\"/><path class=\"xlines-below\"/><path class=\"ylines-below\"/><g class=\"overlines-below\"/><g class=\"xaxislayer-below\"/><g class=\"yaxislayer-below\"/><g class=\"overaxes-below\"/><g class=\"plot\" transform=\"translate(95,146)\" clip-path=\"url('#clip184629xyplot')\"><g class=\"scatterlayer mlayer\"><g class=\"trace scatter trace4ef8e34a-5710-41c2-b772-72be40a7433e\" style=\"stroke-miterlimit: 2; opacity: 1;\"><g class=\"fills\"/><g class=\"errorbars\"/><g class=\"lines\"><path class=\"js-line\" d=\"M173.6,235.49L588.75,21.16\" style=\"vector-effect: non-scaling-stroke; fill: none; stroke: rgb(31, 119, 180); stroke-opacity: 1; stroke-width: 2px; opacity: 1;\"/></g><g class=\"points\"><path class=\"point\" transform=\"translate(173.6,235.49)\" d=\"M3,0A3,3 0 1,1 0,-3A3,3 0 0,1 3,0Z\" style=\"opacity: 1; stroke-width: 0px; fill: rgb(31, 119, 180); fill-opacity: 1;\"/><path class=\"point\" transform=\"translate(311.98,164.05)\" d=\"M3,0A3,3 0 1,1 0,-3A3,3 0 0,1 3,0Z\" style=\"opacity: 1; stroke-width: 0px; fill: rgb(31, 119, 180); fill-opacity: 1;\"/><path class=\"point\" transform=\"translate(450.37,92.61)\" d=\"M3,0A3,3 0 1,1 0,-3A3,3 0 0,1 3,0Z\" style=\"opacity: 1; stroke-width: 0px; fill: rgb(31, 119, 180); fill-opacity: 1;\"/><path class=\"point\" transform=\"translate(588.75,21.16)\" d=\"M3,0A3,3 0 1,1 0,-3A3,3 0 0,1 3,0Z\" style=\"opacity: 1; stroke-width: 0px; fill: rgb(31, 119, 180); fill-opacity: 1;\"/></g><g class=\"text\"/></g><g class=\"trace scatter trace725f3308-a3f6-4c65-af50-670d8d4d34f3\" style=\"stroke-miterlimit: 2; opacity: 1;\"><g class=\"fills\"/><g class=\"errorbars\"/><g class=\"lines\"/><g class=\"points\"><path class=\"point plotly-customdata\" transform=\"translate(173.6,234.06)\" d=\"M-4.62,2H4.62L0,-4Z\" style=\"opacity: 1; stroke-width: 1px; fill: rgb(55, 177, 63); fill-opacity: 1; stroke: rgb(38, 123, 44); stroke-opacity: 1;\"/><path class=\"point plotly-customdata\" transform=\"translate(588.75,17.59)\" d=\"M-4.62,2H4.62L0,-4Z\" style=\"opacity: 1; stroke-width: 1px; fill: rgb(55, 177, 63); fill-opacity: 1; stroke: rgb(38, 123, 44); stroke-opacity: 1;\"/></g><g class=\"text\"/></g><g class=\"trace scatter trace3193a389-8fc3-4b95-8e41-7daeb440be76\" style=\"stroke-miterlimit: 2; opacity: 1;\"><g class=\"fills\"/><g class=\"errorbars\"/><g class=\"lines\"/><g class=\"points\"><path class=\"point plotly-customdata\" transform=\"translate(311.98,166.19)\" d=\"M-4.62,-2H4.62L0,4Z\" style=\"opacity: 1; stroke-width: 1px; fill: rgb(234, 67, 53); fill-opacity: 1; stroke: rgb(181, 31, 18); stroke-opacity: 1;\"/></g><g class=\"text\"/></g></g></g><g class=\"overplot\"/><path class=\"xlines-above crisp\" d=\"M0,0\" style=\"fill: none;\"/><path class=\"ylines-above crisp\" d=\"M0,0\" style=\"fill: none;\"/><g class=\"overlines-above\"/><g class=\"xaxislayer-above\"/><g class=\"yaxislayer-above\"><g class=\"ytick\"><text text-anchor=\"end\" x=\"94\" y=\"4.199999999999999\" transform=\"translate(0,381.49)\" style=\"font-family: 'Open Sans', verdana, arial, sans-serif; font-size: 12px; fill: rgb(42, 63, 95); fill-opacity: 1; white-space: pre;\">2</text></g><g class=\"ytick\"><text text-anchor=\"end\" x=\"94\" y=\"4.199999999999999\" transform=\"translate(0,345.77)\" style=\"font-family: 'Open Sans', verdana, arial, sans-serif; font-size: 12px; fill: rgb(42, 63, 95); fill-opacity: 1; white-space: pre;\">2.5</text></g><g class=\"ytick\"><text text-anchor=\"end\" x=\"94\" y=\"4.199999999999999\" transform=\"translate(0,310.05)\" style=\"font-family: 'Open Sans', verdana, arial, sans-serif; font-size: 12px; fill: rgb(42, 63, 95); fill-opacity: 1; white-space: pre;\">3</text></g><g class=\"ytick\"><text text-anchor=\"end\" x=\"94\" y=\"4.199999999999999\" transform=\"translate(0,274.33000000000004)\" style=\"font-family: 'Open Sans', verdana, arial, sans-serif; font-size: 12px; fill: rgb(42, 63, 95); fill-opacity: 1; white-space: pre;\">3.5</text></g><g class=\"ytick\"><text text-anchor=\"end\" x=\"94\" y=\"4.199999999999999\" transform=\"translate(0,238.61)\" style=\"font-family: 'Open Sans', verdana, arial, sans-serif; font-size: 12px; fill: rgb(42, 63, 95); fill-opacity: 1; white-space: pre;\">4</text></g><g class=\"ytick\"><text text-anchor=\"end\" x=\"94\" y=\"4.199999999999999\" transform=\"translate(0,202.88)\" style=\"font-family: 'Open Sans', verdana, arial, sans-serif; font-size: 12px; fill: rgb(42, 63, 95); fill-opacity: 1; white-space: pre;\">4.5</text></g><g class=\"ytick\"><text text-anchor=\"end\" x=\"94\" y=\"4.199999999999999\" transform=\"translate(0,167.16)\" style=\"font-family: 'Open Sans', verdana, arial, sans-serif; font-size: 12px; fill: rgb(42, 63, 95); fill-opacity: 1; white-space: pre;\">5</text></g></g><g class=\"overaxes-above\"/></g><g class=\"subplot x2y2\"><g class=\"layer-subplot\"><g class=\"shapelayer\"><path data-index=\"0\" fill-rule=\"evenodd\" d=\"M268.6,670.3052674897106H406.98V602.2352674897105H268.6Z\" clip-path=\"url('#clip184629x2y2')\" style=\"opacity: 0.2; stroke: rgb(0, 0, 0); stroke-opacity: 0; fill: rgb(255, 0, 0); fill-opacity: 1; stroke-width: 0px;\"/><path data-index=\"1\" fill-rule=\"evenodd\" d=\"M683.75,453.2152674897105H683.75V456.7952674897105H683.75Z\" clip-path=\"url('#clip184629x2y2')\" style=\"opacity: 0.2; stroke: rgb(0, 0, 0); stroke-opacity: 0; fill: rgb(255, 0, 0); fill-opacity: 1; stroke-width: 0px;\"/></g><g class=\"imagelayer\"/></g><g class=\"gridlayer\"><g class=\"x2\"><path class=\"x2grid crisp\" transform=\"translate(130.21,0)\" d=\"M0,436.2452674897105v251.83045267489734\" style=\"stroke: rgb(255, 255, 255); stroke-opacity: 1; stroke-width: 1px;\"/><path class=\"x2grid crisp\" transform=\"translate(268.6,0)\" d=\"M0,436.2452674897105v251.83045267489734\" style=\"stroke: rgb(255, 255, 255); stroke-opacity: 1; stroke-width: 1px;\"/><path class=\"x2grid crisp\" transform=\"translate(406.98,0)\" d=\"M0,436.2452674897105v251.83045267489734\" style=\"stroke: rgb(255, 255, 255); stroke-opacity: 1; stroke-width: 1px;\"/><path class=\"x2grid crisp\" transform=\"translate(545.37,0)\" d=\"M0,436.2452674897105v251.83045267489734\" style=\"stroke: rgb(255, 255, 255); stroke-opacity: 1; stroke-width: 1px;\"/><path class=\"x2grid crisp\" transform=\"translate(683.75,0)\" d=\"M0,436.2452674897105v251.83045267489734\" style=\"stroke: rgb(255, 255, 255); stroke-opacity: 1; stroke-width: 1px;\"/></g><g class=\"y2\"><path class=\"y2grid crisp\" transform=\"translate(0,671.7352674897105)\" d=\"M95,0h625\" style=\"stroke: rgb(255, 255, 255); stroke-opacity: 1; stroke-width: 1px;\"/><path class=\"y2grid crisp\" transform=\"translate(0,635.9152674897105)\" d=\"M95,0h625\" style=\"stroke: rgb(255, 255, 255); stroke-opacity: 1; stroke-width: 1px;\"/><path class=\"y2grid crisp\" transform=\"translate(0,600.0852674897105)\" d=\"M95,0h625\" style=\"stroke: rgb(255, 255, 255); stroke-opacity: 1; stroke-width: 1px;\"/><path class=\"y2grid crisp\" transform=\"translate(0,564.2652674897105)\" d=\"M95,0h625\" style=\"stroke: rgb(255, 255, 255); stroke-opacity: 1; stroke-width: 1px;\"/><path class=\"y2grid crisp\" transform=\"translate(0,528.4452674897105)\" d=\"M95,0h625\" style=\"stroke: rgb(255, 255, 255); stroke-opacity: 1; stroke-width: 1px;\"/><path class=\"y2grid crisp\" transform=\"translate(0,492.6152674897105)\" d=\"M95,0h625\" style=\"stroke: rgb(255, 255, 255); stroke-opacity: 1; stroke-width: 1px;\"/><path class=\"y2grid crisp\" transform=\"translate(0,456.7952674897105)\" d=\"M95,0h625\" style=\"stroke: rgb(255, 255, 255); stroke-opacity: 1; stroke-width: 1px;\"/></g></g><g class=\"zerolinelayer\"/><path class=\"xlines-below\"/><path class=\"ylines-below\"/><g class=\"overlines-below\"/><g class=\"xaxislayer-below\"/><g class=\"yaxislayer-below\"/><g class=\"overaxes-below\"/><g class=\"plot\" transform=\"translate(95,436.2452674897105)\" clip-path=\"url('#clip184629x2y2plot')\"><g class=\"scatterlayer mlayer\"><g class=\"trace scatter tracea65350da-5f4e-4023-919f-9b56242bdfae\" style=\"stroke-miterlimit: 2; opacity: 1;\"><g class=\"fills\"/><g class=\"errorbars\"/><g class=\"lines\"><path class=\"js-line\" d=\"M173.6,235.49L588.75,20.55\" style=\"vector-effect: non-scaling-stroke; fill: none; stroke: rgb(31, 119, 180); stroke-opacity: 1; stroke-width: 2px; opacity: 1;\"/></g><g class=\"points\"><path class=\"point\" transform=\"translate(173.6,235.49)\" d=\"M3,0A3,3 0 1,1 0,-3A3,3 0 0,1 3,0Z\" style=\"opacity: 1; stroke-width: 0px; fill: rgb(31, 119, 180); fill-opacity: 1;\"/><path class=\"point\" transform=\"translate(311.98,163.84)\" d=\"M3,0A3,3 0 1,1 0,-3A3,3 0 0,1 3,0Z\" style=\"opacity: 1; stroke-width: 0px; fill: rgb(31, 119, 180); fill-opacity: 1;\"/><path class=\"point\" transform=\"translate(450.37,92.2)\" d=\"M3,0A3,3 0 1,1 0,-3A3,3 0 0,1 3,0Z\" style=\"opacity: 1; stroke-width: 0px; fill: rgb(31, 119, 180); fill-opacity: 1;\"/><path class=\"point\" transform=\"translate(588.75,20.55)\" d=\"M3,0A3,3 0 1,1 0,-3A3,3 0 0,1 3,0Z\" style=\"opacity: 1; stroke-width: 0px; fill: rgb(31, 119, 180); fill-opacity: 1;\"/></g><g class=\"text\"/></g><g class=\"trace scatter trace2ec00732-751b-4f54-b7ec-9a01a9c75fb0\" style=\"stroke-miterlimit: 2; opacity: 1;\"><g class=\"fills\"/><g class=\"errorbars\"/><g class=\"lines\"/><g class=\"points\"><path class=\"point plotly-customdata\" transform=\"translate(173.6,234.06)\" d=\"M3.5,3.5H-3.5V-3.5H3.5Z\" style=\"opacity: 1; stroke-width: 1px; fill: rgb(66, 133, 244); fill-opacity: 1; stroke: rgb(11, 84, 205); stroke-opacity: 1;\"/><path class=\"point plotly-customdata\" transform=\"translate(588.75,16.97)\" d=\"M3.5,3.5H-3.5V-3.5H3.5Z\" style=\"opacity: 1; stroke-width: 1px; fill: rgb(66, 133, 244); fill-opacity: 1; stroke: rgb(11, 84, 205); stroke-opacity: 1;\"/></g><g class=\"text\"/></g><g class=\"trace scatter tracef67b59a7-9e42-4fe1-9104-011ee18ed749\" style=\"stroke-miterlimit: 2; opacity: 1;\"><g class=\"fills\"/><g class=\"errorbars\"/><g class=\"lines\"/><g class=\"points\"><path class=\"point plotly-customdata\" transform=\"translate(311.98,165.99)\" d=\"M3.5,3.5H-3.5V-3.5H3.5Z\" style=\"opacity: 1; stroke-width: 1px; fill: rgb(234, 67, 53); fill-opacity: 1; stroke: rgb(181, 31, 18); stroke-opacity: 1;\"/></g><g class=\"text\"/></g><g class=\"trace scatter trace3593264b-2873-436a-92cc-b42a9970e70f\" style=\"stroke-miterlimit: 2; opacity: 1;\"><g class=\"fills\"/><g class=\"errorbars\"/><g class=\"lines\"/><g class=\"points\"><path class=\"point plotly-customdata\" transform=\"translate(588.75,20.55)\" d=\"M3.5,3.5H-3.5V-3.5H3.5Z\" style=\"opacity: 1; stroke-width: 1px; fill: rgb(255, 170, 0); fill-opacity: 1; stroke: rgb(178, 118, 0); stroke-opacity: 1;\"/></g><g class=\"text\"/></g></g></g><g class=\"overplot\"/><path class=\"xlines-above crisp\" d=\"M0,0\" style=\"fill: none;\"/><path class=\"ylines-above crisp\" d=\"M0,0\" style=\"fill: none;\"/><g class=\"overlines-above\"/><g class=\"xaxislayer-above\"/><g class=\"yaxislayer-above\"><g class=\"y2tick\"><text text-anchor=\"end\" x=\"94\" y=\"4.199999999999999\" transform=\"translate(0,671.7352674897105)\" style=\"font-family: 'Open Sans', verdana, arial, sans-serif; font-size: 12px; fill: rgb(42, 63, 95); fill-opacity: 1; white-space: pre;\">2</text></g><g class=\"y2tick\"><text text-anchor=\"end\" x=\"94\" y=\"4.199999999999999\" transform=\"translate(0,635.9152674897105)\" style=\"font-family: 'Open Sans', verdana, arial, sans-serif; font-size: 12px; fill: rgb(42, 63, 95); fill-opacity: 1; white-space: pre;\">2.5</text></g><g class=\"y2tick\"><text text-anchor=\"end\" x=\"94\" y=\"4.199999999999999\" transform=\"translate(0,600.0852674897105)\" style=\"font-family: 'Open Sans', verdana, arial, sans-serif; font-size: 12px; fill: rgb(42, 63, 95); fill-opacity: 1; white-space: pre;\">3</text></g><g class=\"y2tick\"><text text-anchor=\"end\" x=\"94\" y=\"4.199999999999999\" transform=\"translate(0,564.2652674897105)\" style=\"font-family: 'Open Sans', verdana, arial, sans-serif; font-size: 12px; fill: rgb(42, 63, 95); fill-opacity: 1; white-space: pre;\">3.5</text></g><g class=\"y2tick\"><text text-anchor=\"end\" x=\"94\" y=\"4.199999999999999\" transform=\"translate(0,528.4452674897105)\" style=\"font-family: 'Open Sans', verdana, arial, sans-serif; font-size: 12px; fill: rgb(42, 63, 95); fill-opacity: 1; white-space: pre;\">4</text></g><g class=\"y2tick\"><text text-anchor=\"end\" x=\"94\" y=\"4.199999999999999\" transform=\"translate(0,492.6152674897105)\" style=\"font-family: 'Open Sans', verdana, arial, sans-serif; font-size: 12px; fill: rgb(42, 63, 95); fill-opacity: 1; white-space: pre;\">4.5</text></g><g class=\"y2tick\"><text text-anchor=\"end\" x=\"94\" y=\"4.199999999999999\" transform=\"translate(0,456.7952674897105)\" style=\"font-family: 'Open Sans', verdana, arial, sans-serif; font-size: 12px; fill: rgb(42, 63, 95); fill-opacity: 1; white-space: pre;\">5</text></g></g><g class=\"overaxes-above\"/></g><g class=\"subplot x3y3\"><g class=\"layer-subplot\"><g class=\"shapelayer\"><path data-index=\"2\" fill-rule=\"evenodd\" d=\"M268.6,960.5505349794228H406.98V892.4805349794227H268.6Z\" clip-path=\"url('#clip184629x3y3')\" style=\"opacity: 0.2; stroke: rgb(0, 0, 0); stroke-opacity: 0; fill: rgb(255, 0, 0); fill-opacity: 1; stroke-width: 0px;\"/><path data-index=\"3\" fill-rule=\"evenodd\" d=\"M683.75,743.4605349794227H683.75V747.0405349794227H683.75Z\" clip-path=\"url('#clip184629x3y3')\" style=\"opacity: 0.2; stroke: rgb(0, 0, 0); stroke-opacity: 0; fill: rgb(255, 0, 0); fill-opacity: 1; stroke-width: 0px;\"/></g><g class=\"imagelayer\"/></g><g class=\"gridlayer\"><g class=\"x3\"><path class=\"x3grid crisp\" transform=\"translate(130.21,0)\" d=\"M0,726.4905349794227v251.83045267489734\" style=\"stroke: rgb(255, 255, 255); stroke-opacity: 1; stroke-width: 1px;\"/><path class=\"x3grid crisp\" transform=\"translate(268.6,0)\" d=\"M0,726.4905349794227v251.83045267489734\" style=\"stroke: rgb(255, 255, 255); stroke-opacity: 1; stroke-width: 1px;\"/><path class=\"x3grid crisp\" transform=\"translate(406.98,0)\" d=\"M0,726.4905349794227v251.83045267489734\" style=\"stroke: rgb(255, 255, 255); stroke-opacity: 1; stroke-width: 1px;\"/><path class=\"x3grid crisp\" transform=\"translate(545.37,0)\" d=\"M0,726.4905349794227v251.83045267489734\" style=\"stroke: rgb(255, 255, 255); stroke-opacity: 1; stroke-width: 1px;\"/><path class=\"x3grid crisp\" transform=\"translate(683.75,0)\" d=\"M0,726.4905349794227v251.83045267489734\" style=\"stroke: rgb(255, 255, 255); stroke-opacity: 1; stroke-width: 1px;\"/></g><g class=\"y3\"><path class=\"y3grid crisp\" transform=\"translate(0,961.9805349794227)\" d=\"M95,0h625\" style=\"stroke: rgb(255, 255, 255); stroke-opacity: 1; stroke-width: 1px;\"/><path class=\"y3grid crisp\" transform=\"translate(0,926.1605349794227)\" d=\"M95,0h625\" style=\"stroke: rgb(255, 255, 255); stroke-opacity: 1; stroke-width: 1px;\"/><path class=\"y3grid crisp\" transform=\"translate(0,890.3305349794227)\" d=\"M95,0h625\" style=\"stroke: rgb(255, 255, 255); stroke-opacity: 1; stroke-width: 1px;\"/><path class=\"y3grid crisp\" transform=\"translate(0,854.5105349794227)\" d=\"M95,0h625\" style=\"stroke: rgb(255, 255, 255); stroke-opacity: 1; stroke-width: 1px;\"/><path class=\"y3grid crisp\" transform=\"translate(0,818.6905349794228)\" d=\"M95,0h625\" style=\"stroke: rgb(255, 255, 255); stroke-opacity: 1; stroke-width: 1px;\"/><path class=\"y3grid crisp\" transform=\"translate(0,782.8605349794227)\" d=\"M95,0h625\" style=\"stroke: rgb(255, 255, 255); stroke-opacity: 1; stroke-width: 1px;\"/><path class=\"y3grid crisp\" transform=\"translate(0,747.0405349794227)\" d=\"M95,0h625\" style=\"stroke: rgb(255, 255, 255); stroke-opacity: 1; stroke-width: 1px;\"/></g></g><g class=\"zerolinelayer\"/><path class=\"xlines-below\"/><path class=\"ylines-below\"/><g class=\"overlines-below\"/><g class=\"xaxislayer-below\"/><g class=\"yaxislayer-below\"/><g class=\"overaxes-below\"/><g class=\"plot\" transform=\"translate(95,726.4905349794227)\" clip-path=\"url('#clip184629x3y3plot')\"><g class=\"scatterlayer mlayer\"><g class=\"trace scatter trace9147953e-5f3f-4903-beda-2e9518eb7c46\" style=\"stroke-miterlimit: 2; opacity: 1;\"><g class=\"fills\"/><g class=\"errorbars\"/><g class=\"lines\"><path class=\"js-line\" d=\"M173.6,235.49L588.75,20.55\" style=\"vector-effect: non-scaling-stroke; fill: none; stroke: rgb(31, 119, 180); stroke-opacity: 1; stroke-width: 2px; opacity: 1;\"/></g><g class=\"points\"><path class=\"point\" transform=\"translate(173.6,235.49)\" d=\"M3,0A3,3 0 1,1 0,-3A3,3 0 0,1 3,0Z\" style=\"opacity: 1; stroke-width: 0px; fill: rgb(31, 119, 180); fill-opacity: 1;\"/><path class=\"point\" transform=\"translate(311.98,163.84)\" d=\"M3,0A3,3 0 1,1 0,-3A3,3 0 0,1 3,0Z\" style=\"opacity: 1; stroke-width: 0px; fill: rgb(31, 119, 180); fill-opacity: 1;\"/><path class=\"point\" transform=\"translate(450.37,92.2)\" d=\"M3,0A3,3 0 1,1 0,-3A3,3 0 0,1 3,0Z\" style=\"opacity: 1; stroke-width: 0px; fill: rgb(31, 119, 180); fill-opacity: 1;\"/><path class=\"point\" transform=\"translate(588.75,20.55)\" d=\"M3,0A3,3 0 1,1 0,-3A3,3 0 0,1 3,0Z\" style=\"opacity: 1; stroke-width: 0px; fill: rgb(31, 119, 180); fill-opacity: 1;\"/></g><g class=\"text\"/></g><g class=\"trace scatter trace0ea22880-a318-43e5-b9cd-a03eb4acb18b\" style=\"stroke-miterlimit: 2; opacity: 1;\"><g class=\"fills\"/><g class=\"errorbars\"/><g class=\"lines\"/><g class=\"points\"><path class=\"point plotly-customdata\" transform=\"translate(173.6,234.06)\" d=\"M3.5,3.5H-3.5V-3.5H3.5Z\" style=\"opacity: 1; stroke-width: 1px; fill: rgb(66, 133, 244); fill-opacity: 1; stroke: rgb(11, 84, 205); stroke-opacity: 1;\"/><path class=\"point plotly-customdata\" transform=\"translate(588.75,16.97)\" d=\"M3.5,3.5H-3.5V-3.5H3.5Z\" style=\"opacity: 1; stroke-width: 1px; fill: rgb(66, 133, 244); fill-opacity: 1; stroke: rgb(11, 84, 205); stroke-opacity: 1;\"/></g><g class=\"text\"/></g><g class=\"trace scatter trace67f9b8e5-aa37-4907-b214-df3c88c1bc93\" style=\"stroke-miterlimit: 2; opacity: 1;\"><g class=\"fills\"/><g class=\"errorbars\"/><g class=\"lines\"/><g class=\"points\"><path class=\"point plotly-customdata\" transform=\"translate(311.98,165.99)\" d=\"M3.5,3.5H-3.5V-3.5H3.5Z\" style=\"opacity: 1; stroke-width: 1px; fill: rgb(234, 67, 53); fill-opacity: 1; stroke: rgb(181, 31, 18); stroke-opacity: 1;\"/></g><g class=\"text\"/></g><g class=\"trace scatter trace1acc7022-82d1-4785-9a60-fcf4443c365e\" style=\"stroke-miterlimit: 2; opacity: 1;\"><g class=\"fills\"/><g class=\"errorbars\"/><g class=\"lines\"/><g class=\"points\"><path class=\"point plotly-customdata\" transform=\"translate(588.75,20.55)\" d=\"M3.5,3.5H-3.5V-3.5H3.5Z\" style=\"opacity: 1; stroke-width: 1px; fill: rgb(255, 170, 0); fill-opacity: 1; stroke: rgb(178, 118, 0); stroke-opacity: 1;\"/></g><g class=\"text\"/></g></g></g><g class=\"overplot\"/><path class=\"xlines-above crisp\" d=\"M0,0\" style=\"fill: none;\"/><path class=\"ylines-above crisp\" d=\"M0,0\" style=\"fill: none;\"/><g class=\"overlines-above\"/><g class=\"xaxislayer-above\"/><g class=\"yaxislayer-above\"><g class=\"y3tick\"><text text-anchor=\"end\" x=\"94\" y=\"4.199999999999999\" transform=\"translate(0,961.9805349794227)\" style=\"font-family: 'Open Sans', verdana, arial, sans-serif; font-size: 12px; fill: rgb(42, 63, 95); fill-opacity: 1; white-space: pre;\">2</text></g><g class=\"y3tick\"><text text-anchor=\"end\" x=\"94\" y=\"4.199999999999999\" transform=\"translate(0,926.1605349794227)\" style=\"font-family: 'Open Sans', verdana, arial, sans-serif; font-size: 12px; fill: rgb(42, 63, 95); fill-opacity: 1; white-space: pre;\">2.5</text></g><g class=\"y3tick\"><text text-anchor=\"end\" x=\"94\" y=\"4.199999999999999\" transform=\"translate(0,890.3305349794227)\" style=\"font-family: 'Open Sans', verdana, arial, sans-serif; font-size: 12px; fill: rgb(42, 63, 95); fill-opacity: 1; white-space: pre;\">3</text></g><g class=\"y3tick\"><text text-anchor=\"end\" x=\"94\" y=\"4.199999999999999\" transform=\"translate(0,854.5105349794227)\" style=\"font-family: 'Open Sans', verdana, arial, sans-serif; font-size: 12px; fill: rgb(42, 63, 95); fill-opacity: 1; white-space: pre;\">3.5</text></g><g class=\"y3tick\"><text text-anchor=\"end\" x=\"94\" y=\"4.199999999999999\" transform=\"translate(0,818.6905349794228)\" style=\"font-family: 'Open Sans', verdana, arial, sans-serif; font-size: 12px; fill: rgb(42, 63, 95); fill-opacity: 1; white-space: pre;\">4</text></g><g class=\"y3tick\"><text text-anchor=\"end\" x=\"94\" y=\"4.199999999999999\" transform=\"translate(0,782.8605349794227)\" style=\"font-family: 'Open Sans', verdana, arial, sans-serif; font-size: 12px; fill: rgb(42, 63, 95); fill-opacity: 1; white-space: pre;\">4.5</text></g><g class=\"y3tick\"><text text-anchor=\"end\" x=\"94\" y=\"4.199999999999999\" transform=\"translate(0,747.0405349794227)\" style=\"font-family: 'Open Sans', verdana, arial, sans-serif; font-size: 12px; fill: rgb(42, 63, 95); fill-opacity: 1; white-space: pre;\">5</text></g></g><g class=\"overaxes-above\"/></g><g class=\"subplot x4y4\"><g class=\"layer-subplot\"><g class=\"shapelayer\"/><g class=\"imagelayer\"/></g><g class=\"gridlayer\"><g class=\"x4\"><path class=\"x4grid crisp\" transform=\"translate(130.21,0)\" d=\"M0,1016.7358024691349v251.83045267489734\" style=\"stroke: rgb(255, 255, 255); stroke-opacity: 1; stroke-width: 1px;\"/><path class=\"x4grid crisp\" transform=\"translate(268.6,0)\" d=\"M0,1016.7358024691349v251.83045267489734\" style=\"stroke: rgb(255, 255, 255); stroke-opacity: 1; stroke-width: 1px;\"/><path class=\"x4grid crisp\" transform=\"translate(406.98,0)\" d=\"M0,1016.7358024691349v251.83045267489734\" style=\"stroke: rgb(255, 255, 255); stroke-opacity: 1; stroke-width: 1px;\"/><path class=\"x4grid crisp\" transform=\"translate(545.37,0)\" d=\"M0,1016.7358024691349v251.83045267489734\" style=\"stroke: rgb(255, 255, 255); stroke-opacity: 1; stroke-width: 1px;\"/><path class=\"x4grid crisp\" transform=\"translate(683.75,0)\" d=\"M0,1016.7358024691349v251.83045267489734\" style=\"stroke: rgb(255, 255, 255); stroke-opacity: 1; stroke-width: 1px;\"/></g><g class=\"y4\"><path class=\"y4grid crisp\" transform=\"translate(0,1251.015802469135)\" d=\"M95,0h625\" style=\"stroke: rgb(255, 255, 255); stroke-opacity: 1; stroke-width: 1px;\"/><path class=\"y4grid crisp\" transform=\"translate(0,1192.6958024691348)\" d=\"M95,0h625\" style=\"stroke: rgb(255, 255, 255); stroke-opacity: 1; stroke-width: 1px;\"/><path class=\"y4grid crisp\" transform=\"translate(0,1134.375802469135)\" d=\"M95,0h625\" style=\"stroke: rgb(255, 255, 255); stroke-opacity: 1; stroke-width: 1px;\"/><path class=\"y4grid crisp\" transform=\"translate(0,1076.055802469135)\" d=\"M95,0h625\" style=\"stroke: rgb(255, 255, 255); stroke-opacity: 1; stroke-width: 1px;\"/></g></g><g class=\"zerolinelayer\"><path class=\"y4zl zl crisp\" transform=\"translate(0,1017.7358024691349)\" d=\"M95,0h625\" style=\"stroke: rgb(255, 255, 255); stroke-opacity: 1; stroke-width: 2px;\"/></g><path class=\"xlines-below\"/><path class=\"ylines-below\"/><g class=\"overlines-below\"/><g class=\"xaxislayer-below\"/><g class=\"yaxislayer-below\"/><g class=\"overaxes-below\"/><g class=\"plot\" transform=\"translate(95,1016.7358024691349)\" clip-path=\"url('#clip184629x4y4plot')\"><g class=\"scatterlayer mlayer\"><g class=\"trace scatter tracedc5a2d2a-04ff-4951-86a0-5d9a2d69a746\" style=\"stroke-miterlimit: 2; opacity: 1;\"><g class=\"fills\"/><g class=\"errorbars\"/><g class=\"lines\"/><g class=\"points\"><path class=\"point plotly-customdata\" transform=\"translate(311.98,129.29)\" d=\"M7,0A7,7 0 1,1 0,-7A7,7 0 0,1 7,0Z\" style=\"opacity: 0.9; stroke-width: 1px; fill: rgb(234, 67, 53); fill-opacity: 1; stroke: rgb(181, 31, 18); stroke-opacity: 1;\"/></g><g class=\"text\"/></g><g class=\"trace scatter traceec9e5c9e-56b3-400b-927c-6473a3d9ed69\" style=\"stroke-miterlimit: 2; opacity: 1;\"><g class=\"fills\"/><g class=\"errorbars\"/><g class=\"lines\"/><g class=\"points\"><path class=\"point plotly-customdata\" transform=\"translate(588.75,234.86)\" d=\"M3.5,0A3.5,3.5 0 1,1 0,-3.5A3.5,3.5 0 0,1 3.5,0Z\" style=\"opacity: 0.75; stroke-width: 1px; fill: rgb(255, 170, 0); fill-opacity: 1; stroke: rgb(178, 118, 0); stroke-opacity: 1;\"/></g><g class=\"text\"/></g></g></g><g class=\"overplot\"/><path class=\"xlines-above crisp\" d=\"M0,0\" style=\"fill: none;\"/><path class=\"ylines-above crisp\" d=\"M0,0\" style=\"fill: none;\"/><g class=\"overlines-above\"/><g class=\"xaxislayer-above\"/><g class=\"yaxislayer-above\"><g class=\"y4tick\"><text text-anchor=\"end\" x=\"94\" y=\"4.199999999999999\" transform=\"translate(0,1251.015802469135)\" style=\"font-family: 'Open Sans', verdana, arial, sans-serif; font-size: 12px; fill: rgb(42, 63, 95); fill-opacity: 1; white-space: pre;\">−0.2</text></g><g class=\"y4tick\"><text text-anchor=\"end\" x=\"94\" y=\"4.199999999999999\" transform=\"translate(0,1192.6958024691348)\" style=\"font-family: 'Open Sans', verdana, arial, sans-serif; font-size: 12px; fill: rgb(42, 63, 95); fill-opacity: 1; white-space: pre;\">−0.15</text></g><g class=\"y4tick\"><text text-anchor=\"end\" x=\"94\" y=\"4.199999999999999\" transform=\"translate(0,1134.375802469135)\" style=\"font-family: 'Open Sans', verdana, arial, sans-serif; font-size: 12px; fill: rgb(42, 63, 95); fill-opacity: 1; white-space: pre;\">−0.1</text></g><g class=\"y4tick\"><text text-anchor=\"end\" x=\"94\" y=\"4.199999999999999\" transform=\"translate(0,1076.055802469135)\" style=\"font-family: 'Open Sans', verdana, arial, sans-serif; font-size: 12px; fill: rgb(42, 63, 95); fill-opacity: 1; white-space: pre;\">−0.05</text></g><g class=\"y4tick\"><text text-anchor=\"end\" x=\"94\" y=\"4.199999999999999\" transform=\"translate(0,1017.7358024691349)\" style=\"font-family: 'Open Sans', verdana, arial, sans-serif; font-size: 12px; fill: rgb(42, 63, 95); fill-opacity: 1; white-space: pre;\">0</text></g></g><g class=\"overaxes-above\"/></g><g class=\"subplot x5y5\"><g class=\"layer-subplot\"><g class=\"shapelayer\"/><g class=\"imagelayer\"/></g><g class=\"gridlayer\"><g class=\"x5\"><path class=\"x5grid crisp\" transform=\"translate(130.21,0)\" d=\"M0,1306.9810699588472v251.83045267489734\" style=\"stroke: rgb(255, 255, 255); stroke-opacity: 1; stroke-width: 1px;\"/><path class=\"x5grid crisp\" transform=\"translate(268.6,0)\" d=\"M0,1306.9810699588472v251.83045267489734\" style=\"stroke: rgb(255, 255, 255); stroke-opacity: 1; stroke-width: 1px;\"/><path class=\"x5grid crisp\" transform=\"translate(406.98,0)\" d=\"M0,1306.9810699588472v251.83045267489734\" style=\"stroke: rgb(255, 255, 255); stroke-opacity: 1; stroke-width: 1px;\"/><path class=\"x5grid crisp\" transform=\"translate(545.37,0)\" d=\"M0,1306.9810699588472v251.83045267489734\" style=\"stroke: rgb(255, 255, 255); stroke-opacity: 1; stroke-width: 1px;\"/><path class=\"x5grid crisp\" transform=\"translate(683.75,0)\" d=\"M0,1306.9810699588472v251.83045267489734\" style=\"stroke: rgb(255, 255, 255); stroke-opacity: 1; stroke-width: 1px;\"/></g><g class=\"y5\"><path class=\"y5grid crisp\" transform=\"translate(0,1541.2610699588472)\" d=\"M95,0h625\" style=\"stroke: rgb(255, 255, 255); stroke-opacity: 1; stroke-width: 1px;\"/><path class=\"y5grid crisp\" transform=\"translate(0,1482.9410699588473)\" d=\"M95,0h625\" style=\"stroke: rgb(255, 255, 255); stroke-opacity: 1; stroke-width: 1px;\"/><path class=\"y5grid crisp\" transform=\"translate(0,1424.6210699588473)\" d=\"M95,0h625\" style=\"stroke: rgb(255, 255, 255); stroke-opacity: 1; stroke-width: 1px;\"/><path class=\"y5grid crisp\" transform=\"translate(0,1366.3010699588472)\" d=\"M95,0h625\" style=\"stroke: rgb(255, 255, 255); stroke-opacity: 1; stroke-width: 1px;\"/></g></g><g class=\"zerolinelayer\"><path class=\"y5zl zl crisp\" transform=\"translate(0,1307.9810699588472)\" d=\"M95,0h625\" style=\"stroke: rgb(255, 255, 255); stroke-opacity: 1; stroke-width: 2px;\"/></g><path class=\"xlines-below\"/><path class=\"ylines-below\"/><g class=\"overlines-below\"/><g class=\"xaxislayer-below\"/><g class=\"yaxislayer-below\"/><g class=\"overaxes-below\"/><g class=\"plot\" transform=\"translate(95,1306.9810699588472)\" clip-path=\"url('#clip184629x5y5plot')\"><g class=\"scatterlayer mlayer\"><g class=\"trace scatter trace5c3aca0b-1d7d-4016-b883-a00b3f8db3ce\" style=\"stroke-miterlimit: 2; opacity: 1;\"><g class=\"fills\"/><g class=\"errorbars\"/><g class=\"lines\"/><g class=\"points\"><path class=\"point plotly-customdata\" transform=\"translate(311.98,129.29)\" d=\"M7,0A7,7 0 1,1 0,-7A7,7 0 0,1 7,0Z\" style=\"opacity: 0.9; stroke-width: 1px; fill: rgb(234, 67, 53); fill-opacity: 1; stroke: rgb(181, 31, 18); stroke-opacity: 1;\"/></g><g class=\"text\"/></g><g class=\"trace scatter traced4e36319-b0f8-4cd3-9ae7-26bdb1a139e3\" style=\"stroke-miterlimit: 2; opacity: 1;\"><g class=\"fills\"/><g class=\"errorbars\"/><g class=\"lines\"/><g class=\"points\"><path class=\"point plotly-customdata\" transform=\"translate(588.75,234.86)\" d=\"M3.5,0A3.5,3.5 0 1,1 0,-3.5A3.5,3.5 0 0,1 3.5,0Z\" style=\"opacity: 0.75; stroke-width: 1px; fill: rgb(255, 170, 0); fill-opacity: 1; stroke: rgb(178, 118, 0); stroke-opacity: 1;\"/></g><g class=\"text\"/></g></g></g><g class=\"overplot\"/><path class=\"xlines-above crisp\" d=\"M0,0\" style=\"fill: none;\"/><path class=\"ylines-above crisp\" d=\"M0,0\" style=\"fill: none;\"/><g class=\"overlines-above\"/><g class=\"xaxislayer-above\"/><g class=\"yaxislayer-above\"><g class=\"y5tick\"><text text-anchor=\"end\" x=\"94\" y=\"4.199999999999999\" transform=\"translate(0,1541.2610699588472)\" style=\"font-family: 'Open Sans', verdana, arial, sans-serif; font-size: 12px; fill: rgb(42, 63, 95); fill-opacity: 1; white-space: pre;\">−0.2</text></g><g class=\"y5tick\"><text text-anchor=\"end\" x=\"94\" y=\"4.199999999999999\" transform=\"translate(0,1482.9410699588473)\" style=\"font-family: 'Open Sans', verdana, arial, sans-serif; font-size: 12px; fill: rgb(42, 63, 95); fill-opacity: 1; white-space: pre;\">−0.15</text></g><g class=\"y5tick\"><text text-anchor=\"end\" x=\"94\" y=\"4.199999999999999\" transform=\"translate(0,1424.6210699588473)\" style=\"font-family: 'Open Sans', verdana, arial, sans-serif; font-size: 12px; fill: rgb(42, 63, 95); fill-opacity: 1; white-space: pre;\">−0.1</text></g><g class=\"y5tick\"><text text-anchor=\"end\" x=\"94\" y=\"4.199999999999999\" transform=\"translate(0,1366.3010699588472)\" style=\"font-family: 'Open Sans', verdana, arial, sans-serif; font-size: 12px; fill: rgb(42, 63, 95); fill-opacity: 1; white-space: pre;\">−0.05</text></g><g class=\"y5tick\"><text text-anchor=\"end\" x=\"94\" y=\"4.199999999999999\" transform=\"translate(0,1307.9810699588472)\" style=\"font-family: 'Open Sans', verdana, arial, sans-serif; font-size: 12px; fill: rgb(42, 63, 95); fill-opacity: 1; white-space: pre;\">0</text></g></g><g class=\"overaxes-above\"/></g><g class=\"subplot x6y6\"><g class=\"layer-subplot\"><g class=\"shapelayer\"/><g class=\"imagelayer\"/></g><g class=\"gridlayer\"><g class=\"x6\"><path class=\"x6grid crisp\" transform=\"translate(130.21,0)\" d=\"M0,1597.2263374485594v251.83045267489734\" style=\"stroke: rgb(255, 255, 255); stroke-opacity: 1; stroke-width: 1px;\"/><path class=\"x6grid crisp\" transform=\"translate(268.6,0)\" d=\"M0,1597.2263374485594v251.83045267489734\" style=\"stroke: rgb(255, 255, 255); stroke-opacity: 1; stroke-width: 1px;\"/><path class=\"x6grid crisp\" transform=\"translate(406.98,0)\" d=\"M0,1597.2263374485594v251.83045267489734\" style=\"stroke: rgb(255, 255, 255); stroke-opacity: 1; stroke-width: 1px;\"/><path class=\"x6grid crisp\" transform=\"translate(545.37,0)\" d=\"M0,1597.2263374485594v251.83045267489734\" style=\"stroke: rgb(255, 255, 255); stroke-opacity: 1; stroke-width: 1px;\"/><path class=\"x6grid crisp\" transform=\"translate(683.75,0)\" d=\"M0,1597.2263374485594v251.83045267489734\" style=\"stroke: rgb(255, 255, 255); stroke-opacity: 1; stroke-width: 1px;\"/></g><g class=\"y6\"><path class=\"y6grid crisp\" transform=\"translate(0,1808.9563374485595)\" d=\"M95,0h625\" style=\"stroke: rgb(255, 255, 255); stroke-opacity: 1; stroke-width: 1px;\"/><path class=\"y6grid crisp\" transform=\"translate(0,1766.8163374485594)\" d=\"M95,0h625\" style=\"stroke: rgb(255, 255, 255); stroke-opacity: 1; stroke-width: 1px;\"/><path class=\"y6grid crisp\" transform=\"translate(0,1724.6663374485595)\" d=\"M95,0h625\" style=\"stroke: rgb(255, 255, 255); stroke-opacity: 1; stroke-width: 1px;\"/><path class=\"y6grid crisp\" transform=\"translate(0,1682.5163374485594)\" d=\"M95,0h625\" style=\"stroke: rgb(255, 255, 255); stroke-opacity: 1; stroke-width: 1px;\"/><path class=\"y6grid crisp\" transform=\"translate(0,1640.3763374485595)\" d=\"M95,0h625\" style=\"stroke: rgb(255, 255, 255); stroke-opacity: 1; stroke-width: 1px;\"/></g></g><g class=\"zerolinelayer\"><path class=\"y6zl zl crisp\" transform=\"translate(0,1598.2263374485594)\" d=\"M95,0h625\" style=\"stroke: rgb(255, 255, 255); stroke-opacity: 1; stroke-width: 2px;\"/></g><path class=\"xlines-below\"/><path class=\"ylines-below\"/><g class=\"overlines-below\"/><g class=\"xaxislayer-below\"/><g class=\"yaxislayer-below\"/><g class=\"overaxes-below\"/><g class=\"plot\" transform=\"translate(95,1597.2263374485594)\" clip-path=\"url('#clip184629x6y6plot')\"><g class=\"scatterlayer mlayer\"><g class=\"trace scatter trace811c333e-1113-4cf3-a21a-811d79298ee7\" style=\"stroke-miterlimit: 2; opacity: 1;\"><g class=\"fills\"/><g class=\"errorbars\"/><g class=\"lines\"/><g class=\"points\"><path class=\"point plotly-customdata\" transform=\"translate(311.98,230.49)\" d=\"M7,0A7,7 0 1,1 0,-7A7,7 0 0,1 7,0Z\" style=\"opacity: 0.9; stroke-width: 1px; fill: rgb(234, 67, 53); fill-opacity: 1; stroke: rgb(181, 31, 18); stroke-opacity: 1;\"/></g><g class=\"text\"/></g><g class=\"trace scatter trace39283865-b386-4b4b-96b0-a8337c7de285\" style=\"stroke-miterlimit: 2; opacity: 1;\"><g class=\"fills\"/><g class=\"errorbars\"/><g class=\"lines\"/><g class=\"points\"><path class=\"point plotly-customdata\" transform=\"translate(588.75,17.73)\" d=\"M3.5,0A3.5,3.5 0 1,1 0,-3.5A3.5,3.5 0 0,1 3.5,0Z\" style=\"opacity: 0.75; stroke-width: 1px; fill: rgb(255, 170, 0); fill-opacity: 1; stroke: rgb(178, 118, 0); stroke-opacity: 1;\"/></g><g class=\"text\"/></g></g></g><g class=\"overplot\"/><path class=\"xlines-above crisp\" d=\"M0,0\" style=\"fill: none;\"/><path class=\"ylines-above crisp\" d=\"M0,0\" style=\"fill: none;\"/><g class=\"overlines-above\"/><g class=\"xaxislayer-above\"/><g class=\"yaxislayer-above\"><g class=\"y6tick\"><text text-anchor=\"end\" x=\"94\" y=\"4.199999999999999\" transform=\"translate(0,1808.9563374485595)\" style=\"font-family: 'Open Sans', verdana, arial, sans-serif; font-size: 12px; fill: rgb(42, 63, 95); fill-opacity: 1; white-space: pre;\">−50.00%</text></g><g class=\"y6tick\"><text text-anchor=\"end\" x=\"94\" y=\"4.199999999999999\" transform=\"translate(0,1766.8163374485594)\" style=\"font-family: 'Open Sans', verdana, arial, sans-serif; font-size: 12px; fill: rgb(42, 63, 95); fill-opacity: 1; white-space: pre;\">−40.00%</text></g><g class=\"y6tick\"><text text-anchor=\"end\" x=\"94\" y=\"4.199999999999999\" transform=\"translate(0,1724.6663374485595)\" style=\"font-family: 'Open Sans', verdana, arial, sans-serif; font-size: 12px; fill: rgb(42, 63, 95); fill-opacity: 1; white-space: pre;\">−30.00%</text></g><g class=\"y6tick\"><text text-anchor=\"end\" x=\"94\" y=\"4.199999999999999\" transform=\"translate(0,1682.5163374485594)\" style=\"font-family: 'Open Sans', verdana, arial, sans-serif; font-size: 12px; fill: rgb(42, 63, 95); fill-opacity: 1; white-space: pre;\">−20.00%</text></g><g class=\"y6tick\"><text text-anchor=\"end\" x=\"94\" y=\"4.199999999999999\" transform=\"translate(0,1640.3763374485595)\" style=\"font-family: 'Open Sans', verdana, arial, sans-serif; font-size: 12px; fill: rgb(42, 63, 95); fill-opacity: 1; white-space: pre;\">−10.00%</text></g><g class=\"y6tick\"><text text-anchor=\"end\" x=\"94\" y=\"4.199999999999999\" transform=\"translate(0,1598.2263374485594)\" style=\"font-family: 'Open Sans', verdana, arial, sans-serif; font-size: 12px; fill: rgb(42, 63, 95); fill-opacity: 1; white-space: pre;\">0.00%</text></g></g><g class=\"overaxes-above\"/></g><g class=\"subplot x7y7\"><g class=\"layer-subplot\"><g class=\"shapelayer\"/><g class=\"imagelayer\"/></g><g class=\"gridlayer\"><g class=\"x7\"><path class=\"x7grid crisp\" transform=\"translate(130.21,0)\" d=\"M0,1887.4716049382716v251.83045267489734\" style=\"stroke: rgb(255, 255, 255); stroke-opacity: 1; stroke-width: 1px;\"/><path class=\"x7grid crisp\" transform=\"translate(268.6,0)\" d=\"M0,1887.4716049382716v251.83045267489734\" style=\"stroke: rgb(255, 255, 255); stroke-opacity: 1; stroke-width: 1px;\"/><path class=\"x7grid crisp\" transform=\"translate(406.98,0)\" d=\"M0,1887.4716049382716v251.83045267489734\" style=\"stroke: rgb(255, 255, 255); stroke-opacity: 1; stroke-width: 1px;\"/><path class=\"x7grid crisp\" transform=\"translate(545.37,0)\" d=\"M0,1887.4716049382716v251.83045267489734\" style=\"stroke: rgb(255, 255, 255); stroke-opacity: 1; stroke-width: 1px;\"/><path class=\"x7grid crisp\" transform=\"translate(683.75,0)\" d=\"M0,1887.4716049382716v251.83045267489734\" style=\"stroke: rgb(255, 255, 255); stroke-opacity: 1; stroke-width: 1px;\"/></g><g class=\"y7\"><path class=\"y7grid crisp\" transform=\"translate(0,2099.2016049382714)\" d=\"M95,0h625\" style=\"stroke: rgb(255, 255, 255); stroke-opacity: 1; stroke-width: 1px;\"/><path class=\"y7grid crisp\" transform=\"translate(0,2057.0616049382716)\" d=\"M95,0h625\" style=\"stroke: rgb(255, 255, 255); stroke-opacity: 1; stroke-width: 1px;\"/><path class=\"y7grid crisp\" transform=\"translate(0,2014.9116049382717)\" d=\"M95,0h625\" style=\"stroke: rgb(255, 255, 255); stroke-opacity: 1; stroke-width: 1px;\"/><path class=\"y7grid crisp\" transform=\"translate(0,1972.7616049382716)\" d=\"M95,0h625\" style=\"stroke: rgb(255, 255, 255); stroke-opacity: 1; stroke-width: 1px;\"/><path class=\"y7grid crisp\" transform=\"translate(0,1930.6216049382717)\" d=\"M95,0h625\" style=\"stroke: rgb(255, 255, 255); stroke-opacity: 1; stroke-width: 1px;\"/></g></g><g class=\"zerolinelayer\"><path class=\"y7zl zl crisp\" transform=\"translate(0,1888.4716049382716)\" d=\"M95,0h625\" style=\"stroke: rgb(255, 255, 255); stroke-opacity: 1; stroke-width: 2px;\"/></g><path class=\"xlines-below\"/><path class=\"ylines-below\"/><g class=\"overlines-below\"/><g class=\"xaxislayer-below\"/><g class=\"yaxislayer-below\"/><g class=\"overaxes-below\"/><g class=\"plot\" transform=\"translate(95,1887.4716049382716)\" clip-path=\"url('#clip184629x7y7plot')\"><g class=\"scatterlayer mlayer\"><g class=\"trace scatter tracefd0a7109-5d05-48e9-bd6d-9272c49e7ae9\" style=\"stroke-miterlimit: 2; opacity: 1;\"><g class=\"fills\"/><g class=\"errorbars\"/><g class=\"lines\"/><g class=\"points\"><path class=\"point plotly-customdata\" transform=\"translate(311.98,230.49)\" d=\"M7,0A7,7 0 1,1 0,-7A7,7 0 0,1 7,0Z\" style=\"opacity: 0.9; stroke-width: 1px; fill: rgb(234, 67, 53); fill-opacity: 1; stroke: rgb(181, 31, 18); stroke-opacity: 1;\"/></g><g class=\"text\"/></g><g class=\"trace scatter trace8063ad69-2276-49d1-8577-be9316292286\" style=\"stroke-miterlimit: 2; opacity: 1;\"><g class=\"fills\"/><g class=\"errorbars\"/><g class=\"lines\"/><g class=\"points\"><path class=\"point plotly-customdata\" transform=\"translate(588.75,17.73)\" d=\"M3.5,0A3.5,3.5 0 1,1 0,-3.5A3.5,3.5 0 0,1 3.5,0Z\" style=\"opacity: 0.75; stroke-width: 1px; fill: rgb(255, 170, 0); fill-opacity: 1; stroke: rgb(178, 118, 0); stroke-opacity: 1;\"/></g><g class=\"text\"/></g></g></g><g class=\"overplot\"/><path class=\"xlines-above crisp\" d=\"M0,0\" style=\"fill: none;\"/><path class=\"ylines-above crisp\" d=\"M0,0\" style=\"fill: none;\"/><g class=\"overlines-above\"/><g class=\"xaxislayer-above\"/><g class=\"yaxislayer-above\"><g class=\"y7tick\"><text text-anchor=\"end\" x=\"94\" y=\"4.199999999999999\" transform=\"translate(0,2099.2016049382714)\" style=\"font-family: 'Open Sans', verdana, arial, sans-serif; font-size: 12px; fill: rgb(42, 63, 95); fill-opacity: 1; white-space: pre;\">−50.00%</text></g><g class=\"y7tick\"><text text-anchor=\"end\" x=\"94\" y=\"4.199999999999999\" transform=\"translate(0,2057.0616049382716)\" style=\"font-family: 'Open Sans', verdana, arial, sans-serif; font-size: 12px; fill: rgb(42, 63, 95); fill-opacity: 1; white-space: pre;\">−40.00%</text></g><g class=\"y7tick\"><text text-anchor=\"end\" x=\"94\" y=\"4.199999999999999\" transform=\"translate(0,2014.9116049382717)\" style=\"font-family: 'Open Sans', verdana, arial, sans-serif; font-size: 12px; fill: rgb(42, 63, 95); fill-opacity: 1; white-space: pre;\">−30.00%</text></g><g class=\"y7tick\"><text text-anchor=\"end\" x=\"94\" y=\"4.199999999999999\" transform=\"translate(0,1972.7616049382716)\" style=\"font-family: 'Open Sans', verdana, arial, sans-serif; font-size: 12px; fill: rgb(42, 63, 95); fill-opacity: 1; white-space: pre;\">−20.00%</text></g><g class=\"y7tick\"><text text-anchor=\"end\" x=\"94\" y=\"4.199999999999999\" transform=\"translate(0,1930.6216049382717)\" style=\"font-family: 'Open Sans', verdana, arial, sans-serif; font-size: 12px; fill: rgb(42, 63, 95); fill-opacity: 1; white-space: pre;\">−10.00%</text></g><g class=\"y7tick\"><text text-anchor=\"end\" x=\"94\" y=\"4.199999999999999\" transform=\"translate(0,1888.4716049382716)\" style=\"font-family: 'Open Sans', verdana, arial, sans-serif; font-size: 12px; fill: rgb(42, 63, 95); fill-opacity: 1; white-space: pre;\">0.00%</text></g></g><g class=\"overaxes-above\"/></g><g class=\"subplot x8y8\"><g class=\"layer-subplot\"><g class=\"shapelayer\"/><g class=\"imagelayer\"/></g><g class=\"gridlayer\"><g class=\"x8\"><path class=\"x8grid crisp\" transform=\"translate(130.21,0)\" d=\"M0,2177.7168724279836v251.83045267489734\" style=\"stroke: rgb(255, 255, 255); stroke-opacity: 1; stroke-width: 1px;\"/><path class=\"x8grid crisp\" transform=\"translate(268.6,0)\" d=\"M0,2177.7168724279836v251.83045267489734\" style=\"stroke: rgb(255, 255, 255); stroke-opacity: 1; stroke-width: 1px;\"/><path class=\"x8grid crisp\" transform=\"translate(406.98,0)\" d=\"M0,2177.7168724279836v251.83045267489734\" style=\"stroke: rgb(255, 255, 255); stroke-opacity: 1; stroke-width: 1px;\"/><path class=\"x8grid crisp\" transform=\"translate(545.37,0)\" d=\"M0,2177.7168724279836v251.83045267489734\" style=\"stroke: rgb(255, 255, 255); stroke-opacity: 1; stroke-width: 1px;\"/><path class=\"x8grid crisp\" transform=\"translate(683.75,0)\" d=\"M0,2177.7168724279836v251.83045267489734\" style=\"stroke: rgb(255, 255, 255); stroke-opacity: 1; stroke-width: 1px;\"/></g><g class=\"y8\"><path class=\"y8grid crisp\" transform=\"translate(0,2412.7568724279836)\" d=\"M95,0h625\" style=\"stroke: rgb(255, 255, 255); stroke-opacity: 1; stroke-width: 1px;\"/><path class=\"y8grid crisp\" transform=\"translate(0,2339.8568724279835)\" d=\"M95,0h625\" style=\"stroke: rgb(255, 255, 255); stroke-opacity: 1; stroke-width: 1px;\"/><path class=\"y8grid crisp\" transform=\"translate(0,2266.9568724279834)\" d=\"M95,0h625\" style=\"stroke: rgb(255, 255, 255); stroke-opacity: 1; stroke-width: 1px;\"/><path class=\"y8grid crisp\" transform=\"translate(0,2194.0568724279838)\" d=\"M95,0h625\" style=\"stroke: rgb(255, 255, 255); stroke-opacity: 1; stroke-width: 1px;\"/></g></g><g class=\"zerolinelayer\"/><path class=\"xlines-below\"/><path class=\"ylines-below\"/><g class=\"overlines-below\"/><g class=\"xaxislayer-below\"/><g class=\"yaxislayer-below\"/><g class=\"overaxes-below\"/><g class=\"plot\" transform=\"translate(95,2177.7168724279836)\" clip-path=\"url('#clip184629x8y8plot')\"><g class=\"scatterlayer mlayer\"><g class=\"trace scatter tracef19ae906-a24d-4694-a4f5-e5116e07af37\" style=\"stroke-miterlimit: 2; opacity: 1;\"><g class=\"fills\"/><g class=\"errorbars\"/><g class=\"lines\"><path class=\"js-line\" d=\"M35.21,235.04L173.6,235.04L311.98,162.14L588.75,16.34\" style=\"vector-effect: non-scaling-stroke; fill: none; stroke: rgb(127, 127, 127); stroke-opacity: 1; stroke-width: 2px; opacity: 1;\"/></g><g class=\"points\"><path class=\"point\" transform=\"translate(35.21,235.04)\" d=\"M3,0A3,3 0 1,1 0,-3A3,3 0 0,1 3,0Z\" style=\"opacity: 1; stroke-width: 0px; fill: rgb(127, 127, 127); fill-opacity: 1;\"/><path class=\"point\" transform=\"translate(173.6,235.04)\" d=\"M3,0A3,3 0 1,1 0,-3A3,3 0 0,1 3,0Z\" style=\"opacity: 1; stroke-width: 0px; fill: rgb(127, 127, 127); fill-opacity: 1;\"/><path class=\"point\" transform=\"translate(311.98,162.14)\" d=\"M3,0A3,3 0 1,1 0,-3A3,3 0 0,1 3,0Z\" style=\"opacity: 1; stroke-width: 0px; fill: rgb(127, 127, 127); fill-opacity: 1;\"/><path class=\"point\" transform=\"translate(450.37,89.24)\" d=\"M3,0A3,3 0 1,1 0,-3A3,3 0 0,1 3,0Z\" style=\"opacity: 1; stroke-width: 0px; fill: rgb(127, 127, 127); fill-opacity: 1;\"/><path class=\"point\" transform=\"translate(588.75,16.34)\" d=\"M3,0A3,3 0 1,1 0,-3A3,3 0 0,1 3,0Z\" style=\"opacity: 1; stroke-width: 0px; fill: rgb(127, 127, 127); fill-opacity: 1;\"/></g><g class=\"text\"/></g><g class=\"trace scatter tracee9e82a0d-3dd2-4bc5-8c0a-9f773c3503a5\" style=\"stroke-miterlimit: 2;\"><g class=\"fills\"><g><path class=\"js-fill\" d=\"M35.21,235.04L588.75,235.49L588.75,235.04L35.21,235.04Z\" style=\"fill: rgb(255, 0, 0); fill-opacity: 0.3; stroke-width: 0;\"/></g></g><g class=\"errorbars\"/><g class=\"lines\"><path class=\"js-line\" d=\"M35.21,235.04L588.75,235.04\" style=\"vector-effect: non-scaling-stroke; fill: none; stroke: rgb(0, 0, 0); stroke-opacity: 0; stroke-width: 0px; opacity: 1;\"/></g><g class=\"points\"><path class=\"point\" transform=\"translate(35.21,235.04)\" d=\"M3,0A3,3 0 1,1 0,-3A3,3 0 0,1 3,0Z\" style=\"opacity: 1; stroke-width: 0px; fill: rgb(0, 0, 0); fill-opacity: 0;\"/><path class=\"point\" transform=\"translate(173.6,235.04)\" d=\"M3,0A3,3 0 1,1 0,-3A3,3 0 0,1 3,0Z\" style=\"opacity: 1; stroke-width: 0px; fill: rgb(0, 0, 0); fill-opacity: 0;\"/><path class=\"point\" transform=\"translate(311.98,235.04)\" d=\"M3,0A3,3 0 1,1 0,-3A3,3 0 0,1 3,0Z\" style=\"opacity: 1; stroke-width: 0px; fill: rgb(0, 0, 0); fill-opacity: 0;\"/><path class=\"point\" transform=\"translate(450.37,235.04)\" d=\"M3,0A3,3 0 1,1 0,-3A3,3 0 0,1 3,0Z\" style=\"opacity: 1; stroke-width: 0px; fill: rgb(0, 0, 0); fill-opacity: 0;\"/><path class=\"point\" transform=\"translate(588.75,235.04)\" d=\"M3,0A3,3 0 1,1 0,-3A3,3 0 0,1 3,0Z\" style=\"opacity: 1; stroke-width: 0px; fill: rgb(0, 0, 0); fill-opacity: 0;\"/></g><g class=\"text\"/></g><g class=\"trace scatter traced609f36c-ccd6-44a4-8bbc-bb36498bbdde\" style=\"stroke-miterlimit: 2;\"><g class=\"fills\"/><g class=\"errorbars\"/><g class=\"lines\"><path class=\"js-line\" d=\"M35.21,235.04L588.75,235.49\" style=\"vector-effect: non-scaling-stroke; fill: none; stroke: rgb(0, 0, 0); stroke-opacity: 0; stroke-width: 0px; opacity: 1;\"/></g><g class=\"points\"><path class=\"point\" transform=\"translate(35.21,235.04)\" d=\"M3,0A3,3 0 1,1 0,-3A3,3 0 0,1 3,0Z\" style=\"opacity: 1; stroke-width: 0px; fill: rgb(0, 0, 0); fill-opacity: 0;\"/><path class=\"point\" transform=\"translate(173.6,235.19)\" d=\"M3,0A3,3 0 1,1 0,-3A3,3 0 0,1 3,0Z\" style=\"opacity: 1; stroke-width: 0px; fill: rgb(0, 0, 0); fill-opacity: 0;\"/><path class=\"point\" transform=\"translate(311.98,235.2)\" d=\"M3,0A3,3 0 1,1 0,-3A3,3 0 0,1 3,0Z\" style=\"opacity: 1; stroke-width: 0px; fill: rgb(0, 0, 0); fill-opacity: 0;\"/><path class=\"point\" transform=\"translate(450.37,235.2)\" d=\"M3,0A3,3 0 1,1 0,-3A3,3 0 0,1 3,0Z\" style=\"opacity: 1; stroke-width: 0px; fill: rgb(0, 0, 0); fill-opacity: 0;\"/><path class=\"point\" transform=\"translate(588.75,235.49)\" d=\"M3,0A3,3 0 1,1 0,-3A3,3 0 0,1 3,0Z\" style=\"opacity: 1; stroke-width: 0px; fill: rgb(0, 0, 0); fill-opacity: 0;\"/></g><g class=\"text\"/></g><g class=\"trace scatter tracea7253eb5-6caf-4130-b4ef-221d842ab930\" style=\"stroke-miterlimit: 2; opacity: 1;\"><g class=\"fills\"/><g class=\"errorbars\"/><g class=\"lines\"><path class=\"js-line\" d=\"M35.21,235.04L588.75,235.49\" style=\"vector-effect: non-scaling-stroke; fill: none; stroke: rgb(148, 103, 189); stroke-opacity: 1; stroke-width: 2px; opacity: 1;\"/></g><g class=\"points\"><path class=\"point\" transform=\"translate(35.21,235.04)\" d=\"M3,0A3,3 0 1,1 0,-3A3,3 0 0,1 3,0Z\" style=\"opacity: 1; stroke-width: 0px; fill: rgb(148, 103, 189); fill-opacity: 1;\"/><path class=\"point\" transform=\"translate(173.6,235.19)\" d=\"M3,0A3,3 0 1,1 0,-3A3,3 0 0,1 3,0Z\" style=\"opacity: 1; stroke-width: 0px; fill: rgb(148, 103, 189); fill-opacity: 1;\"/><path class=\"point\" transform=\"translate(311.98,235.2)\" d=\"M3,0A3,3 0 1,1 0,-3A3,3 0 0,1 3,0Z\" style=\"opacity: 1; stroke-width: 0px; fill: rgb(148, 103, 189); fill-opacity: 1;\"/><path class=\"point\" transform=\"translate(450.37,235.2)\" d=\"M3,0A3,3 0 1,1 0,-3A3,3 0 0,1 3,0Z\" style=\"opacity: 1; stroke-width: 0px; fill: rgb(148, 103, 189); fill-opacity: 1;\"/><path class=\"point\" transform=\"translate(588.75,235.49)\" d=\"M3,0A3,3 0 1,1 0,-3A3,3 0 0,1 3,0Z\" style=\"opacity: 1; stroke-width: 0px; fill: rgb(148, 103, 189); fill-opacity: 1;\"/></g><g class=\"text\"/></g><g class=\"trace scatter traceb7bc2c72-2253-4189-a5b8-2b3f189b64f7\" style=\"stroke-miterlimit: 2; opacity: 0;\"><g class=\"fills\"/><g class=\"errorbars\"/><g class=\"lines\"><path class=\"js-line\" d=\"M35.21,235.04L588.75,235.04\" style=\"vector-effect: non-scaling-stroke; fill: none; stroke: rgb(0, 0, 0); stroke-opacity: 0; stroke-width: 0px; opacity: 1;\"/></g><g class=\"points\"><path class=\"point\" transform=\"translate(35.21,235.04)\" d=\"M3,0A3,3 0 1,1 0,-3A3,3 0 0,1 3,0Z\" style=\"opacity: 1; stroke-width: 0px; fill: rgb(0, 0, 0); fill-opacity: 0;\"/><path class=\"point\" transform=\"translate(173.6,235.04)\" d=\"M3,0A3,3 0 1,1 0,-3A3,3 0 0,1 3,0Z\" style=\"opacity: 1; stroke-width: 0px; fill: rgb(0, 0, 0); fill-opacity: 0;\"/><path class=\"point\" transform=\"translate(311.98,235.04)\" d=\"M3,0A3,3 0 1,1 0,-3A3,3 0 0,1 3,0Z\" style=\"opacity: 1; stroke-width: 0px; fill: rgb(0, 0, 0); fill-opacity: 0;\"/><path class=\"point\" transform=\"translate(450.37,235.04)\" d=\"M3,0A3,3 0 1,1 0,-3A3,3 0 0,1 3,0Z\" style=\"opacity: 1; stroke-width: 0px; fill: rgb(0, 0, 0); fill-opacity: 0;\"/><path class=\"point\" transform=\"translate(588.75,235.04)\" d=\"M3,0A3,3 0 1,1 0,-3A3,3 0 0,1 3,0Z\" style=\"opacity: 1; stroke-width: 0px; fill: rgb(0, 0, 0); fill-opacity: 0;\"/></g><g class=\"text\"/></g></g></g><g class=\"overplot\"/><path class=\"xlines-above crisp\" d=\"M0,0\" style=\"fill: none;\"/><path class=\"ylines-above crisp\" d=\"M0,0\" style=\"fill: none;\"/><g class=\"overlines-above\"/><g class=\"xaxislayer-above\"/><g class=\"yaxislayer-above\"><g class=\"y8tick\"><text text-anchor=\"end\" x=\"94\" y=\"4.199999999999999\" transform=\"translate(0,2412.7568724279836)\" style=\"font-family: 'Open Sans', verdana, arial, sans-serif; font-size: 12px; fill: rgb(42, 63, 95); fill-opacity: 1; white-space: pre;\">1</text></g><g class=\"y8tick\"><text text-anchor=\"end\" x=\"94\" y=\"4.199999999999999\" transform=\"translate(0,2339.8568724279835)\" style=\"font-family: 'Open Sans', verdana, arial, sans-serif; font-size: 12px; fill: rgb(42, 63, 95); fill-opacity: 1; white-space: pre;\">1.5</text></g><g class=\"y8tick\"><text text-anchor=\"end\" x=\"94\" y=\"4.199999999999999\" transform=\"translate(0,2266.9568724279834)\" style=\"font-family: 'Open Sans', verdana, arial, sans-serif; font-size: 12px; fill: rgb(42, 63, 95); fill-opacity: 1; white-space: pre;\">2</text></g><g class=\"y8tick\"><text text-anchor=\"end\" x=\"94\" y=\"4.199999999999999\" transform=\"translate(0,2194.0568724279838)\" style=\"font-family: 'Open Sans', verdana, arial, sans-serif; font-size: 12px; fill: rgb(42, 63, 95); fill-opacity: 1; white-space: pre;\">2.5</text></g></g><g class=\"overaxes-above\"/></g><g class=\"subplot x9y9\"><g class=\"layer-subplot\"><g class=\"shapelayer\"/><g class=\"imagelayer\"/></g><g class=\"gridlayer\"><g class=\"x9\"><path class=\"x9grid crisp\" transform=\"translate(130.21,0)\" d=\"M0,2467.9621399176954v251.83045267489734\" style=\"stroke: rgb(255, 255, 255); stroke-opacity: 1; stroke-width: 1px;\"/><path class=\"x9grid crisp\" transform=\"translate(268.6,0)\" d=\"M0,2467.9621399176954v251.83045267489734\" style=\"stroke: rgb(255, 255, 255); stroke-opacity: 1; stroke-width: 1px;\"/><path class=\"x9grid crisp\" transform=\"translate(406.98,0)\" d=\"M0,2467.9621399176954v251.83045267489734\" style=\"stroke: rgb(255, 255, 255); stroke-opacity: 1; stroke-width: 1px;\"/><path class=\"x9grid crisp\" transform=\"translate(545.37,0)\" d=\"M0,2467.9621399176954v251.83045267489734\" style=\"stroke: rgb(255, 255, 255); stroke-opacity: 1; stroke-width: 1px;\"/><path class=\"x9grid crisp\" transform=\"translate(683.75,0)\" d=\"M0,2467.9621399176954v251.83045267489734\" style=\"stroke: rgb(255, 255, 255); stroke-opacity: 1; stroke-width: 1px;\"/></g><g class=\"y9\"><path class=\"y9grid crisp\" transform=\"translate(0,2643.682139917695)\" d=\"M95,0h625\" style=\"stroke: rgb(255, 255, 255); stroke-opacity: 1; stroke-width: 1px;\"/><path class=\"y9grid crisp\" transform=\"translate(0,2603.8421399176955)\" d=\"M95,0h625\" style=\"stroke: rgb(255, 255, 255); stroke-opacity: 1; stroke-width: 1px;\"/><path class=\"y9grid crisp\" transform=\"translate(0,2563.9921399176956)\" d=\"M95,0h625\" style=\"stroke: rgb(255, 255, 255); stroke-opacity: 1; stroke-width: 1px;\"/><path class=\"y9grid crisp\" transform=\"translate(0,2524.1521399176954)\" d=\"M95,0h625\" style=\"stroke: rgb(255, 255, 255); stroke-opacity: 1; stroke-width: 1px;\"/><path class=\"y9grid crisp\" transform=\"translate(0,2484.3021399176955)\" d=\"M95,0h625\" style=\"stroke: rgb(255, 255, 255); stroke-opacity: 1; stroke-width: 1px;\"/></g></g><g class=\"zerolinelayer\"><path class=\"y9zl zl crisp\" transform=\"translate(0,2683.5321399176955)\" d=\"M95,0h625\" style=\"stroke: rgb(255, 255, 255); stroke-opacity: 1; stroke-width: 2px;\"/></g><path class=\"xlines-below\"/><path class=\"ylines-below\"/><g class=\"overlines-below\"/><g class=\"xaxislayer-below\"/><g class=\"yaxislayer-below\"/><g class=\"overaxes-below\"/><g class=\"plot\" transform=\"translate(95,2467.9621399176954)\" clip-path=\"url('#clip184629x9y9plot')\"><g class=\"scatterlayer mlayer\"><g class=\"trace scatter trace0569d7ef-aa19-47e4-af82-b592c390eeb6\" style=\"stroke-miterlimit: 2; opacity: 1;\"><g class=\"fills\"/><g class=\"errorbars\"/><g class=\"lines\"><path class=\"js-line\" d=\"M35.21,215.57L173.6,195.64L311.98,235.49L450.37,215.57L588.75,16.34\" style=\"vector-effect: non-scaling-stroke; fill: none; stroke: rgb(140, 86, 75); stroke-opacity: 1; stroke-width: 2px; opacity: 1;\"/></g><g class=\"points\"><path class=\"point\" transform=\"translate(35.21,215.57)\" d=\"M3,0A3,3 0 1,1 0,-3A3,3 0 0,1 3,0Z\" style=\"opacity: 1; stroke-width: 0px; fill: rgb(140, 86, 75); fill-opacity: 1;\"/><path class=\"point\" transform=\"translate(173.6,195.64)\" d=\"M3,0A3,3 0 1,1 0,-3A3,3 0 0,1 3,0Z\" style=\"opacity: 1; stroke-width: 0px; fill: rgb(140, 86, 75); fill-opacity: 1;\"/><path class=\"point\" transform=\"translate(311.98,235.49)\" d=\"M3,0A3,3 0 1,1 0,-3A3,3 0 0,1 3,0Z\" style=\"opacity: 1; stroke-width: 0px; fill: rgb(140, 86, 75); fill-opacity: 1;\"/><path class=\"point\" transform=\"translate(450.37,215.57)\" d=\"M3,0A3,3 0 1,1 0,-3A3,3 0 0,1 3,0Z\" style=\"opacity: 1; stroke-width: 0px; fill: rgb(140, 86, 75); fill-opacity: 1;\"/><path class=\"point\" transform=\"translate(588.75,16.34)\" d=\"M3,0A3,3 0 1,1 0,-3A3,3 0 0,1 3,0Z\" style=\"opacity: 1; stroke-width: 0px; fill: rgb(140, 86, 75); fill-opacity: 1;\"/></g><g class=\"text\"/></g></g></g><g class=\"overplot\"/><path class=\"xlines-above crisp\" d=\"M0,0\" style=\"fill: none;\"/><path class=\"ylines-above crisp\" d=\"M0,0\" style=\"fill: none;\"/><g class=\"overlines-above\"/><g class=\"xaxislayer-above\"/><g class=\"yaxislayer-above\"><g class=\"y9tick\"><text text-anchor=\"end\" x=\"94\" y=\"4.199999999999999\" transform=\"translate(0,2683.5321399176955)\" style=\"font-family: 'Open Sans', verdana, arial, sans-serif; font-size: 12px; fill: rgb(42, 63, 95); fill-opacity: 1; white-space: pre;\">0</text></g><g class=\"y9tick\"><text text-anchor=\"end\" x=\"94\" y=\"4.199999999999999\" transform=\"translate(0,2643.682139917695)\" style=\"font-family: 'Open Sans', verdana, arial, sans-serif; font-size: 12px; fill: rgb(42, 63, 95); fill-opacity: 1; white-space: pre;\">0.2</text></g><g class=\"y9tick\"><text text-anchor=\"end\" x=\"94\" y=\"4.199999999999999\" transform=\"translate(0,2603.8421399176955)\" style=\"font-family: 'Open Sans', verdana, arial, sans-serif; font-size: 12px; fill: rgb(42, 63, 95); fill-opacity: 1; white-space: pre;\">0.4</text></g><g class=\"y9tick\"><text text-anchor=\"end\" x=\"94\" y=\"4.199999999999999\" transform=\"translate(0,2563.9921399176956)\" style=\"font-family: 'Open Sans', verdana, arial, sans-serif; font-size: 12px; fill: rgb(42, 63, 95); fill-opacity: 1; white-space: pre;\">0.6</text></g><g class=\"y9tick\"><text text-anchor=\"end\" x=\"94\" y=\"4.199999999999999\" transform=\"translate(0,2524.1521399176954)\" style=\"font-family: 'Open Sans', verdana, arial, sans-serif; font-size: 12px; fill: rgb(42, 63, 95); fill-opacity: 1; white-space: pre;\">0.8</text></g><g class=\"y9tick\"><text text-anchor=\"end\" x=\"94\" y=\"4.199999999999999\" transform=\"translate(0,2484.3021399176955)\" style=\"font-family: 'Open Sans', verdana, arial, sans-serif; font-size: 12px; fill: rgb(42, 63, 95); fill-opacity: 1; white-space: pre;\">1</text></g></g><g class=\"overaxes-above\"/></g><g class=\"subplot x10y10\"><g class=\"layer-subplot\"><g class=\"shapelayer\"/><g class=\"imagelayer\"/></g><g class=\"gridlayer\"><g class=\"x10\"><path class=\"x10grid crisp\" transform=\"translate(130.21,0)\" d=\"M0,2758.2074074074076v251.83045267489706\" style=\"stroke: rgb(255, 255, 255); stroke-opacity: 1; stroke-width: 1px;\"/><path class=\"x10grid crisp\" transform=\"translate(268.6,0)\" d=\"M0,2758.2074074074076v251.83045267489706\" style=\"stroke: rgb(255, 255, 255); stroke-opacity: 1; stroke-width: 1px;\"/><path class=\"x10grid crisp\" transform=\"translate(406.98,0)\" d=\"M0,2758.2074074074076v251.83045267489706\" style=\"stroke: rgb(255, 255, 255); stroke-opacity: 1; stroke-width: 1px;\"/><path class=\"x10grid crisp\" transform=\"translate(545.37,0)\" d=\"M0,2758.2074074074076v251.83045267489706\" style=\"stroke: rgb(255, 255, 255); stroke-opacity: 1; stroke-width: 1px;\"/><path class=\"x10grid crisp\" transform=\"translate(683.75,0)\" d=\"M0,2758.2074074074076v251.83045267489706\" style=\"stroke: rgb(255, 255, 255); stroke-opacity: 1; stroke-width: 1px;\"/></g><g class=\"y10\"><path class=\"y10grid crisp\" transform=\"translate(0,2985.5474074074077)\" d=\"M95,0h625\" style=\"stroke: rgb(255, 255, 255); stroke-opacity: 1; stroke-width: 1px;\"/><path class=\"y10grid crisp\" transform=\"translate(0,2944.9274074074074)\" d=\"M95,0h625\" style=\"stroke: rgb(255, 255, 255); stroke-opacity: 1; stroke-width: 1px;\"/><path class=\"y10grid crisp\" transform=\"translate(0,2904.3074074074075)\" d=\"M95,0h625\" style=\"stroke: rgb(255, 255, 255); stroke-opacity: 1; stroke-width: 1px;\"/><path class=\"y10grid crisp\" transform=\"translate(0,2863.6774074074074)\" d=\"M95,0h625\" style=\"stroke: rgb(255, 255, 255); stroke-opacity: 1; stroke-width: 1px;\"/><path class=\"y10grid crisp\" transform=\"translate(0,2823.0574074074075)\" d=\"M95,0h625\" style=\"stroke: rgb(255, 255, 255); stroke-opacity: 1; stroke-width: 1px;\"/></g></g><g class=\"zerolinelayer\"><path class=\"y10zl zl crisp\" transform=\"translate(0,2782.4274074074074)\" d=\"M95,0h625\" style=\"stroke: rgb(255, 255, 255); stroke-opacity: 1; stroke-width: 2px;\"/></g><path class=\"xlines-below\"/><path class=\"ylines-below\"/><g class=\"overlines-below\"/><g class=\"xaxislayer-below\"/><g class=\"yaxislayer-below\"/><g class=\"overaxes-below\"/><g class=\"plot\" transform=\"translate(95,2758.2074074074076)\" clip-path=\"url('#clip184629x10y10plot')\"><g class=\"scatterlayer mlayer\"><g class=\"trace scatter trace35514936-cade-44eb-a29c-7b8c97146c16\" style=\"stroke-miterlimit: 2; opacity: 1;\"><g class=\"fills\"/><g class=\"errorbars\"/><g class=\"lines\"><path class=\"js-line\" d=\"M35.21,24.22L173.6,36.57L311.98,16.34L450.37,24.22L588.75,235.49\" style=\"vector-effect: non-scaling-stroke; fill: none; stroke: rgb(44, 160, 44); stroke-opacity: 1; stroke-width: 2px; opacity: 1;\"/></g><g class=\"points\"><path class=\"point\" transform=\"translate(35.21,24.22)\" d=\"M3,0A3,3 0 1,1 0,-3A3,3 0 0,1 3,0Z\" style=\"opacity: 1; stroke-width: 0px; fill: rgb(44, 160, 44); fill-opacity: 1;\"/><path class=\"point\" transform=\"translate(173.6,36.57)\" d=\"M3,0A3,3 0 1,1 0,-3A3,3 0 0,1 3,0Z\" style=\"opacity: 1; stroke-width: 0px; fill: rgb(44, 160, 44); fill-opacity: 1;\"/><path class=\"point\" transform=\"translate(311.98,16.34)\" d=\"M3,0A3,3 0 1,1 0,-3A3,3 0 0,1 3,0Z\" style=\"opacity: 1; stroke-width: 0px; fill: rgb(44, 160, 44); fill-opacity: 1;\"/><path class=\"point\" transform=\"translate(450.37,24.22)\" d=\"M3,0A3,3 0 1,1 0,-3A3,3 0 0,1 3,0Z\" style=\"opacity: 1; stroke-width: 0px; fill: rgb(44, 160, 44); fill-opacity: 1;\"/><path class=\"point\" transform=\"translate(588.75,235.49)\" d=\"M3,0A3,3 0 1,1 0,-3A3,3 0 0,1 3,0Z\" style=\"opacity: 1; stroke-width: 0px; fill: rgb(44, 160, 44); fill-opacity: 1;\"/></g><g class=\"text\"/></g></g></g><g class=\"overplot\"/><path class=\"xlines-above crisp\" d=\"M0,0\" style=\"fill: none;\"/><path class=\"ylines-above crisp\" d=\"M0,0\" style=\"fill: none;\"/><g class=\"overlines-above\"/><g class=\"xaxislayer-above\"/><g class=\"yaxislayer-above\"><g class=\"y10tick\"><text text-anchor=\"end\" x=\"94\" y=\"4.199999999999999\" transform=\"translate(0,2985.5474074074077)\" style=\"font-family: 'Open Sans', verdana, arial, sans-serif; font-size: 12px; fill: rgb(42, 63, 95); fill-opacity: 1; white-space: pre;\">−5</text></g><g class=\"y10tick\"><text text-anchor=\"end\" x=\"94\" y=\"4.199999999999999\" transform=\"translate(0,2944.9274074074074)\" style=\"font-family: 'Open Sans', verdana, arial, sans-serif; font-size: 12px; fill: rgb(42, 63, 95); fill-opacity: 1; white-space: pre;\">−4</text></g><g class=\"y10tick\"><text text-anchor=\"end\" x=\"94\" y=\"4.199999999999999\" transform=\"translate(0,2904.3074074074075)\" style=\"font-family: 'Open Sans', verdana, arial, sans-serif; font-size: 12px; fill: rgb(42, 63, 95); fill-opacity: 1; white-space: pre;\">−3</text></g><g class=\"y10tick\"><text text-anchor=\"end\" x=\"94\" y=\"4.199999999999999\" transform=\"translate(0,2863.6774074074074)\" style=\"font-family: 'Open Sans', verdana, arial, sans-serif; font-size: 12px; fill: rgb(42, 63, 95); fill-opacity: 1; white-space: pre;\">−2</text></g><g class=\"y10tick\"><text text-anchor=\"end\" x=\"94\" y=\"4.199999999999999\" transform=\"translate(0,2823.0574074074075)\" style=\"font-family: 'Open Sans', verdana, arial, sans-serif; font-size: 12px; fill: rgb(42, 63, 95); fill-opacity: 1; white-space: pre;\">−1</text></g><g class=\"y10tick\"><text text-anchor=\"end\" x=\"94\" y=\"4.199999999999999\" transform=\"translate(0,2782.4274074074074)\" style=\"font-family: 'Open Sans', verdana, arial, sans-serif; font-size: 12px; fill: rgb(42, 63, 95); fill-opacity: 1; white-space: pre;\">0</text></g></g><g class=\"overaxes-above\"/></g><g class=\"subplot x11y11\"><g class=\"layer-subplot\"><g class=\"shapelayer\"/><g class=\"imagelayer\"/></g><g class=\"gridlayer\"><g class=\"x11\"><path class=\"x11grid crisp\" transform=\"translate(130.21,0)\" d=\"M0,3048.4526748971193v251.83045267489706\" style=\"stroke: rgb(255, 255, 255); stroke-opacity: 1; stroke-width: 1px;\"/><path class=\"x11grid crisp\" transform=\"translate(268.6,0)\" d=\"M0,3048.4526748971193v251.83045267489706\" style=\"stroke: rgb(255, 255, 255); stroke-opacity: 1; stroke-width: 1px;\"/><path class=\"x11grid crisp\" transform=\"translate(406.98,0)\" d=\"M0,3048.4526748971193v251.83045267489706\" style=\"stroke: rgb(255, 255, 255); stroke-opacity: 1; stroke-width: 1px;\"/><path class=\"x11grid crisp\" transform=\"translate(545.37,0)\" d=\"M0,3048.4526748971193v251.83045267489706\" style=\"stroke: rgb(255, 255, 255); stroke-opacity: 1; stroke-width: 1px;\"/><path class=\"x11grid crisp\" transform=\"translate(683.75,0)\" d=\"M0,3048.4526748971193v251.83045267489706\" style=\"stroke: rgb(255, 255, 255); stroke-opacity: 1; stroke-width: 1px;\"/></g><g class=\"y11\"><path class=\"y11grid crisp\" transform=\"translate(0,3240.112674897119)\" d=\"M95,0h625\" style=\"stroke: rgb(255, 255, 255); stroke-opacity: 1; stroke-width: 1px;\"/><path class=\"y11grid crisp\" transform=\"translate(0,3196.2826748971193)\" d=\"M95,0h625\" style=\"stroke: rgb(255, 255, 255); stroke-opacity: 1; stroke-width: 1px;\"/><path class=\"y11grid crisp\" transform=\"translate(0,3152.4526748971193)\" d=\"M95,0h625\" style=\"stroke: rgb(255, 255, 255); stroke-opacity: 1; stroke-width: 1px;\"/><path class=\"y11grid crisp\" transform=\"translate(0,3108.6226748971194)\" d=\"M95,0h625\" style=\"stroke: rgb(255, 255, 255); stroke-opacity: 1; stroke-width: 1px;\"/><path class=\"y11grid crisp\" transform=\"translate(0,3064.7926748971195)\" d=\"M95,0h625\" style=\"stroke: rgb(255, 255, 255); stroke-opacity: 1; stroke-width: 1px;\"/></g></g><g class=\"zerolinelayer\"><path class=\"y11zl zl crisp\" transform=\"translate(0,3283.942674897119)\" d=\"M95,0h625\" style=\"stroke: rgb(255, 255, 255); stroke-opacity: 1; stroke-width: 2px;\"/></g><path class=\"xlines-below\"/><path class=\"ylines-below\"/><g class=\"overlines-below\"/><g class=\"xaxislayer-below\"/><g class=\"yaxislayer-below\"/><g class=\"overaxes-below\"/><g class=\"plot\" transform=\"translate(95,3048.4526748971193)\" clip-path=\"url('#clip184629x11y11plot')\"><g class=\"scatterlayer mlayer\"><g class=\"trace scatter traceb7735036-333a-4db2-96c0-e72f79f756ca\" style=\"stroke-miterlimit: 2;\"><g class=\"fills\"><g><path class=\"js-fill\" d=\"M35.21,235.49L173.6,213.57L311.98,235.49L450.37,235.49L588.75,16.34L588.75,235.49L35.21,235.49Z\" style=\"fill: rgb(140, 86, 75); fill-opacity: 0.3; stroke-width: 0;\"/></g></g><g class=\"errorbars\"/><g class=\"lines\"><path class=\"js-line\" d=\"M35.21,235.49L588.75,235.49\" style=\"vector-effect: non-scaling-stroke; fill: none; stroke: rgb(0, 0, 0); stroke-opacity: 0; stroke-width: 0px; opacity: 1;\"/></g><g class=\"points\"><path class=\"point\" transform=\"translate(35.21,235.49)\" d=\"M3,0A3,3 0 1,1 0,-3A3,3 0 0,1 3,0Z\" style=\"opacity: 1; stroke-width: 0px; fill: rgb(0, 0, 0); fill-opacity: 0;\"/><path class=\"point\" transform=\"translate(173.6,235.49)\" d=\"M3,0A3,3 0 1,1 0,-3A3,3 0 0,1 3,0Z\" style=\"opacity: 1; stroke-width: 0px; fill: rgb(0, 0, 0); fill-opacity: 0;\"/><path class=\"point\" transform=\"translate(311.98,235.49)\" d=\"M3,0A3,3 0 1,1 0,-3A3,3 0 0,1 3,0Z\" style=\"opacity: 1; stroke-width: 0px; fill: rgb(0, 0, 0); fill-opacity: 0;\"/><path class=\"point\" transform=\"translate(450.37,235.49)\" d=\"M3,0A3,3 0 1,1 0,-3A3,3 0 0,1 3,0Z\" style=\"opacity: 1; stroke-width: 0px; fill: rgb(0, 0, 0); fill-opacity: 0;\"/><path class=\"point\" transform=\"translate(588.75,235.49)\" d=\"M3,0A3,3 0 1,1 0,-3A3,3 0 0,1 3,0Z\" style=\"opacity: 1; stroke-width: 0px; fill: rgb(0, 0, 0); fill-opacity: 0;\"/></g><g class=\"text\"/></g><g class=\"trace scatter tracea43ccac6-29b4-4e93-b3a1-5259fdf20050\" style=\"stroke-miterlimit: 2;\"><g class=\"fills\"/><g class=\"errorbars\"/><g class=\"lines\"><path class=\"js-line\" d=\"M35.21,235.49L173.6,213.57L311.98,235.49L450.37,235.49L588.75,16.34\" style=\"vector-effect: non-scaling-stroke; fill: none; stroke: rgb(0, 0, 0); stroke-opacity: 0; stroke-width: 0px; opacity: 1;\"/></g><g class=\"points\"><path class=\"point\" transform=\"translate(35.21,235.49)\" d=\"M3,0A3,3 0 1,1 0,-3A3,3 0 0,1 3,0Z\" style=\"opacity: 1; stroke-width: 0px; fill: rgb(0, 0, 0); fill-opacity: 0;\"/><path class=\"point\" transform=\"translate(173.6,213.57)\" d=\"M3,0A3,3 0 1,1 0,-3A3,3 0 0,1 3,0Z\" style=\"opacity: 1; stroke-width: 0px; fill: rgb(0, 0, 0); fill-opacity: 0;\"/><path class=\"point\" transform=\"translate(311.98,235.49)\" d=\"M3,0A3,3 0 1,1 0,-3A3,3 0 0,1 3,0Z\" style=\"opacity: 1; stroke-width: 0px; fill: rgb(0, 0, 0); fill-opacity: 0;\"/><path class=\"point\" transform=\"translate(450.37,235.49)\" d=\"M3,0A3,3 0 1,1 0,-3A3,3 0 0,1 3,0Z\" style=\"opacity: 1; stroke-width: 0px; fill: rgb(0, 0, 0); fill-opacity: 0;\"/><path class=\"point\" transform=\"translate(588.75,16.34)\" d=\"M3,0A3,3 0 1,1 0,-3A3,3 0 0,1 3,0Z\" style=\"opacity: 1; stroke-width: 0px; fill: rgb(0, 0, 0); fill-opacity: 0;\"/></g><g class=\"text\"/></g><g class=\"trace scatter traceb8f156a4-cf9e-4e5e-acb1-a8dab3938830\" style=\"stroke-miterlimit: 2; opacity: 1;\"><g class=\"fills\"/><g class=\"errorbars\"/><g class=\"lines\"><path class=\"js-line\" d=\"M35.21,235.49L173.6,213.57L311.98,235.49L450.37,235.49L588.75,16.34\" style=\"vector-effect: non-scaling-stroke; fill: none; stroke: rgb(140, 86, 75); stroke-opacity: 1; stroke-width: 2px; opacity: 1;\"/></g><g class=\"points\"><path class=\"point\" transform=\"translate(35.21,235.49)\" d=\"M3,0A3,3 0 1,1 0,-3A3,3 0 0,1 3,0Z\" style=\"opacity: 1; stroke-width: 0px; fill: rgb(140, 86, 75); fill-opacity: 1;\"/><path class=\"point\" transform=\"translate(173.6,213.57)\" d=\"M3,0A3,3 0 1,1 0,-3A3,3 0 0,1 3,0Z\" style=\"opacity: 1; stroke-width: 0px; fill: rgb(140, 86, 75); fill-opacity: 1;\"/><path class=\"point\" transform=\"translate(311.98,235.49)\" d=\"M3,0A3,3 0 1,1 0,-3A3,3 0 0,1 3,0Z\" style=\"opacity: 1; stroke-width: 0px; fill: rgb(140, 86, 75); fill-opacity: 1;\"/><path class=\"point\" transform=\"translate(450.37,235.49)\" d=\"M3,0A3,3 0 1,1 0,-3A3,3 0 0,1 3,0Z\" style=\"opacity: 1; stroke-width: 0px; fill: rgb(140, 86, 75); fill-opacity: 1;\"/><path class=\"point\" transform=\"translate(588.75,16.34)\" d=\"M3,0A3,3 0 1,1 0,-3A3,3 0 0,1 3,0Z\" style=\"opacity: 1; stroke-width: 0px; fill: rgb(140, 86, 75); fill-opacity: 1;\"/></g><g class=\"text\"/></g><g class=\"trace scatter trace976a79f9-4014-4606-9b11-67b251f2fb09\" style=\"stroke-miterlimit: 2; opacity: 0;\"><g class=\"fills\"/><g class=\"errorbars\"/><g class=\"lines\"><path class=\"js-line\" d=\"M35.21,235.49L588.75,235.49\" style=\"vector-effect: non-scaling-stroke; fill: none; stroke: rgb(0, 0, 0); stroke-opacity: 0; stroke-width: 0px; opacity: 1;\"/></g><g class=\"points\"><path class=\"point\" transform=\"translate(35.21,235.49)\" d=\"M3,0A3,3 0 1,1 0,-3A3,3 0 0,1 3,0Z\" style=\"opacity: 1; stroke-width: 0px; fill: rgb(0, 0, 0); fill-opacity: 0;\"/><path class=\"point\" transform=\"translate(173.6,235.49)\" d=\"M3,0A3,3 0 1,1 0,-3A3,3 0 0,1 3,0Z\" style=\"opacity: 1; stroke-width: 0px; fill: rgb(0, 0, 0); fill-opacity: 0;\"/><path class=\"point\" transform=\"translate(311.98,235.49)\" d=\"M3,0A3,3 0 1,1 0,-3A3,3 0 0,1 3,0Z\" style=\"opacity: 1; stroke-width: 0px; fill: rgb(0, 0, 0); fill-opacity: 0;\"/><path class=\"point\" transform=\"translate(450.37,235.49)\" d=\"M3,0A3,3 0 1,1 0,-3A3,3 0 0,1 3,0Z\" style=\"opacity: 1; stroke-width: 0px; fill: rgb(0, 0, 0); fill-opacity: 0;\"/><path class=\"point\" transform=\"translate(588.75,235.49)\" d=\"M3,0A3,3 0 1,1 0,-3A3,3 0 0,1 3,0Z\" style=\"opacity: 1; stroke-width: 0px; fill: rgb(0, 0, 0); fill-opacity: 0;\"/></g><g class=\"text\"/></g></g></g><g class=\"overplot\"/><path class=\"xlines-above crisp\" d=\"M0,0\" style=\"fill: none;\"/><path class=\"ylines-above crisp\" d=\"M0,0\" style=\"fill: none;\"/><g class=\"overlines-above\"/><g class=\"xaxislayer-above\"/><g class=\"yaxislayer-above\"><g class=\"y11tick\"><text text-anchor=\"end\" x=\"94\" y=\"4.199999999999999\" transform=\"translate(0,3283.942674897119)\" style=\"font-family: 'Open Sans', verdana, arial, sans-serif; font-size: 12px; fill: rgb(42, 63, 95); fill-opacity: 1; white-space: pre;\">0</text></g><g class=\"y11tick\"><text text-anchor=\"end\" x=\"94\" y=\"4.199999999999999\" transform=\"translate(0,3240.112674897119)\" style=\"font-family: 'Open Sans', verdana, arial, sans-serif; font-size: 12px; fill: rgb(42, 63, 95); fill-opacity: 1; white-space: pre;\">0.2</text></g><g class=\"y11tick\"><text text-anchor=\"end\" x=\"94\" y=\"4.199999999999999\" transform=\"translate(0,3196.2826748971193)\" style=\"font-family: 'Open Sans', verdana, arial, sans-serif; font-size: 12px; fill: rgb(42, 63, 95); fill-opacity: 1; white-space: pre;\">0.4</text></g><g class=\"y11tick\"><text text-anchor=\"end\" x=\"94\" y=\"4.199999999999999\" transform=\"translate(0,3152.4526748971193)\" style=\"font-family: 'Open Sans', verdana, arial, sans-serif; font-size: 12px; fill: rgb(42, 63, 95); fill-opacity: 1; white-space: pre;\">0.6</text></g><g class=\"y11tick\"><text text-anchor=\"end\" x=\"94\" y=\"4.199999999999999\" transform=\"translate(0,3108.6226748971194)\" style=\"font-family: 'Open Sans', verdana, arial, sans-serif; font-size: 12px; fill: rgb(42, 63, 95); fill-opacity: 1; white-space: pre;\">0.8</text></g><g class=\"y11tick\"><text text-anchor=\"end\" x=\"94\" y=\"4.199999999999999\" transform=\"translate(0,3064.7926748971195)\" style=\"font-family: 'Open Sans', verdana, arial, sans-serif; font-size: 12px; fill: rgb(42, 63, 95); fill-opacity: 1; white-space: pre;\">1</text></g></g><g class=\"overaxes-above\"/></g><g class=\"subplot x12y12\"><g class=\"layer-subplot\"><g class=\"shapelayer\"/><g class=\"imagelayer\"/></g><g class=\"gridlayer\"><g class=\"x12\"><path class=\"x12grid crisp\" transform=\"translate(130.21,0)\" d=\"M0,3338.697942386831v251.83045267489706\" style=\"stroke: rgb(255, 255, 255); stroke-opacity: 1; stroke-width: 1px;\"/><path class=\"x12grid crisp\" transform=\"translate(268.6,0)\" d=\"M0,3338.697942386831v251.83045267489706\" style=\"stroke: rgb(255, 255, 255); stroke-opacity: 1; stroke-width: 1px;\"/><path class=\"x12grid crisp\" transform=\"translate(406.98,0)\" d=\"M0,3338.697942386831v251.83045267489706\" style=\"stroke: rgb(255, 255, 255); stroke-opacity: 1; stroke-width: 1px;\"/><path class=\"x12grid crisp\" transform=\"translate(545.37,0)\" d=\"M0,3338.697942386831v251.83045267489706\" style=\"stroke: rgb(255, 255, 255); stroke-opacity: 1; stroke-width: 1px;\"/><path class=\"x12grid crisp\" transform=\"translate(683.75,0)\" d=\"M0,3338.697942386831v251.83045267489706\" style=\"stroke: rgb(255, 255, 255); stroke-opacity: 1; stroke-width: 1px;\"/></g><g class=\"y12\"><path class=\"y12grid crisp\" transform=\"translate(0,3530.357942386831)\" d=\"M95,0h625\" style=\"stroke: rgb(255, 255, 255); stroke-opacity: 1; stroke-width: 1px;\"/><path class=\"y12grid crisp\" transform=\"translate(0,3486.527942386831)\" d=\"M95,0h625\" style=\"stroke: rgb(255, 255, 255); stroke-opacity: 1; stroke-width: 1px;\"/><path class=\"y12grid crisp\" transform=\"translate(0,3442.697942386831)\" d=\"M95,0h625\" style=\"stroke: rgb(255, 255, 255); stroke-opacity: 1; stroke-width: 1px;\"/><path class=\"y12grid crisp\" transform=\"translate(0,3398.867942386831)\" d=\"M95,0h625\" style=\"stroke: rgb(255, 255, 255); stroke-opacity: 1; stroke-width: 1px;\"/><path class=\"y12grid crisp\" transform=\"translate(0,3355.037942386831)\" d=\"M95,0h625\" style=\"stroke: rgb(255, 255, 255); stroke-opacity: 1; stroke-width: 1px;\"/></g></g><g class=\"zerolinelayer\"><path class=\"y12zl zl crisp\" transform=\"translate(0,3574.1879423868313)\" d=\"M95,0h625\" style=\"stroke: rgb(255, 255, 255); stroke-opacity: 1; stroke-width: 2px;\"/></g><path class=\"xlines-below\"/><path class=\"ylines-below\"/><g class=\"overlines-below\"/><g class=\"xaxislayer-below\"/><g class=\"yaxislayer-below\"/><g class=\"overaxes-below\"/><g class=\"plot\" transform=\"translate(95,3338.697942386831)\" clip-path=\"url('#clip184629x12y12plot')\"><g class=\"scatterlayer mlayer\"><g class=\"trace scatter traceeddae1a1-3f17-44f0-8847-95b4ef9ce79c\" style=\"stroke-miterlimit: 2;\"><g class=\"fills\"><g><path class=\"js-fill\" d=\"M35.21,16.34L173.6,17.01L311.98,16.58L450.37,16.58L588.75,27.98L588.75,235.49L35.21,235.49Z\" style=\"fill: rgb(44, 160, 44); fill-opacity: 0.3; stroke-width: 0;\"/></g></g><g class=\"errorbars\"/><g class=\"lines\"><path class=\"js-line\" d=\"M35.21,235.49L588.75,235.49\" style=\"vector-effect: non-scaling-stroke; fill: none; stroke: rgb(0, 0, 0); stroke-opacity: 0; stroke-width: 0px; opacity: 1;\"/></g><g class=\"points\"><path class=\"point\" transform=\"translate(35.21,235.49)\" d=\"M3,0A3,3 0 1,1 0,-3A3,3 0 0,1 3,0Z\" style=\"opacity: 1; stroke-width: 0px; fill: rgb(0, 0, 0); fill-opacity: 0;\"/><path class=\"point\" transform=\"translate(173.6,235.49)\" d=\"M3,0A3,3 0 1,1 0,-3A3,3 0 0,1 3,0Z\" style=\"opacity: 1; stroke-width: 0px; fill: rgb(0, 0, 0); fill-opacity: 0;\"/><path class=\"point\" transform=\"translate(311.98,235.49)\" d=\"M3,0A3,3 0 1,1 0,-3A3,3 0 0,1 3,0Z\" style=\"opacity: 1; stroke-width: 0px; fill: rgb(0, 0, 0); fill-opacity: 0;\"/><path class=\"point\" transform=\"translate(450.37,235.49)\" d=\"M3,0A3,3 0 1,1 0,-3A3,3 0 0,1 3,0Z\" style=\"opacity: 1; stroke-width: 0px; fill: rgb(0, 0, 0); fill-opacity: 0;\"/><path class=\"point\" transform=\"translate(588.75,235.49)\" d=\"M3,0A3,3 0 1,1 0,-3A3,3 0 0,1 3,0Z\" style=\"opacity: 1; stroke-width: 0px; fill: rgb(0, 0, 0); fill-opacity: 0;\"/></g><g class=\"text\"/></g><g class=\"trace scatter trace74f1ece8-a826-401b-a5cf-4b8fbc016777\" style=\"stroke-miterlimit: 2;\"><g class=\"fills\"/><g class=\"errorbars\"/><g class=\"lines\"><path class=\"js-line\" d=\"M35.21,16.34L173.6,17.01L311.98,16.58L450.37,16.58L588.75,27.98\" style=\"vector-effect: non-scaling-stroke; fill: none; stroke: rgb(0, 0, 0); stroke-opacity: 0; stroke-width: 0px; opacity: 1;\"/></g><g class=\"points\"><path class=\"point\" transform=\"translate(35.21,16.34)\" d=\"M3,0A3,3 0 1,1 0,-3A3,3 0 0,1 3,0Z\" style=\"opacity: 1; stroke-width: 0px; fill: rgb(0, 0, 0); fill-opacity: 0;\"/><path class=\"point\" transform=\"translate(173.6,17.01)\" d=\"M3,0A3,3 0 1,1 0,-3A3,3 0 0,1 3,0Z\" style=\"opacity: 1; stroke-width: 0px; fill: rgb(0, 0, 0); fill-opacity: 0;\"/><path class=\"point\" transform=\"translate(311.98,16.58)\" d=\"M3,0A3,3 0 1,1 0,-3A3,3 0 0,1 3,0Z\" style=\"opacity: 1; stroke-width: 0px; fill: rgb(0, 0, 0); fill-opacity: 0;\"/><path class=\"point\" transform=\"translate(450.37,16.58)\" d=\"M3,0A3,3 0 1,1 0,-3A3,3 0 0,1 3,0Z\" style=\"opacity: 1; stroke-width: 0px; fill: rgb(0, 0, 0); fill-opacity: 0;\"/><path class=\"point\" transform=\"translate(588.75,27.98)\" d=\"M3,0A3,3 0 1,1 0,-3A3,3 0 0,1 3,0Z\" style=\"opacity: 1; stroke-width: 0px; fill: rgb(0, 0, 0); fill-opacity: 0;\"/></g><g class=\"text\"/></g><g class=\"trace scatter tracec6d55e52-1e86-44d8-acaf-64998586ece6\" style=\"stroke-miterlimit: 2; opacity: 1;\"><g class=\"fills\"/><g class=\"errorbars\"/><g class=\"lines\"><path class=\"js-line\" d=\"M35.21,16.34L173.6,17.01L311.98,16.58L450.37,16.58L588.75,27.98\" style=\"vector-effect: non-scaling-stroke; fill: none; stroke: rgb(44, 160, 44); stroke-opacity: 1; stroke-width: 2px; opacity: 1;\"/></g><g class=\"points\"><path class=\"point\" transform=\"translate(35.21,16.34)\" d=\"M3,0A3,3 0 1,1 0,-3A3,3 0 0,1 3,0Z\" style=\"opacity: 1; stroke-width: 0px; fill: rgb(44, 160, 44); fill-opacity: 1;\"/><path class=\"point\" transform=\"translate(173.6,17.01)\" d=\"M3,0A3,3 0 1,1 0,-3A3,3 0 0,1 3,0Z\" style=\"opacity: 1; stroke-width: 0px; fill: rgb(44, 160, 44); fill-opacity: 1;\"/><path class=\"point\" transform=\"translate(311.98,16.58)\" d=\"M3,0A3,3 0 1,1 0,-3A3,3 0 0,1 3,0Z\" style=\"opacity: 1; stroke-width: 0px; fill: rgb(44, 160, 44); fill-opacity: 1;\"/><path class=\"point\" transform=\"translate(450.37,16.58)\" d=\"M3,0A3,3 0 1,1 0,-3A3,3 0 0,1 3,0Z\" style=\"opacity: 1; stroke-width: 0px; fill: rgb(44, 160, 44); fill-opacity: 1;\"/><path class=\"point\" transform=\"translate(588.75,27.98)\" d=\"M3,0A3,3 0 1,1 0,-3A3,3 0 0,1 3,0Z\" style=\"opacity: 1; stroke-width: 0px; fill: rgb(44, 160, 44); fill-opacity: 1;\"/></g><g class=\"text\"/></g><g class=\"trace scatter tracebd1dfa45-043f-495d-825d-5b8072c4d7e3\" style=\"stroke-miterlimit: 2; opacity: 0;\"><g class=\"fills\"/><g class=\"errorbars\"/><g class=\"lines\"><path class=\"js-line\" d=\"M35.21,235.49L588.75,235.49\" style=\"vector-effect: non-scaling-stroke; fill: none; stroke: rgb(0, 0, 0); stroke-opacity: 0; stroke-width: 0px; opacity: 1;\"/></g><g class=\"points\"><path class=\"point\" transform=\"translate(35.21,235.49)\" d=\"M3,0A3,3 0 1,1 0,-3A3,3 0 0,1 3,0Z\" style=\"opacity: 1; stroke-width: 0px; fill: rgb(0, 0, 0); fill-opacity: 0;\"/><path class=\"point\" transform=\"translate(173.6,235.49)\" d=\"M3,0A3,3 0 1,1 0,-3A3,3 0 0,1 3,0Z\" style=\"opacity: 1; stroke-width: 0px; fill: rgb(0, 0, 0); fill-opacity: 0;\"/><path class=\"point\" transform=\"translate(311.98,235.49)\" d=\"M3,0A3,3 0 1,1 0,-3A3,3 0 0,1 3,0Z\" style=\"opacity: 1; stroke-width: 0px; fill: rgb(0, 0, 0); fill-opacity: 0;\"/><path class=\"point\" transform=\"translate(450.37,235.49)\" d=\"M3,0A3,3 0 1,1 0,-3A3,3 0 0,1 3,0Z\" style=\"opacity: 1; stroke-width: 0px; fill: rgb(0, 0, 0); fill-opacity: 0;\"/><path class=\"point\" transform=\"translate(588.75,235.49)\" d=\"M3,0A3,3 0 1,1 0,-3A3,3 0 0,1 3,0Z\" style=\"opacity: 1; stroke-width: 0px; fill: rgb(0, 0, 0); fill-opacity: 0;\"/></g><g class=\"text\"/></g></g></g><g class=\"overplot\"/><path class=\"xlines-above crisp\" d=\"M0,0\" style=\"fill: none;\"/><path class=\"ylines-above crisp\" d=\"M0,0\" style=\"fill: none;\"/><g class=\"overlines-above\"/><g class=\"xaxislayer-above\"/><g class=\"yaxislayer-above\"><g class=\"y12tick\"><text text-anchor=\"end\" x=\"94\" y=\"4.199999999999999\" transform=\"translate(0,3574.1879423868313)\" style=\"font-family: 'Open Sans', verdana, arial, sans-serif; font-size: 12px; fill: rgb(42, 63, 95); fill-opacity: 1; white-space: pre;\">0</text></g><g class=\"y12tick\"><text text-anchor=\"end\" x=\"94\" y=\"4.199999999999999\" transform=\"translate(0,3530.357942386831)\" style=\"font-family: 'Open Sans', verdana, arial, sans-serif; font-size: 12px; fill: rgb(42, 63, 95); fill-opacity: 1; white-space: pre;\">20</text></g><g class=\"y12tick\"><text text-anchor=\"end\" x=\"94\" y=\"4.199999999999999\" transform=\"translate(0,3486.527942386831)\" style=\"font-family: 'Open Sans', verdana, arial, sans-serif; font-size: 12px; fill: rgb(42, 63, 95); fill-opacity: 1; white-space: pre;\">40</text></g><g class=\"y12tick\"><text text-anchor=\"end\" x=\"94\" y=\"4.199999999999999\" transform=\"translate(0,3442.697942386831)\" style=\"font-family: 'Open Sans', verdana, arial, sans-serif; font-size: 12px; fill: rgb(42, 63, 95); fill-opacity: 1; white-space: pre;\">60</text></g><g class=\"y12tick\"><text text-anchor=\"end\" x=\"94\" y=\"4.199999999999999\" transform=\"translate(0,3398.867942386831)\" style=\"font-family: 'Open Sans', verdana, arial, sans-serif; font-size: 12px; fill: rgb(42, 63, 95); fill-opacity: 1; white-space: pre;\">80</text></g><g class=\"y12tick\"><text text-anchor=\"end\" x=\"94\" y=\"4.199999999999999\" transform=\"translate(0,3355.037942386831)\" style=\"font-family: 'Open Sans', verdana, arial, sans-serif; font-size: 12px; fill: rgb(42, 63, 95); fill-opacity: 1; white-space: pre;\">100</text></g></g><g class=\"overaxes-above\"/></g><g class=\"subplot x13y13\"><g class=\"layer-subplot\"><g class=\"shapelayer\"/><g class=\"imagelayer\"/></g><g class=\"gridlayer\"><g class=\"x13\"><path class=\"x13grid crisp\" transform=\"translate(130.21,0)\" d=\"M0,3628.9432098765433v251.83045267489706\" style=\"stroke: rgb(255, 255, 255); stroke-opacity: 1; stroke-width: 1px;\"/><path class=\"x13grid crisp\" transform=\"translate(268.6,0)\" d=\"M0,3628.9432098765433v251.83045267489706\" style=\"stroke: rgb(255, 255, 255); stroke-opacity: 1; stroke-width: 1px;\"/><path class=\"x13grid crisp\" transform=\"translate(406.98,0)\" d=\"M0,3628.9432098765433v251.83045267489706\" style=\"stroke: rgb(255, 255, 255); stroke-opacity: 1; stroke-width: 1px;\"/><path class=\"x13grid crisp\" transform=\"translate(545.37,0)\" d=\"M0,3628.9432098765433v251.83045267489706\" style=\"stroke: rgb(255, 255, 255); stroke-opacity: 1; stroke-width: 1px;\"/><path class=\"x13grid crisp\" transform=\"translate(683.75,0)\" d=\"M0,3628.9432098765433v251.83045267489706\" style=\"stroke: rgb(255, 255, 255); stroke-opacity: 1; stroke-width: 1px;\"/></g><g class=\"y13\"><path class=\"y13grid crisp\" transform=\"translate(0,3820.603209876543)\" d=\"M95,0h625\" style=\"stroke: rgb(255, 255, 255); stroke-opacity: 1; stroke-width: 1px;\"/><path class=\"y13grid crisp\" transform=\"translate(0,3776.773209876543)\" d=\"M95,0h625\" style=\"stroke: rgb(255, 255, 255); stroke-opacity: 1; stroke-width: 1px;\"/><path class=\"y13grid crisp\" transform=\"translate(0,3732.9432098765433)\" d=\"M95,0h625\" style=\"stroke: rgb(255, 255, 255); stroke-opacity: 1; stroke-width: 1px;\"/><path class=\"y13grid crisp\" transform=\"translate(0,3689.1132098765434)\" d=\"M95,0h625\" style=\"stroke: rgb(255, 255, 255); stroke-opacity: 1; stroke-width: 1px;\"/><path class=\"y13grid crisp\" transform=\"translate(0,3645.2832098765434)\" d=\"M95,0h625\" style=\"stroke: rgb(255, 255, 255); stroke-opacity: 1; stroke-width: 1px;\"/></g></g><g class=\"zerolinelayer\"><path class=\"y13zl zl crisp\" transform=\"translate(0,3864.4332098765435)\" d=\"M95,0h625\" style=\"stroke: rgb(255, 255, 255); stroke-opacity: 1; stroke-width: 2px;\"/></g><path class=\"xlines-below\"/><path class=\"ylines-below\"/><g class=\"overlines-below\"/><g class=\"xaxislayer-below\"/><g class=\"yaxislayer-below\"/><g class=\"overaxes-below\"/><g class=\"plot\" transform=\"translate(95,3628.9432098765433)\" clip-path=\"url('#clip184629x13y13plot')\"><g class=\"scatterlayer mlayer\"><g class=\"trace scatter trace68559c60-feb5-4e4e-a44a-8fe9310f24fa\" style=\"stroke-miterlimit: 2;\"><g class=\"fills\"><g><path class=\"js-fill\" d=\"M35.21,235.49L173.6,226.72L311.98,235.49L450.37,235.49L588.75,16.34L588.75,235.49L35.21,235.49Z\" style=\"fill: rgb(23, 190, 207); fill-opacity: 0.3; stroke-width: 0;\"/></g></g><g class=\"errorbars\"/><g class=\"lines\"><path class=\"js-line\" d=\"M35.21,235.49L588.75,235.49\" style=\"vector-effect: non-scaling-stroke; fill: none; stroke: rgb(0, 0, 0); stroke-opacity: 0; stroke-width: 0px; opacity: 1;\"/></g><g class=\"points\"><path class=\"point\" transform=\"translate(35.21,235.49)\" d=\"M3,0A3,3 0 1,1 0,-3A3,3 0 0,1 3,0Z\" style=\"opacity: 1; stroke-width: 0px; fill: rgb(0, 0, 0); fill-opacity: 0;\"/><path class=\"point\" transform=\"translate(173.6,235.49)\" d=\"M3,0A3,3 0 1,1 0,-3A3,3 0 0,1 3,0Z\" style=\"opacity: 1; stroke-width: 0px; fill: rgb(0, 0, 0); fill-opacity: 0;\"/><path class=\"point\" transform=\"translate(311.98,235.49)\" d=\"M3,0A3,3 0 1,1 0,-3A3,3 0 0,1 3,0Z\" style=\"opacity: 1; stroke-width: 0px; fill: rgb(0, 0, 0); fill-opacity: 0;\"/><path class=\"point\" transform=\"translate(450.37,235.49)\" d=\"M3,0A3,3 0 1,1 0,-3A3,3 0 0,1 3,0Z\" style=\"opacity: 1; stroke-width: 0px; fill: rgb(0, 0, 0); fill-opacity: 0;\"/><path class=\"point\" transform=\"translate(588.75,235.49)\" d=\"M3,0A3,3 0 1,1 0,-3A3,3 0 0,1 3,0Z\" style=\"opacity: 1; stroke-width: 0px; fill: rgb(0, 0, 0); fill-opacity: 0;\"/></g><g class=\"text\"/></g><g class=\"trace scatter trace079e99ab-1f9c-407a-9581-b0817477f6f6\" style=\"stroke-miterlimit: 2;\"><g class=\"fills\"/><g class=\"errorbars\"/><g class=\"lines\"><path class=\"js-line\" d=\"M35.21,235.49L173.6,226.72L311.98,235.49L450.37,235.49L588.75,16.34\" style=\"vector-effect: non-scaling-stroke; fill: none; stroke: rgb(0, 0, 0); stroke-opacity: 0; stroke-width: 0px; opacity: 1;\"/></g><g class=\"points\"><path class=\"point\" transform=\"translate(35.21,235.49)\" d=\"M3,0A3,3 0 1,1 0,-3A3,3 0 0,1 3,0Z\" style=\"opacity: 1; stroke-width: 0px; fill: rgb(0, 0, 0); fill-opacity: 0;\"/><path class=\"point\" transform=\"translate(173.6,226.72)\" d=\"M3,0A3,3 0 1,1 0,-3A3,3 0 0,1 3,0Z\" style=\"opacity: 1; stroke-width: 0px; fill: rgb(0, 0, 0); fill-opacity: 0;\"/><path class=\"point\" transform=\"translate(311.98,235.49)\" d=\"M3,0A3,3 0 1,1 0,-3A3,3 0 0,1 3,0Z\" style=\"opacity: 1; stroke-width: 0px; fill: rgb(0, 0, 0); fill-opacity: 0;\"/><path class=\"point\" transform=\"translate(450.37,235.49)\" d=\"M3,0A3,3 0 1,1 0,-3A3,3 0 0,1 3,0Z\" style=\"opacity: 1; stroke-width: 0px; fill: rgb(0, 0, 0); fill-opacity: 0;\"/><path class=\"point\" transform=\"translate(588.75,16.34)\" d=\"M3,0A3,3 0 1,1 0,-3A3,3 0 0,1 3,0Z\" style=\"opacity: 1; stroke-width: 0px; fill: rgb(0, 0, 0); fill-opacity: 0;\"/></g><g class=\"text\"/></g><g class=\"trace scatter trace8254da07-3fba-464b-8399-308c1d8c1b3a\" style=\"stroke-miterlimit: 2; opacity: 1;\"><g class=\"fills\"/><g class=\"errorbars\"/><g class=\"lines\"><path class=\"js-line\" d=\"M35.21,235.49L173.6,226.72L311.98,235.49L450.37,235.49L588.75,16.34\" style=\"vector-effect: non-scaling-stroke; fill: none; stroke: rgb(23, 190, 207); stroke-opacity: 1; stroke-width: 2px; opacity: 1;\"/></g><g class=\"points\"><path class=\"point\" transform=\"translate(35.21,235.49)\" d=\"M3,0A3,3 0 1,1 0,-3A3,3 0 0,1 3,0Z\" style=\"opacity: 1; stroke-width: 0px; fill: rgb(23, 190, 207); fill-opacity: 1;\"/><path class=\"point\" transform=\"translate(173.6,226.72)\" d=\"M3,0A3,3 0 1,1 0,-3A3,3 0 0,1 3,0Z\" style=\"opacity: 1; stroke-width: 0px; fill: rgb(23, 190, 207); fill-opacity: 1;\"/><path class=\"point\" transform=\"translate(311.98,235.49)\" d=\"M3,0A3,3 0 1,1 0,-3A3,3 0 0,1 3,0Z\" style=\"opacity: 1; stroke-width: 0px; fill: rgb(23, 190, 207); fill-opacity: 1;\"/><path class=\"point\" transform=\"translate(450.37,235.49)\" d=\"M3,0A3,3 0 1,1 0,-3A3,3 0 0,1 3,0Z\" style=\"opacity: 1; stroke-width: 0px; fill: rgb(23, 190, 207); fill-opacity: 1;\"/><path class=\"point\" transform=\"translate(588.75,16.34)\" d=\"M3,0A3,3 0 1,1 0,-3A3,3 0 0,1 3,0Z\" style=\"opacity: 1; stroke-width: 0px; fill: rgb(23, 190, 207); fill-opacity: 1;\"/></g><g class=\"text\"/></g><g class=\"trace scatter trace90547b7d-76de-46fd-869f-d699beb48f0b\" style=\"stroke-miterlimit: 2; opacity: 0;\"><g class=\"fills\"/><g class=\"errorbars\"/><g class=\"lines\"><path class=\"js-line\" d=\"M35.21,235.49L588.75,235.49\" style=\"vector-effect: non-scaling-stroke; fill: none; stroke: rgb(0, 0, 0); stroke-opacity: 0; stroke-width: 0px; opacity: 1;\"/></g><g class=\"points\"><path class=\"point\" transform=\"translate(35.21,235.49)\" d=\"M3,0A3,3 0 1,1 0,-3A3,3 0 0,1 3,0Z\" style=\"opacity: 1; stroke-width: 0px; fill: rgb(0, 0, 0); fill-opacity: 0;\"/><path class=\"point\" transform=\"translate(173.6,235.49)\" d=\"M3,0A3,3 0 1,1 0,-3A3,3 0 0,1 3,0Z\" style=\"opacity: 1; stroke-width: 0px; fill: rgb(0, 0, 0); fill-opacity: 0;\"/><path class=\"point\" transform=\"translate(311.98,235.49)\" d=\"M3,0A3,3 0 1,1 0,-3A3,3 0 0,1 3,0Z\" style=\"opacity: 1; stroke-width: 0px; fill: rgb(0, 0, 0); fill-opacity: 0;\"/><path class=\"point\" transform=\"translate(450.37,235.49)\" d=\"M3,0A3,3 0 1,1 0,-3A3,3 0 0,1 3,0Z\" style=\"opacity: 1; stroke-width: 0px; fill: rgb(0, 0, 0); fill-opacity: 0;\"/><path class=\"point\" transform=\"translate(588.75,235.49)\" d=\"M3,0A3,3 0 1,1 0,-3A3,3 0 0,1 3,0Z\" style=\"opacity: 1; stroke-width: 0px; fill: rgb(0, 0, 0); fill-opacity: 0;\"/></g><g class=\"text\"/></g></g></g><g class=\"overplot\"/><path class=\"xlines-above crisp\" d=\"M0,0\" style=\"fill: none;\"/><path class=\"ylines-above crisp\" d=\"M0,0\" style=\"fill: none;\"/><g class=\"overlines-above\"/><g class=\"xaxislayer-above\"/><g class=\"yaxislayer-above\"><g class=\"y13tick\"><text text-anchor=\"end\" x=\"94\" y=\"4.199999999999999\" transform=\"translate(0,3864.4332098765435)\" style=\"font-family: 'Open Sans', verdana, arial, sans-serif; font-size: 12px; fill: rgb(42, 63, 95); fill-opacity: 1; white-space: pre;\">0</text></g><g class=\"y13tick\"><text text-anchor=\"end\" x=\"94\" y=\"4.199999999999999\" transform=\"translate(0,3820.603209876543)\" style=\"font-family: 'Open Sans', verdana, arial, sans-serif; font-size: 12px; fill: rgb(42, 63, 95); fill-opacity: 1; white-space: pre;\">1</text></g><g class=\"y13tick\"><text text-anchor=\"end\" x=\"94\" y=\"4.199999999999999\" transform=\"translate(0,3776.773209876543)\" style=\"font-family: 'Open Sans', verdana, arial, sans-serif; font-size: 12px; fill: rgb(42, 63, 95); fill-opacity: 1; white-space: pre;\">2</text></g><g class=\"y13tick\"><text text-anchor=\"end\" x=\"94\" y=\"4.199999999999999\" transform=\"translate(0,3732.9432098765433)\" style=\"font-family: 'Open Sans', verdana, arial, sans-serif; font-size: 12px; fill: rgb(42, 63, 95); fill-opacity: 1; white-space: pre;\">3</text></g><g class=\"y13tick\"><text text-anchor=\"end\" x=\"94\" y=\"4.199999999999999\" transform=\"translate(0,3689.1132098765434)\" style=\"font-family: 'Open Sans', verdana, arial, sans-serif; font-size: 12px; fill: rgb(42, 63, 95); fill-opacity: 1; white-space: pre;\">4</text></g><g class=\"y13tick\"><text text-anchor=\"end\" x=\"94\" y=\"4.199999999999999\" transform=\"translate(0,3645.2832098765434)\" style=\"font-family: 'Open Sans', verdana, arial, sans-serif; font-size: 12px; fill: rgb(42, 63, 95); fill-opacity: 1; white-space: pre;\">5</text></g></g><g class=\"overaxes-above\"/></g><g class=\"subplot x14y14\"><g class=\"layer-subplot\"><g class=\"shapelayer\"/><g class=\"imagelayer\"/></g><g class=\"gridlayer\"><g class=\"x14\"><path class=\"x14grid crisp\" transform=\"translate(130.21,0)\" d=\"M0,3919.1884773662555v251.83045267489706\" style=\"stroke: rgb(255, 255, 255); stroke-opacity: 1; stroke-width: 1px;\"/><path class=\"x14grid crisp\" transform=\"translate(268.6,0)\" d=\"M0,3919.1884773662555v251.83045267489706\" style=\"stroke: rgb(255, 255, 255); stroke-opacity: 1; stroke-width: 1px;\"/><path class=\"x14grid crisp\" transform=\"translate(406.98,0)\" d=\"M0,3919.1884773662555v251.83045267489706\" style=\"stroke: rgb(255, 255, 255); stroke-opacity: 1; stroke-width: 1px;\"/><path class=\"x14grid crisp\" transform=\"translate(545.37,0)\" d=\"M0,3919.1884773662555v251.83045267489706\" style=\"stroke: rgb(255, 255, 255); stroke-opacity: 1; stroke-width: 1px;\"/><path class=\"x14grid crisp\" transform=\"translate(683.75,0)\" d=\"M0,3919.1884773662555v251.83045267489706\" style=\"stroke: rgb(255, 255, 255); stroke-opacity: 1; stroke-width: 1px;\"/></g><g class=\"y14\"><path class=\"y14grid crisp\" transform=\"translate(0,4147.268477366256)\" d=\"M95,0h625\" style=\"stroke: rgb(255, 255, 255); stroke-opacity: 1; stroke-width: 1px;\"/><path class=\"y14grid crisp\" transform=\"translate(0,4111.978477366256)\" d=\"M95,0h625\" style=\"stroke: rgb(255, 255, 255); stroke-opacity: 1; stroke-width: 1px;\"/><path class=\"y14grid crisp\" transform=\"translate(0,4076.6884773662555)\" d=\"M95,0h625\" style=\"stroke: rgb(255, 255, 255); stroke-opacity: 1; stroke-width: 1px;\"/><path class=\"y14grid crisp\" transform=\"translate(0,4041.3984773662555)\" d=\"M95,0h625\" style=\"stroke: rgb(255, 255, 255); stroke-opacity: 1; stroke-width: 1px;\"/><path class=\"y14grid crisp\" transform=\"translate(0,4006.1084773662556)\" d=\"M95,0h625\" style=\"stroke: rgb(255, 255, 255); stroke-opacity: 1; stroke-width: 1px;\"/><path class=\"y14grid crisp\" transform=\"translate(0,3970.8184773662556)\" d=\"M95,0h625\" style=\"stroke: rgb(255, 255, 255); stroke-opacity: 1; stroke-width: 1px;\"/><path class=\"y14grid crisp\" transform=\"translate(0,3935.5284773662556)\" d=\"M95,0h625\" style=\"stroke: rgb(255, 255, 255); stroke-opacity: 1; stroke-width: 1px;\"/></g></g><g class=\"zerolinelayer\"/><path class=\"xlines-below\"/><path class=\"ylines-below\"/><g class=\"overlines-below\"/><g class=\"xaxislayer-below\"/><g class=\"yaxislayer-below\"/><g class=\"overaxes-below\"/><g class=\"plot\" transform=\"translate(95,3919.1884773662555)\" clip-path=\"url('#clip184629x14y14plot')\"><g class=\"scatterlayer mlayer\"><g class=\"trace scatter traceb79708d0-983a-47d3-b45c-9d5e25343e5a\" style=\"stroke-miterlimit: 2;\"><g class=\"fills\"><g><path class=\"js-fill\" d=\"M35.21,16.34L173.6,89.76L311.98,93.97L450.37,93.97L588.75,235.49L588.75,16.34L35.21,16.34Z\" style=\"fill: rgb(255, 0, 0); fill-opacity: 0.3; stroke-width: 0;\"/></g></g><g class=\"errorbars\"/><g class=\"lines\"><path class=\"js-line\" d=\"M35.21,16.34L588.75,16.34\" style=\"vector-effect: non-scaling-stroke; fill: none; stroke: rgb(0, 0, 0); stroke-opacity: 0; stroke-width: 0px; opacity: 1;\"/></g><g class=\"points\"><path class=\"point\" transform=\"translate(35.21,16.34)\" d=\"M3,0A3,3 0 1,1 0,-3A3,3 0 0,1 3,0Z\" style=\"opacity: 1; stroke-width: 0px; fill: rgb(0, 0, 0); fill-opacity: 0;\"/><path class=\"point\" transform=\"translate(173.6,16.34)\" d=\"M3,0A3,3 0 1,1 0,-3A3,3 0 0,1 3,0Z\" style=\"opacity: 1; stroke-width: 0px; fill: rgb(0, 0, 0); fill-opacity: 0;\"/><path class=\"point\" transform=\"translate(311.98,16.34)\" d=\"M3,0A3,3 0 1,1 0,-3A3,3 0 0,1 3,0Z\" style=\"opacity: 1; stroke-width: 0px; fill: rgb(0, 0, 0); fill-opacity: 0;\"/><path class=\"point\" transform=\"translate(450.37,16.34)\" d=\"M3,0A3,3 0 1,1 0,-3A3,3 0 0,1 3,0Z\" style=\"opacity: 1; stroke-width: 0px; fill: rgb(0, 0, 0); fill-opacity: 0;\"/><path class=\"point\" transform=\"translate(588.75,16.34)\" d=\"M3,0A3,3 0 1,1 0,-3A3,3 0 0,1 3,0Z\" style=\"opacity: 1; stroke-width: 0px; fill: rgb(0, 0, 0); fill-opacity: 0;\"/></g><g class=\"text\"/></g><g class=\"trace scatter tracecfec1638-ced9-49b0-be17-0b3e421d46b1\" style=\"stroke-miterlimit: 2;\"><g class=\"fills\"/><g class=\"errorbars\"/><g class=\"lines\"><path class=\"js-line\" d=\"M35.21,16.34L173.6,89.76L311.98,93.97L450.37,93.97L588.75,235.49\" style=\"vector-effect: non-scaling-stroke; fill: none; stroke: rgb(0, 0, 0); stroke-opacity: 0; stroke-width: 0px; opacity: 1;\"/></g><g class=\"points\"><path class=\"point\" transform=\"translate(35.21,16.34)\" d=\"M3,0A3,3 0 1,1 0,-3A3,3 0 0,1 3,0Z\" style=\"opacity: 1; stroke-width: 0px; fill: rgb(0, 0, 0); fill-opacity: 0;\"/><path class=\"point\" transform=\"translate(173.6,89.76)\" d=\"M3,0A3,3 0 1,1 0,-3A3,3 0 0,1 3,0Z\" style=\"opacity: 1; stroke-width: 0px; fill: rgb(0, 0, 0); fill-opacity: 0;\"/><path class=\"point\" transform=\"translate(311.98,93.97)\" d=\"M3,0A3,3 0 1,1 0,-3A3,3 0 0,1 3,0Z\" style=\"opacity: 1; stroke-width: 0px; fill: rgb(0, 0, 0); fill-opacity: 0;\"/><path class=\"point\" transform=\"translate(450.37,93.97)\" d=\"M3,0A3,3 0 1,1 0,-3A3,3 0 0,1 3,0Z\" style=\"opacity: 1; stroke-width: 0px; fill: rgb(0, 0, 0); fill-opacity: 0;\"/><path class=\"point\" transform=\"translate(588.75,235.49)\" d=\"M3,0A3,3 0 1,1 0,-3A3,3 0 0,1 3,0Z\" style=\"opacity: 1; stroke-width: 0px; fill: rgb(0, 0, 0); fill-opacity: 0;\"/></g><g class=\"text\"/></g><g class=\"trace scatter traced564cf7a-4325-46ef-bfac-14e0cebcf9f6\" style=\"stroke-miterlimit: 2; opacity: 1;\"><g class=\"fills\"/><g class=\"errorbars\"/><g class=\"lines\"><path class=\"js-line\" d=\"M35.21,16.34L173.6,89.76L311.98,93.97L450.37,93.97L588.75,235.49\" style=\"vector-effect: non-scaling-stroke; fill: none; stroke: rgb(148, 103, 189); stroke-opacity: 1; stroke-width: 2px; opacity: 1;\"/></g><g class=\"points\"><path class=\"point\" transform=\"translate(35.21,16.34)\" d=\"M3,0A3,3 0 1,1 0,-3A3,3 0 0,1 3,0Z\" style=\"opacity: 1; stroke-width: 0px; fill: rgb(148, 103, 189); fill-opacity: 1;\"/><path class=\"point\" transform=\"translate(173.6,89.76)\" d=\"M3,0A3,3 0 1,1 0,-3A3,3 0 0,1 3,0Z\" style=\"opacity: 1; stroke-width: 0px; fill: rgb(148, 103, 189); fill-opacity: 1;\"/><path class=\"point\" transform=\"translate(311.98,93.97)\" d=\"M3,0A3,3 0 1,1 0,-3A3,3 0 0,1 3,0Z\" style=\"opacity: 1; stroke-width: 0px; fill: rgb(148, 103, 189); fill-opacity: 1;\"/><path class=\"point\" transform=\"translate(450.37,93.97)\" d=\"M3,0A3,3 0 1,1 0,-3A3,3 0 0,1 3,0Z\" style=\"opacity: 1; stroke-width: 0px; fill: rgb(148, 103, 189); fill-opacity: 1;\"/><path class=\"point\" transform=\"translate(588.75,235.49)\" d=\"M3,0A3,3 0 1,1 0,-3A3,3 0 0,1 3,0Z\" style=\"opacity: 1; stroke-width: 0px; fill: rgb(148, 103, 189); fill-opacity: 1;\"/></g><g class=\"text\"/></g><g class=\"trace scatter trace22571f19-4b12-44a7-9b79-19d020460169\" style=\"stroke-miterlimit: 2; opacity: 0;\"><g class=\"fills\"/><g class=\"errorbars\"/><g class=\"lines\"><path class=\"js-line\" d=\"M35.21,16.34L588.75,16.34\" style=\"vector-effect: non-scaling-stroke; fill: none; stroke: rgb(0, 0, 0); stroke-opacity: 0; stroke-width: 0px; opacity: 1;\"/></g><g class=\"points\"><path class=\"point\" transform=\"translate(35.21,16.34)\" d=\"M3,0A3,3 0 1,1 0,-3A3,3 0 0,1 3,0Z\" style=\"opacity: 1; stroke-width: 0px; fill: rgb(0, 0, 0); fill-opacity: 0;\"/><path class=\"point\" transform=\"translate(173.6,16.34)\" d=\"M3,0A3,3 0 1,1 0,-3A3,3 0 0,1 3,0Z\" style=\"opacity: 1; stroke-width: 0px; fill: rgb(0, 0, 0); fill-opacity: 0;\"/><path class=\"point\" transform=\"translate(311.98,16.34)\" d=\"M3,0A3,3 0 1,1 0,-3A3,3 0 0,1 3,0Z\" style=\"opacity: 1; stroke-width: 0px; fill: rgb(0, 0, 0); fill-opacity: 0;\"/><path class=\"point\" transform=\"translate(450.37,16.34)\" d=\"M3,0A3,3 0 1,1 0,-3A3,3 0 0,1 3,0Z\" style=\"opacity: 1; stroke-width: 0px; fill: rgb(0, 0, 0); fill-opacity: 0;\"/><path class=\"point\" transform=\"translate(588.75,16.34)\" d=\"M3,0A3,3 0 1,1 0,-3A3,3 0 0,1 3,0Z\" style=\"opacity: 1; stroke-width: 0px; fill: rgb(0, 0, 0); fill-opacity: 0;\"/></g><g class=\"text\"/></g></g></g><g class=\"overplot\"/><path class=\"xlines-above crisp\" d=\"M0,0\" style=\"fill: none;\"/><path class=\"ylines-above crisp\" d=\"M0,0\" style=\"fill: none;\"/><g class=\"overlines-above\"/><g class=\"xaxislayer-above\"/><g class=\"yaxislayer-above\"><g class=\"y14tick\"><text text-anchor=\"end\" x=\"94\" y=\"4.199999999999999\" transform=\"translate(0,4147.268477366256)\" style=\"font-family: 'Open Sans', verdana, arial, sans-serif; font-size: 12px; fill: rgb(42, 63, 95); fill-opacity: 1; white-space: pre;\">99.7</text></g><g class=\"y14tick\"><text text-anchor=\"end\" x=\"94\" y=\"4.199999999999999\" transform=\"translate(0,4111.978477366256)\" style=\"font-family: 'Open Sans', verdana, arial, sans-serif; font-size: 12px; fill: rgb(42, 63, 95); fill-opacity: 1; white-space: pre;\">99.75</text></g><g class=\"y14tick\"><text text-anchor=\"end\" x=\"94\" y=\"4.199999999999999\" transform=\"translate(0,4076.6884773662555)\" style=\"font-family: 'Open Sans', verdana, arial, sans-serif; font-size: 12px; fill: rgb(42, 63, 95); fill-opacity: 1; white-space: pre;\">99.8</text></g><g class=\"y14tick\"><text text-anchor=\"end\" x=\"94\" y=\"4.199999999999999\" transform=\"translate(0,4041.3984773662555)\" style=\"font-family: 'Open Sans', verdana, arial, sans-serif; font-size: 12px; fill: rgb(42, 63, 95); fill-opacity: 1; white-space: pre;\">99.85</text></g><g class=\"y14tick\"><text text-anchor=\"end\" x=\"94\" y=\"4.199999999999999\" transform=\"translate(0,4006.1084773662556)\" style=\"font-family: 'Open Sans', verdana, arial, sans-serif; font-size: 12px; fill: rgb(42, 63, 95); fill-opacity: 1; white-space: pre;\">99.9</text></g><g class=\"y14tick\"><text text-anchor=\"end\" x=\"94\" y=\"4.199999999999999\" transform=\"translate(0,3970.8184773662556)\" style=\"font-family: 'Open Sans', verdana, arial, sans-serif; font-size: 12px; fill: rgb(42, 63, 95); fill-opacity: 1; white-space: pre;\">99.95</text></g><g class=\"y14tick\"><text text-anchor=\"end\" x=\"94\" y=\"4.199999999999999\" transform=\"translate(0,3935.5284773662556)\" style=\"font-family: 'Open Sans', verdana, arial, sans-serif; font-size: 12px; fill: rgb(42, 63, 95); fill-opacity: 1; white-space: pre;\">100</text></g></g><g class=\"overaxes-above\"/></g><g class=\"subplot x15y15\"><g class=\"layer-subplot\"><g class=\"shapelayer\"/><g class=\"imagelayer\"/></g><g class=\"gridlayer\"><g class=\"x15\"><path class=\"x15grid crisp\" transform=\"translate(130.21,0)\" d=\"M0,4209.433744855967v251.83045267489706\" style=\"stroke: rgb(255, 255, 255); stroke-opacity: 1; stroke-width: 1px;\"/><path class=\"x15grid crisp\" transform=\"translate(268.6,0)\" d=\"M0,4209.433744855967v251.83045267489706\" style=\"stroke: rgb(255, 255, 255); stroke-opacity: 1; stroke-width: 1px;\"/><path class=\"x15grid crisp\" transform=\"translate(406.98,0)\" d=\"M0,4209.433744855967v251.83045267489706\" style=\"stroke: rgb(255, 255, 255); stroke-opacity: 1; stroke-width: 1px;\"/><path class=\"x15grid crisp\" transform=\"translate(545.37,0)\" d=\"M0,4209.433744855967v251.83045267489706\" style=\"stroke: rgb(255, 255, 255); stroke-opacity: 1; stroke-width: 1px;\"/><path class=\"x15grid crisp\" transform=\"translate(683.75,0)\" d=\"M0,4209.433744855967v251.83045267489706\" style=\"stroke: rgb(255, 255, 255); stroke-opacity: 1; stroke-width: 1px;\"/></g><g class=\"y15\"><path class=\"y15grid crisp\" transform=\"translate(0,4436.933744855967)\" d=\"M95,0h625\" style=\"stroke: rgb(255, 255, 255); stroke-opacity: 1; stroke-width: 1px;\"/><path class=\"y15grid crisp\" transform=\"translate(0,4401.843744855967)\" d=\"M95,0h625\" style=\"stroke: rgb(255, 255, 255); stroke-opacity: 1; stroke-width: 1px;\"/><path class=\"y15grid crisp\" transform=\"translate(0,4366.753744855967)\" d=\"M95,0h625\" style=\"stroke: rgb(255, 255, 255); stroke-opacity: 1; stroke-width: 1px;\"/><path class=\"y15grid crisp\" transform=\"translate(0,4331.663744855967)\" d=\"M95,0h625\" style=\"stroke: rgb(255, 255, 255); stroke-opacity: 1; stroke-width: 1px;\"/><path class=\"y15grid crisp\" transform=\"translate(0,4296.583744855967)\" d=\"M95,0h625\" style=\"stroke: rgb(255, 255, 255); stroke-opacity: 1; stroke-width: 1px;\"/><path class=\"y15grid crisp\" transform=\"translate(0,4261.493744855968)\" d=\"M95,0h625\" style=\"stroke: rgb(255, 255, 255); stroke-opacity: 1; stroke-width: 1px;\"/><path class=\"y15grid crisp\" transform=\"translate(0,4226.4037448559675)\" d=\"M95,0h625\" style=\"stroke: rgb(255, 255, 255); stroke-opacity: 1; stroke-width: 1px;\"/></g></g><g class=\"zerolinelayer\"/><path class=\"xlines-below\"/><path class=\"ylines-below\"/><g class=\"overlines-below\"/><g class=\"xaxislayer-below\"/><g class=\"yaxislayer-below\"/><g class=\"overaxes-below\"/><g class=\"plot\" transform=\"translate(95,4209.433744855967)\" clip-path=\"url('#clip184629x15y15plot')\"><g class=\"scatterlayer mlayer\"><g class=\"trace scatter trace818d22fd-1cbc-4588-9242-42d5ed678513\" style=\"stroke-miterlimit: 2; opacity: 1;\"><g class=\"fills\"/><g class=\"errorbars\"/><g class=\"lines\"><path class=\"js-line\" d=\"M35.21,16.97L173.6,89.97L311.98,94.16L450.37,94.16L588.75,234.86\" style=\"vector-effect: non-scaling-stroke; fill: none; stroke: rgb(148, 103, 189); stroke-opacity: 1; stroke-width: 2px; opacity: 1;\"/></g><g class=\"points\"><path class=\"point\" transform=\"translate(35.21,16.97)\" d=\"M3,0A3,3 0 1,1 0,-3A3,3 0 0,1 3,0Z\" style=\"opacity: 1; stroke-width: 0px; fill: rgb(148, 103, 189); fill-opacity: 1;\"/><path class=\"point\" transform=\"translate(173.6,89.97)\" d=\"M3,0A3,3 0 1,1 0,-3A3,3 0 0,1 3,0Z\" style=\"opacity: 1; stroke-width: 0px; fill: rgb(148, 103, 189); fill-opacity: 1;\"/><path class=\"point\" transform=\"translate(311.98,94.16)\" d=\"M3,0A3,3 0 1,1 0,-3A3,3 0 0,1 3,0Z\" style=\"opacity: 1; stroke-width: 0px; fill: rgb(148, 103, 189); fill-opacity: 1;\"/><path class=\"point\" transform=\"translate(450.37,94.16)\" d=\"M3,0A3,3 0 1,1 0,-3A3,3 0 0,1 3,0Z\" style=\"opacity: 1; stroke-width: 0px; fill: rgb(148, 103, 189); fill-opacity: 1;\"/><path class=\"point\" transform=\"translate(588.75,234.86)\" d=\"M3,0A3,3 0 1,1 0,-3A3,3 0 0,1 3,0Z\" style=\"opacity: 1; stroke-width: 0px; fill: rgb(148, 103, 189); fill-opacity: 1;\"/></g><g class=\"text\"/></g><g class=\"trace scatter traced7716e78-3f56-44a6-ad81-c7f94d5cd621\" style=\"stroke-miterlimit: 2; opacity: 1;\"><g class=\"fills\"/><g class=\"errorbars\"/><g class=\"lines\"/><g class=\"points\"><path class=\"point plotly-customdata\" transform=\"translate(35.21,16.97)\" d=\"M4.55,0L0,4.55L-4.55,0L0,-4.55Z\" style=\"opacity: 1; stroke-width: 1px; fill: rgb(66, 133, 244); fill-opacity: 1; stroke: rgb(11, 84, 205); stroke-opacity: 1;\"/></g><g class=\"text\"/></g><g class=\"trace scatter tracecba0c19c-e75f-4bd4-a9b6-5f9a33adb85f\" style=\"stroke-miterlimit: 2; opacity: 1;\"><g class=\"fills\"/><g class=\"errorbars\"/><g class=\"lines\"/><g class=\"points\"><path class=\"point plotly-customdata\" transform=\"translate(588.75,234.86)\" d=\"M4.55,0L0,4.55L-4.55,0L0,-4.55Z\" style=\"opacity: 1; stroke-width: 1px; fill: rgb(255, 170, 0); fill-opacity: 1; stroke: rgb(178, 118, 0); stroke-opacity: 1;\"/></g><g class=\"text\"/></g></g></g><g class=\"overplot\"/><path class=\"xlines-above crisp\" d=\"M0,0\" style=\"fill: none;\"/><path class=\"ylines-above crisp\" d=\"M0,0\" style=\"fill: none;\"/><g class=\"overlines-above\"/><g class=\"xaxislayer-above\"/><g class=\"yaxislayer-above\"><g class=\"y15tick\"><text text-anchor=\"end\" x=\"94\" y=\"4.199999999999999\" transform=\"translate(0,4436.933744855967)\" style=\"font-family: 'Open Sans', verdana, arial, sans-serif; font-size: 12px; fill: rgb(42, 63, 95); fill-opacity: 1; white-space: pre;\">99.7</text></g><g class=\"y15tick\"><text text-anchor=\"end\" x=\"94\" y=\"4.199999999999999\" transform=\"translate(0,4401.843744855967)\" style=\"font-family: 'Open Sans', verdana, arial, sans-serif; font-size: 12px; fill: rgb(42, 63, 95); fill-opacity: 1; white-space: pre;\">99.75</text></g><g class=\"y15tick\"><text text-anchor=\"end\" x=\"94\" y=\"4.199999999999999\" transform=\"translate(0,4366.753744855967)\" style=\"font-family: 'Open Sans', verdana, arial, sans-serif; font-size: 12px; fill: rgb(42, 63, 95); fill-opacity: 1; white-space: pre;\">99.8</text></g><g class=\"y15tick\"><text text-anchor=\"end\" x=\"94\" y=\"4.199999999999999\" transform=\"translate(0,4331.663744855967)\" style=\"font-family: 'Open Sans', verdana, arial, sans-serif; font-size: 12px; fill: rgb(42, 63, 95); fill-opacity: 1; white-space: pre;\">99.85</text></g><g class=\"y15tick\"><text text-anchor=\"end\" x=\"94\" y=\"4.199999999999999\" transform=\"translate(0,4296.583744855967)\" style=\"font-family: 'Open Sans', verdana, arial, sans-serif; font-size: 12px; fill: rgb(42, 63, 95); fill-opacity: 1; white-space: pre;\">99.9</text></g><g class=\"y15tick\"><text text-anchor=\"end\" x=\"94\" y=\"4.199999999999999\" transform=\"translate(0,4261.493744855968)\" style=\"font-family: 'Open Sans', verdana, arial, sans-serif; font-size: 12px; fill: rgb(42, 63, 95); fill-opacity: 1; white-space: pre;\">99.95</text></g><g class=\"y15tick\"><text text-anchor=\"end\" x=\"94\" y=\"4.199999999999999\" transform=\"translate(0,4226.4037448559675)\" style=\"font-family: 'Open Sans', verdana, arial, sans-serif; font-size: 12px; fill: rgb(42, 63, 95); fill-opacity: 1; white-space: pre;\">100</text></g></g><g class=\"overaxes-above\"/></g><g class=\"subplot x16y16\"><g class=\"layer-subplot\"><g class=\"shapelayer\"/><g class=\"imagelayer\"/></g><g class=\"gridlayer\"><g class=\"x16\"><path class=\"x16grid crisp\" transform=\"translate(130.21,0)\" d=\"M0,4499.6790123456785v251.83045267489706\" style=\"stroke: rgb(255, 255, 255); stroke-opacity: 1; stroke-width: 1px;\"/><path class=\"x16grid crisp\" transform=\"translate(268.6,0)\" d=\"M0,4499.6790123456785v251.83045267489706\" style=\"stroke: rgb(255, 255, 255); stroke-opacity: 1; stroke-width: 1px;\"/><path class=\"x16grid crisp\" transform=\"translate(406.98,0)\" d=\"M0,4499.6790123456785v251.83045267489706\" style=\"stroke: rgb(255, 255, 255); stroke-opacity: 1; stroke-width: 1px;\"/><path class=\"x16grid crisp\" transform=\"translate(545.37,0)\" d=\"M0,4499.6790123456785v251.83045267489706\" style=\"stroke: rgb(255, 255, 255); stroke-opacity: 1; stroke-width: 1px;\"/><path class=\"x16grid crisp\" transform=\"translate(683.75,0)\" d=\"M0,4499.6790123456785v251.83045267489706\" style=\"stroke: rgb(255, 255, 255); stroke-opacity: 1; stroke-width: 1px;\"/></g><g class=\"y16\"><path class=\"y16grid crisp\" transform=\"translate(0,4727.249012345678)\" d=\"M95,0h625\" style=\"stroke: rgb(255, 255, 255); stroke-opacity: 1; stroke-width: 1px;\"/><path class=\"y16grid crisp\" transform=\"translate(0,4689.489012345679)\" d=\"M95,0h625\" style=\"stroke: rgb(255, 255, 255); stroke-opacity: 1; stroke-width: 1px;\"/><path class=\"y16grid crisp\" transform=\"translate(0,4651.7190123456785)\" d=\"M95,0h625\" style=\"stroke: rgb(255, 255, 255); stroke-opacity: 1; stroke-width: 1px;\"/><path class=\"y16grid crisp\" transform=\"translate(0,4613.959012345678)\" d=\"M95,0h625\" style=\"stroke: rgb(255, 255, 255); stroke-opacity: 1; stroke-width: 1px;\"/><path class=\"y16grid crisp\" transform=\"translate(0,4576.199012345679)\" d=\"M95,0h625\" style=\"stroke: rgb(255, 255, 255); stroke-opacity: 1; stroke-width: 1px;\"/><path class=\"y16grid crisp\" transform=\"translate(0,4538.439012345679)\" d=\"M95,0h625\" style=\"stroke: rgb(255, 255, 255); stroke-opacity: 1; stroke-width: 1px;\"/></g></g><g class=\"zerolinelayer\"><path class=\"y16zl zl crisp\" transform=\"translate(0,4500.6790123456785)\" d=\"M95,0h625\" style=\"stroke: rgb(255, 255, 255); stroke-opacity: 1; stroke-width: 2px;\"/></g><path class=\"xlines-below\"/><path class=\"ylines-below\"/><g class=\"overlines-below\"/><g class=\"xaxislayer-below\"/><g class=\"yaxislayer-below\"/><g class=\"overaxes-below\"/><g class=\"plot\" transform=\"translate(95,4499.6790123456785)\" clip-path=\"url('#clip184629x16y16plot')\"><g class=\"scatterlayer mlayer\"><g class=\"trace scatter tracef585008b-d1db-4c3b-8ed2-661fdb9be0f3\" style=\"stroke-miterlimit: 2;\"><g class=\"fills\"><g><path class=\"js-fill\" d=\"M588.75,1L35.21,1L35.21,1L173.6,79.56L311.98,84.07L450.37,84.07L588.75,235.49\" style=\"fill: rgb(220, 57, 18); fill-opacity: 0.3; stroke-width: 0;\"/></g></g><g class=\"errorbars\"/><g class=\"lines\"><path class=\"js-line\" d=\"M35.21,1L173.6,79.56L311.98,84.07L450.37,84.07L588.75,235.49\" style=\"vector-effect: non-scaling-stroke; fill: none; stroke: rgb(220, 57, 18); stroke-opacity: 1; stroke-width: 2px; opacity: 1;\"/></g><g class=\"points\"><path class=\"point\" transform=\"translate(35.21,1)\" d=\"M3,0A3,3 0 1,1 0,-3A3,3 0 0,1 3,0Z\" style=\"opacity: 1; stroke-width: 0px; fill: rgb(220, 57, 18); fill-opacity: 1;\"/><path class=\"point\" transform=\"translate(173.6,79.56)\" d=\"M3,0A3,3 0 1,1 0,-3A3,3 0 0,1 3,0Z\" style=\"opacity: 1; stroke-width: 0px; fill: rgb(220, 57, 18); fill-opacity: 1;\"/><path class=\"point\" transform=\"translate(311.98,84.07)\" d=\"M3,0A3,3 0 1,1 0,-3A3,3 0 0,1 3,0Z\" style=\"opacity: 1; stroke-width: 0px; fill: rgb(220, 57, 18); fill-opacity: 1;\"/><path class=\"point\" transform=\"translate(450.37,84.07)\" d=\"M3,0A3,3 0 1,1 0,-3A3,3 0 0,1 3,0Z\" style=\"opacity: 1; stroke-width: 0px; fill: rgb(220, 57, 18); fill-opacity: 1;\"/><path class=\"point\" transform=\"translate(588.75,235.49)\" d=\"M3,0A3,3 0 1,1 0,-3A3,3 0 0,1 3,0Z\" style=\"opacity: 1; stroke-width: 0px; fill: rgb(220, 57, 18); fill-opacity: 1;\"/></g><g class=\"text\"/></g></g></g><g class=\"overplot\"/><path class=\"xlines-above crisp\" d=\"M0,0\" style=\"fill: none;\"/><path class=\"ylines-above crisp\" d=\"M0,0\" style=\"fill: none;\"/><g class=\"overlines-above\"/><g class=\"xaxislayer-above\"/><g class=\"yaxislayer-above\"><g class=\"y16tick\"><text text-anchor=\"end\" x=\"94\" y=\"4.199999999999999\" transform=\"translate(0,4727.249012345678)\" style=\"font-family: 'Open Sans', verdana, arial, sans-serif; font-size: 12px; fill: rgb(42, 63, 95); fill-opacity: 1; white-space: pre;\">−0%</text></g><g class=\"y16tick\"><text text-anchor=\"end\" x=\"94\" y=\"4.199999999999999\" transform=\"translate(0,4689.489012345679)\" style=\"font-family: 'Open Sans', verdana, arial, sans-serif; font-size: 12px; fill: rgb(42, 63, 95); fill-opacity: 1; white-space: pre;\">−0%</text></g><g class=\"y16tick\"><text text-anchor=\"end\" x=\"94\" y=\"4.199999999999999\" transform=\"translate(0,4651.7190123456785)\" style=\"font-family: 'Open Sans', verdana, arial, sans-serif; font-size: 12px; fill: rgb(42, 63, 95); fill-opacity: 1; white-space: pre;\">−0%</text></g><g class=\"y16tick\"><text text-anchor=\"end\" x=\"94\" y=\"4.199999999999999\" transform=\"translate(0,4613.959012345678)\" style=\"font-family: 'Open Sans', verdana, arial, sans-serif; font-size: 12px; fill: rgb(42, 63, 95); fill-opacity: 1; white-space: pre;\">−0%</text></g><g class=\"y16tick\"><text text-anchor=\"end\" x=\"94\" y=\"4.199999999999999\" transform=\"translate(0,4576.199012345679)\" style=\"font-family: 'Open Sans', verdana, arial, sans-serif; font-size: 12px; fill: rgb(42, 63, 95); fill-opacity: 1; white-space: pre;\">−0%</text></g><g class=\"y16tick\"><text text-anchor=\"end\" x=\"94\" y=\"4.199999999999999\" transform=\"translate(0,4538.439012345679)\" style=\"font-family: 'Open Sans', verdana, arial, sans-serif; font-size: 12px; fill: rgb(42, 63, 95); fill-opacity: 1; white-space: pre;\">−0%</text></g><g class=\"y16tick\"><text text-anchor=\"end\" x=\"94\" y=\"4.199999999999999\" transform=\"translate(0,4500.6790123456785)\" style=\"font-family: 'Open Sans', verdana, arial, sans-serif; font-size: 12px; fill: rgb(42, 63, 95); fill-opacity: 1; white-space: pre;\">0%</text></g></g><g class=\"overaxes-above\"/></g><g class=\"subplot x17y17\"><g class=\"layer-subplot\"><g class=\"shapelayer\"/><g class=\"imagelayer\"/></g><g class=\"gridlayer\"><g class=\"x17\"><path class=\"x17grid crisp\" transform=\"translate(130.21,0)\" d=\"M0,4789.924279835391v251.83045267489706\" style=\"stroke: rgb(255, 255, 255); stroke-opacity: 1; stroke-width: 1px;\"/><path class=\"x17grid crisp\" transform=\"translate(268.6,0)\" d=\"M0,4789.924279835391v251.83045267489706\" style=\"stroke: rgb(255, 255, 255); stroke-opacity: 1; stroke-width: 1px;\"/><path class=\"x17grid crisp\" transform=\"translate(406.98,0)\" d=\"M0,4789.924279835391v251.83045267489706\" style=\"stroke: rgb(255, 255, 255); stroke-opacity: 1; stroke-width: 1px;\"/><path class=\"x17grid crisp\" transform=\"translate(545.37,0)\" d=\"M0,4789.924279835391v251.83045267489706\" style=\"stroke: rgb(255, 255, 255); stroke-opacity: 1; stroke-width: 1px;\"/><path class=\"x17grid crisp\" transform=\"translate(683.75,0)\" d=\"M0,4789.924279835391v251.83045267489706\" style=\"stroke: rgb(255, 255, 255); stroke-opacity: 1; stroke-width: 1px;\"/></g><g class=\"y17\"><path class=\"y17grid crisp\" transform=\"translate(0,4981.584279835391)\" d=\"M95,0h625\" style=\"stroke: rgb(255, 255, 255); stroke-opacity: 1; stroke-width: 1px;\"/><path class=\"y17grid crisp\" transform=\"translate(0,4937.754279835391)\" d=\"M95,0h625\" style=\"stroke: rgb(255, 255, 255); stroke-opacity: 1; stroke-width: 1px;\"/><path class=\"y17grid crisp\" transform=\"translate(0,4893.924279835391)\" d=\"M95,0h625\" style=\"stroke: rgb(255, 255, 255); stroke-opacity: 1; stroke-width: 1px;\"/><path class=\"y17grid crisp\" transform=\"translate(0,4850.094279835391)\" d=\"M95,0h625\" style=\"stroke: rgb(255, 255, 255); stroke-opacity: 1; stroke-width: 1px;\"/><path class=\"y17grid crisp\" transform=\"translate(0,4806.264279835391)\" d=\"M95,0h625\" style=\"stroke: rgb(255, 255, 255); stroke-opacity: 1; stroke-width: 1px;\"/></g></g><g class=\"zerolinelayer\"><path class=\"y17zl zl crisp\" transform=\"translate(0,5025.4142798353905)\" d=\"M95,0h625\" style=\"stroke: rgb(255, 255, 255); stroke-opacity: 1; stroke-width: 2px;\"/></g><path class=\"xlines-below\"/><path class=\"ylines-below\"/><g class=\"overlines-below\"/><g class=\"xaxislayer-below\"/><g class=\"yaxislayer-below\"/><g class=\"overaxes-below\"/><g class=\"plot\" transform=\"translate(95,4789.924279835391)\" clip-path=\"url('#clip184629x17y17plot')\"><g class=\"scatterlayer mlayer\"><g class=\"trace scatter trace701c5b3b-6833-445e-9ada-03cf1cfc0f8e\" style=\"stroke-miterlimit: 2;\"><g class=\"fills\"><g><path class=\"js-fill\" d=\"M35.21,235.49L173.6,235.05L311.98,235.49L450.37,235.49L588.75,224.5L588.75,16.34L35.21,16.34Z\" style=\"fill: rgb(227, 119, 194); fill-opacity: 0.3; stroke-width: 0;\"/></g></g><g class=\"errorbars\"/><g class=\"lines\"><path class=\"js-line\" d=\"M35.21,16.34L588.75,16.34\" style=\"vector-effect: non-scaling-stroke; fill: none; stroke: rgb(0, 0, 0); stroke-opacity: 0; stroke-width: 0px; opacity: 1;\"/></g><g class=\"points\"><path class=\"point\" transform=\"translate(35.21,16.34)\" d=\"M3,0A3,3 0 1,1 0,-3A3,3 0 0,1 3,0Z\" style=\"opacity: 1; stroke-width: 0px; fill: rgb(0, 0, 0); fill-opacity: 0;\"/><path class=\"point\" transform=\"translate(173.6,16.34)\" d=\"M3,0A3,3 0 1,1 0,-3A3,3 0 0,1 3,0Z\" style=\"opacity: 1; stroke-width: 0px; fill: rgb(0, 0, 0); fill-opacity: 0;\"/><path class=\"point\" transform=\"translate(311.98,16.34)\" d=\"M3,0A3,3 0 1,1 0,-3A3,3 0 0,1 3,0Z\" style=\"opacity: 1; stroke-width: 0px; fill: rgb(0, 0, 0); fill-opacity: 0;\"/><path class=\"point\" transform=\"translate(450.37,16.34)\" d=\"M3,0A3,3 0 1,1 0,-3A3,3 0 0,1 3,0Z\" style=\"opacity: 1; stroke-width: 0px; fill: rgb(0, 0, 0); fill-opacity: 0;\"/><path class=\"point\" transform=\"translate(588.75,16.34)\" d=\"M3,0A3,3 0 1,1 0,-3A3,3 0 0,1 3,0Z\" style=\"opacity: 1; stroke-width: 0px; fill: rgb(0, 0, 0); fill-opacity: 0;\"/></g><g class=\"text\"/></g><g class=\"trace scatter trace2394062d-0dca-4e26-a65e-6847e97a364b\" style=\"stroke-miterlimit: 2;\"><g class=\"fills\"/><g class=\"errorbars\"/><g class=\"lines\"><path class=\"js-line\" d=\"M35.21,235.49L173.6,235.05L311.98,235.49L450.37,235.49L588.75,224.5\" style=\"vector-effect: non-scaling-stroke; fill: none; stroke: rgb(0, 0, 0); stroke-opacity: 0; stroke-width: 0px; opacity: 1;\"/></g><g class=\"points\"><path class=\"point\" transform=\"translate(35.21,235.49)\" d=\"M3,0A3,3 0 1,1 0,-3A3,3 0 0,1 3,0Z\" style=\"opacity: 1; stroke-width: 0px; fill: rgb(0, 0, 0); fill-opacity: 0;\"/><path class=\"point\" transform=\"translate(173.6,235.05)\" d=\"M3,0A3,3 0 1,1 0,-3A3,3 0 0,1 3,0Z\" style=\"opacity: 1; stroke-width: 0px; fill: rgb(0, 0, 0); fill-opacity: 0;\"/><path class=\"point\" transform=\"translate(311.98,235.49)\" d=\"M3,0A3,3 0 1,1 0,-3A3,3 0 0,1 3,0Z\" style=\"opacity: 1; stroke-width: 0px; fill: rgb(0, 0, 0); fill-opacity: 0;\"/><path class=\"point\" transform=\"translate(450.37,235.49)\" d=\"M3,0A3,3 0 1,1 0,-3A3,3 0 0,1 3,0Z\" style=\"opacity: 1; stroke-width: 0px; fill: rgb(0, 0, 0); fill-opacity: 0;\"/><path class=\"point\" transform=\"translate(588.75,224.5)\" d=\"M3,0A3,3 0 1,1 0,-3A3,3 0 0,1 3,0Z\" style=\"opacity: 1; stroke-width: 0px; fill: rgb(0, 0, 0); fill-opacity: 0;\"/></g><g class=\"text\"/></g><g class=\"trace scatter trace4e5abd32-4ee8-4f8e-8680-b1e6b0a78aa4\" style=\"stroke-miterlimit: 2; opacity: 1;\"><g class=\"fills\"/><g class=\"errorbars\"/><g class=\"lines\"><path class=\"js-line\" d=\"M35.21,235.49L173.6,235.05L311.98,235.49L450.37,235.49L588.75,224.5\" style=\"vector-effect: non-scaling-stroke; fill: none; stroke: rgb(227, 119, 194); stroke-opacity: 1; stroke-width: 2px; opacity: 1;\"/></g><g class=\"points\"><path class=\"point\" transform=\"translate(35.21,235.49)\" d=\"M3,0A3,3 0 1,1 0,-3A3,3 0 0,1 3,0Z\" style=\"opacity: 1; stroke-width: 0px; fill: rgb(227, 119, 194); fill-opacity: 1;\"/><path class=\"point\" transform=\"translate(173.6,235.05)\" d=\"M3,0A3,3 0 1,1 0,-3A3,3 0 0,1 3,0Z\" style=\"opacity: 1; stroke-width: 0px; fill: rgb(227, 119, 194); fill-opacity: 1;\"/><path class=\"point\" transform=\"translate(311.98,235.49)\" d=\"M3,0A3,3 0 1,1 0,-3A3,3 0 0,1 3,0Z\" style=\"opacity: 1; stroke-width: 0px; fill: rgb(227, 119, 194); fill-opacity: 1;\"/><path class=\"point\" transform=\"translate(450.37,235.49)\" d=\"M3,0A3,3 0 1,1 0,-3A3,3 0 0,1 3,0Z\" style=\"opacity: 1; stroke-width: 0px; fill: rgb(227, 119, 194); fill-opacity: 1;\"/><path class=\"point\" transform=\"translate(588.75,224.5)\" d=\"M3,0A3,3 0 1,1 0,-3A3,3 0 0,1 3,0Z\" style=\"opacity: 1; stroke-width: 0px; fill: rgb(227, 119, 194); fill-opacity: 1;\"/></g><g class=\"text\"/></g><g class=\"trace scatter traceaab25348-02c2-4dcc-a785-b40a0d01b673\" style=\"stroke-miterlimit: 2; opacity: 0;\"><g class=\"fills\"/><g class=\"errorbars\"/><g class=\"lines\"><path class=\"js-line\" d=\"M35.21,16.34L588.75,16.34\" style=\"vector-effect: non-scaling-stroke; fill: none; stroke: rgb(0, 0, 0); stroke-opacity: 0; stroke-width: 0px; opacity: 1;\"/></g><g class=\"points\"><path class=\"point\" transform=\"translate(35.21,16.34)\" d=\"M3,0A3,3 0 1,1 0,-3A3,3 0 0,1 3,0Z\" style=\"opacity: 1; stroke-width: 0px; fill: rgb(0, 0, 0); fill-opacity: 0;\"/><path class=\"point\" transform=\"translate(173.6,16.34)\" d=\"M3,0A3,3 0 1,1 0,-3A3,3 0 0,1 3,0Z\" style=\"opacity: 1; stroke-width: 0px; fill: rgb(0, 0, 0); fill-opacity: 0;\"/><path class=\"point\" transform=\"translate(311.98,16.34)\" d=\"M3,0A3,3 0 1,1 0,-3A3,3 0 0,1 3,0Z\" style=\"opacity: 1; stroke-width: 0px; fill: rgb(0, 0, 0); fill-opacity: 0;\"/><path class=\"point\" transform=\"translate(450.37,16.34)\" d=\"M3,0A3,3 0 1,1 0,-3A3,3 0 0,1 3,0Z\" style=\"opacity: 1; stroke-width: 0px; fill: rgb(0, 0, 0); fill-opacity: 0;\"/><path class=\"point\" transform=\"translate(588.75,16.34)\" d=\"M3,0A3,3 0 1,1 0,-3A3,3 0 0,1 3,0Z\" style=\"opacity: 1; stroke-width: 0px; fill: rgb(0, 0, 0); fill-opacity: 0;\"/></g><g class=\"text\"/></g></g></g><g class=\"overplot\"/><path class=\"xlines-above crisp\" d=\"M0,0\" style=\"fill: none;\"/><path class=\"ylines-above crisp\" d=\"M0,0\" style=\"fill: none;\"/><g class=\"overlines-above\"/><g class=\"xaxislayer-above\"/><g class=\"yaxislayer-above\"><g class=\"y17tick\"><text text-anchor=\"end\" x=\"94\" y=\"4.199999999999999\" transform=\"translate(0,5025.4142798353905)\" style=\"font-family: 'Open Sans', verdana, arial, sans-serif; font-size: 12px; fill: rgb(42, 63, 95); fill-opacity: 1; white-space: pre;\">0</text></g><g class=\"y17tick\"><text text-anchor=\"end\" x=\"94\" y=\"4.199999999999999\" transform=\"translate(0,4981.584279835391)\" style=\"font-family: 'Open Sans', verdana, arial, sans-serif; font-size: 12px; fill: rgb(42, 63, 95); fill-opacity: 1; white-space: pre;\">0.2</text></g><g class=\"y17tick\"><text text-anchor=\"end\" x=\"94\" y=\"4.199999999999999\" transform=\"translate(0,4937.754279835391)\" style=\"font-family: 'Open Sans', verdana, arial, sans-serif; font-size: 12px; fill: rgb(42, 63, 95); fill-opacity: 1; white-space: pre;\">0.4</text></g><g class=\"y17tick\"><text text-anchor=\"end\" x=\"94\" y=\"4.199999999999999\" transform=\"translate(0,4893.924279835391)\" style=\"font-family: 'Open Sans', verdana, arial, sans-serif; font-size: 12px; fill: rgb(42, 63, 95); fill-opacity: 1; white-space: pre;\">0.6</text></g><g class=\"y17tick\"><text text-anchor=\"end\" x=\"94\" y=\"4.199999999999999\" transform=\"translate(0,4850.094279835391)\" style=\"font-family: 'Open Sans', verdana, arial, sans-serif; font-size: 12px; fill: rgb(42, 63, 95); fill-opacity: 1; white-space: pre;\">0.8</text></g><g class=\"y17tick\"><text text-anchor=\"end\" x=\"94\" y=\"4.199999999999999\" transform=\"translate(0,4806.264279835391)\" style=\"font-family: 'Open Sans', verdana, arial, sans-serif; font-size: 12px; fill: rgb(42, 63, 95); fill-opacity: 1; white-space: pre;\">1</text></g></g><g class=\"overaxes-above\"/></g><g class=\"subplot x18y18\"><g class=\"layer-subplot\"><g class=\"shapelayer\"/><g class=\"imagelayer\"/></g><g class=\"gridlayer\"><g class=\"x18\"><path class=\"x18grid crisp\" transform=\"translate(130.21,0)\" d=\"M0,5080.169547325103v251.83045267489712\" style=\"stroke: rgb(255, 255, 255); stroke-opacity: 1; stroke-width: 1px;\"/><path class=\"x18grid crisp\" transform=\"translate(268.6,0)\" d=\"M0,5080.169547325103v251.83045267489712\" style=\"stroke: rgb(255, 255, 255); stroke-opacity: 1; stroke-width: 1px;\"/><path class=\"x18grid crisp\" transform=\"translate(406.98,0)\" d=\"M0,5080.169547325103v251.83045267489712\" style=\"stroke: rgb(255, 255, 255); stroke-opacity: 1; stroke-width: 1px;\"/><path class=\"x18grid crisp\" transform=\"translate(545.37,0)\" d=\"M0,5080.169547325103v251.83045267489712\" style=\"stroke: rgb(255, 255, 255); stroke-opacity: 1; stroke-width: 1px;\"/><path class=\"x18grid crisp\" transform=\"translate(683.75,0)\" d=\"M0,5080.169547325103v251.83045267489712\" style=\"stroke: rgb(255, 255, 255); stroke-opacity: 1; stroke-width: 1px;\"/></g><g class=\"y18\"><path class=\"y18grid crisp\" transform=\"translate(0,5271.969547325103)\" d=\"M95,0h625\" style=\"stroke: rgb(255, 255, 255); stroke-opacity: 1; stroke-width: 1px;\"/><path class=\"y18grid crisp\" transform=\"translate(0,5228.269547325103)\" d=\"M95,0h625\" style=\"stroke: rgb(255, 255, 255); stroke-opacity: 1; stroke-width: 1px;\"/><path class=\"y18grid crisp\" transform=\"translate(0,5184.579547325103)\" d=\"M95,0h625\" style=\"stroke: rgb(255, 255, 255); stroke-opacity: 1; stroke-width: 1px;\"/><path class=\"y18grid crisp\" transform=\"translate(0,5140.889547325103)\" d=\"M95,0h625\" style=\"stroke: rgb(255, 255, 255); stroke-opacity: 1; stroke-width: 1px;\"/><path class=\"y18grid crisp\" transform=\"translate(0,5097.189547325103)\" d=\"M95,0h625\" style=\"stroke: rgb(255, 255, 255); stroke-opacity: 1; stroke-width: 1px;\"/></g></g><g class=\"zerolinelayer\"><path class=\"y18zl zl crisp\" transform=\"translate(0,5315.659547325103)\" d=\"M95,0h625\" style=\"stroke: rgb(255, 255, 255); stroke-opacity: 1; stroke-width: 2px;\"/></g><path class=\"xlines-below\"/><path class=\"ylines-below\"/><g class=\"overlines-below\"/><g class=\"xaxislayer-below\"/><g class=\"yaxislayer-below\"/><g class=\"overaxes-below\"/><g class=\"plot\" transform=\"translate(95,5080.169547325103)\" clip-path=\"url('#clip184629x18y18plot')\"><g class=\"scatterlayer mlayer\"><g class=\"trace scatter trace622538e7-dec0-4e8c-8125-fbfad0e4e7a5\" style=\"stroke-miterlimit: 2;\"><g class=\"fills\"><g><path class=\"js-fill\" d=\"M35.21,235.49L173.6,226.74L311.98,235.49L450.37,235.49L588.75,16.34L588.75,235.49L35.21,235.49Z\" style=\"fill: rgb(227, 119, 194); fill-opacity: 0.3; stroke-width: 0;\"/></g></g><g class=\"errorbars\"/><g class=\"lines\"><path class=\"js-line\" d=\"M35.21,235.49L588.75,235.49\" style=\"vector-effect: non-scaling-stroke; fill: none; stroke: rgb(0, 0, 0); stroke-opacity: 0; stroke-width: 0px; opacity: 1;\"/></g><g class=\"points\"><path class=\"point\" transform=\"translate(35.21,235.49)\" d=\"M3,0A3,3 0 1,1 0,-3A3,3 0 0,1 3,0Z\" style=\"opacity: 1; stroke-width: 0px; fill: rgb(0, 0, 0); fill-opacity: 0;\"/><path class=\"point\" transform=\"translate(173.6,235.49)\" d=\"M3,0A3,3 0 1,1 0,-3A3,3 0 0,1 3,0Z\" style=\"opacity: 1; stroke-width: 0px; fill: rgb(0, 0, 0); fill-opacity: 0;\"/><path class=\"point\" transform=\"translate(311.98,235.49)\" d=\"M3,0A3,3 0 1,1 0,-3A3,3 0 0,1 3,0Z\" style=\"opacity: 1; stroke-width: 0px; fill: rgb(0, 0, 0); fill-opacity: 0;\"/><path class=\"point\" transform=\"translate(450.37,235.49)\" d=\"M3,0A3,3 0 1,1 0,-3A3,3 0 0,1 3,0Z\" style=\"opacity: 1; stroke-width: 0px; fill: rgb(0, 0, 0); fill-opacity: 0;\"/><path class=\"point\" transform=\"translate(588.75,235.49)\" d=\"M3,0A3,3 0 1,1 0,-3A3,3 0 0,1 3,0Z\" style=\"opacity: 1; stroke-width: 0px; fill: rgb(0, 0, 0); fill-opacity: 0;\"/></g><g class=\"text\"/></g><g class=\"trace scatter trace10b65dfc-6842-4e20-8eba-3b3205feb5d8\" style=\"stroke-miterlimit: 2;\"><g class=\"fills\"/><g class=\"errorbars\"/><g class=\"lines\"><path class=\"js-line\" d=\"M35.21,235.49L173.6,226.74L311.98,235.49L450.37,235.49L588.75,16.34\" style=\"vector-effect: non-scaling-stroke; fill: none; stroke: rgb(0, 0, 0); stroke-opacity: 0; stroke-width: 0px; opacity: 1;\"/></g><g class=\"points\"><path class=\"point\" transform=\"translate(35.21,235.49)\" d=\"M3,0A3,3 0 1,1 0,-3A3,3 0 0,1 3,0Z\" style=\"opacity: 1; stroke-width: 0px; fill: rgb(0, 0, 0); fill-opacity: 0;\"/><path class=\"point\" transform=\"translate(173.6,226.74)\" d=\"M3,0A3,3 0 1,1 0,-3A3,3 0 0,1 3,0Z\" style=\"opacity: 1; stroke-width: 0px; fill: rgb(0, 0, 0); fill-opacity: 0;\"/><path class=\"point\" transform=\"translate(311.98,235.49)\" d=\"M3,0A3,3 0 1,1 0,-3A3,3 0 0,1 3,0Z\" style=\"opacity: 1; stroke-width: 0px; fill: rgb(0, 0, 0); fill-opacity: 0;\"/><path class=\"point\" transform=\"translate(450.37,235.49)\" d=\"M3,0A3,3 0 1,1 0,-3A3,3 0 0,1 3,0Z\" style=\"opacity: 1; stroke-width: 0px; fill: rgb(0, 0, 0); fill-opacity: 0;\"/><path class=\"point\" transform=\"translate(588.75,16.34)\" d=\"M3,0A3,3 0 1,1 0,-3A3,3 0 0,1 3,0Z\" style=\"opacity: 1; stroke-width: 0px; fill: rgb(0, 0, 0); fill-opacity: 0;\"/></g><g class=\"text\"/></g><g class=\"trace scatter traced870a57e-ccfb-44eb-94fe-fd1aa1ada32a\" style=\"stroke-miterlimit: 2; opacity: 1;\"><g class=\"fills\"/><g class=\"errorbars\"/><g class=\"lines\"><path class=\"js-line\" d=\"M35.21,235.49L173.6,226.74L311.98,235.49L450.37,235.49L588.75,16.34\" style=\"vector-effect: non-scaling-stroke; fill: none; stroke: rgb(227, 119, 194); stroke-opacity: 1; stroke-width: 2px; opacity: 1;\"/></g><g class=\"points\"><path class=\"point\" transform=\"translate(35.21,235.49)\" d=\"M3,0A3,3 0 1,1 0,-3A3,3 0 0,1 3,0Z\" style=\"opacity: 1; stroke-width: 0px; fill: rgb(227, 119, 194); fill-opacity: 1;\"/><path class=\"point\" transform=\"translate(173.6,226.74)\" d=\"M3,0A3,3 0 1,1 0,-3A3,3 0 0,1 3,0Z\" style=\"opacity: 1; stroke-width: 0px; fill: rgb(227, 119, 194); fill-opacity: 1;\"/><path class=\"point\" transform=\"translate(311.98,235.49)\" d=\"M3,0A3,3 0 1,1 0,-3A3,3 0 0,1 3,0Z\" style=\"opacity: 1; stroke-width: 0px; fill: rgb(227, 119, 194); fill-opacity: 1;\"/><path class=\"point\" transform=\"translate(450.37,235.49)\" d=\"M3,0A3,3 0 1,1 0,-3A3,3 0 0,1 3,0Z\" style=\"opacity: 1; stroke-width: 0px; fill: rgb(227, 119, 194); fill-opacity: 1;\"/><path class=\"point\" transform=\"translate(588.75,16.34)\" d=\"M3,0A3,3 0 1,1 0,-3A3,3 0 0,1 3,0Z\" style=\"opacity: 1; stroke-width: 0px; fill: rgb(227, 119, 194); fill-opacity: 1;\"/></g><g class=\"text\"/></g><g class=\"trace scatter tracef1ae9989-209e-4771-8301-fe284ea2b6dc\" style=\"stroke-miterlimit: 2; opacity: 0;\"><g class=\"fills\"/><g class=\"errorbars\"/><g class=\"lines\"><path class=\"js-line\" d=\"M35.21,235.49L588.75,235.49\" style=\"vector-effect: non-scaling-stroke; fill: none; stroke: rgb(0, 0, 0); stroke-opacity: 0; stroke-width: 0px; opacity: 1;\"/></g><g class=\"points\"><path class=\"point\" transform=\"translate(35.21,235.49)\" d=\"M3,0A3,3 0 1,1 0,-3A3,3 0 0,1 3,0Z\" style=\"opacity: 1; stroke-width: 0px; fill: rgb(0, 0, 0); fill-opacity: 0;\"/><path class=\"point\" transform=\"translate(173.6,235.49)\" d=\"M3,0A3,3 0 1,1 0,-3A3,3 0 0,1 3,0Z\" style=\"opacity: 1; stroke-width: 0px; fill: rgb(0, 0, 0); fill-opacity: 0;\"/><path class=\"point\" transform=\"translate(311.98,235.49)\" d=\"M3,0A3,3 0 1,1 0,-3A3,3 0 0,1 3,0Z\" style=\"opacity: 1; stroke-width: 0px; fill: rgb(0, 0, 0); fill-opacity: 0;\"/><path class=\"point\" transform=\"translate(450.37,235.49)\" d=\"M3,0A3,3 0 1,1 0,-3A3,3 0 0,1 3,0Z\" style=\"opacity: 1; stroke-width: 0px; fill: rgb(0, 0, 0); fill-opacity: 0;\"/><path class=\"point\" transform=\"translate(588.75,235.49)\" d=\"M3,0A3,3 0 1,1 0,-3A3,3 0 0,1 3,0Z\" style=\"opacity: 1; stroke-width: 0px; fill: rgb(0, 0, 0); fill-opacity: 0;\"/></g><g class=\"text\"/></g></g></g><g class=\"overplot\"/><path class=\"xlines-above crisp\" d=\"M0,0\" style=\"fill: none;\"/><path class=\"ylines-above crisp\" d=\"M0,0\" style=\"fill: none;\"/><g class=\"overlines-above\"/><g class=\"xaxislayer-above\"><g class=\"x18tick\"><text text-anchor=\"middle\" x=\"0\" y=\"5345\" transform=\"translate(130.21,0)\" style=\"font-family: 'Open Sans', verdana, arial, sans-serif; font-size: 12px; fill: rgb(42, 63, 95); fill-opacity: 1; white-space: pre;\"><tspan class=\"line\" dy=\"0em\" x=\"0\" y=\"5345\">Jan 1</tspan><tspan class=\"line\" dy=\"1.3em\" x=\"0\" y=\"5345\">2020</tspan></text></g><g class=\"x18tick\"><text text-anchor=\"middle\" x=\"0\" y=\"5345\" transform=\"translate(268.6,0)\" style=\"font-family: 'Open Sans', verdana, arial, sans-serif; font-size: 12px; fill: rgb(42, 63, 95); fill-opacity: 1; white-space: pre;\">Jan 2</text></g><g class=\"x18tick\"><text text-anchor=\"middle\" x=\"0\" y=\"5345\" transform=\"translate(406.98,0)\" style=\"font-family: 'Open Sans', verdana, arial, sans-serif; font-size: 12px; fill: rgb(42, 63, 95); fill-opacity: 1; white-space: pre;\">Jan 3</text></g><g class=\"x18tick\"><text text-anchor=\"middle\" x=\"0\" y=\"5345\" transform=\"translate(545.37,0)\" style=\"font-family: 'Open Sans', verdana, arial, sans-serif; font-size: 12px; fill: rgb(42, 63, 95); fill-opacity: 1; white-space: pre;\">Jan 4</text></g><g class=\"x18tick\"><text text-anchor=\"middle\" x=\"0\" y=\"5345\" transform=\"translate(683.75,0)\" style=\"font-family: 'Open Sans', verdana, arial, sans-serif; font-size: 12px; fill: rgb(42, 63, 95); fill-opacity: 1; white-space: pre;\">Jan 5</text></g></g><g class=\"yaxislayer-above\"><g class=\"y18tick\"><text text-anchor=\"end\" x=\"94\" y=\"4.199999999999999\" transform=\"translate(0,5315.659547325103)\" style=\"font-family: 'Open Sans', verdana, arial, sans-serif; font-size: 12px; fill: rgb(42, 63, 95); fill-opacity: 1; white-space: pre;\">0</text></g><g class=\"y18tick\"><text text-anchor=\"end\" x=\"94\" y=\"4.199999999999999\" transform=\"translate(0,5271.969547325103)\" style=\"font-family: 'Open Sans', verdana, arial, sans-serif; font-size: 12px; fill: rgb(42, 63, 95); fill-opacity: 1; white-space: pre;\">0.01</text></g><g class=\"y18tick\"><text text-anchor=\"end\" x=\"94\" y=\"4.199999999999999\" transform=\"translate(0,5228.269547325103)\" style=\"font-family: 'Open Sans', verdana, arial, sans-serif; font-size: 12px; fill: rgb(42, 63, 95); fill-opacity: 1; white-space: pre;\">0.02</text></g><g class=\"y18tick\"><text text-anchor=\"end\" x=\"94\" y=\"4.199999999999999\" transform=\"translate(0,5184.579547325103)\" style=\"font-family: 'Open Sans', verdana, arial, sans-serif; font-size: 12px; fill: rgb(42, 63, 95); fill-opacity: 1; white-space: pre;\">0.03</text></g><g class=\"y18tick\"><text text-anchor=\"end\" x=\"94\" y=\"4.199999999999999\" transform=\"translate(0,5140.889547325103)\" style=\"font-family: 'Open Sans', verdana, arial, sans-serif; font-size: 12px; fill: rgb(42, 63, 95); fill-opacity: 1; white-space: pre;\">0.04</text></g><g class=\"y18tick\"><text text-anchor=\"end\" x=\"94\" y=\"4.199999999999999\" transform=\"translate(0,5097.189547325103)\" style=\"font-family: 'Open Sans', verdana, arial, sans-serif; font-size: 12px; fill: rgb(42, 63, 95); fill-opacity: 1; white-space: pre;\">0.05</text></g></g><g class=\"overaxes-above\"/></g></g><g class=\"polarlayer\"/><g class=\"ternarylayer\"/><g class=\"geolayer\"/><g class=\"funnelarealayer\"/><g class=\"pielayer\"/><g class=\"treemaplayer\"/><g class=\"sunburstlayer\"/><g class=\"glimages\"/><defs id=\"topdefs-184629\"><g class=\"clips\"/><clipPath id=\"legend184629\"><rect width=\"493\" height=\"105\" x=\"0\" y=\"0\"/></clipPath></defs><g class=\"layer-above\"><g class=\"imagelayer\"/><g class=\"shapelayer\"><path data-index=\"4\" fill-rule=\"evenodd\" d=\"M95,1017.7358024691349L720,1017.7358024691349\" clip-path=\"url('#clip184629y4')\" style=\"opacity: 1; stroke: rgb(128, 128, 128); stroke-opacity: 1; fill: rgb(0, 0, 0); fill-opacity: 0; stroke-dasharray: 9px, 9px; stroke-width: 2px;\"/><path data-index=\"5\" fill-rule=\"evenodd\" d=\"M95,1307.9810699588472L720,1307.9810699588472\" clip-path=\"url('#clip184629y5')\" style=\"opacity: 1; stroke: rgb(128, 128, 128); stroke-opacity: 1; fill: rgb(0, 0, 0); fill-opacity: 0; stroke-dasharray: 9px, 9px; stroke-width: 2px;\"/><path data-index=\"6\" fill-rule=\"evenodd\" d=\"M95,1598.2263374485594L720,1598.2263374485594\" clip-path=\"url('#clip184629y6')\" style=\"opacity: 1; stroke: rgb(128, 128, 128); stroke-opacity: 1; fill: rgb(0, 0, 0); fill-opacity: 0; stroke-dasharray: 9px, 9px; stroke-width: 2px;\"/><path data-index=\"7\" fill-rule=\"evenodd\" d=\"M95,1888.4716049382716L720,1888.4716049382716\" clip-path=\"url('#clip184629y7')\" style=\"opacity: 1; stroke: rgb(128, 128, 128); stroke-opacity: 1; fill: rgb(0, 0, 0); fill-opacity: 0; stroke-dasharray: 9px, 9px; stroke-width: 2px;\"/><path data-index=\"8\" fill-rule=\"evenodd\" d=\"M95,2412.7568724279836L720,2412.7568724279836\" clip-path=\"url('#clip184629y8')\" style=\"opacity: 1; stroke: rgb(128, 128, 128); stroke-opacity: 1; fill: rgb(0, 0, 0); fill-opacity: 0; stroke-dasharray: 9px, 9px; stroke-width: 2px;\"/><path data-index=\"9\" fill-rule=\"evenodd\" d=\"M95,2683.5321399176955L720,2683.5321399176955\" clip-path=\"url('#clip184629y9')\" style=\"opacity: 1; stroke: rgb(128, 128, 128); stroke-opacity: 1; fill: rgb(0, 0, 0); fill-opacity: 0; stroke-dasharray: 9px, 9px; stroke-width: 2px;\"/><path data-index=\"10\" fill-rule=\"evenodd\" d=\"M95,2782.4274074074074L720,2782.4274074074074\" clip-path=\"url('#clip184629y10')\" style=\"opacity: 1; stroke: rgb(128, 128, 128); stroke-opacity: 1; fill: rgb(0, 0, 0); fill-opacity: 0; stroke-dasharray: 9px, 9px; stroke-width: 2px;\"/><path data-index=\"11\" fill-rule=\"evenodd\" d=\"M95,3283.942674897119L720,3283.942674897119\" clip-path=\"url('#clip184629y11')\" style=\"opacity: 1; stroke: rgb(128, 128, 128); stroke-opacity: 1; fill: rgb(0, 0, 0); fill-opacity: 0; stroke-dasharray: 9px, 9px; stroke-width: 2px;\"/><path data-index=\"12\" fill-rule=\"evenodd\" d=\"M95,3355.037942386831L720,3355.037942386831\" clip-path=\"url('#clip184629y12')\" style=\"opacity: 1; stroke: rgb(128, 128, 128); stroke-opacity: 1; fill: rgb(0, 0, 0); fill-opacity: 0; stroke-dasharray: 9px, 9px; stroke-width: 2px;\"/><path data-index=\"13\" fill-rule=\"evenodd\" d=\"M95,3864.4332098765435L720,3864.4332098765435\" clip-path=\"url('#clip184629y13')\" style=\"opacity: 1; stroke: rgb(128, 128, 128); stroke-opacity: 1; fill: rgb(0, 0, 0); fill-opacity: 0; stroke-dasharray: 9px, 9px; stroke-width: 2px;\"/><path data-index=\"14\" fill-rule=\"evenodd\" d=\"M95,3935.5284773662556L720,3935.5284773662556\" clip-path=\"url('#clip184629y14')\" style=\"opacity: 1; stroke: rgb(128, 128, 128); stroke-opacity: 1; fill: rgb(0, 0, 0); fill-opacity: 0; stroke-dasharray: 9px, 9px; stroke-width: 2px;\"/><path data-index=\"16\" fill-rule=\"evenodd\" d=\"M95,4500.6790123456785L720,4500.6790123456785\" clip-path=\"url('#clip184629y16')\" style=\"opacity: 1; stroke: rgb(128, 128, 128); stroke-opacity: 1; fill: rgb(0, 0, 0); fill-opacity: 0; stroke-dasharray: 9px, 9px; stroke-width: 2px;\"/><path data-index=\"17\" fill-rule=\"evenodd\" d=\"M95,4806.264279835391L720,4806.264279835391\" clip-path=\"url('#clip184629y17')\" style=\"opacity: 1; stroke: rgb(128, 128, 128); stroke-opacity: 1; fill: rgb(0, 0, 0); fill-opacity: 0; stroke-dasharray: 9px, 9px; stroke-width: 2px;\"/><path data-index=\"18\" fill-rule=\"evenodd\" d=\"M95,5315.659547325103L720,5315.659547325103\" clip-path=\"url('#clip184629y18')\" style=\"opacity: 1; stroke: rgb(128, 128, 128); stroke-opacity: 1; fill: rgb(0, 0, 0); fill-opacity: 0; stroke-dasharray: 9px, 9px; stroke-width: 2px;\"/></g></g><g class=\"infolayer\"><g class=\"legend\" pointer-events=\"all\" transform=\"translate(227,12.188888888888982)\"><rect class=\"bg\" shape-rendering=\"crispEdges\" style=\"stroke: rgb(68, 68, 68); stroke-opacity: 1; fill: rgb(255, 255, 255); fill-opacity: 1; stroke-width: 0px;\" width=\"493\" height=\"105\" x=\"0\" y=\"0\"/><g class=\"scrollbox\" transform=\"\" clip-path=\"url('#legend184629')\"><g class=\"groups\"><g class=\"traces\" transform=\"translate(0,14.5)\" style=\"opacity: 1;\"><text class=\"legendtext\" text-anchor=\"start\" x=\"40\" y=\"4.680000000000001\" style=\"font-family: 'Open Sans', verdana, arial, sans-serif; font-size: 12px; fill: rgb(42, 63, 95); fill-opacity: 1; white-space: pre;\">a</text><g class=\"layers\" style=\"opacity: 1;\"><g class=\"legendfill\"/><g class=\"legendlines\"><path class=\"js-line\" d=\"M5,0h30\" style=\"fill: none; stroke: rgb(31, 119, 180); stroke-opacity: 1; stroke-width: 2px;\"/></g><g class=\"legendsymbols\"><g class=\"legendpoints\"><path class=\"scatterpts\" transform=\"translate(20,0)\" d=\"M3,0A3,3 0 1,1 0,-3A3,3 0 0,1 3,0Z\" style=\"opacity: 1; stroke-width: 0px; fill: rgb(31, 119, 180); fill-opacity: 1;\"/></g></g></g><rect class=\"legendtoggle\" x=\"0\" y=\"-9.5\" width=\"49.71875\" height=\"19\" style=\"fill: rgb(0, 0, 0); fill-opacity: 0;\"/></g><g class=\"traces\" transform=\"translate(128.109375,14.5)\" style=\"opacity: 1;\"><text class=\"legendtext\" text-anchor=\"start\" x=\"40\" y=\"4.680000000000001\" style=\"font-family: 'Open Sans', verdana, arial, sans-serif; font-size: 12px; fill: rgb(42, 63, 95); fill-opacity: 1; white-space: pre;\">Buy</text><g class=\"layers\" style=\"opacity: 1;\"><g class=\"legendfill\"/><g class=\"legendlines\"/><g class=\"legendsymbols\"><g class=\"legendpoints\"><path class=\"scatterpts\" transform=\"translate(20,0)\" d=\"M-4.62,2H4.62L0,-4Z\" style=\"opacity: 1; stroke-width: 1px; fill: rgb(55, 177, 63); fill-opacity: 1; stroke: rgb(38, 123, 44); stroke-opacity: 1;\"/></g></g></g><rect class=\"legendtoggle\" x=\"0\" y=\"-9.5\" width=\"65.421875\" height=\"19\" style=\"fill: rgb(0, 0, 0); fill-opacity: 0;\"/></g><g class=\"traces\" transform=\"translate(256.21875,14.5)\" style=\"opacity: 1;\"><text class=\"legendtext\" text-anchor=\"start\" x=\"40\" y=\"4.680000000000001\" style=\"font-family: 'Open Sans', verdana, arial, sans-serif; font-size: 12px; fill: rgb(42, 63, 95); fill-opacity: 1; white-space: pre;\">Sell</text><g class=\"layers\" style=\"opacity: 1;\"><g class=\"legendfill\"/><g class=\"legendlines\"/><g class=\"legendsymbols\"><g class=\"legendpoints\"><path class=\"scatterpts\" transform=\"translate(20,0)\" d=\"M-4.62,-2H4.62L0,4Z\" style=\"opacity: 1; stroke-width: 1px; fill: rgb(234, 67, 53); fill-opacity: 1; stroke: rgb(181, 31, 18); stroke-opacity: 1;\"/></g></g></g><rect class=\"legendtoggle\" x=\"0\" y=\"-9.5\" width=\"64.4375\" height=\"19\" style=\"fill: rgb(0, 0, 0); fill-opacity: 0;\"/></g><g class=\"traces\" transform=\"translate(384.328125,14.5)\" style=\"opacity: 1;\"><text class=\"legendtext\" text-anchor=\"start\" x=\"40\" y=\"4.680000000000001\" style=\"font-family: 'Open Sans', verdana, arial, sans-serif; font-size: 12px; fill: rgb(42, 63, 95); fill-opacity: 1; white-space: pre;\">Entry</text><g class=\"layers\" style=\"opacity: 1;\"><g class=\"legendfill\"/><g class=\"legendlines\"/><g class=\"legendsymbols\"><g class=\"legendpoints\"><path class=\"scatterpts\" transform=\"translate(20,0)\" d=\"M3.5,3.5H-3.5V-3.5H3.5Z\" style=\"opacity: 1; stroke-width: 1px; fill: rgb(66, 133, 244); fill-opacity: 1; stroke: rgb(11, 84, 205); stroke-opacity: 1;\"/></g></g></g><rect class=\"legendtoggle\" x=\"0\" y=\"-9.5\" width=\"74.640625\" height=\"19\" style=\"fill: rgb(0, 0, 0); fill-opacity: 0;\"/></g><g class=\"traces\" transform=\"translate(0,33.5)\" style=\"opacity: 1;\"><text class=\"legendtext\" text-anchor=\"start\" x=\"40\" y=\"4.680000000000001\" style=\"font-family: 'Open Sans', verdana, arial, sans-serif; font-size: 12px; fill: rgb(42, 63, 95); fill-opacity: 1; white-space: pre;\">Exit - Loss</text><g class=\"layers\" style=\"opacity: 1;\"><g class=\"legendfill\"/><g class=\"legendlines\"/><g class=\"legendsymbols\"><g class=\"legendpoints\"><path class=\"scatterpts\" transform=\"translate(20,0)\" d=\"M3.5,3.5H-3.5V-3.5H3.5Z\" style=\"opacity: 1; stroke-width: 1px; fill: rgb(234, 67, 53); fill-opacity: 1; stroke: rgb(181, 31, 18); stroke-opacity: 1;\"/></g></g></g><rect class=\"legendtoggle\" x=\"0\" y=\"-9.5\" width=\"105.578125\" height=\"19\" style=\"fill: rgb(0, 0, 0); fill-opacity: 0;\"/></g><g class=\"traces\" transform=\"translate(128.109375,33.5)\" style=\"opacity: 1;\"><text class=\"legendtext\" text-anchor=\"start\" x=\"40\" y=\"4.680000000000001\" style=\"font-family: 'Open Sans', verdana, arial, sans-serif; font-size: 12px; fill: rgb(42, 63, 95); fill-opacity: 1; white-space: pre;\">Active</text><g class=\"layers\" style=\"opacity: 1;\"><g class=\"legendfill\"/><g class=\"legendlines\"/><g class=\"legendsymbols\"><g class=\"legendpoints\"><path class=\"scatterpts\" transform=\"translate(20,0)\" d=\"M3.5,3.5H-3.5V-3.5H3.5Z\" style=\"opacity: 1; stroke-width: 1px; fill: rgb(255, 170, 0); fill-opacity: 1; stroke: rgb(178, 118, 0); stroke-opacity: 1;\"/></g></g></g><rect class=\"legendtoggle\" x=\"0\" y=\"-9.5\" width=\"79.234375\" height=\"19\" style=\"fill: rgb(0, 0, 0); fill-opacity: 0;\"/></g><g class=\"traces\" transform=\"translate(256.21875,33.5)\" style=\"opacity: 1;\"><text class=\"legendtext\" text-anchor=\"start\" x=\"40\" y=\"4.680000000000001\" style=\"font-family: 'Open Sans', verdana, arial, sans-serif; font-size: 12px; fill: rgb(42, 63, 95); fill-opacity: 1; white-space: pre;\">Closed - Loss</text><g class=\"layers\" style=\"opacity: 1;\"><g class=\"legendfill\"/><g class=\"legendlines\"/><g class=\"legendsymbols\"><g class=\"legendpoints\"><path class=\"scatterpts\" transform=\"translate(20,0)\" d=\"M7,0A7,7 0 1,1 0,-7A7,7 0 0,1 7,0Z\" style=\"opacity: 0.9; stroke-width: 1px; fill: rgb(234, 67, 53); fill-opacity: 1; stroke: rgb(181, 31, 18); stroke-opacity: 1;\"/></g></g></g><rect class=\"legendtoggle\" x=\"0\" y=\"-9.5\" width=\"122.6875\" height=\"19\" style=\"fill: rgb(0, 0, 0); fill-opacity: 0;\"/></g><g class=\"traces\" transform=\"translate(384.328125,33.5)\" style=\"opacity: 1;\"><text class=\"legendtext\" text-anchor=\"start\" x=\"40\" y=\"4.680000000000001\" style=\"font-family: 'Open Sans', verdana, arial, sans-serif; font-size: 12px; fill: rgb(42, 63, 95); fill-opacity: 1; white-space: pre;\">Open</text><g class=\"layers\" style=\"opacity: 1;\"><g class=\"legendfill\"/><g class=\"legendlines\"/><g class=\"legendsymbols\"><g class=\"legendpoints\"><path class=\"scatterpts\" transform=\"translate(20,0)\" d=\"M3.5,0A3.5,3.5 0 1,1 0,-3.5A3.5,3.5 0 0,1 3.5,0Z\" style=\"opacity: 0.75; stroke-width: 1px; fill: rgb(255, 170, 0); fill-opacity: 1; stroke: rgb(178, 118, 0); stroke-opacity: 1;\"/></g></g></g><rect class=\"legendtoggle\" x=\"0\" y=\"-9.5\" width=\"74.171875\" height=\"19\" style=\"fill: rgb(0, 0, 0); fill-opacity: 0;\"/></g><g class=\"traces\" transform=\"translate(0,52.5)\" style=\"opacity: 1;\"><text class=\"legendtext\" text-anchor=\"start\" x=\"40\" y=\"4.680000000000001\" style=\"font-family: 'Open Sans', verdana, arial, sans-serif; font-size: 12px; fill: rgb(42, 63, 95); fill-opacity: 1; white-space: pre;\">Benchmark</text><g class=\"layers\" style=\"opacity: 1;\"><g class=\"legendfill\"/><g class=\"legendlines\"><path class=\"js-line\" d=\"M5,0h30\" style=\"fill: none; stroke: rgb(127, 127, 127); stroke-opacity: 1; stroke-width: 2px;\"/></g><g class=\"legendsymbols\"><g class=\"legendpoints\"><path class=\"scatterpts\" transform=\"translate(20,0)\" d=\"M3,0A3,3 0 1,1 0,-3A3,3 0 0,1 3,0Z\" style=\"opacity: 1; stroke-width: 0px; fill: rgb(127, 127, 127); fill-opacity: 1;\"/></g></g></g><rect class=\"legendtoggle\" x=\"0\" y=\"-9.5\" width=\"110.421875\" height=\"19\" style=\"fill: rgb(0, 0, 0); fill-opacity: 0;\"/></g><g class=\"traces\" transform=\"translate(128.109375,52.5)\" style=\"opacity: 1;\"><text class=\"legendtext\" text-anchor=\"start\" x=\"40\" y=\"4.680000000000001\" style=\"font-family: 'Open Sans', verdana, arial, sans-serif; font-size: 12px; fill: rgb(42, 63, 95); fill-opacity: 1; white-space: pre;\">Value</text><g class=\"layers\" style=\"opacity: 1;\"><g class=\"legendfill\"/><g class=\"legendlines\"><path class=\"js-line\" d=\"M5,0h30\" style=\"fill: none; stroke: rgb(148, 103, 189); stroke-opacity: 1; stroke-width: 2px;\"/></g><g class=\"legendsymbols\"><g class=\"legendpoints\"><path class=\"scatterpts\" transform=\"translate(20,0)\" d=\"M3,0A3,3 0 1,1 0,-3A3,3 0 0,1 3,0Z\" style=\"opacity: 1; stroke-width: 0px; fill: rgb(148, 103, 189); fill-opacity: 1;\"/></g></g></g><rect class=\"legendtoggle\" x=\"0\" y=\"-9.5\" width=\"75.953125\" height=\"19\" style=\"fill: rgb(0, 0, 0); fill-opacity: 0;\"/></g><g class=\"traces\" transform=\"translate(256.21875,52.5)\" style=\"opacity: 1;\"><text class=\"legendtext\" text-anchor=\"start\" x=\"40\" y=\"4.680000000000001\" style=\"font-family: 'Open Sans', verdana, arial, sans-serif; font-size: 12px; fill: rgb(42, 63, 95); fill-opacity: 1; white-space: pre;\">Shares</text><g class=\"layers\" style=\"opacity: 1;\"><g class=\"legendfill\"/><g class=\"legendlines\"><path class=\"js-line\" d=\"M5,0h30\" style=\"fill: none; stroke: rgb(140, 86, 75); stroke-opacity: 1; stroke-width: 2px;\"/></g><g class=\"legendsymbols\"><g class=\"legendpoints\"><path class=\"scatterpts\" transform=\"translate(20,0)\" d=\"M3,0A3,3 0 1,1 0,-3A3,3 0 0,1 3,0Z\" style=\"opacity: 1; stroke-width: 0px; fill: rgb(140, 86, 75); fill-opacity: 1;\"/></g></g></g><rect class=\"legendtoggle\" x=\"0\" y=\"-9.5\" width=\"84.03125\" height=\"19\" style=\"fill: rgb(0, 0, 0); fill-opacity: 0;\"/></g><g class=\"traces\" transform=\"translate(384.328125,52.5)\" style=\"opacity: 1;\"><text class=\"legendtext\" text-anchor=\"start\" x=\"40\" y=\"4.680000000000001\" style=\"font-family: 'Open Sans', verdana, arial, sans-serif; font-size: 12px; fill: rgb(42, 63, 95); fill-opacity: 1; white-space: pre;\">Cash</text><g class=\"layers\" style=\"opacity: 1;\"><g class=\"legendfill\"/><g class=\"legendlines\"><path class=\"js-line\" d=\"M5,0h30\" style=\"fill: none; stroke: rgb(44, 160, 44); stroke-opacity: 1; stroke-width: 2px;\"/></g><g class=\"legendsymbols\"><g class=\"legendpoints\"><path class=\"scatterpts\" transform=\"translate(20,0)\" d=\"M3,0A3,3 0 1,1 0,-3A3,3 0 0,1 3,0Z\" style=\"opacity: 1; stroke-width: 0px; fill: rgb(44, 160, 44); fill-opacity: 1;\"/></g></g></g><rect class=\"legendtoggle\" x=\"0\" y=\"-9.5\" width=\"71.9375\" height=\"19\" style=\"fill: rgb(0, 0, 0); fill-opacity: 0;\"/></g><g class=\"traces\" transform=\"translate(0,71.5)\" style=\"opacity: 1;\"><text class=\"legendtext\" text-anchor=\"start\" x=\"40\" y=\"4.680000000000001\" style=\"font-family: 'Open Sans', verdana, arial, sans-serif; font-size: 12px; fill: rgb(42, 63, 95); fill-opacity: 1; white-space: pre;\">Holding Value</text><g class=\"layers\" style=\"opacity: 1;\"><g class=\"legendfill\"/><g class=\"legendlines\"><path class=\"js-line\" d=\"M5,0h30\" style=\"fill: none; stroke: rgb(23, 190, 207); stroke-opacity: 1; stroke-width: 2px;\"/></g><g class=\"legendsymbols\"><g class=\"legendpoints\"><path class=\"scatterpts\" transform=\"translate(20,0)\" d=\"M3,0A3,3 0 1,1 0,-3A3,3 0 0,1 3,0Z\" style=\"opacity: 1; stroke-width: 0px; fill: rgb(23, 190, 207); fill-opacity: 1;\"/></g></g></g><rect class=\"legendtoggle\" x=\"0\" y=\"-9.5\" width=\"125.609375\" height=\"19\" style=\"fill: rgb(0, 0, 0); fill-opacity: 0;\"/></g><g class=\"traces\" transform=\"translate(128.109375,71.5)\" style=\"opacity: 1;\"><text class=\"legendtext\" text-anchor=\"start\" x=\"40\" y=\"4.680000000000001\" style=\"font-family: 'Open Sans', verdana, arial, sans-serif; font-size: 12px; fill: rgb(42, 63, 95); fill-opacity: 1; white-space: pre;\">Peak</text><g class=\"layers\" style=\"opacity: 1;\"><g class=\"legendfill\"/><g class=\"legendlines\"/><g class=\"legendsymbols\"><g class=\"legendpoints\"><path class=\"scatterpts\" transform=\"translate(20,0)\" d=\"M4.55,0L0,4.55L-4.55,0L0,-4.55Z\" style=\"opacity: 1; stroke-width: 1px; fill: rgb(66, 133, 244); fill-opacity: 1; stroke: rgb(11, 84, 205); stroke-opacity: 1;\"/></g></g></g><rect class=\"legendtoggle\" x=\"0\" y=\"-9.5\" width=\"71.203125\" height=\"19\" style=\"fill: rgb(0, 0, 0); fill-opacity: 0;\"/></g><g class=\"traces\" transform=\"translate(256.21875,71.5)\" style=\"opacity: 1;\"><text class=\"legendtext\" text-anchor=\"start\" x=\"40\" y=\"4.680000000000001\" style=\"font-family: 'Open Sans', verdana, arial, sans-serif; font-size: 12px; fill: rgb(42, 63, 95); fill-opacity: 1; white-space: pre;\">Active</text><g class=\"layers\" style=\"opacity: 1;\"><g class=\"legendfill\"/><g class=\"legendlines\"/><g class=\"legendsymbols\"><g class=\"legendpoints\"><path class=\"scatterpts\" transform=\"translate(20,0)\" d=\"M4.55,0L0,4.55L-4.55,0L0,-4.55Z\" style=\"opacity: 1; stroke-width: 1px; fill: rgb(255, 170, 0); fill-opacity: 1; stroke: rgb(178, 118, 0); stroke-opacity: 1;\"/></g></g></g><rect class=\"legendtoggle\" x=\"0\" y=\"-9.5\" width=\"79.234375\" height=\"19\" style=\"fill: rgb(0, 0, 0); fill-opacity: 0;\"/></g><g class=\"traces\" transform=\"translate(384.328125,71.5)\" style=\"opacity: 1;\"><text class=\"legendtext\" text-anchor=\"start\" x=\"40\" y=\"4.680000000000001\" style=\"font-family: 'Open Sans', verdana, arial, sans-serif; font-size: 12px; fill: rgb(42, 63, 95); fill-opacity: 1; white-space: pre;\">Drawdown</text><g class=\"layers\"><g class=\"legendfill\"><path class=\"js-fill\" d=\"M5,0h30v6h-30z\" style=\"stroke-width: 0; fill: rgb(220, 57, 18); fill-opacity: 0.3;\"/></g><g class=\"legendlines\"><path class=\"js-line\" d=\"M5,0h30\" style=\"fill: none; stroke: rgb(220, 57, 18); stroke-opacity: 1; stroke-width: 2px;\"/></g><g class=\"legendsymbols\"><g class=\"legendpoints\"><path class=\"scatterpts\" transform=\"translate(20,0)\" d=\"M3,0A3,3 0 1,1 0,-3A3,3 0 0,1 3,0Z\" style=\"opacity: 1; stroke-width: 0px; fill: rgb(220, 57, 18); fill-opacity: 1;\"/></g></g></g><rect class=\"legendtoggle\" x=\"0\" y=\"-9.5\" width=\"106.078125\" height=\"19\" style=\"fill: rgb(0, 0, 0); fill-opacity: 0;\"/></g><g class=\"traces\" transform=\"translate(0,90.5)\" style=\"opacity: 1;\"><text class=\"legendtext\" text-anchor=\"start\" x=\"40\" y=\"4.680000000000001\" style=\"font-family: 'Open Sans', verdana, arial, sans-serif; font-size: 12px; fill: rgb(42, 63, 95); fill-opacity: 1; white-space: pre;\">Exposure</text><g class=\"layers\" style=\"opacity: 1;\"><g class=\"legendfill\"/><g class=\"legendlines\"><path class=\"js-line\" d=\"M5,0h30\" style=\"fill: none; stroke: rgb(227, 119, 194); stroke-opacity: 1; stroke-width: 2px;\"/></g><g class=\"legendsymbols\"><g class=\"legendpoints\"><path class=\"scatterpts\" transform=\"translate(20,0)\" d=\"M3,0A3,3 0 1,1 0,-3A3,3 0 0,1 3,0Z\" style=\"opacity: 1; stroke-width: 0px; fill: rgb(227, 119, 194); fill-opacity: 1;\"/></g></g></g><rect class=\"legendtoggle\" x=\"0\" y=\"-9.5\" width=\"98.078125\" height=\"19\" style=\"fill: rgb(0, 0, 0); fill-opacity: 0;\"/></g></g></g><rect class=\"scrollbar\" rx=\"20\" ry=\"3\" width=\"0\" height=\"0\" style=\"fill: rgb(128, 139, 164); fill-opacity: 1;\" x=\"0\" y=\"0\"/></g><g class=\"g-gtitle\"/><g class=\"g-xtitle\"/><g class=\"g-x2title\"/><g class=\"g-x3title\"/><g class=\"g-x4title\"/><g class=\"g-x5title\"/><g class=\"g-x6title\"/><g class=\"g-x7title\"/><g class=\"g-x8title\"/><g class=\"g-x9title\"/><g class=\"g-x10title\"/><g class=\"g-x11title\"/><g class=\"g-x12title\"/><g class=\"g-x13title\"/><g class=\"g-x14title\"/><g class=\"g-x15title\"/><g class=\"g-x16title\"/><g class=\"g-x17title\"/><g class=\"g-x18title\"><text class=\"x18title\" x=\"407.5\" y=\"5387.909375\" text-anchor=\"middle\" style=\"font-family: 'Open Sans', verdana, arial, sans-serif; font-size: 14px; fill: rgb(42, 63, 95); opacity: 1; font-weight: normal; white-space: pre;\">Date</text></g><g class=\"g-ytitle\"><text class=\"ytitle\" transform=\"rotate(-90,49.575,271.91522633744785)\" x=\"49.575\" y=\"271.91522633744785\" text-anchor=\"middle\" style=\"font-family: 'Open Sans', verdana, arial, sans-serif; font-size: 14px; fill: rgb(42, 63, 95); opacity: 1; font-weight: normal; white-space: pre;\">Price</text></g><g class=\"g-y2title\"><text class=\"y2title\" transform=\"rotate(-90,49.575,562.1604938271591)\" x=\"49.575\" y=\"562.1604938271591\" text-anchor=\"middle\" style=\"font-family: 'Open Sans', verdana, arial, sans-serif; font-size: 14px; fill: rgb(42, 63, 95); opacity: 1; font-weight: normal; white-space: pre;\">Price</text></g><g class=\"g-y3title\"><text class=\"y3title\" transform=\"rotate(-90,49.575,852.4057613168713)\" x=\"49.575\" y=\"852.4057613168713\" text-anchor=\"middle\" style=\"font-family: 'Open Sans', verdana, arial, sans-serif; font-size: 14px; fill: rgb(42, 63, 95); opacity: 1; font-weight: normal; white-space: pre;\">Price</text></g><g class=\"g-y4title\"><text class=\"y4title\" transform=\"rotate(-90,32.121875,1142.6510288065836)\" x=\"32.121875\" y=\"1142.6510288065836\" text-anchor=\"middle\" style=\"font-family: 'Open Sans', verdana, arial, sans-serif; font-size: 14px; fill: rgb(42, 63, 95); opacity: 1; font-weight: normal; white-space: pre;\">P&amp;L</text></g><g class=\"g-y5title\"><text class=\"y5title\" transform=\"rotate(-90,32.121875,1432.896296296296)\" x=\"32.121875\" y=\"1432.896296296296\" text-anchor=\"middle\" style=\"font-family: 'Open Sans', verdana, arial, sans-serif; font-size: 14px; fill: rgb(42, 63, 95); opacity: 1; font-weight: normal; white-space: pre;\">P&amp;L</text></g><g class=\"g-y6title\" transform=\"translate(2.42578125,0)\"><text class=\"y6title\" transform=\"rotate(-90,11.575000000000003,1723.1415637860082)\" x=\"11.575000000000003\" y=\"1723.1415637860082\" text-anchor=\"middle\" style=\"font-family: 'Open Sans', verdana, arial, sans-serif; font-size: 14px; fill: rgb(42, 63, 95); opacity: 1; font-weight: normal; white-space: pre;\">Return</text></g><g class=\"g-y7title\" transform=\"translate(2.4365234375,0)\"><text class=\"y7title\" transform=\"rotate(-90,11.575000000000003,2013.3868312757204)\" x=\"11.575000000000003\" y=\"2013.3868312757204\" text-anchor=\"middle\" style=\"font-family: 'Open Sans', verdana, arial, sans-serif; font-size: 14px; fill: rgb(42, 63, 95); opacity: 1; font-weight: normal; white-space: pre;\">Return</text></g><g class=\"g-y8title\"><text class=\"y8title\" transform=\"rotate(-90,49.575,2303.632098765432)\" x=\"49.575\" y=\"2303.632098765432\" text-anchor=\"middle\" style=\"font-family: 'Open Sans', verdana, arial, sans-serif; font-size: 14px; fill: rgb(42, 63, 95); opacity: 1; font-weight: normal; white-space: pre;\">Cumulative returns</text></g><g class=\"g-y9title\"><text class=\"y9title\" transform=\"rotate(-90,49.575,2593.877366255144)\" x=\"49.575\" y=\"2593.877366255144\" text-anchor=\"middle\" style=\"font-family: 'Open Sans', verdana, arial, sans-serif; font-size: 14px; fill: rgb(42, 63, 95); opacity: 1; font-weight: normal; white-space: pre;\">Shares</text></g><g class=\"g-y10title\"><text class=\"y10title\" transform=\"rotate(-90,51.746875,2884.122633744856)\" x=\"51.746875\" y=\"2884.122633744856\" text-anchor=\"middle\" style=\"font-family: 'Open Sans', verdana, arial, sans-serif; font-size: 14px; fill: rgb(42, 63, 95); opacity: 1; font-weight: normal; white-space: pre;\">Cash</text></g><g class=\"g-y11title\"><text class=\"y11title\" transform=\"rotate(-90,49.575,3174.367901234568)\" x=\"49.575\" y=\"3174.367901234568\" text-anchor=\"middle\" style=\"font-family: 'Open Sans', verdana, arial, sans-serif; font-size: 14px; fill: rgb(42, 63, 95); opacity: 1; font-weight: normal; white-space: pre;\">Shares</text></g><g class=\"g-y12title\"><text class=\"y12title\" transform=\"rotate(-90,46.309375,3464.6131687242796)\" x=\"46.309375\" y=\"3464.6131687242796\" text-anchor=\"middle\" style=\"font-family: 'Open Sans', verdana, arial, sans-serif; font-size: 14px; fill: rgb(42, 63, 95); opacity: 1; font-weight: normal; white-space: pre;\">Cash</text></g><g class=\"g-y13title\"><text class=\"y13title\" transform=\"rotate(-90,61.559375,3754.858436213992)\" x=\"61.559375\" y=\"3754.858436213992\" text-anchor=\"middle\" style=\"font-family: 'Open Sans', verdana, arial, sans-serif; font-size: 14px; fill: rgb(42, 63, 95); opacity: 1; font-weight: normal; white-space: pre;\">Holding value</text></g><g class=\"g-y14title\"><text class=\"y14title\" transform=\"rotate(-90,34.309375,4045.103703703704)\" x=\"34.309375\" y=\"4045.103703703704\" text-anchor=\"middle\" style=\"font-family: 'Open Sans', verdana, arial, sans-serif; font-size: 14px; fill: rgb(42, 63, 95); opacity: 1; font-weight: normal; white-space: pre;\">Value</text></g><g class=\"g-y15title\"><text class=\"y15title\" transform=\"rotate(-90,34.309375,4335.348971193416)\" x=\"34.309375\" y=\"4335.348971193416\" text-anchor=\"middle\" style=\"font-family: 'Open Sans', verdana, arial, sans-serif; font-size: 14px; fill: rgb(42, 63, 95); opacity: 1; font-weight: normal; white-space: pre;\">Value</text></g><g class=\"g-y16title\"><text class=\"y16title\" transform=\"rotate(-90,38.825,4625.594238683127)\" x=\"38.825\" y=\"4625.594238683127\" text-anchor=\"middle\" style=\"font-family: 'Open Sans', verdana, arial, sans-serif; font-size: 14px; fill: rgb(42, 63, 95); opacity: 1; font-weight: normal; white-space: pre;\">Drawdown</text></g><g class=\"g-y17title\"><text class=\"y17title\" transform=\"rotate(-90,49.575,4915.839506172839)\" x=\"49.575\" y=\"4915.839506172839\" text-anchor=\"middle\" style=\"font-family: 'Open Sans', verdana, arial, sans-serif; font-size: 14px; fill: rgb(42, 63, 95); opacity: 1; font-weight: normal; white-space: pre;\">Gross exposure</text></g><g class=\"g-y18title\"><text class=\"y18title\" transform=\"rotate(-90,41.934375,5206.084773662552)\" x=\"41.934375\" y=\"5206.084773662552\" text-anchor=\"middle\" style=\"font-family: 'Open Sans', verdana, arial, sans-serif; font-size: 14px; fill: rgb(42, 63, 95); opacity: 1; font-weight: normal; white-space: pre;\">Net exposure</text></g><g class=\"annotation\" data-index=\"0\" style=\"opacity: 1;\"><g class=\"annotation-text-g\" transform=\"rotate(0,407.5,133.99999999999883)\"><g class=\"cursor-pointer\" transform=\"translate(379,122)\"><rect class=\"bg\" x=\"0.5\" y=\"0.5\" width=\"57\" height=\"23\" style=\"stroke-width: 1px; stroke: rgb(0, 0, 0); stroke-opacity: 0; fill: rgb(0, 0, 0); fill-opacity: 0;\"/><text class=\"annotation-text\" text-anchor=\"middle\" x=\"29.046875\" y=\"18\" style=\"font-family: 'Open Sans', verdana, arial, sans-serif; font-size: 16px; fill: rgb(42, 63, 95); fill-opacity: 1; white-space: pre;\">Orders</text></g></g></g><g class=\"annotation\" data-index=\"1\" style=\"opacity: 1;\"><g class=\"annotation-text-g\" transform=\"rotate(0,407.5,424.2452674897105)\"><g class=\"cursor-pointer\" transform=\"translate(379,412)\"><rect class=\"bg\" x=\"0.5\" y=\"0.5\" width=\"57\" height=\"23\" style=\"stroke-width: 1px; stroke: rgb(0, 0, 0); stroke-opacity: 0; fill: rgb(0, 0, 0); fill-opacity: 0;\"/><text class=\"annotation-text\" text-anchor=\"middle\" x=\"29.078125\" y=\"18\" style=\"font-family: 'Open Sans', verdana, arial, sans-serif; font-size: 16px; fill: rgb(42, 63, 95); fill-opacity: 1; white-space: pre;\">Trades</text></g></g></g><g class=\"annotation\" data-index=\"2\" style=\"opacity: 1;\"><g class=\"annotation-text-g\" transform=\"rotate(0,407.5,714.4905349794227)\"><g class=\"cursor-pointer\" transform=\"translate(370,702)\"><rect class=\"bg\" x=\"0.5\" y=\"0.5\" width=\"74\" height=\"23\" style=\"stroke-width: 1px; stroke: rgb(0, 0, 0); stroke-opacity: 0; fill: rgb(0, 0, 0); fill-opacity: 0;\"/><text class=\"annotation-text\" text-anchor=\"middle\" x=\"37.484375\" y=\"18\" style=\"font-family: 'Open Sans', verdana, arial, sans-serif; font-size: 16px; fill: rgb(42, 63, 95); fill-opacity: 1; white-space: pre;\">Positions</text></g></g></g><g class=\"annotation\" data-index=\"3\" style=\"opacity: 1;\"><g class=\"annotation-text-g\" transform=\"rotate(0,407.5,1004.7358024691349)\"><g class=\"cursor-pointer\" transform=\"translate(365,993)\"><rect class=\"bg\" x=\"0.5\" y=\"0.5\" width=\"85\" height=\"23\" style=\"stroke-width: 1px; stroke: rgb(0, 0, 0); stroke-opacity: 0; fill: rgb(0, 0, 0); fill-opacity: 0;\"/><text class=\"annotation-text\" text-anchor=\"middle\" x=\"42.8125\" y=\"18\" style=\"font-family: 'Open Sans', verdana, arial, sans-serif; font-size: 16px; fill: rgb(42, 63, 95); fill-opacity: 1; white-space: pre;\">Trade P&amp;L</text></g></g></g><g class=\"annotation\" data-index=\"4\" style=\"opacity: 1;\"><g class=\"annotation-text-g\" transform=\"rotate(0,407.5,1294.9810699588472)\"><g class=\"cursor-pointer\" transform=\"translate(357,1283)\"><rect class=\"bg\" x=\"0.5\" y=\"0.5\" width=\"101\" height=\"23\" style=\"stroke-width: 1px; stroke: rgb(0, 0, 0); stroke-opacity: 0; fill: rgb(0, 0, 0); fill-opacity: 0;\"/><text class=\"annotation-text\" text-anchor=\"middle\" x=\"51.21875\" y=\"18\" style=\"font-family: 'Open Sans', verdana, arial, sans-serif; font-size: 16px; fill: rgb(42, 63, 95); fill-opacity: 1; white-space: pre;\">Position P&amp;L</text></g></g></g><g class=\"annotation\" data-index=\"5\" style=\"opacity: 1;\"><g class=\"annotation-text-g\" transform=\"rotate(0,407.5,1585.2263374485594)\"><g class=\"cursor-pointer\" transform=\"translate(349,1573)\"><rect class=\"bg\" x=\"0.5\" y=\"0.5\" width=\"117\" height=\"23\" style=\"stroke-width: 1px; stroke: rgb(0, 0, 0); stroke-opacity: 0; fill: rgb(0, 0, 0); fill-opacity: 0;\"/><text class=\"annotation-text\" text-anchor=\"middle\" x=\"58.90625\" y=\"18\" style=\"font-family: 'Open Sans', verdana, arial, sans-serif; font-size: 16px; fill: rgb(42, 63, 95); fill-opacity: 1; white-space: pre;\">Trade Returns</text></g></g></g><g class=\"annotation\" data-index=\"6\" style=\"opacity: 1;\"><g class=\"annotation-text-g\" transform=\"rotate(0,407.5,1875.4716049382716)\"><g class=\"cursor-pointer\" transform=\"translate(340,1863)\"><rect class=\"bg\" x=\"0.5\" y=\"0.5\" width=\"134\" height=\"23\" style=\"stroke-width: 1px; stroke: rgb(0, 0, 0); stroke-opacity: 0; fill: rgb(0, 0, 0); fill-opacity: 0;\"/><text class=\"annotation-text\" text-anchor=\"middle\" x=\"67.3125\" y=\"18\" style=\"font-family: 'Open Sans', verdana, arial, sans-serif; font-size: 16px; fill: rgb(42, 63, 95); fill-opacity: 1; white-space: pre;\">Position Returns</text></g></g></g><g class=\"annotation\" data-index=\"7\" style=\"opacity: 1;\"><g class=\"annotation-text-g\" transform=\"rotate(0,407.5,2165.7168724279836)\"><g class=\"cursor-pointer\" transform=\"translate(326,2154)\"><rect class=\"bg\" x=\"0.5\" y=\"0.5\" width=\"162\" height=\"23\" style=\"stroke-width: 1px; stroke: rgb(0, 0, 0); stroke-opacity: 0; fill: rgb(0, 0, 0); fill-opacity: 0;\"/><text class=\"annotation-text\" text-anchor=\"middle\" x=\"81.34375\" y=\"18\" style=\"font-family: 'Open Sans', verdana, arial, sans-serif; font-size: 16px; fill: rgb(42, 63, 95); fill-opacity: 1; white-space: pre;\">Cumulative Returns</text></g></g></g><g class=\"annotation\" data-index=\"8\" style=\"opacity: 1;\"><g class=\"annotation-text-g\" transform=\"rotate(0,407.5,2455.9621399176954)\"><g class=\"cursor-pointer\" transform=\"translate(361,2444)\"><rect class=\"bg\" x=\"0.5\" y=\"0.5\" width=\"92\" height=\"23\" style=\"stroke-width: 1px; stroke: rgb(0, 0, 0); stroke-opacity: 0; fill: rgb(0, 0, 0); fill-opacity: 0;\"/><text class=\"annotation-text\" text-anchor=\"middle\" x=\"46.53125\" y=\"18\" style=\"font-family: 'Open Sans', verdana, arial, sans-serif; font-size: 16px; fill: rgb(42, 63, 95); fill-opacity: 1; white-space: pre;\">Share Flow</text></g></g></g><g class=\"annotation\" data-index=\"9\" style=\"opacity: 1;\"><g class=\"annotation-text-g\" transform=\"rotate(0,407.5,2746.2074074074076)\"><g class=\"cursor-pointer\" transform=\"translate(365,2734)\"><rect class=\"bg\" x=\"0.5\" y=\"0.5\" width=\"84\" height=\"23\" style=\"stroke-width: 1px; stroke: rgb(0, 0, 0); stroke-opacity: 0; fill: rgb(0, 0, 0); fill-opacity: 0;\"/><text class=\"annotation-text\" text-anchor=\"middle\" x=\"42.640625\" y=\"18\" style=\"font-family: 'Open Sans', verdana, arial, sans-serif; font-size: 16px; fill: rgb(42, 63, 95); fill-opacity: 1; white-space: pre;\">Cash Flow</text></g></g></g><g class=\"annotation\" data-index=\"10\" style=\"opacity: 1;\"><g class=\"annotation-text-g\" transform=\"rotate(0,407.5,3036.4526748971193)\"><g class=\"cursor-pointer\" transform=\"translate(378,3024)\"><rect class=\"bg\" x=\"0.5\" y=\"0.5\" width=\"58\" height=\"23\" style=\"stroke-width: 1px; stroke: rgb(0, 0, 0); stroke-opacity: 0; fill: rgb(0, 0, 0); fill-opacity: 0;\"/><text class=\"annotation-text\" text-anchor=\"middle\" x=\"29.6875\" y=\"18\" style=\"font-family: 'Open Sans', verdana, arial, sans-serif; font-size: 16px; fill: rgb(42, 63, 95); fill-opacity: 1; white-space: pre;\">Shares</text></g></g></g><g class=\"annotation\" data-index=\"11\" style=\"opacity: 1;\"><g class=\"annotation-text-g\" transform=\"rotate(0,407.5,3326.697942386831)\"><g class=\"cursor-pointer\" transform=\"translate(386,3315)\"><rect class=\"bg\" x=\"0.5\" y=\"0.5\" width=\"42\" height=\"23\" style=\"stroke-width: 1px; stroke: rgb(0, 0, 0); stroke-opacity: 0; fill: rgb(0, 0, 0); fill-opacity: 0;\"/><text class=\"annotation-text\" text-anchor=\"middle\" x=\"21.625\" y=\"18\" style=\"font-family: 'Open Sans', verdana, arial, sans-serif; font-size: 16px; fill: rgb(42, 63, 95); fill-opacity: 1; white-space: pre;\">Cash</text></g></g></g><g class=\"annotation\" data-index=\"12\" style=\"opacity: 1;\"><g class=\"annotation-text-g\" transform=\"rotate(0,407.5,3616.9432098765433)\"><g class=\"cursor-pointer\" transform=\"translate(350,3605)\"><rect class=\"bg\" x=\"0.5\" y=\"0.5\" width=\"114\" height=\"23\" style=\"stroke-width: 1px; stroke: rgb(0, 0, 0); stroke-opacity: 0; fill: rgb(0, 0, 0); fill-opacity: 0;\"/><text class=\"annotation-text\" text-anchor=\"middle\" x=\"57.40625\" y=\"18\" style=\"font-family: 'Open Sans', verdana, arial, sans-serif; font-size: 16px; fill: rgb(42, 63, 95); fill-opacity: 1; white-space: pre;\">Holding Value</text></g></g></g><g class=\"annotation\" data-index=\"13\" style=\"opacity: 1;\"><g class=\"annotation-text-g\" transform=\"rotate(0,407.5,3907.1884773662555)\"><g class=\"cursor-pointer\" transform=\"translate(383,3895)\"><rect class=\"bg\" x=\"0.5\" y=\"0.5\" width=\"48\" height=\"23\" style=\"stroke-width: 1px; stroke: rgb(0, 0, 0); stroke-opacity: 0; fill: rgb(0, 0, 0); fill-opacity: 0;\"/><text class=\"annotation-text\" text-anchor=\"middle\" x=\"24.296875\" y=\"18\" style=\"font-family: 'Open Sans', verdana, arial, sans-serif; font-size: 16px; fill: rgb(42, 63, 95); fill-opacity: 1; white-space: pre;\">Value</text></g></g></g><g class=\"annotation\" data-index=\"14\" style=\"opacity: 1;\"><g class=\"annotation-text-g\" transform=\"rotate(0,407.5,4197.433744855967)\"><g class=\"cursor-pointer\" transform=\"translate(359,4185)\"><rect class=\"bg\" x=\"0.5\" y=\"0.5\" width=\"96\" height=\"23\" style=\"stroke-width: 1px; stroke: rgb(0, 0, 0); stroke-opacity: 0; fill: rgb(0, 0, 0); fill-opacity: 0;\"/><text class=\"annotation-text\" text-anchor=\"middle\" x=\"48.546875\" y=\"18\" style=\"font-family: 'Open Sans', verdana, arial, sans-serif; font-size: 16px; fill: rgb(42, 63, 95); fill-opacity: 1; white-space: pre;\">Drawdowns</text></g></g></g><g class=\"annotation\" data-index=\"15\" style=\"opacity: 1;\"><g class=\"annotation-text-g\" transform=\"rotate(0,407.5,4487.6790123456785)\"><g class=\"cursor-pointer\" transform=\"translate(359,4476)\"><rect class=\"bg\" x=\"0.5\" y=\"0.5\" width=\"97\" height=\"23\" style=\"stroke-width: 1px; stroke: rgb(0, 0, 0); stroke-opacity: 0; fill: rgb(0, 0, 0); fill-opacity: 0;\"/><text class=\"annotation-text\" text-anchor=\"middle\" x=\"48.765625\" y=\"18\" style=\"font-family: 'Open Sans', verdana, arial, sans-serif; font-size: 16px; fill: rgb(42, 63, 95); fill-opacity: 1; white-space: pre;\">Underwater</text></g></g></g><g class=\"annotation\" data-index=\"16\" style=\"opacity: 1;\"><g class=\"annotation-text-g\" transform=\"rotate(0,407.5,4777.924279835391)\"><g class=\"cursor-pointer\" transform=\"translate(343,4766)\"><rect class=\"bg\" x=\"0.5\" y=\"0.5\" width=\"128\" height=\"23\" style=\"stroke-width: 1px; stroke: rgb(0, 0, 0); stroke-opacity: 0; fill: rgb(0, 0, 0); fill-opacity: 0;\"/><text class=\"annotation-text\" text-anchor=\"middle\" x=\"64.671875\" y=\"18\" style=\"font-family: 'Open Sans', verdana, arial, sans-serif; font-size: 16px; fill: rgb(42, 63, 95); fill-opacity: 1; white-space: pre;\">Gross Exposure</text></g></g></g><g class=\"annotation\" data-index=\"17\" style=\"opacity: 1;\"><g class=\"annotation-text-g\" transform=\"rotate(0,407.5,5068.169547325103)\"><g class=\"cursor-pointer\" transform=\"translate(352,5056)\"><rect class=\"bg\" x=\"0.5\" y=\"0.5\" width=\"111\" height=\"23\" style=\"stroke-width: 1px; stroke: rgb(0, 0, 0); stroke-opacity: 0; fill: rgb(0, 0, 0); fill-opacity: 0;\"/><text class=\"annotation-text\" text-anchor=\"middle\" x=\"55.765625\" y=\"18\" style=\"font-family: 'Open Sans', verdana, arial, sans-serif; font-size: 16px; fill: rgb(42, 63, 95); fill-opacity: 1; white-space: pre;\">Net Exposure</text></g></g></g></g></svg>"
      ]
     },
     "metadata": {},
     "output_type": "display_data"
    }
   ],
   "source": [
    "portfolio['a'].plot(subplots='all').show_svg()"
   ]
  },
  {
   "cell_type": "code",
   "execution_count": 13,
   "metadata": {},
   "outputs": [
    {
     "data": {
      "image/svg+xml": [
       "<svg class=\"main-svg\" xmlns=\"http://www.w3.org/2000/svg\" xmlns:xlink=\"http://www.w3.org/1999/xlink\" width=\"750\" height=\"2700\" style=\"\" viewBox=\"0 0 750 2700\"><rect x=\"0\" y=\"0\" width=\"750\" height=\"2700\" style=\"fill: rgb(255, 255, 255); fill-opacity: 1;\"/><defs id=\"defs-95d364\"><g class=\"clips\"><clipPath id=\"clip95d364xyplot\" class=\"plotclip\"><rect width=\"637\" height=\"249.16543209876525\"/></clipPath><clipPath id=\"clip95d364x2y2plot\" class=\"plotclip\"><rect width=\"637\" height=\"249.16543209876554\"/></clipPath><clipPath id=\"clip95d364x3y3plot\" class=\"plotclip\"><rect width=\"637\" height=\"249.16543209876554\"/></clipPath><clipPath id=\"clip95d364x4y4plot\" class=\"plotclip\"><rect width=\"637\" height=\"249.16543209876554\"/></clipPath><clipPath id=\"clip95d364x5y5plot\" class=\"plotclip\"><rect width=\"637\" height=\"249.16543209876554\"/></clipPath><clipPath id=\"clip95d364x6y6plot\" class=\"plotclip\"><rect width=\"637\" height=\"249.1654320987654\"/></clipPath><clipPath id=\"clip95d364x7y7plot\" class=\"plotclip\"><rect width=\"637\" height=\"249.1654320987654\"/></clipPath><clipPath id=\"clip95d364x8y8plot\" class=\"plotclip\"><rect width=\"637\" height=\"249.1654320987654\"/></clipPath><clipPath id=\"clip95d364x9y9plot\" class=\"plotclip\"><rect width=\"637\" height=\"249.16543209876542\"/></clipPath><clipPath class=\"axesclip\" id=\"clip95d364x\"><rect x=\"83\" y=\"0\" width=\"637\" height=\"2700\"/></clipPath><clipPath class=\"axesclip\" id=\"clip95d364y\"><rect x=\"0\" y=\"88\" width=\"750\" height=\"249.16543209876525\"/></clipPath><clipPath class=\"axesclip\" id=\"clip95d364xy\"><rect x=\"83\" y=\"88\" width=\"637\" height=\"249.16543209876525\"/></clipPath><clipPath class=\"axesclip\" id=\"clip95d364y2\"><rect x=\"0\" y=\"374.8543209876539\" width=\"750\" height=\"249.16543209876554\"/></clipPath><clipPath class=\"axesclip\" id=\"clip95d364xy2\"><rect x=\"83\" y=\"374.8543209876539\" width=\"637\" height=\"249.16543209876554\"/></clipPath><clipPath class=\"axesclip\" id=\"clip95d364y3\"><rect x=\"0\" y=\"661.7086419753084\" width=\"750\" height=\"249.16543209876554\"/></clipPath><clipPath class=\"axesclip\" id=\"clip95d364xy3\"><rect x=\"83\" y=\"661.7086419753084\" width=\"637\" height=\"249.16543209876554\"/></clipPath><clipPath class=\"axesclip\" id=\"clip95d364y4\"><rect x=\"0\" y=\"948.5629629629628\" width=\"750\" height=\"249.16543209876554\"/></clipPath><clipPath class=\"axesclip\" id=\"clip95d364xy4\"><rect x=\"83\" y=\"948.5629629629628\" width=\"637\" height=\"249.16543209876554\"/></clipPath><clipPath class=\"axesclip\" id=\"clip95d364y5\"><rect x=\"0\" y=\"1235.417283950617\" width=\"750\" height=\"249.16543209876554\"/></clipPath><clipPath class=\"axesclip\" id=\"clip95d364xy5\"><rect x=\"83\" y=\"1235.417283950617\" width=\"637\" height=\"249.16543209876554\"/></clipPath><clipPath class=\"axesclip\" id=\"clip95d364y6\"><rect x=\"0\" y=\"1522.2716049382716\" width=\"750\" height=\"249.1654320987654\"/></clipPath><clipPath class=\"axesclip\" id=\"clip95d364xy6\"><rect x=\"83\" y=\"1522.2716049382716\" width=\"637\" height=\"249.1654320987654\"/></clipPath><clipPath class=\"axesclip\" id=\"clip95d364y7\"><rect x=\"0\" y=\"1809.1259259259257\" width=\"750\" height=\"249.1654320987654\"/></clipPath><clipPath class=\"axesclip\" id=\"clip95d364xy7\"><rect x=\"83\" y=\"1809.1259259259257\" width=\"637\" height=\"249.1654320987654\"/></clipPath><clipPath class=\"axesclip\" id=\"clip95d364y8\"><rect x=\"0\" y=\"2095.9802469135802\" width=\"750\" height=\"249.1654320987654\"/></clipPath><clipPath class=\"axesclip\" id=\"clip95d364xy8\"><rect x=\"83\" y=\"2095.9802469135802\" width=\"637\" height=\"249.1654320987654\"/></clipPath><clipPath class=\"axesclip\" id=\"clip95d364y9\"><rect x=\"0\" y=\"2382.8345679012345\" width=\"750\" height=\"249.16543209876542\"/></clipPath><clipPath class=\"axesclip\" id=\"clip95d364xy9\"><rect x=\"83\" y=\"2382.8345679012345\" width=\"637\" height=\"249.16543209876542\"/></clipPath><clipPath class=\"axesclip\" id=\"clip95d364x2\"><rect x=\"83\" y=\"0\" width=\"637\" height=\"2700\"/></clipPath><clipPath class=\"axesclip\" id=\"clip95d364x2y\"><rect x=\"83\" y=\"88\" width=\"637\" height=\"249.16543209876525\"/></clipPath><clipPath class=\"axesclip\" id=\"clip95d364x2y2\"><rect x=\"83\" y=\"374.8543209876539\" width=\"637\" height=\"249.16543209876554\"/></clipPath><clipPath class=\"axesclip\" id=\"clip95d364x2y3\"><rect x=\"83\" y=\"661.7086419753084\" width=\"637\" height=\"249.16543209876554\"/></clipPath><clipPath class=\"axesclip\" id=\"clip95d364x2y4\"><rect x=\"83\" y=\"948.5629629629628\" width=\"637\" height=\"249.16543209876554\"/></clipPath><clipPath class=\"axesclip\" id=\"clip95d364x2y5\"><rect x=\"83\" y=\"1235.417283950617\" width=\"637\" height=\"249.16543209876554\"/></clipPath><clipPath class=\"axesclip\" id=\"clip95d364x2y6\"><rect x=\"83\" y=\"1522.2716049382716\" width=\"637\" height=\"249.1654320987654\"/></clipPath><clipPath class=\"axesclip\" id=\"clip95d364x2y7\"><rect x=\"83\" y=\"1809.1259259259257\" width=\"637\" height=\"249.1654320987654\"/></clipPath><clipPath class=\"axesclip\" id=\"clip95d364x2y8\"><rect x=\"83\" y=\"2095.9802469135802\" width=\"637\" height=\"249.1654320987654\"/></clipPath><clipPath class=\"axesclip\" id=\"clip95d364x2y9\"><rect x=\"83\" y=\"2382.8345679012345\" width=\"637\" height=\"249.16543209876542\"/></clipPath><clipPath class=\"axesclip\" id=\"clip95d364x3\"><rect x=\"83\" y=\"0\" width=\"637\" height=\"2700\"/></clipPath><clipPath class=\"axesclip\" id=\"clip95d364x3y\"><rect x=\"83\" y=\"88\" width=\"637\" height=\"249.16543209876525\"/></clipPath><clipPath class=\"axesclip\" id=\"clip95d364x3y2\"><rect x=\"83\" y=\"374.8543209876539\" width=\"637\" height=\"249.16543209876554\"/></clipPath><clipPath class=\"axesclip\" id=\"clip95d364x3y3\"><rect x=\"83\" y=\"661.7086419753084\" width=\"637\" height=\"249.16543209876554\"/></clipPath><clipPath class=\"axesclip\" id=\"clip95d364x3y4\"><rect x=\"83\" y=\"948.5629629629628\" width=\"637\" height=\"249.16543209876554\"/></clipPath><clipPath class=\"axesclip\" id=\"clip95d364x3y5\"><rect x=\"83\" y=\"1235.417283950617\" width=\"637\" height=\"249.16543209876554\"/></clipPath><clipPath class=\"axesclip\" id=\"clip95d364x3y6\"><rect x=\"83\" y=\"1522.2716049382716\" width=\"637\" height=\"249.1654320987654\"/></clipPath><clipPath class=\"axesclip\" id=\"clip95d364x3y7\"><rect x=\"83\" y=\"1809.1259259259257\" width=\"637\" height=\"249.1654320987654\"/></clipPath><clipPath class=\"axesclip\" id=\"clip95d364x3y8\"><rect x=\"83\" y=\"2095.9802469135802\" width=\"637\" height=\"249.1654320987654\"/></clipPath><clipPath class=\"axesclip\" id=\"clip95d364x3y9\"><rect x=\"83\" y=\"2382.8345679012345\" width=\"637\" height=\"249.16543209876542\"/></clipPath><clipPath class=\"axesclip\" id=\"clip95d364x4\"><rect x=\"83\" y=\"0\" width=\"637\" height=\"2700\"/></clipPath><clipPath class=\"axesclip\" id=\"clip95d364x4y\"><rect x=\"83\" y=\"88\" width=\"637\" height=\"249.16543209876525\"/></clipPath><clipPath class=\"axesclip\" id=\"clip95d364x4y2\"><rect x=\"83\" y=\"374.8543209876539\" width=\"637\" height=\"249.16543209876554\"/></clipPath><clipPath class=\"axesclip\" id=\"clip95d364x4y3\"><rect x=\"83\" y=\"661.7086419753084\" width=\"637\" height=\"249.16543209876554\"/></clipPath><clipPath class=\"axesclip\" id=\"clip95d364x4y4\"><rect x=\"83\" y=\"948.5629629629628\" width=\"637\" height=\"249.16543209876554\"/></clipPath><clipPath class=\"axesclip\" id=\"clip95d364x4y5\"><rect x=\"83\" y=\"1235.417283950617\" width=\"637\" height=\"249.16543209876554\"/></clipPath><clipPath class=\"axesclip\" id=\"clip95d364x4y6\"><rect x=\"83\" y=\"1522.2716049382716\" width=\"637\" height=\"249.1654320987654\"/></clipPath><clipPath class=\"axesclip\" id=\"clip95d364x4y7\"><rect x=\"83\" y=\"1809.1259259259257\" width=\"637\" height=\"249.1654320987654\"/></clipPath><clipPath class=\"axesclip\" id=\"clip95d364x4y8\"><rect x=\"83\" y=\"2095.9802469135802\" width=\"637\" height=\"249.1654320987654\"/></clipPath><clipPath class=\"axesclip\" id=\"clip95d364x4y9\"><rect x=\"83\" y=\"2382.8345679012345\" width=\"637\" height=\"249.16543209876542\"/></clipPath><clipPath class=\"axesclip\" id=\"clip95d364x5\"><rect x=\"83\" y=\"0\" width=\"637\" height=\"2700\"/></clipPath><clipPath class=\"axesclip\" id=\"clip95d364x5y\"><rect x=\"83\" y=\"88\" width=\"637\" height=\"249.16543209876525\"/></clipPath><clipPath class=\"axesclip\" id=\"clip95d364x5y2\"><rect x=\"83\" y=\"374.8543209876539\" width=\"637\" height=\"249.16543209876554\"/></clipPath><clipPath class=\"axesclip\" id=\"clip95d364x5y3\"><rect x=\"83\" y=\"661.7086419753084\" width=\"637\" height=\"249.16543209876554\"/></clipPath><clipPath class=\"axesclip\" id=\"clip95d364x5y4\"><rect x=\"83\" y=\"948.5629629629628\" width=\"637\" height=\"249.16543209876554\"/></clipPath><clipPath class=\"axesclip\" id=\"clip95d364x5y5\"><rect x=\"83\" y=\"1235.417283950617\" width=\"637\" height=\"249.16543209876554\"/></clipPath><clipPath class=\"axesclip\" id=\"clip95d364x5y6\"><rect x=\"83\" y=\"1522.2716049382716\" width=\"637\" height=\"249.1654320987654\"/></clipPath><clipPath class=\"axesclip\" id=\"clip95d364x5y7\"><rect x=\"83\" y=\"1809.1259259259257\" width=\"637\" height=\"249.1654320987654\"/></clipPath><clipPath class=\"axesclip\" id=\"clip95d364x5y8\"><rect x=\"83\" y=\"2095.9802469135802\" width=\"637\" height=\"249.1654320987654\"/></clipPath><clipPath class=\"axesclip\" id=\"clip95d364x5y9\"><rect x=\"83\" y=\"2382.8345679012345\" width=\"637\" height=\"249.16543209876542\"/></clipPath><clipPath class=\"axesclip\" id=\"clip95d364x6\"><rect x=\"83\" y=\"0\" width=\"637\" height=\"2700\"/></clipPath><clipPath class=\"axesclip\" id=\"clip95d364x6y\"><rect x=\"83\" y=\"88\" width=\"637\" height=\"249.16543209876525\"/></clipPath><clipPath class=\"axesclip\" id=\"clip95d364x6y2\"><rect x=\"83\" y=\"374.8543209876539\" width=\"637\" height=\"249.16543209876554\"/></clipPath><clipPath class=\"axesclip\" id=\"clip95d364x6y3\"><rect x=\"83\" y=\"661.7086419753084\" width=\"637\" height=\"249.16543209876554\"/></clipPath><clipPath class=\"axesclip\" id=\"clip95d364x6y4\"><rect x=\"83\" y=\"948.5629629629628\" width=\"637\" height=\"249.16543209876554\"/></clipPath><clipPath class=\"axesclip\" id=\"clip95d364x6y5\"><rect x=\"83\" y=\"1235.417283950617\" width=\"637\" height=\"249.16543209876554\"/></clipPath><clipPath class=\"axesclip\" id=\"clip95d364x6y6\"><rect x=\"83\" y=\"1522.2716049382716\" width=\"637\" height=\"249.1654320987654\"/></clipPath><clipPath class=\"axesclip\" id=\"clip95d364x6y7\"><rect x=\"83\" y=\"1809.1259259259257\" width=\"637\" height=\"249.1654320987654\"/></clipPath><clipPath class=\"axesclip\" id=\"clip95d364x6y8\"><rect x=\"83\" y=\"2095.9802469135802\" width=\"637\" height=\"249.1654320987654\"/></clipPath><clipPath class=\"axesclip\" id=\"clip95d364x6y9\"><rect x=\"83\" y=\"2382.8345679012345\" width=\"637\" height=\"249.16543209876542\"/></clipPath><clipPath class=\"axesclip\" id=\"clip95d364x7\"><rect x=\"83\" y=\"0\" width=\"637\" height=\"2700\"/></clipPath><clipPath class=\"axesclip\" id=\"clip95d364x7y\"><rect x=\"83\" y=\"88\" width=\"637\" height=\"249.16543209876525\"/></clipPath><clipPath class=\"axesclip\" id=\"clip95d364x7y2\"><rect x=\"83\" y=\"374.8543209876539\" width=\"637\" height=\"249.16543209876554\"/></clipPath><clipPath class=\"axesclip\" id=\"clip95d364x7y3\"><rect x=\"83\" y=\"661.7086419753084\" width=\"637\" height=\"249.16543209876554\"/></clipPath><clipPath class=\"axesclip\" id=\"clip95d364x7y4\"><rect x=\"83\" y=\"948.5629629629628\" width=\"637\" height=\"249.16543209876554\"/></clipPath><clipPath class=\"axesclip\" id=\"clip95d364x7y5\"><rect x=\"83\" y=\"1235.417283950617\" width=\"637\" height=\"249.16543209876554\"/></clipPath><clipPath class=\"axesclip\" id=\"clip95d364x7y6\"><rect x=\"83\" y=\"1522.2716049382716\" width=\"637\" height=\"249.1654320987654\"/></clipPath><clipPath class=\"axesclip\" id=\"clip95d364x7y7\"><rect x=\"83\" y=\"1809.1259259259257\" width=\"637\" height=\"249.1654320987654\"/></clipPath><clipPath class=\"axesclip\" id=\"clip95d364x7y8\"><rect x=\"83\" y=\"2095.9802469135802\" width=\"637\" height=\"249.1654320987654\"/></clipPath><clipPath class=\"axesclip\" id=\"clip95d364x7y9\"><rect x=\"83\" y=\"2382.8345679012345\" width=\"637\" height=\"249.16543209876542\"/></clipPath><clipPath class=\"axesclip\" id=\"clip95d364x8\"><rect x=\"83\" y=\"0\" width=\"637\" height=\"2700\"/></clipPath><clipPath class=\"axesclip\" id=\"clip95d364x8y\"><rect x=\"83\" y=\"88\" width=\"637\" height=\"249.16543209876525\"/></clipPath><clipPath class=\"axesclip\" id=\"clip95d364x8y2\"><rect x=\"83\" y=\"374.8543209876539\" width=\"637\" height=\"249.16543209876554\"/></clipPath><clipPath class=\"axesclip\" id=\"clip95d364x8y3\"><rect x=\"83\" y=\"661.7086419753084\" width=\"637\" height=\"249.16543209876554\"/></clipPath><clipPath class=\"axesclip\" id=\"clip95d364x8y4\"><rect x=\"83\" y=\"948.5629629629628\" width=\"637\" height=\"249.16543209876554\"/></clipPath><clipPath class=\"axesclip\" id=\"clip95d364x8y5\"><rect x=\"83\" y=\"1235.417283950617\" width=\"637\" height=\"249.16543209876554\"/></clipPath><clipPath class=\"axesclip\" id=\"clip95d364x8y6\"><rect x=\"83\" y=\"1522.2716049382716\" width=\"637\" height=\"249.1654320987654\"/></clipPath><clipPath class=\"axesclip\" id=\"clip95d364x8y7\"><rect x=\"83\" y=\"1809.1259259259257\" width=\"637\" height=\"249.1654320987654\"/></clipPath><clipPath class=\"axesclip\" id=\"clip95d364x8y8\"><rect x=\"83\" y=\"2095.9802469135802\" width=\"637\" height=\"249.1654320987654\"/></clipPath><clipPath class=\"axesclip\" id=\"clip95d364x8y9\"><rect x=\"83\" y=\"2382.8345679012345\" width=\"637\" height=\"249.16543209876542\"/></clipPath><clipPath class=\"axesclip\" id=\"clip95d364x9\"><rect x=\"83\" y=\"0\" width=\"637\" height=\"2700\"/></clipPath><clipPath class=\"axesclip\" id=\"clip95d364x9y\"><rect x=\"83\" y=\"88\" width=\"637\" height=\"249.16543209876525\"/></clipPath><clipPath class=\"axesclip\" id=\"clip95d364x9y2\"><rect x=\"83\" y=\"374.8543209876539\" width=\"637\" height=\"249.16543209876554\"/></clipPath><clipPath class=\"axesclip\" id=\"clip95d364x9y3\"><rect x=\"83\" y=\"661.7086419753084\" width=\"637\" height=\"249.16543209876554\"/></clipPath><clipPath class=\"axesclip\" id=\"clip95d364x9y4\"><rect x=\"83\" y=\"948.5629629629628\" width=\"637\" height=\"249.16543209876554\"/></clipPath><clipPath class=\"axesclip\" id=\"clip95d364x9y5\"><rect x=\"83\" y=\"1235.417283950617\" width=\"637\" height=\"249.16543209876554\"/></clipPath><clipPath class=\"axesclip\" id=\"clip95d364x9y6\"><rect x=\"83\" y=\"1522.2716049382716\" width=\"637\" height=\"249.1654320987654\"/></clipPath><clipPath class=\"axesclip\" id=\"clip95d364x9y7\"><rect x=\"83\" y=\"1809.1259259259257\" width=\"637\" height=\"249.1654320987654\"/></clipPath><clipPath class=\"axesclip\" id=\"clip95d364x9y8\"><rect x=\"83\" y=\"2095.9802469135802\" width=\"637\" height=\"249.1654320987654\"/></clipPath><clipPath class=\"axesclip\" id=\"clip95d364x9y9\"><rect x=\"83\" y=\"2382.8345679012345\" width=\"637\" height=\"249.16543209876542\"/></clipPath></g><g class=\"gradients\"/></defs><g class=\"bglayer\"><rect class=\"bg\" x=\"83\" y=\"88\" width=\"637\" height=\"249.16543209876525\" style=\"fill: rgb(229, 236, 246); fill-opacity: 1; stroke-width: 0;\"/><rect class=\"bg\" x=\"83\" y=\"374.8543209876539\" width=\"637\" height=\"249.16543209876554\" style=\"fill: rgb(229, 236, 246); fill-opacity: 1; stroke-width: 0;\"/><rect class=\"bg\" x=\"83\" y=\"661.7086419753084\" width=\"637\" height=\"249.16543209876554\" style=\"fill: rgb(229, 236, 246); fill-opacity: 1; stroke-width: 0;\"/><rect class=\"bg\" x=\"83\" y=\"948.5629629629628\" width=\"637\" height=\"249.16543209876554\" style=\"fill: rgb(229, 236, 246); fill-opacity: 1; stroke-width: 0;\"/><rect class=\"bg\" x=\"83\" y=\"1235.417283950617\" width=\"637\" height=\"249.16543209876554\" style=\"fill: rgb(229, 236, 246); fill-opacity: 1; stroke-width: 0;\"/><rect class=\"bg\" x=\"83\" y=\"1522.2716049382716\" width=\"637\" height=\"249.1654320987654\" style=\"fill: rgb(229, 236, 246); fill-opacity: 1; stroke-width: 0;\"/><rect class=\"bg\" x=\"83\" y=\"1809.1259259259257\" width=\"637\" height=\"249.1654320987654\" style=\"fill: rgb(229, 236, 246); fill-opacity: 1; stroke-width: 0;\"/><rect class=\"bg\" x=\"83\" y=\"2095.9802469135802\" width=\"637\" height=\"249.1654320987654\" style=\"fill: rgb(229, 236, 246); fill-opacity: 1; stroke-width: 0;\"/><rect class=\"bg\" x=\"83\" y=\"2382.8345679012345\" width=\"637\" height=\"249.16543209876542\" style=\"fill: rgb(229, 236, 246); fill-opacity: 1; stroke-width: 0;\"/></g><g class=\"layer-below\"><g class=\"imagelayer\"/><g class=\"shapelayer\"><path data-index=\"5\" fill-rule=\"evenodd\" d=\"M118.89,1771.4370370370368H684.11V1522.2716049382716H118.89Z\" clip-path=\"url('#clip95d364x6')\" style=\"opacity: 0.2; stroke: rgb(0, 0, 0); stroke-opacity: 0; fill: rgb(255, 165, 0); fill-opacity: 1; stroke-width: 0px;\"/></g></g><g class=\"cartesianlayer\"><g class=\"subplot xy\"><g class=\"layer-subplot\"><g class=\"shapelayer\"/><g class=\"imagelayer\"/></g><g class=\"gridlayer\"><g class=\"x\"><path class=\"xgrid crisp\" transform=\"translate(118.89,0)\" d=\"M0,88v249.16543209876525\" style=\"stroke: rgb(255, 255, 255); stroke-opacity: 1; stroke-width: 1px;\"/><path class=\"xgrid crisp\" transform=\"translate(260.19,0)\" d=\"M0,88v249.16543209876525\" style=\"stroke: rgb(255, 255, 255); stroke-opacity: 1; stroke-width: 1px;\"/><path class=\"xgrid crisp\" transform=\"translate(401.5,0)\" d=\"M0,88v249.16543209876525\" style=\"stroke: rgb(255, 255, 255); stroke-opacity: 1; stroke-width: 1px;\"/><path class=\"xgrid crisp\" transform=\"translate(542.81,0)\" d=\"M0,88v249.16543209876525\" style=\"stroke: rgb(255, 255, 255); stroke-opacity: 1; stroke-width: 1px;\"/><path class=\"xgrid crisp\" transform=\"translate(684.11,0)\" d=\"M0,88v249.16543209876525\" style=\"stroke: rgb(255, 255, 255); stroke-opacity: 1; stroke-width: 1px;\"/></g><g class=\"y\"><path class=\"ygrid crisp\" transform=\"translate(0,319.88)\" d=\"M83,0h637\" style=\"stroke: rgb(255, 255, 255); stroke-opacity: 1; stroke-width: 1px;\"/><path class=\"ygrid crisp\" transform=\"translate(0,280.66999999999996)\" d=\"M83,0h637\" style=\"stroke: rgb(255, 255, 255); stroke-opacity: 1; stroke-width: 1px;\"/><path class=\"ygrid crisp\" transform=\"translate(0,241.45)\" d=\"M83,0h637\" style=\"stroke: rgb(255, 255, 255); stroke-opacity: 1; stroke-width: 1px;\"/><path class=\"ygrid crisp\" transform=\"translate(0,202.24)\" d=\"M83,0h637\" style=\"stroke: rgb(255, 255, 255); stroke-opacity: 1; stroke-width: 1px;\"/><path class=\"ygrid crisp\" transform=\"translate(0,163.03)\" d=\"M83,0h637\" style=\"stroke: rgb(255, 255, 255); stroke-opacity: 1; stroke-width: 1px;\"/><path class=\"ygrid crisp\" transform=\"translate(0,123.81)\" d=\"M83,0h637\" style=\"stroke: rgb(255, 255, 255); stroke-opacity: 1; stroke-width: 1px;\"/></g></g><g class=\"zerolinelayer\"/><path class=\"xlines-below\"/><path class=\"ylines-below\"/><g class=\"overlines-below\"/><g class=\"xaxislayer-below\"/><g class=\"yaxislayer-below\"/><g class=\"overaxes-below\"/><g class=\"plot\" transform=\"translate(83,88)\" clip-path=\"url('#clip95d364xyplot')\"><g class=\"scatterlayer mlayer\"><g class=\"trace scatter traceca080f6e-0344-432c-947d-faa105714bb0\" style=\"stroke-miterlimit: 2; opacity: 1;\"><g class=\"fills\"/><g class=\"errorbars\"/><g class=\"lines\"><path class=\"js-line\" d=\"M35.89,231.88L177.19,192.67L318.5,94.63L459.81,75.03L601.11,16.21\" style=\"vector-effect: non-scaling-stroke; fill: none; stroke: rgb(127, 127, 127); stroke-opacity: 1; stroke-width: 2px; opacity: 1;\"/></g><g class=\"points\"><path class=\"point\" transform=\"translate(35.89,231.88)\" d=\"M3,0A3,3 0 1,1 0,-3A3,3 0 0,1 3,0Z\" style=\"opacity: 1; stroke-width: 0px; fill: rgb(127, 127, 127); fill-opacity: 1;\"/><path class=\"point\" transform=\"translate(177.19,192.67)\" d=\"M3,0A3,3 0 1,1 0,-3A3,3 0 0,1 3,0Z\" style=\"opacity: 1; stroke-width: 0px; fill: rgb(127, 127, 127); fill-opacity: 1;\"/><path class=\"point\" transform=\"translate(318.5,94.63)\" d=\"M3,0A3,3 0 1,1 0,-3A3,3 0 0,1 3,0Z\" style=\"opacity: 1; stroke-width: 0px; fill: rgb(127, 127, 127); fill-opacity: 1;\"/><path class=\"point\" transform=\"translate(459.81,75.03)\" d=\"M3,0A3,3 0 1,1 0,-3A3,3 0 0,1 3,0Z\" style=\"opacity: 1; stroke-width: 0px; fill: rgb(127, 127, 127); fill-opacity: 1;\"/><path class=\"point\" transform=\"translate(601.11,16.21)\" d=\"M3,0A3,3 0 1,1 0,-3A3,3 0 0,1 3,0Z\" style=\"opacity: 1; stroke-width: 0px; fill: rgb(127, 127, 127); fill-opacity: 1;\"/></g><g class=\"text\"/></g><g class=\"trace scatter trace3d9de19a-2d04-48ba-ac44-38b32b9da3f0\" style=\"stroke-miterlimit: 2;\"><g class=\"fills\"><g><path class=\"js-fill\" d=\"M35.89,231.93L318.5,232.4L459.81,232.4L601.11,232.96L601.11,231.88L35.89,231.88Z\" style=\"fill: rgb(255, 0, 0); fill-opacity: 0.3; stroke-width: 0;\"/></g></g><g class=\"errorbars\"/><g class=\"lines\"><path class=\"js-line\" d=\"M35.89,231.88L601.11,231.88\" style=\"vector-effect: non-scaling-stroke; fill: none; stroke: rgb(0, 0, 0); stroke-opacity: 0; stroke-width: 0px; opacity: 1;\"/></g><g class=\"points\"><path class=\"point\" transform=\"translate(35.89,231.88)\" d=\"M3,0A3,3 0 1,1 0,-3A3,3 0 0,1 3,0Z\" style=\"opacity: 1; stroke-width: 0px; fill: rgb(0, 0, 0); fill-opacity: 0;\"/><path class=\"point\" transform=\"translate(177.19,231.88)\" d=\"M3,0A3,3 0 1,1 0,-3A3,3 0 0,1 3,0Z\" style=\"opacity: 1; stroke-width: 0px; fill: rgb(0, 0, 0); fill-opacity: 0;\"/><path class=\"point\" transform=\"translate(318.5,231.88)\" d=\"M3,0A3,3 0 1,1 0,-3A3,3 0 0,1 3,0Z\" style=\"opacity: 1; stroke-width: 0px; fill: rgb(0, 0, 0); fill-opacity: 0;\"/><path class=\"point\" transform=\"translate(459.81,231.88)\" d=\"M3,0A3,3 0 1,1 0,-3A3,3 0 0,1 3,0Z\" style=\"opacity: 1; stroke-width: 0px; fill: rgb(0, 0, 0); fill-opacity: 0;\"/><path class=\"point\" transform=\"translate(601.11,231.88)\" d=\"M3,0A3,3 0 1,1 0,-3A3,3 0 0,1 3,0Z\" style=\"opacity: 1; stroke-width: 0px; fill: rgb(0, 0, 0); fill-opacity: 0;\"/></g><g class=\"text\"/></g><g class=\"trace scatter trace30b7a831-6f55-49b5-a451-b50b2f63c2f3\" style=\"stroke-miterlimit: 2;\"><g class=\"fills\"/><g class=\"errorbars\"/><g class=\"lines\"><path class=\"js-line\" d=\"M35.89,231.93L318.5,232.4L459.81,232.4L601.11,232.96\" style=\"vector-effect: non-scaling-stroke; fill: none; stroke: rgb(0, 0, 0); stroke-opacity: 0; stroke-width: 0px; opacity: 1;\"/></g><g class=\"points\"><path class=\"point\" transform=\"translate(35.89,231.93)\" d=\"M3,0A3,3 0 1,1 0,-3A3,3 0 0,1 3,0Z\" style=\"opacity: 1; stroke-width: 0px; fill: rgb(0, 0, 0); fill-opacity: 0;\"/><path class=\"point\" transform=\"translate(177.19,232.4)\" d=\"M3,0A3,3 0 1,1 0,-3A3,3 0 0,1 3,0Z\" style=\"opacity: 1; stroke-width: 0px; fill: rgb(0, 0, 0); fill-opacity: 0;\"/><path class=\"point\" transform=\"translate(318.5,232.4)\" d=\"M3,0A3,3 0 1,1 0,-3A3,3 0 0,1 3,0Z\" style=\"opacity: 1; stroke-width: 0px; fill: rgb(0, 0, 0); fill-opacity: 0;\"/><path class=\"point\" transform=\"translate(459.81,232.4)\" d=\"M3,0A3,3 0 1,1 0,-3A3,3 0 0,1 3,0Z\" style=\"opacity: 1; stroke-width: 0px; fill: rgb(0, 0, 0); fill-opacity: 0;\"/><path class=\"point\" transform=\"translate(601.11,232.96)\" d=\"M3,0A3,3 0 1,1 0,-3A3,3 0 0,1 3,0Z\" style=\"opacity: 1; stroke-width: 0px; fill: rgb(0, 0, 0); fill-opacity: 0;\"/></g><g class=\"text\"/></g><g class=\"trace scatter trace91740243-1628-4eec-a809-7b32d3679003\" style=\"stroke-miterlimit: 2; opacity: 1;\"><g class=\"fills\"/><g class=\"errorbars\"/><g class=\"lines\"><path class=\"js-line\" d=\"M35.89,231.93L318.5,232.4L459.81,232.4L601.11,232.96\" style=\"vector-effect: non-scaling-stroke; fill: none; stroke: rgb(148, 103, 189); stroke-opacity: 1; stroke-width: 2px; opacity: 1;\"/></g><g class=\"points\"><path class=\"point\" transform=\"translate(35.89,231.93)\" d=\"M3,0A3,3 0 1,1 0,-3A3,3 0 0,1 3,0Z\" style=\"opacity: 1; stroke-width: 0px; fill: rgb(148, 103, 189); fill-opacity: 1;\"/><path class=\"point\" transform=\"translate(177.19,232.4)\" d=\"M3,0A3,3 0 1,1 0,-3A3,3 0 0,1 3,0Z\" style=\"opacity: 1; stroke-width: 0px; fill: rgb(148, 103, 189); fill-opacity: 1;\"/><path class=\"point\" transform=\"translate(318.5,232.4)\" d=\"M3,0A3,3 0 1,1 0,-3A3,3 0 0,1 3,0Z\" style=\"opacity: 1; stroke-width: 0px; fill: rgb(148, 103, 189); fill-opacity: 1;\"/><path class=\"point\" transform=\"translate(459.81,232.4)\" d=\"M3,0A3,3 0 1,1 0,-3A3,3 0 0,1 3,0Z\" style=\"opacity: 1; stroke-width: 0px; fill: rgb(148, 103, 189); fill-opacity: 1;\"/><path class=\"point\" transform=\"translate(601.11,232.96)\" d=\"M3,0A3,3 0 1,1 0,-3A3,3 0 0,1 3,0Z\" style=\"opacity: 1; stroke-width: 0px; fill: rgb(148, 103, 189); fill-opacity: 1;\"/></g><g class=\"text\"/></g><g class=\"trace scatter trace0e9d27a0-b8c8-469d-9e86-3d849c2d7226\" style=\"stroke-miterlimit: 2; opacity: 0;\"><g class=\"fills\"/><g class=\"errorbars\"/><g class=\"lines\"><path class=\"js-line\" d=\"M35.89,231.88L601.11,231.88\" style=\"vector-effect: non-scaling-stroke; fill: none; stroke: rgb(0, 0, 0); stroke-opacity: 0; stroke-width: 0px; opacity: 1;\"/></g><g class=\"points\"><path class=\"point\" transform=\"translate(35.89,231.88)\" d=\"M3,0A3,3 0 1,1 0,-3A3,3 0 0,1 3,0Z\" style=\"opacity: 1; stroke-width: 0px; fill: rgb(0, 0, 0); fill-opacity: 0;\"/><path class=\"point\" transform=\"translate(177.19,231.88)\" d=\"M3,0A3,3 0 1,1 0,-3A3,3 0 0,1 3,0Z\" style=\"opacity: 1; stroke-width: 0px; fill: rgb(0, 0, 0); fill-opacity: 0;\"/><path class=\"point\" transform=\"translate(318.5,231.88)\" d=\"M3,0A3,3 0 1,1 0,-3A3,3 0 0,1 3,0Z\" style=\"opacity: 1; stroke-width: 0px; fill: rgb(0, 0, 0); fill-opacity: 0;\"/><path class=\"point\" transform=\"translate(459.81,231.88)\" d=\"M3,0A3,3 0 1,1 0,-3A3,3 0 0,1 3,0Z\" style=\"opacity: 1; stroke-width: 0px; fill: rgb(0, 0, 0); fill-opacity: 0;\"/><path class=\"point\" transform=\"translate(601.11,231.88)\" d=\"M3,0A3,3 0 1,1 0,-3A3,3 0 0,1 3,0Z\" style=\"opacity: 1; stroke-width: 0px; fill: rgb(0, 0, 0); fill-opacity: 0;\"/></g><g class=\"text\"/></g></g></g><g class=\"overplot\"/><path class=\"xlines-above crisp\" d=\"M0,0\" style=\"fill: none;\"/><path class=\"ylines-above crisp\" d=\"M0,0\" style=\"fill: none;\"/><g class=\"overlines-above\"/><g class=\"xaxislayer-above\"/><g class=\"yaxislayer-above\"><g class=\"ytick\"><text text-anchor=\"end\" x=\"82\" y=\"4.199999999999999\" transform=\"translate(0,319.88)\" style=\"font-family: 'Open Sans', verdana, arial, sans-serif; font-size: 12px; fill: rgb(42, 63, 95); fill-opacity: 1; white-space: pre;\">1</text></g><g class=\"ytick\"><text text-anchor=\"end\" x=\"82\" y=\"4.199999999999999\" transform=\"translate(0,280.66999999999996)\" style=\"font-family: 'Open Sans', verdana, arial, sans-serif; font-size: 12px; fill: rgb(42, 63, 95); fill-opacity: 1; white-space: pre;\">1.5</text></g><g class=\"ytick\"><text text-anchor=\"end\" x=\"82\" y=\"4.199999999999999\" transform=\"translate(0,241.45)\" style=\"font-family: 'Open Sans', verdana, arial, sans-serif; font-size: 12px; fill: rgb(42, 63, 95); fill-opacity: 1; white-space: pre;\">2</text></g><g class=\"ytick\"><text text-anchor=\"end\" x=\"82\" y=\"4.199999999999999\" transform=\"translate(0,202.24)\" style=\"font-family: 'Open Sans', verdana, arial, sans-serif; font-size: 12px; fill: rgb(42, 63, 95); fill-opacity: 1; white-space: pre;\">2.5</text></g><g class=\"ytick\"><text text-anchor=\"end\" x=\"82\" y=\"4.199999999999999\" transform=\"translate(0,163.03)\" style=\"font-family: 'Open Sans', verdana, arial, sans-serif; font-size: 12px; fill: rgb(42, 63, 95); fill-opacity: 1; white-space: pre;\">3</text></g><g class=\"ytick\"><text text-anchor=\"end\" x=\"82\" y=\"4.199999999999999\" transform=\"translate(0,123.81)\" style=\"font-family: 'Open Sans', verdana, arial, sans-serif; font-size: 12px; fill: rgb(42, 63, 95); fill-opacity: 1; white-space: pre;\">3.5</text></g></g><g class=\"overaxes-above\"/></g><g class=\"subplot x2y2\"><g class=\"layer-subplot\"><g class=\"shapelayer\"/><g class=\"imagelayer\"/></g><g class=\"gridlayer\"><g class=\"x2\"><path class=\"x2grid crisp\" transform=\"translate(118.89,0)\" d=\"M0,374.8543209876539v249.16543209876554\" style=\"stroke: rgb(255, 255, 255); stroke-opacity: 1; stroke-width: 1px;\"/><path class=\"x2grid crisp\" transform=\"translate(260.19,0)\" d=\"M0,374.8543209876539v249.16543209876554\" style=\"stroke: rgb(255, 255, 255); stroke-opacity: 1; stroke-width: 1px;\"/><path class=\"x2grid crisp\" transform=\"translate(401.5,0)\" d=\"M0,374.8543209876539v249.16543209876554\" style=\"stroke: rgb(255, 255, 255); stroke-opacity: 1; stroke-width: 1px;\"/><path class=\"x2grid crisp\" transform=\"translate(542.81,0)\" d=\"M0,374.8543209876539v249.16543209876554\" style=\"stroke: rgb(255, 255, 255); stroke-opacity: 1; stroke-width: 1px;\"/><path class=\"x2grid crisp\" transform=\"translate(684.11,0)\" d=\"M0,374.8543209876539v249.16543209876554\" style=\"stroke: rgb(255, 255, 255); stroke-opacity: 1; stroke-width: 1px;\"/></g><g class=\"y2\"><path class=\"y2grid crisp\" transform=\"translate(0,606.5543209876539)\" d=\"M83,0h637\" style=\"stroke: rgb(255, 255, 255); stroke-opacity: 1; stroke-width: 1px;\"/><path class=\"y2grid crisp\" transform=\"translate(0,450.4143209876539)\" d=\"M83,0h637\" style=\"stroke: rgb(255, 255, 255); stroke-opacity: 1; stroke-width: 1px;\"/></g></g><g class=\"zerolinelayer\"><path class=\"y2zl zl crisp\" transform=\"translate(0,528.484320987654)\" d=\"M83,0h637\" style=\"stroke: rgb(255, 255, 255); stroke-opacity: 1; stroke-width: 2px;\"/></g><path class=\"xlines-below\"/><path class=\"ylines-below\"/><g class=\"overlines-below\"/><g class=\"xaxislayer-below\"/><g class=\"yaxislayer-below\"/><g class=\"overaxes-below\"/><g class=\"plot\" transform=\"translate(83,374.8543209876539)\" clip-path=\"url('#clip95d364x2y2plot')\"><g class=\"scatterlayer mlayer\"><g class=\"trace scatter trace1ca76819-2775-43fc-823c-5facda6ab825\" style=\"stroke-miterlimit: 2; opacity: 1;\"><g class=\"fills\"/><g class=\"errorbars\"/><g class=\"lines\"><path class=\"js-line\" d=\"M35.89,16.21L177.19,186.11L318.5,123.33L459.81,232.96L601.11,216.09\" style=\"vector-effect: non-scaling-stroke; fill: none; stroke: rgb(44, 160, 44); stroke-opacity: 1; stroke-width: 2px; opacity: 1;\"/></g><g class=\"points\"><path class=\"point\" transform=\"translate(35.89,16.21)\" d=\"M3,0A3,3 0 1,1 0,-3A3,3 0 0,1 3,0Z\" style=\"opacity: 1; stroke-width: 0px; fill: rgb(44, 160, 44); fill-opacity: 1;\"/><path class=\"point\" transform=\"translate(177.19,186.11)\" d=\"M3,0A3,3 0 1,1 0,-3A3,3 0 0,1 3,0Z\" style=\"opacity: 1; stroke-width: 0px; fill: rgb(44, 160, 44); fill-opacity: 1;\"/><path class=\"point\" transform=\"translate(318.5,123.33)\" d=\"M3,0A3,3 0 1,1 0,-3A3,3 0 0,1 3,0Z\" style=\"opacity: 1; stroke-width: 0px; fill: rgb(44, 160, 44); fill-opacity: 1;\"/><path class=\"point\" transform=\"translate(459.81,232.96)\" d=\"M3,0A3,3 0 1,1 0,-3A3,3 0 0,1 3,0Z\" style=\"opacity: 1; stroke-width: 0px; fill: rgb(44, 160, 44); fill-opacity: 1;\"/><path class=\"point\" transform=\"translate(601.11,216.09)\" d=\"M3,0A3,3 0 1,1 0,-3A3,3 0 0,1 3,0Z\" style=\"opacity: 1; stroke-width: 0px; fill: rgb(44, 160, 44); fill-opacity: 1;\"/></g><g class=\"text\"/></g></g></g><g class=\"overplot\"/><path class=\"xlines-above crisp\" d=\"M0,0\" style=\"fill: none;\"/><path class=\"ylines-above crisp\" d=\"M0,0\" style=\"fill: none;\"/><g class=\"overlines-above\"/><g class=\"xaxislayer-above\"/><g class=\"yaxislayer-above\"><g class=\"y2tick\"><text text-anchor=\"end\" x=\"82\" y=\"4.199999999999999\" transform=\"translate(0,606.5543209876539)\" style=\"font-family: 'Open Sans', verdana, arial, sans-serif; font-size: 12px; fill: rgb(42, 63, 95); fill-opacity: 1; white-space: pre;\">−0.5</text></g><g class=\"y2tick\"><text text-anchor=\"end\" x=\"82\" y=\"4.199999999999999\" transform=\"translate(0,528.484320987654)\" style=\"font-family: 'Open Sans', verdana, arial, sans-serif; font-size: 12px; fill: rgb(42, 63, 95); fill-opacity: 1; white-space: pre;\">0</text></g><g class=\"y2tick\"><text text-anchor=\"end\" x=\"82\" y=\"4.199999999999999\" transform=\"translate(0,450.4143209876539)\" style=\"font-family: 'Open Sans', verdana, arial, sans-serif; font-size: 12px; fill: rgb(42, 63, 95); fill-opacity: 1; white-space: pre;\">0.5</text></g></g><g class=\"overaxes-above\"/></g><g class=\"subplot x3y3\"><g class=\"layer-subplot\"><g class=\"shapelayer\"/><g class=\"imagelayer\"/></g><g class=\"gridlayer\"><g class=\"x3\"><path class=\"x3grid crisp\" transform=\"translate(118.89,0)\" d=\"M0,661.7086419753084v249.16543209876554\" style=\"stroke: rgb(255, 255, 255); stroke-opacity: 1; stroke-width: 1px;\"/><path class=\"x3grid crisp\" transform=\"translate(260.19,0)\" d=\"M0,661.7086419753084v249.16543209876554\" style=\"stroke: rgb(255, 255, 255); stroke-opacity: 1; stroke-width: 1px;\"/><path class=\"x3grid crisp\" transform=\"translate(401.5,0)\" d=\"M0,661.7086419753084v249.16543209876554\" style=\"stroke: rgb(255, 255, 255); stroke-opacity: 1; stroke-width: 1px;\"/><path class=\"x3grid crisp\" transform=\"translate(542.81,0)\" d=\"M0,661.7086419753084v249.16543209876554\" style=\"stroke: rgb(255, 255, 255); stroke-opacity: 1; stroke-width: 1px;\"/><path class=\"x3grid crisp\" transform=\"translate(684.11,0)\" d=\"M0,661.7086419753084v249.16543209876554\" style=\"stroke: rgb(255, 255, 255); stroke-opacity: 1; stroke-width: 1px;\"/></g><g class=\"y3\"><path class=\"y3grid crisp\" transform=\"translate(0,840.7186419753084)\" d=\"M83,0h637\" style=\"stroke: rgb(255, 255, 255); stroke-opacity: 1; stroke-width: 1px;\"/><path class=\"y3grid crisp\" transform=\"translate(0,786.7686419753084)\" d=\"M83,0h637\" style=\"stroke: rgb(255, 255, 255); stroke-opacity: 1; stroke-width: 1px;\"/><path class=\"y3grid crisp\" transform=\"translate(0,732.8186419753084)\" d=\"M83,0h637\" style=\"stroke: rgb(255, 255, 255); stroke-opacity: 1; stroke-width: 1px;\"/><path class=\"y3grid crisp\" transform=\"translate(0,678.8686419753084)\" d=\"M83,0h637\" style=\"stroke: rgb(255, 255, 255); stroke-opacity: 1; stroke-width: 1px;\"/></g></g><g class=\"zerolinelayer\"><path class=\"y3zl zl crisp\" transform=\"translate(0,894.6686419753084)\" d=\"M83,0h637\" style=\"stroke: rgb(255, 255, 255); stroke-opacity: 1; stroke-width: 2px;\"/></g><path class=\"xlines-below\"/><path class=\"ylines-below\"/><g class=\"overlines-below\"/><g class=\"xaxislayer-below\"/><g class=\"yaxislayer-below\"/><g class=\"overaxes-below\"/><g class=\"plot\" transform=\"translate(83,661.7086419753084)\" clip-path=\"url('#clip95d364x3y3plot')\"><g class=\"scatterlayer mlayer\"><g class=\"trace scatter trace91609dd9-56bb-4697-a630-4f182ea86757\" style=\"stroke-miterlimit: 2;\"><g class=\"fills\"><g><path class=\"js-fill\" d=\"M35.89,16.21L601.11,17.2L601.11,232.96L35.89,232.96Z\" style=\"fill: rgb(44, 160, 44); fill-opacity: 0.3; stroke-width: 0;\"/></g></g><g class=\"errorbars\"/><g class=\"lines\"><path class=\"js-line\" d=\"M35.89,232.96L601.11,232.96\" style=\"vector-effect: non-scaling-stroke; fill: none; stroke: rgb(0, 0, 0); stroke-opacity: 0; stroke-width: 0px; opacity: 1;\"/></g><g class=\"points\"><path class=\"point\" transform=\"translate(35.89,232.96)\" d=\"M3,0A3,3 0 1,1 0,-3A3,3 0 0,1 3,0Z\" style=\"opacity: 1; stroke-width: 0px; fill: rgb(0, 0, 0); fill-opacity: 0;\"/><path class=\"point\" transform=\"translate(177.19,232.96)\" d=\"M3,0A3,3 0 1,1 0,-3A3,3 0 0,1 3,0Z\" style=\"opacity: 1; stroke-width: 0px; fill: rgb(0, 0, 0); fill-opacity: 0;\"/><path class=\"point\" transform=\"translate(318.5,232.96)\" d=\"M3,0A3,3 0 1,1 0,-3A3,3 0 0,1 3,0Z\" style=\"opacity: 1; stroke-width: 0px; fill: rgb(0, 0, 0); fill-opacity: 0;\"/><path class=\"point\" transform=\"translate(459.81,232.96)\" d=\"M3,0A3,3 0 1,1 0,-3A3,3 0 0,1 3,0Z\" style=\"opacity: 1; stroke-width: 0px; fill: rgb(0, 0, 0); fill-opacity: 0;\"/><path class=\"point\" transform=\"translate(601.11,232.96)\" d=\"M3,0A3,3 0 1,1 0,-3A3,3 0 0,1 3,0Z\" style=\"opacity: 1; stroke-width: 0px; fill: rgb(0, 0, 0); fill-opacity: 0;\"/></g><g class=\"text\"/></g><g class=\"trace scatter traced6fc91eb-10dd-4b38-844a-e873290035cb\" style=\"stroke-miterlimit: 2;\"><g class=\"fills\"/><g class=\"errorbars\"/><g class=\"lines\"><path class=\"js-line\" d=\"M35.89,16.21L601.11,17.2\" style=\"vector-effect: non-scaling-stroke; fill: none; stroke: rgb(0, 0, 0); stroke-opacity: 0; stroke-width: 0px; opacity: 1;\"/></g><g class=\"points\"><path class=\"point\" transform=\"translate(35.89,16.21)\" d=\"M3,0A3,3 0 1,1 0,-3A3,3 0 0,1 3,0Z\" style=\"opacity: 1; stroke-width: 0px; fill: rgb(0, 0, 0); fill-opacity: 0;\"/><path class=\"point\" transform=\"translate(177.19,16.43)\" d=\"M3,0A3,3 0 1,1 0,-3A3,3 0 0,1 3,0Z\" style=\"opacity: 1; stroke-width: 0px; fill: rgb(0, 0, 0); fill-opacity: 0;\"/><path class=\"point\" transform=\"translate(318.5,16.22)\" d=\"M3,0A3,3 0 1,1 0,-3A3,3 0 0,1 3,0Z\" style=\"opacity: 1; stroke-width: 0px; fill: rgb(0, 0, 0); fill-opacity: 0;\"/><path class=\"point\" transform=\"translate(459.81,16.77)\" d=\"M3,0A3,3 0 1,1 0,-3A3,3 0 0,1 3,0Z\" style=\"opacity: 1; stroke-width: 0px; fill: rgb(0, 0, 0); fill-opacity: 0;\"/><path class=\"point\" transform=\"translate(601.11,17.2)\" d=\"M3,0A3,3 0 1,1 0,-3A3,3 0 0,1 3,0Z\" style=\"opacity: 1; stroke-width: 0px; fill: rgb(0, 0, 0); fill-opacity: 0;\"/></g><g class=\"text\"/></g><g class=\"trace scatter traced81006e2-8190-4025-a8a0-3dcb9b9e7886\" style=\"stroke-miterlimit: 2; opacity: 1;\"><g class=\"fills\"/><g class=\"errorbars\"/><g class=\"lines\"><path class=\"js-line\" d=\"M35.89,16.21L601.11,17.2\" style=\"vector-effect: non-scaling-stroke; fill: none; stroke: rgb(44, 160, 44); stroke-opacity: 1; stroke-width: 2px; opacity: 1;\"/></g><g class=\"points\"><path class=\"point\" transform=\"translate(35.89,16.21)\" d=\"M3,0A3,3 0 1,1 0,-3A3,3 0 0,1 3,0Z\" style=\"opacity: 1; stroke-width: 0px; fill: rgb(44, 160, 44); fill-opacity: 1;\"/><path class=\"point\" transform=\"translate(177.19,16.43)\" d=\"M3,0A3,3 0 1,1 0,-3A3,3 0 0,1 3,0Z\" style=\"opacity: 1; stroke-width: 0px; fill: rgb(44, 160, 44); fill-opacity: 1;\"/><path class=\"point\" transform=\"translate(318.5,16.22)\" d=\"M3,0A3,3 0 1,1 0,-3A3,3 0 0,1 3,0Z\" style=\"opacity: 1; stroke-width: 0px; fill: rgb(44, 160, 44); fill-opacity: 1;\"/><path class=\"point\" transform=\"translate(459.81,16.77)\" d=\"M3,0A3,3 0 1,1 0,-3A3,3 0 0,1 3,0Z\" style=\"opacity: 1; stroke-width: 0px; fill: rgb(44, 160, 44); fill-opacity: 1;\"/><path class=\"point\" transform=\"translate(601.11,17.2)\" d=\"M3,0A3,3 0 1,1 0,-3A3,3 0 0,1 3,0Z\" style=\"opacity: 1; stroke-width: 0px; fill: rgb(44, 160, 44); fill-opacity: 1;\"/></g><g class=\"text\"/></g><g class=\"trace scatter traceceb9a845-229c-4308-a786-42172a414e0c\" style=\"stroke-miterlimit: 2; opacity: 0;\"><g class=\"fills\"/><g class=\"errorbars\"/><g class=\"lines\"><path class=\"js-line\" d=\"M35.89,232.96L601.11,232.96\" style=\"vector-effect: non-scaling-stroke; fill: none; stroke: rgb(0, 0, 0); stroke-opacity: 0; stroke-width: 0px; opacity: 1;\"/></g><g class=\"points\"><path class=\"point\" transform=\"translate(35.89,232.96)\" d=\"M3,0A3,3 0 1,1 0,-3A3,3 0 0,1 3,0Z\" style=\"opacity: 1; stroke-width: 0px; fill: rgb(0, 0, 0); fill-opacity: 0;\"/><path class=\"point\" transform=\"translate(177.19,232.96)\" d=\"M3,0A3,3 0 1,1 0,-3A3,3 0 0,1 3,0Z\" style=\"opacity: 1; stroke-width: 0px; fill: rgb(0, 0, 0); fill-opacity: 0;\"/><path class=\"point\" transform=\"translate(318.5,232.96)\" d=\"M3,0A3,3 0 1,1 0,-3A3,3 0 0,1 3,0Z\" style=\"opacity: 1; stroke-width: 0px; fill: rgb(0, 0, 0); fill-opacity: 0;\"/><path class=\"point\" transform=\"translate(459.81,232.96)\" d=\"M3,0A3,3 0 1,1 0,-3A3,3 0 0,1 3,0Z\" style=\"opacity: 1; stroke-width: 0px; fill: rgb(0, 0, 0); fill-opacity: 0;\"/><path class=\"point\" transform=\"translate(601.11,232.96)\" d=\"M3,0A3,3 0 1,1 0,-3A3,3 0 0,1 3,0Z\" style=\"opacity: 1; stroke-width: 0px; fill: rgb(0, 0, 0); fill-opacity: 0;\"/></g><g class=\"text\"/></g></g></g><g class=\"overplot\"/><path class=\"xlines-above crisp\" d=\"M0,0\" style=\"fill: none;\"/><path class=\"ylines-above crisp\" d=\"M0,0\" style=\"fill: none;\"/><g class=\"overlines-above\"/><g class=\"xaxislayer-above\"/><g class=\"yaxislayer-above\"><g class=\"y3tick\"><text text-anchor=\"end\" x=\"82\" y=\"4.199999999999999\" transform=\"translate(0,894.6686419753084)\" style=\"font-family: 'Open Sans', verdana, arial, sans-serif; font-size: 12px; fill: rgb(42, 63, 95); fill-opacity: 1; white-space: pre;\">0</text></g><g class=\"y3tick\"><text text-anchor=\"end\" x=\"82\" y=\"4.199999999999999\" transform=\"translate(0,840.7186419753084)\" style=\"font-family: 'Open Sans', verdana, arial, sans-serif; font-size: 12px; fill: rgb(42, 63, 95); fill-opacity: 1; white-space: pre;\">50</text></g><g class=\"y3tick\"><text text-anchor=\"end\" x=\"82\" y=\"4.199999999999999\" transform=\"translate(0,786.7686419753084)\" style=\"font-family: 'Open Sans', verdana, arial, sans-serif; font-size: 12px; fill: rgb(42, 63, 95); fill-opacity: 1; white-space: pre;\">100</text></g><g class=\"y3tick\"><text text-anchor=\"end\" x=\"82\" y=\"4.199999999999999\" transform=\"translate(0,732.8186419753084)\" style=\"font-family: 'Open Sans', verdana, arial, sans-serif; font-size: 12px; fill: rgb(42, 63, 95); fill-opacity: 1; white-space: pre;\">150</text></g><g class=\"y3tick\"><text text-anchor=\"end\" x=\"82\" y=\"4.199999999999999\" transform=\"translate(0,678.8686419753084)\" style=\"font-family: 'Open Sans', verdana, arial, sans-serif; font-size: 12px; fill: rgb(42, 63, 95); fill-opacity: 1; white-space: pre;\">200</text></g></g><g class=\"overaxes-above\"/></g><g class=\"subplot x4y4\"><g class=\"layer-subplot\"><g class=\"shapelayer\"/><g class=\"imagelayer\"/></g><g class=\"gridlayer\"><g class=\"x4\"><path class=\"x4grid crisp\" transform=\"translate(118.89,0)\" d=\"M0,948.5629629629628v249.16543209876554\" style=\"stroke: rgb(255, 255, 255); stroke-opacity: 1; stroke-width: 1px;\"/><path class=\"x4grid crisp\" transform=\"translate(260.19,0)\" d=\"M0,948.5629629629628v249.16543209876554\" style=\"stroke: rgb(255, 255, 255); stroke-opacity: 1; stroke-width: 1px;\"/><path class=\"x4grid crisp\" transform=\"translate(401.5,0)\" d=\"M0,948.5629629629628v249.16543209876554\" style=\"stroke: rgb(255, 255, 255); stroke-opacity: 1; stroke-width: 1px;\"/><path class=\"x4grid crisp\" transform=\"translate(542.81,0)\" d=\"M0,948.5629629629628v249.16543209876554\" style=\"stroke: rgb(255, 255, 255); stroke-opacity: 1; stroke-width: 1px;\"/><path class=\"x4grid crisp\" transform=\"translate(684.11,0)\" d=\"M0,948.5629629629628v249.16543209876554\" style=\"stroke: rgb(255, 255, 255); stroke-opacity: 1; stroke-width: 1px;\"/></g><g class=\"y4\"><path class=\"y4grid crisp\" transform=\"translate(0,1181.5229629629628)\" d=\"M83,0h637\" style=\"stroke: rgb(255, 255, 255); stroke-opacity: 1; stroke-width: 1px;\"/><path class=\"y4grid crisp\" transform=\"translate(0,1138.1729629629629)\" d=\"M83,0h637\" style=\"stroke: rgb(255, 255, 255); stroke-opacity: 1; stroke-width: 1px;\"/><path class=\"y4grid crisp\" transform=\"translate(0,1094.8229629629627)\" d=\"M83,0h637\" style=\"stroke: rgb(255, 255, 255); stroke-opacity: 1; stroke-width: 1px;\"/><path class=\"y4grid crisp\" transform=\"translate(0,1051.4729629629628)\" d=\"M83,0h637\" style=\"stroke: rgb(255, 255, 255); stroke-opacity: 1; stroke-width: 1px;\"/><path class=\"y4grid crisp\" transform=\"translate(0,1008.1229629629629)\" d=\"M83,0h637\" style=\"stroke: rgb(255, 255, 255); stroke-opacity: 1; stroke-width: 1px;\"/></g></g><g class=\"zerolinelayer\"><path class=\"y4zl zl crisp\" transform=\"translate(0,964.7729629629629)\" d=\"M83,0h637\" style=\"stroke: rgb(255, 255, 255); stroke-opacity: 1; stroke-width: 2px;\"/></g><path class=\"xlines-below\"/><path class=\"ylines-below\"/><g class=\"overlines-below\"/><g class=\"xaxislayer-below\"/><g class=\"yaxislayer-below\"/><g class=\"overaxes-below\"/><g class=\"plot\" transform=\"translate(83,948.5629629629628)\" clip-path=\"url('#clip95d364x4y4plot')\"><g class=\"scatterlayer mlayer\"><g class=\"trace scatter trace53c06ef6-4181-45c6-be86-028b168b4ca1\" style=\"stroke-miterlimit: 2;\"><g class=\"fills\"><g><path class=\"js-fill\" d=\"M35.89,59.56L177.19,102.91L318.5,16.21L459.81,189.61L601.11,232.96L601.11,16.21L35.89,16.21Z\" style=\"fill: rgb(255, 127, 14); fill-opacity: 0.3; stroke-width: 0;\"/></g></g><g class=\"errorbars\"/><g class=\"lines\"><path class=\"js-line\" d=\"M35.89,16.21L601.11,16.21\" style=\"vector-effect: non-scaling-stroke; fill: none; stroke: rgb(0, 0, 0); stroke-opacity: 0; stroke-width: 0px; opacity: 1;\"/></g><g class=\"points\"><path class=\"point\" transform=\"translate(35.89,16.21)\" d=\"M3,0A3,3 0 1,1 0,-3A3,3 0 0,1 3,0Z\" style=\"opacity: 1; stroke-width: 0px; fill: rgb(0, 0, 0); fill-opacity: 0;\"/><path class=\"point\" transform=\"translate(177.19,16.21)\" d=\"M3,0A3,3 0 1,1 0,-3A3,3 0 0,1 3,0Z\" style=\"opacity: 1; stroke-width: 0px; fill: rgb(0, 0, 0); fill-opacity: 0;\"/><path class=\"point\" transform=\"translate(318.5,16.21)\" d=\"M3,0A3,3 0 1,1 0,-3A3,3 0 0,1 3,0Z\" style=\"opacity: 1; stroke-width: 0px; fill: rgb(0, 0, 0); fill-opacity: 0;\"/><path class=\"point\" transform=\"translate(459.81,16.21)\" d=\"M3,0A3,3 0 1,1 0,-3A3,3 0 0,1 3,0Z\" style=\"opacity: 1; stroke-width: 0px; fill: rgb(0, 0, 0); fill-opacity: 0;\"/><path class=\"point\" transform=\"translate(601.11,16.21)\" d=\"M3,0A3,3 0 1,1 0,-3A3,3 0 0,1 3,0Z\" style=\"opacity: 1; stroke-width: 0px; fill: rgb(0, 0, 0); fill-opacity: 0;\"/></g><g class=\"text\"/></g><g class=\"trace scatter tracea14ae77a-8610-4ffa-ae1c-ffefb71c4c17\" style=\"stroke-miterlimit: 2;\"><g class=\"fills\"/><g class=\"errorbars\"/><g class=\"lines\"><path class=\"js-line\" d=\"M35.89,59.56L177.19,102.91L318.5,16.21L459.81,189.61L601.11,232.96\" style=\"vector-effect: non-scaling-stroke; fill: none; stroke: rgb(0, 0, 0); stroke-opacity: 0; stroke-width: 0px; opacity: 1;\"/></g><g class=\"points\"><path class=\"point\" transform=\"translate(35.89,59.56)\" d=\"M3,0A3,3 0 1,1 0,-3A3,3 0 0,1 3,0Z\" style=\"opacity: 1; stroke-width: 0px; fill: rgb(0, 0, 0); fill-opacity: 0;\"/><path class=\"point\" transform=\"translate(177.19,102.91)\" d=\"M3,0A3,3 0 1,1 0,-3A3,3 0 0,1 3,0Z\" style=\"opacity: 1; stroke-width: 0px; fill: rgb(0, 0, 0); fill-opacity: 0;\"/><path class=\"point\" transform=\"translate(318.5,16.21)\" d=\"M3,0A3,3 0 1,1 0,-3A3,3 0 0,1 3,0Z\" style=\"opacity: 1; stroke-width: 0px; fill: rgb(0, 0, 0); fill-opacity: 0;\"/><path class=\"point\" transform=\"translate(459.81,189.61)\" d=\"M3,0A3,3 0 1,1 0,-3A3,3 0 0,1 3,0Z\" style=\"opacity: 1; stroke-width: 0px; fill: rgb(0, 0, 0); fill-opacity: 0;\"/><path class=\"point\" transform=\"translate(601.11,232.96)\" d=\"M3,0A3,3 0 1,1 0,-3A3,3 0 0,1 3,0Z\" style=\"opacity: 1; stroke-width: 0px; fill: rgb(0, 0, 0); fill-opacity: 0;\"/></g><g class=\"text\"/></g><g class=\"trace scatter trace8da252fe-21e1-49c2-8e9a-c55d5eabce2c\" style=\"stroke-miterlimit: 2; opacity: 1;\"><g class=\"fills\"/><g class=\"errorbars\"/><g class=\"lines\"><path class=\"js-line\" d=\"M35.89,59.56L177.19,102.91\" style=\"vector-effect: non-scaling-stroke; fill: none; stroke: rgb(23, 190, 207); stroke-opacity: 1; stroke-width: 2px; opacity: 1;\"/><path class=\"js-line\" d=\"M459.81,189.61L601.11,232.96\" style=\"vector-effect: non-scaling-stroke; fill: none; stroke: rgb(23, 190, 207); stroke-opacity: 1; stroke-width: 2px; opacity: 1;\"/></g><g class=\"points\"><path class=\"point\" transform=\"translate(35.89,59.56)\" d=\"M3,0A3,3 0 1,1 0,-3A3,3 0 0,1 3,0Z\" style=\"opacity: 1; stroke-width: 0px; fill: rgb(23, 190, 207); fill-opacity: 1;\"/><path class=\"point\" transform=\"translate(177.19,102.91)\" d=\"M3,0A3,3 0 1,1 0,-3A3,3 0 0,1 3,0Z\" style=\"opacity: 1; stroke-width: 0px; fill: rgb(23, 190, 207); fill-opacity: 1;\"/><path class=\"point\" transform=\"translate(459.81,189.61)\" d=\"M3,0A3,3 0 1,1 0,-3A3,3 0 0,1 3,0Z\" style=\"opacity: 1; stroke-width: 0px; fill: rgb(23, 190, 207); fill-opacity: 1;\"/><path class=\"point\" transform=\"translate(601.11,232.96)\" d=\"M3,0A3,3 0 1,1 0,-3A3,3 0 0,1 3,0Z\" style=\"opacity: 1; stroke-width: 0px; fill: rgb(23, 190, 207); fill-opacity: 1;\"/></g><g class=\"text\"/></g><g class=\"trace scatter trace6ad9f9ff-3a24-4899-ade0-50e4c8ccc494\" style=\"stroke-miterlimit: 2; opacity: 0;\"><g class=\"fills\"/><g class=\"errorbars\"/><g class=\"lines\"><path class=\"js-line\" d=\"M35.89,16.21L601.11,16.21\" style=\"vector-effect: non-scaling-stroke; fill: none; stroke: rgb(0, 0, 0); stroke-opacity: 0; stroke-width: 0px; opacity: 1;\"/></g><g class=\"points\"><path class=\"point\" transform=\"translate(35.89,16.21)\" d=\"M3,0A3,3 0 1,1 0,-3A3,3 0 0,1 3,0Z\" style=\"opacity: 1; stroke-width: 0px; fill: rgb(0, 0, 0); fill-opacity: 0;\"/><path class=\"point\" transform=\"translate(177.19,16.21)\" d=\"M3,0A3,3 0 1,1 0,-3A3,3 0 0,1 3,0Z\" style=\"opacity: 1; stroke-width: 0px; fill: rgb(0, 0, 0); fill-opacity: 0;\"/><path class=\"point\" transform=\"translate(318.5,16.21)\" d=\"M3,0A3,3 0 1,1 0,-3A3,3 0 0,1 3,0Z\" style=\"opacity: 1; stroke-width: 0px; fill: rgb(0, 0, 0); fill-opacity: 0;\"/><path class=\"point\" transform=\"translate(459.81,16.21)\" d=\"M3,0A3,3 0 1,1 0,-3A3,3 0 0,1 3,0Z\" style=\"opacity: 1; stroke-width: 0px; fill: rgb(0, 0, 0); fill-opacity: 0;\"/><path class=\"point\" transform=\"translate(601.11,16.21)\" d=\"M3,0A3,3 0 1,1 0,-3A3,3 0 0,1 3,0Z\" style=\"opacity: 1; stroke-width: 0px; fill: rgb(0, 0, 0); fill-opacity: 0;\"/></g><g class=\"text\"/></g></g></g><g class=\"overplot\"/><path class=\"xlines-above crisp\" d=\"M0,0\" style=\"fill: none;\"/><path class=\"ylines-above crisp\" d=\"M0,0\" style=\"fill: none;\"/><g class=\"overlines-above\"/><g class=\"xaxislayer-above\"/><g class=\"yaxislayer-above\"><g class=\"y4tick\"><text text-anchor=\"end\" x=\"82\" y=\"4.199999999999999\" transform=\"translate(0,1181.5229629629628)\" style=\"font-family: 'Open Sans', verdana, arial, sans-serif; font-size: 12px; fill: rgb(42, 63, 95); fill-opacity: 1; white-space: pre;\">−5</text></g><g class=\"y4tick\"><text text-anchor=\"end\" x=\"82\" y=\"4.199999999999999\" transform=\"translate(0,1138.1729629629629)\" style=\"font-family: 'Open Sans', verdana, arial, sans-serif; font-size: 12px; fill: rgb(42, 63, 95); fill-opacity: 1; white-space: pre;\">−4</text></g><g class=\"y4tick\"><text text-anchor=\"end\" x=\"82\" y=\"4.199999999999999\" transform=\"translate(0,1094.8229629629627)\" style=\"font-family: 'Open Sans', verdana, arial, sans-serif; font-size: 12px; fill: rgb(42, 63, 95); fill-opacity: 1; white-space: pre;\">−3</text></g><g class=\"y4tick\"><text text-anchor=\"end\" x=\"82\" y=\"4.199999999999999\" transform=\"translate(0,1051.4729629629628)\" style=\"font-family: 'Open Sans', verdana, arial, sans-serif; font-size: 12px; fill: rgb(42, 63, 95); fill-opacity: 1; white-space: pre;\">−2</text></g><g class=\"y4tick\"><text text-anchor=\"end\" x=\"82\" y=\"4.199999999999999\" transform=\"translate(0,1008.1229629629629)\" style=\"font-family: 'Open Sans', verdana, arial, sans-serif; font-size: 12px; fill: rgb(42, 63, 95); fill-opacity: 1; white-space: pre;\">−1</text></g><g class=\"y4tick\"><text text-anchor=\"end\" x=\"82\" y=\"4.199999999999999\" transform=\"translate(0,964.7729629629629)\" style=\"font-family: 'Open Sans', verdana, arial, sans-serif; font-size: 12px; fill: rgb(42, 63, 95); fill-opacity: 1; white-space: pre;\">0</text></g></g><g class=\"overaxes-above\"/></g><g class=\"subplot x5y5\"><g class=\"layer-subplot\"><g class=\"shapelayer\"/><g class=\"imagelayer\"/></g><g class=\"gridlayer\"><g class=\"x5\"><path class=\"x5grid crisp\" transform=\"translate(118.89,0)\" d=\"M0,1235.417283950617v249.16543209876554\" style=\"stroke: rgb(255, 255, 255); stroke-opacity: 1; stroke-width: 1px;\"/><path class=\"x5grid crisp\" transform=\"translate(260.19,0)\" d=\"M0,1235.417283950617v249.16543209876554\" style=\"stroke: rgb(255, 255, 255); stroke-opacity: 1; stroke-width: 1px;\"/><path class=\"x5grid crisp\" transform=\"translate(401.5,0)\" d=\"M0,1235.417283950617v249.16543209876554\" style=\"stroke: rgb(255, 255, 255); stroke-opacity: 1; stroke-width: 1px;\"/><path class=\"x5grid crisp\" transform=\"translate(542.81,0)\" d=\"M0,1235.417283950617v249.16543209876554\" style=\"stroke: rgb(255, 255, 255); stroke-opacity: 1; stroke-width: 1px;\"/><path class=\"x5grid crisp\" transform=\"translate(684.11,0)\" d=\"M0,1235.417283950617v249.16543209876554\" style=\"stroke: rgb(255, 255, 255); stroke-opacity: 1; stroke-width: 1px;\"/></g><g class=\"y5\"><path class=\"y5grid crisp\" transform=\"translate(0,1466.5772839506171)\" d=\"M83,0h637\" style=\"stroke: rgb(255, 255, 255); stroke-opacity: 1; stroke-width: 1px;\"/><path class=\"y5grid crisp\" transform=\"translate(0,1423.5872839506171)\" d=\"M83,0h637\" style=\"stroke: rgb(255, 255, 255); stroke-opacity: 1; stroke-width: 1px;\"/><path class=\"y5grid crisp\" transform=\"translate(0,1380.597283950617)\" d=\"M83,0h637\" style=\"stroke: rgb(255, 255, 255); stroke-opacity: 1; stroke-width: 1px;\"/><path class=\"y5grid crisp\" transform=\"translate(0,1337.607283950617)\" d=\"M83,0h637\" style=\"stroke: rgb(255, 255, 255); stroke-opacity: 1; stroke-width: 1px;\"/><path class=\"y5grid crisp\" transform=\"translate(0,1294.617283950617)\" d=\"M83,0h637\" style=\"stroke: rgb(255, 255, 255); stroke-opacity: 1; stroke-width: 1px;\"/><path class=\"y5grid crisp\" transform=\"translate(0,1251.627283950617)\" d=\"M83,0h637\" style=\"stroke: rgb(255, 255, 255); stroke-opacity: 1; stroke-width: 1px;\"/></g></g><g class=\"zerolinelayer\"/><path class=\"xlines-below\"/><path class=\"ylines-below\"/><g class=\"overlines-below\"/><g class=\"xaxislayer-below\"/><g class=\"yaxislayer-below\"/><g class=\"overaxes-below\"/><g class=\"plot\" transform=\"translate(83,1235.417283950617)\" clip-path=\"url('#clip95d364x5y5plot')\"><g class=\"scatterlayer mlayer\"><g class=\"trace scatter trace92ad4f66-4cdf-4613-8d1e-14353166d250\" style=\"stroke-miterlimit: 2;\"><g class=\"fills\"><g><path class=\"js-fill\" d=\"M35.89,21.36L177.19,73.29L318.5,16.21L459.81,172.77L601.11,232.96L601.11,16.21L35.89,16.21Z\" style=\"fill: rgb(255, 0, 0); fill-opacity: 0.3; stroke-width: 0;\"/></g></g><g class=\"errorbars\"/><g class=\"lines\"><path class=\"js-line\" d=\"M35.89,16.21L601.11,16.21\" style=\"vector-effect: non-scaling-stroke; fill: none; stroke: rgb(0, 0, 0); stroke-opacity: 0; stroke-width: 0px; opacity: 1;\"/></g><g class=\"points\"><path class=\"point\" transform=\"translate(35.89,16.21)\" d=\"M3,0A3,3 0 1,1 0,-3A3,3 0 0,1 3,0Z\" style=\"opacity: 1; stroke-width: 0px; fill: rgb(0, 0, 0); fill-opacity: 0;\"/><path class=\"point\" transform=\"translate(177.19,16.21)\" d=\"M3,0A3,3 0 1,1 0,-3A3,3 0 0,1 3,0Z\" style=\"opacity: 1; stroke-width: 0px; fill: rgb(0, 0, 0); fill-opacity: 0;\"/><path class=\"point\" transform=\"translate(318.5,16.21)\" d=\"M3,0A3,3 0 1,1 0,-3A3,3 0 0,1 3,0Z\" style=\"opacity: 1; stroke-width: 0px; fill: rgb(0, 0, 0); fill-opacity: 0;\"/><path class=\"point\" transform=\"translate(459.81,16.21)\" d=\"M3,0A3,3 0 1,1 0,-3A3,3 0 0,1 3,0Z\" style=\"opacity: 1; stroke-width: 0px; fill: rgb(0, 0, 0); fill-opacity: 0;\"/><path class=\"point\" transform=\"translate(601.11,16.21)\" d=\"M3,0A3,3 0 1,1 0,-3A3,3 0 0,1 3,0Z\" style=\"opacity: 1; stroke-width: 0px; fill: rgb(0, 0, 0); fill-opacity: 0;\"/></g><g class=\"text\"/></g><g class=\"trace scatter trace4bc3ac12-b231-440f-a227-f2b9f20e36da\" style=\"stroke-miterlimit: 2;\"><g class=\"fills\"/><g class=\"errorbars\"/><g class=\"lines\"><path class=\"js-line\" d=\"M35.89,21.36L177.19,73.29L318.5,16.21L459.81,172.77L601.11,232.96\" style=\"vector-effect: non-scaling-stroke; fill: none; stroke: rgb(0, 0, 0); stroke-opacity: 0; stroke-width: 0px; opacity: 1;\"/></g><g class=\"points\"><path class=\"point\" transform=\"translate(35.89,21.36)\" d=\"M3,0A3,3 0 1,1 0,-3A3,3 0 0,1 3,0Z\" style=\"opacity: 1; stroke-width: 0px; fill: rgb(0, 0, 0); fill-opacity: 0;\"/><path class=\"point\" transform=\"translate(177.19,73.29)\" d=\"M3,0A3,3 0 1,1 0,-3A3,3 0 0,1 3,0Z\" style=\"opacity: 1; stroke-width: 0px; fill: rgb(0, 0, 0); fill-opacity: 0;\"/><path class=\"point\" transform=\"translate(318.5,16.21)\" d=\"M3,0A3,3 0 1,1 0,-3A3,3 0 0,1 3,0Z\" style=\"opacity: 1; stroke-width: 0px; fill: rgb(0, 0, 0); fill-opacity: 0;\"/><path class=\"point\" transform=\"translate(459.81,172.77)\" d=\"M3,0A3,3 0 1,1 0,-3A3,3 0 0,1 3,0Z\" style=\"opacity: 1; stroke-width: 0px; fill: rgb(0, 0, 0); fill-opacity: 0;\"/><path class=\"point\" transform=\"translate(601.11,232.96)\" d=\"M3,0A3,3 0 1,1 0,-3A3,3 0 0,1 3,0Z\" style=\"opacity: 1; stroke-width: 0px; fill: rgb(0, 0, 0); fill-opacity: 0;\"/></g><g class=\"text\"/></g><g class=\"trace scatter trace817d6550-4107-4f67-b982-46436ab6cf70\" style=\"stroke-miterlimit: 2; opacity: 1;\"><g class=\"fills\"/><g class=\"errorbars\"/><g class=\"lines\"><path class=\"js-line\" d=\"M35.89,21.36L177.19,73.29\" style=\"vector-effect: non-scaling-stroke; fill: none; stroke: rgb(148, 103, 189); stroke-opacity: 1; stroke-width: 2px; opacity: 1;\"/><path class=\"js-line\" d=\"M459.81,172.77L601.11,232.96\" style=\"vector-effect: non-scaling-stroke; fill: none; stroke: rgb(148, 103, 189); stroke-opacity: 1; stroke-width: 2px; opacity: 1;\"/></g><g class=\"points\"><path class=\"point\" transform=\"translate(35.89,21.36)\" d=\"M3,0A3,3 0 1,1 0,-3A3,3 0 0,1 3,0Z\" style=\"opacity: 1; stroke-width: 0px; fill: rgb(148, 103, 189); fill-opacity: 1;\"/><path class=\"point\" transform=\"translate(177.19,73.29)\" d=\"M3,0A3,3 0 1,1 0,-3A3,3 0 0,1 3,0Z\" style=\"opacity: 1; stroke-width: 0px; fill: rgb(148, 103, 189); fill-opacity: 1;\"/><path class=\"point\" transform=\"translate(459.81,172.77)\" d=\"M3,0A3,3 0 1,1 0,-3A3,3 0 0,1 3,0Z\" style=\"opacity: 1; stroke-width: 0px; fill: rgb(148, 103, 189); fill-opacity: 1;\"/><path class=\"point\" transform=\"translate(601.11,232.96)\" d=\"M3,0A3,3 0 1,1 0,-3A3,3 0 0,1 3,0Z\" style=\"opacity: 1; stroke-width: 0px; fill: rgb(148, 103, 189); fill-opacity: 1;\"/></g><g class=\"text\"/></g><g class=\"trace scatter tracebd750943-711a-43b6-8260-a4fda63461e6\" style=\"stroke-miterlimit: 2; opacity: 0;\"><g class=\"fills\"/><g class=\"errorbars\"/><g class=\"lines\"><path class=\"js-line\" d=\"M35.89,16.21L601.11,16.21\" style=\"vector-effect: non-scaling-stroke; fill: none; stroke: rgb(0, 0, 0); stroke-opacity: 0; stroke-width: 0px; opacity: 1;\"/></g><g class=\"points\"><path class=\"point\" transform=\"translate(35.89,16.21)\" d=\"M3,0A3,3 0 1,1 0,-3A3,3 0 0,1 3,0Z\" style=\"opacity: 1; stroke-width: 0px; fill: rgb(0, 0, 0); fill-opacity: 0;\"/><path class=\"point\" transform=\"translate(177.19,16.21)\" d=\"M3,0A3,3 0 1,1 0,-3A3,3 0 0,1 3,0Z\" style=\"opacity: 1; stroke-width: 0px; fill: rgb(0, 0, 0); fill-opacity: 0;\"/><path class=\"point\" transform=\"translate(318.5,16.21)\" d=\"M3,0A3,3 0 1,1 0,-3A3,3 0 0,1 3,0Z\" style=\"opacity: 1; stroke-width: 0px; fill: rgb(0, 0, 0); fill-opacity: 0;\"/><path class=\"point\" transform=\"translate(459.81,16.21)\" d=\"M3,0A3,3 0 1,1 0,-3A3,3 0 0,1 3,0Z\" style=\"opacity: 1; stroke-width: 0px; fill: rgb(0, 0, 0); fill-opacity: 0;\"/><path class=\"point\" transform=\"translate(601.11,16.21)\" d=\"M3,0A3,3 0 1,1 0,-3A3,3 0 0,1 3,0Z\" style=\"opacity: 1; stroke-width: 0px; fill: rgb(0, 0, 0); fill-opacity: 0;\"/></g><g class=\"text\"/></g></g></g><g class=\"overplot\"/><path class=\"xlines-above crisp\" d=\"M0,0\" style=\"fill: none;\"/><path class=\"ylines-above crisp\" d=\"M0,0\" style=\"fill: none;\"/><g class=\"overlines-above\"/><g class=\"xaxislayer-above\"/><g class=\"yaxislayer-above\"><g class=\"y5tick\"><text text-anchor=\"end\" x=\"82\" y=\"4.199999999999999\" transform=\"translate(0,1466.5772839506171)\" style=\"font-family: 'Open Sans', verdana, arial, sans-serif; font-size: 12px; fill: rgb(42, 63, 95); fill-opacity: 1; white-space: pre;\">195</text></g><g class=\"y5tick\"><text text-anchor=\"end\" x=\"82\" y=\"4.199999999999999\" transform=\"translate(0,1423.5872839506171)\" style=\"font-family: 'Open Sans', verdana, arial, sans-serif; font-size: 12px; fill: rgb(42, 63, 95); fill-opacity: 1; white-space: pre;\">196</text></g><g class=\"y5tick\"><text text-anchor=\"end\" x=\"82\" y=\"4.199999999999999\" transform=\"translate(0,1380.597283950617)\" style=\"font-family: 'Open Sans', verdana, arial, sans-serif; font-size: 12px; fill: rgb(42, 63, 95); fill-opacity: 1; white-space: pre;\">197</text></g><g class=\"y5tick\"><text text-anchor=\"end\" x=\"82\" y=\"4.199999999999999\" transform=\"translate(0,1337.607283950617)\" style=\"font-family: 'Open Sans', verdana, arial, sans-serif; font-size: 12px; fill: rgb(42, 63, 95); fill-opacity: 1; white-space: pre;\">198</text></g><g class=\"y5tick\"><text text-anchor=\"end\" x=\"82\" y=\"4.199999999999999\" transform=\"translate(0,1294.617283950617)\" style=\"font-family: 'Open Sans', verdana, arial, sans-serif; font-size: 12px; fill: rgb(42, 63, 95); fill-opacity: 1; white-space: pre;\">199</text></g><g class=\"y5tick\"><text text-anchor=\"end\" x=\"82\" y=\"4.199999999999999\" transform=\"translate(0,1251.627283950617)\" style=\"font-family: 'Open Sans', verdana, arial, sans-serif; font-size: 12px; fill: rgb(42, 63, 95); fill-opacity: 1; white-space: pre;\">200</text></g></g><g class=\"overaxes-above\"/></g><g class=\"subplot x6y6\"><g class=\"layer-subplot\"><g class=\"shapelayer\"/><g class=\"imagelayer\"/></g><g class=\"gridlayer\"><g class=\"x6\"><path class=\"x6grid crisp\" transform=\"translate(118.89,0)\" d=\"M0,1522.2716049382716v249.1654320987654\" style=\"stroke: rgb(255, 255, 255); stroke-opacity: 1; stroke-width: 1px;\"/><path class=\"x6grid crisp\" transform=\"translate(260.19,0)\" d=\"M0,1522.2716049382716v249.1654320987654\" style=\"stroke: rgb(255, 255, 255); stroke-opacity: 1; stroke-width: 1px;\"/><path class=\"x6grid crisp\" transform=\"translate(401.5,0)\" d=\"M0,1522.2716049382716v249.1654320987654\" style=\"stroke: rgb(255, 255, 255); stroke-opacity: 1; stroke-width: 1px;\"/><path class=\"x6grid crisp\" transform=\"translate(542.81,0)\" d=\"M0,1522.2716049382716v249.1654320987654\" style=\"stroke: rgb(255, 255, 255); stroke-opacity: 1; stroke-width: 1px;\"/><path class=\"x6grid crisp\" transform=\"translate(684.11,0)\" d=\"M0,1522.2716049382716v249.1654320987654\" style=\"stroke: rgb(255, 255, 255); stroke-opacity: 1; stroke-width: 1px;\"/></g><g class=\"y6\"><path class=\"y6grid crisp\" transform=\"translate(0,1752.7716049382716)\" d=\"M83,0h637\" style=\"stroke: rgb(255, 255, 255); stroke-opacity: 1; stroke-width: 1px;\"/><path class=\"y6grid crisp\" transform=\"translate(0,1708.9816049382716)\" d=\"M83,0h637\" style=\"stroke: rgb(255, 255, 255); stroke-opacity: 1; stroke-width: 1px;\"/><path class=\"y6grid crisp\" transform=\"translate(0,1665.2016049382717)\" d=\"M83,0h637\" style=\"stroke: rgb(255, 255, 255); stroke-opacity: 1; stroke-width: 1px;\"/><path class=\"y6grid crisp\" transform=\"translate(0,1621.4216049382717)\" d=\"M83,0h637\" style=\"stroke: rgb(255, 255, 255); stroke-opacity: 1; stroke-width: 1px;\"/><path class=\"y6grid crisp\" transform=\"translate(0,1577.6416049382715)\" d=\"M83,0h637\" style=\"stroke: rgb(255, 255, 255); stroke-opacity: 1; stroke-width: 1px;\"/><path class=\"y6grid crisp\" transform=\"translate(0,1533.8516049382715)\" d=\"M83,0h637\" style=\"stroke: rgb(255, 255, 255); stroke-opacity: 1; stroke-width: 1px;\"/></g></g><g class=\"zerolinelayer\"/><path class=\"xlines-below\"/><path class=\"ylines-below\"/><g class=\"overlines-below\"/><g class=\"xaxislayer-below\"/><g class=\"yaxislayer-below\"/><g class=\"overaxes-below\"/><g class=\"plot\" transform=\"translate(83,1522.2716049382716)\" clip-path=\"url('#clip95d364x6y6plot')\"><g class=\"scatterlayer mlayer\"><g class=\"trace scatter traced736a4ad-1955-4987-8a9e-02d9c0a13f27\" style=\"stroke-miterlimit: 2; opacity: 1;\"><g class=\"fills\"/><g class=\"errorbars\"/><g class=\"lines\"><path class=\"js-line\" d=\"M35.89,16.83L177.19,69.72\" style=\"vector-effect: non-scaling-stroke; fill: none; stroke: rgb(148, 103, 189); stroke-opacity: 1; stroke-width: 2px; opacity: 1;\"/><path class=\"js-line\" d=\"M459.81,171.04L601.11,232.33\" style=\"vector-effect: non-scaling-stroke; fill: none; stroke: rgb(148, 103, 189); stroke-opacity: 1; stroke-width: 2px; opacity: 1;\"/></g><g class=\"points\"><path class=\"point\" transform=\"translate(35.89,16.83)\" d=\"M3,0A3,3 0 1,1 0,-3A3,3 0 0,1 3,0Z\" style=\"opacity: 1; stroke-width: 0px; fill: rgb(148, 103, 189); fill-opacity: 1;\"/><path class=\"point\" transform=\"translate(177.19,69.72)\" d=\"M3,0A3,3 0 1,1 0,-3A3,3 0 0,1 3,0Z\" style=\"opacity: 1; stroke-width: 0px; fill: rgb(148, 103, 189); fill-opacity: 1;\"/><path class=\"point\" transform=\"translate(459.81,171.04)\" d=\"M3,0A3,3 0 1,1 0,-3A3,3 0 0,1 3,0Z\" style=\"opacity: 1; stroke-width: 0px; fill: rgb(148, 103, 189); fill-opacity: 1;\"/><path class=\"point\" transform=\"translate(601.11,232.33)\" d=\"M3,0A3,3 0 1,1 0,-3A3,3 0 0,1 3,0Z\" style=\"opacity: 1; stroke-width: 0px; fill: rgb(148, 103, 189); fill-opacity: 1;\"/></g><g class=\"text\"/></g><g class=\"trace scatter trace317ce5ef-88ce-4a42-afae-e59490bb6d20\" style=\"stroke-miterlimit: 2; opacity: 1;\"><g class=\"fills\"/><g class=\"errorbars\"/><g class=\"lines\"/><g class=\"points\"><path class=\"point plotly-customdata\" transform=\"translate(35.89,16.83)\" d=\"M4.55,0L0,4.55L-4.55,0L0,-4.55Z\" style=\"opacity: 1; stroke-width: 1px; fill: rgb(66, 133, 244); fill-opacity: 1; stroke: rgb(11, 84, 205); stroke-opacity: 1;\"/></g><g class=\"text\"/></g><g class=\"trace scatter traced3fd1b48-c4e9-4723-a95f-d05e60f22e94\" style=\"stroke-miterlimit: 2; opacity: 1;\"><g class=\"fills\"/><g class=\"errorbars\"/><g class=\"lines\"/><g class=\"points\"><path class=\"point plotly-customdata\" transform=\"translate(601.11,232.33)\" d=\"M4.55,0L0,4.55L-4.55,0L0,-4.55Z\" style=\"opacity: 1; stroke-width: 1px; fill: rgb(255, 170, 0); fill-opacity: 1; stroke: rgb(178, 118, 0); stroke-opacity: 1;\"/></g><g class=\"text\"/></g></g></g><g class=\"overplot\"/><path class=\"xlines-above crisp\" d=\"M0,0\" style=\"fill: none;\"/><path class=\"ylines-above crisp\" d=\"M0,0\" style=\"fill: none;\"/><g class=\"overlines-above\"/><g class=\"xaxislayer-above\"/><g class=\"yaxislayer-above\"><g class=\"y6tick\"><text text-anchor=\"end\" x=\"82\" y=\"4.199999999999999\" transform=\"translate(0,1752.7716049382716)\" style=\"font-family: 'Open Sans', verdana, arial, sans-serif; font-size: 12px; fill: rgb(42, 63, 95); fill-opacity: 1; white-space: pre;\">195</text></g><g class=\"y6tick\"><text text-anchor=\"end\" x=\"82\" y=\"4.199999999999999\" transform=\"translate(0,1708.9816049382716)\" style=\"font-family: 'Open Sans', verdana, arial, sans-serif; font-size: 12px; fill: rgb(42, 63, 95); fill-opacity: 1; white-space: pre;\">196</text></g><g class=\"y6tick\"><text text-anchor=\"end\" x=\"82\" y=\"4.199999999999999\" transform=\"translate(0,1665.2016049382717)\" style=\"font-family: 'Open Sans', verdana, arial, sans-serif; font-size: 12px; fill: rgb(42, 63, 95); fill-opacity: 1; white-space: pre;\">197</text></g><g class=\"y6tick\"><text text-anchor=\"end\" x=\"82\" y=\"4.199999999999999\" transform=\"translate(0,1621.4216049382717)\" style=\"font-family: 'Open Sans', verdana, arial, sans-serif; font-size: 12px; fill: rgb(42, 63, 95); fill-opacity: 1; white-space: pre;\">198</text></g><g class=\"y6tick\"><text text-anchor=\"end\" x=\"82\" y=\"4.199999999999999\" transform=\"translate(0,1577.6416049382715)\" style=\"font-family: 'Open Sans', verdana, arial, sans-serif; font-size: 12px; fill: rgb(42, 63, 95); fill-opacity: 1; white-space: pre;\">199</text></g><g class=\"y6tick\"><text text-anchor=\"end\" x=\"82\" y=\"4.199999999999999\" transform=\"translate(0,1533.8516049382715)\" style=\"font-family: 'Open Sans', verdana, arial, sans-serif; font-size: 12px; fill: rgb(42, 63, 95); fill-opacity: 1; white-space: pre;\">200</text></g></g><g class=\"overaxes-above\"/></g><g class=\"subplot x7y7\"><g class=\"layer-subplot\"><g class=\"shapelayer\"/><g class=\"imagelayer\"/></g><g class=\"gridlayer\"><g class=\"x7\"><path class=\"x7grid crisp\" transform=\"translate(118.89,0)\" d=\"M0,1809.1259259259257v249.1654320987654\" style=\"stroke: rgb(255, 255, 255); stroke-opacity: 1; stroke-width: 1px;\"/><path class=\"x7grid crisp\" transform=\"translate(260.19,0)\" d=\"M0,1809.1259259259257v249.1654320987654\" style=\"stroke: rgb(255, 255, 255); stroke-opacity: 1; stroke-width: 1px;\"/><path class=\"x7grid crisp\" transform=\"translate(401.5,0)\" d=\"M0,1809.1259259259257v249.1654320987654\" style=\"stroke: rgb(255, 255, 255); stroke-opacity: 1; stroke-width: 1px;\"/><path class=\"x7grid crisp\" transform=\"translate(542.81,0)\" d=\"M0,1809.1259259259257v249.1654320987654\" style=\"stroke: rgb(255, 255, 255); stroke-opacity: 1; stroke-width: 1px;\"/><path class=\"x7grid crisp\" transform=\"translate(684.11,0)\" d=\"M0,1809.1259259259257v249.1654320987654\" style=\"stroke: rgb(255, 255, 255); stroke-opacity: 1; stroke-width: 1px;\"/></g><g class=\"y7\"><path class=\"y7grid crisp\" transform=\"translate(0,2022.1159259259257)\" d=\"M83,0h637\" style=\"stroke: rgb(255, 255, 255); stroke-opacity: 1; stroke-width: 1px;\"/><path class=\"y7grid crisp\" transform=\"translate(0,1986.7859259259258)\" d=\"M83,0h637\" style=\"stroke: rgb(255, 255, 255); stroke-opacity: 1; stroke-width: 1px;\"/><path class=\"y7grid crisp\" transform=\"translate(0,1951.4559259259256)\" d=\"M83,0h637\" style=\"stroke: rgb(255, 255, 255); stroke-opacity: 1; stroke-width: 1px;\"/><path class=\"y7grid crisp\" transform=\"translate(0,1916.1159259259257)\" d=\"M83,0h637\" style=\"stroke: rgb(255, 255, 255); stroke-opacity: 1; stroke-width: 1px;\"/><path class=\"y7grid crisp\" transform=\"translate(0,1880.7859259259258)\" d=\"M83,0h637\" style=\"stroke: rgb(255, 255, 255); stroke-opacity: 1; stroke-width: 1px;\"/><path class=\"y7grid crisp\" transform=\"translate(0,1845.4559259259256)\" d=\"M83,0h637\" style=\"stroke: rgb(255, 255, 255); stroke-opacity: 1; stroke-width: 1px;\"/></g></g><g class=\"zerolinelayer\"><path class=\"y7zl zl crisp\" transform=\"translate(0,1810.1259259259257)\" d=\"M83,0h637\" style=\"stroke: rgb(255, 255, 255); stroke-opacity: 1; stroke-width: 2px;\"/></g><path class=\"xlines-below\"/><path class=\"ylines-below\"/><g class=\"overlines-below\"/><g class=\"xaxislayer-below\"/><g class=\"yaxislayer-below\"/><g class=\"overaxes-below\"/><g class=\"plot\" transform=\"translate(83,1809.1259259259257)\" clip-path=\"url('#clip95d364x7y7plot')\"><g class=\"scatterlayer mlayer\"><g class=\"trace scatter trace2e1243de-36ff-47e8-ad37-da7d8b1d3804\" style=\"stroke-miterlimit: 2;\"><g class=\"fills\"><g><path class=\"js-fill\" d=\"M601.11,1L35.89,1L35.89,1L177.19,107.76L318.5,107.76L459.81,107.76L601.11,232.96\" style=\"fill: rgb(220, 57, 18); fill-opacity: 0.3; stroke-width: 0;\"/></g></g><g class=\"errorbars\"/><g class=\"lines\"><path class=\"js-line\" d=\"M35.89,1L177.19,107.76L318.5,107.76L459.81,107.76L601.11,232.96\" style=\"vector-effect: non-scaling-stroke; fill: none; stroke: rgb(220, 57, 18); stroke-opacity: 1; stroke-width: 2px; opacity: 1;\"/></g><g class=\"points\"><path class=\"point\" transform=\"translate(35.89,1)\" d=\"M3,0A3,3 0 1,1 0,-3A3,3 0 0,1 3,0Z\" style=\"opacity: 1; stroke-width: 0px; fill: rgb(220, 57, 18); fill-opacity: 1;\"/><path class=\"point\" transform=\"translate(177.19,107.76)\" d=\"M3,0A3,3 0 1,1 0,-3A3,3 0 0,1 3,0Z\" style=\"opacity: 1; stroke-width: 0px; fill: rgb(220, 57, 18); fill-opacity: 1;\"/><path class=\"point\" transform=\"translate(318.5,107.76)\" d=\"M3,0A3,3 0 1,1 0,-3A3,3 0 0,1 3,0Z\" style=\"opacity: 1; stroke-width: 0px; fill: rgb(220, 57, 18); fill-opacity: 1;\"/><path class=\"point\" transform=\"translate(459.81,107.76)\" d=\"M3,0A3,3 0 1,1 0,-3A3,3 0 0,1 3,0Z\" style=\"opacity: 1; stroke-width: 0px; fill: rgb(220, 57, 18); fill-opacity: 1;\"/><path class=\"point\" transform=\"translate(601.11,232.96)\" d=\"M3,0A3,3 0 1,1 0,-3A3,3 0 0,1 3,0Z\" style=\"opacity: 1; stroke-width: 0px; fill: rgb(220, 57, 18); fill-opacity: 1;\"/></g><g class=\"text\"/></g></g></g><g class=\"overplot\"/><path class=\"xlines-above crisp\" d=\"M0,0\" style=\"fill: none;\"/><path class=\"ylines-above crisp\" d=\"M0,0\" style=\"fill: none;\"/><g class=\"overlines-above\"/><g class=\"xaxislayer-above\"/><g class=\"yaxislayer-above\"><g class=\"y7tick\"><text text-anchor=\"end\" x=\"82\" y=\"4.199999999999999\" transform=\"translate(0,2057.4459259259256)\" style=\"font-family: 'Open Sans', verdana, arial, sans-serif; font-size: 12px; fill: rgb(42, 63, 95); fill-opacity: 1; white-space: pre;\">−1%</text></g><g class=\"y7tick\"><text text-anchor=\"end\" x=\"82\" y=\"4.199999999999999\" transform=\"translate(0,2022.1159259259257)\" style=\"font-family: 'Open Sans', verdana, arial, sans-serif; font-size: 12px; fill: rgb(42, 63, 95); fill-opacity: 1; white-space: pre;\">−1%</text></g><g class=\"y7tick\"><text text-anchor=\"end\" x=\"82\" y=\"4.199999999999999\" transform=\"translate(0,1986.7859259259258)\" style=\"font-family: 'Open Sans', verdana, arial, sans-serif; font-size: 12px; fill: rgb(42, 63, 95); fill-opacity: 1; white-space: pre;\">−1%</text></g><g class=\"y7tick\"><text text-anchor=\"end\" x=\"82\" y=\"4.199999999999999\" transform=\"translate(0,1951.4559259259256)\" style=\"font-family: 'Open Sans', verdana, arial, sans-serif; font-size: 12px; fill: rgb(42, 63, 95); fill-opacity: 1; white-space: pre;\">−1%</text></g><g class=\"y7tick\"><text text-anchor=\"end\" x=\"82\" y=\"4.199999999999999\" transform=\"translate(0,1916.1159259259257)\" style=\"font-family: 'Open Sans', verdana, arial, sans-serif; font-size: 12px; fill: rgb(42, 63, 95); fill-opacity: 1; white-space: pre;\">−1%</text></g><g class=\"y7tick\"><text text-anchor=\"end\" x=\"82\" y=\"4.199999999999999\" transform=\"translate(0,1880.7859259259258)\" style=\"font-family: 'Open Sans', verdana, arial, sans-serif; font-size: 12px; fill: rgb(42, 63, 95); fill-opacity: 1; white-space: pre;\">−0%</text></g><g class=\"y7tick\"><text text-anchor=\"end\" x=\"82\" y=\"4.199999999999999\" transform=\"translate(0,1845.4559259259256)\" style=\"font-family: 'Open Sans', verdana, arial, sans-serif; font-size: 12px; fill: rgb(42, 63, 95); fill-opacity: 1; white-space: pre;\">−0%</text></g><g class=\"y7tick\"><text text-anchor=\"end\" x=\"82\" y=\"4.199999999999999\" transform=\"translate(0,1810.1259259259257)\" style=\"font-family: 'Open Sans', verdana, arial, sans-serif; font-size: 12px; fill: rgb(42, 63, 95); fill-opacity: 1; white-space: pre;\">0%</text></g></g><g class=\"overaxes-above\"/></g><g class=\"subplot x8y8\"><g class=\"layer-subplot\"><g class=\"shapelayer\"/><g class=\"imagelayer\"/></g><g class=\"gridlayer\"><g class=\"x8\"><path class=\"x8grid crisp\" transform=\"translate(118.89,0)\" d=\"M0,2095.9802469135802v249.1654320987654\" style=\"stroke: rgb(255, 255, 255); stroke-opacity: 1; stroke-width: 1px;\"/><path class=\"x8grid crisp\" transform=\"translate(260.19,0)\" d=\"M0,2095.9802469135802v249.1654320987654\" style=\"stroke: rgb(255, 255, 255); stroke-opacity: 1; stroke-width: 1px;\"/><path class=\"x8grid crisp\" transform=\"translate(401.5,0)\" d=\"M0,2095.9802469135802v249.1654320987654\" style=\"stroke: rgb(255, 255, 255); stroke-opacity: 1; stroke-width: 1px;\"/><path class=\"x8grid crisp\" transform=\"translate(542.81,0)\" d=\"M0,2095.9802469135802v249.1654320987654\" style=\"stroke: rgb(255, 255, 255); stroke-opacity: 1; stroke-width: 1px;\"/><path class=\"x8grid crisp\" transform=\"translate(684.11,0)\" d=\"M0,2095.9802469135802v249.1654320987654\" style=\"stroke: rgb(255, 255, 255); stroke-opacity: 1; stroke-width: 1px;\"/></g><g class=\"y8\"><path class=\"y8grid crisp\" transform=\"translate(0,2281.25024691358)\" d=\"M83,0h637\" style=\"stroke: rgb(255, 255, 255); stroke-opacity: 1; stroke-width: 1px;\"/><path class=\"y8grid crisp\" transform=\"translate(0,2238.9902469135804)\" d=\"M83,0h637\" style=\"stroke: rgb(255, 255, 255); stroke-opacity: 1; stroke-width: 1px;\"/><path class=\"y8grid crisp\" transform=\"translate(0,2196.72024691358)\" d=\"M83,0h637\" style=\"stroke: rgb(255, 255, 255); stroke-opacity: 1; stroke-width: 1px;\"/><path class=\"y8grid crisp\" transform=\"translate(0,2154.45024691358)\" d=\"M83,0h637\" style=\"stroke: rgb(255, 255, 255); stroke-opacity: 1; stroke-width: 1px;\"/><path class=\"y8grid crisp\" transform=\"translate(0,2112.1902469135803)\" d=\"M83,0h637\" style=\"stroke: rgb(255, 255, 255); stroke-opacity: 1; stroke-width: 1px;\"/></g></g><g class=\"zerolinelayer\"><path class=\"y8zl zl crisp\" transform=\"translate(0,2323.52024691358)\" d=\"M83,0h637\" style=\"stroke: rgb(255, 255, 255); stroke-opacity: 1; stroke-width: 2px;\"/></g><path class=\"xlines-below\"/><path class=\"ylines-below\"/><g class=\"overlines-below\"/><g class=\"xaxislayer-below\"/><g class=\"yaxislayer-below\"/><g class=\"overaxes-below\"/><g class=\"plot\" transform=\"translate(83,2095.9802469135802)\" clip-path=\"url('#clip95d364x8y8plot')\"><g class=\"scatterlayer mlayer\"><g class=\"trace scatter traced11a604c-fa61-4b23-9c35-0d1575c4ac98\" style=\"stroke-miterlimit: 2;\"><g class=\"fills\"><g><path class=\"js-fill\" d=\"M35.89,228.59L177.19,229.66L318.5,16.21L459.81,231.84L601.11,232.96L601.11,16.21L35.89,16.21Z\" style=\"fill: rgb(227, 119, 194); fill-opacity: 0.3; stroke-width: 0;\"/></g></g><g class=\"errorbars\"/><g class=\"lines\"><path class=\"js-line\" d=\"M35.89,16.21L601.11,16.21\" style=\"vector-effect: non-scaling-stroke; fill: none; stroke: rgb(0, 0, 0); stroke-opacity: 0; stroke-width: 0px; opacity: 1;\"/></g><g class=\"points\"><path class=\"point\" transform=\"translate(35.89,16.21)\" d=\"M3,0A3,3 0 1,1 0,-3A3,3 0 0,1 3,0Z\" style=\"opacity: 1; stroke-width: 0px; fill: rgb(0, 0, 0); fill-opacity: 0;\"/><path class=\"point\" transform=\"translate(177.19,16.21)\" d=\"M3,0A3,3 0 1,1 0,-3A3,3 0 0,1 3,0Z\" style=\"opacity: 1; stroke-width: 0px; fill: rgb(0, 0, 0); fill-opacity: 0;\"/><path class=\"point\" transform=\"translate(318.5,16.21)\" d=\"M3,0A3,3 0 1,1 0,-3A3,3 0 0,1 3,0Z\" style=\"opacity: 1; stroke-width: 0px; fill: rgb(0, 0, 0); fill-opacity: 0;\"/><path class=\"point\" transform=\"translate(459.81,16.21)\" d=\"M3,0A3,3 0 1,1 0,-3A3,3 0 0,1 3,0Z\" style=\"opacity: 1; stroke-width: 0px; fill: rgb(0, 0, 0); fill-opacity: 0;\"/><path class=\"point\" transform=\"translate(601.11,16.21)\" d=\"M3,0A3,3 0 1,1 0,-3A3,3 0 0,1 3,0Z\" style=\"opacity: 1; stroke-width: 0px; fill: rgb(0, 0, 0); fill-opacity: 0;\"/></g><g class=\"text\"/></g><g class=\"trace scatter trace4ee8e29c-2a21-4d61-9d89-e22ac5b411b8\" style=\"stroke-miterlimit: 2;\"><g class=\"fills\"/><g class=\"errorbars\"/><g class=\"lines\"><path class=\"js-line\" d=\"M35.89,228.59L177.19,229.66L318.5,16.21L459.81,231.84L601.11,232.96\" style=\"vector-effect: non-scaling-stroke; fill: none; stroke: rgb(0, 0, 0); stroke-opacity: 0; stroke-width: 0px; opacity: 1;\"/></g><g class=\"points\"><path class=\"point\" transform=\"translate(35.89,228.59)\" d=\"M3,0A3,3 0 1,1 0,-3A3,3 0 0,1 3,0Z\" style=\"opacity: 1; stroke-width: 0px; fill: rgb(0, 0, 0); fill-opacity: 0;\"/><path class=\"point\" transform=\"translate(177.19,229.66)\" d=\"M3,0A3,3 0 1,1 0,-3A3,3 0 0,1 3,0Z\" style=\"opacity: 1; stroke-width: 0px; fill: rgb(0, 0, 0); fill-opacity: 0;\"/><path class=\"point\" transform=\"translate(318.5,16.21)\" d=\"M3,0A3,3 0 1,1 0,-3A3,3 0 0,1 3,0Z\" style=\"opacity: 1; stroke-width: 0px; fill: rgb(0, 0, 0); fill-opacity: 0;\"/><path class=\"point\" transform=\"translate(459.81,231.84)\" d=\"M3,0A3,3 0 1,1 0,-3A3,3 0 0,1 3,0Z\" style=\"opacity: 1; stroke-width: 0px; fill: rgb(0, 0, 0); fill-opacity: 0;\"/><path class=\"point\" transform=\"translate(601.11,232.96)\" d=\"M3,0A3,3 0 1,1 0,-3A3,3 0 0,1 3,0Z\" style=\"opacity: 1; stroke-width: 0px; fill: rgb(0, 0, 0); fill-opacity: 0;\"/></g><g class=\"text\"/></g><g class=\"trace scatter traceaef4dce4-e408-4ef7-acdc-8fb536c8c378\" style=\"stroke-miterlimit: 2; opacity: 1;\"><g class=\"fills\"/><g class=\"errorbars\"/><g class=\"lines\"><path class=\"js-line\" d=\"M35.89,228.59L177.19,229.66\" style=\"vector-effect: non-scaling-stroke; fill: none; stroke: rgb(227, 119, 194); stroke-opacity: 1; stroke-width: 2px; opacity: 1;\"/><path class=\"js-line\" d=\"M459.81,231.84L601.11,232.96\" style=\"vector-effect: non-scaling-stroke; fill: none; stroke: rgb(227, 119, 194); stroke-opacity: 1; stroke-width: 2px; opacity: 1;\"/></g><g class=\"points\"><path class=\"point\" transform=\"translate(35.89,228.59)\" d=\"M3,0A3,3 0 1,1 0,-3A3,3 0 0,1 3,0Z\" style=\"opacity: 1; stroke-width: 0px; fill: rgb(227, 119, 194); fill-opacity: 1;\"/><path class=\"point\" transform=\"translate(177.19,229.66)\" d=\"M3,0A3,3 0 1,1 0,-3A3,3 0 0,1 3,0Z\" style=\"opacity: 1; stroke-width: 0px; fill: rgb(227, 119, 194); fill-opacity: 1;\"/><path class=\"point\" transform=\"translate(459.81,231.84)\" d=\"M3,0A3,3 0 1,1 0,-3A3,3 0 0,1 3,0Z\" style=\"opacity: 1; stroke-width: 0px; fill: rgb(227, 119, 194); fill-opacity: 1;\"/><path class=\"point\" transform=\"translate(601.11,232.96)\" d=\"M3,0A3,3 0 1,1 0,-3A3,3 0 0,1 3,0Z\" style=\"opacity: 1; stroke-width: 0px; fill: rgb(227, 119, 194); fill-opacity: 1;\"/></g><g class=\"text\"/></g><g class=\"trace scatter trace22ebdc8a-1c95-41eb-bae9-211e80a83038\" style=\"stroke-miterlimit: 2; opacity: 0;\"><g class=\"fills\"/><g class=\"errorbars\"/><g class=\"lines\"><path class=\"js-line\" d=\"M35.89,16.21L601.11,16.21\" style=\"vector-effect: non-scaling-stroke; fill: none; stroke: rgb(0, 0, 0); stroke-opacity: 0; stroke-width: 0px; opacity: 1;\"/></g><g class=\"points\"><path class=\"point\" transform=\"translate(35.89,16.21)\" d=\"M3,0A3,3 0 1,1 0,-3A3,3 0 0,1 3,0Z\" style=\"opacity: 1; stroke-width: 0px; fill: rgb(0, 0, 0); fill-opacity: 0;\"/><path class=\"point\" transform=\"translate(177.19,16.21)\" d=\"M3,0A3,3 0 1,1 0,-3A3,3 0 0,1 3,0Z\" style=\"opacity: 1; stroke-width: 0px; fill: rgb(0, 0, 0); fill-opacity: 0;\"/><path class=\"point\" transform=\"translate(318.5,16.21)\" d=\"M3,0A3,3 0 1,1 0,-3A3,3 0 0,1 3,0Z\" style=\"opacity: 1; stroke-width: 0px; fill: rgb(0, 0, 0); fill-opacity: 0;\"/><path class=\"point\" transform=\"translate(459.81,16.21)\" d=\"M3,0A3,3 0 1,1 0,-3A3,3 0 0,1 3,0Z\" style=\"opacity: 1; stroke-width: 0px; fill: rgb(0, 0, 0); fill-opacity: 0;\"/><path class=\"point\" transform=\"translate(601.11,16.21)\" d=\"M3,0A3,3 0 1,1 0,-3A3,3 0 0,1 3,0Z\" style=\"opacity: 1; stroke-width: 0px; fill: rgb(0, 0, 0); fill-opacity: 0;\"/></g><g class=\"text\"/></g></g></g><g class=\"overplot\"/><path class=\"xlines-above crisp\" d=\"M0,0\" style=\"fill: none;\"/><path class=\"ylines-above crisp\" d=\"M0,0\" style=\"fill: none;\"/><g class=\"overlines-above\"/><g class=\"xaxislayer-above\"/><g class=\"yaxislayer-above\"><g class=\"y8tick\"><text text-anchor=\"end\" x=\"82\" y=\"4.199999999999999\" transform=\"translate(0,2323.52024691358)\" style=\"font-family: 'Open Sans', verdana, arial, sans-serif; font-size: 12px; fill: rgb(42, 63, 95); fill-opacity: 1; white-space: pre;\">0</text></g><g class=\"y8tick\"><text text-anchor=\"end\" x=\"82\" y=\"4.199999999999999\" transform=\"translate(0,2281.25024691358)\" style=\"font-family: 'Open Sans', verdana, arial, sans-serif; font-size: 12px; fill: rgb(42, 63, 95); fill-opacity: 1; white-space: pre;\">0.2</text></g><g class=\"y8tick\"><text text-anchor=\"end\" x=\"82\" y=\"4.199999999999999\" transform=\"translate(0,2238.9902469135804)\" style=\"font-family: 'Open Sans', verdana, arial, sans-serif; font-size: 12px; fill: rgb(42, 63, 95); fill-opacity: 1; white-space: pre;\">0.4</text></g><g class=\"y8tick\"><text text-anchor=\"end\" x=\"82\" y=\"4.199999999999999\" transform=\"translate(0,2196.72024691358)\" style=\"font-family: 'Open Sans', verdana, arial, sans-serif; font-size: 12px; fill: rgb(42, 63, 95); fill-opacity: 1; white-space: pre;\">0.6</text></g><g class=\"y8tick\"><text text-anchor=\"end\" x=\"82\" y=\"4.199999999999999\" transform=\"translate(0,2154.45024691358)\" style=\"font-family: 'Open Sans', verdana, arial, sans-serif; font-size: 12px; fill: rgb(42, 63, 95); fill-opacity: 1; white-space: pre;\">0.8</text></g><g class=\"y8tick\"><text text-anchor=\"end\" x=\"82\" y=\"4.199999999999999\" transform=\"translate(0,2112.1902469135803)\" style=\"font-family: 'Open Sans', verdana, arial, sans-serif; font-size: 12px; fill: rgb(42, 63, 95); fill-opacity: 1; white-space: pre;\">1</text></g></g><g class=\"overaxes-above\"/></g><g class=\"subplot x9y9\"><g class=\"layer-subplot\"><g class=\"shapelayer\"/><g class=\"imagelayer\"/></g><g class=\"gridlayer\"><g class=\"x9\"><path class=\"x9grid crisp\" transform=\"translate(118.89,0)\" d=\"M0,2382.8345679012345v249.16543209876542\" style=\"stroke: rgb(255, 255, 255); stroke-opacity: 1; stroke-width: 1px;\"/><path class=\"x9grid crisp\" transform=\"translate(260.19,0)\" d=\"M0,2382.8345679012345v249.16543209876542\" style=\"stroke: rgb(255, 255, 255); stroke-opacity: 1; stroke-width: 1px;\"/><path class=\"x9grid crisp\" transform=\"translate(401.5,0)\" d=\"M0,2382.8345679012345v249.16543209876542\" style=\"stroke: rgb(255, 255, 255); stroke-opacity: 1; stroke-width: 1px;\"/><path class=\"x9grid crisp\" transform=\"translate(542.81,0)\" d=\"M0,2382.8345679012345v249.16543209876542\" style=\"stroke: rgb(255, 255, 255); stroke-opacity: 1; stroke-width: 1px;\"/><path class=\"x9grid crisp\" transform=\"translate(684.11,0)\" d=\"M0,2382.8345679012345v249.16543209876542\" style=\"stroke: rgb(255, 255, 255); stroke-opacity: 1; stroke-width: 1px;\"/></g><g class=\"y9\"><path class=\"y9grid crisp\" transform=\"translate(0,2585.6245679012345)\" d=\"M83,0h637\" style=\"stroke: rgb(255, 255, 255); stroke-opacity: 1; stroke-width: 1px;\"/><path class=\"y9grid crisp\" transform=\"translate(0,2538.9845679012346)\" d=\"M83,0h637\" style=\"stroke: rgb(255, 255, 255); stroke-opacity: 1; stroke-width: 1px;\"/><path class=\"y9grid crisp\" transform=\"translate(0,2492.3345679012345)\" d=\"M83,0h637\" style=\"stroke: rgb(255, 255, 255); stroke-opacity: 1; stroke-width: 1px;\"/><path class=\"y9grid crisp\" transform=\"translate(0,2445.6845679012345)\" d=\"M83,0h637\" style=\"stroke: rgb(255, 255, 255); stroke-opacity: 1; stroke-width: 1px;\"/></g></g><g class=\"zerolinelayer\"><path class=\"y9zl zl crisp\" transform=\"translate(0,2399.0445679012346)\" d=\"M83,0h637\" style=\"stroke: rgb(255, 255, 255); stroke-opacity: 1; stroke-width: 2px;\"/></g><path class=\"xlines-below\"/><path class=\"ylines-below\"/><g class=\"overlines-below\"/><g class=\"xaxislayer-below\"/><g class=\"yaxislayer-below\"/><g class=\"overaxes-below\"/><g class=\"plot\" transform=\"translate(83,2382.8345679012345)\" clip-path=\"url('#clip95d364x9y9plot')\"><g class=\"scatterlayer mlayer\"><g class=\"trace scatter tracefa3dcac4-09b2-4c05-aa19-934021c4c128\" style=\"stroke-miterlimit: 2;\"><g class=\"fills\"><g><path class=\"js-fill\" d=\"M35.89,62.42L177.19,108.09L318.5,16.21L459.81,198.81L601.11,232.96L601.11,16.21L35.89,16.21Z\" style=\"fill: rgb(255, 127, 14); fill-opacity: 0.3; stroke-width: 0;\"/></g></g><g class=\"errorbars\"/><g class=\"lines\"><path class=\"js-line\" d=\"M35.89,16.21L601.11,16.21\" style=\"vector-effect: non-scaling-stroke; fill: none; stroke: rgb(0, 0, 0); stroke-opacity: 0; stroke-width: 0px; opacity: 1;\"/></g><g class=\"points\"><path class=\"point\" transform=\"translate(35.89,16.21)\" d=\"M3,0A3,3 0 1,1 0,-3A3,3 0 0,1 3,0Z\" style=\"opacity: 1; stroke-width: 0px; fill: rgb(0, 0, 0); fill-opacity: 0;\"/><path class=\"point\" transform=\"translate(177.19,16.21)\" d=\"M3,0A3,3 0 1,1 0,-3A3,3 0 0,1 3,0Z\" style=\"opacity: 1; stroke-width: 0px; fill: rgb(0, 0, 0); fill-opacity: 0;\"/><path class=\"point\" transform=\"translate(318.5,16.21)\" d=\"M3,0A3,3 0 1,1 0,-3A3,3 0 0,1 3,0Z\" style=\"opacity: 1; stroke-width: 0px; fill: rgb(0, 0, 0); fill-opacity: 0;\"/><path class=\"point\" transform=\"translate(459.81,16.21)\" d=\"M3,0A3,3 0 1,1 0,-3A3,3 0 0,1 3,0Z\" style=\"opacity: 1; stroke-width: 0px; fill: rgb(0, 0, 0); fill-opacity: 0;\"/><path class=\"point\" transform=\"translate(601.11,16.21)\" d=\"M3,0A3,3 0 1,1 0,-3A3,3 0 0,1 3,0Z\" style=\"opacity: 1; stroke-width: 0px; fill: rgb(0, 0, 0); fill-opacity: 0;\"/></g><g class=\"text\"/></g><g class=\"trace scatter tracef8f73d03-aad4-4412-9be3-58588ff4a019\" style=\"stroke-miterlimit: 2;\"><g class=\"fills\"/><g class=\"errorbars\"/><g class=\"lines\"><path class=\"js-line\" d=\"M35.89,62.42L177.19,108.09L318.5,16.21L459.81,198.81L601.11,232.96\" style=\"vector-effect: non-scaling-stroke; fill: none; stroke: rgb(0, 0, 0); stroke-opacity: 0; stroke-width: 0px; opacity: 1;\"/></g><g class=\"points\"><path class=\"point\" transform=\"translate(35.89,62.42)\" d=\"M3,0A3,3 0 1,1 0,-3A3,3 0 0,1 3,0Z\" style=\"opacity: 1; stroke-width: 0px; fill: rgb(0, 0, 0); fill-opacity: 0;\"/><path class=\"point\" transform=\"translate(177.19,108.09)\" d=\"M3,0A3,3 0 1,1 0,-3A3,3 0 0,1 3,0Z\" style=\"opacity: 1; stroke-width: 0px; fill: rgb(0, 0, 0); fill-opacity: 0;\"/><path class=\"point\" transform=\"translate(318.5,16.21)\" d=\"M3,0A3,3 0 1,1 0,-3A3,3 0 0,1 3,0Z\" style=\"opacity: 1; stroke-width: 0px; fill: rgb(0, 0, 0); fill-opacity: 0;\"/><path class=\"point\" transform=\"translate(459.81,198.81)\" d=\"M3,0A3,3 0 1,1 0,-3A3,3 0 0,1 3,0Z\" style=\"opacity: 1; stroke-width: 0px; fill: rgb(0, 0, 0); fill-opacity: 0;\"/><path class=\"point\" transform=\"translate(601.11,232.96)\" d=\"M3,0A3,3 0 1,1 0,-3A3,3 0 0,1 3,0Z\" style=\"opacity: 1; stroke-width: 0px; fill: rgb(0, 0, 0); fill-opacity: 0;\"/></g><g class=\"text\"/></g><g class=\"trace scatter trace88044db3-ea56-487a-9d59-214d6d0100de\" style=\"stroke-miterlimit: 2; opacity: 1;\"><g class=\"fills\"/><g class=\"errorbars\"/><g class=\"lines\"><path class=\"js-line\" d=\"M35.89,62.42L177.19,108.09\" style=\"vector-effect: non-scaling-stroke; fill: none; stroke: rgb(227, 119, 194); stroke-opacity: 1; stroke-width: 2px; opacity: 1;\"/><path class=\"js-line\" d=\"M459.81,198.81L601.11,232.96\" style=\"vector-effect: non-scaling-stroke; fill: none; stroke: rgb(227, 119, 194); stroke-opacity: 1; stroke-width: 2px; opacity: 1;\"/></g><g class=\"points\"><path class=\"point\" transform=\"translate(35.89,62.42)\" d=\"M3,0A3,3 0 1,1 0,-3A3,3 0 0,1 3,0Z\" style=\"opacity: 1; stroke-width: 0px; fill: rgb(227, 119, 194); fill-opacity: 1;\"/><path class=\"point\" transform=\"translate(177.19,108.09)\" d=\"M3,0A3,3 0 1,1 0,-3A3,3 0 0,1 3,0Z\" style=\"opacity: 1; stroke-width: 0px; fill: rgb(227, 119, 194); fill-opacity: 1;\"/><path class=\"point\" transform=\"translate(459.81,198.81)\" d=\"M3,0A3,3 0 1,1 0,-3A3,3 0 0,1 3,0Z\" style=\"opacity: 1; stroke-width: 0px; fill: rgb(227, 119, 194); fill-opacity: 1;\"/><path class=\"point\" transform=\"translate(601.11,232.96)\" d=\"M3,0A3,3 0 1,1 0,-3A3,3 0 0,1 3,0Z\" style=\"opacity: 1; stroke-width: 0px; fill: rgb(227, 119, 194); fill-opacity: 1;\"/></g><g class=\"text\"/></g><g class=\"trace scatter trace22b1b705-26c1-41ab-9da0-2e416a564916\" style=\"stroke-miterlimit: 2; opacity: 0;\"><g class=\"fills\"/><g class=\"errorbars\"/><g class=\"lines\"><path class=\"js-line\" d=\"M35.89,16.21L601.11,16.21\" style=\"vector-effect: non-scaling-stroke; fill: none; stroke: rgb(0, 0, 0); stroke-opacity: 0; stroke-width: 0px; opacity: 1;\"/></g><g class=\"points\"><path class=\"point\" transform=\"translate(35.89,16.21)\" d=\"M3,0A3,3 0 1,1 0,-3A3,3 0 0,1 3,0Z\" style=\"opacity: 1; stroke-width: 0px; fill: rgb(0, 0, 0); fill-opacity: 0;\"/><path class=\"point\" transform=\"translate(177.19,16.21)\" d=\"M3,0A3,3 0 1,1 0,-3A3,3 0 0,1 3,0Z\" style=\"opacity: 1; stroke-width: 0px; fill: rgb(0, 0, 0); fill-opacity: 0;\"/><path class=\"point\" transform=\"translate(318.5,16.21)\" d=\"M3,0A3,3 0 1,1 0,-3A3,3 0 0,1 3,0Z\" style=\"opacity: 1; stroke-width: 0px; fill: rgb(0, 0, 0); fill-opacity: 0;\"/><path class=\"point\" transform=\"translate(459.81,16.21)\" d=\"M3,0A3,3 0 1,1 0,-3A3,3 0 0,1 3,0Z\" style=\"opacity: 1; stroke-width: 0px; fill: rgb(0, 0, 0); fill-opacity: 0;\"/><path class=\"point\" transform=\"translate(601.11,16.21)\" d=\"M3,0A3,3 0 1,1 0,-3A3,3 0 0,1 3,0Z\" style=\"opacity: 1; stroke-width: 0px; fill: rgb(0, 0, 0); fill-opacity: 0;\"/></g><g class=\"text\"/></g></g></g><g class=\"overplot\"/><path class=\"xlines-above crisp\" d=\"M0,0\" style=\"fill: none;\"/><path class=\"ylines-above crisp\" d=\"M0,0\" style=\"fill: none;\"/><g class=\"overlines-above\"/><g class=\"xaxislayer-above\"><g class=\"x9tick\"><text text-anchor=\"middle\" x=\"0\" y=\"2645\" transform=\"translate(118.89,0)\" style=\"font-family: 'Open Sans', verdana, arial, sans-serif; font-size: 12px; fill: rgb(42, 63, 95); fill-opacity: 1; white-space: pre;\"><tspan class=\"line\" dy=\"0em\" x=\"0\" y=\"2645\">Jan 1</tspan><tspan class=\"line\" dy=\"1.3em\" x=\"0\" y=\"2645\">2020</tspan></text></g><g class=\"x9tick\"><text text-anchor=\"middle\" x=\"0\" y=\"2645\" transform=\"translate(260.19,0)\" style=\"font-family: 'Open Sans', verdana, arial, sans-serif; font-size: 12px; fill: rgb(42, 63, 95); fill-opacity: 1; white-space: pre;\">Jan 2</text></g><g class=\"x9tick\"><text text-anchor=\"middle\" x=\"0\" y=\"2645\" transform=\"translate(401.5,0)\" style=\"font-family: 'Open Sans', verdana, arial, sans-serif; font-size: 12px; fill: rgb(42, 63, 95); fill-opacity: 1; white-space: pre;\">Jan 3</text></g><g class=\"x9tick\"><text text-anchor=\"middle\" x=\"0\" y=\"2645\" transform=\"translate(542.81,0)\" style=\"font-family: 'Open Sans', verdana, arial, sans-serif; font-size: 12px; fill: rgb(42, 63, 95); fill-opacity: 1; white-space: pre;\">Jan 4</text></g><g class=\"x9tick\"><text text-anchor=\"middle\" x=\"0\" y=\"2645\" transform=\"translate(684.11,0)\" style=\"font-family: 'Open Sans', verdana, arial, sans-serif; font-size: 12px; fill: rgb(42, 63, 95); fill-opacity: 1; white-space: pre;\">Jan 5</text></g></g><g class=\"yaxislayer-above\"><g class=\"y9tick\"><text text-anchor=\"end\" x=\"82\" y=\"4.199999999999999\" transform=\"translate(0,2585.6245679012345)\" style=\"font-family: 'Open Sans', verdana, arial, sans-serif; font-size: 12px; fill: rgb(42, 63, 95); fill-opacity: 1; white-space: pre;\">−0.02</text></g><g class=\"y9tick\"><text text-anchor=\"end\" x=\"82\" y=\"4.199999999999999\" transform=\"translate(0,2538.9845679012346)\" style=\"font-family: 'Open Sans', verdana, arial, sans-serif; font-size: 12px; fill: rgb(42, 63, 95); fill-opacity: 1; white-space: pre;\">−0.015</text></g><g class=\"y9tick\"><text text-anchor=\"end\" x=\"82\" y=\"4.199999999999999\" transform=\"translate(0,2492.3345679012345)\" style=\"font-family: 'Open Sans', verdana, arial, sans-serif; font-size: 12px; fill: rgb(42, 63, 95); fill-opacity: 1; white-space: pre;\">−0.01</text></g><g class=\"y9tick\"><text text-anchor=\"end\" x=\"82\" y=\"4.199999999999999\" transform=\"translate(0,2445.6845679012345)\" style=\"font-family: 'Open Sans', verdana, arial, sans-serif; font-size: 12px; fill: rgb(42, 63, 95); fill-opacity: 1; white-space: pre;\">−0.005</text></g><g class=\"y9tick\"><text text-anchor=\"end\" x=\"82\" y=\"4.199999999999999\" transform=\"translate(0,2399.0445679012346)\" style=\"font-family: 'Open Sans', verdana, arial, sans-serif; font-size: 12px; fill: rgb(42, 63, 95); fill-opacity: 1; white-space: pre;\">0</text></g></g><g class=\"overaxes-above\"/></g></g><g class=\"polarlayer\"/><g class=\"ternarylayer\"/><g class=\"geolayer\"/><g class=\"funnelarealayer\"/><g class=\"pielayer\"/><g class=\"treemaplayer\"/><g class=\"sunburstlayer\"/><g class=\"glimages\"/><defs id=\"topdefs-95d364\"><g class=\"clips\"/><clipPath id=\"legend95d364\"><rect width=\"587\" height=\"48\" x=\"0\" y=\"0\"/></clipPath></defs><g class=\"layer-above\"><g class=\"imagelayer\"/><g class=\"shapelayer\"><path data-index=\"0\" fill-rule=\"evenodd\" d=\"M83,319.88L720,319.88\" clip-path=\"url('#clip95d364y')\" style=\"opacity: 1; stroke: rgb(128, 128, 128); stroke-opacity: 1; fill: rgb(0, 0, 0); fill-opacity: 0; stroke-dasharray: 9px, 9px; stroke-width: 2px;\"/><path data-index=\"1\" fill-rule=\"evenodd\" d=\"M83,528.484320987654L720,528.484320987654\" clip-path=\"url('#clip95d364y2')\" style=\"opacity: 1; stroke: rgb(128, 128, 128); stroke-opacity: 1; fill: rgb(0, 0, 0); fill-opacity: 0; stroke-dasharray: 9px, 9px; stroke-width: 2px;\"/><path data-index=\"2\" fill-rule=\"evenodd\" d=\"M83,678.8686419753084L720,678.8686419753084\" clip-path=\"url('#clip95d364y3')\" style=\"opacity: 1; stroke: rgb(128, 128, 128); stroke-opacity: 1; fill: rgb(0, 0, 0); fill-opacity: 0; stroke-dasharray: 9px, 9px; stroke-width: 2px;\"/><path data-index=\"3\" fill-rule=\"evenodd\" d=\"M83,964.7729629629629L720,964.7729629629629\" clip-path=\"url('#clip95d364y4')\" style=\"opacity: 1; stroke: rgb(128, 128, 128); stroke-opacity: 1; fill: rgb(0, 0, 0); fill-opacity: 0; stroke-dasharray: 9px, 9px; stroke-width: 2px;\"/><path data-index=\"4\" fill-rule=\"evenodd\" d=\"M83,1251.627283950617L720,1251.627283950617\" clip-path=\"url('#clip95d364y5')\" style=\"opacity: 1; stroke: rgb(128, 128, 128); stroke-opacity: 1; fill: rgb(0, 0, 0); fill-opacity: 0; stroke-dasharray: 9px, 9px; stroke-width: 2px;\"/><path data-index=\"6\" fill-rule=\"evenodd\" d=\"M83,1810.1259259259257L720,1810.1259259259257\" clip-path=\"url('#clip95d364y7')\" style=\"opacity: 1; stroke: rgb(128, 128, 128); stroke-opacity: 1; fill: rgb(0, 0, 0); fill-opacity: 0; stroke-dasharray: 9px, 9px; stroke-width: 2px;\"/><path data-index=\"7\" fill-rule=\"evenodd\" d=\"M83,2112.1902469135803L720,2112.1902469135803\" clip-path=\"url('#clip95d364y8')\" style=\"opacity: 1; stroke: rgb(128, 128, 128); stroke-opacity: 1; fill: rgb(0, 0, 0); fill-opacity: 0; stroke-dasharray: 9px, 9px; stroke-width: 2px;\"/><path data-index=\"8\" fill-rule=\"evenodd\" d=\"M83,2399.0445679012346L720,2399.0445679012346\" clip-path=\"url('#clip95d364y9')\" style=\"opacity: 1; stroke: rgb(128, 128, 128); stroke-opacity: 1; fill: rgb(0, 0, 0); fill-opacity: 0; stroke-dasharray: 9px, 9px; stroke-width: 2px;\"/></g></g><g class=\"infolayer\"><g class=\"legend\" pointer-events=\"all\" transform=\"translate(133,11.733333333333434)\"><rect class=\"bg\" shape-rendering=\"crispEdges\" width=\"587\" height=\"48\" x=\"0\" y=\"0\" style=\"stroke: rgb(68, 68, 68); stroke-opacity: 1; fill: rgb(255, 255, 255); fill-opacity: 1; stroke-width: 0px;\"/><g class=\"scrollbox\" transform=\"\" clip-path=\"url('#legend95d364')\"><g class=\"groups\"><g class=\"traces\" transform=\"translate(0,14.5)\" style=\"opacity: 1;\"><text class=\"legendtext\" text-anchor=\"start\" x=\"40\" y=\"4.680000000000001\" style=\"font-family: 'Open Sans', verdana, arial, sans-serif; font-size: 12px; fill: rgb(42, 63, 95); fill-opacity: 1; white-space: pre;\">Benchmark</text><g class=\"layers\" style=\"opacity: 1;\"><g class=\"legendfill\"/><g class=\"legendlines\"><path class=\"js-line\" d=\"M5,0h30\" style=\"fill: none; stroke: rgb(127, 127, 127); stroke-opacity: 1; stroke-width: 2px;\"/></g><g class=\"legendsymbols\"><g class=\"legendpoints\"><path class=\"scatterpts\" transform=\"translate(20,0)\" d=\"M3,0A3,3 0 1,1 0,-3A3,3 0 0,1 3,0Z\" style=\"opacity: 1; stroke-width: 0px; fill: rgb(127, 127, 127); fill-opacity: 1;\"/></g></g></g><rect class=\"legendtoggle\" x=\"0\" y=\"-9.5\" width=\"110.421875\" height=\"19\" style=\"fill: rgb(0, 0, 0); fill-opacity: 0;\"/></g><g class=\"traces\" transform=\"translate(128.109375,14.5)\" style=\"opacity: 1;\"><text class=\"legendtext\" text-anchor=\"start\" x=\"40\" y=\"4.680000000000001\" style=\"font-family: 'Open Sans', verdana, arial, sans-serif; font-size: 12px; fill: rgb(42, 63, 95); fill-opacity: 1; white-space: pre;\">Value</text><g class=\"layers\" style=\"opacity: 1;\"><g class=\"legendfill\"/><g class=\"legendlines\"><path class=\"js-line\" d=\"M5,0h30\" style=\"fill: none; stroke: rgb(148, 103, 189); stroke-opacity: 1; stroke-width: 2px;\"/></g><g class=\"legendsymbols\"><g class=\"legendpoints\"><path class=\"scatterpts\" transform=\"translate(20,0)\" d=\"M3,0A3,3 0 1,1 0,-3A3,3 0 0,1 3,0Z\" style=\"opacity: 1; stroke-width: 0px; fill: rgb(148, 103, 189); fill-opacity: 1;\"/></g></g></g><rect class=\"legendtoggle\" x=\"0\" y=\"-9.5\" width=\"75.953125\" height=\"19\" style=\"fill: rgb(0, 0, 0); fill-opacity: 0;\"/></g><g class=\"traces\" transform=\"translate(256.21875,14.5)\" style=\"opacity: 1;\"><text class=\"legendtext\" text-anchor=\"start\" x=\"40\" y=\"4.680000000000001\" style=\"font-family: 'Open Sans', verdana, arial, sans-serif; font-size: 12px; fill: rgb(42, 63, 95); fill-opacity: 1; white-space: pre;\">Cash</text><g class=\"layers\" style=\"opacity: 1;\"><g class=\"legendfill\"/><g class=\"legendlines\"><path class=\"js-line\" d=\"M5,0h30\" style=\"fill: none; stroke: rgb(44, 160, 44); stroke-opacity: 1; stroke-width: 2px;\"/></g><g class=\"legendsymbols\"><g class=\"legendpoints\"><path class=\"scatterpts\" transform=\"translate(20,0)\" d=\"M3,0A3,3 0 1,1 0,-3A3,3 0 0,1 3,0Z\" style=\"opacity: 1; stroke-width: 0px; fill: rgb(44, 160, 44); fill-opacity: 1;\"/></g></g></g><rect class=\"legendtoggle\" x=\"0\" y=\"-9.5\" width=\"71.9375\" height=\"19\" style=\"fill: rgb(0, 0, 0); fill-opacity: 0;\"/></g><g class=\"traces\" transform=\"translate(384.328125,14.5)\" style=\"opacity: 1;\"><text class=\"legendtext\" text-anchor=\"start\" x=\"40\" y=\"4.680000000000001\" style=\"font-family: 'Open Sans', verdana, arial, sans-serif; font-size: 12px; fill: rgb(42, 63, 95); fill-opacity: 1; white-space: pre;\">Holding Value</text><g class=\"layers\" style=\"opacity: 1;\"><g class=\"legendfill\"/><g class=\"legendlines\"><path class=\"js-line\" d=\"M5,0h30\" style=\"fill: none; stroke: rgb(23, 190, 207); stroke-opacity: 1; stroke-width: 2px;\"/></g><g class=\"legendsymbols\"><g class=\"legendpoints\"><path class=\"scatterpts\" transform=\"translate(20,0)\" d=\"M3,0A3,3 0 1,1 0,-3A3,3 0 0,1 3,0Z\" style=\"opacity: 1; stroke-width: 0px; fill: rgb(23, 190, 207); fill-opacity: 1;\"/></g></g></g><rect class=\"legendtoggle\" x=\"0\" y=\"-9.5\" width=\"125.609375\" height=\"19\" style=\"fill: rgb(0, 0, 0); fill-opacity: 0;\"/></g><g class=\"traces\" transform=\"translate(512.4375,14.5)\" style=\"opacity: 1;\"><text class=\"legendtext\" text-anchor=\"start\" x=\"40\" y=\"4.680000000000001\" style=\"font-family: 'Open Sans', verdana, arial, sans-serif; font-size: 12px; fill: rgb(42, 63, 95); fill-opacity: 1; white-space: pre;\">Peak</text><g class=\"layers\" style=\"opacity: 1;\"><g class=\"legendfill\"/><g class=\"legendlines\"/><g class=\"legendsymbols\"><g class=\"legendpoints\"><path class=\"scatterpts\" transform=\"translate(20,0)\" d=\"M4.55,0L0,4.55L-4.55,0L0,-4.55Z\" style=\"opacity: 1; stroke-width: 1px; fill: rgb(66, 133, 244); fill-opacity: 1; stroke: rgb(11, 84, 205); stroke-opacity: 1;\"/></g></g></g><rect class=\"legendtoggle\" x=\"0\" y=\"-9.5\" width=\"71.203125\" height=\"19\" style=\"fill: rgb(0, 0, 0); fill-opacity: 0;\"/></g><g class=\"traces\" transform=\"translate(0,33.5)\" style=\"opacity: 1;\"><text class=\"legendtext\" text-anchor=\"start\" x=\"40\" y=\"4.680000000000001\" style=\"font-family: 'Open Sans', verdana, arial, sans-serif; font-size: 12px; fill: rgb(42, 63, 95); fill-opacity: 1; white-space: pre;\">Active</text><g class=\"layers\" style=\"opacity: 1;\"><g class=\"legendfill\"/><g class=\"legendlines\"/><g class=\"legendsymbols\"><g class=\"legendpoints\"><path class=\"scatterpts\" transform=\"translate(20,0)\" d=\"M4.55,0L0,4.55L-4.55,0L0,-4.55Z\" style=\"opacity: 1; stroke-width: 1px; fill: rgb(255, 170, 0); fill-opacity: 1; stroke: rgb(178, 118, 0); stroke-opacity: 1;\"/></g></g></g><rect class=\"legendtoggle\" x=\"0\" y=\"-9.5\" width=\"79.234375\" height=\"19\" style=\"fill: rgb(0, 0, 0); fill-opacity: 0;\"/></g><g class=\"traces\" transform=\"translate(128.109375,33.5)\" style=\"opacity: 1;\"><text class=\"legendtext\" text-anchor=\"start\" x=\"40\" y=\"4.680000000000001\" style=\"font-family: 'Open Sans', verdana, arial, sans-serif; font-size: 12px; fill: rgb(42, 63, 95); fill-opacity: 1; white-space: pre;\">Drawdown</text><g class=\"layers\"><g class=\"legendfill\"><path class=\"js-fill\" d=\"M5,0h30v6h-30z\" style=\"stroke-width: 0; fill: rgb(220, 57, 18); fill-opacity: 0.3;\"/></g><g class=\"legendlines\"><path class=\"js-line\" d=\"M5,0h30\" style=\"fill: none; stroke: rgb(220, 57, 18); stroke-opacity: 1; stroke-width: 2px;\"/></g><g class=\"legendsymbols\"><g class=\"legendpoints\"><path class=\"scatterpts\" transform=\"translate(20,0)\" d=\"M3,0A3,3 0 1,1 0,-3A3,3 0 0,1 3,0Z\" style=\"opacity: 1; stroke-width: 0px; fill: rgb(220, 57, 18); fill-opacity: 1;\"/></g></g></g><rect class=\"legendtoggle\" x=\"0\" y=\"-9.5\" width=\"106.078125\" height=\"19\" style=\"fill: rgb(0, 0, 0); fill-opacity: 0;\"/></g><g class=\"traces\" transform=\"translate(256.21875,33.5)\" style=\"opacity: 1;\"><text class=\"legendtext\" text-anchor=\"start\" x=\"40\" y=\"4.680000000000001\" style=\"font-family: 'Open Sans', verdana, arial, sans-serif; font-size: 12px; fill: rgb(42, 63, 95); fill-opacity: 1; white-space: pre;\">Exposure</text><g class=\"layers\" style=\"opacity: 1;\"><g class=\"legendfill\"/><g class=\"legendlines\"><path class=\"js-line\" d=\"M5,0h30\" style=\"fill: none; stroke: rgb(227, 119, 194); stroke-opacity: 1; stroke-width: 2px;\"/></g><g class=\"legendsymbols\"><g class=\"legendpoints\"><path class=\"scatterpts\" transform=\"translate(20,0)\" d=\"M3,0A3,3 0 1,1 0,-3A3,3 0 0,1 3,0Z\" style=\"opacity: 1; stroke-width: 0px; fill: rgb(227, 119, 194); fill-opacity: 1;\"/></g></g></g><rect class=\"legendtoggle\" x=\"0\" y=\"-9.5\" width=\"98.078125\" height=\"19\" style=\"fill: rgb(0, 0, 0); fill-opacity: 0;\"/></g></g></g><rect class=\"scrollbar\" rx=\"20\" ry=\"3\" width=\"0\" height=\"0\" x=\"0\" y=\"0\" style=\"fill: rgb(128, 139, 164); fill-opacity: 1;\"/></g><g class=\"g-gtitle\"/><g class=\"g-xtitle\"/><g class=\"g-x2title\"/><g class=\"g-x3title\"/><g class=\"g-x4title\"/><g class=\"g-x5title\"/><g class=\"g-x6title\"/><g class=\"g-x7title\"/><g class=\"g-x8title\"/><g class=\"g-x9title\"><text class=\"x9title\" x=\"401.5\" y=\"2687.909375\" text-anchor=\"middle\" style=\"font-family: 'Open Sans', verdana, arial, sans-serif; font-size: 14px; fill: rgb(42, 63, 95); opacity: 1; font-weight: normal; white-space: pre;\">Date</text></g><g class=\"g-ytitle\"><text class=\"ytitle\" transform=\"rotate(-90,37.575,212.5827160493826)\" x=\"37.575\" y=\"212.5827160493826\" text-anchor=\"middle\" style=\"font-family: 'Open Sans', verdana, arial, sans-serif; font-size: 14px; fill: rgb(42, 63, 95); opacity: 1; font-weight: normal; white-space: pre;\">Cumulative returns</text></g><g class=\"g-y2title\"><text class=\"y2title\" transform=\"rotate(-90,27.746875000000003,499.4370370370367)\" x=\"27.746875000000003\" y=\"499.4370370370367\" text-anchor=\"middle\" style=\"font-family: 'Open Sans', verdana, arial, sans-serif; font-size: 14px; fill: rgb(42, 63, 95); opacity: 1; font-weight: normal; white-space: pre;\">Cash</text></g><g class=\"g-y3title\"><text class=\"y3title\" transform=\"rotate(-90,34.309375,786.2913580246911)\" x=\"34.309375\" y=\"786.2913580246911\" text-anchor=\"middle\" style=\"font-family: 'Open Sans', verdana, arial, sans-serif; font-size: 14px; fill: rgb(42, 63, 95); opacity: 1; font-weight: normal; white-space: pre;\">Cash</text></g><g class=\"g-y4title\"><text class=\"y4title\" transform=\"rotate(-90,39.746875,1073.1456790123457)\" x=\"39.746875\" y=\"1073.1456790123457\" text-anchor=\"middle\" style=\"font-family: 'Open Sans', verdana, arial, sans-serif; font-size: 14px; fill: rgb(42, 63, 95); opacity: 1; font-weight: normal; white-space: pre;\">Holding value</text></g><g class=\"g-y5title\"><text class=\"y5title\" transform=\"rotate(-90,34.309375,1359.9999999999998)\" x=\"34.309375\" y=\"1359.9999999999998\" text-anchor=\"middle\" style=\"font-family: 'Open Sans', verdana, arial, sans-serif; font-size: 14px; fill: rgb(42, 63, 95); opacity: 1; font-weight: normal; white-space: pre;\">Value</text></g><g class=\"g-y6title\"><text class=\"y6title\" transform=\"rotate(-90,34.309375,1646.8543209876543)\" x=\"34.309375\" y=\"1646.8543209876543\" text-anchor=\"middle\" style=\"font-family: 'Open Sans', verdana, arial, sans-serif; font-size: 14px; fill: rgb(42, 63, 95); opacity: 1; font-weight: normal; white-space: pre;\">Value</text></g><g class=\"g-y7title\"><text class=\"y7title\" transform=\"rotate(-90,26.825000000000003,1933.7086419753084)\" x=\"26.825000000000003\" y=\"1933.7086419753084\" text-anchor=\"middle\" style=\"font-family: 'Open Sans', verdana, arial, sans-serif; font-size: 14px; fill: rgb(42, 63, 95); opacity: 1; font-weight: normal; white-space: pre;\">Drawdown</text></g><g class=\"g-y8title\"><text class=\"y8title\" transform=\"rotate(-90,37.575,2220.562962962963)\" x=\"37.575\" y=\"2220.562962962963\" text-anchor=\"middle\" style=\"font-family: 'Open Sans', verdana, arial, sans-serif; font-size: 14px; fill: rgb(42, 63, 95); opacity: 1; font-weight: normal; white-space: pre;\">Gross exposure</text></g><g class=\"g-y9title\" transform=\"translate(1.513671875,0)\"><text class=\"y9title\" transform=\"rotate(-90,12.496875000000003,2507.4172839506173)\" x=\"12.496875000000003\" y=\"2507.4172839506173\" text-anchor=\"middle\" style=\"font-family: 'Open Sans', verdana, arial, sans-serif; font-size: 14px; fill: rgb(42, 63, 95); opacity: 1; font-weight: normal; white-space: pre;\">Net exposure</text></g><g class=\"annotation\" data-index=\"0\" style=\"opacity: 1;\"><g class=\"annotation-text-g\" transform=\"rotate(0,401.5,76)\"><g class=\"cursor-pointer\" transform=\"translate(320,64)\"><rect class=\"bg\" x=\"0.5\" y=\"0.5\" width=\"162\" height=\"23\" style=\"stroke-width: 1px; stroke: rgb(0, 0, 0); stroke-opacity: 0; fill: rgb(0, 0, 0); fill-opacity: 0;\"/><text class=\"annotation-text\" text-anchor=\"middle\" x=\"81.34375\" y=\"18\" style=\"font-family: 'Open Sans', verdana, arial, sans-serif; font-size: 16px; fill: rgb(42, 63, 95); fill-opacity: 1; white-space: pre;\">Cumulative Returns</text></g></g></g><g class=\"annotation\" data-index=\"1\" style=\"opacity: 1;\"><g class=\"annotation-text-g\" transform=\"rotate(0,401.5,362.8543209876539)\"><g class=\"cursor-pointer\" transform=\"translate(359,351)\"><rect class=\"bg\" x=\"0.5\" y=\"0.5\" width=\"84\" height=\"23\" style=\"stroke-width: 1px; stroke: rgb(0, 0, 0); stroke-opacity: 0; fill: rgb(0, 0, 0); fill-opacity: 0;\"/><text class=\"annotation-text\" text-anchor=\"middle\" x=\"42.640625\" y=\"18\" style=\"font-family: 'Open Sans', verdana, arial, sans-serif; font-size: 16px; fill: rgb(42, 63, 95); fill-opacity: 1; white-space: pre;\">Cash Flow</text></g></g></g><g class=\"annotation\" data-index=\"2\" style=\"opacity: 1;\"><g class=\"annotation-text-g\" transform=\"rotate(0,401.5,649.7086419753084)\"><g class=\"cursor-pointer\" transform=\"translate(380,638)\"><rect class=\"bg\" x=\"0.5\" y=\"0.5\" width=\"42\" height=\"23\" style=\"stroke-width: 1px; stroke: rgb(0, 0, 0); stroke-opacity: 0; fill: rgb(0, 0, 0); fill-opacity: 0;\"/><text class=\"annotation-text\" text-anchor=\"middle\" x=\"21.625\" y=\"18\" style=\"font-family: 'Open Sans', verdana, arial, sans-serif; font-size: 16px; fill: rgb(42, 63, 95); fill-opacity: 1; white-space: pre;\">Cash</text></g></g></g><g class=\"annotation\" data-index=\"3\" style=\"opacity: 1;\"><g class=\"annotation-text-g\" transform=\"rotate(0,401.5,936.5629629629628)\"><g class=\"cursor-pointer\" transform=\"translate(344,925)\"><rect class=\"bg\" x=\"0.5\" y=\"0.5\" width=\"114\" height=\"23\" style=\"stroke-width: 1px; stroke: rgb(0, 0, 0); stroke-opacity: 0; fill: rgb(0, 0, 0); fill-opacity: 0;\"/><text class=\"annotation-text\" text-anchor=\"middle\" x=\"57.40625\" y=\"18\" style=\"font-family: 'Open Sans', verdana, arial, sans-serif; font-size: 16px; fill: rgb(42, 63, 95); fill-opacity: 1; white-space: pre;\">Holding Value</text></g></g></g><g class=\"annotation\" data-index=\"4\" style=\"opacity: 1;\"><g class=\"annotation-text-g\" transform=\"rotate(0,401.5,1223.417283950617)\"><g class=\"cursor-pointer\" transform=\"translate(377,1211)\"><rect class=\"bg\" x=\"0.5\" y=\"0.5\" width=\"48\" height=\"23\" style=\"stroke-width: 1px; stroke: rgb(0, 0, 0); stroke-opacity: 0; fill: rgb(0, 0, 0); fill-opacity: 0;\"/><text class=\"annotation-text\" text-anchor=\"middle\" x=\"24.296875\" y=\"18\" style=\"font-family: 'Open Sans', verdana, arial, sans-serif; font-size: 16px; fill: rgb(42, 63, 95); fill-opacity: 1; white-space: pre;\">Value</text></g></g></g><g class=\"annotation\" data-index=\"5\" style=\"opacity: 1;\"><g class=\"annotation-text-g\" transform=\"rotate(0,401.5,1510.2716049382716)\"><g class=\"cursor-pointer\" transform=\"translate(353,1498)\"><rect class=\"bg\" x=\"0.5\" y=\"0.5\" width=\"96\" height=\"23\" style=\"stroke-width: 1px; stroke: rgb(0, 0, 0); stroke-opacity: 0; fill: rgb(0, 0, 0); fill-opacity: 0;\"/><text class=\"annotation-text\" text-anchor=\"middle\" x=\"48.546875\" y=\"18\" style=\"font-family: 'Open Sans', verdana, arial, sans-serif; font-size: 16px; fill: rgb(42, 63, 95); fill-opacity: 1; white-space: pre;\">Drawdowns</text></g></g></g><g class=\"annotation\" data-index=\"6\" style=\"opacity: 1;\"><g class=\"annotation-text-g\" transform=\"rotate(0,401.5,1797.1259259259257)\"><g class=\"cursor-pointer\" transform=\"translate(353,1785)\"><rect class=\"bg\" x=\"0.5\" y=\"0.5\" width=\"97\" height=\"23\" style=\"stroke-width: 1px; stroke: rgb(0, 0, 0); stroke-opacity: 0; fill: rgb(0, 0, 0); fill-opacity: 0;\"/><text class=\"annotation-text\" text-anchor=\"middle\" x=\"48.765625\" y=\"18\" style=\"font-family: 'Open Sans', verdana, arial, sans-serif; font-size: 16px; fill: rgb(42, 63, 95); fill-opacity: 1; white-space: pre;\">Underwater</text></g></g></g><g class=\"annotation\" data-index=\"7\" style=\"opacity: 1;\"><g class=\"annotation-text-g\" transform=\"rotate(0,401.5,2083.9802469135802)\"><g class=\"cursor-pointer\" transform=\"translate(337,2072)\"><rect class=\"bg\" x=\"0.5\" y=\"0.5\" width=\"128\" height=\"23\" style=\"stroke-width: 1px; stroke: rgb(0, 0, 0); stroke-opacity: 0; fill: rgb(0, 0, 0); fill-opacity: 0;\"/><text class=\"annotation-text\" text-anchor=\"middle\" x=\"64.671875\" y=\"18\" style=\"font-family: 'Open Sans', verdana, arial, sans-serif; font-size: 16px; fill: rgb(42, 63, 95); fill-opacity: 1; white-space: pre;\">Gross Exposure</text></g></g></g><g class=\"annotation\" data-index=\"8\" style=\"opacity: 1;\"><g class=\"annotation-text-g\" transform=\"rotate(0,401.5,2370.8345679012345)\"><g class=\"cursor-pointer\" transform=\"translate(346,2359)\"><rect class=\"bg\" x=\"0.5\" y=\"0.5\" width=\"111\" height=\"23\" style=\"stroke-width: 1px; stroke: rgb(0, 0, 0); stroke-opacity: 0; fill: rgb(0, 0, 0); fill-opacity: 0;\"/><text class=\"annotation-text\" text-anchor=\"middle\" x=\"55.765625\" y=\"18\" style=\"font-family: 'Open Sans', verdana, arial, sans-serif; font-size: 16px; fill: rgb(42, 63, 95); fill-opacity: 1; white-space: pre;\">Net Exposure</text></g></g></g></g></svg>"
      ]
     },
     "metadata": {},
     "output_type": "display_data"
    }
   ],
   "source": [
    "portfolio_grouped['first'].plot(subplots='all').show_svg()"
   ]
  },
  {
   "cell_type": "code",
   "execution_count": 14,
   "metadata": {},
   "outputs": [
    {
     "data": {
      "image/svg+xml": [
       "<svg class=\"main-svg\" xmlns=\"http://www.w3.org/2000/svg\" xmlns:xlink=\"http://www.w3.org/1999/xlink\" width=\"750\" height=\"600\" style=\"\" viewBox=\"0 0 750 600\"><rect x=\"0\" y=\"0\" width=\"750\" height=\"600\" style=\"fill: rgb(255, 255, 255); fill-opacity: 1;\"/><defs id=\"defs-11fae3\"><g class=\"clips\"><clipPath id=\"clip11fae3xyplot\" class=\"plotclip\"><rect width=\"652\" height=\"218.4\"/></clipPath><clipPath id=\"clip11fae3x2y2plot\" class=\"plotclip\"><rect width=\"652\" height=\"218.4\"/></clipPath><clipPath class=\"axesclip\" id=\"clip11fae3x\"><rect x=\"68\" y=\"0\" width=\"652\" height=\"600\"/></clipPath><clipPath class=\"axesclip\" id=\"clip11fae3y\"><rect x=\"0\" y=\"64\" width=\"750\" height=\"218.4\"/></clipPath><clipPath class=\"axesclip\" id=\"clip11fae3xy\"><rect x=\"68\" y=\"64\" width=\"652\" height=\"218.4\"/></clipPath><clipPath class=\"axesclip\" id=\"clip11fae3y2\"><rect x=\"0\" y=\"313.6\" width=\"750\" height=\"218.4\"/></clipPath><clipPath class=\"axesclip\" id=\"clip11fae3xy2\"><rect x=\"68\" y=\"313.6\" width=\"652\" height=\"218.4\"/></clipPath><clipPath class=\"axesclip\" id=\"clip11fae3x2\"><rect x=\"68\" y=\"0\" width=\"652\" height=\"600\"/></clipPath><clipPath class=\"axesclip\" id=\"clip11fae3x2y\"><rect x=\"68\" y=\"64\" width=\"652\" height=\"218.4\"/></clipPath><clipPath class=\"axesclip\" id=\"clip11fae3x2y2\"><rect x=\"68\" y=\"313.6\" width=\"652\" height=\"218.4\"/></clipPath></g><g class=\"gradients\"/></defs><g class=\"bglayer\"><rect class=\"bg\" x=\"68\" y=\"64\" width=\"652\" height=\"218.4\" style=\"fill: rgb(229, 236, 246); fill-opacity: 1; stroke-width: 0;\"/><rect class=\"bg\" x=\"68\" y=\"313.6\" width=\"652\" height=\"218.4\" style=\"fill: rgb(229, 236, 246); fill-opacity: 1; stroke-width: 0;\"/></g><g class=\"layer-below\"><g class=\"imagelayer\"/><g class=\"shapelayer\"><path data-index=\"0\" fill-rule=\"evenodd\" d=\"M104.97999999999999,282.4H683.02V64H104.97999999999999Z\" clip-path=\"url('#clip11fae3x')\" style=\"opacity: 0.2; stroke: rgb(0, 0, 0); stroke-opacity: 0; fill: rgb(255, 165, 0); fill-opacity: 1; stroke-width: 0px;\"/></g></g><g class=\"cartesianlayer\"><g class=\"subplot xy\"><g class=\"layer-subplot\"><g class=\"shapelayer\"/><g class=\"imagelayer\"/></g><g class=\"gridlayer\"><g class=\"x\"><path class=\"xgrid crisp\" transform=\"translate(104.97999999999999,0)\" d=\"M0,64v218.4\" style=\"stroke: rgb(255, 255, 255); stroke-opacity: 1; stroke-width: 1px;\"/><path class=\"xgrid crisp\" transform=\"translate(177.23000000000002,0)\" d=\"M0,64v218.4\" style=\"stroke: rgb(255, 255, 255); stroke-opacity: 1; stroke-width: 1px;\"/><path class=\"xgrid crisp\" transform=\"translate(249.49,0)\" d=\"M0,64v218.4\" style=\"stroke: rgb(255, 255, 255); stroke-opacity: 1; stroke-width: 1px;\"/><path class=\"xgrid crisp\" transform=\"translate(321.74,0)\" d=\"M0,64v218.4\" style=\"stroke: rgb(255, 255, 255); stroke-opacity: 1; stroke-width: 1px;\"/><path class=\"xgrid crisp\" transform=\"translate(394,0)\" d=\"M0,64v218.4\" style=\"stroke: rgb(255, 255, 255); stroke-opacity: 1; stroke-width: 1px;\"/><path class=\"xgrid crisp\" transform=\"translate(466.26,0)\" d=\"M0,64v218.4\" style=\"stroke: rgb(255, 255, 255); stroke-opacity: 1; stroke-width: 1px;\"/><path class=\"xgrid crisp\" transform=\"translate(538.51,0)\" d=\"M0,64v218.4\" style=\"stroke: rgb(255, 255, 255); stroke-opacity: 1; stroke-width: 1px;\"/><path class=\"xgrid crisp\" transform=\"translate(610.77,0)\" d=\"M0,64v218.4\" style=\"stroke: rgb(255, 255, 255); stroke-opacity: 1; stroke-width: 1px;\"/><path class=\"xgrid crisp\" transform=\"translate(683.02,0)\" d=\"M0,64v218.4\" style=\"stroke: rgb(255, 255, 255); stroke-opacity: 1; stroke-width: 1px;\"/></g><g class=\"y\"><path class=\"ygrid crisp\" transform=\"translate(0,260.76)\" d=\"M68,0h652\" style=\"stroke: rgb(255, 255, 255); stroke-opacity: 1; stroke-width: 1px;\"/><path class=\"ygrid crisp\" transform=\"translate(0,200.27)\" d=\"M68,0h652\" style=\"stroke: rgb(255, 255, 255); stroke-opacity: 1; stroke-width: 1px;\"/><path class=\"ygrid crisp\" transform=\"translate(0,139.78)\" d=\"M68,0h652\" style=\"stroke: rgb(255, 255, 255); stroke-opacity: 1; stroke-width: 1px;\"/><path class=\"ygrid crisp\" transform=\"translate(0,79.28999999999999)\" d=\"M68,0h652\" style=\"stroke: rgb(255, 255, 255); stroke-opacity: 1; stroke-width: 1px;\"/></g></g><g class=\"zerolinelayer\"/><path class=\"xlines-below\"/><path class=\"ylines-below\"/><g class=\"overlines-below\"/><g class=\"xaxislayer-below\"/><g class=\"yaxislayer-below\"/><g class=\"overaxes-below\"/><g class=\"plot\" transform=\"translate(68,64)\" clip-path=\"url('#clip11fae3xyplot')\"><g class=\"scatterlayer mlayer\"><g class=\"trace scatter trace1318f2ba-06ff-4fa1-a8e7-648e4566bf6f\" style=\"stroke-miterlimit: 2; opacity: 1;\"><g class=\"fills\"/><g class=\"errorbars\"/><g class=\"lines\"><path class=\"js-line\" d=\"M36.98,15.29L181.49,78.21L326,81.83L470.51,81.83L615.02,203.1\" style=\"vector-effect: non-scaling-stroke; fill: none; stroke: rgb(148, 103, 189); stroke-opacity: 1; stroke-width: 2px; opacity: 1;\"/></g><g class=\"points\"><path class=\"point\" transform=\"translate(36.98,15.29)\" d=\"M3,0A3,3 0 1,1 0,-3A3,3 0 0,1 3,0Z\" style=\"opacity: 1; stroke-width: 0px; fill: rgb(148, 103, 189); fill-opacity: 1;\"/><path class=\"point\" transform=\"translate(181.49,78.21)\" d=\"M3,0A3,3 0 1,1 0,-3A3,3 0 0,1 3,0Z\" style=\"opacity: 1; stroke-width: 0px; fill: rgb(148, 103, 189); fill-opacity: 1;\"/><path class=\"point\" transform=\"translate(326,81.83)\" d=\"M3,0A3,3 0 1,1 0,-3A3,3 0 0,1 3,0Z\" style=\"opacity: 1; stroke-width: 0px; fill: rgb(148, 103, 189); fill-opacity: 1;\"/><path class=\"point\" transform=\"translate(470.51,81.83)\" d=\"M3,0A3,3 0 1,1 0,-3A3,3 0 0,1 3,0Z\" style=\"opacity: 1; stroke-width: 0px; fill: rgb(148, 103, 189); fill-opacity: 1;\"/><path class=\"point\" transform=\"translate(615.02,203.1)\" d=\"M3,0A3,3 0 1,1 0,-3A3,3 0 0,1 3,0Z\" style=\"opacity: 1; stroke-width: 0px; fill: rgb(148, 103, 189); fill-opacity: 1;\"/></g><g class=\"text\"/></g><g class=\"trace scatter trace8ec12424-989a-415f-9a95-ddcf6cac528e\" style=\"stroke-miterlimit: 2; opacity: 1;\"><g class=\"fills\"/><g class=\"errorbars\"/><g class=\"lines\"/><g class=\"points\"><path class=\"point plotly-customdata\" transform=\"translate(36.98,15.29)\" d=\"M4.55,0L0,4.55L-4.55,0L0,-4.55Z\" style=\"opacity: 1; stroke-width: 1px; fill: rgb(66, 133, 244); fill-opacity: 1; stroke: rgb(11, 84, 205); stroke-opacity: 1;\"/></g><g class=\"text\"/></g><g class=\"trace scatter trace8c53a5f6-c6cb-4c5b-8cd5-71f097154beb\" style=\"stroke-miterlimit: 2; opacity: 1;\"><g class=\"fills\"/><g class=\"errorbars\"/><g class=\"lines\"/><g class=\"points\"><path class=\"point plotly-customdata\" transform=\"translate(615.02,203.1)\" d=\"M4.55,0L0,4.55L-4.55,0L0,-4.55Z\" style=\"opacity: 1; stroke-width: 1px; fill: rgb(255, 170, 0); fill-opacity: 1; stroke: rgb(178, 118, 0); stroke-opacity: 1;\"/></g><g class=\"text\"/></g></g></g><g class=\"overplot\"/><path class=\"xlines-above crisp\" d=\"M0,0\" style=\"fill: none;\"/><path class=\"ylines-above crisp\" d=\"M0,0\" style=\"fill: none;\"/><g class=\"overlines-above\"/><g class=\"xaxislayer-above\"/><g class=\"yaxislayer-above\"><g class=\"ytick\"><text text-anchor=\"end\" x=\"67\" y=\"4.199999999999999\" transform=\"translate(0,260.76)\" style=\"font-family: 'Open Sans', verdana, arial, sans-serif; font-size: 12px; fill: rgb(42, 63, 95); fill-opacity: 1; white-space: pre;\">99.7</text></g><g class=\"ytick\"><text text-anchor=\"end\" x=\"67\" y=\"4.199999999999999\" transform=\"translate(0,200.27)\" style=\"font-family: 'Open Sans', verdana, arial, sans-serif; font-size: 12px; fill: rgb(42, 63, 95); fill-opacity: 1; white-space: pre;\">99.8</text></g><g class=\"ytick\"><text text-anchor=\"end\" x=\"67\" y=\"4.199999999999999\" transform=\"translate(0,139.78)\" style=\"font-family: 'Open Sans', verdana, arial, sans-serif; font-size: 12px; fill: rgb(42, 63, 95); fill-opacity: 1; white-space: pre;\">99.9</text></g><g class=\"ytick\"><text text-anchor=\"end\" x=\"67\" y=\"4.199999999999999\" transform=\"translate(0,79.28999999999999)\" style=\"font-family: 'Open Sans', verdana, arial, sans-serif; font-size: 12px; fill: rgb(42, 63, 95); fill-opacity: 1; white-space: pre;\">100</text></g></g><g class=\"overaxes-above\"/></g><g class=\"subplot x2y2\"><g class=\"layer-subplot\"><g class=\"shapelayer\"/><g class=\"imagelayer\"/></g><g class=\"gridlayer\"><g class=\"x2\"><path class=\"x2grid crisp\" transform=\"translate(104.97999999999999,0)\" d=\"M0,313.6v218.4\" style=\"stroke: rgb(255, 255, 255); stroke-opacity: 1; stroke-width: 1px;\"/><path class=\"x2grid crisp\" transform=\"translate(177.23000000000002,0)\" d=\"M0,313.6v218.4\" style=\"stroke: rgb(255, 255, 255); stroke-opacity: 1; stroke-width: 1px;\"/><path class=\"x2grid crisp\" transform=\"translate(249.49,0)\" d=\"M0,313.6v218.4\" style=\"stroke: rgb(255, 255, 255); stroke-opacity: 1; stroke-width: 1px;\"/><path class=\"x2grid crisp\" transform=\"translate(321.74,0)\" d=\"M0,313.6v218.4\" style=\"stroke: rgb(255, 255, 255); stroke-opacity: 1; stroke-width: 1px;\"/><path class=\"x2grid crisp\" transform=\"translate(394,0)\" d=\"M0,313.6v218.4\" style=\"stroke: rgb(255, 255, 255); stroke-opacity: 1; stroke-width: 1px;\"/><path class=\"x2grid crisp\" transform=\"translate(466.26,0)\" d=\"M0,313.6v218.4\" style=\"stroke: rgb(255, 255, 255); stroke-opacity: 1; stroke-width: 1px;\"/><path class=\"x2grid crisp\" transform=\"translate(538.51,0)\" d=\"M0,313.6v218.4\" style=\"stroke: rgb(255, 255, 255); stroke-opacity: 1; stroke-width: 1px;\"/><path class=\"x2grid crisp\" transform=\"translate(610.77,0)\" d=\"M0,313.6v218.4\" style=\"stroke: rgb(255, 255, 255); stroke-opacity: 1; stroke-width: 1px;\"/><path class=\"x2grid crisp\" transform=\"translate(683.02,0)\" d=\"M0,313.6v218.4\" style=\"stroke: rgb(255, 255, 255); stroke-opacity: 1; stroke-width: 1px;\"/></g><g class=\"y2\"><path class=\"y2grid crisp\" transform=\"translate(0,510.48)\" d=\"M68,0h652\" style=\"stroke: rgb(255, 255, 255); stroke-opacity: 1; stroke-width: 1px;\"/><path class=\"y2grid crisp\" transform=\"translate(0,445.19000000000005)\" d=\"M68,0h652\" style=\"stroke: rgb(255, 255, 255); stroke-opacity: 1; stroke-width: 1px;\"/><path class=\"y2grid crisp\" transform=\"translate(0,379.89000000000004)\" d=\"M68,0h652\" style=\"stroke: rgb(255, 255, 255); stroke-opacity: 1; stroke-width: 1px;\"/></g></g><g class=\"zerolinelayer\"><path class=\"y2zl zl crisp\" transform=\"translate(0,314.6)\" d=\"M68,0h652\" style=\"stroke: rgb(255, 255, 255); stroke-opacity: 1; stroke-width: 2px;\"/></g><path class=\"xlines-below\"/><path class=\"ylines-below\"/><g class=\"overlines-below\"/><g class=\"xaxislayer-below\"/><g class=\"yaxislayer-below\"/><g class=\"overaxes-below\"/><g class=\"plot\" transform=\"translate(68,313.6)\" clip-path=\"url('#clip11fae3x2y2plot')\"><g class=\"scatterlayer mlayer\"><g class=\"trace scatter trace50ae074f-217a-47d2-ba72-4337b658ce45\" style=\"stroke-miterlimit: 2;\"><g class=\"fills\"><g><path class=\"js-fill\" d=\"M615.02,1L36.98,1L36.98,1L181.49,68.92L326,72.82L470.51,72.82L615.02,203.73\" style=\"fill: rgb(255, 111, 0); fill-opacity: 0.3; stroke-width: 0;\"/></g></g><g class=\"errorbars\"/><g class=\"lines\"><path class=\"js-line\" d=\"M36.98,1L181.49,68.92L326,72.82L470.51,72.82L615.02,203.73\" style=\"vector-effect: non-scaling-stroke; fill: none; stroke: rgb(255, 111, 0); stroke-opacity: 1; stroke-width: 2px; opacity: 1;\"/></g><g class=\"points\"><path class=\"point\" transform=\"translate(36.98,1)\" d=\"M3,0A3,3 0 1,1 0,-3A3,3 0 0,1 3,0Z\" style=\"opacity: 1; stroke-width: 0px; fill: rgb(255, 111, 0); fill-opacity: 1;\"/><path class=\"point\" transform=\"translate(181.49,68.92)\" d=\"M3,0A3,3 0 1,1 0,-3A3,3 0 0,1 3,0Z\" style=\"opacity: 1; stroke-width: 0px; fill: rgb(255, 111, 0); fill-opacity: 1;\"/><path class=\"point\" transform=\"translate(326,72.82)\" d=\"M3,0A3,3 0 1,1 0,-3A3,3 0 0,1 3,0Z\" style=\"opacity: 1; stroke-width: 0px; fill: rgb(255, 111, 0); fill-opacity: 1;\"/><path class=\"point\" transform=\"translate(470.51,72.82)\" d=\"M3,0A3,3 0 1,1 0,-3A3,3 0 0,1 3,0Z\" style=\"opacity: 1; stroke-width: 0px; fill: rgb(255, 111, 0); fill-opacity: 1;\"/><path class=\"point\" transform=\"translate(615.02,203.73)\" d=\"M3,0A3,3 0 1,1 0,-3A3,3 0 0,1 3,0Z\" style=\"opacity: 1; stroke-width: 0px; fill: rgb(255, 111, 0); fill-opacity: 1;\"/></g><g class=\"text\"/></g></g></g><g class=\"overplot\"/><path class=\"xlines-above crisp\" d=\"M0,0\" style=\"fill: none;\"/><path class=\"ylines-above crisp\" d=\"M0,0\" style=\"fill: none;\"/><g class=\"overlines-above\"/><g class=\"xaxislayer-above\"><g class=\"x2tick\"><text text-anchor=\"middle\" x=\"0\" y=\"545\" transform=\"translate(104.97999999999999,0)\" style=\"font-family: 'Open Sans', verdana, arial, sans-serif; font-size: 12px; fill: rgb(42, 63, 95); fill-opacity: 1; white-space: pre;\"><tspan class=\"line\" dy=\"0em\" x=\"0\" y=\"545\">00:00</tspan><tspan class=\"line\" dy=\"1.3em\" x=\"0\" y=\"545\">Jan 1, 2020</tspan></text></g><g class=\"x2tick\"><text text-anchor=\"middle\" x=\"0\" y=\"545\" transform=\"translate(177.23000000000002,0)\" style=\"font-family: 'Open Sans', verdana, arial, sans-serif; font-size: 12px; fill: rgb(42, 63, 95); fill-opacity: 1; white-space: pre;\">12:00</text></g><g class=\"x2tick\"><text text-anchor=\"middle\" x=\"0\" y=\"545\" transform=\"translate(249.49,0)\" style=\"font-family: 'Open Sans', verdana, arial, sans-serif; font-size: 12px; fill: rgb(42, 63, 95); fill-opacity: 1; white-space: pre;\"><tspan class=\"line\" dy=\"0em\" x=\"0\" y=\"545\">00:00</tspan><tspan class=\"line\" dy=\"1.3em\" x=\"0\" y=\"545\">Jan 2, 2020</tspan></text></g><g class=\"x2tick\"><text text-anchor=\"middle\" x=\"0\" y=\"545\" transform=\"translate(321.74,0)\" style=\"font-family: 'Open Sans', verdana, arial, sans-serif; font-size: 12px; fill: rgb(42, 63, 95); fill-opacity: 1; white-space: pre;\">12:00</text></g><g class=\"x2tick\"><text text-anchor=\"middle\" x=\"0\" y=\"545\" transform=\"translate(394,0)\" style=\"font-family: 'Open Sans', verdana, arial, sans-serif; font-size: 12px; fill: rgb(42, 63, 95); fill-opacity: 1; white-space: pre;\"><tspan class=\"line\" dy=\"0em\" x=\"0\" y=\"545\">00:00</tspan><tspan class=\"line\" dy=\"1.3em\" x=\"0\" y=\"545\">Jan 3, 2020</tspan></text></g><g class=\"x2tick\"><text text-anchor=\"middle\" x=\"0\" y=\"545\" transform=\"translate(466.26,0)\" style=\"font-family: 'Open Sans', verdana, arial, sans-serif; font-size: 12px; fill: rgb(42, 63, 95); fill-opacity: 1; white-space: pre;\">12:00</text></g><g class=\"x2tick\"><text text-anchor=\"middle\" x=\"0\" y=\"545\" transform=\"translate(538.51,0)\" style=\"font-family: 'Open Sans', verdana, arial, sans-serif; font-size: 12px; fill: rgb(42, 63, 95); fill-opacity: 1; white-space: pre;\"><tspan class=\"line\" dy=\"0em\" x=\"0\" y=\"545\">00:00</tspan><tspan class=\"line\" dy=\"1.3em\" x=\"0\" y=\"545\">Jan 4, 2020</tspan></text></g><g class=\"x2tick\"><text text-anchor=\"middle\" x=\"0\" y=\"545\" transform=\"translate(610.77,0)\" style=\"font-family: 'Open Sans', verdana, arial, sans-serif; font-size: 12px; fill: rgb(42, 63, 95); fill-opacity: 1; white-space: pre;\">12:00</text></g><g class=\"x2tick\"><text text-anchor=\"middle\" x=\"0\" y=\"545\" transform=\"translate(683.02,0)\" style=\"font-family: 'Open Sans', verdana, arial, sans-serif; font-size: 12px; fill: rgb(42, 63, 95); fill-opacity: 1; white-space: pre;\"><tspan class=\"line\" dy=\"0em\" x=\"0\" y=\"545\">00:00</tspan><tspan class=\"line\" dy=\"1.3em\" x=\"0\" y=\"545\">Jan 5, 2020</tspan></text></g></g><g class=\"yaxislayer-above\"><g class=\"y2tick\"><text text-anchor=\"end\" x=\"67\" y=\"4.199999999999999\" transform=\"translate(0,510.48)\" style=\"font-family: 'Open Sans', verdana, arial, sans-serif; font-size: 12px; fill: rgb(42, 63, 95); fill-opacity: 1; white-space: pre;\">−0%</text></g><g class=\"y2tick\"><text text-anchor=\"end\" x=\"67\" y=\"4.199999999999999\" transform=\"translate(0,445.19000000000005)\" style=\"font-family: 'Open Sans', verdana, arial, sans-serif; font-size: 12px; fill: rgb(42, 63, 95); fill-opacity: 1; white-space: pre;\">−0%</text></g><g class=\"y2tick\"><text text-anchor=\"end\" x=\"67\" y=\"4.199999999999999\" transform=\"translate(0,379.89000000000004)\" style=\"font-family: 'Open Sans', verdana, arial, sans-serif; font-size: 12px; fill: rgb(42, 63, 95); fill-opacity: 1; white-space: pre;\">−0%</text></g><g class=\"y2tick\"><text text-anchor=\"end\" x=\"67\" y=\"4.199999999999999\" transform=\"translate(0,314.6)\" style=\"font-family: 'Open Sans', verdana, arial, sans-serif; font-size: 12px; fill: rgb(42, 63, 95); fill-opacity: 1; white-space: pre;\">0%</text></g></g><g class=\"overaxes-above\"/></g></g><g class=\"polarlayer\"/><g class=\"ternarylayer\"/><g class=\"geolayer\"/><g class=\"funnelarealayer\"/><g class=\"pielayer\"/><g class=\"treemaplayer\"/><g class=\"sunburstlayer\"/><g class=\"glimages\"/><defs id=\"topdefs-11fae3\"><g class=\"clips\"/><clipPath id=\"legend11fae3\"><rect width=\"343\" height=\"29\" x=\"0\" y=\"0\"/></clipPath></defs><g class=\"layer-above\"><g class=\"imagelayer\"/><g class=\"shapelayer\"><path data-index=\"1\" fill-rule=\"evenodd\" d=\"M68,314.6L720,314.6\" clip-path=\"url('#clip11fae3y2')\" style=\"opacity: 1; stroke: rgb(128, 128, 128); stroke-opacity: 1; fill: rgb(0, 0, 0); fill-opacity: 0; stroke-dasharray: 9px, 9px; stroke-width: 2px;\"/></g></g><g class=\"infolayer\"><g class=\"legend\" pointer-events=\"all\" transform=\"translate(377,11.59999999999998)\"><rect class=\"bg\" shape-rendering=\"crispEdges\" width=\"343\" height=\"29\" x=\"0\" y=\"0\" style=\"stroke: rgb(68, 68, 68); stroke-opacity: 1; fill: rgb(255, 255, 255); fill-opacity: 1; stroke-width: 0px;\"/><g class=\"scrollbox\" transform=\"\" clip-path=\"url('#legend11fae3')\"><g class=\"groups\"><g class=\"traces\" transform=\"translate(0,14.5)\" style=\"opacity: 1;\"><text class=\"legendtext\" text-anchor=\"start\" x=\"40\" y=\"4.680000000000001\" style=\"font-family: 'Open Sans', verdana, arial, sans-serif; font-size: 12px; fill: rgb(42, 63, 95); fill-opacity: 1; white-space: pre;\">Value</text><g class=\"layers\" style=\"opacity: 1;\"><g class=\"legendfill\"/><g class=\"legendlines\"><path class=\"js-line\" d=\"M5,0h30\" style=\"fill: none; stroke: rgb(148, 103, 189); stroke-opacity: 1; stroke-width: 2px;\"/></g><g class=\"legendsymbols\"><g class=\"legendpoints\"><path class=\"scatterpts\" transform=\"translate(20,0)\" d=\"M3,0A3,3 0 1,1 0,-3A3,3 0 0,1 3,0Z\" style=\"opacity: 1; stroke-width: 0px; fill: rgb(148, 103, 189); fill-opacity: 1;\"/></g></g></g><rect class=\"legendtoggle\" x=\"0\" y=\"-9.5\" width=\"75.953125\" height=\"19\" style=\"fill: rgb(0, 0, 0); fill-opacity: 0;\"/></g><g class=\"traces\" transform=\"translate(78.453125,14.5)\" style=\"opacity: 1;\"><text class=\"legendtext\" text-anchor=\"start\" x=\"40\" y=\"4.680000000000001\" style=\"font-family: 'Open Sans', verdana, arial, sans-serif; font-size: 12px; fill: rgb(42, 63, 95); fill-opacity: 1; white-space: pre;\">Peak</text><g class=\"layers\" style=\"opacity: 1;\"><g class=\"legendfill\"/><g class=\"legendlines\"/><g class=\"legendsymbols\"><g class=\"legendpoints\"><path class=\"scatterpts\" transform=\"translate(20,0)\" d=\"M4.55,0L0,4.55L-4.55,0L0,-4.55Z\" style=\"opacity: 1; stroke-width: 1px; fill: rgb(66, 133, 244); fill-opacity: 1; stroke: rgb(11, 84, 205); stroke-opacity: 1;\"/></g></g></g><rect class=\"legendtoggle\" x=\"0\" y=\"-9.5\" width=\"71.203125\" height=\"19\" style=\"fill: rgb(0, 0, 0); fill-opacity: 0;\"/></g><g class=\"traces\" transform=\"translate(152.15625,14.5)\" style=\"opacity: 1;\"><text class=\"legendtext\" text-anchor=\"start\" x=\"40\" y=\"4.680000000000001\" style=\"font-family: 'Open Sans', verdana, arial, sans-serif; font-size: 12px; fill: rgb(42, 63, 95); fill-opacity: 1; white-space: pre;\">Active</text><g class=\"layers\" style=\"opacity: 1;\"><g class=\"legendfill\"/><g class=\"legendlines\"/><g class=\"legendsymbols\"><g class=\"legendpoints\"><path class=\"scatterpts\" transform=\"translate(20,0)\" d=\"M4.55,0L0,4.55L-4.55,0L0,-4.55Z\" style=\"opacity: 1; stroke-width: 1px; fill: rgb(255, 170, 0); fill-opacity: 1; stroke: rgb(178, 118, 0); stroke-opacity: 1;\"/></g></g></g><rect class=\"legendtoggle\" x=\"0\" y=\"-9.5\" width=\"79.234375\" height=\"19\" style=\"fill: rgb(0, 0, 0); fill-opacity: 0;\"/></g><g class=\"traces\" transform=\"translate(233.890625,14.5)\" style=\"opacity: 1;\"><text class=\"legendtext\" text-anchor=\"start\" x=\"40\" y=\"4.680000000000001\" style=\"font-family: 'Open Sans', verdana, arial, sans-serif; font-size: 12px; fill: rgb(42, 63, 95); fill-opacity: 1; white-space: pre;\">Drawdown</text><g class=\"layers\"><g class=\"legendfill\"><path class=\"js-fill\" d=\"M5,0h30v6h-30z\" style=\"stroke-width: 0; fill: rgb(255, 111, 0); fill-opacity: 0.3;\"/></g><g class=\"legendlines\"><path class=\"js-line\" d=\"M5,0h30\" style=\"fill: none; stroke: rgb(255, 111, 0); stroke-opacity: 1; stroke-width: 2px;\"/></g><g class=\"legendsymbols\"><g class=\"legendpoints\"><path class=\"scatterpts\" transform=\"translate(20,0)\" d=\"M3,0A3,3 0 1,1 0,-3A3,3 0 0,1 3,0Z\" style=\"opacity: 1; stroke-width: 0px; fill: rgb(255, 111, 0); fill-opacity: 1;\"/></g></g></g><rect class=\"legendtoggle\" x=\"0\" y=\"-9.5\" width=\"106.078125\" height=\"19\" style=\"fill: rgb(0, 0, 0); fill-opacity: 0;\"/></g></g></g><rect class=\"scrollbar\" rx=\"20\" ry=\"3\" width=\"0\" height=\"0\" x=\"0\" y=\"0\" style=\"fill: rgb(128, 139, 164); fill-opacity: 1;\"/></g><g class=\"g-gtitle\"/><g class=\"g-xtitle\"/><g class=\"g-x2title\"><text class=\"x2title\" x=\"394\" y=\"587.909375\" text-anchor=\"middle\" style=\"font-family: 'Open Sans', verdana, arial, sans-serif; font-size: 14px; fill: rgb(42, 63, 95); opacity: 1; font-weight: normal; white-space: pre;\">Date</text></g><g class=\"g-ytitle\"><text class=\"ytitle\" transform=\"rotate(-90,14.934375000000003,173.2)\" x=\"14.934375000000003\" y=\"173.2\" text-anchor=\"middle\" style=\"font-family: 'Open Sans', verdana, arial, sans-serif; font-size: 14px; fill: rgb(42, 63, 95); opacity: 1; font-weight: normal; white-space: pre;\">Value</text></g><g class=\"g-y2title\" transform=\"translate(2.177734375,0)\"><text class=\"y2title\" transform=\"rotate(-90,11.825000000000003,422.8)\" x=\"11.825000000000003\" y=\"422.8\" text-anchor=\"middle\" style=\"font-family: 'Open Sans', verdana, arial, sans-serif; font-size: 14px; fill: rgb(42, 63, 95); opacity: 1; font-weight: normal; white-space: pre;\">Drawdown</text></g><g class=\"annotation\" data-index=\"0\" style=\"opacity: 1;\"><g class=\"annotation-text-g\" transform=\"rotate(0,394,52)\"><g class=\"cursor-pointer\" transform=\"translate(346,40)\"><rect class=\"bg\" x=\"0.5\" y=\"0.5\" width=\"96\" height=\"23\" style=\"stroke-width: 1px; stroke: rgb(0, 0, 0); stroke-opacity: 0; fill: rgb(0, 0, 0); fill-opacity: 0;\"/><text class=\"annotation-text\" text-anchor=\"middle\" x=\"48.546875\" y=\"18\" style=\"font-family: 'Open Sans', verdana, arial, sans-serif; font-size: 16px; fill: rgb(42, 63, 95); fill-opacity: 1; white-space: pre;\">Drawdowns</text></g></g></g><g class=\"annotation\" data-index=\"1\" style=\"opacity: 1;\"><g class=\"annotation-text-g\" transform=\"rotate(0,394,301.6)\"><g class=\"cursor-pointer\" transform=\"translate(345,290)\"><rect class=\"bg\" x=\"0.5\" y=\"0.5\" width=\"97\" height=\"23\" style=\"stroke-width: 1px; stroke: rgb(0, 0, 0); stroke-opacity: 0; fill: rgb(0, 0, 0); fill-opacity: 0;\"/><text class=\"annotation-text\" text-anchor=\"middle\" x=\"48.765625\" y=\"18\" style=\"font-family: 'Open Sans', verdana, arial, sans-serif; font-size: 16px; fill: rgb(42, 63, 95); fill-opacity: 1; white-space: pre;\">Underwater</text></g></g></g></g></svg>"
      ]
     },
     "metadata": {},
     "output_type": "display_data"
    }
   ],
   "source": [
    "from vectorbt.utils.colors import adjust_opacity\n",
    "\n",
    "portfolio['a'].plot(\n",
    "    subplots=['drawdowns', 'underwater'],\n",
    "    drawdowns_kwargs=dict(top_n=3),\n",
    "    underwater_kwargs=dict(\n",
    "        trace_kwargs=dict(\n",
    "            line_color='#FF6F00',\n",
    "            fillcolor=adjust_opacity('#FF6F00', 0.3)\n",
    "        )\n",
    "    )\n",
    ").show_svg()"
   ]
  },
  {
   "cell_type": "code",
   "execution_count": 16,
   "metadata": {},
   "outputs": [
    {
     "data": {
      "image/svg+xml": [
       "<svg class=\"main-svg\" xmlns=\"http://www.w3.org/2000/svg\" xmlns:xlink=\"http://www.w3.org/1999/xlink\" width=\"750\" height=\"600\" style=\"\" viewBox=\"0 0 750 600\"><rect x=\"0\" y=\"0\" width=\"750\" height=\"600\" style=\"fill: rgb(255, 255, 255); fill-opacity: 1;\"/><defs id=\"defs-f1f932\"><g class=\"clips\"><clipPath id=\"clipf1f932xyplot\" class=\"plotclip\"><rect width=\"653\" height=\"225.4\"/></clipPath><clipPath id=\"clipf1f932x2y2plot\" class=\"plotclip\"><rect width=\"653\" height=\"225.4\"/></clipPath><clipPath class=\"axesclip\" id=\"clipf1f932x\"><rect x=\"67\" y=\"0\" width=\"653\" height=\"600\"/></clipPath><clipPath class=\"axesclip\" id=\"clipf1f932y\"><rect x=\"0\" y=\"65\" width=\"750\" height=\"225.4\"/></clipPath><clipPath class=\"axesclip\" id=\"clipf1f932xy\"><rect x=\"67\" y=\"65\" width=\"653\" height=\"225.4\"/></clipPath><clipPath class=\"axesclip\" id=\"clipf1f932y2\"><rect x=\"0\" y=\"322.6\" width=\"750\" height=\"225.4\"/></clipPath><clipPath class=\"axesclip\" id=\"clipf1f932xy2\"><rect x=\"67\" y=\"322.6\" width=\"653\" height=\"225.4\"/></clipPath><clipPath class=\"axesclip\" id=\"clipf1f932x2\"><rect x=\"67\" y=\"0\" width=\"653\" height=\"600\"/></clipPath><clipPath class=\"axesclip\" id=\"clipf1f932x2y\"><rect x=\"67\" y=\"65\" width=\"653\" height=\"225.4\"/></clipPath><clipPath class=\"axesclip\" id=\"clipf1f932x2y2\"><rect x=\"67\" y=\"322.6\" width=\"653\" height=\"225.4\"/></clipPath></g><g class=\"gradients\"/></defs><g class=\"bglayer\"><rect class=\"bg\" x=\"67\" y=\"65\" width=\"653\" height=\"225.4\" style=\"fill: rgb(229, 236, 246); fill-opacity: 1; stroke-width: 0;\"/><rect class=\"bg\" x=\"67\" y=\"322.6\" width=\"653\" height=\"225.4\" style=\"fill: rgb(229, 236, 246); fill-opacity: 1; stroke-width: 0;\"/></g><g class=\"layer-below\"><g class=\"imagelayer\"/><g class=\"shapelayer\"/></g><g class=\"cartesianlayer\"><g class=\"subplot xy\"><g class=\"layer-subplot\"><g class=\"shapelayer\"/><g class=\"imagelayer\"/></g><g class=\"gridlayer\"><g class=\"x\"><path class=\"xgrid crisp\" transform=\"translate(103.4,0)\" d=\"M0,65v225.4\" style=\"stroke: rgb(255, 255, 255); stroke-opacity: 1; stroke-width: 1px;\"/><path class=\"xgrid crisp\" transform=\"translate(175.76999999999998,0)\" d=\"M0,65v225.4\" style=\"stroke: rgb(255, 255, 255); stroke-opacity: 1; stroke-width: 1px;\"/><path class=\"xgrid crisp\" transform=\"translate(248.14,0)\" d=\"M0,65v225.4\" style=\"stroke: rgb(255, 255, 255); stroke-opacity: 1; stroke-width: 1px;\"/><path class=\"xgrid crisp\" transform=\"translate(320.51,0)\" d=\"M0,65v225.4\" style=\"stroke: rgb(255, 255, 255); stroke-opacity: 1; stroke-width: 1px;\"/><path class=\"xgrid crisp\" transform=\"translate(392.88,0)\" d=\"M0,65v225.4\" style=\"stroke: rgb(255, 255, 255); stroke-opacity: 1; stroke-width: 1px;\"/><path class=\"xgrid crisp\" transform=\"translate(465.24,0)\" d=\"M0,65v225.4\" style=\"stroke: rgb(255, 255, 255); stroke-opacity: 1; stroke-width: 1px;\"/><path class=\"xgrid crisp\" transform=\"translate(537.61,0)\" d=\"M0,65v225.4\" style=\"stroke: rgb(255, 255, 255); stroke-opacity: 1; stroke-width: 1px;\"/><path class=\"xgrid crisp\" transform=\"translate(609.98,0)\" d=\"M0,65v225.4\" style=\"stroke: rgb(255, 255, 255); stroke-opacity: 1; stroke-width: 1px;\"/><path class=\"xgrid crisp\" transform=\"translate(682.35,0)\" d=\"M0,65v225.4\" style=\"stroke: rgb(255, 255, 255); stroke-opacity: 1; stroke-width: 1px;\"/></g><g class=\"y\"><path class=\"ygrid crisp\" transform=\"translate(0,275.38)\" d=\"M67,0h653\" style=\"stroke: rgb(255, 255, 255); stroke-opacity: 1; stroke-width: 1px;\"/><path class=\"ygrid crisp\" transform=\"translate(0,211.74)\" d=\"M67,0h653\" style=\"stroke: rgb(255, 255, 255); stroke-opacity: 1; stroke-width: 1px;\"/><path class=\"ygrid crisp\" transform=\"translate(0,148.09)\" d=\"M67,0h653\" style=\"stroke: rgb(255, 255, 255); stroke-opacity: 1; stroke-width: 1px;\"/><path class=\"ygrid crisp\" transform=\"translate(0,84.45)\" d=\"M67,0h653\" style=\"stroke: rgb(255, 255, 255); stroke-opacity: 1; stroke-width: 1px;\"/></g></g><g class=\"zerolinelayer\"/><path class=\"xlines-below\"/><path class=\"ylines-below\"/><g class=\"overlines-below\"/><g class=\"xaxislayer-below\"/><g class=\"yaxislayer-below\"/><g class=\"overaxes-below\"/><g class=\"plot\" transform=\"translate(67,65)\" clip-path=\"url('#clipf1f932xyplot')\"><g class=\"scatterlayer mlayer\"><g class=\"trace scatter tracea9f30690-8134-46e9-9299-edeefeab5b0e\" style=\"stroke-miterlimit: 2; opacity: 1;\"><g class=\"fills\"/><g class=\"errorbars\"/><g class=\"lines\"><path class=\"js-line\" d=\"M181.14,210.38L615.35,19.45\" style=\"vector-effect: non-scaling-stroke; fill: none; stroke: rgb(31, 119, 180); stroke-opacity: 1; stroke-width: 2px; opacity: 1;\"/></g><g class=\"points\"><path class=\"point\" transform=\"translate(181.14,210.38)\" d=\"M3,0A3,3 0 1,1 0,-3A3,3 0 0,1 3,0Z\" style=\"opacity: 1; stroke-width: 0px; fill: rgb(31, 119, 180); fill-opacity: 1;\"/><path class=\"point\" transform=\"translate(325.88,146.74)\" d=\"M3,0A3,3 0 1,1 0,-3A3,3 0 0,1 3,0Z\" style=\"opacity: 1; stroke-width: 0px; fill: rgb(31, 119, 180); fill-opacity: 1;\"/><path class=\"point\" transform=\"translate(470.61,83.09)\" d=\"M3,0A3,3 0 1,1 0,-3A3,3 0 0,1 3,0Z\" style=\"opacity: 1; stroke-width: 0px; fill: rgb(31, 119, 180); fill-opacity: 1;\"/><path class=\"point\" transform=\"translate(615.35,19.45)\" d=\"M3,0A3,3 0 1,1 0,-3A3,3 0 0,1 3,0Z\" style=\"opacity: 1; stroke-width: 0px; fill: rgb(31, 119, 180); fill-opacity: 1;\"/></g><g class=\"text\"/></g><g class=\"trace scatter trace97d91b3a-de48-4489-acdf-12aecb17371e\" style=\"stroke-miterlimit: 2; opacity: 1;\"><g class=\"fills\"/><g class=\"errorbars\"/><g class=\"lines\"/><g class=\"points\"><path class=\"point plotly-customdata\" transform=\"translate(181.14,209.11)\" d=\"M-4.62,2H4.62L0,-4Z\" style=\"opacity: 1; stroke-width: 1px; fill: rgb(55, 177, 63); fill-opacity: 1; stroke: rgb(38, 123, 44); stroke-opacity: 1;\"/><path class=\"point plotly-customdata\" transform=\"translate(615.35,16.27)\" d=\"M-4.62,2H4.62L0,-4Z\" style=\"opacity: 1; stroke-width: 1px; fill: rgb(55, 177, 63); fill-opacity: 1; stroke: rgb(38, 123, 44); stroke-opacity: 1;\"/></g><g class=\"text\"/></g><g class=\"trace scatter trace826cfb93-e585-4047-b8dc-a938a239db03\" style=\"stroke-miterlimit: 2; opacity: 1;\"><g class=\"fills\"/><g class=\"errorbars\"/><g class=\"lines\"/><g class=\"points\"><path class=\"point plotly-customdata\" transform=\"translate(325.88,148.65)\" d=\"M-4.62,-2H4.62L0,4Z\" style=\"opacity: 1; stroke-width: 1px; fill: rgb(234, 67, 53); fill-opacity: 1; stroke: rgb(181, 31, 18); stroke-opacity: 1;\"/></g><g class=\"text\"/></g></g></g><g class=\"overplot\"/><path class=\"xlines-above crisp\" d=\"M0,0\" style=\"fill: none;\"/><path class=\"ylines-above crisp\" d=\"M0,0\" style=\"fill: none;\"/><g class=\"overlines-above\"/><g class=\"xaxislayer-above\"/><g class=\"yaxislayer-above\"><g class=\"ytick\"><text text-anchor=\"end\" x=\"66\" y=\"4.199999999999999\" transform=\"translate(0,275.38)\" style=\"font-family: 'Open Sans', verdana, arial, sans-serif; font-size: 12px; fill: rgb(42, 63, 95); fill-opacity: 1; white-space: pre;\">2</text></g><g class=\"ytick\"><text text-anchor=\"end\" x=\"66\" y=\"4.199999999999999\" transform=\"translate(0,211.74)\" style=\"font-family: 'Open Sans', verdana, arial, sans-serif; font-size: 12px; fill: rgb(42, 63, 95); fill-opacity: 1; white-space: pre;\">3</text></g><g class=\"ytick\"><text text-anchor=\"end\" x=\"66\" y=\"4.199999999999999\" transform=\"translate(0,148.09)\" style=\"font-family: 'Open Sans', verdana, arial, sans-serif; font-size: 12px; fill: rgb(42, 63, 95); fill-opacity: 1; white-space: pre;\">4</text></g><g class=\"ytick\"><text text-anchor=\"end\" x=\"66\" y=\"4.199999999999999\" transform=\"translate(0,84.45)\" style=\"font-family: 'Open Sans', verdana, arial, sans-serif; font-size: 12px; fill: rgb(42, 63, 95); fill-opacity: 1; white-space: pre;\">5</text></g></g><g class=\"overaxes-above\"/></g><g class=\"subplot x2y2\"><g class=\"layer-subplot\"><g class=\"shapelayer\"/><g class=\"imagelayer\"/></g><g class=\"gridlayer\"><g class=\"x2\"><path class=\"x2grid crisp\" transform=\"translate(175.93,0)\" d=\"M0,322.6v225.4\" style=\"stroke: rgb(255, 255, 255); stroke-opacity: 1; stroke-width: 1px;\"/><path class=\"x2grid crisp\" transform=\"translate(248.45,0)\" d=\"M0,322.6v225.4\" style=\"stroke: rgb(255, 255, 255); stroke-opacity: 1; stroke-width: 1px;\"/><path class=\"x2grid crisp\" transform=\"translate(320.98,0)\" d=\"M0,322.6v225.4\" style=\"stroke: rgb(255, 255, 255); stroke-opacity: 1; stroke-width: 1px;\"/><path class=\"x2grid crisp\" transform=\"translate(393.5,0)\" d=\"M0,322.6v225.4\" style=\"stroke: rgb(255, 255, 255); stroke-opacity: 1; stroke-width: 1px;\"/><path class=\"x2grid crisp\" transform=\"translate(466.03,0)\" d=\"M0,322.6v225.4\" style=\"stroke: rgb(255, 255, 255); stroke-opacity: 1; stroke-width: 1px;\"/><path class=\"x2grid crisp\" transform=\"translate(538.55,0)\" d=\"M0,322.6v225.4\" style=\"stroke: rgb(255, 255, 255); stroke-opacity: 1; stroke-width: 1px;\"/><path class=\"x2grid crisp\" transform=\"translate(611.08,0)\" d=\"M0,322.6v225.4\" style=\"stroke: rgb(255, 255, 255); stroke-opacity: 1; stroke-width: 1px;\"/><path class=\"x2grid crisp\" transform=\"translate(683.6,0)\" d=\"M0,322.6v225.4\" style=\"stroke: rgb(255, 255, 255); stroke-opacity: 1; stroke-width: 1px;\"/></g><g class=\"y2\"><path class=\"y2grid crisp\" transform=\"translate(0,532.98)\" d=\"M67,0h653\" style=\"stroke: rgb(255, 255, 255); stroke-opacity: 1; stroke-width: 1px;\"/><path class=\"y2grid crisp\" transform=\"translate(0,484.14)\" d=\"M67,0h653\" style=\"stroke: rgb(255, 255, 255); stroke-opacity: 1; stroke-width: 1px;\"/><path class=\"y2grid crisp\" transform=\"translate(0,386.46000000000004)\" d=\"M67,0h653\" style=\"stroke: rgb(255, 255, 255); stroke-opacity: 1; stroke-width: 1px;\"/><path class=\"y2grid crisp\" transform=\"translate(0,337.62)\" d=\"M67,0h653\" style=\"stroke: rgb(255, 255, 255); stroke-opacity: 1; stroke-width: 1px;\"/></g></g><g class=\"zerolinelayer\"><path class=\"x2zl zl crisp\" transform=\"translate(103.4,0)\" d=\"M0,322.6v225.4\" style=\"stroke: rgb(255, 255, 255); stroke-opacity: 1; stroke-width: 2px;\"/><path class=\"y2zl zl crisp\" transform=\"translate(0,435.3)\" d=\"M67,0h653\" style=\"stroke: rgb(255, 255, 255); stroke-opacity: 1; stroke-width: 2px;\"/></g><path class=\"xlines-below\"/><path class=\"ylines-below\"/><g class=\"overlines-below\"/><g class=\"xaxislayer-below\"/><g class=\"yaxislayer-below\"/><g class=\"overaxes-below\"/><g class=\"plot\" transform=\"translate(67,322.6)\" clip-path=\"url('#clipf1f932x2y2plot')\"><g class=\"scatterlayer mlayer\"><g class=\"trace scatter trace73a1749c-2a73-4413-8f8b-bec519823d25\" style=\"stroke-miterlimit: 2; opacity: 1;\"><g class=\"fills\"/><g class=\"errorbars\"/><g class=\"lines\"><path class=\"js-line\" d=\"M36.4,15.02L181.45,102.93L326.5,210.38L471.55,122.47L616.6,15.02\" style=\"vector-effect: non-scaling-stroke; fill: none; stroke: rgb(220, 57, 18); stroke-opacity: 1; stroke-width: 2px; opacity: 1;\"/></g><g class=\"points\"><path class=\"point\" transform=\"translate(36.4,15.02)\" d=\"M3,0A3,3 0 1,1 0,-3A3,3 0 0,1 3,0Z\" style=\"opacity: 1; stroke-width: 0px; fill: rgb(220, 57, 18); fill-opacity: 1;\"/><path class=\"point\" transform=\"translate(181.45,102.93)\" d=\"M3,0A3,3 0 1,1 0,-3A3,3 0 0,1 3,0Z\" style=\"opacity: 1; stroke-width: 0px; fill: rgb(220, 57, 18); fill-opacity: 1;\"/><path class=\"point\" transform=\"translate(326.5,210.38)\" d=\"M3,0A3,3 0 1,1 0,-3A3,3 0 0,1 3,0Z\" style=\"opacity: 1; stroke-width: 0px; fill: rgb(220, 57, 18); fill-opacity: 1;\"/><path class=\"point\" transform=\"translate(471.55,122.47)\" d=\"M3,0A3,3 0 1,1 0,-3A3,3 0 0,1 3,0Z\" style=\"opacity: 1; stroke-width: 0px; fill: rgb(220, 57, 18); fill-opacity: 1;\"/><path class=\"point\" transform=\"translate(616.6,15.02)\" d=\"M3,0A3,3 0 1,1 0,-3A3,3 0 0,1 3,0Z\" style=\"opacity: 1; stroke-width: 0px; fill: rgb(220, 57, 18); fill-opacity: 1;\"/></g><g class=\"text\"/></g></g></g><g class=\"overplot\"/><path class=\"xlines-above crisp\" d=\"M0,0\" style=\"fill: none;\"/><path class=\"ylines-above crisp\" d=\"M0,0\" style=\"fill: none;\"/><g class=\"overlines-above\"/><g class=\"xaxislayer-above\"><g class=\"x2tick\"><text text-anchor=\"middle\" x=\"0\" y=\"561\" transform=\"translate(103.4,0)\" style=\"font-family: 'Open Sans', verdana, arial, sans-serif; font-size: 12px; fill: rgb(42, 63, 95); fill-opacity: 1; white-space: pre;\">0</text></g><g class=\"x2tick\"><text text-anchor=\"middle\" x=\"0\" y=\"561\" transform=\"translate(175.93,0)\" style=\"font-family: 'Open Sans', verdana, arial, sans-serif; font-size: 12px; fill: rgb(42, 63, 95); fill-opacity: 1; white-space: pre;\">0.5</text></g><g class=\"x2tick\"><text text-anchor=\"middle\" x=\"0\" y=\"561\" transform=\"translate(248.45,0)\" style=\"font-family: 'Open Sans', verdana, arial, sans-serif; font-size: 12px; fill: rgb(42, 63, 95); fill-opacity: 1; white-space: pre;\">1</text></g><g class=\"x2tick\"><text text-anchor=\"middle\" x=\"0\" y=\"561\" transform=\"translate(320.98,0)\" style=\"font-family: 'Open Sans', verdana, arial, sans-serif; font-size: 12px; fill: rgb(42, 63, 95); fill-opacity: 1; white-space: pre;\">1.5</text></g><g class=\"x2tick\"><text text-anchor=\"middle\" x=\"0\" y=\"561\" transform=\"translate(393.5,0)\" style=\"font-family: 'Open Sans', verdana, arial, sans-serif; font-size: 12px; fill: rgb(42, 63, 95); fill-opacity: 1; white-space: pre;\">2</text></g><g class=\"x2tick\"><text text-anchor=\"middle\" x=\"0\" y=\"561\" transform=\"translate(466.03,0)\" style=\"font-family: 'Open Sans', verdana, arial, sans-serif; font-size: 12px; fill: rgb(42, 63, 95); fill-opacity: 1; white-space: pre;\">2.5</text></g><g class=\"x2tick\"><text text-anchor=\"middle\" x=\"0\" y=\"561\" transform=\"translate(538.55,0)\" style=\"font-family: 'Open Sans', verdana, arial, sans-serif; font-size: 12px; fill: rgb(42, 63, 95); fill-opacity: 1; white-space: pre;\">3</text></g><g class=\"x2tick\"><text text-anchor=\"middle\" x=\"0\" y=\"561\" transform=\"translate(611.08,0)\" style=\"font-family: 'Open Sans', verdana, arial, sans-serif; font-size: 12px; fill: rgb(42, 63, 95); fill-opacity: 1; white-space: pre;\">3.5</text></g><g class=\"x2tick\"><text text-anchor=\"middle\" x=\"0\" y=\"561\" transform=\"translate(683.6,0)\" style=\"font-family: 'Open Sans', verdana, arial, sans-serif; font-size: 12px; fill: rgb(42, 63, 95); fill-opacity: 1; white-space: pre;\">4</text></g></g><g class=\"yaxislayer-above\"><g class=\"y2tick\"><text text-anchor=\"end\" x=\"66\" y=\"4.199999999999999\" transform=\"translate(0,532.98)\" style=\"font-family: 'Open Sans', verdana, arial, sans-serif; font-size: 12px; fill: rgb(42, 63, 95); fill-opacity: 1; white-space: pre;\">−1</text></g><g class=\"y2tick\"><text text-anchor=\"end\" x=\"66\" y=\"4.199999999999999\" transform=\"translate(0,484.14)\" style=\"font-family: 'Open Sans', verdana, arial, sans-serif; font-size: 12px; fill: rgb(42, 63, 95); fill-opacity: 1; white-space: pre;\">−0.5</text></g><g class=\"y2tick\"><text text-anchor=\"end\" x=\"66\" y=\"4.199999999999999\" transform=\"translate(0,435.3)\" style=\"font-family: 'Open Sans', verdana, arial, sans-serif; font-size: 12px; fill: rgb(42, 63, 95); fill-opacity: 1; white-space: pre;\">0</text></g><g class=\"y2tick\"><text text-anchor=\"end\" x=\"66\" y=\"4.199999999999999\" transform=\"translate(0,386.46000000000004)\" style=\"font-family: 'Open Sans', verdana, arial, sans-serif; font-size: 12px; fill: rgb(42, 63, 95); fill-opacity: 1; white-space: pre;\">0.5</text></g><g class=\"y2tick\"><text text-anchor=\"end\" x=\"66\" y=\"4.199999999999999\" transform=\"translate(0,337.62)\" style=\"font-family: 'Open Sans', verdana, arial, sans-serif; font-size: 12px; fill: rgb(42, 63, 95); fill-opacity: 1; white-space: pre;\">1</text></g></g><g class=\"overaxes-above\"/></g></g><g class=\"polarlayer\"/><g class=\"ternarylayer\"/><g class=\"geolayer\"/><g class=\"funnelarealayer\"/><g class=\"pielayer\"/><g class=\"treemaplayer\"/><g class=\"sunburstlayer\"/><g class=\"glimages\"/><defs id=\"topdefs-f1f932\"><g class=\"clips\"/><clipPath id=\"legendf1f932\"><rect width=\"296\" height=\"29\" x=\"0\" y=\"0\"/></clipPath></defs><g class=\"layer-above\"><g class=\"imagelayer\"/><g class=\"shapelayer\"/></g><g class=\"infolayer\"><g class=\"legend\" pointer-events=\"all\" transform=\"translate(424,11.84999999999998)\"><rect class=\"bg\" shape-rendering=\"crispEdges\" style=\"stroke: rgb(68, 68, 68); stroke-opacity: 1; fill: rgb(255, 255, 255); fill-opacity: 1; stroke-width: 0px;\" width=\"296\" height=\"29\" x=\"0\" y=\"0\"/><g class=\"scrollbox\" transform=\"\" clip-path=\"url('#legendf1f932')\"><g class=\"groups\"><g class=\"traces\" transform=\"translate(0,14.5)\" style=\"opacity: 1;\"><text class=\"legendtext\" text-anchor=\"start\" x=\"40\" y=\"4.680000000000001\" style=\"font-family: 'Open Sans', verdana, arial, sans-serif; font-size: 12px; fill: rgb(42, 63, 95); fill-opacity: 1; white-space: pre;\">a</text><g class=\"layers\" style=\"opacity: 1;\"><g class=\"legendfill\"/><g class=\"legendlines\"><path class=\"js-line\" d=\"M5,0h30\" style=\"fill: none; stroke: rgb(31, 119, 180); stroke-opacity: 1; stroke-width: 2px;\"/></g><g class=\"legendsymbols\"><g class=\"legendpoints\"><path class=\"scatterpts\" transform=\"translate(20,0)\" d=\"M3,0A3,3 0 1,1 0,-3A3,3 0 0,1 3,0Z\" style=\"opacity: 1; stroke-width: 0px; fill: rgb(31, 119, 180); fill-opacity: 1;\"/></g></g></g><rect class=\"legendtoggle\" x=\"0\" y=\"-9.5\" width=\"49.71875\" height=\"19\" style=\"fill: rgb(0, 0, 0); fill-opacity: 0;\"/></g><g class=\"traces\" transform=\"translate(52.21875,14.5)\" style=\"opacity: 1;\"><text class=\"legendtext\" text-anchor=\"start\" x=\"40\" y=\"4.680000000000001\" style=\"font-family: 'Open Sans', verdana, arial, sans-serif; font-size: 12px; fill: rgb(42, 63, 95); fill-opacity: 1; white-space: pre;\">Buy</text><g class=\"layers\" style=\"opacity: 1;\"><g class=\"legendfill\"/><g class=\"legendlines\"/><g class=\"legendsymbols\"><g class=\"legendpoints\"><path class=\"scatterpts\" transform=\"translate(20,0)\" d=\"M-4.62,2H4.62L0,-4Z\" style=\"opacity: 1; stroke-width: 1px; fill: rgb(55, 177, 63); fill-opacity: 1; stroke: rgb(38, 123, 44); stroke-opacity: 1;\"/></g></g></g><rect class=\"legendtoggle\" x=\"0\" y=\"-9.5\" width=\"65.421875\" height=\"19\" style=\"fill: rgb(0, 0, 0); fill-opacity: 0;\"/></g><g class=\"traces\" transform=\"translate(120.140625,14.5)\" style=\"opacity: 1;\"><text class=\"legendtext\" text-anchor=\"start\" x=\"40\" y=\"4.680000000000001\" style=\"font-family: 'Open Sans', verdana, arial, sans-serif; font-size: 12px; fill: rgb(42, 63, 95); fill-opacity: 1; white-space: pre;\">Sell</text><g class=\"layers\" style=\"opacity: 1;\"><g class=\"legendfill\"/><g class=\"legendlines\"/><g class=\"legendsymbols\"><g class=\"legendpoints\"><path class=\"scatterpts\" transform=\"translate(20,0)\" d=\"M-4.62,-2H4.62L0,4Z\" style=\"opacity: 1; stroke-width: 1px; fill: rgb(234, 67, 53); fill-opacity: 1; stroke: rgb(181, 31, 18); stroke-opacity: 1;\"/></g></g></g><rect class=\"legendtoggle\" x=\"0\" y=\"-9.5\" width=\"64.4375\" height=\"19\" style=\"fill: rgb(0, 0, 0); fill-opacity: 0;\"/></g><g class=\"traces\" transform=\"translate(187.078125,14.5)\" style=\"opacity: 1;\"><text class=\"legendtext\" text-anchor=\"start\" x=\"40\" y=\"4.680000000000001\" style=\"font-family: 'Open Sans', verdana, arial, sans-serif; font-size: 12px; fill: rgb(42, 63, 95); fill-opacity: 1; white-space: pre;\">Order Size</text><g class=\"layers\" style=\"opacity: 1;\"><g class=\"legendfill\"/><g class=\"legendlines\"><path class=\"js-line\" d=\"M5,0h30\" style=\"fill: none; stroke: rgb(220, 57, 18); stroke-opacity: 1; stroke-width: 2px;\"/></g><g class=\"legendsymbols\"><g class=\"legendpoints\"><path class=\"scatterpts\" transform=\"translate(20,0)\" d=\"M3,0A3,3 0 1,1 0,-3A3,3 0 0,1 3,0Z\" style=\"opacity: 1; stroke-width: 0px; fill: rgb(220, 57, 18); fill-opacity: 1;\"/></g></g></g><rect class=\"legendtoggle\" x=\"0\" y=\"-9.5\" width=\"105.984375\" height=\"19\" style=\"fill: rgb(0, 0, 0); fill-opacity: 0;\"/></g></g></g><rect class=\"scrollbar\" rx=\"20\" ry=\"3\" width=\"0\" height=\"0\" style=\"fill: rgb(128, 139, 164); fill-opacity: 1;\" x=\"0\" y=\"0\"/></g><g class=\"g-gtitle\"/><g class=\"g-xtitle\"/><g class=\"g-x2title\"><text class=\"x2title\" x=\"393.5\" y=\"588.3\" text-anchor=\"middle\" style=\"font-family: 'Open Sans', verdana, arial, sans-serif; font-size: 14px; fill: rgb(42, 63, 95); opacity: 1; font-weight: normal; white-space: pre;\">Date</text></g><g class=\"g-ytitle\"><text class=\"ytitle\" transform=\"rotate(-90,33.559375,177.7)\" x=\"33.559375\" y=\"177.7\" text-anchor=\"middle\" style=\"font-family: 'Open Sans', verdana, arial, sans-serif; font-size: 14px; fill: rgb(42, 63, 95); opacity: 1; font-weight: normal; white-space: pre;\">Price</text></g><g class=\"g-y2title\" transform=\"translate(2.255859375,0)\"><text class=\"y2title\" transform=\"rotate(-90,11.746875000000003,435.3)\" x=\"11.746875000000003\" y=\"435.3\" text-anchor=\"middle\" style=\"font-family: 'Open Sans', verdana, arial, sans-serif; font-size: 14px; fill: rgb(42, 63, 95); opacity: 1; font-weight: normal; white-space: pre;\">Order Size</text></g><g class=\"annotation\" data-index=\"0\" style=\"opacity: 1;\"><g class=\"annotation-text-g\" transform=\"rotate(0,393.5,53)\"><g class=\"cursor-pointer\" transform=\"translate(365,41)\"><rect class=\"bg\" x=\"0.5\" y=\"0.5\" width=\"57\" height=\"23\" style=\"stroke-width: 1px; stroke: rgb(0, 0, 0); stroke-opacity: 0; fill: rgb(0, 0, 0); fill-opacity: 0;\"/><text class=\"annotation-text\" text-anchor=\"middle\" x=\"29.046875\" y=\"18\" style=\"font-family: 'Open Sans', verdana, arial, sans-serif; font-size: 16px; fill: rgb(42, 63, 95); fill-opacity: 1; white-space: pre;\">Orders</text></g></g></g><g class=\"annotation\" data-index=\"1\" style=\"opacity: 1;\"><g class=\"annotation-text-g\" transform=\"rotate(0,393.5,310.6)\"><g class=\"cursor-pointer\" transform=\"translate(349,299)\"><rect class=\"bg\" x=\"0.5\" y=\"0.5\" width=\"88\" height=\"23\" style=\"stroke-width: 1px; stroke: rgb(0, 0, 0); stroke-opacity: 0; fill: rgb(0, 0, 0); fill-opacity: 0;\"/><text class=\"annotation-text\" text-anchor=\"middle\" x=\"44.328125\" y=\"18\" style=\"font-family: 'Open Sans', verdana, arial, sans-serif; font-size: 16px; fill: rgb(42, 63, 95); fill-opacity: 1; white-space: pre;\">Order Size</text></g></g></g></g></svg>"
      ]
     },
     "metadata": {},
     "output_type": "display_data"
    }
   ],
   "source": [
    "from vectorbt import settings\n",
    "color_schema = settings['plotting']['color_schema']\n",
    "\n",
    "fig = portfolio['a'].plot(subplots=[\n",
    "    'orders',\n",
    "    ('order_size', dict(title='Order Size', can_plot_groups=False))  # placeholder\n",
    "])\n",
    "\n",
    "order_size.vbt.plot(trace_kwargs=dict(name='Order Size'), add_trace_kwargs=dict(row=2, col=1), fig=fig).show_svg()"
   ]
  },
  {
   "cell_type": "code",
   "execution_count": null,
   "metadata": {},
   "outputs": [],
   "source": []
  }
 ],
 "metadata": {
  "kernelspec": {
   "display_name": "Python 3",
   "language": "python",
   "name": "python3"
  },
  "language_info": {
   "codemirror_mode": {
    "name": "ipython",
    "version": 3
   },
   "file_extension": ".py",
   "mimetype": "text/x-python",
   "name": "python",
   "nbconvert_exporter": "python",
   "pygments_lexer": "ipython3",
   "version": "3.7.3"
  },
  "widgets": {
   "application/vnd.jupyter.widget-state+json": {
    "state": {},
    "version_major": 2,
    "version_minor": 0
   }
  }
 },
 "nbformat": 4,
 "nbformat_minor": 4
}
