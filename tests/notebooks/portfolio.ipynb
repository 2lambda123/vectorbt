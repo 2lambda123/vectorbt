{
 "cells": [
  {
   "cell_type": "markdown",
   "metadata": {},
   "source": [
    "# portfolio"
   ]
  },
  {
   "cell_type": "code",
   "execution_count": 1,
   "metadata": {},
   "outputs": [],
   "source": [
    "import vectorbt as vbt\n",
    "\n",
    "from vectorbt.portfolio.enums import SizeType"
   ]
  },
  {
   "cell_type": "code",
   "execution_count": 2,
   "metadata": {
    "Collapsed": "false"
   },
   "outputs": [],
   "source": [
    "import numpy as np\n",
    "import pandas as pd\n",
    "from datetime import datetime, timedelta\n",
    "from numba import njit, f8, i8, b1, optional\n",
    "from datetime import datetime"
   ]
  },
  {
   "cell_type": "code",
   "execution_count": 3,
   "metadata": {
    "Collapsed": "false"
   },
   "outputs": [
    {
     "name": "stdout",
     "output_type": "stream",
     "text": [
      "2020-01-01    1\n",
      "2020-01-02    2\n",
      "2020-01-03    3\n",
      "2020-01-04    2\n",
      "2020-01-05    1\n",
      "dtype: int64\n"
     ]
    }
   ],
   "source": [
    "price = pd.Series([1, 2, 3, 2, 1], index=pd.Index([\n",
    "    datetime(2020, 1, 1),\n",
    "    datetime(2020, 1, 2),\n",
    "    datetime(2020, 1, 3),\n",
    "    datetime(2020, 1, 4),\n",
    "    datetime(2020, 1, 5)\n",
    "]))\n",
    "\n",
    "print(price)"
   ]
  },
  {
   "cell_type": "code",
   "execution_count": 4,
   "metadata": {},
   "outputs": [
    {
     "name": "stdout",
     "output_type": "stream",
     "text": [
      "(1000,)\n"
     ]
    }
   ],
   "source": [
    "big_price = pd.Series(np.random.uniform(size=(1000,)))\n",
    "big_price.index = [datetime(2018, 1, 1) + timedelta(days=i) for i in range(1000)]\n",
    "\n",
    "print(big_price.shape)"
   ]
  },
  {
   "cell_type": "code",
   "execution_count": 5,
   "metadata": {},
   "outputs": [
    {
     "name": "stdout",
     "output_type": "stream",
     "text": [
      "                a      b      c\n",
      "2020-01-01   True   True  False\n",
      "2020-01-02   True  False   True\n",
      "2020-01-03   True   True  False\n",
      "2020-01-04  False  False   True\n",
      "2020-01-05  False   True  False\n",
      "                a      b      c\n",
      "2020-01-01  False  False   True\n",
      "2020-01-02  False   True  False\n",
      "2020-01-03   True  False   True\n",
      "2020-01-04   True   True  False\n",
      "2020-01-05   True  False   True\n"
     ]
    }
   ],
   "source": [
    "entries = pd.DataFrame({\n",
    "    'a': [True, True, True, False, False],\n",
    "    'b': [True, False, True, False, True],\n",
    "    'c': [False, True, False, True, False]\n",
    "}, index=price.index)\n",
    "exits = pd.DataFrame({\n",
    "    'a': [False, False, True, True, True],\n",
    "    'b': [False, True, False, True, False],\n",
    "    'c': [True, False, True, False, True]\n",
    "}, index=price.index)\n",
    "\n",
    "print(entries)\n",
    "print(exits)"
   ]
  },
  {
   "cell_type": "code",
   "execution_count": 6,
   "metadata": {
    "Collapsed": "false"
   },
   "outputs": [
    {
     "name": "stdout",
     "output_type": "stream",
     "text": [
      "(1000, 1000)\n",
      "(1000, 1000)\n"
     ]
    }
   ],
   "source": [
    "big_entries, big_exits = pd.DataFrame.vbt.signals.generate_random_entries_and_exits(\n",
    "    (1000, 1000), 100, seed=42, index=big_price.index)\n",
    "\n",
    "print(big_entries.shape)\n",
    "print(big_exits.shape)"
   ]
  },
  {
   "cell_type": "code",
   "execution_count": 7,
   "metadata": {},
   "outputs": [],
   "source": [
    "# Disable caching for performance testing\n",
    "# NOTE: Expect waterfall of executions, since some attributes depend on other attributes \n",
    "# that have to be calculated again and again\n",
    "vbt.defaults.caching = False"
   ]
  },
  {
   "cell_type": "markdown",
   "metadata": {},
   "source": [
    "## from_signals"
   ]
  },
  {
   "cell_type": "code",
   "execution_count": 8,
   "metadata": {},
   "outputs": [
    {
     "name": "stdout",
     "output_type": "stream",
     "text": [
      "   col  idx   size  price  fees  side\n",
      "0    0    0  100.0    1.0   0.0     0\n",
      "1    0    3  100.0    2.0   0.0     1\n",
      "2020-01-01    100.0\n",
      "2020-01-02    100.0\n",
      "2020-01-03    100.0\n",
      "2020-01-04      0.0\n",
      "2020-01-05      0.0\n",
      "Name: a, dtype: float64\n",
      "2020-01-01      0.0\n",
      "2020-01-02      0.0\n",
      "2020-01-03      0.0\n",
      "2020-01-04    200.0\n",
      "2020-01-05    200.0\n",
      "Name: a, dtype: float64\n",
      "4.77 ms ± 255 µs per loop (mean ± std. dev. of 7 runs, 100 loops each)\n"
     ]
    }
   ],
   "source": [
    "portfolio = vbt.Portfolio.from_signals(price, entries['a'], exits['a'])\n",
    "print(portfolio.orders.records)\n",
    "print(portfolio.shares)\n",
    "print(portfolio.cash)\n",
    "\n",
    "%timeit vbt.Portfolio.from_signals(big_price, big_entries.iloc[:, 0], big_exits.iloc[:, 0])"
   ]
  },
  {
   "cell_type": "code",
   "execution_count": 9,
   "metadata": {},
   "outputs": [
    {
     "name": "stdout",
     "output_type": "stream",
     "text": [
      "    col  idx  size  price  fees  side\n",
      "0     0    0   1.0    1.0   0.0     0\n",
      "1     0    3   1.0    2.0   0.0     1\n",
      "2     1    0   1.0    1.0   0.0     0\n",
      "3     1    1   1.0    2.0   0.0     1\n",
      "4     1    2   1.0    3.0   0.0     0\n",
      "5     1    3   1.0    2.0   0.0     1\n",
      "6     1    4   1.0    1.0   0.0     0\n",
      "7     2    1   1.0    2.0   0.0     0\n",
      "8     2    2   1.0    3.0   0.0     1\n",
      "9     2    3   1.0    2.0   0.0     0\n",
      "10    2    4   1.0    1.0   0.0     1\n",
      "              a    b    c\n",
      "2020-01-01  1.0  1.0  0.0\n",
      "2020-01-02  1.0  0.0  1.0\n",
      "2020-01-03  1.0  1.0  0.0\n",
      "2020-01-04  0.0  0.0  1.0\n",
      "2020-01-05  0.0  1.0  0.0\n",
      "                a      b      c\n",
      "2020-01-01   99.0   99.0  100.0\n",
      "2020-01-02   99.0  101.0   98.0\n",
      "2020-01-03   99.0   98.0  101.0\n",
      "2020-01-04  101.0  100.0   99.0\n",
      "2020-01-05  101.0   99.0  100.0\n",
      "37.8 ms ± 8.08 ms per loop (mean ± std. dev. of 7 runs, 10 loops each)\n"
     ]
    }
   ],
   "source": [
    "portfolio = vbt.Portfolio.from_signals(price, entries, exits, size=1.)\n",
    "print(portfolio.orders.records)\n",
    "print(portfolio.shares)\n",
    "print(portfolio.cash)\n",
    "\n",
    "%timeit vbt.Portfolio.from_signals(big_price, big_entries, big_exits, size=1.)"
   ]
  },
  {
   "cell_type": "code",
   "execution_count": 10,
   "metadata": {},
   "outputs": [
    {
     "name": "stdout",
     "output_type": "stream",
     "text": [
      "    col  idx        size  price  fees  side\n",
      "0     0    0  100.000000    1.0   0.0     0\n",
      "1     0    3  100.000000    2.0   0.0     1\n",
      "2     1    0  100.000000    1.0   0.0     0\n",
      "3     1    1  100.000000    2.0   0.0     1\n",
      "4     1    2   66.666667    3.0   0.0     0\n",
      "5     1    3   66.666667    2.0   0.0     1\n",
      "6     1    4  133.333333    1.0   0.0     0\n",
      "7     2    1   50.000000    2.0   0.0     0\n",
      "8     2    2   50.000000    3.0   0.0     1\n",
      "9     2    3   75.000000    2.0   0.0     0\n",
      "10    2    4   75.000000    1.0   0.0     1\n",
      "                a           b     c\n",
      "2020-01-01  100.0  100.000000   0.0\n",
      "2020-01-02  100.0    0.000000  50.0\n",
      "2020-01-03  100.0   66.666667   0.0\n",
      "2020-01-04    0.0    0.000000  75.0\n",
      "2020-01-05    0.0  133.333333   0.0\n",
      "                a           b      c\n",
      "2020-01-01    0.0    0.000000  100.0\n",
      "2020-01-02    0.0  200.000000    0.0\n",
      "2020-01-03    0.0    0.000000  150.0\n",
      "2020-01-04  200.0  133.333333    0.0\n",
      "2020-01-05  200.0    0.000000   75.0\n",
      "41.5 ms ± 5.95 ms per loop (mean ± std. dev. of 7 runs, 10 loops each)\n"
     ]
    }
   ],
   "source": [
    "portfolio = vbt.Portfolio.from_signals(price, entries, exits, size=np.inf) # all in/out\n",
    "print(portfolio.orders.records)\n",
    "print(portfolio.shares)\n",
    "print(portfolio.cash)\n",
    "\n",
    "%timeit vbt.Portfolio.from_signals(big_price, big_entries, big_exits, size=np.inf)"
   ]
  },
  {
   "cell_type": "code",
   "execution_count": 11,
   "metadata": {},
   "outputs": [
    {
     "name": "stdout",
     "output_type": "stream",
     "text": [
      "    col  idx  size  price  fees  side\n",
      "0     0    0   1.0    1.0  0.01     0\n",
      "1     0    3   1.0    2.0  0.02     1\n",
      "2     1    0   1.0    1.0  0.01     0\n",
      "3     1    1   1.0    2.0  0.02     1\n",
      "4     1    2   1.0    3.0  0.03     0\n",
      "5     1    3   1.0    2.0  0.02     1\n",
      "6     1    4   1.0    1.0  0.01     0\n",
      "7     2    1   1.0    2.0  0.02     0\n",
      "8     2    2   1.0    3.0  0.03     1\n",
      "9     2    3   1.0    2.0  0.02     0\n",
      "10    2    4   1.0    1.0  0.01     1\n",
      "              a    b    c\n",
      "2020-01-01  1.0  1.0  0.0\n",
      "2020-01-02  1.0  0.0  1.0\n",
      "2020-01-03  1.0  1.0  0.0\n",
      "2020-01-04  0.0  0.0  1.0\n",
      "2020-01-05  0.0  1.0  0.0\n",
      "                 a       b       c\n",
      "2020-01-01   98.99   98.99  100.00\n",
      "2020-01-02   98.99  100.97   97.98\n",
      "2020-01-03   98.99   97.94  100.95\n",
      "2020-01-04  100.97   99.92   98.93\n",
      "2020-01-05  100.97   98.91   99.92\n",
      "41.7 ms ± 2.26 ms per loop (mean ± std. dev. of 7 runs, 10 loops each)\n"
     ]
    }
   ],
   "source": [
    "portfolio = vbt.Portfolio.from_signals(price, entries, exits, size=1, fees=0.01) # w/ fees\n",
    "print(portfolio.orders.records)\n",
    "print(portfolio.shares)\n",
    "print(portfolio.cash)\n",
    "\n",
    "%timeit vbt.Portfolio.from_signals(big_price, big_entries, big_exits, size=1, fees=0.01)"
   ]
  },
  {
   "cell_type": "code",
   "execution_count": 12,
   "metadata": {},
   "outputs": [
    {
     "name": "stdout",
     "output_type": "stream",
     "text": [
      "    col  idx  size  price  fees  side\n",
      "0     0    0   1.0    1.0   1.0     0\n",
      "1     0    3   1.0    2.0   1.0     1\n",
      "2     1    0   1.0    1.0   1.0     0\n",
      "3     1    1   1.0    2.0   1.0     1\n",
      "4     1    2   1.0    3.0   1.0     0\n",
      "5     1    3   1.0    2.0   1.0     1\n",
      "6     1    4   1.0    1.0   1.0     0\n",
      "7     2    1   1.0    2.0   1.0     0\n",
      "8     2    2   1.0    3.0   1.0     1\n",
      "9     2    3   1.0    2.0   1.0     0\n",
      "10    2    4   1.0    1.0   1.0     1\n",
      "              a    b    c\n",
      "2020-01-01  1.0  1.0  0.0\n",
      "2020-01-02  1.0  0.0  1.0\n",
      "2020-01-03  1.0  1.0  0.0\n",
      "2020-01-04  0.0  0.0  1.0\n",
      "2020-01-05  0.0  1.0  0.0\n",
      "               a     b      c\n",
      "2020-01-01  98.0  98.0  100.0\n",
      "2020-01-02  98.0  99.0   97.0\n",
      "2020-01-03  98.0  95.0   99.0\n",
      "2020-01-04  99.0  96.0   96.0\n",
      "2020-01-05  99.0  94.0   96.0\n",
      "39.1 ms ± 2.94 ms per loop (mean ± std. dev. of 7 runs, 10 loops each)\n"
     ]
    }
   ],
   "source": [
    "portfolio = vbt.Portfolio.from_signals(price, entries, exits, size=1, fixed_fees=1) # w/ fixed fees\n",
    "print(portfolio.orders.records)\n",
    "print(portfolio.shares)\n",
    "print(portfolio.cash)\n",
    "\n",
    "%timeit vbt.Portfolio.from_signals(big_price, big_entries, big_exits, size=1, fixed_fees=1)"
   ]
  },
  {
   "cell_type": "code",
   "execution_count": 13,
   "metadata": {},
   "outputs": [
    {
     "name": "stdout",
     "output_type": "stream",
     "text": [
      "    col  idx  size  price  fees  side\n",
      "0     0    0   1.0   1.01   0.0     0\n",
      "1     0    3   1.0   1.98   0.0     1\n",
      "2     1    0   1.0   1.01   0.0     0\n",
      "3     1    1   1.0   1.98   0.0     1\n",
      "4     1    2   1.0   3.03   0.0     0\n",
      "5     1    3   1.0   1.98   0.0     1\n",
      "6     1    4   1.0   1.01   0.0     0\n",
      "7     2    1   1.0   2.02   0.0     0\n",
      "8     2    2   1.0   2.97   0.0     1\n",
      "9     2    3   1.0   2.02   0.0     0\n",
      "10    2    4   1.0   0.99   0.0     1\n",
      "              a    b    c\n",
      "2020-01-01  1.0  1.0  0.0\n",
      "2020-01-02  1.0  0.0  1.0\n",
      "2020-01-03  1.0  1.0  0.0\n",
      "2020-01-04  0.0  0.0  1.0\n",
      "2020-01-05  0.0  1.0  0.0\n",
      "                 a       b       c\n",
      "2020-01-01   98.99   98.99  100.00\n",
      "2020-01-02   98.99  100.97   97.98\n",
      "2020-01-03   98.99   97.94  100.95\n",
      "2020-01-04  100.97   99.92   98.93\n",
      "2020-01-05  100.97   98.91   99.92\n",
      "34.7 ms ± 2.69 ms per loop (mean ± std. dev. of 7 runs, 10 loops each)\n"
     ]
    }
   ],
   "source": [
    "portfolio = vbt.Portfolio.from_signals(price, entries, exits, size=1, slippage=0.01) # w/ slippage\n",
    "print(portfolio.orders.records)\n",
    "print(portfolio.shares)\n",
    "print(portfolio.cash)\n",
    "\n",
    "%timeit vbt.Portfolio.from_signals(big_price, big_entries, big_exits, size=1, slippage=0.01)"
   ]
  },
  {
   "cell_type": "code",
   "execution_count": 14,
   "metadata": {},
   "outputs": [
    {
     "name": "stdout",
     "output_type": "stream",
     "text": [
      "    col  idx  size  price  fees  side\n",
      "0     0    0   1.0    0.9   0.0     0\n",
      "1     0    3   1.0    2.2   0.0     1\n",
      "2     1    0   1.0    0.9   0.0     0\n",
      "3     1    1   1.0    2.2   0.0     1\n",
      "4     1    2   1.0    2.7   0.0     0\n",
      "5     1    3   1.0    2.2   0.0     1\n",
      "6     1    4   1.0    0.9   0.0     0\n",
      "7     2    1   1.0    1.8   0.0     0\n",
      "8     2    2   1.0    3.3   0.0     1\n",
      "9     2    3   1.0    1.8   0.0     0\n",
      "10    2    4   1.0    1.1   0.0     1\n",
      "              a    b    c\n",
      "2020-01-01  1.0  1.0  0.0\n",
      "2020-01-02  1.0  0.0  1.0\n",
      "2020-01-03  1.0  1.0  0.0\n",
      "2020-01-04  0.0  0.0  1.0\n",
      "2020-01-05  0.0  1.0  0.0\n",
      "                a      b      c\n",
      "2020-01-01   99.1   99.1  100.0\n",
      "2020-01-02   99.1  101.3   98.2\n",
      "2020-01-03   99.1   98.6  101.5\n",
      "2020-01-04  101.3  100.8   99.7\n",
      "2020-01-05  101.3   99.9  100.8\n",
      "35.6 ms ± 2.86 ms per loop (mean ± std. dev. of 7 runs, 10 loops each)\n"
     ]
    }
   ],
   "source": [
    "# entry & exit price\n",
    "portfolio = vbt.Portfolio.from_signals(\n",
    "    price, entries, exits, size=1, entry_price=price*0.9, exit_price=price*1.1)\n",
    "print(portfolio.orders.records)\n",
    "print(portfolio.shares)\n",
    "print(portfolio.cash)\n",
    "\n",
    "%timeit vbt.Portfolio.from_signals(\\\n",
    "    big_price, big_entries, big_exits, size=1, entry_price=big_price*0.9, exit_price=big_price*1.1)"
   ]
  },
  {
   "cell_type": "code",
   "execution_count": 15,
   "metadata": {},
   "outputs": [
    {
     "name": "stdout",
     "output_type": "stream",
     "text": [
      "    col  idx  size  price  fees  side\n",
      "0     0    0   1.0    1.0   0.0     0\n",
      "1     0    1   1.0    2.0   0.0     0\n",
      "2     0    2   1.0    3.0   0.0     1\n",
      "3     0    3   1.0    2.0   0.0     1\n",
      "4     1    0   1.0    1.0   0.0     0\n",
      "5     1    1   1.0    2.0   0.0     1\n",
      "6     1    2   1.0    3.0   0.0     0\n",
      "7     1    3   1.0    2.0   0.0     1\n",
      "8     1    4   1.0    1.0   0.0     0\n",
      "9     2    1   1.0    2.0   0.0     0\n",
      "10    2    2   1.0    3.0   0.0     1\n",
      "11    2    3   1.0    2.0   0.0     0\n",
      "12    2    4   1.0    1.0   0.0     1\n",
      "              a    b    c\n",
      "2020-01-01  1.0  1.0  0.0\n",
      "2020-01-02  2.0  0.0  1.0\n",
      "2020-01-03  1.0  1.0  0.0\n",
      "2020-01-04  0.0  0.0  1.0\n",
      "2020-01-05  0.0  1.0  0.0\n",
      "                a      b      c\n",
      "2020-01-01   99.0   99.0  100.0\n",
      "2020-01-02   97.0  101.0   98.0\n",
      "2020-01-03  100.0   98.0  101.0\n",
      "2020-01-04  102.0  100.0   99.0\n",
      "2020-01-05  102.0   99.0  100.0\n",
      "34.9 ms ± 2.81 ms per loop (mean ± std. dev. of 7 runs, 10 loops each)\n"
     ]
    }
   ],
   "source": [
    "portfolio = vbt.Portfolio.from_signals(price, entries, exits, size=1, accumulate=True) # w/ accumulation\n",
    "print(portfolio.orders.records)\n",
    "print(portfolio.shares)\n",
    "print(portfolio.cash)\n",
    "\n",
    "%timeit vbt.Portfolio.from_signals(big_price, big_entries, big_exits, size=1, accumulate=True)"
   ]
  },
  {
   "cell_type": "code",
   "execution_count": 16,
   "metadata": {},
   "outputs": [
    {
     "name": "stdout",
     "output_type": "stream",
     "text": [
      "2020-01-01    1.0\n",
      "2020-01-02    0.0\n",
      "2020-01-03    3.0\n",
      "2020-01-04    3.0\n",
      "2020-01-05    5.0\n",
      "dtype: float64\n",
      "2020-01-01     99.0\n",
      "2020-01-02    101.0\n",
      "2020-01-03     98.0\n",
      "2020-01-04     98.0\n",
      "2020-01-05      5.0\n",
      "dtype: float64\n",
      "2020-01-01    1.0\n",
      "2020-01-02    0.0\n",
      "2020-01-03    3.0\n",
      "2020-01-04    7.0\n",
      "2020-01-05    5.0\n",
      "dtype: float64\n",
      "2020-01-01     99.0\n",
      "2020-01-02    101.0\n",
      "2020-01-03     98.0\n",
      "2020-01-04     94.0\n",
      "2020-01-05      5.0\n",
      "dtype: float64\n"
     ]
    }
   ],
   "source": [
    "portfolio = vbt.Portfolio.from_signals(\n",
    "    price, \n",
    "    entries=[True, False, True, True, True],\n",
    "    exits=[False, True, False, False, True],\n",
    "    size=[1, 2, 3, 4, 5], \n",
    "    size_type=SizeType.Shares, accumulate=False)\n",
    "print(portfolio.shares)\n",
    "\n",
    "portfolio = vbt.Portfolio.from_signals(\n",
    "    price, \n",
    "    entries=[True, False, True, True, True],\n",
    "    exits=[False, True, False, False, True],\n",
    "    size=[1, 2, 3, 4, 5], \n",
    "    size_type=SizeType.Cash, accumulate=False)\n",
    "print(portfolio.cash)\n",
    "\n",
    "portfolio = vbt.Portfolio.from_signals(\n",
    "    price, \n",
    "    entries=[True, False, True, True, True],\n",
    "    exits=[False, True, False, False, True],\n",
    "    size=[1, 2, 3, 4, 5], \n",
    "    size_type=SizeType.Shares, accumulate=True)\n",
    "print(portfolio.shares)\n",
    "\n",
    "portfolio = vbt.Portfolio.from_signals(\n",
    "    price, \n",
    "    entries=[True, False, True, True, True],\n",
    "    exits=[False, True, False, False, True],\n",
    "    size=[1, 2, 3, 4, 5], \n",
    "    size_type=SizeType.Cash, accumulate=True)\n",
    "print(portfolio.cash)"
   ]
  },
  {
   "cell_type": "markdown",
   "metadata": {},
   "source": [
    "## from_orders"
   ]
  },
  {
   "cell_type": "code",
   "execution_count": 17,
   "metadata": {},
   "outputs": [],
   "source": [
    "order_size = pd.DataFrame({\n",
    "    'a': [1, 0.1, -1, -0.1, -1],\n",
    "    'b': [1, 1, 1, 1, -np.inf],\n",
    "    'c': [np.inf, -np.inf, np.inf, -np.inf, np.inf]\n",
    "}, index=price.index)\n",
    "big_order_size = pd.DataFrame.vbt.empty((1000, 1000), 1)"
   ]
  },
  {
   "cell_type": "code",
   "execution_count": 18,
   "metadata": {},
   "outputs": [
    {
     "name": "stdout",
     "output_type": "stream",
     "text": [
      "   col  idx  size  price  fees  side\n",
      "0    0    0   1.0    1.0   0.0     0\n",
      "1    0    1   0.1    2.0   0.0     0\n",
      "2    0    2   1.0    3.0   0.0     1\n",
      "3    0    3   0.1    2.0   0.0     1\n",
      "2020-01-01    1.0\n",
      "2020-01-02    1.1\n",
      "2020-01-03    0.1\n",
      "2020-01-04    0.0\n",
      "2020-01-05    0.0\n",
      "Name: a, dtype: float64\n",
      "2020-01-01     99.0\n",
      "2020-01-02     98.8\n",
      "2020-01-03    101.8\n",
      "2020-01-04    102.0\n",
      "2020-01-05    102.0\n",
      "Name: a, dtype: float64\n",
      "4 ms ± 50.1 µs per loop (mean ± std. dev. of 7 runs, 100 loops each)\n"
     ]
    }
   ],
   "source": [
    "portfolio = vbt.Portfolio.from_orders(price, order_size['a'])\n",
    "print(portfolio.orders.records)\n",
    "print(portfolio.shares)\n",
    "print(portfolio.cash)\n",
    "\n",
    "%timeit vbt.Portfolio.from_orders(big_price, big_order_size.iloc[:, 0])"
   ]
  },
  {
   "cell_type": "code",
   "execution_count": 19,
   "metadata": {},
   "outputs": [
    {
     "name": "stdout",
     "output_type": "stream",
     "text": [
      "    col  idx        size  price  fees  side\n",
      "0     0    0    1.000000    1.0   0.0     0\n",
      "1     0    1    0.100000    2.0   0.0     0\n",
      "2     0    2    1.000000    3.0   0.0     1\n",
      "3     0    3    0.100000    2.0   0.0     1\n",
      "4     1    0    1.000000    1.0   0.0     0\n",
      "5     1    1    1.000000    2.0   0.0     0\n",
      "6     1    2    1.000000    3.0   0.0     0\n",
      "7     1    3    1.000000    2.0   0.0     0\n",
      "8     1    4    4.000000    1.0   0.0     1\n",
      "9     2    0  100.000000    1.0   0.0     0\n",
      "10    2    1  100.000000    2.0   0.0     1\n",
      "11    2    2   66.666667    3.0   0.0     0\n",
      "12    2    3   66.666667    2.0   0.0     1\n",
      "13    2    4  133.333333    1.0   0.0     0\n",
      "              a    b           c\n",
      "2020-01-01  1.0  1.0  100.000000\n",
      "2020-01-02  1.1  2.0    0.000000\n",
      "2020-01-03  0.1  3.0   66.666667\n",
      "2020-01-04  0.0  4.0    0.000000\n",
      "2020-01-05  0.0  0.0  133.333333\n",
      "                a     b           c\n",
      "2020-01-01   99.0  99.0    0.000000\n",
      "2020-01-02   98.8  97.0  200.000000\n",
      "2020-01-03  101.8  94.0    0.000000\n",
      "2020-01-04  102.0  92.0  133.333333\n",
      "2020-01-05  102.0  96.0    0.000000\n",
      "50.1 ms ± 2.72 ms per loop (mean ± std. dev. of 7 runs, 10 loops each)\n"
     ]
    }
   ],
   "source": [
    "portfolio = vbt.Portfolio.from_orders(price, order_size)\n",
    "print(portfolio.orders.records)\n",
    "print(portfolio.shares)\n",
    "print(portfolio.cash)\n",
    "\n",
    "%timeit vbt.Portfolio.from_orders(big_price, big_order_size)"
   ]
  },
  {
   "cell_type": "code",
   "execution_count": 20,
   "metadata": {},
   "outputs": [
    {
     "name": "stdout",
     "output_type": "stream",
     "text": [
      "2020-01-01     1.0\n",
      "2020-01-02     3.0\n",
      "2020-01-03     6.0\n",
      "2020-01-04    10.0\n",
      "2020-01-05    15.0\n",
      "dtype: float64\n",
      "2020-01-01    1.0\n",
      "2020-01-02    2.0\n",
      "2020-01-03    3.0\n",
      "2020-01-04    4.0\n",
      "2020-01-05    5.0\n",
      "dtype: float64\n",
      "2020-01-01    99.0\n",
      "2020-01-02    97.0\n",
      "2020-01-03    94.0\n",
      "2020-01-04    90.0\n",
      "2020-01-05    85.0\n",
      "dtype: float64\n",
      "2020-01-01    1.0\n",
      "2020-01-02    2.0\n",
      "2020-01-03    3.0\n",
      "2020-01-04    4.0\n",
      "2020-01-05    5.0\n",
      "dtype: float64\n",
      "2020-01-01    1.0\n",
      "2020-01-02    1.0\n",
      "2020-01-03    1.0\n",
      "2020-01-04    2.0\n",
      "2020-01-05    5.0\n",
      "dtype: float64\n",
      "2020-01-01    10.00\n",
      "2020-01-02    11.00\n",
      "2020-01-03    12.10\n",
      "2020-01-04    21.78\n",
      "2020-01-05    43.56\n",
      "dtype: float64\n"
     ]
    }
   ],
   "source": [
    "portfolio = vbt.Portfolio.from_orders(price, [1, 2, 3, 4, 5], size_type=SizeType.Shares)\n",
    "print(portfolio.shares)\n",
    "\n",
    "portfolio = vbt.Portfolio.from_orders(price, [1, 2, 3, 4, 5], size_type=SizeType.TargetShares)\n",
    "print(portfolio.shares)\n",
    "\n",
    "portfolio = vbt.Portfolio.from_orders(price, [1, 2, 3, 4, 5], size_type=SizeType.Cash)\n",
    "print(portfolio.cash)\n",
    "\n",
    "portfolio = vbt.Portfolio.from_orders(price, [1, 2, 3, 4, 5], size_type=SizeType.TargetCash)\n",
    "print(portfolio.cash)\n",
    "\n",
    "portfolio = vbt.Portfolio.from_orders(price, [1, 2, 3, 4, 5], size_type=SizeType.TargetValue)\n",
    "print(portfolio.shares)\n",
    "\n",
    "portfolio = vbt.Portfolio.from_orders(price, [0.1, 0.2, 0.3, 0.4, 0.5], size_type=SizeType.TargetPercent)\n",
    "print(portfolio.shares)"
   ]
  },
  {
   "cell_type": "markdown",
   "metadata": {},
   "source": [
    "## from_order_func"
   ]
  },
  {
   "cell_type": "code",
   "execution_count": 21,
   "metadata": {},
   "outputs": [],
   "source": [
    "@njit\n",
    "def order_func_nb(order_context, price, fees, fixed_fees, slippage):\n",
    "    i = order_context.i\n",
    "    col = order_context.col\n",
    "    size = col + 1\n",
    "    if i % 2 == 1:\n",
    "        size *= -1\n",
    "    return vbt.portfolio.nb.Order(\n",
    "        size, SizeType.Shares, price[i, col], fees[i, col], fixed_fees[i, col], slippage[i, col])"
   ]
  },
  {
   "cell_type": "code",
   "execution_count": 22,
   "metadata": {},
   "outputs": [
    {
     "name": "stdout",
     "output_type": "stream",
     "text": [
      "   col  idx  size  price    fees  side\n",
      "0    0    0   1.0   1.01  1.0101     0\n",
      "1    0    1   1.0   1.98  1.0198     1\n",
      "2    0    2   1.0   3.03  1.0303     0\n",
      "3    0    3   1.0   1.98  1.0198     1\n",
      "4    0    4   1.0   1.01  1.0101     0\n",
      "2020-01-01    1.0\n",
      "2020-01-02    0.0\n",
      "2020-01-03    1.0\n",
      "2020-01-04    0.0\n",
      "2020-01-05    1.0\n",
      "dtype: float64\n",
      "2020-01-01    97.9799\n",
      "2020-01-02    98.9401\n",
      "2020-01-03    94.8798\n",
      "2020-01-04    95.8400\n",
      "2020-01-05    93.8199\n",
      "dtype: float64\n",
      "3.53 ms ± 366 µs per loop (mean ± std. dev. of 7 runs, 1 loop each)\n"
     ]
    }
   ],
   "source": [
    "portfolio = vbt.Portfolio.from_order_func(\n",
    "    price, \n",
    "    order_func_nb, \n",
    "    price.values[:, None],\n",
    "    np.full(price.shape, 0.01)[:, None],\n",
    "    np.full(price.shape, 1)[:, None],\n",
    "    np.full(price.shape, 0.01)[:, None]\n",
    ")\n",
    "print(portfolio.orders.records)\n",
    "print(portfolio.shares)\n",
    "print(portfolio.cash)\n",
    "\n",
    "%timeit vbt.Portfolio.from_order_func(\\\n",
    "    big_price, \\\n",
    "    order_func_nb, \\\n",
    "    big_price.values[:, None],\\\n",
    "    np.full(big_price.shape, 0.01)[:, None],\\\n",
    "    np.full(big_price.shape, 1)[:, None],\\\n",
    "    np.full(big_price.shape, 0.01)[:, None]\\\n",
    ")"
   ]
  },
  {
   "cell_type": "code",
   "execution_count": 23,
   "metadata": {},
   "outputs": [
    {
     "name": "stdout",
     "output_type": "stream",
     "text": [
      "    col  idx  size  price    fees  side\n",
      "0     0    0   1.0   1.01  1.0101     0\n",
      "1     0    1   1.0   1.98  1.0198     1\n",
      "2     0    2   1.0   3.03  1.0303     0\n",
      "3     0    3   1.0   1.98  1.0198     1\n",
      "4     0    4   1.0   1.01  1.0101     0\n",
      "5     1    0   2.0   1.01  1.0202     0\n",
      "6     1    1   2.0   1.98  1.0396     1\n",
      "7     1    2   2.0   3.03  1.0606     0\n",
      "8     1    3   2.0   1.98  1.0396     1\n",
      "9     1    4   2.0   1.01  1.0202     0\n",
      "10    2    0   3.0   1.01  1.0303     0\n",
      "11    2    1   3.0   1.98  1.0594     1\n",
      "12    2    2   3.0   3.03  1.0909     0\n",
      "13    2    3   3.0   1.98  1.0594     1\n",
      "14    2    4   3.0   1.01  1.0303     0\n",
      "              a    b    c\n",
      "2020-01-01  1.0  2.0  3.0\n",
      "2020-01-02  0.0  0.0  0.0\n",
      "2020-01-03  1.0  2.0  3.0\n",
      "2020-01-04  0.0  0.0  0.0\n",
      "2020-01-05  1.0  2.0  3.0\n",
      "                  a        b         c\n",
      "2020-01-01  97.9799  96.9598   95.9397\n",
      "2020-01-02  98.9401  99.8802  100.8203\n",
      "2020-01-03  94.8798  92.7596   90.6394\n",
      "2020-01-04  95.8400  95.6800   95.5200\n",
      "2020-01-05  93.8199  92.6398   91.4597\n",
      "88 ms ± 8.62 ms per loop (mean ± std. dev. of 7 runs, 10 loops each)\n"
     ]
    }
   ],
   "source": [
    "portfolio = vbt.Portfolio.from_order_func(\n",
    "    price.vbt.tile(3, keys=['a', 'b', 'c']), \n",
    "    order_func_nb, \n",
    "    price.vbt.tile(3).values,\n",
    "    np.full((price.shape[0], 3), 0.01),\n",
    "    np.full((price.shape[0], 3), 1),\n",
    "    np.full((price.shape[0], 3), 0.01)\n",
    ")\n",
    "print(portfolio.orders.records)\n",
    "print(portfolio.shares)\n",
    "print(portfolio.cash)\n",
    "\n",
    "%timeit vbt.Portfolio.from_order_func(\\\n",
    "    big_price.vbt.tile(1000), \\\n",
    "    order_func_nb, \\\n",
    "    big_price.vbt.tile(1000).values,\\\n",
    "    np.full((big_price.shape[0], 1000), 0.01),\\\n",
    "    np.full((big_price.shape[0], 1000), 1),\\\n",
    "    np.full((big_price.shape[0], 1000), 0.01)\\\n",
    ")"
   ]
  },
  {
   "cell_type": "markdown",
   "metadata": {},
   "source": [
    "## Indexing"
   ]
  },
  {
   "cell_type": "code",
   "execution_count": 24,
   "metadata": {},
   "outputs": [
    {
     "name": "stdout",
     "output_type": "stream",
     "text": [
      "(5, 3)\n",
      "(1000, 1000)\n"
     ]
    }
   ],
   "source": [
    "init_capital = [100, 200, 300]\n",
    "levy_alpha = [1., 2., 3.]\n",
    "risk_free = [0.01, 0.02, 0.03]\n",
    "required_return = [0.1, 0.2, 0.3]\n",
    "cutoff = [0.01, 0.02, 0.03]\n",
    "factor_returns = price.vbt.combine_with_multiple(\n",
    "    [0.9, 1., 1.1],\n",
    "    combine_func=np.multiply,\n",
    "    concat=True,\n",
    "    keys=entries.columns\n",
    ")\n",
    "portfolio = vbt.Portfolio.from_signals(\n",
    "    price, entries, exits,\n",
    "    fees=0.01,\n",
    "    init_capital=init_capital,\n",
    "    freq='1 days',\n",
    "    year_freq='252 days',\n",
    "    levy_alpha=levy_alpha,\n",
    "    risk_free=risk_free,\n",
    "    required_return=required_return,\n",
    "    cutoff=cutoff,\n",
    "    factor_returns=factor_returns\n",
    ")\n",
    "print(portfolio.wrapper.shape)\n",
    "\n",
    "big_portfolio = vbt.Portfolio.from_signals(\n",
    "    big_price, big_entries, big_exits, fees=0.01, freq='1 day', year_freq='252 days',\n",
    "    levy_alpha=levy_alpha[0], risk_free=risk_free[0], required_return=required_return[0], \n",
    "    cutoff=cutoff[0], factor_returns=big_price)\n",
    "print(big_portfolio.wrapper.shape)"
   ]
  },
  {
   "cell_type": "code",
   "execution_count": 25,
   "metadata": {},
   "outputs": [
    {
     "name": "stdout",
     "output_type": "stream",
     "text": [
      "            a  b  c\n",
      "2020-01-01  1  1  1\n",
      "2020-01-02  2  2  2\n",
      "2020-01-03  3  3  3\n",
      "2020-01-04  2  2  2\n",
      "2020-01-05  1  1  1\n",
      "a    100\n",
      "b    200\n",
      "c    300\n",
      "dtype: int64\n",
      "    col  idx        size  price      fees  side\n",
      "0     0    0   99.009901    1.0  0.990099     0\n",
      "1     0    3   99.009901    2.0  1.980198     1\n",
      "2     1    0  198.019802    1.0  1.980198     0\n",
      "3     1    1  198.019802    2.0  3.960396     1\n",
      "4     1    2  129.399079    3.0  3.881972     0\n",
      "5     1    3  129.399079    2.0  2.587982     1\n",
      "6     1    4  253.673441    1.0  2.536734     0\n",
      "7     2    1  148.514851    2.0  2.970297     0\n",
      "8     2    2  148.514851    3.0  4.455446     1\n",
      "9     2    3  218.360945    2.0  4.367219     0\n",
      "10    2    4  218.360945    1.0  2.183609     1\n",
      "                     a           b           c\n",
      "2020-01-01    0.000000    0.000000  300.000000\n",
      "2020-01-02    0.000000  392.079208    0.000000\n",
      "2020-01-03    0.000000    0.000000  441.089109\n",
      "2020-01-04  196.039604  256.210175    0.000000\n",
      "2020-01-05  196.039604    0.000000  216.177336\n",
      "                    a           b           c\n",
      "2020-01-01  99.009901  198.019802    0.000000\n",
      "2020-01-02  99.009901    0.000000  148.514851\n",
      "2020-01-03  99.009901  129.399079    0.000000\n",
      "2020-01-04   0.000000    0.000000  218.360945\n",
      "2020-01-05   0.000000  253.673441    0.000000\n",
      "1 days 00:00:00\n",
      "252 days 00:00:00\n",
      "[1.0, 2.0, 3.0]\n",
      "[0.01, 0.02, 0.03]\n",
      "[0.1, 0.2, 0.3]\n",
      "[0.01, 0.02, 0.03]\n",
      "              a    b    c\n",
      "2020-01-01  0.9  1.0  1.1\n",
      "2020-01-02  1.8  2.0  2.2\n",
      "2020-01-03  2.7  3.0  3.3\n",
      "2020-01-04  1.8  2.0  2.2\n",
      "2020-01-05  0.9  1.0  1.1\n"
     ]
    }
   ],
   "source": [
    "print(portfolio.main_price)\n",
    "print(portfolio.init_capital)\n",
    "print(portfolio.orders.records)\n",
    "print(portfolio.cash)\n",
    "print(portfolio.shares)\n",
    "print(portfolio.freq)\n",
    "print(portfolio.year_freq)\n",
    "print(portfolio.levy_alpha)\n",
    "print(portfolio.risk_free)\n",
    "print(portfolio.required_return)\n",
    "print(portfolio.cutoff)\n",
    "print(portfolio.factor_returns)"
   ]
  },
  {
   "cell_type": "code",
   "execution_count": 26,
   "metadata": {},
   "outputs": [
    {
     "name": "stdout",
     "output_type": "stream",
     "text": [
      "2020-01-01    1\n",
      "2020-01-02    2\n",
      "2020-01-03    3\n",
      "2020-01-04    2\n",
      "2020-01-05    1\n",
      "Name: a, dtype: int64\n",
      "100\n",
      "   col  idx       size  price      fees  side\n",
      "0    0    0  99.009901    1.0  0.990099     0\n",
      "1    0    3  99.009901    2.0  1.980198     1\n",
      "2020-01-01      0.000000\n",
      "2020-01-02      0.000000\n",
      "2020-01-03      0.000000\n",
      "2020-01-04    196.039604\n",
      "2020-01-05    196.039604\n",
      "Name: a, dtype: float64\n",
      "2020-01-01    99.009901\n",
      "2020-01-02    99.009901\n",
      "2020-01-03    99.009901\n",
      "2020-01-04     0.000000\n",
      "2020-01-05     0.000000\n",
      "Name: a, dtype: float64\n",
      "1 days 00:00:00\n",
      "252 days 00:00:00\n",
      "1.0\n",
      "0.01\n",
      "0.1\n",
      "0.01\n",
      "2020-01-01    0.9\n",
      "2020-01-02    1.8\n",
      "2020-01-03    2.7\n",
      "2020-01-04    1.8\n",
      "2020-01-05    0.9\n",
      "Name: a, dtype: float64\n"
     ]
    }
   ],
   "source": [
    "print(portfolio['a'].main_price)\n",
    "print(portfolio['a'].init_capital)\n",
    "print(portfolio['a'].orders.records)\n",
    "print(portfolio['a'].cash)\n",
    "print(portfolio['a'].shares)\n",
    "print(portfolio['a'].freq)\n",
    "print(portfolio['a'].year_freq)\n",
    "print(portfolio['a'].levy_alpha)\n",
    "print(portfolio['a'].risk_free)\n",
    "print(portfolio['a'].required_return)\n",
    "print(portfolio['a'].cutoff)\n",
    "print(portfolio['a'].factor_returns)"
   ]
  },
  {
   "cell_type": "code",
   "execution_count": 27,
   "metadata": {},
   "outputs": [
    {
     "name": "stdout",
     "output_type": "stream",
     "text": [
      "2020-01-01    1\n",
      "2020-01-02    2\n",
      "2020-01-03    3\n",
      "2020-01-04    2\n",
      "2020-01-05    1\n",
      "Name: a, dtype: int64\n",
      "64.3 µs ± 1.51 µs per loop (mean ± std. dev. of 7 runs, 10000 loops each)\n",
      "2020-01-01    1\n",
      "2020-01-02    2\n",
      "2020-01-03    3\n",
      "2020-01-04    2\n",
      "2020-01-05    1\n",
      "Name: a, dtype: int64\n",
      "4.98 ms ± 365 µs per loop (mean ± std. dev. of 7 runs, 100 loops each)\n"
     ]
    }
   ],
   "source": [
    "print(portfolio.main_price.iloc[:, 0])\n",
    "%timeit big_portfolio.main_price.iloc[:, 0]\n",
    "\n",
    "print(portfolio.iloc[:, 0].main_price)\n",
    "%timeit big_portfolio.iloc[:, 0].main_price # slower since requires does much more processing"
   ]
  },
  {
   "cell_type": "code",
   "execution_count": 28,
   "metadata": {},
   "outputs": [
    {
     "name": "stdout",
     "output_type": "stream",
     "text": [
      "            a  b  c\n",
      "2020-01-01  1  1  1\n",
      "2020-01-02  2  2  2\n",
      "2020-01-03  3  3  3\n",
      "2020-01-04  2  2  2\n",
      "2020-01-05  1  1  1\n",
      "3.42 ms ± 294 µs per loop (mean ± std. dev. of 7 runs, 100 loops each)\n",
      "            a  b  c\n",
      "2020-01-01  1  1  1\n",
      "2020-01-02  2  2  2\n",
      "2020-01-03  3  3  3\n",
      "2020-01-04  2  2  2\n",
      "2020-01-05  1  1  1\n",
      "29.8 ms ± 2.67 ms per loop (mean ± std. dev. of 7 runs, 10 loops each)\n"
     ]
    }
   ],
   "source": [
    "print(portfolio.main_price.iloc[:, np.arange(portfolio.main_price.shape[1])])\n",
    "%timeit big_portfolio.main_price.iloc[:, np.arange(big_portfolio.main_price.shape[1])]\n",
    "\n",
    "print(portfolio.iloc[:, np.arange(portfolio.main_price.shape[1])].main_price)\n",
    "%timeit big_portfolio.iloc[:, np.arange(big_portfolio.main_price.shape[1])].main_price"
   ]
  },
  {
   "cell_type": "code",
   "execution_count": 29,
   "metadata": {},
   "outputs": [
    {
     "name": "stdout",
     "output_type": "stream",
     "text": [
      "   col  idx       size  price      fees  side\n",
      "0    0    0  99.009901    1.0  0.990099     0\n",
      "1    0    3  99.009901    2.0  1.980198     1\n",
      "3.24 ms ± 560 µs per loop (mean ± std. dev. of 7 runs, 100 loops each)\n"
     ]
    }
   ],
   "source": [
    "orders = portfolio.orders\n",
    "big_orders = big_portfolio.orders\n",
    "\n",
    "print(orders.iloc[:, 0].records)\n",
    "%timeit big_orders.iloc[:, 0].records"
   ]
  },
  {
   "cell_type": "code",
   "execution_count": 30,
   "metadata": {},
   "outputs": [
    {
     "name": "stdout",
     "output_type": "stream",
     "text": [
      "    col  idx        size  price      fees  side\n",
      "0     0    0   99.009901    1.0  0.990099     0\n",
      "1     0    3   99.009901    2.0  1.980198     1\n",
      "2     1    0  198.019802    1.0  1.980198     0\n",
      "3     1    1  198.019802    2.0  3.960396     1\n",
      "4     1    2  129.399079    3.0  3.881972     0\n",
      "5     1    3  129.399079    2.0  2.587982     1\n",
      "6     1    4  253.673441    1.0  2.536734     0\n",
      "7     2    1  148.514851    2.0  2.970297     0\n",
      "8     2    2  148.514851    3.0  4.455446     1\n",
      "9     2    3  218.360945    2.0  4.367219     0\n",
      "10    2    4  218.360945    1.0  2.183609     1\n",
      "3.48 ms ± 500 µs per loop (mean ± std. dev. of 7 runs, 100 loops each)\n"
     ]
    }
   ],
   "source": [
    "print(orders.iloc[:, np.arange(portfolio.main_price.shape[1])].records)\n",
    "%timeit big_orders.iloc[:, np.arange(portfolio.main_price.shape[1])].records"
   ]
  },
  {
   "cell_type": "markdown",
   "metadata": {},
   "source": [
    "## Records"
   ]
  },
  {
   "cell_type": "code",
   "execution_count": 31,
   "metadata": {},
   "outputs": [
    {
     "name": "stdout",
     "output_type": "stream",
     "text": [
      "   col  idx       size  price      fees  side\n",
      "0    0    0  99.009901    1.0  0.990099     0\n",
      "1    0    3  99.009901    2.0  1.980198     1\n",
      "   col  idx       size  price      fees  side\n",
      "0    0    0  99.009901    1.0  0.990099     0\n",
      "1    0    3  99.009901    2.0  1.980198     1\n",
      "    col  idx        size  price      fees  side\n",
      "0     0    0   99.009901    1.0  0.990099     0\n",
      "1     0    3   99.009901    2.0  1.980198     1\n",
      "2     1    0  198.019802    1.0  1.980198     0\n",
      "3     1    1  198.019802    2.0  3.960396     1\n",
      "4     1    2  129.399079    3.0  3.881972     0\n",
      "5     1    3  129.399079    2.0  2.587982     1\n",
      "6     1    4  253.673441    1.0  2.536734     0\n",
      "7     2    1  148.514851    2.0  2.970297     0\n",
      "8     2    2  148.514851    3.0  4.455446     1\n",
      "9     2    3  218.360945    2.0  4.367219     0\n",
      "10    2    4  218.360945    1.0  2.183609     1\n",
      "7.21 ms ± 646 µs per loop (mean ± std. dev. of 7 runs, 100 loops each)\n"
     ]
    }
   ],
   "source": [
    "print(portfolio['a'].orders.records)\n",
    "print(portfolio.orders['a'].records)\n",
    "print(portfolio.orders.records)\n",
    "\n",
    "%timeit big_portfolio.orders.records"
   ]
  },
  {
   "cell_type": "code",
   "execution_count": 32,
   "metadata": {},
   "outputs": [
    {
     "name": "stdout",
     "output_type": "stream",
     "text": [
      "   col       size  entry_idx  entry_price  entry_fees  exit_idx  exit_price  \\\n",
      "0    0  99.009901          0          1.0    0.990099         3         2.0   \n",
      "\n",
      "   exit_fees        pnl    return  status  position_idx  \n",
      "0   1.980198  96.039604  0.960396       1             0  \n",
      "   col       size  entry_idx  entry_price  entry_fees  exit_idx  exit_price  \\\n",
      "0    0  99.009901          0          1.0    0.990099         3         2.0   \n",
      "\n",
      "   exit_fees        pnl    return  status  position_idx  \n",
      "0   1.980198  96.039604  0.960396       1             0  \n",
      "   col        size  entry_idx  entry_price  entry_fees  exit_idx  exit_price  \\\n",
      "0    0   99.009901          0          1.0    0.990099         3         2.0   \n",
      "1    1  198.019802          0          1.0    1.980198         1         2.0   \n",
      "2    1  129.399079          2          3.0    3.881972         3         2.0   \n",
      "3    1  253.673441          4          1.0    2.536734         4         1.0   \n",
      "4    2  148.514851          1          2.0    2.970297         2         3.0   \n",
      "5    2  218.360945          3          2.0    4.367219         4         1.0   \n",
      "\n",
      "   exit_fees         pnl    return  status  position_idx  \n",
      "0   1.980198   96.039604  0.960396       1             0  \n",
      "1   3.960396  192.079208  0.960396       1             1  \n",
      "2   2.587982 -135.869032 -0.346535       1             2  \n",
      "3   0.000000   -2.536734 -0.009901       0             3  \n",
      "4   4.455446  141.089109  0.470297       1             4  \n",
      "5   2.183609 -224.911773 -0.509901       1             5  \n",
      "16.1 ms ± 1.29 ms per loop (mean ± std. dev. of 7 runs, 1 loop each)\n"
     ]
    }
   ],
   "source": [
    "print(portfolio['a'].trades.records)\n",
    "print(portfolio.trades['a'].records)\n",
    "print(portfolio.trades.records)\n",
    "\n",
    "%timeit big_portfolio.trades.records"
   ]
  },
  {
   "cell_type": "code",
   "execution_count": 33,
   "metadata": {},
   "outputs": [
    {
     "name": "stdout",
     "output_type": "stream",
     "text": [
      "   col       size  entry_idx  entry_price  entry_fees  exit_idx  exit_price  \\\n",
      "0    0  99.009901          0          1.0    0.990099         3         2.0   \n",
      "\n",
      "   exit_fees        pnl    return  status  \n",
      "0   1.980198  96.039604  0.960396       1  \n",
      "   col       size  entry_idx  entry_price  entry_fees  exit_idx  exit_price  \\\n",
      "0    0  99.009901          0          1.0    0.990099         3         2.0   \n",
      "\n",
      "   exit_fees        pnl    return  status  \n",
      "0   1.980198  96.039604  0.960396       1  \n",
      "   col        size  entry_idx  entry_price  entry_fees  exit_idx  exit_price  \\\n",
      "0    0   99.009901          0          1.0    0.990099         3         2.0   \n",
      "1    1  198.019802          0          1.0    1.980198         1         2.0   \n",
      "2    1  129.399079          2          3.0    3.881972         3         2.0   \n",
      "3    1  253.673441          4          1.0    2.536734         4         1.0   \n",
      "4    2  148.514851          1          2.0    2.970297         2         3.0   \n",
      "5    2  218.360945          3          2.0    4.367219         4         1.0   \n",
      "\n",
      "   exit_fees         pnl    return  status  \n",
      "0   1.980198   96.039604  0.960396       1  \n",
      "1   3.960396  192.079208  0.960396       1  \n",
      "2   2.587982 -135.869032 -0.346535       1  \n",
      "3   0.000000   -2.536734 -0.009901       0  \n",
      "4   4.455446  141.089109  0.470297       1  \n",
      "5   2.183609 -224.911773 -0.509901       1  \n",
      "12.7 ms ± 1.31 ms per loop (mean ± std. dev. of 7 runs, 1 loop each)\n"
     ]
    }
   ],
   "source": [
    "print(portfolio['a'].positions.records)\n",
    "print(portfolio.positions['a'].records)\n",
    "print(portfolio.positions.records)\n",
    "\n",
    "%timeit big_portfolio.positions.records"
   ]
  },
  {
   "cell_type": "code",
   "execution_count": 34,
   "metadata": {},
   "outputs": [
    {
     "name": "stdout",
     "output_type": "stream",
     "text": [
      "   col  start_idx  valley_idx  end_idx  status\n",
      "0    0          2           3        4       0\n",
      "   col  start_idx  valley_idx  end_idx  status\n",
      "0    0          2           3        4       0\n",
      "   col  start_idx  valley_idx  end_idx  status\n",
      "0    0          2           3        4       0\n",
      "1    1          1           4        4       0\n",
      "2    2          0           1        2       1\n",
      "3    2          2           4        4       0\n",
      "15.6 ms ± 457 µs per loop (mean ± std. dev. of 7 runs, 100 loops each)\n"
     ]
    }
   ],
   "source": [
    "print(portfolio['a'].drawdowns.records)\n",
    "print(portfolio.drawdowns['a'].records)\n",
    "print(portfolio.drawdowns.records)\n",
    "\n",
    "%timeit big_portfolio.drawdowns.records"
   ]
  },
  {
   "cell_type": "markdown",
   "metadata": {},
   "source": [
    "## Equity"
   ]
  },
  {
   "cell_type": "code",
   "execution_count": 35,
   "metadata": {},
   "outputs": [
    {
     "data": {
      "text/plain": [
       "array([[ 99.00990099, 198.01980198, 300.        ],\n",
       "       [198.01980198, 392.07920792, 297.02970297],\n",
       "       [297.02970297, 388.19723557, 441.08910891],\n",
       "       [196.03960396, 256.21017547, 436.72189001],\n",
       "       [196.03960396, 253.67344106, 216.17733556]])"
      ]
     },
     "execution_count": 35,
     "metadata": {},
     "output_type": "execute_result"
    }
   ],
   "source": [
    "portfolio.equity.values"
   ]
  },
  {
   "cell_type": "code",
   "execution_count": 36,
   "metadata": {},
   "outputs": [
    {
     "name": "stdout",
     "output_type": "stream",
     "text": [
      "2020-01-01     99.009901\n",
      "2020-01-02    198.019802\n",
      "2020-01-03    297.029703\n",
      "2020-01-04    196.039604\n",
      "2020-01-05    196.039604\n",
      "Name: a, dtype: float64\n",
      "                     a           b           c\n",
      "2020-01-01   99.009901  198.019802  300.000000\n",
      "2020-01-02  198.019802  392.079208  297.029703\n",
      "2020-01-03  297.029703  388.197236  441.089109\n",
      "2020-01-04  196.039604  256.210175  436.721890\n",
      "2020-01-05  196.039604  253.673441  216.177336\n",
      "7.68 ms ± 435 µs per loop (mean ± std. dev. of 7 runs, 100 loops each)\n"
     ]
    }
   ],
   "source": [
    "print(portfolio['a'].equity)\n",
    "print(portfolio.equity)\n",
    "\n",
    "%timeit big_portfolio.equity"
   ]
  },
  {
   "cell_type": "code",
   "execution_count": 37,
   "metadata": {},
   "outputs": [
    {
     "name": "stdout",
     "output_type": "stream",
     "text": [
      "196.03960396039605\n",
      "a    196.039604\n",
      "b    253.673441\n",
      "c    216.177336\n",
      "dtype: float64\n",
      "9.61 ms ± 1.3 ms per loop (mean ± std. dev. of 7 runs, 100 loops each)\n"
     ]
    }
   ],
   "source": [
    "print(portfolio['a'].final_equity)\n",
    "print(portfolio.final_equity)\n",
    "\n",
    "%timeit big_portfolio.final_equity"
   ]
  },
  {
   "cell_type": "code",
   "execution_count": 38,
   "metadata": {},
   "outputs": [
    {
     "name": "stdout",
     "output_type": "stream",
     "text": [
      "96.03960396039605\n",
      "a    96.039604\n",
      "b    53.673441\n",
      "c   -83.822664\n",
      "dtype: float64\n",
      "14.9 ms ± 5.67 ms per loop (mean ± std. dev. of 7 runs, 100 loops each)\n"
     ]
    }
   ],
   "source": [
    "print(portfolio['a'].total_profit)\n",
    "print(portfolio.total_profit)\n",
    "\n",
    "%timeit big_portfolio.total_profit"
   ]
  },
  {
   "cell_type": "markdown",
   "metadata": {},
   "source": [
    "## Drawdown"
   ]
  },
  {
   "cell_type": "code",
   "execution_count": 39,
   "metadata": {},
   "outputs": [
    {
     "name": "stdout",
     "output_type": "stream",
     "text": [
      "2020-01-01    0.00\n",
      "2020-01-02    0.00\n",
      "2020-01-03    0.00\n",
      "2020-01-04   -0.34\n",
      "2020-01-05   -0.34\n",
      "Name: a, dtype: float64\n",
      "               a         b         c\n",
      "2020-01-01  0.00  0.000000  0.000000\n",
      "2020-01-02  0.00  0.000000 -0.009901\n",
      "2020-01-03  0.00 -0.009901  0.000000\n",
      "2020-01-04 -0.34 -0.346535 -0.009901\n",
      "2020-01-05 -0.34 -0.353005 -0.509901\n",
      "22.2 ms ± 1.28 ms per loop (mean ± std. dev. of 7 runs, 100 loops each)\n"
     ]
    }
   ],
   "source": [
    "print(portfolio['a'].drawdown)\n",
    "print(portfolio.drawdown)\n",
    "\n",
    "%timeit big_portfolio.drawdown"
   ]
  },
  {
   "cell_type": "code",
   "execution_count": 40,
   "metadata": {},
   "outputs": [
    {
     "name": "stdout",
     "output_type": "stream",
     "text": [
      "-0.33999999999999997\n",
      "a   -0.340000\n",
      "b   -0.353005\n",
      "c   -0.509901\n",
      "dtype: float64\n",
      "26.1 ms ± 1.93 ms per loop (mean ± std. dev. of 7 runs, 10 loops each)\n"
     ]
    }
   ],
   "source": [
    "print(portfolio['a'].max_drawdown)\n",
    "print(portfolio.max_drawdown)\n",
    "\n",
    "%timeit big_portfolio.max_drawdown"
   ]
  },
  {
   "cell_type": "markdown",
   "metadata": {},
   "source": [
    "## Returns"
   ]
  },
  {
   "cell_type": "code",
   "execution_count": 41,
   "metadata": {},
   "outputs": [
    {
     "name": "stdout",
     "output_type": "stream",
     "text": [
      "0.0\n",
      "a    0.0\n",
      "b    0.0\n",
      "c    0.0\n",
      "dtype: float64\n",
      "11.2 ms ± 291 µs per loop (mean ± std. dev. of 7 runs, 100 loops each)\n"
     ]
    }
   ],
   "source": [
    "print(portfolio['a'].buy_and_hold_return)\n",
    "print(portfolio.buy_and_hold_return)\n",
    "\n",
    "%timeit big_portfolio.buy_and_hold_return"
   ]
  },
  {
   "cell_type": "code",
   "execution_count": 42,
   "metadata": {},
   "outputs": [
    {
     "name": "stdout",
     "output_type": "stream",
     "text": [
      "2020-01-01   -0.009901\n",
      "2020-01-02    1.000000\n",
      "2020-01-03    0.500000\n",
      "2020-01-04   -0.340000\n",
      "2020-01-05    0.000000\n",
      "Name: a, dtype: float64\n",
      "                   a         b         c\n",
      "2020-01-01 -0.009901 -0.009901  0.000000\n",
      "2020-01-02  1.000000  0.980000 -0.009901\n",
      "2020-01-03  0.500000 -0.009901  0.485000\n",
      "2020-01-04 -0.340000 -0.340000 -0.009901\n",
      "2020-01-05  0.000000 -0.009901 -0.505000\n",
      "293 ms ± 5.63 ms per loop (mean ± std. dev. of 7 runs, 1 loop each)\n",
      "15.2 ms ± 632 µs per loop (mean ± std. dev. of 7 runs, 100 loops each)\n"
     ]
    }
   ],
   "source": [
    "print(portfolio['a'].returns)\n",
    "print(portfolio.returns)\n",
    "\n",
    "%timeit big_portfolio.equity.pct_change()\n",
    "%timeit big_portfolio.returns # numba helps a lot"
   ]
  },
  {
   "cell_type": "code",
   "execution_count": 43,
   "metadata": {},
   "outputs": [
    {
     "name": "stdout",
     "output_type": "stream",
     "text": [
      "2020-01-01   -0.009901\n",
      "2020-01-02    1.000000\n",
      "2020-01-03    0.500000\n",
      "2020-01-04   -0.340000\n",
      "2020-01-05    0.000000\n",
      "Name: a, dtype: float64\n",
      "                   a         b         c\n",
      "2020-01-01 -0.009901 -0.009901  0.000000\n",
      "2020-01-02  1.000000  0.980000 -0.009901\n",
      "2020-01-03  0.500000 -0.009901  0.485000\n",
      "2020-01-04 -0.340000 -0.340000 -0.009901\n",
      "2020-01-05  0.000000 -0.009901 -0.505000\n",
      "17.2 ms ± 826 µs per loop (mean ± std. dev. of 7 runs, 100 loops each)\n"
     ]
    }
   ],
   "source": [
    "print(portfolio['a'].daily_returns)\n",
    "print(portfolio.daily_returns)\n",
    "\n",
    "%timeit big_portfolio.daily_returns"
   ]
  },
  {
   "cell_type": "code",
   "execution_count": 44,
   "metadata": {},
   "outputs": [
    {
     "name": "stdout",
     "output_type": "stream",
     "text": [
      "2020-01-01    0.960396\n",
      "Freq: 252D, Name: a, dtype: float64\n",
      "                   a         b         c\n",
      "2020-01-01  0.960396  0.268367 -0.279409\n",
      "23.1 ms ± 300 µs per loop (mean ± std. dev. of 7 runs, 10 loops each)\n"
     ]
    }
   ],
   "source": [
    "print(portfolio['a'].annual_returns)\n",
    "print(portfolio.annual_returns)\n",
    "\n",
    "%timeit big_portfolio.annual_returns"
   ]
  },
  {
   "cell_type": "code",
   "execution_count": 45,
   "metadata": {},
   "outputs": [
    {
     "name": "stdout",
     "output_type": "stream",
     "text": [
      "2020-01-01   -0.009901\n",
      "2020-01-02    0.980198\n",
      "2020-01-03    1.970297\n",
      "2020-01-04    0.960396\n",
      "2020-01-05    0.960396\n",
      "Name: a, dtype: float64\n",
      "                   a         b         c\n",
      "2020-01-01 -0.009901 -0.009901  0.000000\n",
      "2020-01-02  0.980198  0.960396 -0.009901\n",
      "2020-01-03  1.970297  0.940986  0.470297\n",
      "2020-01-04  0.960396  0.281051  0.455740\n",
      "2020-01-05  0.960396  0.268367 -0.279409\n",
      "29.5 ms ± 1.86 ms per loop (mean ± std. dev. of 7 runs, 10 loops each)\n"
     ]
    }
   ],
   "source": [
    "print(portfolio['a'].cumulative_returns)\n",
    "print(portfolio.cumulative_returns)\n",
    "\n",
    "%timeit big_portfolio.cumulative_returns"
   ]
  },
  {
   "cell_type": "code",
   "execution_count": 46,
   "metadata": {},
   "outputs": [
    {
     "name": "stdout",
     "output_type": "stream",
     "text": [
      "0.9603960396039604\n",
      "a    0.960396\n",
      "b    0.268367\n",
      "c   -0.279409\n",
      "dtype: float64\n",
      "21.4 ms ± 503 µs per loop (mean ± std. dev. of 7 runs, 100 loops each)\n"
     ]
    }
   ],
   "source": [
    "print(portfolio['a'].total_return)\n",
    "print(portfolio.total_return)\n",
    "\n",
    "%timeit big_portfolio.total_return"
   ]
  },
  {
   "cell_type": "code",
   "execution_count": 47,
   "metadata": {},
   "outputs": [
    {
     "name": "stdout",
     "output_type": "stream",
     "text": [
      "542161095949729.56\n",
      "a    5.421611e+14\n",
      "b    1.597885e+05\n",
      "c   -9.999999e-01\n",
      "dtype: float64\n",
      "20.6 ms ± 1.55 ms per loop (mean ± std. dev. of 7 runs, 10 loops each)\n"
     ]
    }
   ],
   "source": [
    "print(portfolio['a'].annualized_return)\n",
    "print(portfolio.annualized_return)\n",
    "\n",
    "%timeit big_portfolio.annualized_return"
   ]
  },
  {
   "cell_type": "code",
   "execution_count": 48,
   "metadata": {},
   "outputs": [
    {
     "name": "stdout",
     "output_type": "stream",
     "text": [
      "132.2191242654978\n",
      "a    132.219124\n",
      "b      7.944401\n",
      "c      2.211017\n",
      "dtype: float64\n",
      "24.2 ms ± 3.55 ms per loop (mean ± std. dev. of 7 runs, 1 loop each)\n"
     ]
    }
   ],
   "source": [
    "print(portfolio['a'].annualized_volatility)\n",
    "print(portfolio.annualized_volatility)\n",
    "\n",
    "%timeit big_portfolio.annualized_volatility"
   ]
  },
  {
   "cell_type": "code",
   "execution_count": 49,
   "metadata": {},
   "outputs": [
    {
     "name": "stdout",
     "output_type": "stream",
     "text": [
      "1594591458675675.2\n",
      "a    1.594591e+15\n",
      "b    4.526527e+05\n",
      "c   -1.961165e+00\n",
      "dtype: float64\n",
      "32.1 ms ± 3 ms per loop (mean ± std. dev. of 7 runs, 10 loops each)\n"
     ]
    }
   ],
   "source": [
    "print(portfolio['a'].calmar_ratio)\n",
    "print(portfolio.calmar_ratio)\n",
    "\n",
    "%timeit big_portfolio.calmar_ratio"
   ]
  },
  {
   "cell_type": "code",
   "execution_count": 50,
   "metadata": {},
   "outputs": [
    {
     "name": "stdout",
     "output_type": "stream",
     "text": [
      "3.882163392568907\n",
      "a    3.882163\n",
      "b    2.119488\n",
      "c    0.699507\n",
      "dtype: float64\n",
      "28.8 ms ± 2.16 ms per loop (mean ± std. dev. of 7 runs, 1 loop each)\n"
     ]
    }
   ],
   "source": [
    "print(portfolio['a'].omega_ratio)\n",
    "print(portfolio.omega_ratio)\n",
    "\n",
    "%timeit big_portfolio.omega_ratio"
   ]
  },
  {
   "cell_type": "code",
   "execution_count": 51,
   "metadata": {},
   "outputs": [
    {
     "name": "stdout",
     "output_type": "stream",
     "text": [
      "6.656842846055576\n",
      "a    6.656843\n",
      "b    3.237371\n",
      "c   -1.721495\n",
      "dtype: float64\n",
      "21.4 ms ± 2.89 ms per loop (mean ± std. dev. of 7 runs, 1 loop each)\n"
     ]
    }
   ],
   "source": [
    "print(portfolio['a'].sharpe_ratio)\n",
    "print(portfolio.sharpe_ratio)\n",
    "\n",
    "%timeit big_portfolio.sharpe_ratio"
   ]
  },
  {
   "cell_type": "code",
   "execution_count": 52,
   "metadata": {},
   "outputs": [
    {
     "name": "stdout",
     "output_type": "stream",
     "text": [
      "3.2969960073204563\n",
      "a    3.296996\n",
      "b    4.621501\n",
      "c    6.846689\n",
      "dtype: float64\n",
      "19.8 ms ± 1.41 ms per loop (mean ± std. dev. of 7 runs, 1 loop each)\n"
     ]
    }
   ],
   "source": [
    "print(portfolio['a'].downside_risk)\n",
    "print(portfolio.downside_risk)\n",
    "\n",
    "%timeit big_portfolio.downside_risk"
   ]
  },
  {
   "cell_type": "code",
   "execution_count": 53,
   "metadata": {},
   "outputs": [
    {
     "name": "stdout",
     "output_type": "stream",
     "text": [
      "9.93783129438448\n",
      "a     9.937831\n",
      "b    -4.249924\n",
      "c   -11.334824\n",
      "dtype: float64\n",
      "22.3 ms ± 1.11 ms per loop (mean ± std. dev. of 7 runs, 1 loop each)\n"
     ]
    }
   ],
   "source": [
    "print(portfolio['a'].sortino_ratio)\n",
    "print(portfolio.sortino_ratio)\n",
    "\n",
    "%timeit big_portfolio.sortino_ratio"
   ]
  },
  {
   "cell_type": "code",
   "execution_count": 54,
   "metadata": {},
   "outputs": [
    {
     "name": "stdout",
     "output_type": "stream",
     "text": [
      "-1.9476532644416638\n",
      "a   -1.947653\n",
      "b   -1.784165\n",
      "c   -3.033691\n",
      "dtype: float64\n",
      "21.6 ms ± 2.33 ms per loop (mean ± std. dev. of 7 runs, 1 loop each)\n"
     ]
    }
   ],
   "source": [
    "print(portfolio['a'].information_ratio)\n",
    "print(portfolio.information_ratio)\n",
    "\n",
    "%timeit big_portfolio.information_ratio"
   ]
  },
  {
   "cell_type": "code",
   "execution_count": 55,
   "metadata": {},
   "outputs": [
    {
     "name": "stdout",
     "output_type": "stream",
     "text": [
      "0.2936193619361937\n",
      "a    0.293619\n",
      "b    0.047129\n",
      "c    0.318844\n",
      "dtype: float64\n",
      "24.8 ms ± 830 µs per loop (mean ± std. dev. of 7 runs, 1 loop each)\n"
     ]
    }
   ],
   "source": [
    "print(portfolio['a'].beta)\n",
    "print(portfolio.beta)\n",
    "\n",
    "%timeit big_portfolio.beta"
   ]
  },
  {
   "cell_type": "code",
   "execution_count": 56,
   "metadata": {},
   "outputs": [
    {
     "name": "stdout",
     "output_type": "stream",
     "text": [
      "-1.0\n",
      "a    -1.000000\n",
      "b    92.486018\n",
      "c    -1.000000\n",
      "dtype: float64\n",
      "29.3 ms ± 2.17 ms per loop (mean ± std. dev. of 7 runs, 1 loop each)\n"
     ]
    }
   ],
   "source": [
    "print(portfolio['a'].alpha)\n",
    "print(portfolio.alpha)\n",
    "\n",
    "%timeit big_portfolio.alpha"
   ]
  },
  {
   "cell_type": "code",
   "execution_count": 57,
   "metadata": {},
   "outputs": [
    {
     "name": "stdout",
     "output_type": "stream",
     "text": [
      "3.284908933217693\n",
      "a    3.284909\n",
      "b    2.854293\n",
      "c    0.955712\n",
      "dtype: float64\n",
      "47.7 ms ± 2.23 ms per loop (mean ± std. dev. of 7 runs, 10 loops each)\n"
     ]
    }
   ],
   "source": [
    "print(portfolio['a'].tail_ratio)\n",
    "print(portfolio.tail_ratio)\n",
    "\n",
    "%timeit big_portfolio.tail_ratio"
   ]
  },
  {
   "cell_type": "code",
   "execution_count": 58,
   "metadata": {},
   "outputs": [
    {
     "name": "stdout",
     "output_type": "stream",
     "text": [
      "-0.32679603960396036\n",
      "a   -0.326796\n",
      "b   -0.313592\n",
      "c   -0.445588\n",
      "dtype: float64\n",
      "30.5 ms ± 895 µs per loop (mean ± std. dev. of 7 runs, 1 loop each)\n"
     ]
    }
   ],
   "source": [
    "print(portfolio['a'].value_at_risk)\n",
    "print(portfolio.value_at_risk)\n",
    "\n",
    "%timeit big_portfolio.value_at_risk"
   ]
  },
  {
   "cell_type": "code",
   "execution_count": 59,
   "metadata": {},
   "outputs": [
    {
     "name": "stdout",
     "output_type": "stream",
     "text": [
      "-0.33999999999999997\n",
      "a   -0.340\n",
      "b   -0.340\n",
      "c   -0.505\n",
      "dtype: float64\n",
      "29 ms ± 992 µs per loop (mean ± std. dev. of 7 runs, 1 loop each)\n"
     ]
    }
   ],
   "source": [
    "print(portfolio['a'].conditional_value_at_risk)\n",
    "print(portfolio.conditional_value_at_risk)\n",
    "\n",
    "%timeit big_portfolio.conditional_value_at_risk"
   ]
  },
  {
   "cell_type": "code",
   "execution_count": 60,
   "metadata": {},
   "outputs": [
    {
     "name": "stdout",
     "output_type": "stream",
     "text": [
      "8.411412319796107e-88\n",
      "a     8.411412e-88\n",
      "b    2.642871e-104\n",
      "c   -4.724622e-116\n",
      "dtype: float64\n",
      "19.1 ms ± 973 µs per loop (mean ± std. dev. of 7 runs, 1 loop each)\n"
     ]
    }
   ],
   "source": [
    "print(portfolio['a'].capture)\n",
    "print(portfolio.capture)\n",
    "\n",
    "%timeit big_portfolio.capture"
   ]
  },
  {
   "cell_type": "code",
   "execution_count": 61,
   "metadata": {},
   "outputs": [
    {
     "name": "stdout",
     "output_type": "stream",
     "text": [
      "8.411412319796107e-88\n",
      "a     8.411412e-88\n",
      "b    2.642871e-104\n",
      "c   -4.724622e-116\n",
      "dtype: float64\n",
      "22.2 ms ± 1.6 ms per loop (mean ± std. dev. of 7 runs, 1 loop each)\n"
     ]
    }
   ],
   "source": [
    "print(portfolio['a'].up_capture)\n",
    "print(portfolio.up_capture)\n",
    "\n",
    "%timeit big_portfolio.up_capture"
   ]
  },
  {
   "cell_type": "code",
   "execution_count": 62,
   "metadata": {},
   "outputs": [
    {
     "name": "stdout",
     "output_type": "stream",
     "text": [
      "nan\n",
      "a   NaN\n",
      "b   NaN\n",
      "c   NaN\n",
      "dtype: float64\n",
      "15.2 ms ± 1.21 ms per loop (mean ± std. dev. of 7 runs, 1 loop each)\n"
     ]
    }
   ],
   "source": [
    "print(portfolio['a'].down_capture)\n",
    "print(portfolio.down_capture)\n",
    "\n",
    "%timeit big_portfolio.down_capture"
   ]
  },
  {
   "cell_type": "markdown",
   "metadata": {},
   "source": [
    "## Stats"
   ]
  },
  {
   "cell_type": "code",
   "execution_count": 63,
   "metadata": {},
   "outputs": [
    {
     "name": "stdout",
     "output_type": "stream",
     "text": [
      "Start                     2020-01-01 00:00:00\n",
      "End                       2020-01-05 00:00:00\n",
      "Duration                      5 days 00:00:00\n",
      "Holding Duration [%]                       40\n",
      "Total Profit                         -83.8227\n",
      "Total Return [%]                     -27.9409\n",
      "Buy & Hold Return [%]                       0\n",
      "Max. Drawdown [%]                     50.9901\n",
      "Avg. Drawdown [%]                     25.9901\n",
      "Max. Drawdown Duration        2 days 00:00:00\n",
      "Avg. Drawdown Duration        2 days 00:00:00\n",
      "Num. Trades                                 2\n",
      "Win Rate [%]                               50\n",
      "Best Trade [%]                        47.0297\n",
      "Worst Trade [%]                      -50.9901\n",
      "Avg. Trade [%]                        -1.9802\n",
      "Max. Trade Duration           1 days 00:00:00\n",
      "Avg. Trade Duration           1 days 00:00:00\n",
      "Expectancy                           -41.9113\n",
      "SQN                                 -0.229023\n",
      "Sharpe Ratio                         -1.72149\n",
      "Sortino Ratio                        -11.3348\n",
      "Calmar Ratio                         -1.96116\n",
      "Name: c, dtype: object\n",
      "57.1 ms ± 4.42 ms per loop (mean ± std. dev. of 7 runs, 1 loop each)\n"
     ]
    }
   ],
   "source": [
    "print(portfolio['c'].stats)\n",
    "\n",
    "%timeit big_portfolio[0].stats"
   ]
  },
  {
   "cell_type": "code",
   "execution_count": null,
   "metadata": {},
   "outputs": [],
   "source": []
  }
 ],
 "metadata": {
  "kernelspec": {
   "display_name": "Python 3",
   "language": "python",
   "name": "python3"
  },
  "language_info": {
   "codemirror_mode": {
    "name": "ipython",
    "version": 3
   },
   "file_extension": ".py",
   "mimetype": "text/x-python",
   "name": "python",
   "nbconvert_exporter": "python",
   "pygments_lexer": "ipython3",
   "version": "3.7.3"
  },
  "widgets": {
   "application/vnd.jupyter.widget-state+json": {
    "state": {},
    "version_major": 2,
    "version_minor": 0
   }
  }
 },
 "nbformat": 4,
 "nbformat_minor": 4
}
