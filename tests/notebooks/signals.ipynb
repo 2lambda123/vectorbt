{
 "cells": [
  {
   "cell_type": "markdown",
   "metadata": {},
   "source": [
    "# signals"
   ]
  },
  {
   "cell_type": "code",
   "execution_count": 1,
   "metadata": {},
   "outputs": [],
   "source": [
    "import vectorbt as vbt"
   ]
  },
  {
   "cell_type": "code",
   "execution_count": 2,
   "metadata": {
    "Collapsed": "false"
   },
   "outputs": [],
   "source": [
    "import numpy as np\n",
    "import pandas as pd\n",
    "from datetime import datetime, timedelta\n",
    "from numba import njit"
   ]
  },
  {
   "cell_type": "code",
   "execution_count": 3,
   "metadata": {},
   "outputs": [],
   "source": [
    "# Disable caching for performance testing\n",
    "vbt.settings.caching['enabled'] = False"
   ]
  },
  {
   "cell_type": "markdown",
   "metadata": {},
   "source": [
    "## accessors"
   ]
  },
  {
   "cell_type": "code",
   "execution_count": 4,
   "metadata": {},
   "outputs": [],
   "source": [
    "index = pd.Index([\n",
    "    datetime(2018, 1, 1),\n",
    "    datetime(2018, 1, 2),\n",
    "    datetime(2018, 1, 3),\n",
    "    datetime(2018, 1, 4),\n",
    "    datetime(2018, 1, 5)\n",
    "])\n",
    "columns = ['a', 'b', 'c']\n",
    "big_index = [datetime(2018, 1, 1) + timedelta(days=i) for i in range(1000)]"
   ]
  },
  {
   "cell_type": "code",
   "execution_count": 5,
   "metadata": {},
   "outputs": [
    {
     "name": "stdout",
     "output_type": "stream",
     "text": [
      "(5, 3)\n",
      "(1000, 1000)\n"
     ]
    }
   ],
   "source": [
    "entries = pd.DataFrame({\n",
    "    'a': [True, False, False, False, False],\n",
    "    'b': [True, False, True, False, True],\n",
    "    'c': [True, True, True, False, False],\n",
    "}, index=index)\n",
    "print(entries.shape)\n",
    "\n",
    "big_entries = pd.DataFrame(np.full((1000, 1000), False), index=big_index)\n",
    "big_entries.iloc[::10] = True\n",
    "print(big_entries.shape)"
   ]
  },
  {
   "cell_type": "code",
   "execution_count": 6,
   "metadata": {},
   "outputs": [
    {
     "name": "stdout",
     "output_type": "stream",
     "text": [
      "(5,)\n",
      "(1000,)\n"
     ]
    }
   ],
   "source": [
    "ts = pd.Series([1., 2., 3., 2., 1.], index=index, name=columns[0])\n",
    "print(ts.shape)\n",
    "\n",
    "big_ts = pd.Series(np.random.uniform(10, 13, size=(1000,)), index=big_index)\n",
    "print(big_ts.shape)"
   ]
  },
  {
   "cell_type": "code",
   "execution_count": 7,
   "metadata": {},
   "outputs": [],
   "source": [
    "price = pd.DataFrame({\n",
    "    'open': [10, 11, 12, 11, 10],\n",
    "    'high': [11, 12, 13, 12, 11],\n",
    "    'low': [9, 10, 11, 10, 9],\n",
    "    'close': [10, 11, 12, 11, 10]\n",
    "})"
   ]
  },
  {
   "cell_type": "code",
   "execution_count": 8,
   "metadata": {},
   "outputs": [
    {
     "name": "stdout",
     "output_type": "stream",
     "text": [
      "(5, 3)\n",
      "(1000, 1000)\n"
     ]
    }
   ],
   "source": [
    "a = np.random.randint(-1, 2, size=(5, 3))\n",
    "print(a.shape)\n",
    "\n",
    "big_a = np.random.randint(-1, 2, size=(1000, 1000))\n",
    "print(big_a.shape)"
   ]
  },
  {
   "cell_type": "code",
   "execution_count": 8,
   "metadata": {},
   "outputs": [
    {
     "name": "stdout",
     "output_type": "stream",
     "text": [
      "2018-01-01    False\n",
      "2018-01-02    False\n",
      "2018-01-03    False\n",
      "2018-01-04    False\n",
      "2018-01-05    False\n",
      "dtype: bool\n",
      "                a      b      c\n",
      "2018-01-01  False  False  False\n",
      "2018-01-02  False  False  False\n",
      "2018-01-03  False  False  False\n",
      "2018-01-04  False  False  False\n",
      "2018-01-05  False  False  False\n",
      "146 µs ± 11.6 µs per loop (mean ± std. dev. of 7 runs, 10000 loops each)\n"
     ]
    }
   ],
   "source": [
    "print(pd.Series.vbt.signals.empty(5, index=index))\n",
    "print(pd.DataFrame.vbt.signals.empty((5, 3), index=index, columns=columns))\n",
    "\n",
    "%timeit pd.DataFrame.vbt.signals.empty((1000, 1000))"
   ]
  },
  {
   "cell_type": "code",
   "execution_count": 9,
   "metadata": {},
   "outputs": [
    {
     "name": "stdout",
     "output_type": "stream",
     "text": [
      "2018-01-01    False\n",
      "2018-01-02     True\n",
      "2018-01-03    False\n",
      "2018-01-04    False\n",
      "2018-01-05    False\n",
      "dtype: bool\n",
      "                a      b      c\n",
      "2018-01-01   True  False  False\n",
      "2018-01-02  False   True  False\n",
      "2018-01-03  False  False  False\n",
      "2018-01-04  False  False  False\n",
      "2018-01-05  False  False   True\n",
      "13.3 ms ± 288 µs per loop (mean ± std. dev. of 7 runs, 100 loops each)\n"
     ]
    }
   ],
   "source": [
    "@njit\n",
    "def choice_func_nb(from_i, to_i, col):\n",
    "    return np.random.choice(np.arange(from_i, to_i), size=1, replace=False)\n",
    "\n",
    "print(pd.Series.vbt.signals.generate(5, choice_func_nb, index=index))\n",
    "print(pd.DataFrame.vbt.signals.generate((5, 3), choice_func_nb, index=index, columns=columns))\n",
    "\n",
    "%timeit pd.DataFrame.vbt.signals.generate((1000, 1000), choice_func_nb)"
   ]
  },
  {
   "cell_type": "code",
   "execution_count": 10,
   "metadata": {},
   "outputs": [
    {
     "name": "stdout",
     "output_type": "stream",
     "text": [
      "2018-01-01     True\n",
      "2018-01-02    False\n",
      "2018-01-03     True\n",
      "2018-01-04    False\n",
      "2018-01-05     True\n",
      "dtype: bool\n",
      "2018-01-01    False\n",
      "2018-01-02     True\n",
      "2018-01-03    False\n",
      "2018-01-04     True\n",
      "2018-01-05    False\n",
      "dtype: bool\n",
      "                a      b      c\n",
      "2018-01-01   True   True   True\n",
      "2018-01-02  False  False  False\n",
      "2018-01-03   True   True   True\n",
      "2018-01-04  False  False  False\n",
      "2018-01-05   True   True   True\n",
      "                a      b      c\n",
      "2018-01-01  False  False  False\n",
      "2018-01-02   True   True   True\n",
      "2018-01-03  False  False  False\n",
      "2018-01-04   True   True   True\n",
      "2018-01-05  False  False  False\n",
      "               a     b     c\n",
      "2018-01-01  True  True  True\n",
      "2018-01-02  True  True  True\n",
      "2018-01-03  True  True  True\n",
      "2018-01-04  True  True  True\n",
      "2018-01-05  True  True  True\n",
      "               a     b     c\n",
      "2018-01-01  True  True  True\n",
      "2018-01-02  True  True  True\n",
      "2018-01-03  True  True  True\n",
      "2018-01-04  True  True  True\n",
      "2018-01-05  True  True  True\n",
      "               a     b     c\n",
      "2018-01-01  True  True  True\n",
      "2018-01-02  True  True  True\n",
      "2018-01-03  True  True  True\n",
      "2018-01-04  True  True  True\n",
      "2018-01-05  True  True  True\n",
      "                a      b      c\n",
      "2018-01-01  False  False  False\n",
      "2018-01-02   True   True   True\n",
      "2018-01-03   True   True   True\n",
      "2018-01-04   True   True   True\n",
      "2018-01-05   True   True   True\n",
      "40.9 ms ± 508 µs per loop (mean ± std. dev. of 7 runs, 10 loops each)\n"
     ]
    }
   ],
   "source": [
    "@njit\n",
    "def entry_func_nb(from_i, to_i, col, temp_int):\n",
    "    temp_int[0] = from_i\n",
    "    return temp_int[:1]\n",
    "\n",
    "@njit\n",
    "def exit_func_nb(from_i, to_i, col, temp_int):\n",
    "    temp_int[0] = from_i\n",
    "    return temp_int[:1]\n",
    "\n",
    "temp_int = np.empty((1000,), dtype=np.int_)\n",
    "en, ex = pd.Series.vbt.signals.generate_both(\n",
    "    a.shape[0], entry_func_nb, exit_func_nb, entry_args=(temp_int,), exit_args=(temp_int,), \n",
    "    index=index)\n",
    "print(en)\n",
    "print(ex)\n",
    "en, ex = pd.DataFrame.vbt.signals.generate_both(\n",
    "    a.shape, entry_func_nb, exit_func_nb, entry_args=(temp_int,), exit_args=(temp_int,), \n",
    "    index=index, columns=columns)\n",
    "print(en)\n",
    "print(ex)\n",
    "en, ex = pd.DataFrame.vbt.signals.generate_both(\n",
    "    a.shape, entry_func_nb, exit_func_nb, entry_args=(temp_int,), exit_args=(temp_int,), \n",
    "    index=index, columns=columns, entry_wait=1, exit_wait=0)\n",
    "print(en)\n",
    "print(ex)\n",
    "en, ex = pd.DataFrame.vbt.signals.generate_both(\n",
    "    a.shape, entry_func_nb, exit_func_nb, entry_args=(temp_int,), exit_args=(temp_int,), \n",
    "    index=index, columns=columns, entry_wait=0, exit_wait=1)\n",
    "print(en)\n",
    "print(ex)\n",
    "\n",
    "%timeit pd.DataFrame.vbt.signals.generate_both(\\\n",
    "    big_a.shape, entry_func_nb, exit_func_nb, entry_args=(temp_int,), exit_args=(temp_int,))"
   ]
  },
  {
   "cell_type": "code",
   "execution_count": 11,
   "metadata": {},
   "outputs": [
    {
     "name": "stdout",
     "output_type": "stream",
     "text": [
      "                a      b      c\n",
      "2018-01-01  False  False  False\n",
      "2018-01-02   True   True  False\n",
      "2018-01-03  False  False  False\n",
      "2018-01-04  False   True   True\n",
      "2018-01-05  False  False  False\n",
      "                a      b      c\n",
      "2018-01-01   True   True   True\n",
      "2018-01-02  False  False   True\n",
      "2018-01-03  False   True   True\n",
      "2018-01-04  False  False  False\n",
      "2018-01-05  False   True  False\n",
      "33.9 ms ± 447 µs per loop (mean ± std. dev. of 7 runs, 1 loop each)\n"
     ]
    }
   ],
   "source": [
    "@njit\n",
    "def choice_func_nb(from_i, to_i, col, temp_int):\n",
    "    temp_int[0] = from_i\n",
    "    return temp_int[:1]\n",
    "\n",
    "print(entries.vbt.signals.generate_exits(choice_func_nb, temp_int))\n",
    "print(entries.vbt.signals.generate_exits(choice_func_nb, temp_int, wait=0))\n",
    "\n",
    "%timeit big_entries.vbt.signals.generate_exits(choice_func_nb, temp_int)"
   ]
  },
  {
   "cell_type": "code",
   "execution_count": 12,
   "metadata": {},
   "outputs": [
    {
     "name": "stdout",
     "output_type": "stream",
     "text": [
      "2018-01-01    False\n",
      "2018-01-02     True\n",
      "2018-01-03    False\n",
      "2018-01-04    False\n",
      "2018-01-05     True\n",
      "dtype: bool\n",
      "                a      b      c\n",
      "2018-01-01  False  False   True\n",
      "2018-01-02   True   True   True\n",
      "2018-01-03  False  False  False\n",
      "2018-01-04  False   True  False\n",
      "2018-01-05   True  False  False\n",
      "                a      b      c\n",
      "2018-01-01  False  False   True\n",
      "2018-01-02  False  False   True\n",
      "2018-01-03  False  False  False\n",
      "2018-01-04  False   True  False\n",
      "2018-01-05  False  False  False\n",
      "13.8 ms ± 912 µs per loop (mean ± std. dev. of 7 runs, 1 loop each)\n"
     ]
    }
   ],
   "source": [
    "print(pd.Series.vbt.signals.generate_random(5, n=2, seed=42, index=index))\n",
    "print(pd.DataFrame.vbt.signals.generate_random((5, 3), n=2, seed=42, index=index, columns=columns))\n",
    "print(pd.DataFrame.vbt.signals.generate_random((5, 3), n=[0, 1, 2], seed=42, index=index, columns=columns))\n",
    "\n",
    "%timeit pd.DataFrame.vbt.signals.generate_random((1000, 1000), n=100)"
   ]
  },
  {
   "cell_type": "code",
   "execution_count": 13,
   "metadata": {},
   "outputs": [
    {
     "name": "stdout",
     "output_type": "stream",
     "text": [
      "2018-01-01     True\n",
      "2018-01-02    False\n",
      "2018-01-03    False\n",
      "2018-01-04    False\n",
      "2018-01-05     True\n",
      "dtype: bool\n",
      "                a      b      c\n",
      "2018-01-01   True   True   True\n",
      "2018-01-02  False   True  False\n",
      "2018-01-03  False  False  False\n",
      "2018-01-04  False  False   True\n",
      "2018-01-05   True  False   True\n",
      "                a      b     c\n",
      "2018-01-01  False   True  True\n",
      "2018-01-02  False   True  True\n",
      "2018-01-03  False  False  True\n",
      "2018-01-04  False  False  True\n",
      "2018-01-05  False  False  True\n",
      "17.6 ms ± 109 µs per loop (mean ± std. dev. of 7 runs, 100 loops each)\n"
     ]
    }
   ],
   "source": [
    "print(pd.Series.vbt.signals.generate_random(5, prob=0.5, seed=42, index=index))\n",
    "print(pd.DataFrame.vbt.signals.generate_random((5, 3), prob=0.5, seed=42, index=index, columns=columns))\n",
    "print(pd.DataFrame.vbt.signals.generate_random((5, 3), prob=[0., 0.5, 1], seed=42, index=index, columns=columns))\n",
    "\n",
    "%timeit pd.DataFrame.vbt.signals.generate_random((1000, 1000), prob=0.5)"
   ]
  },
  {
   "cell_type": "code",
   "execution_count": 14,
   "metadata": {},
   "outputs": [
    {
     "name": "stdout",
     "output_type": "stream",
     "text": [
      "2018-01-01    False\n",
      "2018-01-02    False\n",
      "2018-01-03     True\n",
      "2018-01-04    False\n",
      "2018-01-05    False\n",
      "Name: a, dtype: bool\n",
      "                a      b      c\n",
      "2018-01-01  False  False  False\n",
      "2018-01-02  False   True  False\n",
      "2018-01-03   True  False  False\n",
      "2018-01-04  False   True  False\n",
      "2018-01-05  False  False   True\n",
      "                a      b      c\n",
      "2018-01-01  False   True   True\n",
      "2018-01-02   True  False   True\n",
      "2018-01-03  False  False  False\n",
      "2018-01-04  False   True   True\n",
      "2018-01-05  False   True  False\n",
      "102 ms ± 935 µs per loop (mean ± std. dev. of 7 runs, 10 loops each)\n"
     ]
    }
   ],
   "source": [
    "print(entries['a'].vbt.signals.generate_random_exits(seed=42))\n",
    "print(entries.vbt.signals.generate_random_exits(seed=42))\n",
    "print(entries.vbt.signals.generate_random_exits(seed=42, wait=0))\n",
    "\n",
    "%timeit big_entries.vbt.signals.generate_random_exits(seed=42)"
   ]
  },
  {
   "cell_type": "code",
   "execution_count": 15,
   "metadata": {},
   "outputs": [
    {
     "name": "stdout",
     "output_type": "stream",
     "text": [
      "2018-01-01    False\n",
      "2018-01-02     True\n",
      "2018-01-03    False\n",
      "2018-01-04    False\n",
      "2018-01-05    False\n",
      "Name: a, dtype: bool\n",
      "                a      b      c\n",
      "2018-01-01  False  False  False\n",
      "2018-01-02   True   True  False\n",
      "2018-01-03  False  False  False\n",
      "2018-01-04  False   True   True\n",
      "2018-01-05  False  False  False\n",
      "                a      b      c\n",
      "2018-01-01  False  False  False\n",
      "2018-01-02  False   True  False\n",
      "2018-01-03  False  False  False\n",
      "2018-01-04  False   True   True\n",
      "2018-01-05  False  False  False\n",
      "                a      b      c\n",
      "2018-01-01   True   True   True\n",
      "2018-01-02  False  False   True\n",
      "2018-01-03  False   True   True\n",
      "2018-01-04  False  False  False\n",
      "2018-01-05  False   True  False\n",
      "39.9 ms ± 555 µs per loop (mean ± std. dev. of 7 runs, 10 loops each)\n"
     ]
    }
   ],
   "source": [
    "print(entries['a'].vbt.signals.generate_random_exits(prob=1., seed=42))\n",
    "print(entries.vbt.signals.generate_random_exits(prob=1., seed=42))\n",
    "print(entries.vbt.signals.generate_random_exits(prob=[0., 0.5, 1], seed=42))\n",
    "print(entries.vbt.signals.generate_random_exits(prob=1., seed=42, wait=0))\n",
    "\n",
    "%timeit big_entries.vbt.signals.generate_random_exits(prob=1., seed=42)"
   ]
  },
  {
   "cell_type": "code",
   "execution_count": 16,
   "metadata": {},
   "outputs": [
    {
     "name": "stdout",
     "output_type": "stream",
     "text": [
      "2018-01-01     True\n",
      "2018-01-02    False\n",
      "2018-01-03     True\n",
      "2018-01-04    False\n",
      "2018-01-05    False\n",
      "dtype: bool\n",
      "2018-01-01    False\n",
      "2018-01-02     True\n",
      "2018-01-03    False\n",
      "2018-01-04    False\n",
      "2018-01-05     True\n",
      "dtype: bool\n",
      "                a      b      c\n",
      "2018-01-01   True   True   True\n",
      "2018-01-02  False  False  False\n",
      "2018-01-03   True   True  False\n",
      "2018-01-04  False  False   True\n",
      "2018-01-05  False  False  False\n",
      "                a      b      c\n",
      "2018-01-01  False  False  False\n",
      "2018-01-02   True   True   True\n",
      "2018-01-03  False  False  False\n",
      "2018-01-04  False   True  False\n",
      "2018-01-05   True  False   True\n",
      "                a      b      c\n",
      "2018-01-01  False  False   True\n",
      "2018-01-02  False   True  False\n",
      "2018-01-03  False  False  False\n",
      "2018-01-04  False  False   True\n",
      "2018-01-05  False  False  False\n",
      "                a      b      c\n",
      "2018-01-01  False  False  False\n",
      "2018-01-02  False  False   True\n",
      "2018-01-03  False  False  False\n",
      "2018-01-04  False   True  False\n",
      "2018-01-05  False  False   True\n",
      "      0     1     2\n",
      "0  True  True  True\n",
      "1  True  True  True\n",
      "      0     1     2\n",
      "0  True  True  True\n",
      "1  True  True  True\n",
      "       0      1      2\n",
      "0   True   True   True\n",
      "1   True   True   True\n",
      "2  False  False  False\n",
      "       0      1      2\n",
      "0  False  False  False\n",
      "1   True   True   True\n",
      "2   True   True   True\n",
      "       0      1      2\n",
      "0   True   True   True\n",
      "1  False  False  False\n",
      "2  False  False  False\n",
      "3  False  False  False\n",
      "4   True   True   True\n",
      "5  False  False  False\n",
      "6  False  False  False\n",
      "       0      1      2\n",
      "0  False  False  False\n",
      "1  False  False  False\n",
      "2   True   True   True\n",
      "3  False  False  False\n",
      "4  False  False  False\n",
      "5  False  False  False\n",
      "6   True   True   True\n",
      "20.8 ms ± 281 µs per loop (mean ± std. dev. of 7 runs, 1 loop each)\n",
      "19 ms ± 443 µs per loop (mean ± std. dev. of 7 runs, 100 loops each)\n"
     ]
    }
   ],
   "source": [
    "en, ex = pd.Series.vbt.signals.generate_random_both(5, n=2, seed=42, index=index)\n",
    "print(en)\n",
    "print(ex)\n",
    "en, ex = pd.DataFrame.vbt.signals.generate_random_both((5, 3), n=2, seed=42, index=index, columns=columns)\n",
    "print(en)\n",
    "print(ex)\n",
    "en, ex = pd.DataFrame.vbt.signals.generate_random_both((5, 3), n=[0, 1, 2], seed=42, index=index, columns=columns)\n",
    "print(en)\n",
    "print(ex)\n",
    "en, ex = pd.DataFrame.vbt.signals.generate_random_both((2, 3), n=2, seed=42, entry_wait=1, exit_wait=0)\n",
    "print(en)\n",
    "print(ex)\n",
    "en, ex = pd.DataFrame.vbt.signals.generate_random_both((3, 3), n=2, seed=42, entry_wait=0, exit_wait=1)\n",
    "print(en)\n",
    "print(ex)\n",
    "en, ex = pd.DataFrame.vbt.signals.generate_random_both((7, 3), n=2, seed=42, entry_wait=2, exit_wait=2)\n",
    "print(en)\n",
    "print(ex)\n",
    "\n",
    "%timeit pd.DataFrame.vbt.signals.generate_random_both((1000, 1000), n=100)\n",
    "%timeit pd.DataFrame.vbt.signals.generate_random_both((1000, 1000), n=100, exit_wait=0)"
   ]
  },
  {
   "cell_type": "code",
   "execution_count": 17,
   "metadata": {},
   "outputs": [
    {
     "name": "stdout",
     "output_type": "stream",
     "text": [
      "[ 454915.  931362. 1423666. 1894465. 2368430. 2859191. 3338920. 3817177.\n",
      " 4288740. 4759056. 5236445. 5708131. 6183311. 6675387. 7160407. 7633895.\n",
      " 8117773. 8596158. 9073611. 9541106.]\n",
      "[ 467424.  944962. 1420549. 1898038. 2371215. 2842213. 3318758. 3791384.\n",
      " 4274959. 4750867. 5223368. 5700497. 6179419. 6652015. 7129484. 7614600.\n",
      " 8088856. 8569646. 9043790. 9525333.]\n"
     ]
    }
   ],
   "source": [
    "n = 10\n",
    "a = np.full(n * 2, 0.)\n",
    "for i in range(10000):\n",
    "    en, ex = pd.Series.vbt.signals.generate_random_both(1000, n, entry_wait=2, exit_wait=2)\n",
    "    _a = np.empty((n * 2,), dtype=np.int_)\n",
    "    _a[0::2] = np.flatnonzero(en)\n",
    "    _a[1::2] = np.flatnonzero(ex)\n",
    "    a += _a\n",
    "print(a)\n",
    "\n",
    "b = np.full(n * 2, 0.)\n",
    "for i in range(10000):\n",
    "    b += np.sort(np.random.choice(1000, size=n * 2, replace=False))\n",
    "print(b)"
   ]
  },
  {
   "cell_type": "code",
   "execution_count": 18,
   "metadata": {},
   "outputs": [
    {
     "name": "stdout",
     "output_type": "stream",
     "text": [
      "2018-01-01     True\n",
      "2018-01-02    False\n",
      "2018-01-03    False\n",
      "2018-01-04    False\n",
      "2018-01-05     True\n",
      "dtype: bool\n",
      "2018-01-01    False\n",
      "2018-01-02     True\n",
      "2018-01-03    False\n",
      "2018-01-04    False\n",
      "2018-01-05    False\n",
      "dtype: bool\n",
      "                a      b      c\n",
      "2018-01-01   True   True   True\n",
      "2018-01-02  False  False  False\n",
      "2018-01-03  False  False  False\n",
      "2018-01-04  False  False   True\n",
      "2018-01-05   True  False  False\n",
      "                a      b      c\n",
      "2018-01-01  False  False  False\n",
      "2018-01-02   True   True   True\n",
      "2018-01-03  False  False  False\n",
      "2018-01-04  False  False  False\n",
      "2018-01-05  False  False   True\n",
      "                a      b      c\n",
      "2018-01-01  False   True   True\n",
      "2018-01-02  False  False  False\n",
      "2018-01-03  False  False   True\n",
      "2018-01-04  False  False  False\n",
      "2018-01-05  False  False   True\n",
      "                a      b      c\n",
      "2018-01-01  False  False  False\n",
      "2018-01-02  False   True   True\n",
      "2018-01-03  False  False  False\n",
      "2018-01-04  False  False   True\n",
      "2018-01-05  False  False  False\n",
      "               a     b     c\n",
      "2018-01-01  True  True  True\n",
      "2018-01-02  True  True  True\n",
      "2018-01-03  True  True  True\n",
      "2018-01-04  True  True  True\n",
      "2018-01-05  True  True  True\n",
      "               a     b     c\n",
      "2018-01-01  True  True  True\n",
      "2018-01-02  True  True  True\n",
      "2018-01-03  True  True  True\n",
      "2018-01-04  True  True  True\n",
      "2018-01-05  True  True  True\n",
      "95.2 ms ± 1.12 ms per loop (mean ± std. dev. of 7 runs, 1 loop each)\n"
     ]
    }
   ],
   "source": [
    "en, ex = pd.Series.vbt.signals.generate_random_both(\n",
    "    5, entry_prob=0.5, exit_prob=1., seed=42, index=index)\n",
    "print(en)\n",
    "print(ex)\n",
    "en, ex = pd.DataFrame.vbt.signals.generate_random_both(\n",
    "    (5, 3), entry_prob=0.5, exit_prob=1., seed=42, index=index, columns=columns)\n",
    "print(en)\n",
    "print(ex)\n",
    "en, ex = pd.DataFrame.vbt.signals.generate_random_both(\n",
    "    (5, 3), entry_prob=[0., 0.5, 1.], exit_prob=[0., 0.5, 1.], seed=42, index=index, columns=columns)\n",
    "print(en)\n",
    "print(ex)\n",
    "en, ex = pd.DataFrame.vbt.signals.generate_random_both(\n",
    "    (5, 3), entry_prob=1., exit_prob=1., seed=42, index=index, columns=columns, exit_wait=0)\n",
    "print(en)\n",
    "print(ex)\n",
    "\n",
    "%timeit pd.DataFrame.vbt.signals.generate_random_both(\\\n",
    "    (1000, 1000), entry_prob=1., exit_prob=1.)"
   ]
  },
  {
   "cell_type": "code",
   "execution_count": 19,
   "metadata": {},
   "outputs": [
    {
     "name": "stdout",
     "output_type": "stream",
     "text": [
      "0    False\n",
      "1    False\n",
      "2    False\n",
      "3    False\n",
      "4    False\n",
      "5     True\n",
      "dtype: bool\n",
      "0    False\n",
      "1    False\n",
      "2    False\n",
      "3     True\n",
      "4    False\n",
      "5    False\n",
      "dtype: bool\n",
      "0    False\n",
      "1    False\n",
      "2    False\n",
      "3     True\n",
      "4     True\n",
      "5     True\n",
      "dtype: bool\n",
      "       0      1      2\n",
      "0  False  False  False\n",
      "1  False  False  False\n",
      "2  False  False  False\n",
      "3  False  False  False\n",
      "4  False   True  False\n",
      "5  False   True  False\n",
      "0    False\n",
      "1    False\n",
      "2    False\n",
      "3    False\n",
      "4     True\n",
      "5    False\n",
      "dtype: bool\n",
      "0    False\n",
      "1    False\n",
      "2    False\n",
      "3    False\n",
      "4    False\n",
      "5     True\n",
      "dtype: bool\n",
      "0    False\n",
      "1    False\n",
      "2    False\n",
      "3     True\n",
      "4    False\n",
      "5    False\n",
      "dtype: bool\n",
      "0    False\n",
      "1    False\n",
      "2    False\n",
      "3     True\n",
      "4     True\n",
      "5     True\n",
      "dtype: bool\n",
      "       0      1      2\n",
      "0  False  False  False\n",
      "1  False  False  False\n",
      "2  False  False  False\n",
      "3  False   True   True\n",
      "4  False   True   True\n",
      "5  False   True   True\n",
      "0    False\n",
      "1    False\n",
      "2    False\n",
      "3    False\n",
      "4     True\n",
      "5    False\n",
      "dtype: bool\n",
      "57.5 ms ± 244 µs per loop (mean ± std. dev. of 7 runs, 1 loop each)\n",
      "59.2 ms ± 999 µs per loop (mean ± std. dev. of 7 runs, 10 loops each)\n",
      "62.7 ms ± 420 µs per loop (mean ± std. dev. of 7 runs, 10 loops each)\n"
     ]
    }
   ],
   "source": [
    "e = pd.Series([True, False, False, False, False, False])\n",
    "t = pd.Series([2, 3, 4, 3, 2, 1]).astype(np.float64)\n",
    "\n",
    "print(e.vbt.signals.generate_stop_exits(t, -0.1))\n",
    "print(e.vbt.signals.generate_stop_exits(t, -0.1, trailing=True))\n",
    "print(e.vbt.signals.generate_stop_exits(t, -0.1, trailing=True, first=False))\n",
    "print(e.vbt.signals.generate_stop_exits(t.vbt.tile(3), [-0., -0.5, -1.], trailing=True, first=False))\n",
    "print(e.vbt.signals.generate_stop_exits(t, -0.1, trailing=True, exit_wait=3))\n",
    "\n",
    "print(e.vbt.signals.generate_stop_exits(4 - t, 0.1))\n",
    "print(e.vbt.signals.generate_stop_exits(4 - t, 0.1, trailing=True))\n",
    "print(e.vbt.signals.generate_stop_exits(4 - t, 0.1, trailing=True, first=False))\n",
    "print(e.vbt.signals.generate_stop_exits((4 - t).vbt.tile(3), [0., 0.5, 1.], trailing=True, first=False))\n",
    "print(e.vbt.signals.generate_stop_exits(4 - t, 0.1, trailing=True, exit_wait=3))\n",
    "\n",
    "%timeit big_entries.vbt.signals.generate_stop_exits(big_ts, -0.1)\n",
    "%timeit big_entries.vbt.signals.generate_stop_exits(big_ts, -0.1, trailing=True)\n",
    "%timeit big_entries.vbt.signals.generate_stop_exits(big_ts, -0.1, trailing=True, first=False)"
   ]
  },
  {
   "cell_type": "code",
   "execution_count": 20,
   "metadata": {},
   "outputs": [
    {
     "name": "stdout",
     "output_type": "stream",
     "text": [
      "0     True\n",
      "1    False\n",
      "2    False\n",
      "3    False\n",
      "4     True\n",
      "5    False\n",
      "dtype: bool\n",
      "0    False\n",
      "1    False\n",
      "2    False\n",
      "3     True\n",
      "4    False\n",
      "5     True\n",
      "dtype: bool\n",
      "0     True\n",
      "1    False\n",
      "2    False\n",
      "3    False\n",
      "4    False\n",
      "5     True\n",
      "dtype: bool\n",
      "0    False\n",
      "1    False\n",
      "2    False\n",
      "3     True\n",
      "4    False\n",
      "5    False\n",
      "dtype: bool\n",
      "0     True\n",
      "1    False\n",
      "2    False\n",
      "3    False\n",
      "4     True\n",
      "5    False\n",
      "dtype: bool\n",
      "0    False\n",
      "1    False\n",
      "2    False\n",
      "3     True\n",
      "4    False\n",
      "5    False\n",
      "dtype: bool\n",
      "6.95 ms ± 673 µs per loop (mean ± std. dev. of 7 runs, 1 loop each)\n",
      "51.1 ms ± 1.35 ms per loop (mean ± std. dev. of 7 runs, 10 loops each)\n",
      "49.9 ms ± 791 µs per loop (mean ± std. dev. of 7 runs, 10 loops each)\n"
     ]
    }
   ],
   "source": [
    "e = pd.Series([True, True, True, True, True, True])\n",
    "t = pd.Series([2, 3, 4, 3, 2, 1]).astype(np.float64)\n",
    "\n",
    "en, ex = e.vbt.signals.generate_stop_exits(t, -0.1, trailing=True, iteratively=True)\n",
    "print(en)\n",
    "print(ex)\n",
    "en, ex = e.vbt.signals.generate_stop_exits(t, -0.1, trailing=True, entry_wait=2, iteratively=True)\n",
    "print(en)\n",
    "print(ex)\n",
    "en, ex = e.vbt.signals.generate_stop_exits(t, -0.1, trailing=True, exit_wait=2, iteratively=True)\n",
    "print(en)\n",
    "print(ex)\n",
    "\n",
    "%timeit big_entries.vbt.signals.generate_stop_exits(big_ts, -0.1, iteratively=True)\n",
    "%timeit big_entries.vbt.signals.generate_stop_exits(big_ts, -0.1, trailing=True, iteratively=True)\n",
    "%timeit big_entries.vbt.signals.generate_stop_exits(big_ts, -0.1, trailing=True, first=False, iteratively=True)"
   ]
  },
  {
   "cell_type": "code",
   "execution_count": 21,
   "metadata": {},
   "outputs": [
    {
     "name": "stdout",
     "output_type": "stream",
     "text": [
      "                a      b      c\n",
      "2018-01-01  False  False  False\n",
      "2018-01-02  False  False  False\n",
      "2018-01-03  False  False  False\n",
      "2018-01-04  False  False  False\n",
      "2018-01-05  False  False  False\n",
      "             a   b   c\n",
      "2018-01-01 NaN NaN NaN\n",
      "2018-01-02 NaN NaN NaN\n",
      "2018-01-03 NaN NaN NaN\n",
      "2018-01-04 NaN NaN NaN\n",
      "2018-01-05 NaN NaN NaN\n",
      "            a  b  c\n",
      "2018-01-01 -1 -1 -1\n",
      "2018-01-02 -1 -1 -1\n",
      "2018-01-03 -1 -1 -1\n",
      "2018-01-04 -1 -1 -1\n",
      "2018-01-05 -1 -1 -1\n",
      "                a      b      c\n",
      "2018-01-01  False  False  False\n",
      "2018-01-02  False  False  False\n",
      "2018-01-03  False  False  False\n",
      "2018-01-04  False   True   True\n",
      "2018-01-05   True  False  False\n",
      "              a     b     c\n",
      "2018-01-01  NaN   NaN   NaN\n",
      "2018-01-02  NaN   NaN   NaN\n",
      "2018-01-03  NaN   NaN   NaN\n",
      "2018-01-04  NaN  10.8  10.8\n",
      "2018-01-05  9.0   NaN   NaN\n",
      "            a  b  c\n",
      "2018-01-01 -1 -1 -1\n",
      "2018-01-02 -1 -1 -1\n",
      "2018-01-03 -1 -1 -1\n",
      "2018-01-04 -1  0  0\n",
      "2018-01-05  0 -1 -1\n",
      "                a      b      c\n",
      "2018-01-01  False  False  False\n",
      "2018-01-02  False  False  False\n",
      "2018-01-03  False  False  False\n",
      "2018-01-04   True   True   True\n",
      "2018-01-05  False  False  False\n",
      "               a     b     c\n",
      "2018-01-01   NaN   NaN   NaN\n",
      "2018-01-02   NaN   NaN   NaN\n",
      "2018-01-03   NaN   NaN   NaN\n",
      "2018-01-04  11.7  10.8  10.8\n",
      "2018-01-05   NaN   NaN   NaN\n",
      "            a  b  c\n",
      "2018-01-01 -1 -1 -1\n",
      "2018-01-02 -1 -1 -1\n",
      "2018-01-03 -1 -1 -1\n",
      "2018-01-04  1  1  1\n",
      "2018-01-05 -1 -1 -1\n",
      "                a      b      c\n",
      "2018-01-01  False  False  False\n",
      "2018-01-02   True   True  False\n",
      "2018-01-03  False  False  False\n",
      "2018-01-04  False  False  False\n",
      "2018-01-05  False  False  False\n",
      "               a     b   c\n",
      "2018-01-01   NaN   NaN NaN\n",
      "2018-01-02  11.0  11.0 NaN\n",
      "2018-01-03   NaN   NaN NaN\n",
      "2018-01-04   NaN   NaN NaN\n",
      "2018-01-05   NaN   NaN NaN\n",
      "            a  b  c\n",
      "2018-01-01 -1 -1 -1\n",
      "2018-01-02  2  2 -1\n",
      "2018-01-03 -1 -1 -1\n",
      "2018-01-04 -1 -1 -1\n",
      "2018-01-05 -1 -1 -1\n",
      "                a      b      c\n",
      "2018-01-01  False  False  False\n",
      "2018-01-02   True   True  False\n",
      "2018-01-03  False  False  False\n",
      "2018-01-04  False   True   True\n",
      "2018-01-05  False  False  False\n",
      "               a     b     c\n",
      "2018-01-01   NaN   NaN   NaN\n",
      "2018-01-02  11.0  11.0   NaN\n",
      "2018-01-03   NaN   NaN   NaN\n",
      "2018-01-04   NaN  10.8  10.8\n",
      "2018-01-05   NaN   NaN   NaN\n",
      "            a  b  c\n",
      "2018-01-01 -1 -1 -1\n",
      "2018-01-02  2  2 -1\n",
      "2018-01-03 -1 -1 -1\n",
      "2018-01-04 -1  0  0\n",
      "2018-01-05 -1 -1 -1\n",
      "                a      b      c\n",
      "2018-01-01  False  False  False\n",
      "2018-01-02  False  False  False\n",
      "2018-01-03  False  False  False\n",
      "2018-01-04  False  False  False\n",
      "2018-01-05  False  False  False\n",
      "             a   b   c\n",
      "2018-01-01 NaN NaN NaN\n",
      "2018-01-02 NaN NaN NaN\n",
      "2018-01-03 NaN NaN NaN\n",
      "2018-01-04 NaN NaN NaN\n",
      "2018-01-05 NaN NaN NaN\n",
      "            a  b  c\n",
      "2018-01-01 -1 -1 -1\n",
      "2018-01-02 -1 -1 -1\n",
      "2018-01-03 -1 -1 -1\n",
      "2018-01-04 -1 -1 -1\n",
      "2018-01-05 -1 -1 -1\n",
      "                a      b      c\n",
      "2018-01-01   True   True   True\n",
      "2018-01-02  False  False  False\n",
      "2018-01-03  False  False  False\n",
      "2018-01-04  False   True   True\n",
      "2018-01-05  False   True  False\n",
      "              a     b     c\n",
      "2018-01-01  9.0   9.0   9.0\n",
      "2018-01-02  NaN   NaN   NaN\n",
      "2018-01-03  NaN   NaN   NaN\n",
      "2018-01-04  NaN  10.8  10.8\n",
      "2018-01-05  NaN   9.0   NaN\n",
      "            a  b  c\n",
      "2018-01-01  0  0  0\n",
      "2018-01-02 -1 -1 -1\n",
      "2018-01-03 -1 -1 -1\n",
      "2018-01-04 -1  0  0\n",
      "2018-01-05 -1  0 -1\n",
      "69.2 ms ± 585 µs per loop (mean ± std. dev. of 7 runs, 1 loop each)\n"
     ]
    }
   ],
   "source": [
    "def test_ohlc_stop_exits(**kwargs):\n",
    "    out_dict = {}\n",
    "    result = entries.vbt.signals.generate_ohlc_stop_exits(\n",
    "        price['open'], price['high'], price['low'], price['close'],\n",
    "        out_dict=out_dict, **kwargs\n",
    "    )\n",
    "    if isinstance(result, tuple):\n",
    "        _, ex = result\n",
    "    else:\n",
    "        ex = result\n",
    "    out_dict['hit_price'][~ex] = np.nan\n",
    "    out_dict['stop_type'][~ex] = -1\n",
    "    return result, out_dict['hit_price'], out_dict['stop_type']\n",
    "\n",
    "ex, hit_price, stop_type = test_ohlc_stop_exits()\n",
    "print(ex)\n",
    "print(hit_price)\n",
    "print(stop_type)\n",
    "\n",
    "ex, hit_price, stop_type = test_ohlc_stop_exits(sl_stop=0.1)\n",
    "print(ex)\n",
    "print(hit_price)\n",
    "print(stop_type)\n",
    "\n",
    "ex, hit_price, stop_type = test_ohlc_stop_exits(ts_stop=0.1)\n",
    "print(ex)\n",
    "print(hit_price)\n",
    "print(stop_type)\n",
    "\n",
    "ex, hit_price, stop_type = test_ohlc_stop_exits(tp_stop=0.1)\n",
    "print(ex)\n",
    "print(hit_price)\n",
    "print(stop_type)\n",
    "\n",
    "ex, hit_price, stop_type = test_ohlc_stop_exits(sl_stop=0.1, ts_stop=0.1, tp_stop=0.1)\n",
    "print(ex)\n",
    "print(hit_price)\n",
    "print(stop_type)\n",
    "\n",
    "ex, hit_price, stop_type = test_ohlc_stop_exits(sl_stop=[0., 0.5, 1.], ts_stop=[0., 0.5, 1.], tp_stop=[0., 0.5, 1.])\n",
    "print(ex)\n",
    "print(hit_price)\n",
    "print(stop_type)\n",
    "\n",
    "ex, hit_price, stop_type = test_ohlc_stop_exits(sl_stop=0.1, ts_stop=0.1, tp_stop=0.1, exit_wait=0)\n",
    "print(ex)\n",
    "print(hit_price)\n",
    "print(stop_type)\n",
    "\n",
    "%timeit big_entries.vbt.signals.generate_ohlc_stop_exits(\\\n",
    "    big_ts, big_ts + 1, big_ts - 1, big_ts, sl_stop=0.1, ts_stop=0.1, tp_stop=0.1)"
   ]
  },
  {
   "cell_type": "code",
   "execution_count": 22,
   "metadata": {},
   "outputs": [
    {
     "name": "stdout",
     "output_type": "stream",
     "text": [
      "                a      b      c\n",
      "2018-01-01   True   True   True\n",
      "2018-01-02  False  False  False\n",
      "2018-01-03  False   True   True\n",
      "2018-01-04  False  False  False\n",
      "2018-01-05  False   True  False\n",
      "                a      b      c\n",
      "2018-01-01  False  False  False\n",
      "2018-01-02   True   True   True\n",
      "2018-01-03  False  False  False\n",
      "2018-01-04  False   True   True\n",
      "2018-01-05  False  False  False\n",
      "               a     b     c\n",
      "2018-01-01   NaN   NaN   NaN\n",
      "2018-01-02  11.0  11.0  11.0\n",
      "2018-01-03   NaN   NaN   NaN\n",
      "2018-01-04   NaN  10.8  10.8\n",
      "2018-01-05   NaN   NaN   NaN\n",
      "            a  b  c\n",
      "2018-01-01 -1 -1 -1\n",
      "2018-01-02  2  2  2\n",
      "2018-01-03 -1 -1 -1\n",
      "2018-01-04 -1  0  0\n",
      "2018-01-05 -1 -1 -1\n",
      "63.9 ms ± 1.56 ms per loop (mean ± std. dev. of 7 runs, 1 loop each)\n"
     ]
    }
   ],
   "source": [
    "(en, ex), hit_price, stop_type = test_ohlc_stop_exits(sl_stop=0.1, ts_stop=0.1, tp_stop=0.1, iteratively=True)\n",
    "print(en)\n",
    "print(ex)\n",
    "print(hit_price)\n",
    "print(stop_type)\n",
    "\n",
    "%timeit big_entries.vbt.signals.generate_ohlc_stop_exits(\\\n",
    "    big_ts, big_ts + 1, big_ts - 1, big_ts, sl_stop=0.1, ts_stop=0.1, tp_stop=0.1, iteratively=True)"
   ]
  },
  {
   "cell_type": "code",
   "execution_count": 23,
   "metadata": {},
   "outputs": [
    {
     "name": "stdout",
     "output_type": "stream",
     "text": [
      "a    NaN\n",
      "b    2.0\n",
      "c    1.0\n",
      "Name: map_reduce_between, dtype: float64\n",
      "2.59 ms ± 172 µs per loop (mean ± std. dev. of 7 runs, 1 loop each)\n"
     ]
    }
   ],
   "source": [
    "distance_map_nb = njit(lambda prev_i, next_i, col: next_i - prev_i)\n",
    "avg_reduce_nb = njit(lambda col, a: np.nanmean(a))\n",
    "\n",
    "print(entries.vbt.signals.map_reduce_between(map_func_nb=distance_map_nb, reduce_func_nb=avg_reduce_nb))\n",
    "\n",
    "%timeit big_entries.vbt.signals.map_reduce_between(map_func_nb=distance_map_nb, reduce_func_nb=avg_reduce_nb)"
   ]
  },
  {
   "cell_type": "code",
   "execution_count": 24,
   "metadata": {},
   "outputs": [
    {
     "name": "stdout",
     "output_type": "stream",
     "text": [
      "a    1.0\n",
      "b    1.0\n",
      "c    1.0\n",
      "Name: map_reduce_between, dtype: float64\n",
      "58.5 ms ± 2.51 ms per loop (mean ± std. dev. of 7 runs, 1 loop each)\n"
     ]
    }
   ],
   "source": [
    "print(entries.vbt.signals.map_reduce_between(\n",
    "    other=entries.vbt.signals.fshift(1), \n",
    "    map_func_nb=distance_map_nb, \n",
    "    reduce_func_nb=avg_reduce_nb))\n",
    "\n",
    "%timeit big_entries.vbt.signals.map_reduce_between(\\\n",
    "    other=big_entries.vbt.signals.fshift(1),\\\n",
    "    map_func_nb=distance_map_nb,\\\n",
    "    reduce_func_nb=avg_reduce_nb)"
   ]
  },
  {
   "cell_type": "code",
   "execution_count": 25,
   "metadata": {},
   "outputs": [
    {
     "name": "stdout",
     "output_type": "stream",
     "text": [
      "a    1.0\n",
      "b    1.0\n",
      "c    3.0\n",
      "Name: map_reduce_partitions, dtype: float64\n",
      "2.08 ms ± 151 µs per loop (mean ± std. dev. of 7 runs, 1 loop each)\n"
     ]
    }
   ],
   "source": [
    "print(entries.vbt.signals.map_reduce_partitions(map_func_nb=distance_map_nb, reduce_func_nb=avg_reduce_nb))\n",
    "\n",
    "%timeit big_entries.vbt.signals.map_reduce_partitions(map_func_nb=distance_map_nb, reduce_func_nb=avg_reduce_nb)"
   ]
  },
  {
   "cell_type": "code",
   "execution_count": 26,
   "metadata": {},
   "outputs": [
    {
     "name": "stdout",
     "output_type": "stream",
     "text": [
      "1\n",
      "a    1\n",
      "b    3\n",
      "c    3\n",
      "Name: num_signals, dtype: int64\n",
      "1.46 ms ± 309 µs per loop (mean ± std. dev. of 7 runs, 1000 loops each)\n"
     ]
    }
   ],
   "source": [
    "print(entries['a'].vbt.signals.num_signals())\n",
    "print(entries.vbt.signals.num_signals())\n",
    "\n",
    "%timeit big_entries.vbt.signals.num_signals()"
   ]
  },
  {
   "cell_type": "code",
   "execution_count": 27,
   "metadata": {},
   "outputs": [
    {
     "name": "stdout",
     "output_type": "stream",
     "text": [
      "nan\n",
      "a    NaN\n",
      "b    2.0\n",
      "c    1.0\n",
      "Name: avg_distance, dtype: float64\n",
      "2.68 ms ± 76.5 µs per loop (mean ± std. dev. of 7 runs, 100 loops each)\n"
     ]
    }
   ],
   "source": [
    "print(entries['a'].vbt.signals.avg_distance())\n",
    "print(entries.vbt.signals.avg_distance())\n",
    "\n",
    "%timeit big_entries.vbt.signals.avg_distance()"
   ]
  },
  {
   "cell_type": "code",
   "execution_count": 28,
   "metadata": {},
   "outputs": [
    {
     "name": "stdout",
     "output_type": "stream",
     "text": [
      "1.0\n",
      "a    1.0\n",
      "b    1.0\n",
      "c    1.0\n",
      "Name: avg_distance, dtype: float64\n",
      "55.1 ms ± 761 µs per loop (mean ± std. dev. of 7 runs, 10 loops each)\n"
     ]
    }
   ],
   "source": [
    "print(entries['a'].vbt.signals.avg_distance(to=entries['a'].vbt.signals.fshift(1)))\n",
    "print(entries.vbt.signals.avg_distance(to=entries.vbt.signals.fshift(1)))\n",
    "\n",
    "%timeit big_entries.vbt.signals.avg_distance(to=big_entries.vbt.signals.fshift(1))"
   ]
  },
  {
   "cell_type": "code",
   "execution_count": 29,
   "metadata": {},
   "outputs": [
    {
     "name": "stdout",
     "output_type": "stream",
     "text": [
      "2018-01-01    1\n",
      "2018-01-02    0\n",
      "2018-01-03    0\n",
      "2018-01-04    0\n",
      "2018-01-05    0\n",
      "Name: a, dtype: int64\n",
      "            a  b  c\n",
      "2018-01-01  1  1  1\n",
      "2018-01-02  0  0  2\n",
      "2018-01-03  0  1  3\n",
      "2018-01-04  0  0  0\n",
      "2018-01-05  0  1  0\n",
      "2018-01-01    0\n",
      "2018-01-02    0\n",
      "2018-01-03    0\n",
      "2018-01-04    0\n",
      "2018-01-05    0\n",
      "Name: a, dtype: int64\n",
      "            a  b  c\n",
      "2018-01-01  0  0  0\n",
      "2018-01-02  0  0  0\n",
      "2018-01-03  0  1  0\n",
      "2018-01-04  0  0  0\n",
      "2018-01-05  0  1  0\n",
      "2018-01-01    1\n",
      "2018-01-02    0\n",
      "2018-01-03    0\n",
      "2018-01-04    0\n",
      "2018-01-05    0\n",
      "Name: a, dtype: int64\n",
      "            a  b  c\n",
      "2018-01-01  1  1  1\n",
      "2018-01-02  0  0  2\n",
      "2018-01-03  0  2  3\n",
      "2018-01-04  0  0  0\n",
      "2018-01-05  0  3  0\n",
      "2018-01-01    1\n",
      "2018-01-02    0\n",
      "2018-01-03    0\n",
      "2018-01-04    0\n",
      "2018-01-05    0\n",
      "Name: a, dtype: int64\n",
      "            a  b  c\n",
      "2018-01-01  1  1  1\n",
      "2018-01-02  0  0  2\n",
      "2018-01-03  0  1  3\n",
      "2018-01-04  0  0  0\n",
      "2018-01-05  0  1  0\n",
      "7.14 ms ± 300 µs per loop (mean ± std. dev. of 7 runs, 100 loops each)\n"
     ]
    }
   ],
   "source": [
    "print(entries['a'].vbt.signals.rank())\n",
    "print(entries.vbt.signals.rank())\n",
    "\n",
    "print(entries['a'].vbt.signals.rank(after_false=True))\n",
    "print(entries.vbt.signals.rank(after_false=True))\n",
    "\n",
    "print(entries['a'].vbt.signals.rank(allow_gaps=True))\n",
    "print(entries.vbt.signals.rank(allow_gaps=True))\n",
    "\n",
    "print(entries['a'].vbt.signals.rank(allow_gaps=True, reset_by=~entries['a']))\n",
    "print(entries.vbt.signals.rank(allow_gaps=True, reset_by=~entries))\n",
    "\n",
    "%timeit big_entries.vbt.signals.rank()"
   ]
  },
  {
   "cell_type": "code",
   "execution_count": 30,
   "metadata": {},
   "outputs": [
    {
     "name": "stdout",
     "output_type": "stream",
     "text": [
      "2018-01-01    1\n",
      "2018-01-02    0\n",
      "2018-01-03    0\n",
      "2018-01-04    0\n",
      "2018-01-05    0\n",
      "Name: a, dtype: int64\n",
      "            a  b  c\n",
      "2018-01-01  1  1  1\n",
      "2018-01-02  0  0  1\n",
      "2018-01-03  0  2  1\n",
      "2018-01-04  0  0  0\n",
      "2018-01-05  0  3  0\n",
      "2018-01-01    0\n",
      "2018-01-02    0\n",
      "2018-01-03    0\n",
      "2018-01-04    0\n",
      "2018-01-05    0\n",
      "Name: a, dtype: int64\n",
      "            a  b  c\n",
      "2018-01-01  0  0  0\n",
      "2018-01-02  0  0  0\n",
      "2018-01-03  0  1  0\n",
      "2018-01-04  0  0  0\n",
      "2018-01-05  0  2  0\n",
      "2018-01-01    1\n",
      "2018-01-02    0\n",
      "2018-01-03    0\n",
      "2018-01-04    0\n",
      "2018-01-05    0\n",
      "Name: a, dtype: int64\n",
      "            a  b  c\n",
      "2018-01-01  1  1  1\n",
      "2018-01-02  0  0  1\n",
      "2018-01-03  0  1  1\n",
      "2018-01-04  0  0  0\n",
      "2018-01-05  0  1  0\n",
      "8.22 ms ± 308 µs per loop (mean ± std. dev. of 7 runs, 100 loops each)\n"
     ]
    }
   ],
   "source": [
    "print(entries['a'].vbt.signals.rank_partitions())\n",
    "print(entries.vbt.signals.rank_partitions())\n",
    "\n",
    "print(entries['a'].vbt.signals.rank_partitions(after_false=True))\n",
    "print(entries.vbt.signals.rank_partitions(after_false=True))\n",
    "\n",
    "print(entries['a'].vbt.signals.rank_partitions(reset_by=~entries['a']))\n",
    "print(entries.vbt.signals.rank_partitions(reset_by=~entries))\n",
    "\n",
    "%timeit big_entries.vbt.signals.rank_partitions()"
   ]
  },
  {
   "cell_type": "code",
   "execution_count": 31,
   "metadata": {},
   "outputs": [
    {
     "name": "stdout",
     "output_type": "stream",
     "text": [
      "                a      b      c\n",
      "2018-01-01   True   True   True\n",
      "2018-01-02  False  False  False\n",
      "2018-01-03  False   True  False\n",
      "2018-01-04  False  False  False\n",
      "2018-01-05  False   True  False\n",
      "8.26 ms ± 217 µs per loop (mean ± std. dev. of 7 runs, 100 loops each)\n"
     ]
    }
   ],
   "source": [
    "print(entries.vbt.signals.first())\n",
    "\n",
    "%timeit big_entries.vbt.signals.first()"
   ]
  },
  {
   "cell_type": "code",
   "execution_count": 9,
   "metadata": {},
   "outputs": [
    {
     "name": "stdout",
     "output_type": "stream",
     "text": [
      "                a      b      c\n",
      "2018-01-01   True   True   True\n",
      "2018-01-02  False  False   True\n",
      "2018-01-03  False   True   True\n",
      "2018-01-04  False  False  False\n",
      "2018-01-05  False   True  False\n",
      "664 µs ± 70.9 µs per loop (mean ± std. dev. of 7 runs, 1000 loops each)\n",
      "                a      b      c\n",
      "2018-01-01   True   True   True\n",
      "2018-01-02  False  False   True\n",
      "2018-01-03  False   True   True\n",
      "2018-01-04  False  False  False\n",
      "2018-01-05  False   True  False\n",
      "751 µs ± 101 µs per loop (mean ± std. dev. of 7 runs, 1000 loops each)\n"
     ]
    }
   ],
   "source": [
    "print(entries & entries)\n",
    "%timeit big_entries & big_entries\n",
    "\n",
    "print(entries.vbt.signals.AND(entries))\n",
    "%timeit big_entries.vbt.signals.AND(big_entries) # a bit slower but does smart broadcasting"
   ]
  },
  {
   "cell_type": "code",
   "execution_count": 10,
   "metadata": {},
   "outputs": [
    {
     "name": "stdout",
     "output_type": "stream",
     "text": [
      "                a     b      c\n",
      "2018-01-01   True  True   True\n",
      "2018-01-02   True  True   True\n",
      "2018-01-03   True  True   True\n",
      "2018-01-04   True  True   True\n",
      "2018-01-05  False  True  False\n",
      "               >1                  >2                   >3              \n",
      "                a     b      c      a      b      c      a      b      c\n",
      "2018-01-01   True  True   True   True   True   True   True   True   True\n",
      "2018-01-02   True  True   True  False  False   True  False  False   True\n",
      "2018-01-03   True  True   True   True   True   True  False   True   True\n",
      "2018-01-04   True  True   True  False  False  False  False  False  False\n",
      "2018-01-05  False  True  False  False   True  False  False   True  False\n"
     ]
    }
   ],
   "source": [
    "print(entries.vbt.signals.OR([ts > 1, ts > 2, ts > 3])) # you can pass multiple arguments\n",
    "print(entries.vbt.signals.OR([ts > 1, ts > 2, ts > 3], concat=True, keys=['>1', '>2', '>3']))"
   ]
  },
  {
   "cell_type": "code",
   "execution_count": 34,
   "metadata": {},
   "outputs": [
    {
     "name": "stdout",
     "output_type": "stream",
     "text": [
      "                a      b      c\n",
      "2018-01-01  False  False   True\n",
      "2018-01-02  False  False   True\n",
      "2018-01-03  False   True  False\n",
      "2018-01-04   True   True  False\n",
      "2018-01-05  False   True   True\n",
      "14.9 ms ± 130 µs per loop (mean ± std. dev. of 7 runs, 100 loops each)\n"
     ]
    }
   ],
   "source": [
    "print(entries.vbt.signals.shuffle(seed=42))\n",
    "\n",
    "%timeit big_entries.vbt.signals.shuffle(seed=42)"
   ]
  },
  {
   "cell_type": "code",
   "execution_count": 35,
   "metadata": {
    "Collapsed": "false"
   },
   "outputs": [
    {
     "name": "stdout",
     "output_type": "stream",
     "text": [
      "                a      b      c\n",
      "2018-01-01  False  False  False\n",
      "2018-01-02  False  False  False\n",
      "2018-01-03   True   True   True\n",
      "2018-01-04  False  False   True\n",
      "2018-01-05  False   True   True\n",
      "598 µs ± 7.17 µs per loop (mean ± std. dev. of 7 runs, 1000 loops each)\n"
     ]
    }
   ],
   "source": [
    "print(entries.vbt.signals.fshift(2))\n",
    "\n",
    "%timeit big_entries.vbt.signals.fshift(2)"
   ]
  },
  {
   "cell_type": "code",
   "execution_count": 36,
   "metadata": {
    "Collapsed": "false"
   },
   "outputs": [
    {
     "data": {
      "image/png": "[encoded data removed]"
     },
     "metadata": {},
     "output_type": "display_data"
    }
   ],
   "source": [
    "entries.vbt.signals.plot().show_png()"
   ]
  },
  {
   "cell_type": "code",
   "execution_count": 37,
   "metadata": {},
   "outputs": [
    {
     "data": {
      "image/png": "[encoded data removed]"
     },
     "metadata": {},
     "output_type": "display_data"
    }
   ],
   "source": [
    "entries['a'].vbt.signals.plot().show_png()"
   ]
  },
  {
   "cell_type": "code",
   "execution_count": 38,
   "metadata": {},
   "outputs": [
    {
     "data": {
      "image/png": "[encoded data removed]"
     },
     "metadata": {},
     "output_type": "display_data"
    }
   ],
   "source": [
    "entries['a'].vbt.signals.plot_as_markers(ts).show_png()"
   ]
  },
  {
   "cell_type": "code",
   "execution_count": 39,
   "metadata": {},
   "outputs": [
    {
     "data": {
      "image/png": "[encoded data removed]"
     },
     "metadata": {},
     "output_type": "display_data"
    }
   ],
   "source": [
    "entries['a'].vbt.signals.plot_as_entry_markers(ts).show_png()"
   ]
  },
  {
   "cell_type": "code",
   "execution_count": 40,
   "metadata": {},
   "outputs": [
    {
     "data": {
      "image/png": "[encoded data removed]"
     },
     "metadata": {},
     "output_type": "display_data"
    }
   ],
   "source": [
    "entries['a'].vbt.signals.plot_as_exit_markers(ts).show_png()"
   ]
  },
  {
   "cell_type": "markdown",
   "metadata": {},
   "source": [
    "## factory"
   ]
  },
  {
   "cell_type": "code",
   "execution_count": 41,
   "metadata": {},
   "outputs": [
    {
     "name": "stdout",
     "output_type": "stream",
     "text": [
      "custom_n1      0      1\n",
      "custom_n2      1      0\n",
      "0           True   True\n",
      "1          False  False\n",
      "2           True   True\n",
      "3          False  False\n",
      "4           True   True\n",
      "custom_n1      0      1\n",
      "custom_n2      1      0\n",
      "0          False  False\n",
      "1           True   True\n",
      "2          False  False\n",
      "3           True   True\n",
      "4          False  False\n",
      "custom_n1       0       1\n",
      "custom_n2       1       0\n",
      "0          1100.0  1100.0\n",
      "1             NaN     NaN\n",
      "2          1100.0  1102.0\n",
      "3             NaN     NaN\n",
      "4          1100.0  1104.0\n",
      "custom_n1       0       1\n",
      "custom_n2       1       0\n",
      "0             NaN     NaN\n",
      "1          1101.0  1100.0\n",
      "2             NaN     NaN\n",
      "3          1103.0  1100.0\n",
      "4             NaN     NaN\n"
     ]
    },
    {
     "data": {
      "image/png": "[encoded data removed]"
     },
     "metadata": {},
     "output_type": "display_data"
    }
   ],
   "source": [
    "@njit\n",
    "def choice_nb(from_i, to_i, col, ts, in_out, n, arg, temp_idx_arr, kw):\n",
    "    in_out[from_i, col] = ts[from_i, col] * n + arg + kw\n",
    "    temp_idx_arr[0] = from_i\n",
    "    return temp_idx_arr[:1]\n",
    "\n",
    "MySignals = vbt.SignalFactory(\n",
    "    input_names=['ts1', 'ts2'],\n",
    "    in_output_names=['in_out1', 'in_out2'],\n",
    "    param_names=['n1', 'n2']\n",
    ").from_choice_func(\n",
    "    entry_choice_func=choice_nb,\n",
    "    entry_settings=dict(\n",
    "        pass_inputs=['ts1'],\n",
    "        pass_in_outputs=['in_out1'],\n",
    "        pass_params=['n1'],\n",
    "        pass_kwargs=['temp_idx_arr1', ('kw1', 1000)]\n",
    "    ),\n",
    "    exit_choice_func=choice_nb,\n",
    "    exit_settings=dict(\n",
    "        pass_inputs=['ts2'],\n",
    "        pass_in_outputs=['in_out2'],\n",
    "        pass_params=['n2'],\n",
    "        pass_kwargs=['temp_idx_arr2', ('kw2', 1000)]\n",
    "    ),\n",
    "    in_output_settings=dict(\n",
    "        in_out1=dict(\n",
    "            dtype=np.float_\n",
    "        ),\n",
    "        in_out2=dict(\n",
    "            dtype=np.float_\n",
    "        )\n",
    "    ),\n",
    "    in_out1=np.nan,\n",
    "    in_out2=np.nan,\n",
    "    var_args=True\n",
    ")\n",
    "my_sig = MySignals.run(np.arange(5), np.arange(5), [0, 1], [1, 0], entry_args=(100,), exit_args=(100,))\n",
    "print(my_sig.entries)\n",
    "print(my_sig.exits)\n",
    "print(my_sig.in_out1)\n",
    "print(my_sig.in_out2)\n",
    "my_sig[(0, 1)].plot().show_png()"
   ]
  },
  {
   "cell_type": "code",
   "execution_count": 42,
   "metadata": {},
   "outputs": [
    {
     "name": "stdout",
     "output_type": "stream",
     "text": [
      "custom_n1      0      1\n",
      "custom_n2      1      0\n",
      "0           True   True\n",
      "1          False  False\n",
      "2          False  False\n",
      "3          False  False\n",
      "4           True   True\n",
      "5          False  False\n",
      "6          False  False\n",
      "custom_n1      0      1\n",
      "custom_n2      1      0\n",
      "0          False  False\n",
      "1          False  False\n",
      "2           True   True\n",
      "3          False  False\n",
      "4          False  False\n",
      "5          False  False\n",
      "6           True   True\n",
      "custom_n1       0       1\n",
      "custom_n2       1       0\n",
      "0          1100.0  1100.0\n",
      "1             NaN     NaN\n",
      "2             NaN     NaN\n",
      "3             NaN     NaN\n",
      "4          1100.0  1104.0\n",
      "5             NaN     NaN\n",
      "6             NaN     NaN\n",
      "custom_n1       0       1\n",
      "custom_n2       1       0\n",
      "0             NaN     NaN\n",
      "1             NaN     NaN\n",
      "2          1102.0  1100.0\n",
      "3             NaN     NaN\n",
      "4             NaN     NaN\n",
      "5             NaN     NaN\n",
      "6          1106.0  1100.0\n"
     ]
    }
   ],
   "source": [
    "my_sig = MySignals.run(\n",
    "    np.arange(7), np.arange(7), [0, 1], [1, 0], \n",
    "    entry_args=(100,), exit_args=(100,), \n",
    "    entry_kwargs=dict(wait=2), exit_kwargs=dict(wait=2)\n",
    ")\n",
    "print(my_sig.entries)\n",
    "print(my_sig.exits)\n",
    "print(my_sig.in_out1)\n",
    "print(my_sig.in_out2)"
   ]
  },
  {
   "cell_type": "code",
   "execution_count": 43,
   "metadata": {},
   "outputs": [
    {
     "name": "stdout",
     "output_type": "stream",
     "text": [
      "custom_n2      1      0\n",
      "0           True   True\n",
      "1          False  False\n",
      "2           True   True\n",
      "3          False  False\n",
      "4           True   True\n",
      "custom_n2      1      0\n",
      "0          False  False\n",
      "1           True   True\n",
      "2          False  False\n",
      "3           True   True\n",
      "4          False  False\n",
      "custom_n2       1       0\n",
      "0             NaN     NaN\n",
      "1          1101.0  1100.0\n",
      "2             NaN     NaN\n",
      "3          1103.0  1100.0\n",
      "4             NaN     NaN\n"
     ]
    },
    {
     "data": {
      "image/png": "[encoded data removed]"
     },
     "metadata": {},
     "output_type": "display_data"
    }
   ],
   "source": [
    "MySignals = vbt.SignalFactory(\n",
    "    input_names=['ts2'],\n",
    "    in_output_names=['in_out2'],\n",
    "    param_names=['n2'],\n",
    "    exit_only=True\n",
    ").from_choice_func(\n",
    "    exit_choice_func=choice_nb,\n",
    "    exit_settings=dict(\n",
    "        pass_inputs=['ts2'],\n",
    "        pass_in_outputs=['in_out2'],\n",
    "        pass_params=['n2'],\n",
    "        pass_kwargs=['temp_idx_arr2', ('kw2', 1000)]\n",
    "    ),\n",
    "    in_output_settings=dict(\n",
    "        in_out2=dict(\n",
    "            dtype=np.float_\n",
    "        )\n",
    "    ),\n",
    "    in_out2=np.nan,\n",
    "    var_args=True\n",
    ")\n",
    "e = np.array([True, False, True, False, True])\n",
    "my_sig = MySignals.run(e, np.arange(5), [1, 0], 100)\n",
    "print(my_sig.entries)\n",
    "print(my_sig.exits)\n",
    "print(my_sig.in_out2)\n",
    "my_sig[0].plot().show_png()"
   ]
  },
  {
   "cell_type": "code",
   "execution_count": 44,
   "metadata": {},
   "outputs": [
    {
     "name": "stdout",
     "output_type": "stream",
     "text": [
      "custom_n2      1      0\n",
      "0           True   True\n",
      "1          False  False\n",
      "2          False  False\n",
      "3           True   True\n",
      "4          False  False\n",
      "5          False  False\n",
      "custom_n2      1      0\n",
      "0          False  False\n",
      "1          False  False\n",
      "2           True   True\n",
      "3          False  False\n",
      "4          False  False\n",
      "5           True   True\n",
      "custom_n2       1       0\n",
      "0             NaN     NaN\n",
      "1             NaN     NaN\n",
      "2          1102.0  1100.0\n",
      "3             NaN     NaN\n",
      "4             NaN     NaN\n",
      "5          1105.0  1100.0\n"
     ]
    }
   ],
   "source": [
    "e = np.array([True, False, False, True, False, False])\n",
    "my_sig = MySignals.run(e, np.arange(6), [1, 0], 100, wait=2)\n",
    "print(my_sig.entries)\n",
    "print(my_sig.exits)\n",
    "print(my_sig.in_out2)"
   ]
  },
  {
   "cell_type": "code",
   "execution_count": 45,
   "metadata": {},
   "outputs": [
    {
     "name": "stdout",
     "output_type": "stream",
     "text": [
      "custom_n2     1     0\n",
      "0          True  True\n",
      "1          True  True\n",
      "2          True  True\n",
      "3          True  True\n",
      "4          True  True\n",
      "custom_n2      1      0\n",
      "0           True   True\n",
      "1          False  False\n",
      "2           True   True\n",
      "3          False  False\n",
      "4           True   True\n",
      "custom_n2      1      0\n",
      "0          False  False\n",
      "1           True   True\n",
      "2          False  False\n",
      "3           True   True\n",
      "4          False  False\n",
      "custom_n2       1       0\n",
      "0             NaN     NaN\n",
      "1          1101.0  1100.0\n",
      "2             NaN     NaN\n",
      "3          1103.0  1100.0\n",
      "4             NaN     NaN\n"
     ]
    },
    {
     "data": {
      "image/png": "[encoded data removed]"
     },
     "metadata": {},
     "output_type": "display_data"
    }
   ],
   "source": [
    "MySignals = vbt.SignalFactory(\n",
    "    input_names=['ts2'],\n",
    "    in_output_names=['in_out2'],\n",
    "    param_names=['n2'],\n",
    "    iteratively=True\n",
    ").from_choice_func(\n",
    "    exit_choice_func=choice_nb,\n",
    "    exit_settings=dict(\n",
    "        pass_inputs=['ts2'],\n",
    "        pass_in_outputs=['in_out2'],\n",
    "        pass_params=['n2'],\n",
    "        pass_kwargs=['temp_idx_arr2', ('kw2', 1000)]\n",
    "    ),\n",
    "    in_output_settings=dict(\n",
    "        in_out2=dict(\n",
    "            dtype=np.float_\n",
    "        )\n",
    "    ),\n",
    "    in_out2=np.nan, \n",
    "    var_args=True\n",
    ")\n",
    "e = np.array([True, True, True, True, True])\n",
    "my_sig = MySignals.run(e, np.arange(5), [1, 0], 100)\n",
    "print(my_sig.entries)\n",
    "print(my_sig.new_entries)\n",
    "print(my_sig.exits)\n",
    "print(my_sig.in_out2)\n",
    "my_sig[0].plot().show_png()"
   ]
  },
  {
   "cell_type": "code",
   "execution_count": 46,
   "metadata": {},
   "outputs": [
    {
     "name": "stdout",
     "output_type": "stream",
     "text": [
      "custom_n2     1     0\n",
      "0          True  True\n",
      "1          True  True\n",
      "2          True  True\n",
      "3          True  True\n",
      "4          True  True\n",
      "5          True  True\n",
      "custom_n2      1      0\n",
      "0           True   True\n",
      "1          False  False\n",
      "2          False  False\n",
      "3           True   True\n",
      "4          False  False\n",
      "5          False  False\n",
      "custom_n2      1      0\n",
      "0          False  False\n",
      "1          False  False\n",
      "2           True   True\n",
      "3          False  False\n",
      "4          False  False\n",
      "5           True   True\n",
      "custom_n2       1       0\n",
      "0             NaN     NaN\n",
      "1             NaN     NaN\n",
      "2          1102.0  1100.0\n",
      "3             NaN     NaN\n",
      "4             NaN     NaN\n",
      "5          1105.0  1100.0\n"
     ]
    }
   ],
   "source": [
    "e = np.array([True, True, True, True, True, True])\n",
    "my_sig = MySignals.run(e, np.arange(6), [1, 0], 100, wait=2)\n",
    "print(my_sig.entries)\n",
    "print(my_sig.new_entries)\n",
    "print(my_sig.exits)\n",
    "print(my_sig.in_out2)"
   ]
  },
  {
   "cell_type": "markdown",
   "metadata": {},
   "source": [
    "## basic"
   ]
  },
  {
   "cell_type": "markdown",
   "metadata": {},
   "source": [
    "### RAND"
   ]
  },
  {
   "cell_type": "code",
   "execution_count": 47,
   "metadata": {},
   "outputs": [
    {
     "name": "stdout",
     "output_type": "stream",
     "text": [
      "0     True\n",
      "1    False\n",
      "2    False\n",
      "3    False\n",
      "4    False\n",
      "5    False\n",
      "Name: 1, dtype: bool\n",
      "0    False\n",
      "1     True\n",
      "2    False\n",
      "3    False\n",
      "4    False\n",
      "5    False\n",
      "Name: 1, dtype: bool\n"
     ]
    }
   ],
   "source": [
    "rand = vbt.RAND.run(n=1, input_shape=(6,), seed=42)\n",
    "\n",
    "print(rand.entries)\n",
    "print(rand.exits)"
   ]
  },
  {
   "cell_type": "code",
   "execution_count": 48,
   "metadata": {},
   "outputs": [
    {
     "name": "stdout",
     "output_type": "stream",
     "text": [
      "rand_n      1      2      3\n",
      "0        True   True   True\n",
      "1       False  False  False\n",
      "2       False   True   True\n",
      "3       False  False  False\n",
      "4       False  False   True\n",
      "5       False  False  False\n",
      "rand_n      1      2      3\n",
      "0       False  False  False\n",
      "1        True   True   True\n",
      "2       False  False  False\n",
      "3       False   True   True\n",
      "4       False  False  False\n",
      "5       False  False   True\n"
     ]
    }
   ],
   "source": [
    "rand = vbt.RAND.run(n=[1, 2, 3], input_shape=(6,), seed=42)\n",
    "\n",
    "print(rand.entries)\n",
    "print(rand.exits)"
   ]
  },
  {
   "cell_type": "code",
   "execution_count": 49,
   "metadata": {},
   "outputs": [
    {
     "name": "stdout",
     "output_type": "stream",
     "text": [
      "rand_n  mix_0         mix_1       \n",
      "            0      1      0      1\n",
      "0       False   True   True   True\n",
      "1        True  False  False  False\n",
      "2       False  False  False   True\n",
      "3       False  False   True  False\n",
      "4       False   True  False   True\n",
      "5       False  False   True  False\n",
      "6       False  False  False   True\n",
      "7       False  False  False  False\n",
      "rand_n  mix_0         mix_1       \n",
      "            0      1      0      1\n",
      "0       False  False  False  False\n",
      "1       False  False   True   True\n",
      "2       False  False  False  False\n",
      "3       False   True  False   True\n",
      "4       False  False   True  False\n",
      "5        True  False  False   True\n",
      "6       False  False   True  False\n",
      "7       False   True  False   True\n"
     ]
    }
   ],
   "source": [
    "rand = vbt.RAND.run(n=[np.array([1, 2]), np.array([3, 4])], input_shape=(8, 2), seed=42)\n",
    "\n",
    "print(rand.entries)\n",
    "print(rand.exits)"
   ]
  },
  {
   "cell_type": "code",
   "execution_count": 50,
   "metadata": {},
   "outputs": [
    {
     "name": "stdout",
     "output_type": "stream",
     "text": [
      "24.4 ms ± 913 µs per loop (mean ± std. dev. of 7 runs, 10 loops each)\n",
      "234 ms ± 7.33 ms per loop (mean ± std. dev. of 7 runs, 1 loop each)\n"
     ]
    }
   ],
   "source": [
    "%timeit vbt.RAND.run(n=100, input_shape=(1000, 1000), seed=42)\n",
    "%timeit vbt.RAND.run(n=np.full(10, 100).tolist(), input_shape=(1000, 1000), seed=42)"
   ]
  },
  {
   "cell_type": "markdown",
   "metadata": {},
   "source": [
    "### RPROB"
   ]
  },
  {
   "cell_type": "code",
   "execution_count": 51,
   "metadata": {},
   "outputs": [
    {
     "name": "stdout",
     "output_type": "stream",
     "text": [
      "0     True\n",
      "1    False\n",
      "2     True\n",
      "3    False\n",
      "4     True\n",
      "Name: (1.0, 1.0), dtype: bool\n",
      "0    False\n",
      "1     True\n",
      "2    False\n",
      "3     True\n",
      "4    False\n",
      "Name: (1.0, 1.0), dtype: bool\n"
     ]
    }
   ],
   "source": [
    "rprob = vbt.RPROB.run(entry_prob=1., exit_prob=1., input_shape=(5,), seed=42)\n",
    "\n",
    "print(rprob.entries)\n",
    "print(rprob.exits)"
   ]
  },
  {
   "cell_type": "code",
   "execution_count": 52,
   "metadata": {},
   "outputs": [
    {
     "name": "stdout",
     "output_type": "stream",
     "text": [
      "0     True\n",
      "1    False\n",
      "2     True\n",
      "3    False\n",
      "4     True\n",
      "Name: (mix_0, mix_0), dtype: bool\n",
      "0    False\n",
      "1     True\n",
      "2    False\n",
      "3     True\n",
      "4    False\n",
      "Name: (mix_0, mix_0), dtype: bool\n"
     ]
    }
   ],
   "source": [
    "rprob = vbt.RPROB.run(\n",
    "    entry_prob=np.asarray([1., 0., 1., 0., 1.]), \n",
    "    exit_prob=np.asarray([0., 1., 0., 1., 0.]), \n",
    "    input_shape=(5,), seed=42)\n",
    "\n",
    "print(rprob.entries)\n",
    "print(rprob.exits)"
   ]
  },
  {
   "cell_type": "code",
   "execution_count": 53,
   "metadata": {},
   "outputs": [
    {
     "name": "stdout",
     "output_type": "stream",
     "text": [
      "rprob_entry_prob    0.5    1.0\n",
      "rprob_exit_prob     1.0    0.5\n",
      "0                  True   True\n",
      "1                 False  False\n",
      "2                 False   True\n",
      "3                 False  False\n",
      "4                  True  False\n",
      "rprob_entry_prob    0.5    1.0\n",
      "rprob_exit_prob     1.0    0.5\n",
      "0                 False  False\n",
      "1                  True   True\n",
      "2                 False  False\n",
      "3                 False  False\n",
      "4                 False  False\n"
     ]
    }
   ],
   "source": [
    "rprob = vbt.RPROB.run(entry_prob=[0.5, 1.], exit_prob=[1., 0.5], input_shape=(5,), seed=42)\n",
    "\n",
    "print(rprob.entries)\n",
    "print(rprob.exits)"
   ]
  },
  {
   "cell_type": "code",
   "execution_count": 54,
   "metadata": {},
   "outputs": [
    {
     "name": "stdout",
     "output_type": "stream",
     "text": [
      "103 ms ± 1.95 ms per loop (mean ± std. dev. of 7 runs, 10 loops each)\n",
      "963 ms ± 2.23 ms per loop (mean ± std. dev. of 7 runs, 1 loop each)\n"
     ]
    }
   ],
   "source": [
    "%timeit vbt.RPROB.run(entry_prob=1., exit_prob=1., input_shape=(1000, 1000), seed=42)\n",
    "%timeit vbt.RPROB.run(\\\n",
    "    entry_prob=np.full(10, 1.).tolist(), exit_prob=np.full(10, 1.).tolist(), \\\n",
    "    input_shape=(1000, 1000), seed=42)"
   ]
  },
  {
   "cell_type": "markdown",
   "metadata": {},
   "source": [
    "### RPROBEX"
   ]
  },
  {
   "cell_type": "code",
   "execution_count": 55,
   "metadata": {},
   "outputs": [
    {
     "name": "stdout",
     "output_type": "stream",
     "text": [
      "rprobex_prob    0.0                  0.5                  1.0              \n",
      "                  a      b      c      a      b      c      a      b      c\n",
      "2018-01-01    False  False  False  False  False  False  False  False  False\n",
      "2018-01-02    False  False  False  False  False  False   True   True  False\n",
      "2018-01-03    False  False  False  False  False  False  False  False  False\n",
      "2018-01-04    False  False  False   True  False   True  False   True   True\n",
      "2018-01-05    False  False  False  False  False  False  False  False  False\n"
     ]
    }
   ],
   "source": [
    "rprobex = vbt.RPROBEX.run(entries, prob=[0., 0.5, 1.], seed=42)\n",
    "\n",
    "print(rprobex.exits)"
   ]
  },
  {
   "cell_type": "code",
   "execution_count": 56,
   "metadata": {},
   "outputs": [
    {
     "name": "stdout",
     "output_type": "stream",
     "text": [
      "42.4 ms ± 701 µs per loop (mean ± std. dev. of 7 runs, 1 loop each)\n",
      "401 ms ± 7 ms per loop (mean ± std. dev. of 7 runs, 1 loop each)\n"
     ]
    }
   ],
   "source": [
    "%timeit vbt.RPROBEX.run(big_entries, prob=1., seed=42)\n",
    "%timeit vbt.RPROBEX.run(big_entries, prob=np.full(10, 1.).tolist(), seed=42)"
   ]
  },
  {
   "cell_type": "markdown",
   "metadata": {},
   "source": [
    "### IRPROBEX"
   ]
  },
  {
   "cell_type": "code",
   "execution_count": 57,
   "metadata": {},
   "outputs": [
    {
     "name": "stdout",
     "output_type": "stream",
     "text": [
      "irprobex_prob    0.0                  0.5                  1.0              \n",
      "                   a      b      c      a      b      c      a      b      c\n",
      "2018-01-01      True   True   True   True   True   True   True   True   True\n",
      "2018-01-02     False  False  False  False  False  False  False  False  False\n",
      "2018-01-03     False  False  False  False   True   True  False   True   True\n",
      "2018-01-04     False  False  False  False  False  False  False  False  False\n",
      "2018-01-05     False  False  False  False   True  False  False   True  False\n",
      "irprobex_prob    0.0                  0.5                  1.0              \n",
      "                   a      b      c      a      b      c      a      b      c\n",
      "2018-01-01     False  False  False  False  False  False  False  False  False\n",
      "2018-01-02     False  False  False  False   True   True   True   True   True\n",
      "2018-01-03     False  False  False   True  False  False  False  False  False\n",
      "2018-01-04     False  False  False  False   True  False  False   True   True\n",
      "2018-01-05     False  False  False  False  False   True  False  False  False\n"
     ]
    }
   ],
   "source": [
    "irprobex = vbt.IRPROBEX.run(entries, prob=[0., 0.5, 1.], seed=42)\n",
    "\n",
    "print(irprobex.new_entries)\n",
    "print(irprobex.exits)"
   ]
  },
  {
   "cell_type": "code",
   "execution_count": 58,
   "metadata": {},
   "outputs": [
    {
     "name": "stdout",
     "output_type": "stream",
     "text": [
      "36.9 ms ± 2.29 ms per loop (mean ± std. dev. of 7 runs, 1 loop each)\n",
      "345 ms ± 34.7 ms per loop (mean ± std. dev. of 7 runs, 1 loop each)\n"
     ]
    }
   ],
   "source": [
    "%timeit vbt.IRPROBEX.run(big_entries, prob=1., seed=42)\n",
    "%timeit vbt.IRPROBEX.run(big_entries, prob=np.full(10, 1.).tolist(), seed=42)"
   ]
  },
  {
   "cell_type": "markdown",
   "metadata": {},
   "source": [
    "### STEX"
   ]
  },
  {
   "cell_type": "code",
   "execution_count": 59,
   "metadata": {},
   "outputs": [
    {
     "name": "stdout",
     "output_type": "stream",
     "text": [
      "stex_stop     0.1              \n",
      "                a      b      c\n",
      "2018-01-01  False  False  False\n",
      "2018-01-02   True   True  False\n",
      "2018-01-03  False  False  False\n",
      "2018-01-04  False  False  False\n",
      "2018-01-05  False  False  False\n"
     ]
    }
   ],
   "source": [
    "stex = vbt.STEX.run(entries, ts, 0.1)\n",
    "\n",
    "print(stex.exits)"
   ]
  },
  {
   "cell_type": "code",
   "execution_count": 60,
   "metadata": {},
   "outputs": [
    {
     "name": "stdout",
     "output_type": "stream",
     "text": [
      "stex_stop   mix_0              \n",
      "                a      b      c\n",
      "2018-01-01  False  False  False\n",
      "2018-01-02   True   True  False\n",
      "2018-01-03  False  False  False\n",
      "2018-01-04  False   True   True\n",
      "2018-01-05  False  False  False\n"
     ]
    }
   ],
   "source": [
    "stex = vbt.STEX.run(entries, ts, np.asarray([0.1, 0.1, -0.1, -0.1, -0.1])[:, None])\n",
    "\n",
    "print(stex.exits)"
   ]
  },
  {
   "cell_type": "code",
   "execution_count": 61,
   "metadata": {},
   "outputs": [
    {
     "name": "stdout",
     "output_type": "stream",
     "text": [
      "stex_stop        0.1                                      -0.1                \\\n",
      "stex_trailing  False                True                 False                 \n",
      "                   a      b      c      a      b      c      a      b      c   \n",
      "2018-01-01     False  False  False  False  False  False  False  False  False   \n",
      "2018-01-02      True   True  False   True   True  False  False  False  False   \n",
      "2018-01-03     False  False  False  False  False  False  False  False  False   \n",
      "2018-01-04     False  False  False  False  False  False  False   True   True   \n",
      "2018-01-05     False  False  False  False  False  False  False  False  False   \n",
      "\n",
      "stex_stop                           \n",
      "stex_trailing  True                 \n",
      "                   a      b      c  \n",
      "2018-01-01     False  False  False  \n",
      "2018-01-02     False  False  False  \n",
      "2018-01-03     False  False  False  \n",
      "2018-01-04      True   True   True  \n",
      "2018-01-05     False  False  False  \n"
     ]
    }
   ],
   "source": [
    "stex = vbt.STEX.run(entries, ts, [0.1, 0.1, -0.1, -0.1], trailing=[False, True, False, True])\n",
    "\n",
    "print(stex.exits)"
   ]
  },
  {
   "cell_type": "code",
   "execution_count": 62,
   "metadata": {},
   "outputs": [
    {
     "name": "stdout",
     "output_type": "stream",
     "text": [
      "53.1 ms ± 2.53 ms per loop (mean ± std. dev. of 7 runs, 1 loop each)\n",
      "494 ms ± 19.3 ms per loop (mean ± std. dev. of 7 runs, 1 loop each)\n"
     ]
    }
   ],
   "source": [
    "%timeit vbt.STEX.run(big_entries, big_ts, 0.1)\n",
    "%timeit vbt.STEX.run(big_entries, big_ts, np.full(10, 0.1).tolist())"
   ]
  },
  {
   "cell_type": "markdown",
   "metadata": {},
   "source": [
    "### ISTEX"
   ]
  },
  {
   "cell_type": "code",
   "execution_count": 63,
   "metadata": {},
   "outputs": [
    {
     "name": "stdout",
     "output_type": "stream",
     "text": [
      "istex_stop        0.1                                      -0.1                \\\n",
      "istex_trailing  False                True                 False                 \n",
      "                    a      b      c      a      b      c      a      b      c   \n",
      "2018-01-01       True   True   True   True   True   True   True   True   True   \n",
      "2018-01-02      False  False  False  False  False  False  False  False  False   \n",
      "2018-01-03      False   True   True  False   True   True  False  False  False   \n",
      "2018-01-04      False  False  False  False  False  False  False  False  False   \n",
      "2018-01-05      False  False  False  False  False  False  False  False  False   \n",
      "\n",
      "istex_stop                           \n",
      "istex_trailing  True                 \n",
      "                    a      b      c  \n",
      "2018-01-01       True   True   True  \n",
      "2018-01-02      False  False  False  \n",
      "2018-01-03      False  False  False  \n",
      "2018-01-04      False  False  False  \n",
      "2018-01-05      False   True  False  \n",
      "istex_stop        0.1                                      -0.1                \\\n",
      "istex_trailing  False                True                 False                 \n",
      "                    a      b      c      a      b      c      a      b      c   \n",
      "2018-01-01      False  False  False  False  False  False  False  False  False   \n",
      "2018-01-02       True   True   True   True   True   True  False  False  False   \n",
      "2018-01-03      False  False  False  False  False  False  False  False  False   \n",
      "2018-01-04      False  False  False  False  False  False  False  False  False   \n",
      "2018-01-05      False  False  False  False  False  False  False  False  False   \n",
      "\n",
      "istex_stop                           \n",
      "istex_trailing  True                 \n",
      "                    a      b      c  \n",
      "2018-01-01      False  False  False  \n",
      "2018-01-02      False  False  False  \n",
      "2018-01-03      False  False  False  \n",
      "2018-01-04       True   True   True  \n",
      "2018-01-05      False  False  False  \n"
     ]
    }
   ],
   "source": [
    "istex = vbt.ISTEX.run(entries, ts, [0.1, 0.1, -0.1, -0.1], trailing=[False, True, False, True])\n",
    "\n",
    "print(istex.new_entries)\n",
    "print(istex.exits)"
   ]
  },
  {
   "cell_type": "code",
   "execution_count": 64,
   "metadata": {},
   "outputs": [
    {
     "name": "stdout",
     "output_type": "stream",
     "text": [
      "13.4 ms ± 632 µs per loop (mean ± std. dev. of 7 runs, 1 loop each)\n",
      "98 ms ± 274 µs per loop (mean ± std. dev. of 7 runs, 10 loops each)\n"
     ]
    }
   ],
   "source": [
    "%timeit vbt.ISTEX.run(big_entries, big_ts, 0.1)\n",
    "%timeit vbt.ISTEX.run(big_entries, big_ts, np.full(10, 0.1).tolist())"
   ]
  },
  {
   "cell_type": "markdown",
   "metadata": {},
   "source": [
    "### OHLCSTEX"
   ]
  },
  {
   "cell_type": "code",
   "execution_count": 65,
   "metadata": {},
   "outputs": [
    {
     "name": "stdout",
     "output_type": "stream",
     "text": [
      "ohlcstex_sl_stop    0.1              \n",
      "                      a      b      c\n",
      "2018-01-01        False  False  False\n",
      "2018-01-02        False  False  False\n",
      "2018-01-03        False  False  False\n",
      "2018-01-04        False   True   True\n",
      "2018-01-05         True  False  False\n",
      "ohlcstex_sl_stop  0.1            \n",
      "                    a     b     c\n",
      "2018-01-01        NaN   NaN   NaN\n",
      "2018-01-02        NaN   NaN   NaN\n",
      "2018-01-03        NaN   NaN   NaN\n",
      "2018-01-04        NaN  10.8  10.8\n",
      "2018-01-05        9.0   NaN   NaN\n",
      "ohlcstex_sl_stop       0.1                    \n",
      "                         a         b         c\n",
      "2018-01-01                                    \n",
      "2018-01-02                                    \n",
      "2018-01-03                                    \n",
      "2018-01-04                  StopLoss  StopLoss\n",
      "2018-01-05        StopLoss                    \n"
     ]
    },
    {
     "data": {
      "image/png": "[encoded data removed]"
     },
     "metadata": {},
     "output_type": "display_data"
    }
   ],
   "source": [
    "ohlcstex = vbt.OHLCSTEX.run(\n",
    "    entries, price['open'], price['high'], price['low'], price['close'], \n",
    "    sl_stop=0.1\n",
    ")\n",
    "\n",
    "print(ohlcstex.exits)\n",
    "print(ohlcstex.hit_price)\n",
    "print(ohlcstex.stop_type_readable)\n",
    "ohlcstex[(0.1, 'b')].plot().show_png()"
   ]
  },
  {
   "cell_type": "code",
   "execution_count": 66,
   "metadata": {},
   "outputs": [
    {
     "name": "stdout",
     "output_type": "stream",
     "text": [
      "ohlcstex_sl_stop    0.1                  0.0                              \\\n",
      "ohlcstex_ts_stop    0.0                  0.1                  0.0          \n",
      "ohlcstex_tp_stop    0.0                  0.0                  0.1          \n",
      "                      a      b      c      a      b      c      a      b   \n",
      "2018-01-01        False  False  False  False  False  False  False  False   \n",
      "2018-01-02        False  False  False  False  False  False   True   True   \n",
      "2018-01-03        False  False  False  False  False  False  False  False   \n",
      "2018-01-04        False   True   True   True   True   True  False  False   \n",
      "2018-01-05         True  False  False  False  False  False  False  False   \n",
      "\n",
      "ohlcstex_sl_stop         \n",
      "ohlcstex_ts_stop         \n",
      "ohlcstex_tp_stop         \n",
      "                      c  \n",
      "2018-01-01        False  \n",
      "2018-01-02        False  \n",
      "2018-01-03        False  \n",
      "2018-01-04        False  \n",
      "2018-01-05        False  \n",
      "ohlcstex_sl_stop  0.1               0.0                            \n",
      "ohlcstex_ts_stop  0.0               0.1               0.0          \n",
      "ohlcstex_tp_stop  0.0               0.0               0.1          \n",
      "                    a     b     c     a     b     c     a     b   c\n",
      "2018-01-01        NaN   NaN   NaN   NaN   NaN   NaN   NaN   NaN NaN\n",
      "2018-01-02        NaN   NaN   NaN   NaN   NaN   NaN  11.0  11.0 NaN\n",
      "2018-01-03        NaN   NaN   NaN   NaN   NaN   NaN   NaN   NaN NaN\n",
      "2018-01-04        NaN  10.8  10.8  11.7  10.8  10.8   NaN   NaN NaN\n",
      "2018-01-05        9.0   NaN   NaN   NaN   NaN   NaN   NaN   NaN NaN\n",
      "ohlcstex_sl_stop       0.1                            0.0             \\\n",
      "ohlcstex_ts_stop       0.0                            0.1              \n",
      "ohlcstex_tp_stop       0.0                            0.0              \n",
      "                         a         b         c          a          b   \n",
      "2018-01-01                                                             \n",
      "2018-01-02                                                             \n",
      "2018-01-03                                                             \n",
      "2018-01-04                  StopLoss  StopLoss  TrailStop  TrailStop   \n",
      "2018-01-05        StopLoss                                             \n",
      "\n",
      "ohlcstex_sl_stop                                       \n",
      "ohlcstex_ts_stop                    0.0                \n",
      "ohlcstex_tp_stop                    0.1                \n",
      "                          c           a           b c  \n",
      "2018-01-01                                             \n",
      "2018-01-02                   TakeProfit  TakeProfit    \n",
      "2018-01-03                                             \n",
      "2018-01-04        TrailStop                            \n",
      "2018-01-05                                             \n"
     ]
    }
   ],
   "source": [
    "ohlcstex = vbt.OHLCSTEX.run(\n",
    "    entries, price['open'], price['high'], price['low'], price['close'], \n",
    "    sl_stop=[0.1, 0., 0.], ts_stop=[0., 0.1, 0.], tp_stop=[0., 0., 0.1]\n",
    ")\n",
    "\n",
    "print(ohlcstex.exits)\n",
    "print(ohlcstex.hit_price)\n",
    "print(ohlcstex.stop_type_readable)"
   ]
  },
  {
   "cell_type": "code",
   "execution_count": 67,
   "metadata": {},
   "outputs": [
    {
     "name": "stdout",
     "output_type": "stream",
     "text": [
      "132 ms ± 4.36 ms per loop (mean ± std. dev. of 7 runs, 1 loop each)\n",
      "1.2 s ± 15.2 ms per loop (mean ± std. dev. of 7 runs, 1 loop each)\n"
     ]
    }
   ],
   "source": [
    "%timeit vbt.OHLCSTEX.run(\\\n",
    "    big_entries, big_ts, big_ts + 1, big_ts - 1, big_ts,\\\n",
    "    sl_stop=0.1, ts_stop=0.1, tp_stop=0.1)\n",
    "%timeit vbt.OHLCSTEX.run(\\\n",
    "    big_entries, big_ts, big_ts + 1, big_ts - 1, big_ts,\\\n",
    "    sl_stop=np.full(10, 0.1).tolist(), ts_stop=np.full(10, 0.1).tolist(), tp_stop=np.full(10, 0.1).tolist())"
   ]
  },
  {
   "cell_type": "markdown",
   "metadata": {},
   "source": [
    "### IOHLCSTEX"
   ]
  },
  {
   "cell_type": "code",
   "execution_count": 68,
   "metadata": {},
   "outputs": [
    {
     "name": "stdout",
     "output_type": "stream",
     "text": [
      "iohlcstex_sl_stop    0.1              \n",
      "                       a      b      c\n",
      "2018-01-01          True   True   True\n",
      "2018-01-02         False  False  False\n",
      "2018-01-03         False  False  False\n",
      "2018-01-04         False  False  False\n",
      "2018-01-05         False  False  False\n",
      "iohlcstex_sl_stop    0.1              \n",
      "                       a      b      c\n",
      "2018-01-01         False  False  False\n",
      "2018-01-02         False  False  False\n",
      "2018-01-03         False  False  False\n",
      "2018-01-04         False  False  False\n",
      "2018-01-05          True   True   True\n",
      "iohlcstex_sl_stop  0.1          \n",
      "                     a    b    c\n",
      "2018-01-01         NaN  NaN  NaN\n",
      "2018-01-02         NaN  NaN  NaN\n",
      "2018-01-03         NaN  NaN  NaN\n",
      "2018-01-04         NaN  NaN  NaN\n",
      "2018-01-05         9.0  9.0  9.0\n",
      "iohlcstex_sl_stop       0.1                    \n",
      "                          a         b         c\n",
      "2018-01-01                                     \n",
      "2018-01-02                                     \n",
      "2018-01-03                                     \n",
      "2018-01-04                                     \n",
      "2018-01-05         StopLoss  StopLoss  StopLoss\n"
     ]
    },
    {
     "data": {
      "image/png": "[encoded data removed]"
     },
     "metadata": {},
     "output_type": "display_data"
    }
   ],
   "source": [
    "iohlcstex = vbt.IOHLCSTEX.run(\n",
    "    entries, price['open'], price['high'], price['low'], price['close'], \n",
    "    sl_stop=0.1\n",
    ")\n",
    "\n",
    "print(iohlcstex.new_entries)\n",
    "print(iohlcstex.exits)\n",
    "print(iohlcstex.hit_price)\n",
    "print(iohlcstex.stop_type_readable)\n",
    "iohlcstex[(0.1, 'b')].plot().show_png()"
   ]
  },
  {
   "cell_type": "code",
   "execution_count": 69,
   "metadata": {},
   "outputs": [
    {
     "name": "stdout",
     "output_type": "stream",
     "text": [
      "117 ms ± 4.19 ms per loop (mean ± std. dev. of 7 runs, 1 loop each)\n",
      "1.23 s ± 192 ms per loop (mean ± std. dev. of 7 runs, 1 loop each)\n"
     ]
    }
   ],
   "source": [
    "%timeit vbt.IOHLCSTEX.run(\\\n",
    "    big_entries, big_ts, big_ts + 1, big_ts - 1, big_ts,\\\n",
    "    sl_stop=0.1, ts_stop=0.1, tp_stop=0.1)\n",
    "%timeit vbt.IOHLCSTEX.run(\\\n",
    "    big_entries, big_ts, big_ts + 1, big_ts - 1, big_ts,\\\n",
    "    sl_stop=np.full(10, 0.1).tolist(), ts_stop=np.full(10, 0.1).tolist(), tp_stop=np.full(10, 0.1).tolist())"
   ]
  },
  {
   "cell_type": "code",
   "execution_count": null,
   "metadata": {},
   "outputs": [],
   "source": []
  }
 ],
 "metadata": {
  "kernelspec": {
   "display_name": "Python 3",
   "language": "python",
   "name": "python3"
  },
  "language_info": {
   "codemirror_mode": {
    "name": "ipython",
    "version": 3
   },
   "file_extension": ".py",
   "mimetype": "text/x-python",
   "name": "python",
   "nbconvert_exporter": "python",
   "pygments_lexer": "ipython3",
   "version": "3.7.3"
  },
  "widgets": {
   "application/vnd.jupyter.widget-state+json": {
    "state": {
     "098f62fea95b404aa6313fd55e26f84d": {
      "buffers": [
       {
        "data": "AAAAAAAA8D8AAAAAAAD4fwAAAAAAAPA/AAAAAAAA+H8AAAAAAADwPw==",
        "encoding": "base64",
        "path": [
         "_data",
         0,
         "y",
         "value"
        ]
       },
       {
        "data": "AAAAAAAA+H8AAAAAAADwPwAAAAAAAPh/AAAAAAAA8D8AAAAAAAD4fw==",
        "encoding": "base64",
        "path": [
         "_data",
         1,
         "y",
         "value"
        ]
       }
      ],
      "model_module": "plotlywidget",
      "model_module_version": "^4.12.0",
      "model_name": "FigureModel",
      "state": {
       "_config": {
        "plotlyServerURL": "https://plot.ly"
       },
       "_data": [
        {
         "marker": {
          "color": "#37B13F",
          "line": {
           "color": "rgb(38,123,44)",
           "width": 1
          },
          "size": 8,
          "symbol": "triangle-up"
         },
         "mode": "markers",
         "name": "Entry",
         "showlegend": true,
         "type": "scatter",
         "uid": "34e1fdef-e576-4896-b883-a60f192224fd",
         "x": [
          0,
          1,
          2,
          3,
          4
         ],
         "y": {
          "dtype": "float64",
          "shape": [
           5
          ],
          "value": {}
         }
        },
        {
         "marker": {
          "color": "#EA4335",
          "line": {
           "color": "rgb(181,31,18)",
           "width": 1
          },
          "size": 8,
          "symbol": "triangle-down"
         },
         "mode": "markers",
         "name": "Exit",
         "showlegend": true,
         "type": "scatter",
         "uid": "d026718b-7795-4af3-9926-76f02973a9bc",
         "x": [
          0,
          1,
          2,
          3,
          4
         ],
         "y": {
          "dtype": "float64",
          "shape": [
           5
          ],
          "value": {}
         }
        }
       ],
       "_js2py_layoutDelta": {},
       "_js2py_pointsCallback": {},
       "_js2py_relayout": {},
       "_js2py_restyle": {},
       "_js2py_traceDeltas": {},
       "_js2py_update": {},
       "_last_layout_edit_id": 4,
       "_last_trace_edit_id": 4,
       "_layout": {
        "autosize": false,
        "colorway": [
         "#1f77b4",
         "#ff7f0e",
         "#2ca02c",
         "#dc3912",
         "#9467bd",
         "#8c564b",
         "#e377c2",
         "#7f7f7f",
         "#bcbd22",
         "#17becf"
        ],
        "height": 350,
        "hovermode": "closest",
        "legend": {
         "orientation": "h",
         "traceorder": "normal",
         "x": 1,
         "xanchor": "right",
         "y": 1.02,
         "yanchor": "bottom"
        },
        "margin": {
         "b": 30,
         "l": 30,
         "r": 30,
         "t": 30
        },
        "template": {
         "data": {
          "bar": [
           {
            "error_x": {
             "color": "#2a3f5f"
            },
            "error_y": {
             "color": "#2a3f5f"
            },
            "marker": {
             "line": {
              "color": "#E5ECF6",
              "width": 0.5
             }
            },
            "type": "bar"
           }
          ],
          "barpolar": [
           {
            "marker": {
             "line": {
              "color": "#E5ECF6",
              "width": 0.5
             }
            },
            "type": "barpolar"
           }
          ],
          "carpet": [
           {
            "aaxis": {
             "endlinecolor": "#2a3f5f",
             "gridcolor": "white",
             "linecolor": "white",
             "minorgridcolor": "white",
             "startlinecolor": "#2a3f5f"
            },
            "baxis": {
             "endlinecolor": "#2a3f5f",
             "gridcolor": "white",
             "linecolor": "white",
             "minorgridcolor": "white",
             "startlinecolor": "#2a3f5f"
            },
            "type": "carpet"
           }
          ],
          "choropleth": [
           {
            "colorbar": {
             "outlinewidth": 0,
             "ticks": ""
            },
            "type": "choropleth"
           }
          ],
          "contour": [
           {
            "colorbar": {
             "outlinewidth": 0,
             "ticks": ""
            },
            "colorscale": [
             [
              0,
              "#0d0887"
             ],
             [
              0.1111111111111111,
              "#46039f"
             ],
             [
              0.2222222222222222,
              "#7201a8"
             ],
             [
              0.3333333333333333,
              "#9c179e"
             ],
             [
              0.4444444444444444,
              "#bd3786"
             ],
             [
              0.5555555555555556,
              "#d8576b"
             ],
             [
              0.6666666666666666,
              "#ed7953"
             ],
             [
              0.7777777777777778,
              "#fb9f3a"
             ],
             [
              0.8888888888888888,
              "#fdca26"
             ],
             [
              1,
              "#f0f921"
             ]
            ],
            "type": "contour"
           }
          ],
          "contourcarpet": [
           {
            "colorbar": {
             "outlinewidth": 0,
             "ticks": ""
            },
            "type": "contourcarpet"
           }
          ],
          "heatmap": [
           {
            "colorbar": {
             "outlinewidth": 0,
             "ticks": ""
            },
            "colorscale": [
             [
              0,
              "#0d0887"
             ],
             [
              0.1111111111111111,
              "#46039f"
             ],
             [
              0.2222222222222222,
              "#7201a8"
             ],
             [
              0.3333333333333333,
              "#9c179e"
             ],
             [
              0.4444444444444444,
              "#bd3786"
             ],
             [
              0.5555555555555556,
              "#d8576b"
             ],
             [
              0.6666666666666666,
              "#ed7953"
             ],
             [
              0.7777777777777778,
              "#fb9f3a"
             ],
             [
              0.8888888888888888,
              "#fdca26"
             ],
             [
              1,
              "#f0f921"
             ]
            ],
            "type": "heatmap"
           }
          ],
          "heatmapgl": [
           {
            "colorbar": {
             "outlinewidth": 0,
             "ticks": ""
            },
            "colorscale": [
             [
              0,
              "#0d0887"
             ],
             [
              0.1111111111111111,
              "#46039f"
             ],
             [
              0.2222222222222222,
              "#7201a8"
             ],
             [
              0.3333333333333333,
              "#9c179e"
             ],
             [
              0.4444444444444444,
              "#bd3786"
             ],
             [
              0.5555555555555556,
              "#d8576b"
             ],
             [
              0.6666666666666666,
              "#ed7953"
             ],
             [
              0.7777777777777778,
              "#fb9f3a"
             ],
             [
              0.8888888888888888,
              "#fdca26"
             ],
             [
              1,
              "#f0f921"
             ]
            ],
            "type": "heatmapgl"
           }
          ],
          "histogram": [
           {
            "marker": {
             "colorbar": {
              "outlinewidth": 0,
              "ticks": ""
             }
            },
            "type": "histogram"
           }
          ],
          "histogram2d": [
           {
            "colorbar": {
             "outlinewidth": 0,
             "ticks": ""
            },
            "colorscale": [
             [
              0,
              "#0d0887"
             ],
             [
              0.1111111111111111,
              "#46039f"
             ],
             [
              0.2222222222222222,
              "#7201a8"
             ],
             [
              0.3333333333333333,
              "#9c179e"
             ],
             [
              0.4444444444444444,
              "#bd3786"
             ],
             [
              0.5555555555555556,
              "#d8576b"
             ],
             [
              0.6666666666666666,
              "#ed7953"
             ],
             [
              0.7777777777777778,
              "#fb9f3a"
             ],
             [
              0.8888888888888888,
              "#fdca26"
             ],
             [
              1,
              "#f0f921"
             ]
            ],
            "type": "histogram2d"
           }
          ],
          "histogram2dcontour": [
           {
            "colorbar": {
             "outlinewidth": 0,
             "ticks": ""
            },
            "colorscale": [
             [
              0,
              "#0d0887"
             ],
             [
              0.1111111111111111,
              "#46039f"
             ],
             [
              0.2222222222222222,
              "#7201a8"
             ],
             [
              0.3333333333333333,
              "#9c179e"
             ],
             [
              0.4444444444444444,
              "#bd3786"
             ],
             [
              0.5555555555555556,
              "#d8576b"
             ],
             [
              0.6666666666666666,
              "#ed7953"
             ],
             [
              0.7777777777777778,
              "#fb9f3a"
             ],
             [
              0.8888888888888888,
              "#fdca26"
             ],
             [
              1,
              "#f0f921"
             ]
            ],
            "type": "histogram2dcontour"
           }
          ],
          "mesh3d": [
           {
            "colorbar": {
             "outlinewidth": 0,
             "ticks": ""
            },
            "type": "mesh3d"
           }
          ],
          "parcoords": [
           {
            "line": {
             "colorbar": {
              "outlinewidth": 0,
              "ticks": ""
             }
            },
            "type": "parcoords"
           }
          ],
          "pie": [
           {
            "automargin": true,
            "type": "pie"
           }
          ],
          "scatter": [
           {
            "marker": {
             "colorbar": {
              "outlinewidth": 0,
              "ticks": ""
             }
            },
            "type": "scatter"
           }
          ],
          "scatter3d": [
           {
            "line": {
             "colorbar": {
              "outlinewidth": 0,
              "ticks": ""
             }
            },
            "marker": {
             "colorbar": {
              "outlinewidth": 0,
              "ticks": ""
             }
            },
            "type": "scatter3d"
           }
          ],
          "scattercarpet": [
           {
            "marker": {
             "colorbar": {
              "outlinewidth": 0,
              "ticks": ""
             }
            },
            "type": "scattercarpet"
           }
          ],
          "scattergeo": [
           {
            "marker": {
             "colorbar": {
              "outlinewidth": 0,
              "ticks": ""
             }
            },
            "type": "scattergeo"
           }
          ],
          "scattergl": [
           {
            "marker": {
             "colorbar": {
              "outlinewidth": 0,
              "ticks": ""
             }
            },
            "type": "scattergl"
           }
          ],
          "scattermapbox": [
           {
            "marker": {
             "colorbar": {
              "outlinewidth": 0,
              "ticks": ""
             }
            },
            "type": "scattermapbox"
           }
          ],
          "scatterpolar": [
           {
            "marker": {
             "colorbar": {
              "outlinewidth": 0,
              "ticks": ""
             }
            },
            "type": "scatterpolar"
           }
          ],
          "scatterpolargl": [
           {
            "marker": {
             "colorbar": {
              "outlinewidth": 0,
              "ticks": ""
             }
            },
            "type": "scatterpolargl"
           }
          ],
          "scatterternary": [
           {
            "marker": {
             "colorbar": {
              "outlinewidth": 0,
              "ticks": ""
             }
            },
            "type": "scatterternary"
           }
          ],
          "surface": [
           {
            "colorbar": {
             "outlinewidth": 0,
             "ticks": ""
            },
            "colorscale": [
             [
              0,
              "#0d0887"
             ],
             [
              0.1111111111111111,
              "#46039f"
             ],
             [
              0.2222222222222222,
              "#7201a8"
             ],
             [
              0.3333333333333333,
              "#9c179e"
             ],
             [
              0.4444444444444444,
              "#bd3786"
             ],
             [
              0.5555555555555556,
              "#d8576b"
             ],
             [
              0.6666666666666666,
              "#ed7953"
             ],
             [
              0.7777777777777778,
              "#fb9f3a"
             ],
             [
              0.8888888888888888,
              "#fdca26"
             ],
             [
              1,
              "#f0f921"
             ]
            ],
            "type": "surface"
           }
          ],
          "table": [
           {
            "cells": {
             "fill": {
              "color": "#EBF0F8"
             },
             "line": {
              "color": "white"
             }
            },
            "header": {
             "fill": {
              "color": "#C8D4E3"
             },
             "line": {
              "color": "white"
             }
            },
            "type": "table"
           }
          ]
         },
         "layout": {
          "annotationdefaults": {
           "arrowcolor": "#2a3f5f",
           "arrowhead": 0,
           "arrowwidth": 1
          },
          "coloraxis": {
           "colorbar": {
            "outlinewidth": 0,
            "ticks": ""
           }
          },
          "colorscale": {
           "diverging": [
            [
             0,
             "#8e0152"
            ],
            [
             0.1,
             "#c51b7d"
            ],
            [
             0.2,
             "#de77ae"
            ],
            [
             0.3,
             "#f1b6da"
            ],
            [
             0.4,
             "#fde0ef"
            ],
            [
             0.5,
             "#f7f7f7"
            ],
            [
             0.6,
             "#e6f5d0"
            ],
            [
             0.7,
             "#b8e186"
            ],
            [
             0.8,
             "#7fbc41"
            ],
            [
             0.9,
             "#4d9221"
            ],
            [
             1,
             "#276419"
            ]
           ],
           "sequential": [
            [
             0,
             "#0d0887"
            ],
            [
             0.1111111111111111,
             "#46039f"
            ],
            [
             0.2222222222222222,
             "#7201a8"
            ],
            [
             0.3333333333333333,
             "#9c179e"
            ],
            [
             0.4444444444444444,
             "#bd3786"
            ],
            [
             0.5555555555555556,
             "#d8576b"
            ],
            [
             0.6666666666666666,
             "#ed7953"
            ],
            [
             0.7777777777777778,
             "#fb9f3a"
            ],
            [
             0.8888888888888888,
             "#fdca26"
            ],
            [
             1,
             "#f0f921"
            ]
           ],
           "sequentialminus": [
            [
             0,
             "#0d0887"
            ],
            [
             0.1111111111111111,
             "#46039f"
            ],
            [
             0.2222222222222222,
             "#7201a8"
            ],
            [
             0.3333333333333333,
             "#9c179e"
            ],
            [
             0.4444444444444444,
             "#bd3786"
            ],
            [
             0.5555555555555556,
             "#d8576b"
            ],
            [
             0.6666666666666666,
             "#ed7953"
            ],
            [
             0.7777777777777778,
             "#fb9f3a"
            ],
            [
             0.8888888888888888,
             "#fdca26"
            ],
            [
             1,
             "#f0f921"
            ]
           ]
          },
          "colorway": [
           "#636efa",
           "#EF553B",
           "#00cc96",
           "#ab63fa",
           "#FFA15A",
           "#19d3f3",
           "#FF6692",
           "#B6E880",
           "#FF97FF",
           "#FECB52"
          ],
          "font": {
           "color": "#2a3f5f"
          },
          "geo": {
           "bgcolor": "white",
           "lakecolor": "white",
           "landcolor": "#E5ECF6",
           "showlakes": true,
           "showland": true,
           "subunitcolor": "white"
          },
          "hoverlabel": {
           "align": "left"
          },
          "hovermode": "closest",
          "mapbox": {
           "style": "light"
          },
          "paper_bgcolor": "white",
          "plot_bgcolor": "#E5ECF6",
          "polar": {
           "angularaxis": {
            "gridcolor": "white",
            "linecolor": "white",
            "ticks": ""
           },
           "bgcolor": "#E5ECF6",
           "radialaxis": {
            "gridcolor": "white",
            "linecolor": "white",
            "ticks": ""
           }
          },
          "scene": {
           "xaxis": {
            "backgroundcolor": "#E5ECF6",
            "gridcolor": "white",
            "gridwidth": 2,
            "linecolor": "white",
            "showbackground": true,
            "ticks": "",
            "zerolinecolor": "white"
           },
           "yaxis": {
            "backgroundcolor": "#E5ECF6",
            "gridcolor": "white",
            "gridwidth": 2,
            "linecolor": "white",
            "showbackground": true,
            "ticks": "",
            "zerolinecolor": "white"
           },
           "zaxis": {
            "backgroundcolor": "#E5ECF6",
            "gridcolor": "white",
            "gridwidth": 2,
            "linecolor": "white",
            "showbackground": true,
            "ticks": "",
            "zerolinecolor": "white"
           }
          },
          "shapedefaults": {
           "line": {
            "color": "#2a3f5f"
           }
          },
          "ternary": {
           "aaxis": {
            "gridcolor": "white",
            "linecolor": "white",
            "ticks": ""
           },
           "baxis": {
            "gridcolor": "white",
            "linecolor": "white",
            "ticks": ""
           },
           "bgcolor": "#E5ECF6",
           "caxis": {
            "gridcolor": "white",
            "linecolor": "white",
            "ticks": ""
           }
          },
          "title": {
           "x": 0.05
          },
          "xaxis": {
           "automargin": true,
           "gridcolor": "white",
           "linecolor": "white",
           "ticks": "",
           "title": {
            "standoff": 15
           },
           "zerolinecolor": "white",
           "zerolinewidth": 2
          },
          "yaxis": {
           "automargin": true,
           "gridcolor": "white",
           "linecolor": "white",
           "ticks": "",
           "title": {
            "standoff": 15
           },
           "zerolinecolor": "white",
           "zerolinewidth": 2
          }
         }
        },
        "width": 700
       },
       "_py2js_animate": {},
       "_py2js_deleteTraces": {},
       "_py2js_moveTraces": {},
       "_py2js_removeLayoutProps": {},
       "_py2js_removeTraceProps": {},
       "_py2js_restyle": {},
       "_view_count": 0
      }
     },
     "53a3b68b2d9040289dda3ac2f353f20c": {
      "buffers": [
       {
        "data": "AAAAAAAA8D8AAAAAAAD4fwAAAAAAAPA/AAAAAAAA+H8AAAAAAADwPw==",
        "encoding": "base64",
        "path": [
         "_data",
         0,
         "y",
         "value"
        ]
       },
       {
        "data": "AAAAAAAA+H8AAAAAAADwPwAAAAAAAPh/AAAAAAAA8D8AAAAAAAD4fw==",
        "encoding": "base64",
        "path": [
         "_data",
         1,
         "y",
         "value"
        ]
       }
      ],
      "model_module": "plotlywidget",
      "model_module_version": "^4.12.0",
      "model_name": "FigureModel",
      "state": {
       "_config": {
        "plotlyServerURL": "https://plot.ly"
       },
       "_data": [
        {
         "marker": {
          "color": "#37B13F",
          "line": {
           "color": "rgb(38,123,44)",
           "width": 1
          },
          "size": 8,
          "symbol": "triangle-up"
         },
         "mode": "markers",
         "name": "Entry",
         "showlegend": true,
         "type": "scatter",
         "uid": "01ccccdc-c5a0-4314-a26a-28f5647c62dc",
         "x": [
          0,
          1,
          2,
          3,
          4
         ],
         "y": {
          "dtype": "float64",
          "shape": [
           5
          ],
          "value": {}
         }
        },
        {
         "marker": {
          "color": "#EA4335",
          "line": {
           "color": "rgb(181,31,18)",
           "width": 1
          },
          "size": 8,
          "symbol": "triangle-down"
         },
         "mode": "markers",
         "name": "Exit",
         "showlegend": true,
         "type": "scatter",
         "uid": "db6ef3a7-f0e6-4b42-8195-f002b62d2c8b",
         "x": [
          0,
          1,
          2,
          3,
          4
         ],
         "y": {
          "dtype": "float64",
          "shape": [
           5
          ],
          "value": {}
         }
        }
       ],
       "_js2py_layoutDelta": {},
       "_js2py_pointsCallback": {},
       "_js2py_relayout": {},
       "_js2py_restyle": {},
       "_js2py_traceDeltas": {},
       "_js2py_update": {},
       "_last_layout_edit_id": 4,
       "_last_trace_edit_id": 4,
       "_layout": {
        "autosize": false,
        "colorway": [
         "#1f77b4",
         "#ff7f0e",
         "#2ca02c",
         "#dc3912",
         "#9467bd",
         "#8c564b",
         "#e377c2",
         "#7f7f7f",
         "#bcbd22",
         "#17becf"
        ],
        "height": 350,
        "hovermode": "closest",
        "legend": {
         "orientation": "h",
         "traceorder": "normal",
         "x": 1,
         "xanchor": "right",
         "y": 1.02,
         "yanchor": "bottom"
        },
        "margin": {
         "b": 30,
         "l": 30,
         "r": 30,
         "t": 30
        },
        "template": {
         "data": {
          "bar": [
           {
            "error_x": {
             "color": "#2a3f5f"
            },
            "error_y": {
             "color": "#2a3f5f"
            },
            "marker": {
             "line": {
              "color": "#E5ECF6",
              "width": 0.5
             }
            },
            "type": "bar"
           }
          ],
          "barpolar": [
           {
            "marker": {
             "line": {
              "color": "#E5ECF6",
              "width": 0.5
             }
            },
            "type": "barpolar"
           }
          ],
          "carpet": [
           {
            "aaxis": {
             "endlinecolor": "#2a3f5f",
             "gridcolor": "white",
             "linecolor": "white",
             "minorgridcolor": "white",
             "startlinecolor": "#2a3f5f"
            },
            "baxis": {
             "endlinecolor": "#2a3f5f",
             "gridcolor": "white",
             "linecolor": "white",
             "minorgridcolor": "white",
             "startlinecolor": "#2a3f5f"
            },
            "type": "carpet"
           }
          ],
          "choropleth": [
           {
            "colorbar": {
             "outlinewidth": 0,
             "ticks": ""
            },
            "type": "choropleth"
           }
          ],
          "contour": [
           {
            "colorbar": {
             "outlinewidth": 0,
             "ticks": ""
            },
            "colorscale": [
             [
              0,
              "#0d0887"
             ],
             [
              0.1111111111111111,
              "#46039f"
             ],
             [
              0.2222222222222222,
              "#7201a8"
             ],
             [
              0.3333333333333333,
              "#9c179e"
             ],
             [
              0.4444444444444444,
              "#bd3786"
             ],
             [
              0.5555555555555556,
              "#d8576b"
             ],
             [
              0.6666666666666666,
              "#ed7953"
             ],
             [
              0.7777777777777778,
              "#fb9f3a"
             ],
             [
              0.8888888888888888,
              "#fdca26"
             ],
             [
              1,
              "#f0f921"
             ]
            ],
            "type": "contour"
           }
          ],
          "contourcarpet": [
           {
            "colorbar": {
             "outlinewidth": 0,
             "ticks": ""
            },
            "type": "contourcarpet"
           }
          ],
          "heatmap": [
           {
            "colorbar": {
             "outlinewidth": 0,
             "ticks": ""
            },
            "colorscale": [
             [
              0,
              "#0d0887"
             ],
             [
              0.1111111111111111,
              "#46039f"
             ],
             [
              0.2222222222222222,
              "#7201a8"
             ],
             [
              0.3333333333333333,
              "#9c179e"
             ],
             [
              0.4444444444444444,
              "#bd3786"
             ],
             [
              0.5555555555555556,
              "#d8576b"
             ],
             [
              0.6666666666666666,
              "#ed7953"
             ],
             [
              0.7777777777777778,
              "#fb9f3a"
             ],
             [
              0.8888888888888888,
              "#fdca26"
             ],
             [
              1,
              "#f0f921"
             ]
            ],
            "type": "heatmap"
           }
          ],
          "heatmapgl": [
           {
            "colorbar": {
             "outlinewidth": 0,
             "ticks": ""
            },
            "colorscale": [
             [
              0,
              "#0d0887"
             ],
             [
              0.1111111111111111,
              "#46039f"
             ],
             [
              0.2222222222222222,
              "#7201a8"
             ],
             [
              0.3333333333333333,
              "#9c179e"
             ],
             [
              0.4444444444444444,
              "#bd3786"
             ],
             [
              0.5555555555555556,
              "#d8576b"
             ],
             [
              0.6666666666666666,
              "#ed7953"
             ],
             [
              0.7777777777777778,
              "#fb9f3a"
             ],
             [
              0.8888888888888888,
              "#fdca26"
             ],
             [
              1,
              "#f0f921"
             ]
            ],
            "type": "heatmapgl"
           }
          ],
          "histogram": [
           {
            "marker": {
             "colorbar": {
              "outlinewidth": 0,
              "ticks": ""
             }
            },
            "type": "histogram"
           }
          ],
          "histogram2d": [
           {
            "colorbar": {
             "outlinewidth": 0,
             "ticks": ""
            },
            "colorscale": [
             [
              0,
              "#0d0887"
             ],
             [
              0.1111111111111111,
              "#46039f"
             ],
             [
              0.2222222222222222,
              "#7201a8"
             ],
             [
              0.3333333333333333,
              "#9c179e"
             ],
             [
              0.4444444444444444,
              "#bd3786"
             ],
             [
              0.5555555555555556,
              "#d8576b"
             ],
             [
              0.6666666666666666,
              "#ed7953"
             ],
             [
              0.7777777777777778,
              "#fb9f3a"
             ],
             [
              0.8888888888888888,
              "#fdca26"
             ],
             [
              1,
              "#f0f921"
             ]
            ],
            "type": "histogram2d"
           }
          ],
          "histogram2dcontour": [
           {
            "colorbar": {
             "outlinewidth": 0,
             "ticks": ""
            },
            "colorscale": [
             [
              0,
              "#0d0887"
             ],
             [
              0.1111111111111111,
              "#46039f"
             ],
             [
              0.2222222222222222,
              "#7201a8"
             ],
             [
              0.3333333333333333,
              "#9c179e"
             ],
             [
              0.4444444444444444,
              "#bd3786"
             ],
             [
              0.5555555555555556,
              "#d8576b"
             ],
             [
              0.6666666666666666,
              "#ed7953"
             ],
             [
              0.7777777777777778,
              "#fb9f3a"
             ],
             [
              0.8888888888888888,
              "#fdca26"
             ],
             [
              1,
              "#f0f921"
             ]
            ],
            "type": "histogram2dcontour"
           }
          ],
          "mesh3d": [
           {
            "colorbar": {
             "outlinewidth": 0,
             "ticks": ""
            },
            "type": "mesh3d"
           }
          ],
          "parcoords": [
           {
            "line": {
             "colorbar": {
              "outlinewidth": 0,
              "ticks": ""
             }
            },
            "type": "parcoords"
           }
          ],
          "pie": [
           {
            "automargin": true,
            "type": "pie"
           }
          ],
          "scatter": [
           {
            "marker": {
             "colorbar": {
              "outlinewidth": 0,
              "ticks": ""
             }
            },
            "type": "scatter"
           }
          ],
          "scatter3d": [
           {
            "line": {
             "colorbar": {
              "outlinewidth": 0,
              "ticks": ""
             }
            },
            "marker": {
             "colorbar": {
              "outlinewidth": 0,
              "ticks": ""
             }
            },
            "type": "scatter3d"
           }
          ],
          "scattercarpet": [
           {
            "marker": {
             "colorbar": {
              "outlinewidth": 0,
              "ticks": ""
             }
            },
            "type": "scattercarpet"
           }
          ],
          "scattergeo": [
           {
            "marker": {
             "colorbar": {
              "outlinewidth": 0,
              "ticks": ""
             }
            },
            "type": "scattergeo"
           }
          ],
          "scattergl": [
           {
            "marker": {
             "colorbar": {
              "outlinewidth": 0,
              "ticks": ""
             }
            },
            "type": "scattergl"
           }
          ],
          "scattermapbox": [
           {
            "marker": {
             "colorbar": {
              "outlinewidth": 0,
              "ticks": ""
             }
            },
            "type": "scattermapbox"
           }
          ],
          "scatterpolar": [
           {
            "marker": {
             "colorbar": {
              "outlinewidth": 0,
              "ticks": ""
             }
            },
            "type": "scatterpolar"
           }
          ],
          "scatterpolargl": [
           {
            "marker": {
             "colorbar": {
              "outlinewidth": 0,
              "ticks": ""
             }
            },
            "type": "scatterpolargl"
           }
          ],
          "scatterternary": [
           {
            "marker": {
             "colorbar": {
              "outlinewidth": 0,
              "ticks": ""
             }
            },
            "type": "scatterternary"
           }
          ],
          "surface": [
           {
            "colorbar": {
             "outlinewidth": 0,
             "ticks": ""
            },
            "colorscale": [
             [
              0,
              "#0d0887"
             ],
             [
              0.1111111111111111,
              "#46039f"
             ],
             [
              0.2222222222222222,
              "#7201a8"
             ],
             [
              0.3333333333333333,
              "#9c179e"
             ],
             [
              0.4444444444444444,
              "#bd3786"
             ],
             [
              0.5555555555555556,
              "#d8576b"
             ],
             [
              0.6666666666666666,
              "#ed7953"
             ],
             [
              0.7777777777777778,
              "#fb9f3a"
             ],
             [
              0.8888888888888888,
              "#fdca26"
             ],
             [
              1,
              "#f0f921"
             ]
            ],
            "type": "surface"
           }
          ],
          "table": [
           {
            "cells": {
             "fill": {
              "color": "#EBF0F8"
             },
             "line": {
              "color": "white"
             }
            },
            "header": {
             "fill": {
              "color": "#C8D4E3"
             },
             "line": {
              "color": "white"
             }
            },
            "type": "table"
           }
          ]
         },
         "layout": {
          "annotationdefaults": {
           "arrowcolor": "#2a3f5f",
           "arrowhead": 0,
           "arrowwidth": 1
          },
          "coloraxis": {
           "colorbar": {
            "outlinewidth": 0,
            "ticks": ""
           }
          },
          "colorscale": {
           "diverging": [
            [
             0,
             "#8e0152"
            ],
            [
             0.1,
             "#c51b7d"
            ],
            [
             0.2,
             "#de77ae"
            ],
            [
             0.3,
             "#f1b6da"
            ],
            [
             0.4,
             "#fde0ef"
            ],
            [
             0.5,
             "#f7f7f7"
            ],
            [
             0.6,
             "#e6f5d0"
            ],
            [
             0.7,
             "#b8e186"
            ],
            [
             0.8,
             "#7fbc41"
            ],
            [
             0.9,
             "#4d9221"
            ],
            [
             1,
             "#276419"
            ]
           ],
           "sequential": [
            [
             0,
             "#0d0887"
            ],
            [
             0.1111111111111111,
             "#46039f"
            ],
            [
             0.2222222222222222,
             "#7201a8"
            ],
            [
             0.3333333333333333,
             "#9c179e"
            ],
            [
             0.4444444444444444,
             "#bd3786"
            ],
            [
             0.5555555555555556,
             "#d8576b"
            ],
            [
             0.6666666666666666,
             "#ed7953"
            ],
            [
             0.7777777777777778,
             "#fb9f3a"
            ],
            [
             0.8888888888888888,
             "#fdca26"
            ],
            [
             1,
             "#f0f921"
            ]
           ],
           "sequentialminus": [
            [
             0,
             "#0d0887"
            ],
            [
             0.1111111111111111,
             "#46039f"
            ],
            [
             0.2222222222222222,
             "#7201a8"
            ],
            [
             0.3333333333333333,
             "#9c179e"
            ],
            [
             0.4444444444444444,
             "#bd3786"
            ],
            [
             0.5555555555555556,
             "#d8576b"
            ],
            [
             0.6666666666666666,
             "#ed7953"
            ],
            [
             0.7777777777777778,
             "#fb9f3a"
            ],
            [
             0.8888888888888888,
             "#fdca26"
            ],
            [
             1,
             "#f0f921"
            ]
           ]
          },
          "colorway": [
           "#636efa",
           "#EF553B",
           "#00cc96",
           "#ab63fa",
           "#FFA15A",
           "#19d3f3",
           "#FF6692",
           "#B6E880",
           "#FF97FF",
           "#FECB52"
          ],
          "font": {
           "color": "#2a3f5f"
          },
          "geo": {
           "bgcolor": "white",
           "lakecolor": "white",
           "landcolor": "#E5ECF6",
           "showlakes": true,
           "showland": true,
           "subunitcolor": "white"
          },
          "hoverlabel": {
           "align": "left"
          },
          "hovermode": "closest",
          "mapbox": {
           "style": "light"
          },
          "paper_bgcolor": "white",
          "plot_bgcolor": "#E5ECF6",
          "polar": {
           "angularaxis": {
            "gridcolor": "white",
            "linecolor": "white",
            "ticks": ""
           },
           "bgcolor": "#E5ECF6",
           "radialaxis": {
            "gridcolor": "white",
            "linecolor": "white",
            "ticks": ""
           }
          },
          "scene": {
           "xaxis": {
            "backgroundcolor": "#E5ECF6",
            "gridcolor": "white",
            "gridwidth": 2,
            "linecolor": "white",
            "showbackground": true,
            "ticks": "",
            "zerolinecolor": "white"
           },
           "yaxis": {
            "backgroundcolor": "#E5ECF6",
            "gridcolor": "white",
            "gridwidth": 2,
            "linecolor": "white",
            "showbackground": true,
            "ticks": "",
            "zerolinecolor": "white"
           },
           "zaxis": {
            "backgroundcolor": "#E5ECF6",
            "gridcolor": "white",
            "gridwidth": 2,
            "linecolor": "white",
            "showbackground": true,
            "ticks": "",
            "zerolinecolor": "white"
           }
          },
          "shapedefaults": {
           "line": {
            "color": "#2a3f5f"
           }
          },
          "ternary": {
           "aaxis": {
            "gridcolor": "white",
            "linecolor": "white",
            "ticks": ""
           },
           "baxis": {
            "gridcolor": "white",
            "linecolor": "white",
            "ticks": ""
           },
           "bgcolor": "#E5ECF6",
           "caxis": {
            "gridcolor": "white",
            "linecolor": "white",
            "ticks": ""
           }
          },
          "title": {
           "x": 0.05
          },
          "xaxis": {
           "automargin": true,
           "gridcolor": "white",
           "linecolor": "white",
           "ticks": "",
           "title": {
            "standoff": 15
           },
           "zerolinecolor": "white",
           "zerolinewidth": 2
          },
          "yaxis": {
           "automargin": true,
           "gridcolor": "white",
           "linecolor": "white",
           "ticks": "",
           "title": {
            "standoff": 15
           },
           "zerolinecolor": "white",
           "zerolinewidth": 2
          }
         }
        },
        "width": 700
       },
       "_py2js_animate": {},
       "_py2js_deleteTraces": {},
       "_py2js_moveTraces": {},
       "_py2js_removeLayoutProps": {},
       "_py2js_removeTraceProps": {},
       "_py2js_restyle": {},
       "_view_count": 0
      }
     },
     "7910588777404ccc8420d90babe91d94": {
      "buffers": [
       {
        "data": "AAAAAAAAJEAAAAAAAAD4fwAAAAAAAPh/AAAAAAAA+H8AAAAAAAD4fw==",
        "encoding": "base64",
        "path": [
         "_data",
         1,
         "y",
         "value"
        ]
       },
       {
        "data": "AAAAAAAA+H8AAAAAAAD4fwAAAAAAAPh/AAAAAAAA+H8AAAAAAAAiQA==",
        "encoding": "base64",
        "path": [
         "_data",
         2,
         "y",
         "value"
        ]
       }
      ],
      "model_module": "plotlywidget",
      "model_module_version": "^4.12.0",
      "model_name": "FigureModel",
      "state": {
       "_config": {
        "plotlyServerURL": "https://plot.ly"
       },
       "_data": [
        {
         "close": [
          10,
          11,
          12,
          11,
          10
         ],
         "decreasing": {
          "line": {
           "color": "#d95f02"
          }
         },
         "high": [
          11,
          12,
          13,
          12,
          11
         ],
         "increasing": {
          "line": {
           "color": "#1b9e76"
          }
         },
         "low": [
          9,
          10,
          11,
          10,
          9
         ],
         "name": "OHLC",
         "opacity": 0.7,
         "open": [
          10,
          11,
          12,
          11,
          10
         ],
         "type": "ohlc",
         "uid": "6eef3ca9-dcad-44ac-9a4e-4bdb30924d3a",
         "x": [
          "2018-01-01T00:00:00.000000",
          "2018-01-02T00:00:00.000000",
          "2018-01-03T00:00:00.000000",
          "2018-01-04T00:00:00.000000",
          "2018-01-05T00:00:00.000000"
         ]
        },
        {
         "marker": {
          "color": "#37B13F",
          "line": {
           "color": "rgb(38,123,44)",
           "width": 1
          },
          "size": 8,
          "symbol": "triangle-up"
         },
         "mode": "markers",
         "name": "Entry",
         "showlegend": true,
         "type": "scatter",
         "uid": "d767998c-600c-4079-a368-7b5a88cef13d",
         "x": [
          "2018-01-01T00:00:00.000000",
          "2018-01-02T00:00:00.000000",
          "2018-01-03T00:00:00.000000",
          "2018-01-04T00:00:00.000000",
          "2018-01-05T00:00:00.000000"
         ],
         "y": {
          "dtype": "float64",
          "shape": [
           5
          ],
          "value": {}
         }
        },
        {
         "customdata": [
          "",
          "",
          "",
          "",
          "StopLoss"
         ],
         "hovertemplate": "(%{x}, %{y})<br>Type: %{customdata}",
         "marker": {
          "color": "#EA4335",
          "line": {
           "color": "rgb(181,31,18)",
           "width": 1
          },
          "size": 8,
          "symbol": "triangle-down"
         },
         "mode": "markers",
         "name": "Exit",
         "showlegend": true,
         "type": "scatter",
         "uid": "575adf87-e540-4654-8ccc-16dd4b64fb12",
         "x": [
          "2018-01-01T00:00:00.000000",
          "2018-01-02T00:00:00.000000",
          "2018-01-03T00:00:00.000000",
          "2018-01-04T00:00:00.000000",
          "2018-01-05T00:00:00.000000"
         ],
         "y": {
          "dtype": "float64",
          "shape": [
           5
          ],
          "value": {}
         }
        }
       ],
       "_js2py_layoutDelta": {},
       "_js2py_pointsCallback": {},
       "_js2py_relayout": {},
       "_js2py_restyle": {},
       "_js2py_traceDeltas": {},
       "_js2py_update": {},
       "_last_layout_edit_id": 6,
       "_last_trace_edit_id": 6,
       "_layout": {
        "autosize": false,
        "colorway": [
         "#1f77b4",
         "#ff7f0e",
         "#2ca02c",
         "#dc3912",
         "#9467bd",
         "#8c564b",
         "#e377c2",
         "#7f7f7f",
         "#bcbd22",
         "#17becf"
        ],
        "height": 350,
        "hovermode": "closest",
        "legend": {
         "orientation": "h",
         "traceorder": "normal",
         "x": 1,
         "xanchor": "right",
         "y": 1.02,
         "yanchor": "bottom"
        },
        "margin": {
         "b": 30,
         "l": 30,
         "r": 30,
         "t": 30
        },
        "showlegend": true,
        "template": {
         "data": {
          "bar": [
           {
            "error_x": {
             "color": "#2a3f5f"
            },
            "error_y": {
             "color": "#2a3f5f"
            },
            "marker": {
             "line": {
              "color": "#E5ECF6",
              "width": 0.5
             }
            },
            "type": "bar"
           }
          ],
          "barpolar": [
           {
            "marker": {
             "line": {
              "color": "#E5ECF6",
              "width": 0.5
             }
            },
            "type": "barpolar"
           }
          ],
          "carpet": [
           {
            "aaxis": {
             "endlinecolor": "#2a3f5f",
             "gridcolor": "white",
             "linecolor": "white",
             "minorgridcolor": "white",
             "startlinecolor": "#2a3f5f"
            },
            "baxis": {
             "endlinecolor": "#2a3f5f",
             "gridcolor": "white",
             "linecolor": "white",
             "minorgridcolor": "white",
             "startlinecolor": "#2a3f5f"
            },
            "type": "carpet"
           }
          ],
          "choropleth": [
           {
            "colorbar": {
             "outlinewidth": 0,
             "ticks": ""
            },
            "type": "choropleth"
           }
          ],
          "contour": [
           {
            "colorbar": {
             "outlinewidth": 0,
             "ticks": ""
            },
            "colorscale": [
             [
              0,
              "#0d0887"
             ],
             [
              0.1111111111111111,
              "#46039f"
             ],
             [
              0.2222222222222222,
              "#7201a8"
             ],
             [
              0.3333333333333333,
              "#9c179e"
             ],
             [
              0.4444444444444444,
              "#bd3786"
             ],
             [
              0.5555555555555556,
              "#d8576b"
             ],
             [
              0.6666666666666666,
              "#ed7953"
             ],
             [
              0.7777777777777778,
              "#fb9f3a"
             ],
             [
              0.8888888888888888,
              "#fdca26"
             ],
             [
              1,
              "#f0f921"
             ]
            ],
            "type": "contour"
           }
          ],
          "contourcarpet": [
           {
            "colorbar": {
             "outlinewidth": 0,
             "ticks": ""
            },
            "type": "contourcarpet"
           }
          ],
          "heatmap": [
           {
            "colorbar": {
             "outlinewidth": 0,
             "ticks": ""
            },
            "colorscale": [
             [
              0,
              "#0d0887"
             ],
             [
              0.1111111111111111,
              "#46039f"
             ],
             [
              0.2222222222222222,
              "#7201a8"
             ],
             [
              0.3333333333333333,
              "#9c179e"
             ],
             [
              0.4444444444444444,
              "#bd3786"
             ],
             [
              0.5555555555555556,
              "#d8576b"
             ],
             [
              0.6666666666666666,
              "#ed7953"
             ],
             [
              0.7777777777777778,
              "#fb9f3a"
             ],
             [
              0.8888888888888888,
              "#fdca26"
             ],
             [
              1,
              "#f0f921"
             ]
            ],
            "type": "heatmap"
           }
          ],
          "heatmapgl": [
           {
            "colorbar": {
             "outlinewidth": 0,
             "ticks": ""
            },
            "colorscale": [
             [
              0,
              "#0d0887"
             ],
             [
              0.1111111111111111,
              "#46039f"
             ],
             [
              0.2222222222222222,
              "#7201a8"
             ],
             [
              0.3333333333333333,
              "#9c179e"
             ],
             [
              0.4444444444444444,
              "#bd3786"
             ],
             [
              0.5555555555555556,
              "#d8576b"
             ],
             [
              0.6666666666666666,
              "#ed7953"
             ],
             [
              0.7777777777777778,
              "#fb9f3a"
             ],
             [
              0.8888888888888888,
              "#fdca26"
             ],
             [
              1,
              "#f0f921"
             ]
            ],
            "type": "heatmapgl"
           }
          ],
          "histogram": [
           {
            "marker": {
             "colorbar": {
              "outlinewidth": 0,
              "ticks": ""
             }
            },
            "type": "histogram"
           }
          ],
          "histogram2d": [
           {
            "colorbar": {
             "outlinewidth": 0,
             "ticks": ""
            },
            "colorscale": [
             [
              0,
              "#0d0887"
             ],
             [
              0.1111111111111111,
              "#46039f"
             ],
             [
              0.2222222222222222,
              "#7201a8"
             ],
             [
              0.3333333333333333,
              "#9c179e"
             ],
             [
              0.4444444444444444,
              "#bd3786"
             ],
             [
              0.5555555555555556,
              "#d8576b"
             ],
             [
              0.6666666666666666,
              "#ed7953"
             ],
             [
              0.7777777777777778,
              "#fb9f3a"
             ],
             [
              0.8888888888888888,
              "#fdca26"
             ],
             [
              1,
              "#f0f921"
             ]
            ],
            "type": "histogram2d"
           }
          ],
          "histogram2dcontour": [
           {
            "colorbar": {
             "outlinewidth": 0,
             "ticks": ""
            },
            "colorscale": [
             [
              0,
              "#0d0887"
             ],
             [
              0.1111111111111111,
              "#46039f"
             ],
             [
              0.2222222222222222,
              "#7201a8"
             ],
             [
              0.3333333333333333,
              "#9c179e"
             ],
             [
              0.4444444444444444,
              "#bd3786"
             ],
             [
              0.5555555555555556,
              "#d8576b"
             ],
             [
              0.6666666666666666,
              "#ed7953"
             ],
             [
              0.7777777777777778,
              "#fb9f3a"
             ],
             [
              0.8888888888888888,
              "#fdca26"
             ],
             [
              1,
              "#f0f921"
             ]
            ],
            "type": "histogram2dcontour"
           }
          ],
          "mesh3d": [
           {
            "colorbar": {
             "outlinewidth": 0,
             "ticks": ""
            },
            "type": "mesh3d"
           }
          ],
          "parcoords": [
           {
            "line": {
             "colorbar": {
              "outlinewidth": 0,
              "ticks": ""
             }
            },
            "type": "parcoords"
           }
          ],
          "pie": [
           {
            "automargin": true,
            "type": "pie"
           }
          ],
          "scatter": [
           {
            "marker": {
             "colorbar": {
              "outlinewidth": 0,
              "ticks": ""
             }
            },
            "type": "scatter"
           }
          ],
          "scatter3d": [
           {
            "line": {
             "colorbar": {
              "outlinewidth": 0,
              "ticks": ""
             }
            },
            "marker": {
             "colorbar": {
              "outlinewidth": 0,
              "ticks": ""
             }
            },
            "type": "scatter3d"
           }
          ],
          "scattercarpet": [
           {
            "marker": {
             "colorbar": {
              "outlinewidth": 0,
              "ticks": ""
             }
            },
            "type": "scattercarpet"
           }
          ],
          "scattergeo": [
           {
            "marker": {
             "colorbar": {
              "outlinewidth": 0,
              "ticks": ""
             }
            },
            "type": "scattergeo"
           }
          ],
          "scattergl": [
           {
            "marker": {
             "colorbar": {
              "outlinewidth": 0,
              "ticks": ""
             }
            },
            "type": "scattergl"
           }
          ],
          "scattermapbox": [
           {
            "marker": {
             "colorbar": {
              "outlinewidth": 0,
              "ticks": ""
             }
            },
            "type": "scattermapbox"
           }
          ],
          "scatterpolar": [
           {
            "marker": {
             "colorbar": {
              "outlinewidth": 0,
              "ticks": ""
             }
            },
            "type": "scatterpolar"
           }
          ],
          "scatterpolargl": [
           {
            "marker": {
             "colorbar": {
              "outlinewidth": 0,
              "ticks": ""
             }
            },
            "type": "scatterpolargl"
           }
          ],
          "scatterternary": [
           {
            "marker": {
             "colorbar": {
              "outlinewidth": 0,
              "ticks": ""
             }
            },
            "type": "scatterternary"
           }
          ],
          "surface": [
           {
            "colorbar": {
             "outlinewidth": 0,
             "ticks": ""
            },
            "colorscale": [
             [
              0,
              "#0d0887"
             ],
             [
              0.1111111111111111,
              "#46039f"
             ],
             [
              0.2222222222222222,
              "#7201a8"
             ],
             [
              0.3333333333333333,
              "#9c179e"
             ],
             [
              0.4444444444444444,
              "#bd3786"
             ],
             [
              0.5555555555555556,
              "#d8576b"
             ],
             [
              0.6666666666666666,
              "#ed7953"
             ],
             [
              0.7777777777777778,
              "#fb9f3a"
             ],
             [
              0.8888888888888888,
              "#fdca26"
             ],
             [
              1,
              "#f0f921"
             ]
            ],
            "type": "surface"
           }
          ],
          "table": [
           {
            "cells": {
             "fill": {
              "color": "#EBF0F8"
             },
             "line": {
              "color": "white"
             }
            },
            "header": {
             "fill": {
              "color": "#C8D4E3"
             },
             "line": {
              "color": "white"
             }
            },
            "type": "table"
           }
          ]
         },
         "layout": {
          "annotationdefaults": {
           "arrowcolor": "#2a3f5f",
           "arrowhead": 0,
           "arrowwidth": 1
          },
          "coloraxis": {
           "colorbar": {
            "outlinewidth": 0,
            "ticks": ""
           }
          },
          "colorscale": {
           "diverging": [
            [
             0,
             "#8e0152"
            ],
            [
             0.1,
             "#c51b7d"
            ],
            [
             0.2,
             "#de77ae"
            ],
            [
             0.3,
             "#f1b6da"
            ],
            [
             0.4,
             "#fde0ef"
            ],
            [
             0.5,
             "#f7f7f7"
            ],
            [
             0.6,
             "#e6f5d0"
            ],
            [
             0.7,
             "#b8e186"
            ],
            [
             0.8,
             "#7fbc41"
            ],
            [
             0.9,
             "#4d9221"
            ],
            [
             1,
             "#276419"
            ]
           ],
           "sequential": [
            [
             0,
             "#0d0887"
            ],
            [
             0.1111111111111111,
             "#46039f"
            ],
            [
             0.2222222222222222,
             "#7201a8"
            ],
            [
             0.3333333333333333,
             "#9c179e"
            ],
            [
             0.4444444444444444,
             "#bd3786"
            ],
            [
             0.5555555555555556,
             "#d8576b"
            ],
            [
             0.6666666666666666,
             "#ed7953"
            ],
            [
             0.7777777777777778,
             "#fb9f3a"
            ],
            [
             0.8888888888888888,
             "#fdca26"
            ],
            [
             1,
             "#f0f921"
            ]
           ],
           "sequentialminus": [
            [
             0,
             "#0d0887"
            ],
            [
             0.1111111111111111,
             "#46039f"
            ],
            [
             0.2222222222222222,
             "#7201a8"
            ],
            [
             0.3333333333333333,
             "#9c179e"
            ],
            [
             0.4444444444444444,
             "#bd3786"
            ],
            [
             0.5555555555555556,
             "#d8576b"
            ],
            [
             0.6666666666666666,
             "#ed7953"
            ],
            [
             0.7777777777777778,
             "#fb9f3a"
            ],
            [
             0.8888888888888888,
             "#fdca26"
            ],
            [
             1,
             "#f0f921"
            ]
           ]
          },
          "colorway": [
           "#636efa",
           "#EF553B",
           "#00cc96",
           "#ab63fa",
           "#FFA15A",
           "#19d3f3",
           "#FF6692",
           "#B6E880",
           "#FF97FF",
           "#FECB52"
          ],
          "font": {
           "color": "#2a3f5f"
          },
          "geo": {
           "bgcolor": "white",
           "lakecolor": "white",
           "landcolor": "#E5ECF6",
           "showlakes": true,
           "showland": true,
           "subunitcolor": "white"
          },
          "hoverlabel": {
           "align": "left"
          },
          "hovermode": "closest",
          "mapbox": {
           "style": "light"
          },
          "paper_bgcolor": "white",
          "plot_bgcolor": "#E5ECF6",
          "polar": {
           "angularaxis": {
            "gridcolor": "white",
            "linecolor": "white",
            "ticks": ""
           },
           "bgcolor": "#E5ECF6",
           "radialaxis": {
            "gridcolor": "white",
            "linecolor": "white",
            "ticks": ""
           }
          },
          "scene": {
           "xaxis": {
            "backgroundcolor": "#E5ECF6",
            "gridcolor": "white",
            "gridwidth": 2,
            "linecolor": "white",
            "showbackground": true,
            "ticks": "",
            "zerolinecolor": "white"
           },
           "yaxis": {
            "backgroundcolor": "#E5ECF6",
            "gridcolor": "white",
            "gridwidth": 2,
            "linecolor": "white",
            "showbackground": true,
            "ticks": "",
            "zerolinecolor": "white"
           },
           "zaxis": {
            "backgroundcolor": "#E5ECF6",
            "gridcolor": "white",
            "gridwidth": 2,
            "linecolor": "white",
            "showbackground": true,
            "ticks": "",
            "zerolinecolor": "white"
           }
          },
          "shapedefaults": {
           "line": {
            "color": "#2a3f5f"
           }
          },
          "ternary": {
           "aaxis": {
            "gridcolor": "white",
            "linecolor": "white",
            "ticks": ""
           },
           "baxis": {
            "gridcolor": "white",
            "linecolor": "white",
            "ticks": ""
           },
           "bgcolor": "#E5ECF6",
           "caxis": {
            "gridcolor": "white",
            "linecolor": "white",
            "ticks": ""
           }
          },
          "title": {
           "x": 0.05
          },
          "xaxis": {
           "automargin": true,
           "gridcolor": "white",
           "linecolor": "white",
           "ticks": "",
           "title": {
            "standoff": 15
           },
           "zerolinecolor": "white",
           "zerolinewidth": 2
          },
          "yaxis": {
           "automargin": true,
           "gridcolor": "white",
           "linecolor": "white",
           "ticks": "",
           "title": {
            "standoff": 15
           },
           "zerolinecolor": "white",
           "zerolinewidth": 2
          }
         }
        },
        "width": 700,
        "xaxis": {
         "rangeslider": {
          "visible": false
         },
         "showgrid": true
        },
        "yaxis": {
         "showgrid": true
        }
       },
       "_py2js_animate": {},
       "_py2js_deleteTraces": {},
       "_py2js_moveTraces": {},
       "_py2js_removeLayoutProps": {},
       "_py2js_removeTraceProps": {},
       "_py2js_restyle": {},
       "_view_count": 0
      }
     },
     "e5e1e7401489428e97f3286d07c14aa4": {
      "buffers": [
       {
        "data": "AAAAAAAA8D8AAAAAAAD4fwAAAAAAAPA/AAAAAAAA+H8AAAAAAADwPw==",
        "encoding": "base64",
        "path": [
         "_data",
         0,
         "y",
         "value"
        ]
       },
       {
        "data": "AAAAAAAA+H8AAAAAAADwPwAAAAAAAPh/AAAAAAAA8D8AAAAAAAD4fw==",
        "encoding": "base64",
        "path": [
         "_data",
         1,
         "y",
         "value"
        ]
       }
      ],
      "model_module": "plotlywidget",
      "model_module_version": "^4.12.0",
      "model_name": "FigureModel",
      "state": {
       "_config": {
        "plotlyServerURL": "https://plot.ly"
       },
       "_data": [
        {
         "marker": {
          "color": "#37B13F",
          "line": {
           "color": "rgb(38,123,44)",
           "width": 1
          },
          "size": 8,
          "symbol": "triangle-up"
         },
         "mode": "markers",
         "name": "Entry",
         "showlegend": true,
         "type": "scatter",
         "uid": "9457f5a1-a6d3-4379-a23f-4967cf24d721",
         "x": [
          0,
          1,
          2,
          3,
          4
         ],
         "y": {
          "dtype": "float64",
          "shape": [
           5
          ],
          "value": {}
         }
        },
        {
         "marker": {
          "color": "#EA4335",
          "line": {
           "color": "rgb(181,31,18)",
           "width": 1
          },
          "size": 8,
          "symbol": "triangle-down"
         },
         "mode": "markers",
         "name": "Exit",
         "showlegend": true,
         "type": "scatter",
         "uid": "86c347e7-4e0a-458c-af76-b304b808cc64",
         "x": [
          0,
          1,
          2,
          3,
          4
         ],
         "y": {
          "dtype": "float64",
          "shape": [
           5
          ],
          "value": {}
         }
        }
       ],
       "_js2py_layoutDelta": {},
       "_js2py_pointsCallback": {},
       "_js2py_relayout": {},
       "_js2py_restyle": {},
       "_js2py_traceDeltas": {},
       "_js2py_update": {},
       "_last_layout_edit_id": 4,
       "_last_trace_edit_id": 4,
       "_layout": {
        "autosize": false,
        "colorway": [
         "#1f77b4",
         "#ff7f0e",
         "#2ca02c",
         "#dc3912",
         "#9467bd",
         "#8c564b",
         "#e377c2",
         "#7f7f7f",
         "#bcbd22",
         "#17becf"
        ],
        "height": 350,
        "hovermode": "closest",
        "legend": {
         "orientation": "h",
         "traceorder": "normal",
         "x": 1,
         "xanchor": "right",
         "y": 1.02,
         "yanchor": "bottom"
        },
        "margin": {
         "b": 30,
         "l": 30,
         "r": 30,
         "t": 30
        },
        "template": {
         "data": {
          "bar": [
           {
            "error_x": {
             "color": "#2a3f5f"
            },
            "error_y": {
             "color": "#2a3f5f"
            },
            "marker": {
             "line": {
              "color": "#E5ECF6",
              "width": 0.5
             }
            },
            "type": "bar"
           }
          ],
          "barpolar": [
           {
            "marker": {
             "line": {
              "color": "#E5ECF6",
              "width": 0.5
             }
            },
            "type": "barpolar"
           }
          ],
          "carpet": [
           {
            "aaxis": {
             "endlinecolor": "#2a3f5f",
             "gridcolor": "white",
             "linecolor": "white",
             "minorgridcolor": "white",
             "startlinecolor": "#2a3f5f"
            },
            "baxis": {
             "endlinecolor": "#2a3f5f",
             "gridcolor": "white",
             "linecolor": "white",
             "minorgridcolor": "white",
             "startlinecolor": "#2a3f5f"
            },
            "type": "carpet"
           }
          ],
          "choropleth": [
           {
            "colorbar": {
             "outlinewidth": 0,
             "ticks": ""
            },
            "type": "choropleth"
           }
          ],
          "contour": [
           {
            "colorbar": {
             "outlinewidth": 0,
             "ticks": ""
            },
            "colorscale": [
             [
              0,
              "#0d0887"
             ],
             [
              0.1111111111111111,
              "#46039f"
             ],
             [
              0.2222222222222222,
              "#7201a8"
             ],
             [
              0.3333333333333333,
              "#9c179e"
             ],
             [
              0.4444444444444444,
              "#bd3786"
             ],
             [
              0.5555555555555556,
              "#d8576b"
             ],
             [
              0.6666666666666666,
              "#ed7953"
             ],
             [
              0.7777777777777778,
              "#fb9f3a"
             ],
             [
              0.8888888888888888,
              "#fdca26"
             ],
             [
              1,
              "#f0f921"
             ]
            ],
            "type": "contour"
           }
          ],
          "contourcarpet": [
           {
            "colorbar": {
             "outlinewidth": 0,
             "ticks": ""
            },
            "type": "contourcarpet"
           }
          ],
          "heatmap": [
           {
            "colorbar": {
             "outlinewidth": 0,
             "ticks": ""
            },
            "colorscale": [
             [
              0,
              "#0d0887"
             ],
             [
              0.1111111111111111,
              "#46039f"
             ],
             [
              0.2222222222222222,
              "#7201a8"
             ],
             [
              0.3333333333333333,
              "#9c179e"
             ],
             [
              0.4444444444444444,
              "#bd3786"
             ],
             [
              0.5555555555555556,
              "#d8576b"
             ],
             [
              0.6666666666666666,
              "#ed7953"
             ],
             [
              0.7777777777777778,
              "#fb9f3a"
             ],
             [
              0.8888888888888888,
              "#fdca26"
             ],
             [
              1,
              "#f0f921"
             ]
            ],
            "type": "heatmap"
           }
          ],
          "heatmapgl": [
           {
            "colorbar": {
             "outlinewidth": 0,
             "ticks": ""
            },
            "colorscale": [
             [
              0,
              "#0d0887"
             ],
             [
              0.1111111111111111,
              "#46039f"
             ],
             [
              0.2222222222222222,
              "#7201a8"
             ],
             [
              0.3333333333333333,
              "#9c179e"
             ],
             [
              0.4444444444444444,
              "#bd3786"
             ],
             [
              0.5555555555555556,
              "#d8576b"
             ],
             [
              0.6666666666666666,
              "#ed7953"
             ],
             [
              0.7777777777777778,
              "#fb9f3a"
             ],
             [
              0.8888888888888888,
              "#fdca26"
             ],
             [
              1,
              "#f0f921"
             ]
            ],
            "type": "heatmapgl"
           }
          ],
          "histogram": [
           {
            "marker": {
             "colorbar": {
              "outlinewidth": 0,
              "ticks": ""
             }
            },
            "type": "histogram"
           }
          ],
          "histogram2d": [
           {
            "colorbar": {
             "outlinewidth": 0,
             "ticks": ""
            },
            "colorscale": [
             [
              0,
              "#0d0887"
             ],
             [
              0.1111111111111111,
              "#46039f"
             ],
             [
              0.2222222222222222,
              "#7201a8"
             ],
             [
              0.3333333333333333,
              "#9c179e"
             ],
             [
              0.4444444444444444,
              "#bd3786"
             ],
             [
              0.5555555555555556,
              "#d8576b"
             ],
             [
              0.6666666666666666,
              "#ed7953"
             ],
             [
              0.7777777777777778,
              "#fb9f3a"
             ],
             [
              0.8888888888888888,
              "#fdca26"
             ],
             [
              1,
              "#f0f921"
             ]
            ],
            "type": "histogram2d"
           }
          ],
          "histogram2dcontour": [
           {
            "colorbar": {
             "outlinewidth": 0,
             "ticks": ""
            },
            "colorscale": [
             [
              0,
              "#0d0887"
             ],
             [
              0.1111111111111111,
              "#46039f"
             ],
             [
              0.2222222222222222,
              "#7201a8"
             ],
             [
              0.3333333333333333,
              "#9c179e"
             ],
             [
              0.4444444444444444,
              "#bd3786"
             ],
             [
              0.5555555555555556,
              "#d8576b"
             ],
             [
              0.6666666666666666,
              "#ed7953"
             ],
             [
              0.7777777777777778,
              "#fb9f3a"
             ],
             [
              0.8888888888888888,
              "#fdca26"
             ],
             [
              1,
              "#f0f921"
             ]
            ],
            "type": "histogram2dcontour"
           }
          ],
          "mesh3d": [
           {
            "colorbar": {
             "outlinewidth": 0,
             "ticks": ""
            },
            "type": "mesh3d"
           }
          ],
          "parcoords": [
           {
            "line": {
             "colorbar": {
              "outlinewidth": 0,
              "ticks": ""
             }
            },
            "type": "parcoords"
           }
          ],
          "pie": [
           {
            "automargin": true,
            "type": "pie"
           }
          ],
          "scatter": [
           {
            "marker": {
             "colorbar": {
              "outlinewidth": 0,
              "ticks": ""
             }
            },
            "type": "scatter"
           }
          ],
          "scatter3d": [
           {
            "line": {
             "colorbar": {
              "outlinewidth": 0,
              "ticks": ""
             }
            },
            "marker": {
             "colorbar": {
              "outlinewidth": 0,
              "ticks": ""
             }
            },
            "type": "scatter3d"
           }
          ],
          "scattercarpet": [
           {
            "marker": {
             "colorbar": {
              "outlinewidth": 0,
              "ticks": ""
             }
            },
            "type": "scattercarpet"
           }
          ],
          "scattergeo": [
           {
            "marker": {
             "colorbar": {
              "outlinewidth": 0,
              "ticks": ""
             }
            },
            "type": "scattergeo"
           }
          ],
          "scattergl": [
           {
            "marker": {
             "colorbar": {
              "outlinewidth": 0,
              "ticks": ""
             }
            },
            "type": "scattergl"
           }
          ],
          "scattermapbox": [
           {
            "marker": {
             "colorbar": {
              "outlinewidth": 0,
              "ticks": ""
             }
            },
            "type": "scattermapbox"
           }
          ],
          "scatterpolar": [
           {
            "marker": {
             "colorbar": {
              "outlinewidth": 0,
              "ticks": ""
             }
            },
            "type": "scatterpolar"
           }
          ],
          "scatterpolargl": [
           {
            "marker": {
             "colorbar": {
              "outlinewidth": 0,
              "ticks": ""
             }
            },
            "type": "scatterpolargl"
           }
          ],
          "scatterternary": [
           {
            "marker": {
             "colorbar": {
              "outlinewidth": 0,
              "ticks": ""
             }
            },
            "type": "scatterternary"
           }
          ],
          "surface": [
           {
            "colorbar": {
             "outlinewidth": 0,
             "ticks": ""
            },
            "colorscale": [
             [
              0,
              "#0d0887"
             ],
             [
              0.1111111111111111,
              "#46039f"
             ],
             [
              0.2222222222222222,
              "#7201a8"
             ],
             [
              0.3333333333333333,
              "#9c179e"
             ],
             [
              0.4444444444444444,
              "#bd3786"
             ],
             [
              0.5555555555555556,
              "#d8576b"
             ],
             [
              0.6666666666666666,
              "#ed7953"
             ],
             [
              0.7777777777777778,
              "#fb9f3a"
             ],
             [
              0.8888888888888888,
              "#fdca26"
             ],
             [
              1,
              "#f0f921"
             ]
            ],
            "type": "surface"
           }
          ],
          "table": [
           {
            "cells": {
             "fill": {
              "color": "#EBF0F8"
             },
             "line": {
              "color": "white"
             }
            },
            "header": {
             "fill": {
              "color": "#C8D4E3"
             },
             "line": {
              "color": "white"
             }
            },
            "type": "table"
           }
          ]
         },
         "layout": {
          "annotationdefaults": {
           "arrowcolor": "#2a3f5f",
           "arrowhead": 0,
           "arrowwidth": 1
          },
          "coloraxis": {
           "colorbar": {
            "outlinewidth": 0,
            "ticks": ""
           }
          },
          "colorscale": {
           "diverging": [
            [
             0,
             "#8e0152"
            ],
            [
             0.1,
             "#c51b7d"
            ],
            [
             0.2,
             "#de77ae"
            ],
            [
             0.3,
             "#f1b6da"
            ],
            [
             0.4,
             "#fde0ef"
            ],
            [
             0.5,
             "#f7f7f7"
            ],
            [
             0.6,
             "#e6f5d0"
            ],
            [
             0.7,
             "#b8e186"
            ],
            [
             0.8,
             "#7fbc41"
            ],
            [
             0.9,
             "#4d9221"
            ],
            [
             1,
             "#276419"
            ]
           ],
           "sequential": [
            [
             0,
             "#0d0887"
            ],
            [
             0.1111111111111111,
             "#46039f"
            ],
            [
             0.2222222222222222,
             "#7201a8"
            ],
            [
             0.3333333333333333,
             "#9c179e"
            ],
            [
             0.4444444444444444,
             "#bd3786"
            ],
            [
             0.5555555555555556,
             "#d8576b"
            ],
            [
             0.6666666666666666,
             "#ed7953"
            ],
            [
             0.7777777777777778,
             "#fb9f3a"
            ],
            [
             0.8888888888888888,
             "#fdca26"
            ],
            [
             1,
             "#f0f921"
            ]
           ],
           "sequentialminus": [
            [
             0,
             "#0d0887"
            ],
            [
             0.1111111111111111,
             "#46039f"
            ],
            [
             0.2222222222222222,
             "#7201a8"
            ],
            [
             0.3333333333333333,
             "#9c179e"
            ],
            [
             0.4444444444444444,
             "#bd3786"
            ],
            [
             0.5555555555555556,
             "#d8576b"
            ],
            [
             0.6666666666666666,
             "#ed7953"
            ],
            [
             0.7777777777777778,
             "#fb9f3a"
            ],
            [
             0.8888888888888888,
             "#fdca26"
            ],
            [
             1,
             "#f0f921"
            ]
           ]
          },
          "colorway": [
           "#636efa",
           "#EF553B",
           "#00cc96",
           "#ab63fa",
           "#FFA15A",
           "#19d3f3",
           "#FF6692",
           "#B6E880",
           "#FF97FF",
           "#FECB52"
          ],
          "font": {
           "color": "#2a3f5f"
          },
          "geo": {
           "bgcolor": "white",
           "lakecolor": "white",
           "landcolor": "#E5ECF6",
           "showlakes": true,
           "showland": true,
           "subunitcolor": "white"
          },
          "hoverlabel": {
           "align": "left"
          },
          "hovermode": "closest",
          "mapbox": {
           "style": "light"
          },
          "paper_bgcolor": "white",
          "plot_bgcolor": "#E5ECF6",
          "polar": {
           "angularaxis": {
            "gridcolor": "white",
            "linecolor": "white",
            "ticks": ""
           },
           "bgcolor": "#E5ECF6",
           "radialaxis": {
            "gridcolor": "white",
            "linecolor": "white",
            "ticks": ""
           }
          },
          "scene": {
           "xaxis": {
            "backgroundcolor": "#E5ECF6",
            "gridcolor": "white",
            "gridwidth": 2,
            "linecolor": "white",
            "showbackground": true,
            "ticks": "",
            "zerolinecolor": "white"
           },
           "yaxis": {
            "backgroundcolor": "#E5ECF6",
            "gridcolor": "white",
            "gridwidth": 2,
            "linecolor": "white",
            "showbackground": true,
            "ticks": "",
            "zerolinecolor": "white"
           },
           "zaxis": {
            "backgroundcolor": "#E5ECF6",
            "gridcolor": "white",
            "gridwidth": 2,
            "linecolor": "white",
            "showbackground": true,
            "ticks": "",
            "zerolinecolor": "white"
           }
          },
          "shapedefaults": {
           "line": {
            "color": "#2a3f5f"
           }
          },
          "ternary": {
           "aaxis": {
            "gridcolor": "white",
            "linecolor": "white",
            "ticks": ""
           },
           "baxis": {
            "gridcolor": "white",
            "linecolor": "white",
            "ticks": ""
           },
           "bgcolor": "#E5ECF6",
           "caxis": {
            "gridcolor": "white",
            "linecolor": "white",
            "ticks": ""
           }
          },
          "title": {
           "x": 0.05
          },
          "xaxis": {
           "automargin": true,
           "gridcolor": "white",
           "linecolor": "white",
           "ticks": "",
           "title": {
            "standoff": 15
           },
           "zerolinecolor": "white",
           "zerolinewidth": 2
          },
          "yaxis": {
           "automargin": true,
           "gridcolor": "white",
           "linecolor": "white",
           "ticks": "",
           "title": {
            "standoff": 15
           },
           "zerolinecolor": "white",
           "zerolinewidth": 2
          }
         }
        },
        "width": 700
       },
       "_py2js_animate": {},
       "_py2js_deleteTraces": {},
       "_py2js_moveTraces": {},
       "_py2js_removeLayoutProps": {},
       "_py2js_removeTraceProps": {},
       "_py2js_restyle": {},
       "_view_count": 0
      }
     },
     "fa44b07999ad4c8c99cdbd9bf5e2faeb": {
      "buffers": [
       {
        "data": "AAAAAAAAJEAAAAAAAAD4fwAAAAAAAChAAAAAAAAA+H8AAAAAAAAkQA==",
        "encoding": "base64",
        "path": [
         "_data",
         1,
         "y",
         "value"
        ]
       },
       {
        "data": "AAAAAAAA+H8AAAAAAAD4fwAAAAAAAPh/mpmZmZmZJUAAAAAAAAD4fw==",
        "encoding": "base64",
        "path": [
         "_data",
         2,
         "y",
         "value"
        ]
       }
      ],
      "model_module": "plotlywidget",
      "model_module_version": "^4.12.0",
      "model_name": "FigureModel",
      "state": {
       "_config": {
        "plotlyServerURL": "https://plot.ly"
       },
       "_data": [
        {
         "close": [
          10,
          11,
          12,
          11,
          10
         ],
         "decreasing": {
          "line": {
           "color": "#d95f02"
          }
         },
         "high": [
          11,
          12,
          13,
          12,
          11
         ],
         "increasing": {
          "line": {
           "color": "#1b9e76"
          }
         },
         "low": [
          9,
          10,
          11,
          10,
          9
         ],
         "name": "OHLC",
         "opacity": 0.7,
         "open": [
          10,
          11,
          12,
          11,
          10
         ],
         "type": "ohlc",
         "uid": "d1bafa2f-3298-4af2-8ea1-3b3fe6cc323d",
         "x": [
          "2018-01-01T00:00:00.000000",
          "2018-01-02T00:00:00.000000",
          "2018-01-03T00:00:00.000000",
          "2018-01-04T00:00:00.000000",
          "2018-01-05T00:00:00.000000"
         ]
        },
        {
         "marker": {
          "color": "#37B13F",
          "line": {
           "color": "rgb(38,123,44)",
           "width": 1
          },
          "size": 8,
          "symbol": "triangle-up"
         },
         "mode": "markers",
         "name": "Entry",
         "showlegend": true,
         "type": "scatter",
         "uid": "8e3b063f-49ad-406b-b2e6-418f732c78c9",
         "x": [
          "2018-01-01T00:00:00.000000",
          "2018-01-02T00:00:00.000000",
          "2018-01-03T00:00:00.000000",
          "2018-01-04T00:00:00.000000",
          "2018-01-05T00:00:00.000000"
         ],
         "y": {
          "dtype": "float64",
          "shape": [
           5
          ],
          "value": {}
         }
        },
        {
         "customdata": [
          "",
          "",
          "",
          "StopLoss",
          ""
         ],
         "hovertemplate": "(%{x}, %{y})<br>Type: %{customdata}",
         "marker": {
          "color": "#EA4335",
          "line": {
           "color": "rgb(181,31,18)",
           "width": 1
          },
          "size": 8,
          "symbol": "triangle-down"
         },
         "mode": "markers",
         "name": "Exit",
         "showlegend": true,
         "type": "scatter",
         "uid": "9eedc724-9a83-4170-95bb-17b1e4d0a947",
         "x": [
          "2018-01-01T00:00:00.000000",
          "2018-01-02T00:00:00.000000",
          "2018-01-03T00:00:00.000000",
          "2018-01-04T00:00:00.000000",
          "2018-01-05T00:00:00.000000"
         ],
         "y": {
          "dtype": "float64",
          "shape": [
           5
          ],
          "value": {}
         }
        }
       ],
       "_js2py_layoutDelta": {},
       "_js2py_pointsCallback": {},
       "_js2py_relayout": {},
       "_js2py_restyle": {},
       "_js2py_traceDeltas": {},
       "_js2py_update": {},
       "_last_layout_edit_id": 6,
       "_last_trace_edit_id": 6,
       "_layout": {
        "autosize": false,
        "colorway": [
         "#1f77b4",
         "#ff7f0e",
         "#2ca02c",
         "#dc3912",
         "#9467bd",
         "#8c564b",
         "#e377c2",
         "#7f7f7f",
         "#bcbd22",
         "#17becf"
        ],
        "height": 350,
        "hovermode": "closest",
        "legend": {
         "orientation": "h",
         "traceorder": "normal",
         "x": 1,
         "xanchor": "right",
         "y": 1.02,
         "yanchor": "bottom"
        },
        "margin": {
         "b": 30,
         "l": 30,
         "r": 30,
         "t": 30
        },
        "showlegend": true,
        "template": {
         "data": {
          "bar": [
           {
            "error_x": {
             "color": "#2a3f5f"
            },
            "error_y": {
             "color": "#2a3f5f"
            },
            "marker": {
             "line": {
              "color": "#E5ECF6",
              "width": 0.5
             }
            },
            "type": "bar"
           }
          ],
          "barpolar": [
           {
            "marker": {
             "line": {
              "color": "#E5ECF6",
              "width": 0.5
             }
            },
            "type": "barpolar"
           }
          ],
          "carpet": [
           {
            "aaxis": {
             "endlinecolor": "#2a3f5f",
             "gridcolor": "white",
             "linecolor": "white",
             "minorgridcolor": "white",
             "startlinecolor": "#2a3f5f"
            },
            "baxis": {
             "endlinecolor": "#2a3f5f",
             "gridcolor": "white",
             "linecolor": "white",
             "minorgridcolor": "white",
             "startlinecolor": "#2a3f5f"
            },
            "type": "carpet"
           }
          ],
          "choropleth": [
           {
            "colorbar": {
             "outlinewidth": 0,
             "ticks": ""
            },
            "type": "choropleth"
           }
          ],
          "contour": [
           {
            "colorbar": {
             "outlinewidth": 0,
             "ticks": ""
            },
            "colorscale": [
             [
              0,
              "#0d0887"
             ],
             [
              0.1111111111111111,
              "#46039f"
             ],
             [
              0.2222222222222222,
              "#7201a8"
             ],
             [
              0.3333333333333333,
              "#9c179e"
             ],
             [
              0.4444444444444444,
              "#bd3786"
             ],
             [
              0.5555555555555556,
              "#d8576b"
             ],
             [
              0.6666666666666666,
              "#ed7953"
             ],
             [
              0.7777777777777778,
              "#fb9f3a"
             ],
             [
              0.8888888888888888,
              "#fdca26"
             ],
             [
              1,
              "#f0f921"
             ]
            ],
            "type": "contour"
           }
          ],
          "contourcarpet": [
           {
            "colorbar": {
             "outlinewidth": 0,
             "ticks": ""
            },
            "type": "contourcarpet"
           }
          ],
          "heatmap": [
           {
            "colorbar": {
             "outlinewidth": 0,
             "ticks": ""
            },
            "colorscale": [
             [
              0,
              "#0d0887"
             ],
             [
              0.1111111111111111,
              "#46039f"
             ],
             [
              0.2222222222222222,
              "#7201a8"
             ],
             [
              0.3333333333333333,
              "#9c179e"
             ],
             [
              0.4444444444444444,
              "#bd3786"
             ],
             [
              0.5555555555555556,
              "#d8576b"
             ],
             [
              0.6666666666666666,
              "#ed7953"
             ],
             [
              0.7777777777777778,
              "#fb9f3a"
             ],
             [
              0.8888888888888888,
              "#fdca26"
             ],
             [
              1,
              "#f0f921"
             ]
            ],
            "type": "heatmap"
           }
          ],
          "heatmapgl": [
           {
            "colorbar": {
             "outlinewidth": 0,
             "ticks": ""
            },
            "colorscale": [
             [
              0,
              "#0d0887"
             ],
             [
              0.1111111111111111,
              "#46039f"
             ],
             [
              0.2222222222222222,
              "#7201a8"
             ],
             [
              0.3333333333333333,
              "#9c179e"
             ],
             [
              0.4444444444444444,
              "#bd3786"
             ],
             [
              0.5555555555555556,
              "#d8576b"
             ],
             [
              0.6666666666666666,
              "#ed7953"
             ],
             [
              0.7777777777777778,
              "#fb9f3a"
             ],
             [
              0.8888888888888888,
              "#fdca26"
             ],
             [
              1,
              "#f0f921"
             ]
            ],
            "type": "heatmapgl"
           }
          ],
          "histogram": [
           {
            "marker": {
             "colorbar": {
              "outlinewidth": 0,
              "ticks": ""
             }
            },
            "type": "histogram"
           }
          ],
          "histogram2d": [
           {
            "colorbar": {
             "outlinewidth": 0,
             "ticks": ""
            },
            "colorscale": [
             [
              0,
              "#0d0887"
             ],
             [
              0.1111111111111111,
              "#46039f"
             ],
             [
              0.2222222222222222,
              "#7201a8"
             ],
             [
              0.3333333333333333,
              "#9c179e"
             ],
             [
              0.4444444444444444,
              "#bd3786"
             ],
             [
              0.5555555555555556,
              "#d8576b"
             ],
             [
              0.6666666666666666,
              "#ed7953"
             ],
             [
              0.7777777777777778,
              "#fb9f3a"
             ],
             [
              0.8888888888888888,
              "#fdca26"
             ],
             [
              1,
              "#f0f921"
             ]
            ],
            "type": "histogram2d"
           }
          ],
          "histogram2dcontour": [
           {
            "colorbar": {
             "outlinewidth": 0,
             "ticks": ""
            },
            "colorscale": [
             [
              0,
              "#0d0887"
             ],
             [
              0.1111111111111111,
              "#46039f"
             ],
             [
              0.2222222222222222,
              "#7201a8"
             ],
             [
              0.3333333333333333,
              "#9c179e"
             ],
             [
              0.4444444444444444,
              "#bd3786"
             ],
             [
              0.5555555555555556,
              "#d8576b"
             ],
             [
              0.6666666666666666,
              "#ed7953"
             ],
             [
              0.7777777777777778,
              "#fb9f3a"
             ],
             [
              0.8888888888888888,
              "#fdca26"
             ],
             [
              1,
              "#f0f921"
             ]
            ],
            "type": "histogram2dcontour"
           }
          ],
          "mesh3d": [
           {
            "colorbar": {
             "outlinewidth": 0,
             "ticks": ""
            },
            "type": "mesh3d"
           }
          ],
          "parcoords": [
           {
            "line": {
             "colorbar": {
              "outlinewidth": 0,
              "ticks": ""
             }
            },
            "type": "parcoords"
           }
          ],
          "pie": [
           {
            "automargin": true,
            "type": "pie"
           }
          ],
          "scatter": [
           {
            "marker": {
             "colorbar": {
              "outlinewidth": 0,
              "ticks": ""
             }
            },
            "type": "scatter"
           }
          ],
          "scatter3d": [
           {
            "line": {
             "colorbar": {
              "outlinewidth": 0,
              "ticks": ""
             }
            },
            "marker": {
             "colorbar": {
              "outlinewidth": 0,
              "ticks": ""
             }
            },
            "type": "scatter3d"
           }
          ],
          "scattercarpet": [
           {
            "marker": {
             "colorbar": {
              "outlinewidth": 0,
              "ticks": ""
             }
            },
            "type": "scattercarpet"
           }
          ],
          "scattergeo": [
           {
            "marker": {
             "colorbar": {
              "outlinewidth": 0,
              "ticks": ""
             }
            },
            "type": "scattergeo"
           }
          ],
          "scattergl": [
           {
            "marker": {
             "colorbar": {
              "outlinewidth": 0,
              "ticks": ""
             }
            },
            "type": "scattergl"
           }
          ],
          "scattermapbox": [
           {
            "marker": {
             "colorbar": {
              "outlinewidth": 0,
              "ticks": ""
             }
            },
            "type": "scattermapbox"
           }
          ],
          "scatterpolar": [
           {
            "marker": {
             "colorbar": {
              "outlinewidth": 0,
              "ticks": ""
             }
            },
            "type": "scatterpolar"
           }
          ],
          "scatterpolargl": [
           {
            "marker": {
             "colorbar": {
              "outlinewidth": 0,
              "ticks": ""
             }
            },
            "type": "scatterpolargl"
           }
          ],
          "scatterternary": [
           {
            "marker": {
             "colorbar": {
              "outlinewidth": 0,
              "ticks": ""
             }
            },
            "type": "scatterternary"
           }
          ],
          "surface": [
           {
            "colorbar": {
             "outlinewidth": 0,
             "ticks": ""
            },
            "colorscale": [
             [
              0,
              "#0d0887"
             ],
             [
              0.1111111111111111,
              "#46039f"
             ],
             [
              0.2222222222222222,
              "#7201a8"
             ],
             [
              0.3333333333333333,
              "#9c179e"
             ],
             [
              0.4444444444444444,
              "#bd3786"
             ],
             [
              0.5555555555555556,
              "#d8576b"
             ],
             [
              0.6666666666666666,
              "#ed7953"
             ],
             [
              0.7777777777777778,
              "#fb9f3a"
             ],
             [
              0.8888888888888888,
              "#fdca26"
             ],
             [
              1,
              "#f0f921"
             ]
            ],
            "type": "surface"
           }
          ],
          "table": [
           {
            "cells": {
             "fill": {
              "color": "#EBF0F8"
             },
             "line": {
              "color": "white"
             }
            },
            "header": {
             "fill": {
              "color": "#C8D4E3"
             },
             "line": {
              "color": "white"
             }
            },
            "type": "table"
           }
          ]
         },
         "layout": {
          "annotationdefaults": {
           "arrowcolor": "#2a3f5f",
           "arrowhead": 0,
           "arrowwidth": 1
          },
          "coloraxis": {
           "colorbar": {
            "outlinewidth": 0,
            "ticks": ""
           }
          },
          "colorscale": {
           "diverging": [
            [
             0,
             "#8e0152"
            ],
            [
             0.1,
             "#c51b7d"
            ],
            [
             0.2,
             "#de77ae"
            ],
            [
             0.3,
             "#f1b6da"
            ],
            [
             0.4,
             "#fde0ef"
            ],
            [
             0.5,
             "#f7f7f7"
            ],
            [
             0.6,
             "#e6f5d0"
            ],
            [
             0.7,
             "#b8e186"
            ],
            [
             0.8,
             "#7fbc41"
            ],
            [
             0.9,
             "#4d9221"
            ],
            [
             1,
             "#276419"
            ]
           ],
           "sequential": [
            [
             0,
             "#0d0887"
            ],
            [
             0.1111111111111111,
             "#46039f"
            ],
            [
             0.2222222222222222,
             "#7201a8"
            ],
            [
             0.3333333333333333,
             "#9c179e"
            ],
            [
             0.4444444444444444,
             "#bd3786"
            ],
            [
             0.5555555555555556,
             "#d8576b"
            ],
            [
             0.6666666666666666,
             "#ed7953"
            ],
            [
             0.7777777777777778,
             "#fb9f3a"
            ],
            [
             0.8888888888888888,
             "#fdca26"
            ],
            [
             1,
             "#f0f921"
            ]
           ],
           "sequentialminus": [
            [
             0,
             "#0d0887"
            ],
            [
             0.1111111111111111,
             "#46039f"
            ],
            [
             0.2222222222222222,
             "#7201a8"
            ],
            [
             0.3333333333333333,
             "#9c179e"
            ],
            [
             0.4444444444444444,
             "#bd3786"
            ],
            [
             0.5555555555555556,
             "#d8576b"
            ],
            [
             0.6666666666666666,
             "#ed7953"
            ],
            [
             0.7777777777777778,
             "#fb9f3a"
            ],
            [
             0.8888888888888888,
             "#fdca26"
            ],
            [
             1,
             "#f0f921"
            ]
           ]
          },
          "colorway": [
           "#636efa",
           "#EF553B",
           "#00cc96",
           "#ab63fa",
           "#FFA15A",
           "#19d3f3",
           "#FF6692",
           "#B6E880",
           "#FF97FF",
           "#FECB52"
          ],
          "font": {
           "color": "#2a3f5f"
          },
          "geo": {
           "bgcolor": "white",
           "lakecolor": "white",
           "landcolor": "#E5ECF6",
           "showlakes": true,
           "showland": true,
           "subunitcolor": "white"
          },
          "hoverlabel": {
           "align": "left"
          },
          "hovermode": "closest",
          "mapbox": {
           "style": "light"
          },
          "paper_bgcolor": "white",
          "plot_bgcolor": "#E5ECF6",
          "polar": {
           "angularaxis": {
            "gridcolor": "white",
            "linecolor": "white",
            "ticks": ""
           },
           "bgcolor": "#E5ECF6",
           "radialaxis": {
            "gridcolor": "white",
            "linecolor": "white",
            "ticks": ""
           }
          },
          "scene": {
           "xaxis": {
            "backgroundcolor": "#E5ECF6",
            "gridcolor": "white",
            "gridwidth": 2,
            "linecolor": "white",
            "showbackground": true,
            "ticks": "",
            "zerolinecolor": "white"
           },
           "yaxis": {
            "backgroundcolor": "#E5ECF6",
            "gridcolor": "white",
            "gridwidth": 2,
            "linecolor": "white",
            "showbackground": true,
            "ticks": "",
            "zerolinecolor": "white"
           },
           "zaxis": {
            "backgroundcolor": "#E5ECF6",
            "gridcolor": "white",
            "gridwidth": 2,
            "linecolor": "white",
            "showbackground": true,
            "ticks": "",
            "zerolinecolor": "white"
           }
          },
          "shapedefaults": {
           "line": {
            "color": "#2a3f5f"
           }
          },
          "ternary": {
           "aaxis": {
            "gridcolor": "white",
            "linecolor": "white",
            "ticks": ""
           },
           "baxis": {
            "gridcolor": "white",
            "linecolor": "white",
            "ticks": ""
           },
           "bgcolor": "#E5ECF6",
           "caxis": {
            "gridcolor": "white",
            "linecolor": "white",
            "ticks": ""
           }
          },
          "title": {
           "x": 0.05
          },
          "xaxis": {
           "automargin": true,
           "gridcolor": "white",
           "linecolor": "white",
           "ticks": "",
           "title": {
            "standoff": 15
           },
           "zerolinecolor": "white",
           "zerolinewidth": 2
          },
          "yaxis": {
           "automargin": true,
           "gridcolor": "white",
           "linecolor": "white",
           "ticks": "",
           "title": {
            "standoff": 15
           },
           "zerolinecolor": "white",
           "zerolinewidth": 2
          }
         }
        },
        "width": 700,
        "xaxis": {
         "rangeslider": {
          "visible": false
         },
         "showgrid": true
        },
        "yaxis": {
         "showgrid": true
        }
       },
       "_py2js_animate": {},
       "_py2js_deleteTraces": {},
       "_py2js_moveTraces": {},
       "_py2js_removeLayoutProps": {},
       "_py2js_removeTraceProps": {},
       "_py2js_restyle": {},
       "_view_count": 0
      }
     },
     "ffb81874391c45b797e029d13ad98923": {
      "buffers": [
       {
        "data": "AAAAAAAA8D8AAAAAAAD4fwAAAAAAAPA/AAAAAAAA+H8AAAAAAADwPw==",
        "encoding": "base64",
        "path": [
         "_data",
         0,
         "y",
         "value"
        ]
       },
       {
        "data": "AAAAAAAA+H8AAAAAAADwPwAAAAAAAPh/AAAAAAAA8D8AAAAAAAD4fw==",
        "encoding": "base64",
        "path": [
         "_data",
         1,
         "y",
         "value"
        ]
       }
      ],
      "model_module": "plotlywidget",
      "model_module_version": "^4.12.0",
      "model_name": "FigureModel",
      "state": {
       "_config": {
        "plotlyServerURL": "https://plot.ly"
       },
       "_data": [
        {
         "marker": {
          "color": "#37B13F",
          "line": {
           "color": "rgb(38,123,44)",
           "width": 1
          },
          "size": 8,
          "symbol": "triangle-up"
         },
         "mode": "markers",
         "name": "Entry",
         "showlegend": true,
         "type": "scatter",
         "uid": "b3f1bed4-8c42-461b-add2-bbc929185ff0",
         "x": [
          0,
          1,
          2,
          3,
          4
         ],
         "y": {
          "dtype": "float64",
          "shape": [
           5
          ],
          "value": {}
         }
        },
        {
         "marker": {
          "color": "#EA4335",
          "line": {
           "color": "rgb(181,31,18)",
           "width": 1
          },
          "size": 8,
          "symbol": "triangle-down"
         },
         "mode": "markers",
         "name": "Exit",
         "showlegend": true,
         "type": "scatter",
         "uid": "40bbe151-6890-4437-95db-78b8d27b4aed",
         "x": [
          0,
          1,
          2,
          3,
          4
         ],
         "y": {
          "dtype": "float64",
          "shape": [
           5
          ],
          "value": {}
         }
        }
       ],
       "_js2py_layoutDelta": {},
       "_js2py_pointsCallback": {},
       "_js2py_relayout": {},
       "_js2py_restyle": {},
       "_js2py_traceDeltas": {},
       "_js2py_update": {},
       "_last_layout_edit_id": 4,
       "_last_trace_edit_id": 4,
       "_layout": {
        "autosize": false,
        "colorway": [
         "#1f77b4",
         "#ff7f0e",
         "#2ca02c",
         "#dc3912",
         "#9467bd",
         "#8c564b",
         "#e377c2",
         "#7f7f7f",
         "#bcbd22",
         "#17becf"
        ],
        "height": 350,
        "hovermode": "closest",
        "legend": {
         "orientation": "h",
         "traceorder": "normal",
         "x": 1,
         "xanchor": "right",
         "y": 1.02,
         "yanchor": "bottom"
        },
        "margin": {
         "b": 30,
         "l": 30,
         "r": 30,
         "t": 30
        },
        "template": {
         "data": {
          "bar": [
           {
            "error_x": {
             "color": "#2a3f5f"
            },
            "error_y": {
             "color": "#2a3f5f"
            },
            "marker": {
             "line": {
              "color": "#E5ECF6",
              "width": 0.5
             }
            },
            "type": "bar"
           }
          ],
          "barpolar": [
           {
            "marker": {
             "line": {
              "color": "#E5ECF6",
              "width": 0.5
             }
            },
            "type": "barpolar"
           }
          ],
          "carpet": [
           {
            "aaxis": {
             "endlinecolor": "#2a3f5f",
             "gridcolor": "white",
             "linecolor": "white",
             "minorgridcolor": "white",
             "startlinecolor": "#2a3f5f"
            },
            "baxis": {
             "endlinecolor": "#2a3f5f",
             "gridcolor": "white",
             "linecolor": "white",
             "minorgridcolor": "white",
             "startlinecolor": "#2a3f5f"
            },
            "type": "carpet"
           }
          ],
          "choropleth": [
           {
            "colorbar": {
             "outlinewidth": 0,
             "ticks": ""
            },
            "type": "choropleth"
           }
          ],
          "contour": [
           {
            "colorbar": {
             "outlinewidth": 0,
             "ticks": ""
            },
            "colorscale": [
             [
              0,
              "#0d0887"
             ],
             [
              0.1111111111111111,
              "#46039f"
             ],
             [
              0.2222222222222222,
              "#7201a8"
             ],
             [
              0.3333333333333333,
              "#9c179e"
             ],
             [
              0.4444444444444444,
              "#bd3786"
             ],
             [
              0.5555555555555556,
              "#d8576b"
             ],
             [
              0.6666666666666666,
              "#ed7953"
             ],
             [
              0.7777777777777778,
              "#fb9f3a"
             ],
             [
              0.8888888888888888,
              "#fdca26"
             ],
             [
              1,
              "#f0f921"
             ]
            ],
            "type": "contour"
           }
          ],
          "contourcarpet": [
           {
            "colorbar": {
             "outlinewidth": 0,
             "ticks": ""
            },
            "type": "contourcarpet"
           }
          ],
          "heatmap": [
           {
            "colorbar": {
             "outlinewidth": 0,
             "ticks": ""
            },
            "colorscale": [
             [
              0,
              "#0d0887"
             ],
             [
              0.1111111111111111,
              "#46039f"
             ],
             [
              0.2222222222222222,
              "#7201a8"
             ],
             [
              0.3333333333333333,
              "#9c179e"
             ],
             [
              0.4444444444444444,
              "#bd3786"
             ],
             [
              0.5555555555555556,
              "#d8576b"
             ],
             [
              0.6666666666666666,
              "#ed7953"
             ],
             [
              0.7777777777777778,
              "#fb9f3a"
             ],
             [
              0.8888888888888888,
              "#fdca26"
             ],
             [
              1,
              "#f0f921"
             ]
            ],
            "type": "heatmap"
           }
          ],
          "heatmapgl": [
           {
            "colorbar": {
             "outlinewidth": 0,
             "ticks": ""
            },
            "colorscale": [
             [
              0,
              "#0d0887"
             ],
             [
              0.1111111111111111,
              "#46039f"
             ],
             [
              0.2222222222222222,
              "#7201a8"
             ],
             [
              0.3333333333333333,
              "#9c179e"
             ],
             [
              0.4444444444444444,
              "#bd3786"
             ],
             [
              0.5555555555555556,
              "#d8576b"
             ],
             [
              0.6666666666666666,
              "#ed7953"
             ],
             [
              0.7777777777777778,
              "#fb9f3a"
             ],
             [
              0.8888888888888888,
              "#fdca26"
             ],
             [
              1,
              "#f0f921"
             ]
            ],
            "type": "heatmapgl"
           }
          ],
          "histogram": [
           {
            "marker": {
             "colorbar": {
              "outlinewidth": 0,
              "ticks": ""
             }
            },
            "type": "histogram"
           }
          ],
          "histogram2d": [
           {
            "colorbar": {
             "outlinewidth": 0,
             "ticks": ""
            },
            "colorscale": [
             [
              0,
              "#0d0887"
             ],
             [
              0.1111111111111111,
              "#46039f"
             ],
             [
              0.2222222222222222,
              "#7201a8"
             ],
             [
              0.3333333333333333,
              "#9c179e"
             ],
             [
              0.4444444444444444,
              "#bd3786"
             ],
             [
              0.5555555555555556,
              "#d8576b"
             ],
             [
              0.6666666666666666,
              "#ed7953"
             ],
             [
              0.7777777777777778,
              "#fb9f3a"
             ],
             [
              0.8888888888888888,
              "#fdca26"
             ],
             [
              1,
              "#f0f921"
             ]
            ],
            "type": "histogram2d"
           }
          ],
          "histogram2dcontour": [
           {
            "colorbar": {
             "outlinewidth": 0,
             "ticks": ""
            },
            "colorscale": [
             [
              0,
              "#0d0887"
             ],
             [
              0.1111111111111111,
              "#46039f"
             ],
             [
              0.2222222222222222,
              "#7201a8"
             ],
             [
              0.3333333333333333,
              "#9c179e"
             ],
             [
              0.4444444444444444,
              "#bd3786"
             ],
             [
              0.5555555555555556,
              "#d8576b"
             ],
             [
              0.6666666666666666,
              "#ed7953"
             ],
             [
              0.7777777777777778,
              "#fb9f3a"
             ],
             [
              0.8888888888888888,
              "#fdca26"
             ],
             [
              1,
              "#f0f921"
             ]
            ],
            "type": "histogram2dcontour"
           }
          ],
          "mesh3d": [
           {
            "colorbar": {
             "outlinewidth": 0,
             "ticks": ""
            },
            "type": "mesh3d"
           }
          ],
          "parcoords": [
           {
            "line": {
             "colorbar": {
              "outlinewidth": 0,
              "ticks": ""
             }
            },
            "type": "parcoords"
           }
          ],
          "pie": [
           {
            "automargin": true,
            "type": "pie"
           }
          ],
          "scatter": [
           {
            "marker": {
             "colorbar": {
              "outlinewidth": 0,
              "ticks": ""
             }
            },
            "type": "scatter"
           }
          ],
          "scatter3d": [
           {
            "line": {
             "colorbar": {
              "outlinewidth": 0,
              "ticks": ""
             }
            },
            "marker": {
             "colorbar": {
              "outlinewidth": 0,
              "ticks": ""
             }
            },
            "type": "scatter3d"
           }
          ],
          "scattercarpet": [
           {
            "marker": {
             "colorbar": {
              "outlinewidth": 0,
              "ticks": ""
             }
            },
            "type": "scattercarpet"
           }
          ],
          "scattergeo": [
           {
            "marker": {
             "colorbar": {
              "outlinewidth": 0,
              "ticks": ""
             }
            },
            "type": "scattergeo"
           }
          ],
          "scattergl": [
           {
            "marker": {
             "colorbar": {
              "outlinewidth": 0,
              "ticks": ""
             }
            },
            "type": "scattergl"
           }
          ],
          "scattermapbox": [
           {
            "marker": {
             "colorbar": {
              "outlinewidth": 0,
              "ticks": ""
             }
            },
            "type": "scattermapbox"
           }
          ],
          "scatterpolar": [
           {
            "marker": {
             "colorbar": {
              "outlinewidth": 0,
              "ticks": ""
             }
            },
            "type": "scatterpolar"
           }
          ],
          "scatterpolargl": [
           {
            "marker": {
             "colorbar": {
              "outlinewidth": 0,
              "ticks": ""
             }
            },
            "type": "scatterpolargl"
           }
          ],
          "scatterternary": [
           {
            "marker": {
             "colorbar": {
              "outlinewidth": 0,
              "ticks": ""
             }
            },
            "type": "scatterternary"
           }
          ],
          "surface": [
           {
            "colorbar": {
             "outlinewidth": 0,
             "ticks": ""
            },
            "colorscale": [
             [
              0,
              "#0d0887"
             ],
             [
              0.1111111111111111,
              "#46039f"
             ],
             [
              0.2222222222222222,
              "#7201a8"
             ],
             [
              0.3333333333333333,
              "#9c179e"
             ],
             [
              0.4444444444444444,
              "#bd3786"
             ],
             [
              0.5555555555555556,
              "#d8576b"
             ],
             [
              0.6666666666666666,
              "#ed7953"
             ],
             [
              0.7777777777777778,
              "#fb9f3a"
             ],
             [
              0.8888888888888888,
              "#fdca26"
             ],
             [
              1,
              "#f0f921"
             ]
            ],
            "type": "surface"
           }
          ],
          "table": [
           {
            "cells": {
             "fill": {
              "color": "#EBF0F8"
             },
             "line": {
              "color": "white"
             }
            },
            "header": {
             "fill": {
              "color": "#C8D4E3"
             },
             "line": {
              "color": "white"
             }
            },
            "type": "table"
           }
          ]
         },
         "layout": {
          "annotationdefaults": {
           "arrowcolor": "#2a3f5f",
           "arrowhead": 0,
           "arrowwidth": 1
          },
          "coloraxis": {
           "colorbar": {
            "outlinewidth": 0,
            "ticks": ""
           }
          },
          "colorscale": {
           "diverging": [
            [
             0,
             "#8e0152"
            ],
            [
             0.1,
             "#c51b7d"
            ],
            [
             0.2,
             "#de77ae"
            ],
            [
             0.3,
             "#f1b6da"
            ],
            [
             0.4,
             "#fde0ef"
            ],
            [
             0.5,
             "#f7f7f7"
            ],
            [
             0.6,
             "#e6f5d0"
            ],
            [
             0.7,
             "#b8e186"
            ],
            [
             0.8,
             "#7fbc41"
            ],
            [
             0.9,
             "#4d9221"
            ],
            [
             1,
             "#276419"
            ]
           ],
           "sequential": [
            [
             0,
             "#0d0887"
            ],
            [
             0.1111111111111111,
             "#46039f"
            ],
            [
             0.2222222222222222,
             "#7201a8"
            ],
            [
             0.3333333333333333,
             "#9c179e"
            ],
            [
             0.4444444444444444,
             "#bd3786"
            ],
            [
             0.5555555555555556,
             "#d8576b"
            ],
            [
             0.6666666666666666,
             "#ed7953"
            ],
            [
             0.7777777777777778,
             "#fb9f3a"
            ],
            [
             0.8888888888888888,
             "#fdca26"
            ],
            [
             1,
             "#f0f921"
            ]
           ],
           "sequentialminus": [
            [
             0,
             "#0d0887"
            ],
            [
             0.1111111111111111,
             "#46039f"
            ],
            [
             0.2222222222222222,
             "#7201a8"
            ],
            [
             0.3333333333333333,
             "#9c179e"
            ],
            [
             0.4444444444444444,
             "#bd3786"
            ],
            [
             0.5555555555555556,
             "#d8576b"
            ],
            [
             0.6666666666666666,
             "#ed7953"
            ],
            [
             0.7777777777777778,
             "#fb9f3a"
            ],
            [
             0.8888888888888888,
             "#fdca26"
            ],
            [
             1,
             "#f0f921"
            ]
           ]
          },
          "colorway": [
           "#636efa",
           "#EF553B",
           "#00cc96",
           "#ab63fa",
           "#FFA15A",
           "#19d3f3",
           "#FF6692",
           "#B6E880",
           "#FF97FF",
           "#FECB52"
          ],
          "font": {
           "color": "#2a3f5f"
          },
          "geo": {
           "bgcolor": "white",
           "lakecolor": "white",
           "landcolor": "#E5ECF6",
           "showlakes": true,
           "showland": true,
           "subunitcolor": "white"
          },
          "hoverlabel": {
           "align": "left"
          },
          "hovermode": "closest",
          "mapbox": {
           "style": "light"
          },
          "paper_bgcolor": "white",
          "plot_bgcolor": "#E5ECF6",
          "polar": {
           "angularaxis": {
            "gridcolor": "white",
            "linecolor": "white",
            "ticks": ""
           },
           "bgcolor": "#E5ECF6",
           "radialaxis": {
            "gridcolor": "white",
            "linecolor": "white",
            "ticks": ""
           }
          },
          "scene": {
           "xaxis": {
            "backgroundcolor": "#E5ECF6",
            "gridcolor": "white",
            "gridwidth": 2,
            "linecolor": "white",
            "showbackground": true,
            "ticks": "",
            "zerolinecolor": "white"
           },
           "yaxis": {
            "backgroundcolor": "#E5ECF6",
            "gridcolor": "white",
            "gridwidth": 2,
            "linecolor": "white",
            "showbackground": true,
            "ticks": "",
            "zerolinecolor": "white"
           },
           "zaxis": {
            "backgroundcolor": "#E5ECF6",
            "gridcolor": "white",
            "gridwidth": 2,
            "linecolor": "white",
            "showbackground": true,
            "ticks": "",
            "zerolinecolor": "white"
           }
          },
          "shapedefaults": {
           "line": {
            "color": "#2a3f5f"
           }
          },
          "ternary": {
           "aaxis": {
            "gridcolor": "white",
            "linecolor": "white",
            "ticks": ""
           },
           "baxis": {
            "gridcolor": "white",
            "linecolor": "white",
            "ticks": ""
           },
           "bgcolor": "#E5ECF6",
           "caxis": {
            "gridcolor": "white",
            "linecolor": "white",
            "ticks": ""
           }
          },
          "title": {
           "x": 0.05
          },
          "xaxis": {
           "automargin": true,
           "gridcolor": "white",
           "linecolor": "white",
           "ticks": "",
           "title": {
            "standoff": 15
           },
           "zerolinecolor": "white",
           "zerolinewidth": 2
          },
          "yaxis": {
           "automargin": true,
           "gridcolor": "white",
           "linecolor": "white",
           "ticks": "",
           "title": {
            "standoff": 15
           },
           "zerolinecolor": "white",
           "zerolinewidth": 2
          }
         }
        },
        "width": 700
       },
       "_py2js_animate": {},
       "_py2js_deleteTraces": {},
       "_py2js_moveTraces": {},
       "_py2js_removeLayoutProps": {},
       "_py2js_removeTraceProps": {},
       "_py2js_restyle": {},
       "_view_count": 0
      }
     }
    },
    "version_major": 2,
    "version_minor": 0
   }
  }
 },
 "nbformat": 4,
 "nbformat_minor": 4
}
