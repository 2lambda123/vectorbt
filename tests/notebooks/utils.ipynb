{
 "cells": [
  {
   "cell_type": "markdown",
   "metadata": {},
   "source": [
    "# utils"
   ]
  },
  {
   "cell_type": "code",
   "execution_count": 1,
   "metadata": {},
   "outputs": [],
   "source": [
    "import vectorbt as vbt\n",
    "\n",
    "from vectorbt.utils import checks, config, decorators"
   ]
  },
  {
   "cell_type": "code",
   "execution_count": 2,
   "metadata": {
    "Collapsed": "false"
   },
   "outputs": [],
   "source": [
    "import numpy as np\n",
    "import pandas as pd\n",
    "from numba import njit"
   ]
  },
  {
   "cell_type": "code",
   "execution_count": 3,
   "metadata": {},
   "outputs": [
    {
     "name": "stdout",
     "output_type": "stream",
     "text": [
      "i1\n",
      "x1    1\n",
      "dtype: int64\n",
      "i2\n",
      "x2    1\n",
      "y2    2\n",
      "z2    3\n",
      "dtype: int64\n",
      "c3  a3\n",
      "i3    \n",
      "x3   1\n",
      "c4  a4\n",
      "i4    \n",
      "x4   1\n",
      "y4   2\n",
      "z4   3\n",
      "c5  a5  b5  c5\n",
      "i5            \n",
      "x5   1   2   3\n",
      "c6  a6  b6  c6\n",
      "i6            \n",
      "x6   1   2   3\n",
      "y6   4   5   6\n",
      "z6   7   8   9\n",
      "c7    a7 b7 c7\n",
      "c8    a8 b8 c8\n",
      "i7 i8         \n",
      "x7 x8  1  2  3\n",
      "y7 y8  4  5  6\n",
      "z7 z8  7  8  9\n"
     ]
    }
   ],
   "source": [
    "v1 = 0\n",
    "a1 = np.array([1])\n",
    "a2 = np.array([1, 2, 3])\n",
    "a3 = np.array([[1, 2, 3]])\n",
    "a4 = np.array([[1], [2], [3]])\n",
    "a5 = np.array([[1, 2, 3], [4, 5, 6], [7, 8, 9]])\n",
    "sr1 = pd.Series([1], index=pd.Index(['x1'], name='i1'))\n",
    "print(sr1)\n",
    "sr2 = pd.Series([1, 2, 3], index=pd.Index(['x2', 'y2', 'z2'], name='i2'))\n",
    "print(sr2)\n",
    "df1 = pd.DataFrame(\n",
    "    [[1]], \n",
    "    index=pd.Index(['x3'], name='i3'), \n",
    "    columns=pd.Index(['a3'], name='c3'))\n",
    "print(df1)\n",
    "df2 = pd.DataFrame(\n",
    "    [[1], [2], [3]], \n",
    "    index=pd.Index(['x4', 'y4', 'z4'], name='i4'), \n",
    "    columns=pd.Index(['a4'], name='c4'))\n",
    "print(df2)\n",
    "df3 = pd.DataFrame(\n",
    "    [[1, 2, 3]], \n",
    "    index=pd.Index(['x5'], name='i5'), \n",
    "    columns=pd.Index(['a5', 'b5', 'c5'], name='c5'))\n",
    "print(df3)\n",
    "df4 = pd.DataFrame(\n",
    "    [[1, 2, 3], [4, 5, 6], [7, 8, 9]], \n",
    "    index=pd.Index(['x6', 'y6', 'z6'], name='i6'), \n",
    "    columns=pd.Index(['a6', 'b6', 'c6'], name='c6'))\n",
    "print(df4)\n",
    "\n",
    "multi_i = pd.MultiIndex.from_arrays([['x7', 'y7', 'z7'], ['x8', 'y8', 'z8']], names=['i7', 'i8']) \n",
    "multi_c = pd.MultiIndex.from_arrays([['a7', 'b7', 'c7'], ['a8', 'b8', 'c8']], names=['c7', 'c8'])\n",
    "df5 = pd.DataFrame([[1, 2, 3], [4, 5, 6], [7, 8, 9]], index=multi_i, columns=multi_c)\n",
    "print(df5)"
   ]
  },
  {
   "cell_type": "markdown",
   "metadata": {},
   "source": [
    "## config"
   ]
  },
  {
   "cell_type": "code",
   "execution_count": 4,
   "metadata": {},
   "outputs": [
    {
     "name": "stdout",
     "output_type": "stream",
     "text": [
      "\"Key 'd' is not valid\"\n",
      "\"Key 'd' is not valid\"\n"
     ]
    }
   ],
   "source": [
    "conf = config.Config({'a': 0, 'b': {'c': 1}}, frozen=False)\n",
    "conf['b']['d'] = 2\n",
    "\n",
    "conf = config.Config({'a': 0, 'b': {'c': 1}}, frozen=True)\n",
    "conf['a'] = 2\n",
    "\n",
    "try:\n",
    "    conf['d'] = 2\n",
    "except Exception as e:\n",
    "    print(e)\n",
    "\n",
    "try:\n",
    "    conf.update(d=2)\n",
    "except Exception as e:\n",
    "    print(e)\n",
    "    \n",
    "conf.update(d=2, force_update=True)"
   ]
  },
  {
   "cell_type": "code",
   "execution_count": 5,
   "metadata": {},
   "outputs": [
    {
     "name": "stdout",
     "output_type": "stream",
     "text": [
      "Config is read-only\n",
      "Config is read-only\n",
      "Config is read-only\n",
      "Config is read-only\n",
      "Config is read-only\n",
      "Config is read-only\n",
      "{'b': {'c': 1, 'd': 2}, 'a': 0}\n"
     ]
    }
   ],
   "source": [
    "conf = config.Config({'a': 0, 'b': {'c': 1}}, read_only=True)\n",
    "\n",
    "try:\n",
    "    conf['a'] = 2\n",
    "except Exception as e:\n",
    "    print(e)\n",
    "    \n",
    "try:\n",
    "    del conf['a']\n",
    "except Exception as e:\n",
    "    print(e)\n",
    "    \n",
    "try:\n",
    "    conf.pop('a')\n",
    "except Exception as e:\n",
    "    print(e)\n",
    "    \n",
    "try:\n",
    "    conf.popitem()\n",
    "except Exception as e:\n",
    "    print(e)\n",
    "    \n",
    "try:\n",
    "    conf.clear()\n",
    "except Exception as e:\n",
    "    print(e)\n",
    "    \n",
    "try:\n",
    "    conf.update(a=2)\n",
    "except Exception as e:\n",
    "    print(e)\n",
    "    \n",
    "print(conf.merge_with(dict(b=dict(d=2))))"
   ]
  },
  {
   "cell_type": "code",
   "execution_count": 6,
   "metadata": {},
   "outputs": [
    {
     "name": "stdout",
     "output_type": "stream",
     "text": [
      "{'a': 1, 'b': 2}\n",
      "{'a': 2}\n",
      "{'a': {'b': 2, 'c': 3}}\n",
      "{'a': {'b': 3}}\n"
     ]
    }
   ],
   "source": [
    "print(config.merge_dicts({'a': 1}, {'b': 2}))\n",
    "print(config.merge_dicts({'a': 1}, {'a': 2}))\n",
    "print(config.merge_dicts({'a': {'b': 2}}, {'a': {'c': 3}}))\n",
    "print(config.merge_dicts({'a': {'b': 2}}, {'a': {'b': 3}}))"
   ]
  },
  {
   "cell_type": "code",
   "execution_count": 7,
   "metadata": {},
   "outputs": [
    {
     "name": "stdout",
     "output_type": "stream",
     "text": [
      "{'a': 1, 'b': 2}\n",
      "{'a': 1, 'b': 3}\n",
      "{'a': 1, 'b': 2, 'c': 4}\n"
     ]
    }
   ],
   "source": [
    "class H(config.Configured):\n",
    "    def __init__(self, a, b=2, **kwargs):\n",
    "        super().__init__(a=a, b=b, **kwargs)\n",
    "        \n",
    "print(H(1).config)\n",
    "print(H(1).copy(b=3).config)\n",
    "print(H(1).copy(c=4).config)"
   ]
  },
  {
   "cell_type": "markdown",
   "metadata": {},
   "source": [
    "## decorators"
   ]
  },
  {
   "cell_type": "code",
   "execution_count": 8,
   "metadata": {},
   "outputs": [
    {
     "name": "stdout",
     "output_type": "stream",
     "text": [
      "class\n",
      "instance\n"
     ]
    }
   ],
   "source": [
    "class G():\n",
    "    @decorators.class_or_instancemethod\n",
    "    def g(self_or_cls):\n",
    "        if isinstance(self_or_cls, type):\n",
    "            print(\"class\")\n",
    "        else:\n",
    "            print(\"instance\")\n",
    "            \n",
    "G.g()\n",
    "G().g()"
   ]
  },
  {
   "cell_type": "code",
   "execution_count": 9,
   "metadata": {},
   "outputs": [
    {
     "data": {
      "text/plain": [
       "{'hello': 'world', 'hello2': 'world2'}"
      ]
     },
     "execution_count": 9,
     "metadata": {},
     "output_type": "execute_result"
    }
   ],
   "source": [
    "class G():\n",
    "    @decorators.cached_property(hello=\"world\", hello2=\"world2\")\n",
    "    def cache_me(self): return np.random.uniform(size=(10000, 10000))\n",
    "    \n",
    "G.cache_me.kwargs"
   ]
  },
  {
   "cell_type": "code",
   "execution_count": 10,
   "metadata": {},
   "outputs": [],
   "source": [
    "g = G()"
   ]
  },
  {
   "cell_type": "code",
   "execution_count": 11,
   "metadata": {},
   "outputs": [
    {
     "name": "stdout",
     "output_type": "stream",
     "text": [
      "CPU times: user 1.3 s, sys: 276 ms, total: 1.58 s\n",
      "Wall time: 1.69 s\n",
      "CPU times: user 33 µs, sys: 1e+03 ns, total: 34 µs\n",
      "Wall time: 37.9 µs\n"
     ]
    }
   ],
   "source": [
    "%time _ = g.cache_me\n",
    "%time _ = g.cache_me"
   ]
  },
  {
   "cell_type": "code",
   "execution_count": 12,
   "metadata": {},
   "outputs": [
    {
     "data": {
      "text/plain": [
       "['__cached_cache_me',\n",
       " '__class__',\n",
       " '__delattr__',\n",
       " '__dict__',\n",
       " '__dir__',\n",
       " '__doc__',\n",
       " '__eq__',\n",
       " '__format__',\n",
       " '__ge__',\n",
       " '__getattribute__',\n",
       " '__gt__',\n",
       " '__hash__',\n",
       " '__init__',\n",
       " '__init_subclass__',\n",
       " '__le__',\n",
       " '__lt__',\n",
       " '__module__',\n",
       " '__ne__',\n",
       " '__new__',\n",
       " '__reduce__',\n",
       " '__reduce_ex__',\n",
       " '__repr__',\n",
       " '__setattr__',\n",
       " '__sizeof__',\n",
       " '__str__',\n",
       " '__subclasshook__',\n",
       " '__weakref__',\n",
       " 'cache_me']"
      ]
     },
     "execution_count": 12,
     "metadata": {},
     "output_type": "execute_result"
    }
   ],
   "source": [
    "dir(g)"
   ]
  },
  {
   "cell_type": "code",
   "execution_count": 13,
   "metadata": {},
   "outputs": [
    {
     "name": "stdout",
     "output_type": "stream",
     "text": [
      "CPU times: user 1.37 s, sys: 439 ms, total: 1.81 s\n",
      "Wall time: 2.6 s\n",
      "CPU times: user 67 µs, sys: 231 µs, total: 298 µs\n",
      "Wall time: 304 µs\n"
     ]
    }
   ],
   "source": [
    "G.cache_me.clear_cache(g)\n",
    "%time _ = g.cache_me\n",
    "%time _ = g.cache_me"
   ]
  },
  {
   "cell_type": "code",
   "execution_count": 14,
   "metadata": {},
   "outputs": [
    {
     "name": "stdout",
     "output_type": "stream",
     "text": [
      "CPU times: user 1.23 s, sys: 350 ms, total: 1.58 s\n",
      "Wall time: 1.64 s\n",
      "CPU times: user 424 µs, sys: 565 µs, total: 989 µs\n",
      "Wall time: 6.65 ms\n"
     ]
    }
   ],
   "source": [
    "G.cache_me.clear_cache(g)\n",
    "G.cache_me.disabled = True\n",
    "%time _ = g.cache_me\n",
    "%time _ = g.cache_me\n",
    "G.cache_me.disabled = False"
   ]
  },
  {
   "cell_type": "code",
   "execution_count": 15,
   "metadata": {},
   "outputs": [
    {
     "name": "stdout",
     "output_type": "stream",
     "text": [
      "CPU times: user 1.28 s, sys: 311 ms, total: 1.59 s\n",
      "Wall time: 1.74 s\n",
      "CPU times: user 1.28 s, sys: 325 ms, total: 1.6 s\n",
      "Wall time: 1.73 s\n"
     ]
    }
   ],
   "source": [
    "G.cache_me.clear_cache(g)\n",
    "vbt.settings.caching['blacklist'].append((g, 'cache_me'))\n",
    "%time _ = g.cache_me\n",
    "%time _ = g.cache_me\n",
    "vbt.settings.caching.reset()"
   ]
  },
  {
   "cell_type": "code",
   "execution_count": 16,
   "metadata": {},
   "outputs": [
    {
     "name": "stdout",
     "output_type": "stream",
     "text": [
      "CPU times: user 1.44 s, sys: 379 ms, total: 1.82 s\n",
      "Wall time: 2.38 s\n",
      "CPU times: user 1.3 s, sys: 340 ms, total: 1.64 s\n",
      "Wall time: 1.78 s\n"
     ]
    }
   ],
   "source": [
    "G.cache_me.clear_cache(g)\n",
    "vbt.settings.caching['blacklist'].append('cache_me')\n",
    "%time _ = g.cache_me\n",
    "%time _ = g.cache_me\n",
    "vbt.settings.caching.reset()"
   ]
  },
  {
   "cell_type": "code",
   "execution_count": 17,
   "metadata": {},
   "outputs": [
    {
     "name": "stdout",
     "output_type": "stream",
     "text": [
      "CPU times: user 1.24 s, sys: 311 ms, total: 1.55 s\n",
      "Wall time: 1.59 s\n",
      "CPU times: user 1.22 s, sys: 302 ms, total: 1.52 s\n",
      "Wall time: 1.56 s\n"
     ]
    }
   ],
   "source": [
    "G.cache_me.clear_cache(g)\n",
    "vbt.settings.caching['blacklist'].append(g)\n",
    "%time _ = g.cache_me\n",
    "%time _ = g.cache_me\n",
    "vbt.settings.caching.reset()"
   ]
  },
  {
   "cell_type": "code",
   "execution_count": 18,
   "metadata": {},
   "outputs": [
    {
     "name": "stdout",
     "output_type": "stream",
     "text": [
      "CPU times: user 1.23 s, sys: 296 ms, total: 1.52 s\n",
      "Wall time: 1.56 s\n",
      "CPU times: user 1.23 s, sys: 304 ms, total: 1.54 s\n",
      "Wall time: 1.58 s\n"
     ]
    }
   ],
   "source": [
    "G.cache_me.clear_cache(g)\n",
    "vbt.settings.caching['blacklist'].append(G)\n",
    "%time _ = g.cache_me\n",
    "%time _ = g.cache_me\n",
    "vbt.settings.caching.reset()"
   ]
  },
  {
   "cell_type": "code",
   "execution_count": 19,
   "metadata": {},
   "outputs": [
    {
     "name": "stdout",
     "output_type": "stream",
     "text": [
      "CPU times: user 1.24 s, sys: 312 ms, total: 1.55 s\n",
      "Wall time: 1.59 s\n",
      "CPU times: user 1.22 s, sys: 299 ms, total: 1.52 s\n",
      "Wall time: 1.55 s\n"
     ]
    }
   ],
   "source": [
    "G.cache_me.clear_cache(g)\n",
    "vbt.settings.caching['blacklist'].append('G')\n",
    "%time _ = g.cache_me\n",
    "%time _ = g.cache_me\n",
    "vbt.settings.caching.reset()"
   ]
  },
  {
   "cell_type": "code",
   "execution_count": 20,
   "metadata": {},
   "outputs": [
    {
     "name": "stdout",
     "output_type": "stream",
     "text": [
      "CPU times: user 1.24 s, sys: 308 ms, total: 1.55 s\n",
      "Wall time: 1.61 s\n",
      "CPU times: user 27 µs, sys: 0 ns, total: 27 µs\n",
      "Wall time: 30 µs\n"
     ]
    }
   ],
   "source": [
    "G.cache_me.clear_cache(g)\n",
    "vbt.settings.caching['blacklist'].append('g')\n",
    "%time _ = g.cache_me\n",
    "%time _ = g.cache_me\n",
    "vbt.settings.caching.reset()"
   ]
  },
  {
   "cell_type": "code",
   "execution_count": 21,
   "metadata": {},
   "outputs": [
    {
     "name": "stdout",
     "output_type": "stream",
     "text": [
      "CPU times: user 1.23 s, sys: 297 ms, total: 1.53 s\n",
      "Wall time: 1.56 s\n",
      "CPU times: user 1.21 s, sys: 290 ms, total: 1.5 s\n",
      "Wall time: 1.51 s\n"
     ]
    }
   ],
   "source": [
    "G.cache_me.clear_cache(g)\n",
    "vbt.settings.caching['blacklist'].append({'hello': 'world'})\n",
    "%time _ = g.cache_me\n",
    "%time _ = g.cache_me\n",
    "vbt.settings.caching.reset()"
   ]
  },
  {
   "cell_type": "code",
   "execution_count": 22,
   "metadata": {},
   "outputs": [
    {
     "name": "stdout",
     "output_type": "stream",
     "text": [
      "CPU times: user 1.22 s, sys: 295 ms, total: 1.51 s\n",
      "Wall time: 1.54 s\n",
      "CPU times: user 1.21 s, sys: 298 ms, total: 1.51 s\n",
      "Wall time: 1.53 s\n"
     ]
    }
   ],
   "source": [
    "G.cache_me.clear_cache(g)\n",
    "vbt.settings.caching['blacklist'].append({'hello': 'world', 'hello2': 'world2'})\n",
    "%time _ = g.cache_me\n",
    "%time _ = g.cache_me\n",
    "vbt.settings.caching.reset()"
   ]
  },
  {
   "cell_type": "code",
   "execution_count": 23,
   "metadata": {},
   "outputs": [
    {
     "name": "stdout",
     "output_type": "stream",
     "text": [
      "CPU times: user 1.22 s, sys: 294 ms, total: 1.51 s\n",
      "Wall time: 1.54 s\n",
      "CPU times: user 30 µs, sys: 0 ns, total: 30 µs\n",
      "Wall time: 31.9 µs\n"
     ]
    }
   ],
   "source": [
    "G.cache_me.clear_cache(g)\n",
    "vbt.settings.caching['blacklist'].append({'hello': 'world', 'hello2': 'world2', 'hello3': 'world3'})\n",
    "%time _ = g.cache_me\n",
    "%time _ = g.cache_me\n",
    "vbt.settings.caching.reset()"
   ]
  },
  {
   "cell_type": "code",
   "execution_count": 24,
   "metadata": {},
   "outputs": [
    {
     "name": "stdout",
     "output_type": "stream",
     "text": [
      "CPU times: user 1.22 s, sys: 294 ms, total: 1.52 s\n",
      "Wall time: 1.54 s\n",
      "CPU times: user 1.23 s, sys: 304 ms, total: 1.53 s\n",
      "Wall time: 1.57 s\n"
     ]
    }
   ],
   "source": [
    "G.cache_me.clear_cache(g)\n",
    "vbt.settings.caching['enabled'] = False\n",
    "%time _ = g.cache_me\n",
    "%time _ = g.cache_me\n",
    "vbt.settings.caching.reset()"
   ]
  },
  {
   "cell_type": "code",
   "execution_count": 25,
   "metadata": {},
   "outputs": [
    {
     "name": "stdout",
     "output_type": "stream",
     "text": [
      "CPU times: user 1.21 s, sys: 281 ms, total: 1.49 s\n",
      "Wall time: 1.5 s\n",
      "CPU times: user 37 µs, sys: 0 ns, total: 37 µs\n",
      "Wall time: 38.9 µs\n"
     ]
    }
   ],
   "source": [
    "G.cache_me.clear_cache(g)\n",
    "vbt.settings.caching['enabled'] = False\n",
    "vbt.settings.caching['whitelist'].append((g, 'cache_me'))\n",
    "%time _ = g.cache_me\n",
    "%time _ = g.cache_me\n",
    "vbt.settings.caching.reset()"
   ]
  },
  {
   "cell_type": "code",
   "execution_count": 26,
   "metadata": {},
   "outputs": [
    {
     "name": "stdout",
     "output_type": "stream",
     "text": [
      "CPU times: user 1.21 s, sys: 288 ms, total: 1.49 s\n",
      "Wall time: 1.52 s\n",
      "CPU times: user 26 µs, sys: 0 ns, total: 26 µs\n",
      "Wall time: 29.3 µs\n"
     ]
    }
   ],
   "source": [
    "G.cache_me.clear_cache(g)\n",
    "vbt.settings.caching['enabled'] = False\n",
    "vbt.settings.caching['whitelist'].append('cache_me')\n",
    "%time _ = g.cache_me\n",
    "%time _ = g.cache_me\n",
    "vbt.settings.caching.reset()"
   ]
  },
  {
   "cell_type": "code",
   "execution_count": 27,
   "metadata": {},
   "outputs": [
    {
     "name": "stdout",
     "output_type": "stream",
     "text": [
      "CPU times: user 1.21 s, sys: 286 ms, total: 1.5 s\n",
      "Wall time: 1.51 s\n",
      "CPU times: user 26 µs, sys: 1 µs, total: 27 µs\n",
      "Wall time: 29.1 µs\n"
     ]
    }
   ],
   "source": [
    "G.cache_me.clear_cache(g)\n",
    "vbt.settings.caching['enabled'] = False\n",
    "vbt.settings.caching['whitelist'].append(g)\n",
    "%time _ = g.cache_me\n",
    "%time _ = g.cache_me\n",
    "vbt.settings.caching.reset()"
   ]
  },
  {
   "cell_type": "code",
   "execution_count": 28,
   "metadata": {},
   "outputs": [
    {
     "name": "stdout",
     "output_type": "stream",
     "text": [
      "CPU times: user 1.21 s, sys: 288 ms, total: 1.49 s\n",
      "Wall time: 1.5 s\n",
      "CPU times: user 27 µs, sys: 1e+03 ns, total: 28 µs\n",
      "Wall time: 30 µs\n"
     ]
    }
   ],
   "source": [
    "G.cache_me.clear_cache(g)\n",
    "vbt.settings.caching['enabled'] = False\n",
    "vbt.settings.caching['whitelist'].append(G)\n",
    "%time _ = g.cache_me\n",
    "%time _ = g.cache_me\n",
    "vbt.settings.caching.reset()"
   ]
  },
  {
   "cell_type": "code",
   "execution_count": 29,
   "metadata": {},
   "outputs": [
    {
     "name": "stdout",
     "output_type": "stream",
     "text": [
      "CPU times: user 1.21 s, sys: 292 ms, total: 1.5 s\n",
      "Wall time: 1.52 s\n",
      "CPU times: user 27 µs, sys: 1e+03 ns, total: 28 µs\n",
      "Wall time: 30 µs\n"
     ]
    }
   ],
   "source": [
    "G.cache_me.clear_cache(g)\n",
    "vbt.settings.caching['enabled'] = False\n",
    "vbt.settings.caching['whitelist'].append('G')\n",
    "%time _ = g.cache_me\n",
    "%time _ = g.cache_me\n",
    "vbt.settings.caching.reset()"
   ]
  },
  {
   "cell_type": "code",
   "execution_count": 30,
   "metadata": {},
   "outputs": [
    {
     "name": "stdout",
     "output_type": "stream",
     "text": [
      "CPU times: user 1.21 s, sys: 296 ms, total: 1.51 s\n",
      "Wall time: 1.53 s\n",
      "CPU times: user 28 µs, sys: 1e+03 ns, total: 29 µs\n",
      "Wall time: 31 µs\n"
     ]
    }
   ],
   "source": [
    "G.cache_me.clear_cache(g)\n",
    "vbt.settings.caching['enabled'] = False\n",
    "vbt.settings.caching['whitelist'].append({'hello': 'world'})\n",
    "%time _ = g.cache_me\n",
    "%time _ = g.cache_me\n",
    "vbt.settings.caching.reset()"
   ]
  },
  {
   "cell_type": "code",
   "execution_count": 31,
   "metadata": {},
   "outputs": [
    {
     "data": {
      "text/plain": [
       "{'hello': 'world', 'hello2': 'world2'}"
      ]
     },
     "execution_count": 31,
     "metadata": {},
     "output_type": "execute_result"
    }
   ],
   "source": [
    "class G():\n",
    "    @decorators.cached_method(hello=\"world\", hello2=\"world2\")\n",
    "    def cache_me(self, a): return np.random.uniform(size=(10000, 10000)) * a\n",
    "\n",
    "G.cache_me.kwargs"
   ]
  },
  {
   "cell_type": "code",
   "execution_count": 32,
   "metadata": {},
   "outputs": [],
   "source": [
    "g = G()"
   ]
  },
  {
   "cell_type": "code",
   "execution_count": 33,
   "metadata": {},
   "outputs": [
    {
     "name": "stdout",
     "output_type": "stream",
     "text": [
      "CPU times: user 1.31 s, sys: 295 ms, total: 1.61 s\n",
      "Wall time: 1.64 s\n",
      "CPU times: user 34 µs, sys: 1e+03 ns, total: 35 µs\n",
      "Wall time: 37.2 µs\n"
     ]
    }
   ],
   "source": [
    "%time _ = g.cache_me(2)\n",
    "%time _ = g.cache_me(2)"
   ]
  },
  {
   "cell_type": "code",
   "execution_count": 34,
   "metadata": {},
   "outputs": [
    {
     "data": {
      "text/plain": [
       "['__cached_cache_me',\n",
       " '__class__',\n",
       " '__delattr__',\n",
       " '__dict__',\n",
       " '__dir__',\n",
       " '__doc__',\n",
       " '__eq__',\n",
       " '__format__',\n",
       " '__ge__',\n",
       " '__getattribute__',\n",
       " '__gt__',\n",
       " '__hash__',\n",
       " '__init__',\n",
       " '__init_subclass__',\n",
       " '__le__',\n",
       " '__lt__',\n",
       " '__module__',\n",
       " '__ne__',\n",
       " '__new__',\n",
       " '__reduce__',\n",
       " '__reduce_ex__',\n",
       " '__repr__',\n",
       " '__setattr__',\n",
       " '__sizeof__',\n",
       " '__str__',\n",
       " '__subclasshook__',\n",
       " '__weakref__',\n",
       " 'cache_me']"
      ]
     },
     "execution_count": 34,
     "metadata": {},
     "output_type": "execute_result"
    }
   ],
   "source": [
    "dir(g)"
   ]
  },
  {
   "cell_type": "code",
   "execution_count": 35,
   "metadata": {},
   "outputs": [
    {
     "name": "stdout",
     "output_type": "stream",
     "text": [
      "CPU times: user 1.31 s, sys: 294 ms, total: 1.61 s\n",
      "Wall time: 1.63 s\n"
     ]
    }
   ],
   "source": [
    "G.cache_me.clear_cache(g)\n",
    "%time _ = g.cache_me(2)"
   ]
  },
  {
   "cell_type": "code",
   "execution_count": 36,
   "metadata": {},
   "outputs": [
    {
     "name": "stdout",
     "output_type": "stream",
     "text": [
      "CPU times: user 1.3 s, sys: 289 ms, total: 1.59 s\n",
      "Wall time: 1.61 s\n",
      "CPU times: user 34 µs, sys: 1 µs, total: 35 µs\n",
      "Wall time: 36 µs\n"
     ]
    }
   ],
   "source": [
    "G.cache_me.clear_cache(g)\n",
    "G.cache_me.disabled = True\n",
    "%time _ = g.cache_me(2)\n",
    "%time _ = g.cache_me(2)\n",
    "G.cache_me.disabled = False"
   ]
  },
  {
   "cell_type": "code",
   "execution_count": 37,
   "metadata": {},
   "outputs": [
    {
     "name": "stdout",
     "output_type": "stream",
     "text": [
      "CPU times: user 1.31 s, sys: 285 ms, total: 1.6 s\n",
      "Wall time: 1.62 s\n",
      "CPU times: user 1.31 s, sys: 281 ms, total: 1.59 s\n",
      "Wall time: 1.6 s\n"
     ]
    }
   ],
   "source": [
    "G.cache_me.clear_cache(g)\n",
    "vbt.settings.caching['blacklist'].append(g.cache_me)\n",
    "%time _ = g.cache_me(2)\n",
    "%time _ = g.cache_me(2)\n",
    "vbt.settings.caching.reset()"
   ]
  },
  {
   "cell_type": "code",
   "execution_count": 38,
   "metadata": {},
   "outputs": [
    {
     "name": "stdout",
     "output_type": "stream",
     "text": [
      "CPU times: user 1.32 s, sys: 292 ms, total: 1.61 s\n",
      "Wall time: 1.62 s\n",
      "CPU times: user 1.3 s, sys: 281 ms, total: 1.58 s\n",
      "Wall time: 1.59 s\n"
     ]
    }
   ],
   "source": [
    "G.cache_me.clear_cache(g)\n",
    "vbt.settings.caching['blacklist'].append((g, 'cache_me'))\n",
    "%time _ = g.cache_me(2)\n",
    "%time _ = g.cache_me(2)\n",
    "vbt.settings.caching.reset()"
   ]
  },
  {
   "cell_type": "code",
   "execution_count": 39,
   "metadata": {},
   "outputs": [
    {
     "name": "stdout",
     "output_type": "stream",
     "text": [
      "CPU times: user 1.31 s, sys: 294 ms, total: 1.61 s\n",
      "Wall time: 1.62 s\n",
      "CPU times: user 1.36 s, sys: 297 ms, total: 1.66 s\n",
      "Wall time: 1.7 s\n"
     ]
    }
   ],
   "source": [
    "G.cache_me.clear_cache(g)\n",
    "vbt.settings.caching['blacklist'].append('cache_me')\n",
    "%time _ = g.cache_me(2)\n",
    "%time _ = g.cache_me(2)\n",
    "vbt.settings.caching.reset()"
   ]
  },
  {
   "cell_type": "code",
   "execution_count": 40,
   "metadata": {},
   "outputs": [
    {
     "name": "stdout",
     "output_type": "stream",
     "text": [
      "CPU times: user 1.35 s, sys: 303 ms, total: 1.65 s\n",
      "Wall time: 1.69 s\n",
      "CPU times: user 1.3 s, sys: 286 ms, total: 1.59 s\n",
      "Wall time: 1.6 s\n"
     ]
    }
   ],
   "source": [
    "G.cache_me.clear_cache(g)\n",
    "vbt.settings.caching['blacklist'].append(g)\n",
    "%time _ = g.cache_me(2)\n",
    "%time _ = g.cache_me(2)\n",
    "vbt.settings.caching.reset()"
   ]
  },
  {
   "cell_type": "code",
   "execution_count": 41,
   "metadata": {},
   "outputs": [
    {
     "name": "stdout",
     "output_type": "stream",
     "text": [
      "CPU times: user 1.36 s, sys: 300 ms, total: 1.66 s\n",
      "Wall time: 1.69 s\n",
      "CPU times: user 1.3 s, sys: 281 ms, total: 1.58 s\n",
      "Wall time: 1.59 s\n"
     ]
    }
   ],
   "source": [
    "G.cache_me.clear_cache(g)\n",
    "vbt.settings.caching['blacklist'].append(G)\n",
    "%time _ = g.cache_me(2)\n",
    "%time _ = g.cache_me(2)\n",
    "vbt.settings.caching.reset()"
   ]
  },
  {
   "cell_type": "code",
   "execution_count": 42,
   "metadata": {},
   "outputs": [
    {
     "name": "stdout",
     "output_type": "stream",
     "text": [
      "CPU times: user 1.31 s, sys: 285 ms, total: 1.59 s\n",
      "Wall time: 1.61 s\n",
      "CPU times: user 1.31 s, sys: 284 ms, total: 1.59 s\n",
      "Wall time: 1.61 s\n"
     ]
    }
   ],
   "source": [
    "G.cache_me.clear_cache(g)\n",
    "vbt.settings.caching['blacklist'].append('G')\n",
    "%time _ = g.cache_me(2)\n",
    "%time _ = g.cache_me(2)\n",
    "vbt.settings.caching.reset()"
   ]
  },
  {
   "cell_type": "code",
   "execution_count": 43,
   "metadata": {},
   "outputs": [
    {
     "name": "stdout",
     "output_type": "stream",
     "text": [
      "CPU times: user 1.32 s, sys: 302 ms, total: 1.62 s\n",
      "Wall time: 1.65 s\n",
      "CPU times: user 35 µs, sys: 0 ns, total: 35 µs\n",
      "Wall time: 37.9 µs\n"
     ]
    }
   ],
   "source": [
    "G.cache_me.clear_cache(g)\n",
    "vbt.settings.caching['blacklist'].append('g')\n",
    "%time _ = g.cache_me(2)\n",
    "%time _ = g.cache_me(2)\n",
    "vbt.settings.caching.reset()"
   ]
  },
  {
   "cell_type": "code",
   "execution_count": 44,
   "metadata": {},
   "outputs": [
    {
     "name": "stdout",
     "output_type": "stream",
     "text": [
      "CPU times: user 1.32 s, sys: 287 ms, total: 1.6 s\n",
      "Wall time: 1.62 s\n",
      "CPU times: user 1.32 s, sys: 289 ms, total: 1.6 s\n",
      "Wall time: 1.62 s\n"
     ]
    }
   ],
   "source": [
    "G.cache_me.clear_cache(g)\n",
    "vbt.settings.caching['blacklist'].append({'hello': 'world'})\n",
    "%time _ = g.cache_me(2)\n",
    "%time _ = g.cache_me(2)\n",
    "vbt.settings.caching.reset()"
   ]
  },
  {
   "cell_type": "code",
   "execution_count": 45,
   "metadata": {},
   "outputs": [
    {
     "name": "stdout",
     "output_type": "stream",
     "text": [
      "CPU times: user 1.3 s, sys: 288 ms, total: 1.59 s\n",
      "Wall time: 1.6 s\n",
      "CPU times: user 1.3 s, sys: 278 ms, total: 1.58 s\n",
      "Wall time: 1.59 s\n"
     ]
    }
   ],
   "source": [
    "G.cache_me.clear_cache(g)\n",
    "vbt.settings.caching['blacklist'].append({'hello': 'world', 'hello2': 'world2'})\n",
    "%time _ = g.cache_me(2)\n",
    "%time _ = g.cache_me(2)\n",
    "vbt.settings.caching.reset()"
   ]
  },
  {
   "cell_type": "code",
   "execution_count": 46,
   "metadata": {},
   "outputs": [
    {
     "name": "stdout",
     "output_type": "stream",
     "text": [
      "CPU times: user 1.31 s, sys: 287 ms, total: 1.59 s\n",
      "Wall time: 1.62 s\n",
      "CPU times: user 36 µs, sys: 1 µs, total: 37 µs\n",
      "Wall time: 39.1 µs\n"
     ]
    }
   ],
   "source": [
    "G.cache_me.clear_cache(g)\n",
    "vbt.settings.caching['blacklist'].append({'hello': 'world', 'hello2': 'world2', 'hello3': 'world3'})\n",
    "%time _ = g.cache_me(2)\n",
    "%time _ = g.cache_me(2)\n",
    "vbt.settings.caching.reset()"
   ]
  },
  {
   "cell_type": "code",
   "execution_count": 47,
   "metadata": {},
   "outputs": [
    {
     "name": "stdout",
     "output_type": "stream",
     "text": [
      "CPU times: user 1.31 s, sys: 294 ms, total: 1.6 s\n",
      "Wall time: 1.61 s\n",
      "CPU times: user 1.32 s, sys: 291 ms, total: 1.61 s\n",
      "Wall time: 1.62 s\n"
     ]
    }
   ],
   "source": [
    "G.cache_me.clear_cache(g)\n",
    "vbt.settings.caching['enabled'] = False\n",
    "%time _ = g.cache_me(2)\n",
    "%time _ = g.cache_me(2)\n",
    "vbt.settings.caching.reset()"
   ]
  },
  {
   "cell_type": "code",
   "execution_count": 48,
   "metadata": {},
   "outputs": [
    {
     "name": "stdout",
     "output_type": "stream",
     "text": [
      "CPU times: user 1.31 s, sys: 289 ms, total: 1.6 s\n",
      "Wall time: 1.62 s\n",
      "CPU times: user 35 µs, sys: 0 ns, total: 35 µs\n",
      "Wall time: 37 µs\n"
     ]
    }
   ],
   "source": [
    "G.cache_me.clear_cache(g)\n",
    "vbt.settings.caching['enabled'] = False\n",
    "vbt.settings.caching['whitelist'].append((g, 'cache_me'))\n",
    "%time _ = g.cache_me(2)\n",
    "%time _ = g.cache_me(2)\n",
    "vbt.settings.caching.reset()"
   ]
  },
  {
   "cell_type": "code",
   "execution_count": 49,
   "metadata": {},
   "outputs": [
    {
     "name": "stdout",
     "output_type": "stream",
     "text": [
      "CPU times: user 1.31 s, sys: 288 ms, total: 1.6 s\n",
      "Wall time: 1.61 s\n",
      "CPU times: user 35 µs, sys: 0 ns, total: 35 µs\n",
      "Wall time: 37.9 µs\n"
     ]
    }
   ],
   "source": [
    "G.cache_me.clear_cache(g)\n",
    "vbt.settings.caching['enabled'] = False\n",
    "vbt.settings.caching['whitelist'].append('cache_me')\n",
    "%time _ = g.cache_me(2)\n",
    "%time _ = g.cache_me(2)\n",
    "vbt.settings.caching.reset()"
   ]
  },
  {
   "cell_type": "code",
   "execution_count": 50,
   "metadata": {},
   "outputs": [
    {
     "name": "stdout",
     "output_type": "stream",
     "text": [
      "CPU times: user 1.31 s, sys: 283 ms, total: 1.6 s\n",
      "Wall time: 1.62 s\n",
      "CPU times: user 35 µs, sys: 0 ns, total: 35 µs\n",
      "Wall time: 37 µs\n"
     ]
    }
   ],
   "source": [
    "G.cache_me.clear_cache(g)\n",
    "vbt.settings.caching['enabled'] = False\n",
    "vbt.settings.caching['whitelist'].append(g)\n",
    "%time _ = g.cache_me(2)\n",
    "%time _ = g.cache_me(2)\n",
    "vbt.settings.caching.reset()"
   ]
  },
  {
   "cell_type": "code",
   "execution_count": 51,
   "metadata": {},
   "outputs": [
    {
     "name": "stdout",
     "output_type": "stream",
     "text": [
      "CPU times: user 1.31 s, sys: 289 ms, total: 1.6 s\n",
      "Wall time: 1.62 s\n",
      "CPU times: user 35 µs, sys: 1e+03 ns, total: 36 µs\n",
      "Wall time: 37.2 µs\n"
     ]
    }
   ],
   "source": [
    "G.cache_me.clear_cache(g)\n",
    "vbt.settings.caching['enabled'] = False\n",
    "vbt.settings.caching['whitelist'].append(G)\n",
    "%time _ = g.cache_me(2)\n",
    "%time _ = g.cache_me(2)\n",
    "vbt.settings.caching.reset()"
   ]
  },
  {
   "cell_type": "code",
   "execution_count": 52,
   "metadata": {},
   "outputs": [
    {
     "name": "stdout",
     "output_type": "stream",
     "text": [
      "CPU times: user 1.31 s, sys: 282 ms, total: 1.59 s\n",
      "Wall time: 1.63 s\n",
      "CPU times: user 36 µs, sys: 1 µs, total: 37 µs\n",
      "Wall time: 37.9 µs\n"
     ]
    }
   ],
   "source": [
    "G.cache_me.clear_cache(g)\n",
    "vbt.settings.caching['enabled'] = False\n",
    "vbt.settings.caching['whitelist'].append('G')\n",
    "%time _ = g.cache_me(2)\n",
    "%time _ = g.cache_me(2)\n",
    "vbt.settings.caching.reset()"
   ]
  },
  {
   "cell_type": "code",
   "execution_count": 53,
   "metadata": {},
   "outputs": [
    {
     "name": "stdout",
     "output_type": "stream",
     "text": [
      "CPU times: user 1.31 s, sys: 299 ms, total: 1.61 s\n",
      "Wall time: 1.64 s\n",
      "CPU times: user 37 µs, sys: 0 ns, total: 37 µs\n",
      "Wall time: 40.1 µs\n"
     ]
    }
   ],
   "source": [
    "G.cache_me.clear_cache(g)\n",
    "vbt.settings.caching['enabled'] = False\n",
    "vbt.settings.caching['whitelist'].append({'hello': 'world'})\n",
    "%time _ = g.cache_me(2)\n",
    "%time _ = g.cache_me(2)\n",
    "vbt.settings.caching.reset()"
   ]
  },
  {
   "cell_type": "code",
   "execution_count": 54,
   "metadata": {},
   "outputs": [
    {
     "name": "stdout",
     "output_type": "stream",
     "text": [
      "CPU times: user 1.32 s, sys: 228 ms, total: 1.55 s\n",
      "Wall time: 1.57 s\n",
      "CPU times: user 1.7 s, sys: 869 ms, total: 2.56 s\n",
      "Wall time: 3.55 s\n"
     ]
    }
   ],
   "source": [
    "# Non-hashable arguments won't cache\n",
    "%time _ = g.cache_me(np.asarray(2))\n",
    "%time _ = g.cache_me(np.asarray(2))"
   ]
  },
  {
   "cell_type": "code",
   "execution_count": 55,
   "metadata": {},
   "outputs": [],
   "source": [
    "class A:\n",
    "    @decorators.custom_property(some_key=0)\n",
    "    def a(self): pass\n",
    "\n",
    "class B:\n",
    "    @decorators.cached_property(some_key=0, child_cls=A)\n",
    "    def a(self): pass\n",
    "    \n",
    "    @decorators.custom_method(some_key=1)\n",
    "    def b(self): pass\n",
    "    \n",
    "class C:\n",
    "    @decorators.cached_method(some_key=0, child_cls=B)\n",
    "    def b(self): pass\n",
    "    \n",
    "    @decorators.custom_property(some_key=1)\n",
    "    def c(self): pass"
   ]
  },
  {
   "cell_type": "code",
   "execution_count": 56,
   "metadata": {},
   "outputs": [
    {
     "data": {
      "text/plain": [
       "\"{'b': {'some_key': 0, 'child_cls': <class '__main__.B'>, 'child_attrs': {'a': {'some_key': 0, 'child_cls': <class '__main__.A'>, 'child_attrs': {'a': {'some_key': 0}}}, 'b': {'some_key': 1}}}, 'c': {'some_key': 1}}\""
      ]
     },
     "execution_count": 56,
     "metadata": {},
     "output_type": "execute_result"
    }
   ],
   "source": [
    "str(decorators.traverse_attr_kwargs(C))"
   ]
  },
  {
   "cell_type": "code",
   "execution_count": 57,
   "metadata": {},
   "outputs": [
    {
     "data": {
      "text/plain": [
       "{'b': {'some_key': 0,\n",
       "  'child_cls': __main__.B,\n",
       "  'child_attrs': {'a': {'some_key': 0,\n",
       "    'child_cls': __main__.A,\n",
       "    'child_attrs': {'a': {'some_key': 0}}},\n",
       "   'b': {'some_key': 1}}},\n",
       " 'c': {'some_key': 1}}"
      ]
     },
     "execution_count": 57,
     "metadata": {},
     "output_type": "execute_result"
    }
   ],
   "source": [
    "decorators.traverse_attr_kwargs(C, key='some_key')"
   ]
  },
  {
   "cell_type": "code",
   "execution_count": 58,
   "metadata": {},
   "outputs": [
    {
     "data": {
      "text/plain": [
       "{'b': {'some_key': 0,\n",
       "  'child_cls': __main__.B,\n",
       "  'child_attrs': {'a': {'some_key': 0,\n",
       "    'child_cls': __main__.A,\n",
       "    'child_attrs': {}},\n",
       "   'b': {'some_key': 1}}},\n",
       " 'c': {'some_key': 1}}"
      ]
     },
     "execution_count": 58,
     "metadata": {},
     "output_type": "execute_result"
    }
   ],
   "source": [
    "decorators.traverse_attr_kwargs(C, key='some_key', value=1)"
   ]
  },
  {
   "cell_type": "code",
   "execution_count": 59,
   "metadata": {},
   "outputs": [
    {
     "data": {
      "text/plain": [
       "{'b': {'some_key': 0,\n",
       "  'child_cls': __main__.B,\n",
       "  'child_attrs': {'a': {'some_key': 0,\n",
       "    'child_cls': __main__.A,\n",
       "    'child_attrs': {'a': {'some_key': 0}}},\n",
       "   'b': {'some_key': 1}}},\n",
       " 'c': {'some_key': 1}}"
      ]
     },
     "execution_count": 59,
     "metadata": {},
     "output_type": "execute_result"
    }
   ],
   "source": [
    "decorators.traverse_attr_kwargs(C, key='some_key', value=(0, 1))"
   ]
  },
  {
   "cell_type": "markdown",
   "metadata": {},
   "source": [
    "## checks"
   ]
  },
  {
   "cell_type": "code",
   "execution_count": 60,
   "metadata": {},
   "outputs": [
    {
     "name": "stdout",
     "output_type": "stream",
     "text": [
      "False\n",
      "False\n",
      "True\n",
      "False\n"
     ]
    }
   ],
   "source": [
    "print(checks.is_series(v1))\n",
    "print(checks.is_series(a1))\n",
    "print(checks.is_series(sr1))\n",
    "print(checks.is_series(df1))"
   ]
  },
  {
   "cell_type": "code",
   "execution_count": 61,
   "metadata": {},
   "outputs": [
    {
     "name": "stdout",
     "output_type": "stream",
     "text": [
      "False\n",
      "False\n",
      "False\n",
      "True\n"
     ]
    }
   ],
   "source": [
    "print(checks.is_frame(v1))\n",
    "print(checks.is_frame(a1))\n",
    "print(checks.is_frame(sr1))\n",
    "print(checks.is_frame(df1))"
   ]
  },
  {
   "cell_type": "code",
   "execution_count": 62,
   "metadata": {},
   "outputs": [
    {
     "name": "stdout",
     "output_type": "stream",
     "text": [
      "False\n",
      "False\n",
      "True\n",
      "True\n"
     ]
    }
   ],
   "source": [
    "print(checks.is_pandas(v1))\n",
    "print(checks.is_pandas(a1))\n",
    "print(checks.is_pandas(sr1))\n",
    "print(checks.is_pandas(df1))"
   ]
  },
  {
   "cell_type": "code",
   "execution_count": 63,
   "metadata": {},
   "outputs": [
    {
     "name": "stdout",
     "output_type": "stream",
     "text": [
      "False\n",
      "True\n",
      "True\n",
      "True\n"
     ]
    }
   ],
   "source": [
    "print(checks.is_array(v1))\n",
    "print(checks.is_array(a1))\n",
    "print(checks.is_array(sr1))\n",
    "print(checks.is_array(df1))"
   ]
  },
  {
   "cell_type": "code",
   "execution_count": 64,
   "metadata": {},
   "outputs": [
    {
     "name": "stdout",
     "output_type": "stream",
     "text": [
      "False\n",
      "True\n"
     ]
    }
   ],
   "source": [
    "print(checks.is_numba_func(lambda x: x))\n",
    "print(checks.is_numba_func(njit(lambda x: x)))"
   ]
  },
  {
   "cell_type": "code",
   "execution_count": 65,
   "metadata": {},
   "outputs": [
    {
     "name": "stdout",
     "output_type": "stream",
     "text": [
      "True\n",
      "False\n"
     ]
    }
   ],
   "source": [
    "print(checks.is_hashable(2))\n",
    "print(checks.is_hashable(np.asarray(2)))"
   ]
  },
  {
   "cell_type": "code",
   "execution_count": 66,
   "metadata": {},
   "outputs": [],
   "source": [
    "checks.assert_in(0, (0, 1))"
   ]
  },
  {
   "cell_type": "code",
   "execution_count": 67,
   "metadata": {},
   "outputs": [],
   "source": [
    "checks.assert_numba_func(njit(lambda x: x))"
   ]
  },
  {
   "cell_type": "code",
   "execution_count": 68,
   "metadata": {},
   "outputs": [],
   "source": [
    "checks.assert_not_none(v1)"
   ]
  },
  {
   "cell_type": "code",
   "execution_count": 69,
   "metadata": {},
   "outputs": [],
   "source": [
    "checks.assert_type(v1, int)\n",
    "checks.assert_type(a1, np.ndarray)\n",
    "checks.assert_type(sr1, (np.ndarray, pd.Series))"
   ]
  },
  {
   "cell_type": "code",
   "execution_count": 70,
   "metadata": {},
   "outputs": [],
   "source": [
    "checks.assert_type_equal(v1, v1)\n",
    "checks.assert_type_equal(a1, a2)\n",
    "checks.assert_type_equal(sr1, sr1)\n",
    "checks.assert_type_equal(df1, df2)"
   ]
  },
  {
   "cell_type": "code",
   "execution_count": 71,
   "metadata": {},
   "outputs": [],
   "source": [
    "checks.assert_dtype(a1, np.int)"
   ]
  },
  {
   "cell_type": "code",
   "execution_count": 72,
   "metadata": {},
   "outputs": [],
   "source": [
    "checks.assert_dtype_equal(v1, a1)\n",
    "checks.assert_dtype_equal(a1, df1)\n",
    "checks.assert_dtype_equal(df1, df2)\n",
    "checks.assert_dtype_equal(df2, df3)"
   ]
  },
  {
   "cell_type": "code",
   "execution_count": 73,
   "metadata": {},
   "outputs": [],
   "source": [
    "checks.assert_ndim(v1, 0)\n",
    "checks.assert_ndim(a1, 1)\n",
    "checks.assert_ndim(df1, 2)"
   ]
  },
  {
   "cell_type": "code",
   "execution_count": 74,
   "metadata": {},
   "outputs": [],
   "source": [
    "checks.assert_len_equal([[1]], [[2]])"
   ]
  },
  {
   "cell_type": "code",
   "execution_count": 75,
   "metadata": {},
   "outputs": [],
   "source": [
    "checks.assert_shape_equal(a1, sr1)\n",
    "checks.assert_shape_equal(df2, df4, axis=0)\n",
    "checks.assert_shape_equal(df3, df4, axis=1)\n",
    "checks.assert_shape_equal(df2, df3, axis=(0, 1))"
   ]
  },
  {
   "cell_type": "code",
   "execution_count": 76,
   "metadata": {},
   "outputs": [],
   "source": [
    "checks.assert_index_equal(df3.index, df3.index)"
   ]
  },
  {
   "cell_type": "code",
   "execution_count": 77,
   "metadata": {},
   "outputs": [],
   "source": [
    "checks.assert_meta_equal(df3, df3)"
   ]
  },
  {
   "cell_type": "code",
   "execution_count": 78,
   "metadata": {},
   "outputs": [],
   "source": [
    "checks.assert_array_equal(df3, df3)"
   ]
  },
  {
   "cell_type": "code",
   "execution_count": 79,
   "metadata": {},
   "outputs": [],
   "source": [
    "checks.assert_level_not_exists(df3.columns, 'a')"
   ]
  },
  {
   "cell_type": "code",
   "execution_count": null,
   "metadata": {},
   "outputs": [],
   "source": []
  }
 ],
 "metadata": {
  "kernelspec": {
   "display_name": "Python 3",
   "language": "python",
   "name": "python3"
  },
  "language_info": {
   "codemirror_mode": {
    "name": "ipython",
    "version": 3
   },
   "file_extension": ".py",
   "mimetype": "text/x-python",
   "name": "python",
   "nbconvert_exporter": "python",
   "pygments_lexer": "ipython3",
   "version": "3.7.3"
  },
  "widgets": {
   "application/vnd.jupyter.widget-state+json": {
    "state": {},
    "version_major": 2,
    "version_minor": 0
   }
  }
 },
 "nbformat": 4,
 "nbformat_minor": 4
}
