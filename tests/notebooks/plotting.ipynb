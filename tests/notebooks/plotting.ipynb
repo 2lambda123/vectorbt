{
 "cells": [
  {
   "cell_type": "markdown",
   "metadata": {},
   "source": [
    "# plotting"
   ]
  },
  {
   "cell_type": "code",
   "execution_count": 1,
   "metadata": {},
   "outputs": [],
   "source": [
    "import vectorbt as vbt"
   ]
  },
  {
   "cell_type": "code",
   "execution_count": 2,
   "metadata": {
    "Collapsed": "false"
   },
   "outputs": [],
   "source": [
    "import numpy as np\n",
    "import pandas as pd\n",
    "from datetime import datetime\n",
    "from numba import njit, f8, i8, b1, optional\n",
    "import itertools\n",
    "import ipywidgets"
   ]
  },
  {
   "cell_type": "code",
   "execution_count": 3,
   "metadata": {},
   "outputs": [
    {
     "name": "stdout",
     "output_type": "stream",
     "text": [
      "(100, 100)\n"
     ]
    }
   ],
   "source": [
    "big_df = pd.DataFrame(np.random.uniform(size=(100, 100)).astype(float))\n",
    "big_df.columns = list(map(str, big_df.columns))\n",
    "print(big_df.shape)"
   ]
  },
  {
   "cell_type": "markdown",
   "metadata": {},
   "source": [
    "## Indicator"
   ]
  },
  {
   "cell_type": "code",
   "execution_count": 4,
   "metadata": {},
   "outputs": [
    {
     "data": {
      "application/vnd.jupyter.widget-view+json": {
       "model_id": "",
       "version_major": 2,
       "version_minor": 0
      },
      "text/plain": [
       "CustomFigureWidget({\n",
       "    'data': [{'domain': {'x': [0, 1], 'y': [0, 1]},\n",
       "              'gauge': {'axis': {'ran…"
      ]
     },
     "metadata": {},
     "output_type": "display_data"
    }
   ],
   "source": [
    "gauge_fig = vbt.base.plotting.create_indicator(value=0)\n",
    "gauge_fig"
   ]
  },
  {
   "cell_type": "code",
   "execution_count": 5,
   "metadata": {},
   "outputs": [],
   "source": [
    "value_range = (-1, 1)\n",
    "value_range = vbt.base.plotting.update_indicator_data(gauge_fig, 1, value_range=value_range)\n",
    "value_range = vbt.base.plotting.update_indicator_data(gauge_fig, 0.5, value_range=value_range)"
   ]
  },
  {
   "cell_type": "code",
   "execution_count": 6,
   "metadata": {},
   "outputs": [
    {
     "name": "stdout",
     "output_type": "stream",
     "text": [
      "56.7 ms ± 4.04 ms per loop (mean ± std. dev. of 7 runs, 10 loops each)\n",
      "885 µs ± 17.7 µs per loop (mean ± std. dev. of 7 runs, 1000 loops each)\n"
     ]
    }
   ],
   "source": [
    "%timeit vbt.base.plotting.create_indicator(value=0)\n",
    "\n",
    "big_fig = vbt.base.plotting.create_indicator(value=0)\n",
    "%timeit vbt.base.plotting.update_indicator_data(big_fig, 0)"
   ]
  },
  {
   "cell_type": "code",
   "execution_count": 7,
   "metadata": {},
   "outputs": [],
   "source": [
    "ipywidgets.Widget.close_all()"
   ]
  },
  {
   "cell_type": "markdown",
   "metadata": {},
   "source": [
    "## Bar"
   ]
  },
  {
   "cell_type": "code",
   "execution_count": 8,
   "metadata": {},
   "outputs": [
    {
     "data": {
      "application/vnd.jupyter.widget-view+json": {
       "model_id": "",
       "version_major": 2,
       "version_minor": 0
      },
      "text/plain": [
       "CustomFigureWidget({\n",
       "    'data': [{'name': 'a',\n",
       "              'showlegend': True,\n",
       "              'type': 'bar',…"
      ]
     },
     "metadata": {},
     "output_type": "display_data"
    }
   ],
   "source": [
    "bar_fig = pd.DataFrame([[1, 2], [3, 4]], columns=['a', 'b']).vbt.bar()\n",
    "bar_fig"
   ]
  },
  {
   "cell_type": "code",
   "execution_count": 9,
   "metadata": {},
   "outputs": [],
   "source": [
    "vbt.base.plotting.update_bar_data(bar_fig, [[5, 6], [7, 8]])"
   ]
  },
  {
   "cell_type": "code",
   "execution_count": 10,
   "metadata": {},
   "outputs": [
    {
     "data": {
      "application/vnd.jupyter.widget-view+json": {
       "model_id": "",
       "version_major": 2,
       "version_minor": 0
      },
      "text/plain": [
       "CustomFigureWidget({\n",
       "    'data': [{'name': 'a',\n",
       "              'showlegend': True,\n",
       "              'type': 'bar',…"
      ]
     },
     "metadata": {},
     "output_type": "display_data"
    }
   ],
   "source": [
    "bar_fig = pd.DataFrame([[1, 2], [3, 4]], columns=['a', 'b']).vbt.bar()\n",
    "bar_fig = pd.DataFrame([[5, 6], [7, 8]], columns=['c', 'd']).vbt.bar(fig=bar_fig)\n",
    "bar_fig"
   ]
  },
  {
   "cell_type": "code",
   "execution_count": 11,
   "metadata": {},
   "outputs": [],
   "source": [
    "vbt.base.plotting.update_bar_data(bar_fig, [[1, 2], [3, 4]], trace_idx=[2, 3])"
   ]
  },
  {
   "cell_type": "code",
   "execution_count": 12,
   "metadata": {},
   "outputs": [],
   "source": [
    "vbt.base.plotting.update_bar_data(bar_fig, [10, 11], trace_idx=3)"
   ]
  },
  {
   "cell_type": "code",
   "execution_count": 13,
   "metadata": {},
   "outputs": [
    {
     "name": "stdout",
     "output_type": "stream",
     "text": [
      "927 ms ± 196 ms per loop (mean ± std. dev. of 7 runs, 1 loop each)\n",
      "8.28 ms ± 737 µs per loop (mean ± std. dev. of 7 runs, 100 loops each)\n"
     ]
    }
   ],
   "source": [
    "%timeit pd.DataFrame(big_df).vbt.bar()\n",
    "\n",
    "big_fig = pd.DataFrame(big_df).vbt.bar()\n",
    "%timeit vbt.base.plotting.update_bar_data(big_fig, big_df.values * 2)"
   ]
  },
  {
   "cell_type": "code",
   "execution_count": 14,
   "metadata": {},
   "outputs": [],
   "source": [
    "ipywidgets.Widget.close_all()"
   ]
  },
  {
   "cell_type": "markdown",
   "metadata": {},
   "source": [
    "## Scatter"
   ]
  },
  {
   "cell_type": "code",
   "execution_count": 15,
   "metadata": {},
   "outputs": [
    {
     "data": {
      "application/vnd.jupyter.widget-view+json": {
       "model_id": "",
       "version_major": 2,
       "version_minor": 0
      },
      "text/plain": [
       "CustomFigureWidget({\n",
       "    'data': [{'name': 'a',\n",
       "              'showlegend': True,\n",
       "              'type': 'scatt…"
      ]
     },
     "metadata": {},
     "output_type": "display_data"
    }
   ],
   "source": [
    "scatter_fig = pd.DataFrame([[1, 2], [3, 4]], columns=['a', 'b']).vbt.scatter()\n",
    "scatter_fig"
   ]
  },
  {
   "cell_type": "code",
   "execution_count": 16,
   "metadata": {},
   "outputs": [],
   "source": [
    "vbt.base.plotting.update_scatter_data(scatter_fig, [[5, 6], [7, 8]])"
   ]
  },
  {
   "cell_type": "code",
   "execution_count": 17,
   "metadata": {},
   "outputs": [
    {
     "data": {
      "application/vnd.jupyter.widget-view+json": {
       "model_id": "",
       "version_major": 2,
       "version_minor": 0
      },
      "text/plain": [
       "CustomFigureWidget({\n",
       "    'data': [{'name': 'a',\n",
       "              'showlegend': True,\n",
       "              'type': 'scatt…"
      ]
     },
     "metadata": {},
     "output_type": "display_data"
    }
   ],
   "source": [
    "scatter_fig = pd.DataFrame([[1, 2], [3, 4]], columns=['a', 'b']).vbt.scatter()\n",
    "scatter_fig = pd.DataFrame([[5, 6], [7, 8]], columns=['c', 'd']).vbt.scatter(fig=scatter_fig)\n",
    "scatter_fig"
   ]
  },
  {
   "cell_type": "code",
   "execution_count": 18,
   "metadata": {},
   "outputs": [],
   "source": [
    "vbt.base.plotting.update_scatter_data(scatter_fig, [[1, 2], [3, 4]], trace_idx=[2, 3])"
   ]
  },
  {
   "cell_type": "code",
   "execution_count": 19,
   "metadata": {},
   "outputs": [],
   "source": [
    "vbt.base.plotting.update_scatter_data(scatter_fig, [10, 11], trace_idx=3)"
   ]
  },
  {
   "cell_type": "code",
   "execution_count": 20,
   "metadata": {},
   "outputs": [
    {
     "name": "stdout",
     "output_type": "stream",
     "text": [
      "557 ms ± 45 ms per loop (mean ± std. dev. of 7 runs, 1 loop each)\n",
      "5.28 ms ± 553 µs per loop (mean ± std. dev. of 7 runs, 100 loops each)\n"
     ]
    }
   ],
   "source": [
    "%timeit pd.DataFrame(big_df).vbt.scatter()\n",
    "\n",
    "big_fig = pd.DataFrame(big_df).vbt.scatter()\n",
    "%timeit vbt.base.plotting.update_scatter_data(big_fig, big_df.values * 2)"
   ]
  },
  {
   "cell_type": "code",
   "execution_count": 21,
   "metadata": {},
   "outputs": [],
   "source": [
    "ipywidgets.Widget.close_all()"
   ]
  },
  {
   "cell_type": "markdown",
   "metadata": {},
   "source": [
    "## Histogram"
   ]
  },
  {
   "cell_type": "code",
   "execution_count": 22,
   "metadata": {},
   "outputs": [
    {
     "data": {
      "application/vnd.jupyter.widget-view+json": {
       "model_id": "",
       "version_major": 2,
       "version_minor": 0
      },
      "text/plain": [
       "CustomFigureWidget({\n",
       "    'data': [{'name': 'a',\n",
       "              'opacity': 0.75,\n",
       "              'showlegend': Tru…"
      ]
     },
     "metadata": {},
     "output_type": "display_data"
    }
   ],
   "source": [
    "hist_fig = pd.DataFrame([[1, 2], [3, 4], [2, 1]], columns=['a', 'b']).vbt.hist()\n",
    "hist_fig"
   ]
  },
  {
   "cell_type": "code",
   "execution_count": 23,
   "metadata": {},
   "outputs": [],
   "source": [
    "vbt.base.plotting.update_hist_data(hist_fig, [[4, 9], [4, 5], [3, 0]])"
   ]
  },
  {
   "cell_type": "code",
   "execution_count": 24,
   "metadata": {},
   "outputs": [
    {
     "data": {
      "application/vnd.jupyter.widget-view+json": {
       "model_id": "",
       "version_major": 2,
       "version_minor": 0
      },
      "text/plain": [
       "CustomFigureWidget({\n",
       "    'data': [{'name': 'a',\n",
       "              'opacity': 0.75,\n",
       "              'showlegend': Tru…"
      ]
     },
     "metadata": {},
     "output_type": "display_data"
    }
   ],
   "source": [
    "hist_fig = pd.DataFrame([[1, 2], [3, 4], [2, 1]], columns=['a', 'b']).vbt.hist(horizontal=True)\n",
    "hist_fig"
   ]
  },
  {
   "cell_type": "code",
   "execution_count": 25,
   "metadata": {},
   "outputs": [
    {
     "data": {
      "application/vnd.jupyter.widget-view+json": {
       "model_id": "",
       "version_major": 2,
       "version_minor": 0
      },
      "text/plain": [
       "CustomFigureWidget({\n",
       "    'data': [{'name': 'a',\n",
       "              'opacity': 0.75,\n",
       "              'showlegend': Tru…"
      ]
     },
     "metadata": {},
     "output_type": "display_data"
    }
   ],
   "source": [
    "hist_fig = pd.DataFrame([[1, 2], [3, 4], [2, 1]], columns=['a', 'b']).vbt.hist()\n",
    "hist_fig = pd.DataFrame([[4, 9], [4, 5], [3, 0]], columns=['c', 'd']).vbt.hist(fig=hist_fig)\n",
    "hist_fig"
   ]
  },
  {
   "cell_type": "code",
   "execution_count": 26,
   "metadata": {},
   "outputs": [],
   "source": [
    "vbt.base.plotting.update_hist_data(hist_fig, [[1, 2], [3, 4], [2, 1]], trace_idx=[2, 3])"
   ]
  },
  {
   "cell_type": "code",
   "execution_count": 27,
   "metadata": {},
   "outputs": [],
   "source": [
    "vbt.base.plotting.update_hist_data(hist_fig, [10, 11, 12], trace_idx=3)"
   ]
  },
  {
   "cell_type": "code",
   "execution_count": 28,
   "metadata": {},
   "outputs": [
    {
     "name": "stdout",
     "output_type": "stream",
     "text": [
      "505 ms ± 22.5 ms per loop (mean ± std. dev. of 7 runs, 1 loop each)\n",
      "7.94 ms ± 722 µs per loop (mean ± std. dev. of 7 runs, 100 loops each)\n"
     ]
    }
   ],
   "source": [
    "%timeit pd.DataFrame(big_df).vbt.hist()\n",
    "\n",
    "big_fig = pd.DataFrame(big_df).vbt.hist()\n",
    "%timeit vbt.base.plotting.update_hist_data(big_fig, big_df.values * 2)"
   ]
  },
  {
   "cell_type": "code",
   "execution_count": 29,
   "metadata": {},
   "outputs": [],
   "source": [
    "ipywidgets.Widget.close_all()"
   ]
  },
  {
   "cell_type": "markdown",
   "metadata": {},
   "source": [
    "## Box"
   ]
  },
  {
   "cell_type": "code",
   "execution_count": 30,
   "metadata": {},
   "outputs": [
    {
     "data": {
      "application/vnd.jupyter.widget-view+json": {
       "model_id": "",
       "version_major": 2,
       "version_minor": 0
      },
      "text/plain": [
       "CustomFigureWidget({\n",
       "    'data': [{'name': 'a',\n",
       "              'showlegend': True,\n",
       "              'type': 'box',…"
      ]
     },
     "metadata": {},
     "output_type": "display_data"
    }
   ],
   "source": [
    "box_fig = pd.DataFrame([[1, 2], [3, 4], [2, 1]], columns=['a', 'b']).vbt.box()\n",
    "box_fig"
   ]
  },
  {
   "cell_type": "code",
   "execution_count": 31,
   "metadata": {},
   "outputs": [],
   "source": [
    "vbt.base.plotting.update_box_data(box_fig, [[4, 9], [4, 5], [3, 0]])"
   ]
  },
  {
   "cell_type": "code",
   "execution_count": 32,
   "metadata": {},
   "outputs": [
    {
     "data": {
      "application/vnd.jupyter.widget-view+json": {
       "model_id": "",
       "version_major": 2,
       "version_minor": 0
      },
      "text/plain": [
       "CustomFigureWidget({\n",
       "    'data': [{'name': 'a',\n",
       "              'showlegend': True,\n",
       "              'type': 'box',…"
      ]
     },
     "metadata": {},
     "output_type": "display_data"
    }
   ],
   "source": [
    "box_fig = pd.DataFrame([[1, 2], [3, 4], [2, 1]], columns=['a', 'b']).vbt.box(horizontal=True)\n",
    "box_fig"
   ]
  },
  {
   "cell_type": "code",
   "execution_count": 33,
   "metadata": {},
   "outputs": [
    {
     "data": {
      "application/vnd.jupyter.widget-view+json": {
       "model_id": "",
       "version_major": 2,
       "version_minor": 0
      },
      "text/plain": [
       "CustomFigureWidget({\n",
       "    'data': [{'name': 'a',\n",
       "              'showlegend': True,\n",
       "              'type': 'box',…"
      ]
     },
     "metadata": {},
     "output_type": "display_data"
    }
   ],
   "source": [
    "box_fig = pd.DataFrame([[1, 2], [3, 4], [2, 1]], columns=['a', 'b']).vbt.box()\n",
    "box_fig = pd.DataFrame([[4, 9], [4, 5], [3, 0]], columns=['c', 'd']).vbt.box(fig=box_fig)\n",
    "box_fig"
   ]
  },
  {
   "cell_type": "code",
   "execution_count": 34,
   "metadata": {},
   "outputs": [],
   "source": [
    "vbt.base.plotting.update_box_data(box_fig, [[1, 2], [3, 4], [2, 1]], trace_idx=[2, 3])"
   ]
  },
  {
   "cell_type": "code",
   "execution_count": 35,
   "metadata": {},
   "outputs": [],
   "source": [
    "vbt.base.plotting.update_box_data(box_fig, [10, 11, 12], trace_idx=3)"
   ]
  },
  {
   "cell_type": "code",
   "execution_count": 36,
   "metadata": {},
   "outputs": [
    {
     "name": "stdout",
     "output_type": "stream",
     "text": [
      "514 ms ± 29.2 ms per loop (mean ± std. dev. of 7 runs, 1 loop each)\n",
      "7.67 ms ± 515 µs per loop (mean ± std. dev. of 7 runs, 100 loops each)\n"
     ]
    }
   ],
   "source": [
    "%timeit pd.DataFrame(big_df).vbt.box()\n",
    "\n",
    "big_fig = pd.DataFrame(big_df).vbt.box()\n",
    "%timeit vbt.base.plotting.update_box_data(big_fig, big_df.values * 2)"
   ]
  },
  {
   "cell_type": "code",
   "execution_count": 37,
   "metadata": {},
   "outputs": [],
   "source": [
    "ipywidgets.Widget.close_all()"
   ]
  },
  {
   "cell_type": "markdown",
   "metadata": {},
   "source": [
    "## Heatmap"
   ]
  },
  {
   "cell_type": "code",
   "execution_count": 38,
   "metadata": {},
   "outputs": [
    {
     "data": {
      "application/vnd.jupyter.widget-view+json": {
       "model_id": "",
       "version_major": 2,
       "version_minor": 0
      },
      "text/plain": [
       "CustomFigureWidget({\n",
       "    'data': [{'colorscale': [[0.0, '#0d0887'], [0.1111111111111111, '#46039f'],\n",
       "         …"
      ]
     },
     "metadata": {},
     "output_type": "display_data"
    }
   ],
   "source": [
    "heatmap_fig = pd.DataFrame([[1, 2], [3, 4]], columns=['a', 'b'], index=['x', 'y']).vbt.heatmap()\n",
    "heatmap_fig"
   ]
  },
  {
   "cell_type": "code",
   "execution_count": 39,
   "metadata": {},
   "outputs": [],
   "source": [
    "vbt.base.plotting.update_heatmap_data(heatmap_fig, [[4, 3], [2, 1]])"
   ]
  },
  {
   "cell_type": "code",
   "execution_count": 40,
   "metadata": {},
   "outputs": [
    {
     "data": {
      "application/vnd.jupyter.widget-view+json": {
       "model_id": "",
       "version_major": 2,
       "version_minor": 0
      },
      "text/plain": [
       "CustomFigureWidget({\n",
       "    'data': [{'colorscale': [[0.0, '#0d0887'], [0.1111111111111111, '#46039f'],\n",
       "         …"
      ]
     },
     "metadata": {},
     "output_type": "display_data"
    }
   ],
   "source": [
    "heatmap_fig = pd.DataFrame([[1, 2], [3, 4]], columns=['a', 'b'], index=['x', 'y']).vbt.heatmap(horizontal=True)\n",
    "heatmap_fig"
   ]
  },
  {
   "cell_type": "code",
   "execution_count": 41,
   "metadata": {},
   "outputs": [
    {
     "data": {
      "application/vnd.jupyter.widget-view+json": {
       "model_id": "",
       "version_major": 2,
       "version_minor": 0
      },
      "text/plain": [
       "CustomFigureWidget({\n",
       "    'data': [{'colorscale': [[0.0, '#0d0887'], [0.1111111111111111, '#46039f'],\n",
       "         …"
      ]
     },
     "metadata": {},
     "output_type": "display_data"
    }
   ],
   "source": [
    "heatmap_fig = pd.DataFrame([[1, 2], [3, 4]], columns=['a', 'b'], index=['x', 'y']).vbt.heatmap(\n",
    "    trace_kwargs=dict(showscale=False)\n",
    ")\n",
    "heatmap_fig = pd.DataFrame([[4, 3], [2, 1]], columns=['c', 'd'], index=['w', 'z']).vbt.heatmap(fig=heatmap_fig)\n",
    "heatmap_fig"
   ]
  },
  {
   "cell_type": "code",
   "execution_count": 42,
   "metadata": {},
   "outputs": [],
   "source": [
    "vbt.base.plotting.update_heatmap_data(heatmap_fig, [[1, 2], [3, 4]], trace_idx=1)"
   ]
  },
  {
   "cell_type": "code",
   "execution_count": 43,
   "metadata": {},
   "outputs": [
    {
     "data": {
      "application/vnd.jupyter.widget-view+json": {
       "model_id": "",
       "version_major": 2,
       "version_minor": 0
      },
      "text/plain": [
       "CustomFigureWidget({\n",
       "    'data': [{'colorscale': [[0.0, '#0d0887'], [0.1111111111111111, '#46039f'],\n",
       "         …"
      ]
     },
     "metadata": {},
     "output_type": "display_data"
    }
   ],
   "source": [
    "heatmap_sr = pd.Series(\n",
    "    [1, 2, 3, 6, 5, 4], \n",
    "    index=vbt.base.index_fns.stack_indexes(\n",
    "        pd.Index(['i1', 'i2', 'i3', 'i1', 'i2', 'i3'], name='first'),\n",
    "        pd.Index(['i4', 'i5', 'i6', 'i4', 'i5', 'i6'], name='second'),\n",
    "        pd.Index(['i7', 'i7', 'i7', 'i8', 'i8', 'i8'], name='third')\n",
    "    )\n",
    ")\n",
    "heatmap_fig = heatmap_sr.vbt.heatmap(x_level=0, y_level=1, symmetric=True)\n",
    "heatmap_fig"
   ]
  },
  {
   "cell_type": "code",
   "execution_count": 44,
   "metadata": {},
   "outputs": [
    {
     "data": {
      "application/vnd.jupyter.widget-view+json": {
       "model_id": "",
       "version_major": 2,
       "version_minor": 0
      },
      "text/plain": [
       "CustomFigureWidget({\n",
       "    'data': [{'colorscale': [[0.0, '#0d0887'], [0.1111111111111111, '#46039f'],\n",
       "         …"
      ]
     },
     "metadata": {},
     "output_type": "display_data"
    }
   ],
   "source": [
    "heatmap_fig = heatmap_sr.vbt.heatmap(x_level=0, y_level=1, symmetric=True, slider_level=2)\n",
    "heatmap_fig"
   ]
  },
  {
   "cell_type": "code",
   "execution_count": 45,
   "metadata": {},
   "outputs": [
    {
     "name": "stdout",
     "output_type": "stream",
     "text": [
      "108 ms ± 28.6 ms per loop (mean ± std. dev. of 7 runs, 10 loops each)\n",
      "120 µs ± 1.3 µs per loop (mean ± std. dev. of 7 runs, 10000 loops each)\n"
     ]
    }
   ],
   "source": [
    "%timeit pd.DataFrame(big_df).vbt.heatmap()\n",
    "\n",
    "big_fig = pd.DataFrame(big_df).vbt.heatmap()\n",
    "%timeit vbt.base.plotting.update_heatmap_data(big_fig, big_df.values * 2)"
   ]
  },
  {
   "cell_type": "code",
   "execution_count": 46,
   "metadata": {},
   "outputs": [],
   "source": [
    "ipywidgets.Widget.close_all()"
   ]
  },
  {
   "cell_type": "markdown",
   "metadata": {},
   "source": [
    "## Volume"
   ]
  },
  {
   "cell_type": "code",
   "execution_count": 47,
   "metadata": {},
   "outputs": [
    {
     "data": {
      "application/vnd.jupyter.widget-view+json": {
       "model_id": "",
       "version_major": 2,
       "version_minor": 0
      },
      "text/plain": [
       "CustomFigureWidget({\n",
       "    'data': [{'colorscale': [[0.0, '#0d0887'], [0.1111111111111111, '#46039f'],\n",
       "         …"
      ]
     },
     "metadata": {},
     "output_type": "display_data"
    }
   ],
   "source": [
    "x, y, z, g = np.mgrid[0:5, 5:10, 10:15, :2]\n",
    "volume_sr = pd.Series(\n",
    "    np.random.randint(1, 10, size=x.flatten().shape), \n",
    "    index=vbt.base.index_fns.stack_indexes(\n",
    "        pd.Index(x.flatten(), name='first'),\n",
    "        pd.Index(y.flatten(), name='second'),\n",
    "        pd.Index(z.flatten(), name='third'),\n",
    "        pd.Index(g.flatten(), name='fourth')\n",
    "    )\n",
    ")\n",
    "volume_fig = volume_sr.vbt.volume(x_level='first', y_level='second', z_level='third')\n",
    "volume_fig"
   ]
  },
  {
   "cell_type": "code",
   "execution_count": 48,
   "metadata": {},
   "outputs": [],
   "source": [
    "vbt.base.plotting.update_volume_data(volume_fig, np.random.randint(1, 10, size=x.flatten().shape))"
   ]
  },
  {
   "cell_type": "code",
   "execution_count": 49,
   "metadata": {},
   "outputs": [
    {
     "data": {
      "application/vnd.jupyter.widget-view+json": {
       "model_id": "",
       "version_major": 2,
       "version_minor": 0
      },
      "text/plain": [
       "CustomFigureWidget({\n",
       "    'data': [{'colorscale': [[0.0, '#0d0887'], [0.1111111111111111, '#46039f'],\n",
       "         …"
      ]
     },
     "metadata": {},
     "output_type": "display_data"
    }
   ],
   "source": [
    "volume_fig = volume_sr.vbt.volume(x_level='first', y_level='second', z_level='third', slider_level='fourth')\n",
    "volume_fig"
   ]
  },
  {
   "cell_type": "code",
   "execution_count": 50,
   "metadata": {},
   "outputs": [
    {
     "name": "stdout",
     "output_type": "stream",
     "text": [
      "1.06 s ± 261 ms per loop (mean ± std. dev. of 7 runs, 1 loop each)\n",
      "The slowest run took 7.80 times longer than the fastest. This could mean that an intermediate result is being cached.\n",
      "1.73 ms ± 1.75 ms per loop (mean ± std. dev. of 7 runs, 1 loop each)\n"
     ]
    }
   ],
   "source": [
    "x, y, z = np.mgrid[:50, :50, :50]\n",
    "big_volume_sr = pd.Series(\n",
    "    np.random.randint(1, 10, size=x.flatten().shape), \n",
    "    index=vbt.base.index_fns.stack_indexes(\n",
    "        pd.Index(x.flatten(), name='i1'),\n",
    "        pd.Index(y.flatten(), name='i2'),\n",
    "        pd.Index(z.flatten(), name='i3')\n",
    "    )\n",
    ")\n",
    "%timeit big_volume_sr.vbt.volume()\n",
    "\n",
    "big_fig = big_volume_sr.vbt.volume()\n",
    "%timeit vbt.base.plotting.update_volume_data(big_fig, big_volume_sr.values * 2)"
   ]
  },
  {
   "cell_type": "code",
   "execution_count": 51,
   "metadata": {},
   "outputs": [],
   "source": [
    "ipywidgets.Widget.close_all()"
   ]
  },
  {
   "cell_type": "code",
   "execution_count": null,
   "metadata": {},
   "outputs": [],
   "source": []
  }
 ],
 "metadata": {
  "kernelspec": {
   "display_name": "Python 3",
   "language": "python",
   "name": "python3"
  },
  "language_info": {
   "codemirror_mode": {
    "name": "ipython",
    "version": 3
   },
   "file_extension": ".py",
   "mimetype": "text/x-python",
   "name": "python",
   "nbconvert_exporter": "python",
   "pygments_lexer": "ipython3",
   "version": "3.7.3"
  },
  "widgets": {
   "application/vnd.jupyter.widget-state+json": {
    "state": {},
    "version_major": 2,
    "version_minor": 0
   }
  }
 },
 "nbformat": 4,
 "nbformat_minor": 4
}
