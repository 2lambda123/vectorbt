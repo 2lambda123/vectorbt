{
 "cells": [
  {
   "cell_type": "markdown",
   "metadata": {},
   "source": [
    "# records"
   ]
  },
  {
   "cell_type": "code",
   "execution_count": 1,
   "metadata": {},
   "outputs": [],
   "source": [
    "import vectorbt as vbt"
   ]
  },
  {
   "cell_type": "code",
   "execution_count": 2,
   "metadata": {
    "Collapsed": "false"
   },
   "outputs": [],
   "source": [
    "import numpy as np\n",
    "import pandas as pd\n",
    "from numba import njit\n",
    "from collections import namedtuple"
   ]
  },
  {
   "cell_type": "code",
   "execution_count": 3,
   "metadata": {},
   "outputs": [],
   "source": [
    "# Disable caching for performance testing\n",
    "# NOTE: Expect waterfall of executions, since some attributes depend on other attributes \n",
    "# that have to be calculated again and again\n",
    "vbt.defaults.caching = False"
   ]
  },
  {
   "cell_type": "code",
   "execution_count": 4,
   "metadata": {},
   "outputs": [],
   "source": [
    "example_dt = np.dtype([\n",
    "    ('col', np.int64),\n",
    "    ('idx', np.int64),\n",
    "    ('some_field1', np.float64),\n",
    "    ('some_field2', np.float64)\n",
    "], align=True)"
   ]
  },
  {
   "cell_type": "code",
   "execution_count": 5,
   "metadata": {},
   "outputs": [
    {
     "name": "stdout",
     "output_type": "stream",
     "text": [
      "[(0, 0, 10., 21.) (0, 1, 11., 20.) (0, 2, 12., 19.) (1, 0, 13., 18.)\n",
      " (1, 1, 14., 17.) (1, 2, 13., 18.) (2, 0, 12., 19.) (2, 1, 11., 20.)\n",
      " (2, 2, 10., 21.)]\n",
      "(9,)\n"
     ]
    }
   ],
   "source": [
    "records_arr = np.asarray([\n",
    "    (0, 0, 10, 21),\n",
    "    (0, 1, 11, 20),\n",
    "    (0, 2, 12, 19),\n",
    "    (1, 0, 13, 18),\n",
    "    (1, 1, 14, 17),\n",
    "    (1, 2, 13, 18),\n",
    "    (2, 0, 12, 19),\n",
    "    (2, 1, 11, 20),\n",
    "    (2, 2, 10, 21)\n",
    "], dtype=example_dt)\n",
    "print(records_arr)\n",
    "print(records_arr.shape)\n",
    "columns = pd.MultiIndex.from_arrays([[0, 0, 1, 1], ['a', 'b', 'c', 'd']], names=['lvl1', 'lvl2'])\n",
    "wrapper = vbt.base.array_wrapper.ArrayWrapper(index=['x', 'y', 'z'], columns=columns, ndim=2, freq='1 days')\n",
    "records = vbt.records.Records(records_arr, wrapper)\n",
    "records_grouped = vbt.records.Records(records_arr, wrapper, group_by=0)"
   ]
  },
  {
   "cell_type": "code",
   "execution_count": 6,
   "metadata": {},
   "outputs": [
    {
     "name": "stdout",
     "output_type": "stream",
     "text": [
      "(1000000,)\n"
     ]
    }
   ],
   "source": [
    "big_records_arr = np.asarray(list(zip(*(\n",
    "    np.repeat(np.arange(1000), 1000),\n",
    "    np.tile(np.arange(1000), 1000),\n",
    "    np.random.uniform(size=1000000),\n",
    "    np.random.uniform(size=1000000)))), dtype=example_dt)\n",
    "print(big_records_arr.shape)\n",
    "big_columns = pd.MultiIndex.from_arrays([np.repeat(np.array([0, 1]), 500), np.arange(1000)], names=['lvl1', 'lvl2'])\n",
    "big_wrapper = vbt.base.array_wrapper.ArrayWrapper(index=np.arange(1000), columns=big_columns, ndim=2, freq='1 days')\n",
    "big_records = vbt.records.Records(big_records_arr, big_wrapper)\n",
    "big_records_grouped = vbt.records.Records(big_records_arr, big_wrapper, group_by=0)"
   ]
  },
  {
   "cell_type": "markdown",
   "metadata": {},
   "source": [
    "## MappedArray"
   ]
  },
  {
   "cell_type": "code",
   "execution_count": 42,
   "metadata": {},
   "outputs": [],
   "source": [
    "mapped_array = records.map_field('some_field1')\n",
    "big_mapped_array = big_records.map_field('some_field1')\n",
    "\n",
    "mapped_array_grouped = records_grouped.map_field('some_field1')\n",
    "big_mapped_array_grouped = big_records_grouped.map_field('some_field1')"
   ]
  },
  {
   "cell_type": "code",
   "execution_count": 14,
   "metadata": {},
   "outputs": [
    {
     "name": "stdout",
     "output_type": "stream",
     "text": [
      "[10. 11. 12. 13. 14. 13. 12. 11. 10.]\n",
      "[0 0 0 1 1 1 2 2 2]\n"
     ]
    }
   ],
   "source": [
    "print(mapped_array.mapped_arr)\n",
    "print(mapped_array.col_arr)"
   ]
  },
  {
   "cell_type": "code",
   "execution_count": 11,
   "metadata": {},
   "outputs": [
    {
     "name": "stdout",
     "output_type": "stream",
     "text": [
      "[10. 11. 12.]\n",
      "[0 0 0]\n",
      "MultiIndex([(0, 'a')],\n",
      "           )\n",
      "MultiIndex([(0, 'a')],\n",
      "           )\n",
      "[10. 11. 12. 13. 14. 13.]\n",
      "[0 0 0 1 1 1]\n",
      "MultiIndex([(0, 'a'),\n",
      "            (0, 'b')],\n",
      "           names=['lvl1', 'lvl2'])\n",
      "MultiIndex([(0, 'a'),\n",
      "            (0, 'b')],\n",
      "           names=['lvl1', 'lvl2'])\n",
      "[10. 11. 12. 10. 11. 12.]\n",
      "[0 0 0 1 1 1]\n",
      "MultiIndex([(0, 'a'),\n",
      "            (0, 'a')],\n",
      "           names=['lvl1', 'lvl2'])\n",
      "MultiIndex([(0, 'a'),\n",
      "            (0, 'a')],\n",
      "           names=['lvl1', 'lvl2'])\n",
      "3.62 ms ± 117 µs per loop (mean ± std. dev. of 7 runs, 100 loops each)\n",
      "24.6 ms ± 3.29 ms per loop (mean ± std. dev. of 7 runs, 100 loops each)\n"
     ]
    }
   ],
   "source": [
    "print(mapped_array[(0, 'a')].mapped_arr)\n",
    "print(mapped_array[(0, 'a')].col_arr)\n",
    "print(mapped_array[(0, 'a')].wrapper.columns)\n",
    "\n",
    "print(mapped_array[[(0, 'a'), (0, 'b')]].mapped_arr)\n",
    "print(mapped_array[[(0, 'a'), (0, 'b')]].col_arr)\n",
    "print(mapped_array[[(0, 'a'), (0, 'b')]].wrapper.columns)\n",
    "\n",
    "print(mapped_array[[(0, 'a'), (0, 'a')]].mapped_arr)\n",
    "print(mapped_array[[(0, 'a'), (0, 'a')]].col_arr)\n",
    "print(mapped_array[[(0, 'a'), (0, 'a')]].wrapper.columns)\n",
    "\n",
    "%timeit big_mapped_array.iloc[:, 0]\n",
    "%timeit big_mapped_array.iloc[:, :]"
   ]
  },
  {
   "cell_type": "code",
   "execution_count": 55,
   "metadata": {},
   "outputs": [
    {
     "name": "stdout",
     "output_type": "stream",
     "text": [
      "MultiIndex([(0, 'a')],\n",
      "           )\n",
      "Int64Index([0], dtype='int64', name='lvl1')\n",
      "MultiIndex([(1, 'c')],\n",
      "           )\n",
      "Int64Index([1], dtype='int64', name='lvl1')\n",
      "MultiIndex([(0, 'a'),\n",
      "            (1, 'c')],\n",
      "           names=['lvl1', 'lvl2'])\n",
      "Int64Index([0, 1], dtype='int64', name='lvl1')\n",
      "4.91 ms ± 978 µs per loop (mean ± std. dev. of 7 runs, 100 loops each)\n",
      "23 ms ± 3.73 ms per loop (mean ± std. dev. of 7 runs, 10 loops each)\n"
     ]
    }
   ],
   "source": [
    "print(mapped_array_grouped[(0, 'a')].grouper.index)\n",
    "print(mapped_array_grouped[(0, 'a')].grouper.group_by)\n",
    "print(mapped_array_grouped[(1, 'c')].grouper.index)\n",
    "print(mapped_array_grouped[(1, 'c')].grouper.group_by)\n",
    "print(mapped_array_grouped[[(0, 'a'), (1, 'c')]].grouper.index)\n",
    "print(mapped_array_grouped[[(0, 'a'), (1, 'c')]].grouper.group_by)\n",
    "\n",
    "%timeit big_mapped_array_grouped.iloc[:, 0]\n",
    "%timeit big_mapped_array_grouped.iloc[:, :]"
   ]
  },
  {
   "cell_type": "code",
   "execution_count": 27,
   "metadata": {},
   "outputs": [
    {
     "name": "stdout",
     "output_type": "stream",
     "text": [
      "[[ 0  3]\n",
      " [ 3  6]\n",
      " [ 6  9]\n",
      " [-1 -1]]\n",
      "2.39 ms ± 354 µs per loop (mean ± std. dev. of 7 runs, 100 loops each)\n"
     ]
    }
   ],
   "source": [
    "print(mapped_array.col_index)\n",
    "\n",
    "%timeit big_mapped_array.col_index"
   ]
  },
  {
   "cell_type": "code",
   "execution_count": 28,
   "metadata": {},
   "outputs": [
    {
     "name": "stdout",
     "output_type": "stream",
     "text": [
      "lvl1     0           1    \n",
      "lvl2     a     b     c   d\n",
      "x     10.0  13.0  12.0 NaN\n",
      "y     11.0  14.0  11.0 NaN\n",
      "z     12.0  13.0  10.0 NaN\n",
      "lvl1     0           1     \n",
      "lvl2     a     b     c    d\n",
      "x     10.0  13.0  12.0  0.0\n",
      "y     11.0  14.0  11.0  0.0\n",
      "z     12.0  13.0  10.0  0.0\n",
      "7.31 ms ± 937 µs per loop (mean ± std. dev. of 7 runs, 100 loops each)\n"
     ]
    }
   ],
   "source": [
    "print(mapped_array.to_matrix())\n",
    "print(mapped_array.to_matrix(default_val=0.))\n",
    "\n",
    "%timeit big_mapped_array.to_matrix()"
   ]
  },
  {
   "cell_type": "code",
   "execution_count": 22,
   "metadata": {},
   "outputs": [
    {
     "name": "stdout",
     "output_type": "stream",
     "text": [
      "11.0\n",
      "lvl1  lvl2\n",
      "0     a       11.000000\n",
      "      b       13.333333\n",
      "dtype: float64\n",
      "lvl1  lvl2\n",
      "0     a       11.000000\n",
      "      b       13.333333\n",
      "1     c       11.000000\n",
      "      d             NaN\n",
      "dtype: float64\n",
      "lvl1  lvl2\n",
      "0     a       11.000000\n",
      "      b       13.333333\n",
      "1     c       11.000000\n",
      "      d        0.000000\n",
      "dtype: float64\n",
      "lvl1  lvl2\n",
      "0     a       11\n",
      "      b       13\n",
      "1     c       11\n",
      "      d        0\n",
      "dtype: int64\n",
      "lvl1  lvl2\n",
      "0     a      11 days 00:00:00\n",
      "      b      13 days 08:00:00\n",
      "1     c      11 days 00:00:00\n",
      "      d                   NaT\n",
      "dtype: timedelta64[ns]\n",
      "3.4 ms ± 14.2 µs per loop (mean ± std. dev. of 7 runs, 100 loops each)\n",
      "11.0\n",
      "lvl1\n",
      "0    12.166667\n",
      "dtype: float64\n",
      "lvl1\n",
      "0    12.166667\n",
      "1    11.000000\n",
      "dtype: float64\n",
      "8.1 ms ± 430 µs per loop (mean ± std. dev. of 7 runs, 100 loops each)\n"
     ]
    }
   ],
   "source": [
    "@njit\n",
    "def mean_reduce_nb(col, a):\n",
    "    return np.mean(a)\n",
    "\n",
    "print(mapped_array[(0, 'a')].reduce(mean_reduce_nb))\n",
    "print(mapped_array[[(0, 'a'), (0, 'b')]].reduce(mean_reduce_nb))\n",
    "print(mapped_array.reduce(mean_reduce_nb))\n",
    "print(mapped_array.reduce(mean_reduce_nb, default_val=0.))\n",
    "print(mapped_array.reduce(mean_reduce_nb, default_val=0., cast=np.int_))\n",
    "print(mapped_array.reduce(mean_reduce_nb, time_units=True))\n",
    "%timeit big_mapped_array.reduce(mean_reduce_nb)\n",
    "\n",
    "print(mapped_array_grouped[(0, 'a')].reduce(mean_reduce_nb))\n",
    "print(mapped_array_grouped[[(0, 'a'), (0, 'b')]].reduce(mean_reduce_nb))\n",
    "print(mapped_array_grouped.reduce(mean_reduce_nb))\n",
    "%timeit big_mapped_array_grouped.reduce(mean_reduce_nb)"
   ]
  },
  {
   "cell_type": "code",
   "execution_count": 23,
   "metadata": {},
   "outputs": [
    {
     "name": "stdout",
     "output_type": "stream",
     "text": [
      "lvl1  lvl2\n",
      "0     a         x\n",
      "      b         x\n",
      "1     c         z\n",
      "      d       NaN\n",
      "dtype: object\n",
      "3.78 ms ± 58.2 µs per loop (mean ± std. dev. of 7 runs, 100 loops each)\n",
      "lvl1  lvl2\n",
      "0     a       0\n",
      "      b       0\n",
      "1     c       2\n",
      "      d      -1\n",
      "dtype: int64\n",
      "3.72 ms ± 88.7 µs per loop (mean ± std. dev. of 7 runs, 100 loops each)\n",
      "lvl1\n",
      "0    x\n",
      "1    z\n",
      "dtype: object\n",
      "7.48 ms ± 93.6 µs per loop (mean ± std. dev. of 7 runs, 100 loops each)\n"
     ]
    }
   ],
   "source": [
    "@njit\n",
    "def argmin_reduce_nb(col, a):\n",
    "    return np.argmin(a)\n",
    "\n",
    "print(mapped_array.reduce(argmin_reduce_nb, to_idx=True))\n",
    "%timeit big_mapped_array.reduce(argmin_reduce_nb, to_idx=True)\n",
    "\n",
    "print(mapped_array.reduce(argmin_reduce_nb, to_idx=True, idx_labeled=False))\n",
    "%timeit big_mapped_array.reduce(argmin_reduce_nb, to_idx=True, idx_labeled=False)\n",
    "\n",
    "print(mapped_array_grouped.reduce(argmin_reduce_nb, to_idx=True))\n",
    "%timeit big_mapped_array_grouped.reduce(argmin_reduce_nb, to_idx=True)"
   ]
  },
  {
   "cell_type": "code",
   "execution_count": 64,
   "metadata": {},
   "outputs": [
    {
     "name": "stdout",
     "output_type": "stream",
     "text": [
      "0    10.0\n",
      "1    12.0\n",
      "Name: (0, a), dtype: float64\n",
      "lvl1     0      \n",
      "lvl2     a     b\n",
      "0     10.0  13.0\n",
      "1     12.0  14.0\n",
      "lvl1     0           1    \n",
      "lvl2     a     b     c   d\n",
      "0     10.0  13.0  10.0 NaN\n",
      "1     12.0  14.0  12.0 NaN\n",
      "lvl1     0           1    \n",
      "lvl2     a     b     c   d\n",
      "min   10.0  13.0  10.0 NaN\n",
      "max   12.0  14.0  12.0 NaN\n",
      "lvl1     0           1     \n",
      "lvl2     a     b     c    d\n",
      "min   10.0  13.0  10.0  0.0\n",
      "max   12.0  14.0  12.0  0.0\n",
      "lvl1       0               1    \n",
      "lvl2       a       b       c   d\n",
      "0    10 days 13 days 10 days NaT\n",
      "1    12 days 14 days 12 days NaT\n",
      "4.62 ms ± 26.4 µs per loop (mean ± std. dev. of 7 runs, 100 loops each)\n",
      "0    10.0\n",
      "1    12.0\n",
      "Name: yo, dtype: float64\n",
      "lvl1     0\n",
      "0     10.0\n",
      "1     14.0\n",
      "lvl1     0     1\n",
      "0     10.0  10.0\n",
      "1     14.0  12.0\n",
      "9.71 ms ± 676 µs per loop (mean ± std. dev. of 7 runs, 100 loops each)\n"
     ]
    }
   ],
   "source": [
    "@njit\n",
    "def min_max_reduce_nb(col, a):\n",
    "    return np.array([np.min(a), np.max(a)])\n",
    "\n",
    "print(mapped_array[(0, 'a')].reduce(min_max_reduce_nb, to_array=True, n_rows=2))\n",
    "print(mapped_array[[(0, 'a'), (0, 'b')]].reduce(min_max_reduce_nb, to_array=True, n_rows=2))\n",
    "print(mapped_array.reduce(min_max_reduce_nb, to_array=True, n_rows=2))\n",
    "print(mapped_array.reduce(min_max_reduce_nb, to_array=True, n_rows=2, index=['min', 'max']))\n",
    "print(mapped_array.reduce(min_max_reduce_nb, to_array=True, n_rows=2, index=['min', 'max'], default_val=0.))\n",
    "print(mapped_array.reduce(min_max_reduce_nb, to_array=True, n_rows=2, time_units=True))\n",
    "%timeit big_mapped_array.reduce(min_max_reduce_nb, to_array=True, n_rows=2)\n",
    "\n",
    "print(mapped_array_grouped[(0, 'a')].reduce(min_max_reduce_nb, to_array=True, n_rows=2))\n",
    "print(mapped_array_grouped[[(0, 'a'), (0, 'b')]].reduce(min_max_reduce_nb, to_array=True, n_rows=2))\n",
    "print(mapped_array_grouped.reduce(min_max_reduce_nb, to_array=True, n_rows=2))\n",
    "%timeit big_mapped_array_grouped.reduce(min_max_reduce_nb, to_array=True, n_rows=2)"
   ]
  },
  {
   "cell_type": "code",
   "execution_count": 25,
   "metadata": {},
   "outputs": [
    {
     "name": "stdout",
     "output_type": "stream",
     "text": [
      "lvl1  0     1     \n",
      "lvl2  a  b  c    d\n",
      "0     x  x  z  NaN\n",
      "1     z  y  x  NaN\n",
      "6.29 ms ± 372 µs per loop (mean ± std. dev. of 7 runs, 100 loops each)\n",
      "lvl1  0     1   \n",
      "lvl2  a  b  c  d\n",
      "0     0  0  2 -1\n",
      "1     2  1  0 -1\n",
      "6.72 ms ± 720 µs per loop (mean ± std. dev. of 7 runs, 100 loops each)\n",
      "lvl1  0  1\n",
      "0     x  z\n",
      "1     y  x\n",
      "11.1 ms ± 487 µs per loop (mean ± std. dev. of 7 runs, 100 loops each)\n"
     ]
    }
   ],
   "source": [
    "@njit\n",
    "def idxmin_idxmax_reduce_nb(col, a):\n",
    "    return np.array([np.argmin(a), np.argmax(a)])\n",
    "\n",
    "print(mapped_array.reduce(idxmin_idxmax_reduce_nb, to_array=True, n_rows=2, to_idx=True))\n",
    "%timeit big_mapped_array.reduce(idxmin_idxmax_reduce_nb, to_array=True, n_rows=2, to_idx=True)\n",
    "\n",
    "print(mapped_array.reduce(idxmin_idxmax_reduce_nb, to_array=True, n_rows=2, to_idx=True, idx_labeled=False))\n",
    "%timeit big_mapped_array.reduce(idxmin_idxmax_reduce_nb, to_array=True, n_rows=2, to_idx=True, idx_labeled=False)\n",
    "\n",
    "print(mapped_array_grouped.reduce(idxmin_idxmax_reduce_nb, to_array=True, n_rows=2, to_idx=True))\n",
    "%timeit big_mapped_array_grouped.reduce(idxmin_idxmax_reduce_nb, to_array=True, n_rows=2, to_idx=True)"
   ]
  },
  {
   "cell_type": "code",
   "execution_count": 12,
   "metadata": {},
   "outputs": [
    {
     "name": "stdout",
     "output_type": "stream",
     "text": [
      "lvl1  lvl2\n",
      "0     a       10.0\n",
      "      b       13.0\n",
      "1     c       12.0\n",
      "      d        NaN\n",
      "dtype: float64\n",
      "lvl1  lvl2\n",
      "0     a       12.0\n",
      "      b       13.0\n",
      "1     c       10.0\n",
      "      d        NaN\n",
      "dtype: float64\n",
      "3.38 µs ± 536 ns per loop (mean ± std. dev. of 7 runs, 100000 loops each)\n"
     ]
    }
   ],
   "source": [
    "print(mapped_array.nst(0))\n",
    "print(mapped_array.nst(-1))\n",
    "\n",
    "%timeit big_mapped_array.nst(0)"
   ]
  },
  {
   "cell_type": "code",
   "execution_count": 26,
   "metadata": {},
   "outputs": [
    {
     "name": "stdout",
     "output_type": "stream",
     "text": [
      "lvl1  lvl2\n",
      "0     a       10.0\n",
      "      b       13.0\n",
      "1     c       10.0\n",
      "      d        NaN\n",
      "dtype: float64\n",
      "12.7 ms ± 296 µs per loop (mean ± std. dev. of 7 runs, 100 loops each)\n",
      "lvl1  lvl2\n",
      "0     a       10.0\n",
      "      b       13.0\n",
      "1     c       10.0\n",
      "      d        NaN\n",
      "dtype: float64\n",
      "4.07 ms ± 57.4 µs per loop (mean ± std. dev. of 7 runs, 100 loops each)\n",
      "lvl1\n",
      "0    10.0\n",
      "1    10.0\n",
      "dtype: float64\n",
      "7.52 ms ± 48.9 µs per loop (mean ± std. dev. of 7 runs, 100 loops each)\n"
     ]
    }
   ],
   "source": [
    "print(mapped_array.to_matrix().vbt.min())\n",
    "%timeit big_mapped_array.to_matrix().vbt.min()\n",
    "\n",
    "print(mapped_array.min())\n",
    "%timeit big_mapped_array.min()\n",
    "\n",
    "print(mapped_array_grouped.min())\n",
    "%timeit big_mapped_array_grouped.min()"
   ]
  },
  {
   "cell_type": "code",
   "execution_count": 27,
   "metadata": {},
   "outputs": [
    {
     "name": "stdout",
     "output_type": "stream",
     "text": [
      "lvl1  lvl2\n",
      "0     a       12.0\n",
      "      b       14.0\n",
      "1     c       12.0\n",
      "      d        NaN\n",
      "dtype: float64\n",
      "14.8 ms ± 768 µs per loop (mean ± std. dev. of 7 runs, 100 loops each)\n",
      "lvl1  lvl2\n",
      "0     a       12.0\n",
      "      b       14.0\n",
      "1     c       12.0\n",
      "      d        NaN\n",
      "dtype: float64\n",
      "4.89 ms ± 600 µs per loop (mean ± std. dev. of 7 runs, 100 loops each)\n",
      "lvl1\n",
      "0    14.0\n",
      "1    12.0\n",
      "dtype: float64\n",
      "8.79 ms ± 400 µs per loop (mean ± std. dev. of 7 runs, 100 loops each)\n"
     ]
    }
   ],
   "source": [
    "print(mapped_array.to_matrix().vbt.max())\n",
    "%timeit big_mapped_array.to_matrix().vbt.max()\n",
    "\n",
    "print(mapped_array.max())\n",
    "%timeit big_mapped_array.max()\n",
    "\n",
    "print(mapped_array_grouped.max())\n",
    "%timeit big_mapped_array_grouped.max()"
   ]
  },
  {
   "cell_type": "code",
   "execution_count": 28,
   "metadata": {},
   "outputs": [
    {
     "name": "stdout",
     "output_type": "stream",
     "text": [
      "lvl1  lvl2\n",
      "0     a       11.000000\n",
      "      b       13.333333\n",
      "1     c       11.000000\n",
      "      d             NaN\n",
      "dtype: float64\n",
      "11.9 ms ± 614 µs per loop (mean ± std. dev. of 7 runs, 100 loops each)\n",
      "lvl1  lvl2\n",
      "0     a       11.000000\n",
      "      b       13.333333\n",
      "1     c       11.000000\n",
      "      d             NaN\n",
      "dtype: float64\n",
      "4.06 ms ± 61.4 µs per loop (mean ± std. dev. of 7 runs, 100 loops each)\n",
      "lvl1\n",
      "0    12.166667\n",
      "1    11.000000\n",
      "dtype: float64\n",
      "8.32 ms ± 665 µs per loop (mean ± std. dev. of 7 runs, 100 loops each)\n"
     ]
    }
   ],
   "source": [
    "print(mapped_array.to_matrix().vbt.mean())\n",
    "%timeit big_mapped_array.to_matrix().vbt.mean()\n",
    "\n",
    "print(mapped_array.mean())\n",
    "%timeit big_mapped_array.mean()\n",
    "\n",
    "print(mapped_array_grouped.mean())\n",
    "%timeit big_mapped_array_grouped.mean()"
   ]
  },
  {
   "cell_type": "code",
   "execution_count": 29,
   "metadata": {},
   "outputs": [
    {
     "name": "stdout",
     "output_type": "stream",
     "text": [
      "lvl1  lvl2\n",
      "0     a       11.0\n",
      "      b       13.0\n",
      "1     c       11.0\n",
      "      d        NaN\n",
      "dtype: float64\n",
      "23 ms ± 1.58 ms per loop (mean ± std. dev. of 7 runs, 10 loops each)\n",
      "lvl1  lvl2\n",
      "0     a       11.0\n",
      "      b       13.0\n",
      "1     c       11.0\n",
      "      d        NaN\n",
      "dtype: float64\n",
      "17.5 ms ± 1.3 ms per loop (mean ± std. dev. of 7 runs, 100 loops each)\n",
      "lvl1\n",
      "0    12.5\n",
      "1    11.0\n",
      "dtype: float64\n",
      "21.5 ms ± 1.25 ms per loop (mean ± std. dev. of 7 runs, 10 loops each)\n"
     ]
    }
   ],
   "source": [
    "print(mapped_array.to_matrix().vbt.median())\n",
    "%timeit big_mapped_array.to_matrix().vbt.median()\n",
    "\n",
    "print(mapped_array.median())\n",
    "%timeit big_mapped_array.median()\n",
    "\n",
    "print(mapped_array_grouped.median())\n",
    "%timeit big_mapped_array_grouped.median()"
   ]
  },
  {
   "cell_type": "code",
   "execution_count": 30,
   "metadata": {},
   "outputs": [
    {
     "name": "stdout",
     "output_type": "stream",
     "text": [
      "lvl1  lvl2\n",
      "0     a       1.00000\n",
      "      b       0.57735\n",
      "1     c       1.00000\n",
      "      d           NaN\n",
      "dtype: float64\n",
      "lvl1  lvl2\n",
      "0     a       0.816497\n",
      "      b       0.471405\n",
      "1     c       0.816497\n",
      "      d            NaN\n",
      "dtype: float64\n",
      "13.2 ms ± 782 µs per loop (mean ± std. dev. of 7 runs, 100 loops each)\n",
      "lvl1  lvl2\n",
      "0     a       1.00000\n",
      "      b       0.57735\n",
      "1     c       1.00000\n",
      "      d           NaN\n",
      "dtype: float64\n",
      "lvl1  lvl2\n",
      "0     a       0.816497\n",
      "      b       0.471405\n",
      "1     c       0.816497\n",
      "      d            NaN\n",
      "dtype: float64\n",
      "6.8 ms ± 339 µs per loop (mean ± std. dev. of 7 runs, 100 loops each)\n",
      "lvl1\n",
      "0    1.47196\n",
      "1    1.00000\n",
      "dtype: float64\n",
      "15.1 ms ± 1 ms per loop (mean ± std. dev. of 7 runs, 100 loops each)\n"
     ]
    }
   ],
   "source": [
    "print(mapped_array.to_matrix().vbt.std())\n",
    "print(mapped_array.to_matrix().vbt.std(ddof=0))\n",
    "%timeit big_mapped_array.to_matrix().vbt.std()\n",
    "\n",
    "print(mapped_array.std())\n",
    "print(mapped_array.std(ddof=0))\n",
    "%timeit big_mapped_array.std()\n",
    "\n",
    "print(mapped_array_grouped.std())\n",
    "%timeit big_mapped_array_grouped.std()"
   ]
  },
  {
   "cell_type": "code",
   "execution_count": 31,
   "metadata": {},
   "outputs": [
    {
     "name": "stdout",
     "output_type": "stream",
     "text": [
      "lvl1  lvl2\n",
      "0     a       33.0\n",
      "      b       40.0\n",
      "1     c       33.0\n",
      "      d        0.0\n",
      "dtype: float64\n",
      "13.4 ms ± 339 µs per loop (mean ± std. dev. of 7 runs, 100 loops each)\n",
      "lvl1  lvl2\n",
      "0     a       33.0\n",
      "      b       40.0\n",
      "1     c       33.0\n",
      "      d        0.0\n",
      "dtype: float64\n",
      "4.24 ms ± 391 µs per loop (mean ± std. dev. of 7 runs, 100 loops each)\n",
      "lvl1\n",
      "0    73.0\n",
      "1    33.0\n",
      "dtype: float64\n",
      "7.49 ms ± 62.5 µs per loop (mean ± std. dev. of 7 runs, 100 loops each)\n"
     ]
    }
   ],
   "source": [
    "print(mapped_array.to_matrix().vbt.sum())\n",
    "%timeit big_mapped_array.to_matrix().vbt.sum()\n",
    "\n",
    "print(mapped_array.sum())\n",
    "%timeit big_mapped_array.sum()\n",
    "\n",
    "print(mapped_array_grouped.sum())\n",
    "%timeit big_mapped_array_grouped.sum()"
   ]
  },
  {
   "cell_type": "code",
   "execution_count": 32,
   "metadata": {},
   "outputs": [
    {
     "name": "stdout",
     "output_type": "stream",
     "text": [
      "lvl1  lvl2\n",
      "0     a       3\n",
      "      b       3\n",
      "1     c       3\n",
      "      d       0\n",
      "dtype: int64\n",
      "10.9 ms ± 250 µs per loop (mean ± std. dev. of 7 runs, 100 loops each)\n",
      "lvl1  lvl2\n",
      "0     a       3\n",
      "      b       3\n",
      "1     c       3\n",
      "      d       0\n",
      "dtype: int64\n",
      "5.15 ms ± 1.76 ms per loop (mean ± std. dev. of 7 runs, 100 loops each)\n",
      "lvl1\n",
      "0    6\n",
      "1    3\n",
      "dtype: int64\n",
      "15.2 ms ± 251 µs per loop (mean ± std. dev. of 7 runs, 100 loops each)\n"
     ]
    }
   ],
   "source": [
    "print(mapped_array.to_matrix().vbt.count())\n",
    "%timeit big_mapped_array.to_matrix().vbt.count()\n",
    "\n",
    "print(mapped_array.count())\n",
    "%timeit big_mapped_array.count()\n",
    "\n",
    "print(mapped_array_grouped.count())\n",
    "%timeit big_mapped_array_grouped.count()"
   ]
  },
  {
   "cell_type": "code",
   "execution_count": 33,
   "metadata": {},
   "outputs": [
    {
     "name": "stdout",
     "output_type": "stream",
     "text": [
      "lvl1      0                1     \n",
      "lvl2      a          b     c    d\n",
      "count   3.0   3.000000   3.0  0.0\n",
      "mean   11.0  13.333333  11.0  NaN\n",
      "std     1.0   0.577350   1.0  NaN\n",
      "min    10.0  13.000000  10.0  NaN\n",
      "25%    10.5  13.000000  10.5  NaN\n",
      "50%    11.0  13.000000  11.0  NaN\n",
      "75%    11.5  13.500000  11.5  NaN\n",
      "max    12.0  14.000000  12.0  NaN\n",
      "lvl1      0                1     \n",
      "lvl2      a          b     c    d\n",
      "count   3.0   3.000000   3.0  0.0\n",
      "mean   11.0  13.333333  11.0  NaN\n",
      "std     1.0   0.577350   1.0  NaN\n",
      "min    10.0  13.000000  10.0  NaN\n",
      "30%    10.6  13.000000  10.6  NaN\n",
      "50%    11.0  13.000000  11.0  NaN\n",
      "70%    11.4  13.400000  11.4  NaN\n",
      "max    12.0  14.000000  12.0  NaN\n",
      "115 ms ± 3.69 ms per loop (mean ± std. dev. of 7 runs, 10 loops each)\n",
      "lvl1      0                1     \n",
      "lvl2      a          b     c    d\n",
      "count   3.0   3.000000   3.0  0.0\n",
      "mean   11.0  13.333333  11.0  NaN\n",
      "std     1.0   0.577350   1.0  NaN\n",
      "min    10.0  13.000000  10.0  NaN\n",
      "25%    10.5  13.000000  10.5  NaN\n",
      "50%    11.0  13.000000  11.0  NaN\n",
      "75%    11.5  13.500000  11.5  NaN\n",
      "max    12.0  14.000000  12.0  NaN\n",
      "lvl1      0                1     \n",
      "lvl2      a          b     c    d\n",
      "count   3.0   3.000000   3.0  0.0\n",
      "mean   11.0  13.333333  11.0  NaN\n",
      "std     1.0   0.577350   1.0  NaN\n",
      "min    10.0  13.000000  10.0  NaN\n",
      "30%    10.6  13.000000  10.6  NaN\n",
      "50%    11.0  13.000000  11.0  NaN\n",
      "70%    11.4  13.400000  11.4  NaN\n",
      "max    12.0  14.000000  12.0  NaN\n",
      "160 ms ± 71.6 ms per loop (mean ± std. dev. of 7 runs, 10 loops each)\n",
      "lvl1           0     1\n",
      "count   6.000000   3.0\n",
      "mean   12.166667  11.0\n",
      "std     1.471960   1.0\n",
      "min    10.000000  10.0\n",
      "25%    11.250000  10.5\n",
      "50%    12.500000  11.0\n",
      "75%    13.000000  11.5\n",
      "max    14.000000  12.0\n",
      "61.8 ms ± 12.1 ms per loop (mean ± std. dev. of 7 runs, 10 loops each)\n"
     ]
    }
   ],
   "source": [
    "print(mapped_array.to_matrix().vbt.describe())\n",
    "print(mapped_array.to_matrix().vbt.describe(percentiles=[0.3, 0.7]))\n",
    "%timeit big_mapped_array.to_matrix().vbt.describe()\n",
    "\n",
    "print(mapped_array.describe())\n",
    "print(mapped_array.describe(percentiles=[0.3, 0.7]))\n",
    "%timeit big_mapped_array.describe()\n",
    "\n",
    "print(mapped_array_grouped.describe())\n",
    "%timeit big_mapped_array_grouped.describe()"
   ]
  },
  {
   "cell_type": "code",
   "execution_count": 34,
   "metadata": {},
   "outputs": [
    {
     "name": "stdout",
     "output_type": "stream",
     "text": [
      "lvl1  lvl2\n",
      "0     a         x\n",
      "      b         x\n",
      "1     c         z\n",
      "      d       NaN\n",
      "dtype: object\n",
      "16.3 ms ± 2.09 ms per loop (mean ± std. dev. of 7 runs, 10 loops each)\n",
      "lvl1  lvl2\n",
      "0     a         x\n",
      "      b         x\n",
      "1     c         z\n",
      "      d       NaN\n",
      "dtype: object\n",
      "7.28 ms ± 794 µs per loop (mean ± std. dev. of 7 runs, 100 loops each)\n",
      "lvl1\n",
      "0    x\n",
      "1    z\n",
      "dtype: object\n",
      "11.7 ms ± 441 µs per loop (mean ± std. dev. of 7 runs, 100 loops each)\n"
     ]
    }
   ],
   "source": [
    "print(mapped_array.to_matrix().vbt.idxmin())\n",
    "%timeit big_mapped_array.to_matrix().vbt.idxmin()\n",
    "\n",
    "print(mapped_array.idxmin())\n",
    "%timeit big_mapped_array.idxmin()\n",
    "\n",
    "print(mapped_array_grouped.idxmin())\n",
    "%timeit big_mapped_array_grouped.idxmin()"
   ]
  },
  {
   "cell_type": "code",
   "execution_count": 35,
   "metadata": {},
   "outputs": [
    {
     "name": "stdout",
     "output_type": "stream",
     "text": [
      "lvl1  lvl2\n",
      "0     a         z\n",
      "      b         y\n",
      "1     c         x\n",
      "      d       NaN\n",
      "dtype: object\n",
      "18.4 ms ± 1 ms per loop (mean ± std. dev. of 7 runs, 100 loops each)\n",
      "lvl1  lvl2\n",
      "0     a         z\n",
      "      b         y\n",
      "1     c         x\n",
      "      d       NaN\n",
      "dtype: object\n",
      "6.69 ms ± 703 µs per loop (mean ± std. dev. of 7 runs, 100 loops each)\n",
      "lvl1\n",
      "0    y\n",
      "1    x\n",
      "dtype: object\n",
      "10.9 ms ± 47.2 µs per loop (mean ± std. dev. of 7 runs, 100 loops each)\n"
     ]
    }
   ],
   "source": [
    "print(mapped_array.to_matrix().vbt.idxmax())\n",
    "%timeit big_mapped_array.to_matrix().vbt.idxmax()\n",
    "\n",
    "print(mapped_array.idxmax())\n",
    "%timeit big_mapped_array.idxmax()\n",
    "\n",
    "print(mapped_array_grouped.idxmax())\n",
    "%timeit big_mapped_array_grouped.idxmax()"
   ]
  },
  {
   "cell_type": "code",
   "execution_count": 36,
   "metadata": {},
   "outputs": [
    {
     "data": {
      "image/png": "[encoded data removed]"
     },
     "metadata": {},
     "output_type": "display_data"
    },
    {
     "data": {
      "image/png": "[encoded data removed]"
     },
     "metadata": {},
     "output_type": "display_data"
    },
    {
     "data": {
      "image/png": "[encoded data removed]"
     },
     "metadata": {},
     "output_type": "display_data"
    }
   ],
   "source": [
    "mapped_array[(0, 'a')].hist().show_png()\n",
    "mapped_array.hist().show_png()\n",
    "mapped_array_grouped.hist().show_png()"
   ]
  },
  {
   "cell_type": "code",
   "execution_count": 37,
   "metadata": {},
   "outputs": [
    {
     "data": {
      "image/png": "[encoded data removed]"
     },
     "metadata": {},
     "output_type": "display_data"
    },
    {
     "data": {
      "image/png": "[encoded data removed]"
     },
     "metadata": {},
     "output_type": "display_data"
    },
    {
     "data": {
      "image/png": "[encoded data removed]"
     },
     "metadata": {},
     "output_type": "display_data"
    }
   ],
   "source": [
    "mapped_array[(0, 'a')].box().show_png()\n",
    "mapped_array.box().show_png()\n",
    "mapped_array_grouped.box().show_png()"
   ]
  },
  {
   "cell_type": "markdown",
   "metadata": {},
   "source": [
    "## Records"
   ]
  },
  {
   "cell_type": "code",
   "execution_count": 43,
   "metadata": {},
   "outputs": [
    {
     "name": "stdout",
     "output_type": "stream",
     "text": [
      "[(0, 0, 10., 21.) (0, 1, 11., 20.) (0, 2, 12., 19.) (1, 0, 13., 18.)\n",
      " (1, 1, 14., 17.) (1, 2, 13., 18.) (2, 0, 12., 19.) (2, 1, 11., 20.)\n",
      " (2, 2, 10., 21.)]\n",
      "[(0, 0, 10., 21.) (0, 1, 11., 20.) (0, 2, 12., 19.) (1, 0, 13., 18.)\n",
      " (1, 1, 14., 17.) (1, 2, 13., 18.) (2, 0, 12., 19.) (2, 1, 11., 20.)\n",
      " (2, 2, 10., 21.)]\n",
      "6.62 µs ± 716 ns per loop (mean ± std. dev. of 7 runs, 100000 loops each)\n"
     ]
    }
   ],
   "source": [
    "print(records.records_arr)\n",
    "\n",
    "print(records.recarray)\n",
    "%timeit big_records.recarray"
   ]
  },
  {
   "cell_type": "code",
   "execution_count": 44,
   "metadata": {},
   "outputs": [
    {
     "name": "stdout",
     "output_type": "stream",
     "text": [
      "   col  idx  some_field1  some_field2\n",
      "0    0    0         10.0         21.0\n",
      "1    0    1         11.0         20.0\n",
      "2    0    2         12.0         19.0\n",
      "3    1    0         13.0         18.0\n",
      "4    1    1         14.0         17.0\n",
      "5    1    2         13.0         18.0\n",
      "6    2    0         12.0         19.0\n",
      "7    2    1         11.0         20.0\n",
      "8    2    2         10.0         21.0\n"
     ]
    }
   ],
   "source": [
    "print(records.records)"
   ]
  },
  {
   "cell_type": "code",
   "execution_count": 45,
   "metadata": {},
   "outputs": [
    {
     "name": "stdout",
     "output_type": "stream",
     "text": [
      "[(0, 0, 10., 21.) (0, 1, 11., 20.) (0, 2, 12., 19.) (1, 0, 13., 18.)\n",
      " (1, 1, 14., 17.) (1, 2, 13., 18.) (2, 0, 12., 19.) (2, 1, 11., 20.)\n",
      " (2, 2, 10., 21.)]\n",
      "6.74 µs ± 599 ns per loop (mean ± std. dev. of 7 runs, 100000 loops each)\n"
     ]
    }
   ],
   "source": [
    "print(records.recarray)\n",
    "\n",
    "%timeit big_records.recarray"
   ]
  },
  {
   "cell_type": "code",
   "execution_count": 46,
   "metadata": {},
   "outputs": [
    {
     "name": "stdout",
     "output_type": "stream",
     "text": [
      "[[ 0  3]\n",
      " [ 3  6]\n",
      " [ 6  9]\n",
      " [-1 -1]]\n",
      "2.31 ms ± 178 µs per loop (mean ± std. dev. of 7 runs, 100 loops each)\n"
     ]
    }
   ],
   "source": [
    "print(records.col_index)\n",
    "\n",
    "%timeit big_records.col_index"
   ]
  },
  {
   "cell_type": "code",
   "execution_count": 47,
   "metadata": {},
   "outputs": [
    {
     "name": "stdout",
     "output_type": "stream",
     "text": [
      "<vectorbt.records.base.MappedArray object at 0x7ff7910a76d8>\n",
      "6.23 ms ± 361 µs per loop (mean ± std. dev. of 7 runs, 100 loops each)\n",
      "8.38 ms ± 98.3 µs per loop (mean ± std. dev. of 7 runs, 100 loops each)\n"
     ]
    }
   ],
   "source": [
    "@njit\n",
    "def map_nb(record):\n",
    "    return record.some_field1 + record.some_field2 * 2\n",
    "\n",
    "print(records.map(map_nb))\n",
    "\n",
    "%timeit big_records.map(map_nb)  # faster\n",
    "%timeit vbt.records.MappedArray(\\\n",
    "    big_records_arr['some_field1'] + big_records_arr['some_field2'] * 2,\\\n",
    "    big_records_arr['col'],\\\n",
    "    big_wrapper\\\n",
    ")"
   ]
  },
  {
   "cell_type": "code",
   "execution_count": 48,
   "metadata": {},
   "outputs": [
    {
     "name": "stdout",
     "output_type": "stream",
     "text": [
      "[0 0 0 1 1 1 2 2 2]\n",
      "[0 1 2 0 1 2 0 1 2]\n",
      "[10. 11. 12. 13. 14. 13. 12. 11. 10.]\n",
      "[21. 20. 19. 18. 17. 18. 19. 20. 21.]\n",
      "10.6 µs ± 91.2 ns per loop (mean ± std. dev. of 7 runs, 100000 loops each)\n"
     ]
    }
   ],
   "source": [
    "print(records.map_field('col').mapped_arr)\n",
    "print(records.map_field('idx').mapped_arr)\n",
    "print(records.map_field('some_field1').mapped_arr)\n",
    "print(records.map_field('some_field2').mapped_arr)\n",
    "\n",
    "%timeit big_records.map_field('some_field1')"
   ]
  },
  {
   "cell_type": "code",
   "execution_count": 49,
   "metadata": {},
   "outputs": [
    {
     "name": "stdout",
     "output_type": "stream",
     "text": [
      "[52. 51. 50. 49. 48. 49. 50. 51. 52.]\n",
      "8.35 ms ± 77.8 µs per loop (mean ± std. dev. of 7 runs, 100 loops each)\n"
     ]
    }
   ],
   "source": [
    "print(records.map_array(records_arr['some_field1'] + records_arr['some_field2'] * 2).mapped_arr)\n",
    "\n",
    "%timeit big_records.map_array(big_records_arr['some_field1'] + big_records_arr['some_field2'] * 2)"
   ]
  },
  {
   "cell_type": "code",
   "execution_count": 50,
   "metadata": {},
   "outputs": [
    {
     "name": "stdout",
     "output_type": "stream",
     "text": [
      "lvl1  lvl2\n",
      "0     a       3\n",
      "      b       3\n",
      "1     c       3\n",
      "      d       0\n",
      "dtype: int64\n",
      "3.08 ms ± 109 µs per loop (mean ± std. dev. of 7 runs, 100 loops each)\n",
      "lvl1\n",
      "0    6\n",
      "1    3\n",
      "dtype: int64\n",
      "5.92 ms ± 38.4 µs per loop (mean ± std. dev. of 7 runs, 100 loops each)\n"
     ]
    }
   ],
   "source": [
    "print(records.count())\n",
    "%timeit big_records.count()\n",
    "\n",
    "print(records_grouped.count())\n",
    "%timeit big_records_grouped.count()"
   ]
  },
  {
   "cell_type": "code",
   "execution_count": 51,
   "metadata": {},
   "outputs": [
    {
     "name": "stdout",
     "output_type": "stream",
     "text": [
      "   col  idx  some_field1  some_field2\n",
      "0    0    0         10.0         21.0\n",
      "1    0    1         11.0         20.0\n",
      "2    0    2         12.0         19.0\n",
      "MultiIndex([(0, 'a')],\n",
      "           )\n",
      "   col  idx  some_field1  some_field2\n",
      "0    0    0         10.0         21.0\n",
      "1    0    1         11.0         20.0\n",
      "2    0    2         12.0         19.0\n",
      "3    1    0         13.0         18.0\n",
      "4    1    1         14.0         17.0\n",
      "5    1    2         13.0         18.0\n",
      "MultiIndex([(0, 'a'),\n",
      "            (0, 'b')],\n",
      "           names=['lvl1', 'lvl2'])\n",
      "   col  idx  some_field1  some_field2\n",
      "0    0    0         10.0         21.0\n",
      "1    0    1         11.0         20.0\n",
      "2    0    2         12.0         19.0\n",
      "3    1    0         10.0         21.0\n",
      "4    1    1         11.0         20.0\n",
      "5    1    2         12.0         19.0\n",
      "MultiIndex([(0, 'a'),\n",
      "            (0, 'a')],\n",
      "           names=['lvl1', 'lvl2'])\n",
      "4.5 ms ± 638 µs per loop (mean ± std. dev. of 7 runs, 100 loops each)\n",
      "22.3 ms ± 6.26 ms per loop (mean ± std. dev. of 7 runs, 10 loops each)\n"
     ]
    }
   ],
   "source": [
    "print(records[(0, 'a')].records)\n",
    "print(records[(0, 'a')].wrapper.columns)\n",
    "print(records[[(0, 'a'), (0, 'b')]].records)\n",
    "print(records[[(0, 'a'), (0, 'b')]].wrapper.columns)\n",
    "print(records[[(0, 'a'), (0, 'a')]].records)\n",
    "print(records[[(0, 'a'), (0, 'a')]].wrapper.columns)\n",
    "\n",
    "%timeit big_records.iloc[:, 0]\n",
    "%timeit big_records.iloc[:, :]"
   ]
  },
  {
   "cell_type": "code",
   "execution_count": 53,
   "metadata": {},
   "outputs": [
    {
     "name": "stdout",
     "output_type": "stream",
     "text": [
      "MultiIndex([(0, 'a')],\n",
      "           )\n",
      "Int64Index([0], dtype='int64', name='lvl1')\n",
      "MultiIndex([(1, 'c')],\n",
      "           )\n",
      "Int64Index([1], dtype='int64', name='lvl1')\n",
      "MultiIndex([(0, 'a'),\n",
      "            (1, 'c')],\n",
      "           names=['lvl1', 'lvl2'])\n",
      "Int64Index([0, 1], dtype='int64', name='lvl1')\n",
      "3.97 ms ± 379 µs per loop (mean ± std. dev. of 7 runs, 100 loops each)\n",
      "23.4 ms ± 4.36 ms per loop (mean ± std. dev. of 7 runs, 100 loops each)\n"
     ]
    }
   ],
   "source": [
    "print(records_grouped[(0, 'a')].grouper.index)\n",
    "print(records_grouped[(0, 'a')].grouper.group_by)\n",
    "print(records_grouped[(1, 'c')].grouper.index)\n",
    "print(records_grouped[(1, 'c')].grouper.group_by)\n",
    "print(records_grouped[[(0, 'a'), (1, 'c')]].grouper.index)\n",
    "print(records_grouped[[(0, 'a'), (1, 'c')]].grouper.group_by)\n",
    "\n",
    "%timeit big_records_grouped.iloc[:, 0]\n",
    "%timeit big_records_grouped.iloc[:, :]"
   ]
  },
  {
   "cell_type": "code",
   "execution_count": 56,
   "metadata": {},
   "outputs": [
    {
     "name": "stdout",
     "output_type": "stream",
     "text": [
      "   col  idx  some_field1  some_field2\n",
      "0    0    0         10.0         21.0\n",
      "1    2    2         10.0         21.0\n",
      "[[ 0  1]\n",
      " [-1 -1]\n",
      " [ 1  2]\n",
      " [-1 -1]]\n"
     ]
    }
   ],
   "source": [
    "filter_mask = np.array([True, False, False, False, False, False, False, False, True])\n",
    "filtered_records = records.filter_by_mask(filter_mask)\n",
    "print(filtered_records.records)\n",
    "print(filtered_records.col_index)"
   ]
  },
  {
   "cell_type": "code",
   "execution_count": 57,
   "metadata": {},
   "outputs": [
    {
     "name": "stdout",
     "output_type": "stream",
     "text": [
      "   col  idx  some_field1  some_field2\n",
      "0    0    0         10.0         21.0\n",
      "[[0 1]]\n",
      "[10.]\n",
      "10.0\n",
      "1\n"
     ]
    }
   ],
   "source": [
    "print(filtered_records[(0, 'a')].records)\n",
    "print(filtered_records[(0, 'a')].col_index)\n",
    "print(filtered_records[(0, 'a')].map_field('some_field1').mapped_arr)\n",
    "print(filtered_records[(0, 'a')].map_field('some_field1').min())\n",
    "print(filtered_records[(0, 'a')].count())"
   ]
  },
  {
   "cell_type": "code",
   "execution_count": 58,
   "metadata": {},
   "outputs": [
    {
     "name": "stdout",
     "output_type": "stream",
     "text": [
      "Empty DataFrame\n",
      "Columns: [col, idx, some_field1, some_field2]\n",
      "Index: []\n",
      "[[-1 -1]]\n",
      "[]\n",
      "nan\n",
      "0\n"
     ]
    }
   ],
   "source": [
    "print(filtered_records[(0, 'b')].records)\n",
    "print(filtered_records[(0, 'b')].col_index)\n",
    "print(filtered_records[(0, 'b')].map_field('some_field1').mapped_arr)\n",
    "print(filtered_records[(0, 'b')].map_field('some_field1').min())\n",
    "print(filtered_records[(0, 'b')].count())"
   ]
  },
  {
   "cell_type": "code",
   "execution_count": 59,
   "metadata": {},
   "outputs": [
    {
     "name": "stdout",
     "output_type": "stream",
     "text": [
      "   col  idx  some_field1  some_field2\n",
      "0    0    2         10.0         21.0\n",
      "[[0 1]]\n",
      "[10.]\n",
      "10.0\n",
      "1\n"
     ]
    }
   ],
   "source": [
    "print(filtered_records[(1, 'c')].records)\n",
    "print(filtered_records[(1, 'c')].col_index)\n",
    "print(filtered_records[(1, 'c')].map_field('some_field1').mapped_arr)\n",
    "print(filtered_records[(1, 'c')].map_field('some_field1').min())\n",
    "print(filtered_records[(1, 'c')].count())"
   ]
  },
  {
   "cell_type": "code",
   "execution_count": 60,
   "metadata": {},
   "outputs": [
    {
     "name": "stdout",
     "output_type": "stream",
     "text": [
      "Empty DataFrame\n",
      "Columns: [col, idx, some_field1, some_field2]\n",
      "Index: []\n",
      "[[-1 -1]]\n",
      "[]\n",
      "nan\n",
      "0\n"
     ]
    }
   ],
   "source": [
    "print(filtered_records[(1, 'd')].records)\n",
    "print(filtered_records[(1, 'd')].col_index)\n",
    "print(filtered_records[(1, 'd')].map_field('some_field1').mapped_arr)\n",
    "print(filtered_records[(1, 'd')].map_field('some_field1').min())\n",
    "print(filtered_records[(1, 'd')].count())"
   ]
  },
  {
   "cell_type": "markdown",
   "metadata": {},
   "source": [
    "## Drawdowns"
   ]
  },
  {
   "cell_type": "code",
   "execution_count": 16,
   "metadata": {},
   "outputs": [],
   "source": [
    "group_by = pd.Series([0, 0, 1, 1], name='group')\n",
    "big_group_by = pd.Series(np.repeat(np.array([0, 1]), 500))"
   ]
  },
  {
   "cell_type": "code",
   "execution_count": 17,
   "metadata": {},
   "outputs": [],
   "source": [
    "from vectorbt.records import Drawdowns"
   ]
  },
  {
   "cell_type": "code",
   "execution_count": 18,
   "metadata": {},
   "outputs": [
    {
     "name": "stdout",
     "output_type": "stream",
     "text": [
      "     a    b    c    d\n",
      "0  2.0  1.0  1.0  1.0\n",
      "1  1.0  2.0  2.0  2.0\n",
      "2  3.0  1.0  3.0  3.0\n",
      "3  1.0  3.0  2.0  4.0\n",
      "4  4.0  1.0  1.0  5.0\n",
      "5  1.0  4.0  2.0  6.0\n"
     ]
    }
   ],
   "source": [
    "ts = pd.DataFrame({\n",
    "    'a': [2, 1, 3, 1, 4, 1], \n",
    "    'b': [1, 2, 1, 3, 1, 4],\n",
    "    'c': [1, 2, 3, 2, 1, 2],\n",
    "    'd': [1, 2, 3, 4, 5, 6]\n",
    "}).astype(np.float32)\n",
    "\n",
    "print(ts)"
   ]
  },
  {
   "cell_type": "code",
   "execution_count": 19,
   "metadata": {},
   "outputs": [
    {
     "data": {
      "text/plain": [
       "(1000, 1000)"
      ]
     },
     "execution_count": 19,
     "metadata": {},
     "output_type": "execute_result"
    }
   ],
   "source": [
    "big_ts = pd.DataFrame(np.random.randint(1, 10, size=(1000, 1000)).astype(float))\n",
    "big_ts.shape"
   ]
  },
  {
   "cell_type": "code",
   "execution_count": 20,
   "metadata": {},
   "outputs": [],
   "source": [
    "drawdowns = Drawdowns.from_ts(ts, freq='1 days')\n",
    "big_drawdowns = Drawdowns.from_ts(big_ts, freq='1 days')"
   ]
  },
  {
   "cell_type": "code",
   "execution_count": 21,
   "metadata": {},
   "outputs": [
    {
     "name": "stdout",
     "output_type": "stream",
     "text": [
      "10.9 ms ± 2.74 ms per loop (mean ± std. dev. of 7 runs, 100 loops each)\n"
     ]
    }
   ],
   "source": [
    "%timeit Drawdowns.from_ts(big_ts, freq='1 days')"
   ]
  },
  {
   "cell_type": "code",
   "execution_count": 32,
   "metadata": {},
   "outputs": [
    {
     "name": "stdout",
     "output_type": "stream",
     "text": [
      "   col  start_idx  valley_idx  end_idx  status\n",
      "0    0          0           1        2       1\n",
      "1    0          2           3        4       1\n",
      "2    0          4           5        5       0\n",
      "3    1          1           2        3       1\n",
      "4    1          3           4        5       1\n",
      "5    2          2           4        5       0\n",
      "     a    b    c    d\n",
      "0  2.0  1.0  1.0  1.0\n",
      "1  1.0  2.0  2.0  2.0\n",
      "2  3.0  1.0  3.0  3.0\n",
      "3  1.0  3.0  2.0  4.0\n",
      "4  4.0  1.0  1.0  5.0\n",
      "5  1.0  4.0  2.0  6.0\n",
      "   col  start_idx  valley_idx  end_idx  status\n",
      "0    0          0           1        2       1\n",
      "1    0          2           3        4       1\n",
      "2    0          4           5        5       0\n",
      "0    2.0\n",
      "1    1.0\n",
      "2    3.0\n",
      "3    1.0\n",
      "4    4.0\n",
      "5    1.0\n",
      "Name: a, dtype: float32\n"
     ]
    }
   ],
   "source": [
    "print(drawdowns.records)\n",
    "print(drawdowns.ts)\n",
    "\n",
    "print(drawdowns['a'].records)\n",
    "print(drawdowns['a'].ts)"
   ]
  },
  {
   "cell_type": "code",
   "execution_count": 22,
   "metadata": {},
   "outputs": [
    {
     "data": {
      "image/png": "[encoded data removed]"
     },
     "metadata": {},
     "output_type": "display_data"
    }
   ],
   "source": [
    "drawdowns['a'].plot().show_png()"
   ]
  },
  {
   "cell_type": "code",
   "execution_count": 23,
   "metadata": {},
   "outputs": [
    {
     "data": {
      "image/png": "[encoded data removed]"
     },
     "metadata": {},
     "output_type": "display_data"
    }
   ],
   "source": [
    "drawdowns['c'].plot().show_png()"
   ]
  },
  {
   "cell_type": "code",
   "execution_count": 13,
   "metadata": {},
   "outputs": [
    {
     "name": "stdout",
     "output_type": "stream",
     "text": [
      "3\n",
      "a    3\n",
      "b    2\n",
      "c    1\n",
      "d    0\n",
      "dtype: int64\n",
      "0    3\n",
      "1    0\n",
      "dtype: int64\n",
      "0    5\n",
      "1    1\n",
      "dtype: int64\n"
     ]
    }
   ],
   "source": [
    "print(drawdowns['a'].count())\n",
    "print(drawdowns.count())\n",
    "\n",
    "print(drawdowns['a'].count(group_by=np.array([0, 0, 1, 1])))\n",
    "print(drawdowns.count(group_by=np.array([0, 0, 1, 1])))"
   ]
  },
  {
   "cell_type": "code",
   "execution_count": 11,
   "metadata": {},
   "outputs": [
    {
     "name": "stdout",
     "output_type": "stream",
     "text": [
      "0    NaN\n",
      "1    NaN\n",
      "2    2.0\n",
      "3    NaN\n",
      "4    3.0\n",
      "5    4.0\n",
      "Name: a, dtype: float64\n",
      "     a    b    c   d\n",
      "0  NaN  NaN  NaN NaN\n",
      "1  NaN  NaN  NaN NaN\n",
      "2  2.0  NaN  NaN NaN\n",
      "3  NaN  2.0  NaN NaN\n",
      "4  3.0  NaN  NaN NaN\n",
      "5  4.0  3.0  3.0 NaN\n",
      "1.76 ms ± 13.6 µs per loop (mean ± std. dev. of 7 runs, 1000 loops each)\n"
     ]
    }
   ],
   "source": [
    "print(drawdowns['a'].start_value.to_matrix())\n",
    "print(drawdowns.start_value.to_matrix())\n",
    "\n",
    "%timeit big_drawdowns.start_value"
   ]
  },
  {
   "cell_type": "code",
   "execution_count": 12,
   "metadata": {},
   "outputs": [
    {
     "name": "stdout",
     "output_type": "stream",
     "text": [
      "0    NaN\n",
      "1    NaN\n",
      "2    1.0\n",
      "3    NaN\n",
      "4    1.0\n",
      "5    1.0\n",
      "Name: a, dtype: float64\n",
      "     a    b    c   d\n",
      "0  NaN  NaN  NaN NaN\n",
      "1  NaN  NaN  NaN NaN\n",
      "2  1.0  NaN  NaN NaN\n",
      "3  NaN  1.0  NaN NaN\n",
      "4  1.0  NaN  NaN NaN\n",
      "5  1.0  1.0  1.0 NaN\n",
      "The slowest run took 5.14 times longer than the fastest. This could mean that an intermediate result is being cached.\n",
      "2.57 ms ± 2.04 ms per loop (mean ± std. dev. of 7 runs, 1 loop each)\n"
     ]
    }
   ],
   "source": [
    "print(drawdowns['a'].valley_value.to_matrix())\n",
    "print(drawdowns.valley_value.to_matrix())\n",
    "\n",
    "%timeit big_drawdowns.valley_value"
   ]
  },
  {
   "cell_type": "code",
   "execution_count": 13,
   "metadata": {},
   "outputs": [
    {
     "name": "stdout",
     "output_type": "stream",
     "text": [
      "0    NaN\n",
      "1    NaN\n",
      "2    3.0\n",
      "3    NaN\n",
      "4    4.0\n",
      "5    1.0\n",
      "Name: a, dtype: float64\n",
      "     a    b    c   d\n",
      "0  NaN  NaN  NaN NaN\n",
      "1  NaN  NaN  NaN NaN\n",
      "2  3.0  NaN  NaN NaN\n",
      "3  NaN  3.0  NaN NaN\n",
      "4  4.0  NaN  NaN NaN\n",
      "5  1.0  4.0  2.0 NaN\n",
      "1.97 ms ± 291 µs per loop (mean ± std. dev. of 7 runs, 1 loop each)\n"
     ]
    }
   ],
   "source": [
    "print(drawdowns['a'].end_value.to_matrix())\n",
    "print(drawdowns.end_value.to_matrix())\n",
    "\n",
    "%timeit big_drawdowns.end_value"
   ]
  },
  {
   "cell_type": "code",
   "execution_count": 14,
   "metadata": {},
   "outputs": [
    {
     "name": "stdout",
     "output_type": "stream",
     "text": [
      "0         NaN\n",
      "1         NaN\n",
      "2   -0.500000\n",
      "3         NaN\n",
      "4   -0.666667\n",
      "5   -0.750000\n",
      "Name: a, dtype: float64\n",
      "          a         b         c   d\n",
      "0       NaN       NaN       NaN NaN\n",
      "1       NaN       NaN       NaN NaN\n",
      "2 -0.500000       NaN       NaN NaN\n",
      "3       NaN -0.500000       NaN NaN\n",
      "4 -0.666667       NaN       NaN NaN\n",
      "5 -0.750000 -0.666667 -0.666667 NaN\n",
      "4.07 ms ± 412 µs per loop (mean ± std. dev. of 7 runs, 100 loops each)\n"
     ]
    }
   ],
   "source": [
    "print(drawdowns['a'].drawdown.to_matrix())\n",
    "print(drawdowns.drawdown.to_matrix())\n",
    "\n",
    "%timeit big_drawdowns.drawdown"
   ]
  },
  {
   "cell_type": "code",
   "execution_count": 14,
   "metadata": {},
   "outputs": [
    {
     "name": "stdout",
     "output_type": "stream",
     "text": [
      "-0.6388888955116272\n",
      "a   -0.638889\n",
      "b   -0.583333\n",
      "c   -0.666667\n",
      "d    0.000000\n",
      "dtype: float64\n",
      "4.13 ms ± 38.3 µs per loop (mean ± std. dev. of 7 runs, 100 loops each)\n",
      "group\n",
      "0   -0.616667\n",
      "1   -0.666667\n",
      "dtype: float64\n",
      "4.54 ms ± 38 µs per loop (mean ± std. dev. of 7 runs, 100 loops each)\n"
     ]
    }
   ],
   "source": [
    "print(drawdowns['a'].avg_drawdown())\n",
    "print(drawdowns.avg_drawdown())\n",
    "%timeit big_drawdowns.avg_drawdown()\n",
    "\n",
    "print(drawdowns.avg_drawdown(group_by=group_by))\n",
    "%timeit big_drawdowns.avg_drawdown(group_by=big_group_by)"
   ]
  },
  {
   "cell_type": "code",
   "execution_count": 21,
   "metadata": {},
   "outputs": [
    {
     "name": "stdout",
     "output_type": "stream",
     "text": [
      "-0.75\n",
      "a   -0.750000\n",
      "b   -0.666667\n",
      "c   -0.666667\n",
      "d    0.000000\n",
      "dtype: float64\n",
      "4.17 ms ± 10.4 µs per loop (mean ± std. dev. of 7 runs, 100 loops each)\n",
      "group\n",
      "0   -0.750000\n",
      "1   -0.666667\n",
      "dtype: float64\n",
      "4.57 ms ± 43.1 µs per loop (mean ± std. dev. of 7 runs, 100 loops each)\n"
     ]
    }
   ],
   "source": [
    "print(drawdowns['a'].max_drawdown())\n",
    "print(drawdowns.max_drawdown())\n",
    "%timeit big_drawdowns.max_drawdown()\n",
    "\n",
    "print(drawdowns.max_drawdown(group_by=group_by))\n",
    "%timeit big_drawdowns.max_drawdown(group_by=big_group_by)"
   ]
  },
  {
   "cell_type": "code",
   "execution_count": 22,
   "metadata": {},
   "outputs": [
    {
     "name": "stdout",
     "output_type": "stream",
     "text": [
      "0    NaN\n",
      "1    NaN\n",
      "2    2.0\n",
      "3    NaN\n",
      "4    2.0\n",
      "5    1.0\n",
      "Name: a, dtype: float64\n",
      "     a    b    c   d\n",
      "0  NaN  NaN  NaN NaN\n",
      "1  NaN  NaN  NaN NaN\n",
      "2  2.0  NaN  NaN NaN\n",
      "3  NaN  2.0  NaN NaN\n",
      "4  2.0  NaN  NaN NaN\n",
      "5  1.0  2.0  3.0 NaN\n",
      "783 µs ± 46.1 µs per loop (mean ± std. dev. of 7 runs, 1000 loops each)\n"
     ]
    }
   ],
   "source": [
    "print(drawdowns['a'].duration.to_matrix())\n",
    "print(drawdowns.duration.to_matrix())\n",
    "\n",
    "%timeit big_drawdowns.duration"
   ]
  },
  {
   "cell_type": "code",
   "execution_count": 24,
   "metadata": {},
   "outputs": [
    {
     "name": "stdout",
     "output_type": "stream",
     "text": [
      "1 days 16:00:00\n",
      "a   1 days 16:00:00\n",
      "b   2 days 00:00:00\n",
      "c   3 days 00:00:00\n",
      "d               NaT\n",
      "dtype: timedelta64[ns]\n",
      "1.59 ms ± 174 µs per loop (mean ± std. dev. of 7 runs, 1000 loops each)\n",
      "group\n",
      "0   1 days 19:12:00\n",
      "1   3 days 00:00:00\n",
      "dtype: timedelta64[ns]\n",
      "2.25 ms ± 234 µs per loop (mean ± std. dev. of 7 runs, 1000 loops each)\n"
     ]
    }
   ],
   "source": [
    "print(drawdowns['a'].avg_duration())\n",
    "print(drawdowns.avg_duration())\n",
    "%timeit big_drawdowns.avg_duration()\n",
    "\n",
    "print(drawdowns.avg_duration(group_by=group_by))\n",
    "%timeit big_drawdowns.avg_duration(group_by=big_group_by)"
   ]
  },
  {
   "cell_type": "code",
   "execution_count": 25,
   "metadata": {},
   "outputs": [
    {
     "name": "stdout",
     "output_type": "stream",
     "text": [
      "2 days 00:00:00\n",
      "a   2 days\n",
      "b   2 days\n",
      "c   3 days\n",
      "d      NaT\n",
      "dtype: timedelta64[ns]\n",
      "1.71 ms ± 144 µs per loop (mean ± std. dev. of 7 runs, 100 loops each)\n",
      "group\n",
      "0   2 days\n",
      "1   3 days\n",
      "dtype: timedelta64[ns]\n",
      "2.4 ms ± 430 µs per loop (mean ± std. dev. of 7 runs, 100 loops each)\n"
     ]
    }
   ],
   "source": [
    "print(drawdowns['a'].max_duration())\n",
    "print(drawdowns.max_duration())\n",
    "%timeit big_drawdowns.max_duration()\n",
    "\n",
    "print(drawdowns.max_duration(group_by=group_by))\n",
    "%timeit big_drawdowns.max_duration(group_by=big_group_by)"
   ]
  },
  {
   "cell_type": "code",
   "execution_count": 14,
   "metadata": {},
   "outputs": [
    {
     "name": "stdout",
     "output_type": "stream",
     "text": [
      "group\n",
      "0    9.0\n",
      "1    3.0\n",
      "dtype: float64\n"
     ]
    }
   ],
   "source": [
    "print(drawdowns.duration.sum(group_by=group_by))"
   ]
  },
  {
   "cell_type": "code",
   "execution_count": 11,
   "metadata": {},
   "outputs": [
    {
     "name": "stdout",
     "output_type": "stream",
     "text": [
      "0.8333333333333334\n",
      "a    0.833333\n",
      "b    0.666667\n",
      "c    0.500000\n",
      "d    0.000000\n",
      "dtype: float64\n",
      "2.17 ms ± 400 µs per loop (mean ± std. dev. of 7 runs, 1000 loops each)\n",
      "group\n",
      "0    0.75\n",
      "1    0.25\n",
      "dtype: float64\n",
      "2.69 ms ± 24.6 µs per loop (mean ± std. dev. of 7 runs, 100 loops each)\n"
     ]
    }
   ],
   "source": [
    "print(drawdowns['a'].coverage())\n",
    "print(drawdowns.coverage())\n",
    "%timeit big_drawdowns.coverage()\n",
    "\n",
    "print(drawdowns.coverage(group_by=group_by))\n",
    "%timeit big_drawdowns.coverage(group_by=big_group_by)"
   ]
  },
  {
   "cell_type": "code",
   "execution_count": 12,
   "metadata": {},
   "outputs": [
    {
     "name": "stdout",
     "output_type": "stream",
     "text": [
      "0    NaN\n",
      "1    NaN\n",
      "2    1.0\n",
      "3    NaN\n",
      "4    1.0\n",
      "5    1.0\n",
      "Name: a, dtype: float64\n",
      "     a    b    c   d\n",
      "0  NaN  NaN  NaN NaN\n",
      "1  NaN  NaN  NaN NaN\n",
      "2  1.0  NaN  NaN NaN\n",
      "3  NaN  1.0  NaN NaN\n",
      "4  1.0  NaN  NaN NaN\n",
      "5  1.0  1.0  2.0 NaN\n",
      "738 µs ± 119 µs per loop (mean ± std. dev. of 7 runs, 1000 loops each)\n"
     ]
    }
   ],
   "source": [
    "print(drawdowns['a'].ptv_duration.to_matrix())\n",
    "print(drawdowns.ptv_duration.to_matrix())\n",
    "\n",
    "%timeit big_drawdowns.ptv_duration"
   ]
  },
  {
   "cell_type": "code",
   "execution_count": 13,
   "metadata": {},
   "outputs": [
    {
     "name": "stdout",
     "output_type": "stream",
     "text": [
      "0    NaN\n",
      "1    NaN\n",
      "2    1.0\n",
      "3    NaN\n",
      "4    1.0\n",
      "5    0.0\n",
      "Name: a, dtype: float64\n",
      "     a    b    c   d\n",
      "0  NaN  NaN  NaN NaN\n",
      "1  NaN  NaN  NaN NaN\n",
      "2  1.0  NaN  NaN NaN\n",
      "3  NaN  1.0  NaN NaN\n",
      "4  1.0  NaN  NaN NaN\n",
      "5  0.0  1.0  0.0 NaN\n",
      "10.9 µs ± 393 ns per loop (mean ± std. dev. of 7 runs, 100000 loops each)\n"
     ]
    }
   ],
   "source": [
    "print(drawdowns['a'].status.to_matrix())\n",
    "print(drawdowns.status.to_matrix())\n",
    "\n",
    "%timeit big_drawdowns.status"
   ]
  },
  {
   "cell_type": "code",
   "execution_count": 14,
   "metadata": {},
   "outputs": [
    {
     "name": "stdout",
     "output_type": "stream",
     "text": [
      "0.6666666666666666\n",
      "a    0.666667\n",
      "b    1.000000\n",
      "c    0.000000\n",
      "d         NaN\n",
      "dtype: float64\n"
     ]
    },
    {
     "name": "stderr",
     "output_type": "stream",
     "text": [
      "/Users/olegpolakow/Documents/SourceTree/vectorbt/vectorbt/records/drawdowns.py:417: RuntimeWarning: invalid value encountered in true_divide\n",
      "  return self.wrapper.wrap_reduced(recovered_count / total_count, columns=columns, **kwargs)\n"
     ]
    },
    {
     "name": "stdout",
     "output_type": "stream",
     "text": [
      "4.28 ms ± 46.7 µs per loop (mean ± std. dev. of 7 runs, 100 loops each)\n",
      "group\n",
      "0    0.8\n",
      "1    0.0\n",
      "dtype: float64\n",
      "4.9 ms ± 45 µs per loop (mean ± std. dev. of 7 runs, 100 loops each)\n"
     ]
    }
   ],
   "source": [
    "print(drawdowns['a'].recovered_rate())\n",
    "print(drawdowns.recovered_rate())\n",
    "%timeit big_drawdowns.recovered_rate()\n",
    "\n",
    "print(drawdowns.recovered_rate(group_by=group_by))\n",
    "%timeit big_drawdowns.recovered_rate(group_by=big_group_by)"
   ]
  },
  {
   "cell_type": "code",
   "execution_count": 15,
   "metadata": {},
   "outputs": [
    {
     "name": "stdout",
     "output_type": "stream",
     "text": [
      "   col  start_idx  valley_idx  end_idx  status\n",
      "0    0          4           5        5       0\n",
      "   col  start_idx  valley_idx  end_idx  status\n",
      "0    0          4           5        5       0\n",
      "   col  start_idx  valley_idx  end_idx  status\n",
      "0    0          4           5        5       0\n",
      "1    2          2           4        5       0\n"
     ]
    }
   ],
   "source": [
    "print(drawdowns['a'].active.records)\n",
    "print(drawdowns.active['a'].records)\n",
    "print(drawdowns.active.records)"
   ]
  },
  {
   "cell_type": "code",
   "execution_count": 16,
   "metadata": {},
   "outputs": [
    {
     "name": "stdout",
     "output_type": "stream",
     "text": [
      "   col  start_idx  valley_idx  end_idx  status\n",
      "0    0          0           1        2       1\n",
      "1    0          2           3        4       1\n",
      "   col  start_idx  valley_idx  end_idx  status\n",
      "0    0          0           1        2       1\n",
      "1    0          2           3        4       1\n",
      "   col  start_idx  valley_idx  end_idx  status\n",
      "0    0          0           1        2       1\n",
      "1    0          2           3        4       1\n",
      "2    1          1           2        3       1\n",
      "3    1          3           4        5       1\n"
     ]
    }
   ],
   "source": [
    "print(drawdowns['a'].recovered.records)\n",
    "print(drawdowns.recovered['a'].records)\n",
    "print(drawdowns.recovered.records)"
   ]
  },
  {
   "cell_type": "code",
   "execution_count": 17,
   "metadata": {},
   "outputs": [
    {
     "name": "stdout",
     "output_type": "stream",
     "text": [
      "379 µs ± 28.5 µs per loop (mean ± std. dev. of 7 runs, 1000 loops each)\n"
     ]
    }
   ],
   "source": [
    "%timeit big_drawdowns.active"
   ]
  },
  {
   "cell_type": "code",
   "execution_count": 18,
   "metadata": {},
   "outputs": [
    {
     "name": "stdout",
     "output_type": "stream",
     "text": [
      "2.45 ms ± 152 µs per loop (mean ± std. dev. of 7 runs, 100 loops each)\n"
     ]
    }
   ],
   "source": [
    "%timeit big_drawdowns.recovered"
   ]
  },
  {
   "cell_type": "code",
   "execution_count": 11,
   "metadata": {},
   "outputs": [
    {
     "name": "stdout",
     "output_type": "stream",
     "text": [
      "-0.75\n",
      "a   -0.750000\n",
      "b         NaN\n",
      "c   -0.666667\n",
      "d         NaN\n",
      "dtype: float64\n",
      "864 µs ± 71 µs per loop (mean ± std. dev. of 7 runs, 1000 loops each)\n"
     ]
    }
   ],
   "source": [
    "print(drawdowns['a'].active.current_drawdown())\n",
    "print(drawdowns.active.current_drawdown())\n",
    "\n",
    "%timeit big_drawdowns.active.current_drawdown()"
   ]
  },
  {
   "cell_type": "code",
   "execution_count": 12,
   "metadata": {},
   "outputs": [
    {
     "name": "stdout",
     "output_type": "stream",
     "text": [
      "1 days 00:00:00\n",
      "a   1 days\n",
      "b      NaT\n",
      "c   3 days\n",
      "d      NaT\n",
      "dtype: timedelta64[ns]\n",
      "734 µs ± 15.7 µs per loop (mean ± std. dev. of 7 runs, 1000 loops each)\n"
     ]
    }
   ],
   "source": [
    "print(drawdowns['a'].active.current_duration())\n",
    "print(drawdowns.active.current_duration())\n",
    "\n",
    "%timeit big_drawdowns.active.current_duration()"
   ]
  },
  {
   "cell_type": "code",
   "execution_count": 22,
   "metadata": {},
   "outputs": [
    {
     "name": "stdout",
     "output_type": "stream",
     "text": [
      "0.0\n",
      "a    0.0\n",
      "b    NaN\n",
      "c    1.0\n",
      "d    NaN\n",
      "dtype: float64\n",
      "990 µs ± 155 µs per loop (mean ± std. dev. of 7 runs, 1 loop each)\n"
     ]
    }
   ],
   "source": [
    "print(drawdowns['a'].active.current_return())\n",
    "print(drawdowns.active.current_return())\n",
    "\n",
    "%timeit big_drawdowns.active.current_return()"
   ]
  },
  {
   "cell_type": "code",
   "execution_count": 23,
   "metadata": {},
   "outputs": [
    {
     "name": "stdout",
     "output_type": "stream",
     "text": [
      "0    NaN\n",
      "1    NaN\n",
      "2    2.0\n",
      "3    NaN\n",
      "4    3.0\n",
      "5    NaN\n",
      "Name: a, dtype: float64\n",
      "     a    b   c   d\n",
      "0  NaN  NaN NaN NaN\n",
      "1  NaN  NaN NaN NaN\n",
      "2  2.0  NaN NaN NaN\n",
      "3  NaN  2.0 NaN NaN\n",
      "4  3.0  NaN NaN NaN\n",
      "5  NaN  3.0 NaN NaN\n",
      "8.46 ms ± 780 µs per loop (mean ± std. dev. of 7 runs, 100 loops each)\n"
     ]
    }
   ],
   "source": [
    "print(drawdowns['a'].recovered.recovery_return.to_matrix())\n",
    "print(drawdowns.recovered.recovery_return.to_matrix())\n",
    "\n",
    "%timeit big_drawdowns.recovered.recovery_return"
   ]
  },
  {
   "cell_type": "code",
   "execution_count": 24,
   "metadata": {},
   "outputs": [
    {
     "name": "stdout",
     "output_type": "stream",
     "text": [
      "0    NaN\n",
      "1    NaN\n",
      "2    1.0\n",
      "3    NaN\n",
      "4    1.0\n",
      "5    NaN\n",
      "Name: a, dtype: float64\n",
      "     a    b   c   d\n",
      "0  NaN  NaN NaN NaN\n",
      "1  NaN  NaN NaN NaN\n",
      "2  1.0  NaN NaN NaN\n",
      "3  NaN  1.0 NaN NaN\n",
      "4  1.0  NaN NaN NaN\n",
      "5  NaN  1.0 NaN NaN\n",
      "3.95 ms ± 517 µs per loop (mean ± std. dev. of 7 runs, 100 loops each)\n"
     ]
    }
   ],
   "source": [
    "print(drawdowns['a'].recovered.vtr_duration.to_matrix())\n",
    "print(drawdowns.recovered.vtr_duration.to_matrix())\n",
    "\n",
    "%timeit big_drawdowns.recovered.vtr_duration"
   ]
  },
  {
   "cell_type": "code",
   "execution_count": 25,
   "metadata": {},
   "outputs": [
    {
     "name": "stdout",
     "output_type": "stream",
     "text": [
      "0    NaN\n",
      "1    NaN\n",
      "2    0.5\n",
      "3    NaN\n",
      "4    0.5\n",
      "5    NaN\n",
      "Name: a, dtype: float64\n",
      "     a    b   c   d\n",
      "0  NaN  NaN NaN NaN\n",
      "1  NaN  NaN NaN NaN\n",
      "2  0.5  NaN NaN NaN\n",
      "3  NaN  0.5 NaN NaN\n",
      "4  0.5  NaN NaN NaN\n",
      "5  NaN  0.5 NaN NaN\n",
      "3.82 ms ± 481 µs per loop (mean ± std. dev. of 7 runs, 100 loops each)\n"
     ]
    }
   ],
   "source": [
    "print(drawdowns['a'].recovered.vtr_duration_ratio.to_matrix())\n",
    "print(drawdowns.recovered.vtr_duration_ratio.to_matrix())\n",
    "\n",
    "%timeit big_drawdowns.recovered.vtr_duration_ratio"
   ]
  },
  {
   "cell_type": "markdown",
   "metadata": {},
   "source": [
    "## Orders"
   ]
  },
  {
   "cell_type": "code",
   "execution_count": 8,
   "metadata": {},
   "outputs": [],
   "source": [
    "from vectorbt.records import Orders, order_dt"
   ]
  },
  {
   "cell_type": "code",
   "execution_count": 9,
   "metadata": {},
   "outputs": [
    {
     "name": "stdout",
     "output_type": "stream",
     "text": [
      "(7, 4)\n",
      "(1000, 1000)\n"
     ]
    }
   ],
   "source": [
    "from datetime import datetime\n",
    "price = pd.DataFrame({\n",
    "    'a': [1, 2, 3, 4, 5, 6, 7],\n",
    "    'b': [9, 8, 7, 6, 5, 4, 3],\n",
    "    'c': [1, 2, 3, 4, 3, 2, 1],\n",
    "    'd': [4, 3, 2, 1, 2, 3, 4]\n",
    "}).astype(float)\n",
    "print(price.shape)\n",
    "\n",
    "big_price = pd.DataFrame(np.random.uniform(1, 10, size=(1000, 1000)).astype(float))\n",
    "print(big_price.shape)"
   ]
  },
  {
   "cell_type": "code",
   "execution_count": 10,
   "metadata": {},
   "outputs": [
    {
     "name": "stdout",
     "output_type": "stream",
     "text": [
      "(14,)\n"
     ]
    }
   ],
   "source": [
    "records_arr = np.asarray([\n",
    "    (0, 2, 33.00330033, 3., 0.99009901, 0),\n",
    "    (0, 3, 33.00330033, 4., 1.32013201, 1),\n",
    "    (0, 4, 25.8798157, 5., 1.29399079, 0),\n",
    "    (0, 6, 25.8798157, 7., 1.8115871, 1),\n",
    "    (1, 2, 14.14427157, 7., 0.99009901, 0),\n",
    "    (1, 3, 14.14427157, 6., 0.84865629, 1),\n",
    "    (1, 4, 16.63702438, 5., 0.83185122, 0),\n",
    "    (1, 5, 16.63702438, 4., 0.66548098, 1),\n",
    "    (2, 0, 99.00990099, 1., 0.99009901, 0),\n",
    "    (2, 1, 99.00990099, 2., 1.98019802, 1),\n",
    "    (2, 6, 194.09861778, 1., 1.94098618, 0),\n",
    "    (3, 2, 49.5049505, 2., 0.99009901, 0),\n",
    "    (3, 4, 49.5049505, 2., 0.99009901, 1),\n",
    "    (3, 6, 24.26232722, 4., 0.97049309, 0)\n",
    "], dtype=order_dt)\n",
    "print(records_arr.shape)\n",
    "orders = Orders(records_arr, price, freq='1 days')\n",
    "orders_grouped = Orders(records_arr, price, freq='1 days', group_by=group_by)"
   ]
  },
  {
   "cell_type": "code",
   "execution_count": 11,
   "metadata": {},
   "outputs": [
    {
     "name": "stdout",
     "output_type": "stream",
     "text": [
      "(1000000,)\n"
     ]
    }
   ],
   "source": [
    "big_records_arr = np.asarray(list(zip(*(\n",
    "    np.repeat(np.arange(1000), 1000),\n",
    "    np.tile(np.arange(1000), 1000),\n",
    "    np.full(1000000, 10),\n",
    "    np.random.uniform(1, 10, size=1000000),\n",
    "    np.full(1000000, 1),\n",
    "    np.full(1000000, 1)\n",
    "))), dtype=order_dt)\n",
    "big_records_arr['side'][::2] = 0\n",
    "print(big_records_arr.shape)\n",
    "big_orders = vbt.records.Orders(big_records_arr, big_price, freq='1 days')\n",
    "big_orders_grouped = vbt.records.Orders(big_records_arr, big_price, freq='1 days', group_by=big_group_by)"
   ]
  },
  {
   "cell_type": "code",
   "execution_count": 25,
   "metadata": {},
   "outputs": [
    {
     "name": "stdout",
     "output_type": "stream",
     "text": [
      "    col  idx        size  price      fees  side\n",
      "0     0    2   33.003300    3.0  0.990099     0\n",
      "1     0    3   33.003300    4.0  1.320132     1\n",
      "2     0    4   25.879816    5.0  1.293991     0\n",
      "3     0    6   25.879816    7.0  1.811587     1\n",
      "4     1    2   14.144272    7.0  0.990099     0\n",
      "5     1    3   14.144272    6.0  0.848656     1\n",
      "6     1    4   16.637024    5.0  0.831851     0\n",
      "7     1    5   16.637024    4.0  0.665481     1\n",
      "8     2    0   99.009901    1.0  0.990099     0\n",
      "9     2    1   99.009901    2.0  1.980198     1\n",
      "10    2    6  194.098618    1.0  1.940986     0\n",
      "11    3    2   49.504950    2.0  0.990099     0\n",
      "12    3    4   49.504950    2.0  0.990099     1\n",
      "13    3    6   24.262327    4.0  0.970493     0\n",
      "     a    b    c    d\n",
      "0  1.0  9.0  1.0  4.0\n",
      "1  2.0  8.0  2.0  3.0\n",
      "2  3.0  7.0  3.0  2.0\n",
      "3  4.0  6.0  4.0  1.0\n",
      "4  5.0  5.0  3.0  2.0\n",
      "5  6.0  4.0  2.0  3.0\n",
      "6  7.0  3.0  1.0  4.0\n",
      "   col  idx       size  price      fees  side\n",
      "0    0    2  33.003300    3.0  0.990099     0\n",
      "1    0    3  33.003300    4.0  1.320132     1\n",
      "2    0    4  25.879816    5.0  1.293991     0\n",
      "3    0    6  25.879816    7.0  1.811587     1\n",
      "0    1.0\n",
      "1    2.0\n",
      "2    3.0\n",
      "3    4.0\n",
      "4    5.0\n",
      "5    6.0\n",
      "6    7.0\n",
      "Name: a, dtype: float64\n"
     ]
    }
   ],
   "source": [
    "print(orders.records)\n",
    "print(orders.main_price)\n",
    "\n",
    "print(orders['a'].records)\n",
    "print(orders['a'].main_price)"
   ]
  },
  {
   "cell_type": "code",
   "execution_count": 20,
   "metadata": {},
   "outputs": [
    {
     "data": {
      "image/png": "[encoded data removed]"
     },
     "metadata": {},
     "output_type": "display_data"
    }
   ],
   "source": [
    "orders['a'].plot().show_png()"
   ]
  },
  {
   "cell_type": "code",
   "execution_count": 21,
   "metadata": {},
   "outputs": [
    {
     "name": "stdout",
     "output_type": "stream",
     "text": [
      "0          NaN\n",
      "1          NaN\n",
      "2    33.003300\n",
      "3    33.003300\n",
      "4    25.879816\n",
      "5          NaN\n",
      "6    25.879816\n",
      "Name: a, dtype: float64\n",
      "           a          b           c          d\n",
      "0        NaN        NaN   99.009901        NaN\n",
      "1        NaN        NaN   99.009901        NaN\n",
      "2  33.003300  14.144272         NaN  49.504950\n",
      "3  33.003300  14.144272         NaN        NaN\n",
      "4  25.879816  16.637024         NaN  49.504950\n",
      "5        NaN  16.637024         NaN        NaN\n",
      "6  25.879816        NaN  194.098618  24.262327\n",
      "13.3 µs ± 1.61 µs per loop (mean ± std. dev. of 7 runs, 100000 loops each)\n"
     ]
    }
   ],
   "source": [
    "print(orders['a'].size.to_matrix())\n",
    "print(orders.size.to_matrix())\n",
    "\n",
    "%timeit big_orders.size"
   ]
  },
  {
   "cell_type": "code",
   "execution_count": 22,
   "metadata": {},
   "outputs": [
    {
     "name": "stdout",
     "output_type": "stream",
     "text": [
      "0    NaN\n",
      "1    NaN\n",
      "2    3.0\n",
      "3    4.0\n",
      "4    5.0\n",
      "5    NaN\n",
      "6    7.0\n",
      "Name: a, dtype: float64\n",
      "     a    b    c    d\n",
      "0  NaN  NaN  1.0  NaN\n",
      "1  NaN  NaN  2.0  NaN\n",
      "2  3.0  7.0  NaN  2.0\n",
      "3  4.0  6.0  NaN  NaN\n",
      "4  5.0  5.0  NaN  2.0\n",
      "5  NaN  4.0  NaN  NaN\n",
      "6  7.0  NaN  1.0  4.0\n",
      "16.8 µs ± 4.25 µs per loop (mean ± std. dev. of 7 runs, 100000 loops each)\n"
     ]
    }
   ],
   "source": [
    "print(orders['a'].price.to_matrix())\n",
    "print(orders.price.to_matrix())\n",
    "\n",
    "%timeit big_orders.price"
   ]
  },
  {
   "cell_type": "code",
   "execution_count": 23,
   "metadata": {},
   "outputs": [
    {
     "name": "stdout",
     "output_type": "stream",
     "text": [
      "0         NaN\n",
      "1         NaN\n",
      "2    0.990099\n",
      "3    1.320132\n",
      "4    1.293991\n",
      "5         NaN\n",
      "6    1.811587\n",
      "Name: a, dtype: float64\n",
      "          a         b         c         d\n",
      "0       NaN       NaN  0.990099       NaN\n",
      "1       NaN       NaN  1.980198       NaN\n",
      "2  0.990099  0.990099       NaN  0.990099\n",
      "3  1.320132  0.848656       NaN       NaN\n",
      "4  1.293991  0.831851       NaN  0.990099\n",
      "5       NaN  0.665481       NaN       NaN\n",
      "6  1.811587       NaN  1.940986  0.970493\n",
      "13.3 µs ± 2.01 µs per loop (mean ± std. dev. of 7 runs, 100000 loops each)\n"
     ]
    }
   ],
   "source": [
    "print(orders['a'].fees.to_matrix())\n",
    "print(orders.fees.to_matrix())\n",
    "\n",
    "%timeit big_orders.fees"
   ]
  },
  {
   "cell_type": "code",
   "execution_count": 24,
   "metadata": {},
   "outputs": [
    {
     "name": "stdout",
     "output_type": "stream",
     "text": [
      "0    NaN\n",
      "1    NaN\n",
      "2    0.0\n",
      "3    1.0\n",
      "4    0.0\n",
      "5    NaN\n",
      "6    1.0\n",
      "Name: a, dtype: float64\n",
      "     a    b    c    d\n",
      "0  NaN  NaN  0.0  NaN\n",
      "1  NaN  NaN  1.0  NaN\n",
      "2  0.0  0.0  NaN  0.0\n",
      "3  1.0  1.0  NaN  NaN\n",
      "4  0.0  0.0  NaN  1.0\n",
      "5  NaN  1.0  NaN  NaN\n",
      "6  1.0  NaN  0.0  0.0\n",
      "14.5 µs ± 2.47 µs per loop (mean ± std. dev. of 7 runs, 100000 loops each)\n"
     ]
    }
   ],
   "source": [
    "print(orders['a'].side.to_matrix())\n",
    "print(orders.side.to_matrix())\n",
    "\n",
    "%timeit big_orders.side"
   ]
  },
  {
   "cell_type": "code",
   "execution_count": 25,
   "metadata": {},
   "outputs": [
    {
     "name": "stdout",
     "output_type": "stream",
     "text": [
      "   col  idx       size  price      fees  side\n",
      "0    0    2  33.003300    3.0  0.990099     0\n",
      "1    0    4  25.879816    5.0  1.293991     0\n",
      "   col  idx       size  price      fees  side\n",
      "0    0    2  33.003300    3.0  0.990099     0\n",
      "1    0    4  25.879816    5.0  1.293991     0\n",
      "   col  idx        size  price      fees  side\n",
      "0    0    2   33.003300    3.0  0.990099     0\n",
      "1    0    4   25.879816    5.0  1.293991     0\n",
      "2    1    2   14.144272    7.0  0.990099     0\n",
      "3    1    4   16.637024    5.0  0.831851     0\n",
      "4    2    0   99.009901    1.0  0.990099     0\n",
      "5    2    6  194.098618    1.0  1.940986     0\n",
      "6    3    2   49.504950    2.0  0.990099     0\n",
      "7    3    6   24.262327    4.0  0.970493     0\n"
     ]
    }
   ],
   "source": [
    "print(orders['a'].buy.records)\n",
    "print(orders.buy['a'].records)\n",
    "print(orders.buy.records)"
   ]
  },
  {
   "cell_type": "code",
   "execution_count": 26,
   "metadata": {},
   "outputs": [
    {
     "name": "stdout",
     "output_type": "stream",
     "text": [
      "   col  idx       size  price      fees  side\n",
      "0    0    3  33.003300    4.0  1.320132     1\n",
      "1    0    6  25.879816    7.0  1.811587     1\n",
      "   col  idx       size  price      fees  side\n",
      "0    0    3  33.003300    4.0  1.320132     1\n",
      "1    0    6  25.879816    7.0  1.811587     1\n",
      "   col  idx       size  price      fees  side\n",
      "0    0    3  33.003300    4.0  1.320132     1\n",
      "1    0    6  25.879816    7.0  1.811587     1\n",
      "2    1    3  14.144272    6.0  0.848656     1\n",
      "3    1    5  16.637024    4.0  0.665481     1\n",
      "4    2    1  99.009901    2.0  1.980198     1\n",
      "5    3    4  49.504950    2.0  0.990099     1\n"
     ]
    }
   ],
   "source": [
    "print(orders['a'].sell.records)\n",
    "print(orders.sell['a'].records)\n",
    "print(orders.sell.records)"
   ]
  },
  {
   "cell_type": "code",
   "execution_count": 19,
   "metadata": {},
   "outputs": [
    {
     "name": "stdout",
     "output_type": "stream",
     "text": [
      "The slowest run took 5.13 times longer than the fastest. This could mean that an intermediate result is being cached.\n",
      "27.9 ms ± 15.9 ms per loop (mean ± std. dev. of 7 runs, 10 loops each)\n"
     ]
    }
   ],
   "source": [
    "%timeit big_orders.buy"
   ]
  },
  {
   "cell_type": "code",
   "execution_count": 20,
   "metadata": {},
   "outputs": [
    {
     "name": "stdout",
     "output_type": "stream",
     "text": [
      "The slowest run took 5.52 times longer than the fastest. This could mean that an intermediate result is being cached.\n",
      "30.9 ms ± 19.9 ms per loop (mean ± std. dev. of 7 runs, 10 loops each)\n"
     ]
    }
   ],
   "source": [
    "%timeit big_orders.sell"
   ]
  },
  {
   "cell_type": "code",
   "execution_count": 27,
   "metadata": {},
   "outputs": [
    {
     "name": "stdout",
     "output_type": "stream",
     "text": [
      "0          NaN\n",
      "1          NaN\n",
      "2    33.003300\n",
      "3          NaN\n",
      "4    25.879816\n",
      "5          NaN\n",
      "6          NaN\n",
      "Name: a, dtype: float64\n",
      "           a          b           c          d\n",
      "0        NaN        NaN   99.009901        NaN\n",
      "1        NaN        NaN         NaN        NaN\n",
      "2  33.003300  14.144272         NaN  49.504950\n",
      "3        NaN        NaN         NaN        NaN\n",
      "4  25.879816  16.637024         NaN        NaN\n",
      "5        NaN        NaN         NaN        NaN\n",
      "6        NaN        NaN  194.098618  24.262327\n",
      "18.4 ms ± 6.44 ms per loop (mean ± std. dev. of 7 runs, 10 loops each)\n"
     ]
    }
   ],
   "source": [
    "print(orders['a'].buy.size.to_matrix())\n",
    "print(orders.buy.size.to_matrix())\n",
    "\n",
    "%timeit big_orders.buy.size"
   ]
  },
  {
   "cell_type": "code",
   "execution_count": 28,
   "metadata": {},
   "outputs": [
    {
     "name": "stdout",
     "output_type": "stream",
     "text": [
      "0          NaN\n",
      "1          NaN\n",
      "2          NaN\n",
      "3    33.003300\n",
      "4          NaN\n",
      "5          NaN\n",
      "6    25.879816\n",
      "Name: a, dtype: float64\n",
      "           a          b          c         d\n",
      "0        NaN        NaN        NaN       NaN\n",
      "1        NaN        NaN  99.009901       NaN\n",
      "2        NaN        NaN        NaN       NaN\n",
      "3  33.003300  14.144272        NaN       NaN\n",
      "4        NaN        NaN        NaN  49.50495\n",
      "5        NaN  16.637024        NaN       NaN\n",
      "6  25.879816        NaN        NaN       NaN\n",
      "39.5 ms ± 7.98 ms per loop (mean ± std. dev. of 7 runs, 100 loops each)\n"
     ]
    }
   ],
   "source": [
    "print(orders['a'].sell.size.to_matrix())\n",
    "print(orders.sell.size.to_matrix())\n",
    "\n",
    "%timeit big_orders.sell.size"
   ]
  },
  {
   "cell_type": "markdown",
   "metadata": {},
   "source": [
    "## Trades"
   ]
  },
  {
   "cell_type": "code",
   "execution_count": 12,
   "metadata": {},
   "outputs": [],
   "source": [
    "from vectorbt.records import Trades"
   ]
  },
  {
   "cell_type": "code",
   "execution_count": 13,
   "metadata": {},
   "outputs": [
    {
     "name": "stdout",
     "output_type": "stream",
     "text": [
      "(8,)\n"
     ]
    }
   ],
   "source": [
    "trades = Trades.from_orders(orders)\n",
    "trades_grouped = Trades.from_orders(orders_grouped)\n",
    "print(trades.records_arr.shape)"
   ]
  },
  {
   "cell_type": "code",
   "execution_count": 14,
   "metadata": {},
   "outputs": [
    {
     "name": "stdout",
     "output_type": "stream",
     "text": [
      "(500000,)\n"
     ]
    }
   ],
   "source": [
    "big_trades = Trades.from_orders(big_orders)\n",
    "big_trades_grouped = Trades.from_orders(big_orders_grouped)\n",
    "print(big_trades.records_arr.shape)"
   ]
  },
  {
   "cell_type": "code",
   "execution_count": 22,
   "metadata": {},
   "outputs": [
    {
     "name": "stdout",
     "output_type": "stream",
     "text": [
      "The slowest run took 10.09 times longer than the fastest. This could mean that an intermediate result is being cached.\n",
      "68.7 ms ± 47.7 ms per loop (mean ± std. dev. of 7 runs, 10 loops each)\n"
     ]
    }
   ],
   "source": [
    "%timeit Trades.from_orders(big_orders)"
   ]
  },
  {
   "cell_type": "code",
   "execution_count": 24,
   "metadata": {},
   "outputs": [
    {
     "name": "stdout",
     "output_type": "stream",
     "text": [
      "   col        size  entry_idx  entry_price  entry_fees  exit_idx  exit_price  \\\n",
      "0    0   33.003300          2          3.0    0.990099         3         4.0   \n",
      "1    0   25.879816          4          5.0    1.293991         6         7.0   \n",
      "2    1   14.144272          2          7.0    0.990099         3         6.0   \n",
      "3    1   16.637024          4          5.0    0.831851         5         4.0   \n",
      "4    2   99.009901          0          1.0    0.990099         1         2.0   \n",
      "5    2  194.098618          6          1.0    1.940986         6         1.0   \n",
      "6    3   49.504950          2          2.0    0.990099         4         2.0   \n",
      "7    3   24.262327          6          4.0    0.970493         6         4.0   \n",
      "\n",
      "   exit_fees        pnl    return  status  position_idx  \n",
      "0   1.320132  30.693069  0.306931       1             0  \n",
      "1   1.811587  48.654054  0.372277       1             1  \n",
      "2   0.848656 -15.983027 -0.159830       1             2  \n",
      "3   0.665481 -18.134357 -0.215842       1             3  \n",
      "4   1.980198  96.039604  0.960396       1             4  \n",
      "5   0.000000  -1.940986 -0.009901       0             5  \n",
      "6   0.990099  -1.980198 -0.019802       1             6  \n",
      "7   0.000000  -0.970493 -0.009901       0             7  \n",
      "     a    b    c    d\n",
      "0  1.0  9.0  1.0  4.0\n",
      "1  2.0  8.0  2.0  3.0\n",
      "2  3.0  7.0  3.0  2.0\n",
      "3  4.0  6.0  4.0  1.0\n",
      "4  5.0  5.0  3.0  2.0\n",
      "5  6.0  4.0  2.0  3.0\n",
      "6  7.0  3.0  1.0  4.0\n",
      "   col       size  entry_idx  entry_price  entry_fees  exit_idx  exit_price  \\\n",
      "0    0  33.003300          2          3.0    0.990099         3         4.0   \n",
      "1    0  25.879816          4          5.0    1.293991         6         7.0   \n",
      "\n",
      "   exit_fees        pnl    return  status  position_idx  \n",
      "0   1.320132  30.693069  0.306931       1             0  \n",
      "1   1.811587  48.654054  0.372277       1             1  \n",
      "0    1.0\n",
      "1    2.0\n",
      "2    3.0\n",
      "3    4.0\n",
      "4    5.0\n",
      "5    6.0\n",
      "6    7.0\n",
      "Name: a, dtype: float64\n"
     ]
    }
   ],
   "source": [
    "print(trades.records)\n",
    "print(trades.main_price)\n",
    "\n",
    "print(trades['a'].records)\n",
    "print(trades['a'].main_price)"
   ]
  },
  {
   "cell_type": "code",
   "execution_count": 17,
   "metadata": {},
   "outputs": [
    {
     "data": {
      "image/png": "[encoded data removed]"
     },
     "metadata": {},
     "output_type": "display_data"
    }
   ],
   "source": [
    "trades['a'].plot().show_png()"
   ]
  },
  {
   "cell_type": "code",
   "execution_count": 23,
   "metadata": {},
   "outputs": [
    {
     "name": "stdout",
     "output_type": "stream",
     "text": [
      "2\n",
      "a    2\n",
      "b    2\n",
      "c    2\n",
      "d    2\n",
      "dtype: int64\n",
      "4.3 ms ± 469 µs per loop (mean ± std. dev. of 7 runs, 100 loops each)\n",
      "group\n",
      "0    4\n",
      "1    4\n",
      "dtype: int64\n",
      "5.35 ms ± 456 µs per loop (mean ± std. dev. of 7 runs, 100 loops each)\n"
     ]
    }
   ],
   "source": [
    "print(trades['a'].count())\n",
    "print(trades.count())\n",
    "%timeit big_trades.count()\n",
    "\n",
    "print(trades_grouped.count())\n",
    "%timeit big_trades_grouped.count()"
   ]
  },
  {
   "cell_type": "code",
   "execution_count": 24,
   "metadata": {},
   "outputs": [
    {
     "name": "stdout",
     "output_type": "stream",
     "text": [
      "0    NaN\n",
      "1    NaN\n",
      "2    NaN\n",
      "3    1.0\n",
      "4    NaN\n",
      "5    NaN\n",
      "6    2.0\n",
      "Name: a, dtype: float64\n",
      "     a    b    c    d\n",
      "0  NaN  NaN  NaN  NaN\n",
      "1  NaN  NaN  1.0  NaN\n",
      "2  NaN  NaN  NaN  NaN\n",
      "3  1.0  1.0  NaN  NaN\n",
      "4  NaN  NaN  NaN  2.0\n",
      "5  NaN  1.0  NaN  NaN\n",
      "6  2.0  NaN  0.0  0.0\n",
      "6.04 ms ± 692 µs per loop (mean ± std. dev. of 7 runs, 100 loops each)\n"
     ]
    }
   ],
   "source": [
    "print(trades['a'].duration.to_matrix())\n",
    "print(trades.duration.to_matrix())\n",
    "\n",
    "%timeit big_trades.duration"
   ]
  },
  {
   "cell_type": "code",
   "execution_count": 24,
   "metadata": {},
   "outputs": [
    {
     "name": "stdout",
     "output_type": "stream",
     "text": [
      "0.42857142857142855\n",
      "a    0.428571\n",
      "b    0.285714\n",
      "c    0.142857\n",
      "d    0.285714\n",
      "dtype: float64\n",
      "11.7 ms ± 1.2 ms per loop (mean ± std. dev. of 7 runs, 100 loops each)\n",
      "group\n",
      "0    0.357143\n",
      "1    0.214286\n",
      "dtype: float64\n",
      "12.3 ms ± 614 µs per loop (mean ± std. dev. of 7 runs, 100 loops each)\n"
     ]
    }
   ],
   "source": [
    "print(trades['a'].coverage())\n",
    "print(trades.coverage())\n",
    "%timeit big_trades.coverage()\n",
    "\n",
    "print(trades_grouped.coverage())\n",
    "%timeit big_trades_grouped.coverage()"
   ]
  },
  {
   "cell_type": "code",
   "execution_count": 26,
   "metadata": {},
   "outputs": [
    {
     "name": "stdout",
     "output_type": "stream",
     "text": [
      "0          NaN\n",
      "1          NaN\n",
      "2          NaN\n",
      "3    30.693069\n",
      "4          NaN\n",
      "5          NaN\n",
      "6    48.654054\n",
      "Name: a, dtype: float64\n",
      "           a          b          c         d\n",
      "0        NaN        NaN        NaN       NaN\n",
      "1        NaN        NaN  96.039604       NaN\n",
      "2        NaN        NaN        NaN       NaN\n",
      "3  30.693069 -15.983027        NaN       NaN\n",
      "4        NaN        NaN        NaN -1.980198\n",
      "5        NaN -18.134357        NaN       NaN\n",
      "6  48.654054        NaN  -1.940986 -0.970493\n",
      "11.3 µs ± 1.45 µs per loop (mean ± std. dev. of 7 runs, 100000 loops each)\n"
     ]
    }
   ],
   "source": [
    "print(trades['a'].pnl.to_matrix())\n",
    "print(trades.pnl.to_matrix())\n",
    "\n",
    "%timeit big_trades.pnl"
   ]
  },
  {
   "cell_type": "code",
   "execution_count": 27,
   "metadata": {},
   "outputs": [
    {
     "name": "stdout",
     "output_type": "stream",
     "text": [
      "0         NaN\n",
      "1         NaN\n",
      "2         NaN\n",
      "3    0.306931\n",
      "4         NaN\n",
      "5         NaN\n",
      "6    0.372277\n",
      "Name: a, dtype: float64\n",
      "          a         b         c         d\n",
      "0       NaN       NaN       NaN       NaN\n",
      "1       NaN       NaN  0.960396       NaN\n",
      "2       NaN       NaN       NaN       NaN\n",
      "3  0.306931 -0.159830       NaN       NaN\n",
      "4       NaN       NaN       NaN -0.019802\n",
      "5       NaN -0.215842       NaN       NaN\n",
      "6  0.372277       NaN -0.009901 -0.009901\n",
      "9.88 µs ± 23.9 ns per loop (mean ± std. dev. of 7 runs, 100000 loops each)\n"
     ]
    }
   ],
   "source": [
    "print(trades['a'].returns.to_matrix())\n",
    "print(trades.returns.to_matrix())\n",
    "\n",
    "%timeit big_trades.returns"
   ]
  },
  {
   "cell_type": "code",
   "execution_count": 28,
   "metadata": {},
   "outputs": [
    {
     "name": "stdout",
     "output_type": "stream",
     "text": [
      "   col       size  entry_idx  entry_price  entry_fees  exit_idx  exit_price  \\\n",
      "0    0  33.003300          2          3.0    0.990099         3         4.0   \n",
      "1    0  25.879816          4          5.0    1.293991         6         7.0   \n",
      "\n",
      "   exit_fees        pnl    return  status  position_idx  \n",
      "0   1.320132  30.693069  0.306931       1             0  \n",
      "1   1.811587  48.654054  0.372277       1             1  \n",
      "   col       size  entry_idx  entry_price  entry_fees  exit_idx  exit_price  \\\n",
      "0    0  33.003300          2          3.0    0.990099         3         4.0   \n",
      "1    0  25.879816          4          5.0    1.293991         6         7.0   \n",
      "\n",
      "   exit_fees        pnl    return  status  position_idx  \n",
      "0   1.320132  30.693069  0.306931       1             0  \n",
      "1   1.811587  48.654054  0.372277       1             1  \n",
      "   col       size  entry_idx  entry_price  entry_fees  exit_idx  exit_price  \\\n",
      "0    0  33.003300          2          3.0    0.990099         3         4.0   \n",
      "1    0  25.879816          4          5.0    1.293991         6         7.0   \n",
      "2    2  99.009901          0          1.0    0.990099         1         2.0   \n",
      "\n",
      "   exit_fees        pnl    return  status  position_idx  \n",
      "0   1.320132  30.693069  0.306931       1             0  \n",
      "1   1.811587  48.654054  0.372277       1             1  \n",
      "2   1.980198  96.039604  0.960396       1             4  \n"
     ]
    }
   ],
   "source": [
    "print(trades['a'].winning.records)\n",
    "print(trades.winning['a'].records)\n",
    "print(trades.winning.records)"
   ]
  },
  {
   "cell_type": "code",
   "execution_count": 29,
   "metadata": {},
   "outputs": [
    {
     "name": "stdout",
     "output_type": "stream",
     "text": [
      "Empty DataFrame\n",
      "Columns: [col, size, entry_idx, entry_price, entry_fees, exit_idx, exit_price, exit_fees, pnl, return, status, position_idx]\n",
      "Index: []\n",
      "Empty DataFrame\n",
      "Columns: [col, size, entry_idx, entry_price, entry_fees, exit_idx, exit_price, exit_fees, pnl, return, status, position_idx]\n",
      "Index: []\n",
      "   col        size  entry_idx  entry_price  entry_fees  exit_idx  exit_price  \\\n",
      "0    1   14.144272          2          7.0    0.990099         3         6.0   \n",
      "1    1   16.637024          4          5.0    0.831851         5         4.0   \n",
      "2    2  194.098618          6          1.0    1.940986         6         1.0   \n",
      "3    3   49.504950          2          2.0    0.990099         4         2.0   \n",
      "4    3   24.262327          6          4.0    0.970493         6         4.0   \n",
      "\n",
      "   exit_fees        pnl    return  status  position_idx  \n",
      "0   0.848656 -15.983027 -0.159830       1             2  \n",
      "1   0.665481 -18.134357 -0.215842       1             3  \n",
      "2   0.000000  -1.940986 -0.009901       0             5  \n",
      "3   0.990099  -1.980198 -0.019802       1             6  \n",
      "4   0.000000  -0.970493 -0.009901       0             7  \n"
     ]
    }
   ],
   "source": [
    "print(trades['a'].losing.records)\n",
    "print(trades.losing['a'].records)\n",
    "print(trades.losing.records)"
   ]
  },
  {
   "cell_type": "code",
   "execution_count": 30,
   "metadata": {},
   "outputs": [
    {
     "name": "stdout",
     "output_type": "stream",
     "text": [
      "16.6 ms ± 3.44 ms per loop (mean ± std. dev. of 7 runs, 10 loops each)\n"
     ]
    }
   ],
   "source": [
    "%timeit big_trades.winning"
   ]
  },
  {
   "cell_type": "code",
   "execution_count": 32,
   "metadata": {},
   "outputs": [
    {
     "name": "stdout",
     "output_type": "stream",
     "text": [
      "17.5 ms ± 3.82 ms per loop (mean ± std. dev. of 7 runs, 10 loops each)\n"
     ]
    }
   ],
   "source": [
    "%timeit big_trades.losing"
   ]
  },
  {
   "cell_type": "code",
   "execution_count": 25,
   "metadata": {},
   "outputs": [
    {
     "name": "stdout",
     "output_type": "stream",
     "text": [
      "1.0\n",
      "a    1.0\n",
      "b    0.0\n",
      "c    0.5\n",
      "d    0.0\n",
      "dtype: float64\n",
      "24 ms ± 4.62 ms per loop (mean ± std. dev. of 7 runs, 10 loops each)\n",
      "group\n",
      "0    0.50\n",
      "1    0.25\n",
      "dtype: float64\n",
      "25.7 ms ± 4.15 ms per loop (mean ± std. dev. of 7 runs, 10 loops each)\n"
     ]
    }
   ],
   "source": [
    "print(trades['a'].win_rate())\n",
    "print(trades.win_rate())\n",
    "%timeit big_trades.win_rate()\n",
    "\n",
    "print(trades_grouped.win_rate())\n",
    "%timeit big_trades_grouped.win_rate()"
   ]
  },
  {
   "cell_type": "code",
   "execution_count": 26,
   "metadata": {},
   "outputs": [
    {
     "name": "stderr",
     "output_type": "stream",
     "text": [
      "/Users/olegpolakow/Documents/SourceTree/vectorbt/vectorbt/records/events.py:346: RuntimeWarning: divide by zero encountered in true_divide\n",
      "  profit_factor = total_win / np.abs(total_loss)\n"
     ]
    },
    {
     "name": "stdout",
     "output_type": "stream",
     "text": [
      "inf\n",
      "a          inf\n",
      "b     0.000000\n",
      "c    49.479798\n",
      "d     0.000000\n",
      "dtype: float64\n",
      "45.7 ms ± 8.95 ms per loop (mean ± std. dev. of 7 runs, 10 loops each)\n",
      "group\n",
      "0     2.325710\n",
      "1    19.633267\n",
      "dtype: float64\n",
      "53.7 ms ± 8.64 ms per loop (mean ± std. dev. of 7 runs, 10 loops each)\n"
     ]
    }
   ],
   "source": [
    "print(trades['a'].profit_factor())\n",
    "print(trades.profit_factor())\n",
    "%timeit big_trades.profit_factor()\n",
    "\n",
    "print(trades_grouped.profit_factor())\n",
    "%timeit big_trades_grouped.profit_factor()"
   ]
  },
  {
   "cell_type": "code",
   "execution_count": 27,
   "metadata": {},
   "outputs": [
    {
     "name": "stdout",
     "output_type": "stream",
     "text": [
      "39.673561410000005\n",
      "a    39.673561\n",
      "b   -17.058692\n",
      "c    47.049309\n",
      "d    -1.475346\n",
      "dtype: float64\n",
      "69.5 ms ± 8.72 ms per loop (mean ± std. dev. of 7 runs, 10 loops each)\n",
      "group\n",
      "0    11.307435\n",
      "1    22.786982\n",
      "dtype: float64\n",
      "79.9 ms ± 6 ms per loop (mean ± std. dev. of 7 runs, 10 loops each)\n"
     ]
    }
   ],
   "source": [
    "print(trades['a'].expectancy())\n",
    "print(trades.expectancy())\n",
    "%timeit big_trades.expectancy()\n",
    "\n",
    "print(trades_grouped.expectancy())\n",
    "%timeit big_trades_grouped.expectancy()"
   ]
  },
  {
   "cell_type": "code",
   "execution_count": 28,
   "metadata": {},
   "outputs": [
    {
     "name": "stdout",
     "output_type": "stream",
     "text": [
      "4.417749157643597\n",
      "a     4.417749\n",
      "b   -15.858742\n",
      "c     0.960380\n",
      "d    -2.922330\n",
      "dtype: float64\n",
      "16.4 ms ± 938 µs per loop (mean ± std. dev. of 7 runs, 100 loops each)\n",
      "group\n",
      "0    0.673531\n",
      "1    0.933179\n",
      "dtype: float64\n",
      "29.8 ms ± 1.14 ms per loop (mean ± std. dev. of 7 runs, 10 loops each)\n"
     ]
    }
   ],
   "source": [
    "print(trades['a'].sqn())\n",
    "print(trades.sqn())\n",
    "%timeit big_trades.sqn()\n",
    "\n",
    "print(trades_grouped.sqn())\n",
    "%timeit big_trades_grouped.sqn()"
   ]
  },
  {
   "cell_type": "code",
   "execution_count": 37,
   "metadata": {},
   "outputs": [
    {
     "name": "stdout",
     "output_type": "stream",
     "text": [
      "0    NaN\n",
      "1    NaN\n",
      "2    NaN\n",
      "3    1.0\n",
      "4    NaN\n",
      "5    NaN\n",
      "6    1.0\n",
      "Name: a, dtype: float64\n",
      "     a    b    c    d\n",
      "0  NaN  NaN  NaN  NaN\n",
      "1  NaN  NaN  1.0  NaN\n",
      "2  NaN  NaN  NaN  NaN\n",
      "3  1.0  1.0  NaN  NaN\n",
      "4  NaN  NaN  NaN  1.0\n",
      "5  NaN  1.0  NaN  NaN\n",
      "6  1.0  NaN  0.0  0.0\n",
      "11 µs ± 456 ns per loop (mean ± std. dev. of 7 runs, 100000 loops each)\n"
     ]
    }
   ],
   "source": [
    "print(trades['a'].status.to_matrix())\n",
    "print(trades.status.to_matrix())\n",
    "\n",
    "%timeit big_trades.status"
   ]
  },
  {
   "cell_type": "code",
   "execution_count": 29,
   "metadata": {},
   "outputs": [
    {
     "name": "stdout",
     "output_type": "stream",
     "text": [
      "1.0\n",
      "a    1.0\n",
      "b    1.0\n",
      "c    0.5\n",
      "d    0.5\n",
      "dtype: float64\n",
      "32.6 ms ± 8.42 ms per loop (mean ± std. dev. of 7 runs, 10 loops each)\n",
      "group\n",
      "0    1.0\n",
      "1    0.5\n",
      "dtype: float64\n",
      "39.1 ms ± 10.8 ms per loop (mean ± std. dev. of 7 runs, 10 loops each)\n"
     ]
    }
   ],
   "source": [
    "print(trades['a'].closed_rate())\n",
    "print(trades.closed_rate())\n",
    "%timeit big_trades.closed_rate()\n",
    "\n",
    "print(trades_grouped.closed_rate())\n",
    "%timeit big_trades_grouped.closed_rate()"
   ]
  },
  {
   "cell_type": "code",
   "execution_count": 39,
   "metadata": {},
   "outputs": [
    {
     "name": "stdout",
     "output_type": "stream",
     "text": [
      "Empty DataFrame\n",
      "Columns: [col, size, entry_idx, entry_price, entry_fees, exit_idx, exit_price, exit_fees, pnl, return, status, position_idx]\n",
      "Index: []\n",
      "Empty DataFrame\n",
      "Columns: [col, size, entry_idx, entry_price, entry_fees, exit_idx, exit_price, exit_fees, pnl, return, status, position_idx]\n",
      "Index: []\n",
      "   col        size  entry_idx  entry_price  entry_fees  exit_idx  exit_price  \\\n",
      "0    2  194.098618          6          1.0    1.940986         6         1.0   \n",
      "1    3   24.262327          6          4.0    0.970493         6         4.0   \n",
      "\n",
      "   exit_fees       pnl    return  status  position_idx  \n",
      "0        0.0 -1.940986 -0.009901       0             5  \n",
      "1        0.0 -0.970493 -0.009901       0             7  \n"
     ]
    }
   ],
   "source": [
    "print(trades['a'].open.records)\n",
    "print(trades.open['a'].records)\n",
    "print(trades.open.records)"
   ]
  },
  {
   "cell_type": "code",
   "execution_count": 40,
   "metadata": {},
   "outputs": [
    {
     "name": "stdout",
     "output_type": "stream",
     "text": [
      "   col       size  entry_idx  entry_price  entry_fees  exit_idx  exit_price  \\\n",
      "0    0  33.003300          2          3.0    0.990099         3         4.0   \n",
      "1    0  25.879816          4          5.0    1.293991         6         7.0   \n",
      "\n",
      "   exit_fees        pnl    return  status  position_idx  \n",
      "0   1.320132  30.693069  0.306931       1             0  \n",
      "1   1.811587  48.654054  0.372277       1             1  \n",
      "   col       size  entry_idx  entry_price  entry_fees  exit_idx  exit_price  \\\n",
      "0    0  33.003300          2          3.0    0.990099         3         4.0   \n",
      "1    0  25.879816          4          5.0    1.293991         6         7.0   \n",
      "\n",
      "   exit_fees        pnl    return  status  position_idx  \n",
      "0   1.320132  30.693069  0.306931       1             0  \n",
      "1   1.811587  48.654054  0.372277       1             1  \n",
      "   col       size  entry_idx  entry_price  entry_fees  exit_idx  exit_price  \\\n",
      "0    0  33.003300          2          3.0    0.990099         3         4.0   \n",
      "1    0  25.879816          4          5.0    1.293991         6         7.0   \n",
      "2    1  14.144272          2          7.0    0.990099         3         6.0   \n",
      "3    1  16.637024          4          5.0    0.831851         5         4.0   \n",
      "4    2  99.009901          0          1.0    0.990099         1         2.0   \n",
      "5    3  49.504950          2          2.0    0.990099         4         2.0   \n",
      "\n",
      "   exit_fees        pnl    return  status  position_idx  \n",
      "0   1.320132  30.693069  0.306931       1             0  \n",
      "1   1.811587  48.654054  0.372277       1             1  \n",
      "2   0.848656 -15.983027 -0.159830       1             2  \n",
      "3   0.665481 -18.134357 -0.215842       1             3  \n",
      "4   1.980198  96.039604  0.960396       1             4  \n",
      "5   0.990099  -1.980198 -0.019802       1             6  \n"
     ]
    }
   ],
   "source": [
    "print(trades['a'].closed.records)\n",
    "print(trades.closed['a'].records)\n",
    "print(trades.closed.records)"
   ]
  },
  {
   "cell_type": "code",
   "execution_count": 41,
   "metadata": {},
   "outputs": [
    {
     "name": "stdout",
     "output_type": "stream",
     "text": [
      "3.27 ms ± 334 µs per loop (mean ± std. dev. of 7 runs, 100 loops each)\n"
     ]
    }
   ],
   "source": [
    "%timeit big_trades.open # less records"
   ]
  },
  {
   "cell_type": "code",
   "execution_count": 42,
   "metadata": {},
   "outputs": [
    {
     "name": "stdout",
     "output_type": "stream",
     "text": [
      "39.3 ms ± 3.07 ms per loop (mean ± std. dev. of 7 runs, 100 loops each)\n"
     ]
    }
   ],
   "source": [
    "%timeit big_trades.closed # almost all"
   ]
  },
  {
   "cell_type": "code",
   "execution_count": 43,
   "metadata": {},
   "outputs": [
    {
     "name": "stdout",
     "output_type": "stream",
     "text": [
      "0    NaN\n",
      "1    NaN\n",
      "2    NaN\n",
      "3    0.0\n",
      "4    NaN\n",
      "5    NaN\n",
      "6    1.0\n",
      "Name: a, dtype: float64\n",
      "     a    b    c    d\n",
      "0  NaN  NaN  NaN  NaN\n",
      "1  NaN  NaN  4.0  NaN\n",
      "2  NaN  NaN  NaN  NaN\n",
      "3  0.0  2.0  NaN  NaN\n",
      "4  NaN  NaN  NaN  6.0\n",
      "5  NaN  3.0  NaN  NaN\n",
      "6  1.0  NaN  5.0  7.0\n",
      "12.9 µs ± 3.02 µs per loop (mean ± std. dev. of 7 runs, 100000 loops each)\n"
     ]
    }
   ],
   "source": [
    "print(trades['a'].position_idx.to_matrix())\n",
    "print(trades.position_idx.to_matrix())\n",
    "\n",
    "%timeit big_trades.position_idx"
   ]
  },
  {
   "cell_type": "markdown",
   "metadata": {},
   "source": [
    "## Positions"
   ]
  },
  {
   "cell_type": "code",
   "execution_count": 30,
   "metadata": {},
   "outputs": [],
   "source": [
    "from vectorbt.records import Positions"
   ]
  },
  {
   "cell_type": "code",
   "execution_count": 31,
   "metadata": {},
   "outputs": [
    {
     "name": "stdout",
     "output_type": "stream",
     "text": [
      "(8,)\n"
     ]
    }
   ],
   "source": [
    "positions = Positions.from_orders(orders)\n",
    "positions_grouped = Positions.from_orders(orders_grouped)\n",
    "print(positions.records_arr.shape)"
   ]
  },
  {
   "cell_type": "code",
   "execution_count": 32,
   "metadata": {},
   "outputs": [
    {
     "name": "stdout",
     "output_type": "stream",
     "text": [
      "(500000,)\n"
     ]
    }
   ],
   "source": [
    "big_positions = Positions.from_orders(big_orders)\n",
    "big_positions_grouped = Positions.from_orders(big_orders_grouped)\n",
    "print(big_positions.records_arr.shape)"
   ]
  },
  {
   "cell_type": "code",
   "execution_count": 47,
   "metadata": {},
   "outputs": [
    {
     "name": "stdout",
     "output_type": "stream",
     "text": [
      "24.7 ms ± 8.2 ms per loop (mean ± std. dev. of 7 runs, 10 loops each)\n"
     ]
    }
   ],
   "source": [
    "%timeit Positions.from_orders(big_orders)"
   ]
  },
  {
   "cell_type": "code",
   "execution_count": 33,
   "metadata": {},
   "outputs": [
    {
     "name": "stdout",
     "output_type": "stream",
     "text": [
      "   col        size  entry_idx  entry_price  entry_fees  exit_idx  exit_price  \\\n",
      "0    0   33.003300          2          3.0    0.990099         3         4.0   \n",
      "1    0   25.879816          4          5.0    1.293991         6         7.0   \n",
      "2    1   14.144272          2          7.0    0.990099         3         6.0   \n",
      "3    1   16.637024          4          5.0    0.831851         5         4.0   \n",
      "4    2   99.009901          0          1.0    0.990099         1         2.0   \n",
      "5    2  194.098618          6          1.0    1.940986         6         4.0   \n",
      "6    3   49.504950          2          2.0    0.990099         4         2.0   \n",
      "7    3   24.262327          6          4.0    0.970493         6         4.0   \n",
      "\n",
      "   exit_fees         pnl    return  status  \n",
      "0   1.320132   30.693069  0.306931       1  \n",
      "1   1.811587   48.654054  0.372277       1  \n",
      "2   0.848656  -15.983027 -0.159830       1  \n",
      "3   0.665481  -18.134357 -0.215842       1  \n",
      "4   1.980198   96.039604  0.960396       1  \n",
      "5   0.000000  580.354867  2.960396       0  \n",
      "6   0.990099   -1.980198 -0.019802       1  \n",
      "7   0.000000   -0.970493 -0.009901       0  \n",
      "     a    b    c    d\n",
      "0  1.0  9.0  1.0  4.0\n",
      "1  2.0  8.0  2.0  3.0\n",
      "2  3.0  7.0  3.0  2.0\n",
      "3  4.0  6.0  4.0  1.0\n",
      "4  5.0  5.0  3.0  2.0\n",
      "5  6.0  4.0  2.0  3.0\n",
      "6  7.0  3.0  1.0  4.0\n",
      "   col       size  entry_idx  entry_price  entry_fees  exit_idx  exit_price  \\\n",
      "0    0  33.003300          2          3.0    0.990099         3         4.0   \n",
      "1    0  25.879816          4          5.0    1.293991         6         7.0   \n",
      "\n",
      "   exit_fees        pnl    return  status  \n",
      "0   1.320132  30.693069  0.306931       1  \n",
      "1   1.811587  48.654054  0.372277       1  \n",
      "0    1.0\n",
      "1    2.0\n",
      "2    3.0\n",
      "3    4.0\n",
      "4    5.0\n",
      "5    6.0\n",
      "6    7.0\n",
      "Name: a, dtype: float64\n"
     ]
    }
   ],
   "source": [
    "print(positions.records)\n",
    "print(positions.main_price)\n",
    "\n",
    "print(positions['a'].records)\n",
    "print(positions['a'].main_price)"
   ]
  },
  {
   "cell_type": "code",
   "execution_count": 34,
   "metadata": {},
   "outputs": [
    {
     "data": {
      "image/png": "[encoded data removed]"
     },
     "metadata": {},
     "output_type": "display_data"
    }
   ],
   "source": [
    "positions['a'].plot().show_png()"
   ]
  },
  {
   "cell_type": "code",
   "execution_count": null,
   "metadata": {},
   "outputs": [],
   "source": []
  }
 ],
 "metadata": {
  "kernelspec": {
   "display_name": "Python 3",
   "language": "python",
   "name": "python3"
  },
  "language_info": {
   "codemirror_mode": {
    "name": "ipython",
    "version": 3
   },
   "file_extension": ".py",
   "mimetype": "text/x-python",
   "name": "python",
   "nbconvert_exporter": "python",
   "pygments_lexer": "ipython3",
   "version": "3.7.3"
  },
  "widgets": {
   "application/vnd.jupyter.widget-state+json": {
    "state": {
     "d35a4dba16a44332977cd747bde8f848": {
      "buffers": [
       {
        "data": "AAAAAAAA8D8AAAAAAAAAQAAAAAAAAAhAAAAAAAAAEEAAAAAAAAAUQAAAAAAAABhAAAAAAAAAHEA=",
        "encoding": "base64",
        "path": [
         "_data",
         0,
         "y",
         "value"
        ]
       },
       {
        "data": "AAAAAAAACEAAAAAAAAAUQA==",
        "encoding": "base64",
        "path": [
         "_data",
         1,
         "y",
         "value"
        ]
       },
       {
        "data": "",
        "encoding": "base64",
        "path": [
         "_data",
         2,
         "y",
         "value"
        ]
       },
       {
        "data": "AAAAAAAAEEAAAAAAAAAcQA==",
        "encoding": "base64",
        "path": [
         "_data",
         3,
         "y",
         "value"
        ]
       },
       {
        "data": "",
        "encoding": "base64",
        "path": [
         "_data",
         4,
         "y",
         "value"
        ]
       },
       {
        "data": "",
        "encoding": "base64",
        "path": [
         "_data",
         5,
         "y",
         "value"
        ]
       }
      ],
      "model_module": "plotlywidget",
      "model_module_version": "^4.8.0",
      "model_name": "FigureModel",
      "state": {
       "_config": {
        "plotlyServerURL": "https://plot.ly"
       },
       "_data": [
        {
         "mode": "lines",
         "name": "a",
         "showlegend": true,
         "type": "scatter",
         "uid": "81987673-bdb6-495d-9462-1b74d320cc54",
         "x": [
          0,
          1,
          2,
          3,
          4,
          5,
          6
         ],
         "y": {
          "dtype": "float64",
          "shape": [
           7
          ]
         }
        },
        {
         "customdata": [
          [
           33.00330033,
           0.99009901
          ],
          [
           25.8798157,
           1.29399079
          ]
         ],
         "hovertemplate": "%{x}<br>Price: %{y}<br>Size: %{customdata[0]:.4f}<br>Fees: %{customdata[1]:.2f}",
         "marker": {
          "color": "#4285F4",
          "line": {
           "color": "rgb(11,84,205)",
           "width": 1
          },
          "size": 7,
          "symbol": "circle"
         },
         "mode": "markers",
         "name": "Entry",
         "type": "scatter",
         "uid": "65300f0c-673e-4eae-9c66-b3df3d1ec3a1",
         "x": [
          2,
          4
         ],
         "y": {
          "dtype": "float64",
          "shape": [
           2
          ]
         }
        },
        {
         "customdata": [],
         "hovertemplate": "%{x}<br>Price: %{y}<br>Size: %{customdata[0]:.4f}<br>Fees: %{customdata[1]:.2f}<br>PnL: %{customdata[2]:.2f}<br>Return: %{customdata[3]:.2%}<br>Duration: %{customdata[4]}",
         "marker": {
          "color": "#E2E2E2",
          "line": {
           "color": "rgb(158,158,158)",
           "width": 1
          },
          "size": 7,
          "symbol": "circle"
         },
         "mode": "markers",
         "name": "Exit",
         "type": "scatter",
         "uid": "8ca178aa-1f00-41e3-97a9-6794eab2b767",
         "x": [],
         "y": {
          "dtype": "float64",
          "shape": [
           0
          ]
         }
        },
        {
         "customdata": [
          [
           "33.00330033",
           "1.32013201",
           "30.69306931",
           "0.3069306931",
           "86400000000000"
          ],
          [
           "25.8798157",
           "1.8115871",
           "48.65405351000001",
           "0.37227722766262084",
           "172800000000000"
          ]
         ],
         "hovertemplate": "%{x}<br>Price: %{y}<br>Size: %{customdata[0]:.4f}<br>Fees: %{customdata[1]:.2f}<br>PnL: %{customdata[2]:.2f}<br>Return: %{customdata[3]:.2%}<br>Duration: %{customdata[4]}",
         "marker": {
          "color": "#37B13F",
          "line": {
           "color": "rgb(38,123,44)",
           "width": 1
          },
          "size": 7,
          "symbol": "circle"
         },
         "mode": "markers",
         "name": "Exit - Profit",
         "type": "scatter",
         "uid": "84e58854-77a3-40c6-9e55-1a44ca5ec114",
         "x": [
          3,
          6
         ],
         "y": {
          "dtype": "float64",
          "shape": [
           2
          ]
         }
        },
        {
         "customdata": [],
         "hovertemplate": "%{x}<br>Price: %{y}<br>Size: %{customdata[0]:.4f}<br>Fees: %{customdata[1]:.2f}<br>PnL: %{customdata[2]:.2f}<br>Return: %{customdata[3]:.2%}<br>Duration: %{customdata[4]}",
         "marker": {
          "color": "#EA4335",
          "line": {
           "color": "rgb(181,31,18)",
           "width": 1
          },
          "size": 7,
          "symbol": "circle"
         },
         "mode": "markers",
         "name": "Exit - Loss",
         "type": "scatter",
         "uid": "6571f1b5-cfed-488c-bbb2-07f4b76b851a",
         "x": [],
         "y": {
          "dtype": "float64",
          "shape": [
           0
          ]
         }
        },
        {
         "customdata": [],
         "hovertemplate": "%{x}<br>Price: %{y}<br>Size: %{customdata[0]:.4f}<br>Fees: %{customdata[1]:.2f}<br>PnL: %{customdata[2]:.2f}<br>Return: %{customdata[3]:.2%}<br>Duration: %{customdata[4]}",
         "marker": {
          "color": "#FFAA00",
          "line": {
           "color": "rgb(178,118,0)",
           "width": 1
          },
          "size": 7,
          "symbol": "circle"
         },
         "mode": "markers",
         "name": "Active",
         "type": "scatter",
         "uid": "bfe9688b-6df4-458a-b879-36923999c9ee",
         "x": [],
         "y": {
          "dtype": "float64",
          "shape": [
           0
          ]
         }
        }
       ],
       "_js2py_layoutDelta": {},
       "_js2py_pointsCallback": {},
       "_js2py_relayout": {},
       "_js2py_restyle": {},
       "_js2py_traceDeltas": {},
       "_js2py_update": {},
       "_last_layout_edit_id": 9,
       "_last_trace_edit_id": 7,
       "_layout": {
        "autosize": false,
        "colorway": [
         "#1f77b4",
         "#ff7f0e",
         "#2ca02c",
         "#dc3912",
         "#9467bd",
         "#8c564b",
         "#e377c2",
         "#7f7f7f",
         "#bcbd22",
         "#17becf"
        ],
        "height": 300,
        "hovermode": "closest",
        "margin": {
         "b": 30,
         "t": 30
        },
        "shapes": [
         {
          "fillcolor": "green",
          "layer": "below",
          "line": {
           "width": 0
          },
          "opacity": 0.15,
          "type": "rect",
          "x0": 2,
          "x1": 3,
          "xref": "x",
          "y0": 3,
          "y1": 4,
          "yref": "y"
         },
         {
          "fillcolor": "green",
          "layer": "below",
          "line": {
           "width": 0
          },
          "opacity": 0.15,
          "type": "rect",
          "x0": 4,
          "x1": 6,
          "xref": "x",
          "y0": 5,
          "y1": 7,
          "yref": "y"
         }
        ],
        "template": {
         "data": {
          "bar": [
           {
            "error_x": {
             "color": "#2a3f5f"
            },
            "error_y": {
             "color": "#2a3f5f"
            },
            "marker": {
             "line": {
              "color": "#E5ECF6",
              "width": 0.5
             }
            },
            "type": "bar"
           }
          ],
          "barpolar": [
           {
            "marker": {
             "line": {
              "color": "#E5ECF6",
              "width": 0.5
             }
            },
            "type": "barpolar"
           }
          ],
          "carpet": [
           {
            "aaxis": {
             "endlinecolor": "#2a3f5f",
             "gridcolor": "white",
             "linecolor": "white",
             "minorgridcolor": "white",
             "startlinecolor": "#2a3f5f"
            },
            "baxis": {
             "endlinecolor": "#2a3f5f",
             "gridcolor": "white",
             "linecolor": "white",
             "minorgridcolor": "white",
             "startlinecolor": "#2a3f5f"
            },
            "type": "carpet"
           }
          ],
          "choropleth": [
           {
            "colorbar": {
             "outlinewidth": 0,
             "ticks": ""
            },
            "type": "choropleth"
           }
          ],
          "contour": [
           {
            "colorbar": {
             "outlinewidth": 0,
             "ticks": ""
            },
            "colorscale": [
             [
              0,
              "#0d0887"
             ],
             [
              0.1111111111111111,
              "#46039f"
             ],
             [
              0.2222222222222222,
              "#7201a8"
             ],
             [
              0.3333333333333333,
              "#9c179e"
             ],
             [
              0.4444444444444444,
              "#bd3786"
             ],
             [
              0.5555555555555556,
              "#d8576b"
             ],
             [
              0.6666666666666666,
              "#ed7953"
             ],
             [
              0.7777777777777778,
              "#fb9f3a"
             ],
             [
              0.8888888888888888,
              "#fdca26"
             ],
             [
              1,
              "#f0f921"
             ]
            ],
            "type": "contour"
           }
          ],
          "contourcarpet": [
           {
            "colorbar": {
             "outlinewidth": 0,
             "ticks": ""
            },
            "type": "contourcarpet"
           }
          ],
          "heatmap": [
           {
            "colorbar": {
             "outlinewidth": 0,
             "ticks": ""
            },
            "colorscale": [
             [
              0,
              "#0d0887"
             ],
             [
              0.1111111111111111,
              "#46039f"
             ],
             [
              0.2222222222222222,
              "#7201a8"
             ],
             [
              0.3333333333333333,
              "#9c179e"
             ],
             [
              0.4444444444444444,
              "#bd3786"
             ],
             [
              0.5555555555555556,
              "#d8576b"
             ],
             [
              0.6666666666666666,
              "#ed7953"
             ],
             [
              0.7777777777777778,
              "#fb9f3a"
             ],
             [
              0.8888888888888888,
              "#fdca26"
             ],
             [
              1,
              "#f0f921"
             ]
            ],
            "type": "heatmap"
           }
          ],
          "heatmapgl": [
           {
            "colorbar": {
             "outlinewidth": 0,
             "ticks": ""
            },
            "colorscale": [
             [
              0,
              "#0d0887"
             ],
             [
              0.1111111111111111,
              "#46039f"
             ],
             [
              0.2222222222222222,
              "#7201a8"
             ],
             [
              0.3333333333333333,
              "#9c179e"
             ],
             [
              0.4444444444444444,
              "#bd3786"
             ],
             [
              0.5555555555555556,
              "#d8576b"
             ],
             [
              0.6666666666666666,
              "#ed7953"
             ],
             [
              0.7777777777777778,
              "#fb9f3a"
             ],
             [
              0.8888888888888888,
              "#fdca26"
             ],
             [
              1,
              "#f0f921"
             ]
            ],
            "type": "heatmapgl"
           }
          ],
          "histogram": [
           {
            "marker": {
             "colorbar": {
              "outlinewidth": 0,
              "ticks": ""
             }
            },
            "type": "histogram"
           }
          ],
          "histogram2d": [
           {
            "colorbar": {
             "outlinewidth": 0,
             "ticks": ""
            },
            "colorscale": [
             [
              0,
              "#0d0887"
             ],
             [
              0.1111111111111111,
              "#46039f"
             ],
             [
              0.2222222222222222,
              "#7201a8"
             ],
             [
              0.3333333333333333,
              "#9c179e"
             ],
             [
              0.4444444444444444,
              "#bd3786"
             ],
             [
              0.5555555555555556,
              "#d8576b"
             ],
             [
              0.6666666666666666,
              "#ed7953"
             ],
             [
              0.7777777777777778,
              "#fb9f3a"
             ],
             [
              0.8888888888888888,
              "#fdca26"
             ],
             [
              1,
              "#f0f921"
             ]
            ],
            "type": "histogram2d"
           }
          ],
          "histogram2dcontour": [
           {
            "colorbar": {
             "outlinewidth": 0,
             "ticks": ""
            },
            "colorscale": [
             [
              0,
              "#0d0887"
             ],
             [
              0.1111111111111111,
              "#46039f"
             ],
             [
              0.2222222222222222,
              "#7201a8"
             ],
             [
              0.3333333333333333,
              "#9c179e"
             ],
             [
              0.4444444444444444,
              "#bd3786"
             ],
             [
              0.5555555555555556,
              "#d8576b"
             ],
             [
              0.6666666666666666,
              "#ed7953"
             ],
             [
              0.7777777777777778,
              "#fb9f3a"
             ],
             [
              0.8888888888888888,
              "#fdca26"
             ],
             [
              1,
              "#f0f921"
             ]
            ],
            "type": "histogram2dcontour"
           }
          ],
          "mesh3d": [
           {
            "colorbar": {
             "outlinewidth": 0,
             "ticks": ""
            },
            "type": "mesh3d"
           }
          ],
          "parcoords": [
           {
            "line": {
             "colorbar": {
              "outlinewidth": 0,
              "ticks": ""
             }
            },
            "type": "parcoords"
           }
          ],
          "pie": [
           {
            "automargin": true,
            "type": "pie"
           }
          ],
          "scatter": [
           {
            "marker": {
             "colorbar": {
              "outlinewidth": 0,
              "ticks": ""
             }
            },
            "type": "scatter"
           }
          ],
          "scatter3d": [
           {
            "line": {
             "colorbar": {
              "outlinewidth": 0,
              "ticks": ""
             }
            },
            "marker": {
             "colorbar": {
              "outlinewidth": 0,
              "ticks": ""
             }
            },
            "type": "scatter3d"
           }
          ],
          "scattercarpet": [
           {
            "marker": {
             "colorbar": {
              "outlinewidth": 0,
              "ticks": ""
             }
            },
            "type": "scattercarpet"
           }
          ],
          "scattergeo": [
           {
            "marker": {
             "colorbar": {
              "outlinewidth": 0,
              "ticks": ""
             }
            },
            "type": "scattergeo"
           }
          ],
          "scattergl": [
           {
            "marker": {
             "colorbar": {
              "outlinewidth": 0,
              "ticks": ""
             }
            },
            "type": "scattergl"
           }
          ],
          "scattermapbox": [
           {
            "marker": {
             "colorbar": {
              "outlinewidth": 0,
              "ticks": ""
             }
            },
            "type": "scattermapbox"
           }
          ],
          "scatterpolar": [
           {
            "marker": {
             "colorbar": {
              "outlinewidth": 0,
              "ticks": ""
             }
            },
            "type": "scatterpolar"
           }
          ],
          "scatterpolargl": [
           {
            "marker": {
             "colorbar": {
              "outlinewidth": 0,
              "ticks": ""
             }
            },
            "type": "scatterpolargl"
           }
          ],
          "scatterternary": [
           {
            "marker": {
             "colorbar": {
              "outlinewidth": 0,
              "ticks": ""
             }
            },
            "type": "scatterternary"
           }
          ],
          "surface": [
           {
            "colorbar": {
             "outlinewidth": 0,
             "ticks": ""
            },
            "colorscale": [
             [
              0,
              "#0d0887"
             ],
             [
              0.1111111111111111,
              "#46039f"
             ],
             [
              0.2222222222222222,
              "#7201a8"
             ],
             [
              0.3333333333333333,
              "#9c179e"
             ],
             [
              0.4444444444444444,
              "#bd3786"
             ],
             [
              0.5555555555555556,
              "#d8576b"
             ],
             [
              0.6666666666666666,
              "#ed7953"
             ],
             [
              0.7777777777777778,
              "#fb9f3a"
             ],
             [
              0.8888888888888888,
              "#fdca26"
             ],
             [
              1,
              "#f0f921"
             ]
            ],
            "type": "surface"
           }
          ],
          "table": [
           {
            "cells": {
             "fill": {
              "color": "#EBF0F8"
             },
             "line": {
              "color": "white"
             }
            },
            "header": {
             "fill": {
              "color": "#C8D4E3"
             },
             "line": {
              "color": "white"
             }
            },
            "type": "table"
           }
          ]
         },
         "layout": {
          "annotationdefaults": {
           "arrowcolor": "#2a3f5f",
           "arrowhead": 0,
           "arrowwidth": 1
          },
          "coloraxis": {
           "colorbar": {
            "outlinewidth": 0,
            "ticks": ""
           }
          },
          "colorscale": {
           "diverging": [
            [
             0,
             "#8e0152"
            ],
            [
             0.1,
             "#c51b7d"
            ],
            [
             0.2,
             "#de77ae"
            ],
            [
             0.3,
             "#f1b6da"
            ],
            [
             0.4,
             "#fde0ef"
            ],
            [
             0.5,
             "#f7f7f7"
            ],
            [
             0.6,
             "#e6f5d0"
            ],
            [
             0.7,
             "#b8e186"
            ],
            [
             0.8,
             "#7fbc41"
            ],
            [
             0.9,
             "#4d9221"
            ],
            [
             1,
             "#276419"
            ]
           ],
           "sequential": [
            [
             0,
             "#0d0887"
            ],
            [
             0.1111111111111111,
             "#46039f"
            ],
            [
             0.2222222222222222,
             "#7201a8"
            ],
            [
             0.3333333333333333,
             "#9c179e"
            ],
            [
             0.4444444444444444,
             "#bd3786"
            ],
            [
             0.5555555555555556,
             "#d8576b"
            ],
            [
             0.6666666666666666,
             "#ed7953"
            ],
            [
             0.7777777777777778,
             "#fb9f3a"
            ],
            [
             0.8888888888888888,
             "#fdca26"
            ],
            [
             1,
             "#f0f921"
            ]
           ],
           "sequentialminus": [
            [
             0,
             "#0d0887"
            ],
            [
             0.1111111111111111,
             "#46039f"
            ],
            [
             0.2222222222222222,
             "#7201a8"
            ],
            [
             0.3333333333333333,
             "#9c179e"
            ],
            [
             0.4444444444444444,
             "#bd3786"
            ],
            [
             0.5555555555555556,
             "#d8576b"
            ],
            [
             0.6666666666666666,
             "#ed7953"
            ],
            [
             0.7777777777777778,
             "#fb9f3a"
            ],
            [
             0.8888888888888888,
             "#fdca26"
            ],
            [
             1,
             "#f0f921"
            ]
           ]
          },
          "colorway": [
           "#636efa",
           "#EF553B",
           "#00cc96",
           "#ab63fa",
           "#FFA15A",
           "#19d3f3",
           "#FF6692",
           "#B6E880",
           "#FF97FF",
           "#FECB52"
          ],
          "font": {
           "color": "#2a3f5f"
          },
          "geo": {
           "bgcolor": "white",
           "lakecolor": "white",
           "landcolor": "#E5ECF6",
           "showlakes": true,
           "showland": true,
           "subunitcolor": "white"
          },
          "hoverlabel": {
           "align": "left"
          },
          "hovermode": "closest",
          "mapbox": {
           "style": "light"
          },
          "paper_bgcolor": "white",
          "plot_bgcolor": "#E5ECF6",
          "polar": {
           "angularaxis": {
            "gridcolor": "white",
            "linecolor": "white",
            "ticks": ""
           },
           "bgcolor": "#E5ECF6",
           "radialaxis": {
            "gridcolor": "white",
            "linecolor": "white",
            "ticks": ""
           }
          },
          "scene": {
           "xaxis": {
            "backgroundcolor": "#E5ECF6",
            "gridcolor": "white",
            "gridwidth": 2,
            "linecolor": "white",
            "showbackground": true,
            "ticks": "",
            "zerolinecolor": "white"
           },
           "yaxis": {
            "backgroundcolor": "#E5ECF6",
            "gridcolor": "white",
            "gridwidth": 2,
            "linecolor": "white",
            "showbackground": true,
            "ticks": "",
            "zerolinecolor": "white"
           },
           "zaxis": {
            "backgroundcolor": "#E5ECF6",
            "gridcolor": "white",
            "gridwidth": 2,
            "linecolor": "white",
            "showbackground": true,
            "ticks": "",
            "zerolinecolor": "white"
           }
          },
          "shapedefaults": {
           "line": {
            "color": "#2a3f5f"
           }
          },
          "ternary": {
           "aaxis": {
            "gridcolor": "white",
            "linecolor": "white",
            "ticks": ""
           },
           "baxis": {
            "gridcolor": "white",
            "linecolor": "white",
            "ticks": ""
           },
           "bgcolor": "#E5ECF6",
           "caxis": {
            "gridcolor": "white",
            "linecolor": "white",
            "ticks": ""
           }
          },
          "title": {
           "x": 0.05
          },
          "xaxis": {
           "automargin": true,
           "gridcolor": "white",
           "linecolor": "white",
           "ticks": "",
           "title": {
            "standoff": 15
           },
           "zerolinecolor": "white",
           "zerolinewidth": 2
          },
          "yaxis": {
           "automargin": true,
           "gridcolor": "white",
           "linecolor": "white",
           "ticks": "",
           "title": {
            "standoff": 15
           },
           "zerolinecolor": "white",
           "zerolinewidth": 2
          }
         }
        },
        "width": 700
       },
       "_model_module_version": "^4.8.0",
       "_py2js_animate": {},
       "_py2js_deleteTraces": {},
       "_py2js_moveTraces": {},
       "_py2js_removeLayoutProps": {},
       "_py2js_removeTraceProps": {},
       "_py2js_restyle": {},
       "_view_count": 0,
       "_view_module_version": "^4.8.0"
      }
     }
    },
    "version_major": 2,
    "version_minor": 0
   }
  }
 },
 "nbformat": 4,
 "nbformat_minor": 4
}
