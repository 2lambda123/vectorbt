{
 "cells": [
  {
   "cell_type": "markdown",
   "metadata": {},
   "source": [
    "# tseries"
   ]
  },
  {
   "cell_type": "code",
   "execution_count": 1,
   "metadata": {},
   "outputs": [],
   "source": [
    "import vectorbt as vbt"
   ]
  },
  {
   "cell_type": "code",
   "execution_count": 2,
   "metadata": {
    "Collapsed": "false"
   },
   "outputs": [],
   "source": [
    "import numpy as np\n",
    "import pandas as pd\n",
    "from datetime import datetime, timedelta\n",
    "from numba import njit, f8, i8, b1, optional"
   ]
  },
  {
   "cell_type": "code",
   "execution_count": 3,
   "metadata": {},
   "outputs": [],
   "source": [
    "# Disable caching for performance testing\n",
    "vbt.defaults.caching = False"
   ]
  },
  {
   "cell_type": "code",
   "execution_count": 4,
   "metadata": {},
   "outputs": [
    {
     "name": "stdout",
     "output_type": "stream",
     "text": [
      "              a    b    c\n",
      "2018-01-01  1.0  NaN  1.0\n",
      "2018-01-02  2.0  4.0  2.0\n",
      "2018-01-03  3.0  3.0  NaN\n",
      "2018-01-04  4.0  2.0  2.0\n",
      "2018-01-05  NaN  1.0  1.0\n"
     ]
    }
   ],
   "source": [
    "index = pd.DatetimeIndex([\n",
    "    datetime(2018, 1, 1),\n",
    "    datetime(2018, 1, 2),\n",
    "    datetime(2018, 1, 3),\n",
    "    datetime(2018, 1, 4),\n",
    "    datetime(2018, 1, 5)\n",
    "], freq='D')\n",
    "columns = ['a', 'b', 'c']\n",
    "ts = pd.DataFrame({\n",
    "    'a': [1, 2, 3, 4, np.nan], \n",
    "    'b': [np.nan, 4, 3, 2, 1],\n",
    "    'c': [1, 2, np.nan, 2, 1]}, index=index).astype(np.float32)\n",
    "\n",
    "print(ts)"
   ]
  },
  {
   "cell_type": "code",
   "execution_count": 5,
   "metadata": {},
   "outputs": [
    {
     "data": {
      "text/plain": [
       "(1000, 1000)"
      ]
     },
     "execution_count": 5,
     "metadata": {},
     "output_type": "execute_result"
    }
   ],
   "source": [
    "big_ts = pd.DataFrame(np.random.randint(10, size=(1000, 1000)).astype(float))\n",
    "big_ts.index = [datetime(2018, 1, 1) + timedelta(days=i) for i in range(1000)]\n",
    "big_ts.shape"
   ]
  },
  {
   "cell_type": "code",
   "execution_count": 6,
   "metadata": {},
   "outputs": [
    {
     "name": "stdout",
     "output_type": "stream",
     "text": [
      "1 days 00:00:00\n",
      "1 days 00:00:00\n",
      "2 days 00:00:00\n",
      "2 days 00:00:00\n",
      "None\n",
      "3 days 00:00:00\n",
      "4 days 00:00:00\n"
     ]
    }
   ],
   "source": [
    "# Test index frequency\n",
    "print(ts.vbt.tseries.freq)\n",
    "print(ts['a'].vbt.tseries.freq)\n",
    "print(ts.vbt.tseries(freq='2D').freq)\n",
    "print(ts['a'].vbt.tseries(freq='2D').freq)\n",
    "print(pd.Series([1, 2, 3]).vbt.tseries.freq)\n",
    "print(pd.Series([1, 2, 3]).vbt.tseries(freq='3D').freq)\n",
    "print(pd.Series([1, 2, 3]).vbt.tseries(freq=np.timedelta64(4, 'D')).freq)"
   ]
  },
  {
   "cell_type": "code",
   "execution_count": 7,
   "metadata": {},
   "outputs": [
    {
     "name": "stdout",
     "output_type": "stream",
     "text": [
      "range_start 2018-01-01 2018-01-04\n",
      "range_end   2018-01-02 2018-01-05\n",
      "0                  1.0        4.0\n",
      "1                  2.0        NaN\n",
      "3.37 ms ± 173 µs per loop (mean ± std. dev. of 7 runs, 1 loop each)\n",
      "                     a                     b                     c           \n",
      "range_start 2018-01-01 2018-01-04 2018-01-01 2018-01-04 2018-01-01 2018-01-04\n",
      "range_end   2018-01-02 2018-01-05 2018-01-02 2018-01-05 2018-01-02 2018-01-05\n",
      "0                  1.0        4.0        NaN        2.0        1.0        2.0\n",
      "1                  2.0        NaN        4.0        1.0        2.0        1.0\n",
      "803 ms ± 71.8 ms per loop (mean ± std. dev. of 7 runs, 1 loop each)\n",
      "range_start 2018-01-01 2018-01-02 2018-01-03 2018-01-04\n",
      "range_end   2018-01-02 2018-01-03 2018-01-04 2018-01-05\n",
      "0                  1.0        2.0        3.0        4.0\n",
      "1                  2.0        3.0        4.0        NaN\n",
      "4.31 ms ± 237 µs per loop (mean ± std. dev. of 7 runs, 100 loops each)\n",
      "                     a                                           b             \\\n",
      "range_start 2018-01-01 2018-01-02 2018-01-03 2018-01-04 2018-01-01 2018-01-02   \n",
      "range_end   2018-01-02 2018-01-03 2018-01-04 2018-01-05 2018-01-02 2018-01-03   \n",
      "0                  1.0        2.0        3.0        4.0        NaN        4.0   \n",
      "1                  2.0        3.0        4.0        NaN        4.0        3.0   \n",
      "\n",
      "                                           c                                   \n",
      "range_start 2018-01-03 2018-01-04 2018-01-01 2018-01-02 2018-01-03 2018-01-04  \n",
      "range_end   2018-01-04 2018-01-05 2018-01-02 2018-01-03 2018-01-04 2018-01-05  \n",
      "0                  3.0        2.0        1.0        2.0        NaN        2.0  \n",
      "1                  2.0        1.0        2.0        NaN        2.0        1.0  \n",
      "6.87 s ± 182 ms per loop (mean ± std. dev. of 7 runs, 1 loop each)\n"
     ]
    }
   ],
   "source": [
    "print(ts['a'].vbt.tseries.split_into_ranges(n=2))\n",
    "%timeit big_ts.iloc[:, 0].vbt.tseries.split_into_ranges(n=100)\n",
    "\n",
    "print(ts.vbt.tseries.split_into_ranges(n=2))\n",
    "%timeit big_ts.vbt.tseries.split_into_ranges(n=100)\n",
    "\n",
    "print(ts['a'].vbt.tseries.split_into_ranges(range_len=2))\n",
    "%timeit big_ts.iloc[:, 0].vbt.tseries.split_into_ranges(range_len=100)\n",
    "\n",
    "print(ts.vbt.tseries.split_into_ranges(range_len=2))\n",
    "%timeit big_ts.vbt.tseries.split_into_ranges(range_len=100)"
   ]
  },
  {
   "cell_type": "code",
   "execution_count": 8,
   "metadata": {
    "Collapsed": "false"
   },
   "outputs": [
    {
     "name": "stdout",
     "output_type": "stream",
     "text": [
      "              a    b    c\n",
      "2018-01-01  1.0 -1.0  1.0\n",
      "2018-01-02  2.0  4.0  2.0\n",
      "2018-01-03  3.0  3.0 -1.0\n",
      "2018-01-04  4.0  2.0  2.0\n",
      "2018-01-05 -1.0  1.0  1.0\n",
      "5.98 ms ± 70.4 µs per loop (mean ± std. dev. of 7 runs, 100 loops each)\n",
      "              a    b    c\n",
      "2018-01-01  1.0 -1.0  1.0\n",
      "2018-01-02  2.0  4.0  2.0\n",
      "2018-01-03  3.0  3.0 -1.0\n",
      "2018-01-04  4.0  2.0  2.0\n",
      "2018-01-05 -1.0  1.0  1.0\n",
      "4.07 ms ± 62.5 µs per loop (mean ± std. dev. of 7 runs, 100 loops each)\n"
     ]
    }
   ],
   "source": [
    "print(ts.fillna(-1))\n",
    "%timeit big_ts.fillna(-1)\n",
    "\n",
    "print(ts.vbt.tseries.fillna(-1))\n",
    "%timeit big_ts.vbt.tseries.fillna(-1)"
   ]
  },
  {
   "cell_type": "code",
   "execution_count": 9,
   "metadata": {
    "Collapsed": "false"
   },
   "outputs": [
    {
     "name": "stdout",
     "output_type": "stream",
     "text": [
      "              a    b    c\n",
      "2018-01-01  NaN  NaN  NaN\n",
      "2018-01-02  NaN  NaN  NaN\n",
      "2018-01-03  NaN  NaN  NaN\n",
      "2018-01-04  1.0  NaN  1.0\n",
      "2018-01-05  2.0  4.0  2.0\n",
      "2.84 ms ± 398 µs per loop (mean ± std. dev. of 7 runs, 100 loops each)\n",
      "              a    b    c\n",
      "2018-01-01  NaN  NaN  NaN\n",
      "2018-01-02  NaN  NaN  NaN\n",
      "2018-01-03  NaN  NaN  NaN\n",
      "2018-01-04  1.0  NaN  1.0\n",
      "2018-01-05  2.0  4.0  2.0\n",
      "2.42 ms ± 166 µs per loop (mean ± std. dev. of 7 runs, 100 loops each)\n"
     ]
    }
   ],
   "source": [
    "print(ts.shift(3))\n",
    "%timeit big_ts.shift(3)\n",
    "\n",
    "print(ts.vbt.tseries.fshift(3))\n",
    "%timeit big_ts.vbt.tseries.fshift(3)"
   ]
  },
  {
   "cell_type": "code",
   "execution_count": 10,
   "metadata": {},
   "outputs": [
    {
     "name": "stdout",
     "output_type": "stream",
     "text": [
      "              a    b    c\n",
      "2018-01-01  NaN  NaN  NaN\n",
      "2018-01-02  1.0  NaN  1.0\n",
      "2018-01-03  1.0 -1.0  NaN\n",
      "2018-01-04  1.0 -1.0  NaN\n",
      "2018-01-05  NaN -1.0 -1.0\n",
      "4.54 ms ± 55.2 µs per loop (mean ± std. dev. of 7 runs, 100 loops each)\n",
      "              a    b    c\n",
      "2018-01-01  NaN  NaN  NaN\n",
      "2018-01-02  1.0  NaN  1.0\n",
      "2018-01-03  1.0 -1.0  NaN\n",
      "2018-01-04  1.0 -1.0  NaN\n",
      "2018-01-05  NaN -1.0 -1.0\n",
      "4.45 ms ± 59.7 µs per loop (mean ± std. dev. of 7 runs, 100 loops each)\n"
     ]
    }
   ],
   "source": [
    "print(ts.diff())\n",
    "%timeit big_ts.diff()\n",
    "\n",
    "print(ts.vbt.tseries.diff())\n",
    "%timeit big_ts.vbt.tseries.diff()"
   ]
  },
  {
   "cell_type": "code",
   "execution_count": 11,
   "metadata": {
    "Collapsed": "false"
   },
   "outputs": [
    {
     "name": "stdout",
     "output_type": "stream",
     "text": [
      "                   a         b    c\n",
      "2018-01-01       NaN       NaN  NaN\n",
      "2018-01-02  1.000000       NaN  1.0\n",
      "2018-01-03  0.500000 -0.250000  NaN\n",
      "2018-01-04  0.333333 -0.333333  NaN\n",
      "2018-01-05       NaN -0.500000 -0.5\n",
      "317 ms ± 51.5 ms per loop (mean ± std. dev. of 7 runs, 1 loop each)\n",
      "                   a         b    c\n",
      "2018-01-01       NaN       NaN  NaN\n",
      "2018-01-02  1.000000       NaN  1.0\n",
      "2018-01-03  0.500000 -0.250000  NaN\n",
      "2018-01-04  0.333333 -0.333333  NaN\n",
      "2018-01-05       NaN -0.500000 -0.5\n",
      "5.3 ms ± 526 µs per loop (mean ± std. dev. of 7 runs, 100 loops each)\n"
     ]
    }
   ],
   "source": [
    "print(ts.pct_change(fill_method=None))\n",
    "%timeit big_ts.pct_change(fill_method=None)\n",
    "\n",
    "print(ts.vbt.tseries.pct_change())\n",
    "%timeit big_ts.vbt.tseries.pct_change()"
   ]
  },
  {
   "cell_type": "code",
   "execution_count": 12,
   "metadata": {
    "Collapsed": "false"
   },
   "outputs": [
    {
     "name": "stdout",
     "output_type": "stream",
     "text": [
      "              a    b    c\n",
      "2018-01-01  1.0  NaN  1.0\n",
      "2018-01-02  2.0  4.0  2.0\n",
      "2018-01-03  3.0  3.0  2.0\n",
      "2018-01-04  4.0  2.0  2.0\n",
      "2018-01-05  4.0  1.0  1.0\n",
      "5.51 ms ± 366 µs per loop (mean ± std. dev. of 7 runs, 100 loops each)\n",
      "              a    b    c\n",
      "2018-01-01  1.0  NaN  1.0\n",
      "2018-01-02  2.0  4.0  2.0\n",
      "2018-01-03  3.0  3.0  2.0\n",
      "2018-01-04  4.0  2.0  2.0\n",
      "2018-01-05  4.0  1.0  1.0\n",
      "7.67 ms ± 17 µs per loop (mean ± std. dev. of 7 runs, 100 loops each)\n"
     ]
    }
   ],
   "source": [
    "print(ts.ffill())\n",
    "%timeit big_ts.ffill()\n",
    "\n",
    "print(ts.vbt.tseries.ffill())\n",
    "%timeit big_ts.vbt.tseries.ffill()"
   ]
  },
  {
   "cell_type": "code",
   "execution_count": 13,
   "metadata": {},
   "outputs": [
    {
     "name": "stdout",
     "output_type": "stream",
     "text": [
      "a    24.0\n",
      "b    24.0\n",
      "c     4.0\n",
      "dtype: float32\n",
      "4.76 ms ± 109 µs per loop (mean ± std. dev. of 7 runs, 100 loops each)\n",
      "a    24.0\n",
      "b    24.0\n",
      "c     4.0\n",
      "dtype: float64\n",
      "3.16 ms ± 22.8 µs per loop (mean ± std. dev. of 7 runs, 100 loops each)\n"
     ]
    }
   ],
   "source": [
    "print(ts.product())\n",
    "%timeit big_ts.product()\n",
    "\n",
    "print(ts.vbt.tseries.product())\n",
    "%timeit big_ts.vbt.tseries.product()"
   ]
  },
  {
   "cell_type": "code",
   "execution_count": 14,
   "metadata": {},
   "outputs": [
    {
     "name": "stdout",
     "output_type": "stream",
     "text": [
      "               a     b    c\n",
      "2018-01-01   1.0   NaN  1.0\n",
      "2018-01-02   3.0   4.0  3.0\n",
      "2018-01-03   6.0   7.0  NaN\n",
      "2018-01-04  10.0   9.0  5.0\n",
      "2018-01-05   NaN  10.0  6.0\n",
      "11.2 ms ± 71.4 µs per loop (mean ± std. dev. of 7 runs, 100 loops each)\n",
      "               a     b    c\n",
      "2018-01-01   1.0   NaN  1.0\n",
      "2018-01-02   3.0   4.0  3.0\n",
      "2018-01-03   6.0   7.0  NaN\n",
      "2018-01-04  10.0   9.0  5.0\n",
      "2018-01-05   NaN  10.0  6.0\n",
      "8.59 ms ± 71 µs per loop (mean ± std. dev. of 7 runs, 100 loops each)\n"
     ]
    }
   ],
   "source": [
    "print(ts.cumsum())\n",
    "%timeit big_ts.cumsum()\n",
    "\n",
    "print(ts.vbt.tseries.cumsum())\n",
    "%timeit big_ts.vbt.tseries.cumsum()"
   ]
  },
  {
   "cell_type": "code",
   "execution_count": 15,
   "metadata": {},
   "outputs": [
    {
     "name": "stdout",
     "output_type": "stream",
     "text": [
      "               a     b    c\n",
      "2018-01-01   1.0   NaN  1.0\n",
      "2018-01-02   2.0   4.0  2.0\n",
      "2018-01-03   6.0  12.0  NaN\n",
      "2018-01-04  24.0  24.0  4.0\n",
      "2018-01-05   NaN  24.0  4.0\n",
      "11.2 ms ± 35.6 µs per loop (mean ± std. dev. of 7 runs, 100 loops each)\n",
      "               a     b    c\n",
      "2018-01-01   1.0   NaN  1.0\n",
      "2018-01-02   2.0   4.0  2.0\n",
      "2018-01-03   6.0  12.0  NaN\n",
      "2018-01-04  24.0  24.0  4.0\n",
      "2018-01-05   NaN  24.0  4.0\n",
      "8.37 ms ± 86.8 µs per loop (mean ± std. dev. of 7 runs, 100 loops each)\n"
     ]
    }
   ],
   "source": [
    "print(ts.cumprod())\n",
    "%timeit big_ts.cumprod()\n",
    "\n",
    "print(ts.vbt.tseries.cumprod())\n",
    "%timeit big_ts.vbt.tseries.cumprod()"
   ]
  },
  {
   "cell_type": "code",
   "execution_count": 16,
   "metadata": {},
   "outputs": [
    {
     "name": "stdout",
     "output_type": "stream",
     "text": [
      "              a    b    c\n",
      "2018-01-01  NaN  NaN  NaN\n",
      "2018-01-02  1.0  NaN  1.0\n",
      "2018-01-03  2.0  3.0  NaN\n",
      "2018-01-04  3.0  2.0  NaN\n",
      "2018-01-05  NaN  1.0  1.0\n",
      "40.6 ms ± 195 µs per loop (mean ± std. dev. of 7 runs, 10 loops each)\n",
      "              a    b    c\n",
      "2018-01-01  NaN  NaN  NaN\n",
      "2018-01-02  1.0  NaN  1.0\n",
      "2018-01-03  2.0  3.0  NaN\n",
      "2018-01-04  3.0  2.0  NaN\n",
      "2018-01-05  NaN  1.0  1.0\n",
      "13.6 ms ± 76.5 µs per loop (mean ± std. dev. of 7 runs, 1 loop each)\n"
     ]
    }
   ],
   "source": [
    "print(ts.rolling(2).min())\n",
    "%timeit big_ts.rolling(2).min()\n",
    "\n",
    "print(ts.vbt.tseries.rolling_min(2))\n",
    "%timeit big_ts.vbt.tseries.rolling_min(2)"
   ]
  },
  {
   "cell_type": "code",
   "execution_count": 17,
   "metadata": {},
   "outputs": [
    {
     "name": "stdout",
     "output_type": "stream",
     "text": [
      "              a    b    c\n",
      "2018-01-01  NaN  NaN  NaN\n",
      "2018-01-02  2.0  NaN  2.0\n",
      "2018-01-03  3.0  4.0  NaN\n",
      "2018-01-04  4.0  3.0  NaN\n",
      "2018-01-05  NaN  2.0  2.0\n",
      "50.2 ms ± 8.38 ms per loop (mean ± std. dev. of 7 runs, 10 loops each)\n",
      "              a    b    c\n",
      "2018-01-01  NaN  NaN  NaN\n",
      "2018-01-02  2.0  NaN  2.0\n",
      "2018-01-03  3.0  4.0  NaN\n",
      "2018-01-04  4.0  3.0  NaN\n",
      "2018-01-05  NaN  2.0  2.0\n",
      "13.6 ms ± 350 µs per loop (mean ± std. dev. of 7 runs, 1 loop each)\n"
     ]
    }
   ],
   "source": [
    "print(ts.rolling(2).max())\n",
    "%timeit big_ts.rolling(2).max()\n",
    "\n",
    "print(ts.vbt.tseries.rolling_max(2))\n",
    "%timeit big_ts.vbt.tseries.rolling_max(2)"
   ]
  },
  {
   "cell_type": "code",
   "execution_count": 18,
   "metadata": {
    "Collapsed": "false"
   },
   "outputs": [
    {
     "name": "stdout",
     "output_type": "stream",
     "text": [
      "              a    b    c\n",
      "2018-01-01  NaN  NaN  NaN\n",
      "2018-01-02  1.5  NaN  1.5\n",
      "2018-01-03  2.5  3.5  NaN\n",
      "2018-01-04  3.5  2.5  NaN\n",
      "2018-01-05  NaN  1.5  1.5\n",
      "28.9 ms ± 263 µs per loop (mean ± std. dev. of 7 runs, 10 loops each)\n",
      "              a    b    c\n",
      "2018-01-01  NaN  NaN  NaN\n",
      "2018-01-02  1.5  NaN  1.5\n",
      "2018-01-03  2.5  3.5  NaN\n",
      "2018-01-04  3.5  2.5  NaN\n",
      "2018-01-05  NaN  1.5  1.5\n",
      "13.9 ms ± 351 µs per loop (mean ± std. dev. of 7 runs, 1 loop each)\n"
     ]
    }
   ],
   "source": [
    "print(ts.rolling(2).mean())\n",
    "%timeit big_ts.rolling(2).mean()\n",
    "\n",
    "print(ts.vbt.tseries.rolling_mean(2))\n",
    "%timeit big_ts.vbt.tseries.rolling_mean(2)"
   ]
  },
  {
   "cell_type": "code",
   "execution_count": 19,
   "metadata": {},
   "outputs": [
    {
     "name": "stdout",
     "output_type": "stream",
     "text": [
      "                   a         b         c\n",
      "2018-01-01       NaN       NaN       NaN\n",
      "2018-01-02  0.707107       NaN  0.707107\n",
      "2018-01-03  0.707107  0.707107       NaN\n",
      "2018-01-04  0.707107  0.707107       NaN\n",
      "2018-01-05       NaN  0.707107  0.707107\n",
      "55 ms ± 552 µs per loop (mean ± std. dev. of 7 runs, 10 loops each)\n",
      "                   a         b         c\n",
      "2018-01-01       NaN       NaN       NaN\n",
      "2018-01-02  0.707107       NaN  0.707107\n",
      "2018-01-03  0.707107  0.707107       NaN\n",
      "2018-01-04  0.707107  0.707107       NaN\n",
      "2018-01-05       NaN  0.707107  0.707107\n",
      "16.7 ms ± 398 µs per loop (mean ± std. dev. of 7 runs, 1 loop each)\n"
     ]
    }
   ],
   "source": [
    "print(ts.rolling(2).std())\n",
    "%timeit big_ts.rolling(2).std()\n",
    "\n",
    "print(ts.vbt.tseries.rolling_std(2))\n",
    "%timeit big_ts.vbt.tseries.rolling_std(2)"
   ]
  },
  {
   "cell_type": "code",
   "execution_count": 20,
   "metadata": {
    "Collapsed": "false"
   },
   "outputs": [
    {
     "name": "stdout",
     "output_type": "stream",
     "text": [
      "                   a         b         c\n",
      "2018-01-01       NaN       NaN       NaN\n",
      "2018-01-02  1.750000       NaN  1.750000\n",
      "2018-01-03  2.615385  3.250000  1.750000\n",
      "2018-01-04  3.550000  2.384615  1.967742\n",
      "2018-01-05  3.550000  1.450000  1.267857\n",
      "84.7 ms ± 756 µs per loop (mean ± std. dev. of 7 runs, 10 loops each)\n",
      "                   a         b         c\n",
      "2018-01-01       NaN       NaN       NaN\n",
      "2018-01-02  1.750000       NaN  1.750000\n",
      "2018-01-03  2.615385  3.250000  1.750000\n",
      "2018-01-04  3.550000  2.384615  1.967742\n",
      "2018-01-05  3.550000  1.450000  1.267857\n",
      "13.1 ms ± 712 µs per loop (mean ± std. dev. of 7 runs, 1 loop each)\n"
     ]
    }
   ],
   "source": [
    "print(ts.ewm(span=2, min_periods=2).mean())\n",
    "%timeit big_ts.ewm(span=2, min_periods=2).mean()\n",
    "\n",
    "print(ts.vbt.tseries.ewm_mean(2))\n",
    "%timeit big_ts.vbt.tseries.ewm_mean(2)"
   ]
  },
  {
   "cell_type": "code",
   "execution_count": 21,
   "metadata": {},
   "outputs": [
    {
     "name": "stdout",
     "output_type": "stream",
     "text": [
      "                   a         b         c\n",
      "2018-01-01       NaN       NaN       NaN\n",
      "2018-01-02  0.707107       NaN  0.707107\n",
      "2018-01-03  0.919866  0.707107  0.707107\n",
      "2018-01-04  1.059753  0.919866  0.367607\n",
      "2018-01-05  1.059753  1.059753  0.684914\n",
      "469 ms ± 4.89 ms per loop (mean ± std. dev. of 7 runs, 1 loop each)\n",
      "                   a         b         c\n",
      "2018-01-01       NaN       NaN       NaN\n",
      "2018-01-02  0.707107       NaN  0.707107\n",
      "2018-01-03  0.919866  0.707107  0.707107\n",
      "2018-01-04  1.059753  0.919866  0.367607\n",
      "2018-01-05  1.059753  1.059753  0.684914\n",
      "22.6 ms ± 549 µs per loop (mean ± std. dev. of 7 runs, 1 loop each)\n"
     ]
    }
   ],
   "source": [
    "print(ts.ewm(span=2, min_periods=2).std())\n",
    "%timeit big_ts.ewm(span=2, min_periods=2).std()\n",
    "\n",
    "print(ts.vbt.tseries.ewm_std(2))\n",
    "%timeit big_ts.vbt.tseries.ewm_std(2)"
   ]
  },
  {
   "cell_type": "code",
   "execution_count": 22,
   "metadata": {},
   "outputs": [
    {
     "name": "stdout",
     "output_type": "stream",
     "text": [
      "              a    b    c\n",
      "2018-01-01  1.0  NaN  1.0\n",
      "2018-01-02  1.0  4.0  1.0\n",
      "2018-01-03  1.0  3.0  1.0\n",
      "2018-01-04  1.0  2.0  1.0\n",
      "2018-01-05  1.0  1.0  1.0\n",
      "45.3 ms ± 398 µs per loop (mean ± std. dev. of 7 runs, 10 loops each)\n",
      "              a    b    c\n",
      "2018-01-01  1.0  NaN  1.0\n",
      "2018-01-02  1.0  4.0  1.0\n",
      "2018-01-03  1.0  3.0  1.0\n",
      "2018-01-04  1.0  2.0  1.0\n",
      "2018-01-05  1.0  1.0  1.0\n",
      "8.53 ms ± 83.9 µs per loop (mean ± std. dev. of 7 runs, 100 loops each)\n"
     ]
    }
   ],
   "source": [
    "print(ts.expanding().min())\n",
    "%timeit big_ts.expanding().min()\n",
    "\n",
    "print(ts.vbt.tseries.expanding_min())\n",
    "%timeit big_ts.vbt.tseries.expanding_min()"
   ]
  },
  {
   "cell_type": "code",
   "execution_count": 23,
   "metadata": {},
   "outputs": [
    {
     "name": "stdout",
     "output_type": "stream",
     "text": [
      "              a    b    c\n",
      "2018-01-01  1.0  NaN  1.0\n",
      "2018-01-02  2.0  4.0  2.0\n",
      "2018-01-03  3.0  4.0  2.0\n",
      "2018-01-04  4.0  4.0  2.0\n",
      "2018-01-05  4.0  4.0  2.0\n",
      "44.9 ms ± 245 µs per loop (mean ± std. dev. of 7 runs, 10 loops each)\n",
      "              a    b    c\n",
      "2018-01-01  1.0  NaN  1.0\n",
      "2018-01-02  2.0  4.0  2.0\n",
      "2018-01-03  3.0  4.0  2.0\n",
      "2018-01-04  4.0  4.0  2.0\n",
      "2018-01-05  4.0  4.0  2.0\n",
      "8.67 ms ± 96 µs per loop (mean ± std. dev. of 7 runs, 100 loops each)\n"
     ]
    }
   ],
   "source": [
    "print(ts.expanding().max())\n",
    "%timeit big_ts.expanding().max()\n",
    "\n",
    "print(ts.vbt.tseries.expanding_max())\n",
    "%timeit big_ts.vbt.tseries.expanding_max()"
   ]
  },
  {
   "cell_type": "code",
   "execution_count": 24,
   "metadata": {},
   "outputs": [
    {
     "name": "stdout",
     "output_type": "stream",
     "text": [
      "              a    b         c\n",
      "2018-01-01  1.0  NaN  1.000000\n",
      "2018-01-02  1.5  4.0  1.500000\n",
      "2018-01-03  2.0  3.5  1.500000\n",
      "2018-01-04  2.5  3.0  1.666667\n",
      "2018-01-05  2.5  2.5  1.500000\n",
      "28.4 ms ± 625 µs per loop (mean ± std. dev. of 7 runs, 10 loops each)\n",
      "              a    b         c\n",
      "2018-01-01  1.0  NaN  1.000000\n",
      "2018-01-02  1.5  4.0  1.500000\n",
      "2018-01-03  2.0  3.5  1.500000\n",
      "2018-01-04  2.5  3.0  1.666667\n",
      "2018-01-05  2.5  2.5  1.500000\n",
      "14.6 ms ± 101 µs per loop (mean ± std. dev. of 7 runs, 100 loops each)\n"
     ]
    }
   ],
   "source": [
    "print(ts.expanding().mean())\n",
    "%timeit big_ts.expanding().mean()\n",
    "\n",
    "print(ts.vbt.tseries.expanding_mean())\n",
    "%timeit big_ts.vbt.tseries.expanding_mean()"
   ]
  },
  {
   "cell_type": "code",
   "execution_count": 25,
   "metadata": {},
   "outputs": [
    {
     "name": "stdout",
     "output_type": "stream",
     "text": [
      "                   a         b         c\n",
      "2018-01-01       NaN       NaN       NaN\n",
      "2018-01-02  0.707107       NaN  0.707107\n",
      "2018-01-03  1.000000  0.707107  0.707107\n",
      "2018-01-04  1.290994  1.000000  0.577350\n",
      "2018-01-05  1.290994  1.290994  0.577350\n",
      "57.7 ms ± 2.99 ms per loop (mean ± std. dev. of 7 runs, 10 loops each)\n",
      "                   a         b         c\n",
      "2018-01-01       NaN       NaN       NaN\n",
      "2018-01-02  0.707107       NaN  0.707107\n",
      "2018-01-03  1.000000  0.707107  0.707107\n",
      "2018-01-04  1.290994  1.000000  0.577350\n",
      "2018-01-05  1.290994  1.290994  0.577350\n",
      "16.1 ms ± 138 µs per loop (mean ± std. dev. of 7 runs, 100 loops each)\n"
     ]
    }
   ],
   "source": [
    "print(ts.expanding().std())\n",
    "%timeit big_ts.expanding().std()\n",
    "\n",
    "print(ts.vbt.tseries.expanding_std())\n",
    "%timeit big_ts.vbt.tseries.expanding_std()"
   ]
  },
  {
   "cell_type": "code",
   "execution_count": 26,
   "metadata": {},
   "outputs": [],
   "source": [
    "pd_nanmean_nb = njit(lambda x: np.nanmean(x))\n",
    "nanmean_nb = njit(lambda col, i, x: np.nanmean(x))\n",
    "nanmean_matrix_nb = njit(lambda i, x: np.nanmean(x))"
   ]
  },
  {
   "cell_type": "code",
   "execution_count": 27,
   "metadata": {},
   "outputs": [
    {
     "name": "stdout",
     "output_type": "stream",
     "text": [
      "              a    b    c\n",
      "2018-01-01  1.0  NaN  1.0\n",
      "2018-01-02  1.5  4.0  1.5\n",
      "2018-01-03  2.5  3.5  2.0\n",
      "2018-01-04  3.5  2.5  2.0\n",
      "2018-01-05  4.0  1.5  1.5\n",
      "389 ms ± 2.34 ms per loop (mean ± std. dev. of 7 runs, 1 loop each)\n",
      "              a    b    c\n",
      "2018-01-01  1.0  NaN  1.0\n",
      "2018-01-02  1.5  4.0  1.5\n",
      "2018-01-03  2.5  3.5  2.0\n",
      "2018-01-04  3.5  2.5  2.0\n",
      "2018-01-05  4.0  1.5  1.5\n",
      "59.5 ms ± 509 µs per loop (mean ± std. dev. of 7 runs, 1 loop each)\n",
      "                   a         b         c\n",
      "2018-01-01  1.000000  1.000000  1.000000\n",
      "2018-01-02  2.000000  2.000000  2.000000\n",
      "2018-01-03  2.285714  2.285714  2.285714\n",
      "2018-01-04  2.750000  2.750000  2.750000\n",
      "2018-01-05  2.285714  2.285714  2.285714\n",
      "6.82 ms ± 153 µs per loop (mean ± std. dev. of 7 runs, 1 loop each)\n"
     ]
    }
   ],
   "source": [
    "print(ts.rolling(2, min_periods=1).apply(pd_nanmean_nb, raw=True))\n",
    "%timeit big_ts.rolling(2, min_periods=1).apply(pd_nanmean_nb, raw=True)\n",
    "\n",
    "print(ts.vbt.tseries.rolling_apply(2, nanmean_nb))\n",
    "%timeit big_ts.vbt.tseries.rolling_apply(2, nanmean_nb)\n",
    "\n",
    "print(ts.vbt.tseries.rolling_apply(3, nanmean_matrix_nb, on_matrix=True))\n",
    "%timeit big_ts.vbt.tseries.rolling_apply(3, nanmean_matrix_nb, on_matrix=True)"
   ]
  },
  {
   "cell_type": "code",
   "execution_count": 28,
   "metadata": {},
   "outputs": [
    {
     "name": "stdout",
     "output_type": "stream",
     "text": [
      "              a    b         c\n",
      "2018-01-01  1.0  NaN  1.000000\n",
      "2018-01-02  1.5  4.0  1.500000\n",
      "2018-01-03  2.0  3.5  1.500000\n",
      "2018-01-04  2.5  3.0  1.666667\n",
      "2018-01-05  2.5  2.5  1.500000\n",
      "1.41 s ± 7.62 ms per loop (mean ± std. dev. of 7 runs, 1 loop each)\n",
      "              a    b         c\n",
      "2018-01-01  1.0  NaN  1.000000\n",
      "2018-01-02  1.5  4.0  1.500000\n",
      "2018-01-03  2.0  3.5  1.500000\n",
      "2018-01-04  2.5  3.0  1.666667\n",
      "2018-01-05  2.5  2.5  1.500000\n",
      "853 ms ± 2.73 ms per loop (mean ± std. dev. of 7 runs, 1 loop each)\n",
      "                   a         b         c\n",
      "2018-01-01  1.000000  1.000000  1.000000\n",
      "2018-01-02  2.000000  2.000000  2.000000\n",
      "2018-01-03  2.285714  2.285714  2.285714\n",
      "2018-01-04  2.400000  2.400000  2.400000\n",
      "2018-01-05  2.166667  2.166667  2.166667\n",
      "832 ms ± 11.9 ms per loop (mean ± std. dev. of 7 runs, 1 loop each)\n"
     ]
    }
   ],
   "source": [
    "print(ts.expanding(min_periods=1).apply(pd_nanmean_nb, raw=True))\n",
    "%timeit big_ts.expanding(min_periods=1).apply(pd_nanmean_nb, raw=True)\n",
    "\n",
    "print(ts.vbt.tseries.expanding_apply(nanmean_nb))\n",
    "%timeit big_ts.vbt.tseries.expanding_apply(nanmean_nb)\n",
    "\n",
    "print(ts.vbt.tseries.expanding_apply(nanmean_matrix_nb, on_matrix=True))\n",
    "%timeit big_ts.vbt.tseries.expanding_apply(nanmean_matrix_nb, on_matrix=True)"
   ]
  },
  {
   "cell_type": "code",
   "execution_count": 29,
   "metadata": {},
   "outputs": [
    {
     "name": "stdout",
     "output_type": "stream",
     "text": [
      "1    1.5\n",
      "2    3.5\n",
      "3    NaN\n",
      "Name: a, dtype: float64\n",
      "3.69 ms ± 12.6 µs per loop (mean ± std. dev. of 7 runs, 100 loops each)\n",
      "1    1.5\n",
      "2    3.5\n",
      "3    NaN\n",
      "Name: a, dtype: float64\n",
      "3.46 ms ± 287 µs per loop (mean ± std. dev. of 7 runs, 1 loop each)\n",
      "     a    b    c\n",
      "1  1.5  4.0  1.5\n",
      "2  3.5  2.5  2.0\n",
      "3  NaN  1.0  1.0\n",
      "     a    b    c\n",
      "1  1.5  4.0  1.5\n",
      "2  3.5  2.5  2.0\n",
      "3  NaN  1.0  1.0\n",
      "10.2 ms ± 863 µs per loop (mean ± std. dev. of 7 runs, 1 loop each)\n",
      "     a    b    c\n",
      "1  2.0  2.0  2.0\n",
      "2  2.8  2.8  2.8\n",
      "3  1.0  1.0  1.0\n",
      "5.91 ms ± 281 µs per loop (mean ± std. dev. of 7 runs, 1 loop each)\n"
     ]
    }
   ],
   "source": [
    "print(ts['a'].groupby(np.asarray([1, 1, 2, 2, 3])).apply(lambda x: pd_nanmean_nb(x.values)))\n",
    "%timeit big_ts.iloc[:, 0].groupby(np.random.randint(10, size=1000)).apply(lambda x: pd_nanmean_nb(x.values))\n",
    "\n",
    "print(ts['a'].vbt.tseries.groupby_apply(np.asarray([1, 1, 2, 2, 3]), nanmean_nb))\n",
    "%timeit big_ts.iloc[:, 0].vbt.tseries.groupby_apply(np.random.randint(10, size=1000), nanmean_nb)\n",
    "\n",
    "print(ts.groupby(np.asarray([1, 1, 2, 2, 3])).agg({\n",
    "    'a': lambda x: pd_nanmean_nb(x.values), \n",
    "    'b': lambda x: pd_nanmean_nb(x.values), \n",
    "    'c': lambda x: pd_nanmean_nb(x.values)})) # any clean way to do column-wise grouping in pandas?\n",
    "\n",
    "print(ts.vbt.tseries.groupby_apply(np.asarray([1, 1, 2, 2, 3]), nanmean_nb))\n",
    "%timeit big_ts.vbt.tseries.groupby_apply(np.random.randint(10, size=1000), nanmean_nb)\n",
    "\n",
    "print(ts.vbt.tseries.groupby_apply(np.asarray([1, 1, 2, 2, 3]), nanmean_matrix_nb, on_matrix=True))\n",
    "%timeit big_ts.vbt.tseries.groupby_apply(np.random.randint(10, size=1000), nanmean_matrix_nb, on_matrix=True)"
   ]
  },
  {
   "cell_type": "code",
   "execution_count": 30,
   "metadata": {},
   "outputs": [
    {
     "name": "stdout",
     "output_type": "stream",
     "text": [
      "2018-01-01 00:00:00    1.0\n",
      "2018-01-01 01:00:00    NaN\n",
      "2018-01-01 02:00:00    NaN\n",
      "2018-01-01 03:00:00    NaN\n",
      "2018-01-01 04:00:00    NaN\n",
      "                      ... \n",
      "2018-01-04 20:00:00    NaN\n",
      "2018-01-04 21:00:00    NaN\n",
      "2018-01-04 22:00:00    NaN\n",
      "2018-01-04 23:00:00    NaN\n",
      "2018-01-05 00:00:00    NaN\n",
      "Freq: H, Name: a, Length: 97, dtype: float32\n",
      "116 ms ± 1.05 ms per loop (mean ± std. dev. of 7 runs, 10 loops each)\n",
      "2018-01-01 00:00:00    1.0\n",
      "2018-01-01 01:00:00    NaN\n",
      "2018-01-01 02:00:00    NaN\n",
      "2018-01-01 03:00:00    NaN\n",
      "2018-01-01 04:00:00    NaN\n",
      "                      ... \n",
      "2018-01-04 20:00:00    NaN\n",
      "2018-01-04 21:00:00    NaN\n",
      "2018-01-04 22:00:00    NaN\n",
      "2018-01-04 23:00:00    NaN\n",
      "2018-01-05 00:00:00    NaN\n",
      "Freq: H, Name: a, Length: 97, dtype: float64\n",
      "113 ms ± 430 µs per loop (mean ± std. dev. of 7 runs, 10 loops each)\n",
      "                       a    b    c\n",
      "2018-01-01 00:00:00  1.0  NaN  1.0\n",
      "2018-01-01 01:00:00  NaN  NaN  NaN\n",
      "2018-01-01 02:00:00  NaN  NaN  NaN\n",
      "2018-01-01 03:00:00  NaN  NaN  NaN\n",
      "2018-01-01 04:00:00  NaN  NaN  NaN\n",
      "...                  ...  ...  ...\n",
      "2018-01-04 20:00:00  NaN  NaN  NaN\n",
      "2018-01-04 21:00:00  NaN  NaN  NaN\n",
      "2018-01-04 22:00:00  NaN  NaN  NaN\n",
      "2018-01-04 23:00:00  NaN  NaN  NaN\n",
      "2018-01-05 00:00:00  NaN  1.0  1.0\n",
      "\n",
      "[97 rows x 3 columns]\n",
      "12 s ± 244 ms per loop (mean ± std. dev. of 7 runs, 1 loop each)\n",
      "                       a    b    c\n",
      "2018-01-01 00:00:00  1.0  NaN  1.0\n",
      "2018-01-01 01:00:00  NaN  NaN  NaN\n",
      "2018-01-01 02:00:00  NaN  NaN  NaN\n",
      "2018-01-01 03:00:00  NaN  NaN  NaN\n",
      "2018-01-01 04:00:00  NaN  NaN  NaN\n",
      "...                  ...  ...  ...\n",
      "2018-01-04 20:00:00  NaN  NaN  NaN\n",
      "2018-01-04 21:00:00  NaN  NaN  NaN\n",
      "2018-01-04 22:00:00  NaN  NaN  NaN\n",
      "2018-01-04 23:00:00  NaN  NaN  NaN\n",
      "2018-01-05 00:00:00  NaN  1.0  1.0\n",
      "\n",
      "[97 rows x 3 columns]\n",
      "453 ms ± 3.24 ms per loop (mean ± std. dev. of 7 runs, 1 loop each)\n",
      "                       a    b    c\n",
      "2018-01-01 00:00:00  1.0  1.0  1.0\n",
      "2018-01-01 01:00:00  NaN  NaN  NaN\n",
      "2018-01-01 02:00:00  NaN  NaN  NaN\n",
      "2018-01-01 03:00:00  NaN  NaN  NaN\n",
      "2018-01-01 04:00:00  NaN  NaN  NaN\n",
      "...                  ...  ...  ...\n",
      "2018-01-04 20:00:00  NaN  NaN  NaN\n",
      "2018-01-04 21:00:00  NaN  NaN  NaN\n",
      "2018-01-04 22:00:00  NaN  NaN  NaN\n",
      "2018-01-04 23:00:00  NaN  NaN  NaN\n",
      "2018-01-05 00:00:00  1.0  1.0  1.0\n",
      "\n",
      "[97 rows x 3 columns]\n",
      "221 ms ± 5.36 ms per loop (mean ± std. dev. of 7 runs, 1 loop each)\n"
     ]
    }
   ],
   "source": [
    "print(ts['a'].resample('1h').apply(lambda x: pd_nanmean_nb(x.values)))\n",
    "%timeit big_ts.iloc[:, 0].resample('1h').apply(lambda x: pd_nanmean_nb(x.values))\n",
    "\n",
    "print(ts['a'].vbt.tseries.resample_apply('1h', nanmean_nb))\n",
    "%timeit big_ts.iloc[:, 0].vbt.tseries.resample_apply('1h', nanmean_nb)\n",
    "\n",
    "print(ts.resample('1h').apply(lambda x: pd_nanmean_nb(x.values)))\n",
    "%timeit big_ts.iloc[:, :100].resample('1h').apply(lambda x: pd_nanmean_nb(x.values))\n",
    "\n",
    "print(ts.vbt.tseries.resample_apply('1h', nanmean_nb))\n",
    "%timeit big_ts.vbt.tseries.resample_apply('1h', nanmean_nb)\n",
    "\n",
    "print(ts.vbt.tseries.resample_apply('1h', nanmean_matrix_nb, on_matrix=True))\n",
    "%timeit big_ts.vbt.tseries.resample_apply('1h', nanmean_matrix_nb, on_matrix=True)"
   ]
  },
  {
   "cell_type": "code",
   "execution_count": 31,
   "metadata": {},
   "outputs": [
    {
     "name": "stdout",
     "output_type": "stream",
     "text": [
      "2018-01-01    2.0\n",
      "2018-01-04    4.0\n",
      "Freq: 3D, Name: a, dtype: float32\n",
      "3.65 ms ± 106 µs per loop (mean ± std. dev. of 7 runs, 100 loops each)\n",
      "2018-01-01    2.0\n",
      "2018-01-04    4.0\n",
      "Freq: 3D, Name: a, dtype: float64\n",
      "9.31 ms ± 79.9 µs per loop (mean ± std. dev. of 7 runs, 100 loops each)\n",
      "              a    b    c\n",
      "2018-01-01  2.0  3.5  1.5\n",
      "2018-01-04  4.0  1.5  1.5\n",
      "3.51 s ± 21.2 ms per loop (mean ± std. dev. of 7 runs, 1 loop each)\n",
      "              a    b    c\n",
      "2018-01-01  2.0  3.5  1.5\n",
      "2018-01-04  4.0  1.5  1.5\n",
      "90.1 ms ± 648 µs per loop (mean ± std. dev. of 7 runs, 10 loops each)\n",
      "                   a         b         c\n",
      "2018-01-01  2.285714  2.285714  2.285714\n",
      "2018-01-04  2.000000  2.000000  2.000000\n",
      "14.4 ms ± 74.5 µs per loop (mean ± std. dev. of 7 runs, 100 loops each)\n"
     ]
    }
   ],
   "source": [
    "print(ts['a'].resample('3d').apply(lambda x: pd_nanmean_nb(x.values)))\n",
    "%timeit big_ts.iloc[:, 0].resample('3d').apply(lambda x: pd_nanmean_nb(x.values))\n",
    "\n",
    "print(ts['a'].vbt.tseries.resample_apply('3d', nanmean_nb))\n",
    "%timeit big_ts.iloc[:, 0].vbt.tseries.resample_apply('3d', nanmean_nb)\n",
    "\n",
    "print(ts.resample('3d').apply(lambda x: pd_nanmean_nb(x.values)))\n",
    "%timeit big_ts.resample('3d').apply(lambda x: pd_nanmean_nb(x.values))\n",
    "\n",
    "print(ts.vbt.tseries.resample_apply('3d', nanmean_nb))\n",
    "%timeit big_ts.vbt.tseries.resample_apply('3d', nanmean_nb)\n",
    "\n",
    "print(ts.vbt.tseries.resample_apply('3d', nanmean_matrix_nb, on_matrix=True))\n",
    "%timeit big_ts.vbt.tseries.resample_apply('3d', nanmean_matrix_nb, on_matrix=True)"
   ]
  },
  {
   "cell_type": "code",
   "execution_count": 32,
   "metadata": {},
   "outputs": [
    {
     "name": "stdout",
     "output_type": "stream",
     "text": [
      "2018-01-07    2.5\n",
      "Freq: W-SUN, Name: a, dtype: float32\n",
      "6.49 ms ± 121 µs per loop (mean ± std. dev. of 7 runs, 100 loops each)\n",
      "2018-01-07    2.5\n",
      "Freq: W-SUN, Name: a, dtype: float64\n",
      "10.2 ms ± 52.7 µs per loop (mean ± std. dev. of 7 runs, 100 loops each)\n",
      "              a    b    c\n",
      "2018-01-07  2.5  2.5  1.5\n",
      "2.63 s ± 187 ms per loop (mean ± std. dev. of 7 runs, 1 loop each)\n",
      "              a    b    c\n",
      "2018-01-07  2.5  2.5  1.5\n",
      "45.7 ms ± 554 µs per loop (mean ± std. dev. of 7 runs, 10 loops each)\n",
      "                   a         b         c\n",
      "2018-01-07  2.166667  2.166667  2.166667\n",
      "13.4 ms ± 72.5 µs per loop (mean ± std. dev. of 7 runs, 100 loops each)\n"
     ]
    }
   ],
   "source": [
    "print(ts['a'].resample('1w').apply(lambda x: pd_nanmean_nb(x.values)))\n",
    "%timeit big_ts.iloc[:, 0].resample('1w').apply(lambda x: pd_nanmean_nb(x.values))\n",
    "\n",
    "print(ts['a'].vbt.tseries.resample_apply('1w', nanmean_nb))\n",
    "%timeit big_ts.iloc[:, 0].vbt.tseries.resample_apply('1w', nanmean_nb)\n",
    "\n",
    "print(ts.resample('1w').apply(lambda x: pd_nanmean_nb(x.values)))\n",
    "%timeit big_ts.resample('1w').apply(lambda x: pd_nanmean_nb(x.values))\n",
    "\n",
    "print(ts.vbt.tseries.resample_apply('1w', nanmean_nb))\n",
    "%timeit big_ts.vbt.tseries.resample_apply('1w', nanmean_nb)\n",
    "\n",
    "print(ts.vbt.tseries.resample_apply('1w', nanmean_matrix_nb, on_matrix=True))\n",
    "%timeit big_ts.vbt.tseries.resample_apply('1w', nanmean_matrix_nb, on_matrix=True)"
   ]
  },
  {
   "cell_type": "code",
   "execution_count": 33,
   "metadata": {},
   "outputs": [
    {
     "name": "stdout",
     "output_type": "stream",
     "text": [
      "              a    b    c\n",
      "2018-01-01  2.0  NaN  2.0\n",
      "2018-01-02  4.0  8.0  4.0\n",
      "2018-01-03  6.0  6.0  NaN\n",
      "2018-01-04  8.0  4.0  4.0\n",
      "2018-01-05  NaN  2.0  2.0\n",
      "424 ms ± 5.2 ms per loop (mean ± std. dev. of 7 runs, 1 loop each)\n",
      "2018-01-01    2.0\n",
      "2018-01-02    4.0\n",
      "2018-01-03    6.0\n",
      "2018-01-04    8.0\n",
      "2018-01-05    NaN\n",
      "Freq: D, Name: a, dtype: float64\n",
      "936 µs ± 112 µs per loop (mean ± std. dev. of 7 runs, 1 loop each)\n",
      "              a    b    c\n",
      "2018-01-01  2.0  NaN  2.0\n",
      "2018-01-02  4.0  8.0  4.0\n",
      "2018-01-03  6.0  6.0  NaN\n",
      "2018-01-04  8.0  4.0  4.0\n",
      "2018-01-05  NaN  2.0  2.0\n",
      "10.9 ms ± 261 µs per loop (mean ± std. dev. of 7 runs, 1 loop each)\n"
     ]
    }
   ],
   "source": [
    "mult_nb = njit(lambda col, i, x: x * 2)\n",
    "\n",
    "print(ts.applymap(lambda x: x * 2))\n",
    "%timeit big_ts.applymap(lambda x: x * 2)\n",
    "\n",
    "print(ts['a'].vbt.tseries.applymap(mult_nb))\n",
    "%timeit big_ts.iloc[:, 0].vbt.tseries.applymap(mult_nb)\n",
    "\n",
    "print(ts.vbt.tseries.applymap(mult_nb))\n",
    "%timeit big_ts.vbt.tseries.applymap(mult_nb)"
   ]
  },
  {
   "cell_type": "code",
   "execution_count": 34,
   "metadata": {},
   "outputs": [
    {
     "name": "stdout",
     "output_type": "stream",
     "text": [
      "              a    b   c\n",
      "2018-01-01  NaN  NaN NaN\n",
      "2018-01-02  NaN  4.0 NaN\n",
      "2018-01-03  3.0  3.0 NaN\n",
      "2018-01-04  4.0  NaN NaN\n",
      "2018-01-05  NaN  NaN NaN\n",
      "441 ms ± 3.95 ms per loop (mean ± std. dev. of 7 runs, 1 loop each)\n",
      "2018-01-01    NaN\n",
      "2018-01-02    NaN\n",
      "2018-01-03    3.0\n",
      "2018-01-04    4.0\n",
      "2018-01-05    NaN\n",
      "Freq: D, Name: a, dtype: float64\n",
      "1.11 ms ± 337 µs per loop (mean ± std. dev. of 7 runs, 1 loop each)\n",
      "              a    b   c\n",
      "2018-01-01  NaN  NaN NaN\n",
      "2018-01-02  NaN  4.0 NaN\n",
      "2018-01-03  3.0  3.0 NaN\n",
      "2018-01-04  4.0  NaN NaN\n",
      "2018-01-05  NaN  NaN NaN\n",
      "11.7 ms ± 152 µs per loop (mean ± std. dev. of 7 runs, 1 loop each)\n"
     ]
    }
   ],
   "source": [
    "greater_nb = njit(lambda col, i, x: x > 2)\n",
    "\n",
    "print(ts.applymap(lambda x: x if x > 2 else np.nan))\n",
    "%timeit big_ts.applymap(lambda x: x if x > 2 else np.nan)\n",
    "\n",
    "print(ts['a'].vbt.tseries.filter(greater_nb))\n",
    "%timeit big_ts.iloc[:, 0].vbt.tseries.filter(greater_nb)\n",
    "\n",
    "print(ts.vbt.tseries.filter(greater_nb))\n",
    "%timeit big_ts.vbt.tseries.filter(greater_nb)"
   ]
  },
  {
   "cell_type": "code",
   "execution_count": 35,
   "metadata": {},
   "outputs": [
    {
     "name": "stdout",
     "output_type": "stream",
     "text": [
      "4.0\n",
      "924 µs ± 161 µs per loop (mean ± std. dev. of 7 runs, 1 loop each)\n",
      "a    4.0\n",
      "b    4.0\n",
      "c    2.0\n",
      "dtype: float64\n",
      "1.53 ms ± 44.9 µs per loop (mean ± std. dev. of 7 runs, 1000 loops each)\n",
      "a   4 days\n",
      "b   4 days\n",
      "c   2 days\n",
      "dtype: timedelta64[ns]\n",
      "1.65 ms ± 21.2 µs per loop (mean ± std. dev. of 7 runs, 1000 loops each)\n"
     ]
    }
   ],
   "source": [
    "every_2th_nb = njit(lambda col, a: a[::2])\n",
    "sum_nb = njit(lambda col, a: np.nansum(a))\n",
    "\n",
    "print(ts['a'].vbt.tseries.apply_and_reduce(every_2th_nb, sum_nb))\n",
    "%timeit big_ts.iloc[:, 0].vbt.tseries.apply_and_reduce(every_2th_nb, sum_nb)\n",
    "\n",
    "print(ts.vbt.tseries.apply_and_reduce(every_2th_nb, sum_nb))\n",
    "%timeit big_ts.vbt.tseries.apply_and_reduce(every_2th_nb, sum_nb)\n",
    "\n",
    "print(ts.vbt.tseries.apply_and_reduce(every_2th_nb, sum_nb, time_units=True))\n",
    "%timeit big_ts.vbt.tseries.apply_and_reduce(every_2th_nb, sum_nb, time_units=True)"
   ]
  },
  {
   "cell_type": "code",
   "execution_count": 36,
   "metadata": {},
   "outputs": [
    {
     "name": "stdout",
     "output_type": "stream",
     "text": [
      "a    10.0\n",
      "b    10.0\n",
      "c     6.0\n",
      "dtype: float64\n",
      "79.4 ms ± 1.17 ms per loop (mean ± std. dev. of 7 runs, 10 loops each)\n",
      "10.0\n",
      "808 µs ± 9.62 µs per loop (mean ± std. dev. of 7 runs, 1000 loops each)\n",
      "a    10.0\n",
      "b    10.0\n",
      "c     6.0\n",
      "dtype: float64\n",
      "3.15 ms ± 32.5 µs per loop (mean ± std. dev. of 7 runs, 100 loops each)\n",
      "a   10 days\n",
      "b   10 days\n",
      "c    6 days\n",
      "dtype: timedelta64[ns]\n",
      "3.25 ms ± 55.1 µs per loop (mean ± std. dev. of 7 runs, 100 loops each)\n"
     ]
    }
   ],
   "source": [
    "print(ts.apply(np.nansum, axis=0))\n",
    "%timeit big_ts.apply(np.nansum, axis=0)\n",
    "\n",
    "print(ts['a'].vbt.tseries.reduce(sum_nb))\n",
    "%timeit big_ts.iloc[:, 0].vbt.tseries.reduce(sum_nb)\n",
    "\n",
    "print(ts.vbt.tseries.reduce(sum_nb))\n",
    "%timeit big_ts.vbt.tseries.reduce(sum_nb)\n",
    "\n",
    "print(ts.vbt.tseries.reduce(sum_nb, time_units=True))\n",
    "%timeit big_ts.vbt.tseries.reduce(sum_nb, time_units=True)"
   ]
  },
  {
   "cell_type": "code",
   "execution_count": 37,
   "metadata": {},
   "outputs": [
    {
     "name": "stdout",
     "output_type": "stream",
     "text": [
      "     a    b    c\n",
      "0  1.0  1.0  1.0\n",
      "1  4.0  4.0  2.0\n",
      "174 ms ± 1.08 ms per loop (mean ± std. dev. of 7 runs, 1 loop each)\n",
      "min    1.0\n",
      "max    4.0\n",
      "Name: a, dtype: float64\n",
      "1.09 ms ± 206 µs per loop (mean ± std. dev. of 7 runs, 1 loop each)\n",
      "       a    b    c\n",
      "min  1.0  1.0  1.0\n",
      "max  4.0  4.0  2.0\n",
      "5.32 ms ± 449 µs per loop (mean ± std. dev. of 7 runs, 1 loop each)\n",
      "         a      b      c\n",
      "min 1 days 1 days 1 days\n",
      "max 4 days 4 days 2 days\n",
      "5.36 ms ± 42.1 µs per loop (mean ± std. dev. of 7 runs, 100 loops each)\n"
     ]
    }
   ],
   "source": [
    "@njit\n",
    "def min_and_max_nb(col, a):\n",
    "    result = np.empty(2)\n",
    "    result[0] = np.nanmin(a)\n",
    "    result[1] = np.nanmax(a)\n",
    "    return result\n",
    "\n",
    "print(ts.apply(lambda x: np.asarray([np.min(x), np.max(x)]), axis=0))\n",
    "%timeit big_ts.apply(lambda x: np.asarray([np.min(x), np.max(x)]), axis=0)\n",
    "\n",
    "print(ts['a'].vbt.tseries.reduce_to_array(min_and_max_nb, index=['min', 'max']))\n",
    "%timeit big_ts.iloc[:, 0].vbt.tseries.reduce_to_array(min_and_max_nb, index=['min', 'max'])\n",
    "\n",
    "print(ts.vbt.tseries.reduce_to_array(min_and_max_nb, index=['min', 'max']))\n",
    "%timeit big_ts.vbt.tseries.reduce_to_array(min_and_max_nb, index=['min', 'max'])\n",
    "\n",
    "print(ts.vbt.tseries.reduce_to_array(min_and_max_nb, index=['min', 'max'], time_units=True))\n",
    "%timeit big_ts.vbt.tseries.reduce_to_array(min_and_max_nb, index=['min', 'max'], time_units=True)"
   ]
  },
  {
   "cell_type": "code",
   "execution_count": 38,
   "metadata": {},
   "outputs": [
    {
     "name": "stdout",
     "output_type": "stream",
     "text": [
      "a    1.0\n",
      "b    1.0\n",
      "c    1.0\n",
      "dtype: float32\n",
      "3.88 ms ± 40.2 µs per loop (mean ± std. dev. of 7 runs, 100 loops each)\n",
      "a    1.0\n",
      "b    1.0\n",
      "c    1.0\n",
      "dtype: float32\n",
      "3.86 ms ± 42.5 µs per loop (mean ± std. dev. of 7 runs, 100 loops each)\n",
      "a   1 days\n",
      "b   1 days\n",
      "c   1 days\n",
      "dtype: timedelta64[ns]\n",
      "3.95 ms ± 36.1 µs per loop (mean ± std. dev. of 7 runs, 100 loops each)\n"
     ]
    }
   ],
   "source": [
    "print(ts.min())\n",
    "%timeit big_ts.min()\n",
    "\n",
    "print(ts.vbt.tseries.min())\n",
    "%timeit big_ts.vbt.tseries.min()\n",
    "\n",
    "print(ts.vbt.tseries.min(time_units=True))\n",
    "%timeit big_ts.vbt.tseries.min(time_units=True)"
   ]
  },
  {
   "cell_type": "code",
   "execution_count": 39,
   "metadata": {},
   "outputs": [
    {
     "name": "stdout",
     "output_type": "stream",
     "text": [
      "a    4.0\n",
      "b    4.0\n",
      "c    2.0\n",
      "dtype: float32\n",
      "3.9 ms ± 24.1 µs per loop (mean ± std. dev. of 7 runs, 100 loops each)\n",
      "a    4.0\n",
      "b    4.0\n",
      "c    2.0\n",
      "dtype: float32\n",
      "3.87 ms ± 39.3 µs per loop (mean ± std. dev. of 7 runs, 100 loops each)\n",
      "a   4 days\n",
      "b   4 days\n",
      "c   2 days\n",
      "dtype: timedelta64[ns]\n",
      "3.96 ms ± 47.5 µs per loop (mean ± std. dev. of 7 runs, 100 loops each)\n"
     ]
    }
   ],
   "source": [
    "print(ts.max())\n",
    "%timeit big_ts.max()\n",
    "\n",
    "print(ts.vbt.tseries.max())\n",
    "%timeit big_ts.vbt.tseries.max()\n",
    "\n",
    "print(ts.vbt.tseries.max(time_units=True))\n",
    "%timeit big_ts.vbt.tseries.max(time_units=True)"
   ]
  },
  {
   "cell_type": "code",
   "execution_count": 40,
   "metadata": {},
   "outputs": [
    {
     "name": "stdout",
     "output_type": "stream",
     "text": [
      "a    2.5\n",
      "b    2.5\n",
      "c    1.5\n",
      "dtype: float32\n",
      "2.98 ms ± 18.3 µs per loop (mean ± std. dev. of 7 runs, 100 loops each)\n",
      "a    2.5\n",
      "b    2.5\n",
      "c    1.5\n",
      "dtype: float32\n",
      "2.91 ms ± 21.4 µs per loop (mean ± std. dev. of 7 runs, 100 loops each)\n",
      "a   2 days 12:00:00\n",
      "b   2 days 12:00:00\n",
      "c   1 days 12:00:00\n",
      "dtype: timedelta64[ns]\n",
      "3.03 ms ± 100 µs per loop (mean ± std. dev. of 7 runs, 100 loops each)\n"
     ]
    }
   ],
   "source": [
    "print(ts.mean())\n",
    "%timeit big_ts.mean()\n",
    "\n",
    "print(ts.vbt.tseries.mean())\n",
    "%timeit big_ts.vbt.tseries.mean()\n",
    "\n",
    "print(ts.vbt.tseries.mean(time_units=True))\n",
    "%timeit big_ts.vbt.tseries.mean(time_units=True)"
   ]
  },
  {
   "cell_type": "code",
   "execution_count": 41,
   "metadata": {},
   "outputs": [
    {
     "name": "stdout",
     "output_type": "stream",
     "text": [
      "a    1.290994\n",
      "b    1.290994\n",
      "c    0.577350\n",
      "dtype: float32\n",
      "4.05 ms ± 42.4 µs per loop (mean ± std. dev. of 7 runs, 100 loops each)\n",
      "a    1.290994\n",
      "b    1.290994\n",
      "c    0.577350\n",
      "dtype: float32\n",
      "3.96 ms ± 27.8 µs per loop (mean ± std. dev. of 7 runs, 100 loops each)\n",
      "a   1 days 06:59:01.916656\n",
      "b   1 days 06:59:01.916656\n",
      "c   0 days 13:51:23.062362\n",
      "dtype: timedelta64[ns]\n",
      "4.1 ms ± 76 µs per loop (mean ± std. dev. of 7 runs, 100 loops each)\n"
     ]
    }
   ],
   "source": [
    "print(ts.std())\n",
    "%timeit big_ts.std()\n",
    "\n",
    "print(ts.vbt.tseries.std())\n",
    "%timeit big_ts.vbt.tseries.std()\n",
    "\n",
    "print(ts.vbt.tseries.std(time_units=True))\n",
    "%timeit big_ts.vbt.tseries.std(time_units=True)"
   ]
  },
  {
   "cell_type": "code",
   "execution_count": 42,
   "metadata": {},
   "outputs": [
    {
     "name": "stdout",
     "output_type": "stream",
     "text": [
      "a    4\n",
      "b    4\n",
      "c    4\n",
      "dtype: int64\n",
      "2.66 ms ± 55.1 µs per loop (mean ± std. dev. of 7 runs, 100 loops each)\n",
      "a    4\n",
      "b    4\n",
      "c    4\n",
      "dtype: int64\n",
      "2.07 ms ± 41.6 µs per loop (mean ± std. dev. of 7 runs, 100 loops each)\n",
      "a   4 days\n",
      "b   4 days\n",
      "c   4 days\n",
      "dtype: timedelta64[ns]\n",
      "2.04 ms ± 10.8 µs per loop (mean ± std. dev. of 7 runs, 100 loops each)\n"
     ]
    }
   ],
   "source": [
    "print((~ts.isnull()).sum())\n",
    "%timeit (~big_ts.isnull()).sum()\n",
    "\n",
    "print(ts.vbt.tseries.count())\n",
    "%timeit big_ts.vbt.tseries.count()\n",
    "\n",
    "print(ts.vbt.tseries.count(time_units=True))\n",
    "%timeit big_ts.vbt.tseries.count(time_units=True)"
   ]
  },
  {
   "cell_type": "code",
   "execution_count": 43,
   "metadata": {},
   "outputs": [
    {
     "name": "stdout",
     "output_type": "stream",
     "text": [
      "a   2018-01-01\n",
      "b   2018-01-05\n",
      "c   2018-01-01\n",
      "dtype: datetime64[ns]\n",
      "14.2 ms ± 152 µs per loop (mean ± std. dev. of 7 runs, 100 loops each)\n",
      "a   2018-01-01\n",
      "b   2018-01-05\n",
      "c   2018-01-01\n",
      "dtype: datetime64[ns]\n",
      "3.49 ms ± 63 µs per loop (mean ± std. dev. of 7 runs, 100 loops each)\n"
     ]
    }
   ],
   "source": [
    "print(ts.idxmin())\n",
    "%timeit big_ts.idxmin()\n",
    "\n",
    "print(ts.vbt.tseries.idxmin())\n",
    "%timeit big_ts.vbt.tseries.idxmin()"
   ]
  },
  {
   "cell_type": "code",
   "execution_count": 44,
   "metadata": {},
   "outputs": [
    {
     "name": "stdout",
     "output_type": "stream",
     "text": [
      "a   2018-01-04\n",
      "b   2018-01-02\n",
      "c   2018-01-02\n",
      "dtype: datetime64[ns]\n",
      "14.2 ms ± 120 µs per loop (mean ± std. dev. of 7 runs, 100 loops each)\n",
      "a   2018-01-04\n",
      "b   2018-01-02\n",
      "c   2018-01-02\n",
      "dtype: datetime64[ns]\n",
      "3.47 ms ± 20.8 µs per loop (mean ± std. dev. of 7 runs, 100 loops each)\n"
     ]
    }
   ],
   "source": [
    "print(ts.idxmax())\n",
    "%timeit big_ts.idxmax()\n",
    "\n",
    "print(ts.vbt.tseries.idxmax())\n",
    "%timeit big_ts.vbt.tseries.idxmax()"
   ]
  },
  {
   "cell_type": "code",
   "execution_count": 45,
   "metadata": {},
   "outputs": [
    {
     "name": "stdout",
     "output_type": "stream",
     "text": [
      "              a         b        c\n",
      "count  4.000000  4.000000  4.00000\n",
      "mean   2.500000  2.500000  1.50000\n",
      "std    1.290994  1.290994  0.57735\n",
      "min    1.000000  1.000000  1.00000\n",
      "0%     1.000000  1.000000  1.00000\n",
      "10%    1.300000  1.300000  1.00000\n",
      "20%    1.600000  1.600000  1.00000\n",
      "30%    1.900000  1.900000  1.00000\n",
      "40%    2.200000  2.200000  1.20000\n",
      "50%    2.500000  2.500000  1.50000\n",
      "60%    2.800000  2.800000  1.80000\n",
      "70%    3.100000  3.100000  2.00000\n",
      "80%    3.400000  3.400000  2.00000\n",
      "90%    3.700000  3.700000  2.00000\n",
      "max    4.000000  4.000000  2.00000\n",
      "2.11 s ± 324 ms per loop (mean ± std. dev. of 7 runs, 1 loop each)\n",
      "              a         b        c\n",
      "count  4.000000  4.000000  4.00000\n",
      "mean   2.500000  2.500000  1.50000\n",
      "std    1.290994  1.290994  0.57735\n",
      "min    1.000000  1.000000  1.00000\n",
      "0%     1.000000  1.000000  1.00000\n",
      "10%    1.300000  1.300000  1.00000\n",
      "20%    1.600000  1.600000  1.00000\n",
      "30%    1.900000  1.900000  1.00000\n",
      "40%    2.200000  2.200000  1.20000\n",
      "50%    2.500000  2.500000  1.50000\n",
      "60%    2.800000  2.800000  1.80000\n",
      "70%    3.100000  3.100000  2.00000\n",
      "80%    3.400000  3.400000  2.00000\n",
      "90%    3.700000  3.700000  2.00000\n",
      "max    4.000000  4.000000  2.00000\n",
      "78.7 ms ± 1.21 ms per loop (mean ± std. dev. of 7 runs, 1 loop each)\n"
     ]
    }
   ],
   "source": [
    "print(ts.describe(percentiles=np.arange(0, 1, 0.1)))\n",
    "%timeit big_ts.describe(percentiles=np.arange(0, 1, 0.1))\n",
    "\n",
    "print(ts.vbt.tseries.describe(percentiles=np.arange(0, 1, 0.1)))\n",
    "%timeit big_ts.vbt.tseries.describe(percentiles=np.arange(0, 1, 0.1))"
   ]
  },
  {
   "cell_type": "code",
   "execution_count": 46,
   "metadata": {},
   "outputs": [
    {
     "name": "stdout",
     "output_type": "stream",
     "text": [
      "              a     b    c\n",
      "2018-01-01  0.0   NaN  0.0\n",
      "2018-01-02  0.0  0.00  0.0\n",
      "2018-01-03  0.0 -0.25  NaN\n",
      "2018-01-04  0.0 -0.50  0.0\n",
      "2018-01-05  NaN -0.75 -0.5\n",
      "50.3 ms ± 493 µs per loop (mean ± std. dev. of 7 runs, 10 loops each)\n",
      "              a     b    c\n",
      "2018-01-01  0.0   NaN  0.0\n",
      "2018-01-02  0.0  0.00  0.0\n",
      "2018-01-03  0.0 -0.25  NaN\n",
      "2018-01-04  0.0 -0.50  0.0\n",
      "2018-01-05  NaN -0.75 -0.5\n"
     ]
    },
    {
     "name": "stderr",
     "output_type": "stream",
     "text": [
      "/Users/olegpolakow/Documents/SourceTree/vectorbt/vectorbt/tseries/accessors.py:502: RuntimeWarning: invalid value encountered in true_divide\n",
      "  return self.wrap(self.to_2d_array() / nb.expanding_max_nb(self.to_2d_array()) - 1)\n"
     ]
    },
    {
     "name": "stdout",
     "output_type": "stream",
     "text": [
      "13.6 ms ± 1.61 ms per loop (mean ± std. dev. of 7 runs, 100 loops each)\n"
     ]
    }
   ],
   "source": [
    "print(ts / ts.expanding().max() - 1)\n",
    "%timeit big_ts / big_ts.expanding().max()\n",
    "\n",
    "print(ts.vbt.tseries.drawdown())\n",
    "%timeit big_ts.vbt.tseries.drawdown()"
   ]
  },
  {
   "cell_type": "code",
   "execution_count": 47,
   "metadata": {},
   "outputs": [
    {
     "name": "stdout",
     "output_type": "stream",
     "text": [
      "<vectorbt.records.drawdowns.Drawdowns object at 0x7fc2d090d630>\n",
      "7.81 ms ± 72.9 µs per loop (mean ± std. dev. of 7 runs, 100 loops each)\n"
     ]
    }
   ],
   "source": [
    "print(ts.vbt.tseries.drawdowns)\n",
    "%timeit big_ts.vbt.tseries.drawdowns"
   ]
  },
  {
   "cell_type": "code",
   "execution_count": 48,
   "metadata": {
    "Collapsed": "false"
   },
   "outputs": [
    {
     "data": {
      "text/plain": [
       "<matplotlib.axes._subplots.AxesSubplot at 0x7fc33d31e240>"
      ]
     },
     "execution_count": 48,
     "metadata": {},
     "output_type": "execute_result"
    },
    {
     "data": {
      "image/png": "[encoded data removed]",
      "text/plain": [
       "<Figure size 432x288 with 1 Axes>"
      ]
     },
     "metadata": {
      "needs_background": "light"
     },
     "output_type": "display_data"
    }
   ],
   "source": [
    "# Two ways of plotting\n",
    "ts.plot()"
   ]
  },
  {
   "cell_type": "code",
   "execution_count": 49,
   "metadata": {},
   "outputs": [
    {
     "data": {
      "image/png": "[encoded data removed]"
     },
     "metadata": {},
     "output_type": "display_data"
    }
   ],
   "source": [
    "ts['a'].vbt.tseries.plot().show_png()"
   ]
  },
  {
   "cell_type": "code",
   "execution_count": 50,
   "metadata": {},
   "outputs": [
    {
     "data": {
      "image/png": "[encoded data removed]"
     },
     "metadata": {},
     "output_type": "display_data"
    }
   ],
   "source": [
    "ts.vbt.tseries.plot().show_png()"
   ]
  },
  {
   "cell_type": "markdown",
   "metadata": {},
   "source": [
    "## OHLCV"
   ]
  },
  {
   "cell_type": "code",
   "execution_count": 51,
   "metadata": {},
   "outputs": [
    {
     "name": "stdout",
     "output_type": "stream",
     "text": [
      "{'open': 'Open', 'high': 'High', 'low': 'Low', 'close': 'Close', 'volume': 'Volume'}\n"
     ]
    }
   ],
   "source": [
    "print(vbt.defaults.ohlcv['column_names'])"
   ]
  },
  {
   "cell_type": "code",
   "execution_count": 52,
   "metadata": {},
   "outputs": [
    {
     "name": "stdout",
     "output_type": "stream",
     "text": [
      "'Open'\n"
     ]
    }
   ],
   "source": [
    "try:\n",
    "    ts.vbt.ohlcv.plot()\n",
    "except Exception as e:\n",
    "    print(e) # couldn't find default column names"
   ]
  },
  {
   "cell_type": "code",
   "execution_count": 53,
   "metadata": {},
   "outputs": [],
   "source": [
    "ohlcv_ts = pd.DataFrame({\n",
    "    'open': [1, 2, 3], \n",
    "    'high': [1, 2, 3], \n",
    "    'low': [1, 2, 3], \n",
    "    'close': [1, 2, 3], \n",
    "    'volume': [1, 2, 3]\n",
    "})"
   ]
  },
  {
   "cell_type": "code",
   "execution_count": 54,
   "metadata": {},
   "outputs": [
    {
     "name": "stdout",
     "output_type": "stream",
     "text": [
      "                open      high       low     close    volume\n",
      "2018-01-01 -0.479143 -0.318209 -0.881457 -0.034054 -0.198687\n",
      "2018-01-02 -0.311076 -0.052732 -0.817222 -0.736583  0.782906\n",
      "2018-01-03 -0.538912  0.141067 -1.172425 -1.124662  0.437262\n",
      "2018-01-04 -1.010245 -0.554328 -1.074236 -0.572805  0.344723\n",
      "2018-01-05 -1.704596 -1.263454 -2.508014 -2.355065 -0.220009\n",
      "2018-01-06 -2.431529 -2.189976 -2.555112 -1.675024  0.662714\n",
      "2018-01-07 -1.957429 -1.707329 -2.359886 -1.080844  1.107652\n",
      "2018-01-08 -2.657812 -2.507961 -2.779366 -2.227665  1.481199\n",
      "2018-01-09 -2.177819 -1.197226 -3.161521 -1.485535  1.218299\n",
      "2018-01-10 -2.405306 -1.873284 -2.608267 -2.144059  1.451982\n"
     ]
    }
   ],
   "source": [
    "ohlcv_ts = pd.DataFrame(\n",
    "    columns=['open', 'high', 'low', 'close', 'volume'],\n",
    "    index=[datetime(2018, 1, 1) + timedelta(days=i) for i in range(10)]\n",
    ")\n",
    "ohlcv_ts['open'] = np.cumsum(np.random.uniform(-0.8, 1, size=(10,)))\n",
    "ohlcv_ts['close'] = ohlcv_ts['open'] + np.random.uniform(-1, 1, size=(10,))\n",
    "ohlcv_ts['high'] = ohlcv_ts['open'] + np.random.uniform(0, 1, size=(10,))\n",
    "ohlcv_ts['low'] = ohlcv_ts['open'] - np.random.uniform(0, 1, size=(10,))\n",
    "ohlcv_ts['volume'] = np.cumsum(np.random.uniform(-1, 1, size=(10,)))\n",
    "\n",
    "print(ohlcv_ts)"
   ]
  },
  {
   "cell_type": "code",
   "execution_count": 55,
   "metadata": {},
   "outputs": [
    {
     "name": "stdout",
     "output_type": "stream",
     "text": [
      "'Open'\n"
     ]
    }
   ],
   "source": [
    "try:\n",
    "    ohlcv_ts.vbt.ohlcv.plot()\n",
    "except Exception as e:\n",
    "    print(e) # still couldn't find default column names"
   ]
  },
  {
   "cell_type": "code",
   "execution_count": 56,
   "metadata": {},
   "outputs": [
    {
     "data": {
      "image/png": "[encoded data removed]"
     },
     "metadata": {},
     "output_type": "display_data"
    }
   ],
   "source": [
    "# Specify them manually\n",
    "ohlcv_ts.vbt.ohlcv(column_names={\n",
    "    'open': 'open', \n",
    "    'high': 'high', \n",
    "    'low': 'low', \n",
    "    'close': 'close', \n",
    "    'volume': 'volume'\n",
    "}).plot().show_png()"
   ]
  },
  {
   "cell_type": "code",
   "execution_count": 57,
   "metadata": {},
   "outputs": [],
   "source": [
    "# Or by changing the defaults\n",
    "vbt.defaults.ohlcv['column_names'] = {\n",
    "    'open': 'open', \n",
    "    'high': 'high', \n",
    "    'low': 'low', \n",
    "    'close': 'close', \n",
    "    'volume': 'volume'\n",
    "}"
   ]
  },
  {
   "cell_type": "code",
   "execution_count": 58,
   "metadata": {},
   "outputs": [
    {
     "data": {
      "image/png": "[encoded data removed]"
     },
     "metadata": {},
     "output_type": "display_data"
    }
   ],
   "source": [
    "ohlcv_ts.vbt.ohlcv.plot().show_png()"
   ]
  },
  {
   "cell_type": "code",
   "execution_count": null,
   "metadata": {},
   "outputs": [],
   "source": []
  }
 ],
 "metadata": {
  "kernelspec": {
   "display_name": "Python 3",
   "language": "python",
   "name": "python3"
  },
  "language_info": {
   "codemirror_mode": {
    "name": "ipython",
    "version": 3
   },
   "file_extension": ".py",
   "mimetype": "text/x-python",
   "name": "python",
   "nbconvert_exporter": "python",
   "pygments_lexer": "ipython3",
   "version": "3.7.3"
  },
  "widgets": {
   "application/vnd.jupyter.widget-state+json": {
    "state": {
     "21998b5e05f84d3395286a833c605563": {
      "buffers": [
       {
        "data": "AACAPwAAAEAAAEBAAACAQAAAwH8=",
        "encoding": "base64",
        "path": [
         "_data",
         0,
         "y",
         "value"
        ]
       }
      ],
      "model_module": "plotlywidget",
      "model_module_version": "^4.8.0",
      "model_name": "FigureModel",
      "state": {
       "_config": {
        "plotlyServerURL": "https://plot.ly"
       },
       "_data": [
        {
         "mode": "lines",
         "name": "a",
         "showlegend": true,
         "type": "scatter",
         "uid": "3d9b46df-3f3d-4a47-be77-b0c797e733c9",
         "x": [
          "2018-01-01T00:00:00.000000",
          "2018-01-02T00:00:00.000000",
          "2018-01-03T00:00:00.000000",
          "2018-01-04T00:00:00.000000",
          "2018-01-05T00:00:00.000000"
         ],
         "y": {
          "dtype": "float32",
          "shape": [
           5
          ]
         }
        }
       ],
       "_js2py_layoutDelta": {},
       "_js2py_pointsCallback": {},
       "_js2py_relayout": {},
       "_js2py_restyle": {},
       "_js2py_traceDeltas": {},
       "_js2py_update": {},
       "_last_layout_edit_id": 2,
       "_last_trace_edit_id": 2,
       "_layout": {
        "autosize": false,
        "colorway": [
         "#1f77b4",
         "#ff7f0e",
         "#2ca02c",
         "#dc3912",
         "#9467bd",
         "#8c564b",
         "#e377c2",
         "#7f7f7f",
         "#bcbd22",
         "#17becf"
        ],
        "height": 300,
        "hovermode": "closest",
        "margin": {
         "b": 30,
         "t": 30
        },
        "template": {
         "data": {
          "bar": [
           {
            "error_x": {
             "color": "#2a3f5f"
            },
            "error_y": {
             "color": "#2a3f5f"
            },
            "marker": {
             "line": {
              "color": "#E5ECF6",
              "width": 0.5
             }
            },
            "type": "bar"
           }
          ],
          "barpolar": [
           {
            "marker": {
             "line": {
              "color": "#E5ECF6",
              "width": 0.5
             }
            },
            "type": "barpolar"
           }
          ],
          "carpet": [
           {
            "aaxis": {
             "endlinecolor": "#2a3f5f",
             "gridcolor": "white",
             "linecolor": "white",
             "minorgridcolor": "white",
             "startlinecolor": "#2a3f5f"
            },
            "baxis": {
             "endlinecolor": "#2a3f5f",
             "gridcolor": "white",
             "linecolor": "white",
             "minorgridcolor": "white",
             "startlinecolor": "#2a3f5f"
            },
            "type": "carpet"
           }
          ],
          "choropleth": [
           {
            "colorbar": {
             "outlinewidth": 0,
             "ticks": ""
            },
            "type": "choropleth"
           }
          ],
          "contour": [
           {
            "colorbar": {
             "outlinewidth": 0,
             "ticks": ""
            },
            "colorscale": [
             [
              0,
              "#0d0887"
             ],
             [
              0.1111111111111111,
              "#46039f"
             ],
             [
              0.2222222222222222,
              "#7201a8"
             ],
             [
              0.3333333333333333,
              "#9c179e"
             ],
             [
              0.4444444444444444,
              "#bd3786"
             ],
             [
              0.5555555555555556,
              "#d8576b"
             ],
             [
              0.6666666666666666,
              "#ed7953"
             ],
             [
              0.7777777777777778,
              "#fb9f3a"
             ],
             [
              0.8888888888888888,
              "#fdca26"
             ],
             [
              1,
              "#f0f921"
             ]
            ],
            "type": "contour"
           }
          ],
          "contourcarpet": [
           {
            "colorbar": {
             "outlinewidth": 0,
             "ticks": ""
            },
            "type": "contourcarpet"
           }
          ],
          "heatmap": [
           {
            "colorbar": {
             "outlinewidth": 0,
             "ticks": ""
            },
            "colorscale": [
             [
              0,
              "#0d0887"
             ],
             [
              0.1111111111111111,
              "#46039f"
             ],
             [
              0.2222222222222222,
              "#7201a8"
             ],
             [
              0.3333333333333333,
              "#9c179e"
             ],
             [
              0.4444444444444444,
              "#bd3786"
             ],
             [
              0.5555555555555556,
              "#d8576b"
             ],
             [
              0.6666666666666666,
              "#ed7953"
             ],
             [
              0.7777777777777778,
              "#fb9f3a"
             ],
             [
              0.8888888888888888,
              "#fdca26"
             ],
             [
              1,
              "#f0f921"
             ]
            ],
            "type": "heatmap"
           }
          ],
          "heatmapgl": [
           {
            "colorbar": {
             "outlinewidth": 0,
             "ticks": ""
            },
            "colorscale": [
             [
              0,
              "#0d0887"
             ],
             [
              0.1111111111111111,
              "#46039f"
             ],
             [
              0.2222222222222222,
              "#7201a8"
             ],
             [
              0.3333333333333333,
              "#9c179e"
             ],
             [
              0.4444444444444444,
              "#bd3786"
             ],
             [
              0.5555555555555556,
              "#d8576b"
             ],
             [
              0.6666666666666666,
              "#ed7953"
             ],
             [
              0.7777777777777778,
              "#fb9f3a"
             ],
             [
              0.8888888888888888,
              "#fdca26"
             ],
             [
              1,
              "#f0f921"
             ]
            ],
            "type": "heatmapgl"
           }
          ],
          "histogram": [
           {
            "marker": {
             "colorbar": {
              "outlinewidth": 0,
              "ticks": ""
             }
            },
            "type": "histogram"
           }
          ],
          "histogram2d": [
           {
            "colorbar": {
             "outlinewidth": 0,
             "ticks": ""
            },
            "colorscale": [
             [
              0,
              "#0d0887"
             ],
             [
              0.1111111111111111,
              "#46039f"
             ],
             [
              0.2222222222222222,
              "#7201a8"
             ],
             [
              0.3333333333333333,
              "#9c179e"
             ],
             [
              0.4444444444444444,
              "#bd3786"
             ],
             [
              0.5555555555555556,
              "#d8576b"
             ],
             [
              0.6666666666666666,
              "#ed7953"
             ],
             [
              0.7777777777777778,
              "#fb9f3a"
             ],
             [
              0.8888888888888888,
              "#fdca26"
             ],
             [
              1,
              "#f0f921"
             ]
            ],
            "type": "histogram2d"
           }
          ],
          "histogram2dcontour": [
           {
            "colorbar": {
             "outlinewidth": 0,
             "ticks": ""
            },
            "colorscale": [
             [
              0,
              "#0d0887"
             ],
             [
              0.1111111111111111,
              "#46039f"
             ],
             [
              0.2222222222222222,
              "#7201a8"
             ],
             [
              0.3333333333333333,
              "#9c179e"
             ],
             [
              0.4444444444444444,
              "#bd3786"
             ],
             [
              0.5555555555555556,
              "#d8576b"
             ],
             [
              0.6666666666666666,
              "#ed7953"
             ],
             [
              0.7777777777777778,
              "#fb9f3a"
             ],
             [
              0.8888888888888888,
              "#fdca26"
             ],
             [
              1,
              "#f0f921"
             ]
            ],
            "type": "histogram2dcontour"
           }
          ],
          "mesh3d": [
           {
            "colorbar": {
             "outlinewidth": 0,
             "ticks": ""
            },
            "type": "mesh3d"
           }
          ],
          "parcoords": [
           {
            "line": {
             "colorbar": {
              "outlinewidth": 0,
              "ticks": ""
             }
            },
            "type": "parcoords"
           }
          ],
          "pie": [
           {
            "automargin": true,
            "type": "pie"
           }
          ],
          "scatter": [
           {
            "marker": {
             "colorbar": {
              "outlinewidth": 0,
              "ticks": ""
             }
            },
            "type": "scatter"
           }
          ],
          "scatter3d": [
           {
            "line": {
             "colorbar": {
              "outlinewidth": 0,
              "ticks": ""
             }
            },
            "marker": {
             "colorbar": {
              "outlinewidth": 0,
              "ticks": ""
             }
            },
            "type": "scatter3d"
           }
          ],
          "scattercarpet": [
           {
            "marker": {
             "colorbar": {
              "outlinewidth": 0,
              "ticks": ""
             }
            },
            "type": "scattercarpet"
           }
          ],
          "scattergeo": [
           {
            "marker": {
             "colorbar": {
              "outlinewidth": 0,
              "ticks": ""
             }
            },
            "type": "scattergeo"
           }
          ],
          "scattergl": [
           {
            "marker": {
             "colorbar": {
              "outlinewidth": 0,
              "ticks": ""
             }
            },
            "type": "scattergl"
           }
          ],
          "scattermapbox": [
           {
            "marker": {
             "colorbar": {
              "outlinewidth": 0,
              "ticks": ""
             }
            },
            "type": "scattermapbox"
           }
          ],
          "scatterpolar": [
           {
            "marker": {
             "colorbar": {
              "outlinewidth": 0,
              "ticks": ""
             }
            },
            "type": "scatterpolar"
           }
          ],
          "scatterpolargl": [
           {
            "marker": {
             "colorbar": {
              "outlinewidth": 0,
              "ticks": ""
             }
            },
            "type": "scatterpolargl"
           }
          ],
          "scatterternary": [
           {
            "marker": {
             "colorbar": {
              "outlinewidth": 0,
              "ticks": ""
             }
            },
            "type": "scatterternary"
           }
          ],
          "surface": [
           {
            "colorbar": {
             "outlinewidth": 0,
             "ticks": ""
            },
            "colorscale": [
             [
              0,
              "#0d0887"
             ],
             [
              0.1111111111111111,
              "#46039f"
             ],
             [
              0.2222222222222222,
              "#7201a8"
             ],
             [
              0.3333333333333333,
              "#9c179e"
             ],
             [
              0.4444444444444444,
              "#bd3786"
             ],
             [
              0.5555555555555556,
              "#d8576b"
             ],
             [
              0.6666666666666666,
              "#ed7953"
             ],
             [
              0.7777777777777778,
              "#fb9f3a"
             ],
             [
              0.8888888888888888,
              "#fdca26"
             ],
             [
              1,
              "#f0f921"
             ]
            ],
            "type": "surface"
           }
          ],
          "table": [
           {
            "cells": {
             "fill": {
              "color": "#EBF0F8"
             },
             "line": {
              "color": "white"
             }
            },
            "header": {
             "fill": {
              "color": "#C8D4E3"
             },
             "line": {
              "color": "white"
             }
            },
            "type": "table"
           }
          ]
         },
         "layout": {
          "annotationdefaults": {
           "arrowcolor": "#2a3f5f",
           "arrowhead": 0,
           "arrowwidth": 1
          },
          "coloraxis": {
           "colorbar": {
            "outlinewidth": 0,
            "ticks": ""
           }
          },
          "colorscale": {
           "diverging": [
            [
             0,
             "#8e0152"
            ],
            [
             0.1,
             "#c51b7d"
            ],
            [
             0.2,
             "#de77ae"
            ],
            [
             0.3,
             "#f1b6da"
            ],
            [
             0.4,
             "#fde0ef"
            ],
            [
             0.5,
             "#f7f7f7"
            ],
            [
             0.6,
             "#e6f5d0"
            ],
            [
             0.7,
             "#b8e186"
            ],
            [
             0.8,
             "#7fbc41"
            ],
            [
             0.9,
             "#4d9221"
            ],
            [
             1,
             "#276419"
            ]
           ],
           "sequential": [
            [
             0,
             "#0d0887"
            ],
            [
             0.1111111111111111,
             "#46039f"
            ],
            [
             0.2222222222222222,
             "#7201a8"
            ],
            [
             0.3333333333333333,
             "#9c179e"
            ],
            [
             0.4444444444444444,
             "#bd3786"
            ],
            [
             0.5555555555555556,
             "#d8576b"
            ],
            [
             0.6666666666666666,
             "#ed7953"
            ],
            [
             0.7777777777777778,
             "#fb9f3a"
            ],
            [
             0.8888888888888888,
             "#fdca26"
            ],
            [
             1,
             "#f0f921"
            ]
           ],
           "sequentialminus": [
            [
             0,
             "#0d0887"
            ],
            [
             0.1111111111111111,
             "#46039f"
            ],
            [
             0.2222222222222222,
             "#7201a8"
            ],
            [
             0.3333333333333333,
             "#9c179e"
            ],
            [
             0.4444444444444444,
             "#bd3786"
            ],
            [
             0.5555555555555556,
             "#d8576b"
            ],
            [
             0.6666666666666666,
             "#ed7953"
            ],
            [
             0.7777777777777778,
             "#fb9f3a"
            ],
            [
             0.8888888888888888,
             "#fdca26"
            ],
            [
             1,
             "#f0f921"
            ]
           ]
          },
          "colorway": [
           "#636efa",
           "#EF553B",
           "#00cc96",
           "#ab63fa",
           "#FFA15A",
           "#19d3f3",
           "#FF6692",
           "#B6E880",
           "#FF97FF",
           "#FECB52"
          ],
          "font": {
           "color": "#2a3f5f"
          },
          "geo": {
           "bgcolor": "white",
           "lakecolor": "white",
           "landcolor": "#E5ECF6",
           "showlakes": true,
           "showland": true,
           "subunitcolor": "white"
          },
          "hoverlabel": {
           "align": "left"
          },
          "hovermode": "closest",
          "mapbox": {
           "style": "light"
          },
          "paper_bgcolor": "white",
          "plot_bgcolor": "#E5ECF6",
          "polar": {
           "angularaxis": {
            "gridcolor": "white",
            "linecolor": "white",
            "ticks": ""
           },
           "bgcolor": "#E5ECF6",
           "radialaxis": {
            "gridcolor": "white",
            "linecolor": "white",
            "ticks": ""
           }
          },
          "scene": {
           "xaxis": {
            "backgroundcolor": "#E5ECF6",
            "gridcolor": "white",
            "gridwidth": 2,
            "linecolor": "white",
            "showbackground": true,
            "ticks": "",
            "zerolinecolor": "white"
           },
           "yaxis": {
            "backgroundcolor": "#E5ECF6",
            "gridcolor": "white",
            "gridwidth": 2,
            "linecolor": "white",
            "showbackground": true,
            "ticks": "",
            "zerolinecolor": "white"
           },
           "zaxis": {
            "backgroundcolor": "#E5ECF6",
            "gridcolor": "white",
            "gridwidth": 2,
            "linecolor": "white",
            "showbackground": true,
            "ticks": "",
            "zerolinecolor": "white"
           }
          },
          "shapedefaults": {
           "line": {
            "color": "#2a3f5f"
           }
          },
          "ternary": {
           "aaxis": {
            "gridcolor": "white",
            "linecolor": "white",
            "ticks": ""
           },
           "baxis": {
            "gridcolor": "white",
            "linecolor": "white",
            "ticks": ""
           },
           "bgcolor": "#E5ECF6",
           "caxis": {
            "gridcolor": "white",
            "linecolor": "white",
            "ticks": ""
           }
          },
          "title": {
           "x": 0.05
          },
          "xaxis": {
           "automargin": true,
           "gridcolor": "white",
           "linecolor": "white",
           "ticks": "",
           "title": {
            "standoff": 15
           },
           "zerolinecolor": "white",
           "zerolinewidth": 2
          },
          "yaxis": {
           "automargin": true,
           "gridcolor": "white",
           "linecolor": "white",
           "ticks": "",
           "title": {
            "standoff": 15
           },
           "zerolinecolor": "white",
           "zerolinewidth": 2
          }
         }
        },
        "width": 700
       },
       "_model_module_version": "^4.8.0",
       "_py2js_animate": {},
       "_py2js_deleteTraces": {},
       "_py2js_moveTraces": {},
       "_py2js_removeLayoutProps": {},
       "_py2js_removeTraceProps": {},
       "_py2js_restyle": {},
       "_view_count": 0,
       "_view_module_version": "^4.8.0"
      }
     },
     "4e8e411e4194480e8b6dbe5b0fae315d": {
      "buffers": [
       {
        "data": "AACAPwAAAEAAAEBAAACAQAAAwH8=",
        "encoding": "base64",
        "path": [
         "_data",
         0,
         "y",
         "value"
        ]
       },
       {
        "data": "AADAfwAAgEAAAEBAAAAAQAAAgD8=",
        "encoding": "base64",
        "path": [
         "_data",
         1,
         "y",
         "value"
        ]
       },
       {
        "data": "AACAPwAAAEAAAMB/AAAAQAAAgD8=",
        "encoding": "base64",
        "path": [
         "_data",
         2,
         "y",
         "value"
        ]
       }
      ],
      "model_module": "plotlywidget",
      "model_module_version": "^4.8.0",
      "model_name": "FigureModel",
      "state": {
       "_config": {
        "plotlyServerURL": "https://plot.ly"
       },
       "_data": [
        {
         "mode": "lines",
         "name": "a",
         "showlegend": true,
         "type": "scatter",
         "uid": "60356bc8-38dd-437f-b2ab-879107512cc3",
         "x": [
          "2018-01-01T00:00:00.000000",
          "2018-01-02T00:00:00.000000",
          "2018-01-03T00:00:00.000000",
          "2018-01-04T00:00:00.000000",
          "2018-01-05T00:00:00.000000"
         ],
         "y": {
          "dtype": "float32",
          "shape": [
           5
          ]
         }
        },
        {
         "mode": "lines",
         "name": "b",
         "showlegend": true,
         "type": "scatter",
         "uid": "01d8df5e-79b6-40b8-b29c-ad63acea2248",
         "x": [
          "2018-01-01T00:00:00.000000",
          "2018-01-02T00:00:00.000000",
          "2018-01-03T00:00:00.000000",
          "2018-01-04T00:00:00.000000",
          "2018-01-05T00:00:00.000000"
         ],
         "y": {
          "dtype": "float32",
          "shape": [
           5
          ]
         }
        },
        {
         "mode": "lines",
         "name": "c",
         "showlegend": true,
         "type": "scatter",
         "uid": "f71e0257-04f3-4466-bae1-3c4a913fb770",
         "x": [
          "2018-01-01T00:00:00.000000",
          "2018-01-02T00:00:00.000000",
          "2018-01-03T00:00:00.000000",
          "2018-01-04T00:00:00.000000",
          "2018-01-05T00:00:00.000000"
         ],
         "y": {
          "dtype": "float32",
          "shape": [
           5
          ]
         }
        }
       ],
       "_js2py_layoutDelta": {},
       "_js2py_pointsCallback": {},
       "_js2py_relayout": {},
       "_js2py_restyle": {},
       "_js2py_traceDeltas": {},
       "_js2py_update": {},
       "_last_layout_edit_id": 4,
       "_last_trace_edit_id": 4,
       "_layout": {
        "autosize": false,
        "colorway": [
         "#1f77b4",
         "#ff7f0e",
         "#2ca02c",
         "#dc3912",
         "#9467bd",
         "#8c564b",
         "#e377c2",
         "#7f7f7f",
         "#bcbd22",
         "#17becf"
        ],
        "height": 300,
        "hovermode": "closest",
        "margin": {
         "b": 30,
         "t": 30
        },
        "template": {
         "data": {
          "bar": [
           {
            "error_x": {
             "color": "#2a3f5f"
            },
            "error_y": {
             "color": "#2a3f5f"
            },
            "marker": {
             "line": {
              "color": "#E5ECF6",
              "width": 0.5
             }
            },
            "type": "bar"
           }
          ],
          "barpolar": [
           {
            "marker": {
             "line": {
              "color": "#E5ECF6",
              "width": 0.5
             }
            },
            "type": "barpolar"
           }
          ],
          "carpet": [
           {
            "aaxis": {
             "endlinecolor": "#2a3f5f",
             "gridcolor": "white",
             "linecolor": "white",
             "minorgridcolor": "white",
             "startlinecolor": "#2a3f5f"
            },
            "baxis": {
             "endlinecolor": "#2a3f5f",
             "gridcolor": "white",
             "linecolor": "white",
             "minorgridcolor": "white",
             "startlinecolor": "#2a3f5f"
            },
            "type": "carpet"
           }
          ],
          "choropleth": [
           {
            "colorbar": {
             "outlinewidth": 0,
             "ticks": ""
            },
            "type": "choropleth"
           }
          ],
          "contour": [
           {
            "colorbar": {
             "outlinewidth": 0,
             "ticks": ""
            },
            "colorscale": [
             [
              0,
              "#0d0887"
             ],
             [
              0.1111111111111111,
              "#46039f"
             ],
             [
              0.2222222222222222,
              "#7201a8"
             ],
             [
              0.3333333333333333,
              "#9c179e"
             ],
             [
              0.4444444444444444,
              "#bd3786"
             ],
             [
              0.5555555555555556,
              "#d8576b"
             ],
             [
              0.6666666666666666,
              "#ed7953"
             ],
             [
              0.7777777777777778,
              "#fb9f3a"
             ],
             [
              0.8888888888888888,
              "#fdca26"
             ],
             [
              1,
              "#f0f921"
             ]
            ],
            "type": "contour"
           }
          ],
          "contourcarpet": [
           {
            "colorbar": {
             "outlinewidth": 0,
             "ticks": ""
            },
            "type": "contourcarpet"
           }
          ],
          "heatmap": [
           {
            "colorbar": {
             "outlinewidth": 0,
             "ticks": ""
            },
            "colorscale": [
             [
              0,
              "#0d0887"
             ],
             [
              0.1111111111111111,
              "#46039f"
             ],
             [
              0.2222222222222222,
              "#7201a8"
             ],
             [
              0.3333333333333333,
              "#9c179e"
             ],
             [
              0.4444444444444444,
              "#bd3786"
             ],
             [
              0.5555555555555556,
              "#d8576b"
             ],
             [
              0.6666666666666666,
              "#ed7953"
             ],
             [
              0.7777777777777778,
              "#fb9f3a"
             ],
             [
              0.8888888888888888,
              "#fdca26"
             ],
             [
              1,
              "#f0f921"
             ]
            ],
            "type": "heatmap"
           }
          ],
          "heatmapgl": [
           {
            "colorbar": {
             "outlinewidth": 0,
             "ticks": ""
            },
            "colorscale": [
             [
              0,
              "#0d0887"
             ],
             [
              0.1111111111111111,
              "#46039f"
             ],
             [
              0.2222222222222222,
              "#7201a8"
             ],
             [
              0.3333333333333333,
              "#9c179e"
             ],
             [
              0.4444444444444444,
              "#bd3786"
             ],
             [
              0.5555555555555556,
              "#d8576b"
             ],
             [
              0.6666666666666666,
              "#ed7953"
             ],
             [
              0.7777777777777778,
              "#fb9f3a"
             ],
             [
              0.8888888888888888,
              "#fdca26"
             ],
             [
              1,
              "#f0f921"
             ]
            ],
            "type": "heatmapgl"
           }
          ],
          "histogram": [
           {
            "marker": {
             "colorbar": {
              "outlinewidth": 0,
              "ticks": ""
             }
            },
            "type": "histogram"
           }
          ],
          "histogram2d": [
           {
            "colorbar": {
             "outlinewidth": 0,
             "ticks": ""
            },
            "colorscale": [
             [
              0,
              "#0d0887"
             ],
             [
              0.1111111111111111,
              "#46039f"
             ],
             [
              0.2222222222222222,
              "#7201a8"
             ],
             [
              0.3333333333333333,
              "#9c179e"
             ],
             [
              0.4444444444444444,
              "#bd3786"
             ],
             [
              0.5555555555555556,
              "#d8576b"
             ],
             [
              0.6666666666666666,
              "#ed7953"
             ],
             [
              0.7777777777777778,
              "#fb9f3a"
             ],
             [
              0.8888888888888888,
              "#fdca26"
             ],
             [
              1,
              "#f0f921"
             ]
            ],
            "type": "histogram2d"
           }
          ],
          "histogram2dcontour": [
           {
            "colorbar": {
             "outlinewidth": 0,
             "ticks": ""
            },
            "colorscale": [
             [
              0,
              "#0d0887"
             ],
             [
              0.1111111111111111,
              "#46039f"
             ],
             [
              0.2222222222222222,
              "#7201a8"
             ],
             [
              0.3333333333333333,
              "#9c179e"
             ],
             [
              0.4444444444444444,
              "#bd3786"
             ],
             [
              0.5555555555555556,
              "#d8576b"
             ],
             [
              0.6666666666666666,
              "#ed7953"
             ],
             [
              0.7777777777777778,
              "#fb9f3a"
             ],
             [
              0.8888888888888888,
              "#fdca26"
             ],
             [
              1,
              "#f0f921"
             ]
            ],
            "type": "histogram2dcontour"
           }
          ],
          "mesh3d": [
           {
            "colorbar": {
             "outlinewidth": 0,
             "ticks": ""
            },
            "type": "mesh3d"
           }
          ],
          "parcoords": [
           {
            "line": {
             "colorbar": {
              "outlinewidth": 0,
              "ticks": ""
             }
            },
            "type": "parcoords"
           }
          ],
          "pie": [
           {
            "automargin": true,
            "type": "pie"
           }
          ],
          "scatter": [
           {
            "marker": {
             "colorbar": {
              "outlinewidth": 0,
              "ticks": ""
             }
            },
            "type": "scatter"
           }
          ],
          "scatter3d": [
           {
            "line": {
             "colorbar": {
              "outlinewidth": 0,
              "ticks": ""
             }
            },
            "marker": {
             "colorbar": {
              "outlinewidth": 0,
              "ticks": ""
             }
            },
            "type": "scatter3d"
           }
          ],
          "scattercarpet": [
           {
            "marker": {
             "colorbar": {
              "outlinewidth": 0,
              "ticks": ""
             }
            },
            "type": "scattercarpet"
           }
          ],
          "scattergeo": [
           {
            "marker": {
             "colorbar": {
              "outlinewidth": 0,
              "ticks": ""
             }
            },
            "type": "scattergeo"
           }
          ],
          "scattergl": [
           {
            "marker": {
             "colorbar": {
              "outlinewidth": 0,
              "ticks": ""
             }
            },
            "type": "scattergl"
           }
          ],
          "scattermapbox": [
           {
            "marker": {
             "colorbar": {
              "outlinewidth": 0,
              "ticks": ""
             }
            },
            "type": "scattermapbox"
           }
          ],
          "scatterpolar": [
           {
            "marker": {
             "colorbar": {
              "outlinewidth": 0,
              "ticks": ""
             }
            },
            "type": "scatterpolar"
           }
          ],
          "scatterpolargl": [
           {
            "marker": {
             "colorbar": {
              "outlinewidth": 0,
              "ticks": ""
             }
            },
            "type": "scatterpolargl"
           }
          ],
          "scatterternary": [
           {
            "marker": {
             "colorbar": {
              "outlinewidth": 0,
              "ticks": ""
             }
            },
            "type": "scatterternary"
           }
          ],
          "surface": [
           {
            "colorbar": {
             "outlinewidth": 0,
             "ticks": ""
            },
            "colorscale": [
             [
              0,
              "#0d0887"
             ],
             [
              0.1111111111111111,
              "#46039f"
             ],
             [
              0.2222222222222222,
              "#7201a8"
             ],
             [
              0.3333333333333333,
              "#9c179e"
             ],
             [
              0.4444444444444444,
              "#bd3786"
             ],
             [
              0.5555555555555556,
              "#d8576b"
             ],
             [
              0.6666666666666666,
              "#ed7953"
             ],
             [
              0.7777777777777778,
              "#fb9f3a"
             ],
             [
              0.8888888888888888,
              "#fdca26"
             ],
             [
              1,
              "#f0f921"
             ]
            ],
            "type": "surface"
           }
          ],
          "table": [
           {
            "cells": {
             "fill": {
              "color": "#EBF0F8"
             },
             "line": {
              "color": "white"
             }
            },
            "header": {
             "fill": {
              "color": "#C8D4E3"
             },
             "line": {
              "color": "white"
             }
            },
            "type": "table"
           }
          ]
         },
         "layout": {
          "annotationdefaults": {
           "arrowcolor": "#2a3f5f",
           "arrowhead": 0,
           "arrowwidth": 1
          },
          "coloraxis": {
           "colorbar": {
            "outlinewidth": 0,
            "ticks": ""
           }
          },
          "colorscale": {
           "diverging": [
            [
             0,
             "#8e0152"
            ],
            [
             0.1,
             "#c51b7d"
            ],
            [
             0.2,
             "#de77ae"
            ],
            [
             0.3,
             "#f1b6da"
            ],
            [
             0.4,
             "#fde0ef"
            ],
            [
             0.5,
             "#f7f7f7"
            ],
            [
             0.6,
             "#e6f5d0"
            ],
            [
             0.7,
             "#b8e186"
            ],
            [
             0.8,
             "#7fbc41"
            ],
            [
             0.9,
             "#4d9221"
            ],
            [
             1,
             "#276419"
            ]
           ],
           "sequential": [
            [
             0,
             "#0d0887"
            ],
            [
             0.1111111111111111,
             "#46039f"
            ],
            [
             0.2222222222222222,
             "#7201a8"
            ],
            [
             0.3333333333333333,
             "#9c179e"
            ],
            [
             0.4444444444444444,
             "#bd3786"
            ],
            [
             0.5555555555555556,
             "#d8576b"
            ],
            [
             0.6666666666666666,
             "#ed7953"
            ],
            [
             0.7777777777777778,
             "#fb9f3a"
            ],
            [
             0.8888888888888888,
             "#fdca26"
            ],
            [
             1,
             "#f0f921"
            ]
           ],
           "sequentialminus": [
            [
             0,
             "#0d0887"
            ],
            [
             0.1111111111111111,
             "#46039f"
            ],
            [
             0.2222222222222222,
             "#7201a8"
            ],
            [
             0.3333333333333333,
             "#9c179e"
            ],
            [
             0.4444444444444444,
             "#bd3786"
            ],
            [
             0.5555555555555556,
             "#d8576b"
            ],
            [
             0.6666666666666666,
             "#ed7953"
            ],
            [
             0.7777777777777778,
             "#fb9f3a"
            ],
            [
             0.8888888888888888,
             "#fdca26"
            ],
            [
             1,
             "#f0f921"
            ]
           ]
          },
          "colorway": [
           "#636efa",
           "#EF553B",
           "#00cc96",
           "#ab63fa",
           "#FFA15A",
           "#19d3f3",
           "#FF6692",
           "#B6E880",
           "#FF97FF",
           "#FECB52"
          ],
          "font": {
           "color": "#2a3f5f"
          },
          "geo": {
           "bgcolor": "white",
           "lakecolor": "white",
           "landcolor": "#E5ECF6",
           "showlakes": true,
           "showland": true,
           "subunitcolor": "white"
          },
          "hoverlabel": {
           "align": "left"
          },
          "hovermode": "closest",
          "mapbox": {
           "style": "light"
          },
          "paper_bgcolor": "white",
          "plot_bgcolor": "#E5ECF6",
          "polar": {
           "angularaxis": {
            "gridcolor": "white",
            "linecolor": "white",
            "ticks": ""
           },
           "bgcolor": "#E5ECF6",
           "radialaxis": {
            "gridcolor": "white",
            "linecolor": "white",
            "ticks": ""
           }
          },
          "scene": {
           "xaxis": {
            "backgroundcolor": "#E5ECF6",
            "gridcolor": "white",
            "gridwidth": 2,
            "linecolor": "white",
            "showbackground": true,
            "ticks": "",
            "zerolinecolor": "white"
           },
           "yaxis": {
            "backgroundcolor": "#E5ECF6",
            "gridcolor": "white",
            "gridwidth": 2,
            "linecolor": "white",
            "showbackground": true,
            "ticks": "",
            "zerolinecolor": "white"
           },
           "zaxis": {
            "backgroundcolor": "#E5ECF6",
            "gridcolor": "white",
            "gridwidth": 2,
            "linecolor": "white",
            "showbackground": true,
            "ticks": "",
            "zerolinecolor": "white"
           }
          },
          "shapedefaults": {
           "line": {
            "color": "#2a3f5f"
           }
          },
          "ternary": {
           "aaxis": {
            "gridcolor": "white",
            "linecolor": "white",
            "ticks": ""
           },
           "baxis": {
            "gridcolor": "white",
            "linecolor": "white",
            "ticks": ""
           },
           "bgcolor": "#E5ECF6",
           "caxis": {
            "gridcolor": "white",
            "linecolor": "white",
            "ticks": ""
           }
          },
          "title": {
           "x": 0.05
          },
          "xaxis": {
           "automargin": true,
           "gridcolor": "white",
           "linecolor": "white",
           "ticks": "",
           "title": {
            "standoff": 15
           },
           "zerolinecolor": "white",
           "zerolinewidth": 2
          },
          "yaxis": {
           "automargin": true,
           "gridcolor": "white",
           "linecolor": "white",
           "ticks": "",
           "title": {
            "standoff": 15
           },
           "zerolinecolor": "white",
           "zerolinewidth": 2
          }
         }
        },
        "width": 700
       },
       "_model_module_version": "^4.8.0",
       "_py2js_animate": {},
       "_py2js_deleteTraces": {},
       "_py2js_moveTraces": {},
       "_py2js_removeLayoutProps": {},
       "_py2js_removeTraceProps": {},
       "_py2js_restyle": {},
       "_view_count": 0,
       "_view_module_version": "^4.8.0"
      }
     },
     "a459b8929f214753b700da07ee5849af": {
      "buffers": [
       {
        "data": "uCztEpFvob/S2M/KFZLnv5kUDKqd/vG/VOQYbmpU4r+r/xNyLNcCwMGOWYnlzPq/0BrQliNL8b++/AfmQdIBwBfPHgHAxPe/sun7WAgnAcA=",
        "encoding": "base64",
        "path": [
         "_data",
         0,
         "close",
         "value"
        ]
       },
       {
        "data": "jWwLtIdd1L84lxU5sv+qv8hFzBN8DsI/JYpJkQ294b8+D1H5Gzf0vzBOaFUShQHApJ5zvjdR+7/cUmbITRAEwPP15zXWJ/O/Y7lT2vj4/b8=",
        "encoding": "base64",
        "path": [
         "_data",
         0,
         "high",
         "value"
        ]
       },
       {
        "data": "nBODaeQ07L8yN9AOribqv9CSdLFAwvK/OA7KiRIw8b/Kvyt2aRAEwHp9RGTecATAMkqY0gvhAsDRrIZhJDwGwDCqQqzLSgnAsAWLALvdBMA=",
        "encoding": "base64",
        "path": [
         "_data",
         0,
         "low",
         "value"
        ]
       },
       {
        "data": "J0Vr50aq3r/BSSoQrOjTv/SMZDvFPuG/xyBBp/Yp8L/oC/3xBUb7v+x2kbbFcwPA1lqXT6FR/78vBLsSM0MFwKzkDEosbAHANrXyJRE+A8A=",
        "encoding": "base64",
        "path": [
         "_data",
         0,
         "open",
         "value"
        ]
       },
       {
        "data": "YMJGEZduyb90Abk5kQ3pP2yarzca/Ns/yPFOJvEP1j8woNaiQynMv7AoZhD0NOU/X2n30vG48T+Mk2s5/rL3P484JGgnfvM/6yNhs1E79z8=",
        "encoding": "base64",
        "path": [
         "_data",
         1,
         "y",
         "value"
        ]
       }
      ],
      "model_module": "plotlywidget",
      "model_module_version": "^4.8.0",
      "model_name": "FigureModel",
      "state": {
       "_config": {
        "plotlyServerURL": "https://plot.ly"
       },
       "_data": [
        {
         "close": {
          "dtype": "float64",
          "shape": [
           10
          ]
         },
         "high": {
          "dtype": "float64",
          "shape": [
           10
          ]
         },
         "low": {
          "dtype": "float64",
          "shape": [
           10
          ]
         },
         "name": "OHLC",
         "open": {
          "dtype": "float64",
          "shape": [
           10
          ]
         },
         "type": "candlestick",
         "uid": "67d90be9-5a8a-44ed-82ba-122ef88bfc45",
         "x": [
          "2018-01-01T00:00:00.000000",
          "2018-01-02T00:00:00.000000",
          "2018-01-03T00:00:00.000000",
          "2018-01-04T00:00:00.000000",
          "2018-01-05T00:00:00.000000",
          "2018-01-06T00:00:00.000000",
          "2018-01-07T00:00:00.000000",
          "2018-01-08T00:00:00.000000",
          "2018-01-09T00:00:00.000000",
          "2018-01-10T00:00:00.000000"
         ],
         "xaxis": "x",
         "yaxis": "y2"
        },
        {
         "marker": {
          "color": [
           "green",
           "red",
           "red",
           "green",
           "red",
           "green",
           "green",
           "green",
           "green",
           "green"
          ],
          "line": {
           "width": 0
          }
         },
         "name": "Volume",
         "type": "bar",
         "uid": "957d9041-3afe-4c50-ab98-7ba7f27c9e09",
         "x": [
          "2018-01-01T00:00:00.000000",
          "2018-01-02T00:00:00.000000",
          "2018-01-03T00:00:00.000000",
          "2018-01-04T00:00:00.000000",
          "2018-01-05T00:00:00.000000",
          "2018-01-06T00:00:00.000000",
          "2018-01-07T00:00:00.000000",
          "2018-01-08T00:00:00.000000",
          "2018-01-09T00:00:00.000000",
          "2018-01-10T00:00:00.000000"
         ],
         "xaxis": "x",
         "y": {
          "dtype": "float64",
          "shape": [
           10
          ]
         },
         "yaxis": "y"
        }
       ],
       "_js2py_layoutDelta": {},
       "_js2py_pointsCallback": {},
       "_js2py_relayout": {},
       "_js2py_restyle": {},
       "_js2py_traceDeltas": {},
       "_js2py_update": {},
       "_last_layout_edit_id": 5,
       "_last_trace_edit_id": 5,
       "_layout": {
        "autosize": false,
        "colorway": [
         "#1f77b4",
         "#ff7f0e",
         "#2ca02c",
         "#dc3912",
         "#9467bd",
         "#8c564b",
         "#e377c2",
         "#7f7f7f",
         "#bcbd22",
         "#17becf"
        ],
        "height": 300,
        "hovermode": "closest",
        "margin": {
         "b": 30,
         "t": 30
        },
        "showlegend": true,
        "template": {
         "data": {
          "bar": [
           {
            "error_x": {
             "color": "#2a3f5f"
            },
            "error_y": {
             "color": "#2a3f5f"
            },
            "marker": {
             "line": {
              "color": "#E5ECF6",
              "width": 0.5
             }
            },
            "type": "bar"
           }
          ],
          "barpolar": [
           {
            "marker": {
             "line": {
              "color": "#E5ECF6",
              "width": 0.5
             }
            },
            "type": "barpolar"
           }
          ],
          "carpet": [
           {
            "aaxis": {
             "endlinecolor": "#2a3f5f",
             "gridcolor": "white",
             "linecolor": "white",
             "minorgridcolor": "white",
             "startlinecolor": "#2a3f5f"
            },
            "baxis": {
             "endlinecolor": "#2a3f5f",
             "gridcolor": "white",
             "linecolor": "white",
             "minorgridcolor": "white",
             "startlinecolor": "#2a3f5f"
            },
            "type": "carpet"
           }
          ],
          "choropleth": [
           {
            "colorbar": {
             "outlinewidth": 0,
             "ticks": ""
            },
            "type": "choropleth"
           }
          ],
          "contour": [
           {
            "colorbar": {
             "outlinewidth": 0,
             "ticks": ""
            },
            "colorscale": [
             [
              0,
              "#0d0887"
             ],
             [
              0.1111111111111111,
              "#46039f"
             ],
             [
              0.2222222222222222,
              "#7201a8"
             ],
             [
              0.3333333333333333,
              "#9c179e"
             ],
             [
              0.4444444444444444,
              "#bd3786"
             ],
             [
              0.5555555555555556,
              "#d8576b"
             ],
             [
              0.6666666666666666,
              "#ed7953"
             ],
             [
              0.7777777777777778,
              "#fb9f3a"
             ],
             [
              0.8888888888888888,
              "#fdca26"
             ],
             [
              1,
              "#f0f921"
             ]
            ],
            "type": "contour"
           }
          ],
          "contourcarpet": [
           {
            "colorbar": {
             "outlinewidth": 0,
             "ticks": ""
            },
            "type": "contourcarpet"
           }
          ],
          "heatmap": [
           {
            "colorbar": {
             "outlinewidth": 0,
             "ticks": ""
            },
            "colorscale": [
             [
              0,
              "#0d0887"
             ],
             [
              0.1111111111111111,
              "#46039f"
             ],
             [
              0.2222222222222222,
              "#7201a8"
             ],
             [
              0.3333333333333333,
              "#9c179e"
             ],
             [
              0.4444444444444444,
              "#bd3786"
             ],
             [
              0.5555555555555556,
              "#d8576b"
             ],
             [
              0.6666666666666666,
              "#ed7953"
             ],
             [
              0.7777777777777778,
              "#fb9f3a"
             ],
             [
              0.8888888888888888,
              "#fdca26"
             ],
             [
              1,
              "#f0f921"
             ]
            ],
            "type": "heatmap"
           }
          ],
          "heatmapgl": [
           {
            "colorbar": {
             "outlinewidth": 0,
             "ticks": ""
            },
            "colorscale": [
             [
              0,
              "#0d0887"
             ],
             [
              0.1111111111111111,
              "#46039f"
             ],
             [
              0.2222222222222222,
              "#7201a8"
             ],
             [
              0.3333333333333333,
              "#9c179e"
             ],
             [
              0.4444444444444444,
              "#bd3786"
             ],
             [
              0.5555555555555556,
              "#d8576b"
             ],
             [
              0.6666666666666666,
              "#ed7953"
             ],
             [
              0.7777777777777778,
              "#fb9f3a"
             ],
             [
              0.8888888888888888,
              "#fdca26"
             ],
             [
              1,
              "#f0f921"
             ]
            ],
            "type": "heatmapgl"
           }
          ],
          "histogram": [
           {
            "marker": {
             "colorbar": {
              "outlinewidth": 0,
              "ticks": ""
             }
            },
            "type": "histogram"
           }
          ],
          "histogram2d": [
           {
            "colorbar": {
             "outlinewidth": 0,
             "ticks": ""
            },
            "colorscale": [
             [
              0,
              "#0d0887"
             ],
             [
              0.1111111111111111,
              "#46039f"
             ],
             [
              0.2222222222222222,
              "#7201a8"
             ],
             [
              0.3333333333333333,
              "#9c179e"
             ],
             [
              0.4444444444444444,
              "#bd3786"
             ],
             [
              0.5555555555555556,
              "#d8576b"
             ],
             [
              0.6666666666666666,
              "#ed7953"
             ],
             [
              0.7777777777777778,
              "#fb9f3a"
             ],
             [
              0.8888888888888888,
              "#fdca26"
             ],
             [
              1,
              "#f0f921"
             ]
            ],
            "type": "histogram2d"
           }
          ],
          "histogram2dcontour": [
           {
            "colorbar": {
             "outlinewidth": 0,
             "ticks": ""
            },
            "colorscale": [
             [
              0,
              "#0d0887"
             ],
             [
              0.1111111111111111,
              "#46039f"
             ],
             [
              0.2222222222222222,
              "#7201a8"
             ],
             [
              0.3333333333333333,
              "#9c179e"
             ],
             [
              0.4444444444444444,
              "#bd3786"
             ],
             [
              0.5555555555555556,
              "#d8576b"
             ],
             [
              0.6666666666666666,
              "#ed7953"
             ],
             [
              0.7777777777777778,
              "#fb9f3a"
             ],
             [
              0.8888888888888888,
              "#fdca26"
             ],
             [
              1,
              "#f0f921"
             ]
            ],
            "type": "histogram2dcontour"
           }
          ],
          "mesh3d": [
           {
            "colorbar": {
             "outlinewidth": 0,
             "ticks": ""
            },
            "type": "mesh3d"
           }
          ],
          "parcoords": [
           {
            "line": {
             "colorbar": {
              "outlinewidth": 0,
              "ticks": ""
             }
            },
            "type": "parcoords"
           }
          ],
          "pie": [
           {
            "automargin": true,
            "type": "pie"
           }
          ],
          "scatter": [
           {
            "marker": {
             "colorbar": {
              "outlinewidth": 0,
              "ticks": ""
             }
            },
            "type": "scatter"
           }
          ],
          "scatter3d": [
           {
            "line": {
             "colorbar": {
              "outlinewidth": 0,
              "ticks": ""
             }
            },
            "marker": {
             "colorbar": {
              "outlinewidth": 0,
              "ticks": ""
             }
            },
            "type": "scatter3d"
           }
          ],
          "scattercarpet": [
           {
            "marker": {
             "colorbar": {
              "outlinewidth": 0,
              "ticks": ""
             }
            },
            "type": "scattercarpet"
           }
          ],
          "scattergeo": [
           {
            "marker": {
             "colorbar": {
              "outlinewidth": 0,
              "ticks": ""
             }
            },
            "type": "scattergeo"
           }
          ],
          "scattergl": [
           {
            "marker": {
             "colorbar": {
              "outlinewidth": 0,
              "ticks": ""
             }
            },
            "type": "scattergl"
           }
          ],
          "scattermapbox": [
           {
            "marker": {
             "colorbar": {
              "outlinewidth": 0,
              "ticks": ""
             }
            },
            "type": "scattermapbox"
           }
          ],
          "scatterpolar": [
           {
            "marker": {
             "colorbar": {
              "outlinewidth": 0,
              "ticks": ""
             }
            },
            "type": "scatterpolar"
           }
          ],
          "scatterpolargl": [
           {
            "marker": {
             "colorbar": {
              "outlinewidth": 0,
              "ticks": ""
             }
            },
            "type": "scatterpolargl"
           }
          ],
          "scatterternary": [
           {
            "marker": {
             "colorbar": {
              "outlinewidth": 0,
              "ticks": ""
             }
            },
            "type": "scatterternary"
           }
          ],
          "surface": [
           {
            "colorbar": {
             "outlinewidth": 0,
             "ticks": ""
            },
            "colorscale": [
             [
              0,
              "#0d0887"
             ],
             [
              0.1111111111111111,
              "#46039f"
             ],
             [
              0.2222222222222222,
              "#7201a8"
             ],
             [
              0.3333333333333333,
              "#9c179e"
             ],
             [
              0.4444444444444444,
              "#bd3786"
             ],
             [
              0.5555555555555556,
              "#d8576b"
             ],
             [
              0.6666666666666666,
              "#ed7953"
             ],
             [
              0.7777777777777778,
              "#fb9f3a"
             ],
             [
              0.8888888888888888,
              "#fdca26"
             ],
             [
              1,
              "#f0f921"
             ]
            ],
            "type": "surface"
           }
          ],
          "table": [
           {
            "cells": {
             "fill": {
              "color": "#EBF0F8"
             },
             "line": {
              "color": "white"
             }
            },
            "header": {
             "fill": {
              "color": "#C8D4E3"
             },
             "line": {
              "color": "white"
             }
            },
            "type": "table"
           }
          ]
         },
         "layout": {
          "annotationdefaults": {
           "arrowcolor": "#2a3f5f",
           "arrowhead": 0,
           "arrowwidth": 1
          },
          "coloraxis": {
           "colorbar": {
            "outlinewidth": 0,
            "ticks": ""
           }
          },
          "colorscale": {
           "diverging": [
            [
             0,
             "#8e0152"
            ],
            [
             0.1,
             "#c51b7d"
            ],
            [
             0.2,
             "#de77ae"
            ],
            [
             0.3,
             "#f1b6da"
            ],
            [
             0.4,
             "#fde0ef"
            ],
            [
             0.5,
             "#f7f7f7"
            ],
            [
             0.6,
             "#e6f5d0"
            ],
            [
             0.7,
             "#b8e186"
            ],
            [
             0.8,
             "#7fbc41"
            ],
            [
             0.9,
             "#4d9221"
            ],
            [
             1,
             "#276419"
            ]
           ],
           "sequential": [
            [
             0,
             "#0d0887"
            ],
            [
             0.1111111111111111,
             "#46039f"
            ],
            [
             0.2222222222222222,
             "#7201a8"
            ],
            [
             0.3333333333333333,
             "#9c179e"
            ],
            [
             0.4444444444444444,
             "#bd3786"
            ],
            [
             0.5555555555555556,
             "#d8576b"
            ],
            [
             0.6666666666666666,
             "#ed7953"
            ],
            [
             0.7777777777777778,
             "#fb9f3a"
            ],
            [
             0.8888888888888888,
             "#fdca26"
            ],
            [
             1,
             "#f0f921"
            ]
           ],
           "sequentialminus": [
            [
             0,
             "#0d0887"
            ],
            [
             0.1111111111111111,
             "#46039f"
            ],
            [
             0.2222222222222222,
             "#7201a8"
            ],
            [
             0.3333333333333333,
             "#9c179e"
            ],
            [
             0.4444444444444444,
             "#bd3786"
            ],
            [
             0.5555555555555556,
             "#d8576b"
            ],
            [
             0.6666666666666666,
             "#ed7953"
            ],
            [
             0.7777777777777778,
             "#fb9f3a"
            ],
            [
             0.8888888888888888,
             "#fdca26"
            ],
            [
             1,
             "#f0f921"
            ]
           ]
          },
          "colorway": [
           "#636efa",
           "#EF553B",
           "#00cc96",
           "#ab63fa",
           "#FFA15A",
           "#19d3f3",
           "#FF6692",
           "#B6E880",
           "#FF97FF",
           "#FECB52"
          ],
          "font": {
           "color": "#2a3f5f"
          },
          "geo": {
           "bgcolor": "white",
           "lakecolor": "white",
           "landcolor": "#E5ECF6",
           "showlakes": true,
           "showland": true,
           "subunitcolor": "white"
          },
          "hoverlabel": {
           "align": "left"
          },
          "hovermode": "closest",
          "mapbox": {
           "style": "light"
          },
          "paper_bgcolor": "white",
          "plot_bgcolor": "#E5ECF6",
          "polar": {
           "angularaxis": {
            "gridcolor": "white",
            "linecolor": "white",
            "ticks": ""
           },
           "bgcolor": "#E5ECF6",
           "radialaxis": {
            "gridcolor": "white",
            "linecolor": "white",
            "ticks": ""
           }
          },
          "scene": {
           "xaxis": {
            "backgroundcolor": "#E5ECF6",
            "gridcolor": "white",
            "gridwidth": 2,
            "linecolor": "white",
            "showbackground": true,
            "ticks": "",
            "zerolinecolor": "white"
           },
           "yaxis": {
            "backgroundcolor": "#E5ECF6",
            "gridcolor": "white",
            "gridwidth": 2,
            "linecolor": "white",
            "showbackground": true,
            "ticks": "",
            "zerolinecolor": "white"
           },
           "zaxis": {
            "backgroundcolor": "#E5ECF6",
            "gridcolor": "white",
            "gridwidth": 2,
            "linecolor": "white",
            "showbackground": true,
            "ticks": "",
            "zerolinecolor": "white"
           }
          },
          "shapedefaults": {
           "line": {
            "color": "#2a3f5f"
           }
          },
          "ternary": {
           "aaxis": {
            "gridcolor": "white",
            "linecolor": "white",
            "ticks": ""
           },
           "baxis": {
            "gridcolor": "white",
            "linecolor": "white",
            "ticks": ""
           },
           "bgcolor": "#E5ECF6",
           "caxis": {
            "gridcolor": "white",
            "linecolor": "white",
            "ticks": ""
           }
          },
          "title": {
           "x": 0.05
          },
          "xaxis": {
           "automargin": true,
           "gridcolor": "white",
           "linecolor": "white",
           "ticks": "",
           "title": {
            "standoff": 15
           },
           "zerolinecolor": "white",
           "zerolinewidth": 2
          },
          "yaxis": {
           "automargin": true,
           "gridcolor": "white",
           "linecolor": "white",
           "ticks": "",
           "title": {
            "standoff": 15
           },
           "zerolinecolor": "white",
           "zerolinewidth": 2
          }
         }
        },
        "width": 700,
        "xaxis": {
         "rangeslider": {
          "visible": false
         },
         "showgrid": true
        },
        "yaxis": {
         "domain": [
          0,
          0.33
         ],
         "showgrid": true
        },
        "yaxis2": {
         "domain": [
          0.33,
          1
         ]
        }
       },
       "_model_module_version": "^4.8.0",
       "_py2js_animate": {},
       "_py2js_deleteTraces": {},
       "_py2js_moveTraces": {},
       "_py2js_removeLayoutProps": {},
       "_py2js_removeTraceProps": {},
       "_py2js_restyle": {},
       "_view_count": 0,
       "_view_module_version": "^4.8.0"
      }
     },
     "c66ba5be2a93432fbbac30603a552169": {
      "buffers": [
       {
        "data": "uCztEpFvob/S2M/KFZLnv5kUDKqd/vG/VOQYbmpU4r+r/xNyLNcCwMGOWYnlzPq/0BrQliNL8b++/AfmQdIBwBfPHgHAxPe/sun7WAgnAcA=",
        "encoding": "base64",
        "path": [
         "_data",
         0,
         "close",
         "value"
        ]
       },
       {
        "data": "jWwLtIdd1L84lxU5sv+qv8hFzBN8DsI/JYpJkQ294b8+D1H5Gzf0vzBOaFUShQHApJ5zvjdR+7/cUmbITRAEwPP15zXWJ/O/Y7lT2vj4/b8=",
        "encoding": "base64",
        "path": [
         "_data",
         0,
         "high",
         "value"
        ]
       },
       {
        "data": "nBODaeQ07L8yN9AOribqv9CSdLFAwvK/OA7KiRIw8b/Kvyt2aRAEwHp9RGTecATAMkqY0gvhAsDRrIZhJDwGwDCqQqzLSgnAsAWLALvdBMA=",
        "encoding": "base64",
        "path": [
         "_data",
         0,
         "low",
         "value"
        ]
       },
       {
        "data": "J0Vr50aq3r/BSSoQrOjTv/SMZDvFPuG/xyBBp/Yp8L/oC/3xBUb7v+x2kbbFcwPA1lqXT6FR/78vBLsSM0MFwKzkDEosbAHANrXyJRE+A8A=",
        "encoding": "base64",
        "path": [
         "_data",
         0,
         "open",
         "value"
        ]
       },
       {
        "data": "YMJGEZduyb90Abk5kQ3pP2yarzca/Ns/yPFOJvEP1j8woNaiQynMv7AoZhD0NOU/X2n30vG48T+Mk2s5/rL3P484JGgnfvM/6yNhs1E79z8=",
        "encoding": "base64",
        "path": [
         "_data",
         1,
         "y",
         "value"
        ]
       }
      ],
      "model_module": "plotlywidget",
      "model_module_version": "^4.8.0",
      "model_name": "FigureModel",
      "state": {
       "_config": {
        "plotlyServerURL": "https://plot.ly"
       },
       "_data": [
        {
         "close": {
          "dtype": "float64",
          "shape": [
           10
          ]
         },
         "high": {
          "dtype": "float64",
          "shape": [
           10
          ]
         },
         "low": {
          "dtype": "float64",
          "shape": [
           10
          ]
         },
         "name": "OHLC",
         "open": {
          "dtype": "float64",
          "shape": [
           10
          ]
         },
         "type": "candlestick",
         "uid": "eb9ffb6b-e14c-46d2-b059-5521c3369998",
         "x": [
          "2018-01-01T00:00:00.000000",
          "2018-01-02T00:00:00.000000",
          "2018-01-03T00:00:00.000000",
          "2018-01-04T00:00:00.000000",
          "2018-01-05T00:00:00.000000",
          "2018-01-06T00:00:00.000000",
          "2018-01-07T00:00:00.000000",
          "2018-01-08T00:00:00.000000",
          "2018-01-09T00:00:00.000000",
          "2018-01-10T00:00:00.000000"
         ],
         "xaxis": "x",
         "yaxis": "y2"
        },
        {
         "marker": {
          "color": [
           "green",
           "red",
           "red",
           "green",
           "red",
           "green",
           "green",
           "green",
           "green",
           "green"
          ],
          "line": {
           "width": 0
          }
         },
         "name": "Volume",
         "type": "bar",
         "uid": "c3c03053-f651-41ed-a9c9-c0a25554a05a",
         "x": [
          "2018-01-01T00:00:00.000000",
          "2018-01-02T00:00:00.000000",
          "2018-01-03T00:00:00.000000",
          "2018-01-04T00:00:00.000000",
          "2018-01-05T00:00:00.000000",
          "2018-01-06T00:00:00.000000",
          "2018-01-07T00:00:00.000000",
          "2018-01-08T00:00:00.000000",
          "2018-01-09T00:00:00.000000",
          "2018-01-10T00:00:00.000000"
         ],
         "xaxis": "x",
         "y": {
          "dtype": "float64",
          "shape": [
           10
          ]
         },
         "yaxis": "y"
        }
       ],
       "_js2py_layoutDelta": {},
       "_js2py_pointsCallback": {},
       "_js2py_relayout": {},
       "_js2py_restyle": {},
       "_js2py_traceDeltas": {},
       "_js2py_update": {},
       "_last_layout_edit_id": 5,
       "_last_trace_edit_id": 5,
       "_layout": {
        "autosize": false,
        "colorway": [
         "#1f77b4",
         "#ff7f0e",
         "#2ca02c",
         "#dc3912",
         "#9467bd",
         "#8c564b",
         "#e377c2",
         "#7f7f7f",
         "#bcbd22",
         "#17becf"
        ],
        "height": 300,
        "hovermode": "closest",
        "margin": {
         "b": 30,
         "t": 30
        },
        "showlegend": true,
        "template": {
         "data": {
          "bar": [
           {
            "error_x": {
             "color": "#2a3f5f"
            },
            "error_y": {
             "color": "#2a3f5f"
            },
            "marker": {
             "line": {
              "color": "#E5ECF6",
              "width": 0.5
             }
            },
            "type": "bar"
           }
          ],
          "barpolar": [
           {
            "marker": {
             "line": {
              "color": "#E5ECF6",
              "width": 0.5
             }
            },
            "type": "barpolar"
           }
          ],
          "carpet": [
           {
            "aaxis": {
             "endlinecolor": "#2a3f5f",
             "gridcolor": "white",
             "linecolor": "white",
             "minorgridcolor": "white",
             "startlinecolor": "#2a3f5f"
            },
            "baxis": {
             "endlinecolor": "#2a3f5f",
             "gridcolor": "white",
             "linecolor": "white",
             "minorgridcolor": "white",
             "startlinecolor": "#2a3f5f"
            },
            "type": "carpet"
           }
          ],
          "choropleth": [
           {
            "colorbar": {
             "outlinewidth": 0,
             "ticks": ""
            },
            "type": "choropleth"
           }
          ],
          "contour": [
           {
            "colorbar": {
             "outlinewidth": 0,
             "ticks": ""
            },
            "colorscale": [
             [
              0,
              "#0d0887"
             ],
             [
              0.1111111111111111,
              "#46039f"
             ],
             [
              0.2222222222222222,
              "#7201a8"
             ],
             [
              0.3333333333333333,
              "#9c179e"
             ],
             [
              0.4444444444444444,
              "#bd3786"
             ],
             [
              0.5555555555555556,
              "#d8576b"
             ],
             [
              0.6666666666666666,
              "#ed7953"
             ],
             [
              0.7777777777777778,
              "#fb9f3a"
             ],
             [
              0.8888888888888888,
              "#fdca26"
             ],
             [
              1,
              "#f0f921"
             ]
            ],
            "type": "contour"
           }
          ],
          "contourcarpet": [
           {
            "colorbar": {
             "outlinewidth": 0,
             "ticks": ""
            },
            "type": "contourcarpet"
           }
          ],
          "heatmap": [
           {
            "colorbar": {
             "outlinewidth": 0,
             "ticks": ""
            },
            "colorscale": [
             [
              0,
              "#0d0887"
             ],
             [
              0.1111111111111111,
              "#46039f"
             ],
             [
              0.2222222222222222,
              "#7201a8"
             ],
             [
              0.3333333333333333,
              "#9c179e"
             ],
             [
              0.4444444444444444,
              "#bd3786"
             ],
             [
              0.5555555555555556,
              "#d8576b"
             ],
             [
              0.6666666666666666,
              "#ed7953"
             ],
             [
              0.7777777777777778,
              "#fb9f3a"
             ],
             [
              0.8888888888888888,
              "#fdca26"
             ],
             [
              1,
              "#f0f921"
             ]
            ],
            "type": "heatmap"
           }
          ],
          "heatmapgl": [
           {
            "colorbar": {
             "outlinewidth": 0,
             "ticks": ""
            },
            "colorscale": [
             [
              0,
              "#0d0887"
             ],
             [
              0.1111111111111111,
              "#46039f"
             ],
             [
              0.2222222222222222,
              "#7201a8"
             ],
             [
              0.3333333333333333,
              "#9c179e"
             ],
             [
              0.4444444444444444,
              "#bd3786"
             ],
             [
              0.5555555555555556,
              "#d8576b"
             ],
             [
              0.6666666666666666,
              "#ed7953"
             ],
             [
              0.7777777777777778,
              "#fb9f3a"
             ],
             [
              0.8888888888888888,
              "#fdca26"
             ],
             [
              1,
              "#f0f921"
             ]
            ],
            "type": "heatmapgl"
           }
          ],
          "histogram": [
           {
            "marker": {
             "colorbar": {
              "outlinewidth": 0,
              "ticks": ""
             }
            },
            "type": "histogram"
           }
          ],
          "histogram2d": [
           {
            "colorbar": {
             "outlinewidth": 0,
             "ticks": ""
            },
            "colorscale": [
             [
              0,
              "#0d0887"
             ],
             [
              0.1111111111111111,
              "#46039f"
             ],
             [
              0.2222222222222222,
              "#7201a8"
             ],
             [
              0.3333333333333333,
              "#9c179e"
             ],
             [
              0.4444444444444444,
              "#bd3786"
             ],
             [
              0.5555555555555556,
              "#d8576b"
             ],
             [
              0.6666666666666666,
              "#ed7953"
             ],
             [
              0.7777777777777778,
              "#fb9f3a"
             ],
             [
              0.8888888888888888,
              "#fdca26"
             ],
             [
              1,
              "#f0f921"
             ]
            ],
            "type": "histogram2d"
           }
          ],
          "histogram2dcontour": [
           {
            "colorbar": {
             "outlinewidth": 0,
             "ticks": ""
            },
            "colorscale": [
             [
              0,
              "#0d0887"
             ],
             [
              0.1111111111111111,
              "#46039f"
             ],
             [
              0.2222222222222222,
              "#7201a8"
             ],
             [
              0.3333333333333333,
              "#9c179e"
             ],
             [
              0.4444444444444444,
              "#bd3786"
             ],
             [
              0.5555555555555556,
              "#d8576b"
             ],
             [
              0.6666666666666666,
              "#ed7953"
             ],
             [
              0.7777777777777778,
              "#fb9f3a"
             ],
             [
              0.8888888888888888,
              "#fdca26"
             ],
             [
              1,
              "#f0f921"
             ]
            ],
            "type": "histogram2dcontour"
           }
          ],
          "mesh3d": [
           {
            "colorbar": {
             "outlinewidth": 0,
             "ticks": ""
            },
            "type": "mesh3d"
           }
          ],
          "parcoords": [
           {
            "line": {
             "colorbar": {
              "outlinewidth": 0,
              "ticks": ""
             }
            },
            "type": "parcoords"
           }
          ],
          "pie": [
           {
            "automargin": true,
            "type": "pie"
           }
          ],
          "scatter": [
           {
            "marker": {
             "colorbar": {
              "outlinewidth": 0,
              "ticks": ""
             }
            },
            "type": "scatter"
           }
          ],
          "scatter3d": [
           {
            "line": {
             "colorbar": {
              "outlinewidth": 0,
              "ticks": ""
             }
            },
            "marker": {
             "colorbar": {
              "outlinewidth": 0,
              "ticks": ""
             }
            },
            "type": "scatter3d"
           }
          ],
          "scattercarpet": [
           {
            "marker": {
             "colorbar": {
              "outlinewidth": 0,
              "ticks": ""
             }
            },
            "type": "scattercarpet"
           }
          ],
          "scattergeo": [
           {
            "marker": {
             "colorbar": {
              "outlinewidth": 0,
              "ticks": ""
             }
            },
            "type": "scattergeo"
           }
          ],
          "scattergl": [
           {
            "marker": {
             "colorbar": {
              "outlinewidth": 0,
              "ticks": ""
             }
            },
            "type": "scattergl"
           }
          ],
          "scattermapbox": [
           {
            "marker": {
             "colorbar": {
              "outlinewidth": 0,
              "ticks": ""
             }
            },
            "type": "scattermapbox"
           }
          ],
          "scatterpolar": [
           {
            "marker": {
             "colorbar": {
              "outlinewidth": 0,
              "ticks": ""
             }
            },
            "type": "scatterpolar"
           }
          ],
          "scatterpolargl": [
           {
            "marker": {
             "colorbar": {
              "outlinewidth": 0,
              "ticks": ""
             }
            },
            "type": "scatterpolargl"
           }
          ],
          "scatterternary": [
           {
            "marker": {
             "colorbar": {
              "outlinewidth": 0,
              "ticks": ""
             }
            },
            "type": "scatterternary"
           }
          ],
          "surface": [
           {
            "colorbar": {
             "outlinewidth": 0,
             "ticks": ""
            },
            "colorscale": [
             [
              0,
              "#0d0887"
             ],
             [
              0.1111111111111111,
              "#46039f"
             ],
             [
              0.2222222222222222,
              "#7201a8"
             ],
             [
              0.3333333333333333,
              "#9c179e"
             ],
             [
              0.4444444444444444,
              "#bd3786"
             ],
             [
              0.5555555555555556,
              "#d8576b"
             ],
             [
              0.6666666666666666,
              "#ed7953"
             ],
             [
              0.7777777777777778,
              "#fb9f3a"
             ],
             [
              0.8888888888888888,
              "#fdca26"
             ],
             [
              1,
              "#f0f921"
             ]
            ],
            "type": "surface"
           }
          ],
          "table": [
           {
            "cells": {
             "fill": {
              "color": "#EBF0F8"
             },
             "line": {
              "color": "white"
             }
            },
            "header": {
             "fill": {
              "color": "#C8D4E3"
             },
             "line": {
              "color": "white"
             }
            },
            "type": "table"
           }
          ]
         },
         "layout": {
          "annotationdefaults": {
           "arrowcolor": "#2a3f5f",
           "arrowhead": 0,
           "arrowwidth": 1
          },
          "coloraxis": {
           "colorbar": {
            "outlinewidth": 0,
            "ticks": ""
           }
          },
          "colorscale": {
           "diverging": [
            [
             0,
             "#8e0152"
            ],
            [
             0.1,
             "#c51b7d"
            ],
            [
             0.2,
             "#de77ae"
            ],
            [
             0.3,
             "#f1b6da"
            ],
            [
             0.4,
             "#fde0ef"
            ],
            [
             0.5,
             "#f7f7f7"
            ],
            [
             0.6,
             "#e6f5d0"
            ],
            [
             0.7,
             "#b8e186"
            ],
            [
             0.8,
             "#7fbc41"
            ],
            [
             0.9,
             "#4d9221"
            ],
            [
             1,
             "#276419"
            ]
           ],
           "sequential": [
            [
             0,
             "#0d0887"
            ],
            [
             0.1111111111111111,
             "#46039f"
            ],
            [
             0.2222222222222222,
             "#7201a8"
            ],
            [
             0.3333333333333333,
             "#9c179e"
            ],
            [
             0.4444444444444444,
             "#bd3786"
            ],
            [
             0.5555555555555556,
             "#d8576b"
            ],
            [
             0.6666666666666666,
             "#ed7953"
            ],
            [
             0.7777777777777778,
             "#fb9f3a"
            ],
            [
             0.8888888888888888,
             "#fdca26"
            ],
            [
             1,
             "#f0f921"
            ]
           ],
           "sequentialminus": [
            [
             0,
             "#0d0887"
            ],
            [
             0.1111111111111111,
             "#46039f"
            ],
            [
             0.2222222222222222,
             "#7201a8"
            ],
            [
             0.3333333333333333,
             "#9c179e"
            ],
            [
             0.4444444444444444,
             "#bd3786"
            ],
            [
             0.5555555555555556,
             "#d8576b"
            ],
            [
             0.6666666666666666,
             "#ed7953"
            ],
            [
             0.7777777777777778,
             "#fb9f3a"
            ],
            [
             0.8888888888888888,
             "#fdca26"
            ],
            [
             1,
             "#f0f921"
            ]
           ]
          },
          "colorway": [
           "#636efa",
           "#EF553B",
           "#00cc96",
           "#ab63fa",
           "#FFA15A",
           "#19d3f3",
           "#FF6692",
           "#B6E880",
           "#FF97FF",
           "#FECB52"
          ],
          "font": {
           "color": "#2a3f5f"
          },
          "geo": {
           "bgcolor": "white",
           "lakecolor": "white",
           "landcolor": "#E5ECF6",
           "showlakes": true,
           "showland": true,
           "subunitcolor": "white"
          },
          "hoverlabel": {
           "align": "left"
          },
          "hovermode": "closest",
          "mapbox": {
           "style": "light"
          },
          "paper_bgcolor": "white",
          "plot_bgcolor": "#E5ECF6",
          "polar": {
           "angularaxis": {
            "gridcolor": "white",
            "linecolor": "white",
            "ticks": ""
           },
           "bgcolor": "#E5ECF6",
           "radialaxis": {
            "gridcolor": "white",
            "linecolor": "white",
            "ticks": ""
           }
          },
          "scene": {
           "xaxis": {
            "backgroundcolor": "#E5ECF6",
            "gridcolor": "white",
            "gridwidth": 2,
            "linecolor": "white",
            "showbackground": true,
            "ticks": "",
            "zerolinecolor": "white"
           },
           "yaxis": {
            "backgroundcolor": "#E5ECF6",
            "gridcolor": "white",
            "gridwidth": 2,
            "linecolor": "white",
            "showbackground": true,
            "ticks": "",
            "zerolinecolor": "white"
           },
           "zaxis": {
            "backgroundcolor": "#E5ECF6",
            "gridcolor": "white",
            "gridwidth": 2,
            "linecolor": "white",
            "showbackground": true,
            "ticks": "",
            "zerolinecolor": "white"
           }
          },
          "shapedefaults": {
           "line": {
            "color": "#2a3f5f"
           }
          },
          "ternary": {
           "aaxis": {
            "gridcolor": "white",
            "linecolor": "white",
            "ticks": ""
           },
           "baxis": {
            "gridcolor": "white",
            "linecolor": "white",
            "ticks": ""
           },
           "bgcolor": "#E5ECF6",
           "caxis": {
            "gridcolor": "white",
            "linecolor": "white",
            "ticks": ""
           }
          },
          "title": {
           "x": 0.05
          },
          "xaxis": {
           "automargin": true,
           "gridcolor": "white",
           "linecolor": "white",
           "ticks": "",
           "title": {
            "standoff": 15
           },
           "zerolinecolor": "white",
           "zerolinewidth": 2
          },
          "yaxis": {
           "automargin": true,
           "gridcolor": "white",
           "linecolor": "white",
           "ticks": "",
           "title": {
            "standoff": 15
           },
           "zerolinecolor": "white",
           "zerolinewidth": 2
          }
         }
        },
        "width": 700,
        "xaxis": {
         "rangeslider": {
          "visible": false
         },
         "showgrid": true
        },
        "yaxis": {
         "domain": [
          0,
          0.33
         ],
         "showgrid": true
        },
        "yaxis2": {
         "domain": [
          0.33,
          1
         ]
        }
       },
       "_model_module_version": "^4.8.0",
       "_py2js_animate": {},
       "_py2js_deleteTraces": {},
       "_py2js_moveTraces": {},
       "_py2js_removeLayoutProps": {},
       "_py2js_removeTraceProps": {},
       "_py2js_restyle": {},
       "_view_count": 0,
       "_view_module_version": "^4.8.0"
      }
     }
    },
    "version_major": 2,
    "version_minor": 0
   }
  }
 },
 "nbformat": 4,
 "nbformat_minor": 4
}
