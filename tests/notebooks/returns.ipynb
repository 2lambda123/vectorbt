{
 "cells": [
  {
   "cell_type": "markdown",
   "metadata": {},
   "source": [
    "# returns"
   ]
  },
  {
   "cell_type": "code",
   "execution_count": 1,
   "metadata": {},
   "outputs": [],
   "source": [
    "import vectorbt as vbt"
   ]
  },
  {
   "cell_type": "code",
   "execution_count": 2,
   "metadata": {
    "Collapsed": "false"
   },
   "outputs": [
    {
     "name": "stderr",
     "output_type": "stream",
     "text": [
      "/Users/olegpolakow/miniconda3/lib/python3.7/site-packages/pandas_datareader/compat/__init__.py:7: FutureWarning: pandas.util.testing is deprecated. Use the functions in the public API at pandas.testing instead.\n",
      "  from pandas.util.testing import assert_frame_equal\n",
      "/Users/olegpolakow/miniconda3/lib/python3.7/site-packages/empyrical/utils.py:32: UserWarning: Unable to import pandas_datareader. Suppressing import error and continuing. All data reading functionality will raise errors; but has been deprecated and will be removed in a later version.\n",
      "  warnings.warn(msg)\n"
     ]
    }
   ],
   "source": [
    "import numpy as np\n",
    "import pandas as pd\n",
    "from datetime import datetime, timedelta\n",
    "from numba import njit\n",
    "import empyrical"
   ]
  },
  {
   "cell_type": "code",
   "execution_count": 3,
   "metadata": {},
   "outputs": [],
   "source": [
    "# Disable caching for performance testing\n",
    "vbt.settings.caching['enabled'] = False\n",
    "vbt.settings.returns['year_freq'] = '252 days' # same as empyrical"
   ]
  },
  {
   "cell_type": "code",
   "execution_count": 4,
   "metadata": {},
   "outputs": [
    {
     "name": "stdout",
     "output_type": "stream",
     "text": [
      "              a    b    c\n",
      "2018-01-01  1.0  5.0  1.0\n",
      "2018-01-02  2.0  4.0  2.0\n",
      "2018-01-03  3.0  3.0  3.0\n",
      "2018-01-04  4.0  2.0  2.0\n",
      "2018-01-05  5.0  1.0  1.0\n"
     ]
    }
   ],
   "source": [
    "index = pd.DatetimeIndex([\n",
    "    datetime(2018, 1, 1),\n",
    "    datetime(2018, 1, 2),\n",
    "    datetime(2018, 1, 3),\n",
    "    datetime(2018, 1, 4),\n",
    "    datetime(2018, 1, 5)\n",
    "], freq='D')\n",
    "columns = ['a', 'b', 'c']\n",
    "ts = pd.DataFrame({\n",
    "    'a': [1, 2, 3, 4, 5], \n",
    "    'b': [5, 4, 3, 2, 1],\n",
    "    'c': [1, 2, 3, 2, 1]\n",
    "}, index=index).astype(np.float32)\n",
    "\n",
    "print(ts)"
   ]
  },
  {
   "cell_type": "code",
   "execution_count": 5,
   "metadata": {},
   "outputs": [
    {
     "data": {
      "text/plain": [
       "(1000, 1000)"
      ]
     },
     "execution_count": 5,
     "metadata": {},
     "output_type": "execute_result"
    }
   ],
   "source": [
    "big_ts = pd.DataFrame(np.random.randint(1, 10, size=(1000, 1000)).astype(float))\n",
    "big_ts.index = [datetime(2018, 1, 1) + timedelta(days=i) for i in range(1000)]\n",
    "big_ts.shape"
   ]
  },
  {
   "cell_type": "code",
   "execution_count": 6,
   "metadata": {},
   "outputs": [
    {
     "name": "stdout",
     "output_type": "stream",
     "text": [
      "                   a         b         c\n",
      "2018-01-01       NaN       NaN       NaN\n",
      "2018-01-02  1.000000 -0.200000  1.000000\n",
      "2018-01-03  0.500000 -0.250000  0.500000\n",
      "2018-01-04  0.333333 -0.333333 -0.333333\n",
      "2018-01-05  0.250000 -0.500000 -0.500000\n"
     ]
    }
   ],
   "source": [
    "returns = ts.vbt.pct_change()\n",
    "print(returns)\n",
    "\n",
    "big_returns = big_ts.vbt.pct_change()"
   ]
  },
  {
   "cell_type": "code",
   "execution_count": 7,
   "metadata": {},
   "outputs": [],
   "source": [
    "np.random.seed(42)\n",
    "benchmark_rets = returns['a'] * np.random.uniform(0.8, 1.2, returns.shape[0])\n",
    "big_benchmark_rets = big_returns[0] * np.random.uniform(0.8, 1.2, big_returns.shape[0])"
   ]
  },
  {
   "cell_type": "code",
   "execution_count": 8,
   "metadata": {},
   "outputs": [
    {
     "name": "stdout",
     "output_type": "stream",
     "text": [
      "252 days 00:00:00\n",
      "252 days 00:00:00\n",
      "252 days 00:00:00\n",
      "252 days 00:00:00\n"
     ]
    }
   ],
   "source": [
    "# Test year frequency\n",
    "print(returns.vbt.returns.year_freq)\n",
    "print(returns['a'].vbt.returns.year_freq)\n",
    "print(returns.vbt.returns(year_freq='252 days').year_freq)\n",
    "print(returns['a'].vbt.returns(year_freq='252 days').year_freq)"
   ]
  },
  {
   "cell_type": "code",
   "execution_count": 9,
   "metadata": {},
   "outputs": [
    {
     "name": "stdout",
     "output_type": "stream",
     "text": [
      "252.0\n",
      "252.0\n"
     ]
    }
   ],
   "source": [
    "print(returns.vbt.returns.ann_factor) # default\n",
    "print(returns.vbt.returns(year_freq='252 days').ann_factor)"
   ]
  },
  {
   "cell_type": "code",
   "execution_count": 10,
   "metadata": {},
   "outputs": [
    {
     "name": "stdout",
     "output_type": "stream",
     "text": [
      "2018-01-01         NaN\n",
      "2018-01-02    1.000000\n",
      "2018-01-03    0.500000\n",
      "2018-01-04    0.333333\n",
      "2018-01-05    0.250000\n",
      "Freq: D, Name: a, dtype: float64\n",
      "                   a         b         c\n",
      "2018-01-01       NaN       NaN       NaN\n",
      "2018-01-02  1.000000 -0.200000  1.000000\n",
      "2018-01-03  0.500000 -0.250000  0.500000\n",
      "2018-01-04  0.333333 -0.333333 -0.333333\n",
      "2018-01-05  0.250000 -0.500000 -0.500000\n",
      "24 µs ± 1.93 µs per loop (mean ± std. dev. of 7 runs, 10000 loops each)\n"
     ]
    }
   ],
   "source": [
    "print(returns['a'].vbt.returns.daily()) # already daily, do nothing\n",
    "print(returns.vbt.returns.daily())\n",
    "\n",
    "%timeit big_returns.vbt.returns.daily()"
   ]
  },
  {
   "cell_type": "code",
   "execution_count": 11,
   "metadata": {},
   "outputs": [
    {
     "name": "stdout",
     "output_type": "stream",
     "text": [
      "2018-01-01    4.0\n",
      "Freq: 252D, Name: a, dtype: float64\n",
      "              a    b             c\n",
      "2018-01-01  4.0 -0.8  2.980232e-08\n",
      "9.18 ms ± 467 µs per loop (mean ± std. dev. of 7 runs, 100 loops each)\n"
     ]
    }
   ],
   "source": [
    "print(returns['a'].vbt.returns.annual())\n",
    "print(returns.vbt.returns.annual())\n",
    "\n",
    "%timeit big_returns.vbt.returns.annual()"
   ]
  },
  {
   "cell_type": "code",
   "execution_count": 12,
   "metadata": {},
   "outputs": [
    {
     "name": "stdout",
     "output_type": "stream",
     "text": [
      "2018-01-01    0.0\n",
      "2018-01-02    1.0\n",
      "2018-01-03    2.0\n",
      "2018-01-04    3.0\n",
      "2018-01-05    4.0\n",
      "Freq: D, dtype: float64\n",
      "2.25 ms ± 67.4 µs per loop (mean ± std. dev. of 7 runs, 100 loops each)\n",
      "2018-01-01    0.0\n",
      "2018-01-02    1.0\n",
      "2018-01-03    2.0\n",
      "2018-01-04    3.0\n",
      "2018-01-05    4.0\n",
      "Freq: D, Name: a, dtype: float64\n",
      "212 µs ± 73.1 µs per loop (mean ± std. dev. of 7 runs, 1 loop each)\n",
      "              a    b             c\n",
      "2018-01-01  0.0  0.0  0.000000e+00\n",
      "2018-01-02  1.0 -0.2  1.000000e+00\n",
      "2018-01-03  2.0 -0.4  2.000000e+00\n",
      "2018-01-04  3.0 -0.6  1.000000e+00\n",
      "2018-01-05  4.0 -0.8  2.980232e-08\n",
      "              a    b    c\n",
      "2018-01-01  1.0  1.0  1.0\n",
      "2018-01-02  2.0  0.8  2.0\n",
      "2018-01-03  3.0  0.6  3.0\n",
      "2018-01-04  4.0  0.4  2.0\n",
      "2018-01-05  5.0  0.2  1.0\n",
      "              a    b    c\n",
      "2018-01-01  1.0  2.0  3.0\n",
      "2018-01-02  2.0  1.6  6.0\n",
      "2018-01-03  3.0  1.2  9.0\n",
      "2018-01-04  4.0  0.8  6.0\n",
      "2018-01-05  5.0  0.4  3.0\n",
      "12.4 ms ± 533 µs per loop (mean ± std. dev. of 7 runs, 1 loop each)\n"
     ]
    }
   ],
   "source": [
    "print(empyrical.cum_returns(returns['a']))\n",
    "%timeit empyrical.cum_returns(big_returns[0])\n",
    "\n",
    "print(returns['a'].vbt.returns.cumulative())\n",
    "%timeit big_returns[0].vbt.returns.cumulative()\n",
    "\n",
    "print(returns.vbt.returns.cumulative())\n",
    "print(returns.vbt.returns.cumulative(start_value=1))\n",
    "print(returns.vbt.returns.cumulative(start_value=[1, 2, 3])) # also accepts array\n",
    "%timeit big_returns.vbt.returns.cumulative()"
   ]
  },
  {
   "cell_type": "code",
   "execution_count": 13,
   "metadata": {},
   "outputs": [
    {
     "name": "stdout",
     "output_type": "stream",
     "text": [
      "4.000000149011612\n",
      "220 µs ± 9.09 µs per loop (mean ± std. dev. of 7 runs, 1000 loops each)\n",
      "4.000000149011612\n",
      "59.5 µs ± 1.51 µs per loop (mean ± std. dev. of 7 runs, 10000 loops each)\n",
      "a    4.000000e+00\n",
      "b   -8.000000e-01\n",
      "c    2.980232e-08\n",
      "Name: total_return, dtype: float64\n",
      "4.61 ms ± 133 µs per loop (mean ± std. dev. of 7 runs, 100 loops each)\n"
     ]
    }
   ],
   "source": [
    "print(empyrical.cum_returns_final(returns['a']))\n",
    "%timeit empyrical.cum_returns_final(big_returns[0])\n",
    "\n",
    "print(returns['a'].vbt.returns.total())\n",
    "%timeit big_returns[0].vbt.returns.total()\n",
    "\n",
    "print(returns.vbt.returns.total())\n",
    "%timeit big_returns.vbt.returns.total()"
   ]
  },
  {
   "cell_type": "code",
   "execution_count": 14,
   "metadata": {},
   "outputs": [
    {
     "name": "stdout",
     "output_type": "stream",
     "text": [
      "1.690786886567203e+35\n",
      "219 µs ± 3.32 µs per loop (mean ± std. dev. of 7 runs, 1000 loops each)\n",
      "1.6907868865671834e+35\n",
      "111 µs ± 1.52 µs per loop (mean ± std. dev. of 7 runs, 10000 loops each)\n",
      "a    1.690787e+35\n",
      "b   -1.000000e+00\n",
      "c    1.502038e-06\n",
      "Name: annualized_return, dtype: float64\n",
      "4.6 ms ± 51.9 µs per loop (mean ± std. dev. of 7 runs, 100 loops each)\n"
     ]
    }
   ],
   "source": [
    "print(empyrical.annual_return(returns['a']))\n",
    "%timeit empyrical.annual_return(big_returns[0])\n",
    "\n",
    "print(returns['a'].vbt.returns.annualized())\n",
    "%timeit big_returns[0].vbt.returns.annualized()\n",
    "\n",
    "print(returns.vbt.returns.annualized())\n",
    "%timeit big_returns.vbt.returns.annualized()"
   ]
  },
  {
   "cell_type": "code",
   "execution_count": 15,
   "metadata": {},
   "outputs": [
    {
     "name": "stdout",
     "output_type": "stream",
     "text": [
      "2.121838249438074\n",
      "35.3 µs ± 328 ns per loop (mean ± std. dev. of 7 runs, 10000 loops each)\n",
      "2.121838249438074\n",
      "396 µs ± 199 µs per loop (mean ± std. dev. of 7 runs, 1 loop each)\n",
      "a    2.121838\n",
      "b    0.830587\n",
      "c    4.466341\n",
      "Name: annualized_volatility, dtype: float64\n",
      "a    84.653704\n",
      "b     2.087463\n",
      "c     4.466341\n",
      "Name: annualized_volatility, dtype: float64\n",
      "6.79 ms ± 273 µs per loop (mean ± std. dev. of 7 runs, 1 loop each)\n"
     ]
    }
   ],
   "source": [
    "print(empyrical.annual_volatility(returns['a'], alpha=3.))\n",
    "%timeit empyrical.annual_volatility(big_returns[0], alpha=3.)\n",
    "\n",
    "print(returns['a'].vbt.returns.annualized_volatility(levy_alpha=3.))\n",
    "%timeit big_returns[0].vbt.returns.annualized_volatility(levy_alpha=3.)\n",
    "\n",
    "print(returns.vbt.returns.annualized_volatility(levy_alpha=3.))\n",
    "print(returns.vbt.returns.annualized_volatility(levy_alpha=[1, 2, 3]))\n",
    "%timeit big_returns.vbt.returns.annualized_volatility(levy_alpha=3.)"
   ]
  },
  {
   "cell_type": "code",
   "execution_count": 16,
   "metadata": {},
   "outputs": [
    {
     "name": "stdout",
     "output_type": "stream",
     "text": [
      "-1.2500000139698388\n",
      "346 µs ± 8.35 µs per loop (mean ± std. dev. of 7 runs, 1000 loops each)\n",
      "-1.2500000139698388\n",
      "202 µs ± 70.8 µs per loop (mean ± std. dev. of 7 runs, 1 loop each)\n",
      "a         NaN\n",
      "b   -1.250000\n",
      "c    0.000002\n",
      "Name: calmar_ratio, dtype: float64\n",
      "14.6 ms ± 97.4 µs per loop (mean ± std. dev. of 7 runs, 100 loops each)\n"
     ]
    }
   ],
   "source": [
    "print(empyrical.calmar_ratio(returns['b']))\n",
    "%timeit empyrical.calmar_ratio(big_returns[0])\n",
    "\n",
    "print(returns['b'].vbt.returns.calmar_ratio())\n",
    "%timeit big_returns[0].vbt.returns.calmar_ratio()\n",
    "\n",
    "print(returns.vbt.returns.calmar_ratio())\n",
    "%timeit big_returns.vbt.returns.calmar_ratio()"
   ]
  },
  {
   "cell_type": "code",
   "execution_count": 17,
   "metadata": {},
   "outputs": [
    {
     "name": "stdout",
     "output_type": "stream",
     "text": [
      "1.7319528661672228\n",
      "1.11 ms ± 2.78 µs per loop (mean ± std. dev. of 7 runs, 1000 loops each)\n",
      "1.7319528661672228\n",
      "188 µs ± 74.2 µs per loop (mean ± std. dev. of 7 runs, 1 loop each)\n",
      "a         inf\n",
      "b    0.000000\n",
      "c    1.731953\n",
      "Name: omega_ratio, dtype: float64\n",
      "a        inf\n",
      "b    0.00000\n",
      "c    1.60973\n",
      "Name: omega_ratio, dtype: float64\n",
      "a         inf\n",
      "b    0.000000\n",
      "c    1.727716\n",
      "Name: omega_ratio, dtype: float64\n",
      "12.9 ms ± 173 µs per loop (mean ± std. dev. of 7 runs, 1 loop each)\n"
     ]
    }
   ],
   "source": [
    "print(empyrical.omega_ratio(returns['c'], risk_free=0.01, required_return=0.1))\n",
    "%timeit empyrical.omega_ratio(big_returns[0], risk_free=0.01, required_return=0.1)\n",
    "\n",
    "print(returns['c'].vbt.returns.omega_ratio(risk_free=0.01, required_return=0.1))\n",
    "%timeit big_returns[0].vbt.returns.omega_ratio(risk_free=0.01, required_return=0.1)\n",
    "\n",
    "print(returns.vbt.returns.omega_ratio(risk_free=0.01, required_return=0.1))\n",
    "print(returns.vbt.returns.omega_ratio(risk_free=[0.01, 0.02, 0.03], required_return=0.1))\n",
    "print(returns.vbt.returns.omega_ratio(risk_free=0.01, required_return=[0.1, 0.2, 0.3]))\n",
    "%timeit big_returns.vbt.returns.omega_ratio(risk_free=0.01, required_return=0.1)"
   ]
  },
  {
   "cell_type": "code",
   "execution_count": 18,
   "metadata": {},
   "outputs": [
    {
     "name": "stdout",
     "output_type": "stream",
     "text": [
      "24.139822936194918\n",
      "204 µs ± 4.45 µs per loop (mean ± std. dev. of 7 runs, 1000 loops each)\n",
      "24.139822936194918\n",
      "174 µs ± 72.9 µs per loop (mean ± std. dev. of 7 runs, 1 loop each)\n",
      "a    24.139823\n",
      "b   -39.938439\n",
      "c     3.517158\n",
      "Name: sharpe_ratio, dtype: float64\n",
      "a    24.139823\n",
      "b   -41.145646\n",
      "c     3.068159\n",
      "Name: sharpe_ratio, dtype: float64\n",
      "8.44 ms ± 87.9 µs per loop (mean ± std. dev. of 7 runs, 1 loop each)\n"
     ]
    }
   ],
   "source": [
    "print(empyrical.sharpe_ratio(returns['a'], risk_free=0.01))\n",
    "%timeit empyrical.sharpe_ratio(big_returns[0], risk_free=0.01)\n",
    "\n",
    "print(returns['a'].vbt.returns.sharpe_ratio(risk_free=0.01))\n",
    "%timeit big_returns[0].vbt.returns.sharpe_ratio(risk_free=0.01)\n",
    "\n",
    "print(returns.vbt.returns.sharpe_ratio(risk_free=0.01))\n",
    "print(returns.vbt.returns.sharpe_ratio(risk_free=[0.01, 0.02, 0.03]))\n",
    "%timeit big_returns.vbt.returns.sharpe_ratio(risk_free=0.01)"
   ]
  },
  {
   "cell_type": "code",
   "execution_count": 19,
   "metadata": {},
   "outputs": [
    {
     "name": "stdout",
     "output_type": "stream",
     "text": [
      "a         NaN\n",
      "b         NaN\n",
      "c    0.004879\n",
      "Name: deflated_sharpe_ratio, dtype: float64\n",
      "a         NaN\n",
      "b         NaN\n",
      "c    0.003749\n",
      "Name: deflated_sharpe_ratio, dtype: float64\n"
     ]
    },
    {
     "name": "stderr",
     "output_type": "stream",
     "text": [
      "/Users/olegpolakow/Documents/SourceTree/vectorbt/vectorbt/returns/metrics.py:18: RuntimeWarning: invalid value encountered in sqrt\n",
      "  np.sqrt(1 - skew * est_sharpe + ((kurtosis - 1) / 4) * est_sharpe ** 2))\n"
     ]
    },
    {
     "name": "stdout",
     "output_type": "stream",
     "text": [
      "47.6 ms ± 752 µs per loop (mean ± std. dev. of 7 runs, 10 loops each)\n",
      "1.0\n"
     ]
    }
   ],
   "source": [
    "print(returns.vbt.returns.deflated_sharpe_ratio(risk_free=0.01))\n",
    "print(returns.vbt.returns.deflated_sharpe_ratio(risk_free=[0.01, 0.02, 0.03]))\n",
    "%timeit big_returns.vbt.returns.deflated_sharpe_ratio(risk_free=0.01)\n",
    "\n",
    "# can specify var_sharpe and nb_trials expclicitly\n",
    "print(big_returns[0].vbt.returns.deflated_sharpe_ratio(\n",
    "    risk_free=0.01, \n",
    "    var_sharpe=np.var(big_returns.vbt.returns.sharpe_ratio(risk_free=0.01)),\n",
    "    nb_trials=big_returns.shape[1]\n",
    "))"
   ]
  },
  {
   "cell_type": "code",
   "execution_count": 20,
   "metadata": {},
   "outputs": [
    {
     "name": "stdout",
     "output_type": "stream",
     "text": [
      "6.920801865722236\n",
      "79.9 µs ± 1.23 µs per loop (mean ± std. dev. of 7 runs, 10000 loops each)\n",
      "6.920801865722236\n",
      "183 µs ± 73.2 µs per loop (mean ± std. dev. of 7 runs, 1 loop each)\n",
      "a    0.000000\n",
      "b    6.920802\n",
      "c    5.874521\n",
      "Name: downside_risk, dtype: float64\n",
      "a    0.000000\n",
      "b    8.463303\n",
      "c    8.098765\n",
      "Name: downside_risk, dtype: float64\n",
      "8.53 ms ± 148 µs per loop (mean ± std. dev. of 7 runs, 1 loop each)\n"
     ]
    }
   ],
   "source": [
    "print(empyrical.downside_risk(returns['b'], required_return=0.1))\n",
    "%timeit empyrical.downside_risk(big_returns[0], required_return=0.1)\n",
    "\n",
    "print(returns['b'].vbt.returns.downside_risk(required_return=0.1))\n",
    "%timeit big_returns[0].vbt.returns.downside_risk(required_return=0.1)\n",
    "\n",
    "print(returns.vbt.returns.downside_risk(required_return=0.1))\n",
    "print(returns.vbt.returns.downside_risk(required_return=[0.1, 0.2, 0.3]))\n",
    "%timeit big_returns.vbt.returns.downside_risk(required_return=0.1)"
   ]
  },
  {
   "cell_type": "code",
   "execution_count": 21,
   "metadata": {},
   "outputs": [
    {
     "name": "stdout",
     "output_type": "stream",
     "text": [
      "-15.32336860018125\n",
      "295 µs ± 4.26 µs per loop (mean ± std. dev. of 7 runs, 1000 loops each)\n",
      "-15.32336860018125\n",
      "212 µs ± 68.6 µs per loop (mean ± std. dev. of 7 runs, 1 loop each)\n",
      "a          inf\n",
      "b   -15.323369\n",
      "c     2.859808\n",
      "Name: sortino_ratio, dtype: float64\n",
      "a          inf\n",
      "b   -15.508129\n",
      "c    -4.148780\n",
      "Name: sortino_ratio, dtype: float64\n",
      "11.3 ms ± 175 µs per loop (mean ± std. dev. of 7 runs, 1 loop each)\n"
     ]
    }
   ],
   "source": [
    "print(empyrical.sortino_ratio(returns['b'], required_return=0.1))\n",
    "%timeit empyrical.sortino_ratio(big_returns[0], required_return=0.1)\n",
    "\n",
    "print(returns['b'].vbt.returns.sortino_ratio(required_return=0.1))\n",
    "%timeit big_returns[0].vbt.returns.sortino_ratio(required_return=0.1)\n",
    "\n",
    "print(returns.vbt.returns.sortino_ratio(required_return=0.1))\n",
    "print(returns.vbt.returns.sortino_ratio(required_return=[0.1, 0.2, 0.3]))\n",
    "%timeit big_returns.vbt.returns.sortino_ratio(required_return=0.1)"
   ]
  },
  {
   "cell_type": "code",
   "execution_count": 22,
   "metadata": {},
   "outputs": [
    {
     "name": "stdout",
     "output_type": "stream",
     "text": [
      "-0.5575108270794908\n",
      "657 µs ± 7.2 µs per loop (mean ± std. dev. of 7 runs, 1000 loops each)\n",
      "-0.5575108270794908\n",
      "The slowest run took 4.20 times longer than the fastest. This could mean that an intermediate result is being cached.\n",
      "233 µs ± 152 µs per loop (mean ± std. dev. of 7 runs, 1 loop each)\n",
      "a   -0.557511\n",
      "b   -2.718676\n",
      "c   -1.185416\n",
      "Name: information_ratio, dtype: float64\n",
      "10.4 ms ± 1.18 ms per loop (mean ± std. dev. of 7 runs, 1 loop each)\n"
     ]
    }
   ],
   "source": [
    "print(empyrical.excess_sharpe(returns['a'], benchmark_rets))\n",
    "%timeit empyrical.excess_sharpe(big_returns[0], benchmark_rets)\n",
    "\n",
    "print(returns['a'].vbt.returns.information_ratio(benchmark_rets)) # will broadcast\n",
    "%timeit big_returns[0].vbt.returns.information_ratio(big_benchmark_rets)\n",
    "\n",
    "print(returns.vbt.returns.information_ratio(benchmark_rets))\n",
    "%timeit big_returns.vbt.returns.information_ratio(big_benchmark_rets)"
   ]
  },
  {
   "cell_type": "code",
   "execution_count": 23,
   "metadata": {},
   "outputs": [
    {
     "name": "stdout",
     "output_type": "stream",
     "text": [
      "0.7853755820643185\n",
      "1.74 ms ± 21.3 µs per loop (mean ± std. dev. of 7 runs, 1000 loops each)\n",
      "0.7853755820643185\n",
      "181 µs ± 70.3 µs per loop (mean ± std. dev. of 7 runs, 1 loop each)\n",
      "a    0.785376\n",
      "b    0.252235\n",
      "c    1.547239\n",
      "Name: beta, dtype: float64\n",
      "11.2 ms ± 129 µs per loop (mean ± std. dev. of 7 runs, 1 loop each)\n"
     ]
    }
   ],
   "source": [
    "print(empyrical.beta(returns['a'], benchmark_rets))\n",
    "%timeit empyrical.beta(big_returns[0], benchmark_rets)\n",
    "\n",
    "print(returns['a'].vbt.returns.beta(benchmark_rets))\n",
    "%timeit big_returns[0].vbt.returns.beta(big_benchmark_rets)\n",
    "\n",
    "print(returns.vbt.returns.beta(benchmark_rets))\n",
    "%timeit big_returns.vbt.returns.beta(big_benchmark_rets)"
   ]
  },
  {
   "cell_type": "code",
   "execution_count": 24,
   "metadata": {},
   "outputs": [
    {
     "name": "stdout",
     "output_type": "stream",
     "text": [
      "21533608.259557564\n",
      "2.48 ms ± 65.8 µs per loop (mean ± std. dev. of 7 runs, 100 loops each)\n",
      "21533608.259557564\n",
      "272 µs ± 86.3 µs per loop (mean ± std. dev. of 7 runs, 1 loop each)\n",
      "a    2.153361e+07\n",
      "b   -1.000000e+00\n",
      "c   -1.000000e+00\n",
      "Name: alpha, dtype: float64\n",
      "a    2.153361e+07\n",
      "b   -1.000000e+00\n",
      "c   -1.000000e+00\n",
      "Name: alpha, dtype: float64\n",
      "15.3 ms ± 286 µs per loop (mean ± std. dev. of 7 runs, 1 loop each)\n"
     ]
    }
   ],
   "source": [
    "print(empyrical.alpha(returns['a'], benchmark_rets, risk_free=0.01))\n",
    "%timeit empyrical.alpha(big_returns[0], benchmark_rets, risk_free=0.01)\n",
    "\n",
    "print(returns['a'].vbt.returns.alpha(benchmark_rets, risk_free=0.01))\n",
    "%timeit big_returns[0].vbt.returns.alpha(big_benchmark_rets, risk_free=0.01)\n",
    "\n",
    "print(returns.vbt.returns.alpha(benchmark_rets, risk_free=0.01))\n",
    "print(returns.vbt.returns.alpha(benchmark_rets, risk_free=[0.01, 0.02, 0.03]))\n",
    "%timeit big_returns.vbt.returns.alpha(big_benchmark_rets, risk_free=0.01)"
   ]
  },
  {
   "cell_type": "code",
   "execution_count": 25,
   "metadata": {},
   "outputs": [
    {
     "name": "stdout",
     "output_type": "stream",
     "text": [
      "3.5238094437960337\n",
      "332 µs ± 46.8 µs per loop (mean ± std. dev. of 7 runs, 1000 loops each)\n",
      "3.5238094437960337\n",
      "94.5 µs ± 45.4 µs per loop (mean ± std. dev. of 7 runs, 1 loop each)\n",
      "a    3.523809\n",
      "b    0.436842\n",
      "c    1.947368\n",
      "Name: tail_ratio, dtype: float64\n",
      "31 ms ± 526 µs per loop (mean ± std. dev. of 7 runs, 10 loops each)\n"
     ]
    }
   ],
   "source": [
    "print(empyrical.tail_ratio(returns['a']))\n",
    "%timeit empyrical.tail_ratio(big_returns[0])\n",
    "\n",
    "print(returns['a'].vbt.returns.tail_ratio())\n",
    "%timeit big_returns[0].vbt.returns.tail_ratio()\n",
    "\n",
    "print(returns.vbt.returns.tail_ratio())\n",
    "%timeit big_returns.vbt.returns.tail_ratio()"
   ]
  },
  {
   "cell_type": "code",
   "execution_count": 26,
   "metadata": {},
   "outputs": [
    {
     "name": "stdout",
     "output_type": "stream",
     "text": [
      "0.26250000596046447\n",
      "162 µs ± 6.88 µs per loop (mean ± std. dev. of 7 runs, 1000 loops each)\n",
      "0.26250000596046447\n",
      "108 µs ± 54.9 µs per loop (mean ± std. dev. of 7 runs, 1 loop each)\n",
      "a    0.2625\n",
      "b   -0.4750\n",
      "c   -0.4750\n",
      "Name: value_at_risk, dtype: float64\n",
      "a    0.2625\n",
      "b   -0.4700\n",
      "c   -0.4650\n",
      "Name: value_at_risk, dtype: float64\n",
      "18.4 ms ± 169 µs per loop (mean ± std. dev. of 7 runs, 1 loop each)\n"
     ]
    }
   ],
   "source": [
    "print(empyrical.value_at_risk(returns.iloc[1:]['a'], cutoff=0.05))\n",
    "%timeit empyrical.value_at_risk(big_returns[0], cutoff=0.05)\n",
    "\n",
    "print(returns['a'].vbt.returns.value_at_risk(cutoff=0.05))\n",
    "%timeit big_returns[0].vbt.returns.value_at_risk(cutoff=0.05)\n",
    "\n",
    "print(returns.vbt.returns.value_at_risk(cutoff=0.05))\n",
    "print(returns.vbt.returns.value_at_risk(cutoff=[0.05, 0.06, 0.07]))\n",
    "%timeit big_returns.vbt.returns.value_at_risk(cutoff=0.05)"
   ]
  },
  {
   "cell_type": "code",
   "execution_count": 27,
   "metadata": {},
   "outputs": [
    {
     "name": "stdout",
     "output_type": "stream",
     "text": [
      "0.25\n",
      "51.6 µs ± 3.63 µs per loop (mean ± std. dev. of 7 runs, 10000 loops each)\n",
      "0.25\n",
      "115 µs ± 54.8 µs per loop (mean ± std. dev. of 7 runs, 1 loop each)\n",
      "a    0.25\n",
      "b   -0.50\n",
      "c   -0.50\n",
      "Name: conditional_value_at_risk, dtype: float64\n",
      "a    0.25\n",
      "b   -0.50\n",
      "c   -0.50\n",
      "Name: conditional_value_at_risk, dtype: float64\n",
      "16.9 ms ± 575 µs per loop (mean ± std. dev. of 7 runs, 1 loop each)\n"
     ]
    }
   ],
   "source": [
    "print(empyrical.conditional_value_at_risk(returns.iloc[1:]['a'], cutoff=0.05))\n",
    "%timeit empyrical.conditional_value_at_risk(big_returns[0], cutoff=0.05)\n",
    "\n",
    "print(returns['a'].vbt.returns.conditional_value_at_risk(cutoff=0.05))\n",
    "%timeit big_returns[0].vbt.returns.conditional_value_at_risk(cutoff=0.05)\n",
    "\n",
    "print(returns.vbt.returns.conditional_value_at_risk(cutoff=0.05))\n",
    "print(returns.vbt.returns.conditional_value_at_risk(cutoff=[0.05, 0.06, 0.07]))\n",
    "%timeit big_returns.vbt.returns.conditional_value_at_risk(cutoff=0.05)"
   ]
  },
  {
   "cell_type": "code",
   "execution_count": 28,
   "metadata": {},
   "outputs": [
    {
     "name": "stdout",
     "output_type": "stream",
     "text": [
      "0.00691706997447195\n",
      "421 µs ± 3.54 µs per loop (mean ± std. dev. of 7 runs, 1000 loops each)\n",
      "0.006917069974471952\n",
      "328 µs ± 183 µs per loop (mean ± std. dev. of 7 runs, 1 loop each)\n",
      "a    6.917070e-03\n",
      "b   -4.091036e-38\n",
      "c    6.144892e-44\n",
      "Name: capture, dtype: float64\n",
      "7.87 ms ± 909 µs per loop (mean ± std. dev. of 7 runs, 1 loop each)\n"
     ]
    }
   ],
   "source": [
    "print(empyrical.capture(returns['a'], benchmark_rets))\n",
    "%timeit empyrical.capture(big_returns[0], big_benchmark_rets)\n",
    "\n",
    "print(returns['a'].vbt.returns.capture(benchmark_rets))\n",
    "%timeit big_returns[0].vbt.returns.capture(big_benchmark_rets)\n",
    "\n",
    "print(returns.vbt.returns.capture(benchmark_rets))\n",
    "%timeit big_returns.vbt.returns.capture(big_benchmark_rets)"
   ]
  },
  {
   "cell_type": "code",
   "execution_count": 29,
   "metadata": {},
   "outputs": [
    {
     "name": "stdout",
     "output_type": "stream",
     "text": [
      "0.0019948153957327634\n",
      "1.19 ms ± 21.3 µs per loop (mean ± std. dev. of 7 runs, 1000 loops each)\n",
      "0.0019948153957327634\n",
      "315 µs ± 132 µs per loop (mean ± std. dev. of 7 runs, 1 loop each)\n",
      "a    1.994815e-03\n",
      "b   -1.839889e-47\n",
      "c    3.454480e-53\n",
      "Name: up_capture, dtype: float64\n",
      "6.89 ms ± 247 µs per loop (mean ± std. dev. of 7 runs, 1 loop each)\n"
     ]
    }
   ],
   "source": [
    "print(empyrical.up_capture(returns['a'], benchmark_rets))\n",
    "%timeit empyrical.up_capture(big_returns[0], big_benchmark_rets)\n",
    "\n",
    "print(returns['a'].vbt.returns.up_capture(benchmark_rets))\n",
    "%timeit big_returns[0].vbt.returns.up_capture(big_benchmark_rets)\n",
    "\n",
    "print(returns.vbt.returns.up_capture(benchmark_rets))\n",
    "%timeit big_returns.vbt.returns.up_capture(big_benchmark_rets)"
   ]
  },
  {
   "cell_type": "code",
   "execution_count": 30,
   "metadata": {},
   "outputs": [
    {
     "name": "stdout",
     "output_type": "stream",
     "text": [
      "nan\n",
      "1.2 ms ± 11.8 µs per loop (mean ± std. dev. of 7 runs, 1000 loops each)\n",
      "nan\n",
      "281 µs ± 115 µs per loop (mean ± std. dev. of 7 runs, 1 loop each)\n",
      "a   NaN\n",
      "b   NaN\n",
      "c   NaN\n",
      "Name: down_capture, dtype: float64\n",
      "6.87 ms ± 279 µs per loop (mean ± std. dev. of 7 runs, 1 loop each)\n"
     ]
    }
   ],
   "source": [
    "print(empyrical.down_capture(returns['a'], benchmark_rets))\n",
    "%timeit empyrical.down_capture(big_returns[0], big_benchmark_rets)\n",
    "\n",
    "print(returns['a'].vbt.returns.down_capture(benchmark_rets))\n",
    "%timeit big_returns[0].vbt.returns.down_capture(big_benchmark_rets)\n",
    "\n",
    "print(returns.vbt.returns.down_capture(benchmark_rets))\n",
    "%timeit big_returns.vbt.returns.down_capture(big_benchmark_rets)"
   ]
  },
  {
   "cell_type": "code",
   "execution_count": 31,
   "metadata": {},
   "outputs": [
    {
     "name": "stdout",
     "output_type": "stream",
     "text": [
      "              a    b         c\n",
      "2018-01-01  0.0  0.0  0.000000\n",
      "2018-01-02  0.0 -0.2  0.000000\n",
      "2018-01-03  0.0 -0.4  0.000000\n",
      "2018-01-04  0.0 -0.6 -0.333333\n",
      "2018-01-05  0.0 -0.8 -0.666667\n",
      "16.3 ms ± 1.37 ms per loop (mean ± std. dev. of 7 runs, 1 loop each)\n"
     ]
    }
   ],
   "source": [
    "print(returns.vbt.returns.drawdown())\n",
    "\n",
    "%timeit big_returns.vbt.returns.drawdown()"
   ]
  },
  {
   "cell_type": "code",
   "execution_count": 32,
   "metadata": {},
   "outputs": [
    {
     "name": "stdout",
     "output_type": "stream",
     "text": [
      "-0.7999999910593033\n",
      "83.4 µs ± 1.09 µs per loop (mean ± std. dev. of 7 runs, 10000 loops each)\n",
      "-0.7999999910593032\n",
      "86.3 µs ± 46.5 µs per loop (mean ± std. dev. of 7 runs, 1 loop each)\n",
      "a    0.000000\n",
      "b   -0.800000\n",
      "c   -0.666667\n",
      "Name: max_drawdown, dtype: float64\n",
      "11.2 ms ± 122 µs per loop (mean ± std. dev. of 7 runs, 100 loops each)\n"
     ]
    }
   ],
   "source": [
    "print(empyrical.max_drawdown(returns['b']))\n",
    "%timeit empyrical.max_drawdown(big_returns[0])\n",
    "\n",
    "print(returns['b'].vbt.returns.max_drawdown())\n",
    "%timeit big_returns[0].vbt.returns.max_drawdown()\n",
    "\n",
    "print(returns.vbt.returns.max_drawdown())\n",
    "%timeit big_returns.vbt.returns.max_drawdown()"
   ]
  },
  {
   "cell_type": "code",
   "execution_count": 33,
   "metadata": {},
   "outputs": [
    {
     "name": "stdout",
     "output_type": "stream",
     "text": [
      "<vectorbt.generic.drawdowns.Drawdowns object at 0x7fb5172c89b0>\n",
      "18.5 ms ± 278 µs per loop (mean ± std. dev. of 7 runs, 10 loops each)\n",
      "a    0.000000\n",
      "b   -0.800000\n",
      "c   -0.666667\n",
      "Name: max_drawdown, dtype: float64\n"
     ]
    }
   ],
   "source": [
    "print(returns.vbt.returns.drawdowns)\n",
    "%timeit big_returns.vbt.returns.drawdowns\n",
    "\n",
    "print(returns.vbt.returns.drawdowns.max_drawdown())"
   ]
  },
  {
   "cell_type": "code",
   "execution_count": 34,
   "metadata": {},
   "outputs": [
    {
     "name": "stdout",
     "output_type": "stream",
     "text": [
      "Start                    2018-01-01 00:00:00\n",
      "End                      2018-01-05 00:00:00\n",
      "Duration                     5 days 00:00:00\n",
      "Total Return [%]                         -80\n",
      "Benchmark Return [%]                  451.86\n",
      "Annual Return [%]                       -100\n",
      "Annual Volatility [%]                83.0587\n",
      "Sharpe Ratio                        -39.9384\n",
      "Calmar Ratio                           -1.25\n",
      "Max. Drawdown [%]                        -80\n",
      "Omega Ratio                                0\n",
      "Sortino Ratio                       -15.3234\n",
      "Skew                                -1.06537\n",
      "Kurtosis                            0.645216\n",
      "Tail Ratio                          0.436842\n",
      "Common Sense Ratio                         0\n",
      "Value at Risk                         -0.475\n",
      "Alpha                                     -1\n",
      "Beta                                0.252235\n",
      "Name: b, dtype: object\n",
      "5.66 ms ± 65.2 µs per loop (mean ± std. dev. of 7 runs, 100 loops each)\n",
      "       Start        End Duration  Total Return [%]  Benchmark Return [%]  \\\n",
      "a 2018-01-01 2018-01-05   5 days        400.000015             451.85973   \n",
      "b 2018-01-01 2018-01-05   5 days        -79.999999             451.85973   \n",
      "c 2018-01-01 2018-01-05   5 days          0.000003             451.85973   \n",
      "\n",
      "   Annual Return [%]  Annual Volatility [%]  Sharpe Ratio  Calmar Ratio  \\\n",
      "a       1.690787e+37             212.183825     24.139823           NaN   \n",
      "b      -1.000000e+02              83.058730    -39.938439     -1.250000   \n",
      "c       1.502038e-04             446.634067      3.517158      0.000002   \n",
      "\n",
      "   Max. Drawdown [%]  Omega Ratio  Sortino Ratio      Skew  Kurtosis  \\\n",
      "a           0.000000          inf            inf  1.469335  2.030769   \n",
      "b         -79.999999      0.00000     -15.323369 -1.065369  0.645216   \n",
      "c         -66.666666      1.79746       2.859808  0.366648 -3.438272   \n",
      "\n",
      "   Tail Ratio  Common Sense Ratio  Value at Risk         Alpha      Beta  \n",
      "a    3.523809        5.958011e+35         0.2625  2.153361e+07  0.785376  \n",
      "b    0.436842        0.000000e+00        -0.4750 -1.000000e+00  0.252235  \n",
      "c    1.947368        1.947371e+00        -0.4750 -1.000000e+00  1.547239  \n",
      "228 ms ± 3.85 ms per loop (mean ± std. dev. of 7 runs, 1 loop each)\n"
     ]
    }
   ],
   "source": [
    "print(returns['b'].vbt.returns.stats(benchmark_rets, levy_alpha=3., risk_free=0.01, required_return=0.1))\n",
    "%timeit big_returns[0].vbt.returns.stats(big_benchmark_rets, levy_alpha=3., risk_free=0.01, required_return=0.1)\n",
    "\n",
    "print(returns.vbt.returns.stats(benchmark_rets, levy_alpha=3., risk_free=0.01, required_return=0.1))\n",
    "%timeit big_returns.vbt.returns.stats(big_benchmark_rets, levy_alpha=3., risk_free=0.01, required_return=0.1)"
   ]
  },
  {
   "cell_type": "code",
   "execution_count": 35,
   "metadata": {},
   "outputs": [
    {
     "data": {
      "image/png": "[encoded data removed]"
     },
     "metadata": {},
     "output_type": "display_data"
    }
   ],
   "source": [
    "returns['a'].vbt.returns.plot_cum_returns(benchmark_rets).show_png()"
   ]
  },
  {
   "cell_type": "code",
   "execution_count": 36,
   "metadata": {},
   "outputs": [
    {
     "data": {
      "image/png": "[encoded data removed]"
     },
     "metadata": {},
     "output_type": "display_data"
    }
   ],
   "source": [
    "returns['a'].vbt.returns.plot_cum_returns(benchmark_rets, fill_to_benchmark=True).show_png()"
   ]
  },
  {
   "cell_type": "code",
   "execution_count": null,
   "metadata": {},
   "outputs": [],
   "source": []
  }
 ],
 "metadata": {
  "kernelspec": {
   "display_name": "Python 3",
   "language": "python",
   "name": "python3"
  },
  "language_info": {
   "codemirror_mode": {
    "name": "ipython",
    "version": 3
   },
   "file_extension": ".py",
   "mimetype": "text/x-python",
   "name": "python",
   "nbconvert_exporter": "python",
   "pygments_lexer": "ipython3",
   "version": "3.7.3"
  },
  "widgets": {
   "application/vnd.jupyter.widget-state+json": {
    "state": {},
    "version_major": 2,
    "version_minor": 0
   }
  }
 },
 "nbformat": 4,
 "nbformat_minor": 4
}
