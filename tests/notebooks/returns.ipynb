{
 "cells": [
  {
   "cell_type": "markdown",
   "metadata": {},
   "source": [
    "# returns"
   ]
  },
  {
   "cell_type": "code",
   "execution_count": 1,
   "metadata": {},
   "outputs": [],
   "source": [
    "import vectorbt as vbt"
   ]
  },
  {
   "cell_type": "code",
   "execution_count": 2,
   "metadata": {
    "Collapsed": "false"
   },
   "outputs": [
    {
     "name": "stderr",
     "output_type": "stream",
     "text": [
      "/Users/olegpolakow/miniconda3/lib/python3.7/site-packages/pandas_datareader/compat/__init__.py:7: FutureWarning: pandas.util.testing is deprecated. Use the functions in the public API at pandas.testing instead.\n",
      "  from pandas.util.testing import assert_frame_equal\n",
      "/Users/olegpolakow/miniconda3/lib/python3.7/site-packages/empyrical/utils.py:32: UserWarning: Unable to import pandas_datareader. Suppressing import error and continuing. All data reading functionality will raise errors; but has been deprecated and will be removed in a later version.\n",
      "  warnings.warn(msg)\n"
     ]
    }
   ],
   "source": [
    "import numpy as np\n",
    "import pandas as pd\n",
    "from datetime import datetime, timedelta\n",
    "from numba import njit, f8, i8, b1, optional\n",
    "import empyrical"
   ]
  },
  {
   "cell_type": "code",
   "execution_count": 7,
   "metadata": {},
   "outputs": [],
   "source": [
    "# Disable caching for performance testing\n",
    "vbt.defaults.caching = False"
   ]
  },
  {
   "cell_type": "code",
   "execution_count": 3,
   "metadata": {},
   "outputs": [
    {
     "name": "stdout",
     "output_type": "stream",
     "text": [
      "              a    b    c\n",
      "2018-01-01  1.0  5.0  1.0\n",
      "2018-01-02  2.0  4.0  2.0\n",
      "2018-01-03  3.0  3.0  3.0\n",
      "2018-01-04  4.0  2.0  2.0\n",
      "2018-01-05  5.0  1.0  1.0\n"
     ]
    }
   ],
   "source": [
    "index = pd.DatetimeIndex([\n",
    "    datetime(2018, 1, 1),\n",
    "    datetime(2018, 1, 2),\n",
    "    datetime(2018, 1, 3),\n",
    "    datetime(2018, 1, 4),\n",
    "    datetime(2018, 1, 5)\n",
    "], freq='D')\n",
    "columns = ['a', 'b', 'c']\n",
    "ts = pd.DataFrame({\n",
    "    'a': [1, 2, 3, 4, 5], \n",
    "    'b': [5, 4, 3, 2, 1],\n",
    "    'c': [1, 2, 3, 2, 1]\n",
    "}, index=index).astype(np.float32)\n",
    "\n",
    "print(ts)"
   ]
  },
  {
   "cell_type": "code",
   "execution_count": 4,
   "metadata": {},
   "outputs": [
    {
     "data": {
      "text/plain": [
       "(1000, 1000)"
      ]
     },
     "execution_count": 4,
     "metadata": {},
     "output_type": "execute_result"
    }
   ],
   "source": [
    "big_ts = pd.DataFrame(np.random.randint(10, size=(1000, 1000)).astype(float))\n",
    "big_ts.index = [datetime(2018, 1, 1) + timedelta(days=i) for i in range(1000)]\n",
    "big_ts.shape"
   ]
  },
  {
   "cell_type": "code",
   "execution_count": 5,
   "metadata": {},
   "outputs": [
    {
     "name": "stdout",
     "output_type": "stream",
     "text": [
      "                   a         b         c\n",
      "2018-01-01       NaN       NaN       NaN\n",
      "2018-01-02  1.000000 -0.200000  1.000000\n",
      "2018-01-03  0.500000 -0.250000  0.500000\n",
      "2018-01-04  0.333333 -0.333333 -0.333333\n",
      "2018-01-05  0.250000 -0.500000 -0.500000\n"
     ]
    }
   ],
   "source": [
    "returns = ts.vbt.pct_change()\n",
    "print(returns)\n",
    "\n",
    "big_returns = big_ts.vbt.pct_change()"
   ]
  },
  {
   "cell_type": "code",
   "execution_count": 6,
   "metadata": {},
   "outputs": [
    {
     "name": "stdout",
     "output_type": "stream",
     "text": [
      "365 days 00:00:00\n",
      "365 days 00:00:00\n",
      "252 days 00:00:00\n",
      "252 days 00:00:00\n"
     ]
    }
   ],
   "source": [
    "# Test year frequency\n",
    "print(returns.vbt.returns.year_freq)\n",
    "print(returns['a'].vbt.returns.year_freq)\n",
    "print(returns.vbt.returns(year_freq='252 days').year_freq)\n",
    "print(returns['a'].vbt.returns(year_freq='252 days').year_freq)"
   ]
  },
  {
   "cell_type": "code",
   "execution_count": 7,
   "metadata": {},
   "outputs": [
    {
     "name": "stdout",
     "output_type": "stream",
     "text": [
      "365.0\n",
      "252.0\n"
     ]
    }
   ],
   "source": [
    "print(returns.vbt.returns.ann_factor) # default\n",
    "print(returns.vbt.returns(year_freq='252 days').ann_factor)"
   ]
  },
  {
   "cell_type": "code",
   "execution_count": 8,
   "metadata": {},
   "outputs": [
    {
     "name": "stdout",
     "output_type": "stream",
     "text": [
      "2018-01-01         NaN\n",
      "2018-01-02    1.000000\n",
      "2018-01-03    0.500000\n",
      "2018-01-04    0.333333\n",
      "2018-01-05    0.250000\n",
      "Freq: D, Name: a, dtype: float64\n",
      "                   a         b         c\n",
      "2018-01-01       NaN       NaN       NaN\n",
      "2018-01-02  1.000000 -0.200000  1.000000\n",
      "2018-01-03  0.500000 -0.250000  0.500000\n",
      "2018-01-04  0.333333 -0.333333 -0.333333\n",
      "2018-01-05  0.250000 -0.500000 -0.500000\n",
      "8.97 µs ± 1.14 µs per loop (mean ± std. dev. of 7 runs, 100000 loops each)\n"
     ]
    }
   ],
   "source": [
    "print(returns['a'].vbt.returns.daily()) # already daily, do nothing\n",
    "print(returns.vbt.returns.daily())\n",
    "\n",
    "%timeit big_returns.vbt.returns.daily()"
   ]
  },
  {
   "cell_type": "code",
   "execution_count": 9,
   "metadata": {},
   "outputs": [
    {
     "name": "stdout",
     "output_type": "stream",
     "text": [
      "2018-01-01    4.0\n",
      "Freq: 365D, Name: a, dtype: float64\n",
      "              a    b             c\n",
      "2018-01-01  4.0 -0.8  2.980232e-08\n",
      "10.6 ms ± 394 µs per loop (mean ± std. dev. of 7 runs, 100 loops each)\n"
     ]
    }
   ],
   "source": [
    "print(returns['a'].vbt.returns.annual())\n",
    "print(returns.vbt.returns.annual())\n",
    "\n",
    "%timeit big_returns.vbt.returns.annual()"
   ]
  },
  {
   "cell_type": "code",
   "execution_count": 10,
   "metadata": {},
   "outputs": [
    {
     "name": "stdout",
     "output_type": "stream",
     "text": [
      "2018-01-01    0.0\n",
      "2018-01-02    1.0\n",
      "2018-01-03    2.0\n",
      "2018-01-04    3.0\n",
      "2018-01-05    4.0\n",
      "Freq: D, dtype: float64\n",
      "1.18 ms ± 48.9 µs per loop (mean ± std. dev. of 7 runs, 1000 loops each)\n",
      "2018-01-01    0.0\n",
      "2018-01-02    1.0\n",
      "2018-01-03    2.0\n",
      "2018-01-04    3.0\n",
      "2018-01-05    4.0\n",
      "Freq: D, Name: a, dtype: float64\n",
      "283 µs ± 90.6 µs per loop (mean ± std. dev. of 7 runs, 1 loop each)\n",
      "              a    b             c\n",
      "2018-01-01  0.0  0.0  0.000000e+00\n",
      "2018-01-02  1.0 -0.2  1.000000e+00\n",
      "2018-01-03  2.0 -0.4  2.000000e+00\n",
      "2018-01-04  3.0 -0.6  1.000000e+00\n",
      "2018-01-05  4.0 -0.8  2.980232e-08\n",
      "              a    b    c\n",
      "2018-01-01  1.0  1.0  1.0\n",
      "2018-01-02  2.0  0.8  2.0\n",
      "2018-01-03  3.0  0.6  3.0\n",
      "2018-01-04  4.0  0.4  2.0\n",
      "2018-01-05  5.0  0.2  1.0\n",
      "              a    b    c\n",
      "2018-01-01  1.0  2.0  3.0\n",
      "2018-01-02  2.0  1.6  6.0\n",
      "2018-01-03  3.0  1.2  9.0\n",
      "2018-01-04  4.0  0.8  6.0\n",
      "2018-01-05  5.0  0.4  3.0\n",
      "14.2 ms ± 393 µs per loop (mean ± std. dev. of 7 runs, 100 loops each)\n"
     ]
    }
   ],
   "source": [
    "print(empyrical.cum_returns(returns['a']))\n",
    "%timeit empyrical.cum_returns(big_returns[0])\n",
    "\n",
    "print(returns['a'].vbt.returns.cumulative())\n",
    "%timeit big_returns[0].vbt.returns.cumulative()\n",
    "\n",
    "print(returns.vbt.returns.cumulative())\n",
    "print(returns.vbt.returns.cumulative(start_value=1))\n",
    "print(returns.vbt.returns.cumulative(start_value=[1, 2, 3])) # also accepts array\n",
    "%timeit big_returns.vbt.returns.cumulative()"
   ]
  },
  {
   "cell_type": "code",
   "execution_count": 11,
   "metadata": {},
   "outputs": [
    {
     "name": "stdout",
     "output_type": "stream",
     "text": [
      "4.000000149011612\n"
     ]
    },
    {
     "name": "stderr",
     "output_type": "stream",
     "text": [
      "/Users/olegpolakow/miniconda3/lib/python3.7/site-packages/numpy/core/fromnumeric.py:90: RuntimeWarning: invalid value encountered in reduce\n",
      "  return ufunc.reduce(obj, axis, dtype, out, **passkwargs)\n"
     ]
    },
    {
     "name": "stdout",
     "output_type": "stream",
     "text": [
      "314 µs ± 7.8 µs per loop (mean ± std. dev. of 7 runs, 1000 loops each)\n",
      "4.000000149011612\n",
      "191 µs ± 89.3 µs per loop (mean ± std. dev. of 7 runs, 1 loop each)\n",
      "a    4.000000e+00\n",
      "b   -8.000000e-01\n",
      "c    2.980232e-08\n",
      "dtype: float64\n",
      "4.53 ms ± 52.8 µs per loop (mean ± std. dev. of 7 runs, 100 loops each)\n"
     ]
    }
   ],
   "source": [
    "print(empyrical.cum_returns_final(returns['a']))\n",
    "%timeit empyrical.cum_returns_final(big_returns[0])\n",
    "\n",
    "print(returns['a'].vbt.returns.total())\n",
    "%timeit big_returns[0].vbt.returns.total()\n",
    "\n",
    "print(returns.vbt.returns.total())\n",
    "%timeit big_returns.vbt.returns.total()"
   ]
  },
  {
   "cell_type": "code",
   "execution_count": 12,
   "metadata": {},
   "outputs": [],
   "source": [
    "vbt.defaults.returns['year_freq'] = '252 days' # same as empyrical"
   ]
  },
  {
   "cell_type": "code",
   "execution_count": 13,
   "metadata": {},
   "outputs": [
    {
     "name": "stdout",
     "output_type": "stream",
     "text": [
      "1.690786886567203e+35\n"
     ]
    },
    {
     "name": "stderr",
     "output_type": "stream",
     "text": [
      "/Users/olegpolakow/miniconda3/lib/python3.7/site-packages/numpy/core/fromnumeric.py:90: RuntimeWarning: invalid value encountered in reduce\n",
      "  return ufunc.reduce(obj, axis, dtype, out, **passkwargs)\n"
     ]
    },
    {
     "name": "stdout",
     "output_type": "stream",
     "text": [
      "311 µs ± 5.26 µs per loop (mean ± std. dev. of 7 runs, 1000 loops each)\n",
      "1.6907868865671834e+35\n",
      "119 µs ± 6.7 µs per loop (mean ± std. dev. of 7 runs, 10000 loops each)\n",
      "a    1.690787e+35\n",
      "b   -1.000000e+00\n",
      "c    1.502038e-06\n",
      "dtype: float64\n",
      "4.63 ms ± 72.2 µs per loop (mean ± std. dev. of 7 runs, 100 loops each)\n"
     ]
    }
   ],
   "source": [
    "print(empyrical.annual_return(returns['a']))\n",
    "%timeit empyrical.annual_return(big_returns[0])\n",
    "\n",
    "print(returns['a'].vbt.returns.annualized())\n",
    "%timeit big_returns[0].vbt.returns.annualized()\n",
    "\n",
    "print(returns.vbt.returns.annualized())\n",
    "%timeit big_returns.vbt.returns.annualized()"
   ]
  },
  {
   "cell_type": "code",
   "execution_count": 14,
   "metadata": {},
   "outputs": [
    {
     "name": "stdout",
     "output_type": "stream",
     "text": [
      "2.121838249438074\n",
      "71.1 µs ± 1.54 µs per loop (mean ± std. dev. of 7 runs, 10000 loops each)\n",
      "2.121838249438074\n",
      "179 µs ± 73.2 µs per loop (mean ± std. dev. of 7 runs, 1 loop each)\n",
      "a    2.121838\n",
      "b    0.830587\n",
      "c    4.466341\n",
      "dtype: float64\n",
      "a    84.653704\n",
      "b     2.087463\n",
      "c     4.466341\n",
      "dtype: float64\n",
      "7.26 ms ± 292 µs per loop (mean ± std. dev. of 7 runs, 100 loops each)\n"
     ]
    }
   ],
   "source": [
    "print(empyrical.annual_volatility(returns['a'], alpha=3.))\n",
    "%timeit empyrical.annual_volatility(big_returns[0], alpha=3.)\n",
    "\n",
    "print(returns['a'].vbt.returns.annualized_volatility(levy_alpha=3.))\n",
    "%timeit big_returns[0].vbt.returns.annualized_volatility(levy_alpha=3.)\n",
    "\n",
    "print(returns.vbt.returns.annualized_volatility(levy_alpha=3.))\n",
    "print(returns.vbt.returns.annualized_volatility(levy_alpha=[1, 2, 3]))\n",
    "%timeit big_returns.vbt.returns.annualized_volatility(levy_alpha=3.)"
   ]
  },
  {
   "cell_type": "code",
   "execution_count": 15,
   "metadata": {},
   "outputs": [
    {
     "name": "stdout",
     "output_type": "stream",
     "text": [
      "-1.2500000139698388\n"
     ]
    },
    {
     "name": "stderr",
     "output_type": "stream",
     "text": [
      "/Users/olegpolakow/miniconda3/lib/python3.7/site-packages/numpy/core/fromnumeric.py:90: RuntimeWarning: invalid value encountered in reduce\n",
      "  return ufunc.reduce(obj, axis, dtype, out, **passkwargs)\n"
     ]
    },
    {
     "name": "stdout",
     "output_type": "stream",
     "text": [
      "513 µs ± 15.5 µs per loop (mean ± std. dev. of 7 runs, 1000 loops each)\n",
      "-1.2500000139698388\n",
      "The slowest run took 4.57 times longer than the fastest. This could mean that an intermediate result is being cached.\n",
      "212 µs ± 155 µs per loop (mean ± std. dev. of 7 runs, 1 loop each)\n",
      "a         NaN\n",
      "b   -1.250000\n",
      "c    0.000002\n",
      "dtype: float64\n",
      "15.4 ms ± 271 µs per loop (mean ± std. dev. of 7 runs, 100 loops each)\n"
     ]
    }
   ],
   "source": [
    "print(empyrical.calmar_ratio(returns['b']))\n",
    "%timeit empyrical.calmar_ratio(big_returns[0])\n",
    "\n",
    "print(returns['b'].vbt.returns.calmar_ratio())\n",
    "%timeit big_returns[0].vbt.returns.calmar_ratio()\n",
    "\n",
    "print(returns.vbt.returns.calmar_ratio())\n",
    "%timeit big_returns.vbt.returns.calmar_ratio()"
   ]
  },
  {
   "cell_type": "code",
   "execution_count": 16,
   "metadata": {},
   "outputs": [
    {
     "name": "stdout",
     "output_type": "stream",
     "text": [
      "1.7319528661672228\n",
      "1.72 ms ± 53.1 µs per loop (mean ± std. dev. of 7 runs, 1000 loops each)\n",
      "1.7319528661672228\n",
      "195 µs ± 75 µs per loop (mean ± std. dev. of 7 runs, 1 loop each)\n",
      "a         inf\n",
      "b    0.000000\n",
      "c    1.731953\n",
      "dtype: float64\n",
      "a        inf\n",
      "b    0.00000\n",
      "c    1.60973\n",
      "dtype: float64\n",
      "a         inf\n",
      "b    0.000000\n",
      "c    1.727716\n",
      "dtype: float64\n",
      "15.9 ms ± 2.89 ms per loop (mean ± std. dev. of 7 runs, 100 loops each)\n"
     ]
    }
   ],
   "source": [
    "print(empyrical.omega_ratio(returns['c'], risk_free=0.01, required_return=0.1))\n",
    "%timeit empyrical.omega_ratio(big_returns[0], risk_free=0.01, required_return=0.1)\n",
    "\n",
    "print(returns['c'].vbt.returns.omega_ratio(risk_free=0.01, required_return=0.1))\n",
    "%timeit big_returns[0].vbt.returns.omega_ratio(risk_free=0.01, required_return=0.1)\n",
    "\n",
    "print(returns.vbt.returns.omega_ratio(risk_free=0.01, required_return=0.1))\n",
    "print(returns.vbt.returns.omega_ratio(risk_free=[0.01, 0.02, 0.03], required_return=0.1))\n",
    "print(returns.vbt.returns.omega_ratio(risk_free=0.01, required_return=[0.1, 0.2, 0.3]))\n",
    "%timeit big_returns.vbt.returns.omega_ratio(risk_free=0.01, required_return=0.1)"
   ]
  },
  {
   "cell_type": "code",
   "execution_count": 17,
   "metadata": {},
   "outputs": [
    {
     "name": "stdout",
     "output_type": "stream",
     "text": [
      "24.139822936194918\n",
      "512 µs ± 179 µs per loop (mean ± std. dev. of 7 runs, 1000 loops each)\n",
      "24.139822936194918\n",
      "191 µs ± 98.4 µs per loop (mean ± std. dev. of 7 runs, 1 loop each)\n",
      "a    24.139823\n",
      "b   -39.938439\n",
      "c     3.517158\n",
      "dtype: float64\n",
      "a    24.139823\n",
      "b   -41.145646\n",
      "c     3.068159\n",
      "dtype: float64\n",
      "8.78 ms ± 116 µs per loop (mean ± std. dev. of 7 runs, 100 loops each)\n"
     ]
    }
   ],
   "source": [
    "print(empyrical.sharpe_ratio(returns['a'], risk_free=0.01))\n",
    "%timeit empyrical.sharpe_ratio(big_returns[0], risk_free=0.01)\n",
    "\n",
    "print(returns['a'].vbt.returns.sharpe_ratio(risk_free=0.01))\n",
    "%timeit big_returns[0].vbt.returns.sharpe_ratio(risk_free=0.01)\n",
    "\n",
    "print(returns.vbt.returns.sharpe_ratio(risk_free=0.01))\n",
    "print(returns.vbt.returns.sharpe_ratio(risk_free=[0.01, 0.02, 0.03]))\n",
    "%timeit big_returns.vbt.returns.sharpe_ratio(risk_free=0.01)"
   ]
  },
  {
   "cell_type": "code",
   "execution_count": 18,
   "metadata": {},
   "outputs": [
    {
     "name": "stdout",
     "output_type": "stream",
     "text": [
      "6.920801865722236\n",
      "177 µs ± 53 µs per loop (mean ± std. dev. of 7 runs, 10000 loops each)\n",
      "6.920801865722236\n",
      "242 µs ± 118 µs per loop (mean ± std. dev. of 7 runs, 1 loop each)\n",
      "a    0.000000\n",
      "b    6.920802\n",
      "c    5.874521\n",
      "dtype: float64\n",
      "a    0.000000\n",
      "b    8.463303\n",
      "c    8.098765\n",
      "dtype: float64\n",
      "9.39 ms ± 228 µs per loop (mean ± std. dev. of 7 runs, 100 loops each)\n"
     ]
    }
   ],
   "source": [
    "print(empyrical.downside_risk(returns['b'], required_return=0.1))\n",
    "%timeit empyrical.downside_risk(big_returns[0], required_return=0.1)\n",
    "\n",
    "print(returns['b'].vbt.returns.downside_risk(required_return=0.1))\n",
    "%timeit big_returns[0].vbt.returns.downside_risk(required_return=0.1)\n",
    "\n",
    "print(returns.vbt.returns.downside_risk(required_return=0.1))\n",
    "print(returns.vbt.returns.downside_risk(required_return=[0.1, 0.2, 0.3]))\n",
    "%timeit big_returns.vbt.returns.downside_risk(required_return=0.1)"
   ]
  },
  {
   "cell_type": "code",
   "execution_count": 19,
   "metadata": {},
   "outputs": [
    {
     "name": "stdout",
     "output_type": "stream",
     "text": [
      "-15.32336860018125\n",
      "415 µs ± 7.86 µs per loop (mean ± std. dev. of 7 runs, 1000 loops each)\n",
      "-15.32336860018125\n",
      "The slowest run took 5.66 times longer than the fastest. This could mean that an intermediate result is being cached.\n",
      "263 µs ± 230 µs per loop (mean ± std. dev. of 7 runs, 1 loop each)\n",
      "a          inf\n",
      "b   -15.323369\n",
      "c     2.859808\n",
      "dtype: float64\n",
      "a          inf\n",
      "b   -15.508129\n",
      "c    -4.148780\n",
      "dtype: float64\n",
      "12.4 ms ± 243 µs per loop (mean ± std. dev. of 7 runs, 100 loops each)\n"
     ]
    }
   ],
   "source": [
    "print(empyrical.sortino_ratio(returns['b'], required_return=0.1))\n",
    "%timeit empyrical.sortino_ratio(big_returns[0], required_return=0.1)\n",
    "\n",
    "print(returns['b'].vbt.returns.sortino_ratio(required_return=0.1))\n",
    "%timeit big_returns[0].vbt.returns.sortino_ratio(required_return=0.1)\n",
    "\n",
    "print(returns.vbt.returns.sortino_ratio(required_return=0.1))\n",
    "print(returns.vbt.returns.sortino_ratio(required_return=[0.1, 0.2, 0.3]))\n",
    "%timeit big_returns.vbt.returns.sortino_ratio(required_return=0.1)"
   ]
  },
  {
   "cell_type": "code",
   "execution_count": 20,
   "metadata": {},
   "outputs": [],
   "source": [
    "factor_returns = returns['a'] * np.random.uniform(0.8, 1.2, returns.shape[0])\n",
    "big_factor_returns = big_returns[0] * np.random.uniform(0.8, 1.2, big_returns.shape[0])"
   ]
  },
  {
   "cell_type": "code",
   "execution_count": 21,
   "metadata": {},
   "outputs": [
    {
     "name": "stdout",
     "output_type": "stream",
     "text": [
      "-0.5297150189442545\n",
      "833 µs ± 37.4 µs per loop (mean ± std. dev. of 7 runs, 1000 loops each)\n",
      "-0.5297150189442545\n",
      "305 µs ± 88.2 µs per loop (mean ± std. dev. of 7 runs, 1 loop each)\n",
      "a   -0.529715\n",
      "b   -3.042275\n",
      "c   -1.041734\n",
      "dtype: float64\n",
      "9.13 ms ± 105 µs per loop (mean ± std. dev. of 7 runs, 100 loops each)\n"
     ]
    }
   ],
   "source": [
    "print(empyrical.excess_sharpe(returns['a'], factor_returns))\n",
    "%timeit empyrical.excess_sharpe(big_returns[0], factor_returns)\n",
    "\n",
    "print(returns['a'].vbt.returns.information_ratio(factor_returns)) # will broadcast\n",
    "%timeit big_returns[0].vbt.returns.information_ratio(big_factor_returns)\n",
    "\n",
    "print(returns.vbt.returns.information_ratio(factor_returns))\n",
    "%timeit big_returns.vbt.returns.information_ratio(big_factor_returns)"
   ]
  },
  {
   "cell_type": "code",
   "execution_count": 22,
   "metadata": {},
   "outputs": [
    {
     "name": "stdout",
     "output_type": "stream",
     "text": [
      "0.8848199490327197\n",
      "2.4 ms ± 31.5 µs per loop (mean ± std. dev. of 7 runs, 100 loops each)\n",
      "0.8848199490327197\n",
      "246 µs ± 70.3 µs per loop (mean ± std. dev. of 7 runs, 1 loop each)\n",
      "a    0.884820\n",
      "b    0.268729\n",
      "c    1.778061\n",
      "dtype: float64\n",
      "12.4 ms ± 228 µs per loop (mean ± std. dev. of 7 runs, 100 loops each)\n"
     ]
    }
   ],
   "source": [
    "print(empyrical.beta(returns['a'], factor_returns))\n",
    "%timeit empyrical.beta(big_returns[0], factor_returns)\n",
    "\n",
    "print(returns['a'].vbt.returns.beta(factor_returns))\n",
    "%timeit big_returns[0].vbt.returns.beta(big_factor_returns)\n",
    "\n",
    "print(returns.vbt.returns.beta(factor_returns))\n",
    "%timeit big_returns.vbt.returns.beta(big_factor_returns)"
   ]
  },
  {
   "cell_type": "code",
   "execution_count": 23,
   "metadata": {},
   "outputs": [
    {
     "name": "stdout",
     "output_type": "stream",
     "text": [
      "1452.6731735028388\n",
      "3.3 ms ± 49.9 µs per loop (mean ± std. dev. of 7 runs, 100 loops each)\n",
      "1452.6731735028388\n",
      "The slowest run took 4.08 times longer than the fastest. This could mean that an intermediate result is being cached.\n",
      "422 µs ± 301 µs per loop (mean ± std. dev. of 7 runs, 1 loop each)\n",
      "a    1452.673174\n",
      "b      -1.000000\n",
      "c      -1.000000\n",
      "dtype: float64\n",
      "a    1452.673174\n",
      "b      -1.000000\n",
      "c      -1.000000\n",
      "dtype: float64\n",
      "17 ms ± 497 µs per loop (mean ± std. dev. of 7 runs, 100 loops each)\n"
     ]
    }
   ],
   "source": [
    "print(empyrical.alpha(returns['a'], factor_returns, risk_free=0.01))\n",
    "%timeit empyrical.alpha(big_returns[0], factor_returns, risk_free=0.01)\n",
    "\n",
    "print(returns['a'].vbt.returns.alpha(factor_returns, risk_free=0.01))\n",
    "%timeit big_returns[0].vbt.returns.alpha(big_factor_returns, risk_free=0.01)\n",
    "\n",
    "print(returns.vbt.returns.alpha(factor_returns, risk_free=0.01))\n",
    "print(returns.vbt.returns.alpha(factor_returns, risk_free=[0.01, 0.02, 0.03]))\n",
    "%timeit big_returns.vbt.returns.alpha(big_factor_returns, risk_free=0.01)"
   ]
  },
  {
   "cell_type": "code",
   "execution_count": 24,
   "metadata": {},
   "outputs": [
    {
     "name": "stdout",
     "output_type": "stream",
     "text": [
      "3.5238094437960337\n",
      "390 µs ± 5.9 µs per loop (mean ± std. dev. of 7 runs, 1000 loops each)\n",
      "3.5238094437960337\n",
      "141 µs ± 60.2 µs per loop (mean ± std. dev. of 7 runs, 1 loop each)\n",
      "a    3.523809\n",
      "b    0.436842\n",
      "c    1.947368\n",
      "dtype: float64\n",
      "32.6 ms ± 357 µs per loop (mean ± std. dev. of 7 runs, 10 loops each)\n"
     ]
    }
   ],
   "source": [
    "print(empyrical.tail_ratio(returns['a']))\n",
    "%timeit empyrical.tail_ratio(big_returns[0])\n",
    "\n",
    "print(returns['a'].vbt.returns.tail_ratio())\n",
    "%timeit big_returns[0].vbt.returns.tail_ratio()\n",
    "\n",
    "print(returns.vbt.returns.tail_ratio())\n",
    "%timeit big_returns.vbt.returns.tail_ratio()"
   ]
  },
  {
   "cell_type": "code",
   "execution_count": 25,
   "metadata": {},
   "outputs": [
    {
     "name": "stdout",
     "output_type": "stream",
     "text": [
      "0.26250000596046447\n",
      "220 µs ± 3.06 µs per loop (mean ± std. dev. of 7 runs, 1000 loops each)\n",
      "0.26250000596046447\n",
      "The slowest run took 4.82 times longer than the fastest. This could mean that an intermediate result is being cached.\n",
      "199 µs ± 142 µs per loop (mean ± std. dev. of 7 runs, 1 loop each)\n",
      "a    0.2625\n",
      "b   -0.4750\n",
      "c   -0.4750\n",
      "dtype: float64\n",
      "a    0.2625\n",
      "b   -0.4700\n",
      "c   -0.4650\n",
      "dtype: float64\n",
      "19.2 ms ± 649 µs per loop (mean ± std. dev. of 7 runs, 100 loops each)\n"
     ]
    }
   ],
   "source": [
    "print(empyrical.value_at_risk(returns.iloc[1:]['a'], cutoff=0.05))\n",
    "%timeit empyrical.value_at_risk(big_returns[0], cutoff=0.05)\n",
    "\n",
    "print(returns['a'].vbt.returns.value_at_risk(cutoff=0.05))\n",
    "%timeit big_returns[0].vbt.returns.value_at_risk(cutoff=0.05)\n",
    "\n",
    "print(returns.vbt.returns.value_at_risk(cutoff=0.05))\n",
    "print(returns.vbt.returns.value_at_risk(cutoff=[0.05, 0.06, 0.07]))\n",
    "%timeit big_returns.vbt.returns.value_at_risk(cutoff=0.05)"
   ]
  },
  {
   "cell_type": "code",
   "execution_count": 26,
   "metadata": {},
   "outputs": [
    {
     "name": "stdout",
     "output_type": "stream",
     "text": [
      "0.25\n",
      "88.9 µs ± 4.71 µs per loop (mean ± std. dev. of 7 runs, 10000 loops each)\n",
      "0.25\n",
      "194 µs ± 94.2 µs per loop (mean ± std. dev. of 7 runs, 1 loop each)\n",
      "a    0.25\n",
      "b   -0.50\n",
      "c   -0.50\n",
      "dtype: float64\n",
      "a    0.25\n",
      "b   -0.50\n",
      "c   -0.50\n",
      "dtype: float64\n",
      "17.8 ms ± 460 µs per loop (mean ± std. dev. of 7 runs, 100 loops each)\n"
     ]
    }
   ],
   "source": [
    "print(empyrical.conditional_value_at_risk(returns.iloc[1:]['a'], cutoff=0.05))\n",
    "%timeit empyrical.conditional_value_at_risk(big_returns[0], cutoff=0.05)\n",
    "\n",
    "print(returns['a'].vbt.returns.conditional_value_at_risk(cutoff=0.05))\n",
    "%timeit big_returns[0].vbt.returns.conditional_value_at_risk(cutoff=0.05)\n",
    "\n",
    "print(returns.vbt.returns.conditional_value_at_risk(cutoff=0.05))\n",
    "print(returns.vbt.returns.conditional_value_at_risk(cutoff=[0.05, 0.06, 0.07]))\n",
    "%timeit big_returns.vbt.returns.conditional_value_at_risk(cutoff=0.05)"
   ]
  },
  {
   "cell_type": "code",
   "execution_count": 27,
   "metadata": {},
   "outputs": [
    {
     "name": "stdout",
     "output_type": "stream",
     "text": [
      "0.025115687469450323\n"
     ]
    },
    {
     "name": "stderr",
     "output_type": "stream",
     "text": [
      "/Users/olegpolakow/miniconda3/lib/python3.7/site-packages/numpy/core/fromnumeric.py:90: RuntimeWarning: invalid value encountered in reduce\n",
      "  return ufunc.reduce(obj, axis, dtype, out, **passkwargs)\n"
     ]
    },
    {
     "name": "stdout",
     "output_type": "stream",
     "text": [
      "584 µs ± 10.5 µs per loop (mean ± std. dev. of 7 runs, 1000 loops each)\n",
      "0.025115687469450334\n",
      "398 µs ± 166 µs per loop (mean ± std. dev. of 7 runs, 1 loop each)\n",
      "a    2.511569e-02\n",
      "b   -1.485444e-37\n",
      "c    2.231193e-43\n",
      "dtype: float64\n",
      "7.15 ms ± 119 µs per loop (mean ± std. dev. of 7 runs, 100 loops each)\n"
     ]
    }
   ],
   "source": [
    "print(empyrical.capture(returns['a'], factor_returns))\n",
    "%timeit empyrical.capture(big_returns[0], big_factor_returns)\n",
    "\n",
    "print(returns['a'].vbt.returns.capture(factor_returns))\n",
    "%timeit big_returns[0].vbt.returns.capture(big_factor_returns)\n",
    "\n",
    "print(returns.vbt.returns.capture(factor_returns))\n",
    "%timeit big_returns.vbt.returns.capture(big_factor_returns)"
   ]
  },
  {
   "cell_type": "code",
   "execution_count": 28,
   "metadata": {},
   "outputs": [
    {
     "name": "stdout",
     "output_type": "stream",
     "text": [
      "0.009998419118704435\n"
     ]
    },
    {
     "name": "stderr",
     "output_type": "stream",
     "text": [
      "/Users/olegpolakow/miniconda3/lib/python3.7/site-packages/empyrical/stats.py:1561: RuntimeWarning: invalid value encountered in double_scalars\n",
      "  annual_return(factor_returns, period=period))\n"
     ]
    },
    {
     "name": "stdout",
     "output_type": "stream",
     "text": [
      "1.8 ms ± 34.7 µs per loop (mean ± std. dev. of 7 runs, 1000 loops each)\n",
      "0.009998419118704435\n",
      "329 µs ± 102 µs per loop (mean ± std. dev. of 7 runs, 1 loop each)\n",
      "a    9.998419e-03\n",
      "b   -9.221897e-47\n",
      "c    1.731455e-52\n",
      "dtype: float64\n",
      "7.7 ms ± 364 µs per loop (mean ± std. dev. of 7 runs, 100 loops each)\n"
     ]
    }
   ],
   "source": [
    "print(empyrical.up_capture(returns['a'], factor_returns))\n",
    "%timeit empyrical.up_capture(big_returns[0], big_factor_returns)\n",
    "\n",
    "print(returns['a'].vbt.returns.up_capture(factor_returns))\n",
    "%timeit big_returns[0].vbt.returns.up_capture(big_factor_returns)\n",
    "\n",
    "print(returns.vbt.returns.up_capture(factor_returns))\n",
    "%timeit big_returns.vbt.returns.up_capture(big_factor_returns)"
   ]
  },
  {
   "cell_type": "code",
   "execution_count": 29,
   "metadata": {},
   "outputs": [
    {
     "name": "stdout",
     "output_type": "stream",
     "text": [
      "nan\n"
     ]
    },
    {
     "name": "stderr",
     "output_type": "stream",
     "text": [
      "/Users/olegpolakow/miniconda3/lib/python3.7/site-packages/empyrical/stats.py:445: RuntimeWarning: invalid value encountered in double_scalars\n",
      "  return ending_value ** (1 / num_years) - 1\n"
     ]
    },
    {
     "name": "stdout",
     "output_type": "stream",
     "text": [
      "1.9 ms ± 76.5 µs per loop (mean ± std. dev. of 7 runs, 100 loops each)\n",
      "nan\n",
      "331 µs ± 77.1 µs per loop (mean ± std. dev. of 7 runs, 1 loop each)\n",
      "a   NaN\n",
      "b   NaN\n",
      "c   NaN\n",
      "dtype: float64\n",
      "8.24 ms ± 168 µs per loop (mean ± std. dev. of 7 runs, 100 loops each)\n"
     ]
    }
   ],
   "source": [
    "print(empyrical.down_capture(returns['a'], factor_returns))\n",
    "%timeit empyrical.down_capture(big_returns[0], big_factor_returns)\n",
    "\n",
    "print(returns['a'].vbt.returns.down_capture(factor_returns))\n",
    "%timeit big_returns[0].vbt.returns.down_capture(big_factor_returns)\n",
    "\n",
    "print(returns.vbt.returns.down_capture(factor_returns))\n",
    "%timeit big_returns.vbt.returns.down_capture(big_factor_returns)"
   ]
  },
  {
   "cell_type": "code",
   "execution_count": 30,
   "metadata": {},
   "outputs": [
    {
     "name": "stdout",
     "output_type": "stream",
     "text": [
      "              a    b         c\n",
      "2018-01-01  0.0  0.0  0.000000\n",
      "2018-01-02  0.0 -0.2  0.000000\n",
      "2018-01-03  0.0 -0.4  0.000000\n",
      "2018-01-04  0.0 -0.6 -0.333333\n",
      "2018-01-05  0.0 -0.8 -0.666667\n",
      "17.9 ms ± 370 µs per loop (mean ± std. dev. of 7 runs, 100 loops each)\n"
     ]
    }
   ],
   "source": [
    "print(returns.vbt.returns.drawdown())\n",
    "\n",
    "%timeit big_returns.vbt.returns.drawdown()"
   ]
  },
  {
   "cell_type": "code",
   "execution_count": 31,
   "metadata": {},
   "outputs": [
    {
     "name": "stdout",
     "output_type": "stream",
     "text": [
      "-0.7999999910593033\n",
      "131 µs ± 3.66 µs per loop (mean ± std. dev. of 7 runs, 10000 loops each)\n",
      "-0.7999999910593032\n",
      "The slowest run took 4.11 times longer than the fastest. This could mean that an intermediate result is being cached.\n",
      "178 µs ± 84 µs per loop (mean ± std. dev. of 7 runs, 1 loop each)\n",
      "a    0.000000\n",
      "b   -0.800000\n",
      "c   -0.666667\n",
      "dtype: float64\n",
      "12.6 ms ± 222 µs per loop (mean ± std. dev. of 7 runs, 100 loops each)\n"
     ]
    }
   ],
   "source": [
    "print(empyrical.max_drawdown(returns['b']))\n",
    "%timeit empyrical.max_drawdown(big_returns[0])\n",
    "\n",
    "print(returns['b'].vbt.returns.max_drawdown())\n",
    "%timeit big_returns[0].vbt.returns.max_drawdown()\n",
    "\n",
    "print(returns.vbt.returns.max_drawdown())\n",
    "%timeit big_returns.vbt.returns.max_drawdown()"
   ]
  },
  {
   "cell_type": "code",
   "execution_count": 8,
   "metadata": {},
   "outputs": [
    {
     "name": "stdout",
     "output_type": "stream",
     "text": [
      "<vectorbt.records.drawdowns.Drawdowns object at 0x7fa043890080>\n",
      "16.8 ms ± 1.41 ms per loop (mean ± std. dev. of 7 runs, 10 loops each)\n",
      "a    0.000000\n",
      "b   -0.800000\n",
      "c   -0.666667\n",
      "dtype: float64\n"
     ]
    }
   ],
   "source": [
    "print(returns.vbt.returns.drawdowns())\n",
    "%timeit big_returns.vbt.returns.drawdowns()\n",
    "\n",
    "print(returns.vbt.returns.drawdowns().max_drawdown())"
   ]
  },
  {
   "cell_type": "code",
   "execution_count": null,
   "metadata": {},
   "outputs": [],
   "source": []
  }
 ],
 "metadata": {
  "kernelspec": {
   "display_name": "Python 3",
   "language": "python",
   "name": "python3"
  },
  "language_info": {
   "codemirror_mode": {
    "name": "ipython",
    "version": 3
   },
   "file_extension": ".py",
   "mimetype": "text/x-python",
   "name": "python",
   "nbconvert_exporter": "python",
   "pygments_lexer": "ipython3",
   "version": "3.7.3"
  },
  "widgets": {
   "application/vnd.jupyter.widget-state+json": {
    "state": {},
    "version_major": 2,
    "version_minor": 0
   }
  }
 },
 "nbformat": 4,
 "nbformat_minor": 4
}
