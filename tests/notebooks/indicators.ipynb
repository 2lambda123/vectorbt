{
 "cells": [
  {
   "cell_type": "markdown",
   "metadata": {},
   "source": [
    "# indicators"
   ]
  },
  {
   "cell_type": "code",
   "execution_count": 1,
   "metadata": {},
   "outputs": [],
   "source": [
    "import vectorbt as vbt"
   ]
  },
  {
   "cell_type": "code",
   "execution_count": 2,
   "metadata": {
    "Collapsed": "false"
   },
   "outputs": [],
   "source": [
    "import numpy as np\n",
    "import pandas as pd\n",
    "from datetime import datetime, timedelta\n",
    "from numba import njit, f8, i8, b1, optional\n",
    "import itertools"
   ]
  },
  {
   "cell_type": "code",
   "execution_count": 3,
   "metadata": {},
   "outputs": [],
   "source": [
    "index = pd.DatetimeIndex([\n",
    "    datetime(2018, 1, 1),\n",
    "    datetime(2018, 1, 2),\n",
    "    datetime(2018, 1, 3),\n",
    "    datetime(2018, 1, 4),\n",
    "    datetime(2018, 1, 5)\n",
    "])\n",
    "ts = pd.DataFrame({\n",
    "    'a': [1, 2, 3, 4, 5],\n",
    "    'b': [5, 4, 3, 2, 1],\n",
    "    'c': [1, 2, 3, 2, 1]\n",
    "}, index=index)"
   ]
  },
  {
   "cell_type": "code",
   "execution_count": 4,
   "metadata": {},
   "outputs": [
    {
     "data": {
      "text/plain": [
       "(1000, 1000)"
      ]
     },
     "execution_count": 4,
     "metadata": {},
     "output_type": "execute_result"
    }
   ],
   "source": [
    "big_ts = pd.DataFrame(np.random.randint(10, size=(1000, 1000)).astype(float))\n",
    "big_ts.index = [datetime(2018, 1, 1) + timedelta(days=i) for i in range(1000)]\n",
    "big_ts.shape"
   ]
  },
  {
   "cell_type": "markdown",
   "metadata": {},
   "source": [
    "## IndicatorFactory"
   ]
  },
  {
   "cell_type": "code",
   "execution_count": 5,
   "metadata": {},
   "outputs": [
    {
     "name": "stdout",
     "output_type": "stream",
     "text": [
      "custom_param    0              1          \n",
      "                a    b    c    a    b    c\n",
      "2018-01-01    110  110  110  111  115  111\n",
      "2018-01-02    110  110  110  112  114  112\n",
      "2018-01-03    110  110  110  113  113  113\n",
      "2018-01-04    110  110  110  114  112  112\n",
      "2018-01-05    110  110  110  115  111  111\n",
      "custom_param    0              1          \n",
      "                a    b    c    a    b    c\n",
      "2018-01-01    110  110  110  111  115  111\n",
      "2018-01-02    110  110  110  112  114  112\n",
      "2018-01-03    110  110  110  113  113  113\n",
      "2018-01-04    110  110  110  114  112  112\n",
      "2018-01-05    110  110  110  115  111  111\n"
     ]
    }
   ],
   "source": [
    "def apply_func(i, ts, p, a, b=100):\n",
    "    return ts * p[i] + a + b\n",
    "\n",
    "@njit\n",
    "def apply_func_nb(i, ts, p, a, b):\n",
    "    return ts * p[i] + a + b # numba doesn't support **kwargs\n",
    "\n",
    "# Custom function can be anything that takes time series, params and other arguments, and returns outputs\n",
    "def custom_func(ts, p, *args, **kwargs):\n",
    "    return vbt.base.combine_fns.apply_and_concat_one(len(p), apply_func, ts, p, *args, **kwargs)\n",
    "\n",
    "@njit\n",
    "def custom_func_nb(ts, p, *args):\n",
    "    return vbt.base.combine_fns.apply_and_concat_one_nb(len(p), apply_func_nb, ts, p, *args)\n",
    "\n",
    "print(vbt.IndicatorFactory().from_custom_func(custom_func)\\\n",
    "      .from_params(ts, [0, 1], 10, b=100).output)\n",
    "print(vbt.IndicatorFactory().from_custom_func(custom_func_nb)\\\n",
    "      .from_params(ts, [0, 1], 10, 100).output)"
   ]
  },
  {
   "cell_type": "code",
   "execution_count": 6,
   "metadata": {},
   "outputs": [
    {
     "name": "stdout",
     "output_type": "stream",
     "text": [
      "custom_param    0              1          \n",
      "                a    b    c    a    b    c\n",
      "2018-01-01    110  110  110  111  115  111\n",
      "2018-01-02    110  110  110  112  114  112\n",
      "2018-01-03    110  110  110  113  113  113\n",
      "2018-01-04    110  110  110  114  112  112\n",
      "2018-01-05    110  110  110  115  111  111\n",
      "custom_param    0              1          \n",
      "                a    b    c    a    b    c\n",
      "2018-01-01    110  110  110  111  115  111\n",
      "2018-01-02    110  110  110  112  114  112\n",
      "2018-01-03    110  110  110  113  113  113\n",
      "2018-01-04    110  110  110  114  112  112\n",
      "2018-01-05    110  110  110  115  111  111\n"
     ]
    }
   ],
   "source": [
    "# Apply function is performed on each parameter individually, and each output is then stacked for you\n",
    "# Apply functions are less customizable than custom functions, but are simpler to write\n",
    "def apply_func(ts, p, a, b=100):\n",
    "    return ts * p + a + b\n",
    "\n",
    "@njit\n",
    "def apply_func_nb(ts, p, a, b):\n",
    "    return ts * p + a + b  # numba doesn't support **kwargs\n",
    "        \n",
    "print(vbt.IndicatorFactory().from_apply_func(apply_func)\\\n",
    "      .from_params(ts, [0, 1], 10, b=100).output)\n",
    "print(vbt.IndicatorFactory().from_apply_func(apply_func_nb)\\\n",
    "      .from_params(ts, [0, 1], 10, 100).output)"
   ]
  },
  {
   "cell_type": "code",
   "execution_count": 7,
   "metadata": {},
   "outputs": [
    {
     "name": "stdout",
     "output_type": "stream",
     "text": [
      "custom_param  0         1        \n",
      "              a  b  c   a   b   c\n",
      "2018-01-01    0  0  0   2  30   2\n",
      "2018-01-02    0  0  0   6  20   6\n",
      "2018-01-03    0  0  0  12  12  12\n",
      "2018-01-04    0  0  0  20   6   6\n",
      "2018-01-05    0  0  0  30   2   2\n",
      "custom_param  0         1        \n",
      "              a  b  c   a   b   c\n",
      "2018-01-01    0  0  0   2  30   2\n",
      "2018-01-02    0  0  0   6  20   6\n",
      "2018-01-03    0  0  0  12  12  12\n",
      "2018-01-04    0  0  0  20   6   6\n",
      "2018-01-05    0  0  0  30   2   2\n"
     ]
    }
   ],
   "source": [
    "print(vbt.IndicatorFactory(ts_names=['ts1', 'ts2']).from_apply_func(lambda ts1, ts2, p: ts1 * ts2 * p)\\\n",
    "      .from_params(ts, ts+1, [0, 1]).output) # test multiple ts\n",
    "print(vbt.IndicatorFactory(ts_names=['ts1', 'ts2']).from_apply_func(njit(lambda ts1, ts2, p: ts1 * ts2 * p))\\\n",
    "      .from_params(ts, ts+1, [0, 1]).output)"
   ]
  },
  {
   "cell_type": "code",
   "execution_count": 8,
   "metadata": {},
   "outputs": [
    {
     "name": "stdout",
     "output_type": "stream",
     "text": [
      "custom_p1    0          1        \n",
      "custom_p2    2          3        \n",
      "             a   b  c   a   b   c\n",
      "2018-01-01   2  10  2   4  20   4\n",
      "2018-01-02   4   8  4   8  16   8\n",
      "2018-01-03   6   6  6  12  12  12\n",
      "2018-01-04   8   4  4  16   8   8\n",
      "2018-01-05  10   2  2  20   4   4\n",
      "custom_p1    0          1        \n",
      "custom_p2    2          3        \n",
      "             a   b  c   a   b   c\n",
      "2018-01-01   2  10  2   4  20   4\n",
      "2018-01-02   4   8  4   8  16   8\n",
      "2018-01-03   6   6  6  12  12  12\n",
      "2018-01-04   8   4  4  16   8   8\n",
      "2018-01-05  10   2  2  20   4   4\n"
     ]
    }
   ],
   "source": [
    "print(vbt.IndicatorFactory(param_names=['p1', 'p2']).from_apply_func(lambda ts, p1, p2: ts * (p1 + p2))\\\n",
    "      .from_params(ts, [0, 1], [2, 3]).output) # test multiple params\n",
    "print(vbt.IndicatorFactory(param_names=['p1', 'p2']).from_apply_func(njit(lambda ts, p1, p2: ts * (p1 + p2)))\\\n",
    "      .from_params(ts, [0, 1], [2, 3]).output)"
   ]
  },
  {
   "cell_type": "code",
   "execution_count": 9,
   "metadata": {},
   "outputs": [
    {
     "name": "stdout",
     "output_type": "stream",
     "text": [
      "custom_p1    0                     1                   \n",
      "custom_p2    2          3          2          3        \n",
      "             a   b  c   a   b  c   a   b  c   a   b   c\n",
      "2018-01-01   2  10  2   3  15  3   3  15  3   4  20   4\n",
      "2018-01-02   4   8  4   6  12  6   6  12  6   8  16   8\n",
      "2018-01-03   6   6  6   9   9  9   9   9  9  12  12  12\n",
      "2018-01-04   8   4  4  12   6  6  12   6  6  16   8   8\n",
      "2018-01-05  10   2  2  15   3  3  15   3  3  20   4   4\n",
      "custom_p1    0                     1                   \n",
      "custom_p2    2          3          2          3        \n",
      "             a   b  c   a   b  c   a   b  c   a   b   c\n",
      "2018-01-01   2  10  2   3  15  3   3  15  3   4  20   4\n",
      "2018-01-02   4   8  4   6  12  6   6  12  6   8  16   8\n",
      "2018-01-03   6   6  6   9   9  9   9   9  9  12  12  12\n",
      "2018-01-04   8   4  4  12   6  6  12   6  6  16   8   8\n",
      "2018-01-05  10   2  2  15   3  3  15   3  3  20   4   4\n"
     ]
    }
   ],
   "source": [
    "print(vbt.IndicatorFactory(param_names=['p1', 'p2']).from_apply_func(lambda ts, p1, p2: ts * (p1 + p2))\\\n",
    "      .from_params(ts, [0, 1], [2, 3], param_product=True).output) # test param product\n",
    "print(vbt.IndicatorFactory(param_names=['p1', 'p2']).from_apply_func(njit(lambda ts, p1, p2: ts * (p1 + p2)))\\\n",
    "      .from_params(ts, [0, 1], [2, 3], param_product=True).output)"
   ]
  },
  {
   "cell_type": "code",
   "execution_count": 10,
   "metadata": {},
   "outputs": [
    {
     "data": {
      "text/plain": [
       "array([[0, 0, 0, 1, 5, 1],\n",
       "       [0, 0, 0, 2, 4, 2],\n",
       "       [0, 0, 0, 3, 3, 3],\n",
       "       [0, 0, 0, 4, 2, 2],\n",
       "       [0, 0, 0, 5, 1, 1]])"
      ]
     },
     "execution_count": 10,
     "metadata": {},
     "output_type": "execute_result"
    }
   ],
   "source": [
    "vbt.IndicatorFactory(output_names=['o1', 'o2']).from_apply_func(lambda ts, p: (ts * p, ts * p ** 2))\\\n",
    "      .from_params(ts, [0, 1]).o2.values"
   ]
  },
  {
   "cell_type": "code",
   "execution_count": 11,
   "metadata": {},
   "outputs": [
    {
     "name": "stdout",
     "output_type": "stream",
     "text": [
      "custom_param  0        1      \n",
      "              a  b  c  a  b  c\n",
      "2018-01-01    0  0  0  1  5  1\n",
      "2018-01-02    0  0  0  2  4  2\n",
      "2018-01-03    0  0  0  3  3  3\n",
      "2018-01-04    0  0  0  4  2  2\n",
      "2018-01-05    0  0  0  5  1  1\n",
      "custom_param  0        1      \n",
      "              a  b  c  a  b  c\n",
      "2018-01-01    0  0  0  1  5  1\n",
      "2018-01-02    0  0  0  2  4  2\n",
      "2018-01-03    0  0  0  3  3  3\n",
      "2018-01-04    0  0  0  4  2  2\n",
      "2018-01-05    0  0  0  5  1  1\n",
      "custom_param  0        1      \n",
      "              a  b  c  a  b  c\n",
      "2018-01-01    0  0  0  1  5  1\n",
      "2018-01-02    0  0  0  2  4  2\n",
      "2018-01-03    0  0  0  3  3  3\n",
      "2018-01-04    0  0  0  4  2  2\n",
      "2018-01-05    0  0  0  5  1  1\n",
      "custom_param  0        1      \n",
      "              a  b  c  a  b  c\n",
      "2018-01-01    0  0  0  1  5  1\n",
      "2018-01-02    0  0  0  2  4  2\n",
      "2018-01-03    0  0  0  3  3  3\n",
      "2018-01-04    0  0  0  4  2  2\n",
      "2018-01-05    0  0  0  5  1  1\n"
     ]
    }
   ],
   "source": [
    "print(vbt.IndicatorFactory(output_names=['o1', 'o2']).from_apply_func(lambda ts, p: (ts * p, ts * p ** 2))\\\n",
    "      .from_params(ts, [0, 1]).o1) # test multiple outputs\n",
    "print(vbt.IndicatorFactory(output_names=['o1', 'o2']).from_apply_func(lambda ts, p: (ts * p, ts * p ** 2))\\\n",
    "      .from_params(ts, [0, 1]).o2)\n",
    "print(vbt.IndicatorFactory(output_names=['o1', 'o2']).from_apply_func(njit(lambda ts, p: (ts * p, ts * p ** 2)))\\\n",
    "      .from_params(ts, [0, 1]).o1)\n",
    "print(vbt.IndicatorFactory(output_names=['o1', 'o2']).from_apply_func(njit(lambda ts, p: (ts * p, ts * p ** 2)))\\\n",
    "      .from_params(ts, [0, 1]).o2)"
   ]
  },
  {
   "cell_type": "code",
   "execution_count": 12,
   "metadata": {},
   "outputs": [
    {
     "name": "stdout",
     "output_type": "stream",
     "text": [
      "custom_param  0        1         2       \n",
      "              a  b  c  a  b  c   a   b  c\n",
      "2018-01-01    3  3  3  4  8  4   5  13  5\n",
      "2018-01-02    3  3  3  5  7  5   7  11  7\n",
      "2018-01-03    3  3  3  6  6  6   9   9  9\n",
      "2018-01-04    3  3  3  7  5  5  11   7  7\n",
      "2018-01-05    3  3  3  8  4  4  13   5  5\n",
      "custom_param  0        1         2       \n",
      "              a  b  c  a  b  c   a   b  c\n",
      "2018-01-01    3  3  3  4  8  4   5  13  5\n",
      "2018-01-02    3  3  3  5  7  5   7  11  7\n",
      "2018-01-03    3  3  3  6  6  6   9   9  9\n",
      "2018-01-04    3  3  3  7  5  5  11   7  7\n",
      "2018-01-05    3  3  3  8  4  4  13   5  5\n"
     ]
    }
   ],
   "source": [
    "print(vbt.IndicatorFactory().from_apply_func(lambda ts, p, a: ts * p + a)\\\n",
    "      .from_params(ts, [0, 1, 2], 3).output) # test *args\n",
    "print(vbt.IndicatorFactory().from_apply_func(njit(lambda ts, p, a: ts * p + a))\\\n",
    "      .from_params(ts, [0, 1, 2], 3).output)"
   ]
  },
  {
   "cell_type": "code",
   "execution_count": 13,
   "metadata": {},
   "outputs": [
    {
     "name": "stdout",
     "output_type": "stream",
     "text": [
      "custom_param  0        1         2       \n",
      "              a  b  c  a  b  c   a   b  c\n",
      "2018-01-01    3  3  3  4  8  4   5  13  5\n",
      "2018-01-02    3  3  3  5  7  5   7  11  7\n",
      "2018-01-03    3  3  3  6  6  6   9   9  9\n",
      "2018-01-04    3  3  3  7  5  5  11   7  7\n",
      "2018-01-05    3  3  3  8  4  4  13   5  5\n"
     ]
    }
   ],
   "source": [
    "print(vbt.IndicatorFactory().from_apply_func(lambda ts, p, a=1: ts * p + a)\\\n",
    "      .from_params(ts, [0, 1, 2], a=3).output) # test **kwargs\n",
    "# Numba doesn't support kwargs out of the box"
   ]
  },
  {
   "cell_type": "code",
   "execution_count": 14,
   "metadata": {},
   "outputs": [
    {
     "name": "stdout",
     "output_type": "stream",
     "text": [
      "custom_param    0              1          \n",
      "                a    b    c    a    b    c\n",
      "2018-01-01    100  100  100  101  105  101\n",
      "2018-01-02    100  100  100  102  104  102\n",
      "2018-01-03    100  100  100  103  103  103\n",
      "2018-01-04    100  100  100  104  102  102\n",
      "2018-01-05    100  100  100  105  101  101\n",
      "custom_param    0              1          \n",
      "                a    b    c    a    b    c\n",
      "2018-01-01    100  100  100  101  105  101\n",
      "2018-01-02    100  100  100  102  104  102\n",
      "2018-01-03    100  100  100  103  103  103\n",
      "2018-01-04    100  100  100  104  102  102\n",
      "2018-01-05    100  100  100  105  101  101\n"
     ]
    }
   ],
   "source": [
    "print(vbt.IndicatorFactory().from_apply_func(\n",
    "    lambda ts, param, c: ts * param + c, caching_func=lambda ts, params: 100)\\\n",
    "      .from_params(ts, [0, 1]).output) # test caching func\n",
    "print(vbt.IndicatorFactory().from_apply_func(\n",
    "    njit(lambda ts, param, c: ts * param + c), caching_func=njit(lambda ts, params: 100))\\\n",
    "      .from_params(ts, [0, 1]).output)"
   ]
  },
  {
   "cell_type": "code",
   "execution_count": 15,
   "metadata": {},
   "outputs": [],
   "source": [
    "CustomInd = vbt.IndicatorFactory(\n",
    "    ts_names=['ts1', 'ts2'],\n",
    "    param_names=['p1', 'p2'],\n",
    "    output_names=['o1', 'o2']\n",
    ").from_apply_func(lambda ts1, ts2, p1, p2: (ts1 * p1, ts2 * p2))"
   ]
  },
  {
   "cell_type": "code",
   "execution_count": 16,
   "metadata": {},
   "outputs": [
    {
     "data": {
      "text/plain": [
       "['__class__',\n",
       " '__delattr__',\n",
       " '__dict__',\n",
       " '__dir__',\n",
       " '__doc__',\n",
       " '__eq__',\n",
       " '__format__',\n",
       " '__ge__',\n",
       " '__getattribute__',\n",
       " '__getitem__',\n",
       " '__gt__',\n",
       " '__hash__',\n",
       " '__init__',\n",
       " '__init_subclass__',\n",
       " '__le__',\n",
       " '__lt__',\n",
       " '__module__',\n",
       " '__ne__',\n",
       " '__new__',\n",
       " '__reduce__',\n",
       " '__reduce_ex__',\n",
       " '__repr__',\n",
       " '__setattr__',\n",
       " '__sizeof__',\n",
       " '__str__',\n",
       " '__subclasshook__',\n",
       " '__weakref__',\n",
       " 'from_params',\n",
       " 'iloc',\n",
       " 'loc',\n",
       " 'name',\n",
       " 'o1',\n",
       " 'o1_above',\n",
       " 'o1_below',\n",
       " 'o1_equal',\n",
       " 'o2',\n",
       " 'o2_above',\n",
       " 'o2_below',\n",
       " 'o2_equal',\n",
       " 'p1_loc',\n",
       " 'p2_loc',\n",
       " 'ts1',\n",
       " 'ts1_above',\n",
       " 'ts1_below',\n",
       " 'ts1_equal',\n",
       " 'ts2',\n",
       " 'ts2_above',\n",
       " 'ts2_below',\n",
       " 'ts2_equal',\n",
       " 'tuple_loc',\n",
       " 'xs']"
      ]
     },
     "execution_count": 16,
     "metadata": {},
     "output_type": "execute_result"
    }
   ],
   "source": [
    "dir(CustomInd) # you can list here all of the available tools"
   ]
  },
  {
   "cell_type": "code",
   "execution_count": 17,
   "metadata": {},
   "outputs": [],
   "source": [
    "custom_ind = CustomInd.from_params(ts, ts * 2, [1, 2], [3, 4])\n",
    "big_custom_ind = CustomInd.from_params(big_ts, big_ts * 2, [1, 2], [3, 4])"
   ]
  },
  {
   "cell_type": "code",
   "execution_count": 18,
   "metadata": {},
   "outputs": [
    {
     "name": "stdout",
     "output_type": "stream",
     "text": [
      "DatetimeIndex(['2018-01-01', '2018-01-02', '2018-01-03', '2018-01-04',\n",
      "               '2018-01-05'],\n",
      "              dtype='datetime64[ns]', freq=None)\n",
      "MultiIndex([(1, 3, 'a'),\n",
      "            (1, 3, 'b'),\n",
      "            (1, 3, 'c'),\n",
      "            (2, 4, 'a'),\n",
      "            (2, 4, 'b'),\n",
      "            (2, 4, 'c')],\n",
      "           names=['custom_p1', 'custom_p2', None])\n",
      "2\n",
      "(5, 6)\n",
      "1 days 00:00:00\n"
     ]
    }
   ],
   "source": [
    "print(custom_ind.wrapper.index) # subclasses ArrayWrapper\n",
    "print(custom_ind.wrapper.columns)\n",
    "print(custom_ind.wrapper.ndim)\n",
    "print(custom_ind.wrapper.shape)\n",
    "print(custom_ind.wrapper.freq)"
   ]
  },
  {
   "cell_type": "markdown",
   "metadata": {},
   "source": [
    "### Pandas indexing"
   ]
  },
  {
   "cell_type": "code",
   "execution_count": 19,
   "metadata": {},
   "outputs": [
    {
     "name": "stdout",
     "output_type": "stream",
     "text": [
      "2018-01-01    1\n",
      "2018-01-02    2\n",
      "2018-01-03    3\n",
      "2018-01-04    4\n",
      "2018-01-05    5\n",
      "Name: (1, 3, a), dtype: int64\n",
      "79.7 µs ± 2.38 µs per loop (mean ± std. dev. of 7 runs, 10000 loops each)\n",
      "2018-01-01    1\n",
      "2018-01-02    2\n",
      "2018-01-03    3\n",
      "2018-01-04    4\n",
      "2018-01-05    5\n",
      "Name: (1, 3, a), dtype: int64\n",
      "11.9 ms ± 125 µs per loop (mean ± std. dev. of 7 runs, 100 loops each)\n"
     ]
    }
   ],
   "source": [
    "print(custom_ind.o1.iloc[:, 0])\n",
    "%timeit big_custom_ind.o1.iloc[:, 0] # benchmark, 1 column\n",
    "\n",
    "print(custom_ind.iloc[:, 0].o1) # performed on the object itself\n",
    "%timeit big_custom_ind.iloc[:, 0] # slower since it forwards the operation to each dataframe"
   ]
  },
  {
   "cell_type": "code",
   "execution_count": 20,
   "metadata": {},
   "outputs": [
    {
     "name": "stdout",
     "output_type": "stream",
     "text": [
      "custom_p1   1      \n",
      "custom_p2   3      \n",
      "            a  b  c\n",
      "2018-01-01  1  5  1\n",
      "2018-01-02  2  4  2\n",
      "2018-01-03  3  3  3\n",
      "2018-01-04  4  2  2\n",
      "2018-01-05  5  1  1\n",
      "2.82 ms ± 26.2 µs per loop (mean ± std. dev. of 7 runs, 100 loops each)\n",
      "custom_p1   1      \n",
      "custom_p2   3      \n",
      "            a  b  c\n",
      "2018-01-01  1  5  1\n",
      "2018-01-02  2  4  2\n",
      "2018-01-03  3  3  3\n",
      "2018-01-04  4  2  2\n",
      "2018-01-05  5  1  1\n",
      "31 ms ± 459 µs per loop (mean ± std. dev. of 7 runs, 10 loops each)\n"
     ]
    }
   ],
   "source": [
    "print(custom_ind.o1.iloc[:, np.arange(3)])\n",
    "%timeit big_custom_ind.o1.iloc[:, np.arange(1000)] # 1000 columns\n",
    "\n",
    "print(custom_ind.iloc[:, np.arange(3)].o1)\n",
    "%timeit big_custom_ind.iloc[:, np.arange(1000)]"
   ]
  },
  {
   "cell_type": "code",
   "execution_count": 21,
   "metadata": {},
   "outputs": [
    {
     "name": "stdout",
     "output_type": "stream",
     "text": [
      "2018-01-01    1\n",
      "2018-01-02    2\n",
      "2018-01-03    3\n",
      "2018-01-04    4\n",
      "2018-01-05    5\n",
      "Name: (1, 3, a), dtype: int64\n",
      "79.3 µs ± 572 ns per loop (mean ± std. dev. of 7 runs, 10000 loops each)\n",
      "2018-01-01    1\n",
      "2018-01-02    2\n",
      "2018-01-03    3\n",
      "2018-01-04    4\n",
      "2018-01-05    5\n",
      "Name: (1, 3, a), dtype: int64\n",
      "12.4 ms ± 236 µs per loop (mean ± std. dev. of 7 runs, 100 loops each)\n"
     ]
    }
   ],
   "source": [
    "print(custom_ind.o1.loc[:, (1, 3, 'a')])\n",
    "%timeit big_custom_ind.o1.loc[:, (1, 3, 0)] # 1 column\n",
    "\n",
    "print(custom_ind.loc[:, (1, 3, 'a')].o1)\n",
    "%timeit big_custom_ind.loc[:, (1, 3, 0)]"
   ]
  },
  {
   "cell_type": "code",
   "execution_count": 22,
   "metadata": {},
   "outputs": [
    {
     "name": "stdout",
     "output_type": "stream",
     "text": [
      "            a  b  c\n",
      "2018-01-01  1  5  1\n",
      "2018-01-02  2  4  2\n",
      "2018-01-03  3  3  3\n",
      "2018-01-04  4  2  2\n",
      "2018-01-05  5  1  1\n",
      "370 µs ± 2.64 µs per loop (mean ± std. dev. of 7 runs, 1000 loops each)\n",
      "            a  b  c\n",
      "2018-01-01  1  5  1\n",
      "2018-01-02  2  4  2\n",
      "2018-01-03  3  3  3\n",
      "2018-01-04  4  2  2\n",
      "2018-01-05  5  1  1\n",
      "10.9 ms ± 87.7 µs per loop (mean ± std. dev. of 7 runs, 100 loops each)\n"
     ]
    }
   ],
   "source": [
    "print(custom_ind.o1.loc[:, (1, 3)])\n",
    "%timeit big_custom_ind.o1.loc[:, 1] # 1000 columns\n",
    "\n",
    "print(custom_ind.loc[:, (1, 3)].o1)\n",
    "%timeit big_custom_ind.loc[:, 1]"
   ]
  },
  {
   "cell_type": "code",
   "execution_count": 23,
   "metadata": {},
   "outputs": [
    {
     "name": "stdout",
     "output_type": "stream",
     "text": [
      "custom_p2   3      \n",
      "            a  b  c\n",
      "2018-01-01  1  5  1\n",
      "2018-01-02  2  4  2\n",
      "2018-01-03  3  3  3\n",
      "2018-01-04  4  2  2\n",
      "2018-01-05  5  1  1\n",
      "391 µs ± 3.83 µs per loop (mean ± std. dev. of 7 runs, 1000 loops each)\n",
      "custom_p2   3      \n",
      "            a  b  c\n",
      "2018-01-01  1  5  1\n",
      "2018-01-02  2  4  2\n",
      "2018-01-03  3  3  3\n",
      "2018-01-04  4  2  2\n",
      "2018-01-05  5  1  1\n",
      "11.1 ms ± 167 µs per loop (mean ± std. dev. of 7 runs, 100 loops each)\n"
     ]
    }
   ],
   "source": [
    "print(custom_ind.o1.xs(1, axis=1, level=0))\n",
    "%timeit big_custom_ind.o1.xs(1, axis=1, level=0) # 1000 columns\n",
    "\n",
    "print(custom_ind.xs(1, axis=1, level=0).o1)\n",
    "%timeit big_custom_ind.xs(1, axis=1, level=0)"
   ]
  },
  {
   "cell_type": "markdown",
   "metadata": {},
   "source": [
    "### Parameter indexing"
   ]
  },
  {
   "cell_type": "code",
   "execution_count": 24,
   "metadata": {},
   "outputs": [
    {
     "name": "stdout",
     "output_type": "stream",
     "text": [
      "custom_p1  custom_p2   \n",
      "1          3          a    1\n",
      "                      b    1\n",
      "                      c    1\n",
      "2          4          a    2\n",
      "                      b    2\n",
      "                      c    2\n",
      "Name: custom_p1, dtype: int64\n",
      "custom_p2    4       \n",
      "             a   b  c\n",
      "2018-01-01   2  10  2\n",
      "2018-01-02   4   8  4\n",
      "2018-01-03   6   6  6\n",
      "2018-01-04   8   4  4\n",
      "2018-01-05  10   2  2\n",
      "custom_p1   1         2       \n",
      "custom_p2   3         4       \n",
      "            a  b  c   a   b  c\n",
      "2018-01-01  1  5  1   2  10  2\n",
      "2018-01-02  2  4  2   4   8  4\n",
      "2018-01-03  3  3  3   6   6  6\n",
      "2018-01-04  4  2  2   8   4  4\n",
      "2018-01-05  5  1  1  10   2  2\n",
      "custom_p1   1                        \n",
      "custom_p2   3                        \n",
      "            a  b  c  a  b  c  a  b  c\n",
      "2018-01-01  1  5  1  1  5  1  1  5  1\n",
      "2018-01-02  2  4  2  2  4  2  2  4  2\n",
      "2018-01-03  3  3  3  3  3  3  3  3  3\n",
      "2018-01-04  4  2  2  4  2  2  4  2  2\n",
      "2018-01-05  5  1  1  5  1  1  5  1  1\n"
     ]
    }
   ],
   "source": [
    "# Indexing by parameter\n",
    "print(custom_ind._p1_mapper)\n",
    "print(custom_ind.p1_loc[2].o1)\n",
    "print(custom_ind.p1_loc[1:2].o1)\n",
    "print(custom_ind.p1_loc[[1, 1, 1]].o1)"
   ]
  },
  {
   "cell_type": "code",
   "execution_count": 25,
   "metadata": {},
   "outputs": [
    {
     "name": "stdout",
     "output_type": "stream",
     "text": [
      "31.4 ms ± 1.99 ms per loop (mean ± std. dev. of 7 runs, 10 loops each)\n",
      "210 ms ± 1.08 ms per loop (mean ± std. dev. of 7 runs, 1 loop each)\n"
     ]
    }
   ],
   "source": [
    "%timeit big_custom_ind.p1_loc[1] # 1000 columns\n",
    "%timeit big_custom_ind.p1_loc[np.full(10, 1)] # 10000 columns"
   ]
  },
  {
   "cell_type": "code",
   "execution_count": 26,
   "metadata": {},
   "outputs": [
    {
     "name": "stdout",
     "output_type": "stream",
     "text": [
      "custom_p1  custom_p2   \n",
      "1          3          a    (1, 3)\n",
      "                      b    (1, 3)\n",
      "                      c    (1, 3)\n",
      "2          4          a    (2, 4)\n",
      "                      b    (2, 4)\n",
      "                      c    (2, 4)\n",
      "Name: (custom_p1, custom_p2), dtype: object\n",
      "            a  b  c\n",
      "2018-01-01  1  5  1\n",
      "2018-01-02  2  4  2\n",
      "2018-01-03  3  3  3\n",
      "2018-01-04  4  2  2\n",
      "2018-01-05  5  1  1\n",
      "custom_p1   1         2       \n",
      "custom_p2   3         4       \n",
      "            a  b  c   a   b  c\n",
      "2018-01-01  1  5  1   2  10  2\n",
      "2018-01-02  2  4  2   4   8  4\n",
      "2018-01-03  3  3  3   6   6  6\n",
      "2018-01-04  4  2  2   8   4  4\n",
      "2018-01-05  5  1  1  10   2  2\n"
     ]
    }
   ],
   "source": [
    "print(custom_ind._tuple_mapper)\n",
    "print(custom_ind.tuple_loc[(1, 3)].o1)\n",
    "print(custom_ind.tuple_loc[(1, 3):(2, 4)].o1)"
   ]
  },
  {
   "cell_type": "code",
   "execution_count": 27,
   "metadata": {},
   "outputs": [
    {
     "name": "stdout",
     "output_type": "stream",
     "text": [
      "27.8 ms ± 226 µs per loop (mean ± std. dev. of 7 runs, 10 loops each)\n",
      "212 ms ± 3.77 ms per loop (mean ± std. dev. of 7 runs, 1 loop each)\n"
     ]
    }
   ],
   "source": [
    "%timeit big_custom_ind.tuple_loc[(1, 3)]\n",
    "%timeit big_custom_ind.tuple_loc[[(1, 3)] * 10]"
   ]
  },
  {
   "cell_type": "markdown",
   "metadata": {},
   "source": [
    "### Comparison methods"
   ]
  },
  {
   "cell_type": "code",
   "execution_count": 28,
   "metadata": {},
   "outputs": [
    {
     "name": "stdout",
     "output_type": "stream",
     "text": [
      "custom_p1       1                    2              \n",
      "custom_p2       3                    4              \n",
      "                a      b      c      a      b      c\n",
      "2018-01-01  False   True  False  False   True  False\n",
      "2018-01-02  False   True  False   True   True   True\n",
      "2018-01-03   True   True   True   True   True   True\n",
      "2018-01-04   True  False  False   True   True   True\n",
      "2018-01-05   True  False  False   True  False  False\n",
      "1.31 ms ± 16.2 µs per loop (mean ± std. dev. of 7 runs, 1000 loops each)\n",
      "custom_p1       1                    2              \n",
      "custom_p2       3                    4              \n",
      "                a      b      c      a      b      c\n",
      "2018-01-01  False   True  False  False   True  False\n",
      "2018-01-02  False   True  False   True   True   True\n",
      "2018-01-03   True   True   True   True   True   True\n",
      "2018-01-04   True  False  False   True   True   True\n",
      "2018-01-05   True  False  False   True  False  False\n",
      "3.99 ms ± 36.2 µs per loop (mean ± std. dev. of 7 runs, 100 loops each)\n"
     ]
    }
   ],
   "source": [
    "print(custom_ind.o1 > 2)\n",
    "%timeit big_custom_ind.o1.values > 2 # don't even try pandas\n",
    "\n",
    "print(custom_ind.o1_above(2))\n",
    "%timeit big_custom_ind.o1_above(2) # slower than numpy because of constructing dataframe"
   ]
  },
  {
   "cell_type": "code",
   "execution_count": 29,
   "metadata": {},
   "outputs": [
    {
     "name": "stdout",
     "output_type": "stream",
     "text": [
      "custom_p1       1                    2                    1                \\\n",
      "custom_p2       3                    4                    3                 \n",
      "                a      b      c      a      b      c      a      b      c   \n",
      "2018-01-01  False   True  False  False   True  False  False   True  False   \n",
      "2018-01-02  False   True  False   True   True   True  False   True  False   \n",
      "2018-01-03   True   True   True   True   True   True  False  False  False   \n",
      "2018-01-04   True  False  False   True   True   True   True  False  False   \n",
      "2018-01-05   True  False  False   True  False  False   True  False  False   \n",
      "\n",
      "custom_p1       2                \n",
      "custom_p2       4                \n",
      "                a      b      c  \n",
      "2018-01-01  False   True  False  \n",
      "2018-01-02   True   True   True  \n",
      "2018-01-03   True   True   True  \n",
      "2018-01-04   True   True   True  \n",
      "2018-01-05   True  False  False  \n",
      "3.91 ms ± 28.8 µs per loop (mean ± std. dev. of 7 runs, 100 loops each)\n",
      "custom_o1_above      2                                         3         \\\n",
      "custom_p1            1                    2                    1          \n",
      "custom_p2            3                    4                    3          \n",
      "                     a      b      c      a      b      c      a      b   \n",
      "2018-01-01       False   True  False  False   True  False  False   True   \n",
      "2018-01-02       False   True  False   True   True   True  False   True   \n",
      "2018-01-03        True   True   True   True   True   True  False  False   \n",
      "2018-01-04        True  False  False   True   True   True   True  False   \n",
      "2018-01-05        True  False  False   True  False  False   True  False   \n",
      "\n",
      "custom_o1_above                              \n",
      "custom_p1                   2                \n",
      "custom_p2                   4                \n",
      "                     c      a      b      c  \n",
      "2018-01-01       False  False   True  False  \n",
      "2018-01-02       False   True   True   True  \n",
      "2018-01-03       False   True   True   True  \n",
      "2018-01-04       False   True   True   True  \n",
      "2018-01-05       False   True  False  False  \n",
      "15.3 ms ± 136 µs per loop (mean ± std. dev. of 7 runs, 100 loops each)\n"
     ]
    }
   ],
   "source": [
    "print(pd.concat((custom_ind.o1 > 2, custom_ind.o1 > 3), axis=1))\n",
    "%timeit np.hstack((big_custom_ind.o1.values > 2, big_custom_ind.o1.values > 3))\n",
    "\n",
    "print(custom_ind.o1_above([2, 3], multiple=True))\n",
    "%timeit big_custom_ind.o1_above([2, 3], multiple=True)"
   ]
  },
  {
   "cell_type": "markdown",
   "metadata": {},
   "source": [
    "## MA"
   ]
  },
  {
   "cell_type": "code",
   "execution_count": 30,
   "metadata": {},
   "outputs": [
    {
     "name": "stdout",
     "output_type": "stream",
     "text": [
      "2018-01-01    NaN\n",
      "2018-01-02    1.5\n",
      "2018-01-03    2.5\n",
      "2018-01-04    3.5\n",
      "2018-01-05    4.5\n",
      "Name: (2, False, a), dtype: float64\n",
      "              a    b    c\n",
      "2018-01-01  NaN  NaN  NaN\n",
      "2018-01-02  1.5  4.5  1.5\n",
      "2018-01-03  2.5  3.5  2.5\n",
      "2018-01-04  3.5  2.5  2.5\n",
      "2018-01-05  4.5  1.5  1.5\n",
      "ma_window      2               3               \n",
      "ma_ewm     False           False               \n",
      "               a    b    c     a    b         c\n",
      "2018-01-01   NaN  NaN  NaN   NaN  NaN       NaN\n",
      "2018-01-02   1.5  4.5  1.5   NaN  NaN       NaN\n",
      "2018-01-03   2.5  3.5  2.5   2.0  4.0  2.000000\n",
      "2018-01-04   3.5  2.5  2.5   3.0  3.0  2.333333\n",
      "2018-01-05   4.5  1.5  1.5   4.0  2.0  2.000000\n",
      "ma_window      2                   3                    \n",
      "ma_ewm     False               True                     \n",
      "               a    b    c         a         b         c\n",
      "2018-01-01   NaN  NaN  NaN       NaN       NaN       NaN\n",
      "2018-01-02   1.5  4.5  1.5       NaN       NaN       NaN\n",
      "2018-01-03   2.5  3.5  2.5  2.428571  3.571429  2.428571\n",
      "2018-01-04   3.5  2.5  2.5  3.266667  2.733333  2.200000\n",
      "2018-01-05   4.5  1.5  1.5  4.161290  1.838710  1.580645\n",
      "ma_window      2                                             3                 \\\n",
      "ma_ewm     False               True                      False                  \n",
      "               a    b    c         a         b         c     a    b         c   \n",
      "2018-01-01   NaN  NaN  NaN       NaN       NaN       NaN   NaN  NaN       NaN   \n",
      "2018-01-02   1.5  4.5  1.5  1.750000  4.250000  1.750000   NaN  NaN       NaN   \n",
      "2018-01-03   2.5  3.5  2.5  2.615385  3.384615  2.615385   2.0  4.0  2.000000   \n",
      "2018-01-04   3.5  2.5  2.5  3.550000  2.450000  2.200000   3.0  3.0  2.333333   \n",
      "2018-01-05   4.5  1.5  1.5  4.520661  1.479339  1.396694   4.0  2.0  2.000000   \n",
      "\n",
      "ma_window                                 \n",
      "ma_ewm         True                       \n",
      "                   a         b         c  \n",
      "2018-01-01       NaN       NaN       NaN  \n",
      "2018-01-02       NaN       NaN       NaN  \n",
      "2018-01-03  2.428571  3.571429  2.428571  \n",
      "2018-01-04  3.266667  2.733333  2.200000  \n",
      "2018-01-05  4.161290  1.838710  1.580645  \n"
     ]
    }
   ],
   "source": [
    "print(vbt.MA.from_params(ts['a'], 2).ma)\n",
    "print(vbt.MA.from_params(ts, 2).ma)\n",
    "print(vbt.MA.from_params(ts, [2, 3], ewm=False).ma)\n",
    "print(vbt.MA.from_params(ts, [2, 3], ewm=[False, True]).ma)\n",
    "print(vbt.MA.from_params(ts, [2, 3], ewm=[False, True], param_product=True).ma)"
   ]
  },
  {
   "cell_type": "code",
   "execution_count": 31,
   "metadata": {},
   "outputs": [
    {
     "name": "stdout",
     "output_type": "stream",
     "text": [
      "29.2 ms ± 443 µs per loop (mean ± std. dev. of 7 runs, 10 loops each)\n",
      "14.2 ms ± 230 µs per loop (mean ± std. dev. of 7 runs, 100 loops each)\n",
      "21.7 ms ± 992 µs per loop (mean ± std. dev. of 7 runs, 1 loop each)\n",
      "(1000, 1000)\n"
     ]
    }
   ],
   "source": [
    "# One window\n",
    "%timeit big_ts.rolling(2).mean() # pandas\n",
    "%timeit vbt.MA.from_params(big_ts, 2, return_cache=True) # cache only\n",
    "%timeit vbt.MA.from_params(big_ts, 2) # with pre+postprocessing and still beats pandas\n",
    "\n",
    "print(vbt.MA.from_params(big_ts, 2).ma.shape)"
   ]
  },
  {
   "cell_type": "code",
   "execution_count": 32,
   "metadata": {},
   "outputs": [
    {
     "name": "stdout",
     "output_type": "stream",
     "text": [
      "3.47 s ± 23.6 ms per loop (mean ± std. dev. of 7 runs, 1 loop each)\n",
      "1.61 s ± 18.1 ms per loop (mean ± std. dev. of 7 runs, 1 loop each)\n",
      "2.62 s ± 16.3 ms per loop (mean ± std. dev. of 7 runs, 1 loop each)\n",
      "976 ms ± 10.6 ms per loop (mean ± std. dev. of 7 runs, 1 loop each)\n",
      "(1000, 98000)\n"
     ]
    }
   ],
   "source": [
    "# Multiple windows\n",
    "%timeit pd.concat([big_ts.rolling(i).mean() for i in np.arange(2, 100)])\n",
    "%timeit vbt.MA.from_params(big_ts, np.arange(2, 100), return_cache=True) # cache only\n",
    "%timeit vbt.MA.from_params(big_ts, np.arange(2, 100))\n",
    "cache = vbt.MA.from_params(big_ts, np.arange(2, 100), return_cache=True)\n",
    "%timeit vbt.MA.from_params(big_ts, np.arange(2, 100), cache=cache) # using cache\n",
    "\n",
    "print(vbt.MA.from_params(big_ts, np.arange(2, 100)).ma.shape)"
   ]
  },
  {
   "cell_type": "code",
   "execution_count": 33,
   "metadata": {},
   "outputs": [
    {
     "name": "stdout",
     "output_type": "stream",
     "text": [
      "3.66 s ± 91.8 ms per loop (mean ± std. dev. of 7 runs, 1 loop each)\n",
      "13.6 ms ± 93.4 µs per loop (mean ± std. dev. of 7 runs, 100 loops each)\n",
      "1.01 s ± 5.94 ms per loop (mean ± std. dev. of 7 runs, 1 loop each)\n",
      "(1000, 100000)\n"
     ]
    }
   ],
   "source": [
    "# One window repeated\n",
    "%timeit pd.concat([big_ts.rolling(i).mean() for i in np.full(100, 2)])\n",
    "%timeit vbt.MA.from_params(big_ts, np.full(100, 2), return_cache=True)\n",
    "%timeit vbt.MA.from_params(big_ts, np.full(100, 2))\n",
    "\n",
    "print(vbt.MA.from_params(big_ts, np.full(100, 2)).ma.shape)"
   ]
  },
  {
   "cell_type": "code",
   "execution_count": 34,
   "metadata": {},
   "outputs": [],
   "source": [
    "ma = vbt.MA.from_params(ts, [2, 3], ewm=[False, True])\n",
    "big_ma = vbt.MA.from_params(big_ts, np.arange(2, 100), ewm=False)"
   ]
  },
  {
   "cell_type": "code",
   "execution_count": 35,
   "metadata": {},
   "outputs": [
    {
     "data": {
      "image/png": "[encoded data removed]"
     },
     "metadata": {},
     "output_type": "display_data"
    }
   ],
   "source": [
    "ma[(2, False, 'a')].plot().show_png()"
   ]
  },
  {
   "cell_type": "markdown",
   "metadata": {},
   "source": [
    "### Combinations"
   ]
  },
  {
   "cell_type": "code",
   "execution_count": 36,
   "metadata": {},
   "outputs": [
    {
     "name": "stdout",
     "output_type": "stream",
     "text": [
      "[ 2  2  2  2  2  2  2  2  2  2  2  2  2  2  2  2  2  3  3  3  3  3  3  3\n",
      "  3  3  3  3  3  3  3  3  3  4  4  4  4  4  4  4  4  4  4  4  4  4  4  4\n",
      "  5  5  5  5  5  5  5  5  5  5  5  5  5  5  6  6  6  6  6  6  6  6  6  6\n",
      "  6  6  6  7  7  7  7  7  7  7  7  7  7  7  7  8  8  8  8  8  8  8  8  8\n",
      "  8  8  9  9  9  9  9  9  9  9  9  9 10 10 10 10 10 10 10 10 10 11 11 11\n",
      " 11 11 11 11 11 12 12 12 12 12 12 12 13 13 13 13 13 13 14 14 14 14 14 15\n",
      " 15 15 15 16 16 16 17 17 18] [ 3  4  5  6  7  8  9 10 11 12 13 14 15 16 17 18 19  4  5  6  7  8  9 10\n",
      " 11 12 13 14 15 16 17 18 19  5  6  7  8  9 10 11 12 13 14 15 16 17 18 19\n",
      "  6  7  8  9 10 11 12 13 14 15 16 17 18 19  7  8  9 10 11 12 13 14 15 16\n",
      " 17 18 19  8  9 10 11 12 13 14 15 16 17 18 19  9 10 11 12 13 14 15 16 17\n",
      " 18 19 10 11 12 13 14 15 16 17 18 19 11 12 13 14 15 16 17 18 19 12 13 14\n",
      " 15 16 17 18 19 13 14 15 16 17 18 19 14 15 16 17 18 19 15 16 17 18 19 16\n",
      " 17 18 19 17 18 19 18 19 19]\n",
      "4.68 s ± 524 ms per loop (mean ± std. dev. of 7 runs, 1 loop each)\n",
      "4.23 s ± 40.9 ms per loop (mean ± std. dev. of 7 runs, 1 loop each)\n"
     ]
    }
   ],
   "source": [
    "comb = itertools.combinations(np.arange(2, 20), 2)\n",
    "fast_windows, slow_windows = np.asarray(list(comb)).transpose()\n",
    "print(fast_windows, slow_windows)\n",
    "\n",
    "%timeit vbt.MA.from_params(big_ts, fast_windows), vbt.MA.from_params(big_ts, slow_windows) # naive way\n",
    "%timeit vbt.MA.from_combs(big_ts, np.arange(2, 20), 2) # performs caching -> a bit faster"
   ]
  },
  {
   "cell_type": "code",
   "execution_count": 37,
   "metadata": {},
   "outputs": [
    {
     "name": "stdout",
     "output_type": "stream",
     "text": [
      "ma1_window     2                              3               \n",
      "ma1_ewm    False                          False               \n",
      "               a    b    c    a    b    c     a    b         c\n",
      "2018-01-01   NaN  NaN  NaN  NaN  NaN  NaN   NaN  NaN       NaN\n",
      "2018-01-02   1.5  4.5  1.5  1.5  4.5  1.5   NaN  NaN       NaN\n",
      "2018-01-03   2.5  3.5  2.5  2.5  3.5  2.5   2.0  4.0  2.000000\n",
      "2018-01-04   3.5  2.5  2.5  3.5  2.5  2.5   3.0  3.0  2.333333\n",
      "2018-01-05   4.5  1.5  1.5  4.5  1.5  1.5   4.0  2.0  2.000000\n",
      "ma2_window     3                        4                                \\\n",
      "ma2_ewm    False                    True                                  \n",
      "               a    b         c         a         b         c         a   \n",
      "2018-01-01   NaN  NaN       NaN       NaN       NaN       NaN       NaN   \n",
      "2018-01-02   NaN  NaN       NaN       NaN       NaN       NaN       NaN   \n",
      "2018-01-03   2.0  4.0  2.000000       NaN       NaN       NaN       NaN   \n",
      "2018-01-04   3.0  3.0  2.333333  3.095588  2.904412  2.176471  3.095588   \n",
      "2018-01-05   4.0  2.0  2.000000  3.921582  2.078418  1.666204  3.921582   \n",
      "\n",
      "ma2_window                      \n",
      "ma2_ewm                         \n",
      "                   b         c  \n",
      "2018-01-01       NaN       NaN  \n",
      "2018-01-02       NaN       NaN  \n",
      "2018-01-03       NaN       NaN  \n",
      "2018-01-04  2.904412  2.176471  \n",
      "2018-01-05  2.078418  1.666204  \n"
     ]
    }
   ],
   "source": [
    "ma1, ma2 = vbt.MA.from_combs(ts, [2, 3, 4], 2, ewm=[False, False, True])\n",
    "\n",
    "print(ma1.ma)\n",
    "print(ma2.ma)"
   ]
  },
  {
   "cell_type": "code",
   "execution_count": 38,
   "metadata": {},
   "outputs": [
    {
     "name": "stdout",
     "output_type": "stream",
     "text": [
      "ma1_window      2                                         3              \n",
      "ma1_ewm     False                                     False              \n",
      "ma2_window      3                    4                    4              \n",
      "ma2_ewm     False                True                 True               \n",
      "                a      b      c      a      b      c      a      b      c\n",
      "2018-01-01  False  False  False  False  False  False  False  False  False\n",
      "2018-01-02  False  False  False  False  False  False  False  False  False\n",
      "2018-01-03   True  False   True  False  False  False  False  False  False\n",
      "2018-01-04  False  False  False   True  False   True  False   True   True\n",
      "2018-01-05  False  False  False  False  False  False   True  False  False\n",
      "ma1_window      2                                         3              \n",
      "ma1_ewm     False                                     False              \n",
      "ma2_window      3                    4                    4              \n",
      "ma2_ewm     False                True                 True               \n",
      "                a      b      c      a      b      c      a      b      c\n",
      "2018-01-01  False  False  False  False  False  False  False  False  False\n",
      "2018-01-02  False  False  False  False  False  False  False  False  False\n",
      "2018-01-03  False   True  False  False  False  False  False  False  False\n",
      "2018-01-04  False  False  False  False   True  False   True  False  False\n",
      "2018-01-05  False  False   True  False  False   True  False   True  False\n"
     ]
    },
    {
     "name": "stderr",
     "output_type": "stream",
     "text": [
      "/Users/olegpolakow/Documents/SourceTree/vectorbt/vectorbt/base/accessors.py:413: RuntimeWarning:\n",
      "\n",
      "invalid value encountered in greater\n",
      "\n",
      "/Users/olegpolakow/Documents/SourceTree/vectorbt/vectorbt/base/accessors.py:413: RuntimeWarning:\n",
      "\n",
      "invalid value encountered in less\n",
      "\n"
     ]
    }
   ],
   "source": [
    "print(ma1.ma_above(ma2, crossed=True))\n",
    "print(ma1.ma_below(ma2, crossed=True))"
   ]
  },
  {
   "cell_type": "markdown",
   "metadata": {},
   "source": [
    "## MSTD"
   ]
  },
  {
   "cell_type": "code",
   "execution_count": 39,
   "metadata": {},
   "outputs": [
    {
     "name": "stdout",
     "output_type": "stream",
     "text": [
      "2018-01-01         NaN\n",
      "2018-01-02    0.707107\n",
      "2018-01-03    0.707107\n",
      "2018-01-04    0.707107\n",
      "2018-01-05    0.707107\n",
      "Name: (2, False, a), dtype: float64\n",
      "                   a         b         c\n",
      "2018-01-01       NaN       NaN       NaN\n",
      "2018-01-02  0.707107  0.707107  0.707107\n",
      "2018-01-03  0.707107  0.707107  0.707107\n",
      "2018-01-04  0.707107  0.707107  0.707107\n",
      "2018-01-05  0.707107  0.707107  0.707107\n",
      "mstd_window         2                         3              \n",
      "mstd_ewm        False                     False              \n",
      "                    a         b         c     a    b        c\n",
      "2018-01-01        NaN       NaN       NaN   NaN  NaN      NaN\n",
      "2018-01-02   0.707107  0.707107  0.707107   NaN  NaN      NaN\n",
      "2018-01-03   0.707107  0.707107  0.707107   1.0  1.0  1.00000\n",
      "2018-01-04   0.707107  0.707107  0.707107   1.0  1.0  0.57735\n",
      "2018-01-05   0.707107  0.707107  0.707107   1.0  1.0  1.00000\n",
      "mstd_window         2                             3                    \n",
      "mstd_ewm        False                         True                     \n",
      "                    a         b         c         a         b         c\n",
      "2018-01-01        NaN       NaN       NaN       NaN       NaN       NaN\n",
      "2018-01-02   0.707107  0.707107  0.707107       NaN       NaN       NaN\n",
      "2018-01-03   0.707107  0.707107  0.707107  0.963624  0.963624  0.963624\n",
      "2018-01-04   0.707107  0.707107  0.707107  1.177164  1.177164  0.686607\n",
      "2018-01-05   0.707107  0.707107  0.707107  1.345243  1.345243  0.881714\n",
      "mstd_window         2                                                       3  \\\n",
      "mstd_ewm        False                         True                      False   \n",
      "                    a         b         c         a         b         c     a   \n",
      "2018-01-01        NaN       NaN       NaN       NaN       NaN       NaN   NaN   \n",
      "2018-01-02   0.707107  0.707107  0.707107  0.707107  0.707107  0.707107   NaN   \n",
      "2018-01-03   0.707107  0.707107  0.707107  0.919866  0.919866  0.919866   1.0   \n",
      "2018-01-04   0.707107  0.707107  0.707107  1.059753  1.059753  0.656330   1.0   \n",
      "2018-01-05   0.707107  0.707107  0.707107  1.141624  1.141624  0.884672   1.0   \n",
      "\n",
      "mstd_window                                              \n",
      "mstd_ewm                      True                       \n",
      "               b        c         a         b         c  \n",
      "2018-01-01   NaN      NaN       NaN       NaN       NaN  \n",
      "2018-01-02   NaN      NaN       NaN       NaN       NaN  \n",
      "2018-01-03   1.0  1.00000  0.963624  0.963624  0.963624  \n",
      "2018-01-04   1.0  0.57735  1.177164  1.177164  0.686607  \n",
      "2018-01-05   1.0  1.00000  1.345243  1.345243  0.881714  \n"
     ]
    }
   ],
   "source": [
    "print(vbt.MSTD.from_params(ts['a'], 2).mstd)\n",
    "print(vbt.MSTD.from_params(ts, 2).mstd)\n",
    "print(vbt.MSTD.from_params(ts, [2, 3], ewm=False).mstd)\n",
    "print(vbt.MSTD.from_params(ts, [2, 3], ewm=[False, True]).mstd)\n",
    "print(vbt.MSTD.from_params(ts, [2, 3], ewm=[False, True], param_product=True).mstd)"
   ]
  },
  {
   "cell_type": "code",
   "execution_count": 40,
   "metadata": {},
   "outputs": [
    {
     "name": "stdout",
     "output_type": "stream",
     "text": [
      "53.7 ms ± 607 µs per loop (mean ± std. dev. of 7 runs, 10 loops each)\n",
      "24.3 ms ± 1.01 ms per loop (mean ± std. dev. of 7 runs, 1 loop each)\n",
      "(1000, 1000)\n"
     ]
    }
   ],
   "source": [
    "# One window\n",
    "%timeit big_ts.rolling(2).std()\n",
    "%timeit vbt.MSTD.from_params(big_ts, 2)\n",
    "\n",
    "print(vbt.MSTD.from_params(big_ts, 2).mstd.shape)"
   ]
  },
  {
   "cell_type": "code",
   "execution_count": 41,
   "metadata": {},
   "outputs": [
    {
     "name": "stdout",
     "output_type": "stream",
     "text": [
      "5.98 s ± 33 ms per loop (mean ± std. dev. of 7 runs, 1 loop each)\n",
      "2.87 s ± 32.8 ms per loop (mean ± std. dev. of 7 runs, 1 loop each)\n",
      "(1000, 98000)\n"
     ]
    }
   ],
   "source": [
    "# Multiple windows\n",
    "%timeit pd.concat([big_ts.rolling(i).std() for i in np.arange(2, 100)])\n",
    "%timeit vbt.MSTD.from_params(big_ts, np.arange(2, 100))\n",
    "\n",
    "print(vbt.MSTD.from_params(big_ts, np.arange(2, 100)).mstd.shape)"
   ]
  },
  {
   "cell_type": "code",
   "execution_count": 42,
   "metadata": {},
   "outputs": [
    {
     "name": "stdout",
     "output_type": "stream",
     "text": [
      "993 ms ± 37.5 ms per loop (mean ± std. dev. of 7 runs, 1 loop each)\n",
      "(1000, 100000)\n"
     ]
    }
   ],
   "source": [
    "# One window repeated\n",
    "%timeit vbt.MA.from_params(big_ts, np.full(100, 2))\n",
    "\n",
    "print(vbt.MSTD.from_params(big_ts, np.full(100, 2)).mstd.shape)"
   ]
  },
  {
   "cell_type": "code",
   "execution_count": 43,
   "metadata": {},
   "outputs": [
    {
     "name": "stdout",
     "output_type": "stream",
     "text": [
      "mstd_window         2                             3                    \n",
      "mstd_ewm        False                         True                     \n",
      "                    a         b         c         a         b         c\n",
      "2018-01-01        NaN       NaN       NaN       NaN       NaN       NaN\n",
      "2018-01-02   0.707107  0.707107  0.707107       NaN       NaN       NaN\n",
      "2018-01-03   0.707107  0.707107  0.707107  0.963624  0.963624  0.963624\n",
      "2018-01-04   0.707107  0.707107  0.707107  1.177164  1.177164  0.686607\n",
      "2018-01-05   0.707107  0.707107  0.707107  1.345243  1.345243  0.881714\n"
     ]
    }
   ],
   "source": [
    "mstd = vbt.MSTD.from_params(ts, [2, 3], [False, True])\n",
    "\n",
    "print(mstd.mstd)"
   ]
  },
  {
   "cell_type": "code",
   "execution_count": 44,
   "metadata": {},
   "outputs": [
    {
     "data": {
      "image/png": "[encoded data removed]"
     },
     "metadata": {},
     "output_type": "display_data"
    }
   ],
   "source": [
    "mstd[(2, False, 'a')].plot().show_png()"
   ]
  },
  {
   "cell_type": "markdown",
   "metadata": {},
   "source": [
    "## BollingerBands"
   ]
  },
  {
   "cell_type": "code",
   "execution_count": 45,
   "metadata": {},
   "outputs": [
    {
     "name": "stdout",
     "output_type": "stream",
     "text": [
      "              a    b    c\n",
      "2018-01-01  NaN  NaN  NaN\n",
      "2018-01-02  1.5  4.5  1.5\n",
      "2018-01-03  2.5  3.5  2.5\n",
      "2018-01-04  3.5  2.5  2.5\n",
      "2018-01-05  4.5  1.5  1.5\n",
      "bb_window      2               3               \n",
      "bb_ewm     False           False               \n",
      "bb_alpha     1.5             1.5               \n",
      "               a    b    c     a    b         c\n",
      "2018-01-01   NaN  NaN  NaN   NaN  NaN       NaN\n",
      "2018-01-02   1.5  4.5  1.5   NaN  NaN       NaN\n",
      "2018-01-03   2.5  3.5  2.5   2.0  4.0  2.000000\n",
      "2018-01-04   3.5  2.5  2.5   3.0  3.0  2.333333\n",
      "2018-01-05   4.5  1.5  1.5   4.0  2.0  2.000000\n",
      "bb_window      2                   3                    \n",
      "bb_ewm     False               True                     \n",
      "bb_alpha     1.0                 2.0                    \n",
      "               a    b    c         a         b         c\n",
      "2018-01-01   NaN  NaN  NaN       NaN       NaN       NaN\n",
      "2018-01-02   1.5  4.5  1.5       NaN       NaN       NaN\n",
      "2018-01-03   2.5  3.5  2.5  2.428571  3.571429  2.428571\n",
      "2018-01-04   3.5  2.5  2.5  3.266667  2.733333  2.200000\n",
      "2018-01-05   4.5  1.5  1.5  4.161290  1.838710  1.580645\n",
      "bb_window      2                                                         \\\n",
      "bb_ewm     False                              True                        \n",
      "bb_alpha     1.0            2.0                 1.0                       \n",
      "               a    b    c    a    b    c         a         b         c   \n",
      "2018-01-01   NaN  NaN  NaN  NaN  NaN  NaN       NaN       NaN       NaN   \n",
      "2018-01-02   1.5  4.5  1.5  1.5  4.5  1.5  1.750000  4.250000  1.750000   \n",
      "2018-01-03   2.5  3.5  2.5  2.5  3.5  2.5  2.615385  3.384615  2.615385   \n",
      "2018-01-04   3.5  2.5  2.5  3.5  2.5  2.5  3.550000  2.450000  2.200000   \n",
      "2018-01-05   4.5  1.5  1.5  4.5  1.5  1.5  4.520661  1.479339  1.396694   \n",
      "\n",
      "bb_window             ...         3                                          \\\n",
      "bb_ewm                ...     False                         True              \n",
      "bb_alpha         2.0  ...       1.0  2.0                      1.0             \n",
      "                   a  ...         c    a    b         c         a         b   \n",
      "2018-01-01       NaN  ...       NaN  NaN  NaN       NaN       NaN       NaN   \n",
      "2018-01-02  1.750000  ...       NaN  NaN  NaN       NaN       NaN       NaN   \n",
      "2018-01-03  2.615385  ...  2.000000  2.0  4.0  2.000000  2.428571  3.571429   \n",
      "2018-01-04  3.550000  ...  2.333333  3.0  3.0  2.333333  3.266667  2.733333   \n",
      "2018-01-05  4.520661  ...  2.000000  4.0  2.0  2.000000  4.161290  1.838710   \n",
      "\n",
      "bb_window                                           \n",
      "bb_ewm                                              \n",
      "bb_alpha                   2.0                      \n",
      "                   c         a         b         c  \n",
      "2018-01-01       NaN       NaN       NaN       NaN  \n",
      "2018-01-02       NaN       NaN       NaN       NaN  \n",
      "2018-01-03  2.428571  2.428571  3.571429  2.428571  \n",
      "2018-01-04  2.200000  3.266667  2.733333  2.200000  \n",
      "2018-01-05  1.580645  4.161290  1.838710  1.580645  \n",
      "\n",
      "[5 rows x 24 columns]\n"
     ]
    }
   ],
   "source": [
    "print(vbt.BollingerBands.from_params(ts, window=2, alpha=1).middle)\n",
    "print(vbt.BollingerBands.from_params(ts, window=[2, 3], ewm=False, alpha=1.5).middle)\n",
    "print(vbt.BollingerBands.from_params(ts, window=[2, 3], ewm=[False, True], alpha=[1, 2]).middle)\n",
    "print(vbt.BollingerBands.from_params(ts, window=[2, 3], ewm=[False, True], alpha=[1, 2], param_product=True).middle)"
   ]
  },
  {
   "cell_type": "code",
   "execution_count": 46,
   "metadata": {},
   "outputs": [
    {
     "name": "stdout",
     "output_type": "stream",
     "text": [
      "54.3 ms ± 3.54 ms per loop (mean ± std. dev. of 7 runs, 1 loop each)\n",
      "(1000, 1000)\n"
     ]
    }
   ],
   "source": [
    "# One window\n",
    "%timeit vbt.BollingerBands.from_params(big_ts)\n",
    "\n",
    "print(vbt.BollingerBands.from_params(big_ts).ts.shape)"
   ]
  },
  {
   "cell_type": "code",
   "execution_count": 47,
   "metadata": {},
   "outputs": [
    {
     "name": "stdout",
     "output_type": "stream",
     "text": [
      "6.37 s ± 14.4 ms per loop (mean ± std. dev. of 7 runs, 1 loop each)\n",
      "(1000, 98000)\n"
     ]
    }
   ],
   "source": [
    "# Multiple windows\n",
    "%timeit vbt.BollingerBands.from_params(big_ts, window=np.arange(2, 100))\n",
    "\n",
    "print(vbt.BollingerBands.from_params(big_ts, window=np.arange(2, 100)).ts.shape)"
   ]
  },
  {
   "cell_type": "code",
   "execution_count": 48,
   "metadata": {},
   "outputs": [
    {
     "name": "stdout",
     "output_type": "stream",
     "text": [
      "2.89 s ± 84 ms per loop (mean ± std. dev. of 7 runs, 1 loop each)\n",
      "(1000, 100000)\n"
     ]
    }
   ],
   "source": [
    "# One window repeated\n",
    "%timeit vbt.BollingerBands.from_params(big_ts, window=np.full(100, 2))\n",
    "\n",
    "print(vbt.BollingerBands.from_params(big_ts, window=np.full(100, 2)).ts.shape)"
   ]
  },
  {
   "cell_type": "code",
   "execution_count": 49,
   "metadata": {},
   "outputs": [
    {
     "name": "stdout",
     "output_type": "stream",
     "text": [
      "bb_window      2                         \n",
      "bb_ewm     False                         \n",
      "bb_alpha     1.0            2.0          \n",
      "               a    b    c    a    b    c\n",
      "2018-01-01   NaN  NaN  NaN  NaN  NaN  NaN\n",
      "2018-01-02   1.5  4.5  1.5  1.5  4.5  1.5\n",
      "2018-01-03   2.5  3.5  2.5  2.5  3.5  2.5\n",
      "2018-01-04   3.5  2.5  2.5  3.5  2.5  2.5\n",
      "2018-01-05   4.5  1.5  1.5  4.5  1.5  1.5\n",
      "\n",
      "bb_window          2                                                  \n",
      "bb_ewm         False                                                  \n",
      "bb_alpha         1.0                           2.0                    \n",
      "                   a         b         c         a         b         c\n",
      "2018-01-01       NaN       NaN       NaN       NaN       NaN       NaN\n",
      "2018-01-02  2.207107  5.207107  2.207107  2.914214  5.914214  2.914214\n",
      "2018-01-03  3.207107  4.207107  3.207107  3.914214  4.914214  3.914214\n",
      "2018-01-04  4.207107  3.207107  3.207107  4.914214  3.914214  3.914214\n",
      "2018-01-05  5.207107  2.207107  2.207107  5.914214  2.914214  2.914214\n",
      "\n",
      "bb_window          2                                                  \n",
      "bb_ewm         False                                                  \n",
      "bb_alpha         1.0                           2.0                    \n",
      "                   a         b         c         a         b         c\n",
      "2018-01-01       NaN       NaN       NaN       NaN       NaN       NaN\n",
      "2018-01-02  0.792893  3.792893  0.792893  0.085786  3.085786  0.085786\n",
      "2018-01-03  1.792893  2.792893  1.792893  1.085786  2.085786  1.085786\n",
      "2018-01-04  2.792893  1.792893  1.792893  2.085786  1.085786  1.085786\n",
      "2018-01-05  3.792893  0.792893  0.792893  3.085786  0.085786  0.085786\n",
      "\n",
      "bb_window          2                                                  \n",
      "bb_ewm         False                                                  \n",
      "bb_alpha         1.0                           2.0                    \n",
      "                   a         b         c         a         b         c\n",
      "2018-01-01       NaN       NaN       NaN       NaN       NaN       NaN\n",
      "2018-01-02  0.853553  0.146447  0.853553  0.676777  0.323223  0.676777\n",
      "2018-01-03  0.853553  0.146447  0.853553  0.676777  0.323223  0.676777\n",
      "2018-01-04  0.853553  0.146447  0.146447  0.676777  0.323223  0.323223\n",
      "2018-01-05  0.853553  0.146447  0.146447  0.676777  0.323223  0.323223\n",
      "\n",
      "bb_window          2                                                  \n",
      "bb_ewm         False                                                  \n",
      "bb_alpha         1.0                           2.0                    \n",
      "                   a         b         c         a         b         c\n",
      "2018-01-01       NaN       NaN       NaN       NaN       NaN       NaN\n",
      "2018-01-02  0.942809  0.314270  0.942809  1.885618  0.628539  1.885618\n",
      "2018-01-03  0.565685  0.404061  0.565685  1.131371  0.808122  1.131371\n",
      "2018-01-04  0.404061  0.565685  0.565685  0.808122  1.131371  1.131371\n",
      "2018-01-05  0.314270  0.942809  0.942809  0.628539  1.885618  1.885618\n"
     ]
    }
   ],
   "source": [
    "bb = vbt.BollingerBands.from_params(ts, window=2, alpha=[1., 2.], ewm=False)\n",
    "\n",
    "print(bb.middle)\n",
    "print()\n",
    "print(bb.upper)\n",
    "print()\n",
    "print(bb.lower)\n",
    "print()\n",
    "print(bb.percent_b)\n",
    "print()\n",
    "print(bb.bandwidth)"
   ]
  },
  {
   "cell_type": "code",
   "execution_count": 50,
   "metadata": {},
   "outputs": [
    {
     "name": "stdout",
     "output_type": "stream",
     "text": [
      "bb_window       2                                   \n",
      "bb_ewm      False                                   \n",
      "bb_alpha      1.0                  2.0              \n",
      "                a      b      c      a      b      c\n",
      "2018-01-01  False  False  False  False  False  False\n",
      "2018-01-02   True   True   True   True   True   True\n",
      "2018-01-03   True   True   True   True   True   True\n",
      "2018-01-04   True   True   True   True   True   True\n",
      "2018-01-05   True   True   True   True   True   True\n"
     ]
    },
    {
     "name": "stderr",
     "output_type": "stream",
     "text": [
      "/Users/olegpolakow/Documents/SourceTree/vectorbt/vectorbt/base/accessors.py:413: RuntimeWarning:\n",
      "\n",
      "invalid value encountered in less\n",
      "\n",
      "/Users/olegpolakow/Documents/SourceTree/vectorbt/vectorbt/base/accessors.py:413: RuntimeWarning:\n",
      "\n",
      "invalid value encountered in greater\n",
      "\n"
     ]
    }
   ],
   "source": [
    "print(bb.ts_below(bb.upper) & bb.ts_above(bb.lower)) # price between bands"
   ]
  },
  {
   "cell_type": "code",
   "execution_count": 51,
   "metadata": {},
   "outputs": [
    {
     "data": {
      "image/png": "[encoded data removed]"
     },
     "metadata": {},
     "output_type": "display_data"
    }
   ],
   "source": [
    "bb[(2, False, 1., 'a')].plot().show_png()"
   ]
  },
  {
   "cell_type": "markdown",
   "metadata": {},
   "source": [
    "## RSI"
   ]
  },
  {
   "cell_type": "code",
   "execution_count": 52,
   "metadata": {},
   "outputs": [
    {
     "name": "stdout",
     "output_type": "stream",
     "text": [
      "2018-01-01      NaN\n",
      "2018-01-02      NaN\n",
      "2018-01-03    100.0\n",
      "2018-01-04    100.0\n",
      "2018-01-05    100.0\n",
      "Name: (2, False, a), dtype: float64\n",
      "                a    b      c\n",
      "2018-01-01    NaN  NaN    NaN\n",
      "2018-01-02    NaN  NaN    NaN\n",
      "2018-01-03  100.0  0.0  100.0\n",
      "2018-01-04  100.0  0.0   50.0\n",
      "2018-01-05  100.0  0.0    0.0\n",
      "rsi_window      2                  3                \n",
      "rsi_ewm     False              False                \n",
      "                a    b      c      a    b          c\n",
      "2018-01-01    NaN  NaN    NaN    NaN  NaN        NaN\n",
      "2018-01-02    NaN  NaN    NaN    NaN  NaN        NaN\n",
      "2018-01-03  100.0  0.0  100.0    NaN  NaN        NaN\n",
      "2018-01-04  100.0  0.0   50.0  100.0  0.0  66.666667\n",
      "2018-01-05  100.0  0.0    0.0  100.0  0.0  33.333333\n",
      "rsi_window      2                  3                \n",
      "rsi_ewm     False              True                 \n",
      "                a    b      c      a    b          c\n",
      "2018-01-01    NaN  NaN    NaN    NaN  NaN        NaN\n",
      "2018-01-02    NaN  NaN    NaN    NaN  NaN        NaN\n",
      "2018-01-03  100.0  0.0  100.0    NaN  NaN        NaN\n",
      "2018-01-04  100.0  0.0   50.0  100.0  0.0  42.857143\n",
      "2018-01-05  100.0  0.0    0.0  100.0  0.0  20.000000\n",
      "rsi_window      2                                          3                  \\\n",
      "rsi_ewm     False              True                    False                   \n",
      "                a    b      c      a    b           c      a    b          c   \n",
      "2018-01-01    NaN  NaN    NaN    NaN  NaN         NaN    NaN  NaN        NaN   \n",
      "2018-01-02    NaN  NaN    NaN    NaN  NaN         NaN    NaN  NaN        NaN   \n",
      "2018-01-03  100.0  0.0  100.0  100.0  0.0  100.000000    NaN  NaN        NaN   \n",
      "2018-01-04  100.0  0.0   50.0  100.0  0.0   30.769231  100.0  0.0  66.666667   \n",
      "2018-01-05  100.0  0.0    0.0  100.0  0.0   10.000000  100.0  0.0  33.333333   \n",
      "\n",
      "rsi_window                         \n",
      "rsi_ewm     True                   \n",
      "                a    b          c  \n",
      "2018-01-01    NaN  NaN        NaN  \n",
      "2018-01-02    NaN  NaN        NaN  \n",
      "2018-01-03    NaN  NaN        NaN  \n",
      "2018-01-04  100.0  0.0  42.857143  \n",
      "2018-01-05  100.0  0.0  20.000000  \n"
     ]
    }
   ],
   "source": [
    "print(vbt.RSI.from_params(ts['a'], window=2).rsi)\n",
    "print(vbt.RSI.from_params(ts, window=2).rsi)\n",
    "print(vbt.RSI.from_params(ts, window=[2, 3], ewm=False).rsi)\n",
    "print(vbt.RSI.from_params(ts, window=[2, 3], ewm=[False, True]).rsi)\n",
    "print(vbt.RSI.from_params(ts, window=[2, 3], ewm=[False, True], param_product=True).rsi)"
   ]
  },
  {
   "cell_type": "code",
   "execution_count": 53,
   "metadata": {},
   "outputs": [
    {
     "name": "stdout",
     "output_type": "stream",
     "text": [
      "67.5 ms ± 3.37 ms per loop (mean ± std. dev. of 7 runs, 1 loop each)\n",
      "(1000, 1000)\n"
     ]
    }
   ],
   "source": [
    "# One window\n",
    "%timeit vbt.RSI.from_params(big_ts, window=2)\n",
    "\n",
    "print(vbt.RSI.from_params(big_ts, window=2).rsi.shape)"
   ]
  },
  {
   "cell_type": "code",
   "execution_count": 54,
   "metadata": {},
   "outputs": [
    {
     "name": "stdout",
     "output_type": "stream",
     "text": [
      "4.95 s ± 27.2 ms per loop (mean ± std. dev. of 7 runs, 1 loop each)\n",
      "(1000, 98000)\n"
     ]
    }
   ],
   "source": [
    "# Multiple windows\n",
    "%timeit vbt.RSI.from_params(big_ts, window=np.arange(2, 100))\n",
    "\n",
    "print(vbt.RSI.from_params(big_ts, window=np.arange(2, 100)).rsi.shape)"
   ]
  },
  {
   "cell_type": "code",
   "execution_count": 55,
   "metadata": {},
   "outputs": [
    {
     "name": "stdout",
     "output_type": "stream",
     "text": [
      "1.4 s ± 12.2 ms per loop (mean ± std. dev. of 7 runs, 1 loop each)\n",
      "(1000, 100000)\n"
     ]
    }
   ],
   "source": [
    "# One window repeated\n",
    "%timeit vbt.RSI.from_params(big_ts, window=np.full(100, 2))\n",
    "\n",
    "print(vbt.RSI.from_params(big_ts, window=np.full(100, 2)).rsi.shape)"
   ]
  },
  {
   "cell_type": "code",
   "execution_count": 56,
   "metadata": {},
   "outputs": [
    {
     "name": "stdout",
     "output_type": "stream",
     "text": [
      "rsi_window      2                  3                \n",
      "rsi_ewm     False              True                 \n",
      "                a    b      c      a    b          c\n",
      "2018-01-01    NaN  NaN    NaN    NaN  NaN        NaN\n",
      "2018-01-02    NaN  NaN    NaN    NaN  NaN        NaN\n",
      "2018-01-03  100.0  0.0  100.0    NaN  NaN        NaN\n",
      "2018-01-04  100.0  0.0   50.0  100.0  0.0  42.857143\n",
      "2018-01-05  100.0  0.0    0.0  100.0  0.0  20.000000\n"
     ]
    }
   ],
   "source": [
    "rsi = vbt.RSI.from_params(ts, window=[2, 3], ewm=[False, True])\n",
    "\n",
    "print(rsi.rsi)"
   ]
  },
  {
   "cell_type": "code",
   "execution_count": 57,
   "metadata": {},
   "outputs": [
    {
     "name": "stdout",
     "output_type": "stream",
     "text": [
      "rsi_window      2                    3              \n",
      "rsi_ewm     False                True               \n",
      "                a      b      c      a      b      c\n",
      "2018-01-01  False  False  False  False  False  False\n",
      "2018-01-02  False  False  False  False  False  False\n",
      "2018-01-03   True  False   True  False  False  False\n",
      "2018-01-04   True  False  False   True  False  False\n",
      "2018-01-05   True  False  False   True  False  False\n"
     ]
    },
    {
     "name": "stderr",
     "output_type": "stream",
     "text": [
      "/Users/olegpolakow/Documents/SourceTree/vectorbt/vectorbt/base/accessors.py:413: RuntimeWarning:\n",
      "\n",
      "invalid value encountered in greater\n",
      "\n"
     ]
    }
   ],
   "source": [
    "print(rsi.rsi_above(70))"
   ]
  },
  {
   "cell_type": "code",
   "execution_count": 58,
   "metadata": {},
   "outputs": [
    {
     "data": {
      "image/png": "[encoded data removed]"
     },
     "metadata": {},
     "output_type": "display_data"
    }
   ],
   "source": [
    "rsi[(2, False, 'a')].plot().show_png()"
   ]
  },
  {
   "cell_type": "markdown",
   "metadata": {},
   "source": [
    "## Stochastic"
   ]
  },
  {
   "cell_type": "code",
   "execution_count": 59,
   "metadata": {},
   "outputs": [
    {
     "name": "stdout",
     "output_type": "stream",
     "text": [
      "2018-01-01      NaN\n",
      "2018-01-02      NaN\n",
      "2018-01-03      NaN\n",
      "2018-01-04    100.0\n",
      "2018-01-05    100.0\n",
      "Name: (2, 3, False, a), dtype: float64\n",
      "2018-01-01          NaN\n",
      "2018-01-02          NaN\n",
      "2018-01-03          NaN\n",
      "2018-01-04    80.361991\n",
      "2018-01-05    76.718266\n",
      "Name: (2, 3, False, a), dtype: float64\n",
      "                a    b          c\n",
      "2018-01-01    NaN  NaN        NaN\n",
      "2018-01-02    NaN  NaN        NaN\n",
      "2018-01-03    NaN  NaN        NaN\n",
      "2018-01-04  100.0  0.0  66.666667\n",
      "2018-01-05  100.0  0.0  33.333333\n",
      "stoch_k_window      2                                   \n",
      "stoch_d_window      2                  3                \n",
      "stoch_d_ewm     False              False                \n",
      "                    a    b      c      a    b          c\n",
      "2018-01-01        NaN  NaN    NaN    NaN  NaN        NaN\n",
      "2018-01-02        NaN  NaN    NaN    NaN  NaN        NaN\n",
      "2018-01-03      100.0  0.0  100.0    NaN  NaN        NaN\n",
      "2018-01-04      100.0  0.0   50.0  100.0  0.0  66.666667\n",
      "2018-01-05      100.0  0.0    0.0  100.0  0.0  33.333333\n",
      "stoch_k_window      2                  3                \n",
      "stoch_d_window      2                  3                \n",
      "stoch_d_ewm     False              False                \n",
      "                    a    b      c      a    b          c\n",
      "2018-01-01        NaN  NaN    NaN    NaN  NaN        NaN\n",
      "2018-01-02        NaN  NaN    NaN    NaN  NaN        NaN\n",
      "2018-01-03      100.0  0.0  100.0    NaN  NaN        NaN\n",
      "2018-01-04      100.0  0.0   50.0    NaN  NaN        NaN\n",
      "2018-01-05      100.0  0.0    0.0  100.0  0.0  33.333333\n",
      "stoch_k_window      2                                         3             \\\n",
      "stoch_d_window      2                  3                      2              \n",
      "stoch_d_ewm     False              False                  False              \n",
      "                    a    b      c      a    b          c      a    b     c   \n",
      "2018-01-01        NaN  NaN    NaN    NaN  NaN        NaN    NaN  NaN   NaN   \n",
      "2018-01-02        NaN  NaN    NaN    NaN  NaN        NaN    NaN  NaN   NaN   \n",
      "2018-01-03      100.0  0.0  100.0    NaN  NaN        NaN    NaN  NaN   NaN   \n",
      "2018-01-04      100.0  0.0   50.0  100.0  0.0  66.666667  100.0  0.0  50.0   \n",
      "2018-01-05      100.0  0.0    0.0  100.0  0.0  33.333333  100.0  0.0   0.0   \n",
      "\n",
      "stoch_k_window                         \n",
      "stoch_d_window      3                  \n",
      "stoch_d_ewm     False                  \n",
      "                    a    b          c  \n",
      "2018-01-01        NaN  NaN        NaN  \n",
      "2018-01-02        NaN  NaN        NaN  \n",
      "2018-01-03        NaN  NaN        NaN  \n",
      "2018-01-04        NaN  NaN        NaN  \n",
      "2018-01-05      100.0  0.0  33.333333  \n"
     ]
    }
   ],
   "source": [
    "print(vbt.Stochastic.from_params(ts['a'], k_window=2, d_window=3, d_ewm=False).percent_d)\n",
    "print(vbt.Stochastic.from_params(ts['a'], high_ts=ts['a']*1.1, low_ts=ts['a']*0.9, k_window=2, d_window=3).percent_d)\n",
    "print(vbt.Stochastic.from_params(ts, k_window=2, d_window=3).percent_d)\n",
    "print(vbt.Stochastic.from_params(ts, k_window=2, d_window=[2, 3]).percent_d)\n",
    "print(vbt.Stochastic.from_params(ts, k_window=[2, 3], d_window=[2, 3]).percent_d)\n",
    "print(vbt.Stochastic.from_params(ts, k_window=[2, 3], d_window=[2, 3], param_product=True).percent_d)"
   ]
  },
  {
   "cell_type": "code",
   "execution_count": 60,
   "metadata": {},
   "outputs": [
    {
     "name": "stdout",
     "output_type": "stream",
     "text": [
      "59.2 ms ± 1.88 ms per loop (mean ± std. dev. of 7 runs, 1 loop each)\n",
      "(1000, 1000)\n"
     ]
    }
   ],
   "source": [
    "# One window\n",
    "%timeit vbt.Stochastic.from_params(big_ts, k_window=2)\n",
    "\n",
    "print(vbt.Stochastic.from_params(big_ts, k_window=2).percent_d.shape)"
   ]
  },
  {
   "cell_type": "code",
   "execution_count": 61,
   "metadata": {},
   "outputs": [
    {
     "name": "stdout",
     "output_type": "stream",
     "text": [
      "24.8 s ± 151 ms per loop (mean ± std. dev. of 7 runs, 1 loop each)\n",
      "(1000, 98000)\n"
     ]
    }
   ],
   "source": [
    "# Multiple windows\n",
    "%timeit vbt.Stochastic.from_params(big_ts, k_window=np.arange(2, 100)) # rolling min/max very expensive\n",
    "\n",
    "print(vbt.Stochastic.from_params(big_ts, k_window=np.arange(2, 100)).percent_d.shape)"
   ]
  },
  {
   "cell_type": "code",
   "execution_count": 62,
   "metadata": {},
   "outputs": [
    {
     "name": "stdout",
     "output_type": "stream",
     "text": [
      "4.08 s ± 33.3 ms per loop (mean ± std. dev. of 7 runs, 1 loop each)\n",
      "(1000, 100000)\n"
     ]
    }
   ],
   "source": [
    "# One window repeated\n",
    "%timeit vbt.Stochastic.from_params(big_ts, k_window=np.full(100, 2))\n",
    "\n",
    "print(vbt.Stochastic.from_params(big_ts, k_window=np.full(100, 2)).percent_d.shape)"
   ]
  },
  {
   "cell_type": "code",
   "execution_count": 63,
   "metadata": {},
   "outputs": [
    {
     "name": "stdout",
     "output_type": "stream",
     "text": [
      "stoch_k_window          2                                4            \\\n",
      "stoch_d_window          2                                2             \n",
      "stoch_d_ewm         False                            True              \n",
      "                        a          b          c          a         b   \n",
      "2018-01-01            NaN        NaN        NaN        NaN       NaN   \n",
      "2018-01-02      84.615385  21.052632  84.615385        NaN       NaN   \n",
      "2018-01-03      80.000000  17.647059  80.000000        NaN       NaN   \n",
      "2018-01-04      76.470588  13.333333  13.333333  88.571429  5.405405   \n",
      "2018-01-05      73.684211   7.692308   7.692308  86.486486  2.857143   \n",
      "\n",
      "stoch_k_window             \n",
      "stoch_d_window             \n",
      "stoch_d_ewm                \n",
      "                        c  \n",
      "2018-01-01            NaN  \n",
      "2018-01-02            NaN  \n",
      "2018-01-03            NaN  \n",
      "2018-01-04      45.833333  \n",
      "2018-01-05       4.166667  \n",
      "stoch_k_window          2                                4            \\\n",
      "stoch_d_window          2                                2             \n",
      "stoch_d_ewm         False                            True              \n",
      "                        a          b          c          a         b   \n",
      "2018-01-01            NaN        NaN        NaN        NaN       NaN   \n",
      "2018-01-02            NaN        NaN        NaN        NaN       NaN   \n",
      "2018-01-03      82.307692  19.349845  82.307692        NaN       NaN   \n",
      "2018-01-04      78.235294  15.490196  46.666667        NaN       NaN   \n",
      "2018-01-05      75.077399  10.512821  10.512821  87.007722  3.494208   \n",
      "\n",
      "stoch_k_window             \n",
      "stoch_d_window             \n",
      "stoch_d_ewm                \n",
      "                        c  \n",
      "2018-01-01            NaN  \n",
      "2018-01-02            NaN  \n",
      "2018-01-03            NaN  \n",
      "2018-01-04            NaN  \n",
      "2018-01-05      14.583333  \n"
     ]
    }
   ],
   "source": [
    "stochastic = vbt.Stochastic.from_params(\n",
    "    ts, high_ts=ts*1.1, low_ts=ts*0.9, k_window=[2, 4], d_window=2, d_ewm=[False, True])\n",
    "\n",
    "print(stochastic.percent_k)\n",
    "print(stochastic.percent_d)"
   ]
  },
  {
   "cell_type": "code",
   "execution_count": 64,
   "metadata": {},
   "outputs": [
    {
     "data": {
      "image/png": "[encoded data removed]"
     },
     "metadata": {},
     "output_type": "display_data"
    }
   ],
   "source": [
    "stochastic[(2, 2, False, 'a')].plot().show_png()"
   ]
  },
  {
   "cell_type": "markdown",
   "metadata": {},
   "source": [
    "## MACD"
   ]
  },
  {
   "cell_type": "code",
   "execution_count": 65,
   "metadata": {},
   "outputs": [
    {
     "name": "stdout",
     "output_type": "stream",
     "text": [
      "2018-01-01         NaN\n",
      "2018-01-02         NaN\n",
      "2018-01-03         NaN\n",
      "2018-01-04         NaN\n",
      "2018-01-05    0.562912\n",
      "Name: (2, 4, 2, True, True, a), dtype: float64\n",
      "                   a         b        c\n",
      "2018-01-01       NaN       NaN      NaN\n",
      "2018-01-02       NaN       NaN      NaN\n",
      "2018-01-03       NaN       NaN      NaN\n",
      "2018-01-04       NaN       NaN      NaN\n",
      "2018-01-05  0.562912 -0.562912 -0.19625\n",
      "macd_fast_window           2                            3                    \n",
      "macd_slow_window           4                            4                    \n",
      "macd_signal_window         2                            2                    \n",
      "macd_macd_ewm           True                         True                    \n",
      "macd_signal_ewm        False                        True                     \n",
      "                           a         b        c         a         b         c\n",
      "2018-01-01               NaN       NaN      NaN       NaN       NaN       NaN\n",
      "2018-01-02               NaN       NaN      NaN       NaN       NaN       NaN\n",
      "2018-01-03               NaN       NaN      NaN       NaN       NaN       NaN\n",
      "2018-01-04               NaN       NaN      NaN       NaN       NaN       NaN\n",
      "2018-01-05          0.526745 -0.526745 -0.12299  0.222551 -0.222551 -0.058287\n",
      "macd_fast_window           2                                                  \\\n",
      "macd_slow_window           4                                                   \n",
      "macd_signal_window         2                                                   \n",
      "macd_macd_ewm           True                                                   \n",
      "macd_signal_ewm        False                        True                       \n",
      "                           a         b        c         a         b        c   \n",
      "2018-01-01               NaN       NaN      NaN       NaN       NaN      NaN   \n",
      "2018-01-02               NaN       NaN      NaN       NaN       NaN      NaN   \n",
      "2018-01-03               NaN       NaN      NaN       NaN       NaN      NaN   \n",
      "2018-01-04               NaN       NaN      NaN       NaN       NaN      NaN   \n",
      "2018-01-05          0.526745 -0.526745 -0.12299  0.562912 -0.562912 -0.19625   \n",
      "\n",
      "macd_fast_window           3                                                    \n",
      "macd_slow_window           4                                                    \n",
      "macd_signal_window         2                                                    \n",
      "macd_macd_ewm           True                                                    \n",
      "macd_signal_ewm        False                         True                       \n",
      "                           a         b         c         a         b         c  \n",
      "2018-01-01               NaN       NaN       NaN       NaN       NaN       NaN  \n",
      "2018-01-02               NaN       NaN       NaN       NaN       NaN       NaN  \n",
      "2018-01-03               NaN       NaN       NaN       NaN       NaN       NaN  \n",
      "2018-01-04               NaN       NaN       NaN       NaN       NaN       NaN  \n",
      "2018-01-05          0.205393 -0.205393 -0.031015  0.222551 -0.222551 -0.058287  \n"
     ]
    }
   ],
   "source": [
    "print(vbt.MACD.from_params(ts['a'], fast_window=2, slow_window=4, \n",
    "    signal_window=2, macd_ewm=True, signal_ewm=True).signal)\n",
    "print(vbt.MACD.from_params(ts, fast_window=2, slow_window=4, \n",
    "    signal_window=2, macd_ewm=True, signal_ewm=True).signal)\n",
    "print(vbt.MACD.from_params(ts, fast_window=[2, 3], slow_window=4, \n",
    "    signal_window=2, macd_ewm=True, signal_ewm=[False, True]).signal)\n",
    "print(vbt.MACD.from_params(ts, fast_window=[2, 3], slow_window=4, \n",
    "    signal_window=2, macd_ewm=True, signal_ewm=[False, True], param_product=True).signal)"
   ]
  },
  {
   "cell_type": "code",
   "execution_count": 66,
   "metadata": {},
   "outputs": [
    {
     "name": "stdout",
     "output_type": "stream",
     "text": [
      "61.1 ms ± 2.12 ms per loop (mean ± std. dev. of 7 runs, 1 loop each)\n",
      "(1000, 1000)\n"
     ]
    }
   ],
   "source": [
    "# One window\n",
    "%timeit vbt.MACD.from_params(big_ts, fast_window=2)\n",
    "\n",
    "print(vbt.MACD.from_params(big_ts, fast_window=2).macd.shape)"
   ]
  },
  {
   "cell_type": "code",
   "execution_count": 67,
   "metadata": {},
   "outputs": [
    {
     "name": "stdout",
     "output_type": "stream",
     "text": [
      "4.65 s ± 24.4 ms per loop (mean ± std. dev. of 7 runs, 1 loop each)\n",
      "(1000, 98000)\n"
     ]
    }
   ],
   "source": [
    "# Multiple windows\n",
    "%timeit vbt.MACD.from_params(big_ts, fast_window=np.arange(2, 100))\n",
    "\n",
    "print(vbt.MACD.from_params(big_ts, fast_window=np.arange(2, 100)).macd.shape)"
   ]
  },
  {
   "cell_type": "code",
   "execution_count": 68,
   "metadata": {},
   "outputs": [
    {
     "name": "stdout",
     "output_type": "stream",
     "text": [
      "3.17 s ± 11.9 ms per loop (mean ± std. dev. of 7 runs, 1 loop each)\n",
      "(1000, 100000)\n"
     ]
    }
   ],
   "source": [
    "# One window repeated\n",
    "%timeit vbt.MACD.from_params(big_ts, fast_window=np.full(100, 2))\n",
    "\n",
    "print(vbt.MACD.from_params(big_ts, fast_window=np.full(100, 2)).macd.shape)"
   ]
  },
  {
   "cell_type": "code",
   "execution_count": 7,
   "metadata": {},
   "outputs": [
    {
     "name": "stdout",
     "output_type": "stream",
     "text": [
      "macd_fast_window           2                                                  \n",
      "macd_slow_window           3                                                  \n",
      "macd_signal_window         2                             3                    \n",
      "macd_macd_ewm           True                          True                    \n",
      "macd_signal_ewm         True                          True                    \n",
      "                           a         b         c         a         b         c\n",
      "2018-01-01               NaN       NaN       NaN       NaN       NaN       NaN\n",
      "2018-01-02               NaN       NaN       NaN       NaN       NaN       NaN\n",
      "2018-01-03          0.186813 -0.186813  0.186813  0.186813 -0.186813  0.186813\n",
      "2018-01-04          0.283333 -0.283333  0.000000  0.283333 -0.283333  0.000000\n",
      "2018-01-05          0.359371 -0.359371 -0.183951  0.359371 -0.359371 -0.183951\n",
      "macd_fast_window           2                                                  \n",
      "macd_slow_window           3                                                  \n",
      "macd_signal_window         2                             3                    \n",
      "macd_macd_ewm           True                          True                    \n",
      "macd_signal_ewm         True                          True                    \n",
      "                           a         b         c         a         b         c\n",
      "2018-01-01               NaN       NaN       NaN       NaN       NaN       NaN\n",
      "2018-01-02               NaN       NaN       NaN       NaN       NaN       NaN\n",
      "2018-01-03               NaN       NaN       NaN       NaN       NaN       NaN\n",
      "2018-01-04          0.259203 -0.259203  0.046703       NaN       NaN       NaN\n",
      "2018-01-05          0.328550 -0.328550 -0.112980  0.312995 -0.312995 -0.078427\n",
      "macd_fast_window           2                                                  \n",
      "macd_slow_window           3                                                  \n",
      "macd_signal_window         2                             3                    \n",
      "macd_macd_ewm           True                          True                    \n",
      "macd_signal_ewm         True                          True                    \n",
      "                           a         b         c         a         b         c\n",
      "2018-01-01               NaN       NaN       NaN       NaN       NaN       NaN\n",
      "2018-01-02               NaN       NaN       NaN       NaN       NaN       NaN\n",
      "2018-01-03               NaN       NaN       NaN       NaN       NaN       NaN\n",
      "2018-01-04          0.024130 -0.024130 -0.046703       NaN       NaN       NaN\n",
      "2018-01-05          0.030821 -0.030821 -0.070971  0.046376 -0.046376 -0.105524\n"
     ]
    }
   ],
   "source": [
    "macd = vbt.MACD.from_params(ts, fast_window=2, slow_window=3, signal_window=[2, 3], macd_ewm=True, signal_ewm=True)\n",
    "\n",
    "print(macd.macd)\n",
    "print(macd.signal)\n",
    "print(macd.histogram)"
   ]
  },
  {
   "cell_type": "code",
   "execution_count": 8,
   "metadata": {},
   "outputs": [
    {
     "name": "stderr",
     "output_type": "stream",
     "text": [
      "/Users/olegpolakow/Documents/SourceTree/vectorbt/vectorbt/indicators/basic.py:886: RuntimeWarning:\n",
      "\n",
      "invalid value encountered in greater\n",
      "\n",
      "/Users/olegpolakow/Documents/SourceTree/vectorbt/vectorbt/indicators/basic.py:887: RuntimeWarning:\n",
      "\n",
      "invalid value encountered in greater\n",
      "\n",
      "/Users/olegpolakow/Documents/SourceTree/vectorbt/vectorbt/indicators/basic.py:887: RuntimeWarning:\n",
      "\n",
      "invalid value encountered in less_equal\n",
      "\n",
      "/Users/olegpolakow/Documents/SourceTree/vectorbt/vectorbt/indicators/basic.py:888: RuntimeWarning:\n",
      "\n",
      "invalid value encountered in less\n",
      "\n",
      "/Users/olegpolakow/Documents/SourceTree/vectorbt/vectorbt/indicators/basic.py:889: RuntimeWarning:\n",
      "\n",
      "invalid value encountered in less\n",
      "\n",
      "/Users/olegpolakow/Documents/SourceTree/vectorbt/vectorbt/indicators/basic.py:889: RuntimeWarning:\n",
      "\n",
      "invalid value encountered in greater_equal\n",
      "\n"
     ]
    },
    {
     "data": {
      "image/png": "[encoded data removed]"
     },
     "metadata": {},
     "output_type": "display_data"
    }
   ],
   "source": [
    "macd[(2, 3, 2, True, True, 'a')].plot().show_png()"
   ]
  },
  {
   "cell_type": "markdown",
   "metadata": {},
   "source": [
    "## OBV"
   ]
  },
  {
   "cell_type": "code",
   "execution_count": 71,
   "metadata": {},
   "outputs": [
    {
     "name": "stdout",
     "output_type": "stream",
     "text": [
      "2018-01-01     NaN\n",
      "2018-01-02     4.0\n",
      "2018-01-03     7.0\n",
      "2018-01-04     9.0\n",
      "2018-01-05    10.0\n",
      "Name: (a, b), dtype: float64\n",
      "               a     b    c\n",
      "2018-01-01   NaN   NaN  NaN\n",
      "2018-01-02   2.0   4.0  2.0\n",
      "2018-01-03   5.0   7.0  5.0\n",
      "2018-01-04   9.0   9.0  7.0\n",
      "2018-01-05  14.0  10.0  8.0\n",
      "               a     b    c\n",
      "2018-01-01   NaN   NaN  NaN\n",
      "2018-01-02   4.0  -4.0  4.0\n",
      "2018-01-03   7.0  -7.0  7.0\n",
      "2018-01-04   9.0  -9.0  5.0\n",
      "2018-01-05  10.0 -10.0  4.0\n",
      "              a     b    c\n",
      "              c     b    a\n",
      "2018-01-01  NaN   NaN  NaN\n",
      "2018-01-02  2.0  -4.0  2.0\n",
      "2018-01-03  5.0  -7.0  5.0\n",
      "2018-01-04  7.0  -9.0  1.0\n",
      "2018-01-05  8.0 -10.0 -4.0\n"
     ]
    }
   ],
   "source": [
    "print(vbt.OBV.from_params(ts['a'], ts['b']).obv)\n",
    "print(vbt.OBV.from_params(ts['a'], ts).obv)\n",
    "print(vbt.OBV.from_params(ts, ts['b']).obv)\n",
    "print(vbt.OBV.from_params(ts, ts.iloc[:, ::-1]).obv)"
   ]
  },
  {
   "cell_type": "code",
   "execution_count": 72,
   "metadata": {},
   "outputs": [
    {
     "name": "stdout",
     "output_type": "stream",
     "text": [
      "17.7 ms ± 55 µs per loop (mean ± std. dev. of 7 runs, 100 loops each)\n",
      "(1000, 1000)\n"
     ]
    }
   ],
   "source": [
    "%timeit vbt.OBV.from_params(big_ts, big_ts.iloc[:, ::-1])\n",
    "\n",
    "print(vbt.OBV.from_params(big_ts, big_ts.iloc[:, ::-1]).obv.shape)"
   ]
  },
  {
   "cell_type": "code",
   "execution_count": 73,
   "metadata": {},
   "outputs": [
    {
     "name": "stdout",
     "output_type": "stream",
     "text": [
      "              a     b    c\n",
      "              c     b    a\n",
      "2018-01-01  NaN   NaN  NaN\n",
      "2018-01-02  2.0  -4.0  2.0\n",
      "2018-01-03  5.0  -7.0  5.0\n",
      "2018-01-04  7.0  -9.0  1.0\n",
      "2018-01-05  8.0 -10.0 -4.0\n"
     ]
    }
   ],
   "source": [
    "obv = vbt.OBV.from_params(ts, ts.iloc[:, ::-1])\n",
    "\n",
    "print(obv.obv)"
   ]
  },
  {
   "cell_type": "code",
   "execution_count": 74,
   "metadata": {},
   "outputs": [
    {
     "name": "stdout",
     "output_type": "stream",
     "text": [
      "obv_above       0                    5              \n",
      "                a      b      c      a      b      c\n",
      "                c      b      a      c      b      a\n",
      "2018-01-01  False  False  False  False  False  False\n",
      "2018-01-02   True  False   True  False  False  False\n",
      "2018-01-03   True  False   True  False  False  False\n",
      "2018-01-04   True  False   True   True  False  False\n",
      "2018-01-05   True  False  False   True  False  False\n"
     ]
    },
    {
     "name": "stderr",
     "output_type": "stream",
     "text": [
      "/Users/olegpolakow/Documents/SourceTree/vectorbt/vectorbt/base/combine_fns.py:98: RuntimeWarning:\n",
      "\n",
      "invalid value encountered in greater\n",
      "\n"
     ]
    }
   ],
   "source": [
    "print(obv.obv_above([0, 5], multiple=True))"
   ]
  },
  {
   "cell_type": "code",
   "execution_count": 75,
   "metadata": {},
   "outputs": [
    {
     "data": {
      "image/png": "[encoded data removed]"
     },
     "metadata": {},
     "output_type": "display_data"
    }
   ],
   "source": [
    "obv[('a', 'c')].plot().show_png()"
   ]
  },
  {
   "cell_type": "markdown",
   "metadata": {},
   "source": [
    "## ATR"
   ]
  },
  {
   "cell_type": "code",
   "execution_count": 76,
   "metadata": {},
   "outputs": [
    {
     "name": "stdout",
     "output_type": "stream",
     "text": [
      "2018-01-01         NaN\n",
      "2018-01-02    0.950000\n",
      "2018-01-03    1.192308\n",
      "2018-01-04    1.332500\n",
      "2018-01-05    1.444628\n",
      "Name: (2, True, a), dtype: float64\n",
      "                   a         b         c\n",
      "2018-01-01       NaN       NaN       NaN\n",
      "2018-01-02  0.950000  2.450000  0.950000\n",
      "2018-01-03  1.192308  1.653846  1.192308\n",
      "2018-01-04  1.332500  1.482500  1.332500\n",
      "2018-01-05  1.444628  2.833058  2.783471\n",
      "atr_window         2                             3                    \n",
      "atr_ewm         True                          True                    \n",
      "                   a         b         c         a         b         c\n",
      "2018-01-01       NaN       NaN       NaN       NaN       NaN       NaN\n",
      "2018-01-02  0.950000  1.300000  0.950000       NaN       NaN       NaN\n",
      "2018-01-03  1.192308  1.300000  1.192308  1.114286  1.285714  1.114286\n",
      "2018-01-04  1.332500  1.232500  1.197500  1.266667  1.240000  1.160000\n",
      "2018-01-05  1.444628  1.143802  1.132231  1.387097  1.167742  1.129032\n",
      "atr_window     2                                               3            \\\n",
      "atr_ewm    False                 True                      False             \n",
      "               a     b     c         a         b         c     a         b   \n",
      "2018-01-01   NaN   NaN   NaN       NaN       NaN       NaN   NaN       NaN   \n",
      "2018-01-02  0.70  1.20  0.70  0.950000  1.300000  0.950000   NaN       NaN   \n",
      "2018-01-03  1.25  1.35  1.25  1.192308  1.300000  1.192308   0.9  1.233333   \n",
      "2018-01-04  1.35  1.25  1.25  1.332500  1.232500  1.197500   1.3  1.300000   \n",
      "2018-01-05  1.45  1.15  1.15  1.444628  1.143802  1.132231   1.4  1.200000   \n",
      "\n",
      "atr_window                                          \n",
      "atr_ewm                  True                       \n",
      "                   c         a         b         c  \n",
      "2018-01-01       NaN       NaN       NaN       NaN  \n",
      "2018-01-02       NaN       NaN       NaN       NaN  \n",
      "2018-01-03  0.900000  1.114286  1.285714  1.114286  \n",
      "2018-01-04  1.233333  1.266667  1.240000  1.160000  \n",
      "2018-01-05  1.200000  1.387097  1.167742  1.129032  \n"
     ]
    }
   ],
   "source": [
    "print(vbt.ATR.from_params(ts['a'], ts['a']*1.1, ts['a']*0.9, window=2).atr)\n",
    "print(vbt.ATR.from_params(ts, ts['a']*1.1, ts['a']*0.9, window=2).atr)\n",
    "print(vbt.ATR.from_params(ts, ts*1.1, ts*0.9, window=[2, 3]).atr)\n",
    "print(vbt.ATR.from_params(ts, ts*1.1, ts*0.9, window=[2, 3], ewm=[False, True], param_product=True).atr)"
   ]
  },
  {
   "cell_type": "code",
   "execution_count": 77,
   "metadata": {},
   "outputs": [
    {
     "name": "stdout",
     "output_type": "stream",
     "text": [
      "623 ms ± 14.2 ms per loop (mean ± std. dev. of 7 runs, 1 loop each)\n",
      "(1000, 1000)\n"
     ]
    }
   ],
   "source": [
    "# One window\n",
    "%timeit vbt.ATR.from_params(big_ts, big_ts*1.1, big_ts*0.9, window=2)\n",
    "\n",
    "print(vbt.ATR.from_params(big_ts, big_ts*1.1, big_ts*0.9, window=2).atr.shape)"
   ]
  },
  {
   "cell_type": "code",
   "execution_count": 78,
   "metadata": {},
   "outputs": [
    {
     "name": "stdout",
     "output_type": "stream",
     "text": [
      "4.27 s ± 48.3 ms per loop (mean ± std. dev. of 7 runs, 1 loop each)\n",
      "(1000, 98000)\n"
     ]
    }
   ],
   "source": [
    "# Multiple windows\n",
    "%timeit vbt.ATR.from_params(big_ts, big_ts*1.1, big_ts*0.9, window=np.arange(2, 100)) # rolling min/max very expensive\n",
    "\n",
    "print(vbt.ATR.from_params(big_ts, big_ts*1.1, big_ts*0.9, window=np.arange(2, 100)).atr.shape)"
   ]
  },
  {
   "cell_type": "code",
   "execution_count": 79,
   "metadata": {},
   "outputs": [
    {
     "name": "stdout",
     "output_type": "stream",
     "text": [
      "2.74 s ± 17.5 ms per loop (mean ± std. dev. of 7 runs, 1 loop each)\n",
      "(1000, 100000)\n"
     ]
    }
   ],
   "source": [
    "# One window repeated\n",
    "%timeit vbt.ATR.from_params(big_ts, big_ts*1.1, big_ts*0.9, window=np.full(100, 2))\n",
    "\n",
    "print(vbt.ATR.from_params(big_ts, big_ts*1.1, big_ts*0.9, window=np.full(100, 2)).atr.shape)"
   ]
  },
  {
   "cell_type": "code",
   "execution_count": 80,
   "metadata": {},
   "outputs": [
    {
     "name": "stdout",
     "output_type": "stream",
     "text": [
      "atr_window     2               3          \n",
      "atr_ewm    False           True           \n",
      "               a    b    c     a    b    c\n",
      "2018-01-01   0.2  1.0  0.2   0.2  1.0  0.2\n",
      "2018-01-02   1.2  1.4  1.2   1.2  1.4  1.2\n",
      "2018-01-03   1.3  1.3  1.3   1.3  1.3  1.3\n",
      "2018-01-04   1.4  1.2  1.2   1.4  1.2  1.2\n",
      "2018-01-05   1.5  1.1  1.1   1.5  1.1  1.1\n",
      "atr_window     2                     3                    \n",
      "atr_ewm    False                 True                     \n",
      "               a     b     c         a         b         c\n",
      "2018-01-01   NaN   NaN   NaN       NaN       NaN       NaN\n",
      "2018-01-02  0.70  1.20  0.70       NaN       NaN       NaN\n",
      "2018-01-03  1.25  1.35  1.25  1.114286  1.285714  1.114286\n",
      "2018-01-04  1.35  1.25  1.25  1.266667  1.240000  1.160000\n",
      "2018-01-05  1.45  1.15  1.15  1.387097  1.167742  1.129032\n"
     ]
    }
   ],
   "source": [
    "atr = vbt.ATR.from_params(ts, ts*1.1, ts*0.9, window=[2, 3], ewm=[False, True])\n",
    "\n",
    "print(atr.tr)\n",
    "print(atr.atr)"
   ]
  },
  {
   "cell_type": "code",
   "execution_count": 81,
   "metadata": {},
   "outputs": [
    {
     "data": {
      "image/png": "[encoded data removed]"
     },
     "metadata": {},
     "output_type": "display_data"
    }
   ],
   "source": [
    "atr[(2, False, 'a')].plot().show_png()"
   ]
  },
  {
   "cell_type": "code",
   "execution_count": null,
   "metadata": {},
   "outputs": [],
   "source": []
  }
 ],
 "metadata": {
  "kernelspec": {
   "display_name": "Python 3",
   "language": "python",
   "name": "python3"
  },
  "language_info": {
   "codemirror_mode": {
    "name": "ipython",
    "version": 3
   },
   "file_extension": ".py",
   "mimetype": "text/x-python",
   "name": "python",
   "nbconvert_exporter": "python",
   "pygments_lexer": "ipython3",
   "version": "3.7.3"
  },
  "widgets": {
   "application/vnd.jupyter.widget-state+json": {
    "state": {},
    "version_major": 2,
    "version_minor": 0
   }
  }
 },
 "nbformat": 4,
 "nbformat_minor": 4
}
