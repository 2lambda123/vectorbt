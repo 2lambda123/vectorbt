{
 "cells": [
  {
   "cell_type": "markdown",
   "metadata": {},
   "source": [
    "# returns"
   ]
  },
  {
   "cell_type": "code",
   "execution_count": 1,
   "metadata": {},
   "outputs": [],
   "source": [
    "import vectorbt as vbt"
   ]
  },
  {
   "cell_type": "code",
   "execution_count": 2,
   "metadata": {
    "Collapsed": "false"
   },
   "outputs": [],
   "source": [
    "import numpy as np\n",
    "import pandas as pd\n",
    "from datetime import datetime, timedelta\n",
    "from numba import njit, f8, i8, b1, optional\n",
    "import empyrical"
   ]
  },
  {
   "cell_type": "code",
   "execution_count": 3,
   "metadata": {},
   "outputs": [
    {
     "name": "stdout",
     "output_type": "stream",
     "text": [
      "              a    b    c\n",
      "2018-01-01  1.0  5.0  1.0\n",
      "2018-01-02  2.0  4.0  2.0\n",
      "2018-01-03  3.0  3.0  3.0\n",
      "2018-01-04  4.0  2.0  2.0\n",
      "2018-01-05  5.0  1.0  1.0\n"
     ]
    }
   ],
   "source": [
    "index = pd.DatetimeIndex([\n",
    "    datetime(2018, 1, 1),\n",
    "    datetime(2018, 1, 2),\n",
    "    datetime(2018, 1, 3),\n",
    "    datetime(2018, 1, 4),\n",
    "    datetime(2018, 1, 5)\n",
    "], freq='D')\n",
    "columns = ['a', 'b', 'c']\n",
    "ts = pd.DataFrame({\n",
    "    'a': [1, 2, 3, 4, 5], \n",
    "    'b': [5, 4, 3, 2, 1],\n",
    "    'c': [1, 2, 3, 2, 1]}, index=index).astype(np.float32)\n",
    "\n",
    "print(ts)"
   ]
  },
  {
   "cell_type": "code",
   "execution_count": 4,
   "metadata": {},
   "outputs": [
    {
     "data": {
      "text/plain": [
       "(1000, 1000)"
      ]
     },
     "execution_count": 4,
     "metadata": {},
     "output_type": "execute_result"
    }
   ],
   "source": [
    "big_ts = pd.DataFrame(np.random.randint(10, size=(1000, 1000)).astype(float))\n",
    "big_ts.index = [datetime(2018, 1, 1) + timedelta(days=i) for i in range(1000)]\n",
    "big_ts.shape"
   ]
  },
  {
   "cell_type": "code",
   "execution_count": 5,
   "metadata": {},
   "outputs": [
    {
     "name": "stdout",
     "output_type": "stream",
     "text": [
      "2018-01-01         NaN\n",
      "2018-01-02    1.000000\n",
      "2018-01-03    0.500000\n",
      "2018-01-04    0.333333\n",
      "2018-01-05    0.250000\n",
      "Freq: D, Name: a, dtype: float32\n",
      "2018-01-01         NaN\n",
      "2018-01-02    1.000000\n",
      "2018-01-03    0.500000\n",
      "2018-01-04    0.333333\n",
      "2018-01-05    0.250000\n",
      "Freq: D, Name: a, dtype: float64\n",
      "                   a         b         c\n",
      "2018-01-01       NaN       NaN       NaN\n",
      "2018-01-02  1.000000 -0.200000  1.000000\n",
      "2018-01-03  0.500000 -0.250000  0.500000\n",
      "2018-01-04  0.333333 -0.333333 -0.333333\n",
      "2018-01-05  0.250000 -0.500000 -0.500000\n",
      "                   a         b         c\n",
      "2018-01-01       NaN       NaN       NaN\n",
      "2018-01-02  1.000000 -0.200000  1.000000\n",
      "2018-01-03  0.500000 -0.250000  0.500000\n",
      "2018-01-04  0.333333 -0.333333 -0.333333\n",
      "2018-01-05  0.250000 -0.500000 -0.500000\n",
      "436 ms ± 126 ms per loop (mean ± std. dev. of 7 runs, 1 loop each)\n",
      "6.05 ms ± 300 µs per loop (mean ± std. dev. of 7 runs, 100 loops each)\n"
     ]
    }
   ],
   "source": [
    "print(ts['a'].pct_change())\n",
    "print(pd.Series.vbt.returns.from_price(ts['a']))\n",
    "\n",
    "print(ts.pct_change())\n",
    "print(pd.DataFrame.vbt.returns.from_price(ts))\n",
    "\n",
    "%timeit big_ts.pct_change()\n",
    "%timeit pd.DataFrame.vbt.returns.from_price(big_ts) # Numba helps a lot"
   ]
  },
  {
   "cell_type": "code",
   "execution_count": 6,
   "metadata": {},
   "outputs": [
    {
     "name": "stdout",
     "output_type": "stream",
     "text": [
      "                   a         b         c\n",
      "2018-01-01       NaN       NaN       NaN\n",
      "2018-01-02  1.000000 -0.200000  1.000000\n",
      "2018-01-03  0.500000 -0.250000  0.500000\n",
      "2018-01-04  0.333333 -0.333333 -0.333333\n",
      "2018-01-05  0.250000 -0.500000 -0.500000\n"
     ]
    }
   ],
   "source": [
    "returns = pd.DataFrame.vbt.returns.from_price(ts)\n",
    "print(returns)\n",
    "\n",
    "big_returns = pd.DataFrame.vbt.returns.from_price(big_ts)"
   ]
  },
  {
   "cell_type": "code",
   "execution_count": 7,
   "metadata": {},
   "outputs": [
    {
     "name": "stdout",
     "output_type": "stream",
     "text": [
      "365 days 00:00:00\n",
      "365 days 00:00:00\n",
      "252 days 00:00:00\n",
      "252 days 00:00:00\n"
     ]
    }
   ],
   "source": [
    "# Test year frequency\n",
    "print(returns.vbt.returns.year_freq)\n",
    "print(returns['a'].vbt.returns.year_freq)\n",
    "print(returns.vbt.returns(year_freq='252 days').year_freq)\n",
    "print(returns['a'].vbt.returns(year_freq='252 days').year_freq)"
   ]
  },
  {
   "cell_type": "code",
   "execution_count": 8,
   "metadata": {},
   "outputs": [
    {
     "name": "stdout",
     "output_type": "stream",
     "text": [
      "365.0\n",
      "252.0\n"
     ]
    }
   ],
   "source": [
    "print(returns.vbt.returns.ann_factor) # default\n",
    "print(returns.vbt.returns(year_freq='252 days').ann_factor)"
   ]
  },
  {
   "cell_type": "code",
   "execution_count": 9,
   "metadata": {},
   "outputs": [
    {
     "name": "stdout",
     "output_type": "stream",
     "text": [
      "2018-01-01         NaN\n",
      "2018-01-02    1.000000\n",
      "2018-01-03    0.500000\n",
      "2018-01-04    0.333333\n",
      "2018-01-05    0.250000\n",
      "Freq: D, Name: a, dtype: float64\n",
      "                   a         b         c\n",
      "2018-01-01       NaN       NaN       NaN\n",
      "2018-01-02  1.000000 -0.200000  1.000000\n",
      "2018-01-03  0.500000 -0.250000  0.500000\n",
      "2018-01-04  0.333333 -0.333333 -0.333333\n",
      "2018-01-05  0.250000 -0.500000 -0.500000\n",
      "11 µs ± 1.07 µs per loop (mean ± std. dev. of 7 runs, 100000 loops each)\n"
     ]
    }
   ],
   "source": [
    "print(returns['a'].vbt.returns.daily()) # already daily, do nothing\n",
    "print(returns.vbt.returns.daily())\n",
    "\n",
    "%timeit big_returns.vbt.returns.daily()"
   ]
  },
  {
   "cell_type": "code",
   "execution_count": 10,
   "metadata": {},
   "outputs": [
    {
     "name": "stdout",
     "output_type": "stream",
     "text": [
      "2018-01-01    4.0\n",
      "Freq: 365D, Name: a, dtype: float64\n",
      "              a    b             c\n",
      "2018-01-01  4.0 -0.8  2.980232e-08\n",
      "11.6 ms ± 894 µs per loop (mean ± std. dev. of 7 runs, 10 loops each)\n"
     ]
    }
   ],
   "source": [
    "print(returns['a'].vbt.returns.annual())\n",
    "print(returns.vbt.returns.annual())\n",
    "\n",
    "%timeit big_returns.vbt.returns.annual()"
   ]
  },
  {
   "cell_type": "code",
   "execution_count": 11,
   "metadata": {},
   "outputs": [
    {
     "name": "stdout",
     "output_type": "stream",
     "text": [
      "2018-01-01    0.0\n",
      "2018-01-02    1.0\n",
      "2018-01-03    2.0\n",
      "2018-01-04    3.0\n",
      "2018-01-05    4.0\n",
      "Freq: D, dtype: float64\n",
      "1.34 ms ± 181 µs per loop (mean ± std. dev. of 7 runs, 1000 loops each)\n",
      "2018-01-01    0.0\n",
      "2018-01-02    1.0\n",
      "2018-01-03    2.0\n",
      "2018-01-04    3.0\n",
      "2018-01-05    4.0\n",
      "Freq: D, Name: a, dtype: float64\n",
      "219 µs ± 10.8 µs per loop (mean ± std. dev. of 7 runs, 1000 loops each)\n",
      "              a    b             c\n",
      "2018-01-01  0.0  0.0  0.000000e+00\n",
      "2018-01-02  1.0 -0.2  1.000000e+00\n",
      "2018-01-03  2.0 -0.4  2.000000e+00\n",
      "2018-01-04  3.0 -0.6  1.000000e+00\n",
      "2018-01-05  4.0 -0.8  2.980232e-08\n",
      "              a    b    c\n",
      "2018-01-01  1.0  1.0  1.0\n",
      "2018-01-02  2.0  0.8  2.0\n",
      "2018-01-03  3.0  0.6  3.0\n",
      "2018-01-04  4.0  0.4  2.0\n",
      "2018-01-05  5.0  0.2  1.0\n",
      "              a    b    c\n",
      "2018-01-01  1.0  2.0  3.0\n",
      "2018-01-02  2.0  1.6  6.0\n",
      "2018-01-03  3.0  1.2  9.0\n",
      "2018-01-04  4.0  0.8  6.0\n",
      "2018-01-05  5.0  0.4  3.0\n",
      "15.3 ms ± 350 µs per loop (mean ± std. dev. of 7 runs, 100 loops each)\n"
     ]
    }
   ],
   "source": [
    "print(empyrical.cum_returns(returns['a']))\n",
    "%timeit empyrical.cum_returns(big_returns[0])\n",
    "\n",
    "print(returns['a'].vbt.returns.cumulative())\n",
    "%timeit big_returns[0].vbt.returns.cumulative()\n",
    "\n",
    "print(returns.vbt.returns.cumulative())\n",
    "print(returns.vbt.returns.cumulative(start_value=1))\n",
    "print(returns.vbt.returns.cumulative(start_value=[1, 2, 3])) # also accepts array\n",
    "%timeit big_returns.vbt.returns.cumulative()"
   ]
  },
  {
   "cell_type": "code",
   "execution_count": 12,
   "metadata": {},
   "outputs": [
    {
     "name": "stdout",
     "output_type": "stream",
     "text": [
      "4.000000149011612\n"
     ]
    },
    {
     "name": "stderr",
     "output_type": "stream",
     "text": [
      "/Users/olegpolakow/miniconda3/lib/python3.7/site-packages/numpy/core/fromnumeric.py:90: RuntimeWarning: invalid value encountered in reduce\n",
      "  return ufunc.reduce(obj, axis, dtype, out, **passkwargs)\n"
     ]
    },
    {
     "name": "stdout",
     "output_type": "stream",
     "text": [
      "360 µs ± 10.1 µs per loop (mean ± std. dev. of 7 runs, 1000 loops each)\n",
      "4.000000149011612\n",
      "180 µs ± 10.6 µs per loop (mean ± std. dev. of 7 runs, 10000 loops each)\n",
      "a    4.000000e+00\n",
      "b   -8.000000e-01\n",
      "c    2.980232e-08\n",
      "dtype: float64\n",
      "7.14 ms ± 1.56 ms per loop (mean ± std. dev. of 7 runs, 100 loops each)\n"
     ]
    }
   ],
   "source": [
    "print(empyrical.cum_returns_final(returns['a']))\n",
    "%timeit empyrical.cum_returns_final(big_returns[0])\n",
    "\n",
    "print(returns['a'].vbt.returns.total())\n",
    "%timeit big_returns[0].vbt.returns.total()\n",
    "\n",
    "print(returns.vbt.returns.total())\n",
    "%timeit big_returns.vbt.returns.total()"
   ]
  },
  {
   "cell_type": "code",
   "execution_count": 13,
   "metadata": {},
   "outputs": [
    {
     "name": "stdout",
     "output_type": "stream",
     "text": [
      "2018-01-01    0.0\n",
      "2018-01-02    0.0\n",
      "2018-01-03    0.0\n",
      "2018-01-04    0.0\n",
      "2018-01-05    0.0\n",
      "Freq: D, Name: a, dtype: float64\n",
      "              a    b         c\n",
      "2018-01-01  0.0  0.0  0.000000\n",
      "2018-01-02  0.0 -0.2  0.000000\n",
      "2018-01-03  0.0 -0.4  0.000000\n",
      "2018-01-04  0.0 -0.6 -0.333333\n",
      "2018-01-05  0.0 -0.8 -0.666667\n"
     ]
    },
    {
     "name": "stderr",
     "output_type": "stream",
     "text": [
      "/Users/olegpolakow/Documents/SourceTree/vectorbt/vectorbt/timeseries/accessors.py:463: RuntimeWarning: invalid value encountered in true_divide\n",
      "  return self.wrap(self.to_2d_array() / nb.expanding_max_nb(self.to_2d_array()) - 1)\n"
     ]
    },
    {
     "name": "stdout",
     "output_type": "stream",
     "text": [
      "30.8 ms ± 2.03 ms per loop (mean ± std. dev. of 7 runs, 10 loops each)\n"
     ]
    }
   ],
   "source": [
    "print(returns['a'].vbt.returns.drawdown())\n",
    "print(returns.vbt.returns.drawdown())\n",
    "\n",
    "%timeit big_returns.vbt.returns.drawdown()"
   ]
  },
  {
   "cell_type": "code",
   "execution_count": 14,
   "metadata": {},
   "outputs": [
    {
     "name": "stdout",
     "output_type": "stream",
     "text": [
      "-0.7999999910593033\n",
      "170 µs ± 23.5 µs per loop (mean ± std. dev. of 7 runs, 10000 loops each)\n",
      "0.7999999910593032\n",
      "173 µs ± 6.7 µs per loop (mean ± std. dev. of 7 runs, 10000 loops each)\n",
      "a    0.000000\n",
      "b    0.800000\n",
      "c    0.666667\n",
      "dtype: float64\n",
      "15.1 ms ± 2.16 ms per loop (mean ± std. dev. of 7 runs, 100 loops each)\n"
     ]
    }
   ],
   "source": [
    "print(empyrical.max_drawdown(returns['b']))\n",
    "%timeit empyrical.max_drawdown(big_returns[0])\n",
    "\n",
    "print(returns['b'].vbt.returns.max_drawdown())\n",
    "%timeit big_returns[0].vbt.returns.max_drawdown()\n",
    "\n",
    "print(returns.vbt.returns.max_drawdown())\n",
    "%timeit big_returns.vbt.returns.max_drawdown()"
   ]
  },
  {
   "cell_type": "code",
   "execution_count": 15,
   "metadata": {},
   "outputs": [],
   "source": [
    "vbt.defaults.returns['year_freq'] = '252 days' # same as empyrical"
   ]
  },
  {
   "cell_type": "code",
   "execution_count": 16,
   "metadata": {},
   "outputs": [
    {
     "name": "stdout",
     "output_type": "stream",
     "text": [
      "1.690786886567203e+35\n"
     ]
    },
    {
     "name": "stderr",
     "output_type": "stream",
     "text": [
      "/Users/olegpolakow/miniconda3/lib/python3.7/site-packages/numpy/core/fromnumeric.py:90: RuntimeWarning: invalid value encountered in reduce\n",
      "  return ufunc.reduce(obj, axis, dtype, out, **passkwargs)\n"
     ]
    },
    {
     "name": "stdout",
     "output_type": "stream",
     "text": [
      "314 µs ± 12 µs per loop (mean ± std. dev. of 7 runs, 1000 loops each)\n",
      "1.6907868865671834e+35\n",
      "205 µs ± 11.3 µs per loop (mean ± std. dev. of 7 runs, 1000 loops each)\n",
      "a    1.690787e+35\n",
      "b   -1.000000e+00\n",
      "c    1.502038e-06\n",
      "dtype: float64\n",
      "4.74 ms ± 232 µs per loop (mean ± std. dev. of 7 runs, 100 loops each)\n"
     ]
    }
   ],
   "source": [
    "print(empyrical.annual_return(returns['a']))\n",
    "%timeit empyrical.annual_return(big_returns[0])\n",
    "\n",
    "print(returns['a'].vbt.returns.annualized_return())\n",
    "%timeit big_returns[0].vbt.returns.annualized_return()\n",
    "\n",
    "print(returns.vbt.returns.annualized_return())\n",
    "%timeit big_returns.vbt.returns.annualized_return()"
   ]
  },
  {
   "cell_type": "code",
   "execution_count": 17,
   "metadata": {},
   "outputs": [
    {
     "name": "stdout",
     "output_type": "stream",
     "text": [
      "2.121838249438074\n",
      "75.3 µs ± 5.78 µs per loop (mean ± std. dev. of 7 runs, 10000 loops each)\n",
      "2.121838249438074\n",
      "291 µs ± 57.1 µs per loop (mean ± std. dev. of 7 runs, 1000 loops each)\n",
      "a    2.121838\n",
      "b    0.830587\n",
      "c    4.466341\n",
      "dtype: float64\n",
      "a    84.653704\n",
      "b     2.087463\n",
      "c     4.466341\n",
      "dtype: float64\n",
      "17.5 ms ± 2.1 ms per loop (mean ± std. dev. of 7 runs, 10 loops each)\n"
     ]
    }
   ],
   "source": [
    "print(empyrical.annual_volatility(returns['a'], alpha=3.))\n",
    "%timeit empyrical.annual_volatility(big_returns[0], alpha=3.)\n",
    "\n",
    "print(returns['a'].vbt.returns.annualized_volatility(levy_alpha=3.))\n",
    "%timeit big_returns[0].vbt.returns.annualized_volatility(levy_alpha=3.)\n",
    "\n",
    "print(returns.vbt.returns.annualized_volatility(levy_alpha=3.))\n",
    "print(returns.vbt.returns.annualized_volatility(levy_alpha=[1, 2, 3]))\n",
    "%timeit big_returns.vbt.returns.annualized_volatility(levy_alpha=3.)"
   ]
  },
  {
   "cell_type": "code",
   "execution_count": 18,
   "metadata": {},
   "outputs": [
    {
     "name": "stdout",
     "output_type": "stream",
     "text": [
      "-1.2500000139698388\n",
      "999 µs ± 146 µs per loop (mean ± std. dev. of 7 runs, 1000 loops each)\n",
      "-1.2500000139698388\n",
      "313 µs ± 122 µs per loop (mean ± std. dev. of 7 runs, 1000 loops each)\n",
      "a         NaN\n",
      "b   -1.250000\n",
      "c    0.000002\n",
      "dtype: float64\n",
      "16.3 ms ± 745 µs per loop (mean ± std. dev. of 7 runs, 100 loops each)\n"
     ]
    }
   ],
   "source": [
    "print(empyrical.calmar_ratio(returns['b']))\n",
    "%timeit empyrical.calmar_ratio(big_returns[0])\n",
    "\n",
    "print(returns['b'].vbt.returns.calmar_ratio())\n",
    "%timeit big_returns[0].vbt.returns.calmar_ratio()\n",
    "\n",
    "print(returns.vbt.returns.calmar_ratio())\n",
    "%timeit big_returns.vbt.returns.calmar_ratio()"
   ]
  },
  {
   "cell_type": "code",
   "execution_count": 19,
   "metadata": {},
   "outputs": [
    {
     "name": "stdout",
     "output_type": "stream",
     "text": [
      "1.7319528661672228\n",
      "1.83 ms ± 147 µs per loop (mean ± std. dev. of 7 runs, 1000 loops each)\n",
      "1.7319528661672228\n",
      "305 µs ± 18.1 µs per loop (mean ± std. dev. of 7 runs, 1000 loops each)\n",
      "a         NaN\n",
      "b    0.000000\n",
      "c    1.731953\n",
      "dtype: float64\n",
      "a        NaN\n",
      "b    0.00000\n",
      "c    1.60973\n",
      "dtype: float64\n",
      "a         NaN\n",
      "b    0.000000\n",
      "c    1.727716\n",
      "dtype: float64\n",
      "14.9 ms ± 451 µs per loop (mean ± std. dev. of 7 runs, 100 loops each)\n"
     ]
    }
   ],
   "source": [
    "print(empyrical.omega_ratio(returns['c'], risk_free=0.01, required_return=0.1))\n",
    "%timeit empyrical.omega_ratio(big_returns[0], risk_free=0.01, required_return=0.1)\n",
    "\n",
    "print(returns['c'].vbt.returns.omega_ratio(risk_free=0.01, required_return=0.1))\n",
    "%timeit big_returns[0].vbt.returns.omega_ratio(risk_free=0.01, required_return=0.1)\n",
    "\n",
    "print(returns.vbt.returns.omega_ratio(risk_free=0.01, required_return=0.1))\n",
    "print(returns.vbt.returns.omega_ratio(risk_free=[0.01, 0.02, 0.03], required_return=0.1))\n",
    "print(returns.vbt.returns.omega_ratio(risk_free=0.01, required_return=[0.1, 0.2, 0.3]))\n",
    "%timeit big_returns.vbt.returns.omega_ratio(risk_free=0.01, required_return=0.1)"
   ]
  },
  {
   "cell_type": "code",
   "execution_count": 20,
   "metadata": {},
   "outputs": [
    {
     "name": "stdout",
     "output_type": "stream",
     "text": [
      "24.139822936194918\n",
      "329 µs ± 11.3 µs per loop (mean ± std. dev. of 7 runs, 1000 loops each)\n",
      "24.139822936194918\n",
      "256 µs ± 4.28 µs per loop (mean ± std. dev. of 7 runs, 1000 loops each)\n",
      "a    24.139823\n",
      "b   -39.938439\n",
      "c     3.517158\n",
      "dtype: float64\n",
      "a    24.139823\n",
      "b   -41.145646\n",
      "c     3.068159\n",
      "dtype: float64\n",
      "9.22 ms ± 213 µs per loop (mean ± std. dev. of 7 runs, 100 loops each)\n"
     ]
    }
   ],
   "source": [
    "print(empyrical.sharpe_ratio(returns['a'], risk_free=0.01))\n",
    "%timeit empyrical.sharpe_ratio(big_returns[0], risk_free=0.01)\n",
    "\n",
    "print(returns['a'].vbt.returns.sharpe_ratio(risk_free=0.01))\n",
    "%timeit big_returns[0].vbt.returns.sharpe_ratio(risk_free=0.01)\n",
    "\n",
    "print(returns.vbt.returns.sharpe_ratio(risk_free=0.01))\n",
    "print(returns.vbt.returns.sharpe_ratio(risk_free=[0.01, 0.02, 0.03]))\n",
    "%timeit big_returns.vbt.returns.sharpe_ratio(risk_free=0.01)"
   ]
  },
  {
   "cell_type": "code",
   "execution_count": 21,
   "metadata": {},
   "outputs": [
    {
     "name": "stdout",
     "output_type": "stream",
     "text": [
      "6.920801865722236\n",
      "127 µs ± 5.26 µs per loop (mean ± std. dev. of 7 runs, 10000 loops each)\n",
      "6.920801865722236\n",
      "281 µs ± 11 µs per loop (mean ± std. dev. of 7 runs, 1000 loops each)\n",
      "a    0.000000\n",
      "b    6.920802\n",
      "c    5.874521\n",
      "dtype: float64\n",
      "a    0.000000\n",
      "b    8.463303\n",
      "c    8.098765\n",
      "dtype: float64\n",
      "9.7 ms ± 492 µs per loop (mean ± std. dev. of 7 runs, 100 loops each)\n"
     ]
    }
   ],
   "source": [
    "print(empyrical.downside_risk(returns['b'], required_return=0.1))\n",
    "%timeit empyrical.downside_risk(big_returns[0], required_return=0.1)\n",
    "\n",
    "print(returns['b'].vbt.returns.downside_risk(required_return=0.1))\n",
    "%timeit big_returns[0].vbt.returns.downside_risk(required_return=0.1)\n",
    "\n",
    "print(returns.vbt.returns.downside_risk(required_return=0.1))\n",
    "print(returns.vbt.returns.downside_risk(required_return=[0.1, 0.2, 0.3]))\n",
    "%timeit big_returns.vbt.returns.downside_risk(required_return=0.1)"
   ]
  },
  {
   "cell_type": "code",
   "execution_count": 22,
   "metadata": {},
   "outputs": [
    {
     "name": "stdout",
     "output_type": "stream",
     "text": [
      "-15.32336860018125\n",
      "469 µs ± 48.4 µs per loop (mean ± std. dev. of 7 runs, 1000 loops each)\n",
      "-15.32336860018125\n",
      "278 µs ± 65.8 µs per loop (mean ± std. dev. of 7 runs, 1000 loops each)\n",
      "a          NaN\n",
      "b   -15.323369\n",
      "c     2.859808\n",
      "dtype: float64\n",
      "a          NaN\n",
      "b   -15.508129\n",
      "c    -4.148780\n",
      "dtype: float64\n",
      "12 ms ± 74.8 µs per loop (mean ± std. dev. of 7 runs, 100 loops each)\n"
     ]
    }
   ],
   "source": [
    "print(empyrical.sortino_ratio(returns['b'], required_return=0.1))\n",
    "%timeit empyrical.sortino_ratio(big_returns[0], required_return=0.1)\n",
    "\n",
    "print(returns['b'].vbt.returns.sortino_ratio(required_return=0.1))\n",
    "%timeit big_returns[0].vbt.returns.sortino_ratio(required_return=0.1)\n",
    "\n",
    "print(returns.vbt.returns.sortino_ratio(required_return=0.1))\n",
    "print(returns.vbt.returns.sortino_ratio(required_return=[0.1, 0.2, 0.3]))\n",
    "%timeit big_returns.vbt.returns.sortino_ratio(required_return=0.1)"
   ]
  },
  {
   "cell_type": "code",
   "execution_count": 23,
   "metadata": {},
   "outputs": [],
   "source": [
    "factor_returns = returns['a'] * np.random.uniform(0.8, 1.2, returns.shape[0])\n",
    "big_factor_returns = big_returns[0] * np.random.uniform(0.8, 1.2, big_returns.shape[0])"
   ]
  },
  {
   "cell_type": "code",
   "execution_count": 24,
   "metadata": {},
   "outputs": [
    {
     "name": "stdout",
     "output_type": "stream",
     "text": [
      "0.21499889136968214\n",
      "892 µs ± 47.9 µs per loop (mean ± std. dev. of 7 runs, 1000 loops each)\n",
      "0.2149988913696821\n",
      "328 µs ± 39 µs per loop (mean ± std. dev. of 7 runs, 1000 loops each)\n",
      "a    0.214999\n",
      "b   -5.249550\n",
      "c   -0.704289\n",
      "dtype: float64\n",
      "10.2 ms ± 617 µs per loop (mean ± std. dev. of 7 runs, 100 loops each)\n"
     ]
    }
   ],
   "source": [
    "print(empyrical.excess_sharpe(returns['a'], factor_returns))\n",
    "%timeit empyrical.excess_sharpe(big_returns[0], factor_returns)\n",
    "\n",
    "print(returns['a'].vbt.returns.information_ratio(factor_returns)) # will broadcast\n",
    "%timeit big_returns[0].vbt.returns.information_ratio(big_factor_returns)\n",
    "\n",
    "print(returns.vbt.returns.information_ratio(factor_returns))\n",
    "%timeit big_returns.vbt.returns.information_ratio(big_factor_returns)"
   ]
  },
  {
   "cell_type": "code",
   "execution_count": 25,
   "metadata": {},
   "outputs": [
    {
     "name": "stdout",
     "output_type": "stream",
     "text": [
      "1.3368187517411871\n",
      "3.09 ms ± 121 µs per loop (mean ± std. dev. of 7 runs, 100 loops each)\n",
      "1.3368187517411871\n",
      "371 µs ± 15.9 µs per loop (mean ± std. dev. of 7 runs, 1000 loops each)\n",
      "a    1.336819\n",
      "b    0.442097\n",
      "c    2.670125\n",
      "dtype: float64\n",
      "12.9 ms ± 308 µs per loop (mean ± std. dev. of 7 runs, 100 loops each)\n"
     ]
    }
   ],
   "source": [
    "print(empyrical.beta(returns['a'], factor_returns))\n",
    "%timeit empyrical.beta(big_returns[0], factor_returns)\n",
    "\n",
    "print(returns['a'].vbt.returns.beta(factor_returns))\n",
    "%timeit big_returns[0].vbt.returns.beta(big_factor_returns)\n",
    "\n",
    "print(returns.vbt.returns.beta(factor_returns))\n",
    "%timeit big_returns.vbt.returns.beta(big_factor_returns)"
   ]
  },
  {
   "cell_type": "code",
   "execution_count": 26,
   "metadata": {},
   "outputs": [
    {
     "name": "stdout",
     "output_type": "stream",
     "text": [
      "-1.0\n",
      "3.51 ms ± 122 µs per loop (mean ± std. dev. of 7 runs, 100 loops each)\n",
      "-1.0\n",
      "436 µs ± 8.14 µs per loop (mean ± std. dev. of 7 runs, 1000 loops each)\n",
      "a   -1.0\n",
      "b   -1.0\n",
      "c   -1.0\n",
      "dtype: float64\n",
      "a   -1.0\n",
      "b   -1.0\n",
      "c   -1.0\n",
      "dtype: float64\n",
      "18.4 ms ± 504 µs per loop (mean ± std. dev. of 7 runs, 100 loops each)\n"
     ]
    }
   ],
   "source": [
    "print(empyrical.alpha(returns['a'], factor_returns, risk_free=0.01))\n",
    "%timeit empyrical.alpha(big_returns[0], factor_returns, risk_free=0.01)\n",
    "\n",
    "print(returns['a'].vbt.returns.alpha(factor_returns, risk_free=0.01))\n",
    "%timeit big_returns[0].vbt.returns.alpha(big_factor_returns, risk_free=0.01)\n",
    "\n",
    "print(returns.vbt.returns.alpha(factor_returns, risk_free=0.01))\n",
    "print(returns.vbt.returns.alpha(factor_returns, risk_free=[0.01, 0.02, 0.03]))\n",
    "%timeit big_returns.vbt.returns.alpha(big_factor_returns, risk_free=0.01)"
   ]
  },
  {
   "cell_type": "code",
   "execution_count": 27,
   "metadata": {},
   "outputs": [
    {
     "name": "stdout",
     "output_type": "stream",
     "text": [
      "3.5238094437960337\n",
      "432 µs ± 7.54 µs per loop (mean ± std. dev. of 7 runs, 1000 loops each)\n",
      "3.5238094437960337\n",
      "217 µs ± 29.3 µs per loop (mean ± std. dev. of 7 runs, 1000 loops each)\n",
      "a    3.523809\n",
      "b    0.436842\n",
      "c    1.947368\n",
      "dtype: float64\n",
      "35.1 ms ± 1.26 ms per loop (mean ± std. dev. of 7 runs, 10 loops each)\n"
     ]
    }
   ],
   "source": [
    "print(empyrical.tail_ratio(returns['a']))\n",
    "%timeit empyrical.tail_ratio(big_returns[0])\n",
    "\n",
    "print(returns['a'].vbt.returns.tail_ratio())\n",
    "%timeit big_returns[0].vbt.returns.tail_ratio()\n",
    "\n",
    "print(returns.vbt.returns.tail_ratio())\n",
    "%timeit big_returns.vbt.returns.tail_ratio()"
   ]
  },
  {
   "cell_type": "code",
   "execution_count": 28,
   "metadata": {},
   "outputs": [
    {
     "name": "stdout",
     "output_type": "stream",
     "text": [
      "0.26250000596046447\n",
      "263 µs ± 17.5 µs per loop (mean ± std. dev. of 7 runs, 1000 loops each)\n",
      "0.26250000596046447\n",
      "240 µs ± 24.2 µs per loop (mean ± std. dev. of 7 runs, 1000 loops each)\n",
      "a    0.2625\n",
      "b   -0.4750\n",
      "c   -0.4750\n",
      "dtype: float64\n",
      "a    0.2625\n",
      "b   -0.4700\n",
      "c   -0.4650\n",
      "dtype: float64\n",
      "20.2 ms ± 1.3 ms per loop (mean ± std. dev. of 7 runs, 10 loops each)\n"
     ]
    }
   ],
   "source": [
    "print(empyrical.value_at_risk(returns.iloc[1:]['a'], cutoff=0.05))\n",
    "%timeit empyrical.value_at_risk(big_returns[0], cutoff=0.05)\n",
    "\n",
    "print(returns['a'].vbt.returns.value_at_risk(cutoff=0.05))\n",
    "%timeit big_returns[0].vbt.returns.value_at_risk(cutoff=0.05)\n",
    "\n",
    "print(returns.vbt.returns.value_at_risk(cutoff=0.05))\n",
    "print(returns.vbt.returns.value_at_risk(cutoff=[0.05, 0.06, 0.07]))\n",
    "%timeit big_returns.vbt.returns.value_at_risk(cutoff=0.05)"
   ]
  },
  {
   "cell_type": "code",
   "execution_count": 29,
   "metadata": {},
   "outputs": [
    {
     "name": "stdout",
     "output_type": "stream",
     "text": [
      "0.25\n",
      "93.9 µs ± 5.37 µs per loop (mean ± std. dev. of 7 runs, 10000 loops each)\n",
      "0.25\n",
      "232 µs ± 31.2 µs per loop (mean ± std. dev. of 7 runs, 1000 loops each)\n",
      "a    0.25\n",
      "b   -0.50\n",
      "c   -0.50\n",
      "dtype: float64\n",
      "a    0.25\n",
      "b   -0.50\n",
      "c   -0.50\n",
      "dtype: float64\n",
      "19.1 ms ± 642 µs per loop (mean ± std. dev. of 7 runs, 100 loops each)\n"
     ]
    }
   ],
   "source": [
    "print(empyrical.conditional_value_at_risk(returns.iloc[1:]['a'], cutoff=0.05))\n",
    "%timeit empyrical.conditional_value_at_risk(big_returns[0], cutoff=0.05)\n",
    "\n",
    "print(returns['a'].vbt.returns.conditional_value_at_risk(cutoff=0.05))\n",
    "%timeit big_returns[0].vbt.returns.conditional_value_at_risk(cutoff=0.05)\n",
    "\n",
    "print(returns.vbt.returns.conditional_value_at_risk(cutoff=0.05))\n",
    "print(returns.vbt.returns.conditional_value_at_risk(cutoff=[0.05, 0.06, 0.07]))\n",
    "%timeit big_returns.vbt.returns.conditional_value_at_risk(cutoff=0.05)"
   ]
  },
  {
   "cell_type": "code",
   "execution_count": 30,
   "metadata": {},
   "outputs": [
    {
     "name": "stdout",
     "output_type": "stream",
     "text": [
      "2.944528164016124\n",
      "602 µs ± 49.6 µs per loop (mean ± std. dev. of 7 runs, 1000 loops each)\n",
      "2.944528164016123\n",
      "425 µs ± 55.6 µs per loop (mean ± std. dev. of 7 runs, 1000 loops each)\n",
      "a    2.944528e+00\n",
      "b   -1.741513e-35\n",
      "c    2.615820e-41\n",
      "dtype: float64\n",
      "7.53 ms ± 319 µs per loop (mean ± std. dev. of 7 runs, 100 loops each)\n"
     ]
    }
   ],
   "source": [
    "print(empyrical.capture(returns['a'], factor_returns))\n",
    "%timeit empyrical.capture(big_returns[0], big_factor_returns)\n",
    "\n",
    "print(returns['a'].vbt.returns.capture(factor_returns))\n",
    "%timeit big_returns[0].vbt.returns.capture(big_factor_returns)\n",
    "\n",
    "print(returns.vbt.returns.capture(factor_returns))\n",
    "%timeit big_returns.vbt.returns.capture(big_factor_returns)"
   ]
  },
  {
   "cell_type": "code",
   "execution_count": 31,
   "metadata": {},
   "outputs": [
    {
     "name": "stdout",
     "output_type": "stream",
     "text": [
      "3.857177642723736\n"
     ]
    },
    {
     "name": "stderr",
     "output_type": "stream",
     "text": [
      "/Users/olegpolakow/miniconda3/lib/python3.7/site-packages/empyrical/stats.py:1561: RuntimeWarning: invalid value encountered in double_scalars\n",
      "  annual_return(factor_returns, period=period))\n"
     ]
    },
    {
     "name": "stdout",
     "output_type": "stream",
     "text": [
      "2.71 ms ± 893 µs per loop (mean ± std. dev. of 7 runs, 1000 loops each)\n",
      "3.857177642723736\n",
      "487 µs ± 92 µs per loop (mean ± std. dev. of 7 runs, 1000 loops each)\n",
      "a    3.857178e+00\n",
      "b   -3.557612e-44\n",
      "c    6.679587e-50\n",
      "dtype: float64\n",
      "10 ms ± 2.01 ms per loop (mean ± std. dev. of 7 runs, 100 loops each)\n"
     ]
    }
   ],
   "source": [
    "print(empyrical.up_capture(returns['a'], factor_returns))\n",
    "%timeit empyrical.up_capture(big_returns[0], big_factor_returns)\n",
    "\n",
    "print(returns['a'].vbt.returns.up_capture(factor_returns))\n",
    "%timeit big_returns[0].vbt.returns.up_capture(big_factor_returns)\n",
    "\n",
    "print(returns.vbt.returns.up_capture(factor_returns))\n",
    "%timeit big_returns.vbt.returns.up_capture(big_factor_returns)"
   ]
  },
  {
   "cell_type": "code",
   "execution_count": 32,
   "metadata": {},
   "outputs": [
    {
     "name": "stdout",
     "output_type": "stream",
     "text": [
      "nan\n",
      "2.66 ms ± 831 µs per loop (mean ± std. dev. of 7 runs, 1000 loops each)\n",
      "nan\n",
      "607 µs ± 214 µs per loop (mean ± std. dev. of 7 runs, 1000 loops each)\n",
      "a   NaN\n",
      "b   NaN\n",
      "c   NaN\n",
      "dtype: float64\n",
      "8.54 ms ± 693 µs per loop (mean ± std. dev. of 7 runs, 100 loops each)\n"
     ]
    }
   ],
   "source": [
    "print(empyrical.down_capture(returns['a'], factor_returns))\n",
    "%timeit empyrical.down_capture(big_returns[0], big_factor_returns)\n",
    "\n",
    "print(returns['a'].vbt.returns.down_capture(factor_returns))\n",
    "%timeit big_returns[0].vbt.returns.down_capture(big_factor_returns)\n",
    "\n",
    "print(returns.vbt.returns.down_capture(factor_returns))\n",
    "%timeit big_returns.vbt.returns.down_capture(big_factor_returns)"
   ]
  },
  {
   "cell_type": "code",
   "execution_count": 33,
   "metadata": {},
   "outputs": [
    {
     "name": "stdout",
     "output_type": "stream",
     "text": [
      "0.8483206930595862\n",
      "2.83 ms ± 191 µs per loop (mean ± std. dev. of 7 runs, 100 loops each)\n",
      "a    0.848321\n",
      "b   -0.615091\n",
      "c    0.211684\n",
      "dtype: float64\n",
      "136 ms ± 4.8 ms per loop (mean ± std. dev. of 7 runs, 1 loop each)\n"
     ]
    }
   ],
   "source": [
    "print(returns['a'].vbt.returns.skew())\n",
    "%timeit big_returns[0].vbt.returns.skew()\n",
    "\n",
    "print(returns.vbt.returns.skew())\n",
    "%timeit big_returns.vbt.returns.skew() # very slow"
   ]
  },
  {
   "cell_type": "code",
   "execution_count": 34,
   "metadata": {},
   "outputs": [
    {
     "name": "stdout",
     "output_type": "stream",
     "text": [
      "-0.9292307393753112\n",
      "2.13 ms ± 98.4 µs per loop (mean ± std. dev. of 7 runs, 100 loops each)\n",
      "a   -0.929231\n",
      "b   -1.113971\n",
      "c   -1.658436\n",
      "dtype: float64\n",
      "165 ms ± 5.66 ms per loop (mean ± std. dev. of 7 runs, 10 loops each)\n"
     ]
    }
   ],
   "source": [
    "print(returns['a'].vbt.returns.kurtosis())\n",
    "%timeit big_returns[0].vbt.returns.kurtosis()\n",
    "\n",
    "print(returns.vbt.returns.kurtosis())\n",
    "%timeit big_returns.vbt.returns.kurtosis() # even slower"
   ]
  },
  {
   "cell_type": "code",
   "execution_count": 35,
   "metadata": {},
   "outputs": [
    {
     "name": "stdout",
     "output_type": "stream",
     "text": [
      "              a    b         c\n",
      "2018-01-01  0.0  0.0  0.000000\n",
      "2018-01-02  0.0 -0.2  0.000000\n",
      "2018-01-03  0.0 -0.4  0.000000\n",
      "2018-01-04  0.0 -0.6 -0.333333\n",
      "2018-01-05  0.0 -0.8 -0.666667\n",
      "              a    b         c\n",
      "2018-01-01  0.0  0.0  0.000000\n",
      "2018-01-02  0.0 -0.2  0.000000\n",
      "2018-01-03  0.0 -0.4  0.000000\n",
      "2018-01-04  0.0 -0.6 -0.333333\n",
      "2018-01-05  0.0 -0.8 -0.666667\n",
      "28.5 ms ± 1.18 ms per loop (mean ± std. dev. of 7 runs, 10 loops each)\n"
     ]
    }
   ],
   "source": [
    "print(returns.vbt.returns.drawdown())\n",
    "print(returns.vbt.returns.drawdown(start_value=1.))\n",
    "\n",
    "%timeit big_returns.vbt.returns.drawdown()"
   ]
  },
  {
   "cell_type": "code",
   "execution_count": 36,
   "metadata": {},
   "outputs": [
    {
     "name": "stdout",
     "output_type": "stream",
     "text": [
      "<vectorbt.records.drawdowns.Drawdowns object at 0x1a201ff5f8>\n",
      "19.9 ms ± 301 µs per loop (mean ± std. dev. of 7 runs, 100 loops each)\n"
     ]
    }
   ],
   "source": [
    "print(returns.vbt.returns.drawdowns())\n",
    "%timeit big_returns.vbt.returns.drawdowns()"
   ]
  },
  {
   "cell_type": "code",
   "execution_count": null,
   "metadata": {},
   "outputs": [],
   "source": []
  }
 ],
 "metadata": {
  "kernelspec": {
   "display_name": "Python 3",
   "language": "python",
   "name": "python3"
  },
  "language_info": {
   "codemirror_mode": {
    "name": "ipython",
    "version": 3
   },
   "file_extension": ".py",
   "mimetype": "text/x-python",
   "name": "python",
   "nbconvert_exporter": "python",
   "pygments_lexer": "ipython3",
   "version": "3.7.3"
  },
  "widgets": {
   "application/vnd.jupyter.widget-state+json": {
    "state": {},
    "version_major": 2,
    "version_minor": 0
   }
  }
 },
 "nbformat": 4,
 "nbformat_minor": 4
}
