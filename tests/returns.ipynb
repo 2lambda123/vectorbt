{
 "cells": [
  {
   "cell_type": "markdown",
   "metadata": {},
   "source": [
    "# returns"
   ]
  },
  {
   "cell_type": "code",
   "execution_count": 1,
   "metadata": {},
   "outputs": [],
   "source": [
    "import vectorbt as vbt"
   ]
  },
  {
   "cell_type": "code",
   "execution_count": 2,
   "metadata": {
    "Collapsed": "false"
   },
   "outputs": [],
   "source": [
    "import numpy as np\n",
    "import pandas as pd\n",
    "from datetime import datetime, timedelta\n",
    "from numba import njit, f8, i8, b1, optional\n",
    "import empyrical"
   ]
  },
  {
   "cell_type": "code",
   "execution_count": 3,
   "metadata": {},
   "outputs": [
    {
     "name": "stdout",
     "output_type": "stream",
     "text": [
      "              a    b    c\n",
      "2018-01-01  1.0  5.0  1.0\n",
      "2018-01-02  2.0  4.0  2.0\n",
      "2018-01-03  3.0  3.0  3.0\n",
      "2018-01-04  4.0  2.0  2.0\n",
      "2018-01-05  5.0  1.0  1.0\n"
     ]
    }
   ],
   "source": [
    "index = pd.DatetimeIndex([\n",
    "    datetime(2018, 1, 1),\n",
    "    datetime(2018, 1, 2),\n",
    "    datetime(2018, 1, 3),\n",
    "    datetime(2018, 1, 4),\n",
    "    datetime(2018, 1, 5)\n",
    "], freq='D')\n",
    "columns = ['a', 'b', 'c']\n",
    "ts = pd.DataFrame({\n",
    "    'a': [1, 2, 3, 4, 5], \n",
    "    'b': [5, 4, 3, 2, 1],\n",
    "    'c': [1, 2, 3, 2, 1]}, index=index).astype(np.float32)\n",
    "\n",
    "print(ts)"
   ]
  },
  {
   "cell_type": "code",
   "execution_count": 4,
   "metadata": {},
   "outputs": [
    {
     "data": {
      "text/plain": [
       "(1000, 1000)"
      ]
     },
     "execution_count": 4,
     "metadata": {},
     "output_type": "execute_result"
    }
   ],
   "source": [
    "big_ts = pd.DataFrame(np.random.randint(10, size=(1000, 1000)).astype(float))\n",
    "big_ts.index = [datetime(2018, 1, 1) + timedelta(days=i) for i in range(1000)]\n",
    "big_ts.shape"
   ]
  },
  {
   "cell_type": "code",
   "execution_count": 7,
   "metadata": {},
   "outputs": [
    {
     "name": "stdout",
     "output_type": "stream",
     "text": [
      "                   a         b         c\n",
      "2018-01-01       NaN       NaN       NaN\n",
      "2018-01-02  1.000000 -0.200000  1.000000\n",
      "2018-01-03  0.500000 -0.250000  0.500000\n",
      "2018-01-04  0.333333 -0.333333 -0.333333\n",
      "2018-01-05  0.250000 -0.500000 -0.500000\n"
     ]
    }
   ],
   "source": [
    "returns = ts.vbt.tseries.pct_change()\n",
    "print(returns)\n",
    "\n",
    "big_returns = big_ts.vbt.tseries.pct_change()"
   ]
  },
  {
   "cell_type": "code",
   "execution_count": 7,
   "metadata": {},
   "outputs": [
    {
     "name": "stdout",
     "output_type": "stream",
     "text": [
      "365 days 00:00:00\n",
      "365 days 00:00:00\n",
      "252 days 00:00:00\n",
      "252 days 00:00:00\n"
     ]
    }
   ],
   "source": [
    "# Test year frequency\n",
    "print(returns.vbt.returns.year_freq)\n",
    "print(returns['a'].vbt.returns.year_freq)\n",
    "print(returns.vbt.returns(year_freq='252 days').year_freq)\n",
    "print(returns['a'].vbt.returns(year_freq='252 days').year_freq)"
   ]
  },
  {
   "cell_type": "code",
   "execution_count": 8,
   "metadata": {},
   "outputs": [
    {
     "name": "stdout",
     "output_type": "stream",
     "text": [
      "365.0\n",
      "252.0\n"
     ]
    }
   ],
   "source": [
    "print(returns.vbt.returns.ann_factor) # default\n",
    "print(returns.vbt.returns(year_freq='252 days').ann_factor)"
   ]
  },
  {
   "cell_type": "code",
   "execution_count": 9,
   "metadata": {},
   "outputs": [
    {
     "name": "stdout",
     "output_type": "stream",
     "text": [
      "2018-01-01         NaN\n",
      "2018-01-02    1.000000\n",
      "2018-01-03    0.500000\n",
      "2018-01-04    0.333333\n",
      "2018-01-05    0.250000\n",
      "Freq: D, Name: a, dtype: float64\n",
      "                   a         b         c\n",
      "2018-01-01       NaN       NaN       NaN\n",
      "2018-01-02  1.000000 -0.200000  1.000000\n",
      "2018-01-03  0.500000 -0.250000  0.500000\n",
      "2018-01-04  0.333333 -0.333333 -0.333333\n",
      "2018-01-05  0.250000 -0.500000 -0.500000\n",
      "8.7 µs ± 361 ns per loop (mean ± std. dev. of 7 runs, 100000 loops each)\n"
     ]
    }
   ],
   "source": [
    "print(returns['a'].vbt.returns.daily()) # already daily, do nothing\n",
    "print(returns.vbt.returns.daily())\n",
    "\n",
    "%timeit big_returns.vbt.returns.daily()"
   ]
  },
  {
   "cell_type": "code",
   "execution_count": 10,
   "metadata": {},
   "outputs": [
    {
     "name": "stdout",
     "output_type": "stream",
     "text": [
      "2018-01-01    4.0\n",
      "Freq: 365D, Name: a, dtype: float64\n",
      "              a    b             c\n",
      "2018-01-01  4.0 -0.8  2.980232e-08\n",
      "10.3 ms ± 245 µs per loop (mean ± std. dev. of 7 runs, 100 loops each)\n"
     ]
    }
   ],
   "source": [
    "print(returns['a'].vbt.returns.annual())\n",
    "print(returns.vbt.returns.annual())\n",
    "\n",
    "%timeit big_returns.vbt.returns.annual()"
   ]
  },
  {
   "cell_type": "code",
   "execution_count": 11,
   "metadata": {},
   "outputs": [
    {
     "name": "stdout",
     "output_type": "stream",
     "text": [
      "2018-01-01    0.0\n",
      "2018-01-02    1.0\n",
      "2018-01-03    2.0\n",
      "2018-01-04    3.0\n",
      "2018-01-05    4.0\n",
      "Freq: D, dtype: float64\n",
      "1.12 ms ± 39.6 µs per loop (mean ± std. dev. of 7 runs, 1000 loops each)\n",
      "2018-01-01    0.0\n",
      "2018-01-02    1.0\n",
      "2018-01-03    2.0\n",
      "2018-01-04    3.0\n",
      "2018-01-05    4.0\n",
      "Freq: D, Name: a, dtype: float64\n",
      "229 µs ± 85.1 µs per loop (mean ± std. dev. of 7 runs, 1 loop each)\n",
      "              a    b             c\n",
      "2018-01-01  0.0  0.0  0.000000e+00\n",
      "2018-01-02  1.0 -0.2  1.000000e+00\n",
      "2018-01-03  2.0 -0.4  2.000000e+00\n",
      "2018-01-04  3.0 -0.6  1.000000e+00\n",
      "2018-01-05  4.0 -0.8  2.980232e-08\n",
      "              a    b    c\n",
      "2018-01-01  1.0  1.0  1.0\n",
      "2018-01-02  2.0  0.8  2.0\n",
      "2018-01-03  3.0  0.6  3.0\n",
      "2018-01-04  4.0  0.4  2.0\n",
      "2018-01-05  5.0  0.2  1.0\n",
      "              a    b    c\n",
      "2018-01-01  1.0  2.0  3.0\n",
      "2018-01-02  2.0  1.6  6.0\n",
      "2018-01-03  3.0  1.2  9.0\n",
      "2018-01-04  4.0  0.8  6.0\n",
      "2018-01-05  5.0  0.4  3.0\n",
      "12.9 ms ± 552 µs per loop (mean ± std. dev. of 7 runs, 1 loop each)\n"
     ]
    }
   ],
   "source": [
    "print(empyrical.cum_returns(returns['a']))\n",
    "%timeit empyrical.cum_returns(big_returns[0])\n",
    "\n",
    "print(returns['a'].vbt.returns.cumulative())\n",
    "%timeit big_returns[0].vbt.returns.cumulative()\n",
    "\n",
    "print(returns.vbt.returns.cumulative())\n",
    "print(returns.vbt.returns.cumulative(start_value=1))\n",
    "print(returns.vbt.returns.cumulative(start_value=[1, 2, 3])) # also accepts array\n",
    "%timeit big_returns.vbt.returns.cumulative()"
   ]
  },
  {
   "cell_type": "code",
   "execution_count": 12,
   "metadata": {},
   "outputs": [
    {
     "name": "stdout",
     "output_type": "stream",
     "text": [
      "4.000000149011612\n"
     ]
    },
    {
     "name": "stderr",
     "output_type": "stream",
     "text": [
      "/Users/olegpolakow/miniconda3/lib/python3.7/site-packages/numpy/core/fromnumeric.py:90: RuntimeWarning: invalid value encountered in reduce\n",
      "  return ufunc.reduce(obj, axis, dtype, out, **passkwargs)\n"
     ]
    },
    {
     "name": "stdout",
     "output_type": "stream",
     "text": [
      "261 µs ± 10 µs per loop (mean ± std. dev. of 7 runs, 1000 loops each)\n",
      "4.000000149011612\n",
      "155 µs ± 2.76 µs per loop (mean ± std. dev. of 7 runs, 10000 loops each)\n",
      "a    4.000000e+00\n",
      "b   -8.000000e-01\n",
      "c    2.980232e-08\n",
      "dtype: float64\n",
      "4.5 ms ± 195 µs per loop (mean ± std. dev. of 7 runs, 100 loops each)\n"
     ]
    }
   ],
   "source": [
    "print(empyrical.cum_returns_final(returns['a']))\n",
    "%timeit empyrical.cum_returns_final(big_returns[0])\n",
    "\n",
    "print(returns['a'].vbt.returns.total())\n",
    "%timeit big_returns[0].vbt.returns.total()\n",
    "\n",
    "print(returns.vbt.returns.total())\n",
    "%timeit big_returns.vbt.returns.total()"
   ]
  },
  {
   "cell_type": "code",
   "execution_count": 13,
   "metadata": {},
   "outputs": [
    {
     "name": "stdout",
     "output_type": "stream",
     "text": [
      "2018-01-01    0.0\n",
      "2018-01-02    0.0\n",
      "2018-01-03    0.0\n",
      "2018-01-04    0.0\n",
      "2018-01-05    0.0\n",
      "Freq: D, Name: a, dtype: float64\n",
      "              a    b         c\n",
      "2018-01-01  0.0  0.0  0.000000\n",
      "2018-01-02  0.0 -0.2  0.000000\n",
      "2018-01-03  0.0 -0.4  0.000000\n",
      "2018-01-04  0.0 -0.6 -0.333333\n",
      "2018-01-05  0.0 -0.8 -0.666667\n"
     ]
    },
    {
     "name": "stderr",
     "output_type": "stream",
     "text": [
      "/Users/olegpolakow/Documents/SourceTree/vectorbt/vectorbt/tseries/accessors.py:463: RuntimeWarning: invalid value encountered in true_divide\n",
      "  return self.wrap(self.to_2d_array() / nb.expanding_max_nb(self.to_2d_array()) - 1)\n"
     ]
    },
    {
     "name": "stdout",
     "output_type": "stream",
     "text": [
      "27.3 ms ± 1.07 ms per loop (mean ± std. dev. of 7 runs, 10 loops each)\n"
     ]
    }
   ],
   "source": [
    "print(returns['a'].vbt.returns.drawdown())\n",
    "print(returns.vbt.returns.drawdown())\n",
    "\n",
    "%timeit big_returns.vbt.returns.drawdown()"
   ]
  },
  {
   "cell_type": "code",
   "execution_count": 14,
   "metadata": {},
   "outputs": [
    {
     "name": "stdout",
     "output_type": "stream",
     "text": [
      "-0.7999999910593033\n",
      "127 µs ± 1.82 µs per loop (mean ± std. dev. of 7 runs, 10000 loops each)\n",
      "0.7999999910593032\n",
      "193 µs ± 69.2 µs per loop (mean ± std. dev. of 7 runs, 1 loop each)\n",
      "a    0.000000\n",
      "b    0.800000\n",
      "c    0.666667\n",
      "dtype: float64\n",
      "12.5 ms ± 571 µs per loop (mean ± std. dev. of 7 runs, 100 loops each)\n"
     ]
    }
   ],
   "source": [
    "print(empyrical.max_drawdown(returns['b']))\n",
    "%timeit empyrical.max_drawdown(big_returns[0])\n",
    "\n",
    "print(returns['b'].vbt.returns.max_drawdown())\n",
    "%timeit big_returns[0].vbt.returns.max_drawdown()\n",
    "\n",
    "print(returns.vbt.returns.max_drawdown())\n",
    "%timeit big_returns.vbt.returns.max_drawdown()"
   ]
  },
  {
   "cell_type": "code",
   "execution_count": 15,
   "metadata": {},
   "outputs": [],
   "source": [
    "vbt.defaults.returns['year_freq'] = '252 days' # same as empyrical"
   ]
  },
  {
   "cell_type": "code",
   "execution_count": 16,
   "metadata": {},
   "outputs": [
    {
     "name": "stdout",
     "output_type": "stream",
     "text": [
      "1.690786886567203e+35\n"
     ]
    },
    {
     "name": "stderr",
     "output_type": "stream",
     "text": [
      "/Users/olegpolakow/miniconda3/lib/python3.7/site-packages/numpy/core/fromnumeric.py:90: RuntimeWarning: invalid value encountered in reduce\n",
      "  return ufunc.reduce(obj, axis, dtype, out, **passkwargs)\n"
     ]
    },
    {
     "name": "stdout",
     "output_type": "stream",
     "text": [
      "281 µs ± 7.84 µs per loop (mean ± std. dev. of 7 runs, 1000 loops each)\n",
      "1.6907868865671834e+35\n",
      "198 µs ± 7.16 µs per loop (mean ± std. dev. of 7 runs, 1000 loops each)\n",
      "a    1.690787e+35\n",
      "b   -1.000000e+00\n",
      "c    1.502038e-06\n",
      "dtype: float64\n",
      "4.39 ms ± 83.7 µs per loop (mean ± std. dev. of 7 runs, 100 loops each)\n"
     ]
    }
   ],
   "source": [
    "print(empyrical.annual_return(returns['a']))\n",
    "%timeit empyrical.annual_return(big_returns[0])\n",
    "\n",
    "print(returns['a'].vbt.returns.annualized_return())\n",
    "%timeit big_returns[0].vbt.returns.annualized_return()\n",
    "\n",
    "print(returns.vbt.returns.annualized_return())\n",
    "%timeit big_returns.vbt.returns.annualized_return()"
   ]
  },
  {
   "cell_type": "code",
   "execution_count": 17,
   "metadata": {},
   "outputs": [
    {
     "name": "stdout",
     "output_type": "stream",
     "text": [
      "2.121838249438074\n",
      "67.4 µs ± 1.03 µs per loop (mean ± std. dev. of 7 runs, 10000 loops each)\n",
      "2.121838249438074\n",
      "341 µs ± 120 µs per loop (mean ± std. dev. of 7 runs, 1 loop each)\n",
      "a    2.121838\n",
      "b    0.830587\n",
      "c    4.466341\n",
      "dtype: float64\n",
      "a    84.653704\n",
      "b     2.087463\n",
      "c     4.466341\n",
      "dtype: float64\n",
      "6.78 ms ± 294 µs per loop (mean ± std. dev. of 7 runs, 1 loop each)\n"
     ]
    }
   ],
   "source": [
    "print(empyrical.annual_volatility(returns['a'], alpha=3.))\n",
    "%timeit empyrical.annual_volatility(big_returns[0], alpha=3.)\n",
    "\n",
    "print(returns['a'].vbt.returns.annualized_volatility(levy_alpha=3.))\n",
    "%timeit big_returns[0].vbt.returns.annualized_volatility(levy_alpha=3.)\n",
    "\n",
    "print(returns.vbt.returns.annualized_volatility(levy_alpha=3.))\n",
    "print(returns.vbt.returns.annualized_volatility(levy_alpha=[1, 2, 3]))\n",
    "%timeit big_returns.vbt.returns.annualized_volatility(levy_alpha=3.)"
   ]
  },
  {
   "cell_type": "code",
   "execution_count": 18,
   "metadata": {},
   "outputs": [
    {
     "name": "stdout",
     "output_type": "stream",
     "text": [
      "-1.2500000139698388\n"
     ]
    },
    {
     "name": "stderr",
     "output_type": "stream",
     "text": [
      "/Users/olegpolakow/miniconda3/lib/python3.7/site-packages/numpy/core/fromnumeric.py:90: RuntimeWarning: invalid value encountered in reduce\n",
      "  return ufunc.reduce(obj, axis, dtype, out, **passkwargs)\n"
     ]
    },
    {
     "name": "stdout",
     "output_type": "stream",
     "text": [
      "453 µs ± 18.4 µs per loop (mean ± std. dev. of 7 runs, 1000 loops each)\n",
      "-1.2500000139698388\n",
      "258 µs ± 74.8 µs per loop (mean ± std. dev. of 7 runs, 1 loop each)\n",
      "a         NaN\n",
      "b   -1.250000\n",
      "c    0.000002\n",
      "dtype: float64\n",
      "15.6 ms ± 356 µs per loop (mean ± std. dev. of 7 runs, 100 loops each)\n"
     ]
    }
   ],
   "source": [
    "print(empyrical.calmar_ratio(returns['b']))\n",
    "%timeit empyrical.calmar_ratio(big_returns[0])\n",
    "\n",
    "print(returns['b'].vbt.returns.calmar_ratio())\n",
    "%timeit big_returns[0].vbt.returns.calmar_ratio()\n",
    "\n",
    "print(returns.vbt.returns.calmar_ratio())\n",
    "%timeit big_returns.vbt.returns.calmar_ratio()"
   ]
  },
  {
   "cell_type": "code",
   "execution_count": 19,
   "metadata": {},
   "outputs": [
    {
     "name": "stdout",
     "output_type": "stream",
     "text": [
      "1.7319528661672228\n",
      "1.65 ms ± 119 µs per loop (mean ± std. dev. of 7 runs, 1000 loops each)\n",
      "1.7319528661672228\n",
      "347 µs ± 101 µs per loop (mean ± std. dev. of 7 runs, 1 loop each)\n",
      "a         NaN\n",
      "b    0.000000\n",
      "c    1.731953\n",
      "dtype: float64\n",
      "a        NaN\n",
      "b    0.00000\n",
      "c    1.60973\n",
      "dtype: float64\n",
      "a         NaN\n",
      "b    0.000000\n",
      "c    1.727716\n",
      "dtype: float64\n",
      "26.5 ms ± 5.61 ms per loop (mean ± std. dev. of 7 runs, 1 loop each)\n"
     ]
    }
   ],
   "source": [
    "print(empyrical.omega_ratio(returns['c'], risk_free=0.01, required_return=0.1))\n",
    "%timeit empyrical.omega_ratio(big_returns[0], risk_free=0.01, required_return=0.1)\n",
    "\n",
    "print(returns['c'].vbt.returns.omega_ratio(risk_free=0.01, required_return=0.1))\n",
    "%timeit big_returns[0].vbt.returns.omega_ratio(risk_free=0.01, required_return=0.1)\n",
    "\n",
    "print(returns.vbt.returns.omega_ratio(risk_free=0.01, required_return=0.1))\n",
    "print(returns.vbt.returns.omega_ratio(risk_free=[0.01, 0.02, 0.03], required_return=0.1))\n",
    "print(returns.vbt.returns.omega_ratio(risk_free=0.01, required_return=[0.1, 0.2, 0.3]))\n",
    "%timeit big_returns.vbt.returns.omega_ratio(risk_free=0.01, required_return=0.1)"
   ]
  },
  {
   "cell_type": "code",
   "execution_count": 20,
   "metadata": {},
   "outputs": [
    {
     "name": "stdout",
     "output_type": "stream",
     "text": [
      "24.139822936194918\n",
      "521 µs ± 122 µs per loop (mean ± std. dev. of 7 runs, 1000 loops each)\n",
      "24.139822936194918\n",
      "342 µs ± 124 µs per loop (mean ± std. dev. of 7 runs, 1 loop each)\n",
      "a    24.139823\n",
      "b   -39.938439\n",
      "c     3.517158\n",
      "dtype: float64\n",
      "a    24.139823\n",
      "b   -41.145646\n",
      "c     3.068159\n",
      "dtype: float64\n",
      "8.78 ms ± 101 µs per loop (mean ± std. dev. of 7 runs, 1 loop each)\n"
     ]
    }
   ],
   "source": [
    "print(empyrical.sharpe_ratio(returns['a'], risk_free=0.01))\n",
    "%timeit empyrical.sharpe_ratio(big_returns[0], risk_free=0.01)\n",
    "\n",
    "print(returns['a'].vbt.returns.sharpe_ratio(risk_free=0.01))\n",
    "%timeit big_returns[0].vbt.returns.sharpe_ratio(risk_free=0.01)\n",
    "\n",
    "print(returns.vbt.returns.sharpe_ratio(risk_free=0.01))\n",
    "print(returns.vbt.returns.sharpe_ratio(risk_free=[0.01, 0.02, 0.03]))\n",
    "%timeit big_returns.vbt.returns.sharpe_ratio(risk_free=0.01)"
   ]
  },
  {
   "cell_type": "code",
   "execution_count": 21,
   "metadata": {},
   "outputs": [
    {
     "name": "stdout",
     "output_type": "stream",
     "text": [
      "6.920801865722236\n",
      "136 µs ± 19.2 µs per loop (mean ± std. dev. of 7 runs, 10000 loops each)\n",
      "6.920801865722236\n",
      "451 µs ± 89.7 µs per loop (mean ± std. dev. of 7 runs, 1 loop each)\n",
      "a    0.000000\n",
      "b    6.920802\n",
      "c    5.874521\n",
      "dtype: float64\n",
      "a    0.000000\n",
      "b    8.463303\n",
      "c    8.098765\n",
      "dtype: float64\n",
      "12.8 ms ± 815 µs per loop (mean ± std. dev. of 7 runs, 1 loop each)\n"
     ]
    }
   ],
   "source": [
    "print(empyrical.downside_risk(returns['b'], required_return=0.1))\n",
    "%timeit empyrical.downside_risk(big_returns[0], required_return=0.1)\n",
    "\n",
    "print(returns['b'].vbt.returns.downside_risk(required_return=0.1))\n",
    "%timeit big_returns[0].vbt.returns.downside_risk(required_return=0.1)\n",
    "\n",
    "print(returns.vbt.returns.downside_risk(required_return=0.1))\n",
    "print(returns.vbt.returns.downside_risk(required_return=[0.1, 0.2, 0.3]))\n",
    "%timeit big_returns.vbt.returns.downside_risk(required_return=0.1)"
   ]
  },
  {
   "cell_type": "code",
   "execution_count": 22,
   "metadata": {},
   "outputs": [
    {
     "name": "stdout",
     "output_type": "stream",
     "text": [
      "-15.32336860018125\n",
      "499 µs ± 101 µs per loop (mean ± std. dev. of 7 runs, 1000 loops each)\n",
      "-15.32336860018125\n",
      "311 µs ± 127 µs per loop (mean ± std. dev. of 7 runs, 1 loop each)\n",
      "a          NaN\n",
      "b   -15.323369\n",
      "c     2.859808\n",
      "dtype: float64\n",
      "a          NaN\n",
      "b   -15.508129\n",
      "c    -4.148780\n",
      "dtype: float64\n",
      "11.8 ms ± 567 µs per loop (mean ± std. dev. of 7 runs, 1 loop each)\n"
     ]
    }
   ],
   "source": [
    "print(empyrical.sortino_ratio(returns['b'], required_return=0.1))\n",
    "%timeit empyrical.sortino_ratio(big_returns[0], required_return=0.1)\n",
    "\n",
    "print(returns['b'].vbt.returns.sortino_ratio(required_return=0.1))\n",
    "%timeit big_returns[0].vbt.returns.sortino_ratio(required_return=0.1)\n",
    "\n",
    "print(returns.vbt.returns.sortino_ratio(required_return=0.1))\n",
    "print(returns.vbt.returns.sortino_ratio(required_return=[0.1, 0.2, 0.3]))\n",
    "%timeit big_returns.vbt.returns.sortino_ratio(required_return=0.1)"
   ]
  },
  {
   "cell_type": "code",
   "execution_count": 23,
   "metadata": {},
   "outputs": [],
   "source": [
    "factor_returns = returns['a'] * np.random.uniform(0.8, 1.2, returns.shape[0])\n",
    "big_factor_returns = big_returns[0] * np.random.uniform(0.8, 1.2, big_returns.shape[0])"
   ]
  },
  {
   "cell_type": "code",
   "execution_count": 24,
   "metadata": {},
   "outputs": [
    {
     "name": "stdout",
     "output_type": "stream",
     "text": [
      "-0.6641036446298005\n",
      "850 µs ± 22.6 µs per loop (mean ± std. dev. of 7 runs, 1000 loops each)\n",
      "-0.6641036446298006\n",
      "509 µs ± 84.6 µs per loop (mean ± std. dev. of 7 runs, 1 loop each)\n",
      "a   -0.664104\n",
      "b   -3.179412\n",
      "c   -0.935110\n",
      "dtype: float64\n",
      "10.1 ms ± 747 µs per loop (mean ± std. dev. of 7 runs, 1 loop each)\n"
     ]
    }
   ],
   "source": [
    "print(empyrical.excess_sharpe(returns['a'], factor_returns))\n",
    "%timeit empyrical.excess_sharpe(big_returns[0], factor_returns)\n",
    "\n",
    "print(returns['a'].vbt.returns.information_ratio(factor_returns)) # will broadcast\n",
    "%timeit big_returns[0].vbt.returns.information_ratio(big_factor_returns)\n",
    "\n",
    "print(returns.vbt.returns.information_ratio(factor_returns))\n",
    "%timeit big_returns.vbt.returns.information_ratio(big_factor_returns)"
   ]
  },
  {
   "cell_type": "code",
   "execution_count": 25,
   "metadata": {},
   "outputs": [
    {
     "name": "stdout",
     "output_type": "stream",
     "text": [
      "0.9189550542951102\n",
      "2.64 ms ± 62.6 µs per loop (mean ± std. dev. of 7 runs, 100 loops each)\n",
      "0.9189550542951102\n",
      "341 µs ± 83 µs per loop (mean ± std. dev. of 7 runs, 1 loop each)\n",
      "a    0.918955\n",
      "b    0.284734\n",
      "c    1.759688\n",
      "dtype: float64\n",
      "12.3 ms ± 247 µs per loop (mean ± std. dev. of 7 runs, 1 loop each)\n"
     ]
    }
   ],
   "source": [
    "print(empyrical.beta(returns['a'], factor_returns))\n",
    "%timeit empyrical.beta(big_returns[0], factor_returns)\n",
    "\n",
    "print(returns['a'].vbt.returns.beta(factor_returns))\n",
    "%timeit big_returns[0].vbt.returns.beta(big_factor_returns)\n",
    "\n",
    "print(returns.vbt.returns.beta(factor_returns))\n",
    "%timeit big_returns.vbt.returns.beta(big_factor_returns)"
   ]
  },
  {
   "cell_type": "code",
   "execution_count": 26,
   "metadata": {},
   "outputs": [
    {
     "name": "stdout",
     "output_type": "stream",
     "text": [
      "77.43830669016809\n",
      "2.76 ms ± 122 µs per loop (mean ± std. dev. of 7 runs, 100 loops each)\n",
      "77.43830669016809\n",
      "395 µs ± 109 µs per loop (mean ± std. dev. of 7 runs, 1 loop each)\n",
      "a    77.438307\n",
      "b    -1.000000\n",
      "c    -1.000000\n",
      "dtype: float64\n",
      "a    77.438307\n",
      "b    -1.000000\n",
      "c    -1.000000\n",
      "dtype: float64\n",
      "15.3 ms ± 277 µs per loop (mean ± std. dev. of 7 runs, 1 loop each)\n"
     ]
    }
   ],
   "source": [
    "print(empyrical.alpha(returns['a'], factor_returns, risk_free=0.01))\n",
    "%timeit empyrical.alpha(big_returns[0], factor_returns, risk_free=0.01)\n",
    "\n",
    "print(returns['a'].vbt.returns.alpha(factor_returns, risk_free=0.01))\n",
    "%timeit big_returns[0].vbt.returns.alpha(big_factor_returns, risk_free=0.01)\n",
    "\n",
    "print(returns.vbt.returns.alpha(factor_returns, risk_free=0.01))\n",
    "print(returns.vbt.returns.alpha(factor_returns, risk_free=[0.01, 0.02, 0.03]))\n",
    "%timeit big_returns.vbt.returns.alpha(big_factor_returns, risk_free=0.01)"
   ]
  },
  {
   "cell_type": "code",
   "execution_count": 27,
   "metadata": {},
   "outputs": [
    {
     "name": "stdout",
     "output_type": "stream",
     "text": [
      "3.5238094437960337\n",
      "332 µs ± 8.24 µs per loop (mean ± std. dev. of 7 runs, 1000 loops each)\n",
      "3.5238094437960337\n",
      "261 µs ± 104 µs per loop (mean ± std. dev. of 7 runs, 1 loop each)\n",
      "a    3.523809\n",
      "b    0.436842\n",
      "c    1.947368\n",
      "dtype: float64\n",
      "29.1 ms ± 533 µs per loop (mean ± std. dev. of 7 runs, 10 loops each)\n"
     ]
    }
   ],
   "source": [
    "print(empyrical.tail_ratio(returns['a']))\n",
    "%timeit empyrical.tail_ratio(big_returns[0])\n",
    "\n",
    "print(returns['a'].vbt.returns.tail_ratio())\n",
    "%timeit big_returns[0].vbt.returns.tail_ratio()\n",
    "\n",
    "print(returns.vbt.returns.tail_ratio())\n",
    "%timeit big_returns.vbt.returns.tail_ratio()"
   ]
  },
  {
   "cell_type": "code",
   "execution_count": 28,
   "metadata": {},
   "outputs": [
    {
     "name": "stdout",
     "output_type": "stream",
     "text": [
      "0.26250000596046447\n",
      "190 µs ± 7.97 µs per loop (mean ± std. dev. of 7 runs, 1000 loops each)\n",
      "0.26250000596046447\n",
      "217 µs ± 65.8 µs per loop (mean ± std. dev. of 7 runs, 1 loop each)\n",
      "a    0.2625\n",
      "b   -0.4750\n",
      "c   -0.4750\n",
      "dtype: float64\n",
      "a    0.2625\n",
      "b   -0.4700\n",
      "c   -0.4650\n",
      "dtype: float64\n",
      "17.2 ms ± 372 µs per loop (mean ± std. dev. of 7 runs, 1 loop each)\n"
     ]
    }
   ],
   "source": [
    "print(empyrical.value_at_risk(returns.iloc[1:]['a'], cutoff=0.05))\n",
    "%timeit empyrical.value_at_risk(big_returns[0], cutoff=0.05)\n",
    "\n",
    "print(returns['a'].vbt.returns.value_at_risk(cutoff=0.05))\n",
    "%timeit big_returns[0].vbt.returns.value_at_risk(cutoff=0.05)\n",
    "\n",
    "print(returns.vbt.returns.value_at_risk(cutoff=0.05))\n",
    "print(returns.vbt.returns.value_at_risk(cutoff=[0.05, 0.06, 0.07]))\n",
    "%timeit big_returns.vbt.returns.value_at_risk(cutoff=0.05)"
   ]
  },
  {
   "cell_type": "code",
   "execution_count": 29,
   "metadata": {},
   "outputs": [
    {
     "name": "stdout",
     "output_type": "stream",
     "text": [
      "0.25\n",
      "73.5 µs ± 1.04 µs per loop (mean ± std. dev. of 7 runs, 10000 loops each)\n",
      "0.25\n",
      "206 µs ± 73.5 µs per loop (mean ± std. dev. of 7 runs, 1 loop each)\n",
      "a    0.25\n",
      "b   -0.50\n",
      "c   -0.50\n",
      "dtype: float64\n",
      "a    0.25\n",
      "b   -0.50\n",
      "c   -0.50\n",
      "dtype: float64\n",
      "16.2 ms ± 241 µs per loop (mean ± std. dev. of 7 runs, 1 loop each)\n"
     ]
    }
   ],
   "source": [
    "print(empyrical.conditional_value_at_risk(returns.iloc[1:]['a'], cutoff=0.05))\n",
    "%timeit empyrical.conditional_value_at_risk(big_returns[0], cutoff=0.05)\n",
    "\n",
    "print(returns['a'].vbt.returns.conditional_value_at_risk(cutoff=0.05))\n",
    "%timeit big_returns[0].vbt.returns.conditional_value_at_risk(cutoff=0.05)\n",
    "\n",
    "print(returns.vbt.returns.conditional_value_at_risk(cutoff=0.05))\n",
    "print(returns.vbt.returns.conditional_value_at_risk(cutoff=[0.05, 0.06, 0.07]))\n",
    "%timeit big_returns.vbt.returns.conditional_value_at_risk(cutoff=0.05)"
   ]
  },
  {
   "cell_type": "code",
   "execution_count": 30,
   "metadata": {},
   "outputs": [
    {
     "name": "stdout",
     "output_type": "stream",
     "text": [
      "0.04914189206814982\n"
     ]
    },
    {
     "name": "stderr",
     "output_type": "stream",
     "text": [
      "/Users/olegpolakow/miniconda3/lib/python3.7/site-packages/numpy/core/fromnumeric.py:90: RuntimeWarning: invalid value encountered in reduce\n",
      "  return ufunc.reduce(obj, axis, dtype, out, **passkwargs)\n"
     ]
    },
    {
     "name": "stdout",
     "output_type": "stream",
     "text": [
      "488 µs ± 5.79 µs per loop (mean ± std. dev. of 7 runs, 1000 loops each)\n",
      "0.04914189206814983\n",
      "313 µs ± 4.01 µs per loop (mean ± std. dev. of 7 runs, 1000 loops each)\n",
      "a    4.914189e-02\n",
      "b   -2.906451e-37\n",
      "c    4.365600e-43\n",
      "dtype: float64\n",
      "6.64 ms ± 166 µs per loop (mean ± std. dev. of 7 runs, 1 loop each)\n"
     ]
    }
   ],
   "source": [
    "print(empyrical.capture(returns['a'], factor_returns))\n",
    "%timeit empyrical.capture(big_returns[0], big_factor_returns)\n",
    "\n",
    "print(returns['a'].vbt.returns.capture(factor_returns))\n",
    "%timeit big_returns[0].vbt.returns.capture(big_factor_returns)\n",
    "\n",
    "print(returns.vbt.returns.capture(factor_returns))\n",
    "%timeit big_returns.vbt.returns.capture(big_factor_returns)"
   ]
  },
  {
   "cell_type": "code",
   "execution_count": 31,
   "metadata": {},
   "outputs": [
    {
     "name": "stdout",
     "output_type": "stream",
     "text": [
      "0.023137415312885424\n"
     ]
    },
    {
     "name": "stderr",
     "output_type": "stream",
     "text": [
      "/Users/olegpolakow/miniconda3/lib/python3.7/site-packages/empyrical/stats.py:1561: RuntimeWarning: invalid value encountered in double_scalars\n",
      "  annual_return(factor_returns, period=period))\n"
     ]
    },
    {
     "name": "stdout",
     "output_type": "stream",
     "text": [
      "1.6 ms ± 152 µs per loop (mean ± std. dev. of 7 runs, 1000 loops each)\n",
      "0.023137415312885424\n",
      "624 µs ± 142 µs per loop (mean ± std. dev. of 7 runs, 1 loop each)\n",
      "a    2.313742e-02\n",
      "b   -2.134046e-46\n",
      "c    4.006774e-52\n",
      "dtype: float64\n",
      "6.56 ms ± 207 µs per loop (mean ± std. dev. of 7 runs, 1 loop each)\n"
     ]
    }
   ],
   "source": [
    "print(empyrical.up_capture(returns['a'], factor_returns))\n",
    "%timeit empyrical.up_capture(big_returns[0], big_factor_returns)\n",
    "\n",
    "print(returns['a'].vbt.returns.up_capture(factor_returns))\n",
    "%timeit big_returns[0].vbt.returns.up_capture(big_factor_returns)\n",
    "\n",
    "print(returns.vbt.returns.up_capture(factor_returns))\n",
    "%timeit big_returns.vbt.returns.up_capture(big_factor_returns)"
   ]
  },
  {
   "cell_type": "code",
   "execution_count": 32,
   "metadata": {},
   "outputs": [
    {
     "name": "stdout",
     "output_type": "stream",
     "text": [
      "nan\n",
      "1.49 ms ± 132 µs per loop (mean ± std. dev. of 7 runs, 100 loops each)\n",
      "nan\n",
      "358 µs ± 82.1 µs per loop (mean ± std. dev. of 7 runs, 1 loop each)\n",
      "a   NaN\n",
      "b   NaN\n",
      "c   NaN\n",
      "dtype: float64\n",
      "7.12 ms ± 303 µs per loop (mean ± std. dev. of 7 runs, 1 loop each)\n"
     ]
    }
   ],
   "source": [
    "print(empyrical.down_capture(returns['a'], factor_returns))\n",
    "%timeit empyrical.down_capture(big_returns[0], big_factor_returns)\n",
    "\n",
    "print(returns['a'].vbt.returns.down_capture(factor_returns))\n",
    "%timeit big_returns[0].vbt.returns.down_capture(big_factor_returns)\n",
    "\n",
    "print(returns.vbt.returns.down_capture(factor_returns))\n",
    "%timeit big_returns.vbt.returns.down_capture(big_factor_returns)"
   ]
  },
  {
   "cell_type": "code",
   "execution_count": 33,
   "metadata": {},
   "outputs": [
    {
     "name": "stdout",
     "output_type": "stream",
     "text": [
      "0.8483206930595862\n",
      "1.73 ms ± 24.5 µs per loop (mean ± std. dev. of 7 runs, 1000 loops each)\n",
      "a    0.848321\n",
      "b   -0.615091\n",
      "c    0.211684\n",
      "dtype: float64\n",
      "119 ms ± 578 µs per loop (mean ± std. dev. of 7 runs, 10 loops each)\n"
     ]
    }
   ],
   "source": [
    "print(returns['a'].vbt.returns.skew())\n",
    "%timeit big_returns[0].vbt.returns.skew()\n",
    "\n",
    "print(returns.vbt.returns.skew())\n",
    "%timeit big_returns.vbt.returns.skew() # very slow"
   ]
  },
  {
   "cell_type": "code",
   "execution_count": 34,
   "metadata": {},
   "outputs": [
    {
     "name": "stdout",
     "output_type": "stream",
     "text": [
      "-0.9292307393753112\n",
      "1.79 ms ± 21 µs per loop (mean ± std. dev. of 7 runs, 1000 loops each)\n",
      "a   -0.929231\n",
      "b   -1.113971\n",
      "c   -1.658436\n",
      "dtype: float64\n",
      "139 ms ± 658 µs per loop (mean ± std. dev. of 7 runs, 10 loops each)\n"
     ]
    }
   ],
   "source": [
    "print(returns['a'].vbt.returns.kurtosis())\n",
    "%timeit big_returns[0].vbt.returns.kurtosis()\n",
    "\n",
    "print(returns.vbt.returns.kurtosis())\n",
    "%timeit big_returns.vbt.returns.kurtosis() # even slower"
   ]
  },
  {
   "cell_type": "code",
   "execution_count": 35,
   "metadata": {},
   "outputs": [
    {
     "name": "stdout",
     "output_type": "stream",
     "text": [
      "              a    b         c\n",
      "2018-01-01  0.0  0.0  0.000000\n",
      "2018-01-02  0.0 -0.2  0.000000\n",
      "2018-01-03  0.0 -0.4  0.000000\n",
      "2018-01-04  0.0 -0.6 -0.333333\n",
      "2018-01-05  0.0 -0.8 -0.666667\n",
      "              a    b         c\n",
      "2018-01-01  0.0  0.0  0.000000\n",
      "2018-01-02  0.0 -0.2  0.000000\n",
      "2018-01-03  0.0 -0.4  0.000000\n",
      "2018-01-04  0.0 -0.6 -0.333333\n",
      "2018-01-05  0.0 -0.8 -0.666667\n"
     ]
    },
    {
     "name": "stderr",
     "output_type": "stream",
     "text": [
      "/Users/olegpolakow/Documents/SourceTree/vectorbt/vectorbt/tseries/accessors.py:463: RuntimeWarning: invalid value encountered in true_divide\n",
      "  return self.wrap(self.to_2d_array() / nb.expanding_max_nb(self.to_2d_array()) - 1)\n"
     ]
    },
    {
     "name": "stdout",
     "output_type": "stream",
     "text": [
      "26.1 ms ± 1.18 ms per loop (mean ± std. dev. of 7 runs, 10 loops each)\n"
     ]
    }
   ],
   "source": [
    "print(returns.vbt.returns.drawdown())\n",
    "print(returns.vbt.returns.drawdown(start_value=1.))\n",
    "\n",
    "%timeit big_returns.vbt.returns.drawdown()"
   ]
  },
  {
   "cell_type": "code",
   "execution_count": 36,
   "metadata": {},
   "outputs": [
    {
     "name": "stdout",
     "output_type": "stream",
     "text": [
      "<vectorbt.records.drawdowns.Drawdowns object at 0x7faff7c82080>\n",
      "17.5 ms ± 169 µs per loop (mean ± std. dev. of 7 runs, 100 loops each)\n"
     ]
    }
   ],
   "source": [
    "print(returns.vbt.returns.drawdowns())\n",
    "%timeit big_returns.vbt.returns.drawdowns()"
   ]
  },
  {
   "cell_type": "code",
   "execution_count": null,
   "metadata": {},
   "outputs": [],
   "source": []
  }
 ],
 "metadata": {
  "kernelspec": {
   "display_name": "Python 3",
   "language": "python",
   "name": "python3"
  },
  "language_info": {
   "codemirror_mode": {
    "name": "ipython",
    "version": 3
   },
   "file_extension": ".py",
   "mimetype": "text/x-python",
   "name": "python",
   "nbconvert_exporter": "python",
   "pygments_lexer": "ipython3",
   "version": "3.7.3"
  },
  "widgets": {
   "application/vnd.jupyter.widget-state+json": {
    "state": {},
    "version_major": 2,
    "version_minor": 0
   }
  }
 },
 "nbformat": 4,
 "nbformat_minor": 4
}
