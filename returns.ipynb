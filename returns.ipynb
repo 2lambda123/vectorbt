{
 "cells": [
  {
   "cell_type": "markdown",
   "metadata": {},
   "source": [
    "# returns"
   ]
  },
  {
   "cell_type": "code",
   "execution_count": 1,
   "metadata": {},
   "outputs": [],
   "source": [
    "import vectorbt as vbt"
   ]
  },
  {
   "cell_type": "code",
   "execution_count": 2,
   "metadata": {
    "Collapsed": "false"
   },
   "outputs": [
    {
     "name": "stderr",
     "output_type": "stream",
     "text": [
      "/Users/olegpolakow/miniconda3/lib/python3.7/site-packages/pandas_datareader/compat/__init__.py:7: FutureWarning: pandas.util.testing is deprecated. Use the functions in the public API at pandas.testing instead.\n",
      "  from pandas.util.testing import assert_frame_equal\n",
      "/Users/olegpolakow/miniconda3/lib/python3.7/site-packages/empyrical/utils.py:32: UserWarning: Unable to import pandas_datareader. Suppressing import error and continuing. All data reading functionality will raise errors; but has been deprecated and will be removed in a later version.\n",
      "  warnings.warn(msg)\n"
     ]
    }
   ],
   "source": [
    "import numpy as np\n",
    "import pandas as pd\n",
    "from datetime import datetime, timedelta\n",
    "from numba import njit, f8, i8, b1, optional\n",
    "import empyrical"
   ]
  },
  {
   "cell_type": "code",
   "execution_count": 3,
   "metadata": {},
   "outputs": [],
   "source": [
    "# Disable caching for performance testing\n",
    "vbt.defaults.caching = False\n",
    "vbt.defaults.returns['year_freq'] = '252 days' # same as empyrical"
   ]
  },
  {
   "cell_type": "code",
   "execution_count": 4,
   "metadata": {},
   "outputs": [
    {
     "name": "stdout",
     "output_type": "stream",
     "text": [
      "              a    b    c\n",
      "2018-01-01  1.0  5.0  1.0\n",
      "2018-01-02  2.0  4.0  2.0\n",
      "2018-01-03  3.0  3.0  3.0\n",
      "2018-01-04  4.0  2.0  2.0\n",
      "2018-01-05  5.0  1.0  1.0\n"
     ]
    }
   ],
   "source": [
    "index = pd.DatetimeIndex([\n",
    "    datetime(2018, 1, 1),\n",
    "    datetime(2018, 1, 2),\n",
    "    datetime(2018, 1, 3),\n",
    "    datetime(2018, 1, 4),\n",
    "    datetime(2018, 1, 5)\n",
    "], freq='D')\n",
    "columns = ['a', 'b', 'c']\n",
    "ts = pd.DataFrame({\n",
    "    'a': [1, 2, 3, 4, 5], \n",
    "    'b': [5, 4, 3, 2, 1],\n",
    "    'c': [1, 2, 3, 2, 1]\n",
    "}, index=index).astype(np.float32)\n",
    "\n",
    "print(ts)"
   ]
  },
  {
   "cell_type": "code",
   "execution_count": 5,
   "metadata": {},
   "outputs": [
    {
     "data": {
      "text/plain": [
       "(1000, 1000)"
      ]
     },
     "execution_count": 5,
     "metadata": {},
     "output_type": "execute_result"
    }
   ],
   "source": [
    "big_ts = pd.DataFrame(np.random.randint(1, 10, size=(1000, 1000)).astype(float))\n",
    "big_ts.index = [datetime(2018, 1, 1) + timedelta(days=i) for i in range(1000)]\n",
    "big_ts.shape"
   ]
  },
  {
   "cell_type": "code",
   "execution_count": 6,
   "metadata": {},
   "outputs": [
    {
     "name": "stdout",
     "output_type": "stream",
     "text": [
      "                   a         b         c\n",
      "2018-01-01       NaN       NaN       NaN\n",
      "2018-01-02  1.000000 -0.200000  1.000000\n",
      "2018-01-03  0.500000 -0.250000  0.500000\n",
      "2018-01-04  0.333333 -0.333333 -0.333333\n",
      "2018-01-05  0.250000 -0.500000 -0.500000\n"
     ]
    }
   ],
   "source": [
    "returns = ts.vbt.pct_change()\n",
    "print(returns)\n",
    "\n",
    "big_returns = big_ts.vbt.pct_change()"
   ]
  },
  {
   "cell_type": "code",
   "execution_count": 7,
   "metadata": {},
   "outputs": [],
   "source": [
    "np.random.seed(42)\n",
    "benchmark_rets = returns['a'] * np.random.uniform(0.8, 1.2, returns.shape[0])\n",
    "big_benchmark_rets = big_returns[0] * np.random.uniform(0.8, 1.2, big_returns.shape[0])"
   ]
  },
  {
   "cell_type": "code",
   "execution_count": 8,
   "metadata": {},
   "outputs": [
    {
     "name": "stdout",
     "output_type": "stream",
     "text": [
      "252 days 00:00:00\n",
      "252 days 00:00:00\n",
      "252 days 00:00:00\n",
      "252 days 00:00:00\n"
     ]
    }
   ],
   "source": [
    "# Test year frequency\n",
    "print(returns.vbt.returns.year_freq)\n",
    "print(returns['a'].vbt.returns.year_freq)\n",
    "print(returns.vbt.returns(year_freq='252 days').year_freq)\n",
    "print(returns['a'].vbt.returns(year_freq='252 days').year_freq)"
   ]
  },
  {
   "cell_type": "code",
   "execution_count": 9,
   "metadata": {},
   "outputs": [
    {
     "name": "stdout",
     "output_type": "stream",
     "text": [
      "252.0\n",
      "252.0\n"
     ]
    }
   ],
   "source": [
    "print(returns.vbt.returns.ann_factor) # default\n",
    "print(returns.vbt.returns(year_freq='252 days').ann_factor)"
   ]
  },
  {
   "cell_type": "code",
   "execution_count": 10,
   "metadata": {},
   "outputs": [
    {
     "name": "stdout",
     "output_type": "stream",
     "text": [
      "2018-01-01         NaN\n",
      "2018-01-02    1.000000\n",
      "2018-01-03    0.500000\n",
      "2018-01-04    0.333333\n",
      "2018-01-05    0.250000\n",
      "Freq: D, Name: a, dtype: float64\n",
      "                   a         b         c\n",
      "2018-01-01       NaN       NaN       NaN\n",
      "2018-01-02  1.000000 -0.200000  1.000000\n",
      "2018-01-03  0.500000 -0.250000  0.500000\n",
      "2018-01-04  0.333333 -0.333333 -0.333333\n",
      "2018-01-05  0.250000 -0.500000 -0.500000\n",
      "30.4 µs ± 8.82 µs per loop (mean ± std. dev. of 7 runs, 10000 loops each)\n"
     ]
    }
   ],
   "source": [
    "print(returns['a'].vbt.returns.daily()) # already daily, do nothing\n",
    "print(returns.vbt.returns.daily())\n",
    "\n",
    "%timeit big_returns.vbt.returns.daily()"
   ]
  },
  {
   "cell_type": "code",
   "execution_count": 11,
   "metadata": {},
   "outputs": [
    {
     "name": "stdout",
     "output_type": "stream",
     "text": [
      "2018-01-01    4.0\n",
      "Freq: 252D, Name: a, dtype: float64\n",
      "              a    b             c\n",
      "2018-01-01  4.0 -0.8  2.980232e-08\n",
      "9.1 ms ± 159 µs per loop (mean ± std. dev. of 7 runs, 100 loops each)\n"
     ]
    }
   ],
   "source": [
    "print(returns['a'].vbt.returns.annual())\n",
    "print(returns.vbt.returns.annual())\n",
    "\n",
    "%timeit big_returns.vbt.returns.annual()"
   ]
  },
  {
   "cell_type": "code",
   "execution_count": 12,
   "metadata": {},
   "outputs": [
    {
     "name": "stdout",
     "output_type": "stream",
     "text": [
      "2018-01-01    0.0\n",
      "2018-01-02    1.0\n",
      "2018-01-03    2.0\n",
      "2018-01-04    3.0\n",
      "2018-01-05    4.0\n",
      "Freq: D, dtype: float64\n",
      "The slowest run took 5.25 times longer than the fastest. This could mean that an intermediate result is being cached.\n",
      "4.54 ms ± 2.87 ms per loop (mean ± std. dev. of 7 runs, 100 loops each)\n",
      "2018-01-01    0.0\n",
      "2018-01-02    1.0\n",
      "2018-01-03    2.0\n",
      "2018-01-04    3.0\n",
      "2018-01-05    4.0\n",
      "Freq: D, Name: a, dtype: float64\n",
      "227 µs ± 12.8 µs per loop (mean ± std. dev. of 7 runs, 1000 loops each)\n",
      "              a    b             c\n",
      "2018-01-01  0.0  0.0  0.000000e+00\n",
      "2018-01-02  1.0 -0.2  1.000000e+00\n",
      "2018-01-03  2.0 -0.4  2.000000e+00\n",
      "2018-01-04  3.0 -0.6  1.000000e+00\n",
      "2018-01-05  4.0 -0.8  2.980232e-08\n",
      "              a    b    c\n",
      "2018-01-01  1.0  1.0  1.0\n",
      "2018-01-02  2.0  0.8  2.0\n",
      "2018-01-03  3.0  0.6  3.0\n",
      "2018-01-04  4.0  0.4  2.0\n",
      "2018-01-05  5.0  0.2  1.0\n",
      "              a    b    c\n",
      "2018-01-01  1.0  2.0  3.0\n",
      "2018-01-02  2.0  1.6  6.0\n",
      "2018-01-03  3.0  1.2  9.0\n",
      "2018-01-04  4.0  0.8  6.0\n",
      "2018-01-05  5.0  0.4  3.0\n",
      "15.1 ms ± 2.19 ms per loop (mean ± std. dev. of 7 runs, 100 loops each)\n"
     ]
    }
   ],
   "source": [
    "print(empyrical.cum_returns(returns['a']))\n",
    "%timeit empyrical.cum_returns(big_returns[0])\n",
    "\n",
    "print(returns['a'].vbt.returns.cumulative())\n",
    "%timeit big_returns[0].vbt.returns.cumulative()\n",
    "\n",
    "print(returns.vbt.returns.cumulative())\n",
    "print(returns.vbt.returns.cumulative(start_value=1))\n",
    "print(returns.vbt.returns.cumulative(start_value=[1, 2, 3])) # also accepts array\n",
    "%timeit big_returns.vbt.returns.cumulative()"
   ]
  },
  {
   "cell_type": "code",
   "execution_count": 13,
   "metadata": {},
   "outputs": [
    {
     "name": "stdout",
     "output_type": "stream",
     "text": [
      "4.000000149011612\n",
      "290 µs ± 132 µs per loop (mean ± std. dev. of 7 runs, 1000 loops each)\n",
      "4.000000149011612\n",
      "77.8 µs ± 11.2 µs per loop (mean ± std. dev. of 7 runs, 10000 loops each)\n",
      "a    4.000000e+00\n",
      "b   -8.000000e-01\n",
      "c    2.980232e-08\n",
      "dtype: float64\n",
      "4.92 ms ± 42.4 µs per loop (mean ± std. dev. of 7 runs, 100 loops each)\n"
     ]
    }
   ],
   "source": [
    "print(empyrical.cum_returns_final(returns['a']))\n",
    "%timeit empyrical.cum_returns_final(big_returns[0])\n",
    "\n",
    "print(returns['a'].vbt.returns.total())\n",
    "%timeit big_returns[0].vbt.returns.total()\n",
    "\n",
    "print(returns.vbt.returns.total())\n",
    "%timeit big_returns.vbt.returns.total()"
   ]
  },
  {
   "cell_type": "code",
   "execution_count": 15,
   "metadata": {},
   "outputs": [
    {
     "name": "stdout",
     "output_type": "stream",
     "text": [
      "1.690786886567203e+35\n",
      "233 µs ± 38.6 µs per loop (mean ± std. dev. of 7 runs, 1000 loops each)\n",
      "1.6907868865671834e+35\n",
      "110 µs ± 3.88 µs per loop (mean ± std. dev. of 7 runs, 10000 loops each)\n",
      "a    1.690787e+35\n",
      "b   -1.000000e+00\n",
      "c    1.502038e-06\n",
      "dtype: float64\n",
      "4.92 ms ± 28.5 µs per loop (mean ± std. dev. of 7 runs, 100 loops each)\n"
     ]
    }
   ],
   "source": [
    "print(empyrical.annual_return(returns['a']))\n",
    "%timeit empyrical.annual_return(big_returns[0])\n",
    "\n",
    "print(returns['a'].vbt.returns.annualized())\n",
    "%timeit big_returns[0].vbt.returns.annualized()\n",
    "\n",
    "print(returns.vbt.returns.annualized())\n",
    "%timeit big_returns.vbt.returns.annualized()"
   ]
  },
  {
   "cell_type": "code",
   "execution_count": 16,
   "metadata": {},
   "outputs": [
    {
     "name": "stdout",
     "output_type": "stream",
     "text": [
      "2.121838249438074\n",
      "34.8 µs ± 651 ns per loop (mean ± std. dev. of 7 runs, 10000 loops each)\n",
      "2.121838249438074\n",
      "132 µs ± 2.66 µs per loop (mean ± std. dev. of 7 runs, 10000 loops each)\n",
      "a    2.121838\n",
      "b    0.830587\n",
      "c    4.466341\n",
      "dtype: float64\n",
      "a    84.653704\n",
      "b     2.087463\n",
      "c     4.466341\n",
      "dtype: float64\n",
      "7.32 ms ± 376 µs per loop (mean ± std. dev. of 7 runs, 100 loops each)\n"
     ]
    }
   ],
   "source": [
    "print(empyrical.annual_volatility(returns['a'], alpha=3.))\n",
    "%timeit empyrical.annual_volatility(big_returns[0], alpha=3.)\n",
    "\n",
    "print(returns['a'].vbt.returns.annualized_volatility(levy_alpha=3.))\n",
    "%timeit big_returns[0].vbt.returns.annualized_volatility(levy_alpha=3.)\n",
    "\n",
    "print(returns.vbt.returns.annualized_volatility(levy_alpha=3.))\n",
    "print(returns.vbt.returns.annualized_volatility(levy_alpha=[1, 2, 3]))\n",
    "%timeit big_returns.vbt.returns.annualized_volatility(levy_alpha=3.)"
   ]
  },
  {
   "cell_type": "code",
   "execution_count": 17,
   "metadata": {},
   "outputs": [
    {
     "name": "stdout",
     "output_type": "stream",
     "text": [
      "-1.2500000139698388\n",
      "384 µs ± 39.4 µs per loop (mean ± std. dev. of 7 runs, 1000 loops each)\n",
      "-1.2500000139698388\n",
      "127 µs ± 3.94 µs per loop (mean ± std. dev. of 7 runs, 10000 loops each)\n",
      "a         NaN\n",
      "b   -1.250000\n",
      "c    0.000002\n",
      "dtype: float64\n",
      "16.6 ms ± 2.12 ms per loop (mean ± std. dev. of 7 runs, 100 loops each)\n"
     ]
    }
   ],
   "source": [
    "print(empyrical.calmar_ratio(returns['b']))\n",
    "%timeit empyrical.calmar_ratio(big_returns[0])\n",
    "\n",
    "print(returns['b'].vbt.returns.calmar_ratio())\n",
    "%timeit big_returns[0].vbt.returns.calmar_ratio()\n",
    "\n",
    "print(returns.vbt.returns.calmar_ratio())\n",
    "%timeit big_returns.vbt.returns.calmar_ratio()"
   ]
  },
  {
   "cell_type": "code",
   "execution_count": 18,
   "metadata": {},
   "outputs": [
    {
     "name": "stdout",
     "output_type": "stream",
     "text": [
      "1.7319528661672228\n",
      "1.26 ms ± 124 µs per loop (mean ± std. dev. of 7 runs, 1000 loops each)\n",
      "1.7319528661672228\n",
      "173 µs ± 9.39 µs per loop (mean ± std. dev. of 7 runs, 10000 loops each)\n",
      "a         inf\n",
      "b    0.000000\n",
      "c    1.731953\n",
      "dtype: float64\n",
      "a        inf\n",
      "b    0.00000\n",
      "c    1.60973\n",
      "dtype: float64\n",
      "a         inf\n",
      "b    0.000000\n",
      "c    1.727716\n",
      "dtype: float64\n",
      "16.2 ms ± 4.39 ms per loop (mean ± std. dev. of 7 runs, 100 loops each)\n"
     ]
    }
   ],
   "source": [
    "print(empyrical.omega_ratio(returns['c'], risk_free=0.01, required_return=0.1))\n",
    "%timeit empyrical.omega_ratio(big_returns[0], risk_free=0.01, required_return=0.1)\n",
    "\n",
    "print(returns['c'].vbt.returns.omega_ratio(risk_free=0.01, required_return=0.1))\n",
    "%timeit big_returns[0].vbt.returns.omega_ratio(risk_free=0.01, required_return=0.1)\n",
    "\n",
    "print(returns.vbt.returns.omega_ratio(risk_free=0.01, required_return=0.1))\n",
    "print(returns.vbt.returns.omega_ratio(risk_free=[0.01, 0.02, 0.03], required_return=0.1))\n",
    "print(returns.vbt.returns.omega_ratio(risk_free=0.01, required_return=[0.1, 0.2, 0.3]))\n",
    "%timeit big_returns.vbt.returns.omega_ratio(risk_free=0.01, required_return=0.1)"
   ]
  },
  {
   "cell_type": "code",
   "execution_count": 19,
   "metadata": {},
   "outputs": [
    {
     "name": "stdout",
     "output_type": "stream",
     "text": [
      "24.139822936194918\n",
      "271 µs ± 13.8 µs per loop (mean ± std. dev. of 7 runs, 1000 loops each)\n",
      "24.139822936194918\n",
      "215 µs ± 47.6 µs per loop (mean ± std. dev. of 7 runs, 10000 loops each)\n",
      "a    24.139823\n",
      "b   -39.938439\n",
      "c     3.517158\n",
      "dtype: float64\n",
      "a    24.139823\n",
      "b   -41.145646\n",
      "c     3.068159\n",
      "dtype: float64\n",
      "9.56 ms ± 344 µs per loop (mean ± std. dev. of 7 runs, 100 loops each)\n"
     ]
    }
   ],
   "source": [
    "print(empyrical.sharpe_ratio(returns['a'], risk_free=0.01))\n",
    "%timeit empyrical.sharpe_ratio(big_returns[0], risk_free=0.01)\n",
    "\n",
    "print(returns['a'].vbt.returns.sharpe_ratio(risk_free=0.01))\n",
    "%timeit big_returns[0].vbt.returns.sharpe_ratio(risk_free=0.01)\n",
    "\n",
    "print(returns.vbt.returns.sharpe_ratio(risk_free=0.01))\n",
    "print(returns.vbt.returns.sharpe_ratio(risk_free=[0.01, 0.02, 0.03]))\n",
    "%timeit big_returns.vbt.returns.sharpe_ratio(risk_free=0.01)"
   ]
  },
  {
   "cell_type": "code",
   "execution_count": 20,
   "metadata": {},
   "outputs": [
    {
     "name": "stdout",
     "output_type": "stream",
     "text": [
      "a         NaN\n",
      "b         NaN\n",
      "c    0.004879\n",
      "dtype: float64\n",
      "a         NaN\n",
      "b         NaN\n",
      "c    0.003749\n",
      "dtype: float64\n"
     ]
    },
    {
     "name": "stderr",
     "output_type": "stream",
     "text": [
      "/Users/olegpolakow/Documents/SourceTree/vectorbt/vectorbt/returns/metrics.py:18: RuntimeWarning: invalid value encountered in sqrt\n",
      "  np.sqrt(1 - skew * est_sharpe + ((kurtosis - 1) / 4) * est_sharpe ** 2))\n",
      "/Users/olegpolakow/miniconda3/lib/python3.7/site-packages/scipy/stats/_distn_infrastructure.py:901: RuntimeWarning: invalid value encountered in greater\n",
      "  return (a < x) & (x < b)\n",
      "/Users/olegpolakow/miniconda3/lib/python3.7/site-packages/scipy/stats/_distn_infrastructure.py:901: RuntimeWarning: invalid value encountered in less\n",
      "  return (a < x) & (x < b)\n",
      "/Users/olegpolakow/miniconda3/lib/python3.7/site-packages/scipy/stats/_distn_infrastructure.py:1807: RuntimeWarning: invalid value encountered in greater_equal\n",
      "  cond2 = (x >= _b) & cond0\n"
     ]
    },
    {
     "name": "stdout",
     "output_type": "stream",
     "text": [
      "61.3 ms ± 6.99 ms per loop (mean ± std. dev. of 7 runs, 10 loops each)\n",
      "1.0\n"
     ]
    }
   ],
   "source": [
    "print(returns.vbt.returns.deflated_sharpe_ratio(risk_free=0.01))\n",
    "print(returns.vbt.returns.deflated_sharpe_ratio(risk_free=[0.01, 0.02, 0.03]))\n",
    "%timeit big_returns.vbt.returns.deflated_sharpe_ratio(risk_free=0.01)\n",
    "\n",
    "# can specify var_sharpe and nb_trials expclicitly\n",
    "print(big_returns[0].vbt.returns.deflated_sharpe_ratio(\n",
    "    risk_free=0.01, \n",
    "    var_sharpe=np.var(big_returns.vbt.returns.sharpe_ratio(risk_free=0.01)),\n",
    "    nb_trials=big_returns.shape[1]\n",
    "))"
   ]
  },
  {
   "cell_type": "code",
   "execution_count": 21,
   "metadata": {},
   "outputs": [
    {
     "name": "stdout",
     "output_type": "stream",
     "text": [
      "6.920801865722236\n",
      "111 µs ± 28.8 µs per loop (mean ± std. dev. of 7 runs, 10000 loops each)\n",
      "6.920801865722236\n",
      "446 µs ± 156 µs per loop (mean ± std. dev. of 7 runs, 1000 loops each)\n",
      "a    0.000000\n",
      "b    6.920802\n",
      "c    5.874521\n",
      "dtype: float64\n",
      "a    0.000000\n",
      "b    8.463303\n",
      "c    8.098765\n",
      "dtype: float64\n",
      "12.4 ms ± 2.41 ms per loop (mean ± std. dev. of 7 runs, 100 loops each)\n"
     ]
    }
   ],
   "source": [
    "print(empyrical.downside_risk(returns['b'], required_return=0.1))\n",
    "%timeit empyrical.downside_risk(big_returns[0], required_return=0.1)\n",
    "\n",
    "print(returns['b'].vbt.returns.downside_risk(required_return=0.1))\n",
    "%timeit big_returns[0].vbt.returns.downside_risk(required_return=0.1)\n",
    "\n",
    "print(returns.vbt.returns.downside_risk(required_return=0.1))\n",
    "print(returns.vbt.returns.downside_risk(required_return=[0.1, 0.2, 0.3]))\n",
    "%timeit big_returns.vbt.returns.downside_risk(required_return=0.1)"
   ]
  },
  {
   "cell_type": "code",
   "execution_count": 22,
   "metadata": {},
   "outputs": [
    {
     "name": "stdout",
     "output_type": "stream",
     "text": [
      "-15.32336860018125\n",
      "422 µs ± 144 µs per loop (mean ± std. dev. of 7 runs, 1000 loops each)\n",
      "-15.32336860018125\n",
      "145 µs ± 7.38 µs per loop (mean ± std. dev. of 7 runs, 10000 loops each)\n",
      "a          inf\n",
      "b   -15.323369\n",
      "c     2.859808\n",
      "dtype: float64\n",
      "a          inf\n",
      "b   -15.508129\n",
      "c    -4.148780\n",
      "dtype: float64\n",
      "13.1 ms ± 1.37 ms per loop (mean ± std. dev. of 7 runs, 100 loops each)\n"
     ]
    }
   ],
   "source": [
    "print(empyrical.sortino_ratio(returns['b'], required_return=0.1))\n",
    "%timeit empyrical.sortino_ratio(big_returns[0], required_return=0.1)\n",
    "\n",
    "print(returns['b'].vbt.returns.sortino_ratio(required_return=0.1))\n",
    "%timeit big_returns[0].vbt.returns.sortino_ratio(required_return=0.1)\n",
    "\n",
    "print(returns.vbt.returns.sortino_ratio(required_return=0.1))\n",
    "print(returns.vbt.returns.sortino_ratio(required_return=[0.1, 0.2, 0.3]))\n",
    "%timeit big_returns.vbt.returns.sortino_ratio(required_return=0.1)"
   ]
  },
  {
   "cell_type": "code",
   "execution_count": 23,
   "metadata": {},
   "outputs": [
    {
     "name": "stdout",
     "output_type": "stream",
     "text": [
      "-0.5575108270794908\n",
      "719 µs ± 47.9 µs per loop (mean ± std. dev. of 7 runs, 1000 loops each)\n",
      "-0.5575108270794908\n",
      "138 µs ± 5.44 µs per loop (mean ± std. dev. of 7 runs, 10000 loops each)\n",
      "a   -0.557511\n",
      "b   -2.718676\n",
      "c   -1.185416\n",
      "dtype: float64\n",
      "9.27 ms ± 368 µs per loop (mean ± std. dev. of 7 runs, 100 loops each)\n"
     ]
    }
   ],
   "source": [
    "print(empyrical.excess_sharpe(returns['a'], benchmark_rets))\n",
    "%timeit empyrical.excess_sharpe(big_returns[0], benchmark_rets)\n",
    "\n",
    "print(returns['a'].vbt.returns.information_ratio(benchmark_rets)) # will broadcast\n",
    "%timeit big_returns[0].vbt.returns.information_ratio(big_benchmark_rets)\n",
    "\n",
    "print(returns.vbt.returns.information_ratio(benchmark_rets))\n",
    "%timeit big_returns.vbt.returns.information_ratio(big_benchmark_rets)"
   ]
  },
  {
   "cell_type": "code",
   "execution_count": 24,
   "metadata": {},
   "outputs": [
    {
     "name": "stdout",
     "output_type": "stream",
     "text": [
      "0.7853755820643185\n"
     ]
    },
    {
     "name": "stderr",
     "output_type": "stream",
     "text": [
      "/Users/olegpolakow/miniconda3/lib/python3.7/site-packages/empyrical/stats.py:1384: FutureWarning: Support for multi-dimensional indexing (e.g. `obj[:, None]`) is deprecated and will be removed in a future version.  Convert to a numpy array before indexing instead.\n",
      "  returns = returns[:, np.newaxis]\n",
      "/Users/olegpolakow/miniconda3/lib/python3.7/site-packages/empyrical/stats.py:1387: FutureWarning: Support for multi-dimensional indexing (e.g. `obj[:, None]`) is deprecated and will be removed in a future version.  Convert to a numpy array before indexing instead.\n",
      "  factor_returns = factor_returns[:, np.newaxis]\n"
     ]
    },
    {
     "name": "stdout",
     "output_type": "stream",
     "text": [
      "2.07 ms ± 246 µs per loop (mean ± std. dev. of 7 runs, 1000 loops each)\n",
      "0.7853755820643185\n",
      "143 µs ± 7.3 µs per loop (mean ± std. dev. of 7 runs, 10000 loops each)\n",
      "a    0.785376\n",
      "b    0.252235\n",
      "c    1.547239\n",
      "dtype: float64\n",
      "14.1 ms ± 2.23 ms per loop (mean ± std. dev. of 7 runs, 100 loops each)\n"
     ]
    }
   ],
   "source": [
    "print(empyrical.beta(returns['a'], benchmark_rets))\n",
    "%timeit empyrical.beta(big_returns[0], benchmark_rets)\n",
    "\n",
    "print(returns['a'].vbt.returns.beta(benchmark_rets))\n",
    "%timeit big_returns[0].vbt.returns.beta(big_benchmark_rets)\n",
    "\n",
    "print(returns.vbt.returns.beta(benchmark_rets))\n",
    "%timeit big_returns.vbt.returns.beta(big_benchmark_rets)"
   ]
  },
  {
   "cell_type": "code",
   "execution_count": 25,
   "metadata": {},
   "outputs": [
    {
     "name": "stdout",
     "output_type": "stream",
     "text": [
      "21533608.259557564\n",
      "2.55 ms ± 177 µs per loop (mean ± std. dev. of 7 runs, 100 loops each)\n",
      "21533608.259557564\n",
      "227 µs ± 14.8 µs per loop (mean ± std. dev. of 7 runs, 1000 loops each)\n",
      "a    2.153361e+07\n",
      "b   -1.000000e+00\n",
      "c   -1.000000e+00\n",
      "dtype: float64\n",
      "a    2.153361e+07\n",
      "b   -1.000000e+00\n",
      "c   -1.000000e+00\n",
      "dtype: float64\n",
      "16.6 ms ± 1.03 ms per loop (mean ± std. dev. of 7 runs, 100 loops each)\n"
     ]
    }
   ],
   "source": [
    "print(empyrical.alpha(returns['a'], benchmark_rets, risk_free=0.01))\n",
    "%timeit empyrical.alpha(big_returns[0], benchmark_rets, risk_free=0.01)\n",
    "\n",
    "print(returns['a'].vbt.returns.alpha(benchmark_rets, risk_free=0.01))\n",
    "%timeit big_returns[0].vbt.returns.alpha(big_benchmark_rets, risk_free=0.01)\n",
    "\n",
    "print(returns.vbt.returns.alpha(benchmark_rets, risk_free=0.01))\n",
    "print(returns.vbt.returns.alpha(benchmark_rets, risk_free=[0.01, 0.02, 0.03]))\n",
    "%timeit big_returns.vbt.returns.alpha(big_benchmark_rets, risk_free=0.01)"
   ]
  },
  {
   "cell_type": "code",
   "execution_count": 26,
   "metadata": {},
   "outputs": [
    {
     "name": "stdout",
     "output_type": "stream",
     "text": [
      "3.5238094437960337\n",
      "333 µs ± 35 µs per loop (mean ± std. dev. of 7 runs, 1000 loops each)\n",
      "3.5238094437960337\n",
      "78.7 µs ± 4.63 µs per loop (mean ± std. dev. of 7 runs, 10000 loops each)\n",
      "a    3.523809\n",
      "b    0.436842\n",
      "c    1.947368\n",
      "dtype: float64\n",
      "41.5 ms ± 8.82 ms per loop (mean ± std. dev. of 7 runs, 10 loops each)\n"
     ]
    }
   ],
   "source": [
    "print(empyrical.tail_ratio(returns['a']))\n",
    "%timeit empyrical.tail_ratio(big_returns[0])\n",
    "\n",
    "print(returns['a'].vbt.returns.tail_ratio())\n",
    "%timeit big_returns[0].vbt.returns.tail_ratio()\n",
    "\n",
    "print(returns.vbt.returns.tail_ratio())\n",
    "%timeit big_returns.vbt.returns.tail_ratio()"
   ]
  },
  {
   "cell_type": "code",
   "execution_count": 27,
   "metadata": {},
   "outputs": [
    {
     "name": "stdout",
     "output_type": "stream",
     "text": [
      "0.26250000596046447\n",
      "141 µs ± 1.74 µs per loop (mean ± std. dev. of 7 runs, 10000 loops each)\n",
      "0.26250000596046447\n",
      "71 µs ± 540 ns per loop (mean ± std. dev. of 7 runs, 10000 loops each)\n",
      "a    0.2625\n",
      "b   -0.4750\n",
      "c   -0.4750\n",
      "dtype: float64\n",
      "a    0.2625\n",
      "b   -0.4700\n",
      "c   -0.4650\n",
      "dtype: float64\n",
      "20.4 ms ± 1.22 ms per loop (mean ± std. dev. of 7 runs, 100 loops each)\n"
     ]
    }
   ],
   "source": [
    "print(empyrical.value_at_risk(returns.iloc[1:]['a'], cutoff=0.05))\n",
    "%timeit empyrical.value_at_risk(big_returns[0], cutoff=0.05)\n",
    "\n",
    "print(returns['a'].vbt.returns.value_at_risk(cutoff=0.05))\n",
    "%timeit big_returns[0].vbt.returns.value_at_risk(cutoff=0.05)\n",
    "\n",
    "print(returns.vbt.returns.value_at_risk(cutoff=0.05))\n",
    "print(returns.vbt.returns.value_at_risk(cutoff=[0.05, 0.06, 0.07]))\n",
    "%timeit big_returns.vbt.returns.value_at_risk(cutoff=0.05)"
   ]
  },
  {
   "cell_type": "code",
   "execution_count": 28,
   "metadata": {},
   "outputs": [
    {
     "name": "stdout",
     "output_type": "stream",
     "text": [
      "0.25\n",
      "48.2 µs ± 3.21 µs per loop (mean ± std. dev. of 7 runs, 10000 loops each)\n",
      "0.25\n",
      "69.8 µs ± 2.66 µs per loop (mean ± std. dev. of 7 runs, 10000 loops each)\n",
      "a    0.25\n",
      "b   -0.50\n",
      "c   -0.50\n",
      "dtype: float64\n",
      "a    0.25\n",
      "b   -0.50\n",
      "c   -0.50\n",
      "dtype: float64\n",
      "17.8 ms ± 967 µs per loop (mean ± std. dev. of 7 runs, 100 loops each)\n"
     ]
    }
   ],
   "source": [
    "print(empyrical.conditional_value_at_risk(returns.iloc[1:]['a'], cutoff=0.05))\n",
    "%timeit empyrical.conditional_value_at_risk(big_returns[0], cutoff=0.05)\n",
    "\n",
    "print(returns['a'].vbt.returns.conditional_value_at_risk(cutoff=0.05))\n",
    "%timeit big_returns[0].vbt.returns.conditional_value_at_risk(cutoff=0.05)\n",
    "\n",
    "print(returns.vbt.returns.conditional_value_at_risk(cutoff=0.05))\n",
    "print(returns.vbt.returns.conditional_value_at_risk(cutoff=[0.05, 0.06, 0.07]))\n",
    "%timeit big_returns.vbt.returns.conditional_value_at_risk(cutoff=0.05)"
   ]
  },
  {
   "cell_type": "code",
   "execution_count": 29,
   "metadata": {},
   "outputs": [
    {
     "name": "stdout",
     "output_type": "stream",
     "text": [
      "0.00691706997447195\n",
      "410 µs ± 6.52 µs per loop (mean ± std. dev. of 7 runs, 1000 loops each)\n",
      "0.006917069974471952\n",
      "193 µs ± 6.97 µs per loop (mean ± std. dev. of 7 runs, 1000 loops each)\n",
      "a    6.917070e-03\n",
      "b   -4.091036e-38\n",
      "c    6.144892e-44\n",
      "dtype: float64\n",
      "7.93 ms ± 172 µs per loop (mean ± std. dev. of 7 runs, 100 loops each)\n"
     ]
    }
   ],
   "source": [
    "print(empyrical.capture(returns['a'], benchmark_rets))\n",
    "%timeit empyrical.capture(big_returns[0], big_benchmark_rets)\n",
    "\n",
    "print(returns['a'].vbt.returns.capture(benchmark_rets))\n",
    "%timeit big_returns[0].vbt.returns.capture(big_benchmark_rets)\n",
    "\n",
    "print(returns.vbt.returns.capture(benchmark_rets))\n",
    "%timeit big_returns.vbt.returns.capture(big_benchmark_rets)"
   ]
  },
  {
   "cell_type": "code",
   "execution_count": 30,
   "metadata": {},
   "outputs": [
    {
     "name": "stdout",
     "output_type": "stream",
     "text": [
      "0.0019948153957327634\n",
      "1.12 ms ± 6.39 µs per loop (mean ± std. dev. of 7 runs, 1000 loops each)\n",
      "0.0019948153957327634\n",
      "235 µs ± 40.3 µs per loop (mean ± std. dev. of 7 runs, 10000 loops each)\n",
      "a    1.994815e-03\n",
      "b   -1.839889e-47\n",
      "c    3.454480e-53\n",
      "dtype: float64\n",
      "6.89 ms ± 46.8 µs per loop (mean ± std. dev. of 7 runs, 100 loops each)\n"
     ]
    }
   ],
   "source": [
    "print(empyrical.up_capture(returns['a'], benchmark_rets))\n",
    "%timeit empyrical.up_capture(big_returns[0], big_benchmark_rets)\n",
    "\n",
    "print(returns['a'].vbt.returns.up_capture(benchmark_rets))\n",
    "%timeit big_returns[0].vbt.returns.up_capture(big_benchmark_rets)\n",
    "\n",
    "print(returns.vbt.returns.up_capture(benchmark_rets))\n",
    "%timeit big_returns.vbt.returns.up_capture(big_benchmark_rets)"
   ]
  },
  {
   "cell_type": "code",
   "execution_count": 31,
   "metadata": {},
   "outputs": [
    {
     "name": "stdout",
     "output_type": "stream",
     "text": [
      "nan\n",
      "1.24 ms ± 79.8 µs per loop (mean ± std. dev. of 7 runs, 1000 loops each)\n",
      "nan\n",
      "242 µs ± 43.6 µs per loop (mean ± std. dev. of 7 runs, 1000 loops each)\n",
      "a   NaN\n",
      "b   NaN\n",
      "c   NaN\n",
      "dtype: float64\n",
      "8.18 ms ± 471 µs per loop (mean ± std. dev. of 7 runs, 100 loops each)\n"
     ]
    }
   ],
   "source": [
    "print(empyrical.down_capture(returns['a'], benchmark_rets))\n",
    "%timeit empyrical.down_capture(big_returns[0], big_benchmark_rets)\n",
    "\n",
    "print(returns['a'].vbt.returns.down_capture(benchmark_rets))\n",
    "%timeit big_returns[0].vbt.returns.down_capture(big_benchmark_rets)\n",
    "\n",
    "print(returns.vbt.returns.down_capture(benchmark_rets))\n",
    "%timeit big_returns.vbt.returns.down_capture(big_benchmark_rets)"
   ]
  },
  {
   "cell_type": "code",
   "execution_count": 32,
   "metadata": {},
   "outputs": [
    {
     "name": "stdout",
     "output_type": "stream",
     "text": [
      "              a    b         c\n",
      "2018-01-01  0.0  0.0  0.000000\n",
      "2018-01-02  0.0 -0.2  0.000000\n",
      "2018-01-03  0.0 -0.4  0.000000\n",
      "2018-01-04  0.0 -0.6 -0.333333\n",
      "2018-01-05  0.0 -0.8 -0.666667\n",
      "18.4 ms ± 3.03 ms per loop (mean ± std. dev. of 7 runs, 100 loops each)\n"
     ]
    }
   ],
   "source": [
    "print(returns.vbt.returns.drawdown())\n",
    "\n",
    "%timeit big_returns.vbt.returns.drawdown()"
   ]
  },
  {
   "cell_type": "code",
   "execution_count": 33,
   "metadata": {},
   "outputs": [
    {
     "name": "stdout",
     "output_type": "stream",
     "text": [
      "-0.7999999910593033\n",
      "122 µs ± 35.3 µs per loop (mean ± std. dev. of 7 runs, 10000 loops each)\n",
      "-0.7999999910593032\n",
      "75.1 µs ± 6.94 µs per loop (mean ± std. dev. of 7 runs, 10000 loops each)\n",
      "a    0.000000\n",
      "b   -0.800000\n",
      "c   -0.666667\n",
      "dtype: float64\n",
      "13.1 ms ± 1.25 ms per loop (mean ± std. dev. of 7 runs, 100 loops each)\n"
     ]
    }
   ],
   "source": [
    "print(empyrical.max_drawdown(returns['b']))\n",
    "%timeit empyrical.max_drawdown(big_returns[0])\n",
    "\n",
    "print(returns['b'].vbt.returns.max_drawdown())\n",
    "%timeit big_returns[0].vbt.returns.max_drawdown()\n",
    "\n",
    "print(returns.vbt.returns.max_drawdown())\n",
    "%timeit big_returns.vbt.returns.max_drawdown()"
   ]
  },
  {
   "cell_type": "code",
   "execution_count": 34,
   "metadata": {},
   "outputs": [
    {
     "name": "stdout",
     "output_type": "stream",
     "text": [
      "<vectorbt.generic.drawdowns.Drawdowns object at 0x7f95d6e3fc18>\n",
      "18.1 ms ± 626 µs per loop (mean ± std. dev. of 7 runs, 10 loops each)\n",
      "a    0.000000\n",
      "b   -0.800000\n",
      "c   -0.666667\n",
      "dtype: float64\n"
     ]
    }
   ],
   "source": [
    "print(returns.vbt.returns.drawdowns())\n",
    "%timeit big_returns.vbt.returns.drawdowns()\n",
    "\n",
    "print(returns.vbt.returns.drawdowns().max_drawdown())"
   ]
  },
  {
   "cell_type": "code",
   "execution_count": 35,
   "metadata": {},
   "outputs": [
    {
     "name": "stdout",
     "output_type": "stream",
     "text": [
      "Start                    2018-01-01 00:00:00\n",
      "End                      2018-01-05 00:00:00\n",
      "Duration                     5 days 00:00:00\n",
      "Total Return [%]                         -80\n",
      "Benchmark Return [%]                  451.86\n",
      "Annual Return [%]                       -100\n",
      "Annual Volatility [%]                83.0587\n",
      "Sharpe Ratio                        -39.9384\n",
      "Calmar Ratio                           -1.25\n",
      "Max. Drawdown [%]                        -80\n",
      "Omega Ratio                                0\n",
      "Sortino Ratio                       -15.3234\n",
      "Skew                                -1.06537\n",
      "Kurtosis                            0.645216\n",
      "Tail Ratio                          0.436842\n",
      "Common Sense Ratio                         0\n",
      "Value at Risk                         -0.475\n",
      "Alpha                                     -1\n",
      "Beta                                0.252235\n",
      "Name: b, dtype: object\n",
      "5.95 ms ± 533 µs per loop (mean ± std. dev. of 7 runs, 100 loops each)\n",
      "       Start        End Duration  Total Return [%]  Benchmark Return [%]  \\\n",
      "a 2018-01-01 2018-01-05   5 days        400.000015             451.85973   \n",
      "b 2018-01-01 2018-01-05   5 days        -79.999999             451.85973   \n",
      "c 2018-01-01 2018-01-05   5 days          0.000003             451.85973   \n",
      "\n",
      "   Annual Return [%]  Annual Volatility [%]  Sharpe Ratio  Calmar Ratio  \\\n",
      "a       1.690787e+37             212.183825     24.139823           NaN   \n",
      "b      -1.000000e+02              83.058730    -39.938439     -1.250000   \n",
      "c       1.502038e-04             446.634067      3.517158      0.000002   \n",
      "\n",
      "   Max. Drawdown [%]  Omega Ratio  Sortino Ratio      Skew  Kurtosis  \\\n",
      "a           0.000000          inf            inf  1.469335  2.030769   \n",
      "b         -79.999999      0.00000     -15.323369 -1.065369  0.645216   \n",
      "c         -66.666666      1.79746       2.859808  0.366648 -3.438272   \n",
      "\n",
      "   Tail Ratio  Common Sense Ratio  Value at Risk         Alpha      Beta  \n",
      "a    3.523809        5.958011e+35         0.2625  2.153361e+07  0.785376  \n",
      "b    0.436842        0.000000e+00        -0.4750 -1.000000e+00  0.252235  \n",
      "c    1.947368        1.947371e+00        -0.4750 -1.000000e+00  1.547239  \n",
      "246 ms ± 13.3 ms per loop (mean ± std. dev. of 7 runs, 1 loop each)\n"
     ]
    }
   ],
   "source": [
    "print(returns['b'].vbt.returns.stats(benchmark_rets, levy_alpha=3., risk_free=0.01, required_return=0.1))\n",
    "%timeit big_returns[0].vbt.returns.stats(big_benchmark_rets, levy_alpha=3., risk_free=0.01, required_return=0.1)\n",
    "\n",
    "print(returns.vbt.returns.stats(benchmark_rets, levy_alpha=3., risk_free=0.01, required_return=0.1))\n",
    "%timeit big_returns.vbt.returns.stats(big_benchmark_rets, levy_alpha=3., risk_free=0.01, required_return=0.1)"
   ]
  },
  {
   "cell_type": "code",
   "execution_count": 36,
   "metadata": {},
   "outputs": [
    {
     "data": {
      "image/png": "[encoded data removed]"
     },
     "metadata": {},
     "output_type": "display_data"
    }
   ],
   "source": [
    "returns['a'].vbt.returns.plot_cum_returns(benchmark_rets).show_png()"
   ]
  },
  {
   "cell_type": "code",
   "execution_count": 37,
   "metadata": {},
   "outputs": [
    {
     "data": {
      "image/png": "[encoded data removed]"
     },
     "metadata": {},
     "output_type": "display_data"
    }
   ],
   "source": [
    "returns['a'].vbt.returns.plot_cum_returns(benchmark_rets, fill_to_benchmark=True).show_png()"
   ]
  },
  {
   "cell_type": "code",
   "execution_count": null,
   "metadata": {},
   "outputs": [],
   "source": []
  }
 ],
 "metadata": {
  "kernelspec": {
   "display_name": "Python 3",
   "language": "python",
   "name": "python3"
  },
  "language_info": {
   "codemirror_mode": {
    "name": "ipython",
    "version": 3
   },
   "file_extension": ".py",
   "mimetype": "text/x-python",
   "name": "python",
   "nbconvert_exporter": "python",
   "pygments_lexer": "ipython3",
   "version": "3.7.3"
  },
  "widgets": {
   "application/vnd.jupyter.widget-state+json": {
    "state": {
     "7ba6f03277e9477ba8d7465f8b1f6a2a": {
      "buffers": [
       {
        "data": "AAAAAAAA8D+iyBKkOXEBQGwMkM4E+QpAq+hJDMMoEkCLtegrCxMWQA==",
        "encoding": "base64",
        "path": [
         "_data",
         0,
         "y",
         "value"
        ]
       },
       {
        "data": "AAAAAAAA8D+iyBKkOXEBQGwMkM4E+QpAq+hJDMMoEkCLtegrCxMWQA==",
        "encoding": "base64",
        "path": [
         "_data",
         1,
         "y",
         "value"
        ]
       },
       {
        "data": "AAAAAAAA8D8AAAAAAAAAQAAAAAAAAAhAAAAACAAAEEAAAAAKAAAUQA==",
        "encoding": "base64",
        "path": [
         "_data",
         2,
         "y",
         "value"
        ]
       },
       {
        "data": "AAAAAAAA8D8AAAAAAAAAQAAAAAAAAAhAAAAACAAAEEAAAAAKAAAUQA==",
        "encoding": "base64",
        "path": [
         "_data",
         3,
         "y",
         "value"
        ]
       },
       {
        "data": "AAAAAAAA8D+iyBKkOXEBQGwMkM4E+QpAq+hJDMMoEkCLtegrCxMWQA==",
        "encoding": "base64",
        "path": [
         "_data",
         4,
         "y",
         "value"
        ]
       }
      ],
      "model_module": "plotlywidget",
      "model_module_version": "^4.12.0",
      "model_name": "FigureModel",
      "state": {
       "_config": {
        "plotlyServerURL": "https://plot.ly"
       },
       "_data": [
        {
         "line": {
          "color": "#7f7f7f"
         },
         "mode": "lines",
         "name": "Benchmark",
         "showlegend": true,
         "type": "scatter",
         "uid": "eecba1d6-02fe-440a-8238-e8f041e064d2",
         "x": [
          "2018-01-01T00:00:00.000000",
          "2018-01-02T00:00:00.000000",
          "2018-01-03T00:00:00.000000",
          "2018-01-04T00:00:00.000000",
          "2018-01-05T00:00:00.000000"
         ],
         "y": {
          "dtype": "float64",
          "shape": [
           5
          ]
         }
        },
        {
         "hoverinfo": "skip",
         "line": {
          "color": "rgba(0, 0, 0, 0)",
          "width": 0
         },
         "mode": "lines",
         "opacity": 0,
         "showlegend": false,
         "type": "scatter",
         "uid": "2af79b5b-e1d1-4925-aae4-fc753644df14",
         "x": [
          "2018-01-01T00:00:00.000000",
          "2018-01-02T00:00:00.000000",
          "2018-01-03T00:00:00.000000",
          "2018-01-04T00:00:00.000000",
          "2018-01-05T00:00:00.000000"
         ],
         "y": {
          "dtype": "float64",
          "shape": [
           5
          ]
         }
        },
        {
         "connectgaps": false,
         "fill": "tonexty",
         "fillcolor": "rgba(255, 0, 0, 0.3)",
         "hoverinfo": "skip",
         "line": {
          "color": "rgba(0, 0, 0, 0)",
          "width": 0
         },
         "mode": "lines",
         "opacity": 0,
         "showlegend": false,
         "type": "scatter",
         "uid": "567d34f9-3bee-4e02-af64-fa5e275c18a6",
         "x": [
          "2018-01-01T00:00:00.000000",
          "2018-01-02T00:00:00.000000",
          "2018-01-03T00:00:00.000000",
          "2018-01-04T00:00:00.000000",
          "2018-01-05T00:00:00.000000"
         ],
         "y": {
          "dtype": "float64",
          "shape": [
           5
          ]
         }
        },
        {
         "line": {
          "color": "#9467bd"
         },
         "mode": "lines",
         "name": "a",
         "showlegend": true,
         "type": "scatter",
         "uid": "5036b605-273e-4bd0-ae91-ff42338542cc",
         "x": [
          "2018-01-01T00:00:00.000000",
          "2018-01-02T00:00:00.000000",
          "2018-01-03T00:00:00.000000",
          "2018-01-04T00:00:00.000000",
          "2018-01-05T00:00:00.000000"
         ],
         "y": {
          "dtype": "float64",
          "shape": [
           5
          ]
         }
        },
        {
         "hoverinfo": "skip",
         "line": {
          "color": "rgba(0, 0, 0, 0)",
          "width": 0
         },
         "mode": "lines",
         "opacity": 0,
         "showlegend": false,
         "type": "scatter",
         "uid": "28f180ef-21a9-4b76-85bd-386818914085",
         "x": [
          "2018-01-01T00:00:00.000000",
          "2018-01-02T00:00:00.000000",
          "2018-01-03T00:00:00.000000",
          "2018-01-04T00:00:00.000000",
          "2018-01-05T00:00:00.000000"
         ],
         "y": {
          "dtype": "float64",
          "shape": [
           5
          ]
         }
        }
       ],
       "_js2py_layoutDelta": {},
       "_js2py_pointsCallback": {},
       "_js2py_relayout": {},
       "_js2py_restyle": {},
       "_js2py_traceDeltas": {},
       "_js2py_update": {},
       "_last_layout_edit_id": 8,
       "_last_trace_edit_id": 7,
       "_layout": {
        "autosize": false,
        "colorway": [
         "#1f77b4",
         "#ff7f0e",
         "#2ca02c",
         "#dc3912",
         "#9467bd",
         "#8c564b",
         "#e377c2",
         "#7f7f7f",
         "#bcbd22",
         "#17becf"
        ],
        "height": 350,
        "hovermode": "closest",
        "legend": {
         "orientation": "h",
         "x": 1,
         "xanchor": "right",
         "y": 1.02,
         "yanchor": "bottom"
        },
        "margin": {
         "b": 30,
         "l": 30,
         "r": 30,
         "t": 30
        },
        "shapes": [
         {
          "line": {
           "color": "gray",
           "dash": "dashdot"
          },
          "x0": 0,
          "x1": 1,
          "xref": "paper",
          "y0": 1,
          "y1": 1,
          "yref": "y"
         }
        ],
        "template": {
         "data": {
          "bar": [
           {
            "error_x": {
             "color": "#2a3f5f"
            },
            "error_y": {
             "color": "#2a3f5f"
            },
            "marker": {
             "line": {
              "color": "#E5ECF6",
              "width": 0.5
             }
            },
            "type": "bar"
           }
          ],
          "barpolar": [
           {
            "marker": {
             "line": {
              "color": "#E5ECF6",
              "width": 0.5
             }
            },
            "type": "barpolar"
           }
          ],
          "carpet": [
           {
            "aaxis": {
             "endlinecolor": "#2a3f5f",
             "gridcolor": "white",
             "linecolor": "white",
             "minorgridcolor": "white",
             "startlinecolor": "#2a3f5f"
            },
            "baxis": {
             "endlinecolor": "#2a3f5f",
             "gridcolor": "white",
             "linecolor": "white",
             "minorgridcolor": "white",
             "startlinecolor": "#2a3f5f"
            },
            "type": "carpet"
           }
          ],
          "choropleth": [
           {
            "colorbar": {
             "outlinewidth": 0,
             "ticks": ""
            },
            "type": "choropleth"
           }
          ],
          "contour": [
           {
            "colorbar": {
             "outlinewidth": 0,
             "ticks": ""
            },
            "colorscale": [
             [
              0,
              "#0d0887"
             ],
             [
              0.1111111111111111,
              "#46039f"
             ],
             [
              0.2222222222222222,
              "#7201a8"
             ],
             [
              0.3333333333333333,
              "#9c179e"
             ],
             [
              0.4444444444444444,
              "#bd3786"
             ],
             [
              0.5555555555555556,
              "#d8576b"
             ],
             [
              0.6666666666666666,
              "#ed7953"
             ],
             [
              0.7777777777777778,
              "#fb9f3a"
             ],
             [
              0.8888888888888888,
              "#fdca26"
             ],
             [
              1,
              "#f0f921"
             ]
            ],
            "type": "contour"
           }
          ],
          "contourcarpet": [
           {
            "colorbar": {
             "outlinewidth": 0,
             "ticks": ""
            },
            "type": "contourcarpet"
           }
          ],
          "heatmap": [
           {
            "colorbar": {
             "outlinewidth": 0,
             "ticks": ""
            },
            "colorscale": [
             [
              0,
              "#0d0887"
             ],
             [
              0.1111111111111111,
              "#46039f"
             ],
             [
              0.2222222222222222,
              "#7201a8"
             ],
             [
              0.3333333333333333,
              "#9c179e"
             ],
             [
              0.4444444444444444,
              "#bd3786"
             ],
             [
              0.5555555555555556,
              "#d8576b"
             ],
             [
              0.6666666666666666,
              "#ed7953"
             ],
             [
              0.7777777777777778,
              "#fb9f3a"
             ],
             [
              0.8888888888888888,
              "#fdca26"
             ],
             [
              1,
              "#f0f921"
             ]
            ],
            "type": "heatmap"
           }
          ],
          "heatmapgl": [
           {
            "colorbar": {
             "outlinewidth": 0,
             "ticks": ""
            },
            "colorscale": [
             [
              0,
              "#0d0887"
             ],
             [
              0.1111111111111111,
              "#46039f"
             ],
             [
              0.2222222222222222,
              "#7201a8"
             ],
             [
              0.3333333333333333,
              "#9c179e"
             ],
             [
              0.4444444444444444,
              "#bd3786"
             ],
             [
              0.5555555555555556,
              "#d8576b"
             ],
             [
              0.6666666666666666,
              "#ed7953"
             ],
             [
              0.7777777777777778,
              "#fb9f3a"
             ],
             [
              0.8888888888888888,
              "#fdca26"
             ],
             [
              1,
              "#f0f921"
             ]
            ],
            "type": "heatmapgl"
           }
          ],
          "histogram": [
           {
            "marker": {
             "colorbar": {
              "outlinewidth": 0,
              "ticks": ""
             }
            },
            "type": "histogram"
           }
          ],
          "histogram2d": [
           {
            "colorbar": {
             "outlinewidth": 0,
             "ticks": ""
            },
            "colorscale": [
             [
              0,
              "#0d0887"
             ],
             [
              0.1111111111111111,
              "#46039f"
             ],
             [
              0.2222222222222222,
              "#7201a8"
             ],
             [
              0.3333333333333333,
              "#9c179e"
             ],
             [
              0.4444444444444444,
              "#bd3786"
             ],
             [
              0.5555555555555556,
              "#d8576b"
             ],
             [
              0.6666666666666666,
              "#ed7953"
             ],
             [
              0.7777777777777778,
              "#fb9f3a"
             ],
             [
              0.8888888888888888,
              "#fdca26"
             ],
             [
              1,
              "#f0f921"
             ]
            ],
            "type": "histogram2d"
           }
          ],
          "histogram2dcontour": [
           {
            "colorbar": {
             "outlinewidth": 0,
             "ticks": ""
            },
            "colorscale": [
             [
              0,
              "#0d0887"
             ],
             [
              0.1111111111111111,
              "#46039f"
             ],
             [
              0.2222222222222222,
              "#7201a8"
             ],
             [
              0.3333333333333333,
              "#9c179e"
             ],
             [
              0.4444444444444444,
              "#bd3786"
             ],
             [
              0.5555555555555556,
              "#d8576b"
             ],
             [
              0.6666666666666666,
              "#ed7953"
             ],
             [
              0.7777777777777778,
              "#fb9f3a"
             ],
             [
              0.8888888888888888,
              "#fdca26"
             ],
             [
              1,
              "#f0f921"
             ]
            ],
            "type": "histogram2dcontour"
           }
          ],
          "mesh3d": [
           {
            "colorbar": {
             "outlinewidth": 0,
             "ticks": ""
            },
            "type": "mesh3d"
           }
          ],
          "parcoords": [
           {
            "line": {
             "colorbar": {
              "outlinewidth": 0,
              "ticks": ""
             }
            },
            "type": "parcoords"
           }
          ],
          "pie": [
           {
            "automargin": true,
            "type": "pie"
           }
          ],
          "scatter": [
           {
            "marker": {
             "colorbar": {
              "outlinewidth": 0,
              "ticks": ""
             }
            },
            "type": "scatter"
           }
          ],
          "scatter3d": [
           {
            "line": {
             "colorbar": {
              "outlinewidth": 0,
              "ticks": ""
             }
            },
            "marker": {
             "colorbar": {
              "outlinewidth": 0,
              "ticks": ""
             }
            },
            "type": "scatter3d"
           }
          ],
          "scattercarpet": [
           {
            "marker": {
             "colorbar": {
              "outlinewidth": 0,
              "ticks": ""
             }
            },
            "type": "scattercarpet"
           }
          ],
          "scattergeo": [
           {
            "marker": {
             "colorbar": {
              "outlinewidth": 0,
              "ticks": ""
             }
            },
            "type": "scattergeo"
           }
          ],
          "scattergl": [
           {
            "marker": {
             "colorbar": {
              "outlinewidth": 0,
              "ticks": ""
             }
            },
            "type": "scattergl"
           }
          ],
          "scattermapbox": [
           {
            "marker": {
             "colorbar": {
              "outlinewidth": 0,
              "ticks": ""
             }
            },
            "type": "scattermapbox"
           }
          ],
          "scatterpolar": [
           {
            "marker": {
             "colorbar": {
              "outlinewidth": 0,
              "ticks": ""
             }
            },
            "type": "scatterpolar"
           }
          ],
          "scatterpolargl": [
           {
            "marker": {
             "colorbar": {
              "outlinewidth": 0,
              "ticks": ""
             }
            },
            "type": "scatterpolargl"
           }
          ],
          "scatterternary": [
           {
            "marker": {
             "colorbar": {
              "outlinewidth": 0,
              "ticks": ""
             }
            },
            "type": "scatterternary"
           }
          ],
          "surface": [
           {
            "colorbar": {
             "outlinewidth": 0,
             "ticks": ""
            },
            "colorscale": [
             [
              0,
              "#0d0887"
             ],
             [
              0.1111111111111111,
              "#46039f"
             ],
             [
              0.2222222222222222,
              "#7201a8"
             ],
             [
              0.3333333333333333,
              "#9c179e"
             ],
             [
              0.4444444444444444,
              "#bd3786"
             ],
             [
              0.5555555555555556,
              "#d8576b"
             ],
             [
              0.6666666666666666,
              "#ed7953"
             ],
             [
              0.7777777777777778,
              "#fb9f3a"
             ],
             [
              0.8888888888888888,
              "#fdca26"
             ],
             [
              1,
              "#f0f921"
             ]
            ],
            "type": "surface"
           }
          ],
          "table": [
           {
            "cells": {
             "fill": {
              "color": "#EBF0F8"
             },
             "line": {
              "color": "white"
             }
            },
            "header": {
             "fill": {
              "color": "#C8D4E3"
             },
             "line": {
              "color": "white"
             }
            },
            "type": "table"
           }
          ]
         },
         "layout": {
          "annotationdefaults": {
           "arrowcolor": "#2a3f5f",
           "arrowhead": 0,
           "arrowwidth": 1
          },
          "coloraxis": {
           "colorbar": {
            "outlinewidth": 0,
            "ticks": ""
           }
          },
          "colorscale": {
           "diverging": [
            [
             0,
             "#8e0152"
            ],
            [
             0.1,
             "#c51b7d"
            ],
            [
             0.2,
             "#de77ae"
            ],
            [
             0.3,
             "#f1b6da"
            ],
            [
             0.4,
             "#fde0ef"
            ],
            [
             0.5,
             "#f7f7f7"
            ],
            [
             0.6,
             "#e6f5d0"
            ],
            [
             0.7,
             "#b8e186"
            ],
            [
             0.8,
             "#7fbc41"
            ],
            [
             0.9,
             "#4d9221"
            ],
            [
             1,
             "#276419"
            ]
           ],
           "sequential": [
            [
             0,
             "#0d0887"
            ],
            [
             0.1111111111111111,
             "#46039f"
            ],
            [
             0.2222222222222222,
             "#7201a8"
            ],
            [
             0.3333333333333333,
             "#9c179e"
            ],
            [
             0.4444444444444444,
             "#bd3786"
            ],
            [
             0.5555555555555556,
             "#d8576b"
            ],
            [
             0.6666666666666666,
             "#ed7953"
            ],
            [
             0.7777777777777778,
             "#fb9f3a"
            ],
            [
             0.8888888888888888,
             "#fdca26"
            ],
            [
             1,
             "#f0f921"
            ]
           ],
           "sequentialminus": [
            [
             0,
             "#0d0887"
            ],
            [
             0.1111111111111111,
             "#46039f"
            ],
            [
             0.2222222222222222,
             "#7201a8"
            ],
            [
             0.3333333333333333,
             "#9c179e"
            ],
            [
             0.4444444444444444,
             "#bd3786"
            ],
            [
             0.5555555555555556,
             "#d8576b"
            ],
            [
             0.6666666666666666,
             "#ed7953"
            ],
            [
             0.7777777777777778,
             "#fb9f3a"
            ],
            [
             0.8888888888888888,
             "#fdca26"
            ],
            [
             1,
             "#f0f921"
            ]
           ]
          },
          "colorway": [
           "#636efa",
           "#EF553B",
           "#00cc96",
           "#ab63fa",
           "#FFA15A",
           "#19d3f3",
           "#FF6692",
           "#B6E880",
           "#FF97FF",
           "#FECB52"
          ],
          "font": {
           "color": "#2a3f5f"
          },
          "geo": {
           "bgcolor": "white",
           "lakecolor": "white",
           "landcolor": "#E5ECF6",
           "showlakes": true,
           "showland": true,
           "subunitcolor": "white"
          },
          "hoverlabel": {
           "align": "left"
          },
          "hovermode": "closest",
          "mapbox": {
           "style": "light"
          },
          "paper_bgcolor": "white",
          "plot_bgcolor": "#E5ECF6",
          "polar": {
           "angularaxis": {
            "gridcolor": "white",
            "linecolor": "white",
            "ticks": ""
           },
           "bgcolor": "#E5ECF6",
           "radialaxis": {
            "gridcolor": "white",
            "linecolor": "white",
            "ticks": ""
           }
          },
          "scene": {
           "xaxis": {
            "backgroundcolor": "#E5ECF6",
            "gridcolor": "white",
            "gridwidth": 2,
            "linecolor": "white",
            "showbackground": true,
            "ticks": "",
            "zerolinecolor": "white"
           },
           "yaxis": {
            "backgroundcolor": "#E5ECF6",
            "gridcolor": "white",
            "gridwidth": 2,
            "linecolor": "white",
            "showbackground": true,
            "ticks": "",
            "zerolinecolor": "white"
           },
           "zaxis": {
            "backgroundcolor": "#E5ECF6",
            "gridcolor": "white",
            "gridwidth": 2,
            "linecolor": "white",
            "showbackground": true,
            "ticks": "",
            "zerolinecolor": "white"
           }
          },
          "shapedefaults": {
           "line": {
            "color": "#2a3f5f"
           }
          },
          "ternary": {
           "aaxis": {
            "gridcolor": "white",
            "linecolor": "white",
            "ticks": ""
           },
           "baxis": {
            "gridcolor": "white",
            "linecolor": "white",
            "ticks": ""
           },
           "bgcolor": "#E5ECF6",
           "caxis": {
            "gridcolor": "white",
            "linecolor": "white",
            "ticks": ""
           }
          },
          "title": {
           "x": 0.05
          },
          "xaxis": {
           "automargin": true,
           "gridcolor": "white",
           "linecolor": "white",
           "ticks": "",
           "title": {
            "standoff": 15
           },
           "zerolinecolor": "white",
           "zerolinewidth": 2
          },
          "yaxis": {
           "automargin": true,
           "gridcolor": "white",
           "linecolor": "white",
           "ticks": "",
           "title": {
            "standoff": 15
           },
           "zerolinecolor": "white",
           "zerolinewidth": 2
          }
         }
        },
        "width": 700
       },
       "_py2js_animate": {},
       "_py2js_deleteTraces": {},
       "_py2js_moveTraces": {},
       "_py2js_removeLayoutProps": {},
       "_py2js_removeTraceProps": {},
       "_py2js_restyle": {},
       "_view_count": 0
      }
     },
     "c9f6f93a8d02447aaa76282d6ddbfced": {
      "buffers": [
       {
        "data": "AAAAAAAA8D+iyBKkOXEBQGwMkM4E+QpAq+hJDMMoEkCLtegrCxMWQA==",
        "encoding": "base64",
        "path": [
         "_data",
         0,
         "y",
         "value"
        ]
       },
       {
        "data": "AAAAAAAA8D8AAAAAAAAAQAAAAAAAAAhAAAAACAAAEEAAAAAKAAAUQA==",
        "encoding": "base64",
        "path": [
         "_data",
         2,
         "y",
         "value"
        ]
       },
       {
        "data": "AAAAAAAA8D8AAAAAAAAAQAAAAAAAAAhAAAAACAAAEEAAAAAKAAAUQA==",
        "encoding": "base64",
        "path": [
         "_data",
         3,
         "y",
         "value"
        ]
       }
      ],
      "model_module": "plotlywidget",
      "model_module_version": "^4.12.0",
      "model_name": "FigureModel",
      "state": {
       "_config": {
        "plotlyServerURL": "https://plot.ly"
       },
       "_data": [
        {
         "line": {
          "color": "#7f7f7f"
         },
         "mode": "lines",
         "name": "Benchmark",
         "showlegend": true,
         "type": "scatter",
         "uid": "ebd114b7-ad24-4d2d-b3aa-8baf3c2d439c",
         "x": [
          "2018-01-01T00:00:00.000000",
          "2018-01-02T00:00:00.000000",
          "2018-01-03T00:00:00.000000",
          "2018-01-04T00:00:00.000000",
          "2018-01-05T00:00:00.000000"
         ],
         "y": {
          "dtype": "float64",
          "shape": [
           5
          ]
         }
        },
        {
         "hoverinfo": "skip",
         "line": {
          "color": "rgba(0, 0, 0, 0)",
          "width": 0
         },
         "mode": "lines",
         "opacity": 0,
         "showlegend": false,
         "type": "scatter",
         "uid": "31f4d494-32ad-4365-bbcd-87ef401e7bb8",
         "x": [
          "2018-01-01T00:00:00.000000",
          "2018-01-02T00:00:00.000000",
          "2018-01-03T00:00:00.000000",
          "2018-01-04T00:00:00.000000",
          "2018-01-05T00:00:00.000000"
         ],
         "y": [
          1,
          1,
          1,
          1,
          1
         ]
        },
        {
         "connectgaps": false,
         "fill": "tonexty",
         "fillcolor": "rgba(0, 128, 0, 0.3)",
         "hoverinfo": "skip",
         "line": {
          "color": "rgba(0, 0, 0, 0)",
          "width": 0
         },
         "mode": "lines",
         "opacity": 0,
         "showlegend": false,
         "type": "scatter",
         "uid": "a9f3d372-35d2-4fe5-b92f-72b73f3f5a75",
         "x": [
          "2018-01-01T00:00:00.000000",
          "2018-01-02T00:00:00.000000",
          "2018-01-03T00:00:00.000000",
          "2018-01-04T00:00:00.000000",
          "2018-01-05T00:00:00.000000"
         ],
         "y": {
          "dtype": "float64",
          "shape": [
           5
          ]
         }
        },
        {
         "line": {
          "color": "#9467bd"
         },
         "mode": "lines",
         "name": "a",
         "showlegend": true,
         "type": "scatter",
         "uid": "45fce2cb-4e1b-4d92-a98b-bab7b40bd42d",
         "x": [
          "2018-01-01T00:00:00.000000",
          "2018-01-02T00:00:00.000000",
          "2018-01-03T00:00:00.000000",
          "2018-01-04T00:00:00.000000",
          "2018-01-05T00:00:00.000000"
         ],
         "y": {
          "dtype": "float64",
          "shape": [
           5
          ]
         }
        },
        {
         "hoverinfo": "skip",
         "line": {
          "color": "rgba(0, 0, 0, 0)",
          "width": 0
         },
         "mode": "lines",
         "opacity": 0,
         "showlegend": false,
         "type": "scatter",
         "uid": "0905a928-608b-46ce-bf8a-410785df0a3d",
         "x": [
          "2018-01-01T00:00:00.000000",
          "2018-01-02T00:00:00.000000",
          "2018-01-03T00:00:00.000000",
          "2018-01-04T00:00:00.000000",
          "2018-01-05T00:00:00.000000"
         ],
         "y": [
          1,
          1,
          1,
          1,
          1
         ]
        }
       ],
       "_js2py_layoutDelta": {},
       "_js2py_pointsCallback": {},
       "_js2py_relayout": {},
       "_js2py_restyle": {},
       "_js2py_traceDeltas": {},
       "_js2py_update": {},
       "_last_layout_edit_id": 8,
       "_last_trace_edit_id": 7,
       "_layout": {
        "autosize": false,
        "colorway": [
         "#1f77b4",
         "#ff7f0e",
         "#2ca02c",
         "#dc3912",
         "#9467bd",
         "#8c564b",
         "#e377c2",
         "#7f7f7f",
         "#bcbd22",
         "#17becf"
        ],
        "height": 350,
        "hovermode": "closest",
        "legend": {
         "orientation": "h",
         "x": 1,
         "xanchor": "right",
         "y": 1.02,
         "yanchor": "bottom"
        },
        "margin": {
         "b": 30,
         "l": 30,
         "r": 30,
         "t": 30
        },
        "shapes": [
         {
          "line": {
           "color": "gray",
           "dash": "dashdot"
          },
          "x0": 0,
          "x1": 1,
          "xref": "paper",
          "y0": 1,
          "y1": 1,
          "yref": "y"
         }
        ],
        "template": {
         "data": {
          "bar": [
           {
            "error_x": {
             "color": "#2a3f5f"
            },
            "error_y": {
             "color": "#2a3f5f"
            },
            "marker": {
             "line": {
              "color": "#E5ECF6",
              "width": 0.5
             }
            },
            "type": "bar"
           }
          ],
          "barpolar": [
           {
            "marker": {
             "line": {
              "color": "#E5ECF6",
              "width": 0.5
             }
            },
            "type": "barpolar"
           }
          ],
          "carpet": [
           {
            "aaxis": {
             "endlinecolor": "#2a3f5f",
             "gridcolor": "white",
             "linecolor": "white",
             "minorgridcolor": "white",
             "startlinecolor": "#2a3f5f"
            },
            "baxis": {
             "endlinecolor": "#2a3f5f",
             "gridcolor": "white",
             "linecolor": "white",
             "minorgridcolor": "white",
             "startlinecolor": "#2a3f5f"
            },
            "type": "carpet"
           }
          ],
          "choropleth": [
           {
            "colorbar": {
             "outlinewidth": 0,
             "ticks": ""
            },
            "type": "choropleth"
           }
          ],
          "contour": [
           {
            "colorbar": {
             "outlinewidth": 0,
             "ticks": ""
            },
            "colorscale": [
             [
              0,
              "#0d0887"
             ],
             [
              0.1111111111111111,
              "#46039f"
             ],
             [
              0.2222222222222222,
              "#7201a8"
             ],
             [
              0.3333333333333333,
              "#9c179e"
             ],
             [
              0.4444444444444444,
              "#bd3786"
             ],
             [
              0.5555555555555556,
              "#d8576b"
             ],
             [
              0.6666666666666666,
              "#ed7953"
             ],
             [
              0.7777777777777778,
              "#fb9f3a"
             ],
             [
              0.8888888888888888,
              "#fdca26"
             ],
             [
              1,
              "#f0f921"
             ]
            ],
            "type": "contour"
           }
          ],
          "contourcarpet": [
           {
            "colorbar": {
             "outlinewidth": 0,
             "ticks": ""
            },
            "type": "contourcarpet"
           }
          ],
          "heatmap": [
           {
            "colorbar": {
             "outlinewidth": 0,
             "ticks": ""
            },
            "colorscale": [
             [
              0,
              "#0d0887"
             ],
             [
              0.1111111111111111,
              "#46039f"
             ],
             [
              0.2222222222222222,
              "#7201a8"
             ],
             [
              0.3333333333333333,
              "#9c179e"
             ],
             [
              0.4444444444444444,
              "#bd3786"
             ],
             [
              0.5555555555555556,
              "#d8576b"
             ],
             [
              0.6666666666666666,
              "#ed7953"
             ],
             [
              0.7777777777777778,
              "#fb9f3a"
             ],
             [
              0.8888888888888888,
              "#fdca26"
             ],
             [
              1,
              "#f0f921"
             ]
            ],
            "type": "heatmap"
           }
          ],
          "heatmapgl": [
           {
            "colorbar": {
             "outlinewidth": 0,
             "ticks": ""
            },
            "colorscale": [
             [
              0,
              "#0d0887"
             ],
             [
              0.1111111111111111,
              "#46039f"
             ],
             [
              0.2222222222222222,
              "#7201a8"
             ],
             [
              0.3333333333333333,
              "#9c179e"
             ],
             [
              0.4444444444444444,
              "#bd3786"
             ],
             [
              0.5555555555555556,
              "#d8576b"
             ],
             [
              0.6666666666666666,
              "#ed7953"
             ],
             [
              0.7777777777777778,
              "#fb9f3a"
             ],
             [
              0.8888888888888888,
              "#fdca26"
             ],
             [
              1,
              "#f0f921"
             ]
            ],
            "type": "heatmapgl"
           }
          ],
          "histogram": [
           {
            "marker": {
             "colorbar": {
              "outlinewidth": 0,
              "ticks": ""
             }
            },
            "type": "histogram"
           }
          ],
          "histogram2d": [
           {
            "colorbar": {
             "outlinewidth": 0,
             "ticks": ""
            },
            "colorscale": [
             [
              0,
              "#0d0887"
             ],
             [
              0.1111111111111111,
              "#46039f"
             ],
             [
              0.2222222222222222,
              "#7201a8"
             ],
             [
              0.3333333333333333,
              "#9c179e"
             ],
             [
              0.4444444444444444,
              "#bd3786"
             ],
             [
              0.5555555555555556,
              "#d8576b"
             ],
             [
              0.6666666666666666,
              "#ed7953"
             ],
             [
              0.7777777777777778,
              "#fb9f3a"
             ],
             [
              0.8888888888888888,
              "#fdca26"
             ],
             [
              1,
              "#f0f921"
             ]
            ],
            "type": "histogram2d"
           }
          ],
          "histogram2dcontour": [
           {
            "colorbar": {
             "outlinewidth": 0,
             "ticks": ""
            },
            "colorscale": [
             [
              0,
              "#0d0887"
             ],
             [
              0.1111111111111111,
              "#46039f"
             ],
             [
              0.2222222222222222,
              "#7201a8"
             ],
             [
              0.3333333333333333,
              "#9c179e"
             ],
             [
              0.4444444444444444,
              "#bd3786"
             ],
             [
              0.5555555555555556,
              "#d8576b"
             ],
             [
              0.6666666666666666,
              "#ed7953"
             ],
             [
              0.7777777777777778,
              "#fb9f3a"
             ],
             [
              0.8888888888888888,
              "#fdca26"
             ],
             [
              1,
              "#f0f921"
             ]
            ],
            "type": "histogram2dcontour"
           }
          ],
          "mesh3d": [
           {
            "colorbar": {
             "outlinewidth": 0,
             "ticks": ""
            },
            "type": "mesh3d"
           }
          ],
          "parcoords": [
           {
            "line": {
             "colorbar": {
              "outlinewidth": 0,
              "ticks": ""
             }
            },
            "type": "parcoords"
           }
          ],
          "pie": [
           {
            "automargin": true,
            "type": "pie"
           }
          ],
          "scatter": [
           {
            "marker": {
             "colorbar": {
              "outlinewidth": 0,
              "ticks": ""
             }
            },
            "type": "scatter"
           }
          ],
          "scatter3d": [
           {
            "line": {
             "colorbar": {
              "outlinewidth": 0,
              "ticks": ""
             }
            },
            "marker": {
             "colorbar": {
              "outlinewidth": 0,
              "ticks": ""
             }
            },
            "type": "scatter3d"
           }
          ],
          "scattercarpet": [
           {
            "marker": {
             "colorbar": {
              "outlinewidth": 0,
              "ticks": ""
             }
            },
            "type": "scattercarpet"
           }
          ],
          "scattergeo": [
           {
            "marker": {
             "colorbar": {
              "outlinewidth": 0,
              "ticks": ""
             }
            },
            "type": "scattergeo"
           }
          ],
          "scattergl": [
           {
            "marker": {
             "colorbar": {
              "outlinewidth": 0,
              "ticks": ""
             }
            },
            "type": "scattergl"
           }
          ],
          "scattermapbox": [
           {
            "marker": {
             "colorbar": {
              "outlinewidth": 0,
              "ticks": ""
             }
            },
            "type": "scattermapbox"
           }
          ],
          "scatterpolar": [
           {
            "marker": {
             "colorbar": {
              "outlinewidth": 0,
              "ticks": ""
             }
            },
            "type": "scatterpolar"
           }
          ],
          "scatterpolargl": [
           {
            "marker": {
             "colorbar": {
              "outlinewidth": 0,
              "ticks": ""
             }
            },
            "type": "scatterpolargl"
           }
          ],
          "scatterternary": [
           {
            "marker": {
             "colorbar": {
              "outlinewidth": 0,
              "ticks": ""
             }
            },
            "type": "scatterternary"
           }
          ],
          "surface": [
           {
            "colorbar": {
             "outlinewidth": 0,
             "ticks": ""
            },
            "colorscale": [
             [
              0,
              "#0d0887"
             ],
             [
              0.1111111111111111,
              "#46039f"
             ],
             [
              0.2222222222222222,
              "#7201a8"
             ],
             [
              0.3333333333333333,
              "#9c179e"
             ],
             [
              0.4444444444444444,
              "#bd3786"
             ],
             [
              0.5555555555555556,
              "#d8576b"
             ],
             [
              0.6666666666666666,
              "#ed7953"
             ],
             [
              0.7777777777777778,
              "#fb9f3a"
             ],
             [
              0.8888888888888888,
              "#fdca26"
             ],
             [
              1,
              "#f0f921"
             ]
            ],
            "type": "surface"
           }
          ],
          "table": [
           {
            "cells": {
             "fill": {
              "color": "#EBF0F8"
             },
             "line": {
              "color": "white"
             }
            },
            "header": {
             "fill": {
              "color": "#C8D4E3"
             },
             "line": {
              "color": "white"
             }
            },
            "type": "table"
           }
          ]
         },
         "layout": {
          "annotationdefaults": {
           "arrowcolor": "#2a3f5f",
           "arrowhead": 0,
           "arrowwidth": 1
          },
          "coloraxis": {
           "colorbar": {
            "outlinewidth": 0,
            "ticks": ""
           }
          },
          "colorscale": {
           "diverging": [
            [
             0,
             "#8e0152"
            ],
            [
             0.1,
             "#c51b7d"
            ],
            [
             0.2,
             "#de77ae"
            ],
            [
             0.3,
             "#f1b6da"
            ],
            [
             0.4,
             "#fde0ef"
            ],
            [
             0.5,
             "#f7f7f7"
            ],
            [
             0.6,
             "#e6f5d0"
            ],
            [
             0.7,
             "#b8e186"
            ],
            [
             0.8,
             "#7fbc41"
            ],
            [
             0.9,
             "#4d9221"
            ],
            [
             1,
             "#276419"
            ]
           ],
           "sequential": [
            [
             0,
             "#0d0887"
            ],
            [
             0.1111111111111111,
             "#46039f"
            ],
            [
             0.2222222222222222,
             "#7201a8"
            ],
            [
             0.3333333333333333,
             "#9c179e"
            ],
            [
             0.4444444444444444,
             "#bd3786"
            ],
            [
             0.5555555555555556,
             "#d8576b"
            ],
            [
             0.6666666666666666,
             "#ed7953"
            ],
            [
             0.7777777777777778,
             "#fb9f3a"
            ],
            [
             0.8888888888888888,
             "#fdca26"
            ],
            [
             1,
             "#f0f921"
            ]
           ],
           "sequentialminus": [
            [
             0,
             "#0d0887"
            ],
            [
             0.1111111111111111,
             "#46039f"
            ],
            [
             0.2222222222222222,
             "#7201a8"
            ],
            [
             0.3333333333333333,
             "#9c179e"
            ],
            [
             0.4444444444444444,
             "#bd3786"
            ],
            [
             0.5555555555555556,
             "#d8576b"
            ],
            [
             0.6666666666666666,
             "#ed7953"
            ],
            [
             0.7777777777777778,
             "#fb9f3a"
            ],
            [
             0.8888888888888888,
             "#fdca26"
            ],
            [
             1,
             "#f0f921"
            ]
           ]
          },
          "colorway": [
           "#636efa",
           "#EF553B",
           "#00cc96",
           "#ab63fa",
           "#FFA15A",
           "#19d3f3",
           "#FF6692",
           "#B6E880",
           "#FF97FF",
           "#FECB52"
          ],
          "font": {
           "color": "#2a3f5f"
          },
          "geo": {
           "bgcolor": "white",
           "lakecolor": "white",
           "landcolor": "#E5ECF6",
           "showlakes": true,
           "showland": true,
           "subunitcolor": "white"
          },
          "hoverlabel": {
           "align": "left"
          },
          "hovermode": "closest",
          "mapbox": {
           "style": "light"
          },
          "paper_bgcolor": "white",
          "plot_bgcolor": "#E5ECF6",
          "polar": {
           "angularaxis": {
            "gridcolor": "white",
            "linecolor": "white",
            "ticks": ""
           },
           "bgcolor": "#E5ECF6",
           "radialaxis": {
            "gridcolor": "white",
            "linecolor": "white",
            "ticks": ""
           }
          },
          "scene": {
           "xaxis": {
            "backgroundcolor": "#E5ECF6",
            "gridcolor": "white",
            "gridwidth": 2,
            "linecolor": "white",
            "showbackground": true,
            "ticks": "",
            "zerolinecolor": "white"
           },
           "yaxis": {
            "backgroundcolor": "#E5ECF6",
            "gridcolor": "white",
            "gridwidth": 2,
            "linecolor": "white",
            "showbackground": true,
            "ticks": "",
            "zerolinecolor": "white"
           },
           "zaxis": {
            "backgroundcolor": "#E5ECF6",
            "gridcolor": "white",
            "gridwidth": 2,
            "linecolor": "white",
            "showbackground": true,
            "ticks": "",
            "zerolinecolor": "white"
           }
          },
          "shapedefaults": {
           "line": {
            "color": "#2a3f5f"
           }
          },
          "ternary": {
           "aaxis": {
            "gridcolor": "white",
            "linecolor": "white",
            "ticks": ""
           },
           "baxis": {
            "gridcolor": "white",
            "linecolor": "white",
            "ticks": ""
           },
           "bgcolor": "#E5ECF6",
           "caxis": {
            "gridcolor": "white",
            "linecolor": "white",
            "ticks": ""
           }
          },
          "title": {
           "x": 0.05
          },
          "xaxis": {
           "automargin": true,
           "gridcolor": "white",
           "linecolor": "white",
           "ticks": "",
           "title": {
            "standoff": 15
           },
           "zerolinecolor": "white",
           "zerolinewidth": 2
          },
          "yaxis": {
           "automargin": true,
           "gridcolor": "white",
           "linecolor": "white",
           "ticks": "",
           "title": {
            "standoff": 15
           },
           "zerolinecolor": "white",
           "zerolinewidth": 2
          }
         }
        },
        "width": 700
       },
       "_py2js_animate": {},
       "_py2js_deleteTraces": {},
       "_py2js_moveTraces": {},
       "_py2js_removeLayoutProps": {},
       "_py2js_removeTraceProps": {},
       "_py2js_restyle": {},
       "_view_count": 0
      }
     }
    },
    "version_major": 2,
    "version_minor": 0
   }
  }
 },
 "nbformat": 4,
 "nbformat_minor": 4
}
