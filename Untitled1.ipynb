{
 "cells": [
  {
   "cell_type": "code",
   "execution_count": 1,
   "metadata": {},
   "outputs": [
    {
     "data": {
      "application/vnd.jupyter.widget-view+json": {
       "model_id": "99f6693cf05c4449b2d6050e699470ee",
       "version_major": 2,
       "version_minor": 0
      },
      "text/plain": [
       "CustomFigureWidget({\n",
       "    'data': [{'mode': 'lines',\n",
       "              'name': 'BTC-USD',\n",
       "              'showlegend…"
      ]
     },
     "metadata": {},
     "output_type": "display_data"
    }
   ],
   "source": [
    ">>> import numpy as np\n",
    ">>> import pandas as pd\n",
    ">>> from datetime import datetime\n",
    ">>> import yfinance as yf\n",
    ">>> import talib\n",
    ">>> import vectorbt as vbt\n",
    "\n",
    ">>> # Fetch price history\n",
    ">>> pairs = ['BTC-USD', 'ETH-USD', 'XRP-USD', 'BNB-USD', 'BCH-USD', 'LTC-USD']\n",
    ">>> start = datetime(2020, 1, 1)\n",
    ">>> end = datetime(2020, 9, 1)\n",
    ">>> pair_history = {p: yf.Ticker(p).history(start=start, end=end) for p in pairs}\n",
    "\n",
    ">>> # Put assets into a single dataframe by price type\n",
    ">>> price = {}\n",
    ">>> for pt in ['Open', 'High', 'Low', 'Close']:\n",
    "...     price[pt] = pd.DataFrame({p: df[pt] for p, df in pair_history.items()})\n",
    "\n",
    ">>> price['Open'].head()\n",
    "\n",
    ">>> # Run every single pattern recognition indicator and combine results\n",
    ">>> result = pd.DataFrame.vbt.empty_like(price['Open'], fill_value=0.)\n",
    ">>> for pattern in talib.get_function_groups()['Pattern Recognition']:\n",
    "...     PRecognizer = vbt.IndicatorFactory.from_talib(pattern)\n",
    "...     pr = PRecognizer.run(price['Open'], price['High'], price['Low'], price['Close'])\n",
    "...     result = result + pr.integer\n",
    "\n",
    ">>> # Don't look into future\n",
    ">>> result = result.vbt.fshift(1)\n",
    "\n",
    ">>> # Treat each number as order value in USD\n",
    ">>> size = result / price['Open']\n",
    "\n",
    ">>> # Simulate portfolio\n",
    ">>> portfolio = vbt.Portfolio.from_orders(\n",
    "...     price['Close'], size, price=price['Open'],\n",
    "...     init_cash='autoalign', fees=0.001, slippage=0.001\n",
    "... )\n",
    "\n",
    ">>> # Visualize portfolio value\n",
    ">>> portfolio.value().vbt.plot()"
   ]
  },
  {
   "cell_type": "code",
   "execution_count": 2,
   "metadata": {},
   "outputs": [
    {
     "data": {
      "text/plain": [
       "group\n",
       "first     21474.794005\n",
       "second     7973.848970\n",
       "dtype: float64"
      ]
     },
     "execution_count": 2,
     "metadata": {},
     "output_type": "execute_result"
    }
   ],
   "source": [
    ">>> # Simulate combined portfolio\n",
    ">>> group_by = pd.Index([\n",
    "...     'first', 'first', 'first',\n",
    "...     'second', 'second', 'second'\n",
    "... ], name='group')\n",
    ">>> comb_portfolio = vbt.Portfolio.from_orders(\n",
    "...     price['Close'], size, price=price['Open'],\n",
    "...     init_cash='autoalign', fees=0.001, slippage=0.001,\n",
    "...     group_by=group_by, cash_sharing=True\n",
    "... )\n",
    "\n",
    ">>> # Get total profit per group\n",
    ">>> comb_portfolio.total_profit()"
   ]
  },
  {
   "cell_type": "code",
   "execution_count": 3,
   "metadata": {},
   "outputs": [
    {
     "data": {
      "text/html": [
       "<div>\n",
       "<style scoped>\n",
       "    .dataframe tbody tr th:only-of-type {\n",
       "        vertical-align: middle;\n",
       "    }\n",
       "\n",
       "    .dataframe tbody tr th {\n",
       "        vertical-align: top;\n",
       "    }\n",
       "\n",
       "    .dataframe thead th {\n",
       "        text-align: right;\n",
       "    }\n",
       "</style>\n",
       "<table border=\"1\" class=\"dataframe\">\n",
       "  <thead>\n",
       "    <tr style=\"text-align: right;\">\n",
       "      <th></th>\n",
       "      <th>idx</th>\n",
       "      <th>col</th>\n",
       "      <th>group</th>\n",
       "      <th>cash_now</th>\n",
       "      <th>shares_now</th>\n",
       "      <th>val_price_now</th>\n",
       "      <th>value_now</th>\n",
       "      <th>size</th>\n",
       "      <th>size_type</th>\n",
       "      <th>direction</th>\n",
       "      <th>...</th>\n",
       "      <th>raise_reject</th>\n",
       "      <th>log</th>\n",
       "      <th>new_cash</th>\n",
       "      <th>new_shares</th>\n",
       "      <th>res_size</th>\n",
       "      <th>res_price</th>\n",
       "      <th>res_fees</th>\n",
       "      <th>res_side</th>\n",
       "      <th>res_status</th>\n",
       "      <th>res_status_info</th>\n",
       "    </tr>\n",
       "  </thead>\n",
       "  <tbody>\n",
       "    <tr>\n",
       "      <th>0</th>\n",
       "      <td>0</td>\n",
       "      <td>0</td>\n",
       "      <td>0</td>\n",
       "      <td>inf</td>\n",
       "      <td>0.000000</td>\n",
       "      <td>7294.44</td>\n",
       "      <td>inf</td>\n",
       "      <td>NaN</td>\n",
       "      <td>0</td>\n",
       "      <td>2</td>\n",
       "      <td>...</td>\n",
       "      <td>False</td>\n",
       "      <td>True</td>\n",
       "      <td>inf</td>\n",
       "      <td>0.000000</td>\n",
       "      <td>NaN</td>\n",
       "      <td>NaN</td>\n",
       "      <td>NaN</td>\n",
       "      <td>-1</td>\n",
       "      <td>1</td>\n",
       "      <td>0</td>\n",
       "    </tr>\n",
       "    <tr>\n",
       "      <th>1</th>\n",
       "      <td>1</td>\n",
       "      <td>0</td>\n",
       "      <td>0</td>\n",
       "      <td>inf</td>\n",
       "      <td>0.000000</td>\n",
       "      <td>7194.89</td>\n",
       "      <td>inf</td>\n",
       "      <td>0.000000</td>\n",
       "      <td>0</td>\n",
       "      <td>2</td>\n",
       "      <td>...</td>\n",
       "      <td>False</td>\n",
       "      <td>True</td>\n",
       "      <td>inf</td>\n",
       "      <td>0.000000</td>\n",
       "      <td>NaN</td>\n",
       "      <td>NaN</td>\n",
       "      <td>NaN</td>\n",
       "      <td>-1</td>\n",
       "      <td>1</td>\n",
       "      <td>5</td>\n",
       "    </tr>\n",
       "    <tr>\n",
       "      <th>2</th>\n",
       "      <td>2</td>\n",
       "      <td>0</td>\n",
       "      <td>0</td>\n",
       "      <td>inf</td>\n",
       "      <td>0.000000</td>\n",
       "      <td>7202.55</td>\n",
       "      <td>inf</td>\n",
       "      <td>0.000000</td>\n",
       "      <td>0</td>\n",
       "      <td>2</td>\n",
       "      <td>...</td>\n",
       "      <td>False</td>\n",
       "      <td>True</td>\n",
       "      <td>inf</td>\n",
       "      <td>0.000000</td>\n",
       "      <td>NaN</td>\n",
       "      <td>NaN</td>\n",
       "      <td>NaN</td>\n",
       "      <td>-1</td>\n",
       "      <td>1</td>\n",
       "      <td>5</td>\n",
       "    </tr>\n",
       "    <tr>\n",
       "      <th>3</th>\n",
       "      <td>3</td>\n",
       "      <td>0</td>\n",
       "      <td>0</td>\n",
       "      <td>inf</td>\n",
       "      <td>0.000000</td>\n",
       "      <td>6984.43</td>\n",
       "      <td>inf</td>\n",
       "      <td>-0.014318</td>\n",
       "      <td>0</td>\n",
       "      <td>2</td>\n",
       "      <td>...</td>\n",
       "      <td>False</td>\n",
       "      <td>True</td>\n",
       "      <td>inf</td>\n",
       "      <td>-0.014318</td>\n",
       "      <td>0.014318</td>\n",
       "      <td>6977.44557</td>\n",
       "      <td>0.0999</td>\n",
       "      <td>1</td>\n",
       "      <td>0</td>\n",
       "      <td>-1</td>\n",
       "    </tr>\n",
       "    <tr>\n",
       "      <th>4</th>\n",
       "      <td>4</td>\n",
       "      <td>0</td>\n",
       "      <td>0</td>\n",
       "      <td>inf</td>\n",
       "      <td>-0.014318</td>\n",
       "      <td>7345.38</td>\n",
       "      <td>inf</td>\n",
       "      <td>0.013614</td>\n",
       "      <td>0</td>\n",
       "      <td>2</td>\n",
       "      <td>...</td>\n",
       "      <td>False</td>\n",
       "      <td>True</td>\n",
       "      <td>inf</td>\n",
       "      <td>-0.000704</td>\n",
       "      <td>0.013614</td>\n",
       "      <td>7352.72538</td>\n",
       "      <td>0.1001</td>\n",
       "      <td>0</td>\n",
       "      <td>0</td>\n",
       "      <td>-1</td>\n",
       "    </tr>\n",
       "    <tr>\n",
       "      <th>...</th>\n",
       "      <td>...</td>\n",
       "      <td>...</td>\n",
       "      <td>...</td>\n",
       "      <td>...</td>\n",
       "      <td>...</td>\n",
       "      <td>...</td>\n",
       "      <td>...</td>\n",
       "      <td>...</td>\n",
       "      <td>...</td>\n",
       "      <td>...</td>\n",
       "      <td>...</td>\n",
       "      <td>...</td>\n",
       "      <td>...</td>\n",
       "      <td>...</td>\n",
       "      <td>...</td>\n",
       "      <td>...</td>\n",
       "      <td>...</td>\n",
       "      <td>...</td>\n",
       "      <td>...</td>\n",
       "      <td>...</td>\n",
       "      <td>...</td>\n",
       "    </tr>\n",
       "    <tr>\n",
       "      <th>1465</th>\n",
       "      <td>240</td>\n",
       "      <td>5</td>\n",
       "      <td>5</td>\n",
       "      <td>inf</td>\n",
       "      <td>266.949275</td>\n",
       "      <td>58.30</td>\n",
       "      <td>inf</td>\n",
       "      <td>1.715266</td>\n",
       "      <td>0</td>\n",
       "      <td>2</td>\n",
       "      <td>...</td>\n",
       "      <td>False</td>\n",
       "      <td>True</td>\n",
       "      <td>inf</td>\n",
       "      <td>268.664540</td>\n",
       "      <td>1.715266</td>\n",
       "      <td>58.35830</td>\n",
       "      <td>0.1001</td>\n",
       "      <td>0</td>\n",
       "      <td>0</td>\n",
       "      <td>-1</td>\n",
       "    </tr>\n",
       "    <tr>\n",
       "      <th>1466</th>\n",
       "      <td>241</td>\n",
       "      <td>5</td>\n",
       "      <td>5</td>\n",
       "      <td>inf</td>\n",
       "      <td>268.664540</td>\n",
       "      <td>56.10</td>\n",
       "      <td>inf</td>\n",
       "      <td>0.000000</td>\n",
       "      <td>0</td>\n",
       "      <td>2</td>\n",
       "      <td>...</td>\n",
       "      <td>False</td>\n",
       "      <td>True</td>\n",
       "      <td>inf</td>\n",
       "      <td>268.664540</td>\n",
       "      <td>NaN</td>\n",
       "      <td>NaN</td>\n",
       "      <td>NaN</td>\n",
       "      <td>-1</td>\n",
       "      <td>1</td>\n",
       "      <td>5</td>\n",
       "    </tr>\n",
       "    <tr>\n",
       "      <th>1467</th>\n",
       "      <td>242</td>\n",
       "      <td>5</td>\n",
       "      <td>5</td>\n",
       "      <td>inf</td>\n",
       "      <td>268.664540</td>\n",
       "      <td>57.44</td>\n",
       "      <td>inf</td>\n",
       "      <td>3.481894</td>\n",
       "      <td>0</td>\n",
       "      <td>2</td>\n",
       "      <td>...</td>\n",
       "      <td>False</td>\n",
       "      <td>True</td>\n",
       "      <td>inf</td>\n",
       "      <td>272.146435</td>\n",
       "      <td>3.481894</td>\n",
       "      <td>57.49744</td>\n",
       "      <td>0.2002</td>\n",
       "      <td>0</td>\n",
       "      <td>0</td>\n",
       "      <td>-1</td>\n",
       "    </tr>\n",
       "    <tr>\n",
       "      <th>1468</th>\n",
       "      <td>243</td>\n",
       "      <td>5</td>\n",
       "      <td>5</td>\n",
       "      <td>inf</td>\n",
       "      <td>272.146435</td>\n",
       "      <td>57.21</td>\n",
       "      <td>inf</td>\n",
       "      <td>1.747946</td>\n",
       "      <td>0</td>\n",
       "      <td>2</td>\n",
       "      <td>...</td>\n",
       "      <td>False</td>\n",
       "      <td>True</td>\n",
       "      <td>inf</td>\n",
       "      <td>273.894381</td>\n",
       "      <td>1.747946</td>\n",
       "      <td>57.26721</td>\n",
       "      <td>0.1001</td>\n",
       "      <td>0</td>\n",
       "      <td>0</td>\n",
       "      <td>-1</td>\n",
       "    </tr>\n",
       "    <tr>\n",
       "      <th>1469</th>\n",
       "      <td>244</td>\n",
       "      <td>5</td>\n",
       "      <td>5</td>\n",
       "      <td>inf</td>\n",
       "      <td>273.894381</td>\n",
       "      <td>62.84</td>\n",
       "      <td>inf</td>\n",
       "      <td>7.956715</td>\n",
       "      <td>0</td>\n",
       "      <td>2</td>\n",
       "      <td>...</td>\n",
       "      <td>False</td>\n",
       "      <td>True</td>\n",
       "      <td>inf</td>\n",
       "      <td>281.851096</td>\n",
       "      <td>7.956715</td>\n",
       "      <td>62.90284</td>\n",
       "      <td>0.5005</td>\n",
       "      <td>0</td>\n",
       "      <td>0</td>\n",
       "      <td>-1</td>\n",
       "    </tr>\n",
       "  </tbody>\n",
       "</table>\n",
       "<p>1470 rows × 29 columns</p>\n",
       "</div>"
      ],
      "text/plain": [
       "      idx  col  group  cash_now  shares_now  val_price_now  value_now  \\\n",
       "0       0    0      0       inf    0.000000        7294.44        inf   \n",
       "1       1    0      0       inf    0.000000        7194.89        inf   \n",
       "2       2    0      0       inf    0.000000        7202.55        inf   \n",
       "3       3    0      0       inf    0.000000        6984.43        inf   \n",
       "4       4    0      0       inf   -0.014318        7345.38        inf   \n",
       "...   ...  ...    ...       ...         ...            ...        ...   \n",
       "1465  240    5      5       inf  266.949275          58.30        inf   \n",
       "1466  241    5      5       inf  268.664540          56.10        inf   \n",
       "1467  242    5      5       inf  268.664540          57.44        inf   \n",
       "1468  243    5      5       inf  272.146435          57.21        inf   \n",
       "1469  244    5      5       inf  273.894381          62.84        inf   \n",
       "\n",
       "          size  size_type  direction  ...  raise_reject   log  new_cash  \\\n",
       "0          NaN          0          2  ...         False  True       inf   \n",
       "1     0.000000          0          2  ...         False  True       inf   \n",
       "2     0.000000          0          2  ...         False  True       inf   \n",
       "3    -0.014318          0          2  ...         False  True       inf   \n",
       "4     0.013614          0          2  ...         False  True       inf   \n",
       "...        ...        ...        ...  ...           ...   ...       ...   \n",
       "1465  1.715266          0          2  ...         False  True       inf   \n",
       "1466  0.000000          0          2  ...         False  True       inf   \n",
       "1467  3.481894          0          2  ...         False  True       inf   \n",
       "1468  1.747946          0          2  ...         False  True       inf   \n",
       "1469  7.956715          0          2  ...         False  True       inf   \n",
       "\n",
       "      new_shares  res_size   res_price  res_fees  res_side  res_status  \\\n",
       "0       0.000000       NaN         NaN       NaN        -1           1   \n",
       "1       0.000000       NaN         NaN       NaN        -1           1   \n",
       "2       0.000000       NaN         NaN       NaN        -1           1   \n",
       "3      -0.014318  0.014318  6977.44557    0.0999         1           0   \n",
       "4      -0.000704  0.013614  7352.72538    0.1001         0           0   \n",
       "...          ...       ...         ...       ...       ...         ...   \n",
       "1465  268.664540  1.715266    58.35830    0.1001         0           0   \n",
       "1466  268.664540       NaN         NaN       NaN        -1           1   \n",
       "1467  272.146435  3.481894    57.49744    0.2002         0           0   \n",
       "1468  273.894381  1.747946    57.26721    0.1001         0           0   \n",
       "1469  281.851096  7.956715    62.90284    0.5005         0           0   \n",
       "\n",
       "      res_status_info  \n",
       "0                   0  \n",
       "1                   5  \n",
       "2                   5  \n",
       "3                  -1  \n",
       "4                  -1  \n",
       "...               ...  \n",
       "1465               -1  \n",
       "1466                5  \n",
       "1467               -1  \n",
       "1468               -1  \n",
       "1469               -1  \n",
       "\n",
       "[1470 rows x 29 columns]"
      ]
     },
     "execution_count": 3,
     "metadata": {},
     "output_type": "execute_result"
    }
   ],
   "source": [
    ">>> # Simulate portfolio with logging\n",
    ">>> portfolio = vbt.Portfolio.from_orders(\n",
    "...     price['Close'], size, price=price['Open'],\n",
    "...     init_cash='autoalign', fees=0.001, slippage=0.001, log=True\n",
    "... )\n",
    "\n",
    ">>> portfolio.logs().records"
   ]
  },
  {
   "cell_type": "code",
   "execution_count": 5,
   "metadata": {},
   "outputs": [
    {
     "data": {
      "text/html": [
       "<div>\n",
       "<style scoped>\n",
       "    .dataframe tbody tr th:only-of-type {\n",
       "        vertical-align: middle;\n",
       "    }\n",
       "\n",
       "    .dataframe tbody tr th {\n",
       "        vertical-align: top;\n",
       "    }\n",
       "\n",
       "    .dataframe thead th {\n",
       "        text-align: right;\n",
       "    }\n",
       "</style>\n",
       "<table border=\"1\" class=\"dataframe\">\n",
       "  <thead>\n",
       "    <tr style=\"text-align: right;\">\n",
       "      <th></th>\n",
       "      <th>BTC-USD</th>\n",
       "      <th>ETH-USD</th>\n",
       "      <th>XRP-USD</th>\n",
       "      <th>BNB-USD</th>\n",
       "      <th>BCH-USD</th>\n",
       "      <th>LTC-USD</th>\n",
       "    </tr>\n",
       "  </thead>\n",
       "  <tbody>\n",
       "    <tr>\n",
       "      <th>Filled</th>\n",
       "      <td>186</td>\n",
       "      <td>169</td>\n",
       "      <td>172</td>\n",
       "      <td>171</td>\n",
       "      <td>177</td>\n",
       "      <td>180</td>\n",
       "    </tr>\n",
       "    <tr>\n",
       "      <th>Ignored</th>\n",
       "      <td>59</td>\n",
       "      <td>76</td>\n",
       "      <td>73</td>\n",
       "      <td>74</td>\n",
       "      <td>68</td>\n",
       "      <td>65</td>\n",
       "    </tr>\n",
       "  </tbody>\n",
       "</table>\n",
       "</div>"
      ],
      "text/plain": [
       "         BTC-USD  ETH-USD  XRP-USD  BNB-USD  BCH-USD  LTC-USD\n",
       "Filled       186      169      172      171      177      180\n",
       "Ignored       59       76       73       74       68       65"
      ]
     },
     "execution_count": 5,
     "metadata": {},
     "output_type": "execute_result"
    }
   ],
   "source": [
    ">>> from vectorbt.enums import OrderStatus\n",
    "\n",
    ">>> portfolio.logs().map_field('res_status', value_map=OrderStatus).value_counts()"
   ]
  },
  {
   "cell_type": "code",
   "execution_count": 22,
   "metadata": {},
   "outputs": [
    {
     "data": {
      "application/vnd.jupyter.widget-view+json": {
       "model_id": "90e964f0e95a4209bdf93414ba48dfff",
       "version_major": 2,
       "version_minor": 0
      },
      "text/plain": [
       "CustomFigureWidget({\n",
       "    'data': [{'name': '0',\n",
       "              'showlegend': True,\n",
       "              'type': 'scatt…"
      ]
     },
     "metadata": {},
     "output_type": "display_data"
    }
   ],
   "source": [
    ">>> from vectorbt.portfolio.nb import auto_call_seq_ctx_nb\n",
    ">>> from vectorbt.enums import SizeType, Direction\n",
    "\n",
    ">>> @njit\n",
    "... def group_prep_func_nb(gc):\n",
    "...     '''Define empty arrays for each group.'''\n",
    "...     size = np.empty(gc.group_len, dtype=np.float_)\n",
    "...     size_type = np.empty(gc.group_len, dtype=np.int_)\n",
    "...     direction = np.empty(gc.group_len, dtype=np.int_)\n",
    "...     temp_float_arr = np.empty(gc.group_len, dtype=np.float_)\n",
    "...     return size, size_type, direction, temp_float_arr\n",
    "\n",
    ">>> @njit\n",
    "... def segment_prep_func_nb(sc, size, size_type, direction, temp_float_arr):\n",
    "...     '''Perform rebalancing at each segment.'''\n",
    "...     for k in range(sc.group_len):\n",
    "...         col = sc.from_col + k\n",
    "...         size[k] = 1 / sc.group_len\n",
    "...         size_type[k] = SizeType.TargetPercent\n",
    "...         direction[k] = Direction.LongOnly\n",
    "...         sc.last_val_price[col] = sc.close[sc.i, col]\n",
    "...     auto_call_seq_ctx_nb(sc, size, size_type, direction, temp_float_arr)\n",
    "...     return size, size_type, direction\n",
    "\n",
    ">>> @njit\n",
    "... def order_func_nb(oc, size, size_type, direction, fees, fixed_fees, slippage):\n",
    "...     '''Place an order.'''\n",
    "...     col_i = oc.call_seq_now[oc.call_idx]\n",
    "...     return create_order_nb(\n",
    "...         size=size[col_i],\n",
    "...         size_type=size_type[col_i],\n",
    "...         price=oc.close[oc.i, oc.col],\n",
    "...         fees=fees, fixed_fees=fixed_fees, slippage=slippage,\n",
    "...         direction=direction[col_i]\n",
    "...     )\n",
    "\n",
    ">>> np.random.seed(42)\n",
    ">>> close = np.random.uniform(1, 10, size=(5, 3))\n",
    ">>> fees = 0.001\n",
    ">>> fixed_fees = 1.\n",
    ">>> slippage = 0.001\n",
    "\n",
    ">>> portfolio = vbt.Portfolio.from_order_func(\n",
    "...     close,  # acts both as reference and order price here\n",
    "...     order_func_nb, fees, fixed_fees, slippage,  # order_args as *args\n",
    "...     active_mask=2,  # rebalance every second tick\n",
    "...     group_prep_func_nb=group_prep_func_nb,\n",
    "...     segment_prep_func_nb=segment_prep_func_nb,\n",
    "...     cash_sharing=True, group_by=True,  # one group with cash sharing\n",
    "... )\n",
    "\n",
    ">>> portfolio.holding_value(group_by=False).vbt.scatter()"
   ]
  },
  {
   "cell_type": "code",
   "execution_count": 1,
   "metadata": {},
   "outputs": [],
   "source": [
    ">>> import numpy as np\n",
    ">>> import pandas as pd\n",
    ">>> from numba import njit\n",
    ">>> import vectorbt as vbt\n",
    ">>> from vectorbt.portfolio.nb import create_order_nb\n",
    ">>> from vectorbt.portfolio.nb import auto_call_seq_ctx_nb\n",
    ">>> from vectorbt.enums import SizeType, Direction\n",
    "\n",
    ">>> @njit\n",
    "... def group_prep_func_nb(gc):\n",
    "...     '''Define empty arrays for each group.'''\n",
    "...     size = np.empty(gc.group_len, dtype=np.float_)\n",
    "...     size_type = np.empty(gc.group_len, dtype=np.int_)\n",
    "...     direction = np.empty(gc.group_len, dtype=np.int_)\n",
    "...     temp_float_arr = np.empty(gc.group_len, dtype=np.float_)\n",
    "...     return size, size_type, direction, temp_float_arr\n",
    "\n",
    ">>> @njit\n",
    "... def segment_prep_func_nb(sc, size, size_type, direction, temp_float_arr):\n",
    "...     '''Perform rebalancing at each segment.'''\n",
    "...     for k in range(sc.group_len):\n",
    "...         col = sc.from_col + k\n",
    "...         size[k] = 1 / sc.group_len\n",
    "...         size_type[k] = SizeType.TargetPercent\n",
    "...         direction[k] = Direction.Long\n",
    "...         sc.last_val_price[col] = sc.close[sc.i, col]\n",
    "...     auto_call_seq_ctx_nb(sc, size, size_type, direction, temp_float_arr)\n",
    "...     return size, size_type, direction\n",
    "\n",
    ">>> @njit\n",
    "... def order_func_nb(oc, size, size_type, direction, fees, fixed_fees, slippage):\n",
    "...     '''Place an order.'''\n",
    "...     col_i = oc.call_seq_now[oc.call_idx]\n",
    "...     return create_order_nb(\n",
    "...         size=np.inf,\n",
    "...         size_type=size_type[col_i],\n",
    "...         price=oc.close[oc.i, oc.col],\n",
    "...         fees=fees, fixed_fees=fixed_fees, slippage=slippage,\n",
    "...         direction=direction[col_i], log=True\n",
    "...     )\n",
    "\n",
    ">>> from datetime import datetime, timedelta\n",
    ">>> np.random.seed(42)\n",
    ">>> close = pd.DataFrame(np.random.uniform(1, 10, size=(5, 3)), columns=['a', 'b', 'c'], \n",
    "                         index=[datetime(2018, 1, 1) + timedelta(days=i) for i in range(5)])\n",
    ">>> fees = 0.001\n",
    ">>> fixed_fees = 1.\n",
    ">>> slippage = 0.001\n",
    "\n",
    ">>> portfolio = vbt.Portfolio.from_order_func(\n",
    "...     close,  # acts both as reference and order price here\n",
    "...     order_func_nb, fees, fixed_fees, slippage,  # order_args as *args\n",
    "...     active_mask=2,  # rebalance every second tick\n",
    "...     group_prep_func_nb=group_prep_func_nb,\n",
    "...     segment_prep_func_nb=segment_prep_func_nb,\n",
    "...     cash_sharing=True, group_by=True,  # one group with cash sharing\n",
    "... )"
   ]
  },
  {
   "cell_type": "code",
   "execution_count": 4,
   "metadata": {},
   "outputs": [
    {
     "name": "stdout",
     "output_type": "stream",
     "text": [
      "    Long  Short    All\n",
      "0  100.0 -100.0  100.0\n",
      "1    0.0    0.0    0.0\n",
      "2    0.0    0.0    0.0\n",
      "3 -100.0   50.0 -200.0\n",
      "4    0.0    0.0    0.0\n"
     ]
    }
   ],
   "source": [
    ">>> from vectorbt.enums import Direction\n",
    "\n",
    ">>> import pandas as pd\n",
    ">>> import vectorbt as vbt\n",
    "\n",
    ">>> close = pd.Series([1, 2, 3, 4, 5])\n",
    ">>> entries = pd.Series([True, True, True, False, False])\n",
    ">>> exits = pd.Series([False, False, True, True, True])\n",
    ">>> portfolio = vbt.Portfolio.from_signals(\n",
    "...     close, entries, exits, direction=[list(Direction)],\n",
    "...     broadcast_kwargs=dict(columns_from=Direction._fields))\n",
    ">>> print(portfolio.share_flow())"
   ]
  },
  {
   "cell_type": "code",
   "execution_count": 10,
   "metadata": {},
   "outputs": [
    {
     "data": {
      "image/png": "[encoded data removed]"
     },
     "metadata": {},
     "output_type": "display_data"
    }
   ],
   "source": [
    ">>> # Run every single pattern recognition indicator and combine results\n",
    ">>> result = pd.DataFrame.vbt.empty_like(price['Open'], fill_value=0.)\n",
    ">>> for pattern in talib.get_function_groups()['Pattern Recognition']:\n",
    "...     PRecognizer = vbt.IndicatorFactory.from_talib(pattern)\n",
    "...     pr = PRecognizer.run(price['Open'], price['High'], price['Low'], price['Close'])\n",
    "...     result = result + pr.integer\n",
    "\n",
    ">>> # Don't look into future\n",
    ">>> result = result.vbt.fshift(1)\n",
    "\n",
    ">>> # Treat each number as order value in USD\n",
    ">>> size = result / price['Open']\n",
    "\n",
    ">>> # Simulate portfolio\n",
    ">>> portfolio = vbt.Portfolio.from_orders(\n",
    "...     price['Close'], size, price=price['Open'],\n",
    "...     init_cash=InitCashMode.AutoAlign, fees=0.001, slippage=0.001\n",
    "... )\n",
    "\n",
    ">>> # Visualize portfolio value\n",
    ">>> portfolio.value().vbt.plot().show_png()"
   ]
  },
  {
   "cell_type": "code",
   "execution_count": 5,
   "metadata": {},
   "outputs": [
    {
     "data": {
      "text/plain": [
       "group\n",
       "first     21474.794005\n",
       "second     7973.848970\n",
       "dtype: float64"
      ]
     },
     "execution_count": 5,
     "metadata": {},
     "output_type": "execute_result"
    }
   ],
   "source": [
    ">>> # Simulate combined portfolio\n",
    ">>> group_by = pd.Index([\n",
    "...     'first', 'first', 'first',\n",
    "...     'second', 'second', 'second'\n",
    "... ], name='group')\n",
    ">>> comb_portfolio = vbt.Portfolio.from_orders(\n",
    "...     price['Close'], size, price=price['Open'],\n",
    "...     init_cash=InitCashMode.AutoAlign, fees=0.001, slippage=0.001,\n",
    "...     group_by=group_by, cash_sharing=True\n",
    "... )\n",
    "\n",
    ">>> # Get total profit per group\n",
    ">>> comb_portfolio.total_profit()"
   ]
  },
  {
   "cell_type": "code",
   "execution_count": 6,
   "metadata": {},
   "outputs": [
    {
     "data": {
      "text/plain": [
       "BTC-USD     5101.957521\n",
       "ETH-USD    12866.045602\n",
       "XRP-USD     3506.790882\n",
       "BNB-USD     5065.017577\n",
       "BCH-USD     -240.275095\n",
       "LTC-USD     3149.106488\n",
       "dtype: float64"
      ]
     },
     "execution_count": 6,
     "metadata": {},
     "output_type": "execute_result"
    }
   ],
   "source": [
    ">>> # Get total profit per column\n",
    ">>> comb_portfolio.total_profit(group_by=False)"
   ]
  },
  {
   "cell_type": "code",
   "execution_count": 7,
   "metadata": {},
   "outputs": [
    {
     "data": {
      "text/plain": [
       "group\n",
       "first     21474.794005\n",
       "second     7973.848970\n",
       "dtype: float64"
      ]
     },
     "execution_count": 7,
     "metadata": {},
     "output_type": "execute_result"
    }
   ],
   "source": [
    ">>> # Get total profit per group\n",
    ">>> portfolio.total_profit(group_by=group_by)"
   ]
  },
  {
   "cell_type": "code",
   "execution_count": 8,
   "metadata": {},
   "outputs": [
    {
     "data": {
      "text/plain": [
       "5101.957521326392"
      ]
     },
     "execution_count": 8,
     "metadata": {},
     "output_type": "execute_result"
    }
   ],
   "source": [
    ">>> portfolio['BTC-USD'].total_profit()"
   ]
  },
  {
   "cell_type": "code",
   "execution_count": 9,
   "metadata": {},
   "outputs": [
    {
     "data": {
      "text/plain": [
       "21474.794005172986"
      ]
     },
     "execution_count": 9,
     "metadata": {},
     "output_type": "execute_result"
    }
   ],
   "source": [
    ">>> comb_portfolio['first'].total_profit()"
   ]
  },
  {
   "cell_type": "code",
   "execution_count": 2,
   "metadata": {},
   "outputs": [
    {
     "name": "stdout",
     "output_type": "stream",
     "text": [
      "0    100.000000\n",
      "1   -100.000000\n",
      "2     33.333333\n",
      "3    -33.333333\n",
      "4     20.000000\n",
      "dtype: float64\n",
      "0      0.000000\n",
      "1    400.000000\n",
      "2      0.000000\n",
      "3    266.666667\n",
      "4      0.000000\n",
      "dtype: float64\n",
      "0    100.000000\n",
      "1   -200.000000\n",
      "2    100.000000\n",
      "3   -133.333333\n",
      "4    100.000000\n",
      "dtype: float64\n",
      "0    100.000000\n",
      "1    200.000000\n",
      "2    100.000000\n",
      "3    133.333333\n",
      "4    100.000000\n",
      "dtype: float64\n"
     ]
    }
   ],
   "source": [
    ">>> portfolio = vbt.Portfolio.from_orders(\n",
    "...     price, [np.inf, -np.inf, np.inf, -np.inf, np.inf])\n",
    "\n",
    ">>> print(portfolio.shares())\n",
    ">>> print(portfolio.cash())\n",
    ">>> print(portfolio.holding_value())\n",
    ">>> print(portfolio.value())"
   ]
  },
  {
   "cell_type": "code",
   "execution_count": null,
   "metadata": {},
   "outputs": [],
   "source": [
    ">>> # Reverse position each tick\n",
    ">>> portfolio = vbt.Portfolio.from_orders(\n",
    "...     close, [np.inf, -np.inf, np.inf, -np.inf, np.inf])\n",
    "\n",
    ">>> portfolio.shares()\n",
    ">>> portfolio.cash()\n",
    ">>> portfolio.holding_value()\n",
    ">>> portfolio.value()"
   ]
  },
  {
   "cell_type": "code",
   "execution_count": 9,
   "metadata": {},
   "outputs": [
    {
     "data": {
      "text/plain": [
       "0      0.0\n",
       "1    200.0\n",
       "2    500.0\n",
       "3    100.0\n",
       "4      0.0\n",
       "dtype: float64"
      ]
     },
     "execution_count": 9,
     "metadata": {},
     "output_type": "execute_result"
    }
   ],
   "source": [
    ">>> import numpy as np\n",
    ">>> import pandas as pd\n",
    ">>> from numba import njit\n",
    ">>> import vectorbt as vbt\n",
    ">>> from vectorbt.portfolio.nb import create_order_nb\n",
    "\n",
    ">>> close = pd.Series([1, 2, 3, 4, 5])\n",
    "\n",
    ">>> @njit\n",
    "... def group_prep_func_nb(gc):\n",
    "...     \"\"\"Define state per column/group.\"\"\"\n",
    "...     last_pos_state = np.array([-1])\n",
    "...     return (last_pos_state,)\n",
    "\n",
    ">>> @njit\n",
    "... def order_func_nb(oc, last_pos_state):\n",
    "...     \"\"\"Use state to determine which position to open.\"\"\"\n",
    "...     if oc.shares_now > 0:\n",
    "...         size = -oc.shares_now  # close long\n",
    "...     elif oc.shares_now < 0:\n",
    "...         size = -oc.shares_now  # close short\n",
    "...     else:\n",
    "...         if last_pos_state[0] == 1:\n",
    "...             size = -np.inf  # open short\n",
    "...             last_pos_state[0] = -1\n",
    "...         else:\n",
    "...             size = np.inf  # open long\n",
    "...             last_pos_state[0] = 1\n",
    "...\n",
    "...     return create_order_nb(size=size, price=oc.close[oc.i, oc.col])\n",
    "\n",
    ">>> portfolio = vbt.Portfolio.from_order_func(\n",
    "...     close, order_func_nb, group_prep_func_nb=group_prep_func_nb)\n",
    ">>> portfolio.cash()"
   ]
  },
  {
   "cell_type": "code",
   "execution_count": 3,
   "metadata": {},
   "outputs": [
    {
     "name": "stdout",
     "output_type": "stream",
     "text": [
      "0    10.0\n",
      "1    20.0\n",
      "2    30.0\n",
      "3    40.0\n",
      "4    40.0\n",
      "dtype: float64\n",
      "0    90.0\n",
      "1    70.0\n",
      "2    40.0\n",
      "3     0.0\n",
      "4     0.0\n",
      "dtype: float64\n"
     ]
    }
   ],
   "source": [
    ">>> import pandas as pd\n",
    ">>> from numba import njit\n",
    ">>> import vectorbt as vbt\n",
    ">>> from vectorbt.portfolio.nb import create_order_nb\n",
    "\n",
    ">>> @njit\n",
    "... def order_func_nb(oc, size):\n",
    "...     return create_order_nb(size=size, price=oc.close[oc.i, oc.col])\n",
    "\n",
    ">>> # Buy 10 shares each tick\n",
    ">>> close = pd.Series([1, 2, 3, 4, 5])\n",
    ">>> portfolio = vbt.Portfolio.from_order_func(close, order_func_nb, 10)\n",
    ">>> print(portfolio.shares())\n",
    ">>> print(portfolio.cash())"
   ]
  },
  {
   "cell_type": "code",
   "execution_count": 9,
   "metadata": {},
   "outputs": [
    {
     "name": "stdout",
     "output_type": "stream",
     "text": [
      "\\tpreparing group 0\n",
      "\\t\\tpreparing segment 0 (row)\n",
      "\\t\\t\\trunning order 0 at column 0\n",
      "\\t\\t\\trunning order 1 at column 1\n",
      "\\t\\t\\trunning order 2 at column 2\n",
      "\\t\\tpreparing segment 2 (row)\n",
      "\\t\\t\\trunning order 0 at column 1\n",
      "\\t\\t\\trunning order 1 at column 2\n",
      "\\t\\t\\trunning order 2 at column 0\n",
      "\\t\\tpreparing segment 4 (row)\n",
      "\\t\\t\\trunning order 0 at column 0\n",
      "\\t\\t\\trunning order 1 at column 2\n",
      "\\t\\t\\trunning order 2 at column 1\n"
     ]
    },
    {
     "data": {
      "application/vnd.jupyter.widget-view+json": {
       "model_id": "f83ce5ace8cc41e999b3da87e0f8a298",
       "version_major": 2,
       "version_minor": 0
      },
      "text/plain": [
       "CustomFigureWidget({\n",
       "    'data': [{'name': '0',\n",
       "              'showlegend': True,\n",
       "              'type': 'scatt…"
      ]
     },
     "metadata": {},
     "output_type": "display_data"
    }
   ],
   "source": [
    ">>> import numpy as np\n",
    ">>> import pandas as pd\n",
    ">>> from numba import njit\n",
    ">>> import vectorbt as vbt\n",
    ">>> from vectorbt.portfolio.nb import create_order, auto_call_seq_ctx_nb\n",
    ">>> from vectorbt.portfolio.enums import SizeType, Direction\n",
    "\n",
    ">>> @njit\n",
    "... def group_prep_func_nb(gc):\n",
    "...     '''Define empty arrays for each group.'''\n",
    "...     print('\\\\tpreparing group', gc.group)\n",
    "...     # Try to create new arrays as rarely as possible\n",
    "...     size = np.empty(gc.group_len, dtype=np.float_)\n",
    "...     size_type = np.empty(gc.group_len, dtype=np.int_)\n",
    "...     direction = np.empty(gc.group_len, dtype=np.int_)\n",
    "...     temp_float_arr = np.empty(gc.group_len, dtype=np.float_)\n",
    "...     return size, size_type, direction, temp_float_arr\n",
    "\n",
    ">>> @njit\n",
    "... def segment_prep_func_nb(sc, size, size_type, direction, temp_float_arr):\n",
    "...     '''Perform rebalancing at each segment.'''\n",
    "...     print('\\\\t\\\\tpreparing segment', sc.i, '(row)')\n",
    "...     for k in range(sc.group_len):\n",
    "...         col = sc.from_col + k\n",
    "...         size[k] = 1 / sc.group_len\n",
    "...         size_type[k] = SizeType.TargetPercent\n",
    "...         direction[k] = Direction.Long  # long positions only\n",
    "...         # Here we use order price instead of previous close to valuate the assets\n",
    "...         sc.last_val_price[col] = sc.close[sc.i, col]\n",
    "...     # Reorder call sequence such that selling orders come first and buying last\n",
    "...     auto_call_seq_ctx_nb(sc, size, size_type, direction, temp_float_arr)\n",
    "...     return size, size_type, direction\n",
    "\n",
    ">>> @njit\n",
    "... def order_func_nb(oc, size, size_type, direction, fees, fixed_fees, slippage):\n",
    "...     '''Place an order.'''\n",
    "...     print('\\\\t\\\\t\\\\trunning order', oc.call_idx, 'at column', oc.col)\n",
    "...     col_i = oc.call_seq_now[oc.call_idx]  # or col - from_col\n",
    "...     return create_order(\n",
    "...         size=size[col_i],\n",
    "...         size_type=size_type[col_i],\n",
    "...         price=oc.close[oc.i, oc.col],\n",
    "...         fees=fees, fixed_fees=fixed_fees, slippage=slippage,\n",
    "...         direction=direction[col_i]\n",
    "...     )\n",
    "\n",
    ">>> np.random.seed(42)\n",
    ">>> close = np.random.uniform(1, 10, size=(5, 3))\n",
    ">>> fees = 0.001\n",
    ">>> fixed_fees = 1.\n",
    ">>> slippage = 0.001\n",
    "\n",
    ">>> portfolio = vbt.Portfolio.from_order_func(\n",
    "...     close,  # acts both as reference and order price here\n",
    "...     order_func_nb, fees, fixed_fees, slippage,\n",
    "...     init_cash=100,  # initial capital of 100$ per group\n",
    "...     cash_sharing=True,  # assets share the same cash\n",
    "...     active_mask=2,  # rebalance every second tick\n",
    "...     group_prep_func_nb=group_prep_func_nb,\n",
    "...     segment_prep_func_nb=segment_prep_func_nb,\n",
    "...     group_by=True,  # one group\n",
    "... )\n",
    "\n",
    ">>> portfolio.holding_value(group_by=False).vbt.scatter()"
   ]
  },
  {
   "cell_type": "code",
   "execution_count": 5,
   "metadata": {},
   "outputs": [
    {
     "data": {
      "text/html": [
       "<div>\n",
       "<style scoped>\n",
       "    .dataframe tbody tr th:only-of-type {\n",
       "        vertical-align: middle;\n",
       "    }\n",
       "\n",
       "    .dataframe tbody tr th {\n",
       "        vertical-align: top;\n",
       "    }\n",
       "\n",
       "    .dataframe thead th {\n",
       "        text-align: right;\n",
       "    }\n",
       "</style>\n",
       "<table border=\"1\" class=\"dataframe\">\n",
       "  <thead>\n",
       "    <tr style=\"text-align: right;\">\n",
       "      <th></th>\n",
       "      <th>col</th>\n",
       "      <th>idx</th>\n",
       "      <th>size</th>\n",
       "      <th>price</th>\n",
       "      <th>fees</th>\n",
       "      <th>side</th>\n",
       "    </tr>\n",
       "  </thead>\n",
       "  <tbody>\n",
       "    <tr>\n",
       "      <th>0</th>\n",
       "      <td>0</td>\n",
       "      <td>0</td>\n",
       "      <td>7.626262</td>\n",
       "      <td>4.375232</td>\n",
       "      <td>1.033367</td>\n",
       "      <td>0</td>\n",
       "    </tr>\n",
       "    <tr>\n",
       "      <th>1</th>\n",
       "      <td>0</td>\n",
       "      <td>2</td>\n",
       "      <td>5.210115</td>\n",
       "      <td>1.524275</td>\n",
       "      <td>1.007942</td>\n",
       "      <td>0</td>\n",
       "    </tr>\n",
       "    <tr>\n",
       "      <th>2</th>\n",
       "      <td>0</td>\n",
       "      <td>4</td>\n",
       "      <td>7.899568</td>\n",
       "      <td>8.483492</td>\n",
       "      <td>1.067016</td>\n",
       "      <td>1</td>\n",
       "    </tr>\n",
       "    <tr>\n",
       "      <th>3</th>\n",
       "      <td>1</td>\n",
       "      <td>0</td>\n",
       "      <td>3.488053</td>\n",
       "      <td>9.565985</td>\n",
       "      <td>1.033367</td>\n",
       "      <td>0</td>\n",
       "    </tr>\n",
       "    <tr>\n",
       "      <th>4</th>\n",
       "      <td>1</td>\n",
       "      <td>2</td>\n",
       "      <td>0.920352</td>\n",
       "      <td>8.786790</td>\n",
       "      <td>1.008087</td>\n",
       "      <td>1</td>\n",
       "    </tr>\n",
       "    <tr>\n",
       "      <th>5</th>\n",
       "      <td>1</td>\n",
       "      <td>4</td>\n",
       "      <td>10.713236</td>\n",
       "      <td>2.913963</td>\n",
       "      <td>1.031218</td>\n",
       "      <td>0</td>\n",
       "    </tr>\n",
       "    <tr>\n",
       "      <th>6</th>\n",
       "      <td>2</td>\n",
       "      <td>0</td>\n",
       "      <td>3.972040</td>\n",
       "      <td>7.595533</td>\n",
       "      <td>1.030170</td>\n",
       "      <td>0</td>\n",
       "    </tr>\n",
       "    <tr>\n",
       "      <th>7</th>\n",
       "      <td>2</td>\n",
       "      <td>2</td>\n",
       "      <td>0.448747</td>\n",
       "      <td>6.403625</td>\n",
       "      <td>1.002874</td>\n",
       "      <td>1</td>\n",
       "    </tr>\n",
       "    <tr>\n",
       "      <th>8</th>\n",
       "      <td>2</td>\n",
       "      <td>4</td>\n",
       "      <td>12.378281</td>\n",
       "      <td>2.639061</td>\n",
       "      <td>1.032667</td>\n",
       "      <td>0</td>\n",
       "    </tr>\n",
       "  </tbody>\n",
       "</table>\n",
       "</div>"
      ],
      "text/plain": [
       "   col  idx       size     price      fees  side\n",
       "0    0    0   7.626262  4.375232  1.033367     0\n",
       "1    0    2   5.210115  1.524275  1.007942     0\n",
       "2    0    4   7.899568  8.483492  1.067016     1\n",
       "3    1    0   3.488053  9.565985  1.033367     0\n",
       "4    1    2   0.920352  8.786790  1.008087     1\n",
       "5    1    4  10.713236  2.913963  1.031218     0\n",
       "6    2    0   3.972040  7.595533  1.030170     0\n",
       "7    2    2   0.448747  6.403625  1.002874     1\n",
       "8    2    4  12.378281  2.639061  1.032667     0"
      ]
     },
     "execution_count": 5,
     "metadata": {},
     "output_type": "execute_result"
    }
   ],
   "source": [
    ">>> pd.DataFrame.from_records(order_records)  # sorted"
   ]
  },
  {
   "cell_type": "code",
   "execution_count": 7,
   "metadata": {},
   "outputs": [
    {
     "data": {
      "application/vnd.jupyter.widget-view+json": {
       "model_id": "ba3cab09e9f14e2aa752de57d2cc8573",
       "version_major": 2,
       "version_minor": 0
      },
      "text/plain": [
       "CustomFigureWidget({\n",
       "    'data': [{'name': '0',\n",
       "              'showlegend': True,\n",
       "              'type': 'scatt…"
      ]
     },
     "metadata": {},
     "output_type": "display_data"
    }
   ],
   "source": [
    ">>> share_flow = share_flow_nb(target_shape, order_records)\n",
    ">>> shares = shares_nb(share_flow)\n",
    ">>> holding_value = holding_value_ungrouped_nb(close, shares)\n",
    ">>> pd.DataFrame(holding_value).vbt.scatter()"
   ]
  },
  {
   "cell_type": "code",
   "execution_count": 35,
   "metadata": {},
   "outputs": [
    {
     "name": "stdout",
     "output_type": "stream",
     "text": [
      "0    100.000000\n",
      "1      0.000000\n",
      "2    -66.666667\n",
      "3      0.000000\n",
      "4     26.666667\n",
      "dtype: float64\n",
      "0      0.000000\n",
      "1    200.000000\n",
      "2    400.000000\n",
      "3    133.333333\n",
      "4      0.000000\n",
      "dtype: float64\n"
     ]
    }
   ],
   "source": [
    ">>> size = [1., 0., -1., 0., 1.]\n",
    ">>> size_type = 'targetpercent'\n",
    ">>> portfolio = vbt.Portfolio.from_orders(price, size, size_type)\n",
    "\n",
    ">>> print(portfolio.shares())\n",
    ">>> print(portfolio.cash())"
   ]
  },
  {
   "cell_type": "code",
   "execution_count": 1,
   "metadata": {},
   "outputs": [
    {
     "data": {
      "text/html": [
       "<div>\n",
       "<style scoped>\n",
       "    .dataframe tbody tr th:only-of-type {\n",
       "        vertical-align: middle;\n",
       "    }\n",
       "\n",
       "    .dataframe tbody tr th {\n",
       "        vertical-align: top;\n",
       "    }\n",
       "\n",
       "    .dataframe thead th {\n",
       "        text-align: right;\n",
       "    }\n",
       "</style>\n",
       "<table border=\"1\" class=\"dataframe\">\n",
       "  <thead>\n",
       "    <tr style=\"text-align: right;\">\n",
       "      <th></th>\n",
       "      <th>a</th>\n",
       "      <th>b</th>\n",
       "      <th>c</th>\n",
       "    </tr>\n",
       "  </thead>\n",
       "  <tbody>\n",
       "    <tr>\n",
       "      <th>2020-01-01</th>\n",
       "      <td>1</td>\n",
       "      <td>5</td>\n",
       "      <td>1</td>\n",
       "    </tr>\n",
       "    <tr>\n",
       "      <th>2020-01-02</th>\n",
       "      <td>2</td>\n",
       "      <td>4</td>\n",
       "      <td>2</td>\n",
       "    </tr>\n",
       "    <tr>\n",
       "      <th>2020-01-03</th>\n",
       "      <td>3</td>\n",
       "      <td>3</td>\n",
       "      <td>3</td>\n",
       "    </tr>\n",
       "    <tr>\n",
       "      <th>2020-01-04</th>\n",
       "      <td>4</td>\n",
       "      <td>2</td>\n",
       "      <td>2</td>\n",
       "    </tr>\n",
       "    <tr>\n",
       "      <th>2020-01-05</th>\n",
       "      <td>5</td>\n",
       "      <td>1</td>\n",
       "      <td>1</td>\n",
       "    </tr>\n",
       "  </tbody>\n",
       "</table>\n",
       "</div>"
      ],
      "text/plain": [
       "            a  b  c\n",
       "2020-01-01  1  5  1\n",
       "2020-01-02  2  4  2\n",
       "2020-01-03  3  3  3\n",
       "2020-01-04  4  2  2\n",
       "2020-01-05  5  1  1"
      ]
     },
     "execution_count": 1,
     "metadata": {},
     "output_type": "execute_result"
    }
   ],
   "source": [
    ">>> import vectorbt as vbt\n",
    ">>> import numpy as np\n",
    ">>> import pandas as pd\n",
    ">>> from numba import njit\n",
    ">>> from datetime import datetime\n",
    "\n",
    ">>> df = pd.DataFrame({\n",
    "...     'a': [1, 2, 3, 4, 5],\n",
    "...     'b': [5, 4, 3, 2, 1],\n",
    "...     'c': [1, 2, 3, 2, 1]\n",
    "... }, index=pd.Index([\n",
    "...     datetime(2020, 1, 1),\n",
    "...     datetime(2020, 1, 2),\n",
    "...     datetime(2020, 1, 3),\n",
    "...     datetime(2020, 1, 4),\n",
    "...     datetime(2020, 1, 5)\n",
    "... ]))\n",
    ">>> df"
   ]
  },
  {
   "cell_type": "code",
   "execution_count": 5,
   "metadata": {},
   "outputs": [
    {
     "name": "stdout",
     "output_type": "stream",
     "text": [
      "0    3.0\n",
      "1    1.8\n",
      "dtype: float64\n",
      "     0    1\n",
      "0  3.0  1.0\n",
      "1  3.0  2.0\n",
      "2  3.0  3.0\n",
      "3  3.0  2.0\n",
      "4  3.0  1.0\n"
     ]
    }
   ],
   "source": [
    ">>> mean_nb = njit(lambda col, a: np.nanmean(a))\n",
    ">>> print(df.vbt.reduce_grouped(mean_nb, group_by=np.array([0, 0, 1])))\n",
    "\n",
    ">>> mean_nb = njit(lambda i, col, a: np.nanmean(a))\n",
    ">>> print(df.vbt.reduce_grouped(mean_nb, group_by=np.array([0, 0, 1]), row_wise=True))"
   ]
  },
  {
   "cell_type": "code",
   "execution_count": null,
   "metadata": {},
   "outputs": [],
   "source": [
    "#    Cash: 400$, shares: 0\n",
    "# 1. Buy 10 shares for 400$\n",
    "#    Cash: 0$, shares: 10\n",
    "# 2. New price is 60$ per share - sell 10 shares for 600$\n",
    "#    Cash: 600$, shares: 0\n",
    "#    Holding value: 60$ * 10 = 600$"
   ]
  },
  {
   "cell_type": "code",
   "execution_count": null,
   "metadata": {},
   "outputs": [],
   "source": [
    "#    Cash: 0$, shares: 0\n",
    "# 1. Borrowed 10 shares and sold them immediately for 40$ per share - received 400$\n",
    "#    Cash: 400$, shares: -10\n",
    "# 2. New price is 20$ per share - can buy 20 shares, but instead buy and return 10 shares and keep 200$\n",
    "#    Cash: 200$, shares: 0\n",
    "#    Holding value: (2 * 40$ - 20$) * 10 = 600$ = 400$ + 200$"
   ]
  },
  {
   "cell_type": "code",
   "execution_count": null,
   "metadata": {},
   "outputs": [],
   "source": [
    "# "
   ]
  },
  {
   "cell_type": "code",
   "execution_count": 5,
   "metadata": {},
   "outputs": [
    {
     "data": {
      "text/plain": [
       "200"
      ]
     },
     "execution_count": 5,
     "metadata": {},
     "output_type": "execute_result"
    }
   ],
   "source": [
    "size = 10\n",
    "entry_price = 40\n",
    "exit_price = 20\n",
    "direction = 'short'\n",
    "\n",
    "if direction == 'long':\n",
    "    pnl = (exit_price - entry_price) * size\n",
    "else:\n",
    "    pnl = -(exit_price - entry_price) * size\n",
    "pnl"
   ]
  },
  {
   "cell_type": "code",
   "execution_count": null,
   "metadata": {},
   "outputs": [],
   "source": []
  }
 ],
 "metadata": {
  "kernelspec": {
   "display_name": "Python 3",
   "language": "python",
   "name": "python3"
  },
  "language_info": {
   "codemirror_mode": {
    "name": "ipython",
    "version": 3
   },
   "file_extension": ".py",
   "mimetype": "text/x-python",
   "name": "python",
   "nbconvert_exporter": "python",
   "pygments_lexer": "ipython3",
   "version": "3.7.3"
  },
  "widgets": {
   "application/vnd.jupyter.widget-state+json": {
    "state": {
     "90e964f0e95a4209bdf93414ba48dfff": {
      "buffers": [
       {
        "data": "qqqqqqqqQEAjIOn3pVtIQKHPp5/vizNASiOdiNeoV0Ato4HTLvZEQA==",
        "encoding": "base64",
        "path": [
         "_data",
         0,
         "y",
         "value"
        ]
       },
       {
        "data": "qqqqqqqqQEATiwYnkMUgQJWTMF+dlTZAeY9WI99YCED2Vun+q1RDQA==",
        "encoding": "base64",
        "path": [
         "_data",
         1,
         "y",
         "value"
        ]
       },
       {
        "data": "nAYZZb4jPkCnuWya4BgjQJWTMF+dlTZAG0cYLa8jQUAto4HTLvZEQA==",
        "encoding": "base64",
        "path": [
         "_data",
         2,
         "y",
         "value"
        ]
       }
      ],
      "model_module": "plotlywidget",
      "model_module_version": "^4.8.0",
      "model_name": "FigureModel",
      "state": {
       "_config": {
        "plotlyServerURL": "https://plot.ly"
       },
       "_data": [
        {
         "name": "0",
         "showlegend": true,
         "type": "scatter",
         "uid": "2da587ad-9a91-4987-bffc-3115877a301a",
         "x": [
          0,
          1,
          2,
          3,
          4
         ],
         "y": {
          "dtype": "float64",
          "shape": [
           5
          ]
         }
        },
        {
         "name": "1",
         "showlegend": true,
         "type": "scatter",
         "uid": "3d0978c9-70a9-4130-8a02-65d0fdf3576a",
         "x": [
          0,
          1,
          2,
          3,
          4
         ],
         "y": {
          "dtype": "float64",
          "shape": [
           5
          ]
         }
        },
        {
         "name": "2",
         "showlegend": true,
         "type": "scatter",
         "uid": "61ef1751-88dc-4695-8bbc-f386acc15501",
         "x": [
          0,
          1,
          2,
          3,
          4
         ],
         "y": {
          "dtype": "float64",
          "shape": [
           5
          ]
         }
        }
       ],
       "_js2py_pointsCallback": {},
       "_js2py_relayout": {},
       "_js2py_restyle": {},
       "_js2py_update": {},
       "_last_layout_edit_id": 5,
       "_last_trace_edit_id": 5,
       "_layout": {
        "autosize": false,
        "colorway": [
         "#1f77b4",
         "#ff7f0e",
         "#2ca02c",
         "#dc3912",
         "#9467bd",
         "#8c564b",
         "#e377c2",
         "#7f7f7f",
         "#bcbd22",
         "#17becf"
        ],
        "height": 300,
        "hovermode": "closest",
        "margin": {
         "b": 30,
         "t": 30
        },
        "template": {
         "data": {
          "bar": [
           {
            "error_x": {
             "color": "#2a3f5f"
            },
            "error_y": {
             "color": "#2a3f5f"
            },
            "marker": {
             "line": {
              "color": "#E5ECF6",
              "width": 0.5
             }
            },
            "type": "bar"
           }
          ],
          "barpolar": [
           {
            "marker": {
             "line": {
              "color": "#E5ECF6",
              "width": 0.5
             }
            },
            "type": "barpolar"
           }
          ],
          "carpet": [
           {
            "aaxis": {
             "endlinecolor": "#2a3f5f",
             "gridcolor": "white",
             "linecolor": "white",
             "minorgridcolor": "white",
             "startlinecolor": "#2a3f5f"
            },
            "baxis": {
             "endlinecolor": "#2a3f5f",
             "gridcolor": "white",
             "linecolor": "white",
             "minorgridcolor": "white",
             "startlinecolor": "#2a3f5f"
            },
            "type": "carpet"
           }
          ],
          "choropleth": [
           {
            "colorbar": {
             "outlinewidth": 0,
             "ticks": ""
            },
            "type": "choropleth"
           }
          ],
          "contour": [
           {
            "colorbar": {
             "outlinewidth": 0,
             "ticks": ""
            },
            "colorscale": [
             [
              0,
              "#0d0887"
             ],
             [
              0.1111111111111111,
              "#46039f"
             ],
             [
              0.2222222222222222,
              "#7201a8"
             ],
             [
              0.3333333333333333,
              "#9c179e"
             ],
             [
              0.4444444444444444,
              "#bd3786"
             ],
             [
              0.5555555555555556,
              "#d8576b"
             ],
             [
              0.6666666666666666,
              "#ed7953"
             ],
             [
              0.7777777777777778,
              "#fb9f3a"
             ],
             [
              0.8888888888888888,
              "#fdca26"
             ],
             [
              1,
              "#f0f921"
             ]
            ],
            "type": "contour"
           }
          ],
          "contourcarpet": [
           {
            "colorbar": {
             "outlinewidth": 0,
             "ticks": ""
            },
            "type": "contourcarpet"
           }
          ],
          "heatmap": [
           {
            "colorbar": {
             "outlinewidth": 0,
             "ticks": ""
            },
            "colorscale": [
             [
              0,
              "#0d0887"
             ],
             [
              0.1111111111111111,
              "#46039f"
             ],
             [
              0.2222222222222222,
              "#7201a8"
             ],
             [
              0.3333333333333333,
              "#9c179e"
             ],
             [
              0.4444444444444444,
              "#bd3786"
             ],
             [
              0.5555555555555556,
              "#d8576b"
             ],
             [
              0.6666666666666666,
              "#ed7953"
             ],
             [
              0.7777777777777778,
              "#fb9f3a"
             ],
             [
              0.8888888888888888,
              "#fdca26"
             ],
             [
              1,
              "#f0f921"
             ]
            ],
            "type": "heatmap"
           }
          ],
          "heatmapgl": [
           {
            "colorbar": {
             "outlinewidth": 0,
             "ticks": ""
            },
            "colorscale": [
             [
              0,
              "#0d0887"
             ],
             [
              0.1111111111111111,
              "#46039f"
             ],
             [
              0.2222222222222222,
              "#7201a8"
             ],
             [
              0.3333333333333333,
              "#9c179e"
             ],
             [
              0.4444444444444444,
              "#bd3786"
             ],
             [
              0.5555555555555556,
              "#d8576b"
             ],
             [
              0.6666666666666666,
              "#ed7953"
             ],
             [
              0.7777777777777778,
              "#fb9f3a"
             ],
             [
              0.8888888888888888,
              "#fdca26"
             ],
             [
              1,
              "#f0f921"
             ]
            ],
            "type": "heatmapgl"
           }
          ],
          "histogram": [
           {
            "marker": {
             "colorbar": {
              "outlinewidth": 0,
              "ticks": ""
             }
            },
            "type": "histogram"
           }
          ],
          "histogram2d": [
           {
            "colorbar": {
             "outlinewidth": 0,
             "ticks": ""
            },
            "colorscale": [
             [
              0,
              "#0d0887"
             ],
             [
              0.1111111111111111,
              "#46039f"
             ],
             [
              0.2222222222222222,
              "#7201a8"
             ],
             [
              0.3333333333333333,
              "#9c179e"
             ],
             [
              0.4444444444444444,
              "#bd3786"
             ],
             [
              0.5555555555555556,
              "#d8576b"
             ],
             [
              0.6666666666666666,
              "#ed7953"
             ],
             [
              0.7777777777777778,
              "#fb9f3a"
             ],
             [
              0.8888888888888888,
              "#fdca26"
             ],
             [
              1,
              "#f0f921"
             ]
            ],
            "type": "histogram2d"
           }
          ],
          "histogram2dcontour": [
           {
            "colorbar": {
             "outlinewidth": 0,
             "ticks": ""
            },
            "colorscale": [
             [
              0,
              "#0d0887"
             ],
             [
              0.1111111111111111,
              "#46039f"
             ],
             [
              0.2222222222222222,
              "#7201a8"
             ],
             [
              0.3333333333333333,
              "#9c179e"
             ],
             [
              0.4444444444444444,
              "#bd3786"
             ],
             [
              0.5555555555555556,
              "#d8576b"
             ],
             [
              0.6666666666666666,
              "#ed7953"
             ],
             [
              0.7777777777777778,
              "#fb9f3a"
             ],
             [
              0.8888888888888888,
              "#fdca26"
             ],
             [
              1,
              "#f0f921"
             ]
            ],
            "type": "histogram2dcontour"
           }
          ],
          "mesh3d": [
           {
            "colorbar": {
             "outlinewidth": 0,
             "ticks": ""
            },
            "type": "mesh3d"
           }
          ],
          "parcoords": [
           {
            "line": {
             "colorbar": {
              "outlinewidth": 0,
              "ticks": ""
             }
            },
            "type": "parcoords"
           }
          ],
          "pie": [
           {
            "automargin": true,
            "type": "pie"
           }
          ],
          "scatter": [
           {
            "marker": {
             "colorbar": {
              "outlinewidth": 0,
              "ticks": ""
             }
            },
            "type": "scatter"
           }
          ],
          "scatter3d": [
           {
            "line": {
             "colorbar": {
              "outlinewidth": 0,
              "ticks": ""
             }
            },
            "marker": {
             "colorbar": {
              "outlinewidth": 0,
              "ticks": ""
             }
            },
            "type": "scatter3d"
           }
          ],
          "scattercarpet": [
           {
            "marker": {
             "colorbar": {
              "outlinewidth": 0,
              "ticks": ""
             }
            },
            "type": "scattercarpet"
           }
          ],
          "scattergeo": [
           {
            "marker": {
             "colorbar": {
              "outlinewidth": 0,
              "ticks": ""
             }
            },
            "type": "scattergeo"
           }
          ],
          "scattergl": [
           {
            "marker": {
             "colorbar": {
              "outlinewidth": 0,
              "ticks": ""
             }
            },
            "type": "scattergl"
           }
          ],
          "scattermapbox": [
           {
            "marker": {
             "colorbar": {
              "outlinewidth": 0,
              "ticks": ""
             }
            },
            "type": "scattermapbox"
           }
          ],
          "scatterpolar": [
           {
            "marker": {
             "colorbar": {
              "outlinewidth": 0,
              "ticks": ""
             }
            },
            "type": "scatterpolar"
           }
          ],
          "scatterpolargl": [
           {
            "marker": {
             "colorbar": {
              "outlinewidth": 0,
              "ticks": ""
             }
            },
            "type": "scatterpolargl"
           }
          ],
          "scatterternary": [
           {
            "marker": {
             "colorbar": {
              "outlinewidth": 0,
              "ticks": ""
             }
            },
            "type": "scatterternary"
           }
          ],
          "surface": [
           {
            "colorbar": {
             "outlinewidth": 0,
             "ticks": ""
            },
            "colorscale": [
             [
              0,
              "#0d0887"
             ],
             [
              0.1111111111111111,
              "#46039f"
             ],
             [
              0.2222222222222222,
              "#7201a8"
             ],
             [
              0.3333333333333333,
              "#9c179e"
             ],
             [
              0.4444444444444444,
              "#bd3786"
             ],
             [
              0.5555555555555556,
              "#d8576b"
             ],
             [
              0.6666666666666666,
              "#ed7953"
             ],
             [
              0.7777777777777778,
              "#fb9f3a"
             ],
             [
              0.8888888888888888,
              "#fdca26"
             ],
             [
              1,
              "#f0f921"
             ]
            ],
            "type": "surface"
           }
          ],
          "table": [
           {
            "cells": {
             "fill": {
              "color": "#EBF0F8"
             },
             "line": {
              "color": "white"
             }
            },
            "header": {
             "fill": {
              "color": "#C8D4E3"
             },
             "line": {
              "color": "white"
             }
            },
            "type": "table"
           }
          ]
         },
         "layout": {
          "annotationdefaults": {
           "arrowcolor": "#2a3f5f",
           "arrowhead": 0,
           "arrowwidth": 1
          },
          "coloraxis": {
           "colorbar": {
            "outlinewidth": 0,
            "ticks": ""
           }
          },
          "colorscale": {
           "diverging": [
            [
             0,
             "#8e0152"
            ],
            [
             0.1,
             "#c51b7d"
            ],
            [
             0.2,
             "#de77ae"
            ],
            [
             0.3,
             "#f1b6da"
            ],
            [
             0.4,
             "#fde0ef"
            ],
            [
             0.5,
             "#f7f7f7"
            ],
            [
             0.6,
             "#e6f5d0"
            ],
            [
             0.7,
             "#b8e186"
            ],
            [
             0.8,
             "#7fbc41"
            ],
            [
             0.9,
             "#4d9221"
            ],
            [
             1,
             "#276419"
            ]
           ],
           "sequential": [
            [
             0,
             "#0d0887"
            ],
            [
             0.1111111111111111,
             "#46039f"
            ],
            [
             0.2222222222222222,
             "#7201a8"
            ],
            [
             0.3333333333333333,
             "#9c179e"
            ],
            [
             0.4444444444444444,
             "#bd3786"
            ],
            [
             0.5555555555555556,
             "#d8576b"
            ],
            [
             0.6666666666666666,
             "#ed7953"
            ],
            [
             0.7777777777777778,
             "#fb9f3a"
            ],
            [
             0.8888888888888888,
             "#fdca26"
            ],
            [
             1,
             "#f0f921"
            ]
           ],
           "sequentialminus": [
            [
             0,
             "#0d0887"
            ],
            [
             0.1111111111111111,
             "#46039f"
            ],
            [
             0.2222222222222222,
             "#7201a8"
            ],
            [
             0.3333333333333333,
             "#9c179e"
            ],
            [
             0.4444444444444444,
             "#bd3786"
            ],
            [
             0.5555555555555556,
             "#d8576b"
            ],
            [
             0.6666666666666666,
             "#ed7953"
            ],
            [
             0.7777777777777778,
             "#fb9f3a"
            ],
            [
             0.8888888888888888,
             "#fdca26"
            ],
            [
             1,
             "#f0f921"
            ]
           ]
          },
          "colorway": [
           "#636efa",
           "#EF553B",
           "#00cc96",
           "#ab63fa",
           "#FFA15A",
           "#19d3f3",
           "#FF6692",
           "#B6E880",
           "#FF97FF",
           "#FECB52"
          ],
          "font": {
           "color": "#2a3f5f"
          },
          "geo": {
           "bgcolor": "white",
           "lakecolor": "white",
           "landcolor": "#E5ECF6",
           "showlakes": true,
           "showland": true,
           "subunitcolor": "white"
          },
          "hoverlabel": {
           "align": "left"
          },
          "hovermode": "closest",
          "mapbox": {
           "style": "light"
          },
          "paper_bgcolor": "white",
          "plot_bgcolor": "#E5ECF6",
          "polar": {
           "angularaxis": {
            "gridcolor": "white",
            "linecolor": "white",
            "ticks": ""
           },
           "bgcolor": "#E5ECF6",
           "radialaxis": {
            "gridcolor": "white",
            "linecolor": "white",
            "ticks": ""
           }
          },
          "scene": {
           "xaxis": {
            "backgroundcolor": "#E5ECF6",
            "gridcolor": "white",
            "gridwidth": 2,
            "linecolor": "white",
            "showbackground": true,
            "ticks": "",
            "zerolinecolor": "white"
           },
           "yaxis": {
            "backgroundcolor": "#E5ECF6",
            "gridcolor": "white",
            "gridwidth": 2,
            "linecolor": "white",
            "showbackground": true,
            "ticks": "",
            "zerolinecolor": "white"
           },
           "zaxis": {
            "backgroundcolor": "#E5ECF6",
            "gridcolor": "white",
            "gridwidth": 2,
            "linecolor": "white",
            "showbackground": true,
            "ticks": "",
            "zerolinecolor": "white"
           }
          },
          "shapedefaults": {
           "line": {
            "color": "#2a3f5f"
           }
          },
          "ternary": {
           "aaxis": {
            "gridcolor": "white",
            "linecolor": "white",
            "ticks": ""
           },
           "baxis": {
            "gridcolor": "white",
            "linecolor": "white",
            "ticks": ""
           },
           "bgcolor": "#E5ECF6",
           "caxis": {
            "gridcolor": "white",
            "linecolor": "white",
            "ticks": ""
           }
          },
          "title": {
           "x": 0.05
          },
          "xaxis": {
           "automargin": true,
           "gridcolor": "white",
           "linecolor": "white",
           "ticks": "",
           "title": {
            "standoff": 15
           },
           "zerolinecolor": "white",
           "zerolinewidth": 2
          },
          "yaxis": {
           "automargin": true,
           "gridcolor": "white",
           "linecolor": "white",
           "ticks": "",
           "title": {
            "standoff": 15
           },
           "zerolinecolor": "white",
           "zerolinewidth": 2
          }
         }
        },
        "width": 700
       },
       "_model_module_version": "^4.8.0",
       "_py2js_animate": {},
       "_py2js_deleteTraces": {},
       "_py2js_moveTraces": {},
       "_py2js_removeLayoutProps": {},
       "_py2js_removeTraceProps": {},
       "_py2js_restyle": {},
       "_view_count": 1,
       "_view_module_version": "^4.8.0"
      }
     },
     "9792e5f1456646038a55ba0857bbf403": {
      "buffers": [
       {
        "data": "qqqqqqqqQEAjIOn3pVtIQKHPp5/vizNASiOdiNeoV0Ato4HTLvZEQA==",
        "encoding": "base64",
        "path": [
         "_data",
         0,
         "y",
         "value"
        ]
       },
       {
        "data": "qqqqqqqqQEATiwYnkMUgQJWTMF+dlTZAeY9WI99YCED2Vun+q1RDQA==",
        "encoding": "base64",
        "path": [
         "_data",
         1,
         "y",
         "value"
        ]
       },
       {
        "data": "nAYZZb4jPkCnuWya4BgjQJWTMF+dlTZAG0cYLa8jQUAto4HTLvZEQA==",
        "encoding": "base64",
        "path": [
         "_data",
         2,
         "y",
         "value"
        ]
       }
      ],
      "model_module": "plotlywidget",
      "model_module_version": "^4.8.0",
      "model_name": "FigureModel",
      "state": {
       "_config": {
        "plotlyServerURL": "https://plot.ly"
       },
       "_data": [
        {
         "name": "0",
         "showlegend": true,
         "type": "scatter",
         "uid": "f76c789e-82bd-4697-bd5f-4ed758533b32",
         "x": [
          0,
          1,
          2,
          3,
          4
         ],
         "y": {
          "dtype": "float64",
          "shape": [
           5
          ]
         }
        },
        {
         "name": "1",
         "showlegend": true,
         "type": "scatter",
         "uid": "7e038fc1-c4bd-41c1-be16-1201db415d02",
         "x": [
          0,
          1,
          2,
          3,
          4
         ],
         "y": {
          "dtype": "float64",
          "shape": [
           5
          ]
         }
        },
        {
         "name": "2",
         "showlegend": true,
         "type": "scatter",
         "uid": "67250246-b67b-4d57-9e53-df9dad930c43",
         "x": [
          0,
          1,
          2,
          3,
          4
         ],
         "y": {
          "dtype": "float64",
          "shape": [
           5
          ]
         }
        }
       ],
       "_js2py_pointsCallback": {},
       "_js2py_relayout": {},
       "_js2py_restyle": {},
       "_js2py_update": {},
       "_last_layout_edit_id": 5,
       "_last_trace_edit_id": 5,
       "_layout": {
        "autosize": false,
        "colorway": [
         "#1f77b4",
         "#ff7f0e",
         "#2ca02c",
         "#dc3912",
         "#9467bd",
         "#8c564b",
         "#e377c2",
         "#7f7f7f",
         "#bcbd22",
         "#17becf"
        ],
        "height": 300,
        "hovermode": "closest",
        "margin": {
         "b": 30,
         "t": 30
        },
        "template": {
         "data": {
          "bar": [
           {
            "error_x": {
             "color": "#2a3f5f"
            },
            "error_y": {
             "color": "#2a3f5f"
            },
            "marker": {
             "line": {
              "color": "#E5ECF6",
              "width": 0.5
             }
            },
            "type": "bar"
           }
          ],
          "barpolar": [
           {
            "marker": {
             "line": {
              "color": "#E5ECF6",
              "width": 0.5
             }
            },
            "type": "barpolar"
           }
          ],
          "carpet": [
           {
            "aaxis": {
             "endlinecolor": "#2a3f5f",
             "gridcolor": "white",
             "linecolor": "white",
             "minorgridcolor": "white",
             "startlinecolor": "#2a3f5f"
            },
            "baxis": {
             "endlinecolor": "#2a3f5f",
             "gridcolor": "white",
             "linecolor": "white",
             "minorgridcolor": "white",
             "startlinecolor": "#2a3f5f"
            },
            "type": "carpet"
           }
          ],
          "choropleth": [
           {
            "colorbar": {
             "outlinewidth": 0,
             "ticks": ""
            },
            "type": "choropleth"
           }
          ],
          "contour": [
           {
            "colorbar": {
             "outlinewidth": 0,
             "ticks": ""
            },
            "colorscale": [
             [
              0,
              "#0d0887"
             ],
             [
              0.1111111111111111,
              "#46039f"
             ],
             [
              0.2222222222222222,
              "#7201a8"
             ],
             [
              0.3333333333333333,
              "#9c179e"
             ],
             [
              0.4444444444444444,
              "#bd3786"
             ],
             [
              0.5555555555555556,
              "#d8576b"
             ],
             [
              0.6666666666666666,
              "#ed7953"
             ],
             [
              0.7777777777777778,
              "#fb9f3a"
             ],
             [
              0.8888888888888888,
              "#fdca26"
             ],
             [
              1,
              "#f0f921"
             ]
            ],
            "type": "contour"
           }
          ],
          "contourcarpet": [
           {
            "colorbar": {
             "outlinewidth": 0,
             "ticks": ""
            },
            "type": "contourcarpet"
           }
          ],
          "heatmap": [
           {
            "colorbar": {
             "outlinewidth": 0,
             "ticks": ""
            },
            "colorscale": [
             [
              0,
              "#0d0887"
             ],
             [
              0.1111111111111111,
              "#46039f"
             ],
             [
              0.2222222222222222,
              "#7201a8"
             ],
             [
              0.3333333333333333,
              "#9c179e"
             ],
             [
              0.4444444444444444,
              "#bd3786"
             ],
             [
              0.5555555555555556,
              "#d8576b"
             ],
             [
              0.6666666666666666,
              "#ed7953"
             ],
             [
              0.7777777777777778,
              "#fb9f3a"
             ],
             [
              0.8888888888888888,
              "#fdca26"
             ],
             [
              1,
              "#f0f921"
             ]
            ],
            "type": "heatmap"
           }
          ],
          "heatmapgl": [
           {
            "colorbar": {
             "outlinewidth": 0,
             "ticks": ""
            },
            "colorscale": [
             [
              0,
              "#0d0887"
             ],
             [
              0.1111111111111111,
              "#46039f"
             ],
             [
              0.2222222222222222,
              "#7201a8"
             ],
             [
              0.3333333333333333,
              "#9c179e"
             ],
             [
              0.4444444444444444,
              "#bd3786"
             ],
             [
              0.5555555555555556,
              "#d8576b"
             ],
             [
              0.6666666666666666,
              "#ed7953"
             ],
             [
              0.7777777777777778,
              "#fb9f3a"
             ],
             [
              0.8888888888888888,
              "#fdca26"
             ],
             [
              1,
              "#f0f921"
             ]
            ],
            "type": "heatmapgl"
           }
          ],
          "histogram": [
           {
            "marker": {
             "colorbar": {
              "outlinewidth": 0,
              "ticks": ""
             }
            },
            "type": "histogram"
           }
          ],
          "histogram2d": [
           {
            "colorbar": {
             "outlinewidth": 0,
             "ticks": ""
            },
            "colorscale": [
             [
              0,
              "#0d0887"
             ],
             [
              0.1111111111111111,
              "#46039f"
             ],
             [
              0.2222222222222222,
              "#7201a8"
             ],
             [
              0.3333333333333333,
              "#9c179e"
             ],
             [
              0.4444444444444444,
              "#bd3786"
             ],
             [
              0.5555555555555556,
              "#d8576b"
             ],
             [
              0.6666666666666666,
              "#ed7953"
             ],
             [
              0.7777777777777778,
              "#fb9f3a"
             ],
             [
              0.8888888888888888,
              "#fdca26"
             ],
             [
              1,
              "#f0f921"
             ]
            ],
            "type": "histogram2d"
           }
          ],
          "histogram2dcontour": [
           {
            "colorbar": {
             "outlinewidth": 0,
             "ticks": ""
            },
            "colorscale": [
             [
              0,
              "#0d0887"
             ],
             [
              0.1111111111111111,
              "#46039f"
             ],
             [
              0.2222222222222222,
              "#7201a8"
             ],
             [
              0.3333333333333333,
              "#9c179e"
             ],
             [
              0.4444444444444444,
              "#bd3786"
             ],
             [
              0.5555555555555556,
              "#d8576b"
             ],
             [
              0.6666666666666666,
              "#ed7953"
             ],
             [
              0.7777777777777778,
              "#fb9f3a"
             ],
             [
              0.8888888888888888,
              "#fdca26"
             ],
             [
              1,
              "#f0f921"
             ]
            ],
            "type": "histogram2dcontour"
           }
          ],
          "mesh3d": [
           {
            "colorbar": {
             "outlinewidth": 0,
             "ticks": ""
            },
            "type": "mesh3d"
           }
          ],
          "parcoords": [
           {
            "line": {
             "colorbar": {
              "outlinewidth": 0,
              "ticks": ""
             }
            },
            "type": "parcoords"
           }
          ],
          "pie": [
           {
            "automargin": true,
            "type": "pie"
           }
          ],
          "scatter": [
           {
            "marker": {
             "colorbar": {
              "outlinewidth": 0,
              "ticks": ""
             }
            },
            "type": "scatter"
           }
          ],
          "scatter3d": [
           {
            "line": {
             "colorbar": {
              "outlinewidth": 0,
              "ticks": ""
             }
            },
            "marker": {
             "colorbar": {
              "outlinewidth": 0,
              "ticks": ""
             }
            },
            "type": "scatter3d"
           }
          ],
          "scattercarpet": [
           {
            "marker": {
             "colorbar": {
              "outlinewidth": 0,
              "ticks": ""
             }
            },
            "type": "scattercarpet"
           }
          ],
          "scattergeo": [
           {
            "marker": {
             "colorbar": {
              "outlinewidth": 0,
              "ticks": ""
             }
            },
            "type": "scattergeo"
           }
          ],
          "scattergl": [
           {
            "marker": {
             "colorbar": {
              "outlinewidth": 0,
              "ticks": ""
             }
            },
            "type": "scattergl"
           }
          ],
          "scattermapbox": [
           {
            "marker": {
             "colorbar": {
              "outlinewidth": 0,
              "ticks": ""
             }
            },
            "type": "scattermapbox"
           }
          ],
          "scatterpolar": [
           {
            "marker": {
             "colorbar": {
              "outlinewidth": 0,
              "ticks": ""
             }
            },
            "type": "scatterpolar"
           }
          ],
          "scatterpolargl": [
           {
            "marker": {
             "colorbar": {
              "outlinewidth": 0,
              "ticks": ""
             }
            },
            "type": "scatterpolargl"
           }
          ],
          "scatterternary": [
           {
            "marker": {
             "colorbar": {
              "outlinewidth": 0,
              "ticks": ""
             }
            },
            "type": "scatterternary"
           }
          ],
          "surface": [
           {
            "colorbar": {
             "outlinewidth": 0,
             "ticks": ""
            },
            "colorscale": [
             [
              0,
              "#0d0887"
             ],
             [
              0.1111111111111111,
              "#46039f"
             ],
             [
              0.2222222222222222,
              "#7201a8"
             ],
             [
              0.3333333333333333,
              "#9c179e"
             ],
             [
              0.4444444444444444,
              "#bd3786"
             ],
             [
              0.5555555555555556,
              "#d8576b"
             ],
             [
              0.6666666666666666,
              "#ed7953"
             ],
             [
              0.7777777777777778,
              "#fb9f3a"
             ],
             [
              0.8888888888888888,
              "#fdca26"
             ],
             [
              1,
              "#f0f921"
             ]
            ],
            "type": "surface"
           }
          ],
          "table": [
           {
            "cells": {
             "fill": {
              "color": "#EBF0F8"
             },
             "line": {
              "color": "white"
             }
            },
            "header": {
             "fill": {
              "color": "#C8D4E3"
             },
             "line": {
              "color": "white"
             }
            },
            "type": "table"
           }
          ]
         },
         "layout": {
          "annotationdefaults": {
           "arrowcolor": "#2a3f5f",
           "arrowhead": 0,
           "arrowwidth": 1
          },
          "coloraxis": {
           "colorbar": {
            "outlinewidth": 0,
            "ticks": ""
           }
          },
          "colorscale": {
           "diverging": [
            [
             0,
             "#8e0152"
            ],
            [
             0.1,
             "#c51b7d"
            ],
            [
             0.2,
             "#de77ae"
            ],
            [
             0.3,
             "#f1b6da"
            ],
            [
             0.4,
             "#fde0ef"
            ],
            [
             0.5,
             "#f7f7f7"
            ],
            [
             0.6,
             "#e6f5d0"
            ],
            [
             0.7,
             "#b8e186"
            ],
            [
             0.8,
             "#7fbc41"
            ],
            [
             0.9,
             "#4d9221"
            ],
            [
             1,
             "#276419"
            ]
           ],
           "sequential": [
            [
             0,
             "#0d0887"
            ],
            [
             0.1111111111111111,
             "#46039f"
            ],
            [
             0.2222222222222222,
             "#7201a8"
            ],
            [
             0.3333333333333333,
             "#9c179e"
            ],
            [
             0.4444444444444444,
             "#bd3786"
            ],
            [
             0.5555555555555556,
             "#d8576b"
            ],
            [
             0.6666666666666666,
             "#ed7953"
            ],
            [
             0.7777777777777778,
             "#fb9f3a"
            ],
            [
             0.8888888888888888,
             "#fdca26"
            ],
            [
             1,
             "#f0f921"
            ]
           ],
           "sequentialminus": [
            [
             0,
             "#0d0887"
            ],
            [
             0.1111111111111111,
             "#46039f"
            ],
            [
             0.2222222222222222,
             "#7201a8"
            ],
            [
             0.3333333333333333,
             "#9c179e"
            ],
            [
             0.4444444444444444,
             "#bd3786"
            ],
            [
             0.5555555555555556,
             "#d8576b"
            ],
            [
             0.6666666666666666,
             "#ed7953"
            ],
            [
             0.7777777777777778,
             "#fb9f3a"
            ],
            [
             0.8888888888888888,
             "#fdca26"
            ],
            [
             1,
             "#f0f921"
            ]
           ]
          },
          "colorway": [
           "#636efa",
           "#EF553B",
           "#00cc96",
           "#ab63fa",
           "#FFA15A",
           "#19d3f3",
           "#FF6692",
           "#B6E880",
           "#FF97FF",
           "#FECB52"
          ],
          "font": {
           "color": "#2a3f5f"
          },
          "geo": {
           "bgcolor": "white",
           "lakecolor": "white",
           "landcolor": "#E5ECF6",
           "showlakes": true,
           "showland": true,
           "subunitcolor": "white"
          },
          "hoverlabel": {
           "align": "left"
          },
          "hovermode": "closest",
          "mapbox": {
           "style": "light"
          },
          "paper_bgcolor": "white",
          "plot_bgcolor": "#E5ECF6",
          "polar": {
           "angularaxis": {
            "gridcolor": "white",
            "linecolor": "white",
            "ticks": ""
           },
           "bgcolor": "#E5ECF6",
           "radialaxis": {
            "gridcolor": "white",
            "linecolor": "white",
            "ticks": ""
           }
          },
          "scene": {
           "xaxis": {
            "backgroundcolor": "#E5ECF6",
            "gridcolor": "white",
            "gridwidth": 2,
            "linecolor": "white",
            "showbackground": true,
            "ticks": "",
            "zerolinecolor": "white"
           },
           "yaxis": {
            "backgroundcolor": "#E5ECF6",
            "gridcolor": "white",
            "gridwidth": 2,
            "linecolor": "white",
            "showbackground": true,
            "ticks": "",
            "zerolinecolor": "white"
           },
           "zaxis": {
            "backgroundcolor": "#E5ECF6",
            "gridcolor": "white",
            "gridwidth": 2,
            "linecolor": "white",
            "showbackground": true,
            "ticks": "",
            "zerolinecolor": "white"
           }
          },
          "shapedefaults": {
           "line": {
            "color": "#2a3f5f"
           }
          },
          "ternary": {
           "aaxis": {
            "gridcolor": "white",
            "linecolor": "white",
            "ticks": ""
           },
           "baxis": {
            "gridcolor": "white",
            "linecolor": "white",
            "ticks": ""
           },
           "bgcolor": "#E5ECF6",
           "caxis": {
            "gridcolor": "white",
            "linecolor": "white",
            "ticks": ""
           }
          },
          "title": {
           "x": 0.05
          },
          "xaxis": {
           "automargin": true,
           "gridcolor": "white",
           "linecolor": "white",
           "ticks": "",
           "title": {
            "standoff": 15
           },
           "zerolinecolor": "white",
           "zerolinewidth": 2
          },
          "yaxis": {
           "automargin": true,
           "gridcolor": "white",
           "linecolor": "white",
           "ticks": "",
           "title": {
            "standoff": 15
           },
           "zerolinecolor": "white",
           "zerolinewidth": 2
          }
         }
        },
        "width": 700
       },
       "_model_module_version": "^4.8.0",
       "_py2js_animate": {},
       "_py2js_deleteTraces": {},
       "_py2js_moveTraces": {},
       "_py2js_removeLayoutProps": {},
       "_py2js_removeTraceProps": {},
       "_py2js_restyle": {},
       "_view_count": 0,
       "_view_module_version": "^4.8.0"
      }
     },
     "99f6693cf05c4449b2d6050e699470ee": {
      "buffers": [
       {
        "data": "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",
        "encoding": "base64",
        "path": [
         "_data",
         0,
         "y",
         "value"
        ]
       },
       {
        "data": "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",
        "encoding": "base64",
        "path": [
         "_data",
         1,
         "y",
         "value"
        ]
       },
       {
        "data": "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",
        "encoding": "base64",
        "path": [
         "_data",
         2,
         "y",
         "value"
        ]
       },
       {
        "data": "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",
        "encoding": "base64",
        "path": [
         "_data",
         3,
         "y",
         "value"
        ]
       },
       {
        "data": "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",
        "encoding": "base64",
        "path": [
         "_data",
         4,
         "y",
         "value"
        ]
       },
       {
        "data": "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",
        "encoding": "base64",
        "path": [
         "_data",
         5,
         "y",
         "value"
        ]
       }
      ],
      "model_module": "plotlywidget",
      "model_module_version": "^4.8.0",
      "model_name": "FigureModel",
      "state": {
       "_config": {
        "plotlyServerURL": "https://plot.ly"
       },
       "_data": [
        {
         "mode": "lines",
         "name": "BTC-USD",
         "showlegend": true,
         "type": "scatter",
         "uid": "5f8bac22-6880-455a-aa9e-f88197e9e92f",
         "x": [
          "2019-12-31T00:00:00.000000",
          "2020-01-01T00:00:00.000000",
          "2020-01-02T00:00:00.000000",
          "2020-01-03T00:00:00.000000",
          "2020-01-04T00:00:00.000000",
          "2020-01-05T00:00:00.000000",
          "2020-01-06T00:00:00.000000",
          "2020-01-07T00:00:00.000000",
          "2020-01-08T00:00:00.000000",
          "2020-01-09T00:00:00.000000",
          "2020-01-10T00:00:00.000000",
          "2020-01-11T00:00:00.000000",
          "2020-01-12T00:00:00.000000",
          "2020-01-13T00:00:00.000000",
          "2020-01-14T00:00:00.000000",
          "2020-01-15T00:00:00.000000",
          "2020-01-16T00:00:00.000000",
          "2020-01-17T00:00:00.000000",
          "2020-01-18T00:00:00.000000",
          "2020-01-19T00:00:00.000000",
          "2020-01-20T00:00:00.000000",
          "2020-01-21T00:00:00.000000",
          "2020-01-22T00:00:00.000000",
          "2020-01-23T00:00:00.000000",
          "2020-01-24T00:00:00.000000",
          "2020-01-25T00:00:00.000000",
          "2020-01-26T00:00:00.000000",
          "2020-01-27T00:00:00.000000",
          "2020-01-28T00:00:00.000000",
          "2020-01-29T00:00:00.000000",
          "2020-01-30T00:00:00.000000",
          "2020-01-31T00:00:00.000000",
          "2020-02-01T00:00:00.000000",
          "2020-02-02T00:00:00.000000",
          "2020-02-03T00:00:00.000000",
          "2020-02-04T00:00:00.000000",
          "2020-02-05T00:00:00.000000",
          "2020-02-06T00:00:00.000000",
          "2020-02-07T00:00:00.000000",
          "2020-02-08T00:00:00.000000",
          "2020-02-09T00:00:00.000000",
          "2020-02-10T00:00:00.000000",
          "2020-02-11T00:00:00.000000",
          "2020-02-12T00:00:00.000000",
          "2020-02-13T00:00:00.000000",
          "2020-02-14T00:00:00.000000",
          "2020-02-15T00:00:00.000000",
          "2020-02-16T00:00:00.000000",
          "2020-02-17T00:00:00.000000",
          "2020-02-18T00:00:00.000000",
          "2020-02-19T00:00:00.000000",
          "2020-02-20T00:00:00.000000",
          "2020-02-21T00:00:00.000000",
          "2020-02-22T00:00:00.000000",
          "2020-02-23T00:00:00.000000",
          "2020-02-24T00:00:00.000000",
          "2020-02-25T00:00:00.000000",
          "2020-02-26T00:00:00.000000",
          "2020-02-27T00:00:00.000000",
          "2020-02-28T00:00:00.000000",
          "2020-02-29T00:00:00.000000",
          "2020-03-01T00:00:00.000000",
          "2020-03-02T00:00:00.000000",
          "2020-03-03T00:00:00.000000",
          "2020-03-04T00:00:00.000000",
          "2020-03-05T00:00:00.000000",
          "2020-03-06T00:00:00.000000",
          "2020-03-07T00:00:00.000000",
          "2020-03-08T00:00:00.000000",
          "2020-03-09T00:00:00.000000",
          "2020-03-10T00:00:00.000000",
          "2020-03-11T00:00:00.000000",
          "2020-03-12T00:00:00.000000",
          "2020-03-13T00:00:00.000000",
          "2020-03-14T00:00:00.000000",
          "2020-03-15T00:00:00.000000",
          "2020-03-16T00:00:00.000000",
          "2020-03-17T00:00:00.000000",
          "2020-03-18T00:00:00.000000",
          "2020-03-19T00:00:00.000000",
          "2020-03-20T00:00:00.000000",
          "2020-03-21T00:00:00.000000",
          "2020-03-22T00:00:00.000000",
          "2020-03-23T00:00:00.000000",
          "2020-03-24T00:00:00.000000",
          "2020-03-25T00:00:00.000000",
          "2020-03-26T00:00:00.000000",
          "2020-03-27T00:00:00.000000",
          "2020-03-28T00:00:00.000000",
          "2020-03-29T00:00:00.000000",
          "2020-03-30T00:00:00.000000",
          "2020-03-31T00:00:00.000000",
          "2020-04-01T00:00:00.000000",
          "2020-04-02T00:00:00.000000",
          "2020-04-03T00:00:00.000000",
          "2020-04-04T00:00:00.000000",
          "2020-04-05T00:00:00.000000",
          "2020-04-06T00:00:00.000000",
          "2020-04-07T00:00:00.000000",
          "2020-04-08T00:00:00.000000",
          "2020-04-09T00:00:00.000000",
          "2020-04-10T00:00:00.000000",
          "2020-04-11T00:00:00.000000",
          "2020-04-12T00:00:00.000000",
          "2020-04-13T00:00:00.000000",
          "2020-04-14T00:00:00.000000",
          "2020-04-15T00:00:00.000000",
          "2020-04-16T00:00:00.000000",
          "2020-04-17T00:00:00.000000",
          "2020-04-18T00:00:00.000000",
          "2020-04-19T00:00:00.000000",
          "2020-04-20T00:00:00.000000",
          "2020-04-21T00:00:00.000000",
          "2020-04-22T00:00:00.000000",
          "2020-04-23T00:00:00.000000",
          "2020-04-24T00:00:00.000000",
          "2020-04-25T00:00:00.000000",
          "2020-04-26T00:00:00.000000",
          "2020-04-27T00:00:00.000000",
          "2020-04-28T00:00:00.000000",
          "2020-04-29T00:00:00.000000",
          "2020-04-30T00:00:00.000000",
          "2020-05-01T00:00:00.000000",
          "2020-05-02T00:00:00.000000",
          "2020-05-03T00:00:00.000000",
          "2020-05-04T00:00:00.000000",
          "2020-05-05T00:00:00.000000",
          "2020-05-06T00:00:00.000000",
          "2020-05-07T00:00:00.000000",
          "2020-05-08T00:00:00.000000",
          "2020-05-09T00:00:00.000000",
          "2020-05-10T00:00:00.000000",
          "2020-05-11T00:00:00.000000",
          "2020-05-12T00:00:00.000000",
          "2020-05-13T00:00:00.000000",
          "2020-05-14T00:00:00.000000",
          "2020-05-15T00:00:00.000000",
          "2020-05-16T00:00:00.000000",
          "2020-05-17T00:00:00.000000",
          "2020-05-18T00:00:00.000000",
          "2020-05-19T00:00:00.000000",
          "2020-05-20T00:00:00.000000",
          "2020-05-21T00:00:00.000000",
          "2020-05-22T00:00:00.000000",
          "2020-05-23T00:00:00.000000",
          "2020-05-24T00:00:00.000000",
          "2020-05-25T00:00:00.000000",
          "2020-05-26T00:00:00.000000",
          "2020-05-27T00:00:00.000000",
          "2020-05-28T00:00:00.000000",
          "2020-05-29T00:00:00.000000",
          "2020-05-30T00:00:00.000000",
          "2020-05-31T00:00:00.000000",
          "2020-06-01T00:00:00.000000",
          "2020-06-02T00:00:00.000000",
          "2020-06-03T00:00:00.000000",
          "2020-06-04T00:00:00.000000",
          "2020-06-05T00:00:00.000000",
          "2020-06-06T00:00:00.000000",
          "2020-06-07T00:00:00.000000",
          "2020-06-08T00:00:00.000000",
          "2020-06-09T00:00:00.000000",
          "2020-06-10T00:00:00.000000",
          "2020-06-11T00:00:00.000000",
          "2020-06-12T00:00:00.000000",
          "2020-06-13T00:00:00.000000",
          "2020-06-14T00:00:00.000000",
          "2020-06-15T00:00:00.000000",
          "2020-06-16T00:00:00.000000",
          "2020-06-17T00:00:00.000000",
          "2020-06-18T00:00:00.000000",
          "2020-06-19T00:00:00.000000",
          "2020-06-20T00:00:00.000000",
          "2020-06-21T00:00:00.000000",
          "2020-06-22T00:00:00.000000",
          "2020-06-23T00:00:00.000000",
          "2020-06-24T00:00:00.000000",
          "2020-06-25T00:00:00.000000",
          "2020-06-26T00:00:00.000000",
          "2020-06-27T00:00:00.000000",
          "2020-06-28T00:00:00.000000",
          "2020-06-29T00:00:00.000000",
          "2020-06-30T00:00:00.000000",
          "2020-07-01T00:00:00.000000",
          "2020-07-02T00:00:00.000000",
          "2020-07-03T00:00:00.000000",
          "2020-07-04T00:00:00.000000",
          "2020-07-05T00:00:00.000000",
          "2020-07-06T00:00:00.000000",
          "2020-07-07T00:00:00.000000",
          "2020-07-08T00:00:00.000000",
          "2020-07-09T00:00:00.000000",
          "2020-07-10T00:00:00.000000",
          "2020-07-11T00:00:00.000000",
          "2020-07-12T00:00:00.000000",
          "2020-07-13T00:00:00.000000",
          "2020-07-14T00:00:00.000000",
          "2020-07-15T00:00:00.000000",
          "2020-07-16T00:00:00.000000",
          "2020-07-17T00:00:00.000000",
          "2020-07-18T00:00:00.000000",
          "2020-07-19T00:00:00.000000",
          "2020-07-20T00:00:00.000000",
          "2020-07-21T00:00:00.000000",
          "2020-07-22T00:00:00.000000",
          "2020-07-23T00:00:00.000000",
          "2020-07-24T00:00:00.000000",
          "2020-07-25T00:00:00.000000",
          "2020-07-26T00:00:00.000000",
          "2020-07-27T00:00:00.000000",
          "2020-07-28T00:00:00.000000",
          "2020-07-29T00:00:00.000000",
          "2020-07-30T00:00:00.000000",
          "2020-07-31T00:00:00.000000",
          "2020-08-01T00:00:00.000000",
          "2020-08-02T00:00:00.000000",
          "2020-08-03T00:00:00.000000",
          "2020-08-04T00:00:00.000000",
          "2020-08-05T00:00:00.000000",
          "2020-08-06T00:00:00.000000",
          "2020-08-07T00:00:00.000000",
          "2020-08-08T00:00:00.000000",
          "2020-08-09T00:00:00.000000",
          "2020-08-10T00:00:00.000000",
          "2020-08-11T00:00:00.000000",
          "2020-08-12T00:00:00.000000",
          "2020-08-13T00:00:00.000000",
          "2020-08-14T00:00:00.000000",
          "2020-08-15T00:00:00.000000",
          "2020-08-16T00:00:00.000000",
          "2020-08-17T00:00:00.000000",
          "2020-08-18T00:00:00.000000",
          "2020-08-19T00:00:00.000000",
          "2020-08-20T00:00:00.000000",
          "2020-08-21T00:00:00.000000",
          "2020-08-22T00:00:00.000000",
          "2020-08-23T00:00:00.000000",
          "2020-08-24T00:00:00.000000",
          "2020-08-25T00:00:00.000000",
          "2020-08-26T00:00:00.000000",
          "2020-08-27T00:00:00.000000",
          "2020-08-28T00:00:00.000000",
          "2020-08-29T00:00:00.000000",
          "2020-08-30T00:00:00.000000",
          "2020-08-31T00:00:00.000000"
         ],
         "y": {
          "dtype": "float64",
          "shape": [
           245
          ]
         }
        },
        {
         "mode": "lines",
         "name": "ETH-USD",
         "showlegend": true,
         "type": "scatter",
         "uid": "88089a43-cff5-418b-8074-cc35b403f359",
         "x": [
          "2019-12-31T00:00:00.000000",
          "2020-01-01T00:00:00.000000",
          "2020-01-02T00:00:00.000000",
          "2020-01-03T00:00:00.000000",
          "2020-01-04T00:00:00.000000",
          "2020-01-05T00:00:00.000000",
          "2020-01-06T00:00:00.000000",
          "2020-01-07T00:00:00.000000",
          "2020-01-08T00:00:00.000000",
          "2020-01-09T00:00:00.000000",
          "2020-01-10T00:00:00.000000",
          "2020-01-11T00:00:00.000000",
          "2020-01-12T00:00:00.000000",
          "2020-01-13T00:00:00.000000",
          "2020-01-14T00:00:00.000000",
          "2020-01-15T00:00:00.000000",
          "2020-01-16T00:00:00.000000",
          "2020-01-17T00:00:00.000000",
          "2020-01-18T00:00:00.000000",
          "2020-01-19T00:00:00.000000",
          "2020-01-20T00:00:00.000000",
          "2020-01-21T00:00:00.000000",
          "2020-01-22T00:00:00.000000",
          "2020-01-23T00:00:00.000000",
          "2020-01-24T00:00:00.000000",
          "2020-01-25T00:00:00.000000",
          "2020-01-26T00:00:00.000000",
          "2020-01-27T00:00:00.000000",
          "2020-01-28T00:00:00.000000",
          "2020-01-29T00:00:00.000000",
          "2020-01-30T00:00:00.000000",
          "2020-01-31T00:00:00.000000",
          "2020-02-01T00:00:00.000000",
          "2020-02-02T00:00:00.000000",
          "2020-02-03T00:00:00.000000",
          "2020-02-04T00:00:00.000000",
          "2020-02-05T00:00:00.000000",
          "2020-02-06T00:00:00.000000",
          "2020-02-07T00:00:00.000000",
          "2020-02-08T00:00:00.000000",
          "2020-02-09T00:00:00.000000",
          "2020-02-10T00:00:00.000000",
          "2020-02-11T00:00:00.000000",
          "2020-02-12T00:00:00.000000",
          "2020-02-13T00:00:00.000000",
          "2020-02-14T00:00:00.000000",
          "2020-02-15T00:00:00.000000",
          "2020-02-16T00:00:00.000000",
          "2020-02-17T00:00:00.000000",
          "2020-02-18T00:00:00.000000",
          "2020-02-19T00:00:00.000000",
          "2020-02-20T00:00:00.000000",
          "2020-02-21T00:00:00.000000",
          "2020-02-22T00:00:00.000000",
          "2020-02-23T00:00:00.000000",
          "2020-02-24T00:00:00.000000",
          "2020-02-25T00:00:00.000000",
          "2020-02-26T00:00:00.000000",
          "2020-02-27T00:00:00.000000",
          "2020-02-28T00:00:00.000000",
          "2020-02-29T00:00:00.000000",
          "2020-03-01T00:00:00.000000",
          "2020-03-02T00:00:00.000000",
          "2020-03-03T00:00:00.000000",
          "2020-03-04T00:00:00.000000",
          "2020-03-05T00:00:00.000000",
          "2020-03-06T00:00:00.000000",
          "2020-03-07T00:00:00.000000",
          "2020-03-08T00:00:00.000000",
          "2020-03-09T00:00:00.000000",
          "2020-03-10T00:00:00.000000",
          "2020-03-11T00:00:00.000000",
          "2020-03-12T00:00:00.000000",
          "2020-03-13T00:00:00.000000",
          "2020-03-14T00:00:00.000000",
          "2020-03-15T00:00:00.000000",
          "2020-03-16T00:00:00.000000",
          "2020-03-17T00:00:00.000000",
          "2020-03-18T00:00:00.000000",
          "2020-03-19T00:00:00.000000",
          "2020-03-20T00:00:00.000000",
          "2020-03-21T00:00:00.000000",
          "2020-03-22T00:00:00.000000",
          "2020-03-23T00:00:00.000000",
          "2020-03-24T00:00:00.000000",
          "2020-03-25T00:00:00.000000",
          "2020-03-26T00:00:00.000000",
          "2020-03-27T00:00:00.000000",
          "2020-03-28T00:00:00.000000",
          "2020-03-29T00:00:00.000000",
          "2020-03-30T00:00:00.000000",
          "2020-03-31T00:00:00.000000",
          "2020-04-01T00:00:00.000000",
          "2020-04-02T00:00:00.000000",
          "2020-04-03T00:00:00.000000",
          "2020-04-04T00:00:00.000000",
          "2020-04-05T00:00:00.000000",
          "2020-04-06T00:00:00.000000",
          "2020-04-07T00:00:00.000000",
          "2020-04-08T00:00:00.000000",
          "2020-04-09T00:00:00.000000",
          "2020-04-10T00:00:00.000000",
          "2020-04-11T00:00:00.000000",
          "2020-04-12T00:00:00.000000",
          "2020-04-13T00:00:00.000000",
          "2020-04-14T00:00:00.000000",
          "2020-04-15T00:00:00.000000",
          "2020-04-16T00:00:00.000000",
          "2020-04-17T00:00:00.000000",
          "2020-04-18T00:00:00.000000",
          "2020-04-19T00:00:00.000000",
          "2020-04-20T00:00:00.000000",
          "2020-04-21T00:00:00.000000",
          "2020-04-22T00:00:00.000000",
          "2020-04-23T00:00:00.000000",
          "2020-04-24T00:00:00.000000",
          "2020-04-25T00:00:00.000000",
          "2020-04-26T00:00:00.000000",
          "2020-04-27T00:00:00.000000",
          "2020-04-28T00:00:00.000000",
          "2020-04-29T00:00:00.000000",
          "2020-04-30T00:00:00.000000",
          "2020-05-01T00:00:00.000000",
          "2020-05-02T00:00:00.000000",
          "2020-05-03T00:00:00.000000",
          "2020-05-04T00:00:00.000000",
          "2020-05-05T00:00:00.000000",
          "2020-05-06T00:00:00.000000",
          "2020-05-07T00:00:00.000000",
          "2020-05-08T00:00:00.000000",
          "2020-05-09T00:00:00.000000",
          "2020-05-10T00:00:00.000000",
          "2020-05-11T00:00:00.000000",
          "2020-05-12T00:00:00.000000",
          "2020-05-13T00:00:00.000000",
          "2020-05-14T00:00:00.000000",
          "2020-05-15T00:00:00.000000",
          "2020-05-16T00:00:00.000000",
          "2020-05-17T00:00:00.000000",
          "2020-05-18T00:00:00.000000",
          "2020-05-19T00:00:00.000000",
          "2020-05-20T00:00:00.000000",
          "2020-05-21T00:00:00.000000",
          "2020-05-22T00:00:00.000000",
          "2020-05-23T00:00:00.000000",
          "2020-05-24T00:00:00.000000",
          "2020-05-25T00:00:00.000000",
          "2020-05-26T00:00:00.000000",
          "2020-05-27T00:00:00.000000",
          "2020-05-28T00:00:00.000000",
          "2020-05-29T00:00:00.000000",
          "2020-05-30T00:00:00.000000",
          "2020-05-31T00:00:00.000000",
          "2020-06-01T00:00:00.000000",
          "2020-06-02T00:00:00.000000",
          "2020-06-03T00:00:00.000000",
          "2020-06-04T00:00:00.000000",
          "2020-06-05T00:00:00.000000",
          "2020-06-06T00:00:00.000000",
          "2020-06-07T00:00:00.000000",
          "2020-06-08T00:00:00.000000",
          "2020-06-09T00:00:00.000000",
          "2020-06-10T00:00:00.000000",
          "2020-06-11T00:00:00.000000",
          "2020-06-12T00:00:00.000000",
          "2020-06-13T00:00:00.000000",
          "2020-06-14T00:00:00.000000",
          "2020-06-15T00:00:00.000000",
          "2020-06-16T00:00:00.000000",
          "2020-06-17T00:00:00.000000",
          "2020-06-18T00:00:00.000000",
          "2020-06-19T00:00:00.000000",
          "2020-06-20T00:00:00.000000",
          "2020-06-21T00:00:00.000000",
          "2020-06-22T00:00:00.000000",
          "2020-06-23T00:00:00.000000",
          "2020-06-24T00:00:00.000000",
          "2020-06-25T00:00:00.000000",
          "2020-06-26T00:00:00.000000",
          "2020-06-27T00:00:00.000000",
          "2020-06-28T00:00:00.000000",
          "2020-06-29T00:00:00.000000",
          "2020-06-30T00:00:00.000000",
          "2020-07-01T00:00:00.000000",
          "2020-07-02T00:00:00.000000",
          "2020-07-03T00:00:00.000000",
          "2020-07-04T00:00:00.000000",
          "2020-07-05T00:00:00.000000",
          "2020-07-06T00:00:00.000000",
          "2020-07-07T00:00:00.000000",
          "2020-07-08T00:00:00.000000",
          "2020-07-09T00:00:00.000000",
          "2020-07-10T00:00:00.000000",
          "2020-07-11T00:00:00.000000",
          "2020-07-12T00:00:00.000000",
          "2020-07-13T00:00:00.000000",
          "2020-07-14T00:00:00.000000",
          "2020-07-15T00:00:00.000000",
          "2020-07-16T00:00:00.000000",
          "2020-07-17T00:00:00.000000",
          "2020-07-18T00:00:00.000000",
          "2020-07-19T00:00:00.000000",
          "2020-07-20T00:00:00.000000",
          "2020-07-21T00:00:00.000000",
          "2020-07-22T00:00:00.000000",
          "2020-07-23T00:00:00.000000",
          "2020-07-24T00:00:00.000000",
          "2020-07-25T00:00:00.000000",
          "2020-07-26T00:00:00.000000",
          "2020-07-27T00:00:00.000000",
          "2020-07-28T00:00:00.000000",
          "2020-07-29T00:00:00.000000",
          "2020-07-30T00:00:00.000000",
          "2020-07-31T00:00:00.000000",
          "2020-08-01T00:00:00.000000",
          "2020-08-02T00:00:00.000000",
          "2020-08-03T00:00:00.000000",
          "2020-08-04T00:00:00.000000",
          "2020-08-05T00:00:00.000000",
          "2020-08-06T00:00:00.000000",
          "2020-08-07T00:00:00.000000",
          "2020-08-08T00:00:00.000000",
          "2020-08-09T00:00:00.000000",
          "2020-08-10T00:00:00.000000",
          "2020-08-11T00:00:00.000000",
          "2020-08-12T00:00:00.000000",
          "2020-08-13T00:00:00.000000",
          "2020-08-14T00:00:00.000000",
          "2020-08-15T00:00:00.000000",
          "2020-08-16T00:00:00.000000",
          "2020-08-17T00:00:00.000000",
          "2020-08-18T00:00:00.000000",
          "2020-08-19T00:00:00.000000",
          "2020-08-20T00:00:00.000000",
          "2020-08-21T00:00:00.000000",
          "2020-08-22T00:00:00.000000",
          "2020-08-23T00:00:00.000000",
          "2020-08-24T00:00:00.000000",
          "2020-08-25T00:00:00.000000",
          "2020-08-26T00:00:00.000000",
          "2020-08-27T00:00:00.000000",
          "2020-08-28T00:00:00.000000",
          "2020-08-29T00:00:00.000000",
          "2020-08-30T00:00:00.000000",
          "2020-08-31T00:00:00.000000"
         ],
         "y": {
          "dtype": "float64",
          "shape": [
           245
          ]
         }
        },
        {
         "mode": "lines",
         "name": "XRP-USD",
         "showlegend": true,
         "type": "scatter",
         "uid": "e901b0da-2a4b-4dd7-8317-f6e7cfcbba08",
         "x": [
          "2019-12-31T00:00:00.000000",
          "2020-01-01T00:00:00.000000",
          "2020-01-02T00:00:00.000000",
          "2020-01-03T00:00:00.000000",
          "2020-01-04T00:00:00.000000",
          "2020-01-05T00:00:00.000000",
          "2020-01-06T00:00:00.000000",
          "2020-01-07T00:00:00.000000",
          "2020-01-08T00:00:00.000000",
          "2020-01-09T00:00:00.000000",
          "2020-01-10T00:00:00.000000",
          "2020-01-11T00:00:00.000000",
          "2020-01-12T00:00:00.000000",
          "2020-01-13T00:00:00.000000",
          "2020-01-14T00:00:00.000000",
          "2020-01-15T00:00:00.000000",
          "2020-01-16T00:00:00.000000",
          "2020-01-17T00:00:00.000000",
          "2020-01-18T00:00:00.000000",
          "2020-01-19T00:00:00.000000",
          "2020-01-20T00:00:00.000000",
          "2020-01-21T00:00:00.000000",
          "2020-01-22T00:00:00.000000",
          "2020-01-23T00:00:00.000000",
          "2020-01-24T00:00:00.000000",
          "2020-01-25T00:00:00.000000",
          "2020-01-26T00:00:00.000000",
          "2020-01-27T00:00:00.000000",
          "2020-01-28T00:00:00.000000",
          "2020-01-29T00:00:00.000000",
          "2020-01-30T00:00:00.000000",
          "2020-01-31T00:00:00.000000",
          "2020-02-01T00:00:00.000000",
          "2020-02-02T00:00:00.000000",
          "2020-02-03T00:00:00.000000",
          "2020-02-04T00:00:00.000000",
          "2020-02-05T00:00:00.000000",
          "2020-02-06T00:00:00.000000",
          "2020-02-07T00:00:00.000000",
          "2020-02-08T00:00:00.000000",
          "2020-02-09T00:00:00.000000",
          "2020-02-10T00:00:00.000000",
          "2020-02-11T00:00:00.000000",
          "2020-02-12T00:00:00.000000",
          "2020-02-13T00:00:00.000000",
          "2020-02-14T00:00:00.000000",
          "2020-02-15T00:00:00.000000",
          "2020-02-16T00:00:00.000000",
          "2020-02-17T00:00:00.000000",
          "2020-02-18T00:00:00.000000",
          "2020-02-19T00:00:00.000000",
          "2020-02-20T00:00:00.000000",
          "2020-02-21T00:00:00.000000",
          "2020-02-22T00:00:00.000000",
          "2020-02-23T00:00:00.000000",
          "2020-02-24T00:00:00.000000",
          "2020-02-25T00:00:00.000000",
          "2020-02-26T00:00:00.000000",
          "2020-02-27T00:00:00.000000",
          "2020-02-28T00:00:00.000000",
          "2020-02-29T00:00:00.000000",
          "2020-03-01T00:00:00.000000",
          "2020-03-02T00:00:00.000000",
          "2020-03-03T00:00:00.000000",
          "2020-03-04T00:00:00.000000",
          "2020-03-05T00:00:00.000000",
          "2020-03-06T00:00:00.000000",
          "2020-03-07T00:00:00.000000",
          "2020-03-08T00:00:00.000000",
          "2020-03-09T00:00:00.000000",
          "2020-03-10T00:00:00.000000",
          "2020-03-11T00:00:00.000000",
          "2020-03-12T00:00:00.000000",
          "2020-03-13T00:00:00.000000",
          "2020-03-14T00:00:00.000000",
          "2020-03-15T00:00:00.000000",
          "2020-03-16T00:00:00.000000",
          "2020-03-17T00:00:00.000000",
          "2020-03-18T00:00:00.000000",
          "2020-03-19T00:00:00.000000",
          "2020-03-20T00:00:00.000000",
          "2020-03-21T00:00:00.000000",
          "2020-03-22T00:00:00.000000",
          "2020-03-23T00:00:00.000000",
          "2020-03-24T00:00:00.000000",
          "2020-03-25T00:00:00.000000",
          "2020-03-26T00:00:00.000000",
          "2020-03-27T00:00:00.000000",
          "2020-03-28T00:00:00.000000",
          "2020-03-29T00:00:00.000000",
          "2020-03-30T00:00:00.000000",
          "2020-03-31T00:00:00.000000",
          "2020-04-01T00:00:00.000000",
          "2020-04-02T00:00:00.000000",
          "2020-04-03T00:00:00.000000",
          "2020-04-04T00:00:00.000000",
          "2020-04-05T00:00:00.000000",
          "2020-04-06T00:00:00.000000",
          "2020-04-07T00:00:00.000000",
          "2020-04-08T00:00:00.000000",
          "2020-04-09T00:00:00.000000",
          "2020-04-10T00:00:00.000000",
          "2020-04-11T00:00:00.000000",
          "2020-04-12T00:00:00.000000",
          "2020-04-13T00:00:00.000000",
          "2020-04-14T00:00:00.000000",
          "2020-04-15T00:00:00.000000",
          "2020-04-16T00:00:00.000000",
          "2020-04-17T00:00:00.000000",
          "2020-04-18T00:00:00.000000",
          "2020-04-19T00:00:00.000000",
          "2020-04-20T00:00:00.000000",
          "2020-04-21T00:00:00.000000",
          "2020-04-22T00:00:00.000000",
          "2020-04-23T00:00:00.000000",
          "2020-04-24T00:00:00.000000",
          "2020-04-25T00:00:00.000000",
          "2020-04-26T00:00:00.000000",
          "2020-04-27T00:00:00.000000",
          "2020-04-28T00:00:00.000000",
          "2020-04-29T00:00:00.000000",
          "2020-04-30T00:00:00.000000",
          "2020-05-01T00:00:00.000000",
          "2020-05-02T00:00:00.000000",
          "2020-05-03T00:00:00.000000",
          "2020-05-04T00:00:00.000000",
          "2020-05-05T00:00:00.000000",
          "2020-05-06T00:00:00.000000",
          "2020-05-07T00:00:00.000000",
          "2020-05-08T00:00:00.000000",
          "2020-05-09T00:00:00.000000",
          "2020-05-10T00:00:00.000000",
          "2020-05-11T00:00:00.000000",
          "2020-05-12T00:00:00.000000",
          "2020-05-13T00:00:00.000000",
          "2020-05-14T00:00:00.000000",
          "2020-05-15T00:00:00.000000",
          "2020-05-16T00:00:00.000000",
          "2020-05-17T00:00:00.000000",
          "2020-05-18T00:00:00.000000",
          "2020-05-19T00:00:00.000000",
          "2020-05-20T00:00:00.000000",
          "2020-05-21T00:00:00.000000",
          "2020-05-22T00:00:00.000000",
          "2020-05-23T00:00:00.000000",
          "2020-05-24T00:00:00.000000",
          "2020-05-25T00:00:00.000000",
          "2020-05-26T00:00:00.000000",
          "2020-05-27T00:00:00.000000",
          "2020-05-28T00:00:00.000000",
          "2020-05-29T00:00:00.000000",
          "2020-05-30T00:00:00.000000",
          "2020-05-31T00:00:00.000000",
          "2020-06-01T00:00:00.000000",
          "2020-06-02T00:00:00.000000",
          "2020-06-03T00:00:00.000000",
          "2020-06-04T00:00:00.000000",
          "2020-06-05T00:00:00.000000",
          "2020-06-06T00:00:00.000000",
          "2020-06-07T00:00:00.000000",
          "2020-06-08T00:00:00.000000",
          "2020-06-09T00:00:00.000000",
          "2020-06-10T00:00:00.000000",
          "2020-06-11T00:00:00.000000",
          "2020-06-12T00:00:00.000000",
          "2020-06-13T00:00:00.000000",
          "2020-06-14T00:00:00.000000",
          "2020-06-15T00:00:00.000000",
          "2020-06-16T00:00:00.000000",
          "2020-06-17T00:00:00.000000",
          "2020-06-18T00:00:00.000000",
          "2020-06-19T00:00:00.000000",
          "2020-06-20T00:00:00.000000",
          "2020-06-21T00:00:00.000000",
          "2020-06-22T00:00:00.000000",
          "2020-06-23T00:00:00.000000",
          "2020-06-24T00:00:00.000000",
          "2020-06-25T00:00:00.000000",
          "2020-06-26T00:00:00.000000",
          "2020-06-27T00:00:00.000000",
          "2020-06-28T00:00:00.000000",
          "2020-06-29T00:00:00.000000",
          "2020-06-30T00:00:00.000000",
          "2020-07-01T00:00:00.000000",
          "2020-07-02T00:00:00.000000",
          "2020-07-03T00:00:00.000000",
          "2020-07-04T00:00:00.000000",
          "2020-07-05T00:00:00.000000",
          "2020-07-06T00:00:00.000000",
          "2020-07-07T00:00:00.000000",
          "2020-07-08T00:00:00.000000",
          "2020-07-09T00:00:00.000000",
          "2020-07-10T00:00:00.000000",
          "2020-07-11T00:00:00.000000",
          "2020-07-12T00:00:00.000000",
          "2020-07-13T00:00:00.000000",
          "2020-07-14T00:00:00.000000",
          "2020-07-15T00:00:00.000000",
          "2020-07-16T00:00:00.000000",
          "2020-07-17T00:00:00.000000",
          "2020-07-18T00:00:00.000000",
          "2020-07-19T00:00:00.000000",
          "2020-07-20T00:00:00.000000",
          "2020-07-21T00:00:00.000000",
          "2020-07-22T00:00:00.000000",
          "2020-07-23T00:00:00.000000",
          "2020-07-24T00:00:00.000000",
          "2020-07-25T00:00:00.000000",
          "2020-07-26T00:00:00.000000",
          "2020-07-27T00:00:00.000000",
          "2020-07-28T00:00:00.000000",
          "2020-07-29T00:00:00.000000",
          "2020-07-30T00:00:00.000000",
          "2020-07-31T00:00:00.000000",
          "2020-08-01T00:00:00.000000",
          "2020-08-02T00:00:00.000000",
          "2020-08-03T00:00:00.000000",
          "2020-08-04T00:00:00.000000",
          "2020-08-05T00:00:00.000000",
          "2020-08-06T00:00:00.000000",
          "2020-08-07T00:00:00.000000",
          "2020-08-08T00:00:00.000000",
          "2020-08-09T00:00:00.000000",
          "2020-08-10T00:00:00.000000",
          "2020-08-11T00:00:00.000000",
          "2020-08-12T00:00:00.000000",
          "2020-08-13T00:00:00.000000",
          "2020-08-14T00:00:00.000000",
          "2020-08-15T00:00:00.000000",
          "2020-08-16T00:00:00.000000",
          "2020-08-17T00:00:00.000000",
          "2020-08-18T00:00:00.000000",
          "2020-08-19T00:00:00.000000",
          "2020-08-20T00:00:00.000000",
          "2020-08-21T00:00:00.000000",
          "2020-08-22T00:00:00.000000",
          "2020-08-23T00:00:00.000000",
          "2020-08-24T00:00:00.000000",
          "2020-08-25T00:00:00.000000",
          "2020-08-26T00:00:00.000000",
          "2020-08-27T00:00:00.000000",
          "2020-08-28T00:00:00.000000",
          "2020-08-29T00:00:00.000000",
          "2020-08-30T00:00:00.000000",
          "2020-08-31T00:00:00.000000"
         ],
         "y": {
          "dtype": "float64",
          "shape": [
           245
          ]
         }
        },
        {
         "mode": "lines",
         "name": "BNB-USD",
         "showlegend": true,
         "type": "scatter",
         "uid": "5c4bd66d-0e6e-4f45-b11c-9cc6a0fe3f69",
         "x": [
          "2019-12-31T00:00:00.000000",
          "2020-01-01T00:00:00.000000",
          "2020-01-02T00:00:00.000000",
          "2020-01-03T00:00:00.000000",
          "2020-01-04T00:00:00.000000",
          "2020-01-05T00:00:00.000000",
          "2020-01-06T00:00:00.000000",
          "2020-01-07T00:00:00.000000",
          "2020-01-08T00:00:00.000000",
          "2020-01-09T00:00:00.000000",
          "2020-01-10T00:00:00.000000",
          "2020-01-11T00:00:00.000000",
          "2020-01-12T00:00:00.000000",
          "2020-01-13T00:00:00.000000",
          "2020-01-14T00:00:00.000000",
          "2020-01-15T00:00:00.000000",
          "2020-01-16T00:00:00.000000",
          "2020-01-17T00:00:00.000000",
          "2020-01-18T00:00:00.000000",
          "2020-01-19T00:00:00.000000",
          "2020-01-20T00:00:00.000000",
          "2020-01-21T00:00:00.000000",
          "2020-01-22T00:00:00.000000",
          "2020-01-23T00:00:00.000000",
          "2020-01-24T00:00:00.000000",
          "2020-01-25T00:00:00.000000",
          "2020-01-26T00:00:00.000000",
          "2020-01-27T00:00:00.000000",
          "2020-01-28T00:00:00.000000",
          "2020-01-29T00:00:00.000000",
          "2020-01-30T00:00:00.000000",
          "2020-01-31T00:00:00.000000",
          "2020-02-01T00:00:00.000000",
          "2020-02-02T00:00:00.000000",
          "2020-02-03T00:00:00.000000",
          "2020-02-04T00:00:00.000000",
          "2020-02-05T00:00:00.000000",
          "2020-02-06T00:00:00.000000",
          "2020-02-07T00:00:00.000000",
          "2020-02-08T00:00:00.000000",
          "2020-02-09T00:00:00.000000",
          "2020-02-10T00:00:00.000000",
          "2020-02-11T00:00:00.000000",
          "2020-02-12T00:00:00.000000",
          "2020-02-13T00:00:00.000000",
          "2020-02-14T00:00:00.000000",
          "2020-02-15T00:00:00.000000",
          "2020-02-16T00:00:00.000000",
          "2020-02-17T00:00:00.000000",
          "2020-02-18T00:00:00.000000",
          "2020-02-19T00:00:00.000000",
          "2020-02-20T00:00:00.000000",
          "2020-02-21T00:00:00.000000",
          "2020-02-22T00:00:00.000000",
          "2020-02-23T00:00:00.000000",
          "2020-02-24T00:00:00.000000",
          "2020-02-25T00:00:00.000000",
          "2020-02-26T00:00:00.000000",
          "2020-02-27T00:00:00.000000",
          "2020-02-28T00:00:00.000000",
          "2020-02-29T00:00:00.000000",
          "2020-03-01T00:00:00.000000",
          "2020-03-02T00:00:00.000000",
          "2020-03-03T00:00:00.000000",
          "2020-03-04T00:00:00.000000",
          "2020-03-05T00:00:00.000000",
          "2020-03-06T00:00:00.000000",
          "2020-03-07T00:00:00.000000",
          "2020-03-08T00:00:00.000000",
          "2020-03-09T00:00:00.000000",
          "2020-03-10T00:00:00.000000",
          "2020-03-11T00:00:00.000000",
          "2020-03-12T00:00:00.000000",
          "2020-03-13T00:00:00.000000",
          "2020-03-14T00:00:00.000000",
          "2020-03-15T00:00:00.000000",
          "2020-03-16T00:00:00.000000",
          "2020-03-17T00:00:00.000000",
          "2020-03-18T00:00:00.000000",
          "2020-03-19T00:00:00.000000",
          "2020-03-20T00:00:00.000000",
          "2020-03-21T00:00:00.000000",
          "2020-03-22T00:00:00.000000",
          "2020-03-23T00:00:00.000000",
          "2020-03-24T00:00:00.000000",
          "2020-03-25T00:00:00.000000",
          "2020-03-26T00:00:00.000000",
          "2020-03-27T00:00:00.000000",
          "2020-03-28T00:00:00.000000",
          "2020-03-29T00:00:00.000000",
          "2020-03-30T00:00:00.000000",
          "2020-03-31T00:00:00.000000",
          "2020-04-01T00:00:00.000000",
          "2020-04-02T00:00:00.000000",
          "2020-04-03T00:00:00.000000",
          "2020-04-04T00:00:00.000000",
          "2020-04-05T00:00:00.000000",
          "2020-04-06T00:00:00.000000",
          "2020-04-07T00:00:00.000000",
          "2020-04-08T00:00:00.000000",
          "2020-04-09T00:00:00.000000",
          "2020-04-10T00:00:00.000000",
          "2020-04-11T00:00:00.000000",
          "2020-04-12T00:00:00.000000",
          "2020-04-13T00:00:00.000000",
          "2020-04-14T00:00:00.000000",
          "2020-04-15T00:00:00.000000",
          "2020-04-16T00:00:00.000000",
          "2020-04-17T00:00:00.000000",
          "2020-04-18T00:00:00.000000",
          "2020-04-19T00:00:00.000000",
          "2020-04-20T00:00:00.000000",
          "2020-04-21T00:00:00.000000",
          "2020-04-22T00:00:00.000000",
          "2020-04-23T00:00:00.000000",
          "2020-04-24T00:00:00.000000",
          "2020-04-25T00:00:00.000000",
          "2020-04-26T00:00:00.000000",
          "2020-04-27T00:00:00.000000",
          "2020-04-28T00:00:00.000000",
          "2020-04-29T00:00:00.000000",
          "2020-04-30T00:00:00.000000",
          "2020-05-01T00:00:00.000000",
          "2020-05-02T00:00:00.000000",
          "2020-05-03T00:00:00.000000",
          "2020-05-04T00:00:00.000000",
          "2020-05-05T00:00:00.000000",
          "2020-05-06T00:00:00.000000",
          "2020-05-07T00:00:00.000000",
          "2020-05-08T00:00:00.000000",
          "2020-05-09T00:00:00.000000",
          "2020-05-10T00:00:00.000000",
          "2020-05-11T00:00:00.000000",
          "2020-05-12T00:00:00.000000",
          "2020-05-13T00:00:00.000000",
          "2020-05-14T00:00:00.000000",
          "2020-05-15T00:00:00.000000",
          "2020-05-16T00:00:00.000000",
          "2020-05-17T00:00:00.000000",
          "2020-05-18T00:00:00.000000",
          "2020-05-19T00:00:00.000000",
          "2020-05-20T00:00:00.000000",
          "2020-05-21T00:00:00.000000",
          "2020-05-22T00:00:00.000000",
          "2020-05-23T00:00:00.000000",
          "2020-05-24T00:00:00.000000",
          "2020-05-25T00:00:00.000000",
          "2020-05-26T00:00:00.000000",
          "2020-05-27T00:00:00.000000",
          "2020-05-28T00:00:00.000000",
          "2020-05-29T00:00:00.000000",
          "2020-05-30T00:00:00.000000",
          "2020-05-31T00:00:00.000000",
          "2020-06-01T00:00:00.000000",
          "2020-06-02T00:00:00.000000",
          "2020-06-03T00:00:00.000000",
          "2020-06-04T00:00:00.000000",
          "2020-06-05T00:00:00.000000",
          "2020-06-06T00:00:00.000000",
          "2020-06-07T00:00:00.000000",
          "2020-06-08T00:00:00.000000",
          "2020-06-09T00:00:00.000000",
          "2020-06-10T00:00:00.000000",
          "2020-06-11T00:00:00.000000",
          "2020-06-12T00:00:00.000000",
          "2020-06-13T00:00:00.000000",
          "2020-06-14T00:00:00.000000",
          "2020-06-15T00:00:00.000000",
          "2020-06-16T00:00:00.000000",
          "2020-06-17T00:00:00.000000",
          "2020-06-18T00:00:00.000000",
          "2020-06-19T00:00:00.000000",
          "2020-06-20T00:00:00.000000",
          "2020-06-21T00:00:00.000000",
          "2020-06-22T00:00:00.000000",
          "2020-06-23T00:00:00.000000",
          "2020-06-24T00:00:00.000000",
          "2020-06-25T00:00:00.000000",
          "2020-06-26T00:00:00.000000",
          "2020-06-27T00:00:00.000000",
          "2020-06-28T00:00:00.000000",
          "2020-06-29T00:00:00.000000",
          "2020-06-30T00:00:00.000000",
          "2020-07-01T00:00:00.000000",
          "2020-07-02T00:00:00.000000",
          "2020-07-03T00:00:00.000000",
          "2020-07-04T00:00:00.000000",
          "2020-07-05T00:00:00.000000",
          "2020-07-06T00:00:00.000000",
          "2020-07-07T00:00:00.000000",
          "2020-07-08T00:00:00.000000",
          "2020-07-09T00:00:00.000000",
          "2020-07-10T00:00:00.000000",
          "2020-07-11T00:00:00.000000",
          "2020-07-12T00:00:00.000000",
          "2020-07-13T00:00:00.000000",
          "2020-07-14T00:00:00.000000",
          "2020-07-15T00:00:00.000000",
          "2020-07-16T00:00:00.000000",
          "2020-07-17T00:00:00.000000",
          "2020-07-18T00:00:00.000000",
          "2020-07-19T00:00:00.000000",
          "2020-07-20T00:00:00.000000",
          "2020-07-21T00:00:00.000000",
          "2020-07-22T00:00:00.000000",
          "2020-07-23T00:00:00.000000",
          "2020-07-24T00:00:00.000000",
          "2020-07-25T00:00:00.000000",
          "2020-07-26T00:00:00.000000",
          "2020-07-27T00:00:00.000000",
          "2020-07-28T00:00:00.000000",
          "2020-07-29T00:00:00.000000",
          "2020-07-30T00:00:00.000000",
          "2020-07-31T00:00:00.000000",
          "2020-08-01T00:00:00.000000",
          "2020-08-02T00:00:00.000000",
          "2020-08-03T00:00:00.000000",
          "2020-08-04T00:00:00.000000",
          "2020-08-05T00:00:00.000000",
          "2020-08-06T00:00:00.000000",
          "2020-08-07T00:00:00.000000",
          "2020-08-08T00:00:00.000000",
          "2020-08-09T00:00:00.000000",
          "2020-08-10T00:00:00.000000",
          "2020-08-11T00:00:00.000000",
          "2020-08-12T00:00:00.000000",
          "2020-08-13T00:00:00.000000",
          "2020-08-14T00:00:00.000000",
          "2020-08-15T00:00:00.000000",
          "2020-08-16T00:00:00.000000",
          "2020-08-17T00:00:00.000000",
          "2020-08-18T00:00:00.000000",
          "2020-08-19T00:00:00.000000",
          "2020-08-20T00:00:00.000000",
          "2020-08-21T00:00:00.000000",
          "2020-08-22T00:00:00.000000",
          "2020-08-23T00:00:00.000000",
          "2020-08-24T00:00:00.000000",
          "2020-08-25T00:00:00.000000",
          "2020-08-26T00:00:00.000000",
          "2020-08-27T00:00:00.000000",
          "2020-08-28T00:00:00.000000",
          "2020-08-29T00:00:00.000000",
          "2020-08-30T00:00:00.000000",
          "2020-08-31T00:00:00.000000"
         ],
         "y": {
          "dtype": "float64",
          "shape": [
           245
          ]
         }
        },
        {
         "mode": "lines",
         "name": "BCH-USD",
         "showlegend": true,
         "type": "scatter",
         "uid": "95cb6c29-876b-4c3d-9b9f-fec51c51641b",
         "x": [
          "2019-12-31T00:00:00.000000",
          "2020-01-01T00:00:00.000000",
          "2020-01-02T00:00:00.000000",
          "2020-01-03T00:00:00.000000",
          "2020-01-04T00:00:00.000000",
          "2020-01-05T00:00:00.000000",
          "2020-01-06T00:00:00.000000",
          "2020-01-07T00:00:00.000000",
          "2020-01-08T00:00:00.000000",
          "2020-01-09T00:00:00.000000",
          "2020-01-10T00:00:00.000000",
          "2020-01-11T00:00:00.000000",
          "2020-01-12T00:00:00.000000",
          "2020-01-13T00:00:00.000000",
          "2020-01-14T00:00:00.000000",
          "2020-01-15T00:00:00.000000",
          "2020-01-16T00:00:00.000000",
          "2020-01-17T00:00:00.000000",
          "2020-01-18T00:00:00.000000",
          "2020-01-19T00:00:00.000000",
          "2020-01-20T00:00:00.000000",
          "2020-01-21T00:00:00.000000",
          "2020-01-22T00:00:00.000000",
          "2020-01-23T00:00:00.000000",
          "2020-01-24T00:00:00.000000",
          "2020-01-25T00:00:00.000000",
          "2020-01-26T00:00:00.000000",
          "2020-01-27T00:00:00.000000",
          "2020-01-28T00:00:00.000000",
          "2020-01-29T00:00:00.000000",
          "2020-01-30T00:00:00.000000",
          "2020-01-31T00:00:00.000000",
          "2020-02-01T00:00:00.000000",
          "2020-02-02T00:00:00.000000",
          "2020-02-03T00:00:00.000000",
          "2020-02-04T00:00:00.000000",
          "2020-02-05T00:00:00.000000",
          "2020-02-06T00:00:00.000000",
          "2020-02-07T00:00:00.000000",
          "2020-02-08T00:00:00.000000",
          "2020-02-09T00:00:00.000000",
          "2020-02-10T00:00:00.000000",
          "2020-02-11T00:00:00.000000",
          "2020-02-12T00:00:00.000000",
          "2020-02-13T00:00:00.000000",
          "2020-02-14T00:00:00.000000",
          "2020-02-15T00:00:00.000000",
          "2020-02-16T00:00:00.000000",
          "2020-02-17T00:00:00.000000",
          "2020-02-18T00:00:00.000000",
          "2020-02-19T00:00:00.000000",
          "2020-02-20T00:00:00.000000",
          "2020-02-21T00:00:00.000000",
          "2020-02-22T00:00:00.000000",
          "2020-02-23T00:00:00.000000",
          "2020-02-24T00:00:00.000000",
          "2020-02-25T00:00:00.000000",
          "2020-02-26T00:00:00.000000",
          "2020-02-27T00:00:00.000000",
          "2020-02-28T00:00:00.000000",
          "2020-02-29T00:00:00.000000",
          "2020-03-01T00:00:00.000000",
          "2020-03-02T00:00:00.000000",
          "2020-03-03T00:00:00.000000",
          "2020-03-04T00:00:00.000000",
          "2020-03-05T00:00:00.000000",
          "2020-03-06T00:00:00.000000",
          "2020-03-07T00:00:00.000000",
          "2020-03-08T00:00:00.000000",
          "2020-03-09T00:00:00.000000",
          "2020-03-10T00:00:00.000000",
          "2020-03-11T00:00:00.000000",
          "2020-03-12T00:00:00.000000",
          "2020-03-13T00:00:00.000000",
          "2020-03-14T00:00:00.000000",
          "2020-03-15T00:00:00.000000",
          "2020-03-16T00:00:00.000000",
          "2020-03-17T00:00:00.000000",
          "2020-03-18T00:00:00.000000",
          "2020-03-19T00:00:00.000000",
          "2020-03-20T00:00:00.000000",
          "2020-03-21T00:00:00.000000",
          "2020-03-22T00:00:00.000000",
          "2020-03-23T00:00:00.000000",
          "2020-03-24T00:00:00.000000",
          "2020-03-25T00:00:00.000000",
          "2020-03-26T00:00:00.000000",
          "2020-03-27T00:00:00.000000",
          "2020-03-28T00:00:00.000000",
          "2020-03-29T00:00:00.000000",
          "2020-03-30T00:00:00.000000",
          "2020-03-31T00:00:00.000000",
          "2020-04-01T00:00:00.000000",
          "2020-04-02T00:00:00.000000",
          "2020-04-03T00:00:00.000000",
          "2020-04-04T00:00:00.000000",
          "2020-04-05T00:00:00.000000",
          "2020-04-06T00:00:00.000000",
          "2020-04-07T00:00:00.000000",
          "2020-04-08T00:00:00.000000",
          "2020-04-09T00:00:00.000000",
          "2020-04-10T00:00:00.000000",
          "2020-04-11T00:00:00.000000",
          "2020-04-12T00:00:00.000000",
          "2020-04-13T00:00:00.000000",
          "2020-04-14T00:00:00.000000",
          "2020-04-15T00:00:00.000000",
          "2020-04-16T00:00:00.000000",
          "2020-04-17T00:00:00.000000",
          "2020-04-18T00:00:00.000000",
          "2020-04-19T00:00:00.000000",
          "2020-04-20T00:00:00.000000",
          "2020-04-21T00:00:00.000000",
          "2020-04-22T00:00:00.000000",
          "2020-04-23T00:00:00.000000",
          "2020-04-24T00:00:00.000000",
          "2020-04-25T00:00:00.000000",
          "2020-04-26T00:00:00.000000",
          "2020-04-27T00:00:00.000000",
          "2020-04-28T00:00:00.000000",
          "2020-04-29T00:00:00.000000",
          "2020-04-30T00:00:00.000000",
          "2020-05-01T00:00:00.000000",
          "2020-05-02T00:00:00.000000",
          "2020-05-03T00:00:00.000000",
          "2020-05-04T00:00:00.000000",
          "2020-05-05T00:00:00.000000",
          "2020-05-06T00:00:00.000000",
          "2020-05-07T00:00:00.000000",
          "2020-05-08T00:00:00.000000",
          "2020-05-09T00:00:00.000000",
          "2020-05-10T00:00:00.000000",
          "2020-05-11T00:00:00.000000",
          "2020-05-12T00:00:00.000000",
          "2020-05-13T00:00:00.000000",
          "2020-05-14T00:00:00.000000",
          "2020-05-15T00:00:00.000000",
          "2020-05-16T00:00:00.000000",
          "2020-05-17T00:00:00.000000",
          "2020-05-18T00:00:00.000000",
          "2020-05-19T00:00:00.000000",
          "2020-05-20T00:00:00.000000",
          "2020-05-21T00:00:00.000000",
          "2020-05-22T00:00:00.000000",
          "2020-05-23T00:00:00.000000",
          "2020-05-24T00:00:00.000000",
          "2020-05-25T00:00:00.000000",
          "2020-05-26T00:00:00.000000",
          "2020-05-27T00:00:00.000000",
          "2020-05-28T00:00:00.000000",
          "2020-05-29T00:00:00.000000",
          "2020-05-30T00:00:00.000000",
          "2020-05-31T00:00:00.000000",
          "2020-06-01T00:00:00.000000",
          "2020-06-02T00:00:00.000000",
          "2020-06-03T00:00:00.000000",
          "2020-06-04T00:00:00.000000",
          "2020-06-05T00:00:00.000000",
          "2020-06-06T00:00:00.000000",
          "2020-06-07T00:00:00.000000",
          "2020-06-08T00:00:00.000000",
          "2020-06-09T00:00:00.000000",
          "2020-06-10T00:00:00.000000",
          "2020-06-11T00:00:00.000000",
          "2020-06-12T00:00:00.000000",
          "2020-06-13T00:00:00.000000",
          "2020-06-14T00:00:00.000000",
          "2020-06-15T00:00:00.000000",
          "2020-06-16T00:00:00.000000",
          "2020-06-17T00:00:00.000000",
          "2020-06-18T00:00:00.000000",
          "2020-06-19T00:00:00.000000",
          "2020-06-20T00:00:00.000000",
          "2020-06-21T00:00:00.000000",
          "2020-06-22T00:00:00.000000",
          "2020-06-23T00:00:00.000000",
          "2020-06-24T00:00:00.000000",
          "2020-06-25T00:00:00.000000",
          "2020-06-26T00:00:00.000000",
          "2020-06-27T00:00:00.000000",
          "2020-06-28T00:00:00.000000",
          "2020-06-29T00:00:00.000000",
          "2020-06-30T00:00:00.000000",
          "2020-07-01T00:00:00.000000",
          "2020-07-02T00:00:00.000000",
          "2020-07-03T00:00:00.000000",
          "2020-07-04T00:00:00.000000",
          "2020-07-05T00:00:00.000000",
          "2020-07-06T00:00:00.000000",
          "2020-07-07T00:00:00.000000",
          "2020-07-08T00:00:00.000000",
          "2020-07-09T00:00:00.000000",
          "2020-07-10T00:00:00.000000",
          "2020-07-11T00:00:00.000000",
          "2020-07-12T00:00:00.000000",
          "2020-07-13T00:00:00.000000",
          "2020-07-14T00:00:00.000000",
          "2020-07-15T00:00:00.000000",
          "2020-07-16T00:00:00.000000",
          "2020-07-17T00:00:00.000000",
          "2020-07-18T00:00:00.000000",
          "2020-07-19T00:00:00.000000",
          "2020-07-20T00:00:00.000000",
          "2020-07-21T00:00:00.000000",
          "2020-07-22T00:00:00.000000",
          "2020-07-23T00:00:00.000000",
          "2020-07-24T00:00:00.000000",
          "2020-07-25T00:00:00.000000",
          "2020-07-26T00:00:00.000000",
          "2020-07-27T00:00:00.000000",
          "2020-07-28T00:00:00.000000",
          "2020-07-29T00:00:00.000000",
          "2020-07-30T00:00:00.000000",
          "2020-07-31T00:00:00.000000",
          "2020-08-01T00:00:00.000000",
          "2020-08-02T00:00:00.000000",
          "2020-08-03T00:00:00.000000",
          "2020-08-04T00:00:00.000000",
          "2020-08-05T00:00:00.000000",
          "2020-08-06T00:00:00.000000",
          "2020-08-07T00:00:00.000000",
          "2020-08-08T00:00:00.000000",
          "2020-08-09T00:00:00.000000",
          "2020-08-10T00:00:00.000000",
          "2020-08-11T00:00:00.000000",
          "2020-08-12T00:00:00.000000",
          "2020-08-13T00:00:00.000000",
          "2020-08-14T00:00:00.000000",
          "2020-08-15T00:00:00.000000",
          "2020-08-16T00:00:00.000000",
          "2020-08-17T00:00:00.000000",
          "2020-08-18T00:00:00.000000",
          "2020-08-19T00:00:00.000000",
          "2020-08-20T00:00:00.000000",
          "2020-08-21T00:00:00.000000",
          "2020-08-22T00:00:00.000000",
          "2020-08-23T00:00:00.000000",
          "2020-08-24T00:00:00.000000",
          "2020-08-25T00:00:00.000000",
          "2020-08-26T00:00:00.000000",
          "2020-08-27T00:00:00.000000",
          "2020-08-28T00:00:00.000000",
          "2020-08-29T00:00:00.000000",
          "2020-08-30T00:00:00.000000",
          "2020-08-31T00:00:00.000000"
         ],
         "y": {
          "dtype": "float64",
          "shape": [
           245
          ]
         }
        },
        {
         "mode": "lines",
         "name": "LTC-USD",
         "showlegend": true,
         "type": "scatter",
         "uid": "696290cd-cb5f-4bac-931c-70c6b4fce7d4",
         "x": [
          "2019-12-31T00:00:00.000000",
          "2020-01-01T00:00:00.000000",
          "2020-01-02T00:00:00.000000",
          "2020-01-03T00:00:00.000000",
          "2020-01-04T00:00:00.000000",
          "2020-01-05T00:00:00.000000",
          "2020-01-06T00:00:00.000000",
          "2020-01-07T00:00:00.000000",
          "2020-01-08T00:00:00.000000",
          "2020-01-09T00:00:00.000000",
          "2020-01-10T00:00:00.000000",
          "2020-01-11T00:00:00.000000",
          "2020-01-12T00:00:00.000000",
          "2020-01-13T00:00:00.000000",
          "2020-01-14T00:00:00.000000",
          "2020-01-15T00:00:00.000000",
          "2020-01-16T00:00:00.000000",
          "2020-01-17T00:00:00.000000",
          "2020-01-18T00:00:00.000000",
          "2020-01-19T00:00:00.000000",
          "2020-01-20T00:00:00.000000",
          "2020-01-21T00:00:00.000000",
          "2020-01-22T00:00:00.000000",
          "2020-01-23T00:00:00.000000",
          "2020-01-24T00:00:00.000000",
          "2020-01-25T00:00:00.000000",
          "2020-01-26T00:00:00.000000",
          "2020-01-27T00:00:00.000000",
          "2020-01-28T00:00:00.000000",
          "2020-01-29T00:00:00.000000",
          "2020-01-30T00:00:00.000000",
          "2020-01-31T00:00:00.000000",
          "2020-02-01T00:00:00.000000",
          "2020-02-02T00:00:00.000000",
          "2020-02-03T00:00:00.000000",
          "2020-02-04T00:00:00.000000",
          "2020-02-05T00:00:00.000000",
          "2020-02-06T00:00:00.000000",
          "2020-02-07T00:00:00.000000",
          "2020-02-08T00:00:00.000000",
          "2020-02-09T00:00:00.000000",
          "2020-02-10T00:00:00.000000",
          "2020-02-11T00:00:00.000000",
          "2020-02-12T00:00:00.000000",
          "2020-02-13T00:00:00.000000",
          "2020-02-14T00:00:00.000000",
          "2020-02-15T00:00:00.000000",
          "2020-02-16T00:00:00.000000",
          "2020-02-17T00:00:00.000000",
          "2020-02-18T00:00:00.000000",
          "2020-02-19T00:00:00.000000",
          "2020-02-20T00:00:00.000000",
          "2020-02-21T00:00:00.000000",
          "2020-02-22T00:00:00.000000",
          "2020-02-23T00:00:00.000000",
          "2020-02-24T00:00:00.000000",
          "2020-02-25T00:00:00.000000",
          "2020-02-26T00:00:00.000000",
          "2020-02-27T00:00:00.000000",
          "2020-02-28T00:00:00.000000",
          "2020-02-29T00:00:00.000000",
          "2020-03-01T00:00:00.000000",
          "2020-03-02T00:00:00.000000",
          "2020-03-03T00:00:00.000000",
          "2020-03-04T00:00:00.000000",
          "2020-03-05T00:00:00.000000",
          "2020-03-06T00:00:00.000000",
          "2020-03-07T00:00:00.000000",
          "2020-03-08T00:00:00.000000",
          "2020-03-09T00:00:00.000000",
          "2020-03-10T00:00:00.000000",
          "2020-03-11T00:00:00.000000",
          "2020-03-12T00:00:00.000000",
          "2020-03-13T00:00:00.000000",
          "2020-03-14T00:00:00.000000",
          "2020-03-15T00:00:00.000000",
          "2020-03-16T00:00:00.000000",
          "2020-03-17T00:00:00.000000",
          "2020-03-18T00:00:00.000000",
          "2020-03-19T00:00:00.000000",
          "2020-03-20T00:00:00.000000",
          "2020-03-21T00:00:00.000000",
          "2020-03-22T00:00:00.000000",
          "2020-03-23T00:00:00.000000",
          "2020-03-24T00:00:00.000000",
          "2020-03-25T00:00:00.000000",
          "2020-03-26T00:00:00.000000",
          "2020-03-27T00:00:00.000000",
          "2020-03-28T00:00:00.000000",
          "2020-03-29T00:00:00.000000",
          "2020-03-30T00:00:00.000000",
          "2020-03-31T00:00:00.000000",
          "2020-04-01T00:00:00.000000",
          "2020-04-02T00:00:00.000000",
          "2020-04-03T00:00:00.000000",
          "2020-04-04T00:00:00.000000",
          "2020-04-05T00:00:00.000000",
          "2020-04-06T00:00:00.000000",
          "2020-04-07T00:00:00.000000",
          "2020-04-08T00:00:00.000000",
          "2020-04-09T00:00:00.000000",
          "2020-04-10T00:00:00.000000",
          "2020-04-11T00:00:00.000000",
          "2020-04-12T00:00:00.000000",
          "2020-04-13T00:00:00.000000",
          "2020-04-14T00:00:00.000000",
          "2020-04-15T00:00:00.000000",
          "2020-04-16T00:00:00.000000",
          "2020-04-17T00:00:00.000000",
          "2020-04-18T00:00:00.000000",
          "2020-04-19T00:00:00.000000",
          "2020-04-20T00:00:00.000000",
          "2020-04-21T00:00:00.000000",
          "2020-04-22T00:00:00.000000",
          "2020-04-23T00:00:00.000000",
          "2020-04-24T00:00:00.000000",
          "2020-04-25T00:00:00.000000",
          "2020-04-26T00:00:00.000000",
          "2020-04-27T00:00:00.000000",
          "2020-04-28T00:00:00.000000",
          "2020-04-29T00:00:00.000000",
          "2020-04-30T00:00:00.000000",
          "2020-05-01T00:00:00.000000",
          "2020-05-02T00:00:00.000000",
          "2020-05-03T00:00:00.000000",
          "2020-05-04T00:00:00.000000",
          "2020-05-05T00:00:00.000000",
          "2020-05-06T00:00:00.000000",
          "2020-05-07T00:00:00.000000",
          "2020-05-08T00:00:00.000000",
          "2020-05-09T00:00:00.000000",
          "2020-05-10T00:00:00.000000",
          "2020-05-11T00:00:00.000000",
          "2020-05-12T00:00:00.000000",
          "2020-05-13T00:00:00.000000",
          "2020-05-14T00:00:00.000000",
          "2020-05-15T00:00:00.000000",
          "2020-05-16T00:00:00.000000",
          "2020-05-17T00:00:00.000000",
          "2020-05-18T00:00:00.000000",
          "2020-05-19T00:00:00.000000",
          "2020-05-20T00:00:00.000000",
          "2020-05-21T00:00:00.000000",
          "2020-05-22T00:00:00.000000",
          "2020-05-23T00:00:00.000000",
          "2020-05-24T00:00:00.000000",
          "2020-05-25T00:00:00.000000",
          "2020-05-26T00:00:00.000000",
          "2020-05-27T00:00:00.000000",
          "2020-05-28T00:00:00.000000",
          "2020-05-29T00:00:00.000000",
          "2020-05-30T00:00:00.000000",
          "2020-05-31T00:00:00.000000",
          "2020-06-01T00:00:00.000000",
          "2020-06-02T00:00:00.000000",
          "2020-06-03T00:00:00.000000",
          "2020-06-04T00:00:00.000000",
          "2020-06-05T00:00:00.000000",
          "2020-06-06T00:00:00.000000",
          "2020-06-07T00:00:00.000000",
          "2020-06-08T00:00:00.000000",
          "2020-06-09T00:00:00.000000",
          "2020-06-10T00:00:00.000000",
          "2020-06-11T00:00:00.000000",
          "2020-06-12T00:00:00.000000",
          "2020-06-13T00:00:00.000000",
          "2020-06-14T00:00:00.000000",
          "2020-06-15T00:00:00.000000",
          "2020-06-16T00:00:00.000000",
          "2020-06-17T00:00:00.000000",
          "2020-06-18T00:00:00.000000",
          "2020-06-19T00:00:00.000000",
          "2020-06-20T00:00:00.000000",
          "2020-06-21T00:00:00.000000",
          "2020-06-22T00:00:00.000000",
          "2020-06-23T00:00:00.000000",
          "2020-06-24T00:00:00.000000",
          "2020-06-25T00:00:00.000000",
          "2020-06-26T00:00:00.000000",
          "2020-06-27T00:00:00.000000",
          "2020-06-28T00:00:00.000000",
          "2020-06-29T00:00:00.000000",
          "2020-06-30T00:00:00.000000",
          "2020-07-01T00:00:00.000000",
          "2020-07-02T00:00:00.000000",
          "2020-07-03T00:00:00.000000",
          "2020-07-04T00:00:00.000000",
          "2020-07-05T00:00:00.000000",
          "2020-07-06T00:00:00.000000",
          "2020-07-07T00:00:00.000000",
          "2020-07-08T00:00:00.000000",
          "2020-07-09T00:00:00.000000",
          "2020-07-10T00:00:00.000000",
          "2020-07-11T00:00:00.000000",
          "2020-07-12T00:00:00.000000",
          "2020-07-13T00:00:00.000000",
          "2020-07-14T00:00:00.000000",
          "2020-07-15T00:00:00.000000",
          "2020-07-16T00:00:00.000000",
          "2020-07-17T00:00:00.000000",
          "2020-07-18T00:00:00.000000",
          "2020-07-19T00:00:00.000000",
          "2020-07-20T00:00:00.000000",
          "2020-07-21T00:00:00.000000",
          "2020-07-22T00:00:00.000000",
          "2020-07-23T00:00:00.000000",
          "2020-07-24T00:00:00.000000",
          "2020-07-25T00:00:00.000000",
          "2020-07-26T00:00:00.000000",
          "2020-07-27T00:00:00.000000",
          "2020-07-28T00:00:00.000000",
          "2020-07-29T00:00:00.000000",
          "2020-07-30T00:00:00.000000",
          "2020-07-31T00:00:00.000000",
          "2020-08-01T00:00:00.000000",
          "2020-08-02T00:00:00.000000",
          "2020-08-03T00:00:00.000000",
          "2020-08-04T00:00:00.000000",
          "2020-08-05T00:00:00.000000",
          "2020-08-06T00:00:00.000000",
          "2020-08-07T00:00:00.000000",
          "2020-08-08T00:00:00.000000",
          "2020-08-09T00:00:00.000000",
          "2020-08-10T00:00:00.000000",
          "2020-08-11T00:00:00.000000",
          "2020-08-12T00:00:00.000000",
          "2020-08-13T00:00:00.000000",
          "2020-08-14T00:00:00.000000",
          "2020-08-15T00:00:00.000000",
          "2020-08-16T00:00:00.000000",
          "2020-08-17T00:00:00.000000",
          "2020-08-18T00:00:00.000000",
          "2020-08-19T00:00:00.000000",
          "2020-08-20T00:00:00.000000",
          "2020-08-21T00:00:00.000000",
          "2020-08-22T00:00:00.000000",
          "2020-08-23T00:00:00.000000",
          "2020-08-24T00:00:00.000000",
          "2020-08-25T00:00:00.000000",
          "2020-08-26T00:00:00.000000",
          "2020-08-27T00:00:00.000000",
          "2020-08-28T00:00:00.000000",
          "2020-08-29T00:00:00.000000",
          "2020-08-30T00:00:00.000000",
          "2020-08-31T00:00:00.000000"
         ],
         "y": {
          "dtype": "float64",
          "shape": [
           245
          ]
         }
        }
       ],
       "_js2py_pointsCallback": {},
       "_js2py_relayout": {},
       "_js2py_restyle": {},
       "_js2py_update": {},
       "_last_layout_edit_id": 7,
       "_last_trace_edit_id": 7,
       "_layout": {
        "autosize": false,
        "colorway": [
         "#1f77b4",
         "#ff7f0e",
         "#2ca02c",
         "#dc3912",
         "#9467bd",
         "#8c564b",
         "#e377c2",
         "#7f7f7f",
         "#bcbd22",
         "#17becf"
        ],
        "height": 300,
        "hovermode": "closest",
        "margin": {
         "b": 30,
         "t": 30
        },
        "template": {
         "data": {
          "bar": [
           {
            "error_x": {
             "color": "#2a3f5f"
            },
            "error_y": {
             "color": "#2a3f5f"
            },
            "marker": {
             "line": {
              "color": "#E5ECF6",
              "width": 0.5
             }
            },
            "type": "bar"
           }
          ],
          "barpolar": [
           {
            "marker": {
             "line": {
              "color": "#E5ECF6",
              "width": 0.5
             }
            },
            "type": "barpolar"
           }
          ],
          "carpet": [
           {
            "aaxis": {
             "endlinecolor": "#2a3f5f",
             "gridcolor": "white",
             "linecolor": "white",
             "minorgridcolor": "white",
             "startlinecolor": "#2a3f5f"
            },
            "baxis": {
             "endlinecolor": "#2a3f5f",
             "gridcolor": "white",
             "linecolor": "white",
             "minorgridcolor": "white",
             "startlinecolor": "#2a3f5f"
            },
            "type": "carpet"
           }
          ],
          "choropleth": [
           {
            "colorbar": {
             "outlinewidth": 0,
             "ticks": ""
            },
            "type": "choropleth"
           }
          ],
          "contour": [
           {
            "colorbar": {
             "outlinewidth": 0,
             "ticks": ""
            },
            "colorscale": [
             [
              0,
              "#0d0887"
             ],
             [
              0.1111111111111111,
              "#46039f"
             ],
             [
              0.2222222222222222,
              "#7201a8"
             ],
             [
              0.3333333333333333,
              "#9c179e"
             ],
             [
              0.4444444444444444,
              "#bd3786"
             ],
             [
              0.5555555555555556,
              "#d8576b"
             ],
             [
              0.6666666666666666,
              "#ed7953"
             ],
             [
              0.7777777777777778,
              "#fb9f3a"
             ],
             [
              0.8888888888888888,
              "#fdca26"
             ],
             [
              1,
              "#f0f921"
             ]
            ],
            "type": "contour"
           }
          ],
          "contourcarpet": [
           {
            "colorbar": {
             "outlinewidth": 0,
             "ticks": ""
            },
            "type": "contourcarpet"
           }
          ],
          "heatmap": [
           {
            "colorbar": {
             "outlinewidth": 0,
             "ticks": ""
            },
            "colorscale": [
             [
              0,
              "#0d0887"
             ],
             [
              0.1111111111111111,
              "#46039f"
             ],
             [
              0.2222222222222222,
              "#7201a8"
             ],
             [
              0.3333333333333333,
              "#9c179e"
             ],
             [
              0.4444444444444444,
              "#bd3786"
             ],
             [
              0.5555555555555556,
              "#d8576b"
             ],
             [
              0.6666666666666666,
              "#ed7953"
             ],
             [
              0.7777777777777778,
              "#fb9f3a"
             ],
             [
              0.8888888888888888,
              "#fdca26"
             ],
             [
              1,
              "#f0f921"
             ]
            ],
            "type": "heatmap"
           }
          ],
          "heatmapgl": [
           {
            "colorbar": {
             "outlinewidth": 0,
             "ticks": ""
            },
            "colorscale": [
             [
              0,
              "#0d0887"
             ],
             [
              0.1111111111111111,
              "#46039f"
             ],
             [
              0.2222222222222222,
              "#7201a8"
             ],
             [
              0.3333333333333333,
              "#9c179e"
             ],
             [
              0.4444444444444444,
              "#bd3786"
             ],
             [
              0.5555555555555556,
              "#d8576b"
             ],
             [
              0.6666666666666666,
              "#ed7953"
             ],
             [
              0.7777777777777778,
              "#fb9f3a"
             ],
             [
              0.8888888888888888,
              "#fdca26"
             ],
             [
              1,
              "#f0f921"
             ]
            ],
            "type": "heatmapgl"
           }
          ],
          "histogram": [
           {
            "marker": {
             "colorbar": {
              "outlinewidth": 0,
              "ticks": ""
             }
            },
            "type": "histogram"
           }
          ],
          "histogram2d": [
           {
            "colorbar": {
             "outlinewidth": 0,
             "ticks": ""
            },
            "colorscale": [
             [
              0,
              "#0d0887"
             ],
             [
              0.1111111111111111,
              "#46039f"
             ],
             [
              0.2222222222222222,
              "#7201a8"
             ],
             [
              0.3333333333333333,
              "#9c179e"
             ],
             [
              0.4444444444444444,
              "#bd3786"
             ],
             [
              0.5555555555555556,
              "#d8576b"
             ],
             [
              0.6666666666666666,
              "#ed7953"
             ],
             [
              0.7777777777777778,
              "#fb9f3a"
             ],
             [
              0.8888888888888888,
              "#fdca26"
             ],
             [
              1,
              "#f0f921"
             ]
            ],
            "type": "histogram2d"
           }
          ],
          "histogram2dcontour": [
           {
            "colorbar": {
             "outlinewidth": 0,
             "ticks": ""
            },
            "colorscale": [
             [
              0,
              "#0d0887"
             ],
             [
              0.1111111111111111,
              "#46039f"
             ],
             [
              0.2222222222222222,
              "#7201a8"
             ],
             [
              0.3333333333333333,
              "#9c179e"
             ],
             [
              0.4444444444444444,
              "#bd3786"
             ],
             [
              0.5555555555555556,
              "#d8576b"
             ],
             [
              0.6666666666666666,
              "#ed7953"
             ],
             [
              0.7777777777777778,
              "#fb9f3a"
             ],
             [
              0.8888888888888888,
              "#fdca26"
             ],
             [
              1,
              "#f0f921"
             ]
            ],
            "type": "histogram2dcontour"
           }
          ],
          "mesh3d": [
           {
            "colorbar": {
             "outlinewidth": 0,
             "ticks": ""
            },
            "type": "mesh3d"
           }
          ],
          "parcoords": [
           {
            "line": {
             "colorbar": {
              "outlinewidth": 0,
              "ticks": ""
             }
            },
            "type": "parcoords"
           }
          ],
          "pie": [
           {
            "automargin": true,
            "type": "pie"
           }
          ],
          "scatter": [
           {
            "marker": {
             "colorbar": {
              "outlinewidth": 0,
              "ticks": ""
             }
            },
            "type": "scatter"
           }
          ],
          "scatter3d": [
           {
            "line": {
             "colorbar": {
              "outlinewidth": 0,
              "ticks": ""
             }
            },
            "marker": {
             "colorbar": {
              "outlinewidth": 0,
              "ticks": ""
             }
            },
            "type": "scatter3d"
           }
          ],
          "scattercarpet": [
           {
            "marker": {
             "colorbar": {
              "outlinewidth": 0,
              "ticks": ""
             }
            },
            "type": "scattercarpet"
           }
          ],
          "scattergeo": [
           {
            "marker": {
             "colorbar": {
              "outlinewidth": 0,
              "ticks": ""
             }
            },
            "type": "scattergeo"
           }
          ],
          "scattergl": [
           {
            "marker": {
             "colorbar": {
              "outlinewidth": 0,
              "ticks": ""
             }
            },
            "type": "scattergl"
           }
          ],
          "scattermapbox": [
           {
            "marker": {
             "colorbar": {
              "outlinewidth": 0,
              "ticks": ""
             }
            },
            "type": "scattermapbox"
           }
          ],
          "scatterpolar": [
           {
            "marker": {
             "colorbar": {
              "outlinewidth": 0,
              "ticks": ""
             }
            },
            "type": "scatterpolar"
           }
          ],
          "scatterpolargl": [
           {
            "marker": {
             "colorbar": {
              "outlinewidth": 0,
              "ticks": ""
             }
            },
            "type": "scatterpolargl"
           }
          ],
          "scatterternary": [
           {
            "marker": {
             "colorbar": {
              "outlinewidth": 0,
              "ticks": ""
             }
            },
            "type": "scatterternary"
           }
          ],
          "surface": [
           {
            "colorbar": {
             "outlinewidth": 0,
             "ticks": ""
            },
            "colorscale": [
             [
              0,
              "#0d0887"
             ],
             [
              0.1111111111111111,
              "#46039f"
             ],
             [
              0.2222222222222222,
              "#7201a8"
             ],
             [
              0.3333333333333333,
              "#9c179e"
             ],
             [
              0.4444444444444444,
              "#bd3786"
             ],
             [
              0.5555555555555556,
              "#d8576b"
             ],
             [
              0.6666666666666666,
              "#ed7953"
             ],
             [
              0.7777777777777778,
              "#fb9f3a"
             ],
             [
              0.8888888888888888,
              "#fdca26"
             ],
             [
              1,
              "#f0f921"
             ]
            ],
            "type": "surface"
           }
          ],
          "table": [
           {
            "cells": {
             "fill": {
              "color": "#EBF0F8"
             },
             "line": {
              "color": "white"
             }
            },
            "header": {
             "fill": {
              "color": "#C8D4E3"
             },
             "line": {
              "color": "white"
             }
            },
            "type": "table"
           }
          ]
         },
         "layout": {
          "annotationdefaults": {
           "arrowcolor": "#2a3f5f",
           "arrowhead": 0,
           "arrowwidth": 1
          },
          "coloraxis": {
           "colorbar": {
            "outlinewidth": 0,
            "ticks": ""
           }
          },
          "colorscale": {
           "diverging": [
            [
             0,
             "#8e0152"
            ],
            [
             0.1,
             "#c51b7d"
            ],
            [
             0.2,
             "#de77ae"
            ],
            [
             0.3,
             "#f1b6da"
            ],
            [
             0.4,
             "#fde0ef"
            ],
            [
             0.5,
             "#f7f7f7"
            ],
            [
             0.6,
             "#e6f5d0"
            ],
            [
             0.7,
             "#b8e186"
            ],
            [
             0.8,
             "#7fbc41"
            ],
            [
             0.9,
             "#4d9221"
            ],
            [
             1,
             "#276419"
            ]
           ],
           "sequential": [
            [
             0,
             "#0d0887"
            ],
            [
             0.1111111111111111,
             "#46039f"
            ],
            [
             0.2222222222222222,
             "#7201a8"
            ],
            [
             0.3333333333333333,
             "#9c179e"
            ],
            [
             0.4444444444444444,
             "#bd3786"
            ],
            [
             0.5555555555555556,
             "#d8576b"
            ],
            [
             0.6666666666666666,
             "#ed7953"
            ],
            [
             0.7777777777777778,
             "#fb9f3a"
            ],
            [
             0.8888888888888888,
             "#fdca26"
            ],
            [
             1,
             "#f0f921"
            ]
           ],
           "sequentialminus": [
            [
             0,
             "#0d0887"
            ],
            [
             0.1111111111111111,
             "#46039f"
            ],
            [
             0.2222222222222222,
             "#7201a8"
            ],
            [
             0.3333333333333333,
             "#9c179e"
            ],
            [
             0.4444444444444444,
             "#bd3786"
            ],
            [
             0.5555555555555556,
             "#d8576b"
            ],
            [
             0.6666666666666666,
             "#ed7953"
            ],
            [
             0.7777777777777778,
             "#fb9f3a"
            ],
            [
             0.8888888888888888,
             "#fdca26"
            ],
            [
             1,
             "#f0f921"
            ]
           ]
          },
          "colorway": [
           "#636efa",
           "#EF553B",
           "#00cc96",
           "#ab63fa",
           "#FFA15A",
           "#19d3f3",
           "#FF6692",
           "#B6E880",
           "#FF97FF",
           "#FECB52"
          ],
          "font": {
           "color": "#2a3f5f"
          },
          "geo": {
           "bgcolor": "white",
           "lakecolor": "white",
           "landcolor": "#E5ECF6",
           "showlakes": true,
           "showland": true,
           "subunitcolor": "white"
          },
          "hoverlabel": {
           "align": "left"
          },
          "hovermode": "closest",
          "mapbox": {
           "style": "light"
          },
          "paper_bgcolor": "white",
          "plot_bgcolor": "#E5ECF6",
          "polar": {
           "angularaxis": {
            "gridcolor": "white",
            "linecolor": "white",
            "ticks": ""
           },
           "bgcolor": "#E5ECF6",
           "radialaxis": {
            "gridcolor": "white",
            "linecolor": "white",
            "ticks": ""
           }
          },
          "scene": {
           "xaxis": {
            "backgroundcolor": "#E5ECF6",
            "gridcolor": "white",
            "gridwidth": 2,
            "linecolor": "white",
            "showbackground": true,
            "ticks": "",
            "zerolinecolor": "white"
           },
           "yaxis": {
            "backgroundcolor": "#E5ECF6",
            "gridcolor": "white",
            "gridwidth": 2,
            "linecolor": "white",
            "showbackground": true,
            "ticks": "",
            "zerolinecolor": "white"
           },
           "zaxis": {
            "backgroundcolor": "#E5ECF6",
            "gridcolor": "white",
            "gridwidth": 2,
            "linecolor": "white",
            "showbackground": true,
            "ticks": "",
            "zerolinecolor": "white"
           }
          },
          "shapedefaults": {
           "line": {
            "color": "#2a3f5f"
           }
          },
          "ternary": {
           "aaxis": {
            "gridcolor": "white",
            "linecolor": "white",
            "ticks": ""
           },
           "baxis": {
            "gridcolor": "white",
            "linecolor": "white",
            "ticks": ""
           },
           "bgcolor": "#E5ECF6",
           "caxis": {
            "gridcolor": "white",
            "linecolor": "white",
            "ticks": ""
           }
          },
          "title": {
           "x": 0.05
          },
          "xaxis": {
           "automargin": true,
           "gridcolor": "white",
           "linecolor": "white",
           "ticks": "",
           "title": {
            "standoff": 15
           },
           "zerolinecolor": "white",
           "zerolinewidth": 2
          },
          "yaxis": {
           "automargin": true,
           "gridcolor": "white",
           "linecolor": "white",
           "ticks": "",
           "title": {
            "standoff": 15
           },
           "zerolinecolor": "white",
           "zerolinewidth": 2
          }
         }
        },
        "width": 700
       },
       "_model_module_version": "^4.8.0",
       "_py2js_animate": {},
       "_py2js_deleteTraces": {},
       "_py2js_moveTraces": {},
       "_py2js_removeLayoutProps": {},
       "_py2js_removeTraceProps": {},
       "_py2js_restyle": {},
       "_view_count": 1,
       "_view_module_version": "^4.8.0"
      }
     }
    },
    "version_major": 2,
    "version_minor": 0
   }
  }
 },
 "nbformat": 4,
 "nbformat_minor": 4
}
