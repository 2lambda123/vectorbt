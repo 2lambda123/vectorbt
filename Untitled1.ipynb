{
 "cells": [
  {
   "cell_type": "code",
   "execution_count": 1,
   "metadata": {},
   "outputs": [
    {
     "data": {
      "text/html": [
       "<div>\n",
       "<style scoped>\n",
       "    .dataframe tbody tr th:only-of-type {\n",
       "        vertical-align: middle;\n",
       "    }\n",
       "\n",
       "    .dataframe tbody tr th {\n",
       "        vertical-align: top;\n",
       "    }\n",
       "\n",
       "    .dataframe thead th {\n",
       "        text-align: right;\n",
       "    }\n",
       "</style>\n",
       "<table border=\"1\" class=\"dataframe\">\n",
       "  <thead>\n",
       "    <tr style=\"text-align: right;\">\n",
       "      <th></th>\n",
       "      <th>a</th>\n",
       "      <th>b</th>\n",
       "      <th>c</th>\n",
       "    </tr>\n",
       "  </thead>\n",
       "  <tbody>\n",
       "    <tr>\n",
       "      <th>2020-01-01</th>\n",
       "      <td>1</td>\n",
       "      <td>5</td>\n",
       "      <td>1</td>\n",
       "    </tr>\n",
       "    <tr>\n",
       "      <th>2020-01-02</th>\n",
       "      <td>2</td>\n",
       "      <td>4</td>\n",
       "      <td>2</td>\n",
       "    </tr>\n",
       "    <tr>\n",
       "      <th>2020-01-03</th>\n",
       "      <td>3</td>\n",
       "      <td>3</td>\n",
       "      <td>3</td>\n",
       "    </tr>\n",
       "    <tr>\n",
       "      <th>2020-01-04</th>\n",
       "      <td>4</td>\n",
       "      <td>2</td>\n",
       "      <td>2</td>\n",
       "    </tr>\n",
       "    <tr>\n",
       "      <th>2020-01-05</th>\n",
       "      <td>5</td>\n",
       "      <td>1</td>\n",
       "      <td>1</td>\n",
       "    </tr>\n",
       "  </tbody>\n",
       "</table>\n",
       "</div>"
      ],
      "text/plain": [
       "            a  b  c\n",
       "2020-01-01  1  5  1\n",
       "2020-01-02  2  4  2\n",
       "2020-01-03  3  3  3\n",
       "2020-01-04  4  2  2\n",
       "2020-01-05  5  1  1"
      ]
     },
     "execution_count": 1,
     "metadata": {},
     "output_type": "execute_result"
    }
   ],
   "source": [
    ">>> import vectorbt as vbt\n",
    ">>> import numpy as np\n",
    ">>> import pandas as pd\n",
    ">>> from numba import njit\n",
    ">>> from datetime import datetime\n",
    "\n",
    ">>> df = pd.DataFrame({\n",
    "...     'a': [1, 2, 3, 4, 5],\n",
    "...     'b': [5, 4, 3, 2, 1],\n",
    "...     'c': [1, 2, 3, 2, 1]\n",
    "... }, index=pd.Index([\n",
    "...     datetime(2020, 1, 1),\n",
    "...     datetime(2020, 1, 2),\n",
    "...     datetime(2020, 1, 3),\n",
    "...     datetime(2020, 1, 4),\n",
    "...     datetime(2020, 1, 5)\n",
    "... ]))\n",
    ">>> df"
   ]
  },
  {
   "cell_type": "code",
   "execution_count": 5,
   "metadata": {},
   "outputs": [
    {
     "name": "stdout",
     "output_type": "stream",
     "text": [
      "0    3.0\n",
      "1    1.8\n",
      "dtype: float64\n",
      "     0    1\n",
      "0  3.0  1.0\n",
      "1  3.0  2.0\n",
      "2  3.0  3.0\n",
      "3  3.0  2.0\n",
      "4  3.0  1.0\n"
     ]
    }
   ],
   "source": [
    ">>> mean_nb = njit(lambda col, a: np.nanmean(a))\n",
    ">>> print(df.vbt.reduce_grouped(mean_nb, group_by=np.array([0, 0, 1])))\n",
    "\n",
    ">>> mean_nb = njit(lambda i, col, a: np.nanmean(a))\n",
    ">>> print(df.vbt.reduce_grouped(mean_nb, group_by=np.array([0, 0, 1]), row_wise=True))"
   ]
  },
  {
   "cell_type": "code",
   "execution_count": null,
   "metadata": {},
   "outputs": [],
   "source": [
    "#    Cash: 400$, shares: 0\n",
    "# 1. Buy 10 shares for 400$\n",
    "#    Cash: 0$, shares: 10\n",
    "# 2. New price is 60$ per share - sell 10 shares for 600$\n",
    "#    Cash: 600$, shares: 0\n",
    "#    Holding value: 60$ * 10 = 600$"
   ]
  },
  {
   "cell_type": "code",
   "execution_count": null,
   "metadata": {},
   "outputs": [],
   "source": [
    "#    Cash: 0$, shares: 0\n",
    "# 1. Borrowed 10 shares and sold them immediately for 40$ per share - received 400$\n",
    "#    Cash: 400$, shares: -10\n",
    "# 2. New price is 20$ per share - can buy 20 shares, but instead buy and return 10 shares and keep 200$\n",
    "#    Cash: 200$, shares: 0\n",
    "#    Holding value: (2 * 40$ - 20$) * 10 = 600$ = 400$ + 200$"
   ]
  },
  {
   "cell_type": "code",
   "execution_count": null,
   "metadata": {},
   "outputs": [],
   "source": [
    "# "
   ]
  },
  {
   "cell_type": "code",
   "execution_count": 5,
   "metadata": {},
   "outputs": [
    {
     "data": {
      "text/plain": [
       "200"
      ]
     },
     "execution_count": 5,
     "metadata": {},
     "output_type": "execute_result"
    }
   ],
   "source": [
    "size = 10\n",
    "entry_price = 40\n",
    "exit_price = 20\n",
    "direction = 'short'\n",
    "\n",
    "if direction == 'long':\n",
    "    pnl = (exit_price - entry_price) * size\n",
    "else:\n",
    "    pnl = -(exit_price - entry_price) * size\n",
    "pnl"
   ]
  },
  {
   "cell_type": "code",
   "execution_count": null,
   "metadata": {},
   "outputs": [],
   "source": []
  }
 ],
 "metadata": {
  "kernelspec": {
   "display_name": "Python 3",
   "language": "python",
   "name": "python3"
  },
  "language_info": {
   "codemirror_mode": {
    "name": "ipython",
    "version": 3
   },
   "file_extension": ".py",
   "mimetype": "text/x-python",
   "name": "python",
   "nbconvert_exporter": "python",
   "pygments_lexer": "ipython3",
   "version": "3.7.3"
  },
  "widgets": {
   "application/vnd.jupyter.widget-state+json": {
    "state": {},
    "version_major": 2,
    "version_minor": 0
   }
  }
 },
 "nbformat": 4,
 "nbformat_minor": 4
}
