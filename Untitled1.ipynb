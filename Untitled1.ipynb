{
 "cells": [
  {
   "cell_type": "code",
   "execution_count": 4,
   "metadata": {},
   "outputs": [
    {
     "data": {
      "text/plain": [
       "Start                            2014-09-17 00:00:00\n",
       "End                              2020-11-08 00:00:00\n",
       "Duration                          2245 days 00:00:00\n",
       "Total Profit                                 21.0787\n",
       "Total Return [%]                             21.0787\n",
       "Buy & Hold Return [%]                        3243.74\n",
       "Position Coverage [%]                        88.9978\n",
       "Max. Drawdown [%]                            121.735\n",
       "Avg. Drawdown [%]                             14.207\n",
       "Max. Drawdown Duration             947 days 00:00:00\n",
       "Avg. Drawdown Duration    75 days 21:13:50.769230769\n",
       "Num. Trades                                       19\n",
       "Win Rate [%]                                 52.6316\n",
       "Best Trade [%]                               1538.25\n",
       "Worst Trade [%]                             -61.4248\n",
       "Avg. Trade [%]                               76.2947\n",
       "Max. Trade Duration                381 days 00:00:00\n",
       "Avg. Trade Duration       99 days 18:56:50.526315789\n",
       "Expectancy                                   4.99948\n",
       "SQN                                          0.18233\n",
       "Sharpe Ratio                               -0.195858\n",
       "Sortino Ratio                              -0.207835\n",
       "Calmar Ratio                                0.427493\n",
       "Name: (Close, Open), dtype: object"
      ]
     },
     "execution_count": 4,
     "metadata": {},
     "output_type": "execute_result"
    }
   ],
   "source": [
    ">>> import vectorbt as vbt\n",
    ">>> import pandas as pd\n",
    ">>> import yfinance as yf\n",
    "\n",
    ">>> price = yf.Ticker(\"BTC-USD\").history(period=\"max\")\n",
    ">>> entries, exits = pd.Series.vbt.signals.generate_random_both(\n",
    "...     price.shape[0], n=10, seed=42)\n",
    ">>> portfolio = vbt.Portfolio.from_signals(\n",
    "...     price['Close'], entries, exits, price=price['Open'],\n",
    "...     fees=0.001, init_cash=100., freq='1D')\n",
    "\n",
    ">>> portfolio.stats()"
   ]
  },
  {
   "cell_type": "code",
   "execution_count": 16,
   "metadata": {},
   "outputs": [
    {
     "data": {
      "text/plain": [
       "4.999484253660235"
      ]
     },
     "execution_count": 16,
     "metadata": {},
     "output_type": "execute_result"
    }
   ],
   "source": [
    ">>> trades.expectancy()"
   ]
  },
  {
   "cell_type": "code",
   "execution_count": 5,
   "metadata": {},
   "outputs": [
    {
     "name": "stdout",
     "output_type": "stream",
     "text": [
      "   col  size  entry_idx  entry_price  entry_fees  exit_idx  exit_price  \\\n",
      "0    0   4.0          0          1.0         1.0         4         3.5   \n",
      "\n",
      "   exit_fees  pnl  return  direction  status  position_idx  \n",
      "0        4.0  5.0    1.25          0       1             0  \n"
     ]
    },
    {
     "name": "stderr",
     "output_type": "stream",
     "text": [
      "/Users/olegpolakow/Documents/SourceTree/vectorbt/vectorbt/portfolio/trades.py:331: UserWarning: Records already satisfy the mask \"closed\"\n",
      "  return self.filter_by_mask(filter_mask, mask_name='closed')\n"
     ]
    }
   ],
   "source": [
    ">>> print(vbt.Portfolio.from_orders(\n",
    "...     pd.Series([1., 2., 3., 4., 5.]),\n",
    "...     pd.Series([4., -1., -1., -1., -1.]),\n",
    "...     fixed_fees=1.).positions().records)"
   ]
  },
  {
   "cell_type": "code",
   "execution_count": 8,
   "metadata": {},
   "outputs": [
    {
     "name": "stdout",
     "output_type": "stream",
     "text": [
      "   col  size  entry_idx  entry_price  entry_fees  exit_idx  exit_price  \\\n",
      "0    0   1.0          0          1.0         1.0         1         2.0   \n",
      "1    0   1.0          1          2.0         0.5         2         3.0   \n",
      "2    0   1.0          2          3.0         0.5         3         4.0   \n",
      "3    0   1.0          3          4.0         0.5         4         5.0   \n",
      "\n",
      "   exit_fees  pnl  return  direction  status  position_idx  \n",
      "0        0.5 -0.5  -0.500          0       1             0  \n",
      "1        0.5 -2.0  -1.000          1       1             1  \n",
      "2        0.5  0.0   0.000          0       1             2  \n",
      "3        1.0 -2.5  -0.625          1       1             3  \n"
     ]
    },
    {
     "name": "stderr",
     "output_type": "stream",
     "text": [
      "/Users/olegpolakow/Documents/SourceTree/vectorbt/vectorbt/portfolio/trades.py:331: UserWarning: Records already satisfy the mask \"closed\"\n",
      "  return self.filter_by_mask(filter_mask, mask_name='closed')\n"
     ]
    }
   ],
   "source": []
  },
  {
   "cell_type": "code",
   "execution_count": null,
   "metadata": {},
   "outputs": [],
   "source": [
    ">>> price = pd.Series([1., 2., 3., 4., 3., 2., 1.])\n",
    ">>> orders = pd.Series([1., -0.5, -0.5, 2., -0.5, -0.5, -0.5])\n",
    ">>> portfolio = vbt.Portfolio.from_orders(price, orders)\n",
    "\n",
    ">>> trades = vbt.Trades.from_orders(portfolio.orders())\n",
    ">>> trades.count()\n",
    "6\n",
    ">>> trades.pnl.sum()\n",
    "-3.0\n",
    ">>> trades.winning.count()\n",
    "2\n",
    ">>> trades.winning.pnl.sum()\n",
    "1.5"
   ]
  },
  {
   "cell_type": "code",
   "execution_count": null,
   "metadata": {},
   "outputs": [],
   "source": [
    ">>> mask = (trades.records['exit_idx'] - trades.records['entry_idx']) > 2\n",
    ">>> trades_filtered = trades.filter_by_mask(mask)\n",
    ">>> trades_filtered.count()\n",
    "2\n",
    ">>> trades_filtered.pnl.sum()\n",
    "-3.0"
   ]
  },
  {
   "cell_type": "code",
   "execution_count": null,
   "metadata": {},
   "outputs": [],
   "source": []
  },
  {
   "cell_type": "code",
   "execution_count": null,
   "metadata": {},
   "outputs": [],
   "source": [
    ">>> # Simulate combined portfolio\n",
    ">>> group_by = pd.Index([\n",
    "...     'first', 'first', 'first',\n",
    "...     'second', 'second', 'second'\n",
    "... ], name='group')\n",
    ">>> comb_portfolio = vbt.Portfolio.from_orders(\n",
    "...     price['Close'], size, price=price['Open'],\n",
    "...     init_cash='autoalign', fees=0.001, slippage=0.001,\n",
    "...     group_by=group_by, cash_sharing=True\n",
    "... )\n",
    "\n",
    ">>> # Get total profit per group\n",
    ">>> comb_portfolio.total_profit()"
   ]
  },
  {
   "cell_type": "code",
   "execution_count": null,
   "metadata": {},
   "outputs": [],
   "source": [
    ">>> # Simulate portfolio with logging\n",
    ">>> portfolio = vbt.Portfolio.from_orders(\n",
    "...     price['Close'], size, price=price['Open'],\n",
    "...     init_cash='autoalign', fees=0.001, slippage=0.001, log=True\n",
    "... )\n",
    "\n",
    ">>> portfolio.logs().records"
   ]
  },
  {
   "cell_type": "code",
   "execution_count": null,
   "metadata": {},
   "outputs": [],
   "source": [
    ">>> from vectorbt.enums import OrderStatus\n",
    "\n",
    ">>> portfolio.logs().map_field('res_status', value_map=OrderStatus).value_counts()"
   ]
  },
  {
   "cell_type": "code",
   "execution_count": null,
   "metadata": {},
   "outputs": [],
   "source": [
    ">>> from vectorbt.portfolio.nb import auto_call_seq_ctx_nb\n",
    ">>> from vectorbt.enums import SizeType, Direction\n",
    "\n",
    ">>> @njit\n",
    "... def group_prep_func_nb(gc):\n",
    "...     '''Define empty arrays for each group.'''\n",
    "...     size = np.empty(gc.group_len, dtype=np.float_)\n",
    "...     size_type = np.empty(gc.group_len, dtype=np.int_)\n",
    "...     direction = np.empty(gc.group_len, dtype=np.int_)\n",
    "...     temp_float_arr = np.empty(gc.group_len, dtype=np.float_)\n",
    "...     return size, size_type, direction, temp_float_arr\n",
    "\n",
    ">>> @njit\n",
    "... def segment_prep_func_nb(sc, size, size_type, direction, temp_float_arr):\n",
    "...     '''Perform rebalancing at each segment.'''\n",
    "...     for k in range(sc.group_len):\n",
    "...         col = sc.from_col + k\n",
    "...         size[k] = 1 / sc.group_len\n",
    "...         size_type[k] = SizeType.TargetPercent\n",
    "...         direction[k] = Direction.LongOnly\n",
    "...         sc.last_val_price[col] = sc.close[sc.i, col]\n",
    "...     auto_call_seq_ctx_nb(sc, size, size_type, direction, temp_float_arr)\n",
    "...     return size, size_type, direction\n",
    "\n",
    ">>> @njit\n",
    "... def order_func_nb(oc, size, size_type, direction, fees, fixed_fees, slippage):\n",
    "...     '''Place an order.'''\n",
    "...     col_i = oc.call_seq_now[oc.call_idx]\n",
    "...     return create_order_nb(\n",
    "...         size=size[col_i],\n",
    "...         size_type=size_type[col_i],\n",
    "...         price=oc.close[oc.i, oc.col],\n",
    "...         fees=fees, fixed_fees=fixed_fees, slippage=slippage,\n",
    "...         direction=direction[col_i]\n",
    "...     )\n",
    "\n",
    ">>> np.random.seed(42)\n",
    ">>> close = np.random.uniform(1, 10, size=(5, 3))\n",
    ">>> fees = 0.001\n",
    ">>> fixed_fees = 1.\n",
    ">>> slippage = 0.001\n",
    "\n",
    ">>> portfolio = vbt.Portfolio.from_order_func(\n",
    "...     close,  # acts both as reference and order price here\n",
    "...     order_func_nb, fees, fixed_fees, slippage,  # order_args as *args\n",
    "...     active_mask=2,  # rebalance every second tick\n",
    "...     group_prep_func_nb=group_prep_func_nb,\n",
    "...     segment_prep_func_nb=segment_prep_func_nb,\n",
    "...     cash_sharing=True, group_by=True,  # one group with cash sharing\n",
    "... )\n",
    "\n",
    ">>> portfolio.holding_value(group_by=False).vbt.scatter()"
   ]
  },
  {
   "cell_type": "code",
   "execution_count": null,
   "metadata": {},
   "outputs": [],
   "source": [
    "import numpy as np\n",
    "import pandas as pd\n",
    "from numba import njit\n",
    "from vectorbt.portfolio.nb import simulate_nb, create_order_nb, empty_prep_nb\n",
    "\n",
    "@njit\n",
    "def order_func_nb(order_context, order_size, order_price):\n",
    "    i = order_context.i\n",
    "    col = order_context.col\n",
    "    return create_order_nb(size=order_size[i, col], price=order_price[i, col])\n",
    "\n",
    "order_size = np.asarray([\n",
    "    [1, -1],\n",
    "    [0.1, -0.1],\n",
    "    [-1, 1],\n",
    "    [-0.1, 0.1],\n",
    "    [1, -1],\n",
    "    [-2, 2]\n",
    "])\n",
    "close = order_price = np.array([\n",
    "    [1, 6],\n",
    "    [2, 5],\n",
    "    [3, 4],\n",
    "    [4, 3],\n",
    "    [5, 2],\n",
    "    [6, 1]\n",
    "])\n",
    "target_shape = order_size.shape\n",
    "group_lens = np.full(target_shape[1], 1)\n",
    "init_cash = np.full(target_shape[1], 100)\n",
    "cash_sharing = False\n",
    "call_seq = np.full(target_shape, 0)\n",
    "active_mask = np.full(target_shape, True)\n",
    "    \n",
    "order_records, log_records = simulate_nb(\n",
    "    target_shape, close, group_lens, \n",
    "    init_cash, cash_sharing, call_seq, active_mask,\n",
    "    empty_prep_nb, (), \n",
    "    empty_prep_nb, (), \n",
    "    empty_prep_nb, (), \n",
    "    order_func_nb, (order_size, order_price))"
   ]
  },
  {
   "cell_type": "code",
   "execution_count": null,
   "metadata": {},
   "outputs": [],
   "source": [
    "from numba import njit\n",
    "from vectorbt.enums import trade_dt\n",
    "from vectorbt.records.nb import get_trade_stats_nb\n",
    "\n",
    "@njit(cache=True)\n",
    "def save_position_nb(record, trade_records):\n",
    "    \"\"\"Save position to the record.\"\"\"\n",
    "    # Aggregate trades\n",
    "    col = trade_records['col'][0]\n",
    "    size = np.sum(trade_records['size'])\n",
    "    entry_idx = trade_records['entry_idx'][0]\n",
    "    entry_price = trade_records['entry_price'][0]\n",
    "    entry_fees = np.sum(trade_records['entry_fees'])\n",
    "    exit_idx = trade_records['exit_idx'][-1]\n",
    "    exit_price = np.sum(trade_records['size'] * trade_records['exit_price']) / size\n",
    "    exit_fees = np.sum(trade_records['exit_fees'])\n",
    "    direction = trade_records['direction'][-1]\n",
    "    status = trade_records['status'][-1]\n",
    "    position_idx = trade_records['position_idx'][-1]\n",
    "    pnl, ret = get_trade_stats_nb(\n",
    "        size,\n",
    "        entry_price,\n",
    "        entry_fees,\n",
    "        exit_price,\n",
    "        exit_fees,\n",
    "        direction\n",
    "    )\n",
    "\n",
    "    # Save trade\n",
    "    record['col'] = col\n",
    "    record['size'] = size\n",
    "    record['entry_idx'] = entry_idx\n",
    "    record['entry_price'] = entry_price\n",
    "    record['entry_fees'] = entry_fees\n",
    "    record['exit_idx'] = exit_idx\n",
    "    record['exit_price'] = exit_price\n",
    "    record['exit_fees'] = exit_fees\n",
    "    record['pnl'] = pnl\n",
    "    record['return'] = ret\n",
    "    record['direction'] = direction\n",
    "    record['status'] = status\n",
    "    record['position_idx'] = position_idx\n",
    "    \n",
    "\n",
    "@njit(cache=True)\n",
    "def trades_to_positions_nb(trade_records):\n",
    "    \"\"\"Find positions and store their information as records to an array.\"\"\"\n",
    "    records = np.empty(trade_records.shape[0], dtype=trade_dt)\n",
    "    ridx = 0\n",
    "    prev_col = -1\n",
    "    prev_position_idx = -1\n",
    "    from_r = -1\n",
    "\n",
    "    for r in range(trade_records.shape[0]):\n",
    "        col = int(trade_records[r]['col'])\n",
    "        position_idx = int(trade_records[r]['position_idx'])\n",
    "        if col < prev_col or (col == prev_col and position_idx < prev_position_idx):\n",
    "            raise ValueError(\"trade_records must be sorted\")\n",
    "        \n",
    "        if col != prev_col or position_idx != prev_position_idx:\n",
    "            if prev_col != -1 and prev_position_idx != -1:\n",
    "                if r - from_r > 1:\n",
    "                    save_position_nb(records[ridx], trade_records[from_r:r])\n",
    "                else:\n",
    "                    # Speed up\n",
    "                    records[ridx] = trade_records[from_r]\n",
    "                ridx += 1\n",
    "            from_r = r\n",
    "            prev_col = col\n",
    "            prev_position_idx = position_idx\n",
    "        if r == trade_records.shape[0] - 1:\n",
    "            if r - from_r > 0:\n",
    "                save_position_nb(records[ridx], trade_records[from_r:r + 1])\n",
    "            else:\n",
    "                # Speed up\n",
    "                records[ridx] = trade_records[from_r]\n",
    "            ridx += 1\n",
    "                \n",
    "    return records[:ridx]"
   ]
  },
  {
   "cell_type": "code",
   "execution_count": null,
   "metadata": {},
   "outputs": [],
   "source": [
    "from vectorbt.records.nb import orders_to_trades_nb\n",
    "\n",
    "trade_records = orders_to_trades_nb(order_price, order_records)\n",
    "print(pd.DataFrame.from_records(trade_records))\n",
    "print()\n",
    "position_records = trades_to_positions_nb(trade_records)\n",
    "print(pd.DataFrame.from_records(position_records))"
   ]
  },
  {
   "cell_type": "code",
   "execution_count": null,
   "metadata": {},
   "outputs": [],
   "source": [
    "0    0   1.1          0     1.090909         0.0         3    3.090909\n",
    "1    0   1.0          4     5.000000         0.0         5    6.000000\n",
    "2    0   1.0          5     6.000000         0.0         5    6.000000\n",
    "3    1   1.1          0     5.909091         0.0         3    3.909091\n",
    "4    1   1.0          4     2.000000         0.0         5    1.000000\n",
    "5    1   1.0          5     1.000000         0.0         5    1.000000\n",
    "\n",
    "   exit_fees  pnl    return  direction  status\n",
    "0        0.0  2.2  1.833333          0       1\n",
    "1        0.0  1.0  0.200000          0       1\n",
    "2        0.0  0.0  0.000000          1       0\n",
    "3        0.0  2.2  0.338462          1       1\n",
    "4        0.0  1.0  0.500000          1       1\n",
    "5        0.0  0.0  0.000000          0       0"
   ]
  },
  {
   "cell_type": "code",
   "execution_count": null,
   "metadata": {},
   "outputs": [],
   "source": [
    "order_records = generate_order_records(\n",
    "    np.asarray([1, -1, 1, -1, 1])[:, None],\n",
    "    np.array([1, 2, 3, 4, 5])[:, None]\n",
    ")\n",
    "records = position_records_nb(close, order_records)\n",
    "pd.DataFrame.from_records(records)"
   ]
  },
  {
   "cell_type": "code",
   "execution_count": null,
   "metadata": {},
   "outputs": [],
   "source": []
  },
  {
   "cell_type": "code",
   "execution_count": null,
   "metadata": {},
   "outputs": [],
   "source": []
  },
  {
   "cell_type": "code",
   "execution_count": null,
   "metadata": {},
   "outputs": [],
   "source": []
  },
  {
   "cell_type": "code",
   "execution_count": null,
   "metadata": {},
   "outputs": [],
   "source": []
  },
  {
   "cell_type": "code",
   "execution_count": null,
   "metadata": {},
   "outputs": [],
   "source": []
  },
  {
   "cell_type": "code",
   "execution_count": null,
   "metadata": {},
   "outputs": [],
   "source": [
    ">>> import numpy as np\n",
    ">>> import pandas as pd\n",
    ">>> from numba import njit\n",
    ">>> import vectorbt as vbt\n",
    ">>> from vectorbt.portfolio.nb import create_order_nb\n",
    ">>> from vectorbt.portfolio.nb import auto_call_seq_ctx_nb\n",
    ">>> from vectorbt.enums import SizeType, Direction\n",
    "\n",
    ">>> @njit\n",
    "... def group_prep_func_nb(gc):\n",
    "...     '''Define empty arrays for each group.'''\n",
    "...     size = np.empty(gc.group_len, dtype=np.float_)\n",
    "...     size_type = np.empty(gc.group_len, dtype=np.int_)\n",
    "...     direction = np.empty(gc.group_len, dtype=np.int_)\n",
    "...     temp_float_arr = np.empty(gc.group_len, dtype=np.float_)\n",
    "...     return size, size_type, direction, temp_float_arr\n",
    "\n",
    ">>> @njit\n",
    "... def segment_prep_func_nb(sc, size, size_type, direction, temp_float_arr):\n",
    "...     '''Perform rebalancing at each segment.'''\n",
    "...     for k in range(sc.group_len):\n",
    "...         col = sc.from_col + k\n",
    "...         size[k] = 1 / sc.group_len\n",
    "...         size_type[k] = SizeType.TargetPercent\n",
    "...         direction[k] = Direction.Long\n",
    "...         sc.last_val_price[col] = sc.close[sc.i, col]\n",
    "...     auto_call_seq_ctx_nb(sc, size, size_type, direction, temp_float_arr)\n",
    "...     return size, size_type, direction\n",
    "\n",
    ">>> @njit\n",
    "... def order_func_nb(oc, size, size_type, direction, fees, fixed_fees, slippage):\n",
    "...     '''Place an order.'''\n",
    "...     col_i = oc.call_seq_now[oc.call_idx]\n",
    "...     return create_order_nb(\n",
    "...         size=np.inf,\n",
    "...         size_type=size_type[col_i],\n",
    "...         price=oc.close[oc.i, oc.col],\n",
    "...         fees=fees, fixed_fees=fixed_fees, slippage=slippage,\n",
    "...         direction=direction[col_i], log=True\n",
    "...     )\n",
    "\n",
    ">>> from datetime import datetime, timedelta\n",
    ">>> np.random.seed(42)\n",
    ">>> close = pd.DataFrame(np.random.uniform(1, 10, size=(5, 3)), columns=['a', 'b', 'c'], \n",
    "                         index=[datetime(2018, 1, 1) + timedelta(days=i) for i in range(5)])\n",
    ">>> fees = 0.001\n",
    ">>> fixed_fees = 1.\n",
    ">>> slippage = 0.001\n",
    "\n",
    ">>> portfolio = vbt.Portfolio.from_order_func(\n",
    "...     close,  # acts both as reference and order price here\n",
    "...     order_func_nb, fees, fixed_fees, slippage,  # order_args as *args\n",
    "...     active_mask=2,  # rebalance every second tick\n",
    "...     group_prep_func_nb=group_prep_func_nb,\n",
    "...     segment_prep_func_nb=segment_prep_func_nb,\n",
    "...     cash_sharing=True, group_by=True,  # one group with cash sharing\n",
    "... )"
   ]
  },
  {
   "cell_type": "code",
   "execution_count": null,
   "metadata": {},
   "outputs": [],
   "source": [
    ">>> from vectorbt.enums import Direction\n",
    "\n",
    ">>> import pandas as pd\n",
    ">>> import vectorbt as vbt\n",
    "\n",
    ">>> close = pd.Series([1, 2, 3, 4, 5])\n",
    ">>> entries = pd.Series([True, True, True, False, False])\n",
    ">>> exits = pd.Series([False, False, True, True, True])\n",
    ">>> portfolio = vbt.Portfolio.from_signals(\n",
    "...     close, entries, exits, direction=[list(Direction)],\n",
    "...     broadcast_kwargs=dict(columns_from=Direction._fields))\n",
    ">>> print(portfolio.share_flow())"
   ]
  },
  {
   "cell_type": "code",
   "execution_count": null,
   "metadata": {},
   "outputs": [],
   "source": [
    ">>> # Run every single pattern recognition indicator and combine results\n",
    ">>> result = pd.DataFrame.vbt.empty_like(price['Open'], fill_value=0.)\n",
    ">>> for pattern in talib.get_function_groups()['Pattern Recognition']:\n",
    "...     PRecognizer = vbt.IndicatorFactory.from_talib(pattern)\n",
    "...     pr = PRecognizer.run(price['Open'], price['High'], price['Low'], price['Close'])\n",
    "...     result = result + pr.integer\n",
    "\n",
    ">>> # Don't look into future\n",
    ">>> result = result.vbt.fshift(1)\n",
    "\n",
    ">>> # Treat each number as order value in USD\n",
    ">>> size = result / price['Open']\n",
    "\n",
    ">>> # Simulate portfolio\n",
    ">>> portfolio = vbt.Portfolio.from_orders(\n",
    "...     price['Close'], size, price=price['Open'],\n",
    "...     init_cash=InitCashMode.AutoAlign, fees=0.001, slippage=0.001\n",
    "... )\n",
    "\n",
    ">>> # Visualize portfolio value\n",
    ">>> portfolio.value().vbt.plot().show_png()"
   ]
  },
  {
   "cell_type": "code",
   "execution_count": null,
   "metadata": {},
   "outputs": [],
   "source": [
    ">>> # Simulate combined portfolio\n",
    ">>> group_by = pd.Index([\n",
    "...     'first', 'first', 'first',\n",
    "...     'second', 'second', 'second'\n",
    "... ], name='group')\n",
    ">>> comb_portfolio = vbt.Portfolio.from_orders(\n",
    "...     price['Close'], size, price=price['Open'],\n",
    "...     init_cash=InitCashMode.AutoAlign, fees=0.001, slippage=0.001,\n",
    "...     group_by=group_by, cash_sharing=True\n",
    "... )\n",
    "\n",
    ">>> # Get total profit per group\n",
    ">>> comb_portfolio.total_profit()"
   ]
  },
  {
   "cell_type": "code",
   "execution_count": null,
   "metadata": {},
   "outputs": [],
   "source": [
    ">>> # Get total profit per column\n",
    ">>> comb_portfolio.total_profit(group_by=False)"
   ]
  },
  {
   "cell_type": "code",
   "execution_count": null,
   "metadata": {},
   "outputs": [],
   "source": [
    ">>> # Get total profit per group\n",
    ">>> portfolio.total_profit(group_by=group_by)"
   ]
  },
  {
   "cell_type": "code",
   "execution_count": null,
   "metadata": {},
   "outputs": [],
   "source": [
    ">>> portfolio['BTC-USD'].total_profit()"
   ]
  },
  {
   "cell_type": "code",
   "execution_count": null,
   "metadata": {},
   "outputs": [],
   "source": [
    ">>> comb_portfolio['first'].total_profit()"
   ]
  },
  {
   "cell_type": "code",
   "execution_count": null,
   "metadata": {},
   "outputs": [],
   "source": [
    ">>> portfolio = vbt.Portfolio.from_orders(\n",
    "...     price, [np.inf, -np.inf, np.inf, -np.inf, np.inf])\n",
    "\n",
    ">>> print(portfolio.shares())\n",
    ">>> print(portfolio.cash())\n",
    ">>> print(portfolio.holding_value())\n",
    ">>> print(portfolio.value())"
   ]
  },
  {
   "cell_type": "code",
   "execution_count": null,
   "metadata": {},
   "outputs": [],
   "source": [
    ">>> # Reverse position each tick\n",
    ">>> portfolio = vbt.Portfolio.from_orders(\n",
    "...     close, [np.inf, -np.inf, np.inf, -np.inf, np.inf])\n",
    "\n",
    ">>> portfolio.shares()\n",
    ">>> portfolio.cash()\n",
    ">>> portfolio.holding_value()\n",
    ">>> portfolio.value()"
   ]
  },
  {
   "cell_type": "code",
   "execution_count": null,
   "metadata": {},
   "outputs": [],
   "source": [
    ">>> import numpy as np\n",
    ">>> import pandas as pd\n",
    ">>> from numba import njit\n",
    ">>> import vectorbt as vbt\n",
    ">>> from vectorbt.portfolio.nb import create_order_nb\n",
    "\n",
    ">>> close = pd.Series([1, 2, 3, 4, 5])\n",
    "\n",
    ">>> @njit\n",
    "... def group_prep_func_nb(gc):\n",
    "...     \"\"\"Define state per column/group.\"\"\"\n",
    "...     last_pos_state = np.array([-1])\n",
    "...     return (last_pos_state,)\n",
    "\n",
    ">>> @njit\n",
    "... def order_func_nb(oc, last_pos_state):\n",
    "...     \"\"\"Use state to determine which position to open.\"\"\"\n",
    "...     if oc.shares_now > 0:\n",
    "...         size = -oc.shares_now  # close long\n",
    "...     elif oc.shares_now < 0:\n",
    "...         size = -oc.shares_now  # close short\n",
    "...     else:\n",
    "...         if last_pos_state[0] == 1:\n",
    "...             size = -np.inf  # open short\n",
    "...             last_pos_state[0] = -1\n",
    "...         else:\n",
    "...             size = np.inf  # open long\n",
    "...             last_pos_state[0] = 1\n",
    "...\n",
    "...     return create_order_nb(size=size, price=oc.close[oc.i, oc.col])\n",
    "\n",
    ">>> portfolio = vbt.Portfolio.from_order_func(\n",
    "...     close, order_func_nb, group_prep_func_nb=group_prep_func_nb)\n",
    ">>> portfolio.cash()"
   ]
  },
  {
   "cell_type": "code",
   "execution_count": null,
   "metadata": {},
   "outputs": [],
   "source": [
    ">>> import pandas as pd\n",
    ">>> from numba import njit\n",
    ">>> import vectorbt as vbt\n",
    ">>> from vectorbt.portfolio.nb import create_order_nb\n",
    "\n",
    ">>> @njit\n",
    "... def order_func_nb(oc, size):\n",
    "...     return create_order_nb(size=size, price=oc.close[oc.i, oc.col])\n",
    "\n",
    ">>> # Buy 10 shares each tick\n",
    ">>> close = pd.Series([1, 2, 3, 4, 5])\n",
    ">>> portfolio = vbt.Portfolio.from_order_func(close, order_func_nb, 10)\n",
    ">>> print(portfolio.shares())\n",
    ">>> print(portfolio.cash())"
   ]
  },
  {
   "cell_type": "code",
   "execution_count": null,
   "metadata": {},
   "outputs": [],
   "source": [
    ">>> import numpy as np\n",
    ">>> import pandas as pd\n",
    ">>> from numba import njit\n",
    ">>> import vectorbt as vbt\n",
    ">>> from vectorbt.portfolio.nb import create_order, auto_call_seq_ctx_nb\n",
    ">>> from vectorbt.portfolio.enums import SizeType, Direction\n",
    "\n",
    ">>> @njit\n",
    "... def group_prep_func_nb(gc):\n",
    "...     '''Define empty arrays for each group.'''\n",
    "...     print('\\\\tpreparing group', gc.group)\n",
    "...     # Try to create new arrays as rarely as possible\n",
    "...     size = np.empty(gc.group_len, dtype=np.float_)\n",
    "...     size_type = np.empty(gc.group_len, dtype=np.int_)\n",
    "...     direction = np.empty(gc.group_len, dtype=np.int_)\n",
    "...     temp_float_arr = np.empty(gc.group_len, dtype=np.float_)\n",
    "...     return size, size_type, direction, temp_float_arr\n",
    "\n",
    ">>> @njit\n",
    "... def segment_prep_func_nb(sc, size, size_type, direction, temp_float_arr):\n",
    "...     '''Perform rebalancing at each segment.'''\n",
    "...     print('\\\\t\\\\tpreparing segment', sc.i, '(row)')\n",
    "...     for k in range(sc.group_len):\n",
    "...         col = sc.from_col + k\n",
    "...         size[k] = 1 / sc.group_len\n",
    "...         size_type[k] = SizeType.TargetPercent\n",
    "...         direction[k] = Direction.Long  # long positions only\n",
    "...         # Here we use order price instead of previous close to valuate the assets\n",
    "...         sc.last_val_price[col] = sc.close[sc.i, col]\n",
    "...     # Reorder call sequence such that selling orders come first and buying last\n",
    "...     auto_call_seq_ctx_nb(sc, size, size_type, direction, temp_float_arr)\n",
    "...     return size, size_type, direction\n",
    "\n",
    ">>> @njit\n",
    "... def order_func_nb(oc, size, size_type, direction, fees, fixed_fees, slippage):\n",
    "...     '''Place an order.'''\n",
    "...     print('\\\\t\\\\t\\\\trunning order', oc.call_idx, 'at column', oc.col)\n",
    "...     col_i = oc.call_seq_now[oc.call_idx]  # or col - from_col\n",
    "...     return create_order(\n",
    "...         size=size[col_i],\n",
    "...         size_type=size_type[col_i],\n",
    "...         price=oc.close[oc.i, oc.col],\n",
    "...         fees=fees, fixed_fees=fixed_fees, slippage=slippage,\n",
    "...         direction=direction[col_i]\n",
    "...     )\n",
    "\n",
    ">>> np.random.seed(42)\n",
    ">>> close = np.random.uniform(1, 10, size=(5, 3))\n",
    ">>> fees = 0.001\n",
    ">>> fixed_fees = 1.\n",
    ">>> slippage = 0.001\n",
    "\n",
    ">>> portfolio = vbt.Portfolio.from_order_func(\n",
    "...     close,  # acts both as reference and order price here\n",
    "...     order_func_nb, fees, fixed_fees, slippage,\n",
    "...     init_cash=100,  # initial capital of 100$ per group\n",
    "...     cash_sharing=True,  # assets share the same cash\n",
    "...     active_mask=2,  # rebalance every second tick\n",
    "...     group_prep_func_nb=group_prep_func_nb,\n",
    "...     segment_prep_func_nb=segment_prep_func_nb,\n",
    "...     group_by=True,  # one group\n",
    "... )\n",
    "\n",
    ">>> portfolio.holding_value(group_by=False).vbt.scatter()"
   ]
  },
  {
   "cell_type": "code",
   "execution_count": null,
   "metadata": {},
   "outputs": [],
   "source": [
    ">>> pd.DataFrame.from_records(order_records)  # sorted"
   ]
  },
  {
   "cell_type": "code",
   "execution_count": null,
   "metadata": {},
   "outputs": [],
   "source": [
    ">>> share_flow = share_flow_nb(target_shape, order_records)\n",
    ">>> shares = shares_nb(share_flow)\n",
    ">>> holding_value = holding_value_ungrouped_nb(close, shares)\n",
    ">>> pd.DataFrame(holding_value).vbt.scatter()"
   ]
  },
  {
   "cell_type": "code",
   "execution_count": null,
   "metadata": {},
   "outputs": [],
   "source": [
    ">>> size = [1., 0., -1., 0., 1.]\n",
    ">>> size_type = 'targetpercent'\n",
    ">>> portfolio = vbt.Portfolio.from_orders(price, size, size_type)\n",
    "\n",
    ">>> print(portfolio.shares())\n",
    ">>> print(portfolio.cash())"
   ]
  },
  {
   "cell_type": "code",
   "execution_count": null,
   "metadata": {},
   "outputs": [],
   "source": [
    ">>> import vectorbt as vbt\n",
    ">>> import numpy as np\n",
    ">>> import pandas as pd\n",
    ">>> from numba import njit\n",
    ">>> from datetime import datetime\n",
    "\n",
    ">>> df = pd.DataFrame({\n",
    "...     'a': [1, 2, 3, 4, 5],\n",
    "...     'b': [5, 4, 3, 2, 1],\n",
    "...     'c': [1, 2, 3, 2, 1]\n",
    "... }, index=pd.Index([\n",
    "...     datetime(2020, 1, 1),\n",
    "...     datetime(2020, 1, 2),\n",
    "...     datetime(2020, 1, 3),\n",
    "...     datetime(2020, 1, 4),\n",
    "...     datetime(2020, 1, 5)\n",
    "... ]))\n",
    ">>> df"
   ]
  },
  {
   "cell_type": "code",
   "execution_count": null,
   "metadata": {},
   "outputs": [],
   "source": [
    ">>> mean_nb = njit(lambda col, a: np.nanmean(a))\n",
    ">>> print(df.vbt.reduce_grouped(mean_nb, group_by=np.array([0, 0, 1])))\n",
    "\n",
    ">>> mean_nb = njit(lambda i, col, a: np.nanmean(a))\n",
    ">>> print(df.vbt.reduce_grouped(mean_nb, group_by=np.array([0, 0, 1]), row_wise=True))"
   ]
  },
  {
   "cell_type": "code",
   "execution_count": null,
   "metadata": {},
   "outputs": [],
   "source": [
    "#    Cash: 400$, shares: 0\n",
    "# 1. Buy 10 shares for 400$\n",
    "#    Cash: 0$, shares: 10\n",
    "# 2. New price is 60$ per share - sell 10 shares for 600$\n",
    "#    Cash: 600$, shares: 0\n",
    "#    Holding value: 60$ * 10 = 600$"
   ]
  },
  {
   "cell_type": "code",
   "execution_count": null,
   "metadata": {},
   "outputs": [],
   "source": [
    "#    Cash: 0$, shares: 0\n",
    "# 1. Borrowed 10 shares and sold them immediately for 40$ per share - received 400$\n",
    "#    Cash: 400$, shares: -10\n",
    "# 2. New price is 20$ per share - can buy 20 shares, but instead buy and return 10 shares and keep 200$\n",
    "#    Cash: 200$, shares: 0\n",
    "#    Holding value: (2 * 40$ - 20$) * 10 = 600$ = 400$ + 200$"
   ]
  },
  {
   "cell_type": "code",
   "execution_count": null,
   "metadata": {},
   "outputs": [],
   "source": [
    "# "
   ]
  },
  {
   "cell_type": "code",
   "execution_count": null,
   "metadata": {},
   "outputs": [],
   "source": [
    "size = 10\n",
    "entry_price = 40\n",
    "exit_price = 20\n",
    "direction = 'short'\n",
    "\n",
    "if direction == 'long':\n",
    "    pnl = (exit_price - entry_price) * size\n",
    "else:\n",
    "    pnl = -(exit_price - entry_price) * size\n",
    "pnl"
   ]
  },
  {
   "cell_type": "code",
   "execution_count": null,
   "metadata": {},
   "outputs": [],
   "source": [
    "@njit(cache=True)\n",
    "def save_position_nb(record, col,\n",
    "                     entry_idx, entry_size_sum, entry_gross_sum, entry_fees_sum,\n",
    "                     exit_idx, exit_size_sum, exit_gross_sum, exit_fees_sum,\n",
    "                     direction, status, position_idx):\n",
    "    \"\"\"Save position to the record.\"\"\"\n",
    "    # Size-weighted average of price\n",
    "    entry_price = entry_gross_sum / entry_size_sum\n",
    "    exit_price = exit_gross_sum / exit_size_sum\n",
    "\n",
    "    # Get P&L and return\n",
    "    pnl, ret = get_trade_stats_nb(\n",
    "        exit_size_sum,\n",
    "        entry_price,\n",
    "        entry_fees_sum,\n",
    "        exit_price,\n",
    "        exit_fees_sum,\n",
    "        direction\n",
    "    )\n",
    "\n",
    "    # Save position\n",
    "    record['col'] = col\n",
    "    record['size'] = exit_size_sum\n",
    "    record['entry_idx'] = entry_idx\n",
    "    record['entry_price'] = entry_price\n",
    "    record['entry_fees'] = entry_fees_sum\n",
    "    record['exit_idx'] = exit_idx\n",
    "    record['exit_price'] = exit_price\n",
    "    record['exit_fees'] = exit_fees_sum\n",
    "    record['pnl'] = pnl\n",
    "    record['return'] = ret\n",
    "    record['direction'] = direction\n",
    "    record['status'] = status\n",
    "    record['position_idx'] = position_idx\n",
    "\n",
    "\n",
    "@njit(cache=True)\n",
    "def find_positions_nb(price, order_records):\n",
    "    \"\"\"Find positions and store their information as records to an array.\n",
    "\n",
    "    Example:\n",
    "        Simulate a strategy and find all positions in generated orders:\n",
    "        ```python-repl\n",
    "        >>> position_records = find_positions_nb(close, order_records)\n",
    "        >>> pd.DataFrame.from_records(position_records)\n",
    "           col  size  entry_idx  entry_price  entry_fees  exit_idx  exit_price  \\\n",
    "        0    0   1.1          0     1.090909         0.0         3    3.090909\n",
    "        1    0   1.0          4     5.000000         0.0         5    6.000000\n",
    "        2    0   1.0          5     6.000000         0.0         5    6.000000\n",
    "        3    1   1.1          0     5.909091         0.0         3    3.909091\n",
    "        4    1   1.0          4     2.000000         0.0         5    1.000000\n",
    "        5    1   1.0          5     1.000000         0.0         5    1.000000\n",
    "\n",
    "           exit_fees  pnl    return  direction  status\n",
    "        0        0.0  2.2  1.833333          0       1\n",
    "        1        0.0  1.0  0.200000          0       1\n",
    "        2        0.0  0.0  0.000000          1       0\n",
    "        3        0.0  2.2  0.338462          1       1\n",
    "        4        0.0  1.0  0.500000          1       1\n",
    "        5        0.0  0.0  0.000000          0       0\n",
    "        ```\n",
    "        \"\"\"\n",
    "    records = np.empty(price.shape[0] * price.shape[1], dtype=trade_dt)\n",
    "    ridx = 0\n",
    "    prev_col = -1\n",
    "    entry_size_sum = 0.\n",
    "    entry_gross_sum = 0.\n",
    "    entry_fees_sum = 0.\n",
    "    exit_size_sum = 0.\n",
    "    exit_gross_sum = 0.\n",
    "    exit_fees_sum = 0.\n",
    "    entry_idx = -1\n",
    "    direction = -1\n",
    "\n",
    "    for r in range(order_records.shape[0]):\n",
    "        col = int(order_records[r]['col'])\n",
    "        if col < prev_col:\n",
    "            raise ValueError(\"order_records must be sorted\")\n",
    "        i = int(order_records[r]['idx'])\n",
    "        order_size = order_records[r]['size']\n",
    "        order_price = order_records[r]['price']\n",
    "        order_fees = order_records[r]['fees']\n",
    "        order_side = order_records[r]['side']\n",
    "\n",
    "        if order_size <= 0.:\n",
    "            raise ValueError(size_zero_neg_err)\n",
    "        if order_price <= 0.:\n",
    "            raise ValueError(price_zero_neg_err)\n",
    "\n",
    "        if col != prev_col:\n",
    "            # Column has changed\n",
    "            if prev_col != -1:\n",
    "                if entry_idx != -1 and is_less_nb(exit_size_sum, entry_size_sum):\n",
    "                    # Position in the previous column hasn't been closed\n",
    "                    exit_gross_sum += (entry_size_sum - exit_size_sum) * price[price.shape[0] - 1, prev_col]\n",
    "                    exit_size_sum = entry_size_sum\n",
    "                    exit_idx = price.shape[0] - 1\n",
    "                    save_position_nb(\n",
    "                        records[ridx],\n",
    "                        prev_col,\n",
    "                        entry_idx,\n",
    "                        entry_size_sum,\n",
    "                        entry_gross_sum,\n",
    "                        entry_fees_sum,\n",
    "                        exit_idx,\n",
    "                        exit_size_sum,\n",
    "                        exit_gross_sum,\n",
    "                        exit_fees_sum,\n",
    "                        direction,\n",
    "                        TradeStatus.Open\n",
    "                    )\n",
    "                    ridx += 1\n",
    "\n",
    "            prev_col = col\n",
    "            entry_idx = -1\n",
    "            direction = -1\n",
    "\n",
    "        if entry_idx == -1:\n",
    "            # Position opened\n",
    "            entry_idx = i\n",
    "            if order_side == OrderSide.Buy:\n",
    "                direction = TradeDirection.Long\n",
    "            else:\n",
    "                direction = TradeDirection.Short\n",
    "\n",
    "            # Reset running vars for a new position\n",
    "            entry_size_sum = 0.\n",
    "            entry_gross_sum = 0.\n",
    "            entry_fees_sum = 0.\n",
    "            exit_size_sum = 0.\n",
    "            exit_gross_sum = 0.\n",
    "            exit_fees_sum = 0.\n",
    "\n",
    "        if (direction == TradeDirection.Long and order_side == OrderSide.Buy) \\\n",
    "                or (direction == TradeDirection.Short and order_side == OrderSide.Sell):\n",
    "            # Position increased\n",
    "            entry_size_sum += order_size\n",
    "            entry_gross_sum += order_size * order_price\n",
    "            entry_fees_sum += order_fees\n",
    "\n",
    "        elif (direction == TradeDirection.Long and order_side == OrderSide.Sell) \\\n",
    "                or (direction == TradeDirection.Short and order_side == OrderSide.Buy):\n",
    "            if is_close_nb(entry_size_sum, exit_size_sum + order_size):\n",
    "                # Position closed\n",
    "                exit_size_sum = entry_size_sum\n",
    "                exit_gross_sum += order_size * order_price\n",
    "                exit_fees_sum += order_fees\n",
    "                exit_idx = i\n",
    "                save_position_nb(\n",
    "                    records[ridx],\n",
    "                    col,\n",
    "                    entry_idx,\n",
    "                    entry_size_sum,\n",
    "                    entry_gross_sum,\n",
    "                    entry_fees_sum,\n",
    "                    exit_idx,\n",
    "                    exit_size_sum,\n",
    "                    exit_gross_sum,\n",
    "                    exit_fees_sum,\n",
    "                    direction,\n",
    "                    TradeStatus.Closed\n",
    "                )\n",
    "                ridx += 1\n",
    "                entry_idx = -1\n",
    "                direction = -1\n",
    "\n",
    "            elif entry_size_sum > exit_size_sum + order_size:\n",
    "                # Position decreased\n",
    "                exit_size_sum += order_size\n",
    "                exit_gross_sum += order_size * order_price\n",
    "                exit_fees_sum += order_fees\n",
    "\n",
    "            else:\n",
    "                # Position reversed\n",
    "                # Close current position\n",
    "                cl_order_size = entry_size_sum - exit_size_sum\n",
    "                cl_order_fees = cl_order_size / order_size * order_fees\n",
    "                exit_idx = i\n",
    "                save_position_nb(\n",
    "                    records[ridx],\n",
    "                    col,\n",
    "                    entry_idx,\n",
    "                    entry_size_sum,\n",
    "                    entry_gross_sum,\n",
    "                    entry_fees_sum,\n",
    "                    exit_idx,\n",
    "                    entry_size_sum,\n",
    "                    exit_gross_sum + cl_order_size * order_price,\n",
    "                    exit_fees_sum + cl_order_fees,\n",
    "                    direction,\n",
    "                    TradeStatus.Closed\n",
    "                )\n",
    "                ridx += 1\n",
    "\n",
    "                # Open a new position\n",
    "                entry_size_sum = order_size - cl_order_size\n",
    "                entry_gross_sum = entry_size_sum * order_price\n",
    "                entry_fees_sum = order_fees - cl_order_fees\n",
    "                exit_size_sum = 0.\n",
    "                exit_gross_sum = 0.\n",
    "                exit_fees_sum = 0.\n",
    "                entry_idx = i\n",
    "                if direction == TradeDirection.Long:\n",
    "                    direction = TradeDirection.Short\n",
    "                else:\n",
    "                    direction = TradeDirection.Long\n",
    "\n",
    "        if r == order_records.shape[0] - 1:\n",
    "            if entry_idx != -1 and is_less_nb(exit_size_sum, entry_size_sum):\n",
    "                # Position in the previous column hasn't been closed\n",
    "                exit_gross_sum += (entry_size_sum - exit_size_sum) * price[price.shape[0] - 1, col]\n",
    "                exit_size_sum = entry_size_sum\n",
    "                exit_idx = price.shape[0] - 1\n",
    "                save_position_nb(\n",
    "                    records[ridx],\n",
    "                    col,\n",
    "                    entry_idx,\n",
    "                    entry_size_sum,\n",
    "                    entry_gross_sum,\n",
    "                    entry_fees_sum,\n",
    "                    exit_idx,\n",
    "                    exit_size_sum,\n",
    "                    exit_gross_sum,\n",
    "                    exit_fees_sum,\n",
    "                    direction,\n",
    "                    TradeStatus.Open\n",
    "                )\n",
    "                ridx += 1\n",
    "                entry_idx = -1\n",
    "                direction = -1\n",
    "\n",
    "    return records[:ridx]"
   ]
  }
 ],
 "metadata": {
  "kernelspec": {
   "display_name": "Python 3",
   "language": "python",
   "name": "python3"
  },
  "language_info": {
   "codemirror_mode": {
    "name": "ipython",
    "version": 3
   },
   "file_extension": ".py",
   "mimetype": "text/x-python",
   "name": "python",
   "nbconvert_exporter": "python",
   "pygments_lexer": "ipython3",
   "version": "3.7.3"
  },
  "widgets": {
   "application/vnd.jupyter.widget-state+json": {
    "state": {
     "132a836c8543462d9c6d460549835800": {
      "buffers": [
       {
        "data": "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",
        "encoding": "base64",
        "path": [
         "_data",
         0,
         "y",
         "value"
        ]
       },
       {
        "data": "CtejcD1qbUB7FK5H4QJ8QD0K16Nw0YxAZmZmZuZMvUDXo3A9Clm+QMP1KFwPcrlAXI/C9Sh0rkA9CtejcPCsQOF6FK7HzrlAAAAAAIAWwkA=",
        "encoding": "base64",
        "path": [
         "_data",
         1,
         "y",
         "value"
        ]
       },
       {
        "data": "PQrXo3BhcUCuR+F6FA6CQJqZmZnZic1AKVyPwrXHuUApXI/CdcG8QArXo3A9aqlAw/UoXA/ir0BmZmZmJrK0QOF6FK5HC7xA16NwPeqtxUA=",
        "encoding": "base64",
        "path": [
         "_data",
         2,
         "y",
         "value"
        ]
       }
      ],
      "model_module": "plotlywidget",
      "model_module_version": "^4.8.0",
      "model_name": "FigureModel",
      "state": {
       "_config": {
        "plotlyServerURL": "https://plot.ly"
       },
       "_data": [
        {
         "mode": "lines",
         "name": "('Close', 'Open')",
         "showlegend": true,
         "type": "scatter",
         "uid": "aa0c1795-95a1-4607-b788-1158e22cef88",
         "x": [
          "2014-09-17T00:00:00.000000",
          "2014-09-18T00:00:00.000000",
          "2014-09-19T00:00:00.000000",
          "2014-09-20T00:00:00.000000",
          "2014-09-21T00:00:00.000000",
          "2014-09-22T00:00:00.000000",
          "2014-09-23T00:00:00.000000",
          "2014-09-24T00:00:00.000000",
          "2014-09-25T00:00:00.000000",
          "2014-09-26T00:00:00.000000",
          "2014-09-27T00:00:00.000000",
          "2014-09-28T00:00:00.000000",
          "2014-09-29T00:00:00.000000",
          "2014-09-30T00:00:00.000000",
          "2014-10-01T00:00:00.000000",
          "2014-10-02T00:00:00.000000",
          "2014-10-03T00:00:00.000000",
          "2014-10-04T00:00:00.000000",
          "2014-10-05T00:00:00.000000",
          "2014-10-06T00:00:00.000000",
          "2014-10-07T00:00:00.000000",
          "2014-10-08T00:00:00.000000",
          "2014-10-09T00:00:00.000000",
          "2014-10-10T00:00:00.000000",
          "2014-10-11T00:00:00.000000",
          "2014-10-12T00:00:00.000000",
          "2014-10-13T00:00:00.000000",
          "2014-10-14T00:00:00.000000",
          "2014-10-15T00:00:00.000000",
          "2014-10-16T00:00:00.000000",
          "2014-10-17T00:00:00.000000",
          "2014-10-18T00:00:00.000000",
          "2014-10-19T00:00:00.000000",
          "2014-10-20T00:00:00.000000",
          "2014-10-21T00:00:00.000000",
          "2014-10-22T00:00:00.000000",
          "2014-10-23T00:00:00.000000",
          "2014-10-24T00:00:00.000000",
          "2014-10-25T00:00:00.000000",
          "2014-10-26T00:00:00.000000",
          "2014-10-27T00:00:00.000000",
          "2014-10-28T00:00:00.000000",
          "2014-10-29T00:00:00.000000",
          "2014-10-30T00:00:00.000000",
          "2014-10-31T00:00:00.000000",
          "2014-11-01T00:00:00.000000",
          "2014-11-02T00:00:00.000000",
          "2014-11-03T00:00:00.000000",
          "2014-11-04T00:00:00.000000",
          "2014-11-05T00:00:00.000000",
          "2014-11-06T00:00:00.000000",
          "2014-11-07T00:00:00.000000",
          "2014-11-08T00:00:00.000000",
          "2014-11-09T00:00:00.000000",
          "2014-11-10T00:00:00.000000",
          "2014-11-11T00:00:00.000000",
          "2014-11-12T00:00:00.000000",
          "2014-11-13T00:00:00.000000",
          "2014-11-14T00:00:00.000000",
          "2014-11-15T00:00:00.000000",
          "2014-11-16T00:00:00.000000",
          "2014-11-17T00:00:00.000000",
          "2014-11-18T00:00:00.000000",
          "2014-11-19T00:00:00.000000",
          "2014-11-20T00:00:00.000000",
          "2014-11-21T00:00:00.000000",
          "2014-11-22T00:00:00.000000",
          "2014-11-23T00:00:00.000000",
          "2014-11-24T00:00:00.000000",
          "2014-11-25T00:00:00.000000",
          "2014-11-26T00:00:00.000000",
          "2014-11-27T00:00:00.000000",
          "2014-11-28T00:00:00.000000",
          "2014-11-29T00:00:00.000000",
          "2014-11-30T00:00:00.000000",
          "2014-12-01T00:00:00.000000",
          "2014-12-02T00:00:00.000000",
          "2014-12-03T00:00:00.000000",
          "2014-12-04T00:00:00.000000",
          "2014-12-05T00:00:00.000000",
          "2014-12-06T00:00:00.000000",
          "2014-12-07T00:00:00.000000",
          "2014-12-08T00:00:00.000000",
          "2014-12-09T00:00:00.000000",
          "2014-12-10T00:00:00.000000",
          "2014-12-11T00:00:00.000000",
          "2014-12-12T00:00:00.000000",
          "2014-12-13T00:00:00.000000",
          "2014-12-14T00:00:00.000000",
          "2014-12-15T00:00:00.000000",
          "2014-12-16T00:00:00.000000",
          "2014-12-17T00:00:00.000000",
          "2014-12-18T00:00:00.000000",
          "2014-12-19T00:00:00.000000",
          "2014-12-20T00:00:00.000000",
          "2014-12-21T00:00:00.000000",
          "2014-12-22T00:00:00.000000",
          "2014-12-23T00:00:00.000000",
          "2014-12-24T00:00:00.000000",
          "2014-12-25T00:00:00.000000",
          "2014-12-26T00:00:00.000000",
          "2014-12-27T00:00:00.000000",
          "2014-12-28T00:00:00.000000",
          "2014-12-29T00:00:00.000000",
          "2014-12-30T00:00:00.000000",
          "2014-12-31T00:00:00.000000",
          "2015-01-01T00:00:00.000000",
          "2015-01-02T00:00:00.000000",
          "2015-01-03T00:00:00.000000",
          "2015-01-04T00:00:00.000000",
          "2015-01-05T00:00:00.000000",
          "2015-01-06T00:00:00.000000",
          "2015-01-07T00:00:00.000000",
          "2015-01-08T00:00:00.000000",
          "2015-01-09T00:00:00.000000",
          "2015-01-10T00:00:00.000000",
          "2015-01-11T00:00:00.000000",
          "2015-01-12T00:00:00.000000",
          "2015-01-13T00:00:00.000000",
          "2015-01-14T00:00:00.000000",
          "2015-01-15T00:00:00.000000",
          "2015-01-16T00:00:00.000000",
          "2015-01-17T00:00:00.000000",
          "2015-01-18T00:00:00.000000",
          "2015-01-19T00:00:00.000000",
          "2015-01-20T00:00:00.000000",
          "2015-01-21T00:00:00.000000",
          "2015-01-22T00:00:00.000000",
          "2015-01-23T00:00:00.000000",
          "2015-01-24T00:00:00.000000",
          "2015-01-25T00:00:00.000000",
          "2015-01-26T00:00:00.000000",
          "2015-01-27T00:00:00.000000",
          "2015-01-28T00:00:00.000000",
          "2015-01-29T00:00:00.000000",
          "2015-01-30T00:00:00.000000",
          "2015-01-31T00:00:00.000000",
          "2015-02-01T00:00:00.000000",
          "2015-02-02T00:00:00.000000",
          "2015-02-03T00:00:00.000000",
          "2015-02-04T00:00:00.000000",
          "2015-02-05T00:00:00.000000",
          "2015-02-06T00:00:00.000000",
          "2015-02-07T00:00:00.000000",
          "2015-02-08T00:00:00.000000",
          "2015-02-09T00:00:00.000000",
          "2015-02-10T00:00:00.000000",
          "2015-02-11T00:00:00.000000",
          "2015-02-12T00:00:00.000000",
          "2015-02-13T00:00:00.000000",
          "2015-02-14T00:00:00.000000",
          "2015-02-15T00:00:00.000000",
          "2015-02-16T00:00:00.000000",
          "2015-02-17T00:00:00.000000",
          "2015-02-18T00:00:00.000000",
          "2015-02-19T00:00:00.000000",
          "2015-02-20T00:00:00.000000",
          "2015-02-21T00:00:00.000000",
          "2015-02-22T00:00:00.000000",
          "2015-02-23T00:00:00.000000",
          "2015-02-24T00:00:00.000000",
          "2015-02-25T00:00:00.000000",
          "2015-02-26T00:00:00.000000",
          "2015-02-27T00:00:00.000000",
          "2015-02-28T00:00:00.000000",
          "2015-03-01T00:00:00.000000",
          "2015-03-02T00:00:00.000000",
          "2015-03-03T00:00:00.000000",
          "2015-03-04T00:00:00.000000",
          "2015-03-05T00:00:00.000000",
          "2015-03-06T00:00:00.000000",
          "2015-03-07T00:00:00.000000",
          "2015-03-08T00:00:00.000000",
          "2015-03-09T00:00:00.000000",
          "2015-03-10T00:00:00.000000",
          "2015-03-11T00:00:00.000000",
          "2015-03-12T00:00:00.000000",
          "2015-03-13T00:00:00.000000",
          "2015-03-14T00:00:00.000000",
          "2015-03-15T00:00:00.000000",
          "2015-03-16T00:00:00.000000",
          "2015-03-17T00:00:00.000000",
          "2015-03-18T00:00:00.000000",
          "2015-03-19T00:00:00.000000",
          "2015-03-20T00:00:00.000000",
          "2015-03-21T00:00:00.000000",
          "2015-03-22T00:00:00.000000",
          "2015-03-23T00:00:00.000000",
          "2015-03-24T00:00:00.000000",
          "2015-03-25T00:00:00.000000",
          "2015-03-26T00:00:00.000000",
          "2015-03-27T00:00:00.000000",
          "2015-03-28T00:00:00.000000",
          "2015-03-29T00:00:00.000000",
          "2015-03-30T00:00:00.000000",
          "2015-03-31T00:00:00.000000",
          "2015-04-01T00:00:00.000000",
          "2015-04-02T00:00:00.000000",
          "2015-04-03T00:00:00.000000",
          "2015-04-04T00:00:00.000000",
          "2015-04-05T00:00:00.000000",
          "2015-04-06T00:00:00.000000",
          "2015-04-07T00:00:00.000000",
          "2015-04-08T00:00:00.000000",
          "2015-04-09T00:00:00.000000",
          "2015-04-10T00:00:00.000000",
          "2015-04-11T00:00:00.000000",
          "2015-04-12T00:00:00.000000",
          "2015-04-13T00:00:00.000000",
          "2015-04-14T00:00:00.000000",
          "2015-04-15T00:00:00.000000",
          "2015-04-16T00:00:00.000000",
          "2015-04-17T00:00:00.000000",
          "2015-04-18T00:00:00.000000",
          "2015-04-19T00:00:00.000000",
          "2015-04-20T00:00:00.000000",
          "2015-04-21T00:00:00.000000",
          "2015-04-22T00:00:00.000000",
          "2015-04-23T00:00:00.000000",
          "2015-04-24T00:00:00.000000",
          "2015-04-25T00:00:00.000000",
          "2015-04-26T00:00:00.000000",
          "2015-04-27T00:00:00.000000",
          "2015-04-28T00:00:00.000000",
          "2015-04-29T00:00:00.000000",
          "2015-04-30T00:00:00.000000",
          "2015-05-01T00:00:00.000000",
          "2015-05-02T00:00:00.000000",
          "2015-05-03T00:00:00.000000",
          "2015-05-04T00:00:00.000000",
          "2015-05-05T00:00:00.000000",
          "2015-05-06T00:00:00.000000",
          "2015-05-07T00:00:00.000000",
          "2015-05-08T00:00:00.000000",
          "2015-05-09T00:00:00.000000",
          "2015-05-10T00:00:00.000000",
          "2015-05-11T00:00:00.000000",
          "2015-05-12T00:00:00.000000",
          "2015-05-13T00:00:00.000000",
          "2015-05-14T00:00:00.000000",
          "2015-05-15T00:00:00.000000",
          "2015-05-16T00:00:00.000000",
          "2015-05-17T00:00:00.000000",
          "2015-05-18T00:00:00.000000",
          "2015-05-19T00:00:00.000000",
          "2015-05-20T00:00:00.000000",
          "2015-05-21T00:00:00.000000",
          "2015-05-22T00:00:00.000000",
          "2015-05-23T00:00:00.000000",
          "2015-05-24T00:00:00.000000",
          "2015-05-25T00:00:00.000000",
          "2015-05-26T00:00:00.000000",
          "2015-05-27T00:00:00.000000",
          "2015-05-28T00:00:00.000000",
          "2015-05-29T00:00:00.000000",
          "2015-05-30T00:00:00.000000",
          "2015-05-31T00:00:00.000000",
          "2015-06-01T00:00:00.000000",
          "2015-06-02T00:00:00.000000",
          "2015-06-03T00:00:00.000000",
          "2015-06-04T00:00:00.000000",
          "2015-06-05T00:00:00.000000",
          "2015-06-06T00:00:00.000000",
          "2015-06-07T00:00:00.000000",
          "2015-06-08T00:00:00.000000",
          "2015-06-09T00:00:00.000000",
          "2015-06-10T00:00:00.000000",
          "2015-06-11T00:00:00.000000",
          "2015-06-12T00:00:00.000000",
          "2015-06-13T00:00:00.000000",
          "2015-06-14T00:00:00.000000",
          "2015-06-15T00:00:00.000000",
          "2015-06-16T00:00:00.000000",
          "2015-06-17T00:00:00.000000",
          "2015-06-18T00:00:00.000000",
          "2015-06-19T00:00:00.000000",
          "2015-06-20T00:00:00.000000",
          "2015-06-21T00:00:00.000000",
          "2015-06-22T00:00:00.000000",
          "2015-06-23T00:00:00.000000",
          "2015-06-24T00:00:00.000000",
          "2015-06-25T00:00:00.000000",
          "2015-06-26T00:00:00.000000",
          "2015-06-27T00:00:00.000000",
          "2015-06-28T00:00:00.000000",
          "2015-06-29T00:00:00.000000",
          "2015-06-30T00:00:00.000000",
          "2015-07-01T00:00:00.000000",
          "2015-07-02T00:00:00.000000",
          "2015-07-03T00:00:00.000000",
          "2015-07-04T00:00:00.000000",
          "2015-07-05T00:00:00.000000",
          "2015-07-06T00:00:00.000000",
          "2015-07-07T00:00:00.000000",
          "2015-07-08T00:00:00.000000",
          "2015-07-09T00:00:00.000000",
          "2015-07-10T00:00:00.000000",
          "2015-07-11T00:00:00.000000",
          "2015-07-12T00:00:00.000000",
          "2015-07-13T00:00:00.000000",
          "2015-07-14T00:00:00.000000",
          "2015-07-15T00:00:00.000000",
          "2015-07-16T00:00:00.000000",
          "2015-07-17T00:00:00.000000",
          "2015-07-18T00:00:00.000000",
          "2015-07-19T00:00:00.000000",
          "2015-07-20T00:00:00.000000",
          "2015-07-21T00:00:00.000000",
          "2015-07-22T00:00:00.000000",
          "2015-07-23T00:00:00.000000",
          "2015-07-24T00:00:00.000000",
          "2015-07-25T00:00:00.000000",
          "2015-07-26T00:00:00.000000",
          "2015-07-27T00:00:00.000000",
          "2015-07-28T00:00:00.000000",
          "2015-07-29T00:00:00.000000",
          "2015-07-30T00:00:00.000000",
          "2015-07-31T00:00:00.000000",
          "2015-08-01T00:00:00.000000",
          "2015-08-02T00:00:00.000000",
          "2015-08-03T00:00:00.000000",
          "2015-08-04T00:00:00.000000",
          "2015-08-05T00:00:00.000000",
          "2015-08-06T00:00:00.000000",
          "2015-08-07T00:00:00.000000",
          "2015-08-08T00:00:00.000000",
          "2015-08-09T00:00:00.000000",
          "2015-08-10T00:00:00.000000",
          "2015-08-11T00:00:00.000000",
          "2015-08-12T00:00:00.000000",
          "2015-08-13T00:00:00.000000",
          "2015-08-14T00:00:00.000000",
          "2015-08-15T00:00:00.000000",
          "2015-08-16T00:00:00.000000",
          "2015-08-17T00:00:00.000000",
          "2015-08-18T00:00:00.000000",
          "2015-08-19T00:00:00.000000",
          "2015-08-20T00:00:00.000000",
          "2015-08-21T00:00:00.000000",
          "2015-08-22T00:00:00.000000",
          "2015-08-23T00:00:00.000000",
          "2015-08-24T00:00:00.000000",
          "2015-08-25T00:00:00.000000",
          "2015-08-26T00:00:00.000000",
          "2015-08-27T00:00:00.000000",
          "2015-08-28T00:00:00.000000",
          "2015-08-29T00:00:00.000000",
          "2015-08-30T00:00:00.000000",
          "2015-08-31T00:00:00.000000",
          "2015-09-01T00:00:00.000000",
          "2015-09-02T00:00:00.000000",
          "2015-09-03T00:00:00.000000",
          "2015-09-04T00:00:00.000000",
          "2015-09-05T00:00:00.000000",
          "2015-09-06T00:00:00.000000",
          "2015-09-07T00:00:00.000000",
          "2015-09-08T00:00:00.000000",
          "2015-09-09T00:00:00.000000",
          "2015-09-10T00:00:00.000000",
          "2015-09-11T00:00:00.000000",
          "2015-09-12T00:00:00.000000",
          "2015-09-13T00:00:00.000000",
          "2015-09-14T00:00:00.000000",
          "2015-09-15T00:00:00.000000",
          "2015-09-16T00:00:00.000000",
          "2015-09-17T00:00:00.000000",
          "2015-09-18T00:00:00.000000",
          "2015-09-19T00:00:00.000000",
          "2015-09-20T00:00:00.000000",
          "2015-09-21T00:00:00.000000",
          "2015-09-22T00:00:00.000000",
          "2015-09-23T00:00:00.000000",
          "2015-09-24T00:00:00.000000",
          "2015-09-25T00:00:00.000000",
          "2015-09-26T00:00:00.000000",
          "2015-09-27T00:00:00.000000",
          "2015-09-28T00:00:00.000000",
          "2015-09-29T00:00:00.000000",
          "2015-09-30T00:00:00.000000",
          "2015-10-01T00:00:00.000000",
          "2015-10-02T00:00:00.000000",
          "2015-10-03T00:00:00.000000",
          "2015-10-04T00:00:00.000000",
          "2015-10-05T00:00:00.000000",
          "2015-10-06T00:00:00.000000",
          "2015-10-07T00:00:00.000000",
          "2015-10-08T00:00:00.000000",
          "2015-10-09T00:00:00.000000",
          "2015-10-10T00:00:00.000000",
          "2015-10-11T00:00:00.000000",
          "2015-10-12T00:00:00.000000",
          "2015-10-13T00:00:00.000000",
          "2015-10-14T00:00:00.000000",
          "2015-10-15T00:00:00.000000",
          "2015-10-16T00:00:00.000000",
          "2015-10-17T00:00:00.000000",
          "2015-10-18T00:00:00.000000",
          "2015-10-19T00:00:00.000000",
          "2015-10-20T00:00:00.000000",
          "2015-10-21T00:00:00.000000",
          "2015-10-22T00:00:00.000000",
          "2015-10-23T00:00:00.000000",
          "2015-10-24T00:00:00.000000",
          "2015-10-25T00:00:00.000000",
          "2015-10-26T00:00:00.000000",
          "2015-10-27T00:00:00.000000",
          "2015-10-28T00:00:00.000000",
          "2015-10-29T00:00:00.000000",
          "2015-10-30T00:00:00.000000",
          "2015-10-31T00:00:00.000000",
          "2015-11-01T00:00:00.000000",
          "2015-11-02T00:00:00.000000",
          "2015-11-03T00:00:00.000000",
          "2015-11-04T00:00:00.000000",
          "2015-11-05T00:00:00.000000",
          "2015-11-06T00:00:00.000000",
          "2015-11-07T00:00:00.000000",
          "2015-11-08T00:00:00.000000",
          "2015-11-09T00:00:00.000000",
          "2015-11-10T00:00:00.000000",
          "2015-11-11T00:00:00.000000",
          "2015-11-12T00:00:00.000000",
          "2015-11-13T00:00:00.000000",
          "2015-11-14T00:00:00.000000",
          "2015-11-15T00:00:00.000000",
          "2015-11-16T00:00:00.000000",
          "2015-11-17T00:00:00.000000",
          "2015-11-18T00:00:00.000000",
          "2015-11-19T00:00:00.000000",
          "2015-11-20T00:00:00.000000",
          "2015-11-21T00:00:00.000000",
          "2015-11-22T00:00:00.000000",
          "2015-11-23T00:00:00.000000",
          "2015-11-24T00:00:00.000000",
          "2015-11-25T00:00:00.000000",
          "2015-11-26T00:00:00.000000",
          "2015-11-27T00:00:00.000000",
          "2015-11-28T00:00:00.000000",
          "2015-11-29T00:00:00.000000",
          "2015-11-30T00:00:00.000000",
          "2015-12-01T00:00:00.000000",
          "2015-12-02T00:00:00.000000",
          "2015-12-03T00:00:00.000000",
          "2015-12-04T00:00:00.000000",
          "2015-12-05T00:00:00.000000",
          "2015-12-06T00:00:00.000000",
          "2015-12-07T00:00:00.000000",
          "2015-12-08T00:00:00.000000",
          "2015-12-09T00:00:00.000000",
          "2015-12-10T00:00:00.000000",
          "2015-12-11T00:00:00.000000",
          "2015-12-12T00:00:00.000000",
          "2015-12-13T00:00:00.000000",
          "2015-12-14T00:00:00.000000",
          "2015-12-15T00:00:00.000000",
          "2015-12-16T00:00:00.000000",
          "2015-12-17T00:00:00.000000",
          "2015-12-18T00:00:00.000000",
          "2015-12-19T00:00:00.000000",
          "2015-12-20T00:00:00.000000",
          "2015-12-21T00:00:00.000000",
          "2015-12-22T00:00:00.000000",
          "2015-12-23T00:00:00.000000",
          "2015-12-24T00:00:00.000000",
          "2015-12-25T00:00:00.000000",
          "2015-12-26T00:00:00.000000",
          "2015-12-27T00:00:00.000000",
          "2015-12-28T00:00:00.000000",
          "2015-12-29T00:00:00.000000",
          "2015-12-30T00:00:00.000000",
          "2015-12-31T00:00:00.000000",
          "2016-01-01T00:00:00.000000",
          "2016-01-02T00:00:00.000000",
          "2016-01-03T00:00:00.000000",
          "2016-01-04T00:00:00.000000",
          "2016-01-05T00:00:00.000000",
          "2016-01-06T00:00:00.000000",
          "2016-01-07T00:00:00.000000",
          "2016-01-08T00:00:00.000000",
          "2016-01-09T00:00:00.000000",
          "2016-01-10T00:00:00.000000",
          "2016-01-11T00:00:00.000000",
          "2016-01-12T00:00:00.000000",
          "2016-01-13T00:00:00.000000",
          "2016-01-14T00:00:00.000000",
          "2016-01-15T00:00:00.000000",
          "2016-01-16T00:00:00.000000",
          "2016-01-17T00:00:00.000000",
          "2016-01-18T00:00:00.000000",
          "2016-01-19T00:00:00.000000",
          "2016-01-20T00:00:00.000000",
          "2016-01-21T00:00:00.000000",
          "2016-01-22T00:00:00.000000",
          "2016-01-23T00:00:00.000000",
          "2016-01-24T00:00:00.000000",
          "2016-01-25T00:00:00.000000",
          "2016-01-26T00:00:00.000000",
          "2016-01-27T00:00:00.000000",
          "2016-01-28T00:00:00.000000",
          "2016-01-29T00:00:00.000000",
          "2016-01-30T00:00:00.000000",
          "2016-01-31T00:00:00.000000",
          "2016-02-01T00:00:00.000000",
          "2016-02-02T00:00:00.000000",
          "2016-02-03T00:00:00.000000",
          "2016-02-04T00:00:00.000000",
          "2016-02-05T00:00:00.000000",
          "2016-02-06T00:00:00.000000",
          "2016-02-07T00:00:00.000000",
          "2016-02-08T00:00:00.000000",
          "2016-02-09T00:00:00.000000",
          "2016-02-10T00:00:00.000000",
          "2016-02-11T00:00:00.000000",
          "2016-02-12T00:00:00.000000",
          "2016-02-13T00:00:00.000000",
          "2016-02-14T00:00:00.000000",
          "2016-02-15T00:00:00.000000",
          "2016-02-16T00:00:00.000000",
          "2016-02-17T00:00:00.000000",
          "2016-02-18T00:00:00.000000",
          "2016-02-19T00:00:00.000000",
          "2016-02-20T00:00:00.000000",
          "2016-02-21T00:00:00.000000",
          "2016-02-22T00:00:00.000000",
          "2016-02-23T00:00:00.000000",
          "2016-02-24T00:00:00.000000",
          "2016-02-25T00:00:00.000000",
          "2016-02-26T00:00:00.000000",
          "2016-02-27T00:00:00.000000",
          "2016-02-28T00:00:00.000000",
          "2016-02-29T00:00:00.000000",
          "2016-03-01T00:00:00.000000",
          "2016-03-02T00:00:00.000000",
          "2016-03-03T00:00:00.000000",
          "2016-03-04T00:00:00.000000",
          "2016-03-05T00:00:00.000000",
          "2016-03-06T00:00:00.000000",
          "2016-03-07T00:00:00.000000",
          "2016-03-08T00:00:00.000000",
          "2016-03-09T00:00:00.000000",
          "2016-03-10T00:00:00.000000",
          "2016-03-11T00:00:00.000000",
          "2016-03-12T00:00:00.000000",
          "2016-03-13T00:00:00.000000",
          "2016-03-14T00:00:00.000000",
          "2016-03-15T00:00:00.000000",
          "2016-03-16T00:00:00.000000",
          "2016-03-17T00:00:00.000000",
          "2016-03-18T00:00:00.000000",
          "2016-03-19T00:00:00.000000",
          "2016-03-20T00:00:00.000000",
          "2016-03-21T00:00:00.000000",
          "2016-03-22T00:00:00.000000",
          "2016-03-23T00:00:00.000000",
          "2016-03-24T00:00:00.000000",
          "2016-03-25T00:00:00.000000",
          "2016-03-26T00:00:00.000000",
          "2016-03-27T00:00:00.000000",
          "2016-03-28T00:00:00.000000",
          "2016-03-29T00:00:00.000000",
          "2016-03-30T00:00:00.000000",
          "2016-03-31T00:00:00.000000",
          "2016-04-01T00:00:00.000000",
          "2016-04-02T00:00:00.000000",
          "2016-04-03T00:00:00.000000",
          "2016-04-04T00:00:00.000000",
          "2016-04-05T00:00:00.000000",
          "2016-04-06T00:00:00.000000",
          "2016-04-07T00:00:00.000000",
          "2016-04-08T00:00:00.000000",
          "2016-04-09T00:00:00.000000",
          "2016-04-10T00:00:00.000000",
          "2016-04-11T00:00:00.000000",
          "2016-04-12T00:00:00.000000",
          "2016-04-13T00:00:00.000000",
          "2016-04-14T00:00:00.000000",
          "2016-04-15T00:00:00.000000",
          "2016-04-16T00:00:00.000000",
          "2016-04-17T00:00:00.000000",
          "2016-04-18T00:00:00.000000",
          "2016-04-19T00:00:00.000000",
          "2016-04-20T00:00:00.000000",
          "2016-04-21T00:00:00.000000",
          "2016-04-22T00:00:00.000000",
          "2016-04-23T00:00:00.000000",
          "2016-04-24T00:00:00.000000",
          "2016-04-25T00:00:00.000000",
          "2016-04-26T00:00:00.000000",
          "2016-04-27T00:00:00.000000",
          "2016-04-28T00:00:00.000000",
          "2016-04-29T00:00:00.000000",
          "2016-04-30T00:00:00.000000",
          "2016-05-01T00:00:00.000000",
          "2016-05-02T00:00:00.000000",
          "2016-05-03T00:00:00.000000",
          "2016-05-04T00:00:00.000000",
          "2016-05-05T00:00:00.000000",
          "2016-05-06T00:00:00.000000",
          "2016-05-07T00:00:00.000000",
          "2016-05-08T00:00:00.000000",
          "2016-05-09T00:00:00.000000",
          "2016-05-10T00:00:00.000000",
          "2016-05-11T00:00:00.000000",
          "2016-05-12T00:00:00.000000",
          "2016-05-13T00:00:00.000000",
          "2016-05-14T00:00:00.000000",
          "2016-05-15T00:00:00.000000",
          "2016-05-16T00:00:00.000000",
          "2016-05-17T00:00:00.000000",
          "2016-05-18T00:00:00.000000",
          "2016-05-19T00:00:00.000000",
          "2016-05-20T00:00:00.000000",
          "2016-05-21T00:00:00.000000",
          "2016-05-22T00:00:00.000000",
          "2016-05-23T00:00:00.000000",
          "2016-05-24T00:00:00.000000",
          "2016-05-25T00:00:00.000000",
          "2016-05-26T00:00:00.000000",
          "2016-05-27T00:00:00.000000",
          "2016-05-28T00:00:00.000000",
          "2016-05-29T00:00:00.000000",
          "2016-05-30T00:00:00.000000",
          "2016-05-31T00:00:00.000000",
          "2016-06-01T00:00:00.000000",
          "2016-06-02T00:00:00.000000",
          "2016-06-03T00:00:00.000000",
          "2016-06-04T00:00:00.000000",
          "2016-06-05T00:00:00.000000",
          "2016-06-06T00:00:00.000000",
          "2016-06-07T00:00:00.000000",
          "2016-06-08T00:00:00.000000",
          "2016-06-09T00:00:00.000000",
          "2016-06-10T00:00:00.000000",
          "2016-06-11T00:00:00.000000",
          "2016-06-12T00:00:00.000000",
          "2016-06-13T00:00:00.000000",
          "2016-06-14T00:00:00.000000",
          "2016-06-15T00:00:00.000000",
          "2016-06-16T00:00:00.000000",
          "2016-06-17T00:00:00.000000",
          "2016-06-18T00:00:00.000000",
          "2016-06-19T00:00:00.000000",
          "2016-06-20T00:00:00.000000",
          "2016-06-21T00:00:00.000000",
          "2016-06-22T00:00:00.000000",
          "2016-06-23T00:00:00.000000",
          "2016-06-24T00:00:00.000000",
          "2016-06-25T00:00:00.000000",
          "2016-06-26T00:00:00.000000",
          "2016-06-27T00:00:00.000000",
          "2016-06-28T00:00:00.000000",
          "2016-06-29T00:00:00.000000",
          "2016-06-30T00:00:00.000000",
          "2016-07-01T00:00:00.000000",
          "2016-07-02T00:00:00.000000",
          "2016-07-03T00:00:00.000000",
          "2016-07-04T00:00:00.000000",
          "2016-07-05T00:00:00.000000",
          "2016-07-06T00:00:00.000000",
          "2016-07-07T00:00:00.000000",
          "2016-07-08T00:00:00.000000",
          "2016-07-09T00:00:00.000000",
          "2016-07-10T00:00:00.000000",
          "2016-07-11T00:00:00.000000",
          "2016-07-12T00:00:00.000000",
          "2016-07-13T00:00:00.000000",
          "2016-07-14T00:00:00.000000",
          "2016-07-15T00:00:00.000000",
          "2016-07-16T00:00:00.000000",
          "2016-07-17T00:00:00.000000",
          "2016-07-18T00:00:00.000000",
          "2016-07-19T00:00:00.000000",
          "2016-07-20T00:00:00.000000",
          "2016-07-21T00:00:00.000000",
          "2016-07-22T00:00:00.000000",
          "2016-07-23T00:00:00.000000",
          "2016-07-24T00:00:00.000000",
          "2016-07-25T00:00:00.000000",
          "2016-07-26T00:00:00.000000",
          "2016-07-27T00:00:00.000000",
          "2016-07-28T00:00:00.000000",
          "2016-07-29T00:00:00.000000",
          "2016-07-30T00:00:00.000000",
          "2016-07-31T00:00:00.000000",
          "2016-08-01T00:00:00.000000",
          "2016-08-02T00:00:00.000000",
          "2016-08-03T00:00:00.000000",
          "2016-08-04T00:00:00.000000",
          "2016-08-05T00:00:00.000000",
          "2016-08-06T00:00:00.000000",
          "2016-08-07T00:00:00.000000",
          "2016-08-08T00:00:00.000000",
          "2016-08-09T00:00:00.000000",
          "2016-08-10T00:00:00.000000",
          "2016-08-11T00:00:00.000000",
          "2016-08-12T00:00:00.000000",
          "2016-08-13T00:00:00.000000",
          "2016-08-14T00:00:00.000000",
          "2016-08-15T00:00:00.000000",
          "2016-08-16T00:00:00.000000",
          "2016-08-17T00:00:00.000000",
          "2016-08-18T00:00:00.000000",
          "2016-08-19T00:00:00.000000",
          "2016-08-20T00:00:00.000000",
          "2016-08-21T00:00:00.000000",
          "2016-08-22T00:00:00.000000",
          "2016-08-23T00:00:00.000000",
          "2016-08-24T00:00:00.000000",
          "2016-08-25T00:00:00.000000",
          "2016-08-26T00:00:00.000000",
          "2016-08-27T00:00:00.000000",
          "2016-08-28T00:00:00.000000",
          "2016-08-29T00:00:00.000000",
          "2016-08-30T00:00:00.000000",
          "2016-08-31T00:00:00.000000",
          "2016-09-01T00:00:00.000000",
          "2016-09-02T00:00:00.000000",
          "2016-09-03T00:00:00.000000",
          "2016-09-04T00:00:00.000000",
          "2016-09-05T00:00:00.000000",
          "2016-09-06T00:00:00.000000",
          "2016-09-07T00:00:00.000000",
          "2016-09-08T00:00:00.000000",
          "2016-09-09T00:00:00.000000",
          "2016-09-10T00:00:00.000000",
          "2016-09-11T00:00:00.000000",
          "2016-09-12T00:00:00.000000",
          "2016-09-13T00:00:00.000000",
          "2016-09-14T00:00:00.000000",
          "2016-09-15T00:00:00.000000",
          "2016-09-16T00:00:00.000000",
          "2016-09-17T00:00:00.000000",
          "2016-09-18T00:00:00.000000",
          "2016-09-19T00:00:00.000000",
          "2016-09-20T00:00:00.000000",
          "2016-09-21T00:00:00.000000",
          "2016-09-22T00:00:00.000000",
          "2016-09-23T00:00:00.000000",
          "2016-09-24T00:00:00.000000",
          "2016-09-25T00:00:00.000000",
          "2016-09-26T00:00:00.000000",
          "2016-09-27T00:00:00.000000",
          "2016-09-28T00:00:00.000000",
          "2016-09-29T00:00:00.000000",
          "2016-09-30T00:00:00.000000",
          "2016-10-01T00:00:00.000000",
          "2016-10-02T00:00:00.000000",
          "2016-10-03T00:00:00.000000",
          "2016-10-04T00:00:00.000000",
          "2016-10-05T00:00:00.000000",
          "2016-10-06T00:00:00.000000",
          "2016-10-07T00:00:00.000000",
          "2016-10-08T00:00:00.000000",
          "2016-10-09T00:00:00.000000",
          "2016-10-10T00:00:00.000000",
          "2016-10-11T00:00:00.000000",
          "2016-10-12T00:00:00.000000",
          "2016-10-13T00:00:00.000000",
          "2016-10-14T00:00:00.000000",
          "2016-10-15T00:00:00.000000",
          "2016-10-16T00:00:00.000000",
          "2016-10-17T00:00:00.000000",
          "2016-10-18T00:00:00.000000",
          "2016-10-19T00:00:00.000000",
          "2016-10-20T00:00:00.000000",
          "2016-10-21T00:00:00.000000",
          "2016-10-22T00:00:00.000000",
          "2016-10-23T00:00:00.000000",
          "2016-10-24T00:00:00.000000",
          "2016-10-25T00:00:00.000000",
          "2016-10-26T00:00:00.000000",
          "2016-10-27T00:00:00.000000",
          "2016-10-28T00:00:00.000000",
          "2016-10-29T00:00:00.000000",
          "2016-10-30T00:00:00.000000",
          "2016-10-31T00:00:00.000000",
          "2016-11-01T00:00:00.000000",
          "2016-11-02T00:00:00.000000",
          "2016-11-03T00:00:00.000000",
          "2016-11-04T00:00:00.000000",
          "2016-11-05T00:00:00.000000",
          "2016-11-06T00:00:00.000000",
          "2016-11-07T00:00:00.000000",
          "2016-11-08T00:00:00.000000",
          "2016-11-09T00:00:00.000000",
          "2016-11-10T00:00:00.000000",
          "2016-11-11T00:00:00.000000",
          "2016-11-12T00:00:00.000000",
          "2016-11-13T00:00:00.000000",
          "2016-11-14T00:00:00.000000",
          "2016-11-15T00:00:00.000000",
          "2016-11-16T00:00:00.000000",
          "2016-11-17T00:00:00.000000",
          "2016-11-18T00:00:00.000000",
          "2016-11-19T00:00:00.000000",
          "2016-11-20T00:00:00.000000",
          "2016-11-21T00:00:00.000000",
          "2016-11-22T00:00:00.000000",
          "2016-11-23T00:00:00.000000",
          "2016-11-24T00:00:00.000000",
          "2016-11-25T00:00:00.000000",
          "2016-11-26T00:00:00.000000",
          "2016-11-27T00:00:00.000000",
          "2016-11-28T00:00:00.000000",
          "2016-11-29T00:00:00.000000",
          "2016-11-30T00:00:00.000000",
          "2016-12-01T00:00:00.000000",
          "2016-12-02T00:00:00.000000",
          "2016-12-03T00:00:00.000000",
          "2016-12-04T00:00:00.000000",
          "2016-12-05T00:00:00.000000",
          "2016-12-06T00:00:00.000000",
          "2016-12-07T00:00:00.000000",
          "2016-12-08T00:00:00.000000",
          "2016-12-09T00:00:00.000000",
          "2016-12-10T00:00:00.000000",
          "2016-12-11T00:00:00.000000",
          "2016-12-12T00:00:00.000000",
          "2016-12-13T00:00:00.000000",
          "2016-12-14T00:00:00.000000",
          "2016-12-15T00:00:00.000000",
          "2016-12-16T00:00:00.000000",
          "2016-12-17T00:00:00.000000",
          "2016-12-18T00:00:00.000000",
          "2016-12-19T00:00:00.000000",
          "2016-12-20T00:00:00.000000",
          "2016-12-21T00:00:00.000000",
          "2016-12-22T00:00:00.000000",
          "2016-12-23T00:00:00.000000",
          "2016-12-24T00:00:00.000000",
          "2016-12-25T00:00:00.000000",
          "2016-12-26T00:00:00.000000",
          "2016-12-27T00:00:00.000000",
          "2016-12-28T00:00:00.000000",
          "2016-12-29T00:00:00.000000",
          "2016-12-30T00:00:00.000000",
          "2016-12-31T00:00:00.000000",
          "2017-01-01T00:00:00.000000",
          "2017-01-02T00:00:00.000000",
          "2017-01-03T00:00:00.000000",
          "2017-01-04T00:00:00.000000",
          "2017-01-05T00:00:00.000000",
          "2017-01-06T00:00:00.000000",
          "2017-01-07T00:00:00.000000",
          "2017-01-08T00:00:00.000000",
          "2017-01-09T00:00:00.000000",
          "2017-01-10T00:00:00.000000",
          "2017-01-11T00:00:00.000000",
          "2017-01-12T00:00:00.000000",
          "2017-01-13T00:00:00.000000",
          "2017-01-14T00:00:00.000000",
          "2017-01-15T00:00:00.000000",
          "2017-01-16T00:00:00.000000",
          "2017-01-17T00:00:00.000000",
          "2017-01-18T00:00:00.000000",
          "2017-01-19T00:00:00.000000",
          "2017-01-20T00:00:00.000000",
          "2017-01-21T00:00:00.000000",
          "2017-01-22T00:00:00.000000",
          "2017-01-23T00:00:00.000000",
          "2017-01-24T00:00:00.000000",
          "2017-01-25T00:00:00.000000",
          "2017-01-26T00:00:00.000000",
          "2017-01-27T00:00:00.000000",
          "2017-01-28T00:00:00.000000",
          "2017-01-29T00:00:00.000000",
          "2017-01-30T00:00:00.000000",
          "2017-01-31T00:00:00.000000",
          "2017-02-01T00:00:00.000000",
          "2017-02-02T00:00:00.000000",
          "2017-02-03T00:00:00.000000",
          "2017-02-04T00:00:00.000000",
          "2017-02-05T00:00:00.000000",
          "2017-02-06T00:00:00.000000",
          "2017-02-07T00:00:00.000000",
          "2017-02-08T00:00:00.000000",
          "2017-02-09T00:00:00.000000",
          "2017-02-10T00:00:00.000000",
          "2017-02-11T00:00:00.000000",
          "2017-02-12T00:00:00.000000",
          "2017-02-13T00:00:00.000000",
          "2017-02-14T00:00:00.000000",
          "2017-02-15T00:00:00.000000",
          "2017-02-16T00:00:00.000000",
          "2017-02-17T00:00:00.000000",
          "2017-02-18T00:00:00.000000",
          "2017-02-19T00:00:00.000000",
          "2017-02-20T00:00:00.000000",
          "2017-02-21T00:00:00.000000",
          "2017-02-22T00:00:00.000000",
          "2017-02-23T00:00:00.000000",
          "2017-02-24T00:00:00.000000",
          "2017-02-25T00:00:00.000000",
          "2017-02-26T00:00:00.000000",
          "2017-02-27T00:00:00.000000",
          "2017-02-28T00:00:00.000000",
          "2017-03-01T00:00:00.000000",
          "2017-03-02T00:00:00.000000",
          "2017-03-03T00:00:00.000000",
          "2017-03-04T00:00:00.000000",
          "2017-03-05T00:00:00.000000",
          "2017-03-06T00:00:00.000000",
          "2017-03-07T00:00:00.000000",
          "2017-03-08T00:00:00.000000",
          "2017-03-09T00:00:00.000000",
          "2017-03-10T00:00:00.000000",
          "2017-03-11T00:00:00.000000",
          "2017-03-12T00:00:00.000000",
          "2017-03-13T00:00:00.000000",
          "2017-03-14T00:00:00.000000",
          "2017-03-15T00:00:00.000000",
          "2017-03-16T00:00:00.000000",
          "2017-03-17T00:00:00.000000",
          "2017-03-18T00:00:00.000000",
          "2017-03-19T00:00:00.000000",
          "2017-03-20T00:00:00.000000",
          "2017-03-21T00:00:00.000000",
          "2017-03-22T00:00:00.000000",
          "2017-03-23T00:00:00.000000",
          "2017-03-24T00:00:00.000000",
          "2017-03-25T00:00:00.000000",
          "2017-03-26T00:00:00.000000",
          "2017-03-27T00:00:00.000000",
          "2017-03-28T00:00:00.000000",
          "2017-03-29T00:00:00.000000",
          "2017-03-30T00:00:00.000000",
          "2017-03-31T00:00:00.000000",
          "2017-04-01T00:00:00.000000",
          "2017-04-02T00:00:00.000000",
          "2017-04-03T00:00:00.000000",
          "2017-04-04T00:00:00.000000",
          "2017-04-05T00:00:00.000000",
          "2017-04-06T00:00:00.000000",
          "2017-04-07T00:00:00.000000",
          "2017-04-08T00:00:00.000000",
          "2017-04-09T00:00:00.000000",
          "2017-04-10T00:00:00.000000",
          "2017-04-11T00:00:00.000000",
          "2017-04-12T00:00:00.000000",
          "2017-04-13T00:00:00.000000",
          "2017-04-14T00:00:00.000000",
          "2017-04-15T00:00:00.000000",
          "2017-04-16T00:00:00.000000",
          "2017-04-17T00:00:00.000000",
          "2017-04-18T00:00:00.000000",
          "2017-04-19T00:00:00.000000",
          "2017-04-20T00:00:00.000000",
          "2017-04-21T00:00:00.000000",
          "2017-04-22T00:00:00.000000",
          "2017-04-23T00:00:00.000000",
          "2017-04-24T00:00:00.000000",
          "2017-04-25T00:00:00.000000",
          "2017-04-26T00:00:00.000000",
          "2017-04-27T00:00:00.000000",
          "2017-04-28T00:00:00.000000",
          "2017-04-29T00:00:00.000000",
          "2017-04-30T00:00:00.000000",
          "2017-05-01T00:00:00.000000",
          "2017-05-02T00:00:00.000000",
          "2017-05-03T00:00:00.000000",
          "2017-05-04T00:00:00.000000",
          "2017-05-05T00:00:00.000000",
          "2017-05-06T00:00:00.000000",
          "2017-05-07T00:00:00.000000",
          "2017-05-08T00:00:00.000000",
          "2017-05-09T00:00:00.000000",
          "2017-05-10T00:00:00.000000",
          "2017-05-11T00:00:00.000000",
          "2017-05-12T00:00:00.000000",
          "2017-05-13T00:00:00.000000",
          "2017-05-14T00:00:00.000000",
          "2017-05-15T00:00:00.000000",
          "2017-05-16T00:00:00.000000",
          "2017-05-17T00:00:00.000000",
          "2017-05-18T00:00:00.000000",
          "2017-05-19T00:00:00.000000",
          "2017-05-20T00:00:00.000000",
          "2017-05-21T00:00:00.000000",
          "2017-05-22T00:00:00.000000",
          "2017-05-23T00:00:00.000000",
          "2017-05-24T00:00:00.000000",
          "2017-05-25T00:00:00.000000",
          "2017-05-26T00:00:00.000000",
          "2017-05-27T00:00:00.000000",
          "2017-05-28T00:00:00.000000",
          "2017-05-29T00:00:00.000000",
          "2017-05-30T00:00:00.000000",
          "2017-05-31T00:00:00.000000",
          "2017-06-01T00:00:00.000000",
          "2017-06-02T00:00:00.000000",
          "2017-06-03T00:00:00.000000",
          "2017-06-04T00:00:00.000000",
          "2017-06-05T00:00:00.000000",
          "2017-06-06T00:00:00.000000",
          "2017-06-07T00:00:00.000000",
          "2017-06-08T00:00:00.000000",
          "2017-06-09T00:00:00.000000",
          "2017-06-10T00:00:00.000000",
          "2017-06-11T00:00:00.000000",
          "2017-06-12T00:00:00.000000",
          "2017-06-13T00:00:00.000000",
          "2017-06-14T00:00:00.000000",
          "2017-06-15T00:00:00.000000",
          "2017-06-16T00:00:00.000000",
          "2017-06-17T00:00:00.000000",
          "2017-06-18T00:00:00.000000",
          "2017-06-19T00:00:00.000000",
          "2017-06-20T00:00:00.000000",
          "2017-06-21T00:00:00.000000",
          "2017-06-22T00:00:00.000000",
          "2017-06-23T00:00:00.000000",
          "2017-06-24T00:00:00.000000",
          "2017-06-25T00:00:00.000000",
          "2017-06-26T00:00:00.000000",
          "2017-06-27T00:00:00.000000",
          "2017-06-28T00:00:00.000000",
          "2017-06-29T00:00:00.000000",
          "2017-06-30T00:00:00.000000",
          "2017-07-01T00:00:00.000000",
          "2017-07-02T00:00:00.000000",
          "2017-07-03T00:00:00.000000",
          "2017-07-04T00:00:00.000000",
          "2017-07-05T00:00:00.000000",
          "2017-07-06T00:00:00.000000",
          "2017-07-07T00:00:00.000000",
          "2017-07-08T00:00:00.000000",
          "2017-07-09T00:00:00.000000",
          "2017-07-10T00:00:00.000000",
          "2017-07-11T00:00:00.000000",
          "2017-07-12T00:00:00.000000",
          "2017-07-13T00:00:00.000000",
          "2017-07-14T00:00:00.000000",
          "2017-07-15T00:00:00.000000",
          "2017-07-16T00:00:00.000000",
          "2017-07-17T00:00:00.000000",
          "2017-07-18T00:00:00.000000",
          "2017-07-19T00:00:00.000000",
          "2017-07-20T00:00:00.000000",
          "2017-07-21T00:00:00.000000",
          "2017-07-22T00:00:00.000000",
          "2017-07-23T00:00:00.000000",
          "2017-07-24T00:00:00.000000",
          "2017-07-25T00:00:00.000000",
          "2017-07-26T00:00:00.000000",
          "2017-07-27T00:00:00.000000",
          "2017-07-28T00:00:00.000000",
          "2017-07-29T00:00:00.000000",
          "2017-07-30T00:00:00.000000",
          "2017-07-31T00:00:00.000000",
          "2017-08-01T00:00:00.000000",
          "2017-08-02T00:00:00.000000",
          "2017-08-03T00:00:00.000000",
          "2017-08-04T00:00:00.000000",
          "2017-08-05T00:00:00.000000",
          "2017-08-06T00:00:00.000000",
          "2017-08-07T00:00:00.000000",
          "2017-08-08T00:00:00.000000",
          "2017-08-09T00:00:00.000000",
          "2017-08-10T00:00:00.000000",
          "2017-08-11T00:00:00.000000",
          "2017-08-12T00:00:00.000000",
          "2017-08-13T00:00:00.000000",
          "2017-08-14T00:00:00.000000",
          "2017-08-15T00:00:00.000000",
          "2017-08-16T00:00:00.000000",
          "2017-08-17T00:00:00.000000",
          "2017-08-18T00:00:00.000000",
          "2017-08-19T00:00:00.000000",
          "2017-08-20T00:00:00.000000",
          "2017-08-21T00:00:00.000000",
          "2017-08-22T00:00:00.000000",
          "2017-08-23T00:00:00.000000",
          "2017-08-24T00:00:00.000000",
          "2017-08-25T00:00:00.000000",
          "2017-08-26T00:00:00.000000",
          "2017-08-27T00:00:00.000000",
          "2017-08-28T00:00:00.000000",
          "2017-08-29T00:00:00.000000",
          "2017-08-30T00:00:00.000000",
          "2017-08-31T00:00:00.000000",
          "2017-09-01T00:00:00.000000",
          "2017-09-02T00:00:00.000000",
          "2017-09-03T00:00:00.000000",
          "2017-09-04T00:00:00.000000",
          "2017-09-05T00:00:00.000000",
          "2017-09-06T00:00:00.000000",
          "2017-09-07T00:00:00.000000",
          "2017-09-08T00:00:00.000000",
          "2017-09-09T00:00:00.000000",
          "2017-09-10T00:00:00.000000",
          "2017-09-11T00:00:00.000000",
          "2017-09-12T00:00:00.000000",
          "2017-09-13T00:00:00.000000",
          "2017-09-14T00:00:00.000000",
          "2017-09-15T00:00:00.000000",
          "2017-09-16T00:00:00.000000",
          "2017-09-17T00:00:00.000000",
          "2017-09-18T00:00:00.000000",
          "2017-09-19T00:00:00.000000",
          "2017-09-20T00:00:00.000000",
          "2017-09-21T00:00:00.000000",
          "2017-09-22T00:00:00.000000",
          "2017-09-23T00:00:00.000000",
          "2017-09-24T00:00:00.000000",
          "2017-09-25T00:00:00.000000",
          "2017-09-26T00:00:00.000000",
          "2017-09-27T00:00:00.000000",
          "2017-09-28T00:00:00.000000",
          "2017-09-29T00:00:00.000000",
          "2017-09-30T00:00:00.000000",
          "2017-10-01T00:00:00.000000",
          "2017-10-02T00:00:00.000000",
          "2017-10-03T00:00:00.000000",
          "2017-10-04T00:00:00.000000",
          "2017-10-05T00:00:00.000000",
          "2017-10-06T00:00:00.000000",
          "2017-10-07T00:00:00.000000",
          "2017-10-08T00:00:00.000000",
          "2017-10-09T00:00:00.000000",
          "2017-10-10T00:00:00.000000",
          "2017-10-11T00:00:00.000000",
          "2017-10-12T00:00:00.000000",
          "2017-10-13T00:00:00.000000",
          "2017-10-14T00:00:00.000000",
          "2017-10-15T00:00:00.000000",
          "2017-10-16T00:00:00.000000",
          "2017-10-17T00:00:00.000000",
          "2017-10-18T00:00:00.000000",
          "2017-10-19T00:00:00.000000",
          "2017-10-20T00:00:00.000000",
          "2017-10-21T00:00:00.000000",
          "2017-10-22T00:00:00.000000",
          "2017-10-23T00:00:00.000000",
          "2017-10-24T00:00:00.000000",
          "2017-10-25T00:00:00.000000",
          "2017-10-26T00:00:00.000000",
          "2017-10-27T00:00:00.000000",
          "2017-10-28T00:00:00.000000",
          "2017-10-29T00:00:00.000000",
          "2017-10-30T00:00:00.000000",
          "2017-10-31T00:00:00.000000",
          "2017-11-01T00:00:00.000000",
          "2017-11-02T00:00:00.000000",
          "2017-11-03T00:00:00.000000",
          "2017-11-04T00:00:00.000000",
          "2017-11-05T00:00:00.000000",
          "2017-11-06T00:00:00.000000",
          "2017-11-07T00:00:00.000000",
          "2017-11-08T00:00:00.000000",
          "2017-11-09T00:00:00.000000",
          "2017-11-10T00:00:00.000000",
          "2017-11-11T00:00:00.000000",
          "2017-11-12T00:00:00.000000",
          "2017-11-13T00:00:00.000000",
          "2017-11-14T00:00:00.000000",
          "2017-11-15T00:00:00.000000",
          "2017-11-16T00:00:00.000000",
          "2017-11-17T00:00:00.000000",
          "2017-11-18T00:00:00.000000",
          "2017-11-19T00:00:00.000000",
          "2017-11-20T00:00:00.000000",
          "2017-11-21T00:00:00.000000",
          "2017-11-22T00:00:00.000000",
          "2017-11-23T00:00:00.000000",
          "2017-11-24T00:00:00.000000",
          "2017-11-25T00:00:00.000000",
          "2017-11-26T00:00:00.000000",
          "2017-11-27T00:00:00.000000",
          "2017-11-28T00:00:00.000000",
          "2017-11-29T00:00:00.000000",
          "2017-11-30T00:00:00.000000",
          "2017-12-01T00:00:00.000000",
          "2017-12-02T00:00:00.000000",
          "2017-12-03T00:00:00.000000",
          "2017-12-04T00:00:00.000000",
          "2017-12-05T00:00:00.000000",
          "2017-12-06T00:00:00.000000",
          "2017-12-07T00:00:00.000000",
          "2017-12-08T00:00:00.000000",
          "2017-12-09T00:00:00.000000",
          "2017-12-10T00:00:00.000000",
          "2017-12-11T00:00:00.000000",
          "2017-12-12T00:00:00.000000",
          "2017-12-13T00:00:00.000000",
          "2017-12-14T00:00:00.000000",
          "2017-12-15T00:00:00.000000",
          "2017-12-16T00:00:00.000000",
          "2017-12-17T00:00:00.000000",
          "2017-12-18T00:00:00.000000",
          "2017-12-19T00:00:00.000000",
          "2017-12-20T00:00:00.000000",
          "2017-12-21T00:00:00.000000",
          "2017-12-22T00:00:00.000000",
          "2017-12-23T00:00:00.000000",
          "2017-12-24T00:00:00.000000",
          "2017-12-25T00:00:00.000000",
          "2017-12-26T00:00:00.000000",
          "2017-12-27T00:00:00.000000",
          "2017-12-28T00:00:00.000000",
          "2017-12-29T00:00:00.000000",
          "2017-12-30T00:00:00.000000",
          "2017-12-31T00:00:00.000000",
          "2018-01-01T00:00:00.000000",
          "2018-01-02T00:00:00.000000",
          "2018-01-03T00:00:00.000000",
          "2018-01-04T00:00:00.000000",
          "2018-01-05T00:00:00.000000",
          "2018-01-06T00:00:00.000000",
          "2018-01-07T00:00:00.000000",
          "2018-01-08T00:00:00.000000",
          "2018-01-09T00:00:00.000000",
          "2018-01-10T00:00:00.000000",
          "2018-01-11T00:00:00.000000",
          "2018-01-12T00:00:00.000000",
          "2018-01-13T00:00:00.000000",
          "2018-01-14T00:00:00.000000",
          "2018-01-15T00:00:00.000000",
          "2018-01-16T00:00:00.000000",
          "2018-01-17T00:00:00.000000",
          "2018-01-18T00:00:00.000000",
          "2018-01-19T00:00:00.000000",
          "2018-01-20T00:00:00.000000",
          "2018-01-21T00:00:00.000000",
          "2018-01-22T00:00:00.000000",
          "2018-01-23T00:00:00.000000",
          "2018-01-24T00:00:00.000000",
          "2018-01-25T00:00:00.000000",
          "2018-01-26T00:00:00.000000",
          "2018-01-27T00:00:00.000000",
          "2018-01-28T00:00:00.000000",
          "2018-01-29T00:00:00.000000",
          "2018-01-30T00:00:00.000000",
          "2018-01-31T00:00:00.000000",
          "2018-02-01T00:00:00.000000",
          "2018-02-02T00:00:00.000000",
          "2018-02-03T00:00:00.000000",
          "2018-02-04T00:00:00.000000",
          "2018-02-05T00:00:00.000000",
          "2018-02-06T00:00:00.000000",
          "2018-02-07T00:00:00.000000",
          "2018-02-08T00:00:00.000000",
          "2018-02-09T00:00:00.000000",
          "2018-02-10T00:00:00.000000",
          "2018-02-11T00:00:00.000000",
          "2018-02-12T00:00:00.000000",
          "2018-02-13T00:00:00.000000",
          "2018-02-14T00:00:00.000000",
          "2018-02-15T00:00:00.000000",
          "2018-02-16T00:00:00.000000",
          "2018-02-17T00:00:00.000000",
          "2018-02-18T00:00:00.000000",
          "2018-02-19T00:00:00.000000",
          "2018-02-20T00:00:00.000000",
          "2018-02-21T00:00:00.000000",
          "2018-02-22T00:00:00.000000",
          "2018-02-23T00:00:00.000000",
          "2018-02-24T00:00:00.000000",
          "2018-02-25T00:00:00.000000",
          "2018-02-26T00:00:00.000000",
          "2018-02-27T00:00:00.000000",
          "2018-02-28T00:00:00.000000",
          "2018-03-01T00:00:00.000000",
          "2018-03-02T00:00:00.000000",
          "2018-03-03T00:00:00.000000",
          "2018-03-04T00:00:00.000000",
          "2018-03-05T00:00:00.000000",
          "2018-03-06T00:00:00.000000",
          "2018-03-07T00:00:00.000000",
          "2018-03-08T00:00:00.000000",
          "2018-03-09T00:00:00.000000",
          "2018-03-10T00:00:00.000000",
          "2018-03-11T00:00:00.000000",
          "2018-03-12T00:00:00.000000",
          "2018-03-13T00:00:00.000000",
          "2018-03-14T00:00:00.000000",
          "2018-03-15T00:00:00.000000",
          "2018-03-16T00:00:00.000000",
          "2018-03-17T00:00:00.000000",
          "2018-03-18T00:00:00.000000",
          "2018-03-19T00:00:00.000000",
          "2018-03-20T00:00:00.000000",
          "2018-03-21T00:00:00.000000",
          "2018-03-22T00:00:00.000000",
          "2018-03-23T00:00:00.000000",
          "2018-03-24T00:00:00.000000",
          "2018-03-25T00:00:00.000000",
          "2018-03-26T00:00:00.000000",
          "2018-03-27T00:00:00.000000",
          "2018-03-28T00:00:00.000000",
          "2018-03-29T00:00:00.000000",
          "2018-03-30T00:00:00.000000",
          "2018-03-31T00:00:00.000000",
          "2018-04-01T00:00:00.000000",
          "2018-04-02T00:00:00.000000",
          "2018-04-03T00:00:00.000000",
          "2018-04-04T00:00:00.000000",
          "2018-04-05T00:00:00.000000",
          "2018-04-06T00:00:00.000000",
          "2018-04-07T00:00:00.000000",
          "2018-04-08T00:00:00.000000",
          "2018-04-09T00:00:00.000000",
          "2018-04-10T00:00:00.000000",
          "2018-04-11T00:00:00.000000",
          "2018-04-12T00:00:00.000000",
          "2018-04-13T00:00:00.000000",
          "2018-04-14T00:00:00.000000",
          "2018-04-15T00:00:00.000000",
          "2018-04-16T00:00:00.000000",
          "2018-04-17T00:00:00.000000",
          "2018-04-18T00:00:00.000000",
          "2018-04-19T00:00:00.000000",
          "2018-04-20T00:00:00.000000",
          "2018-04-21T00:00:00.000000",
          "2018-04-22T00:00:00.000000",
          "2018-04-23T00:00:00.000000",
          "2018-04-24T00:00:00.000000",
          "2018-04-25T00:00:00.000000",
          "2018-04-26T00:00:00.000000",
          "2018-04-27T00:00:00.000000",
          "2018-04-28T00:00:00.000000",
          "2018-04-29T00:00:00.000000",
          "2018-04-30T00:00:00.000000",
          "2018-05-01T00:00:00.000000",
          "2018-05-02T00:00:00.000000",
          "2018-05-03T00:00:00.000000",
          "2018-05-04T00:00:00.000000",
          "2018-05-05T00:00:00.000000",
          "2018-05-06T00:00:00.000000",
          "2018-05-07T00:00:00.000000",
          "2018-05-08T00:00:00.000000",
          "2018-05-09T00:00:00.000000",
          "2018-05-10T00:00:00.000000",
          "2018-05-11T00:00:00.000000",
          "2018-05-12T00:00:00.000000",
          "2018-05-13T00:00:00.000000",
          "2018-05-14T00:00:00.000000",
          "2018-05-15T00:00:00.000000",
          "2018-05-16T00:00:00.000000",
          "2018-05-17T00:00:00.000000",
          "2018-05-18T00:00:00.000000",
          "2018-05-19T00:00:00.000000",
          "2018-05-20T00:00:00.000000",
          "2018-05-21T00:00:00.000000",
          "2018-05-22T00:00:00.000000",
          "2018-05-23T00:00:00.000000",
          "2018-05-24T00:00:00.000000",
          "2018-05-25T00:00:00.000000",
          "2018-05-26T00:00:00.000000",
          "2018-05-27T00:00:00.000000",
          "2018-05-28T00:00:00.000000",
          "2018-05-29T00:00:00.000000",
          "2018-05-30T00:00:00.000000",
          "2018-05-31T00:00:00.000000",
          "2018-06-01T00:00:00.000000",
          "2018-06-02T00:00:00.000000",
          "2018-06-03T00:00:00.000000",
          "2018-06-04T00:00:00.000000",
          "2018-06-05T00:00:00.000000",
          "2018-06-06T00:00:00.000000",
          "2018-06-07T00:00:00.000000",
          "2018-06-08T00:00:00.000000",
          "2018-06-09T00:00:00.000000",
          "2018-06-10T00:00:00.000000",
          "2018-06-11T00:00:00.000000",
          "2018-06-12T00:00:00.000000",
          "2018-06-13T00:00:00.000000",
          "2018-06-14T00:00:00.000000",
          "2018-06-15T00:00:00.000000",
          "2018-06-16T00:00:00.000000",
          "2018-06-17T00:00:00.000000",
          "2018-06-18T00:00:00.000000",
          "2018-06-19T00:00:00.000000",
          "2018-06-20T00:00:00.000000",
          "2018-06-21T00:00:00.000000",
          "2018-06-22T00:00:00.000000",
          "2018-06-23T00:00:00.000000",
          "2018-06-24T00:00:00.000000",
          "2018-06-25T00:00:00.000000",
          "2018-06-26T00:00:00.000000",
          "2018-06-27T00:00:00.000000",
          "2018-06-28T00:00:00.000000",
          "2018-06-29T00:00:00.000000",
          "2018-06-30T00:00:00.000000",
          "2018-07-01T00:00:00.000000",
          "2018-07-02T00:00:00.000000",
          "2018-07-03T00:00:00.000000",
          "2018-07-04T00:00:00.000000",
          "2018-07-05T00:00:00.000000",
          "2018-07-06T00:00:00.000000",
          "2018-07-07T00:00:00.000000",
          "2018-07-08T00:00:00.000000",
          "2018-07-09T00:00:00.000000",
          "2018-07-10T00:00:00.000000",
          "2018-07-11T00:00:00.000000",
          "2018-07-12T00:00:00.000000",
          "2018-07-13T00:00:00.000000",
          "2018-07-14T00:00:00.000000",
          "2018-07-15T00:00:00.000000",
          "2018-07-16T00:00:00.000000",
          "2018-07-17T00:00:00.000000",
          "2018-07-18T00:00:00.000000",
          "2018-07-19T00:00:00.000000",
          "2018-07-20T00:00:00.000000",
          "2018-07-21T00:00:00.000000",
          "2018-07-22T00:00:00.000000",
          "2018-07-23T00:00:00.000000",
          "2018-07-24T00:00:00.000000",
          "2018-07-25T00:00:00.000000",
          "2018-07-26T00:00:00.000000",
          "2018-07-27T00:00:00.000000",
          "2018-07-28T00:00:00.000000",
          "2018-07-29T00:00:00.000000",
          "2018-07-30T00:00:00.000000",
          "2018-07-31T00:00:00.000000",
          "2018-08-01T00:00:00.000000",
          "2018-08-02T00:00:00.000000",
          "2018-08-03T00:00:00.000000",
          "2018-08-04T00:00:00.000000",
          "2018-08-05T00:00:00.000000",
          "2018-08-06T00:00:00.000000",
          "2018-08-07T00:00:00.000000",
          "2018-08-08T00:00:00.000000",
          "2018-08-09T00:00:00.000000",
          "2018-08-10T00:00:00.000000",
          "2018-08-11T00:00:00.000000",
          "2018-08-12T00:00:00.000000",
          "2018-08-13T00:00:00.000000",
          "2018-08-14T00:00:00.000000",
          "2018-08-15T00:00:00.000000",
          "2018-08-16T00:00:00.000000",
          "2018-08-17T00:00:00.000000",
          "2018-08-18T00:00:00.000000",
          "2018-08-19T00:00:00.000000",
          "2018-08-20T00:00:00.000000",
          "2018-08-21T00:00:00.000000",
          "2018-08-22T00:00:00.000000",
          "2018-08-23T00:00:00.000000",
          "2018-08-24T00:00:00.000000",
          "2018-08-25T00:00:00.000000",
          "2018-08-26T00:00:00.000000",
          "2018-08-27T00:00:00.000000",
          "2018-08-28T00:00:00.000000",
          "2018-08-29T00:00:00.000000",
          "2018-08-30T00:00:00.000000",
          "2018-08-31T00:00:00.000000",
          "2018-09-01T00:00:00.000000",
          "2018-09-02T00:00:00.000000",
          "2018-09-03T00:00:00.000000",
          "2018-09-04T00:00:00.000000",
          "2018-09-05T00:00:00.000000",
          "2018-09-06T00:00:00.000000",
          "2018-09-07T00:00:00.000000",
          "2018-09-08T00:00:00.000000",
          "2018-09-09T00:00:00.000000",
          "2018-09-10T00:00:00.000000",
          "2018-09-11T00:00:00.000000",
          "2018-09-12T00:00:00.000000",
          "2018-09-13T00:00:00.000000",
          "2018-09-14T00:00:00.000000",
          "2018-09-15T00:00:00.000000",
          "2018-09-16T00:00:00.000000",
          "2018-09-17T00:00:00.000000",
          "2018-09-18T00:00:00.000000",
          "2018-09-19T00:00:00.000000",
          "2018-09-20T00:00:00.000000",
          "2018-09-21T00:00:00.000000",
          "2018-09-22T00:00:00.000000",
          "2018-09-23T00:00:00.000000",
          "2018-09-24T00:00:00.000000",
          "2018-09-25T00:00:00.000000",
          "2018-09-26T00:00:00.000000",
          "2018-09-27T00:00:00.000000",
          "2018-09-28T00:00:00.000000",
          "2018-09-29T00:00:00.000000",
          "2018-09-30T00:00:00.000000",
          "2018-10-01T00:00:00.000000",
          "2018-10-02T00:00:00.000000",
          "2018-10-03T00:00:00.000000",
          "2018-10-04T00:00:00.000000",
          "2018-10-05T00:00:00.000000",
          "2018-10-06T00:00:00.000000",
          "2018-10-07T00:00:00.000000",
          "2018-10-08T00:00:00.000000",
          "2018-10-09T00:00:00.000000",
          "2018-10-10T00:00:00.000000",
          "2018-10-11T00:00:00.000000",
          "2018-10-12T00:00:00.000000",
          "2018-10-13T00:00:00.000000",
          "2018-10-14T00:00:00.000000",
          "2018-10-15T00:00:00.000000",
          "2018-10-16T00:00:00.000000",
          "2018-10-17T00:00:00.000000",
          "2018-10-18T00:00:00.000000",
          "2018-10-19T00:00:00.000000",
          "2018-10-20T00:00:00.000000",
          "2018-10-21T00:00:00.000000",
          "2018-10-22T00:00:00.000000",
          "2018-10-23T00:00:00.000000",
          "2018-10-24T00:00:00.000000",
          "2018-10-25T00:00:00.000000",
          "2018-10-26T00:00:00.000000",
          "2018-10-27T00:00:00.000000",
          "2018-10-28T00:00:00.000000",
          "2018-10-29T00:00:00.000000",
          "2018-10-30T00:00:00.000000",
          "2018-10-31T00:00:00.000000",
          "2018-11-01T00:00:00.000000",
          "2018-11-02T00:00:00.000000",
          "2018-11-03T00:00:00.000000",
          "2018-11-04T00:00:00.000000",
          "2018-11-05T00:00:00.000000",
          "2018-11-06T00:00:00.000000",
          "2018-11-07T00:00:00.000000",
          "2018-11-08T00:00:00.000000",
          "2018-11-09T00:00:00.000000",
          "2018-11-10T00:00:00.000000",
          "2018-11-11T00:00:00.000000",
          "2018-11-12T00:00:00.000000",
          "2018-11-13T00:00:00.000000",
          "2018-11-14T00:00:00.000000",
          "2018-11-15T00:00:00.000000",
          "2018-11-16T00:00:00.000000",
          "2018-11-17T00:00:00.000000",
          "2018-11-18T00:00:00.000000",
          "2018-11-19T00:00:00.000000",
          "2018-11-20T00:00:00.000000",
          "2018-11-21T00:00:00.000000",
          "2018-11-22T00:00:00.000000",
          "2018-11-23T00:00:00.000000",
          "2018-11-24T00:00:00.000000",
          "2018-11-25T00:00:00.000000",
          "2018-11-26T00:00:00.000000",
          "2018-11-27T00:00:00.000000",
          "2018-11-28T00:00:00.000000",
          "2018-11-29T00:00:00.000000",
          "2018-11-30T00:00:00.000000",
          "2018-12-01T00:00:00.000000",
          "2018-12-02T00:00:00.000000",
          "2018-12-03T00:00:00.000000",
          "2018-12-04T00:00:00.000000",
          "2018-12-05T00:00:00.000000",
          "2018-12-06T00:00:00.000000",
          "2018-12-07T00:00:00.000000",
          "2018-12-08T00:00:00.000000",
          "2018-12-09T00:00:00.000000",
          "2018-12-10T00:00:00.000000",
          "2018-12-11T00:00:00.000000",
          "2018-12-12T00:00:00.000000",
          "2018-12-13T00:00:00.000000",
          "2018-12-14T00:00:00.000000",
          "2018-12-15T00:00:00.000000",
          "2018-12-16T00:00:00.000000",
          "2018-12-17T00:00:00.000000",
          "2018-12-18T00:00:00.000000",
          "2018-12-19T00:00:00.000000",
          "2018-12-20T00:00:00.000000",
          "2018-12-21T00:00:00.000000",
          "2018-12-22T00:00:00.000000",
          "2018-12-23T00:00:00.000000",
          "2018-12-24T00:00:00.000000",
          "2018-12-25T00:00:00.000000",
          "2018-12-26T00:00:00.000000",
          "2018-12-27T00:00:00.000000",
          "2018-12-28T00:00:00.000000",
          "2018-12-29T00:00:00.000000",
          "2018-12-30T00:00:00.000000",
          "2018-12-31T00:00:00.000000",
          "2019-01-01T00:00:00.000000",
          "2019-01-02T00:00:00.000000",
          "2019-01-03T00:00:00.000000",
          "2019-01-04T00:00:00.000000",
          "2019-01-05T00:00:00.000000",
          "2019-01-06T00:00:00.000000",
          "2019-01-07T00:00:00.000000",
          "2019-01-08T00:00:00.000000",
          "2019-01-09T00:00:00.000000",
          "2019-01-10T00:00:00.000000",
          "2019-01-11T00:00:00.000000",
          "2019-01-12T00:00:00.000000",
          "2019-01-13T00:00:00.000000",
          "2019-01-14T00:00:00.000000",
          "2019-01-15T00:00:00.000000",
          "2019-01-16T00:00:00.000000",
          "2019-01-17T00:00:00.000000",
          "2019-01-18T00:00:00.000000",
          "2019-01-19T00:00:00.000000",
          "2019-01-20T00:00:00.000000",
          "2019-01-21T00:00:00.000000",
          "2019-01-22T00:00:00.000000",
          "2019-01-23T00:00:00.000000",
          "2019-01-24T00:00:00.000000",
          "2019-01-25T00:00:00.000000",
          "2019-01-26T00:00:00.000000",
          "2019-01-27T00:00:00.000000",
          "2019-01-28T00:00:00.000000",
          "2019-01-29T00:00:00.000000",
          "2019-01-30T00:00:00.000000",
          "2019-01-31T00:00:00.000000",
          "2019-02-01T00:00:00.000000",
          "2019-02-02T00:00:00.000000",
          "2019-02-03T00:00:00.000000",
          "2019-02-04T00:00:00.000000",
          "2019-02-05T00:00:00.000000",
          "2019-02-06T00:00:00.000000",
          "2019-02-07T00:00:00.000000",
          "2019-02-08T00:00:00.000000",
          "2019-02-09T00:00:00.000000",
          "2019-02-10T00:00:00.000000",
          "2019-02-11T00:00:00.000000",
          "2019-02-12T00:00:00.000000",
          "2019-02-13T00:00:00.000000",
          "2019-02-14T00:00:00.000000",
          "2019-02-15T00:00:00.000000",
          "2019-02-16T00:00:00.000000",
          "2019-02-17T00:00:00.000000",
          "2019-02-18T00:00:00.000000",
          "2019-02-19T00:00:00.000000",
          "2019-02-20T00:00:00.000000",
          "2019-02-21T00:00:00.000000",
          "2019-02-22T00:00:00.000000",
          "2019-02-23T00:00:00.000000",
          "2019-02-24T00:00:00.000000",
          "2019-02-25T00:00:00.000000",
          "2019-02-26T00:00:00.000000",
          "2019-02-27T00:00:00.000000",
          "2019-02-28T00:00:00.000000",
          "2019-03-01T00:00:00.000000",
          "2019-03-02T00:00:00.000000",
          "2019-03-03T00:00:00.000000",
          "2019-03-04T00:00:00.000000",
          "2019-03-05T00:00:00.000000",
          "2019-03-06T00:00:00.000000",
          "2019-03-07T00:00:00.000000",
          "2019-03-08T00:00:00.000000",
          "2019-03-09T00:00:00.000000",
          "2019-03-10T00:00:00.000000",
          "2019-03-11T00:00:00.000000",
          "2019-03-12T00:00:00.000000",
          "2019-03-13T00:00:00.000000",
          "2019-03-14T00:00:00.000000",
          "2019-03-15T00:00:00.000000",
          "2019-03-16T00:00:00.000000",
          "2019-03-17T00:00:00.000000",
          "2019-03-18T00:00:00.000000",
          "2019-03-19T00:00:00.000000",
          "2019-03-20T00:00:00.000000",
          "2019-03-21T00:00:00.000000",
          "2019-03-22T00:00:00.000000",
          "2019-03-23T00:00:00.000000",
          "2019-03-24T00:00:00.000000",
          "2019-03-25T00:00:00.000000",
          "2019-03-26T00:00:00.000000",
          "2019-03-27T00:00:00.000000",
          "2019-03-28T00:00:00.000000",
          "2019-03-29T00:00:00.000000",
          "2019-03-30T00:00:00.000000",
          "2019-03-31T00:00:00.000000",
          "2019-04-01T00:00:00.000000",
          "2019-04-02T00:00:00.000000",
          "2019-04-03T00:00:00.000000",
          "2019-04-04T00:00:00.000000",
          "2019-04-05T00:00:00.000000",
          "2019-04-06T00:00:00.000000",
          "2019-04-07T00:00:00.000000",
          "2019-04-08T00:00:00.000000",
          "2019-04-09T00:00:00.000000",
          "2019-04-10T00:00:00.000000",
          "2019-04-11T00:00:00.000000",
          "2019-04-12T00:00:00.000000",
          "2019-04-13T00:00:00.000000",
          "2019-04-14T00:00:00.000000",
          "2019-04-15T00:00:00.000000",
          "2019-04-16T00:00:00.000000",
          "2019-04-17T00:00:00.000000",
          "2019-04-18T00:00:00.000000",
          "2019-04-19T00:00:00.000000",
          "2019-04-20T00:00:00.000000",
          "2019-04-21T00:00:00.000000",
          "2019-04-22T00:00:00.000000",
          "2019-04-23T00:00:00.000000",
          "2019-04-24T00:00:00.000000",
          "2019-04-25T00:00:00.000000",
          "2019-04-26T00:00:00.000000",
          "2019-04-27T00:00:00.000000",
          "2019-04-28T00:00:00.000000",
          "2019-04-29T00:00:00.000000",
          "2019-04-30T00:00:00.000000",
          "2019-05-01T00:00:00.000000",
          "2019-05-02T00:00:00.000000",
          "2019-05-03T00:00:00.000000",
          "2019-05-04T00:00:00.000000",
          "2019-05-05T00:00:00.000000",
          "2019-05-06T00:00:00.000000",
          "2019-05-07T00:00:00.000000",
          "2019-05-08T00:00:00.000000",
          "2019-05-09T00:00:00.000000",
          "2019-05-10T00:00:00.000000",
          "2019-05-11T00:00:00.000000",
          "2019-05-12T00:00:00.000000",
          "2019-05-13T00:00:00.000000",
          "2019-05-14T00:00:00.000000",
          "2019-05-15T00:00:00.000000",
          "2019-05-16T00:00:00.000000",
          "2019-05-17T00:00:00.000000",
          "2019-05-18T00:00:00.000000",
          "2019-05-19T00:00:00.000000",
          "2019-05-20T00:00:00.000000",
          "2019-05-21T00:00:00.000000",
          "2019-05-22T00:00:00.000000",
          "2019-05-23T00:00:00.000000",
          "2019-05-24T00:00:00.000000",
          "2019-05-25T00:00:00.000000",
          "2019-05-26T00:00:00.000000",
          "2019-05-27T00:00:00.000000",
          "2019-05-28T00:00:00.000000",
          "2019-05-29T00:00:00.000000",
          "2019-05-30T00:00:00.000000",
          "2019-05-31T00:00:00.000000",
          "2019-06-01T00:00:00.000000",
          "2019-06-02T00:00:00.000000",
          "2019-06-03T00:00:00.000000",
          "2019-06-04T00:00:00.000000",
          "2019-06-05T00:00:00.000000",
          "2019-06-06T00:00:00.000000",
          "2019-06-07T00:00:00.000000",
          "2019-06-08T00:00:00.000000",
          "2019-06-09T00:00:00.000000",
          "2019-06-10T00:00:00.000000",
          "2019-06-11T00:00:00.000000",
          "2019-06-12T00:00:00.000000",
          "2019-06-13T00:00:00.000000",
          "2019-06-14T00:00:00.000000",
          "2019-06-15T00:00:00.000000",
          "2019-06-16T00:00:00.000000",
          "2019-06-17T00:00:00.000000",
          "2019-06-18T00:00:00.000000",
          "2019-06-19T00:00:00.000000",
          "2019-06-20T00:00:00.000000",
          "2019-06-21T00:00:00.000000",
          "2019-06-22T00:00:00.000000",
          "2019-06-23T00:00:00.000000",
          "2019-06-24T00:00:00.000000",
          "2019-06-25T00:00:00.000000",
          "2019-06-26T00:00:00.000000",
          "2019-06-27T00:00:00.000000",
          "2019-06-28T00:00:00.000000",
          "2019-06-29T00:00:00.000000",
          "2019-06-30T00:00:00.000000",
          "2019-07-01T00:00:00.000000",
          "2019-07-02T00:00:00.000000",
          "2019-07-03T00:00:00.000000",
          "2019-07-04T00:00:00.000000",
          "2019-07-05T00:00:00.000000",
          "2019-07-06T00:00:00.000000",
          "2019-07-07T00:00:00.000000",
          "2019-07-08T00:00:00.000000",
          "2019-07-09T00:00:00.000000",
          "2019-07-10T00:00:00.000000",
          "2019-07-11T00:00:00.000000",
          "2019-07-12T00:00:00.000000",
          "2019-07-13T00:00:00.000000",
          "2019-07-14T00:00:00.000000",
          "2019-07-15T00:00:00.000000",
          "2019-07-16T00:00:00.000000",
          "2019-07-17T00:00:00.000000",
          "2019-07-18T00:00:00.000000",
          "2019-07-19T00:00:00.000000",
          "2019-07-20T00:00:00.000000",
          "2019-07-21T00:00:00.000000",
          "2019-07-22T00:00:00.000000",
          "2019-07-23T00:00:00.000000",
          "2019-07-24T00:00:00.000000",
          "2019-07-25T00:00:00.000000",
          "2019-07-26T00:00:00.000000",
          "2019-07-27T00:00:00.000000",
          "2019-07-28T00:00:00.000000",
          "2019-07-29T00:00:00.000000",
          "2019-07-30T00:00:00.000000",
          "2019-07-31T00:00:00.000000",
          "2019-08-01T00:00:00.000000",
          "2019-08-02T00:00:00.000000",
          "2019-08-03T00:00:00.000000",
          "2019-08-04T00:00:00.000000",
          "2019-08-05T00:00:00.000000",
          "2019-08-06T00:00:00.000000",
          "2019-08-07T00:00:00.000000",
          "2019-08-08T00:00:00.000000",
          "2019-08-09T00:00:00.000000",
          "2019-08-10T00:00:00.000000",
          "2019-08-11T00:00:00.000000",
          "2019-08-12T00:00:00.000000",
          "2019-08-13T00:00:00.000000",
          "2019-08-14T00:00:00.000000",
          "2019-08-15T00:00:00.000000",
          "2019-08-16T00:00:00.000000",
          "2019-08-17T00:00:00.000000",
          "2019-08-18T00:00:00.000000",
          "2019-08-19T00:00:00.000000",
          "2019-08-20T00:00:00.000000",
          "2019-08-21T00:00:00.000000",
          "2019-08-22T00:00:00.000000",
          "2019-08-23T00:00:00.000000",
          "2019-08-24T00:00:00.000000",
          "2019-08-25T00:00:00.000000",
          "2019-08-26T00:00:00.000000",
          "2019-08-27T00:00:00.000000",
          "2019-08-28T00:00:00.000000",
          "2019-08-29T00:00:00.000000",
          "2019-08-30T00:00:00.000000",
          "2019-08-31T00:00:00.000000",
          "2019-09-01T00:00:00.000000",
          "2019-09-02T00:00:00.000000",
          "2019-09-03T00:00:00.000000",
          "2019-09-04T00:00:00.000000",
          "2019-09-05T00:00:00.000000",
          "2019-09-06T00:00:00.000000",
          "2019-09-07T00:00:00.000000",
          "2019-09-08T00:00:00.000000",
          "2019-09-09T00:00:00.000000",
          "2019-09-10T00:00:00.000000",
          "2019-09-11T00:00:00.000000",
          "2019-09-12T00:00:00.000000",
          "2019-09-13T00:00:00.000000",
          "2019-09-14T00:00:00.000000",
          "2019-09-15T00:00:00.000000",
          "2019-09-16T00:00:00.000000",
          "2019-09-17T00:00:00.000000",
          "2019-09-18T00:00:00.000000",
          "2019-09-19T00:00:00.000000",
          "2019-09-20T00:00:00.000000",
          "2019-09-21T00:00:00.000000",
          "2019-09-22T00:00:00.000000",
          "2019-09-23T00:00:00.000000",
          "2019-09-24T00:00:00.000000",
          "2019-09-25T00:00:00.000000",
          "2019-09-26T00:00:00.000000",
          "2019-09-27T00:00:00.000000",
          "2019-09-28T00:00:00.000000",
          "2019-09-29T00:00:00.000000",
          "2019-09-30T00:00:00.000000",
          "2019-10-01T00:00:00.000000",
          "2019-10-02T00:00:00.000000",
          "2019-10-03T00:00:00.000000",
          "2019-10-04T00:00:00.000000",
          "2019-10-05T00:00:00.000000",
          "2019-10-06T00:00:00.000000",
          "2019-10-07T00:00:00.000000",
          "2019-10-08T00:00:00.000000",
          "2019-10-09T00:00:00.000000",
          "2019-10-10T00:00:00.000000",
          "2019-10-11T00:00:00.000000",
          "2019-10-12T00:00:00.000000",
          "2019-10-13T00:00:00.000000",
          "2019-10-14T00:00:00.000000",
          "2019-10-15T00:00:00.000000",
          "2019-10-16T00:00:00.000000",
          "2019-10-17T00:00:00.000000",
          "2019-10-18T00:00:00.000000",
          "2019-10-19T00:00:00.000000",
          "2019-10-20T00:00:00.000000",
          "2019-10-21T00:00:00.000000",
          "2019-10-22T00:00:00.000000",
          "2019-10-23T00:00:00.000000",
          "2019-10-24T00:00:00.000000",
          "2019-10-25T00:00:00.000000",
          "2019-10-26T00:00:00.000000",
          "2019-10-27T00:00:00.000000",
          "2019-10-28T00:00:00.000000",
          "2019-10-29T00:00:00.000000",
          "2019-10-30T00:00:00.000000",
          "2019-10-31T00:00:00.000000",
          "2019-11-01T00:00:00.000000",
          "2019-11-02T00:00:00.000000",
          "2019-11-03T00:00:00.000000",
          "2019-11-04T00:00:00.000000",
          "2019-11-05T00:00:00.000000",
          "2019-11-06T00:00:00.000000",
          "2019-11-07T00:00:00.000000",
          "2019-11-08T00:00:00.000000",
          "2019-11-09T00:00:00.000000",
          "2019-11-10T00:00:00.000000",
          "2019-11-11T00:00:00.000000",
          "2019-11-12T00:00:00.000000",
          "2019-11-13T00:00:00.000000",
          "2019-11-14T00:00:00.000000",
          "2019-11-15T00:00:00.000000",
          "2019-11-16T00:00:00.000000",
          "2019-11-17T00:00:00.000000",
          "2019-11-18T00:00:00.000000",
          "2019-11-19T00:00:00.000000",
          "2019-11-20T00:00:00.000000",
          "2019-11-21T00:00:00.000000",
          "2019-11-22T00:00:00.000000",
          "2019-11-23T00:00:00.000000",
          "2019-11-24T00:00:00.000000",
          "2019-11-25T00:00:00.000000",
          "2019-11-26T00:00:00.000000",
          "2019-11-27T00:00:00.000000",
          "2019-11-28T00:00:00.000000",
          "2019-11-29T00:00:00.000000",
          "2019-11-30T00:00:00.000000",
          "2019-12-01T00:00:00.000000",
          "2019-12-02T00:00:00.000000",
          "2019-12-03T00:00:00.000000",
          "2019-12-04T00:00:00.000000",
          "2019-12-05T00:00:00.000000",
          "2019-12-06T00:00:00.000000",
          "2019-12-07T00:00:00.000000",
          "2019-12-08T00:00:00.000000",
          "2019-12-09T00:00:00.000000",
          "2019-12-10T00:00:00.000000",
          "2019-12-11T00:00:00.000000",
          "2019-12-12T00:00:00.000000",
          "2019-12-13T00:00:00.000000",
          "2019-12-14T00:00:00.000000",
          "2019-12-15T00:00:00.000000",
          "2019-12-16T00:00:00.000000",
          "2019-12-17T00:00:00.000000",
          "2019-12-18T00:00:00.000000",
          "2019-12-19T00:00:00.000000",
          "2019-12-20T00:00:00.000000",
          "2019-12-21T00:00:00.000000",
          "2019-12-22T00:00:00.000000",
          "2019-12-23T00:00:00.000000",
          "2019-12-24T00:00:00.000000",
          "2019-12-25T00:00:00.000000",
          "2019-12-26T00:00:00.000000",
          "2019-12-27T00:00:00.000000",
          "2019-12-28T00:00:00.000000",
          "2019-12-29T00:00:00.000000",
          "2019-12-30T00:00:00.000000",
          "2019-12-31T00:00:00.000000",
          "2020-01-01T00:00:00.000000",
          "2020-01-02T00:00:00.000000",
          "2020-01-03T00:00:00.000000",
          "2020-01-04T00:00:00.000000",
          "2020-01-05T00:00:00.000000",
          "2020-01-06T00:00:00.000000",
          "2020-01-07T00:00:00.000000",
          "2020-01-08T00:00:00.000000",
          "2020-01-09T00:00:00.000000",
          "2020-01-10T00:00:00.000000",
          "2020-01-11T00:00:00.000000",
          "2020-01-12T00:00:00.000000",
          "2020-01-13T00:00:00.000000",
          "2020-01-14T00:00:00.000000",
          "2020-01-15T00:00:00.000000",
          "2020-01-16T00:00:00.000000",
          "2020-01-17T00:00:00.000000",
          "2020-01-18T00:00:00.000000",
          "2020-01-19T00:00:00.000000",
          "2020-01-20T00:00:00.000000",
          "2020-01-21T00:00:00.000000",
          "2020-01-22T00:00:00.000000",
          "2020-01-23T00:00:00.000000",
          "2020-01-24T00:00:00.000000",
          "2020-01-25T00:00:00.000000",
          "2020-01-26T00:00:00.000000",
          "2020-01-27T00:00:00.000000",
          "2020-01-28T00:00:00.000000",
          "2020-01-29T00:00:00.000000",
          "2020-01-30T00:00:00.000000",
          "2020-01-31T00:00:00.000000",
          "2020-02-01T00:00:00.000000",
          "2020-02-02T00:00:00.000000",
          "2020-02-03T00:00:00.000000",
          "2020-02-04T00:00:00.000000",
          "2020-02-05T00:00:00.000000",
          "2020-02-06T00:00:00.000000",
          "2020-02-07T00:00:00.000000",
          "2020-02-08T00:00:00.000000",
          "2020-02-09T00:00:00.000000",
          "2020-02-10T00:00:00.000000",
          "2020-02-11T00:00:00.000000",
          "2020-02-12T00:00:00.000000",
          "2020-02-13T00:00:00.000000",
          "2020-02-14T00:00:00.000000",
          "2020-02-15T00:00:00.000000",
          "2020-02-16T00:00:00.000000",
          "2020-02-17T00:00:00.000000",
          "2020-02-18T00:00:00.000000",
          "2020-02-19T00:00:00.000000",
          "2020-02-20T00:00:00.000000",
          "2020-02-21T00:00:00.000000",
          "2020-02-22T00:00:00.000000",
          "2020-02-23T00:00:00.000000",
          "2020-02-24T00:00:00.000000",
          "2020-02-25T00:00:00.000000",
          "2020-02-26T00:00:00.000000",
          "2020-02-27T00:00:00.000000",
          "2020-02-28T00:00:00.000000",
          "2020-02-29T00:00:00.000000",
          "2020-03-01T00:00:00.000000",
          "2020-03-02T00:00:00.000000",
          "2020-03-03T00:00:00.000000",
          "2020-03-04T00:00:00.000000",
          "2020-03-05T00:00:00.000000",
          "2020-03-06T00:00:00.000000",
          "2020-03-07T00:00:00.000000",
          "2020-03-08T00:00:00.000000",
          "2020-03-09T00:00:00.000000",
          "2020-03-10T00:00:00.000000",
          "2020-03-11T00:00:00.000000",
          "2020-03-12T00:00:00.000000",
          "2020-03-13T00:00:00.000000",
          "2020-03-14T00:00:00.000000",
          "2020-03-15T00:00:00.000000",
          "2020-03-16T00:00:00.000000",
          "2020-03-17T00:00:00.000000",
          "2020-03-18T00:00:00.000000",
          "2020-03-19T00:00:00.000000",
          "2020-03-20T00:00:00.000000",
          "2020-03-21T00:00:00.000000",
          "2020-03-22T00:00:00.000000",
          "2020-03-23T00:00:00.000000",
          "2020-03-24T00:00:00.000000",
          "2020-03-25T00:00:00.000000",
          "2020-03-26T00:00:00.000000",
          "2020-03-27T00:00:00.000000",
          "2020-03-28T00:00:00.000000",
          "2020-03-29T00:00:00.000000",
          "2020-03-30T00:00:00.000000",
          "2020-03-31T00:00:00.000000",
          "2020-04-01T00:00:00.000000",
          "2020-04-02T00:00:00.000000",
          "2020-04-03T00:00:00.000000",
          "2020-04-04T00:00:00.000000",
          "2020-04-05T00:00:00.000000",
          "2020-04-06T00:00:00.000000",
          "2020-04-07T00:00:00.000000",
          "2020-04-08T00:00:00.000000",
          "2020-04-09T00:00:00.000000",
          "2020-04-10T00:00:00.000000",
          "2020-04-11T00:00:00.000000",
          "2020-04-12T00:00:00.000000",
          "2020-04-13T00:00:00.000000",
          "2020-04-14T00:00:00.000000",
          "2020-04-15T00:00:00.000000",
          "2020-04-16T00:00:00.000000",
          "2020-04-17T00:00:00.000000",
          "2020-04-18T00:00:00.000000",
          "2020-04-19T00:00:00.000000",
          "2020-04-20T00:00:00.000000",
          "2020-04-21T00:00:00.000000",
          "2020-04-22T00:00:00.000000",
          "2020-04-23T00:00:00.000000",
          "2020-04-24T00:00:00.000000",
          "2020-04-25T00:00:00.000000",
          "2020-04-26T00:00:00.000000",
          "2020-04-27T00:00:00.000000",
          "2020-04-28T00:00:00.000000",
          "2020-04-29T00:00:00.000000",
          "2020-04-30T00:00:00.000000",
          "2020-05-01T00:00:00.000000",
          "2020-05-02T00:00:00.000000",
          "2020-05-03T00:00:00.000000",
          "2020-05-04T00:00:00.000000",
          "2020-05-05T00:00:00.000000",
          "2020-05-06T00:00:00.000000",
          "2020-05-07T00:00:00.000000",
          "2020-05-08T00:00:00.000000",
          "2020-05-09T00:00:00.000000",
          "2020-05-10T00:00:00.000000",
          "2020-05-11T00:00:00.000000",
          "2020-05-12T00:00:00.000000",
          "2020-05-13T00:00:00.000000",
          "2020-05-14T00:00:00.000000",
          "2020-05-15T00:00:00.000000",
          "2020-05-16T00:00:00.000000",
          "2020-05-17T00:00:00.000000",
          "2020-05-18T00:00:00.000000",
          "2020-05-19T00:00:00.000000",
          "2020-05-20T00:00:00.000000",
          "2020-05-21T00:00:00.000000",
          "2020-05-22T00:00:00.000000",
          "2020-05-23T00:00:00.000000",
          "2020-05-24T00:00:00.000000",
          "2020-05-25T00:00:00.000000",
          "2020-05-26T00:00:00.000000",
          "2020-05-27T00:00:00.000000",
          "2020-05-28T00:00:00.000000",
          "2020-05-29T00:00:00.000000",
          "2020-05-30T00:00:00.000000",
          "2020-05-31T00:00:00.000000",
          "2020-06-01T00:00:00.000000",
          "2020-06-02T00:00:00.000000",
          "2020-06-03T00:00:00.000000",
          "2020-06-04T00:00:00.000000",
          "2020-06-05T00:00:00.000000",
          "2020-06-06T00:00:00.000000",
          "2020-06-07T00:00:00.000000",
          "2020-06-08T00:00:00.000000",
          "2020-06-09T00:00:00.000000",
          "2020-06-10T00:00:00.000000",
          "2020-06-11T00:00:00.000000",
          "2020-06-12T00:00:00.000000",
          "2020-06-13T00:00:00.000000",
          "2020-06-14T00:00:00.000000",
          "2020-06-15T00:00:00.000000",
          "2020-06-16T00:00:00.000000",
          "2020-06-17T00:00:00.000000",
          "2020-06-18T00:00:00.000000",
          "2020-06-19T00:00:00.000000",
          "2020-06-20T00:00:00.000000",
          "2020-06-21T00:00:00.000000",
          "2020-06-22T00:00:00.000000",
          "2020-06-23T00:00:00.000000",
          "2020-06-24T00:00:00.000000",
          "2020-06-25T00:00:00.000000",
          "2020-06-26T00:00:00.000000",
          "2020-06-27T00:00:00.000000",
          "2020-06-28T00:00:00.000000",
          "2020-06-29T00:00:00.000000",
          "2020-06-30T00:00:00.000000",
          "2020-07-01T00:00:00.000000",
          "2020-07-02T00:00:00.000000",
          "2020-07-03T00:00:00.000000",
          "2020-07-04T00:00:00.000000",
          "2020-07-05T00:00:00.000000",
          "2020-07-06T00:00:00.000000",
          "2020-07-07T00:00:00.000000",
          "2020-07-08T00:00:00.000000",
          "2020-07-09T00:00:00.000000",
          "2020-07-10T00:00:00.000000",
          "2020-07-11T00:00:00.000000",
          "2020-07-12T00:00:00.000000",
          "2020-07-13T00:00:00.000000",
          "2020-07-14T00:00:00.000000",
          "2020-07-15T00:00:00.000000",
          "2020-07-16T00:00:00.000000",
          "2020-07-17T00:00:00.000000",
          "2020-07-18T00:00:00.000000",
          "2020-07-19T00:00:00.000000",
          "2020-07-20T00:00:00.000000",
          "2020-07-21T00:00:00.000000",
          "2020-07-22T00:00:00.000000",
          "2020-07-23T00:00:00.000000",
          "2020-07-24T00:00:00.000000",
          "2020-07-25T00:00:00.000000",
          "2020-07-26T00:00:00.000000",
          "2020-07-27T00:00:00.000000",
          "2020-07-28T00:00:00.000000",
          "2020-07-29T00:00:00.000000",
          "2020-07-30T00:00:00.000000",
          "2020-07-31T00:00:00.000000",
          "2020-08-01T00:00:00.000000",
          "2020-08-02T00:00:00.000000",
          "2020-08-03T00:00:00.000000",
          "2020-08-04T00:00:00.000000",
          "2020-08-05T00:00:00.000000",
          "2020-08-06T00:00:00.000000",
          "2020-08-07T00:00:00.000000",
          "2020-08-08T00:00:00.000000",
          "2020-08-09T00:00:00.000000",
          "2020-08-10T00:00:00.000000",
          "2020-08-11T00:00:00.000000",
          "2020-08-12T00:00:00.000000",
          "2020-08-13T00:00:00.000000",
          "2020-08-14T00:00:00.000000",
          "2020-08-15T00:00:00.000000",
          "2020-08-16T00:00:00.000000",
          "2020-08-17T00:00:00.000000",
          "2020-08-18T00:00:00.000000",
          "2020-08-19T00:00:00.000000",
          "2020-08-20T00:00:00.000000",
          "2020-08-21T00:00:00.000000",
          "2020-08-22T00:00:00.000000",
          "2020-08-23T00:00:00.000000",
          "2020-08-24T00:00:00.000000",
          "2020-08-25T00:00:00.000000",
          "2020-08-26T00:00:00.000000",
          "2020-08-27T00:00:00.000000",
          "2020-08-28T00:00:00.000000",
          "2020-08-29T00:00:00.000000",
          "2020-08-30T00:00:00.000000",
          "2020-08-31T00:00:00.000000",
          "2020-09-01T00:00:00.000000",
          "2020-09-02T00:00:00.000000",
          "2020-09-03T00:00:00.000000",
          "2020-09-04T00:00:00.000000",
          "2020-09-05T00:00:00.000000",
          "2020-09-06T00:00:00.000000",
          "2020-09-07T00:00:00.000000",
          "2020-09-08T00:00:00.000000",
          "2020-09-09T00:00:00.000000",
          "2020-09-10T00:00:00.000000",
          "2020-09-11T00:00:00.000000",
          "2020-09-12T00:00:00.000000",
          "2020-09-13T00:00:00.000000",
          "2020-09-14T00:00:00.000000",
          "2020-09-15T00:00:00.000000",
          "2020-09-16T00:00:00.000000",
          "2020-09-17T00:00:00.000000",
          "2020-09-18T00:00:00.000000",
          "2020-09-19T00:00:00.000000",
          "2020-09-20T00:00:00.000000",
          "2020-09-21T00:00:00.000000",
          "2020-09-22T00:00:00.000000",
          "2020-09-23T00:00:00.000000",
          "2020-09-24T00:00:00.000000",
          "2020-09-25T00:00:00.000000",
          "2020-09-26T00:00:00.000000",
          "2020-09-27T00:00:00.000000",
          "2020-09-28T00:00:00.000000",
          "2020-09-29T00:00:00.000000",
          "2020-09-30T00:00:00.000000",
          "2020-10-01T00:00:00.000000",
          "2020-10-02T00:00:00.000000",
          "2020-10-03T00:00:00.000000",
          "2020-10-04T00:00:00.000000",
          "2020-10-05T00:00:00.000000",
          "2020-10-06T00:00:00.000000",
          "2020-10-07T00:00:00.000000",
          "2020-10-08T00:00:00.000000",
          "2020-10-09T00:00:00.000000",
          "2020-10-10T00:00:00.000000",
          "2020-10-11T00:00:00.000000",
          "2020-10-12T00:00:00.000000",
          "2020-10-13T00:00:00.000000",
          "2020-10-14T00:00:00.000000",
          "2020-10-15T00:00:00.000000",
          "2020-10-16T00:00:00.000000",
          "2020-10-17T00:00:00.000000",
          "2020-10-18T00:00:00.000000",
          "2020-10-19T00:00:00.000000",
          "2020-10-20T00:00:00.000000",
          "2020-10-21T00:00:00.000000",
          "2020-10-22T00:00:00.000000",
          "2020-10-23T00:00:00.000000",
          "2020-10-24T00:00:00.000000",
          "2020-10-25T00:00:00.000000",
          "2020-10-26T00:00:00.000000",
          "2020-10-27T00:00:00.000000",
          "2020-10-28T00:00:00.000000",
          "2020-10-29T00:00:00.000000",
          "2020-10-30T00:00:00.000000",
          "2020-10-31T00:00:00.000000",
          "2020-11-01T00:00:00.000000",
          "2020-11-02T00:00:00.000000",
          "2020-11-03T00:00:00.000000",
          "2020-11-04T00:00:00.000000",
          "2020-11-05T00:00:00.000000",
          "2020-11-06T00:00:00.000000",
          "2020-11-07T00:00:00.000000",
          "2020-11-08T00:00:00.000000"
         ],
         "y": {
          "dtype": "float64",
          "shape": [
           2245
          ]
         }
        },
        {
         "customdata": [
          [
           0.424528726415519,
           0.09990009990008275
          ],
          [
           0.5257767638910368,
           0.23564263004067243
          ],
          [
           0.12661343528778865,
           0.11676037775367831
          ],
          [
           0.10208166914117418,
           0.7657043920609112
          ],
          [
           0.1300787598891652,
           1.010587088729153
          ],
          [
           0.12036762272792542,
           0.7840819165070343
          ],
          [
           0.11161403875515681,
           0.43508045219067526
          ],
          [
           0.09809705744785092,
           0.3633730821394465
          ],
          [
           0.08561569986385309,
           0.5656440935464389
          ],
          [
           0.049712085343789854,
           0.46038362236879493
          ]
         ],
         "hovertemplate": "%{x}<br>Price: %{y}<br>Size: %{customdata[0]:.4f}<br>Fees: %{customdata[1]:.4f}",
         "marker": {
          "color": "#37B13F",
          "line": {
           "color": "rgb(38,123,44)",
           "width": 1
          },
          "size": 8,
          "symbol": "triangle-up"
         },
         "mode": "markers",
         "name": "Buy",
         "type": "scatter",
         "uid": "639ac8ff-1a30-4c4d-b4e8-1838ac2135e9",
         "x": [
          "2015-05-22T00:00:00.000000",
          "2016-01-12T00:00:00.000000",
          "2016-12-24T00:00:00.000000",
          "2018-06-05T00:00:00.000000",
          "2018-08-01T00:00:00.000000",
          "2018-09-17T00:00:00.000000",
          "2018-12-22T00:00:00.000000",
          "2019-01-15T00:00:00.000000",
          "2020-04-02T00:00:00.000000",
          "2020-06-26T00:00:00.000000"
         ],
         "y": {
          "dtype": "float64",
          "shape": [
           10
          ]
         }
        },
        {
         "customdata": [
          [
           0.849057452831038,
           0.23611438705778331
          ],
          [
           0.2024960749510356,
           0.11699413226371033
          ],
          [
           0.05073079562454169,
           0.7672373337868812
          ],
          [
           0.15343254265780668,
           1.0126102861041533
          ],
          [
           0.10672497712052373,
           0.7856516500736506
          ],
          [
           0.13401026833532712,
           0.43595148412701934
          ],
          [
           0.0892178091749865,
           0.3641005557773952
          ],
          [
           0.10697630572071534,
           0.5667765141542079
          ],
          [
           0.06425509400699084,
           0.4613053113025092
          ],
          [
           0.03516907668058887,
           0.39037077241150075
          ]
         ],
         "hovertemplate": "%{x}<br>Price: %{y}<br>Size: %{customdata[0]:.4f}<br>Fees: %{customdata[1]:.4f}",
         "marker": {
          "color": "#EA4335",
          "line": {
           "color": "rgb(181,31,18)",
           "width": 1
          },
          "size": 8,
          "symbol": "triangle-down"
         },
         "mode": "markers",
         "name": "Sell",
         "type": "scatter",
         "uid": "f47331dc-5daf-40ac-8a98-7c0be99c54b8",
         "x": [
          "2015-07-17T00:00:00.000000",
          "2016-08-17T00:00:00.000000",
          "2018-01-09T00:00:00.000000",
          "2018-07-05T00:00:00.000000",
          "2018-09-05T00:00:00.000000",
          "2018-12-17T00:00:00.000000",
          "2018-12-25T00:00:00.000000",
          "2019-04-19T00:00:00.000000",
          "2020-04-08T00:00:00.000000",
          "2020-07-30T00:00:00.000000"
         ],
         "y": {
          "dtype": "float64",
          "shape": [
           10
          ]
         }
        }
       ],
       "_js2py_relayout": {},
       "_js2py_restyle": {},
       "_js2py_update": {},
       "_last_layout_edit_id": 4,
       "_last_trace_edit_id": 4,
       "_layout": {
        "autosize": false,
        "colorway": [
         "#1f77b4",
         "#ff7f0e",
         "#2ca02c",
         "#dc3912",
         "#9467bd",
         "#8c564b",
         "#e377c2",
         "#7f7f7f",
         "#bcbd22",
         "#17becf"
        ],
        "height": 300,
        "hovermode": "closest",
        "margin": {
         "b": 30,
         "t": 30
        },
        "template": {
         "data": {
          "bar": [
           {
            "error_x": {
             "color": "#2a3f5f"
            },
            "error_y": {
             "color": "#2a3f5f"
            },
            "marker": {
             "line": {
              "color": "#E5ECF6",
              "width": 0.5
             }
            },
            "type": "bar"
           }
          ],
          "barpolar": [
           {
            "marker": {
             "line": {
              "color": "#E5ECF6",
              "width": 0.5
             }
            },
            "type": "barpolar"
           }
          ],
          "carpet": [
           {
            "aaxis": {
             "endlinecolor": "#2a3f5f",
             "gridcolor": "white",
             "linecolor": "white",
             "minorgridcolor": "white",
             "startlinecolor": "#2a3f5f"
            },
            "baxis": {
             "endlinecolor": "#2a3f5f",
             "gridcolor": "white",
             "linecolor": "white",
             "minorgridcolor": "white",
             "startlinecolor": "#2a3f5f"
            },
            "type": "carpet"
           }
          ],
          "choropleth": [
           {
            "colorbar": {
             "outlinewidth": 0,
             "ticks": ""
            },
            "type": "choropleth"
           }
          ],
          "contour": [
           {
            "colorbar": {
             "outlinewidth": 0,
             "ticks": ""
            },
            "colorscale": [
             [
              0,
              "#0d0887"
             ],
             [
              0.1111111111111111,
              "#46039f"
             ],
             [
              0.2222222222222222,
              "#7201a8"
             ],
             [
              0.3333333333333333,
              "#9c179e"
             ],
             [
              0.4444444444444444,
              "#bd3786"
             ],
             [
              0.5555555555555556,
              "#d8576b"
             ],
             [
              0.6666666666666666,
              "#ed7953"
             ],
             [
              0.7777777777777778,
              "#fb9f3a"
             ],
             [
              0.8888888888888888,
              "#fdca26"
             ],
             [
              1,
              "#f0f921"
             ]
            ],
            "type": "contour"
           }
          ],
          "contourcarpet": [
           {
            "colorbar": {
             "outlinewidth": 0,
             "ticks": ""
            },
            "type": "contourcarpet"
           }
          ],
          "heatmap": [
           {
            "colorbar": {
             "outlinewidth": 0,
             "ticks": ""
            },
            "colorscale": [
             [
              0,
              "#0d0887"
             ],
             [
              0.1111111111111111,
              "#46039f"
             ],
             [
              0.2222222222222222,
              "#7201a8"
             ],
             [
              0.3333333333333333,
              "#9c179e"
             ],
             [
              0.4444444444444444,
              "#bd3786"
             ],
             [
              0.5555555555555556,
              "#d8576b"
             ],
             [
              0.6666666666666666,
              "#ed7953"
             ],
             [
              0.7777777777777778,
              "#fb9f3a"
             ],
             [
              0.8888888888888888,
              "#fdca26"
             ],
             [
              1,
              "#f0f921"
             ]
            ],
            "type": "heatmap"
           }
          ],
          "heatmapgl": [
           {
            "colorbar": {
             "outlinewidth": 0,
             "ticks": ""
            },
            "colorscale": [
             [
              0,
              "#0d0887"
             ],
             [
              0.1111111111111111,
              "#46039f"
             ],
             [
              0.2222222222222222,
              "#7201a8"
             ],
             [
              0.3333333333333333,
              "#9c179e"
             ],
             [
              0.4444444444444444,
              "#bd3786"
             ],
             [
              0.5555555555555556,
              "#d8576b"
             ],
             [
              0.6666666666666666,
              "#ed7953"
             ],
             [
              0.7777777777777778,
              "#fb9f3a"
             ],
             [
              0.8888888888888888,
              "#fdca26"
             ],
             [
              1,
              "#f0f921"
             ]
            ],
            "type": "heatmapgl"
           }
          ],
          "histogram": [
           {
            "marker": {
             "colorbar": {
              "outlinewidth": 0,
              "ticks": ""
             }
            },
            "type": "histogram"
           }
          ],
          "histogram2d": [
           {
            "colorbar": {
             "outlinewidth": 0,
             "ticks": ""
            },
            "colorscale": [
             [
              0,
              "#0d0887"
             ],
             [
              0.1111111111111111,
              "#46039f"
             ],
             [
              0.2222222222222222,
              "#7201a8"
             ],
             [
              0.3333333333333333,
              "#9c179e"
             ],
             [
              0.4444444444444444,
              "#bd3786"
             ],
             [
              0.5555555555555556,
              "#d8576b"
             ],
             [
              0.6666666666666666,
              "#ed7953"
             ],
             [
              0.7777777777777778,
              "#fb9f3a"
             ],
             [
              0.8888888888888888,
              "#fdca26"
             ],
             [
              1,
              "#f0f921"
             ]
            ],
            "type": "histogram2d"
           }
          ],
          "histogram2dcontour": [
           {
            "colorbar": {
             "outlinewidth": 0,
             "ticks": ""
            },
            "colorscale": [
             [
              0,
              "#0d0887"
             ],
             [
              0.1111111111111111,
              "#46039f"
             ],
             [
              0.2222222222222222,
              "#7201a8"
             ],
             [
              0.3333333333333333,
              "#9c179e"
             ],
             [
              0.4444444444444444,
              "#bd3786"
             ],
             [
              0.5555555555555556,
              "#d8576b"
             ],
             [
              0.6666666666666666,
              "#ed7953"
             ],
             [
              0.7777777777777778,
              "#fb9f3a"
             ],
             [
              0.8888888888888888,
              "#fdca26"
             ],
             [
              1,
              "#f0f921"
             ]
            ],
            "type": "histogram2dcontour"
           }
          ],
          "mesh3d": [
           {
            "colorbar": {
             "outlinewidth": 0,
             "ticks": ""
            },
            "type": "mesh3d"
           }
          ],
          "parcoords": [
           {
            "line": {
             "colorbar": {
              "outlinewidth": 0,
              "ticks": ""
             }
            },
            "type": "parcoords"
           }
          ],
          "pie": [
           {
            "automargin": true,
            "type": "pie"
           }
          ],
          "scatter": [
           {
            "marker": {
             "colorbar": {
              "outlinewidth": 0,
              "ticks": ""
             }
            },
            "type": "scatter"
           }
          ],
          "scatter3d": [
           {
            "line": {
             "colorbar": {
              "outlinewidth": 0,
              "ticks": ""
             }
            },
            "marker": {
             "colorbar": {
              "outlinewidth": 0,
              "ticks": ""
             }
            },
            "type": "scatter3d"
           }
          ],
          "scattercarpet": [
           {
            "marker": {
             "colorbar": {
              "outlinewidth": 0,
              "ticks": ""
             }
            },
            "type": "scattercarpet"
           }
          ],
          "scattergeo": [
           {
            "marker": {
             "colorbar": {
              "outlinewidth": 0,
              "ticks": ""
             }
            },
            "type": "scattergeo"
           }
          ],
          "scattergl": [
           {
            "marker": {
             "colorbar": {
              "outlinewidth": 0,
              "ticks": ""
             }
            },
            "type": "scattergl"
           }
          ],
          "scattermapbox": [
           {
            "marker": {
             "colorbar": {
              "outlinewidth": 0,
              "ticks": ""
             }
            },
            "type": "scattermapbox"
           }
          ],
          "scatterpolar": [
           {
            "marker": {
             "colorbar": {
              "outlinewidth": 0,
              "ticks": ""
             }
            },
            "type": "scatterpolar"
           }
          ],
          "scatterpolargl": [
           {
            "marker": {
             "colorbar": {
              "outlinewidth": 0,
              "ticks": ""
             }
            },
            "type": "scatterpolargl"
           }
          ],
          "scatterternary": [
           {
            "marker": {
             "colorbar": {
              "outlinewidth": 0,
              "ticks": ""
             }
            },
            "type": "scatterternary"
           }
          ],
          "surface": [
           {
            "colorbar": {
             "outlinewidth": 0,
             "ticks": ""
            },
            "colorscale": [
             [
              0,
              "#0d0887"
             ],
             [
              0.1111111111111111,
              "#46039f"
             ],
             [
              0.2222222222222222,
              "#7201a8"
             ],
             [
              0.3333333333333333,
              "#9c179e"
             ],
             [
              0.4444444444444444,
              "#bd3786"
             ],
             [
              0.5555555555555556,
              "#d8576b"
             ],
             [
              0.6666666666666666,
              "#ed7953"
             ],
             [
              0.7777777777777778,
              "#fb9f3a"
             ],
             [
              0.8888888888888888,
              "#fdca26"
             ],
             [
              1,
              "#f0f921"
             ]
            ],
            "type": "surface"
           }
          ],
          "table": [
           {
            "cells": {
             "fill": {
              "color": "#EBF0F8"
             },
             "line": {
              "color": "white"
             }
            },
            "header": {
             "fill": {
              "color": "#C8D4E3"
             },
             "line": {
              "color": "white"
             }
            },
            "type": "table"
           }
          ]
         },
         "layout": {
          "annotationdefaults": {
           "arrowcolor": "#2a3f5f",
           "arrowhead": 0,
           "arrowwidth": 1
          },
          "coloraxis": {
           "colorbar": {
            "outlinewidth": 0,
            "ticks": ""
           }
          },
          "colorscale": {
           "diverging": [
            [
             0,
             "#8e0152"
            ],
            [
             0.1,
             "#c51b7d"
            ],
            [
             0.2,
             "#de77ae"
            ],
            [
             0.3,
             "#f1b6da"
            ],
            [
             0.4,
             "#fde0ef"
            ],
            [
             0.5,
             "#f7f7f7"
            ],
            [
             0.6,
             "#e6f5d0"
            ],
            [
             0.7,
             "#b8e186"
            ],
            [
             0.8,
             "#7fbc41"
            ],
            [
             0.9,
             "#4d9221"
            ],
            [
             1,
             "#276419"
            ]
           ],
           "sequential": [
            [
             0,
             "#0d0887"
            ],
            [
             0.1111111111111111,
             "#46039f"
            ],
            [
             0.2222222222222222,
             "#7201a8"
            ],
            [
             0.3333333333333333,
             "#9c179e"
            ],
            [
             0.4444444444444444,
             "#bd3786"
            ],
            [
             0.5555555555555556,
             "#d8576b"
            ],
            [
             0.6666666666666666,
             "#ed7953"
            ],
            [
             0.7777777777777778,
             "#fb9f3a"
            ],
            [
             0.8888888888888888,
             "#fdca26"
            ],
            [
             1,
             "#f0f921"
            ]
           ],
           "sequentialminus": [
            [
             0,
             "#0d0887"
            ],
            [
             0.1111111111111111,
             "#46039f"
            ],
            [
             0.2222222222222222,
             "#7201a8"
            ],
            [
             0.3333333333333333,
             "#9c179e"
            ],
            [
             0.4444444444444444,
             "#bd3786"
            ],
            [
             0.5555555555555556,
             "#d8576b"
            ],
            [
             0.6666666666666666,
             "#ed7953"
            ],
            [
             0.7777777777777778,
             "#fb9f3a"
            ],
            [
             0.8888888888888888,
             "#fdca26"
            ],
            [
             1,
             "#f0f921"
            ]
           ]
          },
          "colorway": [
           "#636efa",
           "#EF553B",
           "#00cc96",
           "#ab63fa",
           "#FFA15A",
           "#19d3f3",
           "#FF6692",
           "#B6E880",
           "#FF97FF",
           "#FECB52"
          ],
          "font": {
           "color": "#2a3f5f"
          },
          "geo": {
           "bgcolor": "white",
           "lakecolor": "white",
           "landcolor": "#E5ECF6",
           "showlakes": true,
           "showland": true,
           "subunitcolor": "white"
          },
          "hoverlabel": {
           "align": "left"
          },
          "hovermode": "closest",
          "mapbox": {
           "style": "light"
          },
          "paper_bgcolor": "white",
          "plot_bgcolor": "#E5ECF6",
          "polar": {
           "angularaxis": {
            "gridcolor": "white",
            "linecolor": "white",
            "ticks": ""
           },
           "bgcolor": "#E5ECF6",
           "radialaxis": {
            "gridcolor": "white",
            "linecolor": "white",
            "ticks": ""
           }
          },
          "scene": {
           "xaxis": {
            "backgroundcolor": "#E5ECF6",
            "gridcolor": "white",
            "gridwidth": 2,
            "linecolor": "white",
            "showbackground": true,
            "ticks": "",
            "zerolinecolor": "white"
           },
           "yaxis": {
            "backgroundcolor": "#E5ECF6",
            "gridcolor": "white",
            "gridwidth": 2,
            "linecolor": "white",
            "showbackground": true,
            "ticks": "",
            "zerolinecolor": "white"
           },
           "zaxis": {
            "backgroundcolor": "#E5ECF6",
            "gridcolor": "white",
            "gridwidth": 2,
            "linecolor": "white",
            "showbackground": true,
            "ticks": "",
            "zerolinecolor": "white"
           }
          },
          "shapedefaults": {
           "line": {
            "color": "#2a3f5f"
           }
          },
          "ternary": {
           "aaxis": {
            "gridcolor": "white",
            "linecolor": "white",
            "ticks": ""
           },
           "baxis": {
            "gridcolor": "white",
            "linecolor": "white",
            "ticks": ""
           },
           "bgcolor": "#E5ECF6",
           "caxis": {
            "gridcolor": "white",
            "linecolor": "white",
            "ticks": ""
           }
          },
          "title": {
           "x": 0.05
          },
          "xaxis": {
           "automargin": true,
           "gridcolor": "white",
           "linecolor": "white",
           "ticks": "",
           "title": {
            "standoff": 15
           },
           "zerolinecolor": "white",
           "zerolinewidth": 2
          },
          "yaxis": {
           "automargin": true,
           "gridcolor": "white",
           "linecolor": "white",
           "ticks": "",
           "title": {
            "standoff": 15
           },
           "zerolinecolor": "white",
           "zerolinewidth": 2
          }
         }
        },
        "width": 700
       },
       "_model_module_version": "^4.8.0",
       "_py2js_animate": {},
       "_py2js_deleteTraces": {},
       "_py2js_moveTraces": {},
       "_py2js_removeLayoutProps": {},
       "_py2js_removeTraceProps": {},
       "_py2js_restyle": {},
       "_view_count": 0,
       "_view_module_version": "^4.8.0"
      }
     },
     "3d6fc93650c742c482d0fed72f2cfd17": {
      "buffers": [
       {
        "data": "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",
        "encoding": "base64",
        "path": [
         "_data",
         0,
         "y",
         "value"
        ]
       },
       {
        "data": "CtejcD1qbUB7FK5H4QJ8QD0K16Nw0YxAZmZmZuZMvUDXo3A9Clm+QMP1KFwPcrlAXI/C9Sh0rkA9CtejcPCsQOF6FK7HzrlAAAAAAIAWwkA=",
        "encoding": "base64",
        "path": [
         "_data",
         1,
         "y",
         "value"
        ]
       },
       {
        "data": "PQrXo3BhcUCuR+F6FA6CQJqZmZnZic1AKVyPwrXHuUApXI/CdcG8QArXo3A9aqlAw/UoXA/ir0BmZmZmJrK0QOF6FK5HC7xA16NwPeqtxUA=",
        "encoding": "base64",
        "path": [
         "_data",
         2,
         "y",
         "value"
        ]
       }
      ],
      "model_module": "plotlywidget",
      "model_module_version": "^4.8.0",
      "model_name": "FigureModel",
      "state": {
       "_config": {
        "plotlyServerURL": "https://plot.ly"
       },
       "_data": [
        {
         "mode": "lines",
         "name": "('Close', 'Open')",
         "showlegend": true,
         "type": "scatter",
         "uid": "b7932aa5-2b0a-4ffb-b747-d5523e34f43a",
         "x": [
          "2014-09-17T00:00:00.000000",
          "2014-09-18T00:00:00.000000",
          "2014-09-19T00:00:00.000000",
          "2014-09-20T00:00:00.000000",
          "2014-09-21T00:00:00.000000",
          "2014-09-22T00:00:00.000000",
          "2014-09-23T00:00:00.000000",
          "2014-09-24T00:00:00.000000",
          "2014-09-25T00:00:00.000000",
          "2014-09-26T00:00:00.000000",
          "2014-09-27T00:00:00.000000",
          "2014-09-28T00:00:00.000000",
          "2014-09-29T00:00:00.000000",
          "2014-09-30T00:00:00.000000",
          "2014-10-01T00:00:00.000000",
          "2014-10-02T00:00:00.000000",
          "2014-10-03T00:00:00.000000",
          "2014-10-04T00:00:00.000000",
          "2014-10-05T00:00:00.000000",
          "2014-10-06T00:00:00.000000",
          "2014-10-07T00:00:00.000000",
          "2014-10-08T00:00:00.000000",
          "2014-10-09T00:00:00.000000",
          "2014-10-10T00:00:00.000000",
          "2014-10-11T00:00:00.000000",
          "2014-10-12T00:00:00.000000",
          "2014-10-13T00:00:00.000000",
          "2014-10-14T00:00:00.000000",
          "2014-10-15T00:00:00.000000",
          "2014-10-16T00:00:00.000000",
          "2014-10-17T00:00:00.000000",
          "2014-10-18T00:00:00.000000",
          "2014-10-19T00:00:00.000000",
          "2014-10-20T00:00:00.000000",
          "2014-10-21T00:00:00.000000",
          "2014-10-22T00:00:00.000000",
          "2014-10-23T00:00:00.000000",
          "2014-10-24T00:00:00.000000",
          "2014-10-25T00:00:00.000000",
          "2014-10-26T00:00:00.000000",
          "2014-10-27T00:00:00.000000",
          "2014-10-28T00:00:00.000000",
          "2014-10-29T00:00:00.000000",
          "2014-10-30T00:00:00.000000",
          "2014-10-31T00:00:00.000000",
          "2014-11-01T00:00:00.000000",
          "2014-11-02T00:00:00.000000",
          "2014-11-03T00:00:00.000000",
          "2014-11-04T00:00:00.000000",
          "2014-11-05T00:00:00.000000",
          "2014-11-06T00:00:00.000000",
          "2014-11-07T00:00:00.000000",
          "2014-11-08T00:00:00.000000",
          "2014-11-09T00:00:00.000000",
          "2014-11-10T00:00:00.000000",
          "2014-11-11T00:00:00.000000",
          "2014-11-12T00:00:00.000000",
          "2014-11-13T00:00:00.000000",
          "2014-11-14T00:00:00.000000",
          "2014-11-15T00:00:00.000000",
          "2014-11-16T00:00:00.000000",
          "2014-11-17T00:00:00.000000",
          "2014-11-18T00:00:00.000000",
          "2014-11-19T00:00:00.000000",
          "2014-11-20T00:00:00.000000",
          "2014-11-21T00:00:00.000000",
          "2014-11-22T00:00:00.000000",
          "2014-11-23T00:00:00.000000",
          "2014-11-24T00:00:00.000000",
          "2014-11-25T00:00:00.000000",
          "2014-11-26T00:00:00.000000",
          "2014-11-27T00:00:00.000000",
          "2014-11-28T00:00:00.000000",
          "2014-11-29T00:00:00.000000",
          "2014-11-30T00:00:00.000000",
          "2014-12-01T00:00:00.000000",
          "2014-12-02T00:00:00.000000",
          "2014-12-03T00:00:00.000000",
          "2014-12-04T00:00:00.000000",
          "2014-12-05T00:00:00.000000",
          "2014-12-06T00:00:00.000000",
          "2014-12-07T00:00:00.000000",
          "2014-12-08T00:00:00.000000",
          "2014-12-09T00:00:00.000000",
          "2014-12-10T00:00:00.000000",
          "2014-12-11T00:00:00.000000",
          "2014-12-12T00:00:00.000000",
          "2014-12-13T00:00:00.000000",
          "2014-12-14T00:00:00.000000",
          "2014-12-15T00:00:00.000000",
          "2014-12-16T00:00:00.000000",
          "2014-12-17T00:00:00.000000",
          "2014-12-18T00:00:00.000000",
          "2014-12-19T00:00:00.000000",
          "2014-12-20T00:00:00.000000",
          "2014-12-21T00:00:00.000000",
          "2014-12-22T00:00:00.000000",
          "2014-12-23T00:00:00.000000",
          "2014-12-24T00:00:00.000000",
          "2014-12-25T00:00:00.000000",
          "2014-12-26T00:00:00.000000",
          "2014-12-27T00:00:00.000000",
          "2014-12-28T00:00:00.000000",
          "2014-12-29T00:00:00.000000",
          "2014-12-30T00:00:00.000000",
          "2014-12-31T00:00:00.000000",
          "2015-01-01T00:00:00.000000",
          "2015-01-02T00:00:00.000000",
          "2015-01-03T00:00:00.000000",
          "2015-01-04T00:00:00.000000",
          "2015-01-05T00:00:00.000000",
          "2015-01-06T00:00:00.000000",
          "2015-01-07T00:00:00.000000",
          "2015-01-08T00:00:00.000000",
          "2015-01-09T00:00:00.000000",
          "2015-01-10T00:00:00.000000",
          "2015-01-11T00:00:00.000000",
          "2015-01-12T00:00:00.000000",
          "2015-01-13T00:00:00.000000",
          "2015-01-14T00:00:00.000000",
          "2015-01-15T00:00:00.000000",
          "2015-01-16T00:00:00.000000",
          "2015-01-17T00:00:00.000000",
          "2015-01-18T00:00:00.000000",
          "2015-01-19T00:00:00.000000",
          "2015-01-20T00:00:00.000000",
          "2015-01-21T00:00:00.000000",
          "2015-01-22T00:00:00.000000",
          "2015-01-23T00:00:00.000000",
          "2015-01-24T00:00:00.000000",
          "2015-01-25T00:00:00.000000",
          "2015-01-26T00:00:00.000000",
          "2015-01-27T00:00:00.000000",
          "2015-01-28T00:00:00.000000",
          "2015-01-29T00:00:00.000000",
          "2015-01-30T00:00:00.000000",
          "2015-01-31T00:00:00.000000",
          "2015-02-01T00:00:00.000000",
          "2015-02-02T00:00:00.000000",
          "2015-02-03T00:00:00.000000",
          "2015-02-04T00:00:00.000000",
          "2015-02-05T00:00:00.000000",
          "2015-02-06T00:00:00.000000",
          "2015-02-07T00:00:00.000000",
          "2015-02-08T00:00:00.000000",
          "2015-02-09T00:00:00.000000",
          "2015-02-10T00:00:00.000000",
          "2015-02-11T00:00:00.000000",
          "2015-02-12T00:00:00.000000",
          "2015-02-13T00:00:00.000000",
          "2015-02-14T00:00:00.000000",
          "2015-02-15T00:00:00.000000",
          "2015-02-16T00:00:00.000000",
          "2015-02-17T00:00:00.000000",
          "2015-02-18T00:00:00.000000",
          "2015-02-19T00:00:00.000000",
          "2015-02-20T00:00:00.000000",
          "2015-02-21T00:00:00.000000",
          "2015-02-22T00:00:00.000000",
          "2015-02-23T00:00:00.000000",
          "2015-02-24T00:00:00.000000",
          "2015-02-25T00:00:00.000000",
          "2015-02-26T00:00:00.000000",
          "2015-02-27T00:00:00.000000",
          "2015-02-28T00:00:00.000000",
          "2015-03-01T00:00:00.000000",
          "2015-03-02T00:00:00.000000",
          "2015-03-03T00:00:00.000000",
          "2015-03-04T00:00:00.000000",
          "2015-03-05T00:00:00.000000",
          "2015-03-06T00:00:00.000000",
          "2015-03-07T00:00:00.000000",
          "2015-03-08T00:00:00.000000",
          "2015-03-09T00:00:00.000000",
          "2015-03-10T00:00:00.000000",
          "2015-03-11T00:00:00.000000",
          "2015-03-12T00:00:00.000000",
          "2015-03-13T00:00:00.000000",
          "2015-03-14T00:00:00.000000",
          "2015-03-15T00:00:00.000000",
          "2015-03-16T00:00:00.000000",
          "2015-03-17T00:00:00.000000",
          "2015-03-18T00:00:00.000000",
          "2015-03-19T00:00:00.000000",
          "2015-03-20T00:00:00.000000",
          "2015-03-21T00:00:00.000000",
          "2015-03-22T00:00:00.000000",
          "2015-03-23T00:00:00.000000",
          "2015-03-24T00:00:00.000000",
          "2015-03-25T00:00:00.000000",
          "2015-03-26T00:00:00.000000",
          "2015-03-27T00:00:00.000000",
          "2015-03-28T00:00:00.000000",
          "2015-03-29T00:00:00.000000",
          "2015-03-30T00:00:00.000000",
          "2015-03-31T00:00:00.000000",
          "2015-04-01T00:00:00.000000",
          "2015-04-02T00:00:00.000000",
          "2015-04-03T00:00:00.000000",
          "2015-04-04T00:00:00.000000",
          "2015-04-05T00:00:00.000000",
          "2015-04-06T00:00:00.000000",
          "2015-04-07T00:00:00.000000",
          "2015-04-08T00:00:00.000000",
          "2015-04-09T00:00:00.000000",
          "2015-04-10T00:00:00.000000",
          "2015-04-11T00:00:00.000000",
          "2015-04-12T00:00:00.000000",
          "2015-04-13T00:00:00.000000",
          "2015-04-14T00:00:00.000000",
          "2015-04-15T00:00:00.000000",
          "2015-04-16T00:00:00.000000",
          "2015-04-17T00:00:00.000000",
          "2015-04-18T00:00:00.000000",
          "2015-04-19T00:00:00.000000",
          "2015-04-20T00:00:00.000000",
          "2015-04-21T00:00:00.000000",
          "2015-04-22T00:00:00.000000",
          "2015-04-23T00:00:00.000000",
          "2015-04-24T00:00:00.000000",
          "2015-04-25T00:00:00.000000",
          "2015-04-26T00:00:00.000000",
          "2015-04-27T00:00:00.000000",
          "2015-04-28T00:00:00.000000",
          "2015-04-29T00:00:00.000000",
          "2015-04-30T00:00:00.000000",
          "2015-05-01T00:00:00.000000",
          "2015-05-02T00:00:00.000000",
          "2015-05-03T00:00:00.000000",
          "2015-05-04T00:00:00.000000",
          "2015-05-05T00:00:00.000000",
          "2015-05-06T00:00:00.000000",
          "2015-05-07T00:00:00.000000",
          "2015-05-08T00:00:00.000000",
          "2015-05-09T00:00:00.000000",
          "2015-05-10T00:00:00.000000",
          "2015-05-11T00:00:00.000000",
          "2015-05-12T00:00:00.000000",
          "2015-05-13T00:00:00.000000",
          "2015-05-14T00:00:00.000000",
          "2015-05-15T00:00:00.000000",
          "2015-05-16T00:00:00.000000",
          "2015-05-17T00:00:00.000000",
          "2015-05-18T00:00:00.000000",
          "2015-05-19T00:00:00.000000",
          "2015-05-20T00:00:00.000000",
          "2015-05-21T00:00:00.000000",
          "2015-05-22T00:00:00.000000",
          "2015-05-23T00:00:00.000000",
          "2015-05-24T00:00:00.000000",
          "2015-05-25T00:00:00.000000",
          "2015-05-26T00:00:00.000000",
          "2015-05-27T00:00:00.000000",
          "2015-05-28T00:00:00.000000",
          "2015-05-29T00:00:00.000000",
          "2015-05-30T00:00:00.000000",
          "2015-05-31T00:00:00.000000",
          "2015-06-01T00:00:00.000000",
          "2015-06-02T00:00:00.000000",
          "2015-06-03T00:00:00.000000",
          "2015-06-04T00:00:00.000000",
          "2015-06-05T00:00:00.000000",
          "2015-06-06T00:00:00.000000",
          "2015-06-07T00:00:00.000000",
          "2015-06-08T00:00:00.000000",
          "2015-06-09T00:00:00.000000",
          "2015-06-10T00:00:00.000000",
          "2015-06-11T00:00:00.000000",
          "2015-06-12T00:00:00.000000",
          "2015-06-13T00:00:00.000000",
          "2015-06-14T00:00:00.000000",
          "2015-06-15T00:00:00.000000",
          "2015-06-16T00:00:00.000000",
          "2015-06-17T00:00:00.000000",
          "2015-06-18T00:00:00.000000",
          "2015-06-19T00:00:00.000000",
          "2015-06-20T00:00:00.000000",
          "2015-06-21T00:00:00.000000",
          "2015-06-22T00:00:00.000000",
          "2015-06-23T00:00:00.000000",
          "2015-06-24T00:00:00.000000",
          "2015-06-25T00:00:00.000000",
          "2015-06-26T00:00:00.000000",
          "2015-06-27T00:00:00.000000",
          "2015-06-28T00:00:00.000000",
          "2015-06-29T00:00:00.000000",
          "2015-06-30T00:00:00.000000",
          "2015-07-01T00:00:00.000000",
          "2015-07-02T00:00:00.000000",
          "2015-07-03T00:00:00.000000",
          "2015-07-04T00:00:00.000000",
          "2015-07-05T00:00:00.000000",
          "2015-07-06T00:00:00.000000",
          "2015-07-07T00:00:00.000000",
          "2015-07-08T00:00:00.000000",
          "2015-07-09T00:00:00.000000",
          "2015-07-10T00:00:00.000000",
          "2015-07-11T00:00:00.000000",
          "2015-07-12T00:00:00.000000",
          "2015-07-13T00:00:00.000000",
          "2015-07-14T00:00:00.000000",
          "2015-07-15T00:00:00.000000",
          "2015-07-16T00:00:00.000000",
          "2015-07-17T00:00:00.000000",
          "2015-07-18T00:00:00.000000",
          "2015-07-19T00:00:00.000000",
          "2015-07-20T00:00:00.000000",
          "2015-07-21T00:00:00.000000",
          "2015-07-22T00:00:00.000000",
          "2015-07-23T00:00:00.000000",
          "2015-07-24T00:00:00.000000",
          "2015-07-25T00:00:00.000000",
          "2015-07-26T00:00:00.000000",
          "2015-07-27T00:00:00.000000",
          "2015-07-28T00:00:00.000000",
          "2015-07-29T00:00:00.000000",
          "2015-07-30T00:00:00.000000",
          "2015-07-31T00:00:00.000000",
          "2015-08-01T00:00:00.000000",
          "2015-08-02T00:00:00.000000",
          "2015-08-03T00:00:00.000000",
          "2015-08-04T00:00:00.000000",
          "2015-08-05T00:00:00.000000",
          "2015-08-06T00:00:00.000000",
          "2015-08-07T00:00:00.000000",
          "2015-08-08T00:00:00.000000",
          "2015-08-09T00:00:00.000000",
          "2015-08-10T00:00:00.000000",
          "2015-08-11T00:00:00.000000",
          "2015-08-12T00:00:00.000000",
          "2015-08-13T00:00:00.000000",
          "2015-08-14T00:00:00.000000",
          "2015-08-15T00:00:00.000000",
          "2015-08-16T00:00:00.000000",
          "2015-08-17T00:00:00.000000",
          "2015-08-18T00:00:00.000000",
          "2015-08-19T00:00:00.000000",
          "2015-08-20T00:00:00.000000",
          "2015-08-21T00:00:00.000000",
          "2015-08-22T00:00:00.000000",
          "2015-08-23T00:00:00.000000",
          "2015-08-24T00:00:00.000000",
          "2015-08-25T00:00:00.000000",
          "2015-08-26T00:00:00.000000",
          "2015-08-27T00:00:00.000000",
          "2015-08-28T00:00:00.000000",
          "2015-08-29T00:00:00.000000",
          "2015-08-30T00:00:00.000000",
          "2015-08-31T00:00:00.000000",
          "2015-09-01T00:00:00.000000",
          "2015-09-02T00:00:00.000000",
          "2015-09-03T00:00:00.000000",
          "2015-09-04T00:00:00.000000",
          "2015-09-05T00:00:00.000000",
          "2015-09-06T00:00:00.000000",
          "2015-09-07T00:00:00.000000",
          "2015-09-08T00:00:00.000000",
          "2015-09-09T00:00:00.000000",
          "2015-09-10T00:00:00.000000",
          "2015-09-11T00:00:00.000000",
          "2015-09-12T00:00:00.000000",
          "2015-09-13T00:00:00.000000",
          "2015-09-14T00:00:00.000000",
          "2015-09-15T00:00:00.000000",
          "2015-09-16T00:00:00.000000",
          "2015-09-17T00:00:00.000000",
          "2015-09-18T00:00:00.000000",
          "2015-09-19T00:00:00.000000",
          "2015-09-20T00:00:00.000000",
          "2015-09-21T00:00:00.000000",
          "2015-09-22T00:00:00.000000",
          "2015-09-23T00:00:00.000000",
          "2015-09-24T00:00:00.000000",
          "2015-09-25T00:00:00.000000",
          "2015-09-26T00:00:00.000000",
          "2015-09-27T00:00:00.000000",
          "2015-09-28T00:00:00.000000",
          "2015-09-29T00:00:00.000000",
          "2015-09-30T00:00:00.000000",
          "2015-10-01T00:00:00.000000",
          "2015-10-02T00:00:00.000000",
          "2015-10-03T00:00:00.000000",
          "2015-10-04T00:00:00.000000",
          "2015-10-05T00:00:00.000000",
          "2015-10-06T00:00:00.000000",
          "2015-10-07T00:00:00.000000",
          "2015-10-08T00:00:00.000000",
          "2015-10-09T00:00:00.000000",
          "2015-10-10T00:00:00.000000",
          "2015-10-11T00:00:00.000000",
          "2015-10-12T00:00:00.000000",
          "2015-10-13T00:00:00.000000",
          "2015-10-14T00:00:00.000000",
          "2015-10-15T00:00:00.000000",
          "2015-10-16T00:00:00.000000",
          "2015-10-17T00:00:00.000000",
          "2015-10-18T00:00:00.000000",
          "2015-10-19T00:00:00.000000",
          "2015-10-20T00:00:00.000000",
          "2015-10-21T00:00:00.000000",
          "2015-10-22T00:00:00.000000",
          "2015-10-23T00:00:00.000000",
          "2015-10-24T00:00:00.000000",
          "2015-10-25T00:00:00.000000",
          "2015-10-26T00:00:00.000000",
          "2015-10-27T00:00:00.000000",
          "2015-10-28T00:00:00.000000",
          "2015-10-29T00:00:00.000000",
          "2015-10-30T00:00:00.000000",
          "2015-10-31T00:00:00.000000",
          "2015-11-01T00:00:00.000000",
          "2015-11-02T00:00:00.000000",
          "2015-11-03T00:00:00.000000",
          "2015-11-04T00:00:00.000000",
          "2015-11-05T00:00:00.000000",
          "2015-11-06T00:00:00.000000",
          "2015-11-07T00:00:00.000000",
          "2015-11-08T00:00:00.000000",
          "2015-11-09T00:00:00.000000",
          "2015-11-10T00:00:00.000000",
          "2015-11-11T00:00:00.000000",
          "2015-11-12T00:00:00.000000",
          "2015-11-13T00:00:00.000000",
          "2015-11-14T00:00:00.000000",
          "2015-11-15T00:00:00.000000",
          "2015-11-16T00:00:00.000000",
          "2015-11-17T00:00:00.000000",
          "2015-11-18T00:00:00.000000",
          "2015-11-19T00:00:00.000000",
          "2015-11-20T00:00:00.000000",
          "2015-11-21T00:00:00.000000",
          "2015-11-22T00:00:00.000000",
          "2015-11-23T00:00:00.000000",
          "2015-11-24T00:00:00.000000",
          "2015-11-25T00:00:00.000000",
          "2015-11-26T00:00:00.000000",
          "2015-11-27T00:00:00.000000",
          "2015-11-28T00:00:00.000000",
          "2015-11-29T00:00:00.000000",
          "2015-11-30T00:00:00.000000",
          "2015-12-01T00:00:00.000000",
          "2015-12-02T00:00:00.000000",
          "2015-12-03T00:00:00.000000",
          "2015-12-04T00:00:00.000000",
          "2015-12-05T00:00:00.000000",
          "2015-12-06T00:00:00.000000",
          "2015-12-07T00:00:00.000000",
          "2015-12-08T00:00:00.000000",
          "2015-12-09T00:00:00.000000",
          "2015-12-10T00:00:00.000000",
          "2015-12-11T00:00:00.000000",
          "2015-12-12T00:00:00.000000",
          "2015-12-13T00:00:00.000000",
          "2015-12-14T00:00:00.000000",
          "2015-12-15T00:00:00.000000",
          "2015-12-16T00:00:00.000000",
          "2015-12-17T00:00:00.000000",
          "2015-12-18T00:00:00.000000",
          "2015-12-19T00:00:00.000000",
          "2015-12-20T00:00:00.000000",
          "2015-12-21T00:00:00.000000",
          "2015-12-22T00:00:00.000000",
          "2015-12-23T00:00:00.000000",
          "2015-12-24T00:00:00.000000",
          "2015-12-25T00:00:00.000000",
          "2015-12-26T00:00:00.000000",
          "2015-12-27T00:00:00.000000",
          "2015-12-28T00:00:00.000000",
          "2015-12-29T00:00:00.000000",
          "2015-12-30T00:00:00.000000",
          "2015-12-31T00:00:00.000000",
          "2016-01-01T00:00:00.000000",
          "2016-01-02T00:00:00.000000",
          "2016-01-03T00:00:00.000000",
          "2016-01-04T00:00:00.000000",
          "2016-01-05T00:00:00.000000",
          "2016-01-06T00:00:00.000000",
          "2016-01-07T00:00:00.000000",
          "2016-01-08T00:00:00.000000",
          "2016-01-09T00:00:00.000000",
          "2016-01-10T00:00:00.000000",
          "2016-01-11T00:00:00.000000",
          "2016-01-12T00:00:00.000000",
          "2016-01-13T00:00:00.000000",
          "2016-01-14T00:00:00.000000",
          "2016-01-15T00:00:00.000000",
          "2016-01-16T00:00:00.000000",
          "2016-01-17T00:00:00.000000",
          "2016-01-18T00:00:00.000000",
          "2016-01-19T00:00:00.000000",
          "2016-01-20T00:00:00.000000",
          "2016-01-21T00:00:00.000000",
          "2016-01-22T00:00:00.000000",
          "2016-01-23T00:00:00.000000",
          "2016-01-24T00:00:00.000000",
          "2016-01-25T00:00:00.000000",
          "2016-01-26T00:00:00.000000",
          "2016-01-27T00:00:00.000000",
          "2016-01-28T00:00:00.000000",
          "2016-01-29T00:00:00.000000",
          "2016-01-30T00:00:00.000000",
          "2016-01-31T00:00:00.000000",
          "2016-02-01T00:00:00.000000",
          "2016-02-02T00:00:00.000000",
          "2016-02-03T00:00:00.000000",
          "2016-02-04T00:00:00.000000",
          "2016-02-05T00:00:00.000000",
          "2016-02-06T00:00:00.000000",
          "2016-02-07T00:00:00.000000",
          "2016-02-08T00:00:00.000000",
          "2016-02-09T00:00:00.000000",
          "2016-02-10T00:00:00.000000",
          "2016-02-11T00:00:00.000000",
          "2016-02-12T00:00:00.000000",
          "2016-02-13T00:00:00.000000",
          "2016-02-14T00:00:00.000000",
          "2016-02-15T00:00:00.000000",
          "2016-02-16T00:00:00.000000",
          "2016-02-17T00:00:00.000000",
          "2016-02-18T00:00:00.000000",
          "2016-02-19T00:00:00.000000",
          "2016-02-20T00:00:00.000000",
          "2016-02-21T00:00:00.000000",
          "2016-02-22T00:00:00.000000",
          "2016-02-23T00:00:00.000000",
          "2016-02-24T00:00:00.000000",
          "2016-02-25T00:00:00.000000",
          "2016-02-26T00:00:00.000000",
          "2016-02-27T00:00:00.000000",
          "2016-02-28T00:00:00.000000",
          "2016-02-29T00:00:00.000000",
          "2016-03-01T00:00:00.000000",
          "2016-03-02T00:00:00.000000",
          "2016-03-03T00:00:00.000000",
          "2016-03-04T00:00:00.000000",
          "2016-03-05T00:00:00.000000",
          "2016-03-06T00:00:00.000000",
          "2016-03-07T00:00:00.000000",
          "2016-03-08T00:00:00.000000",
          "2016-03-09T00:00:00.000000",
          "2016-03-10T00:00:00.000000",
          "2016-03-11T00:00:00.000000",
          "2016-03-12T00:00:00.000000",
          "2016-03-13T00:00:00.000000",
          "2016-03-14T00:00:00.000000",
          "2016-03-15T00:00:00.000000",
          "2016-03-16T00:00:00.000000",
          "2016-03-17T00:00:00.000000",
          "2016-03-18T00:00:00.000000",
          "2016-03-19T00:00:00.000000",
          "2016-03-20T00:00:00.000000",
          "2016-03-21T00:00:00.000000",
          "2016-03-22T00:00:00.000000",
          "2016-03-23T00:00:00.000000",
          "2016-03-24T00:00:00.000000",
          "2016-03-25T00:00:00.000000",
          "2016-03-26T00:00:00.000000",
          "2016-03-27T00:00:00.000000",
          "2016-03-28T00:00:00.000000",
          "2016-03-29T00:00:00.000000",
          "2016-03-30T00:00:00.000000",
          "2016-03-31T00:00:00.000000",
          "2016-04-01T00:00:00.000000",
          "2016-04-02T00:00:00.000000",
          "2016-04-03T00:00:00.000000",
          "2016-04-04T00:00:00.000000",
          "2016-04-05T00:00:00.000000",
          "2016-04-06T00:00:00.000000",
          "2016-04-07T00:00:00.000000",
          "2016-04-08T00:00:00.000000",
          "2016-04-09T00:00:00.000000",
          "2016-04-10T00:00:00.000000",
          "2016-04-11T00:00:00.000000",
          "2016-04-12T00:00:00.000000",
          "2016-04-13T00:00:00.000000",
          "2016-04-14T00:00:00.000000",
          "2016-04-15T00:00:00.000000",
          "2016-04-16T00:00:00.000000",
          "2016-04-17T00:00:00.000000",
          "2016-04-18T00:00:00.000000",
          "2016-04-19T00:00:00.000000",
          "2016-04-20T00:00:00.000000",
          "2016-04-21T00:00:00.000000",
          "2016-04-22T00:00:00.000000",
          "2016-04-23T00:00:00.000000",
          "2016-04-24T00:00:00.000000",
          "2016-04-25T00:00:00.000000",
          "2016-04-26T00:00:00.000000",
          "2016-04-27T00:00:00.000000",
          "2016-04-28T00:00:00.000000",
          "2016-04-29T00:00:00.000000",
          "2016-04-30T00:00:00.000000",
          "2016-05-01T00:00:00.000000",
          "2016-05-02T00:00:00.000000",
          "2016-05-03T00:00:00.000000",
          "2016-05-04T00:00:00.000000",
          "2016-05-05T00:00:00.000000",
          "2016-05-06T00:00:00.000000",
          "2016-05-07T00:00:00.000000",
          "2016-05-08T00:00:00.000000",
          "2016-05-09T00:00:00.000000",
          "2016-05-10T00:00:00.000000",
          "2016-05-11T00:00:00.000000",
          "2016-05-12T00:00:00.000000",
          "2016-05-13T00:00:00.000000",
          "2016-05-14T00:00:00.000000",
          "2016-05-15T00:00:00.000000",
          "2016-05-16T00:00:00.000000",
          "2016-05-17T00:00:00.000000",
          "2016-05-18T00:00:00.000000",
          "2016-05-19T00:00:00.000000",
          "2016-05-20T00:00:00.000000",
          "2016-05-21T00:00:00.000000",
          "2016-05-22T00:00:00.000000",
          "2016-05-23T00:00:00.000000",
          "2016-05-24T00:00:00.000000",
          "2016-05-25T00:00:00.000000",
          "2016-05-26T00:00:00.000000",
          "2016-05-27T00:00:00.000000",
          "2016-05-28T00:00:00.000000",
          "2016-05-29T00:00:00.000000",
          "2016-05-30T00:00:00.000000",
          "2016-05-31T00:00:00.000000",
          "2016-06-01T00:00:00.000000",
          "2016-06-02T00:00:00.000000",
          "2016-06-03T00:00:00.000000",
          "2016-06-04T00:00:00.000000",
          "2016-06-05T00:00:00.000000",
          "2016-06-06T00:00:00.000000",
          "2016-06-07T00:00:00.000000",
          "2016-06-08T00:00:00.000000",
          "2016-06-09T00:00:00.000000",
          "2016-06-10T00:00:00.000000",
          "2016-06-11T00:00:00.000000",
          "2016-06-12T00:00:00.000000",
          "2016-06-13T00:00:00.000000",
          "2016-06-14T00:00:00.000000",
          "2016-06-15T00:00:00.000000",
          "2016-06-16T00:00:00.000000",
          "2016-06-17T00:00:00.000000",
          "2016-06-18T00:00:00.000000",
          "2016-06-19T00:00:00.000000",
          "2016-06-20T00:00:00.000000",
          "2016-06-21T00:00:00.000000",
          "2016-06-22T00:00:00.000000",
          "2016-06-23T00:00:00.000000",
          "2016-06-24T00:00:00.000000",
          "2016-06-25T00:00:00.000000",
          "2016-06-26T00:00:00.000000",
          "2016-06-27T00:00:00.000000",
          "2016-06-28T00:00:00.000000",
          "2016-06-29T00:00:00.000000",
          "2016-06-30T00:00:00.000000",
          "2016-07-01T00:00:00.000000",
          "2016-07-02T00:00:00.000000",
          "2016-07-03T00:00:00.000000",
          "2016-07-04T00:00:00.000000",
          "2016-07-05T00:00:00.000000",
          "2016-07-06T00:00:00.000000",
          "2016-07-07T00:00:00.000000",
          "2016-07-08T00:00:00.000000",
          "2016-07-09T00:00:00.000000",
          "2016-07-10T00:00:00.000000",
          "2016-07-11T00:00:00.000000",
          "2016-07-12T00:00:00.000000",
          "2016-07-13T00:00:00.000000",
          "2016-07-14T00:00:00.000000",
          "2016-07-15T00:00:00.000000",
          "2016-07-16T00:00:00.000000",
          "2016-07-17T00:00:00.000000",
          "2016-07-18T00:00:00.000000",
          "2016-07-19T00:00:00.000000",
          "2016-07-20T00:00:00.000000",
          "2016-07-21T00:00:00.000000",
          "2016-07-22T00:00:00.000000",
          "2016-07-23T00:00:00.000000",
          "2016-07-24T00:00:00.000000",
          "2016-07-25T00:00:00.000000",
          "2016-07-26T00:00:00.000000",
          "2016-07-27T00:00:00.000000",
          "2016-07-28T00:00:00.000000",
          "2016-07-29T00:00:00.000000",
          "2016-07-30T00:00:00.000000",
          "2016-07-31T00:00:00.000000",
          "2016-08-01T00:00:00.000000",
          "2016-08-02T00:00:00.000000",
          "2016-08-03T00:00:00.000000",
          "2016-08-04T00:00:00.000000",
          "2016-08-05T00:00:00.000000",
          "2016-08-06T00:00:00.000000",
          "2016-08-07T00:00:00.000000",
          "2016-08-08T00:00:00.000000",
          "2016-08-09T00:00:00.000000",
          "2016-08-10T00:00:00.000000",
          "2016-08-11T00:00:00.000000",
          "2016-08-12T00:00:00.000000",
          "2016-08-13T00:00:00.000000",
          "2016-08-14T00:00:00.000000",
          "2016-08-15T00:00:00.000000",
          "2016-08-16T00:00:00.000000",
          "2016-08-17T00:00:00.000000",
          "2016-08-18T00:00:00.000000",
          "2016-08-19T00:00:00.000000",
          "2016-08-20T00:00:00.000000",
          "2016-08-21T00:00:00.000000",
          "2016-08-22T00:00:00.000000",
          "2016-08-23T00:00:00.000000",
          "2016-08-24T00:00:00.000000",
          "2016-08-25T00:00:00.000000",
          "2016-08-26T00:00:00.000000",
          "2016-08-27T00:00:00.000000",
          "2016-08-28T00:00:00.000000",
          "2016-08-29T00:00:00.000000",
          "2016-08-30T00:00:00.000000",
          "2016-08-31T00:00:00.000000",
          "2016-09-01T00:00:00.000000",
          "2016-09-02T00:00:00.000000",
          "2016-09-03T00:00:00.000000",
          "2016-09-04T00:00:00.000000",
          "2016-09-05T00:00:00.000000",
          "2016-09-06T00:00:00.000000",
          "2016-09-07T00:00:00.000000",
          "2016-09-08T00:00:00.000000",
          "2016-09-09T00:00:00.000000",
          "2016-09-10T00:00:00.000000",
          "2016-09-11T00:00:00.000000",
          "2016-09-12T00:00:00.000000",
          "2016-09-13T00:00:00.000000",
          "2016-09-14T00:00:00.000000",
          "2016-09-15T00:00:00.000000",
          "2016-09-16T00:00:00.000000",
          "2016-09-17T00:00:00.000000",
          "2016-09-18T00:00:00.000000",
          "2016-09-19T00:00:00.000000",
          "2016-09-20T00:00:00.000000",
          "2016-09-21T00:00:00.000000",
          "2016-09-22T00:00:00.000000",
          "2016-09-23T00:00:00.000000",
          "2016-09-24T00:00:00.000000",
          "2016-09-25T00:00:00.000000",
          "2016-09-26T00:00:00.000000",
          "2016-09-27T00:00:00.000000",
          "2016-09-28T00:00:00.000000",
          "2016-09-29T00:00:00.000000",
          "2016-09-30T00:00:00.000000",
          "2016-10-01T00:00:00.000000",
          "2016-10-02T00:00:00.000000",
          "2016-10-03T00:00:00.000000",
          "2016-10-04T00:00:00.000000",
          "2016-10-05T00:00:00.000000",
          "2016-10-06T00:00:00.000000",
          "2016-10-07T00:00:00.000000",
          "2016-10-08T00:00:00.000000",
          "2016-10-09T00:00:00.000000",
          "2016-10-10T00:00:00.000000",
          "2016-10-11T00:00:00.000000",
          "2016-10-12T00:00:00.000000",
          "2016-10-13T00:00:00.000000",
          "2016-10-14T00:00:00.000000",
          "2016-10-15T00:00:00.000000",
          "2016-10-16T00:00:00.000000",
          "2016-10-17T00:00:00.000000",
          "2016-10-18T00:00:00.000000",
          "2016-10-19T00:00:00.000000",
          "2016-10-20T00:00:00.000000",
          "2016-10-21T00:00:00.000000",
          "2016-10-22T00:00:00.000000",
          "2016-10-23T00:00:00.000000",
          "2016-10-24T00:00:00.000000",
          "2016-10-25T00:00:00.000000",
          "2016-10-26T00:00:00.000000",
          "2016-10-27T00:00:00.000000",
          "2016-10-28T00:00:00.000000",
          "2016-10-29T00:00:00.000000",
          "2016-10-30T00:00:00.000000",
          "2016-10-31T00:00:00.000000",
          "2016-11-01T00:00:00.000000",
          "2016-11-02T00:00:00.000000",
          "2016-11-03T00:00:00.000000",
          "2016-11-04T00:00:00.000000",
          "2016-11-05T00:00:00.000000",
          "2016-11-06T00:00:00.000000",
          "2016-11-07T00:00:00.000000",
          "2016-11-08T00:00:00.000000",
          "2016-11-09T00:00:00.000000",
          "2016-11-10T00:00:00.000000",
          "2016-11-11T00:00:00.000000",
          "2016-11-12T00:00:00.000000",
          "2016-11-13T00:00:00.000000",
          "2016-11-14T00:00:00.000000",
          "2016-11-15T00:00:00.000000",
          "2016-11-16T00:00:00.000000",
          "2016-11-17T00:00:00.000000",
          "2016-11-18T00:00:00.000000",
          "2016-11-19T00:00:00.000000",
          "2016-11-20T00:00:00.000000",
          "2016-11-21T00:00:00.000000",
          "2016-11-22T00:00:00.000000",
          "2016-11-23T00:00:00.000000",
          "2016-11-24T00:00:00.000000",
          "2016-11-25T00:00:00.000000",
          "2016-11-26T00:00:00.000000",
          "2016-11-27T00:00:00.000000",
          "2016-11-28T00:00:00.000000",
          "2016-11-29T00:00:00.000000",
          "2016-11-30T00:00:00.000000",
          "2016-12-01T00:00:00.000000",
          "2016-12-02T00:00:00.000000",
          "2016-12-03T00:00:00.000000",
          "2016-12-04T00:00:00.000000",
          "2016-12-05T00:00:00.000000",
          "2016-12-06T00:00:00.000000",
          "2016-12-07T00:00:00.000000",
          "2016-12-08T00:00:00.000000",
          "2016-12-09T00:00:00.000000",
          "2016-12-10T00:00:00.000000",
          "2016-12-11T00:00:00.000000",
          "2016-12-12T00:00:00.000000",
          "2016-12-13T00:00:00.000000",
          "2016-12-14T00:00:00.000000",
          "2016-12-15T00:00:00.000000",
          "2016-12-16T00:00:00.000000",
          "2016-12-17T00:00:00.000000",
          "2016-12-18T00:00:00.000000",
          "2016-12-19T00:00:00.000000",
          "2016-12-20T00:00:00.000000",
          "2016-12-21T00:00:00.000000",
          "2016-12-22T00:00:00.000000",
          "2016-12-23T00:00:00.000000",
          "2016-12-24T00:00:00.000000",
          "2016-12-25T00:00:00.000000",
          "2016-12-26T00:00:00.000000",
          "2016-12-27T00:00:00.000000",
          "2016-12-28T00:00:00.000000",
          "2016-12-29T00:00:00.000000",
          "2016-12-30T00:00:00.000000",
          "2016-12-31T00:00:00.000000",
          "2017-01-01T00:00:00.000000",
          "2017-01-02T00:00:00.000000",
          "2017-01-03T00:00:00.000000",
          "2017-01-04T00:00:00.000000",
          "2017-01-05T00:00:00.000000",
          "2017-01-06T00:00:00.000000",
          "2017-01-07T00:00:00.000000",
          "2017-01-08T00:00:00.000000",
          "2017-01-09T00:00:00.000000",
          "2017-01-10T00:00:00.000000",
          "2017-01-11T00:00:00.000000",
          "2017-01-12T00:00:00.000000",
          "2017-01-13T00:00:00.000000",
          "2017-01-14T00:00:00.000000",
          "2017-01-15T00:00:00.000000",
          "2017-01-16T00:00:00.000000",
          "2017-01-17T00:00:00.000000",
          "2017-01-18T00:00:00.000000",
          "2017-01-19T00:00:00.000000",
          "2017-01-20T00:00:00.000000",
          "2017-01-21T00:00:00.000000",
          "2017-01-22T00:00:00.000000",
          "2017-01-23T00:00:00.000000",
          "2017-01-24T00:00:00.000000",
          "2017-01-25T00:00:00.000000",
          "2017-01-26T00:00:00.000000",
          "2017-01-27T00:00:00.000000",
          "2017-01-28T00:00:00.000000",
          "2017-01-29T00:00:00.000000",
          "2017-01-30T00:00:00.000000",
          "2017-01-31T00:00:00.000000",
          "2017-02-01T00:00:00.000000",
          "2017-02-02T00:00:00.000000",
          "2017-02-03T00:00:00.000000",
          "2017-02-04T00:00:00.000000",
          "2017-02-05T00:00:00.000000",
          "2017-02-06T00:00:00.000000",
          "2017-02-07T00:00:00.000000",
          "2017-02-08T00:00:00.000000",
          "2017-02-09T00:00:00.000000",
          "2017-02-10T00:00:00.000000",
          "2017-02-11T00:00:00.000000",
          "2017-02-12T00:00:00.000000",
          "2017-02-13T00:00:00.000000",
          "2017-02-14T00:00:00.000000",
          "2017-02-15T00:00:00.000000",
          "2017-02-16T00:00:00.000000",
          "2017-02-17T00:00:00.000000",
          "2017-02-18T00:00:00.000000",
          "2017-02-19T00:00:00.000000",
          "2017-02-20T00:00:00.000000",
          "2017-02-21T00:00:00.000000",
          "2017-02-22T00:00:00.000000",
          "2017-02-23T00:00:00.000000",
          "2017-02-24T00:00:00.000000",
          "2017-02-25T00:00:00.000000",
          "2017-02-26T00:00:00.000000",
          "2017-02-27T00:00:00.000000",
          "2017-02-28T00:00:00.000000",
          "2017-03-01T00:00:00.000000",
          "2017-03-02T00:00:00.000000",
          "2017-03-03T00:00:00.000000",
          "2017-03-04T00:00:00.000000",
          "2017-03-05T00:00:00.000000",
          "2017-03-06T00:00:00.000000",
          "2017-03-07T00:00:00.000000",
          "2017-03-08T00:00:00.000000",
          "2017-03-09T00:00:00.000000",
          "2017-03-10T00:00:00.000000",
          "2017-03-11T00:00:00.000000",
          "2017-03-12T00:00:00.000000",
          "2017-03-13T00:00:00.000000",
          "2017-03-14T00:00:00.000000",
          "2017-03-15T00:00:00.000000",
          "2017-03-16T00:00:00.000000",
          "2017-03-17T00:00:00.000000",
          "2017-03-18T00:00:00.000000",
          "2017-03-19T00:00:00.000000",
          "2017-03-20T00:00:00.000000",
          "2017-03-21T00:00:00.000000",
          "2017-03-22T00:00:00.000000",
          "2017-03-23T00:00:00.000000",
          "2017-03-24T00:00:00.000000",
          "2017-03-25T00:00:00.000000",
          "2017-03-26T00:00:00.000000",
          "2017-03-27T00:00:00.000000",
          "2017-03-28T00:00:00.000000",
          "2017-03-29T00:00:00.000000",
          "2017-03-30T00:00:00.000000",
          "2017-03-31T00:00:00.000000",
          "2017-04-01T00:00:00.000000",
          "2017-04-02T00:00:00.000000",
          "2017-04-03T00:00:00.000000",
          "2017-04-04T00:00:00.000000",
          "2017-04-05T00:00:00.000000",
          "2017-04-06T00:00:00.000000",
          "2017-04-07T00:00:00.000000",
          "2017-04-08T00:00:00.000000",
          "2017-04-09T00:00:00.000000",
          "2017-04-10T00:00:00.000000",
          "2017-04-11T00:00:00.000000",
          "2017-04-12T00:00:00.000000",
          "2017-04-13T00:00:00.000000",
          "2017-04-14T00:00:00.000000",
          "2017-04-15T00:00:00.000000",
          "2017-04-16T00:00:00.000000",
          "2017-04-17T00:00:00.000000",
          "2017-04-18T00:00:00.000000",
          "2017-04-19T00:00:00.000000",
          "2017-04-20T00:00:00.000000",
          "2017-04-21T00:00:00.000000",
          "2017-04-22T00:00:00.000000",
          "2017-04-23T00:00:00.000000",
          "2017-04-24T00:00:00.000000",
          "2017-04-25T00:00:00.000000",
          "2017-04-26T00:00:00.000000",
          "2017-04-27T00:00:00.000000",
          "2017-04-28T00:00:00.000000",
          "2017-04-29T00:00:00.000000",
          "2017-04-30T00:00:00.000000",
          "2017-05-01T00:00:00.000000",
          "2017-05-02T00:00:00.000000",
          "2017-05-03T00:00:00.000000",
          "2017-05-04T00:00:00.000000",
          "2017-05-05T00:00:00.000000",
          "2017-05-06T00:00:00.000000",
          "2017-05-07T00:00:00.000000",
          "2017-05-08T00:00:00.000000",
          "2017-05-09T00:00:00.000000",
          "2017-05-10T00:00:00.000000",
          "2017-05-11T00:00:00.000000",
          "2017-05-12T00:00:00.000000",
          "2017-05-13T00:00:00.000000",
          "2017-05-14T00:00:00.000000",
          "2017-05-15T00:00:00.000000",
          "2017-05-16T00:00:00.000000",
          "2017-05-17T00:00:00.000000",
          "2017-05-18T00:00:00.000000",
          "2017-05-19T00:00:00.000000",
          "2017-05-20T00:00:00.000000",
          "2017-05-21T00:00:00.000000",
          "2017-05-22T00:00:00.000000",
          "2017-05-23T00:00:00.000000",
          "2017-05-24T00:00:00.000000",
          "2017-05-25T00:00:00.000000",
          "2017-05-26T00:00:00.000000",
          "2017-05-27T00:00:00.000000",
          "2017-05-28T00:00:00.000000",
          "2017-05-29T00:00:00.000000",
          "2017-05-30T00:00:00.000000",
          "2017-05-31T00:00:00.000000",
          "2017-06-01T00:00:00.000000",
          "2017-06-02T00:00:00.000000",
          "2017-06-03T00:00:00.000000",
          "2017-06-04T00:00:00.000000",
          "2017-06-05T00:00:00.000000",
          "2017-06-06T00:00:00.000000",
          "2017-06-07T00:00:00.000000",
          "2017-06-08T00:00:00.000000",
          "2017-06-09T00:00:00.000000",
          "2017-06-10T00:00:00.000000",
          "2017-06-11T00:00:00.000000",
          "2017-06-12T00:00:00.000000",
          "2017-06-13T00:00:00.000000",
          "2017-06-14T00:00:00.000000",
          "2017-06-15T00:00:00.000000",
          "2017-06-16T00:00:00.000000",
          "2017-06-17T00:00:00.000000",
          "2017-06-18T00:00:00.000000",
          "2017-06-19T00:00:00.000000",
          "2017-06-20T00:00:00.000000",
          "2017-06-21T00:00:00.000000",
          "2017-06-22T00:00:00.000000",
          "2017-06-23T00:00:00.000000",
          "2017-06-24T00:00:00.000000",
          "2017-06-25T00:00:00.000000",
          "2017-06-26T00:00:00.000000",
          "2017-06-27T00:00:00.000000",
          "2017-06-28T00:00:00.000000",
          "2017-06-29T00:00:00.000000",
          "2017-06-30T00:00:00.000000",
          "2017-07-01T00:00:00.000000",
          "2017-07-02T00:00:00.000000",
          "2017-07-03T00:00:00.000000",
          "2017-07-04T00:00:00.000000",
          "2017-07-05T00:00:00.000000",
          "2017-07-06T00:00:00.000000",
          "2017-07-07T00:00:00.000000",
          "2017-07-08T00:00:00.000000",
          "2017-07-09T00:00:00.000000",
          "2017-07-10T00:00:00.000000",
          "2017-07-11T00:00:00.000000",
          "2017-07-12T00:00:00.000000",
          "2017-07-13T00:00:00.000000",
          "2017-07-14T00:00:00.000000",
          "2017-07-15T00:00:00.000000",
          "2017-07-16T00:00:00.000000",
          "2017-07-17T00:00:00.000000",
          "2017-07-18T00:00:00.000000",
          "2017-07-19T00:00:00.000000",
          "2017-07-20T00:00:00.000000",
          "2017-07-21T00:00:00.000000",
          "2017-07-22T00:00:00.000000",
          "2017-07-23T00:00:00.000000",
          "2017-07-24T00:00:00.000000",
          "2017-07-25T00:00:00.000000",
          "2017-07-26T00:00:00.000000",
          "2017-07-27T00:00:00.000000",
          "2017-07-28T00:00:00.000000",
          "2017-07-29T00:00:00.000000",
          "2017-07-30T00:00:00.000000",
          "2017-07-31T00:00:00.000000",
          "2017-08-01T00:00:00.000000",
          "2017-08-02T00:00:00.000000",
          "2017-08-03T00:00:00.000000",
          "2017-08-04T00:00:00.000000",
          "2017-08-05T00:00:00.000000",
          "2017-08-06T00:00:00.000000",
          "2017-08-07T00:00:00.000000",
          "2017-08-08T00:00:00.000000",
          "2017-08-09T00:00:00.000000",
          "2017-08-10T00:00:00.000000",
          "2017-08-11T00:00:00.000000",
          "2017-08-12T00:00:00.000000",
          "2017-08-13T00:00:00.000000",
          "2017-08-14T00:00:00.000000",
          "2017-08-15T00:00:00.000000",
          "2017-08-16T00:00:00.000000",
          "2017-08-17T00:00:00.000000",
          "2017-08-18T00:00:00.000000",
          "2017-08-19T00:00:00.000000",
          "2017-08-20T00:00:00.000000",
          "2017-08-21T00:00:00.000000",
          "2017-08-22T00:00:00.000000",
          "2017-08-23T00:00:00.000000",
          "2017-08-24T00:00:00.000000",
          "2017-08-25T00:00:00.000000",
          "2017-08-26T00:00:00.000000",
          "2017-08-27T00:00:00.000000",
          "2017-08-28T00:00:00.000000",
          "2017-08-29T00:00:00.000000",
          "2017-08-30T00:00:00.000000",
          "2017-08-31T00:00:00.000000",
          "2017-09-01T00:00:00.000000",
          "2017-09-02T00:00:00.000000",
          "2017-09-03T00:00:00.000000",
          "2017-09-04T00:00:00.000000",
          "2017-09-05T00:00:00.000000",
          "2017-09-06T00:00:00.000000",
          "2017-09-07T00:00:00.000000",
          "2017-09-08T00:00:00.000000",
          "2017-09-09T00:00:00.000000",
          "2017-09-10T00:00:00.000000",
          "2017-09-11T00:00:00.000000",
          "2017-09-12T00:00:00.000000",
          "2017-09-13T00:00:00.000000",
          "2017-09-14T00:00:00.000000",
          "2017-09-15T00:00:00.000000",
          "2017-09-16T00:00:00.000000",
          "2017-09-17T00:00:00.000000",
          "2017-09-18T00:00:00.000000",
          "2017-09-19T00:00:00.000000",
          "2017-09-20T00:00:00.000000",
          "2017-09-21T00:00:00.000000",
          "2017-09-22T00:00:00.000000",
          "2017-09-23T00:00:00.000000",
          "2017-09-24T00:00:00.000000",
          "2017-09-25T00:00:00.000000",
          "2017-09-26T00:00:00.000000",
          "2017-09-27T00:00:00.000000",
          "2017-09-28T00:00:00.000000",
          "2017-09-29T00:00:00.000000",
          "2017-09-30T00:00:00.000000",
          "2017-10-01T00:00:00.000000",
          "2017-10-02T00:00:00.000000",
          "2017-10-03T00:00:00.000000",
          "2017-10-04T00:00:00.000000",
          "2017-10-05T00:00:00.000000",
          "2017-10-06T00:00:00.000000",
          "2017-10-07T00:00:00.000000",
          "2017-10-08T00:00:00.000000",
          "2017-10-09T00:00:00.000000",
          "2017-10-10T00:00:00.000000",
          "2017-10-11T00:00:00.000000",
          "2017-10-12T00:00:00.000000",
          "2017-10-13T00:00:00.000000",
          "2017-10-14T00:00:00.000000",
          "2017-10-15T00:00:00.000000",
          "2017-10-16T00:00:00.000000",
          "2017-10-17T00:00:00.000000",
          "2017-10-18T00:00:00.000000",
          "2017-10-19T00:00:00.000000",
          "2017-10-20T00:00:00.000000",
          "2017-10-21T00:00:00.000000",
          "2017-10-22T00:00:00.000000",
          "2017-10-23T00:00:00.000000",
          "2017-10-24T00:00:00.000000",
          "2017-10-25T00:00:00.000000",
          "2017-10-26T00:00:00.000000",
          "2017-10-27T00:00:00.000000",
          "2017-10-28T00:00:00.000000",
          "2017-10-29T00:00:00.000000",
          "2017-10-30T00:00:00.000000",
          "2017-10-31T00:00:00.000000",
          "2017-11-01T00:00:00.000000",
          "2017-11-02T00:00:00.000000",
          "2017-11-03T00:00:00.000000",
          "2017-11-04T00:00:00.000000",
          "2017-11-05T00:00:00.000000",
          "2017-11-06T00:00:00.000000",
          "2017-11-07T00:00:00.000000",
          "2017-11-08T00:00:00.000000",
          "2017-11-09T00:00:00.000000",
          "2017-11-10T00:00:00.000000",
          "2017-11-11T00:00:00.000000",
          "2017-11-12T00:00:00.000000",
          "2017-11-13T00:00:00.000000",
          "2017-11-14T00:00:00.000000",
          "2017-11-15T00:00:00.000000",
          "2017-11-16T00:00:00.000000",
          "2017-11-17T00:00:00.000000",
          "2017-11-18T00:00:00.000000",
          "2017-11-19T00:00:00.000000",
          "2017-11-20T00:00:00.000000",
          "2017-11-21T00:00:00.000000",
          "2017-11-22T00:00:00.000000",
          "2017-11-23T00:00:00.000000",
          "2017-11-24T00:00:00.000000",
          "2017-11-25T00:00:00.000000",
          "2017-11-26T00:00:00.000000",
          "2017-11-27T00:00:00.000000",
          "2017-11-28T00:00:00.000000",
          "2017-11-29T00:00:00.000000",
          "2017-11-30T00:00:00.000000",
          "2017-12-01T00:00:00.000000",
          "2017-12-02T00:00:00.000000",
          "2017-12-03T00:00:00.000000",
          "2017-12-04T00:00:00.000000",
          "2017-12-05T00:00:00.000000",
          "2017-12-06T00:00:00.000000",
          "2017-12-07T00:00:00.000000",
          "2017-12-08T00:00:00.000000",
          "2017-12-09T00:00:00.000000",
          "2017-12-10T00:00:00.000000",
          "2017-12-11T00:00:00.000000",
          "2017-12-12T00:00:00.000000",
          "2017-12-13T00:00:00.000000",
          "2017-12-14T00:00:00.000000",
          "2017-12-15T00:00:00.000000",
          "2017-12-16T00:00:00.000000",
          "2017-12-17T00:00:00.000000",
          "2017-12-18T00:00:00.000000",
          "2017-12-19T00:00:00.000000",
          "2017-12-20T00:00:00.000000",
          "2017-12-21T00:00:00.000000",
          "2017-12-22T00:00:00.000000",
          "2017-12-23T00:00:00.000000",
          "2017-12-24T00:00:00.000000",
          "2017-12-25T00:00:00.000000",
          "2017-12-26T00:00:00.000000",
          "2017-12-27T00:00:00.000000",
          "2017-12-28T00:00:00.000000",
          "2017-12-29T00:00:00.000000",
          "2017-12-30T00:00:00.000000",
          "2017-12-31T00:00:00.000000",
          "2018-01-01T00:00:00.000000",
          "2018-01-02T00:00:00.000000",
          "2018-01-03T00:00:00.000000",
          "2018-01-04T00:00:00.000000",
          "2018-01-05T00:00:00.000000",
          "2018-01-06T00:00:00.000000",
          "2018-01-07T00:00:00.000000",
          "2018-01-08T00:00:00.000000",
          "2018-01-09T00:00:00.000000",
          "2018-01-10T00:00:00.000000",
          "2018-01-11T00:00:00.000000",
          "2018-01-12T00:00:00.000000",
          "2018-01-13T00:00:00.000000",
          "2018-01-14T00:00:00.000000",
          "2018-01-15T00:00:00.000000",
          "2018-01-16T00:00:00.000000",
          "2018-01-17T00:00:00.000000",
          "2018-01-18T00:00:00.000000",
          "2018-01-19T00:00:00.000000",
          "2018-01-20T00:00:00.000000",
          "2018-01-21T00:00:00.000000",
          "2018-01-22T00:00:00.000000",
          "2018-01-23T00:00:00.000000",
          "2018-01-24T00:00:00.000000",
          "2018-01-25T00:00:00.000000",
          "2018-01-26T00:00:00.000000",
          "2018-01-27T00:00:00.000000",
          "2018-01-28T00:00:00.000000",
          "2018-01-29T00:00:00.000000",
          "2018-01-30T00:00:00.000000",
          "2018-01-31T00:00:00.000000",
          "2018-02-01T00:00:00.000000",
          "2018-02-02T00:00:00.000000",
          "2018-02-03T00:00:00.000000",
          "2018-02-04T00:00:00.000000",
          "2018-02-05T00:00:00.000000",
          "2018-02-06T00:00:00.000000",
          "2018-02-07T00:00:00.000000",
          "2018-02-08T00:00:00.000000",
          "2018-02-09T00:00:00.000000",
          "2018-02-10T00:00:00.000000",
          "2018-02-11T00:00:00.000000",
          "2018-02-12T00:00:00.000000",
          "2018-02-13T00:00:00.000000",
          "2018-02-14T00:00:00.000000",
          "2018-02-15T00:00:00.000000",
          "2018-02-16T00:00:00.000000",
          "2018-02-17T00:00:00.000000",
          "2018-02-18T00:00:00.000000",
          "2018-02-19T00:00:00.000000",
          "2018-02-20T00:00:00.000000",
          "2018-02-21T00:00:00.000000",
          "2018-02-22T00:00:00.000000",
          "2018-02-23T00:00:00.000000",
          "2018-02-24T00:00:00.000000",
          "2018-02-25T00:00:00.000000",
          "2018-02-26T00:00:00.000000",
          "2018-02-27T00:00:00.000000",
          "2018-02-28T00:00:00.000000",
          "2018-03-01T00:00:00.000000",
          "2018-03-02T00:00:00.000000",
          "2018-03-03T00:00:00.000000",
          "2018-03-04T00:00:00.000000",
          "2018-03-05T00:00:00.000000",
          "2018-03-06T00:00:00.000000",
          "2018-03-07T00:00:00.000000",
          "2018-03-08T00:00:00.000000",
          "2018-03-09T00:00:00.000000",
          "2018-03-10T00:00:00.000000",
          "2018-03-11T00:00:00.000000",
          "2018-03-12T00:00:00.000000",
          "2018-03-13T00:00:00.000000",
          "2018-03-14T00:00:00.000000",
          "2018-03-15T00:00:00.000000",
          "2018-03-16T00:00:00.000000",
          "2018-03-17T00:00:00.000000",
          "2018-03-18T00:00:00.000000",
          "2018-03-19T00:00:00.000000",
          "2018-03-20T00:00:00.000000",
          "2018-03-21T00:00:00.000000",
          "2018-03-22T00:00:00.000000",
          "2018-03-23T00:00:00.000000",
          "2018-03-24T00:00:00.000000",
          "2018-03-25T00:00:00.000000",
          "2018-03-26T00:00:00.000000",
          "2018-03-27T00:00:00.000000",
          "2018-03-28T00:00:00.000000",
          "2018-03-29T00:00:00.000000",
          "2018-03-30T00:00:00.000000",
          "2018-03-31T00:00:00.000000",
          "2018-04-01T00:00:00.000000",
          "2018-04-02T00:00:00.000000",
          "2018-04-03T00:00:00.000000",
          "2018-04-04T00:00:00.000000",
          "2018-04-05T00:00:00.000000",
          "2018-04-06T00:00:00.000000",
          "2018-04-07T00:00:00.000000",
          "2018-04-08T00:00:00.000000",
          "2018-04-09T00:00:00.000000",
          "2018-04-10T00:00:00.000000",
          "2018-04-11T00:00:00.000000",
          "2018-04-12T00:00:00.000000",
          "2018-04-13T00:00:00.000000",
          "2018-04-14T00:00:00.000000",
          "2018-04-15T00:00:00.000000",
          "2018-04-16T00:00:00.000000",
          "2018-04-17T00:00:00.000000",
          "2018-04-18T00:00:00.000000",
          "2018-04-19T00:00:00.000000",
          "2018-04-20T00:00:00.000000",
          "2018-04-21T00:00:00.000000",
          "2018-04-22T00:00:00.000000",
          "2018-04-23T00:00:00.000000",
          "2018-04-24T00:00:00.000000",
          "2018-04-25T00:00:00.000000",
          "2018-04-26T00:00:00.000000",
          "2018-04-27T00:00:00.000000",
          "2018-04-28T00:00:00.000000",
          "2018-04-29T00:00:00.000000",
          "2018-04-30T00:00:00.000000",
          "2018-05-01T00:00:00.000000",
          "2018-05-02T00:00:00.000000",
          "2018-05-03T00:00:00.000000",
          "2018-05-04T00:00:00.000000",
          "2018-05-05T00:00:00.000000",
          "2018-05-06T00:00:00.000000",
          "2018-05-07T00:00:00.000000",
          "2018-05-08T00:00:00.000000",
          "2018-05-09T00:00:00.000000",
          "2018-05-10T00:00:00.000000",
          "2018-05-11T00:00:00.000000",
          "2018-05-12T00:00:00.000000",
          "2018-05-13T00:00:00.000000",
          "2018-05-14T00:00:00.000000",
          "2018-05-15T00:00:00.000000",
          "2018-05-16T00:00:00.000000",
          "2018-05-17T00:00:00.000000",
          "2018-05-18T00:00:00.000000",
          "2018-05-19T00:00:00.000000",
          "2018-05-20T00:00:00.000000",
          "2018-05-21T00:00:00.000000",
          "2018-05-22T00:00:00.000000",
          "2018-05-23T00:00:00.000000",
          "2018-05-24T00:00:00.000000",
          "2018-05-25T00:00:00.000000",
          "2018-05-26T00:00:00.000000",
          "2018-05-27T00:00:00.000000",
          "2018-05-28T00:00:00.000000",
          "2018-05-29T00:00:00.000000",
          "2018-05-30T00:00:00.000000",
          "2018-05-31T00:00:00.000000",
          "2018-06-01T00:00:00.000000",
          "2018-06-02T00:00:00.000000",
          "2018-06-03T00:00:00.000000",
          "2018-06-04T00:00:00.000000",
          "2018-06-05T00:00:00.000000",
          "2018-06-06T00:00:00.000000",
          "2018-06-07T00:00:00.000000",
          "2018-06-08T00:00:00.000000",
          "2018-06-09T00:00:00.000000",
          "2018-06-10T00:00:00.000000",
          "2018-06-11T00:00:00.000000",
          "2018-06-12T00:00:00.000000",
          "2018-06-13T00:00:00.000000",
          "2018-06-14T00:00:00.000000",
          "2018-06-15T00:00:00.000000",
          "2018-06-16T00:00:00.000000",
          "2018-06-17T00:00:00.000000",
          "2018-06-18T00:00:00.000000",
          "2018-06-19T00:00:00.000000",
          "2018-06-20T00:00:00.000000",
          "2018-06-21T00:00:00.000000",
          "2018-06-22T00:00:00.000000",
          "2018-06-23T00:00:00.000000",
          "2018-06-24T00:00:00.000000",
          "2018-06-25T00:00:00.000000",
          "2018-06-26T00:00:00.000000",
          "2018-06-27T00:00:00.000000",
          "2018-06-28T00:00:00.000000",
          "2018-06-29T00:00:00.000000",
          "2018-06-30T00:00:00.000000",
          "2018-07-01T00:00:00.000000",
          "2018-07-02T00:00:00.000000",
          "2018-07-03T00:00:00.000000",
          "2018-07-04T00:00:00.000000",
          "2018-07-05T00:00:00.000000",
          "2018-07-06T00:00:00.000000",
          "2018-07-07T00:00:00.000000",
          "2018-07-08T00:00:00.000000",
          "2018-07-09T00:00:00.000000",
          "2018-07-10T00:00:00.000000",
          "2018-07-11T00:00:00.000000",
          "2018-07-12T00:00:00.000000",
          "2018-07-13T00:00:00.000000",
          "2018-07-14T00:00:00.000000",
          "2018-07-15T00:00:00.000000",
          "2018-07-16T00:00:00.000000",
          "2018-07-17T00:00:00.000000",
          "2018-07-18T00:00:00.000000",
          "2018-07-19T00:00:00.000000",
          "2018-07-20T00:00:00.000000",
          "2018-07-21T00:00:00.000000",
          "2018-07-22T00:00:00.000000",
          "2018-07-23T00:00:00.000000",
          "2018-07-24T00:00:00.000000",
          "2018-07-25T00:00:00.000000",
          "2018-07-26T00:00:00.000000",
          "2018-07-27T00:00:00.000000",
          "2018-07-28T00:00:00.000000",
          "2018-07-29T00:00:00.000000",
          "2018-07-30T00:00:00.000000",
          "2018-07-31T00:00:00.000000",
          "2018-08-01T00:00:00.000000",
          "2018-08-02T00:00:00.000000",
          "2018-08-03T00:00:00.000000",
          "2018-08-04T00:00:00.000000",
          "2018-08-05T00:00:00.000000",
          "2018-08-06T00:00:00.000000",
          "2018-08-07T00:00:00.000000",
          "2018-08-08T00:00:00.000000",
          "2018-08-09T00:00:00.000000",
          "2018-08-10T00:00:00.000000",
          "2018-08-11T00:00:00.000000",
          "2018-08-12T00:00:00.000000",
          "2018-08-13T00:00:00.000000",
          "2018-08-14T00:00:00.000000",
          "2018-08-15T00:00:00.000000",
          "2018-08-16T00:00:00.000000",
          "2018-08-17T00:00:00.000000",
          "2018-08-18T00:00:00.000000",
          "2018-08-19T00:00:00.000000",
          "2018-08-20T00:00:00.000000",
          "2018-08-21T00:00:00.000000",
          "2018-08-22T00:00:00.000000",
          "2018-08-23T00:00:00.000000",
          "2018-08-24T00:00:00.000000",
          "2018-08-25T00:00:00.000000",
          "2018-08-26T00:00:00.000000",
          "2018-08-27T00:00:00.000000",
          "2018-08-28T00:00:00.000000",
          "2018-08-29T00:00:00.000000",
          "2018-08-30T00:00:00.000000",
          "2018-08-31T00:00:00.000000",
          "2018-09-01T00:00:00.000000",
          "2018-09-02T00:00:00.000000",
          "2018-09-03T00:00:00.000000",
          "2018-09-04T00:00:00.000000",
          "2018-09-05T00:00:00.000000",
          "2018-09-06T00:00:00.000000",
          "2018-09-07T00:00:00.000000",
          "2018-09-08T00:00:00.000000",
          "2018-09-09T00:00:00.000000",
          "2018-09-10T00:00:00.000000",
          "2018-09-11T00:00:00.000000",
          "2018-09-12T00:00:00.000000",
          "2018-09-13T00:00:00.000000",
          "2018-09-14T00:00:00.000000",
          "2018-09-15T00:00:00.000000",
          "2018-09-16T00:00:00.000000",
          "2018-09-17T00:00:00.000000",
          "2018-09-18T00:00:00.000000",
          "2018-09-19T00:00:00.000000",
          "2018-09-20T00:00:00.000000",
          "2018-09-21T00:00:00.000000",
          "2018-09-22T00:00:00.000000",
          "2018-09-23T00:00:00.000000",
          "2018-09-24T00:00:00.000000",
          "2018-09-25T00:00:00.000000",
          "2018-09-26T00:00:00.000000",
          "2018-09-27T00:00:00.000000",
          "2018-09-28T00:00:00.000000",
          "2018-09-29T00:00:00.000000",
          "2018-09-30T00:00:00.000000",
          "2018-10-01T00:00:00.000000",
          "2018-10-02T00:00:00.000000",
          "2018-10-03T00:00:00.000000",
          "2018-10-04T00:00:00.000000",
          "2018-10-05T00:00:00.000000",
          "2018-10-06T00:00:00.000000",
          "2018-10-07T00:00:00.000000",
          "2018-10-08T00:00:00.000000",
          "2018-10-09T00:00:00.000000",
          "2018-10-10T00:00:00.000000",
          "2018-10-11T00:00:00.000000",
          "2018-10-12T00:00:00.000000",
          "2018-10-13T00:00:00.000000",
          "2018-10-14T00:00:00.000000",
          "2018-10-15T00:00:00.000000",
          "2018-10-16T00:00:00.000000",
          "2018-10-17T00:00:00.000000",
          "2018-10-18T00:00:00.000000",
          "2018-10-19T00:00:00.000000",
          "2018-10-20T00:00:00.000000",
          "2018-10-21T00:00:00.000000",
          "2018-10-22T00:00:00.000000",
          "2018-10-23T00:00:00.000000",
          "2018-10-24T00:00:00.000000",
          "2018-10-25T00:00:00.000000",
          "2018-10-26T00:00:00.000000",
          "2018-10-27T00:00:00.000000",
          "2018-10-28T00:00:00.000000",
          "2018-10-29T00:00:00.000000",
          "2018-10-30T00:00:00.000000",
          "2018-10-31T00:00:00.000000",
          "2018-11-01T00:00:00.000000",
          "2018-11-02T00:00:00.000000",
          "2018-11-03T00:00:00.000000",
          "2018-11-04T00:00:00.000000",
          "2018-11-05T00:00:00.000000",
          "2018-11-06T00:00:00.000000",
          "2018-11-07T00:00:00.000000",
          "2018-11-08T00:00:00.000000",
          "2018-11-09T00:00:00.000000",
          "2018-11-10T00:00:00.000000",
          "2018-11-11T00:00:00.000000",
          "2018-11-12T00:00:00.000000",
          "2018-11-13T00:00:00.000000",
          "2018-11-14T00:00:00.000000",
          "2018-11-15T00:00:00.000000",
          "2018-11-16T00:00:00.000000",
          "2018-11-17T00:00:00.000000",
          "2018-11-18T00:00:00.000000",
          "2018-11-19T00:00:00.000000",
          "2018-11-20T00:00:00.000000",
          "2018-11-21T00:00:00.000000",
          "2018-11-22T00:00:00.000000",
          "2018-11-23T00:00:00.000000",
          "2018-11-24T00:00:00.000000",
          "2018-11-25T00:00:00.000000",
          "2018-11-26T00:00:00.000000",
          "2018-11-27T00:00:00.000000",
          "2018-11-28T00:00:00.000000",
          "2018-11-29T00:00:00.000000",
          "2018-11-30T00:00:00.000000",
          "2018-12-01T00:00:00.000000",
          "2018-12-02T00:00:00.000000",
          "2018-12-03T00:00:00.000000",
          "2018-12-04T00:00:00.000000",
          "2018-12-05T00:00:00.000000",
          "2018-12-06T00:00:00.000000",
          "2018-12-07T00:00:00.000000",
          "2018-12-08T00:00:00.000000",
          "2018-12-09T00:00:00.000000",
          "2018-12-10T00:00:00.000000",
          "2018-12-11T00:00:00.000000",
          "2018-12-12T00:00:00.000000",
          "2018-12-13T00:00:00.000000",
          "2018-12-14T00:00:00.000000",
          "2018-12-15T00:00:00.000000",
          "2018-12-16T00:00:00.000000",
          "2018-12-17T00:00:00.000000",
          "2018-12-18T00:00:00.000000",
          "2018-12-19T00:00:00.000000",
          "2018-12-20T00:00:00.000000",
          "2018-12-21T00:00:00.000000",
          "2018-12-22T00:00:00.000000",
          "2018-12-23T00:00:00.000000",
          "2018-12-24T00:00:00.000000",
          "2018-12-25T00:00:00.000000",
          "2018-12-26T00:00:00.000000",
          "2018-12-27T00:00:00.000000",
          "2018-12-28T00:00:00.000000",
          "2018-12-29T00:00:00.000000",
          "2018-12-30T00:00:00.000000",
          "2018-12-31T00:00:00.000000",
          "2019-01-01T00:00:00.000000",
          "2019-01-02T00:00:00.000000",
          "2019-01-03T00:00:00.000000",
          "2019-01-04T00:00:00.000000",
          "2019-01-05T00:00:00.000000",
          "2019-01-06T00:00:00.000000",
          "2019-01-07T00:00:00.000000",
          "2019-01-08T00:00:00.000000",
          "2019-01-09T00:00:00.000000",
          "2019-01-10T00:00:00.000000",
          "2019-01-11T00:00:00.000000",
          "2019-01-12T00:00:00.000000",
          "2019-01-13T00:00:00.000000",
          "2019-01-14T00:00:00.000000",
          "2019-01-15T00:00:00.000000",
          "2019-01-16T00:00:00.000000",
          "2019-01-17T00:00:00.000000",
          "2019-01-18T00:00:00.000000",
          "2019-01-19T00:00:00.000000",
          "2019-01-20T00:00:00.000000",
          "2019-01-21T00:00:00.000000",
          "2019-01-22T00:00:00.000000",
          "2019-01-23T00:00:00.000000",
          "2019-01-24T00:00:00.000000",
          "2019-01-25T00:00:00.000000",
          "2019-01-26T00:00:00.000000",
          "2019-01-27T00:00:00.000000",
          "2019-01-28T00:00:00.000000",
          "2019-01-29T00:00:00.000000",
          "2019-01-30T00:00:00.000000",
          "2019-01-31T00:00:00.000000",
          "2019-02-01T00:00:00.000000",
          "2019-02-02T00:00:00.000000",
          "2019-02-03T00:00:00.000000",
          "2019-02-04T00:00:00.000000",
          "2019-02-05T00:00:00.000000",
          "2019-02-06T00:00:00.000000",
          "2019-02-07T00:00:00.000000",
          "2019-02-08T00:00:00.000000",
          "2019-02-09T00:00:00.000000",
          "2019-02-10T00:00:00.000000",
          "2019-02-11T00:00:00.000000",
          "2019-02-12T00:00:00.000000",
          "2019-02-13T00:00:00.000000",
          "2019-02-14T00:00:00.000000",
          "2019-02-15T00:00:00.000000",
          "2019-02-16T00:00:00.000000",
          "2019-02-17T00:00:00.000000",
          "2019-02-18T00:00:00.000000",
          "2019-02-19T00:00:00.000000",
          "2019-02-20T00:00:00.000000",
          "2019-02-21T00:00:00.000000",
          "2019-02-22T00:00:00.000000",
          "2019-02-23T00:00:00.000000",
          "2019-02-24T00:00:00.000000",
          "2019-02-25T00:00:00.000000",
          "2019-02-26T00:00:00.000000",
          "2019-02-27T00:00:00.000000",
          "2019-02-28T00:00:00.000000",
          "2019-03-01T00:00:00.000000",
          "2019-03-02T00:00:00.000000",
          "2019-03-03T00:00:00.000000",
          "2019-03-04T00:00:00.000000",
          "2019-03-05T00:00:00.000000",
          "2019-03-06T00:00:00.000000",
          "2019-03-07T00:00:00.000000",
          "2019-03-08T00:00:00.000000",
          "2019-03-09T00:00:00.000000",
          "2019-03-10T00:00:00.000000",
          "2019-03-11T00:00:00.000000",
          "2019-03-12T00:00:00.000000",
          "2019-03-13T00:00:00.000000",
          "2019-03-14T00:00:00.000000",
          "2019-03-15T00:00:00.000000",
          "2019-03-16T00:00:00.000000",
          "2019-03-17T00:00:00.000000",
          "2019-03-18T00:00:00.000000",
          "2019-03-19T00:00:00.000000",
          "2019-03-20T00:00:00.000000",
          "2019-03-21T00:00:00.000000",
          "2019-03-22T00:00:00.000000",
          "2019-03-23T00:00:00.000000",
          "2019-03-24T00:00:00.000000",
          "2019-03-25T00:00:00.000000",
          "2019-03-26T00:00:00.000000",
          "2019-03-27T00:00:00.000000",
          "2019-03-28T00:00:00.000000",
          "2019-03-29T00:00:00.000000",
          "2019-03-30T00:00:00.000000",
          "2019-03-31T00:00:00.000000",
          "2019-04-01T00:00:00.000000",
          "2019-04-02T00:00:00.000000",
          "2019-04-03T00:00:00.000000",
          "2019-04-04T00:00:00.000000",
          "2019-04-05T00:00:00.000000",
          "2019-04-06T00:00:00.000000",
          "2019-04-07T00:00:00.000000",
          "2019-04-08T00:00:00.000000",
          "2019-04-09T00:00:00.000000",
          "2019-04-10T00:00:00.000000",
          "2019-04-11T00:00:00.000000",
          "2019-04-12T00:00:00.000000",
          "2019-04-13T00:00:00.000000",
          "2019-04-14T00:00:00.000000",
          "2019-04-15T00:00:00.000000",
          "2019-04-16T00:00:00.000000",
          "2019-04-17T00:00:00.000000",
          "2019-04-18T00:00:00.000000",
          "2019-04-19T00:00:00.000000",
          "2019-04-20T00:00:00.000000",
          "2019-04-21T00:00:00.000000",
          "2019-04-22T00:00:00.000000",
          "2019-04-23T00:00:00.000000",
          "2019-04-24T00:00:00.000000",
          "2019-04-25T00:00:00.000000",
          "2019-04-26T00:00:00.000000",
          "2019-04-27T00:00:00.000000",
          "2019-04-28T00:00:00.000000",
          "2019-04-29T00:00:00.000000",
          "2019-04-30T00:00:00.000000",
          "2019-05-01T00:00:00.000000",
          "2019-05-02T00:00:00.000000",
          "2019-05-03T00:00:00.000000",
          "2019-05-04T00:00:00.000000",
          "2019-05-05T00:00:00.000000",
          "2019-05-06T00:00:00.000000",
          "2019-05-07T00:00:00.000000",
          "2019-05-08T00:00:00.000000",
          "2019-05-09T00:00:00.000000",
          "2019-05-10T00:00:00.000000",
          "2019-05-11T00:00:00.000000",
          "2019-05-12T00:00:00.000000",
          "2019-05-13T00:00:00.000000",
          "2019-05-14T00:00:00.000000",
          "2019-05-15T00:00:00.000000",
          "2019-05-16T00:00:00.000000",
          "2019-05-17T00:00:00.000000",
          "2019-05-18T00:00:00.000000",
          "2019-05-19T00:00:00.000000",
          "2019-05-20T00:00:00.000000",
          "2019-05-21T00:00:00.000000",
          "2019-05-22T00:00:00.000000",
          "2019-05-23T00:00:00.000000",
          "2019-05-24T00:00:00.000000",
          "2019-05-25T00:00:00.000000",
          "2019-05-26T00:00:00.000000",
          "2019-05-27T00:00:00.000000",
          "2019-05-28T00:00:00.000000",
          "2019-05-29T00:00:00.000000",
          "2019-05-30T00:00:00.000000",
          "2019-05-31T00:00:00.000000",
          "2019-06-01T00:00:00.000000",
          "2019-06-02T00:00:00.000000",
          "2019-06-03T00:00:00.000000",
          "2019-06-04T00:00:00.000000",
          "2019-06-05T00:00:00.000000",
          "2019-06-06T00:00:00.000000",
          "2019-06-07T00:00:00.000000",
          "2019-06-08T00:00:00.000000",
          "2019-06-09T00:00:00.000000",
          "2019-06-10T00:00:00.000000",
          "2019-06-11T00:00:00.000000",
          "2019-06-12T00:00:00.000000",
          "2019-06-13T00:00:00.000000",
          "2019-06-14T00:00:00.000000",
          "2019-06-15T00:00:00.000000",
          "2019-06-16T00:00:00.000000",
          "2019-06-17T00:00:00.000000",
          "2019-06-18T00:00:00.000000",
          "2019-06-19T00:00:00.000000",
          "2019-06-20T00:00:00.000000",
          "2019-06-21T00:00:00.000000",
          "2019-06-22T00:00:00.000000",
          "2019-06-23T00:00:00.000000",
          "2019-06-24T00:00:00.000000",
          "2019-06-25T00:00:00.000000",
          "2019-06-26T00:00:00.000000",
          "2019-06-27T00:00:00.000000",
          "2019-06-28T00:00:00.000000",
          "2019-06-29T00:00:00.000000",
          "2019-06-30T00:00:00.000000",
          "2019-07-01T00:00:00.000000",
          "2019-07-02T00:00:00.000000",
          "2019-07-03T00:00:00.000000",
          "2019-07-04T00:00:00.000000",
          "2019-07-05T00:00:00.000000",
          "2019-07-06T00:00:00.000000",
          "2019-07-07T00:00:00.000000",
          "2019-07-08T00:00:00.000000",
          "2019-07-09T00:00:00.000000",
          "2019-07-10T00:00:00.000000",
          "2019-07-11T00:00:00.000000",
          "2019-07-12T00:00:00.000000",
          "2019-07-13T00:00:00.000000",
          "2019-07-14T00:00:00.000000",
          "2019-07-15T00:00:00.000000",
          "2019-07-16T00:00:00.000000",
          "2019-07-17T00:00:00.000000",
          "2019-07-18T00:00:00.000000",
          "2019-07-19T00:00:00.000000",
          "2019-07-20T00:00:00.000000",
          "2019-07-21T00:00:00.000000",
          "2019-07-22T00:00:00.000000",
          "2019-07-23T00:00:00.000000",
          "2019-07-24T00:00:00.000000",
          "2019-07-25T00:00:00.000000",
          "2019-07-26T00:00:00.000000",
          "2019-07-27T00:00:00.000000",
          "2019-07-28T00:00:00.000000",
          "2019-07-29T00:00:00.000000",
          "2019-07-30T00:00:00.000000",
          "2019-07-31T00:00:00.000000",
          "2019-08-01T00:00:00.000000",
          "2019-08-02T00:00:00.000000",
          "2019-08-03T00:00:00.000000",
          "2019-08-04T00:00:00.000000",
          "2019-08-05T00:00:00.000000",
          "2019-08-06T00:00:00.000000",
          "2019-08-07T00:00:00.000000",
          "2019-08-08T00:00:00.000000",
          "2019-08-09T00:00:00.000000",
          "2019-08-10T00:00:00.000000",
          "2019-08-11T00:00:00.000000",
          "2019-08-12T00:00:00.000000",
          "2019-08-13T00:00:00.000000",
          "2019-08-14T00:00:00.000000",
          "2019-08-15T00:00:00.000000",
          "2019-08-16T00:00:00.000000",
          "2019-08-17T00:00:00.000000",
          "2019-08-18T00:00:00.000000",
          "2019-08-19T00:00:00.000000",
          "2019-08-20T00:00:00.000000",
          "2019-08-21T00:00:00.000000",
          "2019-08-22T00:00:00.000000",
          "2019-08-23T00:00:00.000000",
          "2019-08-24T00:00:00.000000",
          "2019-08-25T00:00:00.000000",
          "2019-08-26T00:00:00.000000",
          "2019-08-27T00:00:00.000000",
          "2019-08-28T00:00:00.000000",
          "2019-08-29T00:00:00.000000",
          "2019-08-30T00:00:00.000000",
          "2019-08-31T00:00:00.000000",
          "2019-09-01T00:00:00.000000",
          "2019-09-02T00:00:00.000000",
          "2019-09-03T00:00:00.000000",
          "2019-09-04T00:00:00.000000",
          "2019-09-05T00:00:00.000000",
          "2019-09-06T00:00:00.000000",
          "2019-09-07T00:00:00.000000",
          "2019-09-08T00:00:00.000000",
          "2019-09-09T00:00:00.000000",
          "2019-09-10T00:00:00.000000",
          "2019-09-11T00:00:00.000000",
          "2019-09-12T00:00:00.000000",
          "2019-09-13T00:00:00.000000",
          "2019-09-14T00:00:00.000000",
          "2019-09-15T00:00:00.000000",
          "2019-09-16T00:00:00.000000",
          "2019-09-17T00:00:00.000000",
          "2019-09-18T00:00:00.000000",
          "2019-09-19T00:00:00.000000",
          "2019-09-20T00:00:00.000000",
          "2019-09-21T00:00:00.000000",
          "2019-09-22T00:00:00.000000",
          "2019-09-23T00:00:00.000000",
          "2019-09-24T00:00:00.000000",
          "2019-09-25T00:00:00.000000",
          "2019-09-26T00:00:00.000000",
          "2019-09-27T00:00:00.000000",
          "2019-09-28T00:00:00.000000",
          "2019-09-29T00:00:00.000000",
          "2019-09-30T00:00:00.000000",
          "2019-10-01T00:00:00.000000",
          "2019-10-02T00:00:00.000000",
          "2019-10-03T00:00:00.000000",
          "2019-10-04T00:00:00.000000",
          "2019-10-05T00:00:00.000000",
          "2019-10-06T00:00:00.000000",
          "2019-10-07T00:00:00.000000",
          "2019-10-08T00:00:00.000000",
          "2019-10-09T00:00:00.000000",
          "2019-10-10T00:00:00.000000",
          "2019-10-11T00:00:00.000000",
          "2019-10-12T00:00:00.000000",
          "2019-10-13T00:00:00.000000",
          "2019-10-14T00:00:00.000000",
          "2019-10-15T00:00:00.000000",
          "2019-10-16T00:00:00.000000",
          "2019-10-17T00:00:00.000000",
          "2019-10-18T00:00:00.000000",
          "2019-10-19T00:00:00.000000",
          "2019-10-20T00:00:00.000000",
          "2019-10-21T00:00:00.000000",
          "2019-10-22T00:00:00.000000",
          "2019-10-23T00:00:00.000000",
          "2019-10-24T00:00:00.000000",
          "2019-10-25T00:00:00.000000",
          "2019-10-26T00:00:00.000000",
          "2019-10-27T00:00:00.000000",
          "2019-10-28T00:00:00.000000",
          "2019-10-29T00:00:00.000000",
          "2019-10-30T00:00:00.000000",
          "2019-10-31T00:00:00.000000",
          "2019-11-01T00:00:00.000000",
          "2019-11-02T00:00:00.000000",
          "2019-11-03T00:00:00.000000",
          "2019-11-04T00:00:00.000000",
          "2019-11-05T00:00:00.000000",
          "2019-11-06T00:00:00.000000",
          "2019-11-07T00:00:00.000000",
          "2019-11-08T00:00:00.000000",
          "2019-11-09T00:00:00.000000",
          "2019-11-10T00:00:00.000000",
          "2019-11-11T00:00:00.000000",
          "2019-11-12T00:00:00.000000",
          "2019-11-13T00:00:00.000000",
          "2019-11-14T00:00:00.000000",
          "2019-11-15T00:00:00.000000",
          "2019-11-16T00:00:00.000000",
          "2019-11-17T00:00:00.000000",
          "2019-11-18T00:00:00.000000",
          "2019-11-19T00:00:00.000000",
          "2019-11-20T00:00:00.000000",
          "2019-11-21T00:00:00.000000",
          "2019-11-22T00:00:00.000000",
          "2019-11-23T00:00:00.000000",
          "2019-11-24T00:00:00.000000",
          "2019-11-25T00:00:00.000000",
          "2019-11-26T00:00:00.000000",
          "2019-11-27T00:00:00.000000",
          "2019-11-28T00:00:00.000000",
          "2019-11-29T00:00:00.000000",
          "2019-11-30T00:00:00.000000",
          "2019-12-01T00:00:00.000000",
          "2019-12-02T00:00:00.000000",
          "2019-12-03T00:00:00.000000",
          "2019-12-04T00:00:00.000000",
          "2019-12-05T00:00:00.000000",
          "2019-12-06T00:00:00.000000",
          "2019-12-07T00:00:00.000000",
          "2019-12-08T00:00:00.000000",
          "2019-12-09T00:00:00.000000",
          "2019-12-10T00:00:00.000000",
          "2019-12-11T00:00:00.000000",
          "2019-12-12T00:00:00.000000",
          "2019-12-13T00:00:00.000000",
          "2019-12-14T00:00:00.000000",
          "2019-12-15T00:00:00.000000",
          "2019-12-16T00:00:00.000000",
          "2019-12-17T00:00:00.000000",
          "2019-12-18T00:00:00.000000",
          "2019-12-19T00:00:00.000000",
          "2019-12-20T00:00:00.000000",
          "2019-12-21T00:00:00.000000",
          "2019-12-22T00:00:00.000000",
          "2019-12-23T00:00:00.000000",
          "2019-12-24T00:00:00.000000",
          "2019-12-25T00:00:00.000000",
          "2019-12-26T00:00:00.000000",
          "2019-12-27T00:00:00.000000",
          "2019-12-28T00:00:00.000000",
          "2019-12-29T00:00:00.000000",
          "2019-12-30T00:00:00.000000",
          "2019-12-31T00:00:00.000000",
          "2020-01-01T00:00:00.000000",
          "2020-01-02T00:00:00.000000",
          "2020-01-03T00:00:00.000000",
          "2020-01-04T00:00:00.000000",
          "2020-01-05T00:00:00.000000",
          "2020-01-06T00:00:00.000000",
          "2020-01-07T00:00:00.000000",
          "2020-01-08T00:00:00.000000",
          "2020-01-09T00:00:00.000000",
          "2020-01-10T00:00:00.000000",
          "2020-01-11T00:00:00.000000",
          "2020-01-12T00:00:00.000000",
          "2020-01-13T00:00:00.000000",
          "2020-01-14T00:00:00.000000",
          "2020-01-15T00:00:00.000000",
          "2020-01-16T00:00:00.000000",
          "2020-01-17T00:00:00.000000",
          "2020-01-18T00:00:00.000000",
          "2020-01-19T00:00:00.000000",
          "2020-01-20T00:00:00.000000",
          "2020-01-21T00:00:00.000000",
          "2020-01-22T00:00:00.000000",
          "2020-01-23T00:00:00.000000",
          "2020-01-24T00:00:00.000000",
          "2020-01-25T00:00:00.000000",
          "2020-01-26T00:00:00.000000",
          "2020-01-27T00:00:00.000000",
          "2020-01-28T00:00:00.000000",
          "2020-01-29T00:00:00.000000",
          "2020-01-30T00:00:00.000000",
          "2020-01-31T00:00:00.000000",
          "2020-02-01T00:00:00.000000",
          "2020-02-02T00:00:00.000000",
          "2020-02-03T00:00:00.000000",
          "2020-02-04T00:00:00.000000",
          "2020-02-05T00:00:00.000000",
          "2020-02-06T00:00:00.000000",
          "2020-02-07T00:00:00.000000",
          "2020-02-08T00:00:00.000000",
          "2020-02-09T00:00:00.000000",
          "2020-02-10T00:00:00.000000",
          "2020-02-11T00:00:00.000000",
          "2020-02-12T00:00:00.000000",
          "2020-02-13T00:00:00.000000",
          "2020-02-14T00:00:00.000000",
          "2020-02-15T00:00:00.000000",
          "2020-02-16T00:00:00.000000",
          "2020-02-17T00:00:00.000000",
          "2020-02-18T00:00:00.000000",
          "2020-02-19T00:00:00.000000",
          "2020-02-20T00:00:00.000000",
          "2020-02-21T00:00:00.000000",
          "2020-02-22T00:00:00.000000",
          "2020-02-23T00:00:00.000000",
          "2020-02-24T00:00:00.000000",
          "2020-02-25T00:00:00.000000",
          "2020-02-26T00:00:00.000000",
          "2020-02-27T00:00:00.000000",
          "2020-02-28T00:00:00.000000",
          "2020-02-29T00:00:00.000000",
          "2020-03-01T00:00:00.000000",
          "2020-03-02T00:00:00.000000",
          "2020-03-03T00:00:00.000000",
          "2020-03-04T00:00:00.000000",
          "2020-03-05T00:00:00.000000",
          "2020-03-06T00:00:00.000000",
          "2020-03-07T00:00:00.000000",
          "2020-03-08T00:00:00.000000",
          "2020-03-09T00:00:00.000000",
          "2020-03-10T00:00:00.000000",
          "2020-03-11T00:00:00.000000",
          "2020-03-12T00:00:00.000000",
          "2020-03-13T00:00:00.000000",
          "2020-03-14T00:00:00.000000",
          "2020-03-15T00:00:00.000000",
          "2020-03-16T00:00:00.000000",
          "2020-03-17T00:00:00.000000",
          "2020-03-18T00:00:00.000000",
          "2020-03-19T00:00:00.000000",
          "2020-03-20T00:00:00.000000",
          "2020-03-21T00:00:00.000000",
          "2020-03-22T00:00:00.000000",
          "2020-03-23T00:00:00.000000",
          "2020-03-24T00:00:00.000000",
          "2020-03-25T00:00:00.000000",
          "2020-03-26T00:00:00.000000",
          "2020-03-27T00:00:00.000000",
          "2020-03-28T00:00:00.000000",
          "2020-03-29T00:00:00.000000",
          "2020-03-30T00:00:00.000000",
          "2020-03-31T00:00:00.000000",
          "2020-04-01T00:00:00.000000",
          "2020-04-02T00:00:00.000000",
          "2020-04-03T00:00:00.000000",
          "2020-04-04T00:00:00.000000",
          "2020-04-05T00:00:00.000000",
          "2020-04-06T00:00:00.000000",
          "2020-04-07T00:00:00.000000",
          "2020-04-08T00:00:00.000000",
          "2020-04-09T00:00:00.000000",
          "2020-04-10T00:00:00.000000",
          "2020-04-11T00:00:00.000000",
          "2020-04-12T00:00:00.000000",
          "2020-04-13T00:00:00.000000",
          "2020-04-14T00:00:00.000000",
          "2020-04-15T00:00:00.000000",
          "2020-04-16T00:00:00.000000",
          "2020-04-17T00:00:00.000000",
          "2020-04-18T00:00:00.000000",
          "2020-04-19T00:00:00.000000",
          "2020-04-20T00:00:00.000000",
          "2020-04-21T00:00:00.000000",
          "2020-04-22T00:00:00.000000",
          "2020-04-23T00:00:00.000000",
          "2020-04-24T00:00:00.000000",
          "2020-04-25T00:00:00.000000",
          "2020-04-26T00:00:00.000000",
          "2020-04-27T00:00:00.000000",
          "2020-04-28T00:00:00.000000",
          "2020-04-29T00:00:00.000000",
          "2020-04-30T00:00:00.000000",
          "2020-05-01T00:00:00.000000",
          "2020-05-02T00:00:00.000000",
          "2020-05-03T00:00:00.000000",
          "2020-05-04T00:00:00.000000",
          "2020-05-05T00:00:00.000000",
          "2020-05-06T00:00:00.000000",
          "2020-05-07T00:00:00.000000",
          "2020-05-08T00:00:00.000000",
          "2020-05-09T00:00:00.000000",
          "2020-05-10T00:00:00.000000",
          "2020-05-11T00:00:00.000000",
          "2020-05-12T00:00:00.000000",
          "2020-05-13T00:00:00.000000",
          "2020-05-14T00:00:00.000000",
          "2020-05-15T00:00:00.000000",
          "2020-05-16T00:00:00.000000",
          "2020-05-17T00:00:00.000000",
          "2020-05-18T00:00:00.000000",
          "2020-05-19T00:00:00.000000",
          "2020-05-20T00:00:00.000000",
          "2020-05-21T00:00:00.000000",
          "2020-05-22T00:00:00.000000",
          "2020-05-23T00:00:00.000000",
          "2020-05-24T00:00:00.000000",
          "2020-05-25T00:00:00.000000",
          "2020-05-26T00:00:00.000000",
          "2020-05-27T00:00:00.000000",
          "2020-05-28T00:00:00.000000",
          "2020-05-29T00:00:00.000000",
          "2020-05-30T00:00:00.000000",
          "2020-05-31T00:00:00.000000",
          "2020-06-01T00:00:00.000000",
          "2020-06-02T00:00:00.000000",
          "2020-06-03T00:00:00.000000",
          "2020-06-04T00:00:00.000000",
          "2020-06-05T00:00:00.000000",
          "2020-06-06T00:00:00.000000",
          "2020-06-07T00:00:00.000000",
          "2020-06-08T00:00:00.000000",
          "2020-06-09T00:00:00.000000",
          "2020-06-10T00:00:00.000000",
          "2020-06-11T00:00:00.000000",
          "2020-06-12T00:00:00.000000",
          "2020-06-13T00:00:00.000000",
          "2020-06-14T00:00:00.000000",
          "2020-06-15T00:00:00.000000",
          "2020-06-16T00:00:00.000000",
          "2020-06-17T00:00:00.000000",
          "2020-06-18T00:00:00.000000",
          "2020-06-19T00:00:00.000000",
          "2020-06-20T00:00:00.000000",
          "2020-06-21T00:00:00.000000",
          "2020-06-22T00:00:00.000000",
          "2020-06-23T00:00:00.000000",
          "2020-06-24T00:00:00.000000",
          "2020-06-25T00:00:00.000000",
          "2020-06-26T00:00:00.000000",
          "2020-06-27T00:00:00.000000",
          "2020-06-28T00:00:00.000000",
          "2020-06-29T00:00:00.000000",
          "2020-06-30T00:00:00.000000",
          "2020-07-01T00:00:00.000000",
          "2020-07-02T00:00:00.000000",
          "2020-07-03T00:00:00.000000",
          "2020-07-04T00:00:00.000000",
          "2020-07-05T00:00:00.000000",
          "2020-07-06T00:00:00.000000",
          "2020-07-07T00:00:00.000000",
          "2020-07-08T00:00:00.000000",
          "2020-07-09T00:00:00.000000",
          "2020-07-10T00:00:00.000000",
          "2020-07-11T00:00:00.000000",
          "2020-07-12T00:00:00.000000",
          "2020-07-13T00:00:00.000000",
          "2020-07-14T00:00:00.000000",
          "2020-07-15T00:00:00.000000",
          "2020-07-16T00:00:00.000000",
          "2020-07-17T00:00:00.000000",
          "2020-07-18T00:00:00.000000",
          "2020-07-19T00:00:00.000000",
          "2020-07-20T00:00:00.000000",
          "2020-07-21T00:00:00.000000",
          "2020-07-22T00:00:00.000000",
          "2020-07-23T00:00:00.000000",
          "2020-07-24T00:00:00.000000",
          "2020-07-25T00:00:00.000000",
          "2020-07-26T00:00:00.000000",
          "2020-07-27T00:00:00.000000",
          "2020-07-28T00:00:00.000000",
          "2020-07-29T00:00:00.000000",
          "2020-07-30T00:00:00.000000",
          "2020-07-31T00:00:00.000000",
          "2020-08-01T00:00:00.000000",
          "2020-08-02T00:00:00.000000",
          "2020-08-03T00:00:00.000000",
          "2020-08-04T00:00:00.000000",
          "2020-08-05T00:00:00.000000",
          "2020-08-06T00:00:00.000000",
          "2020-08-07T00:00:00.000000",
          "2020-08-08T00:00:00.000000",
          "2020-08-09T00:00:00.000000",
          "2020-08-10T00:00:00.000000",
          "2020-08-11T00:00:00.000000",
          "2020-08-12T00:00:00.000000",
          "2020-08-13T00:00:00.000000",
          "2020-08-14T00:00:00.000000",
          "2020-08-15T00:00:00.000000",
          "2020-08-16T00:00:00.000000",
          "2020-08-17T00:00:00.000000",
          "2020-08-18T00:00:00.000000",
          "2020-08-19T00:00:00.000000",
          "2020-08-20T00:00:00.000000",
          "2020-08-21T00:00:00.000000",
          "2020-08-22T00:00:00.000000",
          "2020-08-23T00:00:00.000000",
          "2020-08-24T00:00:00.000000",
          "2020-08-25T00:00:00.000000",
          "2020-08-26T00:00:00.000000",
          "2020-08-27T00:00:00.000000",
          "2020-08-28T00:00:00.000000",
          "2020-08-29T00:00:00.000000",
          "2020-08-30T00:00:00.000000",
          "2020-08-31T00:00:00.000000",
          "2020-09-01T00:00:00.000000",
          "2020-09-02T00:00:00.000000",
          "2020-09-03T00:00:00.000000",
          "2020-09-04T00:00:00.000000",
          "2020-09-05T00:00:00.000000",
          "2020-09-06T00:00:00.000000",
          "2020-09-07T00:00:00.000000",
          "2020-09-08T00:00:00.000000",
          "2020-09-09T00:00:00.000000",
          "2020-09-10T00:00:00.000000",
          "2020-09-11T00:00:00.000000",
          "2020-09-12T00:00:00.000000",
          "2020-09-13T00:00:00.000000",
          "2020-09-14T00:00:00.000000",
          "2020-09-15T00:00:00.000000",
          "2020-09-16T00:00:00.000000",
          "2020-09-17T00:00:00.000000",
          "2020-09-18T00:00:00.000000",
          "2020-09-19T00:00:00.000000",
          "2020-09-20T00:00:00.000000",
          "2020-09-21T00:00:00.000000",
          "2020-09-22T00:00:00.000000",
          "2020-09-23T00:00:00.000000",
          "2020-09-24T00:00:00.000000",
          "2020-09-25T00:00:00.000000",
          "2020-09-26T00:00:00.000000",
          "2020-09-27T00:00:00.000000",
          "2020-09-28T00:00:00.000000",
          "2020-09-29T00:00:00.000000",
          "2020-09-30T00:00:00.000000",
          "2020-10-01T00:00:00.000000",
          "2020-10-02T00:00:00.000000",
          "2020-10-03T00:00:00.000000",
          "2020-10-04T00:00:00.000000",
          "2020-10-05T00:00:00.000000",
          "2020-10-06T00:00:00.000000",
          "2020-10-07T00:00:00.000000",
          "2020-10-08T00:00:00.000000",
          "2020-10-09T00:00:00.000000",
          "2020-10-10T00:00:00.000000",
          "2020-10-11T00:00:00.000000",
          "2020-10-12T00:00:00.000000",
          "2020-10-13T00:00:00.000000",
          "2020-10-14T00:00:00.000000",
          "2020-10-15T00:00:00.000000",
          "2020-10-16T00:00:00.000000",
          "2020-10-17T00:00:00.000000",
          "2020-10-18T00:00:00.000000",
          "2020-10-19T00:00:00.000000",
          "2020-10-20T00:00:00.000000",
          "2020-10-21T00:00:00.000000",
          "2020-10-22T00:00:00.000000",
          "2020-10-23T00:00:00.000000",
          "2020-10-24T00:00:00.000000",
          "2020-10-25T00:00:00.000000",
          "2020-10-26T00:00:00.000000",
          "2020-10-27T00:00:00.000000",
          "2020-10-28T00:00:00.000000",
          "2020-10-29T00:00:00.000000",
          "2020-10-30T00:00:00.000000",
          "2020-10-31T00:00:00.000000",
          "2020-11-01T00:00:00.000000",
          "2020-11-02T00:00:00.000000",
          "2020-11-03T00:00:00.000000",
          "2020-11-04T00:00:00.000000",
          "2020-11-05T00:00:00.000000",
          "2020-11-06T00:00:00.000000",
          "2020-11-07T00:00:00.000000",
          "2020-11-08T00:00:00.000000"
         ],
         "y": {
          "dtype": "float64",
          "shape": [
           2245
          ]
         }
        },
        {
         "customdata": [
          [
           0.424528726415519,
           0.09990009990008275
          ],
          [
           0.5257767638910368,
           0.23564263004067243
          ],
          [
           0.12661343528778865,
           0.11676037775367831
          ],
          [
           0.10208166914117418,
           0.7657043920609112
          ],
          [
           0.1300787598891652,
           1.010587088729153
          ],
          [
           0.12036762272792542,
           0.7840819165070343
          ],
          [
           0.11161403875515681,
           0.43508045219067526
          ],
          [
           0.09809705744785092,
           0.3633730821394465
          ],
          [
           0.08561569986385309,
           0.5656440935464389
          ],
          [
           0.049712085343789854,
           0.46038362236879493
          ]
         ],
         "hovertemplate": "%{x}<br>Price: %{y}<br>Size: %{customdata[0]:.4f}<br>Fees: %{customdata[1]:.4f}",
         "marker": {
          "color": "#37B13F",
          "line": {
           "color": "rgb(38,123,44)",
           "width": 1
          },
          "size": 8,
          "symbol": "triangle-up"
         },
         "mode": "markers",
         "name": "Buy",
         "type": "scatter",
         "uid": "d2c8c615-d302-4be3-910d-d90bea35d77d",
         "x": [
          "2015-05-22T00:00:00.000000",
          "2016-01-12T00:00:00.000000",
          "2016-12-24T00:00:00.000000",
          "2018-06-05T00:00:00.000000",
          "2018-08-01T00:00:00.000000",
          "2018-09-17T00:00:00.000000",
          "2018-12-22T00:00:00.000000",
          "2019-01-15T00:00:00.000000",
          "2020-04-02T00:00:00.000000",
          "2020-06-26T00:00:00.000000"
         ],
         "y": {
          "dtype": "float64",
          "shape": [
           10
          ]
         }
        },
        {
         "customdata": [
          [
           0.849057452831038,
           0.23611438705778331
          ],
          [
           0.2024960749510356,
           0.11699413226371033
          ],
          [
           0.05073079562454169,
           0.7672373337868812
          ],
          [
           0.15343254265780668,
           1.0126102861041533
          ],
          [
           0.10672497712052373,
           0.7856516500736506
          ],
          [
           0.13401026833532712,
           0.43595148412701934
          ],
          [
           0.0892178091749865,
           0.3641005557773952
          ],
          [
           0.10697630572071534,
           0.5667765141542079
          ],
          [
           0.06425509400699084,
           0.4613053113025092
          ],
          [
           0.03516907668058887,
           0.39037077241150075
          ]
         ],
         "hovertemplate": "%{x}<br>Price: %{y}<br>Size: %{customdata[0]:.4f}<br>Fees: %{customdata[1]:.4f}",
         "marker": {
          "color": "#EA4335",
          "line": {
           "color": "rgb(181,31,18)",
           "width": 1
          },
          "size": 8,
          "symbol": "triangle-down"
         },
         "mode": "markers",
         "name": "Sell",
         "type": "scatter",
         "uid": "04847bf6-0f3a-41cf-b30c-08b6b09f9f7d",
         "x": [
          "2015-07-17T00:00:00.000000",
          "2016-08-17T00:00:00.000000",
          "2018-01-09T00:00:00.000000",
          "2018-07-05T00:00:00.000000",
          "2018-09-05T00:00:00.000000",
          "2018-12-17T00:00:00.000000",
          "2018-12-25T00:00:00.000000",
          "2019-04-19T00:00:00.000000",
          "2020-04-08T00:00:00.000000",
          "2020-07-30T00:00:00.000000"
         ],
         "y": {
          "dtype": "float64",
          "shape": [
           10
          ]
         }
        }
       ],
       "_js2py_layoutDelta": {},
       "_js2py_pointsCallback": {},
       "_js2py_relayout": {},
       "_js2py_restyle": {},
       "_js2py_traceDeltas": {},
       "_js2py_update": {},
       "_last_layout_edit_id": 4,
       "_last_trace_edit_id": 4,
       "_layout": {
        "autosize": false,
        "colorway": [
         "#1f77b4",
         "#ff7f0e",
         "#2ca02c",
         "#dc3912",
         "#9467bd",
         "#8c564b",
         "#e377c2",
         "#7f7f7f",
         "#bcbd22",
         "#17becf"
        ],
        "height": 300,
        "hovermode": "closest",
        "margin": {
         "b": 30,
         "t": 30
        },
        "template": {
         "data": {
          "bar": [
           {
            "error_x": {
             "color": "#2a3f5f"
            },
            "error_y": {
             "color": "#2a3f5f"
            },
            "marker": {
             "line": {
              "color": "#E5ECF6",
              "width": 0.5
             }
            },
            "type": "bar"
           }
          ],
          "barpolar": [
           {
            "marker": {
             "line": {
              "color": "#E5ECF6",
              "width": 0.5
             }
            },
            "type": "barpolar"
           }
          ],
          "carpet": [
           {
            "aaxis": {
             "endlinecolor": "#2a3f5f",
             "gridcolor": "white",
             "linecolor": "white",
             "minorgridcolor": "white",
             "startlinecolor": "#2a3f5f"
            },
            "baxis": {
             "endlinecolor": "#2a3f5f",
             "gridcolor": "white",
             "linecolor": "white",
             "minorgridcolor": "white",
             "startlinecolor": "#2a3f5f"
            },
            "type": "carpet"
           }
          ],
          "choropleth": [
           {
            "colorbar": {
             "outlinewidth": 0,
             "ticks": ""
            },
            "type": "choropleth"
           }
          ],
          "contour": [
           {
            "colorbar": {
             "outlinewidth": 0,
             "ticks": ""
            },
            "colorscale": [
             [
              0,
              "#0d0887"
             ],
             [
              0.1111111111111111,
              "#46039f"
             ],
             [
              0.2222222222222222,
              "#7201a8"
             ],
             [
              0.3333333333333333,
              "#9c179e"
             ],
             [
              0.4444444444444444,
              "#bd3786"
             ],
             [
              0.5555555555555556,
              "#d8576b"
             ],
             [
              0.6666666666666666,
              "#ed7953"
             ],
             [
              0.7777777777777778,
              "#fb9f3a"
             ],
             [
              0.8888888888888888,
              "#fdca26"
             ],
             [
              1,
              "#f0f921"
             ]
            ],
            "type": "contour"
           }
          ],
          "contourcarpet": [
           {
            "colorbar": {
             "outlinewidth": 0,
             "ticks": ""
            },
            "type": "contourcarpet"
           }
          ],
          "heatmap": [
           {
            "colorbar": {
             "outlinewidth": 0,
             "ticks": ""
            },
            "colorscale": [
             [
              0,
              "#0d0887"
             ],
             [
              0.1111111111111111,
              "#46039f"
             ],
             [
              0.2222222222222222,
              "#7201a8"
             ],
             [
              0.3333333333333333,
              "#9c179e"
             ],
             [
              0.4444444444444444,
              "#bd3786"
             ],
             [
              0.5555555555555556,
              "#d8576b"
             ],
             [
              0.6666666666666666,
              "#ed7953"
             ],
             [
              0.7777777777777778,
              "#fb9f3a"
             ],
             [
              0.8888888888888888,
              "#fdca26"
             ],
             [
              1,
              "#f0f921"
             ]
            ],
            "type": "heatmap"
           }
          ],
          "heatmapgl": [
           {
            "colorbar": {
             "outlinewidth": 0,
             "ticks": ""
            },
            "colorscale": [
             [
              0,
              "#0d0887"
             ],
             [
              0.1111111111111111,
              "#46039f"
             ],
             [
              0.2222222222222222,
              "#7201a8"
             ],
             [
              0.3333333333333333,
              "#9c179e"
             ],
             [
              0.4444444444444444,
              "#bd3786"
             ],
             [
              0.5555555555555556,
              "#d8576b"
             ],
             [
              0.6666666666666666,
              "#ed7953"
             ],
             [
              0.7777777777777778,
              "#fb9f3a"
             ],
             [
              0.8888888888888888,
              "#fdca26"
             ],
             [
              1,
              "#f0f921"
             ]
            ],
            "type": "heatmapgl"
           }
          ],
          "histogram": [
           {
            "marker": {
             "colorbar": {
              "outlinewidth": 0,
              "ticks": ""
             }
            },
            "type": "histogram"
           }
          ],
          "histogram2d": [
           {
            "colorbar": {
             "outlinewidth": 0,
             "ticks": ""
            },
            "colorscale": [
             [
              0,
              "#0d0887"
             ],
             [
              0.1111111111111111,
              "#46039f"
             ],
             [
              0.2222222222222222,
              "#7201a8"
             ],
             [
              0.3333333333333333,
              "#9c179e"
             ],
             [
              0.4444444444444444,
              "#bd3786"
             ],
             [
              0.5555555555555556,
              "#d8576b"
             ],
             [
              0.6666666666666666,
              "#ed7953"
             ],
             [
              0.7777777777777778,
              "#fb9f3a"
             ],
             [
              0.8888888888888888,
              "#fdca26"
             ],
             [
              1,
              "#f0f921"
             ]
            ],
            "type": "histogram2d"
           }
          ],
          "histogram2dcontour": [
           {
            "colorbar": {
             "outlinewidth": 0,
             "ticks": ""
            },
            "colorscale": [
             [
              0,
              "#0d0887"
             ],
             [
              0.1111111111111111,
              "#46039f"
             ],
             [
              0.2222222222222222,
              "#7201a8"
             ],
             [
              0.3333333333333333,
              "#9c179e"
             ],
             [
              0.4444444444444444,
              "#bd3786"
             ],
             [
              0.5555555555555556,
              "#d8576b"
             ],
             [
              0.6666666666666666,
              "#ed7953"
             ],
             [
              0.7777777777777778,
              "#fb9f3a"
             ],
             [
              0.8888888888888888,
              "#fdca26"
             ],
             [
              1,
              "#f0f921"
             ]
            ],
            "type": "histogram2dcontour"
           }
          ],
          "mesh3d": [
           {
            "colorbar": {
             "outlinewidth": 0,
             "ticks": ""
            },
            "type": "mesh3d"
           }
          ],
          "parcoords": [
           {
            "line": {
             "colorbar": {
              "outlinewidth": 0,
              "ticks": ""
             }
            },
            "type": "parcoords"
           }
          ],
          "pie": [
           {
            "automargin": true,
            "type": "pie"
           }
          ],
          "scatter": [
           {
            "marker": {
             "colorbar": {
              "outlinewidth": 0,
              "ticks": ""
             }
            },
            "type": "scatter"
           }
          ],
          "scatter3d": [
           {
            "line": {
             "colorbar": {
              "outlinewidth": 0,
              "ticks": ""
             }
            },
            "marker": {
             "colorbar": {
              "outlinewidth": 0,
              "ticks": ""
             }
            },
            "type": "scatter3d"
           }
          ],
          "scattercarpet": [
           {
            "marker": {
             "colorbar": {
              "outlinewidth": 0,
              "ticks": ""
             }
            },
            "type": "scattercarpet"
           }
          ],
          "scattergeo": [
           {
            "marker": {
             "colorbar": {
              "outlinewidth": 0,
              "ticks": ""
             }
            },
            "type": "scattergeo"
           }
          ],
          "scattergl": [
           {
            "marker": {
             "colorbar": {
              "outlinewidth": 0,
              "ticks": ""
             }
            },
            "type": "scattergl"
           }
          ],
          "scattermapbox": [
           {
            "marker": {
             "colorbar": {
              "outlinewidth": 0,
              "ticks": ""
             }
            },
            "type": "scattermapbox"
           }
          ],
          "scatterpolar": [
           {
            "marker": {
             "colorbar": {
              "outlinewidth": 0,
              "ticks": ""
             }
            },
            "type": "scatterpolar"
           }
          ],
          "scatterpolargl": [
           {
            "marker": {
             "colorbar": {
              "outlinewidth": 0,
              "ticks": ""
             }
            },
            "type": "scatterpolargl"
           }
          ],
          "scatterternary": [
           {
            "marker": {
             "colorbar": {
              "outlinewidth": 0,
              "ticks": ""
             }
            },
            "type": "scatterternary"
           }
          ],
          "surface": [
           {
            "colorbar": {
             "outlinewidth": 0,
             "ticks": ""
            },
            "colorscale": [
             [
              0,
              "#0d0887"
             ],
             [
              0.1111111111111111,
              "#46039f"
             ],
             [
              0.2222222222222222,
              "#7201a8"
             ],
             [
              0.3333333333333333,
              "#9c179e"
             ],
             [
              0.4444444444444444,
              "#bd3786"
             ],
             [
              0.5555555555555556,
              "#d8576b"
             ],
             [
              0.6666666666666666,
              "#ed7953"
             ],
             [
              0.7777777777777778,
              "#fb9f3a"
             ],
             [
              0.8888888888888888,
              "#fdca26"
             ],
             [
              1,
              "#f0f921"
             ]
            ],
            "type": "surface"
           }
          ],
          "table": [
           {
            "cells": {
             "fill": {
              "color": "#EBF0F8"
             },
             "line": {
              "color": "white"
             }
            },
            "header": {
             "fill": {
              "color": "#C8D4E3"
             },
             "line": {
              "color": "white"
             }
            },
            "type": "table"
           }
          ]
         },
         "layout": {
          "annotationdefaults": {
           "arrowcolor": "#2a3f5f",
           "arrowhead": 0,
           "arrowwidth": 1
          },
          "coloraxis": {
           "colorbar": {
            "outlinewidth": 0,
            "ticks": ""
           }
          },
          "colorscale": {
           "diverging": [
            [
             0,
             "#8e0152"
            ],
            [
             0.1,
             "#c51b7d"
            ],
            [
             0.2,
             "#de77ae"
            ],
            [
             0.3,
             "#f1b6da"
            ],
            [
             0.4,
             "#fde0ef"
            ],
            [
             0.5,
             "#f7f7f7"
            ],
            [
             0.6,
             "#e6f5d0"
            ],
            [
             0.7,
             "#b8e186"
            ],
            [
             0.8,
             "#7fbc41"
            ],
            [
             0.9,
             "#4d9221"
            ],
            [
             1,
             "#276419"
            ]
           ],
           "sequential": [
            [
             0,
             "#0d0887"
            ],
            [
             0.1111111111111111,
             "#46039f"
            ],
            [
             0.2222222222222222,
             "#7201a8"
            ],
            [
             0.3333333333333333,
             "#9c179e"
            ],
            [
             0.4444444444444444,
             "#bd3786"
            ],
            [
             0.5555555555555556,
             "#d8576b"
            ],
            [
             0.6666666666666666,
             "#ed7953"
            ],
            [
             0.7777777777777778,
             "#fb9f3a"
            ],
            [
             0.8888888888888888,
             "#fdca26"
            ],
            [
             1,
             "#f0f921"
            ]
           ],
           "sequentialminus": [
            [
             0,
             "#0d0887"
            ],
            [
             0.1111111111111111,
             "#46039f"
            ],
            [
             0.2222222222222222,
             "#7201a8"
            ],
            [
             0.3333333333333333,
             "#9c179e"
            ],
            [
             0.4444444444444444,
             "#bd3786"
            ],
            [
             0.5555555555555556,
             "#d8576b"
            ],
            [
             0.6666666666666666,
             "#ed7953"
            ],
            [
             0.7777777777777778,
             "#fb9f3a"
            ],
            [
             0.8888888888888888,
             "#fdca26"
            ],
            [
             1,
             "#f0f921"
            ]
           ]
          },
          "colorway": [
           "#636efa",
           "#EF553B",
           "#00cc96",
           "#ab63fa",
           "#FFA15A",
           "#19d3f3",
           "#FF6692",
           "#B6E880",
           "#FF97FF",
           "#FECB52"
          ],
          "font": {
           "color": "#2a3f5f"
          },
          "geo": {
           "bgcolor": "white",
           "lakecolor": "white",
           "landcolor": "#E5ECF6",
           "showlakes": true,
           "showland": true,
           "subunitcolor": "white"
          },
          "hoverlabel": {
           "align": "left"
          },
          "hovermode": "closest",
          "mapbox": {
           "style": "light"
          },
          "paper_bgcolor": "white",
          "plot_bgcolor": "#E5ECF6",
          "polar": {
           "angularaxis": {
            "gridcolor": "white",
            "linecolor": "white",
            "ticks": ""
           },
           "bgcolor": "#E5ECF6",
           "radialaxis": {
            "gridcolor": "white",
            "linecolor": "white",
            "ticks": ""
           }
          },
          "scene": {
           "xaxis": {
            "backgroundcolor": "#E5ECF6",
            "gridcolor": "white",
            "gridwidth": 2,
            "linecolor": "white",
            "showbackground": true,
            "ticks": "",
            "zerolinecolor": "white"
           },
           "yaxis": {
            "backgroundcolor": "#E5ECF6",
            "gridcolor": "white",
            "gridwidth": 2,
            "linecolor": "white",
            "showbackground": true,
            "ticks": "",
            "zerolinecolor": "white"
           },
           "zaxis": {
            "backgroundcolor": "#E5ECF6",
            "gridcolor": "white",
            "gridwidth": 2,
            "linecolor": "white",
            "showbackground": true,
            "ticks": "",
            "zerolinecolor": "white"
           }
          },
          "shapedefaults": {
           "line": {
            "color": "#2a3f5f"
           }
          },
          "ternary": {
           "aaxis": {
            "gridcolor": "white",
            "linecolor": "white",
            "ticks": ""
           },
           "baxis": {
            "gridcolor": "white",
            "linecolor": "white",
            "ticks": ""
           },
           "bgcolor": "#E5ECF6",
           "caxis": {
            "gridcolor": "white",
            "linecolor": "white",
            "ticks": ""
           }
          },
          "title": {
           "x": 0.05
          },
          "xaxis": {
           "automargin": true,
           "gridcolor": "white",
           "linecolor": "white",
           "ticks": "",
           "title": {
            "standoff": 15
           },
           "zerolinecolor": "white",
           "zerolinewidth": 2
          },
          "yaxis": {
           "automargin": true,
           "gridcolor": "white",
           "linecolor": "white",
           "ticks": "",
           "title": {
            "standoff": 15
           },
           "zerolinecolor": "white",
           "zerolinewidth": 2
          }
         }
        },
        "width": 700
       },
       "_model_module_version": "^4.8.0",
       "_py2js_animate": {},
       "_py2js_deleteTraces": {},
       "_py2js_moveTraces": {},
       "_py2js_removeLayoutProps": {},
       "_py2js_removeTraceProps": {},
       "_py2js_restyle": {},
       "_view_count": 0,
       "_view_module_version": "^4.8.0"
      }
     },
     "426339d7685d45fea180911c57b48126": {
      "buffers": [
       {
        "data": "AAAAAAAA8D8AAAAAAAAAQAAAAAAAAAhAAAAAAAAAEEAAAAAAAAAIQAAAAAAAAABAAAAAAAAA8D8=",
        "encoding": "base64",
        "path": [
         "_data",
         0,
         "y",
         "value"
        ]
       },
       {
        "data": "AAAAAAAA8D8AAAAAAAAAQAAAAAAAAAhAAAAAAAAAEEAAAAAAAAAIQAAAAAAAAABA",
        "encoding": "base64",
        "path": [
         "_data",
         1,
         "y",
         "value"
        ]
       },
       {
        "data": "",
        "encoding": "base64",
        "path": [
         "_data",
         2,
         "y",
         "value"
        ]
       },
       {
        "data": "AAAAAAAAAEAAAAAAAAAQQAAAAAAAAAhAAAAAAAAA8D8=",
        "encoding": "base64",
        "path": [
         "_data",
         3,
         "y",
         "value"
        ]
       },
       {
        "data": "AAAAAAAACEAAAAAAAAAAQA==",
        "encoding": "base64",
        "path": [
         "_data",
         4,
         "y",
         "value"
        ]
       },
       {
        "data": "",
        "encoding": "base64",
        "path": [
         "_data",
         5,
         "y",
         "value"
        ]
       }
      ],
      "model_module": "plotlywidget",
      "model_module_version": "^4.8.0",
      "model_name": "FigureModel",
      "state": {
       "_config": {
        "plotlyServerURL": "https://plot.ly"
       },
       "_data": [
        {
         "mode": "lines",
         "name": "None",
         "showlegend": false,
         "type": "scatter",
         "uid": "a469a6f6-a4e9-4d8b-8ff9-aac6058b430e",
         "x": [
          0,
          1,
          2,
          3,
          4,
          5,
          6
         ],
         "y": {
          "dtype": "float64",
          "shape": [
           7
          ]
         }
        },
        {
         "customdata": [
          [
           "1.0",
           "0.0",
           "Long",
           "0"
          ],
          [
           "1.0",
           "0.0",
           "Short",
           "1"
          ],
          [
           "1.0",
           "0.0",
           "Long",
           "2"
          ],
          [
           "1.0",
           "0.0",
           "Short",
           "3"
          ],
          [
           "1.0",
           "0.0",
           "Long",
           "4"
          ],
          [
           "1.0",
           "0.0",
           "Short",
           "5"
          ]
         ],
         "hovertemplate": "%{x}<br>Price: %{y}<br>Size: %{customdata[0]:.4f}<br>Fees: %{customdata[1]:.4f}<br>Direction: %{customdata[2]}<br>Position: %{customdata[3]}",
         "marker": {
          "color": "#4285F4",
          "line": {
           "color": "rgb(11,84,205)",
           "width": 1
          },
          "size": 7,
          "symbol": "circle"
         },
         "mode": "markers",
         "name": "Entry",
         "type": "scatter",
         "uid": "f71680f2-7856-4717-b127-f4258b2b150d",
         "x": [
          0,
          1,
          2,
          3,
          4,
          5
         ],
         "y": {
          "dtype": "float64",
          "shape": [
           6
          ]
         }
        },
        {
         "customdata": [],
         "hovertemplate": "%{x}<br>Price: %{y}<br>Size: %{customdata[0]:.4f}<br>Fees: %{customdata[1]:.4f}<br>PnL: %{customdata[2]:.4f}<br>Return: %{customdata[3]:.2%}<br>Direction: %{customdata[4]}<br>Position: %{customdata[5]}<br>Duration: %{customdata[6]}",
         "marker": {
          "color": "#E2E2E2",
          "line": {
           "color": "rgb(158,158,158)",
           "width": 1
          },
          "size": 7,
          "symbol": "circle"
         },
         "mode": "markers",
         "name": "Exit",
         "type": "scatter",
         "uid": "0e3f375d-0c83-40a9-9907-cace5972d30f",
         "x": [],
         "y": {
          "dtype": "float64",
          "shape": [
           0
          ]
         }
        },
        {
         "customdata": [
          [
           "1.0",
           "0.0",
           "1.0",
           "1.0",
           "Long",
           "0",
           "1"
          ],
          [
           "1.0",
           "0.0",
           "1.0",
           "0.3333333333333333",
           "Long",
           "2",
           "1"
          ],
          [
           "1.0",
           "0.0",
           "1.0",
           "0.25",
           "Short",
           "3",
           "1"
          ],
          [
           "1.0",
           "0.0",
           "1.0",
           "0.5",
           "Short",
           "5",
           "1"
          ]
         ],
         "hovertemplate": "%{x}<br>Price: %{y}<br>Size: %{customdata[0]:.4f}<br>Fees: %{customdata[1]:.4f}<br>PnL: %{customdata[2]:.4f}<br>Return: %{customdata[3]:.2%}<br>Direction: %{customdata[4]}<br>Position: %{customdata[5]}<br>Duration: %{customdata[6]}",
         "marker": {
          "color": "#37B13F",
          "line": {
           "color": "rgb(38,123,44)",
           "width": 1
          },
          "size": 7,
          "symbol": "circle"
         },
         "mode": "markers",
         "name": "Exit - Profit",
         "type": "scatter",
         "uid": "47db1134-0589-4ad3-8f04-490ed31eba46",
         "x": [
          1,
          3,
          4,
          6
         ],
         "y": {
          "dtype": "float64",
          "shape": [
           4
          ]
         }
        },
        {
         "customdata": [
          [
           "1.0",
           "0.0",
           "-1.0",
           "-0.5",
           "Short",
           "1",
           "1"
          ],
          [
           "1.0",
           "0.0",
           "-1.0",
           "-0.3333333333333333",
           "Long",
           "4",
           "1"
          ]
         ],
         "hovertemplate": "%{x}<br>Price: %{y}<br>Size: %{customdata[0]:.4f}<br>Fees: %{customdata[1]:.4f}<br>PnL: %{customdata[2]:.4f}<br>Return: %{customdata[3]:.2%}<br>Direction: %{customdata[4]}<br>Position: %{customdata[5]}<br>Duration: %{customdata[6]}",
         "marker": {
          "color": "#EA4335",
          "line": {
           "color": "rgb(181,31,18)",
           "width": 1
          },
          "size": 7,
          "symbol": "circle"
         },
         "mode": "markers",
         "name": "Exit - Loss",
         "type": "scatter",
         "uid": "fb72992a-b6f1-48a6-97a9-7ed4c1987c9a",
         "x": [
          2,
          5
         ],
         "y": {
          "dtype": "float64",
          "shape": [
           2
          ]
         }
        },
        {
         "customdata": [],
         "hovertemplate": "%{x}<br>Price: %{y}<br>Size: %{customdata[0]:.4f}<br>Fees: %{customdata[1]:.4f}<br>PnL: %{customdata[2]:.4f}<br>Return: %{customdata[3]:.2%}<br>Direction: %{customdata[4]}<br>Position: %{customdata[5]}<br>Duration: %{customdata[6]}",
         "marker": {
          "color": "#FFAA00",
          "line": {
           "color": "rgb(178,118,0)",
           "width": 1
          },
          "size": 7,
          "symbol": "circle"
         },
         "mode": "markers",
         "name": "Active",
         "type": "scatter",
         "uid": "16fe65ee-6c60-4b74-bc01-dba8535f9026",
         "x": [],
         "y": {
          "dtype": "float64",
          "shape": [
           0
          ]
         }
        }
       ],
       "_js2py_relayout": {},
       "_js2py_restyle": {},
       "_js2py_update": {},
       "_last_layout_edit_id": 13,
       "_last_trace_edit_id": 7,
       "_layout": {
        "autosize": false,
        "colorway": [
         "#1f77b4",
         "#ff7f0e",
         "#2ca02c",
         "#dc3912",
         "#9467bd",
         "#8c564b",
         "#e377c2",
         "#7f7f7f",
         "#bcbd22",
         "#17becf"
        ],
        "height": 300,
        "hovermode": "closest",
        "margin": {
         "b": 30,
         "t": 30
        },
        "shapes": [
         {
          "fillcolor": "green",
          "layer": "below",
          "line": {
           "width": 0
          },
          "opacity": 0.15,
          "type": "rect",
          "x0": 0,
          "x1": 1,
          "xref": "x",
          "y0": 1,
          "y1": 2,
          "yref": "y"
         },
         {
          "fillcolor": "green",
          "layer": "below",
          "line": {
           "width": 0
          },
          "opacity": 0.15,
          "type": "rect",
          "x0": 2,
          "x1": 3,
          "xref": "x",
          "y0": 3,
          "y1": 4,
          "yref": "y"
         },
         {
          "fillcolor": "green",
          "layer": "below",
          "line": {
           "width": 0
          },
          "opacity": 0.15,
          "type": "rect",
          "x0": 3,
          "x1": 4,
          "xref": "x",
          "y0": 4,
          "y1": 3,
          "yref": "y"
         },
         {
          "fillcolor": "green",
          "layer": "below",
          "line": {
           "width": 0
          },
          "opacity": 0.15,
          "type": "rect",
          "x0": 5,
          "x1": 6,
          "xref": "x",
          "y0": 2,
          "y1": 1,
          "yref": "y"
         },
         {
          "fillcolor": "red",
          "layer": "below",
          "line": {
           "width": 0
          },
          "opacity": 0.15,
          "type": "rect",
          "x0": 1,
          "x1": 2,
          "xref": "x",
          "y0": 2,
          "y1": 3,
          "yref": "y"
         },
         {
          "fillcolor": "red",
          "layer": "below",
          "line": {
           "width": 0
          },
          "opacity": 0.15,
          "type": "rect",
          "x0": 4,
          "x1": 5,
          "xref": "x",
          "y0": 3,
          "y1": 2,
          "yref": "y"
         }
        ],
        "template": {
         "data": {
          "bar": [
           {
            "error_x": {
             "color": "#2a3f5f"
            },
            "error_y": {
             "color": "#2a3f5f"
            },
            "marker": {
             "line": {
              "color": "#E5ECF6",
              "width": 0.5
             }
            },
            "type": "bar"
           }
          ],
          "barpolar": [
           {
            "marker": {
             "line": {
              "color": "#E5ECF6",
              "width": 0.5
             }
            },
            "type": "barpolar"
           }
          ],
          "carpet": [
           {
            "aaxis": {
             "endlinecolor": "#2a3f5f",
             "gridcolor": "white",
             "linecolor": "white",
             "minorgridcolor": "white",
             "startlinecolor": "#2a3f5f"
            },
            "baxis": {
             "endlinecolor": "#2a3f5f",
             "gridcolor": "white",
             "linecolor": "white",
             "minorgridcolor": "white",
             "startlinecolor": "#2a3f5f"
            },
            "type": "carpet"
           }
          ],
          "choropleth": [
           {
            "colorbar": {
             "outlinewidth": 0,
             "ticks": ""
            },
            "type": "choropleth"
           }
          ],
          "contour": [
           {
            "colorbar": {
             "outlinewidth": 0,
             "ticks": ""
            },
            "colorscale": [
             [
              0,
              "#0d0887"
             ],
             [
              0.1111111111111111,
              "#46039f"
             ],
             [
              0.2222222222222222,
              "#7201a8"
             ],
             [
              0.3333333333333333,
              "#9c179e"
             ],
             [
              0.4444444444444444,
              "#bd3786"
             ],
             [
              0.5555555555555556,
              "#d8576b"
             ],
             [
              0.6666666666666666,
              "#ed7953"
             ],
             [
              0.7777777777777778,
              "#fb9f3a"
             ],
             [
              0.8888888888888888,
              "#fdca26"
             ],
             [
              1,
              "#f0f921"
             ]
            ],
            "type": "contour"
           }
          ],
          "contourcarpet": [
           {
            "colorbar": {
             "outlinewidth": 0,
             "ticks": ""
            },
            "type": "contourcarpet"
           }
          ],
          "heatmap": [
           {
            "colorbar": {
             "outlinewidth": 0,
             "ticks": ""
            },
            "colorscale": [
             [
              0,
              "#0d0887"
             ],
             [
              0.1111111111111111,
              "#46039f"
             ],
             [
              0.2222222222222222,
              "#7201a8"
             ],
             [
              0.3333333333333333,
              "#9c179e"
             ],
             [
              0.4444444444444444,
              "#bd3786"
             ],
             [
              0.5555555555555556,
              "#d8576b"
             ],
             [
              0.6666666666666666,
              "#ed7953"
             ],
             [
              0.7777777777777778,
              "#fb9f3a"
             ],
             [
              0.8888888888888888,
              "#fdca26"
             ],
             [
              1,
              "#f0f921"
             ]
            ],
            "type": "heatmap"
           }
          ],
          "heatmapgl": [
           {
            "colorbar": {
             "outlinewidth": 0,
             "ticks": ""
            },
            "colorscale": [
             [
              0,
              "#0d0887"
             ],
             [
              0.1111111111111111,
              "#46039f"
             ],
             [
              0.2222222222222222,
              "#7201a8"
             ],
             [
              0.3333333333333333,
              "#9c179e"
             ],
             [
              0.4444444444444444,
              "#bd3786"
             ],
             [
              0.5555555555555556,
              "#d8576b"
             ],
             [
              0.6666666666666666,
              "#ed7953"
             ],
             [
              0.7777777777777778,
              "#fb9f3a"
             ],
             [
              0.8888888888888888,
              "#fdca26"
             ],
             [
              1,
              "#f0f921"
             ]
            ],
            "type": "heatmapgl"
           }
          ],
          "histogram": [
           {
            "marker": {
             "colorbar": {
              "outlinewidth": 0,
              "ticks": ""
             }
            },
            "type": "histogram"
           }
          ],
          "histogram2d": [
           {
            "colorbar": {
             "outlinewidth": 0,
             "ticks": ""
            },
            "colorscale": [
             [
              0,
              "#0d0887"
             ],
             [
              0.1111111111111111,
              "#46039f"
             ],
             [
              0.2222222222222222,
              "#7201a8"
             ],
             [
              0.3333333333333333,
              "#9c179e"
             ],
             [
              0.4444444444444444,
              "#bd3786"
             ],
             [
              0.5555555555555556,
              "#d8576b"
             ],
             [
              0.6666666666666666,
              "#ed7953"
             ],
             [
              0.7777777777777778,
              "#fb9f3a"
             ],
             [
              0.8888888888888888,
              "#fdca26"
             ],
             [
              1,
              "#f0f921"
             ]
            ],
            "type": "histogram2d"
           }
          ],
          "histogram2dcontour": [
           {
            "colorbar": {
             "outlinewidth": 0,
             "ticks": ""
            },
            "colorscale": [
             [
              0,
              "#0d0887"
             ],
             [
              0.1111111111111111,
              "#46039f"
             ],
             [
              0.2222222222222222,
              "#7201a8"
             ],
             [
              0.3333333333333333,
              "#9c179e"
             ],
             [
              0.4444444444444444,
              "#bd3786"
             ],
             [
              0.5555555555555556,
              "#d8576b"
             ],
             [
              0.6666666666666666,
              "#ed7953"
             ],
             [
              0.7777777777777778,
              "#fb9f3a"
             ],
             [
              0.8888888888888888,
              "#fdca26"
             ],
             [
              1,
              "#f0f921"
             ]
            ],
            "type": "histogram2dcontour"
           }
          ],
          "mesh3d": [
           {
            "colorbar": {
             "outlinewidth": 0,
             "ticks": ""
            },
            "type": "mesh3d"
           }
          ],
          "parcoords": [
           {
            "line": {
             "colorbar": {
              "outlinewidth": 0,
              "ticks": ""
             }
            },
            "type": "parcoords"
           }
          ],
          "pie": [
           {
            "automargin": true,
            "type": "pie"
           }
          ],
          "scatter": [
           {
            "marker": {
             "colorbar": {
              "outlinewidth": 0,
              "ticks": ""
             }
            },
            "type": "scatter"
           }
          ],
          "scatter3d": [
           {
            "line": {
             "colorbar": {
              "outlinewidth": 0,
              "ticks": ""
             }
            },
            "marker": {
             "colorbar": {
              "outlinewidth": 0,
              "ticks": ""
             }
            },
            "type": "scatter3d"
           }
          ],
          "scattercarpet": [
           {
            "marker": {
             "colorbar": {
              "outlinewidth": 0,
              "ticks": ""
             }
            },
            "type": "scattercarpet"
           }
          ],
          "scattergeo": [
           {
            "marker": {
             "colorbar": {
              "outlinewidth": 0,
              "ticks": ""
             }
            },
            "type": "scattergeo"
           }
          ],
          "scattergl": [
           {
            "marker": {
             "colorbar": {
              "outlinewidth": 0,
              "ticks": ""
             }
            },
            "type": "scattergl"
           }
          ],
          "scattermapbox": [
           {
            "marker": {
             "colorbar": {
              "outlinewidth": 0,
              "ticks": ""
             }
            },
            "type": "scattermapbox"
           }
          ],
          "scatterpolar": [
           {
            "marker": {
             "colorbar": {
              "outlinewidth": 0,
              "ticks": ""
             }
            },
            "type": "scatterpolar"
           }
          ],
          "scatterpolargl": [
           {
            "marker": {
             "colorbar": {
              "outlinewidth": 0,
              "ticks": ""
             }
            },
            "type": "scatterpolargl"
           }
          ],
          "scatterternary": [
           {
            "marker": {
             "colorbar": {
              "outlinewidth": 0,
              "ticks": ""
             }
            },
            "type": "scatterternary"
           }
          ],
          "surface": [
           {
            "colorbar": {
             "outlinewidth": 0,
             "ticks": ""
            },
            "colorscale": [
             [
              0,
              "#0d0887"
             ],
             [
              0.1111111111111111,
              "#46039f"
             ],
             [
              0.2222222222222222,
              "#7201a8"
             ],
             [
              0.3333333333333333,
              "#9c179e"
             ],
             [
              0.4444444444444444,
              "#bd3786"
             ],
             [
              0.5555555555555556,
              "#d8576b"
             ],
             [
              0.6666666666666666,
              "#ed7953"
             ],
             [
              0.7777777777777778,
              "#fb9f3a"
             ],
             [
              0.8888888888888888,
              "#fdca26"
             ],
             [
              1,
              "#f0f921"
             ]
            ],
            "type": "surface"
           }
          ],
          "table": [
           {
            "cells": {
             "fill": {
              "color": "#EBF0F8"
             },
             "line": {
              "color": "white"
             }
            },
            "header": {
             "fill": {
              "color": "#C8D4E3"
             },
             "line": {
              "color": "white"
             }
            },
            "type": "table"
           }
          ]
         },
         "layout": {
          "annotationdefaults": {
           "arrowcolor": "#2a3f5f",
           "arrowhead": 0,
           "arrowwidth": 1
          },
          "coloraxis": {
           "colorbar": {
            "outlinewidth": 0,
            "ticks": ""
           }
          },
          "colorscale": {
           "diverging": [
            [
             0,
             "#8e0152"
            ],
            [
             0.1,
             "#c51b7d"
            ],
            [
             0.2,
             "#de77ae"
            ],
            [
             0.3,
             "#f1b6da"
            ],
            [
             0.4,
             "#fde0ef"
            ],
            [
             0.5,
             "#f7f7f7"
            ],
            [
             0.6,
             "#e6f5d0"
            ],
            [
             0.7,
             "#b8e186"
            ],
            [
             0.8,
             "#7fbc41"
            ],
            [
             0.9,
             "#4d9221"
            ],
            [
             1,
             "#276419"
            ]
           ],
           "sequential": [
            [
             0,
             "#0d0887"
            ],
            [
             0.1111111111111111,
             "#46039f"
            ],
            [
             0.2222222222222222,
             "#7201a8"
            ],
            [
             0.3333333333333333,
             "#9c179e"
            ],
            [
             0.4444444444444444,
             "#bd3786"
            ],
            [
             0.5555555555555556,
             "#d8576b"
            ],
            [
             0.6666666666666666,
             "#ed7953"
            ],
            [
             0.7777777777777778,
             "#fb9f3a"
            ],
            [
             0.8888888888888888,
             "#fdca26"
            ],
            [
             1,
             "#f0f921"
            ]
           ],
           "sequentialminus": [
            [
             0,
             "#0d0887"
            ],
            [
             0.1111111111111111,
             "#46039f"
            ],
            [
             0.2222222222222222,
             "#7201a8"
            ],
            [
             0.3333333333333333,
             "#9c179e"
            ],
            [
             0.4444444444444444,
             "#bd3786"
            ],
            [
             0.5555555555555556,
             "#d8576b"
            ],
            [
             0.6666666666666666,
             "#ed7953"
            ],
            [
             0.7777777777777778,
             "#fb9f3a"
            ],
            [
             0.8888888888888888,
             "#fdca26"
            ],
            [
             1,
             "#f0f921"
            ]
           ]
          },
          "colorway": [
           "#636efa",
           "#EF553B",
           "#00cc96",
           "#ab63fa",
           "#FFA15A",
           "#19d3f3",
           "#FF6692",
           "#B6E880",
           "#FF97FF",
           "#FECB52"
          ],
          "font": {
           "color": "#2a3f5f"
          },
          "geo": {
           "bgcolor": "white",
           "lakecolor": "white",
           "landcolor": "#E5ECF6",
           "showlakes": true,
           "showland": true,
           "subunitcolor": "white"
          },
          "hoverlabel": {
           "align": "left"
          },
          "hovermode": "closest",
          "mapbox": {
           "style": "light"
          },
          "paper_bgcolor": "white",
          "plot_bgcolor": "#E5ECF6",
          "polar": {
           "angularaxis": {
            "gridcolor": "white",
            "linecolor": "white",
            "ticks": ""
           },
           "bgcolor": "#E5ECF6",
           "radialaxis": {
            "gridcolor": "white",
            "linecolor": "white",
            "ticks": ""
           }
          },
          "scene": {
           "xaxis": {
            "backgroundcolor": "#E5ECF6",
            "gridcolor": "white",
            "gridwidth": 2,
            "linecolor": "white",
            "showbackground": true,
            "ticks": "",
            "zerolinecolor": "white"
           },
           "yaxis": {
            "backgroundcolor": "#E5ECF6",
            "gridcolor": "white",
            "gridwidth": 2,
            "linecolor": "white",
            "showbackground": true,
            "ticks": "",
            "zerolinecolor": "white"
           },
           "zaxis": {
            "backgroundcolor": "#E5ECF6",
            "gridcolor": "white",
            "gridwidth": 2,
            "linecolor": "white",
            "showbackground": true,
            "ticks": "",
            "zerolinecolor": "white"
           }
          },
          "shapedefaults": {
           "line": {
            "color": "#2a3f5f"
           }
          },
          "ternary": {
           "aaxis": {
            "gridcolor": "white",
            "linecolor": "white",
            "ticks": ""
           },
           "baxis": {
            "gridcolor": "white",
            "linecolor": "white",
            "ticks": ""
           },
           "bgcolor": "#E5ECF6",
           "caxis": {
            "gridcolor": "white",
            "linecolor": "white",
            "ticks": ""
           }
          },
          "title": {
           "x": 0.05
          },
          "xaxis": {
           "automargin": true,
           "gridcolor": "white",
           "linecolor": "white",
           "ticks": "",
           "title": {
            "standoff": 15
           },
           "zerolinecolor": "white",
           "zerolinewidth": 2
          },
          "yaxis": {
           "automargin": true,
           "gridcolor": "white",
           "linecolor": "white",
           "ticks": "",
           "title": {
            "standoff": 15
           },
           "zerolinecolor": "white",
           "zerolinewidth": 2
          }
         }
        },
        "width": 700
       },
       "_model_module_version": "^4.8.0",
       "_py2js_animate": {},
       "_py2js_deleteTraces": {},
       "_py2js_moveTraces": {},
       "_py2js_removeLayoutProps": {},
       "_py2js_removeTraceProps": {},
       "_py2js_restyle": {},
       "_view_count": 0,
       "_view_module_version": "^4.8.0"
      }
     },
     "a225efb0f5ba4a3cb6a7f9808c8ac378": {
      "buffers": [
       {
        "data": "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",
        "encoding": "base64",
        "path": [
         "_data",
         0,
         "y",
         "value"
        ]
       },
       {
        "data": "CtejcD1qbUA9CtejcGFxQHsUrkfhAnxArkfhehQOgkA8CtejcNGMQJqZmZnZic1AZWZmZuZMvUApXI/Ctce5QNajcD0KWb5AKFyPwnXBvEDD9ShcD3K5QArXo3A9aqlAXI/C9Sh0rkDD9ShcD+KvQD0K16Nw8KxAZmZmZiaytEDhehSux865QOF6FK5HC7xAAAAAAIAWwkA=",
        "encoding": "base64",
        "path": [
         "_data",
         1,
         "y",
         "value"
        ]
       },
       {
        "data": "",
        "encoding": "base64",
        "path": [
         "_data",
         2,
         "y",
         "value"
        ]
       },
       {
        "data": "PQrXo3BhcUCuR+F6FA6CQJqZmZnZic1AZmZmZuZMvUDD9ShcD3K5QMP1KFwP4q9APQrXo3DwrEBmZmZmJrK0QOF6FK5HC7xA16NwPeqtxUA=",
        "encoding": "base64",
        "path": [
         "_data",
         3,
         "y",
         "value"
        ]
       },
       {
        "data": "exSuR+ECfEA9CtejcNGMQClcj8K1x7lA16NwPQpZvkApXI/CdcG8QArXo3A9aqlAXI/C9Sh0rkDhehSux865QAAAAACAFsJA",
        "encoding": "base64",
        "path": [
         "_data",
         4,
         "y",
         "value"
        ]
       },
       {
        "data": "",
        "encoding": "base64",
        "path": [
         "_data",
         5,
         "y",
         "value"
        ]
       }
      ],
      "model_module": "plotlywidget",
      "model_module_version": "^4.8.0",
      "model_name": "FigureModel",
      "state": {
       "_config": {
        "plotlyServerURL": "https://plot.ly"
       },
       "_data": [
        {
         "mode": "lines",
         "name": "('Close', 'Open')",
         "showlegend": true,
         "type": "scatter",
         "uid": "223d62f0-627a-4167-9b2c-9608b80a30cc",
         "x": [
          "2014-09-17T00:00:00.000000",
          "2014-09-18T00:00:00.000000",
          "2014-09-19T00:00:00.000000",
          "2014-09-20T00:00:00.000000",
          "2014-09-21T00:00:00.000000",
          "2014-09-22T00:00:00.000000",
          "2014-09-23T00:00:00.000000",
          "2014-09-24T00:00:00.000000",
          "2014-09-25T00:00:00.000000",
          "2014-09-26T00:00:00.000000",
          "2014-09-27T00:00:00.000000",
          "2014-09-28T00:00:00.000000",
          "2014-09-29T00:00:00.000000",
          "2014-09-30T00:00:00.000000",
          "2014-10-01T00:00:00.000000",
          "2014-10-02T00:00:00.000000",
          "2014-10-03T00:00:00.000000",
          "2014-10-04T00:00:00.000000",
          "2014-10-05T00:00:00.000000",
          "2014-10-06T00:00:00.000000",
          "2014-10-07T00:00:00.000000",
          "2014-10-08T00:00:00.000000",
          "2014-10-09T00:00:00.000000",
          "2014-10-10T00:00:00.000000",
          "2014-10-11T00:00:00.000000",
          "2014-10-12T00:00:00.000000",
          "2014-10-13T00:00:00.000000",
          "2014-10-14T00:00:00.000000",
          "2014-10-15T00:00:00.000000",
          "2014-10-16T00:00:00.000000",
          "2014-10-17T00:00:00.000000",
          "2014-10-18T00:00:00.000000",
          "2014-10-19T00:00:00.000000",
          "2014-10-20T00:00:00.000000",
          "2014-10-21T00:00:00.000000",
          "2014-10-22T00:00:00.000000",
          "2014-10-23T00:00:00.000000",
          "2014-10-24T00:00:00.000000",
          "2014-10-25T00:00:00.000000",
          "2014-10-26T00:00:00.000000",
          "2014-10-27T00:00:00.000000",
          "2014-10-28T00:00:00.000000",
          "2014-10-29T00:00:00.000000",
          "2014-10-30T00:00:00.000000",
          "2014-10-31T00:00:00.000000",
          "2014-11-01T00:00:00.000000",
          "2014-11-02T00:00:00.000000",
          "2014-11-03T00:00:00.000000",
          "2014-11-04T00:00:00.000000",
          "2014-11-05T00:00:00.000000",
          "2014-11-06T00:00:00.000000",
          "2014-11-07T00:00:00.000000",
          "2014-11-08T00:00:00.000000",
          "2014-11-09T00:00:00.000000",
          "2014-11-10T00:00:00.000000",
          "2014-11-11T00:00:00.000000",
          "2014-11-12T00:00:00.000000",
          "2014-11-13T00:00:00.000000",
          "2014-11-14T00:00:00.000000",
          "2014-11-15T00:00:00.000000",
          "2014-11-16T00:00:00.000000",
          "2014-11-17T00:00:00.000000",
          "2014-11-18T00:00:00.000000",
          "2014-11-19T00:00:00.000000",
          "2014-11-20T00:00:00.000000",
          "2014-11-21T00:00:00.000000",
          "2014-11-22T00:00:00.000000",
          "2014-11-23T00:00:00.000000",
          "2014-11-24T00:00:00.000000",
          "2014-11-25T00:00:00.000000",
          "2014-11-26T00:00:00.000000",
          "2014-11-27T00:00:00.000000",
          "2014-11-28T00:00:00.000000",
          "2014-11-29T00:00:00.000000",
          "2014-11-30T00:00:00.000000",
          "2014-12-01T00:00:00.000000",
          "2014-12-02T00:00:00.000000",
          "2014-12-03T00:00:00.000000",
          "2014-12-04T00:00:00.000000",
          "2014-12-05T00:00:00.000000",
          "2014-12-06T00:00:00.000000",
          "2014-12-07T00:00:00.000000",
          "2014-12-08T00:00:00.000000",
          "2014-12-09T00:00:00.000000",
          "2014-12-10T00:00:00.000000",
          "2014-12-11T00:00:00.000000",
          "2014-12-12T00:00:00.000000",
          "2014-12-13T00:00:00.000000",
          "2014-12-14T00:00:00.000000",
          "2014-12-15T00:00:00.000000",
          "2014-12-16T00:00:00.000000",
          "2014-12-17T00:00:00.000000",
          "2014-12-18T00:00:00.000000",
          "2014-12-19T00:00:00.000000",
          "2014-12-20T00:00:00.000000",
          "2014-12-21T00:00:00.000000",
          "2014-12-22T00:00:00.000000",
          "2014-12-23T00:00:00.000000",
          "2014-12-24T00:00:00.000000",
          "2014-12-25T00:00:00.000000",
          "2014-12-26T00:00:00.000000",
          "2014-12-27T00:00:00.000000",
          "2014-12-28T00:00:00.000000",
          "2014-12-29T00:00:00.000000",
          "2014-12-30T00:00:00.000000",
          "2014-12-31T00:00:00.000000",
          "2015-01-01T00:00:00.000000",
          "2015-01-02T00:00:00.000000",
          "2015-01-03T00:00:00.000000",
          "2015-01-04T00:00:00.000000",
          "2015-01-05T00:00:00.000000",
          "2015-01-06T00:00:00.000000",
          "2015-01-07T00:00:00.000000",
          "2015-01-08T00:00:00.000000",
          "2015-01-09T00:00:00.000000",
          "2015-01-10T00:00:00.000000",
          "2015-01-11T00:00:00.000000",
          "2015-01-12T00:00:00.000000",
          "2015-01-13T00:00:00.000000",
          "2015-01-14T00:00:00.000000",
          "2015-01-15T00:00:00.000000",
          "2015-01-16T00:00:00.000000",
          "2015-01-17T00:00:00.000000",
          "2015-01-18T00:00:00.000000",
          "2015-01-19T00:00:00.000000",
          "2015-01-20T00:00:00.000000",
          "2015-01-21T00:00:00.000000",
          "2015-01-22T00:00:00.000000",
          "2015-01-23T00:00:00.000000",
          "2015-01-24T00:00:00.000000",
          "2015-01-25T00:00:00.000000",
          "2015-01-26T00:00:00.000000",
          "2015-01-27T00:00:00.000000",
          "2015-01-28T00:00:00.000000",
          "2015-01-29T00:00:00.000000",
          "2015-01-30T00:00:00.000000",
          "2015-01-31T00:00:00.000000",
          "2015-02-01T00:00:00.000000",
          "2015-02-02T00:00:00.000000",
          "2015-02-03T00:00:00.000000",
          "2015-02-04T00:00:00.000000",
          "2015-02-05T00:00:00.000000",
          "2015-02-06T00:00:00.000000",
          "2015-02-07T00:00:00.000000",
          "2015-02-08T00:00:00.000000",
          "2015-02-09T00:00:00.000000",
          "2015-02-10T00:00:00.000000",
          "2015-02-11T00:00:00.000000",
          "2015-02-12T00:00:00.000000",
          "2015-02-13T00:00:00.000000",
          "2015-02-14T00:00:00.000000",
          "2015-02-15T00:00:00.000000",
          "2015-02-16T00:00:00.000000",
          "2015-02-17T00:00:00.000000",
          "2015-02-18T00:00:00.000000",
          "2015-02-19T00:00:00.000000",
          "2015-02-20T00:00:00.000000",
          "2015-02-21T00:00:00.000000",
          "2015-02-22T00:00:00.000000",
          "2015-02-23T00:00:00.000000",
          "2015-02-24T00:00:00.000000",
          "2015-02-25T00:00:00.000000",
          "2015-02-26T00:00:00.000000",
          "2015-02-27T00:00:00.000000",
          "2015-02-28T00:00:00.000000",
          "2015-03-01T00:00:00.000000",
          "2015-03-02T00:00:00.000000",
          "2015-03-03T00:00:00.000000",
          "2015-03-04T00:00:00.000000",
          "2015-03-05T00:00:00.000000",
          "2015-03-06T00:00:00.000000",
          "2015-03-07T00:00:00.000000",
          "2015-03-08T00:00:00.000000",
          "2015-03-09T00:00:00.000000",
          "2015-03-10T00:00:00.000000",
          "2015-03-11T00:00:00.000000",
          "2015-03-12T00:00:00.000000",
          "2015-03-13T00:00:00.000000",
          "2015-03-14T00:00:00.000000",
          "2015-03-15T00:00:00.000000",
          "2015-03-16T00:00:00.000000",
          "2015-03-17T00:00:00.000000",
          "2015-03-18T00:00:00.000000",
          "2015-03-19T00:00:00.000000",
          "2015-03-20T00:00:00.000000",
          "2015-03-21T00:00:00.000000",
          "2015-03-22T00:00:00.000000",
          "2015-03-23T00:00:00.000000",
          "2015-03-24T00:00:00.000000",
          "2015-03-25T00:00:00.000000",
          "2015-03-26T00:00:00.000000",
          "2015-03-27T00:00:00.000000",
          "2015-03-28T00:00:00.000000",
          "2015-03-29T00:00:00.000000",
          "2015-03-30T00:00:00.000000",
          "2015-03-31T00:00:00.000000",
          "2015-04-01T00:00:00.000000",
          "2015-04-02T00:00:00.000000",
          "2015-04-03T00:00:00.000000",
          "2015-04-04T00:00:00.000000",
          "2015-04-05T00:00:00.000000",
          "2015-04-06T00:00:00.000000",
          "2015-04-07T00:00:00.000000",
          "2015-04-08T00:00:00.000000",
          "2015-04-09T00:00:00.000000",
          "2015-04-10T00:00:00.000000",
          "2015-04-11T00:00:00.000000",
          "2015-04-12T00:00:00.000000",
          "2015-04-13T00:00:00.000000",
          "2015-04-14T00:00:00.000000",
          "2015-04-15T00:00:00.000000",
          "2015-04-16T00:00:00.000000",
          "2015-04-17T00:00:00.000000",
          "2015-04-18T00:00:00.000000",
          "2015-04-19T00:00:00.000000",
          "2015-04-20T00:00:00.000000",
          "2015-04-21T00:00:00.000000",
          "2015-04-22T00:00:00.000000",
          "2015-04-23T00:00:00.000000",
          "2015-04-24T00:00:00.000000",
          "2015-04-25T00:00:00.000000",
          "2015-04-26T00:00:00.000000",
          "2015-04-27T00:00:00.000000",
          "2015-04-28T00:00:00.000000",
          "2015-04-29T00:00:00.000000",
          "2015-04-30T00:00:00.000000",
          "2015-05-01T00:00:00.000000",
          "2015-05-02T00:00:00.000000",
          "2015-05-03T00:00:00.000000",
          "2015-05-04T00:00:00.000000",
          "2015-05-05T00:00:00.000000",
          "2015-05-06T00:00:00.000000",
          "2015-05-07T00:00:00.000000",
          "2015-05-08T00:00:00.000000",
          "2015-05-09T00:00:00.000000",
          "2015-05-10T00:00:00.000000",
          "2015-05-11T00:00:00.000000",
          "2015-05-12T00:00:00.000000",
          "2015-05-13T00:00:00.000000",
          "2015-05-14T00:00:00.000000",
          "2015-05-15T00:00:00.000000",
          "2015-05-16T00:00:00.000000",
          "2015-05-17T00:00:00.000000",
          "2015-05-18T00:00:00.000000",
          "2015-05-19T00:00:00.000000",
          "2015-05-20T00:00:00.000000",
          "2015-05-21T00:00:00.000000",
          "2015-05-22T00:00:00.000000",
          "2015-05-23T00:00:00.000000",
          "2015-05-24T00:00:00.000000",
          "2015-05-25T00:00:00.000000",
          "2015-05-26T00:00:00.000000",
          "2015-05-27T00:00:00.000000",
          "2015-05-28T00:00:00.000000",
          "2015-05-29T00:00:00.000000",
          "2015-05-30T00:00:00.000000",
          "2015-05-31T00:00:00.000000",
          "2015-06-01T00:00:00.000000",
          "2015-06-02T00:00:00.000000",
          "2015-06-03T00:00:00.000000",
          "2015-06-04T00:00:00.000000",
          "2015-06-05T00:00:00.000000",
          "2015-06-06T00:00:00.000000",
          "2015-06-07T00:00:00.000000",
          "2015-06-08T00:00:00.000000",
          "2015-06-09T00:00:00.000000",
          "2015-06-10T00:00:00.000000",
          "2015-06-11T00:00:00.000000",
          "2015-06-12T00:00:00.000000",
          "2015-06-13T00:00:00.000000",
          "2015-06-14T00:00:00.000000",
          "2015-06-15T00:00:00.000000",
          "2015-06-16T00:00:00.000000",
          "2015-06-17T00:00:00.000000",
          "2015-06-18T00:00:00.000000",
          "2015-06-19T00:00:00.000000",
          "2015-06-20T00:00:00.000000",
          "2015-06-21T00:00:00.000000",
          "2015-06-22T00:00:00.000000",
          "2015-06-23T00:00:00.000000",
          "2015-06-24T00:00:00.000000",
          "2015-06-25T00:00:00.000000",
          "2015-06-26T00:00:00.000000",
          "2015-06-27T00:00:00.000000",
          "2015-06-28T00:00:00.000000",
          "2015-06-29T00:00:00.000000",
          "2015-06-30T00:00:00.000000",
          "2015-07-01T00:00:00.000000",
          "2015-07-02T00:00:00.000000",
          "2015-07-03T00:00:00.000000",
          "2015-07-04T00:00:00.000000",
          "2015-07-05T00:00:00.000000",
          "2015-07-06T00:00:00.000000",
          "2015-07-07T00:00:00.000000",
          "2015-07-08T00:00:00.000000",
          "2015-07-09T00:00:00.000000",
          "2015-07-10T00:00:00.000000",
          "2015-07-11T00:00:00.000000",
          "2015-07-12T00:00:00.000000",
          "2015-07-13T00:00:00.000000",
          "2015-07-14T00:00:00.000000",
          "2015-07-15T00:00:00.000000",
          "2015-07-16T00:00:00.000000",
          "2015-07-17T00:00:00.000000",
          "2015-07-18T00:00:00.000000",
          "2015-07-19T00:00:00.000000",
          "2015-07-20T00:00:00.000000",
          "2015-07-21T00:00:00.000000",
          "2015-07-22T00:00:00.000000",
          "2015-07-23T00:00:00.000000",
          "2015-07-24T00:00:00.000000",
          "2015-07-25T00:00:00.000000",
          "2015-07-26T00:00:00.000000",
          "2015-07-27T00:00:00.000000",
          "2015-07-28T00:00:00.000000",
          "2015-07-29T00:00:00.000000",
          "2015-07-30T00:00:00.000000",
          "2015-07-31T00:00:00.000000",
          "2015-08-01T00:00:00.000000",
          "2015-08-02T00:00:00.000000",
          "2015-08-03T00:00:00.000000",
          "2015-08-04T00:00:00.000000",
          "2015-08-05T00:00:00.000000",
          "2015-08-06T00:00:00.000000",
          "2015-08-07T00:00:00.000000",
          "2015-08-08T00:00:00.000000",
          "2015-08-09T00:00:00.000000",
          "2015-08-10T00:00:00.000000",
          "2015-08-11T00:00:00.000000",
          "2015-08-12T00:00:00.000000",
          "2015-08-13T00:00:00.000000",
          "2015-08-14T00:00:00.000000",
          "2015-08-15T00:00:00.000000",
          "2015-08-16T00:00:00.000000",
          "2015-08-17T00:00:00.000000",
          "2015-08-18T00:00:00.000000",
          "2015-08-19T00:00:00.000000",
          "2015-08-20T00:00:00.000000",
          "2015-08-21T00:00:00.000000",
          "2015-08-22T00:00:00.000000",
          "2015-08-23T00:00:00.000000",
          "2015-08-24T00:00:00.000000",
          "2015-08-25T00:00:00.000000",
          "2015-08-26T00:00:00.000000",
          "2015-08-27T00:00:00.000000",
          "2015-08-28T00:00:00.000000",
          "2015-08-29T00:00:00.000000",
          "2015-08-30T00:00:00.000000",
          "2015-08-31T00:00:00.000000",
          "2015-09-01T00:00:00.000000",
          "2015-09-02T00:00:00.000000",
          "2015-09-03T00:00:00.000000",
          "2015-09-04T00:00:00.000000",
          "2015-09-05T00:00:00.000000",
          "2015-09-06T00:00:00.000000",
          "2015-09-07T00:00:00.000000",
          "2015-09-08T00:00:00.000000",
          "2015-09-09T00:00:00.000000",
          "2015-09-10T00:00:00.000000",
          "2015-09-11T00:00:00.000000",
          "2015-09-12T00:00:00.000000",
          "2015-09-13T00:00:00.000000",
          "2015-09-14T00:00:00.000000",
          "2015-09-15T00:00:00.000000",
          "2015-09-16T00:00:00.000000",
          "2015-09-17T00:00:00.000000",
          "2015-09-18T00:00:00.000000",
          "2015-09-19T00:00:00.000000",
          "2015-09-20T00:00:00.000000",
          "2015-09-21T00:00:00.000000",
          "2015-09-22T00:00:00.000000",
          "2015-09-23T00:00:00.000000",
          "2015-09-24T00:00:00.000000",
          "2015-09-25T00:00:00.000000",
          "2015-09-26T00:00:00.000000",
          "2015-09-27T00:00:00.000000",
          "2015-09-28T00:00:00.000000",
          "2015-09-29T00:00:00.000000",
          "2015-09-30T00:00:00.000000",
          "2015-10-01T00:00:00.000000",
          "2015-10-02T00:00:00.000000",
          "2015-10-03T00:00:00.000000",
          "2015-10-04T00:00:00.000000",
          "2015-10-05T00:00:00.000000",
          "2015-10-06T00:00:00.000000",
          "2015-10-07T00:00:00.000000",
          "2015-10-08T00:00:00.000000",
          "2015-10-09T00:00:00.000000",
          "2015-10-10T00:00:00.000000",
          "2015-10-11T00:00:00.000000",
          "2015-10-12T00:00:00.000000",
          "2015-10-13T00:00:00.000000",
          "2015-10-14T00:00:00.000000",
          "2015-10-15T00:00:00.000000",
          "2015-10-16T00:00:00.000000",
          "2015-10-17T00:00:00.000000",
          "2015-10-18T00:00:00.000000",
          "2015-10-19T00:00:00.000000",
          "2015-10-20T00:00:00.000000",
          "2015-10-21T00:00:00.000000",
          "2015-10-22T00:00:00.000000",
          "2015-10-23T00:00:00.000000",
          "2015-10-24T00:00:00.000000",
          "2015-10-25T00:00:00.000000",
          "2015-10-26T00:00:00.000000",
          "2015-10-27T00:00:00.000000",
          "2015-10-28T00:00:00.000000",
          "2015-10-29T00:00:00.000000",
          "2015-10-30T00:00:00.000000",
          "2015-10-31T00:00:00.000000",
          "2015-11-01T00:00:00.000000",
          "2015-11-02T00:00:00.000000",
          "2015-11-03T00:00:00.000000",
          "2015-11-04T00:00:00.000000",
          "2015-11-05T00:00:00.000000",
          "2015-11-06T00:00:00.000000",
          "2015-11-07T00:00:00.000000",
          "2015-11-08T00:00:00.000000",
          "2015-11-09T00:00:00.000000",
          "2015-11-10T00:00:00.000000",
          "2015-11-11T00:00:00.000000",
          "2015-11-12T00:00:00.000000",
          "2015-11-13T00:00:00.000000",
          "2015-11-14T00:00:00.000000",
          "2015-11-15T00:00:00.000000",
          "2015-11-16T00:00:00.000000",
          "2015-11-17T00:00:00.000000",
          "2015-11-18T00:00:00.000000",
          "2015-11-19T00:00:00.000000",
          "2015-11-20T00:00:00.000000",
          "2015-11-21T00:00:00.000000",
          "2015-11-22T00:00:00.000000",
          "2015-11-23T00:00:00.000000",
          "2015-11-24T00:00:00.000000",
          "2015-11-25T00:00:00.000000",
          "2015-11-26T00:00:00.000000",
          "2015-11-27T00:00:00.000000",
          "2015-11-28T00:00:00.000000",
          "2015-11-29T00:00:00.000000",
          "2015-11-30T00:00:00.000000",
          "2015-12-01T00:00:00.000000",
          "2015-12-02T00:00:00.000000",
          "2015-12-03T00:00:00.000000",
          "2015-12-04T00:00:00.000000",
          "2015-12-05T00:00:00.000000",
          "2015-12-06T00:00:00.000000",
          "2015-12-07T00:00:00.000000",
          "2015-12-08T00:00:00.000000",
          "2015-12-09T00:00:00.000000",
          "2015-12-10T00:00:00.000000",
          "2015-12-11T00:00:00.000000",
          "2015-12-12T00:00:00.000000",
          "2015-12-13T00:00:00.000000",
          "2015-12-14T00:00:00.000000",
          "2015-12-15T00:00:00.000000",
          "2015-12-16T00:00:00.000000",
          "2015-12-17T00:00:00.000000",
          "2015-12-18T00:00:00.000000",
          "2015-12-19T00:00:00.000000",
          "2015-12-20T00:00:00.000000",
          "2015-12-21T00:00:00.000000",
          "2015-12-22T00:00:00.000000",
          "2015-12-23T00:00:00.000000",
          "2015-12-24T00:00:00.000000",
          "2015-12-25T00:00:00.000000",
          "2015-12-26T00:00:00.000000",
          "2015-12-27T00:00:00.000000",
          "2015-12-28T00:00:00.000000",
          "2015-12-29T00:00:00.000000",
          "2015-12-30T00:00:00.000000",
          "2015-12-31T00:00:00.000000",
          "2016-01-01T00:00:00.000000",
          "2016-01-02T00:00:00.000000",
          "2016-01-03T00:00:00.000000",
          "2016-01-04T00:00:00.000000",
          "2016-01-05T00:00:00.000000",
          "2016-01-06T00:00:00.000000",
          "2016-01-07T00:00:00.000000",
          "2016-01-08T00:00:00.000000",
          "2016-01-09T00:00:00.000000",
          "2016-01-10T00:00:00.000000",
          "2016-01-11T00:00:00.000000",
          "2016-01-12T00:00:00.000000",
          "2016-01-13T00:00:00.000000",
          "2016-01-14T00:00:00.000000",
          "2016-01-15T00:00:00.000000",
          "2016-01-16T00:00:00.000000",
          "2016-01-17T00:00:00.000000",
          "2016-01-18T00:00:00.000000",
          "2016-01-19T00:00:00.000000",
          "2016-01-20T00:00:00.000000",
          "2016-01-21T00:00:00.000000",
          "2016-01-22T00:00:00.000000",
          "2016-01-23T00:00:00.000000",
          "2016-01-24T00:00:00.000000",
          "2016-01-25T00:00:00.000000",
          "2016-01-26T00:00:00.000000",
          "2016-01-27T00:00:00.000000",
          "2016-01-28T00:00:00.000000",
          "2016-01-29T00:00:00.000000",
          "2016-01-30T00:00:00.000000",
          "2016-01-31T00:00:00.000000",
          "2016-02-01T00:00:00.000000",
          "2016-02-02T00:00:00.000000",
          "2016-02-03T00:00:00.000000",
          "2016-02-04T00:00:00.000000",
          "2016-02-05T00:00:00.000000",
          "2016-02-06T00:00:00.000000",
          "2016-02-07T00:00:00.000000",
          "2016-02-08T00:00:00.000000",
          "2016-02-09T00:00:00.000000",
          "2016-02-10T00:00:00.000000",
          "2016-02-11T00:00:00.000000",
          "2016-02-12T00:00:00.000000",
          "2016-02-13T00:00:00.000000",
          "2016-02-14T00:00:00.000000",
          "2016-02-15T00:00:00.000000",
          "2016-02-16T00:00:00.000000",
          "2016-02-17T00:00:00.000000",
          "2016-02-18T00:00:00.000000",
          "2016-02-19T00:00:00.000000",
          "2016-02-20T00:00:00.000000",
          "2016-02-21T00:00:00.000000",
          "2016-02-22T00:00:00.000000",
          "2016-02-23T00:00:00.000000",
          "2016-02-24T00:00:00.000000",
          "2016-02-25T00:00:00.000000",
          "2016-02-26T00:00:00.000000",
          "2016-02-27T00:00:00.000000",
          "2016-02-28T00:00:00.000000",
          "2016-02-29T00:00:00.000000",
          "2016-03-01T00:00:00.000000",
          "2016-03-02T00:00:00.000000",
          "2016-03-03T00:00:00.000000",
          "2016-03-04T00:00:00.000000",
          "2016-03-05T00:00:00.000000",
          "2016-03-06T00:00:00.000000",
          "2016-03-07T00:00:00.000000",
          "2016-03-08T00:00:00.000000",
          "2016-03-09T00:00:00.000000",
          "2016-03-10T00:00:00.000000",
          "2016-03-11T00:00:00.000000",
          "2016-03-12T00:00:00.000000",
          "2016-03-13T00:00:00.000000",
          "2016-03-14T00:00:00.000000",
          "2016-03-15T00:00:00.000000",
          "2016-03-16T00:00:00.000000",
          "2016-03-17T00:00:00.000000",
          "2016-03-18T00:00:00.000000",
          "2016-03-19T00:00:00.000000",
          "2016-03-20T00:00:00.000000",
          "2016-03-21T00:00:00.000000",
          "2016-03-22T00:00:00.000000",
          "2016-03-23T00:00:00.000000",
          "2016-03-24T00:00:00.000000",
          "2016-03-25T00:00:00.000000",
          "2016-03-26T00:00:00.000000",
          "2016-03-27T00:00:00.000000",
          "2016-03-28T00:00:00.000000",
          "2016-03-29T00:00:00.000000",
          "2016-03-30T00:00:00.000000",
          "2016-03-31T00:00:00.000000",
          "2016-04-01T00:00:00.000000",
          "2016-04-02T00:00:00.000000",
          "2016-04-03T00:00:00.000000",
          "2016-04-04T00:00:00.000000",
          "2016-04-05T00:00:00.000000",
          "2016-04-06T00:00:00.000000",
          "2016-04-07T00:00:00.000000",
          "2016-04-08T00:00:00.000000",
          "2016-04-09T00:00:00.000000",
          "2016-04-10T00:00:00.000000",
          "2016-04-11T00:00:00.000000",
          "2016-04-12T00:00:00.000000",
          "2016-04-13T00:00:00.000000",
          "2016-04-14T00:00:00.000000",
          "2016-04-15T00:00:00.000000",
          "2016-04-16T00:00:00.000000",
          "2016-04-17T00:00:00.000000",
          "2016-04-18T00:00:00.000000",
          "2016-04-19T00:00:00.000000",
          "2016-04-20T00:00:00.000000",
          "2016-04-21T00:00:00.000000",
          "2016-04-22T00:00:00.000000",
          "2016-04-23T00:00:00.000000",
          "2016-04-24T00:00:00.000000",
          "2016-04-25T00:00:00.000000",
          "2016-04-26T00:00:00.000000",
          "2016-04-27T00:00:00.000000",
          "2016-04-28T00:00:00.000000",
          "2016-04-29T00:00:00.000000",
          "2016-04-30T00:00:00.000000",
          "2016-05-01T00:00:00.000000",
          "2016-05-02T00:00:00.000000",
          "2016-05-03T00:00:00.000000",
          "2016-05-04T00:00:00.000000",
          "2016-05-05T00:00:00.000000",
          "2016-05-06T00:00:00.000000",
          "2016-05-07T00:00:00.000000",
          "2016-05-08T00:00:00.000000",
          "2016-05-09T00:00:00.000000",
          "2016-05-10T00:00:00.000000",
          "2016-05-11T00:00:00.000000",
          "2016-05-12T00:00:00.000000",
          "2016-05-13T00:00:00.000000",
          "2016-05-14T00:00:00.000000",
          "2016-05-15T00:00:00.000000",
          "2016-05-16T00:00:00.000000",
          "2016-05-17T00:00:00.000000",
          "2016-05-18T00:00:00.000000",
          "2016-05-19T00:00:00.000000",
          "2016-05-20T00:00:00.000000",
          "2016-05-21T00:00:00.000000",
          "2016-05-22T00:00:00.000000",
          "2016-05-23T00:00:00.000000",
          "2016-05-24T00:00:00.000000",
          "2016-05-25T00:00:00.000000",
          "2016-05-26T00:00:00.000000",
          "2016-05-27T00:00:00.000000",
          "2016-05-28T00:00:00.000000",
          "2016-05-29T00:00:00.000000",
          "2016-05-30T00:00:00.000000",
          "2016-05-31T00:00:00.000000",
          "2016-06-01T00:00:00.000000",
          "2016-06-02T00:00:00.000000",
          "2016-06-03T00:00:00.000000",
          "2016-06-04T00:00:00.000000",
          "2016-06-05T00:00:00.000000",
          "2016-06-06T00:00:00.000000",
          "2016-06-07T00:00:00.000000",
          "2016-06-08T00:00:00.000000",
          "2016-06-09T00:00:00.000000",
          "2016-06-10T00:00:00.000000",
          "2016-06-11T00:00:00.000000",
          "2016-06-12T00:00:00.000000",
          "2016-06-13T00:00:00.000000",
          "2016-06-14T00:00:00.000000",
          "2016-06-15T00:00:00.000000",
          "2016-06-16T00:00:00.000000",
          "2016-06-17T00:00:00.000000",
          "2016-06-18T00:00:00.000000",
          "2016-06-19T00:00:00.000000",
          "2016-06-20T00:00:00.000000",
          "2016-06-21T00:00:00.000000",
          "2016-06-22T00:00:00.000000",
          "2016-06-23T00:00:00.000000",
          "2016-06-24T00:00:00.000000",
          "2016-06-25T00:00:00.000000",
          "2016-06-26T00:00:00.000000",
          "2016-06-27T00:00:00.000000",
          "2016-06-28T00:00:00.000000",
          "2016-06-29T00:00:00.000000",
          "2016-06-30T00:00:00.000000",
          "2016-07-01T00:00:00.000000",
          "2016-07-02T00:00:00.000000",
          "2016-07-03T00:00:00.000000",
          "2016-07-04T00:00:00.000000",
          "2016-07-05T00:00:00.000000",
          "2016-07-06T00:00:00.000000",
          "2016-07-07T00:00:00.000000",
          "2016-07-08T00:00:00.000000",
          "2016-07-09T00:00:00.000000",
          "2016-07-10T00:00:00.000000",
          "2016-07-11T00:00:00.000000",
          "2016-07-12T00:00:00.000000",
          "2016-07-13T00:00:00.000000",
          "2016-07-14T00:00:00.000000",
          "2016-07-15T00:00:00.000000",
          "2016-07-16T00:00:00.000000",
          "2016-07-17T00:00:00.000000",
          "2016-07-18T00:00:00.000000",
          "2016-07-19T00:00:00.000000",
          "2016-07-20T00:00:00.000000",
          "2016-07-21T00:00:00.000000",
          "2016-07-22T00:00:00.000000",
          "2016-07-23T00:00:00.000000",
          "2016-07-24T00:00:00.000000",
          "2016-07-25T00:00:00.000000",
          "2016-07-26T00:00:00.000000",
          "2016-07-27T00:00:00.000000",
          "2016-07-28T00:00:00.000000",
          "2016-07-29T00:00:00.000000",
          "2016-07-30T00:00:00.000000",
          "2016-07-31T00:00:00.000000",
          "2016-08-01T00:00:00.000000",
          "2016-08-02T00:00:00.000000",
          "2016-08-03T00:00:00.000000",
          "2016-08-04T00:00:00.000000",
          "2016-08-05T00:00:00.000000",
          "2016-08-06T00:00:00.000000",
          "2016-08-07T00:00:00.000000",
          "2016-08-08T00:00:00.000000",
          "2016-08-09T00:00:00.000000",
          "2016-08-10T00:00:00.000000",
          "2016-08-11T00:00:00.000000",
          "2016-08-12T00:00:00.000000",
          "2016-08-13T00:00:00.000000",
          "2016-08-14T00:00:00.000000",
          "2016-08-15T00:00:00.000000",
          "2016-08-16T00:00:00.000000",
          "2016-08-17T00:00:00.000000",
          "2016-08-18T00:00:00.000000",
          "2016-08-19T00:00:00.000000",
          "2016-08-20T00:00:00.000000",
          "2016-08-21T00:00:00.000000",
          "2016-08-22T00:00:00.000000",
          "2016-08-23T00:00:00.000000",
          "2016-08-24T00:00:00.000000",
          "2016-08-25T00:00:00.000000",
          "2016-08-26T00:00:00.000000",
          "2016-08-27T00:00:00.000000",
          "2016-08-28T00:00:00.000000",
          "2016-08-29T00:00:00.000000",
          "2016-08-30T00:00:00.000000",
          "2016-08-31T00:00:00.000000",
          "2016-09-01T00:00:00.000000",
          "2016-09-02T00:00:00.000000",
          "2016-09-03T00:00:00.000000",
          "2016-09-04T00:00:00.000000",
          "2016-09-05T00:00:00.000000",
          "2016-09-06T00:00:00.000000",
          "2016-09-07T00:00:00.000000",
          "2016-09-08T00:00:00.000000",
          "2016-09-09T00:00:00.000000",
          "2016-09-10T00:00:00.000000",
          "2016-09-11T00:00:00.000000",
          "2016-09-12T00:00:00.000000",
          "2016-09-13T00:00:00.000000",
          "2016-09-14T00:00:00.000000",
          "2016-09-15T00:00:00.000000",
          "2016-09-16T00:00:00.000000",
          "2016-09-17T00:00:00.000000",
          "2016-09-18T00:00:00.000000",
          "2016-09-19T00:00:00.000000",
          "2016-09-20T00:00:00.000000",
          "2016-09-21T00:00:00.000000",
          "2016-09-22T00:00:00.000000",
          "2016-09-23T00:00:00.000000",
          "2016-09-24T00:00:00.000000",
          "2016-09-25T00:00:00.000000",
          "2016-09-26T00:00:00.000000",
          "2016-09-27T00:00:00.000000",
          "2016-09-28T00:00:00.000000",
          "2016-09-29T00:00:00.000000",
          "2016-09-30T00:00:00.000000",
          "2016-10-01T00:00:00.000000",
          "2016-10-02T00:00:00.000000",
          "2016-10-03T00:00:00.000000",
          "2016-10-04T00:00:00.000000",
          "2016-10-05T00:00:00.000000",
          "2016-10-06T00:00:00.000000",
          "2016-10-07T00:00:00.000000",
          "2016-10-08T00:00:00.000000",
          "2016-10-09T00:00:00.000000",
          "2016-10-10T00:00:00.000000",
          "2016-10-11T00:00:00.000000",
          "2016-10-12T00:00:00.000000",
          "2016-10-13T00:00:00.000000",
          "2016-10-14T00:00:00.000000",
          "2016-10-15T00:00:00.000000",
          "2016-10-16T00:00:00.000000",
          "2016-10-17T00:00:00.000000",
          "2016-10-18T00:00:00.000000",
          "2016-10-19T00:00:00.000000",
          "2016-10-20T00:00:00.000000",
          "2016-10-21T00:00:00.000000",
          "2016-10-22T00:00:00.000000",
          "2016-10-23T00:00:00.000000",
          "2016-10-24T00:00:00.000000",
          "2016-10-25T00:00:00.000000",
          "2016-10-26T00:00:00.000000",
          "2016-10-27T00:00:00.000000",
          "2016-10-28T00:00:00.000000",
          "2016-10-29T00:00:00.000000",
          "2016-10-30T00:00:00.000000",
          "2016-10-31T00:00:00.000000",
          "2016-11-01T00:00:00.000000",
          "2016-11-02T00:00:00.000000",
          "2016-11-03T00:00:00.000000",
          "2016-11-04T00:00:00.000000",
          "2016-11-05T00:00:00.000000",
          "2016-11-06T00:00:00.000000",
          "2016-11-07T00:00:00.000000",
          "2016-11-08T00:00:00.000000",
          "2016-11-09T00:00:00.000000",
          "2016-11-10T00:00:00.000000",
          "2016-11-11T00:00:00.000000",
          "2016-11-12T00:00:00.000000",
          "2016-11-13T00:00:00.000000",
          "2016-11-14T00:00:00.000000",
          "2016-11-15T00:00:00.000000",
          "2016-11-16T00:00:00.000000",
          "2016-11-17T00:00:00.000000",
          "2016-11-18T00:00:00.000000",
          "2016-11-19T00:00:00.000000",
          "2016-11-20T00:00:00.000000",
          "2016-11-21T00:00:00.000000",
          "2016-11-22T00:00:00.000000",
          "2016-11-23T00:00:00.000000",
          "2016-11-24T00:00:00.000000",
          "2016-11-25T00:00:00.000000",
          "2016-11-26T00:00:00.000000",
          "2016-11-27T00:00:00.000000",
          "2016-11-28T00:00:00.000000",
          "2016-11-29T00:00:00.000000",
          "2016-11-30T00:00:00.000000",
          "2016-12-01T00:00:00.000000",
          "2016-12-02T00:00:00.000000",
          "2016-12-03T00:00:00.000000",
          "2016-12-04T00:00:00.000000",
          "2016-12-05T00:00:00.000000",
          "2016-12-06T00:00:00.000000",
          "2016-12-07T00:00:00.000000",
          "2016-12-08T00:00:00.000000",
          "2016-12-09T00:00:00.000000",
          "2016-12-10T00:00:00.000000",
          "2016-12-11T00:00:00.000000",
          "2016-12-12T00:00:00.000000",
          "2016-12-13T00:00:00.000000",
          "2016-12-14T00:00:00.000000",
          "2016-12-15T00:00:00.000000",
          "2016-12-16T00:00:00.000000",
          "2016-12-17T00:00:00.000000",
          "2016-12-18T00:00:00.000000",
          "2016-12-19T00:00:00.000000",
          "2016-12-20T00:00:00.000000",
          "2016-12-21T00:00:00.000000",
          "2016-12-22T00:00:00.000000",
          "2016-12-23T00:00:00.000000",
          "2016-12-24T00:00:00.000000",
          "2016-12-25T00:00:00.000000",
          "2016-12-26T00:00:00.000000",
          "2016-12-27T00:00:00.000000",
          "2016-12-28T00:00:00.000000",
          "2016-12-29T00:00:00.000000",
          "2016-12-30T00:00:00.000000",
          "2016-12-31T00:00:00.000000",
          "2017-01-01T00:00:00.000000",
          "2017-01-02T00:00:00.000000",
          "2017-01-03T00:00:00.000000",
          "2017-01-04T00:00:00.000000",
          "2017-01-05T00:00:00.000000",
          "2017-01-06T00:00:00.000000",
          "2017-01-07T00:00:00.000000",
          "2017-01-08T00:00:00.000000",
          "2017-01-09T00:00:00.000000",
          "2017-01-10T00:00:00.000000",
          "2017-01-11T00:00:00.000000",
          "2017-01-12T00:00:00.000000",
          "2017-01-13T00:00:00.000000",
          "2017-01-14T00:00:00.000000",
          "2017-01-15T00:00:00.000000",
          "2017-01-16T00:00:00.000000",
          "2017-01-17T00:00:00.000000",
          "2017-01-18T00:00:00.000000",
          "2017-01-19T00:00:00.000000",
          "2017-01-20T00:00:00.000000",
          "2017-01-21T00:00:00.000000",
          "2017-01-22T00:00:00.000000",
          "2017-01-23T00:00:00.000000",
          "2017-01-24T00:00:00.000000",
          "2017-01-25T00:00:00.000000",
          "2017-01-26T00:00:00.000000",
          "2017-01-27T00:00:00.000000",
          "2017-01-28T00:00:00.000000",
          "2017-01-29T00:00:00.000000",
          "2017-01-30T00:00:00.000000",
          "2017-01-31T00:00:00.000000",
          "2017-02-01T00:00:00.000000",
          "2017-02-02T00:00:00.000000",
          "2017-02-03T00:00:00.000000",
          "2017-02-04T00:00:00.000000",
          "2017-02-05T00:00:00.000000",
          "2017-02-06T00:00:00.000000",
          "2017-02-07T00:00:00.000000",
          "2017-02-08T00:00:00.000000",
          "2017-02-09T00:00:00.000000",
          "2017-02-10T00:00:00.000000",
          "2017-02-11T00:00:00.000000",
          "2017-02-12T00:00:00.000000",
          "2017-02-13T00:00:00.000000",
          "2017-02-14T00:00:00.000000",
          "2017-02-15T00:00:00.000000",
          "2017-02-16T00:00:00.000000",
          "2017-02-17T00:00:00.000000",
          "2017-02-18T00:00:00.000000",
          "2017-02-19T00:00:00.000000",
          "2017-02-20T00:00:00.000000",
          "2017-02-21T00:00:00.000000",
          "2017-02-22T00:00:00.000000",
          "2017-02-23T00:00:00.000000",
          "2017-02-24T00:00:00.000000",
          "2017-02-25T00:00:00.000000",
          "2017-02-26T00:00:00.000000",
          "2017-02-27T00:00:00.000000",
          "2017-02-28T00:00:00.000000",
          "2017-03-01T00:00:00.000000",
          "2017-03-02T00:00:00.000000",
          "2017-03-03T00:00:00.000000",
          "2017-03-04T00:00:00.000000",
          "2017-03-05T00:00:00.000000",
          "2017-03-06T00:00:00.000000",
          "2017-03-07T00:00:00.000000",
          "2017-03-08T00:00:00.000000",
          "2017-03-09T00:00:00.000000",
          "2017-03-10T00:00:00.000000",
          "2017-03-11T00:00:00.000000",
          "2017-03-12T00:00:00.000000",
          "2017-03-13T00:00:00.000000",
          "2017-03-14T00:00:00.000000",
          "2017-03-15T00:00:00.000000",
          "2017-03-16T00:00:00.000000",
          "2017-03-17T00:00:00.000000",
          "2017-03-18T00:00:00.000000",
          "2017-03-19T00:00:00.000000",
          "2017-03-20T00:00:00.000000",
          "2017-03-21T00:00:00.000000",
          "2017-03-22T00:00:00.000000",
          "2017-03-23T00:00:00.000000",
          "2017-03-24T00:00:00.000000",
          "2017-03-25T00:00:00.000000",
          "2017-03-26T00:00:00.000000",
          "2017-03-27T00:00:00.000000",
          "2017-03-28T00:00:00.000000",
          "2017-03-29T00:00:00.000000",
          "2017-03-30T00:00:00.000000",
          "2017-03-31T00:00:00.000000",
          "2017-04-01T00:00:00.000000",
          "2017-04-02T00:00:00.000000",
          "2017-04-03T00:00:00.000000",
          "2017-04-04T00:00:00.000000",
          "2017-04-05T00:00:00.000000",
          "2017-04-06T00:00:00.000000",
          "2017-04-07T00:00:00.000000",
          "2017-04-08T00:00:00.000000",
          "2017-04-09T00:00:00.000000",
          "2017-04-10T00:00:00.000000",
          "2017-04-11T00:00:00.000000",
          "2017-04-12T00:00:00.000000",
          "2017-04-13T00:00:00.000000",
          "2017-04-14T00:00:00.000000",
          "2017-04-15T00:00:00.000000",
          "2017-04-16T00:00:00.000000",
          "2017-04-17T00:00:00.000000",
          "2017-04-18T00:00:00.000000",
          "2017-04-19T00:00:00.000000",
          "2017-04-20T00:00:00.000000",
          "2017-04-21T00:00:00.000000",
          "2017-04-22T00:00:00.000000",
          "2017-04-23T00:00:00.000000",
          "2017-04-24T00:00:00.000000",
          "2017-04-25T00:00:00.000000",
          "2017-04-26T00:00:00.000000",
          "2017-04-27T00:00:00.000000",
          "2017-04-28T00:00:00.000000",
          "2017-04-29T00:00:00.000000",
          "2017-04-30T00:00:00.000000",
          "2017-05-01T00:00:00.000000",
          "2017-05-02T00:00:00.000000",
          "2017-05-03T00:00:00.000000",
          "2017-05-04T00:00:00.000000",
          "2017-05-05T00:00:00.000000",
          "2017-05-06T00:00:00.000000",
          "2017-05-07T00:00:00.000000",
          "2017-05-08T00:00:00.000000",
          "2017-05-09T00:00:00.000000",
          "2017-05-10T00:00:00.000000",
          "2017-05-11T00:00:00.000000",
          "2017-05-12T00:00:00.000000",
          "2017-05-13T00:00:00.000000",
          "2017-05-14T00:00:00.000000",
          "2017-05-15T00:00:00.000000",
          "2017-05-16T00:00:00.000000",
          "2017-05-17T00:00:00.000000",
          "2017-05-18T00:00:00.000000",
          "2017-05-19T00:00:00.000000",
          "2017-05-20T00:00:00.000000",
          "2017-05-21T00:00:00.000000",
          "2017-05-22T00:00:00.000000",
          "2017-05-23T00:00:00.000000",
          "2017-05-24T00:00:00.000000",
          "2017-05-25T00:00:00.000000",
          "2017-05-26T00:00:00.000000",
          "2017-05-27T00:00:00.000000",
          "2017-05-28T00:00:00.000000",
          "2017-05-29T00:00:00.000000",
          "2017-05-30T00:00:00.000000",
          "2017-05-31T00:00:00.000000",
          "2017-06-01T00:00:00.000000",
          "2017-06-02T00:00:00.000000",
          "2017-06-03T00:00:00.000000",
          "2017-06-04T00:00:00.000000",
          "2017-06-05T00:00:00.000000",
          "2017-06-06T00:00:00.000000",
          "2017-06-07T00:00:00.000000",
          "2017-06-08T00:00:00.000000",
          "2017-06-09T00:00:00.000000",
          "2017-06-10T00:00:00.000000",
          "2017-06-11T00:00:00.000000",
          "2017-06-12T00:00:00.000000",
          "2017-06-13T00:00:00.000000",
          "2017-06-14T00:00:00.000000",
          "2017-06-15T00:00:00.000000",
          "2017-06-16T00:00:00.000000",
          "2017-06-17T00:00:00.000000",
          "2017-06-18T00:00:00.000000",
          "2017-06-19T00:00:00.000000",
          "2017-06-20T00:00:00.000000",
          "2017-06-21T00:00:00.000000",
          "2017-06-22T00:00:00.000000",
          "2017-06-23T00:00:00.000000",
          "2017-06-24T00:00:00.000000",
          "2017-06-25T00:00:00.000000",
          "2017-06-26T00:00:00.000000",
          "2017-06-27T00:00:00.000000",
          "2017-06-28T00:00:00.000000",
          "2017-06-29T00:00:00.000000",
          "2017-06-30T00:00:00.000000",
          "2017-07-01T00:00:00.000000",
          "2017-07-02T00:00:00.000000",
          "2017-07-03T00:00:00.000000",
          "2017-07-04T00:00:00.000000",
          "2017-07-05T00:00:00.000000",
          "2017-07-06T00:00:00.000000",
          "2017-07-07T00:00:00.000000",
          "2017-07-08T00:00:00.000000",
          "2017-07-09T00:00:00.000000",
          "2017-07-10T00:00:00.000000",
          "2017-07-11T00:00:00.000000",
          "2017-07-12T00:00:00.000000",
          "2017-07-13T00:00:00.000000",
          "2017-07-14T00:00:00.000000",
          "2017-07-15T00:00:00.000000",
          "2017-07-16T00:00:00.000000",
          "2017-07-17T00:00:00.000000",
          "2017-07-18T00:00:00.000000",
          "2017-07-19T00:00:00.000000",
          "2017-07-20T00:00:00.000000",
          "2017-07-21T00:00:00.000000",
          "2017-07-22T00:00:00.000000",
          "2017-07-23T00:00:00.000000",
          "2017-07-24T00:00:00.000000",
          "2017-07-25T00:00:00.000000",
          "2017-07-26T00:00:00.000000",
          "2017-07-27T00:00:00.000000",
          "2017-07-28T00:00:00.000000",
          "2017-07-29T00:00:00.000000",
          "2017-07-30T00:00:00.000000",
          "2017-07-31T00:00:00.000000",
          "2017-08-01T00:00:00.000000",
          "2017-08-02T00:00:00.000000",
          "2017-08-03T00:00:00.000000",
          "2017-08-04T00:00:00.000000",
          "2017-08-05T00:00:00.000000",
          "2017-08-06T00:00:00.000000",
          "2017-08-07T00:00:00.000000",
          "2017-08-08T00:00:00.000000",
          "2017-08-09T00:00:00.000000",
          "2017-08-10T00:00:00.000000",
          "2017-08-11T00:00:00.000000",
          "2017-08-12T00:00:00.000000",
          "2017-08-13T00:00:00.000000",
          "2017-08-14T00:00:00.000000",
          "2017-08-15T00:00:00.000000",
          "2017-08-16T00:00:00.000000",
          "2017-08-17T00:00:00.000000",
          "2017-08-18T00:00:00.000000",
          "2017-08-19T00:00:00.000000",
          "2017-08-20T00:00:00.000000",
          "2017-08-21T00:00:00.000000",
          "2017-08-22T00:00:00.000000",
          "2017-08-23T00:00:00.000000",
          "2017-08-24T00:00:00.000000",
          "2017-08-25T00:00:00.000000",
          "2017-08-26T00:00:00.000000",
          "2017-08-27T00:00:00.000000",
          "2017-08-28T00:00:00.000000",
          "2017-08-29T00:00:00.000000",
          "2017-08-30T00:00:00.000000",
          "2017-08-31T00:00:00.000000",
          "2017-09-01T00:00:00.000000",
          "2017-09-02T00:00:00.000000",
          "2017-09-03T00:00:00.000000",
          "2017-09-04T00:00:00.000000",
          "2017-09-05T00:00:00.000000",
          "2017-09-06T00:00:00.000000",
          "2017-09-07T00:00:00.000000",
          "2017-09-08T00:00:00.000000",
          "2017-09-09T00:00:00.000000",
          "2017-09-10T00:00:00.000000",
          "2017-09-11T00:00:00.000000",
          "2017-09-12T00:00:00.000000",
          "2017-09-13T00:00:00.000000",
          "2017-09-14T00:00:00.000000",
          "2017-09-15T00:00:00.000000",
          "2017-09-16T00:00:00.000000",
          "2017-09-17T00:00:00.000000",
          "2017-09-18T00:00:00.000000",
          "2017-09-19T00:00:00.000000",
          "2017-09-20T00:00:00.000000",
          "2017-09-21T00:00:00.000000",
          "2017-09-22T00:00:00.000000",
          "2017-09-23T00:00:00.000000",
          "2017-09-24T00:00:00.000000",
          "2017-09-25T00:00:00.000000",
          "2017-09-26T00:00:00.000000",
          "2017-09-27T00:00:00.000000",
          "2017-09-28T00:00:00.000000",
          "2017-09-29T00:00:00.000000",
          "2017-09-30T00:00:00.000000",
          "2017-10-01T00:00:00.000000",
          "2017-10-02T00:00:00.000000",
          "2017-10-03T00:00:00.000000",
          "2017-10-04T00:00:00.000000",
          "2017-10-05T00:00:00.000000",
          "2017-10-06T00:00:00.000000",
          "2017-10-07T00:00:00.000000",
          "2017-10-08T00:00:00.000000",
          "2017-10-09T00:00:00.000000",
          "2017-10-10T00:00:00.000000",
          "2017-10-11T00:00:00.000000",
          "2017-10-12T00:00:00.000000",
          "2017-10-13T00:00:00.000000",
          "2017-10-14T00:00:00.000000",
          "2017-10-15T00:00:00.000000",
          "2017-10-16T00:00:00.000000",
          "2017-10-17T00:00:00.000000",
          "2017-10-18T00:00:00.000000",
          "2017-10-19T00:00:00.000000",
          "2017-10-20T00:00:00.000000",
          "2017-10-21T00:00:00.000000",
          "2017-10-22T00:00:00.000000",
          "2017-10-23T00:00:00.000000",
          "2017-10-24T00:00:00.000000",
          "2017-10-25T00:00:00.000000",
          "2017-10-26T00:00:00.000000",
          "2017-10-27T00:00:00.000000",
          "2017-10-28T00:00:00.000000",
          "2017-10-29T00:00:00.000000",
          "2017-10-30T00:00:00.000000",
          "2017-10-31T00:00:00.000000",
          "2017-11-01T00:00:00.000000",
          "2017-11-02T00:00:00.000000",
          "2017-11-03T00:00:00.000000",
          "2017-11-04T00:00:00.000000",
          "2017-11-05T00:00:00.000000",
          "2017-11-06T00:00:00.000000",
          "2017-11-07T00:00:00.000000",
          "2017-11-08T00:00:00.000000",
          "2017-11-09T00:00:00.000000",
          "2017-11-10T00:00:00.000000",
          "2017-11-11T00:00:00.000000",
          "2017-11-12T00:00:00.000000",
          "2017-11-13T00:00:00.000000",
          "2017-11-14T00:00:00.000000",
          "2017-11-15T00:00:00.000000",
          "2017-11-16T00:00:00.000000",
          "2017-11-17T00:00:00.000000",
          "2017-11-18T00:00:00.000000",
          "2017-11-19T00:00:00.000000",
          "2017-11-20T00:00:00.000000",
          "2017-11-21T00:00:00.000000",
          "2017-11-22T00:00:00.000000",
          "2017-11-23T00:00:00.000000",
          "2017-11-24T00:00:00.000000",
          "2017-11-25T00:00:00.000000",
          "2017-11-26T00:00:00.000000",
          "2017-11-27T00:00:00.000000",
          "2017-11-28T00:00:00.000000",
          "2017-11-29T00:00:00.000000",
          "2017-11-30T00:00:00.000000",
          "2017-12-01T00:00:00.000000",
          "2017-12-02T00:00:00.000000",
          "2017-12-03T00:00:00.000000",
          "2017-12-04T00:00:00.000000",
          "2017-12-05T00:00:00.000000",
          "2017-12-06T00:00:00.000000",
          "2017-12-07T00:00:00.000000",
          "2017-12-08T00:00:00.000000",
          "2017-12-09T00:00:00.000000",
          "2017-12-10T00:00:00.000000",
          "2017-12-11T00:00:00.000000",
          "2017-12-12T00:00:00.000000",
          "2017-12-13T00:00:00.000000",
          "2017-12-14T00:00:00.000000",
          "2017-12-15T00:00:00.000000",
          "2017-12-16T00:00:00.000000",
          "2017-12-17T00:00:00.000000",
          "2017-12-18T00:00:00.000000",
          "2017-12-19T00:00:00.000000",
          "2017-12-20T00:00:00.000000",
          "2017-12-21T00:00:00.000000",
          "2017-12-22T00:00:00.000000",
          "2017-12-23T00:00:00.000000",
          "2017-12-24T00:00:00.000000",
          "2017-12-25T00:00:00.000000",
          "2017-12-26T00:00:00.000000",
          "2017-12-27T00:00:00.000000",
          "2017-12-28T00:00:00.000000",
          "2017-12-29T00:00:00.000000",
          "2017-12-30T00:00:00.000000",
          "2017-12-31T00:00:00.000000",
          "2018-01-01T00:00:00.000000",
          "2018-01-02T00:00:00.000000",
          "2018-01-03T00:00:00.000000",
          "2018-01-04T00:00:00.000000",
          "2018-01-05T00:00:00.000000",
          "2018-01-06T00:00:00.000000",
          "2018-01-07T00:00:00.000000",
          "2018-01-08T00:00:00.000000",
          "2018-01-09T00:00:00.000000",
          "2018-01-10T00:00:00.000000",
          "2018-01-11T00:00:00.000000",
          "2018-01-12T00:00:00.000000",
          "2018-01-13T00:00:00.000000",
          "2018-01-14T00:00:00.000000",
          "2018-01-15T00:00:00.000000",
          "2018-01-16T00:00:00.000000",
          "2018-01-17T00:00:00.000000",
          "2018-01-18T00:00:00.000000",
          "2018-01-19T00:00:00.000000",
          "2018-01-20T00:00:00.000000",
          "2018-01-21T00:00:00.000000",
          "2018-01-22T00:00:00.000000",
          "2018-01-23T00:00:00.000000",
          "2018-01-24T00:00:00.000000",
          "2018-01-25T00:00:00.000000",
          "2018-01-26T00:00:00.000000",
          "2018-01-27T00:00:00.000000",
          "2018-01-28T00:00:00.000000",
          "2018-01-29T00:00:00.000000",
          "2018-01-30T00:00:00.000000",
          "2018-01-31T00:00:00.000000",
          "2018-02-01T00:00:00.000000",
          "2018-02-02T00:00:00.000000",
          "2018-02-03T00:00:00.000000",
          "2018-02-04T00:00:00.000000",
          "2018-02-05T00:00:00.000000",
          "2018-02-06T00:00:00.000000",
          "2018-02-07T00:00:00.000000",
          "2018-02-08T00:00:00.000000",
          "2018-02-09T00:00:00.000000",
          "2018-02-10T00:00:00.000000",
          "2018-02-11T00:00:00.000000",
          "2018-02-12T00:00:00.000000",
          "2018-02-13T00:00:00.000000",
          "2018-02-14T00:00:00.000000",
          "2018-02-15T00:00:00.000000",
          "2018-02-16T00:00:00.000000",
          "2018-02-17T00:00:00.000000",
          "2018-02-18T00:00:00.000000",
          "2018-02-19T00:00:00.000000",
          "2018-02-20T00:00:00.000000",
          "2018-02-21T00:00:00.000000",
          "2018-02-22T00:00:00.000000",
          "2018-02-23T00:00:00.000000",
          "2018-02-24T00:00:00.000000",
          "2018-02-25T00:00:00.000000",
          "2018-02-26T00:00:00.000000",
          "2018-02-27T00:00:00.000000",
          "2018-02-28T00:00:00.000000",
          "2018-03-01T00:00:00.000000",
          "2018-03-02T00:00:00.000000",
          "2018-03-03T00:00:00.000000",
          "2018-03-04T00:00:00.000000",
          "2018-03-05T00:00:00.000000",
          "2018-03-06T00:00:00.000000",
          "2018-03-07T00:00:00.000000",
          "2018-03-08T00:00:00.000000",
          "2018-03-09T00:00:00.000000",
          "2018-03-10T00:00:00.000000",
          "2018-03-11T00:00:00.000000",
          "2018-03-12T00:00:00.000000",
          "2018-03-13T00:00:00.000000",
          "2018-03-14T00:00:00.000000",
          "2018-03-15T00:00:00.000000",
          "2018-03-16T00:00:00.000000",
          "2018-03-17T00:00:00.000000",
          "2018-03-18T00:00:00.000000",
          "2018-03-19T00:00:00.000000",
          "2018-03-20T00:00:00.000000",
          "2018-03-21T00:00:00.000000",
          "2018-03-22T00:00:00.000000",
          "2018-03-23T00:00:00.000000",
          "2018-03-24T00:00:00.000000",
          "2018-03-25T00:00:00.000000",
          "2018-03-26T00:00:00.000000",
          "2018-03-27T00:00:00.000000",
          "2018-03-28T00:00:00.000000",
          "2018-03-29T00:00:00.000000",
          "2018-03-30T00:00:00.000000",
          "2018-03-31T00:00:00.000000",
          "2018-04-01T00:00:00.000000",
          "2018-04-02T00:00:00.000000",
          "2018-04-03T00:00:00.000000",
          "2018-04-04T00:00:00.000000",
          "2018-04-05T00:00:00.000000",
          "2018-04-06T00:00:00.000000",
          "2018-04-07T00:00:00.000000",
          "2018-04-08T00:00:00.000000",
          "2018-04-09T00:00:00.000000",
          "2018-04-10T00:00:00.000000",
          "2018-04-11T00:00:00.000000",
          "2018-04-12T00:00:00.000000",
          "2018-04-13T00:00:00.000000",
          "2018-04-14T00:00:00.000000",
          "2018-04-15T00:00:00.000000",
          "2018-04-16T00:00:00.000000",
          "2018-04-17T00:00:00.000000",
          "2018-04-18T00:00:00.000000",
          "2018-04-19T00:00:00.000000",
          "2018-04-20T00:00:00.000000",
          "2018-04-21T00:00:00.000000",
          "2018-04-22T00:00:00.000000",
          "2018-04-23T00:00:00.000000",
          "2018-04-24T00:00:00.000000",
          "2018-04-25T00:00:00.000000",
          "2018-04-26T00:00:00.000000",
          "2018-04-27T00:00:00.000000",
          "2018-04-28T00:00:00.000000",
          "2018-04-29T00:00:00.000000",
          "2018-04-30T00:00:00.000000",
          "2018-05-01T00:00:00.000000",
          "2018-05-02T00:00:00.000000",
          "2018-05-03T00:00:00.000000",
          "2018-05-04T00:00:00.000000",
          "2018-05-05T00:00:00.000000",
          "2018-05-06T00:00:00.000000",
          "2018-05-07T00:00:00.000000",
          "2018-05-08T00:00:00.000000",
          "2018-05-09T00:00:00.000000",
          "2018-05-10T00:00:00.000000",
          "2018-05-11T00:00:00.000000",
          "2018-05-12T00:00:00.000000",
          "2018-05-13T00:00:00.000000",
          "2018-05-14T00:00:00.000000",
          "2018-05-15T00:00:00.000000",
          "2018-05-16T00:00:00.000000",
          "2018-05-17T00:00:00.000000",
          "2018-05-18T00:00:00.000000",
          "2018-05-19T00:00:00.000000",
          "2018-05-20T00:00:00.000000",
          "2018-05-21T00:00:00.000000",
          "2018-05-22T00:00:00.000000",
          "2018-05-23T00:00:00.000000",
          "2018-05-24T00:00:00.000000",
          "2018-05-25T00:00:00.000000",
          "2018-05-26T00:00:00.000000",
          "2018-05-27T00:00:00.000000",
          "2018-05-28T00:00:00.000000",
          "2018-05-29T00:00:00.000000",
          "2018-05-30T00:00:00.000000",
          "2018-05-31T00:00:00.000000",
          "2018-06-01T00:00:00.000000",
          "2018-06-02T00:00:00.000000",
          "2018-06-03T00:00:00.000000",
          "2018-06-04T00:00:00.000000",
          "2018-06-05T00:00:00.000000",
          "2018-06-06T00:00:00.000000",
          "2018-06-07T00:00:00.000000",
          "2018-06-08T00:00:00.000000",
          "2018-06-09T00:00:00.000000",
          "2018-06-10T00:00:00.000000",
          "2018-06-11T00:00:00.000000",
          "2018-06-12T00:00:00.000000",
          "2018-06-13T00:00:00.000000",
          "2018-06-14T00:00:00.000000",
          "2018-06-15T00:00:00.000000",
          "2018-06-16T00:00:00.000000",
          "2018-06-17T00:00:00.000000",
          "2018-06-18T00:00:00.000000",
          "2018-06-19T00:00:00.000000",
          "2018-06-20T00:00:00.000000",
          "2018-06-21T00:00:00.000000",
          "2018-06-22T00:00:00.000000",
          "2018-06-23T00:00:00.000000",
          "2018-06-24T00:00:00.000000",
          "2018-06-25T00:00:00.000000",
          "2018-06-26T00:00:00.000000",
          "2018-06-27T00:00:00.000000",
          "2018-06-28T00:00:00.000000",
          "2018-06-29T00:00:00.000000",
          "2018-06-30T00:00:00.000000",
          "2018-07-01T00:00:00.000000",
          "2018-07-02T00:00:00.000000",
          "2018-07-03T00:00:00.000000",
          "2018-07-04T00:00:00.000000",
          "2018-07-05T00:00:00.000000",
          "2018-07-06T00:00:00.000000",
          "2018-07-07T00:00:00.000000",
          "2018-07-08T00:00:00.000000",
          "2018-07-09T00:00:00.000000",
          "2018-07-10T00:00:00.000000",
          "2018-07-11T00:00:00.000000",
          "2018-07-12T00:00:00.000000",
          "2018-07-13T00:00:00.000000",
          "2018-07-14T00:00:00.000000",
          "2018-07-15T00:00:00.000000",
          "2018-07-16T00:00:00.000000",
          "2018-07-17T00:00:00.000000",
          "2018-07-18T00:00:00.000000",
          "2018-07-19T00:00:00.000000",
          "2018-07-20T00:00:00.000000",
          "2018-07-21T00:00:00.000000",
          "2018-07-22T00:00:00.000000",
          "2018-07-23T00:00:00.000000",
          "2018-07-24T00:00:00.000000",
          "2018-07-25T00:00:00.000000",
          "2018-07-26T00:00:00.000000",
          "2018-07-27T00:00:00.000000",
          "2018-07-28T00:00:00.000000",
          "2018-07-29T00:00:00.000000",
          "2018-07-30T00:00:00.000000",
          "2018-07-31T00:00:00.000000",
          "2018-08-01T00:00:00.000000",
          "2018-08-02T00:00:00.000000",
          "2018-08-03T00:00:00.000000",
          "2018-08-04T00:00:00.000000",
          "2018-08-05T00:00:00.000000",
          "2018-08-06T00:00:00.000000",
          "2018-08-07T00:00:00.000000",
          "2018-08-08T00:00:00.000000",
          "2018-08-09T00:00:00.000000",
          "2018-08-10T00:00:00.000000",
          "2018-08-11T00:00:00.000000",
          "2018-08-12T00:00:00.000000",
          "2018-08-13T00:00:00.000000",
          "2018-08-14T00:00:00.000000",
          "2018-08-15T00:00:00.000000",
          "2018-08-16T00:00:00.000000",
          "2018-08-17T00:00:00.000000",
          "2018-08-18T00:00:00.000000",
          "2018-08-19T00:00:00.000000",
          "2018-08-20T00:00:00.000000",
          "2018-08-21T00:00:00.000000",
          "2018-08-22T00:00:00.000000",
          "2018-08-23T00:00:00.000000",
          "2018-08-24T00:00:00.000000",
          "2018-08-25T00:00:00.000000",
          "2018-08-26T00:00:00.000000",
          "2018-08-27T00:00:00.000000",
          "2018-08-28T00:00:00.000000",
          "2018-08-29T00:00:00.000000",
          "2018-08-30T00:00:00.000000",
          "2018-08-31T00:00:00.000000",
          "2018-09-01T00:00:00.000000",
          "2018-09-02T00:00:00.000000",
          "2018-09-03T00:00:00.000000",
          "2018-09-04T00:00:00.000000",
          "2018-09-05T00:00:00.000000",
          "2018-09-06T00:00:00.000000",
          "2018-09-07T00:00:00.000000",
          "2018-09-08T00:00:00.000000",
          "2018-09-09T00:00:00.000000",
          "2018-09-10T00:00:00.000000",
          "2018-09-11T00:00:00.000000",
          "2018-09-12T00:00:00.000000",
          "2018-09-13T00:00:00.000000",
          "2018-09-14T00:00:00.000000",
          "2018-09-15T00:00:00.000000",
          "2018-09-16T00:00:00.000000",
          "2018-09-17T00:00:00.000000",
          "2018-09-18T00:00:00.000000",
          "2018-09-19T00:00:00.000000",
          "2018-09-20T00:00:00.000000",
          "2018-09-21T00:00:00.000000",
          "2018-09-22T00:00:00.000000",
          "2018-09-23T00:00:00.000000",
          "2018-09-24T00:00:00.000000",
          "2018-09-25T00:00:00.000000",
          "2018-09-26T00:00:00.000000",
          "2018-09-27T00:00:00.000000",
          "2018-09-28T00:00:00.000000",
          "2018-09-29T00:00:00.000000",
          "2018-09-30T00:00:00.000000",
          "2018-10-01T00:00:00.000000",
          "2018-10-02T00:00:00.000000",
          "2018-10-03T00:00:00.000000",
          "2018-10-04T00:00:00.000000",
          "2018-10-05T00:00:00.000000",
          "2018-10-06T00:00:00.000000",
          "2018-10-07T00:00:00.000000",
          "2018-10-08T00:00:00.000000",
          "2018-10-09T00:00:00.000000",
          "2018-10-10T00:00:00.000000",
          "2018-10-11T00:00:00.000000",
          "2018-10-12T00:00:00.000000",
          "2018-10-13T00:00:00.000000",
          "2018-10-14T00:00:00.000000",
          "2018-10-15T00:00:00.000000",
          "2018-10-16T00:00:00.000000",
          "2018-10-17T00:00:00.000000",
          "2018-10-18T00:00:00.000000",
          "2018-10-19T00:00:00.000000",
          "2018-10-20T00:00:00.000000",
          "2018-10-21T00:00:00.000000",
          "2018-10-22T00:00:00.000000",
          "2018-10-23T00:00:00.000000",
          "2018-10-24T00:00:00.000000",
          "2018-10-25T00:00:00.000000",
          "2018-10-26T00:00:00.000000",
          "2018-10-27T00:00:00.000000",
          "2018-10-28T00:00:00.000000",
          "2018-10-29T00:00:00.000000",
          "2018-10-30T00:00:00.000000",
          "2018-10-31T00:00:00.000000",
          "2018-11-01T00:00:00.000000",
          "2018-11-02T00:00:00.000000",
          "2018-11-03T00:00:00.000000",
          "2018-11-04T00:00:00.000000",
          "2018-11-05T00:00:00.000000",
          "2018-11-06T00:00:00.000000",
          "2018-11-07T00:00:00.000000",
          "2018-11-08T00:00:00.000000",
          "2018-11-09T00:00:00.000000",
          "2018-11-10T00:00:00.000000",
          "2018-11-11T00:00:00.000000",
          "2018-11-12T00:00:00.000000",
          "2018-11-13T00:00:00.000000",
          "2018-11-14T00:00:00.000000",
          "2018-11-15T00:00:00.000000",
          "2018-11-16T00:00:00.000000",
          "2018-11-17T00:00:00.000000",
          "2018-11-18T00:00:00.000000",
          "2018-11-19T00:00:00.000000",
          "2018-11-20T00:00:00.000000",
          "2018-11-21T00:00:00.000000",
          "2018-11-22T00:00:00.000000",
          "2018-11-23T00:00:00.000000",
          "2018-11-24T00:00:00.000000",
          "2018-11-25T00:00:00.000000",
          "2018-11-26T00:00:00.000000",
          "2018-11-27T00:00:00.000000",
          "2018-11-28T00:00:00.000000",
          "2018-11-29T00:00:00.000000",
          "2018-11-30T00:00:00.000000",
          "2018-12-01T00:00:00.000000",
          "2018-12-02T00:00:00.000000",
          "2018-12-03T00:00:00.000000",
          "2018-12-04T00:00:00.000000",
          "2018-12-05T00:00:00.000000",
          "2018-12-06T00:00:00.000000",
          "2018-12-07T00:00:00.000000",
          "2018-12-08T00:00:00.000000",
          "2018-12-09T00:00:00.000000",
          "2018-12-10T00:00:00.000000",
          "2018-12-11T00:00:00.000000",
          "2018-12-12T00:00:00.000000",
          "2018-12-13T00:00:00.000000",
          "2018-12-14T00:00:00.000000",
          "2018-12-15T00:00:00.000000",
          "2018-12-16T00:00:00.000000",
          "2018-12-17T00:00:00.000000",
          "2018-12-18T00:00:00.000000",
          "2018-12-19T00:00:00.000000",
          "2018-12-20T00:00:00.000000",
          "2018-12-21T00:00:00.000000",
          "2018-12-22T00:00:00.000000",
          "2018-12-23T00:00:00.000000",
          "2018-12-24T00:00:00.000000",
          "2018-12-25T00:00:00.000000",
          "2018-12-26T00:00:00.000000",
          "2018-12-27T00:00:00.000000",
          "2018-12-28T00:00:00.000000",
          "2018-12-29T00:00:00.000000",
          "2018-12-30T00:00:00.000000",
          "2018-12-31T00:00:00.000000",
          "2019-01-01T00:00:00.000000",
          "2019-01-02T00:00:00.000000",
          "2019-01-03T00:00:00.000000",
          "2019-01-04T00:00:00.000000",
          "2019-01-05T00:00:00.000000",
          "2019-01-06T00:00:00.000000",
          "2019-01-07T00:00:00.000000",
          "2019-01-08T00:00:00.000000",
          "2019-01-09T00:00:00.000000",
          "2019-01-10T00:00:00.000000",
          "2019-01-11T00:00:00.000000",
          "2019-01-12T00:00:00.000000",
          "2019-01-13T00:00:00.000000",
          "2019-01-14T00:00:00.000000",
          "2019-01-15T00:00:00.000000",
          "2019-01-16T00:00:00.000000",
          "2019-01-17T00:00:00.000000",
          "2019-01-18T00:00:00.000000",
          "2019-01-19T00:00:00.000000",
          "2019-01-20T00:00:00.000000",
          "2019-01-21T00:00:00.000000",
          "2019-01-22T00:00:00.000000",
          "2019-01-23T00:00:00.000000",
          "2019-01-24T00:00:00.000000",
          "2019-01-25T00:00:00.000000",
          "2019-01-26T00:00:00.000000",
          "2019-01-27T00:00:00.000000",
          "2019-01-28T00:00:00.000000",
          "2019-01-29T00:00:00.000000",
          "2019-01-30T00:00:00.000000",
          "2019-01-31T00:00:00.000000",
          "2019-02-01T00:00:00.000000",
          "2019-02-02T00:00:00.000000",
          "2019-02-03T00:00:00.000000",
          "2019-02-04T00:00:00.000000",
          "2019-02-05T00:00:00.000000",
          "2019-02-06T00:00:00.000000",
          "2019-02-07T00:00:00.000000",
          "2019-02-08T00:00:00.000000",
          "2019-02-09T00:00:00.000000",
          "2019-02-10T00:00:00.000000",
          "2019-02-11T00:00:00.000000",
          "2019-02-12T00:00:00.000000",
          "2019-02-13T00:00:00.000000",
          "2019-02-14T00:00:00.000000",
          "2019-02-15T00:00:00.000000",
          "2019-02-16T00:00:00.000000",
          "2019-02-17T00:00:00.000000",
          "2019-02-18T00:00:00.000000",
          "2019-02-19T00:00:00.000000",
          "2019-02-20T00:00:00.000000",
          "2019-02-21T00:00:00.000000",
          "2019-02-22T00:00:00.000000",
          "2019-02-23T00:00:00.000000",
          "2019-02-24T00:00:00.000000",
          "2019-02-25T00:00:00.000000",
          "2019-02-26T00:00:00.000000",
          "2019-02-27T00:00:00.000000",
          "2019-02-28T00:00:00.000000",
          "2019-03-01T00:00:00.000000",
          "2019-03-02T00:00:00.000000",
          "2019-03-03T00:00:00.000000",
          "2019-03-04T00:00:00.000000",
          "2019-03-05T00:00:00.000000",
          "2019-03-06T00:00:00.000000",
          "2019-03-07T00:00:00.000000",
          "2019-03-08T00:00:00.000000",
          "2019-03-09T00:00:00.000000",
          "2019-03-10T00:00:00.000000",
          "2019-03-11T00:00:00.000000",
          "2019-03-12T00:00:00.000000",
          "2019-03-13T00:00:00.000000",
          "2019-03-14T00:00:00.000000",
          "2019-03-15T00:00:00.000000",
          "2019-03-16T00:00:00.000000",
          "2019-03-17T00:00:00.000000",
          "2019-03-18T00:00:00.000000",
          "2019-03-19T00:00:00.000000",
          "2019-03-20T00:00:00.000000",
          "2019-03-21T00:00:00.000000",
          "2019-03-22T00:00:00.000000",
          "2019-03-23T00:00:00.000000",
          "2019-03-24T00:00:00.000000",
          "2019-03-25T00:00:00.000000",
          "2019-03-26T00:00:00.000000",
          "2019-03-27T00:00:00.000000",
          "2019-03-28T00:00:00.000000",
          "2019-03-29T00:00:00.000000",
          "2019-03-30T00:00:00.000000",
          "2019-03-31T00:00:00.000000",
          "2019-04-01T00:00:00.000000",
          "2019-04-02T00:00:00.000000",
          "2019-04-03T00:00:00.000000",
          "2019-04-04T00:00:00.000000",
          "2019-04-05T00:00:00.000000",
          "2019-04-06T00:00:00.000000",
          "2019-04-07T00:00:00.000000",
          "2019-04-08T00:00:00.000000",
          "2019-04-09T00:00:00.000000",
          "2019-04-10T00:00:00.000000",
          "2019-04-11T00:00:00.000000",
          "2019-04-12T00:00:00.000000",
          "2019-04-13T00:00:00.000000",
          "2019-04-14T00:00:00.000000",
          "2019-04-15T00:00:00.000000",
          "2019-04-16T00:00:00.000000",
          "2019-04-17T00:00:00.000000",
          "2019-04-18T00:00:00.000000",
          "2019-04-19T00:00:00.000000",
          "2019-04-20T00:00:00.000000",
          "2019-04-21T00:00:00.000000",
          "2019-04-22T00:00:00.000000",
          "2019-04-23T00:00:00.000000",
          "2019-04-24T00:00:00.000000",
          "2019-04-25T00:00:00.000000",
          "2019-04-26T00:00:00.000000",
          "2019-04-27T00:00:00.000000",
          "2019-04-28T00:00:00.000000",
          "2019-04-29T00:00:00.000000",
          "2019-04-30T00:00:00.000000",
          "2019-05-01T00:00:00.000000",
          "2019-05-02T00:00:00.000000",
          "2019-05-03T00:00:00.000000",
          "2019-05-04T00:00:00.000000",
          "2019-05-05T00:00:00.000000",
          "2019-05-06T00:00:00.000000",
          "2019-05-07T00:00:00.000000",
          "2019-05-08T00:00:00.000000",
          "2019-05-09T00:00:00.000000",
          "2019-05-10T00:00:00.000000",
          "2019-05-11T00:00:00.000000",
          "2019-05-12T00:00:00.000000",
          "2019-05-13T00:00:00.000000",
          "2019-05-14T00:00:00.000000",
          "2019-05-15T00:00:00.000000",
          "2019-05-16T00:00:00.000000",
          "2019-05-17T00:00:00.000000",
          "2019-05-18T00:00:00.000000",
          "2019-05-19T00:00:00.000000",
          "2019-05-20T00:00:00.000000",
          "2019-05-21T00:00:00.000000",
          "2019-05-22T00:00:00.000000",
          "2019-05-23T00:00:00.000000",
          "2019-05-24T00:00:00.000000",
          "2019-05-25T00:00:00.000000",
          "2019-05-26T00:00:00.000000",
          "2019-05-27T00:00:00.000000",
          "2019-05-28T00:00:00.000000",
          "2019-05-29T00:00:00.000000",
          "2019-05-30T00:00:00.000000",
          "2019-05-31T00:00:00.000000",
          "2019-06-01T00:00:00.000000",
          "2019-06-02T00:00:00.000000",
          "2019-06-03T00:00:00.000000",
          "2019-06-04T00:00:00.000000",
          "2019-06-05T00:00:00.000000",
          "2019-06-06T00:00:00.000000",
          "2019-06-07T00:00:00.000000",
          "2019-06-08T00:00:00.000000",
          "2019-06-09T00:00:00.000000",
          "2019-06-10T00:00:00.000000",
          "2019-06-11T00:00:00.000000",
          "2019-06-12T00:00:00.000000",
          "2019-06-13T00:00:00.000000",
          "2019-06-14T00:00:00.000000",
          "2019-06-15T00:00:00.000000",
          "2019-06-16T00:00:00.000000",
          "2019-06-17T00:00:00.000000",
          "2019-06-18T00:00:00.000000",
          "2019-06-19T00:00:00.000000",
          "2019-06-20T00:00:00.000000",
          "2019-06-21T00:00:00.000000",
          "2019-06-22T00:00:00.000000",
          "2019-06-23T00:00:00.000000",
          "2019-06-24T00:00:00.000000",
          "2019-06-25T00:00:00.000000",
          "2019-06-26T00:00:00.000000",
          "2019-06-27T00:00:00.000000",
          "2019-06-28T00:00:00.000000",
          "2019-06-29T00:00:00.000000",
          "2019-06-30T00:00:00.000000",
          "2019-07-01T00:00:00.000000",
          "2019-07-02T00:00:00.000000",
          "2019-07-03T00:00:00.000000",
          "2019-07-04T00:00:00.000000",
          "2019-07-05T00:00:00.000000",
          "2019-07-06T00:00:00.000000",
          "2019-07-07T00:00:00.000000",
          "2019-07-08T00:00:00.000000",
          "2019-07-09T00:00:00.000000",
          "2019-07-10T00:00:00.000000",
          "2019-07-11T00:00:00.000000",
          "2019-07-12T00:00:00.000000",
          "2019-07-13T00:00:00.000000",
          "2019-07-14T00:00:00.000000",
          "2019-07-15T00:00:00.000000",
          "2019-07-16T00:00:00.000000",
          "2019-07-17T00:00:00.000000",
          "2019-07-18T00:00:00.000000",
          "2019-07-19T00:00:00.000000",
          "2019-07-20T00:00:00.000000",
          "2019-07-21T00:00:00.000000",
          "2019-07-22T00:00:00.000000",
          "2019-07-23T00:00:00.000000",
          "2019-07-24T00:00:00.000000",
          "2019-07-25T00:00:00.000000",
          "2019-07-26T00:00:00.000000",
          "2019-07-27T00:00:00.000000",
          "2019-07-28T00:00:00.000000",
          "2019-07-29T00:00:00.000000",
          "2019-07-30T00:00:00.000000",
          "2019-07-31T00:00:00.000000",
          "2019-08-01T00:00:00.000000",
          "2019-08-02T00:00:00.000000",
          "2019-08-03T00:00:00.000000",
          "2019-08-04T00:00:00.000000",
          "2019-08-05T00:00:00.000000",
          "2019-08-06T00:00:00.000000",
          "2019-08-07T00:00:00.000000",
          "2019-08-08T00:00:00.000000",
          "2019-08-09T00:00:00.000000",
          "2019-08-10T00:00:00.000000",
          "2019-08-11T00:00:00.000000",
          "2019-08-12T00:00:00.000000",
          "2019-08-13T00:00:00.000000",
          "2019-08-14T00:00:00.000000",
          "2019-08-15T00:00:00.000000",
          "2019-08-16T00:00:00.000000",
          "2019-08-17T00:00:00.000000",
          "2019-08-18T00:00:00.000000",
          "2019-08-19T00:00:00.000000",
          "2019-08-20T00:00:00.000000",
          "2019-08-21T00:00:00.000000",
          "2019-08-22T00:00:00.000000",
          "2019-08-23T00:00:00.000000",
          "2019-08-24T00:00:00.000000",
          "2019-08-25T00:00:00.000000",
          "2019-08-26T00:00:00.000000",
          "2019-08-27T00:00:00.000000",
          "2019-08-28T00:00:00.000000",
          "2019-08-29T00:00:00.000000",
          "2019-08-30T00:00:00.000000",
          "2019-08-31T00:00:00.000000",
          "2019-09-01T00:00:00.000000",
          "2019-09-02T00:00:00.000000",
          "2019-09-03T00:00:00.000000",
          "2019-09-04T00:00:00.000000",
          "2019-09-05T00:00:00.000000",
          "2019-09-06T00:00:00.000000",
          "2019-09-07T00:00:00.000000",
          "2019-09-08T00:00:00.000000",
          "2019-09-09T00:00:00.000000",
          "2019-09-10T00:00:00.000000",
          "2019-09-11T00:00:00.000000",
          "2019-09-12T00:00:00.000000",
          "2019-09-13T00:00:00.000000",
          "2019-09-14T00:00:00.000000",
          "2019-09-15T00:00:00.000000",
          "2019-09-16T00:00:00.000000",
          "2019-09-17T00:00:00.000000",
          "2019-09-18T00:00:00.000000",
          "2019-09-19T00:00:00.000000",
          "2019-09-20T00:00:00.000000",
          "2019-09-21T00:00:00.000000",
          "2019-09-22T00:00:00.000000",
          "2019-09-23T00:00:00.000000",
          "2019-09-24T00:00:00.000000",
          "2019-09-25T00:00:00.000000",
          "2019-09-26T00:00:00.000000",
          "2019-09-27T00:00:00.000000",
          "2019-09-28T00:00:00.000000",
          "2019-09-29T00:00:00.000000",
          "2019-09-30T00:00:00.000000",
          "2019-10-01T00:00:00.000000",
          "2019-10-02T00:00:00.000000",
          "2019-10-03T00:00:00.000000",
          "2019-10-04T00:00:00.000000",
          "2019-10-05T00:00:00.000000",
          "2019-10-06T00:00:00.000000",
          "2019-10-07T00:00:00.000000",
          "2019-10-08T00:00:00.000000",
          "2019-10-09T00:00:00.000000",
          "2019-10-10T00:00:00.000000",
          "2019-10-11T00:00:00.000000",
          "2019-10-12T00:00:00.000000",
          "2019-10-13T00:00:00.000000",
          "2019-10-14T00:00:00.000000",
          "2019-10-15T00:00:00.000000",
          "2019-10-16T00:00:00.000000",
          "2019-10-17T00:00:00.000000",
          "2019-10-18T00:00:00.000000",
          "2019-10-19T00:00:00.000000",
          "2019-10-20T00:00:00.000000",
          "2019-10-21T00:00:00.000000",
          "2019-10-22T00:00:00.000000",
          "2019-10-23T00:00:00.000000",
          "2019-10-24T00:00:00.000000",
          "2019-10-25T00:00:00.000000",
          "2019-10-26T00:00:00.000000",
          "2019-10-27T00:00:00.000000",
          "2019-10-28T00:00:00.000000",
          "2019-10-29T00:00:00.000000",
          "2019-10-30T00:00:00.000000",
          "2019-10-31T00:00:00.000000",
          "2019-11-01T00:00:00.000000",
          "2019-11-02T00:00:00.000000",
          "2019-11-03T00:00:00.000000",
          "2019-11-04T00:00:00.000000",
          "2019-11-05T00:00:00.000000",
          "2019-11-06T00:00:00.000000",
          "2019-11-07T00:00:00.000000",
          "2019-11-08T00:00:00.000000",
          "2019-11-09T00:00:00.000000",
          "2019-11-10T00:00:00.000000",
          "2019-11-11T00:00:00.000000",
          "2019-11-12T00:00:00.000000",
          "2019-11-13T00:00:00.000000",
          "2019-11-14T00:00:00.000000",
          "2019-11-15T00:00:00.000000",
          "2019-11-16T00:00:00.000000",
          "2019-11-17T00:00:00.000000",
          "2019-11-18T00:00:00.000000",
          "2019-11-19T00:00:00.000000",
          "2019-11-20T00:00:00.000000",
          "2019-11-21T00:00:00.000000",
          "2019-11-22T00:00:00.000000",
          "2019-11-23T00:00:00.000000",
          "2019-11-24T00:00:00.000000",
          "2019-11-25T00:00:00.000000",
          "2019-11-26T00:00:00.000000",
          "2019-11-27T00:00:00.000000",
          "2019-11-28T00:00:00.000000",
          "2019-11-29T00:00:00.000000",
          "2019-11-30T00:00:00.000000",
          "2019-12-01T00:00:00.000000",
          "2019-12-02T00:00:00.000000",
          "2019-12-03T00:00:00.000000",
          "2019-12-04T00:00:00.000000",
          "2019-12-05T00:00:00.000000",
          "2019-12-06T00:00:00.000000",
          "2019-12-07T00:00:00.000000",
          "2019-12-08T00:00:00.000000",
          "2019-12-09T00:00:00.000000",
          "2019-12-10T00:00:00.000000",
          "2019-12-11T00:00:00.000000",
          "2019-12-12T00:00:00.000000",
          "2019-12-13T00:00:00.000000",
          "2019-12-14T00:00:00.000000",
          "2019-12-15T00:00:00.000000",
          "2019-12-16T00:00:00.000000",
          "2019-12-17T00:00:00.000000",
          "2019-12-18T00:00:00.000000",
          "2019-12-19T00:00:00.000000",
          "2019-12-20T00:00:00.000000",
          "2019-12-21T00:00:00.000000",
          "2019-12-22T00:00:00.000000",
          "2019-12-23T00:00:00.000000",
          "2019-12-24T00:00:00.000000",
          "2019-12-25T00:00:00.000000",
          "2019-12-26T00:00:00.000000",
          "2019-12-27T00:00:00.000000",
          "2019-12-28T00:00:00.000000",
          "2019-12-29T00:00:00.000000",
          "2019-12-30T00:00:00.000000",
          "2019-12-31T00:00:00.000000",
          "2020-01-01T00:00:00.000000",
          "2020-01-02T00:00:00.000000",
          "2020-01-03T00:00:00.000000",
          "2020-01-04T00:00:00.000000",
          "2020-01-05T00:00:00.000000",
          "2020-01-06T00:00:00.000000",
          "2020-01-07T00:00:00.000000",
          "2020-01-08T00:00:00.000000",
          "2020-01-09T00:00:00.000000",
          "2020-01-10T00:00:00.000000",
          "2020-01-11T00:00:00.000000",
          "2020-01-12T00:00:00.000000",
          "2020-01-13T00:00:00.000000",
          "2020-01-14T00:00:00.000000",
          "2020-01-15T00:00:00.000000",
          "2020-01-16T00:00:00.000000",
          "2020-01-17T00:00:00.000000",
          "2020-01-18T00:00:00.000000",
          "2020-01-19T00:00:00.000000",
          "2020-01-20T00:00:00.000000",
          "2020-01-21T00:00:00.000000",
          "2020-01-22T00:00:00.000000",
          "2020-01-23T00:00:00.000000",
          "2020-01-24T00:00:00.000000",
          "2020-01-25T00:00:00.000000",
          "2020-01-26T00:00:00.000000",
          "2020-01-27T00:00:00.000000",
          "2020-01-28T00:00:00.000000",
          "2020-01-29T00:00:00.000000",
          "2020-01-30T00:00:00.000000",
          "2020-01-31T00:00:00.000000",
          "2020-02-01T00:00:00.000000",
          "2020-02-02T00:00:00.000000",
          "2020-02-03T00:00:00.000000",
          "2020-02-04T00:00:00.000000",
          "2020-02-05T00:00:00.000000",
          "2020-02-06T00:00:00.000000",
          "2020-02-07T00:00:00.000000",
          "2020-02-08T00:00:00.000000",
          "2020-02-09T00:00:00.000000",
          "2020-02-10T00:00:00.000000",
          "2020-02-11T00:00:00.000000",
          "2020-02-12T00:00:00.000000",
          "2020-02-13T00:00:00.000000",
          "2020-02-14T00:00:00.000000",
          "2020-02-15T00:00:00.000000",
          "2020-02-16T00:00:00.000000",
          "2020-02-17T00:00:00.000000",
          "2020-02-18T00:00:00.000000",
          "2020-02-19T00:00:00.000000",
          "2020-02-20T00:00:00.000000",
          "2020-02-21T00:00:00.000000",
          "2020-02-22T00:00:00.000000",
          "2020-02-23T00:00:00.000000",
          "2020-02-24T00:00:00.000000",
          "2020-02-25T00:00:00.000000",
          "2020-02-26T00:00:00.000000",
          "2020-02-27T00:00:00.000000",
          "2020-02-28T00:00:00.000000",
          "2020-02-29T00:00:00.000000",
          "2020-03-01T00:00:00.000000",
          "2020-03-02T00:00:00.000000",
          "2020-03-03T00:00:00.000000",
          "2020-03-04T00:00:00.000000",
          "2020-03-05T00:00:00.000000",
          "2020-03-06T00:00:00.000000",
          "2020-03-07T00:00:00.000000",
          "2020-03-08T00:00:00.000000",
          "2020-03-09T00:00:00.000000",
          "2020-03-10T00:00:00.000000",
          "2020-03-11T00:00:00.000000",
          "2020-03-12T00:00:00.000000",
          "2020-03-13T00:00:00.000000",
          "2020-03-14T00:00:00.000000",
          "2020-03-15T00:00:00.000000",
          "2020-03-16T00:00:00.000000",
          "2020-03-17T00:00:00.000000",
          "2020-03-18T00:00:00.000000",
          "2020-03-19T00:00:00.000000",
          "2020-03-20T00:00:00.000000",
          "2020-03-21T00:00:00.000000",
          "2020-03-22T00:00:00.000000",
          "2020-03-23T00:00:00.000000",
          "2020-03-24T00:00:00.000000",
          "2020-03-25T00:00:00.000000",
          "2020-03-26T00:00:00.000000",
          "2020-03-27T00:00:00.000000",
          "2020-03-28T00:00:00.000000",
          "2020-03-29T00:00:00.000000",
          "2020-03-30T00:00:00.000000",
          "2020-03-31T00:00:00.000000",
          "2020-04-01T00:00:00.000000",
          "2020-04-02T00:00:00.000000",
          "2020-04-03T00:00:00.000000",
          "2020-04-04T00:00:00.000000",
          "2020-04-05T00:00:00.000000",
          "2020-04-06T00:00:00.000000",
          "2020-04-07T00:00:00.000000",
          "2020-04-08T00:00:00.000000",
          "2020-04-09T00:00:00.000000",
          "2020-04-10T00:00:00.000000",
          "2020-04-11T00:00:00.000000",
          "2020-04-12T00:00:00.000000",
          "2020-04-13T00:00:00.000000",
          "2020-04-14T00:00:00.000000",
          "2020-04-15T00:00:00.000000",
          "2020-04-16T00:00:00.000000",
          "2020-04-17T00:00:00.000000",
          "2020-04-18T00:00:00.000000",
          "2020-04-19T00:00:00.000000",
          "2020-04-20T00:00:00.000000",
          "2020-04-21T00:00:00.000000",
          "2020-04-22T00:00:00.000000",
          "2020-04-23T00:00:00.000000",
          "2020-04-24T00:00:00.000000",
          "2020-04-25T00:00:00.000000",
          "2020-04-26T00:00:00.000000",
          "2020-04-27T00:00:00.000000",
          "2020-04-28T00:00:00.000000",
          "2020-04-29T00:00:00.000000",
          "2020-04-30T00:00:00.000000",
          "2020-05-01T00:00:00.000000",
          "2020-05-02T00:00:00.000000",
          "2020-05-03T00:00:00.000000",
          "2020-05-04T00:00:00.000000",
          "2020-05-05T00:00:00.000000",
          "2020-05-06T00:00:00.000000",
          "2020-05-07T00:00:00.000000",
          "2020-05-08T00:00:00.000000",
          "2020-05-09T00:00:00.000000",
          "2020-05-10T00:00:00.000000",
          "2020-05-11T00:00:00.000000",
          "2020-05-12T00:00:00.000000",
          "2020-05-13T00:00:00.000000",
          "2020-05-14T00:00:00.000000",
          "2020-05-15T00:00:00.000000",
          "2020-05-16T00:00:00.000000",
          "2020-05-17T00:00:00.000000",
          "2020-05-18T00:00:00.000000",
          "2020-05-19T00:00:00.000000",
          "2020-05-20T00:00:00.000000",
          "2020-05-21T00:00:00.000000",
          "2020-05-22T00:00:00.000000",
          "2020-05-23T00:00:00.000000",
          "2020-05-24T00:00:00.000000",
          "2020-05-25T00:00:00.000000",
          "2020-05-26T00:00:00.000000",
          "2020-05-27T00:00:00.000000",
          "2020-05-28T00:00:00.000000",
          "2020-05-29T00:00:00.000000",
          "2020-05-30T00:00:00.000000",
          "2020-05-31T00:00:00.000000",
          "2020-06-01T00:00:00.000000",
          "2020-06-02T00:00:00.000000",
          "2020-06-03T00:00:00.000000",
          "2020-06-04T00:00:00.000000",
          "2020-06-05T00:00:00.000000",
          "2020-06-06T00:00:00.000000",
          "2020-06-07T00:00:00.000000",
          "2020-06-08T00:00:00.000000",
          "2020-06-09T00:00:00.000000",
          "2020-06-10T00:00:00.000000",
          "2020-06-11T00:00:00.000000",
          "2020-06-12T00:00:00.000000",
          "2020-06-13T00:00:00.000000",
          "2020-06-14T00:00:00.000000",
          "2020-06-15T00:00:00.000000",
          "2020-06-16T00:00:00.000000",
          "2020-06-17T00:00:00.000000",
          "2020-06-18T00:00:00.000000",
          "2020-06-19T00:00:00.000000",
          "2020-06-20T00:00:00.000000",
          "2020-06-21T00:00:00.000000",
          "2020-06-22T00:00:00.000000",
          "2020-06-23T00:00:00.000000",
          "2020-06-24T00:00:00.000000",
          "2020-06-25T00:00:00.000000",
          "2020-06-26T00:00:00.000000",
          "2020-06-27T00:00:00.000000",
          "2020-06-28T00:00:00.000000",
          "2020-06-29T00:00:00.000000",
          "2020-06-30T00:00:00.000000",
          "2020-07-01T00:00:00.000000",
          "2020-07-02T00:00:00.000000",
          "2020-07-03T00:00:00.000000",
          "2020-07-04T00:00:00.000000",
          "2020-07-05T00:00:00.000000",
          "2020-07-06T00:00:00.000000",
          "2020-07-07T00:00:00.000000",
          "2020-07-08T00:00:00.000000",
          "2020-07-09T00:00:00.000000",
          "2020-07-10T00:00:00.000000",
          "2020-07-11T00:00:00.000000",
          "2020-07-12T00:00:00.000000",
          "2020-07-13T00:00:00.000000",
          "2020-07-14T00:00:00.000000",
          "2020-07-15T00:00:00.000000",
          "2020-07-16T00:00:00.000000",
          "2020-07-17T00:00:00.000000",
          "2020-07-18T00:00:00.000000",
          "2020-07-19T00:00:00.000000",
          "2020-07-20T00:00:00.000000",
          "2020-07-21T00:00:00.000000",
          "2020-07-22T00:00:00.000000",
          "2020-07-23T00:00:00.000000",
          "2020-07-24T00:00:00.000000",
          "2020-07-25T00:00:00.000000",
          "2020-07-26T00:00:00.000000",
          "2020-07-27T00:00:00.000000",
          "2020-07-28T00:00:00.000000",
          "2020-07-29T00:00:00.000000",
          "2020-07-30T00:00:00.000000",
          "2020-07-31T00:00:00.000000",
          "2020-08-01T00:00:00.000000",
          "2020-08-02T00:00:00.000000",
          "2020-08-03T00:00:00.000000",
          "2020-08-04T00:00:00.000000",
          "2020-08-05T00:00:00.000000",
          "2020-08-06T00:00:00.000000",
          "2020-08-07T00:00:00.000000",
          "2020-08-08T00:00:00.000000",
          "2020-08-09T00:00:00.000000",
          "2020-08-10T00:00:00.000000",
          "2020-08-11T00:00:00.000000",
          "2020-08-12T00:00:00.000000",
          "2020-08-13T00:00:00.000000",
          "2020-08-14T00:00:00.000000",
          "2020-08-15T00:00:00.000000",
          "2020-08-16T00:00:00.000000",
          "2020-08-17T00:00:00.000000",
          "2020-08-18T00:00:00.000000",
          "2020-08-19T00:00:00.000000",
          "2020-08-20T00:00:00.000000",
          "2020-08-21T00:00:00.000000",
          "2020-08-22T00:00:00.000000",
          "2020-08-23T00:00:00.000000",
          "2020-08-24T00:00:00.000000",
          "2020-08-25T00:00:00.000000",
          "2020-08-26T00:00:00.000000",
          "2020-08-27T00:00:00.000000",
          "2020-08-28T00:00:00.000000",
          "2020-08-29T00:00:00.000000",
          "2020-08-30T00:00:00.000000",
          "2020-08-31T00:00:00.000000",
          "2020-09-01T00:00:00.000000",
          "2020-09-02T00:00:00.000000",
          "2020-09-03T00:00:00.000000",
          "2020-09-04T00:00:00.000000",
          "2020-09-05T00:00:00.000000",
          "2020-09-06T00:00:00.000000",
          "2020-09-07T00:00:00.000000",
          "2020-09-08T00:00:00.000000",
          "2020-09-09T00:00:00.000000",
          "2020-09-10T00:00:00.000000",
          "2020-09-11T00:00:00.000000",
          "2020-09-12T00:00:00.000000",
          "2020-09-13T00:00:00.000000",
          "2020-09-14T00:00:00.000000",
          "2020-09-15T00:00:00.000000",
          "2020-09-16T00:00:00.000000",
          "2020-09-17T00:00:00.000000",
          "2020-09-18T00:00:00.000000",
          "2020-09-19T00:00:00.000000",
          "2020-09-20T00:00:00.000000",
          "2020-09-21T00:00:00.000000",
          "2020-09-22T00:00:00.000000",
          "2020-09-23T00:00:00.000000",
          "2020-09-24T00:00:00.000000",
          "2020-09-25T00:00:00.000000",
          "2020-09-26T00:00:00.000000",
          "2020-09-27T00:00:00.000000",
          "2020-09-28T00:00:00.000000",
          "2020-09-29T00:00:00.000000",
          "2020-09-30T00:00:00.000000",
          "2020-10-01T00:00:00.000000",
          "2020-10-02T00:00:00.000000",
          "2020-10-03T00:00:00.000000",
          "2020-10-04T00:00:00.000000",
          "2020-10-05T00:00:00.000000",
          "2020-10-06T00:00:00.000000",
          "2020-10-07T00:00:00.000000",
          "2020-10-08T00:00:00.000000",
          "2020-10-09T00:00:00.000000",
          "2020-10-10T00:00:00.000000",
          "2020-10-11T00:00:00.000000",
          "2020-10-12T00:00:00.000000",
          "2020-10-13T00:00:00.000000",
          "2020-10-14T00:00:00.000000",
          "2020-10-15T00:00:00.000000",
          "2020-10-16T00:00:00.000000",
          "2020-10-17T00:00:00.000000",
          "2020-10-18T00:00:00.000000",
          "2020-10-19T00:00:00.000000",
          "2020-10-20T00:00:00.000000",
          "2020-10-21T00:00:00.000000",
          "2020-10-22T00:00:00.000000",
          "2020-10-23T00:00:00.000000",
          "2020-10-24T00:00:00.000000",
          "2020-10-25T00:00:00.000000",
          "2020-10-26T00:00:00.000000",
          "2020-10-27T00:00:00.000000",
          "2020-10-28T00:00:00.000000",
          "2020-10-29T00:00:00.000000",
          "2020-10-30T00:00:00.000000",
          "2020-10-31T00:00:00.000000",
          "2020-11-01T00:00:00.000000",
          "2020-11-02T00:00:00.000000",
          "2020-11-03T00:00:00.000000",
          "2020-11-04T00:00:00.000000",
          "2020-11-05T00:00:00.000000",
          "2020-11-06T00:00:00.000000",
          "2020-11-07T00:00:00.000000",
          "2020-11-08T00:00:00.000000"
         ],
         "y": {
          "dtype": "float64",
          "shape": [
           2245
          ]
         }
        },
        {
         "customdata": [
          [
           "0.424528726415519",
           "0.09990009990008275",
           "Long",
           "0"
          ],
          [
           "0.424528726415519",
           "0.11805719352889166",
           "Short",
           "1"
          ],
          [
           "0.1012480374755178",
           "0.04537734543577518",
           "Long",
           "2"
          ],
          [
           "0.1012480374755178",
           "0.058497066131855166",
           "Short",
           "3"
          ],
          [
           "0.025365397812270846",
           "0.02339146255451699",
           "Long",
           "4"
          ],
          [
           "0.025365397812270846",
           "0.3836186668934406",
           "Short",
           "5"
          ],
          [
           "0.07671627132890334",
           "0.5754410796108792",
           "Long",
           "6"
          ],
          [
           "0.07671627132890334",
           "0.5063051430520766",
           "Short",
           "7"
          ],
          [
           "0.053362488560261864",
           "0.41457530812414833",
           "Long",
           "8"
          ],
          [
           "0.053362488560261864",
           "0.3928258250368253",
           "Short",
           "9"
          ],
          [
           "0.06700513416766356",
           "0.43647546427619066",
           "Long",
           "10"
          ],
          [
           "0.06700513416766356",
           "0.21797574206350967",
           "Short",
           "11"
          ],
          [
           "0.04460890458749325",
           "0.17388907879440518",
           "Long",
           "12"
          ],
          [
           "0.04460890458749325",
           "0.1820502778886976",
           "Short",
           "13"
          ],
          [
           "0.05348815286035767",
           "0.19813188558837674",
           "Long",
           "14"
          ],
          [
           "0.05348815286035767",
           "0.28338825707710397",
           "Short",
           "15"
          ],
          [
           "0.03212754700349542",
           "0.21225963499172779",
           "Long",
           "16"
          ],
          [
           "0.03212754700349542",
           "0.2306526556512546",
           "Short",
           "17"
          ],
          [
           "0.017584538340294435",
           "0.16285040956945157",
           "Long",
           "18"
          ]
         ],
         "hovertemplate": "%{x}<br>Price: %{y}<br>Size: %{customdata[0]:.4f}<br>Fees: %{customdata[1]:.4f}<br>Direction: %{customdata[2]}<br>Position: %{customdata[3]}",
         "marker": {
          "color": "#4285F4",
          "line": {
           "color": "rgb(11,84,205)",
           "width": 1
          },
          "size": 7,
          "symbol": "circle"
         },
         "mode": "markers",
         "name": "Entry",
         "type": "scatter",
         "uid": "baa07c0d-2ab1-43ec-bf91-b6e5ae374688",
         "x": [
          "2015-05-22T00:00:00.000000",
          "2015-07-17T00:00:00.000000",
          "2016-01-12T00:00:00.000000",
          "2016-08-17T00:00:00.000000",
          "2016-12-24T00:00:00.000000",
          "2018-01-09T00:00:00.000000",
          "2018-06-05T00:00:00.000000",
          "2018-07-05T00:00:00.000000",
          "2018-08-01T00:00:00.000000",
          "2018-09-05T00:00:00.000000",
          "2018-09-17T00:00:00.000000",
          "2018-12-17T00:00:00.000000",
          "2018-12-22T00:00:00.000000",
          "2018-12-25T00:00:00.000000",
          "2019-01-15T00:00:00.000000",
          "2019-04-19T00:00:00.000000",
          "2020-04-02T00:00:00.000000",
          "2020-04-08T00:00:00.000000",
          "2020-06-26T00:00:00.000000"
         ],
         "y": {
          "dtype": "float64",
          "shape": [
           19
          ]
         }
        },
        {
         "customdata": [],
         "hovertemplate": "%{x}<br>Price: %{y}<br>Size: %{customdata[0]:.4f}<br>Fees: %{customdata[1]:.4f}<br>PnL: %{customdata[2]:.4f}<br>Return: %{customdata[3]:.2%}<br>Direction: %{customdata[4]}<br>Position: %{customdata[5]}<br>Duration: %{customdata[6]}",
         "marker": {
          "color": "#E2E2E2",
          "line": {
           "color": "rgb(158,158,158)",
           "width": 1
          },
          "size": 7,
          "symbol": "circle"
         },
         "mode": "markers",
         "name": "Exit",
         "type": "scatter",
         "uid": "57f12a20-0d62-47c7-b44b-4399f5728f65",
         "x": [],
         "y": {
          "dtype": "float64",
          "shape": [
           0
          ]
         }
        },
        {
         "customdata": [
          [
           "0.424528726415519",
           "0.11805719352889166",
           "17.939136335362768",
           "0.17957075471698128",
           "Long",
           "0",
           "56 days 00:00:00"
          ],
          [
           "0.1012480374755178",
           "0.058497066131855166",
           "13.015846284509964",
           "0.2868357802668571",
           "Long",
           "2",
           "218 days 00:00:00"
          ],
          [
           "0.025365397812270846",
           "0.3836186668934406",
           "359.82019420947273",
           "15.382543668264333",
           "Long",
           "4",
           "381 days 00:00:00"
          ],
          [
           "0.025365397812270846",
           "0.19026331245003203",
           "192.78147246403472",
           "0.502534128553198",
           "Short",
           "5",
           "147 days 00:00:00"
          ],
          [
           "0.053362488560261864",
           "0.34760645223084363",
           "44.478940528698196",
           "0.11322814767722703",
           "Short",
           "9",
           "12 days 00:00:00"
          ],
          [
           "0.04460890458749325",
           "0.1820502778886976",
           "7.805259737598796",
           "0.044886428703361764",
           "Long",
           "12",
           "3 days 00:00:00"
          ],
          [
           "0.04460890458749325",
           "0.16524119655106978",
           "16.461789863173582",
           "0.09042441491486235",
           "Short",
           "13",
           "21 days 00:00:00"
          ],
          [
           "0.05348815286035767",
           "0.28338825707710397",
           "84.77485134604439",
           "0.4278708149084017",
           "Long",
           "14",
           "94 days 00:00:00"
          ],
          [
           "0.03212754700349542",
           "0.2306526556512546",
           "17.95010836885815",
           "0.08456675415255253",
           "Long",
           "16",
           "6 days 00:00:00"
          ],
          [
           "0.017584538340294435",
           "0.19518538620575038",
           "31.976940840508412",
           "0.1963577551020409",
           "Long",
           "18",
           "34 days 00:00:00"
          ]
         ],
         "hovertemplate": "%{x}<br>Price: %{y}<br>Size: %{customdata[0]:.4f}<br>Fees: %{customdata[1]:.4f}<br>PnL: %{customdata[2]:.4f}<br>Return: %{customdata[3]:.2%}<br>Direction: %{customdata[4]}<br>Position: %{customdata[5]}<br>Duration: %{customdata[6]}",
         "marker": {
          "color": "#37B13F",
          "line": {
           "color": "rgb(38,123,44)",
           "width": 1
          },
          "size": 7,
          "symbol": "circle"
         },
         "mode": "markers",
         "name": "Exit - Profit",
         "type": "scatter",
         "uid": "bedaf178-0c85-4497-8dc1-10167f204f9a",
         "x": [
          "2015-07-17T00:00:00.000000",
          "2016-08-17T00:00:00.000000",
          "2018-01-09T00:00:00.000000",
          "2018-06-05T00:00:00.000000",
          "2018-09-17T00:00:00.000000",
          "2018-12-25T00:00:00.000000",
          "2019-01-15T00:00:00.000000",
          "2019-04-19T00:00:00.000000",
          "2020-04-08T00:00:00.000000",
          "2020-07-30T00:00:00.000000"
         ],
         "y": {
          "dtype": "float64",
          "shape": [
           10
          ]
         }
        },
        {
         "customdata": [
          [
           "0.424528726415519",
           "0.19026528460489725",
           "-72.51641355414942",
           "-0.6142481570714518",
           "Short",
           "1",
           "179 days 00:00:00"
          ],
          [
           "0.1012480374755178",
           "0.09336891519916132",
           "-35.02371504864886",
           "-0.5987260108003322",
           "Short",
           "3",
           "129 days 00:00:00"
          ],
          [
           "0.07671627132890334",
           "0.5063051430520766",
           "-70.2176827815573",
           "-0.12202410510738687",
           "Long",
           "6",
           "30 days 00:00:00"
          ],
          [
           "0.07671627132890334",
           "0.5960117806050047",
           "-90.8089544766837",
           "-0.1793561762562294",
           "Short",
           "7",
           "27 days 00:00:00"
          ],
          [
           "0.053362488560261864",
           "0.3928258250368253",
           "-22.5568842205525",
           "-0.054409618176762986",
           "Long",
           "8",
           "35 days 00:00:00"
          ],
          [
           "0.06700513416766356",
           "0.21797574206350967",
           "-219.15417341904055",
           "-0.5020996398559424",
           "Long",
           "10",
           "91 days 00:00:00"
          ],
          [
           "0.06700513416766356",
           "0.2611913733962701",
           "-43.69479844823605",
           "-0.20045716112531953",
           "Short",
           "11",
           "5 days 00:00:00"
          ],
          [
           "0.05348815286035767",
           "0.35338445855471107",
           "-70.63297419328171",
           "-0.24924453441295547",
           "Short",
           "15",
           "349 days 00:00:00"
          ],
          [
           "0.03212754700349542",
           "0.29753321279934336",
           "-67.4087430165671",
           "-0.2922521868488205",
           "Short",
           "17",
           "79 days 00:00:00"
          ]
         ],
         "hovertemplate": "%{x}<br>Price: %{y}<br>Size: %{customdata[0]:.4f}<br>Fees: %{customdata[1]:.4f}<br>PnL: %{customdata[2]:.4f}<br>Return: %{customdata[3]:.2%}<br>Direction: %{customdata[4]}<br>Position: %{customdata[5]}<br>Duration: %{customdata[6]}",
         "marker": {
          "color": "#EA4335",
          "line": {
           "color": "rgb(181,31,18)",
           "width": 1
          },
          "size": 7,
          "symbol": "circle"
         },
         "mode": "markers",
         "name": "Exit - Loss",
         "type": "scatter",
         "uid": "13a3cdc0-7b75-43de-b9d9-493bf27832cd",
         "x": [
          "2016-01-12T00:00:00.000000",
          "2016-12-24T00:00:00.000000",
          "2018-07-05T00:00:00.000000",
          "2018-08-01T00:00:00.000000",
          "2018-09-05T00:00:00.000000",
          "2018-12-17T00:00:00.000000",
          "2018-12-22T00:00:00.000000",
          "2020-04-02T00:00:00.000000",
          "2020-06-26T00:00:00.000000"
         ],
         "y": {
          "dtype": "float64",
          "shape": [
           9
          ]
         }
        },
        {
         "customdata": [],
         "hovertemplate": "%{x}<br>Price: %{y}<br>Size: %{customdata[0]:.4f}<br>Fees: %{customdata[1]:.4f}<br>PnL: %{customdata[2]:.4f}<br>Return: %{customdata[3]:.2%}<br>Direction: %{customdata[4]}<br>Position: %{customdata[5]}<br>Duration: %{customdata[6]}",
         "marker": {
          "color": "#FFAA00",
          "line": {
           "color": "rgb(178,118,0)",
           "width": 1
          },
          "size": 7,
          "symbol": "circle"
         },
         "mode": "markers",
         "name": "Active",
         "type": "scatter",
         "uid": "807bd75d-428b-46a7-92c9-889cac6ebe17",
         "x": [],
         "y": {
          "dtype": "float64",
          "shape": [
           0
          ]
         }
        }
       ],
       "_js2py_pointsCallback": {},
       "_js2py_relayout": {},
       "_js2py_restyle": {},
       "_js2py_update": {},
       "_last_layout_edit_id": 26,
       "_last_trace_edit_id": 7,
       "_layout": {
        "autosize": false,
        "colorway": [
         "#1f77b4",
         "#ff7f0e",
         "#2ca02c",
         "#dc3912",
         "#9467bd",
         "#8c564b",
         "#e377c2",
         "#7f7f7f",
         "#bcbd22",
         "#17becf"
        ],
        "height": 300,
        "hovermode": "closest",
        "margin": {
         "b": 30,
         "t": 30
        },
        "shapes": [
         {
          "fillcolor": "green",
          "layer": "below",
          "line": {
           "width": 0
          },
          "opacity": 0.15,
          "type": "rect",
          "x0": "2015-05-22T00:00:00.000000",
          "x1": "2015-07-17T00:00:00.000000",
          "xref": "x",
          "y0": 235.32,
          "y1": 278.09,
          "yref": "y"
         },
         {
          "fillcolor": "green",
          "layer": "below",
          "line": {
           "width": 0
          },
          "opacity": 0.15,
          "type": "rect",
          "x0": "2016-01-12T00:00:00.000000",
          "x1": "2016-08-17T00:00:00.000000",
          "xref": "x",
          "y0": 448.18,
          "y1": 577.76,
          "yref": "y"
         },
         {
          "fillcolor": "green",
          "layer": "below",
          "line": {
           "width": 0
          },
          "opacity": 0.15,
          "type": "rect",
          "x0": "2016-12-24T00:00:00.000000",
          "x1": "2018-01-09T00:00:00.000000",
          "xref": "x",
          "y0": 922.1799999999998,
          "y1": 15123.7,
          "yref": "y"
         },
         {
          "fillcolor": "green",
          "layer": "below",
          "line": {
           "width": 0
          },
          "opacity": 0.15,
          "type": "rect",
          "x0": "2018-01-09T00:00:00.000000",
          "x1": "2018-06-05T00:00:00.000000",
          "xref": "x",
          "y0": 15123.7,
          "y1": 7500.9,
          "yref": "y"
         },
         {
          "fillcolor": "green",
          "layer": "below",
          "line": {
           "width": 0
          },
          "opacity": 0.15,
          "type": "rect",
          "x0": "2018-09-05T00:00:00.000000",
          "x1": "2018-09-17T00:00:00.000000",
          "xref": "x",
          "y0": 7361.459999999999,
          "y1": 6514.06,
          "yref": "y"
         },
         {
          "fillcolor": "green",
          "layer": "below",
          "line": {
           "width": 0
          },
          "opacity": 0.15,
          "type": "rect",
          "x0": "2018-12-22T00:00:00.000000",
          "x1": "2018-12-25T00:00:00.000000",
          "xref": "x",
          "y0": 3898.08,
          "y1": 4081.03,
          "yref": "y"
         },
         {
          "fillcolor": "green",
          "layer": "below",
          "line": {
           "width": 0
          },
          "opacity": 0.15,
          "type": "rect",
          "x0": "2018-12-25T00:00:00.000000",
          "x1": "2019-01-15T00:00:00.000000",
          "xref": "x",
          "y0": 4081.03,
          "y1": 3704.22,
          "yref": "y"
         },
         {
          "fillcolor": "green",
          "layer": "below",
          "line": {
           "width": 0
          },
          "opacity": 0.15,
          "type": "rect",
          "x0": "2019-01-15T00:00:00.000000",
          "x1": "2019-04-19T00:00:00.000000",
          "xref": "x",
          "y0": 3704.22,
          "y1": 5298.15,
          "yref": "y"
         },
         {
          "fillcolor": "green",
          "layer": "below",
          "line": {
           "width": 0
          },
          "opacity": 0.15,
          "type": "rect",
          "x0": "2020-04-02T00:00:00.000000",
          "x1": "2020-04-08T00:00:00.000000",
          "xref": "x",
          "y0": 6606.78,
          "y1": 7179.28,
          "yref": "y"
         },
         {
          "fillcolor": "green",
          "layer": "below",
          "line": {
           "width": 0
          },
          "opacity": 0.15,
          "type": "rect",
          "x0": "2020-06-26T00:00:00.000000",
          "x1": "2020-07-30T00:00:00.000000",
          "xref": "x",
          "y0": 9261,
          "y1": 11099.83,
          "yref": "y"
         },
         {
          "fillcolor": "red",
          "layer": "below",
          "line": {
           "width": 0
          },
          "opacity": 0.15,
          "type": "rect",
          "x0": "2015-07-17T00:00:00.000000",
          "x1": "2016-01-12T00:00:00.000000",
          "xref": "x",
          "y0": 278.09,
          "y1": 448.18,
          "yref": "y"
         },
         {
          "fillcolor": "red",
          "layer": "below",
          "line": {
           "width": 0
          },
          "opacity": 0.15,
          "type": "rect",
          "x0": "2016-08-17T00:00:00.000000",
          "x1": "2016-12-24T00:00:00.000000",
          "xref": "x",
          "y0": 577.76,
          "y1": 922.18,
          "yref": "y"
         },
         {
          "fillcolor": "red",
          "layer": "below",
          "line": {
           "width": 0
          },
          "opacity": 0.15,
          "type": "rect",
          "x0": "2018-06-05T00:00:00.000000",
          "x1": "2018-07-05T00:00:00.000000",
          "xref": "x",
          "y0": 7500.899999999999,
          "y1": 6599.71,
          "yref": "y"
         },
         {
          "fillcolor": "red",
          "layer": "below",
          "line": {
           "width": 0
          },
          "opacity": 0.15,
          "type": "rect",
          "x0": "2018-07-05T00:00:00.000000",
          "x1": "2018-08-01T00:00:00.000000",
          "xref": "x",
          "y0": 6599.71,
          "y1": 7769.04,
          "yref": "y"
         },
         {
          "fillcolor": "red",
          "layer": "below",
          "line": {
           "width": 0
          },
          "opacity": 0.15,
          "type": "rect",
          "x0": "2018-08-01T00:00:00.000000",
          "x1": "2018-09-05T00:00:00.000000",
          "xref": "x",
          "y0": 7769.039999999999,
          "y1": 7361.46,
          "yref": "y"
         },
         {
          "fillcolor": "red",
          "layer": "below",
          "line": {
           "width": 0
          },
          "opacity": 0.15,
          "type": "rect",
          "x0": "2018-09-17T00:00:00.000000",
          "x1": "2018-12-17T00:00:00.000000",
          "xref": "x",
          "y0": 6514.06,
          "y1": 3253.12,
          "yref": "y"
         },
         {
          "fillcolor": "red",
          "layer": "below",
          "line": {
           "width": 0
          },
          "opacity": 0.15,
          "type": "rect",
          "x0": "2018-12-17T00:00:00.000000",
          "x1": "2018-12-22T00:00:00.000000",
          "xref": "x",
          "y0": 3253.12,
          "y1": 3898.08,
          "yref": "y"
         },
         {
          "fillcolor": "red",
          "layer": "below",
          "line": {
           "width": 0
          },
          "opacity": 0.15,
          "type": "rect",
          "x0": "2019-04-19T00:00:00.000000",
          "x1": "2020-04-02T00:00:00.000000",
          "xref": "x",
          "y0": 5298.15,
          "y1": 6606.78,
          "yref": "y"
         },
         {
          "fillcolor": "red",
          "layer": "below",
          "line": {
           "width": 0
          },
          "opacity": 0.15,
          "type": "rect",
          "x0": "2020-04-08T00:00:00.000000",
          "x1": "2020-06-26T00:00:00.000000",
          "xref": "x",
          "y0": 7179.28,
          "y1": 9261,
          "yref": "y"
         }
        ],
        "template": {
         "data": {
          "bar": [
           {
            "error_x": {
             "color": "#2a3f5f"
            },
            "error_y": {
             "color": "#2a3f5f"
            },
            "marker": {
             "line": {
              "color": "#E5ECF6",
              "width": 0.5
             }
            },
            "type": "bar"
           }
          ],
          "barpolar": [
           {
            "marker": {
             "line": {
              "color": "#E5ECF6",
              "width": 0.5
             }
            },
            "type": "barpolar"
           }
          ],
          "carpet": [
           {
            "aaxis": {
             "endlinecolor": "#2a3f5f",
             "gridcolor": "white",
             "linecolor": "white",
             "minorgridcolor": "white",
             "startlinecolor": "#2a3f5f"
            },
            "baxis": {
             "endlinecolor": "#2a3f5f",
             "gridcolor": "white",
             "linecolor": "white",
             "minorgridcolor": "white",
             "startlinecolor": "#2a3f5f"
            },
            "type": "carpet"
           }
          ],
          "choropleth": [
           {
            "colorbar": {
             "outlinewidth": 0,
             "ticks": ""
            },
            "type": "choropleth"
           }
          ],
          "contour": [
           {
            "colorbar": {
             "outlinewidth": 0,
             "ticks": ""
            },
            "colorscale": [
             [
              0,
              "#0d0887"
             ],
             [
              0.1111111111111111,
              "#46039f"
             ],
             [
              0.2222222222222222,
              "#7201a8"
             ],
             [
              0.3333333333333333,
              "#9c179e"
             ],
             [
              0.4444444444444444,
              "#bd3786"
             ],
             [
              0.5555555555555556,
              "#d8576b"
             ],
             [
              0.6666666666666666,
              "#ed7953"
             ],
             [
              0.7777777777777778,
              "#fb9f3a"
             ],
             [
              0.8888888888888888,
              "#fdca26"
             ],
             [
              1,
              "#f0f921"
             ]
            ],
            "type": "contour"
           }
          ],
          "contourcarpet": [
           {
            "colorbar": {
             "outlinewidth": 0,
             "ticks": ""
            },
            "type": "contourcarpet"
           }
          ],
          "heatmap": [
           {
            "colorbar": {
             "outlinewidth": 0,
             "ticks": ""
            },
            "colorscale": [
             [
              0,
              "#0d0887"
             ],
             [
              0.1111111111111111,
              "#46039f"
             ],
             [
              0.2222222222222222,
              "#7201a8"
             ],
             [
              0.3333333333333333,
              "#9c179e"
             ],
             [
              0.4444444444444444,
              "#bd3786"
             ],
             [
              0.5555555555555556,
              "#d8576b"
             ],
             [
              0.6666666666666666,
              "#ed7953"
             ],
             [
              0.7777777777777778,
              "#fb9f3a"
             ],
             [
              0.8888888888888888,
              "#fdca26"
             ],
             [
              1,
              "#f0f921"
             ]
            ],
            "type": "heatmap"
           }
          ],
          "heatmapgl": [
           {
            "colorbar": {
             "outlinewidth": 0,
             "ticks": ""
            },
            "colorscale": [
             [
              0,
              "#0d0887"
             ],
             [
              0.1111111111111111,
              "#46039f"
             ],
             [
              0.2222222222222222,
              "#7201a8"
             ],
             [
              0.3333333333333333,
              "#9c179e"
             ],
             [
              0.4444444444444444,
              "#bd3786"
             ],
             [
              0.5555555555555556,
              "#d8576b"
             ],
             [
              0.6666666666666666,
              "#ed7953"
             ],
             [
              0.7777777777777778,
              "#fb9f3a"
             ],
             [
              0.8888888888888888,
              "#fdca26"
             ],
             [
              1,
              "#f0f921"
             ]
            ],
            "type": "heatmapgl"
           }
          ],
          "histogram": [
           {
            "marker": {
             "colorbar": {
              "outlinewidth": 0,
              "ticks": ""
             }
            },
            "type": "histogram"
           }
          ],
          "histogram2d": [
           {
            "colorbar": {
             "outlinewidth": 0,
             "ticks": ""
            },
            "colorscale": [
             [
              0,
              "#0d0887"
             ],
             [
              0.1111111111111111,
              "#46039f"
             ],
             [
              0.2222222222222222,
              "#7201a8"
             ],
             [
              0.3333333333333333,
              "#9c179e"
             ],
             [
              0.4444444444444444,
              "#bd3786"
             ],
             [
              0.5555555555555556,
              "#d8576b"
             ],
             [
              0.6666666666666666,
              "#ed7953"
             ],
             [
              0.7777777777777778,
              "#fb9f3a"
             ],
             [
              0.8888888888888888,
              "#fdca26"
             ],
             [
              1,
              "#f0f921"
             ]
            ],
            "type": "histogram2d"
           }
          ],
          "histogram2dcontour": [
           {
            "colorbar": {
             "outlinewidth": 0,
             "ticks": ""
            },
            "colorscale": [
             [
              0,
              "#0d0887"
             ],
             [
              0.1111111111111111,
              "#46039f"
             ],
             [
              0.2222222222222222,
              "#7201a8"
             ],
             [
              0.3333333333333333,
              "#9c179e"
             ],
             [
              0.4444444444444444,
              "#bd3786"
             ],
             [
              0.5555555555555556,
              "#d8576b"
             ],
             [
              0.6666666666666666,
              "#ed7953"
             ],
             [
              0.7777777777777778,
              "#fb9f3a"
             ],
             [
              0.8888888888888888,
              "#fdca26"
             ],
             [
              1,
              "#f0f921"
             ]
            ],
            "type": "histogram2dcontour"
           }
          ],
          "mesh3d": [
           {
            "colorbar": {
             "outlinewidth": 0,
             "ticks": ""
            },
            "type": "mesh3d"
           }
          ],
          "parcoords": [
           {
            "line": {
             "colorbar": {
              "outlinewidth": 0,
              "ticks": ""
             }
            },
            "type": "parcoords"
           }
          ],
          "pie": [
           {
            "automargin": true,
            "type": "pie"
           }
          ],
          "scatter": [
           {
            "marker": {
             "colorbar": {
              "outlinewidth": 0,
              "ticks": ""
             }
            },
            "type": "scatter"
           }
          ],
          "scatter3d": [
           {
            "line": {
             "colorbar": {
              "outlinewidth": 0,
              "ticks": ""
             }
            },
            "marker": {
             "colorbar": {
              "outlinewidth": 0,
              "ticks": ""
             }
            },
            "type": "scatter3d"
           }
          ],
          "scattercarpet": [
           {
            "marker": {
             "colorbar": {
              "outlinewidth": 0,
              "ticks": ""
             }
            },
            "type": "scattercarpet"
           }
          ],
          "scattergeo": [
           {
            "marker": {
             "colorbar": {
              "outlinewidth": 0,
              "ticks": ""
             }
            },
            "type": "scattergeo"
           }
          ],
          "scattergl": [
           {
            "marker": {
             "colorbar": {
              "outlinewidth": 0,
              "ticks": ""
             }
            },
            "type": "scattergl"
           }
          ],
          "scattermapbox": [
           {
            "marker": {
             "colorbar": {
              "outlinewidth": 0,
              "ticks": ""
             }
            },
            "type": "scattermapbox"
           }
          ],
          "scatterpolar": [
           {
            "marker": {
             "colorbar": {
              "outlinewidth": 0,
              "ticks": ""
             }
            },
            "type": "scatterpolar"
           }
          ],
          "scatterpolargl": [
           {
            "marker": {
             "colorbar": {
              "outlinewidth": 0,
              "ticks": ""
             }
            },
            "type": "scatterpolargl"
           }
          ],
          "scatterternary": [
           {
            "marker": {
             "colorbar": {
              "outlinewidth": 0,
              "ticks": ""
             }
            },
            "type": "scatterternary"
           }
          ],
          "surface": [
           {
            "colorbar": {
             "outlinewidth": 0,
             "ticks": ""
            },
            "colorscale": [
             [
              0,
              "#0d0887"
             ],
             [
              0.1111111111111111,
              "#46039f"
             ],
             [
              0.2222222222222222,
              "#7201a8"
             ],
             [
              0.3333333333333333,
              "#9c179e"
             ],
             [
              0.4444444444444444,
              "#bd3786"
             ],
             [
              0.5555555555555556,
              "#d8576b"
             ],
             [
              0.6666666666666666,
              "#ed7953"
             ],
             [
              0.7777777777777778,
              "#fb9f3a"
             ],
             [
              0.8888888888888888,
              "#fdca26"
             ],
             [
              1,
              "#f0f921"
             ]
            ],
            "type": "surface"
           }
          ],
          "table": [
           {
            "cells": {
             "fill": {
              "color": "#EBF0F8"
             },
             "line": {
              "color": "white"
             }
            },
            "header": {
             "fill": {
              "color": "#C8D4E3"
             },
             "line": {
              "color": "white"
             }
            },
            "type": "table"
           }
          ]
         },
         "layout": {
          "annotationdefaults": {
           "arrowcolor": "#2a3f5f",
           "arrowhead": 0,
           "arrowwidth": 1
          },
          "coloraxis": {
           "colorbar": {
            "outlinewidth": 0,
            "ticks": ""
           }
          },
          "colorscale": {
           "diverging": [
            [
             0,
             "#8e0152"
            ],
            [
             0.1,
             "#c51b7d"
            ],
            [
             0.2,
             "#de77ae"
            ],
            [
             0.3,
             "#f1b6da"
            ],
            [
             0.4,
             "#fde0ef"
            ],
            [
             0.5,
             "#f7f7f7"
            ],
            [
             0.6,
             "#e6f5d0"
            ],
            [
             0.7,
             "#b8e186"
            ],
            [
             0.8,
             "#7fbc41"
            ],
            [
             0.9,
             "#4d9221"
            ],
            [
             1,
             "#276419"
            ]
           ],
           "sequential": [
            [
             0,
             "#0d0887"
            ],
            [
             0.1111111111111111,
             "#46039f"
            ],
            [
             0.2222222222222222,
             "#7201a8"
            ],
            [
             0.3333333333333333,
             "#9c179e"
            ],
            [
             0.4444444444444444,
             "#bd3786"
            ],
            [
             0.5555555555555556,
             "#d8576b"
            ],
            [
             0.6666666666666666,
             "#ed7953"
            ],
            [
             0.7777777777777778,
             "#fb9f3a"
            ],
            [
             0.8888888888888888,
             "#fdca26"
            ],
            [
             1,
             "#f0f921"
            ]
           ],
           "sequentialminus": [
            [
             0,
             "#0d0887"
            ],
            [
             0.1111111111111111,
             "#46039f"
            ],
            [
             0.2222222222222222,
             "#7201a8"
            ],
            [
             0.3333333333333333,
             "#9c179e"
            ],
            [
             0.4444444444444444,
             "#bd3786"
            ],
            [
             0.5555555555555556,
             "#d8576b"
            ],
            [
             0.6666666666666666,
             "#ed7953"
            ],
            [
             0.7777777777777778,
             "#fb9f3a"
            ],
            [
             0.8888888888888888,
             "#fdca26"
            ],
            [
             1,
             "#f0f921"
            ]
           ]
          },
          "colorway": [
           "#636efa",
           "#EF553B",
           "#00cc96",
           "#ab63fa",
           "#FFA15A",
           "#19d3f3",
           "#FF6692",
           "#B6E880",
           "#FF97FF",
           "#FECB52"
          ],
          "font": {
           "color": "#2a3f5f"
          },
          "geo": {
           "bgcolor": "white",
           "lakecolor": "white",
           "landcolor": "#E5ECF6",
           "showlakes": true,
           "showland": true,
           "subunitcolor": "white"
          },
          "hoverlabel": {
           "align": "left"
          },
          "hovermode": "closest",
          "mapbox": {
           "style": "light"
          },
          "paper_bgcolor": "white",
          "plot_bgcolor": "#E5ECF6",
          "polar": {
           "angularaxis": {
            "gridcolor": "white",
            "linecolor": "white",
            "ticks": ""
           },
           "bgcolor": "#E5ECF6",
           "radialaxis": {
            "gridcolor": "white",
            "linecolor": "white",
            "ticks": ""
           }
          },
          "scene": {
           "xaxis": {
            "backgroundcolor": "#E5ECF6",
            "gridcolor": "white",
            "gridwidth": 2,
            "linecolor": "white",
            "showbackground": true,
            "ticks": "",
            "zerolinecolor": "white"
           },
           "yaxis": {
            "backgroundcolor": "#E5ECF6",
            "gridcolor": "white",
            "gridwidth": 2,
            "linecolor": "white",
            "showbackground": true,
            "ticks": "",
            "zerolinecolor": "white"
           },
           "zaxis": {
            "backgroundcolor": "#E5ECF6",
            "gridcolor": "white",
            "gridwidth": 2,
            "linecolor": "white",
            "showbackground": true,
            "ticks": "",
            "zerolinecolor": "white"
           }
          },
          "shapedefaults": {
           "line": {
            "color": "#2a3f5f"
           }
          },
          "ternary": {
           "aaxis": {
            "gridcolor": "white",
            "linecolor": "white",
            "ticks": ""
           },
           "baxis": {
            "gridcolor": "white",
            "linecolor": "white",
            "ticks": ""
           },
           "bgcolor": "#E5ECF6",
           "caxis": {
            "gridcolor": "white",
            "linecolor": "white",
            "ticks": ""
           }
          },
          "title": {
           "x": 0.05
          },
          "xaxis": {
           "automargin": true,
           "gridcolor": "white",
           "linecolor": "white",
           "ticks": "",
           "title": {
            "standoff": 15
           },
           "zerolinecolor": "white",
           "zerolinewidth": 2
          },
          "yaxis": {
           "automargin": true,
           "gridcolor": "white",
           "linecolor": "white",
           "ticks": "",
           "title": {
            "standoff": 15
           },
           "zerolinecolor": "white",
           "zerolinewidth": 2
          }
         }
        },
        "width": 700
       },
       "_model_module_version": "^4.8.0",
       "_py2js_animate": {},
       "_py2js_deleteTraces": {},
       "_py2js_moveTraces": {},
       "_py2js_removeLayoutProps": {},
       "_py2js_removeTraceProps": {},
       "_py2js_restyle": {},
       "_view_count": 0,
       "_view_module_version": "^4.8.0"
      }
     },
     "bec0af734e474d33b11fcd444cd8b48d": {
      "buffers": [
       {
        "data": "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",
        "encoding": "base64",
        "path": [
         "_data",
         0,
         "y",
         "value"
        ]
       },
       {
        "data": "CtejcD1qbUA9CtejcGFxQHsUrkfhAnxArkfhehQOgkA8CtejcNGMQJqZmZnZic1AZWZmZuZMvUApXI/Ctce5QNajcD0KWb5AKFyPwnXBvEDD9ShcD3K5QArXo3A9aqlAXI/C9Sh0rkDD9ShcD+KvQD0K16Nw8KxAZmZmZiaytEDhehSux865QOF6FK5HC7xAAAAAAIAWwkA=",
        "encoding": "base64",
        "path": [
         "_data",
         1,
         "y",
         "value"
        ]
       },
       {
        "data": "",
        "encoding": "base64",
        "path": [
         "_data",
         2,
         "y",
         "value"
        ]
       },
       {
        "data": "PQrXo3BhcUCuR+F6FA6CQJqZmZnZic1AZmZmZuZMvUDD9ShcD3K5QMP1KFwP4q9APQrXo3DwrEBmZmZmJrK0QOF6FK5HC7xA16NwPeqtxUA=",
        "encoding": "base64",
        "path": [
         "_data",
         3,
         "y",
         "value"
        ]
       },
       {
        "data": "exSuR+ECfEA9CtejcNGMQClcj8K1x7lA16NwPQpZvkApXI/CdcG8QArXo3A9aqlAXI/C9Sh0rkDhehSux865QAAAAACAFsJA",
        "encoding": "base64",
        "path": [
         "_data",
         4,
         "y",
         "value"
        ]
       },
       {
        "data": "",
        "encoding": "base64",
        "path": [
         "_data",
         5,
         "y",
         "value"
        ]
       }
      ],
      "model_module": "plotlywidget",
      "model_module_version": "^4.8.0",
      "model_name": "FigureModel",
      "state": {
       "_config": {
        "plotlyServerURL": "https://plot.ly"
       },
       "_data": [
        {
         "mode": "lines",
         "name": "('Close', 'Open')",
         "showlegend": true,
         "type": "scatter",
         "uid": "d6c0ee7f-5b2b-40c3-91bc-7709d8e67d27",
         "x": [
          "2014-09-17T00:00:00.000000",
          "2014-09-18T00:00:00.000000",
          "2014-09-19T00:00:00.000000",
          "2014-09-20T00:00:00.000000",
          "2014-09-21T00:00:00.000000",
          "2014-09-22T00:00:00.000000",
          "2014-09-23T00:00:00.000000",
          "2014-09-24T00:00:00.000000",
          "2014-09-25T00:00:00.000000",
          "2014-09-26T00:00:00.000000",
          "2014-09-27T00:00:00.000000",
          "2014-09-28T00:00:00.000000",
          "2014-09-29T00:00:00.000000",
          "2014-09-30T00:00:00.000000",
          "2014-10-01T00:00:00.000000",
          "2014-10-02T00:00:00.000000",
          "2014-10-03T00:00:00.000000",
          "2014-10-04T00:00:00.000000",
          "2014-10-05T00:00:00.000000",
          "2014-10-06T00:00:00.000000",
          "2014-10-07T00:00:00.000000",
          "2014-10-08T00:00:00.000000",
          "2014-10-09T00:00:00.000000",
          "2014-10-10T00:00:00.000000",
          "2014-10-11T00:00:00.000000",
          "2014-10-12T00:00:00.000000",
          "2014-10-13T00:00:00.000000",
          "2014-10-14T00:00:00.000000",
          "2014-10-15T00:00:00.000000",
          "2014-10-16T00:00:00.000000",
          "2014-10-17T00:00:00.000000",
          "2014-10-18T00:00:00.000000",
          "2014-10-19T00:00:00.000000",
          "2014-10-20T00:00:00.000000",
          "2014-10-21T00:00:00.000000",
          "2014-10-22T00:00:00.000000",
          "2014-10-23T00:00:00.000000",
          "2014-10-24T00:00:00.000000",
          "2014-10-25T00:00:00.000000",
          "2014-10-26T00:00:00.000000",
          "2014-10-27T00:00:00.000000",
          "2014-10-28T00:00:00.000000",
          "2014-10-29T00:00:00.000000",
          "2014-10-30T00:00:00.000000",
          "2014-10-31T00:00:00.000000",
          "2014-11-01T00:00:00.000000",
          "2014-11-02T00:00:00.000000",
          "2014-11-03T00:00:00.000000",
          "2014-11-04T00:00:00.000000",
          "2014-11-05T00:00:00.000000",
          "2014-11-06T00:00:00.000000",
          "2014-11-07T00:00:00.000000",
          "2014-11-08T00:00:00.000000",
          "2014-11-09T00:00:00.000000",
          "2014-11-10T00:00:00.000000",
          "2014-11-11T00:00:00.000000",
          "2014-11-12T00:00:00.000000",
          "2014-11-13T00:00:00.000000",
          "2014-11-14T00:00:00.000000",
          "2014-11-15T00:00:00.000000",
          "2014-11-16T00:00:00.000000",
          "2014-11-17T00:00:00.000000",
          "2014-11-18T00:00:00.000000",
          "2014-11-19T00:00:00.000000",
          "2014-11-20T00:00:00.000000",
          "2014-11-21T00:00:00.000000",
          "2014-11-22T00:00:00.000000",
          "2014-11-23T00:00:00.000000",
          "2014-11-24T00:00:00.000000",
          "2014-11-25T00:00:00.000000",
          "2014-11-26T00:00:00.000000",
          "2014-11-27T00:00:00.000000",
          "2014-11-28T00:00:00.000000",
          "2014-11-29T00:00:00.000000",
          "2014-11-30T00:00:00.000000",
          "2014-12-01T00:00:00.000000",
          "2014-12-02T00:00:00.000000",
          "2014-12-03T00:00:00.000000",
          "2014-12-04T00:00:00.000000",
          "2014-12-05T00:00:00.000000",
          "2014-12-06T00:00:00.000000",
          "2014-12-07T00:00:00.000000",
          "2014-12-08T00:00:00.000000",
          "2014-12-09T00:00:00.000000",
          "2014-12-10T00:00:00.000000",
          "2014-12-11T00:00:00.000000",
          "2014-12-12T00:00:00.000000",
          "2014-12-13T00:00:00.000000",
          "2014-12-14T00:00:00.000000",
          "2014-12-15T00:00:00.000000",
          "2014-12-16T00:00:00.000000",
          "2014-12-17T00:00:00.000000",
          "2014-12-18T00:00:00.000000",
          "2014-12-19T00:00:00.000000",
          "2014-12-20T00:00:00.000000",
          "2014-12-21T00:00:00.000000",
          "2014-12-22T00:00:00.000000",
          "2014-12-23T00:00:00.000000",
          "2014-12-24T00:00:00.000000",
          "2014-12-25T00:00:00.000000",
          "2014-12-26T00:00:00.000000",
          "2014-12-27T00:00:00.000000",
          "2014-12-28T00:00:00.000000",
          "2014-12-29T00:00:00.000000",
          "2014-12-30T00:00:00.000000",
          "2014-12-31T00:00:00.000000",
          "2015-01-01T00:00:00.000000",
          "2015-01-02T00:00:00.000000",
          "2015-01-03T00:00:00.000000",
          "2015-01-04T00:00:00.000000",
          "2015-01-05T00:00:00.000000",
          "2015-01-06T00:00:00.000000",
          "2015-01-07T00:00:00.000000",
          "2015-01-08T00:00:00.000000",
          "2015-01-09T00:00:00.000000",
          "2015-01-10T00:00:00.000000",
          "2015-01-11T00:00:00.000000",
          "2015-01-12T00:00:00.000000",
          "2015-01-13T00:00:00.000000",
          "2015-01-14T00:00:00.000000",
          "2015-01-15T00:00:00.000000",
          "2015-01-16T00:00:00.000000",
          "2015-01-17T00:00:00.000000",
          "2015-01-18T00:00:00.000000",
          "2015-01-19T00:00:00.000000",
          "2015-01-20T00:00:00.000000",
          "2015-01-21T00:00:00.000000",
          "2015-01-22T00:00:00.000000",
          "2015-01-23T00:00:00.000000",
          "2015-01-24T00:00:00.000000",
          "2015-01-25T00:00:00.000000",
          "2015-01-26T00:00:00.000000",
          "2015-01-27T00:00:00.000000",
          "2015-01-28T00:00:00.000000",
          "2015-01-29T00:00:00.000000",
          "2015-01-30T00:00:00.000000",
          "2015-01-31T00:00:00.000000",
          "2015-02-01T00:00:00.000000",
          "2015-02-02T00:00:00.000000",
          "2015-02-03T00:00:00.000000",
          "2015-02-04T00:00:00.000000",
          "2015-02-05T00:00:00.000000",
          "2015-02-06T00:00:00.000000",
          "2015-02-07T00:00:00.000000",
          "2015-02-08T00:00:00.000000",
          "2015-02-09T00:00:00.000000",
          "2015-02-10T00:00:00.000000",
          "2015-02-11T00:00:00.000000",
          "2015-02-12T00:00:00.000000",
          "2015-02-13T00:00:00.000000",
          "2015-02-14T00:00:00.000000",
          "2015-02-15T00:00:00.000000",
          "2015-02-16T00:00:00.000000",
          "2015-02-17T00:00:00.000000",
          "2015-02-18T00:00:00.000000",
          "2015-02-19T00:00:00.000000",
          "2015-02-20T00:00:00.000000",
          "2015-02-21T00:00:00.000000",
          "2015-02-22T00:00:00.000000",
          "2015-02-23T00:00:00.000000",
          "2015-02-24T00:00:00.000000",
          "2015-02-25T00:00:00.000000",
          "2015-02-26T00:00:00.000000",
          "2015-02-27T00:00:00.000000",
          "2015-02-28T00:00:00.000000",
          "2015-03-01T00:00:00.000000",
          "2015-03-02T00:00:00.000000",
          "2015-03-03T00:00:00.000000",
          "2015-03-04T00:00:00.000000",
          "2015-03-05T00:00:00.000000",
          "2015-03-06T00:00:00.000000",
          "2015-03-07T00:00:00.000000",
          "2015-03-08T00:00:00.000000",
          "2015-03-09T00:00:00.000000",
          "2015-03-10T00:00:00.000000",
          "2015-03-11T00:00:00.000000",
          "2015-03-12T00:00:00.000000",
          "2015-03-13T00:00:00.000000",
          "2015-03-14T00:00:00.000000",
          "2015-03-15T00:00:00.000000",
          "2015-03-16T00:00:00.000000",
          "2015-03-17T00:00:00.000000",
          "2015-03-18T00:00:00.000000",
          "2015-03-19T00:00:00.000000",
          "2015-03-20T00:00:00.000000",
          "2015-03-21T00:00:00.000000",
          "2015-03-22T00:00:00.000000",
          "2015-03-23T00:00:00.000000",
          "2015-03-24T00:00:00.000000",
          "2015-03-25T00:00:00.000000",
          "2015-03-26T00:00:00.000000",
          "2015-03-27T00:00:00.000000",
          "2015-03-28T00:00:00.000000",
          "2015-03-29T00:00:00.000000",
          "2015-03-30T00:00:00.000000",
          "2015-03-31T00:00:00.000000",
          "2015-04-01T00:00:00.000000",
          "2015-04-02T00:00:00.000000",
          "2015-04-03T00:00:00.000000",
          "2015-04-04T00:00:00.000000",
          "2015-04-05T00:00:00.000000",
          "2015-04-06T00:00:00.000000",
          "2015-04-07T00:00:00.000000",
          "2015-04-08T00:00:00.000000",
          "2015-04-09T00:00:00.000000",
          "2015-04-10T00:00:00.000000",
          "2015-04-11T00:00:00.000000",
          "2015-04-12T00:00:00.000000",
          "2015-04-13T00:00:00.000000",
          "2015-04-14T00:00:00.000000",
          "2015-04-15T00:00:00.000000",
          "2015-04-16T00:00:00.000000",
          "2015-04-17T00:00:00.000000",
          "2015-04-18T00:00:00.000000",
          "2015-04-19T00:00:00.000000",
          "2015-04-20T00:00:00.000000",
          "2015-04-21T00:00:00.000000",
          "2015-04-22T00:00:00.000000",
          "2015-04-23T00:00:00.000000",
          "2015-04-24T00:00:00.000000",
          "2015-04-25T00:00:00.000000",
          "2015-04-26T00:00:00.000000",
          "2015-04-27T00:00:00.000000",
          "2015-04-28T00:00:00.000000",
          "2015-04-29T00:00:00.000000",
          "2015-04-30T00:00:00.000000",
          "2015-05-01T00:00:00.000000",
          "2015-05-02T00:00:00.000000",
          "2015-05-03T00:00:00.000000",
          "2015-05-04T00:00:00.000000",
          "2015-05-05T00:00:00.000000",
          "2015-05-06T00:00:00.000000",
          "2015-05-07T00:00:00.000000",
          "2015-05-08T00:00:00.000000",
          "2015-05-09T00:00:00.000000",
          "2015-05-10T00:00:00.000000",
          "2015-05-11T00:00:00.000000",
          "2015-05-12T00:00:00.000000",
          "2015-05-13T00:00:00.000000",
          "2015-05-14T00:00:00.000000",
          "2015-05-15T00:00:00.000000",
          "2015-05-16T00:00:00.000000",
          "2015-05-17T00:00:00.000000",
          "2015-05-18T00:00:00.000000",
          "2015-05-19T00:00:00.000000",
          "2015-05-20T00:00:00.000000",
          "2015-05-21T00:00:00.000000",
          "2015-05-22T00:00:00.000000",
          "2015-05-23T00:00:00.000000",
          "2015-05-24T00:00:00.000000",
          "2015-05-25T00:00:00.000000",
          "2015-05-26T00:00:00.000000",
          "2015-05-27T00:00:00.000000",
          "2015-05-28T00:00:00.000000",
          "2015-05-29T00:00:00.000000",
          "2015-05-30T00:00:00.000000",
          "2015-05-31T00:00:00.000000",
          "2015-06-01T00:00:00.000000",
          "2015-06-02T00:00:00.000000",
          "2015-06-03T00:00:00.000000",
          "2015-06-04T00:00:00.000000",
          "2015-06-05T00:00:00.000000",
          "2015-06-06T00:00:00.000000",
          "2015-06-07T00:00:00.000000",
          "2015-06-08T00:00:00.000000",
          "2015-06-09T00:00:00.000000",
          "2015-06-10T00:00:00.000000",
          "2015-06-11T00:00:00.000000",
          "2015-06-12T00:00:00.000000",
          "2015-06-13T00:00:00.000000",
          "2015-06-14T00:00:00.000000",
          "2015-06-15T00:00:00.000000",
          "2015-06-16T00:00:00.000000",
          "2015-06-17T00:00:00.000000",
          "2015-06-18T00:00:00.000000",
          "2015-06-19T00:00:00.000000",
          "2015-06-20T00:00:00.000000",
          "2015-06-21T00:00:00.000000",
          "2015-06-22T00:00:00.000000",
          "2015-06-23T00:00:00.000000",
          "2015-06-24T00:00:00.000000",
          "2015-06-25T00:00:00.000000",
          "2015-06-26T00:00:00.000000",
          "2015-06-27T00:00:00.000000",
          "2015-06-28T00:00:00.000000",
          "2015-06-29T00:00:00.000000",
          "2015-06-30T00:00:00.000000",
          "2015-07-01T00:00:00.000000",
          "2015-07-02T00:00:00.000000",
          "2015-07-03T00:00:00.000000",
          "2015-07-04T00:00:00.000000",
          "2015-07-05T00:00:00.000000",
          "2015-07-06T00:00:00.000000",
          "2015-07-07T00:00:00.000000",
          "2015-07-08T00:00:00.000000",
          "2015-07-09T00:00:00.000000",
          "2015-07-10T00:00:00.000000",
          "2015-07-11T00:00:00.000000",
          "2015-07-12T00:00:00.000000",
          "2015-07-13T00:00:00.000000",
          "2015-07-14T00:00:00.000000",
          "2015-07-15T00:00:00.000000",
          "2015-07-16T00:00:00.000000",
          "2015-07-17T00:00:00.000000",
          "2015-07-18T00:00:00.000000",
          "2015-07-19T00:00:00.000000",
          "2015-07-20T00:00:00.000000",
          "2015-07-21T00:00:00.000000",
          "2015-07-22T00:00:00.000000",
          "2015-07-23T00:00:00.000000",
          "2015-07-24T00:00:00.000000",
          "2015-07-25T00:00:00.000000",
          "2015-07-26T00:00:00.000000",
          "2015-07-27T00:00:00.000000",
          "2015-07-28T00:00:00.000000",
          "2015-07-29T00:00:00.000000",
          "2015-07-30T00:00:00.000000",
          "2015-07-31T00:00:00.000000",
          "2015-08-01T00:00:00.000000",
          "2015-08-02T00:00:00.000000",
          "2015-08-03T00:00:00.000000",
          "2015-08-04T00:00:00.000000",
          "2015-08-05T00:00:00.000000",
          "2015-08-06T00:00:00.000000",
          "2015-08-07T00:00:00.000000",
          "2015-08-08T00:00:00.000000",
          "2015-08-09T00:00:00.000000",
          "2015-08-10T00:00:00.000000",
          "2015-08-11T00:00:00.000000",
          "2015-08-12T00:00:00.000000",
          "2015-08-13T00:00:00.000000",
          "2015-08-14T00:00:00.000000",
          "2015-08-15T00:00:00.000000",
          "2015-08-16T00:00:00.000000",
          "2015-08-17T00:00:00.000000",
          "2015-08-18T00:00:00.000000",
          "2015-08-19T00:00:00.000000",
          "2015-08-20T00:00:00.000000",
          "2015-08-21T00:00:00.000000",
          "2015-08-22T00:00:00.000000",
          "2015-08-23T00:00:00.000000",
          "2015-08-24T00:00:00.000000",
          "2015-08-25T00:00:00.000000",
          "2015-08-26T00:00:00.000000",
          "2015-08-27T00:00:00.000000",
          "2015-08-28T00:00:00.000000",
          "2015-08-29T00:00:00.000000",
          "2015-08-30T00:00:00.000000",
          "2015-08-31T00:00:00.000000",
          "2015-09-01T00:00:00.000000",
          "2015-09-02T00:00:00.000000",
          "2015-09-03T00:00:00.000000",
          "2015-09-04T00:00:00.000000",
          "2015-09-05T00:00:00.000000",
          "2015-09-06T00:00:00.000000",
          "2015-09-07T00:00:00.000000",
          "2015-09-08T00:00:00.000000",
          "2015-09-09T00:00:00.000000",
          "2015-09-10T00:00:00.000000",
          "2015-09-11T00:00:00.000000",
          "2015-09-12T00:00:00.000000",
          "2015-09-13T00:00:00.000000",
          "2015-09-14T00:00:00.000000",
          "2015-09-15T00:00:00.000000",
          "2015-09-16T00:00:00.000000",
          "2015-09-17T00:00:00.000000",
          "2015-09-18T00:00:00.000000",
          "2015-09-19T00:00:00.000000",
          "2015-09-20T00:00:00.000000",
          "2015-09-21T00:00:00.000000",
          "2015-09-22T00:00:00.000000",
          "2015-09-23T00:00:00.000000",
          "2015-09-24T00:00:00.000000",
          "2015-09-25T00:00:00.000000",
          "2015-09-26T00:00:00.000000",
          "2015-09-27T00:00:00.000000",
          "2015-09-28T00:00:00.000000",
          "2015-09-29T00:00:00.000000",
          "2015-09-30T00:00:00.000000",
          "2015-10-01T00:00:00.000000",
          "2015-10-02T00:00:00.000000",
          "2015-10-03T00:00:00.000000",
          "2015-10-04T00:00:00.000000",
          "2015-10-05T00:00:00.000000",
          "2015-10-06T00:00:00.000000",
          "2015-10-07T00:00:00.000000",
          "2015-10-08T00:00:00.000000",
          "2015-10-09T00:00:00.000000",
          "2015-10-10T00:00:00.000000",
          "2015-10-11T00:00:00.000000",
          "2015-10-12T00:00:00.000000",
          "2015-10-13T00:00:00.000000",
          "2015-10-14T00:00:00.000000",
          "2015-10-15T00:00:00.000000",
          "2015-10-16T00:00:00.000000",
          "2015-10-17T00:00:00.000000",
          "2015-10-18T00:00:00.000000",
          "2015-10-19T00:00:00.000000",
          "2015-10-20T00:00:00.000000",
          "2015-10-21T00:00:00.000000",
          "2015-10-22T00:00:00.000000",
          "2015-10-23T00:00:00.000000",
          "2015-10-24T00:00:00.000000",
          "2015-10-25T00:00:00.000000",
          "2015-10-26T00:00:00.000000",
          "2015-10-27T00:00:00.000000",
          "2015-10-28T00:00:00.000000",
          "2015-10-29T00:00:00.000000",
          "2015-10-30T00:00:00.000000",
          "2015-10-31T00:00:00.000000",
          "2015-11-01T00:00:00.000000",
          "2015-11-02T00:00:00.000000",
          "2015-11-03T00:00:00.000000",
          "2015-11-04T00:00:00.000000",
          "2015-11-05T00:00:00.000000",
          "2015-11-06T00:00:00.000000",
          "2015-11-07T00:00:00.000000",
          "2015-11-08T00:00:00.000000",
          "2015-11-09T00:00:00.000000",
          "2015-11-10T00:00:00.000000",
          "2015-11-11T00:00:00.000000",
          "2015-11-12T00:00:00.000000",
          "2015-11-13T00:00:00.000000",
          "2015-11-14T00:00:00.000000",
          "2015-11-15T00:00:00.000000",
          "2015-11-16T00:00:00.000000",
          "2015-11-17T00:00:00.000000",
          "2015-11-18T00:00:00.000000",
          "2015-11-19T00:00:00.000000",
          "2015-11-20T00:00:00.000000",
          "2015-11-21T00:00:00.000000",
          "2015-11-22T00:00:00.000000",
          "2015-11-23T00:00:00.000000",
          "2015-11-24T00:00:00.000000",
          "2015-11-25T00:00:00.000000",
          "2015-11-26T00:00:00.000000",
          "2015-11-27T00:00:00.000000",
          "2015-11-28T00:00:00.000000",
          "2015-11-29T00:00:00.000000",
          "2015-11-30T00:00:00.000000",
          "2015-12-01T00:00:00.000000",
          "2015-12-02T00:00:00.000000",
          "2015-12-03T00:00:00.000000",
          "2015-12-04T00:00:00.000000",
          "2015-12-05T00:00:00.000000",
          "2015-12-06T00:00:00.000000",
          "2015-12-07T00:00:00.000000",
          "2015-12-08T00:00:00.000000",
          "2015-12-09T00:00:00.000000",
          "2015-12-10T00:00:00.000000",
          "2015-12-11T00:00:00.000000",
          "2015-12-12T00:00:00.000000",
          "2015-12-13T00:00:00.000000",
          "2015-12-14T00:00:00.000000",
          "2015-12-15T00:00:00.000000",
          "2015-12-16T00:00:00.000000",
          "2015-12-17T00:00:00.000000",
          "2015-12-18T00:00:00.000000",
          "2015-12-19T00:00:00.000000",
          "2015-12-20T00:00:00.000000",
          "2015-12-21T00:00:00.000000",
          "2015-12-22T00:00:00.000000",
          "2015-12-23T00:00:00.000000",
          "2015-12-24T00:00:00.000000",
          "2015-12-25T00:00:00.000000",
          "2015-12-26T00:00:00.000000",
          "2015-12-27T00:00:00.000000",
          "2015-12-28T00:00:00.000000",
          "2015-12-29T00:00:00.000000",
          "2015-12-30T00:00:00.000000",
          "2015-12-31T00:00:00.000000",
          "2016-01-01T00:00:00.000000",
          "2016-01-02T00:00:00.000000",
          "2016-01-03T00:00:00.000000",
          "2016-01-04T00:00:00.000000",
          "2016-01-05T00:00:00.000000",
          "2016-01-06T00:00:00.000000",
          "2016-01-07T00:00:00.000000",
          "2016-01-08T00:00:00.000000",
          "2016-01-09T00:00:00.000000",
          "2016-01-10T00:00:00.000000",
          "2016-01-11T00:00:00.000000",
          "2016-01-12T00:00:00.000000",
          "2016-01-13T00:00:00.000000",
          "2016-01-14T00:00:00.000000",
          "2016-01-15T00:00:00.000000",
          "2016-01-16T00:00:00.000000",
          "2016-01-17T00:00:00.000000",
          "2016-01-18T00:00:00.000000",
          "2016-01-19T00:00:00.000000",
          "2016-01-20T00:00:00.000000",
          "2016-01-21T00:00:00.000000",
          "2016-01-22T00:00:00.000000",
          "2016-01-23T00:00:00.000000",
          "2016-01-24T00:00:00.000000",
          "2016-01-25T00:00:00.000000",
          "2016-01-26T00:00:00.000000",
          "2016-01-27T00:00:00.000000",
          "2016-01-28T00:00:00.000000",
          "2016-01-29T00:00:00.000000",
          "2016-01-30T00:00:00.000000",
          "2016-01-31T00:00:00.000000",
          "2016-02-01T00:00:00.000000",
          "2016-02-02T00:00:00.000000",
          "2016-02-03T00:00:00.000000",
          "2016-02-04T00:00:00.000000",
          "2016-02-05T00:00:00.000000",
          "2016-02-06T00:00:00.000000",
          "2016-02-07T00:00:00.000000",
          "2016-02-08T00:00:00.000000",
          "2016-02-09T00:00:00.000000",
          "2016-02-10T00:00:00.000000",
          "2016-02-11T00:00:00.000000",
          "2016-02-12T00:00:00.000000",
          "2016-02-13T00:00:00.000000",
          "2016-02-14T00:00:00.000000",
          "2016-02-15T00:00:00.000000",
          "2016-02-16T00:00:00.000000",
          "2016-02-17T00:00:00.000000",
          "2016-02-18T00:00:00.000000",
          "2016-02-19T00:00:00.000000",
          "2016-02-20T00:00:00.000000",
          "2016-02-21T00:00:00.000000",
          "2016-02-22T00:00:00.000000",
          "2016-02-23T00:00:00.000000",
          "2016-02-24T00:00:00.000000",
          "2016-02-25T00:00:00.000000",
          "2016-02-26T00:00:00.000000",
          "2016-02-27T00:00:00.000000",
          "2016-02-28T00:00:00.000000",
          "2016-02-29T00:00:00.000000",
          "2016-03-01T00:00:00.000000",
          "2016-03-02T00:00:00.000000",
          "2016-03-03T00:00:00.000000",
          "2016-03-04T00:00:00.000000",
          "2016-03-05T00:00:00.000000",
          "2016-03-06T00:00:00.000000",
          "2016-03-07T00:00:00.000000",
          "2016-03-08T00:00:00.000000",
          "2016-03-09T00:00:00.000000",
          "2016-03-10T00:00:00.000000",
          "2016-03-11T00:00:00.000000",
          "2016-03-12T00:00:00.000000",
          "2016-03-13T00:00:00.000000",
          "2016-03-14T00:00:00.000000",
          "2016-03-15T00:00:00.000000",
          "2016-03-16T00:00:00.000000",
          "2016-03-17T00:00:00.000000",
          "2016-03-18T00:00:00.000000",
          "2016-03-19T00:00:00.000000",
          "2016-03-20T00:00:00.000000",
          "2016-03-21T00:00:00.000000",
          "2016-03-22T00:00:00.000000",
          "2016-03-23T00:00:00.000000",
          "2016-03-24T00:00:00.000000",
          "2016-03-25T00:00:00.000000",
          "2016-03-26T00:00:00.000000",
          "2016-03-27T00:00:00.000000",
          "2016-03-28T00:00:00.000000",
          "2016-03-29T00:00:00.000000",
          "2016-03-30T00:00:00.000000",
          "2016-03-31T00:00:00.000000",
          "2016-04-01T00:00:00.000000",
          "2016-04-02T00:00:00.000000",
          "2016-04-03T00:00:00.000000",
          "2016-04-04T00:00:00.000000",
          "2016-04-05T00:00:00.000000",
          "2016-04-06T00:00:00.000000",
          "2016-04-07T00:00:00.000000",
          "2016-04-08T00:00:00.000000",
          "2016-04-09T00:00:00.000000",
          "2016-04-10T00:00:00.000000",
          "2016-04-11T00:00:00.000000",
          "2016-04-12T00:00:00.000000",
          "2016-04-13T00:00:00.000000",
          "2016-04-14T00:00:00.000000",
          "2016-04-15T00:00:00.000000",
          "2016-04-16T00:00:00.000000",
          "2016-04-17T00:00:00.000000",
          "2016-04-18T00:00:00.000000",
          "2016-04-19T00:00:00.000000",
          "2016-04-20T00:00:00.000000",
          "2016-04-21T00:00:00.000000",
          "2016-04-22T00:00:00.000000",
          "2016-04-23T00:00:00.000000",
          "2016-04-24T00:00:00.000000",
          "2016-04-25T00:00:00.000000",
          "2016-04-26T00:00:00.000000",
          "2016-04-27T00:00:00.000000",
          "2016-04-28T00:00:00.000000",
          "2016-04-29T00:00:00.000000",
          "2016-04-30T00:00:00.000000",
          "2016-05-01T00:00:00.000000",
          "2016-05-02T00:00:00.000000",
          "2016-05-03T00:00:00.000000",
          "2016-05-04T00:00:00.000000",
          "2016-05-05T00:00:00.000000",
          "2016-05-06T00:00:00.000000",
          "2016-05-07T00:00:00.000000",
          "2016-05-08T00:00:00.000000",
          "2016-05-09T00:00:00.000000",
          "2016-05-10T00:00:00.000000",
          "2016-05-11T00:00:00.000000",
          "2016-05-12T00:00:00.000000",
          "2016-05-13T00:00:00.000000",
          "2016-05-14T00:00:00.000000",
          "2016-05-15T00:00:00.000000",
          "2016-05-16T00:00:00.000000",
          "2016-05-17T00:00:00.000000",
          "2016-05-18T00:00:00.000000",
          "2016-05-19T00:00:00.000000",
          "2016-05-20T00:00:00.000000",
          "2016-05-21T00:00:00.000000",
          "2016-05-22T00:00:00.000000",
          "2016-05-23T00:00:00.000000",
          "2016-05-24T00:00:00.000000",
          "2016-05-25T00:00:00.000000",
          "2016-05-26T00:00:00.000000",
          "2016-05-27T00:00:00.000000",
          "2016-05-28T00:00:00.000000",
          "2016-05-29T00:00:00.000000",
          "2016-05-30T00:00:00.000000",
          "2016-05-31T00:00:00.000000",
          "2016-06-01T00:00:00.000000",
          "2016-06-02T00:00:00.000000",
          "2016-06-03T00:00:00.000000",
          "2016-06-04T00:00:00.000000",
          "2016-06-05T00:00:00.000000",
          "2016-06-06T00:00:00.000000",
          "2016-06-07T00:00:00.000000",
          "2016-06-08T00:00:00.000000",
          "2016-06-09T00:00:00.000000",
          "2016-06-10T00:00:00.000000",
          "2016-06-11T00:00:00.000000",
          "2016-06-12T00:00:00.000000",
          "2016-06-13T00:00:00.000000",
          "2016-06-14T00:00:00.000000",
          "2016-06-15T00:00:00.000000",
          "2016-06-16T00:00:00.000000",
          "2016-06-17T00:00:00.000000",
          "2016-06-18T00:00:00.000000",
          "2016-06-19T00:00:00.000000",
          "2016-06-20T00:00:00.000000",
          "2016-06-21T00:00:00.000000",
          "2016-06-22T00:00:00.000000",
          "2016-06-23T00:00:00.000000",
          "2016-06-24T00:00:00.000000",
          "2016-06-25T00:00:00.000000",
          "2016-06-26T00:00:00.000000",
          "2016-06-27T00:00:00.000000",
          "2016-06-28T00:00:00.000000",
          "2016-06-29T00:00:00.000000",
          "2016-06-30T00:00:00.000000",
          "2016-07-01T00:00:00.000000",
          "2016-07-02T00:00:00.000000",
          "2016-07-03T00:00:00.000000",
          "2016-07-04T00:00:00.000000",
          "2016-07-05T00:00:00.000000",
          "2016-07-06T00:00:00.000000",
          "2016-07-07T00:00:00.000000",
          "2016-07-08T00:00:00.000000",
          "2016-07-09T00:00:00.000000",
          "2016-07-10T00:00:00.000000",
          "2016-07-11T00:00:00.000000",
          "2016-07-12T00:00:00.000000",
          "2016-07-13T00:00:00.000000",
          "2016-07-14T00:00:00.000000",
          "2016-07-15T00:00:00.000000",
          "2016-07-16T00:00:00.000000",
          "2016-07-17T00:00:00.000000",
          "2016-07-18T00:00:00.000000",
          "2016-07-19T00:00:00.000000",
          "2016-07-20T00:00:00.000000",
          "2016-07-21T00:00:00.000000",
          "2016-07-22T00:00:00.000000",
          "2016-07-23T00:00:00.000000",
          "2016-07-24T00:00:00.000000",
          "2016-07-25T00:00:00.000000",
          "2016-07-26T00:00:00.000000",
          "2016-07-27T00:00:00.000000",
          "2016-07-28T00:00:00.000000",
          "2016-07-29T00:00:00.000000",
          "2016-07-30T00:00:00.000000",
          "2016-07-31T00:00:00.000000",
          "2016-08-01T00:00:00.000000",
          "2016-08-02T00:00:00.000000",
          "2016-08-03T00:00:00.000000",
          "2016-08-04T00:00:00.000000",
          "2016-08-05T00:00:00.000000",
          "2016-08-06T00:00:00.000000",
          "2016-08-07T00:00:00.000000",
          "2016-08-08T00:00:00.000000",
          "2016-08-09T00:00:00.000000",
          "2016-08-10T00:00:00.000000",
          "2016-08-11T00:00:00.000000",
          "2016-08-12T00:00:00.000000",
          "2016-08-13T00:00:00.000000",
          "2016-08-14T00:00:00.000000",
          "2016-08-15T00:00:00.000000",
          "2016-08-16T00:00:00.000000",
          "2016-08-17T00:00:00.000000",
          "2016-08-18T00:00:00.000000",
          "2016-08-19T00:00:00.000000",
          "2016-08-20T00:00:00.000000",
          "2016-08-21T00:00:00.000000",
          "2016-08-22T00:00:00.000000",
          "2016-08-23T00:00:00.000000",
          "2016-08-24T00:00:00.000000",
          "2016-08-25T00:00:00.000000",
          "2016-08-26T00:00:00.000000",
          "2016-08-27T00:00:00.000000",
          "2016-08-28T00:00:00.000000",
          "2016-08-29T00:00:00.000000",
          "2016-08-30T00:00:00.000000",
          "2016-08-31T00:00:00.000000",
          "2016-09-01T00:00:00.000000",
          "2016-09-02T00:00:00.000000",
          "2016-09-03T00:00:00.000000",
          "2016-09-04T00:00:00.000000",
          "2016-09-05T00:00:00.000000",
          "2016-09-06T00:00:00.000000",
          "2016-09-07T00:00:00.000000",
          "2016-09-08T00:00:00.000000",
          "2016-09-09T00:00:00.000000",
          "2016-09-10T00:00:00.000000",
          "2016-09-11T00:00:00.000000",
          "2016-09-12T00:00:00.000000",
          "2016-09-13T00:00:00.000000",
          "2016-09-14T00:00:00.000000",
          "2016-09-15T00:00:00.000000",
          "2016-09-16T00:00:00.000000",
          "2016-09-17T00:00:00.000000",
          "2016-09-18T00:00:00.000000",
          "2016-09-19T00:00:00.000000",
          "2016-09-20T00:00:00.000000",
          "2016-09-21T00:00:00.000000",
          "2016-09-22T00:00:00.000000",
          "2016-09-23T00:00:00.000000",
          "2016-09-24T00:00:00.000000",
          "2016-09-25T00:00:00.000000",
          "2016-09-26T00:00:00.000000",
          "2016-09-27T00:00:00.000000",
          "2016-09-28T00:00:00.000000",
          "2016-09-29T00:00:00.000000",
          "2016-09-30T00:00:00.000000",
          "2016-10-01T00:00:00.000000",
          "2016-10-02T00:00:00.000000",
          "2016-10-03T00:00:00.000000",
          "2016-10-04T00:00:00.000000",
          "2016-10-05T00:00:00.000000",
          "2016-10-06T00:00:00.000000",
          "2016-10-07T00:00:00.000000",
          "2016-10-08T00:00:00.000000",
          "2016-10-09T00:00:00.000000",
          "2016-10-10T00:00:00.000000",
          "2016-10-11T00:00:00.000000",
          "2016-10-12T00:00:00.000000",
          "2016-10-13T00:00:00.000000",
          "2016-10-14T00:00:00.000000",
          "2016-10-15T00:00:00.000000",
          "2016-10-16T00:00:00.000000",
          "2016-10-17T00:00:00.000000",
          "2016-10-18T00:00:00.000000",
          "2016-10-19T00:00:00.000000",
          "2016-10-20T00:00:00.000000",
          "2016-10-21T00:00:00.000000",
          "2016-10-22T00:00:00.000000",
          "2016-10-23T00:00:00.000000",
          "2016-10-24T00:00:00.000000",
          "2016-10-25T00:00:00.000000",
          "2016-10-26T00:00:00.000000",
          "2016-10-27T00:00:00.000000",
          "2016-10-28T00:00:00.000000",
          "2016-10-29T00:00:00.000000",
          "2016-10-30T00:00:00.000000",
          "2016-10-31T00:00:00.000000",
          "2016-11-01T00:00:00.000000",
          "2016-11-02T00:00:00.000000",
          "2016-11-03T00:00:00.000000",
          "2016-11-04T00:00:00.000000",
          "2016-11-05T00:00:00.000000",
          "2016-11-06T00:00:00.000000",
          "2016-11-07T00:00:00.000000",
          "2016-11-08T00:00:00.000000",
          "2016-11-09T00:00:00.000000",
          "2016-11-10T00:00:00.000000",
          "2016-11-11T00:00:00.000000",
          "2016-11-12T00:00:00.000000",
          "2016-11-13T00:00:00.000000",
          "2016-11-14T00:00:00.000000",
          "2016-11-15T00:00:00.000000",
          "2016-11-16T00:00:00.000000",
          "2016-11-17T00:00:00.000000",
          "2016-11-18T00:00:00.000000",
          "2016-11-19T00:00:00.000000",
          "2016-11-20T00:00:00.000000",
          "2016-11-21T00:00:00.000000",
          "2016-11-22T00:00:00.000000",
          "2016-11-23T00:00:00.000000",
          "2016-11-24T00:00:00.000000",
          "2016-11-25T00:00:00.000000",
          "2016-11-26T00:00:00.000000",
          "2016-11-27T00:00:00.000000",
          "2016-11-28T00:00:00.000000",
          "2016-11-29T00:00:00.000000",
          "2016-11-30T00:00:00.000000",
          "2016-12-01T00:00:00.000000",
          "2016-12-02T00:00:00.000000",
          "2016-12-03T00:00:00.000000",
          "2016-12-04T00:00:00.000000",
          "2016-12-05T00:00:00.000000",
          "2016-12-06T00:00:00.000000",
          "2016-12-07T00:00:00.000000",
          "2016-12-08T00:00:00.000000",
          "2016-12-09T00:00:00.000000",
          "2016-12-10T00:00:00.000000",
          "2016-12-11T00:00:00.000000",
          "2016-12-12T00:00:00.000000",
          "2016-12-13T00:00:00.000000",
          "2016-12-14T00:00:00.000000",
          "2016-12-15T00:00:00.000000",
          "2016-12-16T00:00:00.000000",
          "2016-12-17T00:00:00.000000",
          "2016-12-18T00:00:00.000000",
          "2016-12-19T00:00:00.000000",
          "2016-12-20T00:00:00.000000",
          "2016-12-21T00:00:00.000000",
          "2016-12-22T00:00:00.000000",
          "2016-12-23T00:00:00.000000",
          "2016-12-24T00:00:00.000000",
          "2016-12-25T00:00:00.000000",
          "2016-12-26T00:00:00.000000",
          "2016-12-27T00:00:00.000000",
          "2016-12-28T00:00:00.000000",
          "2016-12-29T00:00:00.000000",
          "2016-12-30T00:00:00.000000",
          "2016-12-31T00:00:00.000000",
          "2017-01-01T00:00:00.000000",
          "2017-01-02T00:00:00.000000",
          "2017-01-03T00:00:00.000000",
          "2017-01-04T00:00:00.000000",
          "2017-01-05T00:00:00.000000",
          "2017-01-06T00:00:00.000000",
          "2017-01-07T00:00:00.000000",
          "2017-01-08T00:00:00.000000",
          "2017-01-09T00:00:00.000000",
          "2017-01-10T00:00:00.000000",
          "2017-01-11T00:00:00.000000",
          "2017-01-12T00:00:00.000000",
          "2017-01-13T00:00:00.000000",
          "2017-01-14T00:00:00.000000",
          "2017-01-15T00:00:00.000000",
          "2017-01-16T00:00:00.000000",
          "2017-01-17T00:00:00.000000",
          "2017-01-18T00:00:00.000000",
          "2017-01-19T00:00:00.000000",
          "2017-01-20T00:00:00.000000",
          "2017-01-21T00:00:00.000000",
          "2017-01-22T00:00:00.000000",
          "2017-01-23T00:00:00.000000",
          "2017-01-24T00:00:00.000000",
          "2017-01-25T00:00:00.000000",
          "2017-01-26T00:00:00.000000",
          "2017-01-27T00:00:00.000000",
          "2017-01-28T00:00:00.000000",
          "2017-01-29T00:00:00.000000",
          "2017-01-30T00:00:00.000000",
          "2017-01-31T00:00:00.000000",
          "2017-02-01T00:00:00.000000",
          "2017-02-02T00:00:00.000000",
          "2017-02-03T00:00:00.000000",
          "2017-02-04T00:00:00.000000",
          "2017-02-05T00:00:00.000000",
          "2017-02-06T00:00:00.000000",
          "2017-02-07T00:00:00.000000",
          "2017-02-08T00:00:00.000000",
          "2017-02-09T00:00:00.000000",
          "2017-02-10T00:00:00.000000",
          "2017-02-11T00:00:00.000000",
          "2017-02-12T00:00:00.000000",
          "2017-02-13T00:00:00.000000",
          "2017-02-14T00:00:00.000000",
          "2017-02-15T00:00:00.000000",
          "2017-02-16T00:00:00.000000",
          "2017-02-17T00:00:00.000000",
          "2017-02-18T00:00:00.000000",
          "2017-02-19T00:00:00.000000",
          "2017-02-20T00:00:00.000000",
          "2017-02-21T00:00:00.000000",
          "2017-02-22T00:00:00.000000",
          "2017-02-23T00:00:00.000000",
          "2017-02-24T00:00:00.000000",
          "2017-02-25T00:00:00.000000",
          "2017-02-26T00:00:00.000000",
          "2017-02-27T00:00:00.000000",
          "2017-02-28T00:00:00.000000",
          "2017-03-01T00:00:00.000000",
          "2017-03-02T00:00:00.000000",
          "2017-03-03T00:00:00.000000",
          "2017-03-04T00:00:00.000000",
          "2017-03-05T00:00:00.000000",
          "2017-03-06T00:00:00.000000",
          "2017-03-07T00:00:00.000000",
          "2017-03-08T00:00:00.000000",
          "2017-03-09T00:00:00.000000",
          "2017-03-10T00:00:00.000000",
          "2017-03-11T00:00:00.000000",
          "2017-03-12T00:00:00.000000",
          "2017-03-13T00:00:00.000000",
          "2017-03-14T00:00:00.000000",
          "2017-03-15T00:00:00.000000",
          "2017-03-16T00:00:00.000000",
          "2017-03-17T00:00:00.000000",
          "2017-03-18T00:00:00.000000",
          "2017-03-19T00:00:00.000000",
          "2017-03-20T00:00:00.000000",
          "2017-03-21T00:00:00.000000",
          "2017-03-22T00:00:00.000000",
          "2017-03-23T00:00:00.000000",
          "2017-03-24T00:00:00.000000",
          "2017-03-25T00:00:00.000000",
          "2017-03-26T00:00:00.000000",
          "2017-03-27T00:00:00.000000",
          "2017-03-28T00:00:00.000000",
          "2017-03-29T00:00:00.000000",
          "2017-03-30T00:00:00.000000",
          "2017-03-31T00:00:00.000000",
          "2017-04-01T00:00:00.000000",
          "2017-04-02T00:00:00.000000",
          "2017-04-03T00:00:00.000000",
          "2017-04-04T00:00:00.000000",
          "2017-04-05T00:00:00.000000",
          "2017-04-06T00:00:00.000000",
          "2017-04-07T00:00:00.000000",
          "2017-04-08T00:00:00.000000",
          "2017-04-09T00:00:00.000000",
          "2017-04-10T00:00:00.000000",
          "2017-04-11T00:00:00.000000",
          "2017-04-12T00:00:00.000000",
          "2017-04-13T00:00:00.000000",
          "2017-04-14T00:00:00.000000",
          "2017-04-15T00:00:00.000000",
          "2017-04-16T00:00:00.000000",
          "2017-04-17T00:00:00.000000",
          "2017-04-18T00:00:00.000000",
          "2017-04-19T00:00:00.000000",
          "2017-04-20T00:00:00.000000",
          "2017-04-21T00:00:00.000000",
          "2017-04-22T00:00:00.000000",
          "2017-04-23T00:00:00.000000",
          "2017-04-24T00:00:00.000000",
          "2017-04-25T00:00:00.000000",
          "2017-04-26T00:00:00.000000",
          "2017-04-27T00:00:00.000000",
          "2017-04-28T00:00:00.000000",
          "2017-04-29T00:00:00.000000",
          "2017-04-30T00:00:00.000000",
          "2017-05-01T00:00:00.000000",
          "2017-05-02T00:00:00.000000",
          "2017-05-03T00:00:00.000000",
          "2017-05-04T00:00:00.000000",
          "2017-05-05T00:00:00.000000",
          "2017-05-06T00:00:00.000000",
          "2017-05-07T00:00:00.000000",
          "2017-05-08T00:00:00.000000",
          "2017-05-09T00:00:00.000000",
          "2017-05-10T00:00:00.000000",
          "2017-05-11T00:00:00.000000",
          "2017-05-12T00:00:00.000000",
          "2017-05-13T00:00:00.000000",
          "2017-05-14T00:00:00.000000",
          "2017-05-15T00:00:00.000000",
          "2017-05-16T00:00:00.000000",
          "2017-05-17T00:00:00.000000",
          "2017-05-18T00:00:00.000000",
          "2017-05-19T00:00:00.000000",
          "2017-05-20T00:00:00.000000",
          "2017-05-21T00:00:00.000000",
          "2017-05-22T00:00:00.000000",
          "2017-05-23T00:00:00.000000",
          "2017-05-24T00:00:00.000000",
          "2017-05-25T00:00:00.000000",
          "2017-05-26T00:00:00.000000",
          "2017-05-27T00:00:00.000000",
          "2017-05-28T00:00:00.000000",
          "2017-05-29T00:00:00.000000",
          "2017-05-30T00:00:00.000000",
          "2017-05-31T00:00:00.000000",
          "2017-06-01T00:00:00.000000",
          "2017-06-02T00:00:00.000000",
          "2017-06-03T00:00:00.000000",
          "2017-06-04T00:00:00.000000",
          "2017-06-05T00:00:00.000000",
          "2017-06-06T00:00:00.000000",
          "2017-06-07T00:00:00.000000",
          "2017-06-08T00:00:00.000000",
          "2017-06-09T00:00:00.000000",
          "2017-06-10T00:00:00.000000",
          "2017-06-11T00:00:00.000000",
          "2017-06-12T00:00:00.000000",
          "2017-06-13T00:00:00.000000",
          "2017-06-14T00:00:00.000000",
          "2017-06-15T00:00:00.000000",
          "2017-06-16T00:00:00.000000",
          "2017-06-17T00:00:00.000000",
          "2017-06-18T00:00:00.000000",
          "2017-06-19T00:00:00.000000",
          "2017-06-20T00:00:00.000000",
          "2017-06-21T00:00:00.000000",
          "2017-06-22T00:00:00.000000",
          "2017-06-23T00:00:00.000000",
          "2017-06-24T00:00:00.000000",
          "2017-06-25T00:00:00.000000",
          "2017-06-26T00:00:00.000000",
          "2017-06-27T00:00:00.000000",
          "2017-06-28T00:00:00.000000",
          "2017-06-29T00:00:00.000000",
          "2017-06-30T00:00:00.000000",
          "2017-07-01T00:00:00.000000",
          "2017-07-02T00:00:00.000000",
          "2017-07-03T00:00:00.000000",
          "2017-07-04T00:00:00.000000",
          "2017-07-05T00:00:00.000000",
          "2017-07-06T00:00:00.000000",
          "2017-07-07T00:00:00.000000",
          "2017-07-08T00:00:00.000000",
          "2017-07-09T00:00:00.000000",
          "2017-07-10T00:00:00.000000",
          "2017-07-11T00:00:00.000000",
          "2017-07-12T00:00:00.000000",
          "2017-07-13T00:00:00.000000",
          "2017-07-14T00:00:00.000000",
          "2017-07-15T00:00:00.000000",
          "2017-07-16T00:00:00.000000",
          "2017-07-17T00:00:00.000000",
          "2017-07-18T00:00:00.000000",
          "2017-07-19T00:00:00.000000",
          "2017-07-20T00:00:00.000000",
          "2017-07-21T00:00:00.000000",
          "2017-07-22T00:00:00.000000",
          "2017-07-23T00:00:00.000000",
          "2017-07-24T00:00:00.000000",
          "2017-07-25T00:00:00.000000",
          "2017-07-26T00:00:00.000000",
          "2017-07-27T00:00:00.000000",
          "2017-07-28T00:00:00.000000",
          "2017-07-29T00:00:00.000000",
          "2017-07-30T00:00:00.000000",
          "2017-07-31T00:00:00.000000",
          "2017-08-01T00:00:00.000000",
          "2017-08-02T00:00:00.000000",
          "2017-08-03T00:00:00.000000",
          "2017-08-04T00:00:00.000000",
          "2017-08-05T00:00:00.000000",
          "2017-08-06T00:00:00.000000",
          "2017-08-07T00:00:00.000000",
          "2017-08-08T00:00:00.000000",
          "2017-08-09T00:00:00.000000",
          "2017-08-10T00:00:00.000000",
          "2017-08-11T00:00:00.000000",
          "2017-08-12T00:00:00.000000",
          "2017-08-13T00:00:00.000000",
          "2017-08-14T00:00:00.000000",
          "2017-08-15T00:00:00.000000",
          "2017-08-16T00:00:00.000000",
          "2017-08-17T00:00:00.000000",
          "2017-08-18T00:00:00.000000",
          "2017-08-19T00:00:00.000000",
          "2017-08-20T00:00:00.000000",
          "2017-08-21T00:00:00.000000",
          "2017-08-22T00:00:00.000000",
          "2017-08-23T00:00:00.000000",
          "2017-08-24T00:00:00.000000",
          "2017-08-25T00:00:00.000000",
          "2017-08-26T00:00:00.000000",
          "2017-08-27T00:00:00.000000",
          "2017-08-28T00:00:00.000000",
          "2017-08-29T00:00:00.000000",
          "2017-08-30T00:00:00.000000",
          "2017-08-31T00:00:00.000000",
          "2017-09-01T00:00:00.000000",
          "2017-09-02T00:00:00.000000",
          "2017-09-03T00:00:00.000000",
          "2017-09-04T00:00:00.000000",
          "2017-09-05T00:00:00.000000",
          "2017-09-06T00:00:00.000000",
          "2017-09-07T00:00:00.000000",
          "2017-09-08T00:00:00.000000",
          "2017-09-09T00:00:00.000000",
          "2017-09-10T00:00:00.000000",
          "2017-09-11T00:00:00.000000",
          "2017-09-12T00:00:00.000000",
          "2017-09-13T00:00:00.000000",
          "2017-09-14T00:00:00.000000",
          "2017-09-15T00:00:00.000000",
          "2017-09-16T00:00:00.000000",
          "2017-09-17T00:00:00.000000",
          "2017-09-18T00:00:00.000000",
          "2017-09-19T00:00:00.000000",
          "2017-09-20T00:00:00.000000",
          "2017-09-21T00:00:00.000000",
          "2017-09-22T00:00:00.000000",
          "2017-09-23T00:00:00.000000",
          "2017-09-24T00:00:00.000000",
          "2017-09-25T00:00:00.000000",
          "2017-09-26T00:00:00.000000",
          "2017-09-27T00:00:00.000000",
          "2017-09-28T00:00:00.000000",
          "2017-09-29T00:00:00.000000",
          "2017-09-30T00:00:00.000000",
          "2017-10-01T00:00:00.000000",
          "2017-10-02T00:00:00.000000",
          "2017-10-03T00:00:00.000000",
          "2017-10-04T00:00:00.000000",
          "2017-10-05T00:00:00.000000",
          "2017-10-06T00:00:00.000000",
          "2017-10-07T00:00:00.000000",
          "2017-10-08T00:00:00.000000",
          "2017-10-09T00:00:00.000000",
          "2017-10-10T00:00:00.000000",
          "2017-10-11T00:00:00.000000",
          "2017-10-12T00:00:00.000000",
          "2017-10-13T00:00:00.000000",
          "2017-10-14T00:00:00.000000",
          "2017-10-15T00:00:00.000000",
          "2017-10-16T00:00:00.000000",
          "2017-10-17T00:00:00.000000",
          "2017-10-18T00:00:00.000000",
          "2017-10-19T00:00:00.000000",
          "2017-10-20T00:00:00.000000",
          "2017-10-21T00:00:00.000000",
          "2017-10-22T00:00:00.000000",
          "2017-10-23T00:00:00.000000",
          "2017-10-24T00:00:00.000000",
          "2017-10-25T00:00:00.000000",
          "2017-10-26T00:00:00.000000",
          "2017-10-27T00:00:00.000000",
          "2017-10-28T00:00:00.000000",
          "2017-10-29T00:00:00.000000",
          "2017-10-30T00:00:00.000000",
          "2017-10-31T00:00:00.000000",
          "2017-11-01T00:00:00.000000",
          "2017-11-02T00:00:00.000000",
          "2017-11-03T00:00:00.000000",
          "2017-11-04T00:00:00.000000",
          "2017-11-05T00:00:00.000000",
          "2017-11-06T00:00:00.000000",
          "2017-11-07T00:00:00.000000",
          "2017-11-08T00:00:00.000000",
          "2017-11-09T00:00:00.000000",
          "2017-11-10T00:00:00.000000",
          "2017-11-11T00:00:00.000000",
          "2017-11-12T00:00:00.000000",
          "2017-11-13T00:00:00.000000",
          "2017-11-14T00:00:00.000000",
          "2017-11-15T00:00:00.000000",
          "2017-11-16T00:00:00.000000",
          "2017-11-17T00:00:00.000000",
          "2017-11-18T00:00:00.000000",
          "2017-11-19T00:00:00.000000",
          "2017-11-20T00:00:00.000000",
          "2017-11-21T00:00:00.000000",
          "2017-11-22T00:00:00.000000",
          "2017-11-23T00:00:00.000000",
          "2017-11-24T00:00:00.000000",
          "2017-11-25T00:00:00.000000",
          "2017-11-26T00:00:00.000000",
          "2017-11-27T00:00:00.000000",
          "2017-11-28T00:00:00.000000",
          "2017-11-29T00:00:00.000000",
          "2017-11-30T00:00:00.000000",
          "2017-12-01T00:00:00.000000",
          "2017-12-02T00:00:00.000000",
          "2017-12-03T00:00:00.000000",
          "2017-12-04T00:00:00.000000",
          "2017-12-05T00:00:00.000000",
          "2017-12-06T00:00:00.000000",
          "2017-12-07T00:00:00.000000",
          "2017-12-08T00:00:00.000000",
          "2017-12-09T00:00:00.000000",
          "2017-12-10T00:00:00.000000",
          "2017-12-11T00:00:00.000000",
          "2017-12-12T00:00:00.000000",
          "2017-12-13T00:00:00.000000",
          "2017-12-14T00:00:00.000000",
          "2017-12-15T00:00:00.000000",
          "2017-12-16T00:00:00.000000",
          "2017-12-17T00:00:00.000000",
          "2017-12-18T00:00:00.000000",
          "2017-12-19T00:00:00.000000",
          "2017-12-20T00:00:00.000000",
          "2017-12-21T00:00:00.000000",
          "2017-12-22T00:00:00.000000",
          "2017-12-23T00:00:00.000000",
          "2017-12-24T00:00:00.000000",
          "2017-12-25T00:00:00.000000",
          "2017-12-26T00:00:00.000000",
          "2017-12-27T00:00:00.000000",
          "2017-12-28T00:00:00.000000",
          "2017-12-29T00:00:00.000000",
          "2017-12-30T00:00:00.000000",
          "2017-12-31T00:00:00.000000",
          "2018-01-01T00:00:00.000000",
          "2018-01-02T00:00:00.000000",
          "2018-01-03T00:00:00.000000",
          "2018-01-04T00:00:00.000000",
          "2018-01-05T00:00:00.000000",
          "2018-01-06T00:00:00.000000",
          "2018-01-07T00:00:00.000000",
          "2018-01-08T00:00:00.000000",
          "2018-01-09T00:00:00.000000",
          "2018-01-10T00:00:00.000000",
          "2018-01-11T00:00:00.000000",
          "2018-01-12T00:00:00.000000",
          "2018-01-13T00:00:00.000000",
          "2018-01-14T00:00:00.000000",
          "2018-01-15T00:00:00.000000",
          "2018-01-16T00:00:00.000000",
          "2018-01-17T00:00:00.000000",
          "2018-01-18T00:00:00.000000",
          "2018-01-19T00:00:00.000000",
          "2018-01-20T00:00:00.000000",
          "2018-01-21T00:00:00.000000",
          "2018-01-22T00:00:00.000000",
          "2018-01-23T00:00:00.000000",
          "2018-01-24T00:00:00.000000",
          "2018-01-25T00:00:00.000000",
          "2018-01-26T00:00:00.000000",
          "2018-01-27T00:00:00.000000",
          "2018-01-28T00:00:00.000000",
          "2018-01-29T00:00:00.000000",
          "2018-01-30T00:00:00.000000",
          "2018-01-31T00:00:00.000000",
          "2018-02-01T00:00:00.000000",
          "2018-02-02T00:00:00.000000",
          "2018-02-03T00:00:00.000000",
          "2018-02-04T00:00:00.000000",
          "2018-02-05T00:00:00.000000",
          "2018-02-06T00:00:00.000000",
          "2018-02-07T00:00:00.000000",
          "2018-02-08T00:00:00.000000",
          "2018-02-09T00:00:00.000000",
          "2018-02-10T00:00:00.000000",
          "2018-02-11T00:00:00.000000",
          "2018-02-12T00:00:00.000000",
          "2018-02-13T00:00:00.000000",
          "2018-02-14T00:00:00.000000",
          "2018-02-15T00:00:00.000000",
          "2018-02-16T00:00:00.000000",
          "2018-02-17T00:00:00.000000",
          "2018-02-18T00:00:00.000000",
          "2018-02-19T00:00:00.000000",
          "2018-02-20T00:00:00.000000",
          "2018-02-21T00:00:00.000000",
          "2018-02-22T00:00:00.000000",
          "2018-02-23T00:00:00.000000",
          "2018-02-24T00:00:00.000000",
          "2018-02-25T00:00:00.000000",
          "2018-02-26T00:00:00.000000",
          "2018-02-27T00:00:00.000000",
          "2018-02-28T00:00:00.000000",
          "2018-03-01T00:00:00.000000",
          "2018-03-02T00:00:00.000000",
          "2018-03-03T00:00:00.000000",
          "2018-03-04T00:00:00.000000",
          "2018-03-05T00:00:00.000000",
          "2018-03-06T00:00:00.000000",
          "2018-03-07T00:00:00.000000",
          "2018-03-08T00:00:00.000000",
          "2018-03-09T00:00:00.000000",
          "2018-03-10T00:00:00.000000",
          "2018-03-11T00:00:00.000000",
          "2018-03-12T00:00:00.000000",
          "2018-03-13T00:00:00.000000",
          "2018-03-14T00:00:00.000000",
          "2018-03-15T00:00:00.000000",
          "2018-03-16T00:00:00.000000",
          "2018-03-17T00:00:00.000000",
          "2018-03-18T00:00:00.000000",
          "2018-03-19T00:00:00.000000",
          "2018-03-20T00:00:00.000000",
          "2018-03-21T00:00:00.000000",
          "2018-03-22T00:00:00.000000",
          "2018-03-23T00:00:00.000000",
          "2018-03-24T00:00:00.000000",
          "2018-03-25T00:00:00.000000",
          "2018-03-26T00:00:00.000000",
          "2018-03-27T00:00:00.000000",
          "2018-03-28T00:00:00.000000",
          "2018-03-29T00:00:00.000000",
          "2018-03-30T00:00:00.000000",
          "2018-03-31T00:00:00.000000",
          "2018-04-01T00:00:00.000000",
          "2018-04-02T00:00:00.000000",
          "2018-04-03T00:00:00.000000",
          "2018-04-04T00:00:00.000000",
          "2018-04-05T00:00:00.000000",
          "2018-04-06T00:00:00.000000",
          "2018-04-07T00:00:00.000000",
          "2018-04-08T00:00:00.000000",
          "2018-04-09T00:00:00.000000",
          "2018-04-10T00:00:00.000000",
          "2018-04-11T00:00:00.000000",
          "2018-04-12T00:00:00.000000",
          "2018-04-13T00:00:00.000000",
          "2018-04-14T00:00:00.000000",
          "2018-04-15T00:00:00.000000",
          "2018-04-16T00:00:00.000000",
          "2018-04-17T00:00:00.000000",
          "2018-04-18T00:00:00.000000",
          "2018-04-19T00:00:00.000000",
          "2018-04-20T00:00:00.000000",
          "2018-04-21T00:00:00.000000",
          "2018-04-22T00:00:00.000000",
          "2018-04-23T00:00:00.000000",
          "2018-04-24T00:00:00.000000",
          "2018-04-25T00:00:00.000000",
          "2018-04-26T00:00:00.000000",
          "2018-04-27T00:00:00.000000",
          "2018-04-28T00:00:00.000000",
          "2018-04-29T00:00:00.000000",
          "2018-04-30T00:00:00.000000",
          "2018-05-01T00:00:00.000000",
          "2018-05-02T00:00:00.000000",
          "2018-05-03T00:00:00.000000",
          "2018-05-04T00:00:00.000000",
          "2018-05-05T00:00:00.000000",
          "2018-05-06T00:00:00.000000",
          "2018-05-07T00:00:00.000000",
          "2018-05-08T00:00:00.000000",
          "2018-05-09T00:00:00.000000",
          "2018-05-10T00:00:00.000000",
          "2018-05-11T00:00:00.000000",
          "2018-05-12T00:00:00.000000",
          "2018-05-13T00:00:00.000000",
          "2018-05-14T00:00:00.000000",
          "2018-05-15T00:00:00.000000",
          "2018-05-16T00:00:00.000000",
          "2018-05-17T00:00:00.000000",
          "2018-05-18T00:00:00.000000",
          "2018-05-19T00:00:00.000000",
          "2018-05-20T00:00:00.000000",
          "2018-05-21T00:00:00.000000",
          "2018-05-22T00:00:00.000000",
          "2018-05-23T00:00:00.000000",
          "2018-05-24T00:00:00.000000",
          "2018-05-25T00:00:00.000000",
          "2018-05-26T00:00:00.000000",
          "2018-05-27T00:00:00.000000",
          "2018-05-28T00:00:00.000000",
          "2018-05-29T00:00:00.000000",
          "2018-05-30T00:00:00.000000",
          "2018-05-31T00:00:00.000000",
          "2018-06-01T00:00:00.000000",
          "2018-06-02T00:00:00.000000",
          "2018-06-03T00:00:00.000000",
          "2018-06-04T00:00:00.000000",
          "2018-06-05T00:00:00.000000",
          "2018-06-06T00:00:00.000000",
          "2018-06-07T00:00:00.000000",
          "2018-06-08T00:00:00.000000",
          "2018-06-09T00:00:00.000000",
          "2018-06-10T00:00:00.000000",
          "2018-06-11T00:00:00.000000",
          "2018-06-12T00:00:00.000000",
          "2018-06-13T00:00:00.000000",
          "2018-06-14T00:00:00.000000",
          "2018-06-15T00:00:00.000000",
          "2018-06-16T00:00:00.000000",
          "2018-06-17T00:00:00.000000",
          "2018-06-18T00:00:00.000000",
          "2018-06-19T00:00:00.000000",
          "2018-06-20T00:00:00.000000",
          "2018-06-21T00:00:00.000000",
          "2018-06-22T00:00:00.000000",
          "2018-06-23T00:00:00.000000",
          "2018-06-24T00:00:00.000000",
          "2018-06-25T00:00:00.000000",
          "2018-06-26T00:00:00.000000",
          "2018-06-27T00:00:00.000000",
          "2018-06-28T00:00:00.000000",
          "2018-06-29T00:00:00.000000",
          "2018-06-30T00:00:00.000000",
          "2018-07-01T00:00:00.000000",
          "2018-07-02T00:00:00.000000",
          "2018-07-03T00:00:00.000000",
          "2018-07-04T00:00:00.000000",
          "2018-07-05T00:00:00.000000",
          "2018-07-06T00:00:00.000000",
          "2018-07-07T00:00:00.000000",
          "2018-07-08T00:00:00.000000",
          "2018-07-09T00:00:00.000000",
          "2018-07-10T00:00:00.000000",
          "2018-07-11T00:00:00.000000",
          "2018-07-12T00:00:00.000000",
          "2018-07-13T00:00:00.000000",
          "2018-07-14T00:00:00.000000",
          "2018-07-15T00:00:00.000000",
          "2018-07-16T00:00:00.000000",
          "2018-07-17T00:00:00.000000",
          "2018-07-18T00:00:00.000000",
          "2018-07-19T00:00:00.000000",
          "2018-07-20T00:00:00.000000",
          "2018-07-21T00:00:00.000000",
          "2018-07-22T00:00:00.000000",
          "2018-07-23T00:00:00.000000",
          "2018-07-24T00:00:00.000000",
          "2018-07-25T00:00:00.000000",
          "2018-07-26T00:00:00.000000",
          "2018-07-27T00:00:00.000000",
          "2018-07-28T00:00:00.000000",
          "2018-07-29T00:00:00.000000",
          "2018-07-30T00:00:00.000000",
          "2018-07-31T00:00:00.000000",
          "2018-08-01T00:00:00.000000",
          "2018-08-02T00:00:00.000000",
          "2018-08-03T00:00:00.000000",
          "2018-08-04T00:00:00.000000",
          "2018-08-05T00:00:00.000000",
          "2018-08-06T00:00:00.000000",
          "2018-08-07T00:00:00.000000",
          "2018-08-08T00:00:00.000000",
          "2018-08-09T00:00:00.000000",
          "2018-08-10T00:00:00.000000",
          "2018-08-11T00:00:00.000000",
          "2018-08-12T00:00:00.000000",
          "2018-08-13T00:00:00.000000",
          "2018-08-14T00:00:00.000000",
          "2018-08-15T00:00:00.000000",
          "2018-08-16T00:00:00.000000",
          "2018-08-17T00:00:00.000000",
          "2018-08-18T00:00:00.000000",
          "2018-08-19T00:00:00.000000",
          "2018-08-20T00:00:00.000000",
          "2018-08-21T00:00:00.000000",
          "2018-08-22T00:00:00.000000",
          "2018-08-23T00:00:00.000000",
          "2018-08-24T00:00:00.000000",
          "2018-08-25T00:00:00.000000",
          "2018-08-26T00:00:00.000000",
          "2018-08-27T00:00:00.000000",
          "2018-08-28T00:00:00.000000",
          "2018-08-29T00:00:00.000000",
          "2018-08-30T00:00:00.000000",
          "2018-08-31T00:00:00.000000",
          "2018-09-01T00:00:00.000000",
          "2018-09-02T00:00:00.000000",
          "2018-09-03T00:00:00.000000",
          "2018-09-04T00:00:00.000000",
          "2018-09-05T00:00:00.000000",
          "2018-09-06T00:00:00.000000",
          "2018-09-07T00:00:00.000000",
          "2018-09-08T00:00:00.000000",
          "2018-09-09T00:00:00.000000",
          "2018-09-10T00:00:00.000000",
          "2018-09-11T00:00:00.000000",
          "2018-09-12T00:00:00.000000",
          "2018-09-13T00:00:00.000000",
          "2018-09-14T00:00:00.000000",
          "2018-09-15T00:00:00.000000",
          "2018-09-16T00:00:00.000000",
          "2018-09-17T00:00:00.000000",
          "2018-09-18T00:00:00.000000",
          "2018-09-19T00:00:00.000000",
          "2018-09-20T00:00:00.000000",
          "2018-09-21T00:00:00.000000",
          "2018-09-22T00:00:00.000000",
          "2018-09-23T00:00:00.000000",
          "2018-09-24T00:00:00.000000",
          "2018-09-25T00:00:00.000000",
          "2018-09-26T00:00:00.000000",
          "2018-09-27T00:00:00.000000",
          "2018-09-28T00:00:00.000000",
          "2018-09-29T00:00:00.000000",
          "2018-09-30T00:00:00.000000",
          "2018-10-01T00:00:00.000000",
          "2018-10-02T00:00:00.000000",
          "2018-10-03T00:00:00.000000",
          "2018-10-04T00:00:00.000000",
          "2018-10-05T00:00:00.000000",
          "2018-10-06T00:00:00.000000",
          "2018-10-07T00:00:00.000000",
          "2018-10-08T00:00:00.000000",
          "2018-10-09T00:00:00.000000",
          "2018-10-10T00:00:00.000000",
          "2018-10-11T00:00:00.000000",
          "2018-10-12T00:00:00.000000",
          "2018-10-13T00:00:00.000000",
          "2018-10-14T00:00:00.000000",
          "2018-10-15T00:00:00.000000",
          "2018-10-16T00:00:00.000000",
          "2018-10-17T00:00:00.000000",
          "2018-10-18T00:00:00.000000",
          "2018-10-19T00:00:00.000000",
          "2018-10-20T00:00:00.000000",
          "2018-10-21T00:00:00.000000",
          "2018-10-22T00:00:00.000000",
          "2018-10-23T00:00:00.000000",
          "2018-10-24T00:00:00.000000",
          "2018-10-25T00:00:00.000000",
          "2018-10-26T00:00:00.000000",
          "2018-10-27T00:00:00.000000",
          "2018-10-28T00:00:00.000000",
          "2018-10-29T00:00:00.000000",
          "2018-10-30T00:00:00.000000",
          "2018-10-31T00:00:00.000000",
          "2018-11-01T00:00:00.000000",
          "2018-11-02T00:00:00.000000",
          "2018-11-03T00:00:00.000000",
          "2018-11-04T00:00:00.000000",
          "2018-11-05T00:00:00.000000",
          "2018-11-06T00:00:00.000000",
          "2018-11-07T00:00:00.000000",
          "2018-11-08T00:00:00.000000",
          "2018-11-09T00:00:00.000000",
          "2018-11-10T00:00:00.000000",
          "2018-11-11T00:00:00.000000",
          "2018-11-12T00:00:00.000000",
          "2018-11-13T00:00:00.000000",
          "2018-11-14T00:00:00.000000",
          "2018-11-15T00:00:00.000000",
          "2018-11-16T00:00:00.000000",
          "2018-11-17T00:00:00.000000",
          "2018-11-18T00:00:00.000000",
          "2018-11-19T00:00:00.000000",
          "2018-11-20T00:00:00.000000",
          "2018-11-21T00:00:00.000000",
          "2018-11-22T00:00:00.000000",
          "2018-11-23T00:00:00.000000",
          "2018-11-24T00:00:00.000000",
          "2018-11-25T00:00:00.000000",
          "2018-11-26T00:00:00.000000",
          "2018-11-27T00:00:00.000000",
          "2018-11-28T00:00:00.000000",
          "2018-11-29T00:00:00.000000",
          "2018-11-30T00:00:00.000000",
          "2018-12-01T00:00:00.000000",
          "2018-12-02T00:00:00.000000",
          "2018-12-03T00:00:00.000000",
          "2018-12-04T00:00:00.000000",
          "2018-12-05T00:00:00.000000",
          "2018-12-06T00:00:00.000000",
          "2018-12-07T00:00:00.000000",
          "2018-12-08T00:00:00.000000",
          "2018-12-09T00:00:00.000000",
          "2018-12-10T00:00:00.000000",
          "2018-12-11T00:00:00.000000",
          "2018-12-12T00:00:00.000000",
          "2018-12-13T00:00:00.000000",
          "2018-12-14T00:00:00.000000",
          "2018-12-15T00:00:00.000000",
          "2018-12-16T00:00:00.000000",
          "2018-12-17T00:00:00.000000",
          "2018-12-18T00:00:00.000000",
          "2018-12-19T00:00:00.000000",
          "2018-12-20T00:00:00.000000",
          "2018-12-21T00:00:00.000000",
          "2018-12-22T00:00:00.000000",
          "2018-12-23T00:00:00.000000",
          "2018-12-24T00:00:00.000000",
          "2018-12-25T00:00:00.000000",
          "2018-12-26T00:00:00.000000",
          "2018-12-27T00:00:00.000000",
          "2018-12-28T00:00:00.000000",
          "2018-12-29T00:00:00.000000",
          "2018-12-30T00:00:00.000000",
          "2018-12-31T00:00:00.000000",
          "2019-01-01T00:00:00.000000",
          "2019-01-02T00:00:00.000000",
          "2019-01-03T00:00:00.000000",
          "2019-01-04T00:00:00.000000",
          "2019-01-05T00:00:00.000000",
          "2019-01-06T00:00:00.000000",
          "2019-01-07T00:00:00.000000",
          "2019-01-08T00:00:00.000000",
          "2019-01-09T00:00:00.000000",
          "2019-01-10T00:00:00.000000",
          "2019-01-11T00:00:00.000000",
          "2019-01-12T00:00:00.000000",
          "2019-01-13T00:00:00.000000",
          "2019-01-14T00:00:00.000000",
          "2019-01-15T00:00:00.000000",
          "2019-01-16T00:00:00.000000",
          "2019-01-17T00:00:00.000000",
          "2019-01-18T00:00:00.000000",
          "2019-01-19T00:00:00.000000",
          "2019-01-20T00:00:00.000000",
          "2019-01-21T00:00:00.000000",
          "2019-01-22T00:00:00.000000",
          "2019-01-23T00:00:00.000000",
          "2019-01-24T00:00:00.000000",
          "2019-01-25T00:00:00.000000",
          "2019-01-26T00:00:00.000000",
          "2019-01-27T00:00:00.000000",
          "2019-01-28T00:00:00.000000",
          "2019-01-29T00:00:00.000000",
          "2019-01-30T00:00:00.000000",
          "2019-01-31T00:00:00.000000",
          "2019-02-01T00:00:00.000000",
          "2019-02-02T00:00:00.000000",
          "2019-02-03T00:00:00.000000",
          "2019-02-04T00:00:00.000000",
          "2019-02-05T00:00:00.000000",
          "2019-02-06T00:00:00.000000",
          "2019-02-07T00:00:00.000000",
          "2019-02-08T00:00:00.000000",
          "2019-02-09T00:00:00.000000",
          "2019-02-10T00:00:00.000000",
          "2019-02-11T00:00:00.000000",
          "2019-02-12T00:00:00.000000",
          "2019-02-13T00:00:00.000000",
          "2019-02-14T00:00:00.000000",
          "2019-02-15T00:00:00.000000",
          "2019-02-16T00:00:00.000000",
          "2019-02-17T00:00:00.000000",
          "2019-02-18T00:00:00.000000",
          "2019-02-19T00:00:00.000000",
          "2019-02-20T00:00:00.000000",
          "2019-02-21T00:00:00.000000",
          "2019-02-22T00:00:00.000000",
          "2019-02-23T00:00:00.000000",
          "2019-02-24T00:00:00.000000",
          "2019-02-25T00:00:00.000000",
          "2019-02-26T00:00:00.000000",
          "2019-02-27T00:00:00.000000",
          "2019-02-28T00:00:00.000000",
          "2019-03-01T00:00:00.000000",
          "2019-03-02T00:00:00.000000",
          "2019-03-03T00:00:00.000000",
          "2019-03-04T00:00:00.000000",
          "2019-03-05T00:00:00.000000",
          "2019-03-06T00:00:00.000000",
          "2019-03-07T00:00:00.000000",
          "2019-03-08T00:00:00.000000",
          "2019-03-09T00:00:00.000000",
          "2019-03-10T00:00:00.000000",
          "2019-03-11T00:00:00.000000",
          "2019-03-12T00:00:00.000000",
          "2019-03-13T00:00:00.000000",
          "2019-03-14T00:00:00.000000",
          "2019-03-15T00:00:00.000000",
          "2019-03-16T00:00:00.000000",
          "2019-03-17T00:00:00.000000",
          "2019-03-18T00:00:00.000000",
          "2019-03-19T00:00:00.000000",
          "2019-03-20T00:00:00.000000",
          "2019-03-21T00:00:00.000000",
          "2019-03-22T00:00:00.000000",
          "2019-03-23T00:00:00.000000",
          "2019-03-24T00:00:00.000000",
          "2019-03-25T00:00:00.000000",
          "2019-03-26T00:00:00.000000",
          "2019-03-27T00:00:00.000000",
          "2019-03-28T00:00:00.000000",
          "2019-03-29T00:00:00.000000",
          "2019-03-30T00:00:00.000000",
          "2019-03-31T00:00:00.000000",
          "2019-04-01T00:00:00.000000",
          "2019-04-02T00:00:00.000000",
          "2019-04-03T00:00:00.000000",
          "2019-04-04T00:00:00.000000",
          "2019-04-05T00:00:00.000000",
          "2019-04-06T00:00:00.000000",
          "2019-04-07T00:00:00.000000",
          "2019-04-08T00:00:00.000000",
          "2019-04-09T00:00:00.000000",
          "2019-04-10T00:00:00.000000",
          "2019-04-11T00:00:00.000000",
          "2019-04-12T00:00:00.000000",
          "2019-04-13T00:00:00.000000",
          "2019-04-14T00:00:00.000000",
          "2019-04-15T00:00:00.000000",
          "2019-04-16T00:00:00.000000",
          "2019-04-17T00:00:00.000000",
          "2019-04-18T00:00:00.000000",
          "2019-04-19T00:00:00.000000",
          "2019-04-20T00:00:00.000000",
          "2019-04-21T00:00:00.000000",
          "2019-04-22T00:00:00.000000",
          "2019-04-23T00:00:00.000000",
          "2019-04-24T00:00:00.000000",
          "2019-04-25T00:00:00.000000",
          "2019-04-26T00:00:00.000000",
          "2019-04-27T00:00:00.000000",
          "2019-04-28T00:00:00.000000",
          "2019-04-29T00:00:00.000000",
          "2019-04-30T00:00:00.000000",
          "2019-05-01T00:00:00.000000",
          "2019-05-02T00:00:00.000000",
          "2019-05-03T00:00:00.000000",
          "2019-05-04T00:00:00.000000",
          "2019-05-05T00:00:00.000000",
          "2019-05-06T00:00:00.000000",
          "2019-05-07T00:00:00.000000",
          "2019-05-08T00:00:00.000000",
          "2019-05-09T00:00:00.000000",
          "2019-05-10T00:00:00.000000",
          "2019-05-11T00:00:00.000000",
          "2019-05-12T00:00:00.000000",
          "2019-05-13T00:00:00.000000",
          "2019-05-14T00:00:00.000000",
          "2019-05-15T00:00:00.000000",
          "2019-05-16T00:00:00.000000",
          "2019-05-17T00:00:00.000000",
          "2019-05-18T00:00:00.000000",
          "2019-05-19T00:00:00.000000",
          "2019-05-20T00:00:00.000000",
          "2019-05-21T00:00:00.000000",
          "2019-05-22T00:00:00.000000",
          "2019-05-23T00:00:00.000000",
          "2019-05-24T00:00:00.000000",
          "2019-05-25T00:00:00.000000",
          "2019-05-26T00:00:00.000000",
          "2019-05-27T00:00:00.000000",
          "2019-05-28T00:00:00.000000",
          "2019-05-29T00:00:00.000000",
          "2019-05-30T00:00:00.000000",
          "2019-05-31T00:00:00.000000",
          "2019-06-01T00:00:00.000000",
          "2019-06-02T00:00:00.000000",
          "2019-06-03T00:00:00.000000",
          "2019-06-04T00:00:00.000000",
          "2019-06-05T00:00:00.000000",
          "2019-06-06T00:00:00.000000",
          "2019-06-07T00:00:00.000000",
          "2019-06-08T00:00:00.000000",
          "2019-06-09T00:00:00.000000",
          "2019-06-10T00:00:00.000000",
          "2019-06-11T00:00:00.000000",
          "2019-06-12T00:00:00.000000",
          "2019-06-13T00:00:00.000000",
          "2019-06-14T00:00:00.000000",
          "2019-06-15T00:00:00.000000",
          "2019-06-16T00:00:00.000000",
          "2019-06-17T00:00:00.000000",
          "2019-06-18T00:00:00.000000",
          "2019-06-19T00:00:00.000000",
          "2019-06-20T00:00:00.000000",
          "2019-06-21T00:00:00.000000",
          "2019-06-22T00:00:00.000000",
          "2019-06-23T00:00:00.000000",
          "2019-06-24T00:00:00.000000",
          "2019-06-25T00:00:00.000000",
          "2019-06-26T00:00:00.000000",
          "2019-06-27T00:00:00.000000",
          "2019-06-28T00:00:00.000000",
          "2019-06-29T00:00:00.000000",
          "2019-06-30T00:00:00.000000",
          "2019-07-01T00:00:00.000000",
          "2019-07-02T00:00:00.000000",
          "2019-07-03T00:00:00.000000",
          "2019-07-04T00:00:00.000000",
          "2019-07-05T00:00:00.000000",
          "2019-07-06T00:00:00.000000",
          "2019-07-07T00:00:00.000000",
          "2019-07-08T00:00:00.000000",
          "2019-07-09T00:00:00.000000",
          "2019-07-10T00:00:00.000000",
          "2019-07-11T00:00:00.000000",
          "2019-07-12T00:00:00.000000",
          "2019-07-13T00:00:00.000000",
          "2019-07-14T00:00:00.000000",
          "2019-07-15T00:00:00.000000",
          "2019-07-16T00:00:00.000000",
          "2019-07-17T00:00:00.000000",
          "2019-07-18T00:00:00.000000",
          "2019-07-19T00:00:00.000000",
          "2019-07-20T00:00:00.000000",
          "2019-07-21T00:00:00.000000",
          "2019-07-22T00:00:00.000000",
          "2019-07-23T00:00:00.000000",
          "2019-07-24T00:00:00.000000",
          "2019-07-25T00:00:00.000000",
          "2019-07-26T00:00:00.000000",
          "2019-07-27T00:00:00.000000",
          "2019-07-28T00:00:00.000000",
          "2019-07-29T00:00:00.000000",
          "2019-07-30T00:00:00.000000",
          "2019-07-31T00:00:00.000000",
          "2019-08-01T00:00:00.000000",
          "2019-08-02T00:00:00.000000",
          "2019-08-03T00:00:00.000000",
          "2019-08-04T00:00:00.000000",
          "2019-08-05T00:00:00.000000",
          "2019-08-06T00:00:00.000000",
          "2019-08-07T00:00:00.000000",
          "2019-08-08T00:00:00.000000",
          "2019-08-09T00:00:00.000000",
          "2019-08-10T00:00:00.000000",
          "2019-08-11T00:00:00.000000",
          "2019-08-12T00:00:00.000000",
          "2019-08-13T00:00:00.000000",
          "2019-08-14T00:00:00.000000",
          "2019-08-15T00:00:00.000000",
          "2019-08-16T00:00:00.000000",
          "2019-08-17T00:00:00.000000",
          "2019-08-18T00:00:00.000000",
          "2019-08-19T00:00:00.000000",
          "2019-08-20T00:00:00.000000",
          "2019-08-21T00:00:00.000000",
          "2019-08-22T00:00:00.000000",
          "2019-08-23T00:00:00.000000",
          "2019-08-24T00:00:00.000000",
          "2019-08-25T00:00:00.000000",
          "2019-08-26T00:00:00.000000",
          "2019-08-27T00:00:00.000000",
          "2019-08-28T00:00:00.000000",
          "2019-08-29T00:00:00.000000",
          "2019-08-30T00:00:00.000000",
          "2019-08-31T00:00:00.000000",
          "2019-09-01T00:00:00.000000",
          "2019-09-02T00:00:00.000000",
          "2019-09-03T00:00:00.000000",
          "2019-09-04T00:00:00.000000",
          "2019-09-05T00:00:00.000000",
          "2019-09-06T00:00:00.000000",
          "2019-09-07T00:00:00.000000",
          "2019-09-08T00:00:00.000000",
          "2019-09-09T00:00:00.000000",
          "2019-09-10T00:00:00.000000",
          "2019-09-11T00:00:00.000000",
          "2019-09-12T00:00:00.000000",
          "2019-09-13T00:00:00.000000",
          "2019-09-14T00:00:00.000000",
          "2019-09-15T00:00:00.000000",
          "2019-09-16T00:00:00.000000",
          "2019-09-17T00:00:00.000000",
          "2019-09-18T00:00:00.000000",
          "2019-09-19T00:00:00.000000",
          "2019-09-20T00:00:00.000000",
          "2019-09-21T00:00:00.000000",
          "2019-09-22T00:00:00.000000",
          "2019-09-23T00:00:00.000000",
          "2019-09-24T00:00:00.000000",
          "2019-09-25T00:00:00.000000",
          "2019-09-26T00:00:00.000000",
          "2019-09-27T00:00:00.000000",
          "2019-09-28T00:00:00.000000",
          "2019-09-29T00:00:00.000000",
          "2019-09-30T00:00:00.000000",
          "2019-10-01T00:00:00.000000",
          "2019-10-02T00:00:00.000000",
          "2019-10-03T00:00:00.000000",
          "2019-10-04T00:00:00.000000",
          "2019-10-05T00:00:00.000000",
          "2019-10-06T00:00:00.000000",
          "2019-10-07T00:00:00.000000",
          "2019-10-08T00:00:00.000000",
          "2019-10-09T00:00:00.000000",
          "2019-10-10T00:00:00.000000",
          "2019-10-11T00:00:00.000000",
          "2019-10-12T00:00:00.000000",
          "2019-10-13T00:00:00.000000",
          "2019-10-14T00:00:00.000000",
          "2019-10-15T00:00:00.000000",
          "2019-10-16T00:00:00.000000",
          "2019-10-17T00:00:00.000000",
          "2019-10-18T00:00:00.000000",
          "2019-10-19T00:00:00.000000",
          "2019-10-20T00:00:00.000000",
          "2019-10-21T00:00:00.000000",
          "2019-10-22T00:00:00.000000",
          "2019-10-23T00:00:00.000000",
          "2019-10-24T00:00:00.000000",
          "2019-10-25T00:00:00.000000",
          "2019-10-26T00:00:00.000000",
          "2019-10-27T00:00:00.000000",
          "2019-10-28T00:00:00.000000",
          "2019-10-29T00:00:00.000000",
          "2019-10-30T00:00:00.000000",
          "2019-10-31T00:00:00.000000",
          "2019-11-01T00:00:00.000000",
          "2019-11-02T00:00:00.000000",
          "2019-11-03T00:00:00.000000",
          "2019-11-04T00:00:00.000000",
          "2019-11-05T00:00:00.000000",
          "2019-11-06T00:00:00.000000",
          "2019-11-07T00:00:00.000000",
          "2019-11-08T00:00:00.000000",
          "2019-11-09T00:00:00.000000",
          "2019-11-10T00:00:00.000000",
          "2019-11-11T00:00:00.000000",
          "2019-11-12T00:00:00.000000",
          "2019-11-13T00:00:00.000000",
          "2019-11-14T00:00:00.000000",
          "2019-11-15T00:00:00.000000",
          "2019-11-16T00:00:00.000000",
          "2019-11-17T00:00:00.000000",
          "2019-11-18T00:00:00.000000",
          "2019-11-19T00:00:00.000000",
          "2019-11-20T00:00:00.000000",
          "2019-11-21T00:00:00.000000",
          "2019-11-22T00:00:00.000000",
          "2019-11-23T00:00:00.000000",
          "2019-11-24T00:00:00.000000",
          "2019-11-25T00:00:00.000000",
          "2019-11-26T00:00:00.000000",
          "2019-11-27T00:00:00.000000",
          "2019-11-28T00:00:00.000000",
          "2019-11-29T00:00:00.000000",
          "2019-11-30T00:00:00.000000",
          "2019-12-01T00:00:00.000000",
          "2019-12-02T00:00:00.000000",
          "2019-12-03T00:00:00.000000",
          "2019-12-04T00:00:00.000000",
          "2019-12-05T00:00:00.000000",
          "2019-12-06T00:00:00.000000",
          "2019-12-07T00:00:00.000000",
          "2019-12-08T00:00:00.000000",
          "2019-12-09T00:00:00.000000",
          "2019-12-10T00:00:00.000000",
          "2019-12-11T00:00:00.000000",
          "2019-12-12T00:00:00.000000",
          "2019-12-13T00:00:00.000000",
          "2019-12-14T00:00:00.000000",
          "2019-12-15T00:00:00.000000",
          "2019-12-16T00:00:00.000000",
          "2019-12-17T00:00:00.000000",
          "2019-12-18T00:00:00.000000",
          "2019-12-19T00:00:00.000000",
          "2019-12-20T00:00:00.000000",
          "2019-12-21T00:00:00.000000",
          "2019-12-22T00:00:00.000000",
          "2019-12-23T00:00:00.000000",
          "2019-12-24T00:00:00.000000",
          "2019-12-25T00:00:00.000000",
          "2019-12-26T00:00:00.000000",
          "2019-12-27T00:00:00.000000",
          "2019-12-28T00:00:00.000000",
          "2019-12-29T00:00:00.000000",
          "2019-12-30T00:00:00.000000",
          "2019-12-31T00:00:00.000000",
          "2020-01-01T00:00:00.000000",
          "2020-01-02T00:00:00.000000",
          "2020-01-03T00:00:00.000000",
          "2020-01-04T00:00:00.000000",
          "2020-01-05T00:00:00.000000",
          "2020-01-06T00:00:00.000000",
          "2020-01-07T00:00:00.000000",
          "2020-01-08T00:00:00.000000",
          "2020-01-09T00:00:00.000000",
          "2020-01-10T00:00:00.000000",
          "2020-01-11T00:00:00.000000",
          "2020-01-12T00:00:00.000000",
          "2020-01-13T00:00:00.000000",
          "2020-01-14T00:00:00.000000",
          "2020-01-15T00:00:00.000000",
          "2020-01-16T00:00:00.000000",
          "2020-01-17T00:00:00.000000",
          "2020-01-18T00:00:00.000000",
          "2020-01-19T00:00:00.000000",
          "2020-01-20T00:00:00.000000",
          "2020-01-21T00:00:00.000000",
          "2020-01-22T00:00:00.000000",
          "2020-01-23T00:00:00.000000",
          "2020-01-24T00:00:00.000000",
          "2020-01-25T00:00:00.000000",
          "2020-01-26T00:00:00.000000",
          "2020-01-27T00:00:00.000000",
          "2020-01-28T00:00:00.000000",
          "2020-01-29T00:00:00.000000",
          "2020-01-30T00:00:00.000000",
          "2020-01-31T00:00:00.000000",
          "2020-02-01T00:00:00.000000",
          "2020-02-02T00:00:00.000000",
          "2020-02-03T00:00:00.000000",
          "2020-02-04T00:00:00.000000",
          "2020-02-05T00:00:00.000000",
          "2020-02-06T00:00:00.000000",
          "2020-02-07T00:00:00.000000",
          "2020-02-08T00:00:00.000000",
          "2020-02-09T00:00:00.000000",
          "2020-02-10T00:00:00.000000",
          "2020-02-11T00:00:00.000000",
          "2020-02-12T00:00:00.000000",
          "2020-02-13T00:00:00.000000",
          "2020-02-14T00:00:00.000000",
          "2020-02-15T00:00:00.000000",
          "2020-02-16T00:00:00.000000",
          "2020-02-17T00:00:00.000000",
          "2020-02-18T00:00:00.000000",
          "2020-02-19T00:00:00.000000",
          "2020-02-20T00:00:00.000000",
          "2020-02-21T00:00:00.000000",
          "2020-02-22T00:00:00.000000",
          "2020-02-23T00:00:00.000000",
          "2020-02-24T00:00:00.000000",
          "2020-02-25T00:00:00.000000",
          "2020-02-26T00:00:00.000000",
          "2020-02-27T00:00:00.000000",
          "2020-02-28T00:00:00.000000",
          "2020-02-29T00:00:00.000000",
          "2020-03-01T00:00:00.000000",
          "2020-03-02T00:00:00.000000",
          "2020-03-03T00:00:00.000000",
          "2020-03-04T00:00:00.000000",
          "2020-03-05T00:00:00.000000",
          "2020-03-06T00:00:00.000000",
          "2020-03-07T00:00:00.000000",
          "2020-03-08T00:00:00.000000",
          "2020-03-09T00:00:00.000000",
          "2020-03-10T00:00:00.000000",
          "2020-03-11T00:00:00.000000",
          "2020-03-12T00:00:00.000000",
          "2020-03-13T00:00:00.000000",
          "2020-03-14T00:00:00.000000",
          "2020-03-15T00:00:00.000000",
          "2020-03-16T00:00:00.000000",
          "2020-03-17T00:00:00.000000",
          "2020-03-18T00:00:00.000000",
          "2020-03-19T00:00:00.000000",
          "2020-03-20T00:00:00.000000",
          "2020-03-21T00:00:00.000000",
          "2020-03-22T00:00:00.000000",
          "2020-03-23T00:00:00.000000",
          "2020-03-24T00:00:00.000000",
          "2020-03-25T00:00:00.000000",
          "2020-03-26T00:00:00.000000",
          "2020-03-27T00:00:00.000000",
          "2020-03-28T00:00:00.000000",
          "2020-03-29T00:00:00.000000",
          "2020-03-30T00:00:00.000000",
          "2020-03-31T00:00:00.000000",
          "2020-04-01T00:00:00.000000",
          "2020-04-02T00:00:00.000000",
          "2020-04-03T00:00:00.000000",
          "2020-04-04T00:00:00.000000",
          "2020-04-05T00:00:00.000000",
          "2020-04-06T00:00:00.000000",
          "2020-04-07T00:00:00.000000",
          "2020-04-08T00:00:00.000000",
          "2020-04-09T00:00:00.000000",
          "2020-04-10T00:00:00.000000",
          "2020-04-11T00:00:00.000000",
          "2020-04-12T00:00:00.000000",
          "2020-04-13T00:00:00.000000",
          "2020-04-14T00:00:00.000000",
          "2020-04-15T00:00:00.000000",
          "2020-04-16T00:00:00.000000",
          "2020-04-17T00:00:00.000000",
          "2020-04-18T00:00:00.000000",
          "2020-04-19T00:00:00.000000",
          "2020-04-20T00:00:00.000000",
          "2020-04-21T00:00:00.000000",
          "2020-04-22T00:00:00.000000",
          "2020-04-23T00:00:00.000000",
          "2020-04-24T00:00:00.000000",
          "2020-04-25T00:00:00.000000",
          "2020-04-26T00:00:00.000000",
          "2020-04-27T00:00:00.000000",
          "2020-04-28T00:00:00.000000",
          "2020-04-29T00:00:00.000000",
          "2020-04-30T00:00:00.000000",
          "2020-05-01T00:00:00.000000",
          "2020-05-02T00:00:00.000000",
          "2020-05-03T00:00:00.000000",
          "2020-05-04T00:00:00.000000",
          "2020-05-05T00:00:00.000000",
          "2020-05-06T00:00:00.000000",
          "2020-05-07T00:00:00.000000",
          "2020-05-08T00:00:00.000000",
          "2020-05-09T00:00:00.000000",
          "2020-05-10T00:00:00.000000",
          "2020-05-11T00:00:00.000000",
          "2020-05-12T00:00:00.000000",
          "2020-05-13T00:00:00.000000",
          "2020-05-14T00:00:00.000000",
          "2020-05-15T00:00:00.000000",
          "2020-05-16T00:00:00.000000",
          "2020-05-17T00:00:00.000000",
          "2020-05-18T00:00:00.000000",
          "2020-05-19T00:00:00.000000",
          "2020-05-20T00:00:00.000000",
          "2020-05-21T00:00:00.000000",
          "2020-05-22T00:00:00.000000",
          "2020-05-23T00:00:00.000000",
          "2020-05-24T00:00:00.000000",
          "2020-05-25T00:00:00.000000",
          "2020-05-26T00:00:00.000000",
          "2020-05-27T00:00:00.000000",
          "2020-05-28T00:00:00.000000",
          "2020-05-29T00:00:00.000000",
          "2020-05-30T00:00:00.000000",
          "2020-05-31T00:00:00.000000",
          "2020-06-01T00:00:00.000000",
          "2020-06-02T00:00:00.000000",
          "2020-06-03T00:00:00.000000",
          "2020-06-04T00:00:00.000000",
          "2020-06-05T00:00:00.000000",
          "2020-06-06T00:00:00.000000",
          "2020-06-07T00:00:00.000000",
          "2020-06-08T00:00:00.000000",
          "2020-06-09T00:00:00.000000",
          "2020-06-10T00:00:00.000000",
          "2020-06-11T00:00:00.000000",
          "2020-06-12T00:00:00.000000",
          "2020-06-13T00:00:00.000000",
          "2020-06-14T00:00:00.000000",
          "2020-06-15T00:00:00.000000",
          "2020-06-16T00:00:00.000000",
          "2020-06-17T00:00:00.000000",
          "2020-06-18T00:00:00.000000",
          "2020-06-19T00:00:00.000000",
          "2020-06-20T00:00:00.000000",
          "2020-06-21T00:00:00.000000",
          "2020-06-22T00:00:00.000000",
          "2020-06-23T00:00:00.000000",
          "2020-06-24T00:00:00.000000",
          "2020-06-25T00:00:00.000000",
          "2020-06-26T00:00:00.000000",
          "2020-06-27T00:00:00.000000",
          "2020-06-28T00:00:00.000000",
          "2020-06-29T00:00:00.000000",
          "2020-06-30T00:00:00.000000",
          "2020-07-01T00:00:00.000000",
          "2020-07-02T00:00:00.000000",
          "2020-07-03T00:00:00.000000",
          "2020-07-04T00:00:00.000000",
          "2020-07-05T00:00:00.000000",
          "2020-07-06T00:00:00.000000",
          "2020-07-07T00:00:00.000000",
          "2020-07-08T00:00:00.000000",
          "2020-07-09T00:00:00.000000",
          "2020-07-10T00:00:00.000000",
          "2020-07-11T00:00:00.000000",
          "2020-07-12T00:00:00.000000",
          "2020-07-13T00:00:00.000000",
          "2020-07-14T00:00:00.000000",
          "2020-07-15T00:00:00.000000",
          "2020-07-16T00:00:00.000000",
          "2020-07-17T00:00:00.000000",
          "2020-07-18T00:00:00.000000",
          "2020-07-19T00:00:00.000000",
          "2020-07-20T00:00:00.000000",
          "2020-07-21T00:00:00.000000",
          "2020-07-22T00:00:00.000000",
          "2020-07-23T00:00:00.000000",
          "2020-07-24T00:00:00.000000",
          "2020-07-25T00:00:00.000000",
          "2020-07-26T00:00:00.000000",
          "2020-07-27T00:00:00.000000",
          "2020-07-28T00:00:00.000000",
          "2020-07-29T00:00:00.000000",
          "2020-07-30T00:00:00.000000",
          "2020-07-31T00:00:00.000000",
          "2020-08-01T00:00:00.000000",
          "2020-08-02T00:00:00.000000",
          "2020-08-03T00:00:00.000000",
          "2020-08-04T00:00:00.000000",
          "2020-08-05T00:00:00.000000",
          "2020-08-06T00:00:00.000000",
          "2020-08-07T00:00:00.000000",
          "2020-08-08T00:00:00.000000",
          "2020-08-09T00:00:00.000000",
          "2020-08-10T00:00:00.000000",
          "2020-08-11T00:00:00.000000",
          "2020-08-12T00:00:00.000000",
          "2020-08-13T00:00:00.000000",
          "2020-08-14T00:00:00.000000",
          "2020-08-15T00:00:00.000000",
          "2020-08-16T00:00:00.000000",
          "2020-08-17T00:00:00.000000",
          "2020-08-18T00:00:00.000000",
          "2020-08-19T00:00:00.000000",
          "2020-08-20T00:00:00.000000",
          "2020-08-21T00:00:00.000000",
          "2020-08-22T00:00:00.000000",
          "2020-08-23T00:00:00.000000",
          "2020-08-24T00:00:00.000000",
          "2020-08-25T00:00:00.000000",
          "2020-08-26T00:00:00.000000",
          "2020-08-27T00:00:00.000000",
          "2020-08-28T00:00:00.000000",
          "2020-08-29T00:00:00.000000",
          "2020-08-30T00:00:00.000000",
          "2020-08-31T00:00:00.000000",
          "2020-09-01T00:00:00.000000",
          "2020-09-02T00:00:00.000000",
          "2020-09-03T00:00:00.000000",
          "2020-09-04T00:00:00.000000",
          "2020-09-05T00:00:00.000000",
          "2020-09-06T00:00:00.000000",
          "2020-09-07T00:00:00.000000",
          "2020-09-08T00:00:00.000000",
          "2020-09-09T00:00:00.000000",
          "2020-09-10T00:00:00.000000",
          "2020-09-11T00:00:00.000000",
          "2020-09-12T00:00:00.000000",
          "2020-09-13T00:00:00.000000",
          "2020-09-14T00:00:00.000000",
          "2020-09-15T00:00:00.000000",
          "2020-09-16T00:00:00.000000",
          "2020-09-17T00:00:00.000000",
          "2020-09-18T00:00:00.000000",
          "2020-09-19T00:00:00.000000",
          "2020-09-20T00:00:00.000000",
          "2020-09-21T00:00:00.000000",
          "2020-09-22T00:00:00.000000",
          "2020-09-23T00:00:00.000000",
          "2020-09-24T00:00:00.000000",
          "2020-09-25T00:00:00.000000",
          "2020-09-26T00:00:00.000000",
          "2020-09-27T00:00:00.000000",
          "2020-09-28T00:00:00.000000",
          "2020-09-29T00:00:00.000000",
          "2020-09-30T00:00:00.000000",
          "2020-10-01T00:00:00.000000",
          "2020-10-02T00:00:00.000000",
          "2020-10-03T00:00:00.000000",
          "2020-10-04T00:00:00.000000",
          "2020-10-05T00:00:00.000000",
          "2020-10-06T00:00:00.000000",
          "2020-10-07T00:00:00.000000",
          "2020-10-08T00:00:00.000000",
          "2020-10-09T00:00:00.000000",
          "2020-10-10T00:00:00.000000",
          "2020-10-11T00:00:00.000000",
          "2020-10-12T00:00:00.000000",
          "2020-10-13T00:00:00.000000",
          "2020-10-14T00:00:00.000000",
          "2020-10-15T00:00:00.000000",
          "2020-10-16T00:00:00.000000",
          "2020-10-17T00:00:00.000000",
          "2020-10-18T00:00:00.000000",
          "2020-10-19T00:00:00.000000",
          "2020-10-20T00:00:00.000000",
          "2020-10-21T00:00:00.000000",
          "2020-10-22T00:00:00.000000",
          "2020-10-23T00:00:00.000000",
          "2020-10-24T00:00:00.000000",
          "2020-10-25T00:00:00.000000",
          "2020-10-26T00:00:00.000000",
          "2020-10-27T00:00:00.000000",
          "2020-10-28T00:00:00.000000",
          "2020-10-29T00:00:00.000000",
          "2020-10-30T00:00:00.000000",
          "2020-10-31T00:00:00.000000",
          "2020-11-01T00:00:00.000000",
          "2020-11-02T00:00:00.000000",
          "2020-11-03T00:00:00.000000",
          "2020-11-04T00:00:00.000000",
          "2020-11-05T00:00:00.000000",
          "2020-11-06T00:00:00.000000",
          "2020-11-07T00:00:00.000000",
          "2020-11-08T00:00:00.000000"
         ],
         "y": {
          "dtype": "float64",
          "shape": [
           2245
          ]
         }
        },
        {
         "customdata": [
          [
           "0.424528726415519",
           "0.09990009990008275",
           "Long",
           "0"
          ],
          [
           "0.424528726415519",
           "0.11805719352889166",
           "Short",
           "1"
          ],
          [
           "0.1012480374755178",
           "0.04537734543577518",
           "Long",
           "2"
          ],
          [
           "0.1012480374755178",
           "0.058497066131855166",
           "Short",
           "3"
          ],
          [
           "0.025365397812270846",
           "0.02339146255451699",
           "Long",
           "4"
          ],
          [
           "0.025365397812270846",
           "0.3836186668934406",
           "Short",
           "5"
          ],
          [
           "0.07671627132890334",
           "0.5754410796108792",
           "Long",
           "6"
          ],
          [
           "0.07671627132890334",
           "0.5063051430520766",
           "Short",
           "7"
          ],
          [
           "0.053362488560261864",
           "0.41457530812414833",
           "Long",
           "8"
          ],
          [
           "0.053362488560261864",
           "0.3928258250368253",
           "Short",
           "9"
          ],
          [
           "0.06700513416766356",
           "0.43647546427619066",
           "Long",
           "10"
          ],
          [
           "0.06700513416766356",
           "0.21797574206350967",
           "Short",
           "11"
          ],
          [
           "0.04460890458749325",
           "0.17388907879440518",
           "Long",
           "12"
          ],
          [
           "0.04460890458749325",
           "0.1820502778886976",
           "Short",
           "13"
          ],
          [
           "0.05348815286035767",
           "0.19813188558837674",
           "Long",
           "14"
          ],
          [
           "0.05348815286035767",
           "0.28338825707710397",
           "Short",
           "15"
          ],
          [
           "0.03212754700349542",
           "0.21225963499172779",
           "Long",
           "16"
          ],
          [
           "0.03212754700349542",
           "0.2306526556512546",
           "Short",
           "17"
          ],
          [
           "0.017584538340294435",
           "0.16285040956945157",
           "Long",
           "18"
          ]
         ],
         "hovertemplate": "%{x}<br>Price: %{y}<br>Size: %{customdata[0]:.4f}<br>Fees: %{customdata[1]:.4f}<br>Direction: %{customdata[2]}<br>Position: %{customdata[3]}",
         "marker": {
          "color": "#4285F4",
          "line": {
           "color": "rgb(11,84,205)",
           "width": 1
          },
          "size": 7,
          "symbol": "circle"
         },
         "mode": "markers",
         "name": "Entry",
         "type": "scatter",
         "uid": "0bc1df8d-4a99-4077-9503-088535f536df",
         "x": [
          "2015-05-22T00:00:00.000000",
          "2015-07-17T00:00:00.000000",
          "2016-01-12T00:00:00.000000",
          "2016-08-17T00:00:00.000000",
          "2016-12-24T00:00:00.000000",
          "2018-01-09T00:00:00.000000",
          "2018-06-05T00:00:00.000000",
          "2018-07-05T00:00:00.000000",
          "2018-08-01T00:00:00.000000",
          "2018-09-05T00:00:00.000000",
          "2018-09-17T00:00:00.000000",
          "2018-12-17T00:00:00.000000",
          "2018-12-22T00:00:00.000000",
          "2018-12-25T00:00:00.000000",
          "2019-01-15T00:00:00.000000",
          "2019-04-19T00:00:00.000000",
          "2020-04-02T00:00:00.000000",
          "2020-04-08T00:00:00.000000",
          "2020-06-26T00:00:00.000000"
         ],
         "y": {
          "dtype": "float64",
          "shape": [
           19
          ]
         }
        },
        {
         "customdata": [],
         "hovertemplate": "%{x}<br>Price: %{y}<br>Size: %{customdata[0]:.4f}<br>Fees: %{customdata[1]:.4f}<br>PnL: %{customdata[2]:.4f}<br>Return: %{customdata[3]:.2%}<br>Direction: %{customdata[4]}<br>Position: %{customdata[5]}<br>Duration: %{customdata[6]}",
         "marker": {
          "color": "#E2E2E2",
          "line": {
           "color": "rgb(158,158,158)",
           "width": 1
          },
          "size": 7,
          "symbol": "circle"
         },
         "mode": "markers",
         "name": "Exit",
         "type": "scatter",
         "uid": "ac63adde-48d8-48f1-9d7b-ac4758b2cc3e",
         "x": [],
         "y": {
          "dtype": "float64",
          "shape": [
           0
          ]
         }
        },
        {
         "customdata": [
          [
           "0.424528726415519",
           "0.11805719352889166",
           "17.939136335362768",
           "0.17957075471698128",
           "Long",
           "0",
           "56 days 00:00:00"
          ],
          [
           "0.1012480374755178",
           "0.058497066131855166",
           "13.015846284509964",
           "0.2868357802668571",
           "Long",
           "2",
           "218 days 00:00:00"
          ],
          [
           "0.025365397812270846",
           "0.3836186668934406",
           "359.82019420947273",
           "15.382543668264333",
           "Long",
           "4",
           "381 days 00:00:00"
          ],
          [
           "0.025365397812270846",
           "0.19026331245003203",
           "192.78147246403472",
           "0.502534128553198",
           "Short",
           "5",
           "147 days 00:00:00"
          ],
          [
           "0.053362488560261864",
           "0.34760645223084363",
           "44.478940528698196",
           "0.11322814767722703",
           "Short",
           "9",
           "12 days 00:00:00"
          ],
          [
           "0.04460890458749325",
           "0.1820502778886976",
           "7.805259737598796",
           "0.044886428703361764",
           "Long",
           "12",
           "3 days 00:00:00"
          ],
          [
           "0.04460890458749325",
           "0.16524119655106978",
           "16.461789863173582",
           "0.09042441491486235",
           "Short",
           "13",
           "21 days 00:00:00"
          ],
          [
           "0.05348815286035767",
           "0.28338825707710397",
           "84.77485134604439",
           "0.4278708149084017",
           "Long",
           "14",
           "94 days 00:00:00"
          ],
          [
           "0.03212754700349542",
           "0.2306526556512546",
           "17.95010836885815",
           "0.08456675415255253",
           "Long",
           "16",
           "6 days 00:00:00"
          ],
          [
           "0.017584538340294435",
           "0.19518538620575038",
           "31.976940840508412",
           "0.1963577551020409",
           "Long",
           "18",
           "34 days 00:00:00"
          ]
         ],
         "hovertemplate": "%{x}<br>Price: %{y}<br>Size: %{customdata[0]:.4f}<br>Fees: %{customdata[1]:.4f}<br>PnL: %{customdata[2]:.4f}<br>Return: %{customdata[3]:.2%}<br>Direction: %{customdata[4]}<br>Position: %{customdata[5]}<br>Duration: %{customdata[6]}",
         "marker": {
          "color": "#37B13F",
          "line": {
           "color": "rgb(38,123,44)",
           "width": 1
          },
          "size": 7,
          "symbol": "circle"
         },
         "mode": "markers",
         "name": "Exit - Profit",
         "type": "scatter",
         "uid": "3b9ebd7e-2de1-47da-b033-7d56b645287d",
         "x": [
          "2015-07-17T00:00:00.000000",
          "2016-08-17T00:00:00.000000",
          "2018-01-09T00:00:00.000000",
          "2018-06-05T00:00:00.000000",
          "2018-09-17T00:00:00.000000",
          "2018-12-25T00:00:00.000000",
          "2019-01-15T00:00:00.000000",
          "2019-04-19T00:00:00.000000",
          "2020-04-08T00:00:00.000000",
          "2020-07-30T00:00:00.000000"
         ],
         "y": {
          "dtype": "float64",
          "shape": [
           10
          ]
         }
        },
        {
         "customdata": [
          [
           "0.424528726415519",
           "0.19026528460489725",
           "-72.51641355414942",
           "-0.6142481570714518",
           "Short",
           "1",
           "179 days 00:00:00"
          ],
          [
           "0.1012480374755178",
           "0.09336891519916132",
           "-35.02371504864886",
           "-0.5987260108003322",
           "Short",
           "3",
           "129 days 00:00:00"
          ],
          [
           "0.07671627132890334",
           "0.5063051430520766",
           "-70.2176827815573",
           "-0.12202410510738687",
           "Long",
           "6",
           "30 days 00:00:00"
          ],
          [
           "0.07671627132890334",
           "0.5960117806050047",
           "-90.8089544766837",
           "-0.1793561762562294",
           "Short",
           "7",
           "27 days 00:00:00"
          ],
          [
           "0.053362488560261864",
           "0.3928258250368253",
           "-22.5568842205525",
           "-0.054409618176762986",
           "Long",
           "8",
           "35 days 00:00:00"
          ],
          [
           "0.06700513416766356",
           "0.21797574206350967",
           "-219.15417341904055",
           "-0.5020996398559424",
           "Long",
           "10",
           "91 days 00:00:00"
          ],
          [
           "0.06700513416766356",
           "0.2611913733962701",
           "-43.69479844823605",
           "-0.20045716112531953",
           "Short",
           "11",
           "5 days 00:00:00"
          ],
          [
           "0.05348815286035767",
           "0.35338445855471107",
           "-70.63297419328171",
           "-0.24924453441295547",
           "Short",
           "15",
           "349 days 00:00:00"
          ],
          [
           "0.03212754700349542",
           "0.29753321279934336",
           "-67.4087430165671",
           "-0.2922521868488205",
           "Short",
           "17",
           "79 days 00:00:00"
          ]
         ],
         "hovertemplate": "%{x}<br>Price: %{y}<br>Size: %{customdata[0]:.4f}<br>Fees: %{customdata[1]:.4f}<br>PnL: %{customdata[2]:.4f}<br>Return: %{customdata[3]:.2%}<br>Direction: %{customdata[4]}<br>Position: %{customdata[5]}<br>Duration: %{customdata[6]}",
         "marker": {
          "color": "#EA4335",
          "line": {
           "color": "rgb(181,31,18)",
           "width": 1
          },
          "size": 7,
          "symbol": "circle"
         },
         "mode": "markers",
         "name": "Exit - Loss",
         "type": "scatter",
         "uid": "98142b02-10ba-477c-90ec-c4c32d86fcca",
         "x": [
          "2016-01-12T00:00:00.000000",
          "2016-12-24T00:00:00.000000",
          "2018-07-05T00:00:00.000000",
          "2018-08-01T00:00:00.000000",
          "2018-09-05T00:00:00.000000",
          "2018-12-17T00:00:00.000000",
          "2018-12-22T00:00:00.000000",
          "2020-04-02T00:00:00.000000",
          "2020-06-26T00:00:00.000000"
         ],
         "y": {
          "dtype": "float64",
          "shape": [
           9
          ]
         }
        },
        {
         "customdata": [],
         "hovertemplate": "%{x}<br>Price: %{y}<br>Size: %{customdata[0]:.4f}<br>Fees: %{customdata[1]:.4f}<br>PnL: %{customdata[2]:.4f}<br>Return: %{customdata[3]:.2%}<br>Direction: %{customdata[4]}<br>Position: %{customdata[5]}<br>Duration: %{customdata[6]}",
         "marker": {
          "color": "#FFAA00",
          "line": {
           "color": "rgb(178,118,0)",
           "width": 1
          },
          "size": 7,
          "symbol": "circle"
         },
         "mode": "markers",
         "name": "Active",
         "type": "scatter",
         "uid": "87d10c03-85fe-46d6-8f68-b7945fc6d43c",
         "x": [],
         "y": {
          "dtype": "float64",
          "shape": [
           0
          ]
         }
        }
       ],
       "_js2py_layoutDelta": {},
       "_js2py_pointsCallback": {},
       "_js2py_relayout": {},
       "_js2py_restyle": {},
       "_js2py_traceDeltas": {},
       "_js2py_update": {},
       "_last_layout_edit_id": 26,
       "_last_trace_edit_id": 7,
       "_layout": {
        "autosize": false,
        "colorway": [
         "#1f77b4",
         "#ff7f0e",
         "#2ca02c",
         "#dc3912",
         "#9467bd",
         "#8c564b",
         "#e377c2",
         "#7f7f7f",
         "#bcbd22",
         "#17becf"
        ],
        "height": 300,
        "hovermode": "closest",
        "margin": {
         "b": 30,
         "t": 30
        },
        "shapes": [
         {
          "fillcolor": "green",
          "layer": "below",
          "line": {
           "width": 0
          },
          "opacity": 0.15,
          "type": "rect",
          "x0": "2015-05-22T00:00:00.000000",
          "x1": "2015-07-17T00:00:00.000000",
          "xref": "x",
          "y0": 235.32,
          "y1": 278.09,
          "yref": "y"
         },
         {
          "fillcolor": "green",
          "layer": "below",
          "line": {
           "width": 0
          },
          "opacity": 0.15,
          "type": "rect",
          "x0": "2016-01-12T00:00:00.000000",
          "x1": "2016-08-17T00:00:00.000000",
          "xref": "x",
          "y0": 448.18,
          "y1": 577.76,
          "yref": "y"
         },
         {
          "fillcolor": "green",
          "layer": "below",
          "line": {
           "width": 0
          },
          "opacity": 0.15,
          "type": "rect",
          "x0": "2016-12-24T00:00:00.000000",
          "x1": "2018-01-09T00:00:00.000000",
          "xref": "x",
          "y0": 922.1799999999998,
          "y1": 15123.7,
          "yref": "y"
         },
         {
          "fillcolor": "green",
          "layer": "below",
          "line": {
           "width": 0
          },
          "opacity": 0.15,
          "type": "rect",
          "x0": "2018-01-09T00:00:00.000000",
          "x1": "2018-06-05T00:00:00.000000",
          "xref": "x",
          "y0": 15123.7,
          "y1": 7500.9,
          "yref": "y"
         },
         {
          "fillcolor": "green",
          "layer": "below",
          "line": {
           "width": 0
          },
          "opacity": 0.15,
          "type": "rect",
          "x0": "2018-09-05T00:00:00.000000",
          "x1": "2018-09-17T00:00:00.000000",
          "xref": "x",
          "y0": 7361.459999999999,
          "y1": 6514.06,
          "yref": "y"
         },
         {
          "fillcolor": "green",
          "layer": "below",
          "line": {
           "width": 0
          },
          "opacity": 0.15,
          "type": "rect",
          "x0": "2018-12-22T00:00:00.000000",
          "x1": "2018-12-25T00:00:00.000000",
          "xref": "x",
          "y0": 3898.08,
          "y1": 4081.03,
          "yref": "y"
         },
         {
          "fillcolor": "green",
          "layer": "below",
          "line": {
           "width": 0
          },
          "opacity": 0.15,
          "type": "rect",
          "x0": "2018-12-25T00:00:00.000000",
          "x1": "2019-01-15T00:00:00.000000",
          "xref": "x",
          "y0": 4081.03,
          "y1": 3704.22,
          "yref": "y"
         },
         {
          "fillcolor": "green",
          "layer": "below",
          "line": {
           "width": 0
          },
          "opacity": 0.15,
          "type": "rect",
          "x0": "2019-01-15T00:00:00.000000",
          "x1": "2019-04-19T00:00:00.000000",
          "xref": "x",
          "y0": 3704.22,
          "y1": 5298.15,
          "yref": "y"
         },
         {
          "fillcolor": "green",
          "layer": "below",
          "line": {
           "width": 0
          },
          "opacity": 0.15,
          "type": "rect",
          "x0": "2020-04-02T00:00:00.000000",
          "x1": "2020-04-08T00:00:00.000000",
          "xref": "x",
          "y0": 6606.78,
          "y1": 7179.28,
          "yref": "y"
         },
         {
          "fillcolor": "green",
          "layer": "below",
          "line": {
           "width": 0
          },
          "opacity": 0.15,
          "type": "rect",
          "x0": "2020-06-26T00:00:00.000000",
          "x1": "2020-07-30T00:00:00.000000",
          "xref": "x",
          "y0": 9261,
          "y1": 11099.83,
          "yref": "y"
         },
         {
          "fillcolor": "red",
          "layer": "below",
          "line": {
           "width": 0
          },
          "opacity": 0.15,
          "type": "rect",
          "x0": "2015-07-17T00:00:00.000000",
          "x1": "2016-01-12T00:00:00.000000",
          "xref": "x",
          "y0": 278.09,
          "y1": 448.18,
          "yref": "y"
         },
         {
          "fillcolor": "red",
          "layer": "below",
          "line": {
           "width": 0
          },
          "opacity": 0.15,
          "type": "rect",
          "x0": "2016-08-17T00:00:00.000000",
          "x1": "2016-12-24T00:00:00.000000",
          "xref": "x",
          "y0": 577.76,
          "y1": 922.18,
          "yref": "y"
         },
         {
          "fillcolor": "red",
          "layer": "below",
          "line": {
           "width": 0
          },
          "opacity": 0.15,
          "type": "rect",
          "x0": "2018-06-05T00:00:00.000000",
          "x1": "2018-07-05T00:00:00.000000",
          "xref": "x",
          "y0": 7500.899999999999,
          "y1": 6599.71,
          "yref": "y"
         },
         {
          "fillcolor": "red",
          "layer": "below",
          "line": {
           "width": 0
          },
          "opacity": 0.15,
          "type": "rect",
          "x0": "2018-07-05T00:00:00.000000",
          "x1": "2018-08-01T00:00:00.000000",
          "xref": "x",
          "y0": 6599.71,
          "y1": 7769.04,
          "yref": "y"
         },
         {
          "fillcolor": "red",
          "layer": "below",
          "line": {
           "width": 0
          },
          "opacity": 0.15,
          "type": "rect",
          "x0": "2018-08-01T00:00:00.000000",
          "x1": "2018-09-05T00:00:00.000000",
          "xref": "x",
          "y0": 7769.039999999999,
          "y1": 7361.46,
          "yref": "y"
         },
         {
          "fillcolor": "red",
          "layer": "below",
          "line": {
           "width": 0
          },
          "opacity": 0.15,
          "type": "rect",
          "x0": "2018-09-17T00:00:00.000000",
          "x1": "2018-12-17T00:00:00.000000",
          "xref": "x",
          "y0": 6514.06,
          "y1": 3253.12,
          "yref": "y"
         },
         {
          "fillcolor": "red",
          "layer": "below",
          "line": {
           "width": 0
          },
          "opacity": 0.15,
          "type": "rect",
          "x0": "2018-12-17T00:00:00.000000",
          "x1": "2018-12-22T00:00:00.000000",
          "xref": "x",
          "y0": 3253.12,
          "y1": 3898.08,
          "yref": "y"
         },
         {
          "fillcolor": "red",
          "layer": "below",
          "line": {
           "width": 0
          },
          "opacity": 0.15,
          "type": "rect",
          "x0": "2019-04-19T00:00:00.000000",
          "x1": "2020-04-02T00:00:00.000000",
          "xref": "x",
          "y0": 5298.15,
          "y1": 6606.78,
          "yref": "y"
         },
         {
          "fillcolor": "red",
          "layer": "below",
          "line": {
           "width": 0
          },
          "opacity": 0.15,
          "type": "rect",
          "x0": "2020-04-08T00:00:00.000000",
          "x1": "2020-06-26T00:00:00.000000",
          "xref": "x",
          "y0": 7179.28,
          "y1": 9261,
          "yref": "y"
         }
        ],
        "template": {
         "data": {
          "bar": [
           {
            "error_x": {
             "color": "#2a3f5f"
            },
            "error_y": {
             "color": "#2a3f5f"
            },
            "marker": {
             "line": {
              "color": "#E5ECF6",
              "width": 0.5
             }
            },
            "type": "bar"
           }
          ],
          "barpolar": [
           {
            "marker": {
             "line": {
              "color": "#E5ECF6",
              "width": 0.5
             }
            },
            "type": "barpolar"
           }
          ],
          "carpet": [
           {
            "aaxis": {
             "endlinecolor": "#2a3f5f",
             "gridcolor": "white",
             "linecolor": "white",
             "minorgridcolor": "white",
             "startlinecolor": "#2a3f5f"
            },
            "baxis": {
             "endlinecolor": "#2a3f5f",
             "gridcolor": "white",
             "linecolor": "white",
             "minorgridcolor": "white",
             "startlinecolor": "#2a3f5f"
            },
            "type": "carpet"
           }
          ],
          "choropleth": [
           {
            "colorbar": {
             "outlinewidth": 0,
             "ticks": ""
            },
            "type": "choropleth"
           }
          ],
          "contour": [
           {
            "colorbar": {
             "outlinewidth": 0,
             "ticks": ""
            },
            "colorscale": [
             [
              0,
              "#0d0887"
             ],
             [
              0.1111111111111111,
              "#46039f"
             ],
             [
              0.2222222222222222,
              "#7201a8"
             ],
             [
              0.3333333333333333,
              "#9c179e"
             ],
             [
              0.4444444444444444,
              "#bd3786"
             ],
             [
              0.5555555555555556,
              "#d8576b"
             ],
             [
              0.6666666666666666,
              "#ed7953"
             ],
             [
              0.7777777777777778,
              "#fb9f3a"
             ],
             [
              0.8888888888888888,
              "#fdca26"
             ],
             [
              1,
              "#f0f921"
             ]
            ],
            "type": "contour"
           }
          ],
          "contourcarpet": [
           {
            "colorbar": {
             "outlinewidth": 0,
             "ticks": ""
            },
            "type": "contourcarpet"
           }
          ],
          "heatmap": [
           {
            "colorbar": {
             "outlinewidth": 0,
             "ticks": ""
            },
            "colorscale": [
             [
              0,
              "#0d0887"
             ],
             [
              0.1111111111111111,
              "#46039f"
             ],
             [
              0.2222222222222222,
              "#7201a8"
             ],
             [
              0.3333333333333333,
              "#9c179e"
             ],
             [
              0.4444444444444444,
              "#bd3786"
             ],
             [
              0.5555555555555556,
              "#d8576b"
             ],
             [
              0.6666666666666666,
              "#ed7953"
             ],
             [
              0.7777777777777778,
              "#fb9f3a"
             ],
             [
              0.8888888888888888,
              "#fdca26"
             ],
             [
              1,
              "#f0f921"
             ]
            ],
            "type": "heatmap"
           }
          ],
          "heatmapgl": [
           {
            "colorbar": {
             "outlinewidth": 0,
             "ticks": ""
            },
            "colorscale": [
             [
              0,
              "#0d0887"
             ],
             [
              0.1111111111111111,
              "#46039f"
             ],
             [
              0.2222222222222222,
              "#7201a8"
             ],
             [
              0.3333333333333333,
              "#9c179e"
             ],
             [
              0.4444444444444444,
              "#bd3786"
             ],
             [
              0.5555555555555556,
              "#d8576b"
             ],
             [
              0.6666666666666666,
              "#ed7953"
             ],
             [
              0.7777777777777778,
              "#fb9f3a"
             ],
             [
              0.8888888888888888,
              "#fdca26"
             ],
             [
              1,
              "#f0f921"
             ]
            ],
            "type": "heatmapgl"
           }
          ],
          "histogram": [
           {
            "marker": {
             "colorbar": {
              "outlinewidth": 0,
              "ticks": ""
             }
            },
            "type": "histogram"
           }
          ],
          "histogram2d": [
           {
            "colorbar": {
             "outlinewidth": 0,
             "ticks": ""
            },
            "colorscale": [
             [
              0,
              "#0d0887"
             ],
             [
              0.1111111111111111,
              "#46039f"
             ],
             [
              0.2222222222222222,
              "#7201a8"
             ],
             [
              0.3333333333333333,
              "#9c179e"
             ],
             [
              0.4444444444444444,
              "#bd3786"
             ],
             [
              0.5555555555555556,
              "#d8576b"
             ],
             [
              0.6666666666666666,
              "#ed7953"
             ],
             [
              0.7777777777777778,
              "#fb9f3a"
             ],
             [
              0.8888888888888888,
              "#fdca26"
             ],
             [
              1,
              "#f0f921"
             ]
            ],
            "type": "histogram2d"
           }
          ],
          "histogram2dcontour": [
           {
            "colorbar": {
             "outlinewidth": 0,
             "ticks": ""
            },
            "colorscale": [
             [
              0,
              "#0d0887"
             ],
             [
              0.1111111111111111,
              "#46039f"
             ],
             [
              0.2222222222222222,
              "#7201a8"
             ],
             [
              0.3333333333333333,
              "#9c179e"
             ],
             [
              0.4444444444444444,
              "#bd3786"
             ],
             [
              0.5555555555555556,
              "#d8576b"
             ],
             [
              0.6666666666666666,
              "#ed7953"
             ],
             [
              0.7777777777777778,
              "#fb9f3a"
             ],
             [
              0.8888888888888888,
              "#fdca26"
             ],
             [
              1,
              "#f0f921"
             ]
            ],
            "type": "histogram2dcontour"
           }
          ],
          "mesh3d": [
           {
            "colorbar": {
             "outlinewidth": 0,
             "ticks": ""
            },
            "type": "mesh3d"
           }
          ],
          "parcoords": [
           {
            "line": {
             "colorbar": {
              "outlinewidth": 0,
              "ticks": ""
             }
            },
            "type": "parcoords"
           }
          ],
          "pie": [
           {
            "automargin": true,
            "type": "pie"
           }
          ],
          "scatter": [
           {
            "marker": {
             "colorbar": {
              "outlinewidth": 0,
              "ticks": ""
             }
            },
            "type": "scatter"
           }
          ],
          "scatter3d": [
           {
            "line": {
             "colorbar": {
              "outlinewidth": 0,
              "ticks": ""
             }
            },
            "marker": {
             "colorbar": {
              "outlinewidth": 0,
              "ticks": ""
             }
            },
            "type": "scatter3d"
           }
          ],
          "scattercarpet": [
           {
            "marker": {
             "colorbar": {
              "outlinewidth": 0,
              "ticks": ""
             }
            },
            "type": "scattercarpet"
           }
          ],
          "scattergeo": [
           {
            "marker": {
             "colorbar": {
              "outlinewidth": 0,
              "ticks": ""
             }
            },
            "type": "scattergeo"
           }
          ],
          "scattergl": [
           {
            "marker": {
             "colorbar": {
              "outlinewidth": 0,
              "ticks": ""
             }
            },
            "type": "scattergl"
           }
          ],
          "scattermapbox": [
           {
            "marker": {
             "colorbar": {
              "outlinewidth": 0,
              "ticks": ""
             }
            },
            "type": "scattermapbox"
           }
          ],
          "scatterpolar": [
           {
            "marker": {
             "colorbar": {
              "outlinewidth": 0,
              "ticks": ""
             }
            },
            "type": "scatterpolar"
           }
          ],
          "scatterpolargl": [
           {
            "marker": {
             "colorbar": {
              "outlinewidth": 0,
              "ticks": ""
             }
            },
            "type": "scatterpolargl"
           }
          ],
          "scatterternary": [
           {
            "marker": {
             "colorbar": {
              "outlinewidth": 0,
              "ticks": ""
             }
            },
            "type": "scatterternary"
           }
          ],
          "surface": [
           {
            "colorbar": {
             "outlinewidth": 0,
             "ticks": ""
            },
            "colorscale": [
             [
              0,
              "#0d0887"
             ],
             [
              0.1111111111111111,
              "#46039f"
             ],
             [
              0.2222222222222222,
              "#7201a8"
             ],
             [
              0.3333333333333333,
              "#9c179e"
             ],
             [
              0.4444444444444444,
              "#bd3786"
             ],
             [
              0.5555555555555556,
              "#d8576b"
             ],
             [
              0.6666666666666666,
              "#ed7953"
             ],
             [
              0.7777777777777778,
              "#fb9f3a"
             ],
             [
              0.8888888888888888,
              "#fdca26"
             ],
             [
              1,
              "#f0f921"
             ]
            ],
            "type": "surface"
           }
          ],
          "table": [
           {
            "cells": {
             "fill": {
              "color": "#EBF0F8"
             },
             "line": {
              "color": "white"
             }
            },
            "header": {
             "fill": {
              "color": "#C8D4E3"
             },
             "line": {
              "color": "white"
             }
            },
            "type": "table"
           }
          ]
         },
         "layout": {
          "annotationdefaults": {
           "arrowcolor": "#2a3f5f",
           "arrowhead": 0,
           "arrowwidth": 1
          },
          "coloraxis": {
           "colorbar": {
            "outlinewidth": 0,
            "ticks": ""
           }
          },
          "colorscale": {
           "diverging": [
            [
             0,
             "#8e0152"
            ],
            [
             0.1,
             "#c51b7d"
            ],
            [
             0.2,
             "#de77ae"
            ],
            [
             0.3,
             "#f1b6da"
            ],
            [
             0.4,
             "#fde0ef"
            ],
            [
             0.5,
             "#f7f7f7"
            ],
            [
             0.6,
             "#e6f5d0"
            ],
            [
             0.7,
             "#b8e186"
            ],
            [
             0.8,
             "#7fbc41"
            ],
            [
             0.9,
             "#4d9221"
            ],
            [
             1,
             "#276419"
            ]
           ],
           "sequential": [
            [
             0,
             "#0d0887"
            ],
            [
             0.1111111111111111,
             "#46039f"
            ],
            [
             0.2222222222222222,
             "#7201a8"
            ],
            [
             0.3333333333333333,
             "#9c179e"
            ],
            [
             0.4444444444444444,
             "#bd3786"
            ],
            [
             0.5555555555555556,
             "#d8576b"
            ],
            [
             0.6666666666666666,
             "#ed7953"
            ],
            [
             0.7777777777777778,
             "#fb9f3a"
            ],
            [
             0.8888888888888888,
             "#fdca26"
            ],
            [
             1,
             "#f0f921"
            ]
           ],
           "sequentialminus": [
            [
             0,
             "#0d0887"
            ],
            [
             0.1111111111111111,
             "#46039f"
            ],
            [
             0.2222222222222222,
             "#7201a8"
            ],
            [
             0.3333333333333333,
             "#9c179e"
            ],
            [
             0.4444444444444444,
             "#bd3786"
            ],
            [
             0.5555555555555556,
             "#d8576b"
            ],
            [
             0.6666666666666666,
             "#ed7953"
            ],
            [
             0.7777777777777778,
             "#fb9f3a"
            ],
            [
             0.8888888888888888,
             "#fdca26"
            ],
            [
             1,
             "#f0f921"
            ]
           ]
          },
          "colorway": [
           "#636efa",
           "#EF553B",
           "#00cc96",
           "#ab63fa",
           "#FFA15A",
           "#19d3f3",
           "#FF6692",
           "#B6E880",
           "#FF97FF",
           "#FECB52"
          ],
          "font": {
           "color": "#2a3f5f"
          },
          "geo": {
           "bgcolor": "white",
           "lakecolor": "white",
           "landcolor": "#E5ECF6",
           "showlakes": true,
           "showland": true,
           "subunitcolor": "white"
          },
          "hoverlabel": {
           "align": "left"
          },
          "hovermode": "closest",
          "mapbox": {
           "style": "light"
          },
          "paper_bgcolor": "white",
          "plot_bgcolor": "#E5ECF6",
          "polar": {
           "angularaxis": {
            "gridcolor": "white",
            "linecolor": "white",
            "ticks": ""
           },
           "bgcolor": "#E5ECF6",
           "radialaxis": {
            "gridcolor": "white",
            "linecolor": "white",
            "ticks": ""
           }
          },
          "scene": {
           "xaxis": {
            "backgroundcolor": "#E5ECF6",
            "gridcolor": "white",
            "gridwidth": 2,
            "linecolor": "white",
            "showbackground": true,
            "ticks": "",
            "zerolinecolor": "white"
           },
           "yaxis": {
            "backgroundcolor": "#E5ECF6",
            "gridcolor": "white",
            "gridwidth": 2,
            "linecolor": "white",
            "showbackground": true,
            "ticks": "",
            "zerolinecolor": "white"
           },
           "zaxis": {
            "backgroundcolor": "#E5ECF6",
            "gridcolor": "white",
            "gridwidth": 2,
            "linecolor": "white",
            "showbackground": true,
            "ticks": "",
            "zerolinecolor": "white"
           }
          },
          "shapedefaults": {
           "line": {
            "color": "#2a3f5f"
           }
          },
          "ternary": {
           "aaxis": {
            "gridcolor": "white",
            "linecolor": "white",
            "ticks": ""
           },
           "baxis": {
            "gridcolor": "white",
            "linecolor": "white",
            "ticks": ""
           },
           "bgcolor": "#E5ECF6",
           "caxis": {
            "gridcolor": "white",
            "linecolor": "white",
            "ticks": ""
           }
          },
          "title": {
           "x": 0.05
          },
          "xaxis": {
           "automargin": true,
           "gridcolor": "white",
           "linecolor": "white",
           "ticks": "",
           "title": {
            "standoff": 15
           },
           "zerolinecolor": "white",
           "zerolinewidth": 2
          },
          "yaxis": {
           "automargin": true,
           "gridcolor": "white",
           "linecolor": "white",
           "ticks": "",
           "title": {
            "standoff": 15
           },
           "zerolinecolor": "white",
           "zerolinewidth": 2
          }
         }
        },
        "width": 700
       },
       "_model_module_version": "^4.8.0",
       "_py2js_animate": {},
       "_py2js_deleteTraces": {},
       "_py2js_moveTraces": {},
       "_py2js_removeLayoutProps": {},
       "_py2js_removeTraceProps": {},
       "_py2js_restyle": {},
       "_view_count": 0,
       "_view_module_version": "^4.8.0"
      }
     },
     "ef98317771b149be8048af2b5dc01957": {
      "buffers": [
       {
        "data": "AAAAAAAA8D8AAAAAAAAAQAAAAAAAAAhAAAAAAAAAEEAAAAAAAAAIQAAAAAAAAABAAAAAAAAA8D8=",
        "encoding": "base64",
        "path": [
         "_data",
         0,
         "y",
         "value"
        ]
       },
       {
        "data": "AAAAAAAA8D8AAAAAAAAAQAAAAAAAAAhAAAAAAAAAEEAAAAAAAAAIQAAAAAAAAABA",
        "encoding": "base64",
        "path": [
         "_data",
         1,
         "y",
         "value"
        ]
       },
       {
        "data": "",
        "encoding": "base64",
        "path": [
         "_data",
         2,
         "y",
         "value"
        ]
       },
       {
        "data": "AAAAAAAAAEAAAAAAAAAQQAAAAAAAAAhAAAAAAAAA8D8=",
        "encoding": "base64",
        "path": [
         "_data",
         3,
         "y",
         "value"
        ]
       },
       {
        "data": "AAAAAAAACEAAAAAAAAAAQA==",
        "encoding": "base64",
        "path": [
         "_data",
         4,
         "y",
         "value"
        ]
       },
       {
        "data": "",
        "encoding": "base64",
        "path": [
         "_data",
         5,
         "y",
         "value"
        ]
       }
      ],
      "model_module": "plotlywidget",
      "model_module_version": "^4.8.0",
      "model_name": "FigureModel",
      "state": {
       "_config": {
        "plotlyServerURL": "https://plot.ly"
       },
       "_data": [
        {
         "mode": "lines",
         "name": "None",
         "showlegend": false,
         "type": "scatter",
         "uid": "ba9a7834-d118-4fdb-b018-c83b1ce5f382",
         "x": [
          0,
          1,
          2,
          3,
          4,
          5,
          6
         ],
         "y": {
          "dtype": "float64",
          "shape": [
           7
          ]
         }
        },
        {
         "customdata": [
          [
           "1.0",
           "0.0",
           "Long",
           "0"
          ],
          [
           "1.0",
           "0.0",
           "Short",
           "1"
          ],
          [
           "1.0",
           "0.0",
           "Long",
           "2"
          ],
          [
           "1.0",
           "0.0",
           "Short",
           "3"
          ],
          [
           "1.0",
           "0.0",
           "Long",
           "4"
          ],
          [
           "1.0",
           "0.0",
           "Short",
           "5"
          ]
         ],
         "hovertemplate": "%{x}<br>Price: %{y}<br>Size: %{customdata[0]:.4f}<br>Fees: %{customdata[1]:.4f}<br>Direction: %{customdata[2]}<br>Position: %{customdata[3]}",
         "marker": {
          "color": "#4285F4",
          "line": {
           "color": "rgb(11,84,205)",
           "width": 1
          },
          "size": 7,
          "symbol": "circle"
         },
         "mode": "markers",
         "name": "Entry",
         "type": "scatter",
         "uid": "e6e3a77e-9ef1-443e-8bee-bcdca6f2b64a",
         "x": [
          0,
          1,
          2,
          3,
          4,
          5
         ],
         "y": {
          "dtype": "float64",
          "shape": [
           6
          ]
         }
        },
        {
         "customdata": [],
         "hovertemplate": "%{x}<br>Price: %{y}<br>Size: %{customdata[0]:.4f}<br>Fees: %{customdata[1]:.4f}<br>PnL: %{customdata[2]:.4f}<br>Return: %{customdata[3]:.2%}<br>Direction: %{customdata[4]}<br>Position: %{customdata[5]}<br>Duration: %{customdata[6]}",
         "marker": {
          "color": "#E2E2E2",
          "line": {
           "color": "rgb(158,158,158)",
           "width": 1
          },
          "size": 7,
          "symbol": "circle"
         },
         "mode": "markers",
         "name": "Exit",
         "type": "scatter",
         "uid": "17581758-7f89-465a-8eb4-4ebbb1e2f12f",
         "x": [],
         "y": {
          "dtype": "float64",
          "shape": [
           0
          ]
         }
        },
        {
         "customdata": [
          [
           "1.0",
           "0.0",
           "1.0",
           "1.0",
           "Long",
           "0",
           "1"
          ],
          [
           "1.0",
           "0.0",
           "1.0",
           "0.3333333333333333",
           "Long",
           "2",
           "1"
          ],
          [
           "1.0",
           "0.0",
           "1.0",
           "0.25",
           "Short",
           "3",
           "1"
          ],
          [
           "1.0",
           "0.0",
           "1.0",
           "0.5",
           "Short",
           "5",
           "1"
          ]
         ],
         "hovertemplate": "%{x}<br>Price: %{y}<br>Size: %{customdata[0]:.4f}<br>Fees: %{customdata[1]:.4f}<br>PnL: %{customdata[2]:.4f}<br>Return: %{customdata[3]:.2%}<br>Direction: %{customdata[4]}<br>Position: %{customdata[5]}<br>Duration: %{customdata[6]}",
         "marker": {
          "color": "#37B13F",
          "line": {
           "color": "rgb(38,123,44)",
           "width": 1
          },
          "size": 7,
          "symbol": "circle"
         },
         "mode": "markers",
         "name": "Exit - Profit",
         "type": "scatter",
         "uid": "7d97c580-2721-466d-8987-18fe5005fafc",
         "x": [
          1,
          3,
          4,
          6
         ],
         "y": {
          "dtype": "float64",
          "shape": [
           4
          ]
         }
        },
        {
         "customdata": [
          [
           "1.0",
           "0.0",
           "-1.0",
           "-0.5",
           "Short",
           "1",
           "1"
          ],
          [
           "1.0",
           "0.0",
           "-1.0",
           "-0.3333333333333333",
           "Long",
           "4",
           "1"
          ]
         ],
         "hovertemplate": "%{x}<br>Price: %{y}<br>Size: %{customdata[0]:.4f}<br>Fees: %{customdata[1]:.4f}<br>PnL: %{customdata[2]:.4f}<br>Return: %{customdata[3]:.2%}<br>Direction: %{customdata[4]}<br>Position: %{customdata[5]}<br>Duration: %{customdata[6]}",
         "marker": {
          "color": "#EA4335",
          "line": {
           "color": "rgb(181,31,18)",
           "width": 1
          },
          "size": 7,
          "symbol": "circle"
         },
         "mode": "markers",
         "name": "Exit - Loss",
         "type": "scatter",
         "uid": "30431803-af4c-4f77-bbff-9d9d08d83226",
         "x": [
          2,
          5
         ],
         "y": {
          "dtype": "float64",
          "shape": [
           2
          ]
         }
        },
        {
         "customdata": [],
         "hovertemplate": "%{x}<br>Price: %{y}<br>Size: %{customdata[0]:.4f}<br>Fees: %{customdata[1]:.4f}<br>PnL: %{customdata[2]:.4f}<br>Return: %{customdata[3]:.2%}<br>Direction: %{customdata[4]}<br>Position: %{customdata[5]}<br>Duration: %{customdata[6]}",
         "marker": {
          "color": "#FFAA00",
          "line": {
           "color": "rgb(178,118,0)",
           "width": 1
          },
          "size": 7,
          "symbol": "circle"
         },
         "mode": "markers",
         "name": "Active",
         "type": "scatter",
         "uid": "db8a2fc9-ee85-4882-890a-e374c437db55",
         "x": [],
         "y": {
          "dtype": "float64",
          "shape": [
           0
          ]
         }
        }
       ],
       "_js2py_layoutDelta": {},
       "_js2py_pointsCallback": {},
       "_js2py_relayout": {},
       "_js2py_restyle": {},
       "_js2py_traceDeltas": {},
       "_js2py_update": {},
       "_last_layout_edit_id": 13,
       "_last_trace_edit_id": 7,
       "_layout": {
        "autosize": false,
        "colorway": [
         "#1f77b4",
         "#ff7f0e",
         "#2ca02c",
         "#dc3912",
         "#9467bd",
         "#8c564b",
         "#e377c2",
         "#7f7f7f",
         "#bcbd22",
         "#17becf"
        ],
        "height": 300,
        "hovermode": "closest",
        "margin": {
         "b": 30,
         "t": 30
        },
        "shapes": [
         {
          "fillcolor": "green",
          "layer": "below",
          "line": {
           "width": 0
          },
          "opacity": 0.15,
          "type": "rect",
          "x0": 0,
          "x1": 1,
          "xref": "x",
          "y0": 1,
          "y1": 2,
          "yref": "y"
         },
         {
          "fillcolor": "green",
          "layer": "below",
          "line": {
           "width": 0
          },
          "opacity": 0.15,
          "type": "rect",
          "x0": 2,
          "x1": 3,
          "xref": "x",
          "y0": 3,
          "y1": 4,
          "yref": "y"
         },
         {
          "fillcolor": "green",
          "layer": "below",
          "line": {
           "width": 0
          },
          "opacity": 0.15,
          "type": "rect",
          "x0": 3,
          "x1": 4,
          "xref": "x",
          "y0": 4,
          "y1": 3,
          "yref": "y"
         },
         {
          "fillcolor": "green",
          "layer": "below",
          "line": {
           "width": 0
          },
          "opacity": 0.15,
          "type": "rect",
          "x0": 5,
          "x1": 6,
          "xref": "x",
          "y0": 2,
          "y1": 1,
          "yref": "y"
         },
         {
          "fillcolor": "red",
          "layer": "below",
          "line": {
           "width": 0
          },
          "opacity": 0.15,
          "type": "rect",
          "x0": 1,
          "x1": 2,
          "xref": "x",
          "y0": 2,
          "y1": 3,
          "yref": "y"
         },
         {
          "fillcolor": "red",
          "layer": "below",
          "line": {
           "width": 0
          },
          "opacity": 0.15,
          "type": "rect",
          "x0": 4,
          "x1": 5,
          "xref": "x",
          "y0": 3,
          "y1": 2,
          "yref": "y"
         }
        ],
        "template": {
         "data": {
          "bar": [
           {
            "error_x": {
             "color": "#2a3f5f"
            },
            "error_y": {
             "color": "#2a3f5f"
            },
            "marker": {
             "line": {
              "color": "#E5ECF6",
              "width": 0.5
             }
            },
            "type": "bar"
           }
          ],
          "barpolar": [
           {
            "marker": {
             "line": {
              "color": "#E5ECF6",
              "width": 0.5
             }
            },
            "type": "barpolar"
           }
          ],
          "carpet": [
           {
            "aaxis": {
             "endlinecolor": "#2a3f5f",
             "gridcolor": "white",
             "linecolor": "white",
             "minorgridcolor": "white",
             "startlinecolor": "#2a3f5f"
            },
            "baxis": {
             "endlinecolor": "#2a3f5f",
             "gridcolor": "white",
             "linecolor": "white",
             "minorgridcolor": "white",
             "startlinecolor": "#2a3f5f"
            },
            "type": "carpet"
           }
          ],
          "choropleth": [
           {
            "colorbar": {
             "outlinewidth": 0,
             "ticks": ""
            },
            "type": "choropleth"
           }
          ],
          "contour": [
           {
            "colorbar": {
             "outlinewidth": 0,
             "ticks": ""
            },
            "colorscale": [
             [
              0,
              "#0d0887"
             ],
             [
              0.1111111111111111,
              "#46039f"
             ],
             [
              0.2222222222222222,
              "#7201a8"
             ],
             [
              0.3333333333333333,
              "#9c179e"
             ],
             [
              0.4444444444444444,
              "#bd3786"
             ],
             [
              0.5555555555555556,
              "#d8576b"
             ],
             [
              0.6666666666666666,
              "#ed7953"
             ],
             [
              0.7777777777777778,
              "#fb9f3a"
             ],
             [
              0.8888888888888888,
              "#fdca26"
             ],
             [
              1,
              "#f0f921"
             ]
            ],
            "type": "contour"
           }
          ],
          "contourcarpet": [
           {
            "colorbar": {
             "outlinewidth": 0,
             "ticks": ""
            },
            "type": "contourcarpet"
           }
          ],
          "heatmap": [
           {
            "colorbar": {
             "outlinewidth": 0,
             "ticks": ""
            },
            "colorscale": [
             [
              0,
              "#0d0887"
             ],
             [
              0.1111111111111111,
              "#46039f"
             ],
             [
              0.2222222222222222,
              "#7201a8"
             ],
             [
              0.3333333333333333,
              "#9c179e"
             ],
             [
              0.4444444444444444,
              "#bd3786"
             ],
             [
              0.5555555555555556,
              "#d8576b"
             ],
             [
              0.6666666666666666,
              "#ed7953"
             ],
             [
              0.7777777777777778,
              "#fb9f3a"
             ],
             [
              0.8888888888888888,
              "#fdca26"
             ],
             [
              1,
              "#f0f921"
             ]
            ],
            "type": "heatmap"
           }
          ],
          "heatmapgl": [
           {
            "colorbar": {
             "outlinewidth": 0,
             "ticks": ""
            },
            "colorscale": [
             [
              0,
              "#0d0887"
             ],
             [
              0.1111111111111111,
              "#46039f"
             ],
             [
              0.2222222222222222,
              "#7201a8"
             ],
             [
              0.3333333333333333,
              "#9c179e"
             ],
             [
              0.4444444444444444,
              "#bd3786"
             ],
             [
              0.5555555555555556,
              "#d8576b"
             ],
             [
              0.6666666666666666,
              "#ed7953"
             ],
             [
              0.7777777777777778,
              "#fb9f3a"
             ],
             [
              0.8888888888888888,
              "#fdca26"
             ],
             [
              1,
              "#f0f921"
             ]
            ],
            "type": "heatmapgl"
           }
          ],
          "histogram": [
           {
            "marker": {
             "colorbar": {
              "outlinewidth": 0,
              "ticks": ""
             }
            },
            "type": "histogram"
           }
          ],
          "histogram2d": [
           {
            "colorbar": {
             "outlinewidth": 0,
             "ticks": ""
            },
            "colorscale": [
             [
              0,
              "#0d0887"
             ],
             [
              0.1111111111111111,
              "#46039f"
             ],
             [
              0.2222222222222222,
              "#7201a8"
             ],
             [
              0.3333333333333333,
              "#9c179e"
             ],
             [
              0.4444444444444444,
              "#bd3786"
             ],
             [
              0.5555555555555556,
              "#d8576b"
             ],
             [
              0.6666666666666666,
              "#ed7953"
             ],
             [
              0.7777777777777778,
              "#fb9f3a"
             ],
             [
              0.8888888888888888,
              "#fdca26"
             ],
             [
              1,
              "#f0f921"
             ]
            ],
            "type": "histogram2d"
           }
          ],
          "histogram2dcontour": [
           {
            "colorbar": {
             "outlinewidth": 0,
             "ticks": ""
            },
            "colorscale": [
             [
              0,
              "#0d0887"
             ],
             [
              0.1111111111111111,
              "#46039f"
             ],
             [
              0.2222222222222222,
              "#7201a8"
             ],
             [
              0.3333333333333333,
              "#9c179e"
             ],
             [
              0.4444444444444444,
              "#bd3786"
             ],
             [
              0.5555555555555556,
              "#d8576b"
             ],
             [
              0.6666666666666666,
              "#ed7953"
             ],
             [
              0.7777777777777778,
              "#fb9f3a"
             ],
             [
              0.8888888888888888,
              "#fdca26"
             ],
             [
              1,
              "#f0f921"
             ]
            ],
            "type": "histogram2dcontour"
           }
          ],
          "mesh3d": [
           {
            "colorbar": {
             "outlinewidth": 0,
             "ticks": ""
            },
            "type": "mesh3d"
           }
          ],
          "parcoords": [
           {
            "line": {
             "colorbar": {
              "outlinewidth": 0,
              "ticks": ""
             }
            },
            "type": "parcoords"
           }
          ],
          "pie": [
           {
            "automargin": true,
            "type": "pie"
           }
          ],
          "scatter": [
           {
            "marker": {
             "colorbar": {
              "outlinewidth": 0,
              "ticks": ""
             }
            },
            "type": "scatter"
           }
          ],
          "scatter3d": [
           {
            "line": {
             "colorbar": {
              "outlinewidth": 0,
              "ticks": ""
             }
            },
            "marker": {
             "colorbar": {
              "outlinewidth": 0,
              "ticks": ""
             }
            },
            "type": "scatter3d"
           }
          ],
          "scattercarpet": [
           {
            "marker": {
             "colorbar": {
              "outlinewidth": 0,
              "ticks": ""
             }
            },
            "type": "scattercarpet"
           }
          ],
          "scattergeo": [
           {
            "marker": {
             "colorbar": {
              "outlinewidth": 0,
              "ticks": ""
             }
            },
            "type": "scattergeo"
           }
          ],
          "scattergl": [
           {
            "marker": {
             "colorbar": {
              "outlinewidth": 0,
              "ticks": ""
             }
            },
            "type": "scattergl"
           }
          ],
          "scattermapbox": [
           {
            "marker": {
             "colorbar": {
              "outlinewidth": 0,
              "ticks": ""
             }
            },
            "type": "scattermapbox"
           }
          ],
          "scatterpolar": [
           {
            "marker": {
             "colorbar": {
              "outlinewidth": 0,
              "ticks": ""
             }
            },
            "type": "scatterpolar"
           }
          ],
          "scatterpolargl": [
           {
            "marker": {
             "colorbar": {
              "outlinewidth": 0,
              "ticks": ""
             }
            },
            "type": "scatterpolargl"
           }
          ],
          "scatterternary": [
           {
            "marker": {
             "colorbar": {
              "outlinewidth": 0,
              "ticks": ""
             }
            },
            "type": "scatterternary"
           }
          ],
          "surface": [
           {
            "colorbar": {
             "outlinewidth": 0,
             "ticks": ""
            },
            "colorscale": [
             [
              0,
              "#0d0887"
             ],
             [
              0.1111111111111111,
              "#46039f"
             ],
             [
              0.2222222222222222,
              "#7201a8"
             ],
             [
              0.3333333333333333,
              "#9c179e"
             ],
             [
              0.4444444444444444,
              "#bd3786"
             ],
             [
              0.5555555555555556,
              "#d8576b"
             ],
             [
              0.6666666666666666,
              "#ed7953"
             ],
             [
              0.7777777777777778,
              "#fb9f3a"
             ],
             [
              0.8888888888888888,
              "#fdca26"
             ],
             [
              1,
              "#f0f921"
             ]
            ],
            "type": "surface"
           }
          ],
          "table": [
           {
            "cells": {
             "fill": {
              "color": "#EBF0F8"
             },
             "line": {
              "color": "white"
             }
            },
            "header": {
             "fill": {
              "color": "#C8D4E3"
             },
             "line": {
              "color": "white"
             }
            },
            "type": "table"
           }
          ]
         },
         "layout": {
          "annotationdefaults": {
           "arrowcolor": "#2a3f5f",
           "arrowhead": 0,
           "arrowwidth": 1
          },
          "coloraxis": {
           "colorbar": {
            "outlinewidth": 0,
            "ticks": ""
           }
          },
          "colorscale": {
           "diverging": [
            [
             0,
             "#8e0152"
            ],
            [
             0.1,
             "#c51b7d"
            ],
            [
             0.2,
             "#de77ae"
            ],
            [
             0.3,
             "#f1b6da"
            ],
            [
             0.4,
             "#fde0ef"
            ],
            [
             0.5,
             "#f7f7f7"
            ],
            [
             0.6,
             "#e6f5d0"
            ],
            [
             0.7,
             "#b8e186"
            ],
            [
             0.8,
             "#7fbc41"
            ],
            [
             0.9,
             "#4d9221"
            ],
            [
             1,
             "#276419"
            ]
           ],
           "sequential": [
            [
             0,
             "#0d0887"
            ],
            [
             0.1111111111111111,
             "#46039f"
            ],
            [
             0.2222222222222222,
             "#7201a8"
            ],
            [
             0.3333333333333333,
             "#9c179e"
            ],
            [
             0.4444444444444444,
             "#bd3786"
            ],
            [
             0.5555555555555556,
             "#d8576b"
            ],
            [
             0.6666666666666666,
             "#ed7953"
            ],
            [
             0.7777777777777778,
             "#fb9f3a"
            ],
            [
             0.8888888888888888,
             "#fdca26"
            ],
            [
             1,
             "#f0f921"
            ]
           ],
           "sequentialminus": [
            [
             0,
             "#0d0887"
            ],
            [
             0.1111111111111111,
             "#46039f"
            ],
            [
             0.2222222222222222,
             "#7201a8"
            ],
            [
             0.3333333333333333,
             "#9c179e"
            ],
            [
             0.4444444444444444,
             "#bd3786"
            ],
            [
             0.5555555555555556,
             "#d8576b"
            ],
            [
             0.6666666666666666,
             "#ed7953"
            ],
            [
             0.7777777777777778,
             "#fb9f3a"
            ],
            [
             0.8888888888888888,
             "#fdca26"
            ],
            [
             1,
             "#f0f921"
            ]
           ]
          },
          "colorway": [
           "#636efa",
           "#EF553B",
           "#00cc96",
           "#ab63fa",
           "#FFA15A",
           "#19d3f3",
           "#FF6692",
           "#B6E880",
           "#FF97FF",
           "#FECB52"
          ],
          "font": {
           "color": "#2a3f5f"
          },
          "geo": {
           "bgcolor": "white",
           "lakecolor": "white",
           "landcolor": "#E5ECF6",
           "showlakes": true,
           "showland": true,
           "subunitcolor": "white"
          },
          "hoverlabel": {
           "align": "left"
          },
          "hovermode": "closest",
          "mapbox": {
           "style": "light"
          },
          "paper_bgcolor": "white",
          "plot_bgcolor": "#E5ECF6",
          "polar": {
           "angularaxis": {
            "gridcolor": "white",
            "linecolor": "white",
            "ticks": ""
           },
           "bgcolor": "#E5ECF6",
           "radialaxis": {
            "gridcolor": "white",
            "linecolor": "white",
            "ticks": ""
           }
          },
          "scene": {
           "xaxis": {
            "backgroundcolor": "#E5ECF6",
            "gridcolor": "white",
            "gridwidth": 2,
            "linecolor": "white",
            "showbackground": true,
            "ticks": "",
            "zerolinecolor": "white"
           },
           "yaxis": {
            "backgroundcolor": "#E5ECF6",
            "gridcolor": "white",
            "gridwidth": 2,
            "linecolor": "white",
            "showbackground": true,
            "ticks": "",
            "zerolinecolor": "white"
           },
           "zaxis": {
            "backgroundcolor": "#E5ECF6",
            "gridcolor": "white",
            "gridwidth": 2,
            "linecolor": "white",
            "showbackground": true,
            "ticks": "",
            "zerolinecolor": "white"
           }
          },
          "shapedefaults": {
           "line": {
            "color": "#2a3f5f"
           }
          },
          "ternary": {
           "aaxis": {
            "gridcolor": "white",
            "linecolor": "white",
            "ticks": ""
           },
           "baxis": {
            "gridcolor": "white",
            "linecolor": "white",
            "ticks": ""
           },
           "bgcolor": "#E5ECF6",
           "caxis": {
            "gridcolor": "white",
            "linecolor": "white",
            "ticks": ""
           }
          },
          "title": {
           "x": 0.05
          },
          "xaxis": {
           "automargin": true,
           "gridcolor": "white",
           "linecolor": "white",
           "ticks": "",
           "title": {
            "standoff": 15
           },
           "zerolinecolor": "white",
           "zerolinewidth": 2
          },
          "yaxis": {
           "automargin": true,
           "gridcolor": "white",
           "linecolor": "white",
           "ticks": "",
           "title": {
            "standoff": 15
           },
           "zerolinecolor": "white",
           "zerolinewidth": 2
          }
         }
        },
        "width": 700
       },
       "_model_module_version": "^4.8.0",
       "_py2js_animate": {},
       "_py2js_deleteTraces": {},
       "_py2js_moveTraces": {},
       "_py2js_removeLayoutProps": {},
       "_py2js_removeTraceProps": {},
       "_py2js_restyle": {},
       "_view_count": 0,
       "_view_module_version": "^4.8.0"
      }
     }
    },
    "version_major": 2,
    "version_minor": 0
   }
  }
 },
 "nbformat": 4,
 "nbformat_minor": 4
}
