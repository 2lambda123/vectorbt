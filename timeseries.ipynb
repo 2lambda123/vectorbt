{
 "cells": [
  {
   "cell_type": "markdown",
   "metadata": {},
   "source": [
    "# timeseries.py"
   ]
  },
  {
   "cell_type": "code",
   "execution_count": 1,
   "metadata": {},
   "outputs": [],
   "source": [
    "import vectorbt as vbt"
   ]
  },
  {
   "cell_type": "code",
   "execution_count": 2,
   "metadata": {
    "Collapsed": "false"
   },
   "outputs": [],
   "source": [
    "import numpy as np\n",
    "import pandas as pd\n",
    "from datetime import datetime, timedelta\n",
    "from numba import njit, f8, i8, b1, optional"
   ]
  },
  {
   "cell_type": "code",
   "execution_count": 3,
   "metadata": {},
   "outputs": [
    {
     "name": "stdout",
     "output_type": "stream",
     "text": [
      "              a    b    c\n",
      "2018-01-01  1.0  NaN  1.0\n",
      "2018-01-02  2.0  4.0  2.0\n",
      "2018-01-03  3.0  3.0  NaN\n",
      "2018-01-04  4.0  2.0  2.0\n",
      "2018-01-05  NaN  1.0  1.0\n"
     ]
    }
   ],
   "source": [
    "index = pd.Index([\n",
    "    datetime(2018, 1, 1),\n",
    "    datetime(2018, 1, 2),\n",
    "    datetime(2018, 1, 3),\n",
    "    datetime(2018, 1, 4),\n",
    "    datetime(2018, 1, 5)\n",
    "])\n",
    "columns = ['a', 'b', 'c']\n",
    "ts = pd.DataFrame({\n",
    "    'a': [1, 2, 3, 4, np.nan], \n",
    "    'b': [np.nan, 4, 3, 2, 1],\n",
    "    'c': [1, 2, np.nan, 2, 1]}, index=index).astype(np.float64)\n",
    "\n",
    "print(ts)"
   ]
  },
  {
   "cell_type": "code",
   "execution_count": 4,
   "metadata": {},
   "outputs": [
    {
     "data": {
      "text/plain": [
       "(1000, 1000)"
      ]
     },
     "execution_count": 4,
     "metadata": {},
     "output_type": "execute_result"
    }
   ],
   "source": [
    "big_ts = pd.DataFrame(np.random.randint(10, size=(1000, 1000)).astype(float))\n",
    "big_ts.index = [datetime(2018, 1, 1) + timedelta(days=i) for i in range(1000)]\n",
    "big_ts.shape"
   ]
  },
  {
   "cell_type": "code",
   "execution_count": 5,
   "metadata": {
    "Collapsed": "false"
   },
   "outputs": [
    {
     "name": "stdout",
     "output_type": "stream",
     "text": [
      "              a    b    c\n",
      "2018-01-01  1.0 -1.0  1.0\n",
      "2018-01-02  2.0  4.0  2.0\n",
      "2018-01-03  3.0  3.0 -1.0\n",
      "2018-01-04  4.0  2.0  2.0\n",
      "2018-01-05 -1.0  1.0  1.0\n",
      "6.6 ms ± 605 µs per loop (mean ± std. dev. of 7 runs, 100 loops each)\n",
      "              a    b    c\n",
      "2018-01-01  1.0 -1.0  1.0\n",
      "2018-01-02  2.0  4.0  2.0\n",
      "2018-01-03  3.0  3.0 -1.0\n",
      "2018-01-04  4.0  2.0  2.0\n",
      "2018-01-05 -1.0  1.0  1.0\n",
      "4.3 ms ± 109 µs per loop (mean ± std. dev. of 7 runs, 100 loops each)\n"
     ]
    }
   ],
   "source": [
    "print(ts.fillna(-1))\n",
    "%timeit big_ts.fillna(-1)\n",
    "\n",
    "print(ts.vbt.timeseries.fillna(-1))\n",
    "%timeit big_ts.vbt.timeseries.fillna(-1)"
   ]
  },
  {
   "cell_type": "code",
   "execution_count": 6,
   "metadata": {
    "Collapsed": "false"
   },
   "outputs": [
    {
     "name": "stdout",
     "output_type": "stream",
     "text": [
      "              a    b    c\n",
      "2018-01-01  NaN  NaN  NaN\n",
      "2018-01-02  NaN  NaN  NaN\n",
      "2018-01-03  NaN  NaN  NaN\n",
      "2018-01-04  1.0  NaN  1.0\n",
      "2018-01-05  2.0  4.0  2.0\n",
      "2.5 ms ± 34.5 µs per loop (mean ± std. dev. of 7 runs, 100 loops each)\n",
      "              a    b    c\n",
      "2018-01-01  NaN  NaN  NaN\n",
      "2018-01-02  NaN  NaN  NaN\n",
      "2018-01-03  NaN  NaN  NaN\n",
      "2018-01-04  1.0  NaN  1.0\n",
      "2018-01-05  2.0  4.0  2.0\n",
      "4.04 ms ± 561 µs per loop (mean ± std. dev. of 7 runs, 100 loops each)\n"
     ]
    }
   ],
   "source": [
    "print(ts.shift(3))\n",
    "%timeit big_ts.shift(3)\n",
    "\n",
    "print(ts.vbt.timeseries.fshift(3))\n",
    "%timeit big_ts.vbt.timeseries.fshift(3)"
   ]
  },
  {
   "cell_type": "code",
   "execution_count": 7,
   "metadata": {},
   "outputs": [
    {
     "name": "stdout",
     "output_type": "stream",
     "text": [
      "              a    b    c\n",
      "2018-01-01  NaN  NaN  NaN\n",
      "2018-01-02  1.0  NaN  1.0\n",
      "2018-01-03  1.0 -1.0  NaN\n",
      "2018-01-04  1.0 -1.0  NaN\n",
      "2018-01-05  NaN -1.0 -1.0\n",
      "5.62 ms ± 602 µs per loop (mean ± std. dev. of 7 runs, 100 loops each)\n",
      "              a    b    c\n",
      "2018-01-01  NaN  NaN  NaN\n",
      "2018-01-02  1.0  NaN  1.0\n",
      "2018-01-03  1.0 -1.0  NaN\n",
      "2018-01-04  1.0 -1.0  NaN\n",
      "2018-01-05  NaN -1.0 -1.0\n",
      "6.36 ms ± 135 µs per loop (mean ± std. dev. of 7 runs, 100 loops each)\n"
     ]
    }
   ],
   "source": [
    "print(ts.diff())\n",
    "%timeit big_ts.diff()\n",
    "\n",
    "print(ts.vbt.timeseries.diff())\n",
    "%timeit big_ts.vbt.timeseries.diff()"
   ]
  },
  {
   "cell_type": "code",
   "execution_count": 8,
   "metadata": {
    "Collapsed": "false"
   },
   "outputs": [
    {
     "name": "stdout",
     "output_type": "stream",
     "text": [
      "                   a         b    c\n",
      "2018-01-01       NaN       NaN  NaN\n",
      "2018-01-02  1.000000       NaN  1.0\n",
      "2018-01-03  0.500000 -0.250000  0.0\n",
      "2018-01-04  0.333333 -0.333333  0.0\n",
      "2018-01-05  0.000000 -0.500000 -0.5\n",
      "309 ms ± 56.8 ms per loop (mean ± std. dev. of 7 runs, 1 loop each)\n",
      "                   a         b    c\n",
      "2018-01-01       NaN       NaN  NaN\n",
      "2018-01-02  1.000000       NaN  1.0\n",
      "2018-01-03  0.500000 -0.250000  NaN\n",
      "2018-01-04  0.333333 -0.333333  NaN\n",
      "2018-01-05       NaN -0.500000 -0.5\n",
      "7.24 ms ± 937 µs per loop (mean ± std. dev. of 7 runs, 100 loops each)\n"
     ]
    }
   ],
   "source": [
    "print(ts.pct_change())\n",
    "%timeit big_ts.pct_change()\n",
    "\n",
    "print(ts.vbt.timeseries.pct_change())\n",
    "%timeit big_ts.vbt.timeseries.pct_change()"
   ]
  },
  {
   "cell_type": "code",
   "execution_count": 9,
   "metadata": {
    "Collapsed": "false"
   },
   "outputs": [
    {
     "name": "stdout",
     "output_type": "stream",
     "text": [
      "              a    b    c\n",
      "2018-01-01  1.0  NaN  1.0\n",
      "2018-01-02  2.0  4.0  2.0\n",
      "2018-01-03  3.0  3.0  2.0\n",
      "2018-01-04  4.0  2.0  2.0\n",
      "2018-01-05  4.0  1.0  1.0\n",
      "6.34 ms ± 468 µs per loop (mean ± std. dev. of 7 runs, 100 loops each)\n",
      "              a    b    c\n",
      "2018-01-01  1.0  NaN  1.0\n",
      "2018-01-02  2.0  4.0  2.0\n",
      "2018-01-03  3.0  3.0  2.0\n",
      "2018-01-04  4.0  2.0  2.0\n",
      "2018-01-05  4.0  1.0  1.0\n",
      "8.21 ms ± 230 µs per loop (mean ± std. dev. of 7 runs, 100 loops each)\n"
     ]
    }
   ],
   "source": [
    "print(ts.ffill())\n",
    "%timeit big_ts.ffill()\n",
    "\n",
    "print(ts.vbt.timeseries.ffill())\n",
    "%timeit big_ts.vbt.timeseries.ffill()"
   ]
  },
  {
   "cell_type": "code",
   "execution_count": 10,
   "metadata": {},
   "outputs": [
    {
     "name": "stdout",
     "output_type": "stream",
     "text": [
      "               a     b    c\n",
      "2018-01-01   1.0   NaN  1.0\n",
      "2018-01-02   3.0   4.0  3.0\n",
      "2018-01-03   6.0   7.0  NaN\n",
      "2018-01-04  10.0   9.0  5.0\n",
      "2018-01-05   NaN  10.0  6.0\n",
      "12.1 ms ± 656 µs per loop (mean ± std. dev. of 7 runs, 100 loops each)\n",
      "               a     b    c\n",
      "2018-01-01   1.0   NaN  1.0\n",
      "2018-01-02   3.0   4.0  3.0\n",
      "2018-01-03   6.0   7.0  NaN\n",
      "2018-01-04  10.0   9.0  5.0\n",
      "2018-01-05   NaN  10.0  6.0\n",
      "8.24 ms ± 50.7 µs per loop (mean ± std. dev. of 7 runs, 100 loops each)\n"
     ]
    }
   ],
   "source": [
    "print(ts.cumsum())\n",
    "%timeit big_ts.cumsum()\n",
    "\n",
    "print(ts.vbt.timeseries.cumsum())\n",
    "%timeit big_ts.vbt.timeseries.cumsum()"
   ]
  },
  {
   "cell_type": "code",
   "execution_count": 11,
   "metadata": {},
   "outputs": [
    {
     "name": "stdout",
     "output_type": "stream",
     "text": [
      "               a     b    c\n",
      "2018-01-01   1.0   NaN  1.0\n",
      "2018-01-02   2.0   4.0  2.0\n",
      "2018-01-03   6.0  12.0  NaN\n",
      "2018-01-04  24.0  24.0  4.0\n",
      "2018-01-05   NaN  24.0  4.0\n",
      "11.6 ms ± 60.6 µs per loop (mean ± std. dev. of 7 runs, 100 loops each)\n",
      "               a     b    c\n",
      "2018-01-01   1.0   NaN  1.0\n",
      "2018-01-02   2.0   4.0  2.0\n",
      "2018-01-03   6.0  12.0  NaN\n",
      "2018-01-04  24.0  24.0  4.0\n",
      "2018-01-05   NaN  24.0  4.0\n",
      "8.85 ms ± 701 µs per loop (mean ± std. dev. of 7 runs, 100 loops each)\n"
     ]
    }
   ],
   "source": [
    "print(ts.cumprod())\n",
    "%timeit big_ts.cumprod()\n",
    "\n",
    "print(ts.vbt.timeseries.cumprod())\n",
    "%timeit big_ts.vbt.timeseries.cumprod()"
   ]
  },
  {
   "cell_type": "code",
   "execution_count": 12,
   "metadata": {
    "Collapsed": "false"
   },
   "outputs": [
    {
     "name": "stdout",
     "output_type": "stream",
     "text": [
      "              a    b    c\n",
      "2018-01-01  NaN  NaN  NaN\n",
      "2018-01-02  1.5  NaN  1.5\n",
      "2018-01-03  2.5  3.5  NaN\n",
      "2018-01-04  3.5  2.5  NaN\n",
      "2018-01-05  NaN  1.5  1.5\n",
      "30.4 ms ± 1.33 ms per loop (mean ± std. dev. of 7 runs, 10 loops each)\n",
      "              a    b    c\n",
      "2018-01-01  NaN  NaN  NaN\n",
      "2018-01-02  1.5  NaN  1.5\n",
      "2018-01-03  2.5  3.5  NaN\n",
      "2018-01-04  3.5  2.5  NaN\n",
      "2018-01-05  NaN  1.5  1.5\n",
      "14.2 ms ± 84.2 µs per loop (mean ± std. dev. of 7 runs, 100 loops each)\n"
     ]
    }
   ],
   "source": [
    "print(ts.rolling(2).mean())\n",
    "%timeit big_ts.rolling(2).mean()\n",
    "\n",
    "print(ts.vbt.timeseries.rolling_mean(2))\n",
    "%timeit big_ts.vbt.timeseries.rolling_mean(2)"
   ]
  },
  {
   "cell_type": "code",
   "execution_count": 13,
   "metadata": {},
   "outputs": [
    {
     "name": "stdout",
     "output_type": "stream",
     "text": [
      "                   a         b         c\n",
      "2018-01-01       NaN       NaN       NaN\n",
      "2018-01-02  0.707107       NaN  0.707107\n",
      "2018-01-03  0.707107  0.707107       NaN\n",
      "2018-01-04  0.707107  0.707107       NaN\n",
      "2018-01-05       NaN  0.707107  0.707107\n",
      "56 ms ± 702 µs per loop (mean ± std. dev. of 7 runs, 10 loops each)\n",
      "                   a         b         c\n",
      "2018-01-01       NaN       NaN       NaN\n",
      "2018-01-02  0.707107       NaN  0.707107\n",
      "2018-01-03  0.707107  0.707107       NaN\n",
      "2018-01-04  0.707107  0.707107       NaN\n",
      "2018-01-05       NaN  0.707107  0.707107\n",
      "18.2 ms ± 123 µs per loop (mean ± std. dev. of 7 runs, 100 loops each)\n"
     ]
    }
   ],
   "source": [
    "print(ts.rolling(2).std())\n",
    "%timeit big_ts.rolling(2).std()\n",
    "\n",
    "print(ts.vbt.timeseries.rolling_std(2))\n",
    "%timeit big_ts.vbt.timeseries.rolling_std(2)"
   ]
  },
  {
   "cell_type": "code",
   "execution_count": 14,
   "metadata": {},
   "outputs": [
    {
     "name": "stdout",
     "output_type": "stream",
     "text": [
      "              a    b    c\n",
      "2018-01-01  NaN  NaN  NaN\n",
      "2018-01-02  1.0  NaN  1.0\n",
      "2018-01-03  2.0  3.0  NaN\n",
      "2018-01-04  3.0  2.0  NaN\n",
      "2018-01-05  NaN  1.0  1.0\n",
      "42.7 ms ± 867 µs per loop (mean ± std. dev. of 7 runs, 10 loops each)\n",
      "              a    b    c\n",
      "2018-01-01  NaN  NaN  NaN\n",
      "2018-01-02  1.0  NaN  1.0\n",
      "2018-01-03  2.0  3.0  NaN\n",
      "2018-01-04  3.0  2.0  NaN\n",
      "2018-01-05  NaN  1.0  1.0\n",
      "17.9 ms ± 1.09 ms per loop (mean ± std. dev. of 7 runs, 100 loops each)\n"
     ]
    }
   ],
   "source": [
    "print(ts.rolling(2).min())\n",
    "%timeit big_ts.rolling(2).min()\n",
    "\n",
    "print(ts.vbt.timeseries.rolling_min(2))\n",
    "%timeit big_ts.vbt.timeseries.rolling_min(2)"
   ]
  },
  {
   "cell_type": "code",
   "execution_count": 15,
   "metadata": {},
   "outputs": [
    {
     "name": "stdout",
     "output_type": "stream",
     "text": [
      "              a    b    c\n",
      "2018-01-01  NaN  NaN  NaN\n",
      "2018-01-02  2.0  NaN  2.0\n",
      "2018-01-03  3.0  4.0  NaN\n",
      "2018-01-04  4.0  3.0  NaN\n",
      "2018-01-05  NaN  2.0  2.0\n",
      "41.8 ms ± 981 µs per loop (mean ± std. dev. of 7 runs, 10 loops each)\n",
      "              a    b    c\n",
      "2018-01-01  NaN  NaN  NaN\n",
      "2018-01-02  2.0  NaN  2.0\n",
      "2018-01-03  3.0  4.0  NaN\n",
      "2018-01-04  4.0  3.0  NaN\n",
      "2018-01-05  NaN  2.0  2.0\n",
      "17.2 ms ± 1.55 ms per loop (mean ± std. dev. of 7 runs, 100 loops each)\n"
     ]
    }
   ],
   "source": [
    "print(ts.rolling(2).max())\n",
    "%timeit big_ts.rolling(2).max()\n",
    "\n",
    "print(ts.vbt.timeseries.rolling_max(2))\n",
    "%timeit big_ts.vbt.timeseries.rolling_max(2)"
   ]
  },
  {
   "cell_type": "code",
   "execution_count": 16,
   "metadata": {},
   "outputs": [
    {
     "name": "stdout",
     "output_type": "stream",
     "text": [
      "              a    b    c\n",
      "2018-01-01  1.0  NaN  1.0\n",
      "2018-01-02  2.0  4.0  2.0\n",
      "2018-01-03  3.0  4.0  2.0\n",
      "2018-01-04  4.0  4.0  2.0\n",
      "2018-01-05  4.0  4.0  2.0\n",
      "45.7 ms ± 427 µs per loop (mean ± std. dev. of 7 runs, 10 loops each)\n",
      "              a    b    c\n",
      "2018-01-01  1.0  NaN  1.0\n",
      "2018-01-02  2.0  4.0  2.0\n",
      "2018-01-03  3.0  4.0  2.0\n",
      "2018-01-04  4.0  4.0  2.0\n",
      "2018-01-05  4.0  4.0  2.0\n",
      "9.63 ms ± 310 µs per loop (mean ± std. dev. of 7 runs, 100 loops each)\n"
     ]
    }
   ],
   "source": [
    "print(ts.expanding().max())\n",
    "%timeit big_ts.expanding().max()\n",
    "\n",
    "print(ts.vbt.timeseries.expanding_max())\n",
    "%timeit big_ts.vbt.timeseries.expanding_max()"
   ]
  },
  {
   "cell_type": "code",
   "execution_count": 17,
   "metadata": {
    "Collapsed": "false"
   },
   "outputs": [
    {
     "name": "stdout",
     "output_type": "stream",
     "text": [
      "                   a         b         c\n",
      "2018-01-01  1.000000       NaN  1.000000\n",
      "2018-01-02  1.750000  4.000000  1.750000\n",
      "2018-01-03  2.615385  3.250000  1.750000\n",
      "2018-01-04  3.550000  2.384615  1.967742\n",
      "2018-01-05  3.550000  1.450000  1.267857\n",
      "84.7 ms ± 1.16 ms per loop (mean ± std. dev. of 7 runs, 10 loops each)\n",
      "                   a         b         c\n",
      "2018-01-01       NaN       NaN       NaN\n",
      "2018-01-02  1.750000  4.000000  1.750000\n",
      "2018-01-03  2.615385  3.250000  1.750000\n",
      "2018-01-04  3.550000  2.384615  1.967742\n",
      "2018-01-05  3.550000  1.450000  1.267857\n",
      "13.6 ms ± 1.12 ms per loop (mean ± std. dev. of 7 runs, 100 loops each)\n"
     ]
    }
   ],
   "source": [
    "print(ts.ewm(span=2).mean())\n",
    "%timeit big_ts.ewm(span=2).mean()\n",
    "\n",
    "print(ts.vbt.timeseries.ewm_mean(2))\n",
    "%timeit big_ts.vbt.timeseries.ewm_mean(2)"
   ]
  },
  {
   "cell_type": "code",
   "execution_count": 18,
   "metadata": {},
   "outputs": [
    {
     "name": "stdout",
     "output_type": "stream",
     "text": [
      "                   a         b         c\n",
      "2018-01-01       NaN       NaN       NaN\n",
      "2018-01-02  0.707107       NaN  0.707107\n",
      "2018-01-03  0.919866  0.707107  0.707107\n",
      "2018-01-04  1.059753  0.919866  0.367607\n",
      "2018-01-05  1.059753  1.059753  0.684914\n",
      "459 ms ± 3.71 ms per loop (mean ± std. dev. of 7 runs, 1 loop each)\n",
      "                   a         b         c\n",
      "2018-01-01       NaN       NaN       NaN\n",
      "2018-01-02  0.707107       NaN  0.707107\n",
      "2018-01-03  0.919866  0.707107  0.707107\n",
      "2018-01-04  1.059753  0.919866  0.367607\n",
      "2018-01-05  1.059753  1.059753  0.684914\n",
      "21.8 ms ± 610 µs per loop (mean ± std. dev. of 7 runs, 10 loops each)\n"
     ]
    }
   ],
   "source": [
    "print(ts.ewm(span=2).std())\n",
    "%timeit big_ts.ewm(span=2).std()\n",
    "\n",
    "print(ts.vbt.timeseries.ewm_std(2))\n",
    "%timeit big_ts.vbt.timeseries.ewm_std(2)"
   ]
  },
  {
   "cell_type": "code",
   "execution_count": 9,
   "metadata": {},
   "outputs": [
    {
     "name": "stdout",
     "output_type": "stream",
     "text": [
      "              a    b   c\n",
      "2018-01-01  NaN  NaN NaN\n",
      "2018-01-02  NaN  NaN NaN\n",
      "2018-01-03  2.0  NaN NaN\n",
      "2018-01-04  3.0  3.0 NaN\n",
      "2018-01-05  NaN  2.0 NaN\n",
      "380 ms ± 3.92 ms per loop (mean ± std. dev. of 7 runs, 1 loop each)\n",
      "              a    b    c\n",
      "2018-01-01  NaN  NaN  NaN\n",
      "2018-01-02  NaN  NaN  NaN\n",
      "2018-01-03  2.0  3.5  1.5\n",
      "2018-01-04  3.0  3.0  2.0\n",
      "2018-01-05  3.5  2.0  1.5\n",
      "44.9 ms ± 638 µs per loop (mean ± std. dev. of 7 runs, 1 loop each)\n",
      "                   a         b         c\n",
      "2018-01-01       NaN       NaN       NaN\n",
      "2018-01-02       NaN       NaN       NaN\n",
      "2018-01-03  2.285714  2.285714  2.285714\n",
      "2018-01-04  2.750000  2.750000  2.750000\n",
      "2018-01-05  2.285714  2.285714  2.285714\n",
      "7.7 ms ± 751 µs per loop (mean ± std. dev. of 7 runs, 100 loops each)\n"
     ]
    }
   ],
   "source": [
    "nanmean_nb = njit(lambda x: np.nanmean(x))\n",
    "\n",
    "print(ts.rolling(3).apply(nanmean_nb, raw=True)) # not correct\n",
    "%timeit big_ts.rolling(3).apply(nanmean_nb, raw=True)\n",
    "\n",
    "print(ts.vbt.timeseries.rolling_apply(3, nanmean_nb)) # correct\n",
    "%timeit big_ts.vbt.timeseries.rolling_apply(3, nanmean_nb)\n",
    "\n",
    "print(ts.vbt.timeseries.rolling_apply(3, nanmean_nb, on_2d=True))\n",
    "%timeit big_ts.vbt.timeseries.rolling_apply(3, nanmean_nb, on_2d=True)"
   ]
  },
  {
   "cell_type": "code",
   "execution_count": 20,
   "metadata": {},
   "outputs": [
    {
     "name": "stdout",
     "output_type": "stream",
     "text": [
      "              a    b         c\n",
      "2018-01-01  1.0  NaN  1.000000\n",
      "2018-01-02  1.5  4.0  1.500000\n",
      "2018-01-03  2.0  3.5  1.500000\n",
      "2018-01-04  2.5  3.0  1.666667\n",
      "2018-01-05  2.5  2.5  1.500000\n",
      "1.44 s ± 21.7 ms per loop (mean ± std. dev. of 7 runs, 1 loop each)\n",
      "              a    b         c\n",
      "2018-01-01  1.0  NaN  1.000000\n",
      "2018-01-02  1.5  4.0  1.500000\n",
      "2018-01-03  2.0  3.5  1.500000\n",
      "2018-01-04  2.5  3.0  1.666667\n",
      "2018-01-05  2.5  2.5  1.500000\n",
      "833 ms ± 3.35 ms per loop (mean ± std. dev. of 7 runs, 1 loop each)\n",
      "                   a         b         c\n",
      "2018-01-01  1.000000  1.000000  1.000000\n",
      "2018-01-02  2.000000  2.000000  2.000000\n",
      "2018-01-03  2.285714  2.285714  2.285714\n",
      "2018-01-04  2.400000  2.400000  2.400000\n",
      "2018-01-05  2.166667  2.166667  2.166667\n",
      "818 ms ± 9.13 ms per loop (mean ± std. dev. of 7 runs, 1 loop each)\n"
     ]
    }
   ],
   "source": [
    "print(ts.expanding().apply(nanmean_nb, raw=True))\n",
    "%timeit big_ts.expanding().apply(nanmean_nb, raw=True)\n",
    "\n",
    "print(ts.vbt.timeseries.expanding_apply(nanmean_nb))\n",
    "%timeit big_ts.vbt.timeseries.expanding_apply(nanmean_nb)\n",
    "\n",
    "print(ts.vbt.timeseries.expanding_apply(nanmean_nb, on_2d=True))\n",
    "%timeit big_ts.vbt.timeseries.expanding_apply(nanmean_nb, on_2d=True)"
   ]
  },
  {
   "cell_type": "code",
   "execution_count": 21,
   "metadata": {},
   "outputs": [
    {
     "name": "stdout",
     "output_type": "stream",
     "text": [
      "1    1.5\n",
      "2    3.5\n",
      "3    NaN\n",
      "Name: a, dtype: float64\n",
      "3.55 ms ± 21.9 µs per loop (mean ± std. dev. of 7 runs, 100 loops each)\n",
      "1    1.5\n",
      "2    3.5\n",
      "3    NaN\n",
      "Name: a, dtype: float64\n",
      "482 µs ± 94.5 µs per loop (mean ± std. dev. of 7 runs, 1 loop each)\n",
      "     a    b    c\n",
      "1  1.5  4.0  1.5\n",
      "2  3.5  2.5  2.0\n",
      "3  NaN  1.0  1.0\n",
      "     a    b    c\n",
      "1  1.5  4.0  1.5\n",
      "2  3.5  2.5  2.0\n",
      "3  NaN  1.0  1.0\n",
      "6.32 ms ± 56.5 µs per loop (mean ± std. dev. of 7 runs, 100 loops each)\n",
      "     a    b    c\n",
      "1  2.0  2.0  2.0\n",
      "2  2.8  2.8  2.8\n",
      "3  1.0  1.0  1.0\n"
     ]
    }
   ],
   "source": [
    "print(ts['a'].groupby(np.asarray([1, 1, 2, 2, 3])).apply(lambda x: nanmean_nb(x.values)))\n",
    "%timeit big_ts.iloc[:, 0].groupby(np.random.randint(10, size=1000)).apply(lambda x: nanmean_nb(x.values))\n",
    "\n",
    "print(ts['a'].vbt.timeseries.groupby_apply(np.asarray([1, 1, 2, 2, 3]), nanmean_nb))\n",
    "%timeit big_ts.iloc[:, 0].vbt.timeseries.groupby_apply(np.random.randint(10, size=1000), nanmean_nb)\n",
    "\n",
    "print(ts.groupby(np.asarray([1, 1, 2, 2, 3])).agg({\n",
    "    'a': lambda x: nanmean_nb(x.values), \n",
    "    'b': lambda x: nanmean_nb(x.values), \n",
    "    'c': lambda x: nanmean_nb(x.values)})) # any clean way to do column-wise grouping in pandas?\n",
    "\n",
    "print(ts.vbt.timeseries.groupby_apply(np.asarray([1, 1, 2, 2, 3]), nanmean_nb))\n",
    "%timeit big_ts.vbt.timeseries.groupby_apply(np.random.randint(10, size=1000), nanmean_nb)\n",
    "\n",
    "print(ts.vbt.timeseries.groupby_apply(np.asarray([1, 1, 2, 2, 3]), nanmean_nb, on_2d=True))"
   ]
  },
  {
   "cell_type": "code",
   "execution_count": 10,
   "metadata": {},
   "outputs": [
    {
     "name": "stdout",
     "output_type": "stream",
     "text": [
      "2018-01-01 00:00:00    1.0\n",
      "2018-01-01 01:00:00    NaN\n",
      "2018-01-01 02:00:00    NaN\n",
      "2018-01-01 03:00:00    NaN\n",
      "2018-01-01 04:00:00    NaN\n",
      "                      ... \n",
      "2018-01-04 20:00:00    NaN\n",
      "2018-01-04 21:00:00    NaN\n",
      "2018-01-04 22:00:00    NaN\n",
      "2018-01-04 23:00:00    NaN\n",
      "2018-01-05 00:00:00    NaN\n",
      "Freq: H, Name: a, Length: 97, dtype: float64\n",
      "117 ms ± 5.14 ms per loop (mean ± std. dev. of 7 runs, 10 loops each)\n",
      "2018-01-01 00:00:00    1.0\n",
      "2018-01-01 01:00:00    NaN\n",
      "2018-01-01 02:00:00    NaN\n",
      "2018-01-01 03:00:00    NaN\n",
      "2018-01-01 04:00:00    NaN\n",
      "                      ... \n",
      "2018-01-04 20:00:00    NaN\n",
      "2018-01-04 21:00:00    NaN\n",
      "2018-01-04 22:00:00    NaN\n",
      "2018-01-04 23:00:00    NaN\n",
      "2018-01-05 00:00:00    NaN\n",
      "Freq: H, Name: a, Length: 97, dtype: float64\n",
      "108 ms ± 3.09 ms per loop (mean ± std. dev. of 7 runs, 1 loop each)\n",
      "                       a    b    c\n",
      "2018-01-01 00:00:00  1.0  NaN  1.0\n",
      "2018-01-01 01:00:00  NaN  NaN  NaN\n",
      "2018-01-01 02:00:00  NaN  NaN  NaN\n",
      "2018-01-01 03:00:00  NaN  NaN  NaN\n",
      "2018-01-01 04:00:00  NaN  NaN  NaN\n",
      "...                  ...  ...  ...\n",
      "2018-01-04 20:00:00  NaN  NaN  NaN\n",
      "2018-01-04 21:00:00  NaN  NaN  NaN\n",
      "2018-01-04 22:00:00  NaN  NaN  NaN\n",
      "2018-01-04 23:00:00  NaN  NaN  NaN\n",
      "2018-01-05 00:00:00  NaN  1.0  1.0\n",
      "\n",
      "[97 rows x 3 columns]\n",
      "12.4 s ± 291 ms per loop (mean ± std. dev. of 7 runs, 1 loop each)\n",
      "                       a    b    c\n",
      "2018-01-01 00:00:00  1.0  NaN  1.0\n",
      "2018-01-01 01:00:00  NaN  NaN  NaN\n",
      "2018-01-01 02:00:00  NaN  NaN  NaN\n",
      "2018-01-01 03:00:00  NaN  NaN  NaN\n",
      "2018-01-01 04:00:00  NaN  NaN  NaN\n",
      "...                  ...  ...  ...\n",
      "2018-01-04 20:00:00  NaN  NaN  NaN\n",
      "2018-01-04 21:00:00  NaN  NaN  NaN\n",
      "2018-01-04 22:00:00  NaN  NaN  NaN\n",
      "2018-01-04 23:00:00  NaN  NaN  NaN\n",
      "2018-01-05 00:00:00  NaN  1.0  1.0\n",
      "\n",
      "[97 rows x 3 columns]\n",
      "1.11 s ± 37 ms per loop (mean ± std. dev. of 7 runs, 1 loop each)\n",
      "                       a    b    c\n",
      "2018-01-01 00:00:00  1.0  1.0  1.0\n",
      "2018-01-01 01:00:00  NaN  NaN  NaN\n",
      "2018-01-01 02:00:00  NaN  NaN  NaN\n",
      "2018-01-01 03:00:00  NaN  NaN  NaN\n",
      "2018-01-01 04:00:00  NaN  NaN  NaN\n",
      "...                  ...  ...  ...\n",
      "2018-01-04 20:00:00  NaN  NaN  NaN\n",
      "2018-01-04 21:00:00  NaN  NaN  NaN\n",
      "2018-01-04 22:00:00  NaN  NaN  NaN\n",
      "2018-01-04 23:00:00  NaN  NaN  NaN\n",
      "2018-01-05 00:00:00  1.0  1.0  1.0\n",
      "\n",
      "[97 rows x 3 columns]\n",
      "225 ms ± 4.21 ms per loop (mean ± std. dev. of 7 runs, 1 loop each)\n"
     ]
    }
   ],
   "source": [
    "print(ts['a'].resample('1h').apply(lambda x: nanmean_nb(x.values)))\n",
    "%timeit big_ts.iloc[:, 0].resample('1h').apply(lambda x: nanmean_nb(x.values))\n",
    "\n",
    "print(ts['a'].vbt.timeseries.resample_apply('1h', nanmean_nb))\n",
    "%timeit big_ts.iloc[:, 0].vbt.timeseries.resample_apply('1h', nanmean_nb)\n",
    "\n",
    "print(ts.resample('1h').apply(lambda x: nanmean_nb(x.values)))\n",
    "%timeit big_ts.iloc[:, :100].resample('1h').apply(lambda x: nanmean_nb(x.values))\n",
    "\n",
    "print(ts.vbt.timeseries.resample_apply('1h', nanmean_nb))\n",
    "%timeit big_ts.vbt.timeseries.resample_apply('1h', nanmean_nb)\n",
    "\n",
    "print(ts.vbt.timeseries.resample_apply('1h', nanmean_nb, on_2d=True))\n",
    "%timeit big_ts.vbt.timeseries.resample_apply('1h', nanmean_nb, on_2d=True)"
   ]
  },
  {
   "cell_type": "code",
   "execution_count": 11,
   "metadata": {},
   "outputs": [
    {
     "name": "stdout",
     "output_type": "stream",
     "text": [
      "2018-01-01    2.0\n",
      "2018-01-04    4.0\n",
      "Freq: 3D, Name: a, dtype: float64\n",
      "3.58 ms ± 38.5 µs per loop (mean ± std. dev. of 7 runs, 100 loops each)\n",
      "2018-01-01    2.0\n",
      "2018-01-04    4.0\n",
      "Freq: 3D, Name: a, dtype: float64\n",
      "8.69 ms ± 788 µs per loop (mean ± std. dev. of 7 runs, 100 loops each)\n",
      "              a    b    c\n",
      "2018-01-01  2.0  3.5  1.5\n",
      "2018-01-04  4.0  1.5  1.5\n",
      "4.33 s ± 371 ms per loop (mean ± std. dev. of 7 runs, 1 loop each)\n",
      "              a    b    c\n",
      "2018-01-01  2.0  3.5  1.5\n",
      "2018-01-04  4.0  1.5  1.5\n",
      "319 ms ± 24.6 ms per loop (mean ± std. dev. of 7 runs, 1 loop each)\n"
     ]
    }
   ],
   "source": [
    "print(ts['a'].resample('3d').apply(lambda x: nanmean_nb(x.values)))\n",
    "%timeit big_ts.iloc[:, 0].resample('3d').apply(lambda x: nanmean_nb(x.values))\n",
    "\n",
    "print(ts['a'].vbt.timeseries.resample_apply('3d', nanmean_nb))\n",
    "%timeit big_ts.iloc[:, 0].vbt.timeseries.resample_apply('3d', nanmean_nb)\n",
    "\n",
    "print(ts.resample('3d').apply(lambda x: nanmean_nb(x.values)))\n",
    "%timeit big_ts.resample('3d').apply(lambda x: nanmean_nb(x.values))\n",
    "\n",
    "print(ts.vbt.timeseries.resample_apply('3d', nanmean_nb))\n",
    "%timeit big_ts.vbt.timeseries.resample_apply('3d', nanmean_nb)"
   ]
  },
  {
   "cell_type": "code",
   "execution_count": 12,
   "metadata": {},
   "outputs": [
    {
     "name": "stdout",
     "output_type": "stream",
     "text": [
      "2018-01-07    2.5\n",
      "Freq: W-SUN, Name: a, dtype: float64\n",
      "7.12 ms ± 467 µs per loop (mean ± std. dev. of 7 runs, 100 loops each)\n",
      "2018-01-07    2.5\n",
      "Freq: W-SUN, Name: a, dtype: float64\n",
      "9.29 ms ± 529 µs per loop (mean ± std. dev. of 7 runs, 100 loops each)\n",
      "              a    b    c\n",
      "2018-01-07  2.5  2.5  1.5\n",
      "2.73 s ± 260 ms per loop (mean ± std. dev. of 7 runs, 1 loop each)\n",
      "              a    b    c\n",
      "2018-01-07  2.5  2.5  1.5\n",
      "143 ms ± 9.62 ms per loop (mean ± std. dev. of 7 runs, 10 loops each)\n"
     ]
    }
   ],
   "source": [
    "print(ts['a'].resample('1w').apply(lambda x: nanmean_nb(x.values)))\n",
    "%timeit big_ts.iloc[:, 0].resample('1w').apply(lambda x: nanmean_nb(x.values))\n",
    "\n",
    "print(ts['a'].vbt.timeseries.resample_apply('1w', nanmean_nb))\n",
    "%timeit big_ts.iloc[:, 0].vbt.timeseries.resample_apply('1w', nanmean_nb)\n",
    "\n",
    "print(ts.resample('1w').apply(lambda x: nanmean_nb(x.values)))\n",
    "%timeit big_ts.resample('1w').apply(lambda x: nanmean_nb(x.values))\n",
    "\n",
    "print(ts.vbt.timeseries.resample_apply('1w', nanmean_nb))\n",
    "%timeit big_ts.vbt.timeseries.resample_apply('1w', nanmean_nb)"
   ]
  },
  {
   "cell_type": "code",
   "execution_count": 5,
   "metadata": {},
   "outputs": [
    {
     "name": "stdout",
     "output_type": "stream",
     "text": [
      "start_date  2018-01-01  2018-01-04\n",
      "0                  1.0         4.0\n",
      "1                  2.0         NaN\n",
      "996 µs ± 49.4 µs per loop (mean ± std. dev. of 7 runs, 1000 loops each)\n",
      "start_date 2018-01-01           2018-01-04          \n",
      "                    a    b    c          a    b    c\n",
      "0                 1.0  4.0  NaN        2.0  1.0  2.0\n",
      "1                 2.0  NaN  4.0        1.0  2.0  1.0\n",
      "45.1 ms ± 378 µs per loop (mean ± std. dev. of 7 runs, 10 loops each)\n"
     ]
    }
   ],
   "source": [
    "print(ts['a'].vbt.timeseries.rolling_window(2, n=2))\n",
    "%timeit big_ts.iloc[:, 0].vbt.timeseries.rolling_window(2, n=100)\n",
    "\n",
    "print(ts.vbt.timeseries.rolling_window(2, n=2))\n",
    "%timeit big_ts.vbt.timeseries.rolling_window(2, n=100)"
   ]
  },
  {
   "cell_type": "code",
   "execution_count": 6,
   "metadata": {
    "Collapsed": "false"
   },
   "outputs": [
    {
     "data": {
      "text/plain": [
       "<matplotlib.axes._subplots.AxesSubplot at 0x619b8fa20>"
      ]
     },
     "execution_count": 6,
     "metadata": {},
     "output_type": "execute_result"
    },
    {
     "data": {
      "image/png": "[encoded data removed]",
      "text/plain": [
       "<Figure size 432x288 with 1 Axes>"
      ]
     },
     "metadata": {
      "needs_background": "light"
     },
     "output_type": "display_data"
    }
   ],
   "source": [
    "# Two ways of plotting\n",
    "ts.plot()"
   ]
  },
  {
   "cell_type": "code",
   "execution_count": 8,
   "metadata": {},
   "outputs": [
    {
     "data": {
      "image/png": "[encoded data removed]"
     },
     "metadata": {},
     "output_type": "display_data"
    }
   ],
   "source": [
    "ts['a'].vbt.timeseries.plot().show_png()"
   ]
  },
  {
   "cell_type": "code",
   "execution_count": 7,
   "metadata": {},
   "outputs": [
    {
     "data": {
      "image/png": "[encoded data removed]"
     },
     "metadata": {},
     "output_type": "display_data"
    }
   ],
   "source": [
    "ts.vbt.timeseries.plot().show_png()"
   ]
  },
  {
   "cell_type": "markdown",
   "metadata": {},
   "source": [
    "## OHLCV"
   ]
  },
  {
   "cell_type": "code",
   "execution_count": 15,
   "metadata": {},
   "outputs": [
    {
     "name": "stdout",
     "output_type": "stream",
     "text": [
      "                Open      High       Low     Close    Volume\n",
      "2018-01-01 -0.728877 -0.543084 -1.075995  0.001803 -0.411735\n",
      "2018-01-02 -1.330672 -0.387870 -2.110584 -1.480652 -0.418520\n",
      "2018-01-03 -0.452133 -0.125909 -0.793306 -0.209542 -1.347012\n",
      "2018-01-04 -0.530284  0.043381 -0.642716  0.027709 -1.995993\n",
      "2018-01-05 -0.498977 -0.292883 -1.109709  0.355068 -1.210201\n"
     ]
    }
   ],
   "source": [
    "ohlcv_ts = pd.DataFrame(\n",
    "    columns=['Open', 'High', 'Low', 'Close', 'Volume'],\n",
    "    index=[datetime(2018, 1, 1) + timedelta(days=i) for i in range(1000)]\n",
    ")\n",
    "ohlcv_ts['Open'] = np.cumsum(np.random.uniform(-0.8, 1, size=(1000,)))\n",
    "ohlcv_ts['Close'] = ohlcv_ts['Open'] + np.random.uniform(-1, 1, size=(1000,))\n",
    "ohlcv_ts['High'] = ohlcv_ts['Open'] + np.random.uniform(0, 1, size=(1000,))\n",
    "ohlcv_ts['Low'] = ohlcv_ts['Open'] - np.random.uniform(0, 1, size=(1000,))\n",
    "ohlcv_ts['Volume'] = np.cumsum(np.random.uniform(-1, 1, size=(1000,)))\n",
    "\n",
    "print(ohlcv_ts.head())"
   ]
  },
  {
   "cell_type": "code",
   "execution_count": 16,
   "metadata": {},
   "outputs": [
    {
     "data": {
      "image/png": "[encoded data removed]"
     },
     "metadata": {},
     "output_type": "display_data"
    }
   ],
   "source": [
    "ohlcv_ts = ohlcv_ts.rename(columns={'Volume': 'Volume2'}) # test different column names\n",
    "\n",
    "ohlcv_ts.vbt.ohlcv(volume='Volume2').plot().show_png()"
   ]
  },
  {
   "cell_type": "code",
   "execution_count": null,
   "metadata": {},
   "outputs": [],
   "source": []
  }
 ],
 "metadata": {
  "kernelspec": {
   "display_name": "Python 3",
   "language": "python",
   "name": "python3"
  },
  "language_info": {
   "codemirror_mode": {
    "name": "ipython",
    "version": 3
   },
   "file_extension": ".py",
   "mimetype": "text/x-python",
   "name": "python",
   "nbconvert_exporter": "python",
   "pygments_lexer": "ipython3",
   "version": "3.7.3"
  },
  "widgets": {
   "application/vnd.jupyter.widget-state+json": {
    "state": {
     "06e1fc6175ee46c090a8bdb3a55ff59f": {
      "buffers": [
       {
        "data": "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",
        "encoding": "base64",
        "path": [
         "_data",
         0,
         "close",
         "value"
        ]
       },
       {
        "data": "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",
        "encoding": "base64",
        "path": [
         "_data",
         0,
         "high",
         "value"
        ]
       },
       {
        "data": "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",
        "encoding": "base64",
        "path": [
         "_data",
         0,
         "low",
         "value"
        ]
       },
       {
        "data": "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",
        "encoding": "base64",
        "path": [
         "_data",
         0,
         "open",
         "value"
        ]
       },
       {
        "data": "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",
        "encoding": "base64",
        "path": [
         "_data",
         1,
         "y",
         "value"
        ]
       }
      ],
      "model_module": "plotlywidget",
      "model_module_version": "1.5.0",
      "model_name": "FigureModel",
      "state": {
       "_config": {
        "plotlyServerURL": "https://plot.ly"
       },
       "_data": [
        {
         "close": {
          "dtype": "float64",
          "shape": [
           200
          ]
         },
         "high": {
          "dtype": "float64",
          "shape": [
           200
          ]
         },
         "low": {
          "dtype": "float64",
          "shape": [
           200
          ]
         },
         "name": "OHLC",
         "open": {
          "dtype": "float64",
          "shape": [
           200
          ]
         },
         "type": "candlestick",
         "uid": "2151df49-90c3-49ba-9d22-368971a0d09d",
         "x": [
          "2018-01-01T00:00:00.000000",
          "2018-01-02T00:00:00.000000",
          "2018-01-03T00:00:00.000000",
          "2018-01-04T00:00:00.000000",
          "2018-01-05T00:00:00.000000",
          "2018-01-06T00:00:00.000000",
          "2018-01-07T00:00:00.000000",
          "2018-01-08T00:00:00.000000",
          "2018-01-09T00:00:00.000000",
          "2018-01-10T00:00:00.000000",
          "2018-01-11T00:00:00.000000",
          "2018-01-12T00:00:00.000000",
          "2018-01-13T00:00:00.000000",
          "2018-01-14T00:00:00.000000",
          "2018-01-15T00:00:00.000000",
          "2018-01-16T00:00:00.000000",
          "2018-01-17T00:00:00.000000",
          "2018-01-18T00:00:00.000000",
          "2018-01-19T00:00:00.000000",
          "2018-01-20T00:00:00.000000",
          "2018-01-21T00:00:00.000000",
          "2018-01-22T00:00:00.000000",
          "2018-01-23T00:00:00.000000",
          "2018-01-24T00:00:00.000000",
          "2018-01-25T00:00:00.000000",
          "2018-01-26T00:00:00.000000",
          "2018-01-27T00:00:00.000000",
          "2018-01-28T00:00:00.000000",
          "2018-01-29T00:00:00.000000",
          "2018-01-30T00:00:00.000000",
          "2018-01-31T00:00:00.000000",
          "2018-02-01T00:00:00.000000",
          "2018-02-02T00:00:00.000000",
          "2018-02-03T00:00:00.000000",
          "2018-02-04T00:00:00.000000",
          "2018-02-05T00:00:00.000000",
          "2018-02-06T00:00:00.000000",
          "2018-02-07T00:00:00.000000",
          "2018-02-08T00:00:00.000000",
          "2018-02-09T00:00:00.000000",
          "2018-02-10T00:00:00.000000",
          "2018-02-11T00:00:00.000000",
          "2018-02-12T00:00:00.000000",
          "2018-02-13T00:00:00.000000",
          "2018-02-14T00:00:00.000000",
          "2018-02-15T00:00:00.000000",
          "2018-02-16T00:00:00.000000",
          "2018-02-17T00:00:00.000000",
          "2018-02-18T00:00:00.000000",
          "2018-02-19T00:00:00.000000",
          "2018-02-20T00:00:00.000000",
          "2018-02-21T00:00:00.000000",
          "2018-02-22T00:00:00.000000",
          "2018-02-23T00:00:00.000000",
          "2018-02-24T00:00:00.000000",
          "2018-02-25T00:00:00.000000",
          "2018-02-26T00:00:00.000000",
          "2018-02-27T00:00:00.000000",
          "2018-02-28T00:00:00.000000",
          "2018-03-01T00:00:00.000000",
          "2018-03-02T00:00:00.000000",
          "2018-03-03T00:00:00.000000",
          "2018-03-04T00:00:00.000000",
          "2018-03-05T00:00:00.000000",
          "2018-03-06T00:00:00.000000",
          "2018-03-07T00:00:00.000000",
          "2018-03-08T00:00:00.000000",
          "2018-03-09T00:00:00.000000",
          "2018-03-10T00:00:00.000000",
          "2018-03-11T00:00:00.000000",
          "2018-03-12T00:00:00.000000",
          "2018-03-13T00:00:00.000000",
          "2018-03-14T00:00:00.000000",
          "2018-03-15T00:00:00.000000",
          "2018-03-16T00:00:00.000000",
          "2018-03-17T00:00:00.000000",
          "2018-03-18T00:00:00.000000",
          "2018-03-19T00:00:00.000000",
          "2018-03-20T00:00:00.000000",
          "2018-03-21T00:00:00.000000",
          "2018-03-22T00:00:00.000000",
          "2018-03-23T00:00:00.000000",
          "2018-03-24T00:00:00.000000",
          "2018-03-25T00:00:00.000000",
          "2018-03-26T00:00:00.000000",
          "2018-03-27T00:00:00.000000",
          "2018-03-28T00:00:00.000000",
          "2018-03-29T00:00:00.000000",
          "2018-03-30T00:00:00.000000",
          "2018-03-31T00:00:00.000000",
          "2018-04-01T00:00:00.000000",
          "2018-04-02T00:00:00.000000",
          "2018-04-03T00:00:00.000000",
          "2018-04-04T00:00:00.000000",
          "2018-04-05T00:00:00.000000",
          "2018-04-06T00:00:00.000000",
          "2018-04-07T00:00:00.000000",
          "2018-04-08T00:00:00.000000",
          "2018-04-09T00:00:00.000000",
          "2018-04-10T00:00:00.000000",
          "2018-04-11T00:00:00.000000",
          "2018-04-12T00:00:00.000000",
          "2018-04-13T00:00:00.000000",
          "2018-04-14T00:00:00.000000",
          "2018-04-15T00:00:00.000000",
          "2018-04-16T00:00:00.000000",
          "2018-04-17T00:00:00.000000",
          "2018-04-18T00:00:00.000000",
          "2018-04-19T00:00:00.000000",
          "2018-04-20T00:00:00.000000",
          "2018-04-21T00:00:00.000000",
          "2018-04-22T00:00:00.000000",
          "2018-04-23T00:00:00.000000",
          "2018-04-24T00:00:00.000000",
          "2018-04-25T00:00:00.000000",
          "2018-04-26T00:00:00.000000",
          "2018-04-27T00:00:00.000000",
          "2018-04-28T00:00:00.000000",
          "2018-04-29T00:00:00.000000",
          "2018-04-30T00:00:00.000000",
          "2018-05-01T00:00:00.000000",
          "2018-05-02T00:00:00.000000",
          "2018-05-03T00:00:00.000000",
          "2018-05-04T00:00:00.000000",
          "2018-05-05T00:00:00.000000",
          "2018-05-06T00:00:00.000000",
          "2018-05-07T00:00:00.000000",
          "2018-05-08T00:00:00.000000",
          "2018-05-09T00:00:00.000000",
          "2018-05-10T00:00:00.000000",
          "2018-05-11T00:00:00.000000",
          "2018-05-12T00:00:00.000000",
          "2018-05-13T00:00:00.000000",
          "2018-05-14T00:00:00.000000",
          "2018-05-15T00:00:00.000000",
          "2018-05-16T00:00:00.000000",
          "2018-05-17T00:00:00.000000",
          "2018-05-18T00:00:00.000000",
          "2018-05-19T00:00:00.000000",
          "2018-05-20T00:00:00.000000",
          "2018-05-21T00:00:00.000000",
          "2018-05-22T00:00:00.000000",
          "2018-05-23T00:00:00.000000",
          "2018-05-24T00:00:00.000000",
          "2018-05-25T00:00:00.000000",
          "2018-05-26T00:00:00.000000",
          "2018-05-27T00:00:00.000000",
          "2018-05-28T00:00:00.000000",
          "2018-05-29T00:00:00.000000",
          "2018-05-30T00:00:00.000000",
          "2018-05-31T00:00:00.000000",
          "2018-06-01T00:00:00.000000",
          "2018-06-02T00:00:00.000000",
          "2018-06-03T00:00:00.000000",
          "2018-06-04T00:00:00.000000",
          "2018-06-05T00:00:00.000000",
          "2018-06-06T00:00:00.000000",
          "2018-06-07T00:00:00.000000",
          "2018-06-08T00:00:00.000000",
          "2018-06-09T00:00:00.000000",
          "2018-06-10T00:00:00.000000",
          "2018-06-11T00:00:00.000000",
          "2018-06-12T00:00:00.000000",
          "2018-06-13T00:00:00.000000",
          "2018-06-14T00:00:00.000000",
          "2018-06-15T00:00:00.000000",
          "2018-06-16T00:00:00.000000",
          "2018-06-17T00:00:00.000000",
          "2018-06-18T00:00:00.000000",
          "2018-06-19T00:00:00.000000",
          "2018-06-20T00:00:00.000000",
          "2018-06-21T00:00:00.000000",
          "2018-06-22T00:00:00.000000",
          "2018-06-23T00:00:00.000000",
          "2018-06-24T00:00:00.000000",
          "2018-06-25T00:00:00.000000",
          "2018-06-26T00:00:00.000000",
          "2018-06-27T00:00:00.000000",
          "2018-06-28T00:00:00.000000",
          "2018-06-29T00:00:00.000000",
          "2018-06-30T00:00:00.000000",
          "2018-07-01T00:00:00.000000",
          "2018-07-02T00:00:00.000000",
          "2018-07-03T00:00:00.000000",
          "2018-07-04T00:00:00.000000",
          "2018-07-05T00:00:00.000000",
          "2018-07-06T00:00:00.000000",
          "2018-07-07T00:00:00.000000",
          "2018-07-08T00:00:00.000000",
          "2018-07-09T00:00:00.000000",
          "2018-07-10T00:00:00.000000",
          "2018-07-11T00:00:00.000000",
          "2018-07-12T00:00:00.000000",
          "2018-07-13T00:00:00.000000",
          "2018-07-14T00:00:00.000000",
          "2018-07-15T00:00:00.000000",
          "2018-07-16T00:00:00.000000",
          "2018-07-17T00:00:00.000000",
          "2018-07-18T00:00:00.000000",
          "2018-07-19T00:00:00.000000"
         ],
         "xaxis": "x",
         "yaxis": "y2"
        },
        {
         "marker": {
          "color": [
           "red",
           "green",
           "red",
           "green",
           "red",
           "red",
           "green",
           "red",
           "green",
           "red",
           "red",
           "green",
           "green",
           "red",
           "green",
           "red",
           "red",
           "green",
           "green",
           "red",
           "green",
           "green",
           "green",
           "red",
           "red",
           "green",
           "red",
           "red",
           "red",
           "green",
           "green",
           "green",
           "red",
           "green",
           "green",
           "red",
           "red",
           "green",
           "green",
           "green",
           "red",
           "red",
           "red",
           "green",
           "green",
           "red",
           "red",
           "red",
           "red",
           "red",
           "green",
           "red",
           "red",
           "green",
           "green",
           "green",
           "red",
           "green",
           "red",
           "green",
           "green",
           "green",
           "green",
           "green",
           "red",
           "green",
           "red",
           "green",
           "green",
           "green",
           "green",
           "red",
           "red",
           "red",
           "green",
           "red",
           "red",
           "green",
           "green",
           "red",
           "green",
           "red",
           "green",
           "red",
           "green",
           "red",
           "green",
           "green",
           "red",
           "red",
           "green",
           "red",
           "red",
           "green",
           "green",
           "green",
           "green",
           "red",
           "green",
           "red",
           "red",
           "red",
           "red",
           "red",
           "green",
           "green",
           "green",
           "green",
           "red",
           "red",
           "red",
           "red",
           "green",
           "red",
           "red",
           "red",
           "red",
           "red",
           "red",
           "red",
           "red",
           "green",
           "green",
           "red",
           "green",
           "green",
           "red",
           "red",
           "red",
           "red",
           "green",
           "green",
           "red",
           "red",
           "red",
           "green",
           "green",
           "green",
           "green",
           "red",
           "green",
           "red",
           "red",
           "red",
           "red",
           "red",
           "red",
           "red",
           "green",
           "green",
           "red",
           "green",
           "red",
           "red",
           "red",
           "red",
           "red",
           "red",
           "red",
           "red",
           "red",
           "green",
           "green",
           "green",
           "green",
           "red",
           "red",
           "red",
           "green",
           "red",
           "green",
           "red",
           "red",
           "green",
           "green",
           "green",
           "green",
           "red",
           "red",
           "red",
           "green",
           "green",
           "red",
           "green",
           "green",
           "green",
           "green",
           "red",
           "red",
           "red",
           "green",
           "red",
           "red",
           "green",
           "red",
           "green",
           "red",
           "green",
           "red",
           "red"
          ],
          "line": {
           "width": 0
          }
         },
         "name": "Volume",
         "type": "bar",
         "uid": "1b16c85b-3906-40f5-b7cf-e6611eebed33",
         "x": [
          "2018-01-01T00:00:00.000000",
          "2018-01-02T00:00:00.000000",
          "2018-01-03T00:00:00.000000",
          "2018-01-04T00:00:00.000000",
          "2018-01-05T00:00:00.000000",
          "2018-01-06T00:00:00.000000",
          "2018-01-07T00:00:00.000000",
          "2018-01-08T00:00:00.000000",
          "2018-01-09T00:00:00.000000",
          "2018-01-10T00:00:00.000000",
          "2018-01-11T00:00:00.000000",
          "2018-01-12T00:00:00.000000",
          "2018-01-13T00:00:00.000000",
          "2018-01-14T00:00:00.000000",
          "2018-01-15T00:00:00.000000",
          "2018-01-16T00:00:00.000000",
          "2018-01-17T00:00:00.000000",
          "2018-01-18T00:00:00.000000",
          "2018-01-19T00:00:00.000000",
          "2018-01-20T00:00:00.000000",
          "2018-01-21T00:00:00.000000",
          "2018-01-22T00:00:00.000000",
          "2018-01-23T00:00:00.000000",
          "2018-01-24T00:00:00.000000",
          "2018-01-25T00:00:00.000000",
          "2018-01-26T00:00:00.000000",
          "2018-01-27T00:00:00.000000",
          "2018-01-28T00:00:00.000000",
          "2018-01-29T00:00:00.000000",
          "2018-01-30T00:00:00.000000",
          "2018-01-31T00:00:00.000000",
          "2018-02-01T00:00:00.000000",
          "2018-02-02T00:00:00.000000",
          "2018-02-03T00:00:00.000000",
          "2018-02-04T00:00:00.000000",
          "2018-02-05T00:00:00.000000",
          "2018-02-06T00:00:00.000000",
          "2018-02-07T00:00:00.000000",
          "2018-02-08T00:00:00.000000",
          "2018-02-09T00:00:00.000000",
          "2018-02-10T00:00:00.000000",
          "2018-02-11T00:00:00.000000",
          "2018-02-12T00:00:00.000000",
          "2018-02-13T00:00:00.000000",
          "2018-02-14T00:00:00.000000",
          "2018-02-15T00:00:00.000000",
          "2018-02-16T00:00:00.000000",
          "2018-02-17T00:00:00.000000",
          "2018-02-18T00:00:00.000000",
          "2018-02-19T00:00:00.000000",
          "2018-02-20T00:00:00.000000",
          "2018-02-21T00:00:00.000000",
          "2018-02-22T00:00:00.000000",
          "2018-02-23T00:00:00.000000",
          "2018-02-24T00:00:00.000000",
          "2018-02-25T00:00:00.000000",
          "2018-02-26T00:00:00.000000",
          "2018-02-27T00:00:00.000000",
          "2018-02-28T00:00:00.000000",
          "2018-03-01T00:00:00.000000",
          "2018-03-02T00:00:00.000000",
          "2018-03-03T00:00:00.000000",
          "2018-03-04T00:00:00.000000",
          "2018-03-05T00:00:00.000000",
          "2018-03-06T00:00:00.000000",
          "2018-03-07T00:00:00.000000",
          "2018-03-08T00:00:00.000000",
          "2018-03-09T00:00:00.000000",
          "2018-03-10T00:00:00.000000",
          "2018-03-11T00:00:00.000000",
          "2018-03-12T00:00:00.000000",
          "2018-03-13T00:00:00.000000",
          "2018-03-14T00:00:00.000000",
          "2018-03-15T00:00:00.000000",
          "2018-03-16T00:00:00.000000",
          "2018-03-17T00:00:00.000000",
          "2018-03-18T00:00:00.000000",
          "2018-03-19T00:00:00.000000",
          "2018-03-20T00:00:00.000000",
          "2018-03-21T00:00:00.000000",
          "2018-03-22T00:00:00.000000",
          "2018-03-23T00:00:00.000000",
          "2018-03-24T00:00:00.000000",
          "2018-03-25T00:00:00.000000",
          "2018-03-26T00:00:00.000000",
          "2018-03-27T00:00:00.000000",
          "2018-03-28T00:00:00.000000",
          "2018-03-29T00:00:00.000000",
          "2018-03-30T00:00:00.000000",
          "2018-03-31T00:00:00.000000",
          "2018-04-01T00:00:00.000000",
          "2018-04-02T00:00:00.000000",
          "2018-04-03T00:00:00.000000",
          "2018-04-04T00:00:00.000000",
          "2018-04-05T00:00:00.000000",
          "2018-04-06T00:00:00.000000",
          "2018-04-07T00:00:00.000000",
          "2018-04-08T00:00:00.000000",
          "2018-04-09T00:00:00.000000",
          "2018-04-10T00:00:00.000000",
          "2018-04-11T00:00:00.000000",
          "2018-04-12T00:00:00.000000",
          "2018-04-13T00:00:00.000000",
          "2018-04-14T00:00:00.000000",
          "2018-04-15T00:00:00.000000",
          "2018-04-16T00:00:00.000000",
          "2018-04-17T00:00:00.000000",
          "2018-04-18T00:00:00.000000",
          "2018-04-19T00:00:00.000000",
          "2018-04-20T00:00:00.000000",
          "2018-04-21T00:00:00.000000",
          "2018-04-22T00:00:00.000000",
          "2018-04-23T00:00:00.000000",
          "2018-04-24T00:00:00.000000",
          "2018-04-25T00:00:00.000000",
          "2018-04-26T00:00:00.000000",
          "2018-04-27T00:00:00.000000",
          "2018-04-28T00:00:00.000000",
          "2018-04-29T00:00:00.000000",
          "2018-04-30T00:00:00.000000",
          "2018-05-01T00:00:00.000000",
          "2018-05-02T00:00:00.000000",
          "2018-05-03T00:00:00.000000",
          "2018-05-04T00:00:00.000000",
          "2018-05-05T00:00:00.000000",
          "2018-05-06T00:00:00.000000",
          "2018-05-07T00:00:00.000000",
          "2018-05-08T00:00:00.000000",
          "2018-05-09T00:00:00.000000",
          "2018-05-10T00:00:00.000000",
          "2018-05-11T00:00:00.000000",
          "2018-05-12T00:00:00.000000",
          "2018-05-13T00:00:00.000000",
          "2018-05-14T00:00:00.000000",
          "2018-05-15T00:00:00.000000",
          "2018-05-16T00:00:00.000000",
          "2018-05-17T00:00:00.000000",
          "2018-05-18T00:00:00.000000",
          "2018-05-19T00:00:00.000000",
          "2018-05-20T00:00:00.000000",
          "2018-05-21T00:00:00.000000",
          "2018-05-22T00:00:00.000000",
          "2018-05-23T00:00:00.000000",
          "2018-05-24T00:00:00.000000",
          "2018-05-25T00:00:00.000000",
          "2018-05-26T00:00:00.000000",
          "2018-05-27T00:00:00.000000",
          "2018-05-28T00:00:00.000000",
          "2018-05-29T00:00:00.000000",
          "2018-05-30T00:00:00.000000",
          "2018-05-31T00:00:00.000000",
          "2018-06-01T00:00:00.000000",
          "2018-06-02T00:00:00.000000",
          "2018-06-03T00:00:00.000000",
          "2018-06-04T00:00:00.000000",
          "2018-06-05T00:00:00.000000",
          "2018-06-06T00:00:00.000000",
          "2018-06-07T00:00:00.000000",
          "2018-06-08T00:00:00.000000",
          "2018-06-09T00:00:00.000000",
          "2018-06-10T00:00:00.000000",
          "2018-06-11T00:00:00.000000",
          "2018-06-12T00:00:00.000000",
          "2018-06-13T00:00:00.000000",
          "2018-06-14T00:00:00.000000",
          "2018-06-15T00:00:00.000000",
          "2018-06-16T00:00:00.000000",
          "2018-06-17T00:00:00.000000",
          "2018-06-18T00:00:00.000000",
          "2018-06-19T00:00:00.000000",
          "2018-06-20T00:00:00.000000",
          "2018-06-21T00:00:00.000000",
          "2018-06-22T00:00:00.000000",
          "2018-06-23T00:00:00.000000",
          "2018-06-24T00:00:00.000000",
          "2018-06-25T00:00:00.000000",
          "2018-06-26T00:00:00.000000",
          "2018-06-27T00:00:00.000000",
          "2018-06-28T00:00:00.000000",
          "2018-06-29T00:00:00.000000",
          "2018-06-30T00:00:00.000000",
          "2018-07-01T00:00:00.000000",
          "2018-07-02T00:00:00.000000",
          "2018-07-03T00:00:00.000000",
          "2018-07-04T00:00:00.000000",
          "2018-07-05T00:00:00.000000",
          "2018-07-06T00:00:00.000000",
          "2018-07-07T00:00:00.000000",
          "2018-07-08T00:00:00.000000",
          "2018-07-09T00:00:00.000000",
          "2018-07-10T00:00:00.000000",
          "2018-07-11T00:00:00.000000",
          "2018-07-12T00:00:00.000000",
          "2018-07-13T00:00:00.000000",
          "2018-07-14T00:00:00.000000",
          "2018-07-15T00:00:00.000000",
          "2018-07-16T00:00:00.000000",
          "2018-07-17T00:00:00.000000",
          "2018-07-18T00:00:00.000000",
          "2018-07-19T00:00:00.000000"
         ],
         "xaxis": "x",
         "y": {
          "dtype": "float64",
          "shape": [
           200
          ]
         },
         "yaxis": "y"
        }
       ],
       "_js2py_layoutDelta": {},
       "_js2py_pointsCallback": {},
       "_js2py_relayout": {},
       "_js2py_restyle": {},
       "_js2py_traceDeltas": {},
       "_js2py_update": {},
       "_last_layout_edit_id": 5,
       "_last_trace_edit_id": 5,
       "_layout": {
        "autosize": false,
        "colorway": [
         "#1f77b4",
         "#ff7f0e",
         "#2ca02c",
         "#d62728",
         "#9467bd",
         "#8c564b",
         "#e377c2",
         "#7f7f7f",
         "#bcbd22",
         "#17becf"
        ],
        "height": 300,
        "hovermode": "closest",
        "margin": {
         "b": 30,
         "t": 30
        },
        "showlegend": true,
        "template": {
         "data": {
          "bar": [
           {
            "error_x": {
             "color": "#2a3f5f"
            },
            "error_y": {
             "color": "#2a3f5f"
            },
            "marker": {
             "line": {
              "color": "#E5ECF6",
              "width": 0.5
             }
            },
            "type": "bar"
           }
          ],
          "barpolar": [
           {
            "marker": {
             "line": {
              "color": "#E5ECF6",
              "width": 0.5
             }
            },
            "type": "barpolar"
           }
          ],
          "carpet": [
           {
            "aaxis": {
             "endlinecolor": "#2a3f5f",
             "gridcolor": "white",
             "linecolor": "white",
             "minorgridcolor": "white",
             "startlinecolor": "#2a3f5f"
            },
            "baxis": {
             "endlinecolor": "#2a3f5f",
             "gridcolor": "white",
             "linecolor": "white",
             "minorgridcolor": "white",
             "startlinecolor": "#2a3f5f"
            },
            "type": "carpet"
           }
          ],
          "choropleth": [
           {
            "colorbar": {
             "outlinewidth": 0,
             "ticks": ""
            },
            "type": "choropleth"
           }
          ],
          "contour": [
           {
            "colorbar": {
             "outlinewidth": 0,
             "ticks": ""
            },
            "colorscale": [
             [
              0,
              "#0d0887"
             ],
             [
              0.1111111111111111,
              "#46039f"
             ],
             [
              0.2222222222222222,
              "#7201a8"
             ],
             [
              0.3333333333333333,
              "#9c179e"
             ],
             [
              0.4444444444444444,
              "#bd3786"
             ],
             [
              0.5555555555555556,
              "#d8576b"
             ],
             [
              0.6666666666666666,
              "#ed7953"
             ],
             [
              0.7777777777777778,
              "#fb9f3a"
             ],
             [
              0.8888888888888888,
              "#fdca26"
             ],
             [
              1,
              "#f0f921"
             ]
            ],
            "type": "contour"
           }
          ],
          "contourcarpet": [
           {
            "colorbar": {
             "outlinewidth": 0,
             "ticks": ""
            },
            "type": "contourcarpet"
           }
          ],
          "heatmap": [
           {
            "colorbar": {
             "outlinewidth": 0,
             "ticks": ""
            },
            "colorscale": [
             [
              0,
              "#0d0887"
             ],
             [
              0.1111111111111111,
              "#46039f"
             ],
             [
              0.2222222222222222,
              "#7201a8"
             ],
             [
              0.3333333333333333,
              "#9c179e"
             ],
             [
              0.4444444444444444,
              "#bd3786"
             ],
             [
              0.5555555555555556,
              "#d8576b"
             ],
             [
              0.6666666666666666,
              "#ed7953"
             ],
             [
              0.7777777777777778,
              "#fb9f3a"
             ],
             [
              0.8888888888888888,
              "#fdca26"
             ],
             [
              1,
              "#f0f921"
             ]
            ],
            "type": "heatmap"
           }
          ],
          "heatmapgl": [
           {
            "colorbar": {
             "outlinewidth": 0,
             "ticks": ""
            },
            "colorscale": [
             [
              0,
              "#0d0887"
             ],
             [
              0.1111111111111111,
              "#46039f"
             ],
             [
              0.2222222222222222,
              "#7201a8"
             ],
             [
              0.3333333333333333,
              "#9c179e"
             ],
             [
              0.4444444444444444,
              "#bd3786"
             ],
             [
              0.5555555555555556,
              "#d8576b"
             ],
             [
              0.6666666666666666,
              "#ed7953"
             ],
             [
              0.7777777777777778,
              "#fb9f3a"
             ],
             [
              0.8888888888888888,
              "#fdca26"
             ],
             [
              1,
              "#f0f921"
             ]
            ],
            "type": "heatmapgl"
           }
          ],
          "histogram": [
           {
            "marker": {
             "colorbar": {
              "outlinewidth": 0,
              "ticks": ""
             }
            },
            "type": "histogram"
           }
          ],
          "histogram2d": [
           {
            "colorbar": {
             "outlinewidth": 0,
             "ticks": ""
            },
            "colorscale": [
             [
              0,
              "#0d0887"
             ],
             [
              0.1111111111111111,
              "#46039f"
             ],
             [
              0.2222222222222222,
              "#7201a8"
             ],
             [
              0.3333333333333333,
              "#9c179e"
             ],
             [
              0.4444444444444444,
              "#bd3786"
             ],
             [
              0.5555555555555556,
              "#d8576b"
             ],
             [
              0.6666666666666666,
              "#ed7953"
             ],
             [
              0.7777777777777778,
              "#fb9f3a"
             ],
             [
              0.8888888888888888,
              "#fdca26"
             ],
             [
              1,
              "#f0f921"
             ]
            ],
            "type": "histogram2d"
           }
          ],
          "histogram2dcontour": [
           {
            "colorbar": {
             "outlinewidth": 0,
             "ticks": ""
            },
            "colorscale": [
             [
              0,
              "#0d0887"
             ],
             [
              0.1111111111111111,
              "#46039f"
             ],
             [
              0.2222222222222222,
              "#7201a8"
             ],
             [
              0.3333333333333333,
              "#9c179e"
             ],
             [
              0.4444444444444444,
              "#bd3786"
             ],
             [
              0.5555555555555556,
              "#d8576b"
             ],
             [
              0.6666666666666666,
              "#ed7953"
             ],
             [
              0.7777777777777778,
              "#fb9f3a"
             ],
             [
              0.8888888888888888,
              "#fdca26"
             ],
             [
              1,
              "#f0f921"
             ]
            ],
            "type": "histogram2dcontour"
           }
          ],
          "mesh3d": [
           {
            "colorbar": {
             "outlinewidth": 0,
             "ticks": ""
            },
            "type": "mesh3d"
           }
          ],
          "parcoords": [
           {
            "line": {
             "colorbar": {
              "outlinewidth": 0,
              "ticks": ""
             }
            },
            "type": "parcoords"
           }
          ],
          "pie": [
           {
            "automargin": true,
            "type": "pie"
           }
          ],
          "scatter": [
           {
            "marker": {
             "colorbar": {
              "outlinewidth": 0,
              "ticks": ""
             }
            },
            "type": "scatter"
           }
          ],
          "scatter3d": [
           {
            "line": {
             "colorbar": {
              "outlinewidth": 0,
              "ticks": ""
             }
            },
            "marker": {
             "colorbar": {
              "outlinewidth": 0,
              "ticks": ""
             }
            },
            "type": "scatter3d"
           }
          ],
          "scattercarpet": [
           {
            "marker": {
             "colorbar": {
              "outlinewidth": 0,
              "ticks": ""
             }
            },
            "type": "scattercarpet"
           }
          ],
          "scattergeo": [
           {
            "marker": {
             "colorbar": {
              "outlinewidth": 0,
              "ticks": ""
             }
            },
            "type": "scattergeo"
           }
          ],
          "scattergl": [
           {
            "marker": {
             "colorbar": {
              "outlinewidth": 0,
              "ticks": ""
             }
            },
            "type": "scattergl"
           }
          ],
          "scattermapbox": [
           {
            "marker": {
             "colorbar": {
              "outlinewidth": 0,
              "ticks": ""
             }
            },
            "type": "scattermapbox"
           }
          ],
          "scatterpolar": [
           {
            "marker": {
             "colorbar": {
              "outlinewidth": 0,
              "ticks": ""
             }
            },
            "type": "scatterpolar"
           }
          ],
          "scatterpolargl": [
           {
            "marker": {
             "colorbar": {
              "outlinewidth": 0,
              "ticks": ""
             }
            },
            "type": "scatterpolargl"
           }
          ],
          "scatterternary": [
           {
            "marker": {
             "colorbar": {
              "outlinewidth": 0,
              "ticks": ""
             }
            },
            "type": "scatterternary"
           }
          ],
          "surface": [
           {
            "colorbar": {
             "outlinewidth": 0,
             "ticks": ""
            },
            "colorscale": [
             [
              0,
              "#0d0887"
             ],
             [
              0.1111111111111111,
              "#46039f"
             ],
             [
              0.2222222222222222,
              "#7201a8"
             ],
             [
              0.3333333333333333,
              "#9c179e"
             ],
             [
              0.4444444444444444,
              "#bd3786"
             ],
             [
              0.5555555555555556,
              "#d8576b"
             ],
             [
              0.6666666666666666,
              "#ed7953"
             ],
             [
              0.7777777777777778,
              "#fb9f3a"
             ],
             [
              0.8888888888888888,
              "#fdca26"
             ],
             [
              1,
              "#f0f921"
             ]
            ],
            "type": "surface"
           }
          ],
          "table": [
           {
            "cells": {
             "fill": {
              "color": "#EBF0F8"
             },
             "line": {
              "color": "white"
             }
            },
            "header": {
             "fill": {
              "color": "#C8D4E3"
             },
             "line": {
              "color": "white"
             }
            },
            "type": "table"
           }
          ]
         },
         "layout": {
          "annotationdefaults": {
           "arrowcolor": "#2a3f5f",
           "arrowhead": 0,
           "arrowwidth": 1
          },
          "coloraxis": {
           "colorbar": {
            "outlinewidth": 0,
            "ticks": ""
           }
          },
          "colorscale": {
           "diverging": [
            [
             0,
             "#8e0152"
            ],
            [
             0.1,
             "#c51b7d"
            ],
            [
             0.2,
             "#de77ae"
            ],
            [
             0.3,
             "#f1b6da"
            ],
            [
             0.4,
             "#fde0ef"
            ],
            [
             0.5,
             "#f7f7f7"
            ],
            [
             0.6,
             "#e6f5d0"
            ],
            [
             0.7,
             "#b8e186"
            ],
            [
             0.8,
             "#7fbc41"
            ],
            [
             0.9,
             "#4d9221"
            ],
            [
             1,
             "#276419"
            ]
           ],
           "sequential": [
            [
             0,
             "#0d0887"
            ],
            [
             0.1111111111111111,
             "#46039f"
            ],
            [
             0.2222222222222222,
             "#7201a8"
            ],
            [
             0.3333333333333333,
             "#9c179e"
            ],
            [
             0.4444444444444444,
             "#bd3786"
            ],
            [
             0.5555555555555556,
             "#d8576b"
            ],
            [
             0.6666666666666666,
             "#ed7953"
            ],
            [
             0.7777777777777778,
             "#fb9f3a"
            ],
            [
             0.8888888888888888,
             "#fdca26"
            ],
            [
             1,
             "#f0f921"
            ]
           ],
           "sequentialminus": [
            [
             0,
             "#0d0887"
            ],
            [
             0.1111111111111111,
             "#46039f"
            ],
            [
             0.2222222222222222,
             "#7201a8"
            ],
            [
             0.3333333333333333,
             "#9c179e"
            ],
            [
             0.4444444444444444,
             "#bd3786"
            ],
            [
             0.5555555555555556,
             "#d8576b"
            ],
            [
             0.6666666666666666,
             "#ed7953"
            ],
            [
             0.7777777777777778,
             "#fb9f3a"
            ],
            [
             0.8888888888888888,
             "#fdca26"
            ],
            [
             1,
             "#f0f921"
            ]
           ]
          },
          "colorway": [
           "#636efa",
           "#EF553B",
           "#00cc96",
           "#ab63fa",
           "#FFA15A",
           "#19d3f3",
           "#FF6692",
           "#B6E880",
           "#FF97FF",
           "#FECB52"
          ],
          "font": {
           "color": "#2a3f5f"
          },
          "geo": {
           "bgcolor": "white",
           "lakecolor": "white",
           "landcolor": "#E5ECF6",
           "showlakes": true,
           "showland": true,
           "subunitcolor": "white"
          },
          "hoverlabel": {
           "align": "left"
          },
          "hovermode": "closest",
          "mapbox": {
           "style": "light"
          },
          "paper_bgcolor": "white",
          "plot_bgcolor": "#E5ECF6",
          "polar": {
           "angularaxis": {
            "gridcolor": "white",
            "linecolor": "white",
            "ticks": ""
           },
           "bgcolor": "#E5ECF6",
           "radialaxis": {
            "gridcolor": "white",
            "linecolor": "white",
            "ticks": ""
           }
          },
          "scene": {
           "xaxis": {
            "backgroundcolor": "#E5ECF6",
            "gridcolor": "white",
            "gridwidth": 2,
            "linecolor": "white",
            "showbackground": true,
            "ticks": "",
            "zerolinecolor": "white"
           },
           "yaxis": {
            "backgroundcolor": "#E5ECF6",
            "gridcolor": "white",
            "gridwidth": 2,
            "linecolor": "white",
            "showbackground": true,
            "ticks": "",
            "zerolinecolor": "white"
           },
           "zaxis": {
            "backgroundcolor": "#E5ECF6",
            "gridcolor": "white",
            "gridwidth": 2,
            "linecolor": "white",
            "showbackground": true,
            "ticks": "",
            "zerolinecolor": "white"
           }
          },
          "shapedefaults": {
           "line": {
            "color": "#2a3f5f"
           }
          },
          "ternary": {
           "aaxis": {
            "gridcolor": "white",
            "linecolor": "white",
            "ticks": ""
           },
           "baxis": {
            "gridcolor": "white",
            "linecolor": "white",
            "ticks": ""
           },
           "bgcolor": "#E5ECF6",
           "caxis": {
            "gridcolor": "white",
            "linecolor": "white",
            "ticks": ""
           }
          },
          "title": {
           "x": 0.05
          },
          "xaxis": {
           "automargin": true,
           "gridcolor": "white",
           "linecolor": "white",
           "ticks": "",
           "title": {
            "standoff": 15
           },
           "zerolinecolor": "white",
           "zerolinewidth": 2
          },
          "yaxis": {
           "automargin": true,
           "gridcolor": "white",
           "linecolor": "white",
           "ticks": "",
           "title": {
            "standoff": 15
           },
           "zerolinecolor": "white",
           "zerolinewidth": 2
          }
         }
        },
        "width": 700,
        "xaxis": {
         "rangeslider": {
          "visible": false
         },
         "showgrid": true
        },
        "yaxis": {
         "domain": [
          0,
          0.33
         ],
         "showgrid": true
        },
        "yaxis2": {
         "domain": [
          0.33,
          1
         ]
        }
       },
       "_model_module_version": "1.5.0",
       "_py2js_animate": {},
       "_py2js_deleteTraces": {},
       "_py2js_moveTraces": {},
       "_py2js_removeLayoutProps": {},
       "_py2js_removeTraceProps": {},
       "_py2js_restyle": {},
       "_view_count": 0,
       "_view_module_version": "1.5.0"
      }
     },
     "63e2e757af70477988a1e8df01a6eeee": {
      "buffers": [
       {
        "data": "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",
        "encoding": "base64",
        "path": [
         "_data",
         0,
         "close",
         "value"
        ]
       },
       {
        "data": "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",
        "encoding": "base64",
        "path": [
         "_data",
         0,
         "high",
         "value"
        ]
       },
       {
        "data": "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",
        "encoding": "base64",
        "path": [
         "_data",
         0,
         "low",
         "value"
        ]
       },
       {
        "data": "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",
        "encoding": "base64",
        "path": [
         "_data",
         0,
         "open",
         "value"
        ]
       },
       {
        "data": "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",
        "encoding": "base64",
        "path": [
         "_data",
         1,
         "y",
         "value"
        ]
       }
      ],
      "model_module": "plotlywidget",
      "model_module_version": "1.5.0",
      "model_name": "FigureModel",
      "state": {
       "_config": {
        "plotlyServerURL": "https://plot.ly"
       },
       "_data": [
        {
         "close": {
          "dtype": "float64",
          "shape": [
           1000
          ]
         },
         "high": {
          "dtype": "float64",
          "shape": [
           1000
          ]
         },
         "low": {
          "dtype": "float64",
          "shape": [
           1000
          ]
         },
         "name": "OHLC",
         "open": {
          "dtype": "float64",
          "shape": [
           1000
          ]
         },
         "type": "candlestick",
         "uid": "ab98404c-534a-46b4-81f9-887449d38458",
         "x": [
          "2018-01-01T00:00:00.000000",
          "2018-01-02T00:00:00.000000",
          "2018-01-03T00:00:00.000000",
          "2018-01-04T00:00:00.000000",
          "2018-01-05T00:00:00.000000",
          "2018-01-06T00:00:00.000000",
          "2018-01-07T00:00:00.000000",
          "2018-01-08T00:00:00.000000",
          "2018-01-09T00:00:00.000000",
          "2018-01-10T00:00:00.000000",
          "2018-01-11T00:00:00.000000",
          "2018-01-12T00:00:00.000000",
          "2018-01-13T00:00:00.000000",
          "2018-01-14T00:00:00.000000",
          "2018-01-15T00:00:00.000000",
          "2018-01-16T00:00:00.000000",
          "2018-01-17T00:00:00.000000",
          "2018-01-18T00:00:00.000000",
          "2018-01-19T00:00:00.000000",
          "2018-01-20T00:00:00.000000",
          "2018-01-21T00:00:00.000000",
          "2018-01-22T00:00:00.000000",
          "2018-01-23T00:00:00.000000",
          "2018-01-24T00:00:00.000000",
          "2018-01-25T00:00:00.000000",
          "2018-01-26T00:00:00.000000",
          "2018-01-27T00:00:00.000000",
          "2018-01-28T00:00:00.000000",
          "2018-01-29T00:00:00.000000",
          "2018-01-30T00:00:00.000000",
          "2018-01-31T00:00:00.000000",
          "2018-02-01T00:00:00.000000",
          "2018-02-02T00:00:00.000000",
          "2018-02-03T00:00:00.000000",
          "2018-02-04T00:00:00.000000",
          "2018-02-05T00:00:00.000000",
          "2018-02-06T00:00:00.000000",
          "2018-02-07T00:00:00.000000",
          "2018-02-08T00:00:00.000000",
          "2018-02-09T00:00:00.000000",
          "2018-02-10T00:00:00.000000",
          "2018-02-11T00:00:00.000000",
          "2018-02-12T00:00:00.000000",
          "2018-02-13T00:00:00.000000",
          "2018-02-14T00:00:00.000000",
          "2018-02-15T00:00:00.000000",
          "2018-02-16T00:00:00.000000",
          "2018-02-17T00:00:00.000000",
          "2018-02-18T00:00:00.000000",
          "2018-02-19T00:00:00.000000",
          "2018-02-20T00:00:00.000000",
          "2018-02-21T00:00:00.000000",
          "2018-02-22T00:00:00.000000",
          "2018-02-23T00:00:00.000000",
          "2018-02-24T00:00:00.000000",
          "2018-02-25T00:00:00.000000",
          "2018-02-26T00:00:00.000000",
          "2018-02-27T00:00:00.000000",
          "2018-02-28T00:00:00.000000",
          "2018-03-01T00:00:00.000000",
          "2018-03-02T00:00:00.000000",
          "2018-03-03T00:00:00.000000",
          "2018-03-04T00:00:00.000000",
          "2018-03-05T00:00:00.000000",
          "2018-03-06T00:00:00.000000",
          "2018-03-07T00:00:00.000000",
          "2018-03-08T00:00:00.000000",
          "2018-03-09T00:00:00.000000",
          "2018-03-10T00:00:00.000000",
          "2018-03-11T00:00:00.000000",
          "2018-03-12T00:00:00.000000",
          "2018-03-13T00:00:00.000000",
          "2018-03-14T00:00:00.000000",
          "2018-03-15T00:00:00.000000",
          "2018-03-16T00:00:00.000000",
          "2018-03-17T00:00:00.000000",
          "2018-03-18T00:00:00.000000",
          "2018-03-19T00:00:00.000000",
          "2018-03-20T00:00:00.000000",
          "2018-03-21T00:00:00.000000",
          "2018-03-22T00:00:00.000000",
          "2018-03-23T00:00:00.000000",
          "2018-03-24T00:00:00.000000",
          "2018-03-25T00:00:00.000000",
          "2018-03-26T00:00:00.000000",
          "2018-03-27T00:00:00.000000",
          "2018-03-28T00:00:00.000000",
          "2018-03-29T00:00:00.000000",
          "2018-03-30T00:00:00.000000",
          "2018-03-31T00:00:00.000000",
          "2018-04-01T00:00:00.000000",
          "2018-04-02T00:00:00.000000",
          "2018-04-03T00:00:00.000000",
          "2018-04-04T00:00:00.000000",
          "2018-04-05T00:00:00.000000",
          "2018-04-06T00:00:00.000000",
          "2018-04-07T00:00:00.000000",
          "2018-04-08T00:00:00.000000",
          "2018-04-09T00:00:00.000000",
          "2018-04-10T00:00:00.000000",
          "2018-04-11T00:00:00.000000",
          "2018-04-12T00:00:00.000000",
          "2018-04-13T00:00:00.000000",
          "2018-04-14T00:00:00.000000",
          "2018-04-15T00:00:00.000000",
          "2018-04-16T00:00:00.000000",
          "2018-04-17T00:00:00.000000",
          "2018-04-18T00:00:00.000000",
          "2018-04-19T00:00:00.000000",
          "2018-04-20T00:00:00.000000",
          "2018-04-21T00:00:00.000000",
          "2018-04-22T00:00:00.000000",
          "2018-04-23T00:00:00.000000",
          "2018-04-24T00:00:00.000000",
          "2018-04-25T00:00:00.000000",
          "2018-04-26T00:00:00.000000",
          "2018-04-27T00:00:00.000000",
          "2018-04-28T00:00:00.000000",
          "2018-04-29T00:00:00.000000",
          "2018-04-30T00:00:00.000000",
          "2018-05-01T00:00:00.000000",
          "2018-05-02T00:00:00.000000",
          "2018-05-03T00:00:00.000000",
          "2018-05-04T00:00:00.000000",
          "2018-05-05T00:00:00.000000",
          "2018-05-06T00:00:00.000000",
          "2018-05-07T00:00:00.000000",
          "2018-05-08T00:00:00.000000",
          "2018-05-09T00:00:00.000000",
          "2018-05-10T00:00:00.000000",
          "2018-05-11T00:00:00.000000",
          "2018-05-12T00:00:00.000000",
          "2018-05-13T00:00:00.000000",
          "2018-05-14T00:00:00.000000",
          "2018-05-15T00:00:00.000000",
          "2018-05-16T00:00:00.000000",
          "2018-05-17T00:00:00.000000",
          "2018-05-18T00:00:00.000000",
          "2018-05-19T00:00:00.000000",
          "2018-05-20T00:00:00.000000",
          "2018-05-21T00:00:00.000000",
          "2018-05-22T00:00:00.000000",
          "2018-05-23T00:00:00.000000",
          "2018-05-24T00:00:00.000000",
          "2018-05-25T00:00:00.000000",
          "2018-05-26T00:00:00.000000",
          "2018-05-27T00:00:00.000000",
          "2018-05-28T00:00:00.000000",
          "2018-05-29T00:00:00.000000",
          "2018-05-30T00:00:00.000000",
          "2018-05-31T00:00:00.000000",
          "2018-06-01T00:00:00.000000",
          "2018-06-02T00:00:00.000000",
          "2018-06-03T00:00:00.000000",
          "2018-06-04T00:00:00.000000",
          "2018-06-05T00:00:00.000000",
          "2018-06-06T00:00:00.000000",
          "2018-06-07T00:00:00.000000",
          "2018-06-08T00:00:00.000000",
          "2018-06-09T00:00:00.000000",
          "2018-06-10T00:00:00.000000",
          "2018-06-11T00:00:00.000000",
          "2018-06-12T00:00:00.000000",
          "2018-06-13T00:00:00.000000",
          "2018-06-14T00:00:00.000000",
          "2018-06-15T00:00:00.000000",
          "2018-06-16T00:00:00.000000",
          "2018-06-17T00:00:00.000000",
          "2018-06-18T00:00:00.000000",
          "2018-06-19T00:00:00.000000",
          "2018-06-20T00:00:00.000000",
          "2018-06-21T00:00:00.000000",
          "2018-06-22T00:00:00.000000",
          "2018-06-23T00:00:00.000000",
          "2018-06-24T00:00:00.000000",
          "2018-06-25T00:00:00.000000",
          "2018-06-26T00:00:00.000000",
          "2018-06-27T00:00:00.000000",
          "2018-06-28T00:00:00.000000",
          "2018-06-29T00:00:00.000000",
          "2018-06-30T00:00:00.000000",
          "2018-07-01T00:00:00.000000",
          "2018-07-02T00:00:00.000000",
          "2018-07-03T00:00:00.000000",
          "2018-07-04T00:00:00.000000",
          "2018-07-05T00:00:00.000000",
          "2018-07-06T00:00:00.000000",
          "2018-07-07T00:00:00.000000",
          "2018-07-08T00:00:00.000000",
          "2018-07-09T00:00:00.000000",
          "2018-07-10T00:00:00.000000",
          "2018-07-11T00:00:00.000000",
          "2018-07-12T00:00:00.000000",
          "2018-07-13T00:00:00.000000",
          "2018-07-14T00:00:00.000000",
          "2018-07-15T00:00:00.000000",
          "2018-07-16T00:00:00.000000",
          "2018-07-17T00:00:00.000000",
          "2018-07-18T00:00:00.000000",
          "2018-07-19T00:00:00.000000",
          "2018-07-20T00:00:00.000000",
          "2018-07-21T00:00:00.000000",
          "2018-07-22T00:00:00.000000",
          "2018-07-23T00:00:00.000000",
          "2018-07-24T00:00:00.000000",
          "2018-07-25T00:00:00.000000",
          "2018-07-26T00:00:00.000000",
          "2018-07-27T00:00:00.000000",
          "2018-07-28T00:00:00.000000",
          "2018-07-29T00:00:00.000000",
          "2018-07-30T00:00:00.000000",
          "2018-07-31T00:00:00.000000",
          "2018-08-01T00:00:00.000000",
          "2018-08-02T00:00:00.000000",
          "2018-08-03T00:00:00.000000",
          "2018-08-04T00:00:00.000000",
          "2018-08-05T00:00:00.000000",
          "2018-08-06T00:00:00.000000",
          "2018-08-07T00:00:00.000000",
          "2018-08-08T00:00:00.000000",
          "2018-08-09T00:00:00.000000",
          "2018-08-10T00:00:00.000000",
          "2018-08-11T00:00:00.000000",
          "2018-08-12T00:00:00.000000",
          "2018-08-13T00:00:00.000000",
          "2018-08-14T00:00:00.000000",
          "2018-08-15T00:00:00.000000",
          "2018-08-16T00:00:00.000000",
          "2018-08-17T00:00:00.000000",
          "2018-08-18T00:00:00.000000",
          "2018-08-19T00:00:00.000000",
          "2018-08-20T00:00:00.000000",
          "2018-08-21T00:00:00.000000",
          "2018-08-22T00:00:00.000000",
          "2018-08-23T00:00:00.000000",
          "2018-08-24T00:00:00.000000",
          "2018-08-25T00:00:00.000000",
          "2018-08-26T00:00:00.000000",
          "2018-08-27T00:00:00.000000",
          "2018-08-28T00:00:00.000000",
          "2018-08-29T00:00:00.000000",
          "2018-08-30T00:00:00.000000",
          "2018-08-31T00:00:00.000000",
          "2018-09-01T00:00:00.000000",
          "2018-09-02T00:00:00.000000",
          "2018-09-03T00:00:00.000000",
          "2018-09-04T00:00:00.000000",
          "2018-09-05T00:00:00.000000",
          "2018-09-06T00:00:00.000000",
          "2018-09-07T00:00:00.000000",
          "2018-09-08T00:00:00.000000",
          "2018-09-09T00:00:00.000000",
          "2018-09-10T00:00:00.000000",
          "2018-09-11T00:00:00.000000",
          "2018-09-12T00:00:00.000000",
          "2018-09-13T00:00:00.000000",
          "2018-09-14T00:00:00.000000",
          "2018-09-15T00:00:00.000000",
          "2018-09-16T00:00:00.000000",
          "2018-09-17T00:00:00.000000",
          "2018-09-18T00:00:00.000000",
          "2018-09-19T00:00:00.000000",
          "2018-09-20T00:00:00.000000",
          "2018-09-21T00:00:00.000000",
          "2018-09-22T00:00:00.000000",
          "2018-09-23T00:00:00.000000",
          "2018-09-24T00:00:00.000000",
          "2018-09-25T00:00:00.000000",
          "2018-09-26T00:00:00.000000",
          "2018-09-27T00:00:00.000000",
          "2018-09-28T00:00:00.000000",
          "2018-09-29T00:00:00.000000",
          "2018-09-30T00:00:00.000000",
          "2018-10-01T00:00:00.000000",
          "2018-10-02T00:00:00.000000",
          "2018-10-03T00:00:00.000000",
          "2018-10-04T00:00:00.000000",
          "2018-10-05T00:00:00.000000",
          "2018-10-06T00:00:00.000000",
          "2018-10-07T00:00:00.000000",
          "2018-10-08T00:00:00.000000",
          "2018-10-09T00:00:00.000000",
          "2018-10-10T00:00:00.000000",
          "2018-10-11T00:00:00.000000",
          "2018-10-12T00:00:00.000000",
          "2018-10-13T00:00:00.000000",
          "2018-10-14T00:00:00.000000",
          "2018-10-15T00:00:00.000000",
          "2018-10-16T00:00:00.000000",
          "2018-10-17T00:00:00.000000",
          "2018-10-18T00:00:00.000000",
          "2018-10-19T00:00:00.000000",
          "2018-10-20T00:00:00.000000",
          "2018-10-21T00:00:00.000000",
          "2018-10-22T00:00:00.000000",
          "2018-10-23T00:00:00.000000",
          "2018-10-24T00:00:00.000000",
          "2018-10-25T00:00:00.000000",
          "2018-10-26T00:00:00.000000",
          "2018-10-27T00:00:00.000000",
          "2018-10-28T00:00:00.000000",
          "2018-10-29T00:00:00.000000",
          "2018-10-30T00:00:00.000000",
          "2018-10-31T00:00:00.000000",
          "2018-11-01T00:00:00.000000",
          "2018-11-02T00:00:00.000000",
          "2018-11-03T00:00:00.000000",
          "2018-11-04T00:00:00.000000",
          "2018-11-05T00:00:00.000000",
          "2018-11-06T00:00:00.000000",
          "2018-11-07T00:00:00.000000",
          "2018-11-08T00:00:00.000000",
          "2018-11-09T00:00:00.000000",
          "2018-11-10T00:00:00.000000",
          "2018-11-11T00:00:00.000000",
          "2018-11-12T00:00:00.000000",
          "2018-11-13T00:00:00.000000",
          "2018-11-14T00:00:00.000000",
          "2018-11-15T00:00:00.000000",
          "2018-11-16T00:00:00.000000",
          "2018-11-17T00:00:00.000000",
          "2018-11-18T00:00:00.000000",
          "2018-11-19T00:00:00.000000",
          "2018-11-20T00:00:00.000000",
          "2018-11-21T00:00:00.000000",
          "2018-11-22T00:00:00.000000",
          "2018-11-23T00:00:00.000000",
          "2018-11-24T00:00:00.000000",
          "2018-11-25T00:00:00.000000",
          "2018-11-26T00:00:00.000000",
          "2018-11-27T00:00:00.000000",
          "2018-11-28T00:00:00.000000",
          "2018-11-29T00:00:00.000000",
          "2018-11-30T00:00:00.000000",
          "2018-12-01T00:00:00.000000",
          "2018-12-02T00:00:00.000000",
          "2018-12-03T00:00:00.000000",
          "2018-12-04T00:00:00.000000",
          "2018-12-05T00:00:00.000000",
          "2018-12-06T00:00:00.000000",
          "2018-12-07T00:00:00.000000",
          "2018-12-08T00:00:00.000000",
          "2018-12-09T00:00:00.000000",
          "2018-12-10T00:00:00.000000",
          "2018-12-11T00:00:00.000000",
          "2018-12-12T00:00:00.000000",
          "2018-12-13T00:00:00.000000",
          "2018-12-14T00:00:00.000000",
          "2018-12-15T00:00:00.000000",
          "2018-12-16T00:00:00.000000",
          "2018-12-17T00:00:00.000000",
          "2018-12-18T00:00:00.000000",
          "2018-12-19T00:00:00.000000",
          "2018-12-20T00:00:00.000000",
          "2018-12-21T00:00:00.000000",
          "2018-12-22T00:00:00.000000",
          "2018-12-23T00:00:00.000000",
          "2018-12-24T00:00:00.000000",
          "2018-12-25T00:00:00.000000",
          "2018-12-26T00:00:00.000000",
          "2018-12-27T00:00:00.000000",
          "2018-12-28T00:00:00.000000",
          "2018-12-29T00:00:00.000000",
          "2018-12-30T00:00:00.000000",
          "2018-12-31T00:00:00.000000",
          "2019-01-01T00:00:00.000000",
          "2019-01-02T00:00:00.000000",
          "2019-01-03T00:00:00.000000",
          "2019-01-04T00:00:00.000000",
          "2019-01-05T00:00:00.000000",
          "2019-01-06T00:00:00.000000",
          "2019-01-07T00:00:00.000000",
          "2019-01-08T00:00:00.000000",
          "2019-01-09T00:00:00.000000",
          "2019-01-10T00:00:00.000000",
          "2019-01-11T00:00:00.000000",
          "2019-01-12T00:00:00.000000",
          "2019-01-13T00:00:00.000000",
          "2019-01-14T00:00:00.000000",
          "2019-01-15T00:00:00.000000",
          "2019-01-16T00:00:00.000000",
          "2019-01-17T00:00:00.000000",
          "2019-01-18T00:00:00.000000",
          "2019-01-19T00:00:00.000000",
          "2019-01-20T00:00:00.000000",
          "2019-01-21T00:00:00.000000",
          "2019-01-22T00:00:00.000000",
          "2019-01-23T00:00:00.000000",
          "2019-01-24T00:00:00.000000",
          "2019-01-25T00:00:00.000000",
          "2019-01-26T00:00:00.000000",
          "2019-01-27T00:00:00.000000",
          "2019-01-28T00:00:00.000000",
          "2019-01-29T00:00:00.000000",
          "2019-01-30T00:00:00.000000",
          "2019-01-31T00:00:00.000000",
          "2019-02-01T00:00:00.000000",
          "2019-02-02T00:00:00.000000",
          "2019-02-03T00:00:00.000000",
          "2019-02-04T00:00:00.000000",
          "2019-02-05T00:00:00.000000",
          "2019-02-06T00:00:00.000000",
          "2019-02-07T00:00:00.000000",
          "2019-02-08T00:00:00.000000",
          "2019-02-09T00:00:00.000000",
          "2019-02-10T00:00:00.000000",
          "2019-02-11T00:00:00.000000",
          "2019-02-12T00:00:00.000000",
          "2019-02-13T00:00:00.000000",
          "2019-02-14T00:00:00.000000",
          "2019-02-15T00:00:00.000000",
          "2019-02-16T00:00:00.000000",
          "2019-02-17T00:00:00.000000",
          "2019-02-18T00:00:00.000000",
          "2019-02-19T00:00:00.000000",
          "2019-02-20T00:00:00.000000",
          "2019-02-21T00:00:00.000000",
          "2019-02-22T00:00:00.000000",
          "2019-02-23T00:00:00.000000",
          "2019-02-24T00:00:00.000000",
          "2019-02-25T00:00:00.000000",
          "2019-02-26T00:00:00.000000",
          "2019-02-27T00:00:00.000000",
          "2019-02-28T00:00:00.000000",
          "2019-03-01T00:00:00.000000",
          "2019-03-02T00:00:00.000000",
          "2019-03-03T00:00:00.000000",
          "2019-03-04T00:00:00.000000",
          "2019-03-05T00:00:00.000000",
          "2019-03-06T00:00:00.000000",
          "2019-03-07T00:00:00.000000",
          "2019-03-08T00:00:00.000000",
          "2019-03-09T00:00:00.000000",
          "2019-03-10T00:00:00.000000",
          "2019-03-11T00:00:00.000000",
          "2019-03-12T00:00:00.000000",
          "2019-03-13T00:00:00.000000",
          "2019-03-14T00:00:00.000000",
          "2019-03-15T00:00:00.000000",
          "2019-03-16T00:00:00.000000",
          "2019-03-17T00:00:00.000000",
          "2019-03-18T00:00:00.000000",
          "2019-03-19T00:00:00.000000",
          "2019-03-20T00:00:00.000000",
          "2019-03-21T00:00:00.000000",
          "2019-03-22T00:00:00.000000",
          "2019-03-23T00:00:00.000000",
          "2019-03-24T00:00:00.000000",
          "2019-03-25T00:00:00.000000",
          "2019-03-26T00:00:00.000000",
          "2019-03-27T00:00:00.000000",
          "2019-03-28T00:00:00.000000",
          "2019-03-29T00:00:00.000000",
          "2019-03-30T00:00:00.000000",
          "2019-03-31T00:00:00.000000",
          "2019-04-01T00:00:00.000000",
          "2019-04-02T00:00:00.000000",
          "2019-04-03T00:00:00.000000",
          "2019-04-04T00:00:00.000000",
          "2019-04-05T00:00:00.000000",
          "2019-04-06T00:00:00.000000",
          "2019-04-07T00:00:00.000000",
          "2019-04-08T00:00:00.000000",
          "2019-04-09T00:00:00.000000",
          "2019-04-10T00:00:00.000000",
          "2019-04-11T00:00:00.000000",
          "2019-04-12T00:00:00.000000",
          "2019-04-13T00:00:00.000000",
          "2019-04-14T00:00:00.000000",
          "2019-04-15T00:00:00.000000",
          "2019-04-16T00:00:00.000000",
          "2019-04-17T00:00:00.000000",
          "2019-04-18T00:00:00.000000",
          "2019-04-19T00:00:00.000000",
          "2019-04-20T00:00:00.000000",
          "2019-04-21T00:00:00.000000",
          "2019-04-22T00:00:00.000000",
          "2019-04-23T00:00:00.000000",
          "2019-04-24T00:00:00.000000",
          "2019-04-25T00:00:00.000000",
          "2019-04-26T00:00:00.000000",
          "2019-04-27T00:00:00.000000",
          "2019-04-28T00:00:00.000000",
          "2019-04-29T00:00:00.000000",
          "2019-04-30T00:00:00.000000",
          "2019-05-01T00:00:00.000000",
          "2019-05-02T00:00:00.000000",
          "2019-05-03T00:00:00.000000",
          "2019-05-04T00:00:00.000000",
          "2019-05-05T00:00:00.000000",
          "2019-05-06T00:00:00.000000",
          "2019-05-07T00:00:00.000000",
          "2019-05-08T00:00:00.000000",
          "2019-05-09T00:00:00.000000",
          "2019-05-10T00:00:00.000000",
          "2019-05-11T00:00:00.000000",
          "2019-05-12T00:00:00.000000",
          "2019-05-13T00:00:00.000000",
          "2019-05-14T00:00:00.000000",
          "2019-05-15T00:00:00.000000",
          "2019-05-16T00:00:00.000000",
          "2019-05-17T00:00:00.000000",
          "2019-05-18T00:00:00.000000",
          "2019-05-19T00:00:00.000000",
          "2019-05-20T00:00:00.000000",
          "2019-05-21T00:00:00.000000",
          "2019-05-22T00:00:00.000000",
          "2019-05-23T00:00:00.000000",
          "2019-05-24T00:00:00.000000",
          "2019-05-25T00:00:00.000000",
          "2019-05-26T00:00:00.000000",
          "2019-05-27T00:00:00.000000",
          "2019-05-28T00:00:00.000000",
          "2019-05-29T00:00:00.000000",
          "2019-05-30T00:00:00.000000",
          "2019-05-31T00:00:00.000000",
          "2019-06-01T00:00:00.000000",
          "2019-06-02T00:00:00.000000",
          "2019-06-03T00:00:00.000000",
          "2019-06-04T00:00:00.000000",
          "2019-06-05T00:00:00.000000",
          "2019-06-06T00:00:00.000000",
          "2019-06-07T00:00:00.000000",
          "2019-06-08T00:00:00.000000",
          "2019-06-09T00:00:00.000000",
          "2019-06-10T00:00:00.000000",
          "2019-06-11T00:00:00.000000",
          "2019-06-12T00:00:00.000000",
          "2019-06-13T00:00:00.000000",
          "2019-06-14T00:00:00.000000",
          "2019-06-15T00:00:00.000000",
          "2019-06-16T00:00:00.000000",
          "2019-06-17T00:00:00.000000",
          "2019-06-18T00:00:00.000000",
          "2019-06-19T00:00:00.000000",
          "2019-06-20T00:00:00.000000",
          "2019-06-21T00:00:00.000000",
          "2019-06-22T00:00:00.000000",
          "2019-06-23T00:00:00.000000",
          "2019-06-24T00:00:00.000000",
          "2019-06-25T00:00:00.000000",
          "2019-06-26T00:00:00.000000",
          "2019-06-27T00:00:00.000000",
          "2019-06-28T00:00:00.000000",
          "2019-06-29T00:00:00.000000",
          "2019-06-30T00:00:00.000000",
          "2019-07-01T00:00:00.000000",
          "2019-07-02T00:00:00.000000",
          "2019-07-03T00:00:00.000000",
          "2019-07-04T00:00:00.000000",
          "2019-07-05T00:00:00.000000",
          "2019-07-06T00:00:00.000000",
          "2019-07-07T00:00:00.000000",
          "2019-07-08T00:00:00.000000",
          "2019-07-09T00:00:00.000000",
          "2019-07-10T00:00:00.000000",
          "2019-07-11T00:00:00.000000",
          "2019-07-12T00:00:00.000000",
          "2019-07-13T00:00:00.000000",
          "2019-07-14T00:00:00.000000",
          "2019-07-15T00:00:00.000000",
          "2019-07-16T00:00:00.000000",
          "2019-07-17T00:00:00.000000",
          "2019-07-18T00:00:00.000000",
          "2019-07-19T00:00:00.000000",
          "2019-07-20T00:00:00.000000",
          "2019-07-21T00:00:00.000000",
          "2019-07-22T00:00:00.000000",
          "2019-07-23T00:00:00.000000",
          "2019-07-24T00:00:00.000000",
          "2019-07-25T00:00:00.000000",
          "2019-07-26T00:00:00.000000",
          "2019-07-27T00:00:00.000000",
          "2019-07-28T00:00:00.000000",
          "2019-07-29T00:00:00.000000",
          "2019-07-30T00:00:00.000000",
          "2019-07-31T00:00:00.000000",
          "2019-08-01T00:00:00.000000",
          "2019-08-02T00:00:00.000000",
          "2019-08-03T00:00:00.000000",
          "2019-08-04T00:00:00.000000",
          "2019-08-05T00:00:00.000000",
          "2019-08-06T00:00:00.000000",
          "2019-08-07T00:00:00.000000",
          "2019-08-08T00:00:00.000000",
          "2019-08-09T00:00:00.000000",
          "2019-08-10T00:00:00.000000",
          "2019-08-11T00:00:00.000000",
          "2019-08-12T00:00:00.000000",
          "2019-08-13T00:00:00.000000",
          "2019-08-14T00:00:00.000000",
          "2019-08-15T00:00:00.000000",
          "2019-08-16T00:00:00.000000",
          "2019-08-17T00:00:00.000000",
          "2019-08-18T00:00:00.000000",
          "2019-08-19T00:00:00.000000",
          "2019-08-20T00:00:00.000000",
          "2019-08-21T00:00:00.000000",
          "2019-08-22T00:00:00.000000",
          "2019-08-23T00:00:00.000000",
          "2019-08-24T00:00:00.000000",
          "2019-08-25T00:00:00.000000",
          "2019-08-26T00:00:00.000000",
          "2019-08-27T00:00:00.000000",
          "2019-08-28T00:00:00.000000",
          "2019-08-29T00:00:00.000000",
          "2019-08-30T00:00:00.000000",
          "2019-08-31T00:00:00.000000",
          "2019-09-01T00:00:00.000000",
          "2019-09-02T00:00:00.000000",
          "2019-09-03T00:00:00.000000",
          "2019-09-04T00:00:00.000000",
          "2019-09-05T00:00:00.000000",
          "2019-09-06T00:00:00.000000",
          "2019-09-07T00:00:00.000000",
          "2019-09-08T00:00:00.000000",
          "2019-09-09T00:00:00.000000",
          "2019-09-10T00:00:00.000000",
          "2019-09-11T00:00:00.000000",
          "2019-09-12T00:00:00.000000",
          "2019-09-13T00:00:00.000000",
          "2019-09-14T00:00:00.000000",
          "2019-09-15T00:00:00.000000",
          "2019-09-16T00:00:00.000000",
          "2019-09-17T00:00:00.000000",
          "2019-09-18T00:00:00.000000",
          "2019-09-19T00:00:00.000000",
          "2019-09-20T00:00:00.000000",
          "2019-09-21T00:00:00.000000",
          "2019-09-22T00:00:00.000000",
          "2019-09-23T00:00:00.000000",
          "2019-09-24T00:00:00.000000",
          "2019-09-25T00:00:00.000000",
          "2019-09-26T00:00:00.000000",
          "2019-09-27T00:00:00.000000",
          "2019-09-28T00:00:00.000000",
          "2019-09-29T00:00:00.000000",
          "2019-09-30T00:00:00.000000",
          "2019-10-01T00:00:00.000000",
          "2019-10-02T00:00:00.000000",
          "2019-10-03T00:00:00.000000",
          "2019-10-04T00:00:00.000000",
          "2019-10-05T00:00:00.000000",
          "2019-10-06T00:00:00.000000",
          "2019-10-07T00:00:00.000000",
          "2019-10-08T00:00:00.000000",
          "2019-10-09T00:00:00.000000",
          "2019-10-10T00:00:00.000000",
          "2019-10-11T00:00:00.000000",
          "2019-10-12T00:00:00.000000",
          "2019-10-13T00:00:00.000000",
          "2019-10-14T00:00:00.000000",
          "2019-10-15T00:00:00.000000",
          "2019-10-16T00:00:00.000000",
          "2019-10-17T00:00:00.000000",
          "2019-10-18T00:00:00.000000",
          "2019-10-19T00:00:00.000000",
          "2019-10-20T00:00:00.000000",
          "2019-10-21T00:00:00.000000",
          "2019-10-22T00:00:00.000000",
          "2019-10-23T00:00:00.000000",
          "2019-10-24T00:00:00.000000",
          "2019-10-25T00:00:00.000000",
          "2019-10-26T00:00:00.000000",
          "2019-10-27T00:00:00.000000",
          "2019-10-28T00:00:00.000000",
          "2019-10-29T00:00:00.000000",
          "2019-10-30T00:00:00.000000",
          "2019-10-31T00:00:00.000000",
          "2019-11-01T00:00:00.000000",
          "2019-11-02T00:00:00.000000",
          "2019-11-03T00:00:00.000000",
          "2019-11-04T00:00:00.000000",
          "2019-11-05T00:00:00.000000",
          "2019-11-06T00:00:00.000000",
          "2019-11-07T00:00:00.000000",
          "2019-11-08T00:00:00.000000",
          "2019-11-09T00:00:00.000000",
          "2019-11-10T00:00:00.000000",
          "2019-11-11T00:00:00.000000",
          "2019-11-12T00:00:00.000000",
          "2019-11-13T00:00:00.000000",
          "2019-11-14T00:00:00.000000",
          "2019-11-15T00:00:00.000000",
          "2019-11-16T00:00:00.000000",
          "2019-11-17T00:00:00.000000",
          "2019-11-18T00:00:00.000000",
          "2019-11-19T00:00:00.000000",
          "2019-11-20T00:00:00.000000",
          "2019-11-21T00:00:00.000000",
          "2019-11-22T00:00:00.000000",
          "2019-11-23T00:00:00.000000",
          "2019-11-24T00:00:00.000000",
          "2019-11-25T00:00:00.000000",
          "2019-11-26T00:00:00.000000",
          "2019-11-27T00:00:00.000000",
          "2019-11-28T00:00:00.000000",
          "2019-11-29T00:00:00.000000",
          "2019-11-30T00:00:00.000000",
          "2019-12-01T00:00:00.000000",
          "2019-12-02T00:00:00.000000",
          "2019-12-03T00:00:00.000000",
          "2019-12-04T00:00:00.000000",
          "2019-12-05T00:00:00.000000",
          "2019-12-06T00:00:00.000000",
          "2019-12-07T00:00:00.000000",
          "2019-12-08T00:00:00.000000",
          "2019-12-09T00:00:00.000000",
          "2019-12-10T00:00:00.000000",
          "2019-12-11T00:00:00.000000",
          "2019-12-12T00:00:00.000000",
          "2019-12-13T00:00:00.000000",
          "2019-12-14T00:00:00.000000",
          "2019-12-15T00:00:00.000000",
          "2019-12-16T00:00:00.000000",
          "2019-12-17T00:00:00.000000",
          "2019-12-18T00:00:00.000000",
          "2019-12-19T00:00:00.000000",
          "2019-12-20T00:00:00.000000",
          "2019-12-21T00:00:00.000000",
          "2019-12-22T00:00:00.000000",
          "2019-12-23T00:00:00.000000",
          "2019-12-24T00:00:00.000000",
          "2019-12-25T00:00:00.000000",
          "2019-12-26T00:00:00.000000",
          "2019-12-27T00:00:00.000000",
          "2019-12-28T00:00:00.000000",
          "2019-12-29T00:00:00.000000",
          "2019-12-30T00:00:00.000000",
          "2019-12-31T00:00:00.000000",
          "2020-01-01T00:00:00.000000",
          "2020-01-02T00:00:00.000000",
          "2020-01-03T00:00:00.000000",
          "2020-01-04T00:00:00.000000",
          "2020-01-05T00:00:00.000000",
          "2020-01-06T00:00:00.000000",
          "2020-01-07T00:00:00.000000",
          "2020-01-08T00:00:00.000000",
          "2020-01-09T00:00:00.000000",
          "2020-01-10T00:00:00.000000",
          "2020-01-11T00:00:00.000000",
          "2020-01-12T00:00:00.000000",
          "2020-01-13T00:00:00.000000",
          "2020-01-14T00:00:00.000000",
          "2020-01-15T00:00:00.000000",
          "2020-01-16T00:00:00.000000",
          "2020-01-17T00:00:00.000000",
          "2020-01-18T00:00:00.000000",
          "2020-01-19T00:00:00.000000",
          "2020-01-20T00:00:00.000000",
          "2020-01-21T00:00:00.000000",
          "2020-01-22T00:00:00.000000",
          "2020-01-23T00:00:00.000000",
          "2020-01-24T00:00:00.000000",
          "2020-01-25T00:00:00.000000",
          "2020-01-26T00:00:00.000000",
          "2020-01-27T00:00:00.000000",
          "2020-01-28T00:00:00.000000",
          "2020-01-29T00:00:00.000000",
          "2020-01-30T00:00:00.000000",
          "2020-01-31T00:00:00.000000",
          "2020-02-01T00:00:00.000000",
          "2020-02-02T00:00:00.000000",
          "2020-02-03T00:00:00.000000",
          "2020-02-04T00:00:00.000000",
          "2020-02-05T00:00:00.000000",
          "2020-02-06T00:00:00.000000",
          "2020-02-07T00:00:00.000000",
          "2020-02-08T00:00:00.000000",
          "2020-02-09T00:00:00.000000",
          "2020-02-10T00:00:00.000000",
          "2020-02-11T00:00:00.000000",
          "2020-02-12T00:00:00.000000",
          "2020-02-13T00:00:00.000000",
          "2020-02-14T00:00:00.000000",
          "2020-02-15T00:00:00.000000",
          "2020-02-16T00:00:00.000000",
          "2020-02-17T00:00:00.000000",
          "2020-02-18T00:00:00.000000",
          "2020-02-19T00:00:00.000000",
          "2020-02-20T00:00:00.000000",
          "2020-02-21T00:00:00.000000",
          "2020-02-22T00:00:00.000000",
          "2020-02-23T00:00:00.000000",
          "2020-02-24T00:00:00.000000",
          "2020-02-25T00:00:00.000000",
          "2020-02-26T00:00:00.000000",
          "2020-02-27T00:00:00.000000",
          "2020-02-28T00:00:00.000000",
          "2020-02-29T00:00:00.000000",
          "2020-03-01T00:00:00.000000",
          "2020-03-02T00:00:00.000000",
          "2020-03-03T00:00:00.000000",
          "2020-03-04T00:00:00.000000",
          "2020-03-05T00:00:00.000000",
          "2020-03-06T00:00:00.000000",
          "2020-03-07T00:00:00.000000",
          "2020-03-08T00:00:00.000000",
          "2020-03-09T00:00:00.000000",
          "2020-03-10T00:00:00.000000",
          "2020-03-11T00:00:00.000000",
          "2020-03-12T00:00:00.000000",
          "2020-03-13T00:00:00.000000",
          "2020-03-14T00:00:00.000000",
          "2020-03-15T00:00:00.000000",
          "2020-03-16T00:00:00.000000",
          "2020-03-17T00:00:00.000000",
          "2020-03-18T00:00:00.000000",
          "2020-03-19T00:00:00.000000",
          "2020-03-20T00:00:00.000000",
          "2020-03-21T00:00:00.000000",
          "2020-03-22T00:00:00.000000",
          "2020-03-23T00:00:00.000000",
          "2020-03-24T00:00:00.000000",
          "2020-03-25T00:00:00.000000",
          "2020-03-26T00:00:00.000000",
          "2020-03-27T00:00:00.000000",
          "2020-03-28T00:00:00.000000",
          "2020-03-29T00:00:00.000000",
          "2020-03-30T00:00:00.000000",
          "2020-03-31T00:00:00.000000",
          "2020-04-01T00:00:00.000000",
          "2020-04-02T00:00:00.000000",
          "2020-04-03T00:00:00.000000",
          "2020-04-04T00:00:00.000000",
          "2020-04-05T00:00:00.000000",
          "2020-04-06T00:00:00.000000",
          "2020-04-07T00:00:00.000000",
          "2020-04-08T00:00:00.000000",
          "2020-04-09T00:00:00.000000",
          "2020-04-10T00:00:00.000000",
          "2020-04-11T00:00:00.000000",
          "2020-04-12T00:00:00.000000",
          "2020-04-13T00:00:00.000000",
          "2020-04-14T00:00:00.000000",
          "2020-04-15T00:00:00.000000",
          "2020-04-16T00:00:00.000000",
          "2020-04-17T00:00:00.000000",
          "2020-04-18T00:00:00.000000",
          "2020-04-19T00:00:00.000000",
          "2020-04-20T00:00:00.000000",
          "2020-04-21T00:00:00.000000",
          "2020-04-22T00:00:00.000000",
          "2020-04-23T00:00:00.000000",
          "2020-04-24T00:00:00.000000",
          "2020-04-25T00:00:00.000000",
          "2020-04-26T00:00:00.000000",
          "2020-04-27T00:00:00.000000",
          "2020-04-28T00:00:00.000000",
          "2020-04-29T00:00:00.000000",
          "2020-04-30T00:00:00.000000",
          "2020-05-01T00:00:00.000000",
          "2020-05-02T00:00:00.000000",
          "2020-05-03T00:00:00.000000",
          "2020-05-04T00:00:00.000000",
          "2020-05-05T00:00:00.000000",
          "2020-05-06T00:00:00.000000",
          "2020-05-07T00:00:00.000000",
          "2020-05-08T00:00:00.000000",
          "2020-05-09T00:00:00.000000",
          "2020-05-10T00:00:00.000000",
          "2020-05-11T00:00:00.000000",
          "2020-05-12T00:00:00.000000",
          "2020-05-13T00:00:00.000000",
          "2020-05-14T00:00:00.000000",
          "2020-05-15T00:00:00.000000",
          "2020-05-16T00:00:00.000000",
          "2020-05-17T00:00:00.000000",
          "2020-05-18T00:00:00.000000",
          "2020-05-19T00:00:00.000000",
          "2020-05-20T00:00:00.000000",
          "2020-05-21T00:00:00.000000",
          "2020-05-22T00:00:00.000000",
          "2020-05-23T00:00:00.000000",
          "2020-05-24T00:00:00.000000",
          "2020-05-25T00:00:00.000000",
          "2020-05-26T00:00:00.000000",
          "2020-05-27T00:00:00.000000",
          "2020-05-28T00:00:00.000000",
          "2020-05-29T00:00:00.000000",
          "2020-05-30T00:00:00.000000",
          "2020-05-31T00:00:00.000000",
          "2020-06-01T00:00:00.000000",
          "2020-06-02T00:00:00.000000",
          "2020-06-03T00:00:00.000000",
          "2020-06-04T00:00:00.000000",
          "2020-06-05T00:00:00.000000",
          "2020-06-06T00:00:00.000000",
          "2020-06-07T00:00:00.000000",
          "2020-06-08T00:00:00.000000",
          "2020-06-09T00:00:00.000000",
          "2020-06-10T00:00:00.000000",
          "2020-06-11T00:00:00.000000",
          "2020-06-12T00:00:00.000000",
          "2020-06-13T00:00:00.000000",
          "2020-06-14T00:00:00.000000",
          "2020-06-15T00:00:00.000000",
          "2020-06-16T00:00:00.000000",
          "2020-06-17T00:00:00.000000",
          "2020-06-18T00:00:00.000000",
          "2020-06-19T00:00:00.000000",
          "2020-06-20T00:00:00.000000",
          "2020-06-21T00:00:00.000000",
          "2020-06-22T00:00:00.000000",
          "2020-06-23T00:00:00.000000",
          "2020-06-24T00:00:00.000000",
          "2020-06-25T00:00:00.000000",
          "2020-06-26T00:00:00.000000",
          "2020-06-27T00:00:00.000000",
          "2020-06-28T00:00:00.000000",
          "2020-06-29T00:00:00.000000",
          "2020-06-30T00:00:00.000000",
          "2020-07-01T00:00:00.000000",
          "2020-07-02T00:00:00.000000",
          "2020-07-03T00:00:00.000000",
          "2020-07-04T00:00:00.000000",
          "2020-07-05T00:00:00.000000",
          "2020-07-06T00:00:00.000000",
          "2020-07-07T00:00:00.000000",
          "2020-07-08T00:00:00.000000",
          "2020-07-09T00:00:00.000000",
          "2020-07-10T00:00:00.000000",
          "2020-07-11T00:00:00.000000",
          "2020-07-12T00:00:00.000000",
          "2020-07-13T00:00:00.000000",
          "2020-07-14T00:00:00.000000",
          "2020-07-15T00:00:00.000000",
          "2020-07-16T00:00:00.000000",
          "2020-07-17T00:00:00.000000",
          "2020-07-18T00:00:00.000000",
          "2020-07-19T00:00:00.000000",
          "2020-07-20T00:00:00.000000",
          "2020-07-21T00:00:00.000000",
          "2020-07-22T00:00:00.000000",
          "2020-07-23T00:00:00.000000",
          "2020-07-24T00:00:00.000000",
          "2020-07-25T00:00:00.000000",
          "2020-07-26T00:00:00.000000",
          "2020-07-27T00:00:00.000000",
          "2020-07-28T00:00:00.000000",
          "2020-07-29T00:00:00.000000",
          "2020-07-30T00:00:00.000000",
          "2020-07-31T00:00:00.000000",
          "2020-08-01T00:00:00.000000",
          "2020-08-02T00:00:00.000000",
          "2020-08-03T00:00:00.000000",
          "2020-08-04T00:00:00.000000",
          "2020-08-05T00:00:00.000000",
          "2020-08-06T00:00:00.000000",
          "2020-08-07T00:00:00.000000",
          "2020-08-08T00:00:00.000000",
          "2020-08-09T00:00:00.000000",
          "2020-08-10T00:00:00.000000",
          "2020-08-11T00:00:00.000000",
          "2020-08-12T00:00:00.000000",
          "2020-08-13T00:00:00.000000",
          "2020-08-14T00:00:00.000000",
          "2020-08-15T00:00:00.000000",
          "2020-08-16T00:00:00.000000",
          "2020-08-17T00:00:00.000000",
          "2020-08-18T00:00:00.000000",
          "2020-08-19T00:00:00.000000",
          "2020-08-20T00:00:00.000000",
          "2020-08-21T00:00:00.000000",
          "2020-08-22T00:00:00.000000",
          "2020-08-23T00:00:00.000000",
          "2020-08-24T00:00:00.000000",
          "2020-08-25T00:00:00.000000",
          "2020-08-26T00:00:00.000000",
          "2020-08-27T00:00:00.000000",
          "2020-08-28T00:00:00.000000",
          "2020-08-29T00:00:00.000000",
          "2020-08-30T00:00:00.000000",
          "2020-08-31T00:00:00.000000",
          "2020-09-01T00:00:00.000000",
          "2020-09-02T00:00:00.000000",
          "2020-09-03T00:00:00.000000",
          "2020-09-04T00:00:00.000000",
          "2020-09-05T00:00:00.000000",
          "2020-09-06T00:00:00.000000",
          "2020-09-07T00:00:00.000000",
          "2020-09-08T00:00:00.000000",
          "2020-09-09T00:00:00.000000",
          "2020-09-10T00:00:00.000000",
          "2020-09-11T00:00:00.000000",
          "2020-09-12T00:00:00.000000",
          "2020-09-13T00:00:00.000000",
          "2020-09-14T00:00:00.000000",
          "2020-09-15T00:00:00.000000",
          "2020-09-16T00:00:00.000000",
          "2020-09-17T00:00:00.000000",
          "2020-09-18T00:00:00.000000",
          "2020-09-19T00:00:00.000000",
          "2020-09-20T00:00:00.000000",
          "2020-09-21T00:00:00.000000",
          "2020-09-22T00:00:00.000000",
          "2020-09-23T00:00:00.000000",
          "2020-09-24T00:00:00.000000",
          "2020-09-25T00:00:00.000000",
          "2020-09-26T00:00:00.000000"
         ],
         "xaxis": "x",
         "yaxis": "y2"
        },
        {
         "marker": {
          "color": [
           "green",
           "red",
           "green",
           "green",
           "green",
           "red",
           "green",
           "green",
           "green",
           "green",
           "red",
           "red",
           "red",
           "red",
           "red",
           "green",
           "green",
           "red",
           "green",
           "green",
           "green",
           "red",
           "green",
           "green",
           "green",
           "red",
           "green",
           "green",
           "red",
           "red",
           "green",
           "red",
           "red",
           "red",
           "red",
           "red",
           "red",
           "red",
           "red",
           "green",
           "green",
           "green",
           "green",
           "green",
           "green",
           "green",
           "red",
           "red",
           "red",
           "red",
           "red",
           "red",
           "red",
           "green",
           "red",
           "red",
           "red",
           "green",
           "green",
           "red",
           "green",
           "green",
           "green",
           "green",
           "green",
           "green",
           "green",
           "red",
           "red",
           "red",
           "green",
           "green",
           "green",
           "red",
           "green",
           "green",
           "red",
           "red",
           "green",
           "green",
           "green",
           "red",
           "red",
           "red",
           "red",
           "green",
           "green",
           "green",
           "green",
           "red",
           "green",
           "red",
           "green",
           "red",
           "red",
           "green",
           "green",
           "red",
           "green",
           "red",
           "red",
           "green",
           "green",
           "red",
           "green",
           "red",
           "red",
           "red",
           "green",
           "red",
           "red",
           "green",
           "red",
           "green",
           "green",
           "red",
           "red",
           "green",
           "red",
           "green",
           "green",
           "red",
           "red",
           "red",
           "red",
           "green",
           "green",
           "red",
           "green",
           "red",
           "red",
           "green",
           "green",
           "red",
           "red",
           "green",
           "red",
           "red",
           "green",
           "red",
           "green",
           "green",
           "green",
           "green",
           "green",
           "green",
           "red",
           "green",
           "red",
           "red",
           "red",
           "green",
           "green",
           "green",
           "green",
           "green",
           "red",
           "red",
           "red",
           "red",
           "red",
           "red",
           "red",
           "red",
           "red",
           "green",
           "green",
           "green",
           "red",
           "green",
           "green",
           "green",
           "red",
           "green",
           "green",
           "red",
           "red",
           "green",
           "red",
           "green",
           "red",
           "green",
           "green",
           "green",
           "red",
           "red",
           "green",
           "green",
           "red",
           "red",
           "red",
           "red",
           "green",
           "green",
           "red",
           "green",
           "green",
           "green",
           "green",
           "green",
           "green",
           "green",
           "green",
           "green",
           "green",
           "green",
           "green",
           "red",
           "green",
           "green",
           "red",
           "red",
           "red",
           "red",
           "green",
           "red",
           "red",
           "red",
           "green",
           "green",
           "green",
           "red",
           "green",
           "red",
           "green",
           "green",
           "green",
           "green",
           "red",
           "green",
           "green",
           "red",
           "red",
           "red",
           "green",
           "green",
           "green",
           "red",
           "red",
           "green",
           "green",
           "red",
           "green",
           "green",
           "green",
           "green",
           "red",
           "red",
           "red",
           "red",
           "green",
           "green",
           "green",
           "green",
           "green",
           "red",
           "red",
           "red",
           "green",
           "green",
           "red",
           "red",
           "green",
           "red",
           "green",
           "red",
           "green",
           "red",
           "green",
           "red",
           "red",
           "red",
           "green",
           "green",
           "red",
           "green",
           "green",
           "green",
           "green",
           "green",
           "red",
           "green",
           "green",
           "red",
           "red",
           "green",
           "green",
           "red",
           "green",
           "green",
           "red",
           "red",
           "green",
           "green",
           "green",
           "red",
           "red",
           "red",
           "red",
           "green",
           "green",
           "red",
           "red",
           "green",
           "green",
           "red",
           "green",
           "green",
           "green",
           "green",
           "green",
           "red",
           "green",
           "red",
           "green",
           "green",
           "green",
           "red",
           "red",
           "green",
           "green",
           "red",
           "green",
           "green",
           "red",
           "green",
           "green",
           "green",
           "green",
           "green",
           "green",
           "red",
           "green",
           "red",
           "green",
           "red",
           "red",
           "green",
           "green",
           "green",
           "red",
           "red",
           "red",
           "green",
           "green",
           "red",
           "green",
           "red",
           "green",
           "red",
           "green",
           "red",
           "red",
           "red",
           "green",
           "red",
           "red",
           "red",
           "red",
           "red",
           "red",
           "red",
           "green",
           "red",
           "green",
           "green",
           "red",
           "green",
           "red",
           "green",
           "green",
           "green",
           "red",
           "green",
           "red",
           "red",
           "green",
           "green",
           "green",
           "red",
           "red",
           "green",
           "green",
           "red",
           "green",
           "green",
           "red",
           "green",
           "red",
           "green",
           "green",
           "green",
           "red",
           "red",
           "green",
           "green",
           "green",
           "green",
           "red",
           "green",
           "green",
           "red",
           "green",
           "red",
           "red",
           "green",
           "green",
           "red",
           "green",
           "red",
           "red",
           "red",
           "green",
           "red",
           "red",
           "green",
           "green",
           "red",
           "green",
           "red",
           "green",
           "green",
           "green",
           "green",
           "green",
           "red",
           "green",
           "red",
           "green",
           "green",
           "red",
           "green",
           "red",
           "green",
           "red",
           "red",
           "red",
           "red",
           "green",
           "red",
           "green",
           "green",
           "red",
           "green",
           "red",
           "red",
           "green",
           "green",
           "red",
           "red",
           "green",
           "red",
           "red",
           "green",
           "green",
           "green",
           "red",
           "red",
           "green",
           "green",
           "green",
           "green",
           "green",
           "red",
           "red",
           "green",
           "red",
           "green",
           "green",
           "red",
           "red",
           "red",
           "red",
           "green",
           "green",
           "green",
           "red",
           "green",
           "green",
           "green",
           "green",
           "green",
           "green",
           "green",
           "red",
           "green",
           "red",
           "green",
           "green",
           "red",
           "red",
           "green",
           "red",
           "green",
           "red",
           "red",
           "green",
           "red",
           "green",
           "red",
           "green",
           "green",
           "green",
           "red",
           "green",
           "red",
           "green",
           "green",
           "green",
           "green",
           "red",
           "red",
           "red",
           "green",
           "red",
           "green",
           "red",
           "green",
           "green",
           "green",
           "green",
           "red",
           "red",
           "green",
           "red",
           "red",
           "red",
           "red",
           "red",
           "red",
           "green",
           "red",
           "red",
           "green",
           "red",
           "green",
           "red",
           "red",
           "red",
           "red",
           "red",
           "green",
           "green",
           "green",
           "green",
           "red",
           "red",
           "green",
           "green",
           "red",
           "red",
           "green",
           "red",
           "green",
           "green",
           "green",
           "red",
           "red",
           "green",
           "red",
           "red",
           "red",
           "green",
           "green",
           "red",
           "green",
           "green",
           "red",
           "red",
           "green",
           "green",
           "red",
           "green",
           "red",
           "red",
           "red",
           "red",
           "green",
           "red",
           "green",
           "green",
           "green",
           "red",
           "green",
           "green",
           "green",
           "red",
           "green",
           "red",
           "green",
           "red",
           "green",
           "red",
           "green",
           "green",
           "green",
           "red",
           "green",
           "red",
           "red",
           "red",
           "red",
           "red",
           "green",
           "red",
           "green",
           "red",
           "red",
           "green",
           "red",
           "red",
           "green",
           "red",
           "red",
           "green",
           "green",
           "green",
           "red",
           "red",
           "red",
           "red",
           "red",
           "green",
           "green",
           "green",
           "red",
           "green",
           "green",
           "green",
           "red",
           "red",
           "red",
           "red",
           "green",
           "red",
           "green",
           "green",
           "red",
           "red",
           "green",
           "red",
           "red",
           "green",
           "green",
           "red",
           "green",
           "green",
           "red",
           "green",
           "red",
           "red",
           "green",
           "green",
           "red",
           "green",
           "red",
           "red",
           "red",
           "green",
           "red",
           "red",
           "green",
           "red",
           "red",
           "green",
           "green",
           "red",
           "green",
           "green",
           "red",
           "red",
           "green",
           "red",
           "green",
           "green",
           "red",
           "red",
           "green",
           "green",
           "green",
           "red",
           "red",
           "green",
           "red",
           "red",
           "green",
           "red",
           "red",
           "red",
           "green",
           "red",
           "green",
           "green",
           "green",
           "green",
           "red",
           "green",
           "red",
           "red",
           "green",
           "red",
           "red",
           "green",
           "red",
           "green",
           "red",
           "green",
           "red",
           "green",
           "green",
           "red",
           "green",
           "green",
           "red",
           "red",
           "red",
           "red",
           "red",
           "green",
           "red",
           "red",
           "red",
           "red",
           "red",
           "green",
           "green",
           "red",
           "green",
           "green",
           "red",
           "red",
           "green",
           "red",
           "green",
           "red",
           "red",
           "green",
           "green",
           "red",
           "green",
           "red",
           "red",
           "red",
           "red",
           "green",
           "red",
           "red",
           "red",
           "green",
           "green",
           "red",
           "red",
           "green",
           "green",
           "red",
           "green",
           "green",
           "red",
           "red",
           "green",
           "red",
           "red",
           "red",
           "red",
           "red",
           "red",
           "red",
           "red",
           "green",
           "red",
           "green",
           "red",
           "green",
           "red",
           "green",
           "red",
           "green",
           "red",
           "green",
           "red",
           "green",
           "green",
           "red",
           "green",
           "red",
           "green",
           "green",
           "green",
           "red",
           "red",
           "green",
           "green",
           "red",
           "green",
           "green",
           "red",
           "red",
           "red",
           "green",
           "red",
           "red",
           "red",
           "green",
           "red",
           "red",
           "green",
           "green",
           "red",
           "green",
           "green",
           "red",
           "green",
           "red",
           "green",
           "green",
           "red",
           "red",
           "red",
           "red",
           "red",
           "green",
           "red",
           "red",
           "green",
           "red",
           "green",
           "green",
           "green",
           "red",
           "green",
           "red",
           "green",
           "green",
           "green",
           "green",
           "green",
           "red",
           "green",
           "red",
           "red",
           "red",
           "green",
           "green",
           "red",
           "red",
           "red",
           "red",
           "green",
           "green",
           "green",
           "red",
           "red",
           "green",
           "green",
           "red",
           "green",
           "red",
           "red",
           "red",
           "green",
           "red",
           "green",
           "red",
           "green",
           "red",
           "green",
           "red",
           "red",
           "red",
           "green",
           "red",
           "green",
           "green",
           "red",
           "red",
           "red",
           "green",
           "green",
           "red",
           "red",
           "red",
           "green",
           "green",
           "green",
           "green",
           "green",
           "red",
           "green",
           "green",
           "green",
           "red",
           "green",
           "red",
           "green",
           "green",
           "green",
           "green",
           "green",
           "red",
           "green",
           "green",
           "green",
           "green",
           "red",
           "red",
           "red",
           "green",
           "green",
           "green",
           "green",
           "green",
           "green",
           "red",
           "red",
           "red",
           "red",
           "red",
           "green",
           "green",
           "green",
           "red",
           "green",
           "green",
           "red",
           "green",
           "green",
           "red",
           "red",
           "green",
           "green",
           "green",
           "green",
           "red",
           "green",
           "green",
           "red",
           "red",
           "red",
           "red",
           "green",
           "red",
           "red",
           "red",
           "red",
           "green",
           "green",
           "green",
           "red",
           "green",
           "green",
           "red",
           "green",
           "red",
           "green",
           "red",
           "green",
           "green",
           "green",
           "red",
           "red",
           "red",
           "green",
           "green",
           "red",
           "red",
           "red",
           "green",
           "green",
           "red",
           "green",
           "red",
           "red",
           "green",
           "green",
           "red",
           "red",
           "green",
           "green",
           "green",
           "red",
           "green",
           "green",
           "green",
           "green",
           "red",
           "green",
           "green",
           "green",
           "green",
           "red",
           "green",
           "green",
           "green",
           "red",
           "green",
           "red",
           "green",
           "green",
           "green",
           "green"
          ],
          "line": {
           "width": 0
          }
         },
         "name": "Volume",
         "type": "bar",
         "uid": "0755dabb-91c4-4007-a7b2-e103255907c9",
         "x": [
          "2018-01-01T00:00:00.000000",
          "2018-01-02T00:00:00.000000",
          "2018-01-03T00:00:00.000000",
          "2018-01-04T00:00:00.000000",
          "2018-01-05T00:00:00.000000",
          "2018-01-06T00:00:00.000000",
          "2018-01-07T00:00:00.000000",
          "2018-01-08T00:00:00.000000",
          "2018-01-09T00:00:00.000000",
          "2018-01-10T00:00:00.000000",
          "2018-01-11T00:00:00.000000",
          "2018-01-12T00:00:00.000000",
          "2018-01-13T00:00:00.000000",
          "2018-01-14T00:00:00.000000",
          "2018-01-15T00:00:00.000000",
          "2018-01-16T00:00:00.000000",
          "2018-01-17T00:00:00.000000",
          "2018-01-18T00:00:00.000000",
          "2018-01-19T00:00:00.000000",
          "2018-01-20T00:00:00.000000",
          "2018-01-21T00:00:00.000000",
          "2018-01-22T00:00:00.000000",
          "2018-01-23T00:00:00.000000",
          "2018-01-24T00:00:00.000000",
          "2018-01-25T00:00:00.000000",
          "2018-01-26T00:00:00.000000",
          "2018-01-27T00:00:00.000000",
          "2018-01-28T00:00:00.000000",
          "2018-01-29T00:00:00.000000",
          "2018-01-30T00:00:00.000000",
          "2018-01-31T00:00:00.000000",
          "2018-02-01T00:00:00.000000",
          "2018-02-02T00:00:00.000000",
          "2018-02-03T00:00:00.000000",
          "2018-02-04T00:00:00.000000",
          "2018-02-05T00:00:00.000000",
          "2018-02-06T00:00:00.000000",
          "2018-02-07T00:00:00.000000",
          "2018-02-08T00:00:00.000000",
          "2018-02-09T00:00:00.000000",
          "2018-02-10T00:00:00.000000",
          "2018-02-11T00:00:00.000000",
          "2018-02-12T00:00:00.000000",
          "2018-02-13T00:00:00.000000",
          "2018-02-14T00:00:00.000000",
          "2018-02-15T00:00:00.000000",
          "2018-02-16T00:00:00.000000",
          "2018-02-17T00:00:00.000000",
          "2018-02-18T00:00:00.000000",
          "2018-02-19T00:00:00.000000",
          "2018-02-20T00:00:00.000000",
          "2018-02-21T00:00:00.000000",
          "2018-02-22T00:00:00.000000",
          "2018-02-23T00:00:00.000000",
          "2018-02-24T00:00:00.000000",
          "2018-02-25T00:00:00.000000",
          "2018-02-26T00:00:00.000000",
          "2018-02-27T00:00:00.000000",
          "2018-02-28T00:00:00.000000",
          "2018-03-01T00:00:00.000000",
          "2018-03-02T00:00:00.000000",
          "2018-03-03T00:00:00.000000",
          "2018-03-04T00:00:00.000000",
          "2018-03-05T00:00:00.000000",
          "2018-03-06T00:00:00.000000",
          "2018-03-07T00:00:00.000000",
          "2018-03-08T00:00:00.000000",
          "2018-03-09T00:00:00.000000",
          "2018-03-10T00:00:00.000000",
          "2018-03-11T00:00:00.000000",
          "2018-03-12T00:00:00.000000",
          "2018-03-13T00:00:00.000000",
          "2018-03-14T00:00:00.000000",
          "2018-03-15T00:00:00.000000",
          "2018-03-16T00:00:00.000000",
          "2018-03-17T00:00:00.000000",
          "2018-03-18T00:00:00.000000",
          "2018-03-19T00:00:00.000000",
          "2018-03-20T00:00:00.000000",
          "2018-03-21T00:00:00.000000",
          "2018-03-22T00:00:00.000000",
          "2018-03-23T00:00:00.000000",
          "2018-03-24T00:00:00.000000",
          "2018-03-25T00:00:00.000000",
          "2018-03-26T00:00:00.000000",
          "2018-03-27T00:00:00.000000",
          "2018-03-28T00:00:00.000000",
          "2018-03-29T00:00:00.000000",
          "2018-03-30T00:00:00.000000",
          "2018-03-31T00:00:00.000000",
          "2018-04-01T00:00:00.000000",
          "2018-04-02T00:00:00.000000",
          "2018-04-03T00:00:00.000000",
          "2018-04-04T00:00:00.000000",
          "2018-04-05T00:00:00.000000",
          "2018-04-06T00:00:00.000000",
          "2018-04-07T00:00:00.000000",
          "2018-04-08T00:00:00.000000",
          "2018-04-09T00:00:00.000000",
          "2018-04-10T00:00:00.000000",
          "2018-04-11T00:00:00.000000",
          "2018-04-12T00:00:00.000000",
          "2018-04-13T00:00:00.000000",
          "2018-04-14T00:00:00.000000",
          "2018-04-15T00:00:00.000000",
          "2018-04-16T00:00:00.000000",
          "2018-04-17T00:00:00.000000",
          "2018-04-18T00:00:00.000000",
          "2018-04-19T00:00:00.000000",
          "2018-04-20T00:00:00.000000",
          "2018-04-21T00:00:00.000000",
          "2018-04-22T00:00:00.000000",
          "2018-04-23T00:00:00.000000",
          "2018-04-24T00:00:00.000000",
          "2018-04-25T00:00:00.000000",
          "2018-04-26T00:00:00.000000",
          "2018-04-27T00:00:00.000000",
          "2018-04-28T00:00:00.000000",
          "2018-04-29T00:00:00.000000",
          "2018-04-30T00:00:00.000000",
          "2018-05-01T00:00:00.000000",
          "2018-05-02T00:00:00.000000",
          "2018-05-03T00:00:00.000000",
          "2018-05-04T00:00:00.000000",
          "2018-05-05T00:00:00.000000",
          "2018-05-06T00:00:00.000000",
          "2018-05-07T00:00:00.000000",
          "2018-05-08T00:00:00.000000",
          "2018-05-09T00:00:00.000000",
          "2018-05-10T00:00:00.000000",
          "2018-05-11T00:00:00.000000",
          "2018-05-12T00:00:00.000000",
          "2018-05-13T00:00:00.000000",
          "2018-05-14T00:00:00.000000",
          "2018-05-15T00:00:00.000000",
          "2018-05-16T00:00:00.000000",
          "2018-05-17T00:00:00.000000",
          "2018-05-18T00:00:00.000000",
          "2018-05-19T00:00:00.000000",
          "2018-05-20T00:00:00.000000",
          "2018-05-21T00:00:00.000000",
          "2018-05-22T00:00:00.000000",
          "2018-05-23T00:00:00.000000",
          "2018-05-24T00:00:00.000000",
          "2018-05-25T00:00:00.000000",
          "2018-05-26T00:00:00.000000",
          "2018-05-27T00:00:00.000000",
          "2018-05-28T00:00:00.000000",
          "2018-05-29T00:00:00.000000",
          "2018-05-30T00:00:00.000000",
          "2018-05-31T00:00:00.000000",
          "2018-06-01T00:00:00.000000",
          "2018-06-02T00:00:00.000000",
          "2018-06-03T00:00:00.000000",
          "2018-06-04T00:00:00.000000",
          "2018-06-05T00:00:00.000000",
          "2018-06-06T00:00:00.000000",
          "2018-06-07T00:00:00.000000",
          "2018-06-08T00:00:00.000000",
          "2018-06-09T00:00:00.000000",
          "2018-06-10T00:00:00.000000",
          "2018-06-11T00:00:00.000000",
          "2018-06-12T00:00:00.000000",
          "2018-06-13T00:00:00.000000",
          "2018-06-14T00:00:00.000000",
          "2018-06-15T00:00:00.000000",
          "2018-06-16T00:00:00.000000",
          "2018-06-17T00:00:00.000000",
          "2018-06-18T00:00:00.000000",
          "2018-06-19T00:00:00.000000",
          "2018-06-20T00:00:00.000000",
          "2018-06-21T00:00:00.000000",
          "2018-06-22T00:00:00.000000",
          "2018-06-23T00:00:00.000000",
          "2018-06-24T00:00:00.000000",
          "2018-06-25T00:00:00.000000",
          "2018-06-26T00:00:00.000000",
          "2018-06-27T00:00:00.000000",
          "2018-06-28T00:00:00.000000",
          "2018-06-29T00:00:00.000000",
          "2018-06-30T00:00:00.000000",
          "2018-07-01T00:00:00.000000",
          "2018-07-02T00:00:00.000000",
          "2018-07-03T00:00:00.000000",
          "2018-07-04T00:00:00.000000",
          "2018-07-05T00:00:00.000000",
          "2018-07-06T00:00:00.000000",
          "2018-07-07T00:00:00.000000",
          "2018-07-08T00:00:00.000000",
          "2018-07-09T00:00:00.000000",
          "2018-07-10T00:00:00.000000",
          "2018-07-11T00:00:00.000000",
          "2018-07-12T00:00:00.000000",
          "2018-07-13T00:00:00.000000",
          "2018-07-14T00:00:00.000000",
          "2018-07-15T00:00:00.000000",
          "2018-07-16T00:00:00.000000",
          "2018-07-17T00:00:00.000000",
          "2018-07-18T00:00:00.000000",
          "2018-07-19T00:00:00.000000",
          "2018-07-20T00:00:00.000000",
          "2018-07-21T00:00:00.000000",
          "2018-07-22T00:00:00.000000",
          "2018-07-23T00:00:00.000000",
          "2018-07-24T00:00:00.000000",
          "2018-07-25T00:00:00.000000",
          "2018-07-26T00:00:00.000000",
          "2018-07-27T00:00:00.000000",
          "2018-07-28T00:00:00.000000",
          "2018-07-29T00:00:00.000000",
          "2018-07-30T00:00:00.000000",
          "2018-07-31T00:00:00.000000",
          "2018-08-01T00:00:00.000000",
          "2018-08-02T00:00:00.000000",
          "2018-08-03T00:00:00.000000",
          "2018-08-04T00:00:00.000000",
          "2018-08-05T00:00:00.000000",
          "2018-08-06T00:00:00.000000",
          "2018-08-07T00:00:00.000000",
          "2018-08-08T00:00:00.000000",
          "2018-08-09T00:00:00.000000",
          "2018-08-10T00:00:00.000000",
          "2018-08-11T00:00:00.000000",
          "2018-08-12T00:00:00.000000",
          "2018-08-13T00:00:00.000000",
          "2018-08-14T00:00:00.000000",
          "2018-08-15T00:00:00.000000",
          "2018-08-16T00:00:00.000000",
          "2018-08-17T00:00:00.000000",
          "2018-08-18T00:00:00.000000",
          "2018-08-19T00:00:00.000000",
          "2018-08-20T00:00:00.000000",
          "2018-08-21T00:00:00.000000",
          "2018-08-22T00:00:00.000000",
          "2018-08-23T00:00:00.000000",
          "2018-08-24T00:00:00.000000",
          "2018-08-25T00:00:00.000000",
          "2018-08-26T00:00:00.000000",
          "2018-08-27T00:00:00.000000",
          "2018-08-28T00:00:00.000000",
          "2018-08-29T00:00:00.000000",
          "2018-08-30T00:00:00.000000",
          "2018-08-31T00:00:00.000000",
          "2018-09-01T00:00:00.000000",
          "2018-09-02T00:00:00.000000",
          "2018-09-03T00:00:00.000000",
          "2018-09-04T00:00:00.000000",
          "2018-09-05T00:00:00.000000",
          "2018-09-06T00:00:00.000000",
          "2018-09-07T00:00:00.000000",
          "2018-09-08T00:00:00.000000",
          "2018-09-09T00:00:00.000000",
          "2018-09-10T00:00:00.000000",
          "2018-09-11T00:00:00.000000",
          "2018-09-12T00:00:00.000000",
          "2018-09-13T00:00:00.000000",
          "2018-09-14T00:00:00.000000",
          "2018-09-15T00:00:00.000000",
          "2018-09-16T00:00:00.000000",
          "2018-09-17T00:00:00.000000",
          "2018-09-18T00:00:00.000000",
          "2018-09-19T00:00:00.000000",
          "2018-09-20T00:00:00.000000",
          "2018-09-21T00:00:00.000000",
          "2018-09-22T00:00:00.000000",
          "2018-09-23T00:00:00.000000",
          "2018-09-24T00:00:00.000000",
          "2018-09-25T00:00:00.000000",
          "2018-09-26T00:00:00.000000",
          "2018-09-27T00:00:00.000000",
          "2018-09-28T00:00:00.000000",
          "2018-09-29T00:00:00.000000",
          "2018-09-30T00:00:00.000000",
          "2018-10-01T00:00:00.000000",
          "2018-10-02T00:00:00.000000",
          "2018-10-03T00:00:00.000000",
          "2018-10-04T00:00:00.000000",
          "2018-10-05T00:00:00.000000",
          "2018-10-06T00:00:00.000000",
          "2018-10-07T00:00:00.000000",
          "2018-10-08T00:00:00.000000",
          "2018-10-09T00:00:00.000000",
          "2018-10-10T00:00:00.000000",
          "2018-10-11T00:00:00.000000",
          "2018-10-12T00:00:00.000000",
          "2018-10-13T00:00:00.000000",
          "2018-10-14T00:00:00.000000",
          "2018-10-15T00:00:00.000000",
          "2018-10-16T00:00:00.000000",
          "2018-10-17T00:00:00.000000",
          "2018-10-18T00:00:00.000000",
          "2018-10-19T00:00:00.000000",
          "2018-10-20T00:00:00.000000",
          "2018-10-21T00:00:00.000000",
          "2018-10-22T00:00:00.000000",
          "2018-10-23T00:00:00.000000",
          "2018-10-24T00:00:00.000000",
          "2018-10-25T00:00:00.000000",
          "2018-10-26T00:00:00.000000",
          "2018-10-27T00:00:00.000000",
          "2018-10-28T00:00:00.000000",
          "2018-10-29T00:00:00.000000",
          "2018-10-30T00:00:00.000000",
          "2018-10-31T00:00:00.000000",
          "2018-11-01T00:00:00.000000",
          "2018-11-02T00:00:00.000000",
          "2018-11-03T00:00:00.000000",
          "2018-11-04T00:00:00.000000",
          "2018-11-05T00:00:00.000000",
          "2018-11-06T00:00:00.000000",
          "2018-11-07T00:00:00.000000",
          "2018-11-08T00:00:00.000000",
          "2018-11-09T00:00:00.000000",
          "2018-11-10T00:00:00.000000",
          "2018-11-11T00:00:00.000000",
          "2018-11-12T00:00:00.000000",
          "2018-11-13T00:00:00.000000",
          "2018-11-14T00:00:00.000000",
          "2018-11-15T00:00:00.000000",
          "2018-11-16T00:00:00.000000",
          "2018-11-17T00:00:00.000000",
          "2018-11-18T00:00:00.000000",
          "2018-11-19T00:00:00.000000",
          "2018-11-20T00:00:00.000000",
          "2018-11-21T00:00:00.000000",
          "2018-11-22T00:00:00.000000",
          "2018-11-23T00:00:00.000000",
          "2018-11-24T00:00:00.000000",
          "2018-11-25T00:00:00.000000",
          "2018-11-26T00:00:00.000000",
          "2018-11-27T00:00:00.000000",
          "2018-11-28T00:00:00.000000",
          "2018-11-29T00:00:00.000000",
          "2018-11-30T00:00:00.000000",
          "2018-12-01T00:00:00.000000",
          "2018-12-02T00:00:00.000000",
          "2018-12-03T00:00:00.000000",
          "2018-12-04T00:00:00.000000",
          "2018-12-05T00:00:00.000000",
          "2018-12-06T00:00:00.000000",
          "2018-12-07T00:00:00.000000",
          "2018-12-08T00:00:00.000000",
          "2018-12-09T00:00:00.000000",
          "2018-12-10T00:00:00.000000",
          "2018-12-11T00:00:00.000000",
          "2018-12-12T00:00:00.000000",
          "2018-12-13T00:00:00.000000",
          "2018-12-14T00:00:00.000000",
          "2018-12-15T00:00:00.000000",
          "2018-12-16T00:00:00.000000",
          "2018-12-17T00:00:00.000000",
          "2018-12-18T00:00:00.000000",
          "2018-12-19T00:00:00.000000",
          "2018-12-20T00:00:00.000000",
          "2018-12-21T00:00:00.000000",
          "2018-12-22T00:00:00.000000",
          "2018-12-23T00:00:00.000000",
          "2018-12-24T00:00:00.000000",
          "2018-12-25T00:00:00.000000",
          "2018-12-26T00:00:00.000000",
          "2018-12-27T00:00:00.000000",
          "2018-12-28T00:00:00.000000",
          "2018-12-29T00:00:00.000000",
          "2018-12-30T00:00:00.000000",
          "2018-12-31T00:00:00.000000",
          "2019-01-01T00:00:00.000000",
          "2019-01-02T00:00:00.000000",
          "2019-01-03T00:00:00.000000",
          "2019-01-04T00:00:00.000000",
          "2019-01-05T00:00:00.000000",
          "2019-01-06T00:00:00.000000",
          "2019-01-07T00:00:00.000000",
          "2019-01-08T00:00:00.000000",
          "2019-01-09T00:00:00.000000",
          "2019-01-10T00:00:00.000000",
          "2019-01-11T00:00:00.000000",
          "2019-01-12T00:00:00.000000",
          "2019-01-13T00:00:00.000000",
          "2019-01-14T00:00:00.000000",
          "2019-01-15T00:00:00.000000",
          "2019-01-16T00:00:00.000000",
          "2019-01-17T00:00:00.000000",
          "2019-01-18T00:00:00.000000",
          "2019-01-19T00:00:00.000000",
          "2019-01-20T00:00:00.000000",
          "2019-01-21T00:00:00.000000",
          "2019-01-22T00:00:00.000000",
          "2019-01-23T00:00:00.000000",
          "2019-01-24T00:00:00.000000",
          "2019-01-25T00:00:00.000000",
          "2019-01-26T00:00:00.000000",
          "2019-01-27T00:00:00.000000",
          "2019-01-28T00:00:00.000000",
          "2019-01-29T00:00:00.000000",
          "2019-01-30T00:00:00.000000",
          "2019-01-31T00:00:00.000000",
          "2019-02-01T00:00:00.000000",
          "2019-02-02T00:00:00.000000",
          "2019-02-03T00:00:00.000000",
          "2019-02-04T00:00:00.000000",
          "2019-02-05T00:00:00.000000",
          "2019-02-06T00:00:00.000000",
          "2019-02-07T00:00:00.000000",
          "2019-02-08T00:00:00.000000",
          "2019-02-09T00:00:00.000000",
          "2019-02-10T00:00:00.000000",
          "2019-02-11T00:00:00.000000",
          "2019-02-12T00:00:00.000000",
          "2019-02-13T00:00:00.000000",
          "2019-02-14T00:00:00.000000",
          "2019-02-15T00:00:00.000000",
          "2019-02-16T00:00:00.000000",
          "2019-02-17T00:00:00.000000",
          "2019-02-18T00:00:00.000000",
          "2019-02-19T00:00:00.000000",
          "2019-02-20T00:00:00.000000",
          "2019-02-21T00:00:00.000000",
          "2019-02-22T00:00:00.000000",
          "2019-02-23T00:00:00.000000",
          "2019-02-24T00:00:00.000000",
          "2019-02-25T00:00:00.000000",
          "2019-02-26T00:00:00.000000",
          "2019-02-27T00:00:00.000000",
          "2019-02-28T00:00:00.000000",
          "2019-03-01T00:00:00.000000",
          "2019-03-02T00:00:00.000000",
          "2019-03-03T00:00:00.000000",
          "2019-03-04T00:00:00.000000",
          "2019-03-05T00:00:00.000000",
          "2019-03-06T00:00:00.000000",
          "2019-03-07T00:00:00.000000",
          "2019-03-08T00:00:00.000000",
          "2019-03-09T00:00:00.000000",
          "2019-03-10T00:00:00.000000",
          "2019-03-11T00:00:00.000000",
          "2019-03-12T00:00:00.000000",
          "2019-03-13T00:00:00.000000",
          "2019-03-14T00:00:00.000000",
          "2019-03-15T00:00:00.000000",
          "2019-03-16T00:00:00.000000",
          "2019-03-17T00:00:00.000000",
          "2019-03-18T00:00:00.000000",
          "2019-03-19T00:00:00.000000",
          "2019-03-20T00:00:00.000000",
          "2019-03-21T00:00:00.000000",
          "2019-03-22T00:00:00.000000",
          "2019-03-23T00:00:00.000000",
          "2019-03-24T00:00:00.000000",
          "2019-03-25T00:00:00.000000",
          "2019-03-26T00:00:00.000000",
          "2019-03-27T00:00:00.000000",
          "2019-03-28T00:00:00.000000",
          "2019-03-29T00:00:00.000000",
          "2019-03-30T00:00:00.000000",
          "2019-03-31T00:00:00.000000",
          "2019-04-01T00:00:00.000000",
          "2019-04-02T00:00:00.000000",
          "2019-04-03T00:00:00.000000",
          "2019-04-04T00:00:00.000000",
          "2019-04-05T00:00:00.000000",
          "2019-04-06T00:00:00.000000",
          "2019-04-07T00:00:00.000000",
          "2019-04-08T00:00:00.000000",
          "2019-04-09T00:00:00.000000",
          "2019-04-10T00:00:00.000000",
          "2019-04-11T00:00:00.000000",
          "2019-04-12T00:00:00.000000",
          "2019-04-13T00:00:00.000000",
          "2019-04-14T00:00:00.000000",
          "2019-04-15T00:00:00.000000",
          "2019-04-16T00:00:00.000000",
          "2019-04-17T00:00:00.000000",
          "2019-04-18T00:00:00.000000",
          "2019-04-19T00:00:00.000000",
          "2019-04-20T00:00:00.000000",
          "2019-04-21T00:00:00.000000",
          "2019-04-22T00:00:00.000000",
          "2019-04-23T00:00:00.000000",
          "2019-04-24T00:00:00.000000",
          "2019-04-25T00:00:00.000000",
          "2019-04-26T00:00:00.000000",
          "2019-04-27T00:00:00.000000",
          "2019-04-28T00:00:00.000000",
          "2019-04-29T00:00:00.000000",
          "2019-04-30T00:00:00.000000",
          "2019-05-01T00:00:00.000000",
          "2019-05-02T00:00:00.000000",
          "2019-05-03T00:00:00.000000",
          "2019-05-04T00:00:00.000000",
          "2019-05-05T00:00:00.000000",
          "2019-05-06T00:00:00.000000",
          "2019-05-07T00:00:00.000000",
          "2019-05-08T00:00:00.000000",
          "2019-05-09T00:00:00.000000",
          "2019-05-10T00:00:00.000000",
          "2019-05-11T00:00:00.000000",
          "2019-05-12T00:00:00.000000",
          "2019-05-13T00:00:00.000000",
          "2019-05-14T00:00:00.000000",
          "2019-05-15T00:00:00.000000",
          "2019-05-16T00:00:00.000000",
          "2019-05-17T00:00:00.000000",
          "2019-05-18T00:00:00.000000",
          "2019-05-19T00:00:00.000000",
          "2019-05-20T00:00:00.000000",
          "2019-05-21T00:00:00.000000",
          "2019-05-22T00:00:00.000000",
          "2019-05-23T00:00:00.000000",
          "2019-05-24T00:00:00.000000",
          "2019-05-25T00:00:00.000000",
          "2019-05-26T00:00:00.000000",
          "2019-05-27T00:00:00.000000",
          "2019-05-28T00:00:00.000000",
          "2019-05-29T00:00:00.000000",
          "2019-05-30T00:00:00.000000",
          "2019-05-31T00:00:00.000000",
          "2019-06-01T00:00:00.000000",
          "2019-06-02T00:00:00.000000",
          "2019-06-03T00:00:00.000000",
          "2019-06-04T00:00:00.000000",
          "2019-06-05T00:00:00.000000",
          "2019-06-06T00:00:00.000000",
          "2019-06-07T00:00:00.000000",
          "2019-06-08T00:00:00.000000",
          "2019-06-09T00:00:00.000000",
          "2019-06-10T00:00:00.000000",
          "2019-06-11T00:00:00.000000",
          "2019-06-12T00:00:00.000000",
          "2019-06-13T00:00:00.000000",
          "2019-06-14T00:00:00.000000",
          "2019-06-15T00:00:00.000000",
          "2019-06-16T00:00:00.000000",
          "2019-06-17T00:00:00.000000",
          "2019-06-18T00:00:00.000000",
          "2019-06-19T00:00:00.000000",
          "2019-06-20T00:00:00.000000",
          "2019-06-21T00:00:00.000000",
          "2019-06-22T00:00:00.000000",
          "2019-06-23T00:00:00.000000",
          "2019-06-24T00:00:00.000000",
          "2019-06-25T00:00:00.000000",
          "2019-06-26T00:00:00.000000",
          "2019-06-27T00:00:00.000000",
          "2019-06-28T00:00:00.000000",
          "2019-06-29T00:00:00.000000",
          "2019-06-30T00:00:00.000000",
          "2019-07-01T00:00:00.000000",
          "2019-07-02T00:00:00.000000",
          "2019-07-03T00:00:00.000000",
          "2019-07-04T00:00:00.000000",
          "2019-07-05T00:00:00.000000",
          "2019-07-06T00:00:00.000000",
          "2019-07-07T00:00:00.000000",
          "2019-07-08T00:00:00.000000",
          "2019-07-09T00:00:00.000000",
          "2019-07-10T00:00:00.000000",
          "2019-07-11T00:00:00.000000",
          "2019-07-12T00:00:00.000000",
          "2019-07-13T00:00:00.000000",
          "2019-07-14T00:00:00.000000",
          "2019-07-15T00:00:00.000000",
          "2019-07-16T00:00:00.000000",
          "2019-07-17T00:00:00.000000",
          "2019-07-18T00:00:00.000000",
          "2019-07-19T00:00:00.000000",
          "2019-07-20T00:00:00.000000",
          "2019-07-21T00:00:00.000000",
          "2019-07-22T00:00:00.000000",
          "2019-07-23T00:00:00.000000",
          "2019-07-24T00:00:00.000000",
          "2019-07-25T00:00:00.000000",
          "2019-07-26T00:00:00.000000",
          "2019-07-27T00:00:00.000000",
          "2019-07-28T00:00:00.000000",
          "2019-07-29T00:00:00.000000",
          "2019-07-30T00:00:00.000000",
          "2019-07-31T00:00:00.000000",
          "2019-08-01T00:00:00.000000",
          "2019-08-02T00:00:00.000000",
          "2019-08-03T00:00:00.000000",
          "2019-08-04T00:00:00.000000",
          "2019-08-05T00:00:00.000000",
          "2019-08-06T00:00:00.000000",
          "2019-08-07T00:00:00.000000",
          "2019-08-08T00:00:00.000000",
          "2019-08-09T00:00:00.000000",
          "2019-08-10T00:00:00.000000",
          "2019-08-11T00:00:00.000000",
          "2019-08-12T00:00:00.000000",
          "2019-08-13T00:00:00.000000",
          "2019-08-14T00:00:00.000000",
          "2019-08-15T00:00:00.000000",
          "2019-08-16T00:00:00.000000",
          "2019-08-17T00:00:00.000000",
          "2019-08-18T00:00:00.000000",
          "2019-08-19T00:00:00.000000",
          "2019-08-20T00:00:00.000000",
          "2019-08-21T00:00:00.000000",
          "2019-08-22T00:00:00.000000",
          "2019-08-23T00:00:00.000000",
          "2019-08-24T00:00:00.000000",
          "2019-08-25T00:00:00.000000",
          "2019-08-26T00:00:00.000000",
          "2019-08-27T00:00:00.000000",
          "2019-08-28T00:00:00.000000",
          "2019-08-29T00:00:00.000000",
          "2019-08-30T00:00:00.000000",
          "2019-08-31T00:00:00.000000",
          "2019-09-01T00:00:00.000000",
          "2019-09-02T00:00:00.000000",
          "2019-09-03T00:00:00.000000",
          "2019-09-04T00:00:00.000000",
          "2019-09-05T00:00:00.000000",
          "2019-09-06T00:00:00.000000",
          "2019-09-07T00:00:00.000000",
          "2019-09-08T00:00:00.000000",
          "2019-09-09T00:00:00.000000",
          "2019-09-10T00:00:00.000000",
          "2019-09-11T00:00:00.000000",
          "2019-09-12T00:00:00.000000",
          "2019-09-13T00:00:00.000000",
          "2019-09-14T00:00:00.000000",
          "2019-09-15T00:00:00.000000",
          "2019-09-16T00:00:00.000000",
          "2019-09-17T00:00:00.000000",
          "2019-09-18T00:00:00.000000",
          "2019-09-19T00:00:00.000000",
          "2019-09-20T00:00:00.000000",
          "2019-09-21T00:00:00.000000",
          "2019-09-22T00:00:00.000000",
          "2019-09-23T00:00:00.000000",
          "2019-09-24T00:00:00.000000",
          "2019-09-25T00:00:00.000000",
          "2019-09-26T00:00:00.000000",
          "2019-09-27T00:00:00.000000",
          "2019-09-28T00:00:00.000000",
          "2019-09-29T00:00:00.000000",
          "2019-09-30T00:00:00.000000",
          "2019-10-01T00:00:00.000000",
          "2019-10-02T00:00:00.000000",
          "2019-10-03T00:00:00.000000",
          "2019-10-04T00:00:00.000000",
          "2019-10-05T00:00:00.000000",
          "2019-10-06T00:00:00.000000",
          "2019-10-07T00:00:00.000000",
          "2019-10-08T00:00:00.000000",
          "2019-10-09T00:00:00.000000",
          "2019-10-10T00:00:00.000000",
          "2019-10-11T00:00:00.000000",
          "2019-10-12T00:00:00.000000",
          "2019-10-13T00:00:00.000000",
          "2019-10-14T00:00:00.000000",
          "2019-10-15T00:00:00.000000",
          "2019-10-16T00:00:00.000000",
          "2019-10-17T00:00:00.000000",
          "2019-10-18T00:00:00.000000",
          "2019-10-19T00:00:00.000000",
          "2019-10-20T00:00:00.000000",
          "2019-10-21T00:00:00.000000",
          "2019-10-22T00:00:00.000000",
          "2019-10-23T00:00:00.000000",
          "2019-10-24T00:00:00.000000",
          "2019-10-25T00:00:00.000000",
          "2019-10-26T00:00:00.000000",
          "2019-10-27T00:00:00.000000",
          "2019-10-28T00:00:00.000000",
          "2019-10-29T00:00:00.000000",
          "2019-10-30T00:00:00.000000",
          "2019-10-31T00:00:00.000000",
          "2019-11-01T00:00:00.000000",
          "2019-11-02T00:00:00.000000",
          "2019-11-03T00:00:00.000000",
          "2019-11-04T00:00:00.000000",
          "2019-11-05T00:00:00.000000",
          "2019-11-06T00:00:00.000000",
          "2019-11-07T00:00:00.000000",
          "2019-11-08T00:00:00.000000",
          "2019-11-09T00:00:00.000000",
          "2019-11-10T00:00:00.000000",
          "2019-11-11T00:00:00.000000",
          "2019-11-12T00:00:00.000000",
          "2019-11-13T00:00:00.000000",
          "2019-11-14T00:00:00.000000",
          "2019-11-15T00:00:00.000000",
          "2019-11-16T00:00:00.000000",
          "2019-11-17T00:00:00.000000",
          "2019-11-18T00:00:00.000000",
          "2019-11-19T00:00:00.000000",
          "2019-11-20T00:00:00.000000",
          "2019-11-21T00:00:00.000000",
          "2019-11-22T00:00:00.000000",
          "2019-11-23T00:00:00.000000",
          "2019-11-24T00:00:00.000000",
          "2019-11-25T00:00:00.000000",
          "2019-11-26T00:00:00.000000",
          "2019-11-27T00:00:00.000000",
          "2019-11-28T00:00:00.000000",
          "2019-11-29T00:00:00.000000",
          "2019-11-30T00:00:00.000000",
          "2019-12-01T00:00:00.000000",
          "2019-12-02T00:00:00.000000",
          "2019-12-03T00:00:00.000000",
          "2019-12-04T00:00:00.000000",
          "2019-12-05T00:00:00.000000",
          "2019-12-06T00:00:00.000000",
          "2019-12-07T00:00:00.000000",
          "2019-12-08T00:00:00.000000",
          "2019-12-09T00:00:00.000000",
          "2019-12-10T00:00:00.000000",
          "2019-12-11T00:00:00.000000",
          "2019-12-12T00:00:00.000000",
          "2019-12-13T00:00:00.000000",
          "2019-12-14T00:00:00.000000",
          "2019-12-15T00:00:00.000000",
          "2019-12-16T00:00:00.000000",
          "2019-12-17T00:00:00.000000",
          "2019-12-18T00:00:00.000000",
          "2019-12-19T00:00:00.000000",
          "2019-12-20T00:00:00.000000",
          "2019-12-21T00:00:00.000000",
          "2019-12-22T00:00:00.000000",
          "2019-12-23T00:00:00.000000",
          "2019-12-24T00:00:00.000000",
          "2019-12-25T00:00:00.000000",
          "2019-12-26T00:00:00.000000",
          "2019-12-27T00:00:00.000000",
          "2019-12-28T00:00:00.000000",
          "2019-12-29T00:00:00.000000",
          "2019-12-30T00:00:00.000000",
          "2019-12-31T00:00:00.000000",
          "2020-01-01T00:00:00.000000",
          "2020-01-02T00:00:00.000000",
          "2020-01-03T00:00:00.000000",
          "2020-01-04T00:00:00.000000",
          "2020-01-05T00:00:00.000000",
          "2020-01-06T00:00:00.000000",
          "2020-01-07T00:00:00.000000",
          "2020-01-08T00:00:00.000000",
          "2020-01-09T00:00:00.000000",
          "2020-01-10T00:00:00.000000",
          "2020-01-11T00:00:00.000000",
          "2020-01-12T00:00:00.000000",
          "2020-01-13T00:00:00.000000",
          "2020-01-14T00:00:00.000000",
          "2020-01-15T00:00:00.000000",
          "2020-01-16T00:00:00.000000",
          "2020-01-17T00:00:00.000000",
          "2020-01-18T00:00:00.000000",
          "2020-01-19T00:00:00.000000",
          "2020-01-20T00:00:00.000000",
          "2020-01-21T00:00:00.000000",
          "2020-01-22T00:00:00.000000",
          "2020-01-23T00:00:00.000000",
          "2020-01-24T00:00:00.000000",
          "2020-01-25T00:00:00.000000",
          "2020-01-26T00:00:00.000000",
          "2020-01-27T00:00:00.000000",
          "2020-01-28T00:00:00.000000",
          "2020-01-29T00:00:00.000000",
          "2020-01-30T00:00:00.000000",
          "2020-01-31T00:00:00.000000",
          "2020-02-01T00:00:00.000000",
          "2020-02-02T00:00:00.000000",
          "2020-02-03T00:00:00.000000",
          "2020-02-04T00:00:00.000000",
          "2020-02-05T00:00:00.000000",
          "2020-02-06T00:00:00.000000",
          "2020-02-07T00:00:00.000000",
          "2020-02-08T00:00:00.000000",
          "2020-02-09T00:00:00.000000",
          "2020-02-10T00:00:00.000000",
          "2020-02-11T00:00:00.000000",
          "2020-02-12T00:00:00.000000",
          "2020-02-13T00:00:00.000000",
          "2020-02-14T00:00:00.000000",
          "2020-02-15T00:00:00.000000",
          "2020-02-16T00:00:00.000000",
          "2020-02-17T00:00:00.000000",
          "2020-02-18T00:00:00.000000",
          "2020-02-19T00:00:00.000000",
          "2020-02-20T00:00:00.000000",
          "2020-02-21T00:00:00.000000",
          "2020-02-22T00:00:00.000000",
          "2020-02-23T00:00:00.000000",
          "2020-02-24T00:00:00.000000",
          "2020-02-25T00:00:00.000000",
          "2020-02-26T00:00:00.000000",
          "2020-02-27T00:00:00.000000",
          "2020-02-28T00:00:00.000000",
          "2020-02-29T00:00:00.000000",
          "2020-03-01T00:00:00.000000",
          "2020-03-02T00:00:00.000000",
          "2020-03-03T00:00:00.000000",
          "2020-03-04T00:00:00.000000",
          "2020-03-05T00:00:00.000000",
          "2020-03-06T00:00:00.000000",
          "2020-03-07T00:00:00.000000",
          "2020-03-08T00:00:00.000000",
          "2020-03-09T00:00:00.000000",
          "2020-03-10T00:00:00.000000",
          "2020-03-11T00:00:00.000000",
          "2020-03-12T00:00:00.000000",
          "2020-03-13T00:00:00.000000",
          "2020-03-14T00:00:00.000000",
          "2020-03-15T00:00:00.000000",
          "2020-03-16T00:00:00.000000",
          "2020-03-17T00:00:00.000000",
          "2020-03-18T00:00:00.000000",
          "2020-03-19T00:00:00.000000",
          "2020-03-20T00:00:00.000000",
          "2020-03-21T00:00:00.000000",
          "2020-03-22T00:00:00.000000",
          "2020-03-23T00:00:00.000000",
          "2020-03-24T00:00:00.000000",
          "2020-03-25T00:00:00.000000",
          "2020-03-26T00:00:00.000000",
          "2020-03-27T00:00:00.000000",
          "2020-03-28T00:00:00.000000",
          "2020-03-29T00:00:00.000000",
          "2020-03-30T00:00:00.000000",
          "2020-03-31T00:00:00.000000",
          "2020-04-01T00:00:00.000000",
          "2020-04-02T00:00:00.000000",
          "2020-04-03T00:00:00.000000",
          "2020-04-04T00:00:00.000000",
          "2020-04-05T00:00:00.000000",
          "2020-04-06T00:00:00.000000",
          "2020-04-07T00:00:00.000000",
          "2020-04-08T00:00:00.000000",
          "2020-04-09T00:00:00.000000",
          "2020-04-10T00:00:00.000000",
          "2020-04-11T00:00:00.000000",
          "2020-04-12T00:00:00.000000",
          "2020-04-13T00:00:00.000000",
          "2020-04-14T00:00:00.000000",
          "2020-04-15T00:00:00.000000",
          "2020-04-16T00:00:00.000000",
          "2020-04-17T00:00:00.000000",
          "2020-04-18T00:00:00.000000",
          "2020-04-19T00:00:00.000000",
          "2020-04-20T00:00:00.000000",
          "2020-04-21T00:00:00.000000",
          "2020-04-22T00:00:00.000000",
          "2020-04-23T00:00:00.000000",
          "2020-04-24T00:00:00.000000",
          "2020-04-25T00:00:00.000000",
          "2020-04-26T00:00:00.000000",
          "2020-04-27T00:00:00.000000",
          "2020-04-28T00:00:00.000000",
          "2020-04-29T00:00:00.000000",
          "2020-04-30T00:00:00.000000",
          "2020-05-01T00:00:00.000000",
          "2020-05-02T00:00:00.000000",
          "2020-05-03T00:00:00.000000",
          "2020-05-04T00:00:00.000000",
          "2020-05-05T00:00:00.000000",
          "2020-05-06T00:00:00.000000",
          "2020-05-07T00:00:00.000000",
          "2020-05-08T00:00:00.000000",
          "2020-05-09T00:00:00.000000",
          "2020-05-10T00:00:00.000000",
          "2020-05-11T00:00:00.000000",
          "2020-05-12T00:00:00.000000",
          "2020-05-13T00:00:00.000000",
          "2020-05-14T00:00:00.000000",
          "2020-05-15T00:00:00.000000",
          "2020-05-16T00:00:00.000000",
          "2020-05-17T00:00:00.000000",
          "2020-05-18T00:00:00.000000",
          "2020-05-19T00:00:00.000000",
          "2020-05-20T00:00:00.000000",
          "2020-05-21T00:00:00.000000",
          "2020-05-22T00:00:00.000000",
          "2020-05-23T00:00:00.000000",
          "2020-05-24T00:00:00.000000",
          "2020-05-25T00:00:00.000000",
          "2020-05-26T00:00:00.000000",
          "2020-05-27T00:00:00.000000",
          "2020-05-28T00:00:00.000000",
          "2020-05-29T00:00:00.000000",
          "2020-05-30T00:00:00.000000",
          "2020-05-31T00:00:00.000000",
          "2020-06-01T00:00:00.000000",
          "2020-06-02T00:00:00.000000",
          "2020-06-03T00:00:00.000000",
          "2020-06-04T00:00:00.000000",
          "2020-06-05T00:00:00.000000",
          "2020-06-06T00:00:00.000000",
          "2020-06-07T00:00:00.000000",
          "2020-06-08T00:00:00.000000",
          "2020-06-09T00:00:00.000000",
          "2020-06-10T00:00:00.000000",
          "2020-06-11T00:00:00.000000",
          "2020-06-12T00:00:00.000000",
          "2020-06-13T00:00:00.000000",
          "2020-06-14T00:00:00.000000",
          "2020-06-15T00:00:00.000000",
          "2020-06-16T00:00:00.000000",
          "2020-06-17T00:00:00.000000",
          "2020-06-18T00:00:00.000000",
          "2020-06-19T00:00:00.000000",
          "2020-06-20T00:00:00.000000",
          "2020-06-21T00:00:00.000000",
          "2020-06-22T00:00:00.000000",
          "2020-06-23T00:00:00.000000",
          "2020-06-24T00:00:00.000000",
          "2020-06-25T00:00:00.000000",
          "2020-06-26T00:00:00.000000",
          "2020-06-27T00:00:00.000000",
          "2020-06-28T00:00:00.000000",
          "2020-06-29T00:00:00.000000",
          "2020-06-30T00:00:00.000000",
          "2020-07-01T00:00:00.000000",
          "2020-07-02T00:00:00.000000",
          "2020-07-03T00:00:00.000000",
          "2020-07-04T00:00:00.000000",
          "2020-07-05T00:00:00.000000",
          "2020-07-06T00:00:00.000000",
          "2020-07-07T00:00:00.000000",
          "2020-07-08T00:00:00.000000",
          "2020-07-09T00:00:00.000000",
          "2020-07-10T00:00:00.000000",
          "2020-07-11T00:00:00.000000",
          "2020-07-12T00:00:00.000000",
          "2020-07-13T00:00:00.000000",
          "2020-07-14T00:00:00.000000",
          "2020-07-15T00:00:00.000000",
          "2020-07-16T00:00:00.000000",
          "2020-07-17T00:00:00.000000",
          "2020-07-18T00:00:00.000000",
          "2020-07-19T00:00:00.000000",
          "2020-07-20T00:00:00.000000",
          "2020-07-21T00:00:00.000000",
          "2020-07-22T00:00:00.000000",
          "2020-07-23T00:00:00.000000",
          "2020-07-24T00:00:00.000000",
          "2020-07-25T00:00:00.000000",
          "2020-07-26T00:00:00.000000",
          "2020-07-27T00:00:00.000000",
          "2020-07-28T00:00:00.000000",
          "2020-07-29T00:00:00.000000",
          "2020-07-30T00:00:00.000000",
          "2020-07-31T00:00:00.000000",
          "2020-08-01T00:00:00.000000",
          "2020-08-02T00:00:00.000000",
          "2020-08-03T00:00:00.000000",
          "2020-08-04T00:00:00.000000",
          "2020-08-05T00:00:00.000000",
          "2020-08-06T00:00:00.000000",
          "2020-08-07T00:00:00.000000",
          "2020-08-08T00:00:00.000000",
          "2020-08-09T00:00:00.000000",
          "2020-08-10T00:00:00.000000",
          "2020-08-11T00:00:00.000000",
          "2020-08-12T00:00:00.000000",
          "2020-08-13T00:00:00.000000",
          "2020-08-14T00:00:00.000000",
          "2020-08-15T00:00:00.000000",
          "2020-08-16T00:00:00.000000",
          "2020-08-17T00:00:00.000000",
          "2020-08-18T00:00:00.000000",
          "2020-08-19T00:00:00.000000",
          "2020-08-20T00:00:00.000000",
          "2020-08-21T00:00:00.000000",
          "2020-08-22T00:00:00.000000",
          "2020-08-23T00:00:00.000000",
          "2020-08-24T00:00:00.000000",
          "2020-08-25T00:00:00.000000",
          "2020-08-26T00:00:00.000000",
          "2020-08-27T00:00:00.000000",
          "2020-08-28T00:00:00.000000",
          "2020-08-29T00:00:00.000000",
          "2020-08-30T00:00:00.000000",
          "2020-08-31T00:00:00.000000",
          "2020-09-01T00:00:00.000000",
          "2020-09-02T00:00:00.000000",
          "2020-09-03T00:00:00.000000",
          "2020-09-04T00:00:00.000000",
          "2020-09-05T00:00:00.000000",
          "2020-09-06T00:00:00.000000",
          "2020-09-07T00:00:00.000000",
          "2020-09-08T00:00:00.000000",
          "2020-09-09T00:00:00.000000",
          "2020-09-10T00:00:00.000000",
          "2020-09-11T00:00:00.000000",
          "2020-09-12T00:00:00.000000",
          "2020-09-13T00:00:00.000000",
          "2020-09-14T00:00:00.000000",
          "2020-09-15T00:00:00.000000",
          "2020-09-16T00:00:00.000000",
          "2020-09-17T00:00:00.000000",
          "2020-09-18T00:00:00.000000",
          "2020-09-19T00:00:00.000000",
          "2020-09-20T00:00:00.000000",
          "2020-09-21T00:00:00.000000",
          "2020-09-22T00:00:00.000000",
          "2020-09-23T00:00:00.000000",
          "2020-09-24T00:00:00.000000",
          "2020-09-25T00:00:00.000000",
          "2020-09-26T00:00:00.000000"
         ],
         "xaxis": "x",
         "y": {
          "dtype": "float64",
          "shape": [
           1000
          ]
         },
         "yaxis": "y"
        }
       ],
       "_js2py_layoutDelta": {},
       "_js2py_pointsCallback": {},
       "_js2py_relayout": {},
       "_js2py_restyle": {},
       "_js2py_traceDeltas": {},
       "_js2py_update": {},
       "_last_layout_edit_id": 5,
       "_last_trace_edit_id": 5,
       "_layout": {
        "autosize": false,
        "colorway": [
         "#1f77b4",
         "#ff7f0e",
         "#2ca02c",
         "#d62728",
         "#9467bd",
         "#8c564b",
         "#e377c2",
         "#7f7f7f",
         "#bcbd22",
         "#17becf"
        ],
        "height": 300,
        "hovermode": "closest",
        "margin": {
         "b": 30,
         "t": 30
        },
        "showlegend": true,
        "template": {
         "data": {
          "bar": [
           {
            "error_x": {
             "color": "#2a3f5f"
            },
            "error_y": {
             "color": "#2a3f5f"
            },
            "marker": {
             "line": {
              "color": "#E5ECF6",
              "width": 0.5
             }
            },
            "type": "bar"
           }
          ],
          "barpolar": [
           {
            "marker": {
             "line": {
              "color": "#E5ECF6",
              "width": 0.5
             }
            },
            "type": "barpolar"
           }
          ],
          "carpet": [
           {
            "aaxis": {
             "endlinecolor": "#2a3f5f",
             "gridcolor": "white",
             "linecolor": "white",
             "minorgridcolor": "white",
             "startlinecolor": "#2a3f5f"
            },
            "baxis": {
             "endlinecolor": "#2a3f5f",
             "gridcolor": "white",
             "linecolor": "white",
             "minorgridcolor": "white",
             "startlinecolor": "#2a3f5f"
            },
            "type": "carpet"
           }
          ],
          "choropleth": [
           {
            "colorbar": {
             "outlinewidth": 0,
             "ticks": ""
            },
            "type": "choropleth"
           }
          ],
          "contour": [
           {
            "colorbar": {
             "outlinewidth": 0,
             "ticks": ""
            },
            "colorscale": [
             [
              0,
              "#0d0887"
             ],
             [
              0.1111111111111111,
              "#46039f"
             ],
             [
              0.2222222222222222,
              "#7201a8"
             ],
             [
              0.3333333333333333,
              "#9c179e"
             ],
             [
              0.4444444444444444,
              "#bd3786"
             ],
             [
              0.5555555555555556,
              "#d8576b"
             ],
             [
              0.6666666666666666,
              "#ed7953"
             ],
             [
              0.7777777777777778,
              "#fb9f3a"
             ],
             [
              0.8888888888888888,
              "#fdca26"
             ],
             [
              1,
              "#f0f921"
             ]
            ],
            "type": "contour"
           }
          ],
          "contourcarpet": [
           {
            "colorbar": {
             "outlinewidth": 0,
             "ticks": ""
            },
            "type": "contourcarpet"
           }
          ],
          "heatmap": [
           {
            "colorbar": {
             "outlinewidth": 0,
             "ticks": ""
            },
            "colorscale": [
             [
              0,
              "#0d0887"
             ],
             [
              0.1111111111111111,
              "#46039f"
             ],
             [
              0.2222222222222222,
              "#7201a8"
             ],
             [
              0.3333333333333333,
              "#9c179e"
             ],
             [
              0.4444444444444444,
              "#bd3786"
             ],
             [
              0.5555555555555556,
              "#d8576b"
             ],
             [
              0.6666666666666666,
              "#ed7953"
             ],
             [
              0.7777777777777778,
              "#fb9f3a"
             ],
             [
              0.8888888888888888,
              "#fdca26"
             ],
             [
              1,
              "#f0f921"
             ]
            ],
            "type": "heatmap"
           }
          ],
          "heatmapgl": [
           {
            "colorbar": {
             "outlinewidth": 0,
             "ticks": ""
            },
            "colorscale": [
             [
              0,
              "#0d0887"
             ],
             [
              0.1111111111111111,
              "#46039f"
             ],
             [
              0.2222222222222222,
              "#7201a8"
             ],
             [
              0.3333333333333333,
              "#9c179e"
             ],
             [
              0.4444444444444444,
              "#bd3786"
             ],
             [
              0.5555555555555556,
              "#d8576b"
             ],
             [
              0.6666666666666666,
              "#ed7953"
             ],
             [
              0.7777777777777778,
              "#fb9f3a"
             ],
             [
              0.8888888888888888,
              "#fdca26"
             ],
             [
              1,
              "#f0f921"
             ]
            ],
            "type": "heatmapgl"
           }
          ],
          "histogram": [
           {
            "marker": {
             "colorbar": {
              "outlinewidth": 0,
              "ticks": ""
             }
            },
            "type": "histogram"
           }
          ],
          "histogram2d": [
           {
            "colorbar": {
             "outlinewidth": 0,
             "ticks": ""
            },
            "colorscale": [
             [
              0,
              "#0d0887"
             ],
             [
              0.1111111111111111,
              "#46039f"
             ],
             [
              0.2222222222222222,
              "#7201a8"
             ],
             [
              0.3333333333333333,
              "#9c179e"
             ],
             [
              0.4444444444444444,
              "#bd3786"
             ],
             [
              0.5555555555555556,
              "#d8576b"
             ],
             [
              0.6666666666666666,
              "#ed7953"
             ],
             [
              0.7777777777777778,
              "#fb9f3a"
             ],
             [
              0.8888888888888888,
              "#fdca26"
             ],
             [
              1,
              "#f0f921"
             ]
            ],
            "type": "histogram2d"
           }
          ],
          "histogram2dcontour": [
           {
            "colorbar": {
             "outlinewidth": 0,
             "ticks": ""
            },
            "colorscale": [
             [
              0,
              "#0d0887"
             ],
             [
              0.1111111111111111,
              "#46039f"
             ],
             [
              0.2222222222222222,
              "#7201a8"
             ],
             [
              0.3333333333333333,
              "#9c179e"
             ],
             [
              0.4444444444444444,
              "#bd3786"
             ],
             [
              0.5555555555555556,
              "#d8576b"
             ],
             [
              0.6666666666666666,
              "#ed7953"
             ],
             [
              0.7777777777777778,
              "#fb9f3a"
             ],
             [
              0.8888888888888888,
              "#fdca26"
             ],
             [
              1,
              "#f0f921"
             ]
            ],
            "type": "histogram2dcontour"
           }
          ],
          "mesh3d": [
           {
            "colorbar": {
             "outlinewidth": 0,
             "ticks": ""
            },
            "type": "mesh3d"
           }
          ],
          "parcoords": [
           {
            "line": {
             "colorbar": {
              "outlinewidth": 0,
              "ticks": ""
             }
            },
            "type": "parcoords"
           }
          ],
          "pie": [
           {
            "automargin": true,
            "type": "pie"
           }
          ],
          "scatter": [
           {
            "marker": {
             "colorbar": {
              "outlinewidth": 0,
              "ticks": ""
             }
            },
            "type": "scatter"
           }
          ],
          "scatter3d": [
           {
            "line": {
             "colorbar": {
              "outlinewidth": 0,
              "ticks": ""
             }
            },
            "marker": {
             "colorbar": {
              "outlinewidth": 0,
              "ticks": ""
             }
            },
            "type": "scatter3d"
           }
          ],
          "scattercarpet": [
           {
            "marker": {
             "colorbar": {
              "outlinewidth": 0,
              "ticks": ""
             }
            },
            "type": "scattercarpet"
           }
          ],
          "scattergeo": [
           {
            "marker": {
             "colorbar": {
              "outlinewidth": 0,
              "ticks": ""
             }
            },
            "type": "scattergeo"
           }
          ],
          "scattergl": [
           {
            "marker": {
             "colorbar": {
              "outlinewidth": 0,
              "ticks": ""
             }
            },
            "type": "scattergl"
           }
          ],
          "scattermapbox": [
           {
            "marker": {
             "colorbar": {
              "outlinewidth": 0,
              "ticks": ""
             }
            },
            "type": "scattermapbox"
           }
          ],
          "scatterpolar": [
           {
            "marker": {
             "colorbar": {
              "outlinewidth": 0,
              "ticks": ""
             }
            },
            "type": "scatterpolar"
           }
          ],
          "scatterpolargl": [
           {
            "marker": {
             "colorbar": {
              "outlinewidth": 0,
              "ticks": ""
             }
            },
            "type": "scatterpolargl"
           }
          ],
          "scatterternary": [
           {
            "marker": {
             "colorbar": {
              "outlinewidth": 0,
              "ticks": ""
             }
            },
            "type": "scatterternary"
           }
          ],
          "surface": [
           {
            "colorbar": {
             "outlinewidth": 0,
             "ticks": ""
            },
            "colorscale": [
             [
              0,
              "#0d0887"
             ],
             [
              0.1111111111111111,
              "#46039f"
             ],
             [
              0.2222222222222222,
              "#7201a8"
             ],
             [
              0.3333333333333333,
              "#9c179e"
             ],
             [
              0.4444444444444444,
              "#bd3786"
             ],
             [
              0.5555555555555556,
              "#d8576b"
             ],
             [
              0.6666666666666666,
              "#ed7953"
             ],
             [
              0.7777777777777778,
              "#fb9f3a"
             ],
             [
              0.8888888888888888,
              "#fdca26"
             ],
             [
              1,
              "#f0f921"
             ]
            ],
            "type": "surface"
           }
          ],
          "table": [
           {
            "cells": {
             "fill": {
              "color": "#EBF0F8"
             },
             "line": {
              "color": "white"
             }
            },
            "header": {
             "fill": {
              "color": "#C8D4E3"
             },
             "line": {
              "color": "white"
             }
            },
            "type": "table"
           }
          ]
         },
         "layout": {
          "annotationdefaults": {
           "arrowcolor": "#2a3f5f",
           "arrowhead": 0,
           "arrowwidth": 1
          },
          "coloraxis": {
           "colorbar": {
            "outlinewidth": 0,
            "ticks": ""
           }
          },
          "colorscale": {
           "diverging": [
            [
             0,
             "#8e0152"
            ],
            [
             0.1,
             "#c51b7d"
            ],
            [
             0.2,
             "#de77ae"
            ],
            [
             0.3,
             "#f1b6da"
            ],
            [
             0.4,
             "#fde0ef"
            ],
            [
             0.5,
             "#f7f7f7"
            ],
            [
             0.6,
             "#e6f5d0"
            ],
            [
             0.7,
             "#b8e186"
            ],
            [
             0.8,
             "#7fbc41"
            ],
            [
             0.9,
             "#4d9221"
            ],
            [
             1,
             "#276419"
            ]
           ],
           "sequential": [
            [
             0,
             "#0d0887"
            ],
            [
             0.1111111111111111,
             "#46039f"
            ],
            [
             0.2222222222222222,
             "#7201a8"
            ],
            [
             0.3333333333333333,
             "#9c179e"
            ],
            [
             0.4444444444444444,
             "#bd3786"
            ],
            [
             0.5555555555555556,
             "#d8576b"
            ],
            [
             0.6666666666666666,
             "#ed7953"
            ],
            [
             0.7777777777777778,
             "#fb9f3a"
            ],
            [
             0.8888888888888888,
             "#fdca26"
            ],
            [
             1,
             "#f0f921"
            ]
           ],
           "sequentialminus": [
            [
             0,
             "#0d0887"
            ],
            [
             0.1111111111111111,
             "#46039f"
            ],
            [
             0.2222222222222222,
             "#7201a8"
            ],
            [
             0.3333333333333333,
             "#9c179e"
            ],
            [
             0.4444444444444444,
             "#bd3786"
            ],
            [
             0.5555555555555556,
             "#d8576b"
            ],
            [
             0.6666666666666666,
             "#ed7953"
            ],
            [
             0.7777777777777778,
             "#fb9f3a"
            ],
            [
             0.8888888888888888,
             "#fdca26"
            ],
            [
             1,
             "#f0f921"
            ]
           ]
          },
          "colorway": [
           "#636efa",
           "#EF553B",
           "#00cc96",
           "#ab63fa",
           "#FFA15A",
           "#19d3f3",
           "#FF6692",
           "#B6E880",
           "#FF97FF",
           "#FECB52"
          ],
          "font": {
           "color": "#2a3f5f"
          },
          "geo": {
           "bgcolor": "white",
           "lakecolor": "white",
           "landcolor": "#E5ECF6",
           "showlakes": true,
           "showland": true,
           "subunitcolor": "white"
          },
          "hoverlabel": {
           "align": "left"
          },
          "hovermode": "closest",
          "mapbox": {
           "style": "light"
          },
          "paper_bgcolor": "white",
          "plot_bgcolor": "#E5ECF6",
          "polar": {
           "angularaxis": {
            "gridcolor": "white",
            "linecolor": "white",
            "ticks": ""
           },
           "bgcolor": "#E5ECF6",
           "radialaxis": {
            "gridcolor": "white",
            "linecolor": "white",
            "ticks": ""
           }
          },
          "scene": {
           "xaxis": {
            "backgroundcolor": "#E5ECF6",
            "gridcolor": "white",
            "gridwidth": 2,
            "linecolor": "white",
            "showbackground": true,
            "ticks": "",
            "zerolinecolor": "white"
           },
           "yaxis": {
            "backgroundcolor": "#E5ECF6",
            "gridcolor": "white",
            "gridwidth": 2,
            "linecolor": "white",
            "showbackground": true,
            "ticks": "",
            "zerolinecolor": "white"
           },
           "zaxis": {
            "backgroundcolor": "#E5ECF6",
            "gridcolor": "white",
            "gridwidth": 2,
            "linecolor": "white",
            "showbackground": true,
            "ticks": "",
            "zerolinecolor": "white"
           }
          },
          "shapedefaults": {
           "line": {
            "color": "#2a3f5f"
           }
          },
          "ternary": {
           "aaxis": {
            "gridcolor": "white",
            "linecolor": "white",
            "ticks": ""
           },
           "baxis": {
            "gridcolor": "white",
            "linecolor": "white",
            "ticks": ""
           },
           "bgcolor": "#E5ECF6",
           "caxis": {
            "gridcolor": "white",
            "linecolor": "white",
            "ticks": ""
           }
          },
          "title": {
           "x": 0.05
          },
          "xaxis": {
           "automargin": true,
           "gridcolor": "white",
           "linecolor": "white",
           "ticks": "",
           "title": {
            "standoff": 15
           },
           "zerolinecolor": "white",
           "zerolinewidth": 2
          },
          "yaxis": {
           "automargin": true,
           "gridcolor": "white",
           "linecolor": "white",
           "ticks": "",
           "title": {
            "standoff": 15
           },
           "zerolinecolor": "white",
           "zerolinewidth": 2
          }
         }
        },
        "width": 700,
        "xaxis": {
         "rangeslider": {
          "visible": false
         },
         "showgrid": true
        },
        "yaxis": {
         "domain": [
          0,
          0.33
         ],
         "showgrid": true
        },
        "yaxis2": {
         "domain": [
          0.33,
          1
         ]
        }
       },
       "_model_module_version": "1.5.0",
       "_py2js_animate": {},
       "_py2js_deleteTraces": {},
       "_py2js_moveTraces": {},
       "_py2js_removeLayoutProps": {},
       "_py2js_removeTraceProps": {},
       "_py2js_restyle": {},
       "_view_count": 0,
       "_view_module_version": "1.5.0"
      }
     },
     "7c81dc9f632846b9b505d6b60c5fb894": {
      "buffers": [
       {
        "data": "gBokh5tjkz+eSlHfZvnqP661PRE9MP0/jmuMe5dm6T/CGEh5uBsAQC7/OnrVNOw/cORwGbQW0j+epAxHKJ38P4T2g5Z3bP0/S9cU0LUP8j+lNsgMjx/Vv+AAYtRoytW/drCbHa678D8YYyq9T87xP+gSSoehMQVA3mF//expAUBRYkSVtcb5P25FeTooVwBA8inLExwICkDEY8vbFCv7P1K566hHDQtA/XHFBZQyC0DJWpFkoJoEQEMw2t9sGAtADDlQVoCaCkA9s0furQgOQKjP4yAdXghAtJ6VfBKbE0DMhuQbexATQOQzE3mo4hRAchBaQIakEEDNOvwT5WYMQPxiGZJ+HQxAejw2ZckbEkDKkRII+eUSQI2rxJW01hVAAPG8HGWTCkCNqP/z5zgCQOA0GM+3DApAYmfNWX0LA0BTFlO5KZMFQBjGaYGIGRBAF9I6Ayn9E0CruVoK5bsPQOT2E9ENFxdAbR7TEK/cFkD5HlVXRo8SQCIBax/OqhFAWc98mDCxGUCYoZWYYH0ZQAqvtlZFlx5AE3D1377UGkBIu8YBN+0eQNRSnz55/yBAyBFkA3NRG0BOx1i7xngeQGYJjd4uQhlAhqk+Pq5uHkAuHNXOGMsYQIAzs/ntNhZAQc3OsGJIGEAVxZV28sYXQEimq+/Nlx9AnKCOherlFkD9rJdncwseQMbxtfeBRiFAVCGLIJiMHkA43DqwsbwcQBNhCw3MOSFAzklZ3zIAH0C+PjaQ2FkbQNC5w+DTjBxAjngsr3OuIECyp40ZjXMaQOsB6aKgTB1AHRy0HzxRG0Duw8aV/vwhQHGzdCH10iBAd7IYt9mcIECHK+vi6D4iQJf/Ly5rkxxAjmeZ4IVFGkDi8Ii+wnAZQD3LOLyUyRpAjUtH06fDFUBMgKnl8KITQDUUDHUo8hlA8OFwC9vYFkDX+F6kwhYVQIqLBBw0yxhA6iGzM3ZeGEDIMMIyHEceQPAx4JI9Bh5A1MFuYrkJHECuEWS0GQAhQA0Mmyl6niFAe+xf7wDPIkBeef/Z+NghQHO3NjDcQSNANoV7DiBxIUA=",
        "encoding": "base64",
        "path": [
         "_data",
         0,
         "close",
         "value"
        ]
       },
       {
        "data": "ZxYBuOVe7j82DVOUo/X7PztW7lJ4f/E/GzZv0cBwAECnYToYV8b8P7vMSxdIzPs/1IushO6V+z/h1ClBlBX4P32f7fFsoABAaDn/G9Xj9j93YsDgEkzwP80r9MZMP+c/o39iX2j+5z9mvEGblQz1P2kO4iQ6rwBAdCzb2F3fAEAC0d2NOtgAQADscKyooQlACk1LFZRRD0C9hxrtF2sDQEmfr8lS1ApADamBm1GdDEAbfBbTBYwDQN60f5xh2AZAX3HR4gdUDUCI0GBW95AJQM5JZ90GIxJAXtQYmVPxE0Dwa2u1AV0RQO2+/nsW2BRAjPnblkA+FkCWWuNwRS0VQM4jlkO1cBNAuLTsDpYgFUBYvAl35UQWQJhZMATiQRJACjAJsakgEkCKy7cDoyEKQFouF4lv1xBAMojTZgxDDEAMIKypc8QMQIAeWTOrVRFAdGcvG54yFEBuzlNu9/wRQCk3QhjbQxVAKIcA5xbuFEAOp+83tBIXQOMSBMdgthdAfAloQZ41F0BIiW7T1kkbQLETIn9fthxAnd/BnLvRHkA5kUonhkYfQC09p8NJvSFArL5nwbqDIEByMlVwn/kdQOUKCU7HOR5A1vutp9FXHkDgheztpAUbQNZn79Y2ERxAguq24nNIF0CigsD2fCcZQBwURtEYdhxAks0Qk7oGHkBrr0I7ztodQHgtTY0lBiFAxOkrWbf1IEC3Lsa0jqsbQAhHe5ur1yBA395Fl2prH0AwffO62+cgQGsKYzoJPR1A6t/0Kb32IEAVoUyxKMUeQCTfMBrTDSBAw3NOliuBH0DKyHraHDEhQPVS+jijBSJA4O4kpf6GIkC/MHD2LN4hQAJsTPmPKSFA9or5c94fIEC97o8twPYfQKmMg+i9uh9AHE0zBQuWG0Cuqr1PfO8YQKEAElKl7RhA3MTBowsyGkDDwp4Jy8MaQAE6mcUSWRxAOlsVV07MHkDqp0oL/lYeQDlIihLtHB5Am3lbT2ihHkDdt1ocf1QhQPNvlrYPPyJAZV47H4dDIUB/8FfizxEiQAO3X0Os/iJACkPMx+qLIUA=",
        "encoding": "base64",
        "path": [
         "_data",
         0,
         "high",
         "value"
        ]
       },
       {
        "data": "WomvtDkE0D9ieev52y/wP3Ve2gUEreE/yGF/TH+68D/Yur03pN3iP5/vrA3rSOg/DqDnpJ5V0T+w5tBJ1xnVP1xDL6XzBuA/FBeOdE1Lz7/JjYvO3AffvwRmNvyih8E/0L/vKiDvsD86KnoG9irQP8s8dJP0PPM/m8x/e6AE6j9gqutu7U33PxYbM0K5Vfk/hCUu+AETAkCJ+cOZVOz5Pwfi4WVPPQJAlNyZtfwWBkCBT/K2iHX1PwGStwbAJQBAIa83d+MeBUAAKXak6kUFQMITz0QGBAZAtFiXHm+3EEAmu7Xw8HQMQJ5IYMY57A9AQE4+MV9AEkAOQ+h3HDMMQHawzkkGXgtAMz1Bxq+LEEAK/yWB+FMTQPMS+cNxDAxAVvQKuaIKB0BDaSGqW50HQFSLKe87ZgtA7GPREdjGAUCXn3xdHuMEQN6HPx8iQwVA/m1CZMdpD0CYWV61PfUKQISkCWqYhRJASzUHSxSzE0An1ZXZJFMRQCXOtkmUThRA7b7/adhZFEChngDKe5cYQI9YeK6woBdAnHC8L9rEGEDN3dfI3P8cQLSyim96zh1AfS4SZyjMHkCRYaRMio4dQO6HMKZ4/RlAF7faDP6cGEDOlqmUnikYQHER3sR21RZAdp1Xo063EkCPB3KmqIoXQBU6uAWIehhA2BqGlEH1F0AWfUzLXz0dQM+6V4UbCB1As7JMj3pAGkDPtecgZ6QaQGOrOFrh0B5ASMKVdbwIGUBRIap1jKYdQFYshdGEnhdAGuW4b2zgHECG3cx4NbQbQL1ckWP1ERxAzZG66HeHHEAFWXWxItwgQOQTnYuZgCBAlRiZ8TgWIEC+nVrdhQUgQC6IDkms8h5ALl/rY91OGkCJpQHPRLQcQK6jK0j+ZBhAzPmuM7SlFkAepDUFTSwUQM8HCHkUUxdARDH1mX1yFUDTCmvxZp8XQEk5EEMxtRpAs2yOCneUGkCjPgCxCCwbQOUUqqR/HRlAYdKtF6wfHUCzWeUysYcdQF4RguAbpCBAggNM6j2QHkAPARLaJkkfQA0N0KPLVyBAnZFBczENIEA=",
        "encoding": "base64",
        "path": [
         "_data",
         0,
         "low",
         "value"
        ]
       },
       {
        "data": "OMbSv1lY4z90G6a2iF/xPzpUYS8mfPE/2UCkzMK+9T9AERlgt97wPyQyDsY+Afc/7rLXDcaq8z9QrMKrmtvxPxBi0Nvu8PI/jBnwiCeN3j/Y+zkPRdWhP1qmWxsMYuM/4OYIvg3U2j8RGQB4xCXwP2BbEUHz0fo/AmttbCsc9z9SMz0EfKr9PwmFFZl+sAFA22sIkHgtCUADkHWoPvYCQHxa1lhhUwlAH0w2T0o/BkCYSBR6bwwBQDx92rLEywNANoHbCmnECUBpjfxbkc4HQKqXA+AIAQ1A1tmB8evDEEACVbbJi08PQMV1DoV8hxNAA5m1r1SYFEDsfyLyEe8RQMCCutCimhFANRAW3gS6EkBSGomGdSUVQPZ/P8Sg+BFAWnkbFWU3DkDxN4BXNwgIQH0hdTNTHAxAokfXcBFvB0BoWqS1JbUIQGwPRkVOQg1Aj5JjuYuUEUBR0mLHsiMRQL/X1wz1ZhNAfQCtqd/aFEC8fVBIyA0UQKLn38NQ7RRASDAMvGW5FkCwwDF2igcaQKQp4xHu4BpAIqwBlNb7GkCKWwsYiU8eQLJPX6UhnyBAYtMgK1jfHkDsalu4Ia0dQOjaBPkf8hxAqfmzlwq3G0AmLRcNWtMZQHxaSy14OhlAyqDFUGosFkCOmBgP0JsYQCDsXrv4BxxAoKOyE+SDGkD+1TxXWLUdQCIJ63J8sR5ADWuNLY8UHkDHBa+SvnQbQEgJ9Sg4FB9A46UH2egDHEB48GyWbW8eQO53nHJpXhtAcFRE4lW9HkBBrczpFpocQFoOcgOLsh1A/ChqHCytHkBSXNBmPw0hQIcpI33TiyBAFh7sbA3yIUCezloBywAhQB4lT3XqHh9AtXhF1p/gHUC7kgTvhgUdQJ4r9sadCRxAHEvxDcELGUBNbXwzNUcXQA9b51HpCBhAS3AncTf7GEBWf9OEKBgYQEsy1CjlvxpATrwiyihEHEAnUw/MeU0cQDCBg5Y1tBxAclGskhR3HkCtuXo5BtseQJbdus1IRyFAtn9vZ4LZIEAmmgQAMosgQCk3X6/SdyFAPx7OwMVXIEA=",
        "encoding": "base64",
        "path": [
         "_data",
         0,
         "open",
         "value"
        ]
       },
       {
        "data": "XE/IZ5IU6L+R5mWdiBz0v4JErLN7vADAS95kp/Ro9b8ihXIiC3oAwI2SzsYZuP+/nGq6ybzCBsBKdjNr/2EFwCgAijx+OPu/Sb6RxhKZAMAp7OHjfaPxv9483/bTa/W/BmmWTBmKAMA9u0ej8eT1v+4bAmcfhfO/toXV7QGI4r9IlthbmEbzvyKObeqc0/q/n3Fd25ED9L+Eg4EqRNz6vwgjGKxDJea/QC++wAKp2L8E6Q25Zr/av69NqcED//S/ek8YZFST+b8+vFir41vsv7hjNjdCkfm/53q9zmeV+r9wD9kuRxDmv26lKCdeK+i/KCSau21p0r/QhGrw11bJPzS7egM9edW/5J8SaPm6878Y6iXHxqjjvwiTmsXCtcC/Km2C1BO7578aW1pnlTXpvwIlDweDCuW/hmjVxztb4781J1IyJWv1v8yzLm/8Nt+/gG2VEIQ4gT/IlaSXtNLhv5iv6Qv1FfO/vSLVj4gJ+r+suIOjHpP3vyElD4F6B/S/0NDfF8d48b/I61zyLTDmv7bjse+Vhu2/vBN4hHzq8L8D8+CBPgDzv+4KoOUqNPO/PrL33YvSAMAeuW1eOUD8vxBhYckOD/W/0ONPNvQg8L/oC842qsf9v7bOm4a8k/2/3vZW8fuUBcCKI/U13FkBwCaxnmcz8fO/4TiC09QsAMCbHMDGL0kHwFwhNV+38gLA3HBkoZ4W+L/+2xSRTeb5v7CB9iMHXPq/uEaR2lL38b9peW70GXP8v+RFIrHJUATAfjjDUJsM/L+fZQ1BMub+vyDzuTR6ZgbAgmw/OT+Q/78bkxOR383yv24NK4u0QeK/uEIIlkY9wL+wSYia+zHtv5/0qDY9lvC/lUBQFhO6/L/qBD7Ivx0AwIr2GRnv1Pa/zmqDrQKcAMC5+spp6F77v8IPI6fLMADAcFuLySMC8782/uA7ayrwv43mwIacOPK/xerDYsav+r/ZhRl9H6P0v5BH/BG27d2/PGtoo5Rn0D9ALv6LpequP0hQRUUosdY/B1OQ5H048T+xJMkE0gb8P3NSpSpfo/s/i6Q+ZuY98T8=",
        "encoding": "base64",
        "path": [
         "_data",
         1,
         "y",
         "value"
        ]
       }
      ],
      "model_module": "plotlywidget",
      "model_module_version": "1.5.0",
      "model_name": "FigureModel",
      "state": {
       "_config": {
        "plotlyServerURL": "https://plot.ly"
       },
       "_data": [
        {
         "close": {
          "dtype": "float64",
          "shape": [
           100
          ]
         },
         "high": {
          "dtype": "float64",
          "shape": [
           100
          ]
         },
         "low": {
          "dtype": "float64",
          "shape": [
           100
          ]
         },
         "name": "OHLC",
         "open": {
          "dtype": "float64",
          "shape": [
           100
          ]
         },
         "type": "candlestick",
         "uid": "04afb6ad-a373-458b-8417-d09f7100ef71",
         "x": [
          "2018-01-01T00:00:00.000000",
          "2018-01-02T00:00:00.000000",
          "2018-01-03T00:00:00.000000",
          "2018-01-04T00:00:00.000000",
          "2018-01-05T00:00:00.000000",
          "2018-01-06T00:00:00.000000",
          "2018-01-07T00:00:00.000000",
          "2018-01-08T00:00:00.000000",
          "2018-01-09T00:00:00.000000",
          "2018-01-10T00:00:00.000000",
          "2018-01-11T00:00:00.000000",
          "2018-01-12T00:00:00.000000",
          "2018-01-13T00:00:00.000000",
          "2018-01-14T00:00:00.000000",
          "2018-01-15T00:00:00.000000",
          "2018-01-16T00:00:00.000000",
          "2018-01-17T00:00:00.000000",
          "2018-01-18T00:00:00.000000",
          "2018-01-19T00:00:00.000000",
          "2018-01-20T00:00:00.000000",
          "2018-01-21T00:00:00.000000",
          "2018-01-22T00:00:00.000000",
          "2018-01-23T00:00:00.000000",
          "2018-01-24T00:00:00.000000",
          "2018-01-25T00:00:00.000000",
          "2018-01-26T00:00:00.000000",
          "2018-01-27T00:00:00.000000",
          "2018-01-28T00:00:00.000000",
          "2018-01-29T00:00:00.000000",
          "2018-01-30T00:00:00.000000",
          "2018-01-31T00:00:00.000000",
          "2018-02-01T00:00:00.000000",
          "2018-02-02T00:00:00.000000",
          "2018-02-03T00:00:00.000000",
          "2018-02-04T00:00:00.000000",
          "2018-02-05T00:00:00.000000",
          "2018-02-06T00:00:00.000000",
          "2018-02-07T00:00:00.000000",
          "2018-02-08T00:00:00.000000",
          "2018-02-09T00:00:00.000000",
          "2018-02-10T00:00:00.000000",
          "2018-02-11T00:00:00.000000",
          "2018-02-12T00:00:00.000000",
          "2018-02-13T00:00:00.000000",
          "2018-02-14T00:00:00.000000",
          "2018-02-15T00:00:00.000000",
          "2018-02-16T00:00:00.000000",
          "2018-02-17T00:00:00.000000",
          "2018-02-18T00:00:00.000000",
          "2018-02-19T00:00:00.000000",
          "2018-02-20T00:00:00.000000",
          "2018-02-21T00:00:00.000000",
          "2018-02-22T00:00:00.000000",
          "2018-02-23T00:00:00.000000",
          "2018-02-24T00:00:00.000000",
          "2018-02-25T00:00:00.000000",
          "2018-02-26T00:00:00.000000",
          "2018-02-27T00:00:00.000000",
          "2018-02-28T00:00:00.000000",
          "2018-03-01T00:00:00.000000",
          "2018-03-02T00:00:00.000000",
          "2018-03-03T00:00:00.000000",
          "2018-03-04T00:00:00.000000",
          "2018-03-05T00:00:00.000000",
          "2018-03-06T00:00:00.000000",
          "2018-03-07T00:00:00.000000",
          "2018-03-08T00:00:00.000000",
          "2018-03-09T00:00:00.000000",
          "2018-03-10T00:00:00.000000",
          "2018-03-11T00:00:00.000000",
          "2018-03-12T00:00:00.000000",
          "2018-03-13T00:00:00.000000",
          "2018-03-14T00:00:00.000000",
          "2018-03-15T00:00:00.000000",
          "2018-03-16T00:00:00.000000",
          "2018-03-17T00:00:00.000000",
          "2018-03-18T00:00:00.000000",
          "2018-03-19T00:00:00.000000",
          "2018-03-20T00:00:00.000000",
          "2018-03-21T00:00:00.000000",
          "2018-03-22T00:00:00.000000",
          "2018-03-23T00:00:00.000000",
          "2018-03-24T00:00:00.000000",
          "2018-03-25T00:00:00.000000",
          "2018-03-26T00:00:00.000000",
          "2018-03-27T00:00:00.000000",
          "2018-03-28T00:00:00.000000",
          "2018-03-29T00:00:00.000000",
          "2018-03-30T00:00:00.000000",
          "2018-03-31T00:00:00.000000",
          "2018-04-01T00:00:00.000000",
          "2018-04-02T00:00:00.000000",
          "2018-04-03T00:00:00.000000",
          "2018-04-04T00:00:00.000000",
          "2018-04-05T00:00:00.000000",
          "2018-04-06T00:00:00.000000",
          "2018-04-07T00:00:00.000000",
          "2018-04-08T00:00:00.000000",
          "2018-04-09T00:00:00.000000",
          "2018-04-10T00:00:00.000000"
         ],
         "xaxis": "x",
         "yaxis": "y2"
        },
        {
         "marker": {
          "color": [
           "red",
           "red",
           "green",
           "red",
           "green",
           "red",
           "red",
           "green",
           "green",
           "green",
           "red",
           "red",
           "green",
           "green",
           "green",
           "green",
           "red",
           "red",
           "green",
           "red",
           "green",
           "green",
           "green",
           "green",
           "green",
           "green",
           "red",
           "green",
           "green",
           "green",
           "red",
           "red",
           "red",
           "red",
           "red",
           "green",
           "red",
           "red",
           "red",
           "red",
           "red",
           "green",
           "green",
           "red",
           "green",
           "green",
           "red",
           "red",
           "green",
           "red",
           "green",
           "red",
           "green",
           "green",
           "red",
           "green",
           "red",
           "green",
           "red",
           "red",
           "green",
           "red",
           "green",
           "red",
           "green",
           "green",
           "green",
           "green",
           "green",
           "green",
           "red",
           "green",
           "green",
           "red",
           "red",
           "red",
           "green",
           "green",
           "red",
           "green",
           "red",
           "red",
           "red",
           "red",
           "red",
           "red",
           "green",
           "red",
           "red",
           "red",
           "red",
           "green",
           "green",
           "red",
           "green",
           "green",
           "green",
           "green",
           "green",
           "green"
          ],
          "line": {
           "width": 0
          }
         },
         "name": "Volume",
         "type": "bar",
         "uid": "a12c022b-61d5-4965-85b3-e88071717d49",
         "x": [
          "2018-01-01T00:00:00.000000",
          "2018-01-02T00:00:00.000000",
          "2018-01-03T00:00:00.000000",
          "2018-01-04T00:00:00.000000",
          "2018-01-05T00:00:00.000000",
          "2018-01-06T00:00:00.000000",
          "2018-01-07T00:00:00.000000",
          "2018-01-08T00:00:00.000000",
          "2018-01-09T00:00:00.000000",
          "2018-01-10T00:00:00.000000",
          "2018-01-11T00:00:00.000000",
          "2018-01-12T00:00:00.000000",
          "2018-01-13T00:00:00.000000",
          "2018-01-14T00:00:00.000000",
          "2018-01-15T00:00:00.000000",
          "2018-01-16T00:00:00.000000",
          "2018-01-17T00:00:00.000000",
          "2018-01-18T00:00:00.000000",
          "2018-01-19T00:00:00.000000",
          "2018-01-20T00:00:00.000000",
          "2018-01-21T00:00:00.000000",
          "2018-01-22T00:00:00.000000",
          "2018-01-23T00:00:00.000000",
          "2018-01-24T00:00:00.000000",
          "2018-01-25T00:00:00.000000",
          "2018-01-26T00:00:00.000000",
          "2018-01-27T00:00:00.000000",
          "2018-01-28T00:00:00.000000",
          "2018-01-29T00:00:00.000000",
          "2018-01-30T00:00:00.000000",
          "2018-01-31T00:00:00.000000",
          "2018-02-01T00:00:00.000000",
          "2018-02-02T00:00:00.000000",
          "2018-02-03T00:00:00.000000",
          "2018-02-04T00:00:00.000000",
          "2018-02-05T00:00:00.000000",
          "2018-02-06T00:00:00.000000",
          "2018-02-07T00:00:00.000000",
          "2018-02-08T00:00:00.000000",
          "2018-02-09T00:00:00.000000",
          "2018-02-10T00:00:00.000000",
          "2018-02-11T00:00:00.000000",
          "2018-02-12T00:00:00.000000",
          "2018-02-13T00:00:00.000000",
          "2018-02-14T00:00:00.000000",
          "2018-02-15T00:00:00.000000",
          "2018-02-16T00:00:00.000000",
          "2018-02-17T00:00:00.000000",
          "2018-02-18T00:00:00.000000",
          "2018-02-19T00:00:00.000000",
          "2018-02-20T00:00:00.000000",
          "2018-02-21T00:00:00.000000",
          "2018-02-22T00:00:00.000000",
          "2018-02-23T00:00:00.000000",
          "2018-02-24T00:00:00.000000",
          "2018-02-25T00:00:00.000000",
          "2018-02-26T00:00:00.000000",
          "2018-02-27T00:00:00.000000",
          "2018-02-28T00:00:00.000000",
          "2018-03-01T00:00:00.000000",
          "2018-03-02T00:00:00.000000",
          "2018-03-03T00:00:00.000000",
          "2018-03-04T00:00:00.000000",
          "2018-03-05T00:00:00.000000",
          "2018-03-06T00:00:00.000000",
          "2018-03-07T00:00:00.000000",
          "2018-03-08T00:00:00.000000",
          "2018-03-09T00:00:00.000000",
          "2018-03-10T00:00:00.000000",
          "2018-03-11T00:00:00.000000",
          "2018-03-12T00:00:00.000000",
          "2018-03-13T00:00:00.000000",
          "2018-03-14T00:00:00.000000",
          "2018-03-15T00:00:00.000000",
          "2018-03-16T00:00:00.000000",
          "2018-03-17T00:00:00.000000",
          "2018-03-18T00:00:00.000000",
          "2018-03-19T00:00:00.000000",
          "2018-03-20T00:00:00.000000",
          "2018-03-21T00:00:00.000000",
          "2018-03-22T00:00:00.000000",
          "2018-03-23T00:00:00.000000",
          "2018-03-24T00:00:00.000000",
          "2018-03-25T00:00:00.000000",
          "2018-03-26T00:00:00.000000",
          "2018-03-27T00:00:00.000000",
          "2018-03-28T00:00:00.000000",
          "2018-03-29T00:00:00.000000",
          "2018-03-30T00:00:00.000000",
          "2018-03-31T00:00:00.000000",
          "2018-04-01T00:00:00.000000",
          "2018-04-02T00:00:00.000000",
          "2018-04-03T00:00:00.000000",
          "2018-04-04T00:00:00.000000",
          "2018-04-05T00:00:00.000000",
          "2018-04-06T00:00:00.000000",
          "2018-04-07T00:00:00.000000",
          "2018-04-08T00:00:00.000000",
          "2018-04-09T00:00:00.000000",
          "2018-04-10T00:00:00.000000"
         ],
         "xaxis": "x",
         "y": {
          "dtype": "float64",
          "shape": [
           100
          ]
         },
         "yaxis": "y"
        }
       ],
       "_js2py_layoutDelta": {},
       "_js2py_pointsCallback": {},
       "_js2py_relayout": {},
       "_js2py_restyle": {},
       "_js2py_traceDeltas": {},
       "_js2py_update": {},
       "_last_layout_edit_id": 5,
       "_last_trace_edit_id": 5,
       "_layout": {
        "autosize": false,
        "colorway": [
         "#1f77b4",
         "#ff7f0e",
         "#2ca02c",
         "#d62728",
         "#9467bd",
         "#8c564b",
         "#e377c2",
         "#7f7f7f",
         "#bcbd22",
         "#17becf"
        ],
        "height": 300,
        "hovermode": "closest",
        "margin": {
         "b": 30,
         "t": 30
        },
        "showlegend": true,
        "template": {
         "data": {
          "bar": [
           {
            "error_x": {
             "color": "#2a3f5f"
            },
            "error_y": {
             "color": "#2a3f5f"
            },
            "marker": {
             "line": {
              "color": "#E5ECF6",
              "width": 0.5
             }
            },
            "type": "bar"
           }
          ],
          "barpolar": [
           {
            "marker": {
             "line": {
              "color": "#E5ECF6",
              "width": 0.5
             }
            },
            "type": "barpolar"
           }
          ],
          "carpet": [
           {
            "aaxis": {
             "endlinecolor": "#2a3f5f",
             "gridcolor": "white",
             "linecolor": "white",
             "minorgridcolor": "white",
             "startlinecolor": "#2a3f5f"
            },
            "baxis": {
             "endlinecolor": "#2a3f5f",
             "gridcolor": "white",
             "linecolor": "white",
             "minorgridcolor": "white",
             "startlinecolor": "#2a3f5f"
            },
            "type": "carpet"
           }
          ],
          "choropleth": [
           {
            "colorbar": {
             "outlinewidth": 0,
             "ticks": ""
            },
            "type": "choropleth"
           }
          ],
          "contour": [
           {
            "colorbar": {
             "outlinewidth": 0,
             "ticks": ""
            },
            "colorscale": [
             [
              0,
              "#0d0887"
             ],
             [
              0.1111111111111111,
              "#46039f"
             ],
             [
              0.2222222222222222,
              "#7201a8"
             ],
             [
              0.3333333333333333,
              "#9c179e"
             ],
             [
              0.4444444444444444,
              "#bd3786"
             ],
             [
              0.5555555555555556,
              "#d8576b"
             ],
             [
              0.6666666666666666,
              "#ed7953"
             ],
             [
              0.7777777777777778,
              "#fb9f3a"
             ],
             [
              0.8888888888888888,
              "#fdca26"
             ],
             [
              1,
              "#f0f921"
             ]
            ],
            "type": "contour"
           }
          ],
          "contourcarpet": [
           {
            "colorbar": {
             "outlinewidth": 0,
             "ticks": ""
            },
            "type": "contourcarpet"
           }
          ],
          "heatmap": [
           {
            "colorbar": {
             "outlinewidth": 0,
             "ticks": ""
            },
            "colorscale": [
             [
              0,
              "#0d0887"
             ],
             [
              0.1111111111111111,
              "#46039f"
             ],
             [
              0.2222222222222222,
              "#7201a8"
             ],
             [
              0.3333333333333333,
              "#9c179e"
             ],
             [
              0.4444444444444444,
              "#bd3786"
             ],
             [
              0.5555555555555556,
              "#d8576b"
             ],
             [
              0.6666666666666666,
              "#ed7953"
             ],
             [
              0.7777777777777778,
              "#fb9f3a"
             ],
             [
              0.8888888888888888,
              "#fdca26"
             ],
             [
              1,
              "#f0f921"
             ]
            ],
            "type": "heatmap"
           }
          ],
          "heatmapgl": [
           {
            "colorbar": {
             "outlinewidth": 0,
             "ticks": ""
            },
            "colorscale": [
             [
              0,
              "#0d0887"
             ],
             [
              0.1111111111111111,
              "#46039f"
             ],
             [
              0.2222222222222222,
              "#7201a8"
             ],
             [
              0.3333333333333333,
              "#9c179e"
             ],
             [
              0.4444444444444444,
              "#bd3786"
             ],
             [
              0.5555555555555556,
              "#d8576b"
             ],
             [
              0.6666666666666666,
              "#ed7953"
             ],
             [
              0.7777777777777778,
              "#fb9f3a"
             ],
             [
              0.8888888888888888,
              "#fdca26"
             ],
             [
              1,
              "#f0f921"
             ]
            ],
            "type": "heatmapgl"
           }
          ],
          "histogram": [
           {
            "marker": {
             "colorbar": {
              "outlinewidth": 0,
              "ticks": ""
             }
            },
            "type": "histogram"
           }
          ],
          "histogram2d": [
           {
            "colorbar": {
             "outlinewidth": 0,
             "ticks": ""
            },
            "colorscale": [
             [
              0,
              "#0d0887"
             ],
             [
              0.1111111111111111,
              "#46039f"
             ],
             [
              0.2222222222222222,
              "#7201a8"
             ],
             [
              0.3333333333333333,
              "#9c179e"
             ],
             [
              0.4444444444444444,
              "#bd3786"
             ],
             [
              0.5555555555555556,
              "#d8576b"
             ],
             [
              0.6666666666666666,
              "#ed7953"
             ],
             [
              0.7777777777777778,
              "#fb9f3a"
             ],
             [
              0.8888888888888888,
              "#fdca26"
             ],
             [
              1,
              "#f0f921"
             ]
            ],
            "type": "histogram2d"
           }
          ],
          "histogram2dcontour": [
           {
            "colorbar": {
             "outlinewidth": 0,
             "ticks": ""
            },
            "colorscale": [
             [
              0,
              "#0d0887"
             ],
             [
              0.1111111111111111,
              "#46039f"
             ],
             [
              0.2222222222222222,
              "#7201a8"
             ],
             [
              0.3333333333333333,
              "#9c179e"
             ],
             [
              0.4444444444444444,
              "#bd3786"
             ],
             [
              0.5555555555555556,
              "#d8576b"
             ],
             [
              0.6666666666666666,
              "#ed7953"
             ],
             [
              0.7777777777777778,
              "#fb9f3a"
             ],
             [
              0.8888888888888888,
              "#fdca26"
             ],
             [
              1,
              "#f0f921"
             ]
            ],
            "type": "histogram2dcontour"
           }
          ],
          "mesh3d": [
           {
            "colorbar": {
             "outlinewidth": 0,
             "ticks": ""
            },
            "type": "mesh3d"
           }
          ],
          "parcoords": [
           {
            "line": {
             "colorbar": {
              "outlinewidth": 0,
              "ticks": ""
             }
            },
            "type": "parcoords"
           }
          ],
          "pie": [
           {
            "automargin": true,
            "type": "pie"
           }
          ],
          "scatter": [
           {
            "marker": {
             "colorbar": {
              "outlinewidth": 0,
              "ticks": ""
             }
            },
            "type": "scatter"
           }
          ],
          "scatter3d": [
           {
            "line": {
             "colorbar": {
              "outlinewidth": 0,
              "ticks": ""
             }
            },
            "marker": {
             "colorbar": {
              "outlinewidth": 0,
              "ticks": ""
             }
            },
            "type": "scatter3d"
           }
          ],
          "scattercarpet": [
           {
            "marker": {
             "colorbar": {
              "outlinewidth": 0,
              "ticks": ""
             }
            },
            "type": "scattercarpet"
           }
          ],
          "scattergeo": [
           {
            "marker": {
             "colorbar": {
              "outlinewidth": 0,
              "ticks": ""
             }
            },
            "type": "scattergeo"
           }
          ],
          "scattergl": [
           {
            "marker": {
             "colorbar": {
              "outlinewidth": 0,
              "ticks": ""
             }
            },
            "type": "scattergl"
           }
          ],
          "scattermapbox": [
           {
            "marker": {
             "colorbar": {
              "outlinewidth": 0,
              "ticks": ""
             }
            },
            "type": "scattermapbox"
           }
          ],
          "scatterpolar": [
           {
            "marker": {
             "colorbar": {
              "outlinewidth": 0,
              "ticks": ""
             }
            },
            "type": "scatterpolar"
           }
          ],
          "scatterpolargl": [
           {
            "marker": {
             "colorbar": {
              "outlinewidth": 0,
              "ticks": ""
             }
            },
            "type": "scatterpolargl"
           }
          ],
          "scatterternary": [
           {
            "marker": {
             "colorbar": {
              "outlinewidth": 0,
              "ticks": ""
             }
            },
            "type": "scatterternary"
           }
          ],
          "surface": [
           {
            "colorbar": {
             "outlinewidth": 0,
             "ticks": ""
            },
            "colorscale": [
             [
              0,
              "#0d0887"
             ],
             [
              0.1111111111111111,
              "#46039f"
             ],
             [
              0.2222222222222222,
              "#7201a8"
             ],
             [
              0.3333333333333333,
              "#9c179e"
             ],
             [
              0.4444444444444444,
              "#bd3786"
             ],
             [
              0.5555555555555556,
              "#d8576b"
             ],
             [
              0.6666666666666666,
              "#ed7953"
             ],
             [
              0.7777777777777778,
              "#fb9f3a"
             ],
             [
              0.8888888888888888,
              "#fdca26"
             ],
             [
              1,
              "#f0f921"
             ]
            ],
            "type": "surface"
           }
          ],
          "table": [
           {
            "cells": {
             "fill": {
              "color": "#EBF0F8"
             },
             "line": {
              "color": "white"
             }
            },
            "header": {
             "fill": {
              "color": "#C8D4E3"
             },
             "line": {
              "color": "white"
             }
            },
            "type": "table"
           }
          ]
         },
         "layout": {
          "annotationdefaults": {
           "arrowcolor": "#2a3f5f",
           "arrowhead": 0,
           "arrowwidth": 1
          },
          "coloraxis": {
           "colorbar": {
            "outlinewidth": 0,
            "ticks": ""
           }
          },
          "colorscale": {
           "diverging": [
            [
             0,
             "#8e0152"
            ],
            [
             0.1,
             "#c51b7d"
            ],
            [
             0.2,
             "#de77ae"
            ],
            [
             0.3,
             "#f1b6da"
            ],
            [
             0.4,
             "#fde0ef"
            ],
            [
             0.5,
             "#f7f7f7"
            ],
            [
             0.6,
             "#e6f5d0"
            ],
            [
             0.7,
             "#b8e186"
            ],
            [
             0.8,
             "#7fbc41"
            ],
            [
             0.9,
             "#4d9221"
            ],
            [
             1,
             "#276419"
            ]
           ],
           "sequential": [
            [
             0,
             "#0d0887"
            ],
            [
             0.1111111111111111,
             "#46039f"
            ],
            [
             0.2222222222222222,
             "#7201a8"
            ],
            [
             0.3333333333333333,
             "#9c179e"
            ],
            [
             0.4444444444444444,
             "#bd3786"
            ],
            [
             0.5555555555555556,
             "#d8576b"
            ],
            [
             0.6666666666666666,
             "#ed7953"
            ],
            [
             0.7777777777777778,
             "#fb9f3a"
            ],
            [
             0.8888888888888888,
             "#fdca26"
            ],
            [
             1,
             "#f0f921"
            ]
           ],
           "sequentialminus": [
            [
             0,
             "#0d0887"
            ],
            [
             0.1111111111111111,
             "#46039f"
            ],
            [
             0.2222222222222222,
             "#7201a8"
            ],
            [
             0.3333333333333333,
             "#9c179e"
            ],
            [
             0.4444444444444444,
             "#bd3786"
            ],
            [
             0.5555555555555556,
             "#d8576b"
            ],
            [
             0.6666666666666666,
             "#ed7953"
            ],
            [
             0.7777777777777778,
             "#fb9f3a"
            ],
            [
             0.8888888888888888,
             "#fdca26"
            ],
            [
             1,
             "#f0f921"
            ]
           ]
          },
          "colorway": [
           "#636efa",
           "#EF553B",
           "#00cc96",
           "#ab63fa",
           "#FFA15A",
           "#19d3f3",
           "#FF6692",
           "#B6E880",
           "#FF97FF",
           "#FECB52"
          ],
          "font": {
           "color": "#2a3f5f"
          },
          "geo": {
           "bgcolor": "white",
           "lakecolor": "white",
           "landcolor": "#E5ECF6",
           "showlakes": true,
           "showland": true,
           "subunitcolor": "white"
          },
          "hoverlabel": {
           "align": "left"
          },
          "hovermode": "closest",
          "mapbox": {
           "style": "light"
          },
          "paper_bgcolor": "white",
          "plot_bgcolor": "#E5ECF6",
          "polar": {
           "angularaxis": {
            "gridcolor": "white",
            "linecolor": "white",
            "ticks": ""
           },
           "bgcolor": "#E5ECF6",
           "radialaxis": {
            "gridcolor": "white",
            "linecolor": "white",
            "ticks": ""
           }
          },
          "scene": {
           "xaxis": {
            "backgroundcolor": "#E5ECF6",
            "gridcolor": "white",
            "gridwidth": 2,
            "linecolor": "white",
            "showbackground": true,
            "ticks": "",
            "zerolinecolor": "white"
           },
           "yaxis": {
            "backgroundcolor": "#E5ECF6",
            "gridcolor": "white",
            "gridwidth": 2,
            "linecolor": "white",
            "showbackground": true,
            "ticks": "",
            "zerolinecolor": "white"
           },
           "zaxis": {
            "backgroundcolor": "#E5ECF6",
            "gridcolor": "white",
            "gridwidth": 2,
            "linecolor": "white",
            "showbackground": true,
            "ticks": "",
            "zerolinecolor": "white"
           }
          },
          "shapedefaults": {
           "line": {
            "color": "#2a3f5f"
           }
          },
          "ternary": {
           "aaxis": {
            "gridcolor": "white",
            "linecolor": "white",
            "ticks": ""
           },
           "baxis": {
            "gridcolor": "white",
            "linecolor": "white",
            "ticks": ""
           },
           "bgcolor": "#E5ECF6",
           "caxis": {
            "gridcolor": "white",
            "linecolor": "white",
            "ticks": ""
           }
          },
          "title": {
           "x": 0.05
          },
          "xaxis": {
           "automargin": true,
           "gridcolor": "white",
           "linecolor": "white",
           "ticks": "",
           "title": {
            "standoff": 15
           },
           "zerolinecolor": "white",
           "zerolinewidth": 2
          },
          "yaxis": {
           "automargin": true,
           "gridcolor": "white",
           "linecolor": "white",
           "ticks": "",
           "title": {
            "standoff": 15
           },
           "zerolinecolor": "white",
           "zerolinewidth": 2
          }
         }
        },
        "width": 700,
        "xaxis": {
         "rangeslider": {
          "visible": false
         },
         "showgrid": true
        },
        "yaxis": {
         "domain": [
          0,
          0.33
         ],
         "showgrid": true
        },
        "yaxis2": {
         "domain": [
          0.33,
          1
         ]
        }
       },
       "_model_module_version": "1.5.0",
       "_py2js_animate": {},
       "_py2js_deleteTraces": {},
       "_py2js_moveTraces": {},
       "_py2js_removeLayoutProps": {},
       "_py2js_removeTraceProps": {},
       "_py2js_restyle": {},
       "_view_count": 0,
       "_view_module_version": "1.5.0"
      }
     },
     "c4f311f09d28446895b631870216ecf4": {
      "buffers": [
       {
        "data": "AAAAAAAA8D8AAAAAAAAAQAAAAAAAAAhAAAAAAAAAEEAAAAAAAAD4fw==",
        "encoding": "base64",
        "path": [
         "_data",
         0,
         "y",
         "value"
        ]
       }
      ],
      "model_module": "plotlywidget",
      "model_module_version": "1.5.0",
      "model_name": "FigureModel",
      "state": {
       "_config": {
        "plotlyServerURL": "https://plot.ly"
       },
       "_data": [
        {
         "mode": "lines",
         "name": "a",
         "type": "scatter",
         "uid": "f096eb3e-f501-428e-aae3-d01b872c3f99",
         "x": [
          "2018-01-01T00:00:00.000000",
          "2018-01-02T00:00:00.000000",
          "2018-01-03T00:00:00.000000",
          "2018-01-04T00:00:00.000000",
          "2018-01-05T00:00:00.000000"
         ],
         "y": {
          "dtype": "float64",
          "shape": [
           5
          ]
         }
        }
       ],
       "_js2py_layoutDelta": {},
       "_js2py_pointsCallback": {},
       "_js2py_relayout": {},
       "_js2py_restyle": {},
       "_js2py_traceDeltas": {},
       "_js2py_update": {},
       "_last_layout_edit_id": 3,
       "_last_trace_edit_id": 3,
       "_layout": {
        "autosize": false,
        "colorway": [
         "#1f77b4",
         "#ff7f0e",
         "#2ca02c",
         "#d62728",
         "#9467bd",
         "#8c564b",
         "#e377c2",
         "#7f7f7f",
         "#bcbd22",
         "#17becf"
        ],
        "height": 300,
        "hovermode": "closest",
        "margin": {
         "b": 30,
         "t": 30
        },
        "showlegend": true,
        "template": {
         "data": {
          "bar": [
           {
            "error_x": {
             "color": "#2a3f5f"
            },
            "error_y": {
             "color": "#2a3f5f"
            },
            "marker": {
             "line": {
              "color": "#E5ECF6",
              "width": 0.5
             }
            },
            "type": "bar"
           }
          ],
          "barpolar": [
           {
            "marker": {
             "line": {
              "color": "#E5ECF6",
              "width": 0.5
             }
            },
            "type": "barpolar"
           }
          ],
          "carpet": [
           {
            "aaxis": {
             "endlinecolor": "#2a3f5f",
             "gridcolor": "white",
             "linecolor": "white",
             "minorgridcolor": "white",
             "startlinecolor": "#2a3f5f"
            },
            "baxis": {
             "endlinecolor": "#2a3f5f",
             "gridcolor": "white",
             "linecolor": "white",
             "minorgridcolor": "white",
             "startlinecolor": "#2a3f5f"
            },
            "type": "carpet"
           }
          ],
          "choropleth": [
           {
            "colorbar": {
             "outlinewidth": 0,
             "ticks": ""
            },
            "type": "choropleth"
           }
          ],
          "contour": [
           {
            "colorbar": {
             "outlinewidth": 0,
             "ticks": ""
            },
            "colorscale": [
             [
              0,
              "#0d0887"
             ],
             [
              0.1111111111111111,
              "#46039f"
             ],
             [
              0.2222222222222222,
              "#7201a8"
             ],
             [
              0.3333333333333333,
              "#9c179e"
             ],
             [
              0.4444444444444444,
              "#bd3786"
             ],
             [
              0.5555555555555556,
              "#d8576b"
             ],
             [
              0.6666666666666666,
              "#ed7953"
             ],
             [
              0.7777777777777778,
              "#fb9f3a"
             ],
             [
              0.8888888888888888,
              "#fdca26"
             ],
             [
              1,
              "#f0f921"
             ]
            ],
            "type": "contour"
           }
          ],
          "contourcarpet": [
           {
            "colorbar": {
             "outlinewidth": 0,
             "ticks": ""
            },
            "type": "contourcarpet"
           }
          ],
          "heatmap": [
           {
            "colorbar": {
             "outlinewidth": 0,
             "ticks": ""
            },
            "colorscale": [
             [
              0,
              "#0d0887"
             ],
             [
              0.1111111111111111,
              "#46039f"
             ],
             [
              0.2222222222222222,
              "#7201a8"
             ],
             [
              0.3333333333333333,
              "#9c179e"
             ],
             [
              0.4444444444444444,
              "#bd3786"
             ],
             [
              0.5555555555555556,
              "#d8576b"
             ],
             [
              0.6666666666666666,
              "#ed7953"
             ],
             [
              0.7777777777777778,
              "#fb9f3a"
             ],
             [
              0.8888888888888888,
              "#fdca26"
             ],
             [
              1,
              "#f0f921"
             ]
            ],
            "type": "heatmap"
           }
          ],
          "heatmapgl": [
           {
            "colorbar": {
             "outlinewidth": 0,
             "ticks": ""
            },
            "colorscale": [
             [
              0,
              "#0d0887"
             ],
             [
              0.1111111111111111,
              "#46039f"
             ],
             [
              0.2222222222222222,
              "#7201a8"
             ],
             [
              0.3333333333333333,
              "#9c179e"
             ],
             [
              0.4444444444444444,
              "#bd3786"
             ],
             [
              0.5555555555555556,
              "#d8576b"
             ],
             [
              0.6666666666666666,
              "#ed7953"
             ],
             [
              0.7777777777777778,
              "#fb9f3a"
             ],
             [
              0.8888888888888888,
              "#fdca26"
             ],
             [
              1,
              "#f0f921"
             ]
            ],
            "type": "heatmapgl"
           }
          ],
          "histogram": [
           {
            "marker": {
             "colorbar": {
              "outlinewidth": 0,
              "ticks": ""
             }
            },
            "type": "histogram"
           }
          ],
          "histogram2d": [
           {
            "colorbar": {
             "outlinewidth": 0,
             "ticks": ""
            },
            "colorscale": [
             [
              0,
              "#0d0887"
             ],
             [
              0.1111111111111111,
              "#46039f"
             ],
             [
              0.2222222222222222,
              "#7201a8"
             ],
             [
              0.3333333333333333,
              "#9c179e"
             ],
             [
              0.4444444444444444,
              "#bd3786"
             ],
             [
              0.5555555555555556,
              "#d8576b"
             ],
             [
              0.6666666666666666,
              "#ed7953"
             ],
             [
              0.7777777777777778,
              "#fb9f3a"
             ],
             [
              0.8888888888888888,
              "#fdca26"
             ],
             [
              1,
              "#f0f921"
             ]
            ],
            "type": "histogram2d"
           }
          ],
          "histogram2dcontour": [
           {
            "colorbar": {
             "outlinewidth": 0,
             "ticks": ""
            },
            "colorscale": [
             [
              0,
              "#0d0887"
             ],
             [
              0.1111111111111111,
              "#46039f"
             ],
             [
              0.2222222222222222,
              "#7201a8"
             ],
             [
              0.3333333333333333,
              "#9c179e"
             ],
             [
              0.4444444444444444,
              "#bd3786"
             ],
             [
              0.5555555555555556,
              "#d8576b"
             ],
             [
              0.6666666666666666,
              "#ed7953"
             ],
             [
              0.7777777777777778,
              "#fb9f3a"
             ],
             [
              0.8888888888888888,
              "#fdca26"
             ],
             [
              1,
              "#f0f921"
             ]
            ],
            "type": "histogram2dcontour"
           }
          ],
          "mesh3d": [
           {
            "colorbar": {
             "outlinewidth": 0,
             "ticks": ""
            },
            "type": "mesh3d"
           }
          ],
          "parcoords": [
           {
            "line": {
             "colorbar": {
              "outlinewidth": 0,
              "ticks": ""
             }
            },
            "type": "parcoords"
           }
          ],
          "pie": [
           {
            "automargin": true,
            "type": "pie"
           }
          ],
          "scatter": [
           {
            "marker": {
             "colorbar": {
              "outlinewidth": 0,
              "ticks": ""
             }
            },
            "type": "scatter"
           }
          ],
          "scatter3d": [
           {
            "line": {
             "colorbar": {
              "outlinewidth": 0,
              "ticks": ""
             }
            },
            "marker": {
             "colorbar": {
              "outlinewidth": 0,
              "ticks": ""
             }
            },
            "type": "scatter3d"
           }
          ],
          "scattercarpet": [
           {
            "marker": {
             "colorbar": {
              "outlinewidth": 0,
              "ticks": ""
             }
            },
            "type": "scattercarpet"
           }
          ],
          "scattergeo": [
           {
            "marker": {
             "colorbar": {
              "outlinewidth": 0,
              "ticks": ""
             }
            },
            "type": "scattergeo"
           }
          ],
          "scattergl": [
           {
            "marker": {
             "colorbar": {
              "outlinewidth": 0,
              "ticks": ""
             }
            },
            "type": "scattergl"
           }
          ],
          "scattermapbox": [
           {
            "marker": {
             "colorbar": {
              "outlinewidth": 0,
              "ticks": ""
             }
            },
            "type": "scattermapbox"
           }
          ],
          "scatterpolar": [
           {
            "marker": {
             "colorbar": {
              "outlinewidth": 0,
              "ticks": ""
             }
            },
            "type": "scatterpolar"
           }
          ],
          "scatterpolargl": [
           {
            "marker": {
             "colorbar": {
              "outlinewidth": 0,
              "ticks": ""
             }
            },
            "type": "scatterpolargl"
           }
          ],
          "scatterternary": [
           {
            "marker": {
             "colorbar": {
              "outlinewidth": 0,
              "ticks": ""
             }
            },
            "type": "scatterternary"
           }
          ],
          "surface": [
           {
            "colorbar": {
             "outlinewidth": 0,
             "ticks": ""
            },
            "colorscale": [
             [
              0,
              "#0d0887"
             ],
             [
              0.1111111111111111,
              "#46039f"
             ],
             [
              0.2222222222222222,
              "#7201a8"
             ],
             [
              0.3333333333333333,
              "#9c179e"
             ],
             [
              0.4444444444444444,
              "#bd3786"
             ],
             [
              0.5555555555555556,
              "#d8576b"
             ],
             [
              0.6666666666666666,
              "#ed7953"
             ],
             [
              0.7777777777777778,
              "#fb9f3a"
             ],
             [
              0.8888888888888888,
              "#fdca26"
             ],
             [
              1,
              "#f0f921"
             ]
            ],
            "type": "surface"
           }
          ],
          "table": [
           {
            "cells": {
             "fill": {
              "color": "#EBF0F8"
             },
             "line": {
              "color": "white"
             }
            },
            "header": {
             "fill": {
              "color": "#C8D4E3"
             },
             "line": {
              "color": "white"
             }
            },
            "type": "table"
           }
          ]
         },
         "layout": {
          "annotationdefaults": {
           "arrowcolor": "#2a3f5f",
           "arrowhead": 0,
           "arrowwidth": 1
          },
          "coloraxis": {
           "colorbar": {
            "outlinewidth": 0,
            "ticks": ""
           }
          },
          "colorscale": {
           "diverging": [
            [
             0,
             "#8e0152"
            ],
            [
             0.1,
             "#c51b7d"
            ],
            [
             0.2,
             "#de77ae"
            ],
            [
             0.3,
             "#f1b6da"
            ],
            [
             0.4,
             "#fde0ef"
            ],
            [
             0.5,
             "#f7f7f7"
            ],
            [
             0.6,
             "#e6f5d0"
            ],
            [
             0.7,
             "#b8e186"
            ],
            [
             0.8,
             "#7fbc41"
            ],
            [
             0.9,
             "#4d9221"
            ],
            [
             1,
             "#276419"
            ]
           ],
           "sequential": [
            [
             0,
             "#0d0887"
            ],
            [
             0.1111111111111111,
             "#46039f"
            ],
            [
             0.2222222222222222,
             "#7201a8"
            ],
            [
             0.3333333333333333,
             "#9c179e"
            ],
            [
             0.4444444444444444,
             "#bd3786"
            ],
            [
             0.5555555555555556,
             "#d8576b"
            ],
            [
             0.6666666666666666,
             "#ed7953"
            ],
            [
             0.7777777777777778,
             "#fb9f3a"
            ],
            [
             0.8888888888888888,
             "#fdca26"
            ],
            [
             1,
             "#f0f921"
            ]
           ],
           "sequentialminus": [
            [
             0,
             "#0d0887"
            ],
            [
             0.1111111111111111,
             "#46039f"
            ],
            [
             0.2222222222222222,
             "#7201a8"
            ],
            [
             0.3333333333333333,
             "#9c179e"
            ],
            [
             0.4444444444444444,
             "#bd3786"
            ],
            [
             0.5555555555555556,
             "#d8576b"
            ],
            [
             0.6666666666666666,
             "#ed7953"
            ],
            [
             0.7777777777777778,
             "#fb9f3a"
            ],
            [
             0.8888888888888888,
             "#fdca26"
            ],
            [
             1,
             "#f0f921"
            ]
           ]
          },
          "colorway": [
           "#636efa",
           "#EF553B",
           "#00cc96",
           "#ab63fa",
           "#FFA15A",
           "#19d3f3",
           "#FF6692",
           "#B6E880",
           "#FF97FF",
           "#FECB52"
          ],
          "font": {
           "color": "#2a3f5f"
          },
          "geo": {
           "bgcolor": "white",
           "lakecolor": "white",
           "landcolor": "#E5ECF6",
           "showlakes": true,
           "showland": true,
           "subunitcolor": "white"
          },
          "hoverlabel": {
           "align": "left"
          },
          "hovermode": "closest",
          "mapbox": {
           "style": "light"
          },
          "paper_bgcolor": "white",
          "plot_bgcolor": "#E5ECF6",
          "polar": {
           "angularaxis": {
            "gridcolor": "white",
            "linecolor": "white",
            "ticks": ""
           },
           "bgcolor": "#E5ECF6",
           "radialaxis": {
            "gridcolor": "white",
            "linecolor": "white",
            "ticks": ""
           }
          },
          "scene": {
           "xaxis": {
            "backgroundcolor": "#E5ECF6",
            "gridcolor": "white",
            "gridwidth": 2,
            "linecolor": "white",
            "showbackground": true,
            "ticks": "",
            "zerolinecolor": "white"
           },
           "yaxis": {
            "backgroundcolor": "#E5ECF6",
            "gridcolor": "white",
            "gridwidth": 2,
            "linecolor": "white",
            "showbackground": true,
            "ticks": "",
            "zerolinecolor": "white"
           },
           "zaxis": {
            "backgroundcolor": "#E5ECF6",
            "gridcolor": "white",
            "gridwidth": 2,
            "linecolor": "white",
            "showbackground": true,
            "ticks": "",
            "zerolinecolor": "white"
           }
          },
          "shapedefaults": {
           "line": {
            "color": "#2a3f5f"
           }
          },
          "ternary": {
           "aaxis": {
            "gridcolor": "white",
            "linecolor": "white",
            "ticks": ""
           },
           "baxis": {
            "gridcolor": "white",
            "linecolor": "white",
            "ticks": ""
           },
           "bgcolor": "#E5ECF6",
           "caxis": {
            "gridcolor": "white",
            "linecolor": "white",
            "ticks": ""
           }
          },
          "title": {
           "x": 0.05
          },
          "xaxis": {
           "automargin": true,
           "gridcolor": "white",
           "linecolor": "white",
           "ticks": "",
           "title": {
            "standoff": 15
           },
           "zerolinecolor": "white",
           "zerolinewidth": 2
          },
          "yaxis": {
           "automargin": true,
           "gridcolor": "white",
           "linecolor": "white",
           "ticks": "",
           "title": {
            "standoff": 15
           },
           "zerolinecolor": "white",
           "zerolinewidth": 2
          }
         }
        },
        "width": 700
       },
       "_model_module_version": "1.5.0",
       "_py2js_animate": {},
       "_py2js_deleteTraces": {},
       "_py2js_moveTraces": {},
       "_py2js_removeLayoutProps": {},
       "_py2js_removeTraceProps": {},
       "_py2js_restyle": {},
       "_view_count": 0,
       "_view_module_version": "1.5.0"
      }
     },
     "db3be1e6873243f6a3cee87ff8b64861": {
      "buffers": [
       {
        "data": "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",
        "encoding": "base64",
        "path": [
         "_data",
         0,
         "close",
         "value"
        ]
       },
       {
        "data": "8LOXMaEvzD9wmHM5JxXvvzTUA9R+nei/QLZyvH4+yb/kKBgP7dDUv9xfgdBN384//NJSMgUY3T96S6oSM9zSP7ZNLFud8Ok/Y4UlwEkx4j/MwHj0+Fnrv7h9yy7eKMC/CnHk67OZ3j/8NH99qJbdP0Tdf7rZDM4/mlHTArda07+48HVl1zrwPyZX9ItQWvQ/5vUARyBj+T9+fbZe2cL/P+bLpkESRglAv1uK4VnTA0AaRiSW+bUIQMa1CPuOMABAZkAv2PO5BUD3n4esRF0EQBcYUeJl5/g/zFoilKw7BEAuQlVsGVMIQI09AM4yGA1APMUUDJ1HEEAPsZMEh+wIQOFjF92VewpAcIWBYjSmDkAxsoN8OdEQQBOaqLAIxA1AUhQgqcbQDkCge1lB8k0JQNU5+MRTPwRADrR5BcBYCUAthUBtG3wFQBo1y1mF5QBA5WrRZbW9AkAoUV4Go4YBQEbG6tuXIARATeewaPdiBkBfxHDAnMADQKhY1eJtpQpA/pkrWEn9CEBBWECJVJAKQLS7VM3AJhRA7NN8Q41/E0DIdT8+uhgWQFPaGq0qRhdADeZJylBQFEAC2/DWuCMWQNiLitanihNAC7vqfDC4FUAaoudSjmwWQIwfvUDleBhAbgUXJYQzGkCQ4gPagRkaQNpecm/BfRZAOXRVKIfRGECOvQUvl+sbQBxR3FXTcxhA+v1AOEQVGEAkkHHwPGAaQNI6rDwf9R1AttZQYgaQHUA4VtR73OQcQC4RHMWK6B9AxQWAh7/iHUCOHmnXq2cdQJZIRHUU/R1ATAxdVsLWG0BS5t865toeQKxNyah5sx1AW2ZNlp6tHkBOBj1WfeIdQF4b34sJ0xlANfqMzUHlHUBjct85XqUZQId0MpKoqBdAOLDoidoPGUAt/adW4I4VQNQP/iK37hJA1NJMmI7REUD6+MHfIZMSQGI/fXlR2RRArWK8gaIOFUAiYie7e4sYQOUGFzJaJBpAfABzoHziF0DZTCw7HQQZQEL7F1fjJxlA9vBw6w9hGEBqW/U1joAZQJjnEGPEERZAhRtzvrXYGkA6F4aT4W8WQA1Ve3YdXh1AWNq/OHwPGUCh7F5zzw8eQBJRf4Hh+h1AufKjJmAOHEDXhPX95R8fQGZbsRAAZh5APx2l7lqmH0DosfYltLcdQDRDjZ8nex9AA6Nqe9NkIUC0U5cPQ2sgQIe0qWFg9SFAqFMeTzqkI0DQjpQhgjgjQNoWdvSQMiVA1Ik58ONYI0ASMuzE+3UlQIMb+kplPyRAnP+H/0kGJkBjyk86n1wmQOV5S7PgbCdAoaa7dlZFKECU03iz/uooQP7BkKfMACpAwvSI//9+KkAGu+Ui3nQqQP+OFN6pRCdAp6VbdkzLKEBfkJ6+R7YmQMqdHMu6+SZAohaZag1tKECMX9g+voQoQIxaQQVmNihApkOQKBADKkBP5PA6iOwoQDFTzz6yKyhAfFSTU4rcJ0CfefbUV/coQEnUUxUFxClARZrDBcoFKUC4qSTPbVYnQJ4Q1ClgtSpAJWKh2l5ZKkBFk5bMbxUsQAy9oQgKdCtA1twKOL39K0CIRExSURwrQJBE/pzk7ihAYjnkmFsNJ0CLXewAnbonQPeSoMdUSilAV4HbNTWBKUBGF0W6qOopQOg9gAMklipAnU3tIJIUK0BG+1GemVopQLzB/kWo0ytA6hHPdAu+KkCK1nTkQE0sQNpyc002YCxAocxULKQyK0B4lc92SdAtQFrryuHNyipA4FxTw65fLEDf7GIs3norQGh4PFOfDyxAmY9VYCEKLkAvmM/bp3orQDy/WaOQOC1AAne+ek6RLkBjXMBkcQ4uQGCY1YZcfC9AlgdKQnckMUCYRU6G720wQApCWjw88jBAoMZSwmLKMUD/W79FekYyQAAVMnZP+DFABI7UW7WXMkAjEdHpo5wxQPXoZm62MDJAWCXfnmiAMUDlyOJRaSIxQJjrwu4p7zFACACRahKHMkD8p48wim4yQDt9/jQn7DFAuPa4JQ6lMkBC1fMMb0ozQL435EJTVTNAmcdtsCJvMkABrY4O1zgzQBpjUEUQUjJA+0VMrn0KMkAyhUcKuAAyQBBf231Y4TBACBkiA/s+MkDSD5UYD5AyQIrg/YC1ODJAFJEkXsJ7MUAc0E8WvDYyQKBG6kbp6jFAtXy9zATHMUDLskWkx2cyQJ5ppPHcEDNAF/Ule8EpMkC3BDHf/14yQGeRrgsRDTJAOnq48zITM0C//kHu3eIxQDlWIRN5xDJAaA9hSoscMkAuUt5bt0wyQNtoAYj/SzJAeiKhEGowM0DKW7JVlnEyQLUBN0441zFABqMybMLPMkDLd0rmOx8zQL09wfVwPjNA2Q0AoJwGNEC67qvo6lMzQGz8a8/V0jJALEMDMVuaMkCb+9wUGyUyQG596aiJPjJAZJGQ64rfMkAiKlKza2EzQIyHN+pA9jNA1fz7L4NOM0Bkqg3WLDc0QJClvOkw3DRAJvtfmF4pNEC6zgEmyjI1QLmq/7AUSzVAYDreA8npNEA/nG7HpWQ1QIIDOTD26jRA+IDxXSqMNUCRBvoDFUs2QOGi4Fm5BjdA6RlfWn/YNkCEUifvM7o2QMcgQ9/2JTZAYUeXZxYoN0Cz1424xTo3QEzY6nKb3DZA8pabpTYPOECgoTAxc5c4QFuQB8QZSzhATanVfW5eOECALQlqB4s5QCsCHn7YkjlAsFf41TADOUDyJd6ANEE4QEg+T6Q3nThA4FFVBPFHOUAMz2J7X5A4QNgCTrXKaDlABambmerJOEAfiXi72vk3QJM2JYTkkTlAPg0oH6O0OEBheZiK3/U4QLc2v+sGvzlAqqB2ABikOUBZMjEc5CY5QGbWlfmOoDlAavJuonvDOEAWlK0GChY4QHfPi344dTlA7XQcATAHOUDvofmVw0o4QDfO/elr2jdAplkPoONKOEDG33FWlO84QCHpdohE9DlAlhqO18gGOkAv45a32ZM6QKDHJLRTJDtApxpf7Nl3O0Cm0EqNGAo9QLnf7mENwj1AaQ5Dbw9/PkDwi1PpT/k9QNpoKpcZoj1AyhD0qtWGPUCeLL2qRsY9QDHF1ffFQz5AebpB5oKpPkDmDNFvMOo+QFMJdRIPrD5AZUy0KbDSPkDqRWRLLRg/QCBa6soGiD5AP2kiF/HsP0BZWX5pBhdAQAjFlMx6HUBAOT4JrpRfQEDHkfHRBjpAQBFD9Z7vZz9AgFP7OHiiP0Bn0/CH3glAQBmReYKbT0BAfIRflzi/QEArLnwBKB5AQKW+/zFdvEBAYt05y+avQEByJoQtyGNAQE6dLGi8sUBAE2LlO8kyQEA3XykA2yZAQDSfbE7JB0BArix0r6/DP0Booxj9upU/QJI1foouTUBAzERCgxXdQEBD2e/GUI9AQCjyusMAukBAnIdYK6eYQEDgHzgTrDVBQPBREE1yW0FAOCQc3SDgQUAfaNJ66LhBQFwhzdMugUFA3AWNmFTSQUDbdp5sCiJCQArOjLZr4kFA/fwGdD1nQkBrvkPb3XBCQGgX23SLh0JAjOyw7oaKQkBDM/CoJa9CQNS3yCkwBENATlYQR1ICQ0AEXAU3spBDQIF516RJ5UJAvmZohnCKQ0D1SnQ7k79DQNUsMmLzfUNAGiZQDJTwQkD2nINDmX5DQOw2NB5AJENAKs/wNksHQ0B/20ZfnyNDQH8l9cwfbUNAskv9PdHIQ0BbSoNQZwpEQI6ksLwZOURASrzWBZ/TQ0BstQseN7dDQDYfeZbEnkNAEAK+j4OzQ0D80IXeyxdEQEP+eV5I20NAX/dEA3ksREBwKbgySGFEQJLJVmaug0RAKPip/WFAREBujlJCZT1EQGbTYzP3q0RAuRrlTrZHRECk+wIMjKBEQFJfmyNU/0RAtPJ8+99GRUCt5RE7WilFQBtbrwL/okVApi+vpHIXRUBZdKg8htlEQNYARTao6URAB/+bm7qAREDrw+3EPq5EQJxN6Av3aURAinJpZzPLREBjGIrypLZEQKSY4EvyPEVAuFxIgj3hREA8U5znL2JFQOPXaaBLiEVA4gNLoMihRUBXAYHilJZFQErK2gdSDEZAhMSXTP6KRUACZPXBoelFQN7CpVM+WUVAOh7pvjD2RUDehoej86JFQDnCHsSdFEZAz3Jlnm4vRkB9xeekdBdGQKK8eHDmfUZAXkRryBbeRkDdczXup/VGQOijZfBYR0dA7oAUGagSR0AMcyZVVDFHQNMoO9Q4R0dAh1fA49TiR0DbVY4KBVhIQA6cnHw+aEhAQHY/cKlUSEA2Qg0Oso1IQJGn5v0IlUhADfS9AwUZSUCrbKaN9tJIQNqbynTC30hAZ437LODnSEAIecwN7aFIQNmUc02yEUlAgjBadnOUSUCQATt1qCBJQOIWPbCuUklAOCaoq98iSUCssK/VQipJQNwl0OIbKUlAxDbwlmIvSUDelr1/PzFJQAR1wNTMA0lAU0gKfkaeSUCqvTvYYEZKQDJarlYwCUpARS/JdDiMSUB11gjZlblJQDQEn4WoGEpARGt9MRYiSkC6nE4FIAFKQAXQVY3+YkpA5LC7cRPoSkAlYrC1CvdKQKHtcWExhktApSM/FIocS0BwwMyid8lLQD+9/2Z1uEtAjZnjHCb8S0CPBwIeyMxLQKJH7EQgw0tA3L8B1snhS0CLckOMVsZLQIYGB6zVlktAZZu5Hg6bS0DncMlSN9lLQK3sUWargUtACiokcFUaTEBv5yM5jp1LQJa9tFnPOUtALfu2fUgyS0D977RuNE9LQM61KO2e0EpAlPNaOP07S0Csq2IjselLQO9z58XupUtAvNrWQtZLS0AOddmNTWpLQCH0txhELUtARz/dzABBS0Bgva8QNyJLQOB+yv8xO0tAEYvLsOtyS0DWYMggRs5LQKOvncTikUtALWiHfZP6S0DXTTu7MCpMQGa8MWtmmUxAHFuVzN59TECluM8sgQVNQMZfb8ZTyU1Ac0Ps02N7TUCuCZ7McT9NQKOxcOqAFk1A4ugP50vyTEDE9Ox86d9MQOrvS+DL70xApusI079yTUAr/fQIlEZNQKCQaMUxy01A1JCFGYwCTkAlyJuKi+BNQE7D560FlE1AkvZViYywTUD1pbV9l3xNQKA4Qv2wqk1AhOojD7XDTUC5LdFCIK9NQK+nAa+AJU5ABp2djjkdTkBzyqIGfm1OQIZAvnYTz01A68ZdVinWTUBdfB2cdaVNQMr7CkeC001ALKCeijpqTkCq4mOcu+BOQI3VcZat005A7e6rywcWT0BnY6aIgVZPQAd3zTiWo09AlvCKdufJT0An/m8SsbpPQHgUfUkiq09AJwsSOmyBT0ADQVoq5M1PQPIAt3EGzE9AXFxUyVcXUECYHOUT6JNPQH/uGDa/309A45poetpuT0AROepP4phPQHpajc7IpU9Af2NhCh0KUED0WkX31VlQQIu1zhWVHVBAOOV1oYYeUEDntuuYbLxPQKgZu9tmPVBAsur2/SoPUEA4MwngjUdQQDiESmL1cFBA1i1dADC3UED1WFJIKqFQQM2BB9jR91BAOs+07iXIUEDj5PmlWd9QQPG4uJm9ClFAMnlBaNv3UEDyxgXpkP1QQDmqWiNd7lBAgNtF0ofPUEABJ4d0bCFRQF3EoHAOZVFAHDT6hTYzUUD5NvTVClRRQLZ7NxV1fVFA77GGqW00UUBForQLTpdRQA8egRcDS1FAaaSunPBKUUCZeiUSyXVRQG+pszqIslFAOvX61ZilUUClZ79ZqrdRQDgo7HxWjVFApK00vQPmUUDw+gxBqNtRQOPRiAYz1VFAXNo+OUPzUUALRanrShdSQNO54F4+AVJAHjXeWkIRUkDYEn34bzVSQMQF5QHk+1FA+P930c8nUkDoV9wM1hhSQOXg6D7RQVJAh0B28mNjUkBuxG8y35NSQEw7GyqZeVJALfXjoxC8UkA04b1MHpJSQLAh4gx/S1JACFDFIZZJUkD8meNZ7y1SQM22d7qE+1FAM4a8gmwEUkCt+dMf4klSQMVzXu/gXFJAeFgm/nNnUkDK7AB3D5VSQJ/5+o1Hw1JAo+y891/gUkBETjRnCO1SQA4StRFEDFNAQhMAbdPyUkAysNRnGM1SQDy1EQQM11JAhpBoedwMU0AHDpf3rjBTQPCMJwNQP1NAh4mmiflVU0CxslersShTQJCq/pegJlNA5RozGYQlU0BvDsp30TlTQLeilvHcBlNAMUkkgLI2U0Aee/dZnONSQHryaZMK6VJAmTJU+UrYUkDjTK65C/lSQKP2iPqVElNAiiT6EG9iU0DiWfJ6oVxTQFpKAM/SQ1NAz5lcQX5TU0CgNEQzHnZTQNRauNGUc1NAD1UfTJFoU0Cx4K065VdTQKaSbn5rmFNADVhL0rZZU0AsN1wqSnhTQK1Wi2hUiVNAYvrjcRtzU0C37RlQNs5TQAiRDzXkxVNAeyTZ94oQVEAXxJhrs0JUQFKhLFc8YVRA2v1t//WTVEDwm5dxeKVUQEEWmTdOj1RAHCxQGjmjVEB4QQrXiY1UQAzH+UDE1lRAbfNsjUWvVECRIIL6gO9UQHeUypaCH1VAHrt2xtQ8VUAxwOHvMUNVQJNhBE+NQ1VAoj6ok9N6VUDV2Q2IaTlVQC4nqksQmFVAyLH8BtSgVUDg5AAEu6NVQFu9xb072lVAp0S/hXyVVUCNNIXktY1VQOFNMpCw4VVADZXddwIIVkD5ig2cj75VQM2fLIOc51VADUJ9MirsVUA9MLyFXdFVQFUE382KvVVAhmBYR6TFVUDYOSNIZLZVQKS4xUC0xlVAAyZnK3AEVkC7H431G+1VQJOxiz3Z0VVAi03Ci1LHVUBk96QY2v5VQNjla11eH1ZAuNe5jC3qVUCaCYZeSyRWQCpoAjSfJ1ZATkz2g0NiVkDzR2aX6RRWQCG521IGIlZADTD+VqVWVkBJneMXcURWQJYJTDVFXFZA1QR6HP+hVkBjpo5zW4NWQKcuEPZLhVZACf2c2ghsVkAvOoqeV7JWQIve2cK4q1ZAmsGhNiSCVkDr3W0HiqxWQB7wQISNwVZAH6aHPaHaVkDyVWtmTDZXQLTmdyZxCFdAK/iQMIv+VkBm7P9ZgCxXQBaDXxuBBldAMNqSmF8qV0BFskUY+iNXQLMDj2WUGVdA3QBmfobdVkDzRVVbi8JWQC+7MJwpulZA1TUd4vzBVkAaLVtmeZFWQLacgMJ7tVZAXGJjHFG1VkDSeTwqMcJWQEAeqd5bCFdAlsCgN3TKVkB7XlQu7/lWQE1dRvSiIFdA4difGP8ZV0Ch2lVgZTBXQFf3slZjZ1dAuluYcv9fV0CqJ7hUDpxXQMlEpFeqeldAU3FXsCtzV0Bi0syZ05hXQKXYe+oie1dAvFvnfINUV0Dc4xB81lpXQCMwBg1KWVdARvGZWFcxV0CDcavGOw5XQGn6lT+pCVdA0faBTJEaV0BDwNApORtXQNXb5zbkFVdAtyzfIcYUV0AvCwd+9EFXQFWjhB8DeldAPyKsDOCsV0BuXLTs59BXQBw71lfxlVdAXLOFxZSOV0BjHoRUb4ZXQG/aU65DnVdAOgzLvBCzV0C7VaWIM5BXQCwDuo4TpldATaMm/nXZV0A7unnWIBJYQCahMm5nMlhAq5Hz3eNcWEDWTiQJnR9YQCJsqg02bFhAAmLycPpzWEDwF2z24UVYQBACBUyvTFhA4SeSedxUWEDxYMNhNT1YQH3ngy0PVVhA77R7QnJZWEDEd+p81ZpYQE16/cITdFhA2PGEvi1dWEBN4oCvzWtYQOLtgteTaVhAYCQnVUIpWEAgEJdEKUFYQH48gBWFZlhAii+V3h41WEAxZ/DTzZVYQADiHEQoyFhAP7x9dP9rWEDjDFejsF9YQCgkEV4rUFhAlLJ0hC1SWEBitHIpGnJYQP8gyBQQM1hAmdT6jB2EWECvfBDPBFFYQDhNPrjbCFhAGXRtiBHcV0CH+oPZE8lXQFQoCL9arFdAlkbJ1vy4V0B5/4fvt9ZXQCXSboyM/VdAha1tJaeSV0AIUQIdB5tXQCcta2jzbFdAYpYaAnp8V0DRjp/NY6VXQDK4XsWVeVdAEwYfLXBhV0BF3+a2eh1XQBQlbU2NSVdAVkzm2nxHV0AZVD6XWBhXQC7txJQ+UldATCIx28BaV0D5rOMtyy1XQOMt3YJCXVdAXBqeZOGXV0CelMbRtedXQLzHAFZk5FdAuiNSoJ7CV0C6hnNpOtJXQIq5X/URDVhA/UFyCL27V0CdmyIjPM1XQEjHgzcmeldABVVkKX2/V0CDyvZtAshXQESmw2QOBFhALr3NW8sIWEDiejJ4Xy9YQNB0+a/eX1hAcaKRLj5iWEA0ifSBsWBYQDAWwTnhclhAaoMuBHXLWECrxmMfzNxYQI/IucXCA1lAMjc5y43kWEBlmAfskOhYQJUePTVu8VhA+cStTGMGWUBnRRZlRuFYQKDijTem21hAz+K1j6nOWEAxmE5/cYxYQG+S2pwn11hAOT2j/41nWEAHU9ErQpVYQKRdYIVKcFhAjAdGaK1GWECpyrO6iLtYQKr/oILtxVhAx2EZ+ZnEWEC3ItkCB8RYQJ08aAwitFhA1wx2R+LtWEBnJHVxCQxZQLLlJAvs4VhAVNfdAlzNWEDkTk0RoMlYQDUxHu6jwFhA6pDRmcffWECUZoHBLspYQJ55TRG4vFhAdlzViE2MWECoFeFmJ8lYQBd2+QAtGVlAaqNDqbfvWEAnHeB2MuZYQN8hL1GMJVlAdIyZD/jbWEBD6VpAra1YQLpdG1bc/1hAj7yZFBnXWEDFEIbdTLpYQMTo3y56zlhAc7fDLzGVWEDq4wgSFN5YQN42QrhQ8VhAjvXMJJI6WUCswZDD4gVZQO4W76j1JllAi2jErtoaWUAf+LtLStFYQK+0SvDQ61hAX05bT7SyWEADTBBfCpFYQAKKbfRV5FhAsODSZgEuWUDsw7C4fyFZQLEMPkZfJ1lA/rSnAd0ZWUCgsUUFl+lYQD9gWDh951hAxt/xYt5DWUBE/QP/GQlZQBHNHCJOMVlAzaR4R/sOWUARrLpd9jBZQOvkGljcQllAJU5uXYZZWUAaOMLHV31ZQNlAN5FzallAx/BJM9djWUCUuxC+2WhZQC4ap455illAc7BRiYbmWUC9oKTRux5aQPJXC5ky/llAR3a8p80JWkCyoQMOiExaQLICoe6TV1pAlVetHec6WkDRo5DNM0haQJxa1M6YPVpAaYcCbdlDWkBWPhgfdENaQCM4rnggElpAfLM1E2EeWkA8RSB91TBaQElx/mDZQ1pASdPQdJ9MWkASOTDncJdaQJ4mW6bhilpADRcPkFLcWkAsBTwypuRaQJHy4xyo6lpA+JJa7fHTWkBwRwgdD75aQIJyubGQuVpA5+ZmY2mRWkADqEbiM5NaQFx8pLAVm1pApzPqHP76WkCo1Mu+fiNbQH7wqQhLR1tAgdN16RQ8W0BrLCsKj3VbQN7H51U5JFtAbe6+XeUNW0D5qvyVdPZaQJYMhJW5S1tAj5cY7jtWW0DyqLo1QhBbQKWLunezOFtAy3fl8NAKW0CZLi6MGSNbQEwM3LcV+FpAhSWk641EW0COcoRb/j1bQJtIWx1QbFtAqkuv2PB0W0D0kcGMsZNbQOCkS86KxFtA3gDwgz7qW0AFEvKOO/hbQPCNtJZiH1xAPpOCdSwTXEAz7BSnivxbQO707axq81tAYr0UgsDSW0A1almibOBbQGPGY/6g3ltAqtH8O3ymW0CPtRI3s/BbQIx5f4reH1xA20QOnvdNXECSYOCZlSJcQDNvQyONXlxAiyK8zX9cXECimq3Z5llcQJo6jhVc+FtAIZ+ZvP5RXEC7VmuYEBhcQIklxzaMR1xA+wJnBnRxXEA8y9sPSplcQCAUIfiunlxA27UKPXztXEAUovaaUgZdQDCr6BIV/VxAoTxIofrPXEDKVxUJCyddQPk4yWExBV1APan3TRRBXUA2kkVVZ1hdQD20ykdrdV1ALyA2ItpuXUCYYSEySVddQGQ9midzWl1AUePgQdkiXUC1oE5xwyZdQDFnHOD9Ml1A/lHWKdokXUBizKYVIyNdQESAB5tvI11Aq2A9KjVvXUBq0/DUZ41dQC9s/7yGUV1AD4RsurUnXUB6K0LplS9dQE0s8PzqVV1ATPhnn5FuXUAeIAZlIq1dQJ6Q2DtWjV1AZ2ZIDGykXUC4cP3QiaNdQObaN/jpjF1Ac/AebzSgXUA4GWxK76tdQB0RrhmVsF1Av2U0IICeXUC42MENNZ9dQIaZEGYpYF1Ar1jC+WiLXUDSVJ+4T75dQJaz/+MB9l1AKDVDyKkoXkCqdmjbAw5eQKRZ4tU6J15A1ZS9GEtcXkC6f4BSFVNeQCquQpidRV5AaDLcmJmTXkCpFEbM9nZeQG5xrI3vWF5AIjWV+K9mXkBGF20nf6leQOUjXR/yn15AdtvflEyeXkCFBp4D8+9eQCK0g/Wy115AmrWqV8utXkBBybPR4p5eQLy5tM47xV5A6LrIBaESX0CCW6ru/T1fQIs4o44DLV9AB/4WpqExX0CSzTIrhhlfQAL/xWCe815Aw4bMhOrFXkDj+4wDjbNeQAOlW6KUb15AOnkW9zmLXkB8qKjGX2FeQIyF+cA0Dl5AXIbaf21GXkA=",
        "encoding": "base64",
        "path": [
         "_data",
         0,
         "high",
         "value"
        ]
       },
       {
        "data": "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",
        "encoding": "base64",
        "path": [
         "_data",
         0,
         "low",
         "value"
        ]
       },
       {
        "data": "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",
        "encoding": "base64",
        "path": [
         "_data",
         0,
         "open",
         "value"
        ]
       },
       {
        "data": "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",
        "encoding": "base64",
        "path": [
         "_data",
         1,
         "y",
         "value"
        ]
       }
      ],
      "model_module": "plotlywidget",
      "model_module_version": "1.5.0",
      "model_name": "FigureModel",
      "state": {
       "_config": {
        "plotlyServerURL": "https://plot.ly"
       },
       "_data": [
        {
         "close": {
          "dtype": "float64",
          "shape": [
           1000
          ]
         },
         "high": {
          "dtype": "float64",
          "shape": [
           1000
          ]
         },
         "low": {
          "dtype": "float64",
          "shape": [
           1000
          ]
         },
         "name": "OHLC",
         "open": {
          "dtype": "float64",
          "shape": [
           1000
          ]
         },
         "type": "candlestick",
         "uid": "51f8050e-19bc-49cf-a3d8-b7f23a10eaba",
         "x": [
          "2018-01-01T00:00:00.000000",
          "2018-01-02T00:00:00.000000",
          "2018-01-03T00:00:00.000000",
          "2018-01-04T00:00:00.000000",
          "2018-01-05T00:00:00.000000",
          "2018-01-06T00:00:00.000000",
          "2018-01-07T00:00:00.000000",
          "2018-01-08T00:00:00.000000",
          "2018-01-09T00:00:00.000000",
          "2018-01-10T00:00:00.000000",
          "2018-01-11T00:00:00.000000",
          "2018-01-12T00:00:00.000000",
          "2018-01-13T00:00:00.000000",
          "2018-01-14T00:00:00.000000",
          "2018-01-15T00:00:00.000000",
          "2018-01-16T00:00:00.000000",
          "2018-01-17T00:00:00.000000",
          "2018-01-18T00:00:00.000000",
          "2018-01-19T00:00:00.000000",
          "2018-01-20T00:00:00.000000",
          "2018-01-21T00:00:00.000000",
          "2018-01-22T00:00:00.000000",
          "2018-01-23T00:00:00.000000",
          "2018-01-24T00:00:00.000000",
          "2018-01-25T00:00:00.000000",
          "2018-01-26T00:00:00.000000",
          "2018-01-27T00:00:00.000000",
          "2018-01-28T00:00:00.000000",
          "2018-01-29T00:00:00.000000",
          "2018-01-30T00:00:00.000000",
          "2018-01-31T00:00:00.000000",
          "2018-02-01T00:00:00.000000",
          "2018-02-02T00:00:00.000000",
          "2018-02-03T00:00:00.000000",
          "2018-02-04T00:00:00.000000",
          "2018-02-05T00:00:00.000000",
          "2018-02-06T00:00:00.000000",
          "2018-02-07T00:00:00.000000",
          "2018-02-08T00:00:00.000000",
          "2018-02-09T00:00:00.000000",
          "2018-02-10T00:00:00.000000",
          "2018-02-11T00:00:00.000000",
          "2018-02-12T00:00:00.000000",
          "2018-02-13T00:00:00.000000",
          "2018-02-14T00:00:00.000000",
          "2018-02-15T00:00:00.000000",
          "2018-02-16T00:00:00.000000",
          "2018-02-17T00:00:00.000000",
          "2018-02-18T00:00:00.000000",
          "2018-02-19T00:00:00.000000",
          "2018-02-20T00:00:00.000000",
          "2018-02-21T00:00:00.000000",
          "2018-02-22T00:00:00.000000",
          "2018-02-23T00:00:00.000000",
          "2018-02-24T00:00:00.000000",
          "2018-02-25T00:00:00.000000",
          "2018-02-26T00:00:00.000000",
          "2018-02-27T00:00:00.000000",
          "2018-02-28T00:00:00.000000",
          "2018-03-01T00:00:00.000000",
          "2018-03-02T00:00:00.000000",
          "2018-03-03T00:00:00.000000",
          "2018-03-04T00:00:00.000000",
          "2018-03-05T00:00:00.000000",
          "2018-03-06T00:00:00.000000",
          "2018-03-07T00:00:00.000000",
          "2018-03-08T00:00:00.000000",
          "2018-03-09T00:00:00.000000",
          "2018-03-10T00:00:00.000000",
          "2018-03-11T00:00:00.000000",
          "2018-03-12T00:00:00.000000",
          "2018-03-13T00:00:00.000000",
          "2018-03-14T00:00:00.000000",
          "2018-03-15T00:00:00.000000",
          "2018-03-16T00:00:00.000000",
          "2018-03-17T00:00:00.000000",
          "2018-03-18T00:00:00.000000",
          "2018-03-19T00:00:00.000000",
          "2018-03-20T00:00:00.000000",
          "2018-03-21T00:00:00.000000",
          "2018-03-22T00:00:00.000000",
          "2018-03-23T00:00:00.000000",
          "2018-03-24T00:00:00.000000",
          "2018-03-25T00:00:00.000000",
          "2018-03-26T00:00:00.000000",
          "2018-03-27T00:00:00.000000",
          "2018-03-28T00:00:00.000000",
          "2018-03-29T00:00:00.000000",
          "2018-03-30T00:00:00.000000",
          "2018-03-31T00:00:00.000000",
          "2018-04-01T00:00:00.000000",
          "2018-04-02T00:00:00.000000",
          "2018-04-03T00:00:00.000000",
          "2018-04-04T00:00:00.000000",
          "2018-04-05T00:00:00.000000",
          "2018-04-06T00:00:00.000000",
          "2018-04-07T00:00:00.000000",
          "2018-04-08T00:00:00.000000",
          "2018-04-09T00:00:00.000000",
          "2018-04-10T00:00:00.000000",
          "2018-04-11T00:00:00.000000",
          "2018-04-12T00:00:00.000000",
          "2018-04-13T00:00:00.000000",
          "2018-04-14T00:00:00.000000",
          "2018-04-15T00:00:00.000000",
          "2018-04-16T00:00:00.000000",
          "2018-04-17T00:00:00.000000",
          "2018-04-18T00:00:00.000000",
          "2018-04-19T00:00:00.000000",
          "2018-04-20T00:00:00.000000",
          "2018-04-21T00:00:00.000000",
          "2018-04-22T00:00:00.000000",
          "2018-04-23T00:00:00.000000",
          "2018-04-24T00:00:00.000000",
          "2018-04-25T00:00:00.000000",
          "2018-04-26T00:00:00.000000",
          "2018-04-27T00:00:00.000000",
          "2018-04-28T00:00:00.000000",
          "2018-04-29T00:00:00.000000",
          "2018-04-30T00:00:00.000000",
          "2018-05-01T00:00:00.000000",
          "2018-05-02T00:00:00.000000",
          "2018-05-03T00:00:00.000000",
          "2018-05-04T00:00:00.000000",
          "2018-05-05T00:00:00.000000",
          "2018-05-06T00:00:00.000000",
          "2018-05-07T00:00:00.000000",
          "2018-05-08T00:00:00.000000",
          "2018-05-09T00:00:00.000000",
          "2018-05-10T00:00:00.000000",
          "2018-05-11T00:00:00.000000",
          "2018-05-12T00:00:00.000000",
          "2018-05-13T00:00:00.000000",
          "2018-05-14T00:00:00.000000",
          "2018-05-15T00:00:00.000000",
          "2018-05-16T00:00:00.000000",
          "2018-05-17T00:00:00.000000",
          "2018-05-18T00:00:00.000000",
          "2018-05-19T00:00:00.000000",
          "2018-05-20T00:00:00.000000",
          "2018-05-21T00:00:00.000000",
          "2018-05-22T00:00:00.000000",
          "2018-05-23T00:00:00.000000",
          "2018-05-24T00:00:00.000000",
          "2018-05-25T00:00:00.000000",
          "2018-05-26T00:00:00.000000",
          "2018-05-27T00:00:00.000000",
          "2018-05-28T00:00:00.000000",
          "2018-05-29T00:00:00.000000",
          "2018-05-30T00:00:00.000000",
          "2018-05-31T00:00:00.000000",
          "2018-06-01T00:00:00.000000",
          "2018-06-02T00:00:00.000000",
          "2018-06-03T00:00:00.000000",
          "2018-06-04T00:00:00.000000",
          "2018-06-05T00:00:00.000000",
          "2018-06-06T00:00:00.000000",
          "2018-06-07T00:00:00.000000",
          "2018-06-08T00:00:00.000000",
          "2018-06-09T00:00:00.000000",
          "2018-06-10T00:00:00.000000",
          "2018-06-11T00:00:00.000000",
          "2018-06-12T00:00:00.000000",
          "2018-06-13T00:00:00.000000",
          "2018-06-14T00:00:00.000000",
          "2018-06-15T00:00:00.000000",
          "2018-06-16T00:00:00.000000",
          "2018-06-17T00:00:00.000000",
          "2018-06-18T00:00:00.000000",
          "2018-06-19T00:00:00.000000",
          "2018-06-20T00:00:00.000000",
          "2018-06-21T00:00:00.000000",
          "2018-06-22T00:00:00.000000",
          "2018-06-23T00:00:00.000000",
          "2018-06-24T00:00:00.000000",
          "2018-06-25T00:00:00.000000",
          "2018-06-26T00:00:00.000000",
          "2018-06-27T00:00:00.000000",
          "2018-06-28T00:00:00.000000",
          "2018-06-29T00:00:00.000000",
          "2018-06-30T00:00:00.000000",
          "2018-07-01T00:00:00.000000",
          "2018-07-02T00:00:00.000000",
          "2018-07-03T00:00:00.000000",
          "2018-07-04T00:00:00.000000",
          "2018-07-05T00:00:00.000000",
          "2018-07-06T00:00:00.000000",
          "2018-07-07T00:00:00.000000",
          "2018-07-08T00:00:00.000000",
          "2018-07-09T00:00:00.000000",
          "2018-07-10T00:00:00.000000",
          "2018-07-11T00:00:00.000000",
          "2018-07-12T00:00:00.000000",
          "2018-07-13T00:00:00.000000",
          "2018-07-14T00:00:00.000000",
          "2018-07-15T00:00:00.000000",
          "2018-07-16T00:00:00.000000",
          "2018-07-17T00:00:00.000000",
          "2018-07-18T00:00:00.000000",
          "2018-07-19T00:00:00.000000",
          "2018-07-20T00:00:00.000000",
          "2018-07-21T00:00:00.000000",
          "2018-07-22T00:00:00.000000",
          "2018-07-23T00:00:00.000000",
          "2018-07-24T00:00:00.000000",
          "2018-07-25T00:00:00.000000",
          "2018-07-26T00:00:00.000000",
          "2018-07-27T00:00:00.000000",
          "2018-07-28T00:00:00.000000",
          "2018-07-29T00:00:00.000000",
          "2018-07-30T00:00:00.000000",
          "2018-07-31T00:00:00.000000",
          "2018-08-01T00:00:00.000000",
          "2018-08-02T00:00:00.000000",
          "2018-08-03T00:00:00.000000",
          "2018-08-04T00:00:00.000000",
          "2018-08-05T00:00:00.000000",
          "2018-08-06T00:00:00.000000",
          "2018-08-07T00:00:00.000000",
          "2018-08-08T00:00:00.000000",
          "2018-08-09T00:00:00.000000",
          "2018-08-10T00:00:00.000000",
          "2018-08-11T00:00:00.000000",
          "2018-08-12T00:00:00.000000",
          "2018-08-13T00:00:00.000000",
          "2018-08-14T00:00:00.000000",
          "2018-08-15T00:00:00.000000",
          "2018-08-16T00:00:00.000000",
          "2018-08-17T00:00:00.000000",
          "2018-08-18T00:00:00.000000",
          "2018-08-19T00:00:00.000000",
          "2018-08-20T00:00:00.000000",
          "2018-08-21T00:00:00.000000",
          "2018-08-22T00:00:00.000000",
          "2018-08-23T00:00:00.000000",
          "2018-08-24T00:00:00.000000",
          "2018-08-25T00:00:00.000000",
          "2018-08-26T00:00:00.000000",
          "2018-08-27T00:00:00.000000",
          "2018-08-28T00:00:00.000000",
          "2018-08-29T00:00:00.000000",
          "2018-08-30T00:00:00.000000",
          "2018-08-31T00:00:00.000000",
          "2018-09-01T00:00:00.000000",
          "2018-09-02T00:00:00.000000",
          "2018-09-03T00:00:00.000000",
          "2018-09-04T00:00:00.000000",
          "2018-09-05T00:00:00.000000",
          "2018-09-06T00:00:00.000000",
          "2018-09-07T00:00:00.000000",
          "2018-09-08T00:00:00.000000",
          "2018-09-09T00:00:00.000000",
          "2018-09-10T00:00:00.000000",
          "2018-09-11T00:00:00.000000",
          "2018-09-12T00:00:00.000000",
          "2018-09-13T00:00:00.000000",
          "2018-09-14T00:00:00.000000",
          "2018-09-15T00:00:00.000000",
          "2018-09-16T00:00:00.000000",
          "2018-09-17T00:00:00.000000",
          "2018-09-18T00:00:00.000000",
          "2018-09-19T00:00:00.000000",
          "2018-09-20T00:00:00.000000",
          "2018-09-21T00:00:00.000000",
          "2018-09-22T00:00:00.000000",
          "2018-09-23T00:00:00.000000",
          "2018-09-24T00:00:00.000000",
          "2018-09-25T00:00:00.000000",
          "2018-09-26T00:00:00.000000",
          "2018-09-27T00:00:00.000000",
          "2018-09-28T00:00:00.000000",
          "2018-09-29T00:00:00.000000",
          "2018-09-30T00:00:00.000000",
          "2018-10-01T00:00:00.000000",
          "2018-10-02T00:00:00.000000",
          "2018-10-03T00:00:00.000000",
          "2018-10-04T00:00:00.000000",
          "2018-10-05T00:00:00.000000",
          "2018-10-06T00:00:00.000000",
          "2018-10-07T00:00:00.000000",
          "2018-10-08T00:00:00.000000",
          "2018-10-09T00:00:00.000000",
          "2018-10-10T00:00:00.000000",
          "2018-10-11T00:00:00.000000",
          "2018-10-12T00:00:00.000000",
          "2018-10-13T00:00:00.000000",
          "2018-10-14T00:00:00.000000",
          "2018-10-15T00:00:00.000000",
          "2018-10-16T00:00:00.000000",
          "2018-10-17T00:00:00.000000",
          "2018-10-18T00:00:00.000000",
          "2018-10-19T00:00:00.000000",
          "2018-10-20T00:00:00.000000",
          "2018-10-21T00:00:00.000000",
          "2018-10-22T00:00:00.000000",
          "2018-10-23T00:00:00.000000",
          "2018-10-24T00:00:00.000000",
          "2018-10-25T00:00:00.000000",
          "2018-10-26T00:00:00.000000",
          "2018-10-27T00:00:00.000000",
          "2018-10-28T00:00:00.000000",
          "2018-10-29T00:00:00.000000",
          "2018-10-30T00:00:00.000000",
          "2018-10-31T00:00:00.000000",
          "2018-11-01T00:00:00.000000",
          "2018-11-02T00:00:00.000000",
          "2018-11-03T00:00:00.000000",
          "2018-11-04T00:00:00.000000",
          "2018-11-05T00:00:00.000000",
          "2018-11-06T00:00:00.000000",
          "2018-11-07T00:00:00.000000",
          "2018-11-08T00:00:00.000000",
          "2018-11-09T00:00:00.000000",
          "2018-11-10T00:00:00.000000",
          "2018-11-11T00:00:00.000000",
          "2018-11-12T00:00:00.000000",
          "2018-11-13T00:00:00.000000",
          "2018-11-14T00:00:00.000000",
          "2018-11-15T00:00:00.000000",
          "2018-11-16T00:00:00.000000",
          "2018-11-17T00:00:00.000000",
          "2018-11-18T00:00:00.000000",
          "2018-11-19T00:00:00.000000",
          "2018-11-20T00:00:00.000000",
          "2018-11-21T00:00:00.000000",
          "2018-11-22T00:00:00.000000",
          "2018-11-23T00:00:00.000000",
          "2018-11-24T00:00:00.000000",
          "2018-11-25T00:00:00.000000",
          "2018-11-26T00:00:00.000000",
          "2018-11-27T00:00:00.000000",
          "2018-11-28T00:00:00.000000",
          "2018-11-29T00:00:00.000000",
          "2018-11-30T00:00:00.000000",
          "2018-12-01T00:00:00.000000",
          "2018-12-02T00:00:00.000000",
          "2018-12-03T00:00:00.000000",
          "2018-12-04T00:00:00.000000",
          "2018-12-05T00:00:00.000000",
          "2018-12-06T00:00:00.000000",
          "2018-12-07T00:00:00.000000",
          "2018-12-08T00:00:00.000000",
          "2018-12-09T00:00:00.000000",
          "2018-12-10T00:00:00.000000",
          "2018-12-11T00:00:00.000000",
          "2018-12-12T00:00:00.000000",
          "2018-12-13T00:00:00.000000",
          "2018-12-14T00:00:00.000000",
          "2018-12-15T00:00:00.000000",
          "2018-12-16T00:00:00.000000",
          "2018-12-17T00:00:00.000000",
          "2018-12-18T00:00:00.000000",
          "2018-12-19T00:00:00.000000",
          "2018-12-20T00:00:00.000000",
          "2018-12-21T00:00:00.000000",
          "2018-12-22T00:00:00.000000",
          "2018-12-23T00:00:00.000000",
          "2018-12-24T00:00:00.000000",
          "2018-12-25T00:00:00.000000",
          "2018-12-26T00:00:00.000000",
          "2018-12-27T00:00:00.000000",
          "2018-12-28T00:00:00.000000",
          "2018-12-29T00:00:00.000000",
          "2018-12-30T00:00:00.000000",
          "2018-12-31T00:00:00.000000",
          "2019-01-01T00:00:00.000000",
          "2019-01-02T00:00:00.000000",
          "2019-01-03T00:00:00.000000",
          "2019-01-04T00:00:00.000000",
          "2019-01-05T00:00:00.000000",
          "2019-01-06T00:00:00.000000",
          "2019-01-07T00:00:00.000000",
          "2019-01-08T00:00:00.000000",
          "2019-01-09T00:00:00.000000",
          "2019-01-10T00:00:00.000000",
          "2019-01-11T00:00:00.000000",
          "2019-01-12T00:00:00.000000",
          "2019-01-13T00:00:00.000000",
          "2019-01-14T00:00:00.000000",
          "2019-01-15T00:00:00.000000",
          "2019-01-16T00:00:00.000000",
          "2019-01-17T00:00:00.000000",
          "2019-01-18T00:00:00.000000",
          "2019-01-19T00:00:00.000000",
          "2019-01-20T00:00:00.000000",
          "2019-01-21T00:00:00.000000",
          "2019-01-22T00:00:00.000000",
          "2019-01-23T00:00:00.000000",
          "2019-01-24T00:00:00.000000",
          "2019-01-25T00:00:00.000000",
          "2019-01-26T00:00:00.000000",
          "2019-01-27T00:00:00.000000",
          "2019-01-28T00:00:00.000000",
          "2019-01-29T00:00:00.000000",
          "2019-01-30T00:00:00.000000",
          "2019-01-31T00:00:00.000000",
          "2019-02-01T00:00:00.000000",
          "2019-02-02T00:00:00.000000",
          "2019-02-03T00:00:00.000000",
          "2019-02-04T00:00:00.000000",
          "2019-02-05T00:00:00.000000",
          "2019-02-06T00:00:00.000000",
          "2019-02-07T00:00:00.000000",
          "2019-02-08T00:00:00.000000",
          "2019-02-09T00:00:00.000000",
          "2019-02-10T00:00:00.000000",
          "2019-02-11T00:00:00.000000",
          "2019-02-12T00:00:00.000000",
          "2019-02-13T00:00:00.000000",
          "2019-02-14T00:00:00.000000",
          "2019-02-15T00:00:00.000000",
          "2019-02-16T00:00:00.000000",
          "2019-02-17T00:00:00.000000",
          "2019-02-18T00:00:00.000000",
          "2019-02-19T00:00:00.000000",
          "2019-02-20T00:00:00.000000",
          "2019-02-21T00:00:00.000000",
          "2019-02-22T00:00:00.000000",
          "2019-02-23T00:00:00.000000",
          "2019-02-24T00:00:00.000000",
          "2019-02-25T00:00:00.000000",
          "2019-02-26T00:00:00.000000",
          "2019-02-27T00:00:00.000000",
          "2019-02-28T00:00:00.000000",
          "2019-03-01T00:00:00.000000",
          "2019-03-02T00:00:00.000000",
          "2019-03-03T00:00:00.000000",
          "2019-03-04T00:00:00.000000",
          "2019-03-05T00:00:00.000000",
          "2019-03-06T00:00:00.000000",
          "2019-03-07T00:00:00.000000",
          "2019-03-08T00:00:00.000000",
          "2019-03-09T00:00:00.000000",
          "2019-03-10T00:00:00.000000",
          "2019-03-11T00:00:00.000000",
          "2019-03-12T00:00:00.000000",
          "2019-03-13T00:00:00.000000",
          "2019-03-14T00:00:00.000000",
          "2019-03-15T00:00:00.000000",
          "2019-03-16T00:00:00.000000",
          "2019-03-17T00:00:00.000000",
          "2019-03-18T00:00:00.000000",
          "2019-03-19T00:00:00.000000",
          "2019-03-20T00:00:00.000000",
          "2019-03-21T00:00:00.000000",
          "2019-03-22T00:00:00.000000",
          "2019-03-23T00:00:00.000000",
          "2019-03-24T00:00:00.000000",
          "2019-03-25T00:00:00.000000",
          "2019-03-26T00:00:00.000000",
          "2019-03-27T00:00:00.000000",
          "2019-03-28T00:00:00.000000",
          "2019-03-29T00:00:00.000000",
          "2019-03-30T00:00:00.000000",
          "2019-03-31T00:00:00.000000",
          "2019-04-01T00:00:00.000000",
          "2019-04-02T00:00:00.000000",
          "2019-04-03T00:00:00.000000",
          "2019-04-04T00:00:00.000000",
          "2019-04-05T00:00:00.000000",
          "2019-04-06T00:00:00.000000",
          "2019-04-07T00:00:00.000000",
          "2019-04-08T00:00:00.000000",
          "2019-04-09T00:00:00.000000",
          "2019-04-10T00:00:00.000000",
          "2019-04-11T00:00:00.000000",
          "2019-04-12T00:00:00.000000",
          "2019-04-13T00:00:00.000000",
          "2019-04-14T00:00:00.000000",
          "2019-04-15T00:00:00.000000",
          "2019-04-16T00:00:00.000000",
          "2019-04-17T00:00:00.000000",
          "2019-04-18T00:00:00.000000",
          "2019-04-19T00:00:00.000000",
          "2019-04-20T00:00:00.000000",
          "2019-04-21T00:00:00.000000",
          "2019-04-22T00:00:00.000000",
          "2019-04-23T00:00:00.000000",
          "2019-04-24T00:00:00.000000",
          "2019-04-25T00:00:00.000000",
          "2019-04-26T00:00:00.000000",
          "2019-04-27T00:00:00.000000",
          "2019-04-28T00:00:00.000000",
          "2019-04-29T00:00:00.000000",
          "2019-04-30T00:00:00.000000",
          "2019-05-01T00:00:00.000000",
          "2019-05-02T00:00:00.000000",
          "2019-05-03T00:00:00.000000",
          "2019-05-04T00:00:00.000000",
          "2019-05-05T00:00:00.000000",
          "2019-05-06T00:00:00.000000",
          "2019-05-07T00:00:00.000000",
          "2019-05-08T00:00:00.000000",
          "2019-05-09T00:00:00.000000",
          "2019-05-10T00:00:00.000000",
          "2019-05-11T00:00:00.000000",
          "2019-05-12T00:00:00.000000",
          "2019-05-13T00:00:00.000000",
          "2019-05-14T00:00:00.000000",
          "2019-05-15T00:00:00.000000",
          "2019-05-16T00:00:00.000000",
          "2019-05-17T00:00:00.000000",
          "2019-05-18T00:00:00.000000",
          "2019-05-19T00:00:00.000000",
          "2019-05-20T00:00:00.000000",
          "2019-05-21T00:00:00.000000",
          "2019-05-22T00:00:00.000000",
          "2019-05-23T00:00:00.000000",
          "2019-05-24T00:00:00.000000",
          "2019-05-25T00:00:00.000000",
          "2019-05-26T00:00:00.000000",
          "2019-05-27T00:00:00.000000",
          "2019-05-28T00:00:00.000000",
          "2019-05-29T00:00:00.000000",
          "2019-05-30T00:00:00.000000",
          "2019-05-31T00:00:00.000000",
          "2019-06-01T00:00:00.000000",
          "2019-06-02T00:00:00.000000",
          "2019-06-03T00:00:00.000000",
          "2019-06-04T00:00:00.000000",
          "2019-06-05T00:00:00.000000",
          "2019-06-06T00:00:00.000000",
          "2019-06-07T00:00:00.000000",
          "2019-06-08T00:00:00.000000",
          "2019-06-09T00:00:00.000000",
          "2019-06-10T00:00:00.000000",
          "2019-06-11T00:00:00.000000",
          "2019-06-12T00:00:00.000000",
          "2019-06-13T00:00:00.000000",
          "2019-06-14T00:00:00.000000",
          "2019-06-15T00:00:00.000000",
          "2019-06-16T00:00:00.000000",
          "2019-06-17T00:00:00.000000",
          "2019-06-18T00:00:00.000000",
          "2019-06-19T00:00:00.000000",
          "2019-06-20T00:00:00.000000",
          "2019-06-21T00:00:00.000000",
          "2019-06-22T00:00:00.000000",
          "2019-06-23T00:00:00.000000",
          "2019-06-24T00:00:00.000000",
          "2019-06-25T00:00:00.000000",
          "2019-06-26T00:00:00.000000",
          "2019-06-27T00:00:00.000000",
          "2019-06-28T00:00:00.000000",
          "2019-06-29T00:00:00.000000",
          "2019-06-30T00:00:00.000000",
          "2019-07-01T00:00:00.000000",
          "2019-07-02T00:00:00.000000",
          "2019-07-03T00:00:00.000000",
          "2019-07-04T00:00:00.000000",
          "2019-07-05T00:00:00.000000",
          "2019-07-06T00:00:00.000000",
          "2019-07-07T00:00:00.000000",
          "2019-07-08T00:00:00.000000",
          "2019-07-09T00:00:00.000000",
          "2019-07-10T00:00:00.000000",
          "2019-07-11T00:00:00.000000",
          "2019-07-12T00:00:00.000000",
          "2019-07-13T00:00:00.000000",
          "2019-07-14T00:00:00.000000",
          "2019-07-15T00:00:00.000000",
          "2019-07-16T00:00:00.000000",
          "2019-07-17T00:00:00.000000",
          "2019-07-18T00:00:00.000000",
          "2019-07-19T00:00:00.000000",
          "2019-07-20T00:00:00.000000",
          "2019-07-21T00:00:00.000000",
          "2019-07-22T00:00:00.000000",
          "2019-07-23T00:00:00.000000",
          "2019-07-24T00:00:00.000000",
          "2019-07-25T00:00:00.000000",
          "2019-07-26T00:00:00.000000",
          "2019-07-27T00:00:00.000000",
          "2019-07-28T00:00:00.000000",
          "2019-07-29T00:00:00.000000",
          "2019-07-30T00:00:00.000000",
          "2019-07-31T00:00:00.000000",
          "2019-08-01T00:00:00.000000",
          "2019-08-02T00:00:00.000000",
          "2019-08-03T00:00:00.000000",
          "2019-08-04T00:00:00.000000",
          "2019-08-05T00:00:00.000000",
          "2019-08-06T00:00:00.000000",
          "2019-08-07T00:00:00.000000",
          "2019-08-08T00:00:00.000000",
          "2019-08-09T00:00:00.000000",
          "2019-08-10T00:00:00.000000",
          "2019-08-11T00:00:00.000000",
          "2019-08-12T00:00:00.000000",
          "2019-08-13T00:00:00.000000",
          "2019-08-14T00:00:00.000000",
          "2019-08-15T00:00:00.000000",
          "2019-08-16T00:00:00.000000",
          "2019-08-17T00:00:00.000000",
          "2019-08-18T00:00:00.000000",
          "2019-08-19T00:00:00.000000",
          "2019-08-20T00:00:00.000000",
          "2019-08-21T00:00:00.000000",
          "2019-08-22T00:00:00.000000",
          "2019-08-23T00:00:00.000000",
          "2019-08-24T00:00:00.000000",
          "2019-08-25T00:00:00.000000",
          "2019-08-26T00:00:00.000000",
          "2019-08-27T00:00:00.000000",
          "2019-08-28T00:00:00.000000",
          "2019-08-29T00:00:00.000000",
          "2019-08-30T00:00:00.000000",
          "2019-08-31T00:00:00.000000",
          "2019-09-01T00:00:00.000000",
          "2019-09-02T00:00:00.000000",
          "2019-09-03T00:00:00.000000",
          "2019-09-04T00:00:00.000000",
          "2019-09-05T00:00:00.000000",
          "2019-09-06T00:00:00.000000",
          "2019-09-07T00:00:00.000000",
          "2019-09-08T00:00:00.000000",
          "2019-09-09T00:00:00.000000",
          "2019-09-10T00:00:00.000000",
          "2019-09-11T00:00:00.000000",
          "2019-09-12T00:00:00.000000",
          "2019-09-13T00:00:00.000000",
          "2019-09-14T00:00:00.000000",
          "2019-09-15T00:00:00.000000",
          "2019-09-16T00:00:00.000000",
          "2019-09-17T00:00:00.000000",
          "2019-09-18T00:00:00.000000",
          "2019-09-19T00:00:00.000000",
          "2019-09-20T00:00:00.000000",
          "2019-09-21T00:00:00.000000",
          "2019-09-22T00:00:00.000000",
          "2019-09-23T00:00:00.000000",
          "2019-09-24T00:00:00.000000",
          "2019-09-25T00:00:00.000000",
          "2019-09-26T00:00:00.000000",
          "2019-09-27T00:00:00.000000",
          "2019-09-28T00:00:00.000000",
          "2019-09-29T00:00:00.000000",
          "2019-09-30T00:00:00.000000",
          "2019-10-01T00:00:00.000000",
          "2019-10-02T00:00:00.000000",
          "2019-10-03T00:00:00.000000",
          "2019-10-04T00:00:00.000000",
          "2019-10-05T00:00:00.000000",
          "2019-10-06T00:00:00.000000",
          "2019-10-07T00:00:00.000000",
          "2019-10-08T00:00:00.000000",
          "2019-10-09T00:00:00.000000",
          "2019-10-10T00:00:00.000000",
          "2019-10-11T00:00:00.000000",
          "2019-10-12T00:00:00.000000",
          "2019-10-13T00:00:00.000000",
          "2019-10-14T00:00:00.000000",
          "2019-10-15T00:00:00.000000",
          "2019-10-16T00:00:00.000000",
          "2019-10-17T00:00:00.000000",
          "2019-10-18T00:00:00.000000",
          "2019-10-19T00:00:00.000000",
          "2019-10-20T00:00:00.000000",
          "2019-10-21T00:00:00.000000",
          "2019-10-22T00:00:00.000000",
          "2019-10-23T00:00:00.000000",
          "2019-10-24T00:00:00.000000",
          "2019-10-25T00:00:00.000000",
          "2019-10-26T00:00:00.000000",
          "2019-10-27T00:00:00.000000",
          "2019-10-28T00:00:00.000000",
          "2019-10-29T00:00:00.000000",
          "2019-10-30T00:00:00.000000",
          "2019-10-31T00:00:00.000000",
          "2019-11-01T00:00:00.000000",
          "2019-11-02T00:00:00.000000",
          "2019-11-03T00:00:00.000000",
          "2019-11-04T00:00:00.000000",
          "2019-11-05T00:00:00.000000",
          "2019-11-06T00:00:00.000000",
          "2019-11-07T00:00:00.000000",
          "2019-11-08T00:00:00.000000",
          "2019-11-09T00:00:00.000000",
          "2019-11-10T00:00:00.000000",
          "2019-11-11T00:00:00.000000",
          "2019-11-12T00:00:00.000000",
          "2019-11-13T00:00:00.000000",
          "2019-11-14T00:00:00.000000",
          "2019-11-15T00:00:00.000000",
          "2019-11-16T00:00:00.000000",
          "2019-11-17T00:00:00.000000",
          "2019-11-18T00:00:00.000000",
          "2019-11-19T00:00:00.000000",
          "2019-11-20T00:00:00.000000",
          "2019-11-21T00:00:00.000000",
          "2019-11-22T00:00:00.000000",
          "2019-11-23T00:00:00.000000",
          "2019-11-24T00:00:00.000000",
          "2019-11-25T00:00:00.000000",
          "2019-11-26T00:00:00.000000",
          "2019-11-27T00:00:00.000000",
          "2019-11-28T00:00:00.000000",
          "2019-11-29T00:00:00.000000",
          "2019-11-30T00:00:00.000000",
          "2019-12-01T00:00:00.000000",
          "2019-12-02T00:00:00.000000",
          "2019-12-03T00:00:00.000000",
          "2019-12-04T00:00:00.000000",
          "2019-12-05T00:00:00.000000",
          "2019-12-06T00:00:00.000000",
          "2019-12-07T00:00:00.000000",
          "2019-12-08T00:00:00.000000",
          "2019-12-09T00:00:00.000000",
          "2019-12-10T00:00:00.000000",
          "2019-12-11T00:00:00.000000",
          "2019-12-12T00:00:00.000000",
          "2019-12-13T00:00:00.000000",
          "2019-12-14T00:00:00.000000",
          "2019-12-15T00:00:00.000000",
          "2019-12-16T00:00:00.000000",
          "2019-12-17T00:00:00.000000",
          "2019-12-18T00:00:00.000000",
          "2019-12-19T00:00:00.000000",
          "2019-12-20T00:00:00.000000",
          "2019-12-21T00:00:00.000000",
          "2019-12-22T00:00:00.000000",
          "2019-12-23T00:00:00.000000",
          "2019-12-24T00:00:00.000000",
          "2019-12-25T00:00:00.000000",
          "2019-12-26T00:00:00.000000",
          "2019-12-27T00:00:00.000000",
          "2019-12-28T00:00:00.000000",
          "2019-12-29T00:00:00.000000",
          "2019-12-30T00:00:00.000000",
          "2019-12-31T00:00:00.000000",
          "2020-01-01T00:00:00.000000",
          "2020-01-02T00:00:00.000000",
          "2020-01-03T00:00:00.000000",
          "2020-01-04T00:00:00.000000",
          "2020-01-05T00:00:00.000000",
          "2020-01-06T00:00:00.000000",
          "2020-01-07T00:00:00.000000",
          "2020-01-08T00:00:00.000000",
          "2020-01-09T00:00:00.000000",
          "2020-01-10T00:00:00.000000",
          "2020-01-11T00:00:00.000000",
          "2020-01-12T00:00:00.000000",
          "2020-01-13T00:00:00.000000",
          "2020-01-14T00:00:00.000000",
          "2020-01-15T00:00:00.000000",
          "2020-01-16T00:00:00.000000",
          "2020-01-17T00:00:00.000000",
          "2020-01-18T00:00:00.000000",
          "2020-01-19T00:00:00.000000",
          "2020-01-20T00:00:00.000000",
          "2020-01-21T00:00:00.000000",
          "2020-01-22T00:00:00.000000",
          "2020-01-23T00:00:00.000000",
          "2020-01-24T00:00:00.000000",
          "2020-01-25T00:00:00.000000",
          "2020-01-26T00:00:00.000000",
          "2020-01-27T00:00:00.000000",
          "2020-01-28T00:00:00.000000",
          "2020-01-29T00:00:00.000000",
          "2020-01-30T00:00:00.000000",
          "2020-01-31T00:00:00.000000",
          "2020-02-01T00:00:00.000000",
          "2020-02-02T00:00:00.000000",
          "2020-02-03T00:00:00.000000",
          "2020-02-04T00:00:00.000000",
          "2020-02-05T00:00:00.000000",
          "2020-02-06T00:00:00.000000",
          "2020-02-07T00:00:00.000000",
          "2020-02-08T00:00:00.000000",
          "2020-02-09T00:00:00.000000",
          "2020-02-10T00:00:00.000000",
          "2020-02-11T00:00:00.000000",
          "2020-02-12T00:00:00.000000",
          "2020-02-13T00:00:00.000000",
          "2020-02-14T00:00:00.000000",
          "2020-02-15T00:00:00.000000",
          "2020-02-16T00:00:00.000000",
          "2020-02-17T00:00:00.000000",
          "2020-02-18T00:00:00.000000",
          "2020-02-19T00:00:00.000000",
          "2020-02-20T00:00:00.000000",
          "2020-02-21T00:00:00.000000",
          "2020-02-22T00:00:00.000000",
          "2020-02-23T00:00:00.000000",
          "2020-02-24T00:00:00.000000",
          "2020-02-25T00:00:00.000000",
          "2020-02-26T00:00:00.000000",
          "2020-02-27T00:00:00.000000",
          "2020-02-28T00:00:00.000000",
          "2020-02-29T00:00:00.000000",
          "2020-03-01T00:00:00.000000",
          "2020-03-02T00:00:00.000000",
          "2020-03-03T00:00:00.000000",
          "2020-03-04T00:00:00.000000",
          "2020-03-05T00:00:00.000000",
          "2020-03-06T00:00:00.000000",
          "2020-03-07T00:00:00.000000",
          "2020-03-08T00:00:00.000000",
          "2020-03-09T00:00:00.000000",
          "2020-03-10T00:00:00.000000",
          "2020-03-11T00:00:00.000000",
          "2020-03-12T00:00:00.000000",
          "2020-03-13T00:00:00.000000",
          "2020-03-14T00:00:00.000000",
          "2020-03-15T00:00:00.000000",
          "2020-03-16T00:00:00.000000",
          "2020-03-17T00:00:00.000000",
          "2020-03-18T00:00:00.000000",
          "2020-03-19T00:00:00.000000",
          "2020-03-20T00:00:00.000000",
          "2020-03-21T00:00:00.000000",
          "2020-03-22T00:00:00.000000",
          "2020-03-23T00:00:00.000000",
          "2020-03-24T00:00:00.000000",
          "2020-03-25T00:00:00.000000",
          "2020-03-26T00:00:00.000000",
          "2020-03-27T00:00:00.000000",
          "2020-03-28T00:00:00.000000",
          "2020-03-29T00:00:00.000000",
          "2020-03-30T00:00:00.000000",
          "2020-03-31T00:00:00.000000",
          "2020-04-01T00:00:00.000000",
          "2020-04-02T00:00:00.000000",
          "2020-04-03T00:00:00.000000",
          "2020-04-04T00:00:00.000000",
          "2020-04-05T00:00:00.000000",
          "2020-04-06T00:00:00.000000",
          "2020-04-07T00:00:00.000000",
          "2020-04-08T00:00:00.000000",
          "2020-04-09T00:00:00.000000",
          "2020-04-10T00:00:00.000000",
          "2020-04-11T00:00:00.000000",
          "2020-04-12T00:00:00.000000",
          "2020-04-13T00:00:00.000000",
          "2020-04-14T00:00:00.000000",
          "2020-04-15T00:00:00.000000",
          "2020-04-16T00:00:00.000000",
          "2020-04-17T00:00:00.000000",
          "2020-04-18T00:00:00.000000",
          "2020-04-19T00:00:00.000000",
          "2020-04-20T00:00:00.000000",
          "2020-04-21T00:00:00.000000",
          "2020-04-22T00:00:00.000000",
          "2020-04-23T00:00:00.000000",
          "2020-04-24T00:00:00.000000",
          "2020-04-25T00:00:00.000000",
          "2020-04-26T00:00:00.000000",
          "2020-04-27T00:00:00.000000",
          "2020-04-28T00:00:00.000000",
          "2020-04-29T00:00:00.000000",
          "2020-04-30T00:00:00.000000",
          "2020-05-01T00:00:00.000000",
          "2020-05-02T00:00:00.000000",
          "2020-05-03T00:00:00.000000",
          "2020-05-04T00:00:00.000000",
          "2020-05-05T00:00:00.000000",
          "2020-05-06T00:00:00.000000",
          "2020-05-07T00:00:00.000000",
          "2020-05-08T00:00:00.000000",
          "2020-05-09T00:00:00.000000",
          "2020-05-10T00:00:00.000000",
          "2020-05-11T00:00:00.000000",
          "2020-05-12T00:00:00.000000",
          "2020-05-13T00:00:00.000000",
          "2020-05-14T00:00:00.000000",
          "2020-05-15T00:00:00.000000",
          "2020-05-16T00:00:00.000000",
          "2020-05-17T00:00:00.000000",
          "2020-05-18T00:00:00.000000",
          "2020-05-19T00:00:00.000000",
          "2020-05-20T00:00:00.000000",
          "2020-05-21T00:00:00.000000",
          "2020-05-22T00:00:00.000000",
          "2020-05-23T00:00:00.000000",
          "2020-05-24T00:00:00.000000",
          "2020-05-25T00:00:00.000000",
          "2020-05-26T00:00:00.000000",
          "2020-05-27T00:00:00.000000",
          "2020-05-28T00:00:00.000000",
          "2020-05-29T00:00:00.000000",
          "2020-05-30T00:00:00.000000",
          "2020-05-31T00:00:00.000000",
          "2020-06-01T00:00:00.000000",
          "2020-06-02T00:00:00.000000",
          "2020-06-03T00:00:00.000000",
          "2020-06-04T00:00:00.000000",
          "2020-06-05T00:00:00.000000",
          "2020-06-06T00:00:00.000000",
          "2020-06-07T00:00:00.000000",
          "2020-06-08T00:00:00.000000",
          "2020-06-09T00:00:00.000000",
          "2020-06-10T00:00:00.000000",
          "2020-06-11T00:00:00.000000",
          "2020-06-12T00:00:00.000000",
          "2020-06-13T00:00:00.000000",
          "2020-06-14T00:00:00.000000",
          "2020-06-15T00:00:00.000000",
          "2020-06-16T00:00:00.000000",
          "2020-06-17T00:00:00.000000",
          "2020-06-18T00:00:00.000000",
          "2020-06-19T00:00:00.000000",
          "2020-06-20T00:00:00.000000",
          "2020-06-21T00:00:00.000000",
          "2020-06-22T00:00:00.000000",
          "2020-06-23T00:00:00.000000",
          "2020-06-24T00:00:00.000000",
          "2020-06-25T00:00:00.000000",
          "2020-06-26T00:00:00.000000",
          "2020-06-27T00:00:00.000000",
          "2020-06-28T00:00:00.000000",
          "2020-06-29T00:00:00.000000",
          "2020-06-30T00:00:00.000000",
          "2020-07-01T00:00:00.000000",
          "2020-07-02T00:00:00.000000",
          "2020-07-03T00:00:00.000000",
          "2020-07-04T00:00:00.000000",
          "2020-07-05T00:00:00.000000",
          "2020-07-06T00:00:00.000000",
          "2020-07-07T00:00:00.000000",
          "2020-07-08T00:00:00.000000",
          "2020-07-09T00:00:00.000000",
          "2020-07-10T00:00:00.000000",
          "2020-07-11T00:00:00.000000",
          "2020-07-12T00:00:00.000000",
          "2020-07-13T00:00:00.000000",
          "2020-07-14T00:00:00.000000",
          "2020-07-15T00:00:00.000000",
          "2020-07-16T00:00:00.000000",
          "2020-07-17T00:00:00.000000",
          "2020-07-18T00:00:00.000000",
          "2020-07-19T00:00:00.000000",
          "2020-07-20T00:00:00.000000",
          "2020-07-21T00:00:00.000000",
          "2020-07-22T00:00:00.000000",
          "2020-07-23T00:00:00.000000",
          "2020-07-24T00:00:00.000000",
          "2020-07-25T00:00:00.000000",
          "2020-07-26T00:00:00.000000",
          "2020-07-27T00:00:00.000000",
          "2020-07-28T00:00:00.000000",
          "2020-07-29T00:00:00.000000",
          "2020-07-30T00:00:00.000000",
          "2020-07-31T00:00:00.000000",
          "2020-08-01T00:00:00.000000",
          "2020-08-02T00:00:00.000000",
          "2020-08-03T00:00:00.000000",
          "2020-08-04T00:00:00.000000",
          "2020-08-05T00:00:00.000000",
          "2020-08-06T00:00:00.000000",
          "2020-08-07T00:00:00.000000",
          "2020-08-08T00:00:00.000000",
          "2020-08-09T00:00:00.000000",
          "2020-08-10T00:00:00.000000",
          "2020-08-11T00:00:00.000000",
          "2020-08-12T00:00:00.000000",
          "2020-08-13T00:00:00.000000",
          "2020-08-14T00:00:00.000000",
          "2020-08-15T00:00:00.000000",
          "2020-08-16T00:00:00.000000",
          "2020-08-17T00:00:00.000000",
          "2020-08-18T00:00:00.000000",
          "2020-08-19T00:00:00.000000",
          "2020-08-20T00:00:00.000000",
          "2020-08-21T00:00:00.000000",
          "2020-08-22T00:00:00.000000",
          "2020-08-23T00:00:00.000000",
          "2020-08-24T00:00:00.000000",
          "2020-08-25T00:00:00.000000",
          "2020-08-26T00:00:00.000000",
          "2020-08-27T00:00:00.000000",
          "2020-08-28T00:00:00.000000",
          "2020-08-29T00:00:00.000000",
          "2020-08-30T00:00:00.000000",
          "2020-08-31T00:00:00.000000",
          "2020-09-01T00:00:00.000000",
          "2020-09-02T00:00:00.000000",
          "2020-09-03T00:00:00.000000",
          "2020-09-04T00:00:00.000000",
          "2020-09-05T00:00:00.000000",
          "2020-09-06T00:00:00.000000",
          "2020-09-07T00:00:00.000000",
          "2020-09-08T00:00:00.000000",
          "2020-09-09T00:00:00.000000",
          "2020-09-10T00:00:00.000000",
          "2020-09-11T00:00:00.000000",
          "2020-09-12T00:00:00.000000",
          "2020-09-13T00:00:00.000000",
          "2020-09-14T00:00:00.000000",
          "2020-09-15T00:00:00.000000",
          "2020-09-16T00:00:00.000000",
          "2020-09-17T00:00:00.000000",
          "2020-09-18T00:00:00.000000",
          "2020-09-19T00:00:00.000000",
          "2020-09-20T00:00:00.000000",
          "2020-09-21T00:00:00.000000",
          "2020-09-22T00:00:00.000000",
          "2020-09-23T00:00:00.000000",
          "2020-09-24T00:00:00.000000",
          "2020-09-25T00:00:00.000000",
          "2020-09-26T00:00:00.000000"
         ],
         "xaxis": "x",
         "yaxis": "y2"
        },
        {
         "marker": {
          "color": [
           "red",
           "red",
           "red",
           "green",
           "red",
           "red",
           "green",
           "green",
           "red",
           "green",
           "red",
           "green",
           "green",
           "green",
           "green",
           "red",
           "red",
           "red",
           "green",
           "red",
           "red",
           "green",
           "green",
           "red",
           "red",
           "red",
           "green",
           "green",
           "red",
           "green",
           "green",
           "red",
           "red",
           "green",
           "green",
           "green",
           "green",
           "red",
           "red",
           "green",
           "green",
           "green",
           "red",
           "green",
           "red",
           "red",
           "red",
           "red",
           "green",
           "red",
           "red",
           "red",
           "red",
           "green",
           "green",
           "green",
           "green",
           "green",
           "red",
           "red",
           "red",
           "red",
           "red",
           "green",
           "red",
           "red",
           "green",
           "green",
           "green",
           "red",
           "red",
           "red",
           "green",
           "red",
           "red",
           "green",
           "red",
           "green",
           "green",
           "red",
           "green",
           "green",
           "green",
           "green",
           "red",
           "red",
           "green",
           "red",
           "green",
           "red",
           "red",
           "red",
           "green",
           "green",
           "red",
           "red",
           "red",
           "red",
           "green",
           "green",
           "green",
           "green",
           "red",
           "green",
           "green",
           "green",
           "red",
           "green",
           "green",
           "green",
           "green",
           "green",
           "red",
           "green",
           "red",
           "green",
           "green",
           "red",
           "red",
           "green",
           "green",
           "red",
           "red",
           "red",
           "green",
           "green",
           "red",
           "green",
           "green",
           "red",
           "red",
           "green",
           "red",
           "green",
           "green",
           "green",
           "red",
           "green",
           "green",
           "red",
           "red",
           "red",
           "green",
           "green",
           "red",
           "red",
           "green",
           "red",
           "green",
           "green",
           "green",
           "green",
           "green",
           "green",
           "green",
           "red",
           "green",
           "green",
           "green",
           "green",
           "red",
           "red",
           "red",
           "red",
           "red",
           "red",
           "green",
           "green",
           "red",
           "green",
           "red",
           "red",
           "green",
           "red",
           "green",
           "green",
           "red",
           "red",
           "red",
           "red",
           "red",
           "red",
           "red",
           "red",
           "green",
           "red",
           "red",
           "red",
           "red",
           "red",
           "red",
           "red",
           "red",
           "red",
           "green",
           "green",
           "green",
           "red",
           "green",
           "green",
           "green",
           "red",
           "green",
           "red",
           "red",
           "red",
           "green",
           "red",
           "green",
           "red",
           "green",
           "green",
           "red",
           "green",
           "red",
           "green",
           "green",
           "green",
           "green",
           "red",
           "green",
           "red",
           "green",
           "red",
           "red",
           "green",
           "green",
           "green",
           "red",
           "red",
           "red",
           "green",
           "green",
           "green",
           "red",
           "red",
           "green",
           "green",
           "red",
           "red",
           "green",
           "green",
           "green",
           "red",
           "green",
           "green",
           "red",
           "green",
           "green",
           "green",
           "green",
           "red",
           "red",
           "red",
           "red",
           "green",
           "green",
           "green",
           "red",
           "red",
           "green",
           "red",
           "red",
           "red",
           "red",
           "red",
           "red",
           "red",
           "green",
           "green",
           "green",
           "green",
           "red",
           "red",
           "green",
           "red",
           "red",
           "red",
           "green",
           "green",
           "red",
           "green",
           "green",
           "red",
           "red",
           "red",
           "green",
           "red",
           "green",
           "red",
           "green",
           "red",
           "green",
           "red",
           "red",
           "red",
           "red",
           "green",
           "green",
           "red",
           "red",
           "red",
           "green",
           "green",
           "red",
           "green",
           "red",
           "green",
           "red",
           "red",
           "red",
           "red",
           "green",
           "red",
           "green",
           "red",
           "green",
           "green",
           "red",
           "red",
           "green",
           "red",
           "green",
           "green",
           "red",
           "red",
           "red",
           "red",
           "green",
           "green",
           "green",
           "red",
           "green",
           "red",
           "red",
           "green",
           "red",
           "green",
           "green",
           "green",
           "red",
           "red",
           "red",
           "green",
           "red",
           "red",
           "green",
           "red",
           "green",
           "green",
           "green",
           "green",
           "red",
           "green",
           "green",
           "red",
           "green",
           "green",
           "green",
           "green",
           "red",
           "red",
           "red",
           "green",
           "red",
           "red",
           "red",
           "red",
           "red",
           "green",
           "red",
           "green",
           "green",
           "red",
           "green",
           "green",
           "red",
           "red",
           "red",
           "green",
           "green",
           "green",
           "red",
           "green",
           "green",
           "green",
           "red",
           "red",
           "red",
           "green",
           "red",
           "green",
           "red",
           "red",
           "green",
           "green",
           "green",
           "green",
           "green",
           "red",
           "green",
           "red",
           "red",
           "green",
           "red",
           "green",
           "green",
           "red",
           "green",
           "green",
           "red",
           "green",
           "red",
           "red",
           "red",
           "green",
           "green",
           "green",
           "green",
           "green",
           "red",
           "green",
           "green",
           "green",
           "green",
           "green",
           "red",
           "green",
           "green",
           "green",
           "green",
           "red",
           "red",
           "green",
           "red",
           "red",
           "green",
           "red",
           "green",
           "green",
           "red",
           "red",
           "green",
           "red",
           "red",
           "green",
           "green",
           "red",
           "red",
           "red",
           "red",
           "green",
           "green",
           "green",
           "green",
           "green",
           "red",
           "red",
           "green",
           "green",
           "green",
           "green",
           "red",
           "green",
           "green",
           "red",
           "green",
           "green",
           "red",
           "red",
           "red",
           "green",
           "red",
           "green",
           "green",
           "green",
           "green",
           "green",
           "green",
           "green",
           "red",
           "red",
           "green",
           "green",
           "green",
           "red",
           "green",
           "red",
           "green",
           "green",
           "green",
           "red",
           "red",
           "green",
           "green",
           "red",
           "red",
           "red",
           "green",
           "green",
           "red",
           "green",
           "green",
           "green",
           "red",
           "red",
           "green",
           "green",
           "green",
           "red",
           "red",
           "red",
           "red",
           "red",
           "red",
           "red",
           "red",
           "red",
           "red",
           "red",
           "green",
           "green",
           "green",
           "green",
           "green",
           "green",
           "green",
           "red",
           "green",
           "green",
           "red",
           "green",
           "green",
           "green",
           "green",
           "red",
           "red",
           "red",
           "green",
           "red",
           "green",
           "red",
           "green",
           "red",
           "green",
           "red",
           "red",
           "green",
           "red",
           "red",
           "red",
           "red",
           "red",
           "red",
           "green",
           "green",
           "green",
           "green",
           "green",
           "red",
           "green",
           "red",
           "red",
           "green",
           "red",
           "red",
           "green",
           "green",
           "red",
           "red",
           "red",
           "green",
           "red",
           "red",
           "green",
           "green",
           "green",
           "red",
           "green",
           "red",
           "red",
           "red",
           "red",
           "red",
           "green",
           "green",
           "green",
           "red",
           "green",
           "green",
           "green",
           "green",
           "green",
           "red",
           "red",
           "green",
           "red",
           "green",
           "green",
           "red",
           "red",
           "red",
           "red",
           "red",
           "green",
           "green",
           "green",
           "green",
           "green",
           "green",
           "red",
           "red",
           "green",
           "red",
           "red",
           "red",
           "red",
           "green",
           "red",
           "green",
           "green",
           "green",
           "red",
           "green",
           "red",
           "green",
           "green",
           "red",
           "green",
           "red",
           "red",
           "red",
           "green",
           "red",
           "red",
           "green",
           "green",
           "red",
           "green",
           "red",
           "red",
           "green",
           "red",
           "red",
           "green",
           "red",
           "red",
           "green",
           "red",
           "red",
           "red",
           "green",
           "green",
           "red",
           "red",
           "green",
           "red",
           "red",
           "green",
           "green",
           "green",
           "green",
           "green",
           "red",
           "red",
           "red",
           "green",
           "red",
           "green",
           "red",
           "green",
           "red",
           "green",
           "red",
           "green",
           "red",
           "red",
           "green",
           "red",
           "green",
           "red",
           "red",
           "green",
           "red",
           "green",
           "red",
           "red",
           "red",
           "green",
           "green",
           "red",
           "red",
           "green",
           "red",
           "red",
           "green",
           "green",
           "green",
           "green",
           "red",
           "red",
           "red",
           "green",
           "green",
           "green",
           "red",
           "green",
           "red",
           "red",
           "red",
           "green",
           "red",
           "green",
           "red",
           "red",
           "red",
           "green",
           "red",
           "green",
           "green",
           "green",
           "red",
           "red",
           "green",
           "red",
           "red",
           "green",
           "green",
           "green",
           "red",
           "green",
           "green",
           "green",
           "green",
           "red",
           "green",
           "green",
           "green",
           "green",
           "green",
           "green",
           "red",
           "green",
           "green",
           "red",
           "red",
           "green",
           "green",
           "green",
           "green",
           "green",
           "red",
           "green",
           "green",
           "green",
           "green",
           "red",
           "green",
           "red",
           "green",
           "red",
           "red",
           "green",
           "red",
           "red",
           "red",
           "green",
           "red",
           "red",
           "green",
           "green",
           "red",
           "green",
           "red",
           "red",
           "red",
           "green",
           "green",
           "green",
           "red",
           "red",
           "green",
           "red",
           "green",
           "green",
           "green",
           "red",
           "green",
           "red",
           "red",
           "red",
           "green",
           "red",
           "red",
           "green",
           "green",
           "green",
           "green",
           "red",
           "green",
           "green",
           "red",
           "green",
           "green",
           "red",
           "red",
           "red",
           "red",
           "green",
           "green",
           "red",
           "red",
           "red",
           "green",
           "green",
           "green",
           "green",
           "red",
           "red",
           "green",
           "green",
           "red",
           "green",
           "red",
           "red",
           "red",
           "green",
           "red",
           "green",
           "red",
           "green",
           "green",
           "red",
           "red",
           "green",
           "green",
           "red",
           "red",
           "green",
           "green",
           "green",
           "red",
           "green",
           "green",
           "green",
           "red",
           "green",
           "green",
           "green",
           "green",
           "red",
           "green",
           "green",
           "green",
           "green",
           "red",
           "green",
           "red",
           "red",
           "red",
           "green",
           "red",
           "green",
           "red",
           "green",
           "red",
           "red",
           "red",
           "green",
           "green",
           "red",
           "red",
           "green",
           "green",
           "green",
           "red",
           "green",
           "red",
           "red",
           "green",
           "green",
           "red",
           "red",
           "red",
           "red",
           "green",
           "green",
           "red",
           "red",
           "green",
           "green",
           "red",
           "green",
           "red",
           "red",
           "red",
           "green",
           "red",
           "green",
           "red",
           "red",
           "red",
           "green",
           "green",
           "red",
           "green",
           "red",
           "red",
           "red",
           "red",
           "green",
           "red",
           "red",
           "green",
           "green",
           "red",
           "red",
           "red",
           "red",
           "green",
           "red",
           "red",
           "red",
           "green",
           "red",
           "red",
           "red",
           "green",
           "green",
           "red",
           "red",
           "green",
           "red",
           "red",
           "green",
           "red",
           "red",
           "green",
           "green",
           "red",
           "red",
           "red",
           "green",
           "red",
           "green",
           "red",
           "green",
           "red",
           "red",
           "red",
           "red",
           "red",
           "green",
           "red",
           "red",
           "red",
           "green",
           "green",
           "red",
           "red",
           "green",
           "red",
           "green",
           "red",
           "red",
           "green",
           "green",
           "green",
           "red",
           "red",
           "red",
           "green",
           "red",
           "green",
           "green",
           "red",
           "green",
           "red",
           "green",
           "green",
           "red",
           "green",
           "green",
           "red",
           "red",
           "green",
           "green",
           "red",
           "red",
           "red",
           "green",
           "green",
           "red",
           "green",
           "green",
           "green",
           "red",
           "green",
           "red",
           "green"
          ],
          "line": {
           "width": 0
          }
         },
         "name": "Volume",
         "type": "bar",
         "uid": "81e4ab55-54c7-4271-b152-1e69a24bc85c",
         "x": [
          "2018-01-01T00:00:00.000000",
          "2018-01-02T00:00:00.000000",
          "2018-01-03T00:00:00.000000",
          "2018-01-04T00:00:00.000000",
          "2018-01-05T00:00:00.000000",
          "2018-01-06T00:00:00.000000",
          "2018-01-07T00:00:00.000000",
          "2018-01-08T00:00:00.000000",
          "2018-01-09T00:00:00.000000",
          "2018-01-10T00:00:00.000000",
          "2018-01-11T00:00:00.000000",
          "2018-01-12T00:00:00.000000",
          "2018-01-13T00:00:00.000000",
          "2018-01-14T00:00:00.000000",
          "2018-01-15T00:00:00.000000",
          "2018-01-16T00:00:00.000000",
          "2018-01-17T00:00:00.000000",
          "2018-01-18T00:00:00.000000",
          "2018-01-19T00:00:00.000000",
          "2018-01-20T00:00:00.000000",
          "2018-01-21T00:00:00.000000",
          "2018-01-22T00:00:00.000000",
          "2018-01-23T00:00:00.000000",
          "2018-01-24T00:00:00.000000",
          "2018-01-25T00:00:00.000000",
          "2018-01-26T00:00:00.000000",
          "2018-01-27T00:00:00.000000",
          "2018-01-28T00:00:00.000000",
          "2018-01-29T00:00:00.000000",
          "2018-01-30T00:00:00.000000",
          "2018-01-31T00:00:00.000000",
          "2018-02-01T00:00:00.000000",
          "2018-02-02T00:00:00.000000",
          "2018-02-03T00:00:00.000000",
          "2018-02-04T00:00:00.000000",
          "2018-02-05T00:00:00.000000",
          "2018-02-06T00:00:00.000000",
          "2018-02-07T00:00:00.000000",
          "2018-02-08T00:00:00.000000",
          "2018-02-09T00:00:00.000000",
          "2018-02-10T00:00:00.000000",
          "2018-02-11T00:00:00.000000",
          "2018-02-12T00:00:00.000000",
          "2018-02-13T00:00:00.000000",
          "2018-02-14T00:00:00.000000",
          "2018-02-15T00:00:00.000000",
          "2018-02-16T00:00:00.000000",
          "2018-02-17T00:00:00.000000",
          "2018-02-18T00:00:00.000000",
          "2018-02-19T00:00:00.000000",
          "2018-02-20T00:00:00.000000",
          "2018-02-21T00:00:00.000000",
          "2018-02-22T00:00:00.000000",
          "2018-02-23T00:00:00.000000",
          "2018-02-24T00:00:00.000000",
          "2018-02-25T00:00:00.000000",
          "2018-02-26T00:00:00.000000",
          "2018-02-27T00:00:00.000000",
          "2018-02-28T00:00:00.000000",
          "2018-03-01T00:00:00.000000",
          "2018-03-02T00:00:00.000000",
          "2018-03-03T00:00:00.000000",
          "2018-03-04T00:00:00.000000",
          "2018-03-05T00:00:00.000000",
          "2018-03-06T00:00:00.000000",
          "2018-03-07T00:00:00.000000",
          "2018-03-08T00:00:00.000000",
          "2018-03-09T00:00:00.000000",
          "2018-03-10T00:00:00.000000",
          "2018-03-11T00:00:00.000000",
          "2018-03-12T00:00:00.000000",
          "2018-03-13T00:00:00.000000",
          "2018-03-14T00:00:00.000000",
          "2018-03-15T00:00:00.000000",
          "2018-03-16T00:00:00.000000",
          "2018-03-17T00:00:00.000000",
          "2018-03-18T00:00:00.000000",
          "2018-03-19T00:00:00.000000",
          "2018-03-20T00:00:00.000000",
          "2018-03-21T00:00:00.000000",
          "2018-03-22T00:00:00.000000",
          "2018-03-23T00:00:00.000000",
          "2018-03-24T00:00:00.000000",
          "2018-03-25T00:00:00.000000",
          "2018-03-26T00:00:00.000000",
          "2018-03-27T00:00:00.000000",
          "2018-03-28T00:00:00.000000",
          "2018-03-29T00:00:00.000000",
          "2018-03-30T00:00:00.000000",
          "2018-03-31T00:00:00.000000",
          "2018-04-01T00:00:00.000000",
          "2018-04-02T00:00:00.000000",
          "2018-04-03T00:00:00.000000",
          "2018-04-04T00:00:00.000000",
          "2018-04-05T00:00:00.000000",
          "2018-04-06T00:00:00.000000",
          "2018-04-07T00:00:00.000000",
          "2018-04-08T00:00:00.000000",
          "2018-04-09T00:00:00.000000",
          "2018-04-10T00:00:00.000000",
          "2018-04-11T00:00:00.000000",
          "2018-04-12T00:00:00.000000",
          "2018-04-13T00:00:00.000000",
          "2018-04-14T00:00:00.000000",
          "2018-04-15T00:00:00.000000",
          "2018-04-16T00:00:00.000000",
          "2018-04-17T00:00:00.000000",
          "2018-04-18T00:00:00.000000",
          "2018-04-19T00:00:00.000000",
          "2018-04-20T00:00:00.000000",
          "2018-04-21T00:00:00.000000",
          "2018-04-22T00:00:00.000000",
          "2018-04-23T00:00:00.000000",
          "2018-04-24T00:00:00.000000",
          "2018-04-25T00:00:00.000000",
          "2018-04-26T00:00:00.000000",
          "2018-04-27T00:00:00.000000",
          "2018-04-28T00:00:00.000000",
          "2018-04-29T00:00:00.000000",
          "2018-04-30T00:00:00.000000",
          "2018-05-01T00:00:00.000000",
          "2018-05-02T00:00:00.000000",
          "2018-05-03T00:00:00.000000",
          "2018-05-04T00:00:00.000000",
          "2018-05-05T00:00:00.000000",
          "2018-05-06T00:00:00.000000",
          "2018-05-07T00:00:00.000000",
          "2018-05-08T00:00:00.000000",
          "2018-05-09T00:00:00.000000",
          "2018-05-10T00:00:00.000000",
          "2018-05-11T00:00:00.000000",
          "2018-05-12T00:00:00.000000",
          "2018-05-13T00:00:00.000000",
          "2018-05-14T00:00:00.000000",
          "2018-05-15T00:00:00.000000",
          "2018-05-16T00:00:00.000000",
          "2018-05-17T00:00:00.000000",
          "2018-05-18T00:00:00.000000",
          "2018-05-19T00:00:00.000000",
          "2018-05-20T00:00:00.000000",
          "2018-05-21T00:00:00.000000",
          "2018-05-22T00:00:00.000000",
          "2018-05-23T00:00:00.000000",
          "2018-05-24T00:00:00.000000",
          "2018-05-25T00:00:00.000000",
          "2018-05-26T00:00:00.000000",
          "2018-05-27T00:00:00.000000",
          "2018-05-28T00:00:00.000000",
          "2018-05-29T00:00:00.000000",
          "2018-05-30T00:00:00.000000",
          "2018-05-31T00:00:00.000000",
          "2018-06-01T00:00:00.000000",
          "2018-06-02T00:00:00.000000",
          "2018-06-03T00:00:00.000000",
          "2018-06-04T00:00:00.000000",
          "2018-06-05T00:00:00.000000",
          "2018-06-06T00:00:00.000000",
          "2018-06-07T00:00:00.000000",
          "2018-06-08T00:00:00.000000",
          "2018-06-09T00:00:00.000000",
          "2018-06-10T00:00:00.000000",
          "2018-06-11T00:00:00.000000",
          "2018-06-12T00:00:00.000000",
          "2018-06-13T00:00:00.000000",
          "2018-06-14T00:00:00.000000",
          "2018-06-15T00:00:00.000000",
          "2018-06-16T00:00:00.000000",
          "2018-06-17T00:00:00.000000",
          "2018-06-18T00:00:00.000000",
          "2018-06-19T00:00:00.000000",
          "2018-06-20T00:00:00.000000",
          "2018-06-21T00:00:00.000000",
          "2018-06-22T00:00:00.000000",
          "2018-06-23T00:00:00.000000",
          "2018-06-24T00:00:00.000000",
          "2018-06-25T00:00:00.000000",
          "2018-06-26T00:00:00.000000",
          "2018-06-27T00:00:00.000000",
          "2018-06-28T00:00:00.000000",
          "2018-06-29T00:00:00.000000",
          "2018-06-30T00:00:00.000000",
          "2018-07-01T00:00:00.000000",
          "2018-07-02T00:00:00.000000",
          "2018-07-03T00:00:00.000000",
          "2018-07-04T00:00:00.000000",
          "2018-07-05T00:00:00.000000",
          "2018-07-06T00:00:00.000000",
          "2018-07-07T00:00:00.000000",
          "2018-07-08T00:00:00.000000",
          "2018-07-09T00:00:00.000000",
          "2018-07-10T00:00:00.000000",
          "2018-07-11T00:00:00.000000",
          "2018-07-12T00:00:00.000000",
          "2018-07-13T00:00:00.000000",
          "2018-07-14T00:00:00.000000",
          "2018-07-15T00:00:00.000000",
          "2018-07-16T00:00:00.000000",
          "2018-07-17T00:00:00.000000",
          "2018-07-18T00:00:00.000000",
          "2018-07-19T00:00:00.000000",
          "2018-07-20T00:00:00.000000",
          "2018-07-21T00:00:00.000000",
          "2018-07-22T00:00:00.000000",
          "2018-07-23T00:00:00.000000",
          "2018-07-24T00:00:00.000000",
          "2018-07-25T00:00:00.000000",
          "2018-07-26T00:00:00.000000",
          "2018-07-27T00:00:00.000000",
          "2018-07-28T00:00:00.000000",
          "2018-07-29T00:00:00.000000",
          "2018-07-30T00:00:00.000000",
          "2018-07-31T00:00:00.000000",
          "2018-08-01T00:00:00.000000",
          "2018-08-02T00:00:00.000000",
          "2018-08-03T00:00:00.000000",
          "2018-08-04T00:00:00.000000",
          "2018-08-05T00:00:00.000000",
          "2018-08-06T00:00:00.000000",
          "2018-08-07T00:00:00.000000",
          "2018-08-08T00:00:00.000000",
          "2018-08-09T00:00:00.000000",
          "2018-08-10T00:00:00.000000",
          "2018-08-11T00:00:00.000000",
          "2018-08-12T00:00:00.000000",
          "2018-08-13T00:00:00.000000",
          "2018-08-14T00:00:00.000000",
          "2018-08-15T00:00:00.000000",
          "2018-08-16T00:00:00.000000",
          "2018-08-17T00:00:00.000000",
          "2018-08-18T00:00:00.000000",
          "2018-08-19T00:00:00.000000",
          "2018-08-20T00:00:00.000000",
          "2018-08-21T00:00:00.000000",
          "2018-08-22T00:00:00.000000",
          "2018-08-23T00:00:00.000000",
          "2018-08-24T00:00:00.000000",
          "2018-08-25T00:00:00.000000",
          "2018-08-26T00:00:00.000000",
          "2018-08-27T00:00:00.000000",
          "2018-08-28T00:00:00.000000",
          "2018-08-29T00:00:00.000000",
          "2018-08-30T00:00:00.000000",
          "2018-08-31T00:00:00.000000",
          "2018-09-01T00:00:00.000000",
          "2018-09-02T00:00:00.000000",
          "2018-09-03T00:00:00.000000",
          "2018-09-04T00:00:00.000000",
          "2018-09-05T00:00:00.000000",
          "2018-09-06T00:00:00.000000",
          "2018-09-07T00:00:00.000000",
          "2018-09-08T00:00:00.000000",
          "2018-09-09T00:00:00.000000",
          "2018-09-10T00:00:00.000000",
          "2018-09-11T00:00:00.000000",
          "2018-09-12T00:00:00.000000",
          "2018-09-13T00:00:00.000000",
          "2018-09-14T00:00:00.000000",
          "2018-09-15T00:00:00.000000",
          "2018-09-16T00:00:00.000000",
          "2018-09-17T00:00:00.000000",
          "2018-09-18T00:00:00.000000",
          "2018-09-19T00:00:00.000000",
          "2018-09-20T00:00:00.000000",
          "2018-09-21T00:00:00.000000",
          "2018-09-22T00:00:00.000000",
          "2018-09-23T00:00:00.000000",
          "2018-09-24T00:00:00.000000",
          "2018-09-25T00:00:00.000000",
          "2018-09-26T00:00:00.000000",
          "2018-09-27T00:00:00.000000",
          "2018-09-28T00:00:00.000000",
          "2018-09-29T00:00:00.000000",
          "2018-09-30T00:00:00.000000",
          "2018-10-01T00:00:00.000000",
          "2018-10-02T00:00:00.000000",
          "2018-10-03T00:00:00.000000",
          "2018-10-04T00:00:00.000000",
          "2018-10-05T00:00:00.000000",
          "2018-10-06T00:00:00.000000",
          "2018-10-07T00:00:00.000000",
          "2018-10-08T00:00:00.000000",
          "2018-10-09T00:00:00.000000",
          "2018-10-10T00:00:00.000000",
          "2018-10-11T00:00:00.000000",
          "2018-10-12T00:00:00.000000",
          "2018-10-13T00:00:00.000000",
          "2018-10-14T00:00:00.000000",
          "2018-10-15T00:00:00.000000",
          "2018-10-16T00:00:00.000000",
          "2018-10-17T00:00:00.000000",
          "2018-10-18T00:00:00.000000",
          "2018-10-19T00:00:00.000000",
          "2018-10-20T00:00:00.000000",
          "2018-10-21T00:00:00.000000",
          "2018-10-22T00:00:00.000000",
          "2018-10-23T00:00:00.000000",
          "2018-10-24T00:00:00.000000",
          "2018-10-25T00:00:00.000000",
          "2018-10-26T00:00:00.000000",
          "2018-10-27T00:00:00.000000",
          "2018-10-28T00:00:00.000000",
          "2018-10-29T00:00:00.000000",
          "2018-10-30T00:00:00.000000",
          "2018-10-31T00:00:00.000000",
          "2018-11-01T00:00:00.000000",
          "2018-11-02T00:00:00.000000",
          "2018-11-03T00:00:00.000000",
          "2018-11-04T00:00:00.000000",
          "2018-11-05T00:00:00.000000",
          "2018-11-06T00:00:00.000000",
          "2018-11-07T00:00:00.000000",
          "2018-11-08T00:00:00.000000",
          "2018-11-09T00:00:00.000000",
          "2018-11-10T00:00:00.000000",
          "2018-11-11T00:00:00.000000",
          "2018-11-12T00:00:00.000000",
          "2018-11-13T00:00:00.000000",
          "2018-11-14T00:00:00.000000",
          "2018-11-15T00:00:00.000000",
          "2018-11-16T00:00:00.000000",
          "2018-11-17T00:00:00.000000",
          "2018-11-18T00:00:00.000000",
          "2018-11-19T00:00:00.000000",
          "2018-11-20T00:00:00.000000",
          "2018-11-21T00:00:00.000000",
          "2018-11-22T00:00:00.000000",
          "2018-11-23T00:00:00.000000",
          "2018-11-24T00:00:00.000000",
          "2018-11-25T00:00:00.000000",
          "2018-11-26T00:00:00.000000",
          "2018-11-27T00:00:00.000000",
          "2018-11-28T00:00:00.000000",
          "2018-11-29T00:00:00.000000",
          "2018-11-30T00:00:00.000000",
          "2018-12-01T00:00:00.000000",
          "2018-12-02T00:00:00.000000",
          "2018-12-03T00:00:00.000000",
          "2018-12-04T00:00:00.000000",
          "2018-12-05T00:00:00.000000",
          "2018-12-06T00:00:00.000000",
          "2018-12-07T00:00:00.000000",
          "2018-12-08T00:00:00.000000",
          "2018-12-09T00:00:00.000000",
          "2018-12-10T00:00:00.000000",
          "2018-12-11T00:00:00.000000",
          "2018-12-12T00:00:00.000000",
          "2018-12-13T00:00:00.000000",
          "2018-12-14T00:00:00.000000",
          "2018-12-15T00:00:00.000000",
          "2018-12-16T00:00:00.000000",
          "2018-12-17T00:00:00.000000",
          "2018-12-18T00:00:00.000000",
          "2018-12-19T00:00:00.000000",
          "2018-12-20T00:00:00.000000",
          "2018-12-21T00:00:00.000000",
          "2018-12-22T00:00:00.000000",
          "2018-12-23T00:00:00.000000",
          "2018-12-24T00:00:00.000000",
          "2018-12-25T00:00:00.000000",
          "2018-12-26T00:00:00.000000",
          "2018-12-27T00:00:00.000000",
          "2018-12-28T00:00:00.000000",
          "2018-12-29T00:00:00.000000",
          "2018-12-30T00:00:00.000000",
          "2018-12-31T00:00:00.000000",
          "2019-01-01T00:00:00.000000",
          "2019-01-02T00:00:00.000000",
          "2019-01-03T00:00:00.000000",
          "2019-01-04T00:00:00.000000",
          "2019-01-05T00:00:00.000000",
          "2019-01-06T00:00:00.000000",
          "2019-01-07T00:00:00.000000",
          "2019-01-08T00:00:00.000000",
          "2019-01-09T00:00:00.000000",
          "2019-01-10T00:00:00.000000",
          "2019-01-11T00:00:00.000000",
          "2019-01-12T00:00:00.000000",
          "2019-01-13T00:00:00.000000",
          "2019-01-14T00:00:00.000000",
          "2019-01-15T00:00:00.000000",
          "2019-01-16T00:00:00.000000",
          "2019-01-17T00:00:00.000000",
          "2019-01-18T00:00:00.000000",
          "2019-01-19T00:00:00.000000",
          "2019-01-20T00:00:00.000000",
          "2019-01-21T00:00:00.000000",
          "2019-01-22T00:00:00.000000",
          "2019-01-23T00:00:00.000000",
          "2019-01-24T00:00:00.000000",
          "2019-01-25T00:00:00.000000",
          "2019-01-26T00:00:00.000000",
          "2019-01-27T00:00:00.000000",
          "2019-01-28T00:00:00.000000",
          "2019-01-29T00:00:00.000000",
          "2019-01-30T00:00:00.000000",
          "2019-01-31T00:00:00.000000",
          "2019-02-01T00:00:00.000000",
          "2019-02-02T00:00:00.000000",
          "2019-02-03T00:00:00.000000",
          "2019-02-04T00:00:00.000000",
          "2019-02-05T00:00:00.000000",
          "2019-02-06T00:00:00.000000",
          "2019-02-07T00:00:00.000000",
          "2019-02-08T00:00:00.000000",
          "2019-02-09T00:00:00.000000",
          "2019-02-10T00:00:00.000000",
          "2019-02-11T00:00:00.000000",
          "2019-02-12T00:00:00.000000",
          "2019-02-13T00:00:00.000000",
          "2019-02-14T00:00:00.000000",
          "2019-02-15T00:00:00.000000",
          "2019-02-16T00:00:00.000000",
          "2019-02-17T00:00:00.000000",
          "2019-02-18T00:00:00.000000",
          "2019-02-19T00:00:00.000000",
          "2019-02-20T00:00:00.000000",
          "2019-02-21T00:00:00.000000",
          "2019-02-22T00:00:00.000000",
          "2019-02-23T00:00:00.000000",
          "2019-02-24T00:00:00.000000",
          "2019-02-25T00:00:00.000000",
          "2019-02-26T00:00:00.000000",
          "2019-02-27T00:00:00.000000",
          "2019-02-28T00:00:00.000000",
          "2019-03-01T00:00:00.000000",
          "2019-03-02T00:00:00.000000",
          "2019-03-03T00:00:00.000000",
          "2019-03-04T00:00:00.000000",
          "2019-03-05T00:00:00.000000",
          "2019-03-06T00:00:00.000000",
          "2019-03-07T00:00:00.000000",
          "2019-03-08T00:00:00.000000",
          "2019-03-09T00:00:00.000000",
          "2019-03-10T00:00:00.000000",
          "2019-03-11T00:00:00.000000",
          "2019-03-12T00:00:00.000000",
          "2019-03-13T00:00:00.000000",
          "2019-03-14T00:00:00.000000",
          "2019-03-15T00:00:00.000000",
          "2019-03-16T00:00:00.000000",
          "2019-03-17T00:00:00.000000",
          "2019-03-18T00:00:00.000000",
          "2019-03-19T00:00:00.000000",
          "2019-03-20T00:00:00.000000",
          "2019-03-21T00:00:00.000000",
          "2019-03-22T00:00:00.000000",
          "2019-03-23T00:00:00.000000",
          "2019-03-24T00:00:00.000000",
          "2019-03-25T00:00:00.000000",
          "2019-03-26T00:00:00.000000",
          "2019-03-27T00:00:00.000000",
          "2019-03-28T00:00:00.000000",
          "2019-03-29T00:00:00.000000",
          "2019-03-30T00:00:00.000000",
          "2019-03-31T00:00:00.000000",
          "2019-04-01T00:00:00.000000",
          "2019-04-02T00:00:00.000000",
          "2019-04-03T00:00:00.000000",
          "2019-04-04T00:00:00.000000",
          "2019-04-05T00:00:00.000000",
          "2019-04-06T00:00:00.000000",
          "2019-04-07T00:00:00.000000",
          "2019-04-08T00:00:00.000000",
          "2019-04-09T00:00:00.000000",
          "2019-04-10T00:00:00.000000",
          "2019-04-11T00:00:00.000000",
          "2019-04-12T00:00:00.000000",
          "2019-04-13T00:00:00.000000",
          "2019-04-14T00:00:00.000000",
          "2019-04-15T00:00:00.000000",
          "2019-04-16T00:00:00.000000",
          "2019-04-17T00:00:00.000000",
          "2019-04-18T00:00:00.000000",
          "2019-04-19T00:00:00.000000",
          "2019-04-20T00:00:00.000000",
          "2019-04-21T00:00:00.000000",
          "2019-04-22T00:00:00.000000",
          "2019-04-23T00:00:00.000000",
          "2019-04-24T00:00:00.000000",
          "2019-04-25T00:00:00.000000",
          "2019-04-26T00:00:00.000000",
          "2019-04-27T00:00:00.000000",
          "2019-04-28T00:00:00.000000",
          "2019-04-29T00:00:00.000000",
          "2019-04-30T00:00:00.000000",
          "2019-05-01T00:00:00.000000",
          "2019-05-02T00:00:00.000000",
          "2019-05-03T00:00:00.000000",
          "2019-05-04T00:00:00.000000",
          "2019-05-05T00:00:00.000000",
          "2019-05-06T00:00:00.000000",
          "2019-05-07T00:00:00.000000",
          "2019-05-08T00:00:00.000000",
          "2019-05-09T00:00:00.000000",
          "2019-05-10T00:00:00.000000",
          "2019-05-11T00:00:00.000000",
          "2019-05-12T00:00:00.000000",
          "2019-05-13T00:00:00.000000",
          "2019-05-14T00:00:00.000000",
          "2019-05-15T00:00:00.000000",
          "2019-05-16T00:00:00.000000",
          "2019-05-17T00:00:00.000000",
          "2019-05-18T00:00:00.000000",
          "2019-05-19T00:00:00.000000",
          "2019-05-20T00:00:00.000000",
          "2019-05-21T00:00:00.000000",
          "2019-05-22T00:00:00.000000",
          "2019-05-23T00:00:00.000000",
          "2019-05-24T00:00:00.000000",
          "2019-05-25T00:00:00.000000",
          "2019-05-26T00:00:00.000000",
          "2019-05-27T00:00:00.000000",
          "2019-05-28T00:00:00.000000",
          "2019-05-29T00:00:00.000000",
          "2019-05-30T00:00:00.000000",
          "2019-05-31T00:00:00.000000",
          "2019-06-01T00:00:00.000000",
          "2019-06-02T00:00:00.000000",
          "2019-06-03T00:00:00.000000",
          "2019-06-04T00:00:00.000000",
          "2019-06-05T00:00:00.000000",
          "2019-06-06T00:00:00.000000",
          "2019-06-07T00:00:00.000000",
          "2019-06-08T00:00:00.000000",
          "2019-06-09T00:00:00.000000",
          "2019-06-10T00:00:00.000000",
          "2019-06-11T00:00:00.000000",
          "2019-06-12T00:00:00.000000",
          "2019-06-13T00:00:00.000000",
          "2019-06-14T00:00:00.000000",
          "2019-06-15T00:00:00.000000",
          "2019-06-16T00:00:00.000000",
          "2019-06-17T00:00:00.000000",
          "2019-06-18T00:00:00.000000",
          "2019-06-19T00:00:00.000000",
          "2019-06-20T00:00:00.000000",
          "2019-06-21T00:00:00.000000",
          "2019-06-22T00:00:00.000000",
          "2019-06-23T00:00:00.000000",
          "2019-06-24T00:00:00.000000",
          "2019-06-25T00:00:00.000000",
          "2019-06-26T00:00:00.000000",
          "2019-06-27T00:00:00.000000",
          "2019-06-28T00:00:00.000000",
          "2019-06-29T00:00:00.000000",
          "2019-06-30T00:00:00.000000",
          "2019-07-01T00:00:00.000000",
          "2019-07-02T00:00:00.000000",
          "2019-07-03T00:00:00.000000",
          "2019-07-04T00:00:00.000000",
          "2019-07-05T00:00:00.000000",
          "2019-07-06T00:00:00.000000",
          "2019-07-07T00:00:00.000000",
          "2019-07-08T00:00:00.000000",
          "2019-07-09T00:00:00.000000",
          "2019-07-10T00:00:00.000000",
          "2019-07-11T00:00:00.000000",
          "2019-07-12T00:00:00.000000",
          "2019-07-13T00:00:00.000000",
          "2019-07-14T00:00:00.000000",
          "2019-07-15T00:00:00.000000",
          "2019-07-16T00:00:00.000000",
          "2019-07-17T00:00:00.000000",
          "2019-07-18T00:00:00.000000",
          "2019-07-19T00:00:00.000000",
          "2019-07-20T00:00:00.000000",
          "2019-07-21T00:00:00.000000",
          "2019-07-22T00:00:00.000000",
          "2019-07-23T00:00:00.000000",
          "2019-07-24T00:00:00.000000",
          "2019-07-25T00:00:00.000000",
          "2019-07-26T00:00:00.000000",
          "2019-07-27T00:00:00.000000",
          "2019-07-28T00:00:00.000000",
          "2019-07-29T00:00:00.000000",
          "2019-07-30T00:00:00.000000",
          "2019-07-31T00:00:00.000000",
          "2019-08-01T00:00:00.000000",
          "2019-08-02T00:00:00.000000",
          "2019-08-03T00:00:00.000000",
          "2019-08-04T00:00:00.000000",
          "2019-08-05T00:00:00.000000",
          "2019-08-06T00:00:00.000000",
          "2019-08-07T00:00:00.000000",
          "2019-08-08T00:00:00.000000",
          "2019-08-09T00:00:00.000000",
          "2019-08-10T00:00:00.000000",
          "2019-08-11T00:00:00.000000",
          "2019-08-12T00:00:00.000000",
          "2019-08-13T00:00:00.000000",
          "2019-08-14T00:00:00.000000",
          "2019-08-15T00:00:00.000000",
          "2019-08-16T00:00:00.000000",
          "2019-08-17T00:00:00.000000",
          "2019-08-18T00:00:00.000000",
          "2019-08-19T00:00:00.000000",
          "2019-08-20T00:00:00.000000",
          "2019-08-21T00:00:00.000000",
          "2019-08-22T00:00:00.000000",
          "2019-08-23T00:00:00.000000",
          "2019-08-24T00:00:00.000000",
          "2019-08-25T00:00:00.000000",
          "2019-08-26T00:00:00.000000",
          "2019-08-27T00:00:00.000000",
          "2019-08-28T00:00:00.000000",
          "2019-08-29T00:00:00.000000",
          "2019-08-30T00:00:00.000000",
          "2019-08-31T00:00:00.000000",
          "2019-09-01T00:00:00.000000",
          "2019-09-02T00:00:00.000000",
          "2019-09-03T00:00:00.000000",
          "2019-09-04T00:00:00.000000",
          "2019-09-05T00:00:00.000000",
          "2019-09-06T00:00:00.000000",
          "2019-09-07T00:00:00.000000",
          "2019-09-08T00:00:00.000000",
          "2019-09-09T00:00:00.000000",
          "2019-09-10T00:00:00.000000",
          "2019-09-11T00:00:00.000000",
          "2019-09-12T00:00:00.000000",
          "2019-09-13T00:00:00.000000",
          "2019-09-14T00:00:00.000000",
          "2019-09-15T00:00:00.000000",
          "2019-09-16T00:00:00.000000",
          "2019-09-17T00:00:00.000000",
          "2019-09-18T00:00:00.000000",
          "2019-09-19T00:00:00.000000",
          "2019-09-20T00:00:00.000000",
          "2019-09-21T00:00:00.000000",
          "2019-09-22T00:00:00.000000",
          "2019-09-23T00:00:00.000000",
          "2019-09-24T00:00:00.000000",
          "2019-09-25T00:00:00.000000",
          "2019-09-26T00:00:00.000000",
          "2019-09-27T00:00:00.000000",
          "2019-09-28T00:00:00.000000",
          "2019-09-29T00:00:00.000000",
          "2019-09-30T00:00:00.000000",
          "2019-10-01T00:00:00.000000",
          "2019-10-02T00:00:00.000000",
          "2019-10-03T00:00:00.000000",
          "2019-10-04T00:00:00.000000",
          "2019-10-05T00:00:00.000000",
          "2019-10-06T00:00:00.000000",
          "2019-10-07T00:00:00.000000",
          "2019-10-08T00:00:00.000000",
          "2019-10-09T00:00:00.000000",
          "2019-10-10T00:00:00.000000",
          "2019-10-11T00:00:00.000000",
          "2019-10-12T00:00:00.000000",
          "2019-10-13T00:00:00.000000",
          "2019-10-14T00:00:00.000000",
          "2019-10-15T00:00:00.000000",
          "2019-10-16T00:00:00.000000",
          "2019-10-17T00:00:00.000000",
          "2019-10-18T00:00:00.000000",
          "2019-10-19T00:00:00.000000",
          "2019-10-20T00:00:00.000000",
          "2019-10-21T00:00:00.000000",
          "2019-10-22T00:00:00.000000",
          "2019-10-23T00:00:00.000000",
          "2019-10-24T00:00:00.000000",
          "2019-10-25T00:00:00.000000",
          "2019-10-26T00:00:00.000000",
          "2019-10-27T00:00:00.000000",
          "2019-10-28T00:00:00.000000",
          "2019-10-29T00:00:00.000000",
          "2019-10-30T00:00:00.000000",
          "2019-10-31T00:00:00.000000",
          "2019-11-01T00:00:00.000000",
          "2019-11-02T00:00:00.000000",
          "2019-11-03T00:00:00.000000",
          "2019-11-04T00:00:00.000000",
          "2019-11-05T00:00:00.000000",
          "2019-11-06T00:00:00.000000",
          "2019-11-07T00:00:00.000000",
          "2019-11-08T00:00:00.000000",
          "2019-11-09T00:00:00.000000",
          "2019-11-10T00:00:00.000000",
          "2019-11-11T00:00:00.000000",
          "2019-11-12T00:00:00.000000",
          "2019-11-13T00:00:00.000000",
          "2019-11-14T00:00:00.000000",
          "2019-11-15T00:00:00.000000",
          "2019-11-16T00:00:00.000000",
          "2019-11-17T00:00:00.000000",
          "2019-11-18T00:00:00.000000",
          "2019-11-19T00:00:00.000000",
          "2019-11-20T00:00:00.000000",
          "2019-11-21T00:00:00.000000",
          "2019-11-22T00:00:00.000000",
          "2019-11-23T00:00:00.000000",
          "2019-11-24T00:00:00.000000",
          "2019-11-25T00:00:00.000000",
          "2019-11-26T00:00:00.000000",
          "2019-11-27T00:00:00.000000",
          "2019-11-28T00:00:00.000000",
          "2019-11-29T00:00:00.000000",
          "2019-11-30T00:00:00.000000",
          "2019-12-01T00:00:00.000000",
          "2019-12-02T00:00:00.000000",
          "2019-12-03T00:00:00.000000",
          "2019-12-04T00:00:00.000000",
          "2019-12-05T00:00:00.000000",
          "2019-12-06T00:00:00.000000",
          "2019-12-07T00:00:00.000000",
          "2019-12-08T00:00:00.000000",
          "2019-12-09T00:00:00.000000",
          "2019-12-10T00:00:00.000000",
          "2019-12-11T00:00:00.000000",
          "2019-12-12T00:00:00.000000",
          "2019-12-13T00:00:00.000000",
          "2019-12-14T00:00:00.000000",
          "2019-12-15T00:00:00.000000",
          "2019-12-16T00:00:00.000000",
          "2019-12-17T00:00:00.000000",
          "2019-12-18T00:00:00.000000",
          "2019-12-19T00:00:00.000000",
          "2019-12-20T00:00:00.000000",
          "2019-12-21T00:00:00.000000",
          "2019-12-22T00:00:00.000000",
          "2019-12-23T00:00:00.000000",
          "2019-12-24T00:00:00.000000",
          "2019-12-25T00:00:00.000000",
          "2019-12-26T00:00:00.000000",
          "2019-12-27T00:00:00.000000",
          "2019-12-28T00:00:00.000000",
          "2019-12-29T00:00:00.000000",
          "2019-12-30T00:00:00.000000",
          "2019-12-31T00:00:00.000000",
          "2020-01-01T00:00:00.000000",
          "2020-01-02T00:00:00.000000",
          "2020-01-03T00:00:00.000000",
          "2020-01-04T00:00:00.000000",
          "2020-01-05T00:00:00.000000",
          "2020-01-06T00:00:00.000000",
          "2020-01-07T00:00:00.000000",
          "2020-01-08T00:00:00.000000",
          "2020-01-09T00:00:00.000000",
          "2020-01-10T00:00:00.000000",
          "2020-01-11T00:00:00.000000",
          "2020-01-12T00:00:00.000000",
          "2020-01-13T00:00:00.000000",
          "2020-01-14T00:00:00.000000",
          "2020-01-15T00:00:00.000000",
          "2020-01-16T00:00:00.000000",
          "2020-01-17T00:00:00.000000",
          "2020-01-18T00:00:00.000000",
          "2020-01-19T00:00:00.000000",
          "2020-01-20T00:00:00.000000",
          "2020-01-21T00:00:00.000000",
          "2020-01-22T00:00:00.000000",
          "2020-01-23T00:00:00.000000",
          "2020-01-24T00:00:00.000000",
          "2020-01-25T00:00:00.000000",
          "2020-01-26T00:00:00.000000",
          "2020-01-27T00:00:00.000000",
          "2020-01-28T00:00:00.000000",
          "2020-01-29T00:00:00.000000",
          "2020-01-30T00:00:00.000000",
          "2020-01-31T00:00:00.000000",
          "2020-02-01T00:00:00.000000",
          "2020-02-02T00:00:00.000000",
          "2020-02-03T00:00:00.000000",
          "2020-02-04T00:00:00.000000",
          "2020-02-05T00:00:00.000000",
          "2020-02-06T00:00:00.000000",
          "2020-02-07T00:00:00.000000",
          "2020-02-08T00:00:00.000000",
          "2020-02-09T00:00:00.000000",
          "2020-02-10T00:00:00.000000",
          "2020-02-11T00:00:00.000000",
          "2020-02-12T00:00:00.000000",
          "2020-02-13T00:00:00.000000",
          "2020-02-14T00:00:00.000000",
          "2020-02-15T00:00:00.000000",
          "2020-02-16T00:00:00.000000",
          "2020-02-17T00:00:00.000000",
          "2020-02-18T00:00:00.000000",
          "2020-02-19T00:00:00.000000",
          "2020-02-20T00:00:00.000000",
          "2020-02-21T00:00:00.000000",
          "2020-02-22T00:00:00.000000",
          "2020-02-23T00:00:00.000000",
          "2020-02-24T00:00:00.000000",
          "2020-02-25T00:00:00.000000",
          "2020-02-26T00:00:00.000000",
          "2020-02-27T00:00:00.000000",
          "2020-02-28T00:00:00.000000",
          "2020-02-29T00:00:00.000000",
          "2020-03-01T00:00:00.000000",
          "2020-03-02T00:00:00.000000",
          "2020-03-03T00:00:00.000000",
          "2020-03-04T00:00:00.000000",
          "2020-03-05T00:00:00.000000",
          "2020-03-06T00:00:00.000000",
          "2020-03-07T00:00:00.000000",
          "2020-03-08T00:00:00.000000",
          "2020-03-09T00:00:00.000000",
          "2020-03-10T00:00:00.000000",
          "2020-03-11T00:00:00.000000",
          "2020-03-12T00:00:00.000000",
          "2020-03-13T00:00:00.000000",
          "2020-03-14T00:00:00.000000",
          "2020-03-15T00:00:00.000000",
          "2020-03-16T00:00:00.000000",
          "2020-03-17T00:00:00.000000",
          "2020-03-18T00:00:00.000000",
          "2020-03-19T00:00:00.000000",
          "2020-03-20T00:00:00.000000",
          "2020-03-21T00:00:00.000000",
          "2020-03-22T00:00:00.000000",
          "2020-03-23T00:00:00.000000",
          "2020-03-24T00:00:00.000000",
          "2020-03-25T00:00:00.000000",
          "2020-03-26T00:00:00.000000",
          "2020-03-27T00:00:00.000000",
          "2020-03-28T00:00:00.000000",
          "2020-03-29T00:00:00.000000",
          "2020-03-30T00:00:00.000000",
          "2020-03-31T00:00:00.000000",
          "2020-04-01T00:00:00.000000",
          "2020-04-02T00:00:00.000000",
          "2020-04-03T00:00:00.000000",
          "2020-04-04T00:00:00.000000",
          "2020-04-05T00:00:00.000000",
          "2020-04-06T00:00:00.000000",
          "2020-04-07T00:00:00.000000",
          "2020-04-08T00:00:00.000000",
          "2020-04-09T00:00:00.000000",
          "2020-04-10T00:00:00.000000",
          "2020-04-11T00:00:00.000000",
          "2020-04-12T00:00:00.000000",
          "2020-04-13T00:00:00.000000",
          "2020-04-14T00:00:00.000000",
          "2020-04-15T00:00:00.000000",
          "2020-04-16T00:00:00.000000",
          "2020-04-17T00:00:00.000000",
          "2020-04-18T00:00:00.000000",
          "2020-04-19T00:00:00.000000",
          "2020-04-20T00:00:00.000000",
          "2020-04-21T00:00:00.000000",
          "2020-04-22T00:00:00.000000",
          "2020-04-23T00:00:00.000000",
          "2020-04-24T00:00:00.000000",
          "2020-04-25T00:00:00.000000",
          "2020-04-26T00:00:00.000000",
          "2020-04-27T00:00:00.000000",
          "2020-04-28T00:00:00.000000",
          "2020-04-29T00:00:00.000000",
          "2020-04-30T00:00:00.000000",
          "2020-05-01T00:00:00.000000",
          "2020-05-02T00:00:00.000000",
          "2020-05-03T00:00:00.000000",
          "2020-05-04T00:00:00.000000",
          "2020-05-05T00:00:00.000000",
          "2020-05-06T00:00:00.000000",
          "2020-05-07T00:00:00.000000",
          "2020-05-08T00:00:00.000000",
          "2020-05-09T00:00:00.000000",
          "2020-05-10T00:00:00.000000",
          "2020-05-11T00:00:00.000000",
          "2020-05-12T00:00:00.000000",
          "2020-05-13T00:00:00.000000",
          "2020-05-14T00:00:00.000000",
          "2020-05-15T00:00:00.000000",
          "2020-05-16T00:00:00.000000",
          "2020-05-17T00:00:00.000000",
          "2020-05-18T00:00:00.000000",
          "2020-05-19T00:00:00.000000",
          "2020-05-20T00:00:00.000000",
          "2020-05-21T00:00:00.000000",
          "2020-05-22T00:00:00.000000",
          "2020-05-23T00:00:00.000000",
          "2020-05-24T00:00:00.000000",
          "2020-05-25T00:00:00.000000",
          "2020-05-26T00:00:00.000000",
          "2020-05-27T00:00:00.000000",
          "2020-05-28T00:00:00.000000",
          "2020-05-29T00:00:00.000000",
          "2020-05-30T00:00:00.000000",
          "2020-05-31T00:00:00.000000",
          "2020-06-01T00:00:00.000000",
          "2020-06-02T00:00:00.000000",
          "2020-06-03T00:00:00.000000",
          "2020-06-04T00:00:00.000000",
          "2020-06-05T00:00:00.000000",
          "2020-06-06T00:00:00.000000",
          "2020-06-07T00:00:00.000000",
          "2020-06-08T00:00:00.000000",
          "2020-06-09T00:00:00.000000",
          "2020-06-10T00:00:00.000000",
          "2020-06-11T00:00:00.000000",
          "2020-06-12T00:00:00.000000",
          "2020-06-13T00:00:00.000000",
          "2020-06-14T00:00:00.000000",
          "2020-06-15T00:00:00.000000",
          "2020-06-16T00:00:00.000000",
          "2020-06-17T00:00:00.000000",
          "2020-06-18T00:00:00.000000",
          "2020-06-19T00:00:00.000000",
          "2020-06-20T00:00:00.000000",
          "2020-06-21T00:00:00.000000",
          "2020-06-22T00:00:00.000000",
          "2020-06-23T00:00:00.000000",
          "2020-06-24T00:00:00.000000",
          "2020-06-25T00:00:00.000000",
          "2020-06-26T00:00:00.000000",
          "2020-06-27T00:00:00.000000",
          "2020-06-28T00:00:00.000000",
          "2020-06-29T00:00:00.000000",
          "2020-06-30T00:00:00.000000",
          "2020-07-01T00:00:00.000000",
          "2020-07-02T00:00:00.000000",
          "2020-07-03T00:00:00.000000",
          "2020-07-04T00:00:00.000000",
          "2020-07-05T00:00:00.000000",
          "2020-07-06T00:00:00.000000",
          "2020-07-07T00:00:00.000000",
          "2020-07-08T00:00:00.000000",
          "2020-07-09T00:00:00.000000",
          "2020-07-10T00:00:00.000000",
          "2020-07-11T00:00:00.000000",
          "2020-07-12T00:00:00.000000",
          "2020-07-13T00:00:00.000000",
          "2020-07-14T00:00:00.000000",
          "2020-07-15T00:00:00.000000",
          "2020-07-16T00:00:00.000000",
          "2020-07-17T00:00:00.000000",
          "2020-07-18T00:00:00.000000",
          "2020-07-19T00:00:00.000000",
          "2020-07-20T00:00:00.000000",
          "2020-07-21T00:00:00.000000",
          "2020-07-22T00:00:00.000000",
          "2020-07-23T00:00:00.000000",
          "2020-07-24T00:00:00.000000",
          "2020-07-25T00:00:00.000000",
          "2020-07-26T00:00:00.000000",
          "2020-07-27T00:00:00.000000",
          "2020-07-28T00:00:00.000000",
          "2020-07-29T00:00:00.000000",
          "2020-07-30T00:00:00.000000",
          "2020-07-31T00:00:00.000000",
          "2020-08-01T00:00:00.000000",
          "2020-08-02T00:00:00.000000",
          "2020-08-03T00:00:00.000000",
          "2020-08-04T00:00:00.000000",
          "2020-08-05T00:00:00.000000",
          "2020-08-06T00:00:00.000000",
          "2020-08-07T00:00:00.000000",
          "2020-08-08T00:00:00.000000",
          "2020-08-09T00:00:00.000000",
          "2020-08-10T00:00:00.000000",
          "2020-08-11T00:00:00.000000",
          "2020-08-12T00:00:00.000000",
          "2020-08-13T00:00:00.000000",
          "2020-08-14T00:00:00.000000",
          "2020-08-15T00:00:00.000000",
          "2020-08-16T00:00:00.000000",
          "2020-08-17T00:00:00.000000",
          "2020-08-18T00:00:00.000000",
          "2020-08-19T00:00:00.000000",
          "2020-08-20T00:00:00.000000",
          "2020-08-21T00:00:00.000000",
          "2020-08-22T00:00:00.000000",
          "2020-08-23T00:00:00.000000",
          "2020-08-24T00:00:00.000000",
          "2020-08-25T00:00:00.000000",
          "2020-08-26T00:00:00.000000",
          "2020-08-27T00:00:00.000000",
          "2020-08-28T00:00:00.000000",
          "2020-08-29T00:00:00.000000",
          "2020-08-30T00:00:00.000000",
          "2020-08-31T00:00:00.000000",
          "2020-09-01T00:00:00.000000",
          "2020-09-02T00:00:00.000000",
          "2020-09-03T00:00:00.000000",
          "2020-09-04T00:00:00.000000",
          "2020-09-05T00:00:00.000000",
          "2020-09-06T00:00:00.000000",
          "2020-09-07T00:00:00.000000",
          "2020-09-08T00:00:00.000000",
          "2020-09-09T00:00:00.000000",
          "2020-09-10T00:00:00.000000",
          "2020-09-11T00:00:00.000000",
          "2020-09-12T00:00:00.000000",
          "2020-09-13T00:00:00.000000",
          "2020-09-14T00:00:00.000000",
          "2020-09-15T00:00:00.000000",
          "2020-09-16T00:00:00.000000",
          "2020-09-17T00:00:00.000000",
          "2020-09-18T00:00:00.000000",
          "2020-09-19T00:00:00.000000",
          "2020-09-20T00:00:00.000000",
          "2020-09-21T00:00:00.000000",
          "2020-09-22T00:00:00.000000",
          "2020-09-23T00:00:00.000000",
          "2020-09-24T00:00:00.000000",
          "2020-09-25T00:00:00.000000",
          "2020-09-26T00:00:00.000000"
         ],
         "xaxis": "x",
         "y": {
          "dtype": "float64",
          "shape": [
           1000
          ]
         },
         "yaxis": "y"
        }
       ],
       "_js2py_layoutDelta": {},
       "_js2py_pointsCallback": {},
       "_js2py_relayout": {},
       "_js2py_restyle": {},
       "_js2py_traceDeltas": {},
       "_js2py_update": {},
       "_last_layout_edit_id": 5,
       "_last_trace_edit_id": 5,
       "_layout": {
        "autosize": false,
        "colorway": [
         "#1f77b4",
         "#ff7f0e",
         "#2ca02c",
         "#d62728",
         "#9467bd",
         "#8c564b",
         "#e377c2",
         "#7f7f7f",
         "#bcbd22",
         "#17becf"
        ],
        "height": 300,
        "hovermode": "closest",
        "margin": {
         "b": 30,
         "t": 30
        },
        "showlegend": true,
        "template": {
         "data": {
          "bar": [
           {
            "error_x": {
             "color": "#2a3f5f"
            },
            "error_y": {
             "color": "#2a3f5f"
            },
            "marker": {
             "line": {
              "color": "#E5ECF6",
              "width": 0.5
             }
            },
            "type": "bar"
           }
          ],
          "barpolar": [
           {
            "marker": {
             "line": {
              "color": "#E5ECF6",
              "width": 0.5
             }
            },
            "type": "barpolar"
           }
          ],
          "carpet": [
           {
            "aaxis": {
             "endlinecolor": "#2a3f5f",
             "gridcolor": "white",
             "linecolor": "white",
             "minorgridcolor": "white",
             "startlinecolor": "#2a3f5f"
            },
            "baxis": {
             "endlinecolor": "#2a3f5f",
             "gridcolor": "white",
             "linecolor": "white",
             "minorgridcolor": "white",
             "startlinecolor": "#2a3f5f"
            },
            "type": "carpet"
           }
          ],
          "choropleth": [
           {
            "colorbar": {
             "outlinewidth": 0,
             "ticks": ""
            },
            "type": "choropleth"
           }
          ],
          "contour": [
           {
            "colorbar": {
             "outlinewidth": 0,
             "ticks": ""
            },
            "colorscale": [
             [
              0,
              "#0d0887"
             ],
             [
              0.1111111111111111,
              "#46039f"
             ],
             [
              0.2222222222222222,
              "#7201a8"
             ],
             [
              0.3333333333333333,
              "#9c179e"
             ],
             [
              0.4444444444444444,
              "#bd3786"
             ],
             [
              0.5555555555555556,
              "#d8576b"
             ],
             [
              0.6666666666666666,
              "#ed7953"
             ],
             [
              0.7777777777777778,
              "#fb9f3a"
             ],
             [
              0.8888888888888888,
              "#fdca26"
             ],
             [
              1,
              "#f0f921"
             ]
            ],
            "type": "contour"
           }
          ],
          "contourcarpet": [
           {
            "colorbar": {
             "outlinewidth": 0,
             "ticks": ""
            },
            "type": "contourcarpet"
           }
          ],
          "heatmap": [
           {
            "colorbar": {
             "outlinewidth": 0,
             "ticks": ""
            },
            "colorscale": [
             [
              0,
              "#0d0887"
             ],
             [
              0.1111111111111111,
              "#46039f"
             ],
             [
              0.2222222222222222,
              "#7201a8"
             ],
             [
              0.3333333333333333,
              "#9c179e"
             ],
             [
              0.4444444444444444,
              "#bd3786"
             ],
             [
              0.5555555555555556,
              "#d8576b"
             ],
             [
              0.6666666666666666,
              "#ed7953"
             ],
             [
              0.7777777777777778,
              "#fb9f3a"
             ],
             [
              0.8888888888888888,
              "#fdca26"
             ],
             [
              1,
              "#f0f921"
             ]
            ],
            "type": "heatmap"
           }
          ],
          "heatmapgl": [
           {
            "colorbar": {
             "outlinewidth": 0,
             "ticks": ""
            },
            "colorscale": [
             [
              0,
              "#0d0887"
             ],
             [
              0.1111111111111111,
              "#46039f"
             ],
             [
              0.2222222222222222,
              "#7201a8"
             ],
             [
              0.3333333333333333,
              "#9c179e"
             ],
             [
              0.4444444444444444,
              "#bd3786"
             ],
             [
              0.5555555555555556,
              "#d8576b"
             ],
             [
              0.6666666666666666,
              "#ed7953"
             ],
             [
              0.7777777777777778,
              "#fb9f3a"
             ],
             [
              0.8888888888888888,
              "#fdca26"
             ],
             [
              1,
              "#f0f921"
             ]
            ],
            "type": "heatmapgl"
           }
          ],
          "histogram": [
           {
            "marker": {
             "colorbar": {
              "outlinewidth": 0,
              "ticks": ""
             }
            },
            "type": "histogram"
           }
          ],
          "histogram2d": [
           {
            "colorbar": {
             "outlinewidth": 0,
             "ticks": ""
            },
            "colorscale": [
             [
              0,
              "#0d0887"
             ],
             [
              0.1111111111111111,
              "#46039f"
             ],
             [
              0.2222222222222222,
              "#7201a8"
             ],
             [
              0.3333333333333333,
              "#9c179e"
             ],
             [
              0.4444444444444444,
              "#bd3786"
             ],
             [
              0.5555555555555556,
              "#d8576b"
             ],
             [
              0.6666666666666666,
              "#ed7953"
             ],
             [
              0.7777777777777778,
              "#fb9f3a"
             ],
             [
              0.8888888888888888,
              "#fdca26"
             ],
             [
              1,
              "#f0f921"
             ]
            ],
            "type": "histogram2d"
           }
          ],
          "histogram2dcontour": [
           {
            "colorbar": {
             "outlinewidth": 0,
             "ticks": ""
            },
            "colorscale": [
             [
              0,
              "#0d0887"
             ],
             [
              0.1111111111111111,
              "#46039f"
             ],
             [
              0.2222222222222222,
              "#7201a8"
             ],
             [
              0.3333333333333333,
              "#9c179e"
             ],
             [
              0.4444444444444444,
              "#bd3786"
             ],
             [
              0.5555555555555556,
              "#d8576b"
             ],
             [
              0.6666666666666666,
              "#ed7953"
             ],
             [
              0.7777777777777778,
              "#fb9f3a"
             ],
             [
              0.8888888888888888,
              "#fdca26"
             ],
             [
              1,
              "#f0f921"
             ]
            ],
            "type": "histogram2dcontour"
           }
          ],
          "mesh3d": [
           {
            "colorbar": {
             "outlinewidth": 0,
             "ticks": ""
            },
            "type": "mesh3d"
           }
          ],
          "parcoords": [
           {
            "line": {
             "colorbar": {
              "outlinewidth": 0,
              "ticks": ""
             }
            },
            "type": "parcoords"
           }
          ],
          "pie": [
           {
            "automargin": true,
            "type": "pie"
           }
          ],
          "scatter": [
           {
            "marker": {
             "colorbar": {
              "outlinewidth": 0,
              "ticks": ""
             }
            },
            "type": "scatter"
           }
          ],
          "scatter3d": [
           {
            "line": {
             "colorbar": {
              "outlinewidth": 0,
              "ticks": ""
             }
            },
            "marker": {
             "colorbar": {
              "outlinewidth": 0,
              "ticks": ""
             }
            },
            "type": "scatter3d"
           }
          ],
          "scattercarpet": [
           {
            "marker": {
             "colorbar": {
              "outlinewidth": 0,
              "ticks": ""
             }
            },
            "type": "scattercarpet"
           }
          ],
          "scattergeo": [
           {
            "marker": {
             "colorbar": {
              "outlinewidth": 0,
              "ticks": ""
             }
            },
            "type": "scattergeo"
           }
          ],
          "scattergl": [
           {
            "marker": {
             "colorbar": {
              "outlinewidth": 0,
              "ticks": ""
             }
            },
            "type": "scattergl"
           }
          ],
          "scattermapbox": [
           {
            "marker": {
             "colorbar": {
              "outlinewidth": 0,
              "ticks": ""
             }
            },
            "type": "scattermapbox"
           }
          ],
          "scatterpolar": [
           {
            "marker": {
             "colorbar": {
              "outlinewidth": 0,
              "ticks": ""
             }
            },
            "type": "scatterpolar"
           }
          ],
          "scatterpolargl": [
           {
            "marker": {
             "colorbar": {
              "outlinewidth": 0,
              "ticks": ""
             }
            },
            "type": "scatterpolargl"
           }
          ],
          "scatterternary": [
           {
            "marker": {
             "colorbar": {
              "outlinewidth": 0,
              "ticks": ""
             }
            },
            "type": "scatterternary"
           }
          ],
          "surface": [
           {
            "colorbar": {
             "outlinewidth": 0,
             "ticks": ""
            },
            "colorscale": [
             [
              0,
              "#0d0887"
             ],
             [
              0.1111111111111111,
              "#46039f"
             ],
             [
              0.2222222222222222,
              "#7201a8"
             ],
             [
              0.3333333333333333,
              "#9c179e"
             ],
             [
              0.4444444444444444,
              "#bd3786"
             ],
             [
              0.5555555555555556,
              "#d8576b"
             ],
             [
              0.6666666666666666,
              "#ed7953"
             ],
             [
              0.7777777777777778,
              "#fb9f3a"
             ],
             [
              0.8888888888888888,
              "#fdca26"
             ],
             [
              1,
              "#f0f921"
             ]
            ],
            "type": "surface"
           }
          ],
          "table": [
           {
            "cells": {
             "fill": {
              "color": "#EBF0F8"
             },
             "line": {
              "color": "white"
             }
            },
            "header": {
             "fill": {
              "color": "#C8D4E3"
             },
             "line": {
              "color": "white"
             }
            },
            "type": "table"
           }
          ]
         },
         "layout": {
          "annotationdefaults": {
           "arrowcolor": "#2a3f5f",
           "arrowhead": 0,
           "arrowwidth": 1
          },
          "coloraxis": {
           "colorbar": {
            "outlinewidth": 0,
            "ticks": ""
           }
          },
          "colorscale": {
           "diverging": [
            [
             0,
             "#8e0152"
            ],
            [
             0.1,
             "#c51b7d"
            ],
            [
             0.2,
             "#de77ae"
            ],
            [
             0.3,
             "#f1b6da"
            ],
            [
             0.4,
             "#fde0ef"
            ],
            [
             0.5,
             "#f7f7f7"
            ],
            [
             0.6,
             "#e6f5d0"
            ],
            [
             0.7,
             "#b8e186"
            ],
            [
             0.8,
             "#7fbc41"
            ],
            [
             0.9,
             "#4d9221"
            ],
            [
             1,
             "#276419"
            ]
           ],
           "sequential": [
            [
             0,
             "#0d0887"
            ],
            [
             0.1111111111111111,
             "#46039f"
            ],
            [
             0.2222222222222222,
             "#7201a8"
            ],
            [
             0.3333333333333333,
             "#9c179e"
            ],
            [
             0.4444444444444444,
             "#bd3786"
            ],
            [
             0.5555555555555556,
             "#d8576b"
            ],
            [
             0.6666666666666666,
             "#ed7953"
            ],
            [
             0.7777777777777778,
             "#fb9f3a"
            ],
            [
             0.8888888888888888,
             "#fdca26"
            ],
            [
             1,
             "#f0f921"
            ]
           ],
           "sequentialminus": [
            [
             0,
             "#0d0887"
            ],
            [
             0.1111111111111111,
             "#46039f"
            ],
            [
             0.2222222222222222,
             "#7201a8"
            ],
            [
             0.3333333333333333,
             "#9c179e"
            ],
            [
             0.4444444444444444,
             "#bd3786"
            ],
            [
             0.5555555555555556,
             "#d8576b"
            ],
            [
             0.6666666666666666,
             "#ed7953"
            ],
            [
             0.7777777777777778,
             "#fb9f3a"
            ],
            [
             0.8888888888888888,
             "#fdca26"
            ],
            [
             1,
             "#f0f921"
            ]
           ]
          },
          "colorway": [
           "#636efa",
           "#EF553B",
           "#00cc96",
           "#ab63fa",
           "#FFA15A",
           "#19d3f3",
           "#FF6692",
           "#B6E880",
           "#FF97FF",
           "#FECB52"
          ],
          "font": {
           "color": "#2a3f5f"
          },
          "geo": {
           "bgcolor": "white",
           "lakecolor": "white",
           "landcolor": "#E5ECF6",
           "showlakes": true,
           "showland": true,
           "subunitcolor": "white"
          },
          "hoverlabel": {
           "align": "left"
          },
          "hovermode": "closest",
          "mapbox": {
           "style": "light"
          },
          "paper_bgcolor": "white",
          "plot_bgcolor": "#E5ECF6",
          "polar": {
           "angularaxis": {
            "gridcolor": "white",
            "linecolor": "white",
            "ticks": ""
           },
           "bgcolor": "#E5ECF6",
           "radialaxis": {
            "gridcolor": "white",
            "linecolor": "white",
            "ticks": ""
           }
          },
          "scene": {
           "xaxis": {
            "backgroundcolor": "#E5ECF6",
            "gridcolor": "white",
            "gridwidth": 2,
            "linecolor": "white",
            "showbackground": true,
            "ticks": "",
            "zerolinecolor": "white"
           },
           "yaxis": {
            "backgroundcolor": "#E5ECF6",
            "gridcolor": "white",
            "gridwidth": 2,
            "linecolor": "white",
            "showbackground": true,
            "ticks": "",
            "zerolinecolor": "white"
           },
           "zaxis": {
            "backgroundcolor": "#E5ECF6",
            "gridcolor": "white",
            "gridwidth": 2,
            "linecolor": "white",
            "showbackground": true,
            "ticks": "",
            "zerolinecolor": "white"
           }
          },
          "shapedefaults": {
           "line": {
            "color": "#2a3f5f"
           }
          },
          "ternary": {
           "aaxis": {
            "gridcolor": "white",
            "linecolor": "white",
            "ticks": ""
           },
           "baxis": {
            "gridcolor": "white",
            "linecolor": "white",
            "ticks": ""
           },
           "bgcolor": "#E5ECF6",
           "caxis": {
            "gridcolor": "white",
            "linecolor": "white",
            "ticks": ""
           }
          },
          "title": {
           "x": 0.05
          },
          "xaxis": {
           "automargin": true,
           "gridcolor": "white",
           "linecolor": "white",
           "ticks": "",
           "title": {
            "standoff": 15
           },
           "zerolinecolor": "white",
           "zerolinewidth": 2
          },
          "yaxis": {
           "automargin": true,
           "gridcolor": "white",
           "linecolor": "white",
           "ticks": "",
           "title": {
            "standoff": 15
           },
           "zerolinecolor": "white",
           "zerolinewidth": 2
          }
         }
        },
        "width": 700,
        "xaxis": {
         "rangeslider": {
          "visible": false
         },
         "showgrid": true
        },
        "yaxis": {
         "domain": [
          0,
          0.33
         ],
         "showgrid": true
        },
        "yaxis2": {
         "domain": [
          0.33,
          1
         ]
        }
       },
       "_model_module_version": "1.5.0",
       "_py2js_animate": {},
       "_py2js_deleteTraces": {},
       "_py2js_moveTraces": {},
       "_py2js_removeLayoutProps": {},
       "_py2js_removeTraceProps": {},
       "_py2js_restyle": {},
       "_view_count": 0,
       "_view_module_version": "1.5.0"
      }
     },
     "fe233586bb8e4405b67d7dd0dc54b14a": {
      "buffers": [
       {
        "data": "AAAAAAAA8D8AAAAAAAAAQAAAAAAAAAhAAAAAAAAAEEAAAAAAAAD4fw==",
        "encoding": "base64",
        "path": [
         "_data",
         0,
         "y",
         "value"
        ]
       },
       {
        "data": "AAAAAAAA+H8AAAAAAAAQQAAAAAAAAAhAAAAAAAAAAEAAAAAAAADwPw==",
        "encoding": "base64",
        "path": [
         "_data",
         1,
         "y",
         "value"
        ]
       },
       {
        "data": "AAAAAAAA8D8AAAAAAAAAQAAAAAAAAPh/AAAAAAAAAEAAAAAAAADwPw==",
        "encoding": "base64",
        "path": [
         "_data",
         2,
         "y",
         "value"
        ]
       }
      ],
      "model_module": "plotlywidget",
      "model_module_version": "1.5.0",
      "model_name": "FigureModel",
      "state": {
       "_config": {
        "plotlyServerURL": "https://plot.ly"
       },
       "_data": [
        {
         "mode": "lines",
         "name": "a",
         "type": "scatter",
         "uid": "fc1d530c-b794-4c72-8797-a1930d91ec61",
         "x": [
          "2018-01-01T00:00:00.000000",
          "2018-01-02T00:00:00.000000",
          "2018-01-03T00:00:00.000000",
          "2018-01-04T00:00:00.000000",
          "2018-01-05T00:00:00.000000"
         ],
         "y": {
          "dtype": "float64",
          "shape": [
           5
          ]
         }
        },
        {
         "mode": "lines",
         "name": "b",
         "type": "scatter",
         "uid": "e4dc7810-04b3-48d8-8479-bccc6f654550",
         "x": [
          "2018-01-01T00:00:00.000000",
          "2018-01-02T00:00:00.000000",
          "2018-01-03T00:00:00.000000",
          "2018-01-04T00:00:00.000000",
          "2018-01-05T00:00:00.000000"
         ],
         "y": {
          "dtype": "float64",
          "shape": [
           5
          ]
         }
        },
        {
         "mode": "lines",
         "name": "c",
         "type": "scatter",
         "uid": "131ff41a-e873-4a9a-aa94-6fc29194a7b8",
         "x": [
          "2018-01-01T00:00:00.000000",
          "2018-01-02T00:00:00.000000",
          "2018-01-03T00:00:00.000000",
          "2018-01-04T00:00:00.000000",
          "2018-01-05T00:00:00.000000"
         ],
         "y": {
          "dtype": "float64",
          "shape": [
           5
          ]
         }
        }
       ],
       "_js2py_layoutDelta": {},
       "_js2py_pointsCallback": {},
       "_js2py_relayout": {},
       "_js2py_restyle": {},
       "_js2py_traceDeltas": {},
       "_js2py_update": {},
       "_last_layout_edit_id": 5,
       "_last_trace_edit_id": 5,
       "_layout": {
        "autosize": false,
        "colorway": [
         "#1f77b4",
         "#ff7f0e",
         "#2ca02c",
         "#d62728",
         "#9467bd",
         "#8c564b",
         "#e377c2",
         "#7f7f7f",
         "#bcbd22",
         "#17becf"
        ],
        "height": 300,
        "hovermode": "closest",
        "margin": {
         "b": 30,
         "t": 30
        },
        "showlegend": true,
        "template": {
         "data": {
          "bar": [
           {
            "error_x": {
             "color": "#2a3f5f"
            },
            "error_y": {
             "color": "#2a3f5f"
            },
            "marker": {
             "line": {
              "color": "#E5ECF6",
              "width": 0.5
             }
            },
            "type": "bar"
           }
          ],
          "barpolar": [
           {
            "marker": {
             "line": {
              "color": "#E5ECF6",
              "width": 0.5
             }
            },
            "type": "barpolar"
           }
          ],
          "carpet": [
           {
            "aaxis": {
             "endlinecolor": "#2a3f5f",
             "gridcolor": "white",
             "linecolor": "white",
             "minorgridcolor": "white",
             "startlinecolor": "#2a3f5f"
            },
            "baxis": {
             "endlinecolor": "#2a3f5f",
             "gridcolor": "white",
             "linecolor": "white",
             "minorgridcolor": "white",
             "startlinecolor": "#2a3f5f"
            },
            "type": "carpet"
           }
          ],
          "choropleth": [
           {
            "colorbar": {
             "outlinewidth": 0,
             "ticks": ""
            },
            "type": "choropleth"
           }
          ],
          "contour": [
           {
            "colorbar": {
             "outlinewidth": 0,
             "ticks": ""
            },
            "colorscale": [
             [
              0,
              "#0d0887"
             ],
             [
              0.1111111111111111,
              "#46039f"
             ],
             [
              0.2222222222222222,
              "#7201a8"
             ],
             [
              0.3333333333333333,
              "#9c179e"
             ],
             [
              0.4444444444444444,
              "#bd3786"
             ],
             [
              0.5555555555555556,
              "#d8576b"
             ],
             [
              0.6666666666666666,
              "#ed7953"
             ],
             [
              0.7777777777777778,
              "#fb9f3a"
             ],
             [
              0.8888888888888888,
              "#fdca26"
             ],
             [
              1,
              "#f0f921"
             ]
            ],
            "type": "contour"
           }
          ],
          "contourcarpet": [
           {
            "colorbar": {
             "outlinewidth": 0,
             "ticks": ""
            },
            "type": "contourcarpet"
           }
          ],
          "heatmap": [
           {
            "colorbar": {
             "outlinewidth": 0,
             "ticks": ""
            },
            "colorscale": [
             [
              0,
              "#0d0887"
             ],
             [
              0.1111111111111111,
              "#46039f"
             ],
             [
              0.2222222222222222,
              "#7201a8"
             ],
             [
              0.3333333333333333,
              "#9c179e"
             ],
             [
              0.4444444444444444,
              "#bd3786"
             ],
             [
              0.5555555555555556,
              "#d8576b"
             ],
             [
              0.6666666666666666,
              "#ed7953"
             ],
             [
              0.7777777777777778,
              "#fb9f3a"
             ],
             [
              0.8888888888888888,
              "#fdca26"
             ],
             [
              1,
              "#f0f921"
             ]
            ],
            "type": "heatmap"
           }
          ],
          "heatmapgl": [
           {
            "colorbar": {
             "outlinewidth": 0,
             "ticks": ""
            },
            "colorscale": [
             [
              0,
              "#0d0887"
             ],
             [
              0.1111111111111111,
              "#46039f"
             ],
             [
              0.2222222222222222,
              "#7201a8"
             ],
             [
              0.3333333333333333,
              "#9c179e"
             ],
             [
              0.4444444444444444,
              "#bd3786"
             ],
             [
              0.5555555555555556,
              "#d8576b"
             ],
             [
              0.6666666666666666,
              "#ed7953"
             ],
             [
              0.7777777777777778,
              "#fb9f3a"
             ],
             [
              0.8888888888888888,
              "#fdca26"
             ],
             [
              1,
              "#f0f921"
             ]
            ],
            "type": "heatmapgl"
           }
          ],
          "histogram": [
           {
            "marker": {
             "colorbar": {
              "outlinewidth": 0,
              "ticks": ""
             }
            },
            "type": "histogram"
           }
          ],
          "histogram2d": [
           {
            "colorbar": {
             "outlinewidth": 0,
             "ticks": ""
            },
            "colorscale": [
             [
              0,
              "#0d0887"
             ],
             [
              0.1111111111111111,
              "#46039f"
             ],
             [
              0.2222222222222222,
              "#7201a8"
             ],
             [
              0.3333333333333333,
              "#9c179e"
             ],
             [
              0.4444444444444444,
              "#bd3786"
             ],
             [
              0.5555555555555556,
              "#d8576b"
             ],
             [
              0.6666666666666666,
              "#ed7953"
             ],
             [
              0.7777777777777778,
              "#fb9f3a"
             ],
             [
              0.8888888888888888,
              "#fdca26"
             ],
             [
              1,
              "#f0f921"
             ]
            ],
            "type": "histogram2d"
           }
          ],
          "histogram2dcontour": [
           {
            "colorbar": {
             "outlinewidth": 0,
             "ticks": ""
            },
            "colorscale": [
             [
              0,
              "#0d0887"
             ],
             [
              0.1111111111111111,
              "#46039f"
             ],
             [
              0.2222222222222222,
              "#7201a8"
             ],
             [
              0.3333333333333333,
              "#9c179e"
             ],
             [
              0.4444444444444444,
              "#bd3786"
             ],
             [
              0.5555555555555556,
              "#d8576b"
             ],
             [
              0.6666666666666666,
              "#ed7953"
             ],
             [
              0.7777777777777778,
              "#fb9f3a"
             ],
             [
              0.8888888888888888,
              "#fdca26"
             ],
             [
              1,
              "#f0f921"
             ]
            ],
            "type": "histogram2dcontour"
           }
          ],
          "mesh3d": [
           {
            "colorbar": {
             "outlinewidth": 0,
             "ticks": ""
            },
            "type": "mesh3d"
           }
          ],
          "parcoords": [
           {
            "line": {
             "colorbar": {
              "outlinewidth": 0,
              "ticks": ""
             }
            },
            "type": "parcoords"
           }
          ],
          "pie": [
           {
            "automargin": true,
            "type": "pie"
           }
          ],
          "scatter": [
           {
            "marker": {
             "colorbar": {
              "outlinewidth": 0,
              "ticks": ""
             }
            },
            "type": "scatter"
           }
          ],
          "scatter3d": [
           {
            "line": {
             "colorbar": {
              "outlinewidth": 0,
              "ticks": ""
             }
            },
            "marker": {
             "colorbar": {
              "outlinewidth": 0,
              "ticks": ""
             }
            },
            "type": "scatter3d"
           }
          ],
          "scattercarpet": [
           {
            "marker": {
             "colorbar": {
              "outlinewidth": 0,
              "ticks": ""
             }
            },
            "type": "scattercarpet"
           }
          ],
          "scattergeo": [
           {
            "marker": {
             "colorbar": {
              "outlinewidth": 0,
              "ticks": ""
             }
            },
            "type": "scattergeo"
           }
          ],
          "scattergl": [
           {
            "marker": {
             "colorbar": {
              "outlinewidth": 0,
              "ticks": ""
             }
            },
            "type": "scattergl"
           }
          ],
          "scattermapbox": [
           {
            "marker": {
             "colorbar": {
              "outlinewidth": 0,
              "ticks": ""
             }
            },
            "type": "scattermapbox"
           }
          ],
          "scatterpolar": [
           {
            "marker": {
             "colorbar": {
              "outlinewidth": 0,
              "ticks": ""
             }
            },
            "type": "scatterpolar"
           }
          ],
          "scatterpolargl": [
           {
            "marker": {
             "colorbar": {
              "outlinewidth": 0,
              "ticks": ""
             }
            },
            "type": "scatterpolargl"
           }
          ],
          "scatterternary": [
           {
            "marker": {
             "colorbar": {
              "outlinewidth": 0,
              "ticks": ""
             }
            },
            "type": "scatterternary"
           }
          ],
          "surface": [
           {
            "colorbar": {
             "outlinewidth": 0,
             "ticks": ""
            },
            "colorscale": [
             [
              0,
              "#0d0887"
             ],
             [
              0.1111111111111111,
              "#46039f"
             ],
             [
              0.2222222222222222,
              "#7201a8"
             ],
             [
              0.3333333333333333,
              "#9c179e"
             ],
             [
              0.4444444444444444,
              "#bd3786"
             ],
             [
              0.5555555555555556,
              "#d8576b"
             ],
             [
              0.6666666666666666,
              "#ed7953"
             ],
             [
              0.7777777777777778,
              "#fb9f3a"
             ],
             [
              0.8888888888888888,
              "#fdca26"
             ],
             [
              1,
              "#f0f921"
             ]
            ],
            "type": "surface"
           }
          ],
          "table": [
           {
            "cells": {
             "fill": {
              "color": "#EBF0F8"
             },
             "line": {
              "color": "white"
             }
            },
            "header": {
             "fill": {
              "color": "#C8D4E3"
             },
             "line": {
              "color": "white"
             }
            },
            "type": "table"
           }
          ]
         },
         "layout": {
          "annotationdefaults": {
           "arrowcolor": "#2a3f5f",
           "arrowhead": 0,
           "arrowwidth": 1
          },
          "coloraxis": {
           "colorbar": {
            "outlinewidth": 0,
            "ticks": ""
           }
          },
          "colorscale": {
           "diverging": [
            [
             0,
             "#8e0152"
            ],
            [
             0.1,
             "#c51b7d"
            ],
            [
             0.2,
             "#de77ae"
            ],
            [
             0.3,
             "#f1b6da"
            ],
            [
             0.4,
             "#fde0ef"
            ],
            [
             0.5,
             "#f7f7f7"
            ],
            [
             0.6,
             "#e6f5d0"
            ],
            [
             0.7,
             "#b8e186"
            ],
            [
             0.8,
             "#7fbc41"
            ],
            [
             0.9,
             "#4d9221"
            ],
            [
             1,
             "#276419"
            ]
           ],
           "sequential": [
            [
             0,
             "#0d0887"
            ],
            [
             0.1111111111111111,
             "#46039f"
            ],
            [
             0.2222222222222222,
             "#7201a8"
            ],
            [
             0.3333333333333333,
             "#9c179e"
            ],
            [
             0.4444444444444444,
             "#bd3786"
            ],
            [
             0.5555555555555556,
             "#d8576b"
            ],
            [
             0.6666666666666666,
             "#ed7953"
            ],
            [
             0.7777777777777778,
             "#fb9f3a"
            ],
            [
             0.8888888888888888,
             "#fdca26"
            ],
            [
             1,
             "#f0f921"
            ]
           ],
           "sequentialminus": [
            [
             0,
             "#0d0887"
            ],
            [
             0.1111111111111111,
             "#46039f"
            ],
            [
             0.2222222222222222,
             "#7201a8"
            ],
            [
             0.3333333333333333,
             "#9c179e"
            ],
            [
             0.4444444444444444,
             "#bd3786"
            ],
            [
             0.5555555555555556,
             "#d8576b"
            ],
            [
             0.6666666666666666,
             "#ed7953"
            ],
            [
             0.7777777777777778,
             "#fb9f3a"
            ],
            [
             0.8888888888888888,
             "#fdca26"
            ],
            [
             1,
             "#f0f921"
            ]
           ]
          },
          "colorway": [
           "#636efa",
           "#EF553B",
           "#00cc96",
           "#ab63fa",
           "#FFA15A",
           "#19d3f3",
           "#FF6692",
           "#B6E880",
           "#FF97FF",
           "#FECB52"
          ],
          "font": {
           "color": "#2a3f5f"
          },
          "geo": {
           "bgcolor": "white",
           "lakecolor": "white",
           "landcolor": "#E5ECF6",
           "showlakes": true,
           "showland": true,
           "subunitcolor": "white"
          },
          "hoverlabel": {
           "align": "left"
          },
          "hovermode": "closest",
          "mapbox": {
           "style": "light"
          },
          "paper_bgcolor": "white",
          "plot_bgcolor": "#E5ECF6",
          "polar": {
           "angularaxis": {
            "gridcolor": "white",
            "linecolor": "white",
            "ticks": ""
           },
           "bgcolor": "#E5ECF6",
           "radialaxis": {
            "gridcolor": "white",
            "linecolor": "white",
            "ticks": ""
           }
          },
          "scene": {
           "xaxis": {
            "backgroundcolor": "#E5ECF6",
            "gridcolor": "white",
            "gridwidth": 2,
            "linecolor": "white",
            "showbackground": true,
            "ticks": "",
            "zerolinecolor": "white"
           },
           "yaxis": {
            "backgroundcolor": "#E5ECF6",
            "gridcolor": "white",
            "gridwidth": 2,
            "linecolor": "white",
            "showbackground": true,
            "ticks": "",
            "zerolinecolor": "white"
           },
           "zaxis": {
            "backgroundcolor": "#E5ECF6",
            "gridcolor": "white",
            "gridwidth": 2,
            "linecolor": "white",
            "showbackground": true,
            "ticks": "",
            "zerolinecolor": "white"
           }
          },
          "shapedefaults": {
           "line": {
            "color": "#2a3f5f"
           }
          },
          "ternary": {
           "aaxis": {
            "gridcolor": "white",
            "linecolor": "white",
            "ticks": ""
           },
           "baxis": {
            "gridcolor": "white",
            "linecolor": "white",
            "ticks": ""
           },
           "bgcolor": "#E5ECF6",
           "caxis": {
            "gridcolor": "white",
            "linecolor": "white",
            "ticks": ""
           }
          },
          "title": {
           "x": 0.05
          },
          "xaxis": {
           "automargin": true,
           "gridcolor": "white",
           "linecolor": "white",
           "ticks": "",
           "title": {
            "standoff": 15
           },
           "zerolinecolor": "white",
           "zerolinewidth": 2
          },
          "yaxis": {
           "automargin": true,
           "gridcolor": "white",
           "linecolor": "white",
           "ticks": "",
           "title": {
            "standoff": 15
           },
           "zerolinecolor": "white",
           "zerolinewidth": 2
          }
         }
        },
        "width": 700
       },
       "_model_module_version": "1.5.0",
       "_py2js_animate": {},
       "_py2js_deleteTraces": {},
       "_py2js_moveTraces": {},
       "_py2js_removeLayoutProps": {},
       "_py2js_removeTraceProps": {},
       "_py2js_restyle": {},
       "_view_count": 0,
       "_view_module_version": "1.5.0"
      }
     }
    },
    "version_major": 2,
    "version_minor": 0
   }
  }
 },
 "nbformat": 4,
 "nbformat_minor": 4
}
