{
 "cells": [
  {
   "cell_type": "markdown",
   "metadata": {},
   "source": [
    "# timeseries"
   ]
  },
  {
   "cell_type": "code",
   "execution_count": 1,
   "metadata": {},
   "outputs": [],
   "source": [
    "import vectorbt as vbt"
   ]
  },
  {
   "cell_type": "code",
   "execution_count": 2,
   "metadata": {
    "Collapsed": "false"
   },
   "outputs": [],
   "source": [
    "import numpy as np\n",
    "import pandas as pd\n",
    "from datetime import datetime, timedelta\n",
    "from numba import njit, f8, i8, b1, optional"
   ]
  },
  {
   "cell_type": "code",
   "execution_count": 3,
   "metadata": {},
   "outputs": [
    {
     "name": "stdout",
     "output_type": "stream",
     "text": [
      "              a    b    c\n",
      "2018-01-01  1.0  NaN  1.0\n",
      "2018-01-02  2.0  4.0  2.0\n",
      "2018-01-03  3.0  3.0  NaN\n",
      "2018-01-04  4.0  2.0  2.0\n",
      "2018-01-05  NaN  1.0  1.0\n"
     ]
    }
   ],
   "source": [
    "index = pd.DatetimeIndex([\n",
    "    datetime(2018, 1, 1),\n",
    "    datetime(2018, 1, 2),\n",
    "    datetime(2018, 1, 3),\n",
    "    datetime(2018, 1, 4),\n",
    "    datetime(2018, 1, 5)\n",
    "], freq='D')\n",
    "columns = ['a', 'b', 'c']\n",
    "ts = pd.DataFrame({\n",
    "    'a': [1, 2, 3, 4, np.nan], \n",
    "    'b': [np.nan, 4, 3, 2, 1],\n",
    "    'c': [1, 2, np.nan, 2, 1]}, index=index).astype(np.float32)\n",
    "\n",
    "print(ts)"
   ]
  },
  {
   "cell_type": "code",
   "execution_count": 4,
   "metadata": {},
   "outputs": [
    {
     "data": {
      "text/plain": [
       "(1000, 1000)"
      ]
     },
     "execution_count": 4,
     "metadata": {},
     "output_type": "execute_result"
    }
   ],
   "source": [
    "big_ts = pd.DataFrame(np.random.randint(10, size=(1000, 1000)).astype(float))\n",
    "big_ts.index = [datetime(2018, 1, 1) + timedelta(days=i) for i in range(1000)]\n",
    "big_ts.shape"
   ]
  },
  {
   "cell_type": "code",
   "execution_count": 5,
   "metadata": {
    "Collapsed": "false"
   },
   "outputs": [
    {
     "name": "stdout",
     "output_type": "stream",
     "text": [
      "              a    b    c\n",
      "2018-01-01  1.0 -1.0  1.0\n",
      "2018-01-02  2.0  4.0  2.0\n",
      "2018-01-03  3.0  3.0 -1.0\n",
      "2018-01-04  4.0  2.0  2.0\n",
      "2018-01-05 -1.0  1.0  1.0\n",
      "7.61 ms ± 705 µs per loop (mean ± std. dev. of 7 runs, 100 loops each)\n",
      "              a    b    c\n",
      "2018-01-01  1.0 -1.0  1.0\n",
      "2018-01-02  2.0  4.0  2.0\n",
      "2018-01-03  3.0  3.0 -1.0\n",
      "2018-01-04  4.0  2.0  2.0\n",
      "2018-01-05 -1.0  1.0  1.0\n",
      "5.02 ms ± 380 µs per loop (mean ± std. dev. of 7 runs, 100 loops each)\n"
     ]
    }
   ],
   "source": [
    "print(ts.fillna(-1))\n",
    "%timeit big_ts.fillna(-1)\n",
    "\n",
    "print(ts.vbt.timeseries.fillna(-1))\n",
    "%timeit big_ts.vbt.timeseries.fillna(-1)"
   ]
  },
  {
   "cell_type": "code",
   "execution_count": 6,
   "metadata": {
    "Collapsed": "false"
   },
   "outputs": [
    {
     "name": "stdout",
     "output_type": "stream",
     "text": [
      "              a    b    c\n",
      "2018-01-01  NaN  NaN  NaN\n",
      "2018-01-02  NaN  NaN  NaN\n",
      "2018-01-03  NaN  NaN  NaN\n",
      "2018-01-04  1.0  NaN  1.0\n",
      "2018-01-05  2.0  4.0  2.0\n",
      "2.82 ms ± 233 µs per loop (mean ± std. dev. of 7 runs, 100 loops each)\n",
      "              a    b    c\n",
      "2018-01-01  NaN  NaN  NaN\n",
      "2018-01-02  NaN  NaN  NaN\n",
      "2018-01-03  NaN  NaN  NaN\n",
      "2018-01-04  1.0  NaN  1.0\n",
      "2018-01-05  2.0  4.0  2.0\n",
      "2.95 ms ± 435 µs per loop (mean ± std. dev. of 7 runs, 100 loops each)\n"
     ]
    }
   ],
   "source": [
    "print(ts.shift(3))\n",
    "%timeit big_ts.shift(3)\n",
    "\n",
    "print(ts.vbt.timeseries.fshift(3))\n",
    "%timeit big_ts.vbt.timeseries.fshift(3)"
   ]
  },
  {
   "cell_type": "code",
   "execution_count": 7,
   "metadata": {},
   "outputs": [
    {
     "name": "stdout",
     "output_type": "stream",
     "text": [
      "              a    b    c\n",
      "2018-01-01  NaN  NaN  NaN\n",
      "2018-01-02  1.0  NaN  1.0\n",
      "2018-01-03  1.0 -1.0  NaN\n",
      "2018-01-04  1.0 -1.0  NaN\n",
      "2018-01-05  NaN -1.0 -1.0\n",
      "4.71 ms ± 72.8 µs per loop (mean ± std. dev. of 7 runs, 100 loops each)\n",
      "              a    b    c\n",
      "2018-01-01  NaN  NaN  NaN\n",
      "2018-01-02  1.0  NaN  1.0\n",
      "2018-01-03  1.0 -1.0  NaN\n",
      "2018-01-04  1.0 -1.0  NaN\n",
      "2018-01-05  NaN -1.0 -1.0\n",
      "4.69 ms ± 71.3 µs per loop (mean ± std. dev. of 7 runs, 100 loops each)\n"
     ]
    }
   ],
   "source": [
    "print(ts.diff())\n",
    "%timeit big_ts.diff()\n",
    "\n",
    "print(ts.vbt.timeseries.diff())\n",
    "%timeit big_ts.vbt.timeseries.diff()"
   ]
  },
  {
   "cell_type": "code",
   "execution_count": 8,
   "metadata": {
    "Collapsed": "false"
   },
   "outputs": [
    {
     "name": "stdout",
     "output_type": "stream",
     "text": [
      "                   a         b    c\n",
      "2018-01-01       NaN       NaN  NaN\n",
      "2018-01-02  1.000000       NaN  1.0\n",
      "2018-01-03  0.500000 -0.250000  0.0\n",
      "2018-01-04  0.333333 -0.333333  0.0\n",
      "2018-01-05  0.000000 -0.500000 -0.5\n",
      "267 ms ± 4.05 ms per loop (mean ± std. dev. of 7 runs, 1 loop each)\n",
      "                   a         b    c\n",
      "2018-01-01       NaN       NaN  NaN\n",
      "2018-01-02  1.000000       NaN  1.0\n",
      "2018-01-03  0.500000 -0.250000  NaN\n",
      "2018-01-04  0.333333 -0.333333  NaN\n",
      "2018-01-05       NaN -0.500000 -0.5\n",
      "5.23 ms ± 132 µs per loop (mean ± std. dev. of 7 runs, 100 loops each)\n"
     ]
    }
   ],
   "source": [
    "print(ts.pct_change())\n",
    "%timeit big_ts.pct_change()\n",
    "\n",
    "print(ts.vbt.timeseries.pct_change())\n",
    "%timeit big_ts.vbt.timeseries.pct_change()"
   ]
  },
  {
   "cell_type": "code",
   "execution_count": 9,
   "metadata": {
    "Collapsed": "false"
   },
   "outputs": [
    {
     "name": "stdout",
     "output_type": "stream",
     "text": [
      "              a    b    c\n",
      "2018-01-01  1.0  NaN  1.0\n",
      "2018-01-02  2.0  4.0  2.0\n",
      "2018-01-03  3.0  3.0  2.0\n",
      "2018-01-04  4.0  2.0  2.0\n",
      "2018-01-05  4.0  1.0  1.0\n",
      "5.58 ms ± 38.1 µs per loop (mean ± std. dev. of 7 runs, 100 loops each)\n",
      "              a    b    c\n",
      "2018-01-01  1.0  NaN  1.0\n",
      "2018-01-02  2.0  4.0  2.0\n",
      "2018-01-03  3.0  3.0  2.0\n",
      "2018-01-04  4.0  2.0  2.0\n",
      "2018-01-05  4.0  1.0  1.0\n",
      "7.88 ms ± 119 µs per loop (mean ± std. dev. of 7 runs, 100 loops each)\n"
     ]
    }
   ],
   "source": [
    "print(ts.ffill())\n",
    "%timeit big_ts.ffill()\n",
    "\n",
    "print(ts.vbt.timeseries.ffill())\n",
    "%timeit big_ts.vbt.timeseries.ffill()"
   ]
  },
  {
   "cell_type": "code",
   "execution_count": 10,
   "metadata": {},
   "outputs": [
    {
     "data": {
      "text/html": [
       "<div>\n",
       "<style scoped>\n",
       "    .dataframe tbody tr th:only-of-type {\n",
       "        vertical-align: middle;\n",
       "    }\n",
       "\n",
       "    .dataframe tbody tr th {\n",
       "        vertical-align: top;\n",
       "    }\n",
       "\n",
       "    .dataframe thead th {\n",
       "        text-align: right;\n",
       "    }\n",
       "</style>\n",
       "<table border=\"1\" class=\"dataframe\">\n",
       "  <thead>\n",
       "    <tr style=\"text-align: right;\">\n",
       "      <th></th>\n",
       "      <th>a</th>\n",
       "      <th>b</th>\n",
       "      <th>c</th>\n",
       "    </tr>\n",
       "  </thead>\n",
       "  <tbody>\n",
       "    <tr>\n",
       "      <th>2018-01-01</th>\n",
       "      <td>1.0</td>\n",
       "      <td>NaN</td>\n",
       "      <td>1.0</td>\n",
       "    </tr>\n",
       "    <tr>\n",
       "      <th>2018-01-02</th>\n",
       "      <td>2.0</td>\n",
       "      <td>4.0</td>\n",
       "      <td>2.0</td>\n",
       "    </tr>\n",
       "    <tr>\n",
       "      <th>2018-01-03</th>\n",
       "      <td>3.0</td>\n",
       "      <td>3.0</td>\n",
       "      <td>NaN</td>\n",
       "    </tr>\n",
       "    <tr>\n",
       "      <th>2018-01-04</th>\n",
       "      <td>4.0</td>\n",
       "      <td>2.0</td>\n",
       "      <td>2.0</td>\n",
       "    </tr>\n",
       "    <tr>\n",
       "      <th>2018-01-05</th>\n",
       "      <td>NaN</td>\n",
       "      <td>1.0</td>\n",
       "      <td>1.0</td>\n",
       "    </tr>\n",
       "  </tbody>\n",
       "</table>\n",
       "</div>"
      ],
      "text/plain": [
       "              a    b    c\n",
       "2018-01-01  1.0  NaN  1.0\n",
       "2018-01-02  2.0  4.0  2.0\n",
       "2018-01-03  3.0  3.0  NaN\n",
       "2018-01-04  4.0  2.0  2.0\n",
       "2018-01-05  NaN  1.0  1.0"
      ]
     },
     "execution_count": 10,
     "metadata": {},
     "output_type": "execute_result"
    }
   ],
   "source": [
    "ts"
   ]
  },
  {
   "cell_type": "code",
   "execution_count": 11,
   "metadata": {},
   "outputs": [
    {
     "name": "stdout",
     "output_type": "stream",
     "text": [
      "               a     b    c\n",
      "2018-01-01   1.0   NaN  1.0\n",
      "2018-01-02   3.0   4.0  3.0\n",
      "2018-01-03   6.0   7.0  NaN\n",
      "2018-01-04  10.0   9.0  5.0\n",
      "2018-01-05   NaN  10.0  6.0\n",
      "11.4 ms ± 196 µs per loop (mean ± std. dev. of 7 runs, 100 loops each)\n",
      "               a     b    c\n",
      "2018-01-01   1.0   NaN  1.0\n",
      "2018-01-02   3.0   4.0  3.0\n",
      "2018-01-03   6.0   7.0  NaN\n",
      "2018-01-04  10.0   9.0  5.0\n",
      "2018-01-05   NaN  10.0  6.0\n",
      "8.59 ms ± 78.6 µs per loop (mean ± std. dev. of 7 runs, 100 loops each)\n"
     ]
    }
   ],
   "source": [
    "print(ts.cumsum())\n",
    "%timeit big_ts.cumsum()\n",
    "\n",
    "print(ts.vbt.timeseries.cumsum())\n",
    "%timeit big_ts.vbt.timeseries.cumsum()"
   ]
  },
  {
   "cell_type": "code",
   "execution_count": 12,
   "metadata": {},
   "outputs": [
    {
     "name": "stdout",
     "output_type": "stream",
     "text": [
      "               a     b    c\n",
      "2018-01-01   1.0   NaN  1.0\n",
      "2018-01-02   2.0   4.0  2.0\n",
      "2018-01-03   6.0  12.0  NaN\n",
      "2018-01-04  24.0  24.0  4.0\n",
      "2018-01-05   NaN  24.0  4.0\n",
      "11.5 ms ± 178 µs per loop (mean ± std. dev. of 7 runs, 100 loops each)\n",
      "               a     b    c\n",
      "2018-01-01   1.0   NaN  1.0\n",
      "2018-01-02   2.0   4.0  2.0\n",
      "2018-01-03   6.0  12.0  NaN\n",
      "2018-01-04  24.0  24.0  4.0\n",
      "2018-01-05   NaN  24.0  4.0\n",
      "8.72 ms ± 73.6 µs per loop (mean ± std. dev. of 7 runs, 100 loops each)\n"
     ]
    }
   ],
   "source": [
    "print(ts.cumprod())\n",
    "%timeit big_ts.cumprod()\n",
    "\n",
    "print(ts.vbt.timeseries.cumprod())\n",
    "%timeit big_ts.vbt.timeseries.cumprod()"
   ]
  },
  {
   "cell_type": "code",
   "execution_count": 13,
   "metadata": {},
   "outputs": [
    {
     "name": "stdout",
     "output_type": "stream",
     "text": [
      "              a    b    c\n",
      "2018-01-01  NaN  NaN  NaN\n",
      "2018-01-02  1.0  NaN  1.0\n",
      "2018-01-03  2.0  3.0  NaN\n",
      "2018-01-04  3.0  2.0  NaN\n",
      "2018-01-05  NaN  1.0  1.0\n",
      "40.6 ms ± 450 µs per loop (mean ± std. dev. of 7 runs, 10 loops each)\n",
      "              a    b    c\n",
      "2018-01-01  NaN  NaN  NaN\n",
      "2018-01-02  1.0  NaN  1.0\n",
      "2018-01-03  2.0  3.0  NaN\n",
      "2018-01-04  3.0  2.0  NaN\n",
      "2018-01-05  NaN  1.0  1.0\n",
      "13.8 ms ± 201 µs per loop (mean ± std. dev. of 7 runs, 100 loops each)\n"
     ]
    }
   ],
   "source": [
    "print(ts.rolling(2).min())\n",
    "%timeit big_ts.rolling(2).min()\n",
    "\n",
    "print(ts.vbt.timeseries.rolling_min(2))\n",
    "%timeit big_ts.vbt.timeseries.rolling_min(2)"
   ]
  },
  {
   "cell_type": "code",
   "execution_count": 14,
   "metadata": {},
   "outputs": [
    {
     "name": "stdout",
     "output_type": "stream",
     "text": [
      "              a    b    c\n",
      "2018-01-01  NaN  NaN  NaN\n",
      "2018-01-02  2.0  NaN  2.0\n",
      "2018-01-03  3.0  4.0  NaN\n",
      "2018-01-04  4.0  3.0  NaN\n",
      "2018-01-05  NaN  2.0  2.0\n",
      "40.7 ms ± 853 µs per loop (mean ± std. dev. of 7 runs, 10 loops each)\n",
      "              a    b    c\n",
      "2018-01-01  NaN  NaN  NaN\n",
      "2018-01-02  2.0  NaN  2.0\n",
      "2018-01-03  3.0  4.0  NaN\n",
      "2018-01-04  4.0  3.0  NaN\n",
      "2018-01-05  NaN  2.0  2.0\n",
      "14.1 ms ± 417 µs per loop (mean ± std. dev. of 7 runs, 100 loops each)\n"
     ]
    }
   ],
   "source": [
    "print(ts.rolling(2).max())\n",
    "%timeit big_ts.rolling(2).max()\n",
    "\n",
    "print(ts.vbt.timeseries.rolling_max(2))\n",
    "%timeit big_ts.vbt.timeseries.rolling_max(2)"
   ]
  },
  {
   "cell_type": "code",
   "execution_count": 15,
   "metadata": {
    "Collapsed": "false"
   },
   "outputs": [
    {
     "name": "stdout",
     "output_type": "stream",
     "text": [
      "              a    b    c\n",
      "2018-01-01  NaN  NaN  NaN\n",
      "2018-01-02  1.5  NaN  1.5\n",
      "2018-01-03  2.5  3.5  NaN\n",
      "2018-01-04  3.5  2.5  NaN\n",
      "2018-01-05  NaN  1.5  1.5\n",
      "29 ms ± 372 µs per loop (mean ± std. dev. of 7 runs, 10 loops each)\n",
      "              a    b    c\n",
      "2018-01-01  NaN  NaN  NaN\n",
      "2018-01-02  1.5  NaN  1.5\n",
      "2018-01-03  2.5  3.5  NaN\n",
      "2018-01-04  3.5  2.5  NaN\n",
      "2018-01-05  NaN  1.5  1.5\n",
      "14.4 ms ± 197 µs per loop (mean ± std. dev. of 7 runs, 100 loops each)\n"
     ]
    }
   ],
   "source": [
    "print(ts.rolling(2).mean())\n",
    "%timeit big_ts.rolling(2).mean()\n",
    "\n",
    "print(ts.vbt.timeseries.rolling_mean(2))\n",
    "%timeit big_ts.vbt.timeseries.rolling_mean(2)"
   ]
  },
  {
   "cell_type": "code",
   "execution_count": 16,
   "metadata": {},
   "outputs": [
    {
     "name": "stdout",
     "output_type": "stream",
     "text": [
      "                   a         b         c\n",
      "2018-01-01       NaN       NaN       NaN\n",
      "2018-01-02  0.707107       NaN  0.707107\n",
      "2018-01-03  0.707107  0.707107       NaN\n",
      "2018-01-04  0.707107  0.707107       NaN\n",
      "2018-01-05       NaN  0.707107  0.707107\n",
      "55.3 ms ± 1.43 ms per loop (mean ± std. dev. of 7 runs, 10 loops each)\n",
      "                   a         b         c\n",
      "2018-01-01       NaN       NaN       NaN\n",
      "2018-01-02  0.707107       NaN  0.707107\n",
      "2018-01-03  0.707107  0.707107       NaN\n",
      "2018-01-04  0.707107  0.707107       NaN\n",
      "2018-01-05       NaN  0.707107  0.707107\n",
      "17.1 ms ± 166 µs per loop (mean ± std. dev. of 7 runs, 100 loops each)\n"
     ]
    }
   ],
   "source": [
    "print(ts.rolling(2).std())\n",
    "%timeit big_ts.rolling(2).std()\n",
    "\n",
    "print(ts.vbt.timeseries.rolling_std(2))\n",
    "%timeit big_ts.vbt.timeseries.rolling_std(2)"
   ]
  },
  {
   "cell_type": "code",
   "execution_count": 17,
   "metadata": {
    "Collapsed": "false"
   },
   "outputs": [
    {
     "name": "stdout",
     "output_type": "stream",
     "text": [
      "                   a         b         c\n",
      "2018-01-01       NaN       NaN       NaN\n",
      "2018-01-02  1.750000       NaN  1.750000\n",
      "2018-01-03  2.615385  3.250000  1.750000\n",
      "2018-01-04  3.550000  2.384615  1.967742\n",
      "2018-01-05  3.550000  1.450000  1.267857\n",
      "84.9 ms ± 1.39 ms per loop (mean ± std. dev. of 7 runs, 10 loops each)\n",
      "                   a         b         c\n",
      "2018-01-01       NaN       NaN       NaN\n",
      "2018-01-02  1.750000       NaN  1.750000\n",
      "2018-01-03  2.615385  3.250000  1.750000\n",
      "2018-01-04  3.550000  2.384615  1.967742\n",
      "2018-01-05  3.550000  1.450000  1.267857\n",
      "13.4 ms ± 669 µs per loop (mean ± std. dev. of 7 runs, 100 loops each)\n"
     ]
    }
   ],
   "source": [
    "print(ts.ewm(span=2, min_periods=2).mean())\n",
    "%timeit big_ts.ewm(span=2, min_periods=2).mean()\n",
    "\n",
    "print(ts.vbt.timeseries.ewm_mean(2))\n",
    "%timeit big_ts.vbt.timeseries.ewm_mean(2)"
   ]
  },
  {
   "cell_type": "code",
   "execution_count": 18,
   "metadata": {},
   "outputs": [
    {
     "name": "stdout",
     "output_type": "stream",
     "text": [
      "                   a         b         c\n",
      "2018-01-01       NaN       NaN       NaN\n",
      "2018-01-02  0.707107       NaN  0.707107\n",
      "2018-01-03  0.919866  0.707107  0.707107\n",
      "2018-01-04  1.059753  0.919866  0.367607\n",
      "2018-01-05  1.059753  1.059753  0.684914\n",
      "458 ms ± 7.81 ms per loop (mean ± std. dev. of 7 runs, 1 loop each)\n",
      "                   a         b         c\n",
      "2018-01-01       NaN       NaN       NaN\n",
      "2018-01-02  0.707107       NaN  0.707107\n",
      "2018-01-03  0.919866  0.707107  0.707107\n",
      "2018-01-04  1.059753  0.919866  0.367607\n",
      "2018-01-05  1.059753  1.059753  0.684914\n",
      "23.3 ms ± 544 µs per loop (mean ± std. dev. of 7 runs, 10 loops each)\n"
     ]
    }
   ],
   "source": [
    "print(ts.ewm(span=2, min_periods=2).std())\n",
    "%timeit big_ts.ewm(span=2, min_periods=2).std()\n",
    "\n",
    "print(ts.vbt.timeseries.ewm_std(2))\n",
    "%timeit big_ts.vbt.timeseries.ewm_std(2)"
   ]
  },
  {
   "cell_type": "code",
   "execution_count": 19,
   "metadata": {},
   "outputs": [
    {
     "name": "stdout",
     "output_type": "stream",
     "text": [
      "              a    b    c\n",
      "2018-01-01  1.0  NaN  1.0\n",
      "2018-01-02  1.0  4.0  1.0\n",
      "2018-01-03  1.0  3.0  1.0\n",
      "2018-01-04  1.0  2.0  1.0\n",
      "2018-01-05  1.0  1.0  1.0\n",
      "53 ms ± 6.86 ms per loop (mean ± std. dev. of 7 runs, 10 loops each)\n",
      "              a    b    c\n",
      "2018-01-01  1.0  NaN  1.0\n",
      "2018-01-02  1.0  4.0  1.0\n",
      "2018-01-03  1.0  3.0  1.0\n",
      "2018-01-04  1.0  2.0  1.0\n",
      "2018-01-05  1.0  1.0  1.0\n",
      "9.85 ms ± 1.21 ms per loop (mean ± std. dev. of 7 runs, 100 loops each)\n"
     ]
    }
   ],
   "source": [
    "print(ts.expanding().min())\n",
    "%timeit big_ts.expanding().min()\n",
    "\n",
    "print(ts.vbt.timeseries.expanding_min())\n",
    "%timeit big_ts.vbt.timeseries.expanding_min()"
   ]
  },
  {
   "cell_type": "code",
   "execution_count": 20,
   "metadata": {},
   "outputs": [
    {
     "name": "stdout",
     "output_type": "stream",
     "text": [
      "              a    b    c\n",
      "2018-01-01  1.0  NaN  1.0\n",
      "2018-01-02  2.0  4.0  2.0\n",
      "2018-01-03  3.0  4.0  2.0\n",
      "2018-01-04  4.0  4.0  2.0\n",
      "2018-01-05  4.0  4.0  2.0\n",
      "45.3 ms ± 417 µs per loop (mean ± std. dev. of 7 runs, 10 loops each)\n",
      "              a    b    c\n",
      "2018-01-01  1.0  NaN  1.0\n",
      "2018-01-02  2.0  4.0  2.0\n",
      "2018-01-03  3.0  4.0  2.0\n",
      "2018-01-04  4.0  4.0  2.0\n",
      "2018-01-05  4.0  4.0  2.0\n",
      "8.69 ms ± 153 µs per loop (mean ± std. dev. of 7 runs, 100 loops each)\n"
     ]
    }
   ],
   "source": [
    "print(ts.expanding().max())\n",
    "%timeit big_ts.expanding().max()\n",
    "\n",
    "print(ts.vbt.timeseries.expanding_max())\n",
    "%timeit big_ts.vbt.timeseries.expanding_max()"
   ]
  },
  {
   "cell_type": "code",
   "execution_count": 21,
   "metadata": {},
   "outputs": [
    {
     "name": "stdout",
     "output_type": "stream",
     "text": [
      "              a    b         c\n",
      "2018-01-01  1.0  NaN  1.000000\n",
      "2018-01-02  1.5  4.0  1.500000\n",
      "2018-01-03  2.0  3.5  1.500000\n",
      "2018-01-04  2.5  3.0  1.666667\n",
      "2018-01-05  2.5  2.5  1.500000\n",
      "30.4 ms ± 1.89 ms per loop (mean ± std. dev. of 7 runs, 10 loops each)\n",
      "              a    b         c\n",
      "2018-01-01  1.0  NaN  1.000000\n",
      "2018-01-02  1.5  4.0  1.500000\n",
      "2018-01-03  2.0  3.5  1.500000\n",
      "2018-01-04  2.5  3.0  1.666667\n",
      "2018-01-05  2.5  2.5  1.500000\n",
      "15.6 ms ± 472 µs per loop (mean ± std. dev. of 7 runs, 100 loops each)\n"
     ]
    }
   ],
   "source": [
    "print(ts.expanding().mean())\n",
    "%timeit big_ts.expanding().mean()\n",
    "\n",
    "print(ts.vbt.timeseries.expanding_mean())\n",
    "%timeit big_ts.vbt.timeseries.expanding_mean()"
   ]
  },
  {
   "cell_type": "code",
   "execution_count": 22,
   "metadata": {},
   "outputs": [
    {
     "name": "stdout",
     "output_type": "stream",
     "text": [
      "                   a         b         c\n",
      "2018-01-01       NaN       NaN       NaN\n",
      "2018-01-02  0.707107       NaN  0.707107\n",
      "2018-01-03  1.000000  0.707107  0.707107\n",
      "2018-01-04  1.290994  1.000000  0.577350\n",
      "2018-01-05  1.290994  1.290994  0.577350\n",
      "57.3 ms ± 1.5 ms per loop (mean ± std. dev. of 7 runs, 10 loops each)\n",
      "                   a         b         c\n",
      "2018-01-01       NaN       NaN       NaN\n",
      "2018-01-02  0.707107       NaN  0.707107\n",
      "2018-01-03  1.000000  0.707107  0.707107\n",
      "2018-01-04  1.290994  1.000000  0.577350\n",
      "2018-01-05  1.290994  1.290994  0.577350\n",
      "16.6 ms ± 234 µs per loop (mean ± std. dev. of 7 runs, 100 loops each)\n"
     ]
    }
   ],
   "source": [
    "print(ts.expanding().std())\n",
    "%timeit big_ts.expanding().std()\n",
    "\n",
    "print(ts.vbt.timeseries.expanding_std())\n",
    "%timeit big_ts.vbt.timeseries.expanding_std()"
   ]
  },
  {
   "cell_type": "code",
   "execution_count": 23,
   "metadata": {},
   "outputs": [],
   "source": [
    "pd_nanmean_nb = njit(lambda x: np.nanmean(x))\n",
    "nanmean_nb = njit(lambda col, i, x: np.nanmean(x))\n",
    "nanmean_matrix_nb = njit(lambda i, x: np.nanmean(x))"
   ]
  },
  {
   "cell_type": "code",
   "execution_count": 24,
   "metadata": {},
   "outputs": [
    {
     "name": "stdout",
     "output_type": "stream",
     "text": [
      "              a    b    c\n",
      "2018-01-01  1.0  NaN  1.0\n",
      "2018-01-02  1.5  4.0  1.5\n",
      "2018-01-03  2.5  3.5  2.0\n",
      "2018-01-04  3.5  2.5  2.0\n",
      "2018-01-05  4.0  1.5  1.5\n",
      "404 ms ± 32.5 ms per loop (mean ± std. dev. of 7 runs, 1 loop each)\n",
      "              a    b    c\n",
      "2018-01-01  1.0  NaN  1.0\n",
      "2018-01-02  1.5  4.0  1.5\n",
      "2018-01-03  2.5  3.5  2.0\n",
      "2018-01-04  3.5  2.5  2.0\n",
      "2018-01-05  4.0  1.5  1.5\n",
      "62.1 ms ± 1.64 ms per loop (mean ± std. dev. of 7 runs, 1 loop each)\n",
      "                   a         b         c\n",
      "2018-01-01  1.000000  1.000000  1.000000\n",
      "2018-01-02  2.000000  2.000000  2.000000\n",
      "2018-01-03  2.285714  2.285714  2.285714\n",
      "2018-01-04  2.750000  2.750000  2.750000\n",
      "2018-01-05  2.285714  2.285714  2.285714\n",
      "7.05 ms ± 203 µs per loop (mean ± std. dev. of 7 runs, 1 loop each)\n"
     ]
    }
   ],
   "source": [
    "print(ts.rolling(2, min_periods=1).apply(pd_nanmean_nb, raw=True))\n",
    "%timeit big_ts.rolling(2, min_periods=1).apply(pd_nanmean_nb, raw=True)\n",
    "\n",
    "print(ts.vbt.timeseries.rolling_apply(2, nanmean_nb))\n",
    "%timeit big_ts.vbt.timeseries.rolling_apply(2, nanmean_nb)\n",
    "\n",
    "print(ts.vbt.timeseries.rolling_apply(3, nanmean_matrix_nb, on_matrix=True))\n",
    "%timeit big_ts.vbt.timeseries.rolling_apply(3, nanmean_matrix_nb, on_matrix=True)"
   ]
  },
  {
   "cell_type": "code",
   "execution_count": 25,
   "metadata": {},
   "outputs": [
    {
     "name": "stdout",
     "output_type": "stream",
     "text": [
      "              a    b         c\n",
      "2018-01-01  1.0  NaN  1.000000\n",
      "2018-01-02  1.5  4.0  1.500000\n",
      "2018-01-03  2.0  3.5  1.500000\n",
      "2018-01-04  2.5  3.0  1.666667\n",
      "2018-01-05  2.5  2.5  1.500000\n",
      "1.43 s ± 14.9 ms per loop (mean ± std. dev. of 7 runs, 1 loop each)\n",
      "              a    b         c\n",
      "2018-01-01  1.0  NaN  1.000000\n",
      "2018-01-02  1.5  4.0  1.500000\n",
      "2018-01-03  2.0  3.5  1.500000\n",
      "2018-01-04  2.5  3.0  1.666667\n",
      "2018-01-05  2.5  2.5  1.500000\n",
      "879 ms ± 64.5 ms per loop (mean ± std. dev. of 7 runs, 1 loop each)\n",
      "                   a         b         c\n",
      "2018-01-01  1.000000  1.000000  1.000000\n",
      "2018-01-02  2.000000  2.000000  2.000000\n",
      "2018-01-03  2.285714  2.285714  2.285714\n",
      "2018-01-04  2.400000  2.400000  2.400000\n",
      "2018-01-05  2.166667  2.166667  2.166667\n",
      "822 ms ± 7.24 ms per loop (mean ± std. dev. of 7 runs, 1 loop each)\n"
     ]
    }
   ],
   "source": [
    "print(ts.expanding(min_periods=1).apply(pd_nanmean_nb, raw=True))\n",
    "%timeit big_ts.expanding(min_periods=1).apply(pd_nanmean_nb, raw=True)\n",
    "\n",
    "print(ts.vbt.timeseries.expanding_apply(nanmean_nb))\n",
    "%timeit big_ts.vbt.timeseries.expanding_apply(nanmean_nb)\n",
    "\n",
    "print(ts.vbt.timeseries.expanding_apply(nanmean_matrix_nb, on_matrix=True))\n",
    "%timeit big_ts.vbt.timeseries.expanding_apply(nanmean_matrix_nb, on_matrix=True)"
   ]
  },
  {
   "cell_type": "code",
   "execution_count": 26,
   "metadata": {},
   "outputs": [
    {
     "name": "stdout",
     "output_type": "stream",
     "text": [
      "1    1.5\n",
      "2    3.5\n",
      "3    NaN\n",
      "Name: a, dtype: float64\n",
      "3.63 ms ± 114 µs per loop (mean ± std. dev. of 7 runs, 100 loops each)\n",
      "1    1.5\n",
      "2    3.5\n",
      "3    NaN\n",
      "Name: a, dtype: float64\n",
      "2.88 ms ± 325 µs per loop (mean ± std. dev. of 7 runs, 1 loop each)\n",
      "     a    b    c\n",
      "1  1.5  4.0  1.5\n",
      "2  3.5  2.5  2.0\n",
      "3  NaN  1.0  1.0\n",
      "     a    b    c\n",
      "1  1.5  4.0  1.5\n",
      "2  3.5  2.5  2.0\n",
      "3  NaN  1.0  1.0\n",
      "10.6 ms ± 427 µs per loop (mean ± std. dev. of 7 runs, 1 loop each)\n",
      "     a    b    c\n",
      "1  2.0  2.0  2.0\n",
      "2  2.8  2.8  2.8\n",
      "3  1.0  1.0  1.0\n",
      "5.32 ms ± 149 µs per loop (mean ± std. dev. of 7 runs, 1 loop each)\n"
     ]
    }
   ],
   "source": [
    "print(ts['a'].groupby(np.asarray([1, 1, 2, 2, 3])).apply(lambda x: pd_nanmean_nb(x.values)))\n",
    "%timeit big_ts.iloc[:, 0].groupby(np.random.randint(10, size=1000)).apply(lambda x: pd_nanmean_nb(x.values))\n",
    "\n",
    "print(ts['a'].vbt.timeseries.groupby_apply(np.asarray([1, 1, 2, 2, 3]), nanmean_nb))\n",
    "%timeit big_ts.iloc[:, 0].vbt.timeseries.groupby_apply(np.random.randint(10, size=1000), nanmean_nb)\n",
    "\n",
    "print(ts.groupby(np.asarray([1, 1, 2, 2, 3])).agg({\n",
    "    'a': lambda x: pd_nanmean_nb(x.values), \n",
    "    'b': lambda x: pd_nanmean_nb(x.values), \n",
    "    'c': lambda x: pd_nanmean_nb(x.values)})) # any clean way to do column-wise grouping in pandas?\n",
    "\n",
    "print(ts.vbt.timeseries.groupby_apply(np.asarray([1, 1, 2, 2, 3]), nanmean_nb))\n",
    "%timeit big_ts.vbt.timeseries.groupby_apply(np.random.randint(10, size=1000), nanmean_nb)\n",
    "\n",
    "print(ts.vbt.timeseries.groupby_apply(np.asarray([1, 1, 2, 2, 3]), nanmean_matrix_nb, on_matrix=True))\n",
    "%timeit big_ts.vbt.timeseries.groupby_apply(np.random.randint(10, size=1000), nanmean_matrix_nb, on_matrix=True)"
   ]
  },
  {
   "cell_type": "code",
   "execution_count": 27,
   "metadata": {},
   "outputs": [
    {
     "name": "stdout",
     "output_type": "stream",
     "text": [
      "2018-01-01 00:00:00    1.0\n",
      "2018-01-01 01:00:00    NaN\n",
      "2018-01-01 02:00:00    NaN\n",
      "2018-01-01 03:00:00    NaN\n",
      "2018-01-01 04:00:00    NaN\n",
      "                      ... \n",
      "2018-01-04 20:00:00    NaN\n",
      "2018-01-04 21:00:00    NaN\n",
      "2018-01-04 22:00:00    NaN\n",
      "2018-01-04 23:00:00    NaN\n",
      "2018-01-05 00:00:00    NaN\n",
      "Freq: H, Name: a, Length: 97, dtype: float32\n",
      "119 ms ± 1.59 ms per loop (mean ± std. dev. of 7 runs, 10 loops each)\n",
      "2018-01-01 00:00:00    1.0\n",
      "2018-01-01 01:00:00    NaN\n",
      "2018-01-01 02:00:00    NaN\n",
      "2018-01-01 03:00:00    NaN\n",
      "2018-01-01 04:00:00    NaN\n",
      "                      ... \n",
      "2018-01-04 20:00:00    NaN\n",
      "2018-01-04 21:00:00    NaN\n",
      "2018-01-04 22:00:00    NaN\n",
      "2018-01-04 23:00:00    NaN\n",
      "2018-01-05 00:00:00    NaN\n",
      "Freq: H, Name: a, Length: 97, dtype: float64\n",
      "111 ms ± 975 µs per loop (mean ± std. dev. of 7 runs, 10 loops each)\n",
      "                       a    b    c\n",
      "2018-01-01 00:00:00  1.0  NaN  1.0\n",
      "2018-01-01 01:00:00  NaN  NaN  NaN\n",
      "2018-01-01 02:00:00  NaN  NaN  NaN\n",
      "2018-01-01 03:00:00  NaN  NaN  NaN\n",
      "2018-01-01 04:00:00  NaN  NaN  NaN\n",
      "...                  ...  ...  ...\n",
      "2018-01-04 20:00:00  NaN  NaN  NaN\n",
      "2018-01-04 21:00:00  NaN  NaN  NaN\n",
      "2018-01-04 22:00:00  NaN  NaN  NaN\n",
      "2018-01-04 23:00:00  NaN  NaN  NaN\n",
      "2018-01-05 00:00:00  NaN  1.0  1.0\n",
      "\n",
      "[97 rows x 3 columns]\n",
      "11.9 s ± 76.2 ms per loop (mean ± std. dev. of 7 runs, 1 loop each)\n",
      "                       a    b    c\n",
      "2018-01-01 00:00:00  1.0  NaN  1.0\n",
      "2018-01-01 01:00:00  NaN  NaN  NaN\n",
      "2018-01-01 02:00:00  NaN  NaN  NaN\n",
      "2018-01-01 03:00:00  NaN  NaN  NaN\n",
      "2018-01-01 04:00:00  NaN  NaN  NaN\n",
      "...                  ...  ...  ...\n",
      "2018-01-04 20:00:00  NaN  NaN  NaN\n",
      "2018-01-04 21:00:00  NaN  NaN  NaN\n",
      "2018-01-04 22:00:00  NaN  NaN  NaN\n",
      "2018-01-04 23:00:00  NaN  NaN  NaN\n",
      "2018-01-05 00:00:00  NaN  1.0  1.0\n",
      "\n",
      "[97 rows x 3 columns]\n",
      "459 ms ± 5.52 ms per loop (mean ± std. dev. of 7 runs, 1 loop each)\n",
      "                       a    b    c\n",
      "2018-01-01 00:00:00  1.0  1.0  1.0\n",
      "2018-01-01 01:00:00  NaN  NaN  NaN\n",
      "2018-01-01 02:00:00  NaN  NaN  NaN\n",
      "2018-01-01 03:00:00  NaN  NaN  NaN\n",
      "2018-01-01 04:00:00  NaN  NaN  NaN\n",
      "...                  ...  ...  ...\n",
      "2018-01-04 20:00:00  NaN  NaN  NaN\n",
      "2018-01-04 21:00:00  NaN  NaN  NaN\n",
      "2018-01-04 22:00:00  NaN  NaN  NaN\n",
      "2018-01-04 23:00:00  NaN  NaN  NaN\n",
      "2018-01-05 00:00:00  1.0  1.0  1.0\n",
      "\n",
      "[97 rows x 3 columns]\n",
      "222 ms ± 2.84 ms per loop (mean ± std. dev. of 7 runs, 1 loop each)\n"
     ]
    }
   ],
   "source": [
    "print(ts['a'].resample('1h').apply(lambda x: pd_nanmean_nb(x.values)))\n",
    "%timeit big_ts.iloc[:, 0].resample('1h').apply(lambda x: pd_nanmean_nb(x.values))\n",
    "\n",
    "print(ts['a'].vbt.timeseries.resample_apply('1h', nanmean_nb))\n",
    "%timeit big_ts.iloc[:, 0].vbt.timeseries.resample_apply('1h', nanmean_nb)\n",
    "\n",
    "print(ts.resample('1h').apply(lambda x: pd_nanmean_nb(x.values)))\n",
    "%timeit big_ts.iloc[:, :100].resample('1h').apply(lambda x: pd_nanmean_nb(x.values))\n",
    "\n",
    "print(ts.vbt.timeseries.resample_apply('1h', nanmean_nb))\n",
    "%timeit big_ts.vbt.timeseries.resample_apply('1h', nanmean_nb)\n",
    "\n",
    "print(ts.vbt.timeseries.resample_apply('1h', nanmean_matrix_nb, on_matrix=True))\n",
    "%timeit big_ts.vbt.timeseries.resample_apply('1h', nanmean_matrix_nb, on_matrix=True)"
   ]
  },
  {
   "cell_type": "code",
   "execution_count": 28,
   "metadata": {},
   "outputs": [
    {
     "name": "stdout",
     "output_type": "stream",
     "text": [
      "2018-01-01 00:00:00    1.0\n",
      "2018-01-01 01:00:00    NaN\n",
      "2018-01-01 02:00:00    NaN\n",
      "2018-01-01 03:00:00    NaN\n",
      "2018-01-01 04:00:00    NaN\n",
      "                      ... \n",
      "2018-01-04 20:00:00    NaN\n",
      "2018-01-04 21:00:00    NaN\n",
      "2018-01-04 22:00:00    NaN\n",
      "2018-01-04 23:00:00    NaN\n",
      "2018-01-05 00:00:00    NaN\n",
      "Freq: H, Name: a, Length: 97, dtype: float32\n",
      "116 ms ± 1.62 ms per loop (mean ± std. dev. of 7 runs, 10 loops each)\n",
      "2018-01-01 00:00:00    1.0\n",
      "2018-01-01 01:00:00    NaN\n",
      "2018-01-01 02:00:00    NaN\n",
      "2018-01-01 03:00:00    NaN\n",
      "2018-01-01 04:00:00    NaN\n",
      "                      ... \n",
      "2018-01-04 20:00:00    NaN\n",
      "2018-01-04 21:00:00    NaN\n",
      "2018-01-04 22:00:00    NaN\n",
      "2018-01-04 23:00:00    NaN\n",
      "2018-01-05 00:00:00    NaN\n",
      "Freq: H, Name: a, Length: 97, dtype: float64\n",
      "112 ms ± 894 µs per loop (mean ± std. dev. of 7 runs, 10 loops each)\n",
      "                       a    b    c\n",
      "2018-01-01 00:00:00  1.0  NaN  1.0\n",
      "2018-01-01 01:00:00  NaN  NaN  NaN\n",
      "2018-01-01 02:00:00  NaN  NaN  NaN\n",
      "2018-01-01 03:00:00  NaN  NaN  NaN\n",
      "2018-01-01 04:00:00  NaN  NaN  NaN\n",
      "...                  ...  ...  ...\n",
      "2018-01-04 20:00:00  NaN  NaN  NaN\n",
      "2018-01-04 21:00:00  NaN  NaN  NaN\n",
      "2018-01-04 22:00:00  NaN  NaN  NaN\n",
      "2018-01-04 23:00:00  NaN  NaN  NaN\n",
      "2018-01-05 00:00:00  NaN  1.0  1.0\n",
      "\n",
      "[97 rows x 3 columns]\n",
      "12 s ± 57.3 ms per loop (mean ± std. dev. of 7 runs, 1 loop each)\n",
      "                       a    b    c\n",
      "2018-01-01 00:00:00  1.0  NaN  1.0\n",
      "2018-01-01 01:00:00  NaN  NaN  NaN\n",
      "2018-01-01 02:00:00  NaN  NaN  NaN\n",
      "2018-01-01 03:00:00  NaN  NaN  NaN\n",
      "2018-01-01 04:00:00  NaN  NaN  NaN\n",
      "...                  ...  ...  ...\n",
      "2018-01-04 20:00:00  NaN  NaN  NaN\n",
      "2018-01-04 21:00:00  NaN  NaN  NaN\n",
      "2018-01-04 22:00:00  NaN  NaN  NaN\n",
      "2018-01-04 23:00:00  NaN  NaN  NaN\n",
      "2018-01-05 00:00:00  NaN  1.0  1.0\n",
      "\n",
      "[97 rows x 3 columns]\n",
      "459 ms ± 8.75 ms per loop (mean ± std. dev. of 7 runs, 1 loop each)\n",
      "                       a    b    c\n",
      "2018-01-01 00:00:00  1.0  1.0  1.0\n",
      "2018-01-01 01:00:00  NaN  NaN  NaN\n",
      "2018-01-01 02:00:00  NaN  NaN  NaN\n",
      "2018-01-01 03:00:00  NaN  NaN  NaN\n",
      "2018-01-01 04:00:00  NaN  NaN  NaN\n",
      "...                  ...  ...  ...\n",
      "2018-01-04 20:00:00  NaN  NaN  NaN\n",
      "2018-01-04 21:00:00  NaN  NaN  NaN\n",
      "2018-01-04 22:00:00  NaN  NaN  NaN\n",
      "2018-01-04 23:00:00  NaN  NaN  NaN\n",
      "2018-01-05 00:00:00  1.0  1.0  1.0\n",
      "\n",
      "[97 rows x 3 columns]\n",
      "224 ms ± 3.06 ms per loop (mean ± std. dev. of 7 runs, 1 loop each)\n"
     ]
    }
   ],
   "source": [
    "print(ts['a'].resample('1h').apply(lambda x: pd_nanmean_nb(x.values)))\n",
    "%timeit big_ts.iloc[:, 0].resample('1h').apply(lambda x: pd_nanmean_nb(x.values))\n",
    "\n",
    "print(ts['a'].vbt.timeseries.resample_apply('1h', nanmean_nb))\n",
    "%timeit big_ts.iloc[:, 0].vbt.timeseries.resample_apply('1h', nanmean_nb)\n",
    "\n",
    "print(ts.resample('1h').apply(lambda x: pd_nanmean_nb(x.values)))\n",
    "%timeit big_ts.iloc[:, :100].resample('1h').apply(lambda x: pd_nanmean_nb(x.values))\n",
    "\n",
    "print(ts.vbt.timeseries.resample_apply('1h', nanmean_nb))\n",
    "%timeit big_ts.vbt.timeseries.resample_apply('1h', nanmean_nb)\n",
    "\n",
    "print(ts.vbt.timeseries.resample_apply('1h', nanmean_matrix_nb, on_matrix=True))\n",
    "%timeit big_ts.vbt.timeseries.resample_apply('1h', nanmean_matrix_nb, on_matrix=True)"
   ]
  },
  {
   "cell_type": "code",
   "execution_count": 29,
   "metadata": {},
   "outputs": [
    {
     "name": "stdout",
     "output_type": "stream",
     "text": [
      "2018-01-01    2.0\n",
      "2018-01-04    4.0\n",
      "Freq: 3D, Name: a, dtype: float32\n",
      "3.6 ms ± 80.2 µs per loop (mean ± std. dev. of 7 runs, 100 loops each)\n",
      "2018-01-01    2.0\n",
      "2018-01-04    4.0\n",
      "Freq: 3D, Name: a, dtype: float64\n",
      "8.5 ms ± 176 µs per loop (mean ± std. dev. of 7 runs, 100 loops each)\n",
      "              a    b    c\n",
      "2018-01-01  2.0  3.5  1.5\n",
      "2018-01-04  4.0  1.5  1.5\n",
      "3.5 s ± 21.2 ms per loop (mean ± std. dev. of 7 runs, 1 loop each)\n",
      "              a    b    c\n",
      "2018-01-01  2.0  3.5  1.5\n",
      "2018-01-04  4.0  1.5  1.5\n",
      "89.3 ms ± 237 µs per loop (mean ± std. dev. of 7 runs, 10 loops each)\n",
      "                   a         b         c\n",
      "2018-01-01  2.285714  2.285714  2.285714\n",
      "2018-01-04  2.000000  2.000000  2.000000\n",
      "14 ms ± 132 µs per loop (mean ± std. dev. of 7 runs, 100 loops each)\n"
     ]
    }
   ],
   "source": [
    "print(ts['a'].resample('3d').apply(lambda x: pd_nanmean_nb(x.values)))\n",
    "%timeit big_ts.iloc[:, 0].resample('3d').apply(lambda x: pd_nanmean_nb(x.values))\n",
    "\n",
    "print(ts['a'].vbt.timeseries.resample_apply('3d', nanmean_nb))\n",
    "%timeit big_ts.iloc[:, 0].vbt.timeseries.resample_apply('3d', nanmean_nb)\n",
    "\n",
    "print(ts.resample('3d').apply(lambda x: pd_nanmean_nb(x.values)))\n",
    "%timeit big_ts.resample('3d').apply(lambda x: pd_nanmean_nb(x.values))\n",
    "\n",
    "print(ts.vbt.timeseries.resample_apply('3d', nanmean_nb))\n",
    "%timeit big_ts.vbt.timeseries.resample_apply('3d', nanmean_nb)\n",
    "\n",
    "print(ts.vbt.timeseries.resample_apply('3d', nanmean_matrix_nb, on_matrix=True))\n",
    "%timeit big_ts.vbt.timeseries.resample_apply('3d', nanmean_matrix_nb, on_matrix=True)"
   ]
  },
  {
   "cell_type": "code",
   "execution_count": 30,
   "metadata": {},
   "outputs": [
    {
     "name": "stdout",
     "output_type": "stream",
     "text": [
      "2018-01-07    2.5\n",
      "Freq: W-SUN, Name: a, dtype: float32\n",
      "6.31 ms ± 58.9 µs per loop (mean ± std. dev. of 7 runs, 100 loops each)\n",
      "2018-01-07    2.5\n",
      "Freq: W-SUN, Name: a, dtype: float64\n",
      "9.35 ms ± 191 µs per loop (mean ± std. dev. of 7 runs, 100 loops each)\n",
      "              a    b    c\n",
      "2018-01-07  2.5  2.5  1.5\n",
      "2.51 s ± 37.2 ms per loop (mean ± std. dev. of 7 runs, 1 loop each)\n",
      "              a    b    c\n",
      "2018-01-07  2.5  2.5  1.5\n",
      "45.4 ms ± 332 µs per loop (mean ± std. dev. of 7 runs, 10 loops each)\n",
      "                   a         b         c\n",
      "2018-01-07  2.166667  2.166667  2.166667\n",
      "13.3 ms ± 138 µs per loop (mean ± std. dev. of 7 runs, 100 loops each)\n"
     ]
    }
   ],
   "source": [
    "print(ts['a'].resample('1w').apply(lambda x: pd_nanmean_nb(x.values)))\n",
    "%timeit big_ts.iloc[:, 0].resample('1w').apply(lambda x: pd_nanmean_nb(x.values))\n",
    "\n",
    "print(ts['a'].vbt.timeseries.resample_apply('1w', nanmean_nb))\n",
    "%timeit big_ts.iloc[:, 0].vbt.timeseries.resample_apply('1w', nanmean_nb)\n",
    "\n",
    "print(ts.resample('1w').apply(lambda x: pd_nanmean_nb(x.values)))\n",
    "%timeit big_ts.resample('1w').apply(lambda x: pd_nanmean_nb(x.values))\n",
    "\n",
    "print(ts.vbt.timeseries.resample_apply('1w', nanmean_nb))\n",
    "%timeit big_ts.vbt.timeseries.resample_apply('1w', nanmean_nb)\n",
    "\n",
    "print(ts.vbt.timeseries.resample_apply('1w', nanmean_matrix_nb, on_matrix=True))\n",
    "%timeit big_ts.vbt.timeseries.resample_apply('1w', nanmean_matrix_nb, on_matrix=True)"
   ]
  },
  {
   "cell_type": "code",
   "execution_count": 31,
   "metadata": {},
   "outputs": [
    {
     "name": "stdout",
     "output_type": "stream",
     "text": [
      "start_date  2018-01-01  2018-01-04\n",
      "0                  1.0         4.0\n",
      "1                  2.0         NaN\n",
      "948 µs ± 217 µs per loop (mean ± std. dev. of 7 runs, 1 loop each)\n",
      "                    a                     b                     c           \n",
      "start_date 2018-01-01 2018-01-04 2018-01-01 2018-01-04 2018-01-01 2018-01-04\n",
      "0                 1.0        4.0        NaN        2.0        1.0        2.0\n",
      "1                 2.0        NaN        4.0        1.0        2.0        1.0\n",
      "45.9 ms ± 2.07 ms per loop (mean ± std. dev. of 7 runs, 1 loop each)\n"
     ]
    }
   ],
   "source": [
    "print(ts['a'].vbt.timeseries.rolling_window(2, n=2))\n",
    "%timeit big_ts.iloc[:, 0].vbt.timeseries.rolling_window(2, n=100)\n",
    "\n",
    "print(ts.vbt.timeseries.rolling_window(2, n=2))\n",
    "%timeit big_ts.vbt.timeseries.rolling_window(2, n=100)"
   ]
  },
  {
   "cell_type": "code",
   "execution_count": 7,
   "metadata": {},
   "outputs": [
    {
     "name": "stdout",
     "output_type": "stream",
     "text": [
      "              a    b    c\n",
      "2018-01-01  2.0  NaN  2.0\n",
      "2018-01-02  4.0  8.0  4.0\n",
      "2018-01-03  6.0  6.0  NaN\n",
      "2018-01-04  8.0  4.0  4.0\n",
      "2018-01-05  NaN  2.0  2.0\n",
      "501 ms ± 40.6 ms per loop (mean ± std. dev. of 7 runs, 1 loop each)\n",
      "2018-01-01    2.0\n",
      "2018-01-02    4.0\n",
      "2018-01-03    6.0\n",
      "2018-01-04    8.0\n",
      "2018-01-05    NaN\n",
      "Freq: D, Name: a, dtype: float64\n",
      "298 µs ± 84.9 µs per loop (mean ± std. dev. of 7 runs, 1 loop each)\n",
      "              a    b    c\n",
      "2018-01-01  2.0  NaN  2.0\n",
      "2018-01-02  4.0  8.0  4.0\n",
      "2018-01-03  6.0  6.0  NaN\n",
      "2018-01-04  8.0  4.0  4.0\n",
      "2018-01-05  NaN  2.0  2.0\n",
      "10.8 ms ± 168 µs per loop (mean ± std. dev. of 7 runs, 1 loop each)\n"
     ]
    }
   ],
   "source": [
    "mult_nb = njit(lambda col, i, x: x * 2)\n",
    "\n",
    "print(ts.applymap(lambda x: x * 2))\n",
    "%timeit big_ts.applymap(lambda x: x * 2)\n",
    "\n",
    "print(ts['a'].vbt.timeseries.applymap(mult_nb))\n",
    "%timeit big_ts.iloc[:, 0].vbt.timeseries.applymap(mult_nb)\n",
    "\n",
    "print(ts.vbt.timeseries.applymap(mult_nb))\n",
    "%timeit big_ts.vbt.timeseries.applymap(mult_nb)"
   ]
  },
  {
   "cell_type": "code",
   "execution_count": 8,
   "metadata": {},
   "outputs": [
    {
     "name": "stdout",
     "output_type": "stream",
     "text": [
      "              a    b   c\n",
      "2018-01-01  NaN  NaN NaN\n",
      "2018-01-02  NaN  4.0 NaN\n",
      "2018-01-03  3.0  3.0 NaN\n",
      "2018-01-04  4.0  NaN NaN\n",
      "2018-01-05  NaN  NaN NaN\n",
      "452 ms ± 14.7 ms per loop (mean ± std. dev. of 7 runs, 1 loop each)\n",
      "2018-01-01    NaN\n",
      "2018-01-02    NaN\n",
      "2018-01-03    3.0\n",
      "2018-01-04    4.0\n",
      "2018-01-05    NaN\n",
      "Freq: D, Name: a, dtype: float64\n",
      "322 µs ± 94.8 µs per loop (mean ± std. dev. of 7 runs, 1 loop each)\n",
      "              a    b   c\n",
      "2018-01-01  NaN  NaN NaN\n",
      "2018-01-02  NaN  4.0 NaN\n",
      "2018-01-03  3.0  3.0 NaN\n",
      "2018-01-04  4.0  NaN NaN\n",
      "2018-01-05  NaN  NaN NaN\n",
      "11.9 ms ± 568 µs per loop (mean ± std. dev. of 7 runs, 1 loop each)\n"
     ]
    }
   ],
   "source": [
    "greater_nb = njit(lambda col, i, x: x > 2)\n",
    "\n",
    "print(ts.applymap(lambda x: x if x > 2 else np.nan))\n",
    "%timeit big_ts.applymap(lambda x: x if x > 2 else np.nan)\n",
    "\n",
    "print(ts['a'].vbt.timeseries.filter(greater_nb))\n",
    "%timeit big_ts.iloc[:, 0].vbt.timeseries.filter(greater_nb)\n",
    "\n",
    "print(ts.vbt.timeseries.filter(greater_nb))\n",
    "%timeit big_ts.vbt.timeseries.filter(greater_nb)"
   ]
  },
  {
   "cell_type": "code",
   "execution_count": 9,
   "metadata": {},
   "outputs": [
    {
     "name": "stdout",
     "output_type": "stream",
     "text": [
      "1 days 00:00:00\n"
     ]
    }
   ],
   "source": [
    "print(ts.vbt.timeseries.timedelta)"
   ]
  },
  {
   "cell_type": "code",
   "execution_count": 10,
   "metadata": {},
   "outputs": [
    {
     "name": "stdout",
     "output_type": "stream",
     "text": [
      "4.0\n",
      "368 µs ± 92.8 µs per loop (mean ± std. dev. of 7 runs, 1 loop each)\n",
      "a    4.0\n",
      "b    4.0\n",
      "c    2.0\n",
      "dtype: float64\n",
      "1.48 ms ± 19.5 µs per loop (mean ± std. dev. of 7 runs, 1000 loops each)\n",
      "a   4 days\n",
      "b   4 days\n",
      "c   2 days\n",
      "dtype: timedelta64[ns]\n",
      "9.2 ms ± 136 µs per loop (mean ± std. dev. of 7 runs, 100 loops each)\n"
     ]
    }
   ],
   "source": [
    "every_2th_nb = njit(lambda col, a: a[::2])\n",
    "sum_nb = njit(lambda col, a: np.nansum(a))\n",
    "\n",
    "print(ts['a'].vbt.timeseries.apply_and_reduce(every_2th_nb, sum_nb))\n",
    "%timeit big_ts.iloc[:, 0].vbt.timeseries.apply_and_reduce(every_2th_nb, sum_nb)\n",
    "\n",
    "print(ts.vbt.timeseries.apply_and_reduce(every_2th_nb, sum_nb))\n",
    "%timeit big_ts.vbt.timeseries.apply_and_reduce(every_2th_nb, sum_nb)\n",
    "\n",
    "print(ts.vbt.timeseries.apply_and_reduce(every_2th_nb, sum_nb, time_units=True))\n",
    "%timeit big_ts.vbt.timeseries.apply_and_reduce(every_2th_nb, sum_nb, time_units=True)"
   ]
  },
  {
   "cell_type": "code",
   "execution_count": 11,
   "metadata": {},
   "outputs": [
    {
     "name": "stdout",
     "output_type": "stream",
     "text": [
      "a    10.0\n",
      "b    10.0\n",
      "c     6.0\n",
      "dtype: float64\n",
      "87 ms ± 8.46 ms per loop (mean ± std. dev. of 7 runs, 10 loops each)\n",
      "10.0\n",
      "333 µs ± 12.8 µs per loop (mean ± std. dev. of 7 runs, 1000 loops each)\n",
      "a    10.0\n",
      "b    10.0\n",
      "c     6.0\n",
      "dtype: float64\n",
      "3.03 ms ± 57.4 µs per loop (mean ± std. dev. of 7 runs, 100 loops each)\n",
      "a   10 days\n",
      "b   10 days\n",
      "c    6 days\n",
      "dtype: timedelta64[ns]\n",
      "10.5 ms ± 101 µs per loop (mean ± std. dev. of 7 runs, 100 loops each)\n"
     ]
    }
   ],
   "source": [
    "print(ts.apply(np.nansum, axis=0))\n",
    "%timeit big_ts.apply(np.nansum, axis=0)\n",
    "\n",
    "print(ts['a'].vbt.timeseries.reduce(sum_nb))\n",
    "%timeit big_ts.iloc[:, 0].vbt.timeseries.reduce(sum_nb)\n",
    "\n",
    "print(ts.vbt.timeseries.reduce(sum_nb))\n",
    "%timeit big_ts.vbt.timeseries.reduce(sum_nb)\n",
    "\n",
    "print(ts.vbt.timeseries.reduce(sum_nb, time_units=True))\n",
    "%timeit big_ts.vbt.timeseries.reduce(sum_nb, time_units=True)"
   ]
  },
  {
   "cell_type": "code",
   "execution_count": 5,
   "metadata": {},
   "outputs": [
    {
     "name": "stdout",
     "output_type": "stream",
     "text": [
      "     a    b    c\n",
      "0  1.0  1.0  1.0\n",
      "1  4.0  4.0  2.0\n",
      "181 ms ± 16.1 ms per loop (mean ± std. dev. of 7 runs, 1 loop each)\n",
      "min    1.0\n",
      "max    4.0\n",
      "Name: a, dtype: float64\n",
      "444 µs ± 85.8 µs per loop (mean ± std. dev. of 7 runs, 1 loop each)\n",
      "       a    b    c\n",
      "min  1.0  1.0  1.0\n",
      "max  4.0  4.0  2.0\n",
      "5.57 ms ± 1.02 ms per loop (mean ± std. dev. of 7 runs, 1 loop each)\n",
      "         a      b      c\n",
      "min 1 days 1 days 1 days\n",
      "max 4 days 4 days 2 days\n",
      "131 ms ± 2.12 ms per loop (mean ± std. dev. of 7 runs, 10 loops each)\n"
     ]
    }
   ],
   "source": [
    "@njit\n",
    "def min_and_max_nb(col, a):\n",
    "    result = np.empty(2)\n",
    "    result[0] = np.nanmin(a)\n",
    "    result[1] = np.nanmax(a)\n",
    "    return result\n",
    "\n",
    "print(ts.apply(lambda x: np.asarray([np.min(x), np.max(x)]), axis=0))\n",
    "%timeit big_ts.apply(lambda x: np.asarray([np.min(x), np.max(x)]), axis=0)\n",
    "\n",
    "print(ts['a'].vbt.timeseries.reduce_to_array(min_and_max_nb, index=['min', 'max']))\n",
    "%timeit big_ts.iloc[:, 0].vbt.timeseries.reduce_to_array(min_and_max_nb, index=['min', 'max'])\n",
    "\n",
    "print(ts.vbt.timeseries.reduce_to_array(min_and_max_nb, index=['min', 'max']))\n",
    "%timeit big_ts.vbt.timeseries.reduce_to_array(min_and_max_nb, index=['min', 'max'])\n",
    "\n",
    "print(ts.vbt.timeseries.reduce_to_array(min_and_max_nb, index=['min', 'max'], time_units=True))\n",
    "%timeit big_ts.vbt.timeseries.reduce_to_array(min_and_max_nb, index=['min', 'max'], time_units=True)"
   ]
  },
  {
   "cell_type": "code",
   "execution_count": 6,
   "metadata": {},
   "outputs": [
    {
     "name": "stdout",
     "output_type": "stream",
     "text": [
      "a    1.0\n",
      "b    1.0\n",
      "c    1.0\n",
      "dtype: float32\n",
      "3.98 ms ± 326 µs per loop (mean ± std. dev. of 7 runs, 100 loops each)\n",
      "a    1.0\n",
      "b    1.0\n",
      "c    1.0\n",
      "dtype: float32\n",
      "3.84 ms ± 88.8 µs per loop (mean ± std. dev. of 7 runs, 100 loops each)\n",
      "a   1 days\n",
      "b   1 days\n",
      "c   1 days\n",
      "dtype: timedelta64[ns]\n",
      "10.8 ms ± 230 µs per loop (mean ± std. dev. of 7 runs, 100 loops each)\n"
     ]
    }
   ],
   "source": [
    "print(ts.min())\n",
    "%timeit big_ts.min()\n",
    "\n",
    "print(ts.vbt.timeseries.min())\n",
    "%timeit big_ts.vbt.timeseries.min()\n",
    "\n",
    "print(ts.vbt.timeseries.min(time_units=True))\n",
    "%timeit big_ts.vbt.timeseries.min(time_units=True)"
   ]
  },
  {
   "cell_type": "code",
   "execution_count": 7,
   "metadata": {},
   "outputs": [
    {
     "name": "stdout",
     "output_type": "stream",
     "text": [
      "a    4.0\n",
      "b    4.0\n",
      "c    2.0\n",
      "dtype: float32\n",
      "3.9 ms ± 126 µs per loop (mean ± std. dev. of 7 runs, 100 loops each)\n",
      "a    4.0\n",
      "b    4.0\n",
      "c    2.0\n",
      "dtype: float32\n",
      "3.84 ms ± 95.2 µs per loop (mean ± std. dev. of 7 runs, 100 loops each)\n",
      "a   4 days\n",
      "b   4 days\n",
      "c   2 days\n",
      "dtype: timedelta64[ns]\n",
      "11.1 ms ± 130 µs per loop (mean ± std. dev. of 7 runs, 100 loops each)\n"
     ]
    }
   ],
   "source": [
    "print(ts.max())\n",
    "%timeit big_ts.max()\n",
    "\n",
    "print(ts.vbt.timeseries.max())\n",
    "%timeit big_ts.vbt.timeseries.max()\n",
    "\n",
    "print(ts.vbt.timeseries.max(time_units=True))\n",
    "%timeit big_ts.vbt.timeseries.max(time_units=True)"
   ]
  },
  {
   "cell_type": "code",
   "execution_count": 8,
   "metadata": {},
   "outputs": [
    {
     "name": "stdout",
     "output_type": "stream",
     "text": [
      "a    2.5\n",
      "b    2.5\n",
      "c    1.5\n",
      "dtype: float32\n",
      "2.9 ms ± 29.4 µs per loop (mean ± std. dev. of 7 runs, 100 loops each)\n",
      "a    2.5\n",
      "b    2.5\n",
      "c    1.5\n",
      "dtype: float32\n",
      "2.84 ms ± 70 µs per loop (mean ± std. dev. of 7 runs, 100 loops each)\n",
      "a   2 days 12:00:00\n",
      "b   2 days 12:00:00\n",
      "c   1 days 12:00:00\n",
      "dtype: timedelta64[ns]\n",
      "10.3 ms ± 118 µs per loop (mean ± std. dev. of 7 runs, 100 loops each)\n"
     ]
    }
   ],
   "source": [
    "print(ts.mean())\n",
    "%timeit big_ts.mean()\n",
    "\n",
    "print(ts.vbt.timeseries.mean())\n",
    "%timeit big_ts.vbt.timeseries.mean()\n",
    "\n",
    "print(ts.vbt.timeseries.mean(time_units=True))\n",
    "%timeit big_ts.vbt.timeseries.mean(time_units=True)"
   ]
  },
  {
   "cell_type": "code",
   "execution_count": 9,
   "metadata": {},
   "outputs": [
    {
     "name": "stdout",
     "output_type": "stream",
     "text": [
      "a    1.290994\n",
      "b    1.290994\n",
      "c    0.577350\n",
      "dtype: float32\n",
      "3.97 ms ± 79.3 µs per loop (mean ± std. dev. of 7 runs, 100 loops each)\n",
      "a    1.290994\n",
      "b    1.290994\n",
      "c    0.577350\n",
      "dtype: float32\n",
      "4.16 ms ± 556 µs per loop (mean ± std. dev. of 7 runs, 100 loops each)\n",
      "a   1 days 06:59:01.916656\n",
      "b   1 days 06:59:01.916656\n",
      "c   0 days 13:51:23.062363\n",
      "dtype: timedelta64[ns]\n",
      "12.5 ms ± 1.45 ms per loop (mean ± std. dev. of 7 runs, 100 loops each)\n"
     ]
    }
   ],
   "source": [
    "print(ts.std())\n",
    "%timeit big_ts.std()\n",
    "\n",
    "print(ts.vbt.timeseries.std())\n",
    "%timeit big_ts.vbt.timeseries.std()\n",
    "\n",
    "print(ts.vbt.timeseries.std(time_units=True))\n",
    "%timeit big_ts.vbt.timeseries.std(time_units=True)"
   ]
  },
  {
   "cell_type": "code",
   "execution_count": 10,
   "metadata": {},
   "outputs": [
    {
     "name": "stdout",
     "output_type": "stream",
     "text": [
      "a    4\n",
      "b    4\n",
      "c    4\n",
      "dtype: int64\n",
      "2.52 ms ± 37 µs per loop (mean ± std. dev. of 7 runs, 100 loops each)\n",
      "a    4\n",
      "b    4\n",
      "c    4\n",
      "dtype: int64\n",
      "2.05 ms ± 64.8 µs per loop (mean ± std. dev. of 7 runs, 100 loops each)\n",
      "a   4 days\n",
      "b   4 days\n",
      "c   4 days\n",
      "dtype: timedelta64[ns]\n",
      "9.08 ms ± 139 µs per loop (mean ± std. dev. of 7 runs, 100 loops each)\n"
     ]
    }
   ],
   "source": [
    "print((~ts.isnull()).sum())\n",
    "%timeit (~big_ts.isnull()).sum()\n",
    "\n",
    "print(ts.vbt.timeseries.count())\n",
    "%timeit big_ts.vbt.timeseries.count()\n",
    "\n",
    "print(ts.vbt.timeseries.count(time_units=True))\n",
    "%timeit big_ts.vbt.timeseries.count(time_units=True)"
   ]
  },
  {
   "cell_type": "code",
   "execution_count": 11,
   "metadata": {},
   "outputs": [
    {
     "name": "stdout",
     "output_type": "stream",
     "text": [
      "a   2018-01-01\n",
      "b   2018-01-05\n",
      "c   2018-01-01\n",
      "dtype: datetime64[ns]\n",
      "13.6 ms ± 218 µs per loop (mean ± std. dev. of 7 runs, 100 loops each)\n",
      "a   2018-01-01\n",
      "b   2018-01-05\n",
      "c   2018-01-01\n",
      "dtype: datetime64[ns]\n",
      "3.46 ms ± 44 µs per loop (mean ± std. dev. of 7 runs, 100 loops each)\n"
     ]
    }
   ],
   "source": [
    "print(ts.idxmin())\n",
    "%timeit big_ts.idxmin()\n",
    "\n",
    "print(ts.vbt.timeseries.argmin())\n",
    "%timeit big_ts.vbt.timeseries.argmin()"
   ]
  },
  {
   "cell_type": "code",
   "execution_count": 12,
   "metadata": {},
   "outputs": [
    {
     "name": "stdout",
     "output_type": "stream",
     "text": [
      "a   2018-01-04\n",
      "b   2018-01-02\n",
      "c   2018-01-02\n",
      "dtype: datetime64[ns]\n",
      "13.5 ms ± 101 µs per loop (mean ± std. dev. of 7 runs, 100 loops each)\n",
      "a   2018-01-04\n",
      "b   2018-01-02\n",
      "c   2018-01-02\n",
      "dtype: datetime64[ns]\n",
      "3.49 ms ± 97.2 µs per loop (mean ± std. dev. of 7 runs, 100 loops each)\n"
     ]
    }
   ],
   "source": [
    "print(ts.idxmax())\n",
    "%timeit big_ts.idxmax()\n",
    "\n",
    "print(ts.vbt.timeseries.argmax())\n",
    "%timeit big_ts.vbt.timeseries.argmax()"
   ]
  },
  {
   "cell_type": "code",
   "execution_count": 13,
   "metadata": {},
   "outputs": [
    {
     "name": "stdout",
     "output_type": "stream",
     "text": [
      "              a         b        c\n",
      "count  4.000000  4.000000  4.00000\n",
      "mean   2.500000  2.500000  1.50000\n",
      "std    1.290994  1.290994  0.57735\n",
      "min    1.000000  1.000000  1.00000\n",
      "0%     1.000000  1.000000  1.00000\n",
      "10%    1.300000  1.300000  1.00000\n",
      "20%    1.600000  1.600000  1.00000\n",
      "30%    1.900000  1.900000  1.00000\n",
      "40%    2.200000  2.200000  1.20000\n",
      "50%    2.500000  2.500000  1.50000\n",
      "60%    2.800000  2.800000  1.80000\n",
      "70%    3.100000  3.100000  2.00000\n",
      "80%    3.400000  3.400000  2.00000\n",
      "90%    3.700000  3.700000  2.00000\n",
      "max    4.000000  4.000000  2.00000\n",
      "1.89 s ± 14.6 ms per loop (mean ± std. dev. of 7 runs, 1 loop each)\n",
      "               a         b        c\n",
      "count   4.000000  4.000000  4.00000\n",
      "mean    2.500000  2.500000  1.50000\n",
      "std     1.290994  1.290994  0.57735\n",
      "min     1.000000  1.000000  1.00000\n",
      "0.00%   1.000000  1.000000  1.00000\n",
      "10.00%  1.300000  1.300000  1.00000\n",
      "20.00%  1.600000  1.600000  1.00000\n",
      "30.00%  1.900000  1.900000  1.00000\n",
      "40.00%  2.200000  2.200000  1.20000\n",
      "50.00%  2.500000  2.500000  1.50000\n",
      "60.00%  2.800000  2.800000  1.80000\n",
      "70.00%  3.100000  3.100000  2.00000\n",
      "80.00%  3.400000  3.400000  2.00000\n",
      "90.00%  3.700000  3.700000  2.00000\n",
      "max     4.000000  4.000000  2.00000\n",
      "590 ms ± 2.19 ms per loop (mean ± std. dev. of 7 runs, 1 loop each)\n"
     ]
    }
   ],
   "source": [
    "print(ts.describe(percentiles=np.arange(0, 1, 0.1)))\n",
    "%timeit big_ts.describe(percentiles=np.arange(0, 1, 0.1))\n",
    "\n",
    "print(ts.vbt.timeseries.describe(percentiles=np.arange(0, 1, 0.1)))\n",
    "%timeit big_ts.vbt.timeseries.describe(percentiles=np.arange(0, 1, 0.1))"
   ]
  },
  {
   "cell_type": "code",
   "execution_count": 14,
   "metadata": {
    "Collapsed": "false"
   },
   "outputs": [
    {
     "data": {
      "text/plain": [
       "<matplotlib.axes._subplots.AxesSubplot at 0x1a1db84908>"
      ]
     },
     "execution_count": 14,
     "metadata": {},
     "output_type": "execute_result"
    },
    {
     "data": {
      "image/png": "[encoded data removed]",
      "text/plain": [
       "<Figure size 432x288 with 1 Axes>"
      ]
     },
     "metadata": {
      "needs_background": "light"
     },
     "output_type": "display_data"
    }
   ],
   "source": [
    "# Two ways of plotting\n",
    "ts.plot()"
   ]
  },
  {
   "cell_type": "code",
   "execution_count": 15,
   "metadata": {},
   "outputs": [
    {
     "data": {
      "image/png": "[encoded data removed]"
     },
     "metadata": {},
     "output_type": "display_data"
    }
   ],
   "source": [
    "ts['a'].vbt.timeseries.plot().show_png()"
   ]
  },
  {
   "cell_type": "code",
   "execution_count": 16,
   "metadata": {},
   "outputs": [
    {
     "data": {
      "image/png": "[encoded data removed]"
     },
     "metadata": {},
     "output_type": "display_data"
    }
   ],
   "source": [
    "ts.vbt.timeseries.plot().show_png()"
   ]
  },
  {
   "cell_type": "code",
   "execution_count": 17,
   "metadata": {},
   "outputs": [
    {
     "data": {
      "image/png": "[encoded data removed]"
     },
     "metadata": {},
     "output_type": "display_data"
    }
   ],
   "source": [
    "ts['a'].vbt.timeseries.plot_against(2).show_png()"
   ]
  },
  {
   "cell_type": "code",
   "execution_count": 18,
   "metadata": {},
   "outputs": [
    {
     "data": {
      "image/png": "[encoded data removed]"
     },
     "metadata": {},
     "output_type": "display_data"
    }
   ],
   "source": [
    "ts['a'].vbt.timeseries.plot_against(ts['b']).show_png()"
   ]
  },
  {
   "cell_type": "markdown",
   "metadata": {},
   "source": [
    "## OHLCV"
   ]
  },
  {
   "cell_type": "code",
   "execution_count": 19,
   "metadata": {},
   "outputs": [
    {
     "name": "stdout",
     "output_type": "stream",
     "text": [
      "                Open      High       Low     Close    Volume\n",
      "2018-01-01  0.832356  1.167352  0.563389  0.547927 -0.810402\n",
      "2018-01-02  0.414719  0.521476 -0.086738 -0.433199 -0.561093\n",
      "2018-01-03  0.848918  1.113179  0.089630  0.264394 -0.390574\n",
      "2018-01-04  0.972672  1.582629  0.954924  1.377655 -0.276055\n",
      "2018-01-05  1.599816  1.733372  0.992134  0.920069  0.366256\n"
     ]
    }
   ],
   "source": [
    "ohlcv_ts = pd.DataFrame(\n",
    "    columns=['Open', 'High', 'Low', 'Close', 'Volume'],\n",
    "    index=[datetime(2018, 1, 1) + timedelta(days=i) for i in range(1000)]\n",
    ")\n",
    "ohlcv_ts['Open'] = np.cumsum(np.random.uniform(-0.8, 1, size=(1000,)))\n",
    "ohlcv_ts['Close'] = ohlcv_ts['Open'] + np.random.uniform(-1, 1, size=(1000,))\n",
    "ohlcv_ts['High'] = ohlcv_ts['Open'] + np.random.uniform(0, 1, size=(1000,))\n",
    "ohlcv_ts['Low'] = ohlcv_ts['Open'] - np.random.uniform(0, 1, size=(1000,))\n",
    "ohlcv_ts['Volume'] = np.cumsum(np.random.uniform(-1, 1, size=(1000,)))\n",
    "\n",
    "print(ohlcv_ts.head())"
   ]
  },
  {
   "cell_type": "code",
   "execution_count": 20,
   "metadata": {},
   "outputs": [
    {
     "data": {
      "image/png": "[encoded data removed]"
     },
     "metadata": {},
     "output_type": "display_data"
    }
   ],
   "source": [
    "ohlcv_ts = ohlcv_ts.rename(columns={'Volume': 'Volume2'}) # test different column names\n",
    "\n",
    "ohlcv_ts.vbt.ohlcv(volume='Volume2').plot().show_png()"
   ]
  },
  {
   "cell_type": "code",
   "execution_count": null,
   "metadata": {},
   "outputs": [],
   "source": []
  }
 ],
 "metadata": {
  "kernelspec": {
   "display_name": "Python 3",
   "language": "python",
   "name": "python3"
  },
  "language_info": {
   "codemirror_mode": {
    "name": "ipython",
    "version": 3
   },
   "file_extension": ".py",
   "mimetype": "text/x-python",
   "name": "python",
   "nbconvert_exporter": "python",
   "pygments_lexer": "ipython3",
   "version": "3.7.3"
  },
  "widgets": {
   "application/vnd.jupyter.widget-state+json": {
    "state": {
     "494f88d090f243a2bbf2369d0201339c": {
      "buffers": [
       {
        "data": "AADAfwAAgEAAAEBAAAAAQAAAgD8=",
        "encoding": "base64",
        "path": [
         "_data",
         0,
         "y",
         "value"
        ]
       },
       {
        "data": "AACAQA==",
        "encoding": "base64",
        "path": [
         "_data",
         1,
         "y",
         "value"
        ]
       },
       {
        "data": "AAAAQA==",
        "encoding": "base64",
        "path": [
         "_data",
         2,
         "y",
         "value"
        ]
       },
       {
        "data": "AABAQA==",
        "encoding": "base64",
        "path": [
         "_data",
         3,
         "y",
         "value"
        ]
       }
      ],
      "model_module": "plotlywidget",
      "model_module_version": "4.7.1",
      "model_name": "FigureModel",
      "state": {
       "_config": {
        "plotlyServerURL": "https://plot.ly"
       },
       "_data": [
        {
         "line": {
          "color": "grey",
          "dash": "dot",
          "width": 2
         },
         "name": "b",
         "showlegend": true,
         "type": "scatter",
         "uid": "550dbc92-cbbf-42ed-bb2c-dfb280f5ffd3",
         "x": [
          "2018-01-01T00:00:00.000000",
          "2018-01-02T00:00:00.000000",
          "2018-01-03T00:00:00.000000",
          "2018-01-04T00:00:00.000000",
          "2018-01-05T00:00:00.000000"
         ],
         "y": {
          "dtype": "float32",
          "shape": [
           5
          ]
         }
        },
        {
         "marker": {
          "color": "green",
          "size": 10,
          "symbol": "circle"
         },
         "mode": "markers",
         "name": "a (above)",
         "showlegend": true,
         "type": "scatter",
         "uid": "39ed4486-0991-4d31-bc55-677cad4dc9a3",
         "x": [
          "2018-01-04T00:00:00.000000"
         ],
         "y": {
          "dtype": "float32",
          "shape": [
           1
          ]
         }
        },
        {
         "marker": {
          "color": "red",
          "size": 10,
          "symbol": "circle"
         },
         "mode": "markers",
         "name": "a (below)",
         "showlegend": true,
         "type": "scatter",
         "uid": "4dd1d7d9-98d6-4fa1-b370-25c78c260c59",
         "x": [
          "2018-01-02T00:00:00.000000"
         ],
         "y": {
          "dtype": "float32",
          "shape": [
           1
          ]
         }
        },
        {
         "marker": {
          "color": "grey",
          "size": 10,
          "symbol": "circle"
         },
         "mode": "markers",
         "name": "a (equal)",
         "showlegend": true,
         "type": "scatter",
         "uid": "08c146dc-5488-489f-b62a-473bdc296331",
         "x": [
          "2018-01-03T00:00:00.000000"
         ],
         "y": {
          "dtype": "float32",
          "shape": [
           1
          ]
         }
        }
       ],
       "_js2py_layoutDelta": {},
       "_js2py_pointsCallback": {},
       "_js2py_relayout": {},
       "_js2py_restyle": {},
       "_js2py_traceDeltas": {},
       "_js2py_update": {},
       "_last_layout_edit_id": 5,
       "_last_trace_edit_id": 5,
       "_layout": {
        "autosize": false,
        "colorway": [
         "#1f77b4",
         "#ff7f0e",
         "#2ca02c",
         "#d62728",
         "#9467bd",
         "#8c564b",
         "#e377c2",
         "#7f7f7f",
         "#bcbd22",
         "#17becf"
        ],
        "height": 300,
        "hovermode": "closest",
        "margin": {
         "b": 30,
         "t": 30
        },
        "template": {
         "data": {
          "bar": [
           {
            "error_x": {
             "color": "#2a3f5f"
            },
            "error_y": {
             "color": "#2a3f5f"
            },
            "marker": {
             "line": {
              "color": "#E5ECF6",
              "width": 0.5
             }
            },
            "type": "bar"
           }
          ],
          "barpolar": [
           {
            "marker": {
             "line": {
              "color": "#E5ECF6",
              "width": 0.5
             }
            },
            "type": "barpolar"
           }
          ],
          "carpet": [
           {
            "aaxis": {
             "endlinecolor": "#2a3f5f",
             "gridcolor": "white",
             "linecolor": "white",
             "minorgridcolor": "white",
             "startlinecolor": "#2a3f5f"
            },
            "baxis": {
             "endlinecolor": "#2a3f5f",
             "gridcolor": "white",
             "linecolor": "white",
             "minorgridcolor": "white",
             "startlinecolor": "#2a3f5f"
            },
            "type": "carpet"
           }
          ],
          "choropleth": [
           {
            "colorbar": {
             "outlinewidth": 0,
             "ticks": ""
            },
            "type": "choropleth"
           }
          ],
          "contour": [
           {
            "colorbar": {
             "outlinewidth": 0,
             "ticks": ""
            },
            "colorscale": [
             [
              0,
              "#0d0887"
             ],
             [
              0.1111111111111111,
              "#46039f"
             ],
             [
              0.2222222222222222,
              "#7201a8"
             ],
             [
              0.3333333333333333,
              "#9c179e"
             ],
             [
              0.4444444444444444,
              "#bd3786"
             ],
             [
              0.5555555555555556,
              "#d8576b"
             ],
             [
              0.6666666666666666,
              "#ed7953"
             ],
             [
              0.7777777777777778,
              "#fb9f3a"
             ],
             [
              0.8888888888888888,
              "#fdca26"
             ],
             [
              1,
              "#f0f921"
             ]
            ],
            "type": "contour"
           }
          ],
          "contourcarpet": [
           {
            "colorbar": {
             "outlinewidth": 0,
             "ticks": ""
            },
            "type": "contourcarpet"
           }
          ],
          "heatmap": [
           {
            "colorbar": {
             "outlinewidth": 0,
             "ticks": ""
            },
            "colorscale": [
             [
              0,
              "#0d0887"
             ],
             [
              0.1111111111111111,
              "#46039f"
             ],
             [
              0.2222222222222222,
              "#7201a8"
             ],
             [
              0.3333333333333333,
              "#9c179e"
             ],
             [
              0.4444444444444444,
              "#bd3786"
             ],
             [
              0.5555555555555556,
              "#d8576b"
             ],
             [
              0.6666666666666666,
              "#ed7953"
             ],
             [
              0.7777777777777778,
              "#fb9f3a"
             ],
             [
              0.8888888888888888,
              "#fdca26"
             ],
             [
              1,
              "#f0f921"
             ]
            ],
            "type": "heatmap"
           }
          ],
          "heatmapgl": [
           {
            "colorbar": {
             "outlinewidth": 0,
             "ticks": ""
            },
            "colorscale": [
             [
              0,
              "#0d0887"
             ],
             [
              0.1111111111111111,
              "#46039f"
             ],
             [
              0.2222222222222222,
              "#7201a8"
             ],
             [
              0.3333333333333333,
              "#9c179e"
             ],
             [
              0.4444444444444444,
              "#bd3786"
             ],
             [
              0.5555555555555556,
              "#d8576b"
             ],
             [
              0.6666666666666666,
              "#ed7953"
             ],
             [
              0.7777777777777778,
              "#fb9f3a"
             ],
             [
              0.8888888888888888,
              "#fdca26"
             ],
             [
              1,
              "#f0f921"
             ]
            ],
            "type": "heatmapgl"
           }
          ],
          "histogram": [
           {
            "marker": {
             "colorbar": {
              "outlinewidth": 0,
              "ticks": ""
             }
            },
            "type": "histogram"
           }
          ],
          "histogram2d": [
           {
            "colorbar": {
             "outlinewidth": 0,
             "ticks": ""
            },
            "colorscale": [
             [
              0,
              "#0d0887"
             ],
             [
              0.1111111111111111,
              "#46039f"
             ],
             [
              0.2222222222222222,
              "#7201a8"
             ],
             [
              0.3333333333333333,
              "#9c179e"
             ],
             [
              0.4444444444444444,
              "#bd3786"
             ],
             [
              0.5555555555555556,
              "#d8576b"
             ],
             [
              0.6666666666666666,
              "#ed7953"
             ],
             [
              0.7777777777777778,
              "#fb9f3a"
             ],
             [
              0.8888888888888888,
              "#fdca26"
             ],
             [
              1,
              "#f0f921"
             ]
            ],
            "type": "histogram2d"
           }
          ],
          "histogram2dcontour": [
           {
            "colorbar": {
             "outlinewidth": 0,
             "ticks": ""
            },
            "colorscale": [
             [
              0,
              "#0d0887"
             ],
             [
              0.1111111111111111,
              "#46039f"
             ],
             [
              0.2222222222222222,
              "#7201a8"
             ],
             [
              0.3333333333333333,
              "#9c179e"
             ],
             [
              0.4444444444444444,
              "#bd3786"
             ],
             [
              0.5555555555555556,
              "#d8576b"
             ],
             [
              0.6666666666666666,
              "#ed7953"
             ],
             [
              0.7777777777777778,
              "#fb9f3a"
             ],
             [
              0.8888888888888888,
              "#fdca26"
             ],
             [
              1,
              "#f0f921"
             ]
            ],
            "type": "histogram2dcontour"
           }
          ],
          "mesh3d": [
           {
            "colorbar": {
             "outlinewidth": 0,
             "ticks": ""
            },
            "type": "mesh3d"
           }
          ],
          "parcoords": [
           {
            "line": {
             "colorbar": {
              "outlinewidth": 0,
              "ticks": ""
             }
            },
            "type": "parcoords"
           }
          ],
          "pie": [
           {
            "automargin": true,
            "type": "pie"
           }
          ],
          "scatter": [
           {
            "marker": {
             "colorbar": {
              "outlinewidth": 0,
              "ticks": ""
             }
            },
            "type": "scatter"
           }
          ],
          "scatter3d": [
           {
            "line": {
             "colorbar": {
              "outlinewidth": 0,
              "ticks": ""
             }
            },
            "marker": {
             "colorbar": {
              "outlinewidth": 0,
              "ticks": ""
             }
            },
            "type": "scatter3d"
           }
          ],
          "scattercarpet": [
           {
            "marker": {
             "colorbar": {
              "outlinewidth": 0,
              "ticks": ""
             }
            },
            "type": "scattercarpet"
           }
          ],
          "scattergeo": [
           {
            "marker": {
             "colorbar": {
              "outlinewidth": 0,
              "ticks": ""
             }
            },
            "type": "scattergeo"
           }
          ],
          "scattergl": [
           {
            "marker": {
             "colorbar": {
              "outlinewidth": 0,
              "ticks": ""
             }
            },
            "type": "scattergl"
           }
          ],
          "scattermapbox": [
           {
            "marker": {
             "colorbar": {
              "outlinewidth": 0,
              "ticks": ""
             }
            },
            "type": "scattermapbox"
           }
          ],
          "scatterpolar": [
           {
            "marker": {
             "colorbar": {
              "outlinewidth": 0,
              "ticks": ""
             }
            },
            "type": "scatterpolar"
           }
          ],
          "scatterpolargl": [
           {
            "marker": {
             "colorbar": {
              "outlinewidth": 0,
              "ticks": ""
             }
            },
            "type": "scatterpolargl"
           }
          ],
          "scatterternary": [
           {
            "marker": {
             "colorbar": {
              "outlinewidth": 0,
              "ticks": ""
             }
            },
            "type": "scatterternary"
           }
          ],
          "surface": [
           {
            "colorbar": {
             "outlinewidth": 0,
             "ticks": ""
            },
            "colorscale": [
             [
              0,
              "#0d0887"
             ],
             [
              0.1111111111111111,
              "#46039f"
             ],
             [
              0.2222222222222222,
              "#7201a8"
             ],
             [
              0.3333333333333333,
              "#9c179e"
             ],
             [
              0.4444444444444444,
              "#bd3786"
             ],
             [
              0.5555555555555556,
              "#d8576b"
             ],
             [
              0.6666666666666666,
              "#ed7953"
             ],
             [
              0.7777777777777778,
              "#fb9f3a"
             ],
             [
              0.8888888888888888,
              "#fdca26"
             ],
             [
              1,
              "#f0f921"
             ]
            ],
            "type": "surface"
           }
          ],
          "table": [
           {
            "cells": {
             "fill": {
              "color": "#EBF0F8"
             },
             "line": {
              "color": "white"
             }
            },
            "header": {
             "fill": {
              "color": "#C8D4E3"
             },
             "line": {
              "color": "white"
             }
            },
            "type": "table"
           }
          ]
         },
         "layout": {
          "annotationdefaults": {
           "arrowcolor": "#2a3f5f",
           "arrowhead": 0,
           "arrowwidth": 1
          },
          "coloraxis": {
           "colorbar": {
            "outlinewidth": 0,
            "ticks": ""
           }
          },
          "colorscale": {
           "diverging": [
            [
             0,
             "#8e0152"
            ],
            [
             0.1,
             "#c51b7d"
            ],
            [
             0.2,
             "#de77ae"
            ],
            [
             0.3,
             "#f1b6da"
            ],
            [
             0.4,
             "#fde0ef"
            ],
            [
             0.5,
             "#f7f7f7"
            ],
            [
             0.6,
             "#e6f5d0"
            ],
            [
             0.7,
             "#b8e186"
            ],
            [
             0.8,
             "#7fbc41"
            ],
            [
             0.9,
             "#4d9221"
            ],
            [
             1,
             "#276419"
            ]
           ],
           "sequential": [
            [
             0,
             "#0d0887"
            ],
            [
             0.1111111111111111,
             "#46039f"
            ],
            [
             0.2222222222222222,
             "#7201a8"
            ],
            [
             0.3333333333333333,
             "#9c179e"
            ],
            [
             0.4444444444444444,
             "#bd3786"
            ],
            [
             0.5555555555555556,
             "#d8576b"
            ],
            [
             0.6666666666666666,
             "#ed7953"
            ],
            [
             0.7777777777777778,
             "#fb9f3a"
            ],
            [
             0.8888888888888888,
             "#fdca26"
            ],
            [
             1,
             "#f0f921"
            ]
           ],
           "sequentialminus": [
            [
             0,
             "#0d0887"
            ],
            [
             0.1111111111111111,
             "#46039f"
            ],
            [
             0.2222222222222222,
             "#7201a8"
            ],
            [
             0.3333333333333333,
             "#9c179e"
            ],
            [
             0.4444444444444444,
             "#bd3786"
            ],
            [
             0.5555555555555556,
             "#d8576b"
            ],
            [
             0.6666666666666666,
             "#ed7953"
            ],
            [
             0.7777777777777778,
             "#fb9f3a"
            ],
            [
             0.8888888888888888,
             "#fdca26"
            ],
            [
             1,
             "#f0f921"
            ]
           ]
          },
          "colorway": [
           "#636efa",
           "#EF553B",
           "#00cc96",
           "#ab63fa",
           "#FFA15A",
           "#19d3f3",
           "#FF6692",
           "#B6E880",
           "#FF97FF",
           "#FECB52"
          ],
          "font": {
           "color": "#2a3f5f"
          },
          "geo": {
           "bgcolor": "white",
           "lakecolor": "white",
           "landcolor": "#E5ECF6",
           "showlakes": true,
           "showland": true,
           "subunitcolor": "white"
          },
          "hoverlabel": {
           "align": "left"
          },
          "hovermode": "closest",
          "mapbox": {
           "style": "light"
          },
          "paper_bgcolor": "white",
          "plot_bgcolor": "#E5ECF6",
          "polar": {
           "angularaxis": {
            "gridcolor": "white",
            "linecolor": "white",
            "ticks": ""
           },
           "bgcolor": "#E5ECF6",
           "radialaxis": {
            "gridcolor": "white",
            "linecolor": "white",
            "ticks": ""
           }
          },
          "scene": {
           "xaxis": {
            "backgroundcolor": "#E5ECF6",
            "gridcolor": "white",
            "gridwidth": 2,
            "linecolor": "white",
            "showbackground": true,
            "ticks": "",
            "zerolinecolor": "white"
           },
           "yaxis": {
            "backgroundcolor": "#E5ECF6",
            "gridcolor": "white",
            "gridwidth": 2,
            "linecolor": "white",
            "showbackground": true,
            "ticks": "",
            "zerolinecolor": "white"
           },
           "zaxis": {
            "backgroundcolor": "#E5ECF6",
            "gridcolor": "white",
            "gridwidth": 2,
            "linecolor": "white",
            "showbackground": true,
            "ticks": "",
            "zerolinecolor": "white"
           }
          },
          "shapedefaults": {
           "line": {
            "color": "#2a3f5f"
           }
          },
          "ternary": {
           "aaxis": {
            "gridcolor": "white",
            "linecolor": "white",
            "ticks": ""
           },
           "baxis": {
            "gridcolor": "white",
            "linecolor": "white",
            "ticks": ""
           },
           "bgcolor": "#E5ECF6",
           "caxis": {
            "gridcolor": "white",
            "linecolor": "white",
            "ticks": ""
           }
          },
          "title": {
           "x": 0.05
          },
          "xaxis": {
           "automargin": true,
           "gridcolor": "white",
           "linecolor": "white",
           "ticks": "",
           "title": {
            "standoff": 15
           },
           "zerolinecolor": "white",
           "zerolinewidth": 2
          },
          "yaxis": {
           "automargin": true,
           "gridcolor": "white",
           "linecolor": "white",
           "ticks": "",
           "title": {
            "standoff": 15
           },
           "zerolinecolor": "white",
           "zerolinewidth": 2
          }
         }
        },
        "width": 700
       },
       "_model_module_version": "4.7.1",
       "_py2js_animate": {},
       "_py2js_deleteTraces": {},
       "_py2js_moveTraces": {},
       "_py2js_removeLayoutProps": {},
       "_py2js_removeTraceProps": {},
       "_py2js_restyle": {},
       "_view_count": 0,
       "_view_module_version": "4.7.1"
      }
     },
     "8f6fa05f83dc438287d0d5cacb9e56f5": {
      "buffers": [
       {
        "data": "AACAPwAAAEAAAEBAAACAQAAAwH8=",
        "encoding": "base64",
        "path": [
         "_data",
         0,
         "y",
         "value"
        ]
       },
       {
        "data": "AADAfwAAgEAAAEBAAAAAQAAAgD8=",
        "encoding": "base64",
        "path": [
         "_data",
         1,
         "y",
         "value"
        ]
       },
       {
        "data": "AACAPwAAAEAAAMB/AAAAQAAAgD8=",
        "encoding": "base64",
        "path": [
         "_data",
         2,
         "y",
         "value"
        ]
       }
      ],
      "model_module": "plotlywidget",
      "model_module_version": "4.7.1",
      "model_name": "FigureModel",
      "state": {
       "_config": {
        "plotlyServerURL": "https://plot.ly"
       },
       "_data": [
        {
         "mode": "lines",
         "name": "a",
         "showlegend": true,
         "type": "scatter",
         "uid": "3b1187f3-f7a7-42c5-aa84-c2e4b7b89dbe",
         "x": [
          "2018-01-01T00:00:00.000000",
          "2018-01-02T00:00:00.000000",
          "2018-01-03T00:00:00.000000",
          "2018-01-04T00:00:00.000000",
          "2018-01-05T00:00:00.000000"
         ],
         "y": {
          "dtype": "float32",
          "shape": [
           5
          ]
         }
        },
        {
         "mode": "lines",
         "name": "b",
         "showlegend": true,
         "type": "scatter",
         "uid": "7a506131-e478-4980-8170-462bfc49e924",
         "x": [
          "2018-01-01T00:00:00.000000",
          "2018-01-02T00:00:00.000000",
          "2018-01-03T00:00:00.000000",
          "2018-01-04T00:00:00.000000",
          "2018-01-05T00:00:00.000000"
         ],
         "y": {
          "dtype": "float32",
          "shape": [
           5
          ]
         }
        },
        {
         "mode": "lines",
         "name": "c",
         "showlegend": true,
         "type": "scatter",
         "uid": "3aa97469-8d8d-4117-a664-23249e1b68f0",
         "x": [
          "2018-01-01T00:00:00.000000",
          "2018-01-02T00:00:00.000000",
          "2018-01-03T00:00:00.000000",
          "2018-01-04T00:00:00.000000",
          "2018-01-05T00:00:00.000000"
         ],
         "y": {
          "dtype": "float32",
          "shape": [
           5
          ]
         }
        }
       ],
       "_js2py_layoutDelta": {},
       "_js2py_pointsCallback": {},
       "_js2py_relayout": {},
       "_js2py_restyle": {},
       "_js2py_traceDeltas": {},
       "_js2py_update": {},
       "_last_layout_edit_id": 4,
       "_last_trace_edit_id": 4,
       "_layout": {
        "autosize": false,
        "colorway": [
         "#1f77b4",
         "#ff7f0e",
         "#2ca02c",
         "#d62728",
         "#9467bd",
         "#8c564b",
         "#e377c2",
         "#7f7f7f",
         "#bcbd22",
         "#17becf"
        ],
        "height": 300,
        "hovermode": "closest",
        "margin": {
         "b": 30,
         "t": 30
        },
        "template": {
         "data": {
          "bar": [
           {
            "error_x": {
             "color": "#2a3f5f"
            },
            "error_y": {
             "color": "#2a3f5f"
            },
            "marker": {
             "line": {
              "color": "#E5ECF6",
              "width": 0.5
             }
            },
            "type": "bar"
           }
          ],
          "barpolar": [
           {
            "marker": {
             "line": {
              "color": "#E5ECF6",
              "width": 0.5
             }
            },
            "type": "barpolar"
           }
          ],
          "carpet": [
           {
            "aaxis": {
             "endlinecolor": "#2a3f5f",
             "gridcolor": "white",
             "linecolor": "white",
             "minorgridcolor": "white",
             "startlinecolor": "#2a3f5f"
            },
            "baxis": {
             "endlinecolor": "#2a3f5f",
             "gridcolor": "white",
             "linecolor": "white",
             "minorgridcolor": "white",
             "startlinecolor": "#2a3f5f"
            },
            "type": "carpet"
           }
          ],
          "choropleth": [
           {
            "colorbar": {
             "outlinewidth": 0,
             "ticks": ""
            },
            "type": "choropleth"
           }
          ],
          "contour": [
           {
            "colorbar": {
             "outlinewidth": 0,
             "ticks": ""
            },
            "colorscale": [
             [
              0,
              "#0d0887"
             ],
             [
              0.1111111111111111,
              "#46039f"
             ],
             [
              0.2222222222222222,
              "#7201a8"
             ],
             [
              0.3333333333333333,
              "#9c179e"
             ],
             [
              0.4444444444444444,
              "#bd3786"
             ],
             [
              0.5555555555555556,
              "#d8576b"
             ],
             [
              0.6666666666666666,
              "#ed7953"
             ],
             [
              0.7777777777777778,
              "#fb9f3a"
             ],
             [
              0.8888888888888888,
              "#fdca26"
             ],
             [
              1,
              "#f0f921"
             ]
            ],
            "type": "contour"
           }
          ],
          "contourcarpet": [
           {
            "colorbar": {
             "outlinewidth": 0,
             "ticks": ""
            },
            "type": "contourcarpet"
           }
          ],
          "heatmap": [
           {
            "colorbar": {
             "outlinewidth": 0,
             "ticks": ""
            },
            "colorscale": [
             [
              0,
              "#0d0887"
             ],
             [
              0.1111111111111111,
              "#46039f"
             ],
             [
              0.2222222222222222,
              "#7201a8"
             ],
             [
              0.3333333333333333,
              "#9c179e"
             ],
             [
              0.4444444444444444,
              "#bd3786"
             ],
             [
              0.5555555555555556,
              "#d8576b"
             ],
             [
              0.6666666666666666,
              "#ed7953"
             ],
             [
              0.7777777777777778,
              "#fb9f3a"
             ],
             [
              0.8888888888888888,
              "#fdca26"
             ],
             [
              1,
              "#f0f921"
             ]
            ],
            "type": "heatmap"
           }
          ],
          "heatmapgl": [
           {
            "colorbar": {
             "outlinewidth": 0,
             "ticks": ""
            },
            "colorscale": [
             [
              0,
              "#0d0887"
             ],
             [
              0.1111111111111111,
              "#46039f"
             ],
             [
              0.2222222222222222,
              "#7201a8"
             ],
             [
              0.3333333333333333,
              "#9c179e"
             ],
             [
              0.4444444444444444,
              "#bd3786"
             ],
             [
              0.5555555555555556,
              "#d8576b"
             ],
             [
              0.6666666666666666,
              "#ed7953"
             ],
             [
              0.7777777777777778,
              "#fb9f3a"
             ],
             [
              0.8888888888888888,
              "#fdca26"
             ],
             [
              1,
              "#f0f921"
             ]
            ],
            "type": "heatmapgl"
           }
          ],
          "histogram": [
           {
            "marker": {
             "colorbar": {
              "outlinewidth": 0,
              "ticks": ""
             }
            },
            "type": "histogram"
           }
          ],
          "histogram2d": [
           {
            "colorbar": {
             "outlinewidth": 0,
             "ticks": ""
            },
            "colorscale": [
             [
              0,
              "#0d0887"
             ],
             [
              0.1111111111111111,
              "#46039f"
             ],
             [
              0.2222222222222222,
              "#7201a8"
             ],
             [
              0.3333333333333333,
              "#9c179e"
             ],
             [
              0.4444444444444444,
              "#bd3786"
             ],
             [
              0.5555555555555556,
              "#d8576b"
             ],
             [
              0.6666666666666666,
              "#ed7953"
             ],
             [
              0.7777777777777778,
              "#fb9f3a"
             ],
             [
              0.8888888888888888,
              "#fdca26"
             ],
             [
              1,
              "#f0f921"
             ]
            ],
            "type": "histogram2d"
           }
          ],
          "histogram2dcontour": [
           {
            "colorbar": {
             "outlinewidth": 0,
             "ticks": ""
            },
            "colorscale": [
             [
              0,
              "#0d0887"
             ],
             [
              0.1111111111111111,
              "#46039f"
             ],
             [
              0.2222222222222222,
              "#7201a8"
             ],
             [
              0.3333333333333333,
              "#9c179e"
             ],
             [
              0.4444444444444444,
              "#bd3786"
             ],
             [
              0.5555555555555556,
              "#d8576b"
             ],
             [
              0.6666666666666666,
              "#ed7953"
             ],
             [
              0.7777777777777778,
              "#fb9f3a"
             ],
             [
              0.8888888888888888,
              "#fdca26"
             ],
             [
              1,
              "#f0f921"
             ]
            ],
            "type": "histogram2dcontour"
           }
          ],
          "mesh3d": [
           {
            "colorbar": {
             "outlinewidth": 0,
             "ticks": ""
            },
            "type": "mesh3d"
           }
          ],
          "parcoords": [
           {
            "line": {
             "colorbar": {
              "outlinewidth": 0,
              "ticks": ""
             }
            },
            "type": "parcoords"
           }
          ],
          "pie": [
           {
            "automargin": true,
            "type": "pie"
           }
          ],
          "scatter": [
           {
            "marker": {
             "colorbar": {
              "outlinewidth": 0,
              "ticks": ""
             }
            },
            "type": "scatter"
           }
          ],
          "scatter3d": [
           {
            "line": {
             "colorbar": {
              "outlinewidth": 0,
              "ticks": ""
             }
            },
            "marker": {
             "colorbar": {
              "outlinewidth": 0,
              "ticks": ""
             }
            },
            "type": "scatter3d"
           }
          ],
          "scattercarpet": [
           {
            "marker": {
             "colorbar": {
              "outlinewidth": 0,
              "ticks": ""
             }
            },
            "type": "scattercarpet"
           }
          ],
          "scattergeo": [
           {
            "marker": {
             "colorbar": {
              "outlinewidth": 0,
              "ticks": ""
             }
            },
            "type": "scattergeo"
           }
          ],
          "scattergl": [
           {
            "marker": {
             "colorbar": {
              "outlinewidth": 0,
              "ticks": ""
             }
            },
            "type": "scattergl"
           }
          ],
          "scattermapbox": [
           {
            "marker": {
             "colorbar": {
              "outlinewidth": 0,
              "ticks": ""
             }
            },
            "type": "scattermapbox"
           }
          ],
          "scatterpolar": [
           {
            "marker": {
             "colorbar": {
              "outlinewidth": 0,
              "ticks": ""
             }
            },
            "type": "scatterpolar"
           }
          ],
          "scatterpolargl": [
           {
            "marker": {
             "colorbar": {
              "outlinewidth": 0,
              "ticks": ""
             }
            },
            "type": "scatterpolargl"
           }
          ],
          "scatterternary": [
           {
            "marker": {
             "colorbar": {
              "outlinewidth": 0,
              "ticks": ""
             }
            },
            "type": "scatterternary"
           }
          ],
          "surface": [
           {
            "colorbar": {
             "outlinewidth": 0,
             "ticks": ""
            },
            "colorscale": [
             [
              0,
              "#0d0887"
             ],
             [
              0.1111111111111111,
              "#46039f"
             ],
             [
              0.2222222222222222,
              "#7201a8"
             ],
             [
              0.3333333333333333,
              "#9c179e"
             ],
             [
              0.4444444444444444,
              "#bd3786"
             ],
             [
              0.5555555555555556,
              "#d8576b"
             ],
             [
              0.6666666666666666,
              "#ed7953"
             ],
             [
              0.7777777777777778,
              "#fb9f3a"
             ],
             [
              0.8888888888888888,
              "#fdca26"
             ],
             [
              1,
              "#f0f921"
             ]
            ],
            "type": "surface"
           }
          ],
          "table": [
           {
            "cells": {
             "fill": {
              "color": "#EBF0F8"
             },
             "line": {
              "color": "white"
             }
            },
            "header": {
             "fill": {
              "color": "#C8D4E3"
             },
             "line": {
              "color": "white"
             }
            },
            "type": "table"
           }
          ]
         },
         "layout": {
          "annotationdefaults": {
           "arrowcolor": "#2a3f5f",
           "arrowhead": 0,
           "arrowwidth": 1
          },
          "coloraxis": {
           "colorbar": {
            "outlinewidth": 0,
            "ticks": ""
           }
          },
          "colorscale": {
           "diverging": [
            [
             0,
             "#8e0152"
            ],
            [
             0.1,
             "#c51b7d"
            ],
            [
             0.2,
             "#de77ae"
            ],
            [
             0.3,
             "#f1b6da"
            ],
            [
             0.4,
             "#fde0ef"
            ],
            [
             0.5,
             "#f7f7f7"
            ],
            [
             0.6,
             "#e6f5d0"
            ],
            [
             0.7,
             "#b8e186"
            ],
            [
             0.8,
             "#7fbc41"
            ],
            [
             0.9,
             "#4d9221"
            ],
            [
             1,
             "#276419"
            ]
           ],
           "sequential": [
            [
             0,
             "#0d0887"
            ],
            [
             0.1111111111111111,
             "#46039f"
            ],
            [
             0.2222222222222222,
             "#7201a8"
            ],
            [
             0.3333333333333333,
             "#9c179e"
            ],
            [
             0.4444444444444444,
             "#bd3786"
            ],
            [
             0.5555555555555556,
             "#d8576b"
            ],
            [
             0.6666666666666666,
             "#ed7953"
            ],
            [
             0.7777777777777778,
             "#fb9f3a"
            ],
            [
             0.8888888888888888,
             "#fdca26"
            ],
            [
             1,
             "#f0f921"
            ]
           ],
           "sequentialminus": [
            [
             0,
             "#0d0887"
            ],
            [
             0.1111111111111111,
             "#46039f"
            ],
            [
             0.2222222222222222,
             "#7201a8"
            ],
            [
             0.3333333333333333,
             "#9c179e"
            ],
            [
             0.4444444444444444,
             "#bd3786"
            ],
            [
             0.5555555555555556,
             "#d8576b"
            ],
            [
             0.6666666666666666,
             "#ed7953"
            ],
            [
             0.7777777777777778,
             "#fb9f3a"
            ],
            [
             0.8888888888888888,
             "#fdca26"
            ],
            [
             1,
             "#f0f921"
            ]
           ]
          },
          "colorway": [
           "#636efa",
           "#EF553B",
           "#00cc96",
           "#ab63fa",
           "#FFA15A",
           "#19d3f3",
           "#FF6692",
           "#B6E880",
           "#FF97FF",
           "#FECB52"
          ],
          "font": {
           "color": "#2a3f5f"
          },
          "geo": {
           "bgcolor": "white",
           "lakecolor": "white",
           "landcolor": "#E5ECF6",
           "showlakes": true,
           "showland": true,
           "subunitcolor": "white"
          },
          "hoverlabel": {
           "align": "left"
          },
          "hovermode": "closest",
          "mapbox": {
           "style": "light"
          },
          "paper_bgcolor": "white",
          "plot_bgcolor": "#E5ECF6",
          "polar": {
           "angularaxis": {
            "gridcolor": "white",
            "linecolor": "white",
            "ticks": ""
           },
           "bgcolor": "#E5ECF6",
           "radialaxis": {
            "gridcolor": "white",
            "linecolor": "white",
            "ticks": ""
           }
          },
          "scene": {
           "xaxis": {
            "backgroundcolor": "#E5ECF6",
            "gridcolor": "white",
            "gridwidth": 2,
            "linecolor": "white",
            "showbackground": true,
            "ticks": "",
            "zerolinecolor": "white"
           },
           "yaxis": {
            "backgroundcolor": "#E5ECF6",
            "gridcolor": "white",
            "gridwidth": 2,
            "linecolor": "white",
            "showbackground": true,
            "ticks": "",
            "zerolinecolor": "white"
           },
           "zaxis": {
            "backgroundcolor": "#E5ECF6",
            "gridcolor": "white",
            "gridwidth": 2,
            "linecolor": "white",
            "showbackground": true,
            "ticks": "",
            "zerolinecolor": "white"
           }
          },
          "shapedefaults": {
           "line": {
            "color": "#2a3f5f"
           }
          },
          "ternary": {
           "aaxis": {
            "gridcolor": "white",
            "linecolor": "white",
            "ticks": ""
           },
           "baxis": {
            "gridcolor": "white",
            "linecolor": "white",
            "ticks": ""
           },
           "bgcolor": "#E5ECF6",
           "caxis": {
            "gridcolor": "white",
            "linecolor": "white",
            "ticks": ""
           }
          },
          "title": {
           "x": 0.05
          },
          "xaxis": {
           "automargin": true,
           "gridcolor": "white",
           "linecolor": "white",
           "ticks": "",
           "title": {
            "standoff": 15
           },
           "zerolinecolor": "white",
           "zerolinewidth": 2
          },
          "yaxis": {
           "automargin": true,
           "gridcolor": "white",
           "linecolor": "white",
           "ticks": "",
           "title": {
            "standoff": 15
           },
           "zerolinecolor": "white",
           "zerolinewidth": 2
          }
         }
        },
        "width": 700
       },
       "_model_module_version": "4.7.1",
       "_py2js_animate": {},
       "_py2js_deleteTraces": {},
       "_py2js_moveTraces": {},
       "_py2js_removeLayoutProps": {},
       "_py2js_removeTraceProps": {},
       "_py2js_restyle": {},
       "_view_count": 0,
       "_view_module_version": "4.7.1"
      }
     },
     "b2e16a9f08db4bb59c7db945f1920038": {
      "buffers": [
       {
        "data": "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",
        "encoding": "base64",
        "path": [
         "_data",
         0,
         "close",
         "value"
        ]
       },
       {
        "data": "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",
        "encoding": "base64",
        "path": [
         "_data",
         0,
         "high",
         "value"
        ]
       },
       {
        "data": "mSLEJ0kH4j+Ap3pudzS2v4CZ1RAA8rY/RvAGSL2O7j+7MQnJj7/vP1rB/1TjePc/GB0IhLlHA0D9SutB69cFQDyTeddIWw1A29uWMmWUDEA7d7mVWo8KQCo/zA7n2ghA40raJpd9BUC6CAn71Q4GQNgNby0Y9ARAkX5C/zgSBUBbQn/5EDD9PxXzskGtwgZAnOs+RLOYB0A0m86khxgHQL/yeZn9FgpAi2ApbeNtE0CsryybaEsSQIPrMyQ0kBJA/iXOChewGUBBGEGFoAscQGBfARnz4BpACfwro7m0GUDWb3AF7ZgYQHf4XWmQZRpApESXjs8tF0CzfgtGSvgUQA/o1qssOBJAAwP2YFIeE0B8F6y+LKgTQFTRgDaAnxRAFuJ1YhWvFECpYMl1GPQWQL/fopjoMBhA5U9Yx5P6G0C5c0h0VDobQCDcd4oC6hhA+mV2x2AWGUBNbp446u0ZQBZZRrBH4hdASUfUgOUJG0DAKIWLhZoXQFzykQYsdhxA6N+YdCJHGkAFtBHRAJMdQOkEAU4n0B1AKeR5D3vJIEClmW1dRgchQPEkXlSqVCJAjDv+lXyiIkCqw7vn1sggQH12xUB+ayFAmKI9Sm46IkBahRyd7LIiQPKBktEWeyJAtBMU7NIKIUDK9eJaU6UiQHLOMXoeIyRADtzFbKitJUAcxEYo2WQnQILr8smt7ChAWW1gPLIDK0AHnMlstxcoQCLjW8p0VilAbKVh0YPJKUADFYGskpsrQIBwzc0ZmChAJGeqLpWUK0CcDzUAAAwsQPjQuJNpZipAjrjYCfDoK0BUf76m5vMpQGCiYuYICilAhqcZ6mjqKEDUxJ8rdQQqQGMy9Ur8sStAqgGksVteK0BoYByRWc0pQGoNgjeGmSlAYAPLklrjK0CaydOTnjoqQMh9kpan4ytAD6SQuuAIL0DstiBm9RgwQCRcdrzB2C9AsYm81x62MECHYaulkE4wQGWaMHkujzBA1ythDTcTMECwCq7mpAowQLw7ajGBSTBAhPeWVYoZMEBqkCYXK/QwQBX4xrAAmDBAn4Z9KVE1MEBvGAkoV0MwQId9L8VB6S9AoEG9YA1SLkAVMscilAwwQOtH4ULXji5AS1B8VZvlLkCIya+kh8MuQBk08PzzMjBAqgCkRabbL0AY8vnGsrkwQGqKMvKBRjFA/1rMQuS2MEAxXuu3y7UxQNJU5uyAKjJAE0s5kFkOM0DTGFG2wOYyQOk+6A9X+TNAuD2y8RQxM0CerlwnKGoyQJeGX6QUsjJAZq/xuGcxNEByZR1qzBczQJ46ZwVm3TNAXfYQThP1MkBYrpCkB0szQFyqpgGenzJAr+UcErxlMkD9gEU+gHMyQBj7aXTYIDFAZx18UNxdMUAgQyN2RewwQBDIm1JBfzBAA36va31KMUAuKe3DauwwQM1L/lSSYTJA3BkOMrPkMkBmG7hyLsExQBoUkC1rUTNAWlmxgDNqMkAlF5f9j/EwQP5cYB++rTJARsG22behMkCzgADEkZQzQLWjCKPwmjNAVeFwWBblNEAVWHsL0PYzQG/6btwaQDRAeYASNlg2NEBWRJLXleg0QMtMEXMcyzVAKiyTnQqmNUBVo31iFiY1QODfVOLkFTZAy4caCM29NUC7nv74Rgk1QJ73ospbtDRASu5OAvbYNECKqMAOsGE1QI3ucz5czDVA7okrrYJ/NkBhP0LmXVs3QNTY84SSVTZAF4tL00cuNkCQPDhTzP02QHXsiAnsZDZAWM+/TC8NNUCjLnmtYzA2QKWlajPLpjZA75NzIWfkN0At6Q9jOeM2QE12JP8gXTdAhZQ2rSaPNkBor4/8SJQ2QGLcS2YYBzdAMg359ypLOEBzAIInfn83QCcp1TMMYjdAnuTAxFzjN0BgUhIvC0c4QOAErgUqyDdA9BqmCMaVN0AkPxpobPY2QAj6BTttzDVA0dfe5B8bN0AadjneONA2QO7/ULIazzZA9jsEf3foN0Aws9WVl8s3QFLtNEhVdDhA4NhmZFa8OUBsOAaKa/c4QADORRVYQjlA9yoUPs0KO0AXJArex1w7QNVPciNffDxA3ZjGpnttPEBpUZ3nbdY7QGREBJFteTxAmcy2V6R7O0D6K8uFiEA8QE07Ewo15jtAa8nFAaJTPECWOtZwZ+A8QNamKRj5ijxAjJ7LSf3TPEA+o+/u7OU9QECn9IvAgT1ArrUp0RZ8PECBifw08eo7QCOahY3HujxAlI3bOyddPUC8RG/IZC89QOS1t0Sn3D1AlxNpB6GWPUDwknBh0w4+QF9lwZ2AXD5A6tUDR2rWPUABxD/FrVg+QCGTUbpXoT5AEQpelBE6PkApcCkOLgs/QNpDPNa/OT9ANSz+BW+LP0Bdx5dgScg/QI2O8TkJnT9Au0jFK3sFP0AWfgIhNbA+QBbH7F+0yz5AHLyiyFSKP0DVyUq++wJAQN5pZ7Tx9T9A7wwBiKmAP0By+LyLB+M/QGP+OOev3D9Ayi1UKhv2P0CblA1+rJBAQF+tip+W10BARLrEMhrSQEBtmTOC+B9BQN/vYssgcUFAySEfLOYKQUAksgUDDahAQGb62WN1rUBAE0ZmKg5dQUC//vWswT9BQJDI/S+o+0BAS7o+sOnTQEDSGTmRO3xAQICSCk8hk0BAsihjnA12QEC6OLtesiRAQEBPNr7g4D9AXoWngef2P0CUvnbWsHI/QM0Ve/ZxGUBA2OasHGMxQECUbLP9K1RAQPW26Sc8UkBAzOag+TnFQEB88cQulDFBQFUz83BJLkFASxfMD68CQUCAta138uhAQL6MdC4CwUBAYt83KC8BQUCQHVXgpQZBQMHqIbwfqUFA402fic0HQkDFJi6T8hVCQMtCDAkr5kFAGURaQj0MQkCkhzrCSfFBQH0SYqif0UJAdlCn2tlGQkAhFieOmcNCQKAHr/cGwUJAoX2XVOhfQ0C/bOn0NOJCQGSq9IjiMENAgUGQRTkBQ0D3BoMyLv1CQBcA5ohslkNAEVTyzEA+Q0Ac9K4c3G1DQPhJ9XETl0NAXamBlFchREAIn7aMZTBEQK7Qfu+l+0NALDUvrGhtREDTuoawhgpEQENNYe0FPURAzOyIF+wdRED5gvlng8BDQLC9rD4gN0RAyDA+IVeVREBknH5ncANFQB0Y51phvERAqW1a8CYbRECrDWMdfLZEQGCGEDp+zERArBgcY8YCRUDB6hLj6vFEQAnPB1++X0VAx0BA2d6gRUAD58NtlERFQLIwhd9boERARsptCONDRUDq+7Du5HZFQIXrBHwy8kVAtLO/el1uRkBa+/vY2IRGQCgX5tgH7kVAZmoBNJUGRkB03cxKx1lGQGmrFKgnR0ZAwqGr2XLsRUDMgfkDfWdGQIobUwWcikZA81gnWxMgRkAWyLoypA1GQFHOiQ3ar0ZAj7vSBwr4RUBdPG9JF4lGQPpKkaNAvkZASBdlMThTR0BT7eWP4zdHQKVH0lmEB0dAxhcoVjrMRkB2DHZTX89GQGZjbhvsBEdAVfs0bK3FR0Dx/KPWKLdHQDtsQJtUf0dAM4eZbrpKR0A4Td4bRl9HQBQ107+UJEdA1xMi2tHqRkA7XrSISuxGQPa7s6KjdkdAiTZH7IPDR0C/eyRDa6VHQBa9HtJ+ZEdAL4lUp6IGSEDp1KImkthHQKgx1Xd8QEhAhIWtgwdISEA4nOnYqTpIQFAbL2IBiEhAv3nW73ANSUDW7vjmEyxJQICLuhAocklAF4bzGelSSUAYw2RyfnFJQGDvR4xtZ0lA1g3itX6FSUCzu6ZGPqBJQNa3Rl0+rklA1cU1hvHoSUCddH7YHZtJQH+Yhas6CkpA3pRdkydASkCoutn8ICJKQPdEQ0H5pkpAiXAn0qiESkDi55vc/FBLQDLJrxpXC0tAuRmVOx/hS0CTCQ2ylKBLQF7bYSMhb0tACxpXE+64S0ABy3Sqv9BLQO9KSqDIL0xAm3ErQaheTEC5r8Cz9YlMQOhm2YADm0xAVQedIOH5TECK1yaFqhNNQEHC6oI3X01AgEub29hPTUBAfMg8TkBNQNdYYNS5Z01AUc2uRjSTTUDf2Kktd25NQKUy4geeKE5Ai48IZW1PTkB96cqG2qdOQN1iOsiH0U5ASIi1AEGiTkBy1wYMGGZOQPG+1oU+aU5AGpWYy74lTkD4WLcB5pJOQHiG0uOYDk5A48rCrNiYTkB3OgLDQcxOQJgrSE9Kok5ARNZ572Q3TkD8PXXxU2ROQJclB6aGLk5ASbUMe1w4TkAnKzUYDyZOQFHSoysuJk5AE9SUbgTwTUDmOQJgVDdOQFQaE0pxIE5Aa3U/ApmdTUDe7P13a75NQFXxD62cJE1Aq1YngRNRTUAOI5KHFZlNQAurdjvBEU5AHeQAFtGoTUADJrZCql9NQKf8eyMI3E1AdiQ5y5a0TUCE3KKYFnRNQGTLwEVPLU1ASf8g528qTUBP0lKakoFNQBa/MaM3qk1A82v6BogyTUCm4s6NHRZNQIUjFATX7kxAQVZJAXTjTEA4ymaO1PJMQLKJ0xk5YU1Ai/SovnwgTUB2u17+B1NNQEZ4OuEVz0xAOaVJjTCeTEB0/qUBTw1NQOQ5UehxYk1AzQ8N55yRTUBAtBGAhy5OQCNe7CGhi05ATebGO6UJTkByBPtddKROQPBYPFzPW05AESTXCBfMTUA2HrsrEIFNQLc7bB/RvE1Aq99dyDaLTUAOiorFWUdNQJ70UsTM401AO5ISg6zKTUDOWY37V9dNQNbEBLetDk5AzHAmVQmPTUDOex+yTPdNQO68tOTVx01ACb2h30nfTUACDdmvJ5BNQGax+s9F801AO00/eLe9TUDtQMjoYZhNQKPjizrfe01Aq+dquHK7TUCFwU75gtZNQE6wUKv8ek1ANhfhba92TUDBoJnHDXlNQHB32RTX+U1Atel4eZHoTUBII2SFmTRNQKDhaijZEE1AT09atndlTUARTzpugnBNQE8Z1fDTJE1Az7N98KkCTUDzkg1Zf+xMQCvna30BUE1AmZ3lcd4xTUAHWx6bJmNNQFtP8gVtnk1ANddeoTUTTkDwwVTumHpOQCJHzjItm05AzD0do+BxTkBjETdMnm5OQALnXQIlGE5AkKHUVsqUTkA1XXf/XZJOQH+XX9Vkt05AjKenApCqTkCAEgJLprJOQAMh1t7hO09AFwTnbDSQT0BRA4OCVgxQQFIGQex04k9ANEu94ef2T0AAAuJn3m1PQFCZ8It6/k9AOGuxgqD/T0BX1X6x47VPQKAGdW2VGlBAe2IivysBUECynAThhCNQQLTliKwAA1BA+/zmgTcXUEAORamCdV9QQNni5jdrXlBAgKbt9cuEUEAGBS8RJnBQQN9KsIe6kVBAGZjs5jWVUEAaO0u1zstQQOHQYLVLFlFA649pxsvjUEBcUXNjaqRQQA8SXu4G/lBA2+vQ7w7vUED0KCrQO8NQQHdEUCw571BALXgKGlXOUEDqQ1RYb6hQQJW2OwZV11BA3Js3Qt//UECbe4y9S8xQQOYUdjEEA1FA3kcOYYnuUEBeo7dwabNQQANHLRpfwlBAt+EWqvjrUEDgU9Sx3hNRQGgxDL0NVVFAnfqkZhsfUUA6KjcEFHZRQMYw8Ic6q1FAIV//V8+/UUAGnGdoy59RQHNeHZK271FA6A6wby6YUUDFuXFc7qJRQFOIskyudFFAeeF1KvKeUUDOn1PsiZVRQINQMWHTZlFAc0LElTusUUCKTRaZ6mpRQAir2zluY1FAoEPdkh1fUUB+yJvnqHxRQLXxPYXLc1FANXcld6t5UUCykczrFDRRQO7LWEPYWlFA4jYJ9+c/UUBv9KAVielQQIcaa9ssJlFAi0uFXUlBUUCXbwFcTS9RQPJVeWiyiVFAtNSA+sdXUUDqBqfPRW1RQLx5PY1pnlFAkfqr+MGEUUDC7e4uQ3lRQL5JD7gPEFFAR7bhXwveUECbGOiNEeJQQPfrBkKF6VBAINgE/QDkUEA+GEl779VQQDWtJXxo0lBABQ0RnLm/UEBJPoFKLfxQQJkDinXayVBAOLNg/pGFUEAitzYjwoRQQEEt0UZiylBA+qWXUebCUEDwgjXyqMRQQNNV+gBau1BASu+4uRIAUUBzJFqmqSFRQC1HPChIT1FAjVdKN0mMUUC5UzetwWpRQBKCondUUVFArY5ATmM1UUCPxzYvLw1RQNnW9PhqflFA8unNzLlTUUAbLgqC9HtRQPIP9NarilFAUcfGF1OcUUCarD8rlcpRQFPE1PIUyFFA7ODvA63qUUBm5VNTk/FRQCXCGaJW+VFAjdgxURPiUUAoFWDWoK9RQJvUzXSZylFACiIMZvX2UUB0PjKrn+RRQMZSWxnbE1JAKYUqhzcJUkBZTqGsviRSQH0grrHZDFJAr+NBdbqwUUAXuW8rHPRRQMXo9ccmG1JAJ5ogtlfsUUD8u6Sezv5RQMnJchVE/VFAEzx518/7UUC7G3QJQS9SQH/u5KeEFlJA//XV+KsWUkA4TrcBGk9SQMnnTEeoLFJAYZZFfBf4UUCzxFnWNzNSQBFQy4ljRFJAN3gIfoxqUkBebC26nSZSQJUEP7quJ1JAZJmJgMgSUkDRiztZh1tSQIne5NGWF1JApocaUGQYUkDaY+mto0FSQAgJRm8XK1JABaUr8MJDUkC73zvvtoNSQNCoHfL+VVJA50pnwXMuUkDxdj2GHANSQBN/oXlSEFJAIfOZaNZRUkBWC55s+DxSQBr9WmJe9VFAGiLpVHMjUkBQaNxnly9SQHS7E3/70lFASiyiogb6UUD85VjfssxRQLq3Fl6r2FFAuqZekZ7bUUDAOlhVg0FSQKRzs+XMUFJAdd8ztgxeUkB0C+YjGD5SQB2Nvxn8UlJAYb6C9rVlUkD0HZfzyi9SQB1d32DrlFJA93XhV0KKUkCV3yoJB2dSQKOhVEVMb1JA9vPBGAdpUkBLAPgfp1NSQNEPvdjoO1JAkDAMs8pBUkCyah++UFtSQAfKTOOdMFJAUa1Cpaw6UkA2Paqh8TdSQMQV9BlkJVJAB2VdWl5fUkCEdMorFB9SQBfHw8HG9VFAbZ58J0gyUkAGOZ5t/BtSQEOgrZQiR1JAWHsat1ZqUkCsKiyuTT5SQArzgmCmZlJACsv02tOnUkC2e5oSGPFSQGYl2A2bIlNART8yD9pXU0DuVolHJDpTQDdrrJ5OSFNAp3IIcx1XU0Blc367gJNTQAkErMxgulNAxeB2drqpU0DJJ9jx4c9TQHbNI9OT4FNAwjYlp6bCU0BNOPI22XFTQJRRl0vgslNA5M3LB5/LU0BGjfIRI6ZTQIeOePNKqVNAzeHpKjfhU0BtUSZAZMNTQL5gDeeg5VNAkyTP6N77U0BUhAG+DTVUQEgdLLYKdlRAG0fsiadpVEBPfEAanolUQNCco+eLeVRACmaFi3SCVECimKejsLZUQGy7TTebnlRATj/OSbzTVECkUNunxf9UQG0RchFZJFVACUmONvRuVUBhgMLllklVQPkTNw6TjlVAtYl6Y46CVUBe+TWOlZVVQPvXp/hKmlVAVMsKX9V4VUC2JIwdulpVQL/dwSV4dFVA1FSn2v9uVUAc/R37+05VQMErPpr/dlVAtZVpXlc8VUAZS3kf9HxVQMCz2GEwXFVAfj5hLvBhVUCmXoCNBkRVQHAp6BT4VFVAmatUUFh4VUBz1DoIlqJVQGn7nbu56VVArKpY7YrZVUBdGyOKjwxWQAmvMoUJP1ZA9ww12x9SVkB0fxjzQUNWQJ7HjsstQlZAFxwX3IqcVkD0zFhoVKNWQIP4E4bLlFZAvGA1q559VkD4A/MO26pWQBAMUoG9t1ZAYkt+ACrgVkCVjMyjKQpXQFIzxoNEyFZAOIqo2cWvVkAXTT8BfvtWQDcoizfK71ZAXpXFZ5saV0C57F/U1h9XQMEn3sy/IldAcz2RqUMXV0A1eAh4by5XQDgsU97ZSFdAE2RcuXWLV0AhKfA3I7ZXQNqJDRbad1dAMwlId7heV0AuurCS1IpXQBZI6CDSrVdAeqE/ZifjV0AoxUhAzLNXQJt2PnNb3FdAHnnX5gn+V0Bao4O8MOlXQPJmGQ75HlhAdtlYQVUYWEA3PuJ19SZYQDob71Kf7VdAuLmJF15BWEDIe4xGLXpYQNJTRFwDNFhA4Tc9Zbg7WEDr+8iNQvpXQMYd1ORAJlhACw8ZwBIiWEBakhLogDhYQHO2Hw41LlhAU/CauuA+WEBK9Hy/XVFYQCtPSD/YNlhAk4LPldYiWEB5+UfOxiJYQPGQ++3oWVhA68CeW9UuWEAcHJdBt0xYQOtmd7V4X1hAafeg1cVjWECaoJVfAMVYQDkLQFTuuFhAtk/SXNv3WEC3ozjLzMRYQF/4ppPv81hA15QQYeouWUBHH9TCTkVZQLrb9EW/OFlAuh2e5bBzWUBCtBWJUo5ZQJUb7OTakllA/eoGWzSmWUCOYuZOoeBZQHXxzPHryVlAq6dDCfHbWUAK8gjZ3clZQDAvJUo0lllAXhRZ2txzWUD6mqaDrX9ZQAEsWsOnjFlAq+gzYcuAWUCVYThXnklZQDPmlDSYN1lAFA1UsatcWUDYpLL2ZaZZQJN3Tqoer1lAHJrBFEORWUAWty1Y8bZZQHKrbFc/dFlAatKk8GRVWUCO1ti9kzdZQB3KyBusF1lA7jrOfDAKWUCpegfejmZZQDvBVQz9WFlAfW7dSZQ7WUCV8NDrrk5ZQN/BtFCphFlAB83GEJydWUDG7RNXDLhZQALXnQoJ7llADLnhtdgBWkCW9HgpdSdaQJ7rxxQ1DVpAFrN+b5lfWkCegpryGkxaQIUhL4UZXVpA+mDGt8hgWkB59mC3L09aQLr+9kqFWVpAYGD6Eqt9WkAIER1GB5daQBWYuPf3vlpAShY9oWz0WkCamNqSSNlaQHDD2P8NI1tA4Pq2sv0oW0C0xOudxihbQI5oLARNn1tAQzIqrOSnW0Bao7v3RX5bQEW6BTMPjVtAUCqRdn+hW0CtBwkb/EtbQLY39qC5WFtAK4FDebmUW0BgnKhx8KpbQNzfPh7my1tAJl8IHnbAW0AHj6nGgAJcQM63iBZH7ltAZIXEW5/uW0BxwqIZdjdcQLdYwjwe+FtA9SqJrj/hW0CCVtnu3glcQEsnl84r5VtAKVFuA3r7W0C7bHkht95bQB4f3FdovVtAk3IT9zrlW0BjUE09nw5cQCulg+il8FtAtItrOEzRW0Bdz1v7vPlbQD08IKbFDVxAZk9ncYjqW0C55xT2FAJcQEND23mjDVxALx2cpR8RXEDK4S21111cQF25b4wHOVxAJH3WjA8WXECbkZDa71hcQLh2yo33S1xAJZT6r6iIXEAaYzEwat1cQIn64FmjllxACetvC5veXECAoszls9VcQELZBCTqxVxAaWTBAXyPXED66bKDip5cQOgttTkHdFxAdTdWU+tOXEDI0krc8TJcQJlh/xfUS1xA8SpQAdlxXEAWPDbGrsRcQCTwRoOR/lxAkzksFtn5XEDXZ9gXfSRdQDs4wIK2LF1ASDUf6RZmXUCMzULZjkNdQC7fUlBRT11AJ9OzuJMwXUCtFMPmAfpcQFBR1YSg71xAYPDcPhbvXEDZjTih1uBcQFzxdKlOx1xAcLTDTnLTXEBtcg9v9vFcQAD9KX1L5FxAc1YKsMvkXEAt6amr1MJcQKJgGJ3M61xAQZKkmCzrXEDoAGOIpahcQGWN2/Ksf1xAmm6cedF4XEApwsb9KERcQNnNxyrCNFxAIacbOXBLXEDmLYippEdcQKpvpOi8QlxAuDD4Um6HXED2jRg/7lFcQKYNqlH4lVxA4/5jg/ijXEAHQMifeM5cQLFTQV/HslxA2++FlYV4XEAaVwqXHJ5cQAq3bFbXl1xAjprktcOHXEBi2Ka9LEBcQH1v+V5CMFxAIZ1UPBvtW0B2EYNX1g1cQEvjh6zDQVxAZFPE7IFsXECb9nswJJdcQMABCGhzkFxAwHHqghRzXEDebnQc23pcQLI282L7RFxACBkP9LtjXEDjZk8CuUdcQCc7wKQInFxAZaE1J9t6XEC9wM50TaFcQLywU95Ub1xAEOrPy86gXECUlAr6jsZcQDL933NXylxAV0OmTGr+XEC2B+nO4OxcQBOtiT4C8lxAJGZFH81XXUCvn1MPAyddQOFG+l5ZMl1Ax2Lt1fgyXUAVbrqCDUtdQKXFWeh3K11ACuEFMf9OXUA8c6r0iVNdQKxx7DxPUl1AeIUdSPh3XUDRFOVbljhdQDd++tOTF11ATGdyVGRjXUD9TYtwhW1dQO4R27ALqF1ARK57Ujq4XUAoZDir3bhdQPxeqSD6011A5mrqG9TjXUAQIqI7vEJeQGEGLPCU9V1A8LyrNE/vXUCeEFZCGdBdQHUJI7Zky11A3vqYrLAjXkCQBCISnt5dQGZ6BftX8F1Aeq22Og4BXkA6noWo99tdQDpTyfEMIF5AAZCMT0cXXkAHiK4vDDJeQHHFOqa5+l1Aj5ZgjePZXUApMedN5eJdQBWr1Cxdpl1AagiPGQ7vXUB/3dfIyQReQK8QGd9bHl5APbzBhbNuXkBTmFV3wFheQLyH4M8GNF5A7xGnOVweXkCxpXf7aXpeQH33x0y2XF5AWhMhRuyCXkAswbKbqZFeQItrRlZYeV5AilAC3sG+XkA=",
        "encoding": "base64",
        "path": [
         "_data",
         0,
         "low",
         "value"
        ]
       },
       {
        "data": "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",
        "encoding": "base64",
        "path": [
         "_data",
         0,
         "open",
         "value"
        ]
       },
       {
        "data": "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",
        "encoding": "base64",
        "path": [
         "_data",
         1,
         "y",
         "value"
        ]
       }
      ],
      "model_module": "plotlywidget",
      "model_module_version": "4.7.1",
      "model_name": "FigureModel",
      "state": {
       "_config": {
        "plotlyServerURL": "https://plot.ly"
       },
       "_data": [
        {
         "close": {
          "dtype": "float64",
          "shape": [
           1000
          ]
         },
         "high": {
          "dtype": "float64",
          "shape": [
           1000
          ]
         },
         "low": {
          "dtype": "float64",
          "shape": [
           1000
          ]
         },
         "name": "OHLC",
         "open": {
          "dtype": "float64",
          "shape": [
           1000
          ]
         },
         "type": "candlestick",
         "uid": "ad640826-b98e-4c1e-bd57-d8c3fe5da4a7",
         "x": [
          "2018-01-01T00:00:00.000000",
          "2018-01-02T00:00:00.000000",
          "2018-01-03T00:00:00.000000",
          "2018-01-04T00:00:00.000000",
          "2018-01-05T00:00:00.000000",
          "2018-01-06T00:00:00.000000",
          "2018-01-07T00:00:00.000000",
          "2018-01-08T00:00:00.000000",
          "2018-01-09T00:00:00.000000",
          "2018-01-10T00:00:00.000000",
          "2018-01-11T00:00:00.000000",
          "2018-01-12T00:00:00.000000",
          "2018-01-13T00:00:00.000000",
          "2018-01-14T00:00:00.000000",
          "2018-01-15T00:00:00.000000",
          "2018-01-16T00:00:00.000000",
          "2018-01-17T00:00:00.000000",
          "2018-01-18T00:00:00.000000",
          "2018-01-19T00:00:00.000000",
          "2018-01-20T00:00:00.000000",
          "2018-01-21T00:00:00.000000",
          "2018-01-22T00:00:00.000000",
          "2018-01-23T00:00:00.000000",
          "2018-01-24T00:00:00.000000",
          "2018-01-25T00:00:00.000000",
          "2018-01-26T00:00:00.000000",
          "2018-01-27T00:00:00.000000",
          "2018-01-28T00:00:00.000000",
          "2018-01-29T00:00:00.000000",
          "2018-01-30T00:00:00.000000",
          "2018-01-31T00:00:00.000000",
          "2018-02-01T00:00:00.000000",
          "2018-02-02T00:00:00.000000",
          "2018-02-03T00:00:00.000000",
          "2018-02-04T00:00:00.000000",
          "2018-02-05T00:00:00.000000",
          "2018-02-06T00:00:00.000000",
          "2018-02-07T00:00:00.000000",
          "2018-02-08T00:00:00.000000",
          "2018-02-09T00:00:00.000000",
          "2018-02-10T00:00:00.000000",
          "2018-02-11T00:00:00.000000",
          "2018-02-12T00:00:00.000000",
          "2018-02-13T00:00:00.000000",
          "2018-02-14T00:00:00.000000",
          "2018-02-15T00:00:00.000000",
          "2018-02-16T00:00:00.000000",
          "2018-02-17T00:00:00.000000",
          "2018-02-18T00:00:00.000000",
          "2018-02-19T00:00:00.000000",
          "2018-02-20T00:00:00.000000",
          "2018-02-21T00:00:00.000000",
          "2018-02-22T00:00:00.000000",
          "2018-02-23T00:00:00.000000",
          "2018-02-24T00:00:00.000000",
          "2018-02-25T00:00:00.000000",
          "2018-02-26T00:00:00.000000",
          "2018-02-27T00:00:00.000000",
          "2018-02-28T00:00:00.000000",
          "2018-03-01T00:00:00.000000",
          "2018-03-02T00:00:00.000000",
          "2018-03-03T00:00:00.000000",
          "2018-03-04T00:00:00.000000",
          "2018-03-05T00:00:00.000000",
          "2018-03-06T00:00:00.000000",
          "2018-03-07T00:00:00.000000",
          "2018-03-08T00:00:00.000000",
          "2018-03-09T00:00:00.000000",
          "2018-03-10T00:00:00.000000",
          "2018-03-11T00:00:00.000000",
          "2018-03-12T00:00:00.000000",
          "2018-03-13T00:00:00.000000",
          "2018-03-14T00:00:00.000000",
          "2018-03-15T00:00:00.000000",
          "2018-03-16T00:00:00.000000",
          "2018-03-17T00:00:00.000000",
          "2018-03-18T00:00:00.000000",
          "2018-03-19T00:00:00.000000",
          "2018-03-20T00:00:00.000000",
          "2018-03-21T00:00:00.000000",
          "2018-03-22T00:00:00.000000",
          "2018-03-23T00:00:00.000000",
          "2018-03-24T00:00:00.000000",
          "2018-03-25T00:00:00.000000",
          "2018-03-26T00:00:00.000000",
          "2018-03-27T00:00:00.000000",
          "2018-03-28T00:00:00.000000",
          "2018-03-29T00:00:00.000000",
          "2018-03-30T00:00:00.000000",
          "2018-03-31T00:00:00.000000",
          "2018-04-01T00:00:00.000000",
          "2018-04-02T00:00:00.000000",
          "2018-04-03T00:00:00.000000",
          "2018-04-04T00:00:00.000000",
          "2018-04-05T00:00:00.000000",
          "2018-04-06T00:00:00.000000",
          "2018-04-07T00:00:00.000000",
          "2018-04-08T00:00:00.000000",
          "2018-04-09T00:00:00.000000",
          "2018-04-10T00:00:00.000000",
          "2018-04-11T00:00:00.000000",
          "2018-04-12T00:00:00.000000",
          "2018-04-13T00:00:00.000000",
          "2018-04-14T00:00:00.000000",
          "2018-04-15T00:00:00.000000",
          "2018-04-16T00:00:00.000000",
          "2018-04-17T00:00:00.000000",
          "2018-04-18T00:00:00.000000",
          "2018-04-19T00:00:00.000000",
          "2018-04-20T00:00:00.000000",
          "2018-04-21T00:00:00.000000",
          "2018-04-22T00:00:00.000000",
          "2018-04-23T00:00:00.000000",
          "2018-04-24T00:00:00.000000",
          "2018-04-25T00:00:00.000000",
          "2018-04-26T00:00:00.000000",
          "2018-04-27T00:00:00.000000",
          "2018-04-28T00:00:00.000000",
          "2018-04-29T00:00:00.000000",
          "2018-04-30T00:00:00.000000",
          "2018-05-01T00:00:00.000000",
          "2018-05-02T00:00:00.000000",
          "2018-05-03T00:00:00.000000",
          "2018-05-04T00:00:00.000000",
          "2018-05-05T00:00:00.000000",
          "2018-05-06T00:00:00.000000",
          "2018-05-07T00:00:00.000000",
          "2018-05-08T00:00:00.000000",
          "2018-05-09T00:00:00.000000",
          "2018-05-10T00:00:00.000000",
          "2018-05-11T00:00:00.000000",
          "2018-05-12T00:00:00.000000",
          "2018-05-13T00:00:00.000000",
          "2018-05-14T00:00:00.000000",
          "2018-05-15T00:00:00.000000",
          "2018-05-16T00:00:00.000000",
          "2018-05-17T00:00:00.000000",
          "2018-05-18T00:00:00.000000",
          "2018-05-19T00:00:00.000000",
          "2018-05-20T00:00:00.000000",
          "2018-05-21T00:00:00.000000",
          "2018-05-22T00:00:00.000000",
          "2018-05-23T00:00:00.000000",
          "2018-05-24T00:00:00.000000",
          "2018-05-25T00:00:00.000000",
          "2018-05-26T00:00:00.000000",
          "2018-05-27T00:00:00.000000",
          "2018-05-28T00:00:00.000000",
          "2018-05-29T00:00:00.000000",
          "2018-05-30T00:00:00.000000",
          "2018-05-31T00:00:00.000000",
          "2018-06-01T00:00:00.000000",
          "2018-06-02T00:00:00.000000",
          "2018-06-03T00:00:00.000000",
          "2018-06-04T00:00:00.000000",
          "2018-06-05T00:00:00.000000",
          "2018-06-06T00:00:00.000000",
          "2018-06-07T00:00:00.000000",
          "2018-06-08T00:00:00.000000",
          "2018-06-09T00:00:00.000000",
          "2018-06-10T00:00:00.000000",
          "2018-06-11T00:00:00.000000",
          "2018-06-12T00:00:00.000000",
          "2018-06-13T00:00:00.000000",
          "2018-06-14T00:00:00.000000",
          "2018-06-15T00:00:00.000000",
          "2018-06-16T00:00:00.000000",
          "2018-06-17T00:00:00.000000",
          "2018-06-18T00:00:00.000000",
          "2018-06-19T00:00:00.000000",
          "2018-06-20T00:00:00.000000",
          "2018-06-21T00:00:00.000000",
          "2018-06-22T00:00:00.000000",
          "2018-06-23T00:00:00.000000",
          "2018-06-24T00:00:00.000000",
          "2018-06-25T00:00:00.000000",
          "2018-06-26T00:00:00.000000",
          "2018-06-27T00:00:00.000000",
          "2018-06-28T00:00:00.000000",
          "2018-06-29T00:00:00.000000",
          "2018-06-30T00:00:00.000000",
          "2018-07-01T00:00:00.000000",
          "2018-07-02T00:00:00.000000",
          "2018-07-03T00:00:00.000000",
          "2018-07-04T00:00:00.000000",
          "2018-07-05T00:00:00.000000",
          "2018-07-06T00:00:00.000000",
          "2018-07-07T00:00:00.000000",
          "2018-07-08T00:00:00.000000",
          "2018-07-09T00:00:00.000000",
          "2018-07-10T00:00:00.000000",
          "2018-07-11T00:00:00.000000",
          "2018-07-12T00:00:00.000000",
          "2018-07-13T00:00:00.000000",
          "2018-07-14T00:00:00.000000",
          "2018-07-15T00:00:00.000000",
          "2018-07-16T00:00:00.000000",
          "2018-07-17T00:00:00.000000",
          "2018-07-18T00:00:00.000000",
          "2018-07-19T00:00:00.000000",
          "2018-07-20T00:00:00.000000",
          "2018-07-21T00:00:00.000000",
          "2018-07-22T00:00:00.000000",
          "2018-07-23T00:00:00.000000",
          "2018-07-24T00:00:00.000000",
          "2018-07-25T00:00:00.000000",
          "2018-07-26T00:00:00.000000",
          "2018-07-27T00:00:00.000000",
          "2018-07-28T00:00:00.000000",
          "2018-07-29T00:00:00.000000",
          "2018-07-30T00:00:00.000000",
          "2018-07-31T00:00:00.000000",
          "2018-08-01T00:00:00.000000",
          "2018-08-02T00:00:00.000000",
          "2018-08-03T00:00:00.000000",
          "2018-08-04T00:00:00.000000",
          "2018-08-05T00:00:00.000000",
          "2018-08-06T00:00:00.000000",
          "2018-08-07T00:00:00.000000",
          "2018-08-08T00:00:00.000000",
          "2018-08-09T00:00:00.000000",
          "2018-08-10T00:00:00.000000",
          "2018-08-11T00:00:00.000000",
          "2018-08-12T00:00:00.000000",
          "2018-08-13T00:00:00.000000",
          "2018-08-14T00:00:00.000000",
          "2018-08-15T00:00:00.000000",
          "2018-08-16T00:00:00.000000",
          "2018-08-17T00:00:00.000000",
          "2018-08-18T00:00:00.000000",
          "2018-08-19T00:00:00.000000",
          "2018-08-20T00:00:00.000000",
          "2018-08-21T00:00:00.000000",
          "2018-08-22T00:00:00.000000",
          "2018-08-23T00:00:00.000000",
          "2018-08-24T00:00:00.000000",
          "2018-08-25T00:00:00.000000",
          "2018-08-26T00:00:00.000000",
          "2018-08-27T00:00:00.000000",
          "2018-08-28T00:00:00.000000",
          "2018-08-29T00:00:00.000000",
          "2018-08-30T00:00:00.000000",
          "2018-08-31T00:00:00.000000",
          "2018-09-01T00:00:00.000000",
          "2018-09-02T00:00:00.000000",
          "2018-09-03T00:00:00.000000",
          "2018-09-04T00:00:00.000000",
          "2018-09-05T00:00:00.000000",
          "2018-09-06T00:00:00.000000",
          "2018-09-07T00:00:00.000000",
          "2018-09-08T00:00:00.000000",
          "2018-09-09T00:00:00.000000",
          "2018-09-10T00:00:00.000000",
          "2018-09-11T00:00:00.000000",
          "2018-09-12T00:00:00.000000",
          "2018-09-13T00:00:00.000000",
          "2018-09-14T00:00:00.000000",
          "2018-09-15T00:00:00.000000",
          "2018-09-16T00:00:00.000000",
          "2018-09-17T00:00:00.000000",
          "2018-09-18T00:00:00.000000",
          "2018-09-19T00:00:00.000000",
          "2018-09-20T00:00:00.000000",
          "2018-09-21T00:00:00.000000",
          "2018-09-22T00:00:00.000000",
          "2018-09-23T00:00:00.000000",
          "2018-09-24T00:00:00.000000",
          "2018-09-25T00:00:00.000000",
          "2018-09-26T00:00:00.000000",
          "2018-09-27T00:00:00.000000",
          "2018-09-28T00:00:00.000000",
          "2018-09-29T00:00:00.000000",
          "2018-09-30T00:00:00.000000",
          "2018-10-01T00:00:00.000000",
          "2018-10-02T00:00:00.000000",
          "2018-10-03T00:00:00.000000",
          "2018-10-04T00:00:00.000000",
          "2018-10-05T00:00:00.000000",
          "2018-10-06T00:00:00.000000",
          "2018-10-07T00:00:00.000000",
          "2018-10-08T00:00:00.000000",
          "2018-10-09T00:00:00.000000",
          "2018-10-10T00:00:00.000000",
          "2018-10-11T00:00:00.000000",
          "2018-10-12T00:00:00.000000",
          "2018-10-13T00:00:00.000000",
          "2018-10-14T00:00:00.000000",
          "2018-10-15T00:00:00.000000",
          "2018-10-16T00:00:00.000000",
          "2018-10-17T00:00:00.000000",
          "2018-10-18T00:00:00.000000",
          "2018-10-19T00:00:00.000000",
          "2018-10-20T00:00:00.000000",
          "2018-10-21T00:00:00.000000",
          "2018-10-22T00:00:00.000000",
          "2018-10-23T00:00:00.000000",
          "2018-10-24T00:00:00.000000",
          "2018-10-25T00:00:00.000000",
          "2018-10-26T00:00:00.000000",
          "2018-10-27T00:00:00.000000",
          "2018-10-28T00:00:00.000000",
          "2018-10-29T00:00:00.000000",
          "2018-10-30T00:00:00.000000",
          "2018-10-31T00:00:00.000000",
          "2018-11-01T00:00:00.000000",
          "2018-11-02T00:00:00.000000",
          "2018-11-03T00:00:00.000000",
          "2018-11-04T00:00:00.000000",
          "2018-11-05T00:00:00.000000",
          "2018-11-06T00:00:00.000000",
          "2018-11-07T00:00:00.000000",
          "2018-11-08T00:00:00.000000",
          "2018-11-09T00:00:00.000000",
          "2018-11-10T00:00:00.000000",
          "2018-11-11T00:00:00.000000",
          "2018-11-12T00:00:00.000000",
          "2018-11-13T00:00:00.000000",
          "2018-11-14T00:00:00.000000",
          "2018-11-15T00:00:00.000000",
          "2018-11-16T00:00:00.000000",
          "2018-11-17T00:00:00.000000",
          "2018-11-18T00:00:00.000000",
          "2018-11-19T00:00:00.000000",
          "2018-11-20T00:00:00.000000",
          "2018-11-21T00:00:00.000000",
          "2018-11-22T00:00:00.000000",
          "2018-11-23T00:00:00.000000",
          "2018-11-24T00:00:00.000000",
          "2018-11-25T00:00:00.000000",
          "2018-11-26T00:00:00.000000",
          "2018-11-27T00:00:00.000000",
          "2018-11-28T00:00:00.000000",
          "2018-11-29T00:00:00.000000",
          "2018-11-30T00:00:00.000000",
          "2018-12-01T00:00:00.000000",
          "2018-12-02T00:00:00.000000",
          "2018-12-03T00:00:00.000000",
          "2018-12-04T00:00:00.000000",
          "2018-12-05T00:00:00.000000",
          "2018-12-06T00:00:00.000000",
          "2018-12-07T00:00:00.000000",
          "2018-12-08T00:00:00.000000",
          "2018-12-09T00:00:00.000000",
          "2018-12-10T00:00:00.000000",
          "2018-12-11T00:00:00.000000",
          "2018-12-12T00:00:00.000000",
          "2018-12-13T00:00:00.000000",
          "2018-12-14T00:00:00.000000",
          "2018-12-15T00:00:00.000000",
          "2018-12-16T00:00:00.000000",
          "2018-12-17T00:00:00.000000",
          "2018-12-18T00:00:00.000000",
          "2018-12-19T00:00:00.000000",
          "2018-12-20T00:00:00.000000",
          "2018-12-21T00:00:00.000000",
          "2018-12-22T00:00:00.000000",
          "2018-12-23T00:00:00.000000",
          "2018-12-24T00:00:00.000000",
          "2018-12-25T00:00:00.000000",
          "2018-12-26T00:00:00.000000",
          "2018-12-27T00:00:00.000000",
          "2018-12-28T00:00:00.000000",
          "2018-12-29T00:00:00.000000",
          "2018-12-30T00:00:00.000000",
          "2018-12-31T00:00:00.000000",
          "2019-01-01T00:00:00.000000",
          "2019-01-02T00:00:00.000000",
          "2019-01-03T00:00:00.000000",
          "2019-01-04T00:00:00.000000",
          "2019-01-05T00:00:00.000000",
          "2019-01-06T00:00:00.000000",
          "2019-01-07T00:00:00.000000",
          "2019-01-08T00:00:00.000000",
          "2019-01-09T00:00:00.000000",
          "2019-01-10T00:00:00.000000",
          "2019-01-11T00:00:00.000000",
          "2019-01-12T00:00:00.000000",
          "2019-01-13T00:00:00.000000",
          "2019-01-14T00:00:00.000000",
          "2019-01-15T00:00:00.000000",
          "2019-01-16T00:00:00.000000",
          "2019-01-17T00:00:00.000000",
          "2019-01-18T00:00:00.000000",
          "2019-01-19T00:00:00.000000",
          "2019-01-20T00:00:00.000000",
          "2019-01-21T00:00:00.000000",
          "2019-01-22T00:00:00.000000",
          "2019-01-23T00:00:00.000000",
          "2019-01-24T00:00:00.000000",
          "2019-01-25T00:00:00.000000",
          "2019-01-26T00:00:00.000000",
          "2019-01-27T00:00:00.000000",
          "2019-01-28T00:00:00.000000",
          "2019-01-29T00:00:00.000000",
          "2019-01-30T00:00:00.000000",
          "2019-01-31T00:00:00.000000",
          "2019-02-01T00:00:00.000000",
          "2019-02-02T00:00:00.000000",
          "2019-02-03T00:00:00.000000",
          "2019-02-04T00:00:00.000000",
          "2019-02-05T00:00:00.000000",
          "2019-02-06T00:00:00.000000",
          "2019-02-07T00:00:00.000000",
          "2019-02-08T00:00:00.000000",
          "2019-02-09T00:00:00.000000",
          "2019-02-10T00:00:00.000000",
          "2019-02-11T00:00:00.000000",
          "2019-02-12T00:00:00.000000",
          "2019-02-13T00:00:00.000000",
          "2019-02-14T00:00:00.000000",
          "2019-02-15T00:00:00.000000",
          "2019-02-16T00:00:00.000000",
          "2019-02-17T00:00:00.000000",
          "2019-02-18T00:00:00.000000",
          "2019-02-19T00:00:00.000000",
          "2019-02-20T00:00:00.000000",
          "2019-02-21T00:00:00.000000",
          "2019-02-22T00:00:00.000000",
          "2019-02-23T00:00:00.000000",
          "2019-02-24T00:00:00.000000",
          "2019-02-25T00:00:00.000000",
          "2019-02-26T00:00:00.000000",
          "2019-02-27T00:00:00.000000",
          "2019-02-28T00:00:00.000000",
          "2019-03-01T00:00:00.000000",
          "2019-03-02T00:00:00.000000",
          "2019-03-03T00:00:00.000000",
          "2019-03-04T00:00:00.000000",
          "2019-03-05T00:00:00.000000",
          "2019-03-06T00:00:00.000000",
          "2019-03-07T00:00:00.000000",
          "2019-03-08T00:00:00.000000",
          "2019-03-09T00:00:00.000000",
          "2019-03-10T00:00:00.000000",
          "2019-03-11T00:00:00.000000",
          "2019-03-12T00:00:00.000000",
          "2019-03-13T00:00:00.000000",
          "2019-03-14T00:00:00.000000",
          "2019-03-15T00:00:00.000000",
          "2019-03-16T00:00:00.000000",
          "2019-03-17T00:00:00.000000",
          "2019-03-18T00:00:00.000000",
          "2019-03-19T00:00:00.000000",
          "2019-03-20T00:00:00.000000",
          "2019-03-21T00:00:00.000000",
          "2019-03-22T00:00:00.000000",
          "2019-03-23T00:00:00.000000",
          "2019-03-24T00:00:00.000000",
          "2019-03-25T00:00:00.000000",
          "2019-03-26T00:00:00.000000",
          "2019-03-27T00:00:00.000000",
          "2019-03-28T00:00:00.000000",
          "2019-03-29T00:00:00.000000",
          "2019-03-30T00:00:00.000000",
          "2019-03-31T00:00:00.000000",
          "2019-04-01T00:00:00.000000",
          "2019-04-02T00:00:00.000000",
          "2019-04-03T00:00:00.000000",
          "2019-04-04T00:00:00.000000",
          "2019-04-05T00:00:00.000000",
          "2019-04-06T00:00:00.000000",
          "2019-04-07T00:00:00.000000",
          "2019-04-08T00:00:00.000000",
          "2019-04-09T00:00:00.000000",
          "2019-04-10T00:00:00.000000",
          "2019-04-11T00:00:00.000000",
          "2019-04-12T00:00:00.000000",
          "2019-04-13T00:00:00.000000",
          "2019-04-14T00:00:00.000000",
          "2019-04-15T00:00:00.000000",
          "2019-04-16T00:00:00.000000",
          "2019-04-17T00:00:00.000000",
          "2019-04-18T00:00:00.000000",
          "2019-04-19T00:00:00.000000",
          "2019-04-20T00:00:00.000000",
          "2019-04-21T00:00:00.000000",
          "2019-04-22T00:00:00.000000",
          "2019-04-23T00:00:00.000000",
          "2019-04-24T00:00:00.000000",
          "2019-04-25T00:00:00.000000",
          "2019-04-26T00:00:00.000000",
          "2019-04-27T00:00:00.000000",
          "2019-04-28T00:00:00.000000",
          "2019-04-29T00:00:00.000000",
          "2019-04-30T00:00:00.000000",
          "2019-05-01T00:00:00.000000",
          "2019-05-02T00:00:00.000000",
          "2019-05-03T00:00:00.000000",
          "2019-05-04T00:00:00.000000",
          "2019-05-05T00:00:00.000000",
          "2019-05-06T00:00:00.000000",
          "2019-05-07T00:00:00.000000",
          "2019-05-08T00:00:00.000000",
          "2019-05-09T00:00:00.000000",
          "2019-05-10T00:00:00.000000",
          "2019-05-11T00:00:00.000000",
          "2019-05-12T00:00:00.000000",
          "2019-05-13T00:00:00.000000",
          "2019-05-14T00:00:00.000000",
          "2019-05-15T00:00:00.000000",
          "2019-05-16T00:00:00.000000",
          "2019-05-17T00:00:00.000000",
          "2019-05-18T00:00:00.000000",
          "2019-05-19T00:00:00.000000",
          "2019-05-20T00:00:00.000000",
          "2019-05-21T00:00:00.000000",
          "2019-05-22T00:00:00.000000",
          "2019-05-23T00:00:00.000000",
          "2019-05-24T00:00:00.000000",
          "2019-05-25T00:00:00.000000",
          "2019-05-26T00:00:00.000000",
          "2019-05-27T00:00:00.000000",
          "2019-05-28T00:00:00.000000",
          "2019-05-29T00:00:00.000000",
          "2019-05-30T00:00:00.000000",
          "2019-05-31T00:00:00.000000",
          "2019-06-01T00:00:00.000000",
          "2019-06-02T00:00:00.000000",
          "2019-06-03T00:00:00.000000",
          "2019-06-04T00:00:00.000000",
          "2019-06-05T00:00:00.000000",
          "2019-06-06T00:00:00.000000",
          "2019-06-07T00:00:00.000000",
          "2019-06-08T00:00:00.000000",
          "2019-06-09T00:00:00.000000",
          "2019-06-10T00:00:00.000000",
          "2019-06-11T00:00:00.000000",
          "2019-06-12T00:00:00.000000",
          "2019-06-13T00:00:00.000000",
          "2019-06-14T00:00:00.000000",
          "2019-06-15T00:00:00.000000",
          "2019-06-16T00:00:00.000000",
          "2019-06-17T00:00:00.000000",
          "2019-06-18T00:00:00.000000",
          "2019-06-19T00:00:00.000000",
          "2019-06-20T00:00:00.000000",
          "2019-06-21T00:00:00.000000",
          "2019-06-22T00:00:00.000000",
          "2019-06-23T00:00:00.000000",
          "2019-06-24T00:00:00.000000",
          "2019-06-25T00:00:00.000000",
          "2019-06-26T00:00:00.000000",
          "2019-06-27T00:00:00.000000",
          "2019-06-28T00:00:00.000000",
          "2019-06-29T00:00:00.000000",
          "2019-06-30T00:00:00.000000",
          "2019-07-01T00:00:00.000000",
          "2019-07-02T00:00:00.000000",
          "2019-07-03T00:00:00.000000",
          "2019-07-04T00:00:00.000000",
          "2019-07-05T00:00:00.000000",
          "2019-07-06T00:00:00.000000",
          "2019-07-07T00:00:00.000000",
          "2019-07-08T00:00:00.000000",
          "2019-07-09T00:00:00.000000",
          "2019-07-10T00:00:00.000000",
          "2019-07-11T00:00:00.000000",
          "2019-07-12T00:00:00.000000",
          "2019-07-13T00:00:00.000000",
          "2019-07-14T00:00:00.000000",
          "2019-07-15T00:00:00.000000",
          "2019-07-16T00:00:00.000000",
          "2019-07-17T00:00:00.000000",
          "2019-07-18T00:00:00.000000",
          "2019-07-19T00:00:00.000000",
          "2019-07-20T00:00:00.000000",
          "2019-07-21T00:00:00.000000",
          "2019-07-22T00:00:00.000000",
          "2019-07-23T00:00:00.000000",
          "2019-07-24T00:00:00.000000",
          "2019-07-25T00:00:00.000000",
          "2019-07-26T00:00:00.000000",
          "2019-07-27T00:00:00.000000",
          "2019-07-28T00:00:00.000000",
          "2019-07-29T00:00:00.000000",
          "2019-07-30T00:00:00.000000",
          "2019-07-31T00:00:00.000000",
          "2019-08-01T00:00:00.000000",
          "2019-08-02T00:00:00.000000",
          "2019-08-03T00:00:00.000000",
          "2019-08-04T00:00:00.000000",
          "2019-08-05T00:00:00.000000",
          "2019-08-06T00:00:00.000000",
          "2019-08-07T00:00:00.000000",
          "2019-08-08T00:00:00.000000",
          "2019-08-09T00:00:00.000000",
          "2019-08-10T00:00:00.000000",
          "2019-08-11T00:00:00.000000",
          "2019-08-12T00:00:00.000000",
          "2019-08-13T00:00:00.000000",
          "2019-08-14T00:00:00.000000",
          "2019-08-15T00:00:00.000000",
          "2019-08-16T00:00:00.000000",
          "2019-08-17T00:00:00.000000",
          "2019-08-18T00:00:00.000000",
          "2019-08-19T00:00:00.000000",
          "2019-08-20T00:00:00.000000",
          "2019-08-21T00:00:00.000000",
          "2019-08-22T00:00:00.000000",
          "2019-08-23T00:00:00.000000",
          "2019-08-24T00:00:00.000000",
          "2019-08-25T00:00:00.000000",
          "2019-08-26T00:00:00.000000",
          "2019-08-27T00:00:00.000000",
          "2019-08-28T00:00:00.000000",
          "2019-08-29T00:00:00.000000",
          "2019-08-30T00:00:00.000000",
          "2019-08-31T00:00:00.000000",
          "2019-09-01T00:00:00.000000",
          "2019-09-02T00:00:00.000000",
          "2019-09-03T00:00:00.000000",
          "2019-09-04T00:00:00.000000",
          "2019-09-05T00:00:00.000000",
          "2019-09-06T00:00:00.000000",
          "2019-09-07T00:00:00.000000",
          "2019-09-08T00:00:00.000000",
          "2019-09-09T00:00:00.000000",
          "2019-09-10T00:00:00.000000",
          "2019-09-11T00:00:00.000000",
          "2019-09-12T00:00:00.000000",
          "2019-09-13T00:00:00.000000",
          "2019-09-14T00:00:00.000000",
          "2019-09-15T00:00:00.000000",
          "2019-09-16T00:00:00.000000",
          "2019-09-17T00:00:00.000000",
          "2019-09-18T00:00:00.000000",
          "2019-09-19T00:00:00.000000",
          "2019-09-20T00:00:00.000000",
          "2019-09-21T00:00:00.000000",
          "2019-09-22T00:00:00.000000",
          "2019-09-23T00:00:00.000000",
          "2019-09-24T00:00:00.000000",
          "2019-09-25T00:00:00.000000",
          "2019-09-26T00:00:00.000000",
          "2019-09-27T00:00:00.000000",
          "2019-09-28T00:00:00.000000",
          "2019-09-29T00:00:00.000000",
          "2019-09-30T00:00:00.000000",
          "2019-10-01T00:00:00.000000",
          "2019-10-02T00:00:00.000000",
          "2019-10-03T00:00:00.000000",
          "2019-10-04T00:00:00.000000",
          "2019-10-05T00:00:00.000000",
          "2019-10-06T00:00:00.000000",
          "2019-10-07T00:00:00.000000",
          "2019-10-08T00:00:00.000000",
          "2019-10-09T00:00:00.000000",
          "2019-10-10T00:00:00.000000",
          "2019-10-11T00:00:00.000000",
          "2019-10-12T00:00:00.000000",
          "2019-10-13T00:00:00.000000",
          "2019-10-14T00:00:00.000000",
          "2019-10-15T00:00:00.000000",
          "2019-10-16T00:00:00.000000",
          "2019-10-17T00:00:00.000000",
          "2019-10-18T00:00:00.000000",
          "2019-10-19T00:00:00.000000",
          "2019-10-20T00:00:00.000000",
          "2019-10-21T00:00:00.000000",
          "2019-10-22T00:00:00.000000",
          "2019-10-23T00:00:00.000000",
          "2019-10-24T00:00:00.000000",
          "2019-10-25T00:00:00.000000",
          "2019-10-26T00:00:00.000000",
          "2019-10-27T00:00:00.000000",
          "2019-10-28T00:00:00.000000",
          "2019-10-29T00:00:00.000000",
          "2019-10-30T00:00:00.000000",
          "2019-10-31T00:00:00.000000",
          "2019-11-01T00:00:00.000000",
          "2019-11-02T00:00:00.000000",
          "2019-11-03T00:00:00.000000",
          "2019-11-04T00:00:00.000000",
          "2019-11-05T00:00:00.000000",
          "2019-11-06T00:00:00.000000",
          "2019-11-07T00:00:00.000000",
          "2019-11-08T00:00:00.000000",
          "2019-11-09T00:00:00.000000",
          "2019-11-10T00:00:00.000000",
          "2019-11-11T00:00:00.000000",
          "2019-11-12T00:00:00.000000",
          "2019-11-13T00:00:00.000000",
          "2019-11-14T00:00:00.000000",
          "2019-11-15T00:00:00.000000",
          "2019-11-16T00:00:00.000000",
          "2019-11-17T00:00:00.000000",
          "2019-11-18T00:00:00.000000",
          "2019-11-19T00:00:00.000000",
          "2019-11-20T00:00:00.000000",
          "2019-11-21T00:00:00.000000",
          "2019-11-22T00:00:00.000000",
          "2019-11-23T00:00:00.000000",
          "2019-11-24T00:00:00.000000",
          "2019-11-25T00:00:00.000000",
          "2019-11-26T00:00:00.000000",
          "2019-11-27T00:00:00.000000",
          "2019-11-28T00:00:00.000000",
          "2019-11-29T00:00:00.000000",
          "2019-11-30T00:00:00.000000",
          "2019-12-01T00:00:00.000000",
          "2019-12-02T00:00:00.000000",
          "2019-12-03T00:00:00.000000",
          "2019-12-04T00:00:00.000000",
          "2019-12-05T00:00:00.000000",
          "2019-12-06T00:00:00.000000",
          "2019-12-07T00:00:00.000000",
          "2019-12-08T00:00:00.000000",
          "2019-12-09T00:00:00.000000",
          "2019-12-10T00:00:00.000000",
          "2019-12-11T00:00:00.000000",
          "2019-12-12T00:00:00.000000",
          "2019-12-13T00:00:00.000000",
          "2019-12-14T00:00:00.000000",
          "2019-12-15T00:00:00.000000",
          "2019-12-16T00:00:00.000000",
          "2019-12-17T00:00:00.000000",
          "2019-12-18T00:00:00.000000",
          "2019-12-19T00:00:00.000000",
          "2019-12-20T00:00:00.000000",
          "2019-12-21T00:00:00.000000",
          "2019-12-22T00:00:00.000000",
          "2019-12-23T00:00:00.000000",
          "2019-12-24T00:00:00.000000",
          "2019-12-25T00:00:00.000000",
          "2019-12-26T00:00:00.000000",
          "2019-12-27T00:00:00.000000",
          "2019-12-28T00:00:00.000000",
          "2019-12-29T00:00:00.000000",
          "2019-12-30T00:00:00.000000",
          "2019-12-31T00:00:00.000000",
          "2020-01-01T00:00:00.000000",
          "2020-01-02T00:00:00.000000",
          "2020-01-03T00:00:00.000000",
          "2020-01-04T00:00:00.000000",
          "2020-01-05T00:00:00.000000",
          "2020-01-06T00:00:00.000000",
          "2020-01-07T00:00:00.000000",
          "2020-01-08T00:00:00.000000",
          "2020-01-09T00:00:00.000000",
          "2020-01-10T00:00:00.000000",
          "2020-01-11T00:00:00.000000",
          "2020-01-12T00:00:00.000000",
          "2020-01-13T00:00:00.000000",
          "2020-01-14T00:00:00.000000",
          "2020-01-15T00:00:00.000000",
          "2020-01-16T00:00:00.000000",
          "2020-01-17T00:00:00.000000",
          "2020-01-18T00:00:00.000000",
          "2020-01-19T00:00:00.000000",
          "2020-01-20T00:00:00.000000",
          "2020-01-21T00:00:00.000000",
          "2020-01-22T00:00:00.000000",
          "2020-01-23T00:00:00.000000",
          "2020-01-24T00:00:00.000000",
          "2020-01-25T00:00:00.000000",
          "2020-01-26T00:00:00.000000",
          "2020-01-27T00:00:00.000000",
          "2020-01-28T00:00:00.000000",
          "2020-01-29T00:00:00.000000",
          "2020-01-30T00:00:00.000000",
          "2020-01-31T00:00:00.000000",
          "2020-02-01T00:00:00.000000",
          "2020-02-02T00:00:00.000000",
          "2020-02-03T00:00:00.000000",
          "2020-02-04T00:00:00.000000",
          "2020-02-05T00:00:00.000000",
          "2020-02-06T00:00:00.000000",
          "2020-02-07T00:00:00.000000",
          "2020-02-08T00:00:00.000000",
          "2020-02-09T00:00:00.000000",
          "2020-02-10T00:00:00.000000",
          "2020-02-11T00:00:00.000000",
          "2020-02-12T00:00:00.000000",
          "2020-02-13T00:00:00.000000",
          "2020-02-14T00:00:00.000000",
          "2020-02-15T00:00:00.000000",
          "2020-02-16T00:00:00.000000",
          "2020-02-17T00:00:00.000000",
          "2020-02-18T00:00:00.000000",
          "2020-02-19T00:00:00.000000",
          "2020-02-20T00:00:00.000000",
          "2020-02-21T00:00:00.000000",
          "2020-02-22T00:00:00.000000",
          "2020-02-23T00:00:00.000000",
          "2020-02-24T00:00:00.000000",
          "2020-02-25T00:00:00.000000",
          "2020-02-26T00:00:00.000000",
          "2020-02-27T00:00:00.000000",
          "2020-02-28T00:00:00.000000",
          "2020-02-29T00:00:00.000000",
          "2020-03-01T00:00:00.000000",
          "2020-03-02T00:00:00.000000",
          "2020-03-03T00:00:00.000000",
          "2020-03-04T00:00:00.000000",
          "2020-03-05T00:00:00.000000",
          "2020-03-06T00:00:00.000000",
          "2020-03-07T00:00:00.000000",
          "2020-03-08T00:00:00.000000",
          "2020-03-09T00:00:00.000000",
          "2020-03-10T00:00:00.000000",
          "2020-03-11T00:00:00.000000",
          "2020-03-12T00:00:00.000000",
          "2020-03-13T00:00:00.000000",
          "2020-03-14T00:00:00.000000",
          "2020-03-15T00:00:00.000000",
          "2020-03-16T00:00:00.000000",
          "2020-03-17T00:00:00.000000",
          "2020-03-18T00:00:00.000000",
          "2020-03-19T00:00:00.000000",
          "2020-03-20T00:00:00.000000",
          "2020-03-21T00:00:00.000000",
          "2020-03-22T00:00:00.000000",
          "2020-03-23T00:00:00.000000",
          "2020-03-24T00:00:00.000000",
          "2020-03-25T00:00:00.000000",
          "2020-03-26T00:00:00.000000",
          "2020-03-27T00:00:00.000000",
          "2020-03-28T00:00:00.000000",
          "2020-03-29T00:00:00.000000",
          "2020-03-30T00:00:00.000000",
          "2020-03-31T00:00:00.000000",
          "2020-04-01T00:00:00.000000",
          "2020-04-02T00:00:00.000000",
          "2020-04-03T00:00:00.000000",
          "2020-04-04T00:00:00.000000",
          "2020-04-05T00:00:00.000000",
          "2020-04-06T00:00:00.000000",
          "2020-04-07T00:00:00.000000",
          "2020-04-08T00:00:00.000000",
          "2020-04-09T00:00:00.000000",
          "2020-04-10T00:00:00.000000",
          "2020-04-11T00:00:00.000000",
          "2020-04-12T00:00:00.000000",
          "2020-04-13T00:00:00.000000",
          "2020-04-14T00:00:00.000000",
          "2020-04-15T00:00:00.000000",
          "2020-04-16T00:00:00.000000",
          "2020-04-17T00:00:00.000000",
          "2020-04-18T00:00:00.000000",
          "2020-04-19T00:00:00.000000",
          "2020-04-20T00:00:00.000000",
          "2020-04-21T00:00:00.000000",
          "2020-04-22T00:00:00.000000",
          "2020-04-23T00:00:00.000000",
          "2020-04-24T00:00:00.000000",
          "2020-04-25T00:00:00.000000",
          "2020-04-26T00:00:00.000000",
          "2020-04-27T00:00:00.000000",
          "2020-04-28T00:00:00.000000",
          "2020-04-29T00:00:00.000000",
          "2020-04-30T00:00:00.000000",
          "2020-05-01T00:00:00.000000",
          "2020-05-02T00:00:00.000000",
          "2020-05-03T00:00:00.000000",
          "2020-05-04T00:00:00.000000",
          "2020-05-05T00:00:00.000000",
          "2020-05-06T00:00:00.000000",
          "2020-05-07T00:00:00.000000",
          "2020-05-08T00:00:00.000000",
          "2020-05-09T00:00:00.000000",
          "2020-05-10T00:00:00.000000",
          "2020-05-11T00:00:00.000000",
          "2020-05-12T00:00:00.000000",
          "2020-05-13T00:00:00.000000",
          "2020-05-14T00:00:00.000000",
          "2020-05-15T00:00:00.000000",
          "2020-05-16T00:00:00.000000",
          "2020-05-17T00:00:00.000000",
          "2020-05-18T00:00:00.000000",
          "2020-05-19T00:00:00.000000",
          "2020-05-20T00:00:00.000000",
          "2020-05-21T00:00:00.000000",
          "2020-05-22T00:00:00.000000",
          "2020-05-23T00:00:00.000000",
          "2020-05-24T00:00:00.000000",
          "2020-05-25T00:00:00.000000",
          "2020-05-26T00:00:00.000000",
          "2020-05-27T00:00:00.000000",
          "2020-05-28T00:00:00.000000",
          "2020-05-29T00:00:00.000000",
          "2020-05-30T00:00:00.000000",
          "2020-05-31T00:00:00.000000",
          "2020-06-01T00:00:00.000000",
          "2020-06-02T00:00:00.000000",
          "2020-06-03T00:00:00.000000",
          "2020-06-04T00:00:00.000000",
          "2020-06-05T00:00:00.000000",
          "2020-06-06T00:00:00.000000",
          "2020-06-07T00:00:00.000000",
          "2020-06-08T00:00:00.000000",
          "2020-06-09T00:00:00.000000",
          "2020-06-10T00:00:00.000000",
          "2020-06-11T00:00:00.000000",
          "2020-06-12T00:00:00.000000",
          "2020-06-13T00:00:00.000000",
          "2020-06-14T00:00:00.000000",
          "2020-06-15T00:00:00.000000",
          "2020-06-16T00:00:00.000000",
          "2020-06-17T00:00:00.000000",
          "2020-06-18T00:00:00.000000",
          "2020-06-19T00:00:00.000000",
          "2020-06-20T00:00:00.000000",
          "2020-06-21T00:00:00.000000",
          "2020-06-22T00:00:00.000000",
          "2020-06-23T00:00:00.000000",
          "2020-06-24T00:00:00.000000",
          "2020-06-25T00:00:00.000000",
          "2020-06-26T00:00:00.000000",
          "2020-06-27T00:00:00.000000",
          "2020-06-28T00:00:00.000000",
          "2020-06-29T00:00:00.000000",
          "2020-06-30T00:00:00.000000",
          "2020-07-01T00:00:00.000000",
          "2020-07-02T00:00:00.000000",
          "2020-07-03T00:00:00.000000",
          "2020-07-04T00:00:00.000000",
          "2020-07-05T00:00:00.000000",
          "2020-07-06T00:00:00.000000",
          "2020-07-07T00:00:00.000000",
          "2020-07-08T00:00:00.000000",
          "2020-07-09T00:00:00.000000",
          "2020-07-10T00:00:00.000000",
          "2020-07-11T00:00:00.000000",
          "2020-07-12T00:00:00.000000",
          "2020-07-13T00:00:00.000000",
          "2020-07-14T00:00:00.000000",
          "2020-07-15T00:00:00.000000",
          "2020-07-16T00:00:00.000000",
          "2020-07-17T00:00:00.000000",
          "2020-07-18T00:00:00.000000",
          "2020-07-19T00:00:00.000000",
          "2020-07-20T00:00:00.000000",
          "2020-07-21T00:00:00.000000",
          "2020-07-22T00:00:00.000000",
          "2020-07-23T00:00:00.000000",
          "2020-07-24T00:00:00.000000",
          "2020-07-25T00:00:00.000000",
          "2020-07-26T00:00:00.000000",
          "2020-07-27T00:00:00.000000",
          "2020-07-28T00:00:00.000000",
          "2020-07-29T00:00:00.000000",
          "2020-07-30T00:00:00.000000",
          "2020-07-31T00:00:00.000000",
          "2020-08-01T00:00:00.000000",
          "2020-08-02T00:00:00.000000",
          "2020-08-03T00:00:00.000000",
          "2020-08-04T00:00:00.000000",
          "2020-08-05T00:00:00.000000",
          "2020-08-06T00:00:00.000000",
          "2020-08-07T00:00:00.000000",
          "2020-08-08T00:00:00.000000",
          "2020-08-09T00:00:00.000000",
          "2020-08-10T00:00:00.000000",
          "2020-08-11T00:00:00.000000",
          "2020-08-12T00:00:00.000000",
          "2020-08-13T00:00:00.000000",
          "2020-08-14T00:00:00.000000",
          "2020-08-15T00:00:00.000000",
          "2020-08-16T00:00:00.000000",
          "2020-08-17T00:00:00.000000",
          "2020-08-18T00:00:00.000000",
          "2020-08-19T00:00:00.000000",
          "2020-08-20T00:00:00.000000",
          "2020-08-21T00:00:00.000000",
          "2020-08-22T00:00:00.000000",
          "2020-08-23T00:00:00.000000",
          "2020-08-24T00:00:00.000000",
          "2020-08-25T00:00:00.000000",
          "2020-08-26T00:00:00.000000",
          "2020-08-27T00:00:00.000000",
          "2020-08-28T00:00:00.000000",
          "2020-08-29T00:00:00.000000",
          "2020-08-30T00:00:00.000000",
          "2020-08-31T00:00:00.000000",
          "2020-09-01T00:00:00.000000",
          "2020-09-02T00:00:00.000000",
          "2020-09-03T00:00:00.000000",
          "2020-09-04T00:00:00.000000",
          "2020-09-05T00:00:00.000000",
          "2020-09-06T00:00:00.000000",
          "2020-09-07T00:00:00.000000",
          "2020-09-08T00:00:00.000000",
          "2020-09-09T00:00:00.000000",
          "2020-09-10T00:00:00.000000",
          "2020-09-11T00:00:00.000000",
          "2020-09-12T00:00:00.000000",
          "2020-09-13T00:00:00.000000",
          "2020-09-14T00:00:00.000000",
          "2020-09-15T00:00:00.000000",
          "2020-09-16T00:00:00.000000",
          "2020-09-17T00:00:00.000000",
          "2020-09-18T00:00:00.000000",
          "2020-09-19T00:00:00.000000",
          "2020-09-20T00:00:00.000000",
          "2020-09-21T00:00:00.000000",
          "2020-09-22T00:00:00.000000",
          "2020-09-23T00:00:00.000000",
          "2020-09-24T00:00:00.000000",
          "2020-09-25T00:00:00.000000",
          "2020-09-26T00:00:00.000000"
         ],
         "xaxis": "x",
         "yaxis": "y2"
        },
        {
         "marker": {
          "color": [
           "red",
           "red",
           "red",
           "green",
           "red",
           "red",
           "red",
           "green",
           "red",
           "green",
           "green",
           "red",
           "green",
           "red",
           "red",
           "red",
           "green",
           "red",
           "red",
           "red",
           "green",
           "green",
           "green",
           "red",
           "green",
           "red",
           "green",
           "green",
           "green",
           "red",
           "green",
           "green",
           "red",
           "green",
           "green",
           "green",
           "green",
           "green",
           "green",
           "red",
           "red",
           "red",
           "green",
           "green",
           "red",
           "red",
           "green",
           "red",
           "red",
           "green",
           "red",
           "red",
           "red",
           "red",
           "green",
           "red",
           "green",
           "red",
           "green",
           "green",
           "red",
           "red",
           "green",
           "green",
           "green",
           "green",
           "red",
           "red",
           "green",
           "green",
           "red",
           "red",
           "red",
           "red",
           "red",
           "red",
           "green",
           "green",
           "green",
           "green",
           "red",
           "green",
           "green",
           "green",
           "green",
           "green",
           "red",
           "green",
           "red",
           "green",
           "red",
           "green",
           "green",
           "green",
           "green",
           "red",
           "red",
           "red",
           "red",
           "red",
           "red",
           "red",
           "red",
           "green",
           "green",
           "green",
           "red",
           "green",
           "red",
           "green",
           "green",
           "green",
           "green",
           "red",
           "red",
           "red",
           "green",
           "red",
           "red",
           "green",
           "red",
           "red",
           "green",
           "red",
           "green",
           "green",
           "green",
           "green",
           "green",
           "red",
           "green",
           "red",
           "green",
           "green",
           "green",
           "green",
           "green",
           "red",
           "green",
           "green",
           "green",
           "green",
           "green",
           "green",
           "red",
           "green",
           "red",
           "red",
           "red",
           "green",
           "green",
           "red",
           "green",
           "green",
           "green",
           "red",
           "red",
           "red",
           "green",
           "green",
           "red",
           "red",
           "green",
           "green",
           "green",
           "red",
           "green",
           "green",
           "red",
           "green",
           "red",
           "green",
           "red",
           "green",
           "red",
           "red",
           "green",
           "green",
           "green",
           "red",
           "red",
           "red",
           "green",
           "red",
           "green",
           "green",
           "red",
           "red",
           "green",
           "green",
           "green",
           "red",
           "red",
           "green",
           "green",
           "green",
           "red",
           "red",
           "red",
           "red",
           "red",
           "green",
           "red",
           "red",
           "red",
           "green",
           "red",
           "green",
           "green",
           "red",
           "green",
           "red",
           "red",
           "red",
           "red",
           "green",
           "green",
           "red",
           "red",
           "green",
           "red",
           "red",
           "red",
           "red",
           "green",
           "green",
           "green",
           "red",
           "red",
           "green",
           "red",
           "green",
           "green",
           "green",
           "red",
           "red",
           "green",
           "red",
           "green",
           "green",
           "red",
           "green",
           "green",
           "green",
           "green",
           "red",
           "green",
           "green",
           "green",
           "green",
           "red",
           "red",
           "red",
           "green",
           "green",
           "red",
           "red",
           "green",
           "green",
           "green",
           "red",
           "green",
           "green",
           "green",
           "red",
           "red",
           "red",
           "green",
           "red",
           "green",
           "red",
           "red",
           "red",
           "red",
           "red",
           "green",
           "red",
           "red",
           "green",
           "green",
           "green",
           "red",
           "green",
           "green",
           "red",
           "green",
           "green",
           "red",
           "red",
           "green",
           "red",
           "green",
           "green",
           "green",
           "green",
           "red",
           "green",
           "green",
           "red",
           "green",
           "green",
           "green",
           "red",
           "green",
           "green",
           "red",
           "green",
           "green",
           "green",
           "green",
           "green",
           "green",
           "green",
           "red",
           "green",
           "red",
           "red",
           "green",
           "green",
           "green",
           "green",
           "red",
           "red",
           "red",
           "red",
           "green",
           "green",
           "red",
           "green",
           "red",
           "green",
           "red",
           "red",
           "green",
           "red",
           "red",
           "green",
           "green",
           "green",
           "green",
           "red",
           "green",
           "green",
           "red",
           "red",
           "red",
           "green",
           "red",
           "green",
           "red",
           "green",
           "red",
           "green",
           "red",
           "green",
           "green",
           "green",
           "red",
           "green",
           "green",
           "green",
           "green",
           "green",
           "red",
           "red",
           "red",
           "green",
           "red",
           "green",
           "green",
           "red",
           "green",
           "green",
           "green",
           "green",
           "green",
           "green",
           "green",
           "red",
           "green",
           "green",
           "red",
           "red",
           "red",
           "green",
           "red",
           "green",
           "green",
           "red",
           "red",
           "red",
           "green",
           "green",
           "green",
           "green",
           "green",
           "red",
           "green",
           "green",
           "green",
           "red",
           "green",
           "green",
           "green",
           "green",
           "red",
           "red",
           "red",
           "green",
           "green",
           "green",
           "green",
           "red",
           "green",
           "green",
           "red",
           "green",
           "green",
           "red",
           "green",
           "red",
           "red",
           "red",
           "red",
           "red",
           "red",
           "green",
           "green",
           "red",
           "green",
           "green",
           "green",
           "red",
           "red",
           "red",
           "red",
           "red",
           "green",
           "red",
           "green",
           "red",
           "red",
           "red",
           "red",
           "green",
           "green",
           "red",
           "green",
           "green",
           "red",
           "green",
           "red",
           "green",
           "green",
           "red",
           "red",
           "red",
           "red",
           "red",
           "red",
           "green",
           "red",
           "red",
           "red",
           "red",
           "green",
           "green",
           "red",
           "green",
           "green",
           "green",
           "red",
           "red",
           "red",
           "green",
           "green",
           "green",
           "red",
           "red",
           "red",
           "red",
           "green",
           "green",
           "red",
           "red",
           "red",
           "green",
           "red",
           "red",
           "red",
           "green",
           "red",
           "green",
           "red",
           "green",
           "green",
           "green",
           "red",
           "green",
           "red",
           "green",
           "green",
           "green",
           "red",
           "green",
           "red",
           "green",
           "green",
           "green",
           "red",
           "red",
           "green",
           "green",
           "green",
           "red",
           "green",
           "red",
           "green",
           "green",
           "red",
           "green",
           "green",
           "green",
           "green",
           "green",
           "green",
           "red",
           "red",
           "green",
           "green",
           "green",
           "red",
           "red",
           "green",
           "green",
           "red",
           "green",
           "red",
           "red",
           "red",
           "green",
           "green",
           "red",
           "red",
           "red",
           "red",
           "red",
           "green",
           "green",
           "red",
           "green",
           "green",
           "green",
           "red",
           "red",
           "green",
           "green",
           "red",
           "red",
           "red",
           "green",
           "red",
           "red",
           "red",
           "green",
           "green",
           "red",
           "red",
           "green",
           "red",
           "red",
           "red",
           "red",
           "red",
           "green",
           "green",
           "green",
           "red",
           "red",
           "green",
           "red",
           "green",
           "green",
           "green",
           "green",
           "red",
           "green",
           "red",
           "red",
           "green",
           "red",
           "green",
           "green",
           "red",
           "green",
           "red",
           "green",
           "green",
           "red",
           "green",
           "red",
           "green",
           "green",
           "red",
           "green",
           "red",
           "green",
           "green",
           "red",
           "green",
           "green",
           "green",
           "green",
           "red",
           "green",
           "green",
           "red",
           "red",
           "green",
           "green",
           "red",
           "red",
           "red",
           "red",
           "green",
           "green",
           "red",
           "green",
           "green",
           "red",
           "green",
           "red",
           "green",
           "red",
           "red",
           "green",
           "red",
           "green",
           "green",
           "red",
           "red",
           "green",
           "red",
           "green",
           "green",
           "red",
           "green",
           "red",
           "green",
           "red",
           "green",
           "green",
           "green",
           "red",
           "green",
           "green",
           "green",
           "green",
           "red",
           "red",
           "green",
           "green",
           "green",
           "green",
           "red",
           "green",
           "red",
           "green",
           "red",
           "red",
           "red",
           "red",
           "red",
           "green",
           "green",
           "red",
           "green",
           "green",
           "green",
           "red",
           "red",
           "red",
           "green",
           "green",
           "green",
           "red",
           "green",
           "green",
           "red",
           "green",
           "green",
           "green",
           "red",
           "red",
           "green",
           "red",
           "red",
           "green",
           "red",
           "red",
           "green",
           "red",
           "green",
           "red",
           "green",
           "green",
           "green",
           "red",
           "red",
           "green",
           "green",
           "red",
           "red",
           "red",
           "red",
           "green",
           "red",
           "red",
           "red",
           "red",
           "green",
           "red",
           "green",
           "red",
           "green",
           "red",
           "red",
           "red",
           "red",
           "green",
           "green",
           "green",
           "red",
           "green",
           "green",
           "red",
           "red",
           "red",
           "red",
           "red",
           "red",
           "green",
           "red",
           "green",
           "green",
           "red",
           "green",
           "red",
           "red",
           "green",
           "red",
           "red",
           "red",
           "red",
           "green",
           "green",
           "green",
           "green",
           "green",
           "green",
           "green",
           "green",
           "green",
           "green",
           "green",
           "red",
           "green",
           "red",
           "green",
           "red",
           "green",
           "red",
           "red",
           "red",
           "red",
           "green",
           "red",
           "green",
           "red",
           "green",
           "red",
           "red",
           "red",
           "red",
           "red",
           "red",
           "red",
           "green",
           "green",
           "red",
           "green",
           "red",
           "red",
           "red",
           "red",
           "red",
           "green",
           "red",
           "green",
           "red",
           "green",
           "green",
           "green",
           "green",
           "red",
           "red",
           "red",
           "green",
           "green",
           "red",
           "green",
           "green",
           "red",
           "green",
           "green",
           "green",
           "red",
           "green",
           "red",
           "green",
           "red",
           "red",
           "red",
           "green",
           "green",
           "red",
           "green",
           "red",
           "green",
           "red",
           "green",
           "red",
           "red",
           "green",
           "red",
           "green",
           "red",
           "red",
           "red",
           "green",
           "red",
           "green",
           "green",
           "green",
           "green",
           "green",
           "green",
           "red",
           "green",
           "green",
           "red",
           "green",
           "red",
           "red",
           "red",
           "green",
           "green",
           "green",
           "red",
           "red",
           "green",
           "red",
           "green",
           "red",
           "red",
           "green",
           "green",
           "red",
           "red",
           "green",
           "green",
           "green",
           "red",
           "green",
           "green",
           "green",
           "green",
           "green",
           "red",
           "green",
           "red",
           "red",
           "red",
           "green",
           "green",
           "red",
           "red",
           "red",
           "red",
           "red",
           "green",
           "green",
           "green",
           "red",
           "green",
           "green",
           "green",
           "green",
           "green",
           "green",
           "green",
           "red",
           "red",
           "red",
           "red",
           "red",
           "green",
           "red",
           "red",
           "red",
           "green",
           "green",
           "red",
           "red",
           "green",
           "green",
           "red",
           "green",
           "green",
           "green",
           "green",
           "red",
           "green",
           "red",
           "green",
           "red",
           "red",
           "red",
           "green",
           "green",
           "red",
           "green",
           "red",
           "green",
           "green",
           "green",
           "red",
           "red",
           "red",
           "red",
           "green",
           "red",
           "green",
           "green",
           "green",
           "red",
           "red",
           "green",
           "green",
           "red",
           "green",
           "red",
           "green",
           "green",
           "red",
           "green",
           "red",
           "red",
           "red",
           "red",
           "red",
           "green",
           "green",
           "green",
           "red",
           "red",
           "green",
           "red",
           "green",
           "red",
           "green",
           "green",
           "red",
           "green",
           "green",
           "red",
           "red",
           "red",
           "green",
           "red",
           "red",
           "red",
           "green",
           "green",
           "green",
           "green",
           "green",
           "green",
           "red",
           "green",
           "red",
           "green",
           "red",
           "red",
           "green",
           "green",
           "red",
           "green",
           "green",
           "red"
          ],
          "line": {
           "width": 0
          }
         },
         "name": "Volume",
         "type": "bar",
         "uid": "ed39c8f4-e5f2-4cab-85d4-18164e2716fa",
         "x": [
          "2018-01-01T00:00:00.000000",
          "2018-01-02T00:00:00.000000",
          "2018-01-03T00:00:00.000000",
          "2018-01-04T00:00:00.000000",
          "2018-01-05T00:00:00.000000",
          "2018-01-06T00:00:00.000000",
          "2018-01-07T00:00:00.000000",
          "2018-01-08T00:00:00.000000",
          "2018-01-09T00:00:00.000000",
          "2018-01-10T00:00:00.000000",
          "2018-01-11T00:00:00.000000",
          "2018-01-12T00:00:00.000000",
          "2018-01-13T00:00:00.000000",
          "2018-01-14T00:00:00.000000",
          "2018-01-15T00:00:00.000000",
          "2018-01-16T00:00:00.000000",
          "2018-01-17T00:00:00.000000",
          "2018-01-18T00:00:00.000000",
          "2018-01-19T00:00:00.000000",
          "2018-01-20T00:00:00.000000",
          "2018-01-21T00:00:00.000000",
          "2018-01-22T00:00:00.000000",
          "2018-01-23T00:00:00.000000",
          "2018-01-24T00:00:00.000000",
          "2018-01-25T00:00:00.000000",
          "2018-01-26T00:00:00.000000",
          "2018-01-27T00:00:00.000000",
          "2018-01-28T00:00:00.000000",
          "2018-01-29T00:00:00.000000",
          "2018-01-30T00:00:00.000000",
          "2018-01-31T00:00:00.000000",
          "2018-02-01T00:00:00.000000",
          "2018-02-02T00:00:00.000000",
          "2018-02-03T00:00:00.000000",
          "2018-02-04T00:00:00.000000",
          "2018-02-05T00:00:00.000000",
          "2018-02-06T00:00:00.000000",
          "2018-02-07T00:00:00.000000",
          "2018-02-08T00:00:00.000000",
          "2018-02-09T00:00:00.000000",
          "2018-02-10T00:00:00.000000",
          "2018-02-11T00:00:00.000000",
          "2018-02-12T00:00:00.000000",
          "2018-02-13T00:00:00.000000",
          "2018-02-14T00:00:00.000000",
          "2018-02-15T00:00:00.000000",
          "2018-02-16T00:00:00.000000",
          "2018-02-17T00:00:00.000000",
          "2018-02-18T00:00:00.000000",
          "2018-02-19T00:00:00.000000",
          "2018-02-20T00:00:00.000000",
          "2018-02-21T00:00:00.000000",
          "2018-02-22T00:00:00.000000",
          "2018-02-23T00:00:00.000000",
          "2018-02-24T00:00:00.000000",
          "2018-02-25T00:00:00.000000",
          "2018-02-26T00:00:00.000000",
          "2018-02-27T00:00:00.000000",
          "2018-02-28T00:00:00.000000",
          "2018-03-01T00:00:00.000000",
          "2018-03-02T00:00:00.000000",
          "2018-03-03T00:00:00.000000",
          "2018-03-04T00:00:00.000000",
          "2018-03-05T00:00:00.000000",
          "2018-03-06T00:00:00.000000",
          "2018-03-07T00:00:00.000000",
          "2018-03-08T00:00:00.000000",
          "2018-03-09T00:00:00.000000",
          "2018-03-10T00:00:00.000000",
          "2018-03-11T00:00:00.000000",
          "2018-03-12T00:00:00.000000",
          "2018-03-13T00:00:00.000000",
          "2018-03-14T00:00:00.000000",
          "2018-03-15T00:00:00.000000",
          "2018-03-16T00:00:00.000000",
          "2018-03-17T00:00:00.000000",
          "2018-03-18T00:00:00.000000",
          "2018-03-19T00:00:00.000000",
          "2018-03-20T00:00:00.000000",
          "2018-03-21T00:00:00.000000",
          "2018-03-22T00:00:00.000000",
          "2018-03-23T00:00:00.000000",
          "2018-03-24T00:00:00.000000",
          "2018-03-25T00:00:00.000000",
          "2018-03-26T00:00:00.000000",
          "2018-03-27T00:00:00.000000",
          "2018-03-28T00:00:00.000000",
          "2018-03-29T00:00:00.000000",
          "2018-03-30T00:00:00.000000",
          "2018-03-31T00:00:00.000000",
          "2018-04-01T00:00:00.000000",
          "2018-04-02T00:00:00.000000",
          "2018-04-03T00:00:00.000000",
          "2018-04-04T00:00:00.000000",
          "2018-04-05T00:00:00.000000",
          "2018-04-06T00:00:00.000000",
          "2018-04-07T00:00:00.000000",
          "2018-04-08T00:00:00.000000",
          "2018-04-09T00:00:00.000000",
          "2018-04-10T00:00:00.000000",
          "2018-04-11T00:00:00.000000",
          "2018-04-12T00:00:00.000000",
          "2018-04-13T00:00:00.000000",
          "2018-04-14T00:00:00.000000",
          "2018-04-15T00:00:00.000000",
          "2018-04-16T00:00:00.000000",
          "2018-04-17T00:00:00.000000",
          "2018-04-18T00:00:00.000000",
          "2018-04-19T00:00:00.000000",
          "2018-04-20T00:00:00.000000",
          "2018-04-21T00:00:00.000000",
          "2018-04-22T00:00:00.000000",
          "2018-04-23T00:00:00.000000",
          "2018-04-24T00:00:00.000000",
          "2018-04-25T00:00:00.000000",
          "2018-04-26T00:00:00.000000",
          "2018-04-27T00:00:00.000000",
          "2018-04-28T00:00:00.000000",
          "2018-04-29T00:00:00.000000",
          "2018-04-30T00:00:00.000000",
          "2018-05-01T00:00:00.000000",
          "2018-05-02T00:00:00.000000",
          "2018-05-03T00:00:00.000000",
          "2018-05-04T00:00:00.000000",
          "2018-05-05T00:00:00.000000",
          "2018-05-06T00:00:00.000000",
          "2018-05-07T00:00:00.000000",
          "2018-05-08T00:00:00.000000",
          "2018-05-09T00:00:00.000000",
          "2018-05-10T00:00:00.000000",
          "2018-05-11T00:00:00.000000",
          "2018-05-12T00:00:00.000000",
          "2018-05-13T00:00:00.000000",
          "2018-05-14T00:00:00.000000",
          "2018-05-15T00:00:00.000000",
          "2018-05-16T00:00:00.000000",
          "2018-05-17T00:00:00.000000",
          "2018-05-18T00:00:00.000000",
          "2018-05-19T00:00:00.000000",
          "2018-05-20T00:00:00.000000",
          "2018-05-21T00:00:00.000000",
          "2018-05-22T00:00:00.000000",
          "2018-05-23T00:00:00.000000",
          "2018-05-24T00:00:00.000000",
          "2018-05-25T00:00:00.000000",
          "2018-05-26T00:00:00.000000",
          "2018-05-27T00:00:00.000000",
          "2018-05-28T00:00:00.000000",
          "2018-05-29T00:00:00.000000",
          "2018-05-30T00:00:00.000000",
          "2018-05-31T00:00:00.000000",
          "2018-06-01T00:00:00.000000",
          "2018-06-02T00:00:00.000000",
          "2018-06-03T00:00:00.000000",
          "2018-06-04T00:00:00.000000",
          "2018-06-05T00:00:00.000000",
          "2018-06-06T00:00:00.000000",
          "2018-06-07T00:00:00.000000",
          "2018-06-08T00:00:00.000000",
          "2018-06-09T00:00:00.000000",
          "2018-06-10T00:00:00.000000",
          "2018-06-11T00:00:00.000000",
          "2018-06-12T00:00:00.000000",
          "2018-06-13T00:00:00.000000",
          "2018-06-14T00:00:00.000000",
          "2018-06-15T00:00:00.000000",
          "2018-06-16T00:00:00.000000",
          "2018-06-17T00:00:00.000000",
          "2018-06-18T00:00:00.000000",
          "2018-06-19T00:00:00.000000",
          "2018-06-20T00:00:00.000000",
          "2018-06-21T00:00:00.000000",
          "2018-06-22T00:00:00.000000",
          "2018-06-23T00:00:00.000000",
          "2018-06-24T00:00:00.000000",
          "2018-06-25T00:00:00.000000",
          "2018-06-26T00:00:00.000000",
          "2018-06-27T00:00:00.000000",
          "2018-06-28T00:00:00.000000",
          "2018-06-29T00:00:00.000000",
          "2018-06-30T00:00:00.000000",
          "2018-07-01T00:00:00.000000",
          "2018-07-02T00:00:00.000000",
          "2018-07-03T00:00:00.000000",
          "2018-07-04T00:00:00.000000",
          "2018-07-05T00:00:00.000000",
          "2018-07-06T00:00:00.000000",
          "2018-07-07T00:00:00.000000",
          "2018-07-08T00:00:00.000000",
          "2018-07-09T00:00:00.000000",
          "2018-07-10T00:00:00.000000",
          "2018-07-11T00:00:00.000000",
          "2018-07-12T00:00:00.000000",
          "2018-07-13T00:00:00.000000",
          "2018-07-14T00:00:00.000000",
          "2018-07-15T00:00:00.000000",
          "2018-07-16T00:00:00.000000",
          "2018-07-17T00:00:00.000000",
          "2018-07-18T00:00:00.000000",
          "2018-07-19T00:00:00.000000",
          "2018-07-20T00:00:00.000000",
          "2018-07-21T00:00:00.000000",
          "2018-07-22T00:00:00.000000",
          "2018-07-23T00:00:00.000000",
          "2018-07-24T00:00:00.000000",
          "2018-07-25T00:00:00.000000",
          "2018-07-26T00:00:00.000000",
          "2018-07-27T00:00:00.000000",
          "2018-07-28T00:00:00.000000",
          "2018-07-29T00:00:00.000000",
          "2018-07-30T00:00:00.000000",
          "2018-07-31T00:00:00.000000",
          "2018-08-01T00:00:00.000000",
          "2018-08-02T00:00:00.000000",
          "2018-08-03T00:00:00.000000",
          "2018-08-04T00:00:00.000000",
          "2018-08-05T00:00:00.000000",
          "2018-08-06T00:00:00.000000",
          "2018-08-07T00:00:00.000000",
          "2018-08-08T00:00:00.000000",
          "2018-08-09T00:00:00.000000",
          "2018-08-10T00:00:00.000000",
          "2018-08-11T00:00:00.000000",
          "2018-08-12T00:00:00.000000",
          "2018-08-13T00:00:00.000000",
          "2018-08-14T00:00:00.000000",
          "2018-08-15T00:00:00.000000",
          "2018-08-16T00:00:00.000000",
          "2018-08-17T00:00:00.000000",
          "2018-08-18T00:00:00.000000",
          "2018-08-19T00:00:00.000000",
          "2018-08-20T00:00:00.000000",
          "2018-08-21T00:00:00.000000",
          "2018-08-22T00:00:00.000000",
          "2018-08-23T00:00:00.000000",
          "2018-08-24T00:00:00.000000",
          "2018-08-25T00:00:00.000000",
          "2018-08-26T00:00:00.000000",
          "2018-08-27T00:00:00.000000",
          "2018-08-28T00:00:00.000000",
          "2018-08-29T00:00:00.000000",
          "2018-08-30T00:00:00.000000",
          "2018-08-31T00:00:00.000000",
          "2018-09-01T00:00:00.000000",
          "2018-09-02T00:00:00.000000",
          "2018-09-03T00:00:00.000000",
          "2018-09-04T00:00:00.000000",
          "2018-09-05T00:00:00.000000",
          "2018-09-06T00:00:00.000000",
          "2018-09-07T00:00:00.000000",
          "2018-09-08T00:00:00.000000",
          "2018-09-09T00:00:00.000000",
          "2018-09-10T00:00:00.000000",
          "2018-09-11T00:00:00.000000",
          "2018-09-12T00:00:00.000000",
          "2018-09-13T00:00:00.000000",
          "2018-09-14T00:00:00.000000",
          "2018-09-15T00:00:00.000000",
          "2018-09-16T00:00:00.000000",
          "2018-09-17T00:00:00.000000",
          "2018-09-18T00:00:00.000000",
          "2018-09-19T00:00:00.000000",
          "2018-09-20T00:00:00.000000",
          "2018-09-21T00:00:00.000000",
          "2018-09-22T00:00:00.000000",
          "2018-09-23T00:00:00.000000",
          "2018-09-24T00:00:00.000000",
          "2018-09-25T00:00:00.000000",
          "2018-09-26T00:00:00.000000",
          "2018-09-27T00:00:00.000000",
          "2018-09-28T00:00:00.000000",
          "2018-09-29T00:00:00.000000",
          "2018-09-30T00:00:00.000000",
          "2018-10-01T00:00:00.000000",
          "2018-10-02T00:00:00.000000",
          "2018-10-03T00:00:00.000000",
          "2018-10-04T00:00:00.000000",
          "2018-10-05T00:00:00.000000",
          "2018-10-06T00:00:00.000000",
          "2018-10-07T00:00:00.000000",
          "2018-10-08T00:00:00.000000",
          "2018-10-09T00:00:00.000000",
          "2018-10-10T00:00:00.000000",
          "2018-10-11T00:00:00.000000",
          "2018-10-12T00:00:00.000000",
          "2018-10-13T00:00:00.000000",
          "2018-10-14T00:00:00.000000",
          "2018-10-15T00:00:00.000000",
          "2018-10-16T00:00:00.000000",
          "2018-10-17T00:00:00.000000",
          "2018-10-18T00:00:00.000000",
          "2018-10-19T00:00:00.000000",
          "2018-10-20T00:00:00.000000",
          "2018-10-21T00:00:00.000000",
          "2018-10-22T00:00:00.000000",
          "2018-10-23T00:00:00.000000",
          "2018-10-24T00:00:00.000000",
          "2018-10-25T00:00:00.000000",
          "2018-10-26T00:00:00.000000",
          "2018-10-27T00:00:00.000000",
          "2018-10-28T00:00:00.000000",
          "2018-10-29T00:00:00.000000",
          "2018-10-30T00:00:00.000000",
          "2018-10-31T00:00:00.000000",
          "2018-11-01T00:00:00.000000",
          "2018-11-02T00:00:00.000000",
          "2018-11-03T00:00:00.000000",
          "2018-11-04T00:00:00.000000",
          "2018-11-05T00:00:00.000000",
          "2018-11-06T00:00:00.000000",
          "2018-11-07T00:00:00.000000",
          "2018-11-08T00:00:00.000000",
          "2018-11-09T00:00:00.000000",
          "2018-11-10T00:00:00.000000",
          "2018-11-11T00:00:00.000000",
          "2018-11-12T00:00:00.000000",
          "2018-11-13T00:00:00.000000",
          "2018-11-14T00:00:00.000000",
          "2018-11-15T00:00:00.000000",
          "2018-11-16T00:00:00.000000",
          "2018-11-17T00:00:00.000000",
          "2018-11-18T00:00:00.000000",
          "2018-11-19T00:00:00.000000",
          "2018-11-20T00:00:00.000000",
          "2018-11-21T00:00:00.000000",
          "2018-11-22T00:00:00.000000",
          "2018-11-23T00:00:00.000000",
          "2018-11-24T00:00:00.000000",
          "2018-11-25T00:00:00.000000",
          "2018-11-26T00:00:00.000000",
          "2018-11-27T00:00:00.000000",
          "2018-11-28T00:00:00.000000",
          "2018-11-29T00:00:00.000000",
          "2018-11-30T00:00:00.000000",
          "2018-12-01T00:00:00.000000",
          "2018-12-02T00:00:00.000000",
          "2018-12-03T00:00:00.000000",
          "2018-12-04T00:00:00.000000",
          "2018-12-05T00:00:00.000000",
          "2018-12-06T00:00:00.000000",
          "2018-12-07T00:00:00.000000",
          "2018-12-08T00:00:00.000000",
          "2018-12-09T00:00:00.000000",
          "2018-12-10T00:00:00.000000",
          "2018-12-11T00:00:00.000000",
          "2018-12-12T00:00:00.000000",
          "2018-12-13T00:00:00.000000",
          "2018-12-14T00:00:00.000000",
          "2018-12-15T00:00:00.000000",
          "2018-12-16T00:00:00.000000",
          "2018-12-17T00:00:00.000000",
          "2018-12-18T00:00:00.000000",
          "2018-12-19T00:00:00.000000",
          "2018-12-20T00:00:00.000000",
          "2018-12-21T00:00:00.000000",
          "2018-12-22T00:00:00.000000",
          "2018-12-23T00:00:00.000000",
          "2018-12-24T00:00:00.000000",
          "2018-12-25T00:00:00.000000",
          "2018-12-26T00:00:00.000000",
          "2018-12-27T00:00:00.000000",
          "2018-12-28T00:00:00.000000",
          "2018-12-29T00:00:00.000000",
          "2018-12-30T00:00:00.000000",
          "2018-12-31T00:00:00.000000",
          "2019-01-01T00:00:00.000000",
          "2019-01-02T00:00:00.000000",
          "2019-01-03T00:00:00.000000",
          "2019-01-04T00:00:00.000000",
          "2019-01-05T00:00:00.000000",
          "2019-01-06T00:00:00.000000",
          "2019-01-07T00:00:00.000000",
          "2019-01-08T00:00:00.000000",
          "2019-01-09T00:00:00.000000",
          "2019-01-10T00:00:00.000000",
          "2019-01-11T00:00:00.000000",
          "2019-01-12T00:00:00.000000",
          "2019-01-13T00:00:00.000000",
          "2019-01-14T00:00:00.000000",
          "2019-01-15T00:00:00.000000",
          "2019-01-16T00:00:00.000000",
          "2019-01-17T00:00:00.000000",
          "2019-01-18T00:00:00.000000",
          "2019-01-19T00:00:00.000000",
          "2019-01-20T00:00:00.000000",
          "2019-01-21T00:00:00.000000",
          "2019-01-22T00:00:00.000000",
          "2019-01-23T00:00:00.000000",
          "2019-01-24T00:00:00.000000",
          "2019-01-25T00:00:00.000000",
          "2019-01-26T00:00:00.000000",
          "2019-01-27T00:00:00.000000",
          "2019-01-28T00:00:00.000000",
          "2019-01-29T00:00:00.000000",
          "2019-01-30T00:00:00.000000",
          "2019-01-31T00:00:00.000000",
          "2019-02-01T00:00:00.000000",
          "2019-02-02T00:00:00.000000",
          "2019-02-03T00:00:00.000000",
          "2019-02-04T00:00:00.000000",
          "2019-02-05T00:00:00.000000",
          "2019-02-06T00:00:00.000000",
          "2019-02-07T00:00:00.000000",
          "2019-02-08T00:00:00.000000",
          "2019-02-09T00:00:00.000000",
          "2019-02-10T00:00:00.000000",
          "2019-02-11T00:00:00.000000",
          "2019-02-12T00:00:00.000000",
          "2019-02-13T00:00:00.000000",
          "2019-02-14T00:00:00.000000",
          "2019-02-15T00:00:00.000000",
          "2019-02-16T00:00:00.000000",
          "2019-02-17T00:00:00.000000",
          "2019-02-18T00:00:00.000000",
          "2019-02-19T00:00:00.000000",
          "2019-02-20T00:00:00.000000",
          "2019-02-21T00:00:00.000000",
          "2019-02-22T00:00:00.000000",
          "2019-02-23T00:00:00.000000",
          "2019-02-24T00:00:00.000000",
          "2019-02-25T00:00:00.000000",
          "2019-02-26T00:00:00.000000",
          "2019-02-27T00:00:00.000000",
          "2019-02-28T00:00:00.000000",
          "2019-03-01T00:00:00.000000",
          "2019-03-02T00:00:00.000000",
          "2019-03-03T00:00:00.000000",
          "2019-03-04T00:00:00.000000",
          "2019-03-05T00:00:00.000000",
          "2019-03-06T00:00:00.000000",
          "2019-03-07T00:00:00.000000",
          "2019-03-08T00:00:00.000000",
          "2019-03-09T00:00:00.000000",
          "2019-03-10T00:00:00.000000",
          "2019-03-11T00:00:00.000000",
          "2019-03-12T00:00:00.000000",
          "2019-03-13T00:00:00.000000",
          "2019-03-14T00:00:00.000000",
          "2019-03-15T00:00:00.000000",
          "2019-03-16T00:00:00.000000",
          "2019-03-17T00:00:00.000000",
          "2019-03-18T00:00:00.000000",
          "2019-03-19T00:00:00.000000",
          "2019-03-20T00:00:00.000000",
          "2019-03-21T00:00:00.000000",
          "2019-03-22T00:00:00.000000",
          "2019-03-23T00:00:00.000000",
          "2019-03-24T00:00:00.000000",
          "2019-03-25T00:00:00.000000",
          "2019-03-26T00:00:00.000000",
          "2019-03-27T00:00:00.000000",
          "2019-03-28T00:00:00.000000",
          "2019-03-29T00:00:00.000000",
          "2019-03-30T00:00:00.000000",
          "2019-03-31T00:00:00.000000",
          "2019-04-01T00:00:00.000000",
          "2019-04-02T00:00:00.000000",
          "2019-04-03T00:00:00.000000",
          "2019-04-04T00:00:00.000000",
          "2019-04-05T00:00:00.000000",
          "2019-04-06T00:00:00.000000",
          "2019-04-07T00:00:00.000000",
          "2019-04-08T00:00:00.000000",
          "2019-04-09T00:00:00.000000",
          "2019-04-10T00:00:00.000000",
          "2019-04-11T00:00:00.000000",
          "2019-04-12T00:00:00.000000",
          "2019-04-13T00:00:00.000000",
          "2019-04-14T00:00:00.000000",
          "2019-04-15T00:00:00.000000",
          "2019-04-16T00:00:00.000000",
          "2019-04-17T00:00:00.000000",
          "2019-04-18T00:00:00.000000",
          "2019-04-19T00:00:00.000000",
          "2019-04-20T00:00:00.000000",
          "2019-04-21T00:00:00.000000",
          "2019-04-22T00:00:00.000000",
          "2019-04-23T00:00:00.000000",
          "2019-04-24T00:00:00.000000",
          "2019-04-25T00:00:00.000000",
          "2019-04-26T00:00:00.000000",
          "2019-04-27T00:00:00.000000",
          "2019-04-28T00:00:00.000000",
          "2019-04-29T00:00:00.000000",
          "2019-04-30T00:00:00.000000",
          "2019-05-01T00:00:00.000000",
          "2019-05-02T00:00:00.000000",
          "2019-05-03T00:00:00.000000",
          "2019-05-04T00:00:00.000000",
          "2019-05-05T00:00:00.000000",
          "2019-05-06T00:00:00.000000",
          "2019-05-07T00:00:00.000000",
          "2019-05-08T00:00:00.000000",
          "2019-05-09T00:00:00.000000",
          "2019-05-10T00:00:00.000000",
          "2019-05-11T00:00:00.000000",
          "2019-05-12T00:00:00.000000",
          "2019-05-13T00:00:00.000000",
          "2019-05-14T00:00:00.000000",
          "2019-05-15T00:00:00.000000",
          "2019-05-16T00:00:00.000000",
          "2019-05-17T00:00:00.000000",
          "2019-05-18T00:00:00.000000",
          "2019-05-19T00:00:00.000000",
          "2019-05-20T00:00:00.000000",
          "2019-05-21T00:00:00.000000",
          "2019-05-22T00:00:00.000000",
          "2019-05-23T00:00:00.000000",
          "2019-05-24T00:00:00.000000",
          "2019-05-25T00:00:00.000000",
          "2019-05-26T00:00:00.000000",
          "2019-05-27T00:00:00.000000",
          "2019-05-28T00:00:00.000000",
          "2019-05-29T00:00:00.000000",
          "2019-05-30T00:00:00.000000",
          "2019-05-31T00:00:00.000000",
          "2019-06-01T00:00:00.000000",
          "2019-06-02T00:00:00.000000",
          "2019-06-03T00:00:00.000000",
          "2019-06-04T00:00:00.000000",
          "2019-06-05T00:00:00.000000",
          "2019-06-06T00:00:00.000000",
          "2019-06-07T00:00:00.000000",
          "2019-06-08T00:00:00.000000",
          "2019-06-09T00:00:00.000000",
          "2019-06-10T00:00:00.000000",
          "2019-06-11T00:00:00.000000",
          "2019-06-12T00:00:00.000000",
          "2019-06-13T00:00:00.000000",
          "2019-06-14T00:00:00.000000",
          "2019-06-15T00:00:00.000000",
          "2019-06-16T00:00:00.000000",
          "2019-06-17T00:00:00.000000",
          "2019-06-18T00:00:00.000000",
          "2019-06-19T00:00:00.000000",
          "2019-06-20T00:00:00.000000",
          "2019-06-21T00:00:00.000000",
          "2019-06-22T00:00:00.000000",
          "2019-06-23T00:00:00.000000",
          "2019-06-24T00:00:00.000000",
          "2019-06-25T00:00:00.000000",
          "2019-06-26T00:00:00.000000",
          "2019-06-27T00:00:00.000000",
          "2019-06-28T00:00:00.000000",
          "2019-06-29T00:00:00.000000",
          "2019-06-30T00:00:00.000000",
          "2019-07-01T00:00:00.000000",
          "2019-07-02T00:00:00.000000",
          "2019-07-03T00:00:00.000000",
          "2019-07-04T00:00:00.000000",
          "2019-07-05T00:00:00.000000",
          "2019-07-06T00:00:00.000000",
          "2019-07-07T00:00:00.000000",
          "2019-07-08T00:00:00.000000",
          "2019-07-09T00:00:00.000000",
          "2019-07-10T00:00:00.000000",
          "2019-07-11T00:00:00.000000",
          "2019-07-12T00:00:00.000000",
          "2019-07-13T00:00:00.000000",
          "2019-07-14T00:00:00.000000",
          "2019-07-15T00:00:00.000000",
          "2019-07-16T00:00:00.000000",
          "2019-07-17T00:00:00.000000",
          "2019-07-18T00:00:00.000000",
          "2019-07-19T00:00:00.000000",
          "2019-07-20T00:00:00.000000",
          "2019-07-21T00:00:00.000000",
          "2019-07-22T00:00:00.000000",
          "2019-07-23T00:00:00.000000",
          "2019-07-24T00:00:00.000000",
          "2019-07-25T00:00:00.000000",
          "2019-07-26T00:00:00.000000",
          "2019-07-27T00:00:00.000000",
          "2019-07-28T00:00:00.000000",
          "2019-07-29T00:00:00.000000",
          "2019-07-30T00:00:00.000000",
          "2019-07-31T00:00:00.000000",
          "2019-08-01T00:00:00.000000",
          "2019-08-02T00:00:00.000000",
          "2019-08-03T00:00:00.000000",
          "2019-08-04T00:00:00.000000",
          "2019-08-05T00:00:00.000000",
          "2019-08-06T00:00:00.000000",
          "2019-08-07T00:00:00.000000",
          "2019-08-08T00:00:00.000000",
          "2019-08-09T00:00:00.000000",
          "2019-08-10T00:00:00.000000",
          "2019-08-11T00:00:00.000000",
          "2019-08-12T00:00:00.000000",
          "2019-08-13T00:00:00.000000",
          "2019-08-14T00:00:00.000000",
          "2019-08-15T00:00:00.000000",
          "2019-08-16T00:00:00.000000",
          "2019-08-17T00:00:00.000000",
          "2019-08-18T00:00:00.000000",
          "2019-08-19T00:00:00.000000",
          "2019-08-20T00:00:00.000000",
          "2019-08-21T00:00:00.000000",
          "2019-08-22T00:00:00.000000",
          "2019-08-23T00:00:00.000000",
          "2019-08-24T00:00:00.000000",
          "2019-08-25T00:00:00.000000",
          "2019-08-26T00:00:00.000000",
          "2019-08-27T00:00:00.000000",
          "2019-08-28T00:00:00.000000",
          "2019-08-29T00:00:00.000000",
          "2019-08-30T00:00:00.000000",
          "2019-08-31T00:00:00.000000",
          "2019-09-01T00:00:00.000000",
          "2019-09-02T00:00:00.000000",
          "2019-09-03T00:00:00.000000",
          "2019-09-04T00:00:00.000000",
          "2019-09-05T00:00:00.000000",
          "2019-09-06T00:00:00.000000",
          "2019-09-07T00:00:00.000000",
          "2019-09-08T00:00:00.000000",
          "2019-09-09T00:00:00.000000",
          "2019-09-10T00:00:00.000000",
          "2019-09-11T00:00:00.000000",
          "2019-09-12T00:00:00.000000",
          "2019-09-13T00:00:00.000000",
          "2019-09-14T00:00:00.000000",
          "2019-09-15T00:00:00.000000",
          "2019-09-16T00:00:00.000000",
          "2019-09-17T00:00:00.000000",
          "2019-09-18T00:00:00.000000",
          "2019-09-19T00:00:00.000000",
          "2019-09-20T00:00:00.000000",
          "2019-09-21T00:00:00.000000",
          "2019-09-22T00:00:00.000000",
          "2019-09-23T00:00:00.000000",
          "2019-09-24T00:00:00.000000",
          "2019-09-25T00:00:00.000000",
          "2019-09-26T00:00:00.000000",
          "2019-09-27T00:00:00.000000",
          "2019-09-28T00:00:00.000000",
          "2019-09-29T00:00:00.000000",
          "2019-09-30T00:00:00.000000",
          "2019-10-01T00:00:00.000000",
          "2019-10-02T00:00:00.000000",
          "2019-10-03T00:00:00.000000",
          "2019-10-04T00:00:00.000000",
          "2019-10-05T00:00:00.000000",
          "2019-10-06T00:00:00.000000",
          "2019-10-07T00:00:00.000000",
          "2019-10-08T00:00:00.000000",
          "2019-10-09T00:00:00.000000",
          "2019-10-10T00:00:00.000000",
          "2019-10-11T00:00:00.000000",
          "2019-10-12T00:00:00.000000",
          "2019-10-13T00:00:00.000000",
          "2019-10-14T00:00:00.000000",
          "2019-10-15T00:00:00.000000",
          "2019-10-16T00:00:00.000000",
          "2019-10-17T00:00:00.000000",
          "2019-10-18T00:00:00.000000",
          "2019-10-19T00:00:00.000000",
          "2019-10-20T00:00:00.000000",
          "2019-10-21T00:00:00.000000",
          "2019-10-22T00:00:00.000000",
          "2019-10-23T00:00:00.000000",
          "2019-10-24T00:00:00.000000",
          "2019-10-25T00:00:00.000000",
          "2019-10-26T00:00:00.000000",
          "2019-10-27T00:00:00.000000",
          "2019-10-28T00:00:00.000000",
          "2019-10-29T00:00:00.000000",
          "2019-10-30T00:00:00.000000",
          "2019-10-31T00:00:00.000000",
          "2019-11-01T00:00:00.000000",
          "2019-11-02T00:00:00.000000",
          "2019-11-03T00:00:00.000000",
          "2019-11-04T00:00:00.000000",
          "2019-11-05T00:00:00.000000",
          "2019-11-06T00:00:00.000000",
          "2019-11-07T00:00:00.000000",
          "2019-11-08T00:00:00.000000",
          "2019-11-09T00:00:00.000000",
          "2019-11-10T00:00:00.000000",
          "2019-11-11T00:00:00.000000",
          "2019-11-12T00:00:00.000000",
          "2019-11-13T00:00:00.000000",
          "2019-11-14T00:00:00.000000",
          "2019-11-15T00:00:00.000000",
          "2019-11-16T00:00:00.000000",
          "2019-11-17T00:00:00.000000",
          "2019-11-18T00:00:00.000000",
          "2019-11-19T00:00:00.000000",
          "2019-11-20T00:00:00.000000",
          "2019-11-21T00:00:00.000000",
          "2019-11-22T00:00:00.000000",
          "2019-11-23T00:00:00.000000",
          "2019-11-24T00:00:00.000000",
          "2019-11-25T00:00:00.000000",
          "2019-11-26T00:00:00.000000",
          "2019-11-27T00:00:00.000000",
          "2019-11-28T00:00:00.000000",
          "2019-11-29T00:00:00.000000",
          "2019-11-30T00:00:00.000000",
          "2019-12-01T00:00:00.000000",
          "2019-12-02T00:00:00.000000",
          "2019-12-03T00:00:00.000000",
          "2019-12-04T00:00:00.000000",
          "2019-12-05T00:00:00.000000",
          "2019-12-06T00:00:00.000000",
          "2019-12-07T00:00:00.000000",
          "2019-12-08T00:00:00.000000",
          "2019-12-09T00:00:00.000000",
          "2019-12-10T00:00:00.000000",
          "2019-12-11T00:00:00.000000",
          "2019-12-12T00:00:00.000000",
          "2019-12-13T00:00:00.000000",
          "2019-12-14T00:00:00.000000",
          "2019-12-15T00:00:00.000000",
          "2019-12-16T00:00:00.000000",
          "2019-12-17T00:00:00.000000",
          "2019-12-18T00:00:00.000000",
          "2019-12-19T00:00:00.000000",
          "2019-12-20T00:00:00.000000",
          "2019-12-21T00:00:00.000000",
          "2019-12-22T00:00:00.000000",
          "2019-12-23T00:00:00.000000",
          "2019-12-24T00:00:00.000000",
          "2019-12-25T00:00:00.000000",
          "2019-12-26T00:00:00.000000",
          "2019-12-27T00:00:00.000000",
          "2019-12-28T00:00:00.000000",
          "2019-12-29T00:00:00.000000",
          "2019-12-30T00:00:00.000000",
          "2019-12-31T00:00:00.000000",
          "2020-01-01T00:00:00.000000",
          "2020-01-02T00:00:00.000000",
          "2020-01-03T00:00:00.000000",
          "2020-01-04T00:00:00.000000",
          "2020-01-05T00:00:00.000000",
          "2020-01-06T00:00:00.000000",
          "2020-01-07T00:00:00.000000",
          "2020-01-08T00:00:00.000000",
          "2020-01-09T00:00:00.000000",
          "2020-01-10T00:00:00.000000",
          "2020-01-11T00:00:00.000000",
          "2020-01-12T00:00:00.000000",
          "2020-01-13T00:00:00.000000",
          "2020-01-14T00:00:00.000000",
          "2020-01-15T00:00:00.000000",
          "2020-01-16T00:00:00.000000",
          "2020-01-17T00:00:00.000000",
          "2020-01-18T00:00:00.000000",
          "2020-01-19T00:00:00.000000",
          "2020-01-20T00:00:00.000000",
          "2020-01-21T00:00:00.000000",
          "2020-01-22T00:00:00.000000",
          "2020-01-23T00:00:00.000000",
          "2020-01-24T00:00:00.000000",
          "2020-01-25T00:00:00.000000",
          "2020-01-26T00:00:00.000000",
          "2020-01-27T00:00:00.000000",
          "2020-01-28T00:00:00.000000",
          "2020-01-29T00:00:00.000000",
          "2020-01-30T00:00:00.000000",
          "2020-01-31T00:00:00.000000",
          "2020-02-01T00:00:00.000000",
          "2020-02-02T00:00:00.000000",
          "2020-02-03T00:00:00.000000",
          "2020-02-04T00:00:00.000000",
          "2020-02-05T00:00:00.000000",
          "2020-02-06T00:00:00.000000",
          "2020-02-07T00:00:00.000000",
          "2020-02-08T00:00:00.000000",
          "2020-02-09T00:00:00.000000",
          "2020-02-10T00:00:00.000000",
          "2020-02-11T00:00:00.000000",
          "2020-02-12T00:00:00.000000",
          "2020-02-13T00:00:00.000000",
          "2020-02-14T00:00:00.000000",
          "2020-02-15T00:00:00.000000",
          "2020-02-16T00:00:00.000000",
          "2020-02-17T00:00:00.000000",
          "2020-02-18T00:00:00.000000",
          "2020-02-19T00:00:00.000000",
          "2020-02-20T00:00:00.000000",
          "2020-02-21T00:00:00.000000",
          "2020-02-22T00:00:00.000000",
          "2020-02-23T00:00:00.000000",
          "2020-02-24T00:00:00.000000",
          "2020-02-25T00:00:00.000000",
          "2020-02-26T00:00:00.000000",
          "2020-02-27T00:00:00.000000",
          "2020-02-28T00:00:00.000000",
          "2020-02-29T00:00:00.000000",
          "2020-03-01T00:00:00.000000",
          "2020-03-02T00:00:00.000000",
          "2020-03-03T00:00:00.000000",
          "2020-03-04T00:00:00.000000",
          "2020-03-05T00:00:00.000000",
          "2020-03-06T00:00:00.000000",
          "2020-03-07T00:00:00.000000",
          "2020-03-08T00:00:00.000000",
          "2020-03-09T00:00:00.000000",
          "2020-03-10T00:00:00.000000",
          "2020-03-11T00:00:00.000000",
          "2020-03-12T00:00:00.000000",
          "2020-03-13T00:00:00.000000",
          "2020-03-14T00:00:00.000000",
          "2020-03-15T00:00:00.000000",
          "2020-03-16T00:00:00.000000",
          "2020-03-17T00:00:00.000000",
          "2020-03-18T00:00:00.000000",
          "2020-03-19T00:00:00.000000",
          "2020-03-20T00:00:00.000000",
          "2020-03-21T00:00:00.000000",
          "2020-03-22T00:00:00.000000",
          "2020-03-23T00:00:00.000000",
          "2020-03-24T00:00:00.000000",
          "2020-03-25T00:00:00.000000",
          "2020-03-26T00:00:00.000000",
          "2020-03-27T00:00:00.000000",
          "2020-03-28T00:00:00.000000",
          "2020-03-29T00:00:00.000000",
          "2020-03-30T00:00:00.000000",
          "2020-03-31T00:00:00.000000",
          "2020-04-01T00:00:00.000000",
          "2020-04-02T00:00:00.000000",
          "2020-04-03T00:00:00.000000",
          "2020-04-04T00:00:00.000000",
          "2020-04-05T00:00:00.000000",
          "2020-04-06T00:00:00.000000",
          "2020-04-07T00:00:00.000000",
          "2020-04-08T00:00:00.000000",
          "2020-04-09T00:00:00.000000",
          "2020-04-10T00:00:00.000000",
          "2020-04-11T00:00:00.000000",
          "2020-04-12T00:00:00.000000",
          "2020-04-13T00:00:00.000000",
          "2020-04-14T00:00:00.000000",
          "2020-04-15T00:00:00.000000",
          "2020-04-16T00:00:00.000000",
          "2020-04-17T00:00:00.000000",
          "2020-04-18T00:00:00.000000",
          "2020-04-19T00:00:00.000000",
          "2020-04-20T00:00:00.000000",
          "2020-04-21T00:00:00.000000",
          "2020-04-22T00:00:00.000000",
          "2020-04-23T00:00:00.000000",
          "2020-04-24T00:00:00.000000",
          "2020-04-25T00:00:00.000000",
          "2020-04-26T00:00:00.000000",
          "2020-04-27T00:00:00.000000",
          "2020-04-28T00:00:00.000000",
          "2020-04-29T00:00:00.000000",
          "2020-04-30T00:00:00.000000",
          "2020-05-01T00:00:00.000000",
          "2020-05-02T00:00:00.000000",
          "2020-05-03T00:00:00.000000",
          "2020-05-04T00:00:00.000000",
          "2020-05-05T00:00:00.000000",
          "2020-05-06T00:00:00.000000",
          "2020-05-07T00:00:00.000000",
          "2020-05-08T00:00:00.000000",
          "2020-05-09T00:00:00.000000",
          "2020-05-10T00:00:00.000000",
          "2020-05-11T00:00:00.000000",
          "2020-05-12T00:00:00.000000",
          "2020-05-13T00:00:00.000000",
          "2020-05-14T00:00:00.000000",
          "2020-05-15T00:00:00.000000",
          "2020-05-16T00:00:00.000000",
          "2020-05-17T00:00:00.000000",
          "2020-05-18T00:00:00.000000",
          "2020-05-19T00:00:00.000000",
          "2020-05-20T00:00:00.000000",
          "2020-05-21T00:00:00.000000",
          "2020-05-22T00:00:00.000000",
          "2020-05-23T00:00:00.000000",
          "2020-05-24T00:00:00.000000",
          "2020-05-25T00:00:00.000000",
          "2020-05-26T00:00:00.000000",
          "2020-05-27T00:00:00.000000",
          "2020-05-28T00:00:00.000000",
          "2020-05-29T00:00:00.000000",
          "2020-05-30T00:00:00.000000",
          "2020-05-31T00:00:00.000000",
          "2020-06-01T00:00:00.000000",
          "2020-06-02T00:00:00.000000",
          "2020-06-03T00:00:00.000000",
          "2020-06-04T00:00:00.000000",
          "2020-06-05T00:00:00.000000",
          "2020-06-06T00:00:00.000000",
          "2020-06-07T00:00:00.000000",
          "2020-06-08T00:00:00.000000",
          "2020-06-09T00:00:00.000000",
          "2020-06-10T00:00:00.000000",
          "2020-06-11T00:00:00.000000",
          "2020-06-12T00:00:00.000000",
          "2020-06-13T00:00:00.000000",
          "2020-06-14T00:00:00.000000",
          "2020-06-15T00:00:00.000000",
          "2020-06-16T00:00:00.000000",
          "2020-06-17T00:00:00.000000",
          "2020-06-18T00:00:00.000000",
          "2020-06-19T00:00:00.000000",
          "2020-06-20T00:00:00.000000",
          "2020-06-21T00:00:00.000000",
          "2020-06-22T00:00:00.000000",
          "2020-06-23T00:00:00.000000",
          "2020-06-24T00:00:00.000000",
          "2020-06-25T00:00:00.000000",
          "2020-06-26T00:00:00.000000",
          "2020-06-27T00:00:00.000000",
          "2020-06-28T00:00:00.000000",
          "2020-06-29T00:00:00.000000",
          "2020-06-30T00:00:00.000000",
          "2020-07-01T00:00:00.000000",
          "2020-07-02T00:00:00.000000",
          "2020-07-03T00:00:00.000000",
          "2020-07-04T00:00:00.000000",
          "2020-07-05T00:00:00.000000",
          "2020-07-06T00:00:00.000000",
          "2020-07-07T00:00:00.000000",
          "2020-07-08T00:00:00.000000",
          "2020-07-09T00:00:00.000000",
          "2020-07-10T00:00:00.000000",
          "2020-07-11T00:00:00.000000",
          "2020-07-12T00:00:00.000000",
          "2020-07-13T00:00:00.000000",
          "2020-07-14T00:00:00.000000",
          "2020-07-15T00:00:00.000000",
          "2020-07-16T00:00:00.000000",
          "2020-07-17T00:00:00.000000",
          "2020-07-18T00:00:00.000000",
          "2020-07-19T00:00:00.000000",
          "2020-07-20T00:00:00.000000",
          "2020-07-21T00:00:00.000000",
          "2020-07-22T00:00:00.000000",
          "2020-07-23T00:00:00.000000",
          "2020-07-24T00:00:00.000000",
          "2020-07-25T00:00:00.000000",
          "2020-07-26T00:00:00.000000",
          "2020-07-27T00:00:00.000000",
          "2020-07-28T00:00:00.000000",
          "2020-07-29T00:00:00.000000",
          "2020-07-30T00:00:00.000000",
          "2020-07-31T00:00:00.000000",
          "2020-08-01T00:00:00.000000",
          "2020-08-02T00:00:00.000000",
          "2020-08-03T00:00:00.000000",
          "2020-08-04T00:00:00.000000",
          "2020-08-05T00:00:00.000000",
          "2020-08-06T00:00:00.000000",
          "2020-08-07T00:00:00.000000",
          "2020-08-08T00:00:00.000000",
          "2020-08-09T00:00:00.000000",
          "2020-08-10T00:00:00.000000",
          "2020-08-11T00:00:00.000000",
          "2020-08-12T00:00:00.000000",
          "2020-08-13T00:00:00.000000",
          "2020-08-14T00:00:00.000000",
          "2020-08-15T00:00:00.000000",
          "2020-08-16T00:00:00.000000",
          "2020-08-17T00:00:00.000000",
          "2020-08-18T00:00:00.000000",
          "2020-08-19T00:00:00.000000",
          "2020-08-20T00:00:00.000000",
          "2020-08-21T00:00:00.000000",
          "2020-08-22T00:00:00.000000",
          "2020-08-23T00:00:00.000000",
          "2020-08-24T00:00:00.000000",
          "2020-08-25T00:00:00.000000",
          "2020-08-26T00:00:00.000000",
          "2020-08-27T00:00:00.000000",
          "2020-08-28T00:00:00.000000",
          "2020-08-29T00:00:00.000000",
          "2020-08-30T00:00:00.000000",
          "2020-08-31T00:00:00.000000",
          "2020-09-01T00:00:00.000000",
          "2020-09-02T00:00:00.000000",
          "2020-09-03T00:00:00.000000",
          "2020-09-04T00:00:00.000000",
          "2020-09-05T00:00:00.000000",
          "2020-09-06T00:00:00.000000",
          "2020-09-07T00:00:00.000000",
          "2020-09-08T00:00:00.000000",
          "2020-09-09T00:00:00.000000",
          "2020-09-10T00:00:00.000000",
          "2020-09-11T00:00:00.000000",
          "2020-09-12T00:00:00.000000",
          "2020-09-13T00:00:00.000000",
          "2020-09-14T00:00:00.000000",
          "2020-09-15T00:00:00.000000",
          "2020-09-16T00:00:00.000000",
          "2020-09-17T00:00:00.000000",
          "2020-09-18T00:00:00.000000",
          "2020-09-19T00:00:00.000000",
          "2020-09-20T00:00:00.000000",
          "2020-09-21T00:00:00.000000",
          "2020-09-22T00:00:00.000000",
          "2020-09-23T00:00:00.000000",
          "2020-09-24T00:00:00.000000",
          "2020-09-25T00:00:00.000000",
          "2020-09-26T00:00:00.000000"
         ],
         "xaxis": "x",
         "y": {
          "dtype": "float64",
          "shape": [
           1000
          ]
         },
         "yaxis": "y"
        }
       ],
       "_js2py_layoutDelta": {},
       "_js2py_pointsCallback": {},
       "_js2py_relayout": {},
       "_js2py_restyle": {},
       "_js2py_traceDeltas": {},
       "_js2py_update": {},
       "_last_layout_edit_id": 5,
       "_last_trace_edit_id": 5,
       "_layout": {
        "autosize": false,
        "colorway": [
         "#1f77b4",
         "#ff7f0e",
         "#2ca02c",
         "#d62728",
         "#9467bd",
         "#8c564b",
         "#e377c2",
         "#7f7f7f",
         "#bcbd22",
         "#17becf"
        ],
        "height": 300,
        "hovermode": "closest",
        "margin": {
         "b": 30,
         "t": 30
        },
        "showlegend": true,
        "template": {
         "data": {
          "bar": [
           {
            "error_x": {
             "color": "#2a3f5f"
            },
            "error_y": {
             "color": "#2a3f5f"
            },
            "marker": {
             "line": {
              "color": "#E5ECF6",
              "width": 0.5
             }
            },
            "type": "bar"
           }
          ],
          "barpolar": [
           {
            "marker": {
             "line": {
              "color": "#E5ECF6",
              "width": 0.5
             }
            },
            "type": "barpolar"
           }
          ],
          "carpet": [
           {
            "aaxis": {
             "endlinecolor": "#2a3f5f",
             "gridcolor": "white",
             "linecolor": "white",
             "minorgridcolor": "white",
             "startlinecolor": "#2a3f5f"
            },
            "baxis": {
             "endlinecolor": "#2a3f5f",
             "gridcolor": "white",
             "linecolor": "white",
             "minorgridcolor": "white",
             "startlinecolor": "#2a3f5f"
            },
            "type": "carpet"
           }
          ],
          "choropleth": [
           {
            "colorbar": {
             "outlinewidth": 0,
             "ticks": ""
            },
            "type": "choropleth"
           }
          ],
          "contour": [
           {
            "colorbar": {
             "outlinewidth": 0,
             "ticks": ""
            },
            "colorscale": [
             [
              0,
              "#0d0887"
             ],
             [
              0.1111111111111111,
              "#46039f"
             ],
             [
              0.2222222222222222,
              "#7201a8"
             ],
             [
              0.3333333333333333,
              "#9c179e"
             ],
             [
              0.4444444444444444,
              "#bd3786"
             ],
             [
              0.5555555555555556,
              "#d8576b"
             ],
             [
              0.6666666666666666,
              "#ed7953"
             ],
             [
              0.7777777777777778,
              "#fb9f3a"
             ],
             [
              0.8888888888888888,
              "#fdca26"
             ],
             [
              1,
              "#f0f921"
             ]
            ],
            "type": "contour"
           }
          ],
          "contourcarpet": [
           {
            "colorbar": {
             "outlinewidth": 0,
             "ticks": ""
            },
            "type": "contourcarpet"
           }
          ],
          "heatmap": [
           {
            "colorbar": {
             "outlinewidth": 0,
             "ticks": ""
            },
            "colorscale": [
             [
              0,
              "#0d0887"
             ],
             [
              0.1111111111111111,
              "#46039f"
             ],
             [
              0.2222222222222222,
              "#7201a8"
             ],
             [
              0.3333333333333333,
              "#9c179e"
             ],
             [
              0.4444444444444444,
              "#bd3786"
             ],
             [
              0.5555555555555556,
              "#d8576b"
             ],
             [
              0.6666666666666666,
              "#ed7953"
             ],
             [
              0.7777777777777778,
              "#fb9f3a"
             ],
             [
              0.8888888888888888,
              "#fdca26"
             ],
             [
              1,
              "#f0f921"
             ]
            ],
            "type": "heatmap"
           }
          ],
          "heatmapgl": [
           {
            "colorbar": {
             "outlinewidth": 0,
             "ticks": ""
            },
            "colorscale": [
             [
              0,
              "#0d0887"
             ],
             [
              0.1111111111111111,
              "#46039f"
             ],
             [
              0.2222222222222222,
              "#7201a8"
             ],
             [
              0.3333333333333333,
              "#9c179e"
             ],
             [
              0.4444444444444444,
              "#bd3786"
             ],
             [
              0.5555555555555556,
              "#d8576b"
             ],
             [
              0.6666666666666666,
              "#ed7953"
             ],
             [
              0.7777777777777778,
              "#fb9f3a"
             ],
             [
              0.8888888888888888,
              "#fdca26"
             ],
             [
              1,
              "#f0f921"
             ]
            ],
            "type": "heatmapgl"
           }
          ],
          "histogram": [
           {
            "marker": {
             "colorbar": {
              "outlinewidth": 0,
              "ticks": ""
             }
            },
            "type": "histogram"
           }
          ],
          "histogram2d": [
           {
            "colorbar": {
             "outlinewidth": 0,
             "ticks": ""
            },
            "colorscale": [
             [
              0,
              "#0d0887"
             ],
             [
              0.1111111111111111,
              "#46039f"
             ],
             [
              0.2222222222222222,
              "#7201a8"
             ],
             [
              0.3333333333333333,
              "#9c179e"
             ],
             [
              0.4444444444444444,
              "#bd3786"
             ],
             [
              0.5555555555555556,
              "#d8576b"
             ],
             [
              0.6666666666666666,
              "#ed7953"
             ],
             [
              0.7777777777777778,
              "#fb9f3a"
             ],
             [
              0.8888888888888888,
              "#fdca26"
             ],
             [
              1,
              "#f0f921"
             ]
            ],
            "type": "histogram2d"
           }
          ],
          "histogram2dcontour": [
           {
            "colorbar": {
             "outlinewidth": 0,
             "ticks": ""
            },
            "colorscale": [
             [
              0,
              "#0d0887"
             ],
             [
              0.1111111111111111,
              "#46039f"
             ],
             [
              0.2222222222222222,
              "#7201a8"
             ],
             [
              0.3333333333333333,
              "#9c179e"
             ],
             [
              0.4444444444444444,
              "#bd3786"
             ],
             [
              0.5555555555555556,
              "#d8576b"
             ],
             [
              0.6666666666666666,
              "#ed7953"
             ],
             [
              0.7777777777777778,
              "#fb9f3a"
             ],
             [
              0.8888888888888888,
              "#fdca26"
             ],
             [
              1,
              "#f0f921"
             ]
            ],
            "type": "histogram2dcontour"
           }
          ],
          "mesh3d": [
           {
            "colorbar": {
             "outlinewidth": 0,
             "ticks": ""
            },
            "type": "mesh3d"
           }
          ],
          "parcoords": [
           {
            "line": {
             "colorbar": {
              "outlinewidth": 0,
              "ticks": ""
             }
            },
            "type": "parcoords"
           }
          ],
          "pie": [
           {
            "automargin": true,
            "type": "pie"
           }
          ],
          "scatter": [
           {
            "marker": {
             "colorbar": {
              "outlinewidth": 0,
              "ticks": ""
             }
            },
            "type": "scatter"
           }
          ],
          "scatter3d": [
           {
            "line": {
             "colorbar": {
              "outlinewidth": 0,
              "ticks": ""
             }
            },
            "marker": {
             "colorbar": {
              "outlinewidth": 0,
              "ticks": ""
             }
            },
            "type": "scatter3d"
           }
          ],
          "scattercarpet": [
           {
            "marker": {
             "colorbar": {
              "outlinewidth": 0,
              "ticks": ""
             }
            },
            "type": "scattercarpet"
           }
          ],
          "scattergeo": [
           {
            "marker": {
             "colorbar": {
              "outlinewidth": 0,
              "ticks": ""
             }
            },
            "type": "scattergeo"
           }
          ],
          "scattergl": [
           {
            "marker": {
             "colorbar": {
              "outlinewidth": 0,
              "ticks": ""
             }
            },
            "type": "scattergl"
           }
          ],
          "scattermapbox": [
           {
            "marker": {
             "colorbar": {
              "outlinewidth": 0,
              "ticks": ""
             }
            },
            "type": "scattermapbox"
           }
          ],
          "scatterpolar": [
           {
            "marker": {
             "colorbar": {
              "outlinewidth": 0,
              "ticks": ""
             }
            },
            "type": "scatterpolar"
           }
          ],
          "scatterpolargl": [
           {
            "marker": {
             "colorbar": {
              "outlinewidth": 0,
              "ticks": ""
             }
            },
            "type": "scatterpolargl"
           }
          ],
          "scatterternary": [
           {
            "marker": {
             "colorbar": {
              "outlinewidth": 0,
              "ticks": ""
             }
            },
            "type": "scatterternary"
           }
          ],
          "surface": [
           {
            "colorbar": {
             "outlinewidth": 0,
             "ticks": ""
            },
            "colorscale": [
             [
              0,
              "#0d0887"
             ],
             [
              0.1111111111111111,
              "#46039f"
             ],
             [
              0.2222222222222222,
              "#7201a8"
             ],
             [
              0.3333333333333333,
              "#9c179e"
             ],
             [
              0.4444444444444444,
              "#bd3786"
             ],
             [
              0.5555555555555556,
              "#d8576b"
             ],
             [
              0.6666666666666666,
              "#ed7953"
             ],
             [
              0.7777777777777778,
              "#fb9f3a"
             ],
             [
              0.8888888888888888,
              "#fdca26"
             ],
             [
              1,
              "#f0f921"
             ]
            ],
            "type": "surface"
           }
          ],
          "table": [
           {
            "cells": {
             "fill": {
              "color": "#EBF0F8"
             },
             "line": {
              "color": "white"
             }
            },
            "header": {
             "fill": {
              "color": "#C8D4E3"
             },
             "line": {
              "color": "white"
             }
            },
            "type": "table"
           }
          ]
         },
         "layout": {
          "annotationdefaults": {
           "arrowcolor": "#2a3f5f",
           "arrowhead": 0,
           "arrowwidth": 1
          },
          "coloraxis": {
           "colorbar": {
            "outlinewidth": 0,
            "ticks": ""
           }
          },
          "colorscale": {
           "diverging": [
            [
             0,
             "#8e0152"
            ],
            [
             0.1,
             "#c51b7d"
            ],
            [
             0.2,
             "#de77ae"
            ],
            [
             0.3,
             "#f1b6da"
            ],
            [
             0.4,
             "#fde0ef"
            ],
            [
             0.5,
             "#f7f7f7"
            ],
            [
             0.6,
             "#e6f5d0"
            ],
            [
             0.7,
             "#b8e186"
            ],
            [
             0.8,
             "#7fbc41"
            ],
            [
             0.9,
             "#4d9221"
            ],
            [
             1,
             "#276419"
            ]
           ],
           "sequential": [
            [
             0,
             "#0d0887"
            ],
            [
             0.1111111111111111,
             "#46039f"
            ],
            [
             0.2222222222222222,
             "#7201a8"
            ],
            [
             0.3333333333333333,
             "#9c179e"
            ],
            [
             0.4444444444444444,
             "#bd3786"
            ],
            [
             0.5555555555555556,
             "#d8576b"
            ],
            [
             0.6666666666666666,
             "#ed7953"
            ],
            [
             0.7777777777777778,
             "#fb9f3a"
            ],
            [
             0.8888888888888888,
             "#fdca26"
            ],
            [
             1,
             "#f0f921"
            ]
           ],
           "sequentialminus": [
            [
             0,
             "#0d0887"
            ],
            [
             0.1111111111111111,
             "#46039f"
            ],
            [
             0.2222222222222222,
             "#7201a8"
            ],
            [
             0.3333333333333333,
             "#9c179e"
            ],
            [
             0.4444444444444444,
             "#bd3786"
            ],
            [
             0.5555555555555556,
             "#d8576b"
            ],
            [
             0.6666666666666666,
             "#ed7953"
            ],
            [
             0.7777777777777778,
             "#fb9f3a"
            ],
            [
             0.8888888888888888,
             "#fdca26"
            ],
            [
             1,
             "#f0f921"
            ]
           ]
          },
          "colorway": [
           "#636efa",
           "#EF553B",
           "#00cc96",
           "#ab63fa",
           "#FFA15A",
           "#19d3f3",
           "#FF6692",
           "#B6E880",
           "#FF97FF",
           "#FECB52"
          ],
          "font": {
           "color": "#2a3f5f"
          },
          "geo": {
           "bgcolor": "white",
           "lakecolor": "white",
           "landcolor": "#E5ECF6",
           "showlakes": true,
           "showland": true,
           "subunitcolor": "white"
          },
          "hoverlabel": {
           "align": "left"
          },
          "hovermode": "closest",
          "mapbox": {
           "style": "light"
          },
          "paper_bgcolor": "white",
          "plot_bgcolor": "#E5ECF6",
          "polar": {
           "angularaxis": {
            "gridcolor": "white",
            "linecolor": "white",
            "ticks": ""
           },
           "bgcolor": "#E5ECF6",
           "radialaxis": {
            "gridcolor": "white",
            "linecolor": "white",
            "ticks": ""
           }
          },
          "scene": {
           "xaxis": {
            "backgroundcolor": "#E5ECF6",
            "gridcolor": "white",
            "gridwidth": 2,
            "linecolor": "white",
            "showbackground": true,
            "ticks": "",
            "zerolinecolor": "white"
           },
           "yaxis": {
            "backgroundcolor": "#E5ECF6",
            "gridcolor": "white",
            "gridwidth": 2,
            "linecolor": "white",
            "showbackground": true,
            "ticks": "",
            "zerolinecolor": "white"
           },
           "zaxis": {
            "backgroundcolor": "#E5ECF6",
            "gridcolor": "white",
            "gridwidth": 2,
            "linecolor": "white",
            "showbackground": true,
            "ticks": "",
            "zerolinecolor": "white"
           }
          },
          "shapedefaults": {
           "line": {
            "color": "#2a3f5f"
           }
          },
          "ternary": {
           "aaxis": {
            "gridcolor": "white",
            "linecolor": "white",
            "ticks": ""
           },
           "baxis": {
            "gridcolor": "white",
            "linecolor": "white",
            "ticks": ""
           },
           "bgcolor": "#E5ECF6",
           "caxis": {
            "gridcolor": "white",
            "linecolor": "white",
            "ticks": ""
           }
          },
          "title": {
           "x": 0.05
          },
          "xaxis": {
           "automargin": true,
           "gridcolor": "white",
           "linecolor": "white",
           "ticks": "",
           "title": {
            "standoff": 15
           },
           "zerolinecolor": "white",
           "zerolinewidth": 2
          },
          "yaxis": {
           "automargin": true,
           "gridcolor": "white",
           "linecolor": "white",
           "ticks": "",
           "title": {
            "standoff": 15
           },
           "zerolinecolor": "white",
           "zerolinewidth": 2
          }
         }
        },
        "width": 700,
        "xaxis": {
         "rangeslider": {
          "visible": false
         },
         "showgrid": true
        },
        "yaxis": {
         "domain": [
          0,
          0.33
         ],
         "showgrid": true
        },
        "yaxis2": {
         "domain": [
          0.33,
          1
         ]
        }
       },
       "_model_module_version": "4.7.1",
       "_py2js_animate": {},
       "_py2js_deleteTraces": {},
       "_py2js_moveTraces": {},
       "_py2js_removeLayoutProps": {},
       "_py2js_removeTraceProps": {},
       "_py2js_restyle": {},
       "_view_count": 0,
       "_view_module_version": "4.7.1"
      }
     },
     "d5d26bba20e944caaad48f507530ccee": {
      "buffers": [
       {
        "data": "AACAPwAAAEAAAEBAAACAQAAAwH8=",
        "encoding": "base64",
        "path": [
         "_data",
         0,
         "y",
         "value"
        ]
       }
      ],
      "model_module": "plotlywidget",
      "model_module_version": "4.7.1",
      "model_name": "FigureModel",
      "state": {
       "_config": {
        "plotlyServerURL": "https://plot.ly"
       },
       "_data": [
        {
         "mode": "lines",
         "name": "a",
         "showlegend": true,
         "type": "scatter",
         "uid": "28f0dc0d-88f4-4dec-bebc-da7990c4d349",
         "x": [
          "2018-01-01T00:00:00.000000",
          "2018-01-02T00:00:00.000000",
          "2018-01-03T00:00:00.000000",
          "2018-01-04T00:00:00.000000",
          "2018-01-05T00:00:00.000000"
         ],
         "y": {
          "dtype": "float32",
          "shape": [
           5
          ]
         }
        }
       ],
       "_js2py_layoutDelta": {},
       "_js2py_pointsCallback": {},
       "_js2py_relayout": {},
       "_js2py_restyle": {},
       "_js2py_traceDeltas": {},
       "_js2py_update": {},
       "_last_layout_edit_id": 2,
       "_last_trace_edit_id": 2,
       "_layout": {
        "autosize": false,
        "colorway": [
         "#1f77b4",
         "#ff7f0e",
         "#2ca02c",
         "#d62728",
         "#9467bd",
         "#8c564b",
         "#e377c2",
         "#7f7f7f",
         "#bcbd22",
         "#17becf"
        ],
        "height": 300,
        "hovermode": "closest",
        "margin": {
         "b": 30,
         "t": 30
        },
        "template": {
         "data": {
          "bar": [
           {
            "error_x": {
             "color": "#2a3f5f"
            },
            "error_y": {
             "color": "#2a3f5f"
            },
            "marker": {
             "line": {
              "color": "#E5ECF6",
              "width": 0.5
             }
            },
            "type": "bar"
           }
          ],
          "barpolar": [
           {
            "marker": {
             "line": {
              "color": "#E5ECF6",
              "width": 0.5
             }
            },
            "type": "barpolar"
           }
          ],
          "carpet": [
           {
            "aaxis": {
             "endlinecolor": "#2a3f5f",
             "gridcolor": "white",
             "linecolor": "white",
             "minorgridcolor": "white",
             "startlinecolor": "#2a3f5f"
            },
            "baxis": {
             "endlinecolor": "#2a3f5f",
             "gridcolor": "white",
             "linecolor": "white",
             "minorgridcolor": "white",
             "startlinecolor": "#2a3f5f"
            },
            "type": "carpet"
           }
          ],
          "choropleth": [
           {
            "colorbar": {
             "outlinewidth": 0,
             "ticks": ""
            },
            "type": "choropleth"
           }
          ],
          "contour": [
           {
            "colorbar": {
             "outlinewidth": 0,
             "ticks": ""
            },
            "colorscale": [
             [
              0,
              "#0d0887"
             ],
             [
              0.1111111111111111,
              "#46039f"
             ],
             [
              0.2222222222222222,
              "#7201a8"
             ],
             [
              0.3333333333333333,
              "#9c179e"
             ],
             [
              0.4444444444444444,
              "#bd3786"
             ],
             [
              0.5555555555555556,
              "#d8576b"
             ],
             [
              0.6666666666666666,
              "#ed7953"
             ],
             [
              0.7777777777777778,
              "#fb9f3a"
             ],
             [
              0.8888888888888888,
              "#fdca26"
             ],
             [
              1,
              "#f0f921"
             ]
            ],
            "type": "contour"
           }
          ],
          "contourcarpet": [
           {
            "colorbar": {
             "outlinewidth": 0,
             "ticks": ""
            },
            "type": "contourcarpet"
           }
          ],
          "heatmap": [
           {
            "colorbar": {
             "outlinewidth": 0,
             "ticks": ""
            },
            "colorscale": [
             [
              0,
              "#0d0887"
             ],
             [
              0.1111111111111111,
              "#46039f"
             ],
             [
              0.2222222222222222,
              "#7201a8"
             ],
             [
              0.3333333333333333,
              "#9c179e"
             ],
             [
              0.4444444444444444,
              "#bd3786"
             ],
             [
              0.5555555555555556,
              "#d8576b"
             ],
             [
              0.6666666666666666,
              "#ed7953"
             ],
             [
              0.7777777777777778,
              "#fb9f3a"
             ],
             [
              0.8888888888888888,
              "#fdca26"
             ],
             [
              1,
              "#f0f921"
             ]
            ],
            "type": "heatmap"
           }
          ],
          "heatmapgl": [
           {
            "colorbar": {
             "outlinewidth": 0,
             "ticks": ""
            },
            "colorscale": [
             [
              0,
              "#0d0887"
             ],
             [
              0.1111111111111111,
              "#46039f"
             ],
             [
              0.2222222222222222,
              "#7201a8"
             ],
             [
              0.3333333333333333,
              "#9c179e"
             ],
             [
              0.4444444444444444,
              "#bd3786"
             ],
             [
              0.5555555555555556,
              "#d8576b"
             ],
             [
              0.6666666666666666,
              "#ed7953"
             ],
             [
              0.7777777777777778,
              "#fb9f3a"
             ],
             [
              0.8888888888888888,
              "#fdca26"
             ],
             [
              1,
              "#f0f921"
             ]
            ],
            "type": "heatmapgl"
           }
          ],
          "histogram": [
           {
            "marker": {
             "colorbar": {
              "outlinewidth": 0,
              "ticks": ""
             }
            },
            "type": "histogram"
           }
          ],
          "histogram2d": [
           {
            "colorbar": {
             "outlinewidth": 0,
             "ticks": ""
            },
            "colorscale": [
             [
              0,
              "#0d0887"
             ],
             [
              0.1111111111111111,
              "#46039f"
             ],
             [
              0.2222222222222222,
              "#7201a8"
             ],
             [
              0.3333333333333333,
              "#9c179e"
             ],
             [
              0.4444444444444444,
              "#bd3786"
             ],
             [
              0.5555555555555556,
              "#d8576b"
             ],
             [
              0.6666666666666666,
              "#ed7953"
             ],
             [
              0.7777777777777778,
              "#fb9f3a"
             ],
             [
              0.8888888888888888,
              "#fdca26"
             ],
             [
              1,
              "#f0f921"
             ]
            ],
            "type": "histogram2d"
           }
          ],
          "histogram2dcontour": [
           {
            "colorbar": {
             "outlinewidth": 0,
             "ticks": ""
            },
            "colorscale": [
             [
              0,
              "#0d0887"
             ],
             [
              0.1111111111111111,
              "#46039f"
             ],
             [
              0.2222222222222222,
              "#7201a8"
             ],
             [
              0.3333333333333333,
              "#9c179e"
             ],
             [
              0.4444444444444444,
              "#bd3786"
             ],
             [
              0.5555555555555556,
              "#d8576b"
             ],
             [
              0.6666666666666666,
              "#ed7953"
             ],
             [
              0.7777777777777778,
              "#fb9f3a"
             ],
             [
              0.8888888888888888,
              "#fdca26"
             ],
             [
              1,
              "#f0f921"
             ]
            ],
            "type": "histogram2dcontour"
           }
          ],
          "mesh3d": [
           {
            "colorbar": {
             "outlinewidth": 0,
             "ticks": ""
            },
            "type": "mesh3d"
           }
          ],
          "parcoords": [
           {
            "line": {
             "colorbar": {
              "outlinewidth": 0,
              "ticks": ""
             }
            },
            "type": "parcoords"
           }
          ],
          "pie": [
           {
            "automargin": true,
            "type": "pie"
           }
          ],
          "scatter": [
           {
            "marker": {
             "colorbar": {
              "outlinewidth": 0,
              "ticks": ""
             }
            },
            "type": "scatter"
           }
          ],
          "scatter3d": [
           {
            "line": {
             "colorbar": {
              "outlinewidth": 0,
              "ticks": ""
             }
            },
            "marker": {
             "colorbar": {
              "outlinewidth": 0,
              "ticks": ""
             }
            },
            "type": "scatter3d"
           }
          ],
          "scattercarpet": [
           {
            "marker": {
             "colorbar": {
              "outlinewidth": 0,
              "ticks": ""
             }
            },
            "type": "scattercarpet"
           }
          ],
          "scattergeo": [
           {
            "marker": {
             "colorbar": {
              "outlinewidth": 0,
              "ticks": ""
             }
            },
            "type": "scattergeo"
           }
          ],
          "scattergl": [
           {
            "marker": {
             "colorbar": {
              "outlinewidth": 0,
              "ticks": ""
             }
            },
            "type": "scattergl"
           }
          ],
          "scattermapbox": [
           {
            "marker": {
             "colorbar": {
              "outlinewidth": 0,
              "ticks": ""
             }
            },
            "type": "scattermapbox"
           }
          ],
          "scatterpolar": [
           {
            "marker": {
             "colorbar": {
              "outlinewidth": 0,
              "ticks": ""
             }
            },
            "type": "scatterpolar"
           }
          ],
          "scatterpolargl": [
           {
            "marker": {
             "colorbar": {
              "outlinewidth": 0,
              "ticks": ""
             }
            },
            "type": "scatterpolargl"
           }
          ],
          "scatterternary": [
           {
            "marker": {
             "colorbar": {
              "outlinewidth": 0,
              "ticks": ""
             }
            },
            "type": "scatterternary"
           }
          ],
          "surface": [
           {
            "colorbar": {
             "outlinewidth": 0,
             "ticks": ""
            },
            "colorscale": [
             [
              0,
              "#0d0887"
             ],
             [
              0.1111111111111111,
              "#46039f"
             ],
             [
              0.2222222222222222,
              "#7201a8"
             ],
             [
              0.3333333333333333,
              "#9c179e"
             ],
             [
              0.4444444444444444,
              "#bd3786"
             ],
             [
              0.5555555555555556,
              "#d8576b"
             ],
             [
              0.6666666666666666,
              "#ed7953"
             ],
             [
              0.7777777777777778,
              "#fb9f3a"
             ],
             [
              0.8888888888888888,
              "#fdca26"
             ],
             [
              1,
              "#f0f921"
             ]
            ],
            "type": "surface"
           }
          ],
          "table": [
           {
            "cells": {
             "fill": {
              "color": "#EBF0F8"
             },
             "line": {
              "color": "white"
             }
            },
            "header": {
             "fill": {
              "color": "#C8D4E3"
             },
             "line": {
              "color": "white"
             }
            },
            "type": "table"
           }
          ]
         },
         "layout": {
          "annotationdefaults": {
           "arrowcolor": "#2a3f5f",
           "arrowhead": 0,
           "arrowwidth": 1
          },
          "coloraxis": {
           "colorbar": {
            "outlinewidth": 0,
            "ticks": ""
           }
          },
          "colorscale": {
           "diverging": [
            [
             0,
             "#8e0152"
            ],
            [
             0.1,
             "#c51b7d"
            ],
            [
             0.2,
             "#de77ae"
            ],
            [
             0.3,
             "#f1b6da"
            ],
            [
             0.4,
             "#fde0ef"
            ],
            [
             0.5,
             "#f7f7f7"
            ],
            [
             0.6,
             "#e6f5d0"
            ],
            [
             0.7,
             "#b8e186"
            ],
            [
             0.8,
             "#7fbc41"
            ],
            [
             0.9,
             "#4d9221"
            ],
            [
             1,
             "#276419"
            ]
           ],
           "sequential": [
            [
             0,
             "#0d0887"
            ],
            [
             0.1111111111111111,
             "#46039f"
            ],
            [
             0.2222222222222222,
             "#7201a8"
            ],
            [
             0.3333333333333333,
             "#9c179e"
            ],
            [
             0.4444444444444444,
             "#bd3786"
            ],
            [
             0.5555555555555556,
             "#d8576b"
            ],
            [
             0.6666666666666666,
             "#ed7953"
            ],
            [
             0.7777777777777778,
             "#fb9f3a"
            ],
            [
             0.8888888888888888,
             "#fdca26"
            ],
            [
             1,
             "#f0f921"
            ]
           ],
           "sequentialminus": [
            [
             0,
             "#0d0887"
            ],
            [
             0.1111111111111111,
             "#46039f"
            ],
            [
             0.2222222222222222,
             "#7201a8"
            ],
            [
             0.3333333333333333,
             "#9c179e"
            ],
            [
             0.4444444444444444,
             "#bd3786"
            ],
            [
             0.5555555555555556,
             "#d8576b"
            ],
            [
             0.6666666666666666,
             "#ed7953"
            ],
            [
             0.7777777777777778,
             "#fb9f3a"
            ],
            [
             0.8888888888888888,
             "#fdca26"
            ],
            [
             1,
             "#f0f921"
            ]
           ]
          },
          "colorway": [
           "#636efa",
           "#EF553B",
           "#00cc96",
           "#ab63fa",
           "#FFA15A",
           "#19d3f3",
           "#FF6692",
           "#B6E880",
           "#FF97FF",
           "#FECB52"
          ],
          "font": {
           "color": "#2a3f5f"
          },
          "geo": {
           "bgcolor": "white",
           "lakecolor": "white",
           "landcolor": "#E5ECF6",
           "showlakes": true,
           "showland": true,
           "subunitcolor": "white"
          },
          "hoverlabel": {
           "align": "left"
          },
          "hovermode": "closest",
          "mapbox": {
           "style": "light"
          },
          "paper_bgcolor": "white",
          "plot_bgcolor": "#E5ECF6",
          "polar": {
           "angularaxis": {
            "gridcolor": "white",
            "linecolor": "white",
            "ticks": ""
           },
           "bgcolor": "#E5ECF6",
           "radialaxis": {
            "gridcolor": "white",
            "linecolor": "white",
            "ticks": ""
           }
          },
          "scene": {
           "xaxis": {
            "backgroundcolor": "#E5ECF6",
            "gridcolor": "white",
            "gridwidth": 2,
            "linecolor": "white",
            "showbackground": true,
            "ticks": "",
            "zerolinecolor": "white"
           },
           "yaxis": {
            "backgroundcolor": "#E5ECF6",
            "gridcolor": "white",
            "gridwidth": 2,
            "linecolor": "white",
            "showbackground": true,
            "ticks": "",
            "zerolinecolor": "white"
           },
           "zaxis": {
            "backgroundcolor": "#E5ECF6",
            "gridcolor": "white",
            "gridwidth": 2,
            "linecolor": "white",
            "showbackground": true,
            "ticks": "",
            "zerolinecolor": "white"
           }
          },
          "shapedefaults": {
           "line": {
            "color": "#2a3f5f"
           }
          },
          "ternary": {
           "aaxis": {
            "gridcolor": "white",
            "linecolor": "white",
            "ticks": ""
           },
           "baxis": {
            "gridcolor": "white",
            "linecolor": "white",
            "ticks": ""
           },
           "bgcolor": "#E5ECF6",
           "caxis": {
            "gridcolor": "white",
            "linecolor": "white",
            "ticks": ""
           }
          },
          "title": {
           "x": 0.05
          },
          "xaxis": {
           "automargin": true,
           "gridcolor": "white",
           "linecolor": "white",
           "ticks": "",
           "title": {
            "standoff": 15
           },
           "zerolinecolor": "white",
           "zerolinewidth": 2
          },
          "yaxis": {
           "automargin": true,
           "gridcolor": "white",
           "linecolor": "white",
           "ticks": "",
           "title": {
            "standoff": 15
           },
           "zerolinecolor": "white",
           "zerolinewidth": 2
          }
         }
        },
        "width": 700
       },
       "_model_module_version": "4.7.1",
       "_py2js_animate": {},
       "_py2js_deleteTraces": {},
       "_py2js_moveTraces": {},
       "_py2js_removeLayoutProps": {},
       "_py2js_removeTraceProps": {},
       "_py2js_restyle": {},
       "_view_count": 0,
       "_view_module_version": "4.7.1"
      }
     },
     "e874ed6f9b63430bac753e2905f41cb8": {
      "buffers": [
       {
        "data": "AABAQAAAgEA=",
        "encoding": "base64",
        "path": [
         "_data",
         1,
         "y",
         "value"
        ]
       },
       {
        "data": "AACAPw==",
        "encoding": "base64",
        "path": [
         "_data",
         2,
         "y",
         "value"
        ]
       },
       {
        "data": "AAAAQA==",
        "encoding": "base64",
        "path": [
         "_data",
         3,
         "y",
         "value"
        ]
       }
      ],
      "model_module": "plotlywidget",
      "model_module_version": "4.7.1",
      "model_name": "FigureModel",
      "state": {
       "_config": {
        "plotlyServerURL": "https://plot.ly"
       },
       "_data": [
        {
         "line": {
          "color": "grey",
          "dash": "dot",
          "width": 2
         },
         "showlegend": false,
         "type": "scatter",
         "uid": "d4c8cf9b-fe81-4564-9886-d0c223e23f01",
         "x": [
          "2018-01-01T00:00:00.000000",
          "2018-01-02T00:00:00.000000",
          "2018-01-03T00:00:00.000000",
          "2018-01-04T00:00:00.000000",
          "2018-01-05T00:00:00.000000"
         ],
         "y": [
          2,
          2,
          2,
          2,
          2
         ]
        },
        {
         "marker": {
          "color": "green",
          "size": 10,
          "symbol": "circle"
         },
         "mode": "markers",
         "name": "a (above)",
         "showlegend": true,
         "type": "scatter",
         "uid": "49f973da-a44a-4a85-b6dd-4f0d7c4c3f65",
         "x": [
          "2018-01-03T00:00:00.000000",
          "2018-01-04T00:00:00.000000"
         ],
         "y": {
          "dtype": "float32",
          "shape": [
           2
          ]
         }
        },
        {
         "marker": {
          "color": "red",
          "size": 10,
          "symbol": "circle"
         },
         "mode": "markers",
         "name": "a (below)",
         "showlegend": true,
         "type": "scatter",
         "uid": "0f43eb70-9c9f-48c2-88ce-8fa1a58cf0d4",
         "x": [
          "2018-01-01T00:00:00.000000"
         ],
         "y": {
          "dtype": "float32",
          "shape": [
           1
          ]
         }
        },
        {
         "marker": {
          "color": "grey",
          "size": 10,
          "symbol": "circle"
         },
         "mode": "markers",
         "name": "a (equal)",
         "showlegend": true,
         "type": "scatter",
         "uid": "d99c16c3-a8e0-4e23-a82c-8c7169fee331",
         "x": [
          "2018-01-02T00:00:00.000000"
         ],
         "y": {
          "dtype": "float32",
          "shape": [
           1
          ]
         }
        }
       ],
       "_js2py_layoutDelta": {},
       "_js2py_pointsCallback": {},
       "_js2py_relayout": {},
       "_js2py_restyle": {},
       "_js2py_traceDeltas": {},
       "_js2py_update": {},
       "_last_layout_edit_id": 6,
       "_last_trace_edit_id": 6,
       "_layout": {
        "autosize": false,
        "colorway": [
         "#1f77b4",
         "#ff7f0e",
         "#2ca02c",
         "#d62728",
         "#9467bd",
         "#8c564b",
         "#e377c2",
         "#7f7f7f",
         "#bcbd22",
         "#17becf"
        ],
        "height": 300,
        "hovermode": "closest",
        "margin": {
         "b": 30,
         "t": 30
        },
        "shapes": [
         {
          "line": {
           "color": "grey",
           "dash": "dot",
           "width": 2
          },
          "type": "line",
          "x0": 0,
          "x1": 1,
          "xref": "paper",
          "y0": 2,
          "y1": 2,
          "yref": "y"
         }
        ],
        "template": {
         "data": {
          "bar": [
           {
            "error_x": {
             "color": "#2a3f5f"
            },
            "error_y": {
             "color": "#2a3f5f"
            },
            "marker": {
             "line": {
              "color": "#E5ECF6",
              "width": 0.5
             }
            },
            "type": "bar"
           }
          ],
          "barpolar": [
           {
            "marker": {
             "line": {
              "color": "#E5ECF6",
              "width": 0.5
             }
            },
            "type": "barpolar"
           }
          ],
          "carpet": [
           {
            "aaxis": {
             "endlinecolor": "#2a3f5f",
             "gridcolor": "white",
             "linecolor": "white",
             "minorgridcolor": "white",
             "startlinecolor": "#2a3f5f"
            },
            "baxis": {
             "endlinecolor": "#2a3f5f",
             "gridcolor": "white",
             "linecolor": "white",
             "minorgridcolor": "white",
             "startlinecolor": "#2a3f5f"
            },
            "type": "carpet"
           }
          ],
          "choropleth": [
           {
            "colorbar": {
             "outlinewidth": 0,
             "ticks": ""
            },
            "type": "choropleth"
           }
          ],
          "contour": [
           {
            "colorbar": {
             "outlinewidth": 0,
             "ticks": ""
            },
            "colorscale": [
             [
              0,
              "#0d0887"
             ],
             [
              0.1111111111111111,
              "#46039f"
             ],
             [
              0.2222222222222222,
              "#7201a8"
             ],
             [
              0.3333333333333333,
              "#9c179e"
             ],
             [
              0.4444444444444444,
              "#bd3786"
             ],
             [
              0.5555555555555556,
              "#d8576b"
             ],
             [
              0.6666666666666666,
              "#ed7953"
             ],
             [
              0.7777777777777778,
              "#fb9f3a"
             ],
             [
              0.8888888888888888,
              "#fdca26"
             ],
             [
              1,
              "#f0f921"
             ]
            ],
            "type": "contour"
           }
          ],
          "contourcarpet": [
           {
            "colorbar": {
             "outlinewidth": 0,
             "ticks": ""
            },
            "type": "contourcarpet"
           }
          ],
          "heatmap": [
           {
            "colorbar": {
             "outlinewidth": 0,
             "ticks": ""
            },
            "colorscale": [
             [
              0,
              "#0d0887"
             ],
             [
              0.1111111111111111,
              "#46039f"
             ],
             [
              0.2222222222222222,
              "#7201a8"
             ],
             [
              0.3333333333333333,
              "#9c179e"
             ],
             [
              0.4444444444444444,
              "#bd3786"
             ],
             [
              0.5555555555555556,
              "#d8576b"
             ],
             [
              0.6666666666666666,
              "#ed7953"
             ],
             [
              0.7777777777777778,
              "#fb9f3a"
             ],
             [
              0.8888888888888888,
              "#fdca26"
             ],
             [
              1,
              "#f0f921"
             ]
            ],
            "type": "heatmap"
           }
          ],
          "heatmapgl": [
           {
            "colorbar": {
             "outlinewidth": 0,
             "ticks": ""
            },
            "colorscale": [
             [
              0,
              "#0d0887"
             ],
             [
              0.1111111111111111,
              "#46039f"
             ],
             [
              0.2222222222222222,
              "#7201a8"
             ],
             [
              0.3333333333333333,
              "#9c179e"
             ],
             [
              0.4444444444444444,
              "#bd3786"
             ],
             [
              0.5555555555555556,
              "#d8576b"
             ],
             [
              0.6666666666666666,
              "#ed7953"
             ],
             [
              0.7777777777777778,
              "#fb9f3a"
             ],
             [
              0.8888888888888888,
              "#fdca26"
             ],
             [
              1,
              "#f0f921"
             ]
            ],
            "type": "heatmapgl"
           }
          ],
          "histogram": [
           {
            "marker": {
             "colorbar": {
              "outlinewidth": 0,
              "ticks": ""
             }
            },
            "type": "histogram"
           }
          ],
          "histogram2d": [
           {
            "colorbar": {
             "outlinewidth": 0,
             "ticks": ""
            },
            "colorscale": [
             [
              0,
              "#0d0887"
             ],
             [
              0.1111111111111111,
              "#46039f"
             ],
             [
              0.2222222222222222,
              "#7201a8"
             ],
             [
              0.3333333333333333,
              "#9c179e"
             ],
             [
              0.4444444444444444,
              "#bd3786"
             ],
             [
              0.5555555555555556,
              "#d8576b"
             ],
             [
              0.6666666666666666,
              "#ed7953"
             ],
             [
              0.7777777777777778,
              "#fb9f3a"
             ],
             [
              0.8888888888888888,
              "#fdca26"
             ],
             [
              1,
              "#f0f921"
             ]
            ],
            "type": "histogram2d"
           }
          ],
          "histogram2dcontour": [
           {
            "colorbar": {
             "outlinewidth": 0,
             "ticks": ""
            },
            "colorscale": [
             [
              0,
              "#0d0887"
             ],
             [
              0.1111111111111111,
              "#46039f"
             ],
             [
              0.2222222222222222,
              "#7201a8"
             ],
             [
              0.3333333333333333,
              "#9c179e"
             ],
             [
              0.4444444444444444,
              "#bd3786"
             ],
             [
              0.5555555555555556,
              "#d8576b"
             ],
             [
              0.6666666666666666,
              "#ed7953"
             ],
             [
              0.7777777777777778,
              "#fb9f3a"
             ],
             [
              0.8888888888888888,
              "#fdca26"
             ],
             [
              1,
              "#f0f921"
             ]
            ],
            "type": "histogram2dcontour"
           }
          ],
          "mesh3d": [
           {
            "colorbar": {
             "outlinewidth": 0,
             "ticks": ""
            },
            "type": "mesh3d"
           }
          ],
          "parcoords": [
           {
            "line": {
             "colorbar": {
              "outlinewidth": 0,
              "ticks": ""
             }
            },
            "type": "parcoords"
           }
          ],
          "pie": [
           {
            "automargin": true,
            "type": "pie"
           }
          ],
          "scatter": [
           {
            "marker": {
             "colorbar": {
              "outlinewidth": 0,
              "ticks": ""
             }
            },
            "type": "scatter"
           }
          ],
          "scatter3d": [
           {
            "line": {
             "colorbar": {
              "outlinewidth": 0,
              "ticks": ""
             }
            },
            "marker": {
             "colorbar": {
              "outlinewidth": 0,
              "ticks": ""
             }
            },
            "type": "scatter3d"
           }
          ],
          "scattercarpet": [
           {
            "marker": {
             "colorbar": {
              "outlinewidth": 0,
              "ticks": ""
             }
            },
            "type": "scattercarpet"
           }
          ],
          "scattergeo": [
           {
            "marker": {
             "colorbar": {
              "outlinewidth": 0,
              "ticks": ""
             }
            },
            "type": "scattergeo"
           }
          ],
          "scattergl": [
           {
            "marker": {
             "colorbar": {
              "outlinewidth": 0,
              "ticks": ""
             }
            },
            "type": "scattergl"
           }
          ],
          "scattermapbox": [
           {
            "marker": {
             "colorbar": {
              "outlinewidth": 0,
              "ticks": ""
             }
            },
            "type": "scattermapbox"
           }
          ],
          "scatterpolar": [
           {
            "marker": {
             "colorbar": {
              "outlinewidth": 0,
              "ticks": ""
             }
            },
            "type": "scatterpolar"
           }
          ],
          "scatterpolargl": [
           {
            "marker": {
             "colorbar": {
              "outlinewidth": 0,
              "ticks": ""
             }
            },
            "type": "scatterpolargl"
           }
          ],
          "scatterternary": [
           {
            "marker": {
             "colorbar": {
              "outlinewidth": 0,
              "ticks": ""
             }
            },
            "type": "scatterternary"
           }
          ],
          "surface": [
           {
            "colorbar": {
             "outlinewidth": 0,
             "ticks": ""
            },
            "colorscale": [
             [
              0,
              "#0d0887"
             ],
             [
              0.1111111111111111,
              "#46039f"
             ],
             [
              0.2222222222222222,
              "#7201a8"
             ],
             [
              0.3333333333333333,
              "#9c179e"
             ],
             [
              0.4444444444444444,
              "#bd3786"
             ],
             [
              0.5555555555555556,
              "#d8576b"
             ],
             [
              0.6666666666666666,
              "#ed7953"
             ],
             [
              0.7777777777777778,
              "#fb9f3a"
             ],
             [
              0.8888888888888888,
              "#fdca26"
             ],
             [
              1,
              "#f0f921"
             ]
            ],
            "type": "surface"
           }
          ],
          "table": [
           {
            "cells": {
             "fill": {
              "color": "#EBF0F8"
             },
             "line": {
              "color": "white"
             }
            },
            "header": {
             "fill": {
              "color": "#C8D4E3"
             },
             "line": {
              "color": "white"
             }
            },
            "type": "table"
           }
          ]
         },
         "layout": {
          "annotationdefaults": {
           "arrowcolor": "#2a3f5f",
           "arrowhead": 0,
           "arrowwidth": 1
          },
          "coloraxis": {
           "colorbar": {
            "outlinewidth": 0,
            "ticks": ""
           }
          },
          "colorscale": {
           "diverging": [
            [
             0,
             "#8e0152"
            ],
            [
             0.1,
             "#c51b7d"
            ],
            [
             0.2,
             "#de77ae"
            ],
            [
             0.3,
             "#f1b6da"
            ],
            [
             0.4,
             "#fde0ef"
            ],
            [
             0.5,
             "#f7f7f7"
            ],
            [
             0.6,
             "#e6f5d0"
            ],
            [
             0.7,
             "#b8e186"
            ],
            [
             0.8,
             "#7fbc41"
            ],
            [
             0.9,
             "#4d9221"
            ],
            [
             1,
             "#276419"
            ]
           ],
           "sequential": [
            [
             0,
             "#0d0887"
            ],
            [
             0.1111111111111111,
             "#46039f"
            ],
            [
             0.2222222222222222,
             "#7201a8"
            ],
            [
             0.3333333333333333,
             "#9c179e"
            ],
            [
             0.4444444444444444,
             "#bd3786"
            ],
            [
             0.5555555555555556,
             "#d8576b"
            ],
            [
             0.6666666666666666,
             "#ed7953"
            ],
            [
             0.7777777777777778,
             "#fb9f3a"
            ],
            [
             0.8888888888888888,
             "#fdca26"
            ],
            [
             1,
             "#f0f921"
            ]
           ],
           "sequentialminus": [
            [
             0,
             "#0d0887"
            ],
            [
             0.1111111111111111,
             "#46039f"
            ],
            [
             0.2222222222222222,
             "#7201a8"
            ],
            [
             0.3333333333333333,
             "#9c179e"
            ],
            [
             0.4444444444444444,
             "#bd3786"
            ],
            [
             0.5555555555555556,
             "#d8576b"
            ],
            [
             0.6666666666666666,
             "#ed7953"
            ],
            [
             0.7777777777777778,
             "#fb9f3a"
            ],
            [
             0.8888888888888888,
             "#fdca26"
            ],
            [
             1,
             "#f0f921"
            ]
           ]
          },
          "colorway": [
           "#636efa",
           "#EF553B",
           "#00cc96",
           "#ab63fa",
           "#FFA15A",
           "#19d3f3",
           "#FF6692",
           "#B6E880",
           "#FF97FF",
           "#FECB52"
          ],
          "font": {
           "color": "#2a3f5f"
          },
          "geo": {
           "bgcolor": "white",
           "lakecolor": "white",
           "landcolor": "#E5ECF6",
           "showlakes": true,
           "showland": true,
           "subunitcolor": "white"
          },
          "hoverlabel": {
           "align": "left"
          },
          "hovermode": "closest",
          "mapbox": {
           "style": "light"
          },
          "paper_bgcolor": "white",
          "plot_bgcolor": "#E5ECF6",
          "polar": {
           "angularaxis": {
            "gridcolor": "white",
            "linecolor": "white",
            "ticks": ""
           },
           "bgcolor": "#E5ECF6",
           "radialaxis": {
            "gridcolor": "white",
            "linecolor": "white",
            "ticks": ""
           }
          },
          "scene": {
           "xaxis": {
            "backgroundcolor": "#E5ECF6",
            "gridcolor": "white",
            "gridwidth": 2,
            "linecolor": "white",
            "showbackground": true,
            "ticks": "",
            "zerolinecolor": "white"
           },
           "yaxis": {
            "backgroundcolor": "#E5ECF6",
            "gridcolor": "white",
            "gridwidth": 2,
            "linecolor": "white",
            "showbackground": true,
            "ticks": "",
            "zerolinecolor": "white"
           },
           "zaxis": {
            "backgroundcolor": "#E5ECF6",
            "gridcolor": "white",
            "gridwidth": 2,
            "linecolor": "white",
            "showbackground": true,
            "ticks": "",
            "zerolinecolor": "white"
           }
          },
          "shapedefaults": {
           "line": {
            "color": "#2a3f5f"
           }
          },
          "ternary": {
           "aaxis": {
            "gridcolor": "white",
            "linecolor": "white",
            "ticks": ""
           },
           "baxis": {
            "gridcolor": "white",
            "linecolor": "white",
            "ticks": ""
           },
           "bgcolor": "#E5ECF6",
           "caxis": {
            "gridcolor": "white",
            "linecolor": "white",
            "ticks": ""
           }
          },
          "title": {
           "x": 0.05
          },
          "xaxis": {
           "automargin": true,
           "gridcolor": "white",
           "linecolor": "white",
           "ticks": "",
           "title": {
            "standoff": 15
           },
           "zerolinecolor": "white",
           "zerolinewidth": 2
          },
          "yaxis": {
           "automargin": true,
           "gridcolor": "white",
           "linecolor": "white",
           "ticks": "",
           "title": {
            "standoff": 15
           },
           "zerolinecolor": "white",
           "zerolinewidth": 2
          }
         }
        },
        "width": 700,
        "yaxis": {
         "range": [
          -2.8,
          6.8
         ]
        }
       },
       "_model_module_version": "4.7.1",
       "_py2js_animate": {},
       "_py2js_deleteTraces": {},
       "_py2js_moveTraces": {},
       "_py2js_removeLayoutProps": {},
       "_py2js_removeTraceProps": {},
       "_py2js_restyle": {},
       "_view_count": 0,
       "_view_module_version": "4.7.1"
      }
     }
    },
    "version_major": 2,
    "version_minor": 0
   }
  }
 },
 "nbformat": 4,
 "nbformat_minor": 4
}
