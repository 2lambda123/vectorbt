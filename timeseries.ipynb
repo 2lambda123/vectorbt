{
 "cells": [
  {
   "cell_type": "markdown",
   "metadata": {},
   "source": [
    "# timeseries"
   ]
  },
  {
   "cell_type": "code",
   "execution_count": 1,
   "metadata": {},
   "outputs": [],
   "source": [
    "import vectorbt as vbt"
   ]
  },
  {
   "cell_type": "code",
   "execution_count": 2,
   "metadata": {
    "Collapsed": "false"
   },
   "outputs": [],
   "source": [
    "import numpy as np\n",
    "import pandas as pd\n",
    "from datetime import datetime, timedelta\n",
    "from numba import njit, f8, i8, b1, optional"
   ]
  },
  {
   "cell_type": "code",
   "execution_count": 3,
   "metadata": {},
   "outputs": [
    {
     "name": "stdout",
     "output_type": "stream",
     "text": [
      "              a    b    c\n",
      "2018-01-01  1.0  NaN  1.0\n",
      "2018-01-02  2.0  4.0  2.0\n",
      "2018-01-03  3.0  3.0  NaN\n",
      "2018-01-04  4.0  2.0  2.0\n",
      "2018-01-05  NaN  1.0  1.0\n"
     ]
    }
   ],
   "source": [
    "index = pd.Index([\n",
    "    datetime(2018, 1, 1),\n",
    "    datetime(2018, 1, 2),\n",
    "    datetime(2018, 1, 3),\n",
    "    datetime(2018, 1, 4),\n",
    "    datetime(2018, 1, 5)\n",
    "])\n",
    "columns = ['a', 'b', 'c']\n",
    "ts = pd.DataFrame({\n",
    "    'a': [1, 2, 3, 4, np.nan], \n",
    "    'b': [np.nan, 4, 3, 2, 1],\n",
    "    'c': [1, 2, np.nan, 2, 1]}, index=index).astype(np.float32)\n",
    "\n",
    "print(ts)"
   ]
  },
  {
   "cell_type": "code",
   "execution_count": 4,
   "metadata": {},
   "outputs": [
    {
     "data": {
      "text/plain": [
       "(1000, 1000)"
      ]
     },
     "execution_count": 4,
     "metadata": {},
     "output_type": "execute_result"
    }
   ],
   "source": [
    "big_ts = pd.DataFrame(np.random.randint(10, size=(1000, 1000)).astype(float))\n",
    "big_ts.index = [datetime(2018, 1, 1) + timedelta(days=i) for i in range(1000)]\n",
    "big_ts.shape"
   ]
  },
  {
   "cell_type": "code",
   "execution_count": 5,
   "metadata": {
    "Collapsed": "false"
   },
   "outputs": [
    {
     "name": "stdout",
     "output_type": "stream",
     "text": [
      "              a    b    c\n",
      "2018-01-01  1.0 -1.0  1.0\n",
      "2018-01-02  2.0  4.0  2.0\n",
      "2018-01-03  3.0  3.0 -1.0\n",
      "2018-01-04  4.0  2.0  2.0\n",
      "2018-01-05 -1.0  1.0  1.0\n",
      "6.93 ms ± 211 µs per loop (mean ± std. dev. of 7 runs, 100 loops each)\n",
      "              a    b    c\n",
      "2018-01-01  1.0 -1.0  1.0\n",
      "2018-01-02  2.0  4.0  2.0\n",
      "2018-01-03  3.0  3.0 -1.0\n",
      "2018-01-04  4.0  2.0  2.0\n",
      "2018-01-05 -1.0  1.0  1.0\n",
      "4.61 ms ± 203 µs per loop (mean ± std. dev. of 7 runs, 1 loop each)\n"
     ]
    }
   ],
   "source": [
    "print(ts.fillna(-1))\n",
    "%timeit big_ts.fillna(-1)\n",
    "\n",
    "print(ts.vbt.timeseries.fillna(-1))\n",
    "%timeit big_ts.vbt.timeseries.fillna(-1)"
   ]
  },
  {
   "cell_type": "code",
   "execution_count": 6,
   "metadata": {
    "Collapsed": "false"
   },
   "outputs": [
    {
     "name": "stdout",
     "output_type": "stream",
     "text": [
      "              a    b    c\n",
      "2018-01-01  NaN  NaN  NaN\n",
      "2018-01-02  NaN  NaN  NaN\n",
      "2018-01-03  NaN  NaN  NaN\n",
      "2018-01-04  1.0  NaN  1.0\n",
      "2018-01-05  2.0  4.0  2.0\n",
      "2.72 ms ± 96.2 µs per loop (mean ± std. dev. of 7 runs, 100 loops each)\n",
      "              a    b    c\n",
      "2018-01-01  NaN  NaN  NaN\n",
      "2018-01-02  NaN  NaN  NaN\n",
      "2018-01-03  NaN  NaN  NaN\n",
      "2018-01-04  1.0  NaN  1.0\n",
      "2018-01-05  2.0  4.0  2.0\n",
      "2.82 ms ± 158 µs per loop (mean ± std. dev. of 7 runs, 1 loop each)\n"
     ]
    }
   ],
   "source": [
    "print(ts.shift(3))\n",
    "%timeit big_ts.shift(3)\n",
    "\n",
    "print(ts.vbt.timeseries.fshift(3))\n",
    "%timeit big_ts.vbt.timeseries.fshift(3)"
   ]
  },
  {
   "cell_type": "code",
   "execution_count": 7,
   "metadata": {},
   "outputs": [
    {
     "name": "stdout",
     "output_type": "stream",
     "text": [
      "              a    b    c\n",
      "2018-01-01  NaN  NaN  NaN\n",
      "2018-01-02  1.0  NaN  1.0\n",
      "2018-01-03  1.0 -1.0  NaN\n",
      "2018-01-04  1.0 -1.0  NaN\n",
      "2018-01-05  NaN -1.0 -1.0\n",
      "5.68 ms ± 291 µs per loop (mean ± std. dev. of 7 runs, 100 loops each)\n",
      "              a    b    c\n",
      "2018-01-01  NaN  NaN  NaN\n",
      "2018-01-02  1.0  NaN  1.0\n",
      "2018-01-03  1.0 -1.0  NaN\n",
      "2018-01-04  1.0 -1.0  NaN\n",
      "2018-01-05  NaN -1.0 -1.0\n",
      "5.62 ms ± 454 µs per loop (mean ± std. dev. of 7 runs, 1 loop each)\n"
     ]
    }
   ],
   "source": [
    "print(ts.diff())\n",
    "%timeit big_ts.diff()\n",
    "\n",
    "print(ts.vbt.timeseries.diff())\n",
    "%timeit big_ts.vbt.timeseries.diff()"
   ]
  },
  {
   "cell_type": "code",
   "execution_count": 8,
   "metadata": {
    "Collapsed": "false"
   },
   "outputs": [
    {
     "name": "stdout",
     "output_type": "stream",
     "text": [
      "                   a         b    c\n",
      "2018-01-01       NaN       NaN  NaN\n",
      "2018-01-02  1.000000       NaN  1.0\n",
      "2018-01-03  0.500000 -0.250000  0.0\n",
      "2018-01-04  0.333333 -0.333333  0.0\n",
      "2018-01-05  0.000000 -0.500000 -0.5\n",
      "350 ms ± 19 ms per loop (mean ± std. dev. of 7 runs, 1 loop each)\n",
      "                   a         b    c\n",
      "2018-01-01       NaN       NaN  NaN\n",
      "2018-01-02  1.000000       NaN  1.0\n",
      "2018-01-03  0.500000 -0.250000  NaN\n",
      "2018-01-04  0.333333 -0.333333  NaN\n",
      "2018-01-05       NaN -0.500000 -0.5\n",
      "6.03 ms ± 1.12 ms per loop (mean ± std. dev. of 7 runs, 1 loop each)\n"
     ]
    }
   ],
   "source": [
    "print(ts.pct_change())\n",
    "%timeit big_ts.pct_change()\n",
    "\n",
    "print(ts.vbt.timeseries.pct_change())\n",
    "%timeit big_ts.vbt.timeseries.pct_change()"
   ]
  },
  {
   "cell_type": "code",
   "execution_count": 9,
   "metadata": {
    "Collapsed": "false"
   },
   "outputs": [
    {
     "name": "stdout",
     "output_type": "stream",
     "text": [
      "              a    b    c\n",
      "2018-01-01  1.0  NaN  1.0\n",
      "2018-01-02  2.0  4.0  2.0\n",
      "2018-01-03  3.0  3.0  2.0\n",
      "2018-01-04  4.0  2.0  2.0\n",
      "2018-01-05  4.0  1.0  1.0\n",
      "6.95 ms ± 367 µs per loop (mean ± std. dev. of 7 runs, 100 loops each)\n",
      "              a    b    c\n",
      "2018-01-01  1.0  NaN  1.0\n",
      "2018-01-02  2.0  4.0  2.0\n",
      "2018-01-03  3.0  3.0  2.0\n",
      "2018-01-04  4.0  2.0  2.0\n",
      "2018-01-05  4.0  1.0  1.0\n",
      "8.88 ms ± 1.04 ms per loop (mean ± std. dev. of 7 runs, 1 loop each)\n"
     ]
    }
   ],
   "source": [
    "print(ts.ffill())\n",
    "%timeit big_ts.ffill()\n",
    "\n",
    "print(ts.vbt.timeseries.ffill())\n",
    "%timeit big_ts.vbt.timeseries.ffill()"
   ]
  },
  {
   "cell_type": "code",
   "execution_count": 10,
   "metadata": {},
   "outputs": [
    {
     "data": {
      "text/html": [
       "<div>\n",
       "<style scoped>\n",
       "    .dataframe tbody tr th:only-of-type {\n",
       "        vertical-align: middle;\n",
       "    }\n",
       "\n",
       "    .dataframe tbody tr th {\n",
       "        vertical-align: top;\n",
       "    }\n",
       "\n",
       "    .dataframe thead th {\n",
       "        text-align: right;\n",
       "    }\n",
       "</style>\n",
       "<table border=\"1\" class=\"dataframe\">\n",
       "  <thead>\n",
       "    <tr style=\"text-align: right;\">\n",
       "      <th></th>\n",
       "      <th>a</th>\n",
       "      <th>b</th>\n",
       "      <th>c</th>\n",
       "    </tr>\n",
       "  </thead>\n",
       "  <tbody>\n",
       "    <tr>\n",
       "      <th>2018-01-01</th>\n",
       "      <td>1.0</td>\n",
       "      <td>NaN</td>\n",
       "      <td>1.0</td>\n",
       "    </tr>\n",
       "    <tr>\n",
       "      <th>2018-01-02</th>\n",
       "      <td>2.0</td>\n",
       "      <td>4.0</td>\n",
       "      <td>2.0</td>\n",
       "    </tr>\n",
       "    <tr>\n",
       "      <th>2018-01-03</th>\n",
       "      <td>3.0</td>\n",
       "      <td>3.0</td>\n",
       "      <td>NaN</td>\n",
       "    </tr>\n",
       "    <tr>\n",
       "      <th>2018-01-04</th>\n",
       "      <td>4.0</td>\n",
       "      <td>2.0</td>\n",
       "      <td>2.0</td>\n",
       "    </tr>\n",
       "    <tr>\n",
       "      <th>2018-01-05</th>\n",
       "      <td>NaN</td>\n",
       "      <td>1.0</td>\n",
       "      <td>1.0</td>\n",
       "    </tr>\n",
       "  </tbody>\n",
       "</table>\n",
       "</div>"
      ],
      "text/plain": [
       "              a    b    c\n",
       "2018-01-01  1.0  NaN  1.0\n",
       "2018-01-02  2.0  4.0  2.0\n",
       "2018-01-03  3.0  3.0  NaN\n",
       "2018-01-04  4.0  2.0  2.0\n",
       "2018-01-05  NaN  1.0  1.0"
      ]
     },
     "execution_count": 10,
     "metadata": {},
     "output_type": "execute_result"
    }
   ],
   "source": [
    "ts"
   ]
  },
  {
   "cell_type": "code",
   "execution_count": 11,
   "metadata": {},
   "outputs": [
    {
     "name": "stdout",
     "output_type": "stream",
     "text": [
      "               a     b    c\n",
      "2018-01-01   1.0   NaN  1.0\n",
      "2018-01-02   3.0   4.0  3.0\n",
      "2018-01-03   6.0   7.0  NaN\n",
      "2018-01-04  10.0   9.0  5.0\n",
      "2018-01-05   NaN  10.0  6.0\n",
      "12.3 ms ± 205 µs per loop (mean ± std. dev. of 7 runs, 100 loops each)\n",
      "               a     b    c\n",
      "2018-01-01   1.0   NaN  1.0\n",
      "2018-01-02   3.0   4.0  3.0\n",
      "2018-01-03   6.0   7.0  NaN\n",
      "2018-01-04  10.0   9.0  5.0\n",
      "2018-01-05   NaN  10.0  6.0\n",
      "9.16 ms ± 465 µs per loop (mean ± std. dev. of 7 runs, 1 loop each)\n"
     ]
    }
   ],
   "source": [
    "print(ts.cumsum())\n",
    "%timeit big_ts.cumsum()\n",
    "\n",
    "print(ts.vbt.timeseries.cumsum())\n",
    "%timeit big_ts.vbt.timeseries.cumsum()"
   ]
  },
  {
   "cell_type": "code",
   "execution_count": 12,
   "metadata": {},
   "outputs": [
    {
     "name": "stdout",
     "output_type": "stream",
     "text": [
      "               a     b    c\n",
      "2018-01-01   1.0   NaN  1.0\n",
      "2018-01-02   2.0   4.0  2.0\n",
      "2018-01-03   6.0  12.0  NaN\n",
      "2018-01-04  24.0  24.0  4.0\n",
      "2018-01-05   NaN  24.0  4.0\n",
      "11.9 ms ± 80.1 µs per loop (mean ± std. dev. of 7 runs, 100 loops each)\n",
      "               a     b    c\n",
      "2018-01-01   1.0   NaN  1.0\n",
      "2018-01-02   2.0   4.0  2.0\n",
      "2018-01-03   6.0  12.0  NaN\n",
      "2018-01-04  24.0  24.0  4.0\n",
      "2018-01-05   NaN  24.0  4.0\n",
      "8.89 ms ± 313 µs per loop (mean ± std. dev. of 7 runs, 1 loop each)\n"
     ]
    }
   ],
   "source": [
    "print(ts.cumprod())\n",
    "%timeit big_ts.cumprod()\n",
    "\n",
    "print(ts.vbt.timeseries.cumprod())\n",
    "%timeit big_ts.vbt.timeseries.cumprod()"
   ]
  },
  {
   "cell_type": "code",
   "execution_count": 13,
   "metadata": {},
   "outputs": [
    {
     "name": "stdout",
     "output_type": "stream",
     "text": [
      "              a    b    c\n",
      "2018-01-01  NaN  NaN  NaN\n",
      "2018-01-02  1.0  NaN  1.0\n",
      "2018-01-03  2.0  3.0  NaN\n",
      "2018-01-04  3.0  2.0  NaN\n",
      "2018-01-05  NaN  1.0  1.0\n",
      "42.7 ms ± 1.51 ms per loop (mean ± std. dev. of 7 runs, 10 loops each)\n",
      "              a    b    c\n",
      "2018-01-01  NaN  NaN  NaN\n",
      "2018-01-02  1.0  NaN  1.0\n",
      "2018-01-03  2.0  3.0  NaN\n",
      "2018-01-04  3.0  2.0  NaN\n",
      "2018-01-05  NaN  1.0  1.0\n",
      "14.2 ms ± 598 µs per loop (mean ± std. dev. of 7 runs, 1 loop each)\n"
     ]
    }
   ],
   "source": [
    "print(ts.rolling(2).min())\n",
    "%timeit big_ts.rolling(2).min()\n",
    "\n",
    "print(ts.vbt.timeseries.rolling_min(2))\n",
    "%timeit big_ts.vbt.timeseries.rolling_min(2)"
   ]
  },
  {
   "cell_type": "code",
   "execution_count": 14,
   "metadata": {},
   "outputs": [
    {
     "name": "stdout",
     "output_type": "stream",
     "text": [
      "              a    b    c\n",
      "2018-01-01  NaN  NaN  NaN\n",
      "2018-01-02  2.0  NaN  2.0\n",
      "2018-01-03  3.0  4.0  NaN\n",
      "2018-01-04  4.0  3.0  NaN\n",
      "2018-01-05  NaN  2.0  2.0\n",
      "41.9 ms ± 657 µs per loop (mean ± std. dev. of 7 runs, 10 loops each)\n",
      "              a    b    c\n",
      "2018-01-01  NaN  NaN  NaN\n",
      "2018-01-02  2.0  NaN  2.0\n",
      "2018-01-03  3.0  4.0  NaN\n",
      "2018-01-04  4.0  3.0  NaN\n",
      "2018-01-05  NaN  2.0  2.0\n",
      "14.3 ms ± 561 µs per loop (mean ± std. dev. of 7 runs, 1 loop each)\n"
     ]
    }
   ],
   "source": [
    "print(ts.rolling(2).max())\n",
    "%timeit big_ts.rolling(2).max()\n",
    "\n",
    "print(ts.vbt.timeseries.rolling_max(2))\n",
    "%timeit big_ts.vbt.timeseries.rolling_max(2)"
   ]
  },
  {
   "cell_type": "code",
   "execution_count": 15,
   "metadata": {
    "Collapsed": "false"
   },
   "outputs": [
    {
     "name": "stdout",
     "output_type": "stream",
     "text": [
      "              a    b    c\n",
      "2018-01-01  NaN  NaN  NaN\n",
      "2018-01-02  1.5  NaN  1.5\n",
      "2018-01-03  2.5  3.5  NaN\n",
      "2018-01-04  3.5  2.5  NaN\n",
      "2018-01-05  NaN  1.5  1.5\n",
      "30 ms ± 664 µs per loop (mean ± std. dev. of 7 runs, 10 loops each)\n",
      "              a    b    c\n",
      "2018-01-01  NaN  NaN  NaN\n",
      "2018-01-02  1.5  NaN  1.5\n",
      "2018-01-03  2.5  3.5  NaN\n",
      "2018-01-04  3.5  2.5  NaN\n",
      "2018-01-05  NaN  1.5  1.5\n",
      "15.3 ms ± 755 µs per loop (mean ± std. dev. of 7 runs, 1 loop each)\n"
     ]
    }
   ],
   "source": [
    "print(ts.rolling(2).mean())\n",
    "%timeit big_ts.rolling(2).mean()\n",
    "\n",
    "print(ts.vbt.timeseries.rolling_mean(2))\n",
    "%timeit big_ts.vbt.timeseries.rolling_mean(2)"
   ]
  },
  {
   "cell_type": "code",
   "execution_count": 16,
   "metadata": {},
   "outputs": [
    {
     "name": "stdout",
     "output_type": "stream",
     "text": [
      "                   a         b         c\n",
      "2018-01-01       NaN       NaN       NaN\n",
      "2018-01-02  0.707107       NaN  0.707107\n",
      "2018-01-03  0.707107  0.707107       NaN\n",
      "2018-01-04  0.707107  0.707107       NaN\n",
      "2018-01-05       NaN  0.707107  0.707107\n",
      "55.5 ms ± 761 µs per loop (mean ± std. dev. of 7 runs, 10 loops each)\n",
      "                   a         b         c\n",
      "2018-01-01       NaN       NaN       NaN\n",
      "2018-01-02  0.707107       NaN  0.707107\n",
      "2018-01-03  0.707107  0.707107       NaN\n",
      "2018-01-04  0.707107  0.707107       NaN\n",
      "2018-01-05       NaN  0.707107  0.707107\n",
      "17 ms ± 386 µs per loop (mean ± std. dev. of 7 runs, 1 loop each)\n"
     ]
    }
   ],
   "source": [
    "print(ts.rolling(2).std())\n",
    "%timeit big_ts.rolling(2).std()\n",
    "\n",
    "print(ts.vbt.timeseries.rolling_std(2))\n",
    "%timeit big_ts.vbt.timeseries.rolling_std(2)"
   ]
  },
  {
   "cell_type": "code",
   "execution_count": 17,
   "metadata": {
    "Collapsed": "false"
   },
   "outputs": [
    {
     "name": "stdout",
     "output_type": "stream",
     "text": [
      "                   a         b         c\n",
      "2018-01-01       NaN       NaN       NaN\n",
      "2018-01-02  1.750000       NaN  1.750000\n",
      "2018-01-03  2.615385  3.250000  1.750000\n",
      "2018-01-04  3.550000  2.384615  1.967742\n",
      "2018-01-05  3.550000  1.450000  1.267857\n",
      "85.9 ms ± 1.49 ms per loop (mean ± std. dev. of 7 runs, 10 loops each)\n",
      "                   a         b         c\n",
      "2018-01-01       NaN       NaN       NaN\n",
      "2018-01-02  1.750000       NaN  1.750000\n",
      "2018-01-03  2.615385  3.250000  1.750000\n",
      "2018-01-04  3.550000  2.384615  1.967742\n",
      "2018-01-05  3.550000  1.450000  1.267857\n",
      "13.3 ms ± 208 µs per loop (mean ± std. dev. of 7 runs, 1 loop each)\n"
     ]
    }
   ],
   "source": [
    "print(ts.ewm(span=2, min_periods=2).mean())\n",
    "%timeit big_ts.ewm(span=2, min_periods=2).mean()\n",
    "\n",
    "print(ts.vbt.timeseries.ewm_mean(2))\n",
    "%timeit big_ts.vbt.timeseries.ewm_mean(2)"
   ]
  },
  {
   "cell_type": "code",
   "execution_count": 18,
   "metadata": {},
   "outputs": [
    {
     "name": "stdout",
     "output_type": "stream",
     "text": [
      "                   a         b         c\n",
      "2018-01-01       NaN       NaN       NaN\n",
      "2018-01-02  0.707107       NaN  0.707107\n",
      "2018-01-03  0.919866  0.707107  0.707107\n",
      "2018-01-04  1.059753  0.919866  0.367607\n",
      "2018-01-05  1.059753  1.059753  0.684914\n",
      "480 ms ± 7.47 ms per loop (mean ± std. dev. of 7 runs, 1 loop each)\n",
      "                   a         b         c\n",
      "2018-01-01       NaN       NaN       NaN\n",
      "2018-01-02  0.707107       NaN  0.707107\n",
      "2018-01-03  0.919866  0.707107  0.707107\n",
      "2018-01-04  1.059753  0.919866  0.367607\n",
      "2018-01-05  1.059753  1.059753  0.684914\n",
      "24.5 ms ± 1.81 ms per loop (mean ± std. dev. of 7 runs, 1 loop each)\n"
     ]
    }
   ],
   "source": [
    "print(ts.ewm(span=2, min_periods=2).std())\n",
    "%timeit big_ts.ewm(span=2, min_periods=2).std()\n",
    "\n",
    "print(ts.vbt.timeseries.ewm_std(2))\n",
    "%timeit big_ts.vbt.timeseries.ewm_std(2)"
   ]
  },
  {
   "cell_type": "code",
   "execution_count": 19,
   "metadata": {},
   "outputs": [
    {
     "name": "stdout",
     "output_type": "stream",
     "text": [
      "              a    b    c\n",
      "2018-01-01  1.0  NaN  1.0\n",
      "2018-01-02  1.0  4.0  1.0\n",
      "2018-01-03  1.0  3.0  1.0\n",
      "2018-01-04  1.0  2.0  1.0\n",
      "2018-01-05  1.0  1.0  1.0\n",
      "47.4 ms ± 1.47 ms per loop (mean ± std. dev. of 7 runs, 10 loops each)\n",
      "              a    b    c\n",
      "2018-01-01  1.0  NaN  1.0\n",
      "2018-01-02  1.0  4.0  1.0\n",
      "2018-01-03  1.0  3.0  1.0\n",
      "2018-01-04  1.0  2.0  1.0\n",
      "2018-01-05  1.0  1.0  1.0\n",
      "9.38 ms ± 670 µs per loop (mean ± std. dev. of 7 runs, 1 loop each)\n"
     ]
    }
   ],
   "source": [
    "print(ts.expanding().min())\n",
    "%timeit big_ts.expanding().min()\n",
    "\n",
    "print(ts.vbt.timeseries.expanding_min())\n",
    "%timeit big_ts.vbt.timeseries.expanding_min()"
   ]
  },
  {
   "cell_type": "code",
   "execution_count": 20,
   "metadata": {},
   "outputs": [
    {
     "name": "stdout",
     "output_type": "stream",
     "text": [
      "              a    b    c\n",
      "2018-01-01  1.0  NaN  1.0\n",
      "2018-01-02  2.0  4.0  2.0\n",
      "2018-01-03  3.0  4.0  2.0\n",
      "2018-01-04  4.0  4.0  2.0\n",
      "2018-01-05  4.0  4.0  2.0\n",
      "47.3 ms ± 1.18 ms per loop (mean ± std. dev. of 7 runs, 10 loops each)\n",
      "              a    b    c\n",
      "2018-01-01  1.0  NaN  1.0\n",
      "2018-01-02  2.0  4.0  2.0\n",
      "2018-01-03  3.0  4.0  2.0\n",
      "2018-01-04  4.0  4.0  2.0\n",
      "2018-01-05  4.0  4.0  2.0\n",
      "9.08 ms ± 364 µs per loop (mean ± std. dev. of 7 runs, 1 loop each)\n"
     ]
    }
   ],
   "source": [
    "print(ts.expanding().max())\n",
    "%timeit big_ts.expanding().max()\n",
    "\n",
    "print(ts.vbt.timeseries.expanding_max())\n",
    "%timeit big_ts.vbt.timeseries.expanding_max()"
   ]
  },
  {
   "cell_type": "code",
   "execution_count": 21,
   "metadata": {},
   "outputs": [
    {
     "name": "stdout",
     "output_type": "stream",
     "text": [
      "              a    b         c\n",
      "2018-01-01  1.0  NaN  1.000000\n",
      "2018-01-02  1.5  4.0  1.500000\n",
      "2018-01-03  2.0  3.5  1.500000\n",
      "2018-01-04  2.5  3.0  1.666667\n",
      "2018-01-05  2.5  2.5  1.500000\n",
      "30.2 ms ± 981 µs per loop (mean ± std. dev. of 7 runs, 10 loops each)\n",
      "              a    b         c\n",
      "2018-01-01  1.0  NaN  1.000000\n",
      "2018-01-02  1.5  4.0  1.500000\n",
      "2018-01-03  2.0  3.5  1.500000\n",
      "2018-01-04  2.5  3.0  1.666667\n",
      "2018-01-05  2.5  2.5  1.500000\n",
      "15.3 ms ± 903 µs per loop (mean ± std. dev. of 7 runs, 1 loop each)\n"
     ]
    }
   ],
   "source": [
    "print(ts.expanding().mean())\n",
    "%timeit big_ts.expanding().mean()\n",
    "\n",
    "print(ts.vbt.timeseries.expanding_mean())\n",
    "%timeit big_ts.vbt.timeseries.expanding_mean()"
   ]
  },
  {
   "cell_type": "code",
   "execution_count": 22,
   "metadata": {},
   "outputs": [
    {
     "name": "stdout",
     "output_type": "stream",
     "text": [
      "                   a         b         c\n",
      "2018-01-01       NaN       NaN       NaN\n",
      "2018-01-02  0.707107       NaN  0.707107\n",
      "2018-01-03  1.000000  0.707107  0.707107\n",
      "2018-01-04  1.290994  1.000000  0.577350\n",
      "2018-01-05  1.290994  1.290994  0.577350\n",
      "56 ms ± 586 µs per loop (mean ± std. dev. of 7 runs, 10 loops each)\n",
      "                   a         b         c\n",
      "2018-01-01       NaN       NaN       NaN\n",
      "2018-01-02  0.707107       NaN  0.707107\n",
      "2018-01-03  1.000000  0.707107  0.707107\n",
      "2018-01-04  1.290994  1.000000  0.577350\n",
      "2018-01-05  1.290994  1.290994  0.577350\n",
      "16.4 ms ± 455 µs per loop (mean ± std. dev. of 7 runs, 1 loop each)\n"
     ]
    }
   ],
   "source": [
    "print(ts.expanding().std())\n",
    "%timeit big_ts.expanding().std()\n",
    "\n",
    "print(ts.vbt.timeseries.expanding_std())\n",
    "%timeit big_ts.vbt.timeseries.expanding_std()"
   ]
  },
  {
   "cell_type": "code",
   "execution_count": 23,
   "metadata": {},
   "outputs": [],
   "source": [
    "pd_nanmean_nb = njit(lambda x: np.nanmean(x))\n",
    "nanmean_nb = njit(lambda col, i, x: np.nanmean(x))\n",
    "nanmean_matrix_nb = njit(lambda i, x: np.nanmean(x))"
   ]
  },
  {
   "cell_type": "code",
   "execution_count": 24,
   "metadata": {},
   "outputs": [
    {
     "name": "stdout",
     "output_type": "stream",
     "text": [
      "              a    b    c\n",
      "2018-01-01  1.0  NaN  1.0\n",
      "2018-01-02  1.5  4.0  1.5\n",
      "2018-01-03  2.5  3.5  2.0\n",
      "2018-01-04  3.5  2.5  2.0\n",
      "2018-01-05  4.0  1.5  1.5\n",
      "415 ms ± 8.92 ms per loop (mean ± std. dev. of 7 runs, 1 loop each)\n",
      "              a    b    c\n",
      "2018-01-01  1.0  NaN  1.0\n",
      "2018-01-02  1.5  4.0  1.5\n",
      "2018-01-03  2.5  3.5  2.0\n",
      "2018-01-04  3.5  2.5  2.0\n",
      "2018-01-05  4.0  1.5  1.5\n",
      "61.4 ms ± 1.44 ms per loop (mean ± std. dev. of 7 runs, 1 loop each)\n",
      "                   a         b         c\n",
      "2018-01-01  1.000000  1.000000  1.000000\n",
      "2018-01-02  2.000000  2.000000  2.000000\n",
      "2018-01-03  2.285714  2.285714  2.285714\n",
      "2018-01-04  2.750000  2.750000  2.750000\n",
      "2018-01-05  2.285714  2.285714  2.285714\n",
      "7.56 ms ± 643 µs per loop (mean ± std. dev. of 7 runs, 1 loop each)\n"
     ]
    }
   ],
   "source": [
    "print(ts.rolling(2, min_periods=1).apply(pd_nanmean_nb, raw=True))\n",
    "%timeit big_ts.rolling(2, min_periods=1).apply(pd_nanmean_nb, raw=True)\n",
    "\n",
    "print(ts.vbt.timeseries.rolling_apply(2, nanmean_nb))\n",
    "%timeit big_ts.vbt.timeseries.rolling_apply(2, nanmean_nb)\n",
    "\n",
    "print(ts.vbt.timeseries.rolling_apply(3, nanmean_matrix_nb, on_matrix=True))\n",
    "%timeit big_ts.vbt.timeseries.rolling_apply(3, nanmean_matrix_nb, on_matrix=True)"
   ]
  },
  {
   "cell_type": "code",
   "execution_count": 25,
   "metadata": {},
   "outputs": [
    {
     "name": "stdout",
     "output_type": "stream",
     "text": [
      "              a    b         c\n",
      "2018-01-01  1.0  NaN  1.000000\n",
      "2018-01-02  1.5  4.0  1.500000\n",
      "2018-01-03  2.0  3.5  1.500000\n",
      "2018-01-04  2.5  3.0  1.666667\n",
      "2018-01-05  2.5  2.5  1.500000\n",
      "1.49 s ± 12.2 ms per loop (mean ± std. dev. of 7 runs, 1 loop each)\n",
      "              a    b         c\n",
      "2018-01-01  1.0  NaN  1.000000\n",
      "2018-01-02  1.5  4.0  1.500000\n",
      "2018-01-03  2.0  3.5  1.500000\n",
      "2018-01-04  2.5  3.0  1.666667\n",
      "2018-01-05  2.5  2.5  1.500000\n",
      "869 ms ± 11.6 ms per loop (mean ± std. dev. of 7 runs, 1 loop each)\n",
      "                   a         b         c\n",
      "2018-01-01  1.000000  1.000000  1.000000\n",
      "2018-01-02  2.000000  2.000000  2.000000\n",
      "2018-01-03  2.285714  2.285714  2.285714\n",
      "2018-01-04  2.400000  2.400000  2.400000\n",
      "2018-01-05  2.166667  2.166667  2.166667\n",
      "837 ms ± 8.46 ms per loop (mean ± std. dev. of 7 runs, 1 loop each)\n"
     ]
    }
   ],
   "source": [
    "print(ts.expanding(min_periods=1).apply(pd_nanmean_nb, raw=True))\n",
    "%timeit big_ts.expanding(min_periods=1).apply(pd_nanmean_nb, raw=True)\n",
    "\n",
    "print(ts.vbt.timeseries.expanding_apply(nanmean_nb))\n",
    "%timeit big_ts.vbt.timeseries.expanding_apply(nanmean_nb)\n",
    "\n",
    "print(ts.vbt.timeseries.expanding_apply(nanmean_matrix_nb, on_matrix=True))\n",
    "%timeit big_ts.vbt.timeseries.expanding_apply(nanmean_matrix_nb, on_matrix=True)"
   ]
  },
  {
   "cell_type": "code",
   "execution_count": 26,
   "metadata": {},
   "outputs": [
    {
     "name": "stdout",
     "output_type": "stream",
     "text": [
      "1    1.5\n",
      "2    3.5\n",
      "3    NaN\n",
      "Name: a, dtype: float64\n",
      "3.77 ms ± 38.6 µs per loop (mean ± std. dev. of 7 runs, 100 loops each)\n",
      "1    1.5\n",
      "2    3.5\n",
      "3    NaN\n",
      "Name: a, dtype: float64\n",
      "3.23 ms ± 204 µs per loop (mean ± std. dev. of 7 runs, 1 loop each)\n",
      "     a    b    c\n",
      "1  1.5  4.0  1.5\n",
      "2  3.5  2.5  2.0\n",
      "3  NaN  1.0  1.0\n",
      "     a    b    c\n",
      "1  1.5  4.0  1.5\n",
      "2  3.5  2.5  2.0\n",
      "3  NaN  1.0  1.0\n",
      "10.6 ms ± 870 µs per loop (mean ± std. dev. of 7 runs, 1 loop each)\n",
      "     a    b    c\n",
      "1  2.0  2.0  2.0\n",
      "2  2.8  2.8  2.8\n",
      "3  1.0  1.0  1.0\n",
      "5.72 ms ± 170 µs per loop (mean ± std. dev. of 7 runs, 1 loop each)\n"
     ]
    }
   ],
   "source": [
    "print(ts['a'].groupby(np.asarray([1, 1, 2, 2, 3])).apply(lambda x: pd_nanmean_nb(x.values)))\n",
    "%timeit big_ts.iloc[:, 0].groupby(np.random.randint(10, size=1000)).apply(lambda x: pd_nanmean_nb(x.values))\n",
    "\n",
    "print(ts['a'].vbt.timeseries.groupby_apply(np.asarray([1, 1, 2, 2, 3]), nanmean_nb))\n",
    "%timeit big_ts.iloc[:, 0].vbt.timeseries.groupby_apply(np.random.randint(10, size=1000), nanmean_nb)\n",
    "\n",
    "print(ts.groupby(np.asarray([1, 1, 2, 2, 3])).agg({\n",
    "    'a': lambda x: pd_nanmean_nb(x.values), \n",
    "    'b': lambda x: pd_nanmean_nb(x.values), \n",
    "    'c': lambda x: pd_nanmean_nb(x.values)})) # any clean way to do column-wise grouping in pandas?\n",
    "\n",
    "print(ts.vbt.timeseries.groupby_apply(np.asarray([1, 1, 2, 2, 3]), nanmean_nb))\n",
    "%timeit big_ts.vbt.timeseries.groupby_apply(np.random.randint(10, size=1000), nanmean_nb)\n",
    "\n",
    "print(ts.vbt.timeseries.groupby_apply(np.asarray([1, 1, 2, 2, 3]), nanmean_matrix_nb, on_matrix=True))\n",
    "%timeit big_ts.vbt.timeseries.groupby_apply(np.random.randint(10, size=1000), nanmean_matrix_nb, on_matrix=True)"
   ]
  },
  {
   "cell_type": "code",
   "execution_count": 27,
   "metadata": {},
   "outputs": [
    {
     "name": "stdout",
     "output_type": "stream",
     "text": [
      "2018-01-01 00:00:00    1.0\n",
      "2018-01-01 01:00:00    NaN\n",
      "2018-01-01 02:00:00    NaN\n",
      "2018-01-01 03:00:00    NaN\n",
      "2018-01-01 04:00:00    NaN\n",
      "                      ... \n",
      "2018-01-04 20:00:00    NaN\n",
      "2018-01-04 21:00:00    NaN\n",
      "2018-01-04 22:00:00    NaN\n",
      "2018-01-04 23:00:00    NaN\n",
      "2018-01-05 00:00:00    NaN\n",
      "Freq: H, Name: a, Length: 97, dtype: float32\n",
      "116 ms ± 984 µs per loop (mean ± std. dev. of 7 runs, 10 loops each)\n",
      "2018-01-01 00:00:00    1.0\n",
      "2018-01-01 01:00:00    NaN\n",
      "2018-01-01 02:00:00    NaN\n",
      "2018-01-01 03:00:00    NaN\n",
      "2018-01-01 04:00:00    NaN\n",
      "                      ... \n",
      "2018-01-04 20:00:00    NaN\n",
      "2018-01-04 21:00:00    NaN\n",
      "2018-01-04 22:00:00    NaN\n",
      "2018-01-04 23:00:00    NaN\n",
      "2018-01-05 00:00:00    NaN\n",
      "Freq: H, Name: a, Length: 97, dtype: float64\n",
      "118 ms ± 1.38 ms per loop (mean ± std. dev. of 7 runs, 10 loops each)\n",
      "                       a    b    c\n",
      "2018-01-01 00:00:00  1.0  NaN  1.0\n",
      "2018-01-01 01:00:00  NaN  NaN  NaN\n",
      "2018-01-01 02:00:00  NaN  NaN  NaN\n",
      "2018-01-01 03:00:00  NaN  NaN  NaN\n",
      "2018-01-01 04:00:00  NaN  NaN  NaN\n",
      "...                  ...  ...  ...\n",
      "2018-01-04 20:00:00  NaN  NaN  NaN\n",
      "2018-01-04 21:00:00  NaN  NaN  NaN\n",
      "2018-01-04 22:00:00  NaN  NaN  NaN\n",
      "2018-01-04 23:00:00  NaN  NaN  NaN\n",
      "2018-01-05 00:00:00  NaN  1.0  1.0\n",
      "\n",
      "[97 rows x 3 columns]\n",
      "12 s ± 140 ms per loop (mean ± std. dev. of 7 runs, 1 loop each)\n",
      "                       a    b    c\n",
      "2018-01-01 00:00:00  1.0  NaN  1.0\n",
      "2018-01-01 01:00:00  NaN  NaN  NaN\n",
      "2018-01-01 02:00:00  NaN  NaN  NaN\n",
      "2018-01-01 03:00:00  NaN  NaN  NaN\n",
      "2018-01-01 04:00:00  NaN  NaN  NaN\n",
      "...                  ...  ...  ...\n",
      "2018-01-04 20:00:00  NaN  NaN  NaN\n",
      "2018-01-04 21:00:00  NaN  NaN  NaN\n",
      "2018-01-04 22:00:00  NaN  NaN  NaN\n",
      "2018-01-04 23:00:00  NaN  NaN  NaN\n",
      "2018-01-05 00:00:00  NaN  1.0  1.0\n",
      "\n",
      "[97 rows x 3 columns]\n",
      "469 ms ± 6 ms per loop (mean ± std. dev. of 7 runs, 1 loop each)\n",
      "                       a    b    c\n",
      "2018-01-01 00:00:00  1.0  1.0  1.0\n",
      "2018-01-01 01:00:00  NaN  NaN  NaN\n",
      "2018-01-01 02:00:00  NaN  NaN  NaN\n",
      "2018-01-01 03:00:00  NaN  NaN  NaN\n",
      "2018-01-01 04:00:00  NaN  NaN  NaN\n",
      "...                  ...  ...  ...\n",
      "2018-01-04 20:00:00  NaN  NaN  NaN\n",
      "2018-01-04 21:00:00  NaN  NaN  NaN\n",
      "2018-01-04 22:00:00  NaN  NaN  NaN\n",
      "2018-01-04 23:00:00  NaN  NaN  NaN\n",
      "2018-01-05 00:00:00  1.0  1.0  1.0\n",
      "\n",
      "[97 rows x 3 columns]\n",
      "232 ms ± 1.73 ms per loop (mean ± std. dev. of 7 runs, 1 loop each)\n"
     ]
    }
   ],
   "source": [
    "print(ts['a'].resample('1h').apply(lambda x: pd_nanmean_nb(x.values)))\n",
    "%timeit big_ts.iloc[:, 0].resample('1h').apply(lambda x: pd_nanmean_nb(x.values))\n",
    "\n",
    "print(ts['a'].vbt.timeseries.resample_apply('1h', nanmean_nb))\n",
    "%timeit big_ts.iloc[:, 0].vbt.timeseries.resample_apply('1h', nanmean_nb)\n",
    "\n",
    "print(ts.resample('1h').apply(lambda x: pd_nanmean_nb(x.values)))\n",
    "%timeit big_ts.iloc[:, :100].resample('1h').apply(lambda x: pd_nanmean_nb(x.values))\n",
    "\n",
    "print(ts.vbt.timeseries.resample_apply('1h', nanmean_nb))\n",
    "%timeit big_ts.vbt.timeseries.resample_apply('1h', nanmean_nb)\n",
    "\n",
    "print(ts.vbt.timeseries.resample_apply('1h', nanmean_matrix_nb, on_matrix=True))\n",
    "%timeit big_ts.vbt.timeseries.resample_apply('1h', nanmean_matrix_nb, on_matrix=True)"
   ]
  },
  {
   "cell_type": "code",
   "execution_count": 28,
   "metadata": {},
   "outputs": [
    {
     "name": "stdout",
     "output_type": "stream",
     "text": [
      "2018-01-01 00:00:00    1.0\n",
      "2018-01-01 01:00:00    NaN\n",
      "2018-01-01 02:00:00    NaN\n",
      "2018-01-01 03:00:00    NaN\n",
      "2018-01-01 04:00:00    NaN\n",
      "                      ... \n",
      "2018-01-04 20:00:00    NaN\n",
      "2018-01-04 21:00:00    NaN\n",
      "2018-01-04 22:00:00    NaN\n",
      "2018-01-04 23:00:00    NaN\n",
      "2018-01-05 00:00:00    NaN\n",
      "Freq: H, Name: a, Length: 97, dtype: float32\n",
      "118 ms ± 748 µs per loop (mean ± std. dev. of 7 runs, 10 loops each)\n",
      "2018-01-01 00:00:00    1.0\n",
      "2018-01-01 01:00:00    NaN\n",
      "2018-01-01 02:00:00    NaN\n",
      "2018-01-01 03:00:00    NaN\n",
      "2018-01-01 04:00:00    NaN\n",
      "                      ... \n",
      "2018-01-04 20:00:00    NaN\n",
      "2018-01-04 21:00:00    NaN\n",
      "2018-01-04 22:00:00    NaN\n",
      "2018-01-04 23:00:00    NaN\n",
      "2018-01-05 00:00:00    NaN\n",
      "Freq: H, Name: a, Length: 97, dtype: float64\n",
      "119 ms ± 1.27 ms per loop (mean ± std. dev. of 7 runs, 10 loops each)\n",
      "                       a    b    c\n",
      "2018-01-01 00:00:00  1.0  NaN  1.0\n",
      "2018-01-01 01:00:00  NaN  NaN  NaN\n",
      "2018-01-01 02:00:00  NaN  NaN  NaN\n",
      "2018-01-01 03:00:00  NaN  NaN  NaN\n",
      "2018-01-01 04:00:00  NaN  NaN  NaN\n",
      "...                  ...  ...  ...\n",
      "2018-01-04 20:00:00  NaN  NaN  NaN\n",
      "2018-01-04 21:00:00  NaN  NaN  NaN\n",
      "2018-01-04 22:00:00  NaN  NaN  NaN\n",
      "2018-01-04 23:00:00  NaN  NaN  NaN\n",
      "2018-01-05 00:00:00  NaN  1.0  1.0\n",
      "\n",
      "[97 rows x 3 columns]\n",
      "12.2 s ± 261 ms per loop (mean ± std. dev. of 7 runs, 1 loop each)\n",
      "                       a    b    c\n",
      "2018-01-01 00:00:00  1.0  NaN  1.0\n",
      "2018-01-01 01:00:00  NaN  NaN  NaN\n",
      "2018-01-01 02:00:00  NaN  NaN  NaN\n",
      "2018-01-01 03:00:00  NaN  NaN  NaN\n",
      "2018-01-01 04:00:00  NaN  NaN  NaN\n",
      "...                  ...  ...  ...\n",
      "2018-01-04 20:00:00  NaN  NaN  NaN\n",
      "2018-01-04 21:00:00  NaN  NaN  NaN\n",
      "2018-01-04 22:00:00  NaN  NaN  NaN\n",
      "2018-01-04 23:00:00  NaN  NaN  NaN\n",
      "2018-01-05 00:00:00  NaN  1.0  1.0\n",
      "\n",
      "[97 rows x 3 columns]\n",
      "468 ms ± 2.8 ms per loop (mean ± std. dev. of 7 runs, 1 loop each)\n",
      "                       a    b    c\n",
      "2018-01-01 00:00:00  1.0  1.0  1.0\n",
      "2018-01-01 01:00:00  NaN  NaN  NaN\n",
      "2018-01-01 02:00:00  NaN  NaN  NaN\n",
      "2018-01-01 03:00:00  NaN  NaN  NaN\n",
      "2018-01-01 04:00:00  NaN  NaN  NaN\n",
      "...                  ...  ...  ...\n",
      "2018-01-04 20:00:00  NaN  NaN  NaN\n",
      "2018-01-04 21:00:00  NaN  NaN  NaN\n",
      "2018-01-04 22:00:00  NaN  NaN  NaN\n",
      "2018-01-04 23:00:00  NaN  NaN  NaN\n",
      "2018-01-05 00:00:00  1.0  1.0  1.0\n",
      "\n",
      "[97 rows x 3 columns]\n",
      "233 ms ± 2.59 ms per loop (mean ± std. dev. of 7 runs, 1 loop each)\n"
     ]
    }
   ],
   "source": [
    "print(ts['a'].resample('1h').apply(lambda x: pd_nanmean_nb(x.values)))\n",
    "%timeit big_ts.iloc[:, 0].resample('1h').apply(lambda x: pd_nanmean_nb(x.values))\n",
    "\n",
    "print(ts['a'].vbt.timeseries.resample_apply('1h', nanmean_nb))\n",
    "%timeit big_ts.iloc[:, 0].vbt.timeseries.resample_apply('1h', nanmean_nb)\n",
    "\n",
    "print(ts.resample('1h').apply(lambda x: pd_nanmean_nb(x.values)))\n",
    "%timeit big_ts.iloc[:, :100].resample('1h').apply(lambda x: pd_nanmean_nb(x.values))\n",
    "\n",
    "print(ts.vbt.timeseries.resample_apply('1h', nanmean_nb))\n",
    "%timeit big_ts.vbt.timeseries.resample_apply('1h', nanmean_nb)\n",
    "\n",
    "print(ts.vbt.timeseries.resample_apply('1h', nanmean_matrix_nb, on_matrix=True))\n",
    "%timeit big_ts.vbt.timeseries.resample_apply('1h', nanmean_matrix_nb, on_matrix=True)"
   ]
  },
  {
   "cell_type": "code",
   "execution_count": 30,
   "metadata": {},
   "outputs": [
    {
     "name": "stdout",
     "output_type": "stream",
     "text": [
      "2018-01-01    2.0\n",
      "2018-01-04    4.0\n",
      "Freq: 3D, Name: a, dtype: float32\n",
      "4.74 ms ± 1.04 ms per loop (mean ± std. dev. of 7 runs, 100 loops each)\n",
      "2018-01-01    2.0\n",
      "2018-01-04    4.0\n",
      "Freq: 3D, Name: a, dtype: float64\n",
      "11.4 ms ± 1.93 ms per loop (mean ± std. dev. of 7 runs, 100 loops each)\n",
      "              a    b    c\n",
      "2018-01-01  2.0  3.5  1.5\n",
      "2018-01-04  4.0  1.5  1.5\n",
      "3.58 s ± 18.9 ms per loop (mean ± std. dev. of 7 runs, 1 loop each)\n",
      "              a    b    c\n",
      "2018-01-01  2.0  3.5  1.5\n",
      "2018-01-04  4.0  1.5  1.5\n",
      "90.1 ms ± 1.14 ms per loop (mean ± std. dev. of 7 runs, 10 loops each)\n",
      "                   a         b         c\n",
      "2018-01-01  2.285714  2.285714  2.285714\n",
      "2018-01-04  2.000000  2.000000  2.000000\n",
      "14.2 ms ± 94.5 µs per loop (mean ± std. dev. of 7 runs, 100 loops each)\n"
     ]
    }
   ],
   "source": [
    "print(ts['a'].resample('3d').apply(lambda x: pd_nanmean_nb(x.values)))\n",
    "%timeit big_ts.iloc[:, 0].resample('3d').apply(lambda x: pd_nanmean_nb(x.values))\n",
    "\n",
    "print(ts['a'].vbt.timeseries.resample_apply('3d', nanmean_nb))\n",
    "%timeit big_ts.iloc[:, 0].vbt.timeseries.resample_apply('3d', nanmean_nb)\n",
    "\n",
    "print(ts.resample('3d').apply(lambda x: pd_nanmean_nb(x.values)))\n",
    "%timeit big_ts.resample('3d').apply(lambda x: pd_nanmean_nb(x.values))\n",
    "\n",
    "print(ts.vbt.timeseries.resample_apply('3d', nanmean_nb))\n",
    "%timeit big_ts.vbt.timeseries.resample_apply('3d', nanmean_nb)\n",
    "\n",
    "print(ts.vbt.timeseries.resample_apply('3d', nanmean_matrix_nb, on_matrix=True))\n",
    "%timeit big_ts.vbt.timeseries.resample_apply('3d', nanmean_matrix_nb, on_matrix=True)"
   ]
  },
  {
   "cell_type": "code",
   "execution_count": 32,
   "metadata": {},
   "outputs": [
    {
     "name": "stdout",
     "output_type": "stream",
     "text": [
      "2018-01-07    2.5\n",
      "Freq: W-SUN, Name: a, dtype: float32\n",
      "8.31 ms ± 1 ms per loop (mean ± std. dev. of 7 runs, 100 loops each)\n",
      "2018-01-07    2.5\n",
      "Freq: W-SUN, Name: a, dtype: float64\n",
      "10.3 ms ± 180 µs per loop (mean ± std. dev. of 7 runs, 100 loops each)\n",
      "              a    b    c\n",
      "2018-01-07  2.5  2.5  1.5\n",
      "2.59 s ± 13.8 ms per loop (mean ± std. dev. of 7 runs, 1 loop each)\n",
      "              a    b    c\n",
      "2018-01-07  2.5  2.5  1.5\n",
      "46.1 ms ± 534 µs per loop (mean ± std. dev. of 7 runs, 10 loops each)\n",
      "                   a         b         c\n",
      "2018-01-07  2.166667  2.166667  2.166667\n",
      "13.6 ms ± 141 µs per loop (mean ± std. dev. of 7 runs, 100 loops each)\n"
     ]
    }
   ],
   "source": [
    "print(ts['a'].resample('1w').apply(lambda x: pd_nanmean_nb(x.values)))\n",
    "%timeit big_ts.iloc[:, 0].resample('1w').apply(lambda x: pd_nanmean_nb(x.values))\n",
    "\n",
    "print(ts['a'].vbt.timeseries.resample_apply('1w', nanmean_nb))\n",
    "%timeit big_ts.iloc[:, 0].vbt.timeseries.resample_apply('1w', nanmean_nb)\n",
    "\n",
    "print(ts.resample('1w').apply(lambda x: pd_nanmean_nb(x.values)))\n",
    "%timeit big_ts.resample('1w').apply(lambda x: pd_nanmean_nb(x.values))\n",
    "\n",
    "print(ts.vbt.timeseries.resample_apply('1w', nanmean_nb))\n",
    "%timeit big_ts.vbt.timeseries.resample_apply('1w', nanmean_nb)\n",
    "\n",
    "print(ts.vbt.timeseries.resample_apply('1w', nanmean_matrix_nb, on_matrix=True))\n",
    "%timeit big_ts.vbt.timeseries.resample_apply('1w', nanmean_matrix_nb, on_matrix=True)"
   ]
  },
  {
   "cell_type": "code",
   "execution_count": 33,
   "metadata": {},
   "outputs": [
    {
     "name": "stdout",
     "output_type": "stream",
     "text": [
      "start_date  2018-01-01  2018-01-04\n",
      "0                  1.0         4.0\n",
      "1                  2.0         NaN\n",
      "778 µs ± 215 µs per loop (mean ± std. dev. of 7 runs, 1 loop each)\n",
      "                    a                     b                     c           \n",
      "start_date 2018-01-01 2018-01-04 2018-01-01 2018-01-04 2018-01-01 2018-01-04\n",
      "0                 1.0        4.0        NaN        2.0        1.0        2.0\n",
      "1                 2.0        NaN        4.0        1.0        2.0        1.0\n",
      "53.8 ms ± 6.01 ms per loop (mean ± std. dev. of 7 runs, 1 loop each)\n"
     ]
    }
   ],
   "source": [
    "print(ts['a'].vbt.timeseries.rolling_window(2, n=2))\n",
    "%timeit big_ts.iloc[:, 0].vbt.timeseries.rolling_window(2, n=100)\n",
    "\n",
    "print(ts.vbt.timeseries.rolling_window(2, n=2))\n",
    "%timeit big_ts.vbt.timeseries.rolling_window(2, n=100)"
   ]
  },
  {
   "cell_type": "code",
   "execution_count": 5,
   "metadata": {},
   "outputs": [
    {
     "name": "stdout",
     "output_type": "stream",
     "text": [
      "              a         b        c\n",
      "count  4.000000  4.000000  4.00000\n",
      "mean   2.500000  2.500000  1.50000\n",
      "std    1.290994  1.290994  0.57735\n",
      "min    1.000000  1.000000  1.00000\n",
      "0%     1.000000  1.000000  1.00000\n",
      "10%    1.300000  1.300000  1.00000\n",
      "20%    1.600000  1.600000  1.00000\n",
      "30%    1.900000  1.900000  1.00000\n",
      "40%    2.200000  2.200000  1.20000\n",
      "50%    2.500000  2.500000  1.50000\n",
      "60%    2.800000  2.800000  1.80000\n",
      "70%    3.100000  3.100000  2.00000\n",
      "80%    3.400000  3.400000  2.00000\n",
      "90%    3.700000  3.700000  2.00000\n",
      "max    4.000000  4.000000  2.00000\n",
      "2.08 s ± 90.6 ms per loop (mean ± std. dev. of 7 runs, 1 loop each)\n",
      "               a         b        c\n",
      "count   4.000000  4.000000  4.00000\n",
      "mean    2.500000  2.500000  1.50000\n",
      "std     1.290994  1.290994  0.57735\n",
      "min     1.000000  1.000000  1.00000\n",
      "0.00%   1.000000  1.000000  1.00000\n",
      "10.00%  1.300000  1.300000  1.00000\n",
      "20.00%  1.600000  1.600000  1.00000\n",
      "30.00%  1.900000  1.900000  1.00000\n",
      "40.00%  2.200000  2.200000  1.20000\n",
      "50.00%  2.500000  2.500000  1.50000\n",
      "60.00%  2.800000  2.800000  1.80000\n",
      "70.00%  3.100000  3.100000  2.00000\n",
      "80.00%  3.400000  3.400000  2.00000\n",
      "90.00%  3.700000  3.700000  2.00000\n",
      "max     4.000000  4.000000  2.00000\n",
      "621 ms ± 5.34 ms per loop (mean ± std. dev. of 7 runs, 1 loop each)\n"
     ]
    }
   ],
   "source": [
    "print(ts.describe(percentiles=np.arange(0, 1, 0.1)))\n",
    "%timeit big_ts.describe(percentiles=np.arange(0, 1, 0.1))\n",
    "\n",
    "print(ts.vbt.timeseries.describe(percentiles=np.arange(0, 1, 0.1)))\n",
    "%timeit big_ts.vbt.timeseries.describe(percentiles=np.arange(0, 1, 0.1))"
   ]
  },
  {
   "cell_type": "code",
   "execution_count": 6,
   "metadata": {},
   "outputs": [
    {
     "name": "stdout",
     "output_type": "stream",
     "text": [
      "4.0\n",
      "275 µs ± 83.1 µs per loop (mean ± std. dev. of 7 runs, 1 loop each)\n",
      "a    4.0\n",
      "b    4.0\n",
      "c    2.0\n",
      "dtype: float64\n",
      "1.77 ms ± 175 µs per loop (mean ± std. dev. of 7 runs, 100 loops each)\n"
     ]
    }
   ],
   "source": [
    "every_2th_nb = njit(lambda col, a: a[::2])\n",
    "sum_nb = njit(lambda col, a: np.nansum(a))\n",
    "\n",
    "print(ts['a'].vbt.timeseries.apply_and_reduce(every_2th_nb, sum_nb))\n",
    "%timeit big_ts.iloc[:, 0].vbt.timeseries.apply_and_reduce(every_2th_nb, sum_nb)\n",
    "\n",
    "print(ts.vbt.timeseries.apply_and_reduce(every_2th_nb, sum_nb))\n",
    "%timeit big_ts.vbt.timeseries.apply_and_reduce(every_2th_nb, sum_nb)"
   ]
  },
  {
   "cell_type": "code",
   "execution_count": 7,
   "metadata": {},
   "outputs": [
    {
     "name": "stdout",
     "output_type": "stream",
     "text": [
      "              a    b    c\n",
      "2018-01-01  2.0  NaN  2.0\n",
      "2018-01-02  4.0  8.0  4.0\n",
      "2018-01-03  6.0  6.0  NaN\n",
      "2018-01-04  8.0  4.0  4.0\n",
      "2018-01-05  NaN  2.0  2.0\n",
      "575 ms ± 79 ms per loop (mean ± std. dev. of 7 runs, 1 loop each)\n",
      "2018-01-01    2.0\n",
      "2018-01-02    4.0\n",
      "2018-01-03    6.0\n",
      "2018-01-04    8.0\n",
      "2018-01-05    NaN\n",
      "Name: a, dtype: float64\n",
      "988 µs ± 384 µs per loop (mean ± std. dev. of 7 runs, 1 loop each)\n",
      "              a    b    c\n",
      "2018-01-01  2.0  NaN  2.0\n",
      "2018-01-02  4.0  8.0  4.0\n",
      "2018-01-03  6.0  6.0  NaN\n",
      "2018-01-04  8.0  4.0  4.0\n",
      "2018-01-05  NaN  2.0  2.0\n",
      "11.4 ms ± 433 µs per loop (mean ± std. dev. of 7 runs, 1 loop each)\n"
     ]
    }
   ],
   "source": [
    "print(ts.applymap(lambda x: x * 2))\n",
    "%timeit big_ts.applymap(lambda x: x * 2)\n",
    "\n",
    "mult_nb = njit(lambda col, i, x: x * 2)\n",
    "\n",
    "print(ts['a'].vbt.timeseries.applymap(mult_nb))\n",
    "%timeit big_ts.iloc[:, 0].vbt.timeseries.applymap(mult_nb)\n",
    "\n",
    "print(ts.vbt.timeseries.applymap(mult_nb))\n",
    "%timeit big_ts.vbt.timeseries.applymap(mult_nb)"
   ]
  },
  {
   "cell_type": "code",
   "execution_count": 8,
   "metadata": {},
   "outputs": [
    {
     "name": "stdout",
     "output_type": "stream",
     "text": [
      "              a    b   c\n",
      "2018-01-01  NaN  NaN NaN\n",
      "2018-01-02  NaN  4.0 NaN\n",
      "2018-01-03  3.0  3.0 NaN\n",
      "2018-01-04  4.0  NaN NaN\n",
      "2018-01-05  NaN  NaN NaN\n",
      "468 ms ± 12.3 ms per loop (mean ± std. dev. of 7 runs, 1 loop each)\n",
      "2018-01-01    NaN\n",
      "2018-01-02    NaN\n",
      "2018-01-03    3.0\n",
      "2018-01-04    4.0\n",
      "2018-01-05    NaN\n",
      "Name: a, dtype: float64\n",
      "775 µs ± 139 µs per loop (mean ± std. dev. of 7 runs, 1 loop each)\n",
      "              a    b   c\n",
      "2018-01-01  NaN  NaN NaN\n",
      "2018-01-02  NaN  4.0 NaN\n",
      "2018-01-03  3.0  3.0 NaN\n",
      "2018-01-04  4.0  NaN NaN\n",
      "2018-01-05  NaN  NaN NaN\n",
      "12.1 ms ± 391 µs per loop (mean ± std. dev. of 7 runs, 1 loop each)\n"
     ]
    }
   ],
   "source": [
    "print(ts.applymap(lambda x: x if x > 2 else np.nan))\n",
    "%timeit big_ts.applymap(lambda x: x if x > 2 else np.nan)\n",
    "\n",
    "greater_nb = njit(lambda col, i, x: x > 2)\n",
    "\n",
    "print(ts['a'].vbt.timeseries.filter(greater_nb))\n",
    "%timeit big_ts.iloc[:, 0].vbt.timeseries.filter(greater_nb)\n",
    "\n",
    "print(ts.vbt.timeseries.filter(greater_nb))\n",
    "%timeit big_ts.vbt.timeseries.filter(greater_nb)"
   ]
  },
  {
   "cell_type": "code",
   "execution_count": 9,
   "metadata": {},
   "outputs": [
    {
     "name": "stdout",
     "output_type": "stream",
     "text": [
      "a    10.0\n",
      "b    10.0\n",
      "c     6.0\n",
      "dtype: float64\n",
      "129 ms ± 675 µs per loop (mean ± std. dev. of 7 runs, 10 loops each)\n",
      "10.0\n",
      "262 µs ± 84.6 µs per loop (mean ± std. dev. of 7 runs, 1 loop each)\n",
      "a    10.0\n",
      "b    10.0\n",
      "c     6.0\n",
      "dtype: float64\n",
      "6.09 ms ± 586 µs per loop (mean ± std. dev. of 7 runs, 1 loop each)\n"
     ]
    }
   ],
   "source": [
    "print(ts.apply(np.sum, axis=0))\n",
    "%timeit big_ts.apply(np.sum, axis=0)\n",
    "\n",
    "print(ts['a'].vbt.timeseries.reduce(sum_nb))\n",
    "%timeit big_ts.iloc[:, 0].vbt.timeseries.reduce(sum_nb)\n",
    "\n",
    "print(ts.vbt.timeseries.reduce(sum_nb))\n",
    "%timeit big_ts.vbt.timeseries.reduce(sum_nb)"
   ]
  },
  {
   "cell_type": "code",
   "execution_count": 10,
   "metadata": {},
   "outputs": [
    {
     "name": "stdout",
     "output_type": "stream",
     "text": [
      "     a    b    c\n",
      "0  1.0  1.0  1.0\n",
      "1  4.0  4.0  2.0\n",
      "178 ms ± 1.66 ms per loop (mean ± std. dev. of 7 runs, 10 loops each)\n",
      "0    1.0\n",
      "1    4.0\n",
      "Name: a, dtype: float64\n",
      "789 µs ± 156 µs per loop (mean ± std. dev. of 7 runs, 1 loop each)\n",
      "     a    b    c\n",
      "0  1.0  1.0  1.0\n",
      "1  4.0  4.0  2.0\n",
      "6.79 ms ± 787 µs per loop (mean ± std. dev. of 7 runs, 1 loop each)\n"
     ]
    }
   ],
   "source": [
    "@njit\n",
    "def min_and_max_nb(col, a):\n",
    "    result = np.empty(2)\n",
    "    result[0] = np.min(a)\n",
    "    result[1] = np.max(a)\n",
    "    return result\n",
    "\n",
    "print(ts.apply(lambda x: np.asarray([np.min(x), np.max(x)]), axis=0))\n",
    "%timeit big_ts.apply(lambda x: np.asarray([np.min(x), np.max(x)]), axis=0)\n",
    "\n",
    "print(ts['a'].vbt.timeseries.reduce_to_array(min_and_max_nb))\n",
    "%timeit big_ts.iloc[:, 0].vbt.timeseries.reduce_to_array(min_and_max_nb)\n",
    "\n",
    "print(ts.vbt.timeseries.reduce_to_array(min_and_max_nb))\n",
    "%timeit big_ts.vbt.timeseries.reduce_to_array(min_and_max_nb)"
   ]
  },
  {
   "cell_type": "code",
   "execution_count": 11,
   "metadata": {
    "Collapsed": "false"
   },
   "outputs": [
    {
     "data": {
      "text/plain": [
       "<matplotlib.axes._subplots.AxesSubplot at 0x620e606d8>"
      ]
     },
     "execution_count": 11,
     "metadata": {},
     "output_type": "execute_result"
    },
    {
     "data": {
      "image/png": "[encoded data removed]",
      "text/plain": [
       "<Figure size 432x288 with 1 Axes>"
      ]
     },
     "metadata": {
      "needs_background": "light"
     },
     "output_type": "display_data"
    }
   ],
   "source": [
    "# Two ways of plotting\n",
    "ts.plot()"
   ]
  },
  {
   "cell_type": "code",
   "execution_count": 12,
   "metadata": {},
   "outputs": [
    {
     "data": {
      "image/png": "[encoded data removed]"
     },
     "metadata": {},
     "output_type": "display_data"
    }
   ],
   "source": [
    "ts['a'].vbt.timeseries.plot().show_png()"
   ]
  },
  {
   "cell_type": "code",
   "execution_count": 13,
   "metadata": {},
   "outputs": [
    {
     "data": {
      "image/png": "[encoded data removed]"
     },
     "metadata": {},
     "output_type": "display_data"
    }
   ],
   "source": [
    "ts.vbt.timeseries.plot().show_png()"
   ]
  },
  {
   "cell_type": "code",
   "execution_count": 14,
   "metadata": {},
   "outputs": [
    {
     "data": {
      "image/png": "[encoded data removed]"
     },
     "metadata": {},
     "output_type": "display_data"
    }
   ],
   "source": [
    "ts['a'].vbt.timeseries.plot_against(2).show_png()"
   ]
  },
  {
   "cell_type": "code",
   "execution_count": 15,
   "metadata": {},
   "outputs": [
    {
     "data": {
      "image/png": "[encoded data removed]"
     },
     "metadata": {},
     "output_type": "display_data"
    }
   ],
   "source": [
    "ts['a'].vbt.timeseries.plot_against(ts['b']).show_png()"
   ]
  },
  {
   "cell_type": "markdown",
   "metadata": {},
   "source": [
    "## OHLCV"
   ]
  },
  {
   "cell_type": "code",
   "execution_count": 16,
   "metadata": {},
   "outputs": [
    {
     "name": "stdout",
     "output_type": "stream",
     "text": [
      "                Open      High       Low     Close    Volume\n",
      "2018-01-01 -0.629229 -0.612060 -1.461323 -0.895015 -0.671518\n",
      "2018-01-02 -1.243532 -0.628662 -1.329590 -1.714444  0.041336\n",
      "2018-01-03 -1.313214 -0.451383 -1.907103 -0.486837  0.731876\n",
      "2018-01-04 -0.865241  0.062602 -1.404664 -1.371246  1.620311\n",
      "2018-01-05 -0.326683  0.348814 -0.344734 -0.454719  1.208054\n"
     ]
    }
   ],
   "source": [
    "ohlcv_ts = pd.DataFrame(\n",
    "    columns=['Open', 'High', 'Low', 'Close', 'Volume'],\n",
    "    index=[datetime(2018, 1, 1) + timedelta(days=i) for i in range(1000)]\n",
    ")\n",
    "ohlcv_ts['Open'] = np.cumsum(np.random.uniform(-0.8, 1, size=(1000,)))\n",
    "ohlcv_ts['Close'] = ohlcv_ts['Open'] + np.random.uniform(-1, 1, size=(1000,))\n",
    "ohlcv_ts['High'] = ohlcv_ts['Open'] + np.random.uniform(0, 1, size=(1000,))\n",
    "ohlcv_ts['Low'] = ohlcv_ts['Open'] - np.random.uniform(0, 1, size=(1000,))\n",
    "ohlcv_ts['Volume'] = np.cumsum(np.random.uniform(-1, 1, size=(1000,)))\n",
    "\n",
    "print(ohlcv_ts.head())"
   ]
  },
  {
   "cell_type": "code",
   "execution_count": 17,
   "metadata": {},
   "outputs": [
    {
     "data": {
      "image/png": "[encoded data removed]"
     },
     "metadata": {},
     "output_type": "display_data"
    }
   ],
   "source": [
    "ohlcv_ts = ohlcv_ts.rename(columns={'Volume': 'Volume2'}) # test different column names\n",
    "\n",
    "ohlcv_ts.vbt.ohlcv(volume='Volume2').plot().show_png()"
   ]
  },
  {
   "cell_type": "code",
   "execution_count": null,
   "metadata": {},
   "outputs": [],
   "source": []
  }
 ],
 "metadata": {
  "kernelspec": {
   "display_name": "Python 3",
   "language": "python",
   "name": "python3"
  },
  "language_info": {
   "codemirror_mode": {
    "name": "ipython",
    "version": 3
   },
   "file_extension": ".py",
   "mimetype": "text/x-python",
   "name": "python",
   "nbconvert_exporter": "python",
   "pygments_lexer": "ipython3",
   "version": "3.7.3"
  },
  "widgets": {
   "application/vnd.jupyter.widget-state+json": {
    "state": {
     "3335b7faa0704009b955249a9d4a1c98": {
      "buffers": [
       {
        "data": "AACAPwAAAEAAAEBAAACAQAAAwH8=",
        "encoding": "base64",
        "path": [
         "_data",
         0,
         "y",
         "value"
        ]
       },
       {
        "data": "AADAfwAAgEAAAEBAAAAAQAAAgD8=",
        "encoding": "base64",
        "path": [
         "_data",
         1,
         "y",
         "value"
        ]
       },
       {
        "data": "AACAPwAAAEAAAMB/AAAAQAAAgD8=",
        "encoding": "base64",
        "path": [
         "_data",
         2,
         "y",
         "value"
        ]
       }
      ],
      "model_module": "plotlywidget",
      "model_module_version": "1.5.0",
      "model_name": "FigureModel",
      "state": {
       "_config": {
        "plotlyServerURL": "https://plot.ly"
       },
       "_data": [
        {
         "mode": "lines",
         "name": "a",
         "showlegend": true,
         "type": "scatter",
         "uid": "2f204967-8c6f-4baa-b7c6-2941776ae86f",
         "x": [
          "2018-01-01T00:00:00.000000",
          "2018-01-02T00:00:00.000000",
          "2018-01-03T00:00:00.000000",
          "2018-01-04T00:00:00.000000",
          "2018-01-05T00:00:00.000000"
         ],
         "y": {
          "dtype": "float32",
          "shape": [
           5
          ]
         }
        },
        {
         "mode": "lines",
         "name": "b",
         "showlegend": true,
         "type": "scatter",
         "uid": "803d5c1b-e9e2-4f99-a0ce-554366d73a9c",
         "x": [
          "2018-01-01T00:00:00.000000",
          "2018-01-02T00:00:00.000000",
          "2018-01-03T00:00:00.000000",
          "2018-01-04T00:00:00.000000",
          "2018-01-05T00:00:00.000000"
         ],
         "y": {
          "dtype": "float32",
          "shape": [
           5
          ]
         }
        },
        {
         "mode": "lines",
         "name": "c",
         "showlegend": true,
         "type": "scatter",
         "uid": "ad58ad1a-bd90-407a-8afd-225b426a4136",
         "x": [
          "2018-01-01T00:00:00.000000",
          "2018-01-02T00:00:00.000000",
          "2018-01-03T00:00:00.000000",
          "2018-01-04T00:00:00.000000",
          "2018-01-05T00:00:00.000000"
         ],
         "y": {
          "dtype": "float32",
          "shape": [
           5
          ]
         }
        }
       ],
       "_js2py_layoutDelta": {},
       "_js2py_pointsCallback": {},
       "_js2py_relayout": {},
       "_js2py_restyle": {},
       "_js2py_traceDeltas": {},
       "_js2py_update": {},
       "_last_layout_edit_id": 4,
       "_last_trace_edit_id": 4,
       "_layout": {
        "autosize": false,
        "colorway": [
         "#1f77b4",
         "#ff7f0e",
         "#2ca02c",
         "#d62728",
         "#9467bd",
         "#8c564b",
         "#e377c2",
         "#7f7f7f",
         "#bcbd22",
         "#17becf"
        ],
        "height": 300,
        "hovermode": "closest",
        "margin": {
         "b": 30,
         "t": 30
        },
        "template": {
         "data": {
          "bar": [
           {
            "error_x": {
             "color": "#2a3f5f"
            },
            "error_y": {
             "color": "#2a3f5f"
            },
            "marker": {
             "line": {
              "color": "#E5ECF6",
              "width": 0.5
             }
            },
            "type": "bar"
           }
          ],
          "barpolar": [
           {
            "marker": {
             "line": {
              "color": "#E5ECF6",
              "width": 0.5
             }
            },
            "type": "barpolar"
           }
          ],
          "carpet": [
           {
            "aaxis": {
             "endlinecolor": "#2a3f5f",
             "gridcolor": "white",
             "linecolor": "white",
             "minorgridcolor": "white",
             "startlinecolor": "#2a3f5f"
            },
            "baxis": {
             "endlinecolor": "#2a3f5f",
             "gridcolor": "white",
             "linecolor": "white",
             "minorgridcolor": "white",
             "startlinecolor": "#2a3f5f"
            },
            "type": "carpet"
           }
          ],
          "choropleth": [
           {
            "colorbar": {
             "outlinewidth": 0,
             "ticks": ""
            },
            "type": "choropleth"
           }
          ],
          "contour": [
           {
            "colorbar": {
             "outlinewidth": 0,
             "ticks": ""
            },
            "colorscale": [
             [
              0,
              "#0d0887"
             ],
             [
              0.1111111111111111,
              "#46039f"
             ],
             [
              0.2222222222222222,
              "#7201a8"
             ],
             [
              0.3333333333333333,
              "#9c179e"
             ],
             [
              0.4444444444444444,
              "#bd3786"
             ],
             [
              0.5555555555555556,
              "#d8576b"
             ],
             [
              0.6666666666666666,
              "#ed7953"
             ],
             [
              0.7777777777777778,
              "#fb9f3a"
             ],
             [
              0.8888888888888888,
              "#fdca26"
             ],
             [
              1,
              "#f0f921"
             ]
            ],
            "type": "contour"
           }
          ],
          "contourcarpet": [
           {
            "colorbar": {
             "outlinewidth": 0,
             "ticks": ""
            },
            "type": "contourcarpet"
           }
          ],
          "heatmap": [
           {
            "colorbar": {
             "outlinewidth": 0,
             "ticks": ""
            },
            "colorscale": [
             [
              0,
              "#0d0887"
             ],
             [
              0.1111111111111111,
              "#46039f"
             ],
             [
              0.2222222222222222,
              "#7201a8"
             ],
             [
              0.3333333333333333,
              "#9c179e"
             ],
             [
              0.4444444444444444,
              "#bd3786"
             ],
             [
              0.5555555555555556,
              "#d8576b"
             ],
             [
              0.6666666666666666,
              "#ed7953"
             ],
             [
              0.7777777777777778,
              "#fb9f3a"
             ],
             [
              0.8888888888888888,
              "#fdca26"
             ],
             [
              1,
              "#f0f921"
             ]
            ],
            "type": "heatmap"
           }
          ],
          "heatmapgl": [
           {
            "colorbar": {
             "outlinewidth": 0,
             "ticks": ""
            },
            "colorscale": [
             [
              0,
              "#0d0887"
             ],
             [
              0.1111111111111111,
              "#46039f"
             ],
             [
              0.2222222222222222,
              "#7201a8"
             ],
             [
              0.3333333333333333,
              "#9c179e"
             ],
             [
              0.4444444444444444,
              "#bd3786"
             ],
             [
              0.5555555555555556,
              "#d8576b"
             ],
             [
              0.6666666666666666,
              "#ed7953"
             ],
             [
              0.7777777777777778,
              "#fb9f3a"
             ],
             [
              0.8888888888888888,
              "#fdca26"
             ],
             [
              1,
              "#f0f921"
             ]
            ],
            "type": "heatmapgl"
           }
          ],
          "histogram": [
           {
            "marker": {
             "colorbar": {
              "outlinewidth": 0,
              "ticks": ""
             }
            },
            "type": "histogram"
           }
          ],
          "histogram2d": [
           {
            "colorbar": {
             "outlinewidth": 0,
             "ticks": ""
            },
            "colorscale": [
             [
              0,
              "#0d0887"
             ],
             [
              0.1111111111111111,
              "#46039f"
             ],
             [
              0.2222222222222222,
              "#7201a8"
             ],
             [
              0.3333333333333333,
              "#9c179e"
             ],
             [
              0.4444444444444444,
              "#bd3786"
             ],
             [
              0.5555555555555556,
              "#d8576b"
             ],
             [
              0.6666666666666666,
              "#ed7953"
             ],
             [
              0.7777777777777778,
              "#fb9f3a"
             ],
             [
              0.8888888888888888,
              "#fdca26"
             ],
             [
              1,
              "#f0f921"
             ]
            ],
            "type": "histogram2d"
           }
          ],
          "histogram2dcontour": [
           {
            "colorbar": {
             "outlinewidth": 0,
             "ticks": ""
            },
            "colorscale": [
             [
              0,
              "#0d0887"
             ],
             [
              0.1111111111111111,
              "#46039f"
             ],
             [
              0.2222222222222222,
              "#7201a8"
             ],
             [
              0.3333333333333333,
              "#9c179e"
             ],
             [
              0.4444444444444444,
              "#bd3786"
             ],
             [
              0.5555555555555556,
              "#d8576b"
             ],
             [
              0.6666666666666666,
              "#ed7953"
             ],
             [
              0.7777777777777778,
              "#fb9f3a"
             ],
             [
              0.8888888888888888,
              "#fdca26"
             ],
             [
              1,
              "#f0f921"
             ]
            ],
            "type": "histogram2dcontour"
           }
          ],
          "mesh3d": [
           {
            "colorbar": {
             "outlinewidth": 0,
             "ticks": ""
            },
            "type": "mesh3d"
           }
          ],
          "parcoords": [
           {
            "line": {
             "colorbar": {
              "outlinewidth": 0,
              "ticks": ""
             }
            },
            "type": "parcoords"
           }
          ],
          "pie": [
           {
            "automargin": true,
            "type": "pie"
           }
          ],
          "scatter": [
           {
            "marker": {
             "colorbar": {
              "outlinewidth": 0,
              "ticks": ""
             }
            },
            "type": "scatter"
           }
          ],
          "scatter3d": [
           {
            "line": {
             "colorbar": {
              "outlinewidth": 0,
              "ticks": ""
             }
            },
            "marker": {
             "colorbar": {
              "outlinewidth": 0,
              "ticks": ""
             }
            },
            "type": "scatter3d"
           }
          ],
          "scattercarpet": [
           {
            "marker": {
             "colorbar": {
              "outlinewidth": 0,
              "ticks": ""
             }
            },
            "type": "scattercarpet"
           }
          ],
          "scattergeo": [
           {
            "marker": {
             "colorbar": {
              "outlinewidth": 0,
              "ticks": ""
             }
            },
            "type": "scattergeo"
           }
          ],
          "scattergl": [
           {
            "marker": {
             "colorbar": {
              "outlinewidth": 0,
              "ticks": ""
             }
            },
            "type": "scattergl"
           }
          ],
          "scattermapbox": [
           {
            "marker": {
             "colorbar": {
              "outlinewidth": 0,
              "ticks": ""
             }
            },
            "type": "scattermapbox"
           }
          ],
          "scatterpolar": [
           {
            "marker": {
             "colorbar": {
              "outlinewidth": 0,
              "ticks": ""
             }
            },
            "type": "scatterpolar"
           }
          ],
          "scatterpolargl": [
           {
            "marker": {
             "colorbar": {
              "outlinewidth": 0,
              "ticks": ""
             }
            },
            "type": "scatterpolargl"
           }
          ],
          "scatterternary": [
           {
            "marker": {
             "colorbar": {
              "outlinewidth": 0,
              "ticks": ""
             }
            },
            "type": "scatterternary"
           }
          ],
          "surface": [
           {
            "colorbar": {
             "outlinewidth": 0,
             "ticks": ""
            },
            "colorscale": [
             [
              0,
              "#0d0887"
             ],
             [
              0.1111111111111111,
              "#46039f"
             ],
             [
              0.2222222222222222,
              "#7201a8"
             ],
             [
              0.3333333333333333,
              "#9c179e"
             ],
             [
              0.4444444444444444,
              "#bd3786"
             ],
             [
              0.5555555555555556,
              "#d8576b"
             ],
             [
              0.6666666666666666,
              "#ed7953"
             ],
             [
              0.7777777777777778,
              "#fb9f3a"
             ],
             [
              0.8888888888888888,
              "#fdca26"
             ],
             [
              1,
              "#f0f921"
             ]
            ],
            "type": "surface"
           }
          ],
          "table": [
           {
            "cells": {
             "fill": {
              "color": "#EBF0F8"
             },
             "line": {
              "color": "white"
             }
            },
            "header": {
             "fill": {
              "color": "#C8D4E3"
             },
             "line": {
              "color": "white"
             }
            },
            "type": "table"
           }
          ]
         },
         "layout": {
          "annotationdefaults": {
           "arrowcolor": "#2a3f5f",
           "arrowhead": 0,
           "arrowwidth": 1
          },
          "coloraxis": {
           "colorbar": {
            "outlinewidth": 0,
            "ticks": ""
           }
          },
          "colorscale": {
           "diverging": [
            [
             0,
             "#8e0152"
            ],
            [
             0.1,
             "#c51b7d"
            ],
            [
             0.2,
             "#de77ae"
            ],
            [
             0.3,
             "#f1b6da"
            ],
            [
             0.4,
             "#fde0ef"
            ],
            [
             0.5,
             "#f7f7f7"
            ],
            [
             0.6,
             "#e6f5d0"
            ],
            [
             0.7,
             "#b8e186"
            ],
            [
             0.8,
             "#7fbc41"
            ],
            [
             0.9,
             "#4d9221"
            ],
            [
             1,
             "#276419"
            ]
           ],
           "sequential": [
            [
             0,
             "#0d0887"
            ],
            [
             0.1111111111111111,
             "#46039f"
            ],
            [
             0.2222222222222222,
             "#7201a8"
            ],
            [
             0.3333333333333333,
             "#9c179e"
            ],
            [
             0.4444444444444444,
             "#bd3786"
            ],
            [
             0.5555555555555556,
             "#d8576b"
            ],
            [
             0.6666666666666666,
             "#ed7953"
            ],
            [
             0.7777777777777778,
             "#fb9f3a"
            ],
            [
             0.8888888888888888,
             "#fdca26"
            ],
            [
             1,
             "#f0f921"
            ]
           ],
           "sequentialminus": [
            [
             0,
             "#0d0887"
            ],
            [
             0.1111111111111111,
             "#46039f"
            ],
            [
             0.2222222222222222,
             "#7201a8"
            ],
            [
             0.3333333333333333,
             "#9c179e"
            ],
            [
             0.4444444444444444,
             "#bd3786"
            ],
            [
             0.5555555555555556,
             "#d8576b"
            ],
            [
             0.6666666666666666,
             "#ed7953"
            ],
            [
             0.7777777777777778,
             "#fb9f3a"
            ],
            [
             0.8888888888888888,
             "#fdca26"
            ],
            [
             1,
             "#f0f921"
            ]
           ]
          },
          "colorway": [
           "#636efa",
           "#EF553B",
           "#00cc96",
           "#ab63fa",
           "#FFA15A",
           "#19d3f3",
           "#FF6692",
           "#B6E880",
           "#FF97FF",
           "#FECB52"
          ],
          "font": {
           "color": "#2a3f5f"
          },
          "geo": {
           "bgcolor": "white",
           "lakecolor": "white",
           "landcolor": "#E5ECF6",
           "showlakes": true,
           "showland": true,
           "subunitcolor": "white"
          },
          "hoverlabel": {
           "align": "left"
          },
          "hovermode": "closest",
          "mapbox": {
           "style": "light"
          },
          "paper_bgcolor": "white",
          "plot_bgcolor": "#E5ECF6",
          "polar": {
           "angularaxis": {
            "gridcolor": "white",
            "linecolor": "white",
            "ticks": ""
           },
           "bgcolor": "#E5ECF6",
           "radialaxis": {
            "gridcolor": "white",
            "linecolor": "white",
            "ticks": ""
           }
          },
          "scene": {
           "xaxis": {
            "backgroundcolor": "#E5ECF6",
            "gridcolor": "white",
            "gridwidth": 2,
            "linecolor": "white",
            "showbackground": true,
            "ticks": "",
            "zerolinecolor": "white"
           },
           "yaxis": {
            "backgroundcolor": "#E5ECF6",
            "gridcolor": "white",
            "gridwidth": 2,
            "linecolor": "white",
            "showbackground": true,
            "ticks": "",
            "zerolinecolor": "white"
           },
           "zaxis": {
            "backgroundcolor": "#E5ECF6",
            "gridcolor": "white",
            "gridwidth": 2,
            "linecolor": "white",
            "showbackground": true,
            "ticks": "",
            "zerolinecolor": "white"
           }
          },
          "shapedefaults": {
           "line": {
            "color": "#2a3f5f"
           }
          },
          "ternary": {
           "aaxis": {
            "gridcolor": "white",
            "linecolor": "white",
            "ticks": ""
           },
           "baxis": {
            "gridcolor": "white",
            "linecolor": "white",
            "ticks": ""
           },
           "bgcolor": "#E5ECF6",
           "caxis": {
            "gridcolor": "white",
            "linecolor": "white",
            "ticks": ""
           }
          },
          "title": {
           "x": 0.05
          },
          "xaxis": {
           "automargin": true,
           "gridcolor": "white",
           "linecolor": "white",
           "ticks": "",
           "title": {
            "standoff": 15
           },
           "zerolinecolor": "white",
           "zerolinewidth": 2
          },
          "yaxis": {
           "automargin": true,
           "gridcolor": "white",
           "linecolor": "white",
           "ticks": "",
           "title": {
            "standoff": 15
           },
           "zerolinecolor": "white",
           "zerolinewidth": 2
          }
         }
        },
        "width": 700
       },
       "_model_module_version": "1.5.0",
       "_py2js_animate": {},
       "_py2js_deleteTraces": {},
       "_py2js_moveTraces": {},
       "_py2js_removeLayoutProps": {},
       "_py2js_removeTraceProps": {},
       "_py2js_restyle": {},
       "_view_count": 0,
       "_view_module_version": "1.5.0"
      }
     },
     "34492a24f50f456f83fc548c987897ed": {
      "buffers": [
       {
        "data": "AACAPwAAAEAAAEBAAACAQAAAwH8=",
        "encoding": "base64",
        "path": [
         "_data",
         0,
         "y",
         "value"
        ]
       }
      ],
      "model_module": "plotlywidget",
      "model_module_version": "1.5.0",
      "model_name": "FigureModel",
      "state": {
       "_config": {
        "plotlyServerURL": "https://plot.ly"
       },
       "_data": [
        {
         "mode": "lines",
         "name": "a",
         "showlegend": true,
         "type": "scatter",
         "uid": "78b49255-c341-42a4-9f04-a1a4ad203db2",
         "x": [
          "2018-01-01T00:00:00.000000",
          "2018-01-02T00:00:00.000000",
          "2018-01-03T00:00:00.000000",
          "2018-01-04T00:00:00.000000",
          "2018-01-05T00:00:00.000000"
         ],
         "y": {
          "dtype": "float32",
          "shape": [
           5
          ]
         }
        }
       ],
       "_js2py_layoutDelta": {},
       "_js2py_pointsCallback": {},
       "_js2py_relayout": {},
       "_js2py_restyle": {},
       "_js2py_traceDeltas": {},
       "_js2py_update": {},
       "_last_layout_edit_id": 2,
       "_last_trace_edit_id": 2,
       "_layout": {
        "autosize": false,
        "colorway": [
         "#1f77b4",
         "#ff7f0e",
         "#2ca02c",
         "#d62728",
         "#9467bd",
         "#8c564b",
         "#e377c2",
         "#7f7f7f",
         "#bcbd22",
         "#17becf"
        ],
        "height": 300,
        "hovermode": "closest",
        "margin": {
         "b": 30,
         "t": 30
        },
        "template": {
         "data": {
          "bar": [
           {
            "error_x": {
             "color": "#2a3f5f"
            },
            "error_y": {
             "color": "#2a3f5f"
            },
            "marker": {
             "line": {
              "color": "#E5ECF6",
              "width": 0.5
             }
            },
            "type": "bar"
           }
          ],
          "barpolar": [
           {
            "marker": {
             "line": {
              "color": "#E5ECF6",
              "width": 0.5
             }
            },
            "type": "barpolar"
           }
          ],
          "carpet": [
           {
            "aaxis": {
             "endlinecolor": "#2a3f5f",
             "gridcolor": "white",
             "linecolor": "white",
             "minorgridcolor": "white",
             "startlinecolor": "#2a3f5f"
            },
            "baxis": {
             "endlinecolor": "#2a3f5f",
             "gridcolor": "white",
             "linecolor": "white",
             "minorgridcolor": "white",
             "startlinecolor": "#2a3f5f"
            },
            "type": "carpet"
           }
          ],
          "choropleth": [
           {
            "colorbar": {
             "outlinewidth": 0,
             "ticks": ""
            },
            "type": "choropleth"
           }
          ],
          "contour": [
           {
            "colorbar": {
             "outlinewidth": 0,
             "ticks": ""
            },
            "colorscale": [
             [
              0,
              "#0d0887"
             ],
             [
              0.1111111111111111,
              "#46039f"
             ],
             [
              0.2222222222222222,
              "#7201a8"
             ],
             [
              0.3333333333333333,
              "#9c179e"
             ],
             [
              0.4444444444444444,
              "#bd3786"
             ],
             [
              0.5555555555555556,
              "#d8576b"
             ],
             [
              0.6666666666666666,
              "#ed7953"
             ],
             [
              0.7777777777777778,
              "#fb9f3a"
             ],
             [
              0.8888888888888888,
              "#fdca26"
             ],
             [
              1,
              "#f0f921"
             ]
            ],
            "type": "contour"
           }
          ],
          "contourcarpet": [
           {
            "colorbar": {
             "outlinewidth": 0,
             "ticks": ""
            },
            "type": "contourcarpet"
           }
          ],
          "heatmap": [
           {
            "colorbar": {
             "outlinewidth": 0,
             "ticks": ""
            },
            "colorscale": [
             [
              0,
              "#0d0887"
             ],
             [
              0.1111111111111111,
              "#46039f"
             ],
             [
              0.2222222222222222,
              "#7201a8"
             ],
             [
              0.3333333333333333,
              "#9c179e"
             ],
             [
              0.4444444444444444,
              "#bd3786"
             ],
             [
              0.5555555555555556,
              "#d8576b"
             ],
             [
              0.6666666666666666,
              "#ed7953"
             ],
             [
              0.7777777777777778,
              "#fb9f3a"
             ],
             [
              0.8888888888888888,
              "#fdca26"
             ],
             [
              1,
              "#f0f921"
             ]
            ],
            "type": "heatmap"
           }
          ],
          "heatmapgl": [
           {
            "colorbar": {
             "outlinewidth": 0,
             "ticks": ""
            },
            "colorscale": [
             [
              0,
              "#0d0887"
             ],
             [
              0.1111111111111111,
              "#46039f"
             ],
             [
              0.2222222222222222,
              "#7201a8"
             ],
             [
              0.3333333333333333,
              "#9c179e"
             ],
             [
              0.4444444444444444,
              "#bd3786"
             ],
             [
              0.5555555555555556,
              "#d8576b"
             ],
             [
              0.6666666666666666,
              "#ed7953"
             ],
             [
              0.7777777777777778,
              "#fb9f3a"
             ],
             [
              0.8888888888888888,
              "#fdca26"
             ],
             [
              1,
              "#f0f921"
             ]
            ],
            "type": "heatmapgl"
           }
          ],
          "histogram": [
           {
            "marker": {
             "colorbar": {
              "outlinewidth": 0,
              "ticks": ""
             }
            },
            "type": "histogram"
           }
          ],
          "histogram2d": [
           {
            "colorbar": {
             "outlinewidth": 0,
             "ticks": ""
            },
            "colorscale": [
             [
              0,
              "#0d0887"
             ],
             [
              0.1111111111111111,
              "#46039f"
             ],
             [
              0.2222222222222222,
              "#7201a8"
             ],
             [
              0.3333333333333333,
              "#9c179e"
             ],
             [
              0.4444444444444444,
              "#bd3786"
             ],
             [
              0.5555555555555556,
              "#d8576b"
             ],
             [
              0.6666666666666666,
              "#ed7953"
             ],
             [
              0.7777777777777778,
              "#fb9f3a"
             ],
             [
              0.8888888888888888,
              "#fdca26"
             ],
             [
              1,
              "#f0f921"
             ]
            ],
            "type": "histogram2d"
           }
          ],
          "histogram2dcontour": [
           {
            "colorbar": {
             "outlinewidth": 0,
             "ticks": ""
            },
            "colorscale": [
             [
              0,
              "#0d0887"
             ],
             [
              0.1111111111111111,
              "#46039f"
             ],
             [
              0.2222222222222222,
              "#7201a8"
             ],
             [
              0.3333333333333333,
              "#9c179e"
             ],
             [
              0.4444444444444444,
              "#bd3786"
             ],
             [
              0.5555555555555556,
              "#d8576b"
             ],
             [
              0.6666666666666666,
              "#ed7953"
             ],
             [
              0.7777777777777778,
              "#fb9f3a"
             ],
             [
              0.8888888888888888,
              "#fdca26"
             ],
             [
              1,
              "#f0f921"
             ]
            ],
            "type": "histogram2dcontour"
           }
          ],
          "mesh3d": [
           {
            "colorbar": {
             "outlinewidth": 0,
             "ticks": ""
            },
            "type": "mesh3d"
           }
          ],
          "parcoords": [
           {
            "line": {
             "colorbar": {
              "outlinewidth": 0,
              "ticks": ""
             }
            },
            "type": "parcoords"
           }
          ],
          "pie": [
           {
            "automargin": true,
            "type": "pie"
           }
          ],
          "scatter": [
           {
            "marker": {
             "colorbar": {
              "outlinewidth": 0,
              "ticks": ""
             }
            },
            "type": "scatter"
           }
          ],
          "scatter3d": [
           {
            "line": {
             "colorbar": {
              "outlinewidth": 0,
              "ticks": ""
             }
            },
            "marker": {
             "colorbar": {
              "outlinewidth": 0,
              "ticks": ""
             }
            },
            "type": "scatter3d"
           }
          ],
          "scattercarpet": [
           {
            "marker": {
             "colorbar": {
              "outlinewidth": 0,
              "ticks": ""
             }
            },
            "type": "scattercarpet"
           }
          ],
          "scattergeo": [
           {
            "marker": {
             "colorbar": {
              "outlinewidth": 0,
              "ticks": ""
             }
            },
            "type": "scattergeo"
           }
          ],
          "scattergl": [
           {
            "marker": {
             "colorbar": {
              "outlinewidth": 0,
              "ticks": ""
             }
            },
            "type": "scattergl"
           }
          ],
          "scattermapbox": [
           {
            "marker": {
             "colorbar": {
              "outlinewidth": 0,
              "ticks": ""
             }
            },
            "type": "scattermapbox"
           }
          ],
          "scatterpolar": [
           {
            "marker": {
             "colorbar": {
              "outlinewidth": 0,
              "ticks": ""
             }
            },
            "type": "scatterpolar"
           }
          ],
          "scatterpolargl": [
           {
            "marker": {
             "colorbar": {
              "outlinewidth": 0,
              "ticks": ""
             }
            },
            "type": "scatterpolargl"
           }
          ],
          "scatterternary": [
           {
            "marker": {
             "colorbar": {
              "outlinewidth": 0,
              "ticks": ""
             }
            },
            "type": "scatterternary"
           }
          ],
          "surface": [
           {
            "colorbar": {
             "outlinewidth": 0,
             "ticks": ""
            },
            "colorscale": [
             [
              0,
              "#0d0887"
             ],
             [
              0.1111111111111111,
              "#46039f"
             ],
             [
              0.2222222222222222,
              "#7201a8"
             ],
             [
              0.3333333333333333,
              "#9c179e"
             ],
             [
              0.4444444444444444,
              "#bd3786"
             ],
             [
              0.5555555555555556,
              "#d8576b"
             ],
             [
              0.6666666666666666,
              "#ed7953"
             ],
             [
              0.7777777777777778,
              "#fb9f3a"
             ],
             [
              0.8888888888888888,
              "#fdca26"
             ],
             [
              1,
              "#f0f921"
             ]
            ],
            "type": "surface"
           }
          ],
          "table": [
           {
            "cells": {
             "fill": {
              "color": "#EBF0F8"
             },
             "line": {
              "color": "white"
             }
            },
            "header": {
             "fill": {
              "color": "#C8D4E3"
             },
             "line": {
              "color": "white"
             }
            },
            "type": "table"
           }
          ]
         },
         "layout": {
          "annotationdefaults": {
           "arrowcolor": "#2a3f5f",
           "arrowhead": 0,
           "arrowwidth": 1
          },
          "coloraxis": {
           "colorbar": {
            "outlinewidth": 0,
            "ticks": ""
           }
          },
          "colorscale": {
           "diverging": [
            [
             0,
             "#8e0152"
            ],
            [
             0.1,
             "#c51b7d"
            ],
            [
             0.2,
             "#de77ae"
            ],
            [
             0.3,
             "#f1b6da"
            ],
            [
             0.4,
             "#fde0ef"
            ],
            [
             0.5,
             "#f7f7f7"
            ],
            [
             0.6,
             "#e6f5d0"
            ],
            [
             0.7,
             "#b8e186"
            ],
            [
             0.8,
             "#7fbc41"
            ],
            [
             0.9,
             "#4d9221"
            ],
            [
             1,
             "#276419"
            ]
           ],
           "sequential": [
            [
             0,
             "#0d0887"
            ],
            [
             0.1111111111111111,
             "#46039f"
            ],
            [
             0.2222222222222222,
             "#7201a8"
            ],
            [
             0.3333333333333333,
             "#9c179e"
            ],
            [
             0.4444444444444444,
             "#bd3786"
            ],
            [
             0.5555555555555556,
             "#d8576b"
            ],
            [
             0.6666666666666666,
             "#ed7953"
            ],
            [
             0.7777777777777778,
             "#fb9f3a"
            ],
            [
             0.8888888888888888,
             "#fdca26"
            ],
            [
             1,
             "#f0f921"
            ]
           ],
           "sequentialminus": [
            [
             0,
             "#0d0887"
            ],
            [
             0.1111111111111111,
             "#46039f"
            ],
            [
             0.2222222222222222,
             "#7201a8"
            ],
            [
             0.3333333333333333,
             "#9c179e"
            ],
            [
             0.4444444444444444,
             "#bd3786"
            ],
            [
             0.5555555555555556,
             "#d8576b"
            ],
            [
             0.6666666666666666,
             "#ed7953"
            ],
            [
             0.7777777777777778,
             "#fb9f3a"
            ],
            [
             0.8888888888888888,
             "#fdca26"
            ],
            [
             1,
             "#f0f921"
            ]
           ]
          },
          "colorway": [
           "#636efa",
           "#EF553B",
           "#00cc96",
           "#ab63fa",
           "#FFA15A",
           "#19d3f3",
           "#FF6692",
           "#B6E880",
           "#FF97FF",
           "#FECB52"
          ],
          "font": {
           "color": "#2a3f5f"
          },
          "geo": {
           "bgcolor": "white",
           "lakecolor": "white",
           "landcolor": "#E5ECF6",
           "showlakes": true,
           "showland": true,
           "subunitcolor": "white"
          },
          "hoverlabel": {
           "align": "left"
          },
          "hovermode": "closest",
          "mapbox": {
           "style": "light"
          },
          "paper_bgcolor": "white",
          "plot_bgcolor": "#E5ECF6",
          "polar": {
           "angularaxis": {
            "gridcolor": "white",
            "linecolor": "white",
            "ticks": ""
           },
           "bgcolor": "#E5ECF6",
           "radialaxis": {
            "gridcolor": "white",
            "linecolor": "white",
            "ticks": ""
           }
          },
          "scene": {
           "xaxis": {
            "backgroundcolor": "#E5ECF6",
            "gridcolor": "white",
            "gridwidth": 2,
            "linecolor": "white",
            "showbackground": true,
            "ticks": "",
            "zerolinecolor": "white"
           },
           "yaxis": {
            "backgroundcolor": "#E5ECF6",
            "gridcolor": "white",
            "gridwidth": 2,
            "linecolor": "white",
            "showbackground": true,
            "ticks": "",
            "zerolinecolor": "white"
           },
           "zaxis": {
            "backgroundcolor": "#E5ECF6",
            "gridcolor": "white",
            "gridwidth": 2,
            "linecolor": "white",
            "showbackground": true,
            "ticks": "",
            "zerolinecolor": "white"
           }
          },
          "shapedefaults": {
           "line": {
            "color": "#2a3f5f"
           }
          },
          "ternary": {
           "aaxis": {
            "gridcolor": "white",
            "linecolor": "white",
            "ticks": ""
           },
           "baxis": {
            "gridcolor": "white",
            "linecolor": "white",
            "ticks": ""
           },
           "bgcolor": "#E5ECF6",
           "caxis": {
            "gridcolor": "white",
            "linecolor": "white",
            "ticks": ""
           }
          },
          "title": {
           "x": 0.05
          },
          "xaxis": {
           "automargin": true,
           "gridcolor": "white",
           "linecolor": "white",
           "ticks": "",
           "title": {
            "standoff": 15
           },
           "zerolinecolor": "white",
           "zerolinewidth": 2
          },
          "yaxis": {
           "automargin": true,
           "gridcolor": "white",
           "linecolor": "white",
           "ticks": "",
           "title": {
            "standoff": 15
           },
           "zerolinecolor": "white",
           "zerolinewidth": 2
          }
         }
        },
        "width": 700
       },
       "_model_module_version": "1.5.0",
       "_py2js_animate": {},
       "_py2js_deleteTraces": {},
       "_py2js_moveTraces": {},
       "_py2js_removeLayoutProps": {},
       "_py2js_removeTraceProps": {},
       "_py2js_restyle": {},
       "_view_count": 0,
       "_view_module_version": "1.5.0"
      }
     },
     "6df9a4e35f07425e8ec12ba28024ab2c": {
      "buffers": [
       {
        "data": "AADAfwAAgEAAAEBAAAAAQAAAgD8=",
        "encoding": "base64",
        "path": [
         "_data",
         0,
         "y",
         "value"
        ]
       },
       {
        "data": "AACAQA==",
        "encoding": "base64",
        "path": [
         "_data",
         1,
         "y",
         "value"
        ]
       },
       {
        "data": "AAAAQA==",
        "encoding": "base64",
        "path": [
         "_data",
         2,
         "y",
         "value"
        ]
       },
       {
        "data": "AABAQA==",
        "encoding": "base64",
        "path": [
         "_data",
         3,
         "y",
         "value"
        ]
       }
      ],
      "model_module": "plotlywidget",
      "model_module_version": "1.5.0",
      "model_name": "FigureModel",
      "state": {
       "_config": {
        "plotlyServerURL": "https://plot.ly"
       },
       "_data": [
        {
         "line": {
          "color": "grey",
          "dash": "dot",
          "width": 2
         },
         "name": "b",
         "showlegend": true,
         "type": "scatter",
         "uid": "d6e6feed-6036-49c4-b45d-7dbba441c10b",
         "x": [
          "2018-01-01T00:00:00.000000",
          "2018-01-02T00:00:00.000000",
          "2018-01-03T00:00:00.000000",
          "2018-01-04T00:00:00.000000",
          "2018-01-05T00:00:00.000000"
         ],
         "y": {
          "dtype": "float32",
          "shape": [
           5
          ]
         }
        },
        {
         "marker": {
          "color": "green",
          "size": 10,
          "symbol": "circle"
         },
         "mode": "markers",
         "name": "a (above)",
         "showlegend": true,
         "type": "scatter",
         "uid": "2f9e864f-84e7-4b65-b87f-fea8a50cff0c",
         "x": [
          "2018-01-04T00:00:00.000000"
         ],
         "y": {
          "dtype": "float32",
          "shape": [
           1
          ]
         }
        },
        {
         "marker": {
          "color": "red",
          "size": 10,
          "symbol": "circle"
         },
         "mode": "markers",
         "name": "a (below)",
         "showlegend": true,
         "type": "scatter",
         "uid": "af02f975-f06e-4f9d-b71c-c1ed3958deb5",
         "x": [
          "2018-01-02T00:00:00.000000"
         ],
         "y": {
          "dtype": "float32",
          "shape": [
           1
          ]
         }
        },
        {
         "marker": {
          "color": "grey",
          "size": 10,
          "symbol": "circle"
         },
         "mode": "markers",
         "name": "a (equal)",
         "showlegend": true,
         "type": "scatter",
         "uid": "47448ff2-cc87-45c2-bc64-d2b252f0b080",
         "x": [
          "2018-01-03T00:00:00.000000"
         ],
         "y": {
          "dtype": "float32",
          "shape": [
           1
          ]
         }
        }
       ],
       "_js2py_layoutDelta": {},
       "_js2py_pointsCallback": {},
       "_js2py_relayout": {},
       "_js2py_restyle": {},
       "_js2py_traceDeltas": {},
       "_js2py_update": {},
       "_last_layout_edit_id": 5,
       "_last_trace_edit_id": 5,
       "_layout": {
        "autosize": false,
        "colorway": [
         "#1f77b4",
         "#ff7f0e",
         "#2ca02c",
         "#d62728",
         "#9467bd",
         "#8c564b",
         "#e377c2",
         "#7f7f7f",
         "#bcbd22",
         "#17becf"
        ],
        "height": 300,
        "hovermode": "closest",
        "margin": {
         "b": 30,
         "t": 30
        },
        "template": {
         "data": {
          "bar": [
           {
            "error_x": {
             "color": "#2a3f5f"
            },
            "error_y": {
             "color": "#2a3f5f"
            },
            "marker": {
             "line": {
              "color": "#E5ECF6",
              "width": 0.5
             }
            },
            "type": "bar"
           }
          ],
          "barpolar": [
           {
            "marker": {
             "line": {
              "color": "#E5ECF6",
              "width": 0.5
             }
            },
            "type": "barpolar"
           }
          ],
          "carpet": [
           {
            "aaxis": {
             "endlinecolor": "#2a3f5f",
             "gridcolor": "white",
             "linecolor": "white",
             "minorgridcolor": "white",
             "startlinecolor": "#2a3f5f"
            },
            "baxis": {
             "endlinecolor": "#2a3f5f",
             "gridcolor": "white",
             "linecolor": "white",
             "minorgridcolor": "white",
             "startlinecolor": "#2a3f5f"
            },
            "type": "carpet"
           }
          ],
          "choropleth": [
           {
            "colorbar": {
             "outlinewidth": 0,
             "ticks": ""
            },
            "type": "choropleth"
           }
          ],
          "contour": [
           {
            "colorbar": {
             "outlinewidth": 0,
             "ticks": ""
            },
            "colorscale": [
             [
              0,
              "#0d0887"
             ],
             [
              0.1111111111111111,
              "#46039f"
             ],
             [
              0.2222222222222222,
              "#7201a8"
             ],
             [
              0.3333333333333333,
              "#9c179e"
             ],
             [
              0.4444444444444444,
              "#bd3786"
             ],
             [
              0.5555555555555556,
              "#d8576b"
             ],
             [
              0.6666666666666666,
              "#ed7953"
             ],
             [
              0.7777777777777778,
              "#fb9f3a"
             ],
             [
              0.8888888888888888,
              "#fdca26"
             ],
             [
              1,
              "#f0f921"
             ]
            ],
            "type": "contour"
           }
          ],
          "contourcarpet": [
           {
            "colorbar": {
             "outlinewidth": 0,
             "ticks": ""
            },
            "type": "contourcarpet"
           }
          ],
          "heatmap": [
           {
            "colorbar": {
             "outlinewidth": 0,
             "ticks": ""
            },
            "colorscale": [
             [
              0,
              "#0d0887"
             ],
             [
              0.1111111111111111,
              "#46039f"
             ],
             [
              0.2222222222222222,
              "#7201a8"
             ],
             [
              0.3333333333333333,
              "#9c179e"
             ],
             [
              0.4444444444444444,
              "#bd3786"
             ],
             [
              0.5555555555555556,
              "#d8576b"
             ],
             [
              0.6666666666666666,
              "#ed7953"
             ],
             [
              0.7777777777777778,
              "#fb9f3a"
             ],
             [
              0.8888888888888888,
              "#fdca26"
             ],
             [
              1,
              "#f0f921"
             ]
            ],
            "type": "heatmap"
           }
          ],
          "heatmapgl": [
           {
            "colorbar": {
             "outlinewidth": 0,
             "ticks": ""
            },
            "colorscale": [
             [
              0,
              "#0d0887"
             ],
             [
              0.1111111111111111,
              "#46039f"
             ],
             [
              0.2222222222222222,
              "#7201a8"
             ],
             [
              0.3333333333333333,
              "#9c179e"
             ],
             [
              0.4444444444444444,
              "#bd3786"
             ],
             [
              0.5555555555555556,
              "#d8576b"
             ],
             [
              0.6666666666666666,
              "#ed7953"
             ],
             [
              0.7777777777777778,
              "#fb9f3a"
             ],
             [
              0.8888888888888888,
              "#fdca26"
             ],
             [
              1,
              "#f0f921"
             ]
            ],
            "type": "heatmapgl"
           }
          ],
          "histogram": [
           {
            "marker": {
             "colorbar": {
              "outlinewidth": 0,
              "ticks": ""
             }
            },
            "type": "histogram"
           }
          ],
          "histogram2d": [
           {
            "colorbar": {
             "outlinewidth": 0,
             "ticks": ""
            },
            "colorscale": [
             [
              0,
              "#0d0887"
             ],
             [
              0.1111111111111111,
              "#46039f"
             ],
             [
              0.2222222222222222,
              "#7201a8"
             ],
             [
              0.3333333333333333,
              "#9c179e"
             ],
             [
              0.4444444444444444,
              "#bd3786"
             ],
             [
              0.5555555555555556,
              "#d8576b"
             ],
             [
              0.6666666666666666,
              "#ed7953"
             ],
             [
              0.7777777777777778,
              "#fb9f3a"
             ],
             [
              0.8888888888888888,
              "#fdca26"
             ],
             [
              1,
              "#f0f921"
             ]
            ],
            "type": "histogram2d"
           }
          ],
          "histogram2dcontour": [
           {
            "colorbar": {
             "outlinewidth": 0,
             "ticks": ""
            },
            "colorscale": [
             [
              0,
              "#0d0887"
             ],
             [
              0.1111111111111111,
              "#46039f"
             ],
             [
              0.2222222222222222,
              "#7201a8"
             ],
             [
              0.3333333333333333,
              "#9c179e"
             ],
             [
              0.4444444444444444,
              "#bd3786"
             ],
             [
              0.5555555555555556,
              "#d8576b"
             ],
             [
              0.6666666666666666,
              "#ed7953"
             ],
             [
              0.7777777777777778,
              "#fb9f3a"
             ],
             [
              0.8888888888888888,
              "#fdca26"
             ],
             [
              1,
              "#f0f921"
             ]
            ],
            "type": "histogram2dcontour"
           }
          ],
          "mesh3d": [
           {
            "colorbar": {
             "outlinewidth": 0,
             "ticks": ""
            },
            "type": "mesh3d"
           }
          ],
          "parcoords": [
           {
            "line": {
             "colorbar": {
              "outlinewidth": 0,
              "ticks": ""
             }
            },
            "type": "parcoords"
           }
          ],
          "pie": [
           {
            "automargin": true,
            "type": "pie"
           }
          ],
          "scatter": [
           {
            "marker": {
             "colorbar": {
              "outlinewidth": 0,
              "ticks": ""
             }
            },
            "type": "scatter"
           }
          ],
          "scatter3d": [
           {
            "line": {
             "colorbar": {
              "outlinewidth": 0,
              "ticks": ""
             }
            },
            "marker": {
             "colorbar": {
              "outlinewidth": 0,
              "ticks": ""
             }
            },
            "type": "scatter3d"
           }
          ],
          "scattercarpet": [
           {
            "marker": {
             "colorbar": {
              "outlinewidth": 0,
              "ticks": ""
             }
            },
            "type": "scattercarpet"
           }
          ],
          "scattergeo": [
           {
            "marker": {
             "colorbar": {
              "outlinewidth": 0,
              "ticks": ""
             }
            },
            "type": "scattergeo"
           }
          ],
          "scattergl": [
           {
            "marker": {
             "colorbar": {
              "outlinewidth": 0,
              "ticks": ""
             }
            },
            "type": "scattergl"
           }
          ],
          "scattermapbox": [
           {
            "marker": {
             "colorbar": {
              "outlinewidth": 0,
              "ticks": ""
             }
            },
            "type": "scattermapbox"
           }
          ],
          "scatterpolar": [
           {
            "marker": {
             "colorbar": {
              "outlinewidth": 0,
              "ticks": ""
             }
            },
            "type": "scatterpolar"
           }
          ],
          "scatterpolargl": [
           {
            "marker": {
             "colorbar": {
              "outlinewidth": 0,
              "ticks": ""
             }
            },
            "type": "scatterpolargl"
           }
          ],
          "scatterternary": [
           {
            "marker": {
             "colorbar": {
              "outlinewidth": 0,
              "ticks": ""
             }
            },
            "type": "scatterternary"
           }
          ],
          "surface": [
           {
            "colorbar": {
             "outlinewidth": 0,
             "ticks": ""
            },
            "colorscale": [
             [
              0,
              "#0d0887"
             ],
             [
              0.1111111111111111,
              "#46039f"
             ],
             [
              0.2222222222222222,
              "#7201a8"
             ],
             [
              0.3333333333333333,
              "#9c179e"
             ],
             [
              0.4444444444444444,
              "#bd3786"
             ],
             [
              0.5555555555555556,
              "#d8576b"
             ],
             [
              0.6666666666666666,
              "#ed7953"
             ],
             [
              0.7777777777777778,
              "#fb9f3a"
             ],
             [
              0.8888888888888888,
              "#fdca26"
             ],
             [
              1,
              "#f0f921"
             ]
            ],
            "type": "surface"
           }
          ],
          "table": [
           {
            "cells": {
             "fill": {
              "color": "#EBF0F8"
             },
             "line": {
              "color": "white"
             }
            },
            "header": {
             "fill": {
              "color": "#C8D4E3"
             },
             "line": {
              "color": "white"
             }
            },
            "type": "table"
           }
          ]
         },
         "layout": {
          "annotationdefaults": {
           "arrowcolor": "#2a3f5f",
           "arrowhead": 0,
           "arrowwidth": 1
          },
          "coloraxis": {
           "colorbar": {
            "outlinewidth": 0,
            "ticks": ""
           }
          },
          "colorscale": {
           "diverging": [
            [
             0,
             "#8e0152"
            ],
            [
             0.1,
             "#c51b7d"
            ],
            [
             0.2,
             "#de77ae"
            ],
            [
             0.3,
             "#f1b6da"
            ],
            [
             0.4,
             "#fde0ef"
            ],
            [
             0.5,
             "#f7f7f7"
            ],
            [
             0.6,
             "#e6f5d0"
            ],
            [
             0.7,
             "#b8e186"
            ],
            [
             0.8,
             "#7fbc41"
            ],
            [
             0.9,
             "#4d9221"
            ],
            [
             1,
             "#276419"
            ]
           ],
           "sequential": [
            [
             0,
             "#0d0887"
            ],
            [
             0.1111111111111111,
             "#46039f"
            ],
            [
             0.2222222222222222,
             "#7201a8"
            ],
            [
             0.3333333333333333,
             "#9c179e"
            ],
            [
             0.4444444444444444,
             "#bd3786"
            ],
            [
             0.5555555555555556,
             "#d8576b"
            ],
            [
             0.6666666666666666,
             "#ed7953"
            ],
            [
             0.7777777777777778,
             "#fb9f3a"
            ],
            [
             0.8888888888888888,
             "#fdca26"
            ],
            [
             1,
             "#f0f921"
            ]
           ],
           "sequentialminus": [
            [
             0,
             "#0d0887"
            ],
            [
             0.1111111111111111,
             "#46039f"
            ],
            [
             0.2222222222222222,
             "#7201a8"
            ],
            [
             0.3333333333333333,
             "#9c179e"
            ],
            [
             0.4444444444444444,
             "#bd3786"
            ],
            [
             0.5555555555555556,
             "#d8576b"
            ],
            [
             0.6666666666666666,
             "#ed7953"
            ],
            [
             0.7777777777777778,
             "#fb9f3a"
            ],
            [
             0.8888888888888888,
             "#fdca26"
            ],
            [
             1,
             "#f0f921"
            ]
           ]
          },
          "colorway": [
           "#636efa",
           "#EF553B",
           "#00cc96",
           "#ab63fa",
           "#FFA15A",
           "#19d3f3",
           "#FF6692",
           "#B6E880",
           "#FF97FF",
           "#FECB52"
          ],
          "font": {
           "color": "#2a3f5f"
          },
          "geo": {
           "bgcolor": "white",
           "lakecolor": "white",
           "landcolor": "#E5ECF6",
           "showlakes": true,
           "showland": true,
           "subunitcolor": "white"
          },
          "hoverlabel": {
           "align": "left"
          },
          "hovermode": "closest",
          "mapbox": {
           "style": "light"
          },
          "paper_bgcolor": "white",
          "plot_bgcolor": "#E5ECF6",
          "polar": {
           "angularaxis": {
            "gridcolor": "white",
            "linecolor": "white",
            "ticks": ""
           },
           "bgcolor": "#E5ECF6",
           "radialaxis": {
            "gridcolor": "white",
            "linecolor": "white",
            "ticks": ""
           }
          },
          "scene": {
           "xaxis": {
            "backgroundcolor": "#E5ECF6",
            "gridcolor": "white",
            "gridwidth": 2,
            "linecolor": "white",
            "showbackground": true,
            "ticks": "",
            "zerolinecolor": "white"
           },
           "yaxis": {
            "backgroundcolor": "#E5ECF6",
            "gridcolor": "white",
            "gridwidth": 2,
            "linecolor": "white",
            "showbackground": true,
            "ticks": "",
            "zerolinecolor": "white"
           },
           "zaxis": {
            "backgroundcolor": "#E5ECF6",
            "gridcolor": "white",
            "gridwidth": 2,
            "linecolor": "white",
            "showbackground": true,
            "ticks": "",
            "zerolinecolor": "white"
           }
          },
          "shapedefaults": {
           "line": {
            "color": "#2a3f5f"
           }
          },
          "ternary": {
           "aaxis": {
            "gridcolor": "white",
            "linecolor": "white",
            "ticks": ""
           },
           "baxis": {
            "gridcolor": "white",
            "linecolor": "white",
            "ticks": ""
           },
           "bgcolor": "#E5ECF6",
           "caxis": {
            "gridcolor": "white",
            "linecolor": "white",
            "ticks": ""
           }
          },
          "title": {
           "x": 0.05
          },
          "xaxis": {
           "automargin": true,
           "gridcolor": "white",
           "linecolor": "white",
           "ticks": "",
           "title": {
            "standoff": 15
           },
           "zerolinecolor": "white",
           "zerolinewidth": 2
          },
          "yaxis": {
           "automargin": true,
           "gridcolor": "white",
           "linecolor": "white",
           "ticks": "",
           "title": {
            "standoff": 15
           },
           "zerolinecolor": "white",
           "zerolinewidth": 2
          }
         }
        },
        "width": 700
       },
       "_model_module_version": "1.5.0",
       "_py2js_animate": {},
       "_py2js_deleteTraces": {},
       "_py2js_moveTraces": {},
       "_py2js_removeLayoutProps": {},
       "_py2js_removeTraceProps": {},
       "_py2js_restyle": {},
       "_view_count": 0,
       "_view_module_version": "1.5.0"
      }
     },
     "bcd13a02614d4bfb98b27c41c1006c07": {
      "buffers": [
       {
        "data": "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",
        "encoding": "base64",
        "path": [
         "_data",
         0,
         "close",
         "value"
        ]
       },
       {
        "data": "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",
        "encoding": "base64",
        "path": [
         "_data",
         0,
         "high",
         "value"
        ]
       },
       {
        "data": "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",
        "encoding": "base64",
        "path": [
         "_data",
         0,
         "low",
         "value"
        ]
       },
       {
        "data": "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",
        "encoding": "base64",
        "path": [
         "_data",
         0,
         "open",
         "value"
        ]
       },
       {
        "data": "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",
        "encoding": "base64",
        "path": [
         "_data",
         1,
         "y",
         "value"
        ]
       }
      ],
      "model_module": "plotlywidget",
      "model_module_version": "1.5.0",
      "model_name": "FigureModel",
      "state": {
       "_config": {
        "plotlyServerURL": "https://plot.ly"
       },
       "_data": [
        {
         "close": {
          "dtype": "float64",
          "shape": [
           1000
          ]
         },
         "high": {
          "dtype": "float64",
          "shape": [
           1000
          ]
         },
         "low": {
          "dtype": "float64",
          "shape": [
           1000
          ]
         },
         "name": "OHLC",
         "open": {
          "dtype": "float64",
          "shape": [
           1000
          ]
         },
         "type": "candlestick",
         "uid": "feb0547e-10f4-40f0-b72d-3f0ca5283372",
         "x": [
          "2018-01-01T00:00:00.000000",
          "2018-01-02T00:00:00.000000",
          "2018-01-03T00:00:00.000000",
          "2018-01-04T00:00:00.000000",
          "2018-01-05T00:00:00.000000",
          "2018-01-06T00:00:00.000000",
          "2018-01-07T00:00:00.000000",
          "2018-01-08T00:00:00.000000",
          "2018-01-09T00:00:00.000000",
          "2018-01-10T00:00:00.000000",
          "2018-01-11T00:00:00.000000",
          "2018-01-12T00:00:00.000000",
          "2018-01-13T00:00:00.000000",
          "2018-01-14T00:00:00.000000",
          "2018-01-15T00:00:00.000000",
          "2018-01-16T00:00:00.000000",
          "2018-01-17T00:00:00.000000",
          "2018-01-18T00:00:00.000000",
          "2018-01-19T00:00:00.000000",
          "2018-01-20T00:00:00.000000",
          "2018-01-21T00:00:00.000000",
          "2018-01-22T00:00:00.000000",
          "2018-01-23T00:00:00.000000",
          "2018-01-24T00:00:00.000000",
          "2018-01-25T00:00:00.000000",
          "2018-01-26T00:00:00.000000",
          "2018-01-27T00:00:00.000000",
          "2018-01-28T00:00:00.000000",
          "2018-01-29T00:00:00.000000",
          "2018-01-30T00:00:00.000000",
          "2018-01-31T00:00:00.000000",
          "2018-02-01T00:00:00.000000",
          "2018-02-02T00:00:00.000000",
          "2018-02-03T00:00:00.000000",
          "2018-02-04T00:00:00.000000",
          "2018-02-05T00:00:00.000000",
          "2018-02-06T00:00:00.000000",
          "2018-02-07T00:00:00.000000",
          "2018-02-08T00:00:00.000000",
          "2018-02-09T00:00:00.000000",
          "2018-02-10T00:00:00.000000",
          "2018-02-11T00:00:00.000000",
          "2018-02-12T00:00:00.000000",
          "2018-02-13T00:00:00.000000",
          "2018-02-14T00:00:00.000000",
          "2018-02-15T00:00:00.000000",
          "2018-02-16T00:00:00.000000",
          "2018-02-17T00:00:00.000000",
          "2018-02-18T00:00:00.000000",
          "2018-02-19T00:00:00.000000",
          "2018-02-20T00:00:00.000000",
          "2018-02-21T00:00:00.000000",
          "2018-02-22T00:00:00.000000",
          "2018-02-23T00:00:00.000000",
          "2018-02-24T00:00:00.000000",
          "2018-02-25T00:00:00.000000",
          "2018-02-26T00:00:00.000000",
          "2018-02-27T00:00:00.000000",
          "2018-02-28T00:00:00.000000",
          "2018-03-01T00:00:00.000000",
          "2018-03-02T00:00:00.000000",
          "2018-03-03T00:00:00.000000",
          "2018-03-04T00:00:00.000000",
          "2018-03-05T00:00:00.000000",
          "2018-03-06T00:00:00.000000",
          "2018-03-07T00:00:00.000000",
          "2018-03-08T00:00:00.000000",
          "2018-03-09T00:00:00.000000",
          "2018-03-10T00:00:00.000000",
          "2018-03-11T00:00:00.000000",
          "2018-03-12T00:00:00.000000",
          "2018-03-13T00:00:00.000000",
          "2018-03-14T00:00:00.000000",
          "2018-03-15T00:00:00.000000",
          "2018-03-16T00:00:00.000000",
          "2018-03-17T00:00:00.000000",
          "2018-03-18T00:00:00.000000",
          "2018-03-19T00:00:00.000000",
          "2018-03-20T00:00:00.000000",
          "2018-03-21T00:00:00.000000",
          "2018-03-22T00:00:00.000000",
          "2018-03-23T00:00:00.000000",
          "2018-03-24T00:00:00.000000",
          "2018-03-25T00:00:00.000000",
          "2018-03-26T00:00:00.000000",
          "2018-03-27T00:00:00.000000",
          "2018-03-28T00:00:00.000000",
          "2018-03-29T00:00:00.000000",
          "2018-03-30T00:00:00.000000",
          "2018-03-31T00:00:00.000000",
          "2018-04-01T00:00:00.000000",
          "2018-04-02T00:00:00.000000",
          "2018-04-03T00:00:00.000000",
          "2018-04-04T00:00:00.000000",
          "2018-04-05T00:00:00.000000",
          "2018-04-06T00:00:00.000000",
          "2018-04-07T00:00:00.000000",
          "2018-04-08T00:00:00.000000",
          "2018-04-09T00:00:00.000000",
          "2018-04-10T00:00:00.000000",
          "2018-04-11T00:00:00.000000",
          "2018-04-12T00:00:00.000000",
          "2018-04-13T00:00:00.000000",
          "2018-04-14T00:00:00.000000",
          "2018-04-15T00:00:00.000000",
          "2018-04-16T00:00:00.000000",
          "2018-04-17T00:00:00.000000",
          "2018-04-18T00:00:00.000000",
          "2018-04-19T00:00:00.000000",
          "2018-04-20T00:00:00.000000",
          "2018-04-21T00:00:00.000000",
          "2018-04-22T00:00:00.000000",
          "2018-04-23T00:00:00.000000",
          "2018-04-24T00:00:00.000000",
          "2018-04-25T00:00:00.000000",
          "2018-04-26T00:00:00.000000",
          "2018-04-27T00:00:00.000000",
          "2018-04-28T00:00:00.000000",
          "2018-04-29T00:00:00.000000",
          "2018-04-30T00:00:00.000000",
          "2018-05-01T00:00:00.000000",
          "2018-05-02T00:00:00.000000",
          "2018-05-03T00:00:00.000000",
          "2018-05-04T00:00:00.000000",
          "2018-05-05T00:00:00.000000",
          "2018-05-06T00:00:00.000000",
          "2018-05-07T00:00:00.000000",
          "2018-05-08T00:00:00.000000",
          "2018-05-09T00:00:00.000000",
          "2018-05-10T00:00:00.000000",
          "2018-05-11T00:00:00.000000",
          "2018-05-12T00:00:00.000000",
          "2018-05-13T00:00:00.000000",
          "2018-05-14T00:00:00.000000",
          "2018-05-15T00:00:00.000000",
          "2018-05-16T00:00:00.000000",
          "2018-05-17T00:00:00.000000",
          "2018-05-18T00:00:00.000000",
          "2018-05-19T00:00:00.000000",
          "2018-05-20T00:00:00.000000",
          "2018-05-21T00:00:00.000000",
          "2018-05-22T00:00:00.000000",
          "2018-05-23T00:00:00.000000",
          "2018-05-24T00:00:00.000000",
          "2018-05-25T00:00:00.000000",
          "2018-05-26T00:00:00.000000",
          "2018-05-27T00:00:00.000000",
          "2018-05-28T00:00:00.000000",
          "2018-05-29T00:00:00.000000",
          "2018-05-30T00:00:00.000000",
          "2018-05-31T00:00:00.000000",
          "2018-06-01T00:00:00.000000",
          "2018-06-02T00:00:00.000000",
          "2018-06-03T00:00:00.000000",
          "2018-06-04T00:00:00.000000",
          "2018-06-05T00:00:00.000000",
          "2018-06-06T00:00:00.000000",
          "2018-06-07T00:00:00.000000",
          "2018-06-08T00:00:00.000000",
          "2018-06-09T00:00:00.000000",
          "2018-06-10T00:00:00.000000",
          "2018-06-11T00:00:00.000000",
          "2018-06-12T00:00:00.000000",
          "2018-06-13T00:00:00.000000",
          "2018-06-14T00:00:00.000000",
          "2018-06-15T00:00:00.000000",
          "2018-06-16T00:00:00.000000",
          "2018-06-17T00:00:00.000000",
          "2018-06-18T00:00:00.000000",
          "2018-06-19T00:00:00.000000",
          "2018-06-20T00:00:00.000000",
          "2018-06-21T00:00:00.000000",
          "2018-06-22T00:00:00.000000",
          "2018-06-23T00:00:00.000000",
          "2018-06-24T00:00:00.000000",
          "2018-06-25T00:00:00.000000",
          "2018-06-26T00:00:00.000000",
          "2018-06-27T00:00:00.000000",
          "2018-06-28T00:00:00.000000",
          "2018-06-29T00:00:00.000000",
          "2018-06-30T00:00:00.000000",
          "2018-07-01T00:00:00.000000",
          "2018-07-02T00:00:00.000000",
          "2018-07-03T00:00:00.000000",
          "2018-07-04T00:00:00.000000",
          "2018-07-05T00:00:00.000000",
          "2018-07-06T00:00:00.000000",
          "2018-07-07T00:00:00.000000",
          "2018-07-08T00:00:00.000000",
          "2018-07-09T00:00:00.000000",
          "2018-07-10T00:00:00.000000",
          "2018-07-11T00:00:00.000000",
          "2018-07-12T00:00:00.000000",
          "2018-07-13T00:00:00.000000",
          "2018-07-14T00:00:00.000000",
          "2018-07-15T00:00:00.000000",
          "2018-07-16T00:00:00.000000",
          "2018-07-17T00:00:00.000000",
          "2018-07-18T00:00:00.000000",
          "2018-07-19T00:00:00.000000",
          "2018-07-20T00:00:00.000000",
          "2018-07-21T00:00:00.000000",
          "2018-07-22T00:00:00.000000",
          "2018-07-23T00:00:00.000000",
          "2018-07-24T00:00:00.000000",
          "2018-07-25T00:00:00.000000",
          "2018-07-26T00:00:00.000000",
          "2018-07-27T00:00:00.000000",
          "2018-07-28T00:00:00.000000",
          "2018-07-29T00:00:00.000000",
          "2018-07-30T00:00:00.000000",
          "2018-07-31T00:00:00.000000",
          "2018-08-01T00:00:00.000000",
          "2018-08-02T00:00:00.000000",
          "2018-08-03T00:00:00.000000",
          "2018-08-04T00:00:00.000000",
          "2018-08-05T00:00:00.000000",
          "2018-08-06T00:00:00.000000",
          "2018-08-07T00:00:00.000000",
          "2018-08-08T00:00:00.000000",
          "2018-08-09T00:00:00.000000",
          "2018-08-10T00:00:00.000000",
          "2018-08-11T00:00:00.000000",
          "2018-08-12T00:00:00.000000",
          "2018-08-13T00:00:00.000000",
          "2018-08-14T00:00:00.000000",
          "2018-08-15T00:00:00.000000",
          "2018-08-16T00:00:00.000000",
          "2018-08-17T00:00:00.000000",
          "2018-08-18T00:00:00.000000",
          "2018-08-19T00:00:00.000000",
          "2018-08-20T00:00:00.000000",
          "2018-08-21T00:00:00.000000",
          "2018-08-22T00:00:00.000000",
          "2018-08-23T00:00:00.000000",
          "2018-08-24T00:00:00.000000",
          "2018-08-25T00:00:00.000000",
          "2018-08-26T00:00:00.000000",
          "2018-08-27T00:00:00.000000",
          "2018-08-28T00:00:00.000000",
          "2018-08-29T00:00:00.000000",
          "2018-08-30T00:00:00.000000",
          "2018-08-31T00:00:00.000000",
          "2018-09-01T00:00:00.000000",
          "2018-09-02T00:00:00.000000",
          "2018-09-03T00:00:00.000000",
          "2018-09-04T00:00:00.000000",
          "2018-09-05T00:00:00.000000",
          "2018-09-06T00:00:00.000000",
          "2018-09-07T00:00:00.000000",
          "2018-09-08T00:00:00.000000",
          "2018-09-09T00:00:00.000000",
          "2018-09-10T00:00:00.000000",
          "2018-09-11T00:00:00.000000",
          "2018-09-12T00:00:00.000000",
          "2018-09-13T00:00:00.000000",
          "2018-09-14T00:00:00.000000",
          "2018-09-15T00:00:00.000000",
          "2018-09-16T00:00:00.000000",
          "2018-09-17T00:00:00.000000",
          "2018-09-18T00:00:00.000000",
          "2018-09-19T00:00:00.000000",
          "2018-09-20T00:00:00.000000",
          "2018-09-21T00:00:00.000000",
          "2018-09-22T00:00:00.000000",
          "2018-09-23T00:00:00.000000",
          "2018-09-24T00:00:00.000000",
          "2018-09-25T00:00:00.000000",
          "2018-09-26T00:00:00.000000",
          "2018-09-27T00:00:00.000000",
          "2018-09-28T00:00:00.000000",
          "2018-09-29T00:00:00.000000",
          "2018-09-30T00:00:00.000000",
          "2018-10-01T00:00:00.000000",
          "2018-10-02T00:00:00.000000",
          "2018-10-03T00:00:00.000000",
          "2018-10-04T00:00:00.000000",
          "2018-10-05T00:00:00.000000",
          "2018-10-06T00:00:00.000000",
          "2018-10-07T00:00:00.000000",
          "2018-10-08T00:00:00.000000",
          "2018-10-09T00:00:00.000000",
          "2018-10-10T00:00:00.000000",
          "2018-10-11T00:00:00.000000",
          "2018-10-12T00:00:00.000000",
          "2018-10-13T00:00:00.000000",
          "2018-10-14T00:00:00.000000",
          "2018-10-15T00:00:00.000000",
          "2018-10-16T00:00:00.000000",
          "2018-10-17T00:00:00.000000",
          "2018-10-18T00:00:00.000000",
          "2018-10-19T00:00:00.000000",
          "2018-10-20T00:00:00.000000",
          "2018-10-21T00:00:00.000000",
          "2018-10-22T00:00:00.000000",
          "2018-10-23T00:00:00.000000",
          "2018-10-24T00:00:00.000000",
          "2018-10-25T00:00:00.000000",
          "2018-10-26T00:00:00.000000",
          "2018-10-27T00:00:00.000000",
          "2018-10-28T00:00:00.000000",
          "2018-10-29T00:00:00.000000",
          "2018-10-30T00:00:00.000000",
          "2018-10-31T00:00:00.000000",
          "2018-11-01T00:00:00.000000",
          "2018-11-02T00:00:00.000000",
          "2018-11-03T00:00:00.000000",
          "2018-11-04T00:00:00.000000",
          "2018-11-05T00:00:00.000000",
          "2018-11-06T00:00:00.000000",
          "2018-11-07T00:00:00.000000",
          "2018-11-08T00:00:00.000000",
          "2018-11-09T00:00:00.000000",
          "2018-11-10T00:00:00.000000",
          "2018-11-11T00:00:00.000000",
          "2018-11-12T00:00:00.000000",
          "2018-11-13T00:00:00.000000",
          "2018-11-14T00:00:00.000000",
          "2018-11-15T00:00:00.000000",
          "2018-11-16T00:00:00.000000",
          "2018-11-17T00:00:00.000000",
          "2018-11-18T00:00:00.000000",
          "2018-11-19T00:00:00.000000",
          "2018-11-20T00:00:00.000000",
          "2018-11-21T00:00:00.000000",
          "2018-11-22T00:00:00.000000",
          "2018-11-23T00:00:00.000000",
          "2018-11-24T00:00:00.000000",
          "2018-11-25T00:00:00.000000",
          "2018-11-26T00:00:00.000000",
          "2018-11-27T00:00:00.000000",
          "2018-11-28T00:00:00.000000",
          "2018-11-29T00:00:00.000000",
          "2018-11-30T00:00:00.000000",
          "2018-12-01T00:00:00.000000",
          "2018-12-02T00:00:00.000000",
          "2018-12-03T00:00:00.000000",
          "2018-12-04T00:00:00.000000",
          "2018-12-05T00:00:00.000000",
          "2018-12-06T00:00:00.000000",
          "2018-12-07T00:00:00.000000",
          "2018-12-08T00:00:00.000000",
          "2018-12-09T00:00:00.000000",
          "2018-12-10T00:00:00.000000",
          "2018-12-11T00:00:00.000000",
          "2018-12-12T00:00:00.000000",
          "2018-12-13T00:00:00.000000",
          "2018-12-14T00:00:00.000000",
          "2018-12-15T00:00:00.000000",
          "2018-12-16T00:00:00.000000",
          "2018-12-17T00:00:00.000000",
          "2018-12-18T00:00:00.000000",
          "2018-12-19T00:00:00.000000",
          "2018-12-20T00:00:00.000000",
          "2018-12-21T00:00:00.000000",
          "2018-12-22T00:00:00.000000",
          "2018-12-23T00:00:00.000000",
          "2018-12-24T00:00:00.000000",
          "2018-12-25T00:00:00.000000",
          "2018-12-26T00:00:00.000000",
          "2018-12-27T00:00:00.000000",
          "2018-12-28T00:00:00.000000",
          "2018-12-29T00:00:00.000000",
          "2018-12-30T00:00:00.000000",
          "2018-12-31T00:00:00.000000",
          "2019-01-01T00:00:00.000000",
          "2019-01-02T00:00:00.000000",
          "2019-01-03T00:00:00.000000",
          "2019-01-04T00:00:00.000000",
          "2019-01-05T00:00:00.000000",
          "2019-01-06T00:00:00.000000",
          "2019-01-07T00:00:00.000000",
          "2019-01-08T00:00:00.000000",
          "2019-01-09T00:00:00.000000",
          "2019-01-10T00:00:00.000000",
          "2019-01-11T00:00:00.000000",
          "2019-01-12T00:00:00.000000",
          "2019-01-13T00:00:00.000000",
          "2019-01-14T00:00:00.000000",
          "2019-01-15T00:00:00.000000",
          "2019-01-16T00:00:00.000000",
          "2019-01-17T00:00:00.000000",
          "2019-01-18T00:00:00.000000",
          "2019-01-19T00:00:00.000000",
          "2019-01-20T00:00:00.000000",
          "2019-01-21T00:00:00.000000",
          "2019-01-22T00:00:00.000000",
          "2019-01-23T00:00:00.000000",
          "2019-01-24T00:00:00.000000",
          "2019-01-25T00:00:00.000000",
          "2019-01-26T00:00:00.000000",
          "2019-01-27T00:00:00.000000",
          "2019-01-28T00:00:00.000000",
          "2019-01-29T00:00:00.000000",
          "2019-01-30T00:00:00.000000",
          "2019-01-31T00:00:00.000000",
          "2019-02-01T00:00:00.000000",
          "2019-02-02T00:00:00.000000",
          "2019-02-03T00:00:00.000000",
          "2019-02-04T00:00:00.000000",
          "2019-02-05T00:00:00.000000",
          "2019-02-06T00:00:00.000000",
          "2019-02-07T00:00:00.000000",
          "2019-02-08T00:00:00.000000",
          "2019-02-09T00:00:00.000000",
          "2019-02-10T00:00:00.000000",
          "2019-02-11T00:00:00.000000",
          "2019-02-12T00:00:00.000000",
          "2019-02-13T00:00:00.000000",
          "2019-02-14T00:00:00.000000",
          "2019-02-15T00:00:00.000000",
          "2019-02-16T00:00:00.000000",
          "2019-02-17T00:00:00.000000",
          "2019-02-18T00:00:00.000000",
          "2019-02-19T00:00:00.000000",
          "2019-02-20T00:00:00.000000",
          "2019-02-21T00:00:00.000000",
          "2019-02-22T00:00:00.000000",
          "2019-02-23T00:00:00.000000",
          "2019-02-24T00:00:00.000000",
          "2019-02-25T00:00:00.000000",
          "2019-02-26T00:00:00.000000",
          "2019-02-27T00:00:00.000000",
          "2019-02-28T00:00:00.000000",
          "2019-03-01T00:00:00.000000",
          "2019-03-02T00:00:00.000000",
          "2019-03-03T00:00:00.000000",
          "2019-03-04T00:00:00.000000",
          "2019-03-05T00:00:00.000000",
          "2019-03-06T00:00:00.000000",
          "2019-03-07T00:00:00.000000",
          "2019-03-08T00:00:00.000000",
          "2019-03-09T00:00:00.000000",
          "2019-03-10T00:00:00.000000",
          "2019-03-11T00:00:00.000000",
          "2019-03-12T00:00:00.000000",
          "2019-03-13T00:00:00.000000",
          "2019-03-14T00:00:00.000000",
          "2019-03-15T00:00:00.000000",
          "2019-03-16T00:00:00.000000",
          "2019-03-17T00:00:00.000000",
          "2019-03-18T00:00:00.000000",
          "2019-03-19T00:00:00.000000",
          "2019-03-20T00:00:00.000000",
          "2019-03-21T00:00:00.000000",
          "2019-03-22T00:00:00.000000",
          "2019-03-23T00:00:00.000000",
          "2019-03-24T00:00:00.000000",
          "2019-03-25T00:00:00.000000",
          "2019-03-26T00:00:00.000000",
          "2019-03-27T00:00:00.000000",
          "2019-03-28T00:00:00.000000",
          "2019-03-29T00:00:00.000000",
          "2019-03-30T00:00:00.000000",
          "2019-03-31T00:00:00.000000",
          "2019-04-01T00:00:00.000000",
          "2019-04-02T00:00:00.000000",
          "2019-04-03T00:00:00.000000",
          "2019-04-04T00:00:00.000000",
          "2019-04-05T00:00:00.000000",
          "2019-04-06T00:00:00.000000",
          "2019-04-07T00:00:00.000000",
          "2019-04-08T00:00:00.000000",
          "2019-04-09T00:00:00.000000",
          "2019-04-10T00:00:00.000000",
          "2019-04-11T00:00:00.000000",
          "2019-04-12T00:00:00.000000",
          "2019-04-13T00:00:00.000000",
          "2019-04-14T00:00:00.000000",
          "2019-04-15T00:00:00.000000",
          "2019-04-16T00:00:00.000000",
          "2019-04-17T00:00:00.000000",
          "2019-04-18T00:00:00.000000",
          "2019-04-19T00:00:00.000000",
          "2019-04-20T00:00:00.000000",
          "2019-04-21T00:00:00.000000",
          "2019-04-22T00:00:00.000000",
          "2019-04-23T00:00:00.000000",
          "2019-04-24T00:00:00.000000",
          "2019-04-25T00:00:00.000000",
          "2019-04-26T00:00:00.000000",
          "2019-04-27T00:00:00.000000",
          "2019-04-28T00:00:00.000000",
          "2019-04-29T00:00:00.000000",
          "2019-04-30T00:00:00.000000",
          "2019-05-01T00:00:00.000000",
          "2019-05-02T00:00:00.000000",
          "2019-05-03T00:00:00.000000",
          "2019-05-04T00:00:00.000000",
          "2019-05-05T00:00:00.000000",
          "2019-05-06T00:00:00.000000",
          "2019-05-07T00:00:00.000000",
          "2019-05-08T00:00:00.000000",
          "2019-05-09T00:00:00.000000",
          "2019-05-10T00:00:00.000000",
          "2019-05-11T00:00:00.000000",
          "2019-05-12T00:00:00.000000",
          "2019-05-13T00:00:00.000000",
          "2019-05-14T00:00:00.000000",
          "2019-05-15T00:00:00.000000",
          "2019-05-16T00:00:00.000000",
          "2019-05-17T00:00:00.000000",
          "2019-05-18T00:00:00.000000",
          "2019-05-19T00:00:00.000000",
          "2019-05-20T00:00:00.000000",
          "2019-05-21T00:00:00.000000",
          "2019-05-22T00:00:00.000000",
          "2019-05-23T00:00:00.000000",
          "2019-05-24T00:00:00.000000",
          "2019-05-25T00:00:00.000000",
          "2019-05-26T00:00:00.000000",
          "2019-05-27T00:00:00.000000",
          "2019-05-28T00:00:00.000000",
          "2019-05-29T00:00:00.000000",
          "2019-05-30T00:00:00.000000",
          "2019-05-31T00:00:00.000000",
          "2019-06-01T00:00:00.000000",
          "2019-06-02T00:00:00.000000",
          "2019-06-03T00:00:00.000000",
          "2019-06-04T00:00:00.000000",
          "2019-06-05T00:00:00.000000",
          "2019-06-06T00:00:00.000000",
          "2019-06-07T00:00:00.000000",
          "2019-06-08T00:00:00.000000",
          "2019-06-09T00:00:00.000000",
          "2019-06-10T00:00:00.000000",
          "2019-06-11T00:00:00.000000",
          "2019-06-12T00:00:00.000000",
          "2019-06-13T00:00:00.000000",
          "2019-06-14T00:00:00.000000",
          "2019-06-15T00:00:00.000000",
          "2019-06-16T00:00:00.000000",
          "2019-06-17T00:00:00.000000",
          "2019-06-18T00:00:00.000000",
          "2019-06-19T00:00:00.000000",
          "2019-06-20T00:00:00.000000",
          "2019-06-21T00:00:00.000000",
          "2019-06-22T00:00:00.000000",
          "2019-06-23T00:00:00.000000",
          "2019-06-24T00:00:00.000000",
          "2019-06-25T00:00:00.000000",
          "2019-06-26T00:00:00.000000",
          "2019-06-27T00:00:00.000000",
          "2019-06-28T00:00:00.000000",
          "2019-06-29T00:00:00.000000",
          "2019-06-30T00:00:00.000000",
          "2019-07-01T00:00:00.000000",
          "2019-07-02T00:00:00.000000",
          "2019-07-03T00:00:00.000000",
          "2019-07-04T00:00:00.000000",
          "2019-07-05T00:00:00.000000",
          "2019-07-06T00:00:00.000000",
          "2019-07-07T00:00:00.000000",
          "2019-07-08T00:00:00.000000",
          "2019-07-09T00:00:00.000000",
          "2019-07-10T00:00:00.000000",
          "2019-07-11T00:00:00.000000",
          "2019-07-12T00:00:00.000000",
          "2019-07-13T00:00:00.000000",
          "2019-07-14T00:00:00.000000",
          "2019-07-15T00:00:00.000000",
          "2019-07-16T00:00:00.000000",
          "2019-07-17T00:00:00.000000",
          "2019-07-18T00:00:00.000000",
          "2019-07-19T00:00:00.000000",
          "2019-07-20T00:00:00.000000",
          "2019-07-21T00:00:00.000000",
          "2019-07-22T00:00:00.000000",
          "2019-07-23T00:00:00.000000",
          "2019-07-24T00:00:00.000000",
          "2019-07-25T00:00:00.000000",
          "2019-07-26T00:00:00.000000",
          "2019-07-27T00:00:00.000000",
          "2019-07-28T00:00:00.000000",
          "2019-07-29T00:00:00.000000",
          "2019-07-30T00:00:00.000000",
          "2019-07-31T00:00:00.000000",
          "2019-08-01T00:00:00.000000",
          "2019-08-02T00:00:00.000000",
          "2019-08-03T00:00:00.000000",
          "2019-08-04T00:00:00.000000",
          "2019-08-05T00:00:00.000000",
          "2019-08-06T00:00:00.000000",
          "2019-08-07T00:00:00.000000",
          "2019-08-08T00:00:00.000000",
          "2019-08-09T00:00:00.000000",
          "2019-08-10T00:00:00.000000",
          "2019-08-11T00:00:00.000000",
          "2019-08-12T00:00:00.000000",
          "2019-08-13T00:00:00.000000",
          "2019-08-14T00:00:00.000000",
          "2019-08-15T00:00:00.000000",
          "2019-08-16T00:00:00.000000",
          "2019-08-17T00:00:00.000000",
          "2019-08-18T00:00:00.000000",
          "2019-08-19T00:00:00.000000",
          "2019-08-20T00:00:00.000000",
          "2019-08-21T00:00:00.000000",
          "2019-08-22T00:00:00.000000",
          "2019-08-23T00:00:00.000000",
          "2019-08-24T00:00:00.000000",
          "2019-08-25T00:00:00.000000",
          "2019-08-26T00:00:00.000000",
          "2019-08-27T00:00:00.000000",
          "2019-08-28T00:00:00.000000",
          "2019-08-29T00:00:00.000000",
          "2019-08-30T00:00:00.000000",
          "2019-08-31T00:00:00.000000",
          "2019-09-01T00:00:00.000000",
          "2019-09-02T00:00:00.000000",
          "2019-09-03T00:00:00.000000",
          "2019-09-04T00:00:00.000000",
          "2019-09-05T00:00:00.000000",
          "2019-09-06T00:00:00.000000",
          "2019-09-07T00:00:00.000000",
          "2019-09-08T00:00:00.000000",
          "2019-09-09T00:00:00.000000",
          "2019-09-10T00:00:00.000000",
          "2019-09-11T00:00:00.000000",
          "2019-09-12T00:00:00.000000",
          "2019-09-13T00:00:00.000000",
          "2019-09-14T00:00:00.000000",
          "2019-09-15T00:00:00.000000",
          "2019-09-16T00:00:00.000000",
          "2019-09-17T00:00:00.000000",
          "2019-09-18T00:00:00.000000",
          "2019-09-19T00:00:00.000000",
          "2019-09-20T00:00:00.000000",
          "2019-09-21T00:00:00.000000",
          "2019-09-22T00:00:00.000000",
          "2019-09-23T00:00:00.000000",
          "2019-09-24T00:00:00.000000",
          "2019-09-25T00:00:00.000000",
          "2019-09-26T00:00:00.000000",
          "2019-09-27T00:00:00.000000",
          "2019-09-28T00:00:00.000000",
          "2019-09-29T00:00:00.000000",
          "2019-09-30T00:00:00.000000",
          "2019-10-01T00:00:00.000000",
          "2019-10-02T00:00:00.000000",
          "2019-10-03T00:00:00.000000",
          "2019-10-04T00:00:00.000000",
          "2019-10-05T00:00:00.000000",
          "2019-10-06T00:00:00.000000",
          "2019-10-07T00:00:00.000000",
          "2019-10-08T00:00:00.000000",
          "2019-10-09T00:00:00.000000",
          "2019-10-10T00:00:00.000000",
          "2019-10-11T00:00:00.000000",
          "2019-10-12T00:00:00.000000",
          "2019-10-13T00:00:00.000000",
          "2019-10-14T00:00:00.000000",
          "2019-10-15T00:00:00.000000",
          "2019-10-16T00:00:00.000000",
          "2019-10-17T00:00:00.000000",
          "2019-10-18T00:00:00.000000",
          "2019-10-19T00:00:00.000000",
          "2019-10-20T00:00:00.000000",
          "2019-10-21T00:00:00.000000",
          "2019-10-22T00:00:00.000000",
          "2019-10-23T00:00:00.000000",
          "2019-10-24T00:00:00.000000",
          "2019-10-25T00:00:00.000000",
          "2019-10-26T00:00:00.000000",
          "2019-10-27T00:00:00.000000",
          "2019-10-28T00:00:00.000000",
          "2019-10-29T00:00:00.000000",
          "2019-10-30T00:00:00.000000",
          "2019-10-31T00:00:00.000000",
          "2019-11-01T00:00:00.000000",
          "2019-11-02T00:00:00.000000",
          "2019-11-03T00:00:00.000000",
          "2019-11-04T00:00:00.000000",
          "2019-11-05T00:00:00.000000",
          "2019-11-06T00:00:00.000000",
          "2019-11-07T00:00:00.000000",
          "2019-11-08T00:00:00.000000",
          "2019-11-09T00:00:00.000000",
          "2019-11-10T00:00:00.000000",
          "2019-11-11T00:00:00.000000",
          "2019-11-12T00:00:00.000000",
          "2019-11-13T00:00:00.000000",
          "2019-11-14T00:00:00.000000",
          "2019-11-15T00:00:00.000000",
          "2019-11-16T00:00:00.000000",
          "2019-11-17T00:00:00.000000",
          "2019-11-18T00:00:00.000000",
          "2019-11-19T00:00:00.000000",
          "2019-11-20T00:00:00.000000",
          "2019-11-21T00:00:00.000000",
          "2019-11-22T00:00:00.000000",
          "2019-11-23T00:00:00.000000",
          "2019-11-24T00:00:00.000000",
          "2019-11-25T00:00:00.000000",
          "2019-11-26T00:00:00.000000",
          "2019-11-27T00:00:00.000000",
          "2019-11-28T00:00:00.000000",
          "2019-11-29T00:00:00.000000",
          "2019-11-30T00:00:00.000000",
          "2019-12-01T00:00:00.000000",
          "2019-12-02T00:00:00.000000",
          "2019-12-03T00:00:00.000000",
          "2019-12-04T00:00:00.000000",
          "2019-12-05T00:00:00.000000",
          "2019-12-06T00:00:00.000000",
          "2019-12-07T00:00:00.000000",
          "2019-12-08T00:00:00.000000",
          "2019-12-09T00:00:00.000000",
          "2019-12-10T00:00:00.000000",
          "2019-12-11T00:00:00.000000",
          "2019-12-12T00:00:00.000000",
          "2019-12-13T00:00:00.000000",
          "2019-12-14T00:00:00.000000",
          "2019-12-15T00:00:00.000000",
          "2019-12-16T00:00:00.000000",
          "2019-12-17T00:00:00.000000",
          "2019-12-18T00:00:00.000000",
          "2019-12-19T00:00:00.000000",
          "2019-12-20T00:00:00.000000",
          "2019-12-21T00:00:00.000000",
          "2019-12-22T00:00:00.000000",
          "2019-12-23T00:00:00.000000",
          "2019-12-24T00:00:00.000000",
          "2019-12-25T00:00:00.000000",
          "2019-12-26T00:00:00.000000",
          "2019-12-27T00:00:00.000000",
          "2019-12-28T00:00:00.000000",
          "2019-12-29T00:00:00.000000",
          "2019-12-30T00:00:00.000000",
          "2019-12-31T00:00:00.000000",
          "2020-01-01T00:00:00.000000",
          "2020-01-02T00:00:00.000000",
          "2020-01-03T00:00:00.000000",
          "2020-01-04T00:00:00.000000",
          "2020-01-05T00:00:00.000000",
          "2020-01-06T00:00:00.000000",
          "2020-01-07T00:00:00.000000",
          "2020-01-08T00:00:00.000000",
          "2020-01-09T00:00:00.000000",
          "2020-01-10T00:00:00.000000",
          "2020-01-11T00:00:00.000000",
          "2020-01-12T00:00:00.000000",
          "2020-01-13T00:00:00.000000",
          "2020-01-14T00:00:00.000000",
          "2020-01-15T00:00:00.000000",
          "2020-01-16T00:00:00.000000",
          "2020-01-17T00:00:00.000000",
          "2020-01-18T00:00:00.000000",
          "2020-01-19T00:00:00.000000",
          "2020-01-20T00:00:00.000000",
          "2020-01-21T00:00:00.000000",
          "2020-01-22T00:00:00.000000",
          "2020-01-23T00:00:00.000000",
          "2020-01-24T00:00:00.000000",
          "2020-01-25T00:00:00.000000",
          "2020-01-26T00:00:00.000000",
          "2020-01-27T00:00:00.000000",
          "2020-01-28T00:00:00.000000",
          "2020-01-29T00:00:00.000000",
          "2020-01-30T00:00:00.000000",
          "2020-01-31T00:00:00.000000",
          "2020-02-01T00:00:00.000000",
          "2020-02-02T00:00:00.000000",
          "2020-02-03T00:00:00.000000",
          "2020-02-04T00:00:00.000000",
          "2020-02-05T00:00:00.000000",
          "2020-02-06T00:00:00.000000",
          "2020-02-07T00:00:00.000000",
          "2020-02-08T00:00:00.000000",
          "2020-02-09T00:00:00.000000",
          "2020-02-10T00:00:00.000000",
          "2020-02-11T00:00:00.000000",
          "2020-02-12T00:00:00.000000",
          "2020-02-13T00:00:00.000000",
          "2020-02-14T00:00:00.000000",
          "2020-02-15T00:00:00.000000",
          "2020-02-16T00:00:00.000000",
          "2020-02-17T00:00:00.000000",
          "2020-02-18T00:00:00.000000",
          "2020-02-19T00:00:00.000000",
          "2020-02-20T00:00:00.000000",
          "2020-02-21T00:00:00.000000",
          "2020-02-22T00:00:00.000000",
          "2020-02-23T00:00:00.000000",
          "2020-02-24T00:00:00.000000",
          "2020-02-25T00:00:00.000000",
          "2020-02-26T00:00:00.000000",
          "2020-02-27T00:00:00.000000",
          "2020-02-28T00:00:00.000000",
          "2020-02-29T00:00:00.000000",
          "2020-03-01T00:00:00.000000",
          "2020-03-02T00:00:00.000000",
          "2020-03-03T00:00:00.000000",
          "2020-03-04T00:00:00.000000",
          "2020-03-05T00:00:00.000000",
          "2020-03-06T00:00:00.000000",
          "2020-03-07T00:00:00.000000",
          "2020-03-08T00:00:00.000000",
          "2020-03-09T00:00:00.000000",
          "2020-03-10T00:00:00.000000",
          "2020-03-11T00:00:00.000000",
          "2020-03-12T00:00:00.000000",
          "2020-03-13T00:00:00.000000",
          "2020-03-14T00:00:00.000000",
          "2020-03-15T00:00:00.000000",
          "2020-03-16T00:00:00.000000",
          "2020-03-17T00:00:00.000000",
          "2020-03-18T00:00:00.000000",
          "2020-03-19T00:00:00.000000",
          "2020-03-20T00:00:00.000000",
          "2020-03-21T00:00:00.000000",
          "2020-03-22T00:00:00.000000",
          "2020-03-23T00:00:00.000000",
          "2020-03-24T00:00:00.000000",
          "2020-03-25T00:00:00.000000",
          "2020-03-26T00:00:00.000000",
          "2020-03-27T00:00:00.000000",
          "2020-03-28T00:00:00.000000",
          "2020-03-29T00:00:00.000000",
          "2020-03-30T00:00:00.000000",
          "2020-03-31T00:00:00.000000",
          "2020-04-01T00:00:00.000000",
          "2020-04-02T00:00:00.000000",
          "2020-04-03T00:00:00.000000",
          "2020-04-04T00:00:00.000000",
          "2020-04-05T00:00:00.000000",
          "2020-04-06T00:00:00.000000",
          "2020-04-07T00:00:00.000000",
          "2020-04-08T00:00:00.000000",
          "2020-04-09T00:00:00.000000",
          "2020-04-10T00:00:00.000000",
          "2020-04-11T00:00:00.000000",
          "2020-04-12T00:00:00.000000",
          "2020-04-13T00:00:00.000000",
          "2020-04-14T00:00:00.000000",
          "2020-04-15T00:00:00.000000",
          "2020-04-16T00:00:00.000000",
          "2020-04-17T00:00:00.000000",
          "2020-04-18T00:00:00.000000",
          "2020-04-19T00:00:00.000000",
          "2020-04-20T00:00:00.000000",
          "2020-04-21T00:00:00.000000",
          "2020-04-22T00:00:00.000000",
          "2020-04-23T00:00:00.000000",
          "2020-04-24T00:00:00.000000",
          "2020-04-25T00:00:00.000000",
          "2020-04-26T00:00:00.000000",
          "2020-04-27T00:00:00.000000",
          "2020-04-28T00:00:00.000000",
          "2020-04-29T00:00:00.000000",
          "2020-04-30T00:00:00.000000",
          "2020-05-01T00:00:00.000000",
          "2020-05-02T00:00:00.000000",
          "2020-05-03T00:00:00.000000",
          "2020-05-04T00:00:00.000000",
          "2020-05-05T00:00:00.000000",
          "2020-05-06T00:00:00.000000",
          "2020-05-07T00:00:00.000000",
          "2020-05-08T00:00:00.000000",
          "2020-05-09T00:00:00.000000",
          "2020-05-10T00:00:00.000000",
          "2020-05-11T00:00:00.000000",
          "2020-05-12T00:00:00.000000",
          "2020-05-13T00:00:00.000000",
          "2020-05-14T00:00:00.000000",
          "2020-05-15T00:00:00.000000",
          "2020-05-16T00:00:00.000000",
          "2020-05-17T00:00:00.000000",
          "2020-05-18T00:00:00.000000",
          "2020-05-19T00:00:00.000000",
          "2020-05-20T00:00:00.000000",
          "2020-05-21T00:00:00.000000",
          "2020-05-22T00:00:00.000000",
          "2020-05-23T00:00:00.000000",
          "2020-05-24T00:00:00.000000",
          "2020-05-25T00:00:00.000000",
          "2020-05-26T00:00:00.000000",
          "2020-05-27T00:00:00.000000",
          "2020-05-28T00:00:00.000000",
          "2020-05-29T00:00:00.000000",
          "2020-05-30T00:00:00.000000",
          "2020-05-31T00:00:00.000000",
          "2020-06-01T00:00:00.000000",
          "2020-06-02T00:00:00.000000",
          "2020-06-03T00:00:00.000000",
          "2020-06-04T00:00:00.000000",
          "2020-06-05T00:00:00.000000",
          "2020-06-06T00:00:00.000000",
          "2020-06-07T00:00:00.000000",
          "2020-06-08T00:00:00.000000",
          "2020-06-09T00:00:00.000000",
          "2020-06-10T00:00:00.000000",
          "2020-06-11T00:00:00.000000",
          "2020-06-12T00:00:00.000000",
          "2020-06-13T00:00:00.000000",
          "2020-06-14T00:00:00.000000",
          "2020-06-15T00:00:00.000000",
          "2020-06-16T00:00:00.000000",
          "2020-06-17T00:00:00.000000",
          "2020-06-18T00:00:00.000000",
          "2020-06-19T00:00:00.000000",
          "2020-06-20T00:00:00.000000",
          "2020-06-21T00:00:00.000000",
          "2020-06-22T00:00:00.000000",
          "2020-06-23T00:00:00.000000",
          "2020-06-24T00:00:00.000000",
          "2020-06-25T00:00:00.000000",
          "2020-06-26T00:00:00.000000",
          "2020-06-27T00:00:00.000000",
          "2020-06-28T00:00:00.000000",
          "2020-06-29T00:00:00.000000",
          "2020-06-30T00:00:00.000000",
          "2020-07-01T00:00:00.000000",
          "2020-07-02T00:00:00.000000",
          "2020-07-03T00:00:00.000000",
          "2020-07-04T00:00:00.000000",
          "2020-07-05T00:00:00.000000",
          "2020-07-06T00:00:00.000000",
          "2020-07-07T00:00:00.000000",
          "2020-07-08T00:00:00.000000",
          "2020-07-09T00:00:00.000000",
          "2020-07-10T00:00:00.000000",
          "2020-07-11T00:00:00.000000",
          "2020-07-12T00:00:00.000000",
          "2020-07-13T00:00:00.000000",
          "2020-07-14T00:00:00.000000",
          "2020-07-15T00:00:00.000000",
          "2020-07-16T00:00:00.000000",
          "2020-07-17T00:00:00.000000",
          "2020-07-18T00:00:00.000000",
          "2020-07-19T00:00:00.000000",
          "2020-07-20T00:00:00.000000",
          "2020-07-21T00:00:00.000000",
          "2020-07-22T00:00:00.000000",
          "2020-07-23T00:00:00.000000",
          "2020-07-24T00:00:00.000000",
          "2020-07-25T00:00:00.000000",
          "2020-07-26T00:00:00.000000",
          "2020-07-27T00:00:00.000000",
          "2020-07-28T00:00:00.000000",
          "2020-07-29T00:00:00.000000",
          "2020-07-30T00:00:00.000000",
          "2020-07-31T00:00:00.000000",
          "2020-08-01T00:00:00.000000",
          "2020-08-02T00:00:00.000000",
          "2020-08-03T00:00:00.000000",
          "2020-08-04T00:00:00.000000",
          "2020-08-05T00:00:00.000000",
          "2020-08-06T00:00:00.000000",
          "2020-08-07T00:00:00.000000",
          "2020-08-08T00:00:00.000000",
          "2020-08-09T00:00:00.000000",
          "2020-08-10T00:00:00.000000",
          "2020-08-11T00:00:00.000000",
          "2020-08-12T00:00:00.000000",
          "2020-08-13T00:00:00.000000",
          "2020-08-14T00:00:00.000000",
          "2020-08-15T00:00:00.000000",
          "2020-08-16T00:00:00.000000",
          "2020-08-17T00:00:00.000000",
          "2020-08-18T00:00:00.000000",
          "2020-08-19T00:00:00.000000",
          "2020-08-20T00:00:00.000000",
          "2020-08-21T00:00:00.000000",
          "2020-08-22T00:00:00.000000",
          "2020-08-23T00:00:00.000000",
          "2020-08-24T00:00:00.000000",
          "2020-08-25T00:00:00.000000",
          "2020-08-26T00:00:00.000000",
          "2020-08-27T00:00:00.000000",
          "2020-08-28T00:00:00.000000",
          "2020-08-29T00:00:00.000000",
          "2020-08-30T00:00:00.000000",
          "2020-08-31T00:00:00.000000",
          "2020-09-01T00:00:00.000000",
          "2020-09-02T00:00:00.000000",
          "2020-09-03T00:00:00.000000",
          "2020-09-04T00:00:00.000000",
          "2020-09-05T00:00:00.000000",
          "2020-09-06T00:00:00.000000",
          "2020-09-07T00:00:00.000000",
          "2020-09-08T00:00:00.000000",
          "2020-09-09T00:00:00.000000",
          "2020-09-10T00:00:00.000000",
          "2020-09-11T00:00:00.000000",
          "2020-09-12T00:00:00.000000",
          "2020-09-13T00:00:00.000000",
          "2020-09-14T00:00:00.000000",
          "2020-09-15T00:00:00.000000",
          "2020-09-16T00:00:00.000000",
          "2020-09-17T00:00:00.000000",
          "2020-09-18T00:00:00.000000",
          "2020-09-19T00:00:00.000000",
          "2020-09-20T00:00:00.000000",
          "2020-09-21T00:00:00.000000",
          "2020-09-22T00:00:00.000000",
          "2020-09-23T00:00:00.000000",
          "2020-09-24T00:00:00.000000",
          "2020-09-25T00:00:00.000000",
          "2020-09-26T00:00:00.000000"
         ],
         "xaxis": "x",
         "yaxis": "y2"
        },
        {
         "marker": {
          "color": [
           "red",
           "red",
           "green",
           "red",
           "red",
           "red",
           "green",
           "green",
           "green",
           "green",
           "red",
           "red",
           "red",
           "green",
           "red",
           "green",
           "red",
           "red",
           "green",
           "red",
           "green",
           "green",
           "green",
           "red",
           "red",
           "red",
           "green",
           "red",
           "red",
           "red",
           "red",
           "red",
           "red",
           "red",
           "green",
           "green",
           "red",
           "green",
           "green",
           "green",
           "red",
           "red",
           "red",
           "red",
           "green",
           "red",
           "green",
           "red",
           "green",
           "green",
           "green",
           "green",
           "red",
           "red",
           "red",
           "green",
           "green",
           "red",
           "green",
           "red",
           "red",
           "red",
           "green",
           "red",
           "red",
           "green",
           "red",
           "red",
           "green",
           "red",
           "green",
           "green",
           "red",
           "red",
           "red",
           "red",
           "red",
           "red",
           "green",
           "red",
           "green",
           "red",
           "red",
           "green",
           "green",
           "green",
           "red",
           "green",
           "red",
           "red",
           "green",
           "red",
           "red",
           "red",
           "green",
           "green",
           "green",
           "green",
           "red",
           "red",
           "green",
           "red",
           "red",
           "green",
           "green",
           "green",
           "red",
           "green",
           "red",
           "red",
           "red",
           "green",
           "green",
           "red",
           "green",
           "red",
           "red",
           "green",
           "green",
           "green",
           "red",
           "green",
           "green",
           "green",
           "green",
           "red",
           "green",
           "red",
           "red",
           "red",
           "red",
           "red",
           "green",
           "green",
           "red",
           "red",
           "green",
           "red",
           "green",
           "green",
           "red",
           "green",
           "green",
           "red",
           "green",
           "red",
           "red",
           "red",
           "green",
           "red",
           "red",
           "green",
           "red",
           "green",
           "green",
           "green",
           "red",
           "green",
           "red",
           "green",
           "red",
           "red",
           "green",
           "green",
           "red",
           "green",
           "green",
           "red",
           "red",
           "green",
           "green",
           "red",
           "green",
           "red",
           "green",
           "green",
           "green",
           "red",
           "green",
           "green",
           "red",
           "red",
           "green",
           "red",
           "red",
           "red",
           "green",
           "red",
           "red",
           "green",
           "green",
           "red",
           "green",
           "red",
           "red",
           "green",
           "red",
           "green",
           "green",
           "red",
           "red",
           "green",
           "green",
           "red",
           "red",
           "green",
           "red",
           "green",
           "red",
           "green",
           "red",
           "green",
           "green",
           "green",
           "red",
           "red",
           "green",
           "red",
           "red",
           "green",
           "red",
           "red",
           "green",
           "green",
           "green",
           "green",
           "green",
           "red",
           "green",
           "green",
           "green",
           "green",
           "red",
           "green",
           "green",
           "green",
           "green",
           "red",
           "green",
           "red",
           "green",
           "green",
           "red",
           "red",
           "green",
           "green",
           "red",
           "green",
           "red",
           "green",
           "green",
           "green",
           "green",
           "green",
           "red",
           "green",
           "red",
           "red",
           "green",
           "green",
           "red",
           "red",
           "green",
           "red",
           "green",
           "red",
           "green",
           "red",
           "green",
           "red",
           "red",
           "green",
           "green",
           "green",
           "green",
           "red",
           "red",
           "red",
           "red",
           "red",
           "green",
           "red",
           "green",
           "red",
           "green",
           "red",
           "green",
           "red",
           "red",
           "green",
           "red",
           "red",
           "red",
           "red",
           "red",
           "red",
           "red",
           "red",
           "green",
           "green",
           "green",
           "red",
           "green",
           "red",
           "red",
           "green",
           "green",
           "green",
           "red",
           "green",
           "green",
           "green",
           "red",
           "green",
           "red",
           "green",
           "green",
           "red",
           "red",
           "red",
           "red",
           "green",
           "green",
           "red",
           "red",
           "red",
           "green",
           "green",
           "green",
           "green",
           "red",
           "green",
           "red",
           "red",
           "green",
           "green",
           "green",
           "red",
           "green",
           "red",
           "red",
           "red",
           "red",
           "red",
           "red",
           "green",
           "red",
           "red",
           "green",
           "green",
           "green",
           "green",
           "green",
           "red",
           "red",
           "red",
           "red",
           "green",
           "green",
           "red",
           "green",
           "green",
           "green",
           "red",
           "green",
           "red",
           "green",
           "green",
           "green",
           "red",
           "red",
           "red",
           "green",
           "red",
           "green",
           "green",
           "green",
           "red",
           "red",
           "red",
           "red",
           "red",
           "red",
           "red",
           "green",
           "green",
           "red",
           "red",
           "green",
           "red",
           "green",
           "green",
           "green",
           "red",
           "green",
           "green",
           "green",
           "green",
           "green",
           "green",
           "red",
           "green",
           "green",
           "red",
           "red",
           "green",
           "red",
           "green",
           "green",
           "red",
           "green",
           "red",
           "red",
           "red",
           "green",
           "red",
           "green",
           "red",
           "green",
           "red",
           "red",
           "red",
           "green",
           "green",
           "green",
           "green",
           "green",
           "green",
           "red",
           "red",
           "red",
           "red",
           "green",
           "green",
           "red",
           "green",
           "red",
           "red",
           "green",
           "red",
           "green",
           "red",
           "green",
           "green",
           "green",
           "red",
           "green",
           "red",
           "green",
           "green",
           "green",
           "red",
           "green",
           "green",
           "red",
           "green",
           "green",
           "green",
           "red",
           "red",
           "green",
           "red",
           "red",
           "red",
           "green",
           "green",
           "green",
           "green",
           "red",
           "red",
           "red",
           "red",
           "green",
           "red",
           "red",
           "green",
           "red",
           "green",
           "green",
           "red",
           "green",
           "red",
           "red",
           "green",
           "green",
           "red",
           "green",
           "red",
           "red",
           "green",
           "green",
           "green",
           "red",
           "red",
           "green",
           "red",
           "green",
           "green",
           "red",
           "green",
           "red",
           "red",
           "red",
           "green",
           "green",
           "red",
           "red",
           "red",
           "green",
           "red",
           "red",
           "red",
           "red",
           "red",
           "red",
           "red",
           "green",
           "red",
           "red",
           "green",
           "green",
           "red",
           "red",
           "red",
           "green",
           "green",
           "red",
           "green",
           "green",
           "green",
           "green",
           "green",
           "green",
           "green",
           "green",
           "green",
           "green",
           "red",
           "red",
           "green",
           "red",
           "red",
           "red",
           "green",
           "red",
           "green",
           "red",
           "green",
           "green",
           "green",
           "green",
           "green",
           "red",
           "red",
           "green",
           "red",
           "green",
           "red",
           "green",
           "red",
           "red",
           "green",
           "red",
           "green",
           "green",
           "green",
           "green",
           "green",
           "green",
           "red",
           "green",
           "red",
           "green",
           "green",
           "red",
           "red",
           "red",
           "red",
           "green",
           "red",
           "green",
           "red",
           "green",
           "green",
           "green",
           "green",
           "green",
           "green",
           "green",
           "red",
           "red",
           "red",
           "green",
           "green",
           "red",
           "green",
           "red",
           "green",
           "red",
           "red",
           "green",
           "red",
           "green",
           "green",
           "red",
           "red",
           "green",
           "red",
           "red",
           "green",
           "green",
           "green",
           "green",
           "red",
           "red",
           "red",
           "green",
           "red",
           "red",
           "green",
           "green",
           "red",
           "green",
           "red",
           "green",
           "red",
           "green",
           "red",
           "red",
           "red",
           "red",
           "red",
           "green",
           "red",
           "red",
           "green",
           "red",
           "red",
           "green",
           "green",
           "green",
           "green",
           "green",
           "green",
           "red",
           "red",
           "green",
           "red",
           "green",
           "green",
           "red",
           "green",
           "red",
           "green",
           "red",
           "green",
           "green",
           "red",
           "red",
           "green",
           "red",
           "green",
           "green",
           "red",
           "green",
           "green",
           "green",
           "green",
           "red",
           "red",
           "red",
           "green",
           "red",
           "red",
           "green",
           "red",
           "red",
           "red",
           "red",
           "green",
           "red",
           "green",
           "red",
           "green",
           "red",
           "red",
           "green",
           "green",
           "red",
           "green",
           "red",
           "red",
           "red",
           "red",
           "red",
           "red",
           "red",
           "red",
           "red",
           "red",
           "green",
           "red",
           "red",
           "red",
           "red",
           "green",
           "red",
           "green",
           "green",
           "red",
           "green",
           "green",
           "red",
           "red",
           "green",
           "red",
           "green",
           "red",
           "green",
           "green",
           "red",
           "red",
           "green",
           "red",
           "green",
           "green",
           "red",
           "green",
           "red",
           "green",
           "red",
           "red",
           "green",
           "green",
           "red",
           "red",
           "red",
           "red",
           "green",
           "red",
           "green",
           "green",
           "green",
           "green",
           "green",
           "green",
           "green",
           "green",
           "red",
           "green",
           "red",
           "green",
           "red",
           "green",
           "green",
           "green",
           "red",
           "green",
           "red",
           "green",
           "red",
           "green",
           "red",
           "green",
           "green",
           "red",
           "green",
           "red",
           "red",
           "red",
           "green",
           "red",
           "red",
           "green",
           "red",
           "green",
           "red",
           "red",
           "green",
           "green",
           "green",
           "red",
           "green",
           "green",
           "green",
           "red",
           "red",
           "green",
           "green",
           "red",
           "red",
           "green",
           "green",
           "green",
           "green",
           "red",
           "red",
           "red",
           "red",
           "green",
           "red",
           "green",
           "red",
           "red",
           "green",
           "red",
           "green",
           "green",
           "red",
           "red",
           "red",
           "red",
           "red",
           "green",
           "red",
           "red",
           "red",
           "red",
           "green",
           "green",
           "red",
           "red",
           "green",
           "green",
           "red",
           "red",
           "red",
           "red",
           "red",
           "green",
           "green",
           "green",
           "green",
           "red",
           "red",
           "red",
           "green",
           "green",
           "red",
           "green",
           "green",
           "green",
           "green",
           "red",
           "red",
           "green",
           "green",
           "green",
           "red",
           "green",
           "red",
           "green",
           "green",
           "green",
           "red",
           "red",
           "red",
           "red",
           "green",
           "green",
           "red",
           "green",
           "green",
           "green",
           "green",
           "green",
           "green",
           "red",
           "green",
           "green",
           "green",
           "red",
           "red",
           "red",
           "green",
           "green",
           "green",
           "red",
           "green",
           "green",
           "red",
           "red",
           "green",
           "red",
           "red",
           "green",
           "green",
           "red",
           "green",
           "red",
           "green",
           "green",
           "red",
           "green",
           "red",
           "red",
           "green",
           "red",
           "green",
           "green",
           "red",
           "red",
           "red",
           "green",
           "green",
           "red",
           "red",
           "green",
           "green",
           "red",
           "red",
           "red",
           "red",
           "red",
           "red",
           "red",
           "green",
           "red",
           "green",
           "green",
           "red",
           "green",
           "green",
           "green",
           "green",
           "green",
           "green",
           "green",
           "red",
           "red",
           "red",
           "red",
           "red",
           "red",
           "red",
           "green",
           "red",
           "green",
           "red",
           "red",
           "red",
           "green",
           "green",
           "green",
           "green",
           "red",
           "green",
           "red",
           "green",
           "green",
           "red",
           "red",
           "green",
           "red",
           "red",
           "red",
           "red",
           "green",
           "green",
           "red",
           "green",
           "green",
           "green",
           "green",
           "red",
           "red",
           "red",
           "red",
           "red",
           "red",
           "green",
           "red",
           "red",
           "green",
           "red",
           "red",
           "red",
           "red",
           "red",
           "red",
           "red",
           "green",
           "green",
           "green",
           "green",
           "green",
           "green",
           "green",
           "green",
           "red",
           "red",
           "green",
           "green",
           "red",
           "green",
           "red",
           "red",
           "red",
           "red",
           "green"
          ],
          "line": {
           "width": 0
          }
         },
         "name": "Volume",
         "type": "bar",
         "uid": "315d3afe-262a-4fc8-af5e-cff74abe388c",
         "x": [
          "2018-01-01T00:00:00.000000",
          "2018-01-02T00:00:00.000000",
          "2018-01-03T00:00:00.000000",
          "2018-01-04T00:00:00.000000",
          "2018-01-05T00:00:00.000000",
          "2018-01-06T00:00:00.000000",
          "2018-01-07T00:00:00.000000",
          "2018-01-08T00:00:00.000000",
          "2018-01-09T00:00:00.000000",
          "2018-01-10T00:00:00.000000",
          "2018-01-11T00:00:00.000000",
          "2018-01-12T00:00:00.000000",
          "2018-01-13T00:00:00.000000",
          "2018-01-14T00:00:00.000000",
          "2018-01-15T00:00:00.000000",
          "2018-01-16T00:00:00.000000",
          "2018-01-17T00:00:00.000000",
          "2018-01-18T00:00:00.000000",
          "2018-01-19T00:00:00.000000",
          "2018-01-20T00:00:00.000000",
          "2018-01-21T00:00:00.000000",
          "2018-01-22T00:00:00.000000",
          "2018-01-23T00:00:00.000000",
          "2018-01-24T00:00:00.000000",
          "2018-01-25T00:00:00.000000",
          "2018-01-26T00:00:00.000000",
          "2018-01-27T00:00:00.000000",
          "2018-01-28T00:00:00.000000",
          "2018-01-29T00:00:00.000000",
          "2018-01-30T00:00:00.000000",
          "2018-01-31T00:00:00.000000",
          "2018-02-01T00:00:00.000000",
          "2018-02-02T00:00:00.000000",
          "2018-02-03T00:00:00.000000",
          "2018-02-04T00:00:00.000000",
          "2018-02-05T00:00:00.000000",
          "2018-02-06T00:00:00.000000",
          "2018-02-07T00:00:00.000000",
          "2018-02-08T00:00:00.000000",
          "2018-02-09T00:00:00.000000",
          "2018-02-10T00:00:00.000000",
          "2018-02-11T00:00:00.000000",
          "2018-02-12T00:00:00.000000",
          "2018-02-13T00:00:00.000000",
          "2018-02-14T00:00:00.000000",
          "2018-02-15T00:00:00.000000",
          "2018-02-16T00:00:00.000000",
          "2018-02-17T00:00:00.000000",
          "2018-02-18T00:00:00.000000",
          "2018-02-19T00:00:00.000000",
          "2018-02-20T00:00:00.000000",
          "2018-02-21T00:00:00.000000",
          "2018-02-22T00:00:00.000000",
          "2018-02-23T00:00:00.000000",
          "2018-02-24T00:00:00.000000",
          "2018-02-25T00:00:00.000000",
          "2018-02-26T00:00:00.000000",
          "2018-02-27T00:00:00.000000",
          "2018-02-28T00:00:00.000000",
          "2018-03-01T00:00:00.000000",
          "2018-03-02T00:00:00.000000",
          "2018-03-03T00:00:00.000000",
          "2018-03-04T00:00:00.000000",
          "2018-03-05T00:00:00.000000",
          "2018-03-06T00:00:00.000000",
          "2018-03-07T00:00:00.000000",
          "2018-03-08T00:00:00.000000",
          "2018-03-09T00:00:00.000000",
          "2018-03-10T00:00:00.000000",
          "2018-03-11T00:00:00.000000",
          "2018-03-12T00:00:00.000000",
          "2018-03-13T00:00:00.000000",
          "2018-03-14T00:00:00.000000",
          "2018-03-15T00:00:00.000000",
          "2018-03-16T00:00:00.000000",
          "2018-03-17T00:00:00.000000",
          "2018-03-18T00:00:00.000000",
          "2018-03-19T00:00:00.000000",
          "2018-03-20T00:00:00.000000",
          "2018-03-21T00:00:00.000000",
          "2018-03-22T00:00:00.000000",
          "2018-03-23T00:00:00.000000",
          "2018-03-24T00:00:00.000000",
          "2018-03-25T00:00:00.000000",
          "2018-03-26T00:00:00.000000",
          "2018-03-27T00:00:00.000000",
          "2018-03-28T00:00:00.000000",
          "2018-03-29T00:00:00.000000",
          "2018-03-30T00:00:00.000000",
          "2018-03-31T00:00:00.000000",
          "2018-04-01T00:00:00.000000",
          "2018-04-02T00:00:00.000000",
          "2018-04-03T00:00:00.000000",
          "2018-04-04T00:00:00.000000",
          "2018-04-05T00:00:00.000000",
          "2018-04-06T00:00:00.000000",
          "2018-04-07T00:00:00.000000",
          "2018-04-08T00:00:00.000000",
          "2018-04-09T00:00:00.000000",
          "2018-04-10T00:00:00.000000",
          "2018-04-11T00:00:00.000000",
          "2018-04-12T00:00:00.000000",
          "2018-04-13T00:00:00.000000",
          "2018-04-14T00:00:00.000000",
          "2018-04-15T00:00:00.000000",
          "2018-04-16T00:00:00.000000",
          "2018-04-17T00:00:00.000000",
          "2018-04-18T00:00:00.000000",
          "2018-04-19T00:00:00.000000",
          "2018-04-20T00:00:00.000000",
          "2018-04-21T00:00:00.000000",
          "2018-04-22T00:00:00.000000",
          "2018-04-23T00:00:00.000000",
          "2018-04-24T00:00:00.000000",
          "2018-04-25T00:00:00.000000",
          "2018-04-26T00:00:00.000000",
          "2018-04-27T00:00:00.000000",
          "2018-04-28T00:00:00.000000",
          "2018-04-29T00:00:00.000000",
          "2018-04-30T00:00:00.000000",
          "2018-05-01T00:00:00.000000",
          "2018-05-02T00:00:00.000000",
          "2018-05-03T00:00:00.000000",
          "2018-05-04T00:00:00.000000",
          "2018-05-05T00:00:00.000000",
          "2018-05-06T00:00:00.000000",
          "2018-05-07T00:00:00.000000",
          "2018-05-08T00:00:00.000000",
          "2018-05-09T00:00:00.000000",
          "2018-05-10T00:00:00.000000",
          "2018-05-11T00:00:00.000000",
          "2018-05-12T00:00:00.000000",
          "2018-05-13T00:00:00.000000",
          "2018-05-14T00:00:00.000000",
          "2018-05-15T00:00:00.000000",
          "2018-05-16T00:00:00.000000",
          "2018-05-17T00:00:00.000000",
          "2018-05-18T00:00:00.000000",
          "2018-05-19T00:00:00.000000",
          "2018-05-20T00:00:00.000000",
          "2018-05-21T00:00:00.000000",
          "2018-05-22T00:00:00.000000",
          "2018-05-23T00:00:00.000000",
          "2018-05-24T00:00:00.000000",
          "2018-05-25T00:00:00.000000",
          "2018-05-26T00:00:00.000000",
          "2018-05-27T00:00:00.000000",
          "2018-05-28T00:00:00.000000",
          "2018-05-29T00:00:00.000000",
          "2018-05-30T00:00:00.000000",
          "2018-05-31T00:00:00.000000",
          "2018-06-01T00:00:00.000000",
          "2018-06-02T00:00:00.000000",
          "2018-06-03T00:00:00.000000",
          "2018-06-04T00:00:00.000000",
          "2018-06-05T00:00:00.000000",
          "2018-06-06T00:00:00.000000",
          "2018-06-07T00:00:00.000000",
          "2018-06-08T00:00:00.000000",
          "2018-06-09T00:00:00.000000",
          "2018-06-10T00:00:00.000000",
          "2018-06-11T00:00:00.000000",
          "2018-06-12T00:00:00.000000",
          "2018-06-13T00:00:00.000000",
          "2018-06-14T00:00:00.000000",
          "2018-06-15T00:00:00.000000",
          "2018-06-16T00:00:00.000000",
          "2018-06-17T00:00:00.000000",
          "2018-06-18T00:00:00.000000",
          "2018-06-19T00:00:00.000000",
          "2018-06-20T00:00:00.000000",
          "2018-06-21T00:00:00.000000",
          "2018-06-22T00:00:00.000000",
          "2018-06-23T00:00:00.000000",
          "2018-06-24T00:00:00.000000",
          "2018-06-25T00:00:00.000000",
          "2018-06-26T00:00:00.000000",
          "2018-06-27T00:00:00.000000",
          "2018-06-28T00:00:00.000000",
          "2018-06-29T00:00:00.000000",
          "2018-06-30T00:00:00.000000",
          "2018-07-01T00:00:00.000000",
          "2018-07-02T00:00:00.000000",
          "2018-07-03T00:00:00.000000",
          "2018-07-04T00:00:00.000000",
          "2018-07-05T00:00:00.000000",
          "2018-07-06T00:00:00.000000",
          "2018-07-07T00:00:00.000000",
          "2018-07-08T00:00:00.000000",
          "2018-07-09T00:00:00.000000",
          "2018-07-10T00:00:00.000000",
          "2018-07-11T00:00:00.000000",
          "2018-07-12T00:00:00.000000",
          "2018-07-13T00:00:00.000000",
          "2018-07-14T00:00:00.000000",
          "2018-07-15T00:00:00.000000",
          "2018-07-16T00:00:00.000000",
          "2018-07-17T00:00:00.000000",
          "2018-07-18T00:00:00.000000",
          "2018-07-19T00:00:00.000000",
          "2018-07-20T00:00:00.000000",
          "2018-07-21T00:00:00.000000",
          "2018-07-22T00:00:00.000000",
          "2018-07-23T00:00:00.000000",
          "2018-07-24T00:00:00.000000",
          "2018-07-25T00:00:00.000000",
          "2018-07-26T00:00:00.000000",
          "2018-07-27T00:00:00.000000",
          "2018-07-28T00:00:00.000000",
          "2018-07-29T00:00:00.000000",
          "2018-07-30T00:00:00.000000",
          "2018-07-31T00:00:00.000000",
          "2018-08-01T00:00:00.000000",
          "2018-08-02T00:00:00.000000",
          "2018-08-03T00:00:00.000000",
          "2018-08-04T00:00:00.000000",
          "2018-08-05T00:00:00.000000",
          "2018-08-06T00:00:00.000000",
          "2018-08-07T00:00:00.000000",
          "2018-08-08T00:00:00.000000",
          "2018-08-09T00:00:00.000000",
          "2018-08-10T00:00:00.000000",
          "2018-08-11T00:00:00.000000",
          "2018-08-12T00:00:00.000000",
          "2018-08-13T00:00:00.000000",
          "2018-08-14T00:00:00.000000",
          "2018-08-15T00:00:00.000000",
          "2018-08-16T00:00:00.000000",
          "2018-08-17T00:00:00.000000",
          "2018-08-18T00:00:00.000000",
          "2018-08-19T00:00:00.000000",
          "2018-08-20T00:00:00.000000",
          "2018-08-21T00:00:00.000000",
          "2018-08-22T00:00:00.000000",
          "2018-08-23T00:00:00.000000",
          "2018-08-24T00:00:00.000000",
          "2018-08-25T00:00:00.000000",
          "2018-08-26T00:00:00.000000",
          "2018-08-27T00:00:00.000000",
          "2018-08-28T00:00:00.000000",
          "2018-08-29T00:00:00.000000",
          "2018-08-30T00:00:00.000000",
          "2018-08-31T00:00:00.000000",
          "2018-09-01T00:00:00.000000",
          "2018-09-02T00:00:00.000000",
          "2018-09-03T00:00:00.000000",
          "2018-09-04T00:00:00.000000",
          "2018-09-05T00:00:00.000000",
          "2018-09-06T00:00:00.000000",
          "2018-09-07T00:00:00.000000",
          "2018-09-08T00:00:00.000000",
          "2018-09-09T00:00:00.000000",
          "2018-09-10T00:00:00.000000",
          "2018-09-11T00:00:00.000000",
          "2018-09-12T00:00:00.000000",
          "2018-09-13T00:00:00.000000",
          "2018-09-14T00:00:00.000000",
          "2018-09-15T00:00:00.000000",
          "2018-09-16T00:00:00.000000",
          "2018-09-17T00:00:00.000000",
          "2018-09-18T00:00:00.000000",
          "2018-09-19T00:00:00.000000",
          "2018-09-20T00:00:00.000000",
          "2018-09-21T00:00:00.000000",
          "2018-09-22T00:00:00.000000",
          "2018-09-23T00:00:00.000000",
          "2018-09-24T00:00:00.000000",
          "2018-09-25T00:00:00.000000",
          "2018-09-26T00:00:00.000000",
          "2018-09-27T00:00:00.000000",
          "2018-09-28T00:00:00.000000",
          "2018-09-29T00:00:00.000000",
          "2018-09-30T00:00:00.000000",
          "2018-10-01T00:00:00.000000",
          "2018-10-02T00:00:00.000000",
          "2018-10-03T00:00:00.000000",
          "2018-10-04T00:00:00.000000",
          "2018-10-05T00:00:00.000000",
          "2018-10-06T00:00:00.000000",
          "2018-10-07T00:00:00.000000",
          "2018-10-08T00:00:00.000000",
          "2018-10-09T00:00:00.000000",
          "2018-10-10T00:00:00.000000",
          "2018-10-11T00:00:00.000000",
          "2018-10-12T00:00:00.000000",
          "2018-10-13T00:00:00.000000",
          "2018-10-14T00:00:00.000000",
          "2018-10-15T00:00:00.000000",
          "2018-10-16T00:00:00.000000",
          "2018-10-17T00:00:00.000000",
          "2018-10-18T00:00:00.000000",
          "2018-10-19T00:00:00.000000",
          "2018-10-20T00:00:00.000000",
          "2018-10-21T00:00:00.000000",
          "2018-10-22T00:00:00.000000",
          "2018-10-23T00:00:00.000000",
          "2018-10-24T00:00:00.000000",
          "2018-10-25T00:00:00.000000",
          "2018-10-26T00:00:00.000000",
          "2018-10-27T00:00:00.000000",
          "2018-10-28T00:00:00.000000",
          "2018-10-29T00:00:00.000000",
          "2018-10-30T00:00:00.000000",
          "2018-10-31T00:00:00.000000",
          "2018-11-01T00:00:00.000000",
          "2018-11-02T00:00:00.000000",
          "2018-11-03T00:00:00.000000",
          "2018-11-04T00:00:00.000000",
          "2018-11-05T00:00:00.000000",
          "2018-11-06T00:00:00.000000",
          "2018-11-07T00:00:00.000000",
          "2018-11-08T00:00:00.000000",
          "2018-11-09T00:00:00.000000",
          "2018-11-10T00:00:00.000000",
          "2018-11-11T00:00:00.000000",
          "2018-11-12T00:00:00.000000",
          "2018-11-13T00:00:00.000000",
          "2018-11-14T00:00:00.000000",
          "2018-11-15T00:00:00.000000",
          "2018-11-16T00:00:00.000000",
          "2018-11-17T00:00:00.000000",
          "2018-11-18T00:00:00.000000",
          "2018-11-19T00:00:00.000000",
          "2018-11-20T00:00:00.000000",
          "2018-11-21T00:00:00.000000",
          "2018-11-22T00:00:00.000000",
          "2018-11-23T00:00:00.000000",
          "2018-11-24T00:00:00.000000",
          "2018-11-25T00:00:00.000000",
          "2018-11-26T00:00:00.000000",
          "2018-11-27T00:00:00.000000",
          "2018-11-28T00:00:00.000000",
          "2018-11-29T00:00:00.000000",
          "2018-11-30T00:00:00.000000",
          "2018-12-01T00:00:00.000000",
          "2018-12-02T00:00:00.000000",
          "2018-12-03T00:00:00.000000",
          "2018-12-04T00:00:00.000000",
          "2018-12-05T00:00:00.000000",
          "2018-12-06T00:00:00.000000",
          "2018-12-07T00:00:00.000000",
          "2018-12-08T00:00:00.000000",
          "2018-12-09T00:00:00.000000",
          "2018-12-10T00:00:00.000000",
          "2018-12-11T00:00:00.000000",
          "2018-12-12T00:00:00.000000",
          "2018-12-13T00:00:00.000000",
          "2018-12-14T00:00:00.000000",
          "2018-12-15T00:00:00.000000",
          "2018-12-16T00:00:00.000000",
          "2018-12-17T00:00:00.000000",
          "2018-12-18T00:00:00.000000",
          "2018-12-19T00:00:00.000000",
          "2018-12-20T00:00:00.000000",
          "2018-12-21T00:00:00.000000",
          "2018-12-22T00:00:00.000000",
          "2018-12-23T00:00:00.000000",
          "2018-12-24T00:00:00.000000",
          "2018-12-25T00:00:00.000000",
          "2018-12-26T00:00:00.000000",
          "2018-12-27T00:00:00.000000",
          "2018-12-28T00:00:00.000000",
          "2018-12-29T00:00:00.000000",
          "2018-12-30T00:00:00.000000",
          "2018-12-31T00:00:00.000000",
          "2019-01-01T00:00:00.000000",
          "2019-01-02T00:00:00.000000",
          "2019-01-03T00:00:00.000000",
          "2019-01-04T00:00:00.000000",
          "2019-01-05T00:00:00.000000",
          "2019-01-06T00:00:00.000000",
          "2019-01-07T00:00:00.000000",
          "2019-01-08T00:00:00.000000",
          "2019-01-09T00:00:00.000000",
          "2019-01-10T00:00:00.000000",
          "2019-01-11T00:00:00.000000",
          "2019-01-12T00:00:00.000000",
          "2019-01-13T00:00:00.000000",
          "2019-01-14T00:00:00.000000",
          "2019-01-15T00:00:00.000000",
          "2019-01-16T00:00:00.000000",
          "2019-01-17T00:00:00.000000",
          "2019-01-18T00:00:00.000000",
          "2019-01-19T00:00:00.000000",
          "2019-01-20T00:00:00.000000",
          "2019-01-21T00:00:00.000000",
          "2019-01-22T00:00:00.000000",
          "2019-01-23T00:00:00.000000",
          "2019-01-24T00:00:00.000000",
          "2019-01-25T00:00:00.000000",
          "2019-01-26T00:00:00.000000",
          "2019-01-27T00:00:00.000000",
          "2019-01-28T00:00:00.000000",
          "2019-01-29T00:00:00.000000",
          "2019-01-30T00:00:00.000000",
          "2019-01-31T00:00:00.000000",
          "2019-02-01T00:00:00.000000",
          "2019-02-02T00:00:00.000000",
          "2019-02-03T00:00:00.000000",
          "2019-02-04T00:00:00.000000",
          "2019-02-05T00:00:00.000000",
          "2019-02-06T00:00:00.000000",
          "2019-02-07T00:00:00.000000",
          "2019-02-08T00:00:00.000000",
          "2019-02-09T00:00:00.000000",
          "2019-02-10T00:00:00.000000",
          "2019-02-11T00:00:00.000000",
          "2019-02-12T00:00:00.000000",
          "2019-02-13T00:00:00.000000",
          "2019-02-14T00:00:00.000000",
          "2019-02-15T00:00:00.000000",
          "2019-02-16T00:00:00.000000",
          "2019-02-17T00:00:00.000000",
          "2019-02-18T00:00:00.000000",
          "2019-02-19T00:00:00.000000",
          "2019-02-20T00:00:00.000000",
          "2019-02-21T00:00:00.000000",
          "2019-02-22T00:00:00.000000",
          "2019-02-23T00:00:00.000000",
          "2019-02-24T00:00:00.000000",
          "2019-02-25T00:00:00.000000",
          "2019-02-26T00:00:00.000000",
          "2019-02-27T00:00:00.000000",
          "2019-02-28T00:00:00.000000",
          "2019-03-01T00:00:00.000000",
          "2019-03-02T00:00:00.000000",
          "2019-03-03T00:00:00.000000",
          "2019-03-04T00:00:00.000000",
          "2019-03-05T00:00:00.000000",
          "2019-03-06T00:00:00.000000",
          "2019-03-07T00:00:00.000000",
          "2019-03-08T00:00:00.000000",
          "2019-03-09T00:00:00.000000",
          "2019-03-10T00:00:00.000000",
          "2019-03-11T00:00:00.000000",
          "2019-03-12T00:00:00.000000",
          "2019-03-13T00:00:00.000000",
          "2019-03-14T00:00:00.000000",
          "2019-03-15T00:00:00.000000",
          "2019-03-16T00:00:00.000000",
          "2019-03-17T00:00:00.000000",
          "2019-03-18T00:00:00.000000",
          "2019-03-19T00:00:00.000000",
          "2019-03-20T00:00:00.000000",
          "2019-03-21T00:00:00.000000",
          "2019-03-22T00:00:00.000000",
          "2019-03-23T00:00:00.000000",
          "2019-03-24T00:00:00.000000",
          "2019-03-25T00:00:00.000000",
          "2019-03-26T00:00:00.000000",
          "2019-03-27T00:00:00.000000",
          "2019-03-28T00:00:00.000000",
          "2019-03-29T00:00:00.000000",
          "2019-03-30T00:00:00.000000",
          "2019-03-31T00:00:00.000000",
          "2019-04-01T00:00:00.000000",
          "2019-04-02T00:00:00.000000",
          "2019-04-03T00:00:00.000000",
          "2019-04-04T00:00:00.000000",
          "2019-04-05T00:00:00.000000",
          "2019-04-06T00:00:00.000000",
          "2019-04-07T00:00:00.000000",
          "2019-04-08T00:00:00.000000",
          "2019-04-09T00:00:00.000000",
          "2019-04-10T00:00:00.000000",
          "2019-04-11T00:00:00.000000",
          "2019-04-12T00:00:00.000000",
          "2019-04-13T00:00:00.000000",
          "2019-04-14T00:00:00.000000",
          "2019-04-15T00:00:00.000000",
          "2019-04-16T00:00:00.000000",
          "2019-04-17T00:00:00.000000",
          "2019-04-18T00:00:00.000000",
          "2019-04-19T00:00:00.000000",
          "2019-04-20T00:00:00.000000",
          "2019-04-21T00:00:00.000000",
          "2019-04-22T00:00:00.000000",
          "2019-04-23T00:00:00.000000",
          "2019-04-24T00:00:00.000000",
          "2019-04-25T00:00:00.000000",
          "2019-04-26T00:00:00.000000",
          "2019-04-27T00:00:00.000000",
          "2019-04-28T00:00:00.000000",
          "2019-04-29T00:00:00.000000",
          "2019-04-30T00:00:00.000000",
          "2019-05-01T00:00:00.000000",
          "2019-05-02T00:00:00.000000",
          "2019-05-03T00:00:00.000000",
          "2019-05-04T00:00:00.000000",
          "2019-05-05T00:00:00.000000",
          "2019-05-06T00:00:00.000000",
          "2019-05-07T00:00:00.000000",
          "2019-05-08T00:00:00.000000",
          "2019-05-09T00:00:00.000000",
          "2019-05-10T00:00:00.000000",
          "2019-05-11T00:00:00.000000",
          "2019-05-12T00:00:00.000000",
          "2019-05-13T00:00:00.000000",
          "2019-05-14T00:00:00.000000",
          "2019-05-15T00:00:00.000000",
          "2019-05-16T00:00:00.000000",
          "2019-05-17T00:00:00.000000",
          "2019-05-18T00:00:00.000000",
          "2019-05-19T00:00:00.000000",
          "2019-05-20T00:00:00.000000",
          "2019-05-21T00:00:00.000000",
          "2019-05-22T00:00:00.000000",
          "2019-05-23T00:00:00.000000",
          "2019-05-24T00:00:00.000000",
          "2019-05-25T00:00:00.000000",
          "2019-05-26T00:00:00.000000",
          "2019-05-27T00:00:00.000000",
          "2019-05-28T00:00:00.000000",
          "2019-05-29T00:00:00.000000",
          "2019-05-30T00:00:00.000000",
          "2019-05-31T00:00:00.000000",
          "2019-06-01T00:00:00.000000",
          "2019-06-02T00:00:00.000000",
          "2019-06-03T00:00:00.000000",
          "2019-06-04T00:00:00.000000",
          "2019-06-05T00:00:00.000000",
          "2019-06-06T00:00:00.000000",
          "2019-06-07T00:00:00.000000",
          "2019-06-08T00:00:00.000000",
          "2019-06-09T00:00:00.000000",
          "2019-06-10T00:00:00.000000",
          "2019-06-11T00:00:00.000000",
          "2019-06-12T00:00:00.000000",
          "2019-06-13T00:00:00.000000",
          "2019-06-14T00:00:00.000000",
          "2019-06-15T00:00:00.000000",
          "2019-06-16T00:00:00.000000",
          "2019-06-17T00:00:00.000000",
          "2019-06-18T00:00:00.000000",
          "2019-06-19T00:00:00.000000",
          "2019-06-20T00:00:00.000000",
          "2019-06-21T00:00:00.000000",
          "2019-06-22T00:00:00.000000",
          "2019-06-23T00:00:00.000000",
          "2019-06-24T00:00:00.000000",
          "2019-06-25T00:00:00.000000",
          "2019-06-26T00:00:00.000000",
          "2019-06-27T00:00:00.000000",
          "2019-06-28T00:00:00.000000",
          "2019-06-29T00:00:00.000000",
          "2019-06-30T00:00:00.000000",
          "2019-07-01T00:00:00.000000",
          "2019-07-02T00:00:00.000000",
          "2019-07-03T00:00:00.000000",
          "2019-07-04T00:00:00.000000",
          "2019-07-05T00:00:00.000000",
          "2019-07-06T00:00:00.000000",
          "2019-07-07T00:00:00.000000",
          "2019-07-08T00:00:00.000000",
          "2019-07-09T00:00:00.000000",
          "2019-07-10T00:00:00.000000",
          "2019-07-11T00:00:00.000000",
          "2019-07-12T00:00:00.000000",
          "2019-07-13T00:00:00.000000",
          "2019-07-14T00:00:00.000000",
          "2019-07-15T00:00:00.000000",
          "2019-07-16T00:00:00.000000",
          "2019-07-17T00:00:00.000000",
          "2019-07-18T00:00:00.000000",
          "2019-07-19T00:00:00.000000",
          "2019-07-20T00:00:00.000000",
          "2019-07-21T00:00:00.000000",
          "2019-07-22T00:00:00.000000",
          "2019-07-23T00:00:00.000000",
          "2019-07-24T00:00:00.000000",
          "2019-07-25T00:00:00.000000",
          "2019-07-26T00:00:00.000000",
          "2019-07-27T00:00:00.000000",
          "2019-07-28T00:00:00.000000",
          "2019-07-29T00:00:00.000000",
          "2019-07-30T00:00:00.000000",
          "2019-07-31T00:00:00.000000",
          "2019-08-01T00:00:00.000000",
          "2019-08-02T00:00:00.000000",
          "2019-08-03T00:00:00.000000",
          "2019-08-04T00:00:00.000000",
          "2019-08-05T00:00:00.000000",
          "2019-08-06T00:00:00.000000",
          "2019-08-07T00:00:00.000000",
          "2019-08-08T00:00:00.000000",
          "2019-08-09T00:00:00.000000",
          "2019-08-10T00:00:00.000000",
          "2019-08-11T00:00:00.000000",
          "2019-08-12T00:00:00.000000",
          "2019-08-13T00:00:00.000000",
          "2019-08-14T00:00:00.000000",
          "2019-08-15T00:00:00.000000",
          "2019-08-16T00:00:00.000000",
          "2019-08-17T00:00:00.000000",
          "2019-08-18T00:00:00.000000",
          "2019-08-19T00:00:00.000000",
          "2019-08-20T00:00:00.000000",
          "2019-08-21T00:00:00.000000",
          "2019-08-22T00:00:00.000000",
          "2019-08-23T00:00:00.000000",
          "2019-08-24T00:00:00.000000",
          "2019-08-25T00:00:00.000000",
          "2019-08-26T00:00:00.000000",
          "2019-08-27T00:00:00.000000",
          "2019-08-28T00:00:00.000000",
          "2019-08-29T00:00:00.000000",
          "2019-08-30T00:00:00.000000",
          "2019-08-31T00:00:00.000000",
          "2019-09-01T00:00:00.000000",
          "2019-09-02T00:00:00.000000",
          "2019-09-03T00:00:00.000000",
          "2019-09-04T00:00:00.000000",
          "2019-09-05T00:00:00.000000",
          "2019-09-06T00:00:00.000000",
          "2019-09-07T00:00:00.000000",
          "2019-09-08T00:00:00.000000",
          "2019-09-09T00:00:00.000000",
          "2019-09-10T00:00:00.000000",
          "2019-09-11T00:00:00.000000",
          "2019-09-12T00:00:00.000000",
          "2019-09-13T00:00:00.000000",
          "2019-09-14T00:00:00.000000",
          "2019-09-15T00:00:00.000000",
          "2019-09-16T00:00:00.000000",
          "2019-09-17T00:00:00.000000",
          "2019-09-18T00:00:00.000000",
          "2019-09-19T00:00:00.000000",
          "2019-09-20T00:00:00.000000",
          "2019-09-21T00:00:00.000000",
          "2019-09-22T00:00:00.000000",
          "2019-09-23T00:00:00.000000",
          "2019-09-24T00:00:00.000000",
          "2019-09-25T00:00:00.000000",
          "2019-09-26T00:00:00.000000",
          "2019-09-27T00:00:00.000000",
          "2019-09-28T00:00:00.000000",
          "2019-09-29T00:00:00.000000",
          "2019-09-30T00:00:00.000000",
          "2019-10-01T00:00:00.000000",
          "2019-10-02T00:00:00.000000",
          "2019-10-03T00:00:00.000000",
          "2019-10-04T00:00:00.000000",
          "2019-10-05T00:00:00.000000",
          "2019-10-06T00:00:00.000000",
          "2019-10-07T00:00:00.000000",
          "2019-10-08T00:00:00.000000",
          "2019-10-09T00:00:00.000000",
          "2019-10-10T00:00:00.000000",
          "2019-10-11T00:00:00.000000",
          "2019-10-12T00:00:00.000000",
          "2019-10-13T00:00:00.000000",
          "2019-10-14T00:00:00.000000",
          "2019-10-15T00:00:00.000000",
          "2019-10-16T00:00:00.000000",
          "2019-10-17T00:00:00.000000",
          "2019-10-18T00:00:00.000000",
          "2019-10-19T00:00:00.000000",
          "2019-10-20T00:00:00.000000",
          "2019-10-21T00:00:00.000000",
          "2019-10-22T00:00:00.000000",
          "2019-10-23T00:00:00.000000",
          "2019-10-24T00:00:00.000000",
          "2019-10-25T00:00:00.000000",
          "2019-10-26T00:00:00.000000",
          "2019-10-27T00:00:00.000000",
          "2019-10-28T00:00:00.000000",
          "2019-10-29T00:00:00.000000",
          "2019-10-30T00:00:00.000000",
          "2019-10-31T00:00:00.000000",
          "2019-11-01T00:00:00.000000",
          "2019-11-02T00:00:00.000000",
          "2019-11-03T00:00:00.000000",
          "2019-11-04T00:00:00.000000",
          "2019-11-05T00:00:00.000000",
          "2019-11-06T00:00:00.000000",
          "2019-11-07T00:00:00.000000",
          "2019-11-08T00:00:00.000000",
          "2019-11-09T00:00:00.000000",
          "2019-11-10T00:00:00.000000",
          "2019-11-11T00:00:00.000000",
          "2019-11-12T00:00:00.000000",
          "2019-11-13T00:00:00.000000",
          "2019-11-14T00:00:00.000000",
          "2019-11-15T00:00:00.000000",
          "2019-11-16T00:00:00.000000",
          "2019-11-17T00:00:00.000000",
          "2019-11-18T00:00:00.000000",
          "2019-11-19T00:00:00.000000",
          "2019-11-20T00:00:00.000000",
          "2019-11-21T00:00:00.000000",
          "2019-11-22T00:00:00.000000",
          "2019-11-23T00:00:00.000000",
          "2019-11-24T00:00:00.000000",
          "2019-11-25T00:00:00.000000",
          "2019-11-26T00:00:00.000000",
          "2019-11-27T00:00:00.000000",
          "2019-11-28T00:00:00.000000",
          "2019-11-29T00:00:00.000000",
          "2019-11-30T00:00:00.000000",
          "2019-12-01T00:00:00.000000",
          "2019-12-02T00:00:00.000000",
          "2019-12-03T00:00:00.000000",
          "2019-12-04T00:00:00.000000",
          "2019-12-05T00:00:00.000000",
          "2019-12-06T00:00:00.000000",
          "2019-12-07T00:00:00.000000",
          "2019-12-08T00:00:00.000000",
          "2019-12-09T00:00:00.000000",
          "2019-12-10T00:00:00.000000",
          "2019-12-11T00:00:00.000000",
          "2019-12-12T00:00:00.000000",
          "2019-12-13T00:00:00.000000",
          "2019-12-14T00:00:00.000000",
          "2019-12-15T00:00:00.000000",
          "2019-12-16T00:00:00.000000",
          "2019-12-17T00:00:00.000000",
          "2019-12-18T00:00:00.000000",
          "2019-12-19T00:00:00.000000",
          "2019-12-20T00:00:00.000000",
          "2019-12-21T00:00:00.000000",
          "2019-12-22T00:00:00.000000",
          "2019-12-23T00:00:00.000000",
          "2019-12-24T00:00:00.000000",
          "2019-12-25T00:00:00.000000",
          "2019-12-26T00:00:00.000000",
          "2019-12-27T00:00:00.000000",
          "2019-12-28T00:00:00.000000",
          "2019-12-29T00:00:00.000000",
          "2019-12-30T00:00:00.000000",
          "2019-12-31T00:00:00.000000",
          "2020-01-01T00:00:00.000000",
          "2020-01-02T00:00:00.000000",
          "2020-01-03T00:00:00.000000",
          "2020-01-04T00:00:00.000000",
          "2020-01-05T00:00:00.000000",
          "2020-01-06T00:00:00.000000",
          "2020-01-07T00:00:00.000000",
          "2020-01-08T00:00:00.000000",
          "2020-01-09T00:00:00.000000",
          "2020-01-10T00:00:00.000000",
          "2020-01-11T00:00:00.000000",
          "2020-01-12T00:00:00.000000",
          "2020-01-13T00:00:00.000000",
          "2020-01-14T00:00:00.000000",
          "2020-01-15T00:00:00.000000",
          "2020-01-16T00:00:00.000000",
          "2020-01-17T00:00:00.000000",
          "2020-01-18T00:00:00.000000",
          "2020-01-19T00:00:00.000000",
          "2020-01-20T00:00:00.000000",
          "2020-01-21T00:00:00.000000",
          "2020-01-22T00:00:00.000000",
          "2020-01-23T00:00:00.000000",
          "2020-01-24T00:00:00.000000",
          "2020-01-25T00:00:00.000000",
          "2020-01-26T00:00:00.000000",
          "2020-01-27T00:00:00.000000",
          "2020-01-28T00:00:00.000000",
          "2020-01-29T00:00:00.000000",
          "2020-01-30T00:00:00.000000",
          "2020-01-31T00:00:00.000000",
          "2020-02-01T00:00:00.000000",
          "2020-02-02T00:00:00.000000",
          "2020-02-03T00:00:00.000000",
          "2020-02-04T00:00:00.000000",
          "2020-02-05T00:00:00.000000",
          "2020-02-06T00:00:00.000000",
          "2020-02-07T00:00:00.000000",
          "2020-02-08T00:00:00.000000",
          "2020-02-09T00:00:00.000000",
          "2020-02-10T00:00:00.000000",
          "2020-02-11T00:00:00.000000",
          "2020-02-12T00:00:00.000000",
          "2020-02-13T00:00:00.000000",
          "2020-02-14T00:00:00.000000",
          "2020-02-15T00:00:00.000000",
          "2020-02-16T00:00:00.000000",
          "2020-02-17T00:00:00.000000",
          "2020-02-18T00:00:00.000000",
          "2020-02-19T00:00:00.000000",
          "2020-02-20T00:00:00.000000",
          "2020-02-21T00:00:00.000000",
          "2020-02-22T00:00:00.000000",
          "2020-02-23T00:00:00.000000",
          "2020-02-24T00:00:00.000000",
          "2020-02-25T00:00:00.000000",
          "2020-02-26T00:00:00.000000",
          "2020-02-27T00:00:00.000000",
          "2020-02-28T00:00:00.000000",
          "2020-02-29T00:00:00.000000",
          "2020-03-01T00:00:00.000000",
          "2020-03-02T00:00:00.000000",
          "2020-03-03T00:00:00.000000",
          "2020-03-04T00:00:00.000000",
          "2020-03-05T00:00:00.000000",
          "2020-03-06T00:00:00.000000",
          "2020-03-07T00:00:00.000000",
          "2020-03-08T00:00:00.000000",
          "2020-03-09T00:00:00.000000",
          "2020-03-10T00:00:00.000000",
          "2020-03-11T00:00:00.000000",
          "2020-03-12T00:00:00.000000",
          "2020-03-13T00:00:00.000000",
          "2020-03-14T00:00:00.000000",
          "2020-03-15T00:00:00.000000",
          "2020-03-16T00:00:00.000000",
          "2020-03-17T00:00:00.000000",
          "2020-03-18T00:00:00.000000",
          "2020-03-19T00:00:00.000000",
          "2020-03-20T00:00:00.000000",
          "2020-03-21T00:00:00.000000",
          "2020-03-22T00:00:00.000000",
          "2020-03-23T00:00:00.000000",
          "2020-03-24T00:00:00.000000",
          "2020-03-25T00:00:00.000000",
          "2020-03-26T00:00:00.000000",
          "2020-03-27T00:00:00.000000",
          "2020-03-28T00:00:00.000000",
          "2020-03-29T00:00:00.000000",
          "2020-03-30T00:00:00.000000",
          "2020-03-31T00:00:00.000000",
          "2020-04-01T00:00:00.000000",
          "2020-04-02T00:00:00.000000",
          "2020-04-03T00:00:00.000000",
          "2020-04-04T00:00:00.000000",
          "2020-04-05T00:00:00.000000",
          "2020-04-06T00:00:00.000000",
          "2020-04-07T00:00:00.000000",
          "2020-04-08T00:00:00.000000",
          "2020-04-09T00:00:00.000000",
          "2020-04-10T00:00:00.000000",
          "2020-04-11T00:00:00.000000",
          "2020-04-12T00:00:00.000000",
          "2020-04-13T00:00:00.000000",
          "2020-04-14T00:00:00.000000",
          "2020-04-15T00:00:00.000000",
          "2020-04-16T00:00:00.000000",
          "2020-04-17T00:00:00.000000",
          "2020-04-18T00:00:00.000000",
          "2020-04-19T00:00:00.000000",
          "2020-04-20T00:00:00.000000",
          "2020-04-21T00:00:00.000000",
          "2020-04-22T00:00:00.000000",
          "2020-04-23T00:00:00.000000",
          "2020-04-24T00:00:00.000000",
          "2020-04-25T00:00:00.000000",
          "2020-04-26T00:00:00.000000",
          "2020-04-27T00:00:00.000000",
          "2020-04-28T00:00:00.000000",
          "2020-04-29T00:00:00.000000",
          "2020-04-30T00:00:00.000000",
          "2020-05-01T00:00:00.000000",
          "2020-05-02T00:00:00.000000",
          "2020-05-03T00:00:00.000000",
          "2020-05-04T00:00:00.000000",
          "2020-05-05T00:00:00.000000",
          "2020-05-06T00:00:00.000000",
          "2020-05-07T00:00:00.000000",
          "2020-05-08T00:00:00.000000",
          "2020-05-09T00:00:00.000000",
          "2020-05-10T00:00:00.000000",
          "2020-05-11T00:00:00.000000",
          "2020-05-12T00:00:00.000000",
          "2020-05-13T00:00:00.000000",
          "2020-05-14T00:00:00.000000",
          "2020-05-15T00:00:00.000000",
          "2020-05-16T00:00:00.000000",
          "2020-05-17T00:00:00.000000",
          "2020-05-18T00:00:00.000000",
          "2020-05-19T00:00:00.000000",
          "2020-05-20T00:00:00.000000",
          "2020-05-21T00:00:00.000000",
          "2020-05-22T00:00:00.000000",
          "2020-05-23T00:00:00.000000",
          "2020-05-24T00:00:00.000000",
          "2020-05-25T00:00:00.000000",
          "2020-05-26T00:00:00.000000",
          "2020-05-27T00:00:00.000000",
          "2020-05-28T00:00:00.000000",
          "2020-05-29T00:00:00.000000",
          "2020-05-30T00:00:00.000000",
          "2020-05-31T00:00:00.000000",
          "2020-06-01T00:00:00.000000",
          "2020-06-02T00:00:00.000000",
          "2020-06-03T00:00:00.000000",
          "2020-06-04T00:00:00.000000",
          "2020-06-05T00:00:00.000000",
          "2020-06-06T00:00:00.000000",
          "2020-06-07T00:00:00.000000",
          "2020-06-08T00:00:00.000000",
          "2020-06-09T00:00:00.000000",
          "2020-06-10T00:00:00.000000",
          "2020-06-11T00:00:00.000000",
          "2020-06-12T00:00:00.000000",
          "2020-06-13T00:00:00.000000",
          "2020-06-14T00:00:00.000000",
          "2020-06-15T00:00:00.000000",
          "2020-06-16T00:00:00.000000",
          "2020-06-17T00:00:00.000000",
          "2020-06-18T00:00:00.000000",
          "2020-06-19T00:00:00.000000",
          "2020-06-20T00:00:00.000000",
          "2020-06-21T00:00:00.000000",
          "2020-06-22T00:00:00.000000",
          "2020-06-23T00:00:00.000000",
          "2020-06-24T00:00:00.000000",
          "2020-06-25T00:00:00.000000",
          "2020-06-26T00:00:00.000000",
          "2020-06-27T00:00:00.000000",
          "2020-06-28T00:00:00.000000",
          "2020-06-29T00:00:00.000000",
          "2020-06-30T00:00:00.000000",
          "2020-07-01T00:00:00.000000",
          "2020-07-02T00:00:00.000000",
          "2020-07-03T00:00:00.000000",
          "2020-07-04T00:00:00.000000",
          "2020-07-05T00:00:00.000000",
          "2020-07-06T00:00:00.000000",
          "2020-07-07T00:00:00.000000",
          "2020-07-08T00:00:00.000000",
          "2020-07-09T00:00:00.000000",
          "2020-07-10T00:00:00.000000",
          "2020-07-11T00:00:00.000000",
          "2020-07-12T00:00:00.000000",
          "2020-07-13T00:00:00.000000",
          "2020-07-14T00:00:00.000000",
          "2020-07-15T00:00:00.000000",
          "2020-07-16T00:00:00.000000",
          "2020-07-17T00:00:00.000000",
          "2020-07-18T00:00:00.000000",
          "2020-07-19T00:00:00.000000",
          "2020-07-20T00:00:00.000000",
          "2020-07-21T00:00:00.000000",
          "2020-07-22T00:00:00.000000",
          "2020-07-23T00:00:00.000000",
          "2020-07-24T00:00:00.000000",
          "2020-07-25T00:00:00.000000",
          "2020-07-26T00:00:00.000000",
          "2020-07-27T00:00:00.000000",
          "2020-07-28T00:00:00.000000",
          "2020-07-29T00:00:00.000000",
          "2020-07-30T00:00:00.000000",
          "2020-07-31T00:00:00.000000",
          "2020-08-01T00:00:00.000000",
          "2020-08-02T00:00:00.000000",
          "2020-08-03T00:00:00.000000",
          "2020-08-04T00:00:00.000000",
          "2020-08-05T00:00:00.000000",
          "2020-08-06T00:00:00.000000",
          "2020-08-07T00:00:00.000000",
          "2020-08-08T00:00:00.000000",
          "2020-08-09T00:00:00.000000",
          "2020-08-10T00:00:00.000000",
          "2020-08-11T00:00:00.000000",
          "2020-08-12T00:00:00.000000",
          "2020-08-13T00:00:00.000000",
          "2020-08-14T00:00:00.000000",
          "2020-08-15T00:00:00.000000",
          "2020-08-16T00:00:00.000000",
          "2020-08-17T00:00:00.000000",
          "2020-08-18T00:00:00.000000",
          "2020-08-19T00:00:00.000000",
          "2020-08-20T00:00:00.000000",
          "2020-08-21T00:00:00.000000",
          "2020-08-22T00:00:00.000000",
          "2020-08-23T00:00:00.000000",
          "2020-08-24T00:00:00.000000",
          "2020-08-25T00:00:00.000000",
          "2020-08-26T00:00:00.000000",
          "2020-08-27T00:00:00.000000",
          "2020-08-28T00:00:00.000000",
          "2020-08-29T00:00:00.000000",
          "2020-08-30T00:00:00.000000",
          "2020-08-31T00:00:00.000000",
          "2020-09-01T00:00:00.000000",
          "2020-09-02T00:00:00.000000",
          "2020-09-03T00:00:00.000000",
          "2020-09-04T00:00:00.000000",
          "2020-09-05T00:00:00.000000",
          "2020-09-06T00:00:00.000000",
          "2020-09-07T00:00:00.000000",
          "2020-09-08T00:00:00.000000",
          "2020-09-09T00:00:00.000000",
          "2020-09-10T00:00:00.000000",
          "2020-09-11T00:00:00.000000",
          "2020-09-12T00:00:00.000000",
          "2020-09-13T00:00:00.000000",
          "2020-09-14T00:00:00.000000",
          "2020-09-15T00:00:00.000000",
          "2020-09-16T00:00:00.000000",
          "2020-09-17T00:00:00.000000",
          "2020-09-18T00:00:00.000000",
          "2020-09-19T00:00:00.000000",
          "2020-09-20T00:00:00.000000",
          "2020-09-21T00:00:00.000000",
          "2020-09-22T00:00:00.000000",
          "2020-09-23T00:00:00.000000",
          "2020-09-24T00:00:00.000000",
          "2020-09-25T00:00:00.000000",
          "2020-09-26T00:00:00.000000"
         ],
         "xaxis": "x",
         "y": {
          "dtype": "float64",
          "shape": [
           1000
          ]
         },
         "yaxis": "y"
        }
       ],
       "_js2py_layoutDelta": {},
       "_js2py_pointsCallback": {},
       "_js2py_relayout": {},
       "_js2py_restyle": {},
       "_js2py_traceDeltas": {},
       "_js2py_update": {},
       "_last_layout_edit_id": 5,
       "_last_trace_edit_id": 5,
       "_layout": {
        "autosize": false,
        "colorway": [
         "#1f77b4",
         "#ff7f0e",
         "#2ca02c",
         "#d62728",
         "#9467bd",
         "#8c564b",
         "#e377c2",
         "#7f7f7f",
         "#bcbd22",
         "#17becf"
        ],
        "height": 300,
        "hovermode": "closest",
        "margin": {
         "b": 30,
         "t": 30
        },
        "showlegend": true,
        "template": {
         "data": {
          "bar": [
           {
            "error_x": {
             "color": "#2a3f5f"
            },
            "error_y": {
             "color": "#2a3f5f"
            },
            "marker": {
             "line": {
              "color": "#E5ECF6",
              "width": 0.5
             }
            },
            "type": "bar"
           }
          ],
          "barpolar": [
           {
            "marker": {
             "line": {
              "color": "#E5ECF6",
              "width": 0.5
             }
            },
            "type": "barpolar"
           }
          ],
          "carpet": [
           {
            "aaxis": {
             "endlinecolor": "#2a3f5f",
             "gridcolor": "white",
             "linecolor": "white",
             "minorgridcolor": "white",
             "startlinecolor": "#2a3f5f"
            },
            "baxis": {
             "endlinecolor": "#2a3f5f",
             "gridcolor": "white",
             "linecolor": "white",
             "minorgridcolor": "white",
             "startlinecolor": "#2a3f5f"
            },
            "type": "carpet"
           }
          ],
          "choropleth": [
           {
            "colorbar": {
             "outlinewidth": 0,
             "ticks": ""
            },
            "type": "choropleth"
           }
          ],
          "contour": [
           {
            "colorbar": {
             "outlinewidth": 0,
             "ticks": ""
            },
            "colorscale": [
             [
              0,
              "#0d0887"
             ],
             [
              0.1111111111111111,
              "#46039f"
             ],
             [
              0.2222222222222222,
              "#7201a8"
             ],
             [
              0.3333333333333333,
              "#9c179e"
             ],
             [
              0.4444444444444444,
              "#bd3786"
             ],
             [
              0.5555555555555556,
              "#d8576b"
             ],
             [
              0.6666666666666666,
              "#ed7953"
             ],
             [
              0.7777777777777778,
              "#fb9f3a"
             ],
             [
              0.8888888888888888,
              "#fdca26"
             ],
             [
              1,
              "#f0f921"
             ]
            ],
            "type": "contour"
           }
          ],
          "contourcarpet": [
           {
            "colorbar": {
             "outlinewidth": 0,
             "ticks": ""
            },
            "type": "contourcarpet"
           }
          ],
          "heatmap": [
           {
            "colorbar": {
             "outlinewidth": 0,
             "ticks": ""
            },
            "colorscale": [
             [
              0,
              "#0d0887"
             ],
             [
              0.1111111111111111,
              "#46039f"
             ],
             [
              0.2222222222222222,
              "#7201a8"
             ],
             [
              0.3333333333333333,
              "#9c179e"
             ],
             [
              0.4444444444444444,
              "#bd3786"
             ],
             [
              0.5555555555555556,
              "#d8576b"
             ],
             [
              0.6666666666666666,
              "#ed7953"
             ],
             [
              0.7777777777777778,
              "#fb9f3a"
             ],
             [
              0.8888888888888888,
              "#fdca26"
             ],
             [
              1,
              "#f0f921"
             ]
            ],
            "type": "heatmap"
           }
          ],
          "heatmapgl": [
           {
            "colorbar": {
             "outlinewidth": 0,
             "ticks": ""
            },
            "colorscale": [
             [
              0,
              "#0d0887"
             ],
             [
              0.1111111111111111,
              "#46039f"
             ],
             [
              0.2222222222222222,
              "#7201a8"
             ],
             [
              0.3333333333333333,
              "#9c179e"
             ],
             [
              0.4444444444444444,
              "#bd3786"
             ],
             [
              0.5555555555555556,
              "#d8576b"
             ],
             [
              0.6666666666666666,
              "#ed7953"
             ],
             [
              0.7777777777777778,
              "#fb9f3a"
             ],
             [
              0.8888888888888888,
              "#fdca26"
             ],
             [
              1,
              "#f0f921"
             ]
            ],
            "type": "heatmapgl"
           }
          ],
          "histogram": [
           {
            "marker": {
             "colorbar": {
              "outlinewidth": 0,
              "ticks": ""
             }
            },
            "type": "histogram"
           }
          ],
          "histogram2d": [
           {
            "colorbar": {
             "outlinewidth": 0,
             "ticks": ""
            },
            "colorscale": [
             [
              0,
              "#0d0887"
             ],
             [
              0.1111111111111111,
              "#46039f"
             ],
             [
              0.2222222222222222,
              "#7201a8"
             ],
             [
              0.3333333333333333,
              "#9c179e"
             ],
             [
              0.4444444444444444,
              "#bd3786"
             ],
             [
              0.5555555555555556,
              "#d8576b"
             ],
             [
              0.6666666666666666,
              "#ed7953"
             ],
             [
              0.7777777777777778,
              "#fb9f3a"
             ],
             [
              0.8888888888888888,
              "#fdca26"
             ],
             [
              1,
              "#f0f921"
             ]
            ],
            "type": "histogram2d"
           }
          ],
          "histogram2dcontour": [
           {
            "colorbar": {
             "outlinewidth": 0,
             "ticks": ""
            },
            "colorscale": [
             [
              0,
              "#0d0887"
             ],
             [
              0.1111111111111111,
              "#46039f"
             ],
             [
              0.2222222222222222,
              "#7201a8"
             ],
             [
              0.3333333333333333,
              "#9c179e"
             ],
             [
              0.4444444444444444,
              "#bd3786"
             ],
             [
              0.5555555555555556,
              "#d8576b"
             ],
             [
              0.6666666666666666,
              "#ed7953"
             ],
             [
              0.7777777777777778,
              "#fb9f3a"
             ],
             [
              0.8888888888888888,
              "#fdca26"
             ],
             [
              1,
              "#f0f921"
             ]
            ],
            "type": "histogram2dcontour"
           }
          ],
          "mesh3d": [
           {
            "colorbar": {
             "outlinewidth": 0,
             "ticks": ""
            },
            "type": "mesh3d"
           }
          ],
          "parcoords": [
           {
            "line": {
             "colorbar": {
              "outlinewidth": 0,
              "ticks": ""
             }
            },
            "type": "parcoords"
           }
          ],
          "pie": [
           {
            "automargin": true,
            "type": "pie"
           }
          ],
          "scatter": [
           {
            "marker": {
             "colorbar": {
              "outlinewidth": 0,
              "ticks": ""
             }
            },
            "type": "scatter"
           }
          ],
          "scatter3d": [
           {
            "line": {
             "colorbar": {
              "outlinewidth": 0,
              "ticks": ""
             }
            },
            "marker": {
             "colorbar": {
              "outlinewidth": 0,
              "ticks": ""
             }
            },
            "type": "scatter3d"
           }
          ],
          "scattercarpet": [
           {
            "marker": {
             "colorbar": {
              "outlinewidth": 0,
              "ticks": ""
             }
            },
            "type": "scattercarpet"
           }
          ],
          "scattergeo": [
           {
            "marker": {
             "colorbar": {
              "outlinewidth": 0,
              "ticks": ""
             }
            },
            "type": "scattergeo"
           }
          ],
          "scattergl": [
           {
            "marker": {
             "colorbar": {
              "outlinewidth": 0,
              "ticks": ""
             }
            },
            "type": "scattergl"
           }
          ],
          "scattermapbox": [
           {
            "marker": {
             "colorbar": {
              "outlinewidth": 0,
              "ticks": ""
             }
            },
            "type": "scattermapbox"
           }
          ],
          "scatterpolar": [
           {
            "marker": {
             "colorbar": {
              "outlinewidth": 0,
              "ticks": ""
             }
            },
            "type": "scatterpolar"
           }
          ],
          "scatterpolargl": [
           {
            "marker": {
             "colorbar": {
              "outlinewidth": 0,
              "ticks": ""
             }
            },
            "type": "scatterpolargl"
           }
          ],
          "scatterternary": [
           {
            "marker": {
             "colorbar": {
              "outlinewidth": 0,
              "ticks": ""
             }
            },
            "type": "scatterternary"
           }
          ],
          "surface": [
           {
            "colorbar": {
             "outlinewidth": 0,
             "ticks": ""
            },
            "colorscale": [
             [
              0,
              "#0d0887"
             ],
             [
              0.1111111111111111,
              "#46039f"
             ],
             [
              0.2222222222222222,
              "#7201a8"
             ],
             [
              0.3333333333333333,
              "#9c179e"
             ],
             [
              0.4444444444444444,
              "#bd3786"
             ],
             [
              0.5555555555555556,
              "#d8576b"
             ],
             [
              0.6666666666666666,
              "#ed7953"
             ],
             [
              0.7777777777777778,
              "#fb9f3a"
             ],
             [
              0.8888888888888888,
              "#fdca26"
             ],
             [
              1,
              "#f0f921"
             ]
            ],
            "type": "surface"
           }
          ],
          "table": [
           {
            "cells": {
             "fill": {
              "color": "#EBF0F8"
             },
             "line": {
              "color": "white"
             }
            },
            "header": {
             "fill": {
              "color": "#C8D4E3"
             },
             "line": {
              "color": "white"
             }
            },
            "type": "table"
           }
          ]
         },
         "layout": {
          "annotationdefaults": {
           "arrowcolor": "#2a3f5f",
           "arrowhead": 0,
           "arrowwidth": 1
          },
          "coloraxis": {
           "colorbar": {
            "outlinewidth": 0,
            "ticks": ""
           }
          },
          "colorscale": {
           "diverging": [
            [
             0,
             "#8e0152"
            ],
            [
             0.1,
             "#c51b7d"
            ],
            [
             0.2,
             "#de77ae"
            ],
            [
             0.3,
             "#f1b6da"
            ],
            [
             0.4,
             "#fde0ef"
            ],
            [
             0.5,
             "#f7f7f7"
            ],
            [
             0.6,
             "#e6f5d0"
            ],
            [
             0.7,
             "#b8e186"
            ],
            [
             0.8,
             "#7fbc41"
            ],
            [
             0.9,
             "#4d9221"
            ],
            [
             1,
             "#276419"
            ]
           ],
           "sequential": [
            [
             0,
             "#0d0887"
            ],
            [
             0.1111111111111111,
             "#46039f"
            ],
            [
             0.2222222222222222,
             "#7201a8"
            ],
            [
             0.3333333333333333,
             "#9c179e"
            ],
            [
             0.4444444444444444,
             "#bd3786"
            ],
            [
             0.5555555555555556,
             "#d8576b"
            ],
            [
             0.6666666666666666,
             "#ed7953"
            ],
            [
             0.7777777777777778,
             "#fb9f3a"
            ],
            [
             0.8888888888888888,
             "#fdca26"
            ],
            [
             1,
             "#f0f921"
            ]
           ],
           "sequentialminus": [
            [
             0,
             "#0d0887"
            ],
            [
             0.1111111111111111,
             "#46039f"
            ],
            [
             0.2222222222222222,
             "#7201a8"
            ],
            [
             0.3333333333333333,
             "#9c179e"
            ],
            [
             0.4444444444444444,
             "#bd3786"
            ],
            [
             0.5555555555555556,
             "#d8576b"
            ],
            [
             0.6666666666666666,
             "#ed7953"
            ],
            [
             0.7777777777777778,
             "#fb9f3a"
            ],
            [
             0.8888888888888888,
             "#fdca26"
            ],
            [
             1,
             "#f0f921"
            ]
           ]
          },
          "colorway": [
           "#636efa",
           "#EF553B",
           "#00cc96",
           "#ab63fa",
           "#FFA15A",
           "#19d3f3",
           "#FF6692",
           "#B6E880",
           "#FF97FF",
           "#FECB52"
          ],
          "font": {
           "color": "#2a3f5f"
          },
          "geo": {
           "bgcolor": "white",
           "lakecolor": "white",
           "landcolor": "#E5ECF6",
           "showlakes": true,
           "showland": true,
           "subunitcolor": "white"
          },
          "hoverlabel": {
           "align": "left"
          },
          "hovermode": "closest",
          "mapbox": {
           "style": "light"
          },
          "paper_bgcolor": "white",
          "plot_bgcolor": "#E5ECF6",
          "polar": {
           "angularaxis": {
            "gridcolor": "white",
            "linecolor": "white",
            "ticks": ""
           },
           "bgcolor": "#E5ECF6",
           "radialaxis": {
            "gridcolor": "white",
            "linecolor": "white",
            "ticks": ""
           }
          },
          "scene": {
           "xaxis": {
            "backgroundcolor": "#E5ECF6",
            "gridcolor": "white",
            "gridwidth": 2,
            "linecolor": "white",
            "showbackground": true,
            "ticks": "",
            "zerolinecolor": "white"
           },
           "yaxis": {
            "backgroundcolor": "#E5ECF6",
            "gridcolor": "white",
            "gridwidth": 2,
            "linecolor": "white",
            "showbackground": true,
            "ticks": "",
            "zerolinecolor": "white"
           },
           "zaxis": {
            "backgroundcolor": "#E5ECF6",
            "gridcolor": "white",
            "gridwidth": 2,
            "linecolor": "white",
            "showbackground": true,
            "ticks": "",
            "zerolinecolor": "white"
           }
          },
          "shapedefaults": {
           "line": {
            "color": "#2a3f5f"
           }
          },
          "ternary": {
           "aaxis": {
            "gridcolor": "white",
            "linecolor": "white",
            "ticks": ""
           },
           "baxis": {
            "gridcolor": "white",
            "linecolor": "white",
            "ticks": ""
           },
           "bgcolor": "#E5ECF6",
           "caxis": {
            "gridcolor": "white",
            "linecolor": "white",
            "ticks": ""
           }
          },
          "title": {
           "x": 0.05
          },
          "xaxis": {
           "automargin": true,
           "gridcolor": "white",
           "linecolor": "white",
           "ticks": "",
           "title": {
            "standoff": 15
           },
           "zerolinecolor": "white",
           "zerolinewidth": 2
          },
          "yaxis": {
           "automargin": true,
           "gridcolor": "white",
           "linecolor": "white",
           "ticks": "",
           "title": {
            "standoff": 15
           },
           "zerolinecolor": "white",
           "zerolinewidth": 2
          }
         }
        },
        "width": 700,
        "xaxis": {
         "rangeslider": {
          "visible": false
         },
         "showgrid": true
        },
        "yaxis": {
         "domain": [
          0,
          0.33
         ],
         "showgrid": true
        },
        "yaxis2": {
         "domain": [
          0.33,
          1
         ]
        }
       },
       "_model_module_version": "1.5.0",
       "_py2js_animate": {},
       "_py2js_deleteTraces": {},
       "_py2js_moveTraces": {},
       "_py2js_removeLayoutProps": {},
       "_py2js_removeTraceProps": {},
       "_py2js_restyle": {},
       "_view_count": 0,
       "_view_module_version": "1.5.0"
      }
     },
     "ed05054f036d47eeb5c4242cac4e9269": {
      "buffers": [
       {
        "data": "AABAQAAAgEA=",
        "encoding": "base64",
        "path": [
         "_data",
         1,
         "y",
         "value"
        ]
       },
       {
        "data": "AACAPw==",
        "encoding": "base64",
        "path": [
         "_data",
         2,
         "y",
         "value"
        ]
       },
       {
        "data": "AAAAQA==",
        "encoding": "base64",
        "path": [
         "_data",
         3,
         "y",
         "value"
        ]
       }
      ],
      "model_module": "plotlywidget",
      "model_module_version": "1.5.0",
      "model_name": "FigureModel",
      "state": {
       "_config": {
        "plotlyServerURL": "https://plot.ly"
       },
       "_data": [
        {
         "line": {
          "color": "grey",
          "dash": "dot",
          "width": 2
         },
         "showlegend": false,
         "type": "scatter",
         "uid": "f6ed258c-406b-4a65-8828-e0610bd249b2",
         "x": [
          "2018-01-01T00:00:00.000000",
          "2018-01-02T00:00:00.000000",
          "2018-01-03T00:00:00.000000",
          "2018-01-04T00:00:00.000000",
          "2018-01-05T00:00:00.000000"
         ],
         "y": [
          2,
          2,
          2,
          2,
          2
         ]
        },
        {
         "marker": {
          "color": "green",
          "size": 10,
          "symbol": "circle"
         },
         "mode": "markers",
         "name": "a (above)",
         "showlegend": true,
         "type": "scatter",
         "uid": "ebb57879-9429-4643-af67-45919cc93117",
         "x": [
          "2018-01-03T00:00:00.000000",
          "2018-01-04T00:00:00.000000"
         ],
         "y": {
          "dtype": "float32",
          "shape": [
           2
          ]
         }
        },
        {
         "marker": {
          "color": "red",
          "size": 10,
          "symbol": "circle"
         },
         "mode": "markers",
         "name": "a (below)",
         "showlegend": true,
         "type": "scatter",
         "uid": "396c8ecc-be17-4f63-9539-5f8b3da2b94e",
         "x": [
          "2018-01-01T00:00:00.000000"
         ],
         "y": {
          "dtype": "float32",
          "shape": [
           1
          ]
         }
        },
        {
         "marker": {
          "color": "grey",
          "size": 10,
          "symbol": "circle"
         },
         "mode": "markers",
         "name": "a (equal)",
         "showlegend": true,
         "type": "scatter",
         "uid": "d630040a-e11c-42fd-a3cf-edb8e9a218ab",
         "x": [
          "2018-01-02T00:00:00.000000"
         ],
         "y": {
          "dtype": "float32",
          "shape": [
           1
          ]
         }
        }
       ],
       "_js2py_layoutDelta": {},
       "_js2py_pointsCallback": {},
       "_js2py_relayout": {},
       "_js2py_restyle": {},
       "_js2py_traceDeltas": {},
       "_js2py_update": {},
       "_last_layout_edit_id": 6,
       "_last_trace_edit_id": 6,
       "_layout": {
        "autosize": false,
        "colorway": [
         "#1f77b4",
         "#ff7f0e",
         "#2ca02c",
         "#d62728",
         "#9467bd",
         "#8c564b",
         "#e377c2",
         "#7f7f7f",
         "#bcbd22",
         "#17becf"
        ],
        "height": 300,
        "hovermode": "closest",
        "margin": {
         "b": 30,
         "t": 30
        },
        "shapes": [
         {
          "line": {
           "color": "grey",
           "dash": "dot",
           "width": 2
          },
          "type": "line",
          "x0": 0,
          "x1": 1,
          "xref": "paper",
          "y0": 2,
          "y1": 2,
          "yref": "y"
         }
        ],
        "template": {
         "data": {
          "bar": [
           {
            "error_x": {
             "color": "#2a3f5f"
            },
            "error_y": {
             "color": "#2a3f5f"
            },
            "marker": {
             "line": {
              "color": "#E5ECF6",
              "width": 0.5
             }
            },
            "type": "bar"
           }
          ],
          "barpolar": [
           {
            "marker": {
             "line": {
              "color": "#E5ECF6",
              "width": 0.5
             }
            },
            "type": "barpolar"
           }
          ],
          "carpet": [
           {
            "aaxis": {
             "endlinecolor": "#2a3f5f",
             "gridcolor": "white",
             "linecolor": "white",
             "minorgridcolor": "white",
             "startlinecolor": "#2a3f5f"
            },
            "baxis": {
             "endlinecolor": "#2a3f5f",
             "gridcolor": "white",
             "linecolor": "white",
             "minorgridcolor": "white",
             "startlinecolor": "#2a3f5f"
            },
            "type": "carpet"
           }
          ],
          "choropleth": [
           {
            "colorbar": {
             "outlinewidth": 0,
             "ticks": ""
            },
            "type": "choropleth"
           }
          ],
          "contour": [
           {
            "colorbar": {
             "outlinewidth": 0,
             "ticks": ""
            },
            "colorscale": [
             [
              0,
              "#0d0887"
             ],
             [
              0.1111111111111111,
              "#46039f"
             ],
             [
              0.2222222222222222,
              "#7201a8"
             ],
             [
              0.3333333333333333,
              "#9c179e"
             ],
             [
              0.4444444444444444,
              "#bd3786"
             ],
             [
              0.5555555555555556,
              "#d8576b"
             ],
             [
              0.6666666666666666,
              "#ed7953"
             ],
             [
              0.7777777777777778,
              "#fb9f3a"
             ],
             [
              0.8888888888888888,
              "#fdca26"
             ],
             [
              1,
              "#f0f921"
             ]
            ],
            "type": "contour"
           }
          ],
          "contourcarpet": [
           {
            "colorbar": {
             "outlinewidth": 0,
             "ticks": ""
            },
            "type": "contourcarpet"
           }
          ],
          "heatmap": [
           {
            "colorbar": {
             "outlinewidth": 0,
             "ticks": ""
            },
            "colorscale": [
             [
              0,
              "#0d0887"
             ],
             [
              0.1111111111111111,
              "#46039f"
             ],
             [
              0.2222222222222222,
              "#7201a8"
             ],
             [
              0.3333333333333333,
              "#9c179e"
             ],
             [
              0.4444444444444444,
              "#bd3786"
             ],
             [
              0.5555555555555556,
              "#d8576b"
             ],
             [
              0.6666666666666666,
              "#ed7953"
             ],
             [
              0.7777777777777778,
              "#fb9f3a"
             ],
             [
              0.8888888888888888,
              "#fdca26"
             ],
             [
              1,
              "#f0f921"
             ]
            ],
            "type": "heatmap"
           }
          ],
          "heatmapgl": [
           {
            "colorbar": {
             "outlinewidth": 0,
             "ticks": ""
            },
            "colorscale": [
             [
              0,
              "#0d0887"
             ],
             [
              0.1111111111111111,
              "#46039f"
             ],
             [
              0.2222222222222222,
              "#7201a8"
             ],
             [
              0.3333333333333333,
              "#9c179e"
             ],
             [
              0.4444444444444444,
              "#bd3786"
             ],
             [
              0.5555555555555556,
              "#d8576b"
             ],
             [
              0.6666666666666666,
              "#ed7953"
             ],
             [
              0.7777777777777778,
              "#fb9f3a"
             ],
             [
              0.8888888888888888,
              "#fdca26"
             ],
             [
              1,
              "#f0f921"
             ]
            ],
            "type": "heatmapgl"
           }
          ],
          "histogram": [
           {
            "marker": {
             "colorbar": {
              "outlinewidth": 0,
              "ticks": ""
             }
            },
            "type": "histogram"
           }
          ],
          "histogram2d": [
           {
            "colorbar": {
             "outlinewidth": 0,
             "ticks": ""
            },
            "colorscale": [
             [
              0,
              "#0d0887"
             ],
             [
              0.1111111111111111,
              "#46039f"
             ],
             [
              0.2222222222222222,
              "#7201a8"
             ],
             [
              0.3333333333333333,
              "#9c179e"
             ],
             [
              0.4444444444444444,
              "#bd3786"
             ],
             [
              0.5555555555555556,
              "#d8576b"
             ],
             [
              0.6666666666666666,
              "#ed7953"
             ],
             [
              0.7777777777777778,
              "#fb9f3a"
             ],
             [
              0.8888888888888888,
              "#fdca26"
             ],
             [
              1,
              "#f0f921"
             ]
            ],
            "type": "histogram2d"
           }
          ],
          "histogram2dcontour": [
           {
            "colorbar": {
             "outlinewidth": 0,
             "ticks": ""
            },
            "colorscale": [
             [
              0,
              "#0d0887"
             ],
             [
              0.1111111111111111,
              "#46039f"
             ],
             [
              0.2222222222222222,
              "#7201a8"
             ],
             [
              0.3333333333333333,
              "#9c179e"
             ],
             [
              0.4444444444444444,
              "#bd3786"
             ],
             [
              0.5555555555555556,
              "#d8576b"
             ],
             [
              0.6666666666666666,
              "#ed7953"
             ],
             [
              0.7777777777777778,
              "#fb9f3a"
             ],
             [
              0.8888888888888888,
              "#fdca26"
             ],
             [
              1,
              "#f0f921"
             ]
            ],
            "type": "histogram2dcontour"
           }
          ],
          "mesh3d": [
           {
            "colorbar": {
             "outlinewidth": 0,
             "ticks": ""
            },
            "type": "mesh3d"
           }
          ],
          "parcoords": [
           {
            "line": {
             "colorbar": {
              "outlinewidth": 0,
              "ticks": ""
             }
            },
            "type": "parcoords"
           }
          ],
          "pie": [
           {
            "automargin": true,
            "type": "pie"
           }
          ],
          "scatter": [
           {
            "marker": {
             "colorbar": {
              "outlinewidth": 0,
              "ticks": ""
             }
            },
            "type": "scatter"
           }
          ],
          "scatter3d": [
           {
            "line": {
             "colorbar": {
              "outlinewidth": 0,
              "ticks": ""
             }
            },
            "marker": {
             "colorbar": {
              "outlinewidth": 0,
              "ticks": ""
             }
            },
            "type": "scatter3d"
           }
          ],
          "scattercarpet": [
           {
            "marker": {
             "colorbar": {
              "outlinewidth": 0,
              "ticks": ""
             }
            },
            "type": "scattercarpet"
           }
          ],
          "scattergeo": [
           {
            "marker": {
             "colorbar": {
              "outlinewidth": 0,
              "ticks": ""
             }
            },
            "type": "scattergeo"
           }
          ],
          "scattergl": [
           {
            "marker": {
             "colorbar": {
              "outlinewidth": 0,
              "ticks": ""
             }
            },
            "type": "scattergl"
           }
          ],
          "scattermapbox": [
           {
            "marker": {
             "colorbar": {
              "outlinewidth": 0,
              "ticks": ""
             }
            },
            "type": "scattermapbox"
           }
          ],
          "scatterpolar": [
           {
            "marker": {
             "colorbar": {
              "outlinewidth": 0,
              "ticks": ""
             }
            },
            "type": "scatterpolar"
           }
          ],
          "scatterpolargl": [
           {
            "marker": {
             "colorbar": {
              "outlinewidth": 0,
              "ticks": ""
             }
            },
            "type": "scatterpolargl"
           }
          ],
          "scatterternary": [
           {
            "marker": {
             "colorbar": {
              "outlinewidth": 0,
              "ticks": ""
             }
            },
            "type": "scatterternary"
           }
          ],
          "surface": [
           {
            "colorbar": {
             "outlinewidth": 0,
             "ticks": ""
            },
            "colorscale": [
             [
              0,
              "#0d0887"
             ],
             [
              0.1111111111111111,
              "#46039f"
             ],
             [
              0.2222222222222222,
              "#7201a8"
             ],
             [
              0.3333333333333333,
              "#9c179e"
             ],
             [
              0.4444444444444444,
              "#bd3786"
             ],
             [
              0.5555555555555556,
              "#d8576b"
             ],
             [
              0.6666666666666666,
              "#ed7953"
             ],
             [
              0.7777777777777778,
              "#fb9f3a"
             ],
             [
              0.8888888888888888,
              "#fdca26"
             ],
             [
              1,
              "#f0f921"
             ]
            ],
            "type": "surface"
           }
          ],
          "table": [
           {
            "cells": {
             "fill": {
              "color": "#EBF0F8"
             },
             "line": {
              "color": "white"
             }
            },
            "header": {
             "fill": {
              "color": "#C8D4E3"
             },
             "line": {
              "color": "white"
             }
            },
            "type": "table"
           }
          ]
         },
         "layout": {
          "annotationdefaults": {
           "arrowcolor": "#2a3f5f",
           "arrowhead": 0,
           "arrowwidth": 1
          },
          "coloraxis": {
           "colorbar": {
            "outlinewidth": 0,
            "ticks": ""
           }
          },
          "colorscale": {
           "diverging": [
            [
             0,
             "#8e0152"
            ],
            [
             0.1,
             "#c51b7d"
            ],
            [
             0.2,
             "#de77ae"
            ],
            [
             0.3,
             "#f1b6da"
            ],
            [
             0.4,
             "#fde0ef"
            ],
            [
             0.5,
             "#f7f7f7"
            ],
            [
             0.6,
             "#e6f5d0"
            ],
            [
             0.7,
             "#b8e186"
            ],
            [
             0.8,
             "#7fbc41"
            ],
            [
             0.9,
             "#4d9221"
            ],
            [
             1,
             "#276419"
            ]
           ],
           "sequential": [
            [
             0,
             "#0d0887"
            ],
            [
             0.1111111111111111,
             "#46039f"
            ],
            [
             0.2222222222222222,
             "#7201a8"
            ],
            [
             0.3333333333333333,
             "#9c179e"
            ],
            [
             0.4444444444444444,
             "#bd3786"
            ],
            [
             0.5555555555555556,
             "#d8576b"
            ],
            [
             0.6666666666666666,
             "#ed7953"
            ],
            [
             0.7777777777777778,
             "#fb9f3a"
            ],
            [
             0.8888888888888888,
             "#fdca26"
            ],
            [
             1,
             "#f0f921"
            ]
           ],
           "sequentialminus": [
            [
             0,
             "#0d0887"
            ],
            [
             0.1111111111111111,
             "#46039f"
            ],
            [
             0.2222222222222222,
             "#7201a8"
            ],
            [
             0.3333333333333333,
             "#9c179e"
            ],
            [
             0.4444444444444444,
             "#bd3786"
            ],
            [
             0.5555555555555556,
             "#d8576b"
            ],
            [
             0.6666666666666666,
             "#ed7953"
            ],
            [
             0.7777777777777778,
             "#fb9f3a"
            ],
            [
             0.8888888888888888,
             "#fdca26"
            ],
            [
             1,
             "#f0f921"
            ]
           ]
          },
          "colorway": [
           "#636efa",
           "#EF553B",
           "#00cc96",
           "#ab63fa",
           "#FFA15A",
           "#19d3f3",
           "#FF6692",
           "#B6E880",
           "#FF97FF",
           "#FECB52"
          ],
          "font": {
           "color": "#2a3f5f"
          },
          "geo": {
           "bgcolor": "white",
           "lakecolor": "white",
           "landcolor": "#E5ECF6",
           "showlakes": true,
           "showland": true,
           "subunitcolor": "white"
          },
          "hoverlabel": {
           "align": "left"
          },
          "hovermode": "closest",
          "mapbox": {
           "style": "light"
          },
          "paper_bgcolor": "white",
          "plot_bgcolor": "#E5ECF6",
          "polar": {
           "angularaxis": {
            "gridcolor": "white",
            "linecolor": "white",
            "ticks": ""
           },
           "bgcolor": "#E5ECF6",
           "radialaxis": {
            "gridcolor": "white",
            "linecolor": "white",
            "ticks": ""
           }
          },
          "scene": {
           "xaxis": {
            "backgroundcolor": "#E5ECF6",
            "gridcolor": "white",
            "gridwidth": 2,
            "linecolor": "white",
            "showbackground": true,
            "ticks": "",
            "zerolinecolor": "white"
           },
           "yaxis": {
            "backgroundcolor": "#E5ECF6",
            "gridcolor": "white",
            "gridwidth": 2,
            "linecolor": "white",
            "showbackground": true,
            "ticks": "",
            "zerolinecolor": "white"
           },
           "zaxis": {
            "backgroundcolor": "#E5ECF6",
            "gridcolor": "white",
            "gridwidth": 2,
            "linecolor": "white",
            "showbackground": true,
            "ticks": "",
            "zerolinecolor": "white"
           }
          },
          "shapedefaults": {
           "line": {
            "color": "#2a3f5f"
           }
          },
          "ternary": {
           "aaxis": {
            "gridcolor": "white",
            "linecolor": "white",
            "ticks": ""
           },
           "baxis": {
            "gridcolor": "white",
            "linecolor": "white",
            "ticks": ""
           },
           "bgcolor": "#E5ECF6",
           "caxis": {
            "gridcolor": "white",
            "linecolor": "white",
            "ticks": ""
           }
          },
          "title": {
           "x": 0.05
          },
          "xaxis": {
           "automargin": true,
           "gridcolor": "white",
           "linecolor": "white",
           "ticks": "",
           "title": {
            "standoff": 15
           },
           "zerolinecolor": "white",
           "zerolinewidth": 2
          },
          "yaxis": {
           "automargin": true,
           "gridcolor": "white",
           "linecolor": "white",
           "ticks": "",
           "title": {
            "standoff": 15
           },
           "zerolinecolor": "white",
           "zerolinewidth": 2
          }
         }
        },
        "width": 700,
        "yaxis": {
         "range": [
          -2.8,
          6.8
         ]
        }
       },
       "_model_module_version": "1.5.0",
       "_py2js_animate": {},
       "_py2js_deleteTraces": {},
       "_py2js_moveTraces": {},
       "_py2js_removeLayoutProps": {},
       "_py2js_removeTraceProps": {},
       "_py2js_restyle": {},
       "_view_count": 0,
       "_view_module_version": "1.5.0"
      }
     }
    },
    "version_major": 2,
    "version_minor": 0
   }
  }
 },
 "nbformat": 4,
 "nbformat_minor": 4
}
