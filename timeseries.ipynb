{
 "cells": [
  {
   "cell_type": "markdown",
   "metadata": {},
   "source": [
    "# timeseries"
   ]
  },
  {
   "cell_type": "code",
   "execution_count": 1,
   "metadata": {},
   "outputs": [],
   "source": [
    "import vectorbt as vbt"
   ]
  },
  {
   "cell_type": "code",
   "execution_count": 2,
   "metadata": {
    "Collapsed": "false"
   },
   "outputs": [],
   "source": [
    "import numpy as np\n",
    "import pandas as pd\n",
    "from datetime import datetime, timedelta\n",
    "from numba import njit, f8, i8, b1, optional"
   ]
  },
  {
   "cell_type": "code",
   "execution_count": 3,
   "metadata": {},
   "outputs": [
    {
     "name": "stdout",
     "output_type": "stream",
     "text": [
      "              a    b    c\n",
      "2018-01-01  1.0  NaN  1.0\n",
      "2018-01-02  2.0  4.0  2.0\n",
      "2018-01-03  3.0  3.0  NaN\n",
      "2018-01-04  4.0  2.0  2.0\n",
      "2018-01-05  NaN  1.0  1.0\n"
     ]
    }
   ],
   "source": [
    "index = pd.Index([\n",
    "    datetime(2018, 1, 1),\n",
    "    datetime(2018, 1, 2),\n",
    "    datetime(2018, 1, 3),\n",
    "    datetime(2018, 1, 4),\n",
    "    datetime(2018, 1, 5)\n",
    "])\n",
    "columns = ['a', 'b', 'c']\n",
    "ts = pd.DataFrame({\n",
    "    'a': [1, 2, 3, 4, np.nan], \n",
    "    'b': [np.nan, 4, 3, 2, 1],\n",
    "    'c': [1, 2, np.nan, 2, 1]}, index=index).astype(np.float32)\n",
    "\n",
    "print(ts)"
   ]
  },
  {
   "cell_type": "code",
   "execution_count": 4,
   "metadata": {},
   "outputs": [
    {
     "data": {
      "text/plain": [
       "(1000, 1000)"
      ]
     },
     "execution_count": 4,
     "metadata": {},
     "output_type": "execute_result"
    }
   ],
   "source": [
    "big_ts = pd.DataFrame(np.random.randint(10, size=(1000, 1000)).astype(float))\n",
    "big_ts.index = [datetime(2018, 1, 1) + timedelta(days=i) for i in range(1000)]\n",
    "big_ts.shape"
   ]
  },
  {
   "cell_type": "code",
   "execution_count": 5,
   "metadata": {
    "Collapsed": "false"
   },
   "outputs": [
    {
     "name": "stdout",
     "output_type": "stream",
     "text": [
      "              a    b    c\n",
      "2018-01-01  1.0 -1.0  1.0\n",
      "2018-01-02  2.0  4.0  2.0\n",
      "2018-01-03  3.0  3.0 -1.0\n",
      "2018-01-04  4.0  2.0  2.0\n",
      "2018-01-05 -1.0  1.0  1.0\n",
      "9.02 ms ± 1.9 ms per loop (mean ± std. dev. of 7 runs, 100 loops each)\n",
      "              a    b    c\n",
      "2018-01-01  1.0 -1.0  1.0\n",
      "2018-01-02  2.0  4.0  2.0\n",
      "2018-01-03  3.0  3.0 -1.0\n",
      "2018-01-04  4.0  2.0  2.0\n",
      "2018-01-05 -1.0  1.0  1.0\n",
      "4.91 ms ± 570 µs per loop (mean ± std. dev. of 7 runs, 100 loops each)\n"
     ]
    }
   ],
   "source": [
    "print(ts.fillna(-1))\n",
    "%timeit big_ts.fillna(-1)\n",
    "\n",
    "print(ts.vbt.timeseries.fillna(-1))\n",
    "%timeit big_ts.vbt.timeseries.fillna(-1)"
   ]
  },
  {
   "cell_type": "code",
   "execution_count": 6,
   "metadata": {
    "Collapsed": "false"
   },
   "outputs": [
    {
     "name": "stdout",
     "output_type": "stream",
     "text": [
      "              a    b    c\n",
      "2018-01-01  NaN  NaN  NaN\n",
      "2018-01-02  NaN  NaN  NaN\n",
      "2018-01-03  NaN  NaN  NaN\n",
      "2018-01-04  1.0  NaN  1.0\n",
      "2018-01-05  2.0  4.0  2.0\n",
      "2.7 ms ± 48.2 µs per loop (mean ± std. dev. of 7 runs, 100 loops each)\n",
      "              a    b    c\n",
      "2018-01-01  NaN  NaN  NaN\n",
      "2018-01-02  NaN  NaN  NaN\n",
      "2018-01-03  NaN  NaN  NaN\n",
      "2018-01-04  1.0  NaN  1.0\n",
      "2018-01-05  2.0  4.0  2.0\n",
      "2.79 ms ± 65.2 µs per loop (mean ± std. dev. of 7 runs, 100 loops each)\n"
     ]
    }
   ],
   "source": [
    "print(ts.shift(3))\n",
    "%timeit big_ts.shift(3)\n",
    "\n",
    "print(ts.vbt.timeseries.fshift(3))\n",
    "%timeit big_ts.vbt.timeseries.fshift(3)"
   ]
  },
  {
   "cell_type": "code",
   "execution_count": 7,
   "metadata": {},
   "outputs": [
    {
     "name": "stdout",
     "output_type": "stream",
     "text": [
      "              a    b    c\n",
      "2018-01-01  NaN  NaN  NaN\n",
      "2018-01-02  1.0  NaN  1.0\n",
      "2018-01-03  1.0 -1.0  NaN\n",
      "2018-01-04  1.0 -1.0  NaN\n",
      "2018-01-05  NaN -1.0 -1.0\n",
      "6.8 ms ± 964 µs per loop (mean ± std. dev. of 7 runs, 100 loops each)\n",
      "              a    b    c\n",
      "2018-01-01  NaN  NaN  NaN\n",
      "2018-01-02  1.0  NaN  1.0\n",
      "2018-01-03  1.0 -1.0  NaN\n",
      "2018-01-04  1.0 -1.0  NaN\n",
      "2018-01-05  NaN -1.0 -1.0\n",
      "5.11 ms ± 84.9 µs per loop (mean ± std. dev. of 7 runs, 100 loops each)\n"
     ]
    }
   ],
   "source": [
    "print(ts.diff())\n",
    "%timeit big_ts.diff()\n",
    "\n",
    "print(ts.vbt.timeseries.diff())\n",
    "%timeit big_ts.vbt.timeseries.diff()"
   ]
  },
  {
   "cell_type": "code",
   "execution_count": 8,
   "metadata": {
    "Collapsed": "false"
   },
   "outputs": [
    {
     "name": "stdout",
     "output_type": "stream",
     "text": [
      "                   a         b    c\n",
      "2018-01-01       NaN       NaN  NaN\n",
      "2018-01-02  1.000000       NaN  1.0\n",
      "2018-01-03  0.500000 -0.250000  0.0\n",
      "2018-01-04  0.333333 -0.333333  0.0\n",
      "2018-01-05  0.000000 -0.500000 -0.5\n",
      "285 ms ± 21.8 ms per loop (mean ± std. dev. of 7 runs, 1 loop each)\n",
      "                   a         b    c\n",
      "2018-01-01       NaN       NaN  NaN\n",
      "2018-01-02  1.000000       NaN  1.0\n",
      "2018-01-03  0.500000 -0.250000  NaN\n",
      "2018-01-04  0.333333 -0.333333  NaN\n",
      "2018-01-05       NaN -0.500000 -0.5\n",
      "5.5 ms ± 49.1 µs per loop (mean ± std. dev. of 7 runs, 100 loops each)\n"
     ]
    }
   ],
   "source": [
    "print(ts.pct_change())\n",
    "%timeit big_ts.pct_change()\n",
    "\n",
    "print(ts.vbt.timeseries.pct_change())\n",
    "%timeit big_ts.vbt.timeseries.pct_change()"
   ]
  },
  {
   "cell_type": "code",
   "execution_count": 9,
   "metadata": {
    "Collapsed": "false"
   },
   "outputs": [
    {
     "name": "stdout",
     "output_type": "stream",
     "text": [
      "              a    b    c\n",
      "2018-01-01  1.0  NaN  1.0\n",
      "2018-01-02  2.0  4.0  2.0\n",
      "2018-01-03  3.0  3.0  2.0\n",
      "2018-01-04  4.0  2.0  2.0\n",
      "2018-01-05  4.0  1.0  1.0\n",
      "5.9 ms ± 132 µs per loop (mean ± std. dev. of 7 runs, 100 loops each)\n",
      "              a    b    c\n",
      "2018-01-01  1.0  NaN  1.0\n",
      "2018-01-02  2.0  4.0  2.0\n",
      "2018-01-03  3.0  3.0  2.0\n",
      "2018-01-04  4.0  2.0  2.0\n",
      "2018-01-05  4.0  1.0  1.0\n",
      "9.76 ms ± 1.43 ms per loop (mean ± std. dev. of 7 runs, 100 loops each)\n"
     ]
    }
   ],
   "source": [
    "print(ts.ffill())\n",
    "%timeit big_ts.ffill()\n",
    "\n",
    "print(ts.vbt.timeseries.ffill())\n",
    "%timeit big_ts.vbt.timeseries.ffill()"
   ]
  },
  {
   "cell_type": "code",
   "execution_count": 10,
   "metadata": {},
   "outputs": [
    {
     "name": "stdout",
     "output_type": "stream",
     "text": [
      "               a     b    c\n",
      "2018-01-01   1.0   NaN  1.0\n",
      "2018-01-02   3.0   4.0  3.0\n",
      "2018-01-03   6.0   7.0  NaN\n",
      "2018-01-04  10.0   9.0  5.0\n",
      "2018-01-05   NaN  10.0  6.0\n",
      "14.6 ms ± 2.25 ms per loop (mean ± std. dev. of 7 runs, 100 loops each)\n",
      "               a     b    c\n",
      "2018-01-01   1.0   NaN  1.0\n",
      "2018-01-02   3.0   4.0  3.0\n",
      "2018-01-03   6.0   7.0  NaN\n",
      "2018-01-04  10.0   9.0  5.0\n",
      "2018-01-05   NaN  10.0  6.0\n",
      "11.1 ms ± 2.71 ms per loop (mean ± std. dev. of 7 runs, 100 loops each)\n"
     ]
    }
   ],
   "source": [
    "print(ts.cumsum())\n",
    "%timeit big_ts.cumsum()\n",
    "\n",
    "print(ts.vbt.timeseries.cumsum())\n",
    "%timeit big_ts.vbt.timeseries.cumsum()"
   ]
  },
  {
   "cell_type": "code",
   "execution_count": 11,
   "metadata": {},
   "outputs": [
    {
     "name": "stdout",
     "output_type": "stream",
     "text": [
      "               a     b    c\n",
      "2018-01-01   1.0   NaN  1.0\n",
      "2018-01-02   2.0   4.0  2.0\n",
      "2018-01-03   6.0  12.0  NaN\n",
      "2018-01-04  24.0  24.0  4.0\n",
      "2018-01-05   NaN  24.0  4.0\n",
      "21.5 ms ± 3.11 ms per loop (mean ± std. dev. of 7 runs, 100 loops each)\n",
      "               a     b    c\n",
      "2018-01-01   1.0   NaN  1.0\n",
      "2018-01-02   2.0   4.0  2.0\n",
      "2018-01-03   6.0  12.0  NaN\n",
      "2018-01-04  24.0  24.0  4.0\n",
      "2018-01-05   NaN  24.0  4.0\n",
      "15.2 ms ± 3.29 ms per loop (mean ± std. dev. of 7 runs, 10 loops each)\n"
     ]
    }
   ],
   "source": [
    "print(ts.cumprod())\n",
    "%timeit big_ts.cumprod()\n",
    "\n",
    "print(ts.vbt.timeseries.cumprod())\n",
    "%timeit big_ts.vbt.timeseries.cumprod()"
   ]
  },
  {
   "cell_type": "code",
   "execution_count": 12,
   "metadata": {},
   "outputs": [
    {
     "name": "stdout",
     "output_type": "stream",
     "text": [
      "              a    b    c\n",
      "2018-01-01  NaN  NaN  NaN\n",
      "2018-01-02  1.0  NaN  1.0\n",
      "2018-01-03  2.0  3.0  NaN\n",
      "2018-01-04  3.0  2.0  NaN\n",
      "2018-01-05  NaN  1.0  1.0\n",
      "65.2 ms ± 5.77 ms per loop (mean ± std. dev. of 7 runs, 10 loops each)\n",
      "              a    b    c\n",
      "2018-01-01  NaN  NaN  NaN\n",
      "2018-01-02  1.0  NaN  1.0\n",
      "2018-01-03  2.0  3.0  NaN\n",
      "2018-01-04  3.0  2.0  NaN\n",
      "2018-01-05  NaN  1.0  1.0\n",
      "23.4 ms ± 2.63 ms per loop (mean ± std. dev. of 7 runs, 100 loops each)\n"
     ]
    }
   ],
   "source": [
    "print(ts.rolling(2).min())\n",
    "%timeit big_ts.rolling(2).min()\n",
    "\n",
    "print(ts.vbt.timeseries.rolling_min(2))\n",
    "%timeit big_ts.vbt.timeseries.rolling_min(2)"
   ]
  },
  {
   "cell_type": "code",
   "execution_count": 13,
   "metadata": {},
   "outputs": [
    {
     "name": "stdout",
     "output_type": "stream",
     "text": [
      "              a    b    c\n",
      "2018-01-01  NaN  NaN  NaN\n",
      "2018-01-02  2.0  NaN  2.0\n",
      "2018-01-03  3.0  4.0  NaN\n",
      "2018-01-04  4.0  3.0  NaN\n",
      "2018-01-05  NaN  2.0  2.0\n",
      "50.8 ms ± 4.86 ms per loop (mean ± std. dev. of 7 runs, 10 loops each)\n",
      "              a    b    c\n",
      "2018-01-01  NaN  NaN  NaN\n",
      "2018-01-02  2.0  NaN  2.0\n",
      "2018-01-03  3.0  4.0  NaN\n",
      "2018-01-04  4.0  3.0  NaN\n",
      "2018-01-05  NaN  2.0  2.0\n",
      "20.6 ms ± 3.84 ms per loop (mean ± std. dev. of 7 runs, 100 loops each)\n"
     ]
    }
   ],
   "source": [
    "print(ts.rolling(2).max())\n",
    "%timeit big_ts.rolling(2).max()\n",
    "\n",
    "print(ts.vbt.timeseries.rolling_max(2))\n",
    "%timeit big_ts.vbt.timeseries.rolling_max(2)"
   ]
  },
  {
   "cell_type": "code",
   "execution_count": 14,
   "metadata": {
    "Collapsed": "false"
   },
   "outputs": [
    {
     "name": "stdout",
     "output_type": "stream",
     "text": [
      "              a    b    c\n",
      "2018-01-01  NaN  NaN  NaN\n",
      "2018-01-02  1.5  NaN  1.5\n",
      "2018-01-03  2.5  3.5  NaN\n",
      "2018-01-04  3.5  2.5  NaN\n",
      "2018-01-05  NaN  1.5  1.5\n",
      "61.1 ms ± 12.2 ms per loop (mean ± std. dev. of 7 runs, 10 loops each)\n",
      "              a    b    c\n",
      "2018-01-01  NaN  NaN  NaN\n",
      "2018-01-02  1.5  NaN  1.5\n",
      "2018-01-03  2.5  3.5  NaN\n",
      "2018-01-04  3.5  2.5  NaN\n",
      "2018-01-05  NaN  1.5  1.5\n",
      "53 ms ± 22.6 ms per loop (mean ± std. dev. of 7 runs, 10 loops each)\n"
     ]
    }
   ],
   "source": [
    "print(ts.rolling(2).mean())\n",
    "%timeit big_ts.rolling(2).mean()\n",
    "\n",
    "print(ts.vbt.timeseries.rolling_mean(2))\n",
    "%timeit big_ts.vbt.timeseries.rolling_mean(2)"
   ]
  },
  {
   "cell_type": "code",
   "execution_count": 15,
   "metadata": {},
   "outputs": [
    {
     "name": "stdout",
     "output_type": "stream",
     "text": [
      "                   a         b         c\n",
      "2018-01-01       NaN       NaN       NaN\n",
      "2018-01-02  0.707107       NaN  0.707107\n",
      "2018-01-03  0.707107  0.707107       NaN\n",
      "2018-01-04  0.707107  0.707107       NaN\n",
      "2018-01-05       NaN  0.707107  0.707107\n",
      "115 ms ± 43 ms per loop (mean ± std. dev. of 7 runs, 1 loop each)\n",
      "                   a         b         c\n",
      "2018-01-01       NaN       NaN       NaN\n",
      "2018-01-02  0.707107       NaN  0.707107\n",
      "2018-01-03  0.707107  0.707107       NaN\n",
      "2018-01-04  0.707107  0.707107       NaN\n",
      "2018-01-05       NaN  0.707107  0.707107\n",
      "34.4 ms ± 7.67 ms per loop (mean ± std. dev. of 7 runs, 10 loops each)\n"
     ]
    }
   ],
   "source": [
    "print(ts.rolling(2).std())\n",
    "%timeit big_ts.rolling(2).std()\n",
    "\n",
    "print(ts.vbt.timeseries.rolling_std(2))\n",
    "%timeit big_ts.vbt.timeseries.rolling_std(2)"
   ]
  },
  {
   "cell_type": "code",
   "execution_count": 16,
   "metadata": {
    "Collapsed": "false"
   },
   "outputs": [
    {
     "name": "stdout",
     "output_type": "stream",
     "text": [
      "                   a         b         c\n",
      "2018-01-01       NaN       NaN       NaN\n",
      "2018-01-02  1.750000       NaN  1.750000\n",
      "2018-01-03  2.615385  3.250000  1.750000\n",
      "2018-01-04  3.550000  2.384615  1.967742\n",
      "2018-01-05  3.550000  1.450000  1.267857\n",
      "115 ms ± 8.77 ms per loop (mean ± std. dev. of 7 runs, 10 loops each)\n",
      "                   a         b         c\n",
      "2018-01-01       NaN       NaN       NaN\n",
      "2018-01-02  1.750000       NaN  1.750000\n",
      "2018-01-03  2.615385  3.250000  1.750000\n",
      "2018-01-04  3.550000  2.384615  1.967742\n",
      "2018-01-05  3.550000  1.450000  1.267857\n",
      "16.6 ms ± 2.68 ms per loop (mean ± std. dev. of 7 runs, 100 loops each)\n"
     ]
    }
   ],
   "source": [
    "print(ts.ewm(span=2, min_periods=2).mean())\n",
    "%timeit big_ts.ewm(span=2, min_periods=2).mean()\n",
    "\n",
    "print(ts.vbt.timeseries.ewm_mean(2))\n",
    "%timeit big_ts.vbt.timeseries.ewm_mean(2)"
   ]
  },
  {
   "cell_type": "code",
   "execution_count": 17,
   "metadata": {},
   "outputs": [
    {
     "name": "stdout",
     "output_type": "stream",
     "text": [
      "                   a         b         c\n",
      "2018-01-01       NaN       NaN       NaN\n",
      "2018-01-02  0.707107       NaN  0.707107\n",
      "2018-01-03  0.919866  0.707107  0.707107\n",
      "2018-01-04  1.059753  0.919866  0.367607\n",
      "2018-01-05  1.059753  1.059753  0.684914\n",
      "942 ms ± 479 ms per loop (mean ± std. dev. of 7 runs, 1 loop each)\n",
      "                   a         b         c\n",
      "2018-01-01       NaN       NaN       NaN\n",
      "2018-01-02  0.707107       NaN  0.707107\n",
      "2018-01-03  0.919866  0.707107  0.707107\n",
      "2018-01-04  1.059753  0.919866  0.367607\n",
      "2018-01-05  1.059753  1.059753  0.684914\n",
      "28.3 ms ± 1.45 ms per loop (mean ± std. dev. of 7 runs, 10 loops each)\n"
     ]
    }
   ],
   "source": [
    "print(ts.ewm(span=2, min_periods=2).std())\n",
    "%timeit big_ts.ewm(span=2, min_periods=2).std()\n",
    "\n",
    "print(ts.vbt.timeseries.ewm_std(2))\n",
    "%timeit big_ts.vbt.timeseries.ewm_std(2)"
   ]
  },
  {
   "cell_type": "code",
   "execution_count": 18,
   "metadata": {},
   "outputs": [
    {
     "name": "stdout",
     "output_type": "stream",
     "text": [
      "              a    b    c\n",
      "2018-01-01  1.0  NaN  1.0\n",
      "2018-01-02  1.0  4.0  1.0\n",
      "2018-01-03  1.0  3.0  1.0\n",
      "2018-01-04  1.0  2.0  1.0\n",
      "2018-01-05  1.0  1.0  1.0\n",
      "60.2 ms ± 2.38 ms per loop (mean ± std. dev. of 7 runs, 10 loops each)\n",
      "              a    b    c\n",
      "2018-01-01  1.0  NaN  1.0\n",
      "2018-01-02  1.0  4.0  1.0\n",
      "2018-01-03  1.0  3.0  1.0\n",
      "2018-01-04  1.0  2.0  1.0\n",
      "2018-01-05  1.0  1.0  1.0\n",
      "10.8 ms ± 465 µs per loop (mean ± std. dev. of 7 runs, 100 loops each)\n"
     ]
    }
   ],
   "source": [
    "print(ts.expanding().min())\n",
    "%timeit big_ts.expanding().min()\n",
    "\n",
    "print(ts.vbt.timeseries.expanding_min())\n",
    "%timeit big_ts.vbt.timeseries.expanding_min()"
   ]
  },
  {
   "cell_type": "code",
   "execution_count": 19,
   "metadata": {},
   "outputs": [
    {
     "name": "stdout",
     "output_type": "stream",
     "text": [
      "              a    b    c\n",
      "2018-01-01  1.0  NaN  1.0\n",
      "2018-01-02  2.0  4.0  2.0\n",
      "2018-01-03  3.0  4.0  2.0\n",
      "2018-01-04  4.0  4.0  2.0\n",
      "2018-01-05  4.0  4.0  2.0\n",
      "62.3 ms ± 2.71 ms per loop (mean ± std. dev. of 7 runs, 10 loops each)\n",
      "              a    b    c\n",
      "2018-01-01  1.0  NaN  1.0\n",
      "2018-01-02  2.0  4.0  2.0\n",
      "2018-01-03  3.0  4.0  2.0\n",
      "2018-01-04  4.0  4.0  2.0\n",
      "2018-01-05  4.0  4.0  2.0\n",
      "11.6 ms ± 1.21 ms per loop (mean ± std. dev. of 7 runs, 100 loops each)\n"
     ]
    }
   ],
   "source": [
    "print(ts.expanding().max())\n",
    "%timeit big_ts.expanding().max()\n",
    "\n",
    "print(ts.vbt.timeseries.expanding_max())\n",
    "%timeit big_ts.vbt.timeseries.expanding_max()"
   ]
  },
  {
   "cell_type": "code",
   "execution_count": 20,
   "metadata": {},
   "outputs": [
    {
     "name": "stdout",
     "output_type": "stream",
     "text": [
      "              a    b         c\n",
      "2018-01-01  1.0  NaN  1.000000\n",
      "2018-01-02  1.5  4.0  1.500000\n",
      "2018-01-03  2.0  3.5  1.500000\n",
      "2018-01-04  2.5  3.0  1.666667\n",
      "2018-01-05  2.5  2.5  1.500000\n",
      "45.5 ms ± 10.5 ms per loop (mean ± std. dev. of 7 runs, 10 loops each)\n",
      "              a    b         c\n",
      "2018-01-01  1.0  NaN  1.000000\n",
      "2018-01-02  1.5  4.0  1.500000\n",
      "2018-01-03  2.0  3.5  1.500000\n",
      "2018-01-04  2.5  3.0  1.666667\n",
      "2018-01-05  2.5  2.5  1.500000\n",
      "29.3 ms ± 10.7 ms per loop (mean ± std. dev. of 7 runs, 10 loops each)\n"
     ]
    }
   ],
   "source": [
    "print(ts.expanding().mean())\n",
    "%timeit big_ts.expanding().mean()\n",
    "\n",
    "print(ts.vbt.timeseries.expanding_mean())\n",
    "%timeit big_ts.vbt.timeseries.expanding_mean()"
   ]
  },
  {
   "cell_type": "code",
   "execution_count": 21,
   "metadata": {},
   "outputs": [
    {
     "name": "stdout",
     "output_type": "stream",
     "text": [
      "                   a         b         c\n",
      "2018-01-01       NaN       NaN       NaN\n",
      "2018-01-02  0.707107       NaN  0.707107\n",
      "2018-01-03  1.000000  0.707107  0.707107\n",
      "2018-01-04  1.290994  1.000000  0.577350\n",
      "2018-01-05  1.290994  1.290994  0.577350\n",
      "86.8 ms ± 18.7 ms per loop (mean ± std. dev. of 7 runs, 10 loops each)\n",
      "                   a         b         c\n",
      "2018-01-01       NaN       NaN       NaN\n",
      "2018-01-02  0.707107       NaN  0.707107\n",
      "2018-01-03  1.000000  0.707107  0.707107\n",
      "2018-01-04  1.290994  1.000000  0.577350\n",
      "2018-01-05  1.290994  1.290994  0.577350\n",
      "20.1 ms ± 436 µs per loop (mean ± std. dev. of 7 runs, 10 loops each)\n"
     ]
    }
   ],
   "source": [
    "print(ts.expanding().std())\n",
    "%timeit big_ts.expanding().std()\n",
    "\n",
    "print(ts.vbt.timeseries.expanding_std())\n",
    "%timeit big_ts.vbt.timeseries.expanding_std()"
   ]
  },
  {
   "cell_type": "code",
   "execution_count": 22,
   "metadata": {},
   "outputs": [],
   "source": [
    "nanmean_nb = njit(lambda x: np.nanmean(x))"
   ]
  },
  {
   "cell_type": "code",
   "execution_count": 23,
   "metadata": {},
   "outputs": [
    {
     "name": "stdout",
     "output_type": "stream",
     "text": [
      "              a    b    c\n",
      "2018-01-01  1.0  NaN  1.0\n",
      "2018-01-02  1.5  4.0  1.5\n",
      "2018-01-03  2.0  3.5  1.5\n",
      "2018-01-04  3.0  3.0  2.0\n",
      "2018-01-05  3.5  2.0  1.5\n",
      "534 ms ± 36.4 ms per loop (mean ± std. dev. of 7 runs, 1 loop each)\n",
      "              a    b    c\n",
      "2018-01-01  1.0  NaN  1.0\n",
      "2018-01-02  1.5  4.0  1.5\n",
      "2018-01-03  2.0  3.5  1.5\n",
      "2018-01-04  3.0  3.0  2.0\n",
      "2018-01-05  3.5  2.0  1.5\n",
      "113 ms ± 51.2 ms per loop (mean ± std. dev. of 7 runs, 1 loop each)\n",
      "                   a         b         c\n",
      "2018-01-01  1.000000  1.000000  1.000000\n",
      "2018-01-02  2.000000  2.000000  2.000000\n",
      "2018-01-03  2.285714  2.285714  2.285714\n",
      "2018-01-04  2.750000  2.750000  2.750000\n",
      "2018-01-05  2.285714  2.285714  2.285714\n",
      "12 ms ± 4.04 ms per loop (mean ± std. dev. of 7 runs, 10 loops each)\n"
     ]
    }
   ],
   "source": [
    "print(ts.rolling(3, min_periods=1).apply(nanmean_nb, raw=True))\n",
    "%timeit big_ts.rolling(3, min_periods=1).apply(nanmean_nb, raw=True)\n",
    "\n",
    "print(ts.vbt.timeseries.rolling_apply(3, nanmean_nb))\n",
    "%timeit big_ts.vbt.timeseries.rolling_apply(3, nanmean_nb)\n",
    "\n",
    "print(ts.vbt.timeseries.rolling_apply(3, nanmean_nb, on_2d=True))\n",
    "%timeit big_ts.vbt.timeseries.rolling_apply(3, nanmean_nb, on_2d=True)"
   ]
  },
  {
   "cell_type": "code",
   "execution_count": 24,
   "metadata": {},
   "outputs": [
    {
     "name": "stdout",
     "output_type": "stream",
     "text": [
      "              a    b         c\n",
      "2018-01-01  1.0  NaN  1.000000\n",
      "2018-01-02  1.5  4.0  1.500000\n",
      "2018-01-03  2.0  3.5  1.500000\n",
      "2018-01-04  2.5  3.0  1.666667\n",
      "2018-01-05  2.5  2.5  1.500000\n",
      "2.33 s ± 336 ms per loop (mean ± std. dev. of 7 runs, 1 loop each)\n",
      "              a    b         c\n",
      "2018-01-01  1.0  NaN  1.000000\n",
      "2018-01-02  1.5  4.0  1.500000\n",
      "2018-01-03  2.0  3.5  1.500000\n",
      "2018-01-04  2.5  3.0  1.666667\n",
      "2018-01-05  2.5  2.5  1.500000\n",
      "1.06 s ± 38.2 ms per loop (mean ± std. dev. of 7 runs, 1 loop each)\n",
      "                   a         b         c\n",
      "2018-01-01  1.000000  1.000000  1.000000\n",
      "2018-01-02  2.000000  2.000000  2.000000\n",
      "2018-01-03  2.285714  2.285714  2.285714\n",
      "2018-01-04  2.400000  2.400000  2.400000\n",
      "2018-01-05  2.166667  2.166667  2.166667\n",
      "998 ms ± 21.7 ms per loop (mean ± std. dev. of 7 runs, 1 loop each)\n"
     ]
    }
   ],
   "source": [
    "print(ts.expanding().apply(nanmean_nb, raw=True))\n",
    "%timeit big_ts.expanding().apply(nanmean_nb, raw=True)\n",
    "\n",
    "print(ts.vbt.timeseries.expanding_apply(nanmean_nb))\n",
    "%timeit big_ts.vbt.timeseries.expanding_apply(nanmean_nb)\n",
    "\n",
    "print(ts.vbt.timeseries.expanding_apply(nanmean_nb, on_2d=True))\n",
    "%timeit big_ts.vbt.timeseries.expanding_apply(nanmean_nb, on_2d=True)"
   ]
  },
  {
   "cell_type": "code",
   "execution_count": 25,
   "metadata": {},
   "outputs": [
    {
     "name": "stdout",
     "output_type": "stream",
     "text": [
      "1    1.5\n",
      "2    3.5\n",
      "3    NaN\n",
      "Name: a, dtype: float64\n",
      "4.91 ms ± 77.5 µs per loop (mean ± std. dev. of 7 runs, 100 loops each)\n",
      "1    1.5\n",
      "2    3.5\n",
      "3    NaN\n",
      "Name: a, dtype: float64\n",
      "1 ms ± 126 µs per loop (mean ± std. dev. of 7 runs, 1 loop each)\n",
      "     a    b    c\n",
      "1  1.5  4.0  1.5\n",
      "2  3.5  2.5  2.0\n",
      "3  NaN  1.0  1.0\n",
      "     a    b    c\n",
      "1  1.5  4.0  1.5\n",
      "2  3.5  2.5  2.0\n",
      "3  NaN  1.0  1.0\n",
      "8.27 ms ± 646 µs per loop (mean ± std. dev. of 7 runs, 1 loop each)\n",
      "     a    b    c\n",
      "1  2.0  2.0  2.0\n",
      "2  2.8  2.8  2.8\n",
      "3  1.0  1.0  1.0\n"
     ]
    }
   ],
   "source": [
    "print(ts['a'].groupby(np.asarray([1, 1, 2, 2, 3])).apply(lambda x: nanmean_nb(x.values)))\n",
    "%timeit big_ts.iloc[:, 0].groupby(np.random.randint(10, size=1000)).apply(lambda x: nanmean_nb(x.values))\n",
    "\n",
    "print(ts['a'].vbt.timeseries.groupby_apply(np.asarray([1, 1, 2, 2, 3]), nanmean_nb))\n",
    "%timeit big_ts.iloc[:, 0].vbt.timeseries.groupby_apply(np.random.randint(10, size=1000), nanmean_nb)\n",
    "\n",
    "print(ts.groupby(np.asarray([1, 1, 2, 2, 3])).agg({\n",
    "    'a': lambda x: nanmean_nb(x.values), \n",
    "    'b': lambda x: nanmean_nb(x.values), \n",
    "    'c': lambda x: nanmean_nb(x.values)})) # any clean way to do column-wise grouping in pandas?\n",
    "\n",
    "print(ts.vbt.timeseries.groupby_apply(np.asarray([1, 1, 2, 2, 3]), nanmean_nb))\n",
    "%timeit big_ts.vbt.timeseries.groupby_apply(np.random.randint(10, size=1000), nanmean_nb)\n",
    "\n",
    "print(ts.vbt.timeseries.groupby_apply(np.asarray([1, 1, 2, 2, 3]), nanmean_nb, on_2d=True))"
   ]
  },
  {
   "cell_type": "code",
   "execution_count": 26,
   "metadata": {},
   "outputs": [
    {
     "name": "stdout",
     "output_type": "stream",
     "text": [
      "2018-01-01 00:00:00    1.0\n",
      "2018-01-01 01:00:00    NaN\n",
      "2018-01-01 02:00:00    NaN\n",
      "2018-01-01 03:00:00    NaN\n",
      "2018-01-01 04:00:00    NaN\n",
      "                      ... \n",
      "2018-01-04 20:00:00    NaN\n",
      "2018-01-04 21:00:00    NaN\n",
      "2018-01-04 22:00:00    NaN\n",
      "2018-01-04 23:00:00    NaN\n",
      "2018-01-05 00:00:00    NaN\n",
      "Freq: H, Name: a, Length: 97, dtype: float32\n",
      "186 ms ± 25.8 ms per loop (mean ± std. dev. of 7 runs, 10 loops each)\n",
      "2018-01-01 00:00:00    1.0\n",
      "2018-01-01 01:00:00    NaN\n",
      "2018-01-01 02:00:00    NaN\n",
      "2018-01-01 03:00:00    NaN\n",
      "2018-01-01 04:00:00    NaN\n",
      "                      ... \n",
      "2018-01-04 20:00:00    NaN\n",
      "2018-01-04 21:00:00    NaN\n",
      "2018-01-04 22:00:00    NaN\n",
      "2018-01-04 23:00:00    NaN\n",
      "2018-01-05 00:00:00    NaN\n",
      "Freq: H, Name: a, Length: 97, dtype: float64\n",
      "139 ms ± 3.96 ms per loop (mean ± std. dev. of 7 runs, 1 loop each)\n",
      "                       a    b    c\n",
      "2018-01-01 00:00:00  1.0  NaN  1.0\n",
      "2018-01-01 01:00:00  NaN  NaN  NaN\n",
      "2018-01-01 02:00:00  NaN  NaN  NaN\n",
      "2018-01-01 03:00:00  NaN  NaN  NaN\n",
      "2018-01-01 04:00:00  NaN  NaN  NaN\n",
      "...                  ...  ...  ...\n",
      "2018-01-04 20:00:00  NaN  NaN  NaN\n",
      "2018-01-04 21:00:00  NaN  NaN  NaN\n",
      "2018-01-04 22:00:00  NaN  NaN  NaN\n",
      "2018-01-04 23:00:00  NaN  NaN  NaN\n",
      "2018-01-05 00:00:00  NaN  1.0  1.0\n",
      "\n",
      "[97 rows x 3 columns]\n",
      "15.6 s ± 1.09 s per loop (mean ± std. dev. of 7 runs, 1 loop each)\n",
      "                       a    b    c\n",
      "2018-01-01 00:00:00  1.0  NaN  1.0\n",
      "2018-01-01 01:00:00  NaN  NaN  NaN\n",
      "2018-01-01 02:00:00  NaN  NaN  NaN\n",
      "2018-01-01 03:00:00  NaN  NaN  NaN\n",
      "2018-01-01 04:00:00  NaN  NaN  NaN\n",
      "...                  ...  ...  ...\n",
      "2018-01-04 20:00:00  NaN  NaN  NaN\n",
      "2018-01-04 21:00:00  NaN  NaN  NaN\n",
      "2018-01-04 22:00:00  NaN  NaN  NaN\n",
      "2018-01-04 23:00:00  NaN  NaN  NaN\n",
      "2018-01-05 00:00:00  NaN  1.0  1.0\n",
      "\n",
      "[97 rows x 3 columns]\n",
      "1.59 s ± 339 ms per loop (mean ± std. dev. of 7 runs, 1 loop each)\n",
      "                       a    b    c\n",
      "2018-01-01 00:00:00  1.0  1.0  1.0\n",
      "2018-01-01 01:00:00  NaN  NaN  NaN\n",
      "2018-01-01 02:00:00  NaN  NaN  NaN\n",
      "2018-01-01 03:00:00  NaN  NaN  NaN\n",
      "2018-01-01 04:00:00  NaN  NaN  NaN\n",
      "...                  ...  ...  ...\n",
      "2018-01-04 20:00:00  NaN  NaN  NaN\n",
      "2018-01-04 21:00:00  NaN  NaN  NaN\n",
      "2018-01-04 22:00:00  NaN  NaN  NaN\n",
      "2018-01-04 23:00:00  NaN  NaN  NaN\n",
      "2018-01-05 00:00:00  1.0  1.0  1.0\n",
      "\n",
      "[97 rows x 3 columns]\n",
      "237 ms ± 11 ms per loop (mean ± std. dev. of 7 runs, 1 loop each)\n"
     ]
    }
   ],
   "source": [
    "print(ts['a'].resample('1h').apply(lambda x: nanmean_nb(x.values)))\n",
    "%timeit big_ts.iloc[:, 0].resample('1h').apply(lambda x: nanmean_nb(x.values))\n",
    "\n",
    "print(ts['a'].vbt.timeseries.resample_apply('1h', nanmean_nb))\n",
    "%timeit big_ts.iloc[:, 0].vbt.timeseries.resample_apply('1h', nanmean_nb)\n",
    "\n",
    "print(ts.resample('1h').apply(lambda x: nanmean_nb(x.values)))\n",
    "%timeit big_ts.iloc[:, :100].resample('1h').apply(lambda x: nanmean_nb(x.values))\n",
    "\n",
    "print(ts.vbt.timeseries.resample_apply('1h', nanmean_nb))\n",
    "%timeit big_ts.vbt.timeseries.resample_apply('1h', nanmean_nb)\n",
    "\n",
    "print(ts.vbt.timeseries.resample_apply('1h', nanmean_nb, on_2d=True))\n",
    "%timeit big_ts.vbt.timeseries.resample_apply('1h', nanmean_nb, on_2d=True)"
   ]
  },
  {
   "cell_type": "code",
   "execution_count": 27,
   "metadata": {},
   "outputs": [
    {
     "name": "stdout",
     "output_type": "stream",
     "text": [
      "2018-01-01    2.0\n",
      "2018-01-04    4.0\n",
      "Freq: 3D, Name: a, dtype: float32\n",
      "6.1 ms ± 2.72 ms per loop (mean ± std. dev. of 7 runs, 100 loops each)\n",
      "2018-01-01    2.0\n",
      "2018-01-04    4.0\n",
      "Freq: 3D, Name: a, dtype: float64\n",
      "12 ms ± 1.99 ms per loop (mean ± std. dev. of 7 runs, 100 loops each)\n",
      "              a    b    c\n",
      "2018-01-01  2.0  3.5  1.5\n",
      "2018-01-04  4.0  1.5  1.5\n",
      "4.5 s ± 487 ms per loop (mean ± std. dev. of 7 runs, 1 loop each)\n",
      "              a    b    c\n",
      "2018-01-01  2.0  3.5  1.5\n",
      "2018-01-04  4.0  1.5  1.5\n",
      "457 ms ± 59.9 ms per loop (mean ± std. dev. of 7 runs, 1 loop each)\n"
     ]
    }
   ],
   "source": [
    "print(ts['a'].resample('3d').apply(lambda x: nanmean_nb(x.values)))\n",
    "%timeit big_ts.iloc[:, 0].resample('3d').apply(lambda x: nanmean_nb(x.values))\n",
    "\n",
    "print(ts['a'].vbt.timeseries.resample_apply('3d', nanmean_nb))\n",
    "%timeit big_ts.iloc[:, 0].vbt.timeseries.resample_apply('3d', nanmean_nb)\n",
    "\n",
    "print(ts.resample('3d').apply(lambda x: nanmean_nb(x.values)))\n",
    "%timeit big_ts.resample('3d').apply(lambda x: nanmean_nb(x.values))\n",
    "\n",
    "print(ts.vbt.timeseries.resample_apply('3d', nanmean_nb))\n",
    "%timeit big_ts.vbt.timeseries.resample_apply('3d', nanmean_nb)"
   ]
  },
  {
   "cell_type": "code",
   "execution_count": 28,
   "metadata": {},
   "outputs": [
    {
     "name": "stdout",
     "output_type": "stream",
     "text": [
      "2018-01-07    2.5\n",
      "Freq: W-SUN, Name: a, dtype: float32\n",
      "8.86 ms ± 1.05 ms per loop (mean ± std. dev. of 7 runs, 100 loops each)\n",
      "2018-01-07    2.5\n",
      "Freq: W-SUN, Name: a, dtype: float64\n",
      "13.6 ms ± 3.51 ms per loop (mean ± std. dev. of 7 runs, 100 loops each)\n",
      "              a    b    c\n",
      "2018-01-07  2.5  2.5  1.5\n",
      "3.48 s ± 1.21 s per loop (mean ± std. dev. of 7 runs, 1 loop each)\n",
      "              a    b    c\n",
      "2018-01-07  2.5  2.5  1.5\n",
      "165 ms ± 16.5 ms per loop (mean ± std. dev. of 7 runs, 10 loops each)\n"
     ]
    }
   ],
   "source": [
    "print(ts['a'].resample('1w').apply(lambda x: nanmean_nb(x.values)))\n",
    "%timeit big_ts.iloc[:, 0].resample('1w').apply(lambda x: nanmean_nb(x.values))\n",
    "\n",
    "print(ts['a'].vbt.timeseries.resample_apply('1w', nanmean_nb))\n",
    "%timeit big_ts.iloc[:, 0].vbt.timeseries.resample_apply('1w', nanmean_nb)\n",
    "\n",
    "print(ts.resample('1w').apply(lambda x: nanmean_nb(x.values)))\n",
    "%timeit big_ts.resample('1w').apply(lambda x: nanmean_nb(x.values))\n",
    "\n",
    "print(ts.vbt.timeseries.resample_apply('1w', nanmean_nb))\n",
    "%timeit big_ts.vbt.timeseries.resample_apply('1w', nanmean_nb)"
   ]
  },
  {
   "cell_type": "code",
   "execution_count": 29,
   "metadata": {},
   "outputs": [
    {
     "name": "stdout",
     "output_type": "stream",
     "text": [
      "start_date  2018-01-01  2018-01-04\n",
      "0                  1.0         4.0\n",
      "1                  2.0         NaN\n",
      "The slowest run took 4.80 times longer than the fastest. This could mean that an intermediate result is being cached.\n",
      "1.77 ms ± 1.02 ms per loop (mean ± std. dev. of 7 runs, 1000 loops each)\n",
      "                    a                     b                     c           \n",
      "start_date 2018-01-01 2018-01-04 2018-01-01 2018-01-04 2018-01-01 2018-01-04\n",
      "0                 1.0        4.0        NaN        2.0        1.0        2.0\n",
      "1                 2.0        NaN        4.0        1.0        2.0        1.0\n",
      "70.9 ms ± 15.4 ms per loop (mean ± std. dev. of 7 runs, 10 loops each)\n"
     ]
    }
   ],
   "source": [
    "print(ts['a'].vbt.timeseries.rolling_window(2, n=2))\n",
    "%timeit big_ts.iloc[:, 0].vbt.timeseries.rolling_window(2, n=100)\n",
    "\n",
    "print(ts.vbt.timeseries.rolling_window(2, n=2))\n",
    "%timeit big_ts.vbt.timeseries.rolling_window(2, n=100)"
   ]
  },
  {
   "cell_type": "code",
   "execution_count": 30,
   "metadata": {
    "Collapsed": "false"
   },
   "outputs": [
    {
     "data": {
      "text/plain": [
       "<matplotlib.axes._subplots.AxesSubplot at 0x621fbdb70>"
      ]
     },
     "execution_count": 30,
     "metadata": {},
     "output_type": "execute_result"
    },
    {
     "data": {
      "image/png": "[encoded data removed]",
      "text/plain": [
       "<Figure size 432x288 with 1 Axes>"
      ]
     },
     "metadata": {
      "needs_background": "light"
     },
     "output_type": "display_data"
    }
   ],
   "source": [
    "# Two ways of plotting\n",
    "ts.plot()"
   ]
  },
  {
   "cell_type": "code",
   "execution_count": 31,
   "metadata": {},
   "outputs": [
    {
     "data": {
      "image/png": "[encoded data removed]"
     },
     "metadata": {},
     "output_type": "display_data"
    }
   ],
   "source": [
    "ts['a'].vbt.timeseries.plot().show_png()"
   ]
  },
  {
   "cell_type": "code",
   "execution_count": 32,
   "metadata": {},
   "outputs": [
    {
     "data": {
      "image/png": "[encoded data removed]"
     },
     "metadata": {},
     "output_type": "display_data"
    }
   ],
   "source": [
    "ts.vbt.timeseries.plot().show_png()"
   ]
  },
  {
   "cell_type": "markdown",
   "metadata": {},
   "source": [
    "## OHLCV"
   ]
  },
  {
   "cell_type": "code",
   "execution_count": 33,
   "metadata": {},
   "outputs": [
    {
     "name": "stdout",
     "output_type": "stream",
     "text": [
      "                Open      High       Low     Close    Volume\n",
      "2018-01-01 -0.438652 -0.330009 -0.914954 -0.461463 -0.287012\n",
      "2018-01-02 -0.775676 -0.380403 -1.397696 -1.529633 -0.849849\n",
      "2018-01-03 -1.519598 -1.462354 -1.846761 -2.081933 -0.583218\n",
      "2018-01-04 -1.691430 -1.324145 -1.991635 -0.987770  0.157433\n",
      "2018-01-05 -2.188291 -1.266565 -2.278449 -1.556407 -0.227309\n"
     ]
    }
   ],
   "source": [
    "ohlcv_ts = pd.DataFrame(\n",
    "    columns=['Open', 'High', 'Low', 'Close', 'Volume'],\n",
    "    index=[datetime(2018, 1, 1) + timedelta(days=i) for i in range(1000)]\n",
    ")\n",
    "ohlcv_ts['Open'] = np.cumsum(np.random.uniform(-0.8, 1, size=(1000,)))\n",
    "ohlcv_ts['Close'] = ohlcv_ts['Open'] + np.random.uniform(-1, 1, size=(1000,))\n",
    "ohlcv_ts['High'] = ohlcv_ts['Open'] + np.random.uniform(0, 1, size=(1000,))\n",
    "ohlcv_ts['Low'] = ohlcv_ts['Open'] - np.random.uniform(0, 1, size=(1000,))\n",
    "ohlcv_ts['Volume'] = np.cumsum(np.random.uniform(-1, 1, size=(1000,)))\n",
    "\n",
    "print(ohlcv_ts.head())"
   ]
  },
  {
   "cell_type": "code",
   "execution_count": 34,
   "metadata": {},
   "outputs": [
    {
     "data": {
      "image/png": "[encoded data removed]"
     },
     "metadata": {},
     "output_type": "display_data"
    }
   ],
   "source": [
    "ohlcv_ts = ohlcv_ts.rename(columns={'Volume': 'Volume2'}) # test different column names\n",
    "\n",
    "ohlcv_ts.vbt.ohlcv(volume='Volume2').plot().show_png()"
   ]
  },
  {
   "cell_type": "code",
   "execution_count": null,
   "metadata": {},
   "outputs": [],
   "source": []
  }
 ],
 "metadata": {
  "kernelspec": {
   "display_name": "Python 3",
   "language": "python",
   "name": "python3"
  },
  "language_info": {
   "codemirror_mode": {
    "name": "ipython",
    "version": 3
   },
   "file_extension": ".py",
   "mimetype": "text/x-python",
   "name": "python",
   "nbconvert_exporter": "python",
   "pygments_lexer": "ipython3",
   "version": "3.7.3"
  },
  "widgets": {
   "application/vnd.jupyter.widget-state+json": {
    "state": {
     "4fe7bdb261b74254bbd8951acfe7ad35": {
      "buffers": [
       {
        "data": "AACAPwAAAEAAAEBAAACAQAAAwH8=",
        "encoding": "base64",
        "path": [
         "_data",
         0,
         "y",
         "value"
        ]
       },
       {
        "data": "AADAfwAAgEAAAEBAAAAAQAAAgD8=",
        "encoding": "base64",
        "path": [
         "_data",
         1,
         "y",
         "value"
        ]
       },
       {
        "data": "AACAPwAAAEAAAMB/AAAAQAAAgD8=",
        "encoding": "base64",
        "path": [
         "_data",
         2,
         "y",
         "value"
        ]
       }
      ],
      "model_module": "plotlywidget",
      "model_module_version": "1.5.0",
      "model_name": "FigureModel",
      "state": {
       "_config": {
        "plotlyServerURL": "https://plot.ly"
       },
       "_data": [
        {
         "mode": "lines",
         "name": "a",
         "type": "scatter",
         "uid": "8781bd1f-035d-46a1-aa11-2890dc4963d3",
         "x": [
          "2018-01-01T00:00:00.000000",
          "2018-01-02T00:00:00.000000",
          "2018-01-03T00:00:00.000000",
          "2018-01-04T00:00:00.000000",
          "2018-01-05T00:00:00.000000"
         ],
         "y": {
          "dtype": "float32",
          "shape": [
           5
          ]
         }
        },
        {
         "mode": "lines",
         "name": "b",
         "type": "scatter",
         "uid": "99fe83f2-3c4c-4e04-8aee-19b162fdb875",
         "x": [
          "2018-01-01T00:00:00.000000",
          "2018-01-02T00:00:00.000000",
          "2018-01-03T00:00:00.000000",
          "2018-01-04T00:00:00.000000",
          "2018-01-05T00:00:00.000000"
         ],
         "y": {
          "dtype": "float32",
          "shape": [
           5
          ]
         }
        },
        {
         "mode": "lines",
         "name": "c",
         "type": "scatter",
         "uid": "9af87f92-0785-48b3-8ad3-ebec9ee4b2bd",
         "x": [
          "2018-01-01T00:00:00.000000",
          "2018-01-02T00:00:00.000000",
          "2018-01-03T00:00:00.000000",
          "2018-01-04T00:00:00.000000",
          "2018-01-05T00:00:00.000000"
         ],
         "y": {
          "dtype": "float32",
          "shape": [
           5
          ]
         }
        }
       ],
       "_js2py_layoutDelta": {},
       "_js2py_pointsCallback": {},
       "_js2py_relayout": {},
       "_js2py_restyle": {},
       "_js2py_traceDeltas": {},
       "_js2py_update": {},
       "_last_layout_edit_id": 5,
       "_last_trace_edit_id": 5,
       "_layout": {
        "autosize": false,
        "colorway": [
         "#1f77b4",
         "#ff7f0e",
         "#2ca02c",
         "#d62728",
         "#9467bd",
         "#8c564b",
         "#e377c2",
         "#7f7f7f",
         "#bcbd22",
         "#17becf"
        ],
        "height": 300,
        "hovermode": "closest",
        "margin": {
         "b": 30,
         "t": 30
        },
        "showlegend": true,
        "template": {
         "data": {
          "bar": [
           {
            "error_x": {
             "color": "#2a3f5f"
            },
            "error_y": {
             "color": "#2a3f5f"
            },
            "marker": {
             "line": {
              "color": "#E5ECF6",
              "width": 0.5
             }
            },
            "type": "bar"
           }
          ],
          "barpolar": [
           {
            "marker": {
             "line": {
              "color": "#E5ECF6",
              "width": 0.5
             }
            },
            "type": "barpolar"
           }
          ],
          "carpet": [
           {
            "aaxis": {
             "endlinecolor": "#2a3f5f",
             "gridcolor": "white",
             "linecolor": "white",
             "minorgridcolor": "white",
             "startlinecolor": "#2a3f5f"
            },
            "baxis": {
             "endlinecolor": "#2a3f5f",
             "gridcolor": "white",
             "linecolor": "white",
             "minorgridcolor": "white",
             "startlinecolor": "#2a3f5f"
            },
            "type": "carpet"
           }
          ],
          "choropleth": [
           {
            "colorbar": {
             "outlinewidth": 0,
             "ticks": ""
            },
            "type": "choropleth"
           }
          ],
          "contour": [
           {
            "colorbar": {
             "outlinewidth": 0,
             "ticks": ""
            },
            "colorscale": [
             [
              0,
              "#0d0887"
             ],
             [
              0.1111111111111111,
              "#46039f"
             ],
             [
              0.2222222222222222,
              "#7201a8"
             ],
             [
              0.3333333333333333,
              "#9c179e"
             ],
             [
              0.4444444444444444,
              "#bd3786"
             ],
             [
              0.5555555555555556,
              "#d8576b"
             ],
             [
              0.6666666666666666,
              "#ed7953"
             ],
             [
              0.7777777777777778,
              "#fb9f3a"
             ],
             [
              0.8888888888888888,
              "#fdca26"
             ],
             [
              1,
              "#f0f921"
             ]
            ],
            "type": "contour"
           }
          ],
          "contourcarpet": [
           {
            "colorbar": {
             "outlinewidth": 0,
             "ticks": ""
            },
            "type": "contourcarpet"
           }
          ],
          "heatmap": [
           {
            "colorbar": {
             "outlinewidth": 0,
             "ticks": ""
            },
            "colorscale": [
             [
              0,
              "#0d0887"
             ],
             [
              0.1111111111111111,
              "#46039f"
             ],
             [
              0.2222222222222222,
              "#7201a8"
             ],
             [
              0.3333333333333333,
              "#9c179e"
             ],
             [
              0.4444444444444444,
              "#bd3786"
             ],
             [
              0.5555555555555556,
              "#d8576b"
             ],
             [
              0.6666666666666666,
              "#ed7953"
             ],
             [
              0.7777777777777778,
              "#fb9f3a"
             ],
             [
              0.8888888888888888,
              "#fdca26"
             ],
             [
              1,
              "#f0f921"
             ]
            ],
            "type": "heatmap"
           }
          ],
          "heatmapgl": [
           {
            "colorbar": {
             "outlinewidth": 0,
             "ticks": ""
            },
            "colorscale": [
             [
              0,
              "#0d0887"
             ],
             [
              0.1111111111111111,
              "#46039f"
             ],
             [
              0.2222222222222222,
              "#7201a8"
             ],
             [
              0.3333333333333333,
              "#9c179e"
             ],
             [
              0.4444444444444444,
              "#bd3786"
             ],
             [
              0.5555555555555556,
              "#d8576b"
             ],
             [
              0.6666666666666666,
              "#ed7953"
             ],
             [
              0.7777777777777778,
              "#fb9f3a"
             ],
             [
              0.8888888888888888,
              "#fdca26"
             ],
             [
              1,
              "#f0f921"
             ]
            ],
            "type": "heatmapgl"
           }
          ],
          "histogram": [
           {
            "marker": {
             "colorbar": {
              "outlinewidth": 0,
              "ticks": ""
             }
            },
            "type": "histogram"
           }
          ],
          "histogram2d": [
           {
            "colorbar": {
             "outlinewidth": 0,
             "ticks": ""
            },
            "colorscale": [
             [
              0,
              "#0d0887"
             ],
             [
              0.1111111111111111,
              "#46039f"
             ],
             [
              0.2222222222222222,
              "#7201a8"
             ],
             [
              0.3333333333333333,
              "#9c179e"
             ],
             [
              0.4444444444444444,
              "#bd3786"
             ],
             [
              0.5555555555555556,
              "#d8576b"
             ],
             [
              0.6666666666666666,
              "#ed7953"
             ],
             [
              0.7777777777777778,
              "#fb9f3a"
             ],
             [
              0.8888888888888888,
              "#fdca26"
             ],
             [
              1,
              "#f0f921"
             ]
            ],
            "type": "histogram2d"
           }
          ],
          "histogram2dcontour": [
           {
            "colorbar": {
             "outlinewidth": 0,
             "ticks": ""
            },
            "colorscale": [
             [
              0,
              "#0d0887"
             ],
             [
              0.1111111111111111,
              "#46039f"
             ],
             [
              0.2222222222222222,
              "#7201a8"
             ],
             [
              0.3333333333333333,
              "#9c179e"
             ],
             [
              0.4444444444444444,
              "#bd3786"
             ],
             [
              0.5555555555555556,
              "#d8576b"
             ],
             [
              0.6666666666666666,
              "#ed7953"
             ],
             [
              0.7777777777777778,
              "#fb9f3a"
             ],
             [
              0.8888888888888888,
              "#fdca26"
             ],
             [
              1,
              "#f0f921"
             ]
            ],
            "type": "histogram2dcontour"
           }
          ],
          "mesh3d": [
           {
            "colorbar": {
             "outlinewidth": 0,
             "ticks": ""
            },
            "type": "mesh3d"
           }
          ],
          "parcoords": [
           {
            "line": {
             "colorbar": {
              "outlinewidth": 0,
              "ticks": ""
             }
            },
            "type": "parcoords"
           }
          ],
          "pie": [
           {
            "automargin": true,
            "type": "pie"
           }
          ],
          "scatter": [
           {
            "marker": {
             "colorbar": {
              "outlinewidth": 0,
              "ticks": ""
             }
            },
            "type": "scatter"
           }
          ],
          "scatter3d": [
           {
            "line": {
             "colorbar": {
              "outlinewidth": 0,
              "ticks": ""
             }
            },
            "marker": {
             "colorbar": {
              "outlinewidth": 0,
              "ticks": ""
             }
            },
            "type": "scatter3d"
           }
          ],
          "scattercarpet": [
           {
            "marker": {
             "colorbar": {
              "outlinewidth": 0,
              "ticks": ""
             }
            },
            "type": "scattercarpet"
           }
          ],
          "scattergeo": [
           {
            "marker": {
             "colorbar": {
              "outlinewidth": 0,
              "ticks": ""
             }
            },
            "type": "scattergeo"
           }
          ],
          "scattergl": [
           {
            "marker": {
             "colorbar": {
              "outlinewidth": 0,
              "ticks": ""
             }
            },
            "type": "scattergl"
           }
          ],
          "scattermapbox": [
           {
            "marker": {
             "colorbar": {
              "outlinewidth": 0,
              "ticks": ""
             }
            },
            "type": "scattermapbox"
           }
          ],
          "scatterpolar": [
           {
            "marker": {
             "colorbar": {
              "outlinewidth": 0,
              "ticks": ""
             }
            },
            "type": "scatterpolar"
           }
          ],
          "scatterpolargl": [
           {
            "marker": {
             "colorbar": {
              "outlinewidth": 0,
              "ticks": ""
             }
            },
            "type": "scatterpolargl"
           }
          ],
          "scatterternary": [
           {
            "marker": {
             "colorbar": {
              "outlinewidth": 0,
              "ticks": ""
             }
            },
            "type": "scatterternary"
           }
          ],
          "surface": [
           {
            "colorbar": {
             "outlinewidth": 0,
             "ticks": ""
            },
            "colorscale": [
             [
              0,
              "#0d0887"
             ],
             [
              0.1111111111111111,
              "#46039f"
             ],
             [
              0.2222222222222222,
              "#7201a8"
             ],
             [
              0.3333333333333333,
              "#9c179e"
             ],
             [
              0.4444444444444444,
              "#bd3786"
             ],
             [
              0.5555555555555556,
              "#d8576b"
             ],
             [
              0.6666666666666666,
              "#ed7953"
             ],
             [
              0.7777777777777778,
              "#fb9f3a"
             ],
             [
              0.8888888888888888,
              "#fdca26"
             ],
             [
              1,
              "#f0f921"
             ]
            ],
            "type": "surface"
           }
          ],
          "table": [
           {
            "cells": {
             "fill": {
              "color": "#EBF0F8"
             },
             "line": {
              "color": "white"
             }
            },
            "header": {
             "fill": {
              "color": "#C8D4E3"
             },
             "line": {
              "color": "white"
             }
            },
            "type": "table"
           }
          ]
         },
         "layout": {
          "annotationdefaults": {
           "arrowcolor": "#2a3f5f",
           "arrowhead": 0,
           "arrowwidth": 1
          },
          "coloraxis": {
           "colorbar": {
            "outlinewidth": 0,
            "ticks": ""
           }
          },
          "colorscale": {
           "diverging": [
            [
             0,
             "#8e0152"
            ],
            [
             0.1,
             "#c51b7d"
            ],
            [
             0.2,
             "#de77ae"
            ],
            [
             0.3,
             "#f1b6da"
            ],
            [
             0.4,
             "#fde0ef"
            ],
            [
             0.5,
             "#f7f7f7"
            ],
            [
             0.6,
             "#e6f5d0"
            ],
            [
             0.7,
             "#b8e186"
            ],
            [
             0.8,
             "#7fbc41"
            ],
            [
             0.9,
             "#4d9221"
            ],
            [
             1,
             "#276419"
            ]
           ],
           "sequential": [
            [
             0,
             "#0d0887"
            ],
            [
             0.1111111111111111,
             "#46039f"
            ],
            [
             0.2222222222222222,
             "#7201a8"
            ],
            [
             0.3333333333333333,
             "#9c179e"
            ],
            [
             0.4444444444444444,
             "#bd3786"
            ],
            [
             0.5555555555555556,
             "#d8576b"
            ],
            [
             0.6666666666666666,
             "#ed7953"
            ],
            [
             0.7777777777777778,
             "#fb9f3a"
            ],
            [
             0.8888888888888888,
             "#fdca26"
            ],
            [
             1,
             "#f0f921"
            ]
           ],
           "sequentialminus": [
            [
             0,
             "#0d0887"
            ],
            [
             0.1111111111111111,
             "#46039f"
            ],
            [
             0.2222222222222222,
             "#7201a8"
            ],
            [
             0.3333333333333333,
             "#9c179e"
            ],
            [
             0.4444444444444444,
             "#bd3786"
            ],
            [
             0.5555555555555556,
             "#d8576b"
            ],
            [
             0.6666666666666666,
             "#ed7953"
            ],
            [
             0.7777777777777778,
             "#fb9f3a"
            ],
            [
             0.8888888888888888,
             "#fdca26"
            ],
            [
             1,
             "#f0f921"
            ]
           ]
          },
          "colorway": [
           "#636efa",
           "#EF553B",
           "#00cc96",
           "#ab63fa",
           "#FFA15A",
           "#19d3f3",
           "#FF6692",
           "#B6E880",
           "#FF97FF",
           "#FECB52"
          ],
          "font": {
           "color": "#2a3f5f"
          },
          "geo": {
           "bgcolor": "white",
           "lakecolor": "white",
           "landcolor": "#E5ECF6",
           "showlakes": true,
           "showland": true,
           "subunitcolor": "white"
          },
          "hoverlabel": {
           "align": "left"
          },
          "hovermode": "closest",
          "mapbox": {
           "style": "light"
          },
          "paper_bgcolor": "white",
          "plot_bgcolor": "#E5ECF6",
          "polar": {
           "angularaxis": {
            "gridcolor": "white",
            "linecolor": "white",
            "ticks": ""
           },
           "bgcolor": "#E5ECF6",
           "radialaxis": {
            "gridcolor": "white",
            "linecolor": "white",
            "ticks": ""
           }
          },
          "scene": {
           "xaxis": {
            "backgroundcolor": "#E5ECF6",
            "gridcolor": "white",
            "gridwidth": 2,
            "linecolor": "white",
            "showbackground": true,
            "ticks": "",
            "zerolinecolor": "white"
           },
           "yaxis": {
            "backgroundcolor": "#E5ECF6",
            "gridcolor": "white",
            "gridwidth": 2,
            "linecolor": "white",
            "showbackground": true,
            "ticks": "",
            "zerolinecolor": "white"
           },
           "zaxis": {
            "backgroundcolor": "#E5ECF6",
            "gridcolor": "white",
            "gridwidth": 2,
            "linecolor": "white",
            "showbackground": true,
            "ticks": "",
            "zerolinecolor": "white"
           }
          },
          "shapedefaults": {
           "line": {
            "color": "#2a3f5f"
           }
          },
          "ternary": {
           "aaxis": {
            "gridcolor": "white",
            "linecolor": "white",
            "ticks": ""
           },
           "baxis": {
            "gridcolor": "white",
            "linecolor": "white",
            "ticks": ""
           },
           "bgcolor": "#E5ECF6",
           "caxis": {
            "gridcolor": "white",
            "linecolor": "white",
            "ticks": ""
           }
          },
          "title": {
           "x": 0.05
          },
          "xaxis": {
           "automargin": true,
           "gridcolor": "white",
           "linecolor": "white",
           "ticks": "",
           "title": {
            "standoff": 15
           },
           "zerolinecolor": "white",
           "zerolinewidth": 2
          },
          "yaxis": {
           "automargin": true,
           "gridcolor": "white",
           "linecolor": "white",
           "ticks": "",
           "title": {
            "standoff": 15
           },
           "zerolinecolor": "white",
           "zerolinewidth": 2
          }
         }
        },
        "width": 700
       },
       "_model_module_version": "1.5.0",
       "_py2js_animate": {},
       "_py2js_deleteTraces": {},
       "_py2js_moveTraces": {},
       "_py2js_removeLayoutProps": {},
       "_py2js_removeTraceProps": {},
       "_py2js_restyle": {},
       "_view_count": 0,
       "_view_module_version": "1.5.0"
      }
     },
     "9696e6ba678746b4affa4d643a4c95a5": {
      "buffers": [
       {
        "data": "AACAPwAAAEAAAEBAAACAQAAAwH8=",
        "encoding": "base64",
        "path": [
         "_data",
         0,
         "y",
         "value"
        ]
       }
      ],
      "model_module": "plotlywidget",
      "model_module_version": "1.5.0",
      "model_name": "FigureModel",
      "state": {
       "_config": {
        "plotlyServerURL": "https://plot.ly"
       },
       "_data": [
        {
         "mode": "lines",
         "name": "a",
         "type": "scatter",
         "uid": "ae456d96-8732-4079-a17f-edb566119897",
         "x": [
          "2018-01-01T00:00:00.000000",
          "2018-01-02T00:00:00.000000",
          "2018-01-03T00:00:00.000000",
          "2018-01-04T00:00:00.000000",
          "2018-01-05T00:00:00.000000"
         ],
         "y": {
          "dtype": "float32",
          "shape": [
           5
          ]
         }
        }
       ],
       "_js2py_layoutDelta": {},
       "_js2py_pointsCallback": {},
       "_js2py_relayout": {},
       "_js2py_restyle": {},
       "_js2py_traceDeltas": {},
       "_js2py_update": {},
       "_last_layout_edit_id": 3,
       "_last_trace_edit_id": 3,
       "_layout": {
        "autosize": false,
        "colorway": [
         "#1f77b4",
         "#ff7f0e",
         "#2ca02c",
         "#d62728",
         "#9467bd",
         "#8c564b",
         "#e377c2",
         "#7f7f7f",
         "#bcbd22",
         "#17becf"
        ],
        "height": 300,
        "hovermode": "closest",
        "margin": {
         "b": 30,
         "t": 30
        },
        "showlegend": true,
        "template": {
         "data": {
          "bar": [
           {
            "error_x": {
             "color": "#2a3f5f"
            },
            "error_y": {
             "color": "#2a3f5f"
            },
            "marker": {
             "line": {
              "color": "#E5ECF6",
              "width": 0.5
             }
            },
            "type": "bar"
           }
          ],
          "barpolar": [
           {
            "marker": {
             "line": {
              "color": "#E5ECF6",
              "width": 0.5
             }
            },
            "type": "barpolar"
           }
          ],
          "carpet": [
           {
            "aaxis": {
             "endlinecolor": "#2a3f5f",
             "gridcolor": "white",
             "linecolor": "white",
             "minorgridcolor": "white",
             "startlinecolor": "#2a3f5f"
            },
            "baxis": {
             "endlinecolor": "#2a3f5f",
             "gridcolor": "white",
             "linecolor": "white",
             "minorgridcolor": "white",
             "startlinecolor": "#2a3f5f"
            },
            "type": "carpet"
           }
          ],
          "choropleth": [
           {
            "colorbar": {
             "outlinewidth": 0,
             "ticks": ""
            },
            "type": "choropleth"
           }
          ],
          "contour": [
           {
            "colorbar": {
             "outlinewidth": 0,
             "ticks": ""
            },
            "colorscale": [
             [
              0,
              "#0d0887"
             ],
             [
              0.1111111111111111,
              "#46039f"
             ],
             [
              0.2222222222222222,
              "#7201a8"
             ],
             [
              0.3333333333333333,
              "#9c179e"
             ],
             [
              0.4444444444444444,
              "#bd3786"
             ],
             [
              0.5555555555555556,
              "#d8576b"
             ],
             [
              0.6666666666666666,
              "#ed7953"
             ],
             [
              0.7777777777777778,
              "#fb9f3a"
             ],
             [
              0.8888888888888888,
              "#fdca26"
             ],
             [
              1,
              "#f0f921"
             ]
            ],
            "type": "contour"
           }
          ],
          "contourcarpet": [
           {
            "colorbar": {
             "outlinewidth": 0,
             "ticks": ""
            },
            "type": "contourcarpet"
           }
          ],
          "heatmap": [
           {
            "colorbar": {
             "outlinewidth": 0,
             "ticks": ""
            },
            "colorscale": [
             [
              0,
              "#0d0887"
             ],
             [
              0.1111111111111111,
              "#46039f"
             ],
             [
              0.2222222222222222,
              "#7201a8"
             ],
             [
              0.3333333333333333,
              "#9c179e"
             ],
             [
              0.4444444444444444,
              "#bd3786"
             ],
             [
              0.5555555555555556,
              "#d8576b"
             ],
             [
              0.6666666666666666,
              "#ed7953"
             ],
             [
              0.7777777777777778,
              "#fb9f3a"
             ],
             [
              0.8888888888888888,
              "#fdca26"
             ],
             [
              1,
              "#f0f921"
             ]
            ],
            "type": "heatmap"
           }
          ],
          "heatmapgl": [
           {
            "colorbar": {
             "outlinewidth": 0,
             "ticks": ""
            },
            "colorscale": [
             [
              0,
              "#0d0887"
             ],
             [
              0.1111111111111111,
              "#46039f"
             ],
             [
              0.2222222222222222,
              "#7201a8"
             ],
             [
              0.3333333333333333,
              "#9c179e"
             ],
             [
              0.4444444444444444,
              "#bd3786"
             ],
             [
              0.5555555555555556,
              "#d8576b"
             ],
             [
              0.6666666666666666,
              "#ed7953"
             ],
             [
              0.7777777777777778,
              "#fb9f3a"
             ],
             [
              0.8888888888888888,
              "#fdca26"
             ],
             [
              1,
              "#f0f921"
             ]
            ],
            "type": "heatmapgl"
           }
          ],
          "histogram": [
           {
            "marker": {
             "colorbar": {
              "outlinewidth": 0,
              "ticks": ""
             }
            },
            "type": "histogram"
           }
          ],
          "histogram2d": [
           {
            "colorbar": {
             "outlinewidth": 0,
             "ticks": ""
            },
            "colorscale": [
             [
              0,
              "#0d0887"
             ],
             [
              0.1111111111111111,
              "#46039f"
             ],
             [
              0.2222222222222222,
              "#7201a8"
             ],
             [
              0.3333333333333333,
              "#9c179e"
             ],
             [
              0.4444444444444444,
              "#bd3786"
             ],
             [
              0.5555555555555556,
              "#d8576b"
             ],
             [
              0.6666666666666666,
              "#ed7953"
             ],
             [
              0.7777777777777778,
              "#fb9f3a"
             ],
             [
              0.8888888888888888,
              "#fdca26"
             ],
             [
              1,
              "#f0f921"
             ]
            ],
            "type": "histogram2d"
           }
          ],
          "histogram2dcontour": [
           {
            "colorbar": {
             "outlinewidth": 0,
             "ticks": ""
            },
            "colorscale": [
             [
              0,
              "#0d0887"
             ],
             [
              0.1111111111111111,
              "#46039f"
             ],
             [
              0.2222222222222222,
              "#7201a8"
             ],
             [
              0.3333333333333333,
              "#9c179e"
             ],
             [
              0.4444444444444444,
              "#bd3786"
             ],
             [
              0.5555555555555556,
              "#d8576b"
             ],
             [
              0.6666666666666666,
              "#ed7953"
             ],
             [
              0.7777777777777778,
              "#fb9f3a"
             ],
             [
              0.8888888888888888,
              "#fdca26"
             ],
             [
              1,
              "#f0f921"
             ]
            ],
            "type": "histogram2dcontour"
           }
          ],
          "mesh3d": [
           {
            "colorbar": {
             "outlinewidth": 0,
             "ticks": ""
            },
            "type": "mesh3d"
           }
          ],
          "parcoords": [
           {
            "line": {
             "colorbar": {
              "outlinewidth": 0,
              "ticks": ""
             }
            },
            "type": "parcoords"
           }
          ],
          "pie": [
           {
            "automargin": true,
            "type": "pie"
           }
          ],
          "scatter": [
           {
            "marker": {
             "colorbar": {
              "outlinewidth": 0,
              "ticks": ""
             }
            },
            "type": "scatter"
           }
          ],
          "scatter3d": [
           {
            "line": {
             "colorbar": {
              "outlinewidth": 0,
              "ticks": ""
             }
            },
            "marker": {
             "colorbar": {
              "outlinewidth": 0,
              "ticks": ""
             }
            },
            "type": "scatter3d"
           }
          ],
          "scattercarpet": [
           {
            "marker": {
             "colorbar": {
              "outlinewidth": 0,
              "ticks": ""
             }
            },
            "type": "scattercarpet"
           }
          ],
          "scattergeo": [
           {
            "marker": {
             "colorbar": {
              "outlinewidth": 0,
              "ticks": ""
             }
            },
            "type": "scattergeo"
           }
          ],
          "scattergl": [
           {
            "marker": {
             "colorbar": {
              "outlinewidth": 0,
              "ticks": ""
             }
            },
            "type": "scattergl"
           }
          ],
          "scattermapbox": [
           {
            "marker": {
             "colorbar": {
              "outlinewidth": 0,
              "ticks": ""
             }
            },
            "type": "scattermapbox"
           }
          ],
          "scatterpolar": [
           {
            "marker": {
             "colorbar": {
              "outlinewidth": 0,
              "ticks": ""
             }
            },
            "type": "scatterpolar"
           }
          ],
          "scatterpolargl": [
           {
            "marker": {
             "colorbar": {
              "outlinewidth": 0,
              "ticks": ""
             }
            },
            "type": "scatterpolargl"
           }
          ],
          "scatterternary": [
           {
            "marker": {
             "colorbar": {
              "outlinewidth": 0,
              "ticks": ""
             }
            },
            "type": "scatterternary"
           }
          ],
          "surface": [
           {
            "colorbar": {
             "outlinewidth": 0,
             "ticks": ""
            },
            "colorscale": [
             [
              0,
              "#0d0887"
             ],
             [
              0.1111111111111111,
              "#46039f"
             ],
             [
              0.2222222222222222,
              "#7201a8"
             ],
             [
              0.3333333333333333,
              "#9c179e"
             ],
             [
              0.4444444444444444,
              "#bd3786"
             ],
             [
              0.5555555555555556,
              "#d8576b"
             ],
             [
              0.6666666666666666,
              "#ed7953"
             ],
             [
              0.7777777777777778,
              "#fb9f3a"
             ],
             [
              0.8888888888888888,
              "#fdca26"
             ],
             [
              1,
              "#f0f921"
             ]
            ],
            "type": "surface"
           }
          ],
          "table": [
           {
            "cells": {
             "fill": {
              "color": "#EBF0F8"
             },
             "line": {
              "color": "white"
             }
            },
            "header": {
             "fill": {
              "color": "#C8D4E3"
             },
             "line": {
              "color": "white"
             }
            },
            "type": "table"
           }
          ]
         },
         "layout": {
          "annotationdefaults": {
           "arrowcolor": "#2a3f5f",
           "arrowhead": 0,
           "arrowwidth": 1
          },
          "coloraxis": {
           "colorbar": {
            "outlinewidth": 0,
            "ticks": ""
           }
          },
          "colorscale": {
           "diverging": [
            [
             0,
             "#8e0152"
            ],
            [
             0.1,
             "#c51b7d"
            ],
            [
             0.2,
             "#de77ae"
            ],
            [
             0.3,
             "#f1b6da"
            ],
            [
             0.4,
             "#fde0ef"
            ],
            [
             0.5,
             "#f7f7f7"
            ],
            [
             0.6,
             "#e6f5d0"
            ],
            [
             0.7,
             "#b8e186"
            ],
            [
             0.8,
             "#7fbc41"
            ],
            [
             0.9,
             "#4d9221"
            ],
            [
             1,
             "#276419"
            ]
           ],
           "sequential": [
            [
             0,
             "#0d0887"
            ],
            [
             0.1111111111111111,
             "#46039f"
            ],
            [
             0.2222222222222222,
             "#7201a8"
            ],
            [
             0.3333333333333333,
             "#9c179e"
            ],
            [
             0.4444444444444444,
             "#bd3786"
            ],
            [
             0.5555555555555556,
             "#d8576b"
            ],
            [
             0.6666666666666666,
             "#ed7953"
            ],
            [
             0.7777777777777778,
             "#fb9f3a"
            ],
            [
             0.8888888888888888,
             "#fdca26"
            ],
            [
             1,
             "#f0f921"
            ]
           ],
           "sequentialminus": [
            [
             0,
             "#0d0887"
            ],
            [
             0.1111111111111111,
             "#46039f"
            ],
            [
             0.2222222222222222,
             "#7201a8"
            ],
            [
             0.3333333333333333,
             "#9c179e"
            ],
            [
             0.4444444444444444,
             "#bd3786"
            ],
            [
             0.5555555555555556,
             "#d8576b"
            ],
            [
             0.6666666666666666,
             "#ed7953"
            ],
            [
             0.7777777777777778,
             "#fb9f3a"
            ],
            [
             0.8888888888888888,
             "#fdca26"
            ],
            [
             1,
             "#f0f921"
            ]
           ]
          },
          "colorway": [
           "#636efa",
           "#EF553B",
           "#00cc96",
           "#ab63fa",
           "#FFA15A",
           "#19d3f3",
           "#FF6692",
           "#B6E880",
           "#FF97FF",
           "#FECB52"
          ],
          "font": {
           "color": "#2a3f5f"
          },
          "geo": {
           "bgcolor": "white",
           "lakecolor": "white",
           "landcolor": "#E5ECF6",
           "showlakes": true,
           "showland": true,
           "subunitcolor": "white"
          },
          "hoverlabel": {
           "align": "left"
          },
          "hovermode": "closest",
          "mapbox": {
           "style": "light"
          },
          "paper_bgcolor": "white",
          "plot_bgcolor": "#E5ECF6",
          "polar": {
           "angularaxis": {
            "gridcolor": "white",
            "linecolor": "white",
            "ticks": ""
           },
           "bgcolor": "#E5ECF6",
           "radialaxis": {
            "gridcolor": "white",
            "linecolor": "white",
            "ticks": ""
           }
          },
          "scene": {
           "xaxis": {
            "backgroundcolor": "#E5ECF6",
            "gridcolor": "white",
            "gridwidth": 2,
            "linecolor": "white",
            "showbackground": true,
            "ticks": "",
            "zerolinecolor": "white"
           },
           "yaxis": {
            "backgroundcolor": "#E5ECF6",
            "gridcolor": "white",
            "gridwidth": 2,
            "linecolor": "white",
            "showbackground": true,
            "ticks": "",
            "zerolinecolor": "white"
           },
           "zaxis": {
            "backgroundcolor": "#E5ECF6",
            "gridcolor": "white",
            "gridwidth": 2,
            "linecolor": "white",
            "showbackground": true,
            "ticks": "",
            "zerolinecolor": "white"
           }
          },
          "shapedefaults": {
           "line": {
            "color": "#2a3f5f"
           }
          },
          "ternary": {
           "aaxis": {
            "gridcolor": "white",
            "linecolor": "white",
            "ticks": ""
           },
           "baxis": {
            "gridcolor": "white",
            "linecolor": "white",
            "ticks": ""
           },
           "bgcolor": "#E5ECF6",
           "caxis": {
            "gridcolor": "white",
            "linecolor": "white",
            "ticks": ""
           }
          },
          "title": {
           "x": 0.05
          },
          "xaxis": {
           "automargin": true,
           "gridcolor": "white",
           "linecolor": "white",
           "ticks": "",
           "title": {
            "standoff": 15
           },
           "zerolinecolor": "white",
           "zerolinewidth": 2
          },
          "yaxis": {
           "automargin": true,
           "gridcolor": "white",
           "linecolor": "white",
           "ticks": "",
           "title": {
            "standoff": 15
           },
           "zerolinecolor": "white",
           "zerolinewidth": 2
          }
         }
        },
        "width": 700
       },
       "_model_module_version": "1.5.0",
       "_py2js_animate": {},
       "_py2js_deleteTraces": {},
       "_py2js_moveTraces": {},
       "_py2js_removeLayoutProps": {},
       "_py2js_removeTraceProps": {},
       "_py2js_restyle": {},
       "_view_count": 0,
       "_view_module_version": "1.5.0"
      }
     },
     "e851c042f87a409a9420f06c3301f73f": {
      "buffers": [
       {
        "data": "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",
        "encoding": "base64",
        "path": [
         "_data",
         0,
         "close",
         "value"
        ]
       },
       {
        "data": "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",
        "encoding": "base64",
        "path": [
         "_data",
         0,
         "high",
         "value"
        ]
       },
       {
        "data": "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",
        "encoding": "base64",
        "path": [
         "_data",
         0,
         "low",
         "value"
        ]
       },
       {
        "data": "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",
        "encoding": "base64",
        "path": [
         "_data",
         0,
         "open",
         "value"
        ]
       },
       {
        "data": "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",
        "encoding": "base64",
        "path": [
         "_data",
         1,
         "y",
         "value"
        ]
       }
      ],
      "model_module": "plotlywidget",
      "model_module_version": "1.5.0",
      "model_name": "FigureModel",
      "state": {
       "_config": {
        "plotlyServerURL": "https://plot.ly"
       },
       "_data": [
        {
         "close": {
          "dtype": "float64",
          "shape": [
           1000
          ]
         },
         "high": {
          "dtype": "float64",
          "shape": [
           1000
          ]
         },
         "low": {
          "dtype": "float64",
          "shape": [
           1000
          ]
         },
         "name": "OHLC",
         "open": {
          "dtype": "float64",
          "shape": [
           1000
          ]
         },
         "type": "candlestick",
         "uid": "7f4edd19-b772-40f4-a652-fa08b7c9ddd0",
         "x": [
          "2018-01-01T00:00:00.000000",
          "2018-01-02T00:00:00.000000",
          "2018-01-03T00:00:00.000000",
          "2018-01-04T00:00:00.000000",
          "2018-01-05T00:00:00.000000",
          "2018-01-06T00:00:00.000000",
          "2018-01-07T00:00:00.000000",
          "2018-01-08T00:00:00.000000",
          "2018-01-09T00:00:00.000000",
          "2018-01-10T00:00:00.000000",
          "2018-01-11T00:00:00.000000",
          "2018-01-12T00:00:00.000000",
          "2018-01-13T00:00:00.000000",
          "2018-01-14T00:00:00.000000",
          "2018-01-15T00:00:00.000000",
          "2018-01-16T00:00:00.000000",
          "2018-01-17T00:00:00.000000",
          "2018-01-18T00:00:00.000000",
          "2018-01-19T00:00:00.000000",
          "2018-01-20T00:00:00.000000",
          "2018-01-21T00:00:00.000000",
          "2018-01-22T00:00:00.000000",
          "2018-01-23T00:00:00.000000",
          "2018-01-24T00:00:00.000000",
          "2018-01-25T00:00:00.000000",
          "2018-01-26T00:00:00.000000",
          "2018-01-27T00:00:00.000000",
          "2018-01-28T00:00:00.000000",
          "2018-01-29T00:00:00.000000",
          "2018-01-30T00:00:00.000000",
          "2018-01-31T00:00:00.000000",
          "2018-02-01T00:00:00.000000",
          "2018-02-02T00:00:00.000000",
          "2018-02-03T00:00:00.000000",
          "2018-02-04T00:00:00.000000",
          "2018-02-05T00:00:00.000000",
          "2018-02-06T00:00:00.000000",
          "2018-02-07T00:00:00.000000",
          "2018-02-08T00:00:00.000000",
          "2018-02-09T00:00:00.000000",
          "2018-02-10T00:00:00.000000",
          "2018-02-11T00:00:00.000000",
          "2018-02-12T00:00:00.000000",
          "2018-02-13T00:00:00.000000",
          "2018-02-14T00:00:00.000000",
          "2018-02-15T00:00:00.000000",
          "2018-02-16T00:00:00.000000",
          "2018-02-17T00:00:00.000000",
          "2018-02-18T00:00:00.000000",
          "2018-02-19T00:00:00.000000",
          "2018-02-20T00:00:00.000000",
          "2018-02-21T00:00:00.000000",
          "2018-02-22T00:00:00.000000",
          "2018-02-23T00:00:00.000000",
          "2018-02-24T00:00:00.000000",
          "2018-02-25T00:00:00.000000",
          "2018-02-26T00:00:00.000000",
          "2018-02-27T00:00:00.000000",
          "2018-02-28T00:00:00.000000",
          "2018-03-01T00:00:00.000000",
          "2018-03-02T00:00:00.000000",
          "2018-03-03T00:00:00.000000",
          "2018-03-04T00:00:00.000000",
          "2018-03-05T00:00:00.000000",
          "2018-03-06T00:00:00.000000",
          "2018-03-07T00:00:00.000000",
          "2018-03-08T00:00:00.000000",
          "2018-03-09T00:00:00.000000",
          "2018-03-10T00:00:00.000000",
          "2018-03-11T00:00:00.000000",
          "2018-03-12T00:00:00.000000",
          "2018-03-13T00:00:00.000000",
          "2018-03-14T00:00:00.000000",
          "2018-03-15T00:00:00.000000",
          "2018-03-16T00:00:00.000000",
          "2018-03-17T00:00:00.000000",
          "2018-03-18T00:00:00.000000",
          "2018-03-19T00:00:00.000000",
          "2018-03-20T00:00:00.000000",
          "2018-03-21T00:00:00.000000",
          "2018-03-22T00:00:00.000000",
          "2018-03-23T00:00:00.000000",
          "2018-03-24T00:00:00.000000",
          "2018-03-25T00:00:00.000000",
          "2018-03-26T00:00:00.000000",
          "2018-03-27T00:00:00.000000",
          "2018-03-28T00:00:00.000000",
          "2018-03-29T00:00:00.000000",
          "2018-03-30T00:00:00.000000",
          "2018-03-31T00:00:00.000000",
          "2018-04-01T00:00:00.000000",
          "2018-04-02T00:00:00.000000",
          "2018-04-03T00:00:00.000000",
          "2018-04-04T00:00:00.000000",
          "2018-04-05T00:00:00.000000",
          "2018-04-06T00:00:00.000000",
          "2018-04-07T00:00:00.000000",
          "2018-04-08T00:00:00.000000",
          "2018-04-09T00:00:00.000000",
          "2018-04-10T00:00:00.000000",
          "2018-04-11T00:00:00.000000",
          "2018-04-12T00:00:00.000000",
          "2018-04-13T00:00:00.000000",
          "2018-04-14T00:00:00.000000",
          "2018-04-15T00:00:00.000000",
          "2018-04-16T00:00:00.000000",
          "2018-04-17T00:00:00.000000",
          "2018-04-18T00:00:00.000000",
          "2018-04-19T00:00:00.000000",
          "2018-04-20T00:00:00.000000",
          "2018-04-21T00:00:00.000000",
          "2018-04-22T00:00:00.000000",
          "2018-04-23T00:00:00.000000",
          "2018-04-24T00:00:00.000000",
          "2018-04-25T00:00:00.000000",
          "2018-04-26T00:00:00.000000",
          "2018-04-27T00:00:00.000000",
          "2018-04-28T00:00:00.000000",
          "2018-04-29T00:00:00.000000",
          "2018-04-30T00:00:00.000000",
          "2018-05-01T00:00:00.000000",
          "2018-05-02T00:00:00.000000",
          "2018-05-03T00:00:00.000000",
          "2018-05-04T00:00:00.000000",
          "2018-05-05T00:00:00.000000",
          "2018-05-06T00:00:00.000000",
          "2018-05-07T00:00:00.000000",
          "2018-05-08T00:00:00.000000",
          "2018-05-09T00:00:00.000000",
          "2018-05-10T00:00:00.000000",
          "2018-05-11T00:00:00.000000",
          "2018-05-12T00:00:00.000000",
          "2018-05-13T00:00:00.000000",
          "2018-05-14T00:00:00.000000",
          "2018-05-15T00:00:00.000000",
          "2018-05-16T00:00:00.000000",
          "2018-05-17T00:00:00.000000",
          "2018-05-18T00:00:00.000000",
          "2018-05-19T00:00:00.000000",
          "2018-05-20T00:00:00.000000",
          "2018-05-21T00:00:00.000000",
          "2018-05-22T00:00:00.000000",
          "2018-05-23T00:00:00.000000",
          "2018-05-24T00:00:00.000000",
          "2018-05-25T00:00:00.000000",
          "2018-05-26T00:00:00.000000",
          "2018-05-27T00:00:00.000000",
          "2018-05-28T00:00:00.000000",
          "2018-05-29T00:00:00.000000",
          "2018-05-30T00:00:00.000000",
          "2018-05-31T00:00:00.000000",
          "2018-06-01T00:00:00.000000",
          "2018-06-02T00:00:00.000000",
          "2018-06-03T00:00:00.000000",
          "2018-06-04T00:00:00.000000",
          "2018-06-05T00:00:00.000000",
          "2018-06-06T00:00:00.000000",
          "2018-06-07T00:00:00.000000",
          "2018-06-08T00:00:00.000000",
          "2018-06-09T00:00:00.000000",
          "2018-06-10T00:00:00.000000",
          "2018-06-11T00:00:00.000000",
          "2018-06-12T00:00:00.000000",
          "2018-06-13T00:00:00.000000",
          "2018-06-14T00:00:00.000000",
          "2018-06-15T00:00:00.000000",
          "2018-06-16T00:00:00.000000",
          "2018-06-17T00:00:00.000000",
          "2018-06-18T00:00:00.000000",
          "2018-06-19T00:00:00.000000",
          "2018-06-20T00:00:00.000000",
          "2018-06-21T00:00:00.000000",
          "2018-06-22T00:00:00.000000",
          "2018-06-23T00:00:00.000000",
          "2018-06-24T00:00:00.000000",
          "2018-06-25T00:00:00.000000",
          "2018-06-26T00:00:00.000000",
          "2018-06-27T00:00:00.000000",
          "2018-06-28T00:00:00.000000",
          "2018-06-29T00:00:00.000000",
          "2018-06-30T00:00:00.000000",
          "2018-07-01T00:00:00.000000",
          "2018-07-02T00:00:00.000000",
          "2018-07-03T00:00:00.000000",
          "2018-07-04T00:00:00.000000",
          "2018-07-05T00:00:00.000000",
          "2018-07-06T00:00:00.000000",
          "2018-07-07T00:00:00.000000",
          "2018-07-08T00:00:00.000000",
          "2018-07-09T00:00:00.000000",
          "2018-07-10T00:00:00.000000",
          "2018-07-11T00:00:00.000000",
          "2018-07-12T00:00:00.000000",
          "2018-07-13T00:00:00.000000",
          "2018-07-14T00:00:00.000000",
          "2018-07-15T00:00:00.000000",
          "2018-07-16T00:00:00.000000",
          "2018-07-17T00:00:00.000000",
          "2018-07-18T00:00:00.000000",
          "2018-07-19T00:00:00.000000",
          "2018-07-20T00:00:00.000000",
          "2018-07-21T00:00:00.000000",
          "2018-07-22T00:00:00.000000",
          "2018-07-23T00:00:00.000000",
          "2018-07-24T00:00:00.000000",
          "2018-07-25T00:00:00.000000",
          "2018-07-26T00:00:00.000000",
          "2018-07-27T00:00:00.000000",
          "2018-07-28T00:00:00.000000",
          "2018-07-29T00:00:00.000000",
          "2018-07-30T00:00:00.000000",
          "2018-07-31T00:00:00.000000",
          "2018-08-01T00:00:00.000000",
          "2018-08-02T00:00:00.000000",
          "2018-08-03T00:00:00.000000",
          "2018-08-04T00:00:00.000000",
          "2018-08-05T00:00:00.000000",
          "2018-08-06T00:00:00.000000",
          "2018-08-07T00:00:00.000000",
          "2018-08-08T00:00:00.000000",
          "2018-08-09T00:00:00.000000",
          "2018-08-10T00:00:00.000000",
          "2018-08-11T00:00:00.000000",
          "2018-08-12T00:00:00.000000",
          "2018-08-13T00:00:00.000000",
          "2018-08-14T00:00:00.000000",
          "2018-08-15T00:00:00.000000",
          "2018-08-16T00:00:00.000000",
          "2018-08-17T00:00:00.000000",
          "2018-08-18T00:00:00.000000",
          "2018-08-19T00:00:00.000000",
          "2018-08-20T00:00:00.000000",
          "2018-08-21T00:00:00.000000",
          "2018-08-22T00:00:00.000000",
          "2018-08-23T00:00:00.000000",
          "2018-08-24T00:00:00.000000",
          "2018-08-25T00:00:00.000000",
          "2018-08-26T00:00:00.000000",
          "2018-08-27T00:00:00.000000",
          "2018-08-28T00:00:00.000000",
          "2018-08-29T00:00:00.000000",
          "2018-08-30T00:00:00.000000",
          "2018-08-31T00:00:00.000000",
          "2018-09-01T00:00:00.000000",
          "2018-09-02T00:00:00.000000",
          "2018-09-03T00:00:00.000000",
          "2018-09-04T00:00:00.000000",
          "2018-09-05T00:00:00.000000",
          "2018-09-06T00:00:00.000000",
          "2018-09-07T00:00:00.000000",
          "2018-09-08T00:00:00.000000",
          "2018-09-09T00:00:00.000000",
          "2018-09-10T00:00:00.000000",
          "2018-09-11T00:00:00.000000",
          "2018-09-12T00:00:00.000000",
          "2018-09-13T00:00:00.000000",
          "2018-09-14T00:00:00.000000",
          "2018-09-15T00:00:00.000000",
          "2018-09-16T00:00:00.000000",
          "2018-09-17T00:00:00.000000",
          "2018-09-18T00:00:00.000000",
          "2018-09-19T00:00:00.000000",
          "2018-09-20T00:00:00.000000",
          "2018-09-21T00:00:00.000000",
          "2018-09-22T00:00:00.000000",
          "2018-09-23T00:00:00.000000",
          "2018-09-24T00:00:00.000000",
          "2018-09-25T00:00:00.000000",
          "2018-09-26T00:00:00.000000",
          "2018-09-27T00:00:00.000000",
          "2018-09-28T00:00:00.000000",
          "2018-09-29T00:00:00.000000",
          "2018-09-30T00:00:00.000000",
          "2018-10-01T00:00:00.000000",
          "2018-10-02T00:00:00.000000",
          "2018-10-03T00:00:00.000000",
          "2018-10-04T00:00:00.000000",
          "2018-10-05T00:00:00.000000",
          "2018-10-06T00:00:00.000000",
          "2018-10-07T00:00:00.000000",
          "2018-10-08T00:00:00.000000",
          "2018-10-09T00:00:00.000000",
          "2018-10-10T00:00:00.000000",
          "2018-10-11T00:00:00.000000",
          "2018-10-12T00:00:00.000000",
          "2018-10-13T00:00:00.000000",
          "2018-10-14T00:00:00.000000",
          "2018-10-15T00:00:00.000000",
          "2018-10-16T00:00:00.000000",
          "2018-10-17T00:00:00.000000",
          "2018-10-18T00:00:00.000000",
          "2018-10-19T00:00:00.000000",
          "2018-10-20T00:00:00.000000",
          "2018-10-21T00:00:00.000000",
          "2018-10-22T00:00:00.000000",
          "2018-10-23T00:00:00.000000",
          "2018-10-24T00:00:00.000000",
          "2018-10-25T00:00:00.000000",
          "2018-10-26T00:00:00.000000",
          "2018-10-27T00:00:00.000000",
          "2018-10-28T00:00:00.000000",
          "2018-10-29T00:00:00.000000",
          "2018-10-30T00:00:00.000000",
          "2018-10-31T00:00:00.000000",
          "2018-11-01T00:00:00.000000",
          "2018-11-02T00:00:00.000000",
          "2018-11-03T00:00:00.000000",
          "2018-11-04T00:00:00.000000",
          "2018-11-05T00:00:00.000000",
          "2018-11-06T00:00:00.000000",
          "2018-11-07T00:00:00.000000",
          "2018-11-08T00:00:00.000000",
          "2018-11-09T00:00:00.000000",
          "2018-11-10T00:00:00.000000",
          "2018-11-11T00:00:00.000000",
          "2018-11-12T00:00:00.000000",
          "2018-11-13T00:00:00.000000",
          "2018-11-14T00:00:00.000000",
          "2018-11-15T00:00:00.000000",
          "2018-11-16T00:00:00.000000",
          "2018-11-17T00:00:00.000000",
          "2018-11-18T00:00:00.000000",
          "2018-11-19T00:00:00.000000",
          "2018-11-20T00:00:00.000000",
          "2018-11-21T00:00:00.000000",
          "2018-11-22T00:00:00.000000",
          "2018-11-23T00:00:00.000000",
          "2018-11-24T00:00:00.000000",
          "2018-11-25T00:00:00.000000",
          "2018-11-26T00:00:00.000000",
          "2018-11-27T00:00:00.000000",
          "2018-11-28T00:00:00.000000",
          "2018-11-29T00:00:00.000000",
          "2018-11-30T00:00:00.000000",
          "2018-12-01T00:00:00.000000",
          "2018-12-02T00:00:00.000000",
          "2018-12-03T00:00:00.000000",
          "2018-12-04T00:00:00.000000",
          "2018-12-05T00:00:00.000000",
          "2018-12-06T00:00:00.000000",
          "2018-12-07T00:00:00.000000",
          "2018-12-08T00:00:00.000000",
          "2018-12-09T00:00:00.000000",
          "2018-12-10T00:00:00.000000",
          "2018-12-11T00:00:00.000000",
          "2018-12-12T00:00:00.000000",
          "2018-12-13T00:00:00.000000",
          "2018-12-14T00:00:00.000000",
          "2018-12-15T00:00:00.000000",
          "2018-12-16T00:00:00.000000",
          "2018-12-17T00:00:00.000000",
          "2018-12-18T00:00:00.000000",
          "2018-12-19T00:00:00.000000",
          "2018-12-20T00:00:00.000000",
          "2018-12-21T00:00:00.000000",
          "2018-12-22T00:00:00.000000",
          "2018-12-23T00:00:00.000000",
          "2018-12-24T00:00:00.000000",
          "2018-12-25T00:00:00.000000",
          "2018-12-26T00:00:00.000000",
          "2018-12-27T00:00:00.000000",
          "2018-12-28T00:00:00.000000",
          "2018-12-29T00:00:00.000000",
          "2018-12-30T00:00:00.000000",
          "2018-12-31T00:00:00.000000",
          "2019-01-01T00:00:00.000000",
          "2019-01-02T00:00:00.000000",
          "2019-01-03T00:00:00.000000",
          "2019-01-04T00:00:00.000000",
          "2019-01-05T00:00:00.000000",
          "2019-01-06T00:00:00.000000",
          "2019-01-07T00:00:00.000000",
          "2019-01-08T00:00:00.000000",
          "2019-01-09T00:00:00.000000",
          "2019-01-10T00:00:00.000000",
          "2019-01-11T00:00:00.000000",
          "2019-01-12T00:00:00.000000",
          "2019-01-13T00:00:00.000000",
          "2019-01-14T00:00:00.000000",
          "2019-01-15T00:00:00.000000",
          "2019-01-16T00:00:00.000000",
          "2019-01-17T00:00:00.000000",
          "2019-01-18T00:00:00.000000",
          "2019-01-19T00:00:00.000000",
          "2019-01-20T00:00:00.000000",
          "2019-01-21T00:00:00.000000",
          "2019-01-22T00:00:00.000000",
          "2019-01-23T00:00:00.000000",
          "2019-01-24T00:00:00.000000",
          "2019-01-25T00:00:00.000000",
          "2019-01-26T00:00:00.000000",
          "2019-01-27T00:00:00.000000",
          "2019-01-28T00:00:00.000000",
          "2019-01-29T00:00:00.000000",
          "2019-01-30T00:00:00.000000",
          "2019-01-31T00:00:00.000000",
          "2019-02-01T00:00:00.000000",
          "2019-02-02T00:00:00.000000",
          "2019-02-03T00:00:00.000000",
          "2019-02-04T00:00:00.000000",
          "2019-02-05T00:00:00.000000",
          "2019-02-06T00:00:00.000000",
          "2019-02-07T00:00:00.000000",
          "2019-02-08T00:00:00.000000",
          "2019-02-09T00:00:00.000000",
          "2019-02-10T00:00:00.000000",
          "2019-02-11T00:00:00.000000",
          "2019-02-12T00:00:00.000000",
          "2019-02-13T00:00:00.000000",
          "2019-02-14T00:00:00.000000",
          "2019-02-15T00:00:00.000000",
          "2019-02-16T00:00:00.000000",
          "2019-02-17T00:00:00.000000",
          "2019-02-18T00:00:00.000000",
          "2019-02-19T00:00:00.000000",
          "2019-02-20T00:00:00.000000",
          "2019-02-21T00:00:00.000000",
          "2019-02-22T00:00:00.000000",
          "2019-02-23T00:00:00.000000",
          "2019-02-24T00:00:00.000000",
          "2019-02-25T00:00:00.000000",
          "2019-02-26T00:00:00.000000",
          "2019-02-27T00:00:00.000000",
          "2019-02-28T00:00:00.000000",
          "2019-03-01T00:00:00.000000",
          "2019-03-02T00:00:00.000000",
          "2019-03-03T00:00:00.000000",
          "2019-03-04T00:00:00.000000",
          "2019-03-05T00:00:00.000000",
          "2019-03-06T00:00:00.000000",
          "2019-03-07T00:00:00.000000",
          "2019-03-08T00:00:00.000000",
          "2019-03-09T00:00:00.000000",
          "2019-03-10T00:00:00.000000",
          "2019-03-11T00:00:00.000000",
          "2019-03-12T00:00:00.000000",
          "2019-03-13T00:00:00.000000",
          "2019-03-14T00:00:00.000000",
          "2019-03-15T00:00:00.000000",
          "2019-03-16T00:00:00.000000",
          "2019-03-17T00:00:00.000000",
          "2019-03-18T00:00:00.000000",
          "2019-03-19T00:00:00.000000",
          "2019-03-20T00:00:00.000000",
          "2019-03-21T00:00:00.000000",
          "2019-03-22T00:00:00.000000",
          "2019-03-23T00:00:00.000000",
          "2019-03-24T00:00:00.000000",
          "2019-03-25T00:00:00.000000",
          "2019-03-26T00:00:00.000000",
          "2019-03-27T00:00:00.000000",
          "2019-03-28T00:00:00.000000",
          "2019-03-29T00:00:00.000000",
          "2019-03-30T00:00:00.000000",
          "2019-03-31T00:00:00.000000",
          "2019-04-01T00:00:00.000000",
          "2019-04-02T00:00:00.000000",
          "2019-04-03T00:00:00.000000",
          "2019-04-04T00:00:00.000000",
          "2019-04-05T00:00:00.000000",
          "2019-04-06T00:00:00.000000",
          "2019-04-07T00:00:00.000000",
          "2019-04-08T00:00:00.000000",
          "2019-04-09T00:00:00.000000",
          "2019-04-10T00:00:00.000000",
          "2019-04-11T00:00:00.000000",
          "2019-04-12T00:00:00.000000",
          "2019-04-13T00:00:00.000000",
          "2019-04-14T00:00:00.000000",
          "2019-04-15T00:00:00.000000",
          "2019-04-16T00:00:00.000000",
          "2019-04-17T00:00:00.000000",
          "2019-04-18T00:00:00.000000",
          "2019-04-19T00:00:00.000000",
          "2019-04-20T00:00:00.000000",
          "2019-04-21T00:00:00.000000",
          "2019-04-22T00:00:00.000000",
          "2019-04-23T00:00:00.000000",
          "2019-04-24T00:00:00.000000",
          "2019-04-25T00:00:00.000000",
          "2019-04-26T00:00:00.000000",
          "2019-04-27T00:00:00.000000",
          "2019-04-28T00:00:00.000000",
          "2019-04-29T00:00:00.000000",
          "2019-04-30T00:00:00.000000",
          "2019-05-01T00:00:00.000000",
          "2019-05-02T00:00:00.000000",
          "2019-05-03T00:00:00.000000",
          "2019-05-04T00:00:00.000000",
          "2019-05-05T00:00:00.000000",
          "2019-05-06T00:00:00.000000",
          "2019-05-07T00:00:00.000000",
          "2019-05-08T00:00:00.000000",
          "2019-05-09T00:00:00.000000",
          "2019-05-10T00:00:00.000000",
          "2019-05-11T00:00:00.000000",
          "2019-05-12T00:00:00.000000",
          "2019-05-13T00:00:00.000000",
          "2019-05-14T00:00:00.000000",
          "2019-05-15T00:00:00.000000",
          "2019-05-16T00:00:00.000000",
          "2019-05-17T00:00:00.000000",
          "2019-05-18T00:00:00.000000",
          "2019-05-19T00:00:00.000000",
          "2019-05-20T00:00:00.000000",
          "2019-05-21T00:00:00.000000",
          "2019-05-22T00:00:00.000000",
          "2019-05-23T00:00:00.000000",
          "2019-05-24T00:00:00.000000",
          "2019-05-25T00:00:00.000000",
          "2019-05-26T00:00:00.000000",
          "2019-05-27T00:00:00.000000",
          "2019-05-28T00:00:00.000000",
          "2019-05-29T00:00:00.000000",
          "2019-05-30T00:00:00.000000",
          "2019-05-31T00:00:00.000000",
          "2019-06-01T00:00:00.000000",
          "2019-06-02T00:00:00.000000",
          "2019-06-03T00:00:00.000000",
          "2019-06-04T00:00:00.000000",
          "2019-06-05T00:00:00.000000",
          "2019-06-06T00:00:00.000000",
          "2019-06-07T00:00:00.000000",
          "2019-06-08T00:00:00.000000",
          "2019-06-09T00:00:00.000000",
          "2019-06-10T00:00:00.000000",
          "2019-06-11T00:00:00.000000",
          "2019-06-12T00:00:00.000000",
          "2019-06-13T00:00:00.000000",
          "2019-06-14T00:00:00.000000",
          "2019-06-15T00:00:00.000000",
          "2019-06-16T00:00:00.000000",
          "2019-06-17T00:00:00.000000",
          "2019-06-18T00:00:00.000000",
          "2019-06-19T00:00:00.000000",
          "2019-06-20T00:00:00.000000",
          "2019-06-21T00:00:00.000000",
          "2019-06-22T00:00:00.000000",
          "2019-06-23T00:00:00.000000",
          "2019-06-24T00:00:00.000000",
          "2019-06-25T00:00:00.000000",
          "2019-06-26T00:00:00.000000",
          "2019-06-27T00:00:00.000000",
          "2019-06-28T00:00:00.000000",
          "2019-06-29T00:00:00.000000",
          "2019-06-30T00:00:00.000000",
          "2019-07-01T00:00:00.000000",
          "2019-07-02T00:00:00.000000",
          "2019-07-03T00:00:00.000000",
          "2019-07-04T00:00:00.000000",
          "2019-07-05T00:00:00.000000",
          "2019-07-06T00:00:00.000000",
          "2019-07-07T00:00:00.000000",
          "2019-07-08T00:00:00.000000",
          "2019-07-09T00:00:00.000000",
          "2019-07-10T00:00:00.000000",
          "2019-07-11T00:00:00.000000",
          "2019-07-12T00:00:00.000000",
          "2019-07-13T00:00:00.000000",
          "2019-07-14T00:00:00.000000",
          "2019-07-15T00:00:00.000000",
          "2019-07-16T00:00:00.000000",
          "2019-07-17T00:00:00.000000",
          "2019-07-18T00:00:00.000000",
          "2019-07-19T00:00:00.000000",
          "2019-07-20T00:00:00.000000",
          "2019-07-21T00:00:00.000000",
          "2019-07-22T00:00:00.000000",
          "2019-07-23T00:00:00.000000",
          "2019-07-24T00:00:00.000000",
          "2019-07-25T00:00:00.000000",
          "2019-07-26T00:00:00.000000",
          "2019-07-27T00:00:00.000000",
          "2019-07-28T00:00:00.000000",
          "2019-07-29T00:00:00.000000",
          "2019-07-30T00:00:00.000000",
          "2019-07-31T00:00:00.000000",
          "2019-08-01T00:00:00.000000",
          "2019-08-02T00:00:00.000000",
          "2019-08-03T00:00:00.000000",
          "2019-08-04T00:00:00.000000",
          "2019-08-05T00:00:00.000000",
          "2019-08-06T00:00:00.000000",
          "2019-08-07T00:00:00.000000",
          "2019-08-08T00:00:00.000000",
          "2019-08-09T00:00:00.000000",
          "2019-08-10T00:00:00.000000",
          "2019-08-11T00:00:00.000000",
          "2019-08-12T00:00:00.000000",
          "2019-08-13T00:00:00.000000",
          "2019-08-14T00:00:00.000000",
          "2019-08-15T00:00:00.000000",
          "2019-08-16T00:00:00.000000",
          "2019-08-17T00:00:00.000000",
          "2019-08-18T00:00:00.000000",
          "2019-08-19T00:00:00.000000",
          "2019-08-20T00:00:00.000000",
          "2019-08-21T00:00:00.000000",
          "2019-08-22T00:00:00.000000",
          "2019-08-23T00:00:00.000000",
          "2019-08-24T00:00:00.000000",
          "2019-08-25T00:00:00.000000",
          "2019-08-26T00:00:00.000000",
          "2019-08-27T00:00:00.000000",
          "2019-08-28T00:00:00.000000",
          "2019-08-29T00:00:00.000000",
          "2019-08-30T00:00:00.000000",
          "2019-08-31T00:00:00.000000",
          "2019-09-01T00:00:00.000000",
          "2019-09-02T00:00:00.000000",
          "2019-09-03T00:00:00.000000",
          "2019-09-04T00:00:00.000000",
          "2019-09-05T00:00:00.000000",
          "2019-09-06T00:00:00.000000",
          "2019-09-07T00:00:00.000000",
          "2019-09-08T00:00:00.000000",
          "2019-09-09T00:00:00.000000",
          "2019-09-10T00:00:00.000000",
          "2019-09-11T00:00:00.000000",
          "2019-09-12T00:00:00.000000",
          "2019-09-13T00:00:00.000000",
          "2019-09-14T00:00:00.000000",
          "2019-09-15T00:00:00.000000",
          "2019-09-16T00:00:00.000000",
          "2019-09-17T00:00:00.000000",
          "2019-09-18T00:00:00.000000",
          "2019-09-19T00:00:00.000000",
          "2019-09-20T00:00:00.000000",
          "2019-09-21T00:00:00.000000",
          "2019-09-22T00:00:00.000000",
          "2019-09-23T00:00:00.000000",
          "2019-09-24T00:00:00.000000",
          "2019-09-25T00:00:00.000000",
          "2019-09-26T00:00:00.000000",
          "2019-09-27T00:00:00.000000",
          "2019-09-28T00:00:00.000000",
          "2019-09-29T00:00:00.000000",
          "2019-09-30T00:00:00.000000",
          "2019-10-01T00:00:00.000000",
          "2019-10-02T00:00:00.000000",
          "2019-10-03T00:00:00.000000",
          "2019-10-04T00:00:00.000000",
          "2019-10-05T00:00:00.000000",
          "2019-10-06T00:00:00.000000",
          "2019-10-07T00:00:00.000000",
          "2019-10-08T00:00:00.000000",
          "2019-10-09T00:00:00.000000",
          "2019-10-10T00:00:00.000000",
          "2019-10-11T00:00:00.000000",
          "2019-10-12T00:00:00.000000",
          "2019-10-13T00:00:00.000000",
          "2019-10-14T00:00:00.000000",
          "2019-10-15T00:00:00.000000",
          "2019-10-16T00:00:00.000000",
          "2019-10-17T00:00:00.000000",
          "2019-10-18T00:00:00.000000",
          "2019-10-19T00:00:00.000000",
          "2019-10-20T00:00:00.000000",
          "2019-10-21T00:00:00.000000",
          "2019-10-22T00:00:00.000000",
          "2019-10-23T00:00:00.000000",
          "2019-10-24T00:00:00.000000",
          "2019-10-25T00:00:00.000000",
          "2019-10-26T00:00:00.000000",
          "2019-10-27T00:00:00.000000",
          "2019-10-28T00:00:00.000000",
          "2019-10-29T00:00:00.000000",
          "2019-10-30T00:00:00.000000",
          "2019-10-31T00:00:00.000000",
          "2019-11-01T00:00:00.000000",
          "2019-11-02T00:00:00.000000",
          "2019-11-03T00:00:00.000000",
          "2019-11-04T00:00:00.000000",
          "2019-11-05T00:00:00.000000",
          "2019-11-06T00:00:00.000000",
          "2019-11-07T00:00:00.000000",
          "2019-11-08T00:00:00.000000",
          "2019-11-09T00:00:00.000000",
          "2019-11-10T00:00:00.000000",
          "2019-11-11T00:00:00.000000",
          "2019-11-12T00:00:00.000000",
          "2019-11-13T00:00:00.000000",
          "2019-11-14T00:00:00.000000",
          "2019-11-15T00:00:00.000000",
          "2019-11-16T00:00:00.000000",
          "2019-11-17T00:00:00.000000",
          "2019-11-18T00:00:00.000000",
          "2019-11-19T00:00:00.000000",
          "2019-11-20T00:00:00.000000",
          "2019-11-21T00:00:00.000000",
          "2019-11-22T00:00:00.000000",
          "2019-11-23T00:00:00.000000",
          "2019-11-24T00:00:00.000000",
          "2019-11-25T00:00:00.000000",
          "2019-11-26T00:00:00.000000",
          "2019-11-27T00:00:00.000000",
          "2019-11-28T00:00:00.000000",
          "2019-11-29T00:00:00.000000",
          "2019-11-30T00:00:00.000000",
          "2019-12-01T00:00:00.000000",
          "2019-12-02T00:00:00.000000",
          "2019-12-03T00:00:00.000000",
          "2019-12-04T00:00:00.000000",
          "2019-12-05T00:00:00.000000",
          "2019-12-06T00:00:00.000000",
          "2019-12-07T00:00:00.000000",
          "2019-12-08T00:00:00.000000",
          "2019-12-09T00:00:00.000000",
          "2019-12-10T00:00:00.000000",
          "2019-12-11T00:00:00.000000",
          "2019-12-12T00:00:00.000000",
          "2019-12-13T00:00:00.000000",
          "2019-12-14T00:00:00.000000",
          "2019-12-15T00:00:00.000000",
          "2019-12-16T00:00:00.000000",
          "2019-12-17T00:00:00.000000",
          "2019-12-18T00:00:00.000000",
          "2019-12-19T00:00:00.000000",
          "2019-12-20T00:00:00.000000",
          "2019-12-21T00:00:00.000000",
          "2019-12-22T00:00:00.000000",
          "2019-12-23T00:00:00.000000",
          "2019-12-24T00:00:00.000000",
          "2019-12-25T00:00:00.000000",
          "2019-12-26T00:00:00.000000",
          "2019-12-27T00:00:00.000000",
          "2019-12-28T00:00:00.000000",
          "2019-12-29T00:00:00.000000",
          "2019-12-30T00:00:00.000000",
          "2019-12-31T00:00:00.000000",
          "2020-01-01T00:00:00.000000",
          "2020-01-02T00:00:00.000000",
          "2020-01-03T00:00:00.000000",
          "2020-01-04T00:00:00.000000",
          "2020-01-05T00:00:00.000000",
          "2020-01-06T00:00:00.000000",
          "2020-01-07T00:00:00.000000",
          "2020-01-08T00:00:00.000000",
          "2020-01-09T00:00:00.000000",
          "2020-01-10T00:00:00.000000",
          "2020-01-11T00:00:00.000000",
          "2020-01-12T00:00:00.000000",
          "2020-01-13T00:00:00.000000",
          "2020-01-14T00:00:00.000000",
          "2020-01-15T00:00:00.000000",
          "2020-01-16T00:00:00.000000",
          "2020-01-17T00:00:00.000000",
          "2020-01-18T00:00:00.000000",
          "2020-01-19T00:00:00.000000",
          "2020-01-20T00:00:00.000000",
          "2020-01-21T00:00:00.000000",
          "2020-01-22T00:00:00.000000",
          "2020-01-23T00:00:00.000000",
          "2020-01-24T00:00:00.000000",
          "2020-01-25T00:00:00.000000",
          "2020-01-26T00:00:00.000000",
          "2020-01-27T00:00:00.000000",
          "2020-01-28T00:00:00.000000",
          "2020-01-29T00:00:00.000000",
          "2020-01-30T00:00:00.000000",
          "2020-01-31T00:00:00.000000",
          "2020-02-01T00:00:00.000000",
          "2020-02-02T00:00:00.000000",
          "2020-02-03T00:00:00.000000",
          "2020-02-04T00:00:00.000000",
          "2020-02-05T00:00:00.000000",
          "2020-02-06T00:00:00.000000",
          "2020-02-07T00:00:00.000000",
          "2020-02-08T00:00:00.000000",
          "2020-02-09T00:00:00.000000",
          "2020-02-10T00:00:00.000000",
          "2020-02-11T00:00:00.000000",
          "2020-02-12T00:00:00.000000",
          "2020-02-13T00:00:00.000000",
          "2020-02-14T00:00:00.000000",
          "2020-02-15T00:00:00.000000",
          "2020-02-16T00:00:00.000000",
          "2020-02-17T00:00:00.000000",
          "2020-02-18T00:00:00.000000",
          "2020-02-19T00:00:00.000000",
          "2020-02-20T00:00:00.000000",
          "2020-02-21T00:00:00.000000",
          "2020-02-22T00:00:00.000000",
          "2020-02-23T00:00:00.000000",
          "2020-02-24T00:00:00.000000",
          "2020-02-25T00:00:00.000000",
          "2020-02-26T00:00:00.000000",
          "2020-02-27T00:00:00.000000",
          "2020-02-28T00:00:00.000000",
          "2020-02-29T00:00:00.000000",
          "2020-03-01T00:00:00.000000",
          "2020-03-02T00:00:00.000000",
          "2020-03-03T00:00:00.000000",
          "2020-03-04T00:00:00.000000",
          "2020-03-05T00:00:00.000000",
          "2020-03-06T00:00:00.000000",
          "2020-03-07T00:00:00.000000",
          "2020-03-08T00:00:00.000000",
          "2020-03-09T00:00:00.000000",
          "2020-03-10T00:00:00.000000",
          "2020-03-11T00:00:00.000000",
          "2020-03-12T00:00:00.000000",
          "2020-03-13T00:00:00.000000",
          "2020-03-14T00:00:00.000000",
          "2020-03-15T00:00:00.000000",
          "2020-03-16T00:00:00.000000",
          "2020-03-17T00:00:00.000000",
          "2020-03-18T00:00:00.000000",
          "2020-03-19T00:00:00.000000",
          "2020-03-20T00:00:00.000000",
          "2020-03-21T00:00:00.000000",
          "2020-03-22T00:00:00.000000",
          "2020-03-23T00:00:00.000000",
          "2020-03-24T00:00:00.000000",
          "2020-03-25T00:00:00.000000",
          "2020-03-26T00:00:00.000000",
          "2020-03-27T00:00:00.000000",
          "2020-03-28T00:00:00.000000",
          "2020-03-29T00:00:00.000000",
          "2020-03-30T00:00:00.000000",
          "2020-03-31T00:00:00.000000",
          "2020-04-01T00:00:00.000000",
          "2020-04-02T00:00:00.000000",
          "2020-04-03T00:00:00.000000",
          "2020-04-04T00:00:00.000000",
          "2020-04-05T00:00:00.000000",
          "2020-04-06T00:00:00.000000",
          "2020-04-07T00:00:00.000000",
          "2020-04-08T00:00:00.000000",
          "2020-04-09T00:00:00.000000",
          "2020-04-10T00:00:00.000000",
          "2020-04-11T00:00:00.000000",
          "2020-04-12T00:00:00.000000",
          "2020-04-13T00:00:00.000000",
          "2020-04-14T00:00:00.000000",
          "2020-04-15T00:00:00.000000",
          "2020-04-16T00:00:00.000000",
          "2020-04-17T00:00:00.000000",
          "2020-04-18T00:00:00.000000",
          "2020-04-19T00:00:00.000000",
          "2020-04-20T00:00:00.000000",
          "2020-04-21T00:00:00.000000",
          "2020-04-22T00:00:00.000000",
          "2020-04-23T00:00:00.000000",
          "2020-04-24T00:00:00.000000",
          "2020-04-25T00:00:00.000000",
          "2020-04-26T00:00:00.000000",
          "2020-04-27T00:00:00.000000",
          "2020-04-28T00:00:00.000000",
          "2020-04-29T00:00:00.000000",
          "2020-04-30T00:00:00.000000",
          "2020-05-01T00:00:00.000000",
          "2020-05-02T00:00:00.000000",
          "2020-05-03T00:00:00.000000",
          "2020-05-04T00:00:00.000000",
          "2020-05-05T00:00:00.000000",
          "2020-05-06T00:00:00.000000",
          "2020-05-07T00:00:00.000000",
          "2020-05-08T00:00:00.000000",
          "2020-05-09T00:00:00.000000",
          "2020-05-10T00:00:00.000000",
          "2020-05-11T00:00:00.000000",
          "2020-05-12T00:00:00.000000",
          "2020-05-13T00:00:00.000000",
          "2020-05-14T00:00:00.000000",
          "2020-05-15T00:00:00.000000",
          "2020-05-16T00:00:00.000000",
          "2020-05-17T00:00:00.000000",
          "2020-05-18T00:00:00.000000",
          "2020-05-19T00:00:00.000000",
          "2020-05-20T00:00:00.000000",
          "2020-05-21T00:00:00.000000",
          "2020-05-22T00:00:00.000000",
          "2020-05-23T00:00:00.000000",
          "2020-05-24T00:00:00.000000",
          "2020-05-25T00:00:00.000000",
          "2020-05-26T00:00:00.000000",
          "2020-05-27T00:00:00.000000",
          "2020-05-28T00:00:00.000000",
          "2020-05-29T00:00:00.000000",
          "2020-05-30T00:00:00.000000",
          "2020-05-31T00:00:00.000000",
          "2020-06-01T00:00:00.000000",
          "2020-06-02T00:00:00.000000",
          "2020-06-03T00:00:00.000000",
          "2020-06-04T00:00:00.000000",
          "2020-06-05T00:00:00.000000",
          "2020-06-06T00:00:00.000000",
          "2020-06-07T00:00:00.000000",
          "2020-06-08T00:00:00.000000",
          "2020-06-09T00:00:00.000000",
          "2020-06-10T00:00:00.000000",
          "2020-06-11T00:00:00.000000",
          "2020-06-12T00:00:00.000000",
          "2020-06-13T00:00:00.000000",
          "2020-06-14T00:00:00.000000",
          "2020-06-15T00:00:00.000000",
          "2020-06-16T00:00:00.000000",
          "2020-06-17T00:00:00.000000",
          "2020-06-18T00:00:00.000000",
          "2020-06-19T00:00:00.000000",
          "2020-06-20T00:00:00.000000",
          "2020-06-21T00:00:00.000000",
          "2020-06-22T00:00:00.000000",
          "2020-06-23T00:00:00.000000",
          "2020-06-24T00:00:00.000000",
          "2020-06-25T00:00:00.000000",
          "2020-06-26T00:00:00.000000",
          "2020-06-27T00:00:00.000000",
          "2020-06-28T00:00:00.000000",
          "2020-06-29T00:00:00.000000",
          "2020-06-30T00:00:00.000000",
          "2020-07-01T00:00:00.000000",
          "2020-07-02T00:00:00.000000",
          "2020-07-03T00:00:00.000000",
          "2020-07-04T00:00:00.000000",
          "2020-07-05T00:00:00.000000",
          "2020-07-06T00:00:00.000000",
          "2020-07-07T00:00:00.000000",
          "2020-07-08T00:00:00.000000",
          "2020-07-09T00:00:00.000000",
          "2020-07-10T00:00:00.000000",
          "2020-07-11T00:00:00.000000",
          "2020-07-12T00:00:00.000000",
          "2020-07-13T00:00:00.000000",
          "2020-07-14T00:00:00.000000",
          "2020-07-15T00:00:00.000000",
          "2020-07-16T00:00:00.000000",
          "2020-07-17T00:00:00.000000",
          "2020-07-18T00:00:00.000000",
          "2020-07-19T00:00:00.000000",
          "2020-07-20T00:00:00.000000",
          "2020-07-21T00:00:00.000000",
          "2020-07-22T00:00:00.000000",
          "2020-07-23T00:00:00.000000",
          "2020-07-24T00:00:00.000000",
          "2020-07-25T00:00:00.000000",
          "2020-07-26T00:00:00.000000",
          "2020-07-27T00:00:00.000000",
          "2020-07-28T00:00:00.000000",
          "2020-07-29T00:00:00.000000",
          "2020-07-30T00:00:00.000000",
          "2020-07-31T00:00:00.000000",
          "2020-08-01T00:00:00.000000",
          "2020-08-02T00:00:00.000000",
          "2020-08-03T00:00:00.000000",
          "2020-08-04T00:00:00.000000",
          "2020-08-05T00:00:00.000000",
          "2020-08-06T00:00:00.000000",
          "2020-08-07T00:00:00.000000",
          "2020-08-08T00:00:00.000000",
          "2020-08-09T00:00:00.000000",
          "2020-08-10T00:00:00.000000",
          "2020-08-11T00:00:00.000000",
          "2020-08-12T00:00:00.000000",
          "2020-08-13T00:00:00.000000",
          "2020-08-14T00:00:00.000000",
          "2020-08-15T00:00:00.000000",
          "2020-08-16T00:00:00.000000",
          "2020-08-17T00:00:00.000000",
          "2020-08-18T00:00:00.000000",
          "2020-08-19T00:00:00.000000",
          "2020-08-20T00:00:00.000000",
          "2020-08-21T00:00:00.000000",
          "2020-08-22T00:00:00.000000",
          "2020-08-23T00:00:00.000000",
          "2020-08-24T00:00:00.000000",
          "2020-08-25T00:00:00.000000",
          "2020-08-26T00:00:00.000000",
          "2020-08-27T00:00:00.000000",
          "2020-08-28T00:00:00.000000",
          "2020-08-29T00:00:00.000000",
          "2020-08-30T00:00:00.000000",
          "2020-08-31T00:00:00.000000",
          "2020-09-01T00:00:00.000000",
          "2020-09-02T00:00:00.000000",
          "2020-09-03T00:00:00.000000",
          "2020-09-04T00:00:00.000000",
          "2020-09-05T00:00:00.000000",
          "2020-09-06T00:00:00.000000",
          "2020-09-07T00:00:00.000000",
          "2020-09-08T00:00:00.000000",
          "2020-09-09T00:00:00.000000",
          "2020-09-10T00:00:00.000000",
          "2020-09-11T00:00:00.000000",
          "2020-09-12T00:00:00.000000",
          "2020-09-13T00:00:00.000000",
          "2020-09-14T00:00:00.000000",
          "2020-09-15T00:00:00.000000",
          "2020-09-16T00:00:00.000000",
          "2020-09-17T00:00:00.000000",
          "2020-09-18T00:00:00.000000",
          "2020-09-19T00:00:00.000000",
          "2020-09-20T00:00:00.000000",
          "2020-09-21T00:00:00.000000",
          "2020-09-22T00:00:00.000000",
          "2020-09-23T00:00:00.000000",
          "2020-09-24T00:00:00.000000",
          "2020-09-25T00:00:00.000000",
          "2020-09-26T00:00:00.000000"
         ],
         "xaxis": "x",
         "yaxis": "y2"
        },
        {
         "marker": {
          "color": [
           "red",
           "red",
           "red",
           "green",
           "green",
           "green",
           "red",
           "red",
           "green",
           "red",
           "red",
           "red",
           "red",
           "red",
           "green",
           "red",
           "red",
           "red",
           "red",
           "green",
           "green",
           "green",
           "green",
           "red",
           "red",
           "red",
           "red",
           "red",
           "red",
           "red",
           "red",
           "red",
           "red",
           "green",
           "red",
           "green",
           "red",
           "green",
           "red",
           "green",
           "red",
           "green",
           "green",
           "green",
           "green",
           "green",
           "red",
           "red",
           "red",
           "green",
           "green",
           "red",
           "green",
           "green",
           "green",
           "green",
           "red",
           "green",
           "red",
           "green",
           "green",
           "green",
           "green",
           "green",
           "red",
           "red",
           "green",
           "green",
           "red",
           "green",
           "red",
           "green",
           "green",
           "red",
           "red",
           "red",
           "red",
           "green",
           "green",
           "green",
           "red",
           "green",
           "green",
           "green",
           "red",
           "red",
           "red",
           "red",
           "green",
           "green",
           "red",
           "red",
           "red",
           "red",
           "red",
           "red",
           "green",
           "red",
           "green",
           "green",
           "green",
           "green",
           "red",
           "red",
           "green",
           "red",
           "green",
           "green",
           "red",
           "red",
           "green",
           "green",
           "red",
           "red",
           "red",
           "green",
           "red",
           "red",
           "red",
           "red",
           "red",
           "red",
           "red",
           "green",
           "green",
           "green",
           "red",
           "red",
           "green",
           "green",
           "red",
           "red",
           "green",
           "red",
           "red",
           "red",
           "red",
           "green",
           "red",
           "red",
           "green",
           "green",
           "green",
           "green",
           "red",
           "green",
           "red",
           "green",
           "green",
           "green",
           "red",
           "red",
           "red",
           "green",
           "red",
           "green",
           "green",
           "red",
           "green",
           "red",
           "green",
           "red",
           "red",
           "green",
           "red",
           "green",
           "green",
           "red",
           "red",
           "red",
           "green",
           "red",
           "red",
           "red",
           "red",
           "red",
           "red",
           "red",
           "green",
           "green",
           "green",
           "red",
           "green",
           "red",
           "red",
           "green",
           "red",
           "red",
           "green",
           "green",
           "red",
           "red",
           "green",
           "red",
           "red",
           "green",
           "red",
           "green",
           "red",
           "red",
           "red",
           "red",
           "green",
           "red",
           "green",
           "green",
           "red",
           "red",
           "green",
           "red",
           "green",
           "green",
           "red",
           "green",
           "red",
           "red",
           "red",
           "green",
           "green",
           "red",
           "green",
           "green",
           "red",
           "green",
           "red",
           "red",
           "green",
           "green",
           "green",
           "green",
           "red",
           "green",
           "red",
           "red",
           "red",
           "red",
           "green",
           "green",
           "red",
           "red",
           "green",
           "red",
           "green",
           "red",
           "red",
           "green",
           "green",
           "red",
           "green",
           "red",
           "green",
           "red",
           "red",
           "green",
           "red",
           "red",
           "red",
           "green",
           "red",
           "green",
           "red",
           "green",
           "red",
           "red",
           "green",
           "green",
           "red",
           "green",
           "red",
           "green",
           "green",
           "green",
           "green",
           "red",
           "green",
           "green",
           "red",
           "red",
           "red",
           "green",
           "green",
           "green",
           "green",
           "green",
           "red",
           "green",
           "red",
           "green",
           "red",
           "green",
           "green",
           "red",
           "green",
           "red",
           "green",
           "green",
           "red",
           "red",
           "red",
           "red",
           "red",
           "red",
           "green",
           "red",
           "green",
           "green",
           "green",
           "red",
           "green",
           "red",
           "red",
           "green",
           "green",
           "green",
           "green",
           "red",
           "red",
           "red",
           "red",
           "red",
           "green",
           "red",
           "green",
           "red",
           "red",
           "red",
           "red",
           "green",
           "red",
           "red",
           "red",
           "red",
           "green",
           "green",
           "green",
           "red",
           "green",
           "green",
           "green",
           "red",
           "red",
           "red",
           "green",
           "red",
           "red",
           "red",
           "red",
           "red",
           "green",
           "red",
           "red",
           "red",
           "red",
           "green",
           "red",
           "green",
           "red",
           "red",
           "red",
           "green",
           "green",
           "green",
           "green",
           "green",
           "red",
           "green",
           "red",
           "green",
           "red",
           "red",
           "red",
           "red",
           "red",
           "red",
           "green",
           "red",
           "green",
           "green",
           "red",
           "green",
           "red",
           "green",
           "green",
           "red",
           "red",
           "red",
           "green",
           "green",
           "green",
           "red",
           "red",
           "green",
           "red",
           "green",
           "red",
           "red",
           "red",
           "red",
           "green",
           "green",
           "green",
           "red",
           "red",
           "green",
           "green",
           "red",
           "red",
           "green",
           "green",
           "red",
           "red",
           "red",
           "red",
           "green",
           "red",
           "red",
           "green",
           "red",
           "green",
           "red",
           "green",
           "green",
           "red",
           "red",
           "red",
           "green",
           "red",
           "red",
           "red",
           "red",
           "green",
           "green",
           "green",
           "red",
           "red",
           "green",
           "red",
           "green",
           "green",
           "red",
           "green",
           "red",
           "red",
           "red",
           "green",
           "red",
           "green",
           "green",
           "green",
           "green",
           "red",
           "green",
           "red",
           "green",
           "green",
           "red",
           "green",
           "red",
           "red",
           "green",
           "red",
           "green",
           "red",
           "red",
           "red",
           "red",
           "red",
           "red",
           "red",
           "green",
           "green",
           "green",
           "red",
           "green",
           "red",
           "red",
           "green",
           "green",
           "green",
           "red",
           "red",
           "green",
           "red",
           "red",
           "green",
           "green",
           "green",
           "green",
           "green",
           "red",
           "red",
           "red",
           "green",
           "red",
           "red",
           "green",
           "red",
           "green",
           "green",
           "green",
           "red",
           "red",
           "green",
           "red",
           "red",
           "red",
           "red",
           "red",
           "red",
           "green",
           "green",
           "red",
           "green",
           "green",
           "red",
           "red",
           "green",
           "red",
           "green",
           "red",
           "red",
           "red",
           "red",
           "green",
           "red",
           "red",
           "red",
           "red",
           "green",
           "green",
           "green",
           "green",
           "green",
           "red",
           "red",
           "red",
           "green",
           "red",
           "green",
           "green",
           "green",
           "red",
           "red",
           "red",
           "green",
           "red",
           "red",
           "green",
           "red",
           "green",
           "red",
           "red",
           "red",
           "red",
           "red",
           "red",
           "green",
           "green",
           "red",
           "red",
           "red",
           "red",
           "red",
           "red",
           "red",
           "green",
           "red",
           "red",
           "green",
           "red",
           "red",
           "red",
           "green",
           "green",
           "red",
           "red",
           "green",
           "green",
           "red",
           "red",
           "green",
           "green",
           "red",
           "red",
           "red",
           "red",
           "red",
           "red",
           "green",
           "green",
           "red",
           "red",
           "green",
           "green",
           "green",
           "red",
           "red",
           "red",
           "red",
           "green",
           "green",
           "green",
           "green",
           "green",
           "red",
           "green",
           "green",
           "red",
           "green",
           "red",
           "red",
           "red",
           "green",
           "green",
           "green",
           "green",
           "green",
           "red",
           "green",
           "green",
           "red",
           "green",
           "red",
           "red",
           "red",
           "red",
           "green",
           "green",
           "green",
           "green",
           "green",
           "red",
           "green",
           "red",
           "red",
           "green",
           "green",
           "green",
           "green",
           "green",
           "green",
           "green",
           "red",
           "red",
           "red",
           "green",
           "green",
           "red",
           "red",
           "green",
           "green",
           "red",
           "green",
           "green",
           "red",
           "red",
           "red",
           "green",
           "green",
           "red",
           "green",
           "green",
           "green",
           "red",
           "green",
           "red",
           "green",
           "green",
           "green",
           "green",
           "red",
           "green",
           "green",
           "green",
           "green",
           "red",
           "green",
           "red",
           "green",
           "green",
           "green",
           "red",
           "red",
           "red",
           "red",
           "red",
           "red",
           "green",
           "green",
           "red",
           "green",
           "red",
           "green",
           "green",
           "green",
           "green",
           "green",
           "green",
           "red",
           "green",
           "red",
           "red",
           "green",
           "red",
           "red",
           "red",
           "green",
           "red",
           "red",
           "green",
           "green",
           "red",
           "red",
           "green",
           "green",
           "red",
           "green",
           "green",
           "red",
           "green",
           "green",
           "green",
           "green",
           "red",
           "green",
           "red",
           "green",
           "green",
           "red",
           "red",
           "red",
           "red",
           "red",
           "green",
           "green",
           "green",
           "green",
           "green",
           "red",
           "green",
           "red",
           "green",
           "red",
           "red",
           "red",
           "green",
           "red",
           "green",
           "green",
           "green",
           "red",
           "red",
           "red",
           "green",
           "green",
           "red",
           "green",
           "red",
           "green",
           "green",
           "green",
           "red",
           "red",
           "red",
           "red",
           "green",
           "green",
           "green",
           "red",
           "green",
           "red",
           "red",
           "red",
           "red",
           "green",
           "green",
           "red",
           "red",
           "green",
           "green",
           "red",
           "red",
           "green",
           "red",
           "green",
           "green",
           "red",
           "green",
           "red",
           "red",
           "green",
           "green",
           "green",
           "red",
           "red",
           "green",
           "green",
           "green",
           "red",
           "green",
           "red",
           "green",
           "green",
           "red",
           "red",
           "red",
           "green",
           "green",
           "red",
           "green",
           "green",
           "red",
           "green",
           "red",
           "green",
           "green",
           "red",
           "green",
           "green",
           "red",
           "red",
           "green",
           "red",
           "green",
           "red",
           "red",
           "green",
           "green",
           "green",
           "red",
           "green",
           "green",
           "red",
           "red",
           "red",
           "red",
           "green",
           "green",
           "green",
           "green",
           "red",
           "red",
           "green",
           "green",
           "red",
           "red",
           "green",
           "green",
           "red",
           "red",
           "red",
           "red",
           "red",
           "green",
           "red",
           "green",
           "red",
           "green",
           "red",
           "green",
           "green",
           "green",
           "red",
           "red",
           "green",
           "red",
           "green",
           "red",
           "red",
           "red",
           "green",
           "green",
           "red",
           "red",
           "red",
           "green",
           "green",
           "green",
           "green",
           "red",
           "green",
           "green",
           "red",
           "red",
           "red",
           "red",
           "green",
           "red",
           "green",
           "red",
           "red",
           "red",
           "green",
           "red",
           "green",
           "green",
           "green",
           "green",
           "red",
           "red",
           "red",
           "green",
           "green",
           "red",
           "green",
           "green",
           "red",
           "green",
           "green",
           "red",
           "red",
           "green",
           "red",
           "red",
           "red",
           "red",
           "green",
           "green",
           "green",
           "red",
           "red",
           "red",
           "green",
           "red",
           "red",
           "red",
           "red",
           "green",
           "green",
           "green",
           "red",
           "red",
           "green",
           "red",
           "red",
           "red",
           "green",
           "red",
           "green",
           "green",
           "red",
           "green",
           "green",
           "red",
           "red",
           "red",
           "red",
           "red",
           "green",
           "green",
           "green",
           "green",
           "green",
           "red",
           "green",
           "red",
           "green",
           "green",
           "red",
           "green",
           "green",
           "red",
           "red",
           "green",
           "green",
           "red",
           "green",
           "green",
           "green",
           "green",
           "red",
           "green",
           "red",
           "red",
           "red",
           "green",
           "red",
           "red",
           "red",
           "green",
           "red",
           "green",
           "green",
           "green",
           "green",
           "red",
           "green",
           "red",
           "red",
           "green",
           "red",
           "red",
           "red",
           "red",
           "green",
           "red",
           "green",
           "red",
           "red",
           "green"
          ],
          "line": {
           "width": 0
          }
         },
         "name": "Volume",
         "type": "bar",
         "uid": "31f9bde8-0b13-4f31-a5ab-f82cbaca064f",
         "x": [
          "2018-01-01T00:00:00.000000",
          "2018-01-02T00:00:00.000000",
          "2018-01-03T00:00:00.000000",
          "2018-01-04T00:00:00.000000",
          "2018-01-05T00:00:00.000000",
          "2018-01-06T00:00:00.000000",
          "2018-01-07T00:00:00.000000",
          "2018-01-08T00:00:00.000000",
          "2018-01-09T00:00:00.000000",
          "2018-01-10T00:00:00.000000",
          "2018-01-11T00:00:00.000000",
          "2018-01-12T00:00:00.000000",
          "2018-01-13T00:00:00.000000",
          "2018-01-14T00:00:00.000000",
          "2018-01-15T00:00:00.000000",
          "2018-01-16T00:00:00.000000",
          "2018-01-17T00:00:00.000000",
          "2018-01-18T00:00:00.000000",
          "2018-01-19T00:00:00.000000",
          "2018-01-20T00:00:00.000000",
          "2018-01-21T00:00:00.000000",
          "2018-01-22T00:00:00.000000",
          "2018-01-23T00:00:00.000000",
          "2018-01-24T00:00:00.000000",
          "2018-01-25T00:00:00.000000",
          "2018-01-26T00:00:00.000000",
          "2018-01-27T00:00:00.000000",
          "2018-01-28T00:00:00.000000",
          "2018-01-29T00:00:00.000000",
          "2018-01-30T00:00:00.000000",
          "2018-01-31T00:00:00.000000",
          "2018-02-01T00:00:00.000000",
          "2018-02-02T00:00:00.000000",
          "2018-02-03T00:00:00.000000",
          "2018-02-04T00:00:00.000000",
          "2018-02-05T00:00:00.000000",
          "2018-02-06T00:00:00.000000",
          "2018-02-07T00:00:00.000000",
          "2018-02-08T00:00:00.000000",
          "2018-02-09T00:00:00.000000",
          "2018-02-10T00:00:00.000000",
          "2018-02-11T00:00:00.000000",
          "2018-02-12T00:00:00.000000",
          "2018-02-13T00:00:00.000000",
          "2018-02-14T00:00:00.000000",
          "2018-02-15T00:00:00.000000",
          "2018-02-16T00:00:00.000000",
          "2018-02-17T00:00:00.000000",
          "2018-02-18T00:00:00.000000",
          "2018-02-19T00:00:00.000000",
          "2018-02-20T00:00:00.000000",
          "2018-02-21T00:00:00.000000",
          "2018-02-22T00:00:00.000000",
          "2018-02-23T00:00:00.000000",
          "2018-02-24T00:00:00.000000",
          "2018-02-25T00:00:00.000000",
          "2018-02-26T00:00:00.000000",
          "2018-02-27T00:00:00.000000",
          "2018-02-28T00:00:00.000000",
          "2018-03-01T00:00:00.000000",
          "2018-03-02T00:00:00.000000",
          "2018-03-03T00:00:00.000000",
          "2018-03-04T00:00:00.000000",
          "2018-03-05T00:00:00.000000",
          "2018-03-06T00:00:00.000000",
          "2018-03-07T00:00:00.000000",
          "2018-03-08T00:00:00.000000",
          "2018-03-09T00:00:00.000000",
          "2018-03-10T00:00:00.000000",
          "2018-03-11T00:00:00.000000",
          "2018-03-12T00:00:00.000000",
          "2018-03-13T00:00:00.000000",
          "2018-03-14T00:00:00.000000",
          "2018-03-15T00:00:00.000000",
          "2018-03-16T00:00:00.000000",
          "2018-03-17T00:00:00.000000",
          "2018-03-18T00:00:00.000000",
          "2018-03-19T00:00:00.000000",
          "2018-03-20T00:00:00.000000",
          "2018-03-21T00:00:00.000000",
          "2018-03-22T00:00:00.000000",
          "2018-03-23T00:00:00.000000",
          "2018-03-24T00:00:00.000000",
          "2018-03-25T00:00:00.000000",
          "2018-03-26T00:00:00.000000",
          "2018-03-27T00:00:00.000000",
          "2018-03-28T00:00:00.000000",
          "2018-03-29T00:00:00.000000",
          "2018-03-30T00:00:00.000000",
          "2018-03-31T00:00:00.000000",
          "2018-04-01T00:00:00.000000",
          "2018-04-02T00:00:00.000000",
          "2018-04-03T00:00:00.000000",
          "2018-04-04T00:00:00.000000",
          "2018-04-05T00:00:00.000000",
          "2018-04-06T00:00:00.000000",
          "2018-04-07T00:00:00.000000",
          "2018-04-08T00:00:00.000000",
          "2018-04-09T00:00:00.000000",
          "2018-04-10T00:00:00.000000",
          "2018-04-11T00:00:00.000000",
          "2018-04-12T00:00:00.000000",
          "2018-04-13T00:00:00.000000",
          "2018-04-14T00:00:00.000000",
          "2018-04-15T00:00:00.000000",
          "2018-04-16T00:00:00.000000",
          "2018-04-17T00:00:00.000000",
          "2018-04-18T00:00:00.000000",
          "2018-04-19T00:00:00.000000",
          "2018-04-20T00:00:00.000000",
          "2018-04-21T00:00:00.000000",
          "2018-04-22T00:00:00.000000",
          "2018-04-23T00:00:00.000000",
          "2018-04-24T00:00:00.000000",
          "2018-04-25T00:00:00.000000",
          "2018-04-26T00:00:00.000000",
          "2018-04-27T00:00:00.000000",
          "2018-04-28T00:00:00.000000",
          "2018-04-29T00:00:00.000000",
          "2018-04-30T00:00:00.000000",
          "2018-05-01T00:00:00.000000",
          "2018-05-02T00:00:00.000000",
          "2018-05-03T00:00:00.000000",
          "2018-05-04T00:00:00.000000",
          "2018-05-05T00:00:00.000000",
          "2018-05-06T00:00:00.000000",
          "2018-05-07T00:00:00.000000",
          "2018-05-08T00:00:00.000000",
          "2018-05-09T00:00:00.000000",
          "2018-05-10T00:00:00.000000",
          "2018-05-11T00:00:00.000000",
          "2018-05-12T00:00:00.000000",
          "2018-05-13T00:00:00.000000",
          "2018-05-14T00:00:00.000000",
          "2018-05-15T00:00:00.000000",
          "2018-05-16T00:00:00.000000",
          "2018-05-17T00:00:00.000000",
          "2018-05-18T00:00:00.000000",
          "2018-05-19T00:00:00.000000",
          "2018-05-20T00:00:00.000000",
          "2018-05-21T00:00:00.000000",
          "2018-05-22T00:00:00.000000",
          "2018-05-23T00:00:00.000000",
          "2018-05-24T00:00:00.000000",
          "2018-05-25T00:00:00.000000",
          "2018-05-26T00:00:00.000000",
          "2018-05-27T00:00:00.000000",
          "2018-05-28T00:00:00.000000",
          "2018-05-29T00:00:00.000000",
          "2018-05-30T00:00:00.000000",
          "2018-05-31T00:00:00.000000",
          "2018-06-01T00:00:00.000000",
          "2018-06-02T00:00:00.000000",
          "2018-06-03T00:00:00.000000",
          "2018-06-04T00:00:00.000000",
          "2018-06-05T00:00:00.000000",
          "2018-06-06T00:00:00.000000",
          "2018-06-07T00:00:00.000000",
          "2018-06-08T00:00:00.000000",
          "2018-06-09T00:00:00.000000",
          "2018-06-10T00:00:00.000000",
          "2018-06-11T00:00:00.000000",
          "2018-06-12T00:00:00.000000",
          "2018-06-13T00:00:00.000000",
          "2018-06-14T00:00:00.000000",
          "2018-06-15T00:00:00.000000",
          "2018-06-16T00:00:00.000000",
          "2018-06-17T00:00:00.000000",
          "2018-06-18T00:00:00.000000",
          "2018-06-19T00:00:00.000000",
          "2018-06-20T00:00:00.000000",
          "2018-06-21T00:00:00.000000",
          "2018-06-22T00:00:00.000000",
          "2018-06-23T00:00:00.000000",
          "2018-06-24T00:00:00.000000",
          "2018-06-25T00:00:00.000000",
          "2018-06-26T00:00:00.000000",
          "2018-06-27T00:00:00.000000",
          "2018-06-28T00:00:00.000000",
          "2018-06-29T00:00:00.000000",
          "2018-06-30T00:00:00.000000",
          "2018-07-01T00:00:00.000000",
          "2018-07-02T00:00:00.000000",
          "2018-07-03T00:00:00.000000",
          "2018-07-04T00:00:00.000000",
          "2018-07-05T00:00:00.000000",
          "2018-07-06T00:00:00.000000",
          "2018-07-07T00:00:00.000000",
          "2018-07-08T00:00:00.000000",
          "2018-07-09T00:00:00.000000",
          "2018-07-10T00:00:00.000000",
          "2018-07-11T00:00:00.000000",
          "2018-07-12T00:00:00.000000",
          "2018-07-13T00:00:00.000000",
          "2018-07-14T00:00:00.000000",
          "2018-07-15T00:00:00.000000",
          "2018-07-16T00:00:00.000000",
          "2018-07-17T00:00:00.000000",
          "2018-07-18T00:00:00.000000",
          "2018-07-19T00:00:00.000000",
          "2018-07-20T00:00:00.000000",
          "2018-07-21T00:00:00.000000",
          "2018-07-22T00:00:00.000000",
          "2018-07-23T00:00:00.000000",
          "2018-07-24T00:00:00.000000",
          "2018-07-25T00:00:00.000000",
          "2018-07-26T00:00:00.000000",
          "2018-07-27T00:00:00.000000",
          "2018-07-28T00:00:00.000000",
          "2018-07-29T00:00:00.000000",
          "2018-07-30T00:00:00.000000",
          "2018-07-31T00:00:00.000000",
          "2018-08-01T00:00:00.000000",
          "2018-08-02T00:00:00.000000",
          "2018-08-03T00:00:00.000000",
          "2018-08-04T00:00:00.000000",
          "2018-08-05T00:00:00.000000",
          "2018-08-06T00:00:00.000000",
          "2018-08-07T00:00:00.000000",
          "2018-08-08T00:00:00.000000",
          "2018-08-09T00:00:00.000000",
          "2018-08-10T00:00:00.000000",
          "2018-08-11T00:00:00.000000",
          "2018-08-12T00:00:00.000000",
          "2018-08-13T00:00:00.000000",
          "2018-08-14T00:00:00.000000",
          "2018-08-15T00:00:00.000000",
          "2018-08-16T00:00:00.000000",
          "2018-08-17T00:00:00.000000",
          "2018-08-18T00:00:00.000000",
          "2018-08-19T00:00:00.000000",
          "2018-08-20T00:00:00.000000",
          "2018-08-21T00:00:00.000000",
          "2018-08-22T00:00:00.000000",
          "2018-08-23T00:00:00.000000",
          "2018-08-24T00:00:00.000000",
          "2018-08-25T00:00:00.000000",
          "2018-08-26T00:00:00.000000",
          "2018-08-27T00:00:00.000000",
          "2018-08-28T00:00:00.000000",
          "2018-08-29T00:00:00.000000",
          "2018-08-30T00:00:00.000000",
          "2018-08-31T00:00:00.000000",
          "2018-09-01T00:00:00.000000",
          "2018-09-02T00:00:00.000000",
          "2018-09-03T00:00:00.000000",
          "2018-09-04T00:00:00.000000",
          "2018-09-05T00:00:00.000000",
          "2018-09-06T00:00:00.000000",
          "2018-09-07T00:00:00.000000",
          "2018-09-08T00:00:00.000000",
          "2018-09-09T00:00:00.000000",
          "2018-09-10T00:00:00.000000",
          "2018-09-11T00:00:00.000000",
          "2018-09-12T00:00:00.000000",
          "2018-09-13T00:00:00.000000",
          "2018-09-14T00:00:00.000000",
          "2018-09-15T00:00:00.000000",
          "2018-09-16T00:00:00.000000",
          "2018-09-17T00:00:00.000000",
          "2018-09-18T00:00:00.000000",
          "2018-09-19T00:00:00.000000",
          "2018-09-20T00:00:00.000000",
          "2018-09-21T00:00:00.000000",
          "2018-09-22T00:00:00.000000",
          "2018-09-23T00:00:00.000000",
          "2018-09-24T00:00:00.000000",
          "2018-09-25T00:00:00.000000",
          "2018-09-26T00:00:00.000000",
          "2018-09-27T00:00:00.000000",
          "2018-09-28T00:00:00.000000",
          "2018-09-29T00:00:00.000000",
          "2018-09-30T00:00:00.000000",
          "2018-10-01T00:00:00.000000",
          "2018-10-02T00:00:00.000000",
          "2018-10-03T00:00:00.000000",
          "2018-10-04T00:00:00.000000",
          "2018-10-05T00:00:00.000000",
          "2018-10-06T00:00:00.000000",
          "2018-10-07T00:00:00.000000",
          "2018-10-08T00:00:00.000000",
          "2018-10-09T00:00:00.000000",
          "2018-10-10T00:00:00.000000",
          "2018-10-11T00:00:00.000000",
          "2018-10-12T00:00:00.000000",
          "2018-10-13T00:00:00.000000",
          "2018-10-14T00:00:00.000000",
          "2018-10-15T00:00:00.000000",
          "2018-10-16T00:00:00.000000",
          "2018-10-17T00:00:00.000000",
          "2018-10-18T00:00:00.000000",
          "2018-10-19T00:00:00.000000",
          "2018-10-20T00:00:00.000000",
          "2018-10-21T00:00:00.000000",
          "2018-10-22T00:00:00.000000",
          "2018-10-23T00:00:00.000000",
          "2018-10-24T00:00:00.000000",
          "2018-10-25T00:00:00.000000",
          "2018-10-26T00:00:00.000000",
          "2018-10-27T00:00:00.000000",
          "2018-10-28T00:00:00.000000",
          "2018-10-29T00:00:00.000000",
          "2018-10-30T00:00:00.000000",
          "2018-10-31T00:00:00.000000",
          "2018-11-01T00:00:00.000000",
          "2018-11-02T00:00:00.000000",
          "2018-11-03T00:00:00.000000",
          "2018-11-04T00:00:00.000000",
          "2018-11-05T00:00:00.000000",
          "2018-11-06T00:00:00.000000",
          "2018-11-07T00:00:00.000000",
          "2018-11-08T00:00:00.000000",
          "2018-11-09T00:00:00.000000",
          "2018-11-10T00:00:00.000000",
          "2018-11-11T00:00:00.000000",
          "2018-11-12T00:00:00.000000",
          "2018-11-13T00:00:00.000000",
          "2018-11-14T00:00:00.000000",
          "2018-11-15T00:00:00.000000",
          "2018-11-16T00:00:00.000000",
          "2018-11-17T00:00:00.000000",
          "2018-11-18T00:00:00.000000",
          "2018-11-19T00:00:00.000000",
          "2018-11-20T00:00:00.000000",
          "2018-11-21T00:00:00.000000",
          "2018-11-22T00:00:00.000000",
          "2018-11-23T00:00:00.000000",
          "2018-11-24T00:00:00.000000",
          "2018-11-25T00:00:00.000000",
          "2018-11-26T00:00:00.000000",
          "2018-11-27T00:00:00.000000",
          "2018-11-28T00:00:00.000000",
          "2018-11-29T00:00:00.000000",
          "2018-11-30T00:00:00.000000",
          "2018-12-01T00:00:00.000000",
          "2018-12-02T00:00:00.000000",
          "2018-12-03T00:00:00.000000",
          "2018-12-04T00:00:00.000000",
          "2018-12-05T00:00:00.000000",
          "2018-12-06T00:00:00.000000",
          "2018-12-07T00:00:00.000000",
          "2018-12-08T00:00:00.000000",
          "2018-12-09T00:00:00.000000",
          "2018-12-10T00:00:00.000000",
          "2018-12-11T00:00:00.000000",
          "2018-12-12T00:00:00.000000",
          "2018-12-13T00:00:00.000000",
          "2018-12-14T00:00:00.000000",
          "2018-12-15T00:00:00.000000",
          "2018-12-16T00:00:00.000000",
          "2018-12-17T00:00:00.000000",
          "2018-12-18T00:00:00.000000",
          "2018-12-19T00:00:00.000000",
          "2018-12-20T00:00:00.000000",
          "2018-12-21T00:00:00.000000",
          "2018-12-22T00:00:00.000000",
          "2018-12-23T00:00:00.000000",
          "2018-12-24T00:00:00.000000",
          "2018-12-25T00:00:00.000000",
          "2018-12-26T00:00:00.000000",
          "2018-12-27T00:00:00.000000",
          "2018-12-28T00:00:00.000000",
          "2018-12-29T00:00:00.000000",
          "2018-12-30T00:00:00.000000",
          "2018-12-31T00:00:00.000000",
          "2019-01-01T00:00:00.000000",
          "2019-01-02T00:00:00.000000",
          "2019-01-03T00:00:00.000000",
          "2019-01-04T00:00:00.000000",
          "2019-01-05T00:00:00.000000",
          "2019-01-06T00:00:00.000000",
          "2019-01-07T00:00:00.000000",
          "2019-01-08T00:00:00.000000",
          "2019-01-09T00:00:00.000000",
          "2019-01-10T00:00:00.000000",
          "2019-01-11T00:00:00.000000",
          "2019-01-12T00:00:00.000000",
          "2019-01-13T00:00:00.000000",
          "2019-01-14T00:00:00.000000",
          "2019-01-15T00:00:00.000000",
          "2019-01-16T00:00:00.000000",
          "2019-01-17T00:00:00.000000",
          "2019-01-18T00:00:00.000000",
          "2019-01-19T00:00:00.000000",
          "2019-01-20T00:00:00.000000",
          "2019-01-21T00:00:00.000000",
          "2019-01-22T00:00:00.000000",
          "2019-01-23T00:00:00.000000",
          "2019-01-24T00:00:00.000000",
          "2019-01-25T00:00:00.000000",
          "2019-01-26T00:00:00.000000",
          "2019-01-27T00:00:00.000000",
          "2019-01-28T00:00:00.000000",
          "2019-01-29T00:00:00.000000",
          "2019-01-30T00:00:00.000000",
          "2019-01-31T00:00:00.000000",
          "2019-02-01T00:00:00.000000",
          "2019-02-02T00:00:00.000000",
          "2019-02-03T00:00:00.000000",
          "2019-02-04T00:00:00.000000",
          "2019-02-05T00:00:00.000000",
          "2019-02-06T00:00:00.000000",
          "2019-02-07T00:00:00.000000",
          "2019-02-08T00:00:00.000000",
          "2019-02-09T00:00:00.000000",
          "2019-02-10T00:00:00.000000",
          "2019-02-11T00:00:00.000000",
          "2019-02-12T00:00:00.000000",
          "2019-02-13T00:00:00.000000",
          "2019-02-14T00:00:00.000000",
          "2019-02-15T00:00:00.000000",
          "2019-02-16T00:00:00.000000",
          "2019-02-17T00:00:00.000000",
          "2019-02-18T00:00:00.000000",
          "2019-02-19T00:00:00.000000",
          "2019-02-20T00:00:00.000000",
          "2019-02-21T00:00:00.000000",
          "2019-02-22T00:00:00.000000",
          "2019-02-23T00:00:00.000000",
          "2019-02-24T00:00:00.000000",
          "2019-02-25T00:00:00.000000",
          "2019-02-26T00:00:00.000000",
          "2019-02-27T00:00:00.000000",
          "2019-02-28T00:00:00.000000",
          "2019-03-01T00:00:00.000000",
          "2019-03-02T00:00:00.000000",
          "2019-03-03T00:00:00.000000",
          "2019-03-04T00:00:00.000000",
          "2019-03-05T00:00:00.000000",
          "2019-03-06T00:00:00.000000",
          "2019-03-07T00:00:00.000000",
          "2019-03-08T00:00:00.000000",
          "2019-03-09T00:00:00.000000",
          "2019-03-10T00:00:00.000000",
          "2019-03-11T00:00:00.000000",
          "2019-03-12T00:00:00.000000",
          "2019-03-13T00:00:00.000000",
          "2019-03-14T00:00:00.000000",
          "2019-03-15T00:00:00.000000",
          "2019-03-16T00:00:00.000000",
          "2019-03-17T00:00:00.000000",
          "2019-03-18T00:00:00.000000",
          "2019-03-19T00:00:00.000000",
          "2019-03-20T00:00:00.000000",
          "2019-03-21T00:00:00.000000",
          "2019-03-22T00:00:00.000000",
          "2019-03-23T00:00:00.000000",
          "2019-03-24T00:00:00.000000",
          "2019-03-25T00:00:00.000000",
          "2019-03-26T00:00:00.000000",
          "2019-03-27T00:00:00.000000",
          "2019-03-28T00:00:00.000000",
          "2019-03-29T00:00:00.000000",
          "2019-03-30T00:00:00.000000",
          "2019-03-31T00:00:00.000000",
          "2019-04-01T00:00:00.000000",
          "2019-04-02T00:00:00.000000",
          "2019-04-03T00:00:00.000000",
          "2019-04-04T00:00:00.000000",
          "2019-04-05T00:00:00.000000",
          "2019-04-06T00:00:00.000000",
          "2019-04-07T00:00:00.000000",
          "2019-04-08T00:00:00.000000",
          "2019-04-09T00:00:00.000000",
          "2019-04-10T00:00:00.000000",
          "2019-04-11T00:00:00.000000",
          "2019-04-12T00:00:00.000000",
          "2019-04-13T00:00:00.000000",
          "2019-04-14T00:00:00.000000",
          "2019-04-15T00:00:00.000000",
          "2019-04-16T00:00:00.000000",
          "2019-04-17T00:00:00.000000",
          "2019-04-18T00:00:00.000000",
          "2019-04-19T00:00:00.000000",
          "2019-04-20T00:00:00.000000",
          "2019-04-21T00:00:00.000000",
          "2019-04-22T00:00:00.000000",
          "2019-04-23T00:00:00.000000",
          "2019-04-24T00:00:00.000000",
          "2019-04-25T00:00:00.000000",
          "2019-04-26T00:00:00.000000",
          "2019-04-27T00:00:00.000000",
          "2019-04-28T00:00:00.000000",
          "2019-04-29T00:00:00.000000",
          "2019-04-30T00:00:00.000000",
          "2019-05-01T00:00:00.000000",
          "2019-05-02T00:00:00.000000",
          "2019-05-03T00:00:00.000000",
          "2019-05-04T00:00:00.000000",
          "2019-05-05T00:00:00.000000",
          "2019-05-06T00:00:00.000000",
          "2019-05-07T00:00:00.000000",
          "2019-05-08T00:00:00.000000",
          "2019-05-09T00:00:00.000000",
          "2019-05-10T00:00:00.000000",
          "2019-05-11T00:00:00.000000",
          "2019-05-12T00:00:00.000000",
          "2019-05-13T00:00:00.000000",
          "2019-05-14T00:00:00.000000",
          "2019-05-15T00:00:00.000000",
          "2019-05-16T00:00:00.000000",
          "2019-05-17T00:00:00.000000",
          "2019-05-18T00:00:00.000000",
          "2019-05-19T00:00:00.000000",
          "2019-05-20T00:00:00.000000",
          "2019-05-21T00:00:00.000000",
          "2019-05-22T00:00:00.000000",
          "2019-05-23T00:00:00.000000",
          "2019-05-24T00:00:00.000000",
          "2019-05-25T00:00:00.000000",
          "2019-05-26T00:00:00.000000",
          "2019-05-27T00:00:00.000000",
          "2019-05-28T00:00:00.000000",
          "2019-05-29T00:00:00.000000",
          "2019-05-30T00:00:00.000000",
          "2019-05-31T00:00:00.000000",
          "2019-06-01T00:00:00.000000",
          "2019-06-02T00:00:00.000000",
          "2019-06-03T00:00:00.000000",
          "2019-06-04T00:00:00.000000",
          "2019-06-05T00:00:00.000000",
          "2019-06-06T00:00:00.000000",
          "2019-06-07T00:00:00.000000",
          "2019-06-08T00:00:00.000000",
          "2019-06-09T00:00:00.000000",
          "2019-06-10T00:00:00.000000",
          "2019-06-11T00:00:00.000000",
          "2019-06-12T00:00:00.000000",
          "2019-06-13T00:00:00.000000",
          "2019-06-14T00:00:00.000000",
          "2019-06-15T00:00:00.000000",
          "2019-06-16T00:00:00.000000",
          "2019-06-17T00:00:00.000000",
          "2019-06-18T00:00:00.000000",
          "2019-06-19T00:00:00.000000",
          "2019-06-20T00:00:00.000000",
          "2019-06-21T00:00:00.000000",
          "2019-06-22T00:00:00.000000",
          "2019-06-23T00:00:00.000000",
          "2019-06-24T00:00:00.000000",
          "2019-06-25T00:00:00.000000",
          "2019-06-26T00:00:00.000000",
          "2019-06-27T00:00:00.000000",
          "2019-06-28T00:00:00.000000",
          "2019-06-29T00:00:00.000000",
          "2019-06-30T00:00:00.000000",
          "2019-07-01T00:00:00.000000",
          "2019-07-02T00:00:00.000000",
          "2019-07-03T00:00:00.000000",
          "2019-07-04T00:00:00.000000",
          "2019-07-05T00:00:00.000000",
          "2019-07-06T00:00:00.000000",
          "2019-07-07T00:00:00.000000",
          "2019-07-08T00:00:00.000000",
          "2019-07-09T00:00:00.000000",
          "2019-07-10T00:00:00.000000",
          "2019-07-11T00:00:00.000000",
          "2019-07-12T00:00:00.000000",
          "2019-07-13T00:00:00.000000",
          "2019-07-14T00:00:00.000000",
          "2019-07-15T00:00:00.000000",
          "2019-07-16T00:00:00.000000",
          "2019-07-17T00:00:00.000000",
          "2019-07-18T00:00:00.000000",
          "2019-07-19T00:00:00.000000",
          "2019-07-20T00:00:00.000000",
          "2019-07-21T00:00:00.000000",
          "2019-07-22T00:00:00.000000",
          "2019-07-23T00:00:00.000000",
          "2019-07-24T00:00:00.000000",
          "2019-07-25T00:00:00.000000",
          "2019-07-26T00:00:00.000000",
          "2019-07-27T00:00:00.000000",
          "2019-07-28T00:00:00.000000",
          "2019-07-29T00:00:00.000000",
          "2019-07-30T00:00:00.000000",
          "2019-07-31T00:00:00.000000",
          "2019-08-01T00:00:00.000000",
          "2019-08-02T00:00:00.000000",
          "2019-08-03T00:00:00.000000",
          "2019-08-04T00:00:00.000000",
          "2019-08-05T00:00:00.000000",
          "2019-08-06T00:00:00.000000",
          "2019-08-07T00:00:00.000000",
          "2019-08-08T00:00:00.000000",
          "2019-08-09T00:00:00.000000",
          "2019-08-10T00:00:00.000000",
          "2019-08-11T00:00:00.000000",
          "2019-08-12T00:00:00.000000",
          "2019-08-13T00:00:00.000000",
          "2019-08-14T00:00:00.000000",
          "2019-08-15T00:00:00.000000",
          "2019-08-16T00:00:00.000000",
          "2019-08-17T00:00:00.000000",
          "2019-08-18T00:00:00.000000",
          "2019-08-19T00:00:00.000000",
          "2019-08-20T00:00:00.000000",
          "2019-08-21T00:00:00.000000",
          "2019-08-22T00:00:00.000000",
          "2019-08-23T00:00:00.000000",
          "2019-08-24T00:00:00.000000",
          "2019-08-25T00:00:00.000000",
          "2019-08-26T00:00:00.000000",
          "2019-08-27T00:00:00.000000",
          "2019-08-28T00:00:00.000000",
          "2019-08-29T00:00:00.000000",
          "2019-08-30T00:00:00.000000",
          "2019-08-31T00:00:00.000000",
          "2019-09-01T00:00:00.000000",
          "2019-09-02T00:00:00.000000",
          "2019-09-03T00:00:00.000000",
          "2019-09-04T00:00:00.000000",
          "2019-09-05T00:00:00.000000",
          "2019-09-06T00:00:00.000000",
          "2019-09-07T00:00:00.000000",
          "2019-09-08T00:00:00.000000",
          "2019-09-09T00:00:00.000000",
          "2019-09-10T00:00:00.000000",
          "2019-09-11T00:00:00.000000",
          "2019-09-12T00:00:00.000000",
          "2019-09-13T00:00:00.000000",
          "2019-09-14T00:00:00.000000",
          "2019-09-15T00:00:00.000000",
          "2019-09-16T00:00:00.000000",
          "2019-09-17T00:00:00.000000",
          "2019-09-18T00:00:00.000000",
          "2019-09-19T00:00:00.000000",
          "2019-09-20T00:00:00.000000",
          "2019-09-21T00:00:00.000000",
          "2019-09-22T00:00:00.000000",
          "2019-09-23T00:00:00.000000",
          "2019-09-24T00:00:00.000000",
          "2019-09-25T00:00:00.000000",
          "2019-09-26T00:00:00.000000",
          "2019-09-27T00:00:00.000000",
          "2019-09-28T00:00:00.000000",
          "2019-09-29T00:00:00.000000",
          "2019-09-30T00:00:00.000000",
          "2019-10-01T00:00:00.000000",
          "2019-10-02T00:00:00.000000",
          "2019-10-03T00:00:00.000000",
          "2019-10-04T00:00:00.000000",
          "2019-10-05T00:00:00.000000",
          "2019-10-06T00:00:00.000000",
          "2019-10-07T00:00:00.000000",
          "2019-10-08T00:00:00.000000",
          "2019-10-09T00:00:00.000000",
          "2019-10-10T00:00:00.000000",
          "2019-10-11T00:00:00.000000",
          "2019-10-12T00:00:00.000000",
          "2019-10-13T00:00:00.000000",
          "2019-10-14T00:00:00.000000",
          "2019-10-15T00:00:00.000000",
          "2019-10-16T00:00:00.000000",
          "2019-10-17T00:00:00.000000",
          "2019-10-18T00:00:00.000000",
          "2019-10-19T00:00:00.000000",
          "2019-10-20T00:00:00.000000",
          "2019-10-21T00:00:00.000000",
          "2019-10-22T00:00:00.000000",
          "2019-10-23T00:00:00.000000",
          "2019-10-24T00:00:00.000000",
          "2019-10-25T00:00:00.000000",
          "2019-10-26T00:00:00.000000",
          "2019-10-27T00:00:00.000000",
          "2019-10-28T00:00:00.000000",
          "2019-10-29T00:00:00.000000",
          "2019-10-30T00:00:00.000000",
          "2019-10-31T00:00:00.000000",
          "2019-11-01T00:00:00.000000",
          "2019-11-02T00:00:00.000000",
          "2019-11-03T00:00:00.000000",
          "2019-11-04T00:00:00.000000",
          "2019-11-05T00:00:00.000000",
          "2019-11-06T00:00:00.000000",
          "2019-11-07T00:00:00.000000",
          "2019-11-08T00:00:00.000000",
          "2019-11-09T00:00:00.000000",
          "2019-11-10T00:00:00.000000",
          "2019-11-11T00:00:00.000000",
          "2019-11-12T00:00:00.000000",
          "2019-11-13T00:00:00.000000",
          "2019-11-14T00:00:00.000000",
          "2019-11-15T00:00:00.000000",
          "2019-11-16T00:00:00.000000",
          "2019-11-17T00:00:00.000000",
          "2019-11-18T00:00:00.000000",
          "2019-11-19T00:00:00.000000",
          "2019-11-20T00:00:00.000000",
          "2019-11-21T00:00:00.000000",
          "2019-11-22T00:00:00.000000",
          "2019-11-23T00:00:00.000000",
          "2019-11-24T00:00:00.000000",
          "2019-11-25T00:00:00.000000",
          "2019-11-26T00:00:00.000000",
          "2019-11-27T00:00:00.000000",
          "2019-11-28T00:00:00.000000",
          "2019-11-29T00:00:00.000000",
          "2019-11-30T00:00:00.000000",
          "2019-12-01T00:00:00.000000",
          "2019-12-02T00:00:00.000000",
          "2019-12-03T00:00:00.000000",
          "2019-12-04T00:00:00.000000",
          "2019-12-05T00:00:00.000000",
          "2019-12-06T00:00:00.000000",
          "2019-12-07T00:00:00.000000",
          "2019-12-08T00:00:00.000000",
          "2019-12-09T00:00:00.000000",
          "2019-12-10T00:00:00.000000",
          "2019-12-11T00:00:00.000000",
          "2019-12-12T00:00:00.000000",
          "2019-12-13T00:00:00.000000",
          "2019-12-14T00:00:00.000000",
          "2019-12-15T00:00:00.000000",
          "2019-12-16T00:00:00.000000",
          "2019-12-17T00:00:00.000000",
          "2019-12-18T00:00:00.000000",
          "2019-12-19T00:00:00.000000",
          "2019-12-20T00:00:00.000000",
          "2019-12-21T00:00:00.000000",
          "2019-12-22T00:00:00.000000",
          "2019-12-23T00:00:00.000000",
          "2019-12-24T00:00:00.000000",
          "2019-12-25T00:00:00.000000",
          "2019-12-26T00:00:00.000000",
          "2019-12-27T00:00:00.000000",
          "2019-12-28T00:00:00.000000",
          "2019-12-29T00:00:00.000000",
          "2019-12-30T00:00:00.000000",
          "2019-12-31T00:00:00.000000",
          "2020-01-01T00:00:00.000000",
          "2020-01-02T00:00:00.000000",
          "2020-01-03T00:00:00.000000",
          "2020-01-04T00:00:00.000000",
          "2020-01-05T00:00:00.000000",
          "2020-01-06T00:00:00.000000",
          "2020-01-07T00:00:00.000000",
          "2020-01-08T00:00:00.000000",
          "2020-01-09T00:00:00.000000",
          "2020-01-10T00:00:00.000000",
          "2020-01-11T00:00:00.000000",
          "2020-01-12T00:00:00.000000",
          "2020-01-13T00:00:00.000000",
          "2020-01-14T00:00:00.000000",
          "2020-01-15T00:00:00.000000",
          "2020-01-16T00:00:00.000000",
          "2020-01-17T00:00:00.000000",
          "2020-01-18T00:00:00.000000",
          "2020-01-19T00:00:00.000000",
          "2020-01-20T00:00:00.000000",
          "2020-01-21T00:00:00.000000",
          "2020-01-22T00:00:00.000000",
          "2020-01-23T00:00:00.000000",
          "2020-01-24T00:00:00.000000",
          "2020-01-25T00:00:00.000000",
          "2020-01-26T00:00:00.000000",
          "2020-01-27T00:00:00.000000",
          "2020-01-28T00:00:00.000000",
          "2020-01-29T00:00:00.000000",
          "2020-01-30T00:00:00.000000",
          "2020-01-31T00:00:00.000000",
          "2020-02-01T00:00:00.000000",
          "2020-02-02T00:00:00.000000",
          "2020-02-03T00:00:00.000000",
          "2020-02-04T00:00:00.000000",
          "2020-02-05T00:00:00.000000",
          "2020-02-06T00:00:00.000000",
          "2020-02-07T00:00:00.000000",
          "2020-02-08T00:00:00.000000",
          "2020-02-09T00:00:00.000000",
          "2020-02-10T00:00:00.000000",
          "2020-02-11T00:00:00.000000",
          "2020-02-12T00:00:00.000000",
          "2020-02-13T00:00:00.000000",
          "2020-02-14T00:00:00.000000",
          "2020-02-15T00:00:00.000000",
          "2020-02-16T00:00:00.000000",
          "2020-02-17T00:00:00.000000",
          "2020-02-18T00:00:00.000000",
          "2020-02-19T00:00:00.000000",
          "2020-02-20T00:00:00.000000",
          "2020-02-21T00:00:00.000000",
          "2020-02-22T00:00:00.000000",
          "2020-02-23T00:00:00.000000",
          "2020-02-24T00:00:00.000000",
          "2020-02-25T00:00:00.000000",
          "2020-02-26T00:00:00.000000",
          "2020-02-27T00:00:00.000000",
          "2020-02-28T00:00:00.000000",
          "2020-02-29T00:00:00.000000",
          "2020-03-01T00:00:00.000000",
          "2020-03-02T00:00:00.000000",
          "2020-03-03T00:00:00.000000",
          "2020-03-04T00:00:00.000000",
          "2020-03-05T00:00:00.000000",
          "2020-03-06T00:00:00.000000",
          "2020-03-07T00:00:00.000000",
          "2020-03-08T00:00:00.000000",
          "2020-03-09T00:00:00.000000",
          "2020-03-10T00:00:00.000000",
          "2020-03-11T00:00:00.000000",
          "2020-03-12T00:00:00.000000",
          "2020-03-13T00:00:00.000000",
          "2020-03-14T00:00:00.000000",
          "2020-03-15T00:00:00.000000",
          "2020-03-16T00:00:00.000000",
          "2020-03-17T00:00:00.000000",
          "2020-03-18T00:00:00.000000",
          "2020-03-19T00:00:00.000000",
          "2020-03-20T00:00:00.000000",
          "2020-03-21T00:00:00.000000",
          "2020-03-22T00:00:00.000000",
          "2020-03-23T00:00:00.000000",
          "2020-03-24T00:00:00.000000",
          "2020-03-25T00:00:00.000000",
          "2020-03-26T00:00:00.000000",
          "2020-03-27T00:00:00.000000",
          "2020-03-28T00:00:00.000000",
          "2020-03-29T00:00:00.000000",
          "2020-03-30T00:00:00.000000",
          "2020-03-31T00:00:00.000000",
          "2020-04-01T00:00:00.000000",
          "2020-04-02T00:00:00.000000",
          "2020-04-03T00:00:00.000000",
          "2020-04-04T00:00:00.000000",
          "2020-04-05T00:00:00.000000",
          "2020-04-06T00:00:00.000000",
          "2020-04-07T00:00:00.000000",
          "2020-04-08T00:00:00.000000",
          "2020-04-09T00:00:00.000000",
          "2020-04-10T00:00:00.000000",
          "2020-04-11T00:00:00.000000",
          "2020-04-12T00:00:00.000000",
          "2020-04-13T00:00:00.000000",
          "2020-04-14T00:00:00.000000",
          "2020-04-15T00:00:00.000000",
          "2020-04-16T00:00:00.000000",
          "2020-04-17T00:00:00.000000",
          "2020-04-18T00:00:00.000000",
          "2020-04-19T00:00:00.000000",
          "2020-04-20T00:00:00.000000",
          "2020-04-21T00:00:00.000000",
          "2020-04-22T00:00:00.000000",
          "2020-04-23T00:00:00.000000",
          "2020-04-24T00:00:00.000000",
          "2020-04-25T00:00:00.000000",
          "2020-04-26T00:00:00.000000",
          "2020-04-27T00:00:00.000000",
          "2020-04-28T00:00:00.000000",
          "2020-04-29T00:00:00.000000",
          "2020-04-30T00:00:00.000000",
          "2020-05-01T00:00:00.000000",
          "2020-05-02T00:00:00.000000",
          "2020-05-03T00:00:00.000000",
          "2020-05-04T00:00:00.000000",
          "2020-05-05T00:00:00.000000",
          "2020-05-06T00:00:00.000000",
          "2020-05-07T00:00:00.000000",
          "2020-05-08T00:00:00.000000",
          "2020-05-09T00:00:00.000000",
          "2020-05-10T00:00:00.000000",
          "2020-05-11T00:00:00.000000",
          "2020-05-12T00:00:00.000000",
          "2020-05-13T00:00:00.000000",
          "2020-05-14T00:00:00.000000",
          "2020-05-15T00:00:00.000000",
          "2020-05-16T00:00:00.000000",
          "2020-05-17T00:00:00.000000",
          "2020-05-18T00:00:00.000000",
          "2020-05-19T00:00:00.000000",
          "2020-05-20T00:00:00.000000",
          "2020-05-21T00:00:00.000000",
          "2020-05-22T00:00:00.000000",
          "2020-05-23T00:00:00.000000",
          "2020-05-24T00:00:00.000000",
          "2020-05-25T00:00:00.000000",
          "2020-05-26T00:00:00.000000",
          "2020-05-27T00:00:00.000000",
          "2020-05-28T00:00:00.000000",
          "2020-05-29T00:00:00.000000",
          "2020-05-30T00:00:00.000000",
          "2020-05-31T00:00:00.000000",
          "2020-06-01T00:00:00.000000",
          "2020-06-02T00:00:00.000000",
          "2020-06-03T00:00:00.000000",
          "2020-06-04T00:00:00.000000",
          "2020-06-05T00:00:00.000000",
          "2020-06-06T00:00:00.000000",
          "2020-06-07T00:00:00.000000",
          "2020-06-08T00:00:00.000000",
          "2020-06-09T00:00:00.000000",
          "2020-06-10T00:00:00.000000",
          "2020-06-11T00:00:00.000000",
          "2020-06-12T00:00:00.000000",
          "2020-06-13T00:00:00.000000",
          "2020-06-14T00:00:00.000000",
          "2020-06-15T00:00:00.000000",
          "2020-06-16T00:00:00.000000",
          "2020-06-17T00:00:00.000000",
          "2020-06-18T00:00:00.000000",
          "2020-06-19T00:00:00.000000",
          "2020-06-20T00:00:00.000000",
          "2020-06-21T00:00:00.000000",
          "2020-06-22T00:00:00.000000",
          "2020-06-23T00:00:00.000000",
          "2020-06-24T00:00:00.000000",
          "2020-06-25T00:00:00.000000",
          "2020-06-26T00:00:00.000000",
          "2020-06-27T00:00:00.000000",
          "2020-06-28T00:00:00.000000",
          "2020-06-29T00:00:00.000000",
          "2020-06-30T00:00:00.000000",
          "2020-07-01T00:00:00.000000",
          "2020-07-02T00:00:00.000000",
          "2020-07-03T00:00:00.000000",
          "2020-07-04T00:00:00.000000",
          "2020-07-05T00:00:00.000000",
          "2020-07-06T00:00:00.000000",
          "2020-07-07T00:00:00.000000",
          "2020-07-08T00:00:00.000000",
          "2020-07-09T00:00:00.000000",
          "2020-07-10T00:00:00.000000",
          "2020-07-11T00:00:00.000000",
          "2020-07-12T00:00:00.000000",
          "2020-07-13T00:00:00.000000",
          "2020-07-14T00:00:00.000000",
          "2020-07-15T00:00:00.000000",
          "2020-07-16T00:00:00.000000",
          "2020-07-17T00:00:00.000000",
          "2020-07-18T00:00:00.000000",
          "2020-07-19T00:00:00.000000",
          "2020-07-20T00:00:00.000000",
          "2020-07-21T00:00:00.000000",
          "2020-07-22T00:00:00.000000",
          "2020-07-23T00:00:00.000000",
          "2020-07-24T00:00:00.000000",
          "2020-07-25T00:00:00.000000",
          "2020-07-26T00:00:00.000000",
          "2020-07-27T00:00:00.000000",
          "2020-07-28T00:00:00.000000",
          "2020-07-29T00:00:00.000000",
          "2020-07-30T00:00:00.000000",
          "2020-07-31T00:00:00.000000",
          "2020-08-01T00:00:00.000000",
          "2020-08-02T00:00:00.000000",
          "2020-08-03T00:00:00.000000",
          "2020-08-04T00:00:00.000000",
          "2020-08-05T00:00:00.000000",
          "2020-08-06T00:00:00.000000",
          "2020-08-07T00:00:00.000000",
          "2020-08-08T00:00:00.000000",
          "2020-08-09T00:00:00.000000",
          "2020-08-10T00:00:00.000000",
          "2020-08-11T00:00:00.000000",
          "2020-08-12T00:00:00.000000",
          "2020-08-13T00:00:00.000000",
          "2020-08-14T00:00:00.000000",
          "2020-08-15T00:00:00.000000",
          "2020-08-16T00:00:00.000000",
          "2020-08-17T00:00:00.000000",
          "2020-08-18T00:00:00.000000",
          "2020-08-19T00:00:00.000000",
          "2020-08-20T00:00:00.000000",
          "2020-08-21T00:00:00.000000",
          "2020-08-22T00:00:00.000000",
          "2020-08-23T00:00:00.000000",
          "2020-08-24T00:00:00.000000",
          "2020-08-25T00:00:00.000000",
          "2020-08-26T00:00:00.000000",
          "2020-08-27T00:00:00.000000",
          "2020-08-28T00:00:00.000000",
          "2020-08-29T00:00:00.000000",
          "2020-08-30T00:00:00.000000",
          "2020-08-31T00:00:00.000000",
          "2020-09-01T00:00:00.000000",
          "2020-09-02T00:00:00.000000",
          "2020-09-03T00:00:00.000000",
          "2020-09-04T00:00:00.000000",
          "2020-09-05T00:00:00.000000",
          "2020-09-06T00:00:00.000000",
          "2020-09-07T00:00:00.000000",
          "2020-09-08T00:00:00.000000",
          "2020-09-09T00:00:00.000000",
          "2020-09-10T00:00:00.000000",
          "2020-09-11T00:00:00.000000",
          "2020-09-12T00:00:00.000000",
          "2020-09-13T00:00:00.000000",
          "2020-09-14T00:00:00.000000",
          "2020-09-15T00:00:00.000000",
          "2020-09-16T00:00:00.000000",
          "2020-09-17T00:00:00.000000",
          "2020-09-18T00:00:00.000000",
          "2020-09-19T00:00:00.000000",
          "2020-09-20T00:00:00.000000",
          "2020-09-21T00:00:00.000000",
          "2020-09-22T00:00:00.000000",
          "2020-09-23T00:00:00.000000",
          "2020-09-24T00:00:00.000000",
          "2020-09-25T00:00:00.000000",
          "2020-09-26T00:00:00.000000"
         ],
         "xaxis": "x",
         "y": {
          "dtype": "float64",
          "shape": [
           1000
          ]
         },
         "yaxis": "y"
        }
       ],
       "_js2py_layoutDelta": {},
       "_js2py_pointsCallback": {},
       "_js2py_relayout": {},
       "_js2py_restyle": {},
       "_js2py_traceDeltas": {},
       "_js2py_update": {},
       "_last_layout_edit_id": 5,
       "_last_trace_edit_id": 5,
       "_layout": {
        "autosize": false,
        "colorway": [
         "#1f77b4",
         "#ff7f0e",
         "#2ca02c",
         "#d62728",
         "#9467bd",
         "#8c564b",
         "#e377c2",
         "#7f7f7f",
         "#bcbd22",
         "#17becf"
        ],
        "height": 300,
        "hovermode": "closest",
        "margin": {
         "b": 30,
         "t": 30
        },
        "showlegend": true,
        "template": {
         "data": {
          "bar": [
           {
            "error_x": {
             "color": "#2a3f5f"
            },
            "error_y": {
             "color": "#2a3f5f"
            },
            "marker": {
             "line": {
              "color": "#E5ECF6",
              "width": 0.5
             }
            },
            "type": "bar"
           }
          ],
          "barpolar": [
           {
            "marker": {
             "line": {
              "color": "#E5ECF6",
              "width": 0.5
             }
            },
            "type": "barpolar"
           }
          ],
          "carpet": [
           {
            "aaxis": {
             "endlinecolor": "#2a3f5f",
             "gridcolor": "white",
             "linecolor": "white",
             "minorgridcolor": "white",
             "startlinecolor": "#2a3f5f"
            },
            "baxis": {
             "endlinecolor": "#2a3f5f",
             "gridcolor": "white",
             "linecolor": "white",
             "minorgridcolor": "white",
             "startlinecolor": "#2a3f5f"
            },
            "type": "carpet"
           }
          ],
          "choropleth": [
           {
            "colorbar": {
             "outlinewidth": 0,
             "ticks": ""
            },
            "type": "choropleth"
           }
          ],
          "contour": [
           {
            "colorbar": {
             "outlinewidth": 0,
             "ticks": ""
            },
            "colorscale": [
             [
              0,
              "#0d0887"
             ],
             [
              0.1111111111111111,
              "#46039f"
             ],
             [
              0.2222222222222222,
              "#7201a8"
             ],
             [
              0.3333333333333333,
              "#9c179e"
             ],
             [
              0.4444444444444444,
              "#bd3786"
             ],
             [
              0.5555555555555556,
              "#d8576b"
             ],
             [
              0.6666666666666666,
              "#ed7953"
             ],
             [
              0.7777777777777778,
              "#fb9f3a"
             ],
             [
              0.8888888888888888,
              "#fdca26"
             ],
             [
              1,
              "#f0f921"
             ]
            ],
            "type": "contour"
           }
          ],
          "contourcarpet": [
           {
            "colorbar": {
             "outlinewidth": 0,
             "ticks": ""
            },
            "type": "contourcarpet"
           }
          ],
          "heatmap": [
           {
            "colorbar": {
             "outlinewidth": 0,
             "ticks": ""
            },
            "colorscale": [
             [
              0,
              "#0d0887"
             ],
             [
              0.1111111111111111,
              "#46039f"
             ],
             [
              0.2222222222222222,
              "#7201a8"
             ],
             [
              0.3333333333333333,
              "#9c179e"
             ],
             [
              0.4444444444444444,
              "#bd3786"
             ],
             [
              0.5555555555555556,
              "#d8576b"
             ],
             [
              0.6666666666666666,
              "#ed7953"
             ],
             [
              0.7777777777777778,
              "#fb9f3a"
             ],
             [
              0.8888888888888888,
              "#fdca26"
             ],
             [
              1,
              "#f0f921"
             ]
            ],
            "type": "heatmap"
           }
          ],
          "heatmapgl": [
           {
            "colorbar": {
             "outlinewidth": 0,
             "ticks": ""
            },
            "colorscale": [
             [
              0,
              "#0d0887"
             ],
             [
              0.1111111111111111,
              "#46039f"
             ],
             [
              0.2222222222222222,
              "#7201a8"
             ],
             [
              0.3333333333333333,
              "#9c179e"
             ],
             [
              0.4444444444444444,
              "#bd3786"
             ],
             [
              0.5555555555555556,
              "#d8576b"
             ],
             [
              0.6666666666666666,
              "#ed7953"
             ],
             [
              0.7777777777777778,
              "#fb9f3a"
             ],
             [
              0.8888888888888888,
              "#fdca26"
             ],
             [
              1,
              "#f0f921"
             ]
            ],
            "type": "heatmapgl"
           }
          ],
          "histogram": [
           {
            "marker": {
             "colorbar": {
              "outlinewidth": 0,
              "ticks": ""
             }
            },
            "type": "histogram"
           }
          ],
          "histogram2d": [
           {
            "colorbar": {
             "outlinewidth": 0,
             "ticks": ""
            },
            "colorscale": [
             [
              0,
              "#0d0887"
             ],
             [
              0.1111111111111111,
              "#46039f"
             ],
             [
              0.2222222222222222,
              "#7201a8"
             ],
             [
              0.3333333333333333,
              "#9c179e"
             ],
             [
              0.4444444444444444,
              "#bd3786"
             ],
             [
              0.5555555555555556,
              "#d8576b"
             ],
             [
              0.6666666666666666,
              "#ed7953"
             ],
             [
              0.7777777777777778,
              "#fb9f3a"
             ],
             [
              0.8888888888888888,
              "#fdca26"
             ],
             [
              1,
              "#f0f921"
             ]
            ],
            "type": "histogram2d"
           }
          ],
          "histogram2dcontour": [
           {
            "colorbar": {
             "outlinewidth": 0,
             "ticks": ""
            },
            "colorscale": [
             [
              0,
              "#0d0887"
             ],
             [
              0.1111111111111111,
              "#46039f"
             ],
             [
              0.2222222222222222,
              "#7201a8"
             ],
             [
              0.3333333333333333,
              "#9c179e"
             ],
             [
              0.4444444444444444,
              "#bd3786"
             ],
             [
              0.5555555555555556,
              "#d8576b"
             ],
             [
              0.6666666666666666,
              "#ed7953"
             ],
             [
              0.7777777777777778,
              "#fb9f3a"
             ],
             [
              0.8888888888888888,
              "#fdca26"
             ],
             [
              1,
              "#f0f921"
             ]
            ],
            "type": "histogram2dcontour"
           }
          ],
          "mesh3d": [
           {
            "colorbar": {
             "outlinewidth": 0,
             "ticks": ""
            },
            "type": "mesh3d"
           }
          ],
          "parcoords": [
           {
            "line": {
             "colorbar": {
              "outlinewidth": 0,
              "ticks": ""
             }
            },
            "type": "parcoords"
           }
          ],
          "pie": [
           {
            "automargin": true,
            "type": "pie"
           }
          ],
          "scatter": [
           {
            "marker": {
             "colorbar": {
              "outlinewidth": 0,
              "ticks": ""
             }
            },
            "type": "scatter"
           }
          ],
          "scatter3d": [
           {
            "line": {
             "colorbar": {
              "outlinewidth": 0,
              "ticks": ""
             }
            },
            "marker": {
             "colorbar": {
              "outlinewidth": 0,
              "ticks": ""
             }
            },
            "type": "scatter3d"
           }
          ],
          "scattercarpet": [
           {
            "marker": {
             "colorbar": {
              "outlinewidth": 0,
              "ticks": ""
             }
            },
            "type": "scattercarpet"
           }
          ],
          "scattergeo": [
           {
            "marker": {
             "colorbar": {
              "outlinewidth": 0,
              "ticks": ""
             }
            },
            "type": "scattergeo"
           }
          ],
          "scattergl": [
           {
            "marker": {
             "colorbar": {
              "outlinewidth": 0,
              "ticks": ""
             }
            },
            "type": "scattergl"
           }
          ],
          "scattermapbox": [
           {
            "marker": {
             "colorbar": {
              "outlinewidth": 0,
              "ticks": ""
             }
            },
            "type": "scattermapbox"
           }
          ],
          "scatterpolar": [
           {
            "marker": {
             "colorbar": {
              "outlinewidth": 0,
              "ticks": ""
             }
            },
            "type": "scatterpolar"
           }
          ],
          "scatterpolargl": [
           {
            "marker": {
             "colorbar": {
              "outlinewidth": 0,
              "ticks": ""
             }
            },
            "type": "scatterpolargl"
           }
          ],
          "scatterternary": [
           {
            "marker": {
             "colorbar": {
              "outlinewidth": 0,
              "ticks": ""
             }
            },
            "type": "scatterternary"
           }
          ],
          "surface": [
           {
            "colorbar": {
             "outlinewidth": 0,
             "ticks": ""
            },
            "colorscale": [
             [
              0,
              "#0d0887"
             ],
             [
              0.1111111111111111,
              "#46039f"
             ],
             [
              0.2222222222222222,
              "#7201a8"
             ],
             [
              0.3333333333333333,
              "#9c179e"
             ],
             [
              0.4444444444444444,
              "#bd3786"
             ],
             [
              0.5555555555555556,
              "#d8576b"
             ],
             [
              0.6666666666666666,
              "#ed7953"
             ],
             [
              0.7777777777777778,
              "#fb9f3a"
             ],
             [
              0.8888888888888888,
              "#fdca26"
             ],
             [
              1,
              "#f0f921"
             ]
            ],
            "type": "surface"
           }
          ],
          "table": [
           {
            "cells": {
             "fill": {
              "color": "#EBF0F8"
             },
             "line": {
              "color": "white"
             }
            },
            "header": {
             "fill": {
              "color": "#C8D4E3"
             },
             "line": {
              "color": "white"
             }
            },
            "type": "table"
           }
          ]
         },
         "layout": {
          "annotationdefaults": {
           "arrowcolor": "#2a3f5f",
           "arrowhead": 0,
           "arrowwidth": 1
          },
          "coloraxis": {
           "colorbar": {
            "outlinewidth": 0,
            "ticks": ""
           }
          },
          "colorscale": {
           "diverging": [
            [
             0,
             "#8e0152"
            ],
            [
             0.1,
             "#c51b7d"
            ],
            [
             0.2,
             "#de77ae"
            ],
            [
             0.3,
             "#f1b6da"
            ],
            [
             0.4,
             "#fde0ef"
            ],
            [
             0.5,
             "#f7f7f7"
            ],
            [
             0.6,
             "#e6f5d0"
            ],
            [
             0.7,
             "#b8e186"
            ],
            [
             0.8,
             "#7fbc41"
            ],
            [
             0.9,
             "#4d9221"
            ],
            [
             1,
             "#276419"
            ]
           ],
           "sequential": [
            [
             0,
             "#0d0887"
            ],
            [
             0.1111111111111111,
             "#46039f"
            ],
            [
             0.2222222222222222,
             "#7201a8"
            ],
            [
             0.3333333333333333,
             "#9c179e"
            ],
            [
             0.4444444444444444,
             "#bd3786"
            ],
            [
             0.5555555555555556,
             "#d8576b"
            ],
            [
             0.6666666666666666,
             "#ed7953"
            ],
            [
             0.7777777777777778,
             "#fb9f3a"
            ],
            [
             0.8888888888888888,
             "#fdca26"
            ],
            [
             1,
             "#f0f921"
            ]
           ],
           "sequentialminus": [
            [
             0,
             "#0d0887"
            ],
            [
             0.1111111111111111,
             "#46039f"
            ],
            [
             0.2222222222222222,
             "#7201a8"
            ],
            [
             0.3333333333333333,
             "#9c179e"
            ],
            [
             0.4444444444444444,
             "#bd3786"
            ],
            [
             0.5555555555555556,
             "#d8576b"
            ],
            [
             0.6666666666666666,
             "#ed7953"
            ],
            [
             0.7777777777777778,
             "#fb9f3a"
            ],
            [
             0.8888888888888888,
             "#fdca26"
            ],
            [
             1,
             "#f0f921"
            ]
           ]
          },
          "colorway": [
           "#636efa",
           "#EF553B",
           "#00cc96",
           "#ab63fa",
           "#FFA15A",
           "#19d3f3",
           "#FF6692",
           "#B6E880",
           "#FF97FF",
           "#FECB52"
          ],
          "font": {
           "color": "#2a3f5f"
          },
          "geo": {
           "bgcolor": "white",
           "lakecolor": "white",
           "landcolor": "#E5ECF6",
           "showlakes": true,
           "showland": true,
           "subunitcolor": "white"
          },
          "hoverlabel": {
           "align": "left"
          },
          "hovermode": "closest",
          "mapbox": {
           "style": "light"
          },
          "paper_bgcolor": "white",
          "plot_bgcolor": "#E5ECF6",
          "polar": {
           "angularaxis": {
            "gridcolor": "white",
            "linecolor": "white",
            "ticks": ""
           },
           "bgcolor": "#E5ECF6",
           "radialaxis": {
            "gridcolor": "white",
            "linecolor": "white",
            "ticks": ""
           }
          },
          "scene": {
           "xaxis": {
            "backgroundcolor": "#E5ECF6",
            "gridcolor": "white",
            "gridwidth": 2,
            "linecolor": "white",
            "showbackground": true,
            "ticks": "",
            "zerolinecolor": "white"
           },
           "yaxis": {
            "backgroundcolor": "#E5ECF6",
            "gridcolor": "white",
            "gridwidth": 2,
            "linecolor": "white",
            "showbackground": true,
            "ticks": "",
            "zerolinecolor": "white"
           },
           "zaxis": {
            "backgroundcolor": "#E5ECF6",
            "gridcolor": "white",
            "gridwidth": 2,
            "linecolor": "white",
            "showbackground": true,
            "ticks": "",
            "zerolinecolor": "white"
           }
          },
          "shapedefaults": {
           "line": {
            "color": "#2a3f5f"
           }
          },
          "ternary": {
           "aaxis": {
            "gridcolor": "white",
            "linecolor": "white",
            "ticks": ""
           },
           "baxis": {
            "gridcolor": "white",
            "linecolor": "white",
            "ticks": ""
           },
           "bgcolor": "#E5ECF6",
           "caxis": {
            "gridcolor": "white",
            "linecolor": "white",
            "ticks": ""
           }
          },
          "title": {
           "x": 0.05
          },
          "xaxis": {
           "automargin": true,
           "gridcolor": "white",
           "linecolor": "white",
           "ticks": "",
           "title": {
            "standoff": 15
           },
           "zerolinecolor": "white",
           "zerolinewidth": 2
          },
          "yaxis": {
           "automargin": true,
           "gridcolor": "white",
           "linecolor": "white",
           "ticks": "",
           "title": {
            "standoff": 15
           },
           "zerolinecolor": "white",
           "zerolinewidth": 2
          }
         }
        },
        "width": 700,
        "xaxis": {
         "rangeslider": {
          "visible": false
         },
         "showgrid": true
        },
        "yaxis": {
         "domain": [
          0,
          0.33
         ],
         "showgrid": true
        },
        "yaxis2": {
         "domain": [
          0.33,
          1
         ]
        }
       },
       "_model_module_version": "1.5.0",
       "_py2js_animate": {},
       "_py2js_deleteTraces": {},
       "_py2js_moveTraces": {},
       "_py2js_removeLayoutProps": {},
       "_py2js_removeTraceProps": {},
       "_py2js_restyle": {},
       "_view_count": 0,
       "_view_module_version": "1.5.0"
      }
     }
    },
    "version_major": 2,
    "version_minor": 0
   }
  }
 },
 "nbformat": 4,
 "nbformat_minor": 4
}
