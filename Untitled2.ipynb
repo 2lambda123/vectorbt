{
 "cells": [
  {
   "cell_type": "code",
   "execution_count": 4,
   "metadata": {},
   "outputs": [],
   "source": [
    "import vectorbt as vbt\n",
    "import numpy as np\n",
    "import pandas as pd\n",
    "from numba import njit"
   ]
  },
  {
   "cell_type": "code",
   "execution_count": 37,
   "metadata": {},
   "outputs": [],
   "source": [
    "@njit\n",
    "def exit_choice_func_nb(col, from_i, to_i, ts, sl_stops, tp_stops, trailing):\n",
    "    # Get indices of stop loss and take profit exits and return the first\n",
    "    sl_idxs = vbt.signals.nb.sl_choice_nb(col, from_i, to_i, ts, sl_stops, trailing, True)\n",
    "    tp_idxs = vbt.signals.nb.tp_choice_nb(col, from_i, to_i, ts, tp_stops, True)\n",
    "    return np.sort(np.concatenate((sl_idxs, tp_idxs)))[:1]\n",
    "\n",
    "@njit\n",
    "def custom_iter_apply_nb(i, entries, ts, sl_stops, tp_stops, trailing):\n",
    "    # Run exit_choice_func_nb for stop at index i\n",
    "    return vbt.signals.nb.generate_enex_nb(\n",
    "        entries.shape,\n",
    "        vbt.signals.nb.true_choice_nb,\n",
    "        exit_choice_func_nb,\n",
    "        (entries,), (ts, sl_stops[i, :, :], tp_stops[i, :, :], trailing))\n",
    "\n",
    "@njit\n",
    "def generate_custom_exits_nb(entries, ts, sl_stops, tp_stops, trailing=False):\n",
    "    # Run custom_iter_apply_nb for each stop value and concatenate results\n",
    "    return vbt.base.combine_fns.apply_and_concat_multiple_nb(\n",
    "        len(sl_stops), custom_iter_apply_nb, entries, ts, sl_stops, tp_stops, trailing)\n",
    "\n",
    "def generate_custom_exits(entries, price, sl_stops, tp_stops, trailing=False, \n",
    "                          keys=None, broadcast_kwargs={}):\n",
    "    vbt.utils.checks.assert_type(price, (pd.Series, pd.DataFrame))\n",
    "    # Broadcast pandas objects\n",
    "    entries, price = vbt.base.reshape_fns.broadcast(entries, price, **broadcast_kwargs, writeable=True)\n",
    "    # Broadcast stop values for each to match the shape of entries\n",
    "    sl_stops = vbt.base.reshape_fns.broadcast_to_array_of(sl_stops, entries.vbt.to_2d_array())\n",
    "    tp_stops = vbt.base.reshape_fns.broadcast_to_array_of(tp_stops, entries.vbt.to_2d_array())\n",
    "    # Broadcast stop values between each other\n",
    "    sl_stops, tp_stops = np.broadcast_arrays(sl_stops, tp_stops)\n",
    "    sl_stops = np.copy(sl_stops)\n",
    "    tp_stops = np.copy(tp_stops)\n",
    "    # Build column hierarchy\n",
    "    if keys is not None:\n",
    "        param_columns = keys\n",
    "    else:\n",
    "        sl_param_columns = vbt.base.index_fns.index_from_values(sl_stops, name='stop_loss')\n",
    "        tp_param_columns = vbt.base.index_fns.index_from_values(tp_stops, name='take_profit')\n",
    "        param_columns = vbt.base.index_fns.stack_indexes(sl_param_columns, tp_param_columns)\n",
    "    columns = vbt.base.index_fns.combine_indexes(param_columns, entries.vbt.columns)\n",
    "    # Execute\n",
    "    new_entries, exits = generate_custom_exits_nb(\n",
    "        entries.vbt.to_2d_array(),\n",
    "        price.vbt.to_2d_array(),\n",
    "        sl_stops, \n",
    "        tp_stops, \n",
    "        trailing\n",
    "    )\n",
    "    # Wrap numpy arrays into pandas objects and return\n",
    "    return entries.vbt.wrap(new_entries, columns=columns), entries.vbt.wrap(exits, columns=columns)"
   ]
  },
  {
   "cell_type": "code",
   "execution_count": 36,
   "metadata": {},
   "outputs": [
    {
     "name": "stdout",
     "output_type": "stream",
     "text": [
      "[] [1] [1]\n",
      "[] [1] [1]\n",
      "[3] [] [3]\n",
      "[] [1] [1]\n",
      "[3] [] [3]\n"
     ]
    },
    {
     "data": {
      "text/plain": [
       "(stop_loss      0.1              \n",
       " take_profit    0.1              \n",
       "                  a      b      c\n",
       " 0             True   True   True\n",
       " 1            False  False  False\n",
       " 2            False   True   True\n",
       " 3            False  False  False\n",
       " 4            False   True  False, stop_loss      0.1              \n",
       " take_profit    0.1              \n",
       "                  a      b      c\n",
       " 0            False  False  False\n",
       " 1             True   True   True\n",
       " 2            False  False  False\n",
       " 3            False   True   True\n",
       " 4            False  False  False)"
      ]
     },
     "execution_count": 36,
     "metadata": {},
     "output_type": "execute_result"
    }
   ],
   "source": [
    "entries = pd.DataFrame({\n",
    "    'a': [True, False, False, False, False],\n",
    "    'b': [True, False, True, False, True],\n",
    "    'c': [True, True, True, False, False]\n",
    "})\n",
    "price = pd.Series([1., 2., 3., 2., 1.])\n",
    "generate_custom_exits(entries, price, 0.1, 0.1)"
   ]
  },
  {
   "cell_type": "code",
   "execution_count": 41,
   "metadata": {},
   "outputs": [
    {
     "name": "stdout",
     "output_type": "stream",
     "text": [
      "stop_loss      0.1              \n",
      "take_profit    0.1              \n",
      "                 a      b      c\n",
      "0            False  False  False\n",
      "1             True   True   True\n",
      "2            False  False  False\n",
      "3            False   True   True\n",
      "4            False  False  False\n"
     ]
    }
   ],
   "source": [
    "print(generate_custom_exits(entries, price, 0.1, 0.1)[1])"
   ]
  },
  {
   "cell_type": "code",
   "execution_count": null,
   "metadata": {},
   "outputs": [],
   "source": [
    "# stop_loss      0.1              \n",
    "# take_profit    0.1              \n",
    "#                  a      b      c\n",
    "# 0            False  False  False\n",
    "# 1             True   True   True\n",
    "# 2            False  False  False\n",
    "# 3            False   True   True\n",
    "# 4            False  False  False"
   ]
  },
  {
   "cell_type": "code",
   "execution_count": null,
   "metadata": {},
   "outputs": [],
   "source": [
    "pd.DataFrame.generate_both(\n",
    "    (5, 3), \n",
    "    vbt.signals.true_choice_nb, \n",
    "    exit_choice_func_nb,\n",
    "    (sig,), (ts.vbt.to_2d_array(), )\n",
    ")"
   ]
  }
 ],
 "metadata": {
  "kernelspec": {
   "display_name": "Python 3",
   "language": "python",
   "name": "python3"
  },
  "language_info": {
   "codemirror_mode": {
    "name": "ipython",
    "version": 3
   },
   "file_extension": ".py",
   "mimetype": "text/x-python",
   "name": "python",
   "nbconvert_exporter": "python",
   "pygments_lexer": "ipython3",
   "version": "3.7.3"
  },
  "widgets": {
   "application/vnd.jupyter.widget-state+json": {
    "state": {},
    "version_major": 2,
    "version_minor": 0
   }
  }
 },
 "nbformat": 4,
 "nbformat_minor": 4
}
