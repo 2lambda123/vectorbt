{
 "cells": [
  {
   "cell_type": "code",
   "execution_count": 1,
   "metadata": {},
   "outputs": [],
   "source": [
    ">>> import numpy as np\n",
    ">>> import pandas as pd\n",
    ">>> from numba import njit\n",
    ">>> from vectorbt.portfolio.nb import simulate_row_wise_nb\n",
    ">>> from vectorbt.portfolio.enums import Order, SizeType\n",
    "\n",
    ">>> price = np.array([1., 2., 3., 4., 5.])\n",
    ">>> group_counts = np.array([2, 1])\n",
    ">>> init_cash = np.array([100., 100., 100.])\n",
    ">>> cash_sharing = False\n",
    ">>> fees = 0.001\n",
    ">>> fixed_fees = 1.\n",
    ">>> slippage = 0.001\n",
    "\n",
    ">>> @njit\n",
    "... def row_prep_func_nb(rc):\n",
    "...     if rc.i == 0:\n",
    "...          np.random.seed(rc.i)\n",
    "...          return (np.random.uniform(0, 10, size=rc.target_shape[1]),)\n",
    "...     return (np.roll(rc.shares[rc.i - 1, :], 1),)\n",
    "\n",
    ">>> @njit\n",
    "... def order_func_nb(oc, order_size):\n",
    "...     return Order(\n",
    "...         order_size[oc.col],\n",
    "...         SizeType.TargetShares,\n",
    "...         price[oc.i],\n",
    "...         fees,\n",
    "...         fixed_fees,\n",
    "...         slippage\n",
    "...     )\n",
    ">>> order_records, cash, shares = simulate_row_wise_nb((5, 3),\n",
    "...     group_counts, init_cash, cash_sharing, row_prep_func_nb, (), order_func_nb, ())"
   ]
  },
  {
   "cell_type": "code",
   "execution_count": 2,
   "metadata": {},
   "outputs": [
    {
     "name": "stdout",
     "output_type": "stream",
     "text": [
      "[[5.48813504 7.15189366 6.02763376]\n",
      " [6.02763376 5.48813504 7.15189366]\n",
      " [7.15189366 6.02763376 5.48813504]\n",
      " [5.48813504 7.15189366 6.02763376]\n",
      " [6.02763376 5.48813504 7.15189366]]\n"
     ]
    }
   ],
   "source": [
    "print(shares)"
   ]
  },
  {
   "cell_type": "code",
   "execution_count": 3,
   "metadata": {},
   "outputs": [
    {
     "name": "stdout",
     "output_type": "stream",
     "text": [
      "(5,)\n"
     ]
    }
   ],
   "source": [
    "print(order_records.shape)"
   ]
  },
  {
   "cell_type": "code",
   "execution_count": 37,
   "metadata": {},
   "outputs": [
    {
     "name": "stdout",
     "output_type": "stream",
     "text": [
      "[[93.5008832  91.8337954  92.96030494]\n",
      " [91.41972669 94.15466094 89.70728585]\n",
      " [87.04019804 91.53292616 93.68858416]\n",
      " [92.68192913 86.02688798 90.52627113]\n",
      " [88.97903784 93.32905183 83.89372339]]\n"
     ]
    }
   ],
   "source": [
    "print(cash)"
   ]
  },
  {
   "cell_type": "code",
   "execution_count": null,
   "metadata": {},
   "outputs": [],
   "source": []
  },
  {
   "cell_type": "code",
   "execution_count": null,
   "metadata": {},
   "outputs": [],
   "source": []
  }
 ],
 "metadata": {
  "kernelspec": {
   "display_name": "Python 3",
   "language": "python",
   "name": "python3"
  },
  "language_info": {
   "codemirror_mode": {
    "name": "ipython",
    "version": 3
   },
   "file_extension": ".py",
   "mimetype": "text/x-python",
   "name": "python",
   "nbconvert_exporter": "python",
   "pygments_lexer": "ipython3",
   "version": "3.7.3"
  },
  "widgets": {
   "application/vnd.jupyter.widget-state+json": {
    "state": {},
    "version_major": 2,
    "version_minor": 0
   }
  }
 },
 "nbformat": 4,
 "nbformat_minor": 4
}
