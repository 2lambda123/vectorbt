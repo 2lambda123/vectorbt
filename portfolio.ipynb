{
 "cells": [
  {
   "cell_type": "code",
   "execution_count": 1,
   "metadata": {},
   "outputs": [
    {
     "name": "stdout",
     "output_type": "stream",
     "text": [
      "(5,) (5, 3)\n",
      "(1000, 1) (1000, 1000)\n"
     ]
    }
   ],
   "source": [
    "import vectorbt as vbt\n",
    "from vectorbt.portfolio.enums import SizeType, AccumulateExitMode, ConflictMode, CallSeqType\n",
    "\n",
    "import numpy as np\n",
    "import pandas as pd\n",
    "from numba import njit\n",
    "from datetime import datetime, timedelta\n",
    "\n",
    "seed = 42\n",
    "\n",
    "price = pd.Series([1., 2., 3., 4., 5.], index=pd.Index([\n",
    "    datetime(2020, 1, 1),\n",
    "    datetime(2020, 1, 2),\n",
    "    datetime(2020, 1, 3),\n",
    "    datetime(2020, 1, 4),\n",
    "    datetime(2020, 1, 5)\n",
    "]))\n",
    "price_wide = price.vbt.tile(3, keys=['a', 'b', 'c'])\n",
    "print(price.shape, price_wide.shape)\n",
    "\n",
    "big_price = pd.DataFrame(np.random.uniform(size=(1000,)))\n",
    "big_price.index = [datetime(2018, 1, 1) + timedelta(days=i) for i in range(1000)]\n",
    "big_price_wide = big_price.vbt.tile(1000)\n",
    "print(big_price.shape, big_price_wide.shape)\n",
    "\n",
    "# Disable caching for performance testing\n",
    "# NOTE: Expect waterfall of executions, since some attributes depend on other attributes \n",
    "# that have to be calculated again and again\n",
    "vbt.defaults.caching = False"
   ]
  },
  {
   "cell_type": "markdown",
   "metadata": {},
   "source": [
    "## from_signals"
   ]
  },
  {
   "cell_type": "code",
   "execution_count": 2,
   "metadata": {},
   "outputs": [
    {
     "name": "stdout",
     "output_type": "stream",
     "text": [
      "(5,) (5, 3)\n",
      "(5,) (5, 3)\n",
      "(1000,) (1000, 1000)\n",
      "(1000,) (1000, 1000)\n"
     ]
    }
   ],
   "source": [
    "entries = pd.Series([True, True, True, False, False], index=price.index)\n",
    "entries_wide = entries.vbt.tile(3, keys=['a', 'b', 'c'])\n",
    "print(entries.shape, entries_wide.shape)\n",
    "\n",
    "exits = pd.Series([False, False, True, True, True], index=price.index)\n",
    "exits_wide = exits.vbt.tile(3, keys=['a', 'b', 'c'])\n",
    "print(exits.shape, exits_wide.shape)\n",
    "\n",
    "big_entries = pd.DataFrame.vbt.signals.empty((1000,), index=big_price.index)\n",
    "big_entries.iloc[0::2] = True\n",
    "big_entries_wide = big_entries.vbt.tile(1000)\n",
    "print(big_entries.shape, big_entries_wide.shape)\n",
    "\n",
    "big_exits = pd.DataFrame.vbt.signals.empty((1000,), index=big_price.index)\n",
    "big_exits.iloc[1::2] = True\n",
    "big_exits_wide = big_exits.vbt.tile(1000)\n",
    "print(big_exits.shape, big_exits_wide.shape)"
   ]
  },
  {
   "cell_type": "code",
   "execution_count": 4,
   "metadata": {},
   "outputs": [
    {
     "name": "stdout",
     "output_type": "stream",
     "text": [
      "2.17 ms ± 86.9 µs per loop (mean ± std. dev. of 7 runs, 100 loops each)\n"
     ]
    }
   ],
   "source": [
    "%timeit vbt.Portfolio.from_signals(\\\n",
    "    big_price, big_entries, big_exits,\\\n",
    "    size=1., init_cash=np.inf, accumulate=True)"
   ]
  },
  {
   "cell_type": "code",
   "execution_count": 5,
   "metadata": {},
   "outputs": [
    {
     "name": "stdout",
     "output_type": "stream",
     "text": [
      "78.1 ms ± 9.22 ms per loop (mean ± std. dev. of 7 runs, 1 loop each)\n"
     ]
    }
   ],
   "source": [
    "%timeit vbt.Portfolio.from_signals(\\\n",
    "    big_price_wide, big_entries_wide, big_exits_wide,\\\n",
    "    size=1., init_cash=np.inf, accumulate=True)"
   ]
  },
  {
   "cell_type": "code",
   "execution_count": 6,
   "metadata": {},
   "outputs": [
    {
     "name": "stdout",
     "output_type": "stream",
     "text": [
      "75.6 ms ± 5.3 ms per loop (mean ± std. dev. of 7 runs, 10 loops each)\n"
     ]
    }
   ],
   "source": [
    "%timeit vbt.Portfolio.from_signals(\\\n",
    "    big_price_wide, big_entries_wide, big_exits_wide,\\\n",
    "    size=1., init_cash=np.inf, accumulate=True,\\\n",
    "    group_by=np.repeat(np.arange(500), 2))"
   ]
  },
  {
   "cell_type": "code",
   "execution_count": 7,
   "metadata": {},
   "outputs": [
    {
     "name": "stdout",
     "output_type": "stream",
     "text": [
      "74.5 ms ± 6.85 ms per loop (mean ± std. dev. of 7 runs, 10 loops each)\n"
     ]
    }
   ],
   "source": [
    "%timeit vbt.Portfolio.from_signals(\\\n",
    "    big_price_wide, big_entries_wide, big_exits_wide,\\\n",
    "    size=1., init_cash=np.inf, accumulate=True,\\\n",
    "    group_by=np.full(1000, 0))"
   ]
  },
  {
   "cell_type": "code",
   "execution_count": 8,
   "metadata": {},
   "outputs": [
    {
     "name": "stdout",
     "output_type": "stream",
     "text": [
      "79.7 ms ± 9.17 ms per loop (mean ± std. dev. of 7 runs, 1 loop each)\n"
     ]
    }
   ],
   "source": [
    "%timeit vbt.Portfolio.from_signals(\\\n",
    "    big_price_wide, big_entries_wide, big_exits_wide,\\\n",
    "    size=1., init_cash=np.inf, accumulate=True,\\\n",
    "    group_by=np.full(1000, 0), cash_sharing=True)"
   ]
  },
  {
   "cell_type": "code",
   "execution_count": 9,
   "metadata": {},
   "outputs": [
    {
     "name": "stdout",
     "output_type": "stream",
     "text": [
      "   col  idx   size  price  fees  side\n",
      "0    0    0  100.0    1.0   0.0     0\n",
      "1    0    3  100.0    4.0   0.0     1\n"
     ]
    }
   ],
   "source": [
    "portfolio = vbt.Portfolio.from_signals(price, entries, exits)\n",
    "\n",
    "print(portfolio.orders.records)"
   ]
  },
  {
   "cell_type": "code",
   "execution_count": 10,
   "metadata": {},
   "outputs": [
    {
     "name": "stdout",
     "output_type": "stream",
     "text": [
      "   col  idx   size  price  fees  side\n",
      "0    0    0  100.0    1.0   0.0     0\n",
      "1    0    3  100.0    4.0   0.0     1\n",
      "2    1    0  100.0    1.0   0.0     0\n",
      "3    1    3  100.0    4.0   0.0     1\n",
      "4    2    0  100.0    1.0   0.0     0\n",
      "5    2    3  100.0    4.0   0.0     1\n"
     ]
    }
   ],
   "source": [
    "portfolio = vbt.Portfolio.from_signals(price_wide, entries, exits)\n",
    "\n",
    "print(portfolio.orders.records)"
   ]
  },
  {
   "cell_type": "code",
   "execution_count": 11,
   "metadata": {},
   "outputs": [
    {
     "name": "stdout",
     "output_type": "stream",
     "text": [
      "   col  idx   size  price  fees  side\n",
      "0    0    0  100.0    1.0   0.0     0\n",
      "1    0    3  100.0    4.0   0.0     1\n",
      "2    1    0  100.0    1.0   0.0     0\n",
      "3    1    3  100.0    4.0   0.0     1\n",
      "4    2    0  100.0    1.0   0.0     0\n",
      "5    2    3  100.0    4.0   0.0     1\n"
     ]
    }
   ],
   "source": [
    "portfolio = vbt.Portfolio.from_signals(\n",
    "    price_wide, entries, exits, \n",
    "    group_by=np.array([0, 0, 1]))\n",
    "\n",
    "print(portfolio.orders.records)"
   ]
  },
  {
   "cell_type": "code",
   "execution_count": 12,
   "metadata": {},
   "outputs": [
    {
     "name": "stdout",
     "output_type": "stream",
     "text": [
      "   col  idx   size  price  fees  side\n",
      "0    0    0  100.0    1.0   0.0     0\n",
      "1    0    3  100.0    4.0   0.0     1\n",
      "2    2    0  100.0    1.0   0.0     0\n",
      "3    2    3  100.0    4.0   0.0     1\n",
      "            a  b  c\n",
      "2020-01-01  0  1  0\n",
      "2020-01-02  0  1  0\n",
      "2020-01-03  0  1  0\n",
      "2020-01-04  0  1  0\n",
      "2020-01-05  0  1  0\n"
     ]
    }
   ],
   "source": [
    "portfolio = vbt.Portfolio.from_signals(\n",
    "    price_wide, entries, exits, \n",
    "    group_by=np.array([0, 0, 1]), cash_sharing=True)\n",
    "\n",
    "print(portfolio.orders.records)\n",
    "print(portfolio.call_seq)"
   ]
  },
  {
   "cell_type": "code",
   "execution_count": 13,
   "metadata": {},
   "outputs": [
    {
     "name": "stdout",
     "output_type": "stream",
     "text": [
      "   col  idx   size  price  fees  side\n",
      "0    1    0  100.0    1.0   0.0     0\n",
      "1    1    3  100.0    4.0   0.0     1\n",
      "2    2    0  100.0    1.0   0.0     0\n",
      "3    2    3  100.0    4.0   0.0     1\n",
      "            a  b  c\n",
      "2020-01-01  1  0  0\n",
      "2020-01-02  1  0  0\n",
      "2020-01-03  1  0  0\n",
      "2020-01-04  1  0  0\n",
      "2020-01-05  1  0  0\n"
     ]
    }
   ],
   "source": [
    "portfolio = vbt.Portfolio.from_signals(\n",
    "    price_wide, entries, exits, \n",
    "    group_by=np.array([0, 0, 1]), cash_sharing=True, call_seq=CallSeqType.Reversed)\n",
    "\n",
    "print(portfolio.orders.records)\n",
    "print(portfolio.call_seq)"
   ]
  },
  {
   "cell_type": "code",
   "execution_count": 14,
   "metadata": {},
   "outputs": [
    {
     "name": "stdout",
     "output_type": "stream",
     "text": [
      "   col  idx   size  price  fees  side\n",
      "0    0    0  100.0    1.0   0.0     0\n",
      "1    0    3  100.0    4.0   0.0     1\n",
      "2    2    0  100.0    1.0   0.0     0\n",
      "3    2    3  100.0    4.0   0.0     1\n",
      "            a  b  c\n",
      "2020-01-01  0  1  0\n",
      "2020-01-02  0  1  0\n",
      "2020-01-03  0  1  0\n",
      "2020-01-04  1  0  0\n",
      "2020-01-05  0  1  0\n"
     ]
    }
   ],
   "source": [
    "portfolio = vbt.Portfolio.from_signals(\n",
    "    price_wide, entries, exits, \n",
    "    group_by=np.array([0, 0, 1]), cash_sharing=True, call_seq=CallSeqType.Random)\n",
    "\n",
    "print(portfolio.orders.records)\n",
    "print(portfolio.call_seq)"
   ]
  },
  {
   "cell_type": "code",
   "execution_count": 15,
   "metadata": {},
   "outputs": [
    {
     "name": "stdout",
     "output_type": "stream",
     "text": [
      "   col  idx  size  price  fees  side\n",
      "0    0    0   1.0    1.0  0.01     0\n",
      "1    0    3   1.0    4.0  0.04     1\n"
     ]
    }
   ],
   "source": [
    "portfolio = vbt.Portfolio.from_signals(price, entries, exits, size=1., fees=0.01)\n",
    "\n",
    "print(portfolio.orders.records)"
   ]
  },
  {
   "cell_type": "code",
   "execution_count": 16,
   "metadata": {},
   "outputs": [
    {
     "name": "stdout",
     "output_type": "stream",
     "text": [
      "   col  idx  size  price  fees  side\n",
      "0    0    0   1.0    1.0   1.0     0\n",
      "1    0    3   1.0    4.0   1.0     1\n"
     ]
    }
   ],
   "source": [
    "portfolio = vbt.Portfolio.from_signals(price, entries, exits, size=1., fixed_fees=1.)\n",
    "\n",
    "print(portfolio.orders.records)"
   ]
  },
  {
   "cell_type": "code",
   "execution_count": 17,
   "metadata": {},
   "outputs": [
    {
     "name": "stdout",
     "output_type": "stream",
     "text": [
      "   col  idx  size  price  fees  side\n",
      "0    0    0   1.0   1.01   0.0     0\n",
      "1    0    3   1.0   3.96   0.0     1\n"
     ]
    }
   ],
   "source": [
    "portfolio = vbt.Portfolio.from_signals(price, entries, exits, size=1., slippage=0.01)\n",
    "\n",
    "print(portfolio.orders.records)"
   ]
  },
  {
   "cell_type": "code",
   "execution_count": 18,
   "metadata": {},
   "outputs": [
    {
     "name": "stdout",
     "output_type": "stream",
     "text": [
      "   col  idx  size  price  fees  side\n",
      "0    0    0   1.0   1.01   0.0     0\n",
      "1    0    3   1.0   3.96   0.0     1\n"
     ]
    }
   ],
   "source": [
    "portfolio = vbt.Portfolio.from_signals(\n",
    "    price, entries, exits, size=1., \n",
    "    entry_price=price*1.01, exit_price=price*0.99)\n",
    "\n",
    "print(portfolio.orders.records)"
   ]
  },
  {
   "cell_type": "code",
   "execution_count": 19,
   "metadata": {},
   "outputs": [
    {
     "name": "stdout",
     "output_type": "stream",
     "text": [
      "   col  idx  size  price  fees  side\n",
      "0    0    0   1.0    1.0   0.0     0\n",
      "1    0    3   1.0    4.0   0.0     1\n"
     ]
    }
   ],
   "source": [
    "portfolio = vbt.Portfolio.from_signals(\n",
    "    price, entries, exits, size=1., \n",
    "    size_type=SizeType.Shares, accumulate=False)\n",
    "\n",
    "print(portfolio.orders.records)"
   ]
  },
  {
   "cell_type": "code",
   "execution_count": 20,
   "metadata": {},
   "outputs": [
    {
     "name": "stdout",
     "output_type": "stream",
     "text": [
      "   col  idx  size  price  fees  side\n",
      "0    0    0   1.0    1.0   0.0     0\n",
      "1    0    3   1.0    4.0   0.0     1\n"
     ]
    }
   ],
   "source": [
    "portfolio = vbt.Portfolio.from_signals(\n",
    "    price, entries, exits, size=1., \n",
    "    size_type=SizeType.Cash, accumulate=False)\n",
    "\n",
    "print(portfolio.orders.records)"
   ]
  },
  {
   "cell_type": "code",
   "execution_count": 21,
   "metadata": {},
   "outputs": [
    {
     "name": "stdout",
     "output_type": "stream",
     "text": [
      "   col  idx  size  price  fees  side\n",
      "0    0    0   1.0    1.0   0.0     0\n",
      "1    0    1   1.0    2.0   0.0     0\n",
      "2    0    3   2.0    4.0   0.0     1\n"
     ]
    }
   ],
   "source": [
    "portfolio = vbt.Portfolio.from_signals(\n",
    "    price, entries, exits, size=1., size_type=SizeType.Shares, \n",
    "    accumulate=True, accumulate_exit_mode=AccumulateExitMode.Close)\n",
    "\n",
    "print(portfolio.orders.records)"
   ]
  },
  {
   "cell_type": "code",
   "execution_count": 22,
   "metadata": {},
   "outputs": [
    {
     "name": "stdout",
     "output_type": "stream",
     "text": [
      "   col  idx  size  price  fees  side\n",
      "0    0    0   1.0    1.0   0.0     0\n",
      "1    0    1   0.5    2.0   0.0     0\n",
      "2    0    3   1.5    4.0   0.0     1\n"
     ]
    }
   ],
   "source": [
    "portfolio = vbt.Portfolio.from_signals(\n",
    "    price, entries, exits, size=1., size_type=SizeType.Cash, \n",
    "    accumulate=True, accumulate_exit_mode=AccumulateExitMode.Close)\n",
    "\n",
    "print(portfolio.orders.records)"
   ]
  },
  {
   "cell_type": "code",
   "execution_count": 23,
   "metadata": {},
   "outputs": [
    {
     "name": "stdout",
     "output_type": "stream",
     "text": [
      "   col  idx  size  price  fees  side\n",
      "0    0    0   1.0    1.0   0.0     0\n",
      "1    0    1   1.0    2.0   0.0     0\n",
      "2    0    3   1.0    4.0   0.0     1\n",
      "3    0    4   1.0    4.0   0.0     1\n"
     ]
    }
   ],
   "source": [
    "portfolio = vbt.Portfolio.from_signals(\n",
    "    price, entries, exits, size=1., size_type=SizeType.Shares, \n",
    "    accumulate=True, accumulate_exit_mode=AccumulateExitMode.Reduce)\n",
    "\n",
    "print(portfolio.orders.records)"
   ]
  },
  {
   "cell_type": "code",
   "execution_count": 24,
   "metadata": {},
   "outputs": [
    {
     "name": "stdout",
     "output_type": "stream",
     "text": [
      "   col  idx  size  price  fees  side\n",
      "0    0    0  1.00    1.0   0.0     0\n",
      "1    0    1  0.50    2.0   0.0     0\n",
      "2    0    3  0.25    4.0   0.0     1\n",
      "3    0    4  0.25    4.0   0.0     1\n"
     ]
    }
   ],
   "source": [
    "portfolio = vbt.Portfolio.from_signals(\n",
    "    price, entries, exits, size=1., size_type=SizeType.Cash, \n",
    "    accumulate=True, accumulate_exit_mode=AccumulateExitMode.Reduce)\n",
    "\n",
    "print(portfolio.orders.records)"
   ]
  },
  {
   "cell_type": "code",
   "execution_count": 25,
   "metadata": {},
   "outputs": [
    {
     "name": "stdout",
     "output_type": "stream",
     "text": [
      "   col  idx  size  price  fees  side\n",
      "0    0    0   1.0    1.0   0.0     0\n",
      "1    0    1   1.0    2.0   0.0     0\n",
      "2    0    2   2.0    3.0   0.0     1\n"
     ]
    }
   ],
   "source": [
    "portfolio = vbt.Portfolio.from_signals(\n",
    "    price, entries, exits, size=1., size_type=SizeType.Shares, \n",
    "    accumulate=True, conflict_mode=ConflictMode.Exit)\n",
    "\n",
    "print(portfolio.orders.records)"
   ]
  },
  {
   "cell_type": "code",
   "execution_count": 26,
   "metadata": {},
   "outputs": [
    {
     "name": "stdout",
     "output_type": "stream",
     "text": [
      "   col  idx  size  price  fees  side\n",
      "0    0    0   1.0    1.0   0.0     0\n",
      "1    0    1   0.5    2.0   0.0     0\n",
      "2    0    2   1.5    3.0   0.0     1\n"
     ]
    }
   ],
   "source": [
    "portfolio = vbt.Portfolio.from_signals(\n",
    "    price, entries, exits, size=1., size_type=SizeType.Cash, \n",
    "    accumulate=True, conflict_mode=ConflictMode.Exit)\n",
    "\n",
    "print(portfolio.orders.records)"
   ]
  },
  {
   "cell_type": "code",
   "execution_count": 27,
   "metadata": {},
   "outputs": [
    {
     "name": "stdout",
     "output_type": "stream",
     "text": [
      "   col  idx  size  price  fees  side\n",
      "0    0    0   1.0    1.0   0.0     0\n",
      "1    0    1   1.0    2.0   0.0     0\n",
      "2    0    2   1.0    3.0   0.0     1\n",
      "3    0    3   1.0    4.0   0.0     1\n"
     ]
    }
   ],
   "source": [
    "portfolio = vbt.Portfolio.from_signals(\n",
    "    price, entries, exits, size=1., size_type=SizeType.Shares, \n",
    "    accumulate=True, conflict_mode=ConflictMode.ExitAndEntry)\n",
    "\n",
    "print(portfolio.orders.records)"
   ]
  },
  {
   "cell_type": "code",
   "execution_count": 28,
   "metadata": {},
   "outputs": [
    {
     "name": "stdout",
     "output_type": "stream",
     "text": [
      "   col  idx      size  price  fees  side\n",
      "0    0    0  1.000000    1.0   0.0     0\n",
      "1    0    1  0.500000    2.0   0.0     0\n",
      "2    0    2  1.166667    3.0   0.0     1\n",
      "3    0    3  0.333333    4.0   0.0     1\n"
     ]
    }
   ],
   "source": [
    "portfolio = vbt.Portfolio.from_signals(\n",
    "    price, entries, exits, size=1., size_type=SizeType.Cash, \n",
    "    accumulate=True, conflict_mode=ConflictMode.ExitAndEntry)\n",
    "\n",
    "print(portfolio.orders.records)"
   ]
  },
  {
   "cell_type": "markdown",
   "metadata": {},
   "source": [
    "## from_orders"
   ]
  },
  {
   "cell_type": "code",
   "execution_count": 49,
   "metadata": {},
   "outputs": [],
   "source": [
    "order_size = pd.Series([np.inf, -np.inf, np.nan, np.inf, -np.inf], index=price.index)\n",
    "order_size_wide = order_size.vbt.tile(3, keys=['a', 'b', 'c'])\n",
    "\n",
    "big_order_size = pd.DataFrame.vbt.empty((1000,), 1, dtype=np.float_)\n",
    "big_order_size.iloc[1::2] = -1\n",
    "big_order_size_wide = big_order_size.vbt.tile(1000)"
   ]
  },
  {
   "cell_type": "code",
   "execution_count": 30,
   "metadata": {},
   "outputs": [
    {
     "name": "stdout",
     "output_type": "stream",
     "text": [
      "1.66 ms ± 208 µs per loop (mean ± std. dev. of 7 runs, 1 loop each)\n"
     ]
    }
   ],
   "source": [
    "%timeit vbt.Portfolio.from_orders(big_price, big_order_size, init_cash=np.inf)"
   ]
  },
  {
   "cell_type": "code",
   "execution_count": 31,
   "metadata": {},
   "outputs": [
    {
     "name": "stdout",
     "output_type": "stream",
     "text": [
      "70.9 ms ± 7.01 ms per loop (mean ± std. dev. of 7 runs, 1 loop each)\n"
     ]
    }
   ],
   "source": [
    "%timeit vbt.Portfolio.from_orders(big_price_wide, big_order_size_wide, init_cash=np.inf)"
   ]
  },
  {
   "cell_type": "code",
   "execution_count": 32,
   "metadata": {},
   "outputs": [
    {
     "name": "stdout",
     "output_type": "stream",
     "text": [
      "70.2 ms ± 9.65 ms per loop (mean ± std. dev. of 7 runs, 10 loops each)\n"
     ]
    }
   ],
   "source": [
    "%timeit vbt.Portfolio.from_orders(\\\n",
    "    big_price_wide, big_order_size_wide, init_cash=np.inf, \\\n",
    "    group_by=np.repeat(np.arange(500), 2))"
   ]
  },
  {
   "cell_type": "code",
   "execution_count": 33,
   "metadata": {},
   "outputs": [
    {
     "name": "stdout",
     "output_type": "stream",
     "text": [
      "66.5 ms ± 5.65 ms per loop (mean ± std. dev. of 7 runs, 10 loops each)\n"
     ]
    }
   ],
   "source": [
    "%timeit vbt.Portfolio.from_orders(\\\n",
    "    big_price_wide, big_order_size_wide, init_cash=np.inf, \\\n",
    "    group_by=np.full(1000, 0))"
   ]
  },
  {
   "cell_type": "code",
   "execution_count": 34,
   "metadata": {},
   "outputs": [
    {
     "name": "stdout",
     "output_type": "stream",
     "text": [
      "73.9 ms ± 8.26 ms per loop (mean ± std. dev. of 7 runs, 1 loop each)\n"
     ]
    }
   ],
   "source": [
    "%timeit vbt.Portfolio.from_orders(\\\n",
    "    big_price_wide, big_order_size_wide, init_cash=np.inf, \\\n",
    "    group_by=np.full(1000, 0), cash_sharing=True)"
   ]
  },
  {
   "cell_type": "code",
   "execution_count": 50,
   "metadata": {},
   "outputs": [
    {
     "name": "stdout",
     "output_type": "stream",
     "text": [
      "   col  idx   size  price  fees  side\n",
      "0    0    0  100.0    1.0   0.0     0\n",
      "1    0    1  100.0    2.0   0.0     1\n",
      "2    0    3   50.0    4.0   0.0     0\n",
      "3    0    4   50.0    4.0   0.0     1\n"
     ]
    }
   ],
   "source": [
    "portfolio = vbt.Portfolio.from_orders(price, order_size)\n",
    "\n",
    "print(portfolio.orders.records)"
   ]
  },
  {
   "cell_type": "code",
   "execution_count": 51,
   "metadata": {},
   "outputs": [
    {
     "name": "stdout",
     "output_type": "stream",
     "text": [
      "    col  idx   size  price  fees  side\n",
      "0     0    0  100.0    1.0   0.0     0\n",
      "1     0    1  100.0    2.0   0.0     1\n",
      "2     0    3   50.0    4.0   0.0     0\n",
      "3     0    4   50.0    4.0   0.0     1\n",
      "4     1    0  100.0    1.0   0.0     0\n",
      "5     1    1  100.0    2.0   0.0     1\n",
      "6     1    3   50.0    4.0   0.0     0\n",
      "7     1    4   50.0    4.0   0.0     1\n",
      "8     2    0  100.0    1.0   0.0     0\n",
      "9     2    1  100.0    2.0   0.0     1\n",
      "10    2    3   50.0    4.0   0.0     0\n",
      "11    2    4   50.0    4.0   0.0     1\n"
     ]
    }
   ],
   "source": [
    "portfolio = vbt.Portfolio.from_orders(price_wide, order_size)\n",
    "\n",
    "print(portfolio.orders.records)"
   ]
  },
  {
   "cell_type": "code",
   "execution_count": 52,
   "metadata": {},
   "outputs": [
    {
     "name": "stdout",
     "output_type": "stream",
     "text": [
      "    col  idx   size  price  fees  side\n",
      "0     0    0  100.0    1.0   0.0     0\n",
      "1     0    1  100.0    2.0   0.0     1\n",
      "2     0    3   50.0    4.0   0.0     0\n",
      "3     0    4   50.0    4.0   0.0     1\n",
      "4     1    0  100.0    1.0   0.0     0\n",
      "5     1    1  100.0    2.0   0.0     1\n",
      "6     1    3   50.0    4.0   0.0     0\n",
      "7     1    4   50.0    4.0   0.0     1\n",
      "8     2    0  100.0    1.0   0.0     0\n",
      "9     2    1  100.0    2.0   0.0     1\n",
      "10    2    3   50.0    4.0   0.0     0\n",
      "11    2    4   50.0    4.0   0.0     1\n"
     ]
    }
   ],
   "source": [
    "portfolio = vbt.Portfolio.from_orders(\n",
    "    price_wide, order_size, \n",
    "    group_by=np.array([0, 0, 1]))\n",
    "\n",
    "print(portfolio.orders.records)"
   ]
  },
  {
   "cell_type": "code",
   "execution_count": 53,
   "metadata": {},
   "outputs": [
    {
     "name": "stdout",
     "output_type": "stream",
     "text": [
      "   col  idx   size  price  fees  side\n",
      "0    0    0  100.0    1.0   0.0     0\n",
      "1    0    1  100.0    2.0   0.0     1\n",
      "2    0    3   50.0    4.0   0.0     0\n",
      "3    0    4   50.0    4.0   0.0     1\n",
      "4    2    0  100.0    1.0   0.0     0\n",
      "5    2    1  100.0    2.0   0.0     1\n",
      "6    2    3   50.0    4.0   0.0     0\n",
      "7    2    4   50.0    4.0   0.0     1\n",
      "            a  b  c\n",
      "2020-01-01  0  1  0\n",
      "2020-01-02  0  1  0\n",
      "2020-01-03  0  1  0\n",
      "2020-01-04  0  1  0\n",
      "2020-01-05  0  1  0\n"
     ]
    }
   ],
   "source": [
    "portfolio = vbt.Portfolio.from_orders(\n",
    "    price_wide, order_size, \n",
    "    group_by=np.array([0, 0, 1]), cash_sharing=True)\n",
    "\n",
    "print(portfolio.orders.records)\n",
    "print(portfolio.call_seq)"
   ]
  },
  {
   "cell_type": "code",
   "execution_count": 54,
   "metadata": {},
   "outputs": [
    {
     "name": "stdout",
     "output_type": "stream",
     "text": [
      "   col  idx   size  price  fees  side\n",
      "0    1    0  100.0    1.0   0.0     0\n",
      "1    1    1  100.0    2.0   0.0     1\n",
      "2    1    3   50.0    4.0   0.0     0\n",
      "3    1    4   50.0    4.0   0.0     1\n",
      "4    2    0  100.0    1.0   0.0     0\n",
      "5    2    1  100.0    2.0   0.0     1\n",
      "6    2    3   50.0    4.0   0.0     0\n",
      "7    2    4   50.0    4.0   0.0     1\n",
      "            a  b  c\n",
      "2020-01-01  1  0  0\n",
      "2020-01-02  1  0  0\n",
      "2020-01-03  1  0  0\n",
      "2020-01-04  1  0  0\n",
      "2020-01-05  1  0  0\n"
     ]
    }
   ],
   "source": [
    "portfolio = vbt.Portfolio.from_orders(\n",
    "    price_wide, order_size, \n",
    "    group_by=np.array([0, 0, 1]), cash_sharing=True, call_seq=CallSeqType.Reversed)\n",
    "\n",
    "print(portfolio.orders.records)\n",
    "print(portfolio.call_seq)"
   ]
  },
  {
   "cell_type": "code",
   "execution_count": 56,
   "metadata": {},
   "outputs": [
    {
     "name": "stdout",
     "output_type": "stream",
     "text": [
      "   col  idx   size  price  fees  side\n",
      "0    0    0  100.0    1.0   0.0     0\n",
      "1    0    1  100.0    2.0   0.0     1\n",
      "2    0    3   50.0    4.0   0.0     0\n",
      "3    0    4   50.0    4.0   0.0     1\n",
      "4    2    0  100.0    1.0   0.0     0\n",
      "5    2    1  100.0    2.0   0.0     1\n",
      "6    2    3   50.0    4.0   0.0     0\n",
      "7    2    4   50.0    4.0   0.0     1\n",
      "            a  b  c\n",
      "2020-01-01  0  1  0\n",
      "2020-01-02  0  1  0\n",
      "2020-01-03  1  0  0\n",
      "2020-01-04  0  1  0\n",
      "2020-01-05  1  0  0\n"
     ]
    }
   ],
   "source": [
    "portfolio = vbt.Portfolio.from_orders(\n",
    "    price_wide, order_size, \n",
    "    group_by=np.array([0, 0, 1]), cash_sharing=True, call_seq=CallSeqType.Random)\n",
    "\n",
    "print(portfolio.orders.records)\n",
    "print(portfolio.call_seq)"
   ]
  },
  {
   "cell_type": "code",
   "execution_count": 61,
   "metadata": {},
   "outputs": [],
   "source": [
    "order_size_one = pd.Series([1, -1, np.nan, 1, -1], index=price.index)"
   ]
  },
  {
   "cell_type": "code",
   "execution_count": 62,
   "metadata": {},
   "outputs": [
    {
     "name": "stdout",
     "output_type": "stream",
     "text": [
      "   col  idx  size  price  fees  side\n",
      "0    0    0   1.0    1.0  0.01     0\n",
      "1    0    1   1.0    2.0  0.02     1\n",
      "2    0    3   1.0    4.0  0.04     0\n",
      "3    0    4   1.0    4.0  0.04     1\n"
     ]
    }
   ],
   "source": [
    "portfolio = vbt.Portfolio.from_orders(price, order_size_one, fees=0.01)\n",
    "\n",
    "print(portfolio.orders.records)"
   ]
  },
  {
   "cell_type": "code",
   "execution_count": 63,
   "metadata": {},
   "outputs": [
    {
     "name": "stdout",
     "output_type": "stream",
     "text": [
      "   col  idx  size  price  fees  side\n",
      "0    0    0   1.0    1.0   1.0     0\n",
      "1    0    1   1.0    2.0   1.0     1\n",
      "2    0    3   1.0    4.0   1.0     0\n",
      "3    0    4   1.0    4.0   1.0     1\n"
     ]
    }
   ],
   "source": [
    "portfolio = vbt.Portfolio.from_orders(price, order_size_one, fixed_fees=1.)\n",
    "\n",
    "print(portfolio.orders.records)"
   ]
  },
  {
   "cell_type": "code",
   "execution_count": 64,
   "metadata": {},
   "outputs": [
    {
     "name": "stdout",
     "output_type": "stream",
     "text": [
      "   col  idx  size  price  fees  side\n",
      "0    0    0   1.0   1.01   0.0     0\n",
      "1    0    1   1.0   1.98   0.0     1\n",
      "2    0    3   1.0   4.04   0.0     0\n",
      "3    0    4   1.0   3.96   0.0     1\n"
     ]
    }
   ],
   "source": [
    "portfolio = vbt.Portfolio.from_orders(price, order_size_one, slippage=0.01)\n",
    "\n",
    "print(portfolio.orders.records)"
   ]
  },
  {
   "cell_type": "code",
   "execution_count": 65,
   "metadata": {},
   "outputs": [
    {
     "name": "stdout",
     "output_type": "stream",
     "text": [
      "   col  idx  size  price  fees  side\n",
      "0    0    0   1.0    1.0   0.0     0\n",
      "1    0    1   1.0    2.0   0.0     1\n",
      "2    0    3   1.0    4.0   0.0     0\n",
      "3    0    4   1.0    4.0   0.0     1\n"
     ]
    }
   ],
   "source": [
    "portfolio = vbt.Portfolio.from_orders(price, order_size_one, size_type=SizeType.Shares)\n",
    "\n",
    "print(portfolio.orders.records)"
   ]
  },
  {
   "cell_type": "code",
   "execution_count": 66,
   "metadata": {},
   "outputs": [
    {
     "name": "stdout",
     "output_type": "stream",
     "text": [
      "   col  idx  size  price  fees  side\n",
      "0    0    0  1.00    1.0   0.0     0\n",
      "1    0    1  0.50    2.0   0.0     1\n",
      "2    0    3  0.25    4.0   0.0     0\n",
      "3    0    4  0.25    4.0   0.0     1\n"
     ]
    }
   ],
   "source": [
    "portfolio = vbt.Portfolio.from_orders(price, order_size_one, size_type=SizeType.Cash)\n",
    "\n",
    "print(portfolio.orders.records)"
   ]
  },
  {
   "cell_type": "code",
   "execution_count": 97,
   "metadata": {},
   "outputs": [
    {
     "name": "stdout",
     "output_type": "stream",
     "text": [
      "   col  idx  size  price  fees  side\n",
      "0    0    0  50.0    1.0   0.0     0\n"
     ]
    }
   ],
   "source": [
    "portfolio = vbt.Portfolio.from_orders(price, 50., size_type=SizeType.TargetShares)\n",
    "\n",
    "print(portfolio.orders.records)"
   ]
  },
  {
   "cell_type": "code",
   "execution_count": 96,
   "metadata": {},
   "outputs": [
    {
     "name": "stdout",
     "output_type": "stream",
     "text": [
      "   col  idx  size  price  fees  side\n",
      "0    0    0  50.0    1.0   0.0     0\n",
      "1    1    0  50.0    1.0   0.0     0\n",
      "2    2    0  50.0    1.0   0.0     0\n"
     ]
    }
   ],
   "source": [
    "portfolio = vbt.Portfolio.from_orders(\n",
    "    price_wide, 50., size_type=SizeType.TargetShares, \n",
    "    group_by=np.array([0, 0, 1]), cash_sharing=True)\n",
    "\n",
    "print(portfolio.orders.records)"
   ]
  },
  {
   "cell_type": "code",
   "execution_count": 95,
   "metadata": {},
   "outputs": [
    {
     "name": "stdout",
     "output_type": "stream",
     "text": [
      "   col  idx  size  price  fees  side\n",
      "0    0    0  50.0    1.0   0.0     0\n"
     ]
    }
   ],
   "source": [
    "portfolio = vbt.Portfolio.from_orders(price, 50., size_type=SizeType.TargetCash)\n",
    "\n",
    "print(portfolio.orders.records)"
   ]
  },
  {
   "cell_type": "code",
   "execution_count": 94,
   "metadata": {},
   "outputs": [
    {
     "name": "stdout",
     "output_type": "stream",
     "text": [
      "   col  idx  size  price  fees  side\n",
      "0    0    0  50.0    1.0   0.0     0\n",
      "1    2    0  50.0    1.0   0.0     0\n"
     ]
    }
   ],
   "source": [
    "portfolio = vbt.Portfolio.from_orders(\n",
    "    price_wide, 50., size_type=SizeType.TargetCash, \n",
    "    group_by=np.array([0, 0, 1]), cash_sharing=True)\n",
    "\n",
    "print(portfolio.orders.records)"
   ]
  },
  {
   "cell_type": "code",
   "execution_count": 101,
   "metadata": {},
   "outputs": [
    {
     "name": "stdout",
     "output_type": "stream",
     "text": [
      "   col  idx        size  price  fees  side\n",
      "0    0    0  100.000000    1.0   0.0     0\n",
      "1    0    1   50.000000    2.0   0.0     1\n",
      "2    0    2   16.666667    3.0   0.0     1\n",
      "3    0    3    8.333333    4.0   0.0     1\n"
     ]
    }
   ],
   "source": [
    "portfolio = vbt.Portfolio.from_orders(price, 100., size_type=SizeType.TargetValue)\n",
    "\n",
    "print(portfolio.orders.records)"
   ]
  },
  {
   "cell_type": "code",
   "execution_count": 100,
   "metadata": {},
   "outputs": [
    {
     "name": "stdout",
     "output_type": "stream",
     "text": [
      "    col  idx        size  price  fees  side\n",
      "0     0    0  100.000000    1.0   0.0     0\n",
      "1     0    1   50.000000    2.0   0.0     1\n",
      "2     0    2   16.666667    3.0   0.0     1\n",
      "3     0    3    8.333333    4.0   0.0     1\n",
      "4     1    1   50.000000    2.0   0.0     0\n",
      "5     1    2   16.666667    3.0   0.0     1\n",
      "6     1    3    8.333333    4.0   0.0     1\n",
      "7     2    0  100.000000    1.0   0.0     0\n",
      "8     2    1   50.000000    2.0   0.0     1\n",
      "9     2    2   16.666667    3.0   0.0     1\n",
      "10    2    3    8.333333    4.0   0.0     1\n"
     ]
    }
   ],
   "source": [
    "portfolio = vbt.Portfolio.from_orders(\n",
    "    price_wide, 100., size_type=SizeType.TargetValue, \n",
    "    group_by=np.array([0, 0, 1]), cash_sharing=True)\n",
    "\n",
    "print(portfolio.orders.records)"
   ]
  },
  {
   "cell_type": "code",
   "execution_count": 102,
   "metadata": {},
   "outputs": [
    {
     "name": "stdout",
     "output_type": "stream",
     "text": [
      "   col  idx      size  price  fees  side\n",
      "0    0    0  50.00000    1.0   0.0     0\n",
      "1    0    1  12.50000    2.0   0.0     1\n",
      "2    0    2   6.25000    3.0   0.0     1\n",
      "3    0    3   3.90625    4.0   0.0     1\n"
     ]
    }
   ],
   "source": [
    "portfolio = vbt.Portfolio.from_orders(price, 0.5, size_type=SizeType.TargetPercent)\n",
    "\n",
    "print(portfolio.orders.records)"
   ]
  },
  {
   "cell_type": "code",
   "execution_count": 103,
   "metadata": {},
   "outputs": [
    {
     "name": "stdout",
     "output_type": "stream",
     "text": [
      "    col  idx       size  price  fees  side\n",
      "0     0    0  50.000000    1.0   0.0     0\n",
      "1     0    1  18.750000    2.0   0.0     1\n",
      "2     0    2   6.250000    3.0   0.0     1\n",
      "3     0    3   2.539062    4.0   0.0     1\n",
      "4     0    4   1.025391    4.0   0.0     0\n",
      "5     1    0  25.000000    1.0   0.0     0\n",
      "6     1    1   3.125000    2.0   0.0     0\n",
      "7     1    2   1.562500    3.0   0.0     1\n",
      "8     1    3   2.050781    4.0   0.0     1\n",
      "9     1    4   0.512695    4.0   0.0     1\n",
      "10    2    0  50.000000    1.0   0.0     0\n",
      "11    2    1  12.500000    2.0   0.0     1\n",
      "12    2    2   6.250000    3.0   0.0     1\n",
      "13    2    3   3.906250    4.0   0.0     1\n"
     ]
    }
   ],
   "source": [
    "portfolio = vbt.Portfolio.from_orders(\n",
    "    price_wide, 0.5, size_type=SizeType.TargetPercent, \n",
    "    group_by=np.array([0, 0, 1]), cash_sharing=True)\n",
    "\n",
    "print(portfolio.orders.records)\n",
    "# warning! while each asset sees all available cash, it only sees its own shares & price"
   ]
  },
  {
   "cell_type": "markdown",
   "metadata": {},
   "source": [
    "## from_order_func"
   ]
  },
  {
   "cell_type": "code",
   "execution_count": 2,
   "metadata": {},
   "outputs": [],
   "source": [
    "@njit\n",
    "def order_one_func_nb(oc, price):\n",
    "    if oc.i % 2 == 0:\n",
    "        order_size = 1.\n",
    "    else:\n",
    "        order_size = -1.\n",
    "    if price.ndim == 1:  # flexible indexing\n",
    "        order_price = price[oc.i]\n",
    "    else:\n",
    "        order_price = price[oc.i, oc.col]\n",
    "    return vbt.portfolio.nb.Order(order_size, SizeType.Shares, order_price, 0., 0., 0.)\n",
    "\n",
    "@njit\n",
    "def order_inf_func_nb(oc, price):\n",
    "    if oc.i % 2 == 0:\n",
    "        order_size = np.inf\n",
    "    else:\n",
    "        order_size = -np.inf\n",
    "    if price.ndim == 1:  # flexible indexing\n",
    "        order_price = price[oc.i]\n",
    "    else:\n",
    "        order_price = price[oc.i, oc.col]\n",
    "    return vbt.portfolio.nb.Order(order_size, SizeType.Shares, order_price, 0., 0., 0.)"
   ]
  },
  {
   "cell_type": "code",
   "execution_count": 143,
   "metadata": {},
   "outputs": [
    {
     "name": "stdout",
     "output_type": "stream",
     "text": [
      "The slowest run took 15.77 times longer than the fastest. This could mean that an intermediate result is being cached.\n",
      "2.65 ms ± 2.78 ms per loop (mean ± std. dev. of 7 runs, 1 loop each)\n",
      "539 µs ± 116 µs per loop (mean ± std. dev. of 7 runs, 1 loop each)\n"
     ]
    }
   ],
   "source": [
    "%timeit vbt.Portfolio.from_order_func(\\\n",
    "    big_price, order_one_func_nb, big_price, init_cash=np.inf)\n",
    "%timeit vbt.Portfolio.from_order_func(\\\n",
    "    big_price, order_one_func_nb, big_price, init_cash=np.inf, row_wise=True)"
   ]
  },
  {
   "cell_type": "code",
   "execution_count": 144,
   "metadata": {},
   "outputs": [
    {
     "name": "stdout",
     "output_type": "stream",
     "text": [
      "105 ms ± 8.37 ms per loop (mean ± std. dev. of 7 runs, 1 loop each)\n",
      "114 ms ± 22.7 ms per loop (mean ± std. dev. of 7 runs, 1 loop each)\n"
     ]
    }
   ],
   "source": [
    "%timeit vbt.Portfolio.from_order_func(\\\n",
    "    big_price_wide, order_one_func_nb, big_price_wide, init_cash=np.inf)\n",
    "%timeit vbt.Portfolio.from_order_func(\\\n",
    "    big_price_wide, order_one_func_nb, big_price_wide, init_cash=np.inf, row_wise=True)"
   ]
  },
  {
   "cell_type": "code",
   "execution_count": 145,
   "metadata": {},
   "outputs": [
    {
     "name": "stdout",
     "output_type": "stream",
     "text": [
      "84.6 ms ± 7.04 ms per loop (mean ± std. dev. of 7 runs, 10 loops each)\n",
      "95.6 ms ± 7.05 ms per loop (mean ± std. dev. of 7 runs, 10 loops each)\n"
     ]
    }
   ],
   "source": [
    "%timeit vbt.Portfolio.from_order_func(\\\n",
    "    big_price_wide, order_one_func_nb, big_price_wide, \\\n",
    "    group_by=np.repeat(np.arange(500), 2), init_cash=np.inf)\n",
    "%timeit vbt.Portfolio.from_order_func(\\\n",
    "    big_price_wide, order_one_func_nb, big_price_wide, \\\n",
    "    group_by=np.repeat(np.arange(500), 2), init_cash=np.inf, row_wise=True)"
   ]
  },
  {
   "cell_type": "code",
   "execution_count": 146,
   "metadata": {},
   "outputs": [
    {
     "name": "stdout",
     "output_type": "stream",
     "text": [
      "71.2 ms ± 5.94 ms per loop (mean ± std. dev. of 7 runs, 10 loops each)\n",
      "73.8 ms ± 7.89 ms per loop (mean ± std. dev. of 7 runs, 10 loops each)\n"
     ]
    }
   ],
   "source": [
    "%timeit vbt.Portfolio.from_order_func(\\\n",
    "    big_price_wide, order_one_func_nb, big_price_wide, init_cash=np.inf, \\\n",
    "    group_by=np.full(1000, 0))\n",
    "%timeit vbt.Portfolio.from_order_func(\\\n",
    "    big_price_wide, order_one_func_nb, big_price_wide, init_cash=np.inf, \\\n",
    "    group_by=np.full(1000, 0), row_wise=True)"
   ]
  },
  {
   "cell_type": "code",
   "execution_count": 148,
   "metadata": {},
   "outputs": [
    {
     "name": "stdout",
     "output_type": "stream",
     "text": [
      "76.4 ms ± 4.81 ms per loop (mean ± std. dev. of 7 runs, 1 loop each)\n",
      "83.8 ms ± 24.7 ms per loop (mean ± std. dev. of 7 runs, 1 loop each)\n"
     ]
    }
   ],
   "source": [
    "%timeit vbt.Portfolio.from_order_func(\\\n",
    "    big_price_wide, order_one_func_nb, big_price_wide, init_cash=np.inf, \\\n",
    "    group_by=np.full(1000, 0), cash_sharing=True)\n",
    "%timeit vbt.Portfolio.from_order_func(\\\n",
    "    big_price_wide, order_one_func_nb, big_price_wide, init_cash=np.inf, \\\n",
    "    group_by=np.full(1000, 0), cash_sharing=True, row_wise=True)"
   ]
  },
  {
   "cell_type": "code",
   "execution_count": 4,
   "metadata": {},
   "outputs": [],
   "source": [
    "def test_call_seq(call_seq, **kwargs):\n",
    "    return vbt.Portfolio.from_order_func(\n",
    "        price_wide, \n",
    "        order_one_func_nb, \n",
    "        price_wide, \n",
    "        group_by=np.array([0, 0, 0]),\n",
    "        call_seq=call_seq, **kwargs\n",
    "    ).call_seq\n",
    "\n",
    "def big_test_call_seq(call_seq, **kwargs):\n",
    "    return vbt.Portfolio.from_order_func(\n",
    "        big_price_wide, \n",
    "        order_one_func_nb, \n",
    "        big_price_wide, \n",
    "        group_by=np.repeat(np.arange(500), 2),\n",
    "        call_seq=call_seq, **kwargs\n",
    "    ).call_seq"
   ]
  },
  {
   "cell_type": "code",
   "execution_count": 150,
   "metadata": {},
   "outputs": [
    {
     "name": "stdout",
     "output_type": "stream",
     "text": [
      "            a  b  c\n",
      "2020-01-01  0  1  2\n",
      "2020-01-02  0  1  2\n",
      "2020-01-03  0  1  2\n",
      "2020-01-04  0  1  2\n",
      "2020-01-05  0  1  2\n",
      "86.4 ms ± 6.94 ms per loop (mean ± std. dev. of 7 runs, 10 loops each)\n",
      "            a  b  c\n",
      "2020-01-01  2  1  0\n",
      "2020-01-02  2  1  0\n",
      "2020-01-03  2  1  0\n",
      "2020-01-04  2  1  0\n",
      "2020-01-05  2  1  0\n",
      "87 ms ± 20.5 ms per loop (mean ± std. dev. of 7 runs, 10 loops each)\n",
      "            a  b  c\n",
      "2020-01-01  0  2  1\n",
      "2020-01-02  2  1  0\n",
      "2020-01-03  1  0  2\n",
      "2020-01-04  0  2  1\n",
      "2020-01-05  2  1  0\n",
      "89.4 ms ± 6.19 ms per loop (mean ± std. dev. of 7 runs, 10 loops each)\n",
      "            a  b  c\n",
      "2020-01-01  0  1  2\n",
      "2020-01-02  1  2  0\n",
      "2020-01-03  0  1  2\n",
      "2020-01-04  1  2  0\n",
      "2020-01-05  0  1  2\n",
      "89.2 ms ± 5.26 ms per loop (mean ± std. dev. of 7 runs, 10 loops each)\n",
      "            a  b  c\n",
      "2020-01-01  0  1  2\n",
      "2020-01-02  1  2  0\n",
      "2020-01-03  0  1  2\n",
      "2020-01-04  1  2  0\n",
      "2020-01-05  0  1  2\n",
      "77 ms ± 5.83 ms per loop (mean ± std. dev. of 7 runs, 10 loops each)\n"
     ]
    }
   ],
   "source": [
    "print(test_call_seq(CallSeqType.Default))\n",
    "%timeit big_test_call_seq(CallSeqType.Default)\n",
    "\n",
    "print(test_call_seq(CallSeqType.Reversed))\n",
    "%timeit big_test_call_seq(CallSeqType.Reversed)\n",
    "\n",
    "print(test_call_seq(CallSeqType.Random))\n",
    "%timeit big_test_call_seq(CallSeqType.Random)\n",
    "\n",
    "print(test_call_seq(42))\n",
    "%timeit big_test_call_seq(42)\n",
    "\n",
    "print(test_call_seq(test_call_seq(42)))\n",
    "_call_seq = big_test_call_seq(42)\n",
    "%timeit big_test_call_seq(_call_seq)"
   ]
  },
  {
   "cell_type": "code",
   "execution_count": 5,
   "metadata": {},
   "outputs": [],
   "source": [
    "@njit\n",
    "def call_seq_func1_nb(grc, *args):\n",
    "    return grc.call_seq[grc.i, grc.from_col:grc.to_col][::-1]\n",
    "\n",
    "@njit\n",
    "def call_seq_func2_nb(grc, *args):\n",
    "    return np.arange(grc.to_col - grc.from_col - 1, -1, -1)\n",
    "\n",
    "@njit\n",
    "def row_prep_func_nb(grc, *args):\n",
    "    call_seq_now = grc.call_seq[grc.i, grc.from_col:grc.to_col]\n",
    "    grc.call_seq[grc.i, grc.from_col:grc.to_col] = call_seq_now[::-1]  # write to memory\n",
    "    return ()"
   ]
  },
  {
   "cell_type": "code",
   "execution_count": 152,
   "metadata": {},
   "outputs": [
    {
     "name": "stdout",
     "output_type": "stream",
     "text": [
      "            a  b  c\n",
      "2020-01-01  2  1  0\n",
      "2020-01-02  2  1  0\n",
      "2020-01-03  2  1  0\n",
      "2020-01-04  2  1  0\n",
      "2020-01-05  2  1  0\n",
      "78.9 ms ± 5.31 ms per loop (mean ± std. dev. of 7 runs, 10 loops each)\n",
      "            a  b  c\n",
      "2020-01-01  2  1  0\n",
      "2020-01-02  2  1  0\n",
      "2020-01-03  2  1  0\n",
      "2020-01-04  2  1  0\n",
      "2020-01-05  2  1  0\n",
      "204 ms ± 4.82 ms per loop (mean ± std. dev. of 7 runs, 1 loop each)\n",
      "            a  b  c\n",
      "2020-01-01  2  1  0\n",
      "2020-01-02  2  1  0\n",
      "2020-01-03  2  1  0\n",
      "2020-01-04  2  1  0\n",
      "2020-01-05  2  1  0\n",
      "201 ms ± 5.4 ms per loop (mean ± std. dev. of 7 runs, 1 loop each)\n"
     ]
    }
   ],
   "source": [
    "print(test_call_seq(CallSeqType.Default, call_seq_func_nb=call_seq_func1_nb, call_seq_args=()))  # fastest\n",
    "%timeit big_test_call_seq(CallSeqType.Default, call_seq_func_nb=call_seq_func1_nb, call_seq_args=())\n",
    "\n",
    "print(test_call_seq(CallSeqType.Default, call_seq_func_nb=call_seq_func2_nb, call_seq_args=()))\n",
    "%timeit big_test_call_seq(CallSeqType.Default, call_seq_func_nb=call_seq_func2_nb, call_seq_args=())\n",
    "\n",
    "print(test_call_seq(CallSeqType.Default, row_prep_func_nb=row_prep_func_nb, row_prep_args=()))\n",
    "%timeit big_test_call_seq(CallSeqType.Default, row_prep_func_nb=row_prep_func_nb, row_prep_args=())"
   ]
  },
  {
   "cell_type": "code",
   "execution_count": 165,
   "metadata": {},
   "outputs": [
    {
     "name": "stdout",
     "output_type": "stream",
     "text": [
      "   col  idx        size  price  fees  side\n",
      "0    0    0  100.000000    1.0   0.0     0\n",
      "1    0    1  100.000000    2.0   0.0     1\n",
      "2    0    2   66.666667    3.0   0.0     0\n",
      "3    0    3   66.666667    4.0   0.0     1\n",
      "4    0    4   53.333333    5.0   0.0     0\n",
      "   col  idx        size  price  fees  side\n",
      "0    0    0  100.000000    1.0   0.0     0\n",
      "1    0    1  100.000000    2.0   0.0     1\n",
      "2    0    2   66.666667    3.0   0.0     0\n",
      "3    0    3   66.666667    4.0   0.0     1\n",
      "4    0    4   53.333333    5.0   0.0     0\n"
     ]
    }
   ],
   "source": [
    "portfolio = vbt.Portfolio.from_order_func(price, order_inf_func_nb, price)\n",
    "print(portfolio.orders.records)\n",
    "\n",
    "portfolio = vbt.Portfolio.from_order_func(price, order_inf_func_nb, price, row_wise=True)\n",
    "print(portfolio.orders.records)"
   ]
  },
  {
   "cell_type": "code",
   "execution_count": 166,
   "metadata": {},
   "outputs": [
    {
     "name": "stdout",
     "output_type": "stream",
     "text": [
      "    col  idx        size  price  fees  side\n",
      "0     0    0  100.000000    1.0   0.0     0\n",
      "1     0    1  100.000000    2.0   0.0     1\n",
      "2     0    2   66.666667    3.0   0.0     0\n",
      "3     0    3   66.666667    4.0   0.0     1\n",
      "4     0    4   53.333333    5.0   0.0     0\n",
      "5     1    0  100.000000    1.0   0.0     0\n",
      "6     1    1  100.000000    2.0   0.0     1\n",
      "7     1    2   66.666667    3.0   0.0     0\n",
      "8     1    3   66.666667    4.0   0.0     1\n",
      "9     1    4   53.333333    5.0   0.0     0\n",
      "10    2    0  100.000000    1.0   0.0     0\n",
      "11    2    1  100.000000    2.0   0.0     1\n",
      "12    2    2   66.666667    3.0   0.0     0\n",
      "13    2    3   66.666667    4.0   0.0     1\n",
      "14    2    4   53.333333    5.0   0.0     0\n",
      "    col  idx        size  price  fees  side\n",
      "0     0    0  100.000000    1.0   0.0     0\n",
      "1     0    1  100.000000    2.0   0.0     1\n",
      "2     0    2   66.666667    3.0   0.0     0\n",
      "3     0    3   66.666667    4.0   0.0     1\n",
      "4     0    4   53.333333    5.0   0.0     0\n",
      "5     1    0  100.000000    1.0   0.0     0\n",
      "6     1    1  100.000000    2.0   0.0     1\n",
      "7     1    2   66.666667    3.0   0.0     0\n",
      "8     1    3   66.666667    4.0   0.0     1\n",
      "9     1    4   53.333333    5.0   0.0     0\n",
      "10    2    0  100.000000    1.0   0.0     0\n",
      "11    2    1  100.000000    2.0   0.0     1\n",
      "12    2    2   66.666667    3.0   0.0     0\n",
      "13    2    3   66.666667    4.0   0.0     1\n",
      "14    2    4   53.333333    5.0   0.0     0\n"
     ]
    }
   ],
   "source": [
    "portfolio = vbt.Portfolio.from_order_func(price_wide, order_inf_func_nb, price_wide)\n",
    "print(portfolio.orders.records)\n",
    "\n",
    "portfolio = vbt.Portfolio.from_order_func(price_wide, order_inf_func_nb, price_wide, row_wise=True)\n",
    "print(portfolio.orders.records)"
   ]
  },
  {
   "cell_type": "code",
   "execution_count": 167,
   "metadata": {},
   "outputs": [
    {
     "name": "stdout",
     "output_type": "stream",
     "text": [
      "    col  idx        size  price  fees  side\n",
      "0     0    0  100.000000    1.0   0.0     0\n",
      "1     0    1  100.000000    2.0   0.0     1\n",
      "2     0    2   66.666667    3.0   0.0     0\n",
      "3     0    3   66.666667    4.0   0.0     1\n",
      "4     0    4   53.333333    5.0   0.0     0\n",
      "5     1    0  100.000000    1.0   0.0     0\n",
      "6     1    1  100.000000    2.0   0.0     1\n",
      "7     1    2   66.666667    3.0   0.0     0\n",
      "8     1    3   66.666667    4.0   0.0     1\n",
      "9     1    4   53.333333    5.0   0.0     0\n",
      "10    2    0  100.000000    1.0   0.0     0\n",
      "11    2    1  100.000000    2.0   0.0     1\n",
      "12    2    2   66.666667    3.0   0.0     0\n",
      "13    2    3   66.666667    4.0   0.0     1\n",
      "14    2    4   53.333333    5.0   0.0     0\n",
      "    col  idx        size  price  fees  side\n",
      "0     0    0  100.000000    1.0   0.0     0\n",
      "1     0    1  100.000000    2.0   0.0     1\n",
      "2     0    2   66.666667    3.0   0.0     0\n",
      "3     0    3   66.666667    4.0   0.0     1\n",
      "4     0    4   53.333333    5.0   0.0     0\n",
      "5     1    0  100.000000    1.0   0.0     0\n",
      "6     1    1  100.000000    2.0   0.0     1\n",
      "7     1    2   66.666667    3.0   0.0     0\n",
      "8     1    3   66.666667    4.0   0.0     1\n",
      "9     1    4   53.333333    5.0   0.0     0\n",
      "10    2    0  100.000000    1.0   0.0     0\n",
      "11    2    1  100.000000    2.0   0.0     1\n",
      "12    2    2   66.666667    3.0   0.0     0\n",
      "13    2    3   66.666667    4.0   0.0     1\n",
      "14    2    4   53.333333    5.0   0.0     0\n"
     ]
    }
   ],
   "source": [
    "portfolio = vbt.Portfolio.from_order_func(\n",
    "    price_wide, order_inf_func_nb, price_wide,\n",
    "    group_by=np.array([0, 0, 1]))\n",
    "print(portfolio.orders.records)\n",
    "\n",
    "portfolio = vbt.Portfolio.from_order_func(\n",
    "    price_wide, order_inf_func_nb, price_wide,\n",
    "    group_by=np.array([0, 0, 1]), row_wise=True)\n",
    "print(portfolio.orders.records)"
   ]
  },
  {
   "cell_type": "code",
   "execution_count": 168,
   "metadata": {},
   "outputs": [
    {
     "name": "stdout",
     "output_type": "stream",
     "text": [
      "   col  idx        size  price  fees  side\n",
      "0    0    0  100.000000    1.0   0.0     0\n",
      "1    0    1  100.000000    2.0   0.0     1\n",
      "2    0    2   66.666667    3.0   0.0     0\n",
      "3    0    3   66.666667    4.0   0.0     1\n",
      "4    0    4   53.333333    5.0   0.0     0\n",
      "5    2    0  100.000000    1.0   0.0     0\n",
      "6    2    1  100.000000    2.0   0.0     1\n",
      "7    2    2   66.666667    3.0   0.0     0\n",
      "8    2    3   66.666667    4.0   0.0     1\n",
      "9    2    4   53.333333    5.0   0.0     0\n",
      "   col  idx        size  price  fees  side\n",
      "0    0    0  100.000000    1.0   0.0     0\n",
      "1    0    1  100.000000    2.0   0.0     1\n",
      "2    0    2   66.666667    3.0   0.0     0\n",
      "3    0    3   66.666667    4.0   0.0     1\n",
      "4    0    4   53.333333    5.0   0.0     0\n",
      "5    2    0  100.000000    1.0   0.0     0\n",
      "6    2    1  100.000000    2.0   0.0     1\n",
      "7    2    2   66.666667    3.0   0.0     0\n",
      "8    2    3   66.666667    4.0   0.0     1\n",
      "9    2    4   53.333333    5.0   0.0     0\n"
     ]
    }
   ],
   "source": [
    "portfolio = vbt.Portfolio.from_order_func(\n",
    "    price_wide, order_inf_func_nb, price_wide, \n",
    "    group_by=np.array([0, 0, 1]), cash_sharing=True)\n",
    "print(portfolio.orders.records)\n",
    "\n",
    "portfolio = vbt.Portfolio.from_order_func(\n",
    "    price_wide, order_inf_func_nb, price_wide, \n",
    "    group_by=np.array([0, 0, 1]), cash_sharing=True, row_wise=True)\n",
    "print(portfolio.orders.records)"
   ]
  },
  {
   "cell_type": "code",
   "execution_count": 169,
   "metadata": {},
   "outputs": [
    {
     "name": "stdout",
     "output_type": "stream",
     "text": [
      "   col  idx        size  price  fees  side\n",
      "0    1    0  100.000000    1.0   0.0     0\n",
      "1    1    1  100.000000    2.0   0.0     1\n",
      "2    1    2   66.666667    3.0   0.0     0\n",
      "3    1    3   66.666667    4.0   0.0     1\n",
      "4    1    4   53.333333    5.0   0.0     0\n",
      "5    2    0  100.000000    1.0   0.0     0\n",
      "6    2    1  100.000000    2.0   0.0     1\n",
      "7    2    2   66.666667    3.0   0.0     0\n",
      "8    2    3   66.666667    4.0   0.0     1\n",
      "9    2    4   53.333333    5.0   0.0     0\n",
      "   col  idx        size  price  fees  side\n",
      "0    1    0  100.000000    1.0   0.0     0\n",
      "1    1    1  100.000000    2.0   0.0     1\n",
      "2    1    2   66.666667    3.0   0.0     0\n",
      "3    1    3   66.666667    4.0   0.0     1\n",
      "4    1    4   53.333333    5.0   0.0     0\n",
      "5    2    0  100.000000    1.0   0.0     0\n",
      "6    2    1  100.000000    2.0   0.0     1\n",
      "7    2    2   66.666667    3.0   0.0     0\n",
      "8    2    3   66.666667    4.0   0.0     1\n",
      "9    2    4   53.333333    5.0   0.0     0\n"
     ]
    }
   ],
   "source": [
    "portfolio = vbt.Portfolio.from_order_func(\n",
    "    price_wide, order_inf_func_nb, price_wide, \n",
    "    group_by=np.array([0, 0, 1]), cash_sharing=True, call_seq_func_nb=call_seq_func1_nb)\n",
    "print(portfolio.orders.records)\n",
    "\n",
    "portfolio = vbt.Portfolio.from_order_func(\n",
    "    price_wide, order_inf_func_nb, price_wide, \n",
    "    group_by=np.array([0, 0, 1]), cash_sharing=True, call_seq_func_nb=call_seq_func1_nb, row_wise=True)\n",
    "print(portfolio.orders.records)"
   ]
  },
  {
   "cell_type": "code",
   "execution_count": 5,
   "metadata": {},
   "outputs": [
    {
     "name": "stdout",
     "output_type": "stream",
     "text": [
      "Int64Index([0], dtype='int64')\n",
      "2\n",
      "Int64Index([0, 1, 2], dtype='int64', name='iteration_idx')\n",
      "2\n",
      "Index(['first', 'second', 'third'], dtype='object', name='custom')\n",
      "2\n"
     ]
    }
   ],
   "source": [
    "portfolio = vbt.Portfolio.from_order_func(\n",
    "    price, order_inf_func_nb, price,\n",
    "    target_shape=(5, 1)\n",
    ")\n",
    "print(portfolio.wrapper.columns)\n",
    "print(portfolio.wrapper.ndim)\n",
    "\n",
    "portfolio = vbt.Portfolio.from_order_func(\n",
    "    price, order_inf_func_nb, price,\n",
    "    target_shape=(5, 3)\n",
    ")\n",
    "print(portfolio.wrapper.columns)\n",
    "print(portfolio.wrapper.ndim)\n",
    "\n",
    "portfolio = vbt.Portfolio.from_order_func(\n",
    "    price, order_inf_func_nb, price,\n",
    "    target_shape=(5, 3), keys=pd.Index(['first', 'second', 'third'], name='custom')\n",
    ")\n",
    "print(portfolio.wrapper.columns)\n",
    "print(portfolio.wrapper.ndim)"
   ]
  },
  {
   "cell_type": "code",
   "execution_count": 11,
   "metadata": {},
   "outputs": [
    {
     "name": "stdout",
     "output_type": "stream",
     "text": [
      "Empty DataFrame\n",
      "Columns: [col, idx, size, price, fees, side]\n",
      "Index: []\n",
      "   col  idx        size  price  fees  side\n",
      "0    0    0  100.000000    1.0   0.0     0\n",
      "1    0    1  100.000000    2.0   0.0     1\n",
      "2    0    2   66.666667    3.0   0.0     0\n",
      "3    0    3   66.666667    4.0   0.0     1\n",
      "4    0    4   53.333333    5.0   0.0     0\n",
      "   col  idx   size  price  fees  side\n",
      "0    0    0  100.0    1.0   0.0     0\n",
      "1    1    0  100.0    1.0   0.0     0\n",
      "2    2    0  100.0    1.0   0.0     0\n"
     ]
    }
   ],
   "source": [
    "portfolio = vbt.Portfolio.from_order_func(\n",
    "    price_wide, order_inf_func_nb, price_wide, \n",
    "    active_mask=False)\n",
    "print(portfolio.orders.records)\n",
    "\n",
    "portfolio = vbt.Portfolio.from_order_func(\n",
    "    price_wide, order_inf_func_nb, price_wide, \n",
    "    active_mask=[True, False, False])\n",
    "print(portfolio.orders.records)\n",
    "\n",
    "portfolio = vbt.Portfolio.from_order_func(\n",
    "    price_wide, order_inf_func_nb, price_wide, \n",
    "    active_mask=pd.Series([True, False, False, False, False]))\n",
    "print(portfolio.orders.records)"
   ]
  },
  {
   "cell_type": "code",
   "execution_count": 39,
   "metadata": {},
   "outputs": [
    {
     "name": "stdout",
     "output_type": "stream",
     "text": [
      "Empty DataFrame\n",
      "Columns: [col, idx, size, price, fees, side]\n",
      "Index: []\n",
      "   col  idx        size  price  fees  side\n",
      "0    0    0  100.000000    1.0   0.0     0\n",
      "1    0    1  100.000000    2.0   0.0     1\n",
      "2    0    2   66.666667    3.0   0.0     0\n",
      "3    0    3   66.666667    4.0   0.0     1\n",
      "4    0    4   53.333333    5.0   0.0     0\n",
      "5    1    0  100.000000    1.0   0.0     0\n",
      "6    1    1  100.000000    2.0   0.0     1\n",
      "7    1    2   66.666667    3.0   0.0     0\n",
      "8    1    3   66.666667    4.0   0.0     1\n",
      "9    1    4   53.333333    5.0   0.0     0\n",
      "   col  idx   size  price  fees  side\n",
      "0    0    0  100.0    1.0   0.0     0\n",
      "1    1    0  100.0    1.0   0.0     0\n",
      "2    2    0  100.0    1.0   0.0     0\n"
     ]
    }
   ],
   "source": [
    "# active mask to 2d\n",
    "portfolio = vbt.Portfolio.from_order_func(\n",
    "    price_wide, order_inf_func_nb, price_wide, \n",
    "    group_by=np.array([0, 0, 1]), active_mask=False)\n",
    "print(portfolio.orders.records)\n",
    "\n",
    "portfolio = vbt.Portfolio.from_order_func(\n",
    "    price_wide, order_inf_func_nb, price_wide, \n",
    "    group_by=np.array([0, 0, 1]), active_mask=[True, False])\n",
    "print(portfolio.orders.records)\n",
    "\n",
    "portfolio = vbt.Portfolio.from_order_func(\n",
    "    price_wide, order_inf_func_nb, price_wide, \n",
    "    group_by=np.array([0, 0, 1]), active_mask=pd.Series([True, False, False, False, False]))\n",
    "print(portfolio.orders.records)"
   ]
  },
  {
   "cell_type": "code",
   "execution_count": 40,
   "metadata": {},
   "outputs": [
    {
     "name": "stdout",
     "output_type": "stream",
     "text": [
      "Empty DataFrame\n",
      "Columns: [col, idx, size, price, fees, side]\n",
      "Index: []\n",
      "   col  idx   size  price  fees  side\n",
      "0    0    0  100.0    1.0   0.0     0\n",
      "1    1    0  100.0    1.0   0.0     0\n",
      "2    2    0  100.0    1.0   0.0     0\n"
     ]
    }
   ],
   "source": [
    "# active mask to 1d\n",
    "portfolio = vbt.Portfolio.from_order_func(\n",
    "    price_wide, order_inf_func_nb, price_wide, \n",
    "    group_by=np.array([0, 0, 1]), active_mask=False, row_wise=True)\n",
    "print(portfolio.orders.records)\n",
    "\n",
    "portfolio = vbt.Portfolio.from_order_func(\n",
    "    price_wide, order_inf_func_nb, price_wide, \n",
    "    group_by=np.array([0, 0, 1]), active_mask=pd.Series([True, False, False, False, False]), row_wise=True)\n",
    "print(portfolio.orders.records)"
   ]
  },
  {
   "cell_type": "code",
   "execution_count": 36,
   "metadata": {},
   "outputs": [],
   "source": [
    "@njit\n",
    "def row_prep_func_nb(rc, seed):\n",
    "    print(rc.i)\n",
    "    np.random.seed(rc.i + seed)\n",
    "    return (np.random.uniform(-10, 10, size=rc.target_shape[1]),)\n",
    "\n",
    "@njit\n",
    "def group_row_prep_func_nb(grc, seed):\n",
    "    print(grc.i, grc.group)\n",
    "    np.random.seed(grc.i + seed)\n",
    "    return (np.random.uniform(-10, 10, size=grc.target_shape[1]),)\n",
    "\n",
    "@njit\n",
    "def order_func_nb(oc, target_values, price):\n",
    "    if price.ndim == 1:  # flexible indexing\n",
    "        order_price = price[oc.i]\n",
    "    else:\n",
    "        order_price = price[oc.i, oc.col]\n",
    "    return vbt.portfolio.nb.Order(\n",
    "        target_values[oc.col], \n",
    "        SizeType.Shares, \n",
    "        order_price, \n",
    "        0., \n",
    "        0., \n",
    "        0.\n",
    "    )"
   ]
  },
  {
   "cell_type": "code",
   "execution_count": 42,
   "metadata": {},
   "outputs": [
    {
     "name": "stdout",
     "output_type": "stream",
     "text": [
      "0 0\n",
      "1 0\n",
      "2 0\n",
      "3 0\n",
      "4 0\n",
      "0 1\n",
      "1 1\n",
      "2 1\n",
      "3 1\n",
      "4 1\n",
      "    col  idx      size  price  fees  side\n",
      "0     0    2  6.696843    3.0   0.0     0\n",
      "1     0    3  9.780230    4.0   0.0     0\n",
      "2     0    4  5.676647    5.0   0.0     0\n",
      "3     1    0  9.014286    1.0   0.0     0\n",
      "4     1    1  2.181331    2.0   0.0     0\n",
      "5     1    2  7.904078    3.0   0.0     1\n",
      "6     1    3  0.990895    4.0   0.0     0\n",
      "7     1    4  2.696674    5.0   0.0     0\n",
      "8     2    0  4.639879    1.0   0.0     0\n",
      "9     2    1  4.639879    2.0   0.0     1\n",
      "10    2    2  4.892810    3.0   0.0     0\n",
      "11    2    3  4.371054    4.0   0.0     1\n",
      "12    2    4  0.521756    5.0   0.0     1\n",
      "0\n",
      "1\n",
      "2\n",
      "3\n",
      "4\n",
      "    col  idx      size  price  fees  side\n",
      "0     0    2  6.696843    3.0   0.0     0\n",
      "1     0    3  9.780230    4.0   0.0     0\n",
      "2     0    4  5.676647    5.0   0.0     0\n",
      "3     1    0  9.014286    1.0   0.0     0\n",
      "4     1    1  2.181331    2.0   0.0     0\n",
      "5     1    2  7.904078    3.0   0.0     1\n",
      "6     1    3  0.990895    4.0   0.0     0\n",
      "7     1    4  2.696674    5.0   0.0     0\n",
      "8     2    0  4.639879    1.0   0.0     0\n",
      "9     2    1  4.639879    2.0   0.0     1\n",
      "10    2    2  4.892810    3.0   0.0     0\n",
      "11    2    3  4.371054    4.0   0.0     1\n",
      "12    2    4  0.521756    5.0   0.0     1\n",
      "0 0\n",
      "0 1\n",
      "   col  idx      size  price  fees  side\n",
      "0    1    0  9.014286    1.0   0.0     0\n",
      "1    2    0  4.639879    1.0   0.0     0\n",
      "0\n",
      "   col  idx      size  price  fees  side\n",
      "0    1    0  9.014286    1.0   0.0     0\n",
      "1    2    0  4.639879    1.0   0.0     0\n"
     ]
    }
   ],
   "source": [
    "portfolio = vbt.Portfolio.from_order_func(\n",
    "    price_wide, order_func_nb, price_wide, \n",
    "    group_by=np.array([0, 0, 1]), row_prep_func_nb=group_row_prep_func_nb, row_prep_args=(42,))\n",
    "print(portfolio.orders.records)\n",
    "\n",
    "portfolio = vbt.Portfolio.from_order_func(\n",
    "    price_wide, order_func_nb, price_wide, \n",
    "    group_by=np.array([0, 0, 1]), row_prep_func_nb=row_prep_func_nb, row_prep_args=(42,), row_wise=True)\n",
    "print(portfolio.orders.records)\n",
    "\n",
    "portfolio = vbt.Portfolio.from_order_func(\n",
    "    price_wide, order_func_nb, price_wide, \n",
    "    group_by=np.array([0, 0, 1]), row_prep_func_nb=group_row_prep_func_nb, row_prep_args=(42,),\n",
    "    active_mask=pd.Series([True, False, False, False, False]))\n",
    "print(portfolio.orders.records)\n",
    "\n",
    "portfolio = vbt.Portfolio.from_order_func(\n",
    "    price_wide, order_func_nb, price_wide, \n",
    "    group_by=np.array([0, 0, 1]), row_prep_func_nb=row_prep_func_nb, row_prep_args=(42,), row_wise=True, \n",
    "    active_mask=pd.Series([True, False, False, False, False]))\n",
    "print(portfolio.orders.records)"
   ]
  },
  {
   "cell_type": "markdown",
   "metadata": {},
   "source": [
    "## methods and properties"
   ]
  },
  {
   "cell_type": "code",
   "execution_count": 20,
   "metadata": {},
   "outputs": [
    {
     "data": {
      "text/plain": [
       "'Portfolio.active_returns'"
      ]
     },
     "execution_count": 20,
     "metadata": {},
     "output_type": "execute_result"
    }
   ],
   "source": [
    "vbt.Portfolio.active_returns.__qualname__"
   ]
  },
  {
   "cell_type": "code",
   "execution_count": 21,
   "metadata": {},
   "outputs": [
    {
     "data": {
      "text/plain": [
       "'add_returns_methods.<locals>.wrapper.<locals>.returns_method'"
      ]
     },
     "execution_count": 21,
     "metadata": {},
     "output_type": "execute_result"
    }
   ],
   "source": [
    "vbt.Portfolio.sharpe_ratio.__qualname__"
   ]
  },
  {
   "cell_type": "code",
   "execution_count": 22,
   "metadata": {},
   "outputs": [],
   "source": [
    "portfolio = vbt.Portfolio.from_signals(\n",
    "    price, entries, exits, size=1., \n",
    "    fees=0.01, fixed_fees=0.1, slippage=0.01,\n",
    "    init_cash=[100., 100., 200.],\n",
    "    accumulate=True, \n",
    "    accumulate_exit_mode=AccumulateExitMode.Reduce, \n",
    "    group_by=None\n",
    ")  # independent\n",
    "group_by = np.array(['first', 'first', 'second'])\n",
    "portfolio_grouped = vbt.Portfolio.from_signals(\n",
    "    price, entries, exits, size=1.,\n",
    "    fees=0.01, fixed_fees=0.1, slippage=0.01,\n",
    "    init_cash=[100., 100., 200.],\n",
    "    accumulate=True, \n",
    "    accumulate_exit_mode=AccumulateExitMode.Reduce, \n",
    "    group_by=group_by,\n",
    "    cash_sharing=False\n",
    ")  # grouped\n",
    "portfolio_shared = vbt.Portfolio.from_signals(\n",
    "    price, entries, exits, size=1.,\n",
    "    fees=0.01, fixed_fees=0.1, slippage=0.01,\n",
    "    init_cash=[100., 200.],\n",
    "    group_by=group_by,\n",
    "    accumulate=True, \n",
    "    accumulate_exit_mode=AccumulateExitMode.Reduce, \n",
    "    cash_sharing=True\n",
    ")  # shared"
   ]
  },
  {
   "cell_type": "code",
   "execution_count": 23,
   "metadata": {},
   "outputs": [],
   "source": [
    "big_group_by = np.arange(1000)\n",
    "big_portfolio = vbt.Portfolio.from_signals(\n",
    "    big_price, big_entries, big_exits, size=1.)\n",
    "big_portfolio_grouped = vbt.Portfolio.from_signals(\n",
    "    big_price, big_entries, big_exits, size=1., group_by=big_group_by)\n",
    "big_portfolio_shared = vbt.Portfolio.from_signals(\n",
    "    big_price, big_entries, big_exits, size=1., group_by=big_group_by, cash_sharing=True)"
   ]
  },
  {
   "cell_type": "code",
   "execution_count": 39,
   "metadata": {},
   "outputs": [
    {
     "name": "stdout",
     "output_type": "stream",
     "text": [
      "   col  idx  size  price    fees  side\n",
      "0    0    1   1.0   2.02  0.1202     0\n",
      "1    0    3   1.0   3.96  0.1396     1\n",
      "2    1    0   1.0   1.01  0.1101     0\n",
      "3    1    1   1.0   2.02  0.1202     0\n",
      "4    1    3   1.0   3.96  0.1396     1\n",
      "5    1    4   1.0   4.95  0.1495     1\n",
      "6    2    0   1.0   1.01  0.1101     0\n",
      "7    2    1   1.0   2.02  0.1202     0\n",
      "8    2    3   1.0   3.96  0.1396     1\n",
      "a    2\n",
      "b    4\n",
      "c    3\n",
      "dtype: int64\n",
      "              a    b    c\n",
      "2020-01-01  NaN  1.0  1.0\n",
      "2020-01-02  2.0  2.0  2.0\n",
      "2020-01-03  3.0  NaN  3.0\n",
      "2020-01-04  4.0  4.0  4.0\n",
      "2020-01-05  5.0  5.0  NaN\n",
      "a    100.0\n",
      "b    100.0\n",
      "c    200.0\n",
      "dtype: float64\n",
      "                   a         b         c\n",
      "2020-01-01  0.000000 -0.120100 -0.120100\n",
      "2020-01-02 -0.001402  0.008608  0.004302\n",
      "2020-01-03  0.010014       NaN  0.009963\n",
      "2020-01-04  0.008134       NaN  0.008979\n",
      "2020-01-05  0.000000  0.007656       NaN\n",
      "a    0.016802\n",
      "b   -0.105731\n",
      "c   -0.099497\n",
      "dtype: float64\n"
     ]
    }
   ],
   "source": [
    "print(portfolio.orders.records)\n",
    "print(portfolio.orders.count())\n",
    "print(portfolio.ref_price)\n",
    "print(portfolio.init_cash)\n",
    "print(portfolio.returns())\n",
    "print(portfolio.total_return())"
   ]
  },
  {
   "cell_type": "code",
   "execution_count": 6,
   "metadata": {},
   "outputs": [
    {
     "name": "stdout",
     "output_type": "stream",
     "text": [
      "   col  idx  size  price  fees  side\n",
      "0    0    1   1.0    2.0  0.02     0\n",
      "1    0    3   1.0    4.0  0.04     1\n",
      "2\n",
      "2020-01-01    NaN\n",
      "2020-01-02    2.0\n",
      "2020-01-03    3.0\n",
      "2020-01-04    4.0\n",
      "2020-01-05    5.0\n",
      "Name: a, dtype: float64\n",
      "100.0\n",
      "2020-01-01    0.000000\n",
      "2020-01-02   -0.000200\n",
      "2020-01-03    0.010002\n",
      "2020-01-04    0.009507\n",
      "2020-01-05    0.000000\n",
      "Name: a, dtype: float64\n",
      "0.019399999999999862\n"
     ]
    }
   ],
   "source": [
    "print(portfolio['a'].orders.records)\n",
    "print(portfolio['a'].orders.count())\n",
    "print(portfolio['a'].ref_price)\n",
    "print(portfolio['a'].init_cash)\n",
    "print(portfolio['a'].returns())\n",
    "print(portfolio['a'].total_return())"
   ]
  },
  {
   "cell_type": "code",
   "execution_count": 7,
   "metadata": {},
   "outputs": [
    {
     "name": "stdout",
     "output_type": "stream",
     "text": [
      "   col  idx  size  price  fees  side\n",
      "0    0    0   1.0    1.0  0.01     0\n",
      "1    0    1   1.0    2.0  0.02     0\n",
      "2    0    3   1.0    4.0  0.04     1\n",
      "3\n",
      "2020-01-01    1.0\n",
      "2020-01-02    2.0\n",
      "2020-01-03    3.0\n",
      "2020-01-04    4.0\n",
      "2020-01-05    NaN\n",
      "Name: c, dtype: float64\n",
      "200.0\n",
      "2020-01-01   -0.010000\n",
      "2020-01-02    0.004900\n",
      "2020-01-03    0.009952\n",
      "2020-01-04    0.009657\n",
      "2020-01-05         NaN\n",
      "Name: c, dtype: float64\n",
      "0.014454222711144604\n"
     ]
    }
   ],
   "source": [
    "print(portfolio['c'].orders.records)\n",
    "print(portfolio['c'].orders.count())\n",
    "print(portfolio['c'].ref_price)\n",
    "print(portfolio['c'].init_cash)\n",
    "print(portfolio['c'].returns())\n",
    "print(portfolio['c'].total_return())"
   ]
  },
  {
   "cell_type": "code",
   "execution_count": 8,
   "metadata": {},
   "outputs": [
    {
     "name": "stdout",
     "output_type": "stream",
     "text": [
      "   col  idx  size  price  fees  side\n",
      "0    0    0   1.0    1.0  0.01     0\n",
      "1    0    1   1.0    2.0  0.02     0\n",
      "2    0    3   1.0    4.0  0.04     1\n",
      "c    3\n",
      "dtype: int64\n",
      "              c\n",
      "2020-01-01  1.0\n",
      "2020-01-02  2.0\n",
      "2020-01-03  3.0\n",
      "2020-01-04  4.0\n",
      "2020-01-05  NaN\n",
      "c    200.0\n",
      "dtype: float64\n",
      "                   c\n",
      "2020-01-01 -0.010000\n",
      "2020-01-02  0.004900\n",
      "2020-01-03  0.009952\n",
      "2020-01-04  0.009657\n",
      "2020-01-05       NaN\n",
      "c    0.014454\n",
      "dtype: float64\n"
     ]
    }
   ],
   "source": [
    "print(portfolio[['c']].orders.records)\n",
    "print(portfolio[['c']].orders.count())\n",
    "print(portfolio[['c']].ref_price)\n",
    "print(portfolio[['c']].init_cash)\n",
    "print(portfolio[['c']].returns())\n",
    "print(portfolio[['c']].total_return())"
   ]
  },
  {
   "cell_type": "code",
   "execution_count": 9,
   "metadata": {},
   "outputs": [
    {
     "name": "stdout",
     "output_type": "stream",
     "text": [
      "   col  idx  size  price  fees  side\n",
      "0    0    1   1.0    2.0  0.02     0\n",
      "1    0    3   1.0    4.0  0.04     1\n",
      "2    1    0   1.0    1.0  0.01     0\n",
      "3    1    1   1.0    2.0  0.02     0\n",
      "4    1    3   1.0    4.0  0.04     1\n",
      "5    1    4   1.0    5.0  0.05     1\n",
      "6    2    0   1.0    1.0  0.01     0\n",
      "7    2    1   1.0    2.0  0.02     0\n",
      "8    2    3   1.0    4.0  0.04     1\n",
      "first     6\n",
      "second    3\n",
      "dtype: int64\n",
      "              a    b    c\n",
      "2020-01-01  NaN  1.0  1.0\n",
      "2020-01-02  2.0  2.0  2.0\n",
      "2020-01-03  3.0  NaN  3.0\n",
      "2020-01-04  4.0  4.0  4.0\n",
      "2020-01-05  5.0  5.0  NaN\n",
      "a    100.0\n",
      "b    100.0\n",
      "c    200.0\n",
      "dtype: float64\n",
      "               first    second\n",
      "2020-01-01 -0.010000 -0.010000\n",
      "2020-01-02  0.004800  0.004900\n",
      "2020-01-03       NaN  0.009952\n",
      "2020-01-04       NaN  0.009657\n",
      "2020-01-05  0.004592       NaN\n",
      "first    -0.000680\n",
      "second    0.014454\n",
      "dtype: float64\n"
     ]
    }
   ],
   "source": [
    "print(portfolio_grouped.orders.records)\n",
    "print(portfolio_grouped.orders.count())\n",
    "print(portfolio_grouped.ref_price)\n",
    "print(portfolio_grouped.init_cash)\n",
    "print(portfolio_grouped.returns())\n",
    "print(portfolio_grouped.total_return())"
   ]
  },
  {
   "cell_type": "code",
   "execution_count": 10,
   "metadata": {},
   "outputs": [
    {
     "name": "stdout",
     "output_type": "stream",
     "text": [
      "   col  idx  size  price  fees  side\n",
      "0    0    1   1.0    2.0  0.02     0\n",
      "1    0    3   1.0    4.0  0.04     1\n",
      "2    1    0   1.0    1.0  0.01     0\n",
      "3    1    1   1.0    2.0  0.02     0\n",
      "4    1    3   1.0    4.0  0.04     1\n",
      "5    1    4   1.0    5.0  0.05     1\n",
      "6\n",
      "              a    b\n",
      "2020-01-01  NaN  1.0\n",
      "2020-01-02  2.0  2.0\n",
      "2020-01-03  3.0  NaN\n",
      "2020-01-04  4.0  4.0\n",
      "2020-01-05  5.0  5.0\n",
      "a    100.0\n",
      "b    100.0\n",
      "dtype: float64\n",
      "2020-01-01   -0.010000\n",
      "2020-01-02    0.004800\n",
      "2020-01-03         NaN\n",
      "2020-01-04         NaN\n",
      "2020-01-05    0.004592\n",
      "Name: first, dtype: float64\n",
      "-0.0006796054502687943\n"
     ]
    }
   ],
   "source": [
    "print(portfolio_grouped['first'].orders.records)\n",
    "print(portfolio_grouped['first'].orders.count())\n",
    "print(portfolio_grouped['first'].ref_price)\n",
    "print(portfolio_grouped['first'].init_cash)\n",
    "print(portfolio_grouped['first'].returns())\n",
    "print(portfolio_grouped['first'].total_return())"
   ]
  },
  {
   "cell_type": "code",
   "execution_count": 11,
   "metadata": {},
   "outputs": [
    {
     "name": "stdout",
     "output_type": "stream",
     "text": [
      "   col  idx  size  price  fees  side\n",
      "0    0    1   1.0    2.0  0.02     0\n",
      "1    0    3   1.0    4.0  0.04     1\n",
      "2    1    0   1.0    1.0  0.01     0\n",
      "3    1    1   1.0    2.0  0.02     0\n",
      "4    1    3   1.0    4.0  0.04     1\n",
      "5    1    4   1.0    5.0  0.05     1\n",
      "first    6\n",
      "dtype: int64\n",
      "              a    b\n",
      "2020-01-01  NaN  1.0\n",
      "2020-01-02  2.0  2.0\n",
      "2020-01-03  3.0  NaN\n",
      "2020-01-04  4.0  4.0\n",
      "2020-01-05  5.0  5.0\n",
      "a    100.0\n",
      "b    100.0\n",
      "dtype: float64\n",
      "               first\n",
      "2020-01-01 -0.010000\n",
      "2020-01-02  0.004800\n",
      "2020-01-03       NaN\n",
      "2020-01-04       NaN\n",
      "2020-01-05  0.004592\n",
      "first   -0.00068\n",
      "dtype: float64\n"
     ]
    }
   ],
   "source": [
    "print(portfolio_grouped[['first']].orders.records)  # same because of collapse_group\n",
    "print(portfolio_grouped[['first']].orders.count())\n",
    "print(portfolio_grouped[['first']].ref_price)\n",
    "print(portfolio_grouped[['first']].init_cash)\n",
    "print(portfolio_grouped[['first']].returns())\n",
    "print(portfolio_grouped[['first']].total_return())"
   ]
  },
  {
   "cell_type": "code",
   "execution_count": 12,
   "metadata": {},
   "outputs": [
    {
     "name": "stdout",
     "output_type": "stream",
     "text": [
      "   col  idx  size  price  fees  side\n",
      "0    0    0   1.0    1.0  0.01     0\n",
      "1    0    1   1.0    2.0  0.02     0\n",
      "2    0    3   1.0    4.0  0.04     1\n",
      "3\n",
      "2020-01-01    1.0\n",
      "2020-01-02    2.0\n",
      "2020-01-03    3.0\n",
      "2020-01-04    4.0\n",
      "2020-01-05    NaN\n",
      "Name: c, dtype: float64\n",
      "200.0\n",
      "2020-01-01   -0.010000\n",
      "2020-01-02    0.004900\n",
      "2020-01-03    0.009952\n",
      "2020-01-04    0.009657\n",
      "2020-01-05         NaN\n",
      "Name: second, dtype: float64\n",
      "0.014454222711144604\n"
     ]
    }
   ],
   "source": [
    "print(portfolio_grouped['second'].orders.records)\n",
    "print(portfolio_grouped['second'].orders.count())\n",
    "print(portfolio_grouped['second'].ref_price)\n",
    "print(portfolio_grouped['second'].init_cash)\n",
    "print(portfolio_grouped['second'].returns())\n",
    "print(portfolio_grouped['second'].total_return())"
   ]
  },
  {
   "cell_type": "code",
   "execution_count": 13,
   "metadata": {},
   "outputs": [
    {
     "name": "stdout",
     "output_type": "stream",
     "text": [
      "   col  idx  size  price  fees  side\n",
      "0    0    0   1.0    1.0  0.01     0\n",
      "1    0    1   1.0    2.0  0.02     0\n",
      "2    0    3   1.0    4.0  0.04     1\n",
      "second    3\n",
      "dtype: int64\n",
      "              c\n",
      "2020-01-01  1.0\n",
      "2020-01-02  2.0\n",
      "2020-01-03  3.0\n",
      "2020-01-04  4.0\n",
      "2020-01-05  NaN\n",
      "c    200.0\n",
      "dtype: float64\n",
      "              second\n",
      "2020-01-01 -0.010000\n",
      "2020-01-02  0.004900\n",
      "2020-01-03  0.009952\n",
      "2020-01-04  0.009657\n",
      "2020-01-05       NaN\n",
      "second    0.014454\n",
      "dtype: float64\n"
     ]
    }
   ],
   "source": [
    "print(portfolio_grouped[['second']].orders.records)\n",
    "print(portfolio_grouped[['second']].orders.count())\n",
    "print(portfolio_grouped[['second']].ref_price)\n",
    "print(portfolio_grouped[['second']].init_cash)\n",
    "print(portfolio_grouped[['second']].returns())\n",
    "print(portfolio_grouped[['second']].total_return())"
   ]
  },
  {
   "cell_type": "code",
   "execution_count": 14,
   "metadata": {},
   "outputs": [
    {
     "name": "stdout",
     "output_type": "stream",
     "text": [
      "   col  idx  size  price  fees  side\n",
      "0    0    1   1.0    2.0  0.02     0\n",
      "1    0    3   1.0    4.0  0.04     1\n",
      "2    1    0   1.0    1.0  0.01     0\n",
      "3    1    1   1.0    2.0  0.02     0\n",
      "4    1    3   1.0    4.0  0.04     1\n",
      "5    1    4   1.0    5.0  0.05     1\n",
      "6\n",
      "              a    b\n",
      "2020-01-01  NaN  1.0\n",
      "2020-01-02  2.0  2.0\n",
      "2020-01-03  3.0  NaN\n",
      "2020-01-04  4.0  4.0\n",
      "2020-01-05  5.0  5.0\n",
      "100.0\n",
      "2020-01-01   -0.010000\n",
      "2020-01-02    0.009601\n",
      "2020-01-03         NaN\n",
      "2020-01-04         NaN\n",
      "2020-01-05    0.008889\n",
      "Name: first, dtype: float64\n",
      "0.008389854611918102\n"
     ]
    }
   ],
   "source": [
    "print(portfolio_shared['first'].orders.records)\n",
    "print(portfolio_shared['first'].orders.count())\n",
    "print(portfolio_shared['first'].ref_price)\n",
    "print(portfolio_shared['first'].init_cash)\n",
    "print(portfolio_shared['first'].returns())\n",
    "print(portfolio_shared['first'].total_return())"
   ]
  },
  {
   "cell_type": "code",
   "execution_count": 15,
   "metadata": {},
   "outputs": [
    {
     "name": "stdout",
     "output_type": "stream",
     "text": [
      "   col  idx  size  price  fees  side\n",
      "0    0    1   1.0    2.0  0.02     0\n",
      "1    0    3   1.0    4.0  0.04     1\n",
      "2    1    0   1.0    1.0  0.01     0\n",
      "3    1    1   1.0    2.0  0.02     0\n",
      "4    1    3   1.0    4.0  0.04     1\n",
      "5    1    4   1.0    5.0  0.05     1\n",
      "first    6\n",
      "dtype: int64\n",
      "              a    b\n",
      "2020-01-01  NaN  1.0\n",
      "2020-01-02  2.0  2.0\n",
      "2020-01-03  3.0  NaN\n",
      "2020-01-04  4.0  4.0\n",
      "2020-01-05  5.0  5.0\n",
      "first    100.0\n",
      "dtype: float64\n",
      "               first\n",
      "2020-01-01 -0.010000\n",
      "2020-01-02  0.009601\n",
      "2020-01-03       NaN\n",
      "2020-01-04       NaN\n",
      "2020-01-05  0.008889\n",
      "first    0.00839\n",
      "dtype: float64\n"
     ]
    }
   ],
   "source": [
    "print(portfolio_shared[['first']].orders.records)\n",
    "print(portfolio_shared[['first']].orders.count())\n",
    "print(portfolio_shared[['first']].ref_price)\n",
    "print(portfolio_shared[['first']].init_cash)\n",
    "print(portfolio_shared[['first']].returns())\n",
    "print(portfolio_shared[['first']].total_return())"
   ]
  },
  {
   "cell_type": "code",
   "execution_count": 16,
   "metadata": {},
   "outputs": [
    {
     "name": "stdout",
     "output_type": "stream",
     "text": [
      "   col  idx  size  price  fees  side\n",
      "0    0    0   1.0    1.0  0.01     0\n",
      "1    0    1   1.0    2.0  0.02     0\n",
      "2    0    3   1.0    4.0  0.04     1\n",
      "3\n",
      "2020-01-01    1.0\n",
      "2020-01-02    2.0\n",
      "2020-01-03    3.0\n",
      "2020-01-04    4.0\n",
      "2020-01-05    NaN\n",
      "Name: c, dtype: float64\n",
      "200.0\n",
      "2020-01-01   -0.010000\n",
      "2020-01-02    0.004900\n",
      "2020-01-03    0.009952\n",
      "2020-01-04    0.009657\n",
      "2020-01-05         NaN\n",
      "Name: second, dtype: float64\n",
      "0.014454222711144604\n"
     ]
    }
   ],
   "source": [
    "print(portfolio_shared['second'].orders.records)\n",
    "print(portfolio_shared['second'].orders.count())\n",
    "print(portfolio_shared['second'].ref_price)\n",
    "print(portfolio_shared['second'].init_cash)\n",
    "print(portfolio_shared['second'].returns())\n",
    "print(portfolio_shared['second'].total_return())"
   ]
  },
  {
   "cell_type": "code",
   "execution_count": 17,
   "metadata": {},
   "outputs": [
    {
     "name": "stdout",
     "output_type": "stream",
     "text": [
      "   col  idx  size  price  fees  side\n",
      "0    0    0   1.0    1.0  0.01     0\n",
      "1    0    1   1.0    2.0  0.02     0\n",
      "2    0    3   1.0    4.0  0.04     1\n",
      "second    3\n",
      "dtype: int64\n",
      "              c\n",
      "2020-01-01  1.0\n",
      "2020-01-02  2.0\n",
      "2020-01-03  3.0\n",
      "2020-01-04  4.0\n",
      "2020-01-05  NaN\n",
      "second    200.0\n",
      "dtype: float64\n",
      "              second\n",
      "2020-01-01 -0.010000\n",
      "2020-01-02  0.004900\n",
      "2020-01-03  0.009952\n",
      "2020-01-04  0.009657\n",
      "2020-01-05       NaN\n",
      "second    0.014454\n",
      "dtype: float64\n"
     ]
    }
   ],
   "source": [
    "print(portfolio_shared[['second']].orders.records)\n",
    "print(portfolio_shared[['second']].orders.count())\n",
    "print(portfolio_shared[['second']].ref_price)\n",
    "print(portfolio_shared[['second']].init_cash)\n",
    "print(portfolio_shared[['second']].returns())\n",
    "print(portfolio_shared[['second']].total_return())"
   ]
  },
  {
   "cell_type": "code",
   "execution_count": 16,
   "metadata": {},
   "outputs": [
    {
     "name": "stdout",
     "output_type": "stream",
     "text": [
      "4.2 ms ± 75 µs per loop (mean ± std. dev. of 7 runs, 100 loops each)\n",
      "55.6 ms ± 26.8 ms per loop (mean ± std. dev. of 7 runs, 10 loops each)\n",
      "5.24 ms ± 168 µs per loop (mean ± std. dev. of 7 runs, 100 loops each)\n",
      "41.8 ms ± 958 µs per loop (mean ± std. dev. of 7 runs, 10 loops each)\n",
      "5.1 ms ± 99.6 µs per loop (mean ± std. dev. of 7 runs, 100 loops each)\n",
      "41.8 ms ± 383 µs per loop (mean ± std. dev. of 7 runs, 10 loops each)\n"
     ]
    }
   ],
   "source": [
    "%timeit big_portfolio.iloc[0]\n",
    "%timeit big_portfolio.iloc[:]\n",
    "%timeit big_portfolio_grouped.iloc[0]\n",
    "%timeit big_portfolio_grouped.iloc[:]\n",
    "%timeit big_portfolio_shared.iloc[0]\n",
    "%timeit big_portfolio_shared.iloc[:]"
   ]
  },
  {
   "cell_type": "code",
   "execution_count": 10,
   "metadata": {},
   "outputs": [
    {
     "name": "stdout",
     "output_type": "stream",
     "text": [
      "a    100.0\n",
      "b    100.0\n",
      "c    200.0\n",
      "dtype: float64\n",
      "a    100.0\n",
      "b    100.0\n",
      "c    200.0\n",
      "dtype: float64\n",
      "first     100.0\n",
      "second    200.0\n",
      "dtype: float64\n"
     ]
    }
   ],
   "source": [
    "print(portfolio.init_cash)\n",
    "print(portfolio_grouped.init_cash)\n",
    "print(portfolio_shared.init_cash)"
   ]
  },
  {
   "cell_type": "code",
   "execution_count": 6,
   "metadata": {},
   "outputs": [
    {
     "name": "stdout",
     "output_type": "stream",
     "text": [
      "a    100.0\n",
      "b    100.0\n",
      "c    200.0\n",
      "dtype: float64\n",
      "a    100.0\n",
      "b    100.0\n",
      "c    200.0\n",
      "dtype: float64\n",
      "a    100.0\n",
      "b    100.0\n",
      "c    200.0\n",
      "dtype: float64\n",
      "first     200.0\n",
      "second    200.0\n",
      "dtype: float64\n",
      "first     200.0\n",
      "second    200.0\n",
      "dtype: float64\n",
      "first     100.0\n",
      "second    200.0\n",
      "dtype: float64\n"
     ]
    }
   ],
   "source": [
    "print(portfolio.regroup_init_cash())\n",
    "print(portfolio_grouped.regroup_init_cash(group_by=False))\n",
    "print(portfolio_shared.regroup_init_cash(group_by=False))\n",
    "\n",
    "print(portfolio.regroup_init_cash(group_by=group_by))\n",
    "print(portfolio_grouped.regroup_init_cash())\n",
    "print(portfolio_shared.regroup_init_cash())"
   ]
  },
  {
   "cell_type": "code",
   "execution_count": 6,
   "metadata": {},
   "outputs": [
    {
     "name": "stdout",
     "output_type": "stream",
     "text": [
      "83.1 µs ± 1.94 µs per loop (mean ± std. dev. of 7 runs, 10000 loops each)\n",
      "86.7 µs ± 2.12 µs per loop (mean ± std. dev. of 7 runs, 10000 loops each)\n",
      "1.08 ms ± 21.3 µs per loop (mean ± std. dev. of 7 runs, 1000 loops each)\n",
      "1.48 ms ± 124 µs per loop (mean ± std. dev. of 7 runs, 1 loop each)\n",
      "1.36 ms ± 29.8 µs per loop (mean ± std. dev. of 7 runs, 1000 loops each)\n",
      "965 µs ± 9.64 µs per loop (mean ± std. dev. of 7 runs, 1000 loops each)\n"
     ]
    }
   ],
   "source": [
    "%timeit big_portfolio.regroup_init_cash()\n",
    "%timeit big_portfolio_grouped.regroup_init_cash(group_by=False)\n",
    "%timeit big_portfolio_shared.regroup_init_cash(group_by=False)\n",
    "\n",
    "%timeit big_portfolio.regroup_init_cash(group_by=big_group_by)\n",
    "%timeit big_portfolio_grouped.regroup_init_cash()\n",
    "%timeit big_portfolio_shared.regroup_init_cash()"
   ]
  },
  {
   "cell_type": "code",
   "execution_count": 20,
   "metadata": {},
   "outputs": [
    {
     "name": "stdout",
     "output_type": "stream",
     "text": [
      "                 a       b       c\n",
      "2020-01-01  100.00   98.99  198.99\n",
      "2020-01-02   97.98   96.97  196.97\n",
      "2020-01-03   97.98   96.97  196.97\n",
      "2020-01-04  101.94  100.93  200.93\n",
      "2020-01-05  101.94  105.88  200.93\n",
      "                 a       b       c\n",
      "2020-01-01  100.00   98.99  198.99\n",
      "2020-01-02   97.98   96.97  196.97\n",
      "2020-01-03   97.98   96.97  196.97\n",
      "2020-01-04  101.94  100.93  200.93\n",
      "2020-01-05  101.94  105.88  200.93\n",
      "                 a       b       c\n",
      "2020-01-01  100.00   98.99  198.99\n",
      "2020-01-02   96.97   94.95  196.97\n",
      "2020-01-03   94.95   94.95  196.97\n",
      "2020-01-04   98.91  102.87  200.93\n",
      "2020-01-05  102.87  107.82  200.93\n"
     ]
    }
   ],
   "source": [
    "print(portfolio.cash)\n",
    "print(portfolio_grouped.cash)\n",
    "print(portfolio_shared.cash)"
   ]
  },
  {
   "cell_type": "code",
   "execution_count": 5,
   "metadata": {},
   "outputs": [
    {
     "name": "stdout",
     "output_type": "stream",
     "text": [
      "                   a         b         c\n",
      "2020-01-01  100.0000   98.8799  198.8799\n",
      "2020-01-02   97.8598   96.7397  196.7397\n",
      "2020-01-03   97.8598   96.7397  196.7397\n",
      "2020-01-04  101.6802  100.5601  200.5601\n",
      "2020-01-05  101.6802  105.3606  200.5601\n",
      "                   a         b         c\n",
      "2020-01-01  100.0000   98.8799  198.8799\n",
      "2020-01-02   97.8598   96.7397  196.7397\n",
      "2020-01-03   97.8598   96.7397  196.7397\n",
      "2020-01-04  101.6802  100.5601  200.5601\n",
      "2020-01-05  101.6802  105.3606  200.5601\n",
      "                   a         b         c\n",
      "2020-01-01  100.0000   98.8799  198.8799\n",
      "2020-01-02   96.7397   94.5995  196.7397\n",
      "2020-01-03   94.5995   94.5995  196.7397\n",
      "2020-01-04   98.4199  102.2403  200.5601\n",
      "2020-01-05  102.2403  107.0408  200.5601\n",
      "               first    second\n",
      "2020-01-01  198.8799  198.8799\n",
      "2020-01-02  194.5995  196.7397\n",
      "2020-01-03  194.5995  196.7397\n",
      "2020-01-04  202.2403  200.5601\n",
      "2020-01-05  207.0408  200.5601\n",
      "               first    second\n",
      "2020-01-01  198.8799  198.8799\n",
      "2020-01-02  194.5995  196.7397\n",
      "2020-01-03  194.5995  196.7397\n",
      "2020-01-04  202.2403  200.5601\n",
      "2020-01-05  207.0408  200.5601\n",
      "               first    second\n",
      "2020-01-01   98.8799  198.8799\n",
      "2020-01-02   94.5995  196.7397\n",
      "2020-01-03   94.5995  196.7397\n",
      "2020-01-04  102.2403  200.5601\n",
      "2020-01-05  107.0408  200.5601\n"
     ]
    }
   ],
   "source": [
    "print(portfolio.regroup_cash())\n",
    "print(portfolio_grouped.regroup_cash(group_by=False))\n",
    "print(portfolio_shared.regroup_cash(group_by=False))\n",
    "\n",
    "print(portfolio.regroup_cash(group_by=group_by))\n",
    "print(portfolio_grouped.regroup_cash())\n",
    "print(portfolio_shared.regroup_cash())"
   ]
  },
  {
   "cell_type": "code",
   "execution_count": 8,
   "metadata": {},
   "outputs": [
    {
     "name": "stdout",
     "output_type": "stream",
     "text": [
      "109 µs ± 8.52 µs per loop (mean ± std. dev. of 7 runs, 10000 loops each)\n",
      "107 µs ± 911 ns per loop (mean ± std. dev. of 7 runs, 10000 loops each)\n",
      "110 µs ± 2.61 µs per loop (mean ± std. dev. of 7 runs, 10000 loops each)\n",
      "9.38 ms ± 190 µs per loop (mean ± std. dev. of 7 runs, 100 loops each)\n",
      "9.15 ms ± 63.2 µs per loop (mean ± std. dev. of 7 runs, 100 loops each)\n",
      "5.88 ms ± 47.4 µs per loop (mean ± std. dev. of 7 runs, 100 loops each)\n"
     ]
    }
   ],
   "source": [
    "%timeit big_portfolio.regroup_cash()\n",
    "%timeit big_portfolio_grouped.regroup_cash(group_by=False)\n",
    "%timeit big_portfolio_shared.regroup_cash(group_by=False)\n",
    "\n",
    "%timeit big_portfolio.regroup_cash(group_by=big_group_by)\n",
    "%timeit big_portfolio_grouped.regroup_cash()\n",
    "%timeit big_portfolio_shared.regroup_cash()"
   ]
  },
  {
   "cell_type": "code",
   "execution_count": 13,
   "metadata": {},
   "outputs": [
    {
     "name": "stdout",
     "output_type": "stream",
     "text": [
      "              a    b    c\n",
      "2020-01-01  0.0  1.0  1.0\n",
      "2020-01-02  1.0  2.0  2.0\n",
      "2020-01-03  1.0  2.0  2.0\n",
      "2020-01-04  0.0  1.0  1.0\n",
      "2020-01-05  0.0  0.0  1.0\n",
      "              a    b    c\n",
      "2020-01-01  0.0  1.0  1.0\n",
      "2020-01-02  1.0  2.0  2.0\n",
      "2020-01-03  1.0  2.0  2.0\n",
      "2020-01-04  0.0  1.0  1.0\n",
      "2020-01-05  0.0  0.0  1.0\n",
      "              a    b    c\n",
      "2020-01-01  0.0  1.0  1.0\n",
      "2020-01-02  1.0  2.0  2.0\n",
      "2020-01-03  1.0  2.0  2.0\n",
      "2020-01-04  0.0  1.0  1.0\n",
      "2020-01-05  0.0  0.0  1.0\n"
     ]
    }
   ],
   "source": [
    "print(portfolio.shares)\n",
    "print(portfolio_grouped.shares)\n",
    "print(portfolio_shared.shares)"
   ]
  },
  {
   "cell_type": "code",
   "execution_count": 14,
   "metadata": {},
   "outputs": [
    {
     "name": "stdout",
     "output_type": "stream",
     "text": [
      "              a    b    c\n",
      "2020-01-01  NaN  1.0  1.0\n",
      "2020-01-02  2.0  2.0  2.0\n",
      "2020-01-03  3.0  NaN  3.0\n",
      "2020-01-04  4.0  4.0  4.0\n",
      "2020-01-05  5.0  5.0  NaN\n",
      "              a    b    c\n",
      "2020-01-01  NaN  1.0  1.0\n",
      "2020-01-02  2.0  2.0  2.0\n",
      "2020-01-03  3.0  NaN  3.0\n",
      "2020-01-04  4.0  4.0  4.0\n",
      "2020-01-05  5.0  5.0  NaN\n",
      "              a    b    c\n",
      "2020-01-01  NaN  1.0  1.0\n",
      "2020-01-02  2.0  2.0  2.0\n",
      "2020-01-03  3.0  NaN  3.0\n",
      "2020-01-04  4.0  4.0  4.0\n",
      "2020-01-05  5.0  5.0  NaN\n"
     ]
    }
   ],
   "source": [
    "print(portfolio.ref_price)\n",
    "print(portfolio_grouped.ref_price)\n",
    "print(portfolio_shared.ref_price)"
   ]
  },
  {
   "cell_type": "code",
   "execution_count": 15,
   "metadata": {},
   "outputs": [
    {
     "name": "stdout",
     "output_type": "stream",
     "text": [
      "              a    b    c\n",
      "2020-01-01  NaN  1.0  1.0\n",
      "2020-01-02  2.0  2.0  2.0\n",
      "2020-01-03  3.0  NaN  3.0\n",
      "2020-01-04  4.0  4.0  4.0\n",
      "2020-01-05  5.0  5.0  NaN\n",
      "              a    b    c\n",
      "2020-01-01  NaN  1.0  1.0\n",
      "2020-01-02  2.0  2.0  2.0\n",
      "2020-01-03  3.0  2.0  3.0\n",
      "2020-01-04  4.0  4.0  4.0\n",
      "2020-01-05  5.0  5.0  4.0\n",
      "              a    b    c\n",
      "2020-01-01  2.0  1.0  1.0\n",
      "2020-01-02  2.0  2.0  2.0\n",
      "2020-01-03  3.0  4.0  3.0\n",
      "2020-01-04  4.0  4.0  4.0\n",
      "2020-01-05  5.0  5.0  NaN\n",
      "              a    b    c\n",
      "2020-01-01  2.0  1.0  1.0\n",
      "2020-01-02  2.0  2.0  2.0\n",
      "2020-01-03  3.0  2.0  3.0\n",
      "2020-01-04  4.0  4.0  4.0\n",
      "2020-01-05  5.0  5.0  4.0\n"
     ]
    }
   ],
   "source": [
    "print(portfolio.fill_ref_price(ffill=False, bfill=False))\n",
    "print(portfolio.fill_ref_price(ffill=True, bfill=False))\n",
    "print(portfolio.fill_ref_price(ffill=False, bfill=True))\n",
    "print(portfolio.fill_ref_price(ffill=True, bfill=True))"
   ]
  },
  {
   "cell_type": "code",
   "execution_count": 10,
   "metadata": {},
   "outputs": [
    {
     "name": "stdout",
     "output_type": "stream",
     "text": [
      "125 µs ± 18.5 µs per loop (mean ± std. dev. of 7 runs, 10000 loops each)\n"
     ]
    }
   ],
   "source": [
    "%timeit big_portfolio.get_ref_price(ffill=True, bfill=True)"
   ]
  },
  {
   "cell_type": "code",
   "execution_count": 16,
   "metadata": {},
   "outputs": [
    {
     "name": "stdout",
     "output_type": "stream",
     "text": [
      "a    2\n",
      "b    4\n",
      "c    3\n",
      "dtype: int64\n",
      "first     6\n",
      "second    3\n",
      "dtype: int64\n",
      "first     6\n",
      "second    3\n",
      "dtype: int64\n"
     ]
    }
   ],
   "source": [
    "print(portfolio.orders.count())\n",
    "print(portfolio_grouped.orders.count())\n",
    "print(portfolio_shared.orders.count())"
   ]
  },
  {
   "cell_type": "code",
   "execution_count": 17,
   "metadata": {},
   "outputs": [
    {
     "name": "stdout",
     "output_type": "stream",
     "text": [
      "a    2\n",
      "b    4\n",
      "c    3\n",
      "dtype: int64\n",
      "a    2\n",
      "b    4\n",
      "c    3\n",
      "dtype: int64\n",
      "a    2\n",
      "b    4\n",
      "c    3\n",
      "dtype: int64\n",
      "first     6\n",
      "second    3\n",
      "dtype: int64\n",
      "first     6\n",
      "second    3\n",
      "dtype: int64\n",
      "first     6\n",
      "second    3\n",
      "dtype: int64\n"
     ]
    }
   ],
   "source": [
    "print(portfolio.regroup_orders().count())\n",
    "print(portfolio_grouped.regroup_orders(group_by=False).count())\n",
    "print(portfolio_shared.regroup_orders(group_by=False).count())\n",
    "\n",
    "print(portfolio.regroup_orders(group_by=group_by).count())\n",
    "print(portfolio_grouped.regroup_orders().count())\n",
    "print(portfolio_shared.regroup_orders().count())"
   ]
  },
  {
   "cell_type": "code",
   "execution_count": 18,
   "metadata": {},
   "outputs": [
    {
     "name": "stdout",
     "output_type": "stream",
     "text": [
      "a    1\n",
      "b    2\n",
      "c    2\n",
      "dtype: int64\n",
      "a    1\n",
      "b    2\n",
      "c    1\n",
      "dtype: int64\n",
      "a    1\n",
      "b    2\n",
      "c    1\n",
      "dtype: int64\n",
      "a    1\n",
      "b    2\n",
      "c    1\n",
      "dtype: int64\n",
      "first     3\n",
      "second    1\n",
      "dtype: int64\n",
      "first     3\n",
      "second    1\n",
      "dtype: int64\n",
      "first     3\n",
      "second    1\n",
      "dtype: int64\n"
     ]
    }
   ],
   "source": [
    "print(portfolio.trades(incl_unrealized=True).count())\n",
    "\n",
    "print(portfolio.trades().count())\n",
    "print(portfolio_grouped.trades(group_by=False).count())\n",
    "print(portfolio_shared.trades(group_by=False).count())\n",
    "\n",
    "print(portfolio.trades(group_by=group_by).count())\n",
    "print(portfolio_grouped.trades().count())\n",
    "print(portfolio_shared.trades().count())"
   ]
  },
  {
   "cell_type": "code",
   "execution_count": 41,
   "metadata": {},
   "outputs": [
    {
     "name": "stdout",
     "output_type": "stream",
     "text": [
      "66.4 ms ± 27.8 ms per loop (mean ± std. dev. of 7 runs, 10 loops each)\n"
     ]
    }
   ],
   "source": [
    "%timeit big_portfolio.trades()"
   ]
  },
  {
   "cell_type": "code",
   "execution_count": 19,
   "metadata": {},
   "outputs": [
    {
     "name": "stdout",
     "output_type": "stream",
     "text": [
      "a    1\n",
      "b    1\n",
      "c    1\n",
      "dtype: int64\n",
      "a    1\n",
      "b    1\n",
      "c    0\n",
      "dtype: int64\n",
      "a    1\n",
      "b    1\n",
      "c    0\n",
      "dtype: int64\n",
      "a    1\n",
      "b    1\n",
      "c    0\n",
      "dtype: int64\n",
      "first     2\n",
      "second    0\n",
      "dtype: int64\n",
      "first     2\n",
      "second    0\n",
      "dtype: int64\n",
      "first     2\n",
      "second    0\n",
      "dtype: int64\n"
     ]
    }
   ],
   "source": [
    "print(portfolio.positions(incl_unrealized=True).count())\n",
    "\n",
    "print(portfolio.positions().count())\n",
    "print(portfolio_grouped.positions(group_by=False).count())\n",
    "print(portfolio_shared.positions(group_by=False).count())\n",
    "\n",
    "print(portfolio.positions(group_by=group_by).count())\n",
    "print(portfolio_grouped.positions().count())\n",
    "print(portfolio_shared.positions().count())"
   ]
  },
  {
   "cell_type": "code",
   "execution_count": 39,
   "metadata": {},
   "outputs": [
    {
     "name": "stdout",
     "output_type": "stream",
     "text": [
      "42.3 ms ± 12.1 ms per loop (mean ± std. dev. of 7 runs, 10 loops each)\n"
     ]
    }
   ],
   "source": [
    "%timeit big_portfolio.positions()"
   ]
  },
  {
   "cell_type": "code",
   "execution_count": 20,
   "metadata": {},
   "outputs": [
    {
     "name": "stdout",
     "output_type": "stream",
     "text": [
      "a    1\n",
      "b    0\n",
      "c    0\n",
      "dtype: int64\n",
      "a    1\n",
      "b    0\n",
      "c    0\n",
      "dtype: int64\n",
      "a    1\n",
      "b    0\n",
      "c    0\n",
      "dtype: int64\n",
      "first     0\n",
      "second    0\n",
      "dtype: int64\n",
      "first     0\n",
      "second    0\n",
      "dtype: int64\n",
      "first     0\n",
      "second    0\n",
      "dtype: int64\n"
     ]
    }
   ],
   "source": [
    "print(portfolio.drawdowns().count())\n",
    "print(portfolio_grouped.drawdowns(group_by=False).count())\n",
    "print(portfolio_shared.drawdowns(group_by=False).count())\n",
    "\n",
    "print(portfolio.drawdowns(group_by=group_by).count())\n",
    "print(portfolio_grouped.drawdowns().count())\n",
    "print(portfolio_shared.drawdowns().count())"
   ]
  },
  {
   "cell_type": "code",
   "execution_count": 43,
   "metadata": {},
   "outputs": [
    {
     "name": "stdout",
     "output_type": "stream",
     "text": [
      "16.6 ms ± 280 µs per loop (mean ± std. dev. of 7 runs, 100 loops each)\n"
     ]
    }
   ],
   "source": [
    "%timeit big_portfolio.drawdowns()"
   ]
  },
  {
   "cell_type": "code",
   "execution_count": 7,
   "metadata": {},
   "outputs": [
    {
     "name": "stdout",
     "output_type": "stream",
     "text": [
      "                 a       b       c\n",
      "2020-01-01  0.0000 -1.1201 -1.1201\n",
      "2020-01-02 -2.1402 -2.1402 -2.1402\n",
      "2020-01-03  0.0000  0.0000  0.0000\n",
      "2020-01-04  3.8204  3.8204  3.8204\n",
      "2020-01-05  0.0000  4.8005  0.0000\n",
      "                 a       b       c\n",
      "2020-01-01  0.0000 -1.1201 -1.1201\n",
      "2020-01-02 -2.1402 -2.1402 -2.1402\n",
      "2020-01-03  0.0000  0.0000  0.0000\n",
      "2020-01-04  3.8204  3.8204  3.8204\n",
      "2020-01-05  0.0000  4.8005  0.0000\n",
      "                 a       b       c\n",
      "2020-01-01  0.0000 -1.1201 -1.1201\n",
      "2020-01-02 -2.1402 -2.1402 -2.1402\n",
      "2020-01-03  0.0000  0.0000  0.0000\n",
      "2020-01-04  3.8204  3.8204  3.8204\n",
      "2020-01-05  0.0000  4.8005  0.0000\n",
      "             first  second\n",
      "2020-01-01 -1.1201 -1.1201\n",
      "2020-01-02 -4.2804 -2.1402\n",
      "2020-01-03  0.0000  0.0000\n",
      "2020-01-04  7.6408  3.8204\n",
      "2020-01-05  4.8005  0.0000\n",
      "             first  second\n",
      "2020-01-01 -1.1201 -1.1201\n",
      "2020-01-02 -4.2804 -2.1402\n",
      "2020-01-03  0.0000  0.0000\n",
      "2020-01-04  7.6408  3.8204\n",
      "2020-01-05  4.8005  0.0000\n",
      "             first  second\n",
      "2020-01-01 -1.1201 -1.1201\n",
      "2020-01-02 -4.2804 -2.1402\n",
      "2020-01-03  0.0000  0.0000\n",
      "2020-01-04  7.6408  3.8204\n",
      "2020-01-05  4.8005  0.0000\n"
     ]
    }
   ],
   "source": [
    "print(portfolio.cash_flow())\n",
    "print(portfolio_grouped.cash_flow(group_by=False))\n",
    "print(portfolio_shared.cash_flow(group_by=False))\n",
    "\n",
    "print(portfolio.cash_flow(group_by=group_by))\n",
    "print(portfolio_grouped.cash_flow())\n",
    "print(portfolio_shared.cash_flow())"
   ]
  },
  {
   "cell_type": "code",
   "execution_count": 8,
   "metadata": {},
   "outputs": [
    {
     "name": "stdout",
     "output_type": "stream",
     "text": [
      "8.26 ms ± 284 µs per loop (mean ± std. dev. of 7 runs, 100 loops each)\n",
      "8.36 ms ± 93.4 µs per loop (mean ± std. dev. of 7 runs, 100 loops each)\n",
      "8.69 ms ± 304 µs per loop (mean ± std. dev. of 7 runs, 100 loops each)\n",
      "17.4 ms ± 85.3 µs per loop (mean ± std. dev. of 7 runs, 100 loops each)\n",
      "17.5 ms ± 155 µs per loop (mean ± std. dev. of 7 runs, 100 loops each)\n",
      "18 ms ± 543 µs per loop (mean ± std. dev. of 7 runs, 100 loops each)\n"
     ]
    }
   ],
   "source": [
    "%timeit big_portfolio.cash_flow()\n",
    "%timeit big_portfolio_grouped.cash_flow(group_by=False)\n",
    "%timeit big_portfolio_shared.cash_flow(group_by=False)\n",
    "\n",
    "%timeit big_portfolio.cash_flow(group_by=big_group_by)\n",
    "%timeit big_portfolio_grouped.cash_flow()\n",
    "%timeit big_portfolio_shared.cash_flow()"
   ]
  },
  {
   "cell_type": "code",
   "execution_count": 9,
   "metadata": {},
   "outputs": [
    {
     "name": "stdout",
     "output_type": "stream",
     "text": [
      "              a    b    c\n",
      "2020-01-01  0.0  1.0  1.0\n",
      "2020-01-02  2.0  4.0  4.0\n",
      "2020-01-03  3.0  NaN  6.0\n",
      "2020-01-04  0.0  4.0  4.0\n",
      "2020-01-05  0.0  0.0  NaN\n",
      "              a    b    c\n",
      "2020-01-01  0.0  1.0  1.0\n",
      "2020-01-02  2.0  4.0  4.0\n",
      "2020-01-03  3.0  NaN  6.0\n",
      "2020-01-04  0.0  4.0  4.0\n",
      "2020-01-05  0.0  0.0  NaN\n",
      "              a    b    c\n",
      "2020-01-01  0.0  1.0  1.0\n",
      "2020-01-02  2.0  4.0  4.0\n",
      "2020-01-03  3.0  NaN  6.0\n",
      "2020-01-04  0.0  4.0  4.0\n",
      "2020-01-05  0.0  0.0  NaN\n",
      "            first  second\n",
      "2020-01-01    1.0     1.0\n",
      "2020-01-02    6.0     4.0\n",
      "2020-01-03    NaN     6.0\n",
      "2020-01-04    4.0     4.0\n",
      "2020-01-05    0.0     NaN\n",
      "            first  second\n",
      "2020-01-01    1.0     1.0\n",
      "2020-01-02    6.0     4.0\n",
      "2020-01-03    NaN     6.0\n",
      "2020-01-04    4.0     4.0\n",
      "2020-01-05    0.0     NaN\n",
      "            first  second\n",
      "2020-01-01    1.0     1.0\n",
      "2020-01-02    6.0     4.0\n",
      "2020-01-03    NaN     6.0\n",
      "2020-01-04    4.0     4.0\n",
      "2020-01-05    0.0     NaN\n"
     ]
    }
   ],
   "source": [
    "print(portfolio.holding_value())\n",
    "print(portfolio_grouped.holding_value(group_by=False))\n",
    "print(portfolio_shared.holding_value(group_by=False))\n",
    "\n",
    "print(portfolio.holding_value(group_by=group_by))\n",
    "print(portfolio_grouped.holding_value())\n",
    "print(portfolio_shared.holding_value())"
   ]
  },
  {
   "cell_type": "code",
   "execution_count": 11,
   "metadata": {},
   "outputs": [
    {
     "name": "stdout",
     "output_type": "stream",
     "text": [
      "7.25 ms ± 1.18 ms per loop (mean ± std. dev. of 7 runs, 100 loops each)\n",
      "6.52 ms ± 56.2 µs per loop (mean ± std. dev. of 7 runs, 100 loops each)\n",
      "6.54 ms ± 49.8 µs per loop (mean ± std. dev. of 7 runs, 100 loops each)\n",
      "22.8 ms ± 99.7 µs per loop (mean ± std. dev. of 7 runs, 10 loops each)\n",
      "22.9 ms ± 200 µs per loop (mean ± std. dev. of 7 runs, 10 loops each)\n",
      "24.4 ms ± 191 µs per loop (mean ± std. dev. of 7 runs, 10 loops each)\n"
     ]
    }
   ],
   "source": [
    "%timeit big_portfolio.holding_value()\n",
    "%timeit big_portfolio_grouped.holding_value(group_by=False)\n",
    "%timeit big_portfolio_shared.holding_value(group_by=False)\n",
    "\n",
    "%timeit big_portfolio.holding_value(group_by=big_group_by)\n",
    "%timeit big_portfolio_grouped.holding_value()\n",
    "%timeit big_portfolio_shared.holding_value()"
   ]
  },
  {
   "cell_type": "code",
   "execution_count": 23,
   "metadata": {},
   "outputs": [
    {
     "name": "stdout",
     "output_type": "stream",
     "text": [
      "                 a       b       c\n",
      "2020-01-01  100.00   99.99  199.99\n",
      "2020-01-02   99.98  100.97  200.97\n",
      "2020-01-03  100.98     NaN  202.97\n",
      "2020-01-04  101.94  104.93  204.93\n",
      "2020-01-05  101.94  105.88     NaN\n",
      "                 a       b       c\n",
      "2020-01-01  100.00   99.99  199.99\n",
      "2020-01-02   99.98  100.97  200.97\n",
      "2020-01-03  100.98     NaN  202.97\n",
      "2020-01-04  101.94  104.93  204.93\n",
      "2020-01-05  101.94  105.88     NaN\n",
      "                 a       b       c\n",
      "2020-01-01  100.00   99.99  199.99\n",
      "2020-01-02   99.98  100.97  200.97\n",
      "2020-01-03  100.98     NaN  202.97\n",
      "2020-01-04  101.94  104.93  204.93\n",
      "2020-01-05  101.94  105.88     NaN\n",
      "                 a       b       c\n",
      "2020-01-01  100.00   99.99  199.99\n",
      "2020-01-02   99.97  100.95  200.97\n",
      "2020-01-03  101.95     NaN  202.97\n",
      "2020-01-04     NaN  106.87  204.93\n",
      "2020-01-05  106.87  107.82     NaN\n",
      "             first  second\n",
      "2020-01-01  199.99  199.99\n",
      "2020-01-02  200.95  200.97\n",
      "2020-01-03     NaN  202.97\n",
      "2020-01-04  206.87  204.93\n",
      "2020-01-05  207.82     NaN\n",
      "             first  second\n",
      "2020-01-01  199.99  199.99\n",
      "2020-01-02  200.95  200.97\n",
      "2020-01-03     NaN  202.97\n",
      "2020-01-04  206.87  204.93\n",
      "2020-01-05  207.82     NaN\n",
      "             first  second\n",
      "2020-01-01   99.99  199.99\n",
      "2020-01-02  100.95  200.97\n",
      "2020-01-03     NaN  202.97\n",
      "2020-01-04  106.87  204.93\n",
      "2020-01-05  107.82     NaN\n"
     ]
    }
   ],
   "source": [
    "print(portfolio.value())\n",
    "print(portfolio_grouped.value(group_by=False))\n",
    "print(portfolio_shared.value(group_by=False))\n",
    "\n",
    "print(portfolio_shared.value(group_by=False, iterative=True))\n",
    "\n",
    "print(portfolio.value(group_by=group_by))\n",
    "print(portfolio_grouped.value())\n",
    "print(portfolio_shared.value())"
   ]
  },
  {
   "cell_type": "code",
   "execution_count": 6,
   "metadata": {},
   "outputs": [
    {
     "name": "stdout",
     "output_type": "stream",
     "text": [
      "9.39 ms ± 69 µs per loop (mean ± std. dev. of 7 runs, 100 loops each)\n",
      "38.9 ms ± 506 µs per loop (mean ± std. dev. of 7 runs, 10 loops each)\n",
      "44.3 ms ± 584 µs per loop (mean ± std. dev. of 7 runs, 10 loops each)\n",
      "28.1 ms ± 148 µs per loop (mean ± std. dev. of 7 runs, 10 loops each)\n",
      "34.7 ms ± 232 µs per loop (mean ± std. dev. of 7 runs, 10 loops each)\n",
      "34.9 ms ± 308 µs per loop (mean ± std. dev. of 7 runs, 10 loops each)\n",
      "34.5 ms ± 386 µs per loop (mean ± std. dev. of 7 runs, 10 loops each)\n"
     ]
    }
   ],
   "source": [
    "%timeit big_portfolio.value()\n",
    "%timeit big_portfolio_grouped.value(group_by=False)\n",
    "%timeit big_portfolio_shared.value(group_by=False)\n",
    "\n",
    "%timeit big_portfolio_shared.value(group_by=False, iterative=True)\n",
    "\n",
    "%timeit big_portfolio.value(group_by=big_group_by)\n",
    "%timeit big_portfolio_grouped.value()\n",
    "%timeit big_portfolio_shared.value()"
   ]
  },
  {
   "cell_type": "code",
   "execution_count": 24,
   "metadata": {},
   "outputs": [
    {
     "name": "stdout",
     "output_type": "stream",
     "text": [
      "a    101.94\n",
      "b    105.88\n",
      "c    204.93\n",
      "dtype: float64\n",
      "a    101.94\n",
      "b    105.88\n",
      "c    204.93\n",
      "dtype: float64\n",
      "a    101.94\n",
      "b    105.88\n",
      "c    204.93\n",
      "dtype: float64\n",
      "a    106.87\n",
      "b    107.82\n",
      "c    204.93\n",
      "dtype: float64\n",
      "first     207.82\n",
      "second    204.93\n",
      "dtype: float64\n",
      "first     207.82\n",
      "second    204.93\n",
      "dtype: float64\n",
      "first     107.82\n",
      "second    204.93\n",
      "dtype: float64\n"
     ]
    }
   ],
   "source": [
    "print(portfolio.final_value())\n",
    "print(portfolio_grouped.final_value(group_by=False))\n",
    "print(portfolio_shared.final_value(group_by=False))\n",
    "\n",
    "print(portfolio_shared.final_value(group_by=False, iterative=True))\n",
    "\n",
    "print(portfolio.final_value(group_by=group_by))\n",
    "print(portfolio_grouped.final_value())\n",
    "print(portfolio_shared.final_value())"
   ]
  },
  {
   "cell_type": "code",
   "execution_count": 8,
   "metadata": {},
   "outputs": [
    {
     "name": "stdout",
     "output_type": "stream",
     "text": [
      "11.8 ms ± 1.33 ms per loop (mean ± std. dev. of 7 runs, 100 loops each)\n",
      "41.3 ms ± 1.77 ms per loop (mean ± std. dev. of 7 runs, 10 loops each)\n",
      "45.7 ms ± 438 µs per loop (mean ± std. dev. of 7 runs, 10 loops each)\n",
      "37.1 ms ± 6.73 ms per loop (mean ± std. dev. of 7 runs, 10 loops each)\n",
      "39.9 ms ± 3.4 ms per loop (mean ± std. dev. of 7 runs, 10 loops each)\n",
      "39.3 ms ± 4.05 ms per loop (mean ± std. dev. of 7 runs, 10 loops each)\n",
      "37 ms ± 316 µs per loop (mean ± std. dev. of 7 runs, 10 loops each)\n"
     ]
    }
   ],
   "source": [
    "%timeit big_portfolio.final_value()\n",
    "%timeit big_portfolio_grouped.final_value(group_by=False)\n",
    "%timeit big_portfolio_shared.final_value(group_by=False)\n",
    "\n",
    "%timeit big_portfolio_shared.final_value(group_by=False, iterative=True)\n",
    "\n",
    "%timeit big_portfolio.final_value(group_by=big_group_by)\n",
    "%timeit big_portfolio_grouped.final_value()\n",
    "%timeit big_portfolio_shared.final_value()"
   ]
  },
  {
   "cell_type": "code",
   "execution_count": 24,
   "metadata": {},
   "outputs": [
    {
     "name": "stdout",
     "output_type": "stream",
     "text": [
      "a    1.6802\n",
      "b    5.3606\n",
      "c    4.5601\n",
      "dtype: float64\n",
      "a    1.6802\n",
      "b    5.3606\n",
      "c    4.5601\n",
      "dtype: float64\n",
      "a    1.6802\n",
      "b    5.3606\n",
      "c    4.5601\n",
      "dtype: float64\n",
      "first     7.0408\n",
      "second    4.5601\n",
      "dtype: float64\n",
      "first     7.0408\n",
      "second    4.5601\n",
      "dtype: float64\n",
      "first     7.0408\n",
      "second    4.5601\n",
      "dtype: float64\n"
     ]
    }
   ],
   "source": [
    "print(portfolio.total_profit())\n",
    "print(portfolio_grouped.total_profit(group_by=False))\n",
    "print(portfolio_shared.total_profit(group_by=False))\n",
    "\n",
    "print(portfolio.total_profit(group_by=group_by))\n",
    "print(portfolio_grouped.total_profit())\n",
    "print(portfolio_shared.total_profit())"
   ]
  },
  {
   "cell_type": "code",
   "execution_count": 19,
   "metadata": {},
   "outputs": [
    {
     "name": "stdout",
     "output_type": "stream",
     "text": [
      "18.1 ms ± 571 µs per loop (mean ± std. dev. of 7 runs, 100 loops each)\n",
      "45.4 ms ± 1.37 ms per loop (mean ± std. dev. of 7 runs, 10 loops each)\n",
      "57.4 ms ± 3.21 ms per loop (mean ± std. dev. of 7 runs, 10 loops each)\n"
     ]
    }
   ],
   "source": [
    "%timeit big_portfolio.total_profit()\n",
    "%timeit big_portfolio_grouped.total_profit()\n",
    "%timeit big_portfolio_grouped.total_profit(group_by=False)"
   ]
  },
  {
   "cell_type": "code",
   "execution_count": 26,
   "metadata": {},
   "outputs": [
    {
     "name": "stdout",
     "output_type": "stream",
     "text": [
      "                   a         b         c\n",
      "2020-01-01  0.000000 -0.010000 -0.010000\n",
      "2020-01-02 -0.000200  0.009801  0.004900\n",
      "2020-01-03  0.010002       NaN  0.009952\n",
      "2020-01-04  0.009507       NaN  0.009657\n",
      "2020-01-05  0.000000  0.009054       NaN\n",
      "                   a         b         c\n",
      "2020-01-01  0.000000 -0.010000 -0.010000\n",
      "2020-01-02 -0.000200  0.009801  0.004900\n",
      "2020-01-03  0.010002       NaN  0.009952\n",
      "2020-01-04  0.009507       NaN  0.009657\n",
      "2020-01-05  0.000000  0.009054       NaN\n",
      "                   a         b         c\n",
      "2020-01-01  0.000000 -0.010000 -0.010000\n",
      "2020-01-02 -0.000200  0.009801  0.004900\n",
      "2020-01-03  0.010002       NaN  0.009952\n",
      "2020-01-04  0.009507       NaN  0.009657\n",
      "2020-01-05  0.000000  0.009054       NaN\n",
      "                   a         b         c\n",
      "2020-01-01  0.000000 -0.000100  0.999900\n",
      "2020-01-02 -0.000200  0.009803  0.004900\n",
      "2020-01-03  0.009906       NaN  0.009952\n",
      "2020-01-04       NaN       NaN  0.009657\n",
      "2020-01-05  0.000000  0.008889       NaN\n",
      "               first    second\n",
      "2020-01-01 -0.010000 -0.010000\n",
      "2020-01-02  0.004800  0.004900\n",
      "2020-01-03       NaN  0.009952\n",
      "2020-01-04       NaN  0.009657\n",
      "2020-01-05  0.004592       NaN\n",
      "               first    second\n",
      "2020-01-01 -0.010000 -0.010000\n",
      "2020-01-02  0.004800  0.004900\n",
      "2020-01-03       NaN  0.009952\n",
      "2020-01-04       NaN  0.009657\n",
      "2020-01-05  0.004592       NaN\n",
      "               first    second\n",
      "2020-01-01 -0.010000 -0.010000\n",
      "2020-01-02  0.009601  0.004900\n",
      "2020-01-03       NaN  0.009952\n",
      "2020-01-04       NaN  0.009657\n",
      "2020-01-05  0.008889       NaN\n"
     ]
    }
   ],
   "source": [
    "print(portfolio.returns())\n",
    "print(portfolio_grouped.returns(group_by=False))\n",
    "print(portfolio_shared.returns(group_by=False))\n",
    "\n",
    "print(portfolio_shared.returns(group_by=False, iterative=True))\n",
    "\n",
    "print(portfolio.returns(group_by=group_by))\n",
    "print(portfolio_grouped.returns())\n",
    "print(portfolio_shared.returns())  # twice bigger returns because of twice smaller init cash"
   ]
  },
  {
   "cell_type": "code",
   "execution_count": 8,
   "metadata": {},
   "outputs": [
    {
     "name": "stdout",
     "output_type": "stream",
     "text": [
      "17.7 ms ± 1.76 ms per loop (mean ± std. dev. of 7 runs, 100 loops each)\n",
      "39.6 ms ± 4.22 ms per loop (mean ± std. dev. of 7 runs, 10 loops each)\n",
      "59.7 ms ± 5.3 ms per loop (mean ± std. dev. of 7 runs, 10 loops each)\n",
      "49.9 ms ± 379 µs per loop (mean ± std. dev. of 7 runs, 10 loops each)\n",
      "48.9 ms ± 3.76 ms per loop (mean ± std. dev. of 7 runs, 10 loops each)\n",
      "53.7 ms ± 6.52 ms per loop (mean ± std. dev. of 7 runs, 10 loops each)\n",
      "48.8 ms ± 3.45 ms per loop (mean ± std. dev. of 7 runs, 10 loops each)\n"
     ]
    }
   ],
   "source": [
    "%timeit big_portfolio.returns()\n",
    "%timeit big_portfolio_grouped.returns(group_by=False)\n",
    "%timeit big_portfolio_shared.returns(group_by=False)\n",
    "\n",
    "%timeit big_portfolio_shared.returns(group_by=False, iterative=True)\n",
    "\n",
    "%timeit big_portfolio.returns(group_by=big_group_by)\n",
    "%timeit big_portfolio_grouped.returns()\n",
    "%timeit big_portfolio_shared.returns()"
   ]
  },
  {
   "cell_type": "code",
   "execution_count": 27,
   "metadata": {},
   "outputs": [
    {
     "name": "stdout",
     "output_type": "stream",
     "text": [
      "                   a         b         c\n",
      "2020-01-01  0.000000 -0.009901 -0.009901\n",
      "2020-01-02 -0.009901  0.324503  0.324503\n",
      "2020-01-03  0.500000       NaN  0.500000\n",
      "2020-01-04  0.320000       NaN  0.326667\n",
      "2020-01-05  0.000000  0.237500       NaN\n",
      "                   a         b         c\n",
      "2020-01-01  0.000000 -0.009901 -0.009901\n",
      "2020-01-02 -0.009901  0.324503  0.324503\n",
      "2020-01-03  0.500000       NaN  0.500000\n",
      "2020-01-04  0.320000       NaN  0.326667\n",
      "2020-01-05  0.000000  0.237500       NaN\n",
      "                   a         b         c\n",
      "2020-01-01  0.000000 -0.009901 -0.009901\n",
      "2020-01-02 -0.009901  0.324503  0.324503\n",
      "2020-01-03  0.500000       NaN  0.500000\n",
      "2020-01-04  0.320000       NaN  0.326667\n",
      "2020-01-05  0.000000  0.237500       NaN\n",
      "               first    second\n",
      "2020-01-01 -0.009901 -0.009901\n",
      "2020-01-02  0.190476  0.324503\n",
      "2020-01-03       NaN  0.500000\n",
      "2020-01-04       NaN  0.326667\n",
      "2020-01-05  0.237500       NaN\n",
      "               first    second\n",
      "2020-01-01 -0.009901 -0.009901\n",
      "2020-01-02  0.190476  0.324503\n",
      "2020-01-03       NaN  0.500000\n",
      "2020-01-04       NaN  0.326667\n",
      "2020-01-05  0.237500       NaN\n",
      "               first    second\n",
      "2020-01-01 -0.009901 -0.009901\n",
      "2020-01-02  0.190476  0.324503\n",
      "2020-01-03       NaN  0.500000\n",
      "2020-01-04       NaN  0.326667\n",
      "2020-01-05  0.237500       NaN\n"
     ]
    }
   ],
   "source": [
    "print(portfolio.active_returns())\n",
    "print(portfolio_grouped.active_returns(group_by=False))\n",
    "print(portfolio_shared.active_returns(group_by=False))\n",
    "\n",
    "print(portfolio.active_returns(group_by=group_by))\n",
    "print(portfolio_grouped.active_returns())\n",
    "print(portfolio_shared.active_returns())"
   ]
  },
  {
   "cell_type": "code",
   "execution_count": 28,
   "metadata": {},
   "outputs": [
    {
     "name": "stdout",
     "output_type": "stream",
     "text": [
      "34.1 ms ± 279 µs per loop (mean ± std. dev. of 7 runs, 10 loops each)\n",
      "34.8 ms ± 844 µs per loop (mean ± std. dev. of 7 runs, 10 loops each)\n",
      "51.5 ms ± 1.52 ms per loop (mean ± std. dev. of 7 runs, 1 loop each)\n",
      "64.5 ms ± 4.53 ms per loop (mean ± std. dev. of 7 runs, 1 loop each)\n",
      "62.4 ms ± 394 µs per loop (mean ± std. dev. of 7 runs, 10 loops each)\n",
      "66.2 ms ± 7.24 ms per loop (mean ± std. dev. of 7 runs, 10 loops each)\n"
     ]
    }
   ],
   "source": [
    "%timeit big_portfolio.active_returns()\n",
    "%timeit big_portfolio_grouped.active_returns(group_by=False)\n",
    "%timeit big_portfolio_shared.active_returns(group_by=False)\n",
    "\n",
    "%timeit big_portfolio.active_returns(group_by=big_group_by)\n",
    "%timeit big_portfolio_grouped.active_returns()\n",
    "%timeit big_portfolio_shared.active_returns()"
   ]
  },
  {
   "cell_type": "code",
   "execution_count": 29,
   "metadata": {},
   "outputs": [
    {
     "name": "stdout",
     "output_type": "stream",
     "text": [
      "a    1.5\n",
      "b    4.0\n",
      "c    3.0\n",
      "dtype: float64\n",
      "a    1.5\n",
      "b    4.0\n",
      "c    3.0\n",
      "dtype: float64\n",
      "a    1.5\n",
      "b    4.0\n",
      "c    3.0\n",
      "dtype: float64\n",
      "first     2.75\n",
      "second    3.00\n",
      "dtype: float64\n",
      "first     2.75\n",
      "second    3.00\n",
      "dtype: float64\n",
      "first     2.75\n",
      "second    3.00\n",
      "dtype: float64\n"
     ]
    }
   ],
   "source": [
    "print(portfolio.buy_and_hold_return())\n",
    "print(portfolio_grouped.buy_and_hold_return(group_by=False))\n",
    "print(portfolio_shared.buy_and_hold_return(group_by=False))\n",
    "\n",
    "print(portfolio.buy_and_hold_return(group_by=group_by))\n",
    "print(portfolio_grouped.buy_and_hold_return())\n",
    "print(portfolio_shared.buy_and_hold_return())"
   ]
  },
  {
   "cell_type": "code",
   "execution_count": 6,
   "metadata": {},
   "outputs": [
    {
     "name": "stdout",
     "output_type": "stream",
     "text": [
      "290 µs ± 56.2 µs per loop (mean ± std. dev. of 7 runs, 1000 loops each)\n",
      "243 µs ± 13.9 µs per loop (mean ± std. dev. of 7 runs, 1000 loops each)\n",
      "237 µs ± 8.24 µs per loop (mean ± std. dev. of 7 runs, 1000 loops each)\n",
      "737 µs ± 282 µs per loop (mean ± std. dev. of 7 runs, 1 loop each)\n",
      "567 µs ± 16 µs per loop (mean ± std. dev. of 7 runs, 1000 loops each)\n",
      "1.83 ms ± 92.6 µs per loop (mean ± std. dev. of 7 runs, 1000 loops each)\n"
     ]
    }
   ],
   "source": [
    "%timeit big_portfolio.buy_and_hold_return()\n",
    "%timeit big_portfolio_grouped.buy_and_hold_return(group_by=False)\n",
    "%timeit big_portfolio_shared.buy_and_hold_return(group_by=False)\n",
    "\n",
    "%timeit big_portfolio.buy_and_hold_return(group_by=big_group_by)\n",
    "%timeit big_portfolio_grouped.buy_and_hold_return()\n",
    "%timeit big_portfolio_shared.buy_and_hold_return()"
   ]
  },
  {
   "cell_type": "code",
   "execution_count": 30,
   "metadata": {},
   "outputs": [
    {
     "name": "stdout",
     "output_type": "stream",
     "text": [
      "               first    second\n",
      "2020-01-01 -0.010000 -0.010000\n",
      "2020-01-02 -0.000495 -0.005149\n",
      "2020-01-03 -0.000495  0.004752\n",
      "2020-01-04 -0.000495  0.014454\n",
      "2020-01-05  0.008390  0.014454\n",
      "                 a         b         c\n",
      "2020-01-01  0.0000 -0.010000 -0.010000\n",
      "2020-01-02 -0.0002 -0.000297 -0.005149\n",
      "2020-01-03  0.0098 -0.000297  0.004752\n",
      "2020-01-04  0.0194 -0.000297  0.014454\n",
      "2020-01-05  0.0194  0.008754  0.014454\n",
      "                   a         b       c\n",
      "2020-01-01  0.000000 -0.000100  0.9999\n",
      "2020-01-02 -0.000200  0.009702  1.0097\n",
      "2020-01-03  0.009704  0.009702  1.0297\n",
      "2020-01-04  0.009704  0.009702  1.0493\n",
      "2020-01-05  0.009704  0.018678  1.0493\n",
      "                   a         b         c\n",
      "2020-01-01  0.000000 -0.009901 -0.009901\n",
      "2020-01-02 -0.009901  0.311389  0.311389\n",
      "2020-01-03  0.485149  0.311389  0.967084\n",
      "2020-01-04  0.960396  0.311389  1.609665\n",
      "2020-01-05  0.960396  0.622844  1.609665\n"
     ]
    }
   ],
   "source": [
    "print(portfolio_shared.cumulative_returns())\n",
    "print(portfolio_shared.cumulative_returns(group_by=False))\n",
    "print(portfolio_shared.cumulative_returns(group_by=False, returns_kwargs={'iterative': True}))\n",
    "print(portfolio_shared.cumulative_returns(group_by=False, returns_kwargs={'active': True}))"
   ]
  },
  {
   "cell_type": "code",
   "execution_count": 31,
   "metadata": {},
   "outputs": [
    {
     "name": "stdout",
     "output_type": "stream",
     "text": [
      "first     4.863664\n",
      "second    7.391588\n",
      "dtype: float64\n",
      "first     4.041266\n",
      "second    6.141743\n",
      "dtype: float64\n",
      "a    13.706690\n",
      "b     5.024615\n",
      "c     7.391588\n",
      "dtype: float64\n",
      "a     9.295366\n",
      "b    21.634449\n",
      "c     9.867139\n",
      "dtype: float64\n",
      "a    13.161545\n",
      "b    20.265523\n",
      "c    25.555721\n",
      "dtype: float64\n"
     ]
    }
   ],
   "source": [
    "print(portfolio_shared.sharpe_ratio())\n",
    "print(portfolio_shared.sharpe_ratio(year_freq='252D'))\n",
    "print(portfolio_shared.sharpe_ratio(group_by=False))\n",
    "print(portfolio_shared.sharpe_ratio(group_by=False, returns_kwargs={'iterative': True}))\n",
    "print(portfolio_shared.sharpe_ratio(group_by=False, returns_kwargs={'active': True}))"
   ]
  },
  {
   "cell_type": "code",
   "execution_count": 32,
   "metadata": {},
   "outputs": [
    {
     "name": "stdout",
     "output_type": "stream",
     "text": [
      "Start                     2020-01-01 00:00:00\n",
      "End                       2020-01-05 00:00:00\n",
      "Duration                      5 days 00:00:00\n",
      "Holding Duration [%]                       40\n",
      "Total Profit                             1.94\n",
      "Total Return [%]                         1.94\n",
      "Buy & Hold Return [%]                     150\n",
      "Max. Drawdown [%]                        0.02\n",
      "Avg. Drawdown [%]                        0.02\n",
      "Max. Drawdown Duration        2 days 00:00:00\n",
      "Avg. Drawdown Duration        2 days 00:00:00\n",
      "Num. Trades                                 1\n",
      "Win Rate [%]                              100\n",
      "Best Trade [%]                        96.0396\n",
      "Worst Trade [%]                       96.0396\n",
      "Avg. Trade [%]                        96.0396\n",
      "Max. Trade Duration           2 days 00:00:00\n",
      "Avg. Trade Duration           2 days 00:00:00\n",
      "Expectancy                               1.94\n",
      "SQN                                       NaN\n",
      "Sharpe Ratio                          13.7067\n",
      "Sortino Ratio                         824.874\n",
      "Calmar Ratio                          15329.6\n",
      "Name: a, dtype: object\n"
     ]
    }
   ],
   "source": [
    "print(portfolio['a'].stats())"
   ]
  },
  {
   "cell_type": "code",
   "execution_count": 33,
   "metadata": {},
   "outputs": [
    {
     "name": "stdout",
     "output_type": "stream",
     "text": [
      "Start                     2020-01-01 00:00:00\n",
      "End                       2020-01-05 00:00:00\n",
      "Duration                      5 days 00:00:00\n",
      "Holding Duration [%]                       40\n",
      "Total Profit                             1.94\n",
      "Total Return [%]                         1.94\n",
      "Buy & Hold Return [%]                     150\n",
      "Max. Drawdown [%]                        0.02\n",
      "Avg. Drawdown [%]                        0.02\n",
      "Max. Drawdown Duration        2 days 00:00:00\n",
      "Avg. Drawdown Duration        2 days 00:00:00\n",
      "Num. Trades                                 1\n",
      "Win Rate [%]                              100\n",
      "Best Trade [%]                        96.0396\n",
      "Worst Trade [%]                       96.0396\n",
      "Avg. Trade [%]                        96.0396\n",
      "Max. Trade Duration           2 days 00:00:00\n",
      "Avg. Trade Duration           2 days 00:00:00\n",
      "Expectancy                               1.94\n",
      "SQN                                       NaN\n",
      "Sharpe Ratio                          13.7067\n",
      "Sortino Ratio                         824.874\n",
      "Calmar Ratio                          15329.6\n",
      "Name: a, dtype: object\n"
     ]
    }
   ],
   "source": [
    "print(portfolio['a'].stats(incl_unrealized=True))"
   ]
  },
  {
   "cell_type": "code",
   "execution_count": 11,
   "metadata": {},
   "outputs": [
    {
     "name": "stdout",
     "output_type": "stream",
     "text": [
      "Start                     2020-01-01 00:00:00\n",
      "End                       2020-01-05 00:00:00\n",
      "Duration                      5 days 00:00:00\n",
      "Holding Duration [%]                        0\n",
      "Total Profit                             4.93\n",
      "Total Return [%]                      1.44542\n",
      "Buy & Hold Return [%]                     300\n",
      "Max. Drawdown [%]                          -0\n",
      "Avg. Drawdown [%]                          -0\n",
      "Max. Drawdown Duration                    NaT\n",
      "Avg. Drawdown Duration                    NaT\n",
      "Num. Trades                                 1\n",
      "Win Rate [%]                              100\n",
      "Best Trade [%]                        161.386\n",
      "Worst Trade [%]                       161.386\n",
      "Avg. Trade [%]                        161.386\n",
      "Max. Trade Duration           3 days 00:00:00\n",
      "Avg. Trade Duration           3 days 00:00:00\n",
      "Expectancy                              2.445\n",
      "SQN                                       NaN\n",
      "Sharpe Ratio                          7.39159\n",
      "Sortino Ratio                         13.8593\n",
      "Calmar Ratio                              NaN\n",
      "Name: c, dtype: object\n"
     ]
    }
   ],
   "source": [
    "print(portfolio.stats(column='c'))"
   ]
  },
  {
   "cell_type": "code",
   "execution_count": 5,
   "metadata": {},
   "outputs": [
    {
     "name": "stdout",
     "output_type": "stream",
     "text": [
      "Start                     2020-01-01 00:00:00\n",
      "End                       2020-01-05 00:00:00\n",
      "Duration                      5 days 00:00:00\n",
      "Holding Duration [%]                        0\n",
      "Total Profit                             4.93\n",
      "Total Return [%]                      1.44542\n",
      "Buy & Hold Return [%]                     300\n",
      "Max. Drawdown [%]                          -0\n",
      "Avg. Drawdown [%]                          -0\n",
      "Max. Drawdown Duration                    NaT\n",
      "Avg. Drawdown Duration                    NaT\n",
      "Num. Trades                                 1\n",
      "Win Rate [%]                              100\n",
      "Best Trade [%]                        161.386\n",
      "Worst Trade [%]                       161.386\n",
      "Avg. Trade [%]                        161.386\n",
      "Max. Trade Duration           3 days 00:00:00\n",
      "Avg. Trade Duration           3 days 00:00:00\n",
      "Expectancy                              2.445\n",
      "SQN                                       NaN\n",
      "Sharpe Ratio                          7.39159\n",
      "Sortino Ratio                         13.8593\n",
      "Calmar Ratio                              NaN\n",
      "Name: second, dtype: object\n"
     ]
    }
   ],
   "source": [
    "print(portfolio_grouped['second'].stats())"
   ]
  },
  {
   "cell_type": "code",
   "execution_count": 6,
   "metadata": {},
   "outputs": [
    {
     "name": "stdout",
     "output_type": "stream",
     "text": [
      "Start                     2020-01-01 00:00:00\n",
      "End                       2020-01-05 00:00:00\n",
      "Duration                      5 days 00:00:00\n",
      "Holding Duration [%]                        0\n",
      "Total Profit                             4.93\n",
      "Total Return [%]                      1.44542\n",
      "Buy & Hold Return [%]                     300\n",
      "Max. Drawdown [%]                          -0\n",
      "Avg. Drawdown [%]                          -0\n",
      "Max. Drawdown Duration                    NaT\n",
      "Avg. Drawdown Duration                    NaT\n",
      "Num. Trades                                 1\n",
      "Win Rate [%]                              100\n",
      "Best Trade [%]                        161.386\n",
      "Worst Trade [%]                       161.386\n",
      "Avg. Trade [%]                        161.386\n",
      "Max. Trade Duration           3 days 00:00:00\n",
      "Avg. Trade Duration           3 days 00:00:00\n",
      "Expectancy                              2.445\n",
      "SQN                                       NaN\n",
      "Sharpe Ratio                          7.39159\n",
      "Sortino Ratio                         13.8593\n",
      "Calmar Ratio                              NaN\n",
      "Name: second, dtype: object\n"
     ]
    }
   ],
   "source": [
    "print(portfolio_grouped.stats(column='second'))"
   ]
  },
  {
   "cell_type": "code",
   "execution_count": 7,
   "metadata": {},
   "outputs": [
    {
     "name": "stdout",
     "output_type": "stream",
     "text": [
      "Start                     2020-01-01 00:00:00\n",
      "End                       2020-01-05 00:00:00\n",
      "Duration                      5 days 00:00:00\n",
      "Holding Duration [%]                        0\n",
      "Total Profit                             4.93\n",
      "Total Return [%]                      1.44542\n",
      "Buy & Hold Return [%]                     300\n",
      "Max. Drawdown [%]                          -0\n",
      "Avg. Drawdown [%]                          -0\n",
      "Max. Drawdown Duration                    NaT\n",
      "Avg. Drawdown Duration                    NaT\n",
      "Num. Trades                                 1\n",
      "Win Rate [%]                              100\n",
      "Best Trade [%]                        161.386\n",
      "Worst Trade [%]                       161.386\n",
      "Avg. Trade [%]                        161.386\n",
      "Max. Trade Duration           3 days 00:00:00\n",
      "Avg. Trade Duration           3 days 00:00:00\n",
      "Expectancy                              2.445\n",
      "SQN                                       NaN\n",
      "Sharpe Ratio                          7.39159\n",
      "Sortino Ratio                         13.8593\n",
      "Calmar Ratio                              NaN\n",
      "Name: c, dtype: object\n"
     ]
    }
   ],
   "source": [
    "print(portfolio_grouped.stats(column='c', group_by=False))"
   ]
  },
  {
   "cell_type": "code",
   "execution_count": 17,
   "metadata": {},
   "outputs": [
    {
     "name": "stdout",
     "output_type": "stream",
     "text": [
      "19.9 ms ± 775 µs per loop (mean ± std. dev. of 7 runs, 10 loops each)\n",
      "23.4 ms ± 170 µs per loop (mean ± std. dev. of 7 runs, 10 loops each)\n",
      "41.6 ms ± 1.31 ms per loop (mean ± std. dev. of 7 runs, 10 loops each)\n",
      "28.4 ms ± 446 µs per loop (mean ± std. dev. of 7 runs, 10 loops each)\n",
      "29.4 ms ± 862 µs per loop (mean ± std. dev. of 7 runs, 10 loops each)\n",
      "53.1 ms ± 483 µs per loop (mean ± std. dev. of 7 runs, 10 loops each)\n"
     ]
    }
   ],
   "source": [
    "# Calculates stats for one column\n",
    "%timeit big_portfolio.iloc[:, 0].stats()\n",
    "%timeit big_portfolio_grouped.iloc[:, 0].stats(group_by=False)\n",
    "%timeit big_portfolio_shared.iloc[:, 0].stats(group_by=False)\n",
    "\n",
    "%timeit big_portfolio.iloc[:, 0].stats(group_by=np.array([0]))\n",
    "%timeit big_portfolio_grouped.iloc[:, 0].stats()\n",
    "%timeit big_portfolio_shared.iloc[:, 0].stats()"
   ]
  },
  {
   "cell_type": "code",
   "execution_count": 18,
   "metadata": {},
   "outputs": [
    {
     "name": "stdout",
     "output_type": "stream",
     "text": [
      "451 ms ± 72.2 ms per loop (mean ± std. dev. of 7 runs, 1 loop each)\n",
      "534 ms ± 27.6 ms per loop (mean ± std. dev. of 7 runs, 1 loop each)\n",
      "655 ms ± 26.7 ms per loop (mean ± std. dev. of 7 runs, 1 loop each)\n",
      "591 ms ± 31 ms per loop (mean ± std. dev. of 7 runs, 1 loop each)\n",
      "608 ms ± 29.9 ms per loop (mean ± std. dev. of 7 runs, 1 loop each)\n",
      "600 ms ± 25.6 ms per loop (mean ± std. dev. of 7 runs, 1 loop each)\n"
     ]
    }
   ],
   "source": [
    "# Calculates stats for all columns and selects one, takes advantage of caching (which is disabled here)\n",
    "# Thus some series are re-calculated multiple times, such as records and returns\n",
    "%timeit big_portfolio.stats(column=0)\n",
    "%timeit big_portfolio_grouped.stats(group_by=False, column=0)\n",
    "%timeit big_portfolio_shared.stats(group_by=False, column=0)\n",
    "\n",
    "%timeit big_portfolio.stats(group_by=big_group_by, column=0)\n",
    "%timeit big_portfolio_grouped.stats(column=0)\n",
    "%timeit big_portfolio_shared.stats(column=0)"
   ]
  },
  {
   "cell_type": "code",
   "execution_count": null,
   "metadata": {},
   "outputs": [],
   "source": []
  }
 ],
 "metadata": {
  "kernelspec": {
   "display_name": "Python 3",
   "language": "python",
   "name": "python3"
  },
  "language_info": {
   "codemirror_mode": {
    "name": "ipython",
    "version": 3
   },
   "file_extension": ".py",
   "mimetype": "text/x-python",
   "name": "python",
   "nbconvert_exporter": "python",
   "pygments_lexer": "ipython3",
   "version": "3.7.3"
  },
  "widgets": {
   "application/vnd.jupyter.widget-state+json": {
    "state": {},
    "version_major": 2,
    "version_minor": 0
   }
  }
 },
 "nbformat": 4,
 "nbformat_minor": 4
}
