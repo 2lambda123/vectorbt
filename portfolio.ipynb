{
 "cells": [
  {
   "cell_type": "markdown",
   "metadata": {},
   "source": [
    "# portfolio"
   ]
  },
  {
   "cell_type": "code",
   "execution_count": 1,
   "metadata": {},
   "outputs": [],
   "source": [
    "import vectorbt as vbt"
   ]
  },
  {
   "cell_type": "code",
   "execution_count": 2,
   "metadata": {
    "Collapsed": "false"
   },
   "outputs": [],
   "source": [
    "import numpy as np\n",
    "import pandas as pd\n",
    "from datetime import datetime, timedelta\n",
    "from numba import njit, f8, i8, b1, optional"
   ]
  },
  {
   "cell_type": "code",
   "execution_count": 3,
   "metadata": {
    "Collapsed": "false"
   },
   "outputs": [
    {
     "name": "stdout",
     "output_type": "stream",
     "text": [
      "              a    b    c    d\n",
      "2020-01-01  1.0  9.0  1.0  4.0\n",
      "2020-01-02  2.0  8.0  2.0  3.0\n",
      "2020-01-03  3.0  7.0  3.0  2.0\n",
      "2020-01-04  4.0  6.0  4.0  1.0\n",
      "2020-01-05  5.0  5.0  3.0  2.0\n",
      "2020-01-06  6.0  4.0  2.0  3.0\n",
      "2020-01-07  7.0  3.0  1.0  4.0\n"
     ]
    }
   ],
   "source": [
    "from datetime import datetime\n",
    "index = pd.Index([\n",
    "    datetime(2020, 1, 1),\n",
    "    datetime(2020, 1, 2),\n",
    "    datetime(2020, 1, 3),\n",
    "    datetime(2020, 1, 4),\n",
    "    datetime(2020, 1, 5),\n",
    "    datetime(2020, 1, 6),\n",
    "    datetime(2020, 1, 7),\n",
    "])\n",
    "ts = pd.DataFrame({\n",
    "    'a': [1, 2, 3, 4, 5, 6, 7],\n",
    "    'b': [9, 8, 7, 6, 5, 4, 3],\n",
    "    'c': [1, 2, 3, 4, 3, 2, 1],\n",
    "    'd': [4, 3, 2, 1, 2, 3, 4]\n",
    "}, index=index).astype(float)\n",
    "\n",
    "print(ts)"
   ]
  },
  {
   "cell_type": "code",
   "execution_count": 4,
   "metadata": {},
   "outputs": [
    {
     "data": {
      "text/plain": [
       "(1000, 1000)"
      ]
     },
     "execution_count": 4,
     "metadata": {},
     "output_type": "execute_result"
    }
   ],
   "source": [
    "big_ts = pd.DataFrame(np.random.uniform(size=(1000, 1000)).astype(float))\n",
    "big_ts.index = [datetime(2018, 1, 1) + timedelta(days=i) for i in range(1000)]\n",
    "big_ts.shape"
   ]
  },
  {
   "cell_type": "code",
   "execution_count": 5,
   "metadata": {
    "Collapsed": "false"
   },
   "outputs": [
    {
     "name": "stdout",
     "output_type": "stream",
     "text": [
      "                a      b      c      d\n",
      "2020-01-01  False  False   True  False\n",
      "2020-01-02  False  False  False  False\n",
      "2020-01-03   True   True  False   True\n",
      "2020-01-04  False  False  False  False\n",
      "2020-01-05   True   True  False  False\n",
      "2020-01-06  False  False  False  False\n",
      "2020-01-07  False  False   True   True\n"
     ]
    },
    {
     "name": "stderr",
     "output_type": "stream",
     "text": [
      "/Users/olegpolakow/Documents/SourceTree/vectorbt/vectorbt/signals/nb.py:152: NumbaWarning:\n",
      "\n",
      "\u001b[1mCannot cache compiled function \"generate_random_nb\" as it uses dynamic globals (such as ctypes pointers and large global arrays)\u001b[0m\n",
      "\n"
     ]
    }
   ],
   "source": [
    "entries = pd.DataFrame.vbt.signals.generate_random(ts.shape, 2, min_space=1, seed=42, index=ts.index, columns=ts.columns)\n",
    "big_entries = pd.DataFrame.vbt.signals.generate_random(big_ts.shape, 100, min_space=1, seed=42, index=big_ts.index)\n",
    "\n",
    "print(entries)"
   ]
  },
  {
   "cell_type": "code",
   "execution_count": 6,
   "metadata": {
    "Collapsed": "false"
   },
   "outputs": [
    {
     "name": "stdout",
     "output_type": "stream",
     "text": [
      "                a      b      c      d\n",
      "2020-01-01  False  False  False  False\n",
      "2020-01-02  False  False   True  False\n",
      "2020-01-03  False  False  False  False\n",
      "2020-01-04   True   True  False  False\n",
      "2020-01-05  False  False  False   True\n",
      "2020-01-06  False   True  False  False\n",
      "2020-01-07   True  False  False  False\n"
     ]
    },
    {
     "name": "stderr",
     "output_type": "stream",
     "text": [
      "/Users/olegpolakow/Documents/SourceTree/vectorbt/vectorbt/signals/nb.py:163: NumbaWarning:\n",
      "\n",
      "\u001b[1mCannot cache compiled function \"generate_random_after_nb\" as it uses dynamic globals (such as ctypes pointers and large global arrays)\u001b[0m\n",
      "\n"
     ]
    }
   ],
   "source": [
    "exits = entries.vbt.signals.generate_random_after(1, seed=42)\n",
    "big_exits = big_entries.vbt.signals.generate_random_after(1, seed=42)\n",
    "\n",
    "print(exits)"
   ]
  },
  {
   "cell_type": "code",
   "execution_count": 7,
   "metadata": {},
   "outputs": [],
   "source": [
    "vbt.defaults.portfolio['investment'] = 100 # set investment in cash globally"
   ]
  },
  {
   "cell_type": "markdown",
   "metadata": {},
   "source": [
    "## from_signals"
   ]
  },
  {
   "cell_type": "code",
   "execution_count": 8,
   "metadata": {},
   "outputs": [
    {
     "name": "stdout",
     "output_type": "stream",
     "text": [
      "2020-01-01    0.0\n",
      "2020-01-02    0.0\n",
      "2020-01-03    1.0\n",
      "2020-01-04   -1.0\n",
      "2020-01-05    1.0\n",
      "2020-01-06    0.0\n",
      "2020-01-07   -1.0\n",
      "Name: a, dtype: float64\n",
      "2020-01-01    0.0\n",
      "2020-01-02    0.0\n",
      "2020-01-03    1.0\n",
      "2020-01-04    0.0\n",
      "2020-01-05    1.0\n",
      "2020-01-06    1.0\n",
      "2020-01-07    0.0\n",
      "Name: a, dtype: float64\n",
      "2020-01-01    100.0\n",
      "2020-01-02    100.0\n",
      "2020-01-03     97.0\n",
      "2020-01-04    101.0\n",
      "2020-01-05     96.0\n",
      "2020-01-06     96.0\n",
      "2020-01-07    103.0\n",
      "Name: a, dtype: float64\n",
      "7.02 ms ± 933 µs per loop (mean ± std. dev. of 7 runs, 1 loop each)\n",
      "(1000,)\n"
     ]
    }
   ],
   "source": [
    "portfolio = vbt.Portfolio.from_signals(ts['a'], entries['a'], exits['a'], volume=1)\n",
    "print(portfolio.trades)\n",
    "print(portfolio.shares)\n",
    "print(portfolio.cash)\n",
    "\n",
    "%timeit vbt.Portfolio.from_signals(big_ts.iloc[:, 0], big_entries.iloc[:, 0], big_exits.iloc[:, 0], volume=1)\n",
    "print(vbt.Portfolio.from_signals(big_ts.iloc[:, 0], big_entries.iloc[:, 0], big_exits.iloc[:, 0], volume=1).equity.shape)"
   ]
  },
  {
   "cell_type": "code",
   "execution_count": 9,
   "metadata": {},
   "outputs": [
    {
     "name": "stdout",
     "output_type": "stream",
     "text": [
      "              a    b    c    d\n",
      "2020-01-01  0.0  0.0  1.0  0.0\n",
      "2020-01-02  0.0  0.0 -1.0  0.0\n",
      "2020-01-03  1.0  1.0  0.0  1.0\n",
      "2020-01-04 -1.0 -1.0  0.0  0.0\n",
      "2020-01-05  1.0  1.0  0.0 -1.0\n",
      "2020-01-06  0.0 -1.0  0.0  0.0\n",
      "2020-01-07 -1.0  0.0  1.0  1.0\n",
      "              a    b    c    d\n",
      "2020-01-01  0.0  0.0  1.0  0.0\n",
      "2020-01-02  0.0  0.0  0.0  0.0\n",
      "2020-01-03  1.0  1.0  0.0  1.0\n",
      "2020-01-04  0.0  0.0  0.0  1.0\n",
      "2020-01-05  1.0  1.0  0.0  0.0\n",
      "2020-01-06  1.0  0.0  0.0  0.0\n",
      "2020-01-07  0.0  0.0  1.0  1.0\n",
      "                a      b      c      d\n",
      "2020-01-01  100.0  100.0   99.0  100.0\n",
      "2020-01-02  100.0  100.0  101.0  100.0\n",
      "2020-01-03   97.0   97.0  101.0   97.0\n",
      "2020-01-04  101.0  101.0  101.0   97.0\n",
      "2020-01-05   96.0   96.0  101.0  102.0\n",
      "2020-01-06   96.0  102.0  101.0  102.0\n",
      "2020-01-07  103.0  102.0   94.0   95.0\n",
      "163 ms ± 18.3 ms per loop (mean ± std. dev. of 7 runs, 10 loops each)\n",
      "(1000, 1000)\n"
     ]
    }
   ],
   "source": [
    "portfolio = vbt.Portfolio.from_signals(ts['a'], entries, exits, volume=1) # test broadcasting\n",
    "print(portfolio.trades)\n",
    "print(portfolio.shares)\n",
    "print(portfolio.cash)\n",
    "\n",
    "%timeit vbt.Portfolio.from_signals(big_ts.iloc[:, 0], big_entries, big_exits, volume=1)\n",
    "print(vbt.Portfolio.from_signals(big_ts.iloc[:, 0], big_entries, big_exits, volume=1).equity.shape)"
   ]
  },
  {
   "cell_type": "code",
   "execution_count": 10,
   "metadata": {},
   "outputs": [
    {
     "name": "stdout",
     "output_type": "stream",
     "text": [
      "              a    b    c    d\n",
      "2020-01-01  0.0  0.0  1.0  0.0\n",
      "2020-01-02  0.0  0.0 -1.0  0.0\n",
      "2020-01-03  1.0  1.0  0.0  1.0\n",
      "2020-01-04 -1.0 -1.0  0.0  0.0\n",
      "2020-01-05  1.0  1.0  0.0 -1.0\n",
      "2020-01-06  0.0 -1.0  0.0  0.0\n",
      "2020-01-07 -1.0  0.0  1.0  1.0\n",
      "              a    b    c    d\n",
      "2020-01-01  0.0  0.0  1.0  0.0\n",
      "2020-01-02  0.0  0.0  0.0  0.0\n",
      "2020-01-03  1.0  1.0  0.0  1.0\n",
      "2020-01-04  0.0  0.0  0.0  1.0\n",
      "2020-01-05  1.0  1.0  0.0  0.0\n",
      "2020-01-06  1.0  0.0  0.0  0.0\n",
      "2020-01-07  0.0  0.0  1.0  1.0\n",
      "                a      b      c      d\n",
      "2020-01-01  100.0  100.0   99.0  100.0\n",
      "2020-01-02  100.0  100.0  101.0  100.0\n",
      "2020-01-03   97.0   93.0  101.0   98.0\n",
      "2020-01-04  101.0   99.0  101.0   98.0\n",
      "2020-01-05   96.0   94.0  101.0  100.0\n",
      "2020-01-06   96.0   98.0  101.0  100.0\n",
      "2020-01-07  103.0   98.0  100.0   96.0\n",
      "165 ms ± 18.3 ms per loop (mean ± std. dev. of 7 runs, 10 loops each)\n",
      "(1000, 1000)\n"
     ]
    }
   ],
   "source": [
    "portfolio = vbt.Portfolio.from_signals(ts, entries, exits, volume=1)\n",
    "print(portfolio.trades)\n",
    "print(portfolio.shares)\n",
    "print(portfolio.cash)\n",
    "\n",
    "%timeit vbt.Portfolio.from_signals(big_ts, big_entries, big_exits, volume=1)\n",
    "print(vbt.Portfolio.from_signals(big_ts, big_entries, big_exits, volume=1).equity.shape)"
   ]
  },
  {
   "cell_type": "code",
   "execution_count": 11,
   "metadata": {},
   "outputs": [
    {
     "name": "stdout",
     "output_type": "stream",
     "text": [
      "                    a          b           c      d\n",
      "2020-01-01   0.000000   0.000000    0.000000  25.00\n",
      "2020-01-02   0.000000   0.000000    0.000000   0.00\n",
      "2020-01-03  33.333333   0.000000   33.333333   0.00\n",
      "2020-01-04 -33.333333   0.000000  -33.333333 -25.00\n",
      "2020-01-05  26.666667  20.000000    0.000000   0.00\n",
      "2020-01-06 -26.666667 -20.000000    0.000000   0.00\n",
      "2020-01-07   0.000000  26.666667  133.333333   6.25\n",
      "                    a          b           c      d\n",
      "2020-01-01   0.000000   0.000000    0.000000  25.00\n",
      "2020-01-02   0.000000   0.000000    0.000000  25.00\n",
      "2020-01-03  33.333333   0.000000   33.333333  25.00\n",
      "2020-01-04   0.000000   0.000000    0.000000   0.00\n",
      "2020-01-05  26.666667  20.000000    0.000000   0.00\n",
      "2020-01-06   0.000000   0.000000    0.000000   0.00\n",
      "2020-01-07   0.000000  26.666667  133.333333   6.25\n",
      "                     a      b           c     d\n",
      "2020-01-01  100.000000  100.0  100.000000   0.0\n",
      "2020-01-02  100.000000  100.0  100.000000   0.0\n",
      "2020-01-03    0.000000  100.0    0.000000   0.0\n",
      "2020-01-04  133.333333  100.0  133.333333  25.0\n",
      "2020-01-05    0.000000    0.0  133.333333  25.0\n",
      "2020-01-06  160.000000   80.0  133.333333  25.0\n",
      "2020-01-07  160.000000    0.0    0.000000   0.0\n",
      "84.3 ms ± 10.2 ms per loop (mean ± std. dev. of 7 runs, 10 loops each)\n",
      "(1000, 1000)\n"
     ]
    }
   ],
   "source": [
    "portfolio = vbt.Portfolio.from_signals(ts, entries, exits, volume=np.inf) # all in/out\n",
    "print(portfolio.trades)\n",
    "print(portfolio.shares)\n",
    "print(portfolio.cash)\n",
    "\n",
    "%timeit vbt.Portfolio.from_signals(big_ts, big_entries, big_exits, volume=np.inf)\n",
    "print(vbt.Portfolio.from_signals(big_ts, big_entries, big_exits, volume=np.inf).equity.shape)"
   ]
  },
  {
   "cell_type": "code",
   "execution_count": 11,
   "metadata": {},
   "outputs": [
    {
     "name": "stdout",
     "output_type": "stream",
     "text": [
      "              a    b    c    d\n",
      "2020-01-01  0.0  0.0  1.0  0.0\n",
      "2020-01-02  0.0  0.0 -1.0  0.0\n",
      "2020-01-03  1.0  1.0  0.0  1.0\n",
      "2020-01-04 -1.0 -1.0  0.0  0.0\n",
      "2020-01-05  1.0  1.0  0.0 -1.0\n",
      "2020-01-06  0.0 -1.0  0.0  0.0\n",
      "2020-01-07 -1.0  0.0  1.0  1.0\n",
      "              a    b    c    d\n",
      "2020-01-01  0.0  0.0  1.0  0.0\n",
      "2020-01-02  0.0  0.0  0.0  0.0\n",
      "2020-01-03  1.0  1.0  0.0  1.0\n",
      "2020-01-04  0.0  0.0  0.0  1.0\n",
      "2020-01-05  1.0  1.0  0.0  0.0\n",
      "2020-01-06  1.0  0.0  0.0  0.0\n",
      "2020-01-07  0.0  0.0  1.0  1.0\n",
      "                 a       b       c       d\n",
      "2020-01-01  100.00  100.00   98.99  100.00\n",
      "2020-01-02  100.00  100.00  100.97  100.00\n",
      "2020-01-03   96.97   92.93  100.97   97.98\n",
      "2020-01-04  100.93   98.87  100.97   97.98\n",
      "2020-01-05   95.88   93.82  100.97   99.96\n",
      "2020-01-06   95.88   97.78  100.97   99.96\n",
      "2020-01-07  102.81   97.78   99.96   95.92\n",
      "179 ms ± 15.1 ms per loop (mean ± std. dev. of 7 runs, 10 loops each)\n",
      "(1000, 1000)\n"
     ]
    }
   ],
   "source": [
    "portfolio = vbt.Portfolio.from_signals(ts, entries, exits, volume=1, commission=0.01) # w/ commission\n",
    "print(portfolio.trades)\n",
    "print(portfolio.shares)\n",
    "print(portfolio.cash)\n",
    "\n",
    "%timeit vbt.Portfolio.from_signals(big_ts, big_entries, big_exits, volume=1, commission=0.01)\n",
    "print(vbt.Portfolio.from_signals(big_ts, big_entries, big_exits, volume=1, commission=0.01).equity.shape)"
   ]
  },
  {
   "cell_type": "code",
   "execution_count": 12,
   "metadata": {},
   "outputs": [
    {
     "name": "stdout",
     "output_type": "stream",
     "text": [
      "              a    b    c    d\n",
      "2020-01-01  0.0  0.0  1.0  0.0\n",
      "2020-01-02  0.0  0.0 -1.0  0.0\n",
      "2020-01-03  1.0  1.0  0.0  1.0\n",
      "2020-01-04 -1.0 -1.0  0.0  0.0\n",
      "2020-01-05  1.0  1.0  0.0 -1.0\n",
      "2020-01-06  0.0 -1.0  0.0  0.0\n",
      "2020-01-07 -1.0  0.0  1.0  1.0\n",
      "              a    b    c    d\n",
      "2020-01-01  0.0  0.0  1.0  0.0\n",
      "2020-01-02  0.0  0.0  0.0  0.0\n",
      "2020-01-03  1.0  1.0  0.0  1.0\n",
      "2020-01-04  0.0  0.0  0.0  1.0\n",
      "2020-01-05  1.0  1.0  0.0  0.0\n",
      "2020-01-06  1.0  0.0  0.0  0.0\n",
      "2020-01-07  0.0  0.0  1.0  1.0\n",
      "                 a       b       c       d\n",
      "2020-01-01  100.00  100.00   98.99  100.00\n",
      "2020-01-02  100.00  100.00  100.97  100.00\n",
      "2020-01-03   96.97   92.93  100.97   97.98\n",
      "2020-01-04  100.93   98.87  100.97   97.98\n",
      "2020-01-05   95.88   93.82  100.97   99.96\n",
      "2020-01-06   95.88   97.78  100.97   99.96\n",
      "2020-01-07  102.81   97.78   99.96   95.92\n",
      "183 ms ± 45.3 ms per loop (mean ± std. dev. of 7 runs, 10 loops each)\n",
      "(1000, 1000)\n"
     ]
    }
   ],
   "source": [
    "portfolio = vbt.Portfolio.from_signals(ts, entries, exits, volume=1, slippage=0.01) # w/ slippage\n",
    "print(portfolio.trades)\n",
    "print(portfolio.shares)\n",
    "print(portfolio.cash)\n",
    "\n",
    "%timeit vbt.Portfolio.from_signals(big_ts, big_entries, big_exits, volume=1, slippage=0.01)\n",
    "print(vbt.Portfolio.from_signals(big_ts, big_entries, big_exits, volume=1, slippage=0.01).equity.shape)"
   ]
  },
  {
   "cell_type": "markdown",
   "metadata": {},
   "source": [
    "## from_orders"
   ]
  },
  {
   "cell_type": "code",
   "execution_count": 8,
   "metadata": {},
   "outputs": [],
   "source": [
    "volume = pd.DataFrame.vbt.timeseries.empty_like(ts, 1) # buy 1 share every day\n",
    "big_volume = pd.DataFrame.vbt.timeseries.empty_like(big_ts, 1)"
   ]
  },
  {
   "cell_type": "code",
   "execution_count": 9,
   "metadata": {},
   "outputs": [
    {
     "name": "stdout",
     "output_type": "stream",
     "text": [
      "2020-01-01    1.0\n",
      "2020-01-02    1.0\n",
      "2020-01-03    1.0\n",
      "2020-01-04    1.0\n",
      "2020-01-05    1.0\n",
      "2020-01-06    1.0\n",
      "2020-01-07    1.0\n",
      "Name: a, dtype: float64\n",
      "2020-01-01    1.0\n",
      "2020-01-02    2.0\n",
      "2020-01-03    3.0\n",
      "2020-01-04    4.0\n",
      "2020-01-05    5.0\n",
      "2020-01-06    6.0\n",
      "2020-01-07    7.0\n",
      "Name: a, dtype: float64\n",
      "2020-01-01    99.0\n",
      "2020-01-02    97.0\n",
      "2020-01-03    94.0\n",
      "2020-01-04    90.0\n",
      "2020-01-05    85.0\n",
      "2020-01-06    79.0\n",
      "2020-01-07    72.0\n",
      "Name: a, dtype: float64\n",
      "5.22 ms ± 624 µs per loop (mean ± std. dev. of 7 runs, 1 loop each)\n",
      "(1000,)\n"
     ]
    }
   ],
   "source": [
    "portfolio = vbt.Portfolio.from_volume(ts['a'], volume['a'])\n",
    "print(portfolio.trades)\n",
    "print(portfolio.shares)\n",
    "print(portfolio.cash)\n",
    "\n",
    "%timeit vbt.Portfolio.from_volume(big_ts.iloc[:, 0], big_volume.iloc[:, 0])\n",
    "print(vbt.Portfolio.from_volume(big_ts.iloc[:, 0], big_volume.iloc[:, 0]).equity.shape)"
   ]
  },
  {
   "cell_type": "code",
   "execution_count": 10,
   "metadata": {},
   "outputs": [
    {
     "name": "stdout",
     "output_type": "stream",
     "text": [
      "              a    b    c    d\n",
      "2020-01-01  1.0  1.0  1.0  1.0\n",
      "2020-01-02  1.0  1.0  1.0  1.0\n",
      "2020-01-03  1.0  1.0  1.0  1.0\n",
      "2020-01-04  1.0  1.0  1.0  1.0\n",
      "2020-01-05  1.0  1.0  1.0  1.0\n",
      "2020-01-06  1.0  1.0  1.0  1.0\n",
      "2020-01-07  1.0  1.0  1.0  1.0\n",
      "              a    b    c    d\n",
      "2020-01-01  1.0  1.0  1.0  1.0\n",
      "2020-01-02  2.0  2.0  2.0  2.0\n",
      "2020-01-03  3.0  3.0  3.0  3.0\n",
      "2020-01-04  4.0  4.0  4.0  4.0\n",
      "2020-01-05  5.0  5.0  5.0  5.0\n",
      "2020-01-06  6.0  6.0  6.0  6.0\n",
      "2020-01-07  7.0  7.0  7.0  7.0\n",
      "               a     b     c     d\n",
      "2020-01-01  99.0  99.0  99.0  99.0\n",
      "2020-01-02  97.0  97.0  97.0  97.0\n",
      "2020-01-03  94.0  94.0  94.0  94.0\n",
      "2020-01-04  90.0  90.0  90.0  90.0\n",
      "2020-01-05  85.0  85.0  85.0  85.0\n",
      "2020-01-06  79.0  79.0  79.0  79.0\n",
      "2020-01-07  72.0  72.0  72.0  72.0\n",
      "46.1 ms ± 17.1 ms per loop (mean ± std. dev. of 7 runs, 10 loops each)\n",
      "(1000, 1000)\n"
     ]
    }
   ],
   "source": [
    "portfolio = vbt.Portfolio.from_volume(ts['a'], volume)\n",
    "print(portfolio.trades)\n",
    "print(portfolio.shares)\n",
    "print(portfolio.cash)\n",
    "\n",
    "%timeit vbt.Portfolio.from_volume(big_ts.iloc[:, 0], big_volume)\n",
    "print(vbt.Portfolio.from_volume(big_ts.iloc[:, 0], big_volume).equity.shape)"
   ]
  },
  {
   "cell_type": "code",
   "execution_count": 11,
   "metadata": {},
   "outputs": [
    {
     "name": "stdout",
     "output_type": "stream",
     "text": [
      "              a    b    c    d\n",
      "2020-01-01  1.0  1.0  1.0  1.0\n",
      "2020-01-02  1.0  1.0  1.0  1.0\n",
      "2020-01-03  1.0  1.0  1.0  1.0\n",
      "2020-01-04  1.0  1.0  1.0  1.0\n",
      "2020-01-05  1.0  1.0  1.0  1.0\n",
      "2020-01-06  1.0  1.0  1.0  1.0\n",
      "2020-01-07  1.0  1.0  1.0  1.0\n",
      "              a    b    c    d\n",
      "2020-01-01  1.0  1.0  1.0  1.0\n",
      "2020-01-02  2.0  2.0  2.0  2.0\n",
      "2020-01-03  3.0  3.0  3.0  3.0\n",
      "2020-01-04  4.0  4.0  4.0  4.0\n",
      "2020-01-05  5.0  5.0  5.0  5.0\n",
      "2020-01-06  6.0  6.0  6.0  6.0\n",
      "2020-01-07  7.0  7.0  7.0  7.0\n",
      "               a     b     c     d\n",
      "2020-01-01  99.0  91.0  99.0  96.0\n",
      "2020-01-02  97.0  83.0  97.0  93.0\n",
      "2020-01-03  94.0  76.0  94.0  91.0\n",
      "2020-01-04  90.0  70.0  90.0  90.0\n",
      "2020-01-05  85.0  65.0  87.0  88.0\n",
      "2020-01-06  79.0  61.0  85.0  85.0\n",
      "2020-01-07  72.0  58.0  84.0  81.0\n",
      "35.6 ms ± 5.95 ms per loop (mean ± std. dev. of 7 runs, 10 loops each)\n",
      "(1000, 1000)\n"
     ]
    }
   ],
   "source": [
    "portfolio = vbt.Portfolio.from_volume(ts, volume)\n",
    "print(portfolio.trades)\n",
    "print(portfolio.shares)\n",
    "print(portfolio.cash)\n",
    "\n",
    "%timeit vbt.Portfolio.from_volume(big_ts, big_volume)\n",
    "print(vbt.Portfolio.from_volume(big_ts, big_volume).equity.shape)"
   ]
  },
  {
   "cell_type": "code",
   "execution_count": 12,
   "metadata": {},
   "outputs": [
    {
     "name": "stdout",
     "output_type": "stream",
     "text": [
      "              a    b    c    d\n",
      "2020-01-01  1.0  1.0  1.0  1.0\n",
      "2020-01-02  0.0  0.0  0.0  0.0\n",
      "2020-01-03  0.0  0.0  0.0  0.0\n",
      "2020-01-04  0.0  0.0  0.0  0.0\n",
      "2020-01-05  0.0  0.0  0.0  0.0\n",
      "2020-01-06  0.0  0.0  0.0  0.0\n",
      "2020-01-07  0.0  0.0  0.0  0.0\n",
      "              a    b    c    d\n",
      "2020-01-01  1.0  1.0  1.0  1.0\n",
      "2020-01-02  1.0  1.0  1.0  1.0\n",
      "2020-01-03  1.0  1.0  1.0  1.0\n",
      "2020-01-04  1.0  1.0  1.0  1.0\n",
      "2020-01-05  1.0  1.0  1.0  1.0\n",
      "2020-01-06  1.0  1.0  1.0  1.0\n",
      "2020-01-07  1.0  1.0  1.0  1.0\n",
      "               a     b     c     d\n",
      "2020-01-01  99.0  91.0  99.0  96.0\n",
      "2020-01-02  99.0  91.0  99.0  96.0\n",
      "2020-01-03  99.0  91.0  99.0  96.0\n",
      "2020-01-04  99.0  91.0  99.0  96.0\n",
      "2020-01-05  99.0  91.0  99.0  96.0\n",
      "2020-01-06  99.0  91.0  99.0  96.0\n",
      "2020-01-07  99.0  91.0  99.0  96.0\n",
      "24.4 ms ± 6.5 ms per loop (mean ± std. dev. of 7 runs, 10 loops each)\n",
      "(1000, 1000)\n"
     ]
    }
   ],
   "source": [
    "portfolio = vbt.Portfolio.from_volume(ts, volume, is_target=True) # target amount of shares to hold\n",
    "print(portfolio.trades)\n",
    "print(portfolio.shares)\n",
    "print(portfolio.cash)\n",
    "\n",
    "%timeit vbt.Portfolio.from_volume(big_ts, big_volume, is_target=True)\n",
    "print(vbt.Portfolio.from_volume(big_ts, big_volume, is_target=True).equity.shape)"
   ]
  },
  {
   "cell_type": "markdown",
   "metadata": {},
   "source": [
    "## from_order_func"
   ]
  },
  {
   "cell_type": "code",
   "execution_count": 18,
   "metadata": {},
   "outputs": [
    {
     "name": "stdout",
     "output_type": "stream",
     "text": [
      "2020-01-01    0.0\n",
      "2020-01-02    1.0\n",
      "2020-01-03   -1.0\n",
      "2020-01-04    3.0\n",
      "2020-01-05   -3.0\n",
      "2020-01-06    5.0\n",
      "2020-01-07   -5.0\n",
      "Name: a, dtype: float64\n",
      "2020-01-01    0.0\n",
      "2020-01-02    1.0\n",
      "2020-01-03    0.0\n",
      "2020-01-04    3.0\n",
      "2020-01-05    0.0\n",
      "2020-01-06    5.0\n",
      "2020-01-07    0.0\n",
      "Name: a, dtype: float64\n",
      "2020-01-01    100.0\n",
      "2020-01-02     98.0\n",
      "2020-01-03    101.0\n",
      "2020-01-04     89.0\n",
      "2020-01-05    104.0\n",
      "2020-01-06     74.0\n",
      "2020-01-07    109.0\n",
      "Name: a, dtype: float64\n",
      "2.8 ms ± 404 µs per loop (mean ± std. dev. of 7 runs, 1 loop each)\n",
      "(1000,)\n"
     ]
    }
   ],
   "source": [
    "@njit\n",
    "def order_func_nb(col, i, run_cash, run_shares):\n",
    "    return -i if i % 2 == 0 else i\n",
    "\n",
    "portfolio = vbt.Portfolio.from_order_func(ts['a'], order_func_nb)\n",
    "print(portfolio.trades)\n",
    "print(portfolio.shares)\n",
    "print(portfolio.cash)\n",
    "\n",
    "%timeit vbt.Portfolio.from_order_func(big_ts.iloc[:, 0], order_func_nb)\n",
    "print(vbt.Portfolio.from_order_func(big_ts.iloc[:, 0], order_func_nb).equity.shape)"
   ]
  },
  {
   "cell_type": "code",
   "execution_count": 19,
   "metadata": {},
   "outputs": [
    {
     "name": "stdout",
     "output_type": "stream",
     "text": [
      "              a    b    c    d\n",
      "2020-01-01  0.0  0.0  0.0  0.0\n",
      "2020-01-02  1.0  1.0  1.0  1.0\n",
      "2020-01-03 -1.0 -1.0 -1.0 -1.0\n",
      "2020-01-04  3.0  3.0  3.0  3.0\n",
      "2020-01-05 -3.0 -3.0 -3.0 -3.0\n",
      "2020-01-06  5.0  5.0  5.0  5.0\n",
      "2020-01-07 -5.0 -5.0 -5.0 -5.0\n",
      "              a    b    c    d\n",
      "2020-01-01  0.0  0.0  0.0  0.0\n",
      "2020-01-02  1.0  1.0  1.0  1.0\n",
      "2020-01-03  0.0  0.0  0.0  0.0\n",
      "2020-01-04  3.0  3.0  3.0  3.0\n",
      "2020-01-05  0.0  0.0  0.0  0.0\n",
      "2020-01-06  5.0  5.0  5.0  5.0\n",
      "2020-01-07  0.0  0.0  0.0  0.0\n",
      "                a      b      c      d\n",
      "2020-01-01  100.0  100.0  100.0  100.0\n",
      "2020-01-02   98.0   92.0   98.0   97.0\n",
      "2020-01-03  101.0   99.0  101.0   99.0\n",
      "2020-01-04   89.0   81.0   89.0   96.0\n",
      "2020-01-05  104.0   96.0   98.0  102.0\n",
      "2020-01-06   74.0   76.0   88.0   87.0\n",
      "2020-01-07  109.0   91.0   93.0  107.0\n",
      "26.8 ms ± 5.75 ms per loop (mean ± std. dev. of 7 runs, 10 loops each)\n",
      "(1000, 1000)\n"
     ]
    }
   ],
   "source": [
    "portfolio = vbt.Portfolio.from_order_func(ts, order_func_nb)\n",
    "print(portfolio.trades)\n",
    "print(portfolio.shares)\n",
    "print(portfolio.cash)\n",
    "\n",
    "%timeit vbt.Portfolio.from_order_func(big_ts, order_func_nb)\n",
    "print(vbt.Portfolio.from_order_func(big_ts, order_func_nb).equity.shape)"
   ]
  },
  {
   "cell_type": "markdown",
   "metadata": {},
   "source": [
    "## Indexing and magic methods"
   ]
  },
  {
   "cell_type": "code",
   "execution_count": 8,
   "metadata": {},
   "outputs": [],
   "source": [
    "portfolio = vbt.Portfolio.from_signals(ts, entries, exits, commission=0.01)\n",
    "big_portfolio = vbt.Portfolio.from_signals(big_ts, big_entries, big_exits, commission=0.01)"
   ]
  },
  {
   "cell_type": "code",
   "execution_count": 11,
   "metadata": {},
   "outputs": [
    {
     "name": "stdout",
     "output_type": "stream",
     "text": [
      "2020-01-01    100.000000\n",
      "2020-01-02    100.000000\n",
      "2020-01-03     99.009901\n",
      "2020-01-04    130.693069\n",
      "2020-01-05    129.399079\n",
      "2020-01-06    155.278894\n",
      "2020-01-07    179.347123\n",
      "Name: a, dtype: float64\n",
      "54.8 µs ± 4.41 µs per loop (mean ± std. dev. of 7 runs, 10000 loops each)\n",
      "1.76 ms ± 95.9 µs per loop (mean ± std. dev. of 7 runs, 1000 loops each)\n"
     ]
    }
   ],
   "source": [
    "print(portfolio.iloc[:, 0].equity)\n",
    "\n",
    "%timeit big_portfolio.ts.iloc[:, 0]\n",
    "%timeit big_portfolio.iloc[:, 0].ts"
   ]
  },
  {
   "cell_type": "code",
   "execution_count": 15,
   "metadata": {},
   "outputs": [
    {
     "name": "stdout",
     "output_type": "stream",
     "text": [
      "              a    b    c    d\n",
      "2020-01-01  1.0  9.0  1.0  4.0\n",
      "2020-01-02  2.0  8.0  2.0  3.0\n",
      "2020-01-03  3.0  7.0  3.0  2.0\n",
      "2020-01-04  4.0  6.0  4.0  1.0\n",
      "2020-01-05  5.0  5.0  3.0  2.0\n",
      "2020-01-06  6.0  4.0  2.0  3.0\n",
      "2020-01-07  7.0  3.0  1.0  4.0\n",
      "                     a           b           c           d\n",
      "2020-01-01  300.000000  300.000000  200.000000  300.000000\n",
      "2020-01-02  300.000000  300.000000  188.351776  300.000000\n",
      "2020-01-03  200.000000  200.000000  188.351776  200.000000\n",
      "2020-01-04  125.567851   80.722190  188.351776  200.000000\n",
      "2020-01-05  235.439720  156.959814  188.351776   94.175888\n",
      "2020-01-06  235.439720   60.816671  188.351776   94.175888\n",
      "2020-01-07  165.556494   60.816671   94.175888  376.703553\n",
      "                    a          b           c          d\n",
      "2020-01-01   0.000000   0.000000   97.068530   0.000000\n",
      "2020-01-02   0.000000   0.000000   97.068530   0.000000\n",
      "2020-01-03  32.356177  13.866933   97.068530  48.534265\n",
      "2020-01-04  48.534265  32.356177   97.068530  48.534265\n",
      "2020-01-05  24.377374  15.671169   97.068530  97.068530\n",
      "2020-01-06  24.377374  38.089646   97.068530  97.068530\n",
      "2020-01-07  32.648268  38.089646  182.830301  22.853788\n",
      "300.0\n",
      "0.01\n",
      "0.02\n"
     ]
    }
   ],
   "source": [
    "portfolio_a = vbt.Portfolio.from_signals(ts, entries, exits, investment=100, slippage=0.01, commission=0.02)\n",
    "portfolio_b = vbt.Portfolio.from_signals(ts, exits, entries, investment=200, slippage=0.01, commission=0.02)\n",
    "\n",
    "portfolio_ab = portfolio_a + portfolio_b\n",
    "\n",
    "print(portfolio_ab.ts)\n",
    "print(portfolio_ab.cash)\n",
    "print(portfolio_ab.shares)\n",
    "print(portfolio_ab.investment)\n",
    "print(portfolio_ab.slippage)\n",
    "print(portfolio_ab.commission)"
   ]
  },
  {
   "cell_type": "markdown",
   "metadata": {},
   "source": [
    "## General properties"
   ]
  },
  {
   "cell_type": "code",
   "execution_count": 9,
   "metadata": {},
   "outputs": [],
   "source": [
    "# Disable caching for performance testing\n",
    "# NOTE: Expect waterfall of executions, since some attributes depend on other attributes \n",
    "# that have to be calculated again and again\n",
    "vbt.defaults.cached_property = False"
   ]
  },
  {
   "cell_type": "code",
   "execution_count": 17,
   "metadata": {},
   "outputs": [
    {
     "name": "stdout",
     "output_type": "stream",
     "text": [
      "2020-01-01    100.000000\n",
      "2020-01-02    100.000000\n",
      "2020-01-03      0.000000\n",
      "2020-01-04    130.693069\n",
      "2020-01-05      0.000000\n",
      "2020-01-06      0.000000\n",
      "2020-01-07    179.347123\n",
      "Name: a, dtype: float64\n",
      "                     a           b           c           d\n",
      "2020-01-01  100.000000  100.000000    0.000000  100.000000\n",
      "2020-01-02  100.000000  100.000000  196.039604  100.000000\n",
      "2020-01-03    0.000000    0.000000  196.039604    0.000000\n",
      "2020-01-04  130.693069   84.016973  196.039604    0.000000\n",
      "2020-01-05    0.000000    0.000000  196.039604   98.019802\n",
      "2020-01-06    0.000000   65.882617  196.039604   98.019802\n",
      "2020-01-07  179.347123   65.882617    0.000000    0.000000\n",
      "54.6 ns ± 3.32 ns per loop (mean ± std. dev. of 7 runs, 10000000 loops each)\n"
     ]
    }
   ],
   "source": [
    "print(portfolio['a'].cash)\n",
    "print(portfolio.cash)\n",
    "\n",
    "%timeit big_portfolio.cash"
   ]
  },
  {
   "cell_type": "code",
   "execution_count": 18,
   "metadata": {},
   "outputs": [
    {
     "name": "stdout",
     "output_type": "stream",
     "text": [
      "2020-01-01     0.000000\n",
      "2020-01-02     0.000000\n",
      "2020-01-03    33.003300\n",
      "2020-01-04     0.000000\n",
      "2020-01-05    25.879816\n",
      "2020-01-06    25.879816\n",
      "2020-01-07     0.000000\n",
      "Name: a, dtype: float64\n",
      "                    a          b           c          d\n",
      "2020-01-01   0.000000   0.000000   99.009901   0.000000\n",
      "2020-01-02   0.000000   0.000000    0.000000   0.000000\n",
      "2020-01-03  33.003300  14.144272    0.000000  49.504950\n",
      "2020-01-04   0.000000   0.000000    0.000000  49.504950\n",
      "2020-01-05  25.879816  16.637024    0.000000   0.000000\n",
      "2020-01-06  25.879816   0.000000    0.000000   0.000000\n",
      "2020-01-07   0.000000   0.000000  194.098618  24.262327\n",
      "52.5 ns ± 2.75 ns per loop (mean ± std. dev. of 7 runs, 10000000 loops each)\n"
     ]
    }
   ],
   "source": [
    "print(portfolio['a'].shares)\n",
    "print(portfolio.shares)\n",
    "\n",
    "%timeit big_portfolio.shares"
   ]
  },
  {
   "cell_type": "code",
   "execution_count": 19,
   "metadata": {},
   "outputs": [
    {
     "name": "stdout",
     "output_type": "stream",
     "text": [
      "2020-01-01    100.000000\n",
      "2020-01-02    100.000000\n",
      "2020-01-03     99.009901\n",
      "2020-01-04    130.693069\n",
      "2020-01-05    129.399079\n",
      "2020-01-06    155.278894\n",
      "2020-01-07    179.347123\n",
      "Name: a, dtype: float64\n",
      "                     a           b           c           d\n",
      "2020-01-01  100.000000  100.000000   99.009901  100.000000\n",
      "2020-01-02  100.000000  100.000000  196.039604  100.000000\n",
      "2020-01-03   99.009901   99.009901  196.039604   99.009901\n",
      "2020-01-04  130.693069   84.016973  196.039604   49.504950\n",
      "2020-01-05  129.399079   83.185122  196.039604   98.019802\n",
      "2020-01-06  155.278894   65.882617  196.039604   98.019802\n",
      "2020-01-07  179.347123   65.882617  194.098618   97.049309\n",
      "4.58 ms ± 63.6 µs per loop (mean ± std. dev. of 7 runs, 100 loops each)\n"
     ]
    }
   ],
   "source": [
    "print(portfolio['a'].equity)\n",
    "print(portfolio.equity)\n",
    "\n",
    "%timeit big_portfolio.equity"
   ]
  },
  {
   "cell_type": "code",
   "execution_count": 20,
   "metadata": {
    "Collapsed": "false"
   },
   "outputs": [
    {
     "name": "stdout",
     "output_type": "stream",
     "text": [
      "2020-01-01    100.000000\n",
      "2020-01-02     50.000000\n",
      "2020-01-03     33.003300\n",
      "2020-01-04     32.673267\n",
      "2020-01-05     25.879816\n",
      "2020-01-06     25.879816\n",
      "2020-01-07     25.621018\n",
      "Name: a, dtype: float64\n",
      "                     a          b           c          d\n",
      "2020-01-01  100.000000  11.111111   99.009901  25.000000\n",
      "2020-01-02   50.000000  12.500000   98.019802  33.333333\n",
      "2020-01-03   33.003300  14.144272   65.346535  49.504950\n",
      "2020-01-04   32.673267  14.002829   49.009901  49.504950\n",
      "2020-01-05   25.879816  16.637024   65.346535  49.009901\n",
      "2020-01-06   25.879816  16.470654   98.019802  32.673267\n",
      "2020-01-07   25.621018  21.960872  194.098618  24.262327\n",
      "8.82 ms ± 261 µs per loop (mean ± std. dev. of 7 runs, 100 loops each)\n"
     ]
    }
   ],
   "source": [
    "print(portfolio['a'].equity_in_shares)\n",
    "print(portfolio.equity_in_shares)\n",
    "\n",
    "%timeit big_portfolio.equity_in_shares"
   ]
  },
  {
   "cell_type": "code",
   "execution_count": 21,
   "metadata": {
    "Collapsed": "false"
   },
   "outputs": [
    {
     "name": "stdout",
     "output_type": "stream",
     "text": [
      "2020-01-01         NaN\n",
      "2020-01-02    0.000000\n",
      "2020-01-03   -0.009901\n",
      "2020-01-04    0.320000\n",
      "2020-01-05   -0.009901\n",
      "2020-01-06    0.200000\n",
      "2020-01-07    0.155000\n",
      "Name: a, dtype: float64\n",
      "                   a         b         c         d\n",
      "2020-01-01       NaN       NaN       NaN       NaN\n",
      "2020-01-02  0.000000  0.000000  0.980000  0.000000\n",
      "2020-01-03 -0.009901 -0.009901  0.000000 -0.009901\n",
      "2020-01-04  0.320000 -0.151429  0.000000 -0.500000\n",
      "2020-01-05 -0.009901 -0.009901  0.000000  0.980000\n",
      "2020-01-06  0.200000 -0.208000  0.000000  0.000000\n",
      "2020-01-07  0.155000  0.000000 -0.009901 -0.009901\n",
      "272 ms ± 5.04 ms per loop (mean ± std. dev. of 7 runs, 1 loop each)\n",
      "10.6 ms ± 86.3 µs per loop (mean ± std. dev. of 7 runs, 100 loops each)\n"
     ]
    }
   ],
   "source": [
    "print(portfolio['a'].returns)\n",
    "print(portfolio.returns)\n",
    "\n",
    "%timeit big_portfolio.equity.pct_change()\n",
    "%timeit big_portfolio.returns # numba helps a lot"
   ]
  },
  {
   "cell_type": "code",
   "execution_count": 22,
   "metadata": {},
   "outputs": [
    {
     "name": "stdout",
     "output_type": "stream",
     "text": [
      "2020-01-01             NaN\n",
      "2020-01-02   -5.000000e-01\n",
      "2020-01-03   -3.399340e-01\n",
      "2020-01-04   -1.000000e-02\n",
      "2020-01-05   -2.079208e-01\n",
      "2020-01-06   -1.110223e-16\n",
      "2020-01-07   -1.000000e-02\n",
      "Name: a, dtype: float64\n",
      "                       a         b         c         d\n",
      "2020-01-01           NaN       NaN       NaN       NaN\n",
      "2020-01-02 -5.000000e-01  0.125000 -0.010000  0.333333\n",
      "2020-01-03 -3.399340e-01  0.131542 -0.333333  0.485149\n",
      "2020-01-04 -1.000000e-02 -0.010000 -0.250000  0.000000\n",
      "2020-01-05 -2.079208e-01  0.188119  0.333333 -0.010000\n",
      "2020-01-06 -1.110223e-16 -0.010000  0.500000 -0.333333\n",
      "2020-01-07 -1.000000e-02  0.333333  0.980198 -0.257426\n",
      "16.9 ms ± 558 µs per loop (mean ± std. dev. of 7 runs, 100 loops each)\n"
     ]
    }
   ],
   "source": [
    "print(portfolio['a'].returns_in_shares)\n",
    "print(portfolio.returns_in_shares)\n",
    "\n",
    "%timeit big_portfolio.returns_in_shares"
   ]
  },
  {
   "cell_type": "code",
   "execution_count": 23,
   "metadata": {},
   "outputs": [
    {
     "name": "stdout",
     "output_type": "stream",
     "text": [
      "2020-01-01    0.000000\n",
      "2020-01-02    0.000000\n",
      "2020-01-03    0.009901\n",
      "2020-01-04    0.000000\n",
      "2020-01-05    0.009901\n",
      "2020-01-06    0.000000\n",
      "2020-01-07    0.000000\n",
      "Name: a, dtype: float64\n",
      "                   a         b         c         d\n",
      "2020-01-01  0.000000  0.000000  0.000000  0.000000\n",
      "2020-01-02  0.000000  0.000000  0.000000  0.000000\n",
      "2020-01-03  0.009901  0.009901  0.000000  0.009901\n",
      "2020-01-04  0.000000  0.159830  0.000000  0.504950\n",
      "2020-01-05  0.009901  0.168149  0.000000  0.019802\n",
      "2020-01-06  0.000000  0.341174  0.000000  0.019802\n",
      "2020-01-07  0.000000  0.341174  0.009901  0.029507\n",
      "27 ms ± 2.39 ms per loop (mean ± std. dev. of 7 runs, 10 loops each)\n"
     ]
    }
   ],
   "source": [
    "print(portfolio['a'].drawdown)\n",
    "print(portfolio.drawdown)\n",
    "\n",
    "%timeit big_portfolio.drawdown"
   ]
  },
  {
   "cell_type": "code",
   "execution_count": 24,
   "metadata": {},
   "outputs": [
    {
     "name": "stdout",
     "output_type": "stream",
     "text": [
      "2020-01-01     0.000000\n",
      "2020-01-02     0.000000\n",
      "2020-01-03    33.003300\n",
      "2020-01-04   -33.003300\n",
      "2020-01-05    25.879816\n",
      "2020-01-06     0.000000\n",
      "2020-01-07   -25.879816\n",
      "Name: a, dtype: float64\n",
      "                    a          b           c          d\n",
      "2020-01-01   0.000000   0.000000   99.009901   0.000000\n",
      "2020-01-02   0.000000   0.000000  -99.009901   0.000000\n",
      "2020-01-03  33.003300  14.144272    0.000000  49.504950\n",
      "2020-01-04 -33.003300 -14.144272    0.000000   0.000000\n",
      "2020-01-05  25.879816  16.637024    0.000000 -49.504950\n",
      "2020-01-06   0.000000 -16.637024    0.000000   0.000000\n",
      "2020-01-07 -25.879816   0.000000  194.098618  24.262327\n",
      "9.27 ms ± 486 µs per loop (mean ± std. dev. of 7 runs, 100 loops each)\n"
     ]
    }
   ],
   "source": [
    "print(portfolio['a'].trades)\n",
    "print(portfolio.trades)\n",
    "\n",
    "%timeit big_portfolio.trades"
   ]
  },
  {
   "cell_type": "code",
   "execution_count": 25,
   "metadata": {
    "Collapsed": "false"
   },
   "outputs": [
    {
     "name": "stdout",
     "output_type": "stream",
     "text": [
      "2020-01-01          NaN\n",
      "2020-01-02          NaN\n",
      "2020-01-03          NaN\n",
      "2020-01-04          NaN\n",
      "2020-01-05          NaN\n",
      "2020-01-06    55.278894\n",
      "2020-01-07          NaN\n",
      "Name: a, dtype: float64\n",
      "                    a          b          c          d\n",
      "2020-01-01        NaN        NaN        NaN        NaN\n",
      "2020-01-02        NaN        NaN        NaN        NaN\n",
      "2020-01-03        NaN        NaN  96.039604        NaN\n",
      "2020-01-04        NaN        NaN        NaN -50.495050\n",
      "2020-01-05        NaN        NaN        NaN        NaN\n",
      "2020-01-06  55.278894        NaN        NaN        NaN\n",
      "2020-01-07        NaN -34.117383  -1.940986  -0.970493\n",
      "35.9 ms ± 3.16 ms per loop (mean ± std. dev. of 7 runs, 10 loops each)\n"
     ]
    }
   ],
   "source": [
    "print(portfolio['a'].position_pl)\n",
    "print(portfolio.position_pl)\n",
    "\n",
    "%timeit big_portfolio.position_pl"
   ]
  },
  {
   "cell_type": "code",
   "execution_count": 26,
   "metadata": {},
   "outputs": [
    {
     "name": "stdout",
     "output_type": "stream",
     "text": [
      "2020-01-01         NaN\n",
      "2020-01-02         NaN\n",
      "2020-01-03         NaN\n",
      "2020-01-04         NaN\n",
      "2020-01-05         NaN\n",
      "2020-01-06    0.552789\n",
      "2020-01-07         NaN\n",
      "Name: a, dtype: float64\n",
      "                   a         b         c         d\n",
      "2020-01-01       NaN       NaN       NaN       NaN\n",
      "2020-01-02       NaN       NaN       NaN       NaN\n",
      "2020-01-03       NaN       NaN  0.960396       NaN\n",
      "2020-01-04       NaN       NaN       NaN -0.504950\n",
      "2020-01-05       NaN       NaN       NaN       NaN\n",
      "2020-01-06  0.552789       NaN       NaN       NaN\n",
      "2020-01-07       NaN -0.341174 -0.009901 -0.009901\n",
      "34.4 ms ± 1.99 ms per loop (mean ± std. dev. of 7 runs, 10 loops each)\n"
     ]
    }
   ],
   "source": [
    "print(portfolio['a'].position_returns)\n",
    "print(portfolio.position_returns)\n",
    "\n",
    "%timeit big_portfolio.position_returns"
   ]
  },
  {
   "cell_type": "markdown",
   "metadata": {},
   "source": [
    "## Performance metrics"
   ]
  },
  {
   "cell_type": "code",
   "execution_count": 10,
   "metadata": {},
   "outputs": [
    {
     "name": "stdout",
     "output_type": "stream",
     "text": [
      "79.34712283109499\n",
      "a    79.347123\n",
      "b     0.000000\n",
      "c    96.039604\n",
      "d     0.000000\n",
      "dtype: float64\n",
      "34.5 ms ± 1.89 ms per loop (mean ± std. dev. of 7 runs, 10 loops each)\n"
     ]
    }
   ],
   "source": [
    "print(portfolio['a'].win_sum)\n",
    "print(portfolio.win_sum)\n",
    "\n",
    "%timeit big_portfolio.win_sum"
   ]
  },
  {
   "cell_type": "code",
   "execution_count": 11,
   "metadata": {},
   "outputs": [
    {
     "name": "stdout",
     "output_type": "stream",
     "text": [
      "0.0\n",
      "a     0.000000\n",
      "b    34.117383\n",
      "c     1.940986\n",
      "d     2.950691\n",
      "dtype: float64\n",
      "33.5 ms ± 1.71 ms per loop (mean ± std. dev. of 7 runs, 10 loops each)\n"
     ]
    }
   ],
   "source": [
    "print(portfolio['a'].loss_sum)\n",
    "print(portfolio.loss_sum)\n",
    "\n",
    "%timeit big_portfolio.loss_sum"
   ]
  },
  {
   "cell_type": "code",
   "execution_count": 10,
   "metadata": {},
   "outputs": [
    {
     "name": "stdout",
     "output_type": "stream",
     "text": [
      "39.673561415547496\n",
      "a    39.673561\n",
      "b     0.000000\n",
      "c    96.039604\n",
      "d     0.000000\n",
      "dtype: float64\n",
      "34.1 ms ± 1.82 ms per loop (mean ± std. dev. of 7 runs, 10 loops each)\n"
     ]
    }
   ],
   "source": [
    "print(portfolio['a'].win_mean)\n",
    "print(portfolio.win_mean)\n",
    "\n",
    "%timeit big_portfolio.win_mean"
   ]
  },
  {
   "cell_type": "code",
   "execution_count": 11,
   "metadata": {},
   "outputs": [
    {
     "name": "stdout",
     "output_type": "stream",
     "text": [
      "0.0\n",
      "a     0.000000\n",
      "b    17.058692\n",
      "c     1.940986\n",
      "d     1.475346\n",
      "dtype: float64\n",
      "35.9 ms ± 3.8 ms per loop (mean ± std. dev. of 7 runs, 10 loops each)\n"
     ]
    }
   ],
   "source": [
    "print(portfolio['a'].loss_mean)\n",
    "print(portfolio.loss_mean)\n",
    "\n",
    "%timeit big_portfolio.loss_mean"
   ]
  },
  {
   "cell_type": "code",
   "execution_count": 12,
   "metadata": {},
   "outputs": [
    {
     "name": "stdout",
     "output_type": "stream",
     "text": [
      "1.0\n",
      "a    1.0\n",
      "b    0.0\n",
      "c    0.5\n",
      "d    0.0\n",
      "dtype: float64\n",
      "35.4 ms ± 3.25 ms per loop (mean ± std. dev. of 7 runs, 10 loops each)\n"
     ]
    }
   ],
   "source": [
    "print(portfolio['a'].win_rate)\n",
    "print(portfolio.win_rate)\n",
    "\n",
    "%timeit big_portfolio.win_rate"
   ]
  },
  {
   "cell_type": "code",
   "execution_count": 13,
   "metadata": {},
   "outputs": [
    {
     "name": "stdout",
     "output_type": "stream",
     "text": [
      "0.0\n",
      "a    0.0\n",
      "b    1.0\n",
      "c    0.5\n",
      "d    1.0\n",
      "dtype: float64\n",
      "32.7 ms ± 1.16 ms per loop (mean ± std. dev. of 7 runs, 10 loops each)\n"
     ]
    }
   ],
   "source": [
    "print(portfolio['a'].loss_rate)\n",
    "print(portfolio.loss_rate)\n",
    "\n",
    "%timeit big_portfolio.loss_rate"
   ]
  },
  {
   "cell_type": "code",
   "execution_count": 14,
   "metadata": {
    "Collapsed": "false"
   },
   "outputs": [
    {
     "name": "stderr",
     "output_type": "stream",
     "text": [
      "/Users/olegpolakow/Documents/SourceTree/vectorbt/vectorbt/portfolio/portfolio.py:268: RuntimeWarning:\n",
      "\n",
      "divide by zero encountered in true_divide\n",
      "\n"
     ]
    },
    {
     "name": "stdout",
     "output_type": "stream",
     "text": [
      "inf\n"
     ]
    },
    {
     "name": "stderr",
     "output_type": "stream",
     "text": [
      "/Users/olegpolakow/Documents/SourceTree/vectorbt/vectorbt/portfolio/portfolio.py:268: RuntimeWarning:\n",
      "\n",
      "divide by zero encountered in true_divide\n",
      "\n"
     ]
    },
    {
     "name": "stdout",
     "output_type": "stream",
     "text": [
      "a          inf\n",
      "b     0.000000\n",
      "c    49.479798\n",
      "d     0.000000\n",
      "dtype: float64\n",
      "72.5 ms ± 4.98 ms per loop (mean ± std. dev. of 7 runs, 10 loops each)\n"
     ]
    }
   ],
   "source": [
    "print(portfolio['a'].profit_factor)\n",
    "print(portfolio.profit_factor)\n",
    "\n",
    "%timeit big_portfolio.profit_factor"
   ]
  },
  {
   "cell_type": "code",
   "execution_count": 15,
   "metadata": {
    "Collapsed": "false"
   },
   "outputs": [
    {
     "name": "stdout",
     "output_type": "stream",
     "text": [
      "39.673561415547496\n",
      "a    39.673561\n",
      "b   -17.058692\n",
      "c    47.049309\n",
      "d    -1.475346\n",
      "dtype: float64\n",
      "160 ms ± 20.8 ms per loop (mean ± std. dev. of 7 runs, 10 loops each)\n"
     ]
    }
   ],
   "source": [
    "print(portfolio['a'].appt)\n",
    "print(portfolio.appt)\n",
    "\n",
    "%timeit big_portfolio.appt"
   ]
  },
  {
   "cell_type": "code",
   "execution_count": 16,
   "metadata": {
    "Collapsed": "false"
   },
   "outputs": [
    {
     "name": "stdout",
     "output_type": "stream",
     "text": [
      "79.34712283109499\n",
      "a    79.347123\n",
      "b   -34.117383\n",
      "c    94.098618\n",
      "d    -2.950691\n",
      "dtype: float64\n",
      "6.2 ms ± 186 µs per loop (mean ± std. dev. of 7 runs, 100 loops each)\n"
     ]
    }
   ],
   "source": [
    "print(portfolio['a'].total_profit)\n",
    "print(portfolio.total_profit)\n",
    "\n",
    "%timeit big_portfolio.total_profit"
   ]
  },
  {
   "cell_type": "code",
   "execution_count": 17,
   "metadata": {},
   "outputs": [
    {
     "name": "stdout",
     "output_type": "stream",
     "text": [
      "0.79347122831095\n",
      "a    0.793471\n",
      "b   -0.341174\n",
      "c    0.940986\n",
      "d   -0.029507\n",
      "dtype: float64\n",
      "7.45 ms ± 881 µs per loop (mean ± std. dev. of 7 runs, 100 loops each)\n"
     ]
    }
   ],
   "source": [
    "print(portfolio['a'].total_return)\n",
    "print(portfolio.total_return)\n",
    "\n",
    "%timeit big_portfolio.total_return"
   ]
  },
  {
   "cell_type": "code",
   "execution_count": 18,
   "metadata": {
    "Collapsed": "false"
   },
   "outputs": [
    {
     "name": "stdout",
     "output_type": "stream",
     "text": [
      "0.00990099009901002\n",
      "a    0.009901\n",
      "b    0.341174\n",
      "c    0.009901\n",
      "d    0.504950\n",
      "dtype: float64\n",
      "29.7 ms ± 2.28 ms per loop (mean ± std. dev. of 7 runs, 10 loops each)\n"
     ]
    }
   ],
   "source": [
    "print(portfolio['a'].mdd)\n",
    "print(portfolio.mdd)\n",
    "\n",
    "%timeit big_portfolio.mdd"
   ]
  },
  {
   "cell_type": "markdown",
   "metadata": {},
   "source": [
    "## Plotting"
   ]
  },
  {
   "cell_type": "code",
   "execution_count": 19,
   "metadata": {},
   "outputs": [
    {
     "data": {
      "image/png": "[encoded data removed]"
     },
     "metadata": {},
     "output_type": "display_data"
    }
   ],
   "source": [
    "portfolio['a'].plot_trades().show_png()"
   ]
  },
  {
   "cell_type": "code",
   "execution_count": 20,
   "metadata": {},
   "outputs": [
    {
     "data": {
      "image/png": "[encoded data removed]"
     },
     "metadata": {},
     "output_type": "display_data"
    }
   ],
   "source": [
    "portfolio['a'].plot_position_pl().show_png()"
   ]
  },
  {
   "cell_type": "code",
   "execution_count": null,
   "metadata": {},
   "outputs": [],
   "source": []
  }
 ],
 "metadata": {
  "kernelspec": {
   "display_name": "Python 3",
   "language": "python",
   "name": "python3"
  },
  "language_info": {
   "codemirror_mode": {
    "name": "ipython",
    "version": 3
   },
   "file_extension": ".py",
   "mimetype": "text/x-python",
   "name": "python",
   "nbconvert_exporter": "python",
   "pygments_lexer": "ipython3",
   "version": "3.7.3"
  },
  "widgets": {
   "application/vnd.jupyter.widget-state+json": {
    "state": {
     "3835e1c26fa34bb9be2d31c30bcf572e": {
      "buffers": [
       {
        "data": "AAAAAAAA8D8AAAAAAAAAQAAAAAAAAAhAAAAAAAAAEEAAAAAAAAAUQAAAAAAAABhAAAAAAAAAHEA=",
        "encoding": "base64",
        "path": [
         "_data",
         0,
         "y",
         "value"
        ]
       },
       {
        "data": "ZccsJWyAQEC+qByaO+E5QA==",
        "encoding": "base64",
        "path": [
         "_data",
         1,
         "customdata",
         "value"
        ]
       },
       {
        "data": "AAAAAAAACEAAAAAAAAAUQA==",
        "encoding": "base64",
        "path": [
         "_data",
         1,
         "y",
         "value"
        ]
       },
       {
        "data": "ZccsJWyAQMC+qByaO+E5wA==",
        "encoding": "base64",
        "path": [
         "_data",
         2,
         "customdata",
         "value"
        ]
       },
       {
        "data": "AAAAAAAAEEAAAAAAAAAcQA==",
        "encoding": "base64",
        "path": [
         "_data",
         2,
         "y",
         "value"
        ]
       }
      ],
      "model_module": "plotlywidget",
      "model_module_version": "1.5.0",
      "model_name": "FigureModel",
      "state": {
       "_config": {
        "plotlyServerURL": "https://plot.ly"
       },
       "_data": [
        {
         "mode": "lines",
         "name": "a",
         "type": "scatter",
         "uid": "47ad01e4-1fd5-498c-9989-5b86d06d78b4",
         "x": [
          "2020-01-01T00:00:00.000000",
          "2020-01-02T00:00:00.000000",
          "2020-01-03T00:00:00.000000",
          "2020-01-04T00:00:00.000000",
          "2020-01-05T00:00:00.000000",
          "2020-01-06T00:00:00.000000",
          "2020-01-07T00:00:00.000000"
         ],
         "y": {
          "dtype": "float64",
          "shape": [
           7
          ]
         }
        },
        {
         "customdata": {
          "dtype": "float64",
          "shape": [
           2
          ]
         },
         "hovertemplate": "(%{x}, %{y})<br>%{customdata:.6g}",
         "marker": {
          "color": "limegreen",
          "size": 10,
          "symbol": "triangle-up"
         },
         "mode": "markers",
         "name": "Buy",
         "type": "scatter",
         "uid": "a6af9664-64dc-4613-a7f0-a6f7fc27ab9c",
         "x": [
          "2020-01-03T00:00:00.000000",
          "2020-01-05T00:00:00.000000"
         ],
         "y": {
          "dtype": "float64",
          "shape": [
           2
          ]
         }
        },
        {
         "customdata": {
          "dtype": "float64",
          "shape": [
           2
          ]
         },
         "hovertemplate": "(%{x}, %{y})<br>%{customdata:.6g}",
         "marker": {
          "color": "orangered",
          "size": 10,
          "symbol": "triangle-down"
         },
         "mode": "markers",
         "name": "Sell",
         "type": "scatter",
         "uid": "ab63c57c-55d4-4340-a008-85eaf2a9fae7",
         "x": [
          "2020-01-04T00:00:00.000000",
          "2020-01-07T00:00:00.000000"
         ],
         "y": {
          "dtype": "float64",
          "shape": [
           2
          ]
         }
        }
       ],
       "_js2py_layoutDelta": {},
       "_js2py_pointsCallback": {},
       "_js2py_relayout": {},
       "_js2py_restyle": {},
       "_js2py_traceDeltas": {},
       "_js2py_update": {},
       "_last_layout_edit_id": 5,
       "_last_trace_edit_id": 5,
       "_layout": {
        "autosize": false,
        "colorway": [
         "#1f77b4",
         "#ff7f0e",
         "#2ca02c",
         "#d62728",
         "#9467bd",
         "#8c564b",
         "#e377c2",
         "#7f7f7f",
         "#bcbd22",
         "#17becf"
        ],
        "height": 300,
        "hovermode": "closest",
        "margin": {
         "b": 30,
         "t": 30
        },
        "showlegend": true,
        "template": {
         "data": {
          "bar": [
           {
            "error_x": {
             "color": "#2a3f5f"
            },
            "error_y": {
             "color": "#2a3f5f"
            },
            "marker": {
             "line": {
              "color": "#E5ECF6",
              "width": 0.5
             }
            },
            "type": "bar"
           }
          ],
          "barpolar": [
           {
            "marker": {
             "line": {
              "color": "#E5ECF6",
              "width": 0.5
             }
            },
            "type": "barpolar"
           }
          ],
          "carpet": [
           {
            "aaxis": {
             "endlinecolor": "#2a3f5f",
             "gridcolor": "white",
             "linecolor": "white",
             "minorgridcolor": "white",
             "startlinecolor": "#2a3f5f"
            },
            "baxis": {
             "endlinecolor": "#2a3f5f",
             "gridcolor": "white",
             "linecolor": "white",
             "minorgridcolor": "white",
             "startlinecolor": "#2a3f5f"
            },
            "type": "carpet"
           }
          ],
          "choropleth": [
           {
            "colorbar": {
             "outlinewidth": 0,
             "ticks": ""
            },
            "type": "choropleth"
           }
          ],
          "contour": [
           {
            "colorbar": {
             "outlinewidth": 0,
             "ticks": ""
            },
            "colorscale": [
             [
              0,
              "#0d0887"
             ],
             [
              0.1111111111111111,
              "#46039f"
             ],
             [
              0.2222222222222222,
              "#7201a8"
             ],
             [
              0.3333333333333333,
              "#9c179e"
             ],
             [
              0.4444444444444444,
              "#bd3786"
             ],
             [
              0.5555555555555556,
              "#d8576b"
             ],
             [
              0.6666666666666666,
              "#ed7953"
             ],
             [
              0.7777777777777778,
              "#fb9f3a"
             ],
             [
              0.8888888888888888,
              "#fdca26"
             ],
             [
              1,
              "#f0f921"
             ]
            ],
            "type": "contour"
           }
          ],
          "contourcarpet": [
           {
            "colorbar": {
             "outlinewidth": 0,
             "ticks": ""
            },
            "type": "contourcarpet"
           }
          ],
          "heatmap": [
           {
            "colorbar": {
             "outlinewidth": 0,
             "ticks": ""
            },
            "colorscale": [
             [
              0,
              "#0d0887"
             ],
             [
              0.1111111111111111,
              "#46039f"
             ],
             [
              0.2222222222222222,
              "#7201a8"
             ],
             [
              0.3333333333333333,
              "#9c179e"
             ],
             [
              0.4444444444444444,
              "#bd3786"
             ],
             [
              0.5555555555555556,
              "#d8576b"
             ],
             [
              0.6666666666666666,
              "#ed7953"
             ],
             [
              0.7777777777777778,
              "#fb9f3a"
             ],
             [
              0.8888888888888888,
              "#fdca26"
             ],
             [
              1,
              "#f0f921"
             ]
            ],
            "type": "heatmap"
           }
          ],
          "heatmapgl": [
           {
            "colorbar": {
             "outlinewidth": 0,
             "ticks": ""
            },
            "colorscale": [
             [
              0,
              "#0d0887"
             ],
             [
              0.1111111111111111,
              "#46039f"
             ],
             [
              0.2222222222222222,
              "#7201a8"
             ],
             [
              0.3333333333333333,
              "#9c179e"
             ],
             [
              0.4444444444444444,
              "#bd3786"
             ],
             [
              0.5555555555555556,
              "#d8576b"
             ],
             [
              0.6666666666666666,
              "#ed7953"
             ],
             [
              0.7777777777777778,
              "#fb9f3a"
             ],
             [
              0.8888888888888888,
              "#fdca26"
             ],
             [
              1,
              "#f0f921"
             ]
            ],
            "type": "heatmapgl"
           }
          ],
          "histogram": [
           {
            "marker": {
             "colorbar": {
              "outlinewidth": 0,
              "ticks": ""
             }
            },
            "type": "histogram"
           }
          ],
          "histogram2d": [
           {
            "colorbar": {
             "outlinewidth": 0,
             "ticks": ""
            },
            "colorscale": [
             [
              0,
              "#0d0887"
             ],
             [
              0.1111111111111111,
              "#46039f"
             ],
             [
              0.2222222222222222,
              "#7201a8"
             ],
             [
              0.3333333333333333,
              "#9c179e"
             ],
             [
              0.4444444444444444,
              "#bd3786"
             ],
             [
              0.5555555555555556,
              "#d8576b"
             ],
             [
              0.6666666666666666,
              "#ed7953"
             ],
             [
              0.7777777777777778,
              "#fb9f3a"
             ],
             [
              0.8888888888888888,
              "#fdca26"
             ],
             [
              1,
              "#f0f921"
             ]
            ],
            "type": "histogram2d"
           }
          ],
          "histogram2dcontour": [
           {
            "colorbar": {
             "outlinewidth": 0,
             "ticks": ""
            },
            "colorscale": [
             [
              0,
              "#0d0887"
             ],
             [
              0.1111111111111111,
              "#46039f"
             ],
             [
              0.2222222222222222,
              "#7201a8"
             ],
             [
              0.3333333333333333,
              "#9c179e"
             ],
             [
              0.4444444444444444,
              "#bd3786"
             ],
             [
              0.5555555555555556,
              "#d8576b"
             ],
             [
              0.6666666666666666,
              "#ed7953"
             ],
             [
              0.7777777777777778,
              "#fb9f3a"
             ],
             [
              0.8888888888888888,
              "#fdca26"
             ],
             [
              1,
              "#f0f921"
             ]
            ],
            "type": "histogram2dcontour"
           }
          ],
          "mesh3d": [
           {
            "colorbar": {
             "outlinewidth": 0,
             "ticks": ""
            },
            "type": "mesh3d"
           }
          ],
          "parcoords": [
           {
            "line": {
             "colorbar": {
              "outlinewidth": 0,
              "ticks": ""
             }
            },
            "type": "parcoords"
           }
          ],
          "pie": [
           {
            "automargin": true,
            "type": "pie"
           }
          ],
          "scatter": [
           {
            "marker": {
             "colorbar": {
              "outlinewidth": 0,
              "ticks": ""
             }
            },
            "type": "scatter"
           }
          ],
          "scatter3d": [
           {
            "line": {
             "colorbar": {
              "outlinewidth": 0,
              "ticks": ""
             }
            },
            "marker": {
             "colorbar": {
              "outlinewidth": 0,
              "ticks": ""
             }
            },
            "type": "scatter3d"
           }
          ],
          "scattercarpet": [
           {
            "marker": {
             "colorbar": {
              "outlinewidth": 0,
              "ticks": ""
             }
            },
            "type": "scattercarpet"
           }
          ],
          "scattergeo": [
           {
            "marker": {
             "colorbar": {
              "outlinewidth": 0,
              "ticks": ""
             }
            },
            "type": "scattergeo"
           }
          ],
          "scattergl": [
           {
            "marker": {
             "colorbar": {
              "outlinewidth": 0,
              "ticks": ""
             }
            },
            "type": "scattergl"
           }
          ],
          "scattermapbox": [
           {
            "marker": {
             "colorbar": {
              "outlinewidth": 0,
              "ticks": ""
             }
            },
            "type": "scattermapbox"
           }
          ],
          "scatterpolar": [
           {
            "marker": {
             "colorbar": {
              "outlinewidth": 0,
              "ticks": ""
             }
            },
            "type": "scatterpolar"
           }
          ],
          "scatterpolargl": [
           {
            "marker": {
             "colorbar": {
              "outlinewidth": 0,
              "ticks": ""
             }
            },
            "type": "scatterpolargl"
           }
          ],
          "scatterternary": [
           {
            "marker": {
             "colorbar": {
              "outlinewidth": 0,
              "ticks": ""
             }
            },
            "type": "scatterternary"
           }
          ],
          "surface": [
           {
            "colorbar": {
             "outlinewidth": 0,
             "ticks": ""
            },
            "colorscale": [
             [
              0,
              "#0d0887"
             ],
             [
              0.1111111111111111,
              "#46039f"
             ],
             [
              0.2222222222222222,
              "#7201a8"
             ],
             [
              0.3333333333333333,
              "#9c179e"
             ],
             [
              0.4444444444444444,
              "#bd3786"
             ],
             [
              0.5555555555555556,
              "#d8576b"
             ],
             [
              0.6666666666666666,
              "#ed7953"
             ],
             [
              0.7777777777777778,
              "#fb9f3a"
             ],
             [
              0.8888888888888888,
              "#fdca26"
             ],
             [
              1,
              "#f0f921"
             ]
            ],
            "type": "surface"
           }
          ],
          "table": [
           {
            "cells": {
             "fill": {
              "color": "#EBF0F8"
             },
             "line": {
              "color": "white"
             }
            },
            "header": {
             "fill": {
              "color": "#C8D4E3"
             },
             "line": {
              "color": "white"
             }
            },
            "type": "table"
           }
          ]
         },
         "layout": {
          "annotationdefaults": {
           "arrowcolor": "#2a3f5f",
           "arrowhead": 0,
           "arrowwidth": 1
          },
          "coloraxis": {
           "colorbar": {
            "outlinewidth": 0,
            "ticks": ""
           }
          },
          "colorscale": {
           "diverging": [
            [
             0,
             "#8e0152"
            ],
            [
             0.1,
             "#c51b7d"
            ],
            [
             0.2,
             "#de77ae"
            ],
            [
             0.3,
             "#f1b6da"
            ],
            [
             0.4,
             "#fde0ef"
            ],
            [
             0.5,
             "#f7f7f7"
            ],
            [
             0.6,
             "#e6f5d0"
            ],
            [
             0.7,
             "#b8e186"
            ],
            [
             0.8,
             "#7fbc41"
            ],
            [
             0.9,
             "#4d9221"
            ],
            [
             1,
             "#276419"
            ]
           ],
           "sequential": [
            [
             0,
             "#0d0887"
            ],
            [
             0.1111111111111111,
             "#46039f"
            ],
            [
             0.2222222222222222,
             "#7201a8"
            ],
            [
             0.3333333333333333,
             "#9c179e"
            ],
            [
             0.4444444444444444,
             "#bd3786"
            ],
            [
             0.5555555555555556,
             "#d8576b"
            ],
            [
             0.6666666666666666,
             "#ed7953"
            ],
            [
             0.7777777777777778,
             "#fb9f3a"
            ],
            [
             0.8888888888888888,
             "#fdca26"
            ],
            [
             1,
             "#f0f921"
            ]
           ],
           "sequentialminus": [
            [
             0,
             "#0d0887"
            ],
            [
             0.1111111111111111,
             "#46039f"
            ],
            [
             0.2222222222222222,
             "#7201a8"
            ],
            [
             0.3333333333333333,
             "#9c179e"
            ],
            [
             0.4444444444444444,
             "#bd3786"
            ],
            [
             0.5555555555555556,
             "#d8576b"
            ],
            [
             0.6666666666666666,
             "#ed7953"
            ],
            [
             0.7777777777777778,
             "#fb9f3a"
            ],
            [
             0.8888888888888888,
             "#fdca26"
            ],
            [
             1,
             "#f0f921"
            ]
           ]
          },
          "colorway": [
           "#636efa",
           "#EF553B",
           "#00cc96",
           "#ab63fa",
           "#FFA15A",
           "#19d3f3",
           "#FF6692",
           "#B6E880",
           "#FF97FF",
           "#FECB52"
          ],
          "font": {
           "color": "#2a3f5f"
          },
          "geo": {
           "bgcolor": "white",
           "lakecolor": "white",
           "landcolor": "#E5ECF6",
           "showlakes": true,
           "showland": true,
           "subunitcolor": "white"
          },
          "hoverlabel": {
           "align": "left"
          },
          "hovermode": "closest",
          "mapbox": {
           "style": "light"
          },
          "paper_bgcolor": "white",
          "plot_bgcolor": "#E5ECF6",
          "polar": {
           "angularaxis": {
            "gridcolor": "white",
            "linecolor": "white",
            "ticks": ""
           },
           "bgcolor": "#E5ECF6",
           "radialaxis": {
            "gridcolor": "white",
            "linecolor": "white",
            "ticks": ""
           }
          },
          "scene": {
           "xaxis": {
            "backgroundcolor": "#E5ECF6",
            "gridcolor": "white",
            "gridwidth": 2,
            "linecolor": "white",
            "showbackground": true,
            "ticks": "",
            "zerolinecolor": "white"
           },
           "yaxis": {
            "backgroundcolor": "#E5ECF6",
            "gridcolor": "white",
            "gridwidth": 2,
            "linecolor": "white",
            "showbackground": true,
            "ticks": "",
            "zerolinecolor": "white"
           },
           "zaxis": {
            "backgroundcolor": "#E5ECF6",
            "gridcolor": "white",
            "gridwidth": 2,
            "linecolor": "white",
            "showbackground": true,
            "ticks": "",
            "zerolinecolor": "white"
           }
          },
          "shapedefaults": {
           "line": {
            "color": "#2a3f5f"
           }
          },
          "ternary": {
           "aaxis": {
            "gridcolor": "white",
            "linecolor": "white",
            "ticks": ""
           },
           "baxis": {
            "gridcolor": "white",
            "linecolor": "white",
            "ticks": ""
           },
           "bgcolor": "#E5ECF6",
           "caxis": {
            "gridcolor": "white",
            "linecolor": "white",
            "ticks": ""
           }
          },
          "title": {
           "x": 0.05
          },
          "xaxis": {
           "automargin": true,
           "gridcolor": "white",
           "linecolor": "white",
           "ticks": "",
           "title": {
            "standoff": 15
           },
           "zerolinecolor": "white",
           "zerolinewidth": 2
          },
          "yaxis": {
           "automargin": true,
           "gridcolor": "white",
           "linecolor": "white",
           "ticks": "",
           "title": {
            "standoff": 15
           },
           "zerolinecolor": "white",
           "zerolinewidth": 2
          }
         }
        },
        "width": 700
       },
       "_model_module_version": "1.5.0",
       "_py2js_animate": {},
       "_py2js_deleteTraces": {},
       "_py2js_moveTraces": {},
       "_py2js_removeLayoutProps": {},
       "_py2js_removeTraceProps": {},
       "_py2js_restyle": {},
       "_view_count": 0,
       "_view_module_version": "1.5.0"
      }
     },
     "d6e9079e899a4e589b94cff8398e3faf": {
      "buffers": [
       {
        "data": "AAAAAAAA+H8AAAAAAAD4fwAAAAAAAPh/+CB3/WyxPkAAAAAAAAD4fwAAAAAAAPh/QA+gBrhTSEA=",
        "encoding": "base64",
        "path": [
         "_data",
         0,
         "y",
         "value"
        ]
       },
       {
        "data": "AAAAAAAA+H8AAAAAAAD4fwAAAAAAAPh/AAAAAAAA+H8AAAAAAAD4fwAAAAAAAPh/AAAAAAAA+H8=",
        "encoding": "base64",
        "path": [
         "_data",
         1,
         "y",
         "value"
        ]
       }
      ],
      "model_module": "plotlywidget",
      "model_module_version": "1.5.0",
      "model_name": "FigureModel",
      "state": {
       "_config": {
        "plotlyServerURL": "https://plot.ly"
       },
       "_data": [
        {
         "marker": {
          "color": "green",
          "size": 10,
          "symbol": "circle"
         },
         "mode": "markers",
         "name": "Profit",
         "type": "scatter",
         "uid": "ec5a0d7d-cbde-4c86-9ed2-d7eef58d63d5",
         "x": [
          "2020-01-01T00:00:00.000000",
          "2020-01-02T00:00:00.000000",
          "2020-01-03T00:00:00.000000",
          "2020-01-04T00:00:00.000000",
          "2020-01-05T00:00:00.000000",
          "2020-01-06T00:00:00.000000",
          "2020-01-07T00:00:00.000000"
         ],
         "y": {
          "dtype": "float64",
          "shape": [
           7
          ]
         }
        },
        {
         "marker": {
          "color": "red",
          "size": 10,
          "symbol": "circle"
         },
         "mode": "markers",
         "name": "Loss",
         "type": "scatter",
         "uid": "74349c54-2791-4001-9648-7727fa05c371",
         "x": [
          "2020-01-01T00:00:00.000000",
          "2020-01-02T00:00:00.000000",
          "2020-01-03T00:00:00.000000",
          "2020-01-04T00:00:00.000000",
          "2020-01-05T00:00:00.000000",
          "2020-01-06T00:00:00.000000",
          "2020-01-07T00:00:00.000000"
         ],
         "y": {
          "dtype": "float64",
          "shape": [
           7
          ]
         }
        }
       ],
       "_js2py_layoutDelta": {},
       "_js2py_pointsCallback": {},
       "_js2py_relayout": {},
       "_js2py_restyle": {},
       "_js2py_traceDeltas": {},
       "_js2py_update": {},
       "_last_layout_edit_id": 5,
       "_last_trace_edit_id": 5,
       "_layout": {
        "autosize": false,
        "colorway": [
         "#1f77b4",
         "#ff7f0e",
         "#2ca02c",
         "#d62728",
         "#9467bd",
         "#8c564b",
         "#e377c2",
         "#7f7f7f",
         "#bcbd22",
         "#17becf"
        ],
        "height": 300,
        "hovermode": "closest",
        "margin": {
         "b": 30,
         "t": 30
        },
        "shapes": [
         {
          "line": {
           "color": "grey",
           "dash": "dot",
           "width": 2
          },
          "type": "line",
          "x0": 0,
          "x1": 1,
          "xref": "paper",
          "y0": 0,
          "y1": 0,
          "yref": "y"
         }
        ],
        "showlegend": true,
        "template": {
         "data": {
          "bar": [
           {
            "error_x": {
             "color": "#2a3f5f"
            },
            "error_y": {
             "color": "#2a3f5f"
            },
            "marker": {
             "line": {
              "color": "#E5ECF6",
              "width": 0.5
             }
            },
            "type": "bar"
           }
          ],
          "barpolar": [
           {
            "marker": {
             "line": {
              "color": "#E5ECF6",
              "width": 0.5
             }
            },
            "type": "barpolar"
           }
          ],
          "carpet": [
           {
            "aaxis": {
             "endlinecolor": "#2a3f5f",
             "gridcolor": "white",
             "linecolor": "white",
             "minorgridcolor": "white",
             "startlinecolor": "#2a3f5f"
            },
            "baxis": {
             "endlinecolor": "#2a3f5f",
             "gridcolor": "white",
             "linecolor": "white",
             "minorgridcolor": "white",
             "startlinecolor": "#2a3f5f"
            },
            "type": "carpet"
           }
          ],
          "choropleth": [
           {
            "colorbar": {
             "outlinewidth": 0,
             "ticks": ""
            },
            "type": "choropleth"
           }
          ],
          "contour": [
           {
            "colorbar": {
             "outlinewidth": 0,
             "ticks": ""
            },
            "colorscale": [
             [
              0,
              "#0d0887"
             ],
             [
              0.1111111111111111,
              "#46039f"
             ],
             [
              0.2222222222222222,
              "#7201a8"
             ],
             [
              0.3333333333333333,
              "#9c179e"
             ],
             [
              0.4444444444444444,
              "#bd3786"
             ],
             [
              0.5555555555555556,
              "#d8576b"
             ],
             [
              0.6666666666666666,
              "#ed7953"
             ],
             [
              0.7777777777777778,
              "#fb9f3a"
             ],
             [
              0.8888888888888888,
              "#fdca26"
             ],
             [
              1,
              "#f0f921"
             ]
            ],
            "type": "contour"
           }
          ],
          "contourcarpet": [
           {
            "colorbar": {
             "outlinewidth": 0,
             "ticks": ""
            },
            "type": "contourcarpet"
           }
          ],
          "heatmap": [
           {
            "colorbar": {
             "outlinewidth": 0,
             "ticks": ""
            },
            "colorscale": [
             [
              0,
              "#0d0887"
             ],
             [
              0.1111111111111111,
              "#46039f"
             ],
             [
              0.2222222222222222,
              "#7201a8"
             ],
             [
              0.3333333333333333,
              "#9c179e"
             ],
             [
              0.4444444444444444,
              "#bd3786"
             ],
             [
              0.5555555555555556,
              "#d8576b"
             ],
             [
              0.6666666666666666,
              "#ed7953"
             ],
             [
              0.7777777777777778,
              "#fb9f3a"
             ],
             [
              0.8888888888888888,
              "#fdca26"
             ],
             [
              1,
              "#f0f921"
             ]
            ],
            "type": "heatmap"
           }
          ],
          "heatmapgl": [
           {
            "colorbar": {
             "outlinewidth": 0,
             "ticks": ""
            },
            "colorscale": [
             [
              0,
              "#0d0887"
             ],
             [
              0.1111111111111111,
              "#46039f"
             ],
             [
              0.2222222222222222,
              "#7201a8"
             ],
             [
              0.3333333333333333,
              "#9c179e"
             ],
             [
              0.4444444444444444,
              "#bd3786"
             ],
             [
              0.5555555555555556,
              "#d8576b"
             ],
             [
              0.6666666666666666,
              "#ed7953"
             ],
             [
              0.7777777777777778,
              "#fb9f3a"
             ],
             [
              0.8888888888888888,
              "#fdca26"
             ],
             [
              1,
              "#f0f921"
             ]
            ],
            "type": "heatmapgl"
           }
          ],
          "histogram": [
           {
            "marker": {
             "colorbar": {
              "outlinewidth": 0,
              "ticks": ""
             }
            },
            "type": "histogram"
           }
          ],
          "histogram2d": [
           {
            "colorbar": {
             "outlinewidth": 0,
             "ticks": ""
            },
            "colorscale": [
             [
              0,
              "#0d0887"
             ],
             [
              0.1111111111111111,
              "#46039f"
             ],
             [
              0.2222222222222222,
              "#7201a8"
             ],
             [
              0.3333333333333333,
              "#9c179e"
             ],
             [
              0.4444444444444444,
              "#bd3786"
             ],
             [
              0.5555555555555556,
              "#d8576b"
             ],
             [
              0.6666666666666666,
              "#ed7953"
             ],
             [
              0.7777777777777778,
              "#fb9f3a"
             ],
             [
              0.8888888888888888,
              "#fdca26"
             ],
             [
              1,
              "#f0f921"
             ]
            ],
            "type": "histogram2d"
           }
          ],
          "histogram2dcontour": [
           {
            "colorbar": {
             "outlinewidth": 0,
             "ticks": ""
            },
            "colorscale": [
             [
              0,
              "#0d0887"
             ],
             [
              0.1111111111111111,
              "#46039f"
             ],
             [
              0.2222222222222222,
              "#7201a8"
             ],
             [
              0.3333333333333333,
              "#9c179e"
             ],
             [
              0.4444444444444444,
              "#bd3786"
             ],
             [
              0.5555555555555556,
              "#d8576b"
             ],
             [
              0.6666666666666666,
              "#ed7953"
             ],
             [
              0.7777777777777778,
              "#fb9f3a"
             ],
             [
              0.8888888888888888,
              "#fdca26"
             ],
             [
              1,
              "#f0f921"
             ]
            ],
            "type": "histogram2dcontour"
           }
          ],
          "mesh3d": [
           {
            "colorbar": {
             "outlinewidth": 0,
             "ticks": ""
            },
            "type": "mesh3d"
           }
          ],
          "parcoords": [
           {
            "line": {
             "colorbar": {
              "outlinewidth": 0,
              "ticks": ""
             }
            },
            "type": "parcoords"
           }
          ],
          "pie": [
           {
            "automargin": true,
            "type": "pie"
           }
          ],
          "scatter": [
           {
            "marker": {
             "colorbar": {
              "outlinewidth": 0,
              "ticks": ""
             }
            },
            "type": "scatter"
           }
          ],
          "scatter3d": [
           {
            "line": {
             "colorbar": {
              "outlinewidth": 0,
              "ticks": ""
             }
            },
            "marker": {
             "colorbar": {
              "outlinewidth": 0,
              "ticks": ""
             }
            },
            "type": "scatter3d"
           }
          ],
          "scattercarpet": [
           {
            "marker": {
             "colorbar": {
              "outlinewidth": 0,
              "ticks": ""
             }
            },
            "type": "scattercarpet"
           }
          ],
          "scattergeo": [
           {
            "marker": {
             "colorbar": {
              "outlinewidth": 0,
              "ticks": ""
             }
            },
            "type": "scattergeo"
           }
          ],
          "scattergl": [
           {
            "marker": {
             "colorbar": {
              "outlinewidth": 0,
              "ticks": ""
             }
            },
            "type": "scattergl"
           }
          ],
          "scattermapbox": [
           {
            "marker": {
             "colorbar": {
              "outlinewidth": 0,
              "ticks": ""
             }
            },
            "type": "scattermapbox"
           }
          ],
          "scatterpolar": [
           {
            "marker": {
             "colorbar": {
              "outlinewidth": 0,
              "ticks": ""
             }
            },
            "type": "scatterpolar"
           }
          ],
          "scatterpolargl": [
           {
            "marker": {
             "colorbar": {
              "outlinewidth": 0,
              "ticks": ""
             }
            },
            "type": "scatterpolargl"
           }
          ],
          "scatterternary": [
           {
            "marker": {
             "colorbar": {
              "outlinewidth": 0,
              "ticks": ""
             }
            },
            "type": "scatterternary"
           }
          ],
          "surface": [
           {
            "colorbar": {
             "outlinewidth": 0,
             "ticks": ""
            },
            "colorscale": [
             [
              0,
              "#0d0887"
             ],
             [
              0.1111111111111111,
              "#46039f"
             ],
             [
              0.2222222222222222,
              "#7201a8"
             ],
             [
              0.3333333333333333,
              "#9c179e"
             ],
             [
              0.4444444444444444,
              "#bd3786"
             ],
             [
              0.5555555555555556,
              "#d8576b"
             ],
             [
              0.6666666666666666,
              "#ed7953"
             ],
             [
              0.7777777777777778,
              "#fb9f3a"
             ],
             [
              0.8888888888888888,
              "#fdca26"
             ],
             [
              1,
              "#f0f921"
             ]
            ],
            "type": "surface"
           }
          ],
          "table": [
           {
            "cells": {
             "fill": {
              "color": "#EBF0F8"
             },
             "line": {
              "color": "white"
             }
            },
            "header": {
             "fill": {
              "color": "#C8D4E3"
             },
             "line": {
              "color": "white"
             }
            },
            "type": "table"
           }
          ]
         },
         "layout": {
          "annotationdefaults": {
           "arrowcolor": "#2a3f5f",
           "arrowhead": 0,
           "arrowwidth": 1
          },
          "coloraxis": {
           "colorbar": {
            "outlinewidth": 0,
            "ticks": ""
           }
          },
          "colorscale": {
           "diverging": [
            [
             0,
             "#8e0152"
            ],
            [
             0.1,
             "#c51b7d"
            ],
            [
             0.2,
             "#de77ae"
            ],
            [
             0.3,
             "#f1b6da"
            ],
            [
             0.4,
             "#fde0ef"
            ],
            [
             0.5,
             "#f7f7f7"
            ],
            [
             0.6,
             "#e6f5d0"
            ],
            [
             0.7,
             "#b8e186"
            ],
            [
             0.8,
             "#7fbc41"
            ],
            [
             0.9,
             "#4d9221"
            ],
            [
             1,
             "#276419"
            ]
           ],
           "sequential": [
            [
             0,
             "#0d0887"
            ],
            [
             0.1111111111111111,
             "#46039f"
            ],
            [
             0.2222222222222222,
             "#7201a8"
            ],
            [
             0.3333333333333333,
             "#9c179e"
            ],
            [
             0.4444444444444444,
             "#bd3786"
            ],
            [
             0.5555555555555556,
             "#d8576b"
            ],
            [
             0.6666666666666666,
             "#ed7953"
            ],
            [
             0.7777777777777778,
             "#fb9f3a"
            ],
            [
             0.8888888888888888,
             "#fdca26"
            ],
            [
             1,
             "#f0f921"
            ]
           ],
           "sequentialminus": [
            [
             0,
             "#0d0887"
            ],
            [
             0.1111111111111111,
             "#46039f"
            ],
            [
             0.2222222222222222,
             "#7201a8"
            ],
            [
             0.3333333333333333,
             "#9c179e"
            ],
            [
             0.4444444444444444,
             "#bd3786"
            ],
            [
             0.5555555555555556,
             "#d8576b"
            ],
            [
             0.6666666666666666,
             "#ed7953"
            ],
            [
             0.7777777777777778,
             "#fb9f3a"
            ],
            [
             0.8888888888888888,
             "#fdca26"
            ],
            [
             1,
             "#f0f921"
            ]
           ]
          },
          "colorway": [
           "#636efa",
           "#EF553B",
           "#00cc96",
           "#ab63fa",
           "#FFA15A",
           "#19d3f3",
           "#FF6692",
           "#B6E880",
           "#FF97FF",
           "#FECB52"
          ],
          "font": {
           "color": "#2a3f5f"
          },
          "geo": {
           "bgcolor": "white",
           "lakecolor": "white",
           "landcolor": "#E5ECF6",
           "showlakes": true,
           "showland": true,
           "subunitcolor": "white"
          },
          "hoverlabel": {
           "align": "left"
          },
          "hovermode": "closest",
          "mapbox": {
           "style": "light"
          },
          "paper_bgcolor": "white",
          "plot_bgcolor": "#E5ECF6",
          "polar": {
           "angularaxis": {
            "gridcolor": "white",
            "linecolor": "white",
            "ticks": ""
           },
           "bgcolor": "#E5ECF6",
           "radialaxis": {
            "gridcolor": "white",
            "linecolor": "white",
            "ticks": ""
           }
          },
          "scene": {
           "xaxis": {
            "backgroundcolor": "#E5ECF6",
            "gridcolor": "white",
            "gridwidth": 2,
            "linecolor": "white",
            "showbackground": true,
            "ticks": "",
            "zerolinecolor": "white"
           },
           "yaxis": {
            "backgroundcolor": "#E5ECF6",
            "gridcolor": "white",
            "gridwidth": 2,
            "linecolor": "white",
            "showbackground": true,
            "ticks": "",
            "zerolinecolor": "white"
           },
           "zaxis": {
            "backgroundcolor": "#E5ECF6",
            "gridcolor": "white",
            "gridwidth": 2,
            "linecolor": "white",
            "showbackground": true,
            "ticks": "",
            "zerolinecolor": "white"
           }
          },
          "shapedefaults": {
           "line": {
            "color": "#2a3f5f"
           }
          },
          "ternary": {
           "aaxis": {
            "gridcolor": "white",
            "linecolor": "white",
            "ticks": ""
           },
           "baxis": {
            "gridcolor": "white",
            "linecolor": "white",
            "ticks": ""
           },
           "bgcolor": "#E5ECF6",
           "caxis": {
            "gridcolor": "white",
            "linecolor": "white",
            "ticks": ""
           }
          },
          "title": {
           "x": 0.05
          },
          "xaxis": {
           "automargin": true,
           "gridcolor": "white",
           "linecolor": "white",
           "ticks": "",
           "title": {
            "standoff": 15
           },
           "zerolinecolor": "white",
           "zerolinewidth": 2
          },
          "yaxis": {
           "automargin": true,
           "gridcolor": "white",
           "linecolor": "white",
           "ticks": "",
           "title": {
            "standoff": 15
           },
           "zerolinecolor": "white",
           "zerolinewidth": 2
          }
         }
        },
        "width": 700,
        "yaxis": {
         "range": [
          -58.38486422899714,
          58.38486422899714
         ]
        }
       },
       "_model_module_version": "1.5.0",
       "_py2js_animate": {},
       "_py2js_deleteTraces": {},
       "_py2js_moveTraces": {},
       "_py2js_removeLayoutProps": {},
       "_py2js_removeTraceProps": {},
       "_py2js_restyle": {},
       "_view_count": 0,
       "_view_module_version": "1.5.0"
      }
     }
    },
    "version_major": 2,
    "version_minor": 0
   }
  }
 },
 "nbformat": 4,
 "nbformat_minor": 4
}
