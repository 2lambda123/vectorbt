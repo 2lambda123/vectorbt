{
 "cells": [
  {
   "cell_type": "code",
   "execution_count": 1,
   "metadata": {},
   "outputs": [
    {
     "name": "stdout",
     "output_type": "stream",
     "text": [
      "(5,) (5, 3)\n",
      "(1000, 1) (1000, 1000)\n"
     ]
    }
   ],
   "source": [
    "import vectorbt as vbt\n",
    "from vectorbt.portfolio.enums import (\n",
    "    SizeType, \n",
    "    ConflictMode, \n",
    "    CallSeqType, \n",
    "    Order, \n",
    "    NoOrder, \n",
    "    InitCashMode,\n",
    "    SignalType\n",
    ")\n",
    "from vectorbt.records.enums import OrderSide\n",
    "\n",
    "import numpy as np\n",
    "import pandas as pd\n",
    "from numba import njit\n",
    "from datetime import datetime, timedelta\n",
    "\n",
    "seed = 42\n",
    "\n",
    "price = pd.Series([1., 2., 3., 4., 5.], index=pd.Index([\n",
    "    datetime(2020, 1, 1),\n",
    "    datetime(2020, 1, 2),\n",
    "    datetime(2020, 1, 3),\n",
    "    datetime(2020, 1, 4),\n",
    "    datetime(2020, 1, 5)\n",
    "]))\n",
    "price_wide = price.vbt.tile(3, keys=['a', 'b', 'c'])\n",
    "print(price.shape, price_wide.shape)\n",
    "\n",
    "big_price = pd.DataFrame(np.random.uniform(size=(1000,)))\n",
    "big_price.index = [datetime(2018, 1, 1) + timedelta(days=i) for i in range(1000)]\n",
    "big_price_wide = big_price.vbt.tile(1000)\n",
    "print(big_price.shape, big_price_wide.shape)\n",
    "\n",
    "# Disable caching for performance testing\n",
    "# NOTE: Expect waterfall of executions, since some attributes depend on other attributes \n",
    "# that have to be calculated again and again\n",
    "vbt.defaults.caching = False"
   ]
  },
  {
   "cell_type": "markdown",
   "metadata": {},
   "source": [
    "## from_signals"
   ]
  },
  {
   "cell_type": "code",
   "execution_count": 2,
   "metadata": {},
   "outputs": [
    {
     "name": "stdout",
     "output_type": "stream",
     "text": [
      "(5,) (5, 3)\n",
      "(5,) (5, 3)\n",
      "(1000,) (1000, 1000)\n",
      "(1000,) (1000, 1000)\n"
     ]
    }
   ],
   "source": [
    "entries = pd.Series([True, True, True, False, False], index=price.index)\n",
    "entries_wide = entries.vbt.tile(3, keys=['a', 'b', 'c'])\n",
    "print(entries.shape, entries_wide.shape)\n",
    "\n",
    "exits = pd.Series([False, False, True, True, True], index=price.index)\n",
    "exits_wide = exits.vbt.tile(3, keys=['a', 'b', 'c'])\n",
    "print(exits.shape, exits_wide.shape)\n",
    "\n",
    "big_entries = pd.DataFrame.vbt.signals.empty((1000,), index=big_price.index)\n",
    "big_entries.iloc[0::2] = True\n",
    "big_entries_wide = big_entries.vbt.tile(1000)\n",
    "print(big_entries.shape, big_entries_wide.shape)\n",
    "\n",
    "big_exits = pd.DataFrame.vbt.signals.empty((1000,), index=big_price.index)\n",
    "big_exits.iloc[1::2] = True\n",
    "big_exits_wide = big_exits.vbt.tile(1000)\n",
    "print(big_exits.shape, big_exits_wide.shape)"
   ]
  },
  {
   "cell_type": "code",
   "execution_count": 3,
   "metadata": {},
   "outputs": [
    {
     "name": "stdout",
     "output_type": "stream",
     "text": [
      "2.37 ms ± 523 µs per loop (mean ± std. dev. of 7 runs, 1 loop each)\n"
     ]
    }
   ],
   "source": [
    "%timeit vbt.Portfolio.from_signals(\\\n",
    "    big_price, big_entries, big_exits,\\\n",
    "    size=1., init_cash=np.inf, accumulate=True)"
   ]
  },
  {
   "cell_type": "code",
   "execution_count": 10,
   "metadata": {},
   "outputs": [
    {
     "name": "stdout",
     "output_type": "stream",
     "text": [
      "97.3 ms ± 6.46 ms per loop (mean ± std. dev. of 7 runs, 10 loops each)\n"
     ]
    }
   ],
   "source": [
    "%timeit vbt.Portfolio.from_signals(\\\n",
    "    big_price_wide, big_entries_wide, big_exits_wide,\\\n",
    "    size=1., init_cash=np.inf, accumulate=True)"
   ]
  },
  {
   "cell_type": "code",
   "execution_count": 9,
   "metadata": {},
   "outputs": [
    {
     "name": "stdout",
     "output_type": "stream",
     "text": [
      "97.8 ms ± 5.83 ms per loop (mean ± std. dev. of 7 runs, 10 loops each)\n"
     ]
    }
   ],
   "source": [
    "%timeit vbt.Portfolio.from_signals(\\\n",
    "    big_price_wide, big_entries_wide, big_exits_wide,\\\n",
    "    size=1., init_cash=np.inf, accumulate=True,\\\n",
    "    group_by=np.repeat(np.arange(500), 2))"
   ]
  },
  {
   "cell_type": "code",
   "execution_count": 3,
   "metadata": {},
   "outputs": [
    {
     "name": "stdout",
     "output_type": "stream",
     "text": [
      "128 ms ± 23.2 ms per loop (mean ± std. dev. of 7 runs, 1 loop each)\n"
     ]
    }
   ],
   "source": [
    "%timeit vbt.Portfolio.from_signals(\\\n",
    "    big_price_wide, big_entries_wide, big_exits_wide,\\\n",
    "    size=1., init_cash=np.inf, accumulate=True,\\\n",
    "    group_by=np.repeat(np.arange(500), 2), cash_sharing=True)"
   ]
  },
  {
   "cell_type": "code",
   "execution_count": 4,
   "metadata": {},
   "outputs": [
    {
     "name": "stdout",
     "output_type": "stream",
     "text": [
      "123 ms ± 9.05 ms per loop (mean ± std. dev. of 7 runs, 1 loop each)\n"
     ]
    }
   ],
   "source": [
    "# worst case\n",
    "%timeit vbt.Portfolio.from_signals(\\\n",
    "    big_price_wide, big_entries_wide, big_exits_wide,\\\n",
    "    size=np.arange(1000)[::-1], init_cash=np.inf, accumulate=True,\\\n",
    "    group_by=np.repeat(np.arange(500), 2), cash_sharing=True, call_seq=CallSeqType.Auto)"
   ]
  },
  {
   "cell_type": "code",
   "execution_count": 6,
   "metadata": {},
   "outputs": [
    {
     "name": "stdout",
     "output_type": "stream",
     "text": [
      "111 ms ± 17.2 ms per loop (mean ± std. dev. of 7 runs, 10 loops each)\n"
     ]
    }
   ],
   "source": [
    "%timeit vbt.Portfolio.from_signals(\\\n",
    "    big_price_wide, big_entries_wide, big_exits_wide,\\\n",
    "    size=1., init_cash=np.inf, accumulate=True,\\\n",
    "    group_by=np.full(1000, 0))"
   ]
  },
  {
   "cell_type": "code",
   "execution_count": 6,
   "metadata": {},
   "outputs": [
    {
     "name": "stdout",
     "output_type": "stream",
     "text": [
      "108 ms ± 8.17 ms per loop (mean ± std. dev. of 7 runs, 1 loop each)\n"
     ]
    }
   ],
   "source": [
    "%timeit vbt.Portfolio.from_signals(\\\n",
    "    big_price_wide, big_entries_wide, big_exits_wide,\\\n",
    "    size=1., init_cash=np.inf, accumulate=True,\\\n",
    "    group_by=np.full(1000, 0), cash_sharing=True)"
   ]
  },
  {
   "cell_type": "code",
   "execution_count": 5,
   "metadata": {},
   "outputs": [
    {
     "name": "stdout",
     "output_type": "stream",
     "text": [
      "643 ms ± 55.2 ms per loop (mean ± std. dev. of 7 runs, 1 loop each)\n"
     ]
    }
   ],
   "source": [
    "# worst case\n",
    "%timeit vbt.Portfolio.from_signals(\\\n",
    "    big_price_wide, big_entries_wide, big_exits_wide,\\\n",
    "    size=np.arange(1000)[::-1], init_cash=np.inf, accumulate=True,\\\n",
    "    group_by=np.full(1000, 0), cash_sharing=True, call_seq=CallSeqType.Auto)"
   ]
  },
  {
   "cell_type": "code",
   "execution_count": 3,
   "metadata": {},
   "outputs": [
    {
     "name": "stdout",
     "output_type": "stream",
     "text": [
      "   col  idx   size  price  fees  side\n",
      "0    0    0  100.0    1.0   0.0     0\n",
      "1    0    3  100.0    4.0   0.0     1\n"
     ]
    }
   ],
   "source": [
    "portfolio = vbt.Portfolio.from_signals(price, entries, exits)\n",
    "\n",
    "print(portfolio.orders().records)"
   ]
  },
  {
   "cell_type": "code",
   "execution_count": 4,
   "metadata": {},
   "outputs": [
    {
     "name": "stdout",
     "output_type": "stream",
     "text": [
      "   col  idx   size  price  fees  side\n",
      "0    0    0  100.0    1.0   0.0     0\n",
      "1    0    3  100.0    4.0   0.0     1\n",
      "2    1    0  100.0    1.0   0.0     0\n",
      "3    1    3  100.0    4.0   0.0     1\n",
      "4    2    0  100.0    1.0   0.0     0\n",
      "5    2    3  100.0    4.0   0.0     1\n"
     ]
    }
   ],
   "source": [
    "portfolio = vbt.Portfolio.from_signals(price_wide, entries, exits)\n",
    "\n",
    "print(portfolio.orders().records)"
   ]
  },
  {
   "cell_type": "code",
   "execution_count": 5,
   "metadata": {},
   "outputs": [],
   "source": [
    "def test_per_signal_type(price=price, entries=entries, exits=exits, val_price=price, **kwargs):\n",
    "    print('Long')\n",
    "    try:\n",
    "        portfolio = vbt.Portfolio.from_signals(price, entries, exits, signal_type='long', **kwargs)\n",
    "        print(portfolio.orders().records)\n",
    "    except Exception as e:\n",
    "        print(e)\n",
    "    print('Short')\n",
    "    try:\n",
    "        portfolio = vbt.Portfolio.from_signals(price, entries, exits, signal_type='short', **kwargs)\n",
    "        print(portfolio.orders().records)\n",
    "    except Exception as e:\n",
    "        print(e)\n",
    "    print('LongShort')\n",
    "    try:\n",
    "        portfolio = vbt.Portfolio.from_signals(price, entries, exits, signal_type='longshort', **kwargs)\n",
    "        print(portfolio.orders().records)\n",
    "    except Exception as e:\n",
    "        print(e)"
   ]
  },
  {
   "cell_type": "code",
   "execution_count": 6,
   "metadata": {},
   "outputs": [
    {
     "name": "stdout",
     "output_type": "stream",
     "text": [
      "Long\n",
      "   col  idx   size  price  fees  side\n",
      "0    0    0    1.0    1.0   0.0     0\n",
      "1    0    3    1.0    4.0   0.0     1\n",
      "2    2    0  100.0    1.0   0.0     0\n",
      "3    2    3  100.0    4.0   0.0     1\n",
      "Short\n",
      "   col  idx   size  price  fees  side\n",
      "0    0    0    1.0    1.0   0.0     1\n",
      "1    0    3    1.0    4.0   0.0     0\n",
      "2    2    0  100.0    1.0   0.0     1\n",
      "3    2    3   50.0    4.0   0.0     0\n",
      "LongShort\n",
      "   col  idx   size  price  fees  side\n",
      "0    0    0    1.0    1.0   0.0     0\n",
      "1    0    3    2.0    4.0   0.0     1\n",
      "2    2    0  100.0    1.0   0.0     0\n",
      "3    2    3  200.0    4.0   0.0     1\n",
      "Long\n",
      "   col  idx  size  price  fees  side\n",
      "0    0    0   1.0    1.0   0.0     0\n",
      "1    0    3   1.0    4.0   0.0     1\n",
      "Short\n",
      "   col  idx  size  price  fees  side\n",
      "0    0    0   2.0    1.0   0.0     1\n",
      "1    0    3   2.0    4.0   0.0     0\n",
      "LongShort\n",
      "   col  idx  size  price  fees  side\n",
      "0    0    0   1.0    1.0   0.0     0\n",
      "1    0    3   3.0    4.0   0.0     1\n"
     ]
    }
   ],
   "source": [
    "test_per_signal_type(size=[[-1, 0, np.inf]])\n",
    "test_per_signal_type(long_size=1., short_size=2.)"
   ]
  },
  {
   "cell_type": "code",
   "execution_count": 7,
   "metadata": {},
   "outputs": [
    {
     "name": "stdout",
     "output_type": "stream",
     "text": [
      "Long\n",
      "   col  idx  size  price  fees  side\n",
      "0    0    0   1.0   1.01   0.0     0\n",
      "1    0    3   1.0   3.96   0.0     1\n",
      "Short\n",
      "   col  idx  size  price  fees  side\n",
      "0    0    0   1.0   0.99   0.0     1\n",
      "1    0    3   1.0   4.04   0.0     0\n",
      "LongShort\n",
      "   col  idx  size  price  fees  side\n",
      "0    0    0   1.0   1.01   0.0     0\n",
      "1    0    3   2.0   3.96   0.0     1\n"
     ]
    }
   ],
   "source": [
    "test_per_signal_type(size=1, long_price=price*1.01, short_price=price*0.99)"
   ]
  },
  {
   "cell_type": "code",
   "execution_count": 8,
   "metadata": {},
   "outputs": [
    {
     "name": "stdout",
     "output_type": "stream",
     "text": [
      "Long\n",
      "   col  idx  size  price  fees  side\n",
      "0    0    0   1.0    1.0   0.0     0\n",
      "1    0    3   1.0    4.0   0.0     1\n",
      "2    1    0   1.0    1.0   0.1     0\n",
      "3    1    3   1.0    4.0   0.4     1\n",
      "4    2    0   1.0    1.0   1.0     0\n",
      "5    2    3   1.0    4.0   4.0     1\n",
      "Short\n",
      "   col  idx  size  price  fees  side\n",
      "0    0    0   1.0    1.0   0.0     1\n",
      "1    0    3   1.0    4.0   0.0     0\n",
      "2    1    0   1.0    1.0   0.1     1\n",
      "3    1    3   1.0    4.0   0.4     0\n",
      "4    2    0   1.0    1.0   1.0     1\n",
      "5    2    3   1.0    4.0   4.0     0\n",
      "LongShort\n",
      "   col  idx  size  price  fees  side\n",
      "0    0    0   1.0    1.0   0.0     0\n",
      "1    0    3   2.0    4.0   0.0     1\n",
      "2    1    0   1.0    1.0   0.1     0\n",
      "3    1    3   2.0    4.0   0.8     1\n",
      "4    2    0   1.0    1.0   1.0     0\n",
      "5    2    3   2.0    4.0   8.0     1\n",
      "Long\n",
      "   col  idx  size  price  fees  side\n",
      "0    0    0   1.0    1.0   0.0     0\n",
      "1    0    3   1.0    4.0   4.0     1\n",
      "Short\n",
      "   col  idx  size  price  fees  side\n",
      "0    0    0   1.0    1.0   1.0     1\n",
      "1    0    3   1.0    4.0   0.0     0\n",
      "LongShort\n",
      "   col  idx  size  price  fees  side\n",
      "0    0    0   1.0    1.0   0.0     0\n",
      "1    0    3   2.0    4.0   8.0     1\n"
     ]
    }
   ],
   "source": [
    "test_per_signal_type(size=1, fees=[[0., 0.1, 1.]])\n",
    "test_per_signal_type(size=1, long_fees=0., short_fees=1.)"
   ]
  },
  {
   "cell_type": "code",
   "execution_count": 9,
   "metadata": {},
   "outputs": [
    {
     "name": "stdout",
     "output_type": "stream",
     "text": [
      "Long\n",
      "   col  idx  size  price  fees  side\n",
      "0    0    0   1.0    1.0   0.0     0\n",
      "1    0    3   1.0    4.0   0.0     1\n",
      "2    1    0   1.0    1.0   0.1     0\n",
      "3    1    3   1.0    4.0   0.1     1\n",
      "4    2    0   1.0    1.0   1.0     0\n",
      "5    2    3   1.0    4.0   1.0     1\n",
      "Short\n",
      "   col  idx  size  price  fees  side\n",
      "0    0    0   1.0    1.0   0.0     1\n",
      "1    0    3   1.0    4.0   0.0     0\n",
      "2    1    0   1.0    1.0   0.1     1\n",
      "3    1    3   1.0    4.0   0.1     0\n",
      "4    2    0   1.0    1.0   1.0     1\n",
      "5    2    3   1.0    4.0   1.0     0\n",
      "LongShort\n",
      "   col  idx  size  price  fees  side\n",
      "0    0    0   1.0    1.0   0.0     0\n",
      "1    0    3   2.0    4.0   0.0     1\n",
      "2    1    0   1.0    1.0   0.1     0\n",
      "3    1    3   2.0    4.0   0.1     1\n",
      "4    2    0   1.0    1.0   1.0     0\n",
      "5    2    3   2.0    4.0   1.0     1\n",
      "Long\n",
      "   col  idx  size  price  fees  side\n",
      "0    0    0   1.0    1.0   0.0     0\n",
      "1    0    3   1.0    4.0   1.0     1\n",
      "Short\n",
      "   col  idx  size  price  fees  side\n",
      "0    0    0   1.0    1.0   1.0     1\n",
      "1    0    3   1.0    4.0   0.0     0\n",
      "LongShort\n",
      "   col  idx  size  price  fees  side\n",
      "0    0    0   1.0    1.0   0.0     0\n",
      "1    0    3   2.0    4.0   1.0     1\n"
     ]
    }
   ],
   "source": [
    "test_per_signal_type(size=1, fixed_fees=[[0., 0.1, 1.]])\n",
    "test_per_signal_type(size=1, long_fixed_fees=0., short_fixed_fees=1.)"
   ]
  },
  {
   "cell_type": "code",
   "execution_count": 13,
   "metadata": {},
   "outputs": [
    {
     "name": "stdout",
     "output_type": "stream",
     "text": [
      "Long\n",
      "   col  idx  size  price  fees  side\n",
      "0    0    0   1.0    1.0   0.0     0\n",
      "1    0    3   1.0    4.0   0.0     1\n",
      "2    1    0   1.0    1.1   0.0     0\n",
      "3    1    3   1.0    3.6   0.0     1\n",
      "4    2    0   1.0    2.0   0.0     0\n",
      "5    2    3   1.0    0.0   0.0     1\n",
      "Short\n",
      "   col  idx  size  price  fees  side\n",
      "0    0    0   1.0    1.0   0.0     1\n",
      "1    0    3   1.0    4.0   0.0     0\n",
      "2    1    0   1.0    0.9   0.0     1\n",
      "3    1    3   1.0    4.4   0.0     0\n",
      "4    2    0   1.0    0.0   0.0     1\n",
      "5    2    3   1.0    8.0   0.0     0\n",
      "LongShort\n",
      "   col  idx  size  price  fees  side\n",
      "0    0    0   1.0    1.0   0.0     0\n",
      "1    0    3   2.0    4.0   0.0     1\n",
      "2    1    0   1.0    1.1   0.0     0\n",
      "3    1    3   2.0    3.6   0.0     1\n",
      "4    2    0   1.0    2.0   0.0     0\n",
      "5    2    3   2.0    0.0   0.0     1\n",
      "Long\n",
      "   col  idx  size  price  fees  side\n",
      "0    0    0   1.0    1.0   0.0     0\n",
      "1    0    3   1.0    2.0   0.0     1\n",
      "Short\n",
      "   col  idx  size  price  fees  side\n",
      "0    0    0   1.0    0.5   0.0     1\n",
      "1    0    3   1.0    4.0   0.0     0\n",
      "LongShort\n",
      "   col  idx  size  price  fees  side\n",
      "0    0    0   1.0    1.0   0.0     0\n",
      "1    0    3   2.0    2.0   0.0     1\n"
     ]
    }
   ],
   "source": [
    "test_per_signal_type(size=1, slippage=[[0., 0.1, 1.]])\n",
    "test_per_signal_type(size=1, long_slippage=0., short_slippage=0.5)"
   ]
  },
  {
   "cell_type": "code",
   "execution_count": 14,
   "metadata": {},
   "outputs": [
    {
     "name": "stdout",
     "output_type": "stream",
     "text": [
      "Long\n",
      "   col  idx  size  price  fees  side\n",
      "0    0    0   1.0    1.0   0.0     0\n",
      "1    0    3   1.0    4.0   0.0     1\n",
      "2    1    0   1.0    1.0   0.0     0\n",
      "3    1    3   1.0    4.0   0.0     1\n",
      "Short\n",
      "   col  idx  size  price  fees  side\n",
      "0    0    0   1.0    1.0   0.0     1\n",
      "1    0    3   1.0    4.0   0.0     0\n",
      "2    1    0   1.0    1.0   0.0     1\n",
      "3    1    3   1.0    4.0   0.0     0\n",
      "LongShort\n",
      "   col  idx  size  price  fees  side\n",
      "0    0    0   1.0    1.0   0.0     0\n",
      "1    0    3   2.0    4.0   0.0     1\n",
      "2    1    0   1.0    1.0   0.0     0\n",
      "3    1    3   2.0    4.0   0.0     1\n",
      "Long\n",
      "   col  idx  size  price  fees  side\n",
      "0    0    0   1.0    1.0   0.0     0\n",
      "Short\n",
      "Empty DataFrame\n",
      "Columns: [col, idx, size, price, fees, side]\n",
      "Index: []\n",
      "LongShort\n",
      "   col  idx  size  price  fees  side\n",
      "0    0    0   1.0    1.0   0.0     0\n",
      "1    0    3   2.0    4.0   0.0     1\n"
     ]
    }
   ],
   "source": [
    "test_per_signal_type(size=1, min_size=[[0., 1., 2.]])\n",
    "test_per_signal_type(size=1, long_min_size=1., short_min_size=2.)"
   ]
  },
  {
   "cell_type": "code",
   "execution_count": 15,
   "metadata": {},
   "outputs": [
    {
     "name": "stdout",
     "output_type": "stream",
     "text": [
      "Long\n",
      "   col  idx  size  price  fees  side\n",
      "0    0    0   0.5    1.0   0.0     0\n",
      "1    0    3   0.5    4.0   0.0     1\n",
      "2    1    0   1.0    1.0   0.0     0\n",
      "3    1    3   1.0    4.0   0.0     1\n",
      "4    2    0   1.0    1.0   0.0     0\n",
      "5    2    3   1.0    4.0   0.0     1\n",
      "Short\n",
      "   col  idx  size  price  fees  side\n",
      "0    0    0   0.5    1.0   0.0     1\n",
      "1    0    3   0.5    4.0   0.0     0\n",
      "2    1    0   1.0    1.0   0.0     1\n",
      "3    1    3   1.0    4.0   0.0     0\n",
      "4    2    0   1.0    1.0   0.0     1\n",
      "5    2    3   1.0    4.0   0.0     0\n",
      "LongShort\n",
      "   col  idx  size  price  fees  side\n",
      "0    0    0   0.5    1.0   0.0     0\n",
      "1    0    3   0.5    4.0   0.0     1\n",
      "2    0    4   0.5    5.0   0.0     1\n",
      "3    1    0   1.0    1.0   0.0     0\n",
      "4    1    3   1.0    4.0   0.0     1\n",
      "5    1    4   1.0    5.0   0.0     1\n",
      "6    2    0   1.0    1.0   0.0     0\n",
      "7    2    3   2.0    4.0   0.0     1\n",
      "Long\n",
      "   col  idx  size  price  fees  side\n",
      "0    0    0   0.5    1.0   0.0     0\n",
      "1    0    3   0.5    4.0   0.0     1\n",
      "Short\n",
      "   col  idx  size  price  fees  side\n",
      "0    0    0   1.0    1.0   0.0     1\n",
      "1    0    3   0.5    4.0   0.0     0\n",
      "2    0    4   0.5    5.0   0.0     0\n",
      "LongShort\n",
      "   col  idx  size  price  fees  side\n",
      "0    0    0   0.5    1.0   0.0     0\n",
      "1    0    3   1.5    4.0   0.0     1\n"
     ]
    }
   ],
   "source": [
    "test_per_signal_type(size=1, max_size=[[0.5, 1., np.inf]])\n",
    "test_per_signal_type(size=1, long_max_size=0.5, short_max_size=np.inf)"
   ]
  },
  {
   "cell_type": "code",
   "execution_count": 16,
   "metadata": {},
   "outputs": [
    {
     "name": "stdout",
     "output_type": "stream",
     "text": [
      "Long\n",
      "   col  idx  size  price  fees  side\n",
      "0    0    0   1.0    1.0   0.0     0\n",
      "1    0    3   1.0    4.0   0.0     1\n",
      "2    1    1   1.0    2.0   0.0     0\n",
      "3    1    3   1.0    4.0   0.0     1\n",
      "Short\n",
      "   col  idx  size  price  fees  side\n",
      "0    0    0   1.0    1.0   0.0     1\n",
      "1    0    3   1.0    4.0   0.0     0\n",
      "2    1    1   1.0    2.0   0.0     1\n",
      "3    1    3   1.0    4.0   0.0     0\n",
      "LongShort\n",
      "   col  idx  size  price  fees  side\n",
      "0    0    0   1.0    1.0   0.0     0\n",
      "1    0    3   2.0    4.0   0.0     1\n",
      "2    1    1   1.0    2.0   0.0     0\n",
      "3    1    3   2.0    4.0   0.0     1\n",
      "Long\n",
      "   col  idx  size  price  fees  side\n",
      "0    0    0   1.0    1.0   0.0     0\n",
      "Short\n",
      "Empty DataFrame\n",
      "Columns: [col, idx, size, price, fees, side]\n",
      "Index: []\n",
      "LongShort\n",
      "   col  idx  size  price  fees  side\n",
      "0    0    0   1.0    1.0   0.0     0\n"
     ]
    }
   ],
   "source": [
    "test_per_signal_type(size=1., reject_prob=[[0., 0.5, 1.]], seed=42)\n",
    "test_per_signal_type(size=1, long_reject_prob=0., short_reject_prob=1., seed=42)"
   ]
  },
  {
   "cell_type": "code",
   "execution_count": 8,
   "metadata": {},
   "outputs": [
    {
     "name": "stdout",
     "output_type": "stream",
     "text": [
      "Long\n",
      "   col  idx   size  price  fees  side\n",
      "0    0    0  100.0    1.0   0.0     0\n",
      "1    0    3  100.0    4.0   0.0     1\n",
      "Short\n",
      "   col  idx    size  price  fees  side\n",
      "0    0    0  1000.0    1.0   0.0     1\n",
      "1    0    3   275.0    4.0   0.0     0\n",
      "2    1    0  1000.0    1.0   0.0     1\n",
      "LongShort\n",
      "   col  idx    size  price  fees  side\n",
      "0    0    0   100.0    1.0   0.0     0\n",
      "1    0    3  1100.0    4.0   0.0     1\n",
      "2    1    3  1000.0    4.0   0.0     1\n",
      "Long\n",
      "Empty DataFrame\n",
      "Columns: [col, idx, size, price, fees, side]\n",
      "Index: []\n",
      "Short\n",
      "   col  idx    size  price  fees  side\n",
      "0    0    0  1000.0    1.0   0.0     1\n",
      "LongShort\n",
      "   col  idx    size  price  fees  side\n",
      "0    0    3  1000.0    4.0   0.0     1\n",
      "Long\n",
      "   col  idx   size  price  fees  side\n",
      "0    0    0  100.0    1.0   0.0     0\n",
      "1    0    3  100.0    4.0   0.0     1\n",
      "Short\n",
      "   col  idx   size  price  fees  side\n",
      "0    0    0  100.0    1.0   0.0     1\n",
      "LongShort\n",
      "   col  idx   size  price  fees  side\n",
      "0    0    0  100.0    1.0   0.0     0\n",
      "1    0    3  200.0    4.0   0.0     1\n"
     ]
    }
   ],
   "source": [
    "test_per_signal_type(size=1000, allow_partial=[[True, False]])\n",
    "test_per_signal_type(size=1000, long_allow_partial=False, short_allow_partial=True)\n",
    "test_per_signal_type(size=np.inf, long_allow_partial=False, short_allow_partial=True)"
   ]
  },
  {
   "cell_type": "code",
   "execution_count": 9,
   "metadata": {},
   "outputs": [
    {
     "name": "stdout",
     "output_type": "stream",
     "text": [
      "Long\n",
      "   col  idx   size  price  fees  side\n",
      "0    0    0  100.0    1.0   0.0     0\n",
      "1    0    3  100.0    4.0   0.0     1\n",
      "Short\n",
      "Order rejected due to insufficient funds\n",
      "LongShort\n",
      "   col  idx    size  price  fees  side\n",
      "0    0    0   100.0    1.0   0.0     0\n",
      "1    0    3  1100.0    4.0   0.0     1\n",
      "Long\n",
      "Order rejected due to partial fill\n",
      "Short\n",
      "Order rejected due to partial fill\n",
      "LongShort\n",
      "Order rejected due to partial fill\n",
      "Long\n",
      "Order rejected due to partial fill\n",
      "Short\n",
      "Order rejected due to partial fill\n",
      "LongShort\n",
      "Order rejected due to partial fill\n"
     ]
    }
   ],
   "source": [
    "test_per_signal_type(size=1000, raise_by_reject=True)\n",
    "test_per_signal_type(size=1000, allow_partial=False, raise_by_reject=True)\n",
    "test_per_signal_type(size=1000, allow_partial=False, long_raise_by_reject=True, short_raise_by_reject=False)"
   ]
  },
  {
   "cell_type": "code",
   "execution_count": 10,
   "metadata": {},
   "outputs": [
    {
     "name": "stdout",
     "output_type": "stream",
     "text": [
      "   col  idx   size  price  fees  side\n",
      "0    0    0  100.0    1.0   0.0     0\n",
      "1    0    3  200.0    4.0   0.0     1\n",
      "2    1    0  100.0    1.0   0.0     0\n",
      "3    1    3  100.0    4.0   0.0     1\n",
      "4    1    4   80.0    5.0   0.0     1\n",
      "   col  idx   size  price  fees  side\n",
      "0    0    0   20.0    5.0   0.0     1\n",
      "1    0    3  100.0    2.0   0.0     0\n",
      "2    1    0   20.0    5.0   0.0     1\n",
      "3    1    3   20.0    2.0   0.0     0\n",
      "4    1    4  160.0    1.0   0.0     0\n"
     ]
    }
   ],
   "source": [
    "portfolio = vbt.Portfolio.from_signals(\n",
    "    price, entries, exits, signal_type=SignalType.LongShort,\n",
    "    close_first=[[False, True]]\n",
    ")\n",
    "print(portfolio.orders().records)\n",
    "\n",
    "portfolio = vbt.Portfolio.from_signals(\n",
    "    pd.Series(price.values[::-1], index=price.index),\n",
    "    pd.Series(entries.values[::-1], index=price.index),\n",
    "    pd.Series(exits.values[::-1], index=price.index), \n",
    "    signal_type=SignalType.LongShort,\n",
    "    close_first=[[False, True]]\n",
    ")\n",
    "print(portfolio.orders().records)"
   ]
  },
  {
   "cell_type": "code",
   "execution_count": 21,
   "metadata": {},
   "outputs": [
    {
     "name": "stdout",
     "output_type": "stream",
     "text": [
      "Long\n",
      "   col  idx  size  price  fees  side\n",
      "0    0    0   1.0    1.0   0.0     0\n",
      "1    0    3   1.0    4.0   0.0     1\n",
      "2    1    0   1.0    1.0   0.0     0\n",
      "3    1    1   1.0    2.0   0.0     0\n",
      "4    1    3   1.0    4.0   0.0     1\n",
      "5    1    4   1.0    5.0   0.0     1\n",
      "Short\n",
      "   col  idx  size  price  fees  side\n",
      "0    0    0   1.0    1.0   0.0     1\n",
      "1    0    3   1.0    4.0   0.0     0\n",
      "2    1    0   1.0    1.0   0.0     1\n",
      "3    1    1   1.0    2.0   0.0     1\n",
      "4    1    3   1.0    4.0   0.0     0\n",
      "5    1    4   1.0    5.0   0.0     0\n",
      "LongShort\n",
      "   col  idx  size  price  fees  side\n",
      "0    0    0   1.0    1.0   0.0     0\n",
      "1    0    3   2.0    4.0   0.0     1\n",
      "2    1    0   1.0    1.0   0.0     0\n",
      "3    1    1   1.0    2.0   0.0     0\n",
      "4    1    3   1.0    4.0   0.0     1\n",
      "5    1    4   1.0    5.0   0.0     1\n",
      "Long\n",
      "   col  idx  size  price  fees  side\n",
      "0    0    0   1.0    1.0   0.0     0\n",
      "1    0    1   1.0    2.0   0.0     0\n",
      "2    0    3   2.0    4.0   0.0     1\n",
      "Short\n",
      "   col  idx  size  price  fees  side\n",
      "0    0    0   1.0    1.0   0.0     1\n",
      "1    0    3   1.0    4.0   0.0     0\n",
      "LongShort\n",
      "   col  idx  size  price  fees  side\n",
      "0    0    0   1.0    1.0   0.0     0\n",
      "1    0    1   1.0    2.0   0.0     0\n",
      "2    0    3   3.0    4.0   0.0     1\n"
     ]
    }
   ],
   "source": [
    "test_per_signal_type(size=1., accumulate=[[False, True]])\n",
    "test_per_signal_type(size=1, long_accumulate=True, short_accumulate=False)"
   ]
  },
  {
   "cell_type": "code",
   "execution_count": 11,
   "metadata": {},
   "outputs": [
    {
     "name": "stdout",
     "output_type": "stream",
     "text": [
      "Long\n",
      "   col  idx  size  price  fees  side\n",
      "0    0    1   1.0    2.0   0.0     0\n",
      "1    1    0   1.0    1.0   0.0     0\n",
      "2    2    1   1.0    2.0   0.0     0\n",
      "3    2    2   1.0    3.0   0.0     1\n",
      "4    3    1   1.0    2.0   0.0     0\n",
      "5    3    2   1.0    3.0   0.0     1\n",
      "Short\n",
      "   col  idx  size  price  fees  side\n",
      "0    0    1   1.0    2.0   0.0     1\n",
      "1    1    0   1.0    1.0   0.0     1\n",
      "2    2    1   1.0    2.0   0.0     1\n",
      "3    2    2   1.0    3.0   0.0     0\n",
      "4    3    1   1.0    2.0   0.0     1\n",
      "5    3    2   1.0    3.0   0.0     0\n",
      "LongShort\n",
      "   col  idx  size  price  fees  side\n",
      "0    0    1   1.0    2.0   0.0     0\n",
      "1    1    0   1.0    1.0   0.0     0\n",
      "2    2    0   1.0    1.0   0.0     1\n",
      "3    2    1   2.0    2.0   0.0     0\n",
      "4    2    2   2.0    3.0   0.0     1\n",
      "5    3    1   1.0    2.0   0.0     0\n",
      "6    3    2   2.0    3.0   0.0     1\n",
      "7    4    1   1.0    2.0   0.0     1\n",
      "8    4    2   2.0    3.0   0.0     0\n"
     ]
    }
   ],
   "source": [
    "test_per_signal_type(price=price.iloc[:3], entries=pd.DataFrame([\n",
    "    [True, True, True, True, True],\n",
    "    [True, True, True, True, False],\n",
    "    [True, True, True, True, True]\n",
    "]), exits=pd.DataFrame([\n",
    "    [True, True, True, True, True],\n",
    "    [False, False, False, False, True],\n",
    "    [True, True, True, True, True]\n",
    "]), size=1., conflict_mode=[[\n",
    "    ConflictMode.Ignore, \n",
    "    ConflictMode.Entry, \n",
    "    ConflictMode.Exit, \n",
    "    ConflictMode.Opposite,\n",
    "    ConflictMode.Opposite\n",
    "]])"
   ]
  },
  {
   "cell_type": "code",
   "execution_count": 11,
   "metadata": {},
   "outputs": [
    {
     "name": "stdout",
     "output_type": "stream",
     "text": [
      "Long\n",
      "Empty DataFrame\n",
      "Columns: [col, idx, size, price, fees, side]\n",
      "Index: []\n",
      "Short\n",
      "Empty DataFrame\n",
      "Columns: [col, idx, size, price, fees, side]\n",
      "Index: []\n",
      "LongShort\n",
      "Empty DataFrame\n",
      "Columns: [col, idx, size, price, fees, side]\n",
      "Index: []\n",
      "Long\n",
      "Attempt to go in long direction indefinitely. Set max_size or finite init_cash.\n",
      "Short\n",
      "value_now must be finite\n",
      "LongShort\n",
      "Attempt to go in long direction indefinitely. Set max_size or finite init_cash.\n"
     ]
    }
   ],
   "source": [
    "test_per_signal_type(init_cash=0.)\n",
    "test_per_signal_type(init_cash=np.inf)"
   ]
  },
  {
   "cell_type": "code",
   "execution_count": 12,
   "metadata": {},
   "outputs": [
    {
     "name": "stdout",
     "output_type": "stream",
     "text": [
      "   col  idx   size  price  fees  side\n",
      "0    0    0  100.0    1.0   0.0     0\n",
      "1    0    3  100.0    4.0   0.0     1\n",
      "2    1    0  100.0    1.0   0.0     0\n",
      "3    1    3  100.0    4.0   0.0     1\n",
      "4    2    0  100.0    1.0   0.0     0\n",
      "5    2    3  100.0    4.0   0.0     1\n"
     ]
    }
   ],
   "source": [
    "portfolio = vbt.Portfolio.from_signals(\n",
    "    price_wide, entries, exits, \n",
    "    group_by=np.array([0, 0, 1]))\n",
    "\n",
    "print(portfolio.orders().records)"
   ]
  },
  {
   "cell_type": "code",
   "execution_count": 13,
   "metadata": {},
   "outputs": [
    {
     "name": "stdout",
     "output_type": "stream",
     "text": [
      "   col  idx   size  price  fees  side\n",
      "0    0    0  100.0    1.0   0.0     0\n",
      "1    0    3  100.0    4.0   0.0     1\n",
      "2    2    0  100.0    1.0   0.0     0\n",
      "3    2    3  100.0    4.0   0.0     1\n",
      "            a  b  c\n",
      "2020-01-01  0  1  0\n",
      "2020-01-02  0  1  0\n",
      "2020-01-03  0  1  0\n",
      "2020-01-04  0  1  0\n",
      "2020-01-05  0  1  0\n"
     ]
    }
   ],
   "source": [
    "portfolio = vbt.Portfolio.from_signals(\n",
    "    price_wide, entries, exits, \n",
    "    group_by=np.array([0, 0, 1]), cash_sharing=True)\n",
    "\n",
    "print(portfolio.orders().records)\n",
    "print(portfolio.call_seq)"
   ]
  },
  {
   "cell_type": "code",
   "execution_count": 15,
   "metadata": {},
   "outputs": [
    {
     "name": "stdout",
     "output_type": "stream",
     "text": [
      "   col  idx   size  price  fees  side\n",
      "0    1    0  100.0    1.0   0.0     0\n",
      "1    1    3  100.0    4.0   0.0     1\n",
      "2    2    0  100.0    1.0   0.0     0\n",
      "3    2    3  100.0    4.0   0.0     1\n",
      "            a  b  c\n",
      "2020-01-01  1  0  0\n",
      "2020-01-02  1  0  0\n",
      "2020-01-03  1  0  0\n",
      "2020-01-04  1  0  0\n",
      "2020-01-05  1  0  0\n"
     ]
    }
   ],
   "source": [
    "portfolio = vbt.Portfolio.from_signals(\n",
    "    price_wide, entries, exits, \n",
    "    group_by=np.array([0, 0, 1]), cash_sharing=True, call_seq=CallSeqType.Reversed)\n",
    "\n",
    "print(portfolio.orders().records)\n",
    "print(portfolio.call_seq)"
   ]
  },
  {
   "cell_type": "code",
   "execution_count": 16,
   "metadata": {},
   "outputs": [
    {
     "name": "stdout",
     "output_type": "stream",
     "text": [
      "   col  idx   size  price  fees  side\n",
      "0    0    0  100.0    1.0   0.0     0\n",
      "1    0    3  100.0    4.0   0.0     1\n",
      "2    2    0  100.0    1.0   0.0     0\n",
      "3    2    3  100.0    4.0   0.0     1\n",
      "            a  b  c\n",
      "2020-01-01  0  1  0\n",
      "2020-01-02  1  0  0\n",
      "2020-01-03  0  1  0\n",
      "2020-01-04  1  0  0\n",
      "2020-01-05  0  1  0\n",
      "   col  idx   size  price  fees  side\n",
      "0    1    0  100.0    1.0   0.0     0\n",
      "1    1    3  100.0    4.0   0.0     1\n",
      "2    2    0  100.0    1.0   0.0     0\n",
      "3    2    3  100.0    4.0   0.0     1\n",
      "            a  b  c\n",
      "2020-01-01  1  0  0\n",
      "2020-01-02  0  1  0\n",
      "2020-01-03  1  0  0\n",
      "2020-01-04  1  0  0\n",
      "2020-01-05  1  0  0\n"
     ]
    }
   ],
   "source": [
    "portfolio = vbt.Portfolio.from_signals(\n",
    "    price_wide, entries, exits, \n",
    "    group_by=np.array([0, 0, 1]), cash_sharing=True, call_seq=CallSeqType.Random)\n",
    "\n",
    "print(portfolio.orders().records)\n",
    "print(portfolio.call_seq)\n",
    "\n",
    "portfolio = vbt.Portfolio.from_signals(\n",
    "    price_wide, entries, exits, \n",
    "    group_by=np.array([0, 0, 1]), cash_sharing=True, call_seq=CallSeqType.Random, seed=42)\n",
    "\n",
    "print(portfolio.orders().records)\n",
    "print(portfolio.call_seq)"
   ]
  },
  {
   "cell_type": "code",
   "execution_count": 14,
   "metadata": {},
   "outputs": [
    {
     "name": "stdout",
     "output_type": "stream",
     "text": [
      "   col  idx   size  price  fees  side\n",
      "0    0    2  100.0    3.0   0.0     0\n",
      "1    0    3  100.0    4.0   0.0     1\n",
      "2    1    1  100.0    2.0   0.0     0\n",
      "3    1    2  100.0    3.0   0.0     1\n",
      "4    1    4  100.0    5.0   0.0     0\n",
      "5    2    0  100.0    1.0   0.0     0\n",
      "6    2    1  100.0    2.0   0.0     1\n",
      "7    2    3  100.0    4.0   0.0     0\n",
      "8    2    4  100.0    5.0   0.0     1\n",
      "            a  b  c\n",
      "2020-01-01  0  1  2\n",
      "2020-01-02  2  0  1\n",
      "2020-01-03  1  2  0\n",
      "2020-01-04  0  1  2\n",
      "2020-01-05  2  0  1\n",
      "                a      b      c\n",
      "2020-01-01    0.0    0.0  100.0\n",
      "2020-01-02    0.0  100.0    0.0\n",
      "2020-01-03  100.0    0.0    0.0\n",
      "2020-01-04    0.0    0.0  100.0\n",
      "2020-01-05    0.0  100.0    0.0\n",
      "   col  idx   size  price  fees  side\n",
      "0    2    0  100.0    1.0   0.0     1\n",
      "1    2    1  100.0    2.0   0.0     0\n",
      "            a  b  c\n",
      "2020-01-01  2  0  1\n",
      "2020-01-02  1  0  2\n",
      "2020-01-03  0  1  2\n",
      "2020-01-04  2  0  1\n",
      "2020-01-05  1  0  2\n",
      "              a    b      c\n",
      "2020-01-01  0.0  0.0 -100.0\n",
      "2020-01-02  0.0  0.0    0.0\n",
      "2020-01-03  0.0  0.0    0.0\n",
      "2020-01-04  0.0  0.0    0.0\n",
      "2020-01-05  0.0  0.0    0.0\n",
      "   col  idx   size  price  fees  side\n",
      "0    0    2  300.0    3.0   0.0     0\n",
      "1    0    3  400.0    4.0   0.0     1\n",
      "2    1    1  200.0    2.0   0.0     0\n",
      "3    1    2  300.0    3.0   0.0     1\n",
      "4    1    4  400.0    5.0   0.0     0\n",
      "5    2    0  100.0    1.0   0.0     0\n",
      "6    2    1  200.0    2.0   0.0     1\n",
      "7    2    3  400.0    4.0   0.0     0\n",
      "8    2    4  400.0    5.0   0.0     1\n",
      "            a  b  c\n",
      "2020-01-01  0  1  2\n",
      "2020-01-02  2  0  1\n",
      "2020-01-03  1  2  0\n",
      "2020-01-04  0  1  2\n",
      "2020-01-05  2  0  1\n",
      "                a      b      c\n",
      "2020-01-01    0.0    0.0  100.0\n",
      "2020-01-02    0.0  200.0 -100.0\n",
      "2020-01-03  300.0 -100.0 -100.0\n",
      "2020-01-04 -100.0 -100.0  300.0\n",
      "2020-01-05 -100.0  300.0 -100.0\n"
     ]
    }
   ],
   "source": [
    "for signal_type in ('long', 'short', 'longshort'):\n",
    "    portfolio = vbt.Portfolio.from_signals(price_wide, pd.DataFrame([\n",
    "        [False, False, True],\n",
    "        [False, True, False],\n",
    "        [True, False, False],\n",
    "        [False, False, True],\n",
    "        [False, True, False],\n",
    "    ]), pd.DataFrame([\n",
    "        [False, False, False],\n",
    "        [False, False, True],\n",
    "        [False, True, False],\n",
    "        [True, False, False],\n",
    "        [False, False, True],\n",
    "    ]), group_by=np.array([0, 0, 0]), \n",
    "        cash_sharing=True, call_seq=CallSeqType.Auto, signal_type=signal_type)\n",
    "\n",
    "    print(portfolio.orders().records)\n",
    "    print(portfolio.call_seq)\n",
    "    print(portfolio.shares())"
   ]
  },
  {
   "cell_type": "markdown",
   "metadata": {},
   "source": [
    "## from_orders"
   ]
  },
  {
   "cell_type": "code",
   "execution_count": 3,
   "metadata": {},
   "outputs": [],
   "source": [
    "order_size = pd.Series([np.inf, -np.inf, np.nan, np.inf, -np.inf], index=price.index)\n",
    "order_size_wide = order_size.vbt.tile(3, keys=['a', 'b', 'c'])\n",
    "\n",
    "big_order_size = pd.DataFrame.vbt.empty((1000,), 1, dtype=np.float_)\n",
    "big_order_size.iloc[1::2] = -1\n",
    "big_order_size_wide = big_order_size.vbt.tile(1000)"
   ]
  },
  {
   "cell_type": "code",
   "execution_count": 8,
   "metadata": {},
   "outputs": [
    {
     "name": "stdout",
     "output_type": "stream",
     "text": [
      "1.58 ms ± 174 µs per loop (mean ± std. dev. of 7 runs, 1 loop each)\n"
     ]
    }
   ],
   "source": [
    "%timeit vbt.Portfolio.from_orders(big_price, big_order_size, init_cash=np.inf)"
   ]
  },
  {
   "cell_type": "code",
   "execution_count": 9,
   "metadata": {},
   "outputs": [
    {
     "name": "stdout",
     "output_type": "stream",
     "text": [
      "83.2 ms ± 8.25 ms per loop (mean ± std. dev. of 7 runs, 1 loop each)\n"
     ]
    }
   ],
   "source": [
    "%timeit vbt.Portfolio.from_orders(big_price_wide, big_order_size_wide, init_cash=np.inf)"
   ]
  },
  {
   "cell_type": "code",
   "execution_count": 11,
   "metadata": {},
   "outputs": [
    {
     "name": "stdout",
     "output_type": "stream",
     "text": [
      "86.9 ms ± 9.68 ms per loop (mean ± std. dev. of 7 runs, 10 loops each)\n"
     ]
    }
   ],
   "source": [
    "%timeit vbt.Portfolio.from_orders(\\\n",
    "    big_price_wide, big_order_size_wide, init_cash=np.inf, \\\n",
    "    group_by=np.repeat(np.arange(500), 2))"
   ]
  },
  {
   "cell_type": "code",
   "execution_count": 31,
   "metadata": {},
   "outputs": [
    {
     "name": "stdout",
     "output_type": "stream",
     "text": [
      "110 ms ± 21.3 ms per loop (mean ± std. dev. of 7 runs, 10 loops each)\n"
     ]
    }
   ],
   "source": [
    "%timeit vbt.Portfolio.from_orders(\\\n",
    "    big_price_wide, big_order_size_wide, init_cash=np.inf, \\\n",
    "    group_by=np.repeat(np.arange(500), 2), cash_sharing=True)"
   ]
  },
  {
   "cell_type": "code",
   "execution_count": 12,
   "metadata": {},
   "outputs": [
    {
     "name": "stdout",
     "output_type": "stream",
     "text": [
      "115 ms ± 3.86 ms per loop (mean ± std. dev. of 7 runs, 10 loops each)\n"
     ]
    }
   ],
   "source": [
    "%timeit vbt.Portfolio.from_orders(\\\n",
    "    big_price_wide, big_order_size_wide, init_cash=np.inf, \\\n",
    "    group_by=np.repeat(np.arange(500), 2), cash_sharing=True, call_seq=CallSeqType.Auto)"
   ]
  },
  {
   "cell_type": "code",
   "execution_count": 33,
   "metadata": {},
   "outputs": [
    {
     "name": "stdout",
     "output_type": "stream",
     "text": [
      "86.2 ms ± 5.46 ms per loop (mean ± std. dev. of 7 runs, 10 loops each)\n"
     ]
    }
   ],
   "source": [
    "%timeit vbt.Portfolio.from_orders(\\\n",
    "    big_price_wide, big_order_size_wide, init_cash=np.inf, \\\n",
    "    group_by=np.full(1000, 0))"
   ]
  },
  {
   "cell_type": "code",
   "execution_count": 34,
   "metadata": {},
   "outputs": [
    {
     "name": "stdout",
     "output_type": "stream",
     "text": [
      "88.7 ms ± 7.49 ms per loop (mean ± std. dev. of 7 runs, 1 loop each)\n"
     ]
    }
   ],
   "source": [
    "%timeit vbt.Portfolio.from_orders(\\\n",
    "    big_price_wide, big_order_size_wide, init_cash=np.inf, \\\n",
    "    group_by=np.full(1000, 0), cash_sharing=True)"
   ]
  },
  {
   "cell_type": "code",
   "execution_count": 35,
   "metadata": {},
   "outputs": [
    {
     "name": "stdout",
     "output_type": "stream",
     "text": [
      "94 ms ± 3.54 ms per loop (mean ± std. dev. of 7 runs, 10 loops each)\n"
     ]
    }
   ],
   "source": [
    "%timeit vbt.Portfolio.from_orders(\\\n",
    "    big_price_wide, big_order_size_wide, init_cash=np.inf, \\\n",
    "    group_by=np.full(1000, 0), cash_sharing=True, call_seq=CallSeqType.Auto)"
   ]
  },
  {
   "cell_type": "code",
   "execution_count": 13,
   "metadata": {},
   "outputs": [
    {
     "name": "stdout",
     "output_type": "stream",
     "text": [
      "   col  idx   size  price  fees  side\n",
      "0    0    0  100.0    1.0   0.0     0\n",
      "1    0    1  200.0    2.0   0.0     1\n",
      "2    0    3  100.0    4.0   0.0     0\n"
     ]
    }
   ],
   "source": [
    "portfolio = vbt.Portfolio.from_orders(price, order_size)\n",
    "\n",
    "print(portfolio.orders().records)"
   ]
  },
  {
   "cell_type": "code",
   "execution_count": 14,
   "metadata": {},
   "outputs": [
    {
     "name": "stdout",
     "output_type": "stream",
     "text": [
      "   col  idx   size  price  fees  side\n",
      "0    0    0  100.0    1.0   0.0     0\n",
      "1    0    1  200.0    2.0   0.0     1\n",
      "2    0    3  100.0    4.0   0.0     0\n",
      "3    1    0  100.0    1.0   0.0     0\n",
      "4    1    1  200.0    2.0   0.0     1\n",
      "5    1    3  100.0    4.0   0.0     0\n",
      "6    2    0  100.0    1.0   0.0     0\n",
      "7    2    1  200.0    2.0   0.0     1\n",
      "8    2    3  100.0    4.0   0.0     0\n"
     ]
    }
   ],
   "source": [
    "portfolio = vbt.Portfolio.from_orders(price_wide, order_size)\n",
    "\n",
    "print(portfolio.orders().records)"
   ]
  },
  {
   "cell_type": "code",
   "execution_count": 15,
   "metadata": {},
   "outputs": [
    {
     "name": "stdout",
     "output_type": "stream",
     "text": [
      "   col  idx   size  price  fees  side\n",
      "0    0    0  100.0    1.0   0.0     0\n",
      "1    0    1  200.0    2.0   0.0     1\n",
      "2    0    3  100.0    4.0   0.0     0\n",
      "3    1    0  100.0    1.0   0.0     0\n",
      "4    1    1  200.0    2.0   0.0     1\n",
      "5    1    3  100.0    4.0   0.0     0\n",
      "6    2    0  100.0    1.0   0.0     0\n",
      "7    2    1  200.0    2.0   0.0     1\n",
      "8    2    3  100.0    4.0   0.0     0\n"
     ]
    }
   ],
   "source": [
    "portfolio = vbt.Portfolio.from_orders(\n",
    "    price_wide, order_size, \n",
    "    group_by=np.array([0, 0, 1]))\n",
    "\n",
    "print(portfolio.orders().records)"
   ]
  },
  {
   "cell_type": "code",
   "execution_count": 16,
   "metadata": {},
   "outputs": [
    {
     "name": "stdout",
     "output_type": "stream",
     "text": [
      "   col  idx   size  price  fees  side\n",
      "0    0    0  100.0    1.0   0.0     1\n"
     ]
    }
   ],
   "source": [
    "portfolio = vbt.Portfolio.from_orders(price, -np.inf)\n",
    "print(portfolio.orders().records)"
   ]
  },
  {
   "cell_type": "code",
   "execution_count": 17,
   "metadata": {},
   "outputs": [
    {
     "name": "stdout",
     "output_type": "stream",
     "text": [
      "   col  idx   size  price  fees  side\n",
      "0    0    0  100.0    1.0   0.0     0\n",
      "1    2    0  100.0    1.0   0.0     0\n",
      "   col  idx   size  price  fees  side\n",
      "0    0    0  100.0    1.0   0.0     1\n",
      "1    1    0  100.0    1.0   0.0     1\n",
      "2    2    0  100.0    1.0   0.0     1\n",
      "                0      1\n",
      "2020-01-01  300.0  200.0\n",
      "2020-01-02  300.0  200.0\n",
      "2020-01-03  300.0  200.0\n",
      "2020-01-04  300.0  200.0\n",
      "2020-01-05  300.0  200.0\n"
     ]
    }
   ],
   "source": [
    "portfolio = vbt.Portfolio.from_orders(\n",
    "    price_wide, np.inf, \n",
    "    group_by=np.array([0, 0, 1]), cash_sharing=True)\n",
    "\n",
    "print(portfolio.orders().records)\n",
    "\n",
    "portfolio = vbt.Portfolio.from_orders(\n",
    "    price_wide, -np.inf, \n",
    "    group_by=np.array([0, 0, 1]), cash_sharing=True)\n",
    "\n",
    "print(portfolio.orders().records)\n",
    "print(portfolio.cash())"
   ]
  },
  {
   "cell_type": "code",
   "execution_count": 18,
   "metadata": {},
   "outputs": [
    {
     "name": "stdout",
     "output_type": "stream",
     "text": [
      "   col  idx   size  price  fees  side\n",
      "0    0    0  100.0    1.0   0.0     0\n",
      "1    0    1  200.0    2.0   0.0     1\n",
      "2    0    3  150.0    4.0   0.0     0\n",
      "3    1    1  100.0    2.0   0.0     1\n",
      "4    2    0  100.0    1.0   0.0     0\n",
      "5    2    1  200.0    2.0   0.0     1\n",
      "6    2    3  100.0    4.0   0.0     0\n",
      "            a  b  c\n",
      "2020-01-01  0  1  0\n",
      "2020-01-02  0  1  0\n",
      "2020-01-03  0  1  0\n",
      "2020-01-04  0  1  0\n",
      "2020-01-05  0  1  0\n"
     ]
    }
   ],
   "source": [
    "portfolio = vbt.Portfolio.from_orders(\n",
    "    price_wide, order_size, \n",
    "    group_by=np.array([0, 0, 1]), cash_sharing=True)\n",
    "\n",
    "print(portfolio.orders().records)\n",
    "print(portfolio.call_seq)"
   ]
  },
  {
   "cell_type": "code",
   "execution_count": 19,
   "metadata": {},
   "outputs": [
    {
     "name": "stdout",
     "output_type": "stream",
     "text": [
      "   col  idx   size  price  fees  side\n",
      "0    0    1  100.0    2.0   0.0     1\n",
      "1    1    0  100.0    1.0   0.0     0\n",
      "2    1    1  200.0    2.0   0.0     1\n",
      "3    1    3  150.0    4.0   0.0     0\n",
      "4    2    0  100.0    1.0   0.0     0\n",
      "5    2    1  200.0    2.0   0.0     1\n",
      "6    2    3  100.0    4.0   0.0     0\n",
      "            a  b  c\n",
      "2020-01-01  1  0  0\n",
      "2020-01-02  1  0  0\n",
      "2020-01-03  1  0  0\n",
      "2020-01-04  1  0  0\n",
      "2020-01-05  1  0  0\n"
     ]
    }
   ],
   "source": [
    "portfolio = vbt.Portfolio.from_orders(\n",
    "    price_wide, order_size, \n",
    "    group_by=np.array([0, 0, 1]), cash_sharing=True, call_seq=CallSeqType.Reversed)\n",
    "\n",
    "print(portfolio.orders().records)\n",
    "print(portfolio.call_seq)"
   ]
  },
  {
   "cell_type": "code",
   "execution_count": 20,
   "metadata": {},
   "outputs": [
    {
     "name": "stdout",
     "output_type": "stream",
     "text": [
      "   col  idx   size  price  fees  side\n",
      "0    0    0  100.0    1.0   0.0     0\n",
      "1    0    1  200.0    2.0   0.0     1\n",
      "2    0    3  150.0    4.0   0.0     0\n",
      "3    1    1  100.0    2.0   0.0     1\n",
      "4    2    0  100.0    1.0   0.0     0\n",
      "5    2    1  200.0    2.0   0.0     1\n",
      "6    2    3  100.0    4.0   0.0     0\n",
      "            a  b  c\n",
      "2020-01-01  0  1  0\n",
      "2020-01-02  1  0  0\n",
      "2020-01-03  0  1  0\n",
      "2020-01-04  0  1  0\n",
      "2020-01-05  0  1  0\n",
      "   col  idx   size  price  fees  side\n",
      "0    0    1  100.0    2.0   0.0     1\n",
      "1    1    0  100.0    1.0   0.0     0\n",
      "2    1    1  200.0    2.0   0.0     1\n",
      "3    1    3  150.0    4.0   0.0     0\n",
      "4    2    0  100.0    1.0   0.0     0\n",
      "5    2    1  200.0    2.0   0.0     1\n",
      "6    2    3  100.0    4.0   0.0     0\n",
      "            a  b  c\n",
      "2020-01-01  1  0  0\n",
      "2020-01-02  0  1  0\n",
      "2020-01-03  1  0  0\n",
      "2020-01-04  1  0  0\n",
      "2020-01-05  1  0  0\n"
     ]
    }
   ],
   "source": [
    "portfolio = vbt.Portfolio.from_orders(\n",
    "    price_wide, order_size, \n",
    "    group_by=np.array([0, 0, 1]), cash_sharing=True, call_seq=CallSeqType.Random)\n",
    "\n",
    "print(portfolio.orders().records)\n",
    "print(portfolio.call_seq)\n",
    "\n",
    "portfolio = vbt.Portfolio.from_orders(\n",
    "    price_wide, order_size, \n",
    "    group_by=np.array([0, 0, 1]), cash_sharing=True, call_seq=CallSeqType.Random, seed=42)\n",
    "\n",
    "print(portfolio.orders().records)\n",
    "print(portfolio.call_seq)"
   ]
  },
  {
   "cell_type": "code",
   "execution_count": 14,
   "metadata": {},
   "outputs": [],
   "source": [
    "order_size_one = pd.Series([1, -1, np.nan, 1, -1], index=price.index)"
   ]
  },
  {
   "cell_type": "code",
   "execution_count": 22,
   "metadata": {},
   "outputs": [
    {
     "name": "stdout",
     "output_type": "stream",
     "text": [
      "    col  idx  size  price  fees  side\n",
      "0     0    0   1.0    1.0  0.00     0\n",
      "1     0    1   1.0    2.0  0.00     1\n",
      "2     0    3   1.0    4.0  0.00     0\n",
      "3     0    4   1.0    5.0  0.00     1\n",
      "4     1    0   1.0    1.0  0.01     0\n",
      "5     1    1   1.0    2.0  0.02     1\n",
      "6     1    3   1.0    4.0  0.04     0\n",
      "7     1    4   1.0    5.0  0.05     1\n",
      "8     2    0   1.0    1.0  1.00     0\n",
      "9     2    1   1.0    2.0  2.00     1\n",
      "10    2    3   1.0    4.0  4.00     0\n",
      "11    2    4   1.0    5.0  5.00     1\n"
     ]
    }
   ],
   "source": [
    "portfolio = vbt.Portfolio.from_orders(price_wide, order_size_one, fees=[0., 0.01, 1.])\n",
    "\n",
    "print(portfolio.orders().records)"
   ]
  },
  {
   "cell_type": "code",
   "execution_count": 23,
   "metadata": {},
   "outputs": [
    {
     "name": "stdout",
     "output_type": "stream",
     "text": [
      "    col  idx  size  price  fees  side\n",
      "0     0    0   1.0    1.0  0.00     0\n",
      "1     0    1   1.0    2.0  0.00     1\n",
      "2     0    3   1.0    4.0  0.00     0\n",
      "3     0    4   1.0    5.0  0.00     1\n",
      "4     1    0   1.0    1.0  0.01     0\n",
      "5     1    1   1.0    2.0  0.01     1\n",
      "6     1    3   1.0    4.0  0.01     0\n",
      "7     1    4   1.0    5.0  0.01     1\n",
      "8     2    0   1.0    1.0  1.00     0\n",
      "9     2    1   1.0    2.0  1.00     1\n",
      "10    2    3   1.0    4.0  1.00     0\n",
      "11    2    4   1.0    5.0  1.00     1\n"
     ]
    }
   ],
   "source": [
    "portfolio = vbt.Portfolio.from_orders(price_wide, order_size_one, fixed_fees=[0., 0.01, 1.])\n",
    "\n",
    "print(portfolio.orders().records)"
   ]
  },
  {
   "cell_type": "code",
   "execution_count": 24,
   "metadata": {},
   "outputs": [
    {
     "name": "stdout",
     "output_type": "stream",
     "text": [
      "    col  idx  size  price  fees  side\n",
      "0     0    0   1.0   1.00   0.0     0\n",
      "1     0    1   1.0   2.00   0.0     1\n",
      "2     0    3   1.0   4.00   0.0     0\n",
      "3     0    4   1.0   5.00   0.0     1\n",
      "4     1    0   1.0   1.01   0.0     0\n",
      "5     1    1   1.0   1.98   0.0     1\n",
      "6     1    3   1.0   4.04   0.0     0\n",
      "7     1    4   1.0   4.95   0.0     1\n",
      "8     2    0   1.0   2.00   0.0     0\n",
      "9     2    1   1.0   0.00   0.0     1\n",
      "10    2    3   1.0   8.00   0.0     0\n",
      "11    2    4   1.0   0.00   0.0     1\n"
     ]
    }
   ],
   "source": [
    "portfolio = vbt.Portfolio.from_orders(price_wide, order_size_one, slippage=[0., 0.01, 1.])\n",
    "\n",
    "print(portfolio.orders().records)"
   ]
  },
  {
   "cell_type": "code",
   "execution_count": 25,
   "metadata": {},
   "outputs": [
    {
     "name": "stdout",
     "output_type": "stream",
     "text": [
      "   col  idx  size  price  fees  side\n",
      "0    0    0   1.0    1.0   0.0     0\n",
      "1    0    1   1.0    2.0   0.0     1\n",
      "2    0    3   1.0    4.0   0.0     0\n",
      "3    0    4   1.0    5.0   0.0     1\n",
      "4    1    0   1.0    1.0   0.0     0\n",
      "5    1    1   1.0    2.0   0.0     1\n",
      "6    1    3   1.0    4.0   0.0     0\n",
      "7    1    4   1.0    5.0   0.0     1\n"
     ]
    }
   ],
   "source": [
    "portfolio = vbt.Portfolio.from_orders(price_wide, order_size_one, min_size=[0., 1., 2.])\n",
    "\n",
    "print(portfolio.orders().records)"
   ]
  },
  {
   "cell_type": "code",
   "execution_count": 26,
   "metadata": {},
   "outputs": [
    {
     "name": "stdout",
     "output_type": "stream",
     "text": [
      "    col  idx  size  price  fees  side\n",
      "0     0    0   0.5    1.0   0.0     0\n",
      "1     0    1   0.5    2.0   0.0     1\n",
      "2     0    3   0.5    4.0   0.0     0\n",
      "3     0    4   0.5    5.0   0.0     1\n",
      "4     1    0   1.0    1.0   0.0     0\n",
      "5     1    1   1.0    2.0   0.0     1\n",
      "6     1    3   1.0    4.0   0.0     0\n",
      "7     1    4   1.0    5.0   0.0     1\n",
      "8     2    0   1.0    1.0   0.0     0\n",
      "9     2    1   1.0    2.0   0.0     1\n",
      "10    2    3   1.0    4.0   0.0     0\n",
      "11    2    4   1.0    5.0   0.0     1\n"
     ]
    }
   ],
   "source": [
    "portfolio = vbt.Portfolio.from_orders(price_wide, order_size_one, max_size=[0.5, 1., np.inf])\n",
    "\n",
    "print(portfolio.orders().records)"
   ]
  },
  {
   "cell_type": "code",
   "execution_count": 27,
   "metadata": {},
   "outputs": [
    {
     "name": "stdout",
     "output_type": "stream",
     "text": [
      "   col  idx  size  price  fees  side\n",
      "0    0    0   1.0    1.0   0.0     0\n",
      "1    0    1   1.0    2.0   0.0     1\n",
      "2    0    3   1.0    4.0   0.0     0\n",
      "3    0    4   1.0    5.0   0.0     1\n",
      "4    1    1   1.0    2.0   0.0     1\n",
      "5    1    3   1.0    4.0   0.0     0\n",
      "6    1    4   1.0    5.0   0.0     1\n"
     ]
    }
   ],
   "source": [
    "portfolio = vbt.Portfolio.from_orders(price_wide, order_size_one, reject_prob=[0., 0.5, 1.], seed=42)\n",
    "\n",
    "print(portfolio.orders().records)"
   ]
  },
  {
   "cell_type": "code",
   "execution_count": 19,
   "metadata": {},
   "outputs": [
    {
     "name": "stdout",
     "output_type": "stream",
     "text": [
      "   col  idx   size  price  fees  side\n",
      "0    0    0  100.0    1.0   0.0     0\n",
      "   col  idx   size  price  fees  side\n",
      "0    0    0  100.0    1.0   0.0     0\n",
      "1    1    0  100.0    1.0   0.0     0\n"
     ]
    }
   ],
   "source": [
    "portfolio = vbt.Portfolio.from_orders(price, 1000, allow_partial=[[True, False]])\n",
    "print(portfolio.orders().records)\n",
    "\n",
    "portfolio = vbt.Portfolio.from_orders(price, np.inf, allow_partial=[[True, False]])\n",
    "print(portfolio.orders().records)"
   ]
  },
  {
   "cell_type": "code",
   "execution_count": 22,
   "metadata": {},
   "outputs": [
    {
     "name": "stdout",
     "output_type": "stream",
     "text": [
      "Order rejected due to insufficient funds\n",
      "Order rejected due to partial fill\n"
     ]
    }
   ],
   "source": [
    "try:\n",
    "    portfolio = vbt.Portfolio.from_orders(price, 1000, allow_partial=True, raise_by_reject=True)\n",
    "    print(portfolio.orders().records)\n",
    "except Exception as e:\n",
    "    print(e)\n",
    "\n",
    "try:\n",
    "    portfolio = vbt.Portfolio.from_orders(price, 1000, allow_partial=False, raise_by_reject=True)\n",
    "    print(portfolio.orders().records)\n",
    "except Exception as e:\n",
    "    print(e)"
   ]
  },
  {
   "cell_type": "code",
   "execution_count": 28,
   "metadata": {},
   "outputs": [
    {
     "name": "stdout",
     "output_type": "stream",
     "text": [
      "   col  idx  size  price  fees  side\n",
      "0    0    0   1.0    1.0   0.0     0\n",
      "1    0    1   1.0    2.0   0.0     1\n",
      "2    0    3   1.0    4.0   0.0     0\n",
      "3    0    4   1.0    5.0   0.0     1\n"
     ]
    }
   ],
   "source": [
    "portfolio = vbt.Portfolio.from_orders(price, order_size_one, size_type=SizeType.Shares)\n",
    "\n",
    "print(portfolio.orders().records)"
   ]
  },
  {
   "cell_type": "code",
   "execution_count": 27,
   "metadata": {},
   "outputs": [
    {
     "name": "stdout",
     "output_type": "stream",
     "text": [
      "   col  idx  size  price  fees  side\n",
      "0    0    0  75.0    1.0   0.0     0\n"
     ]
    }
   ],
   "source": [
    "portfolio = vbt.Portfolio.from_orders(price, 75., size_type=SizeType.TargetShares)\n",
    "\n",
    "print(portfolio.orders().records)"
   ]
  },
  {
   "cell_type": "code",
   "execution_count": 28,
   "metadata": {},
   "outputs": [
    {
     "name": "stdout",
     "output_type": "stream",
     "text": [
      "   col  idx  size  price  fees  side\n",
      "0    0    0  75.0    1.0   0.0     0\n",
      "1    1    0  25.0    1.0   0.0     0\n",
      "2    2    0  75.0    1.0   0.0     0\n"
     ]
    }
   ],
   "source": [
    "portfolio = vbt.Portfolio.from_orders(\n",
    "    price_wide, 75., size_type=SizeType.TargetShares, \n",
    "    group_by=np.array([0, 0, 1]), cash_sharing=True)\n",
    "\n",
    "print(portfolio.orders().records)"
   ]
  },
  {
   "cell_type": "code",
   "execution_count": 32,
   "metadata": {},
   "outputs": [
    {
     "name": "stdout",
     "output_type": "stream",
     "text": [
      "   col  idx       size  price  fees  side\n",
      "0    0    0  50.000000    1.0   0.0     0\n",
      "1    0    1  25.000000    2.0   0.0     1\n",
      "2    0    2   8.333333    3.0   0.0     1\n",
      "3    0    3   4.166667    4.0   0.0     1\n",
      "4    0    4   2.500000    5.0   0.0     1\n"
     ]
    }
   ],
   "source": [
    "portfolio = vbt.Portfolio.from_orders(\n",
    "    price, 50., size_type=SizeType.TargetValue)\n",
    "\n",
    "print(portfolio.orders().records)"
   ]
  },
  {
   "cell_type": "code",
   "execution_count": 4,
   "metadata": {},
   "outputs": [
    {
     "name": "stdout",
     "output_type": "stream",
     "text": [
      "    col  idx       size  price  fees  side\n",
      "0     0    0  50.000000    1.0   0.0     0\n",
      "1     0    1  25.000000    2.0   0.0     1\n",
      "2     0    2   8.333333    3.0   0.0     1\n",
      "3     0    3   4.166667    4.0   0.0     1\n",
      "4     0    4   2.500000    5.0   0.0     1\n",
      "5     1    0  50.000000    1.0   0.0     0\n",
      "6     1    1  25.000000    2.0   0.0     1\n",
      "7     1    2   8.333333    3.0   0.0     1\n",
      "8     1    3   4.166667    4.0   0.0     1\n",
      "9     1    4   2.500000    5.0   0.0     1\n",
      "10    2    0  50.000000    1.0   0.0     0\n",
      "11    2    1  25.000000    2.0   0.0     1\n",
      "12    2    2   8.333333    3.0   0.0     1\n",
      "13    2    3   4.166667    4.0   0.0     1\n",
      "14    2    4   2.500000    5.0   0.0     1\n"
     ]
    }
   ],
   "source": [
    "portfolio = vbt.Portfolio.from_orders(\n",
    "    price_wide, 50., size_type=SizeType.TargetValue,\n",
    "    group_by=np.array([0, 0, 1]), cash_sharing=True)\n",
    "\n",
    "print(portfolio.orders().records)"
   ]
  },
  {
   "cell_type": "code",
   "execution_count": 6,
   "metadata": {},
   "outputs": [
    {
     "name": "stdout",
     "output_type": "stream",
     "text": [
      "   col  idx       size  price  fees  side\n",
      "0    0    0  50.000000    1.0   0.0     0\n",
      "1    0    1  12.500000    2.0   0.0     1\n",
      "2    0    2   6.250000    3.0   0.0     1\n",
      "3    0    3   3.906250    4.0   0.0     1\n",
      "4    0    4   2.734375    5.0   0.0     1\n"
     ]
    }
   ],
   "source": [
    "portfolio = vbt.Portfolio.from_orders(\n",
    "    price, 0.5, size_type=SizeType.TargetPercent)\n",
    "\n",
    "print(portfolio.orders().records)"
   ]
  },
  {
   "cell_type": "code",
   "execution_count": 8,
   "metadata": {},
   "outputs": [
    {
     "name": "stdout",
     "output_type": "stream",
     "text": [
      "   col  idx       size  price  fees  side\n",
      "0    0    0  50.000000    1.0   0.0     0\n",
      "1    1    0  50.000000    1.0   0.0     0\n",
      "2    2    0  50.000000    1.0   0.0     0\n",
      "3    2    1  12.500000    2.0   0.0     1\n",
      "4    2    2   6.250000    3.0   0.0     1\n",
      "5    2    3   3.906250    4.0   0.0     1\n",
      "6    2    4   2.734375    5.0   0.0     1\n"
     ]
    }
   ],
   "source": [
    "portfolio = vbt.Portfolio.from_orders(\n",
    "    price_wide, 0.5, size_type=SizeType.TargetPercent, \n",
    "    group_by=np.array([0, 0, 1]), cash_sharing=True)\n",
    "\n",
    "print(portfolio.orders().records)"
   ]
  },
  {
   "cell_type": "code",
   "execution_count": 9,
   "metadata": {},
   "outputs": [
    {
     "name": "stdout",
     "output_type": "stream",
     "text": [
      "               a     b     c\n",
      "2020-01-01   0.0  30.0  70.0\n",
      "2020-01-02  70.0   0.0  30.0\n",
      "2020-01-03  30.0  70.0   0.0\n",
      "2020-01-04   0.0  30.0  70.0\n",
      "2020-01-05  70.0  30.0   0.0\n"
     ]
    }
   ],
   "source": [
    "price_one = pd.Series([1., 1., 1., 1., 1.], index=price.index)\n",
    "target_hold_value = pd.DataFrame({\n",
    "    'a': [0., 70., 30., 0., 70.],\n",
    "    'b': [30., 0., 70., 30., 30.],\n",
    "    'c': [70., 30., 0., 70., 0.]\n",
    "}, index=price.index)\n",
    "print(target_hold_value)"
   ]
  },
  {
   "cell_type": "code",
   "execution_count": 10,
   "metadata": {},
   "outputs": [
    {
     "name": "stdout",
     "output_type": "stream",
     "text": [
      "   col  idx  size  price  fees  side\n",
      "0    0    4  40.0    1.0   0.0     0\n",
      "1    1    0  30.0    1.0   0.0     0\n",
      "2    1    1  30.0    1.0   0.0     1\n",
      "3    1    2  70.0    1.0   0.0     0\n",
      "4    1    3  40.0    1.0   0.0     1\n",
      "5    2    0  70.0    1.0   0.0     0\n",
      "6    2    1  40.0    1.0   0.0     1\n",
      "7    2    2  30.0    1.0   0.0     1\n",
      "8    2    3  30.0    1.0   0.0     0\n",
      "9    2    4  30.0    1.0   0.0     1\n",
      "               a     b     c\n",
      "2020-01-01   0.0  30.0  70.0\n",
      "2020-01-02   0.0 -30.0 -40.0\n",
      "2020-01-03   0.0  70.0 -30.0\n",
      "2020-01-04   0.0 -40.0  30.0\n",
      "2020-01-05  40.0   0.0 -30.0\n",
      "               a     b     c\n",
      "2020-01-01   0.0  30.0  70.0\n",
      "2020-01-02   0.0   0.0  30.0\n",
      "2020-01-03   0.0  70.0   0.0\n",
      "2020-01-04   0.0  30.0  30.0\n",
      "2020-01-05  40.0  30.0   0.0\n",
      "            a  b  c\n",
      "2020-01-01  1  2  0\n",
      "2020-01-02  0  2  1\n",
      "2020-01-03  1  0  2\n",
      "2020-01-04  0  2  1\n",
      "2020-01-05  1  0  2\n"
     ]
    }
   ],
   "source": [
    "portfolio = vbt.Portfolio.from_orders(\n",
    "    price_one, target_hold_value, size_type=SizeType.TargetValue,\n",
    "    group_by=np.array([0, 0, 0]), cash_sharing=True,\n",
    "    call_seq=CallSeqType.Random, seed=43)\n",
    "\n",
    "print(portfolio.orders().records)\n",
    "print(portfolio.share_flow())\n",
    "print(portfolio.holding_value(group_by=False))  # order fixed -> cannot rebalance properly\n",
    "print(portfolio.call_seq)"
   ]
  },
  {
   "cell_type": "code",
   "execution_count": 11,
   "metadata": {},
   "outputs": [
    {
     "name": "stdout",
     "output_type": "stream",
     "text": [
      "    col  idx  size  price  fees  side\n",
      "0     0    1  70.0    1.0   0.0     0\n",
      "1     0    2  40.0    1.0   0.0     1\n",
      "2     0    3  30.0    1.0   0.0     1\n",
      "3     0    4  70.0    1.0   0.0     0\n",
      "4     1    0  30.0    1.0   0.0     0\n",
      "5     1    1  30.0    1.0   0.0     1\n",
      "6     1    2  70.0    1.0   0.0     0\n",
      "7     1    3  40.0    1.0   0.0     1\n",
      "8     2    0  70.0    1.0   0.0     0\n",
      "9     2    1  40.0    1.0   0.0     1\n",
      "10    2    2  30.0    1.0   0.0     1\n",
      "11    2    3  70.0    1.0   0.0     0\n",
      "12    2    4  70.0    1.0   0.0     1\n",
      "               a     b     c\n",
      "2020-01-01   0.0  30.0  70.0\n",
      "2020-01-02  70.0 -30.0 -40.0\n",
      "2020-01-03 -40.0  70.0 -30.0\n",
      "2020-01-04 -30.0 -40.0  70.0\n",
      "2020-01-05  70.0   0.0 -70.0\n",
      "               a     b     c\n",
      "2020-01-01   0.0  30.0  70.0\n",
      "2020-01-02  70.0   0.0  30.0\n",
      "2020-01-03  30.0  70.0   0.0\n",
      "2020-01-04   0.0  30.0  70.0\n",
      "2020-01-05  70.0  30.0   0.0\n",
      "            a  b  c\n",
      "2020-01-01  0  1  2\n",
      "2020-01-02  2  1  0\n",
      "2020-01-03  0  2  1\n",
      "2020-01-04  1  0  2\n",
      "2020-01-05  2  1  0\n"
     ]
    }
   ],
   "source": [
    "portfolio = vbt.Portfolio.from_orders(\n",
    "    price_one, target_hold_value, size_type=SizeType.TargetValue, \n",
    "    group_by=np.array([0, 0, 0]), cash_sharing=True,\n",
    "    call_seq=CallSeqType.Auto)\n",
    "\n",
    "print(portfolio.orders().records)\n",
    "print(portfolio.share_flow())\n",
    "print(portfolio.holding_value(group_by=False))  # order dynamic -> can rebalance\n",
    "print(portfolio.call_seq)"
   ]
  },
  {
   "cell_type": "code",
   "execution_count": 12,
   "metadata": {},
   "outputs": [
    {
     "name": "stdout",
     "output_type": "stream",
     "text": [
      "    col  idx  size  price  fees  side\n",
      "0     0    1  70.0    1.0   0.0     0\n",
      "1     0    2  40.0    1.0   0.0     1\n",
      "2     0    3  30.0    1.0   0.0     1\n",
      "3     0    4  70.0    1.0   0.0     0\n",
      "4     1    0  30.0    1.0   0.0     0\n",
      "5     1    1  30.0    1.0   0.0     1\n",
      "6     1    2  70.0    1.0   0.0     0\n",
      "7     1    3  40.0    1.0   0.0     1\n",
      "8     2    0  70.0    1.0   0.0     0\n",
      "9     2    1  40.0    1.0   0.0     1\n",
      "10    2    2  30.0    1.0   0.0     1\n",
      "11    2    3  70.0    1.0   0.0     0\n",
      "12    2    4  70.0    1.0   0.0     1\n",
      "               a     b     c\n",
      "2020-01-01   0.0  30.0  70.0\n",
      "2020-01-02  70.0 -30.0 -40.0\n",
      "2020-01-03 -40.0  70.0 -30.0\n",
      "2020-01-04 -30.0 -40.0  70.0\n",
      "2020-01-05  70.0   0.0 -70.0\n",
      "               a     b     c\n",
      "2020-01-01   0.0  30.0  70.0\n",
      "2020-01-02  70.0   0.0  30.0\n",
      "2020-01-03  30.0  70.0   0.0\n",
      "2020-01-04   0.0  30.0  70.0\n",
      "2020-01-05  70.0  30.0   0.0\n",
      "            a  b  c\n",
      "2020-01-01  0  1  2\n",
      "2020-01-02  2  1  0\n",
      "2020-01-03  0  2  1\n",
      "2020-01-04  1  0  2\n",
      "2020-01-05  2  1  0\n"
     ]
    }
   ],
   "source": [
    "portfolio = vbt.Portfolio.from_orders(\n",
    "    price_one, target_hold_value / 100., size_type=SizeType.TargetPercent, \n",
    "    group_by=np.array([0, 0, 0]), cash_sharing=True,\n",
    "    call_seq=CallSeqType.Auto)\n",
    "\n",
    "print(portfolio.orders().records)\n",
    "print(portfolio.share_flow())\n",
    "print(portfolio.holding_value(group_by=False))\n",
    "print(portfolio.call_seq)"
   ]
  },
  {
   "cell_type": "markdown",
   "metadata": {},
   "source": [
    "## from_order_func"
   ]
  },
  {
   "cell_type": "code",
   "execution_count": 63,
   "metadata": {},
   "outputs": [],
   "source": [
    "@njit\n",
    "def order_func_nb(oc, size):\n",
    "    return Order(size if oc.i % 2 == 0 else -size, SizeType.Shares, oc.close[oc.i, oc.col], 0., 0., 0., 0.)"
   ]
  },
  {
   "cell_type": "code",
   "execution_count": 64,
   "metadata": {},
   "outputs": [
    {
     "name": "stdout",
     "output_type": "stream",
     "text": [
      "1.13 ms ± 455 µs per loop (mean ± std. dev. of 7 runs, 1 loop each)\n",
      "943 µs ± 163 µs per loop (mean ± std. dev. of 7 runs, 1 loop each)\n"
     ]
    }
   ],
   "source": [
    "%timeit vbt.Portfolio.from_order_func(\\\n",
    "    big_price, order_func_nb, 1., init_cash=np.inf)\n",
    "%timeit vbt.Portfolio.from_order_func(\\\n",
    "    big_price, order_func_nb, 1., init_cash=np.inf, row_wise=True)"
   ]
  },
  {
   "cell_type": "code",
   "execution_count": 65,
   "metadata": {},
   "outputs": [
    {
     "name": "stdout",
     "output_type": "stream",
     "text": [
      "95.8 ms ± 1.65 ms per loop (mean ± std. dev. of 7 runs, 1 loop each)\n",
      "95.9 ms ± 7.95 ms per loop (mean ± std. dev. of 7 runs, 1 loop each)\n"
     ]
    }
   ],
   "source": [
    "%timeit vbt.Portfolio.from_order_func(\\\n",
    "    big_price_wide, order_func_nb, 1., init_cash=np.inf)\n",
    "%timeit vbt.Portfolio.from_order_func(\\\n",
    "    big_price_wide, order_func_nb, 1., init_cash=np.inf, row_wise=True)"
   ]
  },
  {
   "cell_type": "code",
   "execution_count": 66,
   "metadata": {},
   "outputs": [
    {
     "name": "stdout",
     "output_type": "stream",
     "text": [
      "82.7 ms ± 5.53 ms per loop (mean ± std. dev. of 7 runs, 10 loops each)\n",
      "91.5 ms ± 4.01 ms per loop (mean ± std. dev. of 7 runs, 10 loops each)\n"
     ]
    }
   ],
   "source": [
    "%timeit vbt.Portfolio.from_order_func(\\\n",
    "    big_price_wide, order_func_nb, 1., \\\n",
    "    group_by=np.repeat(np.arange(500), 2), init_cash=np.inf)\n",
    "%timeit vbt.Portfolio.from_order_func(\\\n",
    "    big_price_wide, order_func_nb, 1., \\\n",
    "    group_by=np.repeat(np.arange(500), 2), init_cash=np.inf, row_wise=True)"
   ]
  },
  {
   "cell_type": "code",
   "execution_count": 67,
   "metadata": {},
   "outputs": [
    {
     "name": "stdout",
     "output_type": "stream",
     "text": [
      "80.7 ms ± 4.05 ms per loop (mean ± std. dev. of 7 runs, 10 loops each)\n",
      "91.3 ms ± 3.83 ms per loop (mean ± std. dev. of 7 runs, 10 loops each)\n"
     ]
    }
   ],
   "source": [
    "%timeit vbt.Portfolio.from_order_func(\\\n",
    "    big_price_wide, order_func_nb, 1., \\\n",
    "    group_by=np.repeat(np.arange(500), 2), cash_sharing=True, init_cash=np.inf)\n",
    "%timeit vbt.Portfolio.from_order_func(\\\n",
    "    big_price_wide, order_func_nb, 1., \\\n",
    "    group_by=np.repeat(np.arange(500), 2), cash_sharing=True, init_cash=np.inf, row_wise=True)"
   ]
  },
  {
   "cell_type": "code",
   "execution_count": 68,
   "metadata": {},
   "outputs": [
    {
     "name": "stdout",
     "output_type": "stream",
     "text": [
      "78.4 ms ± 4.36 ms per loop (mean ± std. dev. of 7 runs, 10 loops each)\n",
      "81.3 ms ± 4.49 ms per loop (mean ± std. dev. of 7 runs, 10 loops each)\n"
     ]
    }
   ],
   "source": [
    "%timeit vbt.Portfolio.from_order_func(\\\n",
    "    big_price_wide, order_func_nb, 1., init_cash=np.inf, \\\n",
    "    group_by=np.full(1000, 0))\n",
    "%timeit vbt.Portfolio.from_order_func(\\\n",
    "    big_price_wide, order_func_nb, 1., init_cash=np.inf, \\\n",
    "    group_by=np.full(1000, 0), row_wise=True)"
   ]
  },
  {
   "cell_type": "code",
   "execution_count": 69,
   "metadata": {},
   "outputs": [
    {
     "name": "stdout",
     "output_type": "stream",
     "text": [
      "78 ms ± 6.45 ms per loop (mean ± std. dev. of 7 runs, 1 loop each)\n",
      "69.9 ms ± 8.42 ms per loop (mean ± std. dev. of 7 runs, 1 loop each)\n"
     ]
    }
   ],
   "source": [
    "%timeit vbt.Portfolio.from_order_func(\\\n",
    "    big_price_wide, order_func_nb, 1., init_cash=np.inf, \\\n",
    "    group_by=np.full(1000, 0), cash_sharing=True)\n",
    "%timeit vbt.Portfolio.from_order_func(\\\n",
    "    big_price_wide, order_func_nb, 1., init_cash=np.inf, \\\n",
    "    group_by=np.full(1000, 0), cash_sharing=True, row_wise=True)"
   ]
  },
  {
   "cell_type": "code",
   "execution_count": 70,
   "metadata": {},
   "outputs": [],
   "source": [
    "def test_call_seq(call_seq, **kwargs):\n",
    "    return vbt.Portfolio.from_order_func(\n",
    "        price_wide, \n",
    "        order_func_nb, \n",
    "        1.,\n",
    "        group_by=np.array([0, 0, 0]),\n",
    "        call_seq=call_seq, **kwargs\n",
    "    ).call_seq\n",
    "\n",
    "def big_test_call_seq(call_seq, **kwargs):\n",
    "    return vbt.Portfolio.from_order_func(\n",
    "        big_price_wide, \n",
    "        order_func_nb, \n",
    "        1.,\n",
    "        group_by=np.repeat(np.arange(500), 2),\n",
    "        call_seq=call_seq, **kwargs\n",
    "    ).call_seq"
   ]
  },
  {
   "cell_type": "code",
   "execution_count": 71,
   "metadata": {},
   "outputs": [
    {
     "name": "stdout",
     "output_type": "stream",
     "text": [
      "            a  b  c\n",
      "2020-01-01  0  1  2\n",
      "2020-01-02  0  1  2\n",
      "2020-01-03  0  1  2\n",
      "2020-01-04  0  1  2\n",
      "2020-01-05  0  1  2\n",
      "84.7 ms ± 4.35 ms per loop (mean ± std. dev. of 7 runs, 10 loops each)\n",
      "            a  b  c\n",
      "2020-01-01  2  1  0\n",
      "2020-01-02  2  1  0\n",
      "2020-01-03  2  1  0\n",
      "2020-01-04  2  1  0\n",
      "2020-01-05  2  1  0\n",
      "85.1 ms ± 3.78 ms per loop (mean ± std. dev. of 7 runs, 10 loops each)\n",
      "            a  b  c\n",
      "2020-01-01  0  1  2\n",
      "2020-01-02  2  1  0\n",
      "2020-01-03  0  1  2\n",
      "2020-01-04  0  2  1\n",
      "2020-01-05  0  1  2\n",
      "97.4 ms ± 4.19 ms per loop (mean ± std. dev. of 7 runs, 10 loops each)\n"
     ]
    }
   ],
   "source": [
    "print(test_call_seq(CallSeqType.Default))\n",
    "%timeit big_test_call_seq(CallSeqType.Default)\n",
    "\n",
    "print(test_call_seq(CallSeqType.Reversed))\n",
    "%timeit big_test_call_seq(CallSeqType.Reversed)\n",
    "\n",
    "print(test_call_seq(CallSeqType.Random))\n",
    "%timeit big_test_call_seq(CallSeqType.Random)"
   ]
  },
  {
   "cell_type": "code",
   "execution_count": 72,
   "metadata": {},
   "outputs": [],
   "source": [
    "@njit\n",
    "def segment_prep_func1_nb(sc, *args):\n",
    "    sc.call_seq_now[:] = np.arange(sc.to_col - sc.from_col - 1, -1, -1)\n",
    "    return ()\n",
    "\n",
    "@njit\n",
    "def segment_prep_func2_nb(sc, *args):\n",
    "    sc.call_seq_now[:] = np.copy(sc.call_seq_now[::-1])\n",
    "    return ()\n",
    "\n",
    "@njit\n",
    "def segment_prep_func3_nb(sc, *args):\n",
    "    call_seq_now = sc.call_seq_now\n",
    "    n_cols = sc.to_col - sc.from_col\n",
    "    for k in range(n_cols):\n",
    "        call_seq_now[k] = n_cols - k - 1\n",
    "    return ()\n",
    "\n",
    "@njit\n",
    "def segment_prep_func4_nb(sc, *args):\n",
    "    np.random.shuffle(sc.call_seq_now)\n",
    "    return ()"
   ]
  },
  {
   "cell_type": "code",
   "execution_count": 73,
   "metadata": {},
   "outputs": [
    {
     "name": "stdout",
     "output_type": "stream",
     "text": [
      "            a  b  c\n",
      "2020-01-01  2  1  0\n",
      "2020-01-02  2  1  0\n",
      "2020-01-03  2  1  0\n",
      "2020-01-04  2  1  0\n",
      "2020-01-05  2  1  0\n",
      "347 ms ± 2.61 ms per loop (mean ± std. dev. of 7 runs, 1 loop each)\n",
      "367 ms ± 11 ms per loop (mean ± std. dev. of 7 runs, 1 loop each)\n",
      "            a  b  c\n",
      "2020-01-01  2  1  0\n",
      "2020-01-02  2  1  0\n",
      "2020-01-03  2  1  0\n",
      "2020-01-04  2  1  0\n",
      "2020-01-05  2  1  0\n",
      "355 ms ± 4.08 ms per loop (mean ± std. dev. of 7 runs, 1 loop each)\n",
      "362 ms ± 1.66 ms per loop (mean ± std. dev. of 7 runs, 1 loop each)\n",
      "            a  b  c\n",
      "2020-01-01  2  1  0\n",
      "2020-01-02  2  1  0\n",
      "2020-01-03  2  1  0\n",
      "2020-01-04  2  1  0\n",
      "2020-01-05  2  1  0\n",
      "174 ms ± 4.83 ms per loop (mean ± std. dev. of 7 runs, 10 loops each)\n",
      "193 ms ± 8.22 ms per loop (mean ± std. dev. of 7 runs, 1 loop each)\n",
      "            a  b  c\n",
      "2020-01-01  2  0  1\n",
      "2020-01-02  1  0  2\n",
      "2020-01-03  2  1  0\n",
      "2020-01-04  0  1  2\n",
      "2020-01-05  0  2  1\n",
      "179 ms ± 5.37 ms per loop (mean ± std. dev. of 7 runs, 10 loops each)\n",
      "190 ms ± 4.98 ms per loop (mean ± std. dev. of 7 runs, 1 loop each)\n"
     ]
    }
   ],
   "source": [
    "print(test_call_seq(CallSeqType.Default, segment_prep_func_nb=segment_prep_func1_nb))\n",
    "%timeit big_test_call_seq(CallSeqType.Default, segment_prep_func_nb=segment_prep_func1_nb)\n",
    "%timeit big_test_call_seq(CallSeqType.Default, segment_prep_func_nb=segment_prep_func1_nb, row_wise=True)\n",
    "\n",
    "print(test_call_seq(CallSeqType.Default, segment_prep_func_nb=segment_prep_func2_nb))\n",
    "%timeit big_test_call_seq(CallSeqType.Default, segment_prep_func_nb=segment_prep_func2_nb)\n",
    "%timeit big_test_call_seq(CallSeqType.Default, segment_prep_func_nb=segment_prep_func2_nb, row_wise=True)\n",
    "\n",
    "print(test_call_seq(CallSeqType.Default, segment_prep_func_nb=segment_prep_func3_nb))\n",
    "%timeit big_test_call_seq(CallSeqType.Default, segment_prep_func_nb=segment_prep_func3_nb)\n",
    "%timeit big_test_call_seq(CallSeqType.Default, segment_prep_func_nb=segment_prep_func3_nb, row_wise=True)\n",
    "\n",
    "print(test_call_seq(CallSeqType.Default, segment_prep_func_nb=segment_prep_func4_nb))\n",
    "%timeit big_test_call_seq(CallSeqType.Default, segment_prep_func_nb=segment_prep_func4_nb)  # in-place fastest\n",
    "%timeit big_test_call_seq(CallSeqType.Default, segment_prep_func_nb=segment_prep_func4_nb, row_wise=True)"
   ]
  },
  {
   "cell_type": "code",
   "execution_count": 74,
   "metadata": {},
   "outputs": [
    {
     "name": "stdout",
     "output_type": "stream",
     "text": [
      "Int64Index([0], dtype='int64')\n",
      "1\n",
      "Int64Index([0], dtype='int64', name='iteration_idx')\n",
      "2\n",
      "Index(['first'], dtype='object', name='custom')\n",
      "2\n",
      "Int64Index([0, 1, 2], dtype='int64', name='iteration_idx')\n",
      "2\n",
      "Index(['first', 'second', 'third'], dtype='object', name='custom')\n",
      "2\n"
     ]
    }
   ],
   "source": [
    "portfolio = vbt.Portfolio.from_order_func(\n",
    "    price, order_func_nb, np.inf,\n",
    "    target_shape=(5,))\n",
    "print(portfolio.wrapper.columns)\n",
    "print(portfolio.wrapper.ndim)\n",
    "\n",
    "portfolio = vbt.Portfolio.from_order_func(\n",
    "    price, order_func_nb, np.inf,\n",
    "    target_shape=(5, 1))\n",
    "print(portfolio.wrapper.columns)\n",
    "print(portfolio.wrapper.ndim)\n",
    "\n",
    "portfolio = vbt.Portfolio.from_order_func(\n",
    "    price, order_func_nb, np.inf,\n",
    "    target_shape=(5, 1), keys=pd.Index(['first'], name='custom'))\n",
    "print(portfolio.wrapper.columns)\n",
    "print(portfolio.wrapper.ndim)\n",
    "\n",
    "portfolio = vbt.Portfolio.from_order_func(\n",
    "    price, order_func_nb, np.inf,\n",
    "    target_shape=(5, 3))\n",
    "print(portfolio.wrapper.columns)\n",
    "print(portfolio.wrapper.ndim)\n",
    "\n",
    "portfolio = vbt.Portfolio.from_order_func(\n",
    "    price, order_func_nb, np.inf,\n",
    "    target_shape=(5, 3), keys=pd.Index(['first', 'second', 'third'], name='custom'))\n",
    "print(portfolio.wrapper.columns)\n",
    "print(portfolio.wrapper.ndim)"
   ]
  },
  {
   "cell_type": "code",
   "execution_count": 75,
   "metadata": {},
   "outputs": [
    {
     "name": "stdout",
     "output_type": "stream",
     "text": [
      "   col  idx        size  price  fees  side\n",
      "0    0    0  100.000000    1.0   0.0     0\n",
      "1    0    1  100.000000    2.0   0.0     1\n",
      "2    0    2   66.666667    3.0   0.0     0\n",
      "3    0    3   66.666667    4.0   0.0     1\n",
      "4    0    4   53.333333    5.0   0.0     0\n",
      "   col  idx        size  price  fees  side\n",
      "0    0    0  100.000000    1.0   0.0     0\n",
      "1    0    1  100.000000    2.0   0.0     1\n",
      "2    0    2   66.666667    3.0   0.0     0\n",
      "3    0    3   66.666667    4.0   0.0     1\n",
      "4    0    4   53.333333    5.0   0.0     0\n"
     ]
    }
   ],
   "source": [
    "portfolio = vbt.Portfolio.from_order_func(price, order_func_nb, np.inf)\n",
    "print(portfolio.orders().records)\n",
    "\n",
    "portfolio = vbt.Portfolio.from_order_func(price, order_func_nb, np.inf, row_wise=True)\n",
    "print(portfolio.orders().records)"
   ]
  },
  {
   "cell_type": "code",
   "execution_count": 76,
   "metadata": {},
   "outputs": [
    {
     "name": "stdout",
     "output_type": "stream",
     "text": [
      "    col  idx        size  price  fees  side\n",
      "0     0    0  100.000000    1.0   0.0     0\n",
      "1     0    1  100.000000    2.0   0.0     1\n",
      "2     0    2   66.666667    3.0   0.0     0\n",
      "3     0    3   66.666667    4.0   0.0     1\n",
      "4     0    4   53.333333    5.0   0.0     0\n",
      "5     1    0  100.000000    1.0   0.0     0\n",
      "6     1    1  100.000000    2.0   0.0     1\n",
      "7     1    2   66.666667    3.0   0.0     0\n",
      "8     1    3   66.666667    4.0   0.0     1\n",
      "9     1    4   53.333333    5.0   0.0     0\n",
      "10    2    0  100.000000    1.0   0.0     0\n",
      "11    2    1  100.000000    2.0   0.0     1\n",
      "12    2    2   66.666667    3.0   0.0     0\n",
      "13    2    3   66.666667    4.0   0.0     1\n",
      "14    2    4   53.333333    5.0   0.0     0\n",
      "    col  idx        size  price  fees  side\n",
      "0     0    0  100.000000    1.0   0.0     0\n",
      "1     0    1  100.000000    2.0   0.0     1\n",
      "2     0    2   66.666667    3.0   0.0     0\n",
      "3     0    3   66.666667    4.0   0.0     1\n",
      "4     0    4   53.333333    5.0   0.0     0\n",
      "5     1    0  100.000000    1.0   0.0     0\n",
      "6     1    1  100.000000    2.0   0.0     1\n",
      "7     1    2   66.666667    3.0   0.0     0\n",
      "8     1    3   66.666667    4.0   0.0     1\n",
      "9     1    4   53.333333    5.0   0.0     0\n",
      "10    2    0  100.000000    1.0   0.0     0\n",
      "11    2    1  100.000000    2.0   0.0     1\n",
      "12    2    2   66.666667    3.0   0.0     0\n",
      "13    2    3   66.666667    4.0   0.0     1\n",
      "14    2    4   53.333333    5.0   0.0     0\n"
     ]
    }
   ],
   "source": [
    "portfolio = vbt.Portfolio.from_order_func(price_wide, order_func_nb, np.inf)\n",
    "print(portfolio.orders().records)\n",
    "\n",
    "portfolio = vbt.Portfolio.from_order_func(price_wide, order_func_nb, np.inf, row_wise=True)\n",
    "print(portfolio.orders().records)"
   ]
  },
  {
   "cell_type": "code",
   "execution_count": 77,
   "metadata": {},
   "outputs": [
    {
     "name": "stdout",
     "output_type": "stream",
     "text": [
      "    col  idx        size  price  fees  side\n",
      "0     0    0  100.000000    1.0   0.0     0\n",
      "1     0    1  100.000000    2.0   0.0     1\n",
      "2     0    2   66.666667    3.0   0.0     0\n",
      "3     0    3   66.666667    4.0   0.0     1\n",
      "4     0    4   53.333333    5.0   0.0     0\n",
      "5     1    0  100.000000    1.0   0.0     0\n",
      "6     1    1  100.000000    2.0   0.0     1\n",
      "7     1    2   66.666667    3.0   0.0     0\n",
      "8     1    3   66.666667    4.0   0.0     1\n",
      "9     1    4   53.333333    5.0   0.0     0\n",
      "10    2    0  100.000000    1.0   0.0     0\n",
      "11    2    1  100.000000    2.0   0.0     1\n",
      "12    2    2   66.666667    3.0   0.0     0\n",
      "13    2    3   66.666667    4.0   0.0     1\n",
      "14    2    4   53.333333    5.0   0.0     0\n",
      "    col  idx        size  price  fees  side\n",
      "0     0    0  100.000000    1.0   0.0     0\n",
      "1     0    1  100.000000    2.0   0.0     1\n",
      "2     0    2   66.666667    3.0   0.0     0\n",
      "3     0    3   66.666667    4.0   0.0     1\n",
      "4     0    4   53.333333    5.0   0.0     0\n",
      "5     1    0  100.000000    1.0   0.0     0\n",
      "6     1    1  100.000000    2.0   0.0     1\n",
      "7     1    2   66.666667    3.0   0.0     0\n",
      "8     1    3   66.666667    4.0   0.0     1\n",
      "9     1    4   53.333333    5.0   0.0     0\n",
      "10    2    0  100.000000    1.0   0.0     0\n",
      "11    2    1  100.000000    2.0   0.0     1\n",
      "12    2    2   66.666667    3.0   0.0     0\n",
      "13    2    3   66.666667    4.0   0.0     1\n",
      "14    2    4   53.333333    5.0   0.0     0\n"
     ]
    }
   ],
   "source": [
    "portfolio = vbt.Portfolio.from_order_func(\n",
    "    price_wide, order_func_nb, np.inf,\n",
    "    group_by=np.array([0, 0, 1]))\n",
    "print(portfolio.orders().records)\n",
    "\n",
    "portfolio = vbt.Portfolio.from_order_func(\n",
    "    price_wide, order_func_nb, np.inf,\n",
    "    group_by=np.array([0, 0, 1]), row_wise=True)\n",
    "print(portfolio.orders().records)"
   ]
  },
  {
   "cell_type": "code",
   "execution_count": 78,
   "metadata": {},
   "outputs": [
    {
     "name": "stdout",
     "output_type": "stream",
     "text": [
      "   col  idx        size  price  fees  side\n",
      "0    0    0  100.000000    1.0   0.0     0\n",
      "1    0    1  100.000000    2.0   0.0     1\n",
      "2    0    2   66.666667    3.0   0.0     0\n",
      "3    0    3   66.666667    4.0   0.0     1\n",
      "4    0    4   53.333333    5.0   0.0     0\n",
      "5    2    0  100.000000    1.0   0.0     0\n",
      "6    2    1  100.000000    2.0   0.0     1\n",
      "7    2    2   66.666667    3.0   0.0     0\n",
      "8    2    3   66.666667    4.0   0.0     1\n",
      "9    2    4   53.333333    5.0   0.0     0\n",
      "   col  idx        size  price  fees  side\n",
      "0    0    0  100.000000    1.0   0.0     0\n",
      "1    0    1  100.000000    2.0   0.0     1\n",
      "2    0    2   66.666667    3.0   0.0     0\n",
      "3    0    3   66.666667    4.0   0.0     1\n",
      "4    0    4   53.333333    5.0   0.0     0\n",
      "5    2    0  100.000000    1.0   0.0     0\n",
      "6    2    1  100.000000    2.0   0.0     1\n",
      "7    2    2   66.666667    3.0   0.0     0\n",
      "8    2    3   66.666667    4.0   0.0     1\n",
      "9    2    4   53.333333    5.0   0.0     0\n"
     ]
    }
   ],
   "source": [
    "portfolio = vbt.Portfolio.from_order_func(\n",
    "    price_wide, order_func_nb, np.inf,\n",
    "    group_by=np.array([0, 0, 1]), cash_sharing=True)\n",
    "print(portfolio.orders().records)\n",
    "\n",
    "portfolio = vbt.Portfolio.from_order_func(\n",
    "    price_wide, order_func_nb, np.inf,\n",
    "    group_by=np.array([0, 0, 1]), cash_sharing=True, row_wise=True)\n",
    "print(portfolio.orders().records)"
   ]
  },
  {
   "cell_type": "code",
   "execution_count": 79,
   "metadata": {},
   "outputs": [
    {
     "name": "stdout",
     "output_type": "stream",
     "text": [
      "[1.] 25.0\n",
      "[2.] -33.33333333333333\n",
      "[3.] -12.5\n",
      "[4.] -6.666666666666668\n",
      "   col  idx       size  price  fees  side\n",
      "0    0    0  50.000000    2.0   0.0     0\n",
      "1    0    1  25.000000    3.0   0.0     1\n",
      "2    0    2   8.333333    4.0   0.0     1\n",
      "3    0    3   4.166667    5.0   0.0     1\n",
      "[1.] 25.0\n",
      "[2.] -33.33333333333333\n",
      "[3.] -12.5\n",
      "[4.] -6.666666666666668\n",
      "   col  idx       size  price  fees  side\n",
      "0    0    0  50.000000    2.0   0.0     0\n",
      "1    0    1  25.000000    3.0   0.0     1\n",
      "2    0    2   8.333333    4.0   0.0     1\n",
      "3    0    3   4.166667    5.0   0.0     1\n"
     ]
    }
   ],
   "source": [
    "@njit\n",
    "def target_val_segment_prep_func_nb(sc, val_price):\n",
    "    sc.last_val_price[sc.from_col:sc.to_col] = val_price[sc.i]\n",
    "    return ()\n",
    "\n",
    "@njit\n",
    "def target_val_order_func_nb(oc):\n",
    "    print(oc.last_val_price[oc.from_col:oc.to_col], 50. / oc.close[oc.i, oc.col] - oc.shares_now)\n",
    "    return Order(50., SizeType.TargetValue, oc.close[oc.i, oc.col], 0., 0., 0., 0.)\n",
    "\n",
    "portfolio = vbt.Portfolio.from_order_func(\n",
    "    price.iloc[1:], target_val_order_func_nb, \n",
    "    segment_prep_func_nb=target_val_segment_prep_func_nb,\n",
    "    segment_prep_args=(price.iloc[:-1],)  # lagged valuation price\n",
    ")\n",
    "print(portfolio.orders().records)\n",
    "\n",
    "portfolio = vbt.Portfolio.from_order_func(\n",
    "    price.iloc[1:], target_val_order_func_nb, \n",
    "    segment_prep_func_nb=target_val_segment_prep_func_nb,\n",
    "    segment_prep_args=(price.iloc[:-1],), row_wise=True\n",
    ")\n",
    "print(portfolio.orders().records)"
   ]
  },
  {
   "cell_type": "code",
   "execution_count": 80,
   "metadata": {},
   "outputs": [
    {
     "name": "stdout",
     "output_type": "stream",
     "text": [
      "[2.] 25.0\n",
      "[3.] -8.333333333333332\n",
      "[4.] -4.166666666666668\n",
      "[5.] -2.5\n",
      "   col  idx       size  price  fees  side\n",
      "0    0    0  25.000000    2.0   0.0     0\n",
      "1    0    1   8.333333    3.0   0.0     1\n",
      "2    0    2   4.166667    4.0   0.0     1\n",
      "3    0    3   2.500000    5.0   0.0     1\n",
      "[2.] 25.0\n",
      "[3.] -8.333333333333332\n",
      "[4.] -4.166666666666668\n",
      "[5.] -2.5\n",
      "   col  idx       size  price  fees  side\n",
      "0    0    0  25.000000    2.0   0.0     0\n",
      "1    0    1   8.333333    3.0   0.0     1\n",
      "2    0    2   4.166667    4.0   0.0     1\n",
      "3    0    3   2.500000    5.0   0.0     1\n"
     ]
    }
   ],
   "source": [
    "portfolio = vbt.Portfolio.from_order_func(\n",
    "    price.iloc[1:], target_val_order_func_nb, \n",
    "    segment_prep_func_nb=target_val_segment_prep_func_nb,\n",
    "    segment_prep_args=(price.iloc[1:],)  # current order price\n",
    ")\n",
    "print(portfolio.orders().records)\n",
    "\n",
    "portfolio = vbt.Portfolio.from_order_func(\n",
    "    price.iloc[1:], target_val_order_func_nb, \n",
    "    segment_prep_func_nb=target_val_segment_prep_func_nb,\n",
    "    segment_prep_args=(price.iloc[1:],), row_wise=True\n",
    ")\n",
    "print(portfolio.orders().records)"
   ]
  },
  {
   "cell_type": "code",
   "execution_count": 81,
   "metadata": {},
   "outputs": [
    {
     "name": "stdout",
     "output_type": "stream",
     "text": [
      "[1.] 25.0\n",
      "[2.] -33.33333333333333\n",
      "[3.] -6.25\n",
      "[4.] -7.5\n",
      "   col  idx    size  price  fees  side\n",
      "0    0    0  50.000    2.0   0.0     0\n",
      "1    0    1  25.000    3.0   0.0     1\n",
      "2    0    3   3.125    5.0   0.0     1\n",
      "[1.] 25.0\n",
      "[2.] -33.33333333333333\n",
      "[3.] -6.25\n",
      "[4.] -7.5\n",
      "   col  idx    size  price  fees  side\n",
      "0    0    0  50.000    2.0   0.0     0\n",
      "1    0    1  25.000    3.0   0.0     1\n",
      "2    0    3   3.125    5.0   0.0     1\n"
     ]
    }
   ],
   "source": [
    "@njit\n",
    "def target_pct_segment_prep_func_nb(sc, val_price):\n",
    "    sc.last_val_price[sc.from_col:sc.to_col] = val_price[sc.i]\n",
    "    return ()\n",
    "\n",
    "@njit\n",
    "def target_pct_order_func_nb(oc):\n",
    "    print(oc.last_val_price[oc.from_col:oc.to_col], 0.5 * oc.value_now / oc.close[oc.i, oc.col] - oc.shares_now)\n",
    "    return Order(0.5, SizeType.TargetPercent, oc.close[oc.i, oc.col], 0., 0., 0., 0.)\n",
    "\n",
    "portfolio = vbt.Portfolio.from_order_func(\n",
    "    price.iloc[1:], target_pct_order_func_nb, \n",
    "    segment_prep_func_nb=target_pct_segment_prep_func_nb,\n",
    "    segment_prep_args=(price.iloc[:-1],)  # lagged valuation price\n",
    ")\n",
    "print(portfolio.orders().records)\n",
    "\n",
    "portfolio = vbt.Portfolio.from_order_func(\n",
    "    price.iloc[1:], target_pct_order_func_nb, \n",
    "    segment_prep_func_nb=target_pct_segment_prep_func_nb,\n",
    "    segment_prep_args=(price.iloc[:-1],), row_wise=True\n",
    ")\n",
    "print(portfolio.orders().records)"
   ]
  },
  {
   "cell_type": "code",
   "execution_count": 82,
   "metadata": {},
   "outputs": [
    {
     "name": "stdout",
     "output_type": "stream",
     "text": [
      "[2.] 25.0\n",
      "[3.] -4.166666666666668\n",
      "[4.] -2.604166666666668\n",
      "[5.] -1.8229166666666643\n",
      "   col  idx       size  price  fees  side\n",
      "0    0    0  25.000000    2.0   0.0     0\n",
      "1    0    1   4.166667    3.0   0.0     1\n",
      "2    0    2   2.604167    4.0   0.0     1\n",
      "3    0    3   1.822917    5.0   0.0     1\n",
      "[2.] 25.0\n",
      "[3.] -4.166666666666668\n",
      "[4.] -2.604166666666668\n",
      "[5.] -1.8229166666666643\n",
      "   col  idx       size  price  fees  side\n",
      "0    0    0  25.000000    2.0   0.0     0\n",
      "1    0    1   4.166667    3.0   0.0     1\n",
      "2    0    2   2.604167    4.0   0.0     1\n",
      "3    0    3   1.822917    5.0   0.0     1\n"
     ]
    }
   ],
   "source": [
    "portfolio = vbt.Portfolio.from_order_func(\n",
    "    price.iloc[1:], target_pct_order_func_nb, \n",
    "    segment_prep_func_nb=target_pct_segment_prep_func_nb,\n",
    "    segment_prep_args=(price.iloc[1:],)  # current order price\n",
    ")\n",
    "print(portfolio.orders().records)\n",
    "\n",
    "portfolio = vbt.Portfolio.from_order_func(\n",
    "    price.iloc[1:], target_pct_order_func_nb, \n",
    "    segment_prep_func_nb=target_pct_segment_prep_func_nb,\n",
    "    segment_prep_args=(price.iloc[1:],), row_wise=True\n",
    ")\n",
    "print(portfolio.orders().records)"
   ]
  },
  {
   "cell_type": "code",
   "execution_count": 83,
   "metadata": {},
   "outputs": [
    {
     "name": "stdout",
     "output_type": "stream",
     "text": [
      "   col  idx  size  price  fees  side\n",
      "0    0    0   1.0    1.0   0.0     0\n",
      "1    0    2   1.0    3.0   0.0     0\n",
      "2    0    4   1.0    5.0   0.0     0\n",
      "   col  idx  size  price  fees  side\n",
      "0    0    0   1.0    1.0   0.0     0\n",
      "1    0    2   1.0    3.0   0.0     0\n",
      "2    0    4   1.0    5.0   0.0     0\n"
     ]
    }
   ],
   "source": [
    "portfolio = vbt.Portfolio.from_order_func(\n",
    "    price, order_func_nb, 1.,\n",
    "    active_mask=pd.Series([True, False, True, False, True]))\n",
    "print(portfolio.orders().records)\n",
    "\n",
    "portfolio = vbt.Portfolio.from_order_func(\n",
    "    price, order_func_nb, 1.,\n",
    "    active_mask=pd.Series([True, False, True, False, True]), row_wise=True)\n",
    "print(portfolio.orders().records)"
   ]
  },
  {
   "cell_type": "code",
   "execution_count": 84,
   "metadata": {},
   "outputs": [
    {
     "name": "stdout",
     "output_type": "stream",
     "text": [
      "preparing simulation\n",
      "\tpreparing group 0\n",
      "\t\tpreparing segment 0 (row)\n",
      "\t\t\trunning order 0 at column 0\n",
      "\t\t\trunning order 1 at column 1\n",
      "\t\tpreparing segment 1 (row)\n",
      "\t\t\trunning order 0 at column 0\n",
      "\t\t\trunning order 1 at column 1\n",
      "\t\tpreparing segment 2 (row)\n",
      "\t\t\trunning order 0 at column 0\n",
      "\t\t\trunning order 1 at column 1\n",
      "\t\tpreparing segment 3 (row)\n",
      "\t\t\trunning order 0 at column 0\n",
      "\t\t\trunning order 1 at column 1\n",
      "\t\tpreparing segment 4 (row)\n",
      "\t\t\trunning order 0 at column 0\n",
      "\t\t\trunning order 1 at column 1\n",
      "\tpreparing group 1\n",
      "\t\tpreparing segment 0 (row)\n",
      "\t\t\trunning order 0 at column 2\n",
      "\t\tpreparing segment 1 (row)\n",
      "\t\t\trunning order 0 at column 2\n",
      "\t\tpreparing segment 2 (row)\n",
      "\t\t\trunning order 0 at column 2\n",
      "\t\tpreparing segment 3 (row)\n",
      "\t\t\trunning order 0 at column 2\n",
      "\t\tpreparing segment 4 (row)\n",
      "\t\t\trunning order 0 at column 2\n",
      "[1] [2] [10] [15]\n"
     ]
    }
   ],
   "source": [
    "@njit\n",
    "def prep_func_nb(simc, sim_i):\n",
    "    print('preparing simulation')\n",
    "    sim_i[0] += 1\n",
    "    return sim_i,\n",
    "\n",
    "@njit\n",
    "def group_prep_func_nb(gc, sim_i, group_i):\n",
    "    print('\\tpreparing group', gc.group)\n",
    "    group_i[0] += 1\n",
    "    return sim_i, group_i\n",
    "\n",
    "@njit\n",
    "def segment_prep_func_nb(sc, sim_i, group_i, segment_i):\n",
    "    print('\\t\\tpreparing segment', sc.i, '(row)')\n",
    "    segment_i[0] += 1\n",
    "    return sim_i, group_i, segment_i\n",
    "\n",
    "@njit\n",
    "def order_func_nb(oc, sim_i, group_i, segment_i, order_i):\n",
    "    print('\\t\\t\\trunning order', oc.call_idx, 'at column', oc.col)\n",
    "    order_i[0] += 1\n",
    "    return NoOrder\n",
    "\n",
    "sim_i = np.array([0])\n",
    "group_i = np.array([0])\n",
    "segment_i = np.array([0])\n",
    "order_i = np.array([0])\n",
    "portfolio = vbt.Portfolio.from_order_func(\n",
    "    price_wide, order_func_nb, order_i, \n",
    "    group_by=np.array([0, 0, 1]), \n",
    "    prep_func_nb=prep_func_nb, prep_args=(sim_i,),\n",
    "    group_prep_func_nb=group_prep_func_nb, group_prep_args=(group_i,),\n",
    "    segment_prep_func_nb=segment_prep_func_nb, segment_prep_args=(segment_i,)\n",
    ")\n",
    "print(sim_i, group_i, segment_i, order_i)"
   ]
  },
  {
   "cell_type": "code",
   "execution_count": 85,
   "metadata": {},
   "outputs": [
    {
     "name": "stdout",
     "output_type": "stream",
     "text": [
      "preparing simulation\n",
      "\tpreparing row 0\n",
      "\t\tpreparing segment 0 (group)\n",
      "\t\t\trunning order 0 at column 0\n",
      "\t\t\trunning order 1 at column 1\n",
      "\t\tpreparing segment 1 (group)\n",
      "\t\t\trunning order 0 at column 2\n",
      "\tpreparing row 1\n",
      "\t\tpreparing segment 0 (group)\n",
      "\t\t\trunning order 0 at column 0\n",
      "\t\t\trunning order 1 at column 1\n",
      "\t\tpreparing segment 1 (group)\n",
      "\t\t\trunning order 0 at column 2\n",
      "\tpreparing row 2\n",
      "\t\tpreparing segment 0 (group)\n",
      "\t\t\trunning order 0 at column 0\n",
      "\t\t\trunning order 1 at column 1\n",
      "\t\tpreparing segment 1 (group)\n",
      "\t\t\trunning order 0 at column 2\n",
      "\tpreparing row 3\n",
      "\t\tpreparing segment 0 (group)\n",
      "\t\t\trunning order 0 at column 0\n",
      "\t\t\trunning order 1 at column 1\n",
      "\t\tpreparing segment 1 (group)\n",
      "\t\t\trunning order 0 at column 2\n",
      "\tpreparing row 4\n",
      "\t\tpreparing segment 0 (group)\n",
      "\t\t\trunning order 0 at column 0\n",
      "\t\t\trunning order 1 at column 1\n",
      "\t\tpreparing segment 1 (group)\n",
      "\t\t\trunning order 0 at column 2\n",
      "[1] [5] [10] [15]\n"
     ]
    }
   ],
   "source": [
    "@njit\n",
    "def prep_func_nb(simc, sim_i):\n",
    "    print('preparing simulation')\n",
    "    sim_i[0] += 1\n",
    "    return sim_i,\n",
    "\n",
    "@njit\n",
    "def row_prep_func_nb(gc, sim_i, row_i):\n",
    "    print('\\tpreparing row', gc.i)\n",
    "    row_i[0] += 1\n",
    "    return sim_i, row_i\n",
    "\n",
    "@njit\n",
    "def segment_prep_func_nb(sc, sim_i, row_i, segment_i):\n",
    "    print('\\t\\tpreparing segment', sc.group, '(group)')\n",
    "    segment_i[0] += 1\n",
    "    return sim_i, row_i, segment_i\n",
    "\n",
    "@njit\n",
    "def order_func_nb(oc, sim_i, row_i, segment_i, order_i):\n",
    "    print('\\t\\t\\trunning order', oc.call_idx, 'at column', oc.col)\n",
    "    order_i[0] += 1\n",
    "    return NoOrder\n",
    "\n",
    "sim_i = np.array([0])\n",
    "row_i = np.array([0])\n",
    "segment_i = np.array([0])\n",
    "order_i = np.array([0])\n",
    "\n",
    "portfolio = vbt.Portfolio.from_order_func(\n",
    "    price_wide, order_func_nb, order_i, \n",
    "    group_by=np.array([0, 0, 1]), \n",
    "    prep_func_nb=prep_func_nb, prep_args=(sim_i,),\n",
    "    row_prep_func_nb=row_prep_func_nb, row_prep_args=(row_i,),\n",
    "    segment_prep_func_nb=segment_prep_func_nb, segment_prep_args=(segment_i,),\n",
    "    row_wise=True\n",
    ")\n",
    "print(sim_i, row_i, segment_i, order_i)"
   ]
  },
  {
   "cell_type": "markdown",
   "metadata": {},
   "source": [
    "## methods and properties"
   ]
  },
  {
   "cell_type": "code",
   "execution_count": 86,
   "metadata": {},
   "outputs": [],
   "source": [
    "price_na = pd.DataFrame({\n",
    "    'a': [np.nan, 2., 3., 4., 5.],\n",
    "    'b': [1., 2., np.nan, 4., 5.],\n",
    "    'c': [1., 2., 3., 4., np.nan]\n",
    "}, index=price.index)\n",
    "order_size = pd.Series([1., 0.1, -1., -0.1, 1.])"
   ]
  },
  {
   "cell_type": "code",
   "execution_count": 88,
   "metadata": {},
   "outputs": [
    {
     "name": "stdout",
     "output_type": "stream",
     "text": [
      "    col  idx  size  price     fees  side\n",
      "0     0    1   0.1   2.02  0.10202     0\n",
      "1     0    2   0.1   2.97  0.10297     1\n",
      "2     0    4   1.0   5.05  0.15050     0\n",
      "3     1    0   1.0   1.01  0.11010     0\n",
      "4     1    1   0.1   2.02  0.10202     0\n",
      "5     1    3   0.1   3.96  0.10396     1\n",
      "6     1    4   1.0   5.05  0.15050     0\n",
      "7     2    0   1.0   1.01  0.11010     0\n",
      "8     2    1   0.1   2.02  0.10202     0\n",
      "9     2    2   1.0   2.97  0.12970     1\n",
      "10    2    3   0.1   3.96  0.10396     1\n",
      "    col  idx  size  price     fees  side\n",
      "0     0    1   0.1   2.02  0.10202     0\n",
      "1     0    2   0.1   2.97  0.10297     1\n",
      "2     0    4   1.0   5.05  0.15050     0\n",
      "3     1    0   1.0   1.01  0.11010     0\n",
      "4     1    1   0.1   2.02  0.10202     0\n",
      "5     1    3   0.1   3.96  0.10396     1\n",
      "6     1    4   1.0   5.05  0.15050     0\n",
      "7     2    0   1.0   1.01  0.11010     0\n",
      "8     2    1   0.1   2.02  0.10202     0\n",
      "9     2    2   1.0   2.97  0.12970     1\n",
      "10    2    3   0.1   3.96  0.10396     1\n",
      "    col  idx  size  price     fees  side\n",
      "0     0    1   0.1   2.02  0.10202     0\n",
      "1     0    2   0.1   2.97  0.10297     1\n",
      "2     0    4   1.0   5.05  0.15050     0\n",
      "3     1    0   1.0   1.01  0.11010     0\n",
      "4     1    1   0.1   2.02  0.10202     0\n",
      "5     1    3   0.1   3.96  0.10396     1\n",
      "6     1    4   1.0   5.05  0.15050     0\n",
      "7     2    0   1.0   1.01  0.11010     0\n",
      "8     2    1   0.1   2.02  0.10202     0\n",
      "9     2    2   1.0   2.97  0.12970     1\n",
      "10    2    3   0.1   3.96  0.10396     1\n"
     ]
    }
   ],
   "source": [
    "portfolio = vbt.Portfolio.from_orders(\n",
    "    price_na, order_size, size_type=SizeType.Shares, \n",
    "    fees=0.01, fixed_fees=0.1, slippage=0.01,\n",
    "    init_cash=[100., 100., 100.],\n",
    "    call_seq=CallSeqType.Reversed,\n",
    "    group_by=None\n",
    ")  # independent\n",
    "print(portfolio.orders().records)\n",
    "\n",
    "group_by = np.array(['first', 'first', 'second'])\n",
    "portfolio_grouped = vbt.Portfolio.from_orders(\n",
    "    price_na, order_size, size_type=SizeType.Shares, \n",
    "    fees=0.01, fixed_fees=0.1, slippage=0.01,\n",
    "    init_cash=[100., 100., 100.],\n",
    "    call_seq=CallSeqType.Reversed,\n",
    "    group_by=group_by,\n",
    "    cash_sharing=False\n",
    ")  # grouped\n",
    "print(portfolio_grouped.orders().records)\n",
    "\n",
    "portfolio_shared = vbt.Portfolio.from_orders(\n",
    "    price_na, order_size, size_type=SizeType.Shares, \n",
    "    fees=0.01, fixed_fees=0.1, slippage=0.01,\n",
    "    init_cash=[200., 100.],\n",
    "    call_seq=CallSeqType.Reversed,\n",
    "    group_by=group_by,\n",
    "    cash_sharing=True\n",
    ")  # shared\n",
    "print(portfolio_shared.orders().records)"
   ]
  },
  {
   "cell_type": "code",
   "execution_count": 90,
   "metadata": {},
   "outputs": [
    {
     "name": "stdout",
     "output_type": "stream",
     "text": [
      "(1000000,)\n",
      "(1000000,)\n",
      "(1000000,)\n"
     ]
    }
   ],
   "source": [
    "big_group_by = np.repeat(np.arange(500), 2)\n",
    "big_portfolio = vbt.Portfolio.from_orders(\n",
    "    big_price_wide, big_order_size)\n",
    "print(big_portfolio.orders().records_arr.shape)\n",
    "\n",
    "big_portfolio_grouped = vbt.Portfolio.from_orders(\n",
    "    big_price_wide, big_order_size, group_by=big_group_by)\n",
    "print(big_portfolio_grouped.orders().records_arr.shape)\n",
    "\n",
    "big_portfolio_shared = vbt.Portfolio.from_orders(\n",
    "    big_price_wide, big_order_size, group_by=big_group_by, cash_sharing=True)\n",
    "print(big_portfolio_shared.orders().records_arr.shape)"
   ]
  },
  {
   "cell_type": "code",
   "execution_count": 95,
   "metadata": {},
   "outputs": [
    {
     "name": "stdout",
     "output_type": "stream",
     "text": [
      "    col  idx  size  price     fees  side\n",
      "0     0    1   0.1   2.02  0.10202     0\n",
      "1     0    2   0.1   2.97  0.10297     1\n",
      "2     0    4   1.0   5.05  0.15050     0\n",
      "3     1    0   1.0   1.01  0.11010     0\n",
      "4     1    1   0.1   2.02  0.10202     0\n",
      "5     1    3   0.1   3.96  0.10396     1\n",
      "6     1    4   1.0   5.05  0.15050     0\n",
      "7     2    0   1.0   1.01  0.11010     0\n",
      "8     2    1   0.1   2.02  0.10202     0\n",
      "9     2    2   1.0   2.97  0.12970     1\n",
      "10    2    3   0.1   3.96  0.10396     1\n",
      "a    3\n",
      "b    4\n",
      "c    4\n",
      "dtype: int64\n",
      "              a    b    c\n",
      "2020-01-01  NaN  1.0  1.0\n",
      "2020-01-02  2.0  2.0  2.0\n",
      "2020-01-03  3.0  NaN  3.0\n",
      "2020-01-04  4.0  4.0  4.0\n",
      "2020-01-05  5.0  5.0  NaN\n",
      "a    100.0\n",
      "b    100.0\n",
      "c    100.0\n",
      "dtype: float64\n",
      "                    a          b          c\n",
      "2020-01-01  100.00000   99.87990   99.87990\n",
      "2020-01-02   99.89598  100.77588  100.77588\n",
      "2020-01-03   99.89001        NaN  101.71618\n",
      "2020-01-04   99.89001  102.86792  101.70822\n",
      "2020-01-05   99.68951  103.66742  101.70822\n",
      "a     99.68951\n",
      "b    103.66742\n",
      "c    101.70822\n",
      "dtype: float64\n"
     ]
    }
   ],
   "source": [
    "print(portfolio.orders().records)\n",
    "print(portfolio.orders().count())\n",
    "print(portfolio.close)\n",
    "print(portfolio.init_cash())\n",
    "print(portfolio.value())\n",
    "print(portfolio.final_value())"
   ]
  },
  {
   "cell_type": "code",
   "execution_count": 96,
   "metadata": {},
   "outputs": [
    {
     "name": "stdout",
     "output_type": "stream",
     "text": [
      "   col  idx  size  price     fees  side\n",
      "0    0    1   0.1   2.02  0.10202     0\n",
      "1    0    2   0.1   2.97  0.10297     1\n",
      "2    0    4   1.0   5.05  0.15050     0\n",
      "3\n",
      "2020-01-01    NaN\n",
      "2020-01-02    2.0\n",
      "2020-01-03    3.0\n",
      "2020-01-04    4.0\n",
      "2020-01-05    5.0\n",
      "Name: a, dtype: float64\n",
      "100.0\n",
      "2020-01-01    100.00000\n",
      "2020-01-02     99.89598\n",
      "2020-01-03     99.89001\n",
      "2020-01-04     99.89001\n",
      "2020-01-05     99.68951\n",
      "Name: a, dtype: float64\n",
      "99.68951\n"
     ]
    }
   ],
   "source": [
    "print(portfolio['a'].orders().records)\n",
    "print(portfolio['a'].orders().count())\n",
    "print(portfolio['a'].close)\n",
    "print(portfolio['a'].init_cash())\n",
    "print(portfolio['a'].value())\n",
    "print(portfolio['a'].final_value())"
   ]
  },
  {
   "cell_type": "code",
   "execution_count": 97,
   "metadata": {},
   "outputs": [
    {
     "name": "stdout",
     "output_type": "stream",
     "text": [
      "   col  idx  size  price     fees  side\n",
      "0    0    0   1.0   1.01  0.11010     0\n",
      "1    0    1   0.1   2.02  0.10202     0\n",
      "2    0    2   1.0   2.97  0.12970     1\n",
      "3    0    3   0.1   3.96  0.10396     1\n",
      "4\n",
      "2020-01-01    1.0\n",
      "2020-01-02    2.0\n",
      "2020-01-03    3.0\n",
      "2020-01-04    4.0\n",
      "2020-01-05    NaN\n",
      "Name: c, dtype: float64\n",
      "100.0\n",
      "2020-01-01     99.87990\n",
      "2020-01-02    100.77588\n",
      "2020-01-03    101.71618\n",
      "2020-01-04    101.70822\n",
      "2020-01-05    101.70822\n",
      "Name: c, dtype: float64\n",
      "101.70822000000001\n"
     ]
    }
   ],
   "source": [
    "print(portfolio['c'].orders().records)\n",
    "print(portfolio['c'].orders().count())\n",
    "print(portfolio['c'].close)\n",
    "print(portfolio['c'].init_cash())\n",
    "print(portfolio['c'].value())\n",
    "print(portfolio['c'].final_value())"
   ]
  },
  {
   "cell_type": "code",
   "execution_count": 98,
   "metadata": {},
   "outputs": [
    {
     "name": "stdout",
     "output_type": "stream",
     "text": [
      "   col  idx  size  price     fees  side\n",
      "0    0    0   1.0   1.01  0.11010     0\n",
      "1    0    1   0.1   2.02  0.10202     0\n",
      "2    0    2   1.0   2.97  0.12970     1\n",
      "3    0    3   0.1   3.96  0.10396     1\n",
      "c    4\n",
      "dtype: int64\n",
      "              c\n",
      "2020-01-01  1.0\n",
      "2020-01-02  2.0\n",
      "2020-01-03  3.0\n",
      "2020-01-04  4.0\n",
      "2020-01-05  NaN\n",
      "c    100.0\n",
      "dtype: float64\n",
      "                    c\n",
      "2020-01-01   99.87990\n",
      "2020-01-02  100.77588\n",
      "2020-01-03  101.71618\n",
      "2020-01-04  101.70822\n",
      "2020-01-05  101.70822\n",
      "c    101.70822\n",
      "dtype: float64\n"
     ]
    }
   ],
   "source": [
    "print(portfolio[['c']].orders().records)\n",
    "print(portfolio[['c']].orders().count())\n",
    "print(portfolio[['c']].close)\n",
    "print(portfolio[['c']].init_cash())\n",
    "print(portfolio[['c']].value())\n",
    "print(portfolio[['c']].final_value())"
   ]
  },
  {
   "cell_type": "code",
   "execution_count": 99,
   "metadata": {},
   "outputs": [
    {
     "name": "stdout",
     "output_type": "stream",
     "text": [
      "    col  idx  size  price     fees  side\n",
      "0     0    1   0.1   2.02  0.10202     0\n",
      "1     0    2   0.1   2.97  0.10297     1\n",
      "2     0    4   1.0   5.05  0.15050     0\n",
      "3     1    0   1.0   1.01  0.11010     0\n",
      "4     1    1   0.1   2.02  0.10202     0\n",
      "5     1    3   0.1   3.96  0.10396     1\n",
      "6     1    4   1.0   5.05  0.15050     0\n",
      "7     2    0   1.0   1.01  0.11010     0\n",
      "8     2    1   0.1   2.02  0.10202     0\n",
      "9     2    2   1.0   2.97  0.12970     1\n",
      "10    2    3   0.1   3.96  0.10396     1\n",
      "first     7\n",
      "second    4\n",
      "dtype: int64\n",
      "              a    b    c\n",
      "2020-01-01  NaN  1.0  1.0\n",
      "2020-01-02  2.0  2.0  2.0\n",
      "2020-01-03  3.0  NaN  3.0\n",
      "2020-01-04  4.0  4.0  4.0\n",
      "2020-01-05  5.0  5.0  NaN\n",
      "first     200.0\n",
      "second    100.0\n",
      "dtype: float64\n",
      "                first     second\n",
      "2020-01-01  199.87990   99.87990\n",
      "2020-01-02  200.67186  100.77588\n",
      "2020-01-03        NaN  101.71618\n",
      "2020-01-04  202.75793  101.70822\n",
      "2020-01-05  203.35693  101.70822\n",
      "first     203.35693\n",
      "second    101.70822\n",
      "dtype: float64\n"
     ]
    }
   ],
   "source": [
    "print(portfolio_grouped.orders().records)\n",
    "print(portfolio_grouped.orders().count())\n",
    "print(portfolio_grouped.close)\n",
    "print(portfolio_grouped.init_cash())\n",
    "print(portfolio_grouped.value())\n",
    "print(portfolio_grouped.final_value())"
   ]
  },
  {
   "cell_type": "code",
   "execution_count": 100,
   "metadata": {},
   "outputs": [
    {
     "name": "stdout",
     "output_type": "stream",
     "text": [
      "   col  idx  size  price     fees  side\n",
      "0    0    1   0.1   2.02  0.10202     0\n",
      "1    0    2   0.1   2.97  0.10297     1\n",
      "2    0    4   1.0   5.05  0.15050     0\n",
      "3    1    0   1.0   1.01  0.11010     0\n",
      "4    1    1   0.1   2.02  0.10202     0\n",
      "5    1    3   0.1   3.96  0.10396     1\n",
      "6    1    4   1.0   5.05  0.15050     0\n",
      "7\n",
      "              a    b\n",
      "2020-01-01  NaN  1.0\n",
      "2020-01-02  2.0  2.0\n",
      "2020-01-03  3.0  NaN\n",
      "2020-01-04  4.0  4.0\n",
      "2020-01-05  5.0  5.0\n",
      "200.0\n",
      "2020-01-01    199.87990\n",
      "2020-01-02    200.67186\n",
      "2020-01-03          NaN\n",
      "2020-01-04    202.75793\n",
      "2020-01-05    203.35693\n",
      "Name: first, dtype: float64\n",
      "203.35693\n"
     ]
    }
   ],
   "source": [
    "print(portfolio_grouped['first'].orders().records)\n",
    "print(portfolio_grouped['first'].orders().count())\n",
    "print(portfolio_grouped['first'].close)\n",
    "print(portfolio_grouped['first'].init_cash())\n",
    "print(portfolio_grouped['first'].value())\n",
    "print(portfolio_grouped['first'].final_value())"
   ]
  },
  {
   "cell_type": "code",
   "execution_count": 101,
   "metadata": {},
   "outputs": [
    {
     "name": "stdout",
     "output_type": "stream",
     "text": [
      "   col  idx  size  price     fees  side\n",
      "0    0    1   0.1   2.02  0.10202     0\n",
      "1    0    2   0.1   2.97  0.10297     1\n",
      "2    0    4   1.0   5.05  0.15050     0\n",
      "3    1    0   1.0   1.01  0.11010     0\n",
      "4    1    1   0.1   2.02  0.10202     0\n",
      "5    1    3   0.1   3.96  0.10396     1\n",
      "6    1    4   1.0   5.05  0.15050     0\n",
      "first    7\n",
      "dtype: int64\n",
      "              a    b\n",
      "2020-01-01  NaN  1.0\n",
      "2020-01-02  2.0  2.0\n",
      "2020-01-03  3.0  NaN\n",
      "2020-01-04  4.0  4.0\n",
      "2020-01-05  5.0  5.0\n",
      "first    200.0\n",
      "dtype: float64\n",
      "                first\n",
      "2020-01-01  199.87990\n",
      "2020-01-02  200.67186\n",
      "2020-01-03        NaN\n",
      "2020-01-04  202.75793\n",
      "2020-01-05  203.35693\n",
      "first    203.35693\n",
      "dtype: float64\n"
     ]
    }
   ],
   "source": [
    "print(portfolio_grouped[['first']].orders().records)  # same because of collapse_group\n",
    "print(portfolio_grouped[['first']].orders().count())\n",
    "print(portfolio_grouped[['first']].close)\n",
    "print(portfolio_grouped[['first']].init_cash())\n",
    "print(portfolio_grouped[['first']].value())\n",
    "print(portfolio_grouped[['first']].final_value())"
   ]
  },
  {
   "cell_type": "code",
   "execution_count": 102,
   "metadata": {},
   "outputs": [
    {
     "name": "stdout",
     "output_type": "stream",
     "text": [
      "   col  idx  size  price     fees  side\n",
      "0    0    0   1.0   1.01  0.11010     0\n",
      "1    0    1   0.1   2.02  0.10202     0\n",
      "2    0    2   1.0   2.97  0.12970     1\n",
      "3    0    3   0.1   3.96  0.10396     1\n",
      "4\n",
      "2020-01-01    1.0\n",
      "2020-01-02    2.0\n",
      "2020-01-03    3.0\n",
      "2020-01-04    4.0\n",
      "2020-01-05    NaN\n",
      "Name: c, dtype: float64\n",
      "100.0\n",
      "2020-01-01     99.87990\n",
      "2020-01-02    100.77588\n",
      "2020-01-03    101.71618\n",
      "2020-01-04    101.70822\n",
      "2020-01-05    101.70822\n",
      "Name: second, dtype: float64\n",
      "101.70822000000001\n"
     ]
    }
   ],
   "source": [
    "print(portfolio_grouped['second'].orders().records)\n",
    "print(portfolio_grouped['second'].orders().count())\n",
    "print(portfolio_grouped['second'].close)\n",
    "print(portfolio_grouped['second'].init_cash())\n",
    "print(portfolio_grouped['second'].value())\n",
    "print(portfolio_grouped['second'].final_value())"
   ]
  },
  {
   "cell_type": "code",
   "execution_count": 103,
   "metadata": {},
   "outputs": [
    {
     "name": "stdout",
     "output_type": "stream",
     "text": [
      "   col  idx  size  price     fees  side\n",
      "0    0    0   1.0   1.01  0.11010     0\n",
      "1    0    1   0.1   2.02  0.10202     0\n",
      "2    0    2   1.0   2.97  0.12970     1\n",
      "3    0    3   0.1   3.96  0.10396     1\n",
      "second    4\n",
      "dtype: int64\n",
      "              c\n",
      "2020-01-01  1.0\n",
      "2020-01-02  2.0\n",
      "2020-01-03  3.0\n",
      "2020-01-04  4.0\n",
      "2020-01-05  NaN\n",
      "second    100.0\n",
      "dtype: float64\n",
      "               second\n",
      "2020-01-01   99.87990\n",
      "2020-01-02  100.77588\n",
      "2020-01-03  101.71618\n",
      "2020-01-04  101.70822\n",
      "2020-01-05  101.70822\n",
      "second    101.70822\n",
      "dtype: float64\n"
     ]
    }
   ],
   "source": [
    "print(portfolio_grouped[['second']].orders().records)\n",
    "print(portfolio_grouped[['second']].orders().count())\n",
    "print(portfolio_grouped[['second']].close)\n",
    "print(portfolio_grouped[['second']].init_cash())\n",
    "print(portfolio_grouped[['second']].value())\n",
    "print(portfolio_grouped[['second']].final_value())"
   ]
  },
  {
   "cell_type": "code",
   "execution_count": 104,
   "metadata": {},
   "outputs": [
    {
     "name": "stdout",
     "output_type": "stream",
     "text": [
      "   col  idx  size  price     fees  side\n",
      "0    0    1   0.1   2.02  0.10202     0\n",
      "1    0    2   0.1   2.97  0.10297     1\n",
      "2    0    4   1.0   5.05  0.15050     0\n",
      "3    1    0   1.0   1.01  0.11010     0\n",
      "4    1    1   0.1   2.02  0.10202     0\n",
      "5    1    3   0.1   3.96  0.10396     1\n",
      "6    1    4   1.0   5.05  0.15050     0\n",
      "7\n",
      "              a    b\n",
      "2020-01-01  NaN  1.0\n",
      "2020-01-02  2.0  2.0\n",
      "2020-01-03  3.0  NaN\n",
      "2020-01-04  4.0  4.0\n",
      "2020-01-05  5.0  5.0\n",
      "200.0\n",
      "2020-01-01    199.87990\n",
      "2020-01-02    200.67186\n",
      "2020-01-03          NaN\n",
      "2020-01-04    202.75793\n",
      "2020-01-05    203.35693\n",
      "Name: first, dtype: float64\n",
      "203.35692999999995\n"
     ]
    }
   ],
   "source": [
    "print(portfolio_shared['first'].orders().records)\n",
    "print(portfolio_shared['first'].orders().count())\n",
    "print(portfolio_shared['first'].close)\n",
    "print(portfolio_shared['first'].init_cash())\n",
    "print(portfolio_shared['first'].value())\n",
    "print(portfolio_shared['first'].final_value())"
   ]
  },
  {
   "cell_type": "code",
   "execution_count": 105,
   "metadata": {},
   "outputs": [
    {
     "name": "stdout",
     "output_type": "stream",
     "text": [
      "   col  idx  size  price     fees  side\n",
      "0    0    1   0.1   2.02  0.10202     0\n",
      "1    0    2   0.1   2.97  0.10297     1\n",
      "2    0    4   1.0   5.05  0.15050     0\n",
      "3    1    0   1.0   1.01  0.11010     0\n",
      "4    1    1   0.1   2.02  0.10202     0\n",
      "5    1    3   0.1   3.96  0.10396     1\n",
      "6    1    4   1.0   5.05  0.15050     0\n",
      "first    7\n",
      "dtype: int64\n",
      "              a    b\n",
      "2020-01-01  NaN  1.0\n",
      "2020-01-02  2.0  2.0\n",
      "2020-01-03  3.0  NaN\n",
      "2020-01-04  4.0  4.0\n",
      "2020-01-05  5.0  5.0\n",
      "first    200.0\n",
      "dtype: float64\n",
      "                first\n",
      "2020-01-01  199.87990\n",
      "2020-01-02  200.67186\n",
      "2020-01-03        NaN\n",
      "2020-01-04  202.75793\n",
      "2020-01-05  203.35693\n",
      "first    203.35693\n",
      "dtype: float64\n"
     ]
    }
   ],
   "source": [
    "print(portfolio_shared[['first']].orders().records)\n",
    "print(portfolio_shared[['first']].orders().count())\n",
    "print(portfolio_shared[['first']].close)\n",
    "print(portfolio_shared[['first']].init_cash())\n",
    "print(portfolio_shared[['first']].value())\n",
    "print(portfolio_shared[['first']].final_value())"
   ]
  },
  {
   "cell_type": "code",
   "execution_count": 106,
   "metadata": {},
   "outputs": [
    {
     "name": "stdout",
     "output_type": "stream",
     "text": [
      "   col  idx  size  price     fees  side\n",
      "0    0    0   1.0   1.01  0.11010     0\n",
      "1    0    1   0.1   2.02  0.10202     0\n",
      "2    0    2   1.0   2.97  0.12970     1\n",
      "3    0    3   0.1   3.96  0.10396     1\n",
      "4\n",
      "2020-01-01    1.0\n",
      "2020-01-02    2.0\n",
      "2020-01-03    3.0\n",
      "2020-01-04    4.0\n",
      "2020-01-05    NaN\n",
      "Name: c, dtype: float64\n",
      "100.0\n",
      "2020-01-01     99.87990\n",
      "2020-01-02    100.77588\n",
      "2020-01-03    101.71618\n",
      "2020-01-04    101.70822\n",
      "2020-01-05    101.70822\n",
      "Name: second, dtype: float64\n",
      "101.70822000000001\n"
     ]
    }
   ],
   "source": [
    "print(portfolio_shared['second'].orders().records)\n",
    "print(portfolio_shared['second'].orders().count())\n",
    "print(portfolio_shared['second'].close)\n",
    "print(portfolio_shared['second'].init_cash())\n",
    "print(portfolio_shared['second'].value())\n",
    "print(portfolio_shared['second'].final_value())"
   ]
  },
  {
   "cell_type": "code",
   "execution_count": 107,
   "metadata": {},
   "outputs": [
    {
     "name": "stdout",
     "output_type": "stream",
     "text": [
      "   col  idx  size  price     fees  side\n",
      "0    0    0   1.0   1.01  0.11010     0\n",
      "1    0    1   0.1   2.02  0.10202     0\n",
      "2    0    2   1.0   2.97  0.12970     1\n",
      "3    0    3   0.1   3.96  0.10396     1\n",
      "second    4\n",
      "dtype: int64\n",
      "              c\n",
      "2020-01-01  1.0\n",
      "2020-01-02  2.0\n",
      "2020-01-03  3.0\n",
      "2020-01-04  4.0\n",
      "2020-01-05  NaN\n",
      "second    100.0\n",
      "dtype: float64\n",
      "               second\n",
      "2020-01-01   99.87990\n",
      "2020-01-02  100.77588\n",
      "2020-01-03  101.71618\n",
      "2020-01-04  101.70822\n",
      "2020-01-05  101.70822\n",
      "second    101.70822\n",
      "dtype: float64\n"
     ]
    }
   ],
   "source": [
    "print(portfolio_shared[['second']].orders().records)\n",
    "print(portfolio_shared[['second']].orders().count())\n",
    "print(portfolio_shared[['second']].close)\n",
    "print(portfolio_shared[['second']].init_cash())\n",
    "print(portfolio_shared[['second']].value())\n",
    "print(portfolio_shared[['second']].final_value())"
   ]
  },
  {
   "cell_type": "code",
   "execution_count": 108,
   "metadata": {},
   "outputs": [
    {
     "name": "stdout",
     "output_type": "stream",
     "text": [
      "6.54 ms ± 1.37 ms per loop (mean ± std. dev. of 7 runs, 100 loops each)\n",
      "39.3 ms ± 6.93 ms per loop (mean ± std. dev. of 7 runs, 10 loops each)\n",
      "4.81 ms ± 62.3 µs per loop (mean ± std. dev. of 7 runs, 100 loops each)\n",
      "32.8 ms ± 251 µs per loop (mean ± std. dev. of 7 runs, 10 loops each)\n",
      "5.08 ms ± 150 µs per loop (mean ± std. dev. of 7 runs, 100 loops each)\n",
      "36.2 ms ± 2.85 ms per loop (mean ± std. dev. of 7 runs, 10 loops each)\n"
     ]
    }
   ],
   "source": [
    "%timeit big_portfolio.iloc[0]\n",
    "%timeit big_portfolio.iloc[:]\n",
    "%timeit big_portfolio_grouped.iloc[0]\n",
    "%timeit big_portfolio_grouped.iloc[:]\n",
    "%timeit big_portfolio_shared.iloc[0]\n",
    "%timeit big_portfolio_shared.iloc[:]"
   ]
  },
  {
   "cell_type": "code",
   "execution_count": 109,
   "metadata": {},
   "outputs": [
    {
     "name": "stdout",
     "output_type": "stream",
     "text": [
      "False\n",
      "False\n",
      "True\n"
     ]
    }
   ],
   "source": [
    "print(portfolio.cash_sharing)\n",
    "print(portfolio_grouped.cash_sharing)\n",
    "print(portfolio_shared.cash_sharing)"
   ]
  },
  {
   "cell_type": "code",
   "execution_count": 110,
   "metadata": {},
   "outputs": [
    {
     "name": "stdout",
     "output_type": "stream",
     "text": [
      "            a  b  c\n",
      "2020-01-01  0  0  0\n",
      "2020-01-02  0  0  0\n",
      "2020-01-03  0  0  0\n",
      "2020-01-04  0  0  0\n",
      "2020-01-05  0  0  0\n",
      "            a  b  c\n",
      "2020-01-01  1  0  0\n",
      "2020-01-02  1  0  0\n",
      "2020-01-03  1  0  0\n",
      "2020-01-04  1  0  0\n",
      "2020-01-05  1  0  0\n",
      "            a  b  c\n",
      "2020-01-01  1  0  0\n",
      "2020-01-02  1  0  0\n",
      "2020-01-03  1  0  0\n",
      "2020-01-04  1  0  0\n",
      "2020-01-05  1  0  0\n"
     ]
    }
   ],
   "source": [
    "print(portfolio.call_seq)\n",
    "print(portfolio_grouped.call_seq)\n",
    "print(portfolio_shared.call_seq)"
   ]
  },
  {
   "cell_type": "code",
   "execution_count": 111,
   "metadata": {},
   "outputs": [
    {
     "name": "stdout",
     "output_type": "stream",
     "text": [
      "                first     second\n",
      "2020-01-01  199.87990   99.87990\n",
      "2020-01-02  200.67186  100.77588\n",
      "2020-01-03        NaN  101.71618\n",
      "2020-01-04  202.75793  101.70822\n",
      "2020-01-05  203.35693  101.70822\n"
     ]
    }
   ],
   "source": [
    "print(portfolio.regroup(group_by).value())"
   ]
  },
  {
   "cell_type": "code",
   "execution_count": 112,
   "metadata": {},
   "outputs": [
    {
     "name": "stdout",
     "output_type": "stream",
     "text": [
      "              a    b    c\n",
      "2020-01-01  NaN  1.0  1.0\n",
      "2020-01-02  2.0  2.0  2.0\n",
      "2020-01-03  3.0  NaN  3.0\n",
      "2020-01-04  4.0  4.0  4.0\n",
      "2020-01-05  5.0  5.0  NaN\n",
      "              a    b    c\n",
      "2020-01-01  NaN  1.0  1.0\n",
      "2020-01-02  2.0  2.0  2.0\n",
      "2020-01-03  3.0  NaN  3.0\n",
      "2020-01-04  4.0  4.0  4.0\n",
      "2020-01-05  5.0  5.0  NaN\n",
      "              a    b    c\n",
      "2020-01-01  NaN  1.0  1.0\n",
      "2020-01-02  2.0  2.0  2.0\n",
      "2020-01-03  3.0  NaN  3.0\n",
      "2020-01-04  4.0  4.0  4.0\n",
      "2020-01-05  5.0  5.0  NaN\n"
     ]
    }
   ],
   "source": [
    "print(portfolio.close)\n",
    "print(portfolio_grouped.close)\n",
    "print(portfolio_shared.close)"
   ]
  },
  {
   "cell_type": "code",
   "execution_count": 113,
   "metadata": {},
   "outputs": [
    {
     "name": "stdout",
     "output_type": "stream",
     "text": [
      "              a    b    c\n",
      "2020-01-01  NaN  1.0  1.0\n",
      "2020-01-02  2.0  2.0  2.0\n",
      "2020-01-03  3.0  NaN  3.0\n",
      "2020-01-04  4.0  4.0  4.0\n",
      "2020-01-05  5.0  5.0  NaN\n",
      "              a    b    c\n",
      "2020-01-01  NaN  1.0  1.0\n",
      "2020-01-02  2.0  2.0  2.0\n",
      "2020-01-03  3.0  2.0  3.0\n",
      "2020-01-04  4.0  4.0  4.0\n",
      "2020-01-05  5.0  5.0  4.0\n",
      "              a    b    c\n",
      "2020-01-01  2.0  1.0  1.0\n",
      "2020-01-02  2.0  2.0  2.0\n",
      "2020-01-03  3.0  4.0  3.0\n",
      "2020-01-04  4.0  4.0  4.0\n",
      "2020-01-05  5.0  5.0  NaN\n",
      "              a    b    c\n",
      "2020-01-01  2.0  1.0  1.0\n",
      "2020-01-02  2.0  2.0  2.0\n",
      "2020-01-03  3.0  2.0  3.0\n",
      "2020-01-04  4.0  4.0  4.0\n",
      "2020-01-05  5.0  5.0  4.0\n"
     ]
    }
   ],
   "source": [
    "print(portfolio.fill_close(ffill=False, bfill=False))\n",
    "print(portfolio.fill_close(ffill=True, bfill=False))\n",
    "print(portfolio.fill_close(ffill=False, bfill=True))\n",
    "print(portfolio.fill_close(ffill=True, bfill=True))"
   ]
  },
  {
   "cell_type": "code",
   "execution_count": 114,
   "metadata": {},
   "outputs": [
    {
     "name": "stdout",
     "output_type": "stream",
     "text": [
      "179 µs ± 17.6 µs per loop (mean ± std. dev. of 7 runs, 1000 loops each)\n"
     ]
    }
   ],
   "source": [
    "%timeit big_portfolio.fill_close()"
   ]
  },
  {
   "cell_type": "code",
   "execution_count": 116,
   "metadata": {},
   "outputs": [
    {
     "name": "stdout",
     "output_type": "stream",
     "text": [
      "a    14000.0\n",
      "b    12000.0\n",
      "c    10000.0\n",
      "dtype: float64\n",
      "first     26000.0\n",
      "second    10000.0\n",
      "dtype: float64\n",
      "first     26000.0\n",
      "second    10000.0\n",
      "dtype: float64\n",
      "a    14000.0\n",
      "b    14000.0\n",
      "c    14000.0\n",
      "dtype: float64\n",
      "first     26000.0\n",
      "second    26000.0\n",
      "dtype: float64\n",
      "first     26000.0\n",
      "second    26000.0\n",
      "dtype: float64\n"
     ]
    }
   ],
   "source": [
    "print(vbt.Portfolio.from_orders(\n",
    "    price_na, 1000., init_cash=InitCashMode.Auto, group_by=None).init_cash())\n",
    "\n",
    "print(vbt.Portfolio.from_orders(\n",
    "    price_na, 1000., init_cash=InitCashMode.Auto, group_by=group_by).init_cash())\n",
    "\n",
    "print(vbt.Portfolio.from_orders(\n",
    "    price_na, 1000., init_cash=InitCashMode.Auto, group_by=group_by, cash_sharing=True).init_cash())\n",
    "\n",
    "print(vbt.Portfolio.from_orders(\n",
    "    price_na, 1000., init_cash=InitCashMode.AutoAlign, group_by=None).init_cash())\n",
    "\n",
    "print(vbt.Portfolio.from_orders(\n",
    "    price_na, 1000., init_cash=InitCashMode.AutoAlign, group_by=group_by).init_cash())\n",
    "\n",
    "print(vbt.Portfolio.from_orders(\n",
    "    price_na, 1000., init_cash=InitCashMode.AutoAlign, group_by=group_by, cash_sharing=True).init_cash())"
   ]
  },
  {
   "cell_type": "code",
   "execution_count": 118,
   "metadata": {},
   "outputs": [
    {
     "name": "stdout",
     "output_type": "stream",
     "text": [
      "a    100.0\n",
      "b    100.0\n",
      "c    100.0\n",
      "dtype: float64\n",
      "a    100.0\n",
      "b    100.0\n",
      "c    100.0\n",
      "dtype: float64\n",
      "a    200.0\n",
      "b    200.0\n",
      "c    100.0\n",
      "dtype: float64\n",
      "first     200.0\n",
      "second    100.0\n",
      "dtype: float64\n",
      "first     200.0\n",
      "second    100.0\n",
      "dtype: float64\n",
      "first     200.0\n",
      "second    100.0\n",
      "dtype: float64\n"
     ]
    }
   ],
   "source": [
    "print(portfolio.init_cash())\n",
    "print(portfolio_grouped.init_cash(group_by=False))\n",
    "print(portfolio_shared.init_cash(group_by=False))\n",
    "\n",
    "print(portfolio.init_cash(group_by=group_by))\n",
    "print(portfolio_grouped.init_cash())\n",
    "print(portfolio_shared.init_cash())"
   ]
  },
  {
   "cell_type": "code",
   "execution_count": 119,
   "metadata": {},
   "outputs": [
    {
     "name": "stdout",
     "output_type": "stream",
     "text": [
      "189 µs ± 63.4 µs per loop (mean ± std. dev. of 7 runs, 1 loop each)\n",
      "415 µs ± 11.8 µs per loop (mean ± std. dev. of 7 runs, 1000 loops each)\n",
      "572 µs ± 113 µs per loop (mean ± std. dev. of 7 runs, 1000 loops each)\n",
      "565 µs ± 13.5 µs per loop (mean ± std. dev. of 7 runs, 1000 loops each)\n",
      "586 µs ± 81.9 µs per loop (mean ± std. dev. of 7 runs, 1000 loops each)\n",
      "573 µs ± 17.5 µs per loop (mean ± std. dev. of 7 runs, 1000 loops each)\n"
     ]
    }
   ],
   "source": [
    "%timeit big_portfolio.init_cash()\n",
    "%timeit big_portfolio_grouped.init_cash(group_by=False)\n",
    "%timeit big_portfolio_shared.init_cash(group_by=False)\n",
    "\n",
    "%timeit big_portfolio.init_cash(group_by=big_group_by)\n",
    "%timeit big_portfolio_grouped.init_cash()\n",
    "%timeit big_portfolio_shared.init_cash()"
   ]
  },
  {
   "cell_type": "code",
   "execution_count": 120,
   "metadata": {},
   "outputs": [
    {
     "name": "stdout",
     "output_type": "stream",
     "text": [
      "                  a        b        c\n",
      "2020-01-01  0.00000 -1.12010 -1.12010\n",
      "2020-01-02 -0.30402 -0.30402 -0.30402\n",
      "2020-01-03  0.19403  0.00000  2.84030\n",
      "2020-01-04  0.00000  0.29204  0.29204\n",
      "2020-01-05 -5.20050 -5.20050  0.00000\n",
      "                  a        b        c\n",
      "2020-01-01  0.00000 -1.12010 -1.12010\n",
      "2020-01-02 -0.30402 -0.30402 -0.30402\n",
      "2020-01-03  0.19403  0.00000  2.84030\n",
      "2020-01-04  0.00000  0.29204  0.29204\n",
      "2020-01-05 -5.20050 -5.20050  0.00000\n",
      "                  a        b        c\n",
      "2020-01-01  0.00000 -1.12010 -1.12010\n",
      "2020-01-02 -0.30402 -0.30402 -0.30402\n",
      "2020-01-03  0.19403  0.00000  2.84030\n",
      "2020-01-04  0.00000  0.29204  0.29204\n",
      "2020-01-05 -5.20050 -5.20050  0.00000\n",
      "               first   second\n",
      "2020-01-01  -1.12010 -1.12010\n",
      "2020-01-02  -0.60804 -0.30402\n",
      "2020-01-03   0.19403  2.84030\n",
      "2020-01-04   0.29204  0.29204\n",
      "2020-01-05 -10.40100  0.00000\n",
      "               first   second\n",
      "2020-01-01  -1.12010 -1.12010\n",
      "2020-01-02  -0.60804 -0.30402\n",
      "2020-01-03   0.19403  2.84030\n",
      "2020-01-04   0.29204  0.29204\n",
      "2020-01-05 -10.40100  0.00000\n",
      "               first   second\n",
      "2020-01-01  -1.12010 -1.12010\n",
      "2020-01-02  -0.60804 -0.30402\n",
      "2020-01-03   0.19403  2.84030\n",
      "2020-01-04   0.29204  0.29204\n",
      "2020-01-05 -10.40100  0.00000\n"
     ]
    }
   ],
   "source": [
    "print(portfolio.cash_flow())\n",
    "print(portfolio_grouped.cash_flow(group_by=False))\n",
    "print(portfolio_shared.cash_flow(group_by=False))\n",
    "\n",
    "print(portfolio.cash_flow(group_by=group_by))\n",
    "print(portfolio_grouped.cash_flow())\n",
    "print(portfolio_shared.cash_flow())"
   ]
  },
  {
   "cell_type": "code",
   "execution_count": 121,
   "metadata": {},
   "outputs": [
    {
     "name": "stdout",
     "output_type": "stream",
     "text": [
      "8.36 ms ± 68.3 µs per loop (mean ± std. dev. of 7 runs, 100 loops each)\n",
      "8.4 ms ± 76.4 µs per loop (mean ± std. dev. of 7 runs, 100 loops each)\n",
      "8.66 ms ± 200 µs per loop (mean ± std. dev. of 7 runs, 100 loops each)\n",
      "14.2 ms ± 134 µs per loop (mean ± std. dev. of 7 runs, 100 loops each)\n",
      "14.4 ms ± 192 µs per loop (mean ± std. dev. of 7 runs, 100 loops each)\n",
      "15.5 ms ± 2.2 ms per loop (mean ± std. dev. of 7 runs, 100 loops each)\n"
     ]
    }
   ],
   "source": [
    "%timeit big_portfolio.cash_flow()\n",
    "%timeit big_portfolio_grouped.cash_flow(group_by=False)\n",
    "%timeit big_portfolio_shared.cash_flow(group_by=False)\n",
    "\n",
    "%timeit big_portfolio.cash_flow(group_by=big_group_by)\n",
    "%timeit big_portfolio_grouped.cash_flow()\n",
    "%timeit big_portfolio_shared.cash_flow()"
   ]
  },
  {
   "cell_type": "code",
   "execution_count": 122,
   "metadata": {},
   "outputs": [
    {
     "name": "stdout",
     "output_type": "stream",
     "text": [
      "                    a         b          c\n",
      "2020-01-01  100.00000  98.87990   98.87990\n",
      "2020-01-02   99.69598  98.57588   98.57588\n",
      "2020-01-03   99.89001  98.57588  101.41618\n",
      "2020-01-04   99.89001  98.86792  101.70822\n",
      "2020-01-05   94.68951  93.66742  101.70822\n",
      "                    a         b          c\n",
      "2020-01-01  100.00000  98.87990   98.87990\n",
      "2020-01-02   99.69598  98.57588   98.57588\n",
      "2020-01-03   99.89001  98.57588  101.41618\n",
      "2020-01-04   99.89001  98.86792  101.70822\n",
      "2020-01-05   94.68951  93.66742  101.70822\n",
      "                    a          b          c\n",
      "2020-01-01  200.00000  198.87990   98.87990\n",
      "2020-01-02  199.69598  198.57588   98.57588\n",
      "2020-01-03  199.89001  198.57588  101.41618\n",
      "2020-01-04  199.89001  198.86792  101.70822\n",
      "2020-01-05  194.68951  193.66742  101.70822\n",
      "                    a          b          c\n",
      "2020-01-01  198.87990  198.87990   98.87990\n",
      "2020-01-02  198.27186  198.57588   98.57588\n",
      "2020-01-03  198.46589  198.27186  101.41618\n",
      "2020-01-04  198.75793  198.75793  101.70822\n",
      "2020-01-05  188.35693  193.55743  101.70822\n",
      "                first     second\n",
      "2020-01-01  198.87990   98.87990\n",
      "2020-01-02  198.27186   98.57588\n",
      "2020-01-03  198.46589  101.41618\n",
      "2020-01-04  198.75793  101.70822\n",
      "2020-01-05  188.35693  101.70822\n",
      "                first     second\n",
      "2020-01-01  198.87990   98.87990\n",
      "2020-01-02  198.27186   98.57588\n",
      "2020-01-03  198.46589  101.41618\n",
      "2020-01-04  198.75793  101.70822\n",
      "2020-01-05  188.35693  101.70822\n",
      "                first     second\n",
      "2020-01-01  198.87990   98.87990\n",
      "2020-01-02  198.27186   98.57588\n",
      "2020-01-03  198.46589  101.41618\n",
      "2020-01-04  198.75793  101.70822\n",
      "2020-01-05  188.35693  101.70822\n"
     ]
    }
   ],
   "source": [
    "print(portfolio.cash())\n",
    "print(portfolio_grouped.cash(group_by=False))\n",
    "print(portfolio_shared.cash(group_by=False))\n",
    "print(portfolio_shared.cash(group_by=False, in_sim_order=True))\n",
    "\n",
    "print(portfolio.cash(group_by=group_by))\n",
    "print(portfolio_grouped.cash())\n",
    "print(portfolio_shared.cash())"
   ]
  },
  {
   "cell_type": "code",
   "execution_count": 123,
   "metadata": {},
   "outputs": [
    {
     "name": "stdout",
     "output_type": "stream",
     "text": [
      "22.4 ms ± 675 µs per loop (mean ± std. dev. of 7 runs, 1 loop each)\n",
      "25.1 ms ± 1.23 ms per loop (mean ± std. dev. of 7 runs, 10 loops each)\n",
      "25.4 ms ± 950 µs per loop (mean ± std. dev. of 7 runs, 10 loops each)\n",
      "22.6 ms ± 585 µs per loop (mean ± std. dev. of 7 runs, 10 loops each)\n",
      "20.2 ms ± 848 µs per loop (mean ± std. dev. of 7 runs, 10 loops each)\n",
      "20.3 ms ± 461 µs per loop (mean ± std. dev. of 7 runs, 10 loops each)\n",
      "21.5 ms ± 1.61 ms per loop (mean ± std. dev. of 7 runs, 1 loop each)\n"
     ]
    }
   ],
   "source": [
    "%timeit big_portfolio.cash()\n",
    "%timeit big_portfolio_grouped.cash(group_by=False)\n",
    "%timeit big_portfolio_shared.cash(group_by=False)\n",
    "%timeit big_portfolio_shared.cash(group_by=False, in_sim_order=True)\n",
    "\n",
    "%timeit big_portfolio.cash(group_by=big_group_by)\n",
    "%timeit big_portfolio_grouped.cash()\n",
    "%timeit big_portfolio_shared.cash()"
   ]
  },
  {
   "cell_type": "code",
   "execution_count": 124,
   "metadata": {},
   "outputs": [
    {
     "name": "stdout",
     "output_type": "stream",
     "text": [
      "              a    b    c\n",
      "2020-01-01  0.0  1.0  1.0\n",
      "2020-01-02  0.1  0.1  0.1\n",
      "2020-01-03 -0.1  0.0 -1.0\n",
      "2020-01-04  0.0 -0.1 -0.1\n",
      "2020-01-05  1.0  1.0  0.0\n",
      "              a    b    c\n",
      "2020-01-01  0.0  1.0  1.0\n",
      "2020-01-02  0.1  0.1  0.1\n",
      "2020-01-03 -0.1  0.0 -1.0\n",
      "2020-01-04  0.0 -0.1 -0.1\n",
      "2020-01-05  1.0  1.0  0.0\n",
      "              a    b    c\n",
      "2020-01-01  0.0  1.0  1.0\n",
      "2020-01-02  0.1  0.1  0.1\n",
      "2020-01-03 -0.1  0.0 -1.0\n",
      "2020-01-04  0.0 -0.1 -0.1\n",
      "2020-01-05  1.0  1.0  0.0\n"
     ]
    }
   ],
   "source": [
    "print(portfolio.share_flow())\n",
    "print(portfolio_grouped.share_flow())\n",
    "print(portfolio_shared.share_flow())"
   ]
  },
  {
   "cell_type": "code",
   "execution_count": 125,
   "metadata": {},
   "outputs": [
    {
     "name": "stdout",
     "output_type": "stream",
     "text": [
      "10.2 ms ± 246 µs per loop (mean ± std. dev. of 7 runs, 100 loops each)\n",
      "10.2 ms ± 112 µs per loop (mean ± std. dev. of 7 runs, 100 loops each)\n",
      "10.4 ms ± 126 µs per loop (mean ± std. dev. of 7 runs, 100 loops each)\n"
     ]
    }
   ],
   "source": [
    "%timeit big_portfolio.share_flow()\n",
    "%timeit big_portfolio_grouped.share_flow()\n",
    "%timeit big_portfolio_shared.share_flow()"
   ]
  },
  {
   "cell_type": "code",
   "execution_count": 126,
   "metadata": {},
   "outputs": [
    {
     "name": "stdout",
     "output_type": "stream",
     "text": [
      "              a    b    c\n",
      "2020-01-01  0.0  1.0  1.0\n",
      "2020-01-02  0.1  1.1  1.1\n",
      "2020-01-03  0.0  1.1  0.1\n",
      "2020-01-04  0.0  1.0  0.0\n",
      "2020-01-05  1.0  2.0  0.0\n",
      "              a    b    c\n",
      "2020-01-01  0.0  1.0  1.0\n",
      "2020-01-02  0.1  1.1  1.1\n",
      "2020-01-03  0.0  1.1  0.1\n",
      "2020-01-04  0.0  1.0  0.0\n",
      "2020-01-05  1.0  2.0  0.0\n",
      "              a    b    c\n",
      "2020-01-01  0.0  1.0  1.0\n",
      "2020-01-02  0.1  1.1  1.1\n",
      "2020-01-03  0.0  1.1  0.1\n",
      "2020-01-04  0.0  1.0  0.0\n",
      "2020-01-05  1.0  2.0  0.0\n"
     ]
    }
   ],
   "source": [
    "print(portfolio.shares())\n",
    "print(portfolio_grouped.shares())\n",
    "print(portfolio_shared.shares())"
   ]
  },
  {
   "cell_type": "code",
   "execution_count": 127,
   "metadata": {},
   "outputs": [
    {
     "name": "stdout",
     "output_type": "stream",
     "text": [
      "17.6 ms ± 183 µs per loop (mean ± std. dev. of 7 runs, 10 loops each)\n",
      "17.8 ms ± 196 µs per loop (mean ± std. dev. of 7 runs, 100 loops each)\n",
      "17.9 ms ± 117 µs per loop (mean ± std. dev. of 7 runs, 100 loops each)\n"
     ]
    }
   ],
   "source": [
    "%timeit big_portfolio.shares()\n",
    "%timeit big_portfolio_grouped.shares()\n",
    "%timeit big_portfolio_shared.shares()"
   ]
  },
  {
   "cell_type": "code",
   "execution_count": 128,
   "metadata": {},
   "outputs": [
    {
     "data": {
      "text/plain": [
       "a    3\n",
       "b    4\n",
       "c    4\n",
       "dtype: int64"
      ]
     },
     "execution_count": 128,
     "metadata": {},
     "output_type": "execute_result"
    }
   ],
   "source": [
    "portfolio.orders().count()"
   ]
  },
  {
   "cell_type": "code",
   "execution_count": 131,
   "metadata": {},
   "outputs": [
    {
     "name": "stdout",
     "output_type": "stream",
     "text": [
      "a    3\n",
      "b    4\n",
      "c    4\n",
      "dtype: int64\n",
      "a    3\n",
      "b    4\n",
      "c    4\n",
      "dtype: int64\n",
      "a    3\n",
      "b    4\n",
      "c    4\n",
      "dtype: int64\n",
      "first     7\n",
      "second    4\n",
      "dtype: int64\n",
      "first     7\n",
      "second    4\n",
      "dtype: int64\n",
      "first     7\n",
      "second    4\n",
      "dtype: int64\n"
     ]
    }
   ],
   "source": [
    "print(portfolio.orders().count())\n",
    "print(portfolio_grouped.orders(group_by=False).count())\n",
    "print(portfolio_shared.orders(group_by=False).count())\n",
    "\n",
    "print(portfolio.orders(group_by=group_by).count())\n",
    "print(portfolio_grouped.orders().count())\n",
    "print(portfolio_shared.orders().count())"
   ]
  },
  {
   "cell_type": "code",
   "execution_count": 132,
   "metadata": {},
   "outputs": [
    {
     "name": "stdout",
     "output_type": "stream",
     "text": [
      "a    2\n",
      "b    2\n",
      "c    2\n",
      "dtype: int64\n",
      "a    1\n",
      "b    1\n",
      "c    2\n",
      "dtype: int64\n",
      "a    1\n",
      "b    1\n",
      "c    2\n",
      "dtype: int64\n",
      "a    1\n",
      "b    1\n",
      "c    2\n",
      "dtype: int64\n",
      "first     2\n",
      "second    2\n",
      "dtype: int64\n",
      "first     2\n",
      "second    2\n",
      "dtype: int64\n",
      "first     2\n",
      "second    2\n",
      "dtype: int64\n"
     ]
    }
   ],
   "source": [
    "print(portfolio.trades(incl_unrealized=True).count())\n",
    "\n",
    "print(portfolio.trades().count())\n",
    "print(portfolio_grouped.trades(group_by=False).count())\n",
    "print(portfolio_shared.trades(group_by=False).count())\n",
    "\n",
    "print(portfolio.trades(group_by=group_by).count())\n",
    "print(portfolio_grouped.trades().count())\n",
    "print(portfolio_shared.trades().count())"
   ]
  },
  {
   "cell_type": "code",
   "execution_count": 133,
   "metadata": {},
   "outputs": [
    {
     "name": "stdout",
     "output_type": "stream",
     "text": [
      "The slowest run took 6.09 times longer than the fastest. This could mean that an intermediate result is being cached.\n",
      "120 ms ± 65.4 ms per loop (mean ± std. dev. of 7 runs, 10 loops each)\n"
     ]
    }
   ],
   "source": [
    "%timeit big_portfolio.trades()"
   ]
  },
  {
   "cell_type": "code",
   "execution_count": 134,
   "metadata": {},
   "outputs": [
    {
     "name": "stdout",
     "output_type": "stream",
     "text": [
      "a    2\n",
      "b    1\n",
      "c    1\n",
      "dtype: int64\n",
      "a    1\n",
      "b    0\n",
      "c    1\n",
      "dtype: int64\n",
      "a    1\n",
      "b    0\n",
      "c    1\n",
      "dtype: int64\n",
      "a    1\n",
      "b    0\n",
      "c    1\n",
      "dtype: int64\n",
      "first     1\n",
      "second    1\n",
      "dtype: int64\n",
      "first     1\n",
      "second    1\n",
      "dtype: int64\n",
      "first     1\n",
      "second    1\n",
      "dtype: int64\n"
     ]
    }
   ],
   "source": [
    "print(portfolio.positions(incl_unrealized=True).count())\n",
    "\n",
    "print(portfolio.positions().count())\n",
    "print(portfolio_grouped.positions(group_by=False).count())\n",
    "print(portfolio_shared.positions(group_by=False).count())\n",
    "\n",
    "print(portfolio.positions(group_by=group_by).count())\n",
    "print(portfolio_grouped.positions().count())\n",
    "print(portfolio_shared.positions().count())"
   ]
  },
  {
   "cell_type": "code",
   "execution_count": 135,
   "metadata": {},
   "outputs": [
    {
     "name": "stdout",
     "output_type": "stream",
     "text": [
      "42 ms ± 13.6 ms per loop (mean ± std. dev. of 7 runs, 1 loop each)\n"
     ]
    }
   ],
   "source": [
    "%timeit big_portfolio.positions()"
   ]
  },
  {
   "cell_type": "code",
   "execution_count": 136,
   "metadata": {},
   "outputs": [
    {
     "name": "stdout",
     "output_type": "stream",
     "text": [
      "a    1\n",
      "b    0\n",
      "c    1\n",
      "dtype: int64\n",
      "a    1\n",
      "b    0\n",
      "c    1\n",
      "dtype: int64\n",
      "a    1\n",
      "b    0\n",
      "c    1\n",
      "dtype: int64\n",
      "first     0\n",
      "second    1\n",
      "dtype: int64\n",
      "first     0\n",
      "second    1\n",
      "dtype: int64\n",
      "first     0\n",
      "second    1\n",
      "dtype: int64\n"
     ]
    }
   ],
   "source": [
    "print(portfolio.drawdowns().count())\n",
    "print(portfolio_grouped.drawdowns(group_by=False).count())\n",
    "print(portfolio_shared.drawdowns(group_by=False).count())\n",
    "\n",
    "print(portfolio.drawdowns(group_by=group_by).count())\n",
    "print(portfolio_grouped.drawdowns().count())\n",
    "print(portfolio_shared.drawdowns().count())"
   ]
  },
  {
   "cell_type": "code",
   "execution_count": 137,
   "metadata": {},
   "outputs": [
    {
     "name": "stdout",
     "output_type": "stream",
     "text": [
      "55.9 ms ± 1.03 ms per loop (mean ± std. dev. of 7 runs, 10 loops each)\n"
     ]
    }
   ],
   "source": [
    "%timeit big_portfolio.drawdowns()"
   ]
  },
  {
   "cell_type": "code",
   "execution_count": 138,
   "metadata": {},
   "outputs": [
    {
     "name": "stdout",
     "output_type": "stream",
     "text": [
      "              a     b    c\n",
      "2020-01-01  0.0   1.0  1.0\n",
      "2020-01-02  0.2   2.2  2.2\n",
      "2020-01-03  0.0   NaN  0.3\n",
      "2020-01-04  0.0   4.0  0.0\n",
      "2020-01-05  5.0  10.0  0.0\n",
      "              a     b    c\n",
      "2020-01-01  0.0   1.0  1.0\n",
      "2020-01-02  0.2   2.2  2.2\n",
      "2020-01-03  0.0   NaN  0.3\n",
      "2020-01-04  0.0   4.0  0.0\n",
      "2020-01-05  5.0  10.0  0.0\n",
      "              a     b    c\n",
      "2020-01-01  0.0   1.0  1.0\n",
      "2020-01-02  0.2   2.2  2.2\n",
      "2020-01-03  0.0   NaN  0.3\n",
      "2020-01-04  0.0   4.0  0.0\n",
      "2020-01-05  5.0  10.0  0.0\n",
      "            first  second\n",
      "2020-01-01    1.0     1.0\n",
      "2020-01-02    2.4     2.2\n",
      "2020-01-03    NaN     0.3\n",
      "2020-01-04    4.0     0.0\n",
      "2020-01-05   15.0     0.0\n",
      "            first  second\n",
      "2020-01-01    1.0     1.0\n",
      "2020-01-02    2.4     2.2\n",
      "2020-01-03    NaN     0.3\n",
      "2020-01-04    4.0     0.0\n",
      "2020-01-05   15.0     0.0\n",
      "            first  second\n",
      "2020-01-01    1.0     1.0\n",
      "2020-01-02    2.4     2.2\n",
      "2020-01-03    NaN     0.3\n",
      "2020-01-04    4.0     0.0\n",
      "2020-01-05   15.0     0.0\n"
     ]
    }
   ],
   "source": [
    "print(portfolio.holding_value())\n",
    "print(portfolio_grouped.holding_value(group_by=False))\n",
    "print(portfolio_shared.holding_value(group_by=False))\n",
    "\n",
    "print(portfolio.holding_value(group_by=group_by))\n",
    "print(portfolio_grouped.holding_value())\n",
    "print(portfolio_shared.holding_value())"
   ]
  },
  {
   "cell_type": "code",
   "execution_count": 139,
   "metadata": {},
   "outputs": [
    {
     "name": "stdout",
     "output_type": "stream",
     "text": [
      "23.7 ms ± 386 µs per loop (mean ± std. dev. of 7 runs, 10 loops each)\n",
      "24.1 ms ± 313 µs per loop (mean ± std. dev. of 7 runs, 10 loops each)\n",
      "24.1 ms ± 291 µs per loop (mean ± std. dev. of 7 runs, 10 loops each)\n",
      "35.8 ms ± 292 µs per loop (mean ± std. dev. of 7 runs, 10 loops each)\n",
      "48.6 ms ± 5.87 ms per loop (mean ± std. dev. of 7 runs, 10 loops each)\n",
      "37.2 ms ± 991 µs per loop (mean ± std. dev. of 7 runs, 10 loops each)\n"
     ]
    }
   ],
   "source": [
    "%timeit big_portfolio.holding_value()\n",
    "%timeit big_portfolio_grouped.holding_value(group_by=False)\n",
    "%timeit big_portfolio_shared.holding_value(group_by=False)\n",
    "\n",
    "%timeit big_portfolio.holding_value(group_by=big_group_by)\n",
    "%timeit big_portfolio_grouped.holding_value()\n",
    "%timeit big_portfolio_shared.holding_value()"
   ]
  },
  {
   "cell_type": "code",
   "execution_count": 140,
   "metadata": {},
   "outputs": [
    {
     "name": "stdout",
     "output_type": "stream",
     "text": [
      "                    a          b          c\n",
      "2020-01-01  100.00000   99.87990   99.87990\n",
      "2020-01-02   99.89598  100.77588  100.77588\n",
      "2020-01-03   99.89001        NaN  101.71618\n",
      "2020-01-04   99.89001  102.86792  101.70822\n",
      "2020-01-05   99.68951  103.66742  101.70822\n",
      "                    a          b          c\n",
      "2020-01-01  100.00000   99.87990   99.87990\n",
      "2020-01-02   99.89598  100.77588  100.77588\n",
      "2020-01-03   99.89001        NaN  101.71618\n",
      "2020-01-04   99.89001  102.86792  101.70822\n",
      "2020-01-05   99.68951  103.66742  101.70822\n",
      "                    a          b          c\n",
      "2020-01-01  200.00000  199.87990   99.87990\n",
      "2020-01-02  199.89598  200.77588  100.77588\n",
      "2020-01-03  199.89001        NaN  101.71618\n",
      "2020-01-04  199.89001  202.86792  101.70822\n",
      "2020-01-05  199.68951  203.66742  101.70822\n",
      "                    a          b          c\n",
      "2020-01-01  199.87990  199.87990   99.87990\n",
      "2020-01-02  200.67186  200.77588  100.77588\n",
      "2020-01-03        NaN        NaN  101.71618\n",
      "2020-01-04  202.75793  202.75793  101.70822\n",
      "2020-01-05  203.35693  203.55743  101.70822\n",
      "                first     second\n",
      "2020-01-01  199.87990   99.87990\n",
      "2020-01-02  200.67186  100.77588\n",
      "2020-01-03        NaN  101.71618\n",
      "2020-01-04  202.75793  101.70822\n",
      "2020-01-05  203.35693  101.70822\n",
      "                first     second\n",
      "2020-01-01  199.87990   99.87990\n",
      "2020-01-02  200.67186  100.77588\n",
      "2020-01-03        NaN  101.71618\n",
      "2020-01-04  202.75793  101.70822\n",
      "2020-01-05  203.35693  101.70822\n",
      "                first     second\n",
      "2020-01-01  199.87990   99.87990\n",
      "2020-01-02  200.67186  100.77588\n",
      "2020-01-03        NaN  101.71618\n",
      "2020-01-04  202.75793  101.70822\n",
      "2020-01-05  203.35693  101.70822\n"
     ]
    }
   ],
   "source": [
    "print(portfolio.value())\n",
    "print(portfolio_grouped.value(group_by=False))\n",
    "print(portfolio_shared.value(group_by=False))\n",
    "print(portfolio_shared.value(group_by=False, in_sim_order=True))\n",
    "\n",
    "print(portfolio.value(group_by=group_by))\n",
    "print(portfolio_grouped.value())\n",
    "print(portfolio_shared.value())"
   ]
  },
  {
   "cell_type": "code",
   "execution_count": 141,
   "metadata": {},
   "outputs": [
    {
     "name": "stdout",
     "output_type": "stream",
     "text": [
      "53.2 ms ± 7.32 ms per loop (mean ± std. dev. of 7 runs, 10 loops each)\n",
      "61.7 ms ± 11.6 ms per loop (mean ± std. dev. of 7 runs, 10 loops each)\n",
      "64.1 ms ± 7.89 ms per loop (mean ± std. dev. of 7 runs, 10 loops each)\n",
      "82.1 ms ± 6.64 ms per loop (mean ± std. dev. of 7 runs, 10 loops each)\n",
      "59.9 ms ± 1.57 ms per loop (mean ± std. dev. of 7 runs, 10 loops each)\n",
      "59.9 ms ± 664 µs per loop (mean ± std. dev. of 7 runs, 10 loops each)\n",
      "60.1 ms ± 469 µs per loop (mean ± std. dev. of 7 runs, 10 loops each)\n"
     ]
    }
   ],
   "source": [
    "%timeit big_portfolio.value()\n",
    "%timeit big_portfolio_grouped.value(group_by=False)\n",
    "%timeit big_portfolio_shared.value(group_by=False)\n",
    "%timeit big_portfolio_shared.value(group_by=False, in_sim_order=True)\n",
    "\n",
    "%timeit big_portfolio.value(group_by=big_group_by)\n",
    "%timeit big_portfolio_grouped.value()\n",
    "%timeit big_portfolio_shared.value()"
   ]
  },
  {
   "cell_type": "code",
   "execution_count": 142,
   "metadata": {},
   "outputs": [
    {
     "name": "stdout",
     "output_type": "stream",
     "text": [
      "a     99.68951\n",
      "b    103.66742\n",
      "c    101.70822\n",
      "dtype: float64\n",
      "a     99.68951\n",
      "b    103.66742\n",
      "c    101.70822\n",
      "dtype: float64\n",
      "a    199.68951\n",
      "b    203.66742\n",
      "c    101.70822\n",
      "dtype: float64\n",
      "first     203.35693\n",
      "second    101.70822\n",
      "dtype: float64\n",
      "first     203.35693\n",
      "second    101.70822\n",
      "dtype: float64\n",
      "first     203.35693\n",
      "second    101.70822\n",
      "dtype: float64\n"
     ]
    }
   ],
   "source": [
    "print(portfolio.final_value())\n",
    "print(portfolio_grouped.final_value(group_by=False))\n",
    "print(portfolio_shared.final_value(group_by=False))\n",
    "\n",
    "print(portfolio.final_value(group_by=group_by))\n",
    "print(portfolio_grouped.final_value())\n",
    "print(portfolio_shared.final_value())"
   ]
  },
  {
   "cell_type": "code",
   "execution_count": 143,
   "metadata": {},
   "outputs": [
    {
     "name": "stdout",
     "output_type": "stream",
     "text": [
      "7 ms ± 889 µs per loop (mean ± std. dev. of 7 runs, 1 loop each)\n",
      "7.04 ms ± 112 µs per loop (mean ± std. dev. of 7 runs, 100 loops each)\n",
      "7.22 ms ± 847 µs per loop (mean ± std. dev. of 7 runs, 1 loop each)\n",
      "7.59 ms ± 168 µs per loop (mean ± std. dev. of 7 runs, 100 loops each)\n",
      "7.98 ms ± 136 µs per loop (mean ± std. dev. of 7 runs, 100 loops each)\n",
      "8.17 ms ± 172 µs per loop (mean ± std. dev. of 7 runs, 100 loops each)\n"
     ]
    }
   ],
   "source": [
    "%timeit big_portfolio.final_value()\n",
    "%timeit big_portfolio_grouped.final_value(group_by=False)\n",
    "%timeit big_portfolio_shared.final_value(group_by=False)\n",
    "\n",
    "%timeit big_portfolio.final_value(group_by=big_group_by)\n",
    "%timeit big_portfolio_grouped.final_value()\n",
    "%timeit big_portfolio_shared.final_value()"
   ]
  },
  {
   "cell_type": "code",
   "execution_count": 144,
   "metadata": {},
   "outputs": [
    {
     "name": "stdout",
     "output_type": "stream",
     "text": [
      "a   -0.31049\n",
      "b    3.66742\n",
      "c    1.70822\n",
      "dtype: float64\n",
      "a   -0.31049\n",
      "b    3.66742\n",
      "c    1.70822\n",
      "dtype: float64\n",
      "a   -0.31049\n",
      "b    3.66742\n",
      "c    1.70822\n",
      "dtype: float64\n",
      "first     3.35693\n",
      "second    1.70822\n",
      "dtype: float64\n",
      "first     3.35693\n",
      "second    1.70822\n",
      "dtype: float64\n",
      "first     3.35693\n",
      "second    1.70822\n",
      "dtype: float64\n"
     ]
    }
   ],
   "source": [
    "print(portfolio.total_profit())\n",
    "print(portfolio_grouped.total_profit(group_by=False))\n",
    "print(portfolio_shared.total_profit(group_by=False))\n",
    "\n",
    "print(portfolio.total_profit(group_by=group_by))\n",
    "print(portfolio_grouped.total_profit())\n",
    "print(portfolio_shared.total_profit())"
   ]
  },
  {
   "cell_type": "code",
   "execution_count": 145,
   "metadata": {},
   "outputs": [
    {
     "name": "stdout",
     "output_type": "stream",
     "text": [
      "6.53 ms ± 758 µs per loop (mean ± std. dev. of 7 runs, 100 loops each)\n",
      "7.37 ms ± 1.08 ms per loop (mean ± std. dev. of 7 runs, 100 loops each)\n",
      "6.72 ms ± 391 µs per loop (mean ± std. dev. of 7 runs, 100 loops each)\n",
      "6.62 ms ± 195 µs per loop (mean ± std. dev. of 7 runs, 100 loops each)\n",
      "7.54 ms ± 658 µs per loop (mean ± std. dev. of 7 runs, 100 loops each)\n",
      "7.27 ms ± 314 µs per loop (mean ± std. dev. of 7 runs, 100 loops each)\n"
     ]
    }
   ],
   "source": [
    "%timeit big_portfolio.total_profit()\n",
    "%timeit big_portfolio_grouped.total_profit(group_by=False)\n",
    "%timeit big_portfolio_shared.total_profit(group_by=False)\n",
    "\n",
    "%timeit big_portfolio.total_profit(group_by=big_group_by)\n",
    "%timeit big_portfolio_grouped.total_profit()\n",
    "%timeit big_portfolio_shared.total_profit()"
   ]
  },
  {
   "cell_type": "code",
   "execution_count": 146,
   "metadata": {},
   "outputs": [
    {
     "name": "stdout",
     "output_type": "stream",
     "text": [
      "a   -0.003105\n",
      "b    0.036674\n",
      "c    0.017082\n",
      "dtype: float64\n",
      "a   -0.003105\n",
      "b    0.036674\n",
      "c    0.017082\n",
      "dtype: float64\n",
      "a   -0.001552\n",
      "b    0.018337\n",
      "c    0.017082\n",
      "dtype: float64\n",
      "first     0.016785\n",
      "second    0.017082\n",
      "dtype: float64\n",
      "first     0.016785\n",
      "second    0.017082\n",
      "dtype: float64\n",
      "first     0.016785\n",
      "second    0.017082\n",
      "dtype: float64\n"
     ]
    }
   ],
   "source": [
    "print(portfolio.total_return())\n",
    "print(portfolio_grouped.total_return(group_by=False))\n",
    "print(portfolio_shared.total_return(group_by=False))\n",
    "\n",
    "print(portfolio.total_return(group_by=group_by))\n",
    "print(portfolio_grouped.total_return())\n",
    "print(portfolio_shared.total_return())"
   ]
  },
  {
   "cell_type": "code",
   "execution_count": 147,
   "metadata": {},
   "outputs": [
    {
     "name": "stdout",
     "output_type": "stream",
     "text": [
      "6.55 ms ± 501 µs per loop (mean ± std. dev. of 7 runs, 1 loop each)\n",
      "7.06 ms ± 113 µs per loop (mean ± std. dev. of 7 runs, 100 loops each)\n",
      "7.27 ms ± 139 µs per loop (mean ± std. dev. of 7 runs, 100 loops each)\n",
      "7.42 ms ± 144 µs per loop (mean ± std. dev. of 7 runs, 100 loops each)\n",
      "9.17 ms ± 1.48 ms per loop (mean ± std. dev. of 7 runs, 100 loops each)\n",
      "9.52 ms ± 1.9 ms per loop (mean ± std. dev. of 7 runs, 100 loops each)\n"
     ]
    }
   ],
   "source": [
    "%timeit big_portfolio.total_return()\n",
    "%timeit big_portfolio_grouped.total_return(group_by=False)\n",
    "%timeit big_portfolio_shared.total_return(group_by=False)\n",
    "\n",
    "%timeit big_portfolio.total_return(group_by=big_group_by)\n",
    "%timeit big_portfolio_grouped.total_return()\n",
    "%timeit big_portfolio_shared.total_return()"
   ]
  },
  {
   "cell_type": "code",
   "execution_count": 148,
   "metadata": {},
   "outputs": [
    {
     "name": "stdout",
     "output_type": "stream",
     "text": [
      "a    1.5\n",
      "b    4.0\n",
      "c    3.0\n",
      "dtype: float64\n",
      "a    1.5\n",
      "b    4.0\n",
      "c    3.0\n",
      "dtype: float64\n",
      "a    1.5\n",
      "b    4.0\n",
      "c    3.0\n",
      "dtype: float64\n",
      "first     2.75\n",
      "second    3.00\n",
      "dtype: float64\n",
      "first     2.75\n",
      "second    3.00\n",
      "dtype: float64\n",
      "first     2.75\n",
      "second    3.00\n",
      "dtype: float64\n"
     ]
    }
   ],
   "source": [
    "print(portfolio.buy_and_hold_return())\n",
    "print(portfolio_grouped.buy_and_hold_return(group_by=False))\n",
    "print(portfolio_shared.buy_and_hold_return(group_by=False))\n",
    "\n",
    "print(portfolio.buy_and_hold_return(group_by=group_by))\n",
    "print(portfolio_grouped.buy_and_hold_return())\n",
    "print(portfolio_shared.buy_and_hold_return())"
   ]
  },
  {
   "cell_type": "code",
   "execution_count": 149,
   "metadata": {},
   "outputs": [
    {
     "name": "stdout",
     "output_type": "stream",
     "text": [
      "328 µs ± 7.38 µs per loop (mean ± std. dev. of 7 runs, 1000 loops each)\n",
      "447 µs ± 15.7 µs per loop (mean ± std. dev. of 7 runs, 1000 loops each)\n",
      "448 µs ± 15.9 µs per loop (mean ± std. dev. of 7 runs, 1000 loops each)\n",
      "810 µs ± 16.3 µs per loop (mean ± std. dev. of 7 runs, 1000 loops each)\n",
      "818 µs ± 8.91 µs per loop (mean ± std. dev. of 7 runs, 1000 loops each)\n",
      "845 µs ± 11.2 µs per loop (mean ± std. dev. of 7 runs, 1000 loops each)\n"
     ]
    }
   ],
   "source": [
    "%timeit big_portfolio.buy_and_hold_return()\n",
    "%timeit big_portfolio_grouped.buy_and_hold_return(group_by=False)\n",
    "%timeit big_portfolio_shared.buy_and_hold_return(group_by=False)\n",
    "\n",
    "%timeit big_portfolio.buy_and_hold_return(group_by=big_group_by)\n",
    "%timeit big_portfolio_grouped.buy_and_hold_return()\n",
    "%timeit big_portfolio_shared.buy_and_hold_return()"
   ]
  },
  {
   "cell_type": "code",
   "execution_count": 150,
   "metadata": {},
   "outputs": [
    {
     "name": "stdout",
     "output_type": "stream",
     "text": [
      "                   a         b         c\n",
      "2020-01-01  0.000000 -0.107223 -0.107223\n",
      "2020-01-02 -0.342149  0.687091  0.687091\n",
      "2020-01-03 -0.029850       NaN  0.427409\n",
      "2020-01-04  0.000000       NaN -0.026533\n",
      "2020-01-05 -0.038554  0.086897  0.000000\n",
      "                   a         b         c\n",
      "2020-01-01  0.000000 -0.107223 -0.107223\n",
      "2020-01-02 -0.342149  0.687091  0.687091\n",
      "2020-01-03 -0.029850       NaN  0.427409\n",
      "2020-01-04  0.000000       NaN -0.026533\n",
      "2020-01-05 -0.038554  0.086897  0.000000\n",
      "                   a         b         c\n",
      "2020-01-01  0.000000 -0.107223 -0.107223\n",
      "2020-01-02 -0.342149  0.687091  0.687091\n",
      "2020-01-03 -0.029850       NaN  0.427409\n",
      "2020-01-04  0.000000       NaN -0.026533\n",
      "2020-01-05 -0.038554  0.086897  0.000000\n",
      "               first    second\n",
      "2020-01-01 -0.107223 -0.107223\n",
      "2020-01-02  0.492500  0.687091\n",
      "2020-01-03       NaN  0.427409\n",
      "2020-01-04       NaN -0.026533\n",
      "2020-01-05  0.041594  0.000000\n",
      "               first    second\n",
      "2020-01-01 -0.107223 -0.107223\n",
      "2020-01-02  0.492500  0.687091\n",
      "2020-01-03       NaN  0.427409\n",
      "2020-01-04       NaN -0.026533\n",
      "2020-01-05  0.041594  0.000000\n",
      "               first    second\n",
      "2020-01-01 -0.107223 -0.107223\n",
      "2020-01-02  0.492500  0.687091\n",
      "2020-01-03       NaN  0.427409\n",
      "2020-01-04       NaN -0.026533\n",
      "2020-01-05  0.041594  0.000000\n"
     ]
    }
   ],
   "source": [
    "print(portfolio.active_returns())\n",
    "print(portfolio_grouped.active_returns(group_by=False))\n",
    "print(portfolio_shared.active_returns(group_by=False))\n",
    "\n",
    "print(portfolio.active_returns(group_by=group_by))\n",
    "print(portfolio_grouped.active_returns())\n",
    "print(portfolio_shared.active_returns())"
   ]
  },
  {
   "cell_type": "code",
   "execution_count": 151,
   "metadata": {},
   "outputs": [
    {
     "name": "stdout",
     "output_type": "stream",
     "text": [
      "50.9 ms ± 3.69 ms per loop (mean ± std. dev. of 7 runs, 10 loops each)\n",
      "58 ms ± 6.21 ms per loop (mean ± std. dev. of 7 runs, 10 loops each)\n",
      "56.7 ms ± 6.98 ms per loop (mean ± std. dev. of 7 runs, 10 loops each)\n",
      "61.9 ms ± 9.09 ms per loop (mean ± std. dev. of 7 runs, 10 loops each)\n",
      "57.3 ms ± 1.83 ms per loop (mean ± std. dev. of 7 runs, 10 loops each)\n",
      "56.9 ms ± 596 µs per loop (mean ± std. dev. of 7 runs, 10 loops each)\n"
     ]
    }
   ],
   "source": [
    "%timeit big_portfolio.active_returns()\n",
    "%timeit big_portfolio_grouped.active_returns(group_by=False)\n",
    "%timeit big_portfolio_shared.active_returns(group_by=False)\n",
    "\n",
    "%timeit big_portfolio.active_returns(group_by=big_group_by)\n",
    "%timeit big_portfolio_grouped.active_returns()\n",
    "%timeit big_portfolio_shared.active_returns()"
   ]
  },
  {
   "cell_type": "code",
   "execution_count": 152,
   "metadata": {},
   "outputs": [
    {
     "name": "stdout",
     "output_type": "stream",
     "text": [
      "                   a         b         c\n",
      "2020-01-01  0.000000 -0.001201 -0.001201\n",
      "2020-01-02 -0.001040  0.008971  0.008971\n",
      "2020-01-03 -0.000060       NaN  0.009331\n",
      "2020-01-04  0.000000       NaN -0.000078\n",
      "2020-01-05 -0.002007  0.007772  0.000000\n",
      "                   a         b         c\n",
      "2020-01-01  0.000000 -0.001201 -0.001201\n",
      "2020-01-02 -0.001040  0.008971  0.008971\n",
      "2020-01-03 -0.000060       NaN  0.009331\n",
      "2020-01-04  0.000000       NaN -0.000078\n",
      "2020-01-05 -0.002007  0.007772  0.000000\n",
      "                   a         b         c\n",
      "2020-01-01  0.000000 -0.000601 -0.001201\n",
      "2020-01-02 -0.000520  0.004483  0.008971\n",
      "2020-01-03 -0.000030       NaN  0.009331\n",
      "2020-01-04  0.000000       NaN -0.000078\n",
      "2020-01-05 -0.001003  0.003941  0.000000\n",
      "                   a         b         c\n",
      "2020-01-01  0.000000 -0.000601 -0.001201\n",
      "2020-01-02 -0.000518  0.004483  0.008971\n",
      "2020-01-03       NaN       NaN  0.009331\n",
      "2020-01-04  0.000000       NaN -0.000078\n",
      "2020-01-05 -0.000985  0.003943  0.000000\n",
      "               first    second\n",
      "2020-01-01 -0.000601 -0.001201\n",
      "2020-01-02  0.003962  0.008971\n",
      "2020-01-03       NaN  0.009331\n",
      "2020-01-04       NaN -0.000078\n",
      "2020-01-05  0.002954  0.000000\n",
      "               first    second\n",
      "2020-01-01 -0.000601 -0.001201\n",
      "2020-01-02  0.003962  0.008971\n",
      "2020-01-03       NaN  0.009331\n",
      "2020-01-04       NaN -0.000078\n",
      "2020-01-05  0.002954  0.000000\n",
      "               first    second\n",
      "2020-01-01 -0.000601 -0.001201\n",
      "2020-01-02  0.003962  0.008971\n",
      "2020-01-03       NaN  0.009331\n",
      "2020-01-04       NaN -0.000078\n",
      "2020-01-05  0.002954  0.000000\n"
     ]
    }
   ],
   "source": [
    "print(portfolio.returns())\n",
    "print(portfolio_grouped.returns(group_by=False))\n",
    "print(portfolio_shared.returns(group_by=False))\n",
    "print(portfolio_shared.returns(group_by=False, in_sim_order=True))\n",
    "\n",
    "print(portfolio.returns(group_by=group_by))\n",
    "print(portfolio_grouped.returns())\n",
    "print(portfolio_shared.returns())"
   ]
  },
  {
   "cell_type": "code",
   "execution_count": 153,
   "metadata": {},
   "outputs": [
    {
     "name": "stdout",
     "output_type": "stream",
     "text": [
      "58.2 ms ± 1.78 ms per loop (mean ± std. dev. of 7 runs, 1 loop each)\n",
      "59.6 ms ± 982 µs per loop (mean ± std. dev. of 7 runs, 10 loops each)\n",
      "59.3 ms ± 622 µs per loop (mean ± std. dev. of 7 runs, 10 loops each)\n",
      "94.8 ms ± 889 µs per loop (mean ± std. dev. of 7 runs, 1 loop each)\n",
      "62.1 ms ± 1.16 ms per loop (mean ± std. dev. of 7 runs, 10 loops each)\n",
      "62.2 ms ± 1.16 ms per loop (mean ± std. dev. of 7 runs, 10 loops each)\n",
      "63.7 ms ± 1.71 ms per loop (mean ± std. dev. of 7 runs, 10 loops each)\n"
     ]
    }
   ],
   "source": [
    "%timeit big_portfolio.returns()\n",
    "%timeit big_portfolio_grouped.returns(group_by=False)\n",
    "%timeit big_portfolio_shared.returns(group_by=False)\n",
    "%timeit big_portfolio_shared.returns(group_by=False, in_sim_order=True)\n",
    "\n",
    "%timeit big_portfolio.returns(group_by=big_group_by)\n",
    "%timeit big_portfolio_grouped.returns()\n",
    "%timeit big_portfolio_shared.returns()"
   ]
  },
  {
   "cell_type": "code",
   "execution_count": 154,
   "metadata": {},
   "outputs": [
    {
     "name": "stdout",
     "output_type": "stream",
     "text": [
      "               first    second\n",
      "2020-01-01 -0.000601 -0.001201\n",
      "2020-01-02  0.003359  0.007759\n",
      "2020-01-03  0.003359  0.017162\n",
      "2020-01-04  0.003359  0.017082\n",
      "2020-01-05  0.006323  0.017082\n",
      "                   a         b         c\n",
      "2020-01-01  0.000000 -0.000601 -0.001201\n",
      "2020-01-02 -0.000520  0.003879  0.007759\n",
      "2020-01-03 -0.000550  0.003879  0.017162\n",
      "2020-01-04 -0.000550  0.003879  0.017082\n",
      "2020-01-05 -0.001552  0.007836  0.017082\n",
      "                   a         b         c\n",
      "2020-01-01  0.000000 -0.107223 -0.107223\n",
      "2020-01-02 -0.342149  0.506196  0.506196\n",
      "2020-01-03 -0.361785  0.506196  1.149959\n",
      "2020-01-04 -0.361785  0.506196  1.092913\n",
      "2020-01-05 -0.386391  0.637081  1.092913\n"
     ]
    }
   ],
   "source": [
    "print(portfolio_shared.cumulative_returns())\n",
    "print(portfolio_shared.cumulative_returns(group_by=False))\n",
    "print(portfolio_shared.cumulative_returns(group_by=False, active_returns=True))"
   ]
  },
  {
   "cell_type": "code",
   "execution_count": 155,
   "metadata": {},
   "outputs": [
    {
     "name": "stdout",
     "output_type": "stream",
     "text": [
      "first     16.780949\n",
      "second    12.345065\n",
      "dtype: float64\n",
      "first    -62.926646\n",
      "second   -23.917188\n",
      "dtype: float64\n",
      "first     13.943454\n",
      "second    10.257635\n",
      "dtype: float64\n",
      "a   -13.309506\n",
      "b    17.846729\n",
      "c    12.345065\n",
      "dtype: float64\n",
      "a   -10.715260\n",
      "b    10.254119\n",
      "c    10.879217\n",
      "dtype: float64\n"
     ]
    }
   ],
   "source": [
    "print(portfolio_shared.sharpe_ratio())\n",
    "print(portfolio_shared.sharpe_ratio(risk_free=0.01))\n",
    "print(portfolio_shared.sharpe_ratio(year_freq='252D'))\n",
    "print(portfolio_shared.sharpe_ratio(group_by=False))\n",
    "print(portfolio_shared.sharpe_ratio(group_by=False, active_returns=True))"
   ]
  },
  {
   "cell_type": "code",
   "execution_count": 156,
   "metadata": {},
   "outputs": [
    {
     "name": "stdout",
     "output_type": "stream",
     "text": [
      "Start                     2020-01-01 00:00:00\n",
      "End                       2020-01-05 00:00:00\n",
      "Duration                      5 days 00:00:00\n",
      "Holding Duration [%]                  66.6667\n",
      "Total Profit                          1.68838\n",
      "Total Return [%]                      1.68838\n",
      "Buy & Hold Return [%]                 283.333\n",
      "Max. Drawdown [%]                    0.106105\n",
      "Avg. Drawdown [%]                    0.106105\n",
      "Max. Drawdown Duration        3 days 00:00:00\n",
      "Avg. Drawdown Duration        3 days 00:00:00\n",
      "Num. Trades                           1.33333\n",
      "Win Rate [%]                          66.6667\n",
      "Best Trade [%]                        71.6563\n",
      "Worst Trade [%]                        69.594\n",
      "Avg. Trade [%]                        70.6251\n",
      "Max. Trade Duration           2 days 08:00:00\n",
      "Avg. Trade Duration           2 days 04:00:00\n",
      "Expectancy                           0.302232\n",
      "SQN                                   1.23509\n",
      "Sharpe Ratio                          5.61381\n",
      "Sortino Ratio                         83.9461\n",
      "Calmar Ratio                          15578.9\n",
      "Name: <lambda>, dtype: object\n"
     ]
    }
   ],
   "source": [
    "print(portfolio.stats())  # mean statistics"
   ]
  },
  {
   "cell_type": "code",
   "execution_count": 157,
   "metadata": {},
   "outputs": [
    {
     "name": "stdout",
     "output_type": "stream",
     "text": [
      "Start                     2020-01-01 00:00:00\n",
      "End                       2020-01-05 00:00:00\n",
      "Duration                      5 days 00:00:00\n",
      "Holding Duration [%]                       40\n",
      "Total Profit                         -0.31049\n",
      "Total Return [%]                     -0.31049\n",
      "Buy & Hold Return [%]                     150\n",
      "Max. Drawdown [%]                     0.31049\n",
      "Avg. Drawdown [%]                     0.31049\n",
      "Max. Drawdown Duration        4 days 00:00:00\n",
      "Avg. Drawdown Duration        4 days 00:00:00\n",
      "Num. Trades                                 1\n",
      "Win Rate [%]                                0\n",
      "Best Trade [%]                       -36.1785\n",
      "Worst Trade [%]                      -36.1785\n",
      "Avg. Trade [%]                       -36.1785\n",
      "Max. Trade Duration           1 days 00:00:00\n",
      "Avg. Trade Duration           1 days 00:00:00\n",
      "Expectancy                           -0.10999\n",
      "SQN                                       NaN\n",
      "Sharpe Ratio                          -13.308\n",
      "Sortino Ratio                        -11.7389\n",
      "Calmar Ratio                         -65.4087\n",
      "Name: a, dtype: object\n"
     ]
    }
   ],
   "source": [
    "print(portfolio['a'].stats())"
   ]
  },
  {
   "cell_type": "code",
   "execution_count": 158,
   "metadata": {},
   "outputs": [
    {
     "name": "stdout",
     "output_type": "stream",
     "text": [
      "Start                     2020-01-01 00:00:00\n",
      "End                       2020-01-05 00:00:00\n",
      "Duration                      5 days 00:00:00\n",
      "Holding Duration [%]                       40\n",
      "Total Profit                         -0.31049\n",
      "Total Return [%]                     -0.31049\n",
      "Buy & Hold Return [%]                     150\n",
      "Max. Drawdown [%]                     0.31049\n",
      "Avg. Drawdown [%]                     0.31049\n",
      "Max. Drawdown Duration        4 days 00:00:00\n",
      "Avg. Drawdown Duration        4 days 00:00:00\n",
      "Num. Trades                                 1\n",
      "Win Rate [%]                                0\n",
      "Best Trade [%]                       -36.1785\n",
      "Worst Trade [%]                      -36.1785\n",
      "Avg. Trade [%]                       -36.1785\n",
      "Max. Trade Duration           1 days 00:00:00\n",
      "Avg. Trade Duration           1 days 00:00:00\n",
      "Expectancy                           -0.10999\n",
      "SQN                                       NaN\n",
      "Sharpe Ratio                         -227.459\n",
      "Sortino Ratio                        -19.1044\n",
      "Calmar Ratio                         -65.4087\n",
      "Name: a, dtype: object\n"
     ]
    }
   ],
   "source": [
    "print(portfolio['a'].stats(required_return=0.1, risk_free=0.01))  # test kwargs"
   ]
  },
  {
   "cell_type": "code",
   "execution_count": 159,
   "metadata": {},
   "outputs": [
    {
     "name": "stdout",
     "output_type": "stream",
     "text": [
      "Start                     2020-01-01 00:00:00\n",
      "End                       2020-01-05 00:00:00\n",
      "Duration                      5 days 00:00:00\n",
      "Holding Duration [%]                       40\n",
      "Total Profit                         -0.31049\n",
      "Total Return [%]                     -0.31049\n",
      "Buy & Hold Return [%]                     150\n",
      "Max. Drawdown [%]                     0.31049\n",
      "Avg. Drawdown [%]                     0.31049\n",
      "Max. Drawdown Duration        4 days 00:00:00\n",
      "Avg. Drawdown Duration        4 days 00:00:00\n",
      "Num. Trades                                 1\n",
      "Win Rate [%]                                0\n",
      "Best Trade [%]                       -36.1785\n",
      "Worst Trade [%]                      -36.1785\n",
      "Avg. Trade [%]                       -36.1785\n",
      "Max. Trade Duration           1 days 00:00:00\n",
      "Avg. Trade Duration           1 days 00:00:00\n",
      "Expectancy                           -0.10999\n",
      "SQN                                       NaN\n",
      "Sharpe Ratio                         -10.7153\n",
      "Sortino Ratio                        -10.1496\n",
      "Calmar Ratio                         -2.58805\n",
      "Name: a, dtype: object\n"
     ]
    }
   ],
   "source": [
    "print(portfolio['a'].stats(active_returns=True))  # test active_returns"
   ]
  },
  {
   "cell_type": "code",
   "execution_count": 160,
   "metadata": {},
   "outputs": [
    {
     "name": "stdout",
     "output_type": "stream",
     "text": [
      "Start                     2020-01-01 00:00:00\n",
      "End                       2020-01-05 00:00:00\n",
      "Duration                      5 days 00:00:00\n",
      "Holding Duration [%]                       40\n",
      "Total Profit                         -0.31049\n",
      "Total Return [%]                     -0.31049\n",
      "Buy & Hold Return [%]                     150\n",
      "Max. Drawdown [%]                     0.31049\n",
      "Avg. Drawdown [%]                     0.31049\n",
      "Max. Drawdown Duration        4 days 00:00:00\n",
      "Avg. Drawdown Duration        4 days 00:00:00\n",
      "Num. Trades                                 2\n",
      "Win Rate [%]                                0\n",
      "Best Trade [%]                        -3.8554\n",
      "Worst Trade [%]                      -36.1785\n",
      "Avg. Trade [%]                        -20.017\n",
      "Max. Trade Duration           1 days 00:00:00\n",
      "Avg. Trade Duration           0 days 12:00:00\n",
      "Expectancy                          -0.155245\n",
      "SQN                                  -3.43045\n",
      "Sharpe Ratio                          -13.308\n",
      "Sortino Ratio                        -11.7389\n",
      "Calmar Ratio                         -65.4087\n",
      "Name: a, dtype: object\n"
     ]
    }
   ],
   "source": [
    "print(portfolio['a'].stats(incl_unrealized=True))  # test incl_unrealized"
   ]
  },
  {
   "cell_type": "code",
   "execution_count": 161,
   "metadata": {},
   "outputs": [],
   "source": [
    "pd.testing.assert_series_equal(portfolio['c'].stats(), portfolio.stats(column='c'))\n",
    "pd.testing.assert_series_equal(portfolio['c'].stats(), portfolio_grouped.stats(column='c', group_by=False))\n",
    "pd.testing.assert_series_equal(portfolio_grouped['second'].stats(), portfolio_grouped.stats(column='second'))"
   ]
  },
  {
   "cell_type": "code",
   "execution_count": 162,
   "metadata": {},
   "outputs": [
    {
     "name": "stdout",
     "output_type": "stream",
     "text": [
      "19.2 ms ± 199 µs per loop (mean ± std. dev. of 7 runs, 1 loop each)\n",
      "22.1 ms ± 324 µs per loop (mean ± std. dev. of 7 runs, 1 loop each)\n",
      "23.5 ms ± 724 µs per loop (mean ± std. dev. of 7 runs, 10 loops each)\n",
      "32.1 ms ± 1.21 ms per loop (mean ± std. dev. of 7 runs, 10 loops each)\n",
      "29.3 ms ± 340 µs per loop (mean ± std. dev. of 7 runs, 1 loop each)\n",
      "30.6 ms ± 611 µs per loop (mean ± std. dev. of 7 runs, 10 loops each)\n"
     ]
    }
   ],
   "source": [
    "# Calculates stats for one column\n",
    "%timeit big_portfolio.iloc[0].stats()\n",
    "%timeit big_portfolio_grouped.iloc[0].stats(group_by=False, column=0)\n",
    "%timeit big_portfolio_shared.iloc[0].stats(group_by=False, column=0)\n",
    "\n",
    "%timeit big_portfolio.iloc[0].stats(group_by=np.array([0]))\n",
    "%timeit big_portfolio_grouped.iloc[0].stats()\n",
    "%timeit big_portfolio_shared.iloc[0].stats()"
   ]
  },
  {
   "cell_type": "code",
   "execution_count": 163,
   "metadata": {},
   "outputs": [
    {
     "name": "stdout",
     "output_type": "stream",
     "text": [
      "351 ms ± 2.08 ms per loop (mean ± std. dev. of 7 runs, 1 loop each)\n",
      "367 ms ± 7.06 ms per loop (mean ± std. dev. of 7 runs, 1 loop each)\n",
      "370 ms ± 12.7 ms per loop (mean ± std. dev. of 7 runs, 1 loop each)\n",
      "364 ms ± 2.96 ms per loop (mean ± std. dev. of 7 runs, 1 loop each)\n",
      "367 ms ± 6.28 ms per loop (mean ± std. dev. of 7 runs, 1 loop each)\n",
      "368 ms ± 4.15 ms per loop (mean ± std. dev. of 7 runs, 1 loop each)\n"
     ]
    }
   ],
   "source": [
    "# Calculates stats for all columns and selects one, takes advantage of caching (which is disabled here)\n",
    "# Thus some series are re-calculated multiple times, such as records and returns\n",
    "%timeit big_portfolio.stats(column=0)\n",
    "%timeit big_portfolio_grouped.stats(group_by=False, column=0)\n",
    "%timeit big_portfolio_shared.stats(group_by=False, column=0)\n",
    "\n",
    "%timeit big_portfolio.stats(group_by=big_group_by, column=0)\n",
    "%timeit big_portfolio_grouped.stats(column=0)\n",
    "%timeit big_portfolio_shared.stats(column=0)"
   ]
  },
  {
   "cell_type": "code",
   "execution_count": null,
   "metadata": {},
   "outputs": [],
   "source": []
  }
 ],
 "metadata": {
  "kernelspec": {
   "display_name": "Python 3",
   "language": "python",
   "name": "python3"
  },
  "language_info": {
   "codemirror_mode": {
    "name": "ipython",
    "version": 3
   },
   "file_extension": ".py",
   "mimetype": "text/x-python",
   "name": "python",
   "nbconvert_exporter": "python",
   "pygments_lexer": "ipython3",
   "version": "3.7.3"
  },
  "widgets": {
   "application/vnd.jupyter.widget-state+json": {
    "state": {},
    "version_major": 2,
    "version_minor": 0
   }
  }
 },
 "nbformat": 4,
 "nbformat_minor": 4
}
