{
 "cells": [
  {
   "cell_type": "markdown",
   "metadata": {},
   "source": [
    "# records"
   ]
  },
  {
   "cell_type": "code",
   "execution_count": 1,
   "metadata": {},
   "outputs": [],
   "source": [
    "import vectorbt as vbt"
   ]
  },
  {
   "cell_type": "code",
   "execution_count": 2,
   "metadata": {
    "Collapsed": "false"
   },
   "outputs": [],
   "source": [
    "import numpy as np\n",
    "import pandas as pd\n",
    "from numba import njit\n",
    "from collections import namedtuple\n",
    "from datetime import datetime"
   ]
  },
  {
   "cell_type": "code",
   "execution_count": 3,
   "metadata": {},
   "outputs": [],
   "source": [
    "# Disable caching for performance testing\n",
    "# NOTE: Expect waterfall of executions, since some attributes depend on other attributes \n",
    "# that have to be calculated again and again\n",
    "vbt.defaults.caching['properties'] = False\n",
    "vbt.defaults.caching['methods'] = False"
   ]
  },
  {
   "cell_type": "code",
   "execution_count": 4,
   "metadata": {},
   "outputs": [],
   "source": [
    "example_dt = np.dtype([\n",
    "    ('col', np.int64),\n",
    "    ('idx', np.int64),\n",
    "    ('some_field1', np.float64),\n",
    "    ('some_field2', np.float64)\n",
    "], align=True)"
   ]
  },
  {
   "cell_type": "code",
   "execution_count": 5,
   "metadata": {},
   "outputs": [
    {
     "name": "stdout",
     "output_type": "stream",
     "text": [
      "[(0, 0, 10., 21.) (0, 1, 11., 20.) (0, 2, 12., 19.) (1, 0, 13., 18.)\n",
      " (1, 1, 14., 17.) (1, 2, 13., 18.) (2, 0, 12., 19.) (2, 1, 11., 20.)\n",
      " (2, 2, 10., 21.)]\n",
      "(9,)\n"
     ]
    }
   ],
   "source": [
    "records_arr = np.asarray([\n",
    "    (0, 0, 10, 21),\n",
    "    (0, 1, 11, 20),\n",
    "    (0, 2, 12, 19),\n",
    "    (1, 0, 13, 18),\n",
    "    (1, 1, 14, 17),\n",
    "    (1, 2, 13, 18),\n",
    "    (2, 0, 12, 19),\n",
    "    (2, 1, 11, 20),\n",
    "    (2, 2, 10, 21)\n",
    "], dtype=example_dt)\n",
    "print(records_arr)\n",
    "print(records_arr.shape)\n",
    "\n",
    "columns = pd.MultiIndex.from_arrays([[0, 1, 1, 1], ['a', 'b', 'c', 'd']], names=['lvl1', 'lvl2'])\n",
    "wrapper = vbt.ArrayWrapper(index=['x', 'y', 'z'], columns=columns, ndim=2, freq='1 days')\n",
    "records = vbt.Records(wrapper, records_arr)\n",
    "\n",
    "records_grouped = vbt.Records(wrapper.copy(group_by=0), records_arr)"
   ]
  },
  {
   "cell_type": "code",
   "execution_count": 6,
   "metadata": {},
   "outputs": [
    {
     "name": "stdout",
     "output_type": "stream",
     "text": [
      "(1000000,)\n"
     ]
    }
   ],
   "source": [
    "big_records_arr = np.asarray(list(zip(*(\n",
    "    np.repeat(np.arange(1000), 1000),\n",
    "    np.tile(np.arange(1000), 1000),\n",
    "    np.random.randint(0, 100, size=1000000),\n",
    "    np.random.randint(0, 100, size=1000000)))), dtype=example_dt)\n",
    "print(big_records_arr.shape)\n",
    "\n",
    "big_columns = pd.MultiIndex.from_arrays([np.repeat(np.array([0, 1]), 500), np.arange(1000)], names=['lvl1', 'lvl2'])\n",
    "big_wrapper = vbt.ArrayWrapper(index=np.arange(1000), columns=big_columns, ndim=2, freq='1 days')\n",
    "big_records = vbt.Records(big_wrapper, big_records_arr)\n",
    "\n",
    "big_records_grouped = vbt.Records(big_wrapper.copy(group_by=0), big_records_arr)"
   ]
  },
  {
   "cell_type": "code",
   "execution_count": 7,
   "metadata": {},
   "outputs": [
    {
     "name": "stdout",
     "output_type": "stream",
     "text": [
      "[(2, 2, 10., 21.) (2, 1, 11., 20.) (2, 0, 12., 19.) (1, 2, 13., 18.)\n",
      " (1, 1, 14., 17.) (1, 0, 13., 18.) (0, 2, 12., 19.) (0, 1, 11., 20.)\n",
      " (0, 0, 10., 21.)]\n"
     ]
    }
   ],
   "source": [
    "records_nosort = records.copy(records_arr=records.records_arr[::-1])\n",
    "print(records_nosort.records_arr)\n",
    "\n",
    "big_records_nosort = big_records.copy(records_arr=big_records.records_arr[::-1])"
   ]
  },
  {
   "cell_type": "code",
   "execution_count": 8,
   "metadata": {},
   "outputs": [],
   "source": [
    "group_by = pd.Series(['first', 'first', 'second', 'second'], name='group')\n",
    "big_group_by = pd.Series(np.repeat(np.array([0, 1]), 500))"
   ]
  },
  {
   "cell_type": "markdown",
   "metadata": {},
   "source": [
    "## ColumnMapper"
   ]
  },
  {
   "cell_type": "code",
   "execution_count": 9,
   "metadata": {},
   "outputs": [
    {
     "name": "stdout",
     "output_type": "stream",
     "text": [
      "[0 0 0 1 1 1 2 2 2]\n"
     ]
    }
   ],
   "source": [
    "print(records.col_mapper.col_arr)"
   ]
  },
  {
   "cell_type": "code",
   "execution_count": 10,
   "metadata": {},
   "outputs": [
    {
     "name": "stdout",
     "output_type": "stream",
     "text": [
      "[0 0 0 1 1 1 2 2 2]\n",
      "[0 0 0 1 1 1 1 1 1]\n",
      "4.34 ms ± 30.5 µs per loop (mean ± std. dev. of 7 runs, 100 loops each)\n"
     ]
    }
   ],
   "source": [
    "print(records.col_mapper.get_col_arr())\n",
    "print(records_grouped.col_mapper.get_col_arr())\n",
    "\n",
    "%timeit big_records_grouped.col_mapper.get_col_arr()"
   ]
  },
  {
   "cell_type": "code",
   "execution_count": 11,
   "metadata": {},
   "outputs": [
    {
     "name": "stdout",
     "output_type": "stream",
     "text": [
      "[[ 0  3]\n",
      " [ 3  6]\n",
      " [ 6  9]\n",
      " [-1 -1]]\n",
      "2.63 ms ± 451 µs per loop (mean ± std. dev. of 7 runs, 100 loops each)\n"
     ]
    }
   ],
   "source": [
    "print(records.col_mapper.col_range)\n",
    "\n",
    "%timeit big_records.col_mapper.col_range"
   ]
  },
  {
   "cell_type": "code",
   "execution_count": 12,
   "metadata": {},
   "outputs": [
    {
     "name": "stdout",
     "output_type": "stream",
     "text": [
      "[[ 0  3]\n",
      " [ 3  6]\n",
      " [ 6  9]\n",
      " [-1 -1]]\n",
      "[[0 3]\n",
      " [3 9]]\n",
      "4.91 ms ± 109 µs per loop (mean ± std. dev. of 7 runs, 100 loops each)\n"
     ]
    }
   ],
   "source": [
    "print(records.col_mapper.get_col_range())\n",
    "print(records_grouped.col_mapper.get_col_range())\n",
    "\n",
    "%timeit big_records_grouped.col_mapper.get_col_range()"
   ]
  },
  {
   "cell_type": "code",
   "execution_count": 13,
   "metadata": {},
   "outputs": [
    {
     "name": "stdout",
     "output_type": "stream",
     "text": [
      "(array([[                   0,                    1,                    2],\n",
      "       [                   3,                    4,                    5],\n",
      "       [                   6,                    7,                    8],\n",
      "       [-3761688987579986997, -3761688987579986997, -3761688987579986997]]), array([3, 3, 3, 0]))\n",
      "13 ms ± 252 µs per loop (mean ± std. dev. of 7 runs, 100 loops each)\n"
     ]
    }
   ],
   "source": [
    "print(records.col_mapper.col_map)\n",
    "\n",
    "%timeit big_records.col_mapper.col_map"
   ]
  },
  {
   "cell_type": "code",
   "execution_count": 14,
   "metadata": {},
   "outputs": [
    {
     "name": "stdout",
     "output_type": "stream",
     "text": [
      "(array([[                   0,                    1,                    2],\n",
      "       [                   3,                    4,                    5],\n",
      "       [                   6,                    7,                    8],\n",
      "       [-3761688987579986997, -3761688987579986997, -3761688987579986997]]), array([3, 3, 3, 0]))\n",
      "(array([[                   0,                    1,                    2,\n",
      "        -3761688987579986997, -3761688987579986997, -3761688987579986997],\n",
      "       [                   3,                    4,                    5,\n",
      "                           6,                    7,                    8]]), array([3, 6]))\n",
      "9.01 ms ± 944 µs per loop (mean ± std. dev. of 7 runs, 100 loops each)\n"
     ]
    }
   ],
   "source": [
    "print(records.col_mapper.get_col_map())\n",
    "print(records_grouped.col_mapper.get_col_map())\n",
    "\n",
    "%timeit big_records_grouped.col_mapper.get_col_map()"
   ]
  },
  {
   "cell_type": "code",
   "execution_count": 15,
   "metadata": {},
   "outputs": [
    {
     "name": "stdout",
     "output_type": "stream",
     "text": [
      "True\n",
      "4.03 ms ± 64.8 µs per loop (mean ± std. dev. of 7 runs, 100 loops each)\n",
      "False\n",
      "3.74 ms ± 290 µs per loop (mean ± std. dev. of 7 runs, 100 loops each)\n"
     ]
    }
   ],
   "source": [
    "print(records.col_mapper.is_sorted())\n",
    "%timeit big_records.col_mapper.is_sorted()\n",
    "\n",
    "print(records_nosort.col_mapper.is_sorted())\n",
    "%timeit big_records_nosort.col_mapper.is_sorted()"
   ]
  },
  {
   "cell_type": "markdown",
   "metadata": {},
   "source": [
    "## MappedArray"
   ]
  },
  {
   "cell_type": "code",
   "execution_count": 16,
   "metadata": {},
   "outputs": [],
   "source": [
    "mapped_array = records.map_field('some_field1')\n",
    "big_mapped_array = big_records.map_field('some_field1')\n",
    "\n",
    "mapped_array_nosort = records_nosort.map_field('some_field1')\n",
    "big_mapped_array_nosort = big_records_nosort.map_field('some_field1')\n",
    "\n",
    "mapped_array_grouped = records_grouped.map_field('some_field1')\n",
    "big_mapped_array_grouped = big_records_grouped.map_field('some_field1')"
   ]
  },
  {
   "cell_type": "code",
   "execution_count": 17,
   "metadata": {},
   "outputs": [
    {
     "name": "stdout",
     "output_type": "stream",
     "text": [
      "[10. 11. 12.]\n",
      "[0 0 0]\n",
      "MultiIndex([(0, 'a')],\n",
      "           names=['lvl1', 'lvl2'])\n",
      "[13. 14. 13.]\n",
      "[0 0 0]\n",
      "MultiIndex([(1, 'b')],\n",
      "           names=['lvl1', 'lvl2'])\n",
      "[10. 11. 12. 10. 11. 12.]\n",
      "[0 0 0 1 1 1]\n",
      "MultiIndex([(0, 'a'),\n",
      "            (0, 'a')],\n",
      "           names=['lvl1', 'lvl2'])\n",
      "[10. 11. 12. 13. 14. 13.]\n",
      "[0 0 0 1 1 1]\n",
      "MultiIndex([(0, 'a'),\n",
      "            (1, 'b')],\n",
      "           names=['lvl1', 'lvl2'])\n",
      "6.82 ms ± 81 µs per loop (mean ± std. dev. of 7 runs, 100 loops each)\n",
      "24.8 ms ± 4.94 ms per loop (mean ± std. dev. of 7 runs, 10 loops each)\n"
     ]
    }
   ],
   "source": [
    "print(mapped_array[(0, 'a')].values)\n",
    "print(mapped_array[(0, 'a')].col_arr)\n",
    "print(mapped_array[(0, 'a')].wrapper.columns)\n",
    "\n",
    "print(mapped_array[(1, 'b')].values)\n",
    "print(mapped_array[(1, 'b')].col_arr)\n",
    "print(mapped_array[(1, 'b')].wrapper.columns)\n",
    "\n",
    "print(mapped_array[[(0, 'a'), (0, 'a')]].values)\n",
    "print(mapped_array[[(0, 'a'), (0, 'a')]].col_arr)\n",
    "print(mapped_array[[(0, 'a'), (0, 'a')]].wrapper.columns)\n",
    "\n",
    "print(mapped_array[[(0, 'a'), (1, 'b')]].values)\n",
    "print(mapped_array[[(0, 'a'), (1, 'b')]].col_arr)\n",
    "print(mapped_array[[(0, 'a'), (1, 'b')]].wrapper.columns)\n",
    "\n",
    "%timeit big_mapped_array.iloc[0]\n",
    "%timeit big_mapped_array.iloc[:]"
   ]
  },
  {
   "cell_type": "code",
   "execution_count": 18,
   "metadata": {},
   "outputs": [
    {
     "name": "stdout",
     "output_type": "stream",
     "text": [
      "[12. 11. 10.]\n",
      "[0 0 0]\n",
      "MultiIndex([(0, 'a')],\n",
      "           names=['lvl1', 'lvl2'])\n",
      "[13. 14. 13.]\n",
      "[0 0 0]\n",
      "MultiIndex([(1, 'b')],\n",
      "           names=['lvl1', 'lvl2'])\n",
      "[12. 11. 10. 12. 11. 10.]\n",
      "[0 0 0 1 1 1]\n",
      "MultiIndex([(0, 'a'),\n",
      "            (0, 'a')],\n",
      "           names=['lvl1', 'lvl2'])\n",
      "[12. 11. 10. 13. 14. 13.]\n",
      "[0 0 0 1 1 1]\n",
      "MultiIndex([(0, 'a'),\n",
      "            (1, 'b')],\n",
      "           names=['lvl1', 'lvl2'])\n",
      "19.3 ms ± 178 µs per loop (mean ± std. dev. of 7 runs, 100 loops each)\n",
      "36.8 ms ± 3.34 ms per loop (mean ± std. dev. of 7 runs, 10 loops each)\n"
     ]
    }
   ],
   "source": [
    "print(mapped_array_nosort[(0, 'a')].values)\n",
    "print(mapped_array_nosort[(0, 'a')].col_arr)\n",
    "print(mapped_array_nosort[(0, 'a')].wrapper.columns)\n",
    "\n",
    "print(mapped_array_nosort[(1, 'b')].values)\n",
    "print(mapped_array_nosort[(1, 'b')].col_arr)\n",
    "print(mapped_array_nosort[(1, 'b')].wrapper.columns)\n",
    "\n",
    "print(mapped_array_nosort[[(0, 'a'), (0, 'a')]].values)\n",
    "print(mapped_array_nosort[[(0, 'a'), (0, 'a')]].col_arr)\n",
    "print(mapped_array_nosort[[(0, 'a'), (0, 'a')]].wrapper.columns)\n",
    "\n",
    "print(mapped_array_nosort[[(0, 'a'), (1, 'b')]].values)\n",
    "print(mapped_array_nosort[[(0, 'a'), (1, 'b')]].col_arr)\n",
    "print(mapped_array_nosort[[(0, 'a'), (1, 'b')]].wrapper.columns)\n",
    "\n",
    "%timeit big_mapped_array_nosort.iloc[0]\n",
    "%timeit big_mapped_array_nosort.iloc[:]"
   ]
  },
  {
   "cell_type": "code",
   "execution_count": 19,
   "metadata": {},
   "outputs": [
    {
     "name": "stdout",
     "output_type": "stream",
     "text": [
      "MultiIndex([(0, 'a')],\n",
      "           names=['lvl1', 'lvl2'])\n",
      "1\n",
      "1\n",
      "Int64Index([0], dtype='int64', name='lvl1')\n",
      "MultiIndex([(1, 'b'),\n",
      "            (1, 'c'),\n",
      "            (1, 'd')],\n",
      "           names=['lvl1', 'lvl2'])\n",
      "2\n",
      "1\n",
      "Int64Index([1, 1, 1], dtype='int64', name='lvl1')\n",
      "MultiIndex([(0, 'a')],\n",
      "           names=['lvl1', 'lvl2'])\n",
      "2\n",
      "2\n",
      "Int64Index([0], dtype='int64', name='lvl1')\n",
      "MultiIndex([(0, 'a'),\n",
      "            (1, 'b'),\n",
      "            (1, 'c'),\n",
      "            (1, 'd')],\n",
      "           names=['lvl1', 'lvl2'])\n",
      "2\n",
      "2\n",
      "Int64Index([0, 1, 1, 1], dtype='int64', name='lvl1')\n",
      "16.8 ms ± 206 µs per loop (mean ± std. dev. of 7 runs, 10 loops each)\n",
      "23 ms ± 190 µs per loop (mean ± std. dev. of 7 runs, 10 loops each)\n"
     ]
    }
   ],
   "source": [
    "print(mapped_array_grouped[0].wrapper.columns)  # indexing on groups, not columns!\n",
    "print(mapped_array_grouped[0].wrapper.ndim)\n",
    "print(mapped_array_grouped[0].wrapper.grouped_ndim)\n",
    "print(mapped_array_grouped[0].wrapper.grouper.group_by)\n",
    "\n",
    "print(mapped_array_grouped[1].wrapper.columns)\n",
    "print(mapped_array_grouped[1].wrapper.ndim)\n",
    "print(mapped_array_grouped[1].wrapper.grouped_ndim)\n",
    "print(mapped_array_grouped[1].wrapper.grouper.group_by)\n",
    "\n",
    "print(mapped_array_grouped[[0]].wrapper.columns)\n",
    "print(mapped_array_grouped[[0]].wrapper.ndim)\n",
    "print(mapped_array_grouped[[0]].wrapper.grouped_ndim)\n",
    "print(mapped_array_grouped[[0]].wrapper.grouper.group_by)\n",
    "\n",
    "print(mapped_array_grouped[[0, 1]].wrapper.columns)\n",
    "print(mapped_array_grouped[[0, 1]].wrapper.ndim)\n",
    "print(mapped_array_grouped[[0, 1]].wrapper.grouped_ndim)\n",
    "print(mapped_array_grouped[[0, 1]].wrapper.grouper.group_by)\n",
    "\n",
    "%timeit big_mapped_array_grouped.iloc[0]\n",
    "%timeit big_mapped_array_grouped.iloc[:]"
   ]
  },
  {
   "cell_type": "code",
   "execution_count": 20,
   "metadata": {},
   "outputs": [
    {
     "name": "stdout",
     "output_type": "stream",
     "text": [
      "Index(['x', 'y', 'z'], dtype='object')\n",
      "MultiIndex([(0, 'a'),\n",
      "            (1, 'b'),\n",
      "            (1, 'c'),\n",
      "            (1, 'd')],\n",
      "           names=['lvl1', 'lvl2'])\n",
      "2\n",
      "None\n",
      "Index(['x', 'y', 'z'], dtype='object')\n",
      "MultiIndex([(0, 'a'),\n",
      "            (1, 'b'),\n",
      "            (1, 'c'),\n",
      "            (1, 'd')],\n",
      "           names=['lvl1', 'lvl2'])\n",
      "2\n",
      "Int64Index([0, 1, 1, 1], dtype='int64', name='lvl1')\n"
     ]
    }
   ],
   "source": [
    "print(mapped_array.wrapper.index)\n",
    "print(mapped_array.wrapper.columns)\n",
    "print(mapped_array.wrapper.ndim)\n",
    "print(mapped_array.wrapper.grouper.group_by)\n",
    "\n",
    "print(mapped_array_grouped.wrapper.index)\n",
    "print(mapped_array_grouped.wrapper.columns)\n",
    "print(mapped_array_grouped.wrapper.ndim)\n",
    "print(mapped_array_grouped.wrapper.grouper.group_by)"
   ]
  },
  {
   "cell_type": "code",
   "execution_count": 21,
   "metadata": {},
   "outputs": [
    {
     "name": "stdout",
     "output_type": "stream",
     "text": [
      "[10. 11. 12. 13. 14. 13. 12. 11. 10.]\n"
     ]
    }
   ],
   "source": [
    "print(mapped_array.values)"
   ]
  },
  {
   "cell_type": "code",
   "execution_count": 22,
   "metadata": {},
   "outputs": [
    {
     "name": "stdout",
     "output_type": "stream",
     "text": [
      "[0 1 2 0 1 2 0 1 2]\n"
     ]
    }
   ],
   "source": [
    "print(mapped_array.idx_arr)"
   ]
  },
  {
   "cell_type": "code",
   "execution_count": 23,
   "metadata": {},
   "outputs": [
    {
     "name": "stdout",
     "output_type": "stream",
     "text": [
      "[0 0 0 1 1 1 2 2 2]\n"
     ]
    }
   ],
   "source": [
    "print(mapped_array.col_arr)"
   ]
  },
  {
   "cell_type": "code",
   "execution_count": 24,
   "metadata": {},
   "outputs": [
    {
     "name": "stdout",
     "output_type": "stream",
     "text": [
      "True\n",
      "2.14 ms ± 88.9 µs per loop (mean ± std. dev. of 7 runs, 100 loops each)\n",
      "False\n",
      "3.21 µs ± 65.2 ns per loop (mean ± std. dev. of 7 runs, 100000 loops each)\n",
      "True\n",
      "2.41 ms ± 73.9 µs per loop (mean ± std. dev. of 7 runs, 100 loops each)\n",
      "False\n",
      "2.79 µs ± 347 ns per loop (mean ± std. dev. of 7 runs, 100000 loops each)\n"
     ]
    }
   ],
   "source": [
    "print(mapped_array.is_sorted())\n",
    "%timeit big_mapped_array.is_sorted()\n",
    "\n",
    "print(mapped_array_nosort.is_sorted())\n",
    "%timeit big_mapped_array_nosort.is_sorted()\n",
    "\n",
    "print(mapped_array.is_sorted(incl_idx=True))\n",
    "%timeit big_mapped_array.is_sorted(incl_idx=True)\n",
    "\n",
    "print(mapped_array_nosort.is_sorted(incl_idx=True))\n",
    "%timeit big_mapped_array_nosort.is_sorted(incl_idx=True)"
   ]
  },
  {
   "cell_type": "code",
   "execution_count": 25,
   "metadata": {},
   "outputs": [
    {
     "name": "stdout",
     "output_type": "stream",
     "text": [
      "[0 0 0 1 1 1 2 2 2]\n",
      "[0 1 2 0 1 2 0 1 2]\n",
      "2.19 ms ± 33.3 µs per loop (mean ± std. dev. of 7 runs, 100 loops each)\n",
      "[0 0 0 1 1 1 2 2 2]\n",
      "[2 1 0 2 1 0 2 1 0]\n",
      "51.5 ms ± 9.83 ms per loop (mean ± std. dev. of 7 runs, 10 loops each)\n",
      "[0 0 0 1 1 1 2 2 2]\n",
      "[0 1 2 0 1 2 0 1 2]\n",
      "2.49 ms ± 93.9 µs per loop (mean ± std. dev. of 7 runs, 100 loops each)\n",
      "[0 0 0 1 1 1 2 2 2]\n",
      "[0 1 2 0 1 2 0 1 2]\n",
      "119 ms ± 25.1 ms per loop (mean ± std. dev. of 7 runs, 10 loops each)\n"
     ]
    }
   ],
   "source": [
    "print(mapped_array.sort().col_arr)\n",
    "print(mapped_array.sort().idx_arr)\n",
    "%timeit big_mapped_array.sort()\n",
    "\n",
    "print(mapped_array_nosort.sort().col_arr)\n",
    "print(mapped_array_nosort.sort().idx_arr)\n",
    "%timeit big_mapped_array_nosort.sort()\n",
    "\n",
    "print(mapped_array.sort(incl_idx=True).col_arr)\n",
    "print(mapped_array.sort(incl_idx=True).idx_arr)\n",
    "%timeit big_mapped_array.sort(incl_idx=True)\n",
    "\n",
    "print(mapped_array_nosort.sort(incl_idx=True).col_arr)\n",
    "print(mapped_array_nosort.sort(incl_idx=True).idx_arr)\n",
    "%timeit big_mapped_array_nosort.sort(incl_idx=True)"
   ]
  },
  {
   "cell_type": "code",
   "execution_count": 35,
   "metadata": {},
   "outputs": [
    {
     "name": "stdout",
     "output_type": "stream",
     "text": [
      "[12. 13. 14. 13. 12.]\n",
      "27.4 ms ± 2.94 ms per loop (mean ± std. dev. of 7 runs, 10 loops each)\n",
      "30.7 ms ± 5.11 ms per loop (mean ± std. dev. of 7 runs, 10 loops each)\n"
     ]
    }
   ],
   "source": [
    "mask = mapped_array.values >= mapped_array.values.mean()\n",
    "print(mapped_array.filter_by_mask(mask).values)\n",
    "\n",
    "big_mask = big_mapped_array.values >= big_mapped_array.values.mean()\n",
    "%timeit big_mapped_array.filter_by_mask(big_mask)\n",
    "%timeit big_mapped_array_nosort.filter_by_mask(big_mask)"
   ]
  },
  {
   "cell_type": "code",
   "execution_count": 36,
   "metadata": {},
   "outputs": [
    {
     "name": "stdout",
     "output_type": "stream",
     "text": [
      "[ True False  True  True False  True  True False  True]\n",
      "19 ms ± 397 µs per loop (mean ± std. dev. of 7 runs, 100 loops each)\n",
      "19.9 ms ± 176 µs per loop (mean ± std. dev. of 7 runs, 100 loops each)\n"
     ]
    }
   ],
   "source": [
    "@njit\n",
    "def every_2_nb(inout, idxs, col, mapped_arr):\n",
    "    inout[idxs[::2]] = True\n",
    "\n",
    "print(mapped_array.map_to_mask(every_2_nb))\n",
    "%timeit big_mapped_array.map_to_mask(every_2_nb)\n",
    "%timeit big_mapped_array_nosort.map_to_mask(every_2_nb)"
   ]
  },
  {
   "cell_type": "code",
   "execution_count": 29,
   "metadata": {},
   "outputs": [
    {
     "name": "stdout",
     "output_type": "stream",
     "text": [
      "[10. 11. 12. 13. 14. 13. 12. 11. 10.]\n",
      "[False False  True False  True False  True False False]\n",
      "82.3 ms ± 4.43 ms per loop (mean ± std. dev. of 7 runs, 10 loops each)\n",
      "[ True False False  True False False False False  True]\n",
      "78.2 ms ± 669 µs per loop (mean ± std. dev. of 7 runs, 10 loops each)\n"
     ]
    }
   ],
   "source": [
    "print(mapped_array.values)\n",
    "\n",
    "print(mapped_array.top_n_mask(1))\n",
    "%timeit big_mapped_array.top_n_mask(100)\n",
    "\n",
    "print(mapped_array.bottom_n_mask(1))\n",
    "%timeit big_mapped_array.bottom_n_mask(100)"
   ]
  },
  {
   "cell_type": "code",
   "execution_count": 30,
   "metadata": {},
   "outputs": [
    {
     "name": "stdout",
     "output_type": "stream",
     "text": [
      "[12. 14. 12.]\n",
      "99.8 ms ± 11.1 ms per loop (mean ± std. dev. of 7 runs, 10 loops each)\n",
      "[10. 13. 10.]\n",
      "90.6 ms ± 552 µs per loop (mean ± std. dev. of 7 runs, 10 loops each)\n"
     ]
    }
   ],
   "source": [
    "print(mapped_array.top_n(1).values)\n",
    "%timeit big_mapped_array.top_n(100)\n",
    "\n",
    "print(mapped_array.bottom_n(1).values)\n",
    "%timeit big_mapped_array.bottom_n(100)"
   ]
  },
  {
   "cell_type": "code",
   "execution_count": 31,
   "metadata": {},
   "outputs": [
    {
     "name": "stdout",
     "output_type": "stream",
     "text": [
      "True\n",
      "11.7 ms ± 157 µs per loop (mean ± std. dev. of 7 runs, 100 loops each)\n"
     ]
    }
   ],
   "source": [
    "print(mapped_array.is_matrix_compatible())\n",
    "\n",
    "%timeit big_mapped_array.is_matrix_compatible()"
   ]
  },
  {
   "cell_type": "code",
   "execution_count": 32,
   "metadata": {},
   "outputs": [
    {
     "name": "stdout",
     "output_type": "stream",
     "text": [
      "lvl1     0     1          \n",
      "lvl2     a     b     c   d\n",
      "x     10.0  13.0  12.0 NaN\n",
      "y     11.0  14.0  11.0 NaN\n",
      "z     12.0  13.0  10.0 NaN\n",
      "lvl1     0     1           \n",
      "lvl2     a     b     c    d\n",
      "x     10.0  13.0  12.0  0.0\n",
      "y     11.0  14.0  11.0  0.0\n",
      "z     12.0  13.0  10.0  0.0\n",
      "24.9 ms ± 1.67 ms per loop (mean ± std. dev. of 7 runs, 10 loops each)\n"
     ]
    }
   ],
   "source": [
    "print(mapped_array.to_matrix())\n",
    "print(mapped_array.to_matrix(default_val=0.))\n",
    "\n",
    "%timeit big_mapped_array.to_matrix()"
   ]
  },
  {
   "cell_type": "code",
   "execution_count": 34,
   "metadata": {},
   "outputs": [
    {
     "name": "stdout",
     "output_type": "stream",
     "text": [
      "11.0\n",
      "lvl1  lvl2\n",
      "0     a       11.000000\n",
      "1     b       13.333333\n",
      "dtype: float64\n",
      "lvl1  lvl2\n",
      "0     a       11.000000\n",
      "1     b       13.333333\n",
      "      c       11.000000\n",
      "      d             NaN\n",
      "dtype: float64\n",
      "lvl1  lvl2\n",
      "0     a       11.000000\n",
      "1     b       13.333333\n",
      "      c       11.000000\n",
      "      d        0.000000\n",
      "dtype: float64\n",
      "lvl1  lvl2\n",
      "0     a       11\n",
      "1     b       13\n",
      "      c       11\n",
      "      d        0\n",
      "dtype: int64\n",
      "lvl1  lvl2\n",
      "0     a      11 days 00:00:00\n",
      "1     b      13 days 08:00:00\n",
      "      c      11 days 00:00:00\n",
      "      d                   NaT\n",
      "dtype: timedelta64[ns]\n",
      "20.3 ms ± 1.04 ms per loop (mean ± std. dev. of 7 runs, 10 loops each)\n",
      "20.8 ms ± 662 µs per loop (mean ± std. dev. of 7 runs, 10 loops each)\n"
     ]
    }
   ],
   "source": [
    "@njit\n",
    "def mean_reduce_nb(col, a):\n",
    "    return np.mean(a)\n",
    "\n",
    "print(mapped_array[(0, 'a')].reduce(mean_reduce_nb))\n",
    "print(mapped_array[[(0, 'a'), (1, 'b')]].reduce(mean_reduce_nb))\n",
    "print(mapped_array.reduce(mean_reduce_nb))\n",
    "print(mapped_array.reduce(mean_reduce_nb, default_val=0.))\n",
    "print(mapped_array.reduce(mean_reduce_nb, default_val=0., dtype=np.int_))\n",
    "print(mapped_array.reduce(mean_reduce_nb, time_units=True))\n",
    "\n",
    "%timeit big_mapped_array.reduce(mean_reduce_nb)\n",
    "%timeit big_mapped_array_nosort.reduce(mean_reduce_nb)"
   ]
  },
  {
   "cell_type": "code",
   "execution_count": 37,
   "metadata": {},
   "outputs": [
    {
     "name": "stdout",
     "output_type": "stream",
     "text": [
      "11.0\n",
      "lvl1\n",
      "0    11.0\n",
      "dtype: float64\n",
      "lvl1\n",
      "0    11.000000\n",
      "1    12.166667\n",
      "dtype: float64\n",
      "lvl1  lvl2\n",
      "0     a       11.000000\n",
      "1     b       13.333333\n",
      "      c       11.000000\n",
      "      d             NaN\n",
      "dtype: float64\n",
      "14.5 ms ± 313 µs per loop (mean ± std. dev. of 7 runs, 100 loops each)\n"
     ]
    }
   ],
   "source": [
    "print(mapped_array_grouped[0].reduce(mean_reduce_nb))\n",
    "print(mapped_array_grouped[[0]].reduce(mean_reduce_nb))\n",
    "print(mapped_array_grouped.reduce(mean_reduce_nb))\n",
    "print(mapped_array_grouped.reduce(mean_reduce_nb, group_by=False))\n",
    "\n",
    "%timeit big_mapped_array_grouped.reduce(mean_reduce_nb)"
   ]
  },
  {
   "cell_type": "code",
   "execution_count": 38,
   "metadata": {},
   "outputs": [
    {
     "name": "stdout",
     "output_type": "stream",
     "text": [
      "lvl1  lvl2\n",
      "0     a         x\n",
      "1     b         x\n",
      "      c         z\n",
      "      d       NaN\n",
      "dtype: object\n",
      "21.3 ms ± 710 µs per loop (mean ± std. dev. of 7 runs, 10 loops each)\n",
      "lvl1  lvl2\n",
      "0     a       0\n",
      "1     b       0\n",
      "      c       2\n",
      "      d      -1\n",
      "dtype: int64\n",
      "21.1 ms ± 385 µs per loop (mean ± std. dev. of 7 runs, 10 loops each)\n",
      "lvl1\n",
      "0    x\n",
      "1    z\n",
      "dtype: object\n",
      "18.4 ms ± 127 µs per loop (mean ± std. dev. of 7 runs, 100 loops each)\n"
     ]
    }
   ],
   "source": [
    "@njit\n",
    "def argmin_reduce_nb(col, a):\n",
    "    return np.argmin(a)\n",
    "\n",
    "print(mapped_array.reduce(argmin_reduce_nb, to_idx=True))\n",
    "%timeit big_mapped_array.reduce(argmin_reduce_nb, to_idx=True)\n",
    "\n",
    "print(mapped_array.reduce(argmin_reduce_nb, to_idx=True, idx_labeled=False))\n",
    "%timeit big_mapped_array.reduce(argmin_reduce_nb, to_idx=True, idx_labeled=False)\n",
    "\n",
    "print(mapped_array_grouped.reduce(argmin_reduce_nb, to_idx=True))\n",
    "%timeit big_mapped_array_grouped.reduce(argmin_reduce_nb, to_idx=True)"
   ]
  },
  {
   "cell_type": "code",
   "execution_count": 39,
   "metadata": {},
   "outputs": [
    {
     "name": "stdout",
     "output_type": "stream",
     "text": [
      "0    10.0\n",
      "1    12.0\n",
      "Name: (0, a), dtype: float64\n",
      "lvl1     0     1\n",
      "lvl2     a     b\n",
      "0     10.0  13.0\n",
      "1     12.0  14.0\n",
      "lvl1     0     1          \n",
      "lvl2     a     b     c   d\n",
      "0     10.0  13.0  10.0 NaN\n",
      "1     12.0  14.0  12.0 NaN\n",
      "lvl1     0     1          \n",
      "lvl2     a     b     c   d\n",
      "min   10.0  13.0  10.0 NaN\n",
      "max   12.0  14.0  12.0 NaN\n",
      "lvl1     0     1           \n",
      "lvl2     a     b     c    d\n",
      "min   10.0  13.0  10.0  0.0\n",
      "max   12.0  14.0  12.0  0.0\n",
      "lvl1       0       1            \n",
      "lvl2       a       b       c   d\n",
      "0    10 days 13 days 10 days NaT\n",
      "1    12 days 14 days 12 days NaT\n",
      "20.8 ms ± 448 µs per loop (mean ± std. dev. of 7 runs, 10 loops each)\n"
     ]
    }
   ],
   "source": [
    "@njit\n",
    "def min_max_reduce_nb(col, a):\n",
    "    return np.array([np.min(a), np.max(a)])\n",
    "\n",
    "print(mapped_array[(0, 'a')].reduce(min_max_reduce_nb, to_array=True))\n",
    "print(mapped_array[[(0, 'a'), (1, 'b')]].reduce(min_max_reduce_nb, to_array=True))\n",
    "print(mapped_array.reduce(min_max_reduce_nb, to_array=True))\n",
    "print(mapped_array.reduce(min_max_reduce_nb, to_array=True, index=['min', 'max']))\n",
    "print(mapped_array.reduce(min_max_reduce_nb, to_array=True, index=['min', 'max'], default_val=0.))\n",
    "print(mapped_array.reduce(min_max_reduce_nb, to_array=True, time_units=True))\n",
    "\n",
    "%timeit big_mapped_array.reduce(min_max_reduce_nb, to_array=True)"
   ]
  },
  {
   "cell_type": "code",
   "execution_count": 40,
   "metadata": {},
   "outputs": [
    {
     "name": "stdout",
     "output_type": "stream",
     "text": [
      "0    10.0\n",
      "1    12.0\n",
      "dtype: float64\n",
      "lvl1     0\n",
      "0     10.0\n",
      "1     12.0\n",
      "lvl1     0     1\n",
      "0     10.0  10.0\n",
      "1     12.0  14.0\n",
      "lvl1     0     1          \n",
      "lvl2     a     b     c   d\n",
      "0     10.0  13.0  10.0 NaN\n",
      "1     12.0  14.0  12.0 NaN\n",
      "15.6 ms ± 234 µs per loop (mean ± std. dev. of 7 runs, 100 loops each)\n"
     ]
    }
   ],
   "source": [
    "print(mapped_array_grouped[0].reduce(min_max_reduce_nb, to_array=True))\n",
    "print(mapped_array_grouped[[0]].reduce(min_max_reduce_nb, to_array=True))\n",
    "print(mapped_array_grouped.reduce(min_max_reduce_nb, to_array=True))\n",
    "print(mapped_array_grouped.reduce(min_max_reduce_nb, to_array=True, group_by=False))\n",
    "\n",
    "%timeit big_mapped_array_grouped.reduce(min_max_reduce_nb, to_array=True)"
   ]
  },
  {
   "cell_type": "code",
   "execution_count": 41,
   "metadata": {},
   "outputs": [
    {
     "name": "stdout",
     "output_type": "stream",
     "text": [
      "lvl1  0  1        \n",
      "lvl2  a  b  c    d\n",
      "0     x  x  z  NaN\n",
      "1     z  y  x  NaN\n",
      "62.4 ms ± 1.13 ms per loop (mean ± std. dev. of 7 runs, 10 loops each)\n",
      "lvl1  0  1      \n",
      "lvl2  a  b  c  d\n",
      "0     0  0  2 -1\n",
      "1     2  1  0 -1\n",
      "22.6 ms ± 461 µs per loop (mean ± std. dev. of 7 runs, 10 loops each)\n",
      "lvl1  0  1\n",
      "0     x  z\n",
      "1     z  y\n",
      "20.4 ms ± 502 µs per loop (mean ± std. dev. of 7 runs, 10 loops each)\n"
     ]
    }
   ],
   "source": [
    "@njit\n",
    "def idxmin_idxmax_reduce_nb(col, a):\n",
    "    return np.array([np.argmin(a), np.argmax(a)])\n",
    "\n",
    "print(mapped_array.reduce(idxmin_idxmax_reduce_nb, to_array=True, to_idx=True))\n",
    "%timeit big_mapped_array.reduce(idxmin_idxmax_reduce_nb, to_array=True, to_idx=True)\n",
    "\n",
    "print(mapped_array.reduce(idxmin_idxmax_reduce_nb, to_array=True, to_idx=True, idx_labeled=False))\n",
    "%timeit big_mapped_array.reduce(idxmin_idxmax_reduce_nb, to_array=True, to_idx=True, idx_labeled=False)\n",
    "\n",
    "print(mapped_array_grouped.reduce(idxmin_idxmax_reduce_nb, to_array=True, to_idx=True))\n",
    "%timeit big_mapped_array_grouped.reduce(idxmin_idxmax_reduce_nb, to_array=True, to_idx=True)"
   ]
  },
  {
   "cell_type": "code",
   "execution_count": 42,
   "metadata": {},
   "outputs": [
    {
     "name": "stdout",
     "output_type": "stream",
     "text": [
      "lvl1  lvl2\n",
      "0     a       10.0\n",
      "1     b       13.0\n",
      "      c       12.0\n",
      "      d        NaN\n",
      "dtype: float64\n",
      "lvl1  lvl2\n",
      "0     a       12.0\n",
      "1     b       13.0\n",
      "      c       10.0\n",
      "      d        NaN\n",
      "dtype: float64\n",
      "18.8 ms ± 464 µs per loop (mean ± std. dev. of 7 runs, 100 loops each)\n",
      "lvl1\n",
      "0    10.0\n",
      "1    13.0\n",
      "dtype: float64\n",
      "13.6 ms ± 284 µs per loop (mean ± std. dev. of 7 runs, 100 loops each)\n"
     ]
    }
   ],
   "source": [
    "print(mapped_array.nst(0))\n",
    "print(mapped_array.nst(-1))\n",
    "%timeit big_mapped_array.nst(0)\n",
    "\n",
    "print(mapped_array_grouped.nst(0))\n",
    "%timeit big_mapped_array_grouped.nst(0)"
   ]
  },
  {
   "cell_type": "code",
   "execution_count": 43,
   "metadata": {},
   "outputs": [
    {
     "name": "stdout",
     "output_type": "stream",
     "text": [
      "lvl1  lvl2\n",
      "0     a       10.0\n",
      "1     b       13.0\n",
      "      c       10.0\n",
      "      d        NaN\n",
      "dtype: float64\n",
      "27.2 ms ± 385 µs per loop (mean ± std. dev. of 7 runs, 10 loops each)\n",
      "lvl1  lvl2\n",
      "0     a       10.0\n",
      "1     b       13.0\n",
      "      c       10.0\n",
      "      d        NaN\n",
      "dtype: float64\n",
      "20.4 ms ± 407 µs per loop (mean ± std. dev. of 7 runs, 10 loops each)\n",
      "lvl1\n",
      "0    10.0\n",
      "1    10.0\n",
      "dtype: float64\n",
      "15.3 ms ± 308 µs per loop (mean ± std. dev. of 7 runs, 100 loops each)\n"
     ]
    }
   ],
   "source": [
    "print(mapped_array.to_matrix().vbt.min())\n",
    "%timeit big_mapped_array.to_matrix().vbt.min()\n",
    "\n",
    "print(mapped_array.min())\n",
    "%timeit big_mapped_array.min()\n",
    "\n",
    "print(mapped_array_grouped.min())\n",
    "%timeit big_mapped_array_grouped.min()"
   ]
  },
  {
   "cell_type": "code",
   "execution_count": 44,
   "metadata": {},
   "outputs": [
    {
     "name": "stdout",
     "output_type": "stream",
     "text": [
      "lvl1  lvl2\n",
      "0     a       12.0\n",
      "1     b       14.0\n",
      "      c       12.0\n",
      "      d        NaN\n",
      "dtype: float64\n",
      "26.8 ms ± 167 µs per loop (mean ± std. dev. of 7 runs, 10 loops each)\n",
      "lvl1  lvl2\n",
      "0     a       12.0\n",
      "1     b       14.0\n",
      "      c       12.0\n",
      "      d        NaN\n",
      "dtype: float64\n",
      "20.3 ms ± 281 µs per loop (mean ± std. dev. of 7 runs, 10 loops each)\n",
      "lvl1\n",
      "0    12.0\n",
      "1    14.0\n",
      "dtype: float64\n",
      "15.2 ms ± 252 µs per loop (mean ± std. dev. of 7 runs, 100 loops each)\n"
     ]
    }
   ],
   "source": [
    "print(mapped_array.to_matrix().vbt.max())\n",
    "%timeit big_mapped_array.to_matrix().vbt.max()\n",
    "\n",
    "print(mapped_array.max())\n",
    "%timeit big_mapped_array.max()\n",
    "\n",
    "print(mapped_array_grouped.max())\n",
    "%timeit big_mapped_array_grouped.max()"
   ]
  },
  {
   "cell_type": "code",
   "execution_count": 45,
   "metadata": {},
   "outputs": [
    {
     "name": "stdout",
     "output_type": "stream",
     "text": [
      "lvl1  lvl2\n",
      "0     a       11.000000\n",
      "1     b       13.333333\n",
      "      c       11.000000\n",
      "      d             NaN\n",
      "dtype: float64\n",
      "26 ms ± 274 µs per loop (mean ± std. dev. of 7 runs, 10 loops each)\n",
      "lvl1  lvl2\n",
      "0     a       11.000000\n",
      "1     b       13.333333\n",
      "      c       11.000000\n",
      "      d             NaN\n",
      "dtype: float64\n",
      "20.5 ms ± 499 µs per loop (mean ± std. dev. of 7 runs, 10 loops each)\n",
      "lvl1\n",
      "0    11.000000\n",
      "1    12.166667\n",
      "dtype: float64\n",
      "15.7 ms ± 1.15 ms per loop (mean ± std. dev. of 7 runs, 100 loops each)\n"
     ]
    }
   ],
   "source": [
    "print(mapped_array.to_matrix().vbt.mean())\n",
    "%timeit big_mapped_array.to_matrix().vbt.mean()\n",
    "\n",
    "print(mapped_array.mean())\n",
    "%timeit big_mapped_array.mean()\n",
    "\n",
    "print(mapped_array_grouped.mean())\n",
    "%timeit big_mapped_array_grouped.mean()"
   ]
  },
  {
   "cell_type": "code",
   "execution_count": 46,
   "metadata": {},
   "outputs": [
    {
     "name": "stdout",
     "output_type": "stream",
     "text": [
      "lvl1  lvl2\n",
      "0     a       11.0\n",
      "1     b       13.0\n",
      "      c       11.0\n",
      "      d        NaN\n",
      "dtype: float64\n",
      "45.2 ms ± 10.2 ms per loop (mean ± std. dev. of 7 runs, 10 loops each)\n",
      "lvl1  lvl2\n",
      "0     a       11.0\n",
      "1     b       13.0\n",
      "      c       11.0\n",
      "      d        NaN\n",
      "dtype: float64\n",
      "35.3 ms ± 3.98 ms per loop (mean ± std. dev. of 7 runs, 10 loops each)\n",
      "lvl1\n",
      "0    11.0\n",
      "1    12.5\n",
      "dtype: float64\n",
      "28.3 ms ± 161 µs per loop (mean ± std. dev. of 7 runs, 10 loops each)\n"
     ]
    }
   ],
   "source": [
    "print(mapped_array.to_matrix().vbt.median())\n",
    "%timeit big_mapped_array.to_matrix().vbt.median()\n",
    "\n",
    "print(mapped_array.median())\n",
    "%timeit big_mapped_array.median()\n",
    "\n",
    "print(mapped_array_grouped.median())\n",
    "%timeit big_mapped_array_grouped.median()"
   ]
  },
  {
   "cell_type": "code",
   "execution_count": 47,
   "metadata": {},
   "outputs": [
    {
     "name": "stdout",
     "output_type": "stream",
     "text": [
      "lvl1  lvl2\n",
      "0     a       1.00000\n",
      "1     b       0.57735\n",
      "      c       1.00000\n",
      "      d           NaN\n",
      "dtype: float64\n",
      "lvl1  lvl2\n",
      "0     a       0.816497\n",
      "1     b       0.471405\n",
      "      c       0.816497\n",
      "      d            NaN\n",
      "dtype: float64\n",
      "28.9 ms ± 1.99 ms per loop (mean ± std. dev. of 7 runs, 10 loops each)\n",
      "lvl1  lvl2\n",
      "0     a       1.00000\n",
      "1     b       0.57735\n",
      "      c       1.00000\n",
      "      d           NaN\n",
      "dtype: float64\n",
      "lvl1  lvl2\n",
      "0     a       0.816497\n",
      "1     b       0.471405\n",
      "      c       0.816497\n",
      "      d            NaN\n",
      "dtype: float64\n",
      "29 ms ± 5.36 ms per loop (mean ± std. dev. of 7 runs, 10 loops each)\n",
      "lvl1\n",
      "0    1.00000\n",
      "1    1.47196\n",
      "dtype: float64\n",
      "17.8 ms ± 117 µs per loop (mean ± std. dev. of 7 runs, 100 loops each)\n"
     ]
    }
   ],
   "source": [
    "print(mapped_array.to_matrix().vbt.std())\n",
    "print(mapped_array.to_matrix().vbt.std(ddof=0))\n",
    "%timeit big_mapped_array.to_matrix().vbt.std()\n",
    "\n",
    "print(mapped_array.std())\n",
    "print(mapped_array.std(ddof=0))\n",
    "%timeit big_mapped_array.std()\n",
    "\n",
    "print(mapped_array_grouped.std())\n",
    "%timeit big_mapped_array_grouped.std()"
   ]
  },
  {
   "cell_type": "code",
   "execution_count": 48,
   "metadata": {},
   "outputs": [
    {
     "name": "stdout",
     "output_type": "stream",
     "text": [
      "lvl1  lvl2\n",
      "0     a       33.0\n",
      "1     b       40.0\n",
      "      c       33.0\n",
      "      d        0.0\n",
      "dtype: float64\n",
      "26.5 ms ± 349 µs per loop (mean ± std. dev. of 7 runs, 10 loops each)\n",
      "lvl1  lvl2\n",
      "0     a       33.0\n",
      "1     b       40.0\n",
      "      c       33.0\n",
      "      d        0.0\n",
      "dtype: float64\n",
      "20.3 ms ± 459 µs per loop (mean ± std. dev. of 7 runs, 10 loops each)\n",
      "lvl1\n",
      "0    33.0\n",
      "1    73.0\n",
      "dtype: float64\n",
      "15.2 ms ± 349 µs per loop (mean ± std. dev. of 7 runs, 100 loops each)\n"
     ]
    }
   ],
   "source": [
    "print(mapped_array.to_matrix().vbt.sum())\n",
    "%timeit big_mapped_array.to_matrix().vbt.sum()\n",
    "\n",
    "print(mapped_array.sum())\n",
    "%timeit big_mapped_array.sum()\n",
    "\n",
    "print(mapped_array_grouped.sum())\n",
    "%timeit big_mapped_array_grouped.sum()"
   ]
  },
  {
   "cell_type": "code",
   "execution_count": 49,
   "metadata": {},
   "outputs": [
    {
     "name": "stdout",
     "output_type": "stream",
     "text": [
      "lvl1  lvl2\n",
      "0     a         x\n",
      "1     b         x\n",
      "      c         z\n",
      "      d       NaN\n",
      "dtype: object\n",
      "30.3 ms ± 357 µs per loop (mean ± std. dev. of 7 runs, 10 loops each)\n",
      "lvl1  lvl2\n",
      "0     a         x\n",
      "1     b         x\n",
      "      c         z\n",
      "      d       NaN\n",
      "dtype: object\n",
      "29.4 ms ± 5.11 ms per loop (mean ± std. dev. of 7 runs, 10 loops each)\n",
      "lvl1\n",
      "0    x\n",
      "1    z\n",
      "dtype: object\n",
      "23.4 ms ± 1.4 ms per loop (mean ± std. dev. of 7 runs, 10 loops each)\n"
     ]
    }
   ],
   "source": [
    "print(mapped_array.to_matrix().vbt.idxmin())\n",
    "%timeit big_mapped_array.to_matrix().vbt.idxmin()\n",
    "\n",
    "print(mapped_array.idxmin())\n",
    "%timeit big_mapped_array.idxmin()\n",
    "\n",
    "print(mapped_array_grouped.idxmin())\n",
    "%timeit big_mapped_array_grouped.idxmin()"
   ]
  },
  {
   "cell_type": "code",
   "execution_count": 50,
   "metadata": {},
   "outputs": [
    {
     "name": "stdout",
     "output_type": "stream",
     "text": [
      "lvl1  lvl2\n",
      "0     a         z\n",
      "1     b         y\n",
      "      c         x\n",
      "      d       NaN\n",
      "dtype: object\n",
      "30.4 ms ± 371 µs per loop (mean ± std. dev. of 7 runs, 10 loops each)\n",
      "lvl1  lvl2\n",
      "0     a         z\n",
      "1     b         y\n",
      "      c         x\n",
      "      d       NaN\n",
      "dtype: object\n",
      "23.7 ms ± 1.91 ms per loop (mean ± std. dev. of 7 runs, 10 loops each)\n",
      "lvl1\n",
      "0    z\n",
      "1    y\n",
      "dtype: object\n",
      "22.9 ms ± 532 µs per loop (mean ± std. dev. of 7 runs, 10 loops each)\n"
     ]
    }
   ],
   "source": [
    "print(mapped_array.to_matrix().vbt.idxmax())\n",
    "%timeit big_mapped_array.to_matrix().vbt.idxmax()\n",
    "\n",
    "print(mapped_array.idxmax())\n",
    "%timeit big_mapped_array.idxmax()\n",
    "\n",
    "print(mapped_array_grouped.idxmax())\n",
    "%timeit big_mapped_array_grouped.idxmax()"
   ]
  },
  {
   "cell_type": "code",
   "execution_count": 51,
   "metadata": {},
   "outputs": [
    {
     "name": "stdout",
     "output_type": "stream",
     "text": [
      "lvl1      0          1           \n",
      "lvl2      a          b     c    d\n",
      "count   3.0   3.000000   3.0  0.0\n",
      "mean   11.0  13.333333  11.0  NaN\n",
      "std     1.0   0.577350   1.0  NaN\n",
      "min    10.0  13.000000  10.0  NaN\n",
      "25%    10.5  13.000000  10.5  NaN\n",
      "50%    11.0  13.000000  11.0  NaN\n",
      "75%    11.5  13.500000  11.5  NaN\n",
      "max    12.0  14.000000  12.0  NaN\n",
      "lvl1      0          1           \n",
      "lvl2      a          b     c    d\n",
      "count   3.0   3.000000   3.0  0.0\n",
      "mean   11.0  13.333333  11.0  NaN\n",
      "std     1.0   0.577350   1.0  NaN\n",
      "min    10.0  13.000000  10.0  NaN\n",
      "30%    10.6  13.000000  10.6  NaN\n",
      "50%    11.0  13.000000  11.0  NaN\n",
      "70%    11.4  13.400000  11.4  NaN\n",
      "max    12.0  14.000000  12.0  NaN\n",
      "83.4 ms ± 16.1 ms per loop (mean ± std. dev. of 7 runs, 10 loops each)\n",
      "lvl1      0          1           \n",
      "lvl2      a          b     c    d\n",
      "count   3.0   3.000000   3.0  0.0\n",
      "mean   11.0  13.333333  11.0  NaN\n",
      "std     1.0   0.577350   1.0  NaN\n",
      "min    10.0  13.000000  10.0  NaN\n",
      "25%    10.5  13.000000  10.5  NaN\n",
      "50%    11.0  13.000000  11.0  NaN\n",
      "75%    11.5  13.500000  11.5  NaN\n",
      "max    12.0  14.000000  12.0  NaN\n",
      "lvl1      0          1           \n",
      "lvl2      a          b     c    d\n",
      "count   3.0   3.000000   3.0  0.0\n",
      "mean   11.0  13.333333  11.0  NaN\n",
      "std     1.0   0.577350   1.0  NaN\n",
      "min    10.0  13.000000  10.0  NaN\n",
      "30%    10.6  13.000000  10.6  NaN\n",
      "50%    11.0  13.000000  11.0  NaN\n",
      "70%    11.4  13.400000  11.4  NaN\n",
      "max    12.0  14.000000  12.0  NaN\n",
      "69.7 ms ± 4.6 ms per loop (mean ± std. dev. of 7 runs, 10 loops each)\n",
      "lvl1      0          1\n",
      "count   3.0   6.000000\n",
      "mean   11.0  12.166667\n",
      "std     1.0   1.471960\n",
      "min    10.0  10.000000\n",
      "25%    10.5  11.250000\n",
      "50%    11.0  12.500000\n",
      "75%    11.5  13.000000\n",
      "max    12.0  14.000000\n",
      "67.7 ms ± 6.32 ms per loop (mean ± std. dev. of 7 runs, 10 loops each)\n"
     ]
    }
   ],
   "source": [
    "print(mapped_array.to_matrix().vbt.describe())\n",
    "print(mapped_array.to_matrix().vbt.describe(percentiles=[0.3, 0.7]))\n",
    "%timeit big_mapped_array.to_matrix().vbt.describe()\n",
    "\n",
    "print(mapped_array.describe())\n",
    "print(mapped_array.describe(percentiles=[0.3, 0.7]))\n",
    "%timeit big_mapped_array.describe()\n",
    "\n",
    "print(mapped_array_grouped.describe())\n",
    "%timeit big_mapped_array_grouped.describe()"
   ]
  },
  {
   "cell_type": "code",
   "execution_count": 52,
   "metadata": {},
   "outputs": [
    {
     "name": "stdout",
     "output_type": "stream",
     "text": [
      "lvl1  lvl2\n",
      "0     a       3\n",
      "1     b       3\n",
      "      c       3\n",
      "      d       0\n",
      "dtype: int64\n",
      "31.3 ms ± 6.58 ms per loop (mean ± std. dev. of 7 runs, 10 loops each)\n",
      "lvl1  lvl2\n",
      "0     a       3\n",
      "1     b       3\n",
      "      c       3\n",
      "      d       0\n",
      "dtype: int64\n",
      "17.1 ms ± 1.21 ms per loop (mean ± std. dev. of 7 runs, 10 loops each)\n",
      "lvl1\n",
      "0    3\n",
      "1    6\n",
      "dtype: int64\n",
      "10.3 ms ± 554 µs per loop (mean ± std. dev. of 7 runs, 100 loops each)\n"
     ]
    }
   ],
   "source": [
    "print(mapped_array.to_matrix().vbt.count())\n",
    "%timeit big_mapped_array.to_matrix().vbt.count()\n",
    "\n",
    "print(mapped_array.count())\n",
    "%timeit big_mapped_array.count()\n",
    "\n",
    "print(mapped_array_grouped.count())\n",
    "%timeit big_mapped_array_grouped.count()"
   ]
  },
  {
   "cell_type": "code",
   "execution_count": 53,
   "metadata": {},
   "outputs": [
    {
     "name": "stdout",
     "output_type": "stream",
     "text": [
      "10.0    1\n",
      "11.0    1\n",
      "12.0    1\n",
      "Name: (0, a), dtype: int64\n",
      "ten       1\n",
      "eleven    1\n",
      "twelve    1\n",
      "Name: (0, a), dtype: int64\n",
      "41.5 ms ± 4.74 ms per loop (mean ± std. dev. of 7 runs, 10 loops each)\n",
      "lvl1  0  1      \n",
      "lvl2  a  b  c  d\n",
      "10.0  1  0  1  0\n",
      "11.0  1  0  1  0\n",
      "12.0  1  0  1  0\n",
      "13.0  0  2  0  0\n",
      "14.0  0  1  0  0\n",
      "50.6 ms ± 12.7 ms per loop (mean ± std. dev. of 7 runs, 10 loops each)\n",
      "lvl1  0  1\n",
      "10.0  1  1\n",
      "11.0  1  1\n",
      "12.0  1  1\n",
      "13.0  0  2\n",
      "14.0  0  1\n",
      "45.7 ms ± 16.9 ms per loop (mean ± std. dev. of 7 runs, 10 loops each)\n"
     ]
    }
   ],
   "source": [
    "print(mapped_array[(0, 'a')].value_counts())\n",
    "print(mapped_array[(0, 'a')].value_counts(value_map={10: 'ten', 11: 'eleven', 12: 'twelve'}))\n",
    "%timeit big_mapped_array[0].value_counts()\n",
    "\n",
    "print(mapped_array.value_counts())\n",
    "%timeit big_mapped_array.value_counts()\n",
    "\n",
    "print(mapped_array_grouped.value_counts())\n",
    "%timeit big_mapped_array_grouped.value_counts()"
   ]
  },
  {
   "cell_type": "code",
   "execution_count": 54,
   "metadata": {},
   "outputs": [
    {
     "name": "stdout",
     "output_type": "stream",
     "text": [
      "0    10.0\n",
      "1    11.0\n",
      "2    12.0\n",
      "Name: (0, a), dtype: float64\n",
      "33.9 ms ± 7.6 ms per loop (mean ± std. dev. of 7 runs, 1 loop each)\n",
      "lvl1     0     1          \n",
      "lvl2     a     b     c   d\n",
      "0     10.0  13.0  12.0 NaN\n",
      "1     11.0  14.0  11.0 NaN\n",
      "2     12.0  13.0  10.0 NaN\n",
      "25.3 ms ± 749 µs per loop (mean ± std. dev. of 7 runs, 10 loops each)\n",
      "lvl1     0     1\n",
      "0     10.0  13.0\n",
      "1     11.0  14.0\n",
      "2     12.0  13.0\n",
      "3      NaN  12.0\n",
      "4      NaN  11.0\n",
      "5      NaN  10.0\n",
      "lvl1     0     1\n",
      "0     10.0  13.0\n",
      "1     11.0  14.0\n",
      "2     12.0  13.0\n",
      "3      0.0  12.0\n",
      "4      0.0  11.0\n",
      "5      0.0  10.0\n",
      "20.8 ms ± 718 µs per loop (mean ± std. dev. of 7 runs, 10 loops each)\n"
     ]
    }
   ],
   "source": [
    "print(mapped_array[(0, 'a')].stack())\n",
    "%timeit big_mapped_array[0].stack()\n",
    "\n",
    "print(mapped_array.stack())\n",
    "%timeit big_mapped_array.stack()\n",
    "\n",
    "print(mapped_array_grouped.stack())\n",
    "print(mapped_array_grouped.stack(default_val=0))\n",
    "%timeit big_mapped_array_grouped.stack()"
   ]
  },
  {
   "cell_type": "code",
   "execution_count": 55,
   "metadata": {},
   "outputs": [
    {
     "data": {
      "image/png": "[encoded data removed]"
     },
     "metadata": {},
     "output_type": "display_data"
    },
    {
     "data": {
      "image/png": "[encoded data removed]"
     },
     "metadata": {},
     "output_type": "display_data"
    },
    {
     "data": {
      "image/png": "[encoded data removed]"
     },
     "metadata": {},
     "output_type": "display_data"
    }
   ],
   "source": [
    "mapped_array[(0, 'a')].hist().show_png()\n",
    "mapped_array.hist().show_png()\n",
    "mapped_array_grouped.hist().show_png()"
   ]
  },
  {
   "cell_type": "code",
   "execution_count": 56,
   "metadata": {},
   "outputs": [
    {
     "data": {
      "image/png": "[encoded data removed]"
     },
     "metadata": {},
     "output_type": "display_data"
    },
    {
     "data": {
      "image/png": "[encoded data removed]"
     },
     "metadata": {},
     "output_type": "display_data"
    },
    {
     "data": {
      "image/png": "[encoded data removed]"
     },
     "metadata": {},
     "output_type": "display_data"
    }
   ],
   "source": [
    "mapped_array[(0, 'a')].box().show_png()\n",
    "mapped_array.box().show_png()\n",
    "mapped_array_grouped.box().show_png()"
   ]
  },
  {
   "cell_type": "markdown",
   "metadata": {},
   "source": [
    "## Records"
   ]
  },
  {
   "cell_type": "code",
   "execution_count": 57,
   "metadata": {},
   "outputs": [
    {
     "name": "stdout",
     "output_type": "stream",
     "text": [
      "[(0, 0, 10., 21.) (0, 1, 11., 20.) (0, 2, 12., 19.)]\n",
      "MultiIndex([(0, 'a')],\n",
      "           names=['lvl1', 'lvl2'])\n",
      "[(0, 0, 13., 18.) (0, 1, 14., 17.) (0, 2, 13., 18.)]\n",
      "MultiIndex([(1, 'b')],\n",
      "           names=['lvl1', 'lvl2'])\n",
      "[(0, 0, 10., 21.) (0, 1, 11., 20.) (0, 2, 12., 19.) (1, 0, 10., 21.)\n",
      " (1, 1, 11., 20.) (1, 2, 12., 19.)]\n",
      "MultiIndex([(0, 'a'),\n",
      "            (0, 'a')],\n",
      "           names=['lvl1', 'lvl2'])\n",
      "[(0, 0, 10., 21.) (0, 1, 11., 20.) (0, 2, 12., 19.) (1, 0, 13., 18.)\n",
      " (1, 1, 14., 17.) (1, 2, 13., 18.)]\n",
      "MultiIndex([(0, 'a'),\n",
      "            (1, 'b')],\n",
      "           names=['lvl1', 'lvl2'])\n",
      "7.78 ms ± 73.1 µs per loop (mean ± std. dev. of 7 runs, 100 loops each)\n",
      "20.7 ms ± 7.73 ms per loop (mean ± std. dev. of 7 runs, 10 loops each)\n"
     ]
    }
   ],
   "source": [
    "print(records[(0, 'a')].values)\n",
    "print(records[(0, 'a')].wrapper.columns)\n",
    "\n",
    "print(records[(1, 'b')].values)\n",
    "print(records[(1, 'b')].wrapper.columns)\n",
    "\n",
    "print(records[[(0, 'a'), (0, 'a')]].values)\n",
    "print(records[[(0, 'a'), (0, 'a')]].wrapper.columns)\n",
    "\n",
    "print(records[[(0, 'a'), (1, 'b')]].values)\n",
    "print(records[[(0, 'a'), (1, 'b')]].wrapper.columns)\n",
    "\n",
    "%timeit big_records.iloc[0]\n",
    "%timeit big_records.iloc[:]"
   ]
  },
  {
   "cell_type": "code",
   "execution_count": 58,
   "metadata": {},
   "outputs": [
    {
     "name": "stdout",
     "output_type": "stream",
     "text": [
      "[(0, 2, 12., 19.) (0, 1, 11., 20.) (0, 0, 10., 21.)]\n",
      "MultiIndex([(0, 'a')],\n",
      "           names=['lvl1', 'lvl2'])\n",
      "[(0, 2, 13., 18.) (0, 1, 14., 17.) (0, 0, 13., 18.)]\n",
      "MultiIndex([(1, 'b')],\n",
      "           names=['lvl1', 'lvl2'])\n",
      "[(0, 2, 12., 19.) (0, 1, 11., 20.) (0, 0, 10., 21.) (1, 2, 12., 19.)\n",
      " (1, 1, 11., 20.) (1, 0, 10., 21.)]\n",
      "MultiIndex([(0, 'a'),\n",
      "            (0, 'a')],\n",
      "           names=['lvl1', 'lvl2'])\n",
      "[(0, 2, 12., 19.) (0, 1, 11., 20.) (0, 0, 10., 21.) (1, 2, 13., 18.)\n",
      " (1, 1, 14., 17.) (1, 0, 13., 18.)]\n",
      "MultiIndex([(0, 'a'),\n",
      "            (1, 'b')],\n",
      "           names=['lvl1', 'lvl2'])\n",
      "20.7 ms ± 717 µs per loop (mean ± std. dev. of 7 runs, 10 loops each)\n",
      "35.3 ms ± 4.64 ms per loop (mean ± std. dev. of 7 runs, 10 loops each)\n"
     ]
    }
   ],
   "source": [
    "print(records_nosort[(0, 'a')].values)\n",
    "print(records_nosort[(0, 'a')].wrapper.columns)\n",
    "\n",
    "print(records_nosort[(1, 'b')].values)\n",
    "print(records_nosort[(1, 'b')].wrapper.columns)\n",
    "\n",
    "print(records_nosort[[(0, 'a'), (0, 'a')]].values)\n",
    "print(records_nosort[[(0, 'a'), (0, 'a')]].wrapper.columns)\n",
    "\n",
    "print(records_nosort[[(0, 'a'), (1, 'b')]].values)\n",
    "print(records_nosort[[(0, 'a'), (1, 'b')]].wrapper.columns)\n",
    "\n",
    "%timeit big_records_nosort.iloc[0]\n",
    "%timeit big_records_nosort.iloc[:]"
   ]
  },
  {
   "cell_type": "code",
   "execution_count": 59,
   "metadata": {},
   "outputs": [
    {
     "name": "stdout",
     "output_type": "stream",
     "text": [
      "MultiIndex([(0, 'a')],\n",
      "           names=['lvl1', 'lvl2'])\n",
      "1\n",
      "1\n",
      "Int64Index([0], dtype='int64', name='lvl1')\n",
      "MultiIndex([(1, 'b'),\n",
      "            (1, 'c'),\n",
      "            (1, 'd')],\n",
      "           names=['lvl1', 'lvl2'])\n",
      "2\n",
      "1\n",
      "Int64Index([1, 1, 1], dtype='int64', name='lvl1')\n",
      "MultiIndex([(0, 'a')],\n",
      "           names=['lvl1', 'lvl2'])\n",
      "2\n",
      "2\n",
      "Int64Index([0], dtype='int64', name='lvl1')\n",
      "MultiIndex([(0, 'a'),\n",
      "            (1, 'b'),\n",
      "            (1, 'c'),\n",
      "            (1, 'd')],\n",
      "           names=['lvl1', 'lvl2'])\n",
      "2\n",
      "2\n",
      "Int64Index([0, 1, 1, 1], dtype='int64', name='lvl1')\n",
      "18.3 ms ± 1.64 ms per loop (mean ± std. dev. of 7 runs, 100 loops each)\n",
      "18.2 ms ± 381 µs per loop (mean ± std. dev. of 7 runs, 10 loops each)\n"
     ]
    }
   ],
   "source": [
    "print(records_grouped[0].wrapper.columns)  # indexing on groups, not columns!\n",
    "print(records_grouped[0].wrapper.ndim)\n",
    "print(records_grouped[0].wrapper.grouped_ndim)\n",
    "print(records_grouped[0].wrapper.grouper.group_by)\n",
    "\n",
    "print(records_grouped[1].wrapper.columns)\n",
    "print(records_grouped[1].wrapper.ndim)\n",
    "print(records_grouped[1].wrapper.grouped_ndim)\n",
    "print(records_grouped[1].wrapper.grouper.group_by)\n",
    "\n",
    "print(records_grouped[[0]].wrapper.columns)\n",
    "print(records_grouped[[0]].wrapper.ndim)\n",
    "print(records_grouped[[0]].wrapper.grouped_ndim)\n",
    "print(records_grouped[[0]].wrapper.grouper.group_by)\n",
    "\n",
    "print(records_grouped[[0, 1]].wrapper.columns)\n",
    "print(records_grouped[[0, 1]].wrapper.ndim)\n",
    "print(records_grouped[[0, 1]].wrapper.grouped_ndim)\n",
    "print(records_grouped[[0, 1]].wrapper.grouper.group_by)\n",
    "\n",
    "%timeit big_records_grouped.iloc[0]\n",
    "%timeit big_records_grouped.iloc[:]"
   ]
  },
  {
   "cell_type": "code",
   "execution_count": 60,
   "metadata": {},
   "outputs": [
    {
     "name": "stdout",
     "output_type": "stream",
     "text": [
      "Index(['x', 'y', 'z'], dtype='object')\n",
      "MultiIndex([(0, 'a'),\n",
      "            (1, 'b'),\n",
      "            (1, 'c'),\n",
      "            (1, 'd')],\n",
      "           names=['lvl1', 'lvl2'])\n",
      "2\n",
      "None\n",
      "Index(['x', 'y', 'z'], dtype='object')\n",
      "MultiIndex([(0, 'a'),\n",
      "            (1, 'b'),\n",
      "            (1, 'c'),\n",
      "            (1, 'd')],\n",
      "           names=['lvl1', 'lvl2'])\n",
      "2\n",
      "Int64Index([0, 1, 1, 1], dtype='int64', name='lvl1')\n"
     ]
    }
   ],
   "source": [
    "print(records.wrapper.index)\n",
    "print(records.wrapper.columns)\n",
    "print(records.wrapper.ndim)\n",
    "print(records.wrapper.grouper.group_by)\n",
    "\n",
    "print(records_grouped.wrapper.index)\n",
    "print(records_grouped.wrapper.columns)\n",
    "print(records_grouped.wrapper.ndim)\n",
    "print(records_grouped.wrapper.grouper.group_by)"
   ]
  },
  {
   "cell_type": "code",
   "execution_count": 61,
   "metadata": {},
   "outputs": [
    {
     "name": "stdout",
     "output_type": "stream",
     "text": [
      "[(0, 0, 10., 21.) (0, 1, 11., 20.) (0, 2, 12., 19.) (1, 0, 13., 18.)\n",
      " (1, 1, 14., 17.) (1, 2, 13., 18.) (2, 0, 12., 19.) (2, 1, 11., 20.)\n",
      " (2, 2, 10., 21.)]\n",
      "[(0, 0, 10., 21.) (0, 1, 11., 20.) (0, 2, 12., 19.) (1, 0, 13., 18.)\n",
      " (1, 1, 14., 17.) (1, 2, 13., 18.) (2, 0, 12., 19.) (2, 1, 11., 20.)\n",
      " (2, 2, 10., 21.)]\n",
      "5.4 µs ± 54.3 ns per loop (mean ± std. dev. of 7 runs, 100000 loops each)\n"
     ]
    }
   ],
   "source": [
    "print(records.values)\n",
    "\n",
    "print(records.recarray)\n",
    "%timeit big_records.recarray"
   ]
  },
  {
   "cell_type": "code",
   "execution_count": 62,
   "metadata": {},
   "outputs": [
    {
     "name": "stdout",
     "output_type": "stream",
     "text": [
      "   col  idx  some_field1  some_field2\n",
      "0    0    0         10.0         21.0\n",
      "1    0    1         11.0         20.0\n",
      "2    0    2         12.0         19.0\n",
      "3    1    0         13.0         18.0\n",
      "4    1    1         14.0         17.0\n",
      "5    1    2         13.0         18.0\n",
      "6    2    0         12.0         19.0\n",
      "7    2    1         11.0         20.0\n",
      "8    2    2         10.0         21.0\n"
     ]
    }
   ],
   "source": [
    "print(records.records)"
   ]
  },
  {
   "cell_type": "code",
   "execution_count": 63,
   "metadata": {},
   "outputs": [
    {
     "name": "stdout",
     "output_type": "stream",
     "text": [
      "True\n",
      "2.14 ms ± 43.3 µs per loop (mean ± std. dev. of 7 runs, 100 loops each)\n",
      "False\n",
      "3.47 µs ± 60 ns per loop (mean ± std. dev. of 7 runs, 100000 loops each)\n",
      "True\n",
      "2.5 ms ± 242 µs per loop (mean ± std. dev. of 7 runs, 100 loops each)\n",
      "False\n",
      "3.14 µs ± 40.7 ns per loop (mean ± std. dev. of 7 runs, 100000 loops each)\n"
     ]
    }
   ],
   "source": [
    "print(records.is_sorted())\n",
    "%timeit big_records.is_sorted()\n",
    "\n",
    "print(records_nosort.is_sorted())\n",
    "%timeit big_records_nosort.is_sorted()\n",
    "\n",
    "print(records.is_sorted(incl_idx=True))\n",
    "%timeit big_records.is_sorted(incl_idx=True)\n",
    "\n",
    "print(records_nosort.is_sorted(incl_idx=True))\n",
    "%timeit big_records_nosort.is_sorted(incl_idx=True)"
   ]
  },
  {
   "cell_type": "code",
   "execution_count": 64,
   "metadata": {},
   "outputs": [
    {
     "name": "stdout",
     "output_type": "stream",
     "text": [
      "[(0, 0, 10., 21.) (0, 1, 11., 20.) (0, 2, 12., 19.) (1, 0, 13., 18.)\n",
      " (1, 1, 14., 17.) (1, 2, 13., 18.) (2, 0, 12., 19.) (2, 1, 11., 20.)\n",
      " (2, 2, 10., 21.)]\n",
      "2.2 ms ± 51.1 µs per loop (mean ± std. dev. of 7 runs, 100 loops each)\n",
      "[(0, 2, 12., 19.) (0, 1, 11., 20.) (0, 0, 10., 21.) (1, 2, 13., 18.)\n",
      " (1, 1, 14., 17.) (1, 0, 13., 18.) (2, 2, 10., 21.) (2, 1, 11., 20.)\n",
      " (2, 0, 12., 19.)]\n",
      "126 ms ± 27.1 ms per loop (mean ± std. dev. of 7 runs, 10 loops each)\n",
      "[(0, 0, 10., 21.) (0, 1, 11., 20.) (0, 2, 12., 19.) (1, 0, 13., 18.)\n",
      " (1, 1, 14., 17.) (1, 2, 13., 18.) (2, 0, 12., 19.) (2, 1, 11., 20.)\n",
      " (2, 2, 10., 21.)]\n",
      "2.52 ms ± 178 µs per loop (mean ± std. dev. of 7 runs, 100 loops each)\n",
      "[(0, 0, 10., 21.) (0, 1, 11., 20.) (0, 2, 12., 19.) (1, 0, 13., 18.)\n",
      " (1, 1, 14., 17.) (1, 2, 13., 18.) (2, 0, 12., 19.) (2, 1, 11., 20.)\n",
      " (2, 2, 10., 21.)]\n",
      "148 ms ± 7.23 ms per loop (mean ± std. dev. of 7 runs, 10 loops each)\n"
     ]
    }
   ],
   "source": [
    "print(records.sort().records_arr)\n",
    "%timeit big_records.sort()\n",
    "\n",
    "print(records_nosort.sort().records_arr)\n",
    "%timeit big_records_nosort.sort()\n",
    "\n",
    "print(records.sort(incl_idx=True).records_arr)\n",
    "%timeit big_records.sort(incl_idx=True)\n",
    "\n",
    "print(records_nosort.sort(incl_idx=True).records_arr)\n",
    "%timeit big_records_nosort.sort(incl_idx=True)"
   ]
  },
  {
   "cell_type": "code",
   "execution_count": 65,
   "metadata": {},
   "outputs": [
    {
     "name": "stdout",
     "output_type": "stream",
     "text": [
      "[(0, 2, 12., 19.) (1, 0, 13., 18.) (1, 1, 14., 17.) (1, 2, 13., 18.)\n",
      " (2, 0, 12., 19.)]\n",
      "13.2 ms ± 614 µs per loop (mean ± std. dev. of 7 runs, 100 loops each)\n"
     ]
    }
   ],
   "source": [
    "mask = records.values['some_field1'] >= records.values['some_field1'].mean()\n",
    "print(records.filter_by_mask(mask).values)\n",
    "\n",
    "big_mask = big_records.values['some_field1'] >= big_records.values['some_field1'].mean()\n",
    "%timeit big_records.filter_by_mask(big_mask)"
   ]
  },
  {
   "cell_type": "code",
   "execution_count": 66,
   "metadata": {},
   "outputs": [
    {
     "name": "stdout",
     "output_type": "stream",
     "text": [
      "lvl1  lvl2\n",
      "0     a       153.0\n",
      "1     b       146.0\n",
      "      c       153.0\n",
      "      d         0.0\n",
      "dtype: float64\n",
      "lvl1\n",
      "0    153.0\n",
      "1    299.0\n",
      "dtype: float64\n",
      "lvl1  lvl2\n",
      "0     a       153.0\n",
      "1     b       146.0\n",
      "      c       153.0\n",
      "      d         0.0\n",
      "dtype: float64\n",
      "8.7 ms ± 74.8 µs per loop (mean ± std. dev. of 7 runs, 100 loops each)\n",
      "5.66 ms ± 85.7 µs per loop (mean ± std. dev. of 7 runs, 100 loops each)\n"
     ]
    }
   ],
   "source": [
    "@njit\n",
    "def map_nb(record):\n",
    "    return record.some_field1 + record.some_field2 * 2\n",
    "\n",
    "print(records.map(map_nb).sum())\n",
    "print(records_grouped.map(map_nb).sum())\n",
    "print(records_grouped.map(map_nb, group_by=False).sum())\n",
    "\n",
    "%timeit vbt.records.MappedArray(\\\n",
    "    big_wrapper,\\\n",
    "    big_records_arr['some_field1'] + big_records_arr['some_field2'] * 2,\\\n",
    "    big_records_arr['col'],\\\n",
    ")\n",
    "%timeit big_records.map(map_nb)  # faster"
   ]
  },
  {
   "cell_type": "code",
   "execution_count": 67,
   "metadata": {},
   "outputs": [
    {
     "name": "stdout",
     "output_type": "stream",
     "text": [
      "[0 0 0 1 1 1 2 2 2]\n",
      "[0 1 2 0 1 2 0 1 2]\n",
      "[10. 11. 12. 13. 14. 13. 12. 11. 10.]\n",
      "[21. 20. 19. 18. 17. 18. 19. 20. 21.]\n",
      "lvl1  lvl2\n",
      "0     a       33.0\n",
      "1     b       40.0\n",
      "      c       33.0\n",
      "      d        0.0\n",
      "dtype: float64\n",
      "lvl1\n",
      "0    33.0\n",
      "1    73.0\n",
      "dtype: float64\n",
      "lvl1  lvl2\n",
      "0     a       33.0\n",
      "1     b       40.0\n",
      "      c       33.0\n",
      "      d        0.0\n",
      "dtype: float64\n",
      "19.5 µs ± 771 ns per loop (mean ± std. dev. of 7 runs, 10000 loops each)\n"
     ]
    }
   ],
   "source": [
    "print(records.map_field('col').values)\n",
    "print(records.map_field('idx').values)\n",
    "print(records.map_field('some_field1').values)\n",
    "print(records.map_field('some_field2').values)\n",
    "\n",
    "print(records.map_field('some_field1').sum())\n",
    "print(records_grouped.map_field('some_field1').sum())\n",
    "print(records_grouped.map_field('some_field1', group_by=False).sum())\n",
    "\n",
    "%timeit big_records.map_field('some_field1')"
   ]
  },
  {
   "cell_type": "code",
   "execution_count": 68,
   "metadata": {},
   "outputs": [
    {
     "name": "stdout",
     "output_type": "stream",
     "text": [
      "[52. 51. 50. 49. 48. 49. 50. 51. 52.]\n",
      "lvl1\n",
      "0    153.0\n",
      "1    299.0\n",
      "dtype: float64\n",
      "lvl1  lvl2\n",
      "0     a       153.0\n",
      "1     b       146.0\n",
      "      c       153.0\n",
      "      d         0.0\n",
      "dtype: float64\n",
      "8.83 ms ± 179 µs per loop (mean ± std. dev. of 7 runs, 100 loops each)\n"
     ]
    }
   ],
   "source": [
    "print(records.map_array(records_arr['some_field1'] + records_arr['some_field2'] * 2).values)\n",
    "print(records_grouped.map_array(records_arr['some_field1'] + records_arr['some_field2'] * 2).sum())\n",
    "print(records_grouped.map_array(records_arr['some_field1'] + records_arr['some_field2'] * 2, group_by=False).sum())\n",
    "\n",
    "%timeit big_records.map_array(big_records_arr['some_field1'] + big_records_arr['some_field2'] * 2)"
   ]
  },
  {
   "cell_type": "code",
   "execution_count": 69,
   "metadata": {},
   "outputs": [
    {
     "name": "stdout",
     "output_type": "stream",
     "text": [
      "lvl1  lvl2\n",
      "0     a       3\n",
      "1     b       3\n",
      "      c       3\n",
      "      d       0\n",
      "dtype: int64\n",
      "lvl1\n",
      "0    3\n",
      "1    6\n",
      "dtype: int64\n",
      "lvl1  lvl2\n",
      "0     a       3\n",
      "1     b       3\n",
      "      c       3\n",
      "      d       0\n",
      "dtype: int64\n",
      "14.8 ms ± 350 µs per loop (mean ± std. dev. of 7 runs, 100 loops each)\n",
      "8.65 ms ± 146 µs per loop (mean ± std. dev. of 7 runs, 100 loops each)\n"
     ]
    }
   ],
   "source": [
    "print(records.count())\n",
    "print(records_grouped.count())\n",
    "print(records_grouped.count(group_by=False))\n",
    "\n",
    "%timeit big_records.count()\n",
    "%timeit big_records_grouped.count()"
   ]
  },
  {
   "cell_type": "code",
   "execution_count": 70,
   "metadata": {},
   "outputs": [
    {
     "name": "stdout",
     "output_type": "stream",
     "text": [
      "lvl1  lvl2\n",
      "0     a       1\n",
      "1     b       0\n",
      "      c       1\n",
      "      d       0\n",
      "dtype: int64\n",
      "lvl1\n",
      "0    1\n",
      "1    1\n",
      "dtype: int64\n",
      "lvl1  lvl2\n",
      "0     a       1\n",
      "1     b       0\n",
      "      c       1\n",
      "      d       0\n",
      "dtype: int64\n"
     ]
    }
   ],
   "source": [
    "filter_mask = np.array([True, False, False, False, False, False, False, False, True])\n",
    "\n",
    "print(records.filter_by_mask(filter_mask).count())\n",
    "print(records_grouped.filter_by_mask(filter_mask).count())\n",
    "print(records_grouped.filter_by_mask(filter_mask, group_by=False).count())"
   ]
  },
  {
   "cell_type": "code",
   "execution_count": 72,
   "metadata": {},
   "outputs": [
    {
     "name": "stdout",
     "output_type": "stream",
     "text": [
      "   col  idx  some_field1  some_field2\n",
      "0    0    0         10.0         21.0\n",
      "1    2    2         10.0         21.0\n"
     ]
    }
   ],
   "source": [
    "filtered_records = records.filter_by_mask(filter_mask)\n",
    "print(filtered_records.records)"
   ]
  },
  {
   "cell_type": "code",
   "execution_count": 73,
   "metadata": {},
   "outputs": [
    {
     "name": "stdout",
     "output_type": "stream",
     "text": [
      "   col  idx  some_field1  some_field2\n",
      "0    0    0         10.0         21.0\n",
      "[10.]\n",
      "10.0\n",
      "1\n"
     ]
    }
   ],
   "source": [
    "print(filtered_records[(0, 'a')].records)\n",
    "print(filtered_records[(0, 'a')].map_field('some_field1').values)\n",
    "print(filtered_records[(0, 'a')].map_field('some_field1').min())\n",
    "print(filtered_records[(0, 'a')].count())"
   ]
  },
  {
   "cell_type": "code",
   "execution_count": 74,
   "metadata": {},
   "outputs": [
    {
     "name": "stdout",
     "output_type": "stream",
     "text": [
      "Empty DataFrame\n",
      "Columns: [col, idx, some_field1, some_field2]\n",
      "Index: []\n",
      "[]\n",
      "nan\n",
      "0\n"
     ]
    }
   ],
   "source": [
    "print(filtered_records[(1, 'b')].records)\n",
    "print(filtered_records[(1, 'b')].map_field('some_field1').values)\n",
    "print(filtered_records[(1, 'b')].map_field('some_field1').min())\n",
    "print(filtered_records[(1, 'b')].count())"
   ]
  },
  {
   "cell_type": "code",
   "execution_count": 75,
   "metadata": {},
   "outputs": [
    {
     "name": "stdout",
     "output_type": "stream",
     "text": [
      "   col  idx  some_field1  some_field2\n",
      "0    0    2         10.0         21.0\n",
      "[10.]\n",
      "10.0\n",
      "1\n"
     ]
    }
   ],
   "source": [
    "print(filtered_records[(1, 'c')].records)\n",
    "print(filtered_records[(1, 'c')].map_field('some_field1').values)\n",
    "print(filtered_records[(1, 'c')].map_field('some_field1').min())\n",
    "print(filtered_records[(1, 'c')].count())"
   ]
  },
  {
   "cell_type": "code",
   "execution_count": 76,
   "metadata": {},
   "outputs": [
    {
     "name": "stdout",
     "output_type": "stream",
     "text": [
      "Empty DataFrame\n",
      "Columns: [col, idx, some_field1, some_field2]\n",
      "Index: []\n",
      "[]\n",
      "nan\n",
      "0\n"
     ]
    }
   ],
   "source": [
    "print(filtered_records[(1, 'd')].records)\n",
    "print(filtered_records[(1, 'd')].map_field('some_field1').values)\n",
    "print(filtered_records[(1, 'd')].map_field('some_field1').min())\n",
    "print(filtered_records[(1, 'd')].count())"
   ]
  },
  {
   "cell_type": "markdown",
   "metadata": {},
   "source": [
    "## Drawdowns"
   ]
  },
  {
   "cell_type": "code",
   "execution_count": 9,
   "metadata": {},
   "outputs": [],
   "source": [
    "ts = pd.DataFrame({\n",
    "    'a': [2, 1, 3, 1, 4, 1], \n",
    "    'b': [1, 2, 1, 3, 1, 4],\n",
    "    'c': [1, 2, 3, 2, 1, 2],\n",
    "    'd': [1, 2, 3, 4, 5, 6]\n",
    "}, index=[\n",
    "    datetime(2020, 1, 1),\n",
    "    datetime(2020, 1, 2),\n",
    "    datetime(2020, 1, 3),\n",
    "    datetime(2020, 1, 4),\n",
    "    datetime(2020, 1, 5),\n",
    "    datetime(2020, 1, 6)\n",
    "])\n",
    "\n",
    "np.random.seed(42)\n",
    "big_ts = pd.DataFrame(np.random.randint(1, 10, size=(1000, 1000)))"
   ]
  },
  {
   "cell_type": "code",
   "execution_count": 10,
   "metadata": {},
   "outputs": [
    {
     "name": "stdout",
     "output_type": "stream",
     "text": [
      "(6,)\n"
     ]
    }
   ],
   "source": [
    "drawdowns = vbt.Drawdowns.from_ts(ts, freq='1 days')\n",
    "print(drawdowns.values.shape)"
   ]
  },
  {
   "cell_type": "code",
   "execution_count": 11,
   "metadata": {},
   "outputs": [
    {
     "name": "stdout",
     "output_type": "stream",
     "text": [
      "(99845,)\n"
     ]
    }
   ],
   "source": [
    "big_drawdowns = vbt.Drawdowns.from_ts(big_ts, freq='1 days')\n",
    "print(big_drawdowns.values.shape)"
   ]
  },
  {
   "cell_type": "code",
   "execution_count": 80,
   "metadata": {},
   "outputs": [
    {
     "name": "stdout",
     "output_type": "stream",
     "text": [
      "8.46 ms ± 144 µs per loop (mean ± std. dev. of 7 runs, 100 loops each)\n"
     ]
    }
   ],
   "source": [
    "%timeit vbt.Drawdowns.from_ts(big_ts, freq='1 days')"
   ]
  },
  {
   "cell_type": "code",
   "execution_count": 81,
   "metadata": {},
   "outputs": [
    {
     "name": "stdout",
     "output_type": "stream",
     "text": [
      "   col  start_idx  valley_idx  end_idx  status\n",
      "0    0          0           1        2       1\n",
      "1    0          2           3        4       1\n",
      "2    0          4           5        5       0\n",
      "3    1          1           2        3       1\n",
      "4    1          3           4        5       1\n",
      "5    2          2           4        5       0\n",
      "            a  b  c  d\n",
      "2020-01-01  2  1  1  1\n",
      "2020-01-02  1  2  2  2\n",
      "2020-01-03  3  1  3  3\n",
      "2020-01-04  1  3  2  4\n",
      "2020-01-05  4  1  1  5\n",
      "2020-01-06  1  4  2  6\n",
      "   col  start_idx  valley_idx  end_idx  status\n",
      "0    0          0           1        2       1\n",
      "1    0          2           3        4       1\n",
      "2    0          4           5        5       0\n",
      "2020-01-01    2\n",
      "2020-01-02    1\n",
      "2020-01-03    3\n",
      "2020-01-04    1\n",
      "2020-01-05    4\n",
      "2020-01-06    1\n",
      "Name: a, dtype: int64\n",
      "1.53 ms ± 68.4 µs per loop (mean ± std. dev. of 7 runs, 100 loops each)\n",
      "10.1 ms ± 63.5 µs per loop (mean ± std. dev. of 7 runs, 100 loops each)\n"
     ]
    }
   ],
   "source": [
    "print(drawdowns.records)\n",
    "print(drawdowns.ts)\n",
    "\n",
    "print(drawdowns['a'].records)\n",
    "print(drawdowns['a'].ts)\n",
    "\n",
    "%timeit big_drawdowns.iloc[0]\n",
    "%timeit big_drawdowns.iloc[:]"
   ]
  },
  {
   "cell_type": "code",
   "execution_count": 82,
   "metadata": {},
   "outputs": [
    {
     "name": "stdout",
     "output_type": "stream",
     "text": [
      "  Column Start Date Valley Date   End Date     Status\n",
      "0      a 2020-01-01  2020-01-02 2020-01-03  Recovered\n",
      "1      a 2020-01-03  2020-01-04 2020-01-05  Recovered\n",
      "2      a 2020-01-05  2020-01-06 2020-01-06     Active\n",
      "3      b 2020-01-02  2020-01-03 2020-01-04  Recovered\n",
      "4      b 2020-01-04  2020-01-05 2020-01-06  Recovered\n",
      "5      c 2020-01-03  2020-01-05 2020-01-06     Active\n"
     ]
    }
   ],
   "source": [
    "print(drawdowns.records_readable)"
   ]
  },
  {
   "cell_type": "code",
   "execution_count": 83,
   "metadata": {},
   "outputs": [
    {
     "name": "stdout",
     "output_type": "stream",
     "text": [
      "3\n",
      "a    3\n",
      "b    2\n",
      "c    1\n",
      "d    0\n",
      "dtype: int64\n",
      "group\n",
      "first     5\n",
      "second    1\n",
      "dtype: int64\n"
     ]
    }
   ],
   "source": [
    "print(drawdowns['a'].count())\n",
    "\n",
    "print(drawdowns.count())\n",
    "print(drawdowns.count(group_by=group_by))"
   ]
  },
  {
   "cell_type": "code",
   "execution_count": 84,
   "metadata": {},
   "outputs": [
    {
     "name": "stdout",
     "output_type": "stream",
     "text": [
      "2020-01-01    NaN\n",
      "2020-01-02    NaN\n",
      "2020-01-03    2.0\n",
      "2020-01-04    NaN\n",
      "2020-01-05    3.0\n",
      "2020-01-06    4.0\n",
      "Name: a, dtype: float64\n",
      "              a    b    c   d\n",
      "2020-01-01  NaN  NaN  NaN NaN\n",
      "2020-01-02  NaN  NaN  NaN NaN\n",
      "2020-01-03  2.0  NaN  NaN NaN\n",
      "2020-01-04  NaN  2.0  NaN NaN\n",
      "2020-01-05  3.0  NaN  NaN NaN\n",
      "2020-01-06  4.0  3.0  3.0 NaN\n",
      "1.87 ms ± 41.6 µs per loop (mean ± std. dev. of 7 runs, 1000 loops each)\n"
     ]
    }
   ],
   "source": [
    "print(drawdowns['a'].start_value.to_matrix())\n",
    "print(drawdowns.start_value.to_matrix())\n",
    "\n",
    "%timeit big_drawdowns.start_value"
   ]
  },
  {
   "cell_type": "code",
   "execution_count": 85,
   "metadata": {},
   "outputs": [
    {
     "name": "stdout",
     "output_type": "stream",
     "text": [
      "2020-01-01    NaN\n",
      "2020-01-02    NaN\n",
      "2020-01-03    1.0\n",
      "2020-01-04    NaN\n",
      "2020-01-05    1.0\n",
      "2020-01-06    1.0\n",
      "Name: a, dtype: float64\n",
      "              a    b    c   d\n",
      "2020-01-01  NaN  NaN  NaN NaN\n",
      "2020-01-02  NaN  NaN  NaN NaN\n",
      "2020-01-03  1.0  NaN  NaN NaN\n",
      "2020-01-04  NaN  1.0  NaN NaN\n",
      "2020-01-05  1.0  NaN  NaN NaN\n",
      "2020-01-06  1.0  1.0  1.0 NaN\n",
      "1.87 ms ± 31.2 µs per loop (mean ± std. dev. of 7 runs, 1000 loops each)\n"
     ]
    }
   ],
   "source": [
    "print(drawdowns['a'].valley_value.to_matrix())\n",
    "print(drawdowns.valley_value.to_matrix())\n",
    "\n",
    "%timeit big_drawdowns.valley_value"
   ]
  },
  {
   "cell_type": "code",
   "execution_count": 86,
   "metadata": {},
   "outputs": [
    {
     "name": "stdout",
     "output_type": "stream",
     "text": [
      "2020-01-01    NaN\n",
      "2020-01-02    NaN\n",
      "2020-01-03    3.0\n",
      "2020-01-04    NaN\n",
      "2020-01-05    4.0\n",
      "2020-01-06    1.0\n",
      "Name: a, dtype: float64\n",
      "              a    b    c   d\n",
      "2020-01-01  NaN  NaN  NaN NaN\n",
      "2020-01-02  NaN  NaN  NaN NaN\n",
      "2020-01-03  3.0  NaN  NaN NaN\n",
      "2020-01-04  NaN  3.0  NaN NaN\n",
      "2020-01-05  4.0  NaN  NaN NaN\n",
      "2020-01-06  1.0  4.0  2.0 NaN\n",
      "1.86 ms ± 28.9 µs per loop (mean ± std. dev. of 7 runs, 1000 loops each)\n"
     ]
    }
   ],
   "source": [
    "print(drawdowns['a'].end_value.to_matrix())\n",
    "print(drawdowns.end_value.to_matrix())\n",
    "\n",
    "%timeit big_drawdowns.end_value"
   ]
  },
  {
   "cell_type": "code",
   "execution_count": 87,
   "metadata": {},
   "outputs": [
    {
     "name": "stdout",
     "output_type": "stream",
     "text": [
      "2020-01-01         NaN\n",
      "2020-01-02         NaN\n",
      "2020-01-03   -0.500000\n",
      "2020-01-04         NaN\n",
      "2020-01-05   -0.666667\n",
      "2020-01-06   -0.750000\n",
      "Name: a, dtype: float64\n",
      "                   a         b         c   d\n",
      "2020-01-01       NaN       NaN       NaN NaN\n",
      "2020-01-02       NaN       NaN       NaN NaN\n",
      "2020-01-03 -0.500000       NaN       NaN NaN\n",
      "2020-01-04       NaN -0.500000       NaN NaN\n",
      "2020-01-05 -0.666667       NaN       NaN NaN\n",
      "2020-01-06 -0.750000 -0.666667 -0.666667 NaN\n",
      "3.74 ms ± 21.1 µs per loop (mean ± std. dev. of 7 runs, 100 loops each)\n"
     ]
    }
   ],
   "source": [
    "print(drawdowns['a'].drawdown.to_matrix())\n",
    "print(drawdowns.drawdown.to_matrix())\n",
    "\n",
    "%timeit big_drawdowns.drawdown"
   ]
  },
  {
   "cell_type": "code",
   "execution_count": 88,
   "metadata": {},
   "outputs": [
    {
     "name": "stdout",
     "output_type": "stream",
     "text": [
      "-0.6388888888888888\n",
      "a   -0.638889\n",
      "b   -0.583333\n",
      "c   -0.666667\n",
      "d    0.000000\n",
      "dtype: float64\n",
      "9.15 ms ± 208 µs per loop (mean ± std. dev. of 7 runs, 100 loops each)\n",
      "group\n",
      "first    -0.616667\n",
      "second   -0.666667\n",
      "dtype: float64\n",
      "6.72 ms ± 75.2 µs per loop (mean ± std. dev. of 7 runs, 100 loops each)\n"
     ]
    }
   ],
   "source": [
    "print(drawdowns['a'].avg_drawdown())\n",
    "print(drawdowns.avg_drawdown())\n",
    "%timeit big_drawdowns.avg_drawdown()\n",
    "\n",
    "print(drawdowns.avg_drawdown(group_by=group_by))\n",
    "%timeit big_drawdowns.avg_drawdown(group_by=big_group_by)"
   ]
  },
  {
   "cell_type": "code",
   "execution_count": 89,
   "metadata": {},
   "outputs": [
    {
     "name": "stdout",
     "output_type": "stream",
     "text": [
      "-0.75\n",
      "a   -0.750000\n",
      "b   -0.666667\n",
      "c   -0.666667\n",
      "d    0.000000\n",
      "dtype: float64\n",
      "10.5 ms ± 2.29 ms per loop (mean ± std. dev. of 7 runs, 100 loops each)\n",
      "group\n",
      "first    -0.750000\n",
      "second   -0.666667\n",
      "dtype: float64\n",
      "7.28 ms ± 574 µs per loop (mean ± std. dev. of 7 runs, 100 loops each)\n"
     ]
    }
   ],
   "source": [
    "print(drawdowns['a'].max_drawdown())\n",
    "print(drawdowns.max_drawdown())\n",
    "%timeit big_drawdowns.max_drawdown()\n",
    "\n",
    "print(drawdowns.max_drawdown(group_by=group_by))\n",
    "%timeit big_drawdowns.max_drawdown(group_by=big_group_by)"
   ]
  },
  {
   "cell_type": "code",
   "execution_count": 90,
   "metadata": {},
   "outputs": [
    {
     "name": "stdout",
     "output_type": "stream",
     "text": [
      "2020-01-01    NaN\n",
      "2020-01-02    NaN\n",
      "2020-01-03    2.0\n",
      "2020-01-04    NaN\n",
      "2020-01-05    2.0\n",
      "2020-01-06    1.0\n",
      "Name: a, dtype: float64\n",
      "              a    b    c   d\n",
      "2020-01-01  NaN  NaN  NaN NaN\n",
      "2020-01-02  NaN  NaN  NaN NaN\n",
      "2020-01-03  2.0  NaN  NaN NaN\n",
      "2020-01-04  NaN  2.0  NaN NaN\n",
      "2020-01-05  2.0  NaN  NaN NaN\n",
      "2020-01-06  1.0  2.0  3.0 NaN\n",
      "907 µs ± 93 µs per loop (mean ± std. dev. of 7 runs, 1000 loops each)\n"
     ]
    }
   ],
   "source": [
    "print(drawdowns['a'].duration.to_matrix())\n",
    "print(drawdowns.duration.to_matrix())\n",
    "\n",
    "%timeit big_drawdowns.duration"
   ]
  },
  {
   "cell_type": "code",
   "execution_count": 91,
   "metadata": {},
   "outputs": [
    {
     "name": "stdout",
     "output_type": "stream",
     "text": [
      "1 days 16:00:00\n",
      "a   1 days 16:00:00\n",
      "b   2 days 00:00:00\n",
      "c   3 days 00:00:00\n",
      "d               NaT\n",
      "dtype: timedelta64[ns]\n",
      "6.05 ms ± 146 µs per loop (mean ± std. dev. of 7 runs, 100 loops each)\n",
      "group\n",
      "first    1 days 19:12:00\n",
      "second   3 days 00:00:00\n",
      "dtype: timedelta64[ns]\n",
      "3.76 ms ± 40.4 µs per loop (mean ± std. dev. of 7 runs, 100 loops each)\n"
     ]
    }
   ],
   "source": [
    "print(drawdowns['a'].avg_duration())\n",
    "print(drawdowns.avg_duration())\n",
    "%timeit big_drawdowns.avg_duration()\n",
    "\n",
    "print(drawdowns.avg_duration(group_by=group_by))\n",
    "%timeit big_drawdowns.avg_duration(group_by=big_group_by)"
   ]
  },
  {
   "cell_type": "code",
   "execution_count": 92,
   "metadata": {},
   "outputs": [
    {
     "name": "stdout",
     "output_type": "stream",
     "text": [
      "2 days 00:00:00\n",
      "a   2 days\n",
      "b   2 days\n",
      "c   3 days\n",
      "d      NaT\n",
      "dtype: timedelta64[ns]\n",
      "6.03 ms ± 35.2 µs per loop (mean ± std. dev. of 7 runs, 100 loops each)\n",
      "group\n",
      "first    2 days\n",
      "second   3 days\n",
      "dtype: timedelta64[ns]\n",
      "3.73 ms ± 31 µs per loop (mean ± std. dev. of 7 runs, 100 loops each)\n"
     ]
    }
   ],
   "source": [
    "print(drawdowns['a'].max_duration())\n",
    "print(drawdowns.max_duration())\n",
    "%timeit big_drawdowns.max_duration()\n",
    "\n",
    "print(drawdowns.max_duration(group_by=group_by))\n",
    "%timeit big_drawdowns.max_duration(group_by=big_group_by)"
   ]
  },
  {
   "cell_type": "code",
   "execution_count": 93,
   "metadata": {},
   "outputs": [
    {
     "name": "stdout",
     "output_type": "stream",
     "text": [
      "0.8333333333333334\n",
      "a    0.833333\n",
      "b    0.666667\n",
      "c    0.500000\n",
      "d    0.000000\n",
      "dtype: float64\n",
      "6.34 ms ± 150 µs per loop (mean ± std. dev. of 7 runs, 100 loops each)\n",
      "group\n",
      "first     0.75\n",
      "second    0.25\n",
      "dtype: float64\n",
      "4.52 ms ± 104 µs per loop (mean ± std. dev. of 7 runs, 100 loops each)\n"
     ]
    }
   ],
   "source": [
    "print(drawdowns['a'].coverage())\n",
    "print(drawdowns.coverage())\n",
    "%timeit big_drawdowns.coverage()\n",
    "\n",
    "print(drawdowns.coverage(group_by=group_by))\n",
    "%timeit big_drawdowns.coverage(group_by=big_group_by)"
   ]
  },
  {
   "cell_type": "code",
   "execution_count": 94,
   "metadata": {},
   "outputs": [
    {
     "name": "stdout",
     "output_type": "stream",
     "text": [
      "2020-01-01    NaN\n",
      "2020-01-02    NaN\n",
      "2020-01-03    1.0\n",
      "2020-01-04    NaN\n",
      "2020-01-05    1.0\n",
      "2020-01-06    1.0\n",
      "Name: a, dtype: float64\n",
      "              a    b    c   d\n",
      "2020-01-01  NaN  NaN  NaN NaN\n",
      "2020-01-02  NaN  NaN  NaN NaN\n",
      "2020-01-03  1.0  NaN  NaN NaN\n",
      "2020-01-04  NaN  1.0  NaN NaN\n",
      "2020-01-05  1.0  NaN  NaN NaN\n",
      "2020-01-06  1.0  1.0  2.0 NaN\n",
      "773 µs ± 6.61 µs per loop (mean ± std. dev. of 7 runs, 1000 loops each)\n"
     ]
    }
   ],
   "source": [
    "print(drawdowns['a'].ptv_duration.to_matrix())\n",
    "print(drawdowns.ptv_duration.to_matrix())\n",
    "\n",
    "%timeit big_drawdowns.ptv_duration"
   ]
  },
  {
   "cell_type": "code",
   "execution_count": 95,
   "metadata": {},
   "outputs": [
    {
     "name": "stdout",
     "output_type": "stream",
     "text": [
      "2020-01-01    NaN\n",
      "2020-01-02    NaN\n",
      "2020-01-03    1.0\n",
      "2020-01-04    NaN\n",
      "2020-01-05    1.0\n",
      "2020-01-06    0.0\n",
      "Name: a, dtype: float64\n",
      "              a    b    c   d\n",
      "2020-01-01  NaN  NaN  NaN NaN\n",
      "2020-01-02  NaN  NaN  NaN NaN\n",
      "2020-01-03  1.0  NaN  NaN NaN\n",
      "2020-01-04  NaN  1.0  NaN NaN\n",
      "2020-01-05  1.0  NaN  NaN NaN\n",
      "2020-01-06  0.0  1.0  0.0 NaN\n",
      "21.5 µs ± 456 ns per loop (mean ± std. dev. of 7 runs, 10000 loops each)\n"
     ]
    }
   ],
   "source": [
    "print(drawdowns['a'].status.to_matrix())\n",
    "print(drawdowns.status.to_matrix())\n",
    "\n",
    "%timeit big_drawdowns.status"
   ]
  },
  {
   "cell_type": "code",
   "execution_count": 96,
   "metadata": {},
   "outputs": [
    {
     "name": "stdout",
     "output_type": "stream",
     "text": [
      "<vectorbt.generic.drawdowns.Drawdowns object at 0x7fd796f87978>\n",
      "   col  start_idx  valley_idx  end_idx  status\n",
      "0    0          4           5        5       0\n",
      "   col  start_idx  valley_idx  end_idx  status\n",
      "0    0          4           5        5       0\n",
      "   col  start_idx  valley_idx  end_idx  status\n",
      "0    0          4           5        5       0\n",
      "1    2          2           4        5       0\n",
      "419 µs ± 46 µs per loop (mean ± std. dev. of 7 runs, 1000 loops each)\n"
     ]
    }
   ],
   "source": [
    "print(drawdowns.active)\n",
    "print(drawdowns['a'].active.records)\n",
    "print(drawdowns.active['a'].records)\n",
    "print(drawdowns.active.records)\n",
    "\n",
    "%timeit big_drawdowns.active"
   ]
  },
  {
   "cell_type": "code",
   "execution_count": 97,
   "metadata": {},
   "outputs": [
    {
     "name": "stdout",
     "output_type": "stream",
     "text": [
      "0.3333333333333333\n",
      "a    0.333333\n",
      "b    0.000000\n",
      "c    1.000000\n",
      "d         NaN\n",
      "dtype: float64\n"
     ]
    },
    {
     "name": "stderr",
     "output_type": "stream",
     "text": [
      "/Users/olegpolakow/Documents/SourceTree/vectorbt/vectorbt/generic/drawdowns.py:183: RuntimeWarning:\n",
      "\n",
      "invalid value encountered in true_divide\n",
      "\n"
     ]
    },
    {
     "name": "stdout",
     "output_type": "stream",
     "text": [
      "5.3 ms ± 65.2 µs per loop (mean ± std. dev. of 7 runs, 100 loops each)\n",
      "group\n",
      "first     0.2\n",
      "second    1.0\n",
      "dtype: float64\n",
      "4.65 ms ± 106 µs per loop (mean ± std. dev. of 7 runs, 100 loops each)\n"
     ]
    }
   ],
   "source": [
    "print(drawdowns['a'].active_rate())\n",
    "print(drawdowns.active_rate())\n",
    "%timeit big_drawdowns.active_rate()\n",
    "\n",
    "print(drawdowns.active_rate(group_by=group_by))\n",
    "%timeit big_drawdowns.active_rate(group_by=big_group_by)"
   ]
  },
  {
   "cell_type": "code",
   "execution_count": 98,
   "metadata": {},
   "outputs": [
    {
     "name": "stdout",
     "output_type": "stream",
     "text": [
      "<vectorbt.generic.drawdowns.Drawdowns object at 0x7fd797823780>\n",
      "   col  start_idx  valley_idx  end_idx  status\n",
      "0    0          0           1        2       1\n",
      "1    0          2           3        4       1\n",
      "   col  start_idx  valley_idx  end_idx  status\n",
      "0    0          0           1        2       1\n",
      "1    0          2           3        4       1\n",
      "   col  start_idx  valley_idx  end_idx  status\n",
      "0    0          0           1        2       1\n",
      "1    0          2           3        4       1\n",
      "2    1          1           2        3       1\n",
      "3    1          3           4        5       1\n",
      "2.38 ms ± 36.8 µs per loop (mean ± std. dev. of 7 runs, 100 loops each)\n"
     ]
    }
   ],
   "source": [
    "print(drawdowns.recovered)\n",
    "print(drawdowns['a'].recovered.records)\n",
    "print(drawdowns.recovered['a'].records)\n",
    "print(drawdowns.recovered.records)\n",
    "\n",
    "%timeit big_drawdowns.recovered"
   ]
  },
  {
   "cell_type": "code",
   "execution_count": 99,
   "metadata": {},
   "outputs": [
    {
     "name": "stdout",
     "output_type": "stream",
     "text": [
      "0.6666666666666666\n",
      "a    0.666667\n",
      "b    1.000000\n",
      "c    0.000000\n",
      "d         NaN\n",
      "dtype: float64\n"
     ]
    },
    {
     "name": "stderr",
     "output_type": "stream",
     "text": [
      "/Users/olegpolakow/Documents/SourceTree/vectorbt/vectorbt/generic/drawdowns.py:196: RuntimeWarning:\n",
      "\n",
      "invalid value encountered in true_divide\n",
      "\n"
     ]
    },
    {
     "name": "stdout",
     "output_type": "stream",
     "text": [
      "11.5 ms ± 349 µs per loop (mean ± std. dev. of 7 runs, 100 loops each)\n",
      "group\n",
      "first     0.8\n",
      "second    0.0\n",
      "dtype: float64\n",
      "7.57 ms ± 65.7 µs per loop (mean ± std. dev. of 7 runs, 100 loops each)\n"
     ]
    }
   ],
   "source": [
    "print(drawdowns['a'].recovered_rate())\n",
    "print(drawdowns.recovered_rate())\n",
    "%timeit big_drawdowns.recovered_rate()\n",
    "\n",
    "print(drawdowns.recovered_rate(group_by=group_by))\n",
    "%timeit big_drawdowns.recovered_rate(group_by=big_group_by)"
   ]
  },
  {
   "cell_type": "code",
   "execution_count": 100,
   "metadata": {},
   "outputs": [
    {
     "name": "stdout",
     "output_type": "stream",
     "text": [
      "-0.75\n",
      "a   -0.750000\n",
      "b         NaN\n",
      "c   -0.333333\n",
      "d         NaN\n",
      "dtype: float64\n",
      "2.78 ms ± 101 µs per loop (mean ± std. dev. of 7 runs, 100 loops each)\n"
     ]
    }
   ],
   "source": [
    "print(drawdowns['a'].current_drawdown())\n",
    "print(drawdowns.current_drawdown())\n",
    "\n",
    "%timeit big_drawdowns.current_drawdown()"
   ]
  },
  {
   "cell_type": "code",
   "execution_count": 101,
   "metadata": {},
   "outputs": [
    {
     "name": "stdout",
     "output_type": "stream",
     "text": [
      "1 days 00:00:00\n",
      "a   1 days\n",
      "b      NaT\n",
      "c   3 days\n",
      "d      NaT\n",
      "dtype: timedelta64[ns]\n",
      "1.07 ms ± 32.1 µs per loop (mean ± std. dev. of 7 runs, 1000 loops each)\n"
     ]
    }
   ],
   "source": [
    "print(drawdowns['a'].current_duration())\n",
    "print(drawdowns.current_duration())\n",
    "\n",
    "%timeit big_drawdowns.current_duration()"
   ]
  },
  {
   "cell_type": "code",
   "execution_count": 102,
   "metadata": {},
   "outputs": [
    {
     "name": "stdout",
     "output_type": "stream",
     "text": [
      "0.0\n",
      "a    0.0\n",
      "b    NaN\n",
      "c    1.0\n",
      "d    NaN\n",
      "dtype: float64\n",
      "1.11 ms ± 29.3 µs per loop (mean ± std. dev. of 7 runs, 1000 loops each)\n"
     ]
    }
   ],
   "source": [
    "print(drawdowns['a'].current_return())\n",
    "print(drawdowns.current_return())\n",
    "\n",
    "%timeit big_drawdowns.current_return()"
   ]
  },
  {
   "cell_type": "code",
   "execution_count": 103,
   "metadata": {},
   "outputs": [
    {
     "name": "stdout",
     "output_type": "stream",
     "text": [
      "2020-01-01    NaN\n",
      "2020-01-02    NaN\n",
      "2020-01-03    2.0\n",
      "2020-01-04    NaN\n",
      "2020-01-05    3.0\n",
      "2020-01-06    NaN\n",
      "Name: a, dtype: float64\n",
      "              a    b   c   d\n",
      "2020-01-01  NaN  NaN NaN NaN\n",
      "2020-01-02  NaN  NaN NaN NaN\n",
      "2020-01-03  2.0  NaN NaN NaN\n",
      "2020-01-04  NaN  2.0 NaN NaN\n",
      "2020-01-05  3.0  NaN NaN NaN\n",
      "2020-01-06  NaN  3.0 NaN NaN\n",
      "6.27 ms ± 54.5 µs per loop (mean ± std. dev. of 7 runs, 100 loops each)\n"
     ]
    }
   ],
   "source": [
    "print(drawdowns['a'].recovery_return.to_matrix())\n",
    "print(drawdowns.recovery_return.to_matrix())\n",
    "\n",
    "%timeit big_drawdowns.recovery_return"
   ]
  },
  {
   "cell_type": "code",
   "execution_count": 104,
   "metadata": {},
   "outputs": [
    {
     "name": "stdout",
     "output_type": "stream",
     "text": [
      "2020-01-01    NaN\n",
      "2020-01-02    NaN\n",
      "2020-01-03    1.0\n",
      "2020-01-04    NaN\n",
      "2020-01-05    1.0\n",
      "2020-01-06    NaN\n",
      "Name: a, dtype: float64\n",
      "              a    b   c   d\n",
      "2020-01-01  NaN  NaN NaN NaN\n",
      "2020-01-02  NaN  NaN NaN NaN\n",
      "2020-01-03  1.0  NaN NaN NaN\n",
      "2020-01-04  NaN  1.0 NaN NaN\n",
      "2020-01-05  1.0  NaN NaN NaN\n",
      "2020-01-06  NaN  1.0 NaN NaN\n",
      "3.29 ms ± 24.1 µs per loop (mean ± std. dev. of 7 runs, 100 loops each)\n"
     ]
    }
   ],
   "source": [
    "print(drawdowns['a'].vtr_duration.to_matrix())\n",
    "print(drawdowns.vtr_duration.to_matrix())\n",
    "\n",
    "%timeit big_drawdowns.vtr_duration"
   ]
  },
  {
   "cell_type": "code",
   "execution_count": 105,
   "metadata": {},
   "outputs": [
    {
     "name": "stdout",
     "output_type": "stream",
     "text": [
      "2020-01-01    NaN\n",
      "2020-01-02    NaN\n",
      "2020-01-03    0.5\n",
      "2020-01-04    NaN\n",
      "2020-01-05    0.5\n",
      "2020-01-06    NaN\n",
      "Name: a, dtype: float64\n",
      "              a    b   c   d\n",
      "2020-01-01  NaN  NaN NaN NaN\n",
      "2020-01-02  NaN  NaN NaN NaN\n",
      "2020-01-03  0.5  NaN NaN NaN\n",
      "2020-01-04  NaN  0.5 NaN NaN\n",
      "2020-01-05  0.5  NaN NaN NaN\n",
      "2020-01-06  NaN  0.5 NaN NaN\n",
      "3.37 ms ± 54.7 µs per loop (mean ± std. dev. of 7 runs, 100 loops each)\n"
     ]
    }
   ],
   "source": [
    "print(drawdowns['a'].vtr_duration_ratio.to_matrix())\n",
    "print(drawdowns.vtr_duration_ratio.to_matrix())\n",
    "\n",
    "%timeit big_drawdowns.vtr_duration_ratio"
   ]
  },
  {
   "cell_type": "code",
   "execution_count": 12,
   "metadata": {},
   "outputs": [
    {
     "data": {
      "image/png": "[encoded data removed]"
     },
     "metadata": {},
     "output_type": "display_data"
    }
   ],
   "source": [
    "drawdowns['a'].plot().show_png()"
   ]
  },
  {
   "cell_type": "code",
   "execution_count": 13,
   "metadata": {},
   "outputs": [
    {
     "data": {
      "image/png": "[encoded data removed]"
     },
     "metadata": {},
     "output_type": "display_data"
    }
   ],
   "source": [
    "drawdowns.plot(column='a', top_n=1).show_png()"
   ]
  },
  {
   "cell_type": "markdown",
   "metadata": {},
   "source": [
    "## Orders"
   ]
  },
  {
   "cell_type": "code",
   "execution_count": 14,
   "metadata": {},
   "outputs": [
    {
     "name": "stdout",
     "output_type": "stream",
     "text": [
      "            a  b  c  d\n",
      "2020-01-01  1  1  1  1\n",
      "2020-01-02  2  2  2  2\n",
      "2020-01-03  3  3  3  3\n",
      "2020-01-04  4  4  4  4\n",
      "2020-01-05  5  5  5  5\n",
      "2020-01-06  6  6  6  6\n",
      "2020-01-07  7  7  7  7\n",
      "2020-01-08  8  8  8  8\n"
     ]
    }
   ],
   "source": [
    "close = pd.Series([1, 2, 3, 4, 5, 6, 7, 8], index=[\n",
    "    datetime(2020, 1, 1),\n",
    "    datetime(2020, 1, 2),\n",
    "    datetime(2020, 1, 3),\n",
    "    datetime(2020, 1, 4),\n",
    "    datetime(2020, 1, 5),\n",
    "    datetime(2020, 1, 6),\n",
    "    datetime(2020, 1, 7),\n",
    "    datetime(2020, 1, 8)\n",
    "]).vbt.tile(4, keys=['a', 'b', 'c', 'd'])\n",
    "print(close)\n",
    "\n",
    "big_close = pd.DataFrame(np.random.uniform(1, 10, size=(1000, 1000)))"
   ]
  },
  {
   "cell_type": "code",
   "execution_count": 15,
   "metadata": {},
   "outputs": [
    {
     "name": "stdout",
     "output_type": "stream",
     "text": [
      "(21,)\n"
     ]
    }
   ],
   "source": [
    "from vectorbt.portfolio.enums import order_dt\n",
    "\n",
    "records_arr = np.asarray([\n",
    "    (0, 0, 1. , 1., 0.01 , 0), (0, 1, 0.1, 2., 0.002, 0),\n",
    "    (0, 2, 1. , 3., 0.03 , 1), (0, 3, 0.1, 4., 0.004, 1),\n",
    "    (0, 5, 1. , 6., 0.06 , 0), (0, 6, 1. , 7., 0.07 , 1),\n",
    "    (0, 7, 2. , 8., 0.16 , 0), (1, 0, 1. , 1., 0.01 , 1),\n",
    "    (1, 1, 0.1, 2., 0.002, 1), (1, 2, 1. , 3., 0.03 , 0),\n",
    "    (1, 3, 0.1, 4., 0.004, 0), (1, 5, 1. , 6., 0.06 , 1),\n",
    "    (1, 6, 1. , 7., 0.07 , 0), (1, 7, 2. , 8., 0.16 , 1),\n",
    "    (2, 0, 1. , 1., 0.01 , 0), (2, 1, 0.1, 2., 0.002, 0),\n",
    "    (2, 2, 1. , 3., 0.03 , 1), (2, 3, 0.1, 4., 0.004, 1),\n",
    "    (2, 5, 1. , 6., 0.06 , 0), (2, 6, 2. , 7., 0.14 , 1),\n",
    "    (2, 7, 2. , 8., 0.16 , 0)\n",
    "], dtype=order_dt)\n",
    "print(records_arr.shape)\n",
    "\n",
    "wrapper = vbt.ArrayWrapper.from_obj(close, freq='1 days')\n",
    "orders = vbt.Orders(wrapper, records_arr, close)\n",
    "orders_grouped = vbt.Orders(wrapper.regroup(group_by), records_arr, close)"
   ]
  },
  {
   "cell_type": "code",
   "execution_count": 16,
   "metadata": {},
   "outputs": [
    {
     "name": "stdout",
     "output_type": "stream",
     "text": [
      "(1000000,)\n"
     ]
    }
   ],
   "source": [
    "big_records_arr = np.asarray(list(zip(*(\n",
    "    np.repeat(np.arange(1000), 1000),\n",
    "    np.tile(np.arange(1000), 1000),\n",
    "    np.full(1000000, 10),\n",
    "    np.random.uniform(1, 10, size=1000000),\n",
    "    np.full(1000000, 1),\n",
    "    np.full(1000000, 1)\n",
    "))), dtype=order_dt)\n",
    "big_records_arr['side'][::2] = 0\n",
    "print(big_records_arr.shape)\n",
    "\n",
    "big_wrapper = vbt.ArrayWrapper.from_obj(big_close, freq='1 days')\n",
    "big_orders = vbt.Orders(big_wrapper, big_records_arr, big_close)\n",
    "big_orders_grouped = vbt.Orders(big_wrapper.copy(group_by=big_group_by), big_records_arr, big_close)"
   ]
  },
  {
   "cell_type": "code",
   "execution_count": 17,
   "metadata": {},
   "outputs": [
    {
     "name": "stdout",
     "output_type": "stream",
     "text": [
      "    col  idx  size  price   fees  side\n",
      "0     0    0   1.0    1.0  0.010     0\n",
      "1     0    1   0.1    2.0  0.002     0\n",
      "2     0    2   1.0    3.0  0.030     1\n",
      "3     0    3   0.1    4.0  0.004     1\n",
      "4     0    5   1.0    6.0  0.060     0\n",
      "5     0    6   1.0    7.0  0.070     1\n",
      "6     0    7   2.0    8.0  0.160     0\n",
      "7     1    0   1.0    1.0  0.010     1\n",
      "8     1    1   0.1    2.0  0.002     1\n",
      "9     1    2   1.0    3.0  0.030     0\n",
      "10    1    3   0.1    4.0  0.004     0\n",
      "11    1    5   1.0    6.0  0.060     1\n",
      "12    1    6   1.0    7.0  0.070     0\n",
      "13    1    7   2.0    8.0  0.160     1\n",
      "14    2    0   1.0    1.0  0.010     0\n",
      "15    2    1   0.1    2.0  0.002     0\n",
      "16    2    2   1.0    3.0  0.030     1\n",
      "17    2    3   0.1    4.0  0.004     1\n",
      "18    2    5   1.0    6.0  0.060     0\n",
      "19    2    6   2.0    7.0  0.140     1\n",
      "20    2    7   2.0    8.0  0.160     0\n",
      "            a  b  c  d\n",
      "2020-01-01  1  1  1  1\n",
      "2020-01-02  2  2  2  2\n",
      "2020-01-03  3  3  3  3\n",
      "2020-01-04  4  4  4  4\n",
      "2020-01-05  5  5  5  5\n",
      "2020-01-06  6  6  6  6\n",
      "2020-01-07  7  7  7  7\n",
      "2020-01-08  8  8  8  8\n",
      "   col  idx  size  price   fees  side\n",
      "0    0    0   1.0    1.0  0.010     0\n",
      "1    0    1   0.1    2.0  0.002     0\n",
      "2    0    2   1.0    3.0  0.030     1\n",
      "3    0    3   0.1    4.0  0.004     1\n",
      "4    0    5   1.0    6.0  0.060     0\n",
      "5    0    6   1.0    7.0  0.070     1\n",
      "6    0    7   2.0    8.0  0.160     0\n",
      "2020-01-01    1\n",
      "2020-01-02    2\n",
      "2020-01-03    3\n",
      "2020-01-04    4\n",
      "2020-01-05    5\n",
      "2020-01-06    6\n",
      "2020-01-07    7\n",
      "2020-01-08    8\n",
      "Name: a, dtype: int64\n",
      "10.8 ms ± 956 µs per loop (mean ± std. dev. of 7 runs, 100 loops each)\n",
      "30.5 ms ± 465 µs per loop (mean ± std. dev. of 7 runs, 10 loops each)\n",
      "23.2 ms ± 229 µs per loop (mean ± std. dev. of 7 runs, 10 loops each)\n",
      "32.1 ms ± 870 µs per loop (mean ± std. dev. of 7 runs, 10 loops each)\n"
     ]
    }
   ],
   "source": [
    "print(orders.records)\n",
    "print(orders.close)\n",
    "\n",
    "print(orders['a'].records)\n",
    "print(orders['a'].close)\n",
    "\n",
    "%timeit big_orders.iloc[0]\n",
    "%timeit big_orders.iloc[:]\n",
    "\n",
    "%timeit big_orders_grouped.iloc[0]\n",
    "%timeit big_orders_grouped.iloc[:]"
   ]
  },
  {
   "cell_type": "code",
   "execution_count": 18,
   "metadata": {},
   "outputs": [
    {
     "name": "stdout",
     "output_type": "stream",
     "text": [
      "   Column       Date  Size  Price   Fees  Side\n",
      "0       a 2020-01-01   1.0    1.0  0.010   Buy\n",
      "1       a 2020-01-02   0.1    2.0  0.002   Buy\n",
      "2       a 2020-01-03   1.0    3.0  0.030  Sell\n",
      "3       a 2020-01-04   0.1    4.0  0.004  Sell\n",
      "4       a 2020-01-06   1.0    6.0  0.060   Buy\n",
      "5       a 2020-01-07   1.0    7.0  0.070  Sell\n",
      "6       a 2020-01-08   2.0    8.0  0.160   Buy\n",
      "7       b 2020-01-01   1.0    1.0  0.010  Sell\n",
      "8       b 2020-01-02   0.1    2.0  0.002  Sell\n",
      "9       b 2020-01-03   1.0    3.0  0.030   Buy\n",
      "10      b 2020-01-04   0.1    4.0  0.004   Buy\n",
      "11      b 2020-01-06   1.0    6.0  0.060  Sell\n",
      "12      b 2020-01-07   1.0    7.0  0.070   Buy\n",
      "13      b 2020-01-08   2.0    8.0  0.160  Sell\n",
      "14      c 2020-01-01   1.0    1.0  0.010   Buy\n",
      "15      c 2020-01-02   0.1    2.0  0.002   Buy\n",
      "16      c 2020-01-03   1.0    3.0  0.030  Sell\n",
      "17      c 2020-01-04   0.1    4.0  0.004  Sell\n",
      "18      c 2020-01-06   1.0    6.0  0.060   Buy\n",
      "19      c 2020-01-07   2.0    7.0  0.140  Sell\n",
      "20      c 2020-01-08   2.0    8.0  0.160   Buy\n"
     ]
    }
   ],
   "source": [
    "print(orders.records_readable)"
   ]
  },
  {
   "cell_type": "code",
   "execution_count": 19,
   "metadata": {},
   "outputs": [
    {
     "name": "stdout",
     "output_type": "stream",
     "text": [
      "2020-01-01    1.0\n",
      "2020-01-02    0.1\n",
      "2020-01-03    1.0\n",
      "2020-01-04    0.1\n",
      "2020-01-05    NaN\n",
      "2020-01-06    1.0\n",
      "2020-01-07    1.0\n",
      "2020-01-08    2.0\n",
      "Name: a, dtype: float64\n",
      "              a    b    c   d\n",
      "2020-01-01  1.0  1.0  1.0 NaN\n",
      "2020-01-02  0.1  0.1  0.1 NaN\n",
      "2020-01-03  1.0  1.0  1.0 NaN\n",
      "2020-01-04  0.1  0.1  0.1 NaN\n",
      "2020-01-05  NaN  NaN  NaN NaN\n",
      "2020-01-06  1.0  1.0  1.0 NaN\n",
      "2020-01-07  1.0  1.0  2.0 NaN\n",
      "2020-01-08  2.0  2.0  2.0 NaN\n",
      "21.1 µs ± 340 ns per loop (mean ± std. dev. of 7 runs, 10000 loops each)\n"
     ]
    }
   ],
   "source": [
    "print(orders['a'].size.to_matrix())\n",
    "print(orders.size.to_matrix())\n",
    "\n",
    "%timeit big_orders.size"
   ]
  },
  {
   "cell_type": "code",
   "execution_count": 20,
   "metadata": {},
   "outputs": [
    {
     "name": "stdout",
     "output_type": "stream",
     "text": [
      "2020-01-01    1.0\n",
      "2020-01-02    2.0\n",
      "2020-01-03    3.0\n",
      "2020-01-04    4.0\n",
      "2020-01-05    NaN\n",
      "2020-01-06    6.0\n",
      "2020-01-07    7.0\n",
      "2020-01-08    8.0\n",
      "Name: a, dtype: float64\n",
      "              a    b    c   d\n",
      "2020-01-01  1.0  1.0  1.0 NaN\n",
      "2020-01-02  2.0  2.0  2.0 NaN\n",
      "2020-01-03  3.0  3.0  3.0 NaN\n",
      "2020-01-04  4.0  4.0  4.0 NaN\n",
      "2020-01-05  NaN  NaN  NaN NaN\n",
      "2020-01-06  6.0  6.0  6.0 NaN\n",
      "2020-01-07  7.0  7.0  7.0 NaN\n",
      "2020-01-08  8.0  8.0  8.0 NaN\n",
      "21.4 µs ± 662 ns per loop (mean ± std. dev. of 7 runs, 10000 loops each)\n"
     ]
    }
   ],
   "source": [
    "print(orders['a'].price.to_matrix())\n",
    "print(orders.price.to_matrix())\n",
    "\n",
    "%timeit big_orders.price"
   ]
  },
  {
   "cell_type": "code",
   "execution_count": 21,
   "metadata": {},
   "outputs": [
    {
     "name": "stdout",
     "output_type": "stream",
     "text": [
      "2020-01-01    0.010\n",
      "2020-01-02    0.002\n",
      "2020-01-03    0.030\n",
      "2020-01-04    0.004\n",
      "2020-01-05      NaN\n",
      "2020-01-06    0.060\n",
      "2020-01-07    0.070\n",
      "2020-01-08    0.160\n",
      "Name: a, dtype: float64\n",
      "                a      b      c   d\n",
      "2020-01-01  0.010  0.010  0.010 NaN\n",
      "2020-01-02  0.002  0.002  0.002 NaN\n",
      "2020-01-03  0.030  0.030  0.030 NaN\n",
      "2020-01-04  0.004  0.004  0.004 NaN\n",
      "2020-01-05    NaN    NaN    NaN NaN\n",
      "2020-01-06  0.060  0.060  0.060 NaN\n",
      "2020-01-07  0.070  0.070  0.140 NaN\n",
      "2020-01-08  0.160  0.160  0.160 NaN\n",
      "28.7 µs ± 9.28 µs per loop (mean ± std. dev. of 7 runs, 10000 loops each)\n"
     ]
    }
   ],
   "source": [
    "print(orders['a'].fees.to_matrix())\n",
    "print(orders.fees.to_matrix())\n",
    "\n",
    "%timeit big_orders.fees"
   ]
  },
  {
   "cell_type": "code",
   "execution_count": 22,
   "metadata": {},
   "outputs": [
    {
     "name": "stdout",
     "output_type": "stream",
     "text": [
      "2020-01-01    0.0\n",
      "2020-01-02    0.0\n",
      "2020-01-03    1.0\n",
      "2020-01-04    1.0\n",
      "2020-01-05    NaN\n",
      "2020-01-06    0.0\n",
      "2020-01-07    1.0\n",
      "2020-01-08    0.0\n",
      "Name: a, dtype: float64\n",
      "              a    b    c   d\n",
      "2020-01-01  0.0  1.0  0.0 NaN\n",
      "2020-01-02  0.0  1.0  0.0 NaN\n",
      "2020-01-03  1.0  0.0  1.0 NaN\n",
      "2020-01-04  1.0  0.0  1.0 NaN\n",
      "2020-01-05  NaN  NaN  NaN NaN\n",
      "2020-01-06  0.0  1.0  0.0 NaN\n",
      "2020-01-07  1.0  0.0  1.0 NaN\n",
      "2020-01-08  0.0  1.0  0.0 NaN\n",
      "21.3 µs ± 632 ns per loop (mean ± std. dev. of 7 runs, 10000 loops each)\n"
     ]
    }
   ],
   "source": [
    "print(orders['a'].side.to_matrix())\n",
    "print(orders.side.to_matrix())\n",
    "\n",
    "%timeit big_orders.side"
   ]
  },
  {
   "cell_type": "code",
   "execution_count": 23,
   "metadata": {},
   "outputs": [
    {
     "name": "stdout",
     "output_type": "stream",
     "text": [
      "<vectorbt.portfolio.orders.Orders object at 0x7f88e3e775f8>\n",
      "   col  idx  size  price   fees  side\n",
      "0    0    0   1.0    1.0  0.010     0\n",
      "1    0    1   0.1    2.0  0.002     0\n",
      "2    0    5   1.0    6.0  0.060     0\n",
      "3    0    7   2.0    8.0  0.160     0\n",
      "   col  idx  size  price   fees  side\n",
      "0    0    0   1.0    1.0  0.010     0\n",
      "1    0    1   0.1    2.0  0.002     0\n",
      "2    0    5   1.0    6.0  0.060     0\n",
      "3    0    7   2.0    8.0  0.160     0\n",
      "    col  idx  size  price   fees  side\n",
      "0     0    0   1.0    1.0  0.010     0\n",
      "1     0    1   0.1    2.0  0.002     0\n",
      "2     0    5   1.0    6.0  0.060     0\n",
      "3     0    7   2.0    8.0  0.160     0\n",
      "4     1    2   1.0    3.0  0.030     0\n",
      "5     1    3   0.1    4.0  0.004     0\n",
      "6     1    6   1.0    7.0  0.070     0\n",
      "7     2    0   1.0    1.0  0.010     0\n",
      "8     2    1   0.1    2.0  0.002     0\n",
      "9     2    5   1.0    6.0  0.060     0\n",
      "10    2    7   2.0    8.0  0.160     0\n",
      "12.5 ms ± 556 µs per loop (mean ± std. dev. of 7 runs, 10 loops each)\n"
     ]
    }
   ],
   "source": [
    "print(orders.buy)\n",
    "print(orders['a'].buy.records)\n",
    "print(orders.buy['a'].records)\n",
    "print(orders.buy.records)\n",
    "\n",
    "%timeit big_orders.buy"
   ]
  },
  {
   "cell_type": "code",
   "execution_count": 24,
   "metadata": {},
   "outputs": [
    {
     "name": "stdout",
     "output_type": "stream",
     "text": [
      "0.5714285714285714\n",
      "a    0.571429\n",
      "b    0.428571\n",
      "c    0.571429\n",
      "d         NaN\n",
      "dtype: float64\n"
     ]
    },
    {
     "name": "stderr",
     "output_type": "stream",
     "text": [
      "/Users/olegpolakow/Documents/SourceTree/vectorbt/vectorbt/portfolio/orders.py:118: RuntimeWarning:\n",
      "\n",
      "invalid value encountered in true_divide\n",
      "\n"
     ]
    },
    {
     "name": "stdout",
     "output_type": "stream",
     "text": [
      "39.2 ms ± 4.44 ms per loop (mean ± std. dev. of 7 runs, 10 loops each)\n",
      "group\n",
      "first     0.500000\n",
      "second    0.571429\n",
      "dtype: float64\n",
      "30.1 ms ± 295 µs per loop (mean ± std. dev. of 7 runs, 10 loops each)\n"
     ]
    }
   ],
   "source": [
    "print(orders['a'].buy_rate())\n",
    "print(orders.buy_rate())\n",
    "%timeit big_orders.buy_rate()\n",
    "\n",
    "print(orders.buy_rate(group_by=group_by))\n",
    "%timeit big_orders.buy_rate(group_by=big_group_by)"
   ]
  },
  {
   "cell_type": "code",
   "execution_count": 25,
   "metadata": {},
   "outputs": [
    {
     "name": "stdout",
     "output_type": "stream",
     "text": [
      "<vectorbt.portfolio.orders.Orders object at 0x7f88f17864e0>\n",
      "   col  idx  size  price   fees  side\n",
      "0    0    2   1.0    3.0  0.030     1\n",
      "1    0    3   0.1    4.0  0.004     1\n",
      "2    0    6   1.0    7.0  0.070     1\n",
      "   col  idx  size  price   fees  side\n",
      "0    0    2   1.0    3.0  0.030     1\n",
      "1    0    3   0.1    4.0  0.004     1\n",
      "2    0    6   1.0    7.0  0.070     1\n",
      "   col  idx  size  price   fees  side\n",
      "0    0    2   1.0    3.0  0.030     1\n",
      "1    0    3   0.1    4.0  0.004     1\n",
      "2    0    6   1.0    7.0  0.070     1\n",
      "3    1    0   1.0    1.0  0.010     1\n",
      "4    1    1   0.1    2.0  0.002     1\n",
      "5    1    5   1.0    6.0  0.060     1\n",
      "6    1    7   2.0    8.0  0.160     1\n",
      "7    2    2   1.0    3.0  0.030     1\n",
      "8    2    3   0.1    4.0  0.004     1\n",
      "9    2    6   2.0    7.0  0.140     1\n",
      "22.8 ms ± 1.97 ms per loop (mean ± std. dev. of 7 runs, 100 loops each)\n"
     ]
    }
   ],
   "source": [
    "print(orders.sell)\n",
    "print(orders['a'].sell.records)\n",
    "print(orders.sell['a'].records)\n",
    "print(orders.sell.records)\n",
    "\n",
    "%timeit big_orders.sell"
   ]
  },
  {
   "cell_type": "code",
   "execution_count": 26,
   "metadata": {},
   "outputs": [
    {
     "name": "stdout",
     "output_type": "stream",
     "text": [
      "0.42857142857142855\n",
      "a    0.428571\n",
      "b    0.571429\n",
      "c    0.428571\n",
      "d         NaN\n",
      "dtype: float64\n"
     ]
    },
    {
     "name": "stderr",
     "output_type": "stream",
     "text": [
      "/Users/olegpolakow/Documents/SourceTree/vectorbt/vectorbt/portfolio/orders.py:131: RuntimeWarning:\n",
      "\n",
      "invalid value encountered in true_divide\n",
      "\n"
     ]
    },
    {
     "name": "stdout",
     "output_type": "stream",
     "text": [
      "35.5 ms ± 548 µs per loop (mean ± std. dev. of 7 runs, 10 loops each)\n",
      "group\n",
      "first     0.500000\n",
      "second    0.428571\n",
      "dtype: float64\n",
      "30.5 ms ± 324 µs per loop (mean ± std. dev. of 7 runs, 10 loops each)\n"
     ]
    }
   ],
   "source": [
    "print(orders['a'].sell_rate())\n",
    "print(orders.sell_rate())\n",
    "%timeit big_orders.sell_rate()\n",
    "\n",
    "print(orders.sell_rate(group_by=group_by))\n",
    "%timeit big_orders.sell_rate(group_by=big_group_by)"
   ]
  },
  {
   "cell_type": "code",
   "execution_count": 27,
   "metadata": {},
   "outputs": [
    {
     "data": {
      "image/png": "[encoded data removed]"
     },
     "metadata": {},
     "output_type": "display_data"
    }
   ],
   "source": [
    "orders['a'].plot().show_png()"
   ]
  },
  {
   "cell_type": "code",
   "execution_count": 28,
   "metadata": {},
   "outputs": [
    {
     "data": {
      "image/png": "[encoded data removed]"
     },
     "metadata": {},
     "output_type": "display_data"
    }
   ],
   "source": [
    "orders.plot(column='a').show_png()"
   ]
  },
  {
   "cell_type": "markdown",
   "metadata": {},
   "source": [
    "## Trades"
   ]
  },
  {
   "cell_type": "code",
   "execution_count": 29,
   "metadata": {},
   "outputs": [
    {
     "name": "stdout",
     "output_type": "stream",
     "text": [
      "(13,)\n"
     ]
    }
   ],
   "source": [
    "trades = vbt.Trades.from_orders(orders)\n",
    "trades_grouped = vbt.Trades.from_orders(orders_grouped)\n",
    "print(trades.values.shape)"
   ]
  },
  {
   "cell_type": "code",
   "execution_count": 30,
   "metadata": {},
   "outputs": [
    {
     "name": "stdout",
     "output_type": "stream",
     "text": [
      "(500000,)\n"
     ]
    }
   ],
   "source": [
    "big_trades = vbt.Trades.from_orders(big_orders)\n",
    "big_trades_grouped = vbt.Trades.from_orders(big_orders_grouped)\n",
    "print(big_trades.values.shape)"
   ]
  },
  {
   "cell_type": "code",
   "execution_count": 31,
   "metadata": {},
   "outputs": [
    {
     "name": "stdout",
     "output_type": "stream",
     "text": [
      "36.7 ms ± 7.06 ms per loop (mean ± std. dev. of 7 runs, 10 loops each)\n"
     ]
    }
   ],
   "source": [
    "%timeit vbt.Trades.from_orders(big_orders)"
   ]
  },
  {
   "cell_type": "code",
   "execution_count": 32,
   "metadata": {},
   "outputs": [
    {
     "name": "stdout",
     "output_type": "stream",
     "text": [
      "    col  size  entry_idx  entry_price  entry_fees  exit_idx  exit_price  \\\n",
      "0     0   1.0          0     1.090909    0.010909         2         3.0   \n",
      "1     0   0.1          0     1.090909    0.001091         3         4.0   \n",
      "2     0   1.0          5     6.000000    0.060000         6         7.0   \n",
      "3     0   2.0          7     8.000000    0.160000         7         8.0   \n",
      "4     1   1.0          0     1.090909    0.010909         2         3.0   \n",
      "5     1   0.1          0     1.090909    0.001091         3         4.0   \n",
      "6     1   1.0          5     6.000000    0.060000         6         7.0   \n",
      "7     1   2.0          7     8.000000    0.160000         7         8.0   \n",
      "8     2   1.0          0     1.090909    0.010909         2         3.0   \n",
      "9     2   0.1          0     1.090909    0.001091         3         4.0   \n",
      "10    2   1.0          5     6.000000    0.060000         6         7.0   \n",
      "11    2   1.0          6     7.000000    0.070000         7         8.0   \n",
      "12    2   1.0          7     8.000000    0.080000         7         8.0   \n",
      "\n",
      "    exit_fees       pnl    return  direction  status  position_idx  \n",
      "0       0.030  1.868182  1.712500          0       1             0  \n",
      "1       0.004  0.285818  2.620000          0       1             0  \n",
      "2       0.070  0.870000  0.145000          0       1             1  \n",
      "3       0.000 -0.160000 -0.010000          0       0             2  \n",
      "4       0.030 -1.950000 -1.787500          1       1             0  \n",
      "5       0.004 -0.296000 -2.713333          1       1             0  \n",
      "6       0.070 -1.130000 -0.188333          1       1             1  \n",
      "7       0.000 -0.160000 -0.010000          1       0             2  \n",
      "8       0.030  1.868182  1.712500          0       1             0  \n",
      "9       0.004  0.285818  2.620000          0       1             0  \n",
      "10      0.070  0.870000  0.145000          0       1             1  \n",
      "11      0.080 -1.150000 -0.164286          1       1             2  \n",
      "12      0.000 -0.080000 -0.010000          0       0             3  \n",
      "            a  b  c  d\n",
      "2020-01-01  1  1  1  1\n",
      "2020-01-02  2  2  2  2\n",
      "2020-01-03  3  3  3  3\n",
      "2020-01-04  4  4  4  4\n",
      "2020-01-05  5  5  5  5\n",
      "2020-01-06  6  6  6  6\n",
      "2020-01-07  7  7  7  7\n",
      "2020-01-08  8  8  8  8\n",
      "   col  size  entry_idx  entry_price  entry_fees  exit_idx  exit_price  \\\n",
      "0    0   1.0          0     1.090909    0.010909         2         3.0   \n",
      "1    0   0.1          0     1.090909    0.001091         3         4.0   \n",
      "2    0   1.0          5     6.000000    0.060000         6         7.0   \n",
      "3    0   2.0          7     8.000000    0.160000         7         8.0   \n",
      "\n",
      "   exit_fees       pnl  return  direction  status  position_idx  \n",
      "0      0.030  1.868182  1.7125          0       1             0  \n",
      "1      0.004  0.285818  2.6200          0       1             0  \n",
      "2      0.070  0.870000  0.1450          0       1             1  \n",
      "3      0.000 -0.160000 -0.0100          0       0             2  \n",
      "2020-01-01    1\n",
      "2020-01-02    2\n",
      "2020-01-03    3\n",
      "2020-01-04    4\n",
      "2020-01-05    5\n",
      "2020-01-06    6\n",
      "2020-01-07    7\n",
      "2020-01-08    8\n",
      "Name: a, dtype: int64\n",
      "9.22 ms ± 49 µs per loop (mean ± std. dev. of 7 runs, 100 loops each)\n",
      "33.1 ms ± 892 µs per loop (mean ± std. dev. of 7 runs, 10 loops each)\n",
      "21 ms ± 174 µs per loop (mean ± std. dev. of 7 runs, 10 loops each)\n",
      "35.4 ms ± 248 µs per loop (mean ± std. dev. of 7 runs, 10 loops each)\n"
     ]
    }
   ],
   "source": [
    "print(trades.records)\n",
    "print(trades.close)\n",
    "\n",
    "print(trades['a'].records)\n",
    "print(trades['a'].close)\n",
    "\n",
    "%timeit big_trades.iloc[0]\n",
    "%timeit big_trades.iloc[:]\n",
    "\n",
    "%timeit big_trades_grouped.iloc[0]\n",
    "%timeit big_trades_grouped.iloc[:]"
   ]
  },
  {
   "cell_type": "code",
   "execution_count": 33,
   "metadata": {},
   "outputs": [
    {
     "name": "stdout",
     "output_type": "stream",
     "text": [
      "   Column  Size Entry Date  Entry Price  Entry Fees  Exit Date  Exit Price  \\\n",
      "0       a   1.0 2020-01-01     1.090909    0.010909 2020-01-03         3.0   \n",
      "1       a   0.1 2020-01-01     1.090909    0.001091 2020-01-04         4.0   \n",
      "2       a   1.0 2020-01-06     6.000000    0.060000 2020-01-07         7.0   \n",
      "3       a   2.0 2020-01-08     8.000000    0.160000 2020-01-08         8.0   \n",
      "4       b   1.0 2020-01-01     1.090909    0.010909 2020-01-03         3.0   \n",
      "5       b   0.1 2020-01-01     1.090909    0.001091 2020-01-04         4.0   \n",
      "6       b   1.0 2020-01-06     6.000000    0.060000 2020-01-07         7.0   \n",
      "7       b   2.0 2020-01-08     8.000000    0.160000 2020-01-08         8.0   \n",
      "8       c   1.0 2020-01-01     1.090909    0.010909 2020-01-03         3.0   \n",
      "9       c   0.1 2020-01-01     1.090909    0.001091 2020-01-04         4.0   \n",
      "10      c   1.0 2020-01-06     6.000000    0.060000 2020-01-07         7.0   \n",
      "11      c   1.0 2020-01-07     7.000000    0.070000 2020-01-08         8.0   \n",
      "12      c   1.0 2020-01-08     8.000000    0.080000 2020-01-08         8.0   \n",
      "\n",
      "    Exit Fees       PnL    Return Direction  Status  Position  \n",
      "0       0.030  1.868182  1.712500      Long  Closed         0  \n",
      "1       0.004  0.285818  2.620000      Long  Closed         0  \n",
      "2       0.070  0.870000  0.145000      Long  Closed         1  \n",
      "3       0.000 -0.160000 -0.010000      Long    Open         2  \n",
      "4       0.030 -1.950000 -1.787500     Short  Closed         0  \n",
      "5       0.004 -0.296000 -2.713333     Short  Closed         0  \n",
      "6       0.070 -1.130000 -0.188333     Short  Closed         1  \n",
      "7       0.000 -0.160000 -0.010000     Short    Open         2  \n",
      "8       0.030  1.868182  1.712500      Long  Closed         0  \n",
      "9       0.004  0.285818  2.620000      Long  Closed         0  \n",
      "10      0.070  0.870000  0.145000      Long  Closed         1  \n",
      "11      0.080 -1.150000 -0.164286     Short  Closed         2  \n",
      "12      0.000 -0.080000 -0.010000      Long    Open         3  \n"
     ]
    }
   ],
   "source": [
    "print(trades.records_readable)"
   ]
  },
  {
   "cell_type": "code",
   "execution_count": 34,
   "metadata": {},
   "outputs": [
    {
     "name": "stdout",
     "output_type": "stream",
     "text": [
      "4\n",
      "a    4\n",
      "b    4\n",
      "c    5\n",
      "d    0\n",
      "dtype: int64\n",
      "12 ms ± 96.5 µs per loop (mean ± std. dev. of 7 runs, 100 loops each)\n",
      "group\n",
      "first     8\n",
      "second    5\n",
      "dtype: int64\n",
      "10.8 ms ± 2.21 ms per loop (mean ± std. dev. of 7 runs, 100 loops each)\n"
     ]
    }
   ],
   "source": [
    "print(trades['a'].count())\n",
    "print(trades.count())\n",
    "%timeit big_trades.count()\n",
    "\n",
    "print(trades_grouped.count())\n",
    "%timeit big_trades_grouped.count()"
   ]
  },
  {
   "cell_type": "code",
   "execution_count": 35,
   "metadata": {},
   "outputs": [
    {
     "name": "stdout",
     "output_type": "stream",
     "text": [
      "0    2.0\n",
      "1    3.0\n",
      "2    1.0\n",
      "3    0.0\n",
      "Name: a, dtype: float64\n",
      "     a    b    c   d\n",
      "0  2.0  2.0  2.0 NaN\n",
      "1  3.0  3.0  3.0 NaN\n",
      "2  1.0  1.0  1.0 NaN\n",
      "3  0.0  0.0  1.0 NaN\n",
      "4  NaN  NaN  0.0 NaN\n",
      "5.71 ms ± 138 µs per loop (mean ± std. dev. of 7 runs, 100 loops each)\n"
     ]
    }
   ],
   "source": [
    "print(trades['a'].duration.stack())\n",
    "print(trades.duration.stack())\n",
    "\n",
    "%timeit big_trades.duration"
   ]
  },
  {
   "cell_type": "code",
   "execution_count": 36,
   "metadata": {},
   "outputs": [
    {
     "name": "stdout",
     "output_type": "stream",
     "text": [
      "0    1.868182\n",
      "1    0.285818\n",
      "2    0.870000\n",
      "3   -0.160000\n",
      "Name: a, dtype: float64\n",
      "          a      b         c   d\n",
      "0  1.868182 -1.950  1.868182 NaN\n",
      "1  0.285818 -0.296  0.285818 NaN\n",
      "2  0.870000 -1.130  0.870000 NaN\n",
      "3 -0.160000 -0.160 -1.150000 NaN\n",
      "4       NaN    NaN -0.080000 NaN\n",
      "21.4 µs ± 309 ns per loop (mean ± std. dev. of 7 runs, 10000 loops each)\n"
     ]
    }
   ],
   "source": [
    "print(trades['a'].pnl.stack())\n",
    "print(trades.pnl.stack())\n",
    "\n",
    "%timeit big_trades.pnl"
   ]
  },
  {
   "cell_type": "code",
   "execution_count": 37,
   "metadata": {},
   "outputs": [
    {
     "name": "stdout",
     "output_type": "stream",
     "text": [
      "0    1.7125\n",
      "1    2.6200\n",
      "2    0.1450\n",
      "3   -0.0100\n",
      "Name: a, dtype: float64\n",
      "        a         b         c   d\n",
      "0  1.7125 -1.787500  1.712500 NaN\n",
      "1  2.6200 -2.713333  2.620000 NaN\n",
      "2  0.1450 -0.188333  0.145000 NaN\n",
      "3 -0.0100 -0.010000 -0.164286 NaN\n",
      "4     NaN       NaN -0.010000 NaN\n",
      "24 µs ± 3.04 µs per loop (mean ± std. dev. of 7 runs, 10000 loops each)\n"
     ]
    }
   ],
   "source": [
    "print(trades['a'].returns.stack())\n",
    "print(trades.returns.stack())\n",
    "\n",
    "%timeit big_trades.returns"
   ]
  },
  {
   "cell_type": "code",
   "execution_count": 38,
   "metadata": {},
   "outputs": [
    {
     "name": "stdout",
     "output_type": "stream",
     "text": [
      "0    0\n",
      "1    0\n",
      "2    1\n",
      "3    2\n",
      "Name: a, dtype: int64\n",
      "     a    b    c   d\n",
      "0  0.0  0.0  0.0 NaN\n",
      "1  0.0  0.0  0.0 NaN\n",
      "2  1.0  1.0  1.0 NaN\n",
      "3  2.0  2.0  2.0 NaN\n",
      "4  NaN  NaN  3.0 NaN\n",
      "22.1 µs ± 1.45 µs per loop (mean ± std. dev. of 7 runs, 10000 loops each)\n"
     ]
    }
   ],
   "source": [
    "print(trades['a'].position_idx.stack())\n",
    "print(trades.position_idx.stack())\n",
    "\n",
    "%timeit big_trades.position_idx"
   ]
  },
  {
   "cell_type": "code",
   "execution_count": 39,
   "metadata": {},
   "outputs": [
    {
     "name": "stdout",
     "output_type": "stream",
     "text": [
      "<vectorbt.portfolio.trades.Trades object at 0x7f88e18c74e0>\n",
      "   col  size  entry_idx  entry_price  entry_fees  exit_idx  exit_price  \\\n",
      "0    0   1.0          0     1.090909    0.010909         2         3.0   \n",
      "1    0   0.1          0     1.090909    0.001091         3         4.0   \n",
      "2    0   1.0          5     6.000000    0.060000         6         7.0   \n",
      "\n",
      "   exit_fees       pnl  return  direction  status  position_idx  \n",
      "0      0.030  1.868182  1.7125          0       1             0  \n",
      "1      0.004  0.285818  2.6200          0       1             0  \n",
      "2      0.070  0.870000  0.1450          0       1             1  \n",
      "   col  size  entry_idx  entry_price  entry_fees  exit_idx  exit_price  \\\n",
      "0    0   1.0          0     1.090909    0.010909         2         3.0   \n",
      "1    0   0.1          0     1.090909    0.001091         3         4.0   \n",
      "2    0   1.0          5     6.000000    0.060000         6         7.0   \n",
      "\n",
      "   exit_fees       pnl  return  direction  status  position_idx  \n",
      "0      0.030  1.868182  1.7125          0       1             0  \n",
      "1      0.004  0.285818  2.6200          0       1             0  \n",
      "2      0.070  0.870000  0.1450          0       1             1  \n",
      "   col  size  entry_idx  entry_price  entry_fees  exit_idx  exit_price  \\\n",
      "0    0   1.0          0     1.090909    0.010909         2         3.0   \n",
      "1    0   0.1          0     1.090909    0.001091         3         4.0   \n",
      "2    0   1.0          5     6.000000    0.060000         6         7.0   \n",
      "3    2   1.0          0     1.090909    0.010909         2         3.0   \n",
      "4    2   0.1          0     1.090909    0.001091         3         4.0   \n",
      "5    2   1.0          5     6.000000    0.060000         6         7.0   \n",
      "\n",
      "   exit_fees       pnl  return  direction  status  position_idx  \n",
      "0      0.030  1.868182  1.7125          0       1             0  \n",
      "1      0.004  0.285818  2.6200          0       1             0  \n",
      "2      0.070  0.870000  0.1450          0       1             1  \n",
      "3      0.030  1.868182  1.7125          0       1             0  \n",
      "4      0.004  0.285818  2.6200          0       1             0  \n",
      "5      0.070  0.870000  0.1450          0       1             1  \n",
      "11.8 ms ± 224 µs per loop (mean ± std. dev. of 7 runs, 10 loops each)\n"
     ]
    }
   ],
   "source": [
    "print(trades.winning)\n",
    "print(trades['a'].winning.records)\n",
    "print(trades.winning['a'].records)\n",
    "print(trades.winning.records)\n",
    "\n",
    "%timeit big_trades.winning"
   ]
  },
  {
   "cell_type": "code",
   "execution_count": 40,
   "metadata": {},
   "outputs": [
    {
     "name": "stdout",
     "output_type": "stream",
     "text": [
      "0.75\n",
      "a    0.75\n",
      "b    0.00\n",
      "c    0.60\n",
      "d     NaN\n",
      "dtype: float64\n"
     ]
    },
    {
     "name": "stderr",
     "output_type": "stream",
     "text": [
      "/Users/olegpolakow/Documents/SourceTree/vectorbt/vectorbt/portfolio/trades.py:223: RuntimeWarning:\n",
      "\n",
      "invalid value encountered in true_divide\n",
      "\n"
     ]
    },
    {
     "name": "stdout",
     "output_type": "stream",
     "text": [
      "32.4 ms ± 271 µs per loop (mean ± std. dev. of 7 runs, 10 loops each)\n",
      "group\n",
      "first     0.375\n",
      "second    0.600\n",
      "dtype: float64\n",
      "25.9 ms ± 517 µs per loop (mean ± std. dev. of 7 runs, 10 loops each)\n"
     ]
    }
   ],
   "source": [
    "print(trades['a'].win_rate())\n",
    "print(trades.win_rate())\n",
    "%timeit big_trades.win_rate()\n",
    "\n",
    "print(trades.win_rate(group_by=group_by))\n",
    "%timeit big_trades.win_rate(group_by=big_group_by)"
   ]
  },
  {
   "cell_type": "code",
   "execution_count": 41,
   "metadata": {},
   "outputs": [
    {
     "name": "stdout",
     "output_type": "stream",
     "text": [
      "<vectorbt.portfolio.trades.Trades object at 0x7f88e18e7a20>\n",
      "   col  size  entry_idx  entry_price  entry_fees  exit_idx  exit_price  \\\n",
      "0    0   2.0          7          8.0        0.16         7         8.0   \n",
      "\n",
      "   exit_fees   pnl  return  direction  status  position_idx  \n",
      "0        0.0 -0.16   -0.01          0       0             2  \n",
      "   col  size  entry_idx  entry_price  entry_fees  exit_idx  exit_price  \\\n",
      "0    0   2.0          7          8.0        0.16         7         8.0   \n",
      "\n",
      "   exit_fees   pnl  return  direction  status  position_idx  \n",
      "0        0.0 -0.16   -0.01          0       0             2  \n",
      "   col  size  entry_idx  entry_price  entry_fees  exit_idx  exit_price  \\\n",
      "0    0   2.0          7     8.000000    0.160000         7         8.0   \n",
      "1    1   1.0          0     1.090909    0.010909         2         3.0   \n",
      "2    1   0.1          0     1.090909    0.001091         3         4.0   \n",
      "3    1   1.0          5     6.000000    0.060000         6         7.0   \n",
      "4    1   2.0          7     8.000000    0.160000         7         8.0   \n",
      "5    2   1.0          6     7.000000    0.070000         7         8.0   \n",
      "6    2   1.0          7     8.000000    0.080000         7         8.0   \n",
      "\n",
      "   exit_fees    pnl    return  direction  status  position_idx  \n",
      "0      0.000 -0.160 -0.010000          0       0             2  \n",
      "1      0.030 -1.950 -1.787500          1       1             0  \n",
      "2      0.004 -0.296 -2.713333          1       1             0  \n",
      "3      0.070 -1.130 -0.188333          1       1             1  \n",
      "4      0.000 -0.160 -0.010000          1       0             2  \n",
      "5      0.080 -1.150 -0.164286          1       1             2  \n",
      "6      0.000 -0.080 -0.010000          0       0             3  \n",
      "12.1 ms ± 138 µs per loop (mean ± std. dev. of 7 runs, 10 loops each)\n"
     ]
    }
   ],
   "source": [
    "print(trades.losing)\n",
    "print(trades['a'].losing.records)\n",
    "print(trades.losing['a'].records)\n",
    "print(trades.losing.records)\n",
    "\n",
    "%timeit big_trades.losing"
   ]
  },
  {
   "cell_type": "code",
   "execution_count": 42,
   "metadata": {},
   "outputs": [
    {
     "name": "stdout",
     "output_type": "stream",
     "text": [
      "0.25\n",
      "a    0.25\n",
      "b    1.00\n",
      "c    0.40\n",
      "d     NaN\n",
      "dtype: float64\n"
     ]
    },
    {
     "name": "stderr",
     "output_type": "stream",
     "text": [
      "/Users/olegpolakow/Documents/SourceTree/vectorbt/vectorbt/portfolio/trades.py:236: RuntimeWarning:\n",
      "\n",
      "invalid value encountered in true_divide\n",
      "\n"
     ]
    },
    {
     "name": "stdout",
     "output_type": "stream",
     "text": [
      "32.9 ms ± 372 µs per loop (mean ± std. dev. of 7 runs, 10 loops each)\n",
      "group\n",
      "first     0.625\n",
      "second    0.400\n",
      "dtype: float64\n",
      "26.5 ms ± 1.13 ms per loop (mean ± std. dev. of 7 runs, 10 loops each)\n"
     ]
    }
   ],
   "source": [
    "print(trades['a'].loss_rate())\n",
    "print(trades.loss_rate())\n",
    "%timeit big_trades.loss_rate()\n",
    "\n",
    "print(trades.loss_rate(group_by=group_by))\n",
    "%timeit big_trades.loss_rate(group_by=big_group_by)"
   ]
  },
  {
   "cell_type": "code",
   "execution_count": 43,
   "metadata": {},
   "outputs": [
    {
     "name": "stdout",
     "output_type": "stream",
     "text": [
      "18.9\n"
     ]
    },
    {
     "name": "stderr",
     "output_type": "stream",
     "text": [
      "/Users/olegpolakow/Documents/SourceTree/vectorbt/vectorbt/portfolio/trades.py:249: RuntimeWarning:\n",
      "\n",
      "invalid value encountered in true_divide\n",
      "\n"
     ]
    },
    {
     "name": "stdout",
     "output_type": "stream",
     "text": [
      "a    18.900000\n",
      "b     0.000000\n",
      "c     2.458537\n",
      "d          NaN\n",
      "dtype: float64\n",
      "63.6 ms ± 523 µs per loop (mean ± std. dev. of 7 runs, 10 loops each)\n",
      "group\n",
      "first     0.818182\n",
      "second    2.458537\n",
      "dtype: float64\n",
      "57.1 ms ± 798 µs per loop (mean ± std. dev. of 7 runs, 10 loops each)\n"
     ]
    }
   ],
   "source": [
    "print(trades['a'].profit_factor())\n",
    "print(trades.profit_factor())\n",
    "%timeit big_trades.profit_factor()\n",
    "\n",
    "print(trades_grouped.profit_factor())\n",
    "%timeit big_trades_grouped.profit_factor()"
   ]
  },
  {
   "cell_type": "code",
   "execution_count": 44,
   "metadata": {},
   "outputs": [
    {
     "name": "stdout",
     "output_type": "stream",
     "text": [
      "0.716\n"
     ]
    },
    {
     "name": "stderr",
     "output_type": "stream",
     "text": [
      "/Users/olegpolakow/Documents/SourceTree/vectorbt/vectorbt/portfolio/trades.py:223: RuntimeWarning:\n",
      "\n",
      "invalid value encountered in true_divide\n",
      "\n"
     ]
    },
    {
     "name": "stdout",
     "output_type": "stream",
     "text": [
      "a    0.7160\n",
      "b   -0.8840\n",
      "c    0.3588\n",
      "d       NaN\n",
      "dtype: float64\n",
      "105 ms ± 704 µs per loop (mean ± std. dev. of 7 runs, 10 loops each)\n",
      "group\n",
      "first    -0.0840\n",
      "second    0.3588\n",
      "dtype: float64\n",
      "92.8 ms ± 1.18 ms per loop (mean ± std. dev. of 7 runs, 10 loops each)\n"
     ]
    }
   ],
   "source": [
    "print(trades['a'].expectancy())\n",
    "print(trades.expectancy())\n",
    "%timeit big_trades.expectancy()\n",
    "\n",
    "print(trades_grouped.expectancy())\n",
    "%timeit big_trades_grouped.expectancy()"
   ]
  },
  {
   "cell_type": "code",
   "execution_count": 45,
   "metadata": {},
   "outputs": [
    {
     "name": "stdout",
     "output_type": "stream",
     "text": [
      "1.634155521947584\n",
      "a    1.634156\n",
      "b   -2.130073\n",
      "c    0.716604\n",
      "d         NaN\n",
      "dtype: float64\n",
      "48.7 ms ± 477 µs per loop (mean ± std. dev. of 7 runs, 10 loops each)\n",
      "group\n",
      "first    -0.204047\n",
      "second    0.716604\n",
      "dtype: float64\n",
      "36.2 ms ± 392 µs per loop (mean ± std. dev. of 7 runs, 10 loops each)\n"
     ]
    }
   ],
   "source": [
    "print(trades['a'].sqn())\n",
    "print(trades.sqn())\n",
    "%timeit big_trades.sqn()\n",
    "\n",
    "print(trades_grouped.sqn())\n",
    "%timeit big_trades_grouped.sqn()"
   ]
  },
  {
   "cell_type": "code",
   "execution_count": 46,
   "metadata": {},
   "outputs": [
    {
     "name": "stdout",
     "output_type": "stream",
     "text": [
      "0    0\n",
      "1    0\n",
      "2    0\n",
      "3    0\n",
      "Name: a, dtype: int64\n",
      "     a    b    c   d\n",
      "0  0.0  1.0  0.0 NaN\n",
      "1  0.0  1.0  0.0 NaN\n",
      "2  0.0  1.0  0.0 NaN\n",
      "3  0.0  1.0  1.0 NaN\n",
      "4  NaN  NaN  0.0 NaN\n",
      "21.4 µs ± 358 ns per loop (mean ± std. dev. of 7 runs, 10000 loops each)\n"
     ]
    }
   ],
   "source": [
    "print(trades['a'].direction.stack())\n",
    "print(trades.direction.stack())\n",
    "\n",
    "%timeit big_trades.direction"
   ]
  },
  {
   "cell_type": "code",
   "execution_count": 47,
   "metadata": {},
   "outputs": [
    {
     "name": "stdout",
     "output_type": "stream",
     "text": [
      "<vectorbt.portfolio.trades.Trades object at 0x7f8500ed4be0>\n",
      "   col  size  entry_idx  entry_price  entry_fees  exit_idx  exit_price  \\\n",
      "0    0   1.0          0     1.090909    0.010909         2         3.0   \n",
      "1    0   0.1          0     1.090909    0.001091         3         4.0   \n",
      "2    0   1.0          5     6.000000    0.060000         6         7.0   \n",
      "3    0   2.0          7     8.000000    0.160000         7         8.0   \n",
      "\n",
      "   exit_fees       pnl  return  direction  status  position_idx  \n",
      "0      0.030  1.868182  1.7125          0       1             0  \n",
      "1      0.004  0.285818  2.6200          0       1             0  \n",
      "2      0.070  0.870000  0.1450          0       1             1  \n",
      "3      0.000 -0.160000 -0.0100          0       0             2  \n",
      "   col  size  entry_idx  entry_price  entry_fees  exit_idx  exit_price  \\\n",
      "0    0   1.0          0     1.090909    0.010909         2         3.0   \n",
      "1    0   0.1          0     1.090909    0.001091         3         4.0   \n",
      "2    0   1.0          5     6.000000    0.060000         6         7.0   \n",
      "3    0   2.0          7     8.000000    0.160000         7         8.0   \n",
      "\n",
      "   exit_fees       pnl  return  direction  status  position_idx  \n",
      "0      0.030  1.868182  1.7125          0       1             0  \n",
      "1      0.004  0.285818  2.6200          0       1             0  \n",
      "2      0.070  0.870000  0.1450          0       1             1  \n",
      "3      0.000 -0.160000 -0.0100          0       0             2  \n",
      "   col  size  entry_idx  entry_price  entry_fees  exit_idx  exit_price  \\\n",
      "0    0   1.0          0     1.090909    0.010909         2         3.0   \n",
      "1    0   0.1          0     1.090909    0.001091         3         4.0   \n",
      "2    0   1.0          5     6.000000    0.060000         6         7.0   \n",
      "3    0   2.0          7     8.000000    0.160000         7         8.0   \n",
      "4    2   1.0          0     1.090909    0.010909         2         3.0   \n",
      "5    2   0.1          0     1.090909    0.001091         3         4.0   \n",
      "6    2   1.0          5     6.000000    0.060000         6         7.0   \n",
      "7    2   1.0          7     8.000000    0.080000         7         8.0   \n",
      "\n",
      "   exit_fees       pnl  return  direction  status  position_idx  \n",
      "0      0.030  1.868182  1.7125          0       1             0  \n",
      "1      0.004  0.285818  2.6200          0       1             0  \n",
      "2      0.070  0.870000  0.1450          0       1             1  \n",
      "3      0.000 -0.160000 -0.0100          0       0             2  \n",
      "4      0.030  1.868182  1.7125          0       1             0  \n",
      "5      0.004  0.285818  2.6200          0       1             0  \n",
      "6      0.070  0.870000  0.1450          0       1             1  \n",
      "7      0.000 -0.080000 -0.0100          0       0             3  \n",
      "15 ms ± 1.41 ms per loop (mean ± std. dev. of 7 runs, 10 loops each)\n"
     ]
    }
   ],
   "source": [
    "print(trades.long)\n",
    "print(trades['a'].long.records)\n",
    "print(trades.long['a'].records)\n",
    "print(trades.long.records)\n",
    "\n",
    "%timeit big_trades.long"
   ]
  },
  {
   "cell_type": "code",
   "execution_count": 48,
   "metadata": {},
   "outputs": [
    {
     "name": "stdout",
     "output_type": "stream",
     "text": [
      "1.0\n",
      "a    1.0\n",
      "b    0.0\n",
      "c    0.8\n",
      "d    NaN\n",
      "dtype: float64\n"
     ]
    },
    {
     "name": "stderr",
     "output_type": "stream",
     "text": [
      "/Users/olegpolakow/Documents/SourceTree/vectorbt/vectorbt/portfolio/trades.py:294: RuntimeWarning:\n",
      "\n",
      "invalid value encountered in true_divide\n",
      "\n"
     ]
    },
    {
     "name": "stdout",
     "output_type": "stream",
     "text": [
      "39.5 ms ± 424 µs per loop (mean ± std. dev. of 7 runs, 10 loops each)\n",
      "group\n",
      "first     0.5\n",
      "second    0.8\n",
      "dtype: float64\n",
      "30.9 ms ± 403 µs per loop (mean ± std. dev. of 7 runs, 10 loops each)\n"
     ]
    }
   ],
   "source": [
    "print(trades['a'].long_rate())\n",
    "print(trades.long_rate())\n",
    "%timeit big_trades.long_rate()\n",
    "\n",
    "print(trades.long_rate(group_by=group_by))\n",
    "%timeit big_trades.long_rate(group_by=big_group_by)"
   ]
  },
  {
   "cell_type": "code",
   "execution_count": 49,
   "metadata": {},
   "outputs": [
    {
     "name": "stdout",
     "output_type": "stream",
     "text": [
      "<vectorbt.portfolio.trades.Trades object at 0x7f83211e1080>\n",
      "Empty DataFrame\n",
      "Columns: [col, size, entry_idx, entry_price, entry_fees, exit_idx, exit_price, exit_fees, pnl, return, direction, status, position_idx]\n",
      "Index: []\n",
      "Empty DataFrame\n",
      "Columns: [col, size, entry_idx, entry_price, entry_fees, exit_idx, exit_price, exit_fees, pnl, return, direction, status, position_idx]\n",
      "Index: []\n",
      "   col  size  entry_idx  entry_price  entry_fees  exit_idx  exit_price  \\\n",
      "0    1   1.0          0     1.090909    0.010909         2         3.0   \n",
      "1    1   0.1          0     1.090909    0.001091         3         4.0   \n",
      "2    1   1.0          5     6.000000    0.060000         6         7.0   \n",
      "3    1   2.0          7     8.000000    0.160000         7         8.0   \n",
      "4    2   1.0          6     7.000000    0.070000         7         8.0   \n",
      "\n",
      "   exit_fees    pnl    return  direction  status  position_idx  \n",
      "0      0.030 -1.950 -1.787500          1       1             0  \n",
      "1      0.004 -0.296 -2.713333          1       1             0  \n",
      "2      0.070 -1.130 -0.188333          1       1             1  \n",
      "3      0.000 -0.160 -0.010000          1       0             2  \n",
      "4      0.080 -1.150 -0.164286          1       1             2  \n",
      "4.2 ms ± 67 µs per loop (mean ± std. dev. of 7 runs, 100 loops each)\n"
     ]
    }
   ],
   "source": [
    "print(trades.short)\n",
    "print(trades['a'].short.records)\n",
    "print(trades.short['a'].records)\n",
    "print(trades.short.records)\n",
    "\n",
    "%timeit big_trades.short"
   ]
  },
  {
   "cell_type": "code",
   "execution_count": 50,
   "metadata": {},
   "outputs": [
    {
     "name": "stdout",
     "output_type": "stream",
     "text": [
      "0.0\n",
      "a    0.0\n",
      "b    1.0\n",
      "c    0.2\n",
      "d    NaN\n",
      "dtype: float64\n"
     ]
    },
    {
     "name": "stderr",
     "output_type": "stream",
     "text": [
      "/Users/olegpolakow/Documents/SourceTree/vectorbt/vectorbt/portfolio/trades.py:307: RuntimeWarning:\n",
      "\n",
      "invalid value encountered in true_divide\n",
      "\n"
     ]
    },
    {
     "name": "stdout",
     "output_type": "stream",
     "text": [
      "17.4 ms ± 896 µs per loop (mean ± std. dev. of 7 runs, 10 loops each)\n",
      "group\n",
      "first     0.5\n",
      "second    0.2\n",
      "dtype: float64\n",
      "14.1 ms ± 103 µs per loop (mean ± std. dev. of 7 runs, 100 loops each)\n"
     ]
    }
   ],
   "source": [
    "print(trades['a'].short_rate())\n",
    "print(trades.short_rate())\n",
    "%timeit big_trades.short_rate()\n",
    "\n",
    "print(trades_grouped.short_rate())\n",
    "%timeit big_trades_grouped.short_rate()"
   ]
  },
  {
   "cell_type": "code",
   "execution_count": 51,
   "metadata": {},
   "outputs": [
    {
     "name": "stdout",
     "output_type": "stream",
     "text": [
      "0    1\n",
      "1    1\n",
      "2    1\n",
      "3    0\n",
      "Name: a, dtype: int64\n",
      "     a    b    c   d\n",
      "0  1.0  1.0  1.0 NaN\n",
      "1  1.0  1.0  1.0 NaN\n",
      "2  1.0  1.0  1.0 NaN\n",
      "3  0.0  0.0  1.0 NaN\n",
      "4  NaN  NaN  0.0 NaN\n",
      "21 µs ± 252 ns per loop (mean ± std. dev. of 7 runs, 10000 loops each)\n"
     ]
    }
   ],
   "source": [
    "print(trades['a'].status.stack())\n",
    "print(trades.status.stack())\n",
    "\n",
    "%timeit big_trades.status"
   ]
  },
  {
   "cell_type": "code",
   "execution_count": 52,
   "metadata": {},
   "outputs": [
    {
     "name": "stdout",
     "output_type": "stream",
     "text": [
      "<vectorbt.portfolio.trades.Trades object at 0x7f8321338b00>\n",
      "   col  size  entry_idx  entry_price  entry_fees  exit_idx  exit_price  \\\n",
      "0    0   2.0          7          8.0        0.16         7         8.0   \n",
      "\n",
      "   exit_fees   pnl  return  direction  status  position_idx  \n",
      "0        0.0 -0.16   -0.01          0       0             2  \n",
      "   col  size  entry_idx  entry_price  entry_fees  exit_idx  exit_price  \\\n",
      "0    0   2.0          7          8.0        0.16         7         8.0   \n",
      "\n",
      "   exit_fees   pnl  return  direction  status  position_idx  \n",
      "0        0.0 -0.16   -0.01          0       0             2  \n",
      "   col  size  entry_idx  entry_price  entry_fees  exit_idx  exit_price  \\\n",
      "0    0   2.0          7          8.0        0.16         7         8.0   \n",
      "1    1   2.0          7          8.0        0.16         7         8.0   \n",
      "2    2   1.0          7          8.0        0.08         7         8.0   \n",
      "\n",
      "   exit_fees   pnl  return  direction  status  position_idx  \n",
      "0        0.0 -0.16   -0.01          0       0             2  \n",
      "1        0.0 -0.16   -0.01          1       0             2  \n",
      "2        0.0 -0.08   -0.01          0       0             3  \n",
      "4.08 ms ± 234 µs per loop (mean ± std. dev. of 7 runs, 100 loops each)\n"
     ]
    }
   ],
   "source": [
    "print(trades.open)\n",
    "print(trades['a'].open.records)\n",
    "print(trades.open['a'].records)\n",
    "print(trades.open.records)\n",
    "\n",
    "%timeit big_trades.open"
   ]
  },
  {
   "cell_type": "code",
   "execution_count": 53,
   "metadata": {},
   "outputs": [
    {
     "name": "stdout",
     "output_type": "stream",
     "text": [
      "0.25\n",
      "a    0.25\n",
      "b    0.25\n",
      "c    0.20\n",
      "d     NaN\n",
      "dtype: float64\n"
     ]
    },
    {
     "name": "stderr",
     "output_type": "stream",
     "text": [
      "/Users/olegpolakow/Documents/SourceTree/vectorbt/vectorbt/portfolio/trades.py:327: RuntimeWarning:\n",
      "\n",
      "invalid value encountered in true_divide\n",
      "\n"
     ]
    },
    {
     "name": "stdout",
     "output_type": "stream",
     "text": [
      "16.9 ms ± 198 µs per loop (mean ± std. dev. of 7 runs, 100 loops each)\n",
      "group\n",
      "first     0.25\n",
      "second    0.20\n",
      "dtype: float64\n",
      "14.2 ms ± 145 µs per loop (mean ± std. dev. of 7 runs, 100 loops each)\n"
     ]
    }
   ],
   "source": [
    "print(trades['a'].open_rate())\n",
    "print(trades.open_rate())\n",
    "%timeit big_trades.open_rate()\n",
    "\n",
    "print(trades_grouped.open_rate())\n",
    "%timeit big_trades_grouped.open_rate()"
   ]
  },
  {
   "cell_type": "code",
   "execution_count": 54,
   "metadata": {},
   "outputs": [
    {
     "name": "stdout",
     "output_type": "stream",
     "text": [
      "<vectorbt.portfolio.trades.Trades object at 0x7f86dddf39b0>\n",
      "   col  size  entry_idx  entry_price  entry_fees  exit_idx  exit_price  \\\n",
      "0    0   1.0          0     1.090909    0.010909         2         3.0   \n",
      "1    0   0.1          0     1.090909    0.001091         3         4.0   \n",
      "2    0   1.0          5     6.000000    0.060000         6         7.0   \n",
      "\n",
      "   exit_fees       pnl  return  direction  status  position_idx  \n",
      "0      0.030  1.868182  1.7125          0       1             0  \n",
      "1      0.004  0.285818  2.6200          0       1             0  \n",
      "2      0.070  0.870000  0.1450          0       1             1  \n",
      "   col  size  entry_idx  entry_price  entry_fees  exit_idx  exit_price  \\\n",
      "0    0   1.0          0     1.090909    0.010909         2         3.0   \n",
      "1    0   0.1          0     1.090909    0.001091         3         4.0   \n",
      "2    0   1.0          5     6.000000    0.060000         6         7.0   \n",
      "\n",
      "   exit_fees       pnl  return  direction  status  position_idx  \n",
      "0      0.030  1.868182  1.7125          0       1             0  \n",
      "1      0.004  0.285818  2.6200          0       1             0  \n",
      "2      0.070  0.870000  0.1450          0       1             1  \n",
      "   col  size  entry_idx  entry_price  entry_fees  exit_idx  exit_price  \\\n",
      "0    0   1.0          0     1.090909    0.010909         2         3.0   \n",
      "1    0   0.1          0     1.090909    0.001091         3         4.0   \n",
      "2    0   1.0          5     6.000000    0.060000         6         7.0   \n",
      "3    1   1.0          0     1.090909    0.010909         2         3.0   \n",
      "4    1   0.1          0     1.090909    0.001091         3         4.0   \n",
      "5    1   1.0          5     6.000000    0.060000         6         7.0   \n",
      "6    2   1.0          0     1.090909    0.010909         2         3.0   \n",
      "7    2   0.1          0     1.090909    0.001091         3         4.0   \n",
      "8    2   1.0          5     6.000000    0.060000         6         7.0   \n",
      "9    2   1.0          6     7.000000    0.070000         7         8.0   \n",
      "\n",
      "   exit_fees       pnl    return  direction  status  position_idx  \n",
      "0      0.030  1.868182  1.712500          0       1             0  \n",
      "1      0.004  0.285818  2.620000          0       1             0  \n",
      "2      0.070  0.870000  0.145000          0       1             1  \n",
      "3      0.030 -1.950000 -1.787500          1       1             0  \n",
      "4      0.004 -0.296000 -2.713333          1       1             0  \n",
      "5      0.070 -1.130000 -0.188333          1       1             1  \n",
      "6      0.030  1.868182  1.712500          0       1             0  \n",
      "7      0.004  0.285818  2.620000          0       1             0  \n",
      "8      0.070  0.870000  0.145000          0       1             1  \n",
      "9      0.080 -1.150000 -0.164286          1       1             2  \n",
      "19.7 ms ± 6.36 ms per loop (mean ± std. dev. of 7 runs, 10 loops each)\n"
     ]
    }
   ],
   "source": [
    "print(trades.closed)\n",
    "print(trades['a'].closed.records)\n",
    "print(trades.closed['a'].records)\n",
    "print(trades.closed.records)\n",
    "\n",
    "%timeit big_trades.closed"
   ]
  },
  {
   "cell_type": "code",
   "execution_count": 55,
   "metadata": {},
   "outputs": [
    {
     "name": "stdout",
     "output_type": "stream",
     "text": [
      "0.75\n",
      "a    0.75\n",
      "b    0.75\n",
      "c    0.80\n",
      "d     NaN\n",
      "dtype: float64\n"
     ]
    },
    {
     "name": "stderr",
     "output_type": "stream",
     "text": [
      "/Users/olegpolakow/Documents/SourceTree/vectorbt/vectorbt/portfolio/trades.py:340: RuntimeWarning:\n",
      "\n",
      "invalid value encountered in true_divide\n",
      "\n"
     ]
    },
    {
     "name": "stdout",
     "output_type": "stream",
     "text": [
      "39.4 ms ± 552 µs per loop (mean ± std. dev. of 7 runs, 10 loops each)\n",
      "group\n",
      "first     0.75\n",
      "second    0.80\n",
      "dtype: float64\n",
      "31.8 ms ± 870 µs per loop (mean ± std. dev. of 7 runs, 10 loops each)\n"
     ]
    }
   ],
   "source": [
    "print(trades['a'].closed_rate())\n",
    "print(trades.closed_rate())\n",
    "%timeit big_trades.closed_rate()\n",
    "\n",
    "print(trades_grouped.closed_rate())\n",
    "%timeit big_trades_grouped.closed_rate()"
   ]
  },
  {
   "cell_type": "code",
   "execution_count": 56,
   "metadata": {},
   "outputs": [
    {
     "data": {
      "image/png": "[encoded data removed]"
     },
     "metadata": {},
     "output_type": "display_data"
    }
   ],
   "source": [
    "trades['c'].plot().show_png()"
   ]
  },
  {
   "cell_type": "code",
   "execution_count": 57,
   "metadata": {},
   "outputs": [
    {
     "data": {
      "image/png": "[encoded data removed]"
     },
     "metadata": {},
     "output_type": "display_data"
    }
   ],
   "source": [
    "trades.plot(column='c').show_png()"
   ]
  },
  {
   "cell_type": "markdown",
   "metadata": {},
   "source": [
    "## Positions"
   ]
  },
  {
   "cell_type": "code",
   "execution_count": 58,
   "metadata": {},
   "outputs": [
    {
     "name": "stdout",
     "output_type": "stream",
     "text": [
      "(10,)\n"
     ]
    }
   ],
   "source": [
    "positions = vbt.Positions.from_trades(trades)\n",
    "positions_grouped = vbt.Positions.from_trades(trades_grouped)\n",
    "print(positions.values.shape)"
   ]
  },
  {
   "cell_type": "code",
   "execution_count": 59,
   "metadata": {},
   "outputs": [
    {
     "name": "stdout",
     "output_type": "stream",
     "text": [
      "(500000,)\n"
     ]
    }
   ],
   "source": [
    "big_positions = vbt.Positions.from_trades(big_trades)\n",
    "big_positions_grouped = vbt.Positions.from_trades(big_trades_grouped)\n",
    "print(big_positions.values.shape)"
   ]
  },
  {
   "cell_type": "code",
   "execution_count": 60,
   "metadata": {},
   "outputs": [
    {
     "name": "stdout",
     "output_type": "stream",
     "text": [
      "29.2 ms ± 6.04 ms per loop (mean ± std. dev. of 7 runs, 10 loops each)\n"
     ]
    }
   ],
   "source": [
    "%timeit vbt.Positions.from_trades(big_trades)"
   ]
  },
  {
   "cell_type": "code",
   "execution_count": 61,
   "metadata": {},
   "outputs": [
    {
     "name": "stdout",
     "output_type": "stream",
     "text": [
      "   col  size  entry_idx  entry_price  entry_fees  exit_idx  exit_price  \\\n",
      "0    0   1.1          0     1.090909       0.012         3    3.090909   \n",
      "1    0   1.0          5     6.000000       0.060         6    7.000000   \n",
      "2    0   2.0          7     8.000000       0.160         7    8.000000   \n",
      "3    1   1.1          0     1.090909       0.012         3    3.090909   \n",
      "4    1   1.0          5     6.000000       0.060         6    7.000000   \n",
      "5    1   2.0          7     8.000000       0.160         7    8.000000   \n",
      "6    2   1.1          0     1.090909       0.012         3    3.090909   \n",
      "7    2   1.0          5     6.000000       0.060         6    7.000000   \n",
      "8    2   1.0          6     7.000000       0.070         7    8.000000   \n",
      "9    2   1.0          7     8.000000       0.080         7    8.000000   \n",
      "\n",
      "   exit_fees    pnl    return  direction  status  position_idx  \n",
      "0      0.034  2.154  1.795000          0       1             0  \n",
      "1      0.070  0.870  0.145000          0       1             1  \n",
      "2      0.000 -0.160 -0.010000          0       0             2  \n",
      "3      0.034 -2.246 -1.871667          1       1             0  \n",
      "4      0.070 -1.130 -0.188333          1       1             1  \n",
      "5      0.000 -0.160 -0.010000          1       0             2  \n",
      "6      0.034  2.154  1.795000          0       1             0  \n",
      "7      0.070  0.870  0.145000          0       1             1  \n",
      "8      0.080 -1.150 -0.164286          1       1             2  \n",
      "9      0.000 -0.080 -0.010000          0       0             3  \n",
      "            a  b  c  d\n",
      "2020-01-01  1  1  1  1\n",
      "2020-01-02  2  2  2  2\n",
      "2020-01-03  3  3  3  3\n",
      "2020-01-04  4  4  4  4\n",
      "2020-01-05  5  5  5  5\n",
      "2020-01-06  6  6  6  6\n",
      "2020-01-07  7  7  7  7\n",
      "2020-01-08  8  8  8  8\n",
      "   col  size  entry_idx  entry_price  entry_fees  exit_idx  exit_price  \\\n",
      "0    0   1.1          0     1.090909       0.012         3    3.090909   \n",
      "1    0   1.0          5     6.000000       0.060         6    7.000000   \n",
      "2    0   2.0          7     8.000000       0.160         7    8.000000   \n",
      "\n",
      "   exit_fees    pnl  return  direction  status  position_idx  \n",
      "0      0.034  2.154   1.795          0       1             0  \n",
      "1      0.070  0.870   0.145          0       1             1  \n",
      "2      0.000 -0.160  -0.010          0       0             2  \n",
      "2020-01-01    1\n",
      "2020-01-02    2\n",
      "2020-01-03    3\n",
      "2020-01-04    4\n",
      "2020-01-05    5\n",
      "2020-01-06    6\n",
      "2020-01-07    7\n",
      "2020-01-08    8\n",
      "Name: a, dtype: int64\n",
      "9.46 ms ± 108 µs per loop (mean ± std. dev. of 7 runs, 100 loops each)\n",
      "33.4 ms ± 409 µs per loop (mean ± std. dev. of 7 runs, 10 loops each)\n",
      "21.2 ms ± 796 µs per loop (mean ± std. dev. of 7 runs, 10 loops each)\n",
      "34.6 ms ± 737 µs per loop (mean ± std. dev. of 7 runs, 10 loops each)\n"
     ]
    }
   ],
   "source": [
    "print(positions.records)\n",
    "print(positions.close)\n",
    "\n",
    "print(positions['a'].records)\n",
    "print(positions['a'].close)\n",
    "\n",
    "%timeit big_positions.iloc[0]\n",
    "%timeit big_positions.iloc[:]\n",
    "\n",
    "%timeit big_positions_grouped.iloc[0]\n",
    "%timeit big_positions_grouped.iloc[:]"
   ]
  },
  {
   "cell_type": "code",
   "execution_count": 62,
   "metadata": {},
   "outputs": [
    {
     "name": "stdout",
     "output_type": "stream",
     "text": [
      "0.5\n",
      "a    0.500\n",
      "b    0.500\n",
      "c    0.625\n",
      "d    0.000\n",
      "dtype: float64\n",
      "19.7 ms ± 850 µs per loop (mean ± std. dev. of 7 runs, 10 loops each)\n",
      "group\n",
      "first     0.5000\n",
      "second    0.3125\n",
      "dtype: float64\n",
      "16.7 ms ± 357 µs per loop (mean ± std. dev. of 7 runs, 100 loops each)\n"
     ]
    }
   ],
   "source": [
    "print(positions['a'].coverage())\n",
    "print(positions.coverage())\n",
    "%timeit big_positions.coverage()\n",
    "\n",
    "print(positions.coverage(group_by=group_by))\n",
    "%timeit big_positions.coverage(group_by=big_group_by)"
   ]
  },
  {
   "cell_type": "markdown",
   "metadata": {},
   "source": [
    "## Logs"
   ]
  },
  {
   "cell_type": "code",
   "execution_count": 63,
   "metadata": {},
   "outputs": [
    {
     "name": "stdout",
     "output_type": "stream",
     "text": [
      "(10,)\n"
     ]
    }
   ],
   "source": [
    "from vectorbt.portfolio.enums import log_dt\n",
    "\n",
    "records_arr = np.asarray([\n",
    "    (0, 1, 0, 100.  , 0., 5., 100.  , 1., 0, 2, 5., 0.01, 0., 0., 1e-08, np.inf, 0., False,  True, False,  True, 94.95, 1., 1., 5., 0.05, 0, 0, -1),\n",
    "    (0, 0, 0,  94.95, 0., 1., 100.  , 1., 0, 2, 1., 0.01, 0., 0., 1e-08, np.inf, 0., False,  True, False,  True, 93.94, 1., 1., 1., 0.01, 0, 0, -1),\n",
    "    (1, 0, 0,  93.94, 1., 2.,  99.94, 1., 0, 2, 2., 0.01, 0., 0., 1e-08, np.inf, 0., False,  True, False,  True, 91.92, 2., 1., 2., 0.02, 0, 0, -1),\n",
    "    (1, 1, 0,  91.92, 1., 4.,  99.94, 1., 0, 2, 4., 0.01, 0., 0., 1e-08, np.inf, 0., False,  True, False,  True, 87.88, 2., 1., 4., 0.04, 0, 0, -1),\n",
    "    (2, 1, 0,  87.88, 2., 3.,  99.88, 1., 0, 2, 3., 0.01, 0., 0., 1e-08, np.inf, 0., False,  True, False,  True, 84.85, 3., 1., 3., 0.03, 0, 0, -1),\n",
    "    (2, 0, 0,  84.85, 2., 3.,  99.88, 1., 0, 2, 3., 0.01, 0., 0., 1e-08, np.inf, 0., False,  True, False,  True, 81.82, 3., 1., 3., 0.03, 0, 0, -1),\n",
    "    (3, 1, 0,  81.82, 3., 2.,  99.82, 1., 0, 2, 2., 0.01, 0., 0., 1e-08, np.inf, 0., False,  True, False,  True, 79.8 , 4., 1., 2., 0.02, 0, 0, -1),\n",
    "    (3, 0, 0,  79.8 , 3., 4.,  99.82, 1., 0, 2, 4., 0.01, 0., 0., 1e-08, np.inf, 0., False,  True, False,  True, 75.76, 4., 1., 4., 0.04, 0, 0, -1),\n",
    "    (4, 1, 0,  75.76, 4., 1.,  99.76, 1., 0, 2, 1., 0.01, 0., 0., 1e-08, np.inf, 0., False,  True, False,  True, 74.75, 5., 1., 1., 0.01, 0, 0, -1),\n",
    "    (4, 0, 0,  74.75, 4., 5.,  99.76, 1., 0, 2, 5., 0.01, 0., 0., 1e-08, np.inf, 0., False,  True, False,  True, 69.7 , 5., 1., 5., 0.05, 0, 0, -1)\n",
    "], dtype=log_dt)\n",
    "print(records_arr.shape)\n",
    "\n",
    "wrapper = vbt.ArrayWrapper([\n",
    "    datetime(2020, 1, 1),\n",
    "    datetime(2020, 1, 2),\n",
    "    datetime(2020, 1, 3),\n",
    "    datetime(2020, 1, 4),\n",
    "    datetime(2020, 1, 5),\n",
    "    datetime(2020, 1, 6)\n",
    "], ['a', 'b'], 2)\n",
    "logs = vbt.Logs(wrapper, records_arr)\n",
    "logs_grouped = vbt.Logs(wrapper.regroup(True), records_arr)"
   ]
  },
  {
   "cell_type": "code",
   "execution_count": 64,
   "metadata": {},
   "outputs": [
    {
     "name": "stdout",
     "output_type": "stream",
     "text": [
      "   idx  col  group  cash_now  shares_now  val_price_now  value_now  size  \\\n",
      "0    0    0      0     94.95         0.0            1.0     100.00   1.0   \n",
      "1    1    0      0     93.94         1.0            2.0      99.94   1.0   \n",
      "2    2    0      0     84.85         2.0            3.0      99.88   1.0   \n",
      "3    3    0      0     79.80         3.0            4.0      99.82   1.0   \n",
      "4    4    0      0     74.75         4.0            5.0      99.76   1.0   \n",
      "\n",
      "   size_type  direction  ...  raise_reject   log  new_cash  new_shares  \\\n",
      "0          0          2  ...         False  True     93.94         1.0   \n",
      "1          0          2  ...         False  True     91.92         2.0   \n",
      "2          0          2  ...         False  True     81.82         3.0   \n",
      "3          0          2  ...         False  True     75.76         4.0   \n",
      "4          0          2  ...         False  True     69.70         5.0   \n",
      "\n",
      "   res_size  res_price  res_fees  res_side  res_status  res_status_info  \n",
      "0       1.0        1.0      0.01         0           0               -1  \n",
      "1       1.0        2.0      0.02         0           0               -1  \n",
      "2       1.0        3.0      0.03         0           0               -1  \n",
      "3       1.0        4.0      0.04         0           0               -1  \n",
      "4       1.0        5.0      0.05         0           0               -1  \n",
      "\n",
      "[5 rows x 29 columns]\n"
     ]
    }
   ],
   "source": [
    "print(logs['a'].records)"
   ]
  },
  {
   "cell_type": "code",
   "execution_count": 65,
   "metadata": {},
   "outputs": [
    {
     "name": "stdout",
     "output_type": "stream",
     "text": [
      "     Context                                                Order            \\\n",
      "        Date Column Group    Cash Shares Val. Price   Value  Size Size Type   \n",
      "0 2020-01-01      b     0  100.00    0.0        5.0  100.00   1.0    Shares   \n",
      "1 2020-01-01      a     0   94.95    0.0        1.0  100.00   1.0    Shares   \n",
      "2 2020-01-02      a     0   93.94    1.0        2.0   99.94   1.0    Shares   \n",
      "3 2020-01-02      b     0   91.92    1.0        4.0   99.94   1.0    Shares   \n",
      "4 2020-01-03      b     0   87.88    2.0        3.0   99.88   1.0    Shares   \n",
      "5 2020-01-03      a     0   84.85    2.0        3.0   99.88   1.0    Shares   \n",
      "6 2020-01-04      b     0   81.82    3.0        2.0   99.82   1.0    Shares   \n",
      "7 2020-01-04      a     0   79.80    3.0        4.0   99.82   1.0    Shares   \n",
      "8 2020-01-05      b     0   75.76    4.0        1.0   99.76   1.0    Shares   \n",
      "9 2020-01-05      a     0   74.75    4.0        5.0   99.76   1.0    Shares   \n",
      "\n",
      "             ...                          Result                              \\\n",
      "  Direction  ... Raise Rejection?  Log? New Cash New Shares Size Price  Fees   \n",
      "0       All  ...            False  True    94.95        1.0  1.0   5.0  0.05   \n",
      "1       All  ...            False  True    93.94        1.0  1.0   1.0  0.01   \n",
      "2       All  ...            False  True    91.92        2.0  1.0   2.0  0.02   \n",
      "3       All  ...            False  True    87.88        2.0  1.0   4.0  0.04   \n",
      "4       All  ...            False  True    84.85        3.0  1.0   3.0  0.03   \n",
      "5       All  ...            False  True    81.82        3.0  1.0   3.0  0.03   \n",
      "6       All  ...            False  True    79.80        4.0  1.0   2.0  0.02   \n",
      "7       All  ...            False  True    75.76        4.0  1.0   4.0  0.04   \n",
      "8       All  ...            False  True    74.75        5.0  1.0   1.0  0.01   \n",
      "9       All  ...            False  True    69.70        5.0  1.0   5.0  0.05   \n",
      "\n",
      "                            \n",
      "  Side  Status Status Info  \n",
      "0  Buy  Filled        None  \n",
      "1  Buy  Filled        None  \n",
      "2  Buy  Filled        None  \n",
      "3  Buy  Filled        None  \n",
      "4  Buy  Filled        None  \n",
      "5  Buy  Filled        None  \n",
      "6  Buy  Filled        None  \n",
      "7  Buy  Filled        None  \n",
      "8  Buy  Filled        None  \n",
      "9  Buy  Filled        None  \n",
      "\n",
      "[10 rows x 29 columns]\n"
     ]
    }
   ],
   "source": [
    "print(logs.records_readable)"
   ]
  },
  {
   "cell_type": "code",
   "execution_count": 66,
   "metadata": {},
   "outputs": [
    {
     "name": "stdout",
     "output_type": "stream",
     "text": [
      "5\n",
      "a    5\n",
      "b    5\n",
      "dtype: int64\n"
     ]
    }
   ],
   "source": [
    "print(logs['a'].count())\n",
    "print(logs.count())"
   ]
  },
  {
   "cell_type": "code",
   "execution_count": null,
   "metadata": {},
   "outputs": [],
   "source": []
  }
 ],
 "metadata": {
  "kernelspec": {
   "display_name": "Python 3",
   "language": "python",
   "name": "python3"
  },
  "language_info": {
   "codemirror_mode": {
    "name": "ipython",
    "version": 3
   },
   "file_extension": ".py",
   "mimetype": "text/x-python",
   "name": "python",
   "nbconvert_exporter": "python",
   "pygments_lexer": "ipython3",
   "version": "3.7.3"
  },
  "widgets": {
   "application/vnd.jupyter.widget-state+json": {
    "state": {
     "25d5302f231e49c88e0c571766133d55": {
      "buffers": [
       {
        "data": "dNFFF1108T900UUXXXTxPwAAAAAAABhAAAAAAAAAHEAAAAAAAAAgQA==",
        "encoding": "base64",
        "path": [
         "_data",
         1,
         "y",
         "value"
        ]
       },
       {
        "data": "AAAAAAAACEAAAAAAAAAQQAAAAAAAABxA",
        "encoding": "base64",
        "path": [
         "_data",
         2,
         "y",
         "value"
        ]
       },
       {
        "data": "AAAAAAAAIEA=",
        "encoding": "base64",
        "path": [
         "_data",
         3,
         "y",
         "value"
        ]
       },
       {
        "data": "AAAAAAAAIEA=",
        "encoding": "base64",
        "path": [
         "_data",
         4,
         "y",
         "value"
        ]
       }
      ],
      "model_module": "plotlywidget",
      "model_module_version": "^4.12.0",
      "model_name": "FigureModel",
      "state": {
       "_config": {
        "plotlyServerURL": "https://plot.ly"
       },
       "_data": [
        {
         "line": {
          "color": "#1f77b4"
         },
         "mode": "lines",
         "name": "c",
         "showlegend": true,
         "type": "scatter",
         "uid": "371874e6-5b62-41e6-a9a8-3063e2a74f72",
         "x": [
          "2020-01-01T00:00:00.000000",
          "2020-01-02T00:00:00.000000",
          "2020-01-03T00:00:00.000000",
          "2020-01-04T00:00:00.000000",
          "2020-01-05T00:00:00.000000",
          "2020-01-06T00:00:00.000000",
          "2020-01-07T00:00:00.000000",
          "2020-01-08T00:00:00.000000"
         ],
         "y": [
          1,
          2,
          3,
          4,
          5,
          6,
          7,
          8
         ]
        },
        {
         "customdata": [
          [
           "1.0",
           "0.010909090909090908",
           "Long",
           "0"
          ],
          [
           "0.10000000000000009",
           "0.0010909090909090918",
           "Long",
           "0"
          ],
          [
           "1.0",
           "0.06",
           "Long",
           "1"
          ],
          [
           "1.0",
           "0.07",
           "Short",
           "2"
          ],
          [
           "1.0",
           "0.08",
           "Long",
           "3"
          ]
         ],
         "hovertemplate": "%{x}<br>Price: %{y}<br>Size: %{customdata[0]:.4f}<br>Fees: %{customdata[1]:.4f}<br>Direction: %{customdata[2]}<br>Position: %{customdata[3]}",
         "marker": {
          "color": "#4285F4",
          "line": {
           "color": "rgb(11,84,205)",
           "width": 1
          },
          "size": 7,
          "symbol": "square"
         },
         "mode": "markers",
         "name": "Entry",
         "type": "scatter",
         "uid": "7d7696e5-4103-4e52-bb0c-79615f8bfc63",
         "x": [
          "2020-01-01T00:00:00.000000",
          "2020-01-01T00:00:00.000000",
          "2020-01-06T00:00:00.000000",
          "2020-01-07T00:00:00.000000",
          "2020-01-08T00:00:00.000000"
         ],
         "y": {
          "dtype": "float64",
          "shape": [
           5
          ]
         }
        },
        {
         "customdata": [
          [
           "1.0",
           "0.03",
           "1.8681818181818182",
           "1.7125000000000001",
           "Long",
           "0",
           "2 days 00:00:00"
          ],
          [
           "0.10000000000000009",
           "0.004",
           "0.2858181818181821",
           "2.62",
           "Long",
           "0",
           "3 days 00:00:00"
          ],
          [
           "1.0",
           "0.07",
           "0.8699999999999999",
           "0.145",
           "Long",
           "1",
           "1 days 00:00:00"
          ]
         ],
         "hovertemplate": "%{x}<br>Price: %{y}<br>Size: %{customdata[0]:.4f}<br>Fees: %{customdata[1]:.4f}<br>PnL: %{customdata[2]:.4f}<br>Return: %{customdata[3]:.2%}<br>Direction: %{customdata[4]}<br>Position: %{customdata[5]}<br>Duration: %{customdata[6]}",
         "marker": {
          "color": "#37B13F",
          "line": {
           "color": "rgb(38,123,44)",
           "width": 1
          },
          "size": 7,
          "symbol": "square"
         },
         "mode": "markers",
         "name": "Exit - Profit",
         "type": "scatter",
         "uid": "e6249c8f-8c2d-47fb-b7d3-f6c24748986f",
         "x": [
          "2020-01-03T00:00:00.000000",
          "2020-01-04T00:00:00.000000",
          "2020-01-07T00:00:00.000000"
         ],
         "y": {
          "dtype": "float64",
          "shape": [
           3
          ]
         }
        },
        {
         "customdata": [
          [
           "1.0",
           "0.08",
           "-1.1500000000000001",
           "-0.1642857142857143",
           "Short",
           "2",
           "1 days 00:00:00"
          ]
         ],
         "hovertemplate": "%{x}<br>Price: %{y}<br>Size: %{customdata[0]:.4f}<br>Fees: %{customdata[1]:.4f}<br>PnL: %{customdata[2]:.4f}<br>Return: %{customdata[3]:.2%}<br>Direction: %{customdata[4]}<br>Position: %{customdata[5]}<br>Duration: %{customdata[6]}",
         "marker": {
          "color": "#EA4335",
          "line": {
           "color": "rgb(181,31,18)",
           "width": 1
          },
          "size": 7,
          "symbol": "square"
         },
         "mode": "markers",
         "name": "Exit - Loss",
         "type": "scatter",
         "uid": "ae91f2cf-a359-4a73-8972-8ef8d3a866fb",
         "x": [
          "2020-01-08T00:00:00.000000"
         ],
         "y": {
          "dtype": "float64",
          "shape": [
           1
          ]
         }
        },
        {
         "customdata": [
          [
           "1.0",
           "0.0",
           "-0.08",
           "-0.01",
           "Long",
           "3",
           "0 days 00:00:00"
          ]
         ],
         "hovertemplate": "%{x}<br>Price: %{y}<br>Size: %{customdata[0]:.4f}<br>Fees: %{customdata[1]:.4f}<br>PnL: %{customdata[2]:.4f}<br>Return: %{customdata[3]:.2%}<br>Direction: %{customdata[4]}<br>Position: %{customdata[5]}<br>Duration: %{customdata[6]}",
         "marker": {
          "color": "#FFAA00",
          "line": {
           "color": "rgb(178,118,0)",
           "width": 1
          },
          "size": 7,
          "symbol": "square"
         },
         "mode": "markers",
         "name": "Active",
         "type": "scatter",
         "uid": "8192db46-dda4-4690-8610-cd8248ae384c",
         "x": [
          "2020-01-08T00:00:00.000000"
         ],
         "y": {
          "dtype": "float64",
          "shape": [
           1
          ]
         }
        }
       ],
       "_js2py_layoutDelta": {},
       "_js2py_pointsCallback": {},
       "_js2py_relayout": {},
       "_js2py_restyle": {},
       "_js2py_traceDeltas": {},
       "_js2py_update": {},
       "_last_layout_edit_id": 12,
       "_last_trace_edit_id": 7,
       "_layout": {
        "autosize": false,
        "colorway": [
         "#1f77b4",
         "#ff7f0e",
         "#2ca02c",
         "#dc3912",
         "#9467bd",
         "#8c564b",
         "#e377c2",
         "#7f7f7f",
         "#bcbd22",
         "#17becf"
        ],
        "height": 350,
        "hovermode": "closest",
        "legend": {
         "orientation": "h",
         "traceorder": "normal",
         "x": 1,
         "xanchor": "right",
         "y": 1.02,
         "yanchor": "bottom"
        },
        "margin": {
         "b": 30,
         "l": 30,
         "r": 30,
         "t": 30
        },
        "shapes": [
         {
          "fillcolor": "green",
          "layer": "below",
          "line": {
           "width": 0
          },
          "opacity": 0.2,
          "type": "rect",
          "x0": "2020-01-01T00:00:00.000000",
          "x1": "2020-01-03T00:00:00.000000",
          "xref": "x",
          "y0": 1.0909090909090908,
          "y1": 3,
          "yref": "y"
         },
         {
          "fillcolor": "green",
          "layer": "below",
          "line": {
           "width": 0
          },
          "opacity": 0.2,
          "type": "rect",
          "x0": "2020-01-01T00:00:00.000000",
          "x1": "2020-01-04T00:00:00.000000",
          "xref": "x",
          "y0": 1.0909090909090908,
          "y1": 4,
          "yref": "y"
         },
         {
          "fillcolor": "green",
          "layer": "below",
          "line": {
           "width": 0
          },
          "opacity": 0.2,
          "type": "rect",
          "x0": "2020-01-06T00:00:00.000000",
          "x1": "2020-01-07T00:00:00.000000",
          "xref": "x",
          "y0": 6,
          "y1": 7,
          "yref": "y"
         },
         {
          "fillcolor": "red",
          "layer": "below",
          "line": {
           "width": 0
          },
          "opacity": 0.2,
          "type": "rect",
          "x0": "2020-01-07T00:00:00.000000",
          "x1": "2020-01-08T00:00:00.000000",
          "xref": "x",
          "y0": 7,
          "y1": 8,
          "yref": "y"
         },
         {
          "fillcolor": "red",
          "layer": "below",
          "line": {
           "width": 0
          },
          "opacity": 0.2,
          "type": "rect",
          "x0": "2020-01-08T00:00:00.000000",
          "x1": "2020-01-08T00:00:00.000000",
          "xref": "x",
          "y0": 8,
          "y1": 8,
          "yref": "y"
         }
        ],
        "template": {
         "data": {
          "bar": [
           {
            "error_x": {
             "color": "#2a3f5f"
            },
            "error_y": {
             "color": "#2a3f5f"
            },
            "marker": {
             "line": {
              "color": "#E5ECF6",
              "width": 0.5
             }
            },
            "type": "bar"
           }
          ],
          "barpolar": [
           {
            "marker": {
             "line": {
              "color": "#E5ECF6",
              "width": 0.5
             }
            },
            "type": "barpolar"
           }
          ],
          "carpet": [
           {
            "aaxis": {
             "endlinecolor": "#2a3f5f",
             "gridcolor": "white",
             "linecolor": "white",
             "minorgridcolor": "white",
             "startlinecolor": "#2a3f5f"
            },
            "baxis": {
             "endlinecolor": "#2a3f5f",
             "gridcolor": "white",
             "linecolor": "white",
             "minorgridcolor": "white",
             "startlinecolor": "#2a3f5f"
            },
            "type": "carpet"
           }
          ],
          "choropleth": [
           {
            "colorbar": {
             "outlinewidth": 0,
             "ticks": ""
            },
            "type": "choropleth"
           }
          ],
          "contour": [
           {
            "colorbar": {
             "outlinewidth": 0,
             "ticks": ""
            },
            "colorscale": [
             [
              0,
              "#0d0887"
             ],
             [
              0.1111111111111111,
              "#46039f"
             ],
             [
              0.2222222222222222,
              "#7201a8"
             ],
             [
              0.3333333333333333,
              "#9c179e"
             ],
             [
              0.4444444444444444,
              "#bd3786"
             ],
             [
              0.5555555555555556,
              "#d8576b"
             ],
             [
              0.6666666666666666,
              "#ed7953"
             ],
             [
              0.7777777777777778,
              "#fb9f3a"
             ],
             [
              0.8888888888888888,
              "#fdca26"
             ],
             [
              1,
              "#f0f921"
             ]
            ],
            "type": "contour"
           }
          ],
          "contourcarpet": [
           {
            "colorbar": {
             "outlinewidth": 0,
             "ticks": ""
            },
            "type": "contourcarpet"
           }
          ],
          "heatmap": [
           {
            "colorbar": {
             "outlinewidth": 0,
             "ticks": ""
            },
            "colorscale": [
             [
              0,
              "#0d0887"
             ],
             [
              0.1111111111111111,
              "#46039f"
             ],
             [
              0.2222222222222222,
              "#7201a8"
             ],
             [
              0.3333333333333333,
              "#9c179e"
             ],
             [
              0.4444444444444444,
              "#bd3786"
             ],
             [
              0.5555555555555556,
              "#d8576b"
             ],
             [
              0.6666666666666666,
              "#ed7953"
             ],
             [
              0.7777777777777778,
              "#fb9f3a"
             ],
             [
              0.8888888888888888,
              "#fdca26"
             ],
             [
              1,
              "#f0f921"
             ]
            ],
            "type": "heatmap"
           }
          ],
          "heatmapgl": [
           {
            "colorbar": {
             "outlinewidth": 0,
             "ticks": ""
            },
            "colorscale": [
             [
              0,
              "#0d0887"
             ],
             [
              0.1111111111111111,
              "#46039f"
             ],
             [
              0.2222222222222222,
              "#7201a8"
             ],
             [
              0.3333333333333333,
              "#9c179e"
             ],
             [
              0.4444444444444444,
              "#bd3786"
             ],
             [
              0.5555555555555556,
              "#d8576b"
             ],
             [
              0.6666666666666666,
              "#ed7953"
             ],
             [
              0.7777777777777778,
              "#fb9f3a"
             ],
             [
              0.8888888888888888,
              "#fdca26"
             ],
             [
              1,
              "#f0f921"
             ]
            ],
            "type": "heatmapgl"
           }
          ],
          "histogram": [
           {
            "marker": {
             "colorbar": {
              "outlinewidth": 0,
              "ticks": ""
             }
            },
            "type": "histogram"
           }
          ],
          "histogram2d": [
           {
            "colorbar": {
             "outlinewidth": 0,
             "ticks": ""
            },
            "colorscale": [
             [
              0,
              "#0d0887"
             ],
             [
              0.1111111111111111,
              "#46039f"
             ],
             [
              0.2222222222222222,
              "#7201a8"
             ],
             [
              0.3333333333333333,
              "#9c179e"
             ],
             [
              0.4444444444444444,
              "#bd3786"
             ],
             [
              0.5555555555555556,
              "#d8576b"
             ],
             [
              0.6666666666666666,
              "#ed7953"
             ],
             [
              0.7777777777777778,
              "#fb9f3a"
             ],
             [
              0.8888888888888888,
              "#fdca26"
             ],
             [
              1,
              "#f0f921"
             ]
            ],
            "type": "histogram2d"
           }
          ],
          "histogram2dcontour": [
           {
            "colorbar": {
             "outlinewidth": 0,
             "ticks": ""
            },
            "colorscale": [
             [
              0,
              "#0d0887"
             ],
             [
              0.1111111111111111,
              "#46039f"
             ],
             [
              0.2222222222222222,
              "#7201a8"
             ],
             [
              0.3333333333333333,
              "#9c179e"
             ],
             [
              0.4444444444444444,
              "#bd3786"
             ],
             [
              0.5555555555555556,
              "#d8576b"
             ],
             [
              0.6666666666666666,
              "#ed7953"
             ],
             [
              0.7777777777777778,
              "#fb9f3a"
             ],
             [
              0.8888888888888888,
              "#fdca26"
             ],
             [
              1,
              "#f0f921"
             ]
            ],
            "type": "histogram2dcontour"
           }
          ],
          "mesh3d": [
           {
            "colorbar": {
             "outlinewidth": 0,
             "ticks": ""
            },
            "type": "mesh3d"
           }
          ],
          "parcoords": [
           {
            "line": {
             "colorbar": {
              "outlinewidth": 0,
              "ticks": ""
             }
            },
            "type": "parcoords"
           }
          ],
          "pie": [
           {
            "automargin": true,
            "type": "pie"
           }
          ],
          "scatter": [
           {
            "marker": {
             "colorbar": {
              "outlinewidth": 0,
              "ticks": ""
             }
            },
            "type": "scatter"
           }
          ],
          "scatter3d": [
           {
            "line": {
             "colorbar": {
              "outlinewidth": 0,
              "ticks": ""
             }
            },
            "marker": {
             "colorbar": {
              "outlinewidth": 0,
              "ticks": ""
             }
            },
            "type": "scatter3d"
           }
          ],
          "scattercarpet": [
           {
            "marker": {
             "colorbar": {
              "outlinewidth": 0,
              "ticks": ""
             }
            },
            "type": "scattercarpet"
           }
          ],
          "scattergeo": [
           {
            "marker": {
             "colorbar": {
              "outlinewidth": 0,
              "ticks": ""
             }
            },
            "type": "scattergeo"
           }
          ],
          "scattergl": [
           {
            "marker": {
             "colorbar": {
              "outlinewidth": 0,
              "ticks": ""
             }
            },
            "type": "scattergl"
           }
          ],
          "scattermapbox": [
           {
            "marker": {
             "colorbar": {
              "outlinewidth": 0,
              "ticks": ""
             }
            },
            "type": "scattermapbox"
           }
          ],
          "scatterpolar": [
           {
            "marker": {
             "colorbar": {
              "outlinewidth": 0,
              "ticks": ""
             }
            },
            "type": "scatterpolar"
           }
          ],
          "scatterpolargl": [
           {
            "marker": {
             "colorbar": {
              "outlinewidth": 0,
              "ticks": ""
             }
            },
            "type": "scatterpolargl"
           }
          ],
          "scatterternary": [
           {
            "marker": {
             "colorbar": {
              "outlinewidth": 0,
              "ticks": ""
             }
            },
            "type": "scatterternary"
           }
          ],
          "surface": [
           {
            "colorbar": {
             "outlinewidth": 0,
             "ticks": ""
            },
            "colorscale": [
             [
              0,
              "#0d0887"
             ],
             [
              0.1111111111111111,
              "#46039f"
             ],
             [
              0.2222222222222222,
              "#7201a8"
             ],
             [
              0.3333333333333333,
              "#9c179e"
             ],
             [
              0.4444444444444444,
              "#bd3786"
             ],
             [
              0.5555555555555556,
              "#d8576b"
             ],
             [
              0.6666666666666666,
              "#ed7953"
             ],
             [
              0.7777777777777778,
              "#fb9f3a"
             ],
             [
              0.8888888888888888,
              "#fdca26"
             ],
             [
              1,
              "#f0f921"
             ]
            ],
            "type": "surface"
           }
          ],
          "table": [
           {
            "cells": {
             "fill": {
              "color": "#EBF0F8"
             },
             "line": {
              "color": "white"
             }
            },
            "header": {
             "fill": {
              "color": "#C8D4E3"
             },
             "line": {
              "color": "white"
             }
            },
            "type": "table"
           }
          ]
         },
         "layout": {
          "annotationdefaults": {
           "arrowcolor": "#2a3f5f",
           "arrowhead": 0,
           "arrowwidth": 1
          },
          "coloraxis": {
           "colorbar": {
            "outlinewidth": 0,
            "ticks": ""
           }
          },
          "colorscale": {
           "diverging": [
            [
             0,
             "#8e0152"
            ],
            [
             0.1,
             "#c51b7d"
            ],
            [
             0.2,
             "#de77ae"
            ],
            [
             0.3,
             "#f1b6da"
            ],
            [
             0.4,
             "#fde0ef"
            ],
            [
             0.5,
             "#f7f7f7"
            ],
            [
             0.6,
             "#e6f5d0"
            ],
            [
             0.7,
             "#b8e186"
            ],
            [
             0.8,
             "#7fbc41"
            ],
            [
             0.9,
             "#4d9221"
            ],
            [
             1,
             "#276419"
            ]
           ],
           "sequential": [
            [
             0,
             "#0d0887"
            ],
            [
             0.1111111111111111,
             "#46039f"
            ],
            [
             0.2222222222222222,
             "#7201a8"
            ],
            [
             0.3333333333333333,
             "#9c179e"
            ],
            [
             0.4444444444444444,
             "#bd3786"
            ],
            [
             0.5555555555555556,
             "#d8576b"
            ],
            [
             0.6666666666666666,
             "#ed7953"
            ],
            [
             0.7777777777777778,
             "#fb9f3a"
            ],
            [
             0.8888888888888888,
             "#fdca26"
            ],
            [
             1,
             "#f0f921"
            ]
           ],
           "sequentialminus": [
            [
             0,
             "#0d0887"
            ],
            [
             0.1111111111111111,
             "#46039f"
            ],
            [
             0.2222222222222222,
             "#7201a8"
            ],
            [
             0.3333333333333333,
             "#9c179e"
            ],
            [
             0.4444444444444444,
             "#bd3786"
            ],
            [
             0.5555555555555556,
             "#d8576b"
            ],
            [
             0.6666666666666666,
             "#ed7953"
            ],
            [
             0.7777777777777778,
             "#fb9f3a"
            ],
            [
             0.8888888888888888,
             "#fdca26"
            ],
            [
             1,
             "#f0f921"
            ]
           ]
          },
          "colorway": [
           "#636efa",
           "#EF553B",
           "#00cc96",
           "#ab63fa",
           "#FFA15A",
           "#19d3f3",
           "#FF6692",
           "#B6E880",
           "#FF97FF",
           "#FECB52"
          ],
          "font": {
           "color": "#2a3f5f"
          },
          "geo": {
           "bgcolor": "white",
           "lakecolor": "white",
           "landcolor": "#E5ECF6",
           "showlakes": true,
           "showland": true,
           "subunitcolor": "white"
          },
          "hoverlabel": {
           "align": "left"
          },
          "hovermode": "closest",
          "mapbox": {
           "style": "light"
          },
          "paper_bgcolor": "white",
          "plot_bgcolor": "#E5ECF6",
          "polar": {
           "angularaxis": {
            "gridcolor": "white",
            "linecolor": "white",
            "ticks": ""
           },
           "bgcolor": "#E5ECF6",
           "radialaxis": {
            "gridcolor": "white",
            "linecolor": "white",
            "ticks": ""
           }
          },
          "scene": {
           "xaxis": {
            "backgroundcolor": "#E5ECF6",
            "gridcolor": "white",
            "gridwidth": 2,
            "linecolor": "white",
            "showbackground": true,
            "ticks": "",
            "zerolinecolor": "white"
           },
           "yaxis": {
            "backgroundcolor": "#E5ECF6",
            "gridcolor": "white",
            "gridwidth": 2,
            "linecolor": "white",
            "showbackground": true,
            "ticks": "",
            "zerolinecolor": "white"
           },
           "zaxis": {
            "backgroundcolor": "#E5ECF6",
            "gridcolor": "white",
            "gridwidth": 2,
            "linecolor": "white",
            "showbackground": true,
            "ticks": "",
            "zerolinecolor": "white"
           }
          },
          "shapedefaults": {
           "line": {
            "color": "#2a3f5f"
           }
          },
          "ternary": {
           "aaxis": {
            "gridcolor": "white",
            "linecolor": "white",
            "ticks": ""
           },
           "baxis": {
            "gridcolor": "white",
            "linecolor": "white",
            "ticks": ""
           },
           "bgcolor": "#E5ECF6",
           "caxis": {
            "gridcolor": "white",
            "linecolor": "white",
            "ticks": ""
           }
          },
          "title": {
           "x": 0.05
          },
          "xaxis": {
           "automargin": true,
           "gridcolor": "white",
           "linecolor": "white",
           "ticks": "",
           "title": {
            "standoff": 15
           },
           "zerolinecolor": "white",
           "zerolinewidth": 2
          },
          "yaxis": {
           "automargin": true,
           "gridcolor": "white",
           "linecolor": "white",
           "ticks": "",
           "title": {
            "standoff": 15
           },
           "zerolinecolor": "white",
           "zerolinewidth": 2
          }
         }
        },
        "width": 700
       },
       "_py2js_animate": {},
       "_py2js_deleteTraces": {},
       "_py2js_moveTraces": {},
       "_py2js_removeLayoutProps": {},
       "_py2js_removeTraceProps": {},
       "_py2js_restyle": {},
       "_view_count": 0
      }
     },
     "43d12e38df164b4486822411445aa113": {
      "model_module": "plotlywidget",
      "model_module_version": "^4.12.0",
      "model_name": "FigureModel",
      "state": {
       "_config": {
        "plotlyServerURL": "https://plot.ly"
       },
       "_data": [
        {
         "line": {
          "color": "#1f77b4"
         },
         "mode": "lines",
         "name": "a",
         "showlegend": true,
         "type": "scatter",
         "uid": "29126fd4-f2d2-4caf-aa03-ca66f8a1e1ab",
         "x": [
          "2020-01-01T00:00:00.000000",
          "2020-01-02T00:00:00.000000",
          "2020-01-03T00:00:00.000000",
          "2020-01-04T00:00:00.000000",
          "2020-01-05T00:00:00.000000",
          "2020-01-06T00:00:00.000000"
         ],
         "y": [
          2,
          1,
          3,
          1,
          4,
          1
         ]
        },
        {
         "marker": {
          "color": "#4285F4",
          "line": {
           "color": "rgb(11,84,205)",
           "width": 1
          },
          "size": 7,
          "symbol": "diamond"
         },
         "mode": "markers",
         "name": "Peak",
         "type": "scatter",
         "uid": "9e542b5a-e9a0-4ba1-978a-d9dca2217e7a",
         "x": [
          "2020-01-01T00:00:00.000000"
         ],
         "y": [
          2
         ]
        },
        {
         "customdata": [
          [
           "-0.5",
           "1 days 00:00:00"
          ],
          [
           "-0.6666666666666666",
           "1 days 00:00:00"
          ]
         ],
         "hovertemplate": "(%{x}, %{y})<br>Drawdown: %{customdata[0]:.2%}<br>Duration: %{customdata[1]}",
         "marker": {
          "color": "#EA4335",
          "line": {
           "color": "rgb(181,31,18)",
           "width": 1
          },
          "size": 7,
          "symbol": "diamond"
         },
         "mode": "markers",
         "name": "Valley",
         "type": "scatter",
         "uid": "8bebb49e-3b3a-46e5-a23d-f72c48fbeb58",
         "x": [
          "2020-01-02T00:00:00.000000",
          "2020-01-04T00:00:00.000000"
         ],
         "y": [
          1,
          1
         ]
        },
        {
         "customdata": [
          [
           "2.0",
           "1 days 00:00:00"
          ],
          [
           "3.0",
           "1 days 00:00:00"
          ]
         ],
         "hovertemplate": "(%{x}, %{y})<br>Return: %{customdata[0]:.2%}<br>Duration: %{customdata[1]}",
         "marker": {
          "color": "#37B13F",
          "line": {
           "color": "rgb(38,123,44)",
           "width": 1
          },
          "size": 7,
          "symbol": "diamond"
         },
         "mode": "markers",
         "name": "Recovery/Peak",
         "type": "scatter",
         "uid": "7e5bab46-4617-4a9d-a01f-e2339f97e6a7",
         "x": [
          "2020-01-03T00:00:00.000000",
          "2020-01-05T00:00:00.000000"
         ],
         "y": [
          3,
          4
         ]
        },
        {
         "customdata": [
          [
           "-0.75",
           "0 days 00:00:00"
          ]
         ],
         "hovertemplate": "(%{x}, %{y})<br>Drawdown: %{customdata[0]:.2%}<br>Duration: %{customdata[1]}",
         "marker": {
          "color": "#FFAA00",
          "line": {
           "color": "rgb(178,118,0)",
           "width": 1
          },
          "size": 7,
          "symbol": "diamond"
         },
         "mode": "markers",
         "name": "Active",
         "type": "scatter",
         "uid": "4f19baf4-659a-43b4-b4df-dfdea7f83b04",
         "x": [
          "2020-01-06T00:00:00.000000"
         ],
         "y": [
          1
         ]
        }
       ],
       "_js2py_layoutDelta": {},
       "_js2py_pointsCallback": {},
       "_js2py_relayout": {},
       "_js2py_restyle": {},
       "_js2py_traceDeltas": {},
       "_js2py_update": {},
       "_last_layout_edit_id": 12,
       "_last_trace_edit_id": 7,
       "_layout": {
        "autosize": false,
        "colorway": [
         "#1f77b4",
         "#ff7f0e",
         "#2ca02c",
         "#dc3912",
         "#9467bd",
         "#8c564b",
         "#e377c2",
         "#7f7f7f",
         "#bcbd22",
         "#17becf"
        ],
        "height": 350,
        "hovermode": "closest",
        "legend": {
         "orientation": "h",
         "traceorder": "normal",
         "x": 1,
         "xanchor": "right",
         "y": 1.02,
         "yanchor": "bottom"
        },
        "margin": {
         "b": 30,
         "l": 30,
         "r": 30,
         "t": 30
        },
        "shapes": [
         {
          "fillcolor": "red",
          "layer": "below",
          "line": {
           "width": 0
          },
          "opacity": 0.2,
          "type": "rect",
          "x0": "2020-01-01T00:00:00.000000",
          "x1": "2020-01-02T00:00:00.000000",
          "xref": "x",
          "y0": 0,
          "y1": 1,
          "yref": "paper"
         },
         {
          "fillcolor": "red",
          "layer": "below",
          "line": {
           "width": 0
          },
          "opacity": 0.2,
          "type": "rect",
          "x0": "2020-01-03T00:00:00.000000",
          "x1": "2020-01-04T00:00:00.000000",
          "xref": "x",
          "y0": 0,
          "y1": 1,
          "yref": "paper"
         },
         {
          "fillcolor": "green",
          "layer": "below",
          "line": {
           "width": 0
          },
          "opacity": 0.2,
          "type": "rect",
          "x0": "2020-01-02T00:00:00.000000",
          "x1": "2020-01-03T00:00:00.000000",
          "xref": "x",
          "y0": 0,
          "y1": 1,
          "yref": "paper"
         },
         {
          "fillcolor": "green",
          "layer": "below",
          "line": {
           "width": 0
          },
          "opacity": 0.2,
          "type": "rect",
          "x0": "2020-01-04T00:00:00.000000",
          "x1": "2020-01-05T00:00:00.000000",
          "xref": "x",
          "y0": 0,
          "y1": 1,
          "yref": "paper"
         },
         {
          "fillcolor": "orange",
          "layer": "below",
          "line": {
           "width": 0
          },
          "opacity": 0.2,
          "type": "rect",
          "x0": "2020-01-05T00:00:00.000000",
          "x1": "2020-01-06T00:00:00.000000",
          "xref": "x",
          "y0": 0,
          "y1": 1,
          "yref": "paper"
         }
        ],
        "template": {
         "data": {
          "bar": [
           {
            "error_x": {
             "color": "#2a3f5f"
            },
            "error_y": {
             "color": "#2a3f5f"
            },
            "marker": {
             "line": {
              "color": "#E5ECF6",
              "width": 0.5
             }
            },
            "type": "bar"
           }
          ],
          "barpolar": [
           {
            "marker": {
             "line": {
              "color": "#E5ECF6",
              "width": 0.5
             }
            },
            "type": "barpolar"
           }
          ],
          "carpet": [
           {
            "aaxis": {
             "endlinecolor": "#2a3f5f",
             "gridcolor": "white",
             "linecolor": "white",
             "minorgridcolor": "white",
             "startlinecolor": "#2a3f5f"
            },
            "baxis": {
             "endlinecolor": "#2a3f5f",
             "gridcolor": "white",
             "linecolor": "white",
             "minorgridcolor": "white",
             "startlinecolor": "#2a3f5f"
            },
            "type": "carpet"
           }
          ],
          "choropleth": [
           {
            "colorbar": {
             "outlinewidth": 0,
             "ticks": ""
            },
            "type": "choropleth"
           }
          ],
          "contour": [
           {
            "colorbar": {
             "outlinewidth": 0,
             "ticks": ""
            },
            "colorscale": [
             [
              0,
              "#0d0887"
             ],
             [
              0.1111111111111111,
              "#46039f"
             ],
             [
              0.2222222222222222,
              "#7201a8"
             ],
             [
              0.3333333333333333,
              "#9c179e"
             ],
             [
              0.4444444444444444,
              "#bd3786"
             ],
             [
              0.5555555555555556,
              "#d8576b"
             ],
             [
              0.6666666666666666,
              "#ed7953"
             ],
             [
              0.7777777777777778,
              "#fb9f3a"
             ],
             [
              0.8888888888888888,
              "#fdca26"
             ],
             [
              1,
              "#f0f921"
             ]
            ],
            "type": "contour"
           }
          ],
          "contourcarpet": [
           {
            "colorbar": {
             "outlinewidth": 0,
             "ticks": ""
            },
            "type": "contourcarpet"
           }
          ],
          "heatmap": [
           {
            "colorbar": {
             "outlinewidth": 0,
             "ticks": ""
            },
            "colorscale": [
             [
              0,
              "#0d0887"
             ],
             [
              0.1111111111111111,
              "#46039f"
             ],
             [
              0.2222222222222222,
              "#7201a8"
             ],
             [
              0.3333333333333333,
              "#9c179e"
             ],
             [
              0.4444444444444444,
              "#bd3786"
             ],
             [
              0.5555555555555556,
              "#d8576b"
             ],
             [
              0.6666666666666666,
              "#ed7953"
             ],
             [
              0.7777777777777778,
              "#fb9f3a"
             ],
             [
              0.8888888888888888,
              "#fdca26"
             ],
             [
              1,
              "#f0f921"
             ]
            ],
            "type": "heatmap"
           }
          ],
          "heatmapgl": [
           {
            "colorbar": {
             "outlinewidth": 0,
             "ticks": ""
            },
            "colorscale": [
             [
              0,
              "#0d0887"
             ],
             [
              0.1111111111111111,
              "#46039f"
             ],
             [
              0.2222222222222222,
              "#7201a8"
             ],
             [
              0.3333333333333333,
              "#9c179e"
             ],
             [
              0.4444444444444444,
              "#bd3786"
             ],
             [
              0.5555555555555556,
              "#d8576b"
             ],
             [
              0.6666666666666666,
              "#ed7953"
             ],
             [
              0.7777777777777778,
              "#fb9f3a"
             ],
             [
              0.8888888888888888,
              "#fdca26"
             ],
             [
              1,
              "#f0f921"
             ]
            ],
            "type": "heatmapgl"
           }
          ],
          "histogram": [
           {
            "marker": {
             "colorbar": {
              "outlinewidth": 0,
              "ticks": ""
             }
            },
            "type": "histogram"
           }
          ],
          "histogram2d": [
           {
            "colorbar": {
             "outlinewidth": 0,
             "ticks": ""
            },
            "colorscale": [
             [
              0,
              "#0d0887"
             ],
             [
              0.1111111111111111,
              "#46039f"
             ],
             [
              0.2222222222222222,
              "#7201a8"
             ],
             [
              0.3333333333333333,
              "#9c179e"
             ],
             [
              0.4444444444444444,
              "#bd3786"
             ],
             [
              0.5555555555555556,
              "#d8576b"
             ],
             [
              0.6666666666666666,
              "#ed7953"
             ],
             [
              0.7777777777777778,
              "#fb9f3a"
             ],
             [
              0.8888888888888888,
              "#fdca26"
             ],
             [
              1,
              "#f0f921"
             ]
            ],
            "type": "histogram2d"
           }
          ],
          "histogram2dcontour": [
           {
            "colorbar": {
             "outlinewidth": 0,
             "ticks": ""
            },
            "colorscale": [
             [
              0,
              "#0d0887"
             ],
             [
              0.1111111111111111,
              "#46039f"
             ],
             [
              0.2222222222222222,
              "#7201a8"
             ],
             [
              0.3333333333333333,
              "#9c179e"
             ],
             [
              0.4444444444444444,
              "#bd3786"
             ],
             [
              0.5555555555555556,
              "#d8576b"
             ],
             [
              0.6666666666666666,
              "#ed7953"
             ],
             [
              0.7777777777777778,
              "#fb9f3a"
             ],
             [
              0.8888888888888888,
              "#fdca26"
             ],
             [
              1,
              "#f0f921"
             ]
            ],
            "type": "histogram2dcontour"
           }
          ],
          "mesh3d": [
           {
            "colorbar": {
             "outlinewidth": 0,
             "ticks": ""
            },
            "type": "mesh3d"
           }
          ],
          "parcoords": [
           {
            "line": {
             "colorbar": {
              "outlinewidth": 0,
              "ticks": ""
             }
            },
            "type": "parcoords"
           }
          ],
          "pie": [
           {
            "automargin": true,
            "type": "pie"
           }
          ],
          "scatter": [
           {
            "marker": {
             "colorbar": {
              "outlinewidth": 0,
              "ticks": ""
             }
            },
            "type": "scatter"
           }
          ],
          "scatter3d": [
           {
            "line": {
             "colorbar": {
              "outlinewidth": 0,
              "ticks": ""
             }
            },
            "marker": {
             "colorbar": {
              "outlinewidth": 0,
              "ticks": ""
             }
            },
            "type": "scatter3d"
           }
          ],
          "scattercarpet": [
           {
            "marker": {
             "colorbar": {
              "outlinewidth": 0,
              "ticks": ""
             }
            },
            "type": "scattercarpet"
           }
          ],
          "scattergeo": [
           {
            "marker": {
             "colorbar": {
              "outlinewidth": 0,
              "ticks": ""
             }
            },
            "type": "scattergeo"
           }
          ],
          "scattergl": [
           {
            "marker": {
             "colorbar": {
              "outlinewidth": 0,
              "ticks": ""
             }
            },
            "type": "scattergl"
           }
          ],
          "scattermapbox": [
           {
            "marker": {
             "colorbar": {
              "outlinewidth": 0,
              "ticks": ""
             }
            },
            "type": "scattermapbox"
           }
          ],
          "scatterpolar": [
           {
            "marker": {
             "colorbar": {
              "outlinewidth": 0,
              "ticks": ""
             }
            },
            "type": "scatterpolar"
           }
          ],
          "scatterpolargl": [
           {
            "marker": {
             "colorbar": {
              "outlinewidth": 0,
              "ticks": ""
             }
            },
            "type": "scatterpolargl"
           }
          ],
          "scatterternary": [
           {
            "marker": {
             "colorbar": {
              "outlinewidth": 0,
              "ticks": ""
             }
            },
            "type": "scatterternary"
           }
          ],
          "surface": [
           {
            "colorbar": {
             "outlinewidth": 0,
             "ticks": ""
            },
            "colorscale": [
             [
              0,
              "#0d0887"
             ],
             [
              0.1111111111111111,
              "#46039f"
             ],
             [
              0.2222222222222222,
              "#7201a8"
             ],
             [
              0.3333333333333333,
              "#9c179e"
             ],
             [
              0.4444444444444444,
              "#bd3786"
             ],
             [
              0.5555555555555556,
              "#d8576b"
             ],
             [
              0.6666666666666666,
              "#ed7953"
             ],
             [
              0.7777777777777778,
              "#fb9f3a"
             ],
             [
              0.8888888888888888,
              "#fdca26"
             ],
             [
              1,
              "#f0f921"
             ]
            ],
            "type": "surface"
           }
          ],
          "table": [
           {
            "cells": {
             "fill": {
              "color": "#EBF0F8"
             },
             "line": {
              "color": "white"
             }
            },
            "header": {
             "fill": {
              "color": "#C8D4E3"
             },
             "line": {
              "color": "white"
             }
            },
            "type": "table"
           }
          ]
         },
         "layout": {
          "annotationdefaults": {
           "arrowcolor": "#2a3f5f",
           "arrowhead": 0,
           "arrowwidth": 1
          },
          "coloraxis": {
           "colorbar": {
            "outlinewidth": 0,
            "ticks": ""
           }
          },
          "colorscale": {
           "diverging": [
            [
             0,
             "#8e0152"
            ],
            [
             0.1,
             "#c51b7d"
            ],
            [
             0.2,
             "#de77ae"
            ],
            [
             0.3,
             "#f1b6da"
            ],
            [
             0.4,
             "#fde0ef"
            ],
            [
             0.5,
             "#f7f7f7"
            ],
            [
             0.6,
             "#e6f5d0"
            ],
            [
             0.7,
             "#b8e186"
            ],
            [
             0.8,
             "#7fbc41"
            ],
            [
             0.9,
             "#4d9221"
            ],
            [
             1,
             "#276419"
            ]
           ],
           "sequential": [
            [
             0,
             "#0d0887"
            ],
            [
             0.1111111111111111,
             "#46039f"
            ],
            [
             0.2222222222222222,
             "#7201a8"
            ],
            [
             0.3333333333333333,
             "#9c179e"
            ],
            [
             0.4444444444444444,
             "#bd3786"
            ],
            [
             0.5555555555555556,
             "#d8576b"
            ],
            [
             0.6666666666666666,
             "#ed7953"
            ],
            [
             0.7777777777777778,
             "#fb9f3a"
            ],
            [
             0.8888888888888888,
             "#fdca26"
            ],
            [
             1,
             "#f0f921"
            ]
           ],
           "sequentialminus": [
            [
             0,
             "#0d0887"
            ],
            [
             0.1111111111111111,
             "#46039f"
            ],
            [
             0.2222222222222222,
             "#7201a8"
            ],
            [
             0.3333333333333333,
             "#9c179e"
            ],
            [
             0.4444444444444444,
             "#bd3786"
            ],
            [
             0.5555555555555556,
             "#d8576b"
            ],
            [
             0.6666666666666666,
             "#ed7953"
            ],
            [
             0.7777777777777778,
             "#fb9f3a"
            ],
            [
             0.8888888888888888,
             "#fdca26"
            ],
            [
             1,
             "#f0f921"
            ]
           ]
          },
          "colorway": [
           "#636efa",
           "#EF553B",
           "#00cc96",
           "#ab63fa",
           "#FFA15A",
           "#19d3f3",
           "#FF6692",
           "#B6E880",
           "#FF97FF",
           "#FECB52"
          ],
          "font": {
           "color": "#2a3f5f"
          },
          "geo": {
           "bgcolor": "white",
           "lakecolor": "white",
           "landcolor": "#E5ECF6",
           "showlakes": true,
           "showland": true,
           "subunitcolor": "white"
          },
          "hoverlabel": {
           "align": "left"
          },
          "hovermode": "closest",
          "mapbox": {
           "style": "light"
          },
          "paper_bgcolor": "white",
          "plot_bgcolor": "#E5ECF6",
          "polar": {
           "angularaxis": {
            "gridcolor": "white",
            "linecolor": "white",
            "ticks": ""
           },
           "bgcolor": "#E5ECF6",
           "radialaxis": {
            "gridcolor": "white",
            "linecolor": "white",
            "ticks": ""
           }
          },
          "scene": {
           "xaxis": {
            "backgroundcolor": "#E5ECF6",
            "gridcolor": "white",
            "gridwidth": 2,
            "linecolor": "white",
            "showbackground": true,
            "ticks": "",
            "zerolinecolor": "white"
           },
           "yaxis": {
            "backgroundcolor": "#E5ECF6",
            "gridcolor": "white",
            "gridwidth": 2,
            "linecolor": "white",
            "showbackground": true,
            "ticks": "",
            "zerolinecolor": "white"
           },
           "zaxis": {
            "backgroundcolor": "#E5ECF6",
            "gridcolor": "white",
            "gridwidth": 2,
            "linecolor": "white",
            "showbackground": true,
            "ticks": "",
            "zerolinecolor": "white"
           }
          },
          "shapedefaults": {
           "line": {
            "color": "#2a3f5f"
           }
          },
          "ternary": {
           "aaxis": {
            "gridcolor": "white",
            "linecolor": "white",
            "ticks": ""
           },
           "baxis": {
            "gridcolor": "white",
            "linecolor": "white",
            "ticks": ""
           },
           "bgcolor": "#E5ECF6",
           "caxis": {
            "gridcolor": "white",
            "linecolor": "white",
            "ticks": ""
           }
          },
          "title": {
           "x": 0.05
          },
          "xaxis": {
           "automargin": true,
           "gridcolor": "white",
           "linecolor": "white",
           "ticks": "",
           "title": {
            "standoff": 15
           },
           "zerolinecolor": "white",
           "zerolinewidth": 2
          },
          "yaxis": {
           "automargin": true,
           "gridcolor": "white",
           "linecolor": "white",
           "ticks": "",
           "title": {
            "standoff": 15
           },
           "zerolinecolor": "white",
           "zerolinewidth": 2
          }
         }
        },
        "width": 700
       },
       "_py2js_animate": {},
       "_py2js_deleteTraces": {},
       "_py2js_moveTraces": {},
       "_py2js_removeLayoutProps": {},
       "_py2js_removeTraceProps": {},
       "_py2js_restyle": {},
       "_view_count": 0
      }
     },
     "4a61ce105294422f802511e2550ed858": {
      "buffers": [
       {
        "data": "AAAAAAAA8D8AAAAAAAAAQAAAAAAAABhAAAAAAAAAIEA=",
        "encoding": "base64",
        "path": [
         "_data",
         1,
         "y",
         "value"
        ]
       },
       {
        "data": "AAAAAAAACEAAAAAAAAAQQAAAAAAAABxA",
        "encoding": "base64",
        "path": [
         "_data",
         2,
         "y",
         "value"
        ]
       }
      ],
      "model_module": "plotlywidget",
      "model_module_version": "^4.12.0",
      "model_name": "FigureModel",
      "state": {
       "_config": {
        "plotlyServerURL": "https://plot.ly"
       },
       "_data": [
        {
         "line": {
          "color": "#1f77b4"
         },
         "mode": "lines",
         "name": "a",
         "showlegend": true,
         "type": "scatter",
         "uid": "e20cca55-7dda-4e75-ba1f-98a66be76888",
         "x": [
          "2020-01-01T00:00:00.000000",
          "2020-01-02T00:00:00.000000",
          "2020-01-03T00:00:00.000000",
          "2020-01-04T00:00:00.000000",
          "2020-01-05T00:00:00.000000",
          "2020-01-06T00:00:00.000000",
          "2020-01-07T00:00:00.000000",
          "2020-01-08T00:00:00.000000"
         ],
         "y": [
          1,
          2,
          3,
          4,
          5,
          6,
          7,
          8
         ]
        },
        {
         "customdata": [
          [
           1,
           0.01
          ],
          [
           0.1,
           0.002
          ],
          [
           1,
           0.06
          ],
          [
           2,
           0.16
          ]
         ],
         "hovertemplate": "%{x}<br>Price: %{y}<br>Size: %{customdata[0]:.4f}<br>Fees: %{customdata[1]:.4f}",
         "marker": {
          "color": "#37B13F",
          "line": {
           "color": "rgb(38,123,44)",
           "width": 1
          },
          "size": 8,
          "symbol": "triangle-up"
         },
         "mode": "markers",
         "name": "Buy",
         "type": "scatter",
         "uid": "24ccf5d2-c850-4943-88a1-47295d336cb6",
         "x": [
          "2020-01-01T00:00:00.000000",
          "2020-01-02T00:00:00.000000",
          "2020-01-06T00:00:00.000000",
          "2020-01-08T00:00:00.000000"
         ],
         "y": {
          "dtype": "float64",
          "shape": [
           4
          ]
         }
        },
        {
         "customdata": [
          [
           1,
           0.03
          ],
          [
           0.1,
           0.004
          ],
          [
           1,
           0.07
          ]
         ],
         "hovertemplate": "%{x}<br>Price: %{y}<br>Size: %{customdata[0]:.4f}<br>Fees: %{customdata[1]:.4f}",
         "marker": {
          "color": "#EA4335",
          "line": {
           "color": "rgb(181,31,18)",
           "width": 1
          },
          "size": 8,
          "symbol": "triangle-down"
         },
         "mode": "markers",
         "name": "Sell",
         "type": "scatter",
         "uid": "58b2eb6a-88a7-4b57-a57c-95b4c7d49375",
         "x": [
          "2020-01-03T00:00:00.000000",
          "2020-01-04T00:00:00.000000",
          "2020-01-07T00:00:00.000000"
         ],
         "y": {
          "dtype": "float64",
          "shape": [
           3
          ]
         }
        }
       ],
       "_js2py_layoutDelta": {},
       "_js2py_pointsCallback": {},
       "_js2py_relayout": {},
       "_js2py_restyle": {},
       "_js2py_traceDeltas": {},
       "_js2py_update": {},
       "_last_layout_edit_id": 5,
       "_last_trace_edit_id": 5,
       "_layout": {
        "autosize": false,
        "colorway": [
         "#1f77b4",
         "#ff7f0e",
         "#2ca02c",
         "#dc3912",
         "#9467bd",
         "#8c564b",
         "#e377c2",
         "#7f7f7f",
         "#bcbd22",
         "#17becf"
        ],
        "height": 350,
        "hovermode": "closest",
        "legend": {
         "orientation": "h",
         "traceorder": "normal",
         "x": 1,
         "xanchor": "right",
         "y": 1.02,
         "yanchor": "bottom"
        },
        "margin": {
         "b": 30,
         "l": 30,
         "r": 30,
         "t": 30
        },
        "template": {
         "data": {
          "bar": [
           {
            "error_x": {
             "color": "#2a3f5f"
            },
            "error_y": {
             "color": "#2a3f5f"
            },
            "marker": {
             "line": {
              "color": "#E5ECF6",
              "width": 0.5
             }
            },
            "type": "bar"
           }
          ],
          "barpolar": [
           {
            "marker": {
             "line": {
              "color": "#E5ECF6",
              "width": 0.5
             }
            },
            "type": "barpolar"
           }
          ],
          "carpet": [
           {
            "aaxis": {
             "endlinecolor": "#2a3f5f",
             "gridcolor": "white",
             "linecolor": "white",
             "minorgridcolor": "white",
             "startlinecolor": "#2a3f5f"
            },
            "baxis": {
             "endlinecolor": "#2a3f5f",
             "gridcolor": "white",
             "linecolor": "white",
             "minorgridcolor": "white",
             "startlinecolor": "#2a3f5f"
            },
            "type": "carpet"
           }
          ],
          "choropleth": [
           {
            "colorbar": {
             "outlinewidth": 0,
             "ticks": ""
            },
            "type": "choropleth"
           }
          ],
          "contour": [
           {
            "colorbar": {
             "outlinewidth": 0,
             "ticks": ""
            },
            "colorscale": [
             [
              0,
              "#0d0887"
             ],
             [
              0.1111111111111111,
              "#46039f"
             ],
             [
              0.2222222222222222,
              "#7201a8"
             ],
             [
              0.3333333333333333,
              "#9c179e"
             ],
             [
              0.4444444444444444,
              "#bd3786"
             ],
             [
              0.5555555555555556,
              "#d8576b"
             ],
             [
              0.6666666666666666,
              "#ed7953"
             ],
             [
              0.7777777777777778,
              "#fb9f3a"
             ],
             [
              0.8888888888888888,
              "#fdca26"
             ],
             [
              1,
              "#f0f921"
             ]
            ],
            "type": "contour"
           }
          ],
          "contourcarpet": [
           {
            "colorbar": {
             "outlinewidth": 0,
             "ticks": ""
            },
            "type": "contourcarpet"
           }
          ],
          "heatmap": [
           {
            "colorbar": {
             "outlinewidth": 0,
             "ticks": ""
            },
            "colorscale": [
             [
              0,
              "#0d0887"
             ],
             [
              0.1111111111111111,
              "#46039f"
             ],
             [
              0.2222222222222222,
              "#7201a8"
             ],
             [
              0.3333333333333333,
              "#9c179e"
             ],
             [
              0.4444444444444444,
              "#bd3786"
             ],
             [
              0.5555555555555556,
              "#d8576b"
             ],
             [
              0.6666666666666666,
              "#ed7953"
             ],
             [
              0.7777777777777778,
              "#fb9f3a"
             ],
             [
              0.8888888888888888,
              "#fdca26"
             ],
             [
              1,
              "#f0f921"
             ]
            ],
            "type": "heatmap"
           }
          ],
          "heatmapgl": [
           {
            "colorbar": {
             "outlinewidth": 0,
             "ticks": ""
            },
            "colorscale": [
             [
              0,
              "#0d0887"
             ],
             [
              0.1111111111111111,
              "#46039f"
             ],
             [
              0.2222222222222222,
              "#7201a8"
             ],
             [
              0.3333333333333333,
              "#9c179e"
             ],
             [
              0.4444444444444444,
              "#bd3786"
             ],
             [
              0.5555555555555556,
              "#d8576b"
             ],
             [
              0.6666666666666666,
              "#ed7953"
             ],
             [
              0.7777777777777778,
              "#fb9f3a"
             ],
             [
              0.8888888888888888,
              "#fdca26"
             ],
             [
              1,
              "#f0f921"
             ]
            ],
            "type": "heatmapgl"
           }
          ],
          "histogram": [
           {
            "marker": {
             "colorbar": {
              "outlinewidth": 0,
              "ticks": ""
             }
            },
            "type": "histogram"
           }
          ],
          "histogram2d": [
           {
            "colorbar": {
             "outlinewidth": 0,
             "ticks": ""
            },
            "colorscale": [
             [
              0,
              "#0d0887"
             ],
             [
              0.1111111111111111,
              "#46039f"
             ],
             [
              0.2222222222222222,
              "#7201a8"
             ],
             [
              0.3333333333333333,
              "#9c179e"
             ],
             [
              0.4444444444444444,
              "#bd3786"
             ],
             [
              0.5555555555555556,
              "#d8576b"
             ],
             [
              0.6666666666666666,
              "#ed7953"
             ],
             [
              0.7777777777777778,
              "#fb9f3a"
             ],
             [
              0.8888888888888888,
              "#fdca26"
             ],
             [
              1,
              "#f0f921"
             ]
            ],
            "type": "histogram2d"
           }
          ],
          "histogram2dcontour": [
           {
            "colorbar": {
             "outlinewidth": 0,
             "ticks": ""
            },
            "colorscale": [
             [
              0,
              "#0d0887"
             ],
             [
              0.1111111111111111,
              "#46039f"
             ],
             [
              0.2222222222222222,
              "#7201a8"
             ],
             [
              0.3333333333333333,
              "#9c179e"
             ],
             [
              0.4444444444444444,
              "#bd3786"
             ],
             [
              0.5555555555555556,
              "#d8576b"
             ],
             [
              0.6666666666666666,
              "#ed7953"
             ],
             [
              0.7777777777777778,
              "#fb9f3a"
             ],
             [
              0.8888888888888888,
              "#fdca26"
             ],
             [
              1,
              "#f0f921"
             ]
            ],
            "type": "histogram2dcontour"
           }
          ],
          "mesh3d": [
           {
            "colorbar": {
             "outlinewidth": 0,
             "ticks": ""
            },
            "type": "mesh3d"
           }
          ],
          "parcoords": [
           {
            "line": {
             "colorbar": {
              "outlinewidth": 0,
              "ticks": ""
             }
            },
            "type": "parcoords"
           }
          ],
          "pie": [
           {
            "automargin": true,
            "type": "pie"
           }
          ],
          "scatter": [
           {
            "marker": {
             "colorbar": {
              "outlinewidth": 0,
              "ticks": ""
             }
            },
            "type": "scatter"
           }
          ],
          "scatter3d": [
           {
            "line": {
             "colorbar": {
              "outlinewidth": 0,
              "ticks": ""
             }
            },
            "marker": {
             "colorbar": {
              "outlinewidth": 0,
              "ticks": ""
             }
            },
            "type": "scatter3d"
           }
          ],
          "scattercarpet": [
           {
            "marker": {
             "colorbar": {
              "outlinewidth": 0,
              "ticks": ""
             }
            },
            "type": "scattercarpet"
           }
          ],
          "scattergeo": [
           {
            "marker": {
             "colorbar": {
              "outlinewidth": 0,
              "ticks": ""
             }
            },
            "type": "scattergeo"
           }
          ],
          "scattergl": [
           {
            "marker": {
             "colorbar": {
              "outlinewidth": 0,
              "ticks": ""
             }
            },
            "type": "scattergl"
           }
          ],
          "scattermapbox": [
           {
            "marker": {
             "colorbar": {
              "outlinewidth": 0,
              "ticks": ""
             }
            },
            "type": "scattermapbox"
           }
          ],
          "scatterpolar": [
           {
            "marker": {
             "colorbar": {
              "outlinewidth": 0,
              "ticks": ""
             }
            },
            "type": "scatterpolar"
           }
          ],
          "scatterpolargl": [
           {
            "marker": {
             "colorbar": {
              "outlinewidth": 0,
              "ticks": ""
             }
            },
            "type": "scatterpolargl"
           }
          ],
          "scatterternary": [
           {
            "marker": {
             "colorbar": {
              "outlinewidth": 0,
              "ticks": ""
             }
            },
            "type": "scatterternary"
           }
          ],
          "surface": [
           {
            "colorbar": {
             "outlinewidth": 0,
             "ticks": ""
            },
            "colorscale": [
             [
              0,
              "#0d0887"
             ],
             [
              0.1111111111111111,
              "#46039f"
             ],
             [
              0.2222222222222222,
              "#7201a8"
             ],
             [
              0.3333333333333333,
              "#9c179e"
             ],
             [
              0.4444444444444444,
              "#bd3786"
             ],
             [
              0.5555555555555556,
              "#d8576b"
             ],
             [
              0.6666666666666666,
              "#ed7953"
             ],
             [
              0.7777777777777778,
              "#fb9f3a"
             ],
             [
              0.8888888888888888,
              "#fdca26"
             ],
             [
              1,
              "#f0f921"
             ]
            ],
            "type": "surface"
           }
          ],
          "table": [
           {
            "cells": {
             "fill": {
              "color": "#EBF0F8"
             },
             "line": {
              "color": "white"
             }
            },
            "header": {
             "fill": {
              "color": "#C8D4E3"
             },
             "line": {
              "color": "white"
             }
            },
            "type": "table"
           }
          ]
         },
         "layout": {
          "annotationdefaults": {
           "arrowcolor": "#2a3f5f",
           "arrowhead": 0,
           "arrowwidth": 1
          },
          "coloraxis": {
           "colorbar": {
            "outlinewidth": 0,
            "ticks": ""
           }
          },
          "colorscale": {
           "diverging": [
            [
             0,
             "#8e0152"
            ],
            [
             0.1,
             "#c51b7d"
            ],
            [
             0.2,
             "#de77ae"
            ],
            [
             0.3,
             "#f1b6da"
            ],
            [
             0.4,
             "#fde0ef"
            ],
            [
             0.5,
             "#f7f7f7"
            ],
            [
             0.6,
             "#e6f5d0"
            ],
            [
             0.7,
             "#b8e186"
            ],
            [
             0.8,
             "#7fbc41"
            ],
            [
             0.9,
             "#4d9221"
            ],
            [
             1,
             "#276419"
            ]
           ],
           "sequential": [
            [
             0,
             "#0d0887"
            ],
            [
             0.1111111111111111,
             "#46039f"
            ],
            [
             0.2222222222222222,
             "#7201a8"
            ],
            [
             0.3333333333333333,
             "#9c179e"
            ],
            [
             0.4444444444444444,
             "#bd3786"
            ],
            [
             0.5555555555555556,
             "#d8576b"
            ],
            [
             0.6666666666666666,
             "#ed7953"
            ],
            [
             0.7777777777777778,
             "#fb9f3a"
            ],
            [
             0.8888888888888888,
             "#fdca26"
            ],
            [
             1,
             "#f0f921"
            ]
           ],
           "sequentialminus": [
            [
             0,
             "#0d0887"
            ],
            [
             0.1111111111111111,
             "#46039f"
            ],
            [
             0.2222222222222222,
             "#7201a8"
            ],
            [
             0.3333333333333333,
             "#9c179e"
            ],
            [
             0.4444444444444444,
             "#bd3786"
            ],
            [
             0.5555555555555556,
             "#d8576b"
            ],
            [
             0.6666666666666666,
             "#ed7953"
            ],
            [
             0.7777777777777778,
             "#fb9f3a"
            ],
            [
             0.8888888888888888,
             "#fdca26"
            ],
            [
             1,
             "#f0f921"
            ]
           ]
          },
          "colorway": [
           "#636efa",
           "#EF553B",
           "#00cc96",
           "#ab63fa",
           "#FFA15A",
           "#19d3f3",
           "#FF6692",
           "#B6E880",
           "#FF97FF",
           "#FECB52"
          ],
          "font": {
           "color": "#2a3f5f"
          },
          "geo": {
           "bgcolor": "white",
           "lakecolor": "white",
           "landcolor": "#E5ECF6",
           "showlakes": true,
           "showland": true,
           "subunitcolor": "white"
          },
          "hoverlabel": {
           "align": "left"
          },
          "hovermode": "closest",
          "mapbox": {
           "style": "light"
          },
          "paper_bgcolor": "white",
          "plot_bgcolor": "#E5ECF6",
          "polar": {
           "angularaxis": {
            "gridcolor": "white",
            "linecolor": "white",
            "ticks": ""
           },
           "bgcolor": "#E5ECF6",
           "radialaxis": {
            "gridcolor": "white",
            "linecolor": "white",
            "ticks": ""
           }
          },
          "scene": {
           "xaxis": {
            "backgroundcolor": "#E5ECF6",
            "gridcolor": "white",
            "gridwidth": 2,
            "linecolor": "white",
            "showbackground": true,
            "ticks": "",
            "zerolinecolor": "white"
           },
           "yaxis": {
            "backgroundcolor": "#E5ECF6",
            "gridcolor": "white",
            "gridwidth": 2,
            "linecolor": "white",
            "showbackground": true,
            "ticks": "",
            "zerolinecolor": "white"
           },
           "zaxis": {
            "backgroundcolor": "#E5ECF6",
            "gridcolor": "white",
            "gridwidth": 2,
            "linecolor": "white",
            "showbackground": true,
            "ticks": "",
            "zerolinecolor": "white"
           }
          },
          "shapedefaults": {
           "line": {
            "color": "#2a3f5f"
           }
          },
          "ternary": {
           "aaxis": {
            "gridcolor": "white",
            "linecolor": "white",
            "ticks": ""
           },
           "baxis": {
            "gridcolor": "white",
            "linecolor": "white",
            "ticks": ""
           },
           "bgcolor": "#E5ECF6",
           "caxis": {
            "gridcolor": "white",
            "linecolor": "white",
            "ticks": ""
           }
          },
          "title": {
           "x": 0.05
          },
          "xaxis": {
           "automargin": true,
           "gridcolor": "white",
           "linecolor": "white",
           "ticks": "",
           "title": {
            "standoff": 15
           },
           "zerolinecolor": "white",
           "zerolinewidth": 2
          },
          "yaxis": {
           "automargin": true,
           "gridcolor": "white",
           "linecolor": "white",
           "ticks": "",
           "title": {
            "standoff": 15
           },
           "zerolinecolor": "white",
           "zerolinewidth": 2
          }
         }
        },
        "width": 700
       },
       "_py2js_animate": {},
       "_py2js_deleteTraces": {},
       "_py2js_moveTraces": {},
       "_py2js_removeLayoutProps": {},
       "_py2js_removeTraceProps": {},
       "_py2js_restyle": {},
       "_view_count": 0
      }
     },
     "dba420e1890a45ea8ce4fb9f5e3a2875": {
      "model_module": "plotlywidget",
      "model_module_version": "^4.12.0",
      "model_name": "FigureModel",
      "state": {
       "_config": {
        "plotlyServerURL": "https://plot.ly"
       },
       "_data": [
        {
         "line": {
          "color": "#1f77b4"
         },
         "mode": "lines",
         "name": "a",
         "showlegend": true,
         "type": "scatter",
         "uid": "d8ab5a79-1939-4f47-b946-35e74cba414e",
         "x": [
          "2020-01-01T00:00:00.000000",
          "2020-01-02T00:00:00.000000",
          "2020-01-03T00:00:00.000000",
          "2020-01-04T00:00:00.000000",
          "2020-01-05T00:00:00.000000",
          "2020-01-06T00:00:00.000000"
         ],
         "y": [
          2,
          1,
          3,
          1,
          4,
          1
         ]
        },
        {
         "marker": {
          "color": "#4285F4",
          "line": {
           "color": "rgb(11,84,205)",
           "width": 1
          },
          "size": 7,
          "symbol": "diamond"
         },
         "mode": "markers",
         "name": "Peak",
         "type": "scatter",
         "uid": "c96f74d3-2dce-496e-9368-e32eb063abc9",
         "x": [
          "2020-01-05T00:00:00.000000"
         ],
         "y": [
          4
         ]
        },
        {
         "customdata": [
          [
           "-0.75",
           "0 days 00:00:00"
          ]
         ],
         "hovertemplate": "(%{x}, %{y})<br>Drawdown: %{customdata[0]:.2%}<br>Duration: %{customdata[1]}",
         "marker": {
          "color": "#FFAA00",
          "line": {
           "color": "rgb(178,118,0)",
           "width": 1
          },
          "size": 7,
          "symbol": "diamond"
         },
         "mode": "markers",
         "name": "Active",
         "type": "scatter",
         "uid": "bd35acf3-c1c0-4eeb-b814-0630d7057151",
         "x": [
          "2020-01-06T00:00:00.000000"
         ],
         "y": [
          1
         ]
        }
       ],
       "_js2py_layoutDelta": {},
       "_js2py_pointsCallback": {},
       "_js2py_relayout": {},
       "_js2py_restyle": {},
       "_js2py_traceDeltas": {},
       "_js2py_update": {},
       "_last_layout_edit_id": 6,
       "_last_trace_edit_id": 5,
       "_layout": {
        "autosize": false,
        "colorway": [
         "#1f77b4",
         "#ff7f0e",
         "#2ca02c",
         "#dc3912",
         "#9467bd",
         "#8c564b",
         "#e377c2",
         "#7f7f7f",
         "#bcbd22",
         "#17becf"
        ],
        "height": 350,
        "hovermode": "closest",
        "legend": {
         "orientation": "h",
         "traceorder": "normal",
         "x": 1,
         "xanchor": "right",
         "y": 1.02,
         "yanchor": "bottom"
        },
        "margin": {
         "b": 30,
         "l": 30,
         "r": 30,
         "t": 30
        },
        "shapes": [
         {
          "fillcolor": "orange",
          "layer": "below",
          "line": {
           "width": 0
          },
          "opacity": 0.2,
          "type": "rect",
          "x0": "2020-01-05T00:00:00.000000",
          "x1": "2020-01-06T00:00:00.000000",
          "xref": "x",
          "y0": 0,
          "y1": 1,
          "yref": "paper"
         }
        ],
        "template": {
         "data": {
          "bar": [
           {
            "error_x": {
             "color": "#2a3f5f"
            },
            "error_y": {
             "color": "#2a3f5f"
            },
            "marker": {
             "line": {
              "color": "#E5ECF6",
              "width": 0.5
             }
            },
            "type": "bar"
           }
          ],
          "barpolar": [
           {
            "marker": {
             "line": {
              "color": "#E5ECF6",
              "width": 0.5
             }
            },
            "type": "barpolar"
           }
          ],
          "carpet": [
           {
            "aaxis": {
             "endlinecolor": "#2a3f5f",
             "gridcolor": "white",
             "linecolor": "white",
             "minorgridcolor": "white",
             "startlinecolor": "#2a3f5f"
            },
            "baxis": {
             "endlinecolor": "#2a3f5f",
             "gridcolor": "white",
             "linecolor": "white",
             "minorgridcolor": "white",
             "startlinecolor": "#2a3f5f"
            },
            "type": "carpet"
           }
          ],
          "choropleth": [
           {
            "colorbar": {
             "outlinewidth": 0,
             "ticks": ""
            },
            "type": "choropleth"
           }
          ],
          "contour": [
           {
            "colorbar": {
             "outlinewidth": 0,
             "ticks": ""
            },
            "colorscale": [
             [
              0,
              "#0d0887"
             ],
             [
              0.1111111111111111,
              "#46039f"
             ],
             [
              0.2222222222222222,
              "#7201a8"
             ],
             [
              0.3333333333333333,
              "#9c179e"
             ],
             [
              0.4444444444444444,
              "#bd3786"
             ],
             [
              0.5555555555555556,
              "#d8576b"
             ],
             [
              0.6666666666666666,
              "#ed7953"
             ],
             [
              0.7777777777777778,
              "#fb9f3a"
             ],
             [
              0.8888888888888888,
              "#fdca26"
             ],
             [
              1,
              "#f0f921"
             ]
            ],
            "type": "contour"
           }
          ],
          "contourcarpet": [
           {
            "colorbar": {
             "outlinewidth": 0,
             "ticks": ""
            },
            "type": "contourcarpet"
           }
          ],
          "heatmap": [
           {
            "colorbar": {
             "outlinewidth": 0,
             "ticks": ""
            },
            "colorscale": [
             [
              0,
              "#0d0887"
             ],
             [
              0.1111111111111111,
              "#46039f"
             ],
             [
              0.2222222222222222,
              "#7201a8"
             ],
             [
              0.3333333333333333,
              "#9c179e"
             ],
             [
              0.4444444444444444,
              "#bd3786"
             ],
             [
              0.5555555555555556,
              "#d8576b"
             ],
             [
              0.6666666666666666,
              "#ed7953"
             ],
             [
              0.7777777777777778,
              "#fb9f3a"
             ],
             [
              0.8888888888888888,
              "#fdca26"
             ],
             [
              1,
              "#f0f921"
             ]
            ],
            "type": "heatmap"
           }
          ],
          "heatmapgl": [
           {
            "colorbar": {
             "outlinewidth": 0,
             "ticks": ""
            },
            "colorscale": [
             [
              0,
              "#0d0887"
             ],
             [
              0.1111111111111111,
              "#46039f"
             ],
             [
              0.2222222222222222,
              "#7201a8"
             ],
             [
              0.3333333333333333,
              "#9c179e"
             ],
             [
              0.4444444444444444,
              "#bd3786"
             ],
             [
              0.5555555555555556,
              "#d8576b"
             ],
             [
              0.6666666666666666,
              "#ed7953"
             ],
             [
              0.7777777777777778,
              "#fb9f3a"
             ],
             [
              0.8888888888888888,
              "#fdca26"
             ],
             [
              1,
              "#f0f921"
             ]
            ],
            "type": "heatmapgl"
           }
          ],
          "histogram": [
           {
            "marker": {
             "colorbar": {
              "outlinewidth": 0,
              "ticks": ""
             }
            },
            "type": "histogram"
           }
          ],
          "histogram2d": [
           {
            "colorbar": {
             "outlinewidth": 0,
             "ticks": ""
            },
            "colorscale": [
             [
              0,
              "#0d0887"
             ],
             [
              0.1111111111111111,
              "#46039f"
             ],
             [
              0.2222222222222222,
              "#7201a8"
             ],
             [
              0.3333333333333333,
              "#9c179e"
             ],
             [
              0.4444444444444444,
              "#bd3786"
             ],
             [
              0.5555555555555556,
              "#d8576b"
             ],
             [
              0.6666666666666666,
              "#ed7953"
             ],
             [
              0.7777777777777778,
              "#fb9f3a"
             ],
             [
              0.8888888888888888,
              "#fdca26"
             ],
             [
              1,
              "#f0f921"
             ]
            ],
            "type": "histogram2d"
           }
          ],
          "histogram2dcontour": [
           {
            "colorbar": {
             "outlinewidth": 0,
             "ticks": ""
            },
            "colorscale": [
             [
              0,
              "#0d0887"
             ],
             [
              0.1111111111111111,
              "#46039f"
             ],
             [
              0.2222222222222222,
              "#7201a8"
             ],
             [
              0.3333333333333333,
              "#9c179e"
             ],
             [
              0.4444444444444444,
              "#bd3786"
             ],
             [
              0.5555555555555556,
              "#d8576b"
             ],
             [
              0.6666666666666666,
              "#ed7953"
             ],
             [
              0.7777777777777778,
              "#fb9f3a"
             ],
             [
              0.8888888888888888,
              "#fdca26"
             ],
             [
              1,
              "#f0f921"
             ]
            ],
            "type": "histogram2dcontour"
           }
          ],
          "mesh3d": [
           {
            "colorbar": {
             "outlinewidth": 0,
             "ticks": ""
            },
            "type": "mesh3d"
           }
          ],
          "parcoords": [
           {
            "line": {
             "colorbar": {
              "outlinewidth": 0,
              "ticks": ""
             }
            },
            "type": "parcoords"
           }
          ],
          "pie": [
           {
            "automargin": true,
            "type": "pie"
           }
          ],
          "scatter": [
           {
            "marker": {
             "colorbar": {
              "outlinewidth": 0,
              "ticks": ""
             }
            },
            "type": "scatter"
           }
          ],
          "scatter3d": [
           {
            "line": {
             "colorbar": {
              "outlinewidth": 0,
              "ticks": ""
             }
            },
            "marker": {
             "colorbar": {
              "outlinewidth": 0,
              "ticks": ""
             }
            },
            "type": "scatter3d"
           }
          ],
          "scattercarpet": [
           {
            "marker": {
             "colorbar": {
              "outlinewidth": 0,
              "ticks": ""
             }
            },
            "type": "scattercarpet"
           }
          ],
          "scattergeo": [
           {
            "marker": {
             "colorbar": {
              "outlinewidth": 0,
              "ticks": ""
             }
            },
            "type": "scattergeo"
           }
          ],
          "scattergl": [
           {
            "marker": {
             "colorbar": {
              "outlinewidth": 0,
              "ticks": ""
             }
            },
            "type": "scattergl"
           }
          ],
          "scattermapbox": [
           {
            "marker": {
             "colorbar": {
              "outlinewidth": 0,
              "ticks": ""
             }
            },
            "type": "scattermapbox"
           }
          ],
          "scatterpolar": [
           {
            "marker": {
             "colorbar": {
              "outlinewidth": 0,
              "ticks": ""
             }
            },
            "type": "scatterpolar"
           }
          ],
          "scatterpolargl": [
           {
            "marker": {
             "colorbar": {
              "outlinewidth": 0,
              "ticks": ""
             }
            },
            "type": "scatterpolargl"
           }
          ],
          "scatterternary": [
           {
            "marker": {
             "colorbar": {
              "outlinewidth": 0,
              "ticks": ""
             }
            },
            "type": "scatterternary"
           }
          ],
          "surface": [
           {
            "colorbar": {
             "outlinewidth": 0,
             "ticks": ""
            },
            "colorscale": [
             [
              0,
              "#0d0887"
             ],
             [
              0.1111111111111111,
              "#46039f"
             ],
             [
              0.2222222222222222,
              "#7201a8"
             ],
             [
              0.3333333333333333,
              "#9c179e"
             ],
             [
              0.4444444444444444,
              "#bd3786"
             ],
             [
              0.5555555555555556,
              "#d8576b"
             ],
             [
              0.6666666666666666,
              "#ed7953"
             ],
             [
              0.7777777777777778,
              "#fb9f3a"
             ],
             [
              0.8888888888888888,
              "#fdca26"
             ],
             [
              1,
              "#f0f921"
             ]
            ],
            "type": "surface"
           }
          ],
          "table": [
           {
            "cells": {
             "fill": {
              "color": "#EBF0F8"
             },
             "line": {
              "color": "white"
             }
            },
            "header": {
             "fill": {
              "color": "#C8D4E3"
             },
             "line": {
              "color": "white"
             }
            },
            "type": "table"
           }
          ]
         },
         "layout": {
          "annotationdefaults": {
           "arrowcolor": "#2a3f5f",
           "arrowhead": 0,
           "arrowwidth": 1
          },
          "coloraxis": {
           "colorbar": {
            "outlinewidth": 0,
            "ticks": ""
           }
          },
          "colorscale": {
           "diverging": [
            [
             0,
             "#8e0152"
            ],
            [
             0.1,
             "#c51b7d"
            ],
            [
             0.2,
             "#de77ae"
            ],
            [
             0.3,
             "#f1b6da"
            ],
            [
             0.4,
             "#fde0ef"
            ],
            [
             0.5,
             "#f7f7f7"
            ],
            [
             0.6,
             "#e6f5d0"
            ],
            [
             0.7,
             "#b8e186"
            ],
            [
             0.8,
             "#7fbc41"
            ],
            [
             0.9,
             "#4d9221"
            ],
            [
             1,
             "#276419"
            ]
           ],
           "sequential": [
            [
             0,
             "#0d0887"
            ],
            [
             0.1111111111111111,
             "#46039f"
            ],
            [
             0.2222222222222222,
             "#7201a8"
            ],
            [
             0.3333333333333333,
             "#9c179e"
            ],
            [
             0.4444444444444444,
             "#bd3786"
            ],
            [
             0.5555555555555556,
             "#d8576b"
            ],
            [
             0.6666666666666666,
             "#ed7953"
            ],
            [
             0.7777777777777778,
             "#fb9f3a"
            ],
            [
             0.8888888888888888,
             "#fdca26"
            ],
            [
             1,
             "#f0f921"
            ]
           ],
           "sequentialminus": [
            [
             0,
             "#0d0887"
            ],
            [
             0.1111111111111111,
             "#46039f"
            ],
            [
             0.2222222222222222,
             "#7201a8"
            ],
            [
             0.3333333333333333,
             "#9c179e"
            ],
            [
             0.4444444444444444,
             "#bd3786"
            ],
            [
             0.5555555555555556,
             "#d8576b"
            ],
            [
             0.6666666666666666,
             "#ed7953"
            ],
            [
             0.7777777777777778,
             "#fb9f3a"
            ],
            [
             0.8888888888888888,
             "#fdca26"
            ],
            [
             1,
             "#f0f921"
            ]
           ]
          },
          "colorway": [
           "#636efa",
           "#EF553B",
           "#00cc96",
           "#ab63fa",
           "#FFA15A",
           "#19d3f3",
           "#FF6692",
           "#B6E880",
           "#FF97FF",
           "#FECB52"
          ],
          "font": {
           "color": "#2a3f5f"
          },
          "geo": {
           "bgcolor": "white",
           "lakecolor": "white",
           "landcolor": "#E5ECF6",
           "showlakes": true,
           "showland": true,
           "subunitcolor": "white"
          },
          "hoverlabel": {
           "align": "left"
          },
          "hovermode": "closest",
          "mapbox": {
           "style": "light"
          },
          "paper_bgcolor": "white",
          "plot_bgcolor": "#E5ECF6",
          "polar": {
           "angularaxis": {
            "gridcolor": "white",
            "linecolor": "white",
            "ticks": ""
           },
           "bgcolor": "#E5ECF6",
           "radialaxis": {
            "gridcolor": "white",
            "linecolor": "white",
            "ticks": ""
           }
          },
          "scene": {
           "xaxis": {
            "backgroundcolor": "#E5ECF6",
            "gridcolor": "white",
            "gridwidth": 2,
            "linecolor": "white",
            "showbackground": true,
            "ticks": "",
            "zerolinecolor": "white"
           },
           "yaxis": {
            "backgroundcolor": "#E5ECF6",
            "gridcolor": "white",
            "gridwidth": 2,
            "linecolor": "white",
            "showbackground": true,
            "ticks": "",
            "zerolinecolor": "white"
           },
           "zaxis": {
            "backgroundcolor": "#E5ECF6",
            "gridcolor": "white",
            "gridwidth": 2,
            "linecolor": "white",
            "showbackground": true,
            "ticks": "",
            "zerolinecolor": "white"
           }
          },
          "shapedefaults": {
           "line": {
            "color": "#2a3f5f"
           }
          },
          "ternary": {
           "aaxis": {
            "gridcolor": "white",
            "linecolor": "white",
            "ticks": ""
           },
           "baxis": {
            "gridcolor": "white",
            "linecolor": "white",
            "ticks": ""
           },
           "bgcolor": "#E5ECF6",
           "caxis": {
            "gridcolor": "white",
            "linecolor": "white",
            "ticks": ""
           }
          },
          "title": {
           "x": 0.05
          },
          "xaxis": {
           "automargin": true,
           "gridcolor": "white",
           "linecolor": "white",
           "ticks": "",
           "title": {
            "standoff": 15
           },
           "zerolinecolor": "white",
           "zerolinewidth": 2
          },
          "yaxis": {
           "automargin": true,
           "gridcolor": "white",
           "linecolor": "white",
           "ticks": "",
           "title": {
            "standoff": 15
           },
           "zerolinecolor": "white",
           "zerolinewidth": 2
          }
         }
        },
        "width": 700
       },
       "_py2js_animate": {},
       "_py2js_deleteTraces": {},
       "_py2js_moveTraces": {},
       "_py2js_removeLayoutProps": {},
       "_py2js_removeTraceProps": {},
       "_py2js_restyle": {},
       "_view_count": 0
      }
     },
     "e0109eaf5c9645edb31510a96be2c7b3": {
      "buffers": [
       {
        "data": "dNFFF1108T900UUXXXTxPwAAAAAAABhAAAAAAAAAHEAAAAAAAAAgQA==",
        "encoding": "base64",
        "path": [
         "_data",
         1,
         "y",
         "value"
        ]
       },
       {
        "data": "AAAAAAAACEAAAAAAAAAQQAAAAAAAABxA",
        "encoding": "base64",
        "path": [
         "_data",
         2,
         "y",
         "value"
        ]
       },
       {
        "data": "AAAAAAAAIEA=",
        "encoding": "base64",
        "path": [
         "_data",
         3,
         "y",
         "value"
        ]
       },
       {
        "data": "AAAAAAAAIEA=",
        "encoding": "base64",
        "path": [
         "_data",
         4,
         "y",
         "value"
        ]
       }
      ],
      "model_module": "plotlywidget",
      "model_module_version": "^4.12.0",
      "model_name": "FigureModel",
      "state": {
       "_config": {
        "plotlyServerURL": "https://plot.ly"
       },
       "_data": [
        {
         "line": {
          "color": "#1f77b4"
         },
         "mode": "lines",
         "name": "c",
         "showlegend": true,
         "type": "scatter",
         "uid": "50947367-cdb0-42ee-84a4-f8129d3b8b8c",
         "x": [
          "2020-01-01T00:00:00.000000",
          "2020-01-02T00:00:00.000000",
          "2020-01-03T00:00:00.000000",
          "2020-01-04T00:00:00.000000",
          "2020-01-05T00:00:00.000000",
          "2020-01-06T00:00:00.000000",
          "2020-01-07T00:00:00.000000",
          "2020-01-08T00:00:00.000000"
         ],
         "y": [
          1,
          2,
          3,
          4,
          5,
          6,
          7,
          8
         ]
        },
        {
         "customdata": [
          [
           "1.0",
           "0.010909090909090908",
           "Long",
           "0"
          ],
          [
           "0.10000000000000009",
           "0.0010909090909090918",
           "Long",
           "0"
          ],
          [
           "1.0",
           "0.06",
           "Long",
           "1"
          ],
          [
           "1.0",
           "0.07",
           "Short",
           "2"
          ],
          [
           "1.0",
           "0.08",
           "Long",
           "3"
          ]
         ],
         "hovertemplate": "%{x}<br>Price: %{y}<br>Size: %{customdata[0]:.4f}<br>Fees: %{customdata[1]:.4f}<br>Direction: %{customdata[2]}<br>Position: %{customdata[3]}",
         "marker": {
          "color": "#4285F4",
          "line": {
           "color": "rgb(11,84,205)",
           "width": 1
          },
          "size": 7,
          "symbol": "square"
         },
         "mode": "markers",
         "name": "Entry",
         "type": "scatter",
         "uid": "b472e7c7-3475-49b3-b670-aff8444c09e7",
         "x": [
          "2020-01-01T00:00:00.000000",
          "2020-01-01T00:00:00.000000",
          "2020-01-06T00:00:00.000000",
          "2020-01-07T00:00:00.000000",
          "2020-01-08T00:00:00.000000"
         ],
         "y": {
          "dtype": "float64",
          "shape": [
           5
          ]
         }
        },
        {
         "customdata": [
          [
           "1.0",
           "0.03",
           "1.8681818181818182",
           "1.7125000000000001",
           "Long",
           "0",
           "2 days 00:00:00"
          ],
          [
           "0.10000000000000009",
           "0.004",
           "0.2858181818181821",
           "2.62",
           "Long",
           "0",
           "3 days 00:00:00"
          ],
          [
           "1.0",
           "0.07",
           "0.8699999999999999",
           "0.145",
           "Long",
           "1",
           "1 days 00:00:00"
          ]
         ],
         "hovertemplate": "%{x}<br>Price: %{y}<br>Size: %{customdata[0]:.4f}<br>Fees: %{customdata[1]:.4f}<br>PnL: %{customdata[2]:.4f}<br>Return: %{customdata[3]:.2%}<br>Direction: %{customdata[4]}<br>Position: %{customdata[5]}<br>Duration: %{customdata[6]}",
         "marker": {
          "color": "#37B13F",
          "line": {
           "color": "rgb(38,123,44)",
           "width": 1
          },
          "size": 7,
          "symbol": "square"
         },
         "mode": "markers",
         "name": "Exit - Profit",
         "type": "scatter",
         "uid": "54075c4f-3029-4ce7-952c-5e10bd53cc2f",
         "x": [
          "2020-01-03T00:00:00.000000",
          "2020-01-04T00:00:00.000000",
          "2020-01-07T00:00:00.000000"
         ],
         "y": {
          "dtype": "float64",
          "shape": [
           3
          ]
         }
        },
        {
         "customdata": [
          [
           "1.0",
           "0.08",
           "-1.1500000000000001",
           "-0.1642857142857143",
           "Short",
           "2",
           "1 days 00:00:00"
          ]
         ],
         "hovertemplate": "%{x}<br>Price: %{y}<br>Size: %{customdata[0]:.4f}<br>Fees: %{customdata[1]:.4f}<br>PnL: %{customdata[2]:.4f}<br>Return: %{customdata[3]:.2%}<br>Direction: %{customdata[4]}<br>Position: %{customdata[5]}<br>Duration: %{customdata[6]}",
         "marker": {
          "color": "#EA4335",
          "line": {
           "color": "rgb(181,31,18)",
           "width": 1
          },
          "size": 7,
          "symbol": "square"
         },
         "mode": "markers",
         "name": "Exit - Loss",
         "type": "scatter",
         "uid": "7e9cea4e-7f2d-4fa6-99e3-b0c14dd40335",
         "x": [
          "2020-01-08T00:00:00.000000"
         ],
         "y": {
          "dtype": "float64",
          "shape": [
           1
          ]
         }
        },
        {
         "customdata": [
          [
           "1.0",
           "0.0",
           "-0.08",
           "-0.01",
           "Long",
           "3",
           "0 days 00:00:00"
          ]
         ],
         "hovertemplate": "%{x}<br>Price: %{y}<br>Size: %{customdata[0]:.4f}<br>Fees: %{customdata[1]:.4f}<br>PnL: %{customdata[2]:.4f}<br>Return: %{customdata[3]:.2%}<br>Direction: %{customdata[4]}<br>Position: %{customdata[5]}<br>Duration: %{customdata[6]}",
         "marker": {
          "color": "#FFAA00",
          "line": {
           "color": "rgb(178,118,0)",
           "width": 1
          },
          "size": 7,
          "symbol": "square"
         },
         "mode": "markers",
         "name": "Active",
         "type": "scatter",
         "uid": "6c587965-e71f-4c47-abce-359d2befd8de",
         "x": [
          "2020-01-08T00:00:00.000000"
         ],
         "y": {
          "dtype": "float64",
          "shape": [
           1
          ]
         }
        }
       ],
       "_js2py_layoutDelta": {},
       "_js2py_pointsCallback": {},
       "_js2py_relayout": {},
       "_js2py_restyle": {},
       "_js2py_traceDeltas": {},
       "_js2py_update": {},
       "_last_layout_edit_id": 12,
       "_last_trace_edit_id": 7,
       "_layout": {
        "autosize": false,
        "colorway": [
         "#1f77b4",
         "#ff7f0e",
         "#2ca02c",
         "#dc3912",
         "#9467bd",
         "#8c564b",
         "#e377c2",
         "#7f7f7f",
         "#bcbd22",
         "#17becf"
        ],
        "height": 350,
        "hovermode": "closest",
        "legend": {
         "orientation": "h",
         "traceorder": "normal",
         "x": 1,
         "xanchor": "right",
         "y": 1.02,
         "yanchor": "bottom"
        },
        "margin": {
         "b": 30,
         "l": 30,
         "r": 30,
         "t": 30
        },
        "shapes": [
         {
          "fillcolor": "green",
          "layer": "below",
          "line": {
           "width": 0
          },
          "opacity": 0.2,
          "type": "rect",
          "x0": "2020-01-01T00:00:00.000000",
          "x1": "2020-01-03T00:00:00.000000",
          "xref": "x",
          "y0": 1.0909090909090908,
          "y1": 3,
          "yref": "y"
         },
         {
          "fillcolor": "green",
          "layer": "below",
          "line": {
           "width": 0
          },
          "opacity": 0.2,
          "type": "rect",
          "x0": "2020-01-01T00:00:00.000000",
          "x1": "2020-01-04T00:00:00.000000",
          "xref": "x",
          "y0": 1.0909090909090908,
          "y1": 4,
          "yref": "y"
         },
         {
          "fillcolor": "green",
          "layer": "below",
          "line": {
           "width": 0
          },
          "opacity": 0.2,
          "type": "rect",
          "x0": "2020-01-06T00:00:00.000000",
          "x1": "2020-01-07T00:00:00.000000",
          "xref": "x",
          "y0": 6,
          "y1": 7,
          "yref": "y"
         },
         {
          "fillcolor": "red",
          "layer": "below",
          "line": {
           "width": 0
          },
          "opacity": 0.2,
          "type": "rect",
          "x0": "2020-01-07T00:00:00.000000",
          "x1": "2020-01-08T00:00:00.000000",
          "xref": "x",
          "y0": 7,
          "y1": 8,
          "yref": "y"
         },
         {
          "fillcolor": "red",
          "layer": "below",
          "line": {
           "width": 0
          },
          "opacity": 0.2,
          "type": "rect",
          "x0": "2020-01-08T00:00:00.000000",
          "x1": "2020-01-08T00:00:00.000000",
          "xref": "x",
          "y0": 8,
          "y1": 8,
          "yref": "y"
         }
        ],
        "template": {
         "data": {
          "bar": [
           {
            "error_x": {
             "color": "#2a3f5f"
            },
            "error_y": {
             "color": "#2a3f5f"
            },
            "marker": {
             "line": {
              "color": "#E5ECF6",
              "width": 0.5
             }
            },
            "type": "bar"
           }
          ],
          "barpolar": [
           {
            "marker": {
             "line": {
              "color": "#E5ECF6",
              "width": 0.5
             }
            },
            "type": "barpolar"
           }
          ],
          "carpet": [
           {
            "aaxis": {
             "endlinecolor": "#2a3f5f",
             "gridcolor": "white",
             "linecolor": "white",
             "minorgridcolor": "white",
             "startlinecolor": "#2a3f5f"
            },
            "baxis": {
             "endlinecolor": "#2a3f5f",
             "gridcolor": "white",
             "linecolor": "white",
             "minorgridcolor": "white",
             "startlinecolor": "#2a3f5f"
            },
            "type": "carpet"
           }
          ],
          "choropleth": [
           {
            "colorbar": {
             "outlinewidth": 0,
             "ticks": ""
            },
            "type": "choropleth"
           }
          ],
          "contour": [
           {
            "colorbar": {
             "outlinewidth": 0,
             "ticks": ""
            },
            "colorscale": [
             [
              0,
              "#0d0887"
             ],
             [
              0.1111111111111111,
              "#46039f"
             ],
             [
              0.2222222222222222,
              "#7201a8"
             ],
             [
              0.3333333333333333,
              "#9c179e"
             ],
             [
              0.4444444444444444,
              "#bd3786"
             ],
             [
              0.5555555555555556,
              "#d8576b"
             ],
             [
              0.6666666666666666,
              "#ed7953"
             ],
             [
              0.7777777777777778,
              "#fb9f3a"
             ],
             [
              0.8888888888888888,
              "#fdca26"
             ],
             [
              1,
              "#f0f921"
             ]
            ],
            "type": "contour"
           }
          ],
          "contourcarpet": [
           {
            "colorbar": {
             "outlinewidth": 0,
             "ticks": ""
            },
            "type": "contourcarpet"
           }
          ],
          "heatmap": [
           {
            "colorbar": {
             "outlinewidth": 0,
             "ticks": ""
            },
            "colorscale": [
             [
              0,
              "#0d0887"
             ],
             [
              0.1111111111111111,
              "#46039f"
             ],
             [
              0.2222222222222222,
              "#7201a8"
             ],
             [
              0.3333333333333333,
              "#9c179e"
             ],
             [
              0.4444444444444444,
              "#bd3786"
             ],
             [
              0.5555555555555556,
              "#d8576b"
             ],
             [
              0.6666666666666666,
              "#ed7953"
             ],
             [
              0.7777777777777778,
              "#fb9f3a"
             ],
             [
              0.8888888888888888,
              "#fdca26"
             ],
             [
              1,
              "#f0f921"
             ]
            ],
            "type": "heatmap"
           }
          ],
          "heatmapgl": [
           {
            "colorbar": {
             "outlinewidth": 0,
             "ticks": ""
            },
            "colorscale": [
             [
              0,
              "#0d0887"
             ],
             [
              0.1111111111111111,
              "#46039f"
             ],
             [
              0.2222222222222222,
              "#7201a8"
             ],
             [
              0.3333333333333333,
              "#9c179e"
             ],
             [
              0.4444444444444444,
              "#bd3786"
             ],
             [
              0.5555555555555556,
              "#d8576b"
             ],
             [
              0.6666666666666666,
              "#ed7953"
             ],
             [
              0.7777777777777778,
              "#fb9f3a"
             ],
             [
              0.8888888888888888,
              "#fdca26"
             ],
             [
              1,
              "#f0f921"
             ]
            ],
            "type": "heatmapgl"
           }
          ],
          "histogram": [
           {
            "marker": {
             "colorbar": {
              "outlinewidth": 0,
              "ticks": ""
             }
            },
            "type": "histogram"
           }
          ],
          "histogram2d": [
           {
            "colorbar": {
             "outlinewidth": 0,
             "ticks": ""
            },
            "colorscale": [
             [
              0,
              "#0d0887"
             ],
             [
              0.1111111111111111,
              "#46039f"
             ],
             [
              0.2222222222222222,
              "#7201a8"
             ],
             [
              0.3333333333333333,
              "#9c179e"
             ],
             [
              0.4444444444444444,
              "#bd3786"
             ],
             [
              0.5555555555555556,
              "#d8576b"
             ],
             [
              0.6666666666666666,
              "#ed7953"
             ],
             [
              0.7777777777777778,
              "#fb9f3a"
             ],
             [
              0.8888888888888888,
              "#fdca26"
             ],
             [
              1,
              "#f0f921"
             ]
            ],
            "type": "histogram2d"
           }
          ],
          "histogram2dcontour": [
           {
            "colorbar": {
             "outlinewidth": 0,
             "ticks": ""
            },
            "colorscale": [
             [
              0,
              "#0d0887"
             ],
             [
              0.1111111111111111,
              "#46039f"
             ],
             [
              0.2222222222222222,
              "#7201a8"
             ],
             [
              0.3333333333333333,
              "#9c179e"
             ],
             [
              0.4444444444444444,
              "#bd3786"
             ],
             [
              0.5555555555555556,
              "#d8576b"
             ],
             [
              0.6666666666666666,
              "#ed7953"
             ],
             [
              0.7777777777777778,
              "#fb9f3a"
             ],
             [
              0.8888888888888888,
              "#fdca26"
             ],
             [
              1,
              "#f0f921"
             ]
            ],
            "type": "histogram2dcontour"
           }
          ],
          "mesh3d": [
           {
            "colorbar": {
             "outlinewidth": 0,
             "ticks": ""
            },
            "type": "mesh3d"
           }
          ],
          "parcoords": [
           {
            "line": {
             "colorbar": {
              "outlinewidth": 0,
              "ticks": ""
             }
            },
            "type": "parcoords"
           }
          ],
          "pie": [
           {
            "automargin": true,
            "type": "pie"
           }
          ],
          "scatter": [
           {
            "marker": {
             "colorbar": {
              "outlinewidth": 0,
              "ticks": ""
             }
            },
            "type": "scatter"
           }
          ],
          "scatter3d": [
           {
            "line": {
             "colorbar": {
              "outlinewidth": 0,
              "ticks": ""
             }
            },
            "marker": {
             "colorbar": {
              "outlinewidth": 0,
              "ticks": ""
             }
            },
            "type": "scatter3d"
           }
          ],
          "scattercarpet": [
           {
            "marker": {
             "colorbar": {
              "outlinewidth": 0,
              "ticks": ""
             }
            },
            "type": "scattercarpet"
           }
          ],
          "scattergeo": [
           {
            "marker": {
             "colorbar": {
              "outlinewidth": 0,
              "ticks": ""
             }
            },
            "type": "scattergeo"
           }
          ],
          "scattergl": [
           {
            "marker": {
             "colorbar": {
              "outlinewidth": 0,
              "ticks": ""
             }
            },
            "type": "scattergl"
           }
          ],
          "scattermapbox": [
           {
            "marker": {
             "colorbar": {
              "outlinewidth": 0,
              "ticks": ""
             }
            },
            "type": "scattermapbox"
           }
          ],
          "scatterpolar": [
           {
            "marker": {
             "colorbar": {
              "outlinewidth": 0,
              "ticks": ""
             }
            },
            "type": "scatterpolar"
           }
          ],
          "scatterpolargl": [
           {
            "marker": {
             "colorbar": {
              "outlinewidth": 0,
              "ticks": ""
             }
            },
            "type": "scatterpolargl"
           }
          ],
          "scatterternary": [
           {
            "marker": {
             "colorbar": {
              "outlinewidth": 0,
              "ticks": ""
             }
            },
            "type": "scatterternary"
           }
          ],
          "surface": [
           {
            "colorbar": {
             "outlinewidth": 0,
             "ticks": ""
            },
            "colorscale": [
             [
              0,
              "#0d0887"
             ],
             [
              0.1111111111111111,
              "#46039f"
             ],
             [
              0.2222222222222222,
              "#7201a8"
             ],
             [
              0.3333333333333333,
              "#9c179e"
             ],
             [
              0.4444444444444444,
              "#bd3786"
             ],
             [
              0.5555555555555556,
              "#d8576b"
             ],
             [
              0.6666666666666666,
              "#ed7953"
             ],
             [
              0.7777777777777778,
              "#fb9f3a"
             ],
             [
              0.8888888888888888,
              "#fdca26"
             ],
             [
              1,
              "#f0f921"
             ]
            ],
            "type": "surface"
           }
          ],
          "table": [
           {
            "cells": {
             "fill": {
              "color": "#EBF0F8"
             },
             "line": {
              "color": "white"
             }
            },
            "header": {
             "fill": {
              "color": "#C8D4E3"
             },
             "line": {
              "color": "white"
             }
            },
            "type": "table"
           }
          ]
         },
         "layout": {
          "annotationdefaults": {
           "arrowcolor": "#2a3f5f",
           "arrowhead": 0,
           "arrowwidth": 1
          },
          "coloraxis": {
           "colorbar": {
            "outlinewidth": 0,
            "ticks": ""
           }
          },
          "colorscale": {
           "diverging": [
            [
             0,
             "#8e0152"
            ],
            [
             0.1,
             "#c51b7d"
            ],
            [
             0.2,
             "#de77ae"
            ],
            [
             0.3,
             "#f1b6da"
            ],
            [
             0.4,
             "#fde0ef"
            ],
            [
             0.5,
             "#f7f7f7"
            ],
            [
             0.6,
             "#e6f5d0"
            ],
            [
             0.7,
             "#b8e186"
            ],
            [
             0.8,
             "#7fbc41"
            ],
            [
             0.9,
             "#4d9221"
            ],
            [
             1,
             "#276419"
            ]
           ],
           "sequential": [
            [
             0,
             "#0d0887"
            ],
            [
             0.1111111111111111,
             "#46039f"
            ],
            [
             0.2222222222222222,
             "#7201a8"
            ],
            [
             0.3333333333333333,
             "#9c179e"
            ],
            [
             0.4444444444444444,
             "#bd3786"
            ],
            [
             0.5555555555555556,
             "#d8576b"
            ],
            [
             0.6666666666666666,
             "#ed7953"
            ],
            [
             0.7777777777777778,
             "#fb9f3a"
            ],
            [
             0.8888888888888888,
             "#fdca26"
            ],
            [
             1,
             "#f0f921"
            ]
           ],
           "sequentialminus": [
            [
             0,
             "#0d0887"
            ],
            [
             0.1111111111111111,
             "#46039f"
            ],
            [
             0.2222222222222222,
             "#7201a8"
            ],
            [
             0.3333333333333333,
             "#9c179e"
            ],
            [
             0.4444444444444444,
             "#bd3786"
            ],
            [
             0.5555555555555556,
             "#d8576b"
            ],
            [
             0.6666666666666666,
             "#ed7953"
            ],
            [
             0.7777777777777778,
             "#fb9f3a"
            ],
            [
             0.8888888888888888,
             "#fdca26"
            ],
            [
             1,
             "#f0f921"
            ]
           ]
          },
          "colorway": [
           "#636efa",
           "#EF553B",
           "#00cc96",
           "#ab63fa",
           "#FFA15A",
           "#19d3f3",
           "#FF6692",
           "#B6E880",
           "#FF97FF",
           "#FECB52"
          ],
          "font": {
           "color": "#2a3f5f"
          },
          "geo": {
           "bgcolor": "white",
           "lakecolor": "white",
           "landcolor": "#E5ECF6",
           "showlakes": true,
           "showland": true,
           "subunitcolor": "white"
          },
          "hoverlabel": {
           "align": "left"
          },
          "hovermode": "closest",
          "mapbox": {
           "style": "light"
          },
          "paper_bgcolor": "white",
          "plot_bgcolor": "#E5ECF6",
          "polar": {
           "angularaxis": {
            "gridcolor": "white",
            "linecolor": "white",
            "ticks": ""
           },
           "bgcolor": "#E5ECF6",
           "radialaxis": {
            "gridcolor": "white",
            "linecolor": "white",
            "ticks": ""
           }
          },
          "scene": {
           "xaxis": {
            "backgroundcolor": "#E5ECF6",
            "gridcolor": "white",
            "gridwidth": 2,
            "linecolor": "white",
            "showbackground": true,
            "ticks": "",
            "zerolinecolor": "white"
           },
           "yaxis": {
            "backgroundcolor": "#E5ECF6",
            "gridcolor": "white",
            "gridwidth": 2,
            "linecolor": "white",
            "showbackground": true,
            "ticks": "",
            "zerolinecolor": "white"
           },
           "zaxis": {
            "backgroundcolor": "#E5ECF6",
            "gridcolor": "white",
            "gridwidth": 2,
            "linecolor": "white",
            "showbackground": true,
            "ticks": "",
            "zerolinecolor": "white"
           }
          },
          "shapedefaults": {
           "line": {
            "color": "#2a3f5f"
           }
          },
          "ternary": {
           "aaxis": {
            "gridcolor": "white",
            "linecolor": "white",
            "ticks": ""
           },
           "baxis": {
            "gridcolor": "white",
            "linecolor": "white",
            "ticks": ""
           },
           "bgcolor": "#E5ECF6",
           "caxis": {
            "gridcolor": "white",
            "linecolor": "white",
            "ticks": ""
           }
          },
          "title": {
           "x": 0.05
          },
          "xaxis": {
           "automargin": true,
           "gridcolor": "white",
           "linecolor": "white",
           "ticks": "",
           "title": {
            "standoff": 15
           },
           "zerolinecolor": "white",
           "zerolinewidth": 2
          },
          "yaxis": {
           "automargin": true,
           "gridcolor": "white",
           "linecolor": "white",
           "ticks": "",
           "title": {
            "standoff": 15
           },
           "zerolinecolor": "white",
           "zerolinewidth": 2
          }
         }
        },
        "width": 700
       },
       "_py2js_animate": {},
       "_py2js_deleteTraces": {},
       "_py2js_moveTraces": {},
       "_py2js_removeLayoutProps": {},
       "_py2js_removeTraceProps": {},
       "_py2js_restyle": {},
       "_view_count": 0
      }
     },
     "ef106991d0084e5ab96533316dab1d75": {
      "buffers": [
       {
        "data": "AAAAAAAA8D8AAAAAAAAAQAAAAAAAABhAAAAAAAAAIEA=",
        "encoding": "base64",
        "path": [
         "_data",
         1,
         "y",
         "value"
        ]
       },
       {
        "data": "AAAAAAAACEAAAAAAAAAQQAAAAAAAABxA",
        "encoding": "base64",
        "path": [
         "_data",
         2,
         "y",
         "value"
        ]
       }
      ],
      "model_module": "plotlywidget",
      "model_module_version": "^4.12.0",
      "model_name": "FigureModel",
      "state": {
       "_config": {
        "plotlyServerURL": "https://plot.ly"
       },
       "_data": [
        {
         "line": {
          "color": "#1f77b4"
         },
         "mode": "lines",
         "name": "a",
         "showlegend": true,
         "type": "scatter",
         "uid": "a2de7884-1016-4c6a-bf25-04b697f7eee4",
         "x": [
          "2020-01-01T00:00:00.000000",
          "2020-01-02T00:00:00.000000",
          "2020-01-03T00:00:00.000000",
          "2020-01-04T00:00:00.000000",
          "2020-01-05T00:00:00.000000",
          "2020-01-06T00:00:00.000000",
          "2020-01-07T00:00:00.000000",
          "2020-01-08T00:00:00.000000"
         ],
         "y": [
          1,
          2,
          3,
          4,
          5,
          6,
          7,
          8
         ]
        },
        {
         "customdata": [
          [
           1,
           0.01
          ],
          [
           0.1,
           0.002
          ],
          [
           1,
           0.06
          ],
          [
           2,
           0.16
          ]
         ],
         "hovertemplate": "%{x}<br>Price: %{y}<br>Size: %{customdata[0]:.4f}<br>Fees: %{customdata[1]:.4f}",
         "marker": {
          "color": "#37B13F",
          "line": {
           "color": "rgb(38,123,44)",
           "width": 1
          },
          "size": 8,
          "symbol": "triangle-up"
         },
         "mode": "markers",
         "name": "Buy",
         "type": "scatter",
         "uid": "fbf9c04d-33e3-4b5d-b7b1-3feeab7ea717",
         "x": [
          "2020-01-01T00:00:00.000000",
          "2020-01-02T00:00:00.000000",
          "2020-01-06T00:00:00.000000",
          "2020-01-08T00:00:00.000000"
         ],
         "y": {
          "dtype": "float64",
          "shape": [
           4
          ]
         }
        },
        {
         "customdata": [
          [
           1,
           0.03
          ],
          [
           0.1,
           0.004
          ],
          [
           1,
           0.07
          ]
         ],
         "hovertemplate": "%{x}<br>Price: %{y}<br>Size: %{customdata[0]:.4f}<br>Fees: %{customdata[1]:.4f}",
         "marker": {
          "color": "#EA4335",
          "line": {
           "color": "rgb(181,31,18)",
           "width": 1
          },
          "size": 8,
          "symbol": "triangle-down"
         },
         "mode": "markers",
         "name": "Sell",
         "type": "scatter",
         "uid": "d54d0fbe-a26c-4571-ac64-0c245acd1d6e",
         "x": [
          "2020-01-03T00:00:00.000000",
          "2020-01-04T00:00:00.000000",
          "2020-01-07T00:00:00.000000"
         ],
         "y": {
          "dtype": "float64",
          "shape": [
           3
          ]
         }
        }
       ],
       "_js2py_layoutDelta": {},
       "_js2py_pointsCallback": {},
       "_js2py_relayout": {},
       "_js2py_restyle": {},
       "_js2py_traceDeltas": {},
       "_js2py_update": {},
       "_last_layout_edit_id": 5,
       "_last_trace_edit_id": 5,
       "_layout": {
        "autosize": false,
        "colorway": [
         "#1f77b4",
         "#ff7f0e",
         "#2ca02c",
         "#dc3912",
         "#9467bd",
         "#8c564b",
         "#e377c2",
         "#7f7f7f",
         "#bcbd22",
         "#17becf"
        ],
        "height": 350,
        "hovermode": "closest",
        "legend": {
         "orientation": "h",
         "traceorder": "normal",
         "x": 1,
         "xanchor": "right",
         "y": 1.02,
         "yanchor": "bottom"
        },
        "margin": {
         "b": 30,
         "l": 30,
         "r": 30,
         "t": 30
        },
        "template": {
         "data": {
          "bar": [
           {
            "error_x": {
             "color": "#2a3f5f"
            },
            "error_y": {
             "color": "#2a3f5f"
            },
            "marker": {
             "line": {
              "color": "#E5ECF6",
              "width": 0.5
             }
            },
            "type": "bar"
           }
          ],
          "barpolar": [
           {
            "marker": {
             "line": {
              "color": "#E5ECF6",
              "width": 0.5
             }
            },
            "type": "barpolar"
           }
          ],
          "carpet": [
           {
            "aaxis": {
             "endlinecolor": "#2a3f5f",
             "gridcolor": "white",
             "linecolor": "white",
             "minorgridcolor": "white",
             "startlinecolor": "#2a3f5f"
            },
            "baxis": {
             "endlinecolor": "#2a3f5f",
             "gridcolor": "white",
             "linecolor": "white",
             "minorgridcolor": "white",
             "startlinecolor": "#2a3f5f"
            },
            "type": "carpet"
           }
          ],
          "choropleth": [
           {
            "colorbar": {
             "outlinewidth": 0,
             "ticks": ""
            },
            "type": "choropleth"
           }
          ],
          "contour": [
           {
            "colorbar": {
             "outlinewidth": 0,
             "ticks": ""
            },
            "colorscale": [
             [
              0,
              "#0d0887"
             ],
             [
              0.1111111111111111,
              "#46039f"
             ],
             [
              0.2222222222222222,
              "#7201a8"
             ],
             [
              0.3333333333333333,
              "#9c179e"
             ],
             [
              0.4444444444444444,
              "#bd3786"
             ],
             [
              0.5555555555555556,
              "#d8576b"
             ],
             [
              0.6666666666666666,
              "#ed7953"
             ],
             [
              0.7777777777777778,
              "#fb9f3a"
             ],
             [
              0.8888888888888888,
              "#fdca26"
             ],
             [
              1,
              "#f0f921"
             ]
            ],
            "type": "contour"
           }
          ],
          "contourcarpet": [
           {
            "colorbar": {
             "outlinewidth": 0,
             "ticks": ""
            },
            "type": "contourcarpet"
           }
          ],
          "heatmap": [
           {
            "colorbar": {
             "outlinewidth": 0,
             "ticks": ""
            },
            "colorscale": [
             [
              0,
              "#0d0887"
             ],
             [
              0.1111111111111111,
              "#46039f"
             ],
             [
              0.2222222222222222,
              "#7201a8"
             ],
             [
              0.3333333333333333,
              "#9c179e"
             ],
             [
              0.4444444444444444,
              "#bd3786"
             ],
             [
              0.5555555555555556,
              "#d8576b"
             ],
             [
              0.6666666666666666,
              "#ed7953"
             ],
             [
              0.7777777777777778,
              "#fb9f3a"
             ],
             [
              0.8888888888888888,
              "#fdca26"
             ],
             [
              1,
              "#f0f921"
             ]
            ],
            "type": "heatmap"
           }
          ],
          "heatmapgl": [
           {
            "colorbar": {
             "outlinewidth": 0,
             "ticks": ""
            },
            "colorscale": [
             [
              0,
              "#0d0887"
             ],
             [
              0.1111111111111111,
              "#46039f"
             ],
             [
              0.2222222222222222,
              "#7201a8"
             ],
             [
              0.3333333333333333,
              "#9c179e"
             ],
             [
              0.4444444444444444,
              "#bd3786"
             ],
             [
              0.5555555555555556,
              "#d8576b"
             ],
             [
              0.6666666666666666,
              "#ed7953"
             ],
             [
              0.7777777777777778,
              "#fb9f3a"
             ],
             [
              0.8888888888888888,
              "#fdca26"
             ],
             [
              1,
              "#f0f921"
             ]
            ],
            "type": "heatmapgl"
           }
          ],
          "histogram": [
           {
            "marker": {
             "colorbar": {
              "outlinewidth": 0,
              "ticks": ""
             }
            },
            "type": "histogram"
           }
          ],
          "histogram2d": [
           {
            "colorbar": {
             "outlinewidth": 0,
             "ticks": ""
            },
            "colorscale": [
             [
              0,
              "#0d0887"
             ],
             [
              0.1111111111111111,
              "#46039f"
             ],
             [
              0.2222222222222222,
              "#7201a8"
             ],
             [
              0.3333333333333333,
              "#9c179e"
             ],
             [
              0.4444444444444444,
              "#bd3786"
             ],
             [
              0.5555555555555556,
              "#d8576b"
             ],
             [
              0.6666666666666666,
              "#ed7953"
             ],
             [
              0.7777777777777778,
              "#fb9f3a"
             ],
             [
              0.8888888888888888,
              "#fdca26"
             ],
             [
              1,
              "#f0f921"
             ]
            ],
            "type": "histogram2d"
           }
          ],
          "histogram2dcontour": [
           {
            "colorbar": {
             "outlinewidth": 0,
             "ticks": ""
            },
            "colorscale": [
             [
              0,
              "#0d0887"
             ],
             [
              0.1111111111111111,
              "#46039f"
             ],
             [
              0.2222222222222222,
              "#7201a8"
             ],
             [
              0.3333333333333333,
              "#9c179e"
             ],
             [
              0.4444444444444444,
              "#bd3786"
             ],
             [
              0.5555555555555556,
              "#d8576b"
             ],
             [
              0.6666666666666666,
              "#ed7953"
             ],
             [
              0.7777777777777778,
              "#fb9f3a"
             ],
             [
              0.8888888888888888,
              "#fdca26"
             ],
             [
              1,
              "#f0f921"
             ]
            ],
            "type": "histogram2dcontour"
           }
          ],
          "mesh3d": [
           {
            "colorbar": {
             "outlinewidth": 0,
             "ticks": ""
            },
            "type": "mesh3d"
           }
          ],
          "parcoords": [
           {
            "line": {
             "colorbar": {
              "outlinewidth": 0,
              "ticks": ""
             }
            },
            "type": "parcoords"
           }
          ],
          "pie": [
           {
            "automargin": true,
            "type": "pie"
           }
          ],
          "scatter": [
           {
            "marker": {
             "colorbar": {
              "outlinewidth": 0,
              "ticks": ""
             }
            },
            "type": "scatter"
           }
          ],
          "scatter3d": [
           {
            "line": {
             "colorbar": {
              "outlinewidth": 0,
              "ticks": ""
             }
            },
            "marker": {
             "colorbar": {
              "outlinewidth": 0,
              "ticks": ""
             }
            },
            "type": "scatter3d"
           }
          ],
          "scattercarpet": [
           {
            "marker": {
             "colorbar": {
              "outlinewidth": 0,
              "ticks": ""
             }
            },
            "type": "scattercarpet"
           }
          ],
          "scattergeo": [
           {
            "marker": {
             "colorbar": {
              "outlinewidth": 0,
              "ticks": ""
             }
            },
            "type": "scattergeo"
           }
          ],
          "scattergl": [
           {
            "marker": {
             "colorbar": {
              "outlinewidth": 0,
              "ticks": ""
             }
            },
            "type": "scattergl"
           }
          ],
          "scattermapbox": [
           {
            "marker": {
             "colorbar": {
              "outlinewidth": 0,
              "ticks": ""
             }
            },
            "type": "scattermapbox"
           }
          ],
          "scatterpolar": [
           {
            "marker": {
             "colorbar": {
              "outlinewidth": 0,
              "ticks": ""
             }
            },
            "type": "scatterpolar"
           }
          ],
          "scatterpolargl": [
           {
            "marker": {
             "colorbar": {
              "outlinewidth": 0,
              "ticks": ""
             }
            },
            "type": "scatterpolargl"
           }
          ],
          "scatterternary": [
           {
            "marker": {
             "colorbar": {
              "outlinewidth": 0,
              "ticks": ""
             }
            },
            "type": "scatterternary"
           }
          ],
          "surface": [
           {
            "colorbar": {
             "outlinewidth": 0,
             "ticks": ""
            },
            "colorscale": [
             [
              0,
              "#0d0887"
             ],
             [
              0.1111111111111111,
              "#46039f"
             ],
             [
              0.2222222222222222,
              "#7201a8"
             ],
             [
              0.3333333333333333,
              "#9c179e"
             ],
             [
              0.4444444444444444,
              "#bd3786"
             ],
             [
              0.5555555555555556,
              "#d8576b"
             ],
             [
              0.6666666666666666,
              "#ed7953"
             ],
             [
              0.7777777777777778,
              "#fb9f3a"
             ],
             [
              0.8888888888888888,
              "#fdca26"
             ],
             [
              1,
              "#f0f921"
             ]
            ],
            "type": "surface"
           }
          ],
          "table": [
           {
            "cells": {
             "fill": {
              "color": "#EBF0F8"
             },
             "line": {
              "color": "white"
             }
            },
            "header": {
             "fill": {
              "color": "#C8D4E3"
             },
             "line": {
              "color": "white"
             }
            },
            "type": "table"
           }
          ]
         },
         "layout": {
          "annotationdefaults": {
           "arrowcolor": "#2a3f5f",
           "arrowhead": 0,
           "arrowwidth": 1
          },
          "coloraxis": {
           "colorbar": {
            "outlinewidth": 0,
            "ticks": ""
           }
          },
          "colorscale": {
           "diverging": [
            [
             0,
             "#8e0152"
            ],
            [
             0.1,
             "#c51b7d"
            ],
            [
             0.2,
             "#de77ae"
            ],
            [
             0.3,
             "#f1b6da"
            ],
            [
             0.4,
             "#fde0ef"
            ],
            [
             0.5,
             "#f7f7f7"
            ],
            [
             0.6,
             "#e6f5d0"
            ],
            [
             0.7,
             "#b8e186"
            ],
            [
             0.8,
             "#7fbc41"
            ],
            [
             0.9,
             "#4d9221"
            ],
            [
             1,
             "#276419"
            ]
           ],
           "sequential": [
            [
             0,
             "#0d0887"
            ],
            [
             0.1111111111111111,
             "#46039f"
            ],
            [
             0.2222222222222222,
             "#7201a8"
            ],
            [
             0.3333333333333333,
             "#9c179e"
            ],
            [
             0.4444444444444444,
             "#bd3786"
            ],
            [
             0.5555555555555556,
             "#d8576b"
            ],
            [
             0.6666666666666666,
             "#ed7953"
            ],
            [
             0.7777777777777778,
             "#fb9f3a"
            ],
            [
             0.8888888888888888,
             "#fdca26"
            ],
            [
             1,
             "#f0f921"
            ]
           ],
           "sequentialminus": [
            [
             0,
             "#0d0887"
            ],
            [
             0.1111111111111111,
             "#46039f"
            ],
            [
             0.2222222222222222,
             "#7201a8"
            ],
            [
             0.3333333333333333,
             "#9c179e"
            ],
            [
             0.4444444444444444,
             "#bd3786"
            ],
            [
             0.5555555555555556,
             "#d8576b"
            ],
            [
             0.6666666666666666,
             "#ed7953"
            ],
            [
             0.7777777777777778,
             "#fb9f3a"
            ],
            [
             0.8888888888888888,
             "#fdca26"
            ],
            [
             1,
             "#f0f921"
            ]
           ]
          },
          "colorway": [
           "#636efa",
           "#EF553B",
           "#00cc96",
           "#ab63fa",
           "#FFA15A",
           "#19d3f3",
           "#FF6692",
           "#B6E880",
           "#FF97FF",
           "#FECB52"
          ],
          "font": {
           "color": "#2a3f5f"
          },
          "geo": {
           "bgcolor": "white",
           "lakecolor": "white",
           "landcolor": "#E5ECF6",
           "showlakes": true,
           "showland": true,
           "subunitcolor": "white"
          },
          "hoverlabel": {
           "align": "left"
          },
          "hovermode": "closest",
          "mapbox": {
           "style": "light"
          },
          "paper_bgcolor": "white",
          "plot_bgcolor": "#E5ECF6",
          "polar": {
           "angularaxis": {
            "gridcolor": "white",
            "linecolor": "white",
            "ticks": ""
           },
           "bgcolor": "#E5ECF6",
           "radialaxis": {
            "gridcolor": "white",
            "linecolor": "white",
            "ticks": ""
           }
          },
          "scene": {
           "xaxis": {
            "backgroundcolor": "#E5ECF6",
            "gridcolor": "white",
            "gridwidth": 2,
            "linecolor": "white",
            "showbackground": true,
            "ticks": "",
            "zerolinecolor": "white"
           },
           "yaxis": {
            "backgroundcolor": "#E5ECF6",
            "gridcolor": "white",
            "gridwidth": 2,
            "linecolor": "white",
            "showbackground": true,
            "ticks": "",
            "zerolinecolor": "white"
           },
           "zaxis": {
            "backgroundcolor": "#E5ECF6",
            "gridcolor": "white",
            "gridwidth": 2,
            "linecolor": "white",
            "showbackground": true,
            "ticks": "",
            "zerolinecolor": "white"
           }
          },
          "shapedefaults": {
           "line": {
            "color": "#2a3f5f"
           }
          },
          "ternary": {
           "aaxis": {
            "gridcolor": "white",
            "linecolor": "white",
            "ticks": ""
           },
           "baxis": {
            "gridcolor": "white",
            "linecolor": "white",
            "ticks": ""
           },
           "bgcolor": "#E5ECF6",
           "caxis": {
            "gridcolor": "white",
            "linecolor": "white",
            "ticks": ""
           }
          },
          "title": {
           "x": 0.05
          },
          "xaxis": {
           "automargin": true,
           "gridcolor": "white",
           "linecolor": "white",
           "ticks": "",
           "title": {
            "standoff": 15
           },
           "zerolinecolor": "white",
           "zerolinewidth": 2
          },
          "yaxis": {
           "automargin": true,
           "gridcolor": "white",
           "linecolor": "white",
           "ticks": "",
           "title": {
            "standoff": 15
           },
           "zerolinecolor": "white",
           "zerolinewidth": 2
          }
         }
        },
        "width": 700
       },
       "_py2js_animate": {},
       "_py2js_deleteTraces": {},
       "_py2js_moveTraces": {},
       "_py2js_removeLayoutProps": {},
       "_py2js_removeTraceProps": {},
       "_py2js_restyle": {},
       "_view_count": 0
      }
     }
    },
    "version_major": 2,
    "version_minor": 0
   }
  }
 },
 "nbformat": 4,
 "nbformat_minor": 4
}
