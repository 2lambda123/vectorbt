{
 "cells": [
  {
   "cell_type": "markdown",
   "metadata": {},
   "source": [
    "# data"
   ]
  },
  {
   "cell_type": "markdown",
   "metadata": {},
   "source": [
    "Load OHLC data from cryptocurrency exchange Poloniex"
   ]
  },
  {
   "cell_type": "code",
   "execution_count": 1,
   "metadata": {
    "collapsed": true
   },
   "outputs": [],
   "source": [
    "from vectorbt import data, graphics\n",
    "from datetime import datetime\n",
    "import pytz\n",
    "import matplotlib\n",
    "matplotlib.rcParams['figure.figsize'] = (12, 5)"
   ]
  },
  {
   "cell_type": "code",
   "execution_count": 2,
   "metadata": {
    "scrolled": true
   },
   "outputs": [
    {
     "name": "stdout",
     "output_type": "stream",
     "text": [
      "passed. 1.58s\n"
     ]
    },
    {
     "data": {
      "text/html": [
       "<div>\n",
       "<style>\n",
       "    .dataframe thead tr:only-child th {\n",
       "        text-align: right;\n",
       "    }\n",
       "\n",
       "    .dataframe thead th {\n",
       "        text-align: left;\n",
       "    }\n",
       "\n",
       "    .dataframe tbody tr th {\n",
       "        vertical-align: top;\n",
       "    }\n",
       "</style>\n",
       "<table border=\"1\" class=\"dataframe\">\n",
       "  <thead>\n",
       "    <tr style=\"text-align: right;\">\n",
       "      <th></th>\n",
       "      <th>close</th>\n",
       "      <th>high</th>\n",
       "      <th>low</th>\n",
       "      <th>open</th>\n",
       "      <th>quoteVolume</th>\n",
       "      <th>volume</th>\n",
       "      <th>weightedAverage</th>\n",
       "    </tr>\n",
       "    <tr>\n",
       "      <th>date</th>\n",
       "      <th></th>\n",
       "      <th></th>\n",
       "      <th></th>\n",
       "      <th></th>\n",
       "      <th></th>\n",
       "      <th></th>\n",
       "      <th></th>\n",
       "    </tr>\n",
       "  </thead>\n",
       "  <tbody>\n",
       "    <tr>\n",
       "      <th>2017-10-18 01:05:00</th>\n",
       "      <td>5518.000000</td>\n",
       "      <td>5530.390000</td>\n",
       "      <td>5512.000000</td>\n",
       "      <td>5529.000000</td>\n",
       "      <td>7.371617</td>\n",
       "      <td>40676.905932</td>\n",
       "      <td>5518.043599</td>\n",
       "    </tr>\n",
       "    <tr>\n",
       "      <th>2017-10-18 01:10:00</th>\n",
       "      <td>5509.889183</td>\n",
       "      <td>5540.000000</td>\n",
       "      <td>5509.889183</td>\n",
       "      <td>5518.500000</td>\n",
       "      <td>31.468046</td>\n",
       "      <td>174049.261043</td>\n",
       "      <td>5530.984002</td>\n",
       "    </tr>\n",
       "    <tr>\n",
       "      <th>2017-10-18 01:15:00</th>\n",
       "      <td>5485.400000</td>\n",
       "      <td>5519.320283</td>\n",
       "      <td>5478.842719</td>\n",
       "      <td>5509.889183</td>\n",
       "      <td>112.375089</td>\n",
       "      <td>617316.165717</td>\n",
       "      <td>5493.354163</td>\n",
       "    </tr>\n",
       "    <tr>\n",
       "      <th>2017-10-18 01:20:00</th>\n",
       "      <td>5478.842719</td>\n",
       "      <td>5509.211286</td>\n",
       "      <td>5478.842719</td>\n",
       "      <td>5485.400000</td>\n",
       "      <td>12.936596</td>\n",
       "      <td>71145.782347</td>\n",
       "      <td>5499.575028</td>\n",
       "    </tr>\n",
       "    <tr>\n",
       "      <th>2017-10-18 01:25:00</th>\n",
       "      <td>5487.114751</td>\n",
       "      <td>5499.400434</td>\n",
       "      <td>5487.114751</td>\n",
       "      <td>5499.400434</td>\n",
       "      <td>8.498232</td>\n",
       "      <td>46673.539012</td>\n",
       "      <td>5492.146775</td>\n",
       "    </tr>\n",
       "  </tbody>\n",
       "</table>\n",
       "</div>"
      ],
      "text/plain": [
       "                           close         high          low         open  \\\n",
       "date                                                                      \n",
       "2017-10-18 01:05:00  5518.000000  5530.390000  5512.000000  5529.000000   \n",
       "2017-10-18 01:10:00  5509.889183  5540.000000  5509.889183  5518.500000   \n",
       "2017-10-18 01:15:00  5485.400000  5519.320283  5478.842719  5509.889183   \n",
       "2017-10-18 01:20:00  5478.842719  5509.211286  5478.842719  5485.400000   \n",
       "2017-10-18 01:25:00  5487.114751  5499.400434  5487.114751  5499.400434   \n",
       "\n",
       "                     quoteVolume         volume  weightedAverage  \n",
       "date                                                              \n",
       "2017-10-18 01:05:00     7.371617   40676.905932      5518.043599  \n",
       "2017-10-18 01:10:00    31.468046  174049.261043      5530.984002  \n",
       "2017-10-18 01:15:00   112.375089  617316.165717      5493.354163  \n",
       "2017-10-18 01:20:00    12.936596   71145.782347      5499.575028  \n",
       "2017-10-18 01:25:00     8.498232   46673.539012      5492.146775  "
      ]
     },
     "execution_count": 2,
     "metadata": {},
     "output_type": "execute_result"
    }
   ],
   "source": [
    "ohlc_df = data.load_cryptopair('USDT_BTC', data.ago_dt(days=30), data.now_dt())\n",
    "ohlc_df.head()"
   ]
  },
  {
   "cell_type": "code",
   "execution_count": 3,
   "metadata": {
    "collapsed": true
   },
   "outputs": [],
   "source": [
    "rate_sr = ohlc_df['open']"
   ]
  },
  {
   "cell_type": "code",
   "execution_count": 4,
   "metadata": {},
   "outputs": [
    {
     "data": {
      "image/png": "[encoded data removed]",
      "text/plain": [
       "<matplotlib.figure.Figure at 0x1025c87b8>"
      ]
     },
     "metadata": {},
     "output_type": "display_data"
    }
   ],
   "source": [
    "graphics.plot_line(rate_sr)"
   ]
  },
  {
   "cell_type": "markdown",
   "metadata": {},
   "source": [
    "# strategy"
   ]
  },
  {
   "cell_type": "markdown",
   "metadata": {},
   "source": [
    "Generate signals for simple moving average strategy"
   ]
  },
  {
   "cell_type": "code",
   "execution_count": 5,
   "metadata": {
    "collapsed": true
   },
   "outputs": [],
   "source": [
    "from vectorbt import strategy\n",
    "import numpy as np"
   ]
  },
  {
   "cell_type": "markdown",
   "metadata": {},
   "source": [
    "Build 20 and 30 moving averages"
   ]
  },
  {
   "cell_type": "code",
   "execution_count": 6,
   "metadata": {},
   "outputs": [
    {
     "name": "stdout",
     "output_type": "stream",
     "text": [
      "date\n",
      "2017-10-18 01:05:00    5529.000000\n",
      "2017-10-18 01:10:00    5528.000000\n",
      "2017-10-18 01:15:00    5526.275160\n",
      "2017-10-18 01:20:00    5522.382288\n",
      "2017-10-18 01:25:00    5520.193540\n",
      "Name: open, dtype: float64\n",
      "date\n",
      "2017-10-18 01:05:00    5529.000000\n",
      "2017-10-18 01:10:00    5528.588235\n",
      "2017-10-18 01:15:00    5527.854939\n",
      "2017-10-18 01:20:00    5526.190040\n",
      "2017-10-18 01:25:00    5525.139467\n",
      "Name: open, dtype: float64\n"
     ]
    }
   ],
   "source": [
    "fast_ema_sr = strategy.ema(rate_sr, 20)\n",
    "slow_ema_sr = strategy.ema(rate_sr, 50)\n",
    "print(fast_ema_sr.head())\n",
    "print(slow_ema_sr.head())"
   ]
  },
  {
   "cell_type": "markdown",
   "metadata": {},
   "source": [
    "Go long whenever fast SMA is over slow SMA by threshold (in % of current rate), while go short when opposite occurs"
   ]
  },
  {
   "cell_type": "code",
   "execution_count": 7,
   "metadata": {},
   "outputs": [
    {
     "name": "stdout",
     "output_type": "stream",
     "text": [
      "[ 743 2443 3398 4324 4441 6075 7288 7306 7541 7597 7607 7782 8082 8205 8560\n",
      " 8605]\n",
      "[  83  160 1200 1736 1979 5674 5688 6265 6267 6275 6751 6833 7045 7228 7246\n",
      " 7442 7697]\n"
     ]
    }
   ],
   "source": [
    "ema_entry_vector = strategy.ma_entry_vector(rate_sr, fast_ema_sr, slow_ema_sr, th=(0.01, 0.01))\n",
    "ema_exit_vector = strategy.ma_exit_vector(rate_sr, fast_ema_sr, slow_ema_sr, th=(0.01, 0.01))\n",
    "print(np.flatnonzero(ema_entry_vector))\n",
    "print(np.flatnonzero(ema_exit_vector))"
   ]
  },
  {
   "cell_type": "markdown",
   "metadata": {},
   "source": [
    "Both, entry and exit vectors, are sequences of 0 and 1 (bit-vectors) to speed up vector operations and to allow application of additional filters on them. Each vector is reduced (and sparse) and contains only signals that are first in their sequences. This way, we get neither outdated signals, nor typical issues like entry immediatelly after exit or vice versa. To apply a filter, create your own (not sparse) bit-vector and multiply with signals."
   ]
  },
  {
   "cell_type": "markdown",
   "metadata": {},
   "source": [
    "# positions"
   ]
  },
  {
   "cell_type": "code",
   "execution_count": 8,
   "metadata": {
    "collapsed": true
   },
   "outputs": [],
   "source": [
    "from vectorbt import positions"
   ]
  },
  {
   "cell_type": "markdown",
   "metadata": {},
   "source": [
    "Generete positions out of both vectors (merge and reduce)"
   ]
  },
  {
   "cell_type": "code",
   "execution_count": 9,
   "metadata": {},
   "outputs": [
    {
     "data": {
      "text/plain": [
       "date\n",
       "2017-10-20 15:00:00    1\n",
       "2017-10-22 05:05:00   -1\n",
       "2017-10-26 12:40:00    1\n",
       "2017-11-06 17:55:00   -1\n",
       "2017-11-08 03:20:00    1\n",
       "dtype: int64"
      ]
     },
     "execution_count": 9,
     "metadata": {},
     "output_type": "execute_result"
    }
   ],
   "source": [
    "position_sr = positions.from_vectors(rate_sr, ema_entry_vector, ema_exit_vector)\n",
    "position_sr.head()"
   ]
  },
  {
   "cell_type": "markdown",
   "metadata": {},
   "source": [
    "Position series has always even number of positions. First position is always long, the last one always short. This kind of fixed structure (`[0::2]` for long, `[1::2]` for short) makes further manipulations, such as calculation of equity, very easy."
   ]
  },
  {
   "cell_type": "markdown",
   "metadata": {},
   "source": [
    "Visualize entries and exits"
   ]
  },
  {
   "cell_type": "code",
   "execution_count": 10,
   "metadata": {},
   "outputs": [
    {
     "data": {
      "image/png": "[encoded data removed]",
      "text/plain": [
       "<matplotlib.figure.Figure at 0x10cd387f0>"
      ]
     },
     "metadata": {},
     "output_type": "display_data"
    }
   ],
   "source": [
    "positions.plot(rate_sr, position_sr)"
   ]
  },
  {
   "cell_type": "markdown",
   "metadata": {},
   "source": [
    "# returns"
   ]
  },
  {
   "cell_type": "code",
   "execution_count": 11,
   "metadata": {
    "collapsed": true
   },
   "outputs": [],
   "source": [
    "from vectorbt import returns"
   ]
  },
  {
   "cell_type": "markdown",
   "metadata": {},
   "source": [
    "Generate % returns out of positions. Takes into account fees."
   ]
  },
  {
   "cell_type": "code",
   "execution_count": 12,
   "metadata": {},
   "outputs": [
    {
     "data": {
      "text/plain": [
       "date\n",
       "2017-10-20 15:00:00   -0.001500\n",
       "2017-10-22 05:05:00   -0.020383\n",
       "2017-10-26 12:40:00   -0.001500\n",
       "2017-11-06 17:55:00    0.191785\n",
       "2017-11-08 03:20:00   -0.001500\n",
       "dtype: float64"
      ]
     },
     "execution_count": 12,
     "metadata": {},
     "output_type": "execute_result"
    }
   ],
   "source": [
    "posret_sr = returns.from_positions(rate_sr, position_sr, 0.0015)\n",
    "posret_sr.head()"
   ]
  },
  {
   "cell_type": "markdown",
   "metadata": {},
   "source": [
    "Position returns series (`posret`) inherits the structure of the position series and make them redundant. Because we apply fees, we get negative returns on long. If fees are zero, returns on long are also zero, but still included in the series. "
   ]
  },
  {
   "cell_type": "markdown",
   "metadata": {},
   "source": [
    "Generate hold returns."
   ]
  },
  {
   "cell_type": "code",
   "execution_count": 13,
   "metadata": {},
   "outputs": [
    {
     "data": {
      "text/plain": [
       "2017-10-18 01:05:00   -0.001500\n",
       "2017-11-17 00:55:00    0.431932\n",
       "dtype: float64"
      ]
     },
     "execution_count": 13,
     "metadata": {},
     "output_type": "execute_result"
    }
   ],
   "source": [
    "returns.on_hold(rate_sr, 0.0015)"
   ]
  },
  {
   "cell_type": "code",
   "execution_count": 39,
   "metadata": {},
   "outputs": [
    {
     "data": {
      "image/png": "[encoded data removed]",
      "text/plain": [
       "<matplotlib.figure.Figure at 0x1024ce5f8>"
      ]
     },
     "metadata": {},
     "output_type": "display_data"
    }
   ],
   "source": [
    "returns.plot(posret_sr)"
   ]
  },
  {
   "cell_type": "markdown",
   "metadata": {},
   "source": [
    "# equity"
   ]
  },
  {
   "cell_type": "code",
   "execution_count": 15,
   "metadata": {
    "collapsed": true
   },
   "outputs": [],
   "source": [
    "from vectorbt import equity"
   ]
  },
  {
   "cell_type": "markdown",
   "metadata": {},
   "source": [
    "Generate equity in base and quote currency from position returns"
   ]
  },
  {
   "cell_type": "code",
   "execution_count": 16,
   "metadata": {},
   "outputs": [
    {
     "data": {
      "text/html": [
       "<div>\n",
       "<style>\n",
       "    .dataframe thead tr:only-child th {\n",
       "        text-align: right;\n",
       "    }\n",
       "\n",
       "    .dataframe thead th {\n",
       "        text-align: left;\n",
       "    }\n",
       "\n",
       "    .dataframe tbody tr th {\n",
       "        vertical-align: top;\n",
       "    }\n",
       "</style>\n",
       "<table border=\"1\" class=\"dataframe\">\n",
       "  <thead>\n",
       "    <tr style=\"text-align: right;\">\n",
       "      <th></th>\n",
       "      <th>base</th>\n",
       "      <th>quote</th>\n",
       "    </tr>\n",
       "    <tr>\n",
       "      <th>date</th>\n",
       "      <th></th>\n",
       "      <th></th>\n",
       "    </tr>\n",
       "  </thead>\n",
       "  <tbody>\n",
       "    <tr>\n",
       "      <th>2017-10-18 01:05:00</th>\n",
       "      <td>NaN</td>\n",
       "      <td>NaN</td>\n",
       "    </tr>\n",
       "    <tr>\n",
       "      <th>2017-10-18 01:10:00</th>\n",
       "      <td>NaN</td>\n",
       "      <td>NaN</td>\n",
       "    </tr>\n",
       "    <tr>\n",
       "      <th>2017-10-18 01:15:00</th>\n",
       "      <td>NaN</td>\n",
       "      <td>NaN</td>\n",
       "    </tr>\n",
       "    <tr>\n",
       "      <th>2017-10-18 01:20:00</th>\n",
       "      <td>NaN</td>\n",
       "      <td>NaN</td>\n",
       "    </tr>\n",
       "    <tr>\n",
       "      <th>2017-10-18 01:25:00</th>\n",
       "      <td>NaN</td>\n",
       "      <td>NaN</td>\n",
       "    </tr>\n",
       "  </tbody>\n",
       "</table>\n",
       "</div>"
      ],
      "text/plain": [
       "                     base  quote\n",
       "date                            \n",
       "2017-10-18 01:05:00   NaN    NaN\n",
       "2017-10-18 01:10:00   NaN    NaN\n",
       "2017-10-18 01:15:00   NaN    NaN\n",
       "2017-10-18 01:20:00   NaN    NaN\n",
       "2017-10-18 01:25:00   NaN    NaN"
      ]
     },
     "execution_count": 16,
     "metadata": {},
     "output_type": "execute_result"
    }
   ],
   "source": [
    "equity_df = equity.from_returns(rate_sr, posret_sr)\n",
    "equity_df.head()"
   ]
  },
  {
   "cell_type": "markdown",
   "metadata": {},
   "source": [
    "Base and quote are NaN before the first entry or if no positions were taken"
   ]
  },
  {
   "cell_type": "markdown",
   "metadata": {},
   "source": [
    "Visualize both equities"
   ]
  },
  {
   "cell_type": "code",
   "execution_count": 40,
   "metadata": {},
   "outputs": [
    {
     "data": {
      "image/png": "[encoded data removed]",
      "text/plain": [
       "<matplotlib.figure.Figure at 0x112b6ba20>"
      ]
     },
     "metadata": {},
     "output_type": "display_data"
    },
    {
     "data": {
      "image/png": "[encoded data removed]",
      "text/plain": [
       "<matplotlib.figure.Figure at 0x112cb4d30>"
      ]
     },
     "metadata": {},
     "output_type": "display_data"
    }
   ],
   "source": [
    "equity.plot(rate_sr, equity_df)"
   ]
  },
  {
   "cell_type": "markdown",
   "metadata": {},
   "source": [
    "Equity diffs (`eqd`) are absolute returns if initial investment was 1. They are used in calculation of performance and risk/profit indicators such as sharpe ratio."
   ]
  },
  {
   "cell_type": "code",
   "execution_count": 18,
   "metadata": {},
   "outputs": [
    {
     "data": {
      "text/plain": [
       "date\n",
       "2017-10-20 15:00:00   -0.001500\n",
       "2017-10-22 05:05:00   -0.020353\n",
       "2017-10-26 12:40:00   -0.001467\n",
       "2017-11-06 17:55:00    0.187313\n",
       "2017-11-08 03:20:00   -0.001746\n",
       "dtype: float64"
      ]
     },
     "execution_count": 18,
     "metadata": {},
     "output_type": "execute_result"
    }
   ],
   "source": [
    "eqd_sr = equity.diff_on_positions(posret_sr)\n",
    "eqd_sr.head()"
   ]
  },
  {
   "cell_type": "markdown",
   "metadata": {},
   "source": [
    "# indicators"
   ]
  },
  {
   "cell_type": "markdown",
   "metadata": {},
   "source": [
    "Every indicator uses equity diffs as input"
   ]
  },
  {
   "cell_type": "code",
   "execution_count": 19,
   "metadata": {
    "collapsed": true
   },
   "outputs": [],
   "source": [
    "from vectorbt import indicators\n",
    "import json"
   ]
  },
  {
   "cell_type": "code",
   "execution_count": 20,
   "metadata": {},
   "outputs": [
    {
     "name": "stdout",
     "output_type": "stream",
     "text": [
      "{\n",
      "  \"backtest\": {\n",
      "    \"from\": \"2017-10-20 15:00:00\",\n",
      "    \"to\": \"2017-11-17 00:55:00\",\n",
      "    \"days\": 27,\n",
      "    \"trades\": 12\n",
      "  },\n",
      "  \"performance\": {\n",
      "    \"profit\": 0.2534775557074982,\n",
      "    \"averages\": {\n",
      "      \"trade\": 0.04384327473120094,\n",
      "      \"gain\": 0.13252826554214925,\n",
      "      \"loss\": 0.04484171607974737\n",
      "    },\n",
      "    \"winrate\": 0.5,\n",
      "    \"payoff\": 2.955468191860865,\n",
      "    \"PF\": 2.955468191860865,\n",
      "    \"RF\": 2.304056050263826\n",
      "  },\n",
      "  \"risk/return profile\": {\n",
      "    \"sharpe\": 4.514681302898083,\n",
      "    \"sortino\": 11.908694273740123,\n",
      "    \"maxdd\": 0.1141724170977021\n",
      "  }\n",
      "}\n"
     ]
    }
   ],
   "source": [
    "indicators.print_summary(eqd_sr)"
   ]
  },
  {
   "cell_type": "markdown",
   "metadata": {},
   "source": [
    "# optimizer.gridsearch"
   ]
  },
  {
   "cell_type": "markdown",
   "metadata": {},
   "source": [
    "The classic optimization method is grid search (or exhaustive search). It exhaustively generates candidates from a grid of parameter values and applies them on the series. \n",
    "\n",
    "This method brings some advantages:\n",
    "- its simple to implement\n",
    "- 2d-combinations can be visualized using heatmaps\n",
    "- can be used to discover hidden patterns in combinations\n",
    "- highly parallelizable\n",
    "\n",
    "But also drawbacks are possible:\n",
    "- not flexible enough to fit changing financial markets\n",
    "- prone to overfitting\n",
    "- no intermediate feedback"
   ]
  },
  {
   "cell_type": "markdown",
   "metadata": {},
   "source": [
    "**Grid search consists of 5 levels:**\n",
    "\n",
    "| Level | Operation | Result | Use cases |\n",
    "|-|-|-|-|\n",
    "| L1 | Calculate positions | `posmap` (dict) | Transformed into returns, equity or equity diffs |\n",
    "| L2 | Calculate equity diffs | `eqdmap` (dict) | Used in calculation of indicators |\n",
    "| L3 | Apply KPIs | `kpimap_sr` (series) | Used in comparing strategies, building a score or a matrix |\n",
    "| L4 | Bind KPIs into a score | `scoremap_sr` (series) | Takes into account and examines multiple KPIs |\n",
    "| L5 | Convert into a matrix | `matrix_df` (dataframe) | Constructs a heatmap |"
   ]
  },
  {
   "cell_type": "markdown",
   "metadata": {},
   "source": [
    "At the end we will be able to compare performance of different trading strategies."
   ]
  },
  {
   "cell_type": "markdown",
   "metadata": {},
   "source": [
    "## L1\n",
    "## posmap"
   ]
  },
  {
   "cell_type": "markdown",
   "metadata": {},
   "source": [
    "Position series keyed by parameter combinations"
   ]
  },
  {
   "cell_type": "code",
   "execution_count": 21,
   "metadata": {
    "collapsed": true
   },
   "outputs": [],
   "source": [
    "from vectorbt.optimizer.gridsearch import posmap"
   ]
  },
  {
   "cell_type": "markdown",
   "metadata": {},
   "source": [
    "Generate combinations of fast and slow SMA (from 1 to 100) and their resulting positions"
   ]
  },
  {
   "cell_type": "code",
   "execution_count": 22,
   "metadata": {},
   "outputs": [
    {
     "name": "stdout",
     "output_type": "stream",
     "text": [
      "ma-posmap\n",
      "setup: ma_func = sma, th = (0.01, 0.01)\n",
      "grid: 1.000000 -> 100.000000 = 5050\n",
      "calcs: 5050 (~10.68s)\n",
      "passed. 6.44s\n"
     ]
    }
   ],
   "source": [
    "sma_posmap = posmap.ma(rate_sr, 1, 100, 1, (0.01, 0.01), strategy.sma)"
   ]
  },
  {
   "cell_type": "markdown",
   "metadata": {},
   "source": [
    "Generate random positions of magnitude similar to the map above (to be comparable)"
   ]
  },
  {
   "cell_type": "code",
   "execution_count": 23,
   "metadata": {},
   "outputs": [
    {
     "name": "stdout",
     "output_type": "stream",
     "text": [
      "random-posmap\n",
      "setup: positions = ~26, N = 5050\n",
      "calcs: 5050 (~11.23s)\n",
      "passed. 3.58s\n"
     ]
    }
   ],
   "source": [
    "import math\n",
    "n = math.ceil(np.median([len(pos_sr.index) for pos_sr in sma_posmap.values() if len(pos_sr.index) > 0]))\n",
    "N = len(sma_posmap)\n",
    "random_posmap = posmap.random(rate_sr, n, N)"
   ]
  },
  {
   "cell_type": "markdown",
   "metadata": {},
   "source": [
    "## L2\n",
    "## eqdmap"
   ]
  },
  {
   "cell_type": "markdown",
   "metadata": {},
   "source": [
    "Translate each position series in the `posmap` into equity diffs"
   ]
  },
  {
   "cell_type": "code",
   "execution_count": 24,
   "metadata": {
    "collapsed": true
   },
   "outputs": [],
   "source": [
    "from vectorbt.optimizer.gridsearch import eqdmap"
   ]
  },
  {
   "cell_type": "code",
   "execution_count": 25,
   "metadata": {},
   "outputs": [
    {
     "name": "stdout",
     "output_type": "stream",
     "text": [
      "eqdmap\n",
      "setup: fees = 0.001500\n",
      "calcs: 5050 (~33.09s)\n",
      "passed. 12.78s\n"
     ]
    }
   ],
   "source": [
    "sma_eqdmap = eqdmap.from_posmap(rate_sr, sma_posmap, 0.0015)"
   ]
  },
  {
   "cell_type": "code",
   "execution_count": 26,
   "metadata": {},
   "outputs": [
    {
     "name": "stdout",
     "output_type": "stream",
     "text": [
      "eqdmap\n",
      "setup: fees = 0.001500\n",
      "calcs: 5050 (~26.63s)\n",
      "passed. 12.97s\n"
     ]
    }
   ],
   "source": [
    "random_eqdmap = eqdmap.from_posmap(rate_sr, random_posmap, 0.0015)"
   ]
  },
  {
   "cell_type": "markdown",
   "metadata": {},
   "source": [
    "## L3 \n",
    "## kpimap"
   ]
  },
  {
   "cell_type": "markdown",
   "metadata": {},
   "source": [
    "Apply indicator (KPI) on each equity diffs series in the `eqdmap`"
   ]
  },
  {
   "cell_type": "code",
   "execution_count": 27,
   "metadata": {
    "collapsed": true
   },
   "outputs": [],
   "source": [
    "from vectorbt.optimizer.gridsearch import kpimap"
   ]
  },
  {
   "cell_type": "code",
   "execution_count": 28,
   "metadata": {},
   "outputs": [
    {
     "name": "stdout",
     "output_type": "stream",
     "text": [
      "expectancy-kpimap\n",
      "calcs: 5050 (~2.06s)\n",
      "min (2, 3): -0.12458152267\n",
      "max (9, 11): 0.35080186388\n",
      "passed. 0.50s\n"
     ]
    }
   ],
   "source": [
    "sma1_kpimap_sr = kpimap.from_eqdmap(sma_eqdmap, indicators.expectancy)"
   ]
  },
  {
   "cell_type": "code",
   "execution_count": 29,
   "metadata": {},
   "outputs": [
    {
     "name": "stdout",
     "output_type": "stream",
     "text": [
      "sharpe-kpimap\n",
      "calcs: 5050 (~13.27s)\n",
      "min (44, 60): -18.1303482422\n",
      "max (76, 100): 13.5725193112\n",
      "passed. 6.13s\n"
     ]
    }
   ],
   "source": [
    "sma2_kpimap_sr = kpimap.from_eqdmap(sma_eqdmap, indicators.sharpe)"
   ]
  },
  {
   "cell_type": "code",
   "execution_count": 30,
   "metadata": {},
   "outputs": [
    {
     "name": "stdout",
     "output_type": "stream",
     "text": [
      "expectancy-kpimap\n",
      "calcs: 5050 (~2.12s)\n",
      "min 1343: -0.0268727579406\n",
      "max 3522: 0.0874531713932\n",
      "passed. 0.55s\n"
     ]
    }
   ],
   "source": [
    "random_kpimap_sr = kpimap.from_eqdmap(random_eqdmap, indicators.expectancy)"
   ]
  },
  {
   "cell_type": "markdown",
   "metadata": {},
   "source": [
    "Compare KPI maps on basic properties and quantiles distribution"
   ]
  },
  {
   "cell_type": "code",
   "execution_count": 31,
   "metadata": {},
   "outputs": [
    {
     "name": "stdout",
     "output_type": "stream",
     "text": [
      "    count      mean       std       min       25%       50%       75%  \\\n",
      "0  5050.0  0.013509  0.012067 -0.026873  0.005048  0.012610  0.020920   \n",
      "1  4543.0  0.067841  0.093817 -0.124582  0.007866  0.017636  0.081325   \n",
      "\n",
      "        max  \n",
      "0  0.087453  \n",
      "1  0.350802  \n"
     ]
    },
    {
     "data": {
      "image/png": "[encoded data removed]",
      "text/plain": [
       "<matplotlib.figure.Figure at 0x1122d9e10>"
      ]
     },
     "metadata": {},
     "output_type": "display_data"
    }
   ],
   "source": [
    "kpimap.compare(random_kpimap_sr, sma1_kpimap_sr)"
   ]
  },
  {
   "cell_type": "markdown",
   "metadata": {},
   "source": [
    "## L4\n",
    "## scoremap"
   ]
  },
  {
   "cell_type": "markdown",
   "metadata": {},
   "source": [
    "Take into account multiple weighted indicators and generate a score from 1 to 100"
   ]
  },
  {
   "cell_type": "code",
   "execution_count": 32,
   "metadata": {
    "collapsed": true
   },
   "outputs": [],
   "source": [
    "from vectorbt.optimizer.gridsearch import scoremap"
   ]
  },
  {
   "cell_type": "code",
   "execution_count": 33,
   "metadata": {},
   "outputs": [
    {
     "name": "stdout",
     "output_type": "stream",
     "text": [
      "1-100-scoremap\n",
      "min (1, 1): 1.0\n",
      "max (76, 100): 99.2920469526\n",
      "passed. 0.01s\n"
     ]
    }
   ],
   "source": [
    "sma_scoremap_sr = scoremap.from_kpimaps([sma1_kpimap_sr, sma2_kpimap_sr], [2/3, 1/3], [False, False])"
   ]
  },
  {
   "cell_type": "markdown",
   "metadata": {},
   "source": [
    "## L5 \n",
    "## matrix"
   ]
  },
  {
   "cell_type": "markdown",
   "metadata": {},
   "source": [
    "Reshape 2d-parameter grid into a matrix and display as a heatmap"
   ]
  },
  {
   "cell_type": "code",
   "execution_count": 34,
   "metadata": {
    "collapsed": true
   },
   "outputs": [],
   "source": [
    "from vectorbt.optimizer.gridsearch import matrix"
   ]
  },
  {
   "cell_type": "code",
   "execution_count": 35,
   "metadata": {},
   "outputs": [
    {
     "name": "stdout",
     "output_type": "stream",
     "text": [
      "100-100-matrix\n",
      "passed. 1.42s\n"
     ]
    }
   ],
   "source": [
    "sma_matrix_df = matrix.from_map(sma1_kpimap_sr, symmetric=True).fillna(0)"
   ]
  },
  {
   "cell_type": "code",
   "execution_count": 36,
   "metadata": {
    "scrolled": false
   },
   "outputs": [
    {
     "data": {
      "image/png": "[encoded data removed]",
      "text/plain": [
       "<matplotlib.figure.Figure at 0x1024ce278>"
      ]
     },
     "metadata": {},
     "output_type": "display_data"
    },
    {
     "data": {
      "image/png": "[encoded data removed]",
      "text/plain": [
       "<matplotlib.figure.Figure at 0x1123f5a20>"
      ]
     },
     "metadata": {},
     "output_type": "display_data"
    }
   ],
   "source": [
    "cmap, norm = graphics.discrete_cmap([-1, 0, 0.15, 1], ['gold', 'grey', 'limegreen'])\n",
    "matrix.plot(sma_matrix_df, cmap, norm)\n",
    "matplotlib.rcParams['figure.figsize'] = (12, 5)\n",
    "graphics.plot_hist(sma_matrix_df, cmap, norm)\n",
    "matplotlib.rcParams['figure.figsize'] = (12, 9)"
   ]
  },
  {
   "cell_type": "markdown",
   "metadata": {},
   "source": [
    "Compare KPI distribution to that of random map"
   ]
  },
  {
   "cell_type": "code",
   "execution_count": 37,
   "metadata": {},
   "outputs": [
    {
     "data": {
      "image/png": "[encoded data removed]",
      "text/plain": [
       "<matplotlib.figure.Figure at 0x1024cef98>"
      ]
     },
     "metadata": {},
     "output_type": "display_data"
    }
   ],
   "source": [
    "graphics.plot_hist(random_kpimap_sr, cmap, norm)"
   ]
  },
  {
   "cell_type": "code",
   "execution_count": null,
   "metadata": {
    "collapsed": true
   },
   "outputs": [],
   "source": []
  }
 ],
 "metadata": {
  "anaconda-cloud": {},
  "kernelspec": {
   "display_name": "Python [conda root]",
   "language": "python",
   "name": "conda-root-py"
  },
  "language_info": {
   "codemirror_mode": {
    "name": "ipython",
    "version": 3
   },
   "file_extension": ".py",
   "mimetype": "text/x-python",
   "name": "python",
   "nbconvert_exporter": "python",
   "pygments_lexer": "ipython3",
   "version": "3.6.1"
  }
 },
 "nbformat": 4,
 "nbformat_minor": 2
}
