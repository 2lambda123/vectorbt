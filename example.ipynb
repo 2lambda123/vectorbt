{
 "cells": [
  {
   "cell_type": "code",
   "execution_count": 1,
   "metadata": {
    "collapsed": true
   },
   "outputs": [],
   "source": [
    "import vectorbt as vbt\n",
    "import numpy as np\n",
    "import pandas as pd"
   ]
  },
  {
   "cell_type": "code",
   "execution_count": 2,
   "metadata": {
    "collapsed": true
   },
   "outputs": [],
   "source": [
    "import matplotlib\n",
    "from matplotlib import pyplot as plt\n",
    "matplotlib.rcParams['figure.figsize'] = (12, 5)"
   ]
  },
  {
   "cell_type": "markdown",
   "metadata": {},
   "source": [
    "# data"
   ]
  },
  {
   "cell_type": "markdown",
   "metadata": {},
   "source": [
    "Load OHLC data from cryptocurrency exchange Poloniex."
   ]
  },
  {
   "cell_type": "code",
   "execution_count": 3,
   "metadata": {
    "scrolled": true
   },
   "outputs": [
    {
     "name": "stdout",
     "output_type": "stream",
     "text": [
      "done. 0.88s\n"
     ]
    },
    {
     "data": {
      "text/html": [
       "<div>\n",
       "<style>\n",
       "    .dataframe thead tr:only-child th {\n",
       "        text-align: right;\n",
       "    }\n",
       "\n",
       "    .dataframe thead th {\n",
       "        text-align: left;\n",
       "    }\n",
       "\n",
       "    .dataframe tbody tr th {\n",
       "        vertical-align: top;\n",
       "    }\n",
       "</style>\n",
       "<table border=\"1\" class=\"dataframe\">\n",
       "  <thead>\n",
       "    <tr style=\"text-align: right;\">\n",
       "      <th></th>\n",
       "      <th>O</th>\n",
       "      <th>H</th>\n",
       "      <th>L</th>\n",
       "      <th>C</th>\n",
       "      <th>V</th>\n",
       "    </tr>\n",
       "    <tr>\n",
       "      <th>date</th>\n",
       "      <th></th>\n",
       "      <th></th>\n",
       "      <th></th>\n",
       "      <th></th>\n",
       "      <th></th>\n",
       "    </tr>\n",
       "  </thead>\n",
       "  <tbody>\n",
       "    <tr>\n",
       "      <th>2016-12-03</th>\n",
       "      <td>775.725531</td>\n",
       "      <td>776.775836</td>\n",
       "      <td>756.776947</td>\n",
       "      <td>764.259738</td>\n",
       "      <td>215171.174707</td>\n",
       "    </tr>\n",
       "    <tr>\n",
       "      <th>2016-12-04</th>\n",
       "      <td>767.515373</td>\n",
       "      <td>772.500000</td>\n",
       "      <td>761.972809</td>\n",
       "      <td>771.797999</td>\n",
       "      <td>147413.035809</td>\n",
       "    </tr>\n",
       "    <tr>\n",
       "      <th>2016-12-05</th>\n",
       "      <td>771.797999</td>\n",
       "      <td>772.963000</td>\n",
       "      <td>747.000000</td>\n",
       "      <td>753.340000</td>\n",
       "      <td>552583.819494</td>\n",
       "    </tr>\n",
       "    <tr>\n",
       "      <th>2016-12-06</th>\n",
       "      <td>753.499996</td>\n",
       "      <td>763.517010</td>\n",
       "      <td>748.873104</td>\n",
       "      <td>758.210223</td>\n",
       "      <td>659929.997652</td>\n",
       "    </tr>\n",
       "    <tr>\n",
       "      <th>2016-12-07</th>\n",
       "      <td>757.816490</td>\n",
       "      <td>770.500000</td>\n",
       "      <td>753.000000</td>\n",
       "      <td>766.089390</td>\n",
       "      <td>307676.745397</td>\n",
       "    </tr>\n",
       "  </tbody>\n",
       "</table>\n",
       "</div>"
      ],
      "text/plain": [
       "                     O           H           L           C              V\n",
       "date                                                                     \n",
       "2016-12-03  775.725531  776.775836  756.776947  764.259738  215171.174707\n",
       "2016-12-04  767.515373  772.500000  761.972809  771.797999  147413.035809\n",
       "2016-12-05  771.797999  772.963000  747.000000  753.340000  552583.819494\n",
       "2016-12-06  753.499996  763.517010  748.873104  758.210223  659929.997652\n",
       "2016-12-07  757.816490  770.500000  753.000000  766.089390  307676.745397"
      ]
     },
     "execution_count": 3,
     "metadata": {},
     "output_type": "execute_result"
    }
   ],
   "source": [
    "ohlc_df = vbt.data.load_cryptopair('USDT_BTC', vbt.data.ago_dt(days=360), vbt.data.now_dt(), period=86400)\n",
    "ohlc_df.head()"
   ]
  },
  {
   "cell_type": "code",
   "execution_count": 4,
   "metadata": {
    "collapsed": true
   },
   "outputs": [],
   "source": [
    "# No future data\n",
    "rate_sr = ohlc_df.O"
   ]
  },
  {
   "cell_type": "code",
   "execution_count": 5,
   "metadata": {
    "collapsed": true
   },
   "outputs": [],
   "source": [
    "# Fees and slippage\n",
    "fees = 0.025\n",
    "slippage_factor = 0.25\n",
    "slippage = (ohlc_df['H'] - ohlc_df['L']) * slippage_factor / rate_sr"
   ]
  },
  {
   "cell_type": "code",
   "execution_count": 6,
   "metadata": {},
   "outputs": [
    {
     "name": "stdout",
     "output_type": "stream",
     "text": [
      "   count         mean          std         min          25%         50%  \\\n",
      "O  360.0  2696.170061  1967.162003  753.499996  1058.935004  2206.45365   \n",
      "\n",
      "      75%          max  \n",
      "O  4063.5  9284.336588  \n"
     ]
    },
    {
     "data": {
      "image/png": "[encoded data removed]",
      "text/plain": [
       "<matplotlib.figure.Figure at 0x10fc7b898>"
      ]
     },
     "metadata": {},
     "output_type": "display_data"
    }
   ],
   "source": [
    "vbt.graphics.plot_line(rate_sr)"
   ]
  },
  {
   "cell_type": "markdown",
   "metadata": {},
   "source": [
    "# indicators"
   ]
  },
  {
   "cell_type": "markdown",
   "metadata": {},
   "source": [
    "Calculate EMA indicators."
   ]
  },
  {
   "cell_type": "code",
   "execution_count": 7,
   "metadata": {
    "collapsed": true
   },
   "outputs": [],
   "source": [
    "fast_ma_sr = vbt.indicators.EMA(rate_sr, 20)\n",
    "slow_ma_sr = vbt.indicators.EMA(rate_sr, 30)"
   ]
  },
  {
   "cell_type": "markdown",
   "metadata": {},
   "source": [
    "# signals"
   ]
  },
  {
   "cell_type": "markdown",
   "metadata": {},
   "source": [
    "Generate signals based on conditions."
   ]
  },
  {
   "cell_type": "markdown",
   "metadata": {},
   "source": [
    "    1. Go long whenever fast EMA is over slow EMA, while go short when opposite occurs."
   ]
  },
  {
   "cell_type": "code",
   "execution_count": 8,
   "metadata": {
    "collapsed": true
   },
   "outputs": [],
   "source": [
    "ma_entries = vbt.signals.DMAC_entries(fast_ma_sr, slow_ma_sr)\n",
    "ma_exits = vbt.signals.DMAC_exits(fast_ma_sr, slow_ma_sr)"
   ]
  },
  {
   "cell_type": "markdown",
   "metadata": {},
   "source": [
    "Both, entry and exit vectors, are sequences of 0 and 1 (bit-vectors) to allow fast vector operations."
   ]
  },
  {
   "cell_type": "markdown",
   "metadata": {},
   "source": [
    "We reduce both vectors to contain only signals that are first in their sequences, since we are looking for crossover."
   ]
  },
  {
   "cell_type": "code",
   "execution_count": 9,
   "metadata": {
    "collapsed": true
   },
   "outputs": [],
   "source": [
    "ma_entries = vbt.bitvector.first(ma_entries)\n",
    "ma_exits = vbt.bitvector.first(ma_exits)"
   ]
  },
  {
   "cell_type": "markdown",
   "metadata": {},
   "source": [
    "    2. Go short whenever price drops by 10%."
   ]
  },
  {
   "cell_type": "code",
   "execution_count": 10,
   "metadata": {
    "collapsed": true
   },
   "outputs": [],
   "source": [
    "trailstop_exits = vbt.signals.trailstop_exits(rate_sr, ma_entries, 0.1 * rate_sr)"
   ]
  },
  {
   "cell_type": "markdown",
   "metadata": {},
   "source": [
    "Combine MA exit strategy with trailing stop and pick every first exit out of sequence."
   ]
  },
  {
   "cell_type": "code",
   "execution_count": 11,
   "metadata": {},
   "outputs": [],
   "source": [
    "ma_exits = vbt.bitvector.OR(ma_exits, trailstop_exits)\n",
    "ma_exits = vbt.bitvector.first(ma_exits)"
   ]
  },
  {
   "cell_type": "markdown",
   "metadata": {},
   "source": [
    "To apply an additional filter, generate your own bit-vector and use `vector.AND/OR/XOR` operations."
   ]
  },
  {
   "cell_type": "markdown",
   "metadata": {},
   "source": [
    "# positions"
   ]
  },
  {
   "cell_type": "markdown",
   "metadata": {},
   "source": [
    "Generete positions out of both vectors (merge and reduce)."
   ]
  },
  {
   "cell_type": "code",
   "execution_count": 12,
   "metadata": {},
   "outputs": [
    {
     "data": {
      "text/plain": [
       "date\n",
       "2016-12-17    1\n",
       "2017-01-06   -1\n",
       "2017-04-07    1\n",
       "2017-05-27   -1\n",
       "2017-07-23    1\n",
       "dtype: int64"
      ]
     },
     "execution_count": 12,
     "metadata": {},
     "output_type": "execute_result"
    }
   ],
   "source": [
    "pos_sr = vbt.positions.from_signals(rate_sr, ma_entries, ma_exits)\n",
    "pos_sr.head()"
   ]
  },
  {
   "cell_type": "markdown",
   "metadata": {},
   "source": [
    "Position series is a binary series, where 1 = going long and -1 = going short. There is no two long/short positions in a row, since we want a clean way to evaluate a strategy (only the logic of a strategy must have an impact on the equity, not the investment size or its distribution)"
   ]
  },
  {
   "cell_type": "markdown",
   "metadata": {},
   "source": [
    "Visualize entries and exits."
   ]
  },
  {
   "cell_type": "code",
   "execution_count": 13,
   "metadata": {},
   "outputs": [
    {
     "name": "stdout",
     "output_type": "stream",
     "text": [
      "   count       mean          std         min        25%         50%  \\\n",
      "0    4.0  754.16367  1081.787385 -320.649353  82.197662  578.931816   \n",
      "\n",
      "           75%        max  \n",
      "0  1250.897824  2179.4404  \n"
     ]
    },
    {
     "data": {
      "image/png": "[encoded data removed]",
      "text/plain": [
       "<matplotlib.figure.Figure at 0x10fdb6828>"
      ]
     },
     "metadata": {},
     "output_type": "display_data"
    }
   ],
   "source": [
    "vbt.positions.plot(rate_sr, pos_sr)"
   ]
  },
  {
   "cell_type": "markdown",
   "metadata": {},
   "source": [
    "# equity"
   ]
  },
  {
   "cell_type": "markdown",
   "metadata": {},
   "source": [
    "Generate equity from positions, based on fees and slippage."
   ]
  },
  {
   "cell_type": "code",
   "execution_count": 14,
   "metadata": {},
   "outputs": [
    {
     "data": {
      "text/plain": [
       "date\n",
       "2016-12-03   NaN\n",
       "2016-12-04   NaN\n",
       "2016-12-05   NaN\n",
       "2016-12-06   NaN\n",
       "2016-12-07   NaN\n",
       "dtype: float64"
      ]
     },
     "execution_count": 14,
     "metadata": {},
     "output_type": "execute_result"
    }
   ],
   "source": [
    "equity_sr = vbt.equity.from_positions(rate_sr, pos_sr, fees, slippage)\n",
    "equity_sr.head()"
   ]
  },
  {
   "cell_type": "markdown",
   "metadata": {},
   "source": [
    "Equity is NaN before the first entry or if no positions were taken."
   ]
  },
  {
   "cell_type": "markdown",
   "metadata": {},
   "source": [
    "Visualize base and quote equities."
   ]
  },
  {
   "cell_type": "code",
   "execution_count": 15,
   "metadata": {
    "scrolled": false
   },
   "outputs": [
    {
     "name": "stdout",
     "output_type": "stream",
     "text": [
      "base\n",
      "   count         mean          std         min          25%         50%  \\\n",
      "0  346.0 -1610.211377  1788.296945 -7716.89545 -2982.957051 -888.812016   \n",
      "\n",
      "          75%         max  \n",
      "0 -228.276504  119.438295  \n"
     ]
    },
    {
     "data": {
      "image/png": "[encoded data removed]",
      "text/plain": [
       "<matplotlib.figure.Figure at 0x113abce48>"
      ]
     },
     "metadata": {},
     "output_type": "display_data"
    },
    {
     "name": "stdout",
     "output_type": "stream",
     "text": [
      "quote\n",
      "   count      mean       std       min      25%       50%      75%       max\n",
      "0  346.0 -0.408648  0.272096 -0.831174 -0.72375 -0.387782 -0.20208  0.152763\n"
     ]
    },
    {
     "data": {
      "image/png": "[encoded data removed]",
      "text/plain": [
       "<matplotlib.figure.Figure at 0x113c64860>"
      ]
     },
     "metadata": {},
     "output_type": "display_data"
    }
   ],
   "source": [
    "vbt.equity.plot(rate_sr, equity_sr)"
   ]
  },
  {
   "cell_type": "markdown",
   "metadata": {},
   "source": [
    "# returns"
   ]
  },
  {
   "cell_type": "markdown",
   "metadata": {},
   "source": [
    "Generate returns."
   ]
  },
  {
   "cell_type": "code",
   "execution_count": 16,
   "metadata": {},
   "outputs": [
    {
     "data": {
      "text/plain": [
       "date\n",
       "2016-12-03    0.0\n",
       "2016-12-04    0.0\n",
       "2016-12-05    0.0\n",
       "2016-12-06    0.0\n",
       "2016-12-07    0.0\n",
       "dtype: float64"
      ]
     },
     "execution_count": 16,
     "metadata": {},
     "output_type": "execute_result"
    }
   ],
   "source": [
    "returns_sr = vbt.returns.from_equity(equity_sr)\n",
    "returns_sr.head()"
   ]
  },
  {
   "cell_type": "markdown",
   "metadata": {},
   "source": [
    "Draw returns."
   ]
  },
  {
   "cell_type": "code",
   "execution_count": 39,
   "metadata": {},
   "outputs": [
    {
     "name": "stdout",
     "output_type": "stream",
     "text": [
      "   count      mean      std       min  25%  50%       75%       max\n",
      "0   12.0  0.055104  0.15677 -0.188601  0.0  0.0  0.051269  0.354353\n"
     ]
    },
    {
     "data": {
      "image/png": "[encoded data removed]",
      "text/plain": [
       "<matplotlib.figure.Figure at 0x115c204a8>"
      ]
     },
     "metadata": {},
     "output_type": "display_data"
    }
   ],
   "source": [
    "vbt.returns.plot(vbt.returns.resample(returns_sr, 'M'))"
   ]
  },
  {
   "cell_type": "markdown",
   "metadata": {},
   "source": [
    "# performance"
   ]
  },
  {
   "cell_type": "markdown",
   "metadata": {},
   "source": [
    "Print summary of multiple KPIs applied on returns."
   ]
  },
  {
   "cell_type": "code",
   "execution_count": 21,
   "metadata": {},
   "outputs": [
    {
     "data": {
      "text/plain": [
       "distribution         count         360.000000\n",
       "                     mean            0.002330\n",
       "                     std             0.023948\n",
       "                     min            -0.174607\n",
       "                     25%             0.000000\n",
       "                     50%             0.000000\n",
       "                     75%             0.000000\n",
       "                     max             0.128133\n",
       "performance          profit          1.080915\n",
       "                     avggain         0.029386\n",
       "                     avgloss         0.033202\n",
       "                     winrate         0.644068\n",
       "                     expectancy      0.009160\n",
       "                     maxdd           0.392300\n",
       "risk/return profile  sharpe          0.097301\n",
       "                     sortino         0.062429\n",
       "dtype: float64"
      ]
     },
     "execution_count": 21,
     "metadata": {},
     "output_type": "execute_result"
    }
   ],
   "source": [
    "vbt.performance.summary(returns_sr)"
   ]
  },
  {
   "cell_type": "markdown",
   "metadata": {},
   "source": [
    "# optimizer.gridsearch"
   ]
  },
  {
   "cell_type": "markdown",
   "metadata": {},
   "source": [
    "The classic optimization method is grid search (or exhaustive search). It exhaustively generates candidates from a grid of parameter values and applies them on the series. \n",
    "\n",
    "This method brings some advantages:\n",
    "- its simple to implement\n",
    "- 2d-combinations can be visualized using heatmaps\n",
    "- can be used to discover hidden patterns in combinations\n",
    "- highly parallelizable\n",
    "\n",
    "But also drawbacks are possible:\n",
    "- not flexible enough to fit changing financial markets\n",
    "- prone to overfitting\n",
    "- no intermediate feedback"
   ]
  },
  {
   "cell_type": "markdown",
   "metadata": {},
   "source": [
    "**Grid search consists of 3-4 levels:**\n",
    "\n",
    "| Level | Motivation | Module | Structure |\n",
    "|-|-|-|-|\n",
    "| 1 | Calculate position/equity/returns maps | `srmap` | `{param: pd.Series}` |\n",
    "| 2 | Calculate KPIs | `nummap` | `pd.Series` |\n",
    "| 3 (optional) | Combine multiple KPIs into a single score and compare | `scoremap` | `pd.Series` |\n",
    "| 4 | Build heatmap to examine hidden patterns | `matrix` | `pd.DataFrame` |"
   ]
  },
  {
   "cell_type": "markdown",
   "metadata": {},
   "source": [
    "At the end we will be able to compare performance of different trading strategies."
   ]
  },
  {
   "cell_type": "markdown",
   "metadata": {},
   "source": [
    "## L1\n",
    "## srmap"
   ]
  },
  {
   "cell_type": "code",
   "execution_count": 22,
   "metadata": {},
   "outputs": [],
   "source": [
    "import vectorbt.optimizer.gridsearch as grids"
   ]
  },
  {
   "cell_type": "markdown",
   "metadata": {},
   "source": [
    "Calculate returns for a set of MA window combinations."
   ]
  },
  {
   "cell_type": "markdown",
   "metadata": {},
   "source": [
    "    1. Precalculate all MAs."
   ]
  },
  {
   "cell_type": "code",
   "execution_count": 23,
   "metadata": {},
   "outputs": [
    {
     "name": "stdout",
     "output_type": "stream",
     "text": [
      "cores: 4\n",
      "processes: 1\n",
      "starmap: False\n",
      "calcs: 100 (~0.09s) ..\n",
      "done. 0.03s\n"
     ]
    }
   ],
   "source": [
    "# Init\n",
    "ma_func = lambda window: vbt.indicators.SMA(rate_sr, window)\n",
    "min_ma, max_ma, step = 1, 100, 1\n",
    "fees = 0.0025\n",
    "\n",
    "# Cache moving averages\n",
    "param_range = grids.params.range_params(min_ma, max_ma, step)\n",
    "ma_cache = dict(grids.srmap.from_func(ma_func, param_range))"
   ]
  },
  {
   "cell_type": "markdown",
   "metadata": {},
   "source": [
    "    2. For each MA combination, generate position series."
   ]
  },
  {
   "cell_type": "code",
   "execution_count": 24,
   "metadata": {},
   "outputs": [],
   "source": [
    "# Params\n",
    "ma_space = grids.params.combine_rep_params(min_ma, max_ma, step, 2)\n",
    "\n",
    "# Func\n",
    "def ma_positions_func(fast_ma, slow_ma):\n",
    "    # Cache\n",
    "    fast_ma_sr = ma_cache[fast_ma]\n",
    "    slow_ma_sr = ma_cache[slow_ma]\n",
    "    # Signals\n",
    "    entries = vbt.signals.DMAC_entries(fast_ma_sr, slow_ma_sr)\n",
    "    entries = vbt.bitvector.first(entries)\n",
    "    exits = vbt.signals.DMAC_exits(fast_ma_sr, slow_ma_sr)\n",
    "    exits = vbt.bitvector.first(exits)\n",
    "    # Positions\n",
    "    pos_sr = vbt.positions.from_signals(rate_sr, entries, exits)\n",
    "    return pos_sr"
   ]
  },
  {
   "cell_type": "code",
   "execution_count": 25,
   "metadata": {},
   "outputs": [
    {
     "name": "stdout",
     "output_type": "stream",
     "text": [
      "cores: 4\n",
      "processes: 1\n",
      "starmap: True\n",
      "calcs: 5050 (~6.40s) ..\n",
      "done. 2.14s\n"
     ]
    }
   ],
   "source": [
    "ma_positions_srmap = grids.srmap.from_func(ma_positions_func, ma_space)"
   ]
  },
  {
   "cell_type": "markdown",
   "metadata": {},
   "source": [
    "    3. For each position series, generate returns series."
   ]
  },
  {
   "cell_type": "markdown",
   "metadata": {},
   "source": [
    "We need to separate position and returns calculation, since we need number of positions of each MA combination for a random map."
   ]
  },
  {
   "cell_type": "code",
   "execution_count": 26,
   "metadata": {
    "collapsed": true
   },
   "outputs": [],
   "source": [
    "def ma_returns_func(fast_ma, slow_ma):\n",
    "    # Equity\n",
    "    pos_sr = ma_positions_srmap[(fast_ma, slow_ma)]\n",
    "    equity_sr = vbt.equity.from_positions(rate_sr, pos_sr, fees, slippage)\n",
    "    # Returns\n",
    "    returns_sr = vbt.returns.from_equity(equity_sr)\n",
    "    return returns_sr"
   ]
  },
  {
   "cell_type": "code",
   "execution_count": 27,
   "metadata": {},
   "outputs": [
    {
     "name": "stdout",
     "output_type": "stream",
     "text": [
      "cores: 4\n",
      "processes: 1\n",
      "starmap: True\n",
      "calcs: 5050 (~18.03s) ..\n",
      "done. 6.11s\n"
     ]
    }
   ],
   "source": [
    "ma_returns_srmap = grids.srmap.from_func(ma_returns_func, ma_space)"
   ]
  },
  {
   "cell_type": "markdown",
   "metadata": {},
   "source": [
    "For each MA window combination generate random positions of same length and resulting returns. "
   ]
  },
  {
   "cell_type": "code",
   "execution_count": 28,
   "metadata": {},
   "outputs": [],
   "source": [
    "# Params\n",
    "random_space = [(fma, sma, len(np.flatnonzero(ma_positions_srmap[(fma, sma)].values))) for fma, sma in ma_space]\n",
    "\n",
    "# Func\n",
    "def random_returns_func(slow_ma, fast_ma, n):\n",
    "    # Positions\n",
    "    pos_sr = vbt.positions.random(rate_sr, n)\n",
    "    # Equity\n",
    "    equity_sr = vbt.equity.from_positions(rate_sr, pos_sr, fees, slippage)\n",
    "    # Returns\n",
    "    returns_sr = vbt.returns.from_equity(equity_sr)\n",
    "    return returns_sr"
   ]
  },
  {
   "cell_type": "code",
   "execution_count": 29,
   "metadata": {},
   "outputs": [
    {
     "name": "stdout",
     "output_type": "stream",
     "text": [
      "cores: 4\n",
      "processes: 1\n",
      "starmap: True\n",
      "calcs: 5050 (~19.66s) ..\n",
      "done. 7.60s\n"
     ]
    }
   ],
   "source": [
    "random_returns_srmap = grids.srmap.from_func(random_returns_func, random_space)"
   ]
  },
  {
   "cell_type": "markdown",
   "metadata": {},
   "source": [
    "## L2\n",
    "## nummap"
   ]
  },
  {
   "cell_type": "markdown",
   "metadata": {},
   "source": [
    "Apply KPI on each returns series."
   ]
  },
  {
   "cell_type": "code",
   "execution_count": 30,
   "metadata": {},
   "outputs": [
    {
     "name": "stdout",
     "output_type": "stream",
     "text": [
      "cores: 4\n",
      "processes: 1\n",
      "starmap: False\n",
      "calcs: 5050 (~6.33s) ..\n",
      "done. 2.09s\n",
      "min (1, 2): -0.861111779497\n",
      "max (71, 75): 9.24235482658\n"
     ]
    }
   ],
   "source": [
    "ma_profit_nummap = grids.nummap.from_srmap(ma_returns_srmap, vbt.performance.profit)"
   ]
  },
  {
   "cell_type": "code",
   "execution_count": 31,
   "metadata": {},
   "outputs": [
    {
     "name": "stdout",
     "output_type": "stream",
     "text": [
      "cores: 4\n",
      "processes: 1\n",
      "starmap: False\n",
      "calcs: 5050 (~1.44s) ..\n",
      "done. 0.40s\n",
      "min (1, 2): -0.117145867048\n",
      "max (9, 21): 0.189896139308\n"
     ]
    }
   ],
   "source": [
    "ma_sharpe_nummap = grids.nummap.from_srmap(ma_returns_srmap, vbt.performance.sharpe)"
   ]
  },
  {
   "cell_type": "code",
   "execution_count": 32,
   "metadata": {},
   "outputs": [
    {
     "name": "stdout",
     "output_type": "stream",
     "text": [
      "cores: 4\n",
      "processes: 1\n",
      "starmap: False\n",
      "calcs: 5050 (~8.38s) ..\n",
      "done. 2.18s\n",
      "min (1, 2, 178): -0.922487009445\n",
      "max (23, 34, 10): 9.9265900699\n"
     ]
    }
   ],
   "source": [
    "random_profit_nummap = grids.nummap.from_srmap(random_returns_srmap, vbt.performance.profit)"
   ]
  },
  {
   "cell_type": "markdown",
   "metadata": {},
   "source": [
    "Compare quantile distributions of EMA and random strategy."
   ]
  },
  {
   "cell_type": "code",
   "execution_count": 33,
   "metadata": {},
   "outputs": [
    {
     "name": "stdout",
     "output_type": "stream",
     "text": [
      "            count      mean       std       min       25%       50%       75%  \\\n",
      "nummap     5050.0  4.998990  1.932821 -0.861112  3.411675  5.012204  6.689282   \n",
      "benchmark  5050.0  1.668073  1.580335 -0.922487  0.499969  1.235097  2.383384   \n",
      "\n",
      "                max  \n",
      "nummap     9.242355  \n",
      "benchmark  9.926590  \n"
     ]
    },
    {
     "data": {
      "image/png": "[encoded data removed]",
      "text/plain": [
       "<matplotlib.figure.Figure at 0x11528e048>"
      ]
     },
     "metadata": {},
     "output_type": "display_data"
    }
   ],
   "source": [
    "grids.nummap.compare_quantiles(ma_profit_nummap, random_profit_nummap)"
   ]
  },
  {
   "cell_type": "markdown",
   "metadata": {},
   "source": [
    "Compare their KPI distributions."
   ]
  },
  {
   "cell_type": "code",
   "execution_count": 34,
   "metadata": {},
   "outputs": [
    {
     "name": "stdout",
     "output_type": "stream",
     "text": [
      "            count      mean       std       min       25%       50%       75%  \\\n",
      "nummap     5050.0  4.998990  1.932821 -0.861112  3.411675  5.012204  6.689282   \n",
      "benchmark  5050.0  1.668073  1.580335 -0.922487  0.499969  1.235097  2.383384   \n",
      "\n",
      "                max  \n",
      "nummap     9.242355  \n",
      "benchmark  9.926590  \n"
     ]
    },
    {
     "data": {
      "image/png": "[encoded data removed]",
      "text/plain": [
       "<matplotlib.figure.Figure at 0x11528e4e0>"
      ]
     },
     "metadata": {},
     "output_type": "display_data"
    },
    {
     "data": {
      "image/png": "[encoded data removed]",
      "text/plain": [
       "<matplotlib.figure.Figure at 0x113c46978>"
      ]
     },
     "metadata": {},
     "output_type": "display_data"
    }
   ],
   "source": [
    "cmap = plt.cm.rainbow_r\n",
    "norm = plt.Normalize()\n",
    "grids.nummap.compare_hists(ma_profit_nummap, random_profit_nummap, 50, cmap, norm)"
   ]
  },
  {
   "cell_type": "markdown",
   "metadata": {},
   "source": [
    "## L3\n",
    "## scoremap"
   ]
  },
  {
   "cell_type": "markdown",
   "metadata": {},
   "source": [
    "Take into account multiple weighted KPIs and generate a score from 1 to 100."
   ]
  },
  {
   "cell_type": "code",
   "execution_count": 35,
   "metadata": {},
   "outputs": [
    {
     "name": "stdout",
     "output_type": "stream",
     "text": [
      "done. 0.01s\n",
      "min (1, 2): 1.0\n",
      "max (71, 75): 98.4897365643\n"
     ]
    }
   ],
   "source": [
    "ma_scoremap = grids.scoremap.from_nummaps([ma_profit_nummap, ma_sharpe_nummap], [2/3, 1/3], [False, False])"
   ]
  },
  {
   "cell_type": "markdown",
   "metadata": {},
   "source": [
    "## L4\n",
    "## matrix"
   ]
  },
  {
   "cell_type": "markdown",
   "metadata": {},
   "source": [
    "Reshape 2d-parameter grid into a matrix."
   ]
  },
  {
   "cell_type": "code",
   "execution_count": 36,
   "metadata": {},
   "outputs": [
    {
     "name": "stdout",
     "output_type": "stream",
     "text": [
      "done. 1.40s\n"
     ]
    }
   ],
   "source": [
    "ma_matrix = grids.matrix.from_nummap(ma_profit_nummap, symmetric=True).fillna(0)"
   ]
  },
  {
   "cell_type": "markdown",
   "metadata": {},
   "source": [
    "Display as a heatmap."
   ]
  },
  {
   "cell_type": "code",
   "execution_count": 37,
   "metadata": {
    "scrolled": false
   },
   "outputs": [
    {
     "data": {
      "image/png": "[encoded data removed]",
      "text/plain": [
       "<matplotlib.figure.Figure at 0x1158cecc0>"
      ]
     },
     "metadata": {},
     "output_type": "display_data"
    }
   ],
   "source": [
    "cmap = plt.cm.rainbow_r\n",
    "norm = plt.Normalize()\n",
    "matplotlib.rcParams['figure.figsize'] = (12, 9)\n",
    "grids.matrix.plot(ma_matrix, cmap, norm)\n",
    "matplotlib.rcParams['figure.figsize'] = (12, 5)"
   ]
  },
  {
   "cell_type": "code",
   "execution_count": null,
   "metadata": {
    "collapsed": true
   },
   "outputs": [],
   "source": []
  }
 ],
 "metadata": {
  "anaconda-cloud": {},
  "kernelspec": {
   "display_name": "Python [conda root]",
   "language": "python",
   "name": "conda-root-py"
  },
  "language_info": {
   "codemirror_mode": {
    "name": "ipython",
    "version": 3
   },
   "file_extension": ".py",
   "mimetype": "text/x-python",
   "name": "python",
   "nbconvert_exporter": "python",
   "pygments_lexer": "ipython3",
   "version": "3.6.1"
  }
 },
 "nbformat": 4,
 "nbformat_minor": 2
}
