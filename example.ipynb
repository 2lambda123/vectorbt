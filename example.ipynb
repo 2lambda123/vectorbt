{
 "cells": [
  {
   "cell_type": "markdown",
   "metadata": {},
   "source": [
    "# data"
   ]
  },
  {
   "cell_type": "markdown",
   "metadata": {},
   "source": [
    "Load OHLC data from cryptocurrency exchange Poloniex"
   ]
  },
  {
   "cell_type": "code",
   "execution_count": 1,
   "metadata": {
    "collapsed": true
   },
   "outputs": [],
   "source": [
    "from vectorbt import data, graphics\n",
    "from datetime import datetime\n",
    "from importlib import reload\n",
    "import pytz\n",
    "import matplotlib\n",
    "matplotlib.rcParams['figure.figsize'] = (12, 5)"
   ]
  },
  {
   "cell_type": "code",
   "execution_count": 2,
   "metadata": {
    "scrolled": true
   },
   "outputs": [
    {
     "name": "stdout",
     "output_type": "stream",
     "text": [
      "passed. 1.25s\n"
     ]
    },
    {
     "data": {
      "text/html": [
       "<div>\n",
       "<style>\n",
       "    .dataframe thead tr:only-child th {\n",
       "        text-align: right;\n",
       "    }\n",
       "\n",
       "    .dataframe thead th {\n",
       "        text-align: left;\n",
       "    }\n",
       "\n",
       "    .dataframe tbody tr th {\n",
       "        vertical-align: top;\n",
       "    }\n",
       "</style>\n",
       "<table border=\"1\" class=\"dataframe\">\n",
       "  <thead>\n",
       "    <tr style=\"text-align: right;\">\n",
       "      <th></th>\n",
       "      <th>O</th>\n",
       "      <th>H</th>\n",
       "      <th>L</th>\n",
       "      <th>C</th>\n",
       "      <th>V</th>\n",
       "    </tr>\n",
       "    <tr>\n",
       "      <th>date</th>\n",
       "      <th></th>\n",
       "      <th></th>\n",
       "      <th></th>\n",
       "      <th></th>\n",
       "      <th></th>\n",
       "    </tr>\n",
       "  </thead>\n",
       "  <tbody>\n",
       "    <tr>\n",
       "      <th>2017-10-21 21:25:00</th>\n",
       "      <td>6084.499858</td>\n",
       "      <td>6099.000000</td>\n",
       "      <td>6084.499857</td>\n",
       "      <td>6095.000000</td>\n",
       "      <td>47574.576533</td>\n",
       "    </tr>\n",
       "    <tr>\n",
       "      <th>2017-10-21 21:30:00</th>\n",
       "      <td>6087.499857</td>\n",
       "      <td>6100.000000</td>\n",
       "      <td>6080.520000</td>\n",
       "      <td>6085.900450</td>\n",
       "      <td>72200.145272</td>\n",
       "    </tr>\n",
       "    <tr>\n",
       "      <th>2017-10-21 21:35:00</th>\n",
       "      <td>6085.900449</td>\n",
       "      <td>6086.001926</td>\n",
       "      <td>6069.979952</td>\n",
       "      <td>6070.583807</td>\n",
       "      <td>50441.803581</td>\n",
       "    </tr>\n",
       "    <tr>\n",
       "      <th>2017-10-21 21:40:00</th>\n",
       "      <td>6070.583807</td>\n",
       "      <td>6078.000000</td>\n",
       "      <td>6054.000000</td>\n",
       "      <td>6067.000000</td>\n",
       "      <td>114443.746221</td>\n",
       "    </tr>\n",
       "    <tr>\n",
       "      <th>2017-10-21 21:45:00</th>\n",
       "      <td>6067.000000</td>\n",
       "      <td>6077.999999</td>\n",
       "      <td>6060.000000</td>\n",
       "      <td>6071.846615</td>\n",
       "      <td>12362.447888</td>\n",
       "    </tr>\n",
       "  </tbody>\n",
       "</table>\n",
       "</div>"
      ],
      "text/plain": [
       "                               O            H            L            C  \\\n",
       "date                                                                      \n",
       "2017-10-21 21:25:00  6084.499858  6099.000000  6084.499857  6095.000000   \n",
       "2017-10-21 21:30:00  6087.499857  6100.000000  6080.520000  6085.900450   \n",
       "2017-10-21 21:35:00  6085.900449  6086.001926  6069.979952  6070.583807   \n",
       "2017-10-21 21:40:00  6070.583807  6078.000000  6054.000000  6067.000000   \n",
       "2017-10-21 21:45:00  6067.000000  6077.999999  6060.000000  6071.846615   \n",
       "\n",
       "                                 V  \n",
       "date                                \n",
       "2017-10-21 21:25:00   47574.576533  \n",
       "2017-10-21 21:30:00   72200.145272  \n",
       "2017-10-21 21:35:00   50441.803581  \n",
       "2017-10-21 21:40:00  114443.746221  \n",
       "2017-10-21 21:45:00   12362.447888  "
      ]
     },
     "execution_count": 2,
     "metadata": {},
     "output_type": "execute_result"
    }
   ],
   "source": [
    "ohlc_df = data.load_cryptopair('USDT_BTC', data.ago_dt(days=30), data.now_dt())\n",
    "ohlc_df.head()"
   ]
  },
  {
   "cell_type": "code",
   "execution_count": 3,
   "metadata": {
    "collapsed": true
   },
   "outputs": [],
   "source": [
    "rate_sr = ohlc_df['O']"
   ]
  },
  {
   "cell_type": "code",
   "execution_count": 4,
   "metadata": {},
   "outputs": [
    {
     "name": "stdout",
     "output_type": "stream",
     "text": [
      "    count         mean         std      min          25%          50%     75%  \\\n",
      "O  8640.0  6689.945575  752.495329  5302.64  5951.936245  6657.698002  7300.0   \n",
      "\n",
      "      max  \n",
      "O  8284.0  \n"
     ]
    },
    {
     "data": {
      "image/png": "[encoded data removed]",
      "text/plain": [
       "<matplotlib.figure.Figure at 0x105a79d68>"
      ]
     },
     "metadata": {},
     "output_type": "display_data"
    }
   ],
   "source": [
    "graphics.plot_line(rate_sr)"
   ]
  },
  {
   "cell_type": "markdown",
   "metadata": {},
   "source": [
    "## indicators"
   ]
  },
  {
   "cell_type": "markdown",
   "metadata": {},
   "source": [
    "Calculate simple moving averages"
   ]
  },
  {
   "cell_type": "code",
   "execution_count": 5,
   "metadata": {
    "collapsed": true
   },
   "outputs": [],
   "source": [
    "from vectorbt import indicators"
   ]
  },
  {
   "cell_type": "code",
   "execution_count": 6,
   "metadata": {},
   "outputs": [
    {
     "name": "stdout",
     "output_type": "stream",
     "text": [
      "date\n",
      "2017-10-21 21:25:00    6084.499858\n",
      "2017-10-21 21:30:00    6084.617505\n",
      "2017-10-21 21:35:00    6084.667816\n",
      "2017-10-21 21:40:00    6084.115502\n",
      "2017-10-21 21:45:00    6083.444306\n",
      "Name: O, dtype: float64\n",
      "date\n",
      "2017-10-21 21:25:00    6084.499858\n",
      "2017-10-21 21:30:00    6084.559263\n",
      "2017-10-21 21:35:00    6084.585822\n",
      "2017-10-21 21:40:00    6084.308554\n",
      "2017-10-21 21:45:00    6083.965810\n",
      "Name: O, dtype: float64\n"
     ]
    }
   ],
   "source": [
    "fast_ma_sr = indicators.EMA(rate_sr, 50)\n",
    "slow_ma_sr = indicators.EMA(rate_sr, 100)\n",
    "print(fast_ma_sr.head())\n",
    "print(slow_ma_sr.head())"
   ]
  },
  {
   "cell_type": "markdown",
   "metadata": {},
   "source": [
    "# signals"
   ]
  },
  {
   "cell_type": "markdown",
   "metadata": {},
   "source": [
    "Generate signals for the SMA crossover strategy"
   ]
  },
  {
   "cell_type": "code",
   "execution_count": 7,
   "metadata": {
    "collapsed": true
   },
   "outputs": [],
   "source": [
    "from vectorbt import signals\n",
    "import numpy as np"
   ]
  },
  {
   "cell_type": "markdown",
   "metadata": {},
   "source": [
    "Go long whenever fast SMA is over slow SMA by threshold (in % of current rate), while go short when opposite occurs"
   ]
  },
  {
   "cell_type": "code",
   "execution_count": 8,
   "metadata": {},
   "outputs": [],
   "source": [
    "ma_evector = signals.DMAC_evector(rate_sr, fast_ma_sr, slow_ma_sr, th=(0.01, 0.01))\n",
    "ma_xvector = signals.DMAC_xvector(rate_sr, fast_ma_sr, slow_ma_sr, th=(0.01, 0.01))"
   ]
  },
  {
   "cell_type": "markdown",
   "metadata": {},
   "source": [
    "Both, entry and exit vectors, are sequences of 0 and 1 (bit-vectors) to speed up vector operations and to allow application of additional filters on them. Each vector is reduced (and sparse) and contains only signals that are first in their sequences. This way, we get neither outdated signals, nor typical issues like entry immediatelly after exit or vice versa. To apply a filter, create your own (not sparse) bit-vector and multiply with signals."
   ]
  },
  {
   "cell_type": "markdown",
   "metadata": {},
   "source": [
    "# positions"
   ]
  },
  {
   "cell_type": "code",
   "execution_count": 9,
   "metadata": {
    "collapsed": true
   },
   "outputs": [],
   "source": [
    "from vectorbt import positions"
   ]
  },
  {
   "cell_type": "markdown",
   "metadata": {},
   "source": [
    "Generete positions out of both vectors (merge and reduce)"
   ]
  },
  {
   "cell_type": "code",
   "execution_count": 10,
   "metadata": {},
   "outputs": [
    {
     "data": {
      "text/plain": [
       "date\n",
       "2017-10-29 20:20:00    1\n",
       "2017-11-06 19:30:00   -1\n",
       "2017-11-12 11:25:00    1\n",
       "2017-11-12 22:05:00   -1\n",
       "2017-11-13 06:45:00    1\n",
       "dtype: int64"
      ]
     },
     "execution_count": 10,
     "metadata": {},
     "output_type": "execute_result"
    }
   ],
   "source": [
    "pos_sr = positions.from_vectors(rate_sr, ma_evector, ma_xvector)\n",
    "pos_sr.head()"
   ]
  },
  {
   "cell_type": "markdown",
   "metadata": {},
   "source": [
    "Position series has always even number of positions. First position is always long, the last one always short. This kind of fixed structure (`[0::2]` for long, `[1::2]` for short) makes further manipulations, such as calculation of equity, very easy."
   ]
  },
  {
   "cell_type": "markdown",
   "metadata": {},
   "source": [
    "Visualize entries and exits"
   ]
  },
  {
   "cell_type": "code",
   "execution_count": 11,
   "metadata": {},
   "outputs": [
    {
     "name": "stdout",
     "output_type": "stream",
     "text": [
      "   count        mean         std         min         25%         50%  \\\n",
      "O    6.0  341.574151  966.293995 -680.043411 -357.656579  240.156705   \n",
      "\n",
      "          75%          max  \n",
      "O  688.484931  1968.174903  \n"
     ]
    },
    {
     "data": {
      "image/png": "[encoded data removed]",
      "text/plain": [
       "<matplotlib.figure.Figure at 0x1107f08d0>"
      ]
     },
     "metadata": {},
     "output_type": "display_data"
    }
   ],
   "source": [
    "positions.plot(rate_sr, pos_sr)"
   ]
  },
  {
   "cell_type": "markdown",
   "metadata": {},
   "source": [
    "# returns"
   ]
  },
  {
   "cell_type": "code",
   "execution_count": 12,
   "metadata": {
    "collapsed": true
   },
   "outputs": [],
   "source": [
    "from vectorbt import returns"
   ]
  },
  {
   "cell_type": "markdown",
   "metadata": {},
   "source": [
    "Generate % returns out of positions. Takes into account fees."
   ]
  },
  {
   "cell_type": "code",
   "execution_count": 13,
   "metadata": {},
   "outputs": [
    {
     "data": {
      "text/plain": [
       "date\n",
       "2017-10-29 20:20:00   -0.001500\n",
       "2017-11-06 19:30:00    0.120653\n",
       "2017-11-12 11:25:00   -0.001500\n",
       "2017-11-12 22:05:00   -0.106352\n",
       "2017-11-13 06:45:00   -0.001500\n",
       "dtype: float64"
      ]
     },
     "execution_count": 13,
     "metadata": {},
     "output_type": "execute_result"
    }
   ],
   "source": [
    "posret_sr = returns.from_positions(rate_sr, pos_sr, 0.0015)\n",
    "posret_sr.head()"
   ]
  },
  {
   "cell_type": "markdown",
   "metadata": {},
   "source": [
    "Position returns series (`posret`) inherits the structure of the position series and make them redundant. Because we apply fees, we get negative returns on long. If fees are zero, returns on long are also zero, but still included in the series. "
   ]
  },
  {
   "cell_type": "markdown",
   "metadata": {},
   "source": [
    "Generate hold returns."
   ]
  },
  {
   "cell_type": "code",
   "execution_count": 14,
   "metadata": {},
   "outputs": [
    {
     "data": {
      "text/plain": [
       "date\n",
       "2017-10-21 21:25:00   -0.001500\n",
       "2017-11-20 21:20:00    0.352959\n",
       "dtype: float64"
      ]
     },
     "execution_count": 14,
     "metadata": {},
     "output_type": "execute_result"
    }
   ],
   "source": [
    "returns.on_hold(rate_sr, 0.0015)"
   ]
  },
  {
   "cell_type": "code",
   "execution_count": 15,
   "metadata": {},
   "outputs": [
    {
     "name": "stdout",
     "output_type": "stream",
     "text": [
      "   count     mean       std       min     25%     50%       75%      max\n",
      "0    6.0  0.05357  0.145439 -0.106352 -0.0015 -0.0015  0.090115  0.31162\n"
     ]
    },
    {
     "data": {
      "image/png": "[encoded data removed]",
      "text/plain": [
       "<matplotlib.figure.Figure at 0x10f5d5320>"
      ]
     },
     "metadata": {},
     "output_type": "display_data"
    }
   ],
   "source": [
    "returns.plot(posret_sr)"
   ]
  },
  {
   "cell_type": "markdown",
   "metadata": {},
   "source": [
    "# equity"
   ]
  },
  {
   "cell_type": "code",
   "execution_count": 16,
   "metadata": {
    "collapsed": true
   },
   "outputs": [],
   "source": [
    "from vectorbt import equity"
   ]
  },
  {
   "cell_type": "markdown",
   "metadata": {},
   "source": [
    "Generate equity in base and quote currency from position returns"
   ]
  },
  {
   "cell_type": "code",
   "execution_count": 17,
   "metadata": {},
   "outputs": [
    {
     "data": {
      "text/html": [
       "<div>\n",
       "<style>\n",
       "    .dataframe thead tr:only-child th {\n",
       "        text-align: right;\n",
       "    }\n",
       "\n",
       "    .dataframe thead th {\n",
       "        text-align: left;\n",
       "    }\n",
       "\n",
       "    .dataframe tbody tr th {\n",
       "        vertical-align: top;\n",
       "    }\n",
       "</style>\n",
       "<table border=\"1\" class=\"dataframe\">\n",
       "  <thead>\n",
       "    <tr style=\"text-align: right;\">\n",
       "      <th></th>\n",
       "      <th>base</th>\n",
       "      <th>quote</th>\n",
       "    </tr>\n",
       "    <tr>\n",
       "      <th>date</th>\n",
       "      <th></th>\n",
       "      <th></th>\n",
       "    </tr>\n",
       "  </thead>\n",
       "  <tbody>\n",
       "    <tr>\n",
       "      <th>2017-10-21 21:25:00</th>\n",
       "      <td>NaN</td>\n",
       "      <td>NaN</td>\n",
       "    </tr>\n",
       "    <tr>\n",
       "      <th>2017-10-21 21:30:00</th>\n",
       "      <td>NaN</td>\n",
       "      <td>NaN</td>\n",
       "    </tr>\n",
       "    <tr>\n",
       "      <th>2017-10-21 21:35:00</th>\n",
       "      <td>NaN</td>\n",
       "      <td>NaN</td>\n",
       "    </tr>\n",
       "    <tr>\n",
       "      <th>2017-10-21 21:40:00</th>\n",
       "      <td>NaN</td>\n",
       "      <td>NaN</td>\n",
       "    </tr>\n",
       "    <tr>\n",
       "      <th>2017-10-21 21:45:00</th>\n",
       "      <td>NaN</td>\n",
       "      <td>NaN</td>\n",
       "    </tr>\n",
       "  </tbody>\n",
       "</table>\n",
       "</div>"
      ],
      "text/plain": [
       "                     base  quote\n",
       "date                            \n",
       "2017-10-21 21:25:00   NaN    NaN\n",
       "2017-10-21 21:30:00   NaN    NaN\n",
       "2017-10-21 21:35:00   NaN    NaN\n",
       "2017-10-21 21:40:00   NaN    NaN\n",
       "2017-10-21 21:45:00   NaN    NaN"
      ]
     },
     "execution_count": 17,
     "metadata": {},
     "output_type": "execute_result"
    }
   ],
   "source": [
    "equity_df = equity.from_returns(rate_sr, posret_sr)\n",
    "equity_df.head()"
   ]
  },
  {
   "cell_type": "markdown",
   "metadata": {},
   "source": [
    "Base and quote are NaN before the first entry or if no positions were taken"
   ]
  },
  {
   "cell_type": "markdown",
   "metadata": {},
   "source": [
    "Visualize both equities"
   ]
  },
  {
   "cell_type": "code",
   "execution_count": 18,
   "metadata": {},
   "outputs": [
    {
     "name": "stdout",
     "output_type": "stream",
     "text": [
      "base\n",
      "    count      mean         std         min         25%        50%       75%  \\\n",
      "0  6349.0 -31.43052  232.727894 -807.967544 -123.983405 -80.967544 -9.808395   \n",
      "\n",
      "           max  \n",
      "0  1629.392456  \n"
     ]
    },
    {
     "data": {
      "image/png": "[encoded data removed]",
      "text/plain": [
       "<matplotlib.figure.Figure at 0x10f4ef198>"
      ]
     },
     "metadata": {},
     "output_type": "display_data"
    },
    {
     "name": "stdout",
     "output_type": "stream",
     "text": [
      "quote\n",
      "    count      mean     std       min      25%       50%     75%       max\n",
      "0  6349.0 -0.002905  0.0362 -0.104389 -0.01594 -0.011545 -0.0015  0.307279\n"
     ]
    },
    {
     "data": {
      "image/png": "[encoded data removed]",
      "text/plain": [
       "<matplotlib.figure.Figure at 0x1102a3c18>"
      ]
     },
     "metadata": {},
     "output_type": "display_data"
    }
   ],
   "source": [
    "equity.plot(rate_sr, equity_df)"
   ]
  },
  {
   "cell_type": "markdown",
   "metadata": {},
   "source": [
    "Equity diffs (`eqd`) are absolute returns if initial investment was 1. They are used in calculation of performance and risk/profit indicators such as sharpe ratio."
   ]
  },
  {
   "cell_type": "code",
   "execution_count": 21,
   "metadata": {},
   "outputs": [
    {
     "data": {
      "text/plain": [
       "date\n",
       "2017-11-06 19:30:00    0.120472\n",
       "2017-11-12 22:05:00   -0.118827\n",
       "2017-11-20 21:20:00    0.310675\n",
       "dtype: float64"
      ]
     },
     "execution_count": 21,
     "metadata": {},
     "output_type": "execute_result"
    }
   ],
   "source": [
    "eqd_sr = equity.diffs(posret_sr)\n",
    "eqd_sr.head()"
   ]
  },
  {
   "cell_type": "markdown",
   "metadata": {},
   "source": [
    "# kpi"
   ]
  },
  {
   "cell_type": "markdown",
   "metadata": {},
   "source": [
    "Every indicator uses equity diffs as input"
   ]
  },
  {
   "cell_type": "code",
   "execution_count": 22,
   "metadata": {
    "collapsed": true
   },
   "outputs": [],
   "source": [
    "from vectorbt import kpi\n",
    "import json"
   ]
  },
  {
   "cell_type": "code",
   "execution_count": 23,
   "metadata": {},
   "outputs": [
    {
     "name": "stdout",
     "output_type": "stream",
     "text": [
      "{\n",
      "  \"performance\": {\n",
      "    \"profit\": 0.31232050115137777,\n",
      "    \"averages\": {\n",
      "      \"trade\": 0.10410683371712592,\n",
      "      \"gain\": 0.21557361453959778,\n",
      "      \"loss\": 0.11882672792781779\n",
      "    },\n",
      "    \"winrate\": 0.6666666666666666,\n",
      "    \"payoff\": 1.814184555098998,\n",
      "    \"PF\": 3.628369110197996,\n",
      "    \"RF\": 2.628369110197996\n",
      "  },\n",
      "  \"risk/return profile\": {\n",
      "    \"sharpe\": 0.48372719169591677,\n",
      "    \"sortino\": NaN,\n",
      "    \"maxdd\": 0.11882672792781779\n",
      "  }\n",
      "}\n"
     ]
    }
   ],
   "source": [
    "kpi.print_summary(eqd_sr)"
   ]
  },
  {
   "cell_type": "markdown",
   "metadata": {},
   "source": [
    "# optimizer.gridsearch"
   ]
  },
  {
   "cell_type": "markdown",
   "metadata": {},
   "source": [
    "The classic optimization method is grid search (or exhaustive search). It exhaustively generates candidates from a grid of parameter values and applies them on the series. \n",
    "\n",
    "This method brings some advantages:\n",
    "- its simple to implement\n",
    "- 2d-combinations can be visualized using heatmaps\n",
    "- can be used to discover hidden patterns in combinations\n",
    "- highly parallelizable\n",
    "\n",
    "But also drawbacks are possible:\n",
    "- not flexible enough to fit changing financial markets\n",
    "- prone to overfitting\n",
    "- no intermediate feedback"
   ]
  },
  {
   "cell_type": "markdown",
   "metadata": {},
   "source": [
    "**Grid search consists of 5 levels:**\n",
    "\n",
    "| Level | Operation | Result | Use cases |\n",
    "|-|-|-|-|\n",
    "| L1 | Calculate positions | `posmap` (dict) | Transformed into returns, equity or equity diffs |\n",
    "| L2 | Calculate equity diffs | `eqdmap` (dict) | Used in calculation of indicators |\n",
    "| L3 | Apply KPIs | `kpimap_sr` (series) | Used in comparing strategies, building a score or a matrix |\n",
    "| L4 | Bind KPIs into a score | `scoremap_sr` (series) | Takes into account and examines multiple KPIs |\n",
    "| L5 | Convert into a matrix | `matrix_df` (dataframe) | Constructs a heatmap |"
   ]
  },
  {
   "cell_type": "markdown",
   "metadata": {},
   "source": [
    "At the end we will be able to compare performance of different trading strategies."
   ]
  },
  {
   "cell_type": "markdown",
   "metadata": {},
   "source": [
    "## L1\n",
    "## posmap"
   ]
  },
  {
   "cell_type": "markdown",
   "metadata": {},
   "source": [
    "Position series keyed by parameter combinations"
   ]
  },
  {
   "cell_type": "code",
   "execution_count": 24,
   "metadata": {
    "collapsed": true
   },
   "outputs": [],
   "source": [
    "from vectorbt.optimizer.gridsearch import posmap"
   ]
  },
  {
   "cell_type": "markdown",
   "metadata": {},
   "source": [
    "Generate combinations of fast and slow SMA (from 1 to 100) and their resulting positions"
   ]
  },
  {
   "cell_type": "code",
   "execution_count": 25,
   "metadata": {},
   "outputs": [
    {
     "name": "stdout",
     "output_type": "stream",
     "text": [
      "ma-posmap\n",
      "setup: ma_func = SMA, th = (0.01, 0.01)\n",
      "grid: 1.000000 -> 100.000000 = 5050\n",
      "calcs: 5050 ..\n",
      "passed. 8.20s\n"
     ]
    }
   ],
   "source": [
    "sma_posmap = posmap.ma(rate_sr, 1, 100, 1, (0.01, 0.01), indicators.SMA)"
   ]
  },
  {
   "cell_type": "markdown",
   "metadata": {},
   "source": [
    "Generate random positions of magnitude similar to the map above (to be comparable)"
   ]
  },
  {
   "cell_type": "code",
   "execution_count": 26,
   "metadata": {},
   "outputs": [
    {
     "name": "stdout",
     "output_type": "stream",
     "text": [
      "random-posmap\n",
      "setup: positions = ~26, N = 5050\n",
      "calcs: 5050 ..\n",
      "passed. 6.20s\n"
     ]
    }
   ],
   "source": [
    "import math\n",
    "n = math.ceil(np.median([len(pos_sr.index) for pos_sr in sma_posmap.values() if len(pos_sr.index) > 0]))\n",
    "N = len(sma_posmap)\n",
    "random_posmap = posmap.random(rate_sr, n, N)"
   ]
  },
  {
   "cell_type": "markdown",
   "metadata": {},
   "source": [
    "## L2\n",
    "## eqdmap"
   ]
  },
  {
   "cell_type": "markdown",
   "metadata": {},
   "source": [
    "Translate each position series in the `posmap` into equity diffs"
   ]
  },
  {
   "cell_type": "code",
   "execution_count": 27,
   "metadata": {
    "collapsed": true
   },
   "outputs": [],
   "source": [
    "from vectorbt.optimizer.gridsearch import eqdmap"
   ]
  },
  {
   "cell_type": "code",
   "execution_count": 28,
   "metadata": {},
   "outputs": [
    {
     "name": "stdout",
     "output_type": "stream",
     "text": [
      "eqdmap\n",
      "setup: fees = 0.001500\n",
      "calcs: 5050 ..\n",
      "passed. 16.16s\n"
     ]
    }
   ],
   "source": [
    "sma_eqdmap = eqdmap.from_posmap(rate_sr, sma_posmap, 0.0015)"
   ]
  },
  {
   "cell_type": "code",
   "execution_count": 29,
   "metadata": {},
   "outputs": [
    {
     "name": "stdout",
     "output_type": "stream",
     "text": [
      "eqdmap\n",
      "setup: fees = 0.001500\n",
      "calcs: 5050 ..\n",
      "passed. 14.25s\n"
     ]
    }
   ],
   "source": [
    "random_eqdmap = eqdmap.from_posmap(rate_sr, random_posmap, 0.0015)"
   ]
  },
  {
   "cell_type": "markdown",
   "metadata": {},
   "source": [
    "## L3 \n",
    "## kpimap"
   ]
  },
  {
   "cell_type": "markdown",
   "metadata": {},
   "source": [
    "Apply indicator (KPI) on each equity diffs series in the `eqdmap`"
   ]
  },
  {
   "cell_type": "code",
   "execution_count": 30,
   "metadata": {
    "collapsed": true
   },
   "outputs": [],
   "source": [
    "from vectorbt.optimizer.gridsearch import kpimap"
   ]
  },
  {
   "cell_type": "code",
   "execution_count": 31,
   "metadata": {},
   "outputs": [
    {
     "name": "stdout",
     "output_type": "stream",
     "text": [
      "expectancy-kpimap\n",
      "calcs: 5050 ..\n",
      "min (2, 3): -0.12458152267\n",
      "max (9, 11): 0.406582071547\n",
      "passed. 3.35s\n"
     ]
    }
   ],
   "source": [
    "sma_kpimap1_sr = kpimap.from_eqdmap(sma_eqdmap, kpi.expectancy)"
   ]
  },
  {
   "cell_type": "code",
   "execution_count": 32,
   "metadata": {},
   "outputs": [
    {
     "name": "stdout",
     "output_type": "stream",
     "text": [
      "sharpe-kpimap\n",
      "calcs: 5050 ..\n",
      "min (8, 12): -1.10455924516\n",
      "max (32, 52): 1.28030214488\n",
      "passed. 3.25s\n"
     ]
    }
   ],
   "source": [
    "sma_kpimap2_sr = kpimap.from_eqdmap(sma_eqdmap, kpi.sharpe)"
   ]
  },
  {
   "cell_type": "code",
   "execution_count": 33,
   "metadata": {},
   "outputs": [
    {
     "name": "stdout",
     "output_type": "stream",
     "text": [
      "expectancy-kpimap\n",
      "calcs: 5050 ..\n",
      "min 1746: -0.0233012062283\n",
      "max 3963: 0.0706928182365\n",
      "passed. 3.19s\n"
     ]
    }
   ],
   "source": [
    "random_kpimap_sr = kpimap.from_eqdmap(random_eqdmap, kpi.expectancy)"
   ]
  },
  {
   "cell_type": "markdown",
   "metadata": {},
   "source": [
    "Compare KPI maps on basic properties and quantiles distribution"
   ]
  },
  {
   "cell_type": "code",
   "execution_count": 34,
   "metadata": {},
   "outputs": [
    {
     "name": "stdout",
     "output_type": "stream",
     "text": [
      "    count      mean       std       min       25%       50%       75%  \\\n",
      "0  5050.0  0.012042  0.011358 -0.023301  0.004036  0.011079  0.018958   \n",
      "1  4543.0  0.073841  0.116389 -0.124582  0.002935  0.009545  0.100946   \n",
      "\n",
      "        max  \n",
      "0  0.070693  \n",
      "1  0.406582  \n"
     ]
    },
    {
     "data": {
      "image/png": "[encoded data removed]",
      "text/plain": [
       "<matplotlib.figure.Figure at 0x11634b518>"
      ]
     },
     "metadata": {},
     "output_type": "display_data"
    }
   ],
   "source": [
    "kpimap.compare(random_kpimap_sr, sma_kpimap1_sr)"
   ]
  },
  {
   "cell_type": "markdown",
   "metadata": {},
   "source": [
    "## L4\n",
    "## scoremap"
   ]
  },
  {
   "cell_type": "markdown",
   "metadata": {},
   "source": [
    "Take into account multiple weighted indicators and generate a score from 1 to 100"
   ]
  },
  {
   "cell_type": "code",
   "execution_count": 35,
   "metadata": {
    "collapsed": true
   },
   "outputs": [],
   "source": [
    "from vectorbt.optimizer.gridsearch import scoremap"
   ]
  },
  {
   "cell_type": "code",
   "execution_count": 36,
   "metadata": {},
   "outputs": [
    {
     "name": "stdout",
     "output_type": "stream",
     "text": [
      "1-100-scoremap\n",
      "min (1, 1): 1.0\n",
      "max (37, 59): 73.733829533\n",
      "passed. 0.01s\n"
     ]
    }
   ],
   "source": [
    "sma_scoremap_sr = scoremap.from_kpimaps([sma_kpimap1_sr, sma_kpimap2_sr], [2/3, 1/3], [False, False])"
   ]
  },
  {
   "cell_type": "markdown",
   "metadata": {},
   "source": [
    "## L5 \n",
    "## matrix"
   ]
  },
  {
   "cell_type": "markdown",
   "metadata": {},
   "source": [
    "Reshape 2d-parameter grid into a matrix and display as a heatmap"
   ]
  },
  {
   "cell_type": "code",
   "execution_count": 37,
   "metadata": {
    "collapsed": true
   },
   "outputs": [],
   "source": [
    "from vectorbt.optimizer.gridsearch import matrix\n",
    "from matplotlib import pyplot as plt\n",
    "import pandas as pd"
   ]
  },
  {
   "cell_type": "code",
   "execution_count": 38,
   "metadata": {},
   "outputs": [
    {
     "name": "stdout",
     "output_type": "stream",
     "text": [
      "100-100-matrix\n",
      "passed. 1.89s\n"
     ]
    }
   ],
   "source": [
    "sma_matrix_df = matrix.from_map(sma_kpimap1_sr, symmetric=True).fillna(0)"
   ]
  },
  {
   "cell_type": "code",
   "execution_count": 39,
   "metadata": {
    "scrolled": false
   },
   "outputs": [
    {
     "data": {
      "image/png": "[encoded data removed]",
      "text/plain": [
       "<matplotlib.figure.Figure at 0x11651f6d8>"
      ]
     },
     "metadata": {},
     "output_type": "display_data"
    }
   ],
   "source": [
    "cmap = plt.cm.viridis\n",
    "norm = plt.Normalize()\n",
    "matplotlib.rcParams['figure.figsize'] = (12, 9)\n",
    "matrix.plot(sma_matrix_df, cmap, norm)"
   ]
  },
  {
   "cell_type": "markdown",
   "metadata": {},
   "source": [
    "Compare KPI distribution to that of random map"
   ]
  },
  {
   "cell_type": "code",
   "execution_count": 40,
   "metadata": {},
   "outputs": [
    {
     "name": "stdout",
     "output_type": "stream",
     "text": [
      "    count      mean       std       min       25%       50%       75%  \\\n",
      "0  4543.0  0.073841  0.116389 -0.124582  0.002935  0.009545  0.100946   \n",
      "\n",
      "        max  \n",
      "0  0.406582  \n"
     ]
    },
    {
     "data": {
      "image/png": "[encoded data removed]",
      "text/plain": [
       "<matplotlib.figure.Figure at 0x1163b8e80>"
      ]
     },
     "metadata": {},
     "output_type": "display_data"
    }
   ],
   "source": [
    "matplotlib.rcParams['figure.figsize'] = (12, 5)\n",
    "graphics.plot_hist(sma_kpimap1_sr.dropna(), cmap, norm)"
   ]
  },
  {
   "cell_type": "code",
   "execution_count": 41,
   "metadata": {},
   "outputs": [
    {
     "name": "stdout",
     "output_type": "stream",
     "text": [
      "    count      mean       std       min       25%       50%       75%  \\\n",
      "0  5052.0  0.012093  0.012786 -0.124582  0.004035  0.011079  0.018965   \n",
      "\n",
      "        max  \n",
      "0  0.406582  \n"
     ]
    },
    {
     "data": {
      "image/png": "[encoded data removed]",
      "text/plain": [
       "<matplotlib.figure.Figure at 0x105f47f60>"
      ]
     },
     "metadata": {},
     "output_type": "display_data"
    }
   ],
   "source": [
    "# Adjust bounds\n",
    "to_plot = random_kpimap_sr.append(pd.Series(sma_kpimap1_sr.min())).append(pd.Series(sma_kpimap1_sr.max()))\n",
    "graphics.plot_hist(to_plot, cmap, norm)"
   ]
  },
  {
   "cell_type": "code",
   "execution_count": null,
   "metadata": {
    "collapsed": true
   },
   "outputs": [],
   "source": []
  }
 ],
 "metadata": {
  "anaconda-cloud": {},
  "kernelspec": {
   "display_name": "Python [conda root]",
   "language": "python",
   "name": "conda-root-py"
  },
  "language_info": {
   "codemirror_mode": {
    "name": "ipython",
    "version": 3
   },
   "file_extension": ".py",
   "mimetype": "text/x-python",
   "name": "python",
   "nbconvert_exporter": "python",
   "pygments_lexer": "ipython3",
   "version": "3.6.1"
  }
 },
 "nbformat": 4,
 "nbformat_minor": 2
}
