{
 "cells": [
  {
   "cell_type": "code",
   "execution_count": 1,
   "metadata": {
    "collapsed": true
   },
   "outputs": [],
   "source": [
    "import vectorbt as vbt\n",
    "import numpy as np\n",
    "import pandas as pd"
   ]
  },
  {
   "cell_type": "code",
   "execution_count": 2,
   "metadata": {
    "collapsed": true
   },
   "outputs": [],
   "source": [
    "import matplotlib\n",
    "from matplotlib import pyplot as plt\n",
    "matplotlib.rcParams['figure.figsize'] = (12, 5)"
   ]
  },
  {
   "cell_type": "markdown",
   "metadata": {},
   "source": [
    "# data"
   ]
  },
  {
   "cell_type": "markdown",
   "metadata": {},
   "source": [
    "Load OHLC data from cryptocurrency exchange Poloniex."
   ]
  },
  {
   "cell_type": "code",
   "execution_count": 70,
   "metadata": {
    "scrolled": true
   },
   "outputs": [
    {
     "name": "stdout",
     "output_type": "stream",
     "text": [
      "done. 0.28s\n"
     ]
    },
    {
     "data": {
      "text/html": [
       "<div>\n",
       "<style>\n",
       "    .dataframe thead tr:only-child th {\n",
       "        text-align: right;\n",
       "    }\n",
       "\n",
       "    .dataframe thead th {\n",
       "        text-align: left;\n",
       "    }\n",
       "\n",
       "    .dataframe tbody tr th {\n",
       "        vertical-align: top;\n",
       "    }\n",
       "</style>\n",
       "<table border=\"1\" class=\"dataframe\">\n",
       "  <thead>\n",
       "    <tr style=\"text-align: right;\">\n",
       "      <th></th>\n",
       "      <th>O</th>\n",
       "      <th>H</th>\n",
       "      <th>L</th>\n",
       "      <th>C</th>\n",
       "      <th>V</th>\n",
       "    </tr>\n",
       "    <tr>\n",
       "      <th>date</th>\n",
       "      <th></th>\n",
       "      <th></th>\n",
       "      <th></th>\n",
       "      <th></th>\n",
       "      <th></th>\n",
       "    </tr>\n",
       "  </thead>\n",
       "  <tbody>\n",
       "    <tr>\n",
       "      <th>2017-08-14</th>\n",
       "      <td>600.0000</td>\n",
       "      <td>750.000001</td>\n",
       "      <td>200.000</td>\n",
       "      <td>304.950000</td>\n",
       "      <td>2.135129e+06</td>\n",
       "    </tr>\n",
       "    <tr>\n",
       "      <th>2017-08-15</th>\n",
       "      <td>300.4902</td>\n",
       "      <td>310.000200</td>\n",
       "      <td>288.999</td>\n",
       "      <td>297.900000</td>\n",
       "      <td>1.802001e+06</td>\n",
       "    </tr>\n",
       "    <tr>\n",
       "      <th>2017-08-16</th>\n",
       "      <td>297.9000</td>\n",
       "      <td>309.100000</td>\n",
       "      <td>286.800</td>\n",
       "      <td>299.154002</td>\n",
       "      <td>1.149004e+06</td>\n",
       "    </tr>\n",
       "    <tr>\n",
       "      <th>2017-08-17</th>\n",
       "      <td>300.0000</td>\n",
       "      <td>457.000000</td>\n",
       "      <td>292.000</td>\n",
       "      <td>445.100000</td>\n",
       "      <td>1.697264e+07</td>\n",
       "    </tr>\n",
       "    <tr>\n",
       "      <th>2017-08-18</th>\n",
       "      <td>444.1000</td>\n",
       "      <td>779.110000</td>\n",
       "      <td>436.000</td>\n",
       "      <td>694.000000</td>\n",
       "      <td>7.512503e+07</td>\n",
       "    </tr>\n",
       "  </tbody>\n",
       "</table>\n",
       "</div>"
      ],
      "text/plain": [
       "                   O           H        L           C             V\n",
       "date                                                               \n",
       "2017-08-14  600.0000  750.000001  200.000  304.950000  2.135129e+06\n",
       "2017-08-15  300.4902  310.000200  288.999  297.900000  1.802001e+06\n",
       "2017-08-16  297.9000  309.100000  286.800  299.154002  1.149004e+06\n",
       "2017-08-17  300.0000  457.000000  292.000  445.100000  1.697264e+07\n",
       "2017-08-18  444.1000  779.110000  436.000  694.000000  7.512503e+07"
      ]
     },
     "execution_count": 70,
     "metadata": {},
     "output_type": "execute_result"
    }
   ],
   "source": [
    "# period = 300, 900, 1800, 7200, 14400, or 86400\n",
    "ohlc_df = vbt.data.load_cryptopair('USDT_BCH', vbt.data.ago_dt(days=180), vbt.data.now_dt(), period=86400)\n",
    "ohlc_df.head()"
   ]
  },
  {
   "cell_type": "code",
   "execution_count": 71,
   "metadata": {
    "collapsed": true
   },
   "outputs": [],
   "source": [
    "# No future data\n",
    "rate_sr = ohlc_df.O"
   ]
  },
  {
   "cell_type": "code",
   "execution_count": 115,
   "metadata": {
    "collapsed": true
   },
   "outputs": [],
   "source": [
    "# Fees and slippage\n",
    "fees = 0.0025\n",
    "slippage_factor = 0.25\n",
    "slippage = (ohlc_df['H'] - ohlc_df['L']) * slippage_factor / rate_sr"
   ]
  },
  {
   "cell_type": "code",
   "execution_count": 116,
   "metadata": {},
   "outputs": [
    {
     "name": "stdout",
     "output_type": "stream",
     "text": [
      "   count        mean        std    min         25%    50%      75%  \\\n",
      "O  107.0  618.707827  350.94529  297.9  377.671259  530.0  629.625   \n",
      "\n",
      "           max  \n",
      "O  1717.031055  \n"
     ]
    },
    {
     "data": {
      "image/png": "[encoded data removed]",
      "text/plain": [
       "<matplotlib.figure.Figure at 0x11c00b278>"
      ]
     },
     "metadata": {},
     "output_type": "display_data"
    }
   ],
   "source": [
    "vbt.graphics.plot_line(rate_sr)"
   ]
  },
  {
   "cell_type": "markdown",
   "metadata": {},
   "source": [
    "# indicators"
   ]
  },
  {
   "cell_type": "markdown",
   "metadata": {},
   "source": [
    "Calculate EMA indicators."
   ]
  },
  {
   "cell_type": "code",
   "execution_count": 104,
   "metadata": {
    "collapsed": true
   },
   "outputs": [],
   "source": [
    "fast_ma_sr = vbt.indicators.EMA(rate_sr, 10)\n",
    "slow_ma_sr = vbt.indicators.EMA(rate_sr, 40)"
   ]
  },
  {
   "cell_type": "markdown",
   "metadata": {},
   "source": [
    "# signals"
   ]
  },
  {
   "cell_type": "markdown",
   "metadata": {},
   "source": [
    "Generate signals based on conditions."
   ]
  },
  {
   "cell_type": "markdown",
   "metadata": {},
   "source": [
    "    1. Go long whenever fast EMA is over slow EMA, while go short when opposite occurs."
   ]
  },
  {
   "cell_type": "code",
   "execution_count": 105,
   "metadata": {
    "collapsed": true
   },
   "outputs": [],
   "source": [
    "ma_entries = vbt.signals.DMAC_entries(fast_ma_sr, slow_ma_sr)\n",
    "ma_exits = vbt.signals.DMAC_exits(fast_ma_sr, slow_ma_sr)"
   ]
  },
  {
   "cell_type": "markdown",
   "metadata": {},
   "source": [
    "Both, entry and exit vectors, are sequences of 0 and 1 (bit-vectors) to allow fast vector operations."
   ]
  },
  {
   "cell_type": "markdown",
   "metadata": {},
   "source": [
    "We reduce both vectors to contain only signals that are first in their sequences, since we are looking for crossover."
   ]
  },
  {
   "cell_type": "code",
   "execution_count": 106,
   "metadata": {
    "collapsed": true
   },
   "outputs": [],
   "source": [
    "ma_entries = vbt.bitvector.first(ma_entries)\n",
    "ma_exits = vbt.bitvector.first(ma_exits)"
   ]
  },
  {
   "cell_type": "markdown",
   "metadata": {},
   "source": [
    "    2. Go short whenever price drops by 10%."
   ]
  },
  {
   "cell_type": "code",
   "execution_count": 107,
   "metadata": {
    "collapsed": true
   },
   "outputs": [],
   "source": [
    "# trailstop_exits = vbt.signals.trailstop_exits(rate_sr, ma_entries, 0.1 * rate_sr)"
   ]
  },
  {
   "cell_type": "markdown",
   "metadata": {},
   "source": [
    "Combine MA exit strategy with trailing stop and pick every first exit out of sequence."
   ]
  },
  {
   "cell_type": "code",
   "execution_count": 108,
   "metadata": {
    "collapsed": true
   },
   "outputs": [],
   "source": [
    "# ma_exits = vbt.bitvector.OR(ma_exits, trailstop_exits)\n",
    "# ma_exits = vbt.bitvector.first(ma_exits)"
   ]
  },
  {
   "cell_type": "markdown",
   "metadata": {},
   "source": [
    "To apply an additional filter, generate your own bit-vector and use `vector.AND/OR/XOR` operations."
   ]
  },
  {
   "cell_type": "markdown",
   "metadata": {},
   "source": [
    "# positions"
   ]
  },
  {
   "cell_type": "markdown",
   "metadata": {},
   "source": [
    "Generete positions out of both vectors (merge and reduce)."
   ]
  },
  {
   "cell_type": "code",
   "execution_count": 109,
   "metadata": {},
   "outputs": [
    {
     "data": {
      "text/plain": [
       "date\n",
       "2017-11-01    1\n",
       "2017-11-28   -1\n",
       "dtype: int64"
      ]
     },
     "execution_count": 109,
     "metadata": {},
     "output_type": "execute_result"
    }
   ],
   "source": [
    "pos_sr = vbt.positions.from_signals(rate_sr, ma_entries, ma_exits)\n",
    "pos_sr.head()"
   ]
  },
  {
   "cell_type": "markdown",
   "metadata": {},
   "source": [
    "Position series is a binary series, where 1 = going long and -1 = going short. There is no two long/short positions in a row, since we want a clean way to evaluate a strategy (only the logic of a strategy must have an impact on the equity, not the investment size or its distribution)"
   ]
  },
  {
   "cell_type": "markdown",
   "metadata": {},
   "source": [
    "Visualize entries and exits."
   ]
  },
  {
   "cell_type": "code",
   "execution_count": 110,
   "metadata": {},
   "outputs": [
    {
     "name": "stdout",
     "output_type": "stream",
     "text": [
      "   count     mean  std      min      25%      50%      75%      max\n",
      "0    1.0  1151.89  NaN  1151.89  1151.89  1151.89  1151.89  1151.89\n"
     ]
    },
    {
     "data": {
      "image/png": "[encoded data removed]",
      "text/plain": [
       "<matplotlib.figure.Figure at 0x1202eccf8>"
      ]
     },
     "metadata": {},
     "output_type": "display_data"
    }
   ],
   "source": [
    "vbt.positions.plot(rate_sr, pos_sr)"
   ]
  },
  {
   "cell_type": "markdown",
   "metadata": {},
   "source": [
    "# equity"
   ]
  },
  {
   "cell_type": "markdown",
   "metadata": {},
   "source": [
    "Generate equity from positions, based on fees and slippage."
   ]
  },
  {
   "cell_type": "code",
   "execution_count": 111,
   "metadata": {},
   "outputs": [
    {
     "data": {
      "text/plain": [
       "date\n",
       "2017-08-14   NaN\n",
       "2017-08-15   NaN\n",
       "2017-08-16   NaN\n",
       "2017-08-17   NaN\n",
       "2017-08-18   NaN\n",
       "dtype: float64"
      ]
     },
     "execution_count": 111,
     "metadata": {},
     "output_type": "execute_result"
    }
   ],
   "source": [
    "equity_sr = vbt.equity.from_positions(rate_sr, pos_sr, fees, slippage)\n",
    "equity_sr.head()"
   ]
  },
  {
   "cell_type": "markdown",
   "metadata": {},
   "source": [
    "Equity is NaN before the first entry or if no positions were taken."
   ]
  },
  {
   "cell_type": "markdown",
   "metadata": {},
   "source": [
    "Visualize base and quote equities."
   ]
  },
  {
   "cell_type": "code",
   "execution_count": 112,
   "metadata": {
    "scrolled": false
   },
   "outputs": [
    {
     "name": "stdout",
     "output_type": "stream",
     "text": [
      "base\n",
      "   count       mean         std         min         25%         50%  \\\n",
      "0   28.0  303.45197  114.894051  124.647978  178.006366  338.183305   \n",
      "\n",
      "          75%         max  \n",
      "0  383.388286  491.885842  \n"
     ]
    },
    {
     "data": {
      "image/png": "[encoded data removed]",
      "text/plain": [
       "<matplotlib.figure.Figure at 0x11c2eae80>"
      ]
     },
     "metadata": {},
     "output_type": "display_data"
    },
    {
     "name": "stdout",
     "output_type": "stream",
     "text": [
      "quote\n",
      "   count      mean       std       min       25%       50%       75%       max\n",
      "0   28.0  0.286096  0.002002  0.275881  0.286475  0.286475  0.286475  0.286475\n"
     ]
    },
    {
     "data": {
      "image/png": "[encoded data removed]",
      "text/plain": [
       "<matplotlib.figure.Figure at 0x11c104400>"
      ]
     },
     "metadata": {},
     "output_type": "display_data"
    }
   ],
   "source": [
    "vbt.equity.plot(rate_sr, equity_sr)"
   ]
  },
  {
   "cell_type": "markdown",
   "metadata": {},
   "source": [
    "# returns"
   ]
  },
  {
   "cell_type": "markdown",
   "metadata": {},
   "source": [
    "Generate returns."
   ]
  },
  {
   "cell_type": "code",
   "execution_count": 113,
   "metadata": {},
   "outputs": [
    {
     "data": {
      "text/plain": [
       "date\n",
       "2017-08-14    0.0\n",
       "2017-08-15    0.0\n",
       "2017-08-16    0.0\n",
       "2017-08-17    0.0\n",
       "2017-08-18    0.0\n",
       "dtype: float64"
      ]
     },
     "execution_count": 113,
     "metadata": {},
     "output_type": "execute_result"
    }
   ],
   "source": [
    "returns_sr = vbt.returns.from_equity(equity_sr)\n",
    "returns_sr.head()"
   ]
  },
  {
   "cell_type": "markdown",
   "metadata": {},
   "source": [
    "Draw returns."
   ]
  },
  {
   "cell_type": "code",
   "execution_count": 114,
   "metadata": {},
   "outputs": [
    {
     "name": "stdout",
     "output_type": "stream",
     "text": [
      "   count      mean       std  min  25%  50%       75%       max\n",
      "0    4.0  0.654329  1.308659  0.0  0.0  0.0  0.654329  2.617318\n"
     ]
    },
    {
     "data": {
      "image/png": "[encoded data removed]",
      "text/plain": [
       "<matplotlib.figure.Figure at 0x11c4877b8>"
      ]
     },
     "metadata": {},
     "output_type": "display_data"
    }
   ],
   "source": [
    "vbt.returns.plot(vbt.returns.resample(returns_sr, 'M'))"
   ]
  },
  {
   "cell_type": "markdown",
   "metadata": {},
   "source": [
    "# performance"
   ]
  },
  {
   "cell_type": "markdown",
   "metadata": {},
   "source": [
    "Print summary of multiple KPIs applied on returns."
   ]
  },
  {
   "cell_type": "code",
   "execution_count": 85,
   "metadata": {},
   "outputs": [
    {
     "data": {
      "text/plain": [
       "distribution         count         107.000000\n",
       "                     mean            0.011232\n",
       "                     std             0.082575\n",
       "                     min            -0.238365\n",
       "                     25%             0.000000\n",
       "                     50%             0.000000\n",
       "                     75%             0.000000\n",
       "                     max             0.588785\n",
       "performance          profit          1.453635\n",
       "                     avggain         0.160627\n",
       "                     avgloss         0.072574\n",
       "                     winrate         0.545455\n",
       "                     expectancy      0.066074\n",
       "                     maxdd           0.338028\n",
       "risk/return profile  sharpe          0.136018\n",
       "                     sortino         0.177150\n",
       "dtype: float64"
      ]
     },
     "execution_count": 85,
     "metadata": {},
     "output_type": "execute_result"
    }
   ],
   "source": [
    "vbt.performance.summary(returns_sr)"
   ]
  },
  {
   "cell_type": "markdown",
   "metadata": {},
   "source": [
    "# optimizer.gridsearch"
   ]
  },
  {
   "cell_type": "markdown",
   "metadata": {},
   "source": [
    "The classic optimization method is grid search (or exhaustive search). It exhaustively generates candidates from a grid of parameter values and applies them on the series. \n",
    "\n",
    "This method brings some advantages:\n",
    "- its simple to implement\n",
    "- 2d-combinations can be visualized using heatmaps\n",
    "- can be used to discover hidden patterns in combinations\n",
    "- highly parallelizable\n",
    "\n",
    "But also drawbacks are possible:\n",
    "- not flexible enough to fit changing financial markets\n",
    "- prone to overfitting\n",
    "- no intermediate feedback"
   ]
  },
  {
   "cell_type": "markdown",
   "metadata": {},
   "source": [
    "**Grid search consists of 3-4 levels:**\n",
    "\n",
    "| Level | Motivation | Module | Structure |\n",
    "|-|-|-|-|\n",
    "| 1 | Calculate position/equity/returns maps | `srmap` | `{param: pd.Series}` |\n",
    "| 2 | Calculate KPIs | `nummap` | `pd.Series` |\n",
    "| 3 (optional) | Combine multiple KPIs into a single score and compare | `scoremap` | `pd.Series` |\n",
    "| 4 | Build heatmap to examine hidden patterns | `matrix` | `pd.DataFrame` |"
   ]
  },
  {
   "cell_type": "markdown",
   "metadata": {},
   "source": [
    "At the end we will be able to compare performance of different trading strategies."
   ]
  },
  {
   "cell_type": "markdown",
   "metadata": {},
   "source": [
    "## L1\n",
    "## srmap"
   ]
  },
  {
   "cell_type": "code",
   "execution_count": 86,
   "metadata": {
    "collapsed": true
   },
   "outputs": [],
   "source": [
    "import vectorbt.optimizer.gridsearch as grids"
   ]
  },
  {
   "cell_type": "markdown",
   "metadata": {},
   "source": [
    "Calculate returns for a set of MA window combinations."
   ]
  },
  {
   "cell_type": "markdown",
   "metadata": {},
   "source": [
    "    1. Precalculate all MAs."
   ]
  },
  {
   "cell_type": "code",
   "execution_count": 87,
   "metadata": {},
   "outputs": [
    {
     "name": "stdout",
     "output_type": "stream",
     "text": [
      "cores: 4\n",
      "processes: 1\n",
      "starmap: False\n",
      "calcs: 100 (~0.10s) ..\n",
      "done. 0.04s\n"
     ]
    }
   ],
   "source": [
    "# Init\n",
    "ma_func = lambda window: vbt.indicators.EMA(rate_sr, window)\n",
    "min_ma, max_ma, step = 1, 100, 1\n",
    "fees = 0.0025\n",
    "\n",
    "# Cache moving averages\n",
    "param_range = grids.params.range_params(min_ma, max_ma, step)\n",
    "ma_cache = dict(grids.srmap.from_func(ma_func, param_range))"
   ]
  },
  {
   "cell_type": "markdown",
   "metadata": {},
   "source": [
    "    2. For each MA combination, generate position series."
   ]
  },
  {
   "cell_type": "code",
   "execution_count": 88,
   "metadata": {
    "collapsed": true
   },
   "outputs": [],
   "source": [
    "# Params\n",
    "ma_space = grids.params.combine_rep_params(min_ma, max_ma, step, 2)\n",
    "\n",
    "# Func\n",
    "def ma_positions_func(fast_ma, slow_ma):\n",
    "    # Cache\n",
    "    fast_ma_sr = ma_cache[fast_ma]\n",
    "    slow_ma_sr = ma_cache[slow_ma]\n",
    "    # Signals\n",
    "    entries = vbt.signals.DMAC_entries(fast_ma_sr, slow_ma_sr)\n",
    "    entries = vbt.bitvector.first(entries)\n",
    "    exits = vbt.signals.DMAC_exits(fast_ma_sr, slow_ma_sr)\n",
    "    exits = vbt.bitvector.first(exits)\n",
    "    # Positions\n",
    "    pos_sr = vbt.positions.from_signals(rate_sr, entries, exits)\n",
    "    return pos_sr"
   ]
  },
  {
   "cell_type": "code",
   "execution_count": 89,
   "metadata": {},
   "outputs": [
    {
     "name": "stdout",
     "output_type": "stream",
     "text": [
      "cores: 4\n",
      "processes: 1\n",
      "starmap: True\n",
      "calcs: 5050 (~6.61s) ..\n",
      "done. 2.22s\n"
     ]
    }
   ],
   "source": [
    "ma_positions_srmap = grids.srmap.from_func(ma_positions_func, ma_space)"
   ]
  },
  {
   "cell_type": "markdown",
   "metadata": {},
   "source": [
    "    3. For each position series, generate returns series."
   ]
  },
  {
   "cell_type": "markdown",
   "metadata": {},
   "source": [
    "We need to separate position and returns calculation, since we need number of positions of each MA combination for a random map."
   ]
  },
  {
   "cell_type": "code",
   "execution_count": 90,
   "metadata": {
    "collapsed": true
   },
   "outputs": [],
   "source": [
    "def ma_returns_func(fast_ma, slow_ma):\n",
    "    # Equity\n",
    "    pos_sr = ma_positions_srmap[(fast_ma, slow_ma)]\n",
    "    equity_sr = vbt.equity.from_positions(rate_sr, pos_sr, fees, slippage)\n",
    "    # Returns\n",
    "    returns_sr = vbt.returns.from_equity(equity_sr)\n",
    "    return returns_sr"
   ]
  },
  {
   "cell_type": "code",
   "execution_count": 91,
   "metadata": {},
   "outputs": [
    {
     "name": "stdout",
     "output_type": "stream",
     "text": [
      "cores: 4\n",
      "processes: 1\n",
      "starmap: True\n",
      "calcs: 5050 (~9.64s) ..\n",
      "done. 6.39s\n"
     ]
    }
   ],
   "source": [
    "ma_returns_srmap = grids.srmap.from_func(ma_returns_func, ma_space)"
   ]
  },
  {
   "cell_type": "markdown",
   "metadata": {},
   "source": [
    "For each MA window combination generate random positions of same length and resulting returns. "
   ]
  },
  {
   "cell_type": "code",
   "execution_count": 92,
   "metadata": {
    "collapsed": true
   },
   "outputs": [],
   "source": [
    "# Params\n",
    "random_space = [(fma, sma, len(np.flatnonzero(ma_positions_srmap[(fma, sma)].values))) for fma, sma in ma_space]\n",
    "\n",
    "# Func\n",
    "def random_returns_func(slow_ma, fast_ma, n):\n",
    "    # Positions\n",
    "    pos_sr = vbt.positions.random(rate_sr, n)\n",
    "    # Equity\n",
    "    equity_sr = vbt.equity.from_positions(rate_sr, pos_sr, fees, slippage)\n",
    "    # Returns\n",
    "    returns_sr = vbt.returns.from_equity(equity_sr)\n",
    "    return returns_sr"
   ]
  },
  {
   "cell_type": "code",
   "execution_count": 93,
   "metadata": {},
   "outputs": [
    {
     "name": "stdout",
     "output_type": "stream",
     "text": [
      "cores: 4\n",
      "processes: 1\n",
      "starmap: True\n",
      "calcs: 5050 (~16.20s) ..\n",
      "done. 6.99s\n"
     ]
    }
   ],
   "source": [
    "random_returns_srmap = grids.srmap.from_func(random_returns_func, random_space)"
   ]
  },
  {
   "cell_type": "markdown",
   "metadata": {},
   "source": [
    "## L2\n",
    "## nummap"
   ]
  },
  {
   "cell_type": "markdown",
   "metadata": {},
   "source": [
    "Apply KPI on each returns series."
   ]
  },
  {
   "cell_type": "code",
   "execution_count": 94,
   "metadata": {},
   "outputs": [
    {
     "name": "stdout",
     "output_type": "stream",
     "text": [
      "cores: 4\n",
      "processes: 1\n",
      "starmap: False\n",
      "calcs: 5050 (~5.74s) ..\n",
      "done. 2.27s\n",
      "min (1, 6): -1.95467556835\n",
      "max (1, 29): 1.66714007873\n"
     ]
    }
   ],
   "source": [
    "if_i_hold = vbt.performance.profit(rate_sr.pct_change())\n",
    "profit = lambda r: vbt.performance.profit(r) - if_i_hold\n",
    "ma_profit_nummap = grids.nummap.from_srmap(ma_returns_srmap, profit)"
   ]
  },
  {
   "cell_type": "code",
   "execution_count": 95,
   "metadata": {},
   "outputs": [
    {
     "name": "stdout",
     "output_type": "stream",
     "text": [
      "cores: 4\n",
      "processes: 1\n",
      "starmap: False\n",
      "calcs: 5050 (~1.20s) ..\n",
      "done. 0.48s\n",
      "min (1, 6): 0.116584591922\n",
      "max (1, 28): 3.0915298139\n"
     ]
    }
   ],
   "source": [
    "sharpe = lambda r: vbt.performance.sharpe(r, nperiods=252)\n",
    "ma_sharpe_nummap = grids.nummap.from_srmap(ma_returns_srmap, sharpe)"
   ]
  },
  {
   "cell_type": "code",
   "execution_count": 96,
   "metadata": {},
   "outputs": [
    {
     "name": "stdout",
     "output_type": "stream",
     "text": [
      "cores: 4\n",
      "processes: 1\n",
      "starmap: False\n",
      "calcs: 5050 (~4.93s) ..\n",
      "done. 2.39s\n",
      "min (3, 7, 18): -2.52328669627\n",
      "max (7, 28, 4): 3.14436516792\n"
     ]
    }
   ],
   "source": [
    "random_profit_nummap = grids.nummap.from_srmap(random_returns_srmap, profit)"
   ]
  },
  {
   "cell_type": "markdown",
   "metadata": {},
   "source": [
    "Compare quantile distributions of EMA and random strategy."
   ]
  },
  {
   "cell_type": "code",
   "execution_count": 97,
   "metadata": {},
   "outputs": [
    {
     "name": "stdout",
     "output_type": "stream",
     "text": [
      "            count      mean       std       min       25%       50%       75%  \\\n",
      "nummap     5050.0 -0.573499  0.769883 -1.954676 -1.381488 -0.211728 -0.043461   \n",
      "benchmark  5050.0 -1.187270  1.020661 -2.523287 -1.899379 -1.642988 -0.733264   \n",
      "\n",
      "                max  \n",
      "nummap     1.667140  \n",
      "benchmark  3.144365  \n"
     ]
    },
    {
     "data": {
      "image/png": "[encoded data removed]",
      "text/plain": [
       "<matplotlib.figure.Figure at 0x11c299cf8>"
      ]
     },
     "metadata": {},
     "output_type": "display_data"
    }
   ],
   "source": [
    "grids.nummap.compare_quantiles(ma_profit_nummap, random_profit_nummap)"
   ]
  },
  {
   "cell_type": "markdown",
   "metadata": {},
   "source": [
    "Compare their KPI distributions."
   ]
  },
  {
   "cell_type": "code",
   "execution_count": 98,
   "metadata": {},
   "outputs": [
    {
     "name": "stdout",
     "output_type": "stream",
     "text": [
      "            count      mean       std       min       25%       50%       75%  \\\n",
      "nummap     5050.0 -0.573499  0.769883 -1.954676 -1.381488 -0.211728 -0.043461   \n",
      "benchmark  5050.0 -1.187270  1.020661 -2.523287 -1.899379 -1.642988 -0.733264   \n",
      "\n",
      "                max  \n",
      "nummap     1.667140  \n",
      "benchmark  3.144365  \n"
     ]
    },
    {
     "data": {
      "image/png": "[encoded data removed]",
      "text/plain": [
       "<matplotlib.figure.Figure at 0x11fddf9e8>"
      ]
     },
     "metadata": {},
     "output_type": "display_data"
    },
    {
     "data": {
      "image/png": "[encoded data removed]",
      "text/plain": [
       "<matplotlib.figure.Figure at 0x120e85550>"
      ]
     },
     "metadata": {},
     "output_type": "display_data"
    }
   ],
   "source": [
    "cmap = plt.cm.rainbow_r\n",
    "norm = plt.Normalize()\n",
    "grids.nummap.compare_hists(ma_profit_nummap, random_profit_nummap, 50, cmap, norm)"
   ]
  },
  {
   "cell_type": "markdown",
   "metadata": {},
   "source": [
    "## L3\n",
    "## scoremap"
   ]
  },
  {
   "cell_type": "markdown",
   "metadata": {},
   "source": [
    "Take into account multiple weighted KPIs and generate a score from 1 to 100."
   ]
  },
  {
   "cell_type": "code",
   "execution_count": 99,
   "metadata": {},
   "outputs": [
    {
     "name": "stdout",
     "output_type": "stream",
     "text": [
      "done. 0.01s\n",
      "min (1, 6): 1.0\n",
      "max (1, 30): 100.0\n"
     ]
    }
   ],
   "source": [
    "ma_scoremap = grids.scoremap.from_nummaps([ma_profit_nummap, ma_sharpe_nummap], [2/3, 1/3], [False, False])"
   ]
  },
  {
   "cell_type": "markdown",
   "metadata": {},
   "source": [
    "## L4\n",
    "## matrix"
   ]
  },
  {
   "cell_type": "markdown",
   "metadata": {},
   "source": [
    "Reshape 2d-parameter grid into a matrix."
   ]
  },
  {
   "cell_type": "code",
   "execution_count": 102,
   "metadata": {},
   "outputs": [
    {
     "name": "stdout",
     "output_type": "stream",
     "text": [
      "done. 1.48s\n"
     ]
    }
   ],
   "source": [
    "ma_matrix = grids.matrix.from_nummap(ma_profit_nummap, symmetric=True).fillna(0)"
   ]
  },
  {
   "cell_type": "markdown",
   "metadata": {},
   "source": [
    "Display as a heatmap."
   ]
  },
  {
   "cell_type": "code",
   "execution_count": 103,
   "metadata": {
    "scrolled": false
   },
   "outputs": [
    {
     "name": "stdout",
     "output_type": "stream",
     "text": [
      "     count      mean       std       min       25%       50%       75%  \\\n",
      "0  10000.0 -0.562784  0.766154 -1.954676 -1.380917 -0.193394 -0.043461   \n",
      "\n",
      "       max  \n",
      "0  1.66714  \n"
     ]
    },
    {
     "data": {
      "image/png": "[encoded data removed]",
      "text/plain": [
       "<matplotlib.figure.Figure at 0x11c190898>"
      ]
     },
     "metadata": {},
     "output_type": "display_data"
    }
   ],
   "source": [
    "cmap = plt.cm.rainbow_r\n",
    "norm = plt.Normalize()\n",
    "matplotlib.rcParams['figure.figsize'] = (12, 9)\n",
    "grids.matrix.plot(ma_matrix, cmap, norm)\n",
    "matplotlib.rcParams['figure.figsize'] = (12, 5)"
   ]
  },
  {
   "cell_type": "code",
   "execution_count": null,
   "metadata": {
    "collapsed": true
   },
   "outputs": [],
   "source": []
  }
 ],
 "metadata": {
  "anaconda-cloud": {},
  "kernelspec": {
   "display_name": "Python [conda root]",
   "language": "python",
   "name": "conda-root-py"
  },
  "language_info": {
   "codemirror_mode": {
    "name": "ipython",
    "version": 3
   },
   "file_extension": ".py",
   "mimetype": "text/x-python",
   "name": "python",
   "nbconvert_exporter": "python",
   "pygments_lexer": "ipython3",
   "version": "3.6.1"
  }
 },
 "nbformat": 4,
 "nbformat_minor": 2
}
