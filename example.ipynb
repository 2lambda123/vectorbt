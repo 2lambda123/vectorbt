{
 "cells": [
  {
   "cell_type": "markdown",
   "metadata": {},
   "source": [
    "# data"
   ]
  },
  {
   "cell_type": "markdown",
   "metadata": {},
   "source": [
    "Load OHLC data from cryptocurrency exchange Poloniex"
   ]
  },
  {
   "cell_type": "code",
   "execution_count": 1,
   "metadata": {
    "collapsed": true
   },
   "outputs": [],
   "source": [
    "from vectorbt import data, graphics\n",
    "from datetime import datetime\n",
    "from importlib import reload\n",
    "import pytz\n",
    "import matplotlib\n",
    "matplotlib.rcParams['figure.figsize'] = (12, 5)"
   ]
  },
  {
   "cell_type": "code",
   "execution_count": 2,
   "metadata": {
    "scrolled": true
   },
   "outputs": [
    {
     "name": "stdout",
     "output_type": "stream",
     "text": [
      "passed. 1.04s\n"
     ]
    },
    {
     "data": {
      "text/html": [
       "<div>\n",
       "<style>\n",
       "    .dataframe thead tr:only-child th {\n",
       "        text-align: right;\n",
       "    }\n",
       "\n",
       "    .dataframe thead th {\n",
       "        text-align: left;\n",
       "    }\n",
       "\n",
       "    .dataframe tbody tr th {\n",
       "        vertical-align: top;\n",
       "    }\n",
       "</style>\n",
       "<table border=\"1\" class=\"dataframe\">\n",
       "  <thead>\n",
       "    <tr style=\"text-align: right;\">\n",
       "      <th></th>\n",
       "      <th>close</th>\n",
       "      <th>high</th>\n",
       "      <th>low</th>\n",
       "      <th>open</th>\n",
       "      <th>quoteVolume</th>\n",
       "      <th>volume</th>\n",
       "      <th>weightedAverage</th>\n",
       "    </tr>\n",
       "    <tr>\n",
       "      <th>date</th>\n",
       "      <th></th>\n",
       "      <th></th>\n",
       "      <th></th>\n",
       "      <th></th>\n",
       "      <th></th>\n",
       "      <th></th>\n",
       "      <th></th>\n",
       "    </tr>\n",
       "  </thead>\n",
       "  <tbody>\n",
       "    <tr>\n",
       "      <th>2017-10-20 02:55:00</th>\n",
       "      <td>5670.000000</td>\n",
       "      <td>5685.000000</td>\n",
       "      <td>5657.602337</td>\n",
       "      <td>5657.850000</td>\n",
       "      <td>9.824429</td>\n",
       "      <td>55620.144256</td>\n",
       "      <td>5661.412392</td>\n",
       "    </tr>\n",
       "    <tr>\n",
       "      <th>2017-10-20 03:00:00</th>\n",
       "      <td>5682.128130</td>\n",
       "      <td>5683.410047</td>\n",
       "      <td>5670.000000</td>\n",
       "      <td>5671.231834</td>\n",
       "      <td>0.925579</td>\n",
       "      <td>5253.569431</td>\n",
       "      <td>5675.983441</td>\n",
       "    </tr>\n",
       "    <tr>\n",
       "      <th>2017-10-20 03:05:00</th>\n",
       "      <td>5675.858805</td>\n",
       "      <td>5682.000000</td>\n",
       "      <td>5675.000001</td>\n",
       "      <td>5682.000000</td>\n",
       "      <td>0.570057</td>\n",
       "      <td>3239.057530</td>\n",
       "      <td>5681.989568</td>\n",
       "    </tr>\n",
       "    <tr>\n",
       "      <th>2017-10-20 03:10:00</th>\n",
       "      <td>5674.000000</td>\n",
       "      <td>5685.000000</td>\n",
       "      <td>5673.403747</td>\n",
       "      <td>5675.858805</td>\n",
       "      <td>2.296781</td>\n",
       "      <td>13042.203772</td>\n",
       "      <td>5678.469583</td>\n",
       "    </tr>\n",
       "    <tr>\n",
       "      <th>2017-10-20 03:15:00</th>\n",
       "      <td>5671.000000</td>\n",
       "      <td>5684.999998</td>\n",
       "      <td>5670.000000</td>\n",
       "      <td>5674.000000</td>\n",
       "      <td>1.902674</td>\n",
       "      <td>10802.500705</td>\n",
       "      <td>5677.536003</td>\n",
       "    </tr>\n",
       "  </tbody>\n",
       "</table>\n",
       "</div>"
      ],
      "text/plain": [
       "                           close         high          low         open  \\\n",
       "date                                                                      \n",
       "2017-10-20 02:55:00  5670.000000  5685.000000  5657.602337  5657.850000   \n",
       "2017-10-20 03:00:00  5682.128130  5683.410047  5670.000000  5671.231834   \n",
       "2017-10-20 03:05:00  5675.858805  5682.000000  5675.000001  5682.000000   \n",
       "2017-10-20 03:10:00  5674.000000  5685.000000  5673.403747  5675.858805   \n",
       "2017-10-20 03:15:00  5671.000000  5684.999998  5670.000000  5674.000000   \n",
       "\n",
       "                     quoteVolume        volume  weightedAverage  \n",
       "date                                                             \n",
       "2017-10-20 02:55:00     9.824429  55620.144256      5661.412392  \n",
       "2017-10-20 03:00:00     0.925579   5253.569431      5675.983441  \n",
       "2017-10-20 03:05:00     0.570057   3239.057530      5681.989568  \n",
       "2017-10-20 03:10:00     2.296781  13042.203772      5678.469583  \n",
       "2017-10-20 03:15:00     1.902674  10802.500705      5677.536003  "
      ]
     },
     "execution_count": 2,
     "metadata": {},
     "output_type": "execute_result"
    }
   ],
   "source": [
    "ohlc_df = data.load_cryptopair('USDT_BTC', data.ago_dt(days=30), data.now_dt())\n",
    "ohlc_df.head()"
   ]
  },
  {
   "cell_type": "code",
   "execution_count": 3,
   "metadata": {
    "collapsed": true
   },
   "outputs": [],
   "source": [
    "rate_sr = ohlc_df['open']"
   ]
  },
  {
   "cell_type": "code",
   "execution_count": 4,
   "metadata": {},
   "outputs": [
    {
     "name": "stdout",
     "output_type": "stream",
     "text": [
      "       count         mean         std      min          25%          50%  \\\n",
      "open  8639.0  6569.560897  697.772009  5302.64  5924.617024  6488.578767   \n",
      "\n",
      "         75%     max  \n",
      "open  7190.0  8010.0  \n"
     ]
    },
    {
     "data": {
      "image/png": "[encoded data removed]",
      "text/plain": [
       "<matplotlib.figure.Figure at 0x10249ecf8>"
      ]
     },
     "metadata": {},
     "output_type": "display_data"
    }
   ],
   "source": [
    "graphics.plot_line(rate_sr)"
   ]
  },
  {
   "cell_type": "markdown",
   "metadata": {},
   "source": [
    "## indicators"
   ]
  },
  {
   "cell_type": "markdown",
   "metadata": {},
   "source": [
    "Calculate simple moving averages"
   ]
  },
  {
   "cell_type": "code",
   "execution_count": 5,
   "metadata": {},
   "outputs": [],
   "source": [
    "from vectorbt import indicators"
   ]
  },
  {
   "cell_type": "code",
   "execution_count": 6,
   "metadata": {},
   "outputs": [
    {
     "name": "stdout",
     "output_type": "stream",
     "text": [
      "date\n",
      "2017-10-20 02:55:00    5657.850000\n",
      "2017-10-20 03:00:00    5658.374778\n",
      "2017-10-20 03:05:00    5659.301257\n",
      "2017-10-20 03:10:00    5659.950573\n",
      "2017-10-20 03:15:00    5660.501531\n",
      "Name: open, dtype: float64\n",
      "date\n",
      "2017-10-20 02:55:00    5657.850000\n",
      "2017-10-20 03:00:00    5658.114987\n",
      "2017-10-20 03:05:00    5658.587957\n",
      "2017-10-20 03:10:00    5658.929954\n",
      "2017-10-20 03:15:00    5659.228371\n",
      "Name: open, dtype: float64\n"
     ]
    }
   ],
   "source": [
    "fast_ma_sr = indicators.ema(rate_sr, 50)\n",
    "slow_ma_sr = indicators.ema(rate_sr, 100)\n",
    "print(fast_ma_sr.head())\n",
    "print(slow_ma_sr.head())"
   ]
  },
  {
   "cell_type": "markdown",
   "metadata": {},
   "source": [
    "# signals"
   ]
  },
  {
   "cell_type": "markdown",
   "metadata": {},
   "source": [
    "Generate signals for the SMA crossover strategy"
   ]
  },
  {
   "cell_type": "code",
   "execution_count": 7,
   "metadata": {},
   "outputs": [],
   "source": [
    "from vectorbt import signals\n",
    "import numpy as np"
   ]
  },
  {
   "cell_type": "markdown",
   "metadata": {},
   "source": [
    "Go long whenever fast SMA is over slow SMA by threshold (in % of current rate), while go short when opposite occurs"
   ]
  },
  {
   "cell_type": "code",
   "execution_count": 8,
   "metadata": {},
   "outputs": [],
   "source": [
    "ma_entry_vector = signals.ma_entry_vector(rate_sr, fast_ma_sr, slow_ma_sr, th=(0.01, 0.01))\n",
    "ma_exit_vector = signals.ma_exit_vector(rate_sr, fast_ma_sr, slow_ma_sr, th=(0.01, 0.01))"
   ]
  },
  {
   "cell_type": "markdown",
   "metadata": {},
   "source": [
    "Both, entry and exit vectors, are sequences of 0 and 1 (bit-vectors) to speed up vector operations and to allow application of additional filters on them. Each vector is reduced (and sparse) and contains only signals that are first in their sequences. This way, we get neither outdated signals, nor typical issues like entry immediatelly after exit or vice versa. To apply a filter, create your own (not sparse) bit-vector and multiply with signals."
   ]
  },
  {
   "cell_type": "markdown",
   "metadata": {},
   "source": [
    "# positions"
   ]
  },
  {
   "cell_type": "code",
   "execution_count": 9,
   "metadata": {},
   "outputs": [],
   "source": [
    "from vectorbt import positions"
   ]
  },
  {
   "cell_type": "markdown",
   "metadata": {},
   "source": [
    "Generete positions out of both vectors (merge and reduce)"
   ]
  },
  {
   "cell_type": "code",
   "execution_count": 10,
   "metadata": {},
   "outputs": [
    {
     "data": {
      "text/plain": [
       "date\n",
       "2017-10-20 15:50:00    1\n",
       "2017-11-06 19:30:00   -1\n",
       "2017-11-12 11:25:00    1\n",
       "2017-11-12 22:05:00   -1\n",
       "2017-11-13 06:45:00    1\n",
       "dtype: int64"
      ]
     },
     "execution_count": 10,
     "metadata": {},
     "output_type": "execute_result"
    }
   ],
   "source": [
    "pos_sr = positions.from_vectors(rate_sr, ma_entry_vector, ma_exit_vector)\n",
    "pos_sr.head()"
   ]
  },
  {
   "cell_type": "markdown",
   "metadata": {},
   "source": [
    "Position series has always even number of positions. First position is always long, the last one always short. This kind of fixed structure (`[0::2]` for long, `[1::2]` for short) makes further manipulations, such as calculation of equity, very easy."
   ]
  },
  {
   "cell_type": "markdown",
   "metadata": {},
   "source": [
    "Visualize entries and exits"
   ]
  },
  {
   "cell_type": "code",
   "execution_count": 11,
   "metadata": {},
   "outputs": [
    {
     "name": "stdout",
     "output_type": "stream",
     "text": [
      "      count        mean         std         min         25%         50%  \\\n",
      "open    6.0  304.721478  852.913081 -680.043411 -357.656579  240.156705   \n",
      "\n",
      "             75%      max  \n",
      "open  863.481584  1513.73  \n"
     ]
    },
    {
     "data": {
      "image/png": "[encoded data removed]",
      "text/plain": [
       "<matplotlib.figure.Figure at 0x10cc57b70>"
      ]
     },
     "metadata": {},
     "output_type": "display_data"
    }
   ],
   "source": [
    "positions.plot(rate_sr, pos_sr)"
   ]
  },
  {
   "cell_type": "markdown",
   "metadata": {},
   "source": [
    "# returns"
   ]
  },
  {
   "cell_type": "code",
   "execution_count": 12,
   "metadata": {},
   "outputs": [],
   "source": [
    "from vectorbt import returns"
   ]
  },
  {
   "cell_type": "markdown",
   "metadata": {},
   "source": [
    "Generate % returns out of positions. Takes into account fees."
   ]
  },
  {
   "cell_type": "code",
   "execution_count": 13,
   "metadata": {},
   "outputs": [
    {
     "data": {
      "text/plain": [
       "date\n",
       "2017-10-20 15:50:00   -0.001500\n",
       "2017-11-06 19:30:00    0.164513\n",
       "2017-11-12 11:25:00   -0.001500\n",
       "2017-11-12 22:05:00   -0.106352\n",
       "2017-11-13 06:45:00   -0.001500\n",
       "dtype: float64"
      ]
     },
     "execution_count": 13,
     "metadata": {},
     "output_type": "execute_result"
    }
   ],
   "source": [
    "posret_sr = returns.from_positions(rate_sr, pos_sr, 0.0015)\n",
    "posret_sr.head()"
   ]
  },
  {
   "cell_type": "markdown",
   "metadata": {},
   "source": [
    "Position returns series (`posret`) inherits the structure of the position series and make them redundant. Because we apply fees, we get negative returns on long. If fees are zero, returns on long are also zero, but still included in the series. "
   ]
  },
  {
   "cell_type": "markdown",
   "metadata": {},
   "source": [
    "Generate hold returns."
   ]
  },
  {
   "cell_type": "code",
   "execution_count": 14,
   "metadata": {},
   "outputs": [
    {
     "data": {
      "text/plain": [
       "date\n",
       "2017-10-20 02:55:00   -0.001500\n",
       "2017-11-19 02:45:00    0.374783\n",
       "dtype: float64"
      ]
     },
     "execution_count": 14,
     "metadata": {},
     "output_type": "execute_result"
    }
   ],
   "source": [
    "returns.on_hold(rate_sr, 0.0015)"
   ]
  },
  {
   "cell_type": "code",
   "execution_count": 15,
   "metadata": {},
   "outputs": [
    {
     "name": "stdout",
     "output_type": "stream",
     "text": [
      "   count     mean       std       min     25%     50%      75%       max\n",
      "0    6.0  0.04883  0.127554 -0.106352 -0.0015 -0.0015  0.12301  0.239321\n"
     ]
    },
    {
     "data": {
      "image/png": "[encoded data removed]",
      "text/plain": [
       "<matplotlib.figure.Figure at 0x10249ee80>"
      ]
     },
     "metadata": {},
     "output_type": "display_data"
    }
   ],
   "source": [
    "returns.plot(posret_sr)"
   ]
  },
  {
   "cell_type": "markdown",
   "metadata": {},
   "source": [
    "# equity"
   ]
  },
  {
   "cell_type": "code",
   "execution_count": 41,
   "metadata": {},
   "outputs": [],
   "source": [
    "from vectorbt import equity"
   ]
  },
  {
   "cell_type": "markdown",
   "metadata": {},
   "source": [
    "Generate equity in base and quote currency from position returns"
   ]
  },
  {
   "cell_type": "code",
   "execution_count": 42,
   "metadata": {},
   "outputs": [
    {
     "data": {
      "text/html": [
       "<div>\n",
       "<style>\n",
       "    .dataframe thead tr:only-child th {\n",
       "        text-align: right;\n",
       "    }\n",
       "\n",
       "    .dataframe thead th {\n",
       "        text-align: left;\n",
       "    }\n",
       "\n",
       "    .dataframe tbody tr th {\n",
       "        vertical-align: top;\n",
       "    }\n",
       "</style>\n",
       "<table border=\"1\" class=\"dataframe\">\n",
       "  <thead>\n",
       "    <tr style=\"text-align: right;\">\n",
       "      <th></th>\n",
       "      <th>base</th>\n",
       "      <th>quote</th>\n",
       "    </tr>\n",
       "    <tr>\n",
       "      <th>date</th>\n",
       "      <th></th>\n",
       "      <th></th>\n",
       "    </tr>\n",
       "  </thead>\n",
       "  <tbody>\n",
       "    <tr>\n",
       "      <th>2017-10-20 02:55:00</th>\n",
       "      <td>NaN</td>\n",
       "      <td>NaN</td>\n",
       "    </tr>\n",
       "    <tr>\n",
       "      <th>2017-10-20 03:00:00</th>\n",
       "      <td>NaN</td>\n",
       "      <td>NaN</td>\n",
       "    </tr>\n",
       "    <tr>\n",
       "      <th>2017-10-20 03:05:00</th>\n",
       "      <td>NaN</td>\n",
       "      <td>NaN</td>\n",
       "    </tr>\n",
       "    <tr>\n",
       "      <th>2017-10-20 03:10:00</th>\n",
       "      <td>NaN</td>\n",
       "      <td>NaN</td>\n",
       "    </tr>\n",
       "    <tr>\n",
       "      <th>2017-10-20 03:15:00</th>\n",
       "      <td>NaN</td>\n",
       "      <td>NaN</td>\n",
       "    </tr>\n",
       "  </tbody>\n",
       "</table>\n",
       "</div>"
      ],
      "text/plain": [
       "                     base  quote\n",
       "date                            \n",
       "2017-10-20 02:55:00   NaN    NaN\n",
       "2017-10-20 03:00:00   NaN    NaN\n",
       "2017-10-20 03:05:00   NaN    NaN\n",
       "2017-10-20 03:10:00   NaN    NaN\n",
       "2017-10-20 03:15:00   NaN    NaN"
      ]
     },
     "execution_count": 42,
     "metadata": {},
     "output_type": "execute_result"
    }
   ],
   "source": [
    "equity_df = equity.from_returns(rate_sr, posret_sr)\n",
    "equity_df.head()"
   ]
  },
  {
   "cell_type": "markdown",
   "metadata": {},
   "source": [
    "Base and quote are NaN before the first entry or if no positions were taken"
   ]
  },
  {
   "cell_type": "markdown",
   "metadata": {},
   "source": [
    "Visualize both equities"
   ]
  },
  {
   "cell_type": "code",
   "execution_count": 43,
   "metadata": {},
   "outputs": [
    {
     "name": "stdout",
     "output_type": "stream",
     "text": [
      "base\n",
      "    count       mean         std         min         25%       50%  75%  \\\n",
      "0  8484.0 -18.578752  199.934706 -807.967544 -106.196123 -9.818257 -8.7   \n",
      "\n",
      "           max  \n",
      "0  1629.392456  \n"
     ]
    },
    {
     "data": {
      "image/png": "[encoded data removed]",
      "text/plain": [
       "<matplotlib.figure.Figure at 0x1123a3588>"
      ]
     },
     "metadata": {},
     "output_type": "display_data"
    },
    {
     "name": "stdout",
     "output_type": "stream",
     "text": [
      "quote\n",
      "    count      mean       std       min      25%     50%     75%       max\n",
      "0  8484.0 -0.001682  0.031137 -0.104389 -0.01594 -0.0015 -0.0015  0.307279\n"
     ]
    },
    {
     "data": {
      "image/png": "[encoded data removed]",
      "text/plain": [
       "<matplotlib.figure.Figure at 0x113141b70>"
      ]
     },
     "metadata": {},
     "output_type": "display_data"
    }
   ],
   "source": [
    "equity.plot(rate_sr, equity_df)"
   ]
  },
  {
   "cell_type": "markdown",
   "metadata": {},
   "source": [
    "Equity diffs (`eqd`) are absolute returns if initial investment was 1. They are used in calculation of performance and risk/profit indicators such as sharpe ratio."
   ]
  },
  {
   "cell_type": "code",
   "execution_count": 19,
   "metadata": {},
   "outputs": [
    {
     "data": {
      "text/plain": [
       "date\n",
       "2017-10-20 15:50:00   -0.001500\n",
       "2017-11-06 19:30:00    0.164267\n",
       "2017-11-12 11:25:00   -0.001744\n",
       "2017-11-12 22:05:00   -0.123477\n",
       "2017-11-13 06:45:00   -0.001556\n",
       "dtype: float64"
      ]
     },
     "execution_count": 19,
     "metadata": {},
     "output_type": "execute_result"
    }
   ],
   "source": [
    "eqd_sr = equity.diff_on_positions(posret_sr)\n",
    "eqd_sr.head()"
   ]
  },
  {
   "cell_type": "markdown",
   "metadata": {},
   "source": [
    "# kpi"
   ]
  },
  {
   "cell_type": "markdown",
   "metadata": {},
   "source": [
    "Every indicator uses equity diffs as input"
   ]
  },
  {
   "cell_type": "code",
   "execution_count": 20,
   "metadata": {
    "collapsed": true
   },
   "outputs": [],
   "source": [
    "from vectorbt import kpi\n",
    "import json"
   ]
  },
  {
   "cell_type": "code",
   "execution_count": 21,
   "metadata": {},
   "outputs": [
    {
     "name": "stdout",
     "output_type": "stream",
     "text": [
      "{\n",
      "  \"backtest\": {\n",
      "    \"from\": \"2017-10-20 15:50:00\",\n",
      "    \"to\": \"2017-11-19 02:45:00\",\n",
      "    \"days\": 29,\n",
      "    \"trades\": 6\n",
      "  },\n",
      "  \"performance\": {\n",
      "    \"profit\": 0.2839229817885127,\n",
      "    \"averages\": {\n",
      "      \"trade\": 0.0962411498252177,\n",
      "      \"gain\": 0.20610041876091573,\n",
      "      \"loss\": 0.12347738804617836\n",
      "    },\n",
      "    \"winrate\": 0.6666666666666666,\n",
      "    \"payoff\": 1.669134908197425,\n",
      "    \"PF\": 3.33826981639485,\n",
      "    \"RF\": 2.33826981639485\n",
      "  },\n",
      "  \"risk/return profile\": {\n",
      "    \"sharpe\": 6.076817358928141,\n",
      "    \"sortino\": 12.622487601582115,\n",
      "    \"maxdd\": 0.12347738804617836\n",
      "  }\n",
      "}\n"
     ]
    }
   ],
   "source": [
    "kpi.print_summary(eqd_sr)"
   ]
  },
  {
   "cell_type": "markdown",
   "metadata": {},
   "source": [
    "# optimizer.gridsearch"
   ]
  },
  {
   "cell_type": "markdown",
   "metadata": {},
   "source": [
    "The classic optimization method is grid search (or exhaustive search). It exhaustively generates candidates from a grid of parameter values and applies them on the series. \n",
    "\n",
    "This method brings some advantages:\n",
    "- its simple to implement\n",
    "- 2d-combinations can be visualized using heatmaps\n",
    "- can be used to discover hidden patterns in combinations\n",
    "- highly parallelizable\n",
    "\n",
    "But also drawbacks are possible:\n",
    "- not flexible enough to fit changing financial markets\n",
    "- prone to overfitting\n",
    "- no intermediate feedback"
   ]
  },
  {
   "cell_type": "markdown",
   "metadata": {},
   "source": [
    "**Grid search consists of 5 levels:**\n",
    "\n",
    "| Level | Operation | Result | Use cases |\n",
    "|-|-|-|-|\n",
    "| L1 | Calculate positions | `posmap` (dict) | Transformed into returns, equity or equity diffs |\n",
    "| L2 | Calculate equity diffs | `eqdmap` (dict) | Used in calculation of indicators |\n",
    "| L3 | Apply KPIs | `kpimap_sr` (series) | Used in comparing strategies, building a score or a matrix |\n",
    "| L4 | Bind KPIs into a score | `scoremap_sr` (series) | Takes into account and examines multiple KPIs |\n",
    "| L5 | Convert into a matrix | `matrix_df` (dataframe) | Constructs a heatmap |"
   ]
  },
  {
   "cell_type": "markdown",
   "metadata": {},
   "source": [
    "At the end we will be able to compare performance of different trading strategies."
   ]
  },
  {
   "cell_type": "markdown",
   "metadata": {},
   "source": [
    "## L1\n",
    "## posmap"
   ]
  },
  {
   "cell_type": "markdown",
   "metadata": {},
   "source": [
    "Position series keyed by parameter combinations"
   ]
  },
  {
   "cell_type": "code",
   "execution_count": 22,
   "metadata": {
    "collapsed": true
   },
   "outputs": [],
   "source": [
    "from vectorbt.optimizer.gridsearch import posmap"
   ]
  },
  {
   "cell_type": "markdown",
   "metadata": {},
   "source": [
    "Generate combinations of fast and slow SMA (from 1 to 100) and their resulting positions"
   ]
  },
  {
   "cell_type": "code",
   "execution_count": 23,
   "metadata": {},
   "outputs": [
    {
     "name": "stdout",
     "output_type": "stream",
     "text": [
      "ma-posmap\n",
      "setup: ma_func = sma, th = (0.01, 0.01)\n",
      "grid: 1.000000 -> 100.000000 = 5050\n",
      "calcs: 5050 (~26.42s)\n",
      "passed. 9.26s\n"
     ]
    }
   ],
   "source": [
    "sma_posmap = posmap.ma(rate_sr, 1, 100, 1, (0.01, 0.01), indicators.sma)"
   ]
  },
  {
   "cell_type": "markdown",
   "metadata": {},
   "source": [
    "Generate random positions of magnitude similar to the map above (to be comparable)"
   ]
  },
  {
   "cell_type": "code",
   "execution_count": 24,
   "metadata": {},
   "outputs": [
    {
     "name": "stdout",
     "output_type": "stream",
     "text": [
      "random-posmap\n",
      "setup: positions = ~26, N = 5050\n",
      "calcs: 5050 (~17.63s)\n",
      "passed. 6.92s\n"
     ]
    }
   ],
   "source": [
    "import math\n",
    "n = math.ceil(np.median([len(pos_sr.index) for pos_sr in sma_posmap.values() if len(pos_sr.index) > 0]))\n",
    "N = len(sma_posmap)\n",
    "random_posmap = posmap.random(rate_sr, n, N)"
   ]
  },
  {
   "cell_type": "markdown",
   "metadata": {},
   "source": [
    "## L2\n",
    "## eqdmap"
   ]
  },
  {
   "cell_type": "markdown",
   "metadata": {},
   "source": [
    "Translate each position series in the `posmap` into equity diffs"
   ]
  },
  {
   "cell_type": "code",
   "execution_count": 25,
   "metadata": {
    "collapsed": true
   },
   "outputs": [],
   "source": [
    "from vectorbt.optimizer.gridsearch import eqdmap"
   ]
  },
  {
   "cell_type": "code",
   "execution_count": 26,
   "metadata": {},
   "outputs": [
    {
     "name": "stdout",
     "output_type": "stream",
     "text": [
      "eqdmap\n",
      "setup: fees = 0.001500\n",
      "calcs: 5050 (~48.71s)\n",
      "passed. 13.96s\n"
     ]
    }
   ],
   "source": [
    "sma_eqdmap = eqdmap.from_posmap(rate_sr, sma_posmap, 0.0015)"
   ]
  },
  {
   "cell_type": "code",
   "execution_count": 27,
   "metadata": {},
   "outputs": [
    {
     "name": "stdout",
     "output_type": "stream",
     "text": [
      "eqdmap\n",
      "setup: fees = 0.001500\n",
      "calcs: 5050 (~32.86s)\n",
      "passed. 15.72s\n"
     ]
    }
   ],
   "source": [
    "random_eqdmap = eqdmap.from_posmap(rate_sr, random_posmap, 0.0015)"
   ]
  },
  {
   "cell_type": "markdown",
   "metadata": {},
   "source": [
    "## L3 \n",
    "## kpimap"
   ]
  },
  {
   "cell_type": "markdown",
   "metadata": {},
   "source": [
    "Apply indicator (KPI) on each equity diffs series in the `eqdmap`"
   ]
  },
  {
   "cell_type": "code",
   "execution_count": 28,
   "metadata": {
    "collapsed": true
   },
   "outputs": [],
   "source": [
    "from vectorbt.optimizer.gridsearch import kpimap"
   ]
  },
  {
   "cell_type": "code",
   "execution_count": 29,
   "metadata": {},
   "outputs": [
    {
     "name": "stdout",
     "output_type": "stream",
     "text": [
      "expectancy-kpimap\n",
      "calcs: 5050 (~2.20s)\n",
      "min (2, 3): -0.12458152267\n",
      "max (9, 11): 0.329132056005\n",
      "passed. 0.53s\n"
     ]
    }
   ],
   "source": [
    "sma_kpimap1_sr = kpimap.from_eqdmap(sma_eqdmap, kpi.expectancy)"
   ]
  },
  {
   "cell_type": "code",
   "execution_count": 30,
   "metadata": {},
   "outputs": [
    {
     "name": "stdout",
     "output_type": "stream",
     "text": [
      "sharpe-kpimap\n",
      "calcs: 5050 (~14.03s)\n",
      "min (44, 60): -18.1303482422\n",
      "max (13, 19): 13.8395558623\n",
      "passed. 6.79s\n"
     ]
    }
   ],
   "source": [
    "sma_kpimap2_sr = kpimap.from_eqdmap(sma_eqdmap, kpi.sharpe)"
   ]
  },
  {
   "cell_type": "code",
   "execution_count": 31,
   "metadata": {},
   "outputs": [
    {
     "name": "stdout",
     "output_type": "stream",
     "text": [
      "expectancy-kpimap\n",
      "calcs: 5050 (~1.82s)\n",
      "min 3335: -0.0259874087559\n",
      "max 3558: 0.0705882952183\n",
      "passed. 0.59s\n"
     ]
    }
   ],
   "source": [
    "random_kpimap_sr = kpimap.from_eqdmap(random_eqdmap, kpi.expectancy)"
   ]
  },
  {
   "cell_type": "markdown",
   "metadata": {},
   "source": [
    "Compare KPI maps on basic properties and quantiles distribution"
   ]
  },
  {
   "cell_type": "code",
   "execution_count": 32,
   "metadata": {},
   "outputs": [
    {
     "name": "stdout",
     "output_type": "stream",
     "text": [
      "    count      mean       std       min       25%       50%       75%  \\\n",
      "0  5050.0  0.010520  0.011544 -0.025987  0.002281  0.009567  0.017883   \n",
      "1  4543.0  0.053393  0.088895 -0.124582  0.001771  0.006855  0.053921   \n",
      "\n",
      "        max  \n",
      "0  0.070588  \n",
      "1  0.329132  \n"
     ]
    },
    {
     "data": {
      "image/png": "[encoded data removed]",
      "text/plain": [
       "<matplotlib.figure.Figure at 0x111a444e0>"
      ]
     },
     "metadata": {},
     "output_type": "display_data"
    }
   ],
   "source": [
    "kpimap.compare(random_kpimap_sr, sma_kpimap1_sr)"
   ]
  },
  {
   "cell_type": "markdown",
   "metadata": {},
   "source": [
    "## L4\n",
    "## scoremap"
   ]
  },
  {
   "cell_type": "markdown",
   "metadata": {},
   "source": [
    "Take into account multiple weighted indicators and generate a score from 1 to 100"
   ]
  },
  {
   "cell_type": "code",
   "execution_count": 33,
   "metadata": {
    "collapsed": true
   },
   "outputs": [],
   "source": [
    "from vectorbt.optimizer.gridsearch import scoremap"
   ]
  },
  {
   "cell_type": "code",
   "execution_count": 34,
   "metadata": {},
   "outputs": [
    {
     "name": "stdout",
     "output_type": "stream",
     "text": [
      "1-100-scoremap\n",
      "min (1, 1): 1.0\n",
      "max (9, 11): 97.1960405004\n",
      "passed. 0.01s\n"
     ]
    }
   ],
   "source": [
    "sma_scoremap_sr = scoremap.from_kpimaps([sma_kpimap1_sr, sma_kpimap2_sr], [2/3, 1/3], [False, False])"
   ]
  },
  {
   "cell_type": "markdown",
   "metadata": {},
   "source": [
    "## L5 \n",
    "## matrix"
   ]
  },
  {
   "cell_type": "markdown",
   "metadata": {},
   "source": [
    "Reshape 2d-parameter grid into a matrix and display as a heatmap"
   ]
  },
  {
   "cell_type": "code",
   "execution_count": 35,
   "metadata": {
    "collapsed": true
   },
   "outputs": [],
   "source": [
    "from vectorbt.optimizer.gridsearch import matrix\n",
    "from matplotlib import pyplot as plt\n",
    "import pandas as pd"
   ]
  },
  {
   "cell_type": "code",
   "execution_count": 36,
   "metadata": {},
   "outputs": [
    {
     "name": "stdout",
     "output_type": "stream",
     "text": [
      "100-100-matrix\n",
      "passed. 1.51s\n"
     ]
    }
   ],
   "source": [
    "sma_matrix_df = matrix.from_map(sma_kpimap1_sr, symmetric=True).fillna(0)"
   ]
  },
  {
   "cell_type": "code",
   "execution_count": 37,
   "metadata": {
    "scrolled": false
   },
   "outputs": [
    {
     "data": {
      "image/png": "[encoded data removed]",
      "text/plain": [
       "<matplotlib.figure.Figure at 0x11207a080>"
      ]
     },
     "metadata": {},
     "output_type": "display_data"
    }
   ],
   "source": [
    "cmap = plt.cm.viridis\n",
    "norm = plt.Normalize()\n",
    "matplotlib.rcParams['figure.figsize'] = (12, 9)\n",
    "matrix.plot(sma_matrix_df, cmap, norm)"
   ]
  },
  {
   "cell_type": "markdown",
   "metadata": {},
   "source": [
    "Compare KPI distribution to that of random map"
   ]
  },
  {
   "cell_type": "code",
   "execution_count": 38,
   "metadata": {},
   "outputs": [
    {
     "name": "stdout",
     "output_type": "stream",
     "text": [
      "    count      mean       std       min       25%       50%       75%  \\\n",
      "0  4543.0  0.053393  0.088895 -0.124582  0.001771  0.006855  0.053921   \n",
      "\n",
      "        max  \n",
      "0  0.329132  \n"
     ]
    },
    {
     "data": {
      "image/png": "[encoded data removed]",
      "text/plain": [
       "<matplotlib.figure.Figure at 0x1120ec8d0>"
      ]
     },
     "metadata": {},
     "output_type": "display_data"
    }
   ],
   "source": [
    "matplotlib.rcParams['figure.figsize'] = (12, 5)\n",
    "graphics.plot_hist(sma_kpimap1_sr.dropna(), cmap, norm)"
   ]
  },
  {
   "cell_type": "code",
   "execution_count": 39,
   "metadata": {},
   "outputs": [
    {
     "name": "stdout",
     "output_type": "stream",
     "text": [
      "    count      mean       std       min       25%       50%       75%  \\\n",
      "0  5052.0  0.010556  0.012527 -0.124582  0.002274  0.009567  0.017885   \n",
      "\n",
      "        max  \n",
      "0  0.329132  \n"
     ]
    },
    {
     "data": {
      "image/png": "[encoded data removed]",
      "text/plain": [
       "<matplotlib.figure.Figure at 0x112c6ee10>"
      ]
     },
     "metadata": {},
     "output_type": "display_data"
    }
   ],
   "source": [
    "# Adjust bounds\n",
    "to_plot = random_kpimap_sr.append(pd.Series(sma_kpimap1_sr.min())).append(pd.Series(sma_kpimap1_sr.max()))\n",
    "graphics.plot_hist(to_plot, cmap, norm)"
   ]
  },
  {
   "cell_type": "code",
   "execution_count": null,
   "metadata": {
    "collapsed": true
   },
   "outputs": [],
   "source": []
  }
 ],
 "metadata": {
  "anaconda-cloud": {},
  "kernelspec": {
   "display_name": "Python [conda root]",
   "language": "python",
   "name": "conda-root-py"
  },
  "language_info": {
   "codemirror_mode": {
    "name": "ipython",
    "version": 3
   },
   "file_extension": ".py",
   "mimetype": "text/x-python",
   "name": "python",
   "nbconvert_exporter": "python",
   "pygments_lexer": "ipython3",
   "version": "3.6.1"
  }
 },
 "nbformat": 4,
 "nbformat_minor": 2
}
