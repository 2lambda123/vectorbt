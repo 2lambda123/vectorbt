{
 "cells": [
  {
   "cell_type": "markdown",
   "metadata": {},
   "source": [
    "# data"
   ]
  },
  {
   "cell_type": "markdown",
   "metadata": {},
   "source": [
    "Load OHLC data from cryptocurrency exchange Poloniex"
   ]
  },
  {
   "cell_type": "code",
   "execution_count": 48,
   "metadata": {},
   "outputs": [],
   "source": [
    "from vectorbt import data, graphics\n",
    "from datetime import datetime\n",
    "import pytz\n",
    "from importlib import reload\n",
    "import matplotlib\n",
    "matplotlib.rcParams['figure.figsize'] = (10, 4)"
   ]
  },
  {
   "cell_type": "code",
   "execution_count": 3,
   "metadata": {
    "scrolled": true
   },
   "outputs": [
    {
     "name": "stdout",
     "output_type": "stream",
     "text": [
      "Finished. 1.44s\n"
     ]
    },
    {
     "data": {
      "text/html": [
       "<div>\n",
       "<style>\n",
       "    .dataframe thead tr:only-child th {\n",
       "        text-align: right;\n",
       "    }\n",
       "\n",
       "    .dataframe thead th {\n",
       "        text-align: left;\n",
       "    }\n",
       "\n",
       "    .dataframe tbody tr th {\n",
       "        vertical-align: top;\n",
       "    }\n",
       "</style>\n",
       "<table border=\"1\" class=\"dataframe\">\n",
       "  <thead>\n",
       "    <tr style=\"text-align: right;\">\n",
       "      <th></th>\n",
       "      <th>close</th>\n",
       "      <th>high</th>\n",
       "      <th>low</th>\n",
       "      <th>open</th>\n",
       "      <th>quoteVolume</th>\n",
       "      <th>volume</th>\n",
       "      <th>weightedAverage</th>\n",
       "    </tr>\n",
       "    <tr>\n",
       "      <th>date</th>\n",
       "      <th></th>\n",
       "      <th></th>\n",
       "      <th></th>\n",
       "      <th></th>\n",
       "      <th></th>\n",
       "      <th></th>\n",
       "      <th></th>\n",
       "    </tr>\n",
       "  </thead>\n",
       "  <tbody>\n",
       "    <tr>\n",
       "      <th>2017-10-16 22:30:00</th>\n",
       "      <td>5702.692023</td>\n",
       "      <td>5718.870000</td>\n",
       "      <td>5702.692023</td>\n",
       "      <td>5718.870000</td>\n",
       "      <td>3.796625</td>\n",
       "      <td>21672.085234</td>\n",
       "      <td>5708.249521</td>\n",
       "    </tr>\n",
       "    <tr>\n",
       "      <th>2017-10-16 22:35:00</th>\n",
       "      <td>5705.320000</td>\n",
       "      <td>5715.530483</td>\n",
       "      <td>5705.307720</td>\n",
       "      <td>5711.999999</td>\n",
       "      <td>2.172149</td>\n",
       "      <td>12400.148485</td>\n",
       "      <td>5708.701053</td>\n",
       "    </tr>\n",
       "    <tr>\n",
       "      <th>2017-10-16 22:40:00</th>\n",
       "      <td>5706.000000</td>\n",
       "      <td>5714.307719</td>\n",
       "      <td>5700.453309</td>\n",
       "      <td>5710.000000</td>\n",
       "      <td>5.784446</td>\n",
       "      <td>33001.420264</td>\n",
       "      <td>5705.199354</td>\n",
       "    </tr>\n",
       "    <tr>\n",
       "      <th>2017-10-16 22:45:00</th>\n",
       "      <td>5718.780000</td>\n",
       "      <td>5718.780000</td>\n",
       "      <td>5706.000000</td>\n",
       "      <td>5706.000000</td>\n",
       "      <td>5.825045</td>\n",
       "      <td>33290.632693</td>\n",
       "      <td>5715.085543</td>\n",
       "    </tr>\n",
       "    <tr>\n",
       "      <th>2017-10-16 22:50:00</th>\n",
       "      <td>5714.310000</td>\n",
       "      <td>5722.000000</td>\n",
       "      <td>5714.310000</td>\n",
       "      <td>5717.500000</td>\n",
       "      <td>5.989278</td>\n",
       "      <td>34248.657447</td>\n",
       "      <td>5718.328704</td>\n",
       "    </tr>\n",
       "  </tbody>\n",
       "</table>\n",
       "</div>"
      ],
      "text/plain": [
       "                           close         high          low         open  \\\n",
       "date                                                                      \n",
       "2017-10-16 22:30:00  5702.692023  5718.870000  5702.692023  5718.870000   \n",
       "2017-10-16 22:35:00  5705.320000  5715.530483  5705.307720  5711.999999   \n",
       "2017-10-16 22:40:00  5706.000000  5714.307719  5700.453309  5710.000000   \n",
       "2017-10-16 22:45:00  5718.780000  5718.780000  5706.000000  5706.000000   \n",
       "2017-10-16 22:50:00  5714.310000  5722.000000  5714.310000  5717.500000   \n",
       "\n",
       "                     quoteVolume        volume  weightedAverage  \n",
       "date                                                             \n",
       "2017-10-16 22:30:00     3.796625  21672.085234      5708.249521  \n",
       "2017-10-16 22:35:00     2.172149  12400.148485      5708.701053  \n",
       "2017-10-16 22:40:00     5.784446  33001.420264      5705.199354  \n",
       "2017-10-16 22:45:00     5.825045  33290.632693      5715.085543  \n",
       "2017-10-16 22:50:00     5.989278  34248.657447      5718.328704  "
      ]
     },
     "execution_count": 3,
     "metadata": {},
     "output_type": "execute_result"
    }
   ],
   "source": [
    "ohlc_df = data.load_cryptopair('USDT_BTC', data.ago_dt(days=30), data.now_dt())\n",
    "ohlc_df.head()"
   ]
  },
  {
   "cell_type": "code",
   "execution_count": 4,
   "metadata": {
    "collapsed": true
   },
   "outputs": [],
   "source": [
    "rate_sr = ohlc_df['open']"
   ]
  },
  {
   "cell_type": "code",
   "execution_count": 49,
   "metadata": {},
   "outputs": [
    {
     "data": {
      "image/png": "[encoded data removed]",
      "text/plain": [
       "<matplotlib.figure.Figure at 0x119421e80>"
      ]
     },
     "metadata": {},
     "output_type": "display_data"
    }
   ],
   "source": [
    "graphics.plot_line(rate_sr)"
   ]
  },
  {
   "cell_type": "markdown",
   "metadata": {},
   "source": [
    "# strategy"
   ]
  },
  {
   "cell_type": "markdown",
   "metadata": {},
   "source": [
    "Generate signals for simple moving average strategy"
   ]
  },
  {
   "cell_type": "code",
   "execution_count": 6,
   "metadata": {
    "collapsed": true
   },
   "outputs": [],
   "source": [
    "from vectorbt import strategy\n",
    "import numpy as np"
   ]
  },
  {
   "cell_type": "markdown",
   "metadata": {},
   "source": [
    "Build 20 and 30 moving averages"
   ]
  },
  {
   "cell_type": "code",
   "execution_count": 8,
   "metadata": {},
   "outputs": [
    {
     "name": "stdout",
     "output_type": "stream",
     "text": [
      "date\n",
      "2017-10-16 22:30:00    5718.870000\n",
      "2017-10-16 22:35:00    5718.215714\n",
      "2017-10-16 22:40:00    5717.433265\n",
      "2017-10-16 22:45:00    5716.344383\n",
      "2017-10-16 22:50:00    5716.454441\n",
      "Name: open, dtype: float64\n",
      "date\n",
      "2017-10-16 22:30:00    5718.870000\n",
      "2017-10-16 22:35:00    5718.600588\n",
      "2017-10-16 22:40:00    5718.263310\n",
      "2017-10-16 22:45:00    5717.782396\n",
      "2017-10-16 22:50:00    5717.771321\n",
      "Name: open, dtype: float64\n"
     ]
    }
   ],
   "source": [
    "fast_ema_sr = strategy.ema(rate_sr, 20)\n",
    "slow_ema_sr = strategy.ema(rate_sr, 50)\n",
    "print(fast_ema_sr.head())\n",
    "print(slow_ema_sr.head())"
   ]
  },
  {
   "cell_type": "markdown",
   "metadata": {},
   "source": [
    "Go long whenever fast SMA is over slow SMA by threshold (in % of current rate), while go short when opposite occurs"
   ]
  },
  {
   "cell_type": "code",
   "execution_count": 9,
   "metadata": {},
   "outputs": [
    {
     "name": "stdout",
     "output_type": "stream",
     "text": [
      "[1062 2762 3717 4643 4760 6394 7607 7625 7860 7916 7926 8101 8401 8524]\n",
      "[ 401  479 1519 2055 2298 5993 6007 6584 6586 6594 7070 7152 7364 7547 7565\n",
      " 7761 8016]\n"
     ]
    }
   ],
   "source": [
    "ema_entry_vector = strategy.ma_entry_vector(rate_sr, fast_ema_sr, slow_ema_sr, th=(0.01, 0.01))\n",
    "ema_exit_vector = strategy.ma_exit_vector(rate_sr, fast_ema_sr, slow_ema_sr, th=(0.01, 0.01))\n",
    "print(np.flatnonzero(ema_entry_vector))\n",
    "print(np.flatnonzero(ema_exit_vector))"
   ]
  },
  {
   "cell_type": "markdown",
   "metadata": {},
   "source": [
    "Both, entry and exit vectors, are sequences of 0 and 1 (bit-vectors) to speed up vector operations and to allow application of additional filters on them. Each vector is reduced (and sparse) and contains only signals that are first in their sequences. This way, we get neither outdated signals, nor typical issues like entry immediatelly after exit or vice versa. To apply a filter, create your own (not sparse) bit-vector and multiply with signals."
   ]
  },
  {
   "cell_type": "markdown",
   "metadata": {},
   "source": [
    "# positions"
   ]
  },
  {
   "cell_type": "code",
   "execution_count": 47,
   "metadata": {},
   "outputs": [],
   "source": [
    "from vectorbt import positions"
   ]
  },
  {
   "cell_type": "markdown",
   "metadata": {},
   "source": [
    "Generete positions out of both vectors (merge and reduce)"
   ]
  },
  {
   "cell_type": "code",
   "execution_count": 12,
   "metadata": {},
   "outputs": [
    {
     "data": {
      "text/plain": [
       "date\n",
       "2017-10-20 15:00:00    1\n",
       "2017-10-22 05:05:00   -1\n",
       "2017-10-26 12:40:00    1\n",
       "2017-11-06 17:55:00   -1\n",
       "2017-11-08 03:20:00    1\n",
       "dtype: int64"
      ]
     },
     "execution_count": 12,
     "metadata": {},
     "output_type": "execute_result"
    }
   ],
   "source": [
    "position_sr = positions.from_vectors(rate_sr, ema_entry_vector, ema_exit_vector)\n",
    "position_sr.head()"
   ]
  },
  {
   "cell_type": "markdown",
   "metadata": {},
   "source": [
    "Position series has always even number of positions. First position is always long, the last one always short. This kind of fixed structure (`[0::2]` for long, `[1::2]` for short) makes further manipulations, such as calculation of equity, very easy."
   ]
  },
  {
   "cell_type": "markdown",
   "metadata": {},
   "source": [
    "Visualize entries and exits"
   ]
  },
  {
   "cell_type": "code",
   "execution_count": 13,
   "metadata": {},
   "outputs": [
    {
     "data": {
      "image/png": "[encoded data removed]",
      "text/plain": [
       "<matplotlib.figure.Figure at 0x109ea16d8>"
      ]
     },
     "metadata": {},
     "output_type": "display_data"
    }
   ],
   "source": [
    "positions.plot(rate_sr, position_sr)"
   ]
  },
  {
   "cell_type": "markdown",
   "metadata": {},
   "source": [
    "# returns"
   ]
  },
  {
   "cell_type": "code",
   "execution_count": 14,
   "metadata": {
    "collapsed": true
   },
   "outputs": [],
   "source": [
    "from vectorbt import returns"
   ]
  },
  {
   "cell_type": "markdown",
   "metadata": {},
   "source": [
    "Generate % returns out of positions. Takes into account fees."
   ]
  },
  {
   "cell_type": "code",
   "execution_count": 77,
   "metadata": {},
   "outputs": [
    {
     "data": {
      "text/plain": [
       "date\n",
       "2017-10-20 15:00:00   -0.001500\n",
       "2017-10-22 05:05:00   -0.020383\n",
       "2017-10-26 12:40:00   -0.001500\n",
       "2017-11-06 17:55:00    0.191785\n",
       "2017-11-08 03:20:00   -0.001500\n",
       "dtype: float64"
      ]
     },
     "execution_count": 77,
     "metadata": {},
     "output_type": "execute_result"
    }
   ],
   "source": [
    "posret_sr = returns.from_positions(rate_sr, position_sr, 0.0015)\n",
    "posret_sr.head()"
   ]
  },
  {
   "cell_type": "markdown",
   "metadata": {},
   "source": [
    "Position returns series (`posret`) inherits the structure of the position series and make them redundant. Because we apply fees, we get negative returns on long. If fees are zero, returns on long are also zero, but still included in the series. "
   ]
  },
  {
   "cell_type": "markdown",
   "metadata": {},
   "source": [
    "Generate hold returns."
   ]
  },
  {
   "cell_type": "code",
   "execution_count": 17,
   "metadata": {},
   "outputs": [
    {
     "data": {
      "text/plain": [
       "2017-10-16 22:30:00   -0.001500\n",
       "2017-11-15 22:25:00    0.265745\n",
       "dtype: float64"
      ]
     },
     "execution_count": 17,
     "metadata": {},
     "output_type": "execute_result"
    }
   ],
   "source": [
    "returns.on_hold(rate_sr, 0.0015)"
   ]
  },
  {
   "cell_type": "code",
   "execution_count": 78,
   "metadata": {},
   "outputs": [
    {
     "data": {
      "image/png": "[encoded data removed]",
      "text/plain": [
       "<matplotlib.figure.Figure at 0x11a3d4a58>"
      ]
     },
     "metadata": {},
     "output_type": "display_data"
    }
   ],
   "source": [
    "returns.plot(posret_sr)"
   ]
  },
  {
   "cell_type": "markdown",
   "metadata": {},
   "source": [
    "# equity"
   ]
  },
  {
   "cell_type": "code",
   "execution_count": 19,
   "metadata": {
    "collapsed": true
   },
   "outputs": [],
   "source": [
    "from vectorbt import equity"
   ]
  },
  {
   "cell_type": "markdown",
   "metadata": {},
   "source": [
    "Generate equity in base and quote currency from position returns"
   ]
  },
  {
   "cell_type": "code",
   "execution_count": 79,
   "metadata": {},
   "outputs": [
    {
     "data": {
      "text/html": [
       "<div>\n",
       "<style>\n",
       "    .dataframe thead tr:only-child th {\n",
       "        text-align: right;\n",
       "    }\n",
       "\n",
       "    .dataframe thead th {\n",
       "        text-align: left;\n",
       "    }\n",
       "\n",
       "    .dataframe tbody tr th {\n",
       "        vertical-align: top;\n",
       "    }\n",
       "</style>\n",
       "<table border=\"1\" class=\"dataframe\">\n",
       "  <thead>\n",
       "    <tr style=\"text-align: right;\">\n",
       "      <th></th>\n",
       "      <th>base</th>\n",
       "      <th>quote</th>\n",
       "    </tr>\n",
       "    <tr>\n",
       "      <th>date</th>\n",
       "      <th></th>\n",
       "      <th></th>\n",
       "    </tr>\n",
       "  </thead>\n",
       "  <tbody>\n",
       "    <tr>\n",
       "      <th>2017-10-16 22:30:00</th>\n",
       "      <td>NaN</td>\n",
       "      <td>NaN</td>\n",
       "    </tr>\n",
       "    <tr>\n",
       "      <th>2017-10-16 22:35:00</th>\n",
       "      <td>NaN</td>\n",
       "      <td>NaN</td>\n",
       "    </tr>\n",
       "    <tr>\n",
       "      <th>2017-10-16 22:40:00</th>\n",
       "      <td>NaN</td>\n",
       "      <td>NaN</td>\n",
       "    </tr>\n",
       "    <tr>\n",
       "      <th>2017-10-16 22:45:00</th>\n",
       "      <td>NaN</td>\n",
       "      <td>NaN</td>\n",
       "    </tr>\n",
       "    <tr>\n",
       "      <th>2017-10-16 22:50:00</th>\n",
       "      <td>NaN</td>\n",
       "      <td>NaN</td>\n",
       "    </tr>\n",
       "  </tbody>\n",
       "</table>\n",
       "</div>"
      ],
      "text/plain": [
       "                     base  quote\n",
       "date                            \n",
       "2017-10-16 22:30:00   NaN    NaN\n",
       "2017-10-16 22:35:00   NaN    NaN\n",
       "2017-10-16 22:40:00   NaN    NaN\n",
       "2017-10-16 22:45:00   NaN    NaN\n",
       "2017-10-16 22:50:00   NaN    NaN"
      ]
     },
     "execution_count": 79,
     "metadata": {},
     "output_type": "execute_result"
    }
   ],
   "source": [
    "equity_df = equity.from_returns(rate_sr, posret_sr)\n",
    "equity_df.head()"
   ]
  },
  {
   "cell_type": "markdown",
   "metadata": {},
   "source": [
    "Base and quote are NaN before the first entry or if no positions were taken"
   ]
  },
  {
   "cell_type": "markdown",
   "metadata": {},
   "source": [
    "Visualize both equities"
   ]
  },
  {
   "cell_type": "code",
   "execution_count": 22,
   "metadata": {},
   "outputs": [
    {
     "data": {
      "image/png": "[encoded data removed]",
      "text/plain": [
       "<matplotlib.figure.Figure at 0x1142dc390>"
      ]
     },
     "metadata": {},
     "output_type": "display_data"
    },
    {
     "data": {
      "image/png": "[encoded data removed]",
      "text/plain": [
       "<matplotlib.figure.Figure at 0x11442b908>"
      ]
     },
     "metadata": {},
     "output_type": "display_data"
    }
   ],
   "source": [
    "equity.plot(rate_sr, equity_df)"
   ]
  },
  {
   "cell_type": "markdown",
   "metadata": {},
   "source": [
    "Equity diffs (`eqd`) are absolute returns if initial investment was 1. They are used in calculation of performance and risk/profit indicators such as sharpe ratio."
   ]
  },
  {
   "cell_type": "code",
   "execution_count": 23,
   "metadata": {},
   "outputs": [
    {
     "data": {
      "text/plain": [
       "date\n",
       "2017-10-20 15:00:00   -0.001500\n",
       "2017-10-22 05:05:00   -0.020353\n",
       "2017-10-26 12:40:00   -0.001467\n",
       "2017-11-06 17:55:00    0.187313\n",
       "2017-11-08 03:20:00   -0.001746\n",
       "dtype: float64"
      ]
     },
     "execution_count": 23,
     "metadata": {},
     "output_type": "execute_result"
    }
   ],
   "source": [
    "eqd_sr = equity.diff_on_positions(returns_sr)\n",
    "eqd_sr.head()"
   ]
  },
  {
   "cell_type": "markdown",
   "metadata": {},
   "source": [
    "# indicators"
   ]
  },
  {
   "cell_type": "markdown",
   "metadata": {},
   "source": [
    "Every indicator uses equity diffs as input"
   ]
  },
  {
   "cell_type": "code",
   "execution_count": 24,
   "metadata": {},
   "outputs": [],
   "source": [
    "from vectorbt import indicators\n",
    "import json"
   ]
  },
  {
   "cell_type": "code",
   "execution_count": 26,
   "metadata": {},
   "outputs": [
    {
     "name": "stdout",
     "output_type": "stream",
     "text": [
      "{\n",
      "  \"backtest\": {\n",
      "    \"from\": \"2017-10-20 15:00:00\",\n",
      "    \"to\": \"2017-11-15 22:25:00\",\n",
      "    \"days\": 26,\n",
      "    \"trades\": 12\n",
      "  },\n",
      "  \"performance\": {\n",
      "    \"profit\": 0.14605159647638177,\n",
      "    \"averages\": {\n",
      "      \"trade\": 0.025938948192681537,\n",
      "      \"gain\": 0.09671961246511045,\n",
      "      \"loss\": 0.04484171607974737\n",
      "    },\n",
      "    \"winrate\": 0.5,\n",
      "    \"payoff\": 2.15691148601678,\n",
      "    \"PF\": 2.15691148601678,\n",
      "    \"RF\": 1.3631461355758718\n",
      "  },\n",
      "  \"risk/return profile\": {\n",
      "    \"sharpe\": 3.201571748894034,\n",
      "    \"sortino\": 6.861687638474576,\n",
      "    \"maxdd\": 0.1141724170977021\n",
      "  }\n",
      "}\n"
     ]
    }
   ],
   "source": [
    "indicators.print_summary(eqd_sr)"
   ]
  },
  {
   "cell_type": "markdown",
   "metadata": {},
   "source": [
    "# optimizer.gridsearch"
   ]
  },
  {
   "cell_type": "markdown",
   "metadata": {},
   "source": [
    "The classic optimization method is grid search (or exhaustive search). It exhaustively generates candidates from a grid of parameter values and applies them on the series. \n",
    "\n",
    "This method brings some advantages:\n",
    "- its simple to implement\n",
    "- 2d-combinations can be visualized using heatmaps\n",
    "- can be used to discover hidden patterns in combinations\n",
    "- highly parallelizable\n",
    "\n",
    "But also drawbacks are possible:\n",
    "- not flexible enough to fit changing financial markets\n",
    "- prone to overfitting\n",
    "- no intermediate feedback"
   ]
  },
  {
   "cell_type": "markdown",
   "metadata": {},
   "source": [
    "**Grid search consists of 5 levels:**\n",
    "\n",
    "| Level | Operation | Result | Use cases |\n",
    "|-|-|-|-|\n",
    "| L1 | Calculate positions | `posmap` (dict) | Transformed into returns, equity or equity diffs |\n",
    "| L2 | Calculate equity diffs | `eqdmap` (dict) | Used in calculation of indicators |\n",
    "| L3 | Apply KPIs | `kpimap_sr` (series) | Used in comparing strategies, building a score or a matrix |\n",
    "| L4 | Bind KPIs into a score | `scoremap_sr` (series) | Takes into account and examines multiple KPIs |\n",
    "| L5 | Convert into a matrix | `matrix_df` (dataframe) | Constructs a heatmap |"
   ]
  },
  {
   "cell_type": "markdown",
   "metadata": {},
   "source": [
    "At the end we will be able to compare performance of different trading strategies."
   ]
  },
  {
   "cell_type": "markdown",
   "metadata": {},
   "source": [
    "## L1\n",
    "## posmap"
   ]
  },
  {
   "cell_type": "markdown",
   "metadata": {},
   "source": [
    "Position series keyed by parameter combinations"
   ]
  },
  {
   "cell_type": "code",
   "execution_count": 249,
   "metadata": {},
   "outputs": [
    {
     "data": {
      "text/plain": [
       "<module 'vectorbt.optimizer.gridsearch.posmap' from '/Users/olegpolakow/Documents/SourceTree/vector-bt/vectorbt/optimizer/gridsearch/posmap.py'>"
      ]
     },
     "execution_count": 249,
     "metadata": {},
     "output_type": "execute_result"
    }
   ],
   "source": [
    "from vectorbt.optimizer.gridsearch import posmap\n",
    "reload(posmap)"
   ]
  },
  {
   "cell_type": "markdown",
   "metadata": {},
   "source": [
    "Generate combinations of fast and slow SMA (from 1 to 100) and their resulting positions"
   ]
  },
  {
   "cell_type": "code",
   "execution_count": 250,
   "metadata": {},
   "outputs": [
    {
     "name": "stdout",
     "output_type": "stream",
     "text": [
      "ma-posmap\n",
      "setup: ma_func = sma, th = (0.01, 0.01)\n",
      "grid: 1.000000 -> 100.000000 = 5050\n",
      "calcs: 5050 (~10.66s)\n",
      "passed. 6.78s\n"
     ]
    }
   ],
   "source": [
    "sma_posmap = posmap.ma(rate_sr, 1, 100, 1, (0.01, 0.01), strategy.sma)"
   ]
  },
  {
   "cell_type": "markdown",
   "metadata": {},
   "source": [
    "Generate random positions of magnitude similar to the map above (to be comparable)"
   ]
  },
  {
   "cell_type": "code",
   "execution_count": 251,
   "metadata": {},
   "outputs": [
    {
     "name": "stdout",
     "output_type": "stream",
     "text": [
      "random-posmap\n",
      "setup: positions = ~26, N = 5050\n",
      "calcs: 5050 (~7.57s)\n",
      "passed. 4.17s\n"
     ]
    }
   ],
   "source": [
    "import math\n",
    "n = math.ceil(np.median([len(pos_sr.index) for pos_sr in sma_posmap.values() if len(pos_sr.index) > 0]))\n",
    "N = len(sma_posmap)\n",
    "random_posmap = posmap.random(rate_sr, n, N)"
   ]
  },
  {
   "cell_type": "markdown",
   "metadata": {},
   "source": [
    "## L2\n",
    "## eqdmap"
   ]
  },
  {
   "cell_type": "markdown",
   "metadata": {},
   "source": [
    "Translate each position series in the `posmap` into equity diffs"
   ]
  },
  {
   "cell_type": "code",
   "execution_count": 246,
   "metadata": {},
   "outputs": [
    {
     "data": {
      "text/plain": [
       "<module 'vectorbt.optimizer.gridsearch.eqdmap' from '/Users/olegpolakow/Documents/SourceTree/vector-bt/vectorbt/optimizer/gridsearch/eqdmap.py'>"
      ]
     },
     "execution_count": 246,
     "metadata": {},
     "output_type": "execute_result"
    }
   ],
   "source": [
    "from vectorbt.optimizer.gridsearch import eqdmap\n",
    "reload(eqdmap)"
   ]
  },
  {
   "cell_type": "code",
   "execution_count": 247,
   "metadata": {},
   "outputs": [
    {
     "name": "stdout",
     "output_type": "stream",
     "text": [
      "eqdmap\n",
      "setup: fees = 0.001500\n",
      "calcs: 5050 (~33.33s)\n",
      "passed. 15.03s\n"
     ]
    }
   ],
   "source": [
    "sma_eqdmap = eqdmap.from_posmap(rate_sr, sma_posmap, 0.0015)"
   ]
  },
  {
   "cell_type": "code",
   "execution_count": 248,
   "metadata": {},
   "outputs": [
    {
     "name": "stdout",
     "output_type": "stream",
     "text": [
      "eqdmap\n",
      "setup: fees = 0.001500\n",
      "calcs: 5050 (~20.14s)\n",
      "passed. 15.92s\n"
     ]
    }
   ],
   "source": [
    "random_eqdmap = eqdmap.from_posmap(rate_sr, random_posmap, 0.0015)"
   ]
  },
  {
   "cell_type": "markdown",
   "metadata": {},
   "source": [
    "## L3 \n",
    "## kpimap"
   ]
  },
  {
   "cell_type": "markdown",
   "metadata": {},
   "source": [
    "Apply indicator (KPI) on each equity diffs series in the `eqdmap`"
   ]
  },
  {
   "cell_type": "code",
   "execution_count": 266,
   "metadata": {},
   "outputs": [
    {
     "data": {
      "text/plain": [
       "<module 'vectorbt.optimizer.gridsearch.kpimap' from '/Users/olegpolakow/Documents/SourceTree/vector-bt/vectorbt/optimizer/gridsearch/kpimap.py'>"
      ]
     },
     "execution_count": 266,
     "metadata": {},
     "output_type": "execute_result"
    }
   ],
   "source": [
    "from vectorbt.optimizer.gridsearch import kpimap\n",
    "reload(kpimap)"
   ]
  },
  {
   "cell_type": "code",
   "execution_count": 270,
   "metadata": {},
   "outputs": [
    {
     "name": "stdout",
     "output_type": "stream",
     "text": [
      "expectancy-kpimap\n",
      "calcs: 5050 (~1.53s)\n",
      "min (2, 3): -0.12458152267\n",
      "max (76, 100): 0.27337344894\n",
      "passed. 0.51s\n"
     ]
    }
   ],
   "source": [
    "sma1_kpimap_sr = kpimap.from_eqdmap(sma_eqdmap, indicators.expectancy)"
   ]
  },
  {
   "cell_type": "code",
   "execution_count": 271,
   "metadata": {},
   "outputs": [
    {
     "name": "stdout",
     "output_type": "stream",
     "text": [
      "sharpe-kpimap\n",
      "calcs: 5050 (~10.08s)\n",
      "min (44, 60): -18.1303482422\n",
      "max (13, 19): 16.0558259346\n",
      "passed. 6.01s\n"
     ]
    }
   ],
   "source": [
    "sma2_kpimap_sr = kpimap.from_eqdmap(sma_eqdmap, indicators.sharpe)"
   ]
  },
  {
   "cell_type": "code",
   "execution_count": 269,
   "metadata": {},
   "outputs": [
    {
     "name": "stdout",
     "output_type": "stream",
     "text": [
      "expectancy-kpimap\n",
      "calcs: 5050 (~1.54s)\n",
      "min 3259: -0.0245265256972\n",
      "max 4972: 0.05904380347\n",
      "passed. 0.56s\n"
     ]
    }
   ],
   "source": [
    "random_kpimap_sr = kpimap.from_eqdmap(random_eqdmap, indicators.expectancy)"
   ]
  },
  {
   "cell_type": "markdown",
   "metadata": {},
   "source": [
    "Compare KPI maps on basic properties and quantiles distribution"
   ]
  },
  {
   "cell_type": "code",
   "execution_count": 272,
   "metadata": {},
   "outputs": [
    {
     "name": "stdout",
     "output_type": "stream",
     "text": [
      "    count      mean       std       min       25%       50%       75%  \\\n",
      "0  5050.0  0.008555  0.011023 -0.024527  0.000938  0.007759  0.015313   \n",
      "1  4543.0  0.042902  0.059220 -0.124582  0.004479  0.010572  0.058267   \n",
      "\n",
      "        max  \n",
      "0  0.059044  \n",
      "1  0.273373  \n"
     ]
    },
    {
     "data": {
      "image/png": "[encoded data removed]",
      "text/plain": [
       "<matplotlib.figure.Figure at 0x11a5e0b00>"
      ]
     },
     "metadata": {},
     "output_type": "display_data"
    }
   ],
   "source": [
    "kpimap.compare(random_kpimap_sr, sma1_kpimap_sr)"
   ]
  },
  {
   "cell_type": "markdown",
   "metadata": {},
   "source": [
    "## L4\n",
    "## scoremap"
   ]
  },
  {
   "cell_type": "markdown",
   "metadata": {},
   "source": [
    "Take into account multiple weighted indicators and generate a score from 1 to 100"
   ]
  },
  {
   "cell_type": "code",
   "execution_count": 280,
   "metadata": {},
   "outputs": [
    {
     "data": {
      "text/plain": [
       "<module 'vectorbt.optimizer.gridsearch.scoremap' from '/Users/olegpolakow/Documents/SourceTree/vector-bt/vectorbt/optimizer/gridsearch/scoremap.py'>"
      ]
     },
     "execution_count": 280,
     "metadata": {},
     "output_type": "execute_result"
    }
   ],
   "source": [
    "from vectorbt.optimizer.gridsearch import scoremap\n",
    "reload(scoremap)"
   ]
  },
  {
   "cell_type": "code",
   "execution_count": 281,
   "metadata": {},
   "outputs": [
    {
     "name": "stdout",
     "output_type": "stream",
     "text": [
      "1-100-scoremap\n",
      "min (1, 1): 1.0\n",
      "max (76, 100): 97.1239795506\n",
      "passed. 0.01s\n"
     ]
    }
   ],
   "source": [
    "ma_scoremap = scoremap.from_kpimaps([sma1_kpimap_sr, sma2_kpimap_sr], [2/3, 1/3], [False, False])"
   ]
  },
  {
   "cell_type": "markdown",
   "metadata": {},
   "source": [
    "## L5 \n",
    "## matrix"
   ]
  },
  {
   "cell_type": "markdown",
   "metadata": {},
   "source": [
    "Reshape 2d-parameter grid into a matrix and display as a heatmap"
   ]
  },
  {
   "cell_type": "code",
   "execution_count": 282,
   "metadata": {},
   "outputs": [
    {
     "data": {
      "text/plain": [
       "<module 'vectorbt.optimizer.gridsearch.matrix' from '/Users/olegpolakow/Documents/SourceTree/vector-bt/vectorbt/optimizer/gridsearch/matrix.py'>"
      ]
     },
     "execution_count": 282,
     "metadata": {},
     "output_type": "execute_result"
    }
   ],
   "source": [
    "from vectorbt.optimizer.gridsearch import matrix\n",
    "reload(matrix)"
   ]
  },
  {
   "cell_type": "code",
   "execution_count": 283,
   "metadata": {},
   "outputs": [
    {
     "name": "stdout",
     "output_type": "stream",
     "text": [
      "100-100-matrix\n",
      "passed. 1.51s\n"
     ]
    }
   ],
   "source": [
    "sma_matrix_df = matrix.from_map(sma_kpimap, symmetric=True).fillna(0)"
   ]
  },
  {
   "cell_type": "code",
   "execution_count": 284,
   "metadata": {
    "scrolled": false
   },
   "outputs": [
    {
     "data": {
      "image/png": "[encoded data removed]",
      "text/plain": [
       "<matplotlib.figure.Figure at 0x117f31dd8>"
      ]
     },
     "metadata": {},
     "output_type": "display_data"
    },
    {
     "data": {
      "image/png": "[encoded data removed]",
      "text/plain": [
       "<matplotlib.figure.Figure at 0x11b9f5b38>"
      ]
     },
     "metadata": {},
     "output_type": "display_data"
    }
   ],
   "source": [
    "cmap, norm = graphics.discrete_cmap([-1, 0, 0.15, 1], ['gold', 'grey', 'limegreen'])\n",
    "matrix.plot(sma_matrix_df, cmap, norm)\n",
    "graphics.plot_hist(sma_matrix_df, cmap, norm)"
   ]
  },
  {
   "cell_type": "markdown",
   "metadata": {},
   "source": [
    "Compare KPI distribution to that of random map"
   ]
  },
  {
   "cell_type": "code",
   "execution_count": 285,
   "metadata": {},
   "outputs": [
    {
     "data": {
      "image/png": "[encoded data removed]",
      "text/plain": [
       "<matplotlib.figure.Figure at 0x11ace2e48>"
      ]
     },
     "metadata": {},
     "output_type": "display_data"
    }
   ],
   "source": [
    "graphics.plot_hist(list(random_kpimap.values()), cmap, norm)"
   ]
  },
  {
   "cell_type": "code",
   "execution_count": null,
   "metadata": {
    "collapsed": true
   },
   "outputs": [],
   "source": []
  }
 ],
 "metadata": {
  "anaconda-cloud": {},
  "kernelspec": {
   "display_name": "Python [conda root]",
   "language": "python",
   "name": "conda-root-py"
  },
  "language_info": {
   "codemirror_mode": {
    "name": "ipython",
    "version": 3
   },
   "file_extension": ".py",
   "mimetype": "text/x-python",
   "name": "python",
   "nbconvert_exporter": "python",
   "pygments_lexer": "ipython3",
   "version": "3.6.1"
  }
 },
 "nbformat": 4,
 "nbformat_minor": 2
}
