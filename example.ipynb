{
 "cells": [
  {
   "cell_type": "markdown",
   "metadata": {},
   "source": [
    "# data"
   ]
  },
  {
   "cell_type": "markdown",
   "metadata": {},
   "source": [
    "Load OHLC data from cryptocurrency exchange Poloniex"
   ]
  },
  {
   "cell_type": "code",
   "execution_count": 1,
   "metadata": {
    "collapsed": true
   },
   "outputs": [],
   "source": [
    "from vectorbt import data, graphics\n",
    "from datetime import datetime\n",
    "from importlib import reload\n",
    "import pytz\n",
    "import matplotlib\n",
    "matplotlib.rcParams['figure.figsize'] = (12, 5)"
   ]
  },
  {
   "cell_type": "code",
   "execution_count": 2,
   "metadata": {
    "scrolled": true
   },
   "outputs": [
    {
     "name": "stdout",
     "output_type": "stream",
     "text": [
      "done. 1.54s\n"
     ]
    },
    {
     "data": {
      "text/html": [
       "<div>\n",
       "<style>\n",
       "    .dataframe thead tr:only-child th {\n",
       "        text-align: right;\n",
       "    }\n",
       "\n",
       "    .dataframe thead th {\n",
       "        text-align: left;\n",
       "    }\n",
       "\n",
       "    .dataframe tbody tr th {\n",
       "        vertical-align: top;\n",
       "    }\n",
       "</style>\n",
       "<table border=\"1\" class=\"dataframe\">\n",
       "  <thead>\n",
       "    <tr style=\"text-align: right;\">\n",
       "      <th></th>\n",
       "      <th>O</th>\n",
       "      <th>H</th>\n",
       "      <th>L</th>\n",
       "      <th>C</th>\n",
       "      <th>V</th>\n",
       "    </tr>\n",
       "    <tr>\n",
       "      <th>date</th>\n",
       "      <th></th>\n",
       "      <th></th>\n",
       "      <th></th>\n",
       "      <th></th>\n",
       "      <th></th>\n",
       "    </tr>\n",
       "  </thead>\n",
       "  <tbody>\n",
       "    <tr>\n",
       "      <th>2017-10-22 22:20:00</th>\n",
       "      <td>5957.000000</td>\n",
       "      <td>5962.568000</td>\n",
       "      <td>5939.287218</td>\n",
       "      <td>5945.283042</td>\n",
       "      <td>66340.418719</td>\n",
       "    </tr>\n",
       "    <tr>\n",
       "      <th>2017-10-22 22:25:00</th>\n",
       "      <td>5945.283042</td>\n",
       "      <td>5945.283042</td>\n",
       "      <td>5938.000000</td>\n",
       "      <td>5938.000000</td>\n",
       "      <td>15026.972604</td>\n",
       "    </tr>\n",
       "    <tr>\n",
       "      <th>2017-10-22 22:30:00</th>\n",
       "      <td>5942.700000</td>\n",
       "      <td>5942.700000</td>\n",
       "      <td>5930.659400</td>\n",
       "      <td>5941.000000</td>\n",
       "      <td>27096.055188</td>\n",
       "    </tr>\n",
       "    <tr>\n",
       "      <th>2017-10-22 22:35:00</th>\n",
       "      <td>5942.000000</td>\n",
       "      <td>5962.568912</td>\n",
       "      <td>5933.000010</td>\n",
       "      <td>5962.568911</td>\n",
       "      <td>25209.557427</td>\n",
       "    </tr>\n",
       "    <tr>\n",
       "      <th>2017-10-22 22:40:00</th>\n",
       "      <td>5962.568911</td>\n",
       "      <td>5963.014864</td>\n",
       "      <td>5952.939133</td>\n",
       "      <td>5952.939133</td>\n",
       "      <td>9025.872525</td>\n",
       "    </tr>\n",
       "  </tbody>\n",
       "</table>\n",
       "</div>"
      ],
      "text/plain": [
       "                               O            H            L            C  \\\n",
       "date                                                                      \n",
       "2017-10-22 22:20:00  5957.000000  5962.568000  5939.287218  5945.283042   \n",
       "2017-10-22 22:25:00  5945.283042  5945.283042  5938.000000  5938.000000   \n",
       "2017-10-22 22:30:00  5942.700000  5942.700000  5930.659400  5941.000000   \n",
       "2017-10-22 22:35:00  5942.000000  5962.568912  5933.000010  5962.568911   \n",
       "2017-10-22 22:40:00  5962.568911  5963.014864  5952.939133  5952.939133   \n",
       "\n",
       "                                V  \n",
       "date                               \n",
       "2017-10-22 22:20:00  66340.418719  \n",
       "2017-10-22 22:25:00  15026.972604  \n",
       "2017-10-22 22:30:00  27096.055188  \n",
       "2017-10-22 22:35:00  25209.557427  \n",
       "2017-10-22 22:40:00   9025.872525  "
      ]
     },
     "execution_count": 2,
     "metadata": {},
     "output_type": "execute_result"
    }
   ],
   "source": [
    "ohlc_df = data.load_cryptopair('USDT_BTC', data.ago_dt(days=30), data.now_dt())\n",
    "ohlc_df.head()"
   ]
  },
  {
   "cell_type": "code",
   "execution_count": 3,
   "metadata": {
    "collapsed": true
   },
   "outputs": [],
   "source": [
    "rate_sr = ohlc_df['O']"
   ]
  },
  {
   "cell_type": "code",
   "execution_count": 4,
   "metadata": {},
   "outputs": [
    {
     "name": "stdout",
     "output_type": "stream",
     "text": [
      "    count         mean         std      min          25%     50%      75%  \\\n",
      "O  8640.0  6768.904131  786.314238  5302.64  6047.822675  6841.5  7353.31   \n",
      "\n",
      "           max  \n",
      "O  8383.465575  \n"
     ]
    },
    {
     "data": {
      "image/png": "[encoded data removed]",
      "text/plain": [
       "<matplotlib.figure.Figure at 0x10de2bd68>"
      ]
     },
     "metadata": {},
     "output_type": "display_data"
    }
   ],
   "source": [
    "graphics.plot_line(rate_sr)"
   ]
  },
  {
   "cell_type": "markdown",
   "metadata": {},
   "source": [
    "## indicators"
   ]
  },
  {
   "cell_type": "markdown",
   "metadata": {},
   "source": [
    "Calculate simple moving averages"
   ]
  },
  {
   "cell_type": "code",
   "execution_count": 5,
   "metadata": {
    "collapsed": true
   },
   "outputs": [],
   "source": [
    "from vectorbt import indicators"
   ]
  },
  {
   "cell_type": "code",
   "execution_count": 6,
   "metadata": {},
   "outputs": [],
   "source": [
    "fast_ma_sr = indicators.EMA(rate_sr, 50)\n",
    "slow_ma_sr = indicators.EMA(rate_sr, 100)"
   ]
  },
  {
   "cell_type": "markdown",
   "metadata": {},
   "source": [
    "Calculate upper and lower Bollinger Bands"
   ]
  },
  {
   "cell_type": "code",
   "execution_count": 7,
   "metadata": {
    "collapsed": true
   },
   "outputs": [],
   "source": [
    "upper_band_sr, lower_band_sr = indicators.BB(rate_sr, 20, 3)"
   ]
  },
  {
   "cell_type": "markdown",
   "metadata": {},
   "source": [
    "# signals"
   ]
  },
  {
   "cell_type": "code",
   "execution_count": 8,
   "metadata": {
    "collapsed": true
   },
   "outputs": [],
   "source": [
    "from vectorbt import signals\n",
    "import numpy as np"
   ]
  },
  {
   "cell_type": "markdown",
   "metadata": {},
   "source": [
    "First condition: Go long whenever fast SMA is over slow SMA, while go short when opposite occurs"
   ]
  },
  {
   "cell_type": "code",
   "execution_count": 9,
   "metadata": {},
   "outputs": [],
   "source": [
    "ma_evector = signals.DMAC_evector(fast_ma_sr, slow_ma_sr)\n",
    "ma_xvector = signals.DMAC_xvector(fast_ma_sr, slow_ma_sr)"
   ]
  },
  {
   "cell_type": "markdown",
   "metadata": {},
   "source": [
    "Second condition: Go long/short when outside of Bollinger Bands"
   ]
  },
  {
   "cell_type": "code",
   "execution_count": 10,
   "metadata": {
    "collapsed": true
   },
   "outputs": [],
   "source": [
    "bb_evector = signals.BB_evector(rate_sr, lower_band_sr)\n",
    "bb_xvector = signals.BB_xvector(rate_sr, upper_band_sr)"
   ]
  },
  {
   "cell_type": "markdown",
   "metadata": {},
   "source": [
    "# vector"
   ]
  },
  {
   "cell_type": "markdown",
   "metadata": {},
   "source": [
    "Both, entry and exit vectors, are sequences of 0 and 1 (bit-vectors) to allow fast vector operations"
   ]
  },
  {
   "cell_type": "code",
   "execution_count": 11,
   "metadata": {
    "collapsed": true
   },
   "outputs": [],
   "source": [
    "from vectorbt import vector"
   ]
  },
  {
   "cell_type": "markdown",
   "metadata": {},
   "source": [
    "Combining vectors is easy using `vector.AND/OR/XOR` operations"
   ]
  },
  {
   "cell_type": "code",
   "execution_count": 12,
   "metadata": {
    "collapsed": true
   },
   "outputs": [],
   "source": [
    "evector = vector.AND(ma_evector, bb_evector)\n",
    "xvector = vector.AND(ma_xvector, bb_xvector)"
   ]
  },
  {
   "cell_type": "markdown",
   "metadata": {},
   "source": [
    "We reduce both vectors to contain only signals that are first in their sequences. This way, we get neither outdated signals, nor typical issues like entry immediatelly after exit or vice versa."
   ]
  },
  {
   "cell_type": "code",
   "execution_count": 13,
   "metadata": {
    "collapsed": true
   },
   "outputs": [],
   "source": [
    "evector = vector.first(evector)\n",
    "xvector = vector.first(xvector)"
   ]
  },
  {
   "cell_type": "markdown",
   "metadata": {},
   "source": [
    "# positions"
   ]
  },
  {
   "cell_type": "code",
   "execution_count": 14,
   "metadata": {
    "collapsed": true
   },
   "outputs": [],
   "source": [
    "from vectorbt import positions"
   ]
  },
  {
   "cell_type": "markdown",
   "metadata": {},
   "source": [
    "Generete positions out of both vectors (merge and reduce)"
   ]
  },
  {
   "cell_type": "code",
   "execution_count": 15,
   "metadata": {},
   "outputs": [
    {
     "data": {
      "text/plain": [
       "date\n",
       "2017-10-24 19:00:00    1\n",
       "2017-10-28 00:10:00   -1\n",
       "2017-10-30 14:25:00    1\n",
       "2017-11-04 12:40:00   -1\n",
       "2017-11-04 22:35:00    1\n",
       "dtype: int64"
      ]
     },
     "execution_count": 15,
     "metadata": {},
     "output_type": "execute_result"
    }
   ],
   "source": [
    "pos_sr = positions.from_vectors(rate_sr, evector, xvector)\n",
    "pos_sr.head()"
   ]
  },
  {
   "cell_type": "markdown",
   "metadata": {},
   "source": [
    "Position series has always even number of positions. First position is always long, the last one always short. This kind of fixed structure (`[0::2]` for long, `[1::2]` for short) makes further manipulations, such as calculation of equity, very easy."
   ]
  },
  {
   "cell_type": "markdown",
   "metadata": {},
   "source": [
    "Visualize entries and exits"
   ]
  },
  {
   "cell_type": "code",
   "execution_count": 16,
   "metadata": {},
   "outputs": [
    {
     "name": "stdout",
     "output_type": "stream",
     "text": [
      "   count        mean         std  min         25%        50%        75%  \\\n",
      "O    6.0  413.027228  424.033338  0.0  158.041954  223.84636  678.73421   \n",
      "\n",
      "      max  \n",
      "O  1064.0  \n"
     ]
    },
    {
     "data": {
      "image/png": "[encoded data removed]",
      "text/plain": [
       "<matplotlib.figure.Figure at 0x10f271208>"
      ]
     },
     "metadata": {},
     "output_type": "display_data"
    }
   ],
   "source": [
    "positions.plot(rate_sr, pos_sr)"
   ]
  },
  {
   "cell_type": "markdown",
   "metadata": {},
   "source": [
    "# returns"
   ]
  },
  {
   "cell_type": "code",
   "execution_count": 17,
   "metadata": {},
   "outputs": [],
   "source": [
    "from vectorbt import returns"
   ]
  },
  {
   "cell_type": "markdown",
   "metadata": {},
   "source": [
    "Generate % returns out of positions. Takes into account fees."
   ]
  },
  {
   "cell_type": "code",
   "execution_count": 18,
   "metadata": {},
   "outputs": [
    {
     "data": {
      "text/plain": [
       "date\n",
       "2017-10-24 19:00:00   -0.002500\n",
       "2017-10-28 00:10:00    0.024467\n",
       "2017-10-30 14:25:00   -0.002500\n",
       "2017-11-04 12:40:00    0.171833\n",
       "2017-11-04 22:35:00   -0.002500\n",
       "dtype: float64"
      ]
     },
     "execution_count": 18,
     "metadata": {},
     "output_type": "execute_result"
    }
   ],
   "source": [
    "posret_sr = returns.from_positions(rate_sr, pos_sr, 0.0025)\n",
    "posret_sr.head()"
   ]
  },
  {
   "cell_type": "markdown",
   "metadata": {},
   "source": [
    "Position returns series (`posret`) inherits the structure of the position series and make them redundant. Because we apply fees, we get negative returns on long. If fees are zero, returns on long are also zero, but still included in the series. "
   ]
  },
  {
   "cell_type": "markdown",
   "metadata": {},
   "source": [
    "Generate hold returns."
   ]
  },
  {
   "cell_type": "code",
   "execution_count": 19,
   "metadata": {},
   "outputs": [
    {
     "data": {
      "text/plain": [
       "date\n",
       "2017-10-22 22:20:00   -0.001500\n",
       "2017-11-21 22:15:00    0.364163\n",
       "dtype: float64"
      ]
     },
     "execution_count": 19,
     "metadata": {},
     "output_type": "execute_result"
    }
   ],
   "source": [
    "returns.on_hold(rate_sr, 0.0015)"
   ]
  },
  {
   "cell_type": "code",
   "execution_count": 20,
   "metadata": {},
   "outputs": [
    {
     "name": "stdout",
     "output_type": "stream",
     "text": [
      "   count      mean       std     min     25%       50%      75%       max\n",
      "0    6.0  0.049512  0.073699 -0.0025 -0.0025  0.010984  0.08732  0.171833\n"
     ]
    },
    {
     "data": {
      "image/png": "[encoded data removed]",
      "text/plain": [
       "<matplotlib.figure.Figure at 0x10ecdf2e8>"
      ]
     },
     "metadata": {},
     "output_type": "display_data"
    }
   ],
   "source": [
    "returns.plot(posret_sr)"
   ]
  },
  {
   "cell_type": "markdown",
   "metadata": {},
   "source": [
    "# equity"
   ]
  },
  {
   "cell_type": "code",
   "execution_count": 21,
   "metadata": {
    "collapsed": true
   },
   "outputs": [],
   "source": [
    "from vectorbt import equity"
   ]
  },
  {
   "cell_type": "markdown",
   "metadata": {},
   "source": [
    "Generate equity in base and quote currency from position returns"
   ]
  },
  {
   "cell_type": "code",
   "execution_count": 22,
   "metadata": {},
   "outputs": [
    {
     "data": {
      "text/html": [
       "<div>\n",
       "<style>\n",
       "    .dataframe thead tr:only-child th {\n",
       "        text-align: right;\n",
       "    }\n",
       "\n",
       "    .dataframe thead th {\n",
       "        text-align: left;\n",
       "    }\n",
       "\n",
       "    .dataframe tbody tr th {\n",
       "        vertical-align: top;\n",
       "    }\n",
       "</style>\n",
       "<table border=\"1\" class=\"dataframe\">\n",
       "  <thead>\n",
       "    <tr style=\"text-align: right;\">\n",
       "      <th></th>\n",
       "      <th>base</th>\n",
       "      <th>quote</th>\n",
       "    </tr>\n",
       "    <tr>\n",
       "      <th>date</th>\n",
       "      <th></th>\n",
       "      <th></th>\n",
       "    </tr>\n",
       "  </thead>\n",
       "  <tbody>\n",
       "    <tr>\n",
       "      <th>2017-10-22 22:20:00</th>\n",
       "      <td>NaN</td>\n",
       "      <td>NaN</td>\n",
       "    </tr>\n",
       "    <tr>\n",
       "      <th>2017-10-22 22:25:00</th>\n",
       "      <td>NaN</td>\n",
       "      <td>NaN</td>\n",
       "    </tr>\n",
       "    <tr>\n",
       "      <th>2017-10-22 22:30:00</th>\n",
       "      <td>NaN</td>\n",
       "      <td>NaN</td>\n",
       "    </tr>\n",
       "    <tr>\n",
       "      <th>2017-10-22 22:35:00</th>\n",
       "      <td>NaN</td>\n",
       "      <td>NaN</td>\n",
       "    </tr>\n",
       "    <tr>\n",
       "      <th>2017-10-22 22:40:00</th>\n",
       "      <td>NaN</td>\n",
       "      <td>NaN</td>\n",
       "    </tr>\n",
       "  </tbody>\n",
       "</table>\n",
       "</div>"
      ],
      "text/plain": [
       "                     base  quote\n",
       "date                            \n",
       "2017-10-22 22:20:00   NaN    NaN\n",
       "2017-10-22 22:25:00   NaN    NaN\n",
       "2017-10-22 22:30:00   NaN    NaN\n",
       "2017-10-22 22:35:00   NaN    NaN\n",
       "2017-10-22 22:40:00   NaN    NaN"
      ]
     },
     "execution_count": 22,
     "metadata": {},
     "output_type": "execute_result"
    }
   ],
   "source": [
    "equity_df = equity.from_returns(rate_sr, posret_sr)\n",
    "equity_df.head()"
   ]
  },
  {
   "cell_type": "markdown",
   "metadata": {},
   "source": [
    "Base and quote are NaN before the first entry or if no positions were taken"
   ]
  },
  {
   "cell_type": "markdown",
   "metadata": {},
   "source": [
    "Visualize both equities"
   ]
  },
  {
   "cell_type": "code",
   "execution_count": 23,
   "metadata": {},
   "outputs": [
    {
     "name": "stdout",
     "output_type": "stream",
     "text": [
      "base\n",
      "    count        mean         std         min         25%         50%  \\\n",
      "0  8104.0 -425.910183  219.579166 -676.141888 -585.299769 -519.830673   \n",
      "\n",
      "          75%         max  \n",
      "0 -340.622778  141.359384  \n"
     ]
    },
    {
     "data": {
      "image/png": "[encoded data removed]",
      "text/plain": [
       "<matplotlib.figure.Figure at 0x10ecacb00>"
      ]
     },
     "metadata": {},
     "output_type": "display_data"
    },
    {
     "name": "stdout",
     "output_type": "stream",
     "text": [
      "quote\n",
      "    count      mean       std      min       25%       50%       75%      max\n",
      "0  8104.0 -0.059912  0.029752 -0.09091 -0.079266 -0.079266 -0.052251  0.02505\n"
     ]
    },
    {
     "data": {
      "image/png": "[encoded data removed]",
      "text/plain": [
       "<matplotlib.figure.Figure at 0x10ed537b8>"
      ]
     },
     "metadata": {},
     "output_type": "display_data"
    }
   ],
   "source": [
    "equity.plot(rate_sr, equity_df)"
   ]
  },
  {
   "cell_type": "markdown",
   "metadata": {},
   "source": [
    "Equity diffs (`eqd`) are absolute returns if initial investment was 1. They are used in calculation of performance and risk/profit indicators such as sharpe ratio."
   ]
  },
  {
   "cell_type": "code",
   "execution_count": 24,
   "metadata": {},
   "outputs": [
    {
     "data": {
      "text/plain": [
       "date\n",
       "2017-10-28 00:10:00    0.024406\n",
       "2017-11-04 12:40:00    0.175158\n",
       "2017-11-21 22:15:00    0.129008\n",
       "dtype: float64"
      ]
     },
     "execution_count": 24,
     "metadata": {},
     "output_type": "execute_result"
    }
   ],
   "source": [
    "eqd_sr = equity.diffs(posret_sr)\n",
    "eqd_sr.head()"
   ]
  },
  {
   "cell_type": "markdown",
   "metadata": {},
   "source": [
    "# performance"
   ]
  },
  {
   "cell_type": "code",
   "execution_count": 25,
   "metadata": {},
   "outputs": [],
   "source": [
    "from vectorbt import performance"
   ]
  },
  {
   "cell_type": "markdown",
   "metadata": {},
   "source": [
    "Print summary of multiple KPIs applied on equity diffs"
   ]
  },
  {
   "cell_type": "code",
   "execution_count": 26,
   "metadata": {},
   "outputs": [
    {
     "name": "stdout",
     "output_type": "stream",
     "text": [
      "{\n",
      "  \"performance\": {\n",
      "    \"profit\": 0.32857245524351675,\n",
      "    \"averages\": {\n",
      "      \"trade\": 0.10952415174783892,\n",
      "      \"gain\": 0.10952415174783892,\n",
      "      \"loss\": NaN\n",
      "    },\n",
      "    \"winrate\": 1.0,\n",
      "    \"payoff\": NaN,\n",
      "    \"PF\": NaN,\n",
      "    \"RF\": NaN\n",
      "  },\n",
      "  \"risk/return profile\": {\n",
      "    \"sharpe\": 1.4179441026224617,\n",
      "    \"sortino\": NaN,\n",
      "    \"maxdd\": 0.0\n",
      "  }\n",
      "}\n"
     ]
    }
   ],
   "source": [
    "performance.print_summary(eqd_sr)"
   ]
  },
  {
   "cell_type": "markdown",
   "metadata": {},
   "source": [
    "# optimizer.gridsearch"
   ]
  },
  {
   "cell_type": "markdown",
   "metadata": {},
   "source": [
    "The classic optimization method is grid search (or exhaustive search). It exhaustively generates candidates from a grid of parameter values and applies them on the series. \n",
    "\n",
    "This method brings some advantages:\n",
    "- its simple to implement\n",
    "- 2d-combinations can be visualized using heatmaps\n",
    "- can be used to discover hidden patterns in combinations\n",
    "- highly parallelizable\n",
    "\n",
    "But also drawbacks are possible:\n",
    "- not flexible enough to fit changing financial markets\n",
    "- prone to overfitting\n",
    "- no intermediate feedback"
   ]
  },
  {
   "cell_type": "markdown",
   "metadata": {},
   "source": [
    "**Grid search consists of 4 levels:**\n",
    "\n",
    "| Level | Motivation | Module | Map structure |\n",
    "|-|-|-|-|\n",
    "| 1 | Calculate equity diffs | `seriesmap` | `[(,)]` |\n",
    "| 2 | Calculate KPIs on equity diffs and compare | `nummap` | `pd.Series` |\n",
    "| 3 | Combine multiple KPIs into a single score and compare | `scoremap` | `pd.Series` |\n",
    "| 4 | Find patterns by building a heatmap | `matrix` | `pd.DataFrame` |"
   ]
  },
  {
   "cell_type": "markdown",
   "metadata": {},
   "source": [
    "At the end we will be able to compare performance of different trading strategies"
   ]
  },
  {
   "cell_type": "markdown",
   "metadata": {},
   "source": [
    "## L1\n",
    "## seriesmap"
   ]
  },
  {
   "cell_type": "code",
   "execution_count": 27,
   "metadata": {},
   "outputs": [],
   "source": [
    "from vectorbt.optimizer.gridsearch import params, seriesmap, mapper"
   ]
  },
  {
   "cell_type": "markdown",
   "metadata": {},
   "source": [
    "Calculate equity diffs for a range of EMA combinations"
   ]
  },
  {
   "cell_type": "markdown",
   "metadata": {},
   "source": [
    "    1. Precalculate all EMAs"
   ]
  },
  {
   "cell_type": "code",
   "execution_count": 28,
   "metadata": {},
   "outputs": [
    {
     "name": "stdout",
     "output_type": "stream",
     "text": [
      "cores: 4\n",
      "processes: 3\n",
      "starmap: False\n",
      "calcs: 100 ..\n",
      "done. 0.28s\n"
     ]
    }
   ],
   "source": [
    "# Init\n",
    "ma_func = lambda window: indicators.EMA(rate_sr, window)\n",
    "min_ma, max_ma, step = 1, 100, 1\n",
    "fees = 0.0025\n",
    "\n",
    "# Cache moving averages\n",
    "param_range = params.range_params(min_ma, max_ma, step)\n",
    "mamap = dict(seriesmap.from_func(ma_func, param_range))"
   ]
  },
  {
   "cell_type": "markdown",
   "metadata": {},
   "source": [
    "    2. For each EMA combination, generate respective equity diffs"
   ]
  },
  {
   "cell_type": "code",
   "execution_count": 29,
   "metadata": {
    "collapsed": true
   },
   "outputs": [],
   "source": [
    "# Func\n",
    "def ma_eqdfunc(fast_ma, slow_ma):\n",
    "    # Requires multiple layers of calculations\n",
    "    fast_ma_sr = mamap[fast_ma]\n",
    "    slow_ma_sr = mamap[slow_ma]\n",
    "    entries = signals.DMAC_evector(fast_ma_sr, slow_ma_sr)\n",
    "    exits = signals.DMAC_xvector(fast_ma_sr, slow_ma_sr)\n",
    "    pos_sr = positions.from_vectors(rate_sr, entries, exits)\n",
    "    posret_sr = returns.from_positions(rate_sr, pos_sr, fees)\n",
    "    eqd_sr = equity.diffs(posret_sr)\n",
    "    return eqd_sr\n",
    "\n",
    "# Params\n",
    "param_space = params.combine_rep_params(min_ma, max_ma, step, 2)"
   ]
  },
  {
   "cell_type": "code",
   "execution_count": 30,
   "metadata": {},
   "outputs": [
    {
     "name": "stdout",
     "output_type": "stream",
     "text": [
      "cores: 4\n",
      "processes: 3\n",
      "starmap: True\n",
      "calcs: 5050 ..\n",
      "done. 14.37s\n"
     ]
    }
   ],
   "source": [
    "ma_eqdmap = seriesmap.from_func(ma_eqdfunc, param_space)"
   ]
  },
  {
   "cell_type": "markdown",
   "metadata": {},
   "source": [
    "Generate equity diffs for random positions. Number of positions is the same as for EMA, to be comparable."
   ]
  },
  {
   "cell_type": "code",
   "execution_count": 31,
   "metadata": {},
   "outputs": [
    {
     "name": "stdout",
     "output_type": "stream",
     "text": [
      "cores: 4\n",
      "processes: 3\n",
      "starmap: False\n",
      "calcs: 5050 ..\n",
      "done. 2.74s\n"
     ]
    }
   ],
   "source": [
    "# Func\n",
    "def random_eqdfunc(n):\n",
    "    entries = signals.random_vector(rate_sr, n)\n",
    "    exits = signals.random_vector(rate_sr, n, evector=entries)\n",
    "    pos_sr = positions.from_vectors(rate_sr, entries, exits)\n",
    "    posret_sr = returns.from_positions(rate_sr, pos_sr, fees)\n",
    "    eqd_sr = equity.diffs(posret_sr)\n",
    "    return eqd_sr\n",
    "\n",
    "# Params\n",
    "param_range = np.array(mapper.map(lambda sr: len(sr.index), list(zip(*ma_eqdmap))[1]))+1"
   ]
  },
  {
   "cell_type": "code",
   "execution_count": 32,
   "metadata": {},
   "outputs": [
    {
     "name": "stdout",
     "output_type": "stream",
     "text": [
      "cores: 4\n",
      "processes: 3\n",
      "starmap: False\n",
      "calcs: 5050 ..\n",
      "done. 11.75s\n"
     ]
    }
   ],
   "source": [
    "random_eqdmap = seriesmap.from_func(random_eqdfunc, param_range)"
   ]
  },
  {
   "cell_type": "markdown",
   "metadata": {},
   "source": [
    "## L2\n",
    "## nummap"
   ]
  },
  {
   "cell_type": "markdown",
   "metadata": {},
   "source": [
    "Apply KPI on each equity diffs series"
   ]
  },
  {
   "cell_type": "code",
   "execution_count": 33,
   "metadata": {},
   "outputs": [],
   "source": [
    "from vectorbt.optimizer.gridsearch import nummap"
   ]
  },
  {
   "cell_type": "code",
   "execution_count": 34,
   "metadata": {},
   "outputs": [
    {
     "name": "stdout",
     "output_type": "stream",
     "text": [
      "cores: 4\n",
      "processes: 3\n",
      "starmap: False\n",
      "calcs: 5050 ..\n",
      "done. 2.86s\n",
      "min (18, 85): -0.00254638621928\n",
      "max (55, 62): 0.0049204535164\n"
     ]
    }
   ],
   "source": [
    "ma_exp_sr = nummap.from_seriesmap(ma_eqdmap, performance.expectancy)"
   ]
  },
  {
   "cell_type": "code",
   "execution_count": 35,
   "metadata": {},
   "outputs": [
    {
     "name": "stdout",
     "output_type": "stream",
     "text": [
      "cores: 4\n",
      "processes: 3\n",
      "starmap: False\n",
      "calcs: 5050 ..\n",
      "done. 2.91s\n",
      "min (1, 19): -0.366841101922\n",
      "max (61, 76): 0.170130115431\n"
     ]
    }
   ],
   "source": [
    "ma_sharpe_sr = nummap.from_seriesmap(ma_eqdmap, performance.sharpe)"
   ]
  },
  {
   "cell_type": "code",
   "execution_count": 36,
   "metadata": {},
   "outputs": [
    {
     "name": "stdout",
     "output_type": "stream",
     "text": [
      "cores: 4\n",
      "processes: 3\n",
      "starmap: False\n",
      "calcs: 5050 ..\n",
      "done. 2.86s\n",
      "min 1: -0.16414534013\n",
      "max 1: 0.399833012782\n"
     ]
    }
   ],
   "source": [
    "random_exp_sr = nummap.from_seriesmap(random_eqdmap, performance.expectancy)"
   ]
  },
  {
   "cell_type": "markdown",
   "metadata": {},
   "source": [
    "Compare quantile distributions of EMA and random strategy KPIs"
   ]
  },
  {
   "cell_type": "code",
   "execution_count": 37,
   "metadata": {},
   "outputs": [
    {
     "name": "stdout",
     "output_type": "stream",
     "text": [
      "            count      mean       std       min       25%       50%       75%  \\\n",
      "nummap     4950.0  0.000318  0.002213 -0.002546 -0.001653 -0.000760  0.002438   \n",
      "benchmark  5050.0  0.004851  0.022937 -0.164145 -0.000976  0.001476  0.005850   \n",
      "\n",
      "                max  \n",
      "nummap     0.004920  \n",
      "benchmark  0.399833  \n"
     ]
    },
    {
     "data": {
      "image/png": "[encoded data removed]",
      "text/plain": [
       "<matplotlib.figure.Figure at 0x11310e7b8>"
      ]
     },
     "metadata": {},
     "output_type": "display_data"
    }
   ],
   "source": [
    "nummap.compare_quantiles(ma_exp_sr, random_exp_sr)"
   ]
  },
  {
   "cell_type": "markdown",
   "metadata": {},
   "source": [
    "Compare KPI distribution to that of random map"
   ]
  },
  {
   "cell_type": "code",
   "execution_count": 47,
   "metadata": {},
   "outputs": [
    {
     "name": "stdout",
     "output_type": "stream",
     "text": [
      "            count      mean       std       min       25%       50%       75%  \\\n",
      "nummap     4950.0  0.000318  0.002213 -0.002546 -0.001653 -0.000760  0.002438   \n",
      "benchmark  5050.0  0.004851  0.022937 -0.164145 -0.000976  0.001476  0.005850   \n",
      "\n",
      "                max  \n",
      "nummap     0.004920  \n",
      "benchmark  0.399833  \n"
     ]
    },
    {
     "data": {
      "image/png": "[encoded data removed]",
      "text/plain": [
       "<matplotlib.figure.Figure at 0x113875e80>"
      ]
     },
     "metadata": {},
     "output_type": "display_data"
    },
    {
     "data": {
      "image/png": "[encoded data removed]",
      "text/plain": [
       "<matplotlib.figure.Figure at 0x113675e48>"
      ]
     },
     "metadata": {},
     "output_type": "display_data"
    }
   ],
   "source": [
    "from matplotlib import pyplot as plt\n",
    "cmap = plt.cm.rainbow_r\n",
    "norm = plt.Normalize()\n",
    "nummap.compare_hists(ma_exp_sr, random_exp_sr, 50, cmap, norm)"
   ]
  },
  {
   "cell_type": "markdown",
   "metadata": {},
   "source": [
    "## L3\n",
    "## scoremap"
   ]
  },
  {
   "cell_type": "markdown",
   "metadata": {},
   "source": [
    "Take into account multiple weighted KPIs and generate a score from 1 to 100"
   ]
  },
  {
   "cell_type": "code",
   "execution_count": 41,
   "metadata": {},
   "outputs": [],
   "source": [
    "from vectorbt.optimizer.gridsearch import scoremap"
   ]
  },
  {
   "cell_type": "code",
   "execution_count": 42,
   "metadata": {},
   "outputs": [
    {
     "name": "stdout",
     "output_type": "stream",
     "text": [
      "done. 0.01s\n",
      "min (1, 1): 1.0\n",
      "max (55, 62): 99.9857566258\n"
     ]
    }
   ],
   "source": [
    "ma_scoremap_sr = scoremap.from_nummaps([ma_exp_sr, ma_sharpe_sr], [2/3, 1/3], [False, False])"
   ]
  },
  {
   "cell_type": "markdown",
   "metadata": {},
   "source": [
    "## L4\n",
    "## matrix"
   ]
  },
  {
   "cell_type": "markdown",
   "metadata": {},
   "source": [
    "Reshape 2d-parameter grid into a matrix and display as a heatmap"
   ]
  },
  {
   "cell_type": "code",
   "execution_count": 43,
   "metadata": {
    "collapsed": true
   },
   "outputs": [],
   "source": [
    "from vectorbt.optimizer.gridsearch import matrix\n",
    "import pandas as pd"
   ]
  },
  {
   "cell_type": "code",
   "execution_count": 44,
   "metadata": {},
   "outputs": [
    {
     "name": "stdout",
     "output_type": "stream",
     "text": [
      "done. 1.53s\n"
     ]
    }
   ],
   "source": [
    "ma_matrix_df = matrix.from_nummap(ma_exp_sr, symmetric=True).fillna(0)"
   ]
  },
  {
   "cell_type": "code",
   "execution_count": 45,
   "metadata": {
    "scrolled": false
   },
   "outputs": [
    {
     "data": {
      "image/png": "[encoded data removed]",
      "text/plain": [
       "<matplotlib.figure.Figure at 0x1134929e8>"
      ]
     },
     "metadata": {},
     "output_type": "display_data"
    }
   ],
   "source": [
    "cmap = plt.cm.rainbow_r\n",
    "norm = plt.Normalize()\n",
    "matplotlib.rcParams['figure.figsize'] = (12, 9)\n",
    "matrix.plot(ma_matrix_df, cmap, norm)\n",
    "matplotlib.rcParams['figure.figsize'] = (12, 5)"
   ]
  },
  {
   "cell_type": "code",
   "execution_count": null,
   "metadata": {
    "collapsed": true
   },
   "outputs": [],
   "source": []
  }
 ],
 "metadata": {
  "anaconda-cloud": {},
  "kernelspec": {
   "display_name": "Python [conda root]",
   "language": "python",
   "name": "conda-root-py"
  },
  "language_info": {
   "codemirror_mode": {
    "name": "ipython",
    "version": 3
   },
   "file_extension": ".py",
   "mimetype": "text/x-python",
   "name": "python",
   "nbconvert_exporter": "python",
   "pygments_lexer": "ipython3",
   "version": "3.6.1"
  }
 },
 "nbformat": 4,
 "nbformat_minor": 2
}
