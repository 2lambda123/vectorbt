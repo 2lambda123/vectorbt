{
 "cells": [
  {
   "cell_type": "markdown",
   "metadata": {},
   "source": [
    "# data"
   ]
  },
  {
   "cell_type": "markdown",
   "metadata": {},
   "source": [
    "Load OHLC data from cryptocurrency exchange Poloniex"
   ]
  },
  {
   "cell_type": "code",
   "execution_count": 40,
   "metadata": {},
   "outputs": [],
   "source": [
    "from vectorbt import data, graphics\n",
    "from datetime import datetime\n",
    "from importlib import reload\n",
    "import pytz\n",
    "import matplotlib\n",
    "matplotlib.rcParams['figure.figsize'] = (12, 5)"
   ]
  },
  {
   "cell_type": "code",
   "execution_count": 41,
   "metadata": {
    "scrolled": true
   },
   "outputs": [
    {
     "name": "stdout",
     "output_type": "stream",
     "text": [
      "passed. 1.44s\n"
     ]
    },
    {
     "data": {
      "text/html": [
       "<div>\n",
       "<style>\n",
       "    .dataframe thead tr:only-child th {\n",
       "        text-align: right;\n",
       "    }\n",
       "\n",
       "    .dataframe thead th {\n",
       "        text-align: left;\n",
       "    }\n",
       "\n",
       "    .dataframe tbody tr th {\n",
       "        vertical-align: top;\n",
       "    }\n",
       "</style>\n",
       "<table border=\"1\" class=\"dataframe\">\n",
       "  <thead>\n",
       "    <tr style=\"text-align: right;\">\n",
       "      <th></th>\n",
       "      <th>close</th>\n",
       "      <th>high</th>\n",
       "      <th>low</th>\n",
       "      <th>open</th>\n",
       "      <th>quoteVolume</th>\n",
       "      <th>volume</th>\n",
       "      <th>weightedAverage</th>\n",
       "    </tr>\n",
       "    <tr>\n",
       "      <th>date</th>\n",
       "      <th></th>\n",
       "      <th></th>\n",
       "      <th></th>\n",
       "      <th></th>\n",
       "      <th></th>\n",
       "      <th></th>\n",
       "      <th></th>\n",
       "    </tr>\n",
       "  </thead>\n",
       "  <tbody>\n",
       "    <tr>\n",
       "      <th>2017-10-18 19:25:00</th>\n",
       "      <td>5365.000000</td>\n",
       "      <td>5402.849397</td>\n",
       "      <td>5365.000000</td>\n",
       "      <td>5384.000000</td>\n",
       "      <td>47.396267</td>\n",
       "      <td>255225.489198</td>\n",
       "      <td>5384.928133</td>\n",
       "    </tr>\n",
       "    <tr>\n",
       "      <th>2017-10-18 19:30:00</th>\n",
       "      <td>5380.000001</td>\n",
       "      <td>5384.498449</td>\n",
       "      <td>5365.000000</td>\n",
       "      <td>5384.498449</td>\n",
       "      <td>24.530670</td>\n",
       "      <td>131696.985365</td>\n",
       "      <td>5368.666383</td>\n",
       "    </tr>\n",
       "    <tr>\n",
       "      <th>2017-10-18 19:35:00</th>\n",
       "      <td>5410.000000</td>\n",
       "      <td>5410.000000</td>\n",
       "      <td>5380.000001</td>\n",
       "      <td>5385.000000</td>\n",
       "      <td>17.226283</td>\n",
       "      <td>92941.533816</td>\n",
       "      <td>5395.333002</td>\n",
       "    </tr>\n",
       "    <tr>\n",
       "      <th>2017-10-18 19:40:00</th>\n",
       "      <td>5390.000000</td>\n",
       "      <td>5409.869739</td>\n",
       "      <td>5390.000000</td>\n",
       "      <td>5409.869739</td>\n",
       "      <td>14.221080</td>\n",
       "      <td>76725.067690</td>\n",
       "      <td>5395.164724</td>\n",
       "    </tr>\n",
       "    <tr>\n",
       "      <th>2017-10-18 19:45:00</th>\n",
       "      <td>5395.036789</td>\n",
       "      <td>5400.623235</td>\n",
       "      <td>5390.000000</td>\n",
       "      <td>5390.000000</td>\n",
       "      <td>6.074250</td>\n",
       "      <td>32756.793390</td>\n",
       "      <td>5392.730329</td>\n",
       "    </tr>\n",
       "  </tbody>\n",
       "</table>\n",
       "</div>"
      ],
      "text/plain": [
       "                           close         high          low         open  \\\n",
       "date                                                                      \n",
       "2017-10-18 19:25:00  5365.000000  5402.849397  5365.000000  5384.000000   \n",
       "2017-10-18 19:30:00  5380.000001  5384.498449  5365.000000  5384.498449   \n",
       "2017-10-18 19:35:00  5410.000000  5410.000000  5380.000001  5385.000000   \n",
       "2017-10-18 19:40:00  5390.000000  5409.869739  5390.000000  5409.869739   \n",
       "2017-10-18 19:45:00  5395.036789  5400.623235  5390.000000  5390.000000   \n",
       "\n",
       "                     quoteVolume         volume  weightedAverage  \n",
       "date                                                              \n",
       "2017-10-18 19:25:00    47.396267  255225.489198      5384.928133  \n",
       "2017-10-18 19:30:00    24.530670  131696.985365      5368.666383  \n",
       "2017-10-18 19:35:00    17.226283   92941.533816      5395.333002  \n",
       "2017-10-18 19:40:00    14.221080   76725.067690      5395.164724  \n",
       "2017-10-18 19:45:00     6.074250   32756.793390      5392.730329  "
      ]
     },
     "execution_count": 41,
     "metadata": {},
     "output_type": "execute_result"
    }
   ],
   "source": [
    "ohlc_df = data.load_cryptopair('USDT_BTC', data.ago_dt(days=30), data.now_dt())\n",
    "ohlc_df.head()"
   ]
  },
  {
   "cell_type": "code",
   "execution_count": 42,
   "metadata": {
    "collapsed": true
   },
   "outputs": [],
   "source": [
    "rate_sr = ohlc_df['open']"
   ]
  },
  {
   "cell_type": "code",
   "execution_count": 79,
   "metadata": {},
   "outputs": [
    {
     "name": "stdout",
     "output_type": "stream",
     "text": [
      "       count         mean         std      min          25%         50%  \\\n",
      "open  8640.0  6479.200539  679.229792  5302.64  5852.454237  6374.03554   \n",
      "\n",
      "         75%     max  \n",
      "open  7140.0  8010.0  \n"
     ]
    },
    {
     "data": {
      "image/png": "[encoded data removed]",
      "text/plain": [
       "<matplotlib.figure.Figure at 0x11417aa90>"
      ]
     },
     "metadata": {},
     "output_type": "display_data"
    }
   ],
   "source": [
    "reload(graphics)\n",
    "graphics.plot_line(rate_sr)"
   ]
  },
  {
   "cell_type": "markdown",
   "metadata": {},
   "source": [
    "# strategy"
   ]
  },
  {
   "cell_type": "markdown",
   "metadata": {},
   "source": [
    "Generate signals for simple moving average strategy"
   ]
  },
  {
   "cell_type": "code",
   "execution_count": 51,
   "metadata": {
    "collapsed": true
   },
   "outputs": [],
   "source": [
    "from vectorbt import strategy\n",
    "import numpy as np"
   ]
  },
  {
   "cell_type": "markdown",
   "metadata": {},
   "source": [
    "Build 20 and 30 moving averages"
   ]
  },
  {
   "cell_type": "code",
   "execution_count": 52,
   "metadata": {},
   "outputs": [
    {
     "name": "stdout",
     "output_type": "stream",
     "text": [
      "date\n",
      "2017-10-18 19:25:00    5384.000000\n",
      "2017-10-18 19:30:00    5384.047471\n",
      "2017-10-18 19:35:00    5384.138188\n",
      "2017-10-18 19:40:00    5386.588812\n",
      "2017-10-18 19:45:00    5386.913687\n",
      "Name: open, dtype: float64\n",
      "date\n",
      "2017-10-18 19:25:00    5384.000000\n",
      "2017-10-18 19:30:00    5384.019547\n",
      "2017-10-18 19:35:00    5384.057996\n",
      "2017-10-18 19:40:00    5385.070221\n",
      "2017-10-18 19:45:00    5385.263546\n",
      "Name: open, dtype: float64\n"
     ]
    }
   ],
   "source": [
    "fast_ema_sr = strategy.ema(rate_sr, 20)\n",
    "slow_ema_sr = strategy.ema(rate_sr, 50)\n",
    "print(fast_ema_sr.head())\n",
    "print(slow_ema_sr.head())"
   ]
  },
  {
   "cell_type": "markdown",
   "metadata": {},
   "source": [
    "Go long whenever fast SMA is over slow SMA by threshold (in % of current rate), while go short when opposite occurs"
   ]
  },
  {
   "cell_type": "code",
   "execution_count": 53,
   "metadata": {},
   "outputs": [
    {
     "name": "stdout",
     "output_type": "stream",
     "text": [
      "[ 523 2223 3178 4104 4221 5855 7068 7086 7321 7377 7387 7562 7862 7985 8340\n",
      " 8385]\n",
      "[ 980 1516 1759 5454 5468 6045 6047 6055 6531 6613 6825 7008 7026 7222 7477\n",
      " 8503]\n"
     ]
    }
   ],
   "source": [
    "ema_entry_vector = strategy.ma_entry_vector(rate_sr, fast_ema_sr, slow_ema_sr, th=(0.01, 0.01))\n",
    "ema_exit_vector = strategy.ma_exit_vector(rate_sr, fast_ema_sr, slow_ema_sr, th=(0.01, 0.01))\n",
    "print(np.flatnonzero(ema_entry_vector))\n",
    "print(np.flatnonzero(ema_exit_vector))"
   ]
  },
  {
   "cell_type": "markdown",
   "metadata": {},
   "source": [
    "Both, entry and exit vectors, are sequences of 0 and 1 (bit-vectors) to speed up vector operations and to allow application of additional filters on them. Each vector is reduced (and sparse) and contains only signals that are first in their sequences. This way, we get neither outdated signals, nor typical issues like entry immediatelly after exit or vice versa. To apply a filter, create your own (not sparse) bit-vector and multiply with signals."
   ]
  },
  {
   "cell_type": "markdown",
   "metadata": {},
   "source": [
    "# positions"
   ]
  },
  {
   "cell_type": "code",
   "execution_count": 54,
   "metadata": {
    "collapsed": true
   },
   "outputs": [],
   "source": [
    "from vectorbt import positions"
   ]
  },
  {
   "cell_type": "markdown",
   "metadata": {},
   "source": [
    "Generete positions out of both vectors (merge and reduce)"
   ]
  },
  {
   "cell_type": "code",
   "execution_count": 55,
   "metadata": {},
   "outputs": [
    {
     "data": {
      "text/plain": [
       "date\n",
       "2017-10-20 15:00:00    1\n",
       "2017-10-22 05:05:00   -1\n",
       "2017-10-26 12:40:00    1\n",
       "2017-11-06 17:55:00   -1\n",
       "2017-11-08 03:20:00    1\n",
       "dtype: int64"
      ]
     },
     "execution_count": 55,
     "metadata": {},
     "output_type": "execute_result"
    }
   ],
   "source": [
    "pos_sr = positions.from_vectors(rate_sr, ema_entry_vector, ema_exit_vector)\n",
    "pos_sr.head()"
   ]
  },
  {
   "cell_type": "markdown",
   "metadata": {},
   "source": [
    "Position series has always even number of positions. First position is always long, the last one always short. This kind of fixed structure (`[0::2]` for long, `[1::2]` for short) makes further manipulations, such as calculation of equity, very easy."
   ]
  },
  {
   "cell_type": "markdown",
   "metadata": {},
   "source": [
    "Visualize entries and exits"
   ]
  },
  {
   "cell_type": "code",
   "execution_count": 80,
   "metadata": {},
   "outputs": [
    {
     "name": "stdout",
     "output_type": "stream",
     "text": [
      "      count        mean         std    min         25%         50%  \\\n",
      "open   12.0  135.133561  544.504245 -862.0 -103.599318  102.952091   \n",
      "\n",
      "             75%     max  \n",
      "open  347.381712  1145.0  \n"
     ]
    },
    {
     "data": {
      "image/png": "[encoded data removed]",
      "text/plain": [
       "<matplotlib.figure.Figure at 0x113c58a90>"
      ]
     },
     "metadata": {},
     "output_type": "display_data"
    }
   ],
   "source": [
    "reload(positions)\n",
    "positions.plot(rate_sr, pos_sr)"
   ]
  },
  {
   "cell_type": "markdown",
   "metadata": {},
   "source": [
    "# returns"
   ]
  },
  {
   "cell_type": "code",
   "execution_count": 11,
   "metadata": {
    "collapsed": true
   },
   "outputs": [],
   "source": [
    "from vectorbt import returns"
   ]
  },
  {
   "cell_type": "markdown",
   "metadata": {},
   "source": [
    "Generate % returns out of positions. Takes into account fees."
   ]
  },
  {
   "cell_type": "code",
   "execution_count": 12,
   "metadata": {},
   "outputs": [
    {
     "data": {
      "text/plain": [
       "date\n",
       "2017-10-20 15:00:00   -0.001500\n",
       "2017-10-22 05:05:00   -0.020383\n",
       "2017-10-26 12:40:00   -0.001500\n",
       "2017-11-06 17:55:00    0.191785\n",
       "2017-11-08 03:20:00   -0.001500\n",
       "dtype: float64"
      ]
     },
     "execution_count": 12,
     "metadata": {},
     "output_type": "execute_result"
    }
   ],
   "source": [
    "posret_sr = returns.from_positions(rate_sr, pos_sr, 0.0015)\n",
    "posret_sr.head()"
   ]
  },
  {
   "cell_type": "markdown",
   "metadata": {},
   "source": [
    "Position returns series (`posret`) inherits the structure of the position series and make them redundant. Because we apply fees, we get negative returns on long. If fees are zero, returns on long are also zero, but still included in the series. "
   ]
  },
  {
   "cell_type": "markdown",
   "metadata": {},
   "source": [
    "Generate hold returns."
   ]
  },
  {
   "cell_type": "code",
   "execution_count": 13,
   "metadata": {},
   "outputs": [
    {
     "data": {
      "text/plain": [
       "2017-10-18 17:10:00   -0.001500\n",
       "2017-11-17 17:05:00    0.444578\n",
       "dtype: float64"
      ]
     },
     "execution_count": 13,
     "metadata": {},
     "output_type": "execute_result"
    }
   ],
   "source": [
    "returns.on_hold(rate_sr, 0.0015)"
   ]
  },
  {
   "cell_type": "code",
   "execution_count": 81,
   "metadata": {},
   "outputs": [
    {
     "name": "stdout",
     "output_type": "stream",
     "text": [
      "   count      mean       std       min       25%     50%       75%       max\n",
      "0   12.0  0.016795  0.072555 -0.084381 -0.004941 -0.0015  0.001333  0.191785\n"
     ]
    },
    {
     "data": {
      "image/png": "[encoded data removed]",
      "text/plain": [
       "<matplotlib.figure.Figure at 0x114910c88>"
      ]
     },
     "metadata": {},
     "output_type": "display_data"
    }
   ],
   "source": [
    "returns.plot(posret_sr)"
   ]
  },
  {
   "cell_type": "markdown",
   "metadata": {},
   "source": [
    "# equity"
   ]
  },
  {
   "cell_type": "code",
   "execution_count": 15,
   "metadata": {
    "collapsed": true
   },
   "outputs": [],
   "source": [
    "from vectorbt import equity"
   ]
  },
  {
   "cell_type": "markdown",
   "metadata": {},
   "source": [
    "Generate equity in base and quote currency from position returns"
   ]
  },
  {
   "cell_type": "code",
   "execution_count": 65,
   "metadata": {},
   "outputs": [
    {
     "data": {
      "text/html": [
       "<div>\n",
       "<style>\n",
       "    .dataframe thead tr:only-child th {\n",
       "        text-align: right;\n",
       "    }\n",
       "\n",
       "    .dataframe thead th {\n",
       "        text-align: left;\n",
       "    }\n",
       "\n",
       "    .dataframe tbody tr th {\n",
       "        vertical-align: top;\n",
       "    }\n",
       "</style>\n",
       "<table border=\"1\" class=\"dataframe\">\n",
       "  <thead>\n",
       "    <tr style=\"text-align: right;\">\n",
       "      <th></th>\n",
       "      <th>base</th>\n",
       "      <th>quote</th>\n",
       "    </tr>\n",
       "    <tr>\n",
       "      <th>date</th>\n",
       "      <th></th>\n",
       "      <th></th>\n",
       "    </tr>\n",
       "  </thead>\n",
       "  <tbody>\n",
       "    <tr>\n",
       "      <th>2017-10-18 19:25:00</th>\n",
       "      <td>NaN</td>\n",
       "      <td>NaN</td>\n",
       "    </tr>\n",
       "    <tr>\n",
       "      <th>2017-10-18 19:30:00</th>\n",
       "      <td>NaN</td>\n",
       "      <td>NaN</td>\n",
       "    </tr>\n",
       "    <tr>\n",
       "      <th>2017-10-18 19:35:00</th>\n",
       "      <td>NaN</td>\n",
       "      <td>NaN</td>\n",
       "    </tr>\n",
       "    <tr>\n",
       "      <th>2017-10-18 19:40:00</th>\n",
       "      <td>NaN</td>\n",
       "      <td>NaN</td>\n",
       "    </tr>\n",
       "    <tr>\n",
       "      <th>2017-10-18 19:45:00</th>\n",
       "      <td>NaN</td>\n",
       "      <td>NaN</td>\n",
       "    </tr>\n",
       "  </tbody>\n",
       "</table>\n",
       "</div>"
      ],
      "text/plain": [
       "                     base  quote\n",
       "date                            \n",
       "2017-10-18 19:25:00   NaN    NaN\n",
       "2017-10-18 19:30:00   NaN    NaN\n",
       "2017-10-18 19:35:00   NaN    NaN\n",
       "2017-10-18 19:40:00   NaN    NaN\n",
       "2017-10-18 19:45:00   NaN    NaN"
      ]
     },
     "execution_count": 65,
     "metadata": {},
     "output_type": "execute_result"
    }
   ],
   "source": [
    "equity_df = equity.from_returns(rate_sr, posret_sr)\n",
    "equity_df.head()"
   ]
  },
  {
   "cell_type": "markdown",
   "metadata": {},
   "source": [
    "Base and quote are NaN before the first entry or if no positions were taken"
   ]
  },
  {
   "cell_type": "markdown",
   "metadata": {},
   "source": [
    "Visualize both equities"
   ]
  },
  {
   "cell_type": "code",
   "execution_count": 82,
   "metadata": {},
   "outputs": [
    {
     "name": "stdout",
     "output_type": "stream",
     "text": [
      "    count       mean         std         min         25%         50%  \\\n",
      "0  8117.0 -158.15676  256.779533 -964.358981 -221.678965 -170.728873   \n",
      "\n",
      "        75%          max  \n",
      "0 -9.166946  1438.944755  \n"
     ]
    },
    {
     "data": {
      "image/png": "[encoded data removed]",
      "text/plain": [
       "<matplotlib.figure.Figure at 0x114240048>"
      ]
     },
     "metadata": {},
     "output_type": "display_data"
    },
    {
     "name": "stdout",
     "output_type": "stream",
     "text": [
      "    count     mean       std       min       25%       50%     75%       max\n",
      "0  8117.0 -0.02192  0.038363 -0.120999 -0.033924 -0.027382 -0.0015  0.271364\n"
     ]
    },
    {
     "data": {
      "image/png": "[encoded data removed]",
      "text/plain": [
       "<matplotlib.figure.Figure at 0x1143ea668>"
      ]
     },
     "metadata": {},
     "output_type": "display_data"
    }
   ],
   "source": [
    "equity.plot(rate_sr, equity_df)"
   ]
  },
  {
   "cell_type": "markdown",
   "metadata": {},
   "source": [
    "Equity diffs (`eqd`) are absolute returns if initial investment was 1. They are used in calculation of performance and risk/profit indicators such as sharpe ratio."
   ]
  },
  {
   "cell_type": "code",
   "execution_count": 18,
   "metadata": {},
   "outputs": [
    {
     "data": {
      "text/plain": [
       "date\n",
       "2017-10-20 15:00:00   -0.001500\n",
       "2017-10-22 05:05:00   -0.020353\n",
       "2017-10-26 12:40:00   -0.001467\n",
       "2017-11-06 17:55:00    0.187313\n",
       "2017-11-08 03:20:00   -0.001746\n",
       "dtype: float64"
      ]
     },
     "execution_count": 18,
     "metadata": {},
     "output_type": "execute_result"
    }
   ],
   "source": [
    "eqd_sr = equity.diff_on_positions(posret_sr)\n",
    "eqd_sr.head()"
   ]
  },
  {
   "cell_type": "markdown",
   "metadata": {},
   "source": [
    "# indicators"
   ]
  },
  {
   "cell_type": "markdown",
   "metadata": {},
   "source": [
    "Every indicator uses equity diffs as input"
   ]
  },
  {
   "cell_type": "code",
   "execution_count": 19,
   "metadata": {
    "collapsed": true
   },
   "outputs": [],
   "source": [
    "from vectorbt import indicators\n",
    "import json"
   ]
  },
  {
   "cell_type": "code",
   "execution_count": 20,
   "metadata": {},
   "outputs": [
    {
     "name": "stdout",
     "output_type": "stream",
     "text": [
      "{\n",
      "  \"backtest\": {\n",
      "    \"from\": \"2017-10-20 15:00:00\",\n",
      "    \"to\": \"2017-11-17 08:00:00\",\n",
      "    \"days\": 27,\n",
      "    \"trades\": 12\n",
      "  },\n",
      "  \"performance\": {\n",
      "    \"profit\": 0.189332518277175,\n",
      "    \"averages\": {\n",
      "      \"trade\": 0.03315243515948041,\n",
      "      \"gain\": 0.11114658639870818,\n",
      "      \"loss\": 0.04484171607974737\n",
      "    },\n",
      "    \"winrate\": 0.5,\n",
      "    \"payoff\": 2.4786425702585277,\n",
      "    \"PF\": 2.478642570258528,\n",
      "    \"RF\": 1.7422300062778118\n",
      "  },\n",
      "  \"risk/return profile\": {\n",
      "    \"sharpe\": 3.853912246102203,\n",
      "    \"sortino\": 8.895079763361842,\n",
      "    \"maxdd\": 0.1141724170977021\n",
      "  }\n",
      "}\n"
     ]
    }
   ],
   "source": [
    "indicators.print_summary(eqd_sr)"
   ]
  },
  {
   "cell_type": "markdown",
   "metadata": {},
   "source": [
    "# optimizer.gridsearch"
   ]
  },
  {
   "cell_type": "markdown",
   "metadata": {},
   "source": [
    "The classic optimization method is grid search (or exhaustive search). It exhaustively generates candidates from a grid of parameter values and applies them on the series. \n",
    "\n",
    "This method brings some advantages:\n",
    "- its simple to implement\n",
    "- 2d-combinations can be visualized using heatmaps\n",
    "- can be used to discover hidden patterns in combinations\n",
    "- highly parallelizable\n",
    "\n",
    "But also drawbacks are possible:\n",
    "- not flexible enough to fit changing financial markets\n",
    "- prone to overfitting\n",
    "- no intermediate feedback"
   ]
  },
  {
   "cell_type": "markdown",
   "metadata": {},
   "source": [
    "**Grid search consists of 5 levels:**\n",
    "\n",
    "| Level | Operation | Result | Use cases |\n",
    "|-|-|-|-|\n",
    "| L1 | Calculate positions | `posmap` (dict) | Transformed into returns, equity or equity diffs |\n",
    "| L2 | Calculate equity diffs | `eqdmap` (dict) | Used in calculation of indicators |\n",
    "| L3 | Apply KPIs | `kpimap_sr` (series) | Used in comparing strategies, building a score or a matrix |\n",
    "| L4 | Bind KPIs into a score | `scoremap_sr` (series) | Takes into account and examines multiple KPIs |\n",
    "| L5 | Convert into a matrix | `matrix_df` (dataframe) | Constructs a heatmap |"
   ]
  },
  {
   "cell_type": "markdown",
   "metadata": {},
   "source": [
    "At the end we will be able to compare performance of different trading strategies."
   ]
  },
  {
   "cell_type": "markdown",
   "metadata": {},
   "source": [
    "## L1\n",
    "## posmap"
   ]
  },
  {
   "cell_type": "markdown",
   "metadata": {},
   "source": [
    "Position series keyed by parameter combinations"
   ]
  },
  {
   "cell_type": "code",
   "execution_count": 21,
   "metadata": {
    "collapsed": true
   },
   "outputs": [],
   "source": [
    "from vectorbt.optimizer.gridsearch import posmap"
   ]
  },
  {
   "cell_type": "markdown",
   "metadata": {},
   "source": [
    "Generate combinations of fast and slow SMA (from 1 to 100) and their resulting positions"
   ]
  },
  {
   "cell_type": "code",
   "execution_count": 22,
   "metadata": {},
   "outputs": [
    {
     "name": "stdout",
     "output_type": "stream",
     "text": [
      "ma-posmap\n",
      "setup: ma_func = sma, th = (0.01, 0.01)\n",
      "grid: 1.000000 -> 100.000000 = 5050\n",
      "calcs: 5050 (~13.40s)\n",
      "passed. 6.07s\n"
     ]
    }
   ],
   "source": [
    "sma_posmap = posmap.ma(rate_sr, 1, 100, 1, (0.01, 0.01), strategy.sma)"
   ]
  },
  {
   "cell_type": "markdown",
   "metadata": {},
   "source": [
    "Generate random positions of magnitude similar to the map above (to be comparable)"
   ]
  },
  {
   "cell_type": "code",
   "execution_count": 23,
   "metadata": {},
   "outputs": [
    {
     "name": "stdout",
     "output_type": "stream",
     "text": [
      "random-posmap\n",
      "setup: positions = ~26, N = 5050\n",
      "calcs: 5050 (~13.57s)\n",
      "passed. 3.61s\n"
     ]
    }
   ],
   "source": [
    "import math\n",
    "n = math.ceil(np.median([len(pos_sr.index) for pos_sr in sma_posmap.values() if len(pos_sr.index) > 0]))\n",
    "N = len(sma_posmap)\n",
    "random_posmap = posmap.random(rate_sr, n, N)"
   ]
  },
  {
   "cell_type": "markdown",
   "metadata": {},
   "source": [
    "## L2\n",
    "## eqdmap"
   ]
  },
  {
   "cell_type": "markdown",
   "metadata": {},
   "source": [
    "Translate each position series in the `posmap` into equity diffs"
   ]
  },
  {
   "cell_type": "code",
   "execution_count": 24,
   "metadata": {
    "collapsed": true
   },
   "outputs": [],
   "source": [
    "from vectorbt.optimizer.gridsearch import eqdmap"
   ]
  },
  {
   "cell_type": "code",
   "execution_count": 25,
   "metadata": {},
   "outputs": [
    {
     "name": "stdout",
     "output_type": "stream",
     "text": [
      "eqdmap\n",
      "setup: fees = 0.001500\n",
      "calcs: 5050 (~33.64s)\n",
      "passed. 12.83s\n"
     ]
    }
   ],
   "source": [
    "sma_eqdmap = eqdmap.from_posmap(rate_sr, sma_posmap, 0.0015)"
   ]
  },
  {
   "cell_type": "code",
   "execution_count": 26,
   "metadata": {},
   "outputs": [
    {
     "name": "stdout",
     "output_type": "stream",
     "text": [
      "eqdmap\n",
      "setup: fees = 0.001500\n",
      "calcs: 5050 (~32.49s)\n",
      "passed. 12.79s\n"
     ]
    }
   ],
   "source": [
    "random_eqdmap = eqdmap.from_posmap(rate_sr, random_posmap, 0.0015)"
   ]
  },
  {
   "cell_type": "markdown",
   "metadata": {},
   "source": [
    "## L3 \n",
    "## kpimap"
   ]
  },
  {
   "cell_type": "markdown",
   "metadata": {},
   "source": [
    "Apply indicator (KPI) on each equity diffs series in the `eqdmap`"
   ]
  },
  {
   "cell_type": "code",
   "execution_count": 27,
   "metadata": {
    "collapsed": true
   },
   "outputs": [],
   "source": [
    "from vectorbt.optimizer.gridsearch import kpimap"
   ]
  },
  {
   "cell_type": "code",
   "execution_count": 28,
   "metadata": {},
   "outputs": [
    {
     "name": "stdout",
     "output_type": "stream",
     "text": [
      "expectancy-kpimap\n",
      "calcs: 5050 (~2.45s)\n",
      "min (2, 3): -0.12458152267\n",
      "max (9, 11): 0.337483015002\n",
      "passed. 0.50s\n"
     ]
    }
   ],
   "source": [
    "sma1_kpimap_sr = kpimap.from_eqdmap(sma_eqdmap, indicators.expectancy)"
   ]
  },
  {
   "cell_type": "code",
   "execution_count": 29,
   "metadata": {},
   "outputs": [
    {
     "name": "stdout",
     "output_type": "stream",
     "text": [
      "sharpe-kpimap\n",
      "calcs: 5050 (~14.78s)\n",
      "min (44, 60): -18.1303482422\n",
      "max (13, 19): 13.6843718466\n",
      "passed. 6.07s\n"
     ]
    }
   ],
   "source": [
    "sma2_kpimap_sr = kpimap.from_eqdmap(sma_eqdmap, indicators.sharpe)"
   ]
  },
  {
   "cell_type": "code",
   "execution_count": 30,
   "metadata": {},
   "outputs": [
    {
     "name": "stdout",
     "output_type": "stream",
     "text": [
      "expectancy-kpimap\n",
      "calcs: 5050 (~1.93s)\n",
      "min 1999: -0.0218678913118\n",
      "max 1719: 0.0800853140123\n",
      "passed. 0.54s\n"
     ]
    }
   ],
   "source": [
    "random_kpimap_sr = kpimap.from_eqdmap(random_eqdmap, indicators.expectancy)"
   ]
  },
  {
   "cell_type": "markdown",
   "metadata": {},
   "source": [
    "Compare KPI maps on basic properties and quantiles distribution"
   ]
  },
  {
   "cell_type": "code",
   "execution_count": 83,
   "metadata": {},
   "outputs": [
    {
     "name": "stdout",
     "output_type": "stream",
     "text": [
      "    count      mean       std       min       25%       50%       75%  \\\n",
      "0  5050.0  0.012332  0.011648 -0.021868  0.004212  0.011208  0.019396   \n",
      "1  4543.0  0.057315  0.090424 -0.124582  0.004477  0.011873  0.056938   \n",
      "\n",
      "        max  \n",
      "0  0.080085  \n",
      "1  0.337483  \n"
     ]
    },
    {
     "data": {
      "image/png": "[encoded data removed]",
      "text/plain": [
       "<matplotlib.figure.Figure at 0x113c1c390>"
      ]
     },
     "metadata": {},
     "output_type": "display_data"
    }
   ],
   "source": [
    "kpimap.compare(random_kpimap_sr, sma1_kpimap_sr)"
   ]
  },
  {
   "cell_type": "markdown",
   "metadata": {},
   "source": [
    "## L4\n",
    "## scoremap"
   ]
  },
  {
   "cell_type": "markdown",
   "metadata": {},
   "source": [
    "Take into account multiple weighted indicators and generate a score from 1 to 100"
   ]
  },
  {
   "cell_type": "code",
   "execution_count": 32,
   "metadata": {
    "collapsed": true
   },
   "outputs": [],
   "source": [
    "from vectorbt.optimizer.gridsearch import scoremap"
   ]
  },
  {
   "cell_type": "code",
   "execution_count": 33,
   "metadata": {},
   "outputs": [
    {
     "name": "stdout",
     "output_type": "stream",
     "text": [
      "1-100-scoremap\n",
      "min (1, 1): 1.0\n",
      "max (9, 11): 97.345931604\n",
      "passed. 0.01s\n"
     ]
    }
   ],
   "source": [
    "sma_scoremap_sr = scoremap.from_kpimaps([sma1_kpimap_sr, sma2_kpimap_sr], [2/3, 1/3], [False, False])"
   ]
  },
  {
   "cell_type": "markdown",
   "metadata": {},
   "source": [
    "## L5 \n",
    "## matrix"
   ]
  },
  {
   "cell_type": "markdown",
   "metadata": {},
   "source": [
    "Reshape 2d-parameter grid into a matrix and display as a heatmap"
   ]
  },
  {
   "cell_type": "code",
   "execution_count": 34,
   "metadata": {
    "collapsed": true
   },
   "outputs": [],
   "source": [
    "from vectorbt.optimizer.gridsearch import matrix\n",
    "from matplotlib import pyplot as plt\n",
    "import pandas as pd"
   ]
  },
  {
   "cell_type": "code",
   "execution_count": 35,
   "metadata": {},
   "outputs": [
    {
     "name": "stdout",
     "output_type": "stream",
     "text": [
      "100-100-matrix\n",
      "passed. 1.38s\n"
     ]
    }
   ],
   "source": [
    "sma_matrix_df = matrix.from_map(sma1_kpimap_sr, symmetric=True).fillna(0)"
   ]
  },
  {
   "cell_type": "code",
   "execution_count": 92,
   "metadata": {
    "scrolled": false
   },
   "outputs": [
    {
     "data": {
      "image/png": "[encoded data removed]",
      "text/plain": [
       "<matplotlib.figure.Figure at 0x110da3ef0>"
      ]
     },
     "metadata": {},
     "output_type": "display_data"
    },
    {
     "name": "stdout",
     "output_type": "stream",
     "text": [
      "    count      mean       std       min       25%       50%       75%  \\\n",
      "0  4543.0  0.057315  0.090424 -0.124582  0.004477  0.011873  0.056938   \n",
      "\n",
      "        max  \n",
      "0  0.337483  \n"
     ]
    },
    {
     "data": {
      "image/png": "[encoded data removed]",
      "text/plain": [
       "<matplotlib.figure.Figure at 0x10d7d9940>"
      ]
     },
     "metadata": {},
     "output_type": "display_data"
    }
   ],
   "source": [
    "reload(graphics)\n",
    "cmap = plt.cm.viridis\n",
    "norm = plt.Normalize()\n",
    "matplotlib.rcParams['figure.figsize'] = (12, 9)\n",
    "matrix.plot(sma_matrix_df, cmap, norm)\n",
    "matplotlib.rcParams['figure.figsize'] = (12, 5)\n",
    "graphics.plot_hist(sma1_kpimap_sr.dropna(), cmap, norm)"
   ]
  },
  {
   "cell_type": "markdown",
   "metadata": {},
   "source": [
    "Compare KPI distribution to that of random map"
   ]
  },
  {
   "cell_type": "code",
   "execution_count": 86,
   "metadata": {},
   "outputs": [
    {
     "name": "stdout",
     "output_type": "stream",
     "text": [
      "    count     mean      std       min       25%       50%       75%       max\n",
      "0  5052.0  0.01237  0.01266 -0.124582  0.004209  0.011208  0.019399  0.337483\n"
     ]
    },
    {
     "data": {
      "image/png": "[encoded data removed]",
      "text/plain": [
       "<matplotlib.figure.Figure at 0x114c94ba8>"
      ]
     },
     "metadata": {},
     "output_type": "display_data"
    }
   ],
   "source": [
    "# Adjust bounds\n",
    "to_plot = random_kpimap_sr.append(pd.Series(sma1_kpimap_sr.min())).append(pd.Series(sma1_kpimap_sr.max()))\n",
    "graphics.plot_hist(to_plot, cmap, norm)"
   ]
  },
  {
   "cell_type": "code",
   "execution_count": null,
   "metadata": {
    "collapsed": true
   },
   "outputs": [],
   "source": []
  }
 ],
 "metadata": {
  "anaconda-cloud": {},
  "kernelspec": {
   "display_name": "Python [conda root]",
   "language": "python",
   "name": "conda-root-py"
  },
  "language_info": {
   "codemirror_mode": {
    "name": "ipython",
    "version": 3
   },
   "file_extension": ".py",
   "mimetype": "text/x-python",
   "name": "python",
   "nbconvert_exporter": "python",
   "pygments_lexer": "ipython3",
   "version": "3.6.1"
  }
 },
 "nbformat": 4,
 "nbformat_minor": 2
}
