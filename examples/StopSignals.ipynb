{
 "cells": [
  {
   "cell_type": "markdown",
   "metadata": {},
   "source": [
    "In this example, we will compare effectiveness of various stop signals across multiple cryptocurrencies and time ranges. \n",
    "\n",
    "We will conduct in total 1,830,000 tests. First, we will pick and fetch 2 years of daily pricing data for 10 cryptocurrencies of main interest. For each one, we will split the entire history into 367 (overlapping) time ranges each 1 year long and select the first date of each range as a buy signal. For each such signal, we will test 100 different stop loss (SL), trailing stop (TS), and take profit (TP) values with 1% increment. These will be our exit signals stored in separate variables. We will also generate random exit signals in our third variable to be able to compare effectiveness of stop exits with that of random exits. Finally, we will calculate performance of all strategies and compare them interactivelly. Thanks to vectorbt, such tests can be done in a matter of minutes. You can also change any of the parameters mentioned above at the beginning of the notebook."
   ]
  },
  {
   "cell_type": "code",
   "execution_count": 1,
   "metadata": {},
   "outputs": [],
   "source": [
    "import vectorbt as vbt"
   ]
  },
  {
   "cell_type": "code",
   "execution_count": 2,
   "metadata": {},
   "outputs": [],
   "source": [
    "import numpy as np\n",
    "import pandas as pd\n",
    "import itertools\n",
    "import yfinance as yf\n",
    "from datetime import datetime, timedelta\n",
    "from numba import njit, f8, i8, b1, optional\n",
    "import ipywidgets"
   ]
  },
  {
   "cell_type": "code",
   "execution_count": 3,
   "metadata": {},
   "outputs": [
    {
     "name": "stdout",
     "output_type": "stream",
     "text": [
      "name3  2                 3               \n",
      "name2  0        1        0        1      \n",
      "name1  a  b  c  a  b  c  a  b  c  a  b  c\n",
      "0      0  1  2  0  1  2  0  1  2  0  1  2\n",
      "name3  2                 3               \n",
      "name2  0        1        0        1      \n",
      "name1  a  b  c  a  b  c  a  b  c  a  b  c\n",
      "0      0  1  2  3  4  5  0  1  2  3  4  5\n",
      "name3  2                 3                 \n",
      "name2  0        1        0        1        \n",
      "name1  a  b  c  a  b  c  a  b  c  a   b   c\n",
      "0      0  1  2  3  4  5  6  7  8  9  10  11\n"
     ]
    }
   ],
   "source": [
    "a = pd.Index(['a', 'b', 'c'], name='name1')\n",
    "b = pd.MultiIndex.from_tuples([\n",
    "    (0, 'a'),\n",
    "    (0, 'b'),\n",
    "    (0, 'c'),\n",
    "    (1, 'a'),\n",
    "    (1, 'b'),\n",
    "    (1, 'c')\n",
    "], names=['name2', 'name1'])\n",
    "c = pd.MultiIndex.from_tuples([\n",
    "    (2, 0, 'a'),\n",
    "    (2, 0, 'b'),\n",
    "    (2, 0, 'c'),\n",
    "    (2, 1, 'a'),\n",
    "    (2, 1, 'b'),\n",
    "    (2, 1, 'c'),\n",
    "    (3, 0, 'a'),\n",
    "    (3, 0, 'b'),\n",
    "    (3, 0, 'c'),\n",
    "    (3, 1, 'a'),\n",
    "    (3, 1, 'b'),\n",
    "    (3, 1, 'c')\n",
    "], names=['name3', 'name2', 'name1'])\n",
    "df_a = pd.DataFrame([np.arange(len(a))], columns=a)\n",
    "df_b = pd.DataFrame([np.arange(len(b))], columns=b)\n",
    "df_c = pd.DataFrame([np.arange(len(c))], columns=c)\n",
    "df_a, df_b, df_c = vbt.base.reshape_fns.broadcast(df_a, df_b, df_c)\n",
    "print(df_a)\n",
    "print(df_b)\n",
    "print(df_c)"
   ]
  },
  {
   "cell_type": "code",
   "execution_count": 4,
   "metadata": {},
   "outputs": [
    {
     "name": "stdout",
     "output_type": "stream",
     "text": [
      "3650 experiments per stop value\n",
      "100 stop values per stop type\n",
      "365000 experiments per stop type\n"
     ]
    }
   ],
   "source": [
    "# Define your params here\n",
    "seed = 42\n",
    "asset_names = [\n",
    "    'BTC-USD', 'ETH-USD', 'XRP-USD', 'BCH-USD', 'LTC-USD', \n",
    "    'BNB-USD', 'EOS-USD', 'XLM-USD', 'XMR-USD', 'ADA-USD']\n",
    "\n",
    "history_len = timedelta(days=365*2)\n",
    "end_date = datetime.now()\n",
    "start_date = end_date - history_len\n",
    "time_window = timedelta(days=365) # length of a time window\n",
    "freq = '1D'\n",
    "\n",
    "stops = np.arange(0, 1, 0.01) # in %\n",
    "\n",
    "vbt.defaults.portfolio['init_cash'] = 100. # in $\n",
    "vbt.defaults.portfolio['fees'] = 0.0025 # in %\n",
    "vbt.defaults.portfolio['slippage'] = 0.0025 # in %\n",
    "\n",
    "print(len(asset_names) * (history_len.days - time_window.days), 'experiments per stop value')\n",
    "print(len(stops), 'stop values per stop type')\n",
    "print(len(asset_names) * (history_len.days - time_window.days) * len(stops), 'experiments per stop type')"
   ]
  },
  {
   "cell_type": "code",
   "execution_count": 5,
   "metadata": {},
   "outputs": [
    {
     "name": "stdout",
     "output_type": "stream",
     "text": [
      "BTC-USD (730, 5)\n",
      "ETH-USD (729, 5)\n",
      "XRP-USD (730, 5)\n",
      "BCH-USD (729, 5)\n",
      "LTC-USD (730, 5)\n",
      "BNB-USD (729, 5)\n",
      "EOS-USD (729, 5)\n",
      "XLM-USD (729, 5)\n",
      "XMR-USD (730, 5)\n",
      "ADA-USD (713, 5)\n",
      "Index(['Open', 'High', 'Low', 'Close', 'Volume'], dtype='object')\n",
      "CPU times: user 751 ms, sys: 87.6 ms, total: 838 ms\n",
      "Wall time: 3.17 s\n"
     ]
    }
   ],
   "source": [
    "%%time\n",
    "# Download data\n",
    "ohlcv_cols = ['Open', 'High', 'Low', 'Close', 'Volume']\n",
    "asset_history = {k: yf.Ticker(k).history(start=start_date, end=end_date) for k in asset_names}\n",
    "asset_history = {k: v[ohlcv_cols] for k, v in asset_history.items()}\n",
    "asset_history = {k: v.astype(np.float64) for k, v in asset_history.items()}\n",
    "\n",
    "for k, v in asset_history.items():\n",
    "    print(k, v.shape)\n",
    "    \n",
    "print(asset_history['BTC-USD'].columns)"
   ]
  },
  {
   "cell_type": "code",
   "execution_count": 6,
   "metadata": {},
   "outputs": [
    {
     "data": {
      "image/png": "[encoded data removed]"
     },
     "metadata": {},
     "output_type": "display_data"
    }
   ],
   "source": [
    "asset_history['BTC-USD'].vbt.ohlcv.plot().show_png()"
   ]
  },
  {
   "cell_type": "code",
   "execution_count": 7,
   "metadata": {},
   "outputs": [
    {
     "name": "stdout",
     "output_type": "stream",
     "text": [
      "(730, 10)\n",
      "Index(['BTC-USD', 'ETH-USD', 'XRP-USD', 'BCH-USD', 'LTC-USD', 'BNB-USD',\n",
      "       'EOS-USD', 'XLM-USD', 'XMR-USD', 'ADA-USD'],\n",
      "      dtype='object', name='asset_name')\n",
      "CPU times: user 38.6 ms, sys: 3.46 ms, total: 42.1 ms\n",
      "Wall time: 40.9 ms\n"
     ]
    }
   ],
   "source": [
    "%%time\n",
    "# Stack all dfs along each column\n",
    "prices = {}\n",
    "for k in ohlcv_cols:\n",
    "    price = pd.concat(map(lambda x: x[k], asset_history.values()), axis=1)\n",
    "    price.columns = pd.Index(asset_history.keys(), name='asset_name')\n",
    "    prices[k] = price\n",
    "\n",
    "print(prices['Open'].shape)\n",
    "print(prices['Open'].columns) # number of stocks"
   ]
  },
  {
   "cell_type": "code",
   "execution_count": 8,
   "metadata": {},
   "outputs": [
    {
     "name": "stdout",
     "output_type": "stream",
     "text": [
      "(365, 3660)\n",
      "MultiIndex([('BTC-USD', '2018-10-20', '2019-10-19'),\n",
      "            ('BTC-USD', '2018-10-21', '2019-10-20'),\n",
      "            ('BTC-USD', '2018-10-22', '2019-10-21'),\n",
      "            ('BTC-USD', '2018-10-23', '2019-10-22'),\n",
      "            ('BTC-USD', '2018-10-24', '2019-10-23'),\n",
      "            ('BTC-USD', '2018-10-25', '2019-10-24'),\n",
      "            ('BTC-USD', '2018-10-26', '2019-10-25'),\n",
      "            ('BTC-USD', '2018-10-27', '2019-10-26'),\n",
      "            ('BTC-USD', '2018-10-28', '2019-10-27'),\n",
      "            ('BTC-USD', '2018-10-29', '2019-10-28'),\n",
      "            ...\n",
      "            ('ADA-USD', '2019-10-11', '2020-10-10'),\n",
      "            ('ADA-USD', '2019-10-12', '2020-10-11'),\n",
      "            ('ADA-USD', '2019-10-13', '2020-10-12'),\n",
      "            ('ADA-USD', '2019-10-14', '2020-10-13'),\n",
      "            ('ADA-USD', '2019-10-15', '2020-10-14'),\n",
      "            ('ADA-USD', '2019-10-16', '2020-10-15'),\n",
      "            ('ADA-USD', '2019-10-17', '2020-10-16'),\n",
      "            ('ADA-USD', '2019-10-18', '2020-10-17'),\n",
      "            ('ADA-USD', '2019-10-19', '2020-10-18'),\n",
      "            ('ADA-USD', '2019-10-20', '2020-10-19')],\n",
      "           names=['asset_name', 'range_start', 'range_end'], length=3660)\n",
      "CPU times: user 201 ms, sys: 54.3 ms, total: 255 ms\n",
      "Wall time: 373 ms\n"
     ]
    }
   ],
   "source": [
    "%%time\n",
    "# Split the whole time period into time ranges\n",
    "prices = {k: v.vbt.split_into_ranges(range_len=time_window.days) for k, v in prices.items()}\n",
    "    \n",
    "print(prices['Open'].shape)\n",
    "print(prices['Open'].columns) # number of stocks x number of ranges"
   ]
  },
  {
   "cell_type": "code",
   "execution_count": 9,
   "metadata": {},
   "outputs": [
    {
     "name": "stdout",
     "output_type": "stream",
     "text": [
      "(365, 3660)\n",
      "MultiIndex([('BTC-USD', '2018-10-20', '2019-10-19'),\n",
      "            ('BTC-USD', '2018-10-21', '2019-10-20'),\n",
      "            ('BTC-USD', '2018-10-22', '2019-10-21'),\n",
      "            ('BTC-USD', '2018-10-23', '2019-10-22'),\n",
      "            ('BTC-USD', '2018-10-24', '2019-10-23'),\n",
      "            ('BTC-USD', '2018-10-25', '2019-10-24'),\n",
      "            ('BTC-USD', '2018-10-26', '2019-10-25'),\n",
      "            ('BTC-USD', '2018-10-27', '2019-10-26'),\n",
      "            ('BTC-USD', '2018-10-28', '2019-10-27'),\n",
      "            ('BTC-USD', '2018-10-29', '2019-10-28'),\n",
      "            ...\n",
      "            ('ADA-USD', '2019-10-11', '2020-10-10'),\n",
      "            ('ADA-USD', '2019-10-12', '2020-10-11'),\n",
      "            ('ADA-USD', '2019-10-13', '2020-10-12'),\n",
      "            ('ADA-USD', '2019-10-14', '2020-10-13'),\n",
      "            ('ADA-USD', '2019-10-15', '2020-10-14'),\n",
      "            ('ADA-USD', '2019-10-16', '2020-10-15'),\n",
      "            ('ADA-USD', '2019-10-17', '2020-10-16'),\n",
      "            ('ADA-USD', '2019-10-18', '2020-10-17'),\n",
      "            ('ADA-USD', '2019-10-19', '2020-10-18'),\n",
      "            ('ADA-USD', '2019-10-20', '2020-10-19')],\n",
      "           names=['asset_name', 'range_start', 'range_end'], length=3660)\n",
      "CPU times: user 5.2 ms, sys: 2.01 ms, total: 7.2 ms\n",
      "Wall time: 6.09 ms\n"
     ]
    }
   ],
   "source": [
    "%%time\n",
    "# Pick one entry signal at the beginning of each time range\n",
    "entries = pd.DataFrame.vbt.signals.empty(prices['Open'].shape)\n",
    "entries.iloc[0, :] = True\n",
    "\n",
    "# Right now our rand signals have no meaningful columns\n",
    "entries.columns = prices['Open'].columns\n",
    "\n",
    "print(entries.shape)\n",
    "print(entries.columns)"
   ]
  },
  {
   "cell_type": "code",
   "execution_count": 10,
   "metadata": {},
   "outputs": [
    {
     "name": "stdout",
     "output_type": "stream",
     "text": [
      "(365, 366000) (365, 366000) (365, 366000)\n",
      "MultiIndex([( 0.0, 'BTC-USD', '2018-10-20', '2019-10-19'),\n",
      "            ( 0.0, 'BTC-USD', '2018-10-21', '2019-10-20'),\n",
      "            ( 0.0, 'BTC-USD', '2018-10-22', '2019-10-21'),\n",
      "            ( 0.0, 'BTC-USD', '2018-10-23', '2019-10-22'),\n",
      "            ( 0.0, 'BTC-USD', '2018-10-24', '2019-10-23'),\n",
      "            ( 0.0, 'BTC-USD', '2018-10-25', '2019-10-24'),\n",
      "            ( 0.0, 'BTC-USD', '2018-10-26', '2019-10-25'),\n",
      "            ( 0.0, 'BTC-USD', '2018-10-27', '2019-10-26'),\n",
      "            ( 0.0, 'BTC-USD', '2018-10-28', '2019-10-27'),\n",
      "            ( 0.0, 'BTC-USD', '2018-10-29', '2019-10-28'),\n",
      "            ...\n",
      "            (0.99, 'ADA-USD', '2019-10-11', '2020-10-10'),\n",
      "            (0.99, 'ADA-USD', '2019-10-12', '2020-10-11'),\n",
      "            (0.99, 'ADA-USD', '2019-10-13', '2020-10-12'),\n",
      "            (0.99, 'ADA-USD', '2019-10-14', '2020-10-13'),\n",
      "            (0.99, 'ADA-USD', '2019-10-15', '2020-10-14'),\n",
      "            (0.99, 'ADA-USD', '2019-10-16', '2020-10-15'),\n",
      "            (0.99, 'ADA-USD', '2019-10-17', '2020-10-16'),\n",
      "            (0.99, 'ADA-USD', '2019-10-18', '2020-10-17'),\n",
      "            (0.99, 'ADA-USD', '2019-10-19', '2020-10-18'),\n",
      "            (0.99, 'ADA-USD', '2019-10-20', '2020-10-19')],\n",
      "           names=['advstex_sl_stop', 'asset_name', 'range_start', 'range_end'], length=366000)\n",
      "CPU times: user 1min 18s, sys: 2.76 s, total: 1min 21s\n",
      "Wall time: 1min 22s\n"
     ]
    }
   ],
   "source": [
    "%%time\n",
    "# Generate stop exits\n",
    "sl_advstex = vbt.ADVSTEX.run(\n",
    "    entries, \n",
    "    prices['Open'], \n",
    "    prices['High'], \n",
    "    prices['Low'], \n",
    "    prices['Close'], \n",
    "    sl_stop=list(stops),\n",
    "    stop_type=None  # not needed, do not fill\n",
    ")\n",
    "ts_advstex = vbt.ADVSTEX.run(\n",
    "    entries, \n",
    "    prices['Open'], \n",
    "    prices['High'], \n",
    "    prices['Low'], \n",
    "    prices['Close'], \n",
    "    ts_stop=list(stops),\n",
    "    stop_type=None\n",
    ")\n",
    "tp_advstex = vbt.ADVSTEX.run(\n",
    "    entries, \n",
    "    prices['Open'], \n",
    "    prices['High'], \n",
    "    prices['Low'], \n",
    "    prices['Close'], \n",
    "    tp_stop=list(stops),\n",
    "    stop_type=None\n",
    ")\n",
    "\n",
    "# Exit signals\n",
    "sl_exits = sl_advstex.exits\n",
    "ts_exits = ts_advstex.exits\n",
    "tp_exits = tp_advstex.exits\n",
    "\n",
    "# Hit prices\n",
    "sl_hit_price = sl_advstex.hit_price\n",
    "ts_hit_price = ts_advstex.hit_price\n",
    "tp_hit_price = tp_advstex.hit_price\n",
    "\n",
    "del sl_advstex\n",
    "del ts_advstex\n",
    "del tp_advstex\n",
    "\n",
    "print(sl_exits.shape, ts_exits.shape, tp_exits.shape)\n",
    "print(sl_exits.columns)"
   ]
  },
  {
   "cell_type": "code",
   "execution_count": 12,
   "metadata": {},
   "outputs": [
    {
     "name": "stdout",
     "output_type": "stream",
     "text": [
      "0.49356010928961747\n",
      "0.7078469945355191\n",
      "0.6377295081967214\n"
     ]
    },
    {
     "data": {
      "image/png": "[encoded data removed]"
     },
     "metadata": {},
     "output_type": "display_data"
    },
    {
     "name": "stdout",
     "output_type": "stream",
     "text": [
      "CPU times: user 1.17 s, sys: 19.7 ms, total: 1.19 s\n",
      "Wall time: 1.28 s\n"
     ]
    }
   ],
   "source": [
    "%%time\n",
    "# How many exit signals our orders have generated per column and on average?\n",
    "print(sl_exits.vbt.signals.num_signals().mean())\n",
    "print(ts_exits.vbt.signals.num_signals().mean())\n",
    "print(tp_exits.vbt.signals.num_signals().mean())\n",
    "\n",
    "stop_cols = sl_exits.columns.get_level_values('advstex_sl_stop').to_numpy()\n",
    "\n",
    "pd.DataFrame({\n",
    "    'Stop Loss': sl_exits.vbt.signals.num_signals().groupby(stop_cols).mean(),\n",
    "    'Trailing Stop': ts_exits.vbt.signals.num_signals().groupby(stop_cols).mean(),\n",
    "    'Take Profit': tp_exits.vbt.signals.num_signals().groupby(stop_cols).mean()\n",
    "}).vbt.scatter(xaxis_title='Stop value', yaxis_title='Avg number of signals').show_png()"
   ]
  },
  {
   "cell_type": "code",
   "execution_count": 13,
   "metadata": {},
   "outputs": [
    {
     "name": "stdout",
     "output_type": "stream",
     "text": [
      "(365, 366000)\n",
      "MultiIndex([( 0.0, 'BTC-USD', '2018-10-20', '2019-10-19'),\n",
      "            ( 0.0, 'BTC-USD', '2018-10-21', '2019-10-20'),\n",
      "            ( 0.0, 'BTC-USD', '2018-10-22', '2019-10-21'),\n",
      "            ( 0.0, 'BTC-USD', '2018-10-23', '2019-10-22'),\n",
      "            ( 0.0, 'BTC-USD', '2018-10-24', '2019-10-23'),\n",
      "            ( 0.0, 'BTC-USD', '2018-10-25', '2019-10-24'),\n",
      "            ( 0.0, 'BTC-USD', '2018-10-26', '2019-10-25'),\n",
      "            ( 0.0, 'BTC-USD', '2018-10-27', '2019-10-26'),\n",
      "            ( 0.0, 'BTC-USD', '2018-10-28', '2019-10-27'),\n",
      "            ( 0.0, 'BTC-USD', '2018-10-29', '2019-10-28'),\n",
      "            ...\n",
      "            (0.99, 'ADA-USD', '2019-10-11', '2020-10-10'),\n",
      "            (0.99, 'ADA-USD', '2019-10-12', '2020-10-11'),\n",
      "            (0.99, 'ADA-USD', '2019-10-13', '2020-10-12'),\n",
      "            (0.99, 'ADA-USD', '2019-10-14', '2020-10-13'),\n",
      "            (0.99, 'ADA-USD', '2019-10-15', '2020-10-14'),\n",
      "            (0.99, 'ADA-USD', '2019-10-16', '2020-10-15'),\n",
      "            (0.99, 'ADA-USD', '2019-10-17', '2020-10-16'),\n",
      "            (0.99, 'ADA-USD', '2019-10-18', '2020-10-17'),\n",
      "            (0.99, 'ADA-USD', '2019-10-19', '2020-10-18'),\n",
      "            (0.99, 'ADA-USD', '2019-10-20', '2020-10-19')],\n",
      "           names=['advstex_sl_stop', 'asset_name', 'range_start', 'range_end'], length=366000)\n",
      "CPU times: user 44.3 ms, sys: 51.7 ms, total: 95.9 ms\n",
      "Wall time: 105 ms\n"
     ]
    }
   ],
   "source": [
    "%%time\n",
    "# Pick one exit signal at the end of each time range\n",
    "hold_exits = pd.DataFrame.vbt.signals.empty_like(sl_exits)\n",
    "hold_exits.iloc[-1, :] = True\n",
    "\n",
    "print(hold_exits.shape)\n",
    "print(hold_exits.columns)"
   ]
  },
  {
   "cell_type": "code",
   "execution_count": 14,
   "metadata": {},
   "outputs": [
    {
     "name": "stdout",
     "output_type": "stream",
     "text": [
      "1.4929726775956285\n",
      "1.7073661202185793\n",
      "1.6371775956284154\n",
      "CPU times: user 980 ms, sys: 192 ms, total: 1.17 s\n",
      "Wall time: 1.23 s\n"
     ]
    }
   ],
   "source": [
    "%%time\n",
    "# Combine exits with stop loss exits\n",
    "sl_exits = hold_exits.vbt | sl_exits  # use .vbt to use vectorbt's broadcasting rules\n",
    "ts_exits = hold_exits.vbt | ts_exits\n",
    "tp_exits = hold_exits.vbt | tp_exits\n",
    "\n",
    "print(sl_exits.vbt.signals.num_signals().mean())\n",
    "print(ts_exits.vbt.signals.num_signals().mean())\n",
    "print(tp_exits.vbt.signals.num_signals().mean())"
   ]
  },
  {
   "cell_type": "code",
   "execution_count": 15,
   "metadata": {},
   "outputs": [
    {
     "name": "stdout",
     "output_type": "stream",
     "text": [
      "1.0\n",
      "1.0\n",
      "1.0\n",
      "CPU times: user 14.3 s, sys: 2.41 s, total: 16.7 s\n",
      "Wall time: 17.5 s\n"
     ]
    }
   ],
   "source": [
    "%%time\n",
    "# Select the first exit signal after each entry\n",
    "sl_exits = sl_exits.vbt.signals.first(reset_by=entries, allow_gaps=True)\n",
    "ts_exits = ts_exits.vbt.signals.first(reset_by=entries, allow_gaps=True)\n",
    "tp_exits = tp_exits.vbt.signals.first(reset_by=entries, allow_gaps=True)\n",
    "\n",
    "print(sl_exits.vbt.signals.num_signals().mean())\n",
    "print(ts_exits.vbt.signals.num_signals().mean())\n",
    "print(tp_exits.vbt.signals.num_signals().mean())"
   ]
  },
  {
   "cell_type": "code",
   "execution_count": 16,
   "metadata": {},
   "outputs": [
    {
     "name": "stdout",
     "output_type": "stream",
     "text": [
      "CPU times: user 7.28 s, sys: 191 ms, total: 7.47 s\n",
      "Wall time: 7.65 s\n"
     ]
    }
   ],
   "source": [
    "%%time\n",
    "# To compare our stop loss orders with random trading strategy we need to place random exits\n",
    "# After each entry signal place exactly one exit signal randomly\n",
    "rand_exits = entries.vbt.tile(len(stops)).vbt.signals.generate_random_exits(seed=seed)\n",
    "\n",
    "assert(rand_exits.shape == sl_exits.shape)"
   ]
  },
  {
   "cell_type": "code",
   "execution_count": 17,
   "metadata": {},
   "outputs": [
    {
     "data": {
      "image/png": "[encoded data removed]"
     },
     "metadata": {},
     "output_type": "display_data"
    },
    {
     "name": "stdout",
     "output_type": "stream",
     "text": [
      "CPU times: user 8.03 s, sys: 554 ms, total: 8.58 s\n",
      "Wall time: 8.71 s\n"
     ]
    }
   ],
   "source": [
    "%%time\n",
    "# And what is the average distance to the entry signal?\n",
    "@njit\n",
    "def map_func_nb(col, entry_i, exit_i):\n",
    "    return exit_i - entry_i # distance\n",
    "\n",
    "@njit\n",
    "def reduce_func_nb(col, a):\n",
    "    return np.nanmean(a) # average of all distances\n",
    "\n",
    "pd.DataFrame({\n",
    "    'Holding': entries.vbt.signals.map_reduce_between(\n",
    "        other=hold_exits, \n",
    "        map_func_nb=map_func_nb, \n",
    "        reduce_func_nb=reduce_func_nb).groupby(stop_cols).mean(),\n",
    "    'Random': entries.vbt.signals.map_reduce_between(\n",
    "        other=rand_exits, \n",
    "        map_func_nb=map_func_nb, \n",
    "        reduce_func_nb=reduce_func_nb).groupby(stop_cols).mean(),\n",
    "    'Stop Loss': entries.vbt.signals.map_reduce_between(\n",
    "        other=sl_exits, \n",
    "        map_func_nb=map_func_nb, \n",
    "        reduce_func_nb=reduce_func_nb).groupby(stop_cols).mean(),\n",
    "    'Trailing Stop': entries.vbt.signals.map_reduce_between(\n",
    "        other=ts_exits, \n",
    "        map_func_nb=map_func_nb, \n",
    "        reduce_func_nb=reduce_func_nb).groupby(stop_cols).mean(),\n",
    "    'Take Profit': entries.vbt.signals.map_reduce_between(\n",
    "        other=tp_exits, \n",
    "        map_func_nb=map_func_nb, \n",
    "        reduce_func_nb=reduce_func_nb).groupby(stop_cols).mean()\n",
    "}).vbt.scatter(xaxis_title='Stop value', yaxis_title='Avg distance to entry (in days)').show_png()"
   ]
  },
  {
   "cell_type": "code",
   "execution_count": 18,
   "metadata": {},
   "outputs": [
    {
     "name": "stdout",
     "output_type": "stream",
     "text": [
      "CPU times: user 6.8 s, sys: 10.4 s, total: 17.2 s\n",
      "Wall time: 28.7 s\n"
     ]
    }
   ],
   "source": [
    "%%time\n",
    "# Compute fill price by merging hit prices\n",
    "# Since entries are the same for each stop, hit prices do not overlap and can be safely merged\n",
    "fill_price = prices['Close'].vbt.combine_with_multiple(\n",
    "    [sl_hit_price, ts_hit_price, tp_hit_price],\n",
    "    combine_func=lambda x, y: np.where(np.isnan(y), x, y)\n",
    ")"
   ]
  },
  {
   "cell_type": "code",
   "execution_count": 19,
   "metadata": {},
   "outputs": [
    {
     "name": "stdout",
     "output_type": "stream",
     "text": [
      "CPU times: user 1.36 s, sys: 4.14 s, total: 5.5 s\n",
      "Wall time: 8.21 s\n"
     ]
    }
   ],
   "source": [
    "%%time\n",
    "# Check whether we merged prices correctly\n",
    "@njit\n",
    "def check_fill_price_nb(fill_price, sl_hit_price, ts_hit_price, tp_hit_price):\n",
    "    for i in range(fill_price.shape[0]):\n",
    "        for col in range(fill_price.shape[1]):\n",
    "            if not np.isnan(tp_hit_price[i, col]):\n",
    "                assert fill_price[i, col] == tp_hit_price[i, col]\n",
    "            elif not np.isnan(ts_hit_price[i, col]):\n",
    "                assert fill_price[i, col] == ts_hit_price[i, col]\n",
    "            elif not np.isnan(sl_hit_price[i, col]):\n",
    "                assert fill_price[i, col] == sl_hit_price[i, col]\n",
    "                \n",
    "check_fill_price_nb(\n",
    "    fill_price.values, \n",
    "    sl_hit_price.values, \n",
    "    ts_hit_price.values, \n",
    "    tp_hit_price.values\n",
    ")\n",
    "\n",
    "del sl_hit_price\n",
    "del ts_hit_price\n",
    "del tp_hit_price"
   ]
  },
  {
   "cell_type": "code",
   "execution_count": 20,
   "metadata": {},
   "outputs": [
    {
     "data": {
      "text/plain": [
       "14032"
      ]
     },
     "execution_count": 20,
     "metadata": {},
     "output_type": "execute_result"
    }
   ],
   "source": [
    "import gc\n",
    "\n",
    "gc.collect()"
   ]
  },
  {
   "cell_type": "code",
   "execution_count": 21,
   "metadata": {},
   "outputs": [
    {
     "name": "stdout",
     "output_type": "stream",
     "text": [
      "(366000,)\n",
      "0.0974527972340613\n",
      "CPU times: user 9.25 s, sys: 4.88 s, total: 14.1 s\n",
      "Wall time: 19 s\n"
     ]
    }
   ],
   "source": [
    "%%time\n",
    "# Calculate portfolio performance\n",
    "# Performance of plain holding\n",
    "hold_portfolio = vbt.Portfolio.from_signals(\n",
    "    prices['Close'], entries, hold_exits, entry_price=prices['Open'], exit_price=prices['Close'], freq=freq)\n",
    "\n",
    "hold_performance = hold_portfolio.total_return()\n",
    "del hold_portfolio\n",
    "\n",
    "print(hold_performance.shape)\n",
    "print(hold_performance.mean())"
   ]
  },
  {
   "cell_type": "code",
   "execution_count": 22,
   "metadata": {},
   "outputs": [
    {
     "name": "stdout",
     "output_type": "stream",
     "text": [
      "(366000,)\n",
      "0.1288815337752961\n",
      "CPU times: user 11.5 s, sys: 14.6 s, total: 26.1 s\n",
      "Wall time: 43.8 s\n"
     ]
    }
   ],
   "source": [
    "%%time\n",
    "# Performance of trading with random exits\n",
    "rand_portfolio = vbt.Portfolio.from_signals(\n",
    "    prices['Close'], entries, rand_exits, entry_price=prices['Open'], exit_price=prices['Close'], freq=freq)\n",
    "\n",
    "rand_performance = rand_portfolio.total_return()\n",
    "del rand_portfolio\n",
    "\n",
    "print(rand_performance.shape)\n",
    "print(rand_performance.mean())"
   ]
  },
  {
   "cell_type": "code",
   "execution_count": 23,
   "metadata": {},
   "outputs": [
    {
     "name": "stdout",
     "output_type": "stream",
     "text": [
      "(366000,)\n",
      "-0.0030377038077695866\n",
      "CPU times: user 9.47 s, sys: 7.19 s, total: 16.7 s\n",
      "Wall time: 24.4 s\n"
     ]
    }
   ],
   "source": [
    "%%time\n",
    "# Performance of trading with stop loss\n",
    "sl_portfolio = vbt.Portfolio.from_signals(\n",
    "    prices['Close'], entries, sl_exits, entry_price=prices['Open'], exit_price=fill_price, freq=freq)\n",
    "\n",
    "sl_performance = sl_portfolio.total_return()\n",
    "del sl_portfolio\n",
    "\n",
    "print(sl_performance.shape)\n",
    "print(sl_performance.mean())"
   ]
  },
  {
   "cell_type": "code",
   "execution_count": 24,
   "metadata": {},
   "outputs": [
    {
     "name": "stdout",
     "output_type": "stream",
     "text": [
      "(366000,)\n",
      "0.041404069034472996\n",
      "CPU times: user 11 s, sys: 10.8 s, total: 21.8 s\n",
      "Wall time: 31.5 s\n"
     ]
    }
   ],
   "source": [
    "%%time\n",
    "# Performance of trading with trailing stop \n",
    "ts_portfolio = vbt.Portfolio.from_signals(\n",
    "    prices['Close'], entries, ts_exits, entry_price=prices['Open'], exit_price=fill_price, freq=freq)\n",
    "\n",
    "ts_performance = ts_portfolio.total_return()\n",
    "del ts_portfolio\n",
    "\n",
    "print(ts_performance.shape)\n",
    "print(ts_performance.mean())"
   ]
  },
  {
   "cell_type": "code",
   "execution_count": 25,
   "metadata": {},
   "outputs": [
    {
     "name": "stdout",
     "output_type": "stream",
     "text": [
      "(366000,)\n",
      "0.15576202077443133\n",
      "CPU times: user 11.1 s, sys: 9.56 s, total: 20.7 s\n",
      "Wall time: 28.9 s\n"
     ]
    }
   ],
   "source": [
    "%%time\n",
    "# Performance of trading with take profit \n",
    "tp_portfolio = vbt.Portfolio.from_signals(\n",
    "    prices['Close'], entries, tp_exits, entry_price=prices['Open'], exit_price=fill_price, freq=freq)\n",
    "\n",
    "tp_performance = tp_portfolio.total_return()\n",
    "del tp_portfolio\n",
    "\n",
    "print(tp_performance.shape)\n",
    "print(tp_performance.mean())"
   ]
  },
  {
   "cell_type": "code",
   "execution_count": 27,
   "metadata": {},
   "outputs": [
    {
     "data": {
      "application/vnd.jupyter.widget-view+json": {
       "model_id": "",
       "version_major": 2,
       "version_minor": 0
      },
      "text/plain": [
       "VBox(children=(HBox(children=(Label(value='Asset:'), Dropdown(options=('All', 'BTC-USD', 'ETH-USD', 'XRP-USD',…"
      ]
     },
     "metadata": {},
     "output_type": "display_data"
    }
   ],
   "source": [
    "# Plot performance of each strategy depending on the stop value and trend\n",
    "# Trend is just the net return of this time period\n",
    "\n",
    "# Widgets\n",
    "assets = hold_performance.index.get_level_values('asset_name')\n",
    "asset_dropdown = ipywidgets.Dropdown(\n",
    "    options=['All'] + asset_names,\n",
    "    value='All'\n",
    ")\n",
    "trend_dropdown = ipywidgets.Dropdown(\n",
    "    options=['All', 'Positive', 'Negative'],\n",
    "    value='All'\n",
    ")\n",
    "dates = hold_performance.index.get_level_values('range_start')\n",
    "date_range_slider = ipywidgets.SelectionRangeSlider(\n",
    "    options=dates.unique(),\n",
    "    index=(0, len(dates.unique())-1),\n",
    "    orientation='horizontal',\n",
    "    readout=False\n",
    ")\n",
    "date_range_label = ipywidgets.Label()\n",
    "scatter_fig = vbt.plotting.create_scatter(\n",
    "    trace_names=['Holding', 'Random', 'Stop Loss', 'Trailing Stop', 'Take Profit'],\n",
    "    x_labels=stops, \n",
    "    xaxis_title='Stop value', \n",
    "    yaxis_title='Avg total return')\n",
    "scatter_img = ipywidgets.Image(\n",
    "    format='png',\n",
    "    width=scatter_fig.layout.width,\n",
    "    height=scatter_fig.layout.height\n",
    ")\n",
    "\n",
    "# Update function\n",
    "def update_scatter(*args, **kwargs):\n",
    "    trend = trend_dropdown.value\n",
    "    asset = asset_dropdown.value\n",
    "    date_range = date_range_slider.value\n",
    "    \n",
    "    # Build boolean mask based on selected values\n",
    "    trend_mask = None\n",
    "    asset_mask = None\n",
    "    if trend == 'Positive':\n",
    "        trend_mask = hold_performance.values > 0\n",
    "    elif trend == 'Negative':\n",
    "        trend_mask = hold_performance.values < 0\n",
    "    if asset != 'All':\n",
    "        asset_mask = assets == asset\n",
    "    mask = (dates >= date_range[0]) & (dates <= date_range[1])\n",
    "    if trend_mask is not None:\n",
    "        mask = mask & trend_mask\n",
    "    if asset_mask is not None:\n",
    "        mask = mask & asset_mask\n",
    "    \n",
    "    # Update graph\n",
    "    vbt.plotting.update_scatter_data(\n",
    "        scatter_fig,\n",
    "        np.asarray([\n",
    "            hold_performance[mask].groupby(stop_cols[mask]).mean(),\n",
    "            rand_performance[mask].groupby(stop_cols[mask]).mean(),\n",
    "            sl_performance[mask].groupby(stop_cols[mask]).mean(),\n",
    "            ts_performance[mask].groupby(stop_cols[mask]).mean(),\n",
    "            tp_performance[mask].groupby(stop_cols[mask]).mean()\n",
    "        ]).transpose()\n",
    "    )\n",
    "    scatter_img.value = scatter_fig.to_image(format=\"png\")\n",
    "    \n",
    "    # Update date range label\n",
    "    date_range_label.value = '{:%d %b %Y} - {:%d %b %Y}'.format(date_range[0], date_range[1])\n",
    "\n",
    "# Hooks\n",
    "asset_dropdown.observe(update_scatter, names='value')\n",
    "trend_dropdown.observe(update_scatter, names='value')\n",
    "date_range_slider.observe(update_scatter, names='value')\n",
    "update_scatter()\n",
    "\n",
    "# Widget hierarchy\n",
    "dashboard = ipywidgets.VBox([\n",
    "    ipywidgets.HBox([\n",
    "        ipywidgets.Label('Asset:'),\n",
    "        asset_dropdown\n",
    "    ]),\n",
    "    ipywidgets.HBox([\n",
    "        ipywidgets.Label('Trend:'),\n",
    "        trend_dropdown\n",
    "    ]),\n",
    "    ipywidgets.HBox([\n",
    "        ipywidgets.Label('Date range:'),\n",
    "        date_range_slider,\n",
    "        date_range_label\n",
    "    ]),\n",
    "    scatter_img\n",
    "])\n",
    "dashboard"
   ]
  },
  {
   "cell_type": "code",
   "execution_count": 28,
   "metadata": {},
   "outputs": [],
   "source": [
    "dashboard.close() # after using, release memory and notebook metadata"
   ]
  },
  {
   "cell_type": "code",
   "execution_count": null,
   "metadata": {},
   "outputs": [],
   "source": []
  }
 ],
 "metadata": {
  "kernelspec": {
   "display_name": "Python 3",
   "language": "python",
   "name": "python3"
  },
  "language_info": {
   "codemirror_mode": {
    "name": "ipython",
    "version": 3
   },
   "file_extension": ".py",
   "mimetype": "text/x-python",
   "name": "python",
   "nbconvert_exporter": "python",
   "pygments_lexer": "ipython3",
   "version": "3.7.3"
  },
  "widgets": {
   "application/vnd.jupyter.widget-state+json": {
    "state": {
     "107a6ee4941843cfbb91847851c91815": {
      "model_module": "@jupyter-widgets/controls",
      "model_module_version": "1.5.0",
      "model_name": "HBoxModel",
      "state": {
       "children": [
        "IPY_MODEL_e226e9b6b4544aa88265b5da743973c4",
        "IPY_MODEL_46485319acf2495ba0bf1cda5dcc015c"
       ],
       "layout": "IPY_MODEL_472f8d79f1b5477cae472b1caa9e1470"
      }
     },
     "1ab06a8ff2c04c7ea142675443e740b3": {
      "model_module": "@jupyter-widgets/base",
      "model_module_version": "1.2.0",
      "model_name": "LayoutModel",
      "state": {}
     },
     "39f2d0327725457a85159b2d9a36fe5d": {
      "model_module": "@jupyter-widgets/controls",
      "model_module_version": "1.5.0",
      "model_name": "SelectionRangeSliderModel",
      "state": {
       "_model_name": "SelectionRangeSliderModel",
       "_options_labels": [
        "2018-10-20 00:00:00",
        "2018-10-21 00:00:00",
        "2018-10-22 00:00:00",
        "2018-10-23 00:00:00",
        "2018-10-24 00:00:00",
        "2018-10-25 00:00:00",
        "2018-10-26 00:00:00",
        "2018-10-27 00:00:00",
        "2018-10-28 00:00:00",
        "2018-10-29 00:00:00",
        "2018-10-30 00:00:00",
        "2018-10-31 00:00:00",
        "2018-11-01 00:00:00",
        "2018-11-02 00:00:00",
        "2018-11-03 00:00:00",
        "2018-11-04 00:00:00",
        "2018-11-05 00:00:00",
        "2018-11-06 00:00:00",
        "2018-11-07 00:00:00",
        "2018-11-08 00:00:00",
        "2018-11-09 00:00:00",
        "2018-11-10 00:00:00",
        "2018-11-11 00:00:00",
        "2018-11-12 00:00:00",
        "2018-11-13 00:00:00",
        "2018-11-14 00:00:00",
        "2018-11-15 00:00:00",
        "2018-11-16 00:00:00",
        "2018-11-17 00:00:00",
        "2018-11-18 00:00:00",
        "2018-11-19 00:00:00",
        "2018-11-20 00:00:00",
        "2018-11-21 00:00:00",
        "2018-11-22 00:00:00",
        "2018-11-23 00:00:00",
        "2018-11-24 00:00:00",
        "2018-11-25 00:00:00",
        "2018-11-26 00:00:00",
        "2018-11-27 00:00:00",
        "2018-11-28 00:00:00",
        "2018-11-29 00:00:00",
        "2018-11-30 00:00:00",
        "2018-12-01 00:00:00",
        "2018-12-02 00:00:00",
        "2018-12-03 00:00:00",
        "2018-12-04 00:00:00",
        "2018-12-05 00:00:00",
        "2018-12-06 00:00:00",
        "2018-12-07 00:00:00",
        "2018-12-08 00:00:00",
        "2018-12-09 00:00:00",
        "2018-12-10 00:00:00",
        "2018-12-11 00:00:00",
        "2018-12-12 00:00:00",
        "2018-12-13 00:00:00",
        "2018-12-14 00:00:00",
        "2018-12-15 00:00:00",
        "2018-12-16 00:00:00",
        "2018-12-17 00:00:00",
        "2018-12-18 00:00:00",
        "2018-12-19 00:00:00",
        "2018-12-20 00:00:00",
        "2018-12-21 00:00:00",
        "2018-12-22 00:00:00",
        "2018-12-23 00:00:00",
        "2018-12-24 00:00:00",
        "2018-12-25 00:00:00",
        "2018-12-26 00:00:00",
        "2018-12-27 00:00:00",
        "2018-12-28 00:00:00",
        "2018-12-29 00:00:00",
        "2018-12-30 00:00:00",
        "2018-12-31 00:00:00",
        "2019-01-01 00:00:00",
        "2019-01-02 00:00:00",
        "2019-01-03 00:00:00",
        "2019-01-04 00:00:00",
        "2019-01-05 00:00:00",
        "2019-01-06 00:00:00",
        "2019-01-07 00:00:00",
        "2019-01-08 00:00:00",
        "2019-01-09 00:00:00",
        "2019-01-10 00:00:00",
        "2019-01-11 00:00:00",
        "2019-01-12 00:00:00",
        "2019-01-13 00:00:00",
        "2019-01-14 00:00:00",
        "2019-01-15 00:00:00",
        "2019-01-16 00:00:00",
        "2019-01-17 00:00:00",
        "2019-01-18 00:00:00",
        "2019-01-19 00:00:00",
        "2019-01-20 00:00:00",
        "2019-01-21 00:00:00",
        "2019-01-22 00:00:00",
        "2019-01-23 00:00:00",
        "2019-01-24 00:00:00",
        "2019-01-25 00:00:00",
        "2019-01-26 00:00:00",
        "2019-01-27 00:00:00",
        "2019-01-28 00:00:00",
        "2019-01-29 00:00:00",
        "2019-01-30 00:00:00",
        "2019-01-31 00:00:00",
        "2019-02-01 00:00:00",
        "2019-02-02 00:00:00",
        "2019-02-03 00:00:00",
        "2019-02-04 00:00:00",
        "2019-02-05 00:00:00",
        "2019-02-06 00:00:00",
        "2019-02-07 00:00:00",
        "2019-02-08 00:00:00",
        "2019-02-09 00:00:00",
        "2019-02-10 00:00:00",
        "2019-02-11 00:00:00",
        "2019-02-12 00:00:00",
        "2019-02-13 00:00:00",
        "2019-02-14 00:00:00",
        "2019-02-15 00:00:00",
        "2019-02-16 00:00:00",
        "2019-02-17 00:00:00",
        "2019-02-18 00:00:00",
        "2019-02-19 00:00:00",
        "2019-02-20 00:00:00",
        "2019-02-21 00:00:00",
        "2019-02-22 00:00:00",
        "2019-02-23 00:00:00",
        "2019-02-24 00:00:00",
        "2019-02-25 00:00:00",
        "2019-02-26 00:00:00",
        "2019-02-27 00:00:00",
        "2019-02-28 00:00:00",
        "2019-03-01 00:00:00",
        "2019-03-02 00:00:00",
        "2019-03-03 00:00:00",
        "2019-03-04 00:00:00",
        "2019-03-05 00:00:00",
        "2019-03-06 00:00:00",
        "2019-03-07 00:00:00",
        "2019-03-08 00:00:00",
        "2019-03-09 00:00:00",
        "2019-03-10 00:00:00",
        "2019-03-11 00:00:00",
        "2019-03-12 00:00:00",
        "2019-03-13 00:00:00",
        "2019-03-14 00:00:00",
        "2019-03-15 00:00:00",
        "2019-03-16 00:00:00",
        "2019-03-17 00:00:00",
        "2019-03-18 00:00:00",
        "2019-03-19 00:00:00",
        "2019-03-20 00:00:00",
        "2019-03-21 00:00:00",
        "2019-03-22 00:00:00",
        "2019-03-23 00:00:00",
        "2019-03-24 00:00:00",
        "2019-03-25 00:00:00",
        "2019-03-26 00:00:00",
        "2019-03-27 00:00:00",
        "2019-03-28 00:00:00",
        "2019-03-29 00:00:00",
        "2019-03-30 00:00:00",
        "2019-03-31 00:00:00",
        "2019-04-01 00:00:00",
        "2019-04-02 00:00:00",
        "2019-04-03 00:00:00",
        "2019-04-04 00:00:00",
        "2019-04-05 00:00:00",
        "2019-04-06 00:00:00",
        "2019-04-07 00:00:00",
        "2019-04-08 00:00:00",
        "2019-04-09 00:00:00",
        "2019-04-10 00:00:00",
        "2019-04-11 00:00:00",
        "2019-04-12 00:00:00",
        "2019-04-13 00:00:00",
        "2019-04-14 00:00:00",
        "2019-04-15 00:00:00",
        "2019-04-16 00:00:00",
        "2019-04-17 00:00:00",
        "2019-04-18 00:00:00",
        "2019-04-19 00:00:00",
        "2019-04-20 00:00:00",
        "2019-04-21 00:00:00",
        "2019-04-22 00:00:00",
        "2019-04-23 00:00:00",
        "2019-04-24 00:00:00",
        "2019-04-25 00:00:00",
        "2019-04-26 00:00:00",
        "2019-04-27 00:00:00",
        "2019-04-28 00:00:00",
        "2019-04-29 00:00:00",
        "2019-04-30 00:00:00",
        "2019-05-01 00:00:00",
        "2019-05-02 00:00:00",
        "2019-05-03 00:00:00",
        "2019-05-04 00:00:00",
        "2019-05-05 00:00:00",
        "2019-05-06 00:00:00",
        "2019-05-07 00:00:00",
        "2019-05-08 00:00:00",
        "2019-05-09 00:00:00",
        "2019-05-10 00:00:00",
        "2019-05-11 00:00:00",
        "2019-05-12 00:00:00",
        "2019-05-13 00:00:00",
        "2019-05-14 00:00:00",
        "2019-05-15 00:00:00",
        "2019-05-16 00:00:00",
        "2019-05-17 00:00:00",
        "2019-05-18 00:00:00",
        "2019-05-19 00:00:00",
        "2019-05-20 00:00:00",
        "2019-05-21 00:00:00",
        "2019-05-22 00:00:00",
        "2019-05-23 00:00:00",
        "2019-05-24 00:00:00",
        "2019-05-25 00:00:00",
        "2019-05-26 00:00:00",
        "2019-05-27 00:00:00",
        "2019-05-28 00:00:00",
        "2019-05-29 00:00:00",
        "2019-05-30 00:00:00",
        "2019-05-31 00:00:00",
        "2019-06-01 00:00:00",
        "2019-06-02 00:00:00",
        "2019-06-03 00:00:00",
        "2019-06-04 00:00:00",
        "2019-06-05 00:00:00",
        "2019-06-06 00:00:00",
        "2019-06-07 00:00:00",
        "2019-06-08 00:00:00",
        "2019-06-09 00:00:00",
        "2019-06-10 00:00:00",
        "2019-06-11 00:00:00",
        "2019-06-12 00:00:00",
        "2019-06-13 00:00:00",
        "2019-06-14 00:00:00",
        "2019-06-15 00:00:00",
        "2019-06-16 00:00:00",
        "2019-06-17 00:00:00",
        "2019-06-18 00:00:00",
        "2019-06-19 00:00:00",
        "2019-06-20 00:00:00",
        "2019-06-21 00:00:00",
        "2019-06-22 00:00:00",
        "2019-06-23 00:00:00",
        "2019-06-24 00:00:00",
        "2019-06-25 00:00:00",
        "2019-06-26 00:00:00",
        "2019-06-27 00:00:00",
        "2019-06-28 00:00:00",
        "2019-06-29 00:00:00",
        "2019-06-30 00:00:00",
        "2019-07-01 00:00:00",
        "2019-07-02 00:00:00",
        "2019-07-03 00:00:00",
        "2019-07-04 00:00:00",
        "2019-07-05 00:00:00",
        "2019-07-06 00:00:00",
        "2019-07-07 00:00:00",
        "2019-07-08 00:00:00",
        "2019-07-09 00:00:00",
        "2019-07-10 00:00:00",
        "2019-07-11 00:00:00",
        "2019-07-12 00:00:00",
        "2019-07-13 00:00:00",
        "2019-07-14 00:00:00",
        "2019-07-15 00:00:00",
        "2019-07-16 00:00:00",
        "2019-07-17 00:00:00",
        "2019-07-18 00:00:00",
        "2019-07-19 00:00:00",
        "2019-07-20 00:00:00",
        "2019-07-21 00:00:00",
        "2019-07-22 00:00:00",
        "2019-07-23 00:00:00",
        "2019-07-24 00:00:00",
        "2019-07-25 00:00:00",
        "2019-07-26 00:00:00",
        "2019-07-27 00:00:00",
        "2019-07-28 00:00:00",
        "2019-07-29 00:00:00",
        "2019-07-30 00:00:00",
        "2019-07-31 00:00:00",
        "2019-08-01 00:00:00",
        "2019-08-02 00:00:00",
        "2019-08-03 00:00:00",
        "2019-08-04 00:00:00",
        "2019-08-05 00:00:00",
        "2019-08-06 00:00:00",
        "2019-08-07 00:00:00",
        "2019-08-08 00:00:00",
        "2019-08-09 00:00:00",
        "2019-08-10 00:00:00",
        "2019-08-11 00:00:00",
        "2019-08-12 00:00:00",
        "2019-08-13 00:00:00",
        "2019-08-14 00:00:00",
        "2019-08-15 00:00:00",
        "2019-08-16 00:00:00",
        "2019-08-17 00:00:00",
        "2019-08-18 00:00:00",
        "2019-08-19 00:00:00",
        "2019-08-20 00:00:00",
        "2019-08-21 00:00:00",
        "2019-08-22 00:00:00",
        "2019-08-23 00:00:00",
        "2019-08-24 00:00:00",
        "2019-08-25 00:00:00",
        "2019-08-26 00:00:00",
        "2019-08-27 00:00:00",
        "2019-08-28 00:00:00",
        "2019-08-29 00:00:00",
        "2019-08-30 00:00:00",
        "2019-08-31 00:00:00",
        "2019-09-01 00:00:00",
        "2019-09-02 00:00:00",
        "2019-09-03 00:00:00",
        "2019-09-04 00:00:00",
        "2019-09-05 00:00:00",
        "2019-09-06 00:00:00",
        "2019-09-07 00:00:00",
        "2019-09-08 00:00:00",
        "2019-09-09 00:00:00",
        "2019-09-10 00:00:00",
        "2019-09-11 00:00:00",
        "2019-09-12 00:00:00",
        "2019-09-13 00:00:00",
        "2019-09-14 00:00:00",
        "2019-09-15 00:00:00",
        "2019-09-16 00:00:00",
        "2019-09-17 00:00:00",
        "2019-09-18 00:00:00",
        "2019-09-19 00:00:00",
        "2019-09-20 00:00:00",
        "2019-09-21 00:00:00",
        "2019-09-22 00:00:00",
        "2019-09-23 00:00:00",
        "2019-09-24 00:00:00",
        "2019-09-25 00:00:00",
        "2019-09-26 00:00:00",
        "2019-09-27 00:00:00",
        "2019-09-28 00:00:00",
        "2019-09-29 00:00:00",
        "2019-09-30 00:00:00",
        "2019-10-01 00:00:00",
        "2019-10-02 00:00:00",
        "2019-10-03 00:00:00",
        "2019-10-04 00:00:00",
        "2019-10-05 00:00:00",
        "2019-10-06 00:00:00",
        "2019-10-07 00:00:00",
        "2019-10-08 00:00:00",
        "2019-10-09 00:00:00",
        "2019-10-10 00:00:00",
        "2019-10-11 00:00:00",
        "2019-10-12 00:00:00",
        "2019-10-13 00:00:00",
        "2019-10-14 00:00:00",
        "2019-10-15 00:00:00",
        "2019-10-16 00:00:00",
        "2019-10-17 00:00:00",
        "2019-10-18 00:00:00",
        "2019-10-19 00:00:00",
        "2019-10-20 00:00:00"
       ],
       "_view_name": "SelectionRangeSliderView",
       "index": [
        0,
        365
       ],
       "layout": "IPY_MODEL_bf3e55e832914d4491d5c6cb6445f8a1",
       "readout": false,
       "style": "IPY_MODEL_7eca84feb4de4af484285e11ff3df944"
      }
     },
     "3eeb5e7fad4648eeb27610a9dd01cc84": {
      "model_module": "@jupyter-widgets/controls",
      "model_module_version": "1.5.0",
      "model_name": "LabelModel",
      "state": {
       "layout": "IPY_MODEL_1ab06a8ff2c04c7ea142675443e740b3",
       "style": "IPY_MODEL_53e917a997f24ddebd3705f51cf03728",
       "value": "20 Oct 2018 - 20 Oct 2019"
      }
     },
     "409a67018aff4fa3b0e9b50ba15a523b": {
      "model_module": "@jupyter-widgets/base",
      "model_module_version": "1.2.0",
      "model_name": "LayoutModel",
      "state": {}
     },
     "46485319acf2495ba0bf1cda5dcc015c": {
      "model_module": "@jupyter-widgets/controls",
      "model_module_version": "1.5.0",
      "model_name": "DropdownModel",
      "state": {
       "_options_labels": [
        "All",
        "BTC-USD",
        "ETH-USD",
        "XRP-USD",
        "BCH-USD",
        "LTC-USD",
        "BNB-USD",
        "EOS-USD",
        "XLM-USD",
        "XMR-USD",
        "ADA-USD"
       ],
       "index": 0,
       "layout": "IPY_MODEL_ca9dc5d8d8404598aa70a04e59265a18",
       "style": "IPY_MODEL_6a351d7ca90648d48e99f9c016ce44df"
      }
     },
     "472f8d79f1b5477cae472b1caa9e1470": {
      "model_module": "@jupyter-widgets/base",
      "model_module_version": "1.2.0",
      "model_name": "LayoutModel",
      "state": {}
     },
     "47d09bd293f94663b35971571675271f": {
      "buffers": [
       {
        "data": "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",
        "encoding": "base64",
        "path": [
         "_data",
         0,
         "close",
         "value"
        ]
       },
       {
        "data": "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",
        "encoding": "base64",
        "path": [
         "_data",
         0,
         "high",
         "value"
        ]
       },
       {
        "data": "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",
        "encoding": "base64",
        "path": [
         "_data",
         0,
         "low",
         "value"
        ]
       },
       {
        "data": "Urgehes8uUCkcD0KF1q5QM3MzMwMVrlAj8L1KFxIuUBxPQrX4065QGZmZmamVLlAPQrXo3BEuUCkcD0K11C5QFyPwvWoUrlAmpmZmVlcuUDXo3A9CsG4QArXo3D9wLhAcT0K1yOuuEBSuB6F6+q4QArXo3A987hAH4XrUXjduECF61G4ntu4QHsUrkdhIblAAAAAAIBEuUDsUbgeRXq5QJqZmZmZKrlAexSuRyHyuEB7FK5HoQ25QPYoXI/CC7lAPQrXozDluEAK16NwPc+4QGZmZmYmaLZAuB6F61ENtkCuR+F6lMq1QArXo3C9t7VA4XoUrsf0tUBI4XoU7v+yQNejcD2KcbFAuB6F65EDskAzMzMzswixQD0K16Ow+7BAw/UoXI9RrkBxPQrXI16vQGZmZmbma61APQrXo/DcrUAAAAAAAK2wQKRwPQoXwbBAUrgehetwr0AUrkfhumiwQLgehetRM7BArkfhepRcrkDhehSux+2uQHE9CtcjVK1ASOF6FC5xq0C4HoXr0buqQClcj8J1IqtAmpmZmRk4rECamZmZGVOrQFK4HoXruqpA9ihcj8I/q0AAAAAAgN+pQAAAAAAAWKlA16NwPYpIqUAK16NwPWqpQOxRuB6FsatAcT0K16P1rEBmZmZmZjytQDMzMzOzJbBAXI/C9Sh0rkAUrkfh+mmvQFyPwvWoQK9Aw/UoXA/ir0CkcD0KV9etQHsUrkdhHa5A9ihcj0KKrEAUrkfh+riuQPYoXI/C3K1ASOF6FK41rkBSuB6Fa0WtQD0K16NwEq5AmpmZmRm2rkCuR+F6FPCtQD0K16PwF65A16NwPQr5rUBcj8L1KN2vQD0K16PweK9AmpmZmRl/r0C4HoXr0YSvQNejcD0KtKxAPQrXo/DNrEAK16NwvZWsQIXrUbieyqtAPQrXo3DwrEDsUbgeBV+sQArXo3C9h6xAFK5H4fq7rED2KFyPwoisQGZmZmbmGq1ACtejcL0grEBcj8L1KO6rQIXrUbgeK6xAAAAAAAABrEDhehSuxy6sQD0K16NwH6xAexSuR2EprEDD9ShcjwCsQArXo3C9GatAzczMzMznqkC4HoXr0TqrQJqZmZkZCatA9ihcj0I5q0DhehSuR3irQFK4HoVrFqtAZmZmZub9qkBI4XoULhqrQI/C9SjcrapA9ihcj8KSqkBI4XoULq+sQGZmZmZmsqxAH4XrUTjfrEAAAAAAgHWsQDMzMzMzi6xApHA9ClderEAK16NwvUKsQNejcD2KPqxAH4XrUbhirEAK16Nwva6sQLgehetRj65AexSuR2HVrkDsUbgehUCvQLgehevR4K5ApHA9Ctc9r0ApXI/CdTGwQAAAAAAAvq1AZmZmZmZNrkApXI/C9SKuQOxRuB6FEK5A7FG4HoUbrkBxPQrXox6uQNejcD2KLK5ASOF6FC4KrkBcj8L1qF+tQFyPwvUocq5A9ihcj8J+rkApXI/CdZKuQJqZmZkZba5ApHA9Clf8rkAUrkfheuOuQOxRuB6Ff65AmpmZmRmSrkBcj8L1KIOuQLgehetRra5AzczMzMz3rkA9CtejcJ+vQD0K16Pwe69AexSuR2GBr0CuR+F6lM2vQGZmZmbm569A7FG4HgV5r0BSuB6Fa22vQLgehetRhq9AH4XrUThwr0ApXI/CdQKvQBSuR+F6IK9AXI/C9Sjvr0CamZmZmcivQOF6FK5H+K9AKVyPwnUJsECPwvUoXAmwQFK4HoXrPLBAKVyPwvUPs0DD9ShcT2uzQMP1KFzPOrNA16NwPcqss0DXo3A9ysazQKRwPQrXT7RAUrgeheuptECPwvUoHFS0QK5H4XoUzbRAMzMzMzPFs0CamZmZ2eCzQPYoXI/C57NAuB6F61EvtECuR+F6lMqzQHE9CtcjdLRAFK5H4XqDtEBmZmZmJrK0QFyPwvUouLRAexSuR+HXtEAK16NwfcC0QIXrUbheF7VA9ihcj4LDtUDsUbgehVq1QM3MzMxMWrRAH4XrUXiftEAAAAAAwJe0QI/C9SjcpLRAFK5H4bp/tEBcj8L16Oa0QFK4HoVrGrVAzczMzIyBtUAzMzMzM4m2QLgehesRx7ZAPQrXo7CftkCamZmZmXG2QBSuR+F62bZAuB6F61Fet0C4HoXr0R+4QFK4HoWr67hA9ihcj4IjvEBI4XoULju7QHsUrkfhf75AhetRuF41v0AAAAAAQAHAQEjhehTuzr5AXI/C9aitvEApXI/C9WO8QClcj8J1AsBAH4XrUfgpv0DXo3A9ShS/QOxRuB5F/b1AMzMzM7PJvkBxPQrX4ze/QClcj8I1d79AXI/C9QjxwEB7FK5HYTHBQFK4HoVLB8FAexSuR+HqwEDsUbgeJUDAQFK4HoXrvsBAj8L1KLy6wEAAAAAA4BLBQIXrUbh+CcBApHA9ClcYvkB7FK5HoYu+QGZmZmbmkr5A7FG4HsVkv0BSuB6Fqw2/QOF6FK5HDL5ACtejcD1Ev0BI4XoUbvW+QM3MzMyM0b9AMzMzM3MTwEAAAAAA4PjAQB+F61G4RMFAKVyPwnWOwUCPwvUovDvCQArXo3Bdu8FA4XoUroccwkBcj8L1iJrCQClcj8L138NAH4XrUVjkxECF61G43jLFQJqZmZmZf8VA16NwPUoBx0DD9Shcj2zJQClcj8IVzcVAexSuR2E4yECF61G4/k3HQKRwPQp3FsVApHA9CleuxECuR+F6FCHFQI/C9ShcYsdAzczMzIzhxUDsUbgeRXPFQMP1KFzP6MVAzczMzExbxkDXo3A9Kv7HQOxRuB7FjchAFK5H4dq1x0BmZmZmJi3GQD0K16OQEsdA9ihcj4I6xkBSuB6F6wjEQDMzMzNTSMVAFK5H4Zp/wkAAAAAAQPHCQBSuR+H6zsRAXI/C9eiOxEBxPQrXwwzFQJqZmZl5ssRAAAAAAGA1xEAK16Nw3U/DQM3MzMyMKMNAPQrXo5Bcw0ApXI/ClUfDQD0K16PQicJApHA9ChemwkDXo3A9KpnCQGZmZmYGwsJAH4XrUbiuw0DsUbgeBVHEQHE9Cteji8RAPQrXo9AixUCF61G4XmjFQOxRuB7FEcdAH4XrURhqxkDsUbgeBVnHQI/C9Si8WMdA4XoUrscqx0CF61G43irGQB+F61EYhMZAZmZmZoY8xkCF61G4vkTFQClcj8I1m8NAKVyPwrUnxECPwvUoXDvEQHsUrkeB/MNAcT0K1yM3xEDNzMzMLFLFQFyPwvVIBsVA9ihcj0LPw0DhehSuJ8zDQLgehevRU8RAhetRuF7Yw0BmZmZmJsfDQNejcD1qQsRApHA9Crftw0DsUbgeZQ7DQFK4HoVrlcJA7FG4HsW+wkBSuB6FS8/CQI/C9Si8DsNACtejcN00xECkcD0Kl77EQKRwPQoXrsRAmpmZmRmpxECkcD0K9zjEQEjhehQOi8RACtejcJ1lxECuR+F6NDDEQOxRuB6FxcNAXI/C9Wjgw0BI4XoUrlfEQDMzMzOzNMRAj8L1KDw6xECPwvUonDXEQHsUrkfBFMRAZmZmZuYDxEAAAAAAQOzDQFyPwvUoDcRAMzMzM9Pjw0DD9ShcD5TDQBSuR+H6qcNAXI/C9agAw0CkcD0Kt83AQClcj8LVk8BAmpmZmRmxv0D2KFyPoh3AQOxRuB4FG8BAFK5H4Tqov0CPwvUo3DXAQBSuR+EaTMBA9ihcj2JjwECF61G4viHAQDMzMzMTCcBAexSuR+HVv0CF61G4HjW/QM3MzMxsG8BAUrgehesSwEBxPQrXo8TAQHsUrkehxMBAKVyPwtU9wEAzMzMzc0jAQNejcD1qQMBAFK5H4bpawEApXI/CVQbAQMP1KFzPb79ASOF6FO6kv0DNzMzMzCW/QMP1KFzPPb9Aw/UoXI8QwEAzMzMzsxnAQBSuR+E6jL9AFK5H4bpVvUAzMzMzs0K9QNejcD3K7cBAFK5H4doMwkDNzMzMjK7CQB+F61E4EMJAFK5H4TpnwkAUrkfhOvnBQIXrUbj+9MFAcT0K1+MVwkDsUbgeZTbCQEjhehTOCcJAAAAAAIBiwkBI4XoUbj7CQLgehesxRMJAw/UoXK8YwkCPwvUovDTBQIXrUbg+NsFAKVyPwnWwwUAAAAAA4BvBQHE9CtcDNsFAH4XrUfg1wUAUrkfh2gDBQClcj8KVlcBAj8L1KLyywEAK16Nw/b7AQD0K16OQOMBASOF6FM4FwEBxPQrXo1e/QLgeheuR271AXI/C9SiAvEB7FK5Hoea8QBSuR+H6f7tAXI/C9Sjpu0B7FK5H4TS8QLgehevRcL1AFK5H4boqvUDD9ShcD1S+QIXrUbiek71A16NwPQoAvUAUrkfh+pu8QIXrUbgemLxACtejcD1VvEDD9Shcjxq9QOxRuB5Fe71ApHA9Cld/vUDNzMzMzIm9QHsUrkch5bxAMzMzMzNtvEAK16NwvTC8QFyPwvWoTLxAZmZmZuZkvEAK16NwPdS7QFyPwvWo8btAuB6F61ETu0AzMzMzs/e5QKRwPQqXbbxAcT0K16MovECkcD0KlzS8QD0K16MwF7xAZmZmZuZUvUBxPQrXY7q8QPYoXI/CnbxAzczMzMxqvEBxPQrXI0a8QOF6FK4HebxAZmZmZqaVvEDsUbgeRfy8QD0K16NwfrxAcT0K1+MavEDNzMzMjCK8QEjhehRuSLtAexSuR2GxvEAzMzMzc/K8QDMzMzNz8rxASOF6FK5YvkA9Ctej8OG/QM3MzMxMkr9Aw/UoXE/GvkA9CtejMOK/QPYoXI9CYb9A7FG4HsX9v0BI4XoU7sy/QFK4HoWrPMFACtejcD02wUAUrkfhmgrBQBSuR+Gab8FAmpmZmbl2wUA9CtejUADBQIXrUbh+6cBAFK5H4RoUwUAzMzMzU/TAQFyPwvXIasBAw/UoXA98wECuR+F6NFbAQOF6FK6nysBA9ihcj0JowUCPwvUovEbCQPYoXI8CMsJA4XoUrieSwkBI4XoULkHCQFyPwvXoVsJApHA9CldAwkBSuB6FaybCQClcj8K178FAXI/C9ejIwkAAAAAAAP/CQFyPwvWIIMNAuB6F6/FDw0DhehSux8HDQLgehevxP8NAuB6F6zHtw0AUrkfh+inEQGZmZmbG8cNASOF6FO4kxECkcD0Kl1DDQOF6FK5HaMNACtejcJ3twkBmZmZm5s/DQNejcD2qzsJAcT0K1+PFwkAUrkfh2uvCQFyPwvWo38JA16NwPcpgw0DhehSup9nCQOxRuB4lPcJAUrgehYs8wUAK16NwXSrBQBSuR+Ga78BAexSuR+HLwEB7FK5HobnAQLgeheuxUMFA7FG4HkUqwUDsUbgeJRzBQOF6FK4nu8FAzczMzMzQwUAUrkfhGmbBQGZmZmYmr79AZmZmZibyvkCkcD0KF+a+QIXrUbie6b5ArkfhetSZs0CuR+F6FMW1QLgehesRUbRAFK5H4ToJtUCuR+F6lIqzQI/C9Sgca7RAUrgehWt9tEBmZmZmpi+4QOxRuB6FPrhAw/UoXI8puECF61G4Xse2QHE9CtejJLlAH4XrUbhSukBSuB6FKxO6QHE9CtdjP7pAAAAAAEBDuUCF61G4nmW4QNejcD2KJbdAj8L1KJweuUC4HoXrUSW5QOF6FK7HzrlAZmZmZmaNukB7FK5HYVK6QNejcD2KzrpAzczMzAyEukBxPQrXo2m8QOF6FK5HC7xAH4XrUfipvEC4HoXr0Ye8QD0K16Nw07pAuB6F6xHKukCF61G4njW7QOF6FK5Hu7pAw/UoXI+9ukAzMzMzc/C5QM3MzMyMzLtA16NwPUq0u0BSuB6F61y8QIXrUbjeErxA4XoUrsffukA9CtejcN+6QMP1KFxP0btASOF6FC4KvUAUrkfhen69QHE9Ctcjkr1AUrgehWv/vUAfhetR+HS+QClcj8K1fr5AKVyPwtUuwUBxPQrXY/DAQOF6FK6HUsFASOF6FM6LwUAAAAAA4F/BQNejcD1qaMFAH4XrUbiXwUAzMzMz8xbCQK5H4XoUaMNArkfhenQ4w0ApXI/ClbvCQOxRuB7FGcFAuB6F6zHRwEC4HoXrsTLBQNejcD2qG8JA7FG4HiUDw0CF61G4njrCQKRwPQp3T8JAmpmZmdnlwkDhehSuh//CQNejcD2q/sJAhetRuF6ZwkDXo3A9KrzBQOF6FK6H8MFAcT0K1yP+wUBI4XoUDinBQFK4HoXLZsFAPQrXo7BCwUCamZmZefDBQEjhehQunMJArkfhenRvwkBI4XoUDvLCQEjhehTOe8JAj8L1KHzZw0B7FK5H4Z7CQM3MzMzs28JAj8L1KBwkw0AzMzMzc+DCQAAAAACA2sJA4XoUrgcQw0BI4XoULhfDQMP1KFwPIcNA16NwPQpHw0AfhetRWDTCQIXrUbhehMJAZmZmZsaCwkDsUbgeBVXCQPYoXI8id8JAcT0K1+OewkBcj8L1yITCQOxRuB4lYcJAFK5H4XolwkCkcD0KdznCQClcj8J1KsJA16NwPQrWwkAzMzMzE9DCQD0K16MQMcJAAAAAAIAWwkBcj8L16OfBQBSuR+E6rMFAcT0K1wPawUDXo3A9yvDBQIXrUbj+3MFAuB6F65EHwkBSuB6Fa9LBQArXo3AdvsFAUrgehQvTwUDNzMzMbLjBQK5H4XqUQsJA9ihcj4ISwkCF61G4/mnCQEjhehSuHMJAexSuR8EewkBmZmZmhgzCQBSuR+GaHsJAmpmZmVkLwkAzMzMz8wzCQArXo3D988FA4XoUrufVwUCkcD0Kl9/BQHsUrkcB48FAj8L1KJzxwUB7FK5HQeXBQNejcD2KT8JAuB6F65GbwkB7FK5HwbjCQIXrUbi+ocJACtejcB3owkCPwvUonFjDQBSuR+G6hMVAmpmZmXlQxUDXo3A96q3FQBSuR+Eas8VAXI/C9UgdxkB7FK5HYffGQPYoXI/ikcVAXI/C9ejhxUDD9Shc7/LGQLgehetxAcdAZmZmZkaqxkDXo3A9quzGQHsUrkchx8ZAMzMzM9M0x0DNzMzMTEbGQK5H4Xo0osZArkfhelT+xkCamZmZWfzGQB+F61FYLcdArkfhetQ7x0AzMzMz8+3HQD0K16Nwa8dAAAAAAMD4xkBxPQrXAzPHQArXo3C9oMZAmpmZmdnPxkAfhetR2MfGQFK4HoXL/sZAuB6F63EzxkBI4XoUzm7GQGZmZmamHsZAZmZmZoaKxkAUrkfhWnrGQOF6FK6n4MZAXI/C9ajPxkBcj8L1aF7HQB+F61GYR8ZAw/UoXC/7w0BxPQrXQ4jEQI/C9Sic28NAAAAAAIAUxEDhehSup0DEQDMzMzMTy8NA16NwPSoBxEBxPQrXg0DEQEjhehTuVMRAMzMzMzNqxEAK16NwXSzEQAAAAADg2sRAexSuR+EWxUAAAAAAoG7FQFyPwvXoY8VAAAAAAOBaxUDD9Shc76vFQKRwPQp3W8VAw/UoXM9txEAUrkfhupXEQArXo3C9+cNAj8L1KLz9xECF61G4HufEQB+F61F4AMVAuB6F69EJxUAUrkfhOuzEQK5H4Xq0LsVAexSuR4EQxUC4HoXrMcDEQOF6FK7nq8RAKVyPwvWjxEBxPQrXA+DEQHE9CtfjF8VAZmZmZua9xEDD9Shcz9rEQB+F61G4VsVAuB6F65GZxUDXo3A9ChDGQLgehetRQMZAj8L1KFyOxkBmZmZmhlLGQM3MzMxMUcZA16NwPWp3xkDD9ShcDx3GQArXo3D9LcZAexSuR4GYxUA=",
        "encoding": "base64",
        "path": [
         "_data",
         0,
         "open",
         "value"
        ]
       },
       {
        "data": "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",
        "encoding": "base64",
        "path": [
         "_data",
         1,
         "y",
         "value"
        ]
       }
      ],
      "model_module": "plotlywidget",
      "model_module_version": "^4.8.0",
      "model_name": "FigureModel",
      "state": {
       "_config": {
        "plotlyServerURL": "https://plot.ly"
       },
       "_data": [
        {
         "close": {
          "dtype": "float64",
          "shape": [
           730
          ]
         },
         "decreasing": {
          "line": {
           "color": "#d95f02"
          }
         },
         "high": {
          "dtype": "float64",
          "shape": [
           730
          ]
         },
         "increasing": {
          "line": {
           "color": "#1b9e76"
          }
         },
         "low": {
          "dtype": "float64",
          "shape": [
           730
          ]
         },
         "name": "OHLC",
         "open": {
          "dtype": "float64",
          "shape": [
           730
          ]
         },
         "type": "ohlc",
         "uid": "b23e62f7-ce8a-42f8-bf2d-c34fba16c304",
         "x": [
          "2018-10-20T00:00:00.000000",
          "2018-10-21T00:00:00.000000",
          "2018-10-22T00:00:00.000000",
          "2018-10-23T00:00:00.000000",
          "2018-10-24T00:00:00.000000",
          "2018-10-25T00:00:00.000000",
          "2018-10-26T00:00:00.000000",
          "2018-10-27T00:00:00.000000",
          "2018-10-28T00:00:00.000000",
          "2018-10-29T00:00:00.000000",
          "2018-10-30T00:00:00.000000",
          "2018-10-31T00:00:00.000000",
          "2018-11-01T00:00:00.000000",
          "2018-11-02T00:00:00.000000",
          "2018-11-03T00:00:00.000000",
          "2018-11-04T00:00:00.000000",
          "2018-11-05T00:00:00.000000",
          "2018-11-06T00:00:00.000000",
          "2018-11-07T00:00:00.000000",
          "2018-11-08T00:00:00.000000",
          "2018-11-09T00:00:00.000000",
          "2018-11-10T00:00:00.000000",
          "2018-11-11T00:00:00.000000",
          "2018-11-12T00:00:00.000000",
          "2018-11-13T00:00:00.000000",
          "2018-11-14T00:00:00.000000",
          "2018-11-15T00:00:00.000000",
          "2018-11-16T00:00:00.000000",
          "2018-11-17T00:00:00.000000",
          "2018-11-18T00:00:00.000000",
          "2018-11-19T00:00:00.000000",
          "2018-11-20T00:00:00.000000",
          "2018-11-21T00:00:00.000000",
          "2018-11-22T00:00:00.000000",
          "2018-11-23T00:00:00.000000",
          "2018-11-24T00:00:00.000000",
          "2018-11-25T00:00:00.000000",
          "2018-11-26T00:00:00.000000",
          "2018-11-27T00:00:00.000000",
          "2018-11-28T00:00:00.000000",
          "2018-11-29T00:00:00.000000",
          "2018-11-30T00:00:00.000000",
          "2018-12-01T00:00:00.000000",
          "2018-12-02T00:00:00.000000",
          "2018-12-03T00:00:00.000000",
          "2018-12-04T00:00:00.000000",
          "2018-12-05T00:00:00.000000",
          "2018-12-06T00:00:00.000000",
          "2018-12-07T00:00:00.000000",
          "2018-12-08T00:00:00.000000",
          "2018-12-09T00:00:00.000000",
          "2018-12-10T00:00:00.000000",
          "2018-12-11T00:00:00.000000",
          "2018-12-12T00:00:00.000000",
          "2018-12-13T00:00:00.000000",
          "2018-12-14T00:00:00.000000",
          "2018-12-15T00:00:00.000000",
          "2018-12-16T00:00:00.000000",
          "2018-12-17T00:00:00.000000",
          "2018-12-18T00:00:00.000000",
          "2018-12-19T00:00:00.000000",
          "2018-12-20T00:00:00.000000",
          "2018-12-21T00:00:00.000000",
          "2018-12-22T00:00:00.000000",
          "2018-12-23T00:00:00.000000",
          "2018-12-24T00:00:00.000000",
          "2018-12-25T00:00:00.000000",
          "2018-12-26T00:00:00.000000",
          "2018-12-27T00:00:00.000000",
          "2018-12-28T00:00:00.000000",
          "2018-12-29T00:00:00.000000",
          "2018-12-30T00:00:00.000000",
          "2018-12-31T00:00:00.000000",
          "2019-01-01T00:00:00.000000",
          "2019-01-02T00:00:00.000000",
          "2019-01-03T00:00:00.000000",
          "2019-01-04T00:00:00.000000",
          "2019-01-05T00:00:00.000000",
          "2019-01-06T00:00:00.000000",
          "2019-01-07T00:00:00.000000",
          "2019-01-08T00:00:00.000000",
          "2019-01-09T00:00:00.000000",
          "2019-01-10T00:00:00.000000",
          "2019-01-11T00:00:00.000000",
          "2019-01-12T00:00:00.000000",
          "2019-01-13T00:00:00.000000",
          "2019-01-14T00:00:00.000000",
          "2019-01-15T00:00:00.000000",
          "2019-01-16T00:00:00.000000",
          "2019-01-17T00:00:00.000000",
          "2019-01-18T00:00:00.000000",
          "2019-01-19T00:00:00.000000",
          "2019-01-20T00:00:00.000000",
          "2019-01-21T00:00:00.000000",
          "2019-01-22T00:00:00.000000",
          "2019-01-23T00:00:00.000000",
          "2019-01-24T00:00:00.000000",
          "2019-01-25T00:00:00.000000",
          "2019-01-26T00:00:00.000000",
          "2019-01-27T00:00:00.000000",
          "2019-01-28T00:00:00.000000",
          "2019-01-29T00:00:00.000000",
          "2019-01-30T00:00:00.000000",
          "2019-01-31T00:00:00.000000",
          "2019-02-01T00:00:00.000000",
          "2019-02-02T00:00:00.000000",
          "2019-02-03T00:00:00.000000",
          "2019-02-04T00:00:00.000000",
          "2019-02-05T00:00:00.000000",
          "2019-02-06T00:00:00.000000",
          "2019-02-07T00:00:00.000000",
          "2019-02-08T00:00:00.000000",
          "2019-02-09T00:00:00.000000",
          "2019-02-10T00:00:00.000000",
          "2019-02-11T00:00:00.000000",
          "2019-02-12T00:00:00.000000",
          "2019-02-13T00:00:00.000000",
          "2019-02-14T00:00:00.000000",
          "2019-02-15T00:00:00.000000",
          "2019-02-16T00:00:00.000000",
          "2019-02-17T00:00:00.000000",
          "2019-02-18T00:00:00.000000",
          "2019-02-19T00:00:00.000000",
          "2019-02-20T00:00:00.000000",
          "2019-02-21T00:00:00.000000",
          "2019-02-22T00:00:00.000000",
          "2019-02-23T00:00:00.000000",
          "2019-02-24T00:00:00.000000",
          "2019-02-25T00:00:00.000000",
          "2019-02-26T00:00:00.000000",
          "2019-02-27T00:00:00.000000",
          "2019-02-28T00:00:00.000000",
          "2019-03-01T00:00:00.000000",
          "2019-03-02T00:00:00.000000",
          "2019-03-03T00:00:00.000000",
          "2019-03-04T00:00:00.000000",
          "2019-03-05T00:00:00.000000",
          "2019-03-06T00:00:00.000000",
          "2019-03-07T00:00:00.000000",
          "2019-03-08T00:00:00.000000",
          "2019-03-09T00:00:00.000000",
          "2019-03-10T00:00:00.000000",
          "2019-03-11T00:00:00.000000",
          "2019-03-12T00:00:00.000000",
          "2019-03-13T00:00:00.000000",
          "2019-03-14T00:00:00.000000",
          "2019-03-15T00:00:00.000000",
          "2019-03-16T00:00:00.000000",
          "2019-03-17T00:00:00.000000",
          "2019-03-18T00:00:00.000000",
          "2019-03-19T00:00:00.000000",
          "2019-03-20T00:00:00.000000",
          "2019-03-21T00:00:00.000000",
          "2019-03-22T00:00:00.000000",
          "2019-03-23T00:00:00.000000",
          "2019-03-24T00:00:00.000000",
          "2019-03-25T00:00:00.000000",
          "2019-03-26T00:00:00.000000",
          "2019-03-27T00:00:00.000000",
          "2019-03-28T00:00:00.000000",
          "2019-03-29T00:00:00.000000",
          "2019-03-30T00:00:00.000000",
          "2019-03-31T00:00:00.000000",
          "2019-04-01T00:00:00.000000",
          "2019-04-02T00:00:00.000000",
          "2019-04-03T00:00:00.000000",
          "2019-04-04T00:00:00.000000",
          "2019-04-05T00:00:00.000000",
          "2019-04-06T00:00:00.000000",
          "2019-04-07T00:00:00.000000",
          "2019-04-08T00:00:00.000000",
          "2019-04-09T00:00:00.000000",
          "2019-04-10T00:00:00.000000",
          "2019-04-11T00:00:00.000000",
          "2019-04-12T00:00:00.000000",
          "2019-04-13T00:00:00.000000",
          "2019-04-14T00:00:00.000000",
          "2019-04-15T00:00:00.000000",
          "2019-04-16T00:00:00.000000",
          "2019-04-17T00:00:00.000000",
          "2019-04-18T00:00:00.000000",
          "2019-04-19T00:00:00.000000",
          "2019-04-20T00:00:00.000000",
          "2019-04-21T00:00:00.000000",
          "2019-04-22T00:00:00.000000",
          "2019-04-23T00:00:00.000000",
          "2019-04-24T00:00:00.000000",
          "2019-04-25T00:00:00.000000",
          "2019-04-26T00:00:00.000000",
          "2019-04-27T00:00:00.000000",
          "2019-04-28T00:00:00.000000",
          "2019-04-29T00:00:00.000000",
          "2019-04-30T00:00:00.000000",
          "2019-05-01T00:00:00.000000",
          "2019-05-02T00:00:00.000000",
          "2019-05-03T00:00:00.000000",
          "2019-05-04T00:00:00.000000",
          "2019-05-05T00:00:00.000000",
          "2019-05-06T00:00:00.000000",
          "2019-05-07T00:00:00.000000",
          "2019-05-08T00:00:00.000000",
          "2019-05-09T00:00:00.000000",
          "2019-05-10T00:00:00.000000",
          "2019-05-11T00:00:00.000000",
          "2019-05-12T00:00:00.000000",
          "2019-05-13T00:00:00.000000",
          "2019-05-14T00:00:00.000000",
          "2019-05-15T00:00:00.000000",
          "2019-05-16T00:00:00.000000",
          "2019-05-17T00:00:00.000000",
          "2019-05-18T00:00:00.000000",
          "2019-05-19T00:00:00.000000",
          "2019-05-20T00:00:00.000000",
          "2019-05-21T00:00:00.000000",
          "2019-05-22T00:00:00.000000",
          "2019-05-23T00:00:00.000000",
          "2019-05-24T00:00:00.000000",
          "2019-05-25T00:00:00.000000",
          "2019-05-26T00:00:00.000000",
          "2019-05-27T00:00:00.000000",
          "2019-05-28T00:00:00.000000",
          "2019-05-29T00:00:00.000000",
          "2019-05-30T00:00:00.000000",
          "2019-05-31T00:00:00.000000",
          "2019-06-01T00:00:00.000000",
          "2019-06-02T00:00:00.000000",
          "2019-06-03T00:00:00.000000",
          "2019-06-04T00:00:00.000000",
          "2019-06-05T00:00:00.000000",
          "2019-06-06T00:00:00.000000",
          "2019-06-07T00:00:00.000000",
          "2019-06-08T00:00:00.000000",
          "2019-06-09T00:00:00.000000",
          "2019-06-10T00:00:00.000000",
          "2019-06-11T00:00:00.000000",
          "2019-06-12T00:00:00.000000",
          "2019-06-13T00:00:00.000000",
          "2019-06-14T00:00:00.000000",
          "2019-06-15T00:00:00.000000",
          "2019-06-16T00:00:00.000000",
          "2019-06-17T00:00:00.000000",
          "2019-06-18T00:00:00.000000",
          "2019-06-19T00:00:00.000000",
          "2019-06-20T00:00:00.000000",
          "2019-06-21T00:00:00.000000",
          "2019-06-22T00:00:00.000000",
          "2019-06-23T00:00:00.000000",
          "2019-06-24T00:00:00.000000",
          "2019-06-25T00:00:00.000000",
          "2019-06-26T00:00:00.000000",
          "2019-06-27T00:00:00.000000",
          "2019-06-28T00:00:00.000000",
          "2019-06-29T00:00:00.000000",
          "2019-06-30T00:00:00.000000",
          "2019-07-01T00:00:00.000000",
          "2019-07-02T00:00:00.000000",
          "2019-07-03T00:00:00.000000",
          "2019-07-04T00:00:00.000000",
          "2019-07-05T00:00:00.000000",
          "2019-07-06T00:00:00.000000",
          "2019-07-07T00:00:00.000000",
          "2019-07-08T00:00:00.000000",
          "2019-07-09T00:00:00.000000",
          "2019-07-10T00:00:00.000000",
          "2019-07-11T00:00:00.000000",
          "2019-07-12T00:00:00.000000",
          "2019-07-13T00:00:00.000000",
          "2019-07-14T00:00:00.000000",
          "2019-07-15T00:00:00.000000",
          "2019-07-16T00:00:00.000000",
          "2019-07-17T00:00:00.000000",
          "2019-07-18T00:00:00.000000",
          "2019-07-19T00:00:00.000000",
          "2019-07-20T00:00:00.000000",
          "2019-07-21T00:00:00.000000",
          "2019-07-22T00:00:00.000000",
          "2019-07-23T00:00:00.000000",
          "2019-07-24T00:00:00.000000",
          "2019-07-25T00:00:00.000000",
          "2019-07-26T00:00:00.000000",
          "2019-07-27T00:00:00.000000",
          "2019-07-28T00:00:00.000000",
          "2019-07-29T00:00:00.000000",
          "2019-07-30T00:00:00.000000",
          "2019-07-31T00:00:00.000000",
          "2019-08-01T00:00:00.000000",
          "2019-08-02T00:00:00.000000",
          "2019-08-03T00:00:00.000000",
          "2019-08-04T00:00:00.000000",
          "2019-08-05T00:00:00.000000",
          "2019-08-06T00:00:00.000000",
          "2019-08-07T00:00:00.000000",
          "2019-08-08T00:00:00.000000",
          "2019-08-09T00:00:00.000000",
          "2019-08-10T00:00:00.000000",
          "2019-08-11T00:00:00.000000",
          "2019-08-12T00:00:00.000000",
          "2019-08-13T00:00:00.000000",
          "2019-08-14T00:00:00.000000",
          "2019-08-15T00:00:00.000000",
          "2019-08-16T00:00:00.000000",
          "2019-08-17T00:00:00.000000",
          "2019-08-18T00:00:00.000000",
          "2019-08-19T00:00:00.000000",
          "2019-08-20T00:00:00.000000",
          "2019-08-21T00:00:00.000000",
          "2019-08-22T00:00:00.000000",
          "2019-08-23T00:00:00.000000",
          "2019-08-24T00:00:00.000000",
          "2019-08-25T00:00:00.000000",
          "2019-08-26T00:00:00.000000",
          "2019-08-27T00:00:00.000000",
          "2019-08-28T00:00:00.000000",
          "2019-08-29T00:00:00.000000",
          "2019-08-30T00:00:00.000000",
          "2019-08-31T00:00:00.000000",
          "2019-09-01T00:00:00.000000",
          "2019-09-02T00:00:00.000000",
          "2019-09-03T00:00:00.000000",
          "2019-09-04T00:00:00.000000",
          "2019-09-05T00:00:00.000000",
          "2019-09-06T00:00:00.000000",
          "2019-09-07T00:00:00.000000",
          "2019-09-08T00:00:00.000000",
          "2019-09-09T00:00:00.000000",
          "2019-09-10T00:00:00.000000",
          "2019-09-11T00:00:00.000000",
          "2019-09-12T00:00:00.000000",
          "2019-09-13T00:00:00.000000",
          "2019-09-14T00:00:00.000000",
          "2019-09-15T00:00:00.000000",
          "2019-09-16T00:00:00.000000",
          "2019-09-17T00:00:00.000000",
          "2019-09-18T00:00:00.000000",
          "2019-09-19T00:00:00.000000",
          "2019-09-20T00:00:00.000000",
          "2019-09-21T00:00:00.000000",
          "2019-09-22T00:00:00.000000",
          "2019-09-23T00:00:00.000000",
          "2019-09-24T00:00:00.000000",
          "2019-09-25T00:00:00.000000",
          "2019-09-26T00:00:00.000000",
          "2019-09-27T00:00:00.000000",
          "2019-09-28T00:00:00.000000",
          "2019-09-29T00:00:00.000000",
          "2019-09-30T00:00:00.000000",
          "2019-10-01T00:00:00.000000",
          "2019-10-02T00:00:00.000000",
          "2019-10-03T00:00:00.000000",
          "2019-10-04T00:00:00.000000",
          "2019-10-05T00:00:00.000000",
          "2019-10-06T00:00:00.000000",
          "2019-10-07T00:00:00.000000",
          "2019-10-08T00:00:00.000000",
          "2019-10-09T00:00:00.000000",
          "2019-10-10T00:00:00.000000",
          "2019-10-11T00:00:00.000000",
          "2019-10-12T00:00:00.000000",
          "2019-10-13T00:00:00.000000",
          "2019-10-14T00:00:00.000000",
          "2019-10-15T00:00:00.000000",
          "2019-10-16T00:00:00.000000",
          "2019-10-17T00:00:00.000000",
          "2019-10-18T00:00:00.000000",
          "2019-10-19T00:00:00.000000",
          "2019-10-20T00:00:00.000000",
          "2019-10-21T00:00:00.000000",
          "2019-10-22T00:00:00.000000",
          "2019-10-23T00:00:00.000000",
          "2019-10-24T00:00:00.000000",
          "2019-10-25T00:00:00.000000",
          "2019-10-26T00:00:00.000000",
          "2019-10-27T00:00:00.000000",
          "2019-10-28T00:00:00.000000",
          "2019-10-29T00:00:00.000000",
          "2019-10-30T00:00:00.000000",
          "2019-10-31T00:00:00.000000",
          "2019-11-01T00:00:00.000000",
          "2019-11-02T00:00:00.000000",
          "2019-11-03T00:00:00.000000",
          "2019-11-04T00:00:00.000000",
          "2019-11-05T00:00:00.000000",
          "2019-11-06T00:00:00.000000",
          "2019-11-07T00:00:00.000000",
          "2019-11-08T00:00:00.000000",
          "2019-11-09T00:00:00.000000",
          "2019-11-10T00:00:00.000000",
          "2019-11-11T00:00:00.000000",
          "2019-11-12T00:00:00.000000",
          "2019-11-13T00:00:00.000000",
          "2019-11-14T00:00:00.000000",
          "2019-11-15T00:00:00.000000",
          "2019-11-16T00:00:00.000000",
          "2019-11-17T00:00:00.000000",
          "2019-11-18T00:00:00.000000",
          "2019-11-19T00:00:00.000000",
          "2019-11-20T00:00:00.000000",
          "2019-11-21T00:00:00.000000",
          "2019-11-22T00:00:00.000000",
          "2019-11-23T00:00:00.000000",
          "2019-11-24T00:00:00.000000",
          "2019-11-25T00:00:00.000000",
          "2019-11-26T00:00:00.000000",
          "2019-11-27T00:00:00.000000",
          "2019-11-28T00:00:00.000000",
          "2019-11-29T00:00:00.000000",
          "2019-11-30T00:00:00.000000",
          "2019-12-01T00:00:00.000000",
          "2019-12-02T00:00:00.000000",
          "2019-12-03T00:00:00.000000",
          "2019-12-04T00:00:00.000000",
          "2019-12-05T00:00:00.000000",
          "2019-12-06T00:00:00.000000",
          "2019-12-07T00:00:00.000000",
          "2019-12-08T00:00:00.000000",
          "2019-12-09T00:00:00.000000",
          "2019-12-10T00:00:00.000000",
          "2019-12-11T00:00:00.000000",
          "2019-12-12T00:00:00.000000",
          "2019-12-13T00:00:00.000000",
          "2019-12-14T00:00:00.000000",
          "2019-12-15T00:00:00.000000",
          "2019-12-16T00:00:00.000000",
          "2019-12-17T00:00:00.000000",
          "2019-12-18T00:00:00.000000",
          "2019-12-19T00:00:00.000000",
          "2019-12-20T00:00:00.000000",
          "2019-12-21T00:00:00.000000",
          "2019-12-22T00:00:00.000000",
          "2019-12-23T00:00:00.000000",
          "2019-12-24T00:00:00.000000",
          "2019-12-25T00:00:00.000000",
          "2019-12-26T00:00:00.000000",
          "2019-12-27T00:00:00.000000",
          "2019-12-28T00:00:00.000000",
          "2019-12-29T00:00:00.000000",
          "2019-12-30T00:00:00.000000",
          "2019-12-31T00:00:00.000000",
          "2020-01-01T00:00:00.000000",
          "2020-01-02T00:00:00.000000",
          "2020-01-03T00:00:00.000000",
          "2020-01-04T00:00:00.000000",
          "2020-01-05T00:00:00.000000",
          "2020-01-06T00:00:00.000000",
          "2020-01-07T00:00:00.000000",
          "2020-01-08T00:00:00.000000",
          "2020-01-09T00:00:00.000000",
          "2020-01-10T00:00:00.000000",
          "2020-01-11T00:00:00.000000",
          "2020-01-12T00:00:00.000000",
          "2020-01-13T00:00:00.000000",
          "2020-01-14T00:00:00.000000",
          "2020-01-15T00:00:00.000000",
          "2020-01-16T00:00:00.000000",
          "2020-01-17T00:00:00.000000",
          "2020-01-18T00:00:00.000000",
          "2020-01-19T00:00:00.000000",
          "2020-01-20T00:00:00.000000",
          "2020-01-21T00:00:00.000000",
          "2020-01-22T00:00:00.000000",
          "2020-01-23T00:00:00.000000",
          "2020-01-24T00:00:00.000000",
          "2020-01-25T00:00:00.000000",
          "2020-01-26T00:00:00.000000",
          "2020-01-27T00:00:00.000000",
          "2020-01-28T00:00:00.000000",
          "2020-01-29T00:00:00.000000",
          "2020-01-30T00:00:00.000000",
          "2020-01-31T00:00:00.000000",
          "2020-02-01T00:00:00.000000",
          "2020-02-02T00:00:00.000000",
          "2020-02-03T00:00:00.000000",
          "2020-02-04T00:00:00.000000",
          "2020-02-05T00:00:00.000000",
          "2020-02-06T00:00:00.000000",
          "2020-02-07T00:00:00.000000",
          "2020-02-08T00:00:00.000000",
          "2020-02-09T00:00:00.000000",
          "2020-02-10T00:00:00.000000",
          "2020-02-11T00:00:00.000000",
          "2020-02-12T00:00:00.000000",
          "2020-02-13T00:00:00.000000",
          "2020-02-14T00:00:00.000000",
          "2020-02-15T00:00:00.000000",
          "2020-02-16T00:00:00.000000",
          "2020-02-17T00:00:00.000000",
          "2020-02-18T00:00:00.000000",
          "2020-02-19T00:00:00.000000",
          "2020-02-20T00:00:00.000000",
          "2020-02-21T00:00:00.000000",
          "2020-02-22T00:00:00.000000",
          "2020-02-23T00:00:00.000000",
          "2020-02-24T00:00:00.000000",
          "2020-02-25T00:00:00.000000",
          "2020-02-26T00:00:00.000000",
          "2020-02-27T00:00:00.000000",
          "2020-02-28T00:00:00.000000",
          "2020-02-29T00:00:00.000000",
          "2020-03-01T00:00:00.000000",
          "2020-03-02T00:00:00.000000",
          "2020-03-03T00:00:00.000000",
          "2020-03-04T00:00:00.000000",
          "2020-03-05T00:00:00.000000",
          "2020-03-06T00:00:00.000000",
          "2020-03-07T00:00:00.000000",
          "2020-03-08T00:00:00.000000",
          "2020-03-09T00:00:00.000000",
          "2020-03-10T00:00:00.000000",
          "2020-03-11T00:00:00.000000",
          "2020-03-12T00:00:00.000000",
          "2020-03-13T00:00:00.000000",
          "2020-03-14T00:00:00.000000",
          "2020-03-15T00:00:00.000000",
          "2020-03-16T00:00:00.000000",
          "2020-03-17T00:00:00.000000",
          "2020-03-18T00:00:00.000000",
          "2020-03-19T00:00:00.000000",
          "2020-03-20T00:00:00.000000",
          "2020-03-21T00:00:00.000000",
          "2020-03-22T00:00:00.000000",
          "2020-03-23T00:00:00.000000",
          "2020-03-24T00:00:00.000000",
          "2020-03-25T00:00:00.000000",
          "2020-03-26T00:00:00.000000",
          "2020-03-27T00:00:00.000000",
          "2020-03-28T00:00:00.000000",
          "2020-03-29T00:00:00.000000",
          "2020-03-30T00:00:00.000000",
          "2020-03-31T00:00:00.000000",
          "2020-04-01T00:00:00.000000",
          "2020-04-02T00:00:00.000000",
          "2020-04-03T00:00:00.000000",
          "2020-04-04T00:00:00.000000",
          "2020-04-05T00:00:00.000000",
          "2020-04-06T00:00:00.000000",
          "2020-04-07T00:00:00.000000",
          "2020-04-08T00:00:00.000000",
          "2020-04-09T00:00:00.000000",
          "2020-04-10T00:00:00.000000",
          "2020-04-11T00:00:00.000000",
          "2020-04-12T00:00:00.000000",
          "2020-04-13T00:00:00.000000",
          "2020-04-14T00:00:00.000000",
          "2020-04-15T00:00:00.000000",
          "2020-04-16T00:00:00.000000",
          "2020-04-17T00:00:00.000000",
          "2020-04-18T00:00:00.000000",
          "2020-04-19T00:00:00.000000",
          "2020-04-20T00:00:00.000000",
          "2020-04-21T00:00:00.000000",
          "2020-04-22T00:00:00.000000",
          "2020-04-23T00:00:00.000000",
          "2020-04-24T00:00:00.000000",
          "2020-04-25T00:00:00.000000",
          "2020-04-26T00:00:00.000000",
          "2020-04-27T00:00:00.000000",
          "2020-04-28T00:00:00.000000",
          "2020-04-29T00:00:00.000000",
          "2020-04-30T00:00:00.000000",
          "2020-05-01T00:00:00.000000",
          "2020-05-02T00:00:00.000000",
          "2020-05-03T00:00:00.000000",
          "2020-05-04T00:00:00.000000",
          "2020-05-05T00:00:00.000000",
          "2020-05-06T00:00:00.000000",
          "2020-05-07T00:00:00.000000",
          "2020-05-08T00:00:00.000000",
          "2020-05-09T00:00:00.000000",
          "2020-05-10T00:00:00.000000",
          "2020-05-11T00:00:00.000000",
          "2020-05-12T00:00:00.000000",
          "2020-05-13T00:00:00.000000",
          "2020-05-14T00:00:00.000000",
          "2020-05-15T00:00:00.000000",
          "2020-05-16T00:00:00.000000",
          "2020-05-17T00:00:00.000000",
          "2020-05-18T00:00:00.000000",
          "2020-05-19T00:00:00.000000",
          "2020-05-20T00:00:00.000000",
          "2020-05-21T00:00:00.000000",
          "2020-05-22T00:00:00.000000",
          "2020-05-23T00:00:00.000000",
          "2020-05-24T00:00:00.000000",
          "2020-05-25T00:00:00.000000",
          "2020-05-26T00:00:00.000000",
          "2020-05-27T00:00:00.000000",
          "2020-05-28T00:00:00.000000",
          "2020-05-29T00:00:00.000000",
          "2020-05-30T00:00:00.000000",
          "2020-05-31T00:00:00.000000",
          "2020-06-01T00:00:00.000000",
          "2020-06-02T00:00:00.000000",
          "2020-06-03T00:00:00.000000",
          "2020-06-04T00:00:00.000000",
          "2020-06-05T00:00:00.000000",
          "2020-06-06T00:00:00.000000",
          "2020-06-07T00:00:00.000000",
          "2020-06-08T00:00:00.000000",
          "2020-06-09T00:00:00.000000",
          "2020-06-10T00:00:00.000000",
          "2020-06-11T00:00:00.000000",
          "2020-06-12T00:00:00.000000",
          "2020-06-13T00:00:00.000000",
          "2020-06-14T00:00:00.000000",
          "2020-06-15T00:00:00.000000",
          "2020-06-16T00:00:00.000000",
          "2020-06-17T00:00:00.000000",
          "2020-06-18T00:00:00.000000",
          "2020-06-19T00:00:00.000000",
          "2020-06-20T00:00:00.000000",
          "2020-06-21T00:00:00.000000",
          "2020-06-22T00:00:00.000000",
          "2020-06-23T00:00:00.000000",
          "2020-06-24T00:00:00.000000",
          "2020-06-25T00:00:00.000000",
          "2020-06-26T00:00:00.000000",
          "2020-06-27T00:00:00.000000",
          "2020-06-28T00:00:00.000000",
          "2020-06-29T00:00:00.000000",
          "2020-06-30T00:00:00.000000",
          "2020-07-01T00:00:00.000000",
          "2020-07-02T00:00:00.000000",
          "2020-07-03T00:00:00.000000",
          "2020-07-04T00:00:00.000000",
          "2020-07-05T00:00:00.000000",
          "2020-07-06T00:00:00.000000",
          "2020-07-07T00:00:00.000000",
          "2020-07-08T00:00:00.000000",
          "2020-07-09T00:00:00.000000",
          "2020-07-10T00:00:00.000000",
          "2020-07-11T00:00:00.000000",
          "2020-07-12T00:00:00.000000",
          "2020-07-13T00:00:00.000000",
          "2020-07-14T00:00:00.000000",
          "2020-07-15T00:00:00.000000",
          "2020-07-16T00:00:00.000000",
          "2020-07-17T00:00:00.000000",
          "2020-07-18T00:00:00.000000",
          "2020-07-19T00:00:00.000000",
          "2020-07-20T00:00:00.000000",
          "2020-07-21T00:00:00.000000",
          "2020-07-22T00:00:00.000000",
          "2020-07-23T00:00:00.000000",
          "2020-07-24T00:00:00.000000",
          "2020-07-25T00:00:00.000000",
          "2020-07-26T00:00:00.000000",
          "2020-07-27T00:00:00.000000",
          "2020-07-28T00:00:00.000000",
          "2020-07-29T00:00:00.000000",
          "2020-07-30T00:00:00.000000",
          "2020-07-31T00:00:00.000000",
          "2020-08-01T00:00:00.000000",
          "2020-08-02T00:00:00.000000",
          "2020-08-03T00:00:00.000000",
          "2020-08-05T00:00:00.000000",
          "2020-08-06T00:00:00.000000",
          "2020-08-07T00:00:00.000000",
          "2020-08-08T00:00:00.000000",
          "2020-08-09T00:00:00.000000",
          "2020-08-10T00:00:00.000000",
          "2020-08-11T00:00:00.000000",
          "2020-08-12T00:00:00.000000",
          "2020-08-13T00:00:00.000000",
          "2020-08-14T00:00:00.000000",
          "2020-08-15T00:00:00.000000",
          "2020-08-16T00:00:00.000000",
          "2020-08-17T00:00:00.000000",
          "2020-08-18T00:00:00.000000",
          "2020-08-19T00:00:00.000000",
          "2020-08-20T00:00:00.000000",
          "2020-08-21T00:00:00.000000",
          "2020-08-22T00:00:00.000000",
          "2020-08-23T00:00:00.000000",
          "2020-08-24T00:00:00.000000",
          "2020-08-25T00:00:00.000000",
          "2020-08-26T00:00:00.000000",
          "2020-08-27T00:00:00.000000",
          "2020-08-28T00:00:00.000000",
          "2020-08-29T00:00:00.000000",
          "2020-08-30T00:00:00.000000",
          "2020-08-31T00:00:00.000000",
          "2020-09-01T00:00:00.000000",
          "2020-09-02T00:00:00.000000",
          "2020-09-03T00:00:00.000000",
          "2020-09-04T00:00:00.000000",
          "2020-09-05T00:00:00.000000",
          "2020-09-06T00:00:00.000000",
          "2020-09-07T00:00:00.000000",
          "2020-09-08T00:00:00.000000",
          "2020-09-09T00:00:00.000000",
          "2020-09-10T00:00:00.000000",
          "2020-09-11T00:00:00.000000",
          "2020-09-12T00:00:00.000000",
          "2020-09-13T00:00:00.000000",
          "2020-09-14T00:00:00.000000",
          "2020-09-15T00:00:00.000000",
          "2020-09-16T00:00:00.000000",
          "2020-09-17T00:00:00.000000",
          "2020-09-18T00:00:00.000000",
          "2020-09-19T00:00:00.000000",
          "2020-09-20T00:00:00.000000",
          "2020-09-21T00:00:00.000000",
          "2020-09-22T00:00:00.000000",
          "2020-09-23T00:00:00.000000",
          "2020-09-24T00:00:00.000000",
          "2020-09-25T00:00:00.000000",
          "2020-09-26T00:00:00.000000",
          "2020-09-27T00:00:00.000000",
          "2020-09-28T00:00:00.000000",
          "2020-09-29T00:00:00.000000",
          "2020-09-30T00:00:00.000000",
          "2020-10-01T00:00:00.000000",
          "2020-10-02T00:00:00.000000",
          "2020-10-03T00:00:00.000000",
          "2020-10-04T00:00:00.000000",
          "2020-10-05T00:00:00.000000",
          "2020-10-06T00:00:00.000000",
          "2020-10-07T00:00:00.000000",
          "2020-10-08T00:00:00.000000",
          "2020-10-09T00:00:00.000000",
          "2020-10-10T00:00:00.000000",
          "2020-10-11T00:00:00.000000",
          "2020-10-12T00:00:00.000000",
          "2020-10-13T00:00:00.000000",
          "2020-10-14T00:00:00.000000",
          "2020-10-15T00:00:00.000000",
          "2020-10-16T00:00:00.000000",
          "2020-10-17T00:00:00.000000",
          "2020-10-18T00:00:00.000000",
          "2020-10-19T00:00:00.000000"
         ],
         "xaxis": "x",
         "yaxis": "y2"
        },
        {
         "marker": {
          "color": [
           "#1b9e76",
           "#d95f02",
           "#1b9e76",
           "#1b9e76",
           "#1b9e76",
           "#d95f02",
           "#1b9e76",
           "#d95f02",
           "#1b9e76",
           "#d95f02",
           "#d95f02",
           "#d95f02",
           "#1b9e76",
           "#1b9e76",
           "#d95f02",
           "#1b9e76",
           "#1b9e76",
           "#1b9e76",
           "#1b9e76",
           "#d95f02",
           "#d95f02",
           "#1b9e76",
           "#d95f02",
           "#d95f02",
           "#d95f02",
           "#d95f02",
           "#d95f02",
           "#d95f02",
           "#d95f02",
           "#1b9e76",
           "#d95f02",
           "#d95f02",
           "#1b9e76",
           "#d95f02",
           "#d95f02",
           "#d95f02",
           "#1b9e76",
           "#d95f02",
           "#1b9e76",
           "#1b9e76",
           "#1b9e76",
           "#d95f02",
           "#1b9e76",
           "#d95f02",
           "#d95f02",
           "#1b9e76",
           "#d95f02",
           "#d95f02",
           "#d95f02",
           "#1b9e76",
           "#1b9e76",
           "#d95f02",
           "#d95f02",
           "#1b9e76",
           "#d95f02",
           "#d95f02",
           "#d95f02",
           "#1b9e76",
           "#1b9e76",
           "#1b9e76",
           "#1b9e76",
           "#1b9e76",
           "#d95f02",
           "#1b9e76",
           "#d95f02",
           "#1b9e76",
           "#d95f02",
           "#1b9e76",
           "#d95f02",
           "#1b9e76",
           "#d95f02",
           "#1b9e76",
           "#d95f02",
           "#1b9e76",
           "#1b9e76",
           "#d95f02",
           "#1b9e76",
           "#d95f02",
           "#1b9e76",
           "#d95f02",
           "#1b9e76",
           "#1b9e76",
           "#d95f02",
           "#1b9e76",
           "#d95f02",
           "#d95f02",
           "#1b9e76",
           "#d95f02",
           "#1b9e76",
           "#1b9e76",
           "#d95f02",
           "#1b9e76",
           "#d95f02",
           "#d95f02",
           "#1b9e76",
           "#d95f02",
           "#1b9e76",
           "#d95f02",
           "#1b9e76",
           "#d95f02",
           "#d95f02",
           "#d95f02",
           "#1b9e76",
           "#d95f02",
           "#1b9e76",
           "#1b9e76",
           "#d95f02",
           "#d95f02",
           "#1b9e76",
           "#d95f02",
           "#d95f02",
           "#1b9e76",
           "#d95f02",
           "#1b9e76",
           "#d95f02",
           "#1b9e76",
           "#d95f02",
           "#d95f02",
           "#1b9e76",
           "#1b9e76",
           "#1b9e76",
           "#1b9e76",
           "#1b9e76",
           "#1b9e76",
           "#d95f02",
           "#1b9e76",
           "#1b9e76",
           "#d95f02",
           "#1b9e76",
           "#d95f02",
           "#d95f02",
           "#1b9e76",
           "#1b9e76",
           "#1b9e76",
           "#d95f02",
           "#d95f02",
           "#1b9e76",
           "#1b9e76",
           "#1b9e76",
           "#d95f02",
           "#1b9e76",
           "#d95f02",
           "#d95f02",
           "#1b9e76",
           "#d95f02",
           "#1b9e76",
           "#1b9e76",
           "#1b9e76",
           "#d95f02",
           "#1b9e76",
           "#1b9e76",
           "#1b9e76",
           "#d95f02",
           "#d95f02",
           "#1b9e76",
           "#d95f02",
           "#d95f02",
           "#1b9e76",
           "#1b9e76",
           "#d95f02",
           "#1b9e76",
           "#1b9e76",
           "#d95f02",
           "#1b9e76",
           "#1b9e76",
           "#1b9e76",
           "#d95f02",
           "#1b9e76",
           "#1b9e76",
           "#1b9e76",
           "#1b9e76",
           "#d95f02",
           "#1b9e76",
           "#d95f02",
           "#1b9e76",
           "#1b9e76",
           "#1b9e76",
           "#d95f02",
           "#1b9e76",
           "#1b9e76",
           "#1b9e76",
           "#1b9e76",
           "#1b9e76",
           "#d95f02",
           "#1b9e76",
           "#1b9e76",
           "#d95f02",
           "#d95f02",
           "#1b9e76",
           "#d95f02",
           "#1b9e76",
           "#d95f02",
           "#1b9e76",
           "#1b9e76",
           "#1b9e76",
           "#1b9e76",
           "#1b9e76",
           "#d95f02",
           "#d95f02",
           "#1b9e76",
           "#1b9e76",
           "#1b9e76",
           "#1b9e76",
           "#1b9e76",
           "#d95f02",
           "#1b9e76",
           "#1b9e76",
           "#1b9e76",
           "#d95f02",
           "#d95f02",
           "#d95f02",
           "#1b9e76",
           "#d95f02",
           "#d95f02",
           "#d95f02",
           "#1b9e76",
           "#1b9e76",
           "#1b9e76",
           "#1b9e76",
           "#1b9e76",
           "#d95f02",
           "#d95f02",
           "#d95f02",
           "#1b9e76",
           "#d95f02",
           "#1b9e76",
           "#d95f02",
           "#d95f02",
           "#1b9e76",
           "#1b9e76",
           "#1b9e76",
           "#d95f02",
           "#d95f02",
           "#1b9e76",
           "#d95f02",
           "#1b9e76",
           "#1b9e76",
           "#1b9e76",
           "#1b9e76",
           "#1b9e76",
           "#1b9e76",
           "#d95f02",
           "#1b9e76",
           "#1b9e76",
           "#1b9e76",
           "#1b9e76",
           "#1b9e76",
           "#1b9e76",
           "#1b9e76",
           "#1b9e76",
           "#d95f02",
           "#1b9e76",
           "#d95f02",
           "#d95f02",
           "#d95f02",
           "#1b9e76",
           "#1b9e76",
           "#d95f02",
           "#d95f02",
           "#1b9e76",
           "#1b9e76",
           "#1b9e76",
           "#1b9e76",
           "#d95f02",
           "#d95f02",
           "#1b9e76",
           "#d95f02",
           "#d95f02",
           "#1b9e76",
           "#d95f02",
           "#1b9e76",
           "#1b9e76",
           "#d95f02",
           "#1b9e76",
           "#d95f02",
           "#d95f02",
           "#d95f02",
           "#d95f02",
           "#1b9e76",
           "#d95f02",
           "#d95f02",
           "#1b9e76",
           "#d95f02",
           "#1b9e76",
           "#1b9e76",
           "#1b9e76",
           "#1b9e76",
           "#1b9e76",
           "#1b9e76",
           "#1b9e76",
           "#d95f02",
           "#1b9e76",
           "#1b9e76",
           "#d95f02",
           "#d95f02",
           "#1b9e76",
           "#d95f02",
           "#d95f02",
           "#d95f02",
           "#1b9e76",
           "#1b9e76",
           "#d95f02",
           "#1b9e76",
           "#1b9e76",
           "#d95f02",
           "#d95f02",
           "#d95f02",
           "#1b9e76",
           "#d95f02",
           "#d95f02",
           "#1b9e76",
           "#d95f02",
           "#d95f02",
           "#d95f02",
           "#1b9e76",
           "#1b9e76",
           "#1b9e76",
           "#1b9e76",
           "#1b9e76",
           "#d95f02",
           "#d95f02",
           "#d95f02",
           "#1b9e76",
           "#d95f02",
           "#d95f02",
           "#d95f02",
           "#1b9e76",
           "#1b9e76",
           "#d95f02",
           "#1b9e76",
           "#d95f02",
           "#d95f02",
           "#d95f02",
           "#d95f02",
           "#1b9e76",
           "#d95f02",
           "#d95f02",
           "#1b9e76",
           "#d95f02",
           "#d95f02",
           "#d95f02",
           "#d95f02",
           "#1b9e76",
           "#d95f02",
           "#d95f02",
           "#1b9e76",
           "#1b9e76",
           "#1b9e76",
           "#d95f02",
           "#d95f02",
           "#d95f02",
           "#d95f02",
           "#1b9e76",
           "#d95f02",
           "#1b9e76",
           "#1b9e76",
           "#d95f02",
           "#1b9e76",
           "#d95f02",
           "#1b9e76",
           "#d95f02",
           "#d95f02",
           "#1b9e76",
           "#d95f02",
           "#1b9e76",
           "#1b9e76",
           "#1b9e76",
           "#d95f02",
           "#d95f02",
           "#d95f02",
           "#1b9e76",
           "#1b9e76",
           "#1b9e76",
           "#d95f02",
           "#1b9e76",
           "#d95f02",
           "#d95f02",
           "#1b9e76",
           "#1b9e76",
           "#d95f02",
           "#1b9e76",
           "#d95f02",
           "#1b9e76",
           "#d95f02",
           "#d95f02",
           "#1b9e76",
           "#1b9e76",
           "#d95f02",
           "#1b9e76",
           "#d95f02",
           "#d95f02",
           "#d95f02",
           "#1b9e76",
           "#1b9e76",
           "#d95f02",
           "#d95f02",
           "#d95f02",
           "#d95f02",
           "#d95f02",
           "#1b9e76",
           "#d95f02",
           "#1b9e76",
           "#1b9e76",
           "#1b9e76",
           "#d95f02",
           "#1b9e76",
           "#d95f02",
           "#d95f02",
           "#d95f02",
           "#d95f02",
           "#d95f02",
           "#1b9e76",
           "#1b9e76",
           "#1b9e76",
           "#1b9e76",
           "#d95f02",
           "#d95f02",
           "#d95f02",
           "#1b9e76",
           "#1b9e76",
           "#d95f02",
           "#1b9e76",
           "#d95f02",
           "#d95f02",
           "#1b9e76",
           "#d95f02",
           "#1b9e76",
           "#d95f02",
           "#1b9e76",
           "#d95f02",
           "#d95f02",
           "#d95f02",
           "#d95f02",
           "#1b9e76",
           "#1b9e76",
           "#1b9e76",
           "#d95f02",
           "#d95f02",
           "#1b9e76",
           "#d95f02",
           "#1b9e76",
           "#1b9e76",
           "#1b9e76",
           "#1b9e76",
           "#1b9e76",
           "#d95f02",
           "#d95f02",
           "#1b9e76",
           "#d95f02",
           "#1b9e76",
           "#d95f02",
           "#1b9e76",
           "#d95f02",
           "#d95f02",
           "#1b9e76",
           "#1b9e76",
           "#d95f02",
           "#d95f02",
           "#1b9e76",
           "#d95f02",
           "#d95f02",
           "#1b9e76",
           "#d95f02",
           "#1b9e76",
           "#1b9e76",
           "#1b9e76",
           "#d95f02",
           "#1b9e76",
           "#d95f02",
           "#1b9e76",
           "#d95f02",
           "#d95f02",
           "#d95f02",
           "#1b9e76",
           "#1b9e76",
           "#1b9e76",
           "#1b9e76",
           "#1b9e76",
           "#d95f02",
           "#1b9e76",
           "#1b9e76",
           "#d95f02",
           "#1b9e76",
           "#d95f02",
           "#1b9e76",
           "#d95f02",
           "#1b9e76",
           "#d95f02",
           "#d95f02",
           "#1b9e76",
           "#d95f02",
           "#1b9e76",
           "#d95f02",
           "#d95f02",
           "#d95f02",
           "#d95f02",
           "#d95f02",
           "#d95f02",
           "#d95f02",
           "#1b9e76",
           "#d95f02",
           "#d95f02",
           "#1b9e76",
           "#1b9e76",
           "#d95f02",
           "#d95f02",
           "#d95f02",
           "#d95f02",
           "#1b9e76",
           "#d95f02",
           "#1b9e76",
           "#d95f02",
           "#1b9e76",
           "#d95f02",
           "#1b9e76",
           "#1b9e76",
           "#1b9e76",
           "#1b9e76",
           "#d95f02",
           "#d95f02",
           "#1b9e76",
           "#1b9e76",
           "#d95f02",
           "#1b9e76",
           "#d95f02",
           "#d95f02",
           "#d95f02",
           "#1b9e76",
           "#1b9e76",
           "#1b9e76",
           "#1b9e76",
           "#d95f02",
           "#1b9e76",
           "#d95f02",
           "#1b9e76",
           "#d95f02",
           "#1b9e76",
           "#d95f02",
           "#d95f02",
           "#d95f02",
           "#1b9e76",
           "#d95f02",
           "#d95f02",
           "#d95f02",
           "#1b9e76",
           "#d95f02",
           "#1b9e76",
           "#d95f02",
           "#d95f02",
           "#1b9e76",
           "#1b9e76",
           "#1b9e76",
           "#1b9e76",
           "#1b9e76",
           "#1b9e76",
           "#1b9e76",
           "#1b9e76",
           "#1b9e76",
           "#d95f02",
           "#1b9e76",
           "#1b9e76",
           "#d95f02",
           "#1b9e76",
           "#1b9e76",
           "#1b9e76",
           "#1b9e76",
           "#d95f02",
           "#d95f02",
           "#d95f02",
           "#d95f02",
           "#1b9e76",
           "#1b9e76",
           "#1b9e76",
           "#d95f02",
           "#1b9e76",
           "#1b9e76",
           "#1b9e76",
           "#1b9e76",
           "#d95f02",
           "#d95f02",
           "#1b9e76",
           "#1b9e76",
           "#d95f02",
           "#1b9e76",
           "#d95f02",
           "#1b9e76",
           "#1b9e76",
           "#d95f02",
           "#1b9e76",
           "#d95f02",
           "#1b9e76",
           "#d95f02",
           "#1b9e76",
           "#1b9e76",
           "#d95f02",
           "#d95f02",
           "#1b9e76",
           "#1b9e76",
           "#1b9e76",
           "#1b9e76",
           "#d95f02",
           "#1b9e76",
           "#d95f02",
           "#d95f02",
           "#1b9e76",
           "#1b9e76",
           "#d95f02",
           "#d95f02",
           "#d95f02",
           "#1b9e76",
           "#d95f02",
           "#1b9e76",
           "#d95f02",
           "#d95f02",
           "#d95f02",
           "#d95f02",
           "#d95f02",
           "#1b9e76",
           "#1b9e76",
           "#d95f02",
           "#1b9e76",
           "#d95f02",
           "#d95f02",
           "#1b9e76",
           "#d95f02",
           "#1b9e76",
           "#d95f02",
           "#1b9e76",
           "#d95f02",
           "#1b9e76",
           "#d95f02",
           "#1b9e76",
           "#d95f02",
           "#1b9e76",
           "#d95f02",
           "#d95f02",
           "#1b9e76",
           "#1b9e76",
           "#1b9e76",
           "#d95f02",
           "#1b9e76",
           "#1b9e76",
           "#1b9e76",
           "#d95f02",
           "#1b9e76",
           "#1b9e76",
           "#1b9e76",
           "#d95f02",
           "#1b9e76",
           "#1b9e76",
           "#1b9e76",
           "#1b9e76",
           "#d95f02",
           "#1b9e76",
           "#1b9e76",
           "#1b9e76",
           "#d95f02",
           "#1b9e76",
           "#d95f02",
           "#1b9e76",
           "#d95f02",
           "#1b9e76",
           "#1b9e76",
           "#d95f02",
           "#1b9e76",
           "#1b9e76",
           "#1b9e76",
           "#d95f02",
           "#d95f02",
           "#1b9e76",
           "#d95f02",
           "#1b9e76",
           "#d95f02",
           "#1b9e76",
           "#d95f02",
           "#1b9e76",
           "#d95f02",
           "#1b9e76",
           "#d95f02",
           "#1b9e76",
           "#d95f02",
           "#1b9e76",
           "#d95f02",
           "#d95f02",
           "#1b9e76",
           "#d95f02",
           "#1b9e76",
           "#1b9e76",
           "#d95f02",
           "#1b9e76",
           "#1b9e76",
           "#1b9e76",
           "#1b9e76",
           "#d95f02",
           "#1b9e76",
           "#1b9e76",
           "#1b9e76",
           "#d95f02",
           "#d95f02",
           "#1b9e76",
           "#d95f02",
           "#d95f02",
           "#1b9e76",
           "#d95f02",
           "#1b9e76",
           "#d95f02",
           "#1b9e76",
           "#1b9e76",
           "#d95f02",
           "#1b9e76",
           "#d95f02",
           "#d95f02",
           "#d95f02",
           "#d95f02",
           "#1b9e76",
           "#1b9e76",
           "#d95f02",
           "#1b9e76",
           "#1b9e76",
           "#1b9e76",
           "#1b9e76",
           "#1b9e76",
           "#1b9e76",
           "#d95f02",
           "#1b9e76",
           "#1b9e76",
           "#d95f02",
           "#1b9e76",
           "#1b9e76",
           "#1b9e76"
          ],
          "line": {
           "width": 0
          },
          "opacity": 0.7
         },
         "name": "Volume",
         "type": "bar",
         "uid": "1e282b10-de36-496f-a518-d21b67dee6a1",
         "x": [
          "2018-10-20T00:00:00.000000",
          "2018-10-21T00:00:00.000000",
          "2018-10-22T00:00:00.000000",
          "2018-10-23T00:00:00.000000",
          "2018-10-24T00:00:00.000000",
          "2018-10-25T00:00:00.000000",
          "2018-10-26T00:00:00.000000",
          "2018-10-27T00:00:00.000000",
          "2018-10-28T00:00:00.000000",
          "2018-10-29T00:00:00.000000",
          "2018-10-30T00:00:00.000000",
          "2018-10-31T00:00:00.000000",
          "2018-11-01T00:00:00.000000",
          "2018-11-02T00:00:00.000000",
          "2018-11-03T00:00:00.000000",
          "2018-11-04T00:00:00.000000",
          "2018-11-05T00:00:00.000000",
          "2018-11-06T00:00:00.000000",
          "2018-11-07T00:00:00.000000",
          "2018-11-08T00:00:00.000000",
          "2018-11-09T00:00:00.000000",
          "2018-11-10T00:00:00.000000",
          "2018-11-11T00:00:00.000000",
          "2018-11-12T00:00:00.000000",
          "2018-11-13T00:00:00.000000",
          "2018-11-14T00:00:00.000000",
          "2018-11-15T00:00:00.000000",
          "2018-11-16T00:00:00.000000",
          "2018-11-17T00:00:00.000000",
          "2018-11-18T00:00:00.000000",
          "2018-11-19T00:00:00.000000",
          "2018-11-20T00:00:00.000000",
          "2018-11-21T00:00:00.000000",
          "2018-11-22T00:00:00.000000",
          "2018-11-23T00:00:00.000000",
          "2018-11-24T00:00:00.000000",
          "2018-11-25T00:00:00.000000",
          "2018-11-26T00:00:00.000000",
          "2018-11-27T00:00:00.000000",
          "2018-11-28T00:00:00.000000",
          "2018-11-29T00:00:00.000000",
          "2018-11-30T00:00:00.000000",
          "2018-12-01T00:00:00.000000",
          "2018-12-02T00:00:00.000000",
          "2018-12-03T00:00:00.000000",
          "2018-12-04T00:00:00.000000",
          "2018-12-05T00:00:00.000000",
          "2018-12-06T00:00:00.000000",
          "2018-12-07T00:00:00.000000",
          "2018-12-08T00:00:00.000000",
          "2018-12-09T00:00:00.000000",
          "2018-12-10T00:00:00.000000",
          "2018-12-11T00:00:00.000000",
          "2018-12-12T00:00:00.000000",
          "2018-12-13T00:00:00.000000",
          "2018-12-14T00:00:00.000000",
          "2018-12-15T00:00:00.000000",
          "2018-12-16T00:00:00.000000",
          "2018-12-17T00:00:00.000000",
          "2018-12-18T00:00:00.000000",
          "2018-12-19T00:00:00.000000",
          "2018-12-20T00:00:00.000000",
          "2018-12-21T00:00:00.000000",
          "2018-12-22T00:00:00.000000",
          "2018-12-23T00:00:00.000000",
          "2018-12-24T00:00:00.000000",
          "2018-12-25T00:00:00.000000",
          "2018-12-26T00:00:00.000000",
          "2018-12-27T00:00:00.000000",
          "2018-12-28T00:00:00.000000",
          "2018-12-29T00:00:00.000000",
          "2018-12-30T00:00:00.000000",
          "2018-12-31T00:00:00.000000",
          "2019-01-01T00:00:00.000000",
          "2019-01-02T00:00:00.000000",
          "2019-01-03T00:00:00.000000",
          "2019-01-04T00:00:00.000000",
          "2019-01-05T00:00:00.000000",
          "2019-01-06T00:00:00.000000",
          "2019-01-07T00:00:00.000000",
          "2019-01-08T00:00:00.000000",
          "2019-01-09T00:00:00.000000",
          "2019-01-10T00:00:00.000000",
          "2019-01-11T00:00:00.000000",
          "2019-01-12T00:00:00.000000",
          "2019-01-13T00:00:00.000000",
          "2019-01-14T00:00:00.000000",
          "2019-01-15T00:00:00.000000",
          "2019-01-16T00:00:00.000000",
          "2019-01-17T00:00:00.000000",
          "2019-01-18T00:00:00.000000",
          "2019-01-19T00:00:00.000000",
          "2019-01-20T00:00:00.000000",
          "2019-01-21T00:00:00.000000",
          "2019-01-22T00:00:00.000000",
          "2019-01-23T00:00:00.000000",
          "2019-01-24T00:00:00.000000",
          "2019-01-25T00:00:00.000000",
          "2019-01-26T00:00:00.000000",
          "2019-01-27T00:00:00.000000",
          "2019-01-28T00:00:00.000000",
          "2019-01-29T00:00:00.000000",
          "2019-01-30T00:00:00.000000",
          "2019-01-31T00:00:00.000000",
          "2019-02-01T00:00:00.000000",
          "2019-02-02T00:00:00.000000",
          "2019-02-03T00:00:00.000000",
          "2019-02-04T00:00:00.000000",
          "2019-02-05T00:00:00.000000",
          "2019-02-06T00:00:00.000000",
          "2019-02-07T00:00:00.000000",
          "2019-02-08T00:00:00.000000",
          "2019-02-09T00:00:00.000000",
          "2019-02-10T00:00:00.000000",
          "2019-02-11T00:00:00.000000",
          "2019-02-12T00:00:00.000000",
          "2019-02-13T00:00:00.000000",
          "2019-02-14T00:00:00.000000",
          "2019-02-15T00:00:00.000000",
          "2019-02-16T00:00:00.000000",
          "2019-02-17T00:00:00.000000",
          "2019-02-18T00:00:00.000000",
          "2019-02-19T00:00:00.000000",
          "2019-02-20T00:00:00.000000",
          "2019-02-21T00:00:00.000000",
          "2019-02-22T00:00:00.000000",
          "2019-02-23T00:00:00.000000",
          "2019-02-24T00:00:00.000000",
          "2019-02-25T00:00:00.000000",
          "2019-02-26T00:00:00.000000",
          "2019-02-27T00:00:00.000000",
          "2019-02-28T00:00:00.000000",
          "2019-03-01T00:00:00.000000",
          "2019-03-02T00:00:00.000000",
          "2019-03-03T00:00:00.000000",
          "2019-03-04T00:00:00.000000",
          "2019-03-05T00:00:00.000000",
          "2019-03-06T00:00:00.000000",
          "2019-03-07T00:00:00.000000",
          "2019-03-08T00:00:00.000000",
          "2019-03-09T00:00:00.000000",
          "2019-03-10T00:00:00.000000",
          "2019-03-11T00:00:00.000000",
          "2019-03-12T00:00:00.000000",
          "2019-03-13T00:00:00.000000",
          "2019-03-14T00:00:00.000000",
          "2019-03-15T00:00:00.000000",
          "2019-03-16T00:00:00.000000",
          "2019-03-17T00:00:00.000000",
          "2019-03-18T00:00:00.000000",
          "2019-03-19T00:00:00.000000",
          "2019-03-20T00:00:00.000000",
          "2019-03-21T00:00:00.000000",
          "2019-03-22T00:00:00.000000",
          "2019-03-23T00:00:00.000000",
          "2019-03-24T00:00:00.000000",
          "2019-03-25T00:00:00.000000",
          "2019-03-26T00:00:00.000000",
          "2019-03-27T00:00:00.000000",
          "2019-03-28T00:00:00.000000",
          "2019-03-29T00:00:00.000000",
          "2019-03-30T00:00:00.000000",
          "2019-03-31T00:00:00.000000",
          "2019-04-01T00:00:00.000000",
          "2019-04-02T00:00:00.000000",
          "2019-04-03T00:00:00.000000",
          "2019-04-04T00:00:00.000000",
          "2019-04-05T00:00:00.000000",
          "2019-04-06T00:00:00.000000",
          "2019-04-07T00:00:00.000000",
          "2019-04-08T00:00:00.000000",
          "2019-04-09T00:00:00.000000",
          "2019-04-10T00:00:00.000000",
          "2019-04-11T00:00:00.000000",
          "2019-04-12T00:00:00.000000",
          "2019-04-13T00:00:00.000000",
          "2019-04-14T00:00:00.000000",
          "2019-04-15T00:00:00.000000",
          "2019-04-16T00:00:00.000000",
          "2019-04-17T00:00:00.000000",
          "2019-04-18T00:00:00.000000",
          "2019-04-19T00:00:00.000000",
          "2019-04-20T00:00:00.000000",
          "2019-04-21T00:00:00.000000",
          "2019-04-22T00:00:00.000000",
          "2019-04-23T00:00:00.000000",
          "2019-04-24T00:00:00.000000",
          "2019-04-25T00:00:00.000000",
          "2019-04-26T00:00:00.000000",
          "2019-04-27T00:00:00.000000",
          "2019-04-28T00:00:00.000000",
          "2019-04-29T00:00:00.000000",
          "2019-04-30T00:00:00.000000",
          "2019-05-01T00:00:00.000000",
          "2019-05-02T00:00:00.000000",
          "2019-05-03T00:00:00.000000",
          "2019-05-04T00:00:00.000000",
          "2019-05-05T00:00:00.000000",
          "2019-05-06T00:00:00.000000",
          "2019-05-07T00:00:00.000000",
          "2019-05-08T00:00:00.000000",
          "2019-05-09T00:00:00.000000",
          "2019-05-10T00:00:00.000000",
          "2019-05-11T00:00:00.000000",
          "2019-05-12T00:00:00.000000",
          "2019-05-13T00:00:00.000000",
          "2019-05-14T00:00:00.000000",
          "2019-05-15T00:00:00.000000",
          "2019-05-16T00:00:00.000000",
          "2019-05-17T00:00:00.000000",
          "2019-05-18T00:00:00.000000",
          "2019-05-19T00:00:00.000000",
          "2019-05-20T00:00:00.000000",
          "2019-05-21T00:00:00.000000",
          "2019-05-22T00:00:00.000000",
          "2019-05-23T00:00:00.000000",
          "2019-05-24T00:00:00.000000",
          "2019-05-25T00:00:00.000000",
          "2019-05-26T00:00:00.000000",
          "2019-05-27T00:00:00.000000",
          "2019-05-28T00:00:00.000000",
          "2019-05-29T00:00:00.000000",
          "2019-05-30T00:00:00.000000",
          "2019-05-31T00:00:00.000000",
          "2019-06-01T00:00:00.000000",
          "2019-06-02T00:00:00.000000",
          "2019-06-03T00:00:00.000000",
          "2019-06-04T00:00:00.000000",
          "2019-06-05T00:00:00.000000",
          "2019-06-06T00:00:00.000000",
          "2019-06-07T00:00:00.000000",
          "2019-06-08T00:00:00.000000",
          "2019-06-09T00:00:00.000000",
          "2019-06-10T00:00:00.000000",
          "2019-06-11T00:00:00.000000",
          "2019-06-12T00:00:00.000000",
          "2019-06-13T00:00:00.000000",
          "2019-06-14T00:00:00.000000",
          "2019-06-15T00:00:00.000000",
          "2019-06-16T00:00:00.000000",
          "2019-06-17T00:00:00.000000",
          "2019-06-18T00:00:00.000000",
          "2019-06-19T00:00:00.000000",
          "2019-06-20T00:00:00.000000",
          "2019-06-21T00:00:00.000000",
          "2019-06-22T00:00:00.000000",
          "2019-06-23T00:00:00.000000",
          "2019-06-24T00:00:00.000000",
          "2019-06-25T00:00:00.000000",
          "2019-06-26T00:00:00.000000",
          "2019-06-27T00:00:00.000000",
          "2019-06-28T00:00:00.000000",
          "2019-06-29T00:00:00.000000",
          "2019-06-30T00:00:00.000000",
          "2019-07-01T00:00:00.000000",
          "2019-07-02T00:00:00.000000",
          "2019-07-03T00:00:00.000000",
          "2019-07-04T00:00:00.000000",
          "2019-07-05T00:00:00.000000",
          "2019-07-06T00:00:00.000000",
          "2019-07-07T00:00:00.000000",
          "2019-07-08T00:00:00.000000",
          "2019-07-09T00:00:00.000000",
          "2019-07-10T00:00:00.000000",
          "2019-07-11T00:00:00.000000",
          "2019-07-12T00:00:00.000000",
          "2019-07-13T00:00:00.000000",
          "2019-07-14T00:00:00.000000",
          "2019-07-15T00:00:00.000000",
          "2019-07-16T00:00:00.000000",
          "2019-07-17T00:00:00.000000",
          "2019-07-18T00:00:00.000000",
          "2019-07-19T00:00:00.000000",
          "2019-07-20T00:00:00.000000",
          "2019-07-21T00:00:00.000000",
          "2019-07-22T00:00:00.000000",
          "2019-07-23T00:00:00.000000",
          "2019-07-24T00:00:00.000000",
          "2019-07-25T00:00:00.000000",
          "2019-07-26T00:00:00.000000",
          "2019-07-27T00:00:00.000000",
          "2019-07-28T00:00:00.000000",
          "2019-07-29T00:00:00.000000",
          "2019-07-30T00:00:00.000000",
          "2019-07-31T00:00:00.000000",
          "2019-08-01T00:00:00.000000",
          "2019-08-02T00:00:00.000000",
          "2019-08-03T00:00:00.000000",
          "2019-08-04T00:00:00.000000",
          "2019-08-05T00:00:00.000000",
          "2019-08-06T00:00:00.000000",
          "2019-08-07T00:00:00.000000",
          "2019-08-08T00:00:00.000000",
          "2019-08-09T00:00:00.000000",
          "2019-08-10T00:00:00.000000",
          "2019-08-11T00:00:00.000000",
          "2019-08-12T00:00:00.000000",
          "2019-08-13T00:00:00.000000",
          "2019-08-14T00:00:00.000000",
          "2019-08-15T00:00:00.000000",
          "2019-08-16T00:00:00.000000",
          "2019-08-17T00:00:00.000000",
          "2019-08-18T00:00:00.000000",
          "2019-08-19T00:00:00.000000",
          "2019-08-20T00:00:00.000000",
          "2019-08-21T00:00:00.000000",
          "2019-08-22T00:00:00.000000",
          "2019-08-23T00:00:00.000000",
          "2019-08-24T00:00:00.000000",
          "2019-08-25T00:00:00.000000",
          "2019-08-26T00:00:00.000000",
          "2019-08-27T00:00:00.000000",
          "2019-08-28T00:00:00.000000",
          "2019-08-29T00:00:00.000000",
          "2019-08-30T00:00:00.000000",
          "2019-08-31T00:00:00.000000",
          "2019-09-01T00:00:00.000000",
          "2019-09-02T00:00:00.000000",
          "2019-09-03T00:00:00.000000",
          "2019-09-04T00:00:00.000000",
          "2019-09-05T00:00:00.000000",
          "2019-09-06T00:00:00.000000",
          "2019-09-07T00:00:00.000000",
          "2019-09-08T00:00:00.000000",
          "2019-09-09T00:00:00.000000",
          "2019-09-10T00:00:00.000000",
          "2019-09-11T00:00:00.000000",
          "2019-09-12T00:00:00.000000",
          "2019-09-13T00:00:00.000000",
          "2019-09-14T00:00:00.000000",
          "2019-09-15T00:00:00.000000",
          "2019-09-16T00:00:00.000000",
          "2019-09-17T00:00:00.000000",
          "2019-09-18T00:00:00.000000",
          "2019-09-19T00:00:00.000000",
          "2019-09-20T00:00:00.000000",
          "2019-09-21T00:00:00.000000",
          "2019-09-22T00:00:00.000000",
          "2019-09-23T00:00:00.000000",
          "2019-09-24T00:00:00.000000",
          "2019-09-25T00:00:00.000000",
          "2019-09-26T00:00:00.000000",
          "2019-09-27T00:00:00.000000",
          "2019-09-28T00:00:00.000000",
          "2019-09-29T00:00:00.000000",
          "2019-09-30T00:00:00.000000",
          "2019-10-01T00:00:00.000000",
          "2019-10-02T00:00:00.000000",
          "2019-10-03T00:00:00.000000",
          "2019-10-04T00:00:00.000000",
          "2019-10-05T00:00:00.000000",
          "2019-10-06T00:00:00.000000",
          "2019-10-07T00:00:00.000000",
          "2019-10-08T00:00:00.000000",
          "2019-10-09T00:00:00.000000",
          "2019-10-10T00:00:00.000000",
          "2019-10-11T00:00:00.000000",
          "2019-10-12T00:00:00.000000",
          "2019-10-13T00:00:00.000000",
          "2019-10-14T00:00:00.000000",
          "2019-10-15T00:00:00.000000",
          "2019-10-16T00:00:00.000000",
          "2019-10-17T00:00:00.000000",
          "2019-10-18T00:00:00.000000",
          "2019-10-19T00:00:00.000000",
          "2019-10-20T00:00:00.000000",
          "2019-10-21T00:00:00.000000",
          "2019-10-22T00:00:00.000000",
          "2019-10-23T00:00:00.000000",
          "2019-10-24T00:00:00.000000",
          "2019-10-25T00:00:00.000000",
          "2019-10-26T00:00:00.000000",
          "2019-10-27T00:00:00.000000",
          "2019-10-28T00:00:00.000000",
          "2019-10-29T00:00:00.000000",
          "2019-10-30T00:00:00.000000",
          "2019-10-31T00:00:00.000000",
          "2019-11-01T00:00:00.000000",
          "2019-11-02T00:00:00.000000",
          "2019-11-03T00:00:00.000000",
          "2019-11-04T00:00:00.000000",
          "2019-11-05T00:00:00.000000",
          "2019-11-06T00:00:00.000000",
          "2019-11-07T00:00:00.000000",
          "2019-11-08T00:00:00.000000",
          "2019-11-09T00:00:00.000000",
          "2019-11-10T00:00:00.000000",
          "2019-11-11T00:00:00.000000",
          "2019-11-12T00:00:00.000000",
          "2019-11-13T00:00:00.000000",
          "2019-11-14T00:00:00.000000",
          "2019-11-15T00:00:00.000000",
          "2019-11-16T00:00:00.000000",
          "2019-11-17T00:00:00.000000",
          "2019-11-18T00:00:00.000000",
          "2019-11-19T00:00:00.000000",
          "2019-11-20T00:00:00.000000",
          "2019-11-21T00:00:00.000000",
          "2019-11-22T00:00:00.000000",
          "2019-11-23T00:00:00.000000",
          "2019-11-24T00:00:00.000000",
          "2019-11-25T00:00:00.000000",
          "2019-11-26T00:00:00.000000",
          "2019-11-27T00:00:00.000000",
          "2019-11-28T00:00:00.000000",
          "2019-11-29T00:00:00.000000",
          "2019-11-30T00:00:00.000000",
          "2019-12-01T00:00:00.000000",
          "2019-12-02T00:00:00.000000",
          "2019-12-03T00:00:00.000000",
          "2019-12-04T00:00:00.000000",
          "2019-12-05T00:00:00.000000",
          "2019-12-06T00:00:00.000000",
          "2019-12-07T00:00:00.000000",
          "2019-12-08T00:00:00.000000",
          "2019-12-09T00:00:00.000000",
          "2019-12-10T00:00:00.000000",
          "2019-12-11T00:00:00.000000",
          "2019-12-12T00:00:00.000000",
          "2019-12-13T00:00:00.000000",
          "2019-12-14T00:00:00.000000",
          "2019-12-15T00:00:00.000000",
          "2019-12-16T00:00:00.000000",
          "2019-12-17T00:00:00.000000",
          "2019-12-18T00:00:00.000000",
          "2019-12-19T00:00:00.000000",
          "2019-12-20T00:00:00.000000",
          "2019-12-21T00:00:00.000000",
          "2019-12-22T00:00:00.000000",
          "2019-12-23T00:00:00.000000",
          "2019-12-24T00:00:00.000000",
          "2019-12-25T00:00:00.000000",
          "2019-12-26T00:00:00.000000",
          "2019-12-27T00:00:00.000000",
          "2019-12-28T00:00:00.000000",
          "2019-12-29T00:00:00.000000",
          "2019-12-30T00:00:00.000000",
          "2019-12-31T00:00:00.000000",
          "2020-01-01T00:00:00.000000",
          "2020-01-02T00:00:00.000000",
          "2020-01-03T00:00:00.000000",
          "2020-01-04T00:00:00.000000",
          "2020-01-05T00:00:00.000000",
          "2020-01-06T00:00:00.000000",
          "2020-01-07T00:00:00.000000",
          "2020-01-08T00:00:00.000000",
          "2020-01-09T00:00:00.000000",
          "2020-01-10T00:00:00.000000",
          "2020-01-11T00:00:00.000000",
          "2020-01-12T00:00:00.000000",
          "2020-01-13T00:00:00.000000",
          "2020-01-14T00:00:00.000000",
          "2020-01-15T00:00:00.000000",
          "2020-01-16T00:00:00.000000",
          "2020-01-17T00:00:00.000000",
          "2020-01-18T00:00:00.000000",
          "2020-01-19T00:00:00.000000",
          "2020-01-20T00:00:00.000000",
          "2020-01-21T00:00:00.000000",
          "2020-01-22T00:00:00.000000",
          "2020-01-23T00:00:00.000000",
          "2020-01-24T00:00:00.000000",
          "2020-01-25T00:00:00.000000",
          "2020-01-26T00:00:00.000000",
          "2020-01-27T00:00:00.000000",
          "2020-01-28T00:00:00.000000",
          "2020-01-29T00:00:00.000000",
          "2020-01-30T00:00:00.000000",
          "2020-01-31T00:00:00.000000",
          "2020-02-01T00:00:00.000000",
          "2020-02-02T00:00:00.000000",
          "2020-02-03T00:00:00.000000",
          "2020-02-04T00:00:00.000000",
          "2020-02-05T00:00:00.000000",
          "2020-02-06T00:00:00.000000",
          "2020-02-07T00:00:00.000000",
          "2020-02-08T00:00:00.000000",
          "2020-02-09T00:00:00.000000",
          "2020-02-10T00:00:00.000000",
          "2020-02-11T00:00:00.000000",
          "2020-02-12T00:00:00.000000",
          "2020-02-13T00:00:00.000000",
          "2020-02-14T00:00:00.000000",
          "2020-02-15T00:00:00.000000",
          "2020-02-16T00:00:00.000000",
          "2020-02-17T00:00:00.000000",
          "2020-02-18T00:00:00.000000",
          "2020-02-19T00:00:00.000000",
          "2020-02-20T00:00:00.000000",
          "2020-02-21T00:00:00.000000",
          "2020-02-22T00:00:00.000000",
          "2020-02-23T00:00:00.000000",
          "2020-02-24T00:00:00.000000",
          "2020-02-25T00:00:00.000000",
          "2020-02-26T00:00:00.000000",
          "2020-02-27T00:00:00.000000",
          "2020-02-28T00:00:00.000000",
          "2020-02-29T00:00:00.000000",
          "2020-03-01T00:00:00.000000",
          "2020-03-02T00:00:00.000000",
          "2020-03-03T00:00:00.000000",
          "2020-03-04T00:00:00.000000",
          "2020-03-05T00:00:00.000000",
          "2020-03-06T00:00:00.000000",
          "2020-03-07T00:00:00.000000",
          "2020-03-08T00:00:00.000000",
          "2020-03-09T00:00:00.000000",
          "2020-03-10T00:00:00.000000",
          "2020-03-11T00:00:00.000000",
          "2020-03-12T00:00:00.000000",
          "2020-03-13T00:00:00.000000",
          "2020-03-14T00:00:00.000000",
          "2020-03-15T00:00:00.000000",
          "2020-03-16T00:00:00.000000",
          "2020-03-17T00:00:00.000000",
          "2020-03-18T00:00:00.000000",
          "2020-03-19T00:00:00.000000",
          "2020-03-20T00:00:00.000000",
          "2020-03-21T00:00:00.000000",
          "2020-03-22T00:00:00.000000",
          "2020-03-23T00:00:00.000000",
          "2020-03-24T00:00:00.000000",
          "2020-03-25T00:00:00.000000",
          "2020-03-26T00:00:00.000000",
          "2020-03-27T00:00:00.000000",
          "2020-03-28T00:00:00.000000",
          "2020-03-29T00:00:00.000000",
          "2020-03-30T00:00:00.000000",
          "2020-03-31T00:00:00.000000",
          "2020-04-01T00:00:00.000000",
          "2020-04-02T00:00:00.000000",
          "2020-04-03T00:00:00.000000",
          "2020-04-04T00:00:00.000000",
          "2020-04-05T00:00:00.000000",
          "2020-04-06T00:00:00.000000",
          "2020-04-07T00:00:00.000000",
          "2020-04-08T00:00:00.000000",
          "2020-04-09T00:00:00.000000",
          "2020-04-10T00:00:00.000000",
          "2020-04-11T00:00:00.000000",
          "2020-04-12T00:00:00.000000",
          "2020-04-13T00:00:00.000000",
          "2020-04-14T00:00:00.000000",
          "2020-04-15T00:00:00.000000",
          "2020-04-16T00:00:00.000000",
          "2020-04-17T00:00:00.000000",
          "2020-04-18T00:00:00.000000",
          "2020-04-19T00:00:00.000000",
          "2020-04-20T00:00:00.000000",
          "2020-04-21T00:00:00.000000",
          "2020-04-22T00:00:00.000000",
          "2020-04-23T00:00:00.000000",
          "2020-04-24T00:00:00.000000",
          "2020-04-25T00:00:00.000000",
          "2020-04-26T00:00:00.000000",
          "2020-04-27T00:00:00.000000",
          "2020-04-28T00:00:00.000000",
          "2020-04-29T00:00:00.000000",
          "2020-04-30T00:00:00.000000",
          "2020-05-01T00:00:00.000000",
          "2020-05-02T00:00:00.000000",
          "2020-05-03T00:00:00.000000",
          "2020-05-04T00:00:00.000000",
          "2020-05-05T00:00:00.000000",
          "2020-05-06T00:00:00.000000",
          "2020-05-07T00:00:00.000000",
          "2020-05-08T00:00:00.000000",
          "2020-05-09T00:00:00.000000",
          "2020-05-10T00:00:00.000000",
          "2020-05-11T00:00:00.000000",
          "2020-05-12T00:00:00.000000",
          "2020-05-13T00:00:00.000000",
          "2020-05-14T00:00:00.000000",
          "2020-05-15T00:00:00.000000",
          "2020-05-16T00:00:00.000000",
          "2020-05-17T00:00:00.000000",
          "2020-05-18T00:00:00.000000",
          "2020-05-19T00:00:00.000000",
          "2020-05-20T00:00:00.000000",
          "2020-05-21T00:00:00.000000",
          "2020-05-22T00:00:00.000000",
          "2020-05-23T00:00:00.000000",
          "2020-05-24T00:00:00.000000",
          "2020-05-25T00:00:00.000000",
          "2020-05-26T00:00:00.000000",
          "2020-05-27T00:00:00.000000",
          "2020-05-28T00:00:00.000000",
          "2020-05-29T00:00:00.000000",
          "2020-05-30T00:00:00.000000",
          "2020-05-31T00:00:00.000000",
          "2020-06-01T00:00:00.000000",
          "2020-06-02T00:00:00.000000",
          "2020-06-03T00:00:00.000000",
          "2020-06-04T00:00:00.000000",
          "2020-06-05T00:00:00.000000",
          "2020-06-06T00:00:00.000000",
          "2020-06-07T00:00:00.000000",
          "2020-06-08T00:00:00.000000",
          "2020-06-09T00:00:00.000000",
          "2020-06-10T00:00:00.000000",
          "2020-06-11T00:00:00.000000",
          "2020-06-12T00:00:00.000000",
          "2020-06-13T00:00:00.000000",
          "2020-06-14T00:00:00.000000",
          "2020-06-15T00:00:00.000000",
          "2020-06-16T00:00:00.000000",
          "2020-06-17T00:00:00.000000",
          "2020-06-18T00:00:00.000000",
          "2020-06-19T00:00:00.000000",
          "2020-06-20T00:00:00.000000",
          "2020-06-21T00:00:00.000000",
          "2020-06-22T00:00:00.000000",
          "2020-06-23T00:00:00.000000",
          "2020-06-24T00:00:00.000000",
          "2020-06-25T00:00:00.000000",
          "2020-06-26T00:00:00.000000",
          "2020-06-27T00:00:00.000000",
          "2020-06-28T00:00:00.000000",
          "2020-06-29T00:00:00.000000",
          "2020-06-30T00:00:00.000000",
          "2020-07-01T00:00:00.000000",
          "2020-07-02T00:00:00.000000",
          "2020-07-03T00:00:00.000000",
          "2020-07-04T00:00:00.000000",
          "2020-07-05T00:00:00.000000",
          "2020-07-06T00:00:00.000000",
          "2020-07-07T00:00:00.000000",
          "2020-07-08T00:00:00.000000",
          "2020-07-09T00:00:00.000000",
          "2020-07-10T00:00:00.000000",
          "2020-07-11T00:00:00.000000",
          "2020-07-12T00:00:00.000000",
          "2020-07-13T00:00:00.000000",
          "2020-07-14T00:00:00.000000",
          "2020-07-15T00:00:00.000000",
          "2020-07-16T00:00:00.000000",
          "2020-07-17T00:00:00.000000",
          "2020-07-18T00:00:00.000000",
          "2020-07-19T00:00:00.000000",
          "2020-07-20T00:00:00.000000",
          "2020-07-21T00:00:00.000000",
          "2020-07-22T00:00:00.000000",
          "2020-07-23T00:00:00.000000",
          "2020-07-24T00:00:00.000000",
          "2020-07-25T00:00:00.000000",
          "2020-07-26T00:00:00.000000",
          "2020-07-27T00:00:00.000000",
          "2020-07-28T00:00:00.000000",
          "2020-07-29T00:00:00.000000",
          "2020-07-30T00:00:00.000000",
          "2020-07-31T00:00:00.000000",
          "2020-08-01T00:00:00.000000",
          "2020-08-02T00:00:00.000000",
          "2020-08-03T00:00:00.000000",
          "2020-08-05T00:00:00.000000",
          "2020-08-06T00:00:00.000000",
          "2020-08-07T00:00:00.000000",
          "2020-08-08T00:00:00.000000",
          "2020-08-09T00:00:00.000000",
          "2020-08-10T00:00:00.000000",
          "2020-08-11T00:00:00.000000",
          "2020-08-12T00:00:00.000000",
          "2020-08-13T00:00:00.000000",
          "2020-08-14T00:00:00.000000",
          "2020-08-15T00:00:00.000000",
          "2020-08-16T00:00:00.000000",
          "2020-08-17T00:00:00.000000",
          "2020-08-18T00:00:00.000000",
          "2020-08-19T00:00:00.000000",
          "2020-08-20T00:00:00.000000",
          "2020-08-21T00:00:00.000000",
          "2020-08-22T00:00:00.000000",
          "2020-08-23T00:00:00.000000",
          "2020-08-24T00:00:00.000000",
          "2020-08-25T00:00:00.000000",
          "2020-08-26T00:00:00.000000",
          "2020-08-27T00:00:00.000000",
          "2020-08-28T00:00:00.000000",
          "2020-08-29T00:00:00.000000",
          "2020-08-30T00:00:00.000000",
          "2020-08-31T00:00:00.000000",
          "2020-09-01T00:00:00.000000",
          "2020-09-02T00:00:00.000000",
          "2020-09-03T00:00:00.000000",
          "2020-09-04T00:00:00.000000",
          "2020-09-05T00:00:00.000000",
          "2020-09-06T00:00:00.000000",
          "2020-09-07T00:00:00.000000",
          "2020-09-08T00:00:00.000000",
          "2020-09-09T00:00:00.000000",
          "2020-09-10T00:00:00.000000",
          "2020-09-11T00:00:00.000000",
          "2020-09-12T00:00:00.000000",
          "2020-09-13T00:00:00.000000",
          "2020-09-14T00:00:00.000000",
          "2020-09-15T00:00:00.000000",
          "2020-09-16T00:00:00.000000",
          "2020-09-17T00:00:00.000000",
          "2020-09-18T00:00:00.000000",
          "2020-09-19T00:00:00.000000",
          "2020-09-20T00:00:00.000000",
          "2020-09-21T00:00:00.000000",
          "2020-09-22T00:00:00.000000",
          "2020-09-23T00:00:00.000000",
          "2020-09-24T00:00:00.000000",
          "2020-09-25T00:00:00.000000",
          "2020-09-26T00:00:00.000000",
          "2020-09-27T00:00:00.000000",
          "2020-09-28T00:00:00.000000",
          "2020-09-29T00:00:00.000000",
          "2020-09-30T00:00:00.000000",
          "2020-10-01T00:00:00.000000",
          "2020-10-02T00:00:00.000000",
          "2020-10-03T00:00:00.000000",
          "2020-10-04T00:00:00.000000",
          "2020-10-05T00:00:00.000000",
          "2020-10-06T00:00:00.000000",
          "2020-10-07T00:00:00.000000",
          "2020-10-08T00:00:00.000000",
          "2020-10-09T00:00:00.000000",
          "2020-10-10T00:00:00.000000",
          "2020-10-11T00:00:00.000000",
          "2020-10-12T00:00:00.000000",
          "2020-10-13T00:00:00.000000",
          "2020-10-14T00:00:00.000000",
          "2020-10-15T00:00:00.000000",
          "2020-10-16T00:00:00.000000",
          "2020-10-17T00:00:00.000000",
          "2020-10-18T00:00:00.000000",
          "2020-10-19T00:00:00.000000"
         ],
         "xaxis": "x",
         "y": {
          "dtype": "float64",
          "shape": [
           730
          ]
         },
         "yaxis": "y"
        }
       ],
       "_js2py_layoutDelta": {},
       "_js2py_pointsCallback": {},
       "_js2py_relayout": {},
       "_js2py_restyle": {},
       "_js2py_traceDeltas": {},
       "_js2py_update": {},
       "_last_layout_edit_id": 5,
       "_last_trace_edit_id": 5,
       "_layout": {
        "autosize": false,
        "bargap": 0,
        "colorway": [
         "#1f77b4",
         "#ff7f0e",
         "#2ca02c",
         "#dc3912",
         "#9467bd",
         "#8c564b",
         "#e377c2",
         "#7f7f7f",
         "#bcbd22",
         "#17becf"
        ],
        "height": 300,
        "hovermode": "closest",
        "margin": {
         "b": 30,
         "t": 30
        },
        "showlegend": true,
        "template": {
         "data": {
          "bar": [
           {
            "error_x": {
             "color": "#2a3f5f"
            },
            "error_y": {
             "color": "#2a3f5f"
            },
            "marker": {
             "line": {
              "color": "#E5ECF6",
              "width": 0.5
             }
            },
            "type": "bar"
           }
          ],
          "barpolar": [
           {
            "marker": {
             "line": {
              "color": "#E5ECF6",
              "width": 0.5
             }
            },
            "type": "barpolar"
           }
          ],
          "carpet": [
           {
            "aaxis": {
             "endlinecolor": "#2a3f5f",
             "gridcolor": "white",
             "linecolor": "white",
             "minorgridcolor": "white",
             "startlinecolor": "#2a3f5f"
            },
            "baxis": {
             "endlinecolor": "#2a3f5f",
             "gridcolor": "white",
             "linecolor": "white",
             "minorgridcolor": "white",
             "startlinecolor": "#2a3f5f"
            },
            "type": "carpet"
           }
          ],
          "choropleth": [
           {
            "colorbar": {
             "outlinewidth": 0,
             "ticks": ""
            },
            "type": "choropleth"
           }
          ],
          "contour": [
           {
            "colorbar": {
             "outlinewidth": 0,
             "ticks": ""
            },
            "colorscale": [
             [
              0,
              "#0d0887"
             ],
             [
              0.1111111111111111,
              "#46039f"
             ],
             [
              0.2222222222222222,
              "#7201a8"
             ],
             [
              0.3333333333333333,
              "#9c179e"
             ],
             [
              0.4444444444444444,
              "#bd3786"
             ],
             [
              0.5555555555555556,
              "#d8576b"
             ],
             [
              0.6666666666666666,
              "#ed7953"
             ],
             [
              0.7777777777777778,
              "#fb9f3a"
             ],
             [
              0.8888888888888888,
              "#fdca26"
             ],
             [
              1,
              "#f0f921"
             ]
            ],
            "type": "contour"
           }
          ],
          "contourcarpet": [
           {
            "colorbar": {
             "outlinewidth": 0,
             "ticks": ""
            },
            "type": "contourcarpet"
           }
          ],
          "heatmap": [
           {
            "colorbar": {
             "outlinewidth": 0,
             "ticks": ""
            },
            "colorscale": [
             [
              0,
              "#0d0887"
             ],
             [
              0.1111111111111111,
              "#46039f"
             ],
             [
              0.2222222222222222,
              "#7201a8"
             ],
             [
              0.3333333333333333,
              "#9c179e"
             ],
             [
              0.4444444444444444,
              "#bd3786"
             ],
             [
              0.5555555555555556,
              "#d8576b"
             ],
             [
              0.6666666666666666,
              "#ed7953"
             ],
             [
              0.7777777777777778,
              "#fb9f3a"
             ],
             [
              0.8888888888888888,
              "#fdca26"
             ],
             [
              1,
              "#f0f921"
             ]
            ],
            "type": "heatmap"
           }
          ],
          "heatmapgl": [
           {
            "colorbar": {
             "outlinewidth": 0,
             "ticks": ""
            },
            "colorscale": [
             [
              0,
              "#0d0887"
             ],
             [
              0.1111111111111111,
              "#46039f"
             ],
             [
              0.2222222222222222,
              "#7201a8"
             ],
             [
              0.3333333333333333,
              "#9c179e"
             ],
             [
              0.4444444444444444,
              "#bd3786"
             ],
             [
              0.5555555555555556,
              "#d8576b"
             ],
             [
              0.6666666666666666,
              "#ed7953"
             ],
             [
              0.7777777777777778,
              "#fb9f3a"
             ],
             [
              0.8888888888888888,
              "#fdca26"
             ],
             [
              1,
              "#f0f921"
             ]
            ],
            "type": "heatmapgl"
           }
          ],
          "histogram": [
           {
            "marker": {
             "colorbar": {
              "outlinewidth": 0,
              "ticks": ""
             }
            },
            "type": "histogram"
           }
          ],
          "histogram2d": [
           {
            "colorbar": {
             "outlinewidth": 0,
             "ticks": ""
            },
            "colorscale": [
             [
              0,
              "#0d0887"
             ],
             [
              0.1111111111111111,
              "#46039f"
             ],
             [
              0.2222222222222222,
              "#7201a8"
             ],
             [
              0.3333333333333333,
              "#9c179e"
             ],
             [
              0.4444444444444444,
              "#bd3786"
             ],
             [
              0.5555555555555556,
              "#d8576b"
             ],
             [
              0.6666666666666666,
              "#ed7953"
             ],
             [
              0.7777777777777778,
              "#fb9f3a"
             ],
             [
              0.8888888888888888,
              "#fdca26"
             ],
             [
              1,
              "#f0f921"
             ]
            ],
            "type": "histogram2d"
           }
          ],
          "histogram2dcontour": [
           {
            "colorbar": {
             "outlinewidth": 0,
             "ticks": ""
            },
            "colorscale": [
             [
              0,
              "#0d0887"
             ],
             [
              0.1111111111111111,
              "#46039f"
             ],
             [
              0.2222222222222222,
              "#7201a8"
             ],
             [
              0.3333333333333333,
              "#9c179e"
             ],
             [
              0.4444444444444444,
              "#bd3786"
             ],
             [
              0.5555555555555556,
              "#d8576b"
             ],
             [
              0.6666666666666666,
              "#ed7953"
             ],
             [
              0.7777777777777778,
              "#fb9f3a"
             ],
             [
              0.8888888888888888,
              "#fdca26"
             ],
             [
              1,
              "#f0f921"
             ]
            ],
            "type": "histogram2dcontour"
           }
          ],
          "mesh3d": [
           {
            "colorbar": {
             "outlinewidth": 0,
             "ticks": ""
            },
            "type": "mesh3d"
           }
          ],
          "parcoords": [
           {
            "line": {
             "colorbar": {
              "outlinewidth": 0,
              "ticks": ""
             }
            },
            "type": "parcoords"
           }
          ],
          "pie": [
           {
            "automargin": true,
            "type": "pie"
           }
          ],
          "scatter": [
           {
            "marker": {
             "colorbar": {
              "outlinewidth": 0,
              "ticks": ""
             }
            },
            "type": "scatter"
           }
          ],
          "scatter3d": [
           {
            "line": {
             "colorbar": {
              "outlinewidth": 0,
              "ticks": ""
             }
            },
            "marker": {
             "colorbar": {
              "outlinewidth": 0,
              "ticks": ""
             }
            },
            "type": "scatter3d"
           }
          ],
          "scattercarpet": [
           {
            "marker": {
             "colorbar": {
              "outlinewidth": 0,
              "ticks": ""
             }
            },
            "type": "scattercarpet"
           }
          ],
          "scattergeo": [
           {
            "marker": {
             "colorbar": {
              "outlinewidth": 0,
              "ticks": ""
             }
            },
            "type": "scattergeo"
           }
          ],
          "scattergl": [
           {
            "marker": {
             "colorbar": {
              "outlinewidth": 0,
              "ticks": ""
             }
            },
            "type": "scattergl"
           }
          ],
          "scattermapbox": [
           {
            "marker": {
             "colorbar": {
              "outlinewidth": 0,
              "ticks": ""
             }
            },
            "type": "scattermapbox"
           }
          ],
          "scatterpolar": [
           {
            "marker": {
             "colorbar": {
              "outlinewidth": 0,
              "ticks": ""
             }
            },
            "type": "scatterpolar"
           }
          ],
          "scatterpolargl": [
           {
            "marker": {
             "colorbar": {
              "outlinewidth": 0,
              "ticks": ""
             }
            },
            "type": "scatterpolargl"
           }
          ],
          "scatterternary": [
           {
            "marker": {
             "colorbar": {
              "outlinewidth": 0,
              "ticks": ""
             }
            },
            "type": "scatterternary"
           }
          ],
          "surface": [
           {
            "colorbar": {
             "outlinewidth": 0,
             "ticks": ""
            },
            "colorscale": [
             [
              0,
              "#0d0887"
             ],
             [
              0.1111111111111111,
              "#46039f"
             ],
             [
              0.2222222222222222,
              "#7201a8"
             ],
             [
              0.3333333333333333,
              "#9c179e"
             ],
             [
              0.4444444444444444,
              "#bd3786"
             ],
             [
              0.5555555555555556,
              "#d8576b"
             ],
             [
              0.6666666666666666,
              "#ed7953"
             ],
             [
              0.7777777777777778,
              "#fb9f3a"
             ],
             [
              0.8888888888888888,
              "#fdca26"
             ],
             [
              1,
              "#f0f921"
             ]
            ],
            "type": "surface"
           }
          ],
          "table": [
           {
            "cells": {
             "fill": {
              "color": "#EBF0F8"
             },
             "line": {
              "color": "white"
             }
            },
            "header": {
             "fill": {
              "color": "#C8D4E3"
             },
             "line": {
              "color": "white"
             }
            },
            "type": "table"
           }
          ]
         },
         "layout": {
          "annotationdefaults": {
           "arrowcolor": "#2a3f5f",
           "arrowhead": 0,
           "arrowwidth": 1
          },
          "coloraxis": {
           "colorbar": {
            "outlinewidth": 0,
            "ticks": ""
           }
          },
          "colorscale": {
           "diverging": [
            [
             0,
             "#8e0152"
            ],
            [
             0.1,
             "#c51b7d"
            ],
            [
             0.2,
             "#de77ae"
            ],
            [
             0.3,
             "#f1b6da"
            ],
            [
             0.4,
             "#fde0ef"
            ],
            [
             0.5,
             "#f7f7f7"
            ],
            [
             0.6,
             "#e6f5d0"
            ],
            [
             0.7,
             "#b8e186"
            ],
            [
             0.8,
             "#7fbc41"
            ],
            [
             0.9,
             "#4d9221"
            ],
            [
             1,
             "#276419"
            ]
           ],
           "sequential": [
            [
             0,
             "#0d0887"
            ],
            [
             0.1111111111111111,
             "#46039f"
            ],
            [
             0.2222222222222222,
             "#7201a8"
            ],
            [
             0.3333333333333333,
             "#9c179e"
            ],
            [
             0.4444444444444444,
             "#bd3786"
            ],
            [
             0.5555555555555556,
             "#d8576b"
            ],
            [
             0.6666666666666666,
             "#ed7953"
            ],
            [
             0.7777777777777778,
             "#fb9f3a"
            ],
            [
             0.8888888888888888,
             "#fdca26"
            ],
            [
             1,
             "#f0f921"
            ]
           ],
           "sequentialminus": [
            [
             0,
             "#0d0887"
            ],
            [
             0.1111111111111111,
             "#46039f"
            ],
            [
             0.2222222222222222,
             "#7201a8"
            ],
            [
             0.3333333333333333,
             "#9c179e"
            ],
            [
             0.4444444444444444,
             "#bd3786"
            ],
            [
             0.5555555555555556,
             "#d8576b"
            ],
            [
             0.6666666666666666,
             "#ed7953"
            ],
            [
             0.7777777777777778,
             "#fb9f3a"
            ],
            [
             0.8888888888888888,
             "#fdca26"
            ],
            [
             1,
             "#f0f921"
            ]
           ]
          },
          "colorway": [
           "#636efa",
           "#EF553B",
           "#00cc96",
           "#ab63fa",
           "#FFA15A",
           "#19d3f3",
           "#FF6692",
           "#B6E880",
           "#FF97FF",
           "#FECB52"
          ],
          "font": {
           "color": "#2a3f5f"
          },
          "geo": {
           "bgcolor": "white",
           "lakecolor": "white",
           "landcolor": "#E5ECF6",
           "showlakes": true,
           "showland": true,
           "subunitcolor": "white"
          },
          "hoverlabel": {
           "align": "left"
          },
          "hovermode": "closest",
          "mapbox": {
           "style": "light"
          },
          "paper_bgcolor": "white",
          "plot_bgcolor": "#E5ECF6",
          "polar": {
           "angularaxis": {
            "gridcolor": "white",
            "linecolor": "white",
            "ticks": ""
           },
           "bgcolor": "#E5ECF6",
           "radialaxis": {
            "gridcolor": "white",
            "linecolor": "white",
            "ticks": ""
           }
          },
          "scene": {
           "xaxis": {
            "backgroundcolor": "#E5ECF6",
            "gridcolor": "white",
            "gridwidth": 2,
            "linecolor": "white",
            "showbackground": true,
            "ticks": "",
            "zerolinecolor": "white"
           },
           "yaxis": {
            "backgroundcolor": "#E5ECF6",
            "gridcolor": "white",
            "gridwidth": 2,
            "linecolor": "white",
            "showbackground": true,
            "ticks": "",
            "zerolinecolor": "white"
           },
           "zaxis": {
            "backgroundcolor": "#E5ECF6",
            "gridcolor": "white",
            "gridwidth": 2,
            "linecolor": "white",
            "showbackground": true,
            "ticks": "",
            "zerolinecolor": "white"
           }
          },
          "shapedefaults": {
           "line": {
            "color": "#2a3f5f"
           }
          },
          "ternary": {
           "aaxis": {
            "gridcolor": "white",
            "linecolor": "white",
            "ticks": ""
           },
           "baxis": {
            "gridcolor": "white",
            "linecolor": "white",
            "ticks": ""
           },
           "bgcolor": "#E5ECF6",
           "caxis": {
            "gridcolor": "white",
            "linecolor": "white",
            "ticks": ""
           }
          },
          "title": {
           "x": 0.05
          },
          "xaxis": {
           "automargin": true,
           "gridcolor": "white",
           "linecolor": "white",
           "ticks": "",
           "title": {
            "standoff": 15
           },
           "zerolinecolor": "white",
           "zerolinewidth": 2
          },
          "yaxis": {
           "automargin": true,
           "gridcolor": "white",
           "linecolor": "white",
           "ticks": "",
           "title": {
            "standoff": 15
           },
           "zerolinecolor": "white",
           "zerolinewidth": 2
          }
         }
        },
        "width": 700,
        "xaxis": {
         "rangeslider": {
          "visible": false
         },
         "showgrid": true
        },
        "yaxis": {
         "domain": [
          0,
          0.33
         ],
         "showgrid": true
        },
        "yaxis2": {
         "domain": [
          0.33,
          1
         ]
        }
       },
       "_model_module_version": "^4.8.0",
       "_py2js_animate": {},
       "_py2js_deleteTraces": {},
       "_py2js_moveTraces": {},
       "_py2js_removeLayoutProps": {},
       "_py2js_removeTraceProps": {},
       "_py2js_restyle": {},
       "_view_count": 0,
       "_view_module_version": "^4.8.0"
      }
     },
     "49acbf832295413bacc1447060cef4a5": {
      "model_module": "@jupyter-widgets/controls",
      "model_module_version": "1.5.0",
      "model_name": "LabelModel",
      "state": {
       "layout": "IPY_MODEL_409a67018aff4fa3b0e9b50ba15a523b",
       "style": "IPY_MODEL_ff56b0207d8043168d46e37dcebc3046",
       "value": "Date range:"
      }
     },
     "53e917a997f24ddebd3705f51cf03728": {
      "model_module": "@jupyter-widgets/controls",
      "model_module_version": "1.5.0",
      "model_name": "DescriptionStyleModel",
      "state": {
       "description_width": ""
      }
     },
     "61c35c0581ba486590795e2e438dfc1b": {
      "model_module": "@jupyter-widgets/base",
      "model_module_version": "1.2.0",
      "model_name": "LayoutModel",
      "state": {}
     },
     "626e41b67fa64336936ad574728f2d64": {
      "buffers": [
       {
        "data": "AAAAAAAAAAB7FK5H4XqEP3sUrkfhepQ/uB6F61G4nj97FK5H4XqkP5qZmZmZmak/uB6F61G4rj/sUbgeheuxP3sUrkfherQ/CtejcD0Ktz+amZmZmZm5Pylcj8L1KLw/uB6F61G4vj+kcD0K16PAP+xRuB6F68E/MzMzMzMzwz97FK5H4XrEP8P1KFyPwsU/CtejcD0Kxz9SuB6F61HIP5qZmZmZmck/4XoUrkfhyj8pXI/C9SjMP3E9CtejcM0/uB6F61G4zj8AAAAAAADQP6RwPQrXo9A/SOF6FK5H0T/sUbgehevRP4/C9Shcj9I/MzMzMzMz0z/Xo3A9CtfTP3sUrkfhetQ/H4XrUbge1T/D9Shcj8LVP2dmZmZmZtY/CtejcD0K1z+uR+F6FK7XP1K4HoXrUdg/9ihcj8L12D+amZmZmZnZPz4K16NwPdo/4XoUrkfh2j+F61G4HoXbPylcj8L1KNw/zczMzMzM3D9xPQrXo3DdPxWuR+F6FN4/uB6F61G43j9cj8L1KFzfPwAAAAAAAOA/UrgehetR4D+kcD0K16PgP/YoXI/C9eA/SOF6FK5H4T+amZmZmZnhP+xRuB6F6+E/PgrXo3A94j+PwvUoXI/iP+F6FK5H4eI/MzMzMzMz4z+F61G4HoXjP9ejcD0K1+M/KVyPwvUo5D97FK5H4XrkP83MzMzMzOQ/H4XrUbge5T9xPQrXo3DlP8P1KFyPwuU/Fa5H4XoU5j9nZmZmZmbmP7gehetRuOY/CtejcD0K5z9cj8L1KFznP65H4XoUruc/AAAAAAAA6D9SuB6F61HoP6RwPQrXo+g/9ihcj8L16D9I4XoUrkfpP5qZmZmZmek/7FG4HoXr6T8+CtejcD3qP5DC9Shcj+o/4XoUrkfh6j8zMzMzMzPrP4XrUbgehes/16NwPQrX6z8pXI/C9SjsP3sUrkfheuw/zczMzMzM7D8fhetRuB7tP3E9CtejcO0/w/UoXI/C7T8VrkfhehTuP2dmZmZmZu4/uB6F61G47j8K16NwPQrvP1yPwvUoXO8/rkfhehSu7z8=",
        "encoding": "base64",
        "path": [
         "_data",
         0,
         "x",
         "value"
        ]
       },
       {
        "data": "AAAAAAAAAABY4i20FDLvP1wyBOto8+4/9dJ6M5ig7j/VPTFwNVvuP2xK8qoPGO4/lhOe6W/Q7T8tIF8kSo3tP8XA1Wx5Ou0/pSuMqRb17D8+zALyRaLsP0GIIxtFc+w/SABlbUMV7D+VrjCmWtTrP3WFMdWinus/wZ9HAGVt6z99kSg19jDrPziDCWqH9Oo/Oz8qk4bF6j/1nFW6wpjqP4sVYedHZeo/jtGBEEc26j/b65c7CQXqP7ku41z83uk/Ki4ZgnW06T+bLU+n7onpP51VusKYauk/oBHb65c76T/IshsPThPpP14rJzzT3+g/GIlSYw+z6D/2y52EAo3oP0FS/qFva+g/jmwUzTE66D+RKDX2MAvoP3BrgBck5ec/TRoWK8LO5z+8hZZC5rPnPy2FzGdfiec/C8gXiVJj5z+grG2ogj/nPzWRw8eyG+c/7+7u7u7u5j+Hj2U3HpzmP4zfO25yXeY/SGXSsFgR5j+7jHPxe8flP+PBaSKHj+U/6aX1ZjBB5T/wHTe5LuPkP/m94ybXZeQ/LLvx4DSR4z8Rdn5UJg3jP6/6gOH+a+I/kyFYR5v34T8P6aX1ZjDhP2Y3HpwmcuA/VrrCmGpR3z+Rw8eyGw/ePzoQ4shG0dw/wjP9Dbpd2z9Nf4Nu18rZP7JRNMfoQNg/ppD57Cvx1j/H6ECIIxvVP6F2SC+tN9M/drR5n+KS0T/bhir48wjQP3PCM/0Nus0/TFA7pJfWyz95cJrI4WPJPxGso837FMc/Acrahir4wz+YBeSLRKnBP8P915TkVb8/t2vlhGf6uz8pNfYwC8i3P0dsr1/uJLQ/NMfoQIgjqz872rxPccmgP6BHAGVtQ5U/ZNmNB6eJjD872rxPccmAP5S1DVXw53E/rNnydOqeaD/5IlFq7GFmP8P915TkVV8/lLUNVfDnQT+UtQ1V8OcxPwAAAAAAAAAAAAAAAAAAAAAAAAAAAAAAAAAAAAAAAAAAAAAAAAAAAAAAAAAAAAAAAAAAAAAAAAAAAAAAAAAAAAAAAAAAAAAAAAAAAAAAAAAAAAAAAAAAAAA=",
        "encoding": "base64",
        "path": [
         "_data",
         0,
         "y",
         "value"
        ]
       },
       {
        "data": "AAAAAAAAAAB7FK5H4XqEP3sUrkfhepQ/uB6F61G4nj97FK5H4XqkP5qZmZmZmak/uB6F61G4rj/sUbgeheuxP3sUrkfherQ/CtejcD0Ktz+amZmZmZm5Pylcj8L1KLw/uB6F61G4vj+kcD0K16PAP+xRuB6F68E/MzMzMzMzwz97FK5H4XrEP8P1KFyPwsU/CtejcD0Kxz9SuB6F61HIP5qZmZmZmck/4XoUrkfhyj8pXI/C9SjMP3E9CtejcM0/uB6F61G4zj8AAAAAAADQP6RwPQrXo9A/SOF6FK5H0T/sUbgehevRP4/C9Shcj9I/MzMzMzMz0z/Xo3A9CtfTP3sUrkfhetQ/H4XrUbge1T/D9Shcj8LVP2dmZmZmZtY/CtejcD0K1z+uR+F6FK7XP1K4HoXrUdg/9ihcj8L12D+amZmZmZnZPz4K16NwPdo/4XoUrkfh2j+F61G4HoXbPylcj8L1KNw/zczMzMzM3D9xPQrXo3DdPxWuR+F6FN4/uB6F61G43j9cj8L1KFzfPwAAAAAAAOA/UrgehetR4D+kcD0K16PgP/YoXI/C9eA/SOF6FK5H4T+amZmZmZnhP+xRuB6F6+E/PgrXo3A94j+PwvUoXI/iP+F6FK5H4eI/MzMzMzMz4z+F61G4HoXjP9ejcD0K1+M/KVyPwvUo5D97FK5H4XrkP83MzMzMzOQ/H4XrUbge5T9xPQrXo3DlP8P1KFyPwuU/Fa5H4XoU5j9nZmZmZmbmP7gehetRuOY/CtejcD0K5z9cj8L1KFznP65H4XoUruc/AAAAAAAA6D9SuB6F61HoP6RwPQrXo+g/9ihcj8L16D9I4XoUrkfpP5qZmZmZmek/7FG4HoXr6T8+CtejcD3qP5DC9Shcj+o/4XoUrkfh6j8zMzMzMzPrP4XrUbgehes/16NwPQrX6z8pXI/C9SjsP3sUrkfheuw/zczMzMzM7D8fhetRuB7tP3E9CtejcO0/w/UoXI/C7T8VrkfhehTuP2dmZmZmZu4/uB6F61G47j8K16NwPQrvP1yPwvUoXO8/rkfhehSu7z8=",
        "encoding": "base64",
        "path": [
         "_data",
         1,
         "x",
         "value"
        ]
       },
       {
        "data": "AAAAAAAAAAAAAAAAAADwPwAAAAAAAPA/AAAAAAAA8D8AAAAAAADwPwAAAAAAAPA/AAAAAAAA8D8AAAAAAADwPwAAAAAAAPA/AAAAAAAA8D8AAAAAAADwPwAAAAAAAPA/AAAAAAAA8D8AAAAAAADwPwAAAAAAAPA/AAAAAAAA8D8AAAAAAADwPwAAAAAAAPA/AAAAAAAA8D8AAAAAAADwPwAAAAAAAPA/AAAAAAAA8D8AAAAAAADwPwAAAAAAAPA/AAAAAAAA8D8AAAAAAADwPwAAAAAAAPA/AAAAAAAA8D8AAAAAAADwPwAAAAAAAPA/AAAAAAAA8D8AAAAAAADwPwAAAAAAAPA/AAAAAAAA8D8AAAAAAADwPwAAAAAAAPA/AAAAAAAA8D8AAAAAAADwPwAAAAAAAPA/AAAAAAAA8D8AAAAAAADwPwAAAAAAAPA/AAAAAAAA8D8AAAAAAADwPwAAAAAAAPA/AAAAAAAA8D8AAAAAAADwP0ryqg8Y7u8/SvKqDxju7z9K8qoPGO7vP7nJdRnn4u8/3kJLIfPZ7z+YoHZIL63vP4Vn+ht0u+4/hWf6G3S77j+FZ/obdLvuP89ZpSuMqe4/rZzwTH+D7j9l0rBYEXbuP9Spe2Lgau4/JICytqEK7j/iLbQUMp/tP+d9ikuGYO0/H8tuPDhN7D+bkrzqA4brP2UI1tHmfeo/Qrdr5YRn6j9sSvKqDxjmP6BHAGVtQ+U/zDgXv3fc5D8xC8gXiVLjPyRKjT3MAuI/JOUf+rYG4D9MUDukl9bbP/gpLhmCddQ/Z8vTqXti0D+Cq9nydOrOP/8G3a6VE84/uNBSyHz2xT8dowMhjmzEPy/jXPzeccM/BCGObBTNwT/P9Dfodq28PxFHNormGH0/EUc2iuYYfT8RRzaK5hh9P16QlH/o23o/+SJRauxhdj+gRwBlbUN1PwAAAAAAAAAAAAAAAAAAAAAAAAAAAAAAAAAAAAAAAAAAAAAAAAAAAAAAAAAAAAAAAAAAAAAAAAAAAAAAAAAAAAAAAAAAAAAAAAAAAAAAAAAAAAAAAAAAAAA=",
        "encoding": "base64",
        "path": [
         "_data",
         1,
         "y",
         "value"
        ]
       },
       {
        "data": "AAAAAAAAAAB7FK5H4XqEP3sUrkfhepQ/uB6F61G4nj97FK5H4XqkP5qZmZmZmak/uB6F61G4rj/sUbgeheuxP3sUrkfherQ/CtejcD0Ktz+amZmZmZm5Pylcj8L1KLw/uB6F61G4vj+kcD0K16PAP+xRuB6F68E/MzMzMzMzwz97FK5H4XrEP8P1KFyPwsU/CtejcD0Kxz9SuB6F61HIP5qZmZmZmck/4XoUrkfhyj8pXI/C9SjMP3E9CtejcM0/uB6F61G4zj8AAAAAAADQP6RwPQrXo9A/SOF6FK5H0T/sUbgehevRP4/C9Shcj9I/MzMzMzMz0z/Xo3A9CtfTP3sUrkfhetQ/H4XrUbge1T/D9Shcj8LVP2dmZmZmZtY/CtejcD0K1z+uR+F6FK7XP1K4HoXrUdg/9ihcj8L12D+amZmZmZnZPz4K16NwPdo/4XoUrkfh2j+F61G4HoXbPylcj8L1KNw/zczMzMzM3D9xPQrXo3DdPxWuR+F6FN4/uB6F61G43j9cj8L1KFzfPwAAAAAAAOA/UrgehetR4D+kcD0K16PgP/YoXI/C9eA/SOF6FK5H4T+amZmZmZnhP+xRuB6F6+E/PgrXo3A94j+PwvUoXI/iP+F6FK5H4eI/MzMzMzMz4z+F61G4HoXjP9ejcD0K1+M/KVyPwvUo5D97FK5H4XrkP83MzMzMzOQ/H4XrUbge5T9xPQrXo3DlP8P1KFyPwuU/Fa5H4XoU5j9nZmZmZmbmP7gehetRuOY/CtejcD0K5z9cj8L1KFznP65H4XoUruc/AAAAAAAA6D9SuB6F61HoP6RwPQrXo+g/9ihcj8L16D9I4XoUrkfpP5qZmZmZmek/7FG4HoXr6T8+CtejcD3qP5DC9Shcj+o/4XoUrkfh6j8zMzMzMzPrP4XrUbgehes/16NwPQrX6z8pXI/C9SjsP3sUrkfheuw/zczMzMzM7D8fhetRuB7tP3E9CtejcO0/w/UoXI/C7T8VrkfhehTuP2dmZmZmZu4/uB6F61G47j8K16NwPQrvP1yPwvUoXO8/rkfhehSu7z8=",
        "encoding": "base64",
        "path": [
         "_data",
         2,
         "x",
         "value"
        ]
       },
       {
        "data": "AAAAAAAAAABY4i20FDLvP8nhY9mNB+8/FpAvEqXG7j/TFcZUi3ruP7LsxoPTRO4/AJuSvOoD7j8pZD77SrztP5yL3ztucu0/WH3AcP817T9/HgGUtQ3tP/JFotTYw+w/ZNmNB6eJ7D+Les4qXWHsP0gAZW1DFew/J9dlnIvf6z+ZalHPWaXrP8Iz/Q26Xes/W9RzVukK6z+EnR+VScPqP2aci987buo/auxhFpAv6j/dEwNXs+XpPwfdrpUTnuk/50dl0rBY6T/HHmYB+SLpP12XcS5+7+g/h/TSejOY6D/WNlTBn0foP/9rSvKqD+g/AihrG6rg5z+YoHZIL63nP3d3d3d3d+c/D4Q4slE05z/txoPTRA7nP2GC2iG9tOY/ZD77SryF5j+xWBF2flTmP/zecZPrMuY/tjyduicG5j9wmsjhY9nlPyv48wigrOU/CTs/KpOG5T9VVVVVVVXlP6Jva4AXJOU/gUZsr1/u5D87pJfWm8HkP603gwlqh+Q/RERERERE5D9s5YRn+hvkP0u8hZZC5uM/4KDbtXLC4z8rJzzT36DjPwv+PAIoa+M/VxhTLeo54z84gwlqh/TiP81nX4m30OI/GYJ1tHmf4j9mnIvfO27iPyGObBTNMeI/AfkiUWrs4T/hzyOAsrbhP1HPWaUrjOE/VYt6zipd4T/GirDzozLhP+0r8RZaCuE/XisnPNPf4D9h50dl0rDgPxtFc4wOhOA/aF+Jt9BS4D+ObBTNMTrgP7R5n+KSIeA/AAAAAAAA4D9PQoFGbK/fP+ZOQoFGbN8/fVsDvCAp3z+E00QOH8veP62c8Ex/g94/12Wci9873j+2PJ26JwbeP7uMc/F7x90/LSBfJEqN3T/ELCBfJErdPzbAC5LyD90/OhDiyEbR3D+so837FJfcP/m94ybXZdw/sxsPThM53D8lr/qA4f7bP7mTUKAR29s/mWpRz1ml2z9TyHz2lXjbPw0mqB3SS9s/VxhTLeo52z+iCv48AijbPzfvU1wyBNs/gwlqh/TS2j9guP+akrzaP2LgarY8ndo/r/qA4f5r2j8=",
        "encoding": "base64",
        "path": [
         "_data",
         2,
         "y",
         "value"
        ]
       }
      ],
      "model_module": "plotlywidget",
      "model_module_version": "^4.8.0",
      "model_name": "FigureModel",
      "state": {
       "_config": {
        "plotlyServerURL": "https://plot.ly"
       },
       "_data": [
        {
         "name": "Stop Loss",
         "showlegend": true,
         "type": "scatter",
         "uid": "9b304e1d-ce61-4294-be2d-5f8f070e6804",
         "x": {
          "dtype": "float64",
          "shape": [
           100
          ]
         },
         "y": {
          "dtype": "float64",
          "shape": [
           100
          ]
         }
        },
        {
         "name": "Trailing Stop",
         "showlegend": true,
         "type": "scatter",
         "uid": "38c9d173-8ade-41bf-9518-52b515d0ed86",
         "x": {
          "dtype": "float64",
          "shape": [
           100
          ]
         },
         "y": {
          "dtype": "float64",
          "shape": [
           100
          ]
         }
        },
        {
         "name": "Take Profit",
         "showlegend": true,
         "type": "scatter",
         "uid": "26bf5e86-938e-47bf-acb6-18a34628e5ba",
         "x": {
          "dtype": "float64",
          "shape": [
           100
          ]
         },
         "y": {
          "dtype": "float64",
          "shape": [
           100
          ]
         }
        }
       ],
       "_js2py_layoutDelta": {},
       "_js2py_pointsCallback": {},
       "_js2py_relayout": {},
       "_js2py_restyle": {},
       "_js2py_traceDeltas": {},
       "_js2py_update": {},
       "_last_layout_edit_id": 6,
       "_last_trace_edit_id": 6,
       "_layout": {
        "autosize": false,
        "colorway": [
         "#1f77b4",
         "#ff7f0e",
         "#2ca02c",
         "#dc3912",
         "#9467bd",
         "#8c564b",
         "#e377c2",
         "#7f7f7f",
         "#bcbd22",
         "#17becf"
        ],
        "height": 300,
        "hovermode": "closest",
        "margin": {
         "b": 30,
         "t": 30
        },
        "template": {
         "data": {
          "bar": [
           {
            "error_x": {
             "color": "#2a3f5f"
            },
            "error_y": {
             "color": "#2a3f5f"
            },
            "marker": {
             "line": {
              "color": "#E5ECF6",
              "width": 0.5
             }
            },
            "type": "bar"
           }
          ],
          "barpolar": [
           {
            "marker": {
             "line": {
              "color": "#E5ECF6",
              "width": 0.5
             }
            },
            "type": "barpolar"
           }
          ],
          "carpet": [
           {
            "aaxis": {
             "endlinecolor": "#2a3f5f",
             "gridcolor": "white",
             "linecolor": "white",
             "minorgridcolor": "white",
             "startlinecolor": "#2a3f5f"
            },
            "baxis": {
             "endlinecolor": "#2a3f5f",
             "gridcolor": "white",
             "linecolor": "white",
             "minorgridcolor": "white",
             "startlinecolor": "#2a3f5f"
            },
            "type": "carpet"
           }
          ],
          "choropleth": [
           {
            "colorbar": {
             "outlinewidth": 0,
             "ticks": ""
            },
            "type": "choropleth"
           }
          ],
          "contour": [
           {
            "colorbar": {
             "outlinewidth": 0,
             "ticks": ""
            },
            "colorscale": [
             [
              0,
              "#0d0887"
             ],
             [
              0.1111111111111111,
              "#46039f"
             ],
             [
              0.2222222222222222,
              "#7201a8"
             ],
             [
              0.3333333333333333,
              "#9c179e"
             ],
             [
              0.4444444444444444,
              "#bd3786"
             ],
             [
              0.5555555555555556,
              "#d8576b"
             ],
             [
              0.6666666666666666,
              "#ed7953"
             ],
             [
              0.7777777777777778,
              "#fb9f3a"
             ],
             [
              0.8888888888888888,
              "#fdca26"
             ],
             [
              1,
              "#f0f921"
             ]
            ],
            "type": "contour"
           }
          ],
          "contourcarpet": [
           {
            "colorbar": {
             "outlinewidth": 0,
             "ticks": ""
            },
            "type": "contourcarpet"
           }
          ],
          "heatmap": [
           {
            "colorbar": {
             "outlinewidth": 0,
             "ticks": ""
            },
            "colorscale": [
             [
              0,
              "#0d0887"
             ],
             [
              0.1111111111111111,
              "#46039f"
             ],
             [
              0.2222222222222222,
              "#7201a8"
             ],
             [
              0.3333333333333333,
              "#9c179e"
             ],
             [
              0.4444444444444444,
              "#bd3786"
             ],
             [
              0.5555555555555556,
              "#d8576b"
             ],
             [
              0.6666666666666666,
              "#ed7953"
             ],
             [
              0.7777777777777778,
              "#fb9f3a"
             ],
             [
              0.8888888888888888,
              "#fdca26"
             ],
             [
              1,
              "#f0f921"
             ]
            ],
            "type": "heatmap"
           }
          ],
          "heatmapgl": [
           {
            "colorbar": {
             "outlinewidth": 0,
             "ticks": ""
            },
            "colorscale": [
             [
              0,
              "#0d0887"
             ],
             [
              0.1111111111111111,
              "#46039f"
             ],
             [
              0.2222222222222222,
              "#7201a8"
             ],
             [
              0.3333333333333333,
              "#9c179e"
             ],
             [
              0.4444444444444444,
              "#bd3786"
             ],
             [
              0.5555555555555556,
              "#d8576b"
             ],
             [
              0.6666666666666666,
              "#ed7953"
             ],
             [
              0.7777777777777778,
              "#fb9f3a"
             ],
             [
              0.8888888888888888,
              "#fdca26"
             ],
             [
              1,
              "#f0f921"
             ]
            ],
            "type": "heatmapgl"
           }
          ],
          "histogram": [
           {
            "marker": {
             "colorbar": {
              "outlinewidth": 0,
              "ticks": ""
             }
            },
            "type": "histogram"
           }
          ],
          "histogram2d": [
           {
            "colorbar": {
             "outlinewidth": 0,
             "ticks": ""
            },
            "colorscale": [
             [
              0,
              "#0d0887"
             ],
             [
              0.1111111111111111,
              "#46039f"
             ],
             [
              0.2222222222222222,
              "#7201a8"
             ],
             [
              0.3333333333333333,
              "#9c179e"
             ],
             [
              0.4444444444444444,
              "#bd3786"
             ],
             [
              0.5555555555555556,
              "#d8576b"
             ],
             [
              0.6666666666666666,
              "#ed7953"
             ],
             [
              0.7777777777777778,
              "#fb9f3a"
             ],
             [
              0.8888888888888888,
              "#fdca26"
             ],
             [
              1,
              "#f0f921"
             ]
            ],
            "type": "histogram2d"
           }
          ],
          "histogram2dcontour": [
           {
            "colorbar": {
             "outlinewidth": 0,
             "ticks": ""
            },
            "colorscale": [
             [
              0,
              "#0d0887"
             ],
             [
              0.1111111111111111,
              "#46039f"
             ],
             [
              0.2222222222222222,
              "#7201a8"
             ],
             [
              0.3333333333333333,
              "#9c179e"
             ],
             [
              0.4444444444444444,
              "#bd3786"
             ],
             [
              0.5555555555555556,
              "#d8576b"
             ],
             [
              0.6666666666666666,
              "#ed7953"
             ],
             [
              0.7777777777777778,
              "#fb9f3a"
             ],
             [
              0.8888888888888888,
              "#fdca26"
             ],
             [
              1,
              "#f0f921"
             ]
            ],
            "type": "histogram2dcontour"
           }
          ],
          "mesh3d": [
           {
            "colorbar": {
             "outlinewidth": 0,
             "ticks": ""
            },
            "type": "mesh3d"
           }
          ],
          "parcoords": [
           {
            "line": {
             "colorbar": {
              "outlinewidth": 0,
              "ticks": ""
             }
            },
            "type": "parcoords"
           }
          ],
          "pie": [
           {
            "automargin": true,
            "type": "pie"
           }
          ],
          "scatter": [
           {
            "marker": {
             "colorbar": {
              "outlinewidth": 0,
              "ticks": ""
             }
            },
            "type": "scatter"
           }
          ],
          "scatter3d": [
           {
            "line": {
             "colorbar": {
              "outlinewidth": 0,
              "ticks": ""
             }
            },
            "marker": {
             "colorbar": {
              "outlinewidth": 0,
              "ticks": ""
             }
            },
            "type": "scatter3d"
           }
          ],
          "scattercarpet": [
           {
            "marker": {
             "colorbar": {
              "outlinewidth": 0,
              "ticks": ""
             }
            },
            "type": "scattercarpet"
           }
          ],
          "scattergeo": [
           {
            "marker": {
             "colorbar": {
              "outlinewidth": 0,
              "ticks": ""
             }
            },
            "type": "scattergeo"
           }
          ],
          "scattergl": [
           {
            "marker": {
             "colorbar": {
              "outlinewidth": 0,
              "ticks": ""
             }
            },
            "type": "scattergl"
           }
          ],
          "scattermapbox": [
           {
            "marker": {
             "colorbar": {
              "outlinewidth": 0,
              "ticks": ""
             }
            },
            "type": "scattermapbox"
           }
          ],
          "scatterpolar": [
           {
            "marker": {
             "colorbar": {
              "outlinewidth": 0,
              "ticks": ""
             }
            },
            "type": "scatterpolar"
           }
          ],
          "scatterpolargl": [
           {
            "marker": {
             "colorbar": {
              "outlinewidth": 0,
              "ticks": ""
             }
            },
            "type": "scatterpolargl"
           }
          ],
          "scatterternary": [
           {
            "marker": {
             "colorbar": {
              "outlinewidth": 0,
              "ticks": ""
             }
            },
            "type": "scatterternary"
           }
          ],
          "surface": [
           {
            "colorbar": {
             "outlinewidth": 0,
             "ticks": ""
            },
            "colorscale": [
             [
              0,
              "#0d0887"
             ],
             [
              0.1111111111111111,
              "#46039f"
             ],
             [
              0.2222222222222222,
              "#7201a8"
             ],
             [
              0.3333333333333333,
              "#9c179e"
             ],
             [
              0.4444444444444444,
              "#bd3786"
             ],
             [
              0.5555555555555556,
              "#d8576b"
             ],
             [
              0.6666666666666666,
              "#ed7953"
             ],
             [
              0.7777777777777778,
              "#fb9f3a"
             ],
             [
              0.8888888888888888,
              "#fdca26"
             ],
             [
              1,
              "#f0f921"
             ]
            ],
            "type": "surface"
           }
          ],
          "table": [
           {
            "cells": {
             "fill": {
              "color": "#EBF0F8"
             },
             "line": {
              "color": "white"
             }
            },
            "header": {
             "fill": {
              "color": "#C8D4E3"
             },
             "line": {
              "color": "white"
             }
            },
            "type": "table"
           }
          ]
         },
         "layout": {
          "annotationdefaults": {
           "arrowcolor": "#2a3f5f",
           "arrowhead": 0,
           "arrowwidth": 1
          },
          "coloraxis": {
           "colorbar": {
            "outlinewidth": 0,
            "ticks": ""
           }
          },
          "colorscale": {
           "diverging": [
            [
             0,
             "#8e0152"
            ],
            [
             0.1,
             "#c51b7d"
            ],
            [
             0.2,
             "#de77ae"
            ],
            [
             0.3,
             "#f1b6da"
            ],
            [
             0.4,
             "#fde0ef"
            ],
            [
             0.5,
             "#f7f7f7"
            ],
            [
             0.6,
             "#e6f5d0"
            ],
            [
             0.7,
             "#b8e186"
            ],
            [
             0.8,
             "#7fbc41"
            ],
            [
             0.9,
             "#4d9221"
            ],
            [
             1,
             "#276419"
            ]
           ],
           "sequential": [
            [
             0,
             "#0d0887"
            ],
            [
             0.1111111111111111,
             "#46039f"
            ],
            [
             0.2222222222222222,
             "#7201a8"
            ],
            [
             0.3333333333333333,
             "#9c179e"
            ],
            [
             0.4444444444444444,
             "#bd3786"
            ],
            [
             0.5555555555555556,
             "#d8576b"
            ],
            [
             0.6666666666666666,
             "#ed7953"
            ],
            [
             0.7777777777777778,
             "#fb9f3a"
            ],
            [
             0.8888888888888888,
             "#fdca26"
            ],
            [
             1,
             "#f0f921"
            ]
           ],
           "sequentialminus": [
            [
             0,
             "#0d0887"
            ],
            [
             0.1111111111111111,
             "#46039f"
            ],
            [
             0.2222222222222222,
             "#7201a8"
            ],
            [
             0.3333333333333333,
             "#9c179e"
            ],
            [
             0.4444444444444444,
             "#bd3786"
            ],
            [
             0.5555555555555556,
             "#d8576b"
            ],
            [
             0.6666666666666666,
             "#ed7953"
            ],
            [
             0.7777777777777778,
             "#fb9f3a"
            ],
            [
             0.8888888888888888,
             "#fdca26"
            ],
            [
             1,
             "#f0f921"
            ]
           ]
          },
          "colorway": [
           "#636efa",
           "#EF553B",
           "#00cc96",
           "#ab63fa",
           "#FFA15A",
           "#19d3f3",
           "#FF6692",
           "#B6E880",
           "#FF97FF",
           "#FECB52"
          ],
          "font": {
           "color": "#2a3f5f"
          },
          "geo": {
           "bgcolor": "white",
           "lakecolor": "white",
           "landcolor": "#E5ECF6",
           "showlakes": true,
           "showland": true,
           "subunitcolor": "white"
          },
          "hoverlabel": {
           "align": "left"
          },
          "hovermode": "closest",
          "mapbox": {
           "style": "light"
          },
          "paper_bgcolor": "white",
          "plot_bgcolor": "#E5ECF6",
          "polar": {
           "angularaxis": {
            "gridcolor": "white",
            "linecolor": "white",
            "ticks": ""
           },
           "bgcolor": "#E5ECF6",
           "radialaxis": {
            "gridcolor": "white",
            "linecolor": "white",
            "ticks": ""
           }
          },
          "scene": {
           "xaxis": {
            "backgroundcolor": "#E5ECF6",
            "gridcolor": "white",
            "gridwidth": 2,
            "linecolor": "white",
            "showbackground": true,
            "ticks": "",
            "zerolinecolor": "white"
           },
           "yaxis": {
            "backgroundcolor": "#E5ECF6",
            "gridcolor": "white",
            "gridwidth": 2,
            "linecolor": "white",
            "showbackground": true,
            "ticks": "",
            "zerolinecolor": "white"
           },
           "zaxis": {
            "backgroundcolor": "#E5ECF6",
            "gridcolor": "white",
            "gridwidth": 2,
            "linecolor": "white",
            "showbackground": true,
            "ticks": "",
            "zerolinecolor": "white"
           }
          },
          "shapedefaults": {
           "line": {
            "color": "#2a3f5f"
           }
          },
          "ternary": {
           "aaxis": {
            "gridcolor": "white",
            "linecolor": "white",
            "ticks": ""
           },
           "baxis": {
            "gridcolor": "white",
            "linecolor": "white",
            "ticks": ""
           },
           "bgcolor": "#E5ECF6",
           "caxis": {
            "gridcolor": "white",
            "linecolor": "white",
            "ticks": ""
           }
          },
          "title": {
           "x": 0.05
          },
          "xaxis": {
           "automargin": true,
           "gridcolor": "white",
           "linecolor": "white",
           "ticks": "",
           "title": {
            "standoff": 15
           },
           "zerolinecolor": "white",
           "zerolinewidth": 2
          },
          "yaxis": {
           "automargin": true,
           "gridcolor": "white",
           "linecolor": "white",
           "ticks": "",
           "title": {
            "standoff": 15
           },
           "zerolinecolor": "white",
           "zerolinewidth": 2
          }
         }
        },
        "width": 700,
        "xaxis": {
         "title": {
          "text": "Stop value"
         }
        },
        "yaxis": {
         "title": {
          "text": "Avg number of signals"
         }
        }
       },
       "_model_module_version": "^4.8.0",
       "_py2js_animate": {},
       "_py2js_deleteTraces": {},
       "_py2js_moveTraces": {},
       "_py2js_removeLayoutProps": {},
       "_py2js_removeTraceProps": {},
       "_py2js_restyle": {},
       "_view_count": 0,
       "_view_module_version": "^4.8.0"
      }
     },
     "6a351d7ca90648d48e99f9c016ce44df": {
      "model_module": "@jupyter-widgets/controls",
      "model_module_version": "1.5.0",
      "model_name": "DescriptionStyleModel",
      "state": {
       "description_width": ""
      }
     },
     "7879b23f690449e59c1ebecc8f017b56": {
      "model_module": "@jupyter-widgets/controls",
      "model_module_version": "1.5.0",
      "model_name": "DescriptionStyleModel",
      "state": {
       "description_width": ""
      }
     },
     "7de364d2f40642929fb823ac57abeb8f": {
      "buffers": [
       {
        "data": "AAAAAAAAAAB7FK5H4XqEP3sUrkfhepQ/uB6F61G4nj97FK5H4XqkP5qZmZmZmak/uB6F61G4rj/sUbgeheuxP3sUrkfherQ/CtejcD0Ktz+amZmZmZm5Pylcj8L1KLw/uB6F61G4vj+kcD0K16PAP+xRuB6F68E/MzMzMzMzwz97FK5H4XrEP8P1KFyPwsU/CtejcD0Kxz9SuB6F61HIP5qZmZmZmck/4XoUrkfhyj8pXI/C9SjMP3E9CtejcM0/uB6F61G4zj8AAAAAAADQP6RwPQrXo9A/SOF6FK5H0T/sUbgehevRP4/C9Shcj9I/MzMzMzMz0z/Xo3A9CtfTP3sUrkfhetQ/H4XrUbge1T/D9Shcj8LVP2dmZmZmZtY/CtejcD0K1z+uR+F6FK7XP1K4HoXrUdg/9ihcj8L12D+amZmZmZnZPz4K16NwPdo/4XoUrkfh2j+F61G4HoXbPylcj8L1KNw/zczMzMzM3D9xPQrXo3DdPxWuR+F6FN4/uB6F61G43j9cj8L1KFzfPwAAAAAAAOA/UrgehetR4D+kcD0K16PgP/YoXI/C9eA/SOF6FK5H4T+amZmZmZnhP+xRuB6F6+E/PgrXo3A94j+PwvUoXI/iP+F6FK5H4eI/MzMzMzMz4z+F61G4HoXjP9ejcD0K1+M/KVyPwvUo5D97FK5H4XrkP83MzMzMzOQ/H4XrUbge5T9xPQrXo3DlP8P1KFyPwuU/Fa5H4XoU5j9nZmZmZmbmP7gehetRuOY/CtejcD0K5z9cj8L1KFznP65H4XoUruc/AAAAAAAA6D9SuB6F61HoP6RwPQrXo+g/9ihcj8L16D9I4XoUrkfpP5qZmZmZmek/7FG4HoXr6T8+CtejcD3qP5DC9Shcj+o/4XoUrkfh6j8zMzMzMzPrP4XrUbgehes/16NwPQrX6z8pXI/C9SjsP3sUrkfheuw/zczMzMzM7D8fhetRuB7tP3E9CtejcO0/w/UoXI/C7T8VrkfhehTuP2dmZmZmZu4/uB6F61G47j8K16NwPQrvP1yPwvUoXO8/rkfhehSu7z8=",
        "encoding": "base64",
        "path": [
         "_data",
         0,
         "x",
         "value"
        ]
       },
       {
        "data": "AAAAAADAdkAAAAAAAMB2QAAAAAAAwHZAAAAAAADAdkAAAAAAAMB2QAAAAAAAwHZAAAAAAADAdkAAAAAAAMB2QAAAAAAAwHZAAAAAAADAdkAAAAAAAMB2QAAAAAAAwHZAAAAAAADAdkAAAAAAAMB2QAAAAAAAwHZAAAAAAADAdkAAAAAAAMB2QAAAAAAAwHZAAAAAAADAdkAAAAAAAMB2QAAAAAAAwHZAAAAAAADAdkAAAAAAAMB2QAAAAAAAwHZAAAAAAADAdkAAAAAAAMB2QAAAAAAAwHZAAAAAAADAdkAAAAAAAMB2QAAAAAAAwHZAAAAAAADAdkAAAAAAAMB2QAAAAAAAwHZAAAAAAADAdkAAAAAAAMB2QAAAAAAAwHZAAAAAAADAdkAAAAAAAMB2QAAAAAAAwHZAAAAAAADAdkAAAAAAAMB2QAAAAAAAwHZAAAAAAADAdkAAAAAAAMB2QAAAAAAAwHZAAAAAAADAdkAAAAAAAMB2QAAAAAAAwHZAAAAAAADAdkAAAAAAAMB2QAAAAAAAwHZAAAAAAADAdkAAAAAAAMB2QAAAAAAAwHZAAAAAAADAdkAAAAAAAMB2QAAAAAAAwHZAAAAAAADAdkAAAAAAAMB2QAAAAAAAwHZAAAAAAADAdkAAAAAAAMB2QAAAAAAAwHZAAAAAAADAdkAAAAAAAMB2QAAAAAAAwHZAAAAAAADAdkAAAAAAAMB2QAAAAAAAwHZAAAAAAADAdkAAAAAAAMB2QAAAAAAAwHZAAAAAAADAdkAAAAAAAMB2QAAAAAAAwHZAAAAAAADAdkAAAAAAAMB2QAAAAAAAwHZAAAAAAADAdkAAAAAAAMB2QAAAAAAAwHZAAAAAAADAdkAAAAAAAMB2QAAAAAAAwHZAAAAAAADAdkAAAAAAAMB2QAAAAAAAwHZAAAAAAADAdkAAAAAAAMB2QAAAAAAAwHZAAAAAAADAdkAAAAAAAMB2QAAAAAAAwHZAAAAAAADAdkAAAAAAAMB2QAAAAAAAwHZAAAAAAADAdkAAAAAAAMB2QAAAAAAAwHZAAAAAAADAdkA=",
        "encoding": "base64",
        "path": [
         "_data",
         0,
         "y",
         "value"
        ]
       },
       {
        "data": "AAAAAAAAAAB7FK5H4XqEP3sUrkfhepQ/uB6F61G4nj97FK5H4XqkP5qZmZmZmak/uB6F61G4rj/sUbgeheuxP3sUrkfherQ/CtejcD0Ktz+amZmZmZm5Pylcj8L1KLw/uB6F61G4vj+kcD0K16PAP+xRuB6F68E/MzMzMzMzwz97FK5H4XrEP8P1KFyPwsU/CtejcD0Kxz9SuB6F61HIP5qZmZmZmck/4XoUrkfhyj8pXI/C9SjMP3E9CtejcM0/uB6F61G4zj8AAAAAAADQP6RwPQrXo9A/SOF6FK5H0T/sUbgehevRP4/C9Shcj9I/MzMzMzMz0z/Xo3A9CtfTP3sUrkfhetQ/H4XrUbge1T/D9Shcj8LVP2dmZmZmZtY/CtejcD0K1z+uR+F6FK7XP1K4HoXrUdg/9ihcj8L12D+amZmZmZnZPz4K16NwPdo/4XoUrkfh2j+F61G4HoXbPylcj8L1KNw/zczMzMzM3D9xPQrXo3DdPxWuR+F6FN4/uB6F61G43j9cj8L1KFzfPwAAAAAAAOA/UrgehetR4D+kcD0K16PgP/YoXI/C9eA/SOF6FK5H4T+amZmZmZnhP+xRuB6F6+E/PgrXo3A94j+PwvUoXI/iP+F6FK5H4eI/MzMzMzMz4z+F61G4HoXjP9ejcD0K1+M/KVyPwvUo5D97FK5H4XrkP83MzMzMzOQ/H4XrUbge5T9xPQrXo3DlP8P1KFyPwuU/Fa5H4XoU5j9nZmZmZmbmP7gehetRuOY/CtejcD0K5z9cj8L1KFznP65H4XoUruc/AAAAAAAA6D9SuB6F61HoP6RwPQrXo+g/9ihcj8L16D9I4XoUrkfpP5qZmZmZmek/7FG4HoXr6T8+CtejcD3qP5DC9Shcj+o/4XoUrkfh6j8zMzMzMzPrP4XrUbgehes/16NwPQrX6z8pXI/C9SjsP3sUrkfheuw/zczMzMzM7D8fhetRuB7tP3E9CtejcO0/w/UoXI/C7T8VrkfhehTuP2dmZmZmZu4/uB6F61G47j8K16NwPQrvP1yPwvUoXO8/rkfhehSu7z8=",
        "encoding": "base64",
        "path": [
         "_data",
         1,
         "x",
         "value"
        ]
       },
       {
        "data": "F/WcVbq6ZkA2iuYYHTBnQPKqDxju52ZA7lo54ZkmZ0D+PAIoa8NmQPkiUWrsGWdAZW1DFfypZkDi/mtK8hpnQLZywjP9lWZA/9C3NcArZ0AaFivCzvdmQHVPDFzNpmZAbnJdxrmAZkDoEUBZ26hmQJXkVR8wRGdAkGU3Hpz2ZkCamZmZmeFmQEIc2Siaq2ZAQI8AytoOZ0Ds/KhMGtZmQDUsVoSdf2ZAflQmDYslZ0AhjmwUzfFmQOLIRtEci2ZAyRCso81LZ0CC2iG9tOZmQIMJaof02mZAEXZ+VCbNZkAAZW1DFYxmQKAR2+uXS2ZAduPBaSLHZkBZEXZ+VK5mQLFYEXZ+VGZAT0KBRmz/ZkAJBRqxvaZmQPAdN7kuw2ZApcYeZgHxZkDgoNu1crJmQNx/TUle9WZA9ZxVusLwZkBIAGVtQw1nQNbR5n2Kc2ZA919Tkle1ZkCduicGruZmQB43uS7jnGZAG0VzjA4cZ0BAvkiUGhtnQF2XcS5+r2ZA4AVJ+YdGZkCPNu9TXMJmQJKNojlGN2ZA9/rlTkJRZ0Av41z83vFmQBB9WwO8GGdAcf81JXnNZkACw/3XlMRmQPwUlwzB2mZASZQae5i9ZkCW3XhwmpBmQOP3jptcF2dAWRF2flT2ZkDELCBfJMpmQAqZz74Sn2ZACy2FzGefZkC13gwmqM1mQLPl6dQ9kWZAAsP915TkZkA7PyqThp1mQK03gwlql2ZANMfoQIjDZkBUXDIE67BmQPM+xSVD2GZAZNmNB6fBZkBwNVueTg1nQBuq4M8jwGZAmWpRz1kNZ0AEIY5sFLVmQPSjMmlYnGZAQe2QXlrnZkB43OS6jMtmQICytqEKDmdAKAauZsurZkD9ciehQLNmQIUx1aKeI2dA8kWi1NirZkCuZsvTqWtmQBYrws6PAmdARN/WAC8oZ0CduicGrgZnQH2RKDX2kGZA1A7ppfVOZkAQGO6/ptRmQC/jXPze0WZAynUZ5+K3ZkCvlROe6d9mQO9TXDIEs2ZA24Yq+PMIZ0ACw/3XlCxmQOgRQFnb0GZAq6qqqqraZkA=",
        "encoding": "base64",
        "path": [
         "_data",
         1,
         "y",
         "value"
        ]
       },
       {
        "data": "AAAAAAAAAAB7FK5H4XqEP3sUrkfhepQ/uB6F61G4nj97FK5H4XqkP5qZmZmZmak/uB6F61G4rj/sUbgeheuxP3sUrkfherQ/CtejcD0Ktz+amZmZmZm5Pylcj8L1KLw/uB6F61G4vj+kcD0K16PAP+xRuB6F68E/MzMzMzMzwz97FK5H4XrEP8P1KFyPwsU/CtejcD0Kxz9SuB6F61HIP5qZmZmZmck/4XoUrkfhyj8pXI/C9SjMP3E9CtejcM0/uB6F61G4zj8AAAAAAADQP6RwPQrXo9A/SOF6FK5H0T/sUbgehevRP4/C9Shcj9I/MzMzMzMz0z/Xo3A9CtfTP3sUrkfhetQ/H4XrUbge1T/D9Shcj8LVP2dmZmZmZtY/CtejcD0K1z+uR+F6FK7XP1K4HoXrUdg/9ihcj8L12D+amZmZmZnZPz4K16NwPdo/4XoUrkfh2j+F61G4HoXbPylcj8L1KNw/zczMzMzM3D9xPQrXo3DdPxWuR+F6FN4/uB6F61G43j9cj8L1KFzfPwAAAAAAAOA/UrgehetR4D+kcD0K16PgP/YoXI/C9eA/SOF6FK5H4T+amZmZmZnhP+xRuB6F6+E/PgrXo3A94j+PwvUoXI/iP+F6FK5H4eI/MzMzMzMz4z+F61G4HoXjP9ejcD0K1+M/KVyPwvUo5D97FK5H4XrkP83MzMzMzOQ/H4XrUbge5T9xPQrXo3DlP8P1KFyPwuU/Fa5H4XoU5j9nZmZmZmbmP7gehetRuOY/CtejcD0K5z9cj8L1KFznP65H4XoUruc/AAAAAAAA6D9SuB6F61HoP6RwPQrXo+g/9ihcj8L16D9I4XoUrkfpP5qZmZmZmek/7FG4HoXr6T8+CtejcD3qP5DC9Shcj+o/4XoUrkfh6j8zMzMzMzPrP4XrUbgehes/16NwPQrX6z8pXI/C9SjsP3sUrkfheuw/zczMzMzM7D8fhetRuB7tP3E9CtejcO0/w/UoXI/C7T8VrkfhehTuP2dmZmZmZu4/uB6F61G47j8K16NwPQrvP1yPwvUoXO8/rkfhehSu7z8=",
        "encoding": "base64",
        "path": [
         "_data",
         2,
         "x",
         "value"
        ]
       },
       {
        "data": "AAAAAADAdkA8bnJdxvk1QFl248Fp4jxAN7ku41wcQkANwTravE9FQCzxFloKOUlA3wwmqB2yTEAnoUAjtrdPQLbXL3cSmlFARzaK5hgtU0CGlkLms69UQKw+YLj/ulVA09+g27UCV0BekJR/6DtYQA9OEzl8XFlAeQsthcxnWkCUGnuYBZRbQLr4veMmp1xAuWQI1tGmXUBWusKYaoFeQKi4ZAjWkV9AWH3AcP9NYEC4/5qSvMJgQDVbnk7dK2FAp4kcPpalYUARRzaK5ihiQN5CSyHziWJAXvUBw/0HY0B16p4YuIJjQD77SryF9mNAB0Ic2ShyZEBczZanU99kQG8GE9QOWWVA1mx5OnXXZUAUnulv0F1mQJ7pb9Dt6mZA6QpjqkVtZ0BfJEqNPexnQE54pr9Bf2hAuS7jXPwGaUCrDxjuv3ZpQHd3d3d372lAeKa/QbdTakAg+rYGeNlqQCvCzo/KVGtAMgTraPPWa0AeAZS1DV1sQGYB+SJR2mxAywnP9DdYbUDLpGGxIuRtQAQhjmwUfW5Anulv0O1Sb0CT6zLOxd9vQNG3NcALQnBAzvsUlwyJcEB9WwO8IO1wQMIz/Q26VXFAp+6JgavJcUBrUc9ZpR9yQPMPfVsDcHJAX1pvBhPMckAIp4kcPiZzQPmHvq0BbnNA/ahMGharc0AKNGJ7/Q50QMw4F793XHRAmv4G3a6hdEBTYw+zgOR0QJAvEqXGDnVALPEWWgo5dUAk5R/6tmJ1QH1bA7wgiXVAgnW0eZ++dUDe3d3d3d11QOz8qEwa8nVAD7OAfJEIdkB/HgGUtSF2QIJ1tHmfNnZA74mBq9lWdkDQI4CytnF2QIwOhDiygXZAkfnsK/GOdkCFzGdfiZd2QGLgarY8qXZAlX/o2xqwdkBJlBp7mLF2QCJYR5v3tXZAH2YB+SK9dkAJOz8qk752QAAAAAAAwHZAAAAAAADAdkAAAAAAAMB2QAAAAAAAwHZAAAAAAADAdkAAAAAAAMB2QAAAAAAAwHZAAAAAAADAdkAAAAAAAMB2QAAAAAAAwHZAAAAAAADAdkA=",
        "encoding": "base64",
        "path": [
         "_data",
         2,
         "y",
         "value"
        ]
       },
       {
        "data": "AAAAAAAAAAB7FK5H4XqEP3sUrkfhepQ/uB6F61G4nj97FK5H4XqkP5qZmZmZmak/uB6F61G4rj/sUbgeheuxP3sUrkfherQ/CtejcD0Ktz+amZmZmZm5Pylcj8L1KLw/uB6F61G4vj+kcD0K16PAP+xRuB6F68E/MzMzMzMzwz97FK5H4XrEP8P1KFyPwsU/CtejcD0Kxz9SuB6F61HIP5qZmZmZmck/4XoUrkfhyj8pXI/C9SjMP3E9CtejcM0/uB6F61G4zj8AAAAAAADQP6RwPQrXo9A/SOF6FK5H0T/sUbgehevRP4/C9Shcj9I/MzMzMzMz0z/Xo3A9CtfTP3sUrkfhetQ/H4XrUbge1T/D9Shcj8LVP2dmZmZmZtY/CtejcD0K1z+uR+F6FK7XP1K4HoXrUdg/9ihcj8L12D+amZmZmZnZPz4K16NwPdo/4XoUrkfh2j+F61G4HoXbPylcj8L1KNw/zczMzMzM3D9xPQrXo3DdPxWuR+F6FN4/uB6F61G43j9cj8L1KFzfPwAAAAAAAOA/UrgehetR4D+kcD0K16PgP/YoXI/C9eA/SOF6FK5H4T+amZmZmZnhP+xRuB6F6+E/PgrXo3A94j+PwvUoXI/iP+F6FK5H4eI/MzMzMzMz4z+F61G4HoXjP9ejcD0K1+M/KVyPwvUo5D97FK5H4XrkP83MzMzMzOQ/H4XrUbge5T9xPQrXo3DlP8P1KFyPwuU/Fa5H4XoU5j9nZmZmZmbmP7gehetRuOY/CtejcD0K5z9cj8L1KFznP65H4XoUruc/AAAAAAAA6D9SuB6F61HoP6RwPQrXo+g/9ihcj8L16D9I4XoUrkfpP5qZmZmZmek/7FG4HoXr6T8+CtejcD3qP5DC9Shcj+o/4XoUrkfh6j8zMzMzMzPrP4XrUbgehes/16NwPQrX6z8pXI/C9SjsP3sUrkfheuw/zczMzMzM7D8fhetRuB7tP3E9CtejcO0/w/UoXI/C7T8VrkfhehTuP2dmZmZmZu4/uB6F61G47j8K16NwPQrvP1yPwvUoXO8/rkfhehSu7z8=",
        "encoding": "base64",
        "path": [
         "_data",
         3,
         "x",
         "value"
        ]
       },
       {
        "data": "AAAAAADAdkDQ7Vo54Zn2P6Oes0pXGPs/oaWQ+ewrAUAfZgH5IlEGQCRKjT3MAgxAdxIKNGJ7EUB0IMSRjaIVQA+EOLJRNBpA83Tqnhg4IEDcGuAFSXkiQM/0N+h2rSRAoUAjttevKEBGotTYwywrQOAFSfmHPi5ArdIVxlTLMEDiyEbRHOMyQLj/mpK8KjdAEUc2iuYYO0CGlkLms687QLVDemm9GT5AqLhkCNZRQECRw8eyG89BQPaVeAst5UJA2cMsIF/kRECXQuazr+RGQGLgarY8/UdAowMhjmxUSUCJUmMPs6BMQPUBw/3XlE1AkV5abwbTT0AJOz8qk0ZQQE1JXvUBY1FATeTwsewGUkCoU/fEwPVTQDI6EOLI9lRA3Uko0IgtVkDHHmYB+WJXQOBqtjydqlhArNnydOo+WUCM3ztuci1aQGMPs4B80VtAZgH5IlEqXEC7Vk54pv9cQALD/deU1F5Abd6nuGQAYEAv41z83lFgQPDnEUBZS2FATnimv0HXYUCpTBoWK0JiQNREDh/LzmJADPdfU5LnY0ACKGsbqphkQJYTnulvqGVA/zUledVHZkB2flQmDatmQEC+SJQaa2dAREREREQsaEAqLhmCdRRpQJAvEqXGRmlARgdCHNlQakCayOFj2QVrQM77FJcMoWtA9KMyaVj8bEAQGO6/prRtQEBZ21AFr25Acl3Gufj9bkBlbUMV/GFxQEIc2Sias3FAowMhjmzgcUBguP+akpByQPWcVbrC0HJA3BrgBUl1c0Dc5LqMcx10QAkFGrG96nRA2rxPccmUdUCcJnL4WLJ1QIZgHW3ev3VATnimv0H/dUA/KpOGxRJ2QBuq4M8jIHZAKTX2MAs0dkAN8IKk/Ed2QLj/mpK8mnZAq3SFMdWadkDVBwz3X5t2QCPs/KhMnnZADrpdKyekdkCn7omBq6V2QAAAAAAAwHZAAAAAAADAdkAAAAAAAMB2QAAAAAAAwHZAAAAAAADAdkAAAAAAAMB2QAAAAAAAwHZAAAAAAADAdkAAAAAAAMB2QAAAAAAAwHZAAAAAAADAdkA=",
        "encoding": "base64",
        "path": [
         "_data",
         3,
         "y",
         "value"
        ]
       },
       {
        "data": "AAAAAAAAAAB7FK5H4XqEP3sUrkfhepQ/uB6F61G4nj97FK5H4XqkP5qZmZmZmak/uB6F61G4rj/sUbgeheuxP3sUrkfherQ/CtejcD0Ktz+amZmZmZm5Pylcj8L1KLw/uB6F61G4vj+kcD0K16PAP+xRuB6F68E/MzMzMzMzwz97FK5H4XrEP8P1KFyPwsU/CtejcD0Kxz9SuB6F61HIP5qZmZmZmck/4XoUrkfhyj8pXI/C9SjMP3E9CtejcM0/uB6F61G4zj8AAAAAAADQP6RwPQrXo9A/SOF6FK5H0T/sUbgehevRP4/C9Shcj9I/MzMzMzMz0z/Xo3A9CtfTP3sUrkfhetQ/H4XrUbge1T/D9Shcj8LVP2dmZmZmZtY/CtejcD0K1z+uR+F6FK7XP1K4HoXrUdg/9ihcj8L12D+amZmZmZnZPz4K16NwPdo/4XoUrkfh2j+F61G4HoXbPylcj8L1KNw/zczMzMzM3D9xPQrXo3DdPxWuR+F6FN4/uB6F61G43j9cj8L1KFzfPwAAAAAAAOA/UrgehetR4D+kcD0K16PgP/YoXI/C9eA/SOF6FK5H4T+amZmZmZnhP+xRuB6F6+E/PgrXo3A94j+PwvUoXI/iP+F6FK5H4eI/MzMzMzMz4z+F61G4HoXjP9ejcD0K1+M/KVyPwvUo5D97FK5H4XrkP83MzMzMzOQ/H4XrUbge5T9xPQrXo3DlP8P1KFyPwuU/Fa5H4XoU5j9nZmZmZmbmP7gehetRuOY/CtejcD0K5z9cj8L1KFznP65H4XoUruc/AAAAAAAA6D9SuB6F61HoP6RwPQrXo+g/9ihcj8L16D9I4XoUrkfpP5qZmZmZmek/7FG4HoXr6T8+CtejcD3qP5DC9Shcj+o/4XoUrkfh6j8zMzMzMzPrP4XrUbgehes/16NwPQrX6z8pXI/C9SjsP3sUrkfheuw/zczMzMzM7D8fhetRuB7tP3E9CtejcO0/w/UoXI/C7T8VrkfhehTuP2dmZmZmZu4/uB6F61G47j8K16NwPQrvP1yPwvUoXO8/rkfhehSu7z8=",
        "encoding": "base64",
        "path": [
         "_data",
         4,
         "x",
         "value"
        ]
       },
       {
        "data": "AAAAAADAdkBERERERMQ2QOAFSfmHvjxAxcDVbHk6QUAh89lX4i1EQCV51QcMl0ZAV7Pl6dSdSUB6BFDWNnRMQIpLhmAdrU9AL0jKP/QtUUCIIxtFc0xSQJg7CQUagVNAZpyL3zuOVEAyn30l3nJVQHWFMdWinlZAyRCso82LV0DD/deU5FVYQEK3a+WEV1lAWwO8ICmPWkCVf+jbGoBbQAk7PyqThlxAGCTlH/pWXUAt6jmrdEVeQNY2VMGfV19Ae5gF5Is0YEBOeKa/QZ9gQFKZNCxWFGFA8Ux/g26XYUBguP+akhRiQB0IcWSjcGJAmc++Em/JYkCrqqqqqhpjQJenU/fEcGNAHzDcf03ZY0CjaI7RgRhkQO6/piSvimRAVCYNixXZZECoU/fEwCVlQH7vuMl1YWVAWH3AcP+tZUDodq2c8OxlQLrCmGpRH2ZAPpbdeHBiZkCUGnuYBaRmQLQUMp995WZAa7Y8nbo3Z0Dodq2c8HxnQNZseTp1z2dAK11hTLUoaEDorNIVxlxoQI5sFM0xmmhAGkxQO6TPaEBSmTQsVgRpQBnn4veOS2lAmsjhY9mNaUD2y52EAuVpQPdfU5JXFWpAOqt0hTFNakA+lt14cJJqQCV51QcM52pAaiKHj2U3a0AQGO6/pnxrQPM+xSVDuGtAzczMzMz0a0AkG0VzjC5sQBERERERYWxAbEryqg+YbECwxFtoKdRsQDNpWKwIC21Av3fc5LpUbUA0Ynv9cndtQMo/9G0NoG1AEOLIRtHUbUCcJnL4WA5uQNbR5n2KQ25ALIypFvVsbkDhmf4G3Z5uQLr4veMmx25Ah49lNx70bkDGufi94xZvQAO8ICn/QG9AoEcAZW1jb0A1W55O3YtvQFxoKWQ+s29AffaVeAvVb0CY1pvBBPVvQIm30FLIDHBAUaAR2+sbcECCdbR5nypwQDWRw8eyM3BA1wAvSMpDcEBzwjP9DU5wQPuA4f5rWnBA/BSXDMFicEBk2Y0Hp2lwQJ+zSlcYc3BAPswC8kV+cECgEdvrl4dwQOGZ/gbdknBAdLtWTniecEA=",
        "encoding": "base64",
        "path": [
         "_data",
         4,
         "y",
         "value"
        ]
       }
      ],
      "model_module": "plotlywidget",
      "model_module_version": "^4.8.0",
      "model_name": "FigureModel",
      "state": {
       "_config": {
        "plotlyServerURL": "https://plot.ly"
       },
       "_data": [
        {
         "name": "Holding",
         "showlegend": true,
         "type": "scatter",
         "uid": "03f06da3-7da9-4588-97cc-886d0bfff182",
         "x": {
          "dtype": "float64",
          "shape": [
           100
          ]
         },
         "y": {
          "dtype": "float64",
          "shape": [
           100
          ]
         }
        },
        {
         "name": "Random",
         "showlegend": true,
         "type": "scatter",
         "uid": "ef4bc3e7-77c2-4721-af2c-74ba5b49a0a7",
         "x": {
          "dtype": "float64",
          "shape": [
           100
          ]
         },
         "y": {
          "dtype": "float64",
          "shape": [
           100
          ]
         }
        },
        {
         "name": "Stop Loss",
         "showlegend": true,
         "type": "scatter",
         "uid": "bdc2a8ec-c20d-4fd5-aeeb-dd8313add463",
         "x": {
          "dtype": "float64",
          "shape": [
           100
          ]
         },
         "y": {
          "dtype": "float64",
          "shape": [
           100
          ]
         }
        },
        {
         "name": "Trailing Stop",
         "showlegend": true,
         "type": "scatter",
         "uid": "393af568-6518-4747-8bcb-dedafee324a0",
         "x": {
          "dtype": "float64",
          "shape": [
           100
          ]
         },
         "y": {
          "dtype": "float64",
          "shape": [
           100
          ]
         }
        },
        {
         "name": "Take Profit",
         "showlegend": true,
         "type": "scatter",
         "uid": "a82aafac-b0d7-4993-858c-9e0de52283c9",
         "x": {
          "dtype": "float64",
          "shape": [
           100
          ]
         },
         "y": {
          "dtype": "float64",
          "shape": [
           100
          ]
         }
        }
       ],
       "_js2py_layoutDelta": {},
       "_js2py_pointsCallback": {},
       "_js2py_relayout": {},
       "_js2py_restyle": {},
       "_js2py_traceDeltas": {},
       "_js2py_update": {},
       "_last_layout_edit_id": 8,
       "_last_trace_edit_id": 8,
       "_layout": {
        "autosize": false,
        "colorway": [
         "#1f77b4",
         "#ff7f0e",
         "#2ca02c",
         "#dc3912",
         "#9467bd",
         "#8c564b",
         "#e377c2",
         "#7f7f7f",
         "#bcbd22",
         "#17becf"
        ],
        "height": 300,
        "hovermode": "closest",
        "margin": {
         "b": 30,
         "t": 30
        },
        "template": {
         "data": {
          "bar": [
           {
            "error_x": {
             "color": "#2a3f5f"
            },
            "error_y": {
             "color": "#2a3f5f"
            },
            "marker": {
             "line": {
              "color": "#E5ECF6",
              "width": 0.5
             }
            },
            "type": "bar"
           }
          ],
          "barpolar": [
           {
            "marker": {
             "line": {
              "color": "#E5ECF6",
              "width": 0.5
             }
            },
            "type": "barpolar"
           }
          ],
          "carpet": [
           {
            "aaxis": {
             "endlinecolor": "#2a3f5f",
             "gridcolor": "white",
             "linecolor": "white",
             "minorgridcolor": "white",
             "startlinecolor": "#2a3f5f"
            },
            "baxis": {
             "endlinecolor": "#2a3f5f",
             "gridcolor": "white",
             "linecolor": "white",
             "minorgridcolor": "white",
             "startlinecolor": "#2a3f5f"
            },
            "type": "carpet"
           }
          ],
          "choropleth": [
           {
            "colorbar": {
             "outlinewidth": 0,
             "ticks": ""
            },
            "type": "choropleth"
           }
          ],
          "contour": [
           {
            "colorbar": {
             "outlinewidth": 0,
             "ticks": ""
            },
            "colorscale": [
             [
              0,
              "#0d0887"
             ],
             [
              0.1111111111111111,
              "#46039f"
             ],
             [
              0.2222222222222222,
              "#7201a8"
             ],
             [
              0.3333333333333333,
              "#9c179e"
             ],
             [
              0.4444444444444444,
              "#bd3786"
             ],
             [
              0.5555555555555556,
              "#d8576b"
             ],
             [
              0.6666666666666666,
              "#ed7953"
             ],
             [
              0.7777777777777778,
              "#fb9f3a"
             ],
             [
              0.8888888888888888,
              "#fdca26"
             ],
             [
              1,
              "#f0f921"
             ]
            ],
            "type": "contour"
           }
          ],
          "contourcarpet": [
           {
            "colorbar": {
             "outlinewidth": 0,
             "ticks": ""
            },
            "type": "contourcarpet"
           }
          ],
          "heatmap": [
           {
            "colorbar": {
             "outlinewidth": 0,
             "ticks": ""
            },
            "colorscale": [
             [
              0,
              "#0d0887"
             ],
             [
              0.1111111111111111,
              "#46039f"
             ],
             [
              0.2222222222222222,
              "#7201a8"
             ],
             [
              0.3333333333333333,
              "#9c179e"
             ],
             [
              0.4444444444444444,
              "#bd3786"
             ],
             [
              0.5555555555555556,
              "#d8576b"
             ],
             [
              0.6666666666666666,
              "#ed7953"
             ],
             [
              0.7777777777777778,
              "#fb9f3a"
             ],
             [
              0.8888888888888888,
              "#fdca26"
             ],
             [
              1,
              "#f0f921"
             ]
            ],
            "type": "heatmap"
           }
          ],
          "heatmapgl": [
           {
            "colorbar": {
             "outlinewidth": 0,
             "ticks": ""
            },
            "colorscale": [
             [
              0,
              "#0d0887"
             ],
             [
              0.1111111111111111,
              "#46039f"
             ],
             [
              0.2222222222222222,
              "#7201a8"
             ],
             [
              0.3333333333333333,
              "#9c179e"
             ],
             [
              0.4444444444444444,
              "#bd3786"
             ],
             [
              0.5555555555555556,
              "#d8576b"
             ],
             [
              0.6666666666666666,
              "#ed7953"
             ],
             [
              0.7777777777777778,
              "#fb9f3a"
             ],
             [
              0.8888888888888888,
              "#fdca26"
             ],
             [
              1,
              "#f0f921"
             ]
            ],
            "type": "heatmapgl"
           }
          ],
          "histogram": [
           {
            "marker": {
             "colorbar": {
              "outlinewidth": 0,
              "ticks": ""
             }
            },
            "type": "histogram"
           }
          ],
          "histogram2d": [
           {
            "colorbar": {
             "outlinewidth": 0,
             "ticks": ""
            },
            "colorscale": [
             [
              0,
              "#0d0887"
             ],
             [
              0.1111111111111111,
              "#46039f"
             ],
             [
              0.2222222222222222,
              "#7201a8"
             ],
             [
              0.3333333333333333,
              "#9c179e"
             ],
             [
              0.4444444444444444,
              "#bd3786"
             ],
             [
              0.5555555555555556,
              "#d8576b"
             ],
             [
              0.6666666666666666,
              "#ed7953"
             ],
             [
              0.7777777777777778,
              "#fb9f3a"
             ],
             [
              0.8888888888888888,
              "#fdca26"
             ],
             [
              1,
              "#f0f921"
             ]
            ],
            "type": "histogram2d"
           }
          ],
          "histogram2dcontour": [
           {
            "colorbar": {
             "outlinewidth": 0,
             "ticks": ""
            },
            "colorscale": [
             [
              0,
              "#0d0887"
             ],
             [
              0.1111111111111111,
              "#46039f"
             ],
             [
              0.2222222222222222,
              "#7201a8"
             ],
             [
              0.3333333333333333,
              "#9c179e"
             ],
             [
              0.4444444444444444,
              "#bd3786"
             ],
             [
              0.5555555555555556,
              "#d8576b"
             ],
             [
              0.6666666666666666,
              "#ed7953"
             ],
             [
              0.7777777777777778,
              "#fb9f3a"
             ],
             [
              0.8888888888888888,
              "#fdca26"
             ],
             [
              1,
              "#f0f921"
             ]
            ],
            "type": "histogram2dcontour"
           }
          ],
          "mesh3d": [
           {
            "colorbar": {
             "outlinewidth": 0,
             "ticks": ""
            },
            "type": "mesh3d"
           }
          ],
          "parcoords": [
           {
            "line": {
             "colorbar": {
              "outlinewidth": 0,
              "ticks": ""
             }
            },
            "type": "parcoords"
           }
          ],
          "pie": [
           {
            "automargin": true,
            "type": "pie"
           }
          ],
          "scatter": [
           {
            "marker": {
             "colorbar": {
              "outlinewidth": 0,
              "ticks": ""
             }
            },
            "type": "scatter"
           }
          ],
          "scatter3d": [
           {
            "line": {
             "colorbar": {
              "outlinewidth": 0,
              "ticks": ""
             }
            },
            "marker": {
             "colorbar": {
              "outlinewidth": 0,
              "ticks": ""
             }
            },
            "type": "scatter3d"
           }
          ],
          "scattercarpet": [
           {
            "marker": {
             "colorbar": {
              "outlinewidth": 0,
              "ticks": ""
             }
            },
            "type": "scattercarpet"
           }
          ],
          "scattergeo": [
           {
            "marker": {
             "colorbar": {
              "outlinewidth": 0,
              "ticks": ""
             }
            },
            "type": "scattergeo"
           }
          ],
          "scattergl": [
           {
            "marker": {
             "colorbar": {
              "outlinewidth": 0,
              "ticks": ""
             }
            },
            "type": "scattergl"
           }
          ],
          "scattermapbox": [
           {
            "marker": {
             "colorbar": {
              "outlinewidth": 0,
              "ticks": ""
             }
            },
            "type": "scattermapbox"
           }
          ],
          "scatterpolar": [
           {
            "marker": {
             "colorbar": {
              "outlinewidth": 0,
              "ticks": ""
             }
            },
            "type": "scatterpolar"
           }
          ],
          "scatterpolargl": [
           {
            "marker": {
             "colorbar": {
              "outlinewidth": 0,
              "ticks": ""
             }
            },
            "type": "scatterpolargl"
           }
          ],
          "scatterternary": [
           {
            "marker": {
             "colorbar": {
              "outlinewidth": 0,
              "ticks": ""
             }
            },
            "type": "scatterternary"
           }
          ],
          "surface": [
           {
            "colorbar": {
             "outlinewidth": 0,
             "ticks": ""
            },
            "colorscale": [
             [
              0,
              "#0d0887"
             ],
             [
              0.1111111111111111,
              "#46039f"
             ],
             [
              0.2222222222222222,
              "#7201a8"
             ],
             [
              0.3333333333333333,
              "#9c179e"
             ],
             [
              0.4444444444444444,
              "#bd3786"
             ],
             [
              0.5555555555555556,
              "#d8576b"
             ],
             [
              0.6666666666666666,
              "#ed7953"
             ],
             [
              0.7777777777777778,
              "#fb9f3a"
             ],
             [
              0.8888888888888888,
              "#fdca26"
             ],
             [
              1,
              "#f0f921"
             ]
            ],
            "type": "surface"
           }
          ],
          "table": [
           {
            "cells": {
             "fill": {
              "color": "#EBF0F8"
             },
             "line": {
              "color": "white"
             }
            },
            "header": {
             "fill": {
              "color": "#C8D4E3"
             },
             "line": {
              "color": "white"
             }
            },
            "type": "table"
           }
          ]
         },
         "layout": {
          "annotationdefaults": {
           "arrowcolor": "#2a3f5f",
           "arrowhead": 0,
           "arrowwidth": 1
          },
          "coloraxis": {
           "colorbar": {
            "outlinewidth": 0,
            "ticks": ""
           }
          },
          "colorscale": {
           "diverging": [
            [
             0,
             "#8e0152"
            ],
            [
             0.1,
             "#c51b7d"
            ],
            [
             0.2,
             "#de77ae"
            ],
            [
             0.3,
             "#f1b6da"
            ],
            [
             0.4,
             "#fde0ef"
            ],
            [
             0.5,
             "#f7f7f7"
            ],
            [
             0.6,
             "#e6f5d0"
            ],
            [
             0.7,
             "#b8e186"
            ],
            [
             0.8,
             "#7fbc41"
            ],
            [
             0.9,
             "#4d9221"
            ],
            [
             1,
             "#276419"
            ]
           ],
           "sequential": [
            [
             0,
             "#0d0887"
            ],
            [
             0.1111111111111111,
             "#46039f"
            ],
            [
             0.2222222222222222,
             "#7201a8"
            ],
            [
             0.3333333333333333,
             "#9c179e"
            ],
            [
             0.4444444444444444,
             "#bd3786"
            ],
            [
             0.5555555555555556,
             "#d8576b"
            ],
            [
             0.6666666666666666,
             "#ed7953"
            ],
            [
             0.7777777777777778,
             "#fb9f3a"
            ],
            [
             0.8888888888888888,
             "#fdca26"
            ],
            [
             1,
             "#f0f921"
            ]
           ],
           "sequentialminus": [
            [
             0,
             "#0d0887"
            ],
            [
             0.1111111111111111,
             "#46039f"
            ],
            [
             0.2222222222222222,
             "#7201a8"
            ],
            [
             0.3333333333333333,
             "#9c179e"
            ],
            [
             0.4444444444444444,
             "#bd3786"
            ],
            [
             0.5555555555555556,
             "#d8576b"
            ],
            [
             0.6666666666666666,
             "#ed7953"
            ],
            [
             0.7777777777777778,
             "#fb9f3a"
            ],
            [
             0.8888888888888888,
             "#fdca26"
            ],
            [
             1,
             "#f0f921"
            ]
           ]
          },
          "colorway": [
           "#636efa",
           "#EF553B",
           "#00cc96",
           "#ab63fa",
           "#FFA15A",
           "#19d3f3",
           "#FF6692",
           "#B6E880",
           "#FF97FF",
           "#FECB52"
          ],
          "font": {
           "color": "#2a3f5f"
          },
          "geo": {
           "bgcolor": "white",
           "lakecolor": "white",
           "landcolor": "#E5ECF6",
           "showlakes": true,
           "showland": true,
           "subunitcolor": "white"
          },
          "hoverlabel": {
           "align": "left"
          },
          "hovermode": "closest",
          "mapbox": {
           "style": "light"
          },
          "paper_bgcolor": "white",
          "plot_bgcolor": "#E5ECF6",
          "polar": {
           "angularaxis": {
            "gridcolor": "white",
            "linecolor": "white",
            "ticks": ""
           },
           "bgcolor": "#E5ECF6",
           "radialaxis": {
            "gridcolor": "white",
            "linecolor": "white",
            "ticks": ""
           }
          },
          "scene": {
           "xaxis": {
            "backgroundcolor": "#E5ECF6",
            "gridcolor": "white",
            "gridwidth": 2,
            "linecolor": "white",
            "showbackground": true,
            "ticks": "",
            "zerolinecolor": "white"
           },
           "yaxis": {
            "backgroundcolor": "#E5ECF6",
            "gridcolor": "white",
            "gridwidth": 2,
            "linecolor": "white",
            "showbackground": true,
            "ticks": "",
            "zerolinecolor": "white"
           },
           "zaxis": {
            "backgroundcolor": "#E5ECF6",
            "gridcolor": "white",
            "gridwidth": 2,
            "linecolor": "white",
            "showbackground": true,
            "ticks": "",
            "zerolinecolor": "white"
           }
          },
          "shapedefaults": {
           "line": {
            "color": "#2a3f5f"
           }
          },
          "ternary": {
           "aaxis": {
            "gridcolor": "white",
            "linecolor": "white",
            "ticks": ""
           },
           "baxis": {
            "gridcolor": "white",
            "linecolor": "white",
            "ticks": ""
           },
           "bgcolor": "#E5ECF6",
           "caxis": {
            "gridcolor": "white",
            "linecolor": "white",
            "ticks": ""
           }
          },
          "title": {
           "x": 0.05
          },
          "xaxis": {
           "automargin": true,
           "gridcolor": "white",
           "linecolor": "white",
           "ticks": "",
           "title": {
            "standoff": 15
           },
           "zerolinecolor": "white",
           "zerolinewidth": 2
          },
          "yaxis": {
           "automargin": true,
           "gridcolor": "white",
           "linecolor": "white",
           "ticks": "",
           "title": {
            "standoff": 15
           },
           "zerolinecolor": "white",
           "zerolinewidth": 2
          }
         }
        },
        "width": 700,
        "xaxis": {
         "title": {
          "text": "Stop value"
         }
        },
        "yaxis": {
         "title": {
          "text": "Avg distance to entry (in days)"
         }
        }
       },
       "_model_module_version": "^4.8.0",
       "_py2js_animate": {},
       "_py2js_deleteTraces": {},
       "_py2js_moveTraces": {},
       "_py2js_removeLayoutProps": {},
       "_py2js_removeTraceProps": {},
       "_py2js_restyle": {},
       "_view_count": 0,
       "_view_module_version": "^4.8.0"
      }
     },
     "7eb4387cf736448bba708d79ff953692": {
      "model_module": "@jupyter-widgets/base",
      "model_module_version": "1.2.0",
      "model_name": "LayoutModel",
      "state": {}
     },
     "7eca84feb4de4af484285e11ff3df944": {
      "model_module": "@jupyter-widgets/controls",
      "model_module_version": "1.5.0",
      "model_name": "DescriptionStyleModel",
      "state": {
       "description_width": ""
      }
     },
     "8972f66b7fbb4f9aba59135a19e9cd3d": {
      "model_module": "@jupyter-widgets/base",
      "model_module_version": "1.2.0",
      "model_name": "LayoutModel",
      "state": {}
     },
     "8c82f5a7311047c8b8221b70572bb375": {
      "model_module": "@jupyter-widgets/controls",
      "model_module_version": "1.5.0",
      "model_name": "DescriptionStyleModel",
      "state": {
       "description_width": ""
      }
     },
     "931ded03ed5e479c8cbcba9326a05197": {
      "model_module": "@jupyter-widgets/base",
      "model_module_version": "1.2.0",
      "model_name": "LayoutModel",
      "state": {}
     },
     "93bfeea73a7b49c3bf8186805ae5d85d": {
      "model_module": "@jupyter-widgets/base",
      "model_module_version": "1.2.0",
      "model_name": "LayoutModel",
      "state": {}
     },
     "9af5b978ffc34675af53278efdcc1b71": {
      "model_module": "@jupyter-widgets/controls",
      "model_module_version": "1.5.0",
      "model_name": "HBoxModel",
      "state": {
       "children": [
        "IPY_MODEL_49acbf832295413bacc1447060cef4a5",
        "IPY_MODEL_39f2d0327725457a85159b2d9a36fe5d",
        "IPY_MODEL_3eeb5e7fad4648eeb27610a9dd01cc84"
       ],
       "layout": "IPY_MODEL_61c35c0581ba486590795e2e438dfc1b"
      }
     },
     "a10e5dc5c30c496bba8d311a6ceba7c6": {
      "model_module": "@jupyter-widgets/base",
      "model_module_version": "1.2.0",
      "model_name": "LayoutModel",
      "state": {}
     },
     "af57c44bcdf14281b34aa52da534cd2d": {
      "buffers": [
       {
        "data": "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",
        "encoding": "base64",
        "path": [
         "value"
        ]
       }
      ],
      "model_module": "@jupyter-widgets/controls",
      "model_module_version": "1.5.0",
      "model_name": "ImageModel",
      "state": {
       "height": "300",
       "layout": "IPY_MODEL_f969cda7432d4fa89d7d34706b508b8e",
       "width": "700"
      }
     },
     "bf3e55e832914d4491d5c6cb6445f8a1": {
      "model_module": "@jupyter-widgets/base",
      "model_module_version": "1.2.0",
      "model_name": "LayoutModel",
      "state": {}
     },
     "c14b7a4c4dfe4db9b59b329c1feeafc7": {
      "model_module": "@jupyter-widgets/controls",
      "model_module_version": "1.5.0",
      "model_name": "LabelModel",
      "state": {
       "layout": "IPY_MODEL_931ded03ed5e479c8cbcba9326a05197",
       "style": "IPY_MODEL_8c82f5a7311047c8b8221b70572bb375",
       "value": "Trend:"
      }
     },
     "c5ac5373325648bcb9988bb1e03fb727": {
      "buffers": [
       {
        "data": "AAAAAAAAAAB7FK5H4XqEP3sUrkfhepQ/uB6F61G4nj97FK5H4XqkP5qZmZmZmak/uB6F61G4rj/sUbgeheuxP3sUrkfherQ/CtejcD0Ktz+amZmZmZm5Pylcj8L1KLw/uB6F61G4vj+kcD0K16PAP+xRuB6F68E/MzMzMzMzwz97FK5H4XrEP8P1KFyPwsU/CtejcD0Kxz9SuB6F61HIP5qZmZmZmck/4XoUrkfhyj8pXI/C9SjMP3E9CtejcM0/uB6F61G4zj8AAAAAAADQP6RwPQrXo9A/SOF6FK5H0T/sUbgehevRP4/C9Shcj9I/MzMzMzMz0z/Xo3A9CtfTP3sUrkfhetQ/H4XrUbge1T/D9Shcj8LVP2dmZmZmZtY/CtejcD0K1z+uR+F6FK7XP1K4HoXrUdg/9ihcj8L12D+amZmZmZnZPz4K16NwPdo/4XoUrkfh2j+F61G4HoXbPylcj8L1KNw/zczMzMzM3D9xPQrXo3DdPxWuR+F6FN4/uB6F61G43j9cj8L1KFzfPwAAAAAAAOA/UrgehetR4D+kcD0K16PgP/YoXI/C9eA/SOF6FK5H4T+amZmZmZnhP+xRuB6F6+E/PgrXo3A94j+PwvUoXI/iP+F6FK5H4eI/MzMzMzMz4z+F61G4HoXjP9ejcD0K1+M/KVyPwvUo5D97FK5H4XrkP83MzMzMzOQ/H4XrUbge5T9xPQrXo3DlP8P1KFyPwuU/Fa5H4XoU5j9nZmZmZmbmP7gehetRuOY/CtejcD0K5z9cj8L1KFznP65H4XoUruc/AAAAAAAA6D9SuB6F61HoP6RwPQrXo+g/9ihcj8L16D9I4XoUrkfpP5qZmZmZmek/7FG4HoXr6T8+CtejcD3qP5DC9Shcj+o/4XoUrkfh6j8zMzMzMzPrP4XrUbgehes/16NwPQrX6z8pXI/C9SjsP3sUrkfheuw/zczMzMzM7D8fhetRuB7tP3E9CtejcO0/w/UoXI/C7T8VrkfhehTuP2dmZmZmZu4/uB6F61G47j8K16NwPQrvP1yPwvUoXO8/rkfhehSu7z8=",
        "encoding": "base64",
        "path": [
         "_data",
         0,
         "x",
         "value"
        ]
       },
       {
        "data": "mCUGoaryuD+YJQahqvK4P5glBqGq8rg/mCUGoaryuD+YJQahqvK4P5glBqGq8rg/mCUGoaryuD+YJQahqvK4P5glBqGq8rg/mCUGoaryuD+YJQahqvK4P5glBqGq8rg/mCUGoaryuD+YJQahqvK4P5glBqGq8rg/mCUGoaryuD+YJQahqvK4P5glBqGq8rg/mCUGoaryuD+YJQahqvK4P5glBqGq8rg/mCUGoaryuD+YJQahqvK4P5glBqGq8rg/mCUGoaryuD+YJQahqvK4P5glBqGq8rg/mCUGoaryuD+YJQahqvK4P5glBqGq8rg/mCUGoaryuD+YJQahqvK4P5glBqGq8rg/mCUGoaryuD+YJQahqvK4P5glBqGq8rg/mCUGoaryuD+YJQahqvK4P5glBqGq8rg/mCUGoaryuD+YJQahqvK4P5glBqGq8rg/mCUGoaryuD+YJQahqvK4P5glBqGq8rg/mCUGoaryuD+YJQahqvK4P5glBqGq8rg/mCUGoaryuD+YJQahqvK4P5glBqGq8rg/mCUGoaryuD+YJQahqvK4P5glBqGq8rg/mCUGoaryuD+YJQahqvK4P5glBqGq8rg/mCUGoaryuD+YJQahqvK4P5glBqGq8rg/mCUGoaryuD+YJQahqvK4P5glBqGq8rg/mCUGoaryuD+YJQahqvK4P5glBqGq8rg/mCUGoaryuD+YJQahqvK4P5glBqGq8rg/mCUGoaryuD+YJQahqvK4P5glBqGq8rg/mCUGoaryuD+YJQahqvK4P5glBqGq8rg/mCUGoaryuD+YJQahqvK4P5glBqGq8rg/mCUGoaryuD+YJQahqvK4P5glBqGq8rg/mCUGoaryuD+YJQahqvK4P5glBqGq8rg/mCUGoaryuD+YJQahqvK4P5glBqGq8rg/mCUGoaryuD+YJQahqvK4P5glBqGq8rg/mCUGoaryuD+YJQahqvK4P5glBqGq8rg/mCUGoaryuD+YJQahqvK4P5glBqGq8rg/mCUGoaryuD+YJQahqvK4P5glBqGq8rg/mCUGoaryuD8=",
        "encoding": "base64",
        "path": [
         "_data",
         0,
         "y",
         "value"
        ]
       },
       {
        "data": "AAAAAAAAAAB7FK5H4XqEP3sUrkfhepQ/uB6F61G4nj97FK5H4XqkP5qZmZmZmak/uB6F61G4rj/sUbgeheuxP3sUrkfherQ/CtejcD0Ktz+amZmZmZm5Pylcj8L1KLw/uB6F61G4vj+kcD0K16PAP+xRuB6F68E/MzMzMzMzwz97FK5H4XrEP8P1KFyPwsU/CtejcD0Kxz9SuB6F61HIP5qZmZmZmck/4XoUrkfhyj8pXI/C9SjMP3E9CtejcM0/uB6F61G4zj8AAAAAAADQP6RwPQrXo9A/SOF6FK5H0T/sUbgehevRP4/C9Shcj9I/MzMzMzMz0z/Xo3A9CtfTP3sUrkfhetQ/H4XrUbge1T/D9Shcj8LVP2dmZmZmZtY/CtejcD0K1z+uR+F6FK7XP1K4HoXrUdg/9ihcj8L12D+amZmZmZnZPz4K16NwPdo/4XoUrkfh2j+F61G4HoXbPylcj8L1KNw/zczMzMzM3D9xPQrXo3DdPxWuR+F6FN4/uB6F61G43j9cj8L1KFzfPwAAAAAAAOA/UrgehetR4D+kcD0K16PgP/YoXI/C9eA/SOF6FK5H4T+amZmZmZnhP+xRuB6F6+E/PgrXo3A94j+PwvUoXI/iP+F6FK5H4eI/MzMzMzMz4z+F61G4HoXjP9ejcD0K1+M/KVyPwvUo5D97FK5H4XrkP83MzMzMzOQ/H4XrUbge5T9xPQrXo3DlP8P1KFyPwuU/Fa5H4XoU5j9nZmZmZmbmP7gehetRuOY/CtejcD0K5z9cj8L1KFznP65H4XoUruc/AAAAAAAA6D9SuB6F61HoP6RwPQrXo+g/9ihcj8L16D9I4XoUrkfpP5qZmZmZmek/7FG4HoXr6T8+CtejcD3qP5DC9Shcj+o/4XoUrkfh6j8zMzMzMzPrP4XrUbgehes/16NwPQrX6z8pXI/C9SjsP3sUrkfheuw/zczMzMzM7D8fhetRuB7tP3E9CtejcO0/w/UoXI/C7T8VrkfhehTuP2dmZmZmZu4/uB6F61G47j8K16NwPQrvP1yPwvUoXO8/rkfhehSu7z8=",
        "encoding": "base64",
        "path": [
         "_data",
         1,
         "x",
         "value"
        ]
       },
       {
        "data": "kpH6psoJwT/QM7s1Ye3BPwc42i8hQMA/xUOf2stUwT/OwsqhguvBP5Gi2fb/w8A//bu4yZI4wD+Jk1zdQ4O+P/VYhAP9zsA/EiBf02rkvD8p8fembm/APxhCBtQ7lr0/nW44RzowwT/neMYM77nAP7dCynqFz8A/h5EKvVtNwT8THZp2VXu9P9CBRnBaBsA/npV9KQtzwT/IzG2kSrvAP/i15/32dcA/JdmxeMvjwT+HNltgM4XAP5Ul+DsbMsI/UxVHBbGGwD8y15hGM37APyOqNlbokME/r+VjU7EmwD9f8kyYWzG/P7YNjk8sxsA/qf7n5RCdwD/BM9GFr1m/P3oVQ3vbJ8A/LO7DvxTSwD8LwY+KHOXAP+T7dxGDlb4/zrYe3UF6wT++2uPKacHAP7WslyxwsMA/ntlbgAcEwT+FoWx3Ze7AP5efU8TY3b4/ExElUfGjwD9Yp18BE2XAP6HmrBh8Er8/TT2oC5Q6wD+NdVuli+rBP9Dkon3X8sE/88Mch/UJvz+/7Nb9Cba/PzqPoMoHOsA/f8ft73glvz/6rZ36lc3APyp4ZBZLZ8E/2JdoDyQVwT8Gc9g3+yfBP1s1598HAsA/PbWAw0AQwT8NRrLbNbm/P+W+baUC1r8/cwe6nX7Zvz8Pe1/6PnDAP/cqU8Jbqb8/Etg3IdVevT+DwLADOx3CP0wJ0px2XcA/IOiUBhkavj8QrhpgpmzBP95KGpCsNL8/0JXqu0AjwD+a+uRpxGu/P371/cAepsE/sJS4TDK6wD/nunOko/i+P7GZSo4u2MA/XydgOK5qwT8pmjuNVI/AP51QEsv7IME/wW7Z0LfYvj9mwtzlX5LCPzEw6lB4MME/EvsWw5MWwj/bPT/3XCq+P8ZZOoOu178/CGOYKEubvT9y0qkLuI3AP9Yfb4SuEcE/2fghvDXVvz/e9Fey/Ti+P08rarqsNMA/M/pX0E8ZwT8rJ4EdZSXBPxOTwRxFEsA/gFUlpqKGvD/IgmJSnoDBPw79nVoJ3sE/2qodM0WnwD/Wp+NxpFjBP0Pfua5VFr8/TIHr/lLavz8=",
        "encoding": "base64",
        "path": [
         "_data",
         1,
         "y",
         "value"
        ]
       },
       {
        "data": "AAAAAAAAAAB7FK5H4XqEP3sUrkfhepQ/uB6F61G4nj97FK5H4XqkP5qZmZmZmak/uB6F61G4rj/sUbgeheuxP3sUrkfherQ/CtejcD0Ktz+amZmZmZm5Pylcj8L1KLw/uB6F61G4vj+kcD0K16PAP+xRuB6F68E/MzMzMzMzwz97FK5H4XrEP8P1KFyPwsU/CtejcD0Kxz9SuB6F61HIP5qZmZmZmck/4XoUrkfhyj8pXI/C9SjMP3E9CtejcM0/uB6F61G4zj8AAAAAAADQP6RwPQrXo9A/SOF6FK5H0T/sUbgehevRP4/C9Shcj9I/MzMzMzMz0z/Xo3A9CtfTP3sUrkfhetQ/H4XrUbge1T/D9Shcj8LVP2dmZmZmZtY/CtejcD0K1z+uR+F6FK7XP1K4HoXrUdg/9ihcj8L12D+amZmZmZnZPz4K16NwPdo/4XoUrkfh2j+F61G4HoXbPylcj8L1KNw/zczMzMzM3D9xPQrXo3DdPxWuR+F6FN4/uB6F61G43j9cj8L1KFzfPwAAAAAAAOA/UrgehetR4D+kcD0K16PgP/YoXI/C9eA/SOF6FK5H4T+amZmZmZnhP+xRuB6F6+E/PgrXo3A94j+PwvUoXI/iP+F6FK5H4eI/MzMzMzMz4z+F61G4HoXjP9ejcD0K1+M/KVyPwvUo5D97FK5H4XrkP83MzMzMzOQ/H4XrUbge5T9xPQrXo3DlP8P1KFyPwuU/Fa5H4XoU5j9nZmZmZmbmP7gehetRuOY/CtejcD0K5z9cj8L1KFznP65H4XoUruc/AAAAAAAA6D9SuB6F61HoP6RwPQrXo+g/9ihcj8L16D9I4XoUrkfpP5qZmZmZmek/7FG4HoXr6T8+CtejcD3qP5DC9Shcj+o/4XoUrkfh6j8zMzMzMzPrP4XrUbgehes/16NwPQrX6z8pXI/C9SjsP3sUrkfheuw/zczMzMzM7D8fhetRuB7tP3E9CtejcO0/w/UoXI/C7T8VrkfhehTuP2dmZmZmZu4/uB6F61G47j8K16NwPQrvP1yPwvUoXO8/rkfhehSu7z8=",
        "encoding": "base64",
        "path": [
         "_data",
         2,
         "x",
         "value"
        ]
       },
       {
        "data": "mCUGoaryuD8uUcHWGuWRPxZI5d9vXZM/1kVqG9rNlD/lHBmqMlKTP03kdux+J5E/BTMyKI3Qkj8begPDg8GRPzYKTMr+JZQ/BCsOJiA5kz8dDbkNqYGUP599/OIud44/t/64hC+1jz8GCXLKG36LPyEqKDcM+YI/OqgDo6mUez/6OWPVCct0P1dyNzkcvGM/VpQsJYieS79rL1kfnnZ6vxJMMJot+4W/18pDMG0ekL9hhgatZIyUvzYVR+wJ+5m/55aNPjUNn78NQAYiigOiv4dKGtfcUaW/jSBQy/eap799ycxZwGCqvwizcpH5Ga2/shQzwJFRr788EjX7qgWxvyfyuW6VxLK/8gFvby/xs7/3oGnlgRq1v7ABulIkL7a/MMCbi17dt78nhpyNpUy5vxQJ50fajbq/KQspWSf1u7/TFZGdM2O9v2H6xj/5876/nmXM0qMzwL8eOc+Bwa3Av86Ao/wP38C/6UY5YmqpwL+9nfFKnuXAv25eWMDF0cC//Sv40lMywL/Frfwz9ae/vyAAjBHgoL6/tLybfSABvL8zaSdAMTG6v3bBWyO+lbi/fLTJLoYSuL9VLC1Crqu1v8ycWCYhybO/CoHH+Vg+sL8+FpON+f2rv1duJuKeEai/W8RzoOiXob/8k/04Clabv9vcaYz165C/7n93gd+Phr84CCXwB0kWv8g+u+j9OYM/BFiAinfWkT8OGbckMzacPwPuVanvBaI/SsU4xJs5pT+OP3Onb6CoP2HUoijyJ6s/QeBYsPJwrj/gWVpMHk2wP9c8mAiOzbA/olRU1EZ0sT+OXIt+YLqyP8SAVQMixbM/zsxEoBZ5tT8cZLiXssa2P6H9aIVBdLc/K2NrhH3xtz87vKYMxSK4PwOTDkDhj7g/Pry3jvatuD8dS1YwGrG4P2JbW+oBxbg/5FsD7TLmuD9IzbRrVey4P+sh4o//8rg/WZsA8izzuD+YJQahqvK4P5glBqGq8rg/mCUGoaryuD+9kFjdk/S4PysKdz/B9Lg/mYOVoe70uD8H/bMDHPW4P16sxJDz87g/OZ8BVU70uD8=",
        "encoding": "base64",
        "path": [
         "_data",
         2,
         "y",
         "value"
        ]
       },
       {
        "data": "AAAAAAAAAAB7FK5H4XqEP3sUrkfhepQ/uB6F61G4nj97FK5H4XqkP5qZmZmZmak/uB6F61G4rj/sUbgeheuxP3sUrkfherQ/CtejcD0Ktz+amZmZmZm5Pylcj8L1KLw/uB6F61G4vj+kcD0K16PAP+xRuB6F68E/MzMzMzMzwz97FK5H4XrEP8P1KFyPwsU/CtejcD0Kxz9SuB6F61HIP5qZmZmZmck/4XoUrkfhyj8pXI/C9SjMP3E9CtejcM0/uB6F61G4zj8AAAAAAADQP6RwPQrXo9A/SOF6FK5H0T/sUbgehevRP4/C9Shcj9I/MzMzMzMz0z/Xo3A9CtfTP3sUrkfhetQ/H4XrUbge1T/D9Shcj8LVP2dmZmZmZtY/CtejcD0K1z+uR+F6FK7XP1K4HoXrUdg/9ihcj8L12D+amZmZmZnZPz4K16NwPdo/4XoUrkfh2j+F61G4HoXbPylcj8L1KNw/zczMzMzM3D9xPQrXo3DdPxWuR+F6FN4/uB6F61G43j9cj8L1KFzfPwAAAAAAAOA/UrgehetR4D+kcD0K16PgP/YoXI/C9eA/SOF6FK5H4T+amZmZmZnhP+xRuB6F6+E/PgrXo3A94j+PwvUoXI/iP+F6FK5H4eI/MzMzMzMz4z+F61G4HoXjP9ejcD0K1+M/KVyPwvUo5D97FK5H4XrkP83MzMzMzOQ/H4XrUbge5T9xPQrXo3DlP8P1KFyPwuU/Fa5H4XoU5j9nZmZmZmbmP7gehetRuOY/CtejcD0K5z9cj8L1KFznP65H4XoUruc/AAAAAAAA6D9SuB6F61HoP6RwPQrXo+g/9ihcj8L16D9I4XoUrkfpP5qZmZmZmek/7FG4HoXr6T8+CtejcD3qP5DC9Shcj+o/4XoUrkfh6j8zMzMzMzPrP4XrUbgehes/16NwPQrX6z8pXI/C9SjsP3sUrkfheuw/zczMzMzM7D8fhetRuB7tP3E9CtejcO0/w/UoXI/C7T8VrkfhehTuP2dmZmZmZu4/uB6F61G47j8K16NwPQrvP1yPwvUoXO8/rkfhehSu7z8=",
        "encoding": "base64",
        "path": [
         "_data",
         3,
         "x",
         "value"
        ]
       },
       {
        "data": "mCUGoaryuD9UgFOp4KSQPxvWZGfsaYw/ZELnqSlxhz9OtszmDAOCP28ZkycY54I/VPh8e91SiD+EOLkFwqWKP14k1KvCNZI/U/tcw3t7nz/NoYwaSfGjPzz04q7wXaM/OgAd9PK7qz+9wXKGYsWpP6bJZdGAM6c/2L8VqXJTpT+5387d6AanP41VG1jESLo/chkDserPwD+e7GAb0o++PzKV8yscoL4/npaAmuPywD8KYlOfzEzFP6FAnUNzHMQ/XuFF9MYKxD/6PJ1U2/7EP+dfYqIdksM/axuT/Z7Iwz8Bk9QkVefKP0SouRJy7Mk/R6qRKx0pyD9+1SrF62nGP2bcq4mWC8g/jaMh6W+WyD9ugm5xVUrIP9ZJUbb8ysY/fPvHVWSyxj/8Af1GnErHP+SKnLdcAMU//4BO8R11wz9ZxlCg1yvBP1SF7PnHIL8/7524Rv5nuj9sGvuE8c61P/8aq2oKq7M/Tk9/rLtIrj8oQIfAXWKlP0pk3WEBfJs/MXJlTqrphD+DVwb0N0Blvyptj5ooX5S/IuA8wFNgo79ms3U2AMupvyWNhC8To6i/mNaW6TS6sL/pugR+hyG1vzlBXrWjj7m/tPV8l2SKvb/rZ0hk5yrAv/GYueZud8K/kAuyMAozxL+o0ORlhl7FvxrqLd02f8e/ofllJswCyL/JMxGcjMrIv69HKNh/D8q/iaWMeyTly7+5W+r+L17BvzNdDmOeVsC/BPgSZaF0wb/+4F5KlIa/vzm6/oIxwLy/QfkXVdRYub+hAjCzyhGzvxjZyGylRXw/UZ3Z6mPRpT82tVDBMi2mP3kzRndoIqY/MNJaov1Zrz81Q0Ra9v+vP/v9D5+Sv68/cwzv9rQWsD90mxtV89WwP10KeyypWbg/UatueuNTuD/cVgK110q4P6Y+I7CRU7g/3uaQDJBpuD/fSdZTLWu4P+sh4o//8rg/WZsA8izzuD+YJQahqvK4P5glBqGq8rg/mCUGoaryuD+9kFjdk/S4PysKdz/B9Lg/mYOVoe70uD8H/bMDHPW4P16sxJDz87g/OZ8BVU70uD8=",
        "encoding": "base64",
        "path": [
         "_data",
         3,
         "y",
         "value"
        ]
       },
       {
        "data": "AAAAAAAAAAB7FK5H4XqEP3sUrkfhepQ/uB6F61G4nj97FK5H4XqkP5qZmZmZmak/uB6F61G4rj/sUbgeheuxP3sUrkfherQ/CtejcD0Ktz+amZmZmZm5Pylcj8L1KLw/uB6F61G4vj+kcD0K16PAP+xRuB6F68E/MzMzMzMzwz97FK5H4XrEP8P1KFyPwsU/CtejcD0Kxz9SuB6F61HIP5qZmZmZmck/4XoUrkfhyj8pXI/C9SjMP3E9CtejcM0/uB6F61G4zj8AAAAAAADQP6RwPQrXo9A/SOF6FK5H0T/sUbgehevRP4/C9Shcj9I/MzMzMzMz0z/Xo3A9CtfTP3sUrkfhetQ/H4XrUbge1T/D9Shcj8LVP2dmZmZmZtY/CtejcD0K1z+uR+F6FK7XP1K4HoXrUdg/9ihcj8L12D+amZmZmZnZPz4K16NwPdo/4XoUrkfh2j+F61G4HoXbPylcj8L1KNw/zczMzMzM3D9xPQrXo3DdPxWuR+F6FN4/uB6F61G43j9cj8L1KFzfPwAAAAAAAOA/UrgehetR4D+kcD0K16PgP/YoXI/C9eA/SOF6FK5H4T+amZmZmZnhP+xRuB6F6+E/PgrXo3A94j+PwvUoXI/iP+F6FK5H4eI/MzMzMzMz4z+F61G4HoXjP9ejcD0K1+M/KVyPwvUo5D97FK5H4XrkP83MzMzMzOQ/H4XrUbge5T9xPQrXo3DlP8P1KFyPwuU/Fa5H4XoU5j9nZmZmZmbmP7gehetRuOY/CtejcD0K5z9cj8L1KFznP65H4XoUruc/AAAAAAAA6D9SuB6F61HoP6RwPQrXo+g/9ihcj8L16D9I4XoUrkfpP5qZmZmZmek/7FG4HoXr6T8+CtejcD3qP5DC9Shcj+o/4XoUrkfh6j8zMzMzMzPrP4XrUbgehes/16NwPQrX6z8pXI/C9SjsP3sUrkfheuw/zczMzMzM7D8fhetRuB7tP3E9CtejcO0/w/UoXI/C7T8VrkfhehTuP2dmZmZmZu4/uB6F61G47j8K16NwPQrvP1yPwvUoXO8/rkfhehSu7z8=",
        "encoding": "base64",
        "path": [
         "_data",
         4,
         "x",
         "value"
        ]
       },
       {
        "data": "mCUGoaryuD+c5tuyU/2Hv83lLbhfAHG/2+zxBZ+CWT8BRnx2XOd8P8fL1p+2/Is/+k4KEfKgkz9uxon/aAGZPycHEgLatZ0/tE3IeAW6oT8nKmELjF2lP5C1b0BADag/t17mdH/Dqj9v5kY06wKuP+ZAq5AQNLA/D9roSrazsT9RMGSQm/uyP5Yw4UPAJ7Q/zlwcvy8BtT9qSBN+avW1P9r2lz7/3LY/yktQfgkQuD9VSCR7uUa5P/cYgqg9Jbo/mF6wEeL6uj/TlhCcoz+8P7oKux4FT70/QcP4VnPHvT+AFc1SSVy+P1vU5fhYZ78/I5eSDNxTwD8RYCdjhdbAP4oVHMsvU8E/FiwSVS2rwT8Oe9300jLCP/sEp5NaNsI/zg15lgyowj+1Xox6YgLDP82wgSYVhsM/R+70nb/1wz+DaeAduFvEPxskD8VrvMQ/9MTQ08ArxT+TiOoc5nPFP2zW0owZx8U/aaFn9AIAxj8BUVFCb1HGP4yYrVHQeMY/9XtUKk2Nxj8+FxpYYgHHPwbK4LnpPcc/QJvgYkGzxz+aAIxLXhjIP0TWNwUyTcg/XPoKTiRzyD8ekNmP2mbIP7yQQWRuw8g/GMCiSR/8yD8H5Bc4FhrJP6plbUioCsk/54jL0njKyD927tsi4sfIP/bDZ18P3cg/3Z+JbXrqyD8FQX5B1QDJP03OBBadGsk/aSGbSbkwyT+vL9a0RTzJP8bdOXC2V8k/SmltSgFbyT+56+TLPrHJP9ZaF56i/Mk/q2uFlKUoyj9eaLU70EvKPw0DCfWlc8o/ZDs1aredyj/4dWXPwKLKP1D+bonkzso/RT5SENPayj9M/L8vaRfLP0xzKu4vRcs/GdMO3YByyz/aF4R59aDLPz+c9Njdzcs/wllyxKj7yz8h07uG5yDMP8j7oCOnSsw/IRH7BX2KzD9hVUexfbnMPwzk+JIAEs0/BkOqZAo6zT/cpguT74TNP4dTyE9oxM0/EiM9hL4nzj/XzLJzM5TOP27R8GLG484/t7EIeRYYzz90wA9FtW/PP4EBz9B1s88/tK80eyzkzz8=",
        "encoding": "base64",
        "path": [
         "_data",
         4,
         "y",
         "value"
        ]
       }
      ],
      "model_module": "plotlywidget",
      "model_module_version": "^4.8.0",
      "model_name": "FigureModel",
      "state": {
       "_config": {
        "plotlyServerURL": "https://plot.ly"
       },
       "_data": [
        {
         "name": "Holding",
         "showlegend": true,
         "type": "scatter",
         "uid": "d0a66f82-013c-4753-80d7-7f44ac889f78",
         "x": {
          "dtype": "float64",
          "shape": [
           100
          ]
         },
         "y": {
          "dtype": "float64",
          "shape": [
           100
          ]
         }
        },
        {
         "name": "Random",
         "showlegend": true,
         "type": "scatter",
         "uid": "4ae46b20-3af0-4662-b6a2-23e65f503940",
         "x": {
          "dtype": "float64",
          "shape": [
           100
          ]
         },
         "y": {
          "dtype": "float64",
          "shape": [
           100
          ]
         }
        },
        {
         "name": "Stop Loss",
         "showlegend": true,
         "type": "scatter",
         "uid": "2a169c03-8e3e-4010-9065-5f3ef41e2e42",
         "x": {
          "dtype": "float64",
          "shape": [
           100
          ]
         },
         "y": {
          "dtype": "float64",
          "shape": [
           100
          ]
         }
        },
        {
         "name": "Trailing Stop",
         "showlegend": true,
         "type": "scatter",
         "uid": "27cab3ee-b415-418a-a208-70ebc00a0881",
         "x": {
          "dtype": "float64",
          "shape": [
           100
          ]
         },
         "y": {
          "dtype": "float64",
          "shape": [
           100
          ]
         }
        },
        {
         "name": "Take Profit",
         "showlegend": true,
         "type": "scatter",
         "uid": "fae005a3-1eef-47da-be34-3866d69b9b69",
         "x": {
          "dtype": "float64",
          "shape": [
           100
          ]
         },
         "y": {
          "dtype": "float64",
          "shape": [
           100
          ]
         }
        }
       ],
       "_js2py_layoutDelta": {},
       "_js2py_pointsCallback": {},
       "_js2py_relayout": {},
       "_js2py_restyle": {},
       "_js2py_traceDeltas": {},
       "_js2py_update": {},
       "_last_layout_edit_id": 125,
       "_last_trace_edit_id": 125,
       "_layout": {
        "autosize": false,
        "colorway": [
         "#1f77b4",
         "#ff7f0e",
         "#2ca02c",
         "#dc3912",
         "#9467bd",
         "#8c564b",
         "#e377c2",
         "#7f7f7f",
         "#bcbd22",
         "#17becf"
        ],
        "height": 300,
        "hovermode": "closest",
        "margin": {
         "b": 30,
         "t": 30
        },
        "template": {
         "data": {
          "bar": [
           {
            "error_x": {
             "color": "#2a3f5f"
            },
            "error_y": {
             "color": "#2a3f5f"
            },
            "marker": {
             "line": {
              "color": "#E5ECF6",
              "width": 0.5
             }
            },
            "type": "bar"
           }
          ],
          "barpolar": [
           {
            "marker": {
             "line": {
              "color": "#E5ECF6",
              "width": 0.5
             }
            },
            "type": "barpolar"
           }
          ],
          "carpet": [
           {
            "aaxis": {
             "endlinecolor": "#2a3f5f",
             "gridcolor": "white",
             "linecolor": "white",
             "minorgridcolor": "white",
             "startlinecolor": "#2a3f5f"
            },
            "baxis": {
             "endlinecolor": "#2a3f5f",
             "gridcolor": "white",
             "linecolor": "white",
             "minorgridcolor": "white",
             "startlinecolor": "#2a3f5f"
            },
            "type": "carpet"
           }
          ],
          "choropleth": [
           {
            "colorbar": {
             "outlinewidth": 0,
             "ticks": ""
            },
            "type": "choropleth"
           }
          ],
          "contour": [
           {
            "colorbar": {
             "outlinewidth": 0,
             "ticks": ""
            },
            "colorscale": [
             [
              0,
              "#0d0887"
             ],
             [
              0.1111111111111111,
              "#46039f"
             ],
             [
              0.2222222222222222,
              "#7201a8"
             ],
             [
              0.3333333333333333,
              "#9c179e"
             ],
             [
              0.4444444444444444,
              "#bd3786"
             ],
             [
              0.5555555555555556,
              "#d8576b"
             ],
             [
              0.6666666666666666,
              "#ed7953"
             ],
             [
              0.7777777777777778,
              "#fb9f3a"
             ],
             [
              0.8888888888888888,
              "#fdca26"
             ],
             [
              1,
              "#f0f921"
             ]
            ],
            "type": "contour"
           }
          ],
          "contourcarpet": [
           {
            "colorbar": {
             "outlinewidth": 0,
             "ticks": ""
            },
            "type": "contourcarpet"
           }
          ],
          "heatmap": [
           {
            "colorbar": {
             "outlinewidth": 0,
             "ticks": ""
            },
            "colorscale": [
             [
              0,
              "#0d0887"
             ],
             [
              0.1111111111111111,
              "#46039f"
             ],
             [
              0.2222222222222222,
              "#7201a8"
             ],
             [
              0.3333333333333333,
              "#9c179e"
             ],
             [
              0.4444444444444444,
              "#bd3786"
             ],
             [
              0.5555555555555556,
              "#d8576b"
             ],
             [
              0.6666666666666666,
              "#ed7953"
             ],
             [
              0.7777777777777778,
              "#fb9f3a"
             ],
             [
              0.8888888888888888,
              "#fdca26"
             ],
             [
              1,
              "#f0f921"
             ]
            ],
            "type": "heatmap"
           }
          ],
          "heatmapgl": [
           {
            "colorbar": {
             "outlinewidth": 0,
             "ticks": ""
            },
            "colorscale": [
             [
              0,
              "#0d0887"
             ],
             [
              0.1111111111111111,
              "#46039f"
             ],
             [
              0.2222222222222222,
              "#7201a8"
             ],
             [
              0.3333333333333333,
              "#9c179e"
             ],
             [
              0.4444444444444444,
              "#bd3786"
             ],
             [
              0.5555555555555556,
              "#d8576b"
             ],
             [
              0.6666666666666666,
              "#ed7953"
             ],
             [
              0.7777777777777778,
              "#fb9f3a"
             ],
             [
              0.8888888888888888,
              "#fdca26"
             ],
             [
              1,
              "#f0f921"
             ]
            ],
            "type": "heatmapgl"
           }
          ],
          "histogram": [
           {
            "marker": {
             "colorbar": {
              "outlinewidth": 0,
              "ticks": ""
             }
            },
            "type": "histogram"
           }
          ],
          "histogram2d": [
           {
            "colorbar": {
             "outlinewidth": 0,
             "ticks": ""
            },
            "colorscale": [
             [
              0,
              "#0d0887"
             ],
             [
              0.1111111111111111,
              "#46039f"
             ],
             [
              0.2222222222222222,
              "#7201a8"
             ],
             [
              0.3333333333333333,
              "#9c179e"
             ],
             [
              0.4444444444444444,
              "#bd3786"
             ],
             [
              0.5555555555555556,
              "#d8576b"
             ],
             [
              0.6666666666666666,
              "#ed7953"
             ],
             [
              0.7777777777777778,
              "#fb9f3a"
             ],
             [
              0.8888888888888888,
              "#fdca26"
             ],
             [
              1,
              "#f0f921"
             ]
            ],
            "type": "histogram2d"
           }
          ],
          "histogram2dcontour": [
           {
            "colorbar": {
             "outlinewidth": 0,
             "ticks": ""
            },
            "colorscale": [
             [
              0,
              "#0d0887"
             ],
             [
              0.1111111111111111,
              "#46039f"
             ],
             [
              0.2222222222222222,
              "#7201a8"
             ],
             [
              0.3333333333333333,
              "#9c179e"
             ],
             [
              0.4444444444444444,
              "#bd3786"
             ],
             [
              0.5555555555555556,
              "#d8576b"
             ],
             [
              0.6666666666666666,
              "#ed7953"
             ],
             [
              0.7777777777777778,
              "#fb9f3a"
             ],
             [
              0.8888888888888888,
              "#fdca26"
             ],
             [
              1,
              "#f0f921"
             ]
            ],
            "type": "histogram2dcontour"
           }
          ],
          "mesh3d": [
           {
            "colorbar": {
             "outlinewidth": 0,
             "ticks": ""
            },
            "type": "mesh3d"
           }
          ],
          "parcoords": [
           {
            "line": {
             "colorbar": {
              "outlinewidth": 0,
              "ticks": ""
             }
            },
            "type": "parcoords"
           }
          ],
          "pie": [
           {
            "automargin": true,
            "type": "pie"
           }
          ],
          "scatter": [
           {
            "marker": {
             "colorbar": {
              "outlinewidth": 0,
              "ticks": ""
             }
            },
            "type": "scatter"
           }
          ],
          "scatter3d": [
           {
            "line": {
             "colorbar": {
              "outlinewidth": 0,
              "ticks": ""
             }
            },
            "marker": {
             "colorbar": {
              "outlinewidth": 0,
              "ticks": ""
             }
            },
            "type": "scatter3d"
           }
          ],
          "scattercarpet": [
           {
            "marker": {
             "colorbar": {
              "outlinewidth": 0,
              "ticks": ""
             }
            },
            "type": "scattercarpet"
           }
          ],
          "scattergeo": [
           {
            "marker": {
             "colorbar": {
              "outlinewidth": 0,
              "ticks": ""
             }
            },
            "type": "scattergeo"
           }
          ],
          "scattergl": [
           {
            "marker": {
             "colorbar": {
              "outlinewidth": 0,
              "ticks": ""
             }
            },
            "type": "scattergl"
           }
          ],
          "scattermapbox": [
           {
            "marker": {
             "colorbar": {
              "outlinewidth": 0,
              "ticks": ""
             }
            },
            "type": "scattermapbox"
           }
          ],
          "scatterpolar": [
           {
            "marker": {
             "colorbar": {
              "outlinewidth": 0,
              "ticks": ""
             }
            },
            "type": "scatterpolar"
           }
          ],
          "scatterpolargl": [
           {
            "marker": {
             "colorbar": {
              "outlinewidth": 0,
              "ticks": ""
             }
            },
            "type": "scatterpolargl"
           }
          ],
          "scatterternary": [
           {
            "marker": {
             "colorbar": {
              "outlinewidth": 0,
              "ticks": ""
             }
            },
            "type": "scatterternary"
           }
          ],
          "surface": [
           {
            "colorbar": {
             "outlinewidth": 0,
             "ticks": ""
            },
            "colorscale": [
             [
              0,
              "#0d0887"
             ],
             [
              0.1111111111111111,
              "#46039f"
             ],
             [
              0.2222222222222222,
              "#7201a8"
             ],
             [
              0.3333333333333333,
              "#9c179e"
             ],
             [
              0.4444444444444444,
              "#bd3786"
             ],
             [
              0.5555555555555556,
              "#d8576b"
             ],
             [
              0.6666666666666666,
              "#ed7953"
             ],
             [
              0.7777777777777778,
              "#fb9f3a"
             ],
             [
              0.8888888888888888,
              "#fdca26"
             ],
             [
              1,
              "#f0f921"
             ]
            ],
            "type": "surface"
           }
          ],
          "table": [
           {
            "cells": {
             "fill": {
              "color": "#EBF0F8"
             },
             "line": {
              "color": "white"
             }
            },
            "header": {
             "fill": {
              "color": "#C8D4E3"
             },
             "line": {
              "color": "white"
             }
            },
            "type": "table"
           }
          ]
         },
         "layout": {
          "annotationdefaults": {
           "arrowcolor": "#2a3f5f",
           "arrowhead": 0,
           "arrowwidth": 1
          },
          "coloraxis": {
           "colorbar": {
            "outlinewidth": 0,
            "ticks": ""
           }
          },
          "colorscale": {
           "diverging": [
            [
             0,
             "#8e0152"
            ],
            [
             0.1,
             "#c51b7d"
            ],
            [
             0.2,
             "#de77ae"
            ],
            [
             0.3,
             "#f1b6da"
            ],
            [
             0.4,
             "#fde0ef"
            ],
            [
             0.5,
             "#f7f7f7"
            ],
            [
             0.6,
             "#e6f5d0"
            ],
            [
             0.7,
             "#b8e186"
            ],
            [
             0.8,
             "#7fbc41"
            ],
            [
             0.9,
             "#4d9221"
            ],
            [
             1,
             "#276419"
            ]
           ],
           "sequential": [
            [
             0,
             "#0d0887"
            ],
            [
             0.1111111111111111,
             "#46039f"
            ],
            [
             0.2222222222222222,
             "#7201a8"
            ],
            [
             0.3333333333333333,
             "#9c179e"
            ],
            [
             0.4444444444444444,
             "#bd3786"
            ],
            [
             0.5555555555555556,
             "#d8576b"
            ],
            [
             0.6666666666666666,
             "#ed7953"
            ],
            [
             0.7777777777777778,
             "#fb9f3a"
            ],
            [
             0.8888888888888888,
             "#fdca26"
            ],
            [
             1,
             "#f0f921"
            ]
           ],
           "sequentialminus": [
            [
             0,
             "#0d0887"
            ],
            [
             0.1111111111111111,
             "#46039f"
            ],
            [
             0.2222222222222222,
             "#7201a8"
            ],
            [
             0.3333333333333333,
             "#9c179e"
            ],
            [
             0.4444444444444444,
             "#bd3786"
            ],
            [
             0.5555555555555556,
             "#d8576b"
            ],
            [
             0.6666666666666666,
             "#ed7953"
            ],
            [
             0.7777777777777778,
             "#fb9f3a"
            ],
            [
             0.8888888888888888,
             "#fdca26"
            ],
            [
             1,
             "#f0f921"
            ]
           ]
          },
          "colorway": [
           "#636efa",
           "#EF553B",
           "#00cc96",
           "#ab63fa",
           "#FFA15A",
           "#19d3f3",
           "#FF6692",
           "#B6E880",
           "#FF97FF",
           "#FECB52"
          ],
          "font": {
           "color": "#2a3f5f"
          },
          "geo": {
           "bgcolor": "white",
           "lakecolor": "white",
           "landcolor": "#E5ECF6",
           "showlakes": true,
           "showland": true,
           "subunitcolor": "white"
          },
          "hoverlabel": {
           "align": "left"
          },
          "hovermode": "closest",
          "mapbox": {
           "style": "light"
          },
          "paper_bgcolor": "white",
          "plot_bgcolor": "#E5ECF6",
          "polar": {
           "angularaxis": {
            "gridcolor": "white",
            "linecolor": "white",
            "ticks": ""
           },
           "bgcolor": "#E5ECF6",
           "radialaxis": {
            "gridcolor": "white",
            "linecolor": "white",
            "ticks": ""
           }
          },
          "scene": {
           "xaxis": {
            "backgroundcolor": "#E5ECF6",
            "gridcolor": "white",
            "gridwidth": 2,
            "linecolor": "white",
            "showbackground": true,
            "ticks": "",
            "zerolinecolor": "white"
           },
           "yaxis": {
            "backgroundcolor": "#E5ECF6",
            "gridcolor": "white",
            "gridwidth": 2,
            "linecolor": "white",
            "showbackground": true,
            "ticks": "",
            "zerolinecolor": "white"
           },
           "zaxis": {
            "backgroundcolor": "#E5ECF6",
            "gridcolor": "white",
            "gridwidth": 2,
            "linecolor": "white",
            "showbackground": true,
            "ticks": "",
            "zerolinecolor": "white"
           }
          },
          "shapedefaults": {
           "line": {
            "color": "#2a3f5f"
           }
          },
          "ternary": {
           "aaxis": {
            "gridcolor": "white",
            "linecolor": "white",
            "ticks": ""
           },
           "baxis": {
            "gridcolor": "white",
            "linecolor": "white",
            "ticks": ""
           },
           "bgcolor": "#E5ECF6",
           "caxis": {
            "gridcolor": "white",
            "linecolor": "white",
            "ticks": ""
           }
          },
          "title": {
           "x": 0.05
          },
          "xaxis": {
           "automargin": true,
           "gridcolor": "white",
           "linecolor": "white",
           "ticks": "",
           "title": {
            "standoff": 15
           },
           "zerolinecolor": "white",
           "zerolinewidth": 2
          },
          "yaxis": {
           "automargin": true,
           "gridcolor": "white",
           "linecolor": "white",
           "ticks": "",
           "title": {
            "standoff": 15
           },
           "zerolinecolor": "white",
           "zerolinewidth": 2
          }
         }
        },
        "width": 700,
        "xaxis": {
         "title": {
          "text": "Stop value"
         }
        },
        "yaxis": {
         "title": {
          "text": "Avg total return"
         }
        }
       },
       "_model_module_version": "^4.8.0",
       "_py2js_animate": {},
       "_py2js_deleteTraces": {},
       "_py2js_moveTraces": {},
       "_py2js_removeLayoutProps": {},
       "_py2js_removeTraceProps": {},
       "_py2js_restyle": {},
       "_view_count": 0,
       "_view_module_version": "^4.8.0"
      }
     },
     "ca9dc5d8d8404598aa70a04e59265a18": {
      "model_module": "@jupyter-widgets/base",
      "model_module_version": "1.2.0",
      "model_name": "LayoutModel",
      "state": {}
     },
     "d0111cd954fd441da38fbbdfb1e35eb0": {
      "model_module": "@jupyter-widgets/controls",
      "model_module_version": "1.5.0",
      "model_name": "DescriptionStyleModel",
      "state": {
       "description_width": ""
      }
     },
     "e226e9b6b4544aa88265b5da743973c4": {
      "model_module": "@jupyter-widgets/controls",
      "model_module_version": "1.5.0",
      "model_name": "LabelModel",
      "state": {
       "layout": "IPY_MODEL_a10e5dc5c30c496bba8d311a6ceba7c6",
       "style": "IPY_MODEL_d0111cd954fd441da38fbbdfb1e35eb0",
       "value": "Asset:"
      }
     },
     "e65a74878b8e4f4ea9dbbf242f3a6dbf": {
      "model_module": "@jupyter-widgets/controls",
      "model_module_version": "1.5.0",
      "model_name": "DropdownModel",
      "state": {
       "_options_labels": [
        "All",
        "Positive",
        "Negative"
       ],
       "index": 0,
       "layout": "IPY_MODEL_93bfeea73a7b49c3bf8186805ae5d85d",
       "style": "IPY_MODEL_7879b23f690449e59c1ebecc8f017b56"
      }
     },
     "f1f3163e5be040d6b7c709e5f527415c": {
      "model_module": "@jupyter-widgets/controls",
      "model_module_version": "1.5.0",
      "model_name": "HBoxModel",
      "state": {
       "children": [
        "IPY_MODEL_c14b7a4c4dfe4db9b59b329c1feeafc7",
        "IPY_MODEL_e65a74878b8e4f4ea9dbbf242f3a6dbf"
       ],
       "layout": "IPY_MODEL_7eb4387cf736448bba708d79ff953692"
      }
     },
     "f800af24055c44b1815355510bb51436": {
      "buffers": [
       {
        "data": "AAAAAAAAAAB7FK5H4XqEP3sUrkfhepQ/uB6F61G4nj97FK5H4XqkP5qZmZmZmak/uB6F61G4rj/sUbgeheuxP3sUrkfherQ/CtejcD0Ktz+amZmZmZm5Pylcj8L1KLw/uB6F61G4vj+kcD0K16PAP+xRuB6F68E/MzMzMzMzwz97FK5H4XrEP8P1KFyPwsU/CtejcD0Kxz9SuB6F61HIP5qZmZmZmck/4XoUrkfhyj8pXI/C9SjMP3E9CtejcM0/uB6F61G4zj8AAAAAAADQP6RwPQrXo9A/SOF6FK5H0T/sUbgehevRP4/C9Shcj9I/MzMzMzMz0z/Xo3A9CtfTP3sUrkfhetQ/H4XrUbge1T/D9Shcj8LVP2dmZmZmZtY/CtejcD0K1z+uR+F6FK7XP1K4HoXrUdg/9ihcj8L12D+amZmZmZnZPz4K16NwPdo/4XoUrkfh2j+F61G4HoXbPylcj8L1KNw/zczMzMzM3D9xPQrXo3DdPxWuR+F6FN4/uB6F61G43j9cj8L1KFzfPwAAAAAAAOA/UrgehetR4D+kcD0K16PgP/YoXI/C9eA/SOF6FK5H4T+amZmZmZnhP+xRuB6F6+E/PgrXo3A94j+PwvUoXI/iP+F6FK5H4eI/MzMzMzMz4z+F61G4HoXjP9ejcD0K1+M/KVyPwvUo5D97FK5H4XrkP83MzMzMzOQ/H4XrUbge5T9xPQrXo3DlP8P1KFyPwuU/Fa5H4XoU5j9nZmZmZmbmP7gehetRuOY/CtejcD0K5z9cj8L1KFznP65H4XoUruc/AAAAAAAA6D9SuB6F61HoP6RwPQrXo+g/9ihcj8L16D9I4XoUrkfpP5qZmZmZmek/7FG4HoXr6T8+CtejcD3qP5DC9Shcj+o/4XoUrkfh6j8zMzMzMzPrP4XrUbgehes/16NwPQrX6z8pXI/C9SjsP3sUrkfheuw/zczMzMzM7D8fhetRuB7tP3E9CtejcO0/w/UoXI/C7T8VrkfhehTuP2dmZmZmZu4/uB6F61G47j8K16NwPQrvP1yPwvUoXO8/rkfhehSu7z8=",
        "encoding": "base64",
        "path": [
         "_data",
         0,
         "x",
         "value"
        ]
       },
       {
        "data": "AAAAAAAAAABY4i20FDLvP1wyBOto8+4/9dJ6M5ig7j/VPTFwNVvuP2xK8qoPGO4/lhOe6W/Q7T8tIF8kSo3tP8XA1Wx5Ou0/pSuMqRb17D8+zALyRaLsP0GIIxtFc+w/SABlbUMV7D+VrjCmWtTrP3WFMdWinus/wZ9HAGVt6z99kSg19jDrPziDCWqH9Oo/Oz8qk4bF6j/1nFW6wpjqP4sVYedHZeo/jtGBEEc26j/b65c7CQXqP7ku41z83uk/Ki4ZgnW06T+bLU+n7onpP51VusKYauk/oBHb65c76T/IshsPThPpP14rJzzT3+g/GIlSYw+z6D/2y52EAo3oP0FS/qFva+g/jmwUzTE66D+RKDX2MAvoP3BrgBck5ec/TRoWK8LO5z+8hZZC5rPnPy2FzGdfiec/C8gXiVJj5z+grG2ogj/nPzWRw8eyG+c/7+7u7u7u5j+Hj2U3HpzmP4zfO25yXeY/SGXSsFgR5j+7jHPxe8flP+PBaSKHj+U/6aX1ZjBB5T/wHTe5LuPkP/m94ybXZeQ/LLvx4DSR4z8Rdn5UJg3jP6/6gOH+a+I/kyFYR5v34T8P6aX1ZjDhP2Y3HpwmcuA/VrrCmGpR3z+Rw8eyGw/ePzoQ4shG0dw/wjP9Dbpd2z9Nf4Nu18rZP7JRNMfoQNg/ppD57Cvx1j/H6ECIIxvVP6F2SC+tN9M/drR5n+KS0T/bhir48wjQP3PCM/0Nus0/TFA7pJfWyz95cJrI4WPJPxGso837FMc/Acrahir4wz+YBeSLRKnBP8P915TkVb8/t2vlhGf6uz8pNfYwC8i3P0dsr1/uJLQ/NMfoQIgjqz872rxPccmgP6BHAGVtQ5U/ZNmNB6eJjD872rxPccmAP5S1DVXw53E/rNnydOqeaD/5IlFq7GFmP8P915TkVV8/lLUNVfDnQT+UtQ1V8OcxPwAAAAAAAAAAAAAAAAAAAAAAAAAAAAAAAAAAAAAAAAAAAAAAAAAAAAAAAAAAAAAAAAAAAAAAAAAAAAAAAAAAAAAAAAAAAAAAAAAAAAAAAAAAAAAAAAAAAAA=",
        "encoding": "base64",
        "path": [
         "_data",
         0,
         "y",
         "value"
        ]
       },
       {
        "data": "AAAAAAAAAAB7FK5H4XqEP3sUrkfhepQ/uB6F61G4nj97FK5H4XqkP5qZmZmZmak/uB6F61G4rj/sUbgeheuxP3sUrkfherQ/CtejcD0Ktz+amZmZmZm5Pylcj8L1KLw/uB6F61G4vj+kcD0K16PAP+xRuB6F68E/MzMzMzMzwz97FK5H4XrEP8P1KFyPwsU/CtejcD0Kxz9SuB6F61HIP5qZmZmZmck/4XoUrkfhyj8pXI/C9SjMP3E9CtejcM0/uB6F61G4zj8AAAAAAADQP6RwPQrXo9A/SOF6FK5H0T/sUbgehevRP4/C9Shcj9I/MzMzMzMz0z/Xo3A9CtfTP3sUrkfhetQ/H4XrUbge1T/D9Shcj8LVP2dmZmZmZtY/CtejcD0K1z+uR+F6FK7XP1K4HoXrUdg/9ihcj8L12D+amZmZmZnZPz4K16NwPdo/4XoUrkfh2j+F61G4HoXbPylcj8L1KNw/zczMzMzM3D9xPQrXo3DdPxWuR+F6FN4/uB6F61G43j9cj8L1KFzfPwAAAAAAAOA/UrgehetR4D+kcD0K16PgP/YoXI/C9eA/SOF6FK5H4T+amZmZmZnhP+xRuB6F6+E/PgrXo3A94j+PwvUoXI/iP+F6FK5H4eI/MzMzMzMz4z+F61G4HoXjP9ejcD0K1+M/KVyPwvUo5D97FK5H4XrkP83MzMzMzOQ/H4XrUbge5T9xPQrXo3DlP8P1KFyPwuU/Fa5H4XoU5j9nZmZmZmbmP7gehetRuOY/CtejcD0K5z9cj8L1KFznP65H4XoUruc/AAAAAAAA6D9SuB6F61HoP6RwPQrXo+g/9ihcj8L16D9I4XoUrkfpP5qZmZmZmek/7FG4HoXr6T8+CtejcD3qP5DC9Shcj+o/4XoUrkfh6j8zMzMzMzPrP4XrUbgehes/16NwPQrX6z8pXI/C9SjsP3sUrkfheuw/zczMzMzM7D8fhetRuB7tP3E9CtejcO0/w/UoXI/C7T8VrkfhehTuP2dmZmZmZu4/uB6F61G47j8K16NwPQrvP1yPwvUoXO8/rkfhehSu7z8=",
        "encoding": "base64",
        "path": [
         "_data",
         1,
         "x",
         "value"
        ]
       },
       {
        "data": "AAAAAAAAAAAAAAAAAADwPwAAAAAAAPA/AAAAAAAA8D8AAAAAAADwPwAAAAAAAPA/AAAAAAAA8D8AAAAAAADwPwAAAAAAAPA/AAAAAAAA8D8AAAAAAADwPwAAAAAAAPA/AAAAAAAA8D8AAAAAAADwPwAAAAAAAPA/AAAAAAAA8D8AAAAAAADwPwAAAAAAAPA/AAAAAAAA8D8AAAAAAADwPwAAAAAAAPA/AAAAAAAA8D8AAAAAAADwPwAAAAAAAPA/AAAAAAAA8D8AAAAAAADwPwAAAAAAAPA/AAAAAAAA8D8AAAAAAADwPwAAAAAAAPA/AAAAAAAA8D8AAAAAAADwPwAAAAAAAPA/AAAAAAAA8D8AAAAAAADwPwAAAAAAAPA/AAAAAAAA8D8AAAAAAADwPwAAAAAAAPA/AAAAAAAA8D8AAAAAAADwPwAAAAAAAPA/AAAAAAAA8D8AAAAAAADwPwAAAAAAAPA/AAAAAAAA8D8AAAAAAADwP0ryqg8Y7u8/SvKqDxju7z9K8qoPGO7vP7nJdRnn4u8/3kJLIfPZ7z+YoHZIL63vP4Vn+ht0u+4/hWf6G3S77j+FZ/obdLvuP89ZpSuMqe4/rZzwTH+D7j9l0rBYEXbuP9Spe2Lgau4/JICytqEK7j/iLbQUMp/tP+d9ikuGYO0/H8tuPDhN7D+bkrzqA4brP2UI1tHmfeo/Qrdr5YRn6j9sSvKqDxjmP6BHAGVtQ+U/zDgXv3fc5D8xC8gXiVLjPyRKjT3MAuI/JOUf+rYG4D9MUDukl9bbP/gpLhmCddQ/Z8vTqXti0D+Cq9nydOrOP/8G3a6VE84/uNBSyHz2xT8dowMhjmzEPy/jXPzeccM/BCGObBTNwT/P9Dfodq28PxFHNormGH0/EUc2iuYYfT8RRzaK5hh9P16QlH/o23o/+SJRauxhdj+gRwBlbUN1PwAAAAAAAAAAAAAAAAAAAAAAAAAAAAAAAAAAAAAAAAAAAAAAAAAAAAAAAAAAAAAAAAAAAAAAAAAAAAAAAAAAAAAAAAAAAAAAAAAAAAAAAAAAAAAAAAAAAAA=",
        "encoding": "base64",
        "path": [
         "_data",
         1,
         "y",
         "value"
        ]
       },
       {
        "data": "AAAAAAAAAAB7FK5H4XqEP3sUrkfhepQ/uB6F61G4nj97FK5H4XqkP5qZmZmZmak/uB6F61G4rj/sUbgeheuxP3sUrkfherQ/CtejcD0Ktz+amZmZmZm5Pylcj8L1KLw/uB6F61G4vj+kcD0K16PAP+xRuB6F68E/MzMzMzMzwz97FK5H4XrEP8P1KFyPwsU/CtejcD0Kxz9SuB6F61HIP5qZmZmZmck/4XoUrkfhyj8pXI/C9SjMP3E9CtejcM0/uB6F61G4zj8AAAAAAADQP6RwPQrXo9A/SOF6FK5H0T/sUbgehevRP4/C9Shcj9I/MzMzMzMz0z/Xo3A9CtfTP3sUrkfhetQ/H4XrUbge1T/D9Shcj8LVP2dmZmZmZtY/CtejcD0K1z+uR+F6FK7XP1K4HoXrUdg/9ihcj8L12D+amZmZmZnZPz4K16NwPdo/4XoUrkfh2j+F61G4HoXbPylcj8L1KNw/zczMzMzM3D9xPQrXo3DdPxWuR+F6FN4/uB6F61G43j9cj8L1KFzfPwAAAAAAAOA/UrgehetR4D+kcD0K16PgP/YoXI/C9eA/SOF6FK5H4T+amZmZmZnhP+xRuB6F6+E/PgrXo3A94j+PwvUoXI/iP+F6FK5H4eI/MzMzMzMz4z+F61G4HoXjP9ejcD0K1+M/KVyPwvUo5D97FK5H4XrkP83MzMzMzOQ/H4XrUbge5T9xPQrXo3DlP8P1KFyPwuU/Fa5H4XoU5j9nZmZmZmbmP7gehetRuOY/CtejcD0K5z9cj8L1KFznP65H4XoUruc/AAAAAAAA6D9SuB6F61HoP6RwPQrXo+g/9ihcj8L16D9I4XoUrkfpP5qZmZmZmek/7FG4HoXr6T8+CtejcD3qP5DC9Shcj+o/4XoUrkfh6j8zMzMzMzPrP4XrUbgehes/16NwPQrX6z8pXI/C9SjsP3sUrkfheuw/zczMzMzM7D8fhetRuB7tP3E9CtejcO0/w/UoXI/C7T8VrkfhehTuP2dmZmZmZu4/uB6F61G47j8K16NwPQrvP1yPwvUoXO8/rkfhehSu7z8=",
        "encoding": "base64",
        "path": [
         "_data",
         2,
         "x",
         "value"
        ]
       },
       {
        "data": "AAAAAAAAAABY4i20FDLvP8nhY9mNB+8/FpAvEqXG7j/TFcZUi3ruP7LsxoPTRO4/AJuSvOoD7j8pZD77SrztP5yL3ztucu0/WH3AcP817T9/HgGUtQ3tP/JFotTYw+w/ZNmNB6eJ7D+Les4qXWHsP0gAZW1DFew/J9dlnIvf6z+ZalHPWaXrP8Iz/Q26Xes/W9RzVukK6z+EnR+VScPqP2aci987buo/auxhFpAv6j/dEwNXs+XpPwfdrpUTnuk/50dl0rBY6T/HHmYB+SLpP12XcS5+7+g/h/TSejOY6D/WNlTBn0foP/9rSvKqD+g/AihrG6rg5z+YoHZIL63nP3d3d3d3d+c/D4Q4slE05z/txoPTRA7nP2GC2iG9tOY/ZD77SryF5j+xWBF2flTmP/zecZPrMuY/tjyduicG5j9wmsjhY9nlPyv48wigrOU/CTs/KpOG5T9VVVVVVVXlP6Jva4AXJOU/gUZsr1/u5D87pJfWm8HkP603gwlqh+Q/RERERERE5D9s5YRn+hvkP0u8hZZC5uM/4KDbtXLC4z8rJzzT36DjPwv+PAIoa+M/VxhTLeo54z84gwlqh/TiP81nX4m30OI/GYJ1tHmf4j9mnIvfO27iPyGObBTNMeI/AfkiUWrs4T/hzyOAsrbhP1HPWaUrjOE/VYt6zipd4T/GirDzozLhP+0r8RZaCuE/XisnPNPf4D9h50dl0rDgPxtFc4wOhOA/aF+Jt9BS4D+ObBTNMTrgP7R5n+KSIeA/AAAAAAAA4D9PQoFGbK/fP+ZOQoFGbN8/fVsDvCAp3z+E00QOH8veP62c8Ex/g94/12Wci9873j+2PJ26JwbeP7uMc/F7x90/LSBfJEqN3T/ELCBfJErdPzbAC5LyD90/OhDiyEbR3D+so837FJfcP/m94ybXZdw/sxsPThM53D8lr/qA4f7bP7mTUKAR29s/mWpRz1ml2z9TyHz2lXjbPw0mqB3SS9s/VxhTLeo52z+iCv48AijbPzfvU1wyBNs/gwlqh/TS2j9guP+akrzaP2LgarY8ndo/r/qA4f5r2j8=",
        "encoding": "base64",
        "path": [
         "_data",
         2,
         "y",
         "value"
        ]
       }
      ],
      "model_module": "plotlywidget",
      "model_module_version": "^4.8.0",
      "model_name": "FigureModel",
      "state": {
       "_config": {
        "plotlyServerURL": "https://plot.ly"
       },
       "_data": [
        {
         "name": "Stop Loss",
         "showlegend": true,
         "type": "scatter",
         "uid": "8cefe9bc-0f21-4893-bfff-61dfa8a31978",
         "x": {
          "dtype": "float64",
          "shape": [
           100
          ]
         },
         "y": {
          "dtype": "float64",
          "shape": [
           100
          ]
         }
        },
        {
         "name": "Trailing Stop",
         "showlegend": true,
         "type": "scatter",
         "uid": "ac29a67d-1a29-4de7-af0f-5c4b018edaaf",
         "x": {
          "dtype": "float64",
          "shape": [
           100
          ]
         },
         "y": {
          "dtype": "float64",
          "shape": [
           100
          ]
         }
        },
        {
         "name": "Take Profit",
         "showlegend": true,
         "type": "scatter",
         "uid": "20e7a488-2ad2-480b-b7b1-c3a156635d6a",
         "x": {
          "dtype": "float64",
          "shape": [
           100
          ]
         },
         "y": {
          "dtype": "float64",
          "shape": [
           100
          ]
         }
        }
       ],
       "_js2py_layoutDelta": {},
       "_js2py_pointsCallback": {},
       "_js2py_relayout": {},
       "_js2py_restyle": {},
       "_js2py_traceDeltas": {},
       "_js2py_update": {},
       "_last_layout_edit_id": 6,
       "_last_trace_edit_id": 6,
       "_layout": {
        "autosize": false,
        "colorway": [
         "#1f77b4",
         "#ff7f0e",
         "#2ca02c",
         "#dc3912",
         "#9467bd",
         "#8c564b",
         "#e377c2",
         "#7f7f7f",
         "#bcbd22",
         "#17becf"
        ],
        "height": 300,
        "hovermode": "closest",
        "margin": {
         "b": 30,
         "t": 30
        },
        "template": {
         "data": {
          "bar": [
           {
            "error_x": {
             "color": "#2a3f5f"
            },
            "error_y": {
             "color": "#2a3f5f"
            },
            "marker": {
             "line": {
              "color": "#E5ECF6",
              "width": 0.5
             }
            },
            "type": "bar"
           }
          ],
          "barpolar": [
           {
            "marker": {
             "line": {
              "color": "#E5ECF6",
              "width": 0.5
             }
            },
            "type": "barpolar"
           }
          ],
          "carpet": [
           {
            "aaxis": {
             "endlinecolor": "#2a3f5f",
             "gridcolor": "white",
             "linecolor": "white",
             "minorgridcolor": "white",
             "startlinecolor": "#2a3f5f"
            },
            "baxis": {
             "endlinecolor": "#2a3f5f",
             "gridcolor": "white",
             "linecolor": "white",
             "minorgridcolor": "white",
             "startlinecolor": "#2a3f5f"
            },
            "type": "carpet"
           }
          ],
          "choropleth": [
           {
            "colorbar": {
             "outlinewidth": 0,
             "ticks": ""
            },
            "type": "choropleth"
           }
          ],
          "contour": [
           {
            "colorbar": {
             "outlinewidth": 0,
             "ticks": ""
            },
            "colorscale": [
             [
              0,
              "#0d0887"
             ],
             [
              0.1111111111111111,
              "#46039f"
             ],
             [
              0.2222222222222222,
              "#7201a8"
             ],
             [
              0.3333333333333333,
              "#9c179e"
             ],
             [
              0.4444444444444444,
              "#bd3786"
             ],
             [
              0.5555555555555556,
              "#d8576b"
             ],
             [
              0.6666666666666666,
              "#ed7953"
             ],
             [
              0.7777777777777778,
              "#fb9f3a"
             ],
             [
              0.8888888888888888,
              "#fdca26"
             ],
             [
              1,
              "#f0f921"
             ]
            ],
            "type": "contour"
           }
          ],
          "contourcarpet": [
           {
            "colorbar": {
             "outlinewidth": 0,
             "ticks": ""
            },
            "type": "contourcarpet"
           }
          ],
          "heatmap": [
           {
            "colorbar": {
             "outlinewidth": 0,
             "ticks": ""
            },
            "colorscale": [
             [
              0,
              "#0d0887"
             ],
             [
              0.1111111111111111,
              "#46039f"
             ],
             [
              0.2222222222222222,
              "#7201a8"
             ],
             [
              0.3333333333333333,
              "#9c179e"
             ],
             [
              0.4444444444444444,
              "#bd3786"
             ],
             [
              0.5555555555555556,
              "#d8576b"
             ],
             [
              0.6666666666666666,
              "#ed7953"
             ],
             [
              0.7777777777777778,
              "#fb9f3a"
             ],
             [
              0.8888888888888888,
              "#fdca26"
             ],
             [
              1,
              "#f0f921"
             ]
            ],
            "type": "heatmap"
           }
          ],
          "heatmapgl": [
           {
            "colorbar": {
             "outlinewidth": 0,
             "ticks": ""
            },
            "colorscale": [
             [
              0,
              "#0d0887"
             ],
             [
              0.1111111111111111,
              "#46039f"
             ],
             [
              0.2222222222222222,
              "#7201a8"
             ],
             [
              0.3333333333333333,
              "#9c179e"
             ],
             [
              0.4444444444444444,
              "#bd3786"
             ],
             [
              0.5555555555555556,
              "#d8576b"
             ],
             [
              0.6666666666666666,
              "#ed7953"
             ],
             [
              0.7777777777777778,
              "#fb9f3a"
             ],
             [
              0.8888888888888888,
              "#fdca26"
             ],
             [
              1,
              "#f0f921"
             ]
            ],
            "type": "heatmapgl"
           }
          ],
          "histogram": [
           {
            "marker": {
             "colorbar": {
              "outlinewidth": 0,
              "ticks": ""
             }
            },
            "type": "histogram"
           }
          ],
          "histogram2d": [
           {
            "colorbar": {
             "outlinewidth": 0,
             "ticks": ""
            },
            "colorscale": [
             [
              0,
              "#0d0887"
             ],
             [
              0.1111111111111111,
              "#46039f"
             ],
             [
              0.2222222222222222,
              "#7201a8"
             ],
             [
              0.3333333333333333,
              "#9c179e"
             ],
             [
              0.4444444444444444,
              "#bd3786"
             ],
             [
              0.5555555555555556,
              "#d8576b"
             ],
             [
              0.6666666666666666,
              "#ed7953"
             ],
             [
              0.7777777777777778,
              "#fb9f3a"
             ],
             [
              0.8888888888888888,
              "#fdca26"
             ],
             [
              1,
              "#f0f921"
             ]
            ],
            "type": "histogram2d"
           }
          ],
          "histogram2dcontour": [
           {
            "colorbar": {
             "outlinewidth": 0,
             "ticks": ""
            },
            "colorscale": [
             [
              0,
              "#0d0887"
             ],
             [
              0.1111111111111111,
              "#46039f"
             ],
             [
              0.2222222222222222,
              "#7201a8"
             ],
             [
              0.3333333333333333,
              "#9c179e"
             ],
             [
              0.4444444444444444,
              "#bd3786"
             ],
             [
              0.5555555555555556,
              "#d8576b"
             ],
             [
              0.6666666666666666,
              "#ed7953"
             ],
             [
              0.7777777777777778,
              "#fb9f3a"
             ],
             [
              0.8888888888888888,
              "#fdca26"
             ],
             [
              1,
              "#f0f921"
             ]
            ],
            "type": "histogram2dcontour"
           }
          ],
          "mesh3d": [
           {
            "colorbar": {
             "outlinewidth": 0,
             "ticks": ""
            },
            "type": "mesh3d"
           }
          ],
          "parcoords": [
           {
            "line": {
             "colorbar": {
              "outlinewidth": 0,
              "ticks": ""
             }
            },
            "type": "parcoords"
           }
          ],
          "pie": [
           {
            "automargin": true,
            "type": "pie"
           }
          ],
          "scatter": [
           {
            "marker": {
             "colorbar": {
              "outlinewidth": 0,
              "ticks": ""
             }
            },
            "type": "scatter"
           }
          ],
          "scatter3d": [
           {
            "line": {
             "colorbar": {
              "outlinewidth": 0,
              "ticks": ""
             }
            },
            "marker": {
             "colorbar": {
              "outlinewidth": 0,
              "ticks": ""
             }
            },
            "type": "scatter3d"
           }
          ],
          "scattercarpet": [
           {
            "marker": {
             "colorbar": {
              "outlinewidth": 0,
              "ticks": ""
             }
            },
            "type": "scattercarpet"
           }
          ],
          "scattergeo": [
           {
            "marker": {
             "colorbar": {
              "outlinewidth": 0,
              "ticks": ""
             }
            },
            "type": "scattergeo"
           }
          ],
          "scattergl": [
           {
            "marker": {
             "colorbar": {
              "outlinewidth": 0,
              "ticks": ""
             }
            },
            "type": "scattergl"
           }
          ],
          "scattermapbox": [
           {
            "marker": {
             "colorbar": {
              "outlinewidth": 0,
              "ticks": ""
             }
            },
            "type": "scattermapbox"
           }
          ],
          "scatterpolar": [
           {
            "marker": {
             "colorbar": {
              "outlinewidth": 0,
              "ticks": ""
             }
            },
            "type": "scatterpolar"
           }
          ],
          "scatterpolargl": [
           {
            "marker": {
             "colorbar": {
              "outlinewidth": 0,
              "ticks": ""
             }
            },
            "type": "scatterpolargl"
           }
          ],
          "scatterternary": [
           {
            "marker": {
             "colorbar": {
              "outlinewidth": 0,
              "ticks": ""
             }
            },
            "type": "scatterternary"
           }
          ],
          "surface": [
           {
            "colorbar": {
             "outlinewidth": 0,
             "ticks": ""
            },
            "colorscale": [
             [
              0,
              "#0d0887"
             ],
             [
              0.1111111111111111,
              "#46039f"
             ],
             [
              0.2222222222222222,
              "#7201a8"
             ],
             [
              0.3333333333333333,
              "#9c179e"
             ],
             [
              0.4444444444444444,
              "#bd3786"
             ],
             [
              0.5555555555555556,
              "#d8576b"
             ],
             [
              0.6666666666666666,
              "#ed7953"
             ],
             [
              0.7777777777777778,
              "#fb9f3a"
             ],
             [
              0.8888888888888888,
              "#fdca26"
             ],
             [
              1,
              "#f0f921"
             ]
            ],
            "type": "surface"
           }
          ],
          "table": [
           {
            "cells": {
             "fill": {
              "color": "#EBF0F8"
             },
             "line": {
              "color": "white"
             }
            },
            "header": {
             "fill": {
              "color": "#C8D4E3"
             },
             "line": {
              "color": "white"
             }
            },
            "type": "table"
           }
          ]
         },
         "layout": {
          "annotationdefaults": {
           "arrowcolor": "#2a3f5f",
           "arrowhead": 0,
           "arrowwidth": 1
          },
          "coloraxis": {
           "colorbar": {
            "outlinewidth": 0,
            "ticks": ""
           }
          },
          "colorscale": {
           "diverging": [
            [
             0,
             "#8e0152"
            ],
            [
             0.1,
             "#c51b7d"
            ],
            [
             0.2,
             "#de77ae"
            ],
            [
             0.3,
             "#f1b6da"
            ],
            [
             0.4,
             "#fde0ef"
            ],
            [
             0.5,
             "#f7f7f7"
            ],
            [
             0.6,
             "#e6f5d0"
            ],
            [
             0.7,
             "#b8e186"
            ],
            [
             0.8,
             "#7fbc41"
            ],
            [
             0.9,
             "#4d9221"
            ],
            [
             1,
             "#276419"
            ]
           ],
           "sequential": [
            [
             0,
             "#0d0887"
            ],
            [
             0.1111111111111111,
             "#46039f"
            ],
            [
             0.2222222222222222,
             "#7201a8"
            ],
            [
             0.3333333333333333,
             "#9c179e"
            ],
            [
             0.4444444444444444,
             "#bd3786"
            ],
            [
             0.5555555555555556,
             "#d8576b"
            ],
            [
             0.6666666666666666,
             "#ed7953"
            ],
            [
             0.7777777777777778,
             "#fb9f3a"
            ],
            [
             0.8888888888888888,
             "#fdca26"
            ],
            [
             1,
             "#f0f921"
            ]
           ],
           "sequentialminus": [
            [
             0,
             "#0d0887"
            ],
            [
             0.1111111111111111,
             "#46039f"
            ],
            [
             0.2222222222222222,
             "#7201a8"
            ],
            [
             0.3333333333333333,
             "#9c179e"
            ],
            [
             0.4444444444444444,
             "#bd3786"
            ],
            [
             0.5555555555555556,
             "#d8576b"
            ],
            [
             0.6666666666666666,
             "#ed7953"
            ],
            [
             0.7777777777777778,
             "#fb9f3a"
            ],
            [
             0.8888888888888888,
             "#fdca26"
            ],
            [
             1,
             "#f0f921"
            ]
           ]
          },
          "colorway": [
           "#636efa",
           "#EF553B",
           "#00cc96",
           "#ab63fa",
           "#FFA15A",
           "#19d3f3",
           "#FF6692",
           "#B6E880",
           "#FF97FF",
           "#FECB52"
          ],
          "font": {
           "color": "#2a3f5f"
          },
          "geo": {
           "bgcolor": "white",
           "lakecolor": "white",
           "landcolor": "#E5ECF6",
           "showlakes": true,
           "showland": true,
           "subunitcolor": "white"
          },
          "hoverlabel": {
           "align": "left"
          },
          "hovermode": "closest",
          "mapbox": {
           "style": "light"
          },
          "paper_bgcolor": "white",
          "plot_bgcolor": "#E5ECF6",
          "polar": {
           "angularaxis": {
            "gridcolor": "white",
            "linecolor": "white",
            "ticks": ""
           },
           "bgcolor": "#E5ECF6",
           "radialaxis": {
            "gridcolor": "white",
            "linecolor": "white",
            "ticks": ""
           }
          },
          "scene": {
           "xaxis": {
            "backgroundcolor": "#E5ECF6",
            "gridcolor": "white",
            "gridwidth": 2,
            "linecolor": "white",
            "showbackground": true,
            "ticks": "",
            "zerolinecolor": "white"
           },
           "yaxis": {
            "backgroundcolor": "#E5ECF6",
            "gridcolor": "white",
            "gridwidth": 2,
            "linecolor": "white",
            "showbackground": true,
            "ticks": "",
            "zerolinecolor": "white"
           },
           "zaxis": {
            "backgroundcolor": "#E5ECF6",
            "gridcolor": "white",
            "gridwidth": 2,
            "linecolor": "white",
            "showbackground": true,
            "ticks": "",
            "zerolinecolor": "white"
           }
          },
          "shapedefaults": {
           "line": {
            "color": "#2a3f5f"
           }
          },
          "ternary": {
           "aaxis": {
            "gridcolor": "white",
            "linecolor": "white",
            "ticks": ""
           },
           "baxis": {
            "gridcolor": "white",
            "linecolor": "white",
            "ticks": ""
           },
           "bgcolor": "#E5ECF6",
           "caxis": {
            "gridcolor": "white",
            "linecolor": "white",
            "ticks": ""
           }
          },
          "title": {
           "x": 0.05
          },
          "xaxis": {
           "automargin": true,
           "gridcolor": "white",
           "linecolor": "white",
           "ticks": "",
           "title": {
            "standoff": 15
           },
           "zerolinecolor": "white",
           "zerolinewidth": 2
          },
          "yaxis": {
           "automargin": true,
           "gridcolor": "white",
           "linecolor": "white",
           "ticks": "",
           "title": {
            "standoff": 15
           },
           "zerolinecolor": "white",
           "zerolinewidth": 2
          }
         }
        },
        "width": 700,
        "xaxis": {
         "title": {
          "text": "Stop value"
         }
        },
        "yaxis": {
         "title": {
          "text": "Avg number of signals"
         }
        }
       },
       "_model_module_version": "^4.8.0",
       "_py2js_animate": {},
       "_py2js_deleteTraces": {},
       "_py2js_moveTraces": {},
       "_py2js_removeLayoutProps": {},
       "_py2js_removeTraceProps": {},
       "_py2js_restyle": {},
       "_view_count": 0,
       "_view_module_version": "^4.8.0"
      }
     },
     "f969cda7432d4fa89d7d34706b508b8e": {
      "model_module": "@jupyter-widgets/base",
      "model_module_version": "1.2.0",
      "model_name": "LayoutModel",
      "state": {}
     },
     "ff56b0207d8043168d46e37dcebc3046": {
      "model_module": "@jupyter-widgets/controls",
      "model_module_version": "1.5.0",
      "model_name": "DescriptionStyleModel",
      "state": {
       "description_width": ""
      }
     }
    },
    "version_major": 2,
    "version_minor": 0
   }
  }
 },
 "nbformat": 4,
 "nbformat_minor": 4
}
