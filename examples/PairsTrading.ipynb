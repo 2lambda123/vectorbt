{
 "cells": [
  {
   "cell_type": "markdown",
   "metadata": {},
   "source": [
    "In this example, we will compare development of a pairs trading strategy using backtrader and vectorbt."
   ]
  },
  {
   "cell_type": "code",
   "execution_count": 1,
   "metadata": {},
   "outputs": [],
   "source": [
    "import numpy as np\n",
    "import pandas as pd\n",
    "import datetime\n",
    "import collections\n",
    "import math"
   ]
  },
  {
   "cell_type": "code",
   "execution_count": 2,
   "metadata": {},
   "outputs": [],
   "source": [
    "import scipy.stats as st\n",
    "\n",
    "SYMBOL1 = 'PEP'\n",
    "SYMBOL2 = 'KO'\n",
    "FROMDATE = datetime.datetime(2017, 1, 1)\n",
    "TODATE = datetime.datetime(2019, 1, 1)\n",
    "PERIOD = 100\n",
    "CASH = 100000\n",
    "COMMPERC = 0.005  # 0.5%\n",
    "ORDER_PCT1 = 0.1\n",
    "ORDER_PCT2 = 0.1\n",
    "UPPER = st.norm.ppf(1 - 0.05 / 2)\n",
    "LOWER = -st.norm.ppf(1 - 0.05 / 2)\n",
    "MODE = 'OLS'  # OLS, log_return"
   ]
  },
  {
   "cell_type": "markdown",
   "metadata": {},
   "source": [
    "## backtrader"
   ]
  },
  {
   "cell_type": "markdown",
   "metadata": {},
   "source": [
    "Adapted version of https://github.com/mementum/backtrader/blob/master/contrib/samples/pair-trading/pair-trading.py"
   ]
  },
  {
   "cell_type": "code",
   "execution_count": 3,
   "metadata": {},
   "outputs": [],
   "source": [
    "import backtrader as bt\n",
    "import backtrader.feeds as btfeeds\n",
    "import backtrader.indicators as btind\n",
    "\n",
    "class CommInfoFloat(bt.CommInfoBase):\n",
    "    \"\"\"Commission schema that keeps size as float.\"\"\"\n",
    "    params = (\n",
    "        ('stocklike', True),\n",
    "        ('commtype', bt.CommInfoBase.COMM_PERC),\n",
    "        ('percabs', True),\n",
    "      )\n",
    "    \n",
    "    def getsize(self, price, cash):\n",
    "        if not self._stocklike:\n",
    "            return self.p.leverage * (cash / self.get_margin(price))\n",
    "\n",
    "        return self.p.leverage * (cash / price)\n",
    "    \n",
    "class OLSSlopeIntercept(btind.PeriodN):\n",
    "    \"\"\"Calculates a linear regression using OLS.\"\"\"\n",
    "    _mindatas = 2  # ensure at least 2 data feeds are passed\n",
    "\n",
    "    packages = (\n",
    "        ('pandas', 'pd'),\n",
    "        ('statsmodels.api', 'sm'),\n",
    "    )\n",
    "    lines = ('slope', 'intercept',)\n",
    "    params = (\n",
    "        ('period', 10),\n",
    "    )\n",
    "\n",
    "    def next(self):\n",
    "        p0 = pd.Series(self.data0.get(size=self.p.period))\n",
    "        p1 = pd.Series(self.data1.get(size=self.p.period))\n",
    "        p1 = sm.add_constant(p1)\n",
    "        intercept, slope = sm.OLS(p0, p1).fit().params\n",
    "\n",
    "        self.lines.slope[0] = slope\n",
    "        self.lines.intercept[0] = intercept\n",
    "        \n",
    "        \n",
    "class Log(btind.Indicator):\n",
    "    \"\"\"Calculates log.\"\"\"\n",
    "    lines = ('log',)\n",
    "    \n",
    "    def next(self):\n",
    "        self.l.log[0] = math.log(self.data[0])\n",
    "\n",
    "\n",
    "class OLSSpread(btind.PeriodN):\n",
    "    \"\"\"Calculates the z-score of the OLS spread.\"\"\"\n",
    "    _mindatas = 2  # ensure at least 2 data feeds are passed\n",
    "    lines = ('spread', 'spread_mean', 'spread_std', 'zscore',)\n",
    "    params = (('period', 10),)\n",
    "\n",
    "    def __init__(self):\n",
    "        data0_log = Log(self.data0)\n",
    "        data1_log = Log(self.data1)\n",
    "        slint = OLSSlopeIntercept(data0_log, data1_log, period=self.p.period)\n",
    "\n",
    "        spread = data0_log - (slint.slope * data1_log + slint.intercept)\n",
    "        self.l.spread = spread\n",
    "\n",
    "        self.l.spread_mean = bt.ind.SMA(spread, period=self.p.period)\n",
    "        self.l.spread_std = bt.ind.StdDev(spread, period=self.p.period)\n",
    "        self.l.zscore = (spread - self.l.spread_mean) / self.l.spread_std\n",
    "    \n",
    "class LogReturns(btind.PeriodN):\n",
    "    \"\"\"Calculates the log returns.\"\"\"\n",
    "    lines = ('logret',)\n",
    "    params = (('period', 1),)\n",
    "    \n",
    "    def __init__(self):\n",
    "        self.addminperiod(self.p.period + 1)\n",
    "    \n",
    "    def next(self):\n",
    "        self.l.logret[0] = math.log(self.data[0] / self.data[-self.p.period])\n",
    "    \n",
    "class LogReturnSpread(btind.PeriodN):\n",
    "    \"\"\"Calculates the spread of the log returns.\"\"\"\n",
    "    _mindatas = 2  # ensure at least 2 data feeds are passed\n",
    "    lines = ('logret0', 'logret1', 'spread', 'spread_mean', 'spread_std', 'zscore',)\n",
    "    params = (('period', 10),)\n",
    "\n",
    "    def __init__(self):\n",
    "        self.l.logret0 = LogReturns(self.data0, period=1)\n",
    "        self.l.logret1 = LogReturns(self.data1, period=1)\n",
    "        self.l.spread = self.l.logret0 - self.l.logret1\n",
    "        self.l.spread_mean = bt.ind.SMA(self.l.spread, period=self.p.period)\n",
    "        self.l.spread_std = bt.ind.StdDev(self.l.spread, period=self.p.period)\n",
    "        self.l.zscore = (self.l.spread - self.l.spread_mean) / self.l.spread_std\n",
    "\n",
    "class PairTradingStrategy(bt.Strategy):\n",
    "    \"\"\"Basic pair trading strategy.\"\"\"\n",
    "    params = dict(\n",
    "        period=PERIOD,\n",
    "        order_pct1=ORDER_PCT1,\n",
    "        order_pct2=ORDER_PCT2,\n",
    "        printout=True,\n",
    "        upper=UPPER,\n",
    "        lower=LOWER,\n",
    "        mode=MODE\n",
    "    )\n",
    "\n",
    "    def log(self, txt, dt=None):\n",
    "        if self.p.printout:\n",
    "            dt = dt or self.data.datetime[0]\n",
    "            dt = bt.num2date(dt)\n",
    "            print('%s, %s' % (dt.isoformat(), txt))\n",
    "\n",
    "    def notify_order(self, order):\n",
    "        if order.status in [bt.Order.Submitted, bt.Order.Accepted]:\n",
    "            return  # Await further notifications\n",
    "\n",
    "        if order.status == order.Completed:\n",
    "            if order.isbuy():\n",
    "                buytxt = 'BUY COMPLETE {}, size = {:.2f}, price = {:.2f}'.format(\n",
    "                    order.data._name, order.executed.size, order.executed.price)\n",
    "                self.log(buytxt, order.executed.dt)\n",
    "            else:\n",
    "                selltxt = 'SELL COMPLETE {}, size = {:.2f}, price = {:.2f}'.format(\n",
    "                    order.data._name, order.executed.size, order.executed.price)\n",
    "                self.log(selltxt, order.executed.dt)\n",
    "\n",
    "        elif order.status in [order.Expired, order.Canceled, order.Margin]:\n",
    "            self.log('%s ,' % order.Status[order.status])\n",
    "            pass  # Simply log\n",
    "\n",
    "        # Allow new orders\n",
    "        self.orderid = None\n",
    "\n",
    "    def __init__(self):\n",
    "        # To control operation entries\n",
    "        self.orderid = None\n",
    "        self.order_pct1 = self.p.order_pct1\n",
    "        self.order_pct2 = self.p.order_pct2\n",
    "        self.upper = self.p.upper\n",
    "        self.lower = self.p.lower\n",
    "        self.status = 0\n",
    "        \n",
    "        # Signals performed with PD.OLS :\n",
    "        if self.p.mode == 'log_return':\n",
    "            self.transform = LogReturnSpread(self.data0, self.data1, period=self.p.period)\n",
    "        elif self.p.mode == 'OLS':\n",
    "            self.transform = OLSSpread(self.data0, self.data1, period=self.p.period)\n",
    "        else:\n",
    "            raise ValueError(\"Unknown mode\")\n",
    "        self.spread = self.transform.spread\n",
    "        self.zscore = self.transform.zscore\n",
    "        \n",
    "        # For tracking\n",
    "        self.spread_sr = pd.Series(dtype=float, name='spread')\n",
    "        self.zscore_sr = pd.Series(dtype=float, name='zscore')\n",
    "        self.short_signal_sr = pd.Series(dtype=bool, name='short_signals')\n",
    "        self.long_signal_sr = pd.Series(dtype=bool, name='long_signals')\n",
    "\n",
    "    def next(self):\n",
    "        if self.orderid:\n",
    "            return  # if an order is active, no new orders are allowed\n",
    "        \n",
    "        self.spread_sr[self.data0.datetime.datetime()] = self.spread[0]\n",
    "        self.zscore_sr[self.data0.datetime.datetime()] = self.zscore[0]\n",
    "        self.short_signal_sr[self.data0.datetime.datetime()] = False\n",
    "        self.long_signal_sr[self.data0.datetime.datetime()] = False\n",
    "\n",
    "        if self.zscore[0] > self.upper and self.status != 1:\n",
    "            # Check conditions for shorting the spread & place the order\n",
    "            self.short_signal_sr[self.data0.datetime.datetime()] = True\n",
    "\n",
    "            # Placing the order\n",
    "            self.log('SELL CREATE {}, price = {:.2f}, target pct = {:.2%}'.format(\n",
    "                self.data0._name, self.data0.close[0], -self.order_pct1))\n",
    "            self.order_target_percent(data=self.data0, target=-self.order_pct1)\n",
    "            self.log('BUY CREATE {}, price = {:.2f}, target pct = {:.2%}'.format(\n",
    "                self.data1._name, self.data1.close[0], self.order_pct2))\n",
    "            self.order_target_percent(data=self.data1, target=self.order_pct2)\n",
    "\n",
    "            self.status = 1\n",
    "\n",
    "        elif self.zscore[0] < self.lower and self.status != 2:\n",
    "            # Check conditions for longing the spread & place the order\n",
    "            self.long_signal_sr[self.data0.datetime.datetime()] = True\n",
    "\n",
    "            # Place the order\n",
    "            self.log('SELL CREATE {}, price = {:.2f}, target pct = {:.2%}'.format(\n",
    "                self.data1._name, self.data1.close[0], -self.order_pct2))\n",
    "            self.order_target_percent(data=self.data1, target=-self.order_pct2)\n",
    "            self.log('BUY CREATE {}, price = {:.2f}, target pct = {:.2%}'.format(\n",
    "                self.data0._name, self.data0.close[0], self.order_pct1))\n",
    "            self.order_target_percent(data=self.data0, target=self.order_pct1)\n",
    "                     \n",
    "            self.status = 2\n",
    "\n",
    "    def stop(self):\n",
    "        if self.p.printout:\n",
    "            print('==================================================')\n",
    "            print('Starting Value - %.2f' % self.broker.startingcash)\n",
    "            print('Ending   Value - %.2f' % self.broker.getvalue())\n",
    "            print('==================================================')"
   ]
  },
  {
   "cell_type": "code",
   "execution_count": 4,
   "metadata": {},
   "outputs": [],
   "source": [
    "class DataAnalyzer(bt.analyzers.Analyzer):\n",
    "    \"\"\"Analyzer to extract OHLCV.\"\"\"\n",
    "    def create_analysis(self):\n",
    "        self.rets0 = {}\n",
    "        self.rets1 = {}\n",
    "\n",
    "    def next(self):\n",
    "        self.rets0[self.strategy.datetime.datetime()] = [\n",
    "            self.data0.open[0],\n",
    "            self.data0.high[0],\n",
    "            self.data0.low[0],\n",
    "            self.data0.close[0],\n",
    "            self.data0.volume[0]\n",
    "        ]\n",
    "        self.rets1[self.strategy.datetime.datetime()] = [\n",
    "            self.data1.open[0],\n",
    "            self.data1.high[0],\n",
    "            self.data1.low[0],\n",
    "            self.data1.close[0],\n",
    "            self.data1.volume[0]\n",
    "        ]\n",
    "\n",
    "    def get_analysis(self):\n",
    "        return self.rets0, self.rets1\n",
    "\n",
    "class CashValueAnalyzer(bt.analyzers.Analyzer):\n",
    "    \"\"\"Analyzer to extract cash and value.\"\"\"\n",
    "    def create_analysis(self):\n",
    "        self.rets = {}\n",
    "\n",
    "    def notify_cashvalue(self, cash, value):\n",
    "        self.rets[self.strategy.datetime.datetime()] = (cash, value)\n",
    "\n",
    "    def get_analysis(self):\n",
    "        return self.rets\n",
    "    \n",
    "class OrderAnalyzer(bt.analyzers.Analyzer):\n",
    "    \"\"\"Analyzer to extract order price, size, value, and paid commission.\"\"\"\n",
    "    def create_analysis(self):\n",
    "        self.rets0 = {}\n",
    "        self.rets1 = {}\n",
    "\n",
    "    def notify_order(self, order):\n",
    "        if order.status == order.Completed:\n",
    "            if order.data._name == SYMBOL1:\n",
    "                rets = self.rets0\n",
    "            else:\n",
    "                rets = self.rets1\n",
    "            rets[self.strategy.datetime.datetime()] = (\n",
    "                order.executed.price,\n",
    "                order.executed.size,\n",
    "                -order.executed.size * order.executed.price,\n",
    "                order.executed.comm\n",
    "            )\n",
    "\n",
    "    def get_analysis(self):\n",
    "        return self.rets0, self.rets1"
   ]
  },
  {
   "cell_type": "code",
   "execution_count": 5,
   "metadata": {},
   "outputs": [],
   "source": [
    "def prepare_cerebro(data0, data1, use_analyzers=True, **params):\n",
    "    # Create a cerebro\n",
    "    cerebro = bt.Cerebro()\n",
    "\n",
    "    # Add the 1st data to cerebro\n",
    "    cerebro.adddata(data0)\n",
    "\n",
    "    # Add the 2nd data to cerebro\n",
    "    cerebro.adddata(data1)\n",
    "\n",
    "    # Add the strategy\n",
    "    cerebro.addstrategy(PairTradingStrategy, **params)\n",
    "\n",
    "    # Add the commission - only stocks like a for each operation\n",
    "    cerebro.broker.setcash(CASH)\n",
    "\n",
    "    # Add the commission - only stocks like a for each operation\n",
    "    comminfo = CommInfoFloat(commission=COMMPERC)\n",
    "    cerebro.broker.addcommissioninfo(comminfo)\n",
    "\n",
    "    if use_analyzers:\n",
    "        # Add analyzers    \n",
    "        cerebro.addanalyzer(DataAnalyzer)\n",
    "        cerebro.addanalyzer(CashValueAnalyzer)\n",
    "        cerebro.addanalyzer(OrderAnalyzer)\n",
    "    \n",
    "    return cerebro"
   ]
  },
  {
   "cell_type": "code",
   "execution_count": 6,
   "metadata": {},
   "outputs": [
    {
     "name": "stdout",
     "output_type": "stream",
     "text": [
      "2017-11-14T23:59:59.999989, SELL CREATE PEP, price = 104.17, target pct = -10.00%\n",
      "2017-11-14T23:59:59.999989, BUY CREATE KO, price = 42.26, target pct = 10.00%\n",
      "2017-11-15T23:59:59.999989, SELL COMPLETE PEP, size = -96.00, price = 104.07\n",
      "2017-11-15T23:59:59.999989, BUY COMPLETE KO, size = 236.63, price = 42.17\n",
      "2018-04-11T23:59:59.999989, SELL CREATE KO, price = 39.87, target pct = -10.00%\n",
      "2018-04-11T23:59:59.999989, BUY CREATE PEP, price = 99.21, target pct = 10.00%\n",
      "2018-04-12T23:59:59.999989, SELL COMPLETE KO, size = -487.00, price = 39.95\n",
      "2018-04-12T23:59:59.999989, BUY COMPLETE PEP, size = 196.61, price = 99.46\n",
      "2018-08-31T23:59:59.999989, SELL CREATE PEP, price = 103.19, target pct = -10.00%\n",
      "2018-08-31T23:59:59.999989, BUY CREATE KO, price = 40.76, target pct = 10.00%\n",
      "2018-09-04T23:59:59.999989, SELL COMPLETE PEP, size = -197.33, price = 103.01\n",
      "2018-09-04T23:59:59.999989, BUY COMPLETE KO, size = 495.21, price = 40.78\n",
      "2018-10-02T23:59:59.999989, SELL CREATE KO, price = 42.89, target pct = -10.00%\n",
      "2018-10-02T23:59:59.999989, BUY CREATE PEP, price = 100.98, target pct = 10.00%\n",
      "2018-10-03T23:59:59.999989, SELL COMPLETE KO, size = -478.65, price = 42.84\n",
      "2018-10-03T23:59:59.999989, BUY COMPLETE PEP, size = 196.02, price = 101.44\n",
      "2018-11-30T23:59:59.999989, SELL CREATE PEP, price = 113.26, target pct = -10.00%\n",
      "2018-11-30T23:59:59.999989, BUY CREATE KO, price = 46.85, target pct = 10.00%\n",
      "2018-12-03T23:59:59.999989, SELL COMPLETE PEP, size = -187.83, price = 111.91\n",
      "2018-12-03T23:59:59.999989, BUY COMPLETE KO, size = 447.81, price = 46.35\n",
      "==================================================\n",
      "Starting Value - 100000.00\n",
      "Ending   Value - 100283.45\n",
      "==================================================\n"
     ]
    }
   ],
   "source": [
    "# Create the 1st data\n",
    "data0 = btfeeds.YahooFinanceData(\n",
    "    dataname=SYMBOL1,\n",
    "    fromdate=FROMDATE,\n",
    "    todate=TODATE)\n",
    "\n",
    "# Create the 2nd data\n",
    "data1 = btfeeds.YahooFinanceData(\n",
    "    dataname=SYMBOL2,\n",
    "    fromdate=FROMDATE,\n",
    "    todate=TODATE)\n",
    "\n",
    "# Prepare a cerebro\n",
    "cerebro = prepare_cerebro(data0, data1)\n",
    "\n",
    "# And run it\n",
    "bt_strategy = cerebro.run()[0]"
   ]
  },
  {
   "cell_type": "code",
   "execution_count": 7,
   "metadata": {},
   "outputs": [
    {
     "data": {
      "text/plain": [
       "[[<Figure size 936x576 with 7 Axes>]]"
      ]
     },
     "execution_count": 7,
     "metadata": {},
     "output_type": "execute_result"
    }
   ],
   "source": [
    "%matplotlib inline\n",
    "import matplotlib.pyplot as plt\n",
    "\n",
    "plt.rcParams[\"figure.figsize\"] = (13, 8)\n",
    "cerebro.plot(iplot=False)"
   ]
  },
  {
   "cell_type": "code",
   "execution_count": 8,
   "metadata": {},
   "outputs": [
    {
     "name": "stdout",
     "output_type": "stream",
     "text": [
      "(502, 5)\n",
      "(502, 5)\n",
      "                              open    high     low   close     volume\n",
      "2017-01-03 23:59:59.999989   92.50   92.63   91.86   92.25  4244248.0\n",
      "2018-12-31 23:59:59.999989  103.53  104.00  102.35  103.43  5361088.0\n",
      "                             open   high    low  close      volume\n",
      "2017-01-03 23:59:59.999989  36.07  36.34  35.88  36.33  16925193.0\n",
      "2018-12-31 23:59:59.999989  44.14  44.19  43.65  44.01  11378747.0\n"
     ]
    }
   ],
   "source": [
    "# Extract OHLCV\n",
    "bt_s1_rets, bt_s2_rets = bt_strategy.analyzers.dataanalyzer.get_analysis()\n",
    "data_cols = ['open', 'high', 'low', 'close', 'volume']\n",
    "bt_s1_ohlcv = pd.DataFrame.from_dict(bt_s1_rets, orient='index', columns=data_cols)\n",
    "bt_s2_ohlcv = pd.DataFrame.from_dict(bt_s2_rets, orient='index', columns=data_cols)\n",
    "\n",
    "print(bt_s1_ohlcv.shape)\n",
    "print(bt_s2_ohlcv.shape)\n",
    "\n",
    "print(bt_s1_ohlcv.iloc[[0, -1]])\n",
    "print(bt_s2_ohlcv.iloc[[0, -1]])"
   ]
  },
  {
   "cell_type": "code",
   "execution_count": 9,
   "metadata": {},
   "outputs": [
    {
     "name": "stdout",
     "output_type": "stream",
     "text": [
      "2017-01-03 23:59:59.999989    100000.000000\n",
      "2018-12-31 23:59:59.999989    100021.050919\n",
      "Name: cash, dtype: float64\n",
      "2017-01-03 23:59:59.999989    100000.000000\n",
      "2018-12-31 23:59:59.999989    100283.454912\n",
      "Name: value, dtype: float64\n"
     ]
    }
   ],
   "source": [
    "# Extract cash and value series\n",
    "bt_cashvalue_rets = bt_strategy.analyzers.cashvalueanalyzer.get_analysis()\n",
    "bt_cashvalue_df = pd.DataFrame.from_dict(bt_cashvalue_rets, orient='index', columns=['cash', 'value'])\n",
    "bt_cash = bt_cashvalue_df['cash']\n",
    "bt_value = bt_cashvalue_df['value']\n",
    "\n",
    "print(bt_cash.iloc[[0, -1]])\n",
    "print(bt_value.iloc[[0, -1]])"
   ]
  },
  {
   "cell_type": "code",
   "execution_count": 10,
   "metadata": {},
   "outputs": [
    {
     "name": "stdout",
     "output_type": "stream",
     "text": [
      "                            order_price  order_size   order_value  order_comm\n",
      "2017-11-15 23:59:59.999989       104.07  -95.996928   9990.400307   49.952002\n",
      "2018-12-03 23:59:59.999989       111.91 -187.830431  21020.103503  105.100518\n",
      "                            order_price  order_size   order_value  order_comm\n",
      "2017-11-15 23:59:59.999989        42.17  236.630383  -9978.703265   49.893516\n",
      "2018-12-03 23:59:59.999989        46.35  447.813417 -20756.151875  103.780759\n"
     ]
    }
   ],
   "source": [
    "# Extract order info\n",
    "bt_s1_order_rets, bt_s2_order_rets = bt_strategy.analyzers.orderanalyzer.get_analysis()\n",
    "order_cols = ['order_price', 'order_size', 'order_value', 'order_comm']\n",
    "bt_s1_orders = pd.DataFrame.from_dict(bt_s1_order_rets, orient='index', columns=order_cols)\n",
    "bt_s2_orders = pd.DataFrame.from_dict(bt_s2_order_rets, orient='index', columns=order_cols)\n",
    "\n",
    "print(bt_s1_orders.iloc[[0, -1]])\n",
    "print(bt_s2_orders.iloc[[0, -1]])"
   ]
  },
  {
   "cell_type": "code",
   "execution_count": 11,
   "metadata": {},
   "outputs": [
    {
     "name": "stdout",
     "output_type": "stream",
     "text": [
      "2017-10-16 23:59:59.999989   -0.009389\n",
      "2018-12-31 23:59:59.999989   -0.021164\n",
      "Name: spread, dtype: float64\n",
      "2017-10-16 23:59:59.999989    0.242833\n",
      "2018-12-31 23:59:59.999989   -0.308207\n",
      "Name: zscore, dtype: float64\n"
     ]
    }
   ],
   "source": [
    "# Extract spread and z-score\n",
    "bt_spread = bt_strategy.spread_sr\n",
    "bt_zscore = bt_strategy.zscore_sr\n",
    "\n",
    "print(bt_spread.iloc[[0, -1]])\n",
    "print(bt_zscore.iloc[[0, -1]])"
   ]
  },
  {
   "cell_type": "code",
   "execution_count": 12,
   "metadata": {},
   "outputs": [
    {
     "name": "stdout",
     "output_type": "stream",
     "text": [
      "2017-11-14 23:59:59.999989    True\n",
      "2018-08-31 23:59:59.999989    True\n",
      "2018-11-30 23:59:59.999989    True\n",
      "Name: short_signals, dtype: bool\n",
      "2018-04-11 23:59:59.999989    True\n",
      "2018-10-02 23:59:59.999989    True\n",
      "Name: long_signals, dtype: bool\n"
     ]
    }
   ],
   "source": [
    "# Extract signals\n",
    "bt_short_signals = bt_strategy.short_signal_sr\n",
    "bt_long_signals = bt_strategy.long_signal_sr\n",
    "\n",
    "print(bt_short_signals[bt_short_signals])\n",
    "print(bt_long_signals[bt_long_signals])"
   ]
  },
  {
   "cell_type": "code",
   "execution_count": 13,
   "metadata": {},
   "outputs": [
    {
     "name": "stdout",
     "output_type": "stream",
     "text": [
      "2.5 s ± 121 ms per loop (mean ± std. dev. of 7 runs, 1 loop each)\n"
     ]
    }
   ],
   "source": [
    "# How fast is bt?\n",
    "# Preload data manually by using PandasData\n",
    "data0 = bt.feeds.PandasData(dataname=bt_s1_ohlcv)\n",
    "data1 = bt.feeds.PandasData(dataname=bt_s2_ohlcv)\n",
    "\n",
    "cerebro = prepare_cerebro(data0, data1, use_analyzers=False, printout=False)\n",
    "\n",
    "%timeit cerebro.run(preload=False)"
   ]
  },
  {
   "cell_type": "markdown",
   "metadata": {},
   "source": [
    "## vectorbt"
   ]
  },
  {
   "cell_type": "markdown",
   "metadata": {},
   "source": [
    "### Using Portfolio.from_orders"
   ]
  },
  {
   "cell_type": "code",
   "execution_count": 14,
   "metadata": {},
   "outputs": [],
   "source": [
    "import vectorbt as vbt\n",
    "\n",
    "tz = vbt.utils.datetime.to_timezone('UTC')\n",
    "start_date = FROMDATE.replace(tzinfo=tz)\n",
    "end_date = TODATE.replace(tzinfo=tz)\n",
    "data = vbt.YFData.download(\n",
    "    [SYMBOL1, SYMBOL2], \n",
    "    start=start_date, \n",
    "    end=end_date,\n",
    "    tz_localize=tz\n",
    ")\n",
    "data = data.loc[(data.wrapper.index >= start_date) & (data.wrapper.index < end_date)]"
   ]
  },
  {
   "cell_type": "code",
   "execution_count": 15,
   "metadata": {},
   "outputs": [
    {
     "name": "stdout",
     "output_type": "stream",
     "text": [
      "                                 Open        High         Low       Close  \\\n",
      "Date                                                                        \n",
      "2017-01-03 00:00:00+00:00   92.502028   92.634244   91.858548   92.246399   \n",
      "2018-12-31 00:00:00+00:00  103.526008  104.003469  102.346382  103.432388   \n",
      "\n",
      "                            Volume  Dividends  Stock Splits  \n",
      "Date                                                         \n",
      "2017-01-03 00:00:00+00:00  3741200        0.0             0  \n",
      "2018-12-31 00:00:00+00:00  5019100        0.0             0  \n",
      "                                Open       High        Low      Close  \\\n",
      "Date                                                                    \n",
      "2017-01-03 00:00:00+00:00  36.070874  36.340321  35.879654  36.331627   \n",
      "2018-12-31 00:00:00+00:00  44.140933  44.187406  43.648307  44.010803   \n",
      "\n",
      "                             Volume  Dividends  Stock Splits  \n",
      "Date                                                          \n",
      "2017-01-03 00:00:00+00:00  14711000        0.0             0  \n",
      "2018-12-31 00:00:00+00:00  10576300        0.0             0  \n"
     ]
    }
   ],
   "source": [
    "print(data.data[SYMBOL1].iloc[[0, -1]])\n",
    "print(data.data[SYMBOL2].iloc[[0, -1]])"
   ]
  },
  {
   "cell_type": "code",
   "execution_count": 16,
   "metadata": {},
   "outputs": [
    {
     "name": "stdout",
     "output_type": "stream",
     "text": [
      "\n",
      "Not equal to tolerance rtol=1e-07, atol=0\n",
      "\n",
      "Mismatched elements: 2507 / 2510 (99.9%)\n",
      "Max absolute difference: 2357020.\n",
      "Max relative difference: 0.13446199\n",
      " x: array([[9.250000e+01, 9.263000e+01, 9.186000e+01, 9.225000e+01,\n",
      "        4.244248e+06],\n",
      "       [9.265000e+01, 9.311000e+01, 9.237000e+01, 9.242000e+01,...\n",
      " y: array([[9.250203e+01, 9.263424e+01, 9.185855e+01, 9.224640e+01,\n",
      "        3.741200e+06],\n",
      "       [9.265186e+01, 9.311023e+01, 9.236979e+01, 9.242268e+01,...\n"
     ]
    }
   ],
   "source": [
    "# data is not equal, partly because of rounding on bt's side, and volume is also different\n",
    "try:\n",
    "    np.testing.assert_allclose(bt_s1_ohlcv.values, data.data[SYMBOL1].iloc[:, :5].values)\n",
    "    np.testing.assert_allclose(bt_s2_ohlcv.values, data.data[SYMBOL2].iloc[:, :5].values)\n",
    "except AssertionError as e:\n",
    "    print(e)"
   ]
  },
  {
   "cell_type": "code",
   "execution_count": 17,
   "metadata": {},
   "outputs": [],
   "source": [
    "# For the backtesting results to match, we need to use the same data as bt\n",
    "vbt_s1_ohlcv = bt_s1_ohlcv.copy()\n",
    "vbt_s2_ohlcv = bt_s2_ohlcv.copy()"
   ]
  },
  {
   "cell_type": "code",
   "execution_count": 18,
   "metadata": {},
   "outputs": [],
   "source": [
    "from numba import njit\n",
    "\n",
    "@njit\n",
    "def rolling_logret_zscore_nb(a, b, period):\n",
    "    \"\"\"Calculate the log return spread.\"\"\"\n",
    "    spread = np.full_like(a, np.nan, dtype=np.float_)\n",
    "    spread[1:] = np.log(a[1:] / a[:-1]) - np.log(b[1:] / b[:-1])\n",
    "    zscore = np.full_like(a, np.nan, dtype=np.float_)\n",
    "    for i in range(a.shape[0]):\n",
    "        from_i = max(0, i + 1 - period)\n",
    "        to_i = i + 1\n",
    "        if i < period - 1:\n",
    "            continue\n",
    "        spread_mean = np.mean(spread[from_i:to_i])\n",
    "        spread_std = np.std(spread[from_i:to_i])\n",
    "        zscore[i] = (spread[i] - spread_mean) / spread_std\n",
    "    return spread, zscore\n",
    "\n",
    "@njit\n",
    "def ols_spread_nb(a, b):\n",
    "    \"\"\"Calculate the OLS spread.\"\"\"\n",
    "    a = np.log(a)\n",
    "    b = np.log(b)\n",
    "    _b = np.vstack((b, np.ones(len(b)))).T\n",
    "    slope, intercept = np.dot(np.linalg.inv(np.dot(_b.T, _b)), np.dot(_b.T, a))\n",
    "    spread = a - (slope * b + intercept)\n",
    "    return spread[-1]\n",
    "    \n",
    "@njit\n",
    "def rolling_ols_zscore_nb(a, b, period):\n",
    "    \"\"\"Calculate the z-score of the rolling OLS spread.\"\"\"\n",
    "    spread = np.full_like(a, np.nan, dtype=np.float_)\n",
    "    zscore = np.full_like(a, np.nan, dtype=np.float_)\n",
    "    for i in range(a.shape[0]):\n",
    "        from_i = max(0, i + 1 - period)\n",
    "        to_i = i + 1\n",
    "        if i < period - 1:\n",
    "            continue\n",
    "        spread[i] = ols_spread_nb(a[from_i:to_i], b[from_i:to_i])\n",
    "        spread_mean = np.mean(spread[from_i:to_i])\n",
    "        spread_std = np.std(spread[from_i:to_i])\n",
    "        zscore[i] = (spread[i] - spread_mean) / spread_std\n",
    "    return spread, zscore"
   ]
  },
  {
   "cell_type": "code",
   "execution_count": 19,
   "metadata": {},
   "outputs": [],
   "source": [
    "# Calculate OLS z-score using Numba for a nice speedup\n",
    "if MODE == 'OLS':\n",
    "    vbt_spread, vbt_zscore = rolling_ols_zscore_nb(\n",
    "        vbt_s1_ohlcv['close'].values, \n",
    "        vbt_s2_ohlcv['close'].values, \n",
    "        PERIOD\n",
    "    )\n",
    "elif MODE == 'log_return':\n",
    "    vbt_spread, vbt_zscore = rolling_logret_zscore_nb(\n",
    "        vbt_s1_ohlcv['close'].values, \n",
    "        vbt_s2_ohlcv['close'].values, \n",
    "        PERIOD\n",
    "    )\n",
    "else:\n",
    "    raise ValueError(\"Unknown mode\")\n",
    "vbt_spread = pd.Series(vbt_spread, index=vbt_s1_ohlcv.index, name='spread')\n",
    "vbt_zscore = pd.Series(vbt_zscore, index=vbt_s1_ohlcv.index, name='zscore')"
   ]
  },
  {
   "cell_type": "code",
   "execution_count": 20,
   "metadata": {},
   "outputs": [],
   "source": [
    "# Assert equality of bt and vbt z-score arrays\n",
    "pd.testing.assert_series_equal(bt_spread, vbt_spread[bt_spread.index])\n",
    "pd.testing.assert_series_equal(bt_zscore, vbt_zscore[bt_zscore.index])"
   ]
  },
  {
   "cell_type": "code",
   "execution_count": 21,
   "metadata": {},
   "outputs": [],
   "source": [
    "# Generate short and long spread signals\n",
    "vbt_short_signals = (vbt_zscore > UPPER).rename('short_signals')\n",
    "vbt_long_signals = (vbt_zscore < LOWER).rename('long_signals')"
   ]
  },
  {
   "cell_type": "code",
   "execution_count": 22,
   "metadata": {},
   "outputs": [
    {
     "data": {
      "image/png": "[encoded data removed]"
     },
     "metadata": {},
     "output_type": "display_data"
    }
   ],
   "source": [
    "vbt_short_signals, vbt_long_signals = pd.Series.vbt.signals.clean(\n",
    "    vbt_short_signals, vbt_long_signals, entry_first=False, broadcast_kwargs=dict(columns_from=None))\n",
    "\n",
    "def plot_spread_and_zscore(spread, zscore):\n",
    "    fig = vbt.make_subplots(rows=2, cols=1, shared_xaxes=True, vertical_spacing=0.05)\n",
    "    spread.vbt.plot(add_trace_kwargs=dict(row=1, col=1), fig=fig)\n",
    "    zscore.vbt.plot(add_trace_kwargs=dict(row=2, col=1), fig=fig)\n",
    "    vbt_short_signals.vbt.signals.plot_as_exit_markers(zscore, add_trace_kwargs=dict(row=2, col=1), fig=fig)\n",
    "    vbt_long_signals.vbt.signals.plot_as_entry_markers(zscore, add_trace_kwargs=dict(row=2, col=1), fig=fig)\n",
    "    fig.update_layout(height=500)\n",
    "    fig.add_shape(\n",
    "        type=\"rect\",\n",
    "        xref='paper',\n",
    "        yref='y2',\n",
    "        x0=0,\n",
    "        y0=UPPER,\n",
    "        x1=1,\n",
    "        y1=LOWER,\n",
    "        fillcolor=\"gray\",\n",
    "        opacity=0.2,\n",
    "        layer=\"below\",\n",
    "        line_width=0,\n",
    "    )\n",
    "    return fig\n",
    "    \n",
    "plot_spread_and_zscore(vbt_spread, vbt_zscore).show_png()"
   ]
  },
  {
   "cell_type": "code",
   "execution_count": 23,
   "metadata": {},
   "outputs": [],
   "source": [
    "# Assert equality of bt and vbt signal arrays\n",
    "pd.testing.assert_series_equal(\n",
    "    bt_short_signals[bt_short_signals], \n",
    "    vbt_short_signals[vbt_short_signals]\n",
    ")\n",
    "pd.testing.assert_series_equal(\n",
    "    bt_long_signals[bt_long_signals], \n",
    "    vbt_long_signals[vbt_long_signals]\n",
    ")"
   ]
  },
  {
   "cell_type": "code",
   "execution_count": 24,
   "metadata": {},
   "outputs": [
    {
     "name": "stdout",
     "output_type": "stream",
     "text": [
      "symbol                      PEP   KO\n",
      "2017-11-15 23:59:59.999989 -0.1  0.1\n",
      "2018-04-12 23:59:59.999989  0.1 -0.1\n",
      "2018-09-04 23:59:59.999989 -0.1  0.1\n",
      "2018-10-03 23:59:59.999989  0.1 -0.1\n",
      "2018-12-03 23:59:59.999989 -0.1  0.1\n"
     ]
    }
   ],
   "source": [
    "# Build percentage order size\n",
    "symbol_cols = pd.Index([SYMBOL1, SYMBOL2], name='symbol')\n",
    "vbt_order_size = pd.DataFrame(index=vbt_s1_ohlcv.index, columns=symbol_cols)\n",
    "vbt_order_size[SYMBOL1] = np.nan\n",
    "vbt_order_size[SYMBOL2] = np.nan\n",
    "vbt_order_size.loc[vbt_short_signals, SYMBOL1] = -ORDER_PCT1\n",
    "vbt_order_size.loc[vbt_long_signals, SYMBOL1] = ORDER_PCT1\n",
    "vbt_order_size.loc[vbt_short_signals, SYMBOL2] = ORDER_PCT2\n",
    "vbt_order_size.loc[vbt_long_signals, SYMBOL2] = -ORDER_PCT2\n",
    "\n",
    "# Execute at the next bar\n",
    "vbt_order_size = vbt_order_size.vbt.fshift(1)\n",
    "\n",
    "print(vbt_order_size[~vbt_order_size.isnull().any(axis=1)])"
   ]
  },
  {
   "cell_type": "code",
   "execution_count": 25,
   "metadata": {},
   "outputs": [],
   "source": [
    "# Simulate the portfolio\n",
    "vbt_close_price = pd.concat((vbt_s1_ohlcv['close'], vbt_s2_ohlcv['close']), axis=1, keys=symbol_cols)\n",
    "vbt_open_price = pd.concat((vbt_s1_ohlcv['open'], vbt_s2_ohlcv['open']), axis=1, keys=symbol_cols)\n",
    "\n",
    "def simulate_from_orders():\n",
    "    \"\"\"Simulate using `Portfolio.from_orders`.\"\"\"\n",
    "    return vbt.Portfolio.from_orders(\n",
    "        vbt_close_price,  # current close as reference price\n",
    "        size=vbt_order_size,  \n",
    "        price=vbt_open_price,  # current open as execution price\n",
    "        size_type='targetpercent', \n",
    "        val_price=vbt_close_price.vbt.fshift(1),  # previous close as group valuation price\n",
    "        init_cash=CASH,\n",
    "        fees=COMMPERC,\n",
    "        cash_sharing=True,  # share capital between assets in the same group\n",
    "        group_by=True,  # all columns belong to the same group\n",
    "        call_seq='auto',  # sell before buying\n",
    "        freq='d'  # index frequency for annualization\n",
    "    )\n",
    "\n",
    "vbt_portfolio = simulate_from_orders()"
   ]
  },
  {
   "cell_type": "code",
   "execution_count": 26,
   "metadata": {},
   "outputs": [
    {
     "name": "stdout",
     "output_type": "stream",
     "text": [
      "   Order Id                       Date Column        Size   Price        Fees  \\\n",
      "0         0 2017-11-15 23:59:59.999989    PEP   95.996928  104.07   49.952002   \n",
      "1         1 2017-11-15 23:59:59.999989     KO  236.630383   42.17   49.893516   \n",
      "2         2 2018-04-12 23:59:59.999989     KO  487.000209   39.95   97.278292   \n",
      "3         3 2018-04-12 23:59:59.999989    PEP  196.614255   99.46   97.776269   \n",
      "4         4 2018-09-04 23:59:59.999989    PEP  197.327114  103.01  101.633330   \n",
      "5         5 2018-09-04 23:59:59.999989     KO  495.205031   40.78  100.972306   \n",
      "6         6 2018-10-03 23:59:59.999989     KO  478.647348   42.84  102.526262   \n",
      "7         7 2018-10-03 23:59:59.999989    PEP  196.018589  101.44   99.420628   \n",
      "8         8 2018-12-03 23:59:59.999989    PEP  187.830431  111.91  105.100518   \n",
      "9         9 2018-12-03 23:59:59.999989     KO  447.813417   46.35  103.780759   \n",
      "\n",
      "   Side  \n",
      "0  Sell  \n",
      "1   Buy  \n",
      "2  Sell  \n",
      "3   Buy  \n",
      "4  Sell  \n",
      "5   Buy  \n",
      "6  Sell  \n",
      "7   Buy  \n",
      "8  Sell  \n",
      "9   Buy  \n"
     ]
    }
   ],
   "source": [
    "print(vbt_portfolio.orders.records_readable)"
   ]
  },
  {
   "cell_type": "code",
   "execution_count": 27,
   "metadata": {},
   "outputs": [],
   "source": [
    "# Proof that both bt and vbt produce the same result\n",
    "pd.testing.assert_series_equal(bt_cash, vbt_portfolio.cash().rename('cash'))\n",
    "pd.testing.assert_series_equal(bt_value, vbt_portfolio.value().rename('value'))"
   ]
  },
  {
   "cell_type": "code",
   "execution_count": 28,
   "metadata": {},
   "outputs": [
    {
     "name": "stdout",
     "output_type": "stream",
     "text": [
      "Start                     2017-01-03 23:59:59.999989\n",
      "End                       2018-12-31 23:59:59.999989\n",
      "Duration                           502 days 00:00:00\n",
      "Init. Cash                                    100000\n",
      "Total Profit                                 283.455\n",
      "Total Return [%]                            0.283455\n",
      "Benchmark Return [%]                         16.6294\n",
      "Position Coverage [%]                        56.1753\n",
      "Max. Drawdown [%]                            1.03211\n",
      "Avg. Drawdown [%]                           0.398855\n",
      "Max. Drawdown Duration             169 days 00:00:00\n",
      "Avg. Drawdown Duration              40 days 00:00:00\n",
      "Num. Trades                                        8\n",
      "Win Rate [%]                                    62.5\n",
      "Best Trade [%]                               9.26977\n",
      "Worst Trade [%]                             -9.23424\n",
      "Avg. Trade [%]                               0.15884\n",
      "Max. Trade Duration                100 days 00:00:00\n",
      "Avg. Trade Duration                 65 days 18:00:00\n",
      "Expectancy                                   16.5852\n",
      "SQN                                        0.0776192\n",
      "Gross Exposure                          -0.000812182\n",
      "Sharpe Ratio                                0.184537\n",
      "Sortino Ratio                               0.266326\n",
      "Calmar Ratio                                0.199608\n",
      "dtype: object\n"
     ]
    }
   ],
   "source": [
    "print(vbt_portfolio.stats())"
   ]
  },
  {
   "cell_type": "code",
   "execution_count": 29,
   "metadata": {},
   "outputs": [
    {
     "data": {
      "image/png": "[encoded data removed]"
     },
     "metadata": {},
     "output_type": "display_data"
    }
   ],
   "source": [
    "# Plot portfolio\n",
    "from functools import partial\n",
    "\n",
    "def plot_orders(portfolio, column=None, add_trace_kwargs=None, fig=None):\n",
    "    portfolio.orders.plot(column=column, add_trace_kwargs=add_trace_kwargs, fig=fig)\n",
    "\n",
    "vbt_portfolio.plot(subplots=[\n",
    "    'cum_returns',\n",
    "    ('symbol1_orders', dict(\n",
    "        title=f\"Orders ({SYMBOL1})\",\n",
    "        yaxis_title=\"Price\",\n",
    "        can_plot_groups=True,\n",
    "        plot_func=partial(plot_orders, column=SYMBOL1)\n",
    "    )),\n",
    "    ('symbol2_orders', dict(\n",
    "        title=f\"Orders ({SYMBOL2})\",\n",
    "        yaxis_title=\"Price\",\n",
    "        can_plot_groups=True,\n",
    "        plot_func=partial(plot_orders, column=SYMBOL2)\n",
    "    ))\n",
    "], height=750).show_png()"
   ]
  },
  {
   "cell_type": "code",
   "execution_count": 30,
   "metadata": {},
   "outputs": [
    {
     "name": "stdout",
     "output_type": "stream",
     "text": [
      "3.96 ms ± 1.01 ms per loop (mean ± std. dev. of 7 runs, 100 loops each)\n"
     ]
    }
   ],
   "source": [
    "# How fast is vbt?\n",
    "%timeit simulate_from_orders()"
   ]
  },
  {
   "cell_type": "markdown",
   "metadata": {},
   "source": [
    "While Portfolio.from_orders is a very convenient and optimized function for simulating portfolios, it requires some prior steps to produce the size array. In the example above, we needed to manually run the calculation of the spread z-score, generate the signals from the z-score, build the size array from the signals, and make sure that all arrays are perfectly aligned. All these steps must be repeated and adapted accordingly once there is more than one hyperparameter combination to test.\n",
    "\n",
    "Nevertheless, dividing the pipeline into clearly separated backtesting steps helps us to analyze each step thoroughly and actually does wonders for strategy development and debugging."
   ]
  },
  {
   "cell_type": "markdown",
   "metadata": {},
   "source": [
    "### Using Portfolio.from_order_func"
   ]
  },
  {
   "cell_type": "markdown",
   "metadata": {},
   "source": [
    "Portfolio.from_order_func follows a different (self-contained) approach where as much steps as possible should be defined in the simulation function itself. It sequentially processes timestamps one by one and executes orders based on the logic the user defined rather than parses this logic from some arrays. While this makes order execution less transparent as you cannot analyze each piece of data on the fly anymore (sadly, no pandas and plotting within Numba), it has one big advantage over other vectorized methods: event-driven order processing. This gives best flexibility (you can write any logic), security (less probability of exposing yourself to a look-ahead bias among other biases), and performance (you're traversing the data only once). This method is the most similar one compared to backtrader."
   ]
  },
  {
   "cell_type": "code",
   "execution_count": 31,
   "metadata": {},
   "outputs": [],
   "source": [
    "from vectorbt.portfolio import nb as portfolio_nb\n",
    "from vectorbt.base.reshape_fns import flex_select_auto_nb\n",
    "from vectorbt.portfolio.enums import SizeType, Direction\n",
    "from collections import namedtuple\n",
    "\n",
    "Memory = namedtuple(\"Memory\", ('spread', 'zscore', 'status'))\n",
    "Params = namedtuple(\"Params\", ('period', 'upper', 'lower', 'order_pct1', 'order_pct2'))\n",
    "\n",
    "@njit\n",
    "def group_prep_func_nb(gc, _period, _upper, _lower, _order_pct1, _order_pct2):\n",
    "    \"\"\"Prepare the current group (= pair of columns).\"\"\"\n",
    "    assert gc.group_len == 2\n",
    "    \n",
    "    # In contrast to bt, we don't have a class instance that we could use to store arrays,\n",
    "    # so let's create a namedtuple acting as a container for our arrays\n",
    "    # ( you could also pass each array as a standalone object, but a single object is more convenient)\n",
    "    spread = np.full(gc.target_shape[0], np.nan, dtype=np.float_)\n",
    "    zscore = np.full(gc.target_shape[0], np.nan, dtype=np.float_)\n",
    "    \n",
    "    # Note that namedtuples aren't mutable, you can't simply assign a value,\n",
    "    # thus make status variable an array of one element for an easy assignment\n",
    "    status = np.full(1, 0, dtype=np.int_)\n",
    "    memory = Memory(spread, zscore, status)\n",
    "    \n",
    "    # Treat each param as an array with value per group, and select the combination of params for this group\n",
    "    period = flex_select_auto_nb(0, gc.group, np.asarray(_period), True)\n",
    "    upper = flex_select_auto_nb(0, gc.group, np.asarray(_upper), True)\n",
    "    lower = flex_select_auto_nb(0, gc.group, np.asarray(_lower), True)\n",
    "    order_pct1 = flex_select_auto_nb(0, gc.group, np.asarray(_order_pct1), True)\n",
    "    order_pct2 = flex_select_auto_nb(0, gc.group, np.asarray(_order_pct2), True)\n",
    "    \n",
    "    # Put all params into a container (again, this is optional)\n",
    "    params = Params(period, upper, lower, order_pct1, order_pct2)\n",
    "    \n",
    "    # Create an array that will store our two target percentages used by order_func_nb\n",
    "    # we do it here instead of in segment_prep_func_nb to initialize the array once, instead of in each row\n",
    "    size = np.empty(gc.group_len, dtype=np.float_)\n",
    "    \n",
    "    # The returned tuple is passed as arguments to the function below\n",
    "    return (memory, params, size)\n",
    "    \n",
    "\n",
    "@njit\n",
    "def segment_prep_func_nb(sc, memory, params, size, mode):\n",
    "    \"\"\"Prepare the current segment (= row within group).\"\"\"\n",
    "    \n",
    "    # We want to perform calculations once we reach full window size\n",
    "    if sc.i < params.period - 1:\n",
    "        size[0] = np.nan  # size of nan means no order\n",
    "        size[1] = np.nan\n",
    "        return (size,)\n",
    "    \n",
    "    # z-score is calculated using a window (=period) of spread values\n",
    "    # This window can be specified as a slice\n",
    "    window_slice = slice(max(0, sc.i + 1 - params.period), sc.i + 1)\n",
    "    \n",
    "    # Here comes the same as in rolling_ols_zscore_nb\n",
    "    if mode == 'OLS':\n",
    "        a = sc.close[window_slice, sc.from_col]\n",
    "        b = sc.close[window_slice, sc.from_col + 1]\n",
    "        memory.spread[sc.i] = ols_spread_nb(a, b)\n",
    "    elif mode == 'log_return':\n",
    "        logret_a = np.log(sc.close[sc.i, sc.from_col] / sc.close[sc.i - 1, sc.from_col])\n",
    "        logret_b = np.log(sc.close[sc.i, sc.from_col + 1] / sc.close[sc.i - 1, sc.from_col + 1])\n",
    "        memory.spread[sc.i] = logret_a - logret_b\n",
    "    else:\n",
    "        raise ValueError(\"Unknown mode\")\n",
    "    spread_mean = np.mean(memory.spread[window_slice])\n",
    "    spread_std = np.std(memory.spread[window_slice])\n",
    "    memory.zscore[sc.i] = (memory.spread[sc.i] - spread_mean) / spread_std\n",
    "    \n",
    "    # Check if any bound is crossed\n",
    "    # Since zscore is calculated using close, use zscore of the previous step\n",
    "    # This way we are executing signals defined at the previous bar\n",
    "    # Same logic as in PairTradingStrategy\n",
    "    if memory.zscore[sc.i - 1] > params.upper and memory.status[0] != 1:\n",
    "        size[0] = -params.order_pct1\n",
    "        size[1] = params.order_pct2\n",
    "        \n",
    "        # Here we specify the order of execution\n",
    "        # call_seq_now defines order for the current group (2 elements)\n",
    "        sc.call_seq_now[0] = 0\n",
    "        sc.call_seq_now[1] = 1\n",
    "        memory.status[0] = 1\n",
    "    elif memory.zscore[sc.i - 1] < params.lower and memory.status[0] != 2:\n",
    "        size[0] = params.order_pct1\n",
    "        size[1] = -params.order_pct2\n",
    "        sc.call_seq_now[0] = 1  # execute the second order first to release funds early\n",
    "        sc.call_seq_now[1] = 0\n",
    "        memory.status[0] = 2\n",
    "    else:\n",
    "        size[0] = np.nan\n",
    "        size[1] = np.nan\n",
    "        \n",
    "    # Group value is converted to shares using previous close, just like in bt\n",
    "    # Note that last_val_price contains valuation price of all columns, not just the current pair\n",
    "    sc.last_val_price[sc.from_col] = sc.close[sc.i - 1, sc.from_col]\n",
    "    sc.last_val_price[sc.from_col + 1] = sc.close[sc.i - 1, sc.from_col + 1]\n",
    "        \n",
    "    return (size,)\n",
    "\n",
    "@njit\n",
    "def order_func_nb(oc, size, price, commperc):\n",
    "    \"\"\"Place an order (= element within group and row).\"\"\"\n",
    "    \n",
    "    # Get column index within group (if group starts at column 58 and current column is 59, \n",
    "    # the column within group is 1, which can be used to get size)\n",
    "    group_col = oc.col - oc.from_col\n",
    "    return portfolio_nb.create_order_nb(\n",
    "        size=size[group_col], \n",
    "        size_type=SizeType.TargetPercent,\n",
    "        price=price[oc.i, oc.col],\n",
    "        fees=commperc\n",
    "    )"
   ]
  },
  {
   "cell_type": "code",
   "execution_count": 32,
   "metadata": {},
   "outputs": [],
   "source": [
    "def simulate_from_order_func():\n",
    "    \"\"\"Simulate using `Portfolio.from_order_func`.\"\"\"\n",
    "    return vbt.Portfolio.from_order_func(\n",
    "        vbt_close_price,\n",
    "        order_func_nb, \n",
    "        vbt_open_price.values, COMMPERC,  # *args for order_func_nb\n",
    "        group_prep_func_nb=group_prep_func_nb, \n",
    "        group_prep_args=(PERIOD, UPPER, LOWER, ORDER_PCT1, ORDER_PCT2),\n",
    "        segment_prep_func_nb=segment_prep_func_nb, \n",
    "        segment_prep_args=(MODE,),\n",
    "        init_cash=CASH,\n",
    "        cash_sharing=True, \n",
    "        group_by=True,\n",
    "        freq='d'\n",
    "    )\n",
    "\n",
    "vbt_portfolio2 = simulate_from_order_func()"
   ]
  },
  {
   "cell_type": "code",
   "execution_count": 33,
   "metadata": {},
   "outputs": [
    {
     "name": "stdout",
     "output_type": "stream",
     "text": [
      "   Order Id                       Date Column        Size   Price        Fees  \\\n",
      "0         0 2017-11-15 23:59:59.999989    PEP   95.996928  104.07   49.952002   \n",
      "1         1 2017-11-15 23:59:59.999989     KO  236.630383   42.17   49.893516   \n",
      "2         2 2018-04-12 23:59:59.999989     KO  487.000209   39.95   97.278292   \n",
      "3         3 2018-04-12 23:59:59.999989    PEP  196.614255   99.46   97.776269   \n",
      "4         4 2018-09-04 23:59:59.999989    PEP  197.327114  103.01  101.633330   \n",
      "5         5 2018-09-04 23:59:59.999989     KO  495.205031   40.78  100.972306   \n",
      "6         6 2018-10-03 23:59:59.999989     KO  478.647348   42.84  102.526262   \n",
      "7         7 2018-10-03 23:59:59.999989    PEP  196.018589  101.44   99.420628   \n",
      "8         8 2018-12-03 23:59:59.999989    PEP  187.830431  111.91  105.100518   \n",
      "9         9 2018-12-03 23:59:59.999989     KO  447.813417   46.35  103.780759   \n",
      "\n",
      "   Side  \n",
      "0  Sell  \n",
      "1   Buy  \n",
      "2  Sell  \n",
      "3   Buy  \n",
      "4  Sell  \n",
      "5   Buy  \n",
      "6  Sell  \n",
      "7   Buy  \n",
      "8  Sell  \n",
      "9   Buy  \n"
     ]
    }
   ],
   "source": [
    "print(vbt_portfolio2.orders.records_readable)"
   ]
  },
  {
   "cell_type": "code",
   "execution_count": 34,
   "metadata": {},
   "outputs": [],
   "source": [
    "# Proof that both bt and vbt produce the same result\n",
    "pd.testing.assert_series_equal(bt_cash, vbt_portfolio2.cash().rename('cash'))\n",
    "pd.testing.assert_series_equal(bt_value, vbt_portfolio2.value().rename('value'))"
   ]
  },
  {
   "cell_type": "code",
   "execution_count": 35,
   "metadata": {},
   "outputs": [
    {
     "name": "stdout",
     "output_type": "stream",
     "text": [
      "4.85 ms ± 739 µs per loop (mean ± std. dev. of 7 runs, 100 loops each)\n"
     ]
    }
   ],
   "source": [
    "# How fast is vbt?\n",
    "%timeit simulate_from_order_func()"
   ]
  },
  {
   "cell_type": "markdown",
   "metadata": {},
   "source": [
    "### Numba paradise (or hell?) - fastest"
   ]
  },
  {
   "cell_type": "code",
   "execution_count": 36,
   "metadata": {},
   "outputs": [],
   "source": [
    "def simulate_nb_from_order_func():\n",
    "    \"\"\"Simulate using `simulate_nb`.\"\"\"\n",
    "    # iterate over 502 rows and 2 columns, each element is a potential order\n",
    "    target_shape = vbt_close_price.shape\n",
    "    \n",
    "    # number of columns in the group - exactly two\n",
    "    group_lens = np.array([2])\n",
    "    \n",
    "    # build default call sequence (orders are executed from the left to the right column)\n",
    "    call_seq = portfolio_nb.build_call_seq(target_shape, group_lens)\n",
    "    \n",
    "    # initial cash per group\n",
    "    init_cash = np.array([CASH], dtype=np.float_)\n",
    "    \n",
    "    order_records, log_records = portfolio_nb.simulate_nb(\n",
    "        target_shape=target_shape, \n",
    "        close=vbt_close_price.values,  # used for target percentage, but we override the valuation price\n",
    "        group_lens=group_lens,\n",
    "        init_cash=init_cash,\n",
    "        cash_sharing=True,\n",
    "        call_seq=call_seq,  \n",
    "        active_mask=np.full(target_shape, True),  # used for disabling some segments\n",
    "        prep_func_nb=portfolio_nb.empty_prep_nb,  # we have no global preparation function, so we use a dummy\n",
    "        prep_args=(),\n",
    "        group_prep_func_nb=group_prep_func_nb, \n",
    "        group_prep_args=(PERIOD, UPPER, LOWER, ORDER_PCT1, ORDER_PCT2),\n",
    "        segment_prep_func_nb=segment_prep_func_nb, \n",
    "        segment_prep_args=(MODE,),\n",
    "        order_func_nb=order_func_nb, \n",
    "        order_args=(vbt_open_price.values, COMMPERC),\n",
    "        max_orders=target_shape[0] * target_shape[1],  # max number of orders we could generate\n",
    "        max_logs=0  # we are not interested in logs\n",
    "    )\n",
    "    \n",
    "    return target_shape, group_lens, call_seq, init_cash, order_records, log_records\n",
    "\n",
    "target_shape, group_lens, call_seq, init_cash, order_records, log_records = simulate_nb_from_order_func()"
   ]
  },
  {
   "cell_type": "code",
   "execution_count": 37,
   "metadata": {},
   "outputs": [
    {
     "name": "stdout",
     "output_type": "stream",
     "text": [
      "   Order Id                       Date Column        Size   Price        Fees  \\\n",
      "0         0 2017-11-15 23:59:59.999989    PEP   95.996928  104.07   49.952002   \n",
      "1         1 2017-11-15 23:59:59.999989     KO  236.630383   42.17   49.893516   \n",
      "2         2 2018-04-12 23:59:59.999989     KO  487.000209   39.95   97.278292   \n",
      "3         3 2018-04-12 23:59:59.999989    PEP  196.614255   99.46   97.776269   \n",
      "4         4 2018-09-04 23:59:59.999989    PEP  197.327114  103.01  101.633330   \n",
      "5         5 2018-09-04 23:59:59.999989     KO  495.205031   40.78  100.972306   \n",
      "6         6 2018-10-03 23:59:59.999989     KO  478.647348   42.84  102.526262   \n",
      "7         7 2018-10-03 23:59:59.999989    PEP  196.018589  101.44   99.420628   \n",
      "8         8 2018-12-03 23:59:59.999989    PEP  187.830431  111.91  105.100518   \n",
      "9         9 2018-12-03 23:59:59.999989     KO  447.813417   46.35  103.780759   \n",
      "\n",
      "   Side  \n",
      "0  Sell  \n",
      "1   Buy  \n",
      "2  Sell  \n",
      "3   Buy  \n",
      "4  Sell  \n",
      "5   Buy  \n",
      "6  Sell  \n",
      "7   Buy  \n",
      "8  Sell  \n",
      "9   Buy  \n"
     ]
    }
   ],
   "source": [
    "# Print order records in a readable format\n",
    "print(vbt.Orders(vbt_close_price.vbt.wrapper, order_records, vbt_close_price).records_readable)"
   ]
  },
  {
   "cell_type": "code",
   "execution_count": 38,
   "metadata": {},
   "outputs": [],
   "source": [
    "# Proof that both bt and vbt produce the same cash\n",
    "from vectorbt.records import nb as records_nb\n",
    "\n",
    "col_map = records_nb.col_map_nb(order_records['col'], target_shape[1])\n",
    "cash_flow = portfolio_nb.cash_flow_nb(target_shape, order_records, col_map, True)\n",
    "cash_flow_grouped = portfolio_nb.cash_flow_grouped_nb(cash_flow, group_lens)\n",
    "cash_grouped = portfolio_nb.cash_grouped_nb(target_shape, cash_flow_grouped, group_lens, init_cash)\n",
    "\n",
    "pd.testing.assert_series_equal(bt_cash, bt_cash.vbt.wrapper.wrap(cash_grouped))"
   ]
  },
  {
   "cell_type": "code",
   "execution_count": 39,
   "metadata": {},
   "outputs": [],
   "source": [
    "# Proof that both bt and vbt produce the same value\n",
    "share_flow = portfolio_nb.share_flow_nb(target_shape, order_records, col_map, Direction.All)\n",
    "shares = portfolio_nb.shares_nb(share_flow)\n",
    "holding_value = portfolio_nb.holding_value_nb(vbt_close_price.values, shares)\n",
    "holding_value_grouped = portfolio_nb.holding_value_grouped_nb(holding_value, group_lens)\n",
    "value = portfolio_nb.value_nb(cash_grouped, holding_value_grouped)\n",
    "\n",
    "pd.testing.assert_series_equal(bt_value, bt_value.vbt.wrapper.wrap(value))"
   ]
  },
  {
   "cell_type": "code",
   "execution_count": 40,
   "metadata": {},
   "outputs": [
    {
     "name": "stdout",
     "output_type": "stream",
     "text": [
      "Start                     2017-01-03 23:59:59.999989\n",
      "End                       2018-12-31 23:59:59.999989\n",
      "Duration                           502 days 00:00:00\n",
      "Init. Cash                                    100000\n",
      "Total Profit                                 283.455\n",
      "Total Return [%]                            0.283455\n",
      "Benchmark Return [%]                         16.6294\n",
      "Position Coverage [%]                        56.1753\n",
      "Max. Drawdown [%]                            1.03211\n",
      "Avg. Drawdown [%]                           0.398855\n",
      "Max. Drawdown Duration             169 days 00:00:00\n",
      "Avg. Drawdown Duration              40 days 00:00:00\n",
      "Num. Trades                                        8\n",
      "Win Rate [%]                                    62.5\n",
      "Best Trade [%]                               9.26977\n",
      "Worst Trade [%]                             -9.23424\n",
      "Avg. Trade [%]                               0.15884\n",
      "Max. Trade Duration                100 days 00:00:00\n",
      "Avg. Trade Duration                 65 days 18:00:00\n",
      "Expectancy                                   16.5852\n",
      "SQN                                        0.0776192\n",
      "Gross Exposure                          -0.000812182\n",
      "Sharpe Ratio                                0.184537\n",
      "Sortino Ratio                               0.266326\n",
      "Calmar Ratio                                0.199608\n",
      "dtype: object\n"
     ]
    }
   ],
   "source": [
    "# To produce more complex metrics such as stats, it's advisable to use Portfolio,\n",
    "# which can be easily constructed from the arguments and outputs of simulate_nb\n",
    "vbt_portfolio3 = vbt.Portfolio(\n",
    "    wrapper=vbt_close_price.vbt(freq='d', group_by=True).wrapper, \n",
    "    close=vbt_close_price, \n",
    "    order_records=order_records, \n",
    "    log_records=log_records, \n",
    "    init_cash=init_cash,\n",
    "    cash_sharing=True, \n",
    "    call_seq=call_seq\n",
    ")\n",
    "\n",
    "print(vbt_portfolio3.stats())"
   ]
  },
  {
   "cell_type": "code",
   "execution_count": 41,
   "metadata": {},
   "outputs": [
    {
     "name": "stdout",
     "output_type": "stream",
     "text": [
      "3.48 ms ± 395 µs per loop (mean ± std. dev. of 7 runs, 100 loops each)\n"
     ]
    }
   ],
   "source": [
    "# How fast is vbt?\n",
    "%timeit simulate_nb_from_order_func()"
   ]
  },
  {
   "cell_type": "markdown",
   "metadata": {},
   "source": [
    "As you can see, writing Numba isn't straightforward and requires at least intermediate knowledge of NumPy. That's why Portfolio.from_orders and other class methods based on arrays are usually a good starting point."
   ]
  },
  {
   "cell_type": "markdown",
   "metadata": {},
   "source": [
    "### Multiple parameters"
   ]
  },
  {
   "cell_type": "markdown",
   "metadata": {},
   "source": [
    "Now, why waste all energy to port a strategy to vectorbt? Right, for hyperparameter optimization.\n",
    "\n",
    "*The example below is just for demo purposes, usually brute-forcing many combinations on a single data sample easily leads to overfitting.*"
   ]
  },
  {
   "cell_type": "code",
   "execution_count": 42,
   "metadata": {},
   "outputs": [],
   "source": [
    "periods = np.arange(10, 105, 5)\n",
    "uppers = np.arange(1.5, 2.2, 0.1)\n",
    "lowers = -1 * np.arange(1.5, 2.2, 0.1)"
   ]
  },
  {
   "cell_type": "code",
   "execution_count": 43,
   "metadata": {},
   "outputs": [],
   "source": [
    "def simulate_mult_from_order_func(periods, uppers, lowers):\n",
    "    \"\"\"Simulate multiple parameter combinations using `Portfolio.from_order_func`.\"\"\"\n",
    "    # Build param grid\n",
    "    param_product = vbt.utils.params.create_param_product([periods, uppers, lowers])\n",
    "    param_tuples = list(zip(*param_product))\n",
    "    param_columns = pd.MultiIndex.from_tuples(param_tuples, names=['period', 'upper', 'lower'])\n",
    "    \n",
    "    # We need two price columns per param combination\n",
    "    vbt_close_price_mult = vbt_close_price.vbt.tile(len(param_columns), keys=param_columns)\n",
    "    vbt_open_price_mult = vbt_open_price.vbt.tile(len(param_columns), keys=param_columns)\n",
    "    \n",
    "    return vbt.Portfolio.from_order_func(\n",
    "        vbt_close_price_mult,\n",
    "        order_func_nb, \n",
    "        vbt_open_price_mult.values, COMMPERC,  # *args for order_func_nb\n",
    "        group_prep_func_nb=group_prep_func_nb, \n",
    "        group_prep_args=(\n",
    "            np.array(param_product[0]), \n",
    "            np.array(param_product[1]), \n",
    "            np.array(param_product[2]), \n",
    "            ORDER_PCT1, \n",
    "            ORDER_PCT2\n",
    "        ),\n",
    "        segment_prep_func_nb=segment_prep_func_nb, \n",
    "        segment_prep_args=(MODE,),\n",
    "        init_cash=CASH,\n",
    "        cash_sharing=True, \n",
    "        group_by=param_columns.names,\n",
    "        freq='d'\n",
    "    )\n",
    "\n",
    "vbt_portfolio_mult = simulate_mult_from_order_func(periods, uppers, lowers)"
   ]
  },
  {
   "cell_type": "code",
   "execution_count": 44,
   "metadata": {},
   "outputs": [
    {
     "name": "stdout",
     "output_type": "stream",
     "text": [
      "period  upper  lower\n",
      "10      1.5    -1.5    -0.069865\n",
      "        1.6    -1.5    -0.068415\n",
      "        1.8    -1.5    -0.066815\n",
      "        1.5    -1.6    -0.065237\n",
      "        1.7    -1.5    -0.064985\n",
      "                          ...   \n",
      "100     2.0    -2.2     0.003533\n",
      "        1.8    -2.2     0.003533\n",
      "        1.9    -2.2     0.003533\n",
      "        2.1    -2.2     0.003533\n",
      "        2.2    -2.2     0.003533\n",
      "Name: total_return, Length: 1216, dtype: float64\n"
     ]
    },
    {
     "data": {
      "image/png": "[encoded data removed]"
     },
     "metadata": {},
     "output_type": "display_data"
    }
   ],
   "source": [
    "print(vbt_portfolio_mult.total_return().sort_values())\n",
    "\n",
    "vbt_portfolio_mult.total_return().vbt.histplot().show_png()"
   ]
  },
  {
   "cell_type": "code",
   "execution_count": 45,
   "metadata": {},
   "outputs": [
    {
     "name": "stdout",
     "output_type": "stream",
     "text": [
      "3.11 s ± 84.3 ms per loop (mean ± std. dev. of 7 runs, 1 loop each)\n"
     ]
    }
   ],
   "source": [
    "# How fast is vbt?\n",
    "%timeit simulate_mult_from_order_func(periods, uppers, lowers)"
   ]
  },
  {
   "cell_type": "markdown",
   "metadata": {},
   "source": [
    "Even though the strategy is profitable on paper, the majority of hyperparameter combinations yield a loss, so finding a proper \"slice\" of hyperparameters is just a question of luck when relying on a single backtest. Thanks to vectorbt, we can do thousands of tests in seconds to validate our strategy - the same would last hours using conventional libraries."
   ]
  },
  {
   "cell_type": "code",
   "execution_count": null,
   "metadata": {},
   "outputs": [],
   "source": []
  }
 ],
 "metadata": {
  "kernelspec": {
   "display_name": "Python 3",
   "language": "python",
   "name": "python3"
  },
  "language_info": {
   "codemirror_mode": {
    "name": "ipython",
    "version": 3
   },
   "file_extension": ".py",
   "mimetype": "text/x-python",
   "name": "python",
   "nbconvert_exporter": "python",
   "pygments_lexer": "ipython3",
   "version": "3.7.3"
  }
 },
 "nbformat": 4,
 "nbformat_minor": 4
}
