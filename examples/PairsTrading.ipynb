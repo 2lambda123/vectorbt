{
 "cells": [
  {
   "cell_type": "markdown",
   "metadata": {},
   "source": [
    "In this example, we will compare development of a pairs trading strategy using backtrader and vectorbt."
   ]
  },
  {
   "cell_type": "code",
   "execution_count": 1,
   "metadata": {},
   "outputs": [],
   "source": [
    "import numpy as np\n",
    "import pandas as pd\n",
    "import datetime\n",
    "import collections\n",
    "import math\n",
    "import pytz"
   ]
  },
  {
   "cell_type": "code",
   "execution_count": 2,
   "metadata": {},
   "outputs": [],
   "source": [
    "import scipy.stats as st\n",
    "\n",
    "SYMBOL1 = 'PEP'\n",
    "SYMBOL2 = 'KO'\n",
    "FROMDATE = datetime.datetime(2017, 1, 1, tzinfo=pytz.utc)\n",
    "TODATE = datetime.datetime(2019, 1, 1, tzinfo=pytz.utc)\n",
    "PERIOD = 100\n",
    "CASH = 100000\n",
    "COMMPERC = 0.005  # 0.5%\n",
    "ORDER_PCT1 = 0.1\n",
    "ORDER_PCT2 = 0.1\n",
    "UPPER = st.norm.ppf(1 - 0.05 / 2)\n",
    "LOWER = -st.norm.ppf(1 - 0.05 / 2)\n",
    "MODE = 'OLS'  # OLS, log_return"
   ]
  },
  {
   "cell_type": "markdown",
   "metadata": {},
   "source": [
    "## backtrader"
   ]
  },
  {
   "cell_type": "markdown",
   "metadata": {},
   "source": [
    "Adapted version of https://github.com/mementum/backtrader/blob/master/contrib/samples/pair-trading/pair-trading.py"
   ]
  },
  {
   "cell_type": "code",
   "execution_count": 3,
   "metadata": {},
   "outputs": [],
   "source": [
    "import backtrader as bt\n",
    "import backtrader.feeds as btfeeds\n",
    "import backtrader.indicators as btind\n",
    "\n",
    "class CommInfoFloat(bt.CommInfoBase):\n",
    "    \"\"\"Commission schema that keeps size as float.\"\"\"\n",
    "    params = (\n",
    "        ('stocklike', True),\n",
    "        ('commtype', bt.CommInfoBase.COMM_PERC),\n",
    "        ('percabs', True),\n",
    "      )\n",
    "    \n",
    "    def getsize(self, price, cash):\n",
    "        if not self._stocklike:\n",
    "            return self.p.leverage * (cash / self.get_margin(price))\n",
    "\n",
    "        return self.p.leverage * (cash / price)\n",
    "    \n",
    "class OLSSlopeIntercept(btind.PeriodN):\n",
    "    \"\"\"Calculates a linear regression using OLS.\"\"\"\n",
    "    _mindatas = 2  # ensure at least 2 data feeds are passed\n",
    "\n",
    "    packages = (\n",
    "        ('pandas', 'pd'),\n",
    "        ('statsmodels.api', 'sm'),\n",
    "    )\n",
    "    lines = ('slope', 'intercept',)\n",
    "    params = (\n",
    "        ('period', 10),\n",
    "    )\n",
    "\n",
    "    def next(self):\n",
    "        p0 = pd.Series(self.data0.get(size=self.p.period))\n",
    "        p1 = pd.Series(self.data1.get(size=self.p.period))\n",
    "        p1 = sm.add_constant(p1)\n",
    "        intercept, slope = sm.OLS(p0, p1).fit().params\n",
    "\n",
    "        self.lines.slope[0] = slope\n",
    "        self.lines.intercept[0] = intercept\n",
    "        \n",
    "        \n",
    "class Log(btind.Indicator):\n",
    "    \"\"\"Calculates log.\"\"\"\n",
    "    lines = ('log',)\n",
    "    \n",
    "    def next(self):\n",
    "        self.l.log[0] = math.log(self.data[0])\n",
    "\n",
    "\n",
    "class OLSSpread(btind.PeriodN):\n",
    "    \"\"\"Calculates the z-score of the OLS spread.\"\"\"\n",
    "    _mindatas = 2  # ensure at least 2 data feeds are passed\n",
    "    lines = ('spread', 'spread_mean', 'spread_std', 'zscore',)\n",
    "    params = (('period', 10),)\n",
    "\n",
    "    def __init__(self):\n",
    "        data0_log = Log(self.data0)\n",
    "        data1_log = Log(self.data1)\n",
    "        slint = OLSSlopeIntercept(data0_log, data1_log, period=self.p.period)\n",
    "\n",
    "        spread = data0_log - (slint.slope * data1_log + slint.intercept)\n",
    "        self.l.spread = spread\n",
    "\n",
    "        self.l.spread_mean = bt.ind.SMA(spread, period=self.p.period)\n",
    "        self.l.spread_std = bt.ind.StdDev(spread, period=self.p.period)\n",
    "        self.l.zscore = (spread - self.l.spread_mean) / self.l.spread_std\n",
    "    \n",
    "class LogReturns(btind.PeriodN):\n",
    "    \"\"\"Calculates the log returns.\"\"\"\n",
    "    lines = ('logret',)\n",
    "    params = (('period', 1),)\n",
    "    \n",
    "    def __init__(self):\n",
    "        self.addminperiod(self.p.period + 1)\n",
    "    \n",
    "    def next(self):\n",
    "        self.l.logret[0] = math.log(self.data[0] / self.data[-self.p.period])\n",
    "    \n",
    "class LogReturnSpread(btind.PeriodN):\n",
    "    \"\"\"Calculates the spread of the log returns.\"\"\"\n",
    "    _mindatas = 2  # ensure at least 2 data feeds are passed\n",
    "    lines = ('logret0', 'logret1', 'spread', 'spread_mean', 'spread_std', 'zscore',)\n",
    "    params = (('period', 10),)\n",
    "\n",
    "    def __init__(self):\n",
    "        self.l.logret0 = LogReturns(self.data0, period=1)\n",
    "        self.l.logret1 = LogReturns(self.data1, period=1)\n",
    "        self.l.spread = self.l.logret0 - self.l.logret1\n",
    "        self.l.spread_mean = bt.ind.SMA(self.l.spread, period=self.p.period)\n",
    "        self.l.spread_std = bt.ind.StdDev(self.l.spread, period=self.p.period)\n",
    "        self.l.zscore = (self.l.spread - self.l.spread_mean) / self.l.spread_std\n",
    "\n",
    "class PairTradingStrategy(bt.Strategy):\n",
    "    \"\"\"Basic pair trading strategy.\"\"\"\n",
    "    params = dict(\n",
    "        period=PERIOD,\n",
    "        order_pct1=ORDER_PCT1,\n",
    "        order_pct2=ORDER_PCT2,\n",
    "        printout=True,\n",
    "        upper=UPPER,\n",
    "        lower=LOWER,\n",
    "        mode=MODE\n",
    "    )\n",
    "\n",
    "    def log(self, txt, dt=None):\n",
    "        if self.p.printout:\n",
    "            dt = dt or self.data.datetime[0]\n",
    "            dt = bt.num2date(dt)\n",
    "            print('%s, %s' % (dt.isoformat(), txt))\n",
    "\n",
    "    def notify_order(self, order):\n",
    "        if order.status in [bt.Order.Submitted, bt.Order.Accepted]:\n",
    "            return  # Await further notifications\n",
    "\n",
    "        if order.status == order.Completed:\n",
    "            if order.isbuy():\n",
    "                buytxt = 'BUY COMPLETE {}, size = {:.2f}, price = {:.2f}'.format(\n",
    "                    order.data._name, order.executed.size, order.executed.price)\n",
    "                self.log(buytxt, order.executed.dt)\n",
    "            else:\n",
    "                selltxt = 'SELL COMPLETE {}, size = {:.2f}, price = {:.2f}'.format(\n",
    "                    order.data._name, order.executed.size, order.executed.price)\n",
    "                self.log(selltxt, order.executed.dt)\n",
    "\n",
    "        elif order.status in [order.Expired, order.Canceled, order.Margin]:\n",
    "            self.log('%s ,' % order.Status[order.status])\n",
    "            pass  # Simply log\n",
    "\n",
    "        # Allow new orders\n",
    "        self.orderid = None\n",
    "\n",
    "    def __init__(self):\n",
    "        # To control operation entries\n",
    "        self.orderid = None\n",
    "        self.order_pct1 = self.p.order_pct1\n",
    "        self.order_pct2 = self.p.order_pct2\n",
    "        self.upper = self.p.upper\n",
    "        self.lower = self.p.lower\n",
    "        self.status = 0\n",
    "        \n",
    "        # Signals performed with PD.OLS :\n",
    "        if self.p.mode == 'log_return':\n",
    "            self.transform = LogReturnSpread(self.data0, self.data1, period=self.p.period)\n",
    "        elif self.p.mode == 'OLS':\n",
    "            self.transform = OLSSpread(self.data0, self.data1, period=self.p.period)\n",
    "        else:\n",
    "            raise ValueError(\"Unknown mode\")\n",
    "        self.spread = self.transform.spread\n",
    "        self.zscore = self.transform.zscore\n",
    "        \n",
    "        # For tracking\n",
    "        self.spread_sr = pd.Series(dtype=float, name='spread')\n",
    "        self.zscore_sr = pd.Series(dtype=float, name='zscore')\n",
    "        self.short_signal_sr = pd.Series(dtype=bool, name='short_signals')\n",
    "        self.long_signal_sr = pd.Series(dtype=bool, name='long_signals')\n",
    "\n",
    "    def next(self):\n",
    "        if self.orderid:\n",
    "            return  # if an order is active, no new orders are allowed\n",
    "        \n",
    "        self.spread_sr[self.data0.datetime.datetime()] = self.spread[0]\n",
    "        self.zscore_sr[self.data0.datetime.datetime()] = self.zscore[0]\n",
    "        self.short_signal_sr[self.data0.datetime.datetime()] = False\n",
    "        self.long_signal_sr[self.data0.datetime.datetime()] = False\n",
    "\n",
    "        if self.zscore[0] > self.upper and self.status != 1:\n",
    "            # Check conditions for shorting the spread & place the order\n",
    "            self.short_signal_sr[self.data0.datetime.datetime()] = True\n",
    "\n",
    "            # Placing the order\n",
    "            self.log('SELL CREATE {}, price = {:.2f}, target pct = {:.2%}'.format(\n",
    "                self.data0._name, self.data0.close[0], -self.order_pct1))\n",
    "            self.order_target_percent(data=self.data0, target=-self.order_pct1)\n",
    "            self.log('BUY CREATE {}, price = {:.2f}, target pct = {:.2%}'.format(\n",
    "                self.data1._name, self.data1.close[0], self.order_pct2))\n",
    "            self.order_target_percent(data=self.data1, target=self.order_pct2)\n",
    "\n",
    "            self.status = 1\n",
    "\n",
    "        elif self.zscore[0] < self.lower and self.status != 2:\n",
    "            # Check conditions for longing the spread & place the order\n",
    "            self.long_signal_sr[self.data0.datetime.datetime()] = True\n",
    "\n",
    "            # Place the order\n",
    "            self.log('SELL CREATE {}, price = {:.2f}, target pct = {:.2%}'.format(\n",
    "                self.data1._name, self.data1.close[0], -self.order_pct2))\n",
    "            self.order_target_percent(data=self.data1, target=-self.order_pct2)\n",
    "            self.log('BUY CREATE {}, price = {:.2f}, target pct = {:.2%}'.format(\n",
    "                self.data0._name, self.data0.close[0], self.order_pct1))\n",
    "            self.order_target_percent(data=self.data0, target=self.order_pct1)\n",
    "                     \n",
    "            self.status = 2\n",
    "\n",
    "    def stop(self):\n",
    "        if self.p.printout:\n",
    "            print('==================================================')\n",
    "            print('Starting Value - %.2f' % self.broker.startingcash)\n",
    "            print('Ending   Value - %.2f' % self.broker.getvalue())\n",
    "            print('==================================================')"
   ]
  },
  {
   "cell_type": "code",
   "execution_count": 4,
   "metadata": {},
   "outputs": [],
   "source": [
    "class DataAnalyzer(bt.analyzers.Analyzer):\n",
    "    \"\"\"Analyzer to extract OHLCV.\"\"\"\n",
    "    def create_analysis(self):\n",
    "        self.rets0 = {}\n",
    "        self.rets1 = {}\n",
    "\n",
    "    def next(self):\n",
    "        self.rets0[self.strategy.datetime.datetime()] = [\n",
    "            self.data0.open[0],\n",
    "            self.data0.high[0],\n",
    "            self.data0.low[0],\n",
    "            self.data0.close[0],\n",
    "            self.data0.volume[0]\n",
    "        ]\n",
    "        self.rets1[self.strategy.datetime.datetime()] = [\n",
    "            self.data1.open[0],\n",
    "            self.data1.high[0],\n",
    "            self.data1.low[0],\n",
    "            self.data1.close[0],\n",
    "            self.data1.volume[0]\n",
    "        ]\n",
    "\n",
    "    def get_analysis(self):\n",
    "        return self.rets0, self.rets1\n",
    "\n",
    "class CashValueAnalyzer(bt.analyzers.Analyzer):\n",
    "    \"\"\"Analyzer to extract cash and value.\"\"\"\n",
    "    def create_analysis(self):\n",
    "        self.rets = {}\n",
    "\n",
    "    def notify_cashvalue(self, cash, value):\n",
    "        self.rets[self.strategy.datetime.datetime()] = (cash, value)\n",
    "\n",
    "    def get_analysis(self):\n",
    "        return self.rets\n",
    "    \n",
    "class OrderAnalyzer(bt.analyzers.Analyzer):\n",
    "    \"\"\"Analyzer to extract order price, size, value, and paid commission.\"\"\"\n",
    "    def create_analysis(self):\n",
    "        self.rets0 = {}\n",
    "        self.rets1 = {}\n",
    "\n",
    "    def notify_order(self, order):\n",
    "        if order.status == order.Completed:\n",
    "            if order.data._name == SYMBOL1:\n",
    "                rets = self.rets0\n",
    "            else:\n",
    "                rets = self.rets1\n",
    "            rets[self.strategy.datetime.datetime()] = (\n",
    "                order.executed.price,\n",
    "                order.executed.size,\n",
    "                -order.executed.size * order.executed.price,\n",
    "                order.executed.comm\n",
    "            )\n",
    "\n",
    "    def get_analysis(self):\n",
    "        return self.rets0, self.rets1"
   ]
  },
  {
   "cell_type": "code",
   "execution_count": 5,
   "metadata": {},
   "outputs": [],
   "source": [
    "def prepare_cerebro(data0, data1, use_analyzers=True, **params):\n",
    "    # Create a cerebro\n",
    "    cerebro = bt.Cerebro()\n",
    "\n",
    "    # Add the 1st data to cerebro\n",
    "    cerebro.adddata(data0)\n",
    "\n",
    "    # Add the 2nd data to cerebro\n",
    "    cerebro.adddata(data1)\n",
    "\n",
    "    # Add the strategy\n",
    "    cerebro.addstrategy(PairTradingStrategy, **params)\n",
    "\n",
    "    # Add the commission - only stocks like a for each operation\n",
    "    cerebro.broker.setcash(CASH)\n",
    "\n",
    "    # Add the commission - only stocks like a for each operation\n",
    "    comminfo = CommInfoFloat(commission=COMMPERC)\n",
    "    cerebro.broker.addcommissioninfo(comminfo)\n",
    "\n",
    "    if use_analyzers:\n",
    "        # Add analyzers    \n",
    "        cerebro.addanalyzer(DataAnalyzer)\n",
    "        cerebro.addanalyzer(CashValueAnalyzer)\n",
    "        cerebro.addanalyzer(OrderAnalyzer)\n",
    "    \n",
    "    return cerebro"
   ]
  },
  {
   "cell_type": "code",
   "execution_count": 6,
   "metadata": {},
   "outputs": [
    {
     "name": "stdout",
     "output_type": "stream",
     "text": [
      "2017-11-14T23:59:59.999989, SELL CREATE PEP, price = 104.17, target pct = -10.00%\n",
      "2017-11-14T23:59:59.999989, BUY CREATE KO, price = 42.26, target pct = 10.00%\n",
      "2017-11-15T23:59:59.999989, SELL COMPLETE PEP, size = -96.00, price = 104.07\n",
      "2017-11-15T23:59:59.999989, BUY COMPLETE KO, size = 236.63, price = 42.17\n",
      "2018-04-11T23:59:59.999989, SELL CREATE KO, price = 39.87, target pct = -10.00%\n",
      "2018-04-11T23:59:59.999989, BUY CREATE PEP, price = 99.21, target pct = 10.00%\n",
      "2018-04-12T23:59:59.999989, SELL COMPLETE KO, size = -487.00, price = 39.95\n",
      "2018-04-12T23:59:59.999989, BUY COMPLETE PEP, size = 196.61, price = 99.46\n",
      "2018-08-31T23:59:59.999989, SELL CREATE PEP, price = 103.19, target pct = -10.00%\n",
      "2018-08-31T23:59:59.999989, BUY CREATE KO, price = 40.76, target pct = 10.00%\n",
      "2018-09-04T23:59:59.999989, SELL COMPLETE PEP, size = -197.33, price = 103.01\n",
      "2018-09-04T23:59:59.999989, BUY COMPLETE KO, size = 495.21, price = 40.78\n",
      "2018-10-02T23:59:59.999989, SELL CREATE KO, price = 42.89, target pct = -10.00%\n",
      "2018-10-02T23:59:59.999989, BUY CREATE PEP, price = 100.98, target pct = 10.00%\n",
      "2018-10-03T23:59:59.999989, SELL COMPLETE KO, size = -478.65, price = 42.84\n",
      "2018-10-03T23:59:59.999989, BUY COMPLETE PEP, size = 196.02, price = 101.44\n",
      "2018-11-30T23:59:59.999989, SELL CREATE PEP, price = 113.26, target pct = -10.00%\n",
      "2018-11-30T23:59:59.999989, BUY CREATE KO, price = 46.85, target pct = 10.00%\n",
      "2018-12-03T23:59:59.999989, SELL COMPLETE PEP, size = -187.83, price = 111.91\n",
      "2018-12-03T23:59:59.999989, BUY COMPLETE KO, size = 447.81, price = 46.35\n",
      "==================================================\n",
      "Starting Value - 100000.00\n",
      "Ending   Value - 100283.45\n",
      "==================================================\n"
     ]
    }
   ],
   "source": [
    "# Create the 1st data\n",
    "data0 = btfeeds.YahooFinanceData(\n",
    "    dataname=SYMBOL1,\n",
    "    fromdate=FROMDATE,\n",
    "    todate=TODATE)\n",
    "\n",
    "# Create the 2nd data\n",
    "data1 = btfeeds.YahooFinanceData(\n",
    "    dataname=SYMBOL2,\n",
    "    fromdate=FROMDATE,\n",
    "    todate=TODATE)\n",
    "\n",
    "# Prepare a cerebro\n",
    "cerebro = prepare_cerebro(data0, data1)\n",
    "\n",
    "# And run it\n",
    "bt_strategy = cerebro.run()[0]"
   ]
  },
  {
   "cell_type": "code",
   "execution_count": 11,
   "metadata": {},
   "outputs": [
    {
     "data": {
      "image/png": "[encoded data removed]",
      "text/plain": [
       "<Figure size 936x576 with 7 Axes>"
      ]
     },
     "metadata": {
      "needs_background": "light"
     },
     "output_type": "display_data"
    },
    {
     "data": {
      "text/plain": [
       "[[<Figure size 936x576 with 7 Axes>]]"
      ]
     },
     "execution_count": 11,
     "metadata": {},
     "output_type": "execute_result"
    }
   ],
   "source": [
    "%matplotlib inline\n",
    "import matplotlib.pyplot as plt\n",
    "\n",
    "plt.rcParams[\"figure.figsize\"] = (13, 8)\n",
    "cerebro.plot(iplot=False)"
   ]
  },
  {
   "cell_type": "code",
   "execution_count": 7,
   "metadata": {},
   "outputs": [
    {
     "name": "stdout",
     "output_type": "stream",
     "text": [
      "(502, 5)\n",
      "(502, 5)\n",
      "                              open    high     low   close     volume\n",
      "2017-01-03 23:59:59.999989   92.50   92.63   91.86   92.25  4244248.0\n",
      "2018-12-31 23:59:59.999989  103.53  104.00  102.35  103.43  5361088.0\n",
      "                             open   high    low  close      volume\n",
      "2017-01-03 23:59:59.999989  36.07  36.34  35.88  36.33  16925193.0\n",
      "2018-12-31 23:59:59.999989  44.14  44.19  43.65  44.01  11378747.0\n"
     ]
    }
   ],
   "source": [
    "# Extract OHLCV\n",
    "bt_s1_rets, bt_s2_rets = bt_strategy.analyzers.dataanalyzer.get_analysis()\n",
    "data_cols = ['open', 'high', 'low', 'close', 'volume']\n",
    "bt_s1_ohlcv = pd.DataFrame.from_dict(bt_s1_rets, orient='index', columns=data_cols)\n",
    "bt_s2_ohlcv = pd.DataFrame.from_dict(bt_s2_rets, orient='index', columns=data_cols)\n",
    "\n",
    "print(bt_s1_ohlcv.shape)\n",
    "print(bt_s2_ohlcv.shape)\n",
    "\n",
    "print(bt_s1_ohlcv.iloc[[0, -1]])\n",
    "print(bt_s2_ohlcv.iloc[[0, -1]])"
   ]
  },
  {
   "cell_type": "code",
   "execution_count": 8,
   "metadata": {},
   "outputs": [
    {
     "name": "stdout",
     "output_type": "stream",
     "text": [
      "2017-01-03 23:59:59.999989    100000.000000\n",
      "2018-12-31 23:59:59.999989    100021.050919\n",
      "Name: cash, dtype: float64\n",
      "2017-01-03 23:59:59.999989    100000.000000\n",
      "2018-12-31 23:59:59.999989    100283.454912\n",
      "Name: value, dtype: float64\n"
     ]
    }
   ],
   "source": [
    "# Extract cash and value series\n",
    "bt_cashvalue_rets = bt_strategy.analyzers.cashvalueanalyzer.get_analysis()\n",
    "bt_cashvalue_df = pd.DataFrame.from_dict(bt_cashvalue_rets, orient='index', columns=['cash', 'value'])\n",
    "bt_cash = bt_cashvalue_df['cash']\n",
    "bt_value = bt_cashvalue_df['value']\n",
    "\n",
    "print(bt_cash.iloc[[0, -1]])\n",
    "print(bt_value.iloc[[0, -1]])"
   ]
  },
  {
   "cell_type": "code",
   "execution_count": 9,
   "metadata": {},
   "outputs": [
    {
     "name": "stdout",
     "output_type": "stream",
     "text": [
      "                            order_price  order_size   order_value  order_comm\n",
      "2017-11-15 23:59:59.999989       104.07  -95.996928   9990.400307   49.952002\n",
      "2018-12-03 23:59:59.999989       111.91 -187.830431  21020.103503  105.100518\n",
      "                            order_price  order_size   order_value  order_comm\n",
      "2017-11-15 23:59:59.999989        42.17  236.630383  -9978.703265   49.893516\n",
      "2018-12-03 23:59:59.999989        46.35  447.813417 -20756.151875  103.780759\n"
     ]
    }
   ],
   "source": [
    "# Extract order info\n",
    "bt_s1_order_rets, bt_s2_order_rets = bt_strategy.analyzers.orderanalyzer.get_analysis()\n",
    "order_cols = ['order_price', 'order_size', 'order_value', 'order_comm']\n",
    "bt_s1_orders = pd.DataFrame.from_dict(bt_s1_order_rets, orient='index', columns=order_cols)\n",
    "bt_s2_orders = pd.DataFrame.from_dict(bt_s2_order_rets, orient='index', columns=order_cols)\n",
    "\n",
    "print(bt_s1_orders.iloc[[0, -1]])\n",
    "print(bt_s2_orders.iloc[[0, -1]])"
   ]
  },
  {
   "cell_type": "code",
   "execution_count": 10,
   "metadata": {},
   "outputs": [
    {
     "name": "stdout",
     "output_type": "stream",
     "text": [
      "2017-10-16 23:59:59.999989   -0.009389\n",
      "2018-12-31 23:59:59.999989   -0.021164\n",
      "Name: spread, dtype: float64\n",
      "2017-10-16 23:59:59.999989    0.242833\n",
      "2018-12-31 23:59:59.999989   -0.308207\n",
      "Name: zscore, dtype: float64\n"
     ]
    }
   ],
   "source": [
    "# Extract spread and z-score\n",
    "bt_spread = bt_strategy.spread_sr\n",
    "bt_zscore = bt_strategy.zscore_sr\n",
    "\n",
    "print(bt_spread.iloc[[0, -1]])\n",
    "print(bt_zscore.iloc[[0, -1]])"
   ]
  },
  {
   "cell_type": "code",
   "execution_count": 11,
   "metadata": {},
   "outputs": [
    {
     "name": "stdout",
     "output_type": "stream",
     "text": [
      "2017-11-14 23:59:59.999989    True\n",
      "2018-08-31 23:59:59.999989    True\n",
      "2018-11-30 23:59:59.999989    True\n",
      "Name: short_signals, dtype: bool\n",
      "2018-04-11 23:59:59.999989    True\n",
      "2018-10-02 23:59:59.999989    True\n",
      "Name: long_signals, dtype: bool\n"
     ]
    }
   ],
   "source": [
    "# Extract signals\n",
    "bt_short_signals = bt_strategy.short_signal_sr\n",
    "bt_long_signals = bt_strategy.long_signal_sr\n",
    "\n",
    "print(bt_short_signals[bt_short_signals])\n",
    "print(bt_long_signals[bt_long_signals])"
   ]
  },
  {
   "cell_type": "code",
   "execution_count": 14,
   "metadata": {},
   "outputs": [
    {
     "name": "stdout",
     "output_type": "stream",
     "text": [
      "1.05 s ± 6.57 ms per loop (mean ± std. dev. of 7 runs, 1 loop each)\n"
     ]
    }
   ],
   "source": [
    "# How fast is bt?\n",
    "# Preload data manually by using PandasData\n",
    "data0 = bt.feeds.PandasData(dataname=bt_s1_ohlcv)\n",
    "data1 = bt.feeds.PandasData(dataname=bt_s2_ohlcv)\n",
    "\n",
    "cerebro = prepare_cerebro(data0, data1, use_analyzers=False, printout=False)\n",
    "\n",
    "%timeit cerebro.run(preload=False)"
   ]
  },
  {
   "cell_type": "markdown",
   "metadata": {},
   "source": [
    "## vectorbt"
   ]
  },
  {
   "cell_type": "markdown",
   "metadata": {},
   "source": [
    "### Using Portfolio.from_orders"
   ]
  },
  {
   "cell_type": "code",
   "execution_count": 12,
   "metadata": {},
   "outputs": [],
   "source": [
    "import vectorbt as vbt\n",
    "\n",
    "start_date = FROMDATE.replace(tzinfo=pytz.utc)\n",
    "end_date = TODATE.replace(tzinfo=pytz.utc)\n",
    "data = vbt.YFData.download([SYMBOL1, SYMBOL2], start=start_date, end=end_date)\n",
    "data = data.loc[(data.wrapper.index >= start_date) & (data.wrapper.index < end_date)]"
   ]
  },
  {
   "cell_type": "code",
   "execution_count": 13,
   "metadata": {},
   "outputs": [
    {
     "name": "stdout",
     "output_type": "stream",
     "text": [
      "                                 Open        High         Low       Close  \\\n",
      "Date                                                                        \n",
      "2017-01-03 00:00:00+00:00   92.502028   92.634244   91.858548   92.246399   \n",
      "2018-12-31 00:00:00+00:00  103.526008  104.003469  102.346382  103.432388   \n",
      "\n",
      "                            Volume  Dividends  Stock Splits  \n",
      "Date                                                         \n",
      "2017-01-03 00:00:00+00:00  3741200        0.0             0  \n",
      "2018-12-31 00:00:00+00:00  5019100        0.0             0  \n",
      "                                Open       High        Low      Close  \\\n",
      "Date                                                                    \n",
      "2017-01-03 00:00:00+00:00  36.070874  36.340321  35.879654  36.331627   \n",
      "2018-12-31 00:00:00+00:00  44.140933  44.187406  43.648307  44.010803   \n",
      "\n",
      "                             Volume  Dividends  Stock Splits  \n",
      "Date                                                          \n",
      "2017-01-03 00:00:00+00:00  14711000        0.0             0  \n",
      "2018-12-31 00:00:00+00:00  10576300        0.0             0  \n"
     ]
    }
   ],
   "source": [
    "print(data.data[SYMBOL1].iloc[[0, -1]])\n",
    "print(data.data[SYMBOL2].iloc[[0, -1]])"
   ]
  },
  {
   "cell_type": "code",
   "execution_count": 14,
   "metadata": {},
   "outputs": [
    {
     "name": "stdout",
     "output_type": "stream",
     "text": [
      "\n",
      "Not equal to tolerance rtol=1e-07, atol=0\n",
      "\n",
      "Mismatched elements: 2507 / 2510 (99.9%)\n",
      "Max absolute difference: 2357020.\n",
      "Max relative difference: 0.13446199\n",
      " x: array([[9.250000e+01, 9.263000e+01, 9.186000e+01, 9.225000e+01,\n",
      "        4.244248e+06],\n",
      "       [9.265000e+01, 9.311000e+01, 9.237000e+01, 9.242000e+01,...\n",
      " y: array([[9.250203e+01, 9.263424e+01, 9.185855e+01, 9.224640e+01,\n",
      "        3.741200e+06],\n",
      "       [9.265186e+01, 9.311023e+01, 9.236979e+01, 9.242268e+01,...\n"
     ]
    }
   ],
   "source": [
    "# data is not equal, partly because of rounding on bt's side, and volume is also different\n",
    "try:\n",
    "    np.testing.assert_allclose(bt_s1_ohlcv.values, data.data[SYMBOL1].iloc[:, :5].values)\n",
    "    np.testing.assert_allclose(bt_s2_ohlcv.values, data.data[SYMBOL2].iloc[:, :5].values)\n",
    "except AssertionError as e:\n",
    "    print(e)"
   ]
  },
  {
   "cell_type": "code",
   "execution_count": 15,
   "metadata": {},
   "outputs": [],
   "source": [
    "# For the backtesting results to match, we need to use the same data as bt\n",
    "vbt_s1_ohlcv = bt_s1_ohlcv.copy()\n",
    "vbt_s2_ohlcv = bt_s2_ohlcv.copy()"
   ]
  },
  {
   "cell_type": "code",
   "execution_count": 16,
   "metadata": {},
   "outputs": [],
   "source": [
    "from numba import njit\n",
    "\n",
    "@njit\n",
    "def rolling_logret_zscore_nb(a, b, period):\n",
    "    \"\"\"Calculate the log return spread.\"\"\"\n",
    "    spread = np.full_like(a, np.nan, dtype=np.float_)\n",
    "    spread[1:] = np.log(a[1:] / a[:-1]) - np.log(b[1:] / b[:-1])\n",
    "    zscore = np.full_like(a, np.nan, dtype=np.float_)\n",
    "    for i in range(a.shape[0]):\n",
    "        from_i = max(0, i + 1 - period)\n",
    "        to_i = i + 1\n",
    "        if i < period - 1:\n",
    "            continue\n",
    "        spread_mean = np.mean(spread[from_i:to_i])\n",
    "        spread_std = np.std(spread[from_i:to_i])\n",
    "        zscore[i] = (spread[i] - spread_mean) / spread_std\n",
    "    return spread, zscore\n",
    "\n",
    "@njit\n",
    "def ols_spread_nb(a, b):\n",
    "    \"\"\"Calculate the OLS spread.\"\"\"\n",
    "    a = np.log(a)\n",
    "    b = np.log(b)\n",
    "    _b = np.vstack((b, np.ones(len(b)))).T\n",
    "    slope, intercept = np.dot(np.linalg.inv(np.dot(_b.T, _b)), np.dot(_b.T, a))\n",
    "    spread = a - (slope * b + intercept)\n",
    "    return spread[-1]\n",
    "    \n",
    "@njit\n",
    "def rolling_ols_zscore_nb(a, b, period):\n",
    "    \"\"\"Calculate the z-score of the rolling OLS spread.\"\"\"\n",
    "    spread = np.full_like(a, np.nan, dtype=np.float_)\n",
    "    zscore = np.full_like(a, np.nan, dtype=np.float_)\n",
    "    for i in range(a.shape[0]):\n",
    "        from_i = max(0, i + 1 - period)\n",
    "        to_i = i + 1\n",
    "        if i < period - 1:\n",
    "            continue\n",
    "        spread[i] = ols_spread_nb(a[from_i:to_i], b[from_i:to_i])\n",
    "        spread_mean = np.mean(spread[from_i:to_i])\n",
    "        spread_std = np.std(spread[from_i:to_i])\n",
    "        zscore[i] = (spread[i] - spread_mean) / spread_std\n",
    "    return spread, zscore"
   ]
  },
  {
   "cell_type": "code",
   "execution_count": 17,
   "metadata": {},
   "outputs": [],
   "source": [
    "# Calculate OLS z-score using Numba for a nice speedup\n",
    "if MODE == 'OLS':\n",
    "    vbt_spread, vbt_zscore = rolling_ols_zscore_nb(\n",
    "        vbt_s1_ohlcv['close'].values, \n",
    "        vbt_s2_ohlcv['close'].values, \n",
    "        PERIOD\n",
    "    )\n",
    "elif MODE == 'log_return':\n",
    "    vbt_spread, vbt_zscore = rolling_logret_zscore_nb(\n",
    "        vbt_s1_ohlcv['close'].values, \n",
    "        vbt_s2_ohlcv['close'].values, \n",
    "        PERIOD\n",
    "    )\n",
    "else:\n",
    "    raise ValueError(\"Unknown mode\")\n",
    "vbt_spread = pd.Series(vbt_spread, index=vbt_s1_ohlcv.index, name='spread')\n",
    "vbt_zscore = pd.Series(vbt_zscore, index=vbt_s1_ohlcv.index, name='zscore')"
   ]
  },
  {
   "cell_type": "code",
   "execution_count": 18,
   "metadata": {},
   "outputs": [],
   "source": [
    "# Assert equality of bt and vbt z-score arrays\n",
    "pd.testing.assert_series_equal(bt_spread, vbt_spread[bt_spread.index])\n",
    "pd.testing.assert_series_equal(bt_zscore, vbt_zscore[bt_zscore.index])"
   ]
  },
  {
   "cell_type": "code",
   "execution_count": 24,
   "metadata": {},
   "outputs": [],
   "source": [
    "# Generate short and long spread signals\n",
    "vbt_short_signals = (vbt_zscore > UPPER).rename('short_signals')\n",
    "vbt_long_signals = (vbt_zscore < LOWER).rename('long_signals')"
   ]
  },
  {
   "cell_type": "code",
   "execution_count": 25,
   "metadata": {},
   "outputs": [
    {
     "data": {
      "image/svg+xml": [
       "<svg class=\"main-svg\" xmlns=\"http://www.w3.org/2000/svg\" xmlns:xlink=\"http://www.w3.org/1999/xlink\" width=\"700\" height=\"500\" style=\"\" viewBox=\"0 0 700 500\"><rect x=\"0\" y=\"0\" width=\"700\" height=\"500\" style=\"fill: rgb(255, 255, 255); fill-opacity: 1;\"/><defs id=\"defs-4d01f8\"><g class=\"clips\"><clipPath id=\"clip4d01f8xyplot\" class=\"plotclip\"><rect width=\"620\" height=\"199.975\"/></clipPath><clipPath id=\"clip4d01f8x2y2plot\" class=\"plotclip\"><rect width=\"620\" height=\"199.975\"/></clipPath><clipPath class=\"axesclip\" id=\"clip4d01f8x\"><rect x=\"50\" y=\"0\" width=\"620\" height=\"500\"/></clipPath><clipPath class=\"axesclip\" id=\"clip4d01f8y\"><rect x=\"0\" y=\"49\" width=\"700\" height=\"199.975\"/></clipPath><clipPath class=\"axesclip\" id=\"clip4d01f8xy\"><rect x=\"50\" y=\"49\" width=\"620\" height=\"199.975\"/></clipPath><clipPath class=\"axesclip\" id=\"clip4d01f8y2\"><rect x=\"0\" y=\"270.025\" width=\"700\" height=\"199.975\"/></clipPath><clipPath class=\"axesclip\" id=\"clip4d01f8xy2\"><rect x=\"50\" y=\"270.025\" width=\"620\" height=\"199.975\"/></clipPath><clipPath class=\"axesclip\" id=\"clip4d01f8x2\"><rect x=\"50\" y=\"0\" width=\"620\" height=\"500\"/></clipPath><clipPath class=\"axesclip\" id=\"clip4d01f8x2y\"><rect x=\"50\" y=\"49\" width=\"620\" height=\"199.975\"/></clipPath><clipPath class=\"axesclip\" id=\"clip4d01f8x2y2\"><rect x=\"50\" y=\"270.025\" width=\"620\" height=\"199.975\"/></clipPath></g><g class=\"gradients\"/></defs><g class=\"bglayer\"><rect class=\"bg\" x=\"50\" y=\"49\" width=\"620\" height=\"199.975\" style=\"fill: rgb(229, 236, 246); fill-opacity: 1; stroke-width: 0;\"/><rect class=\"bg\" x=\"50\" y=\"270.025\" width=\"620\" height=\"199.975\" style=\"fill: rgb(229, 236, 246); fill-opacity: 1; stroke-width: 0;\"/></g><g class=\"layer-below\"><g class=\"imagelayer\"/><g class=\"shapelayer\"><path data-index=\"0\" fill-rule=\"evenodd\" d=\"M50,307.015H670V418.575H50Z\" clip-path=\"url('#clip4d01f8y2')\" style=\"opacity: 0.2; stroke: rgb(0, 0, 0); stroke-opacity: 0; fill: rgb(128, 128, 128); fill-opacity: 1; stroke-width: 0px;\"/></g></g><g class=\"cartesianlayer\"><g class=\"subplot xy\"><g class=\"layer-subplot\"><g class=\"shapelayer\"/><g class=\"imagelayer\"/></g><g class=\"gridlayer\"><g class=\"x\"><path class=\"xgrid crisp\" transform=\"translate(123,0)\" d=\"M0,49v199.975\" style=\"stroke: rgb(255, 255, 255); stroke-opacity: 1; stroke-width: 1px;\"/><path class=\"xgrid crisp\" transform=\"translate(199.36,0)\" d=\"M0,49v199.975\" style=\"stroke: rgb(255, 255, 255); stroke-opacity: 1; stroke-width: 1px;\"/><path class=\"xgrid crisp\" transform=\"translate(276.55,0)\" d=\"M0,49v199.975\" style=\"stroke: rgb(255, 255, 255); stroke-opacity: 1; stroke-width: 1px;\"/><path class=\"xgrid crisp\" transform=\"translate(353.75,0)\" d=\"M0,49v199.975\" style=\"stroke: rgb(255, 255, 255); stroke-opacity: 1; stroke-width: 1px;\"/><path class=\"xgrid crisp\" transform=\"translate(429.26,0)\" d=\"M0,49v199.975\" style=\"stroke: rgb(255, 255, 255); stroke-opacity: 1; stroke-width: 1px;\"/><path class=\"xgrid crisp\" transform=\"translate(505.62,0)\" d=\"M0,49v199.975\" style=\"stroke: rgb(255, 255, 255); stroke-opacity: 1; stroke-width: 1px;\"/><path class=\"xgrid crisp\" transform=\"translate(582.82,0)\" d=\"M0,49v199.975\" style=\"stroke: rgb(255, 255, 255); stroke-opacity: 1; stroke-width: 1px;\"/><path class=\"xgrid crisp\" transform=\"translate(660.01,0)\" d=\"M0,49v199.975\" style=\"stroke: rgb(255, 255, 255); stroke-opacity: 1; stroke-width: 1px;\"/></g><g class=\"y\"><path class=\"ygrid crisp\" transform=\"translate(0,198.39)\" d=\"M50,0h620\" style=\"stroke: rgb(255, 255, 255); stroke-opacity: 1; stroke-width: 1px;\"/><path class=\"ygrid crisp\" transform=\"translate(0,57.67)\" d=\"M50,0h620\" style=\"stroke: rgb(255, 255, 255); stroke-opacity: 1; stroke-width: 1px;\"/></g></g><g class=\"zerolinelayer\"><path class=\"yzl zl crisp\" transform=\"translate(0,128.03)\" d=\"M50,0h620\" style=\"stroke: rgb(255, 255, 255); stroke-opacity: 1; stroke-width: 2px;\"/></g><path class=\"xlines-below\"/><path class=\"ylines-below\"/><g class=\"overlines-below\"/><g class=\"xaxislayer-below\"/><g class=\"yaxislayer-below\"/><g class=\"overaxes-below\"/><g class=\"plot\" transform=\"translate(50, 49)\" clip-path=\"url('#clip4d01f8xyplot')\"><g class=\"scatterlayer mlayer\"><g class=\"trace scatter tracef4977d89-90ab-4a90-845e-953e21d4b5c3\" style=\"stroke-miterlimit: 2; opacity: 1;\"><g class=\"fills\"/><g class=\"errorbars\"/><g class=\"lines\"><path class=\"js-line\" d=\"M119.15,110.48L119.99,102.72L123.34,101.24L125.02,109.34L125.86,105.13L129.22,102.12L130.06,92.14L130.9,91.61L131.74,95.9L135.09,91.3L135.93,86.26L136.77,85.53L137.61,90.92L140.97,85.26L141.8,79.69L142.64,89.6L143.48,84.14L146,86.14L146.84,89.35L148.52,91.31L149.36,87.83L151.87,85.83L153.55,88.4L155.23,75.11L157.75,89.81L158.59,94.88L159.43,86.38L160.26,93.4L161.1,87.97L163.62,88.81L164.46,86.23L165.3,85.78L166.14,83.31L166.98,74.76L169.49,76.32L172.85,95.33L175.37,91.06L177.05,96.33L177.89,89.26L178.72,84.38L181.24,80.16L182.92,82.9L183.76,88.77L187.95,67.26L188.79,66.57L189.63,68.32L190.47,74.25L192.99,66.75L193.83,69.3L196.34,93.49L198.86,93.67L201.38,84.01L202.22,87.2L205.57,89.78L206.41,84.67L207.25,83.52L208.09,106.98L210.61,102.93L211.45,114.04L212.29,122.22L213.13,116.76L213.97,109.36L216.48,105.53L217.32,108.28L218.16,115.03L219,117.25L219.84,129.85L222.36,130.6L223.2,129.36L224.87,121L225.71,124.76L229.07,155.05L229.91,154.77L230.75,139.57L231.59,138.83L234.1,142.06L234.94,133.58L237.46,105.45L239.98,92.24L241.66,109.76L242.49,99.1L243.33,111.68L245.85,109.61L247.53,128.52L248.37,117.47L249.21,119.27L251.72,132.16L252.56,122.9L253.4,125.1L254.24,124.55L255.08,120.62L257.6,137.17L258.44,116.05L259.28,93.7L260.11,98.86L260.95,79.77L263.47,62.78L264.31,38.8L265.15,52.8L265.99,53.98L266.83,66.03L269.34,64.84L270.18,49.39L271.02,60.97L272.7,51.1L275.22,51.99L276.06,41.62L276.9,42.98L277.74,34.11L281.09,22.82L281.93,23.02L282.77,10L283.61,37.19L284.45,39.52L286.97,30.11L287.8,30.2L288.64,27.09L289.48,26.23L290.32,14.77L292.84,27.65L293.68,23.83L294.52,19.98L295.36,24.47L296.2,20.82L299.55,20.77L302.07,12.34L305.43,28.68L306.26,30.86L307.1,36.6L307.94,33.29L310.46,40.37L312.98,55.69L313.82,53.31L317.17,59.33L318.01,54.8L318.85,60.92L319.69,59.63L322.21,55.9L323.05,64.12L324.72,86.95L325.56,102L328.08,92.63L328.92,78.96L329.76,81.57L330.6,75.86L333.95,39.61L334.79,42.59L335.63,40.42L336.47,28.57L337.31,23.7L339.83,47.33L340.67,54.01L341.51,89.01L342.34,89.51L343.18,95.51L347.38,77.21L348.22,68.23L349.06,81.59L351.57,66.65L352.41,55.89L353.25,59.92L354.09,78.45L354.93,76.96L358.29,78.36L359.13,72.29L359.97,64.16L360.8,70.66L363.32,59.62L364.16,50.87L365,51.68L365.84,56.61L366.68,55.33L369.2,65.94L370.03,69.37L370.87,79.47L371.71,82.05L372.55,91.26L375.07,94.33L375.91,90.14L376.75,85.15L377.59,89.63L380.94,91.02L381.78,101L383.46,105.23L384.3,105.47L386.82,101.01L387.66,106.43L390.17,126.35L392.69,123.92L394.37,154.3L395.21,164.74L396.05,183.5L398.56,189.98L401.08,126.31L401.92,168.82L404.44,173.34L405.28,169.25L406.11,168.94L406.95,152.41L410.31,149.2L411.15,150.51L412.83,156.83L413.67,150L416.18,146.75L417.02,132.91L417.86,116.89L418.7,144.97L419.54,142.57L422.06,125.51L422.9,109.85L423.74,110.23L424.57,109.12L425.41,110.83L428.77,113.65L429.61,126.93L430.45,128.29L431.29,133.91L433.8,154.56L434.64,132.33L435.48,141.35L436.32,134.99L437.16,142.32L439.68,141.47L440.52,137.67L441.36,114.83L443.03,100.05L445.55,100.48L446.39,95.99L447.23,80.93L448.91,48.43L451.43,60.69L452.26,59.34L453.1,41.28L454.78,81.52L457.3,65.86L459.82,118.14L460.66,114.01L463.17,120.76L464.01,86.97L464.85,81.4L465.69,87.23L466.53,76.14L469.05,72.42L469.89,78.45L470.72,71.69L471.56,59.96L472.4,66.87L474.92,68.32L475.76,82.44L477.44,127.23L478.28,129.92L480.79,128.57L481.63,134.26L482.47,134.23L483.31,107.82L484.15,106.79L486.67,93.73L487.51,121.64L488.34,111.82L489.18,116.87L490.02,113.09L492.54,98.44L493.38,99.7L494.22,104.72L495.06,100.77L495.9,109.75L498.41,115.92L499.25,103.82L500.09,107.8L501.77,92.56L504.29,91.88L505.13,91.19L505.97,77.59L507.64,40.04L511,62.34L513.52,77.39L516.03,83.97L516.87,84.95L517.71,89.11L518.55,74.41L519.39,87.35L521.91,93.33L522.75,91.43L523.59,94.79L524.43,109.03L525.26,109.07L527.78,116.28L528.62,100.92L529.46,113.84L530.3,125.92L531.14,123.75L533.66,137.15L534.49,172.23L535.33,157.96L536.17,167.14L537.01,168.11L539.53,167.52L540.37,162.15L541.21,143.72L542.89,131.69L545.4,135.71L546.24,132.85L547.08,132.92L548.76,120.57L551.28,119.16L552.11,120.17L552.95,93.58L553.79,87.24L554.63,100.84L557.15,82.44L557.99,96.44L559.67,119.65L560.51,124.34L563.86,87.73L564.7,83.97L566.38,63.15L568.9,71.3L569.74,69.54L570.57,74.13L571.41,71.82L572.25,60.14L574.77,58.31L575.61,78.66L576.45,78.31L578.13,80.29L581.48,72.51L582.32,52.75L583.16,52.55L584,32.85L587.36,71.56L589.03,69.84L589.87,78.13L592.39,76.46L594.91,57.53L595.75,107.98L598.26,103.03L599.1,114.86L599.94,129.42L600.78,120.26L601.62,130.1L604.14,144.36L606.66,126.98L607.49,108.1L610.01,108.81\" style=\"vector-effect: non-scaling-stroke; fill: none; stroke: rgb(31, 119, 180); stroke-opacity: 1; stroke-width: 2px; opacity: 1;\"/></g><g class=\"points\"/><g class=\"text\"/></g></g></g><g class=\"overplot\"/><path class=\"xlines-above crisp\" d=\"M0,0\" style=\"fill: none;\"/><path class=\"ylines-above crisp\" d=\"M0,0\" style=\"fill: none;\"/><g class=\"overlines-above\"/><g class=\"xaxislayer-above\"/><g class=\"yaxislayer-above\"><g class=\"ytick\"><text text-anchor=\"end\" x=\"49\" y=\"4.199999999999999\" transform=\"translate(0,198.39)\" style=\"font-family: 'Open Sans', verdana, arial, sans-serif; font-size: 12px; fill: rgb(42, 63, 95); fill-opacity: 1; white-space: pre;\">−0.05</text></g><g class=\"ytick\"><text text-anchor=\"end\" x=\"49\" y=\"4.199999999999999\" transform=\"translate(0,128.03)\" style=\"font-family: 'Open Sans', verdana, arial, sans-serif; font-size: 12px; fill: rgb(42, 63, 95); fill-opacity: 1; white-space: pre;\">0</text></g><g class=\"ytick\"><text text-anchor=\"end\" x=\"49\" y=\"4.199999999999999\" transform=\"translate(0,57.67)\" style=\"font-family: 'Open Sans', verdana, arial, sans-serif; font-size: 12px; fill: rgb(42, 63, 95); fill-opacity: 1; white-space: pre;\">0.05</text></g></g><g class=\"overaxes-above\"/></g><g class=\"subplot x2y2\"><g class=\"layer-subplot\"><g class=\"shapelayer\"/><g class=\"imagelayer\"/></g><g class=\"gridlayer\"><g class=\"x2\"><path class=\"x2grid crisp\" transform=\"translate(123,0)\" d=\"M0,270.025v199.975\" style=\"stroke: rgb(255, 255, 255); stroke-opacity: 1; stroke-width: 1px;\"/><path class=\"x2grid crisp\" transform=\"translate(199.36,0)\" d=\"M0,270.025v199.975\" style=\"stroke: rgb(255, 255, 255); stroke-opacity: 1; stroke-width: 1px;\"/><path class=\"x2grid crisp\" transform=\"translate(276.55,0)\" d=\"M0,270.025v199.975\" style=\"stroke: rgb(255, 255, 255); stroke-opacity: 1; stroke-width: 1px;\"/><path class=\"x2grid crisp\" transform=\"translate(353.75,0)\" d=\"M0,270.025v199.975\" style=\"stroke: rgb(255, 255, 255); stroke-opacity: 1; stroke-width: 1px;\"/><path class=\"x2grid crisp\" transform=\"translate(429.26,0)\" d=\"M0,270.025v199.975\" style=\"stroke: rgb(255, 255, 255); stroke-opacity: 1; stroke-width: 1px;\"/><path class=\"x2grid crisp\" transform=\"translate(505.62,0)\" d=\"M0,270.025v199.975\" style=\"stroke: rgb(255, 255, 255); stroke-opacity: 1; stroke-width: 1px;\"/><path class=\"x2grid crisp\" transform=\"translate(582.82,0)\" d=\"M0,270.025v199.975\" style=\"stroke: rgb(255, 255, 255); stroke-opacity: 1; stroke-width: 1px;\"/><path class=\"x2grid crisp\" transform=\"translate(660.01,0)\" d=\"M0,270.025v199.975\" style=\"stroke: rgb(255, 255, 255); stroke-opacity: 1; stroke-width: 1px;\"/></g><g class=\"y2\"><path class=\"y2grid crisp\" transform=\"translate(0,419.715)\" d=\"M50,0h620\" style=\"stroke: rgb(255, 255, 255); stroke-opacity: 1; stroke-width: 1px;\"/><path class=\"y2grid crisp\" transform=\"translate(0,305.885)\" d=\"M50,0h620\" style=\"stroke: rgb(255, 255, 255); stroke-opacity: 1; stroke-width: 1px;\"/></g></g><g class=\"zerolinelayer\"><path class=\"y2zl zl crisp\" transform=\"translate(0,362.79499999999996)\" d=\"M50,0h620\" style=\"stroke: rgb(255, 255, 255); stroke-opacity: 1; stroke-width: 2px;\"/></g><path class=\"xlines-below\"/><path class=\"ylines-below\"/><g class=\"overlines-below\"/><g class=\"xaxislayer-below\"/><g class=\"yaxislayer-below\"/><g class=\"overaxes-below\"/><g class=\"plot\" transform=\"translate(50, 270.025)\" clip-path=\"url('#clip4d01f8x2y2plot')\"><g class=\"scatterlayer mlayer\"><g class=\"trace scatter traceea53e0ed-db57-4fd3-a55f-f227057e3584\" style=\"stroke-miterlimit: 2; opacity: 1;\"><g class=\"fills\"/><g class=\"errorbars\"/><g class=\"lines\"><path class=\"js-line\" d=\"M239.98,85.86L241.66,111.19L242.49,95.78L243.33,113.86L245.85,110.87L247.53,136.83L248.37,120.78L249.21,122.78L251.72,139.7L252.56,126.25L253.4,128.55L254.24,127.11L255.08,121.22L257.6,142.28L258.44,113.66L259.28,83.75L260.11,90.46L260.95,64.87L263.47,43.18L264.31,15L265.15,34.41L265.99,37.37L266.83,52.81L269.34,52.09L270.18,35.15L271.02,49.54L272.7,39.4L275.22,41.47L276.06,31.38L276.9,34.64L277.74,27.48L278.57,26.41L281.09,21.35L281.93,24.28L282.77,15.52L284.45,45.24L286.97,38.26L287.8,39.62L288.64,38.33L289.48,39.04L290.32,31.48L292.84,43.31L293.68,41.65L294.52,40.1L295.36,44.84L296.2,43.36L299.55,44.56L302.07,42.19L305.43,54.56L306.26,56.79L307.1,61.34L307.94,59.52L310.46,64.73L312.98,75.8L313.82,74.29L317.17,78.48L318.01,75.56L318.85,79.91L319.69,79.27L322.21,77.01L323.05,82.76L324.72,98.26L325.56,108.34L328.08,101.97L328.92,92.76L329.76,94.54L330.6,90.88L333.95,67.03L334.79,69.53L335.63,68.55L336.47,61.13L337.31,58.53L339.83,74.9L340.67,79.78L341.51,103.81L342.34,104.53L343.18,109.04L347.38,97.07L348.22,91.08L349.06,100.98L351.57,90.8L352.41,83.39L353.25,86.99L354.09,101.97L354.93,101.46L358.29,104.01L359.13,99.43L359.97,92.89L360.8,98.82L363.32,89.53L364.16,82.33L365,83.45L365.84,88.16L366.68,87.46L369.2,97.5L370.03,101.26L370.87,111.56L371.71,114.72L372.55,124.39L375.07,128.68L375.91,125.43L376.75,121.42L377.59,127.35L380.94,129.95L381.78,143.11L382.62,148.16L383.46,148.04L384.3,147.97L386.82,142.09L390.17,160.83L392.69,156.12L394.37,177.03L395.21,181.01L396.05,189.98L398.56,188.27L401.08,134.25L401.92,162.3L404.44,162.72L405.28,157.59L406.11,155.46L406.95,143.03L407.79,141.32L410.31,138.53L411.15,138.29L411.99,140.19L412.83,140.06L413.67,134.87L416.18,131.98L417.02,122.62L417.86,111.96L418.7,129.31L419.54,127.13L422.06,115.62L422.9,104.95L423.74,104.76L424.57,103.55L425.41,104.29L428.77,105.81L429.61,114.63L430.45,115.12L431.29,118.62L433.8,132.57L434.64,116.19L435.48,122.08L436.32,117L437.16,121.71L439.68,120.54L440.52,117.28L441.36,100.36L443.03,88.9L445.55,89.08L446.39,85.69L447.23,74.71L448.91,51.88L451.43,61.09L452.26,60.36L453.1,47.86L454.78,75.94L457.3,64.08L459.82,101.76L460.66,98.15L463.17,102.98L464.01,76.48L464.85,72.2L465.69,76.85L466.53,68.23L469.05,65.39L469.89,69.96L470.72,64.81L471.56,55.78L472.4,60.96L474.92,61.94L475.76,72.98L477.44,107.49L478.28,109.24L480.79,107.79L481.63,111.86L482.47,111.4L483.31,89.81L484.15,88.45L486.67,77.15L487.51,100L488.34,91.19L489.18,95.11L490.02,91.44L492.54,78.37L493.38,79.27L494.22,83.56L495.06,79.99L495.9,87.77L498.41,92.98L499.25,82.02L500.09,85.41L501.77,71.9L504.29,71.45L505.13,71.02L505.97,59.29L507.64,29.66L511,49.66L513.52,64.32L516.03,70.25L516.87,71.52L517.71,75.43L518.55,63.05L519.39,74.88L521.91,80.62L522.75,79.21L523.59,82.71L524.43,96.48L525.26,97.18L527.78,104.93L528.62,90.24L529.46,103.71L530.3,116.46L531.14,114.78L533.66,129.27L534.49,165.01L535.33,149.82L536.17,158.14L539.53,154.84L540.37,148.89L542.05,121.35L542.89,119.08L545.4,122.52L546.24,119.46L547.08,119.21L547.92,114.65L548.76,107.47L551.28,106.25L552.11,107.38L552.95,82.65L553.79,76.95L554.63,90.41L557.15,73L557.99,87.03L559.67,110.52L560.51,115.06L563.86,78.91L564.7,75.37L566.38,55.49L568.9,63.06L569.74,60.75L570.57,65.06L571.41,62.44L572.25,49.89L574.77,48.1L575.61,68.98L576.45,68.37L578.13,70.54L580.64,63.51L581.48,63.68L582.32,44.85L583.16,45.61L584,28.16L586.52,53.71L587.36,66.22L589.03,64.62L589.87,72.56L592.39,70.89L594.91,52.76L595.75,100.88L598.26,96.32L599.1,107.86L599.94,121.92L600.78,113.21L601.62,122.82L604.14,136.34L606.66,118.9L607.49,100.72L610.01,101.54\" style=\"vector-effect: non-scaling-stroke; fill: none; stroke: rgb(255, 127, 14); stroke-opacity: 1; stroke-width: 2px; opacity: 1;\"/></g><g class=\"points\"/><g class=\"text\"/></g><g class=\"trace scatter trace9cdf247f-0910-4070-b3f3-40ac87e7f949\" style=\"stroke-miterlimit: 2; opacity: 1;\"><g class=\"fills\"/><g class=\"errorbars\"/><g class=\"lines\"/><g class=\"points\"><path class=\"point\" transform=\"translate(264.31,15)\" d=\"M-4.62,-2H4.62L0,4Z\" style=\"opacity: 1; stroke-width: 1px; fill: rgb(234, 67, 53); fill-opacity: 1; stroke: rgb(181, 31, 18); stroke-opacity: 1;\"/><path class=\"point\" transform=\"translate(507.64,29.66)\" d=\"M-4.62,-2H4.62L0,4Z\" style=\"opacity: 1; stroke-width: 1px; fill: rgb(234, 67, 53); fill-opacity: 1; stroke: rgb(181, 31, 18); stroke-opacity: 1;\"/><path class=\"point\" transform=\"translate(584,28.16)\" d=\"M-4.62,-2H4.62L0,4Z\" style=\"opacity: 1; stroke-width: 1px; fill: rgb(234, 67, 53); fill-opacity: 1; stroke: rgb(181, 31, 18); stroke-opacity: 1;\"/></g><g class=\"text\"/></g><g class=\"trace scatter tracec093ad4e-2492-43e6-afda-e7a3c833ba90\" style=\"stroke-miterlimit: 2; opacity: 1;\"><g class=\"fills\"/><g class=\"errorbars\"/><g class=\"lines\"/><g class=\"points\"><path class=\"point\" transform=\"translate(388.49,154.3)\" d=\"M-4.62,2H4.62L0,-4Z\" style=\"opacity: 1; stroke-width: 1px; fill: rgb(55, 177, 63); fill-opacity: 1; stroke: rgb(38, 123, 44); stroke-opacity: 1;\"/><path class=\"point\" transform=\"translate(534.49,165.01)\" d=\"M-4.62,2H4.62L0,-4Z\" style=\"opacity: 1; stroke-width: 1px; fill: rgb(55, 177, 63); fill-opacity: 1; stroke: rgb(38, 123, 44); stroke-opacity: 1;\"/></g><g class=\"text\"/></g></g></g><g class=\"overplot\"/><path class=\"xlines-above crisp\" d=\"M0,0\" style=\"fill: none;\"/><path class=\"ylines-above crisp\" d=\"M0,0\" style=\"fill: none;\"/><g class=\"overlines-above\"/><g class=\"xaxislayer-above\"><g class=\"x2tick\"><text text-anchor=\"middle\" x=\"0\" y=\"483\" transform=\"translate(123,0)\" style=\"font-family: 'Open Sans', verdana, arial, sans-serif; font-size: 12px; fill: rgb(42, 63, 95); fill-opacity: 1; white-space: pre;\">Apr 2017</text></g><g class=\"x2tick\"><text text-anchor=\"middle\" x=\"0\" y=\"483\" transform=\"translate(199.36,0)\" style=\"font-family: 'Open Sans', verdana, arial, sans-serif; font-size: 12px; fill: rgb(42, 63, 95); fill-opacity: 1; white-space: pre;\">Jul 2017</text></g><g class=\"x2tick\"><text text-anchor=\"middle\" x=\"0\" y=\"483\" transform=\"translate(276.55,0)\" style=\"font-family: 'Open Sans', verdana, arial, sans-serif; font-size: 12px; fill: rgb(42, 63, 95); fill-opacity: 1; white-space: pre;\">Oct 2017</text></g><g class=\"x2tick\"><text text-anchor=\"middle\" x=\"0\" y=\"483\" transform=\"translate(353.75,0)\" style=\"font-family: 'Open Sans', verdana, arial, sans-serif; font-size: 12px; fill: rgb(42, 63, 95); fill-opacity: 1; white-space: pre;\">Jan 2018</text></g><g class=\"x2tick\"><text text-anchor=\"middle\" x=\"0\" y=\"483\" transform=\"translate(429.26,0)\" style=\"font-family: 'Open Sans', verdana, arial, sans-serif; font-size: 12px; fill: rgb(42, 63, 95); fill-opacity: 1; white-space: pre;\">Apr 2018</text></g><g class=\"x2tick\"><text text-anchor=\"middle\" x=\"0\" y=\"483\" transform=\"translate(505.62,0)\" style=\"font-family: 'Open Sans', verdana, arial, sans-serif; font-size: 12px; fill: rgb(42, 63, 95); fill-opacity: 1; white-space: pre;\">Jul 2018</text></g><g class=\"x2tick\"><text text-anchor=\"middle\" x=\"0\" y=\"483\" transform=\"translate(582.82,0)\" style=\"font-family: 'Open Sans', verdana, arial, sans-serif; font-size: 12px; fill: rgb(42, 63, 95); fill-opacity: 1; white-space: pre;\">Oct 2018</text></g><g class=\"x2tick\"><text text-anchor=\"middle\" x=\"0\" y=\"483\" transform=\"translate(660.01,0)\" style=\"font-family: 'Open Sans', verdana, arial, sans-serif; font-size: 12px; fill: rgb(42, 63, 95); fill-opacity: 1; white-space: pre;\">Jan 2019</text></g></g><g class=\"yaxislayer-above\"><g class=\"y2tick\"><text text-anchor=\"end\" x=\"49\" y=\"4.199999999999999\" transform=\"translate(0,419.715)\" style=\"font-family: 'Open Sans', verdana, arial, sans-serif; font-size: 12px; fill: rgb(42, 63, 95); fill-opacity: 1; white-space: pre;\">−2</text></g><g class=\"y2tick\"><text text-anchor=\"end\" x=\"49\" y=\"4.199999999999999\" transform=\"translate(0,362.79499999999996)\" style=\"font-family: 'Open Sans', verdana, arial, sans-serif; font-size: 12px; fill: rgb(42, 63, 95); fill-opacity: 1; white-space: pre;\">0</text></g><g class=\"y2tick\"><text text-anchor=\"end\" x=\"49\" y=\"4.199999999999999\" transform=\"translate(0,305.885)\" style=\"font-family: 'Open Sans', verdana, arial, sans-serif; font-size: 12px; fill: rgb(42, 63, 95); fill-opacity: 1; white-space: pre;\">2</text></g></g><g class=\"overaxes-above\"/></g></g><g class=\"polarlayer\"/><g class=\"ternarylayer\"/><g class=\"geolayer\"/><g class=\"funnelarealayer\"/><g class=\"pielayer\"/><g class=\"treemaplayer\"/><g class=\"sunburstlayer\"/><g class=\"glimages\"/><defs id=\"topdefs-4d01f8\"><g class=\"clips\"/><clipPath id=\"legend4d01f8\"><rect width=\"314\" height=\"29\" x=\"0\" y=\"0\"/></clipPath></defs><g class=\"layer-above\"><g class=\"imagelayer\"/><g class=\"shapelayer\"/></g><g class=\"infolayer\"><g class=\"legend\" pointer-events=\"all\" transform=\"translate(356, 11.579999999999991)\"><rect class=\"bg\" shape-rendering=\"crispEdges\" style=\"stroke: rgb(68, 68, 68); stroke-opacity: 1; fill: rgb(255, 255, 255); fill-opacity: 1; stroke-width: 0px;\" width=\"314\" height=\"29\" x=\"0\" y=\"0\"/><g class=\"scrollbox\" transform=\"translate(0, 0)\" clip-path=\"url('#legend4d01f8')\"><g class=\"groups\"><g class=\"traces\" transform=\"translate(0, 14.5)\" style=\"opacity: 1;\"><text class=\"legendtext\" text-anchor=\"start\" x=\"40\" y=\"4.680000000000001\" style=\"font-family: 'Open Sans', verdana, arial, sans-serif; font-size: 12px; fill: rgb(42, 63, 95); fill-opacity: 1; white-space: pre;\">spread</text><g class=\"layers\" style=\"opacity: 1;\"><g class=\"legendfill\"/><g class=\"legendlines\"><path class=\"js-line\" d=\"M5,0h30\" style=\"fill: none; stroke: rgb(31, 119, 180); stroke-opacity: 1; stroke-width: 2px;\"/></g><g class=\"legendsymbols\"><g class=\"legendpoints\"/></g></g><rect class=\"legendtoggle\" x=\"0\" y=\"-9.5\" width=\"83.1875\" height=\"19\" style=\"fill: rgb(0, 0, 0); fill-opacity: 0;\"/></g><g class=\"traces\" transform=\"translate(85.6875, 14.5)\" style=\"opacity: 1;\"><text class=\"legendtext\" text-anchor=\"start\" x=\"40\" y=\"4.680000000000001\" style=\"font-family: 'Open Sans', verdana, arial, sans-serif; font-size: 12px; fill: rgb(42, 63, 95); fill-opacity: 1; white-space: pre;\">zscore</text><g class=\"layers\" style=\"opacity: 1;\"><g class=\"legendfill\"/><g class=\"legendlines\"><path class=\"js-line\" d=\"M5,0h30\" style=\"fill: none; stroke: rgb(255, 127, 14); stroke-opacity: 1; stroke-width: 2px;\"/></g><g class=\"legendsymbols\"><g class=\"legendpoints\"/></g></g><rect class=\"legendtoggle\" x=\"0\" y=\"-9.5\" width=\"80.875\" height=\"19\" style=\"fill: rgb(0, 0, 0); fill-opacity: 0;\"/></g><g class=\"traces\" transform=\"translate(169.0625, 14.5)\" style=\"opacity: 1;\"><text class=\"legendtext\" text-anchor=\"start\" x=\"40\" y=\"4.680000000000001\" style=\"font-family: 'Open Sans', verdana, arial, sans-serif; font-size: 12px; fill: rgb(42, 63, 95); fill-opacity: 1; white-space: pre;\">Exit</text><g class=\"layers\" style=\"opacity: 1;\"><g class=\"legendfill\"/><g class=\"legendlines\"/><g class=\"legendsymbols\"><g class=\"legendpoints\"><path class=\"scatterpts\" transform=\"translate(20,0)\" d=\"M-4.62,-2H4.62L0,4Z\" style=\"opacity: 1; stroke-width: 1px; fill: rgb(234, 67, 53); fill-opacity: 1; stroke: rgb(181, 31, 18); stroke-opacity: 1;\"/></g></g></g><rect class=\"legendtoggle\" x=\"0\" y=\"-9.5\" width=\"65.21875\" height=\"19\" style=\"fill: rgb(0, 0, 0); fill-opacity: 0;\"/></g><g class=\"traces\" transform=\"translate(236.78125, 14.5)\" style=\"opacity: 1;\"><text class=\"legendtext\" text-anchor=\"start\" x=\"40\" y=\"4.680000000000001\" style=\"font-family: 'Open Sans', verdana, arial, sans-serif; font-size: 12px; fill: rgb(42, 63, 95); fill-opacity: 1; white-space: pre;\">Entry</text><g class=\"layers\" style=\"opacity: 1;\"><g class=\"legendfill\"/><g class=\"legendlines\"/><g class=\"legendsymbols\"><g class=\"legendpoints\"><path class=\"scatterpts\" transform=\"translate(20,0)\" d=\"M-4.62,2H4.62L0,-4Z\" style=\"opacity: 1; stroke-width: 1px; fill: rgb(55, 177, 63); fill-opacity: 1; stroke: rgb(38, 123, 44); stroke-opacity: 1;\"/></g></g></g><rect class=\"legendtoggle\" x=\"0\" y=\"-9.5\" width=\"74.640625\" height=\"19\" style=\"fill: rgb(0, 0, 0); fill-opacity: 0;\"/></g></g></g><rect class=\"scrollbar\" rx=\"20\" ry=\"3\" width=\"0\" height=\"0\" style=\"fill: rgb(128, 139, 164); fill-opacity: 1;\" x=\"0\" y=\"0\"/></g><g class=\"g-gtitle\"/><g class=\"g-xtitle\"/><g class=\"g-x2title\"/><g class=\"g-ytitle\"/><g class=\"g-y2title\"/></g></svg>"
      ]
     },
     "metadata": {},
     "output_type": "display_data"
    }
   ],
   "source": [
    "vbt_short_signals, vbt_long_signals = pd.Series.vbt.signals.clean(\n",
    "    vbt_short_signals, vbt_long_signals, entry_first=False, broadcast_kwargs=dict(columns_from='keep'))\n",
    "\n",
    "def plot_spread_and_zscore(spread, zscore):\n",
    "    fig = vbt.make_subplots(rows=2, cols=1, shared_xaxes=True, vertical_spacing=0.05)\n",
    "    spread.vbt.plot(add_trace_kwargs=dict(row=1, col=1), fig=fig)\n",
    "    zscore.vbt.plot(add_trace_kwargs=dict(row=2, col=1), fig=fig)\n",
    "    vbt_short_signals.vbt.signals.plot_as_exit_markers(zscore, add_trace_kwargs=dict(row=2, col=1), fig=fig)\n",
    "    vbt_long_signals.vbt.signals.plot_as_entry_markers(zscore, add_trace_kwargs=dict(row=2, col=1), fig=fig)\n",
    "    fig.update_layout(height=500)\n",
    "    fig.add_shape(\n",
    "        type=\"rect\",\n",
    "        xref='paper',\n",
    "        yref='y2',\n",
    "        x0=0,\n",
    "        y0=UPPER,\n",
    "        x1=1,\n",
    "        y1=LOWER,\n",
    "        fillcolor=\"gray\",\n",
    "        opacity=0.2,\n",
    "        layer=\"below\",\n",
    "        line_width=0,\n",
    "    )\n",
    "    return fig\n",
    "    \n",
    "plot_spread_and_zscore(vbt_spread, vbt_zscore).show_svg()"
   ]
  },
  {
   "cell_type": "code",
   "execution_count": 26,
   "metadata": {},
   "outputs": [],
   "source": [
    "# Assert equality of bt and vbt signal arrays\n",
    "pd.testing.assert_series_equal(\n",
    "    bt_short_signals[bt_short_signals], \n",
    "    vbt_short_signals[vbt_short_signals]\n",
    ")\n",
    "pd.testing.assert_series_equal(\n",
    "    bt_long_signals[bt_long_signals], \n",
    "    vbt_long_signals[vbt_long_signals]\n",
    ")"
   ]
  },
  {
   "cell_type": "code",
   "execution_count": 27,
   "metadata": {},
   "outputs": [
    {
     "name": "stdout",
     "output_type": "stream",
     "text": [
      "symbol                      PEP   KO\n",
      "2017-11-15 23:59:59.999989 -0.1  0.1\n",
      "2018-04-12 23:59:59.999989  0.1 -0.1\n",
      "2018-09-04 23:59:59.999989 -0.1  0.1\n",
      "2018-10-03 23:59:59.999989  0.1 -0.1\n",
      "2018-12-03 23:59:59.999989 -0.1  0.1\n"
     ]
    }
   ],
   "source": [
    "# Build percentage order size\n",
    "symbol_cols = pd.Index([SYMBOL1, SYMBOL2], name='symbol')\n",
    "vbt_order_size = pd.DataFrame(index=vbt_s1_ohlcv.index, columns=symbol_cols)\n",
    "vbt_order_size[SYMBOL1] = np.nan\n",
    "vbt_order_size[SYMBOL2] = np.nan\n",
    "vbt_order_size.loc[vbt_short_signals, SYMBOL1] = -ORDER_PCT1\n",
    "vbt_order_size.loc[vbt_long_signals, SYMBOL1] = ORDER_PCT1\n",
    "vbt_order_size.loc[vbt_short_signals, SYMBOL2] = ORDER_PCT2\n",
    "vbt_order_size.loc[vbt_long_signals, SYMBOL2] = -ORDER_PCT2\n",
    "\n",
    "# Execute at the next bar\n",
    "vbt_order_size = vbt_order_size.vbt.fshift(1)\n",
    "\n",
    "print(vbt_order_size[~vbt_order_size.isnull().any(axis=1)])"
   ]
  },
  {
   "cell_type": "code",
   "execution_count": 28,
   "metadata": {},
   "outputs": [],
   "source": [
    "# Simulate the portfolio\n",
    "vbt_close_price = pd.concat((vbt_s1_ohlcv['close'], vbt_s2_ohlcv['close']), axis=1, keys=symbol_cols)\n",
    "vbt_open_price = pd.concat((vbt_s1_ohlcv['open'], vbt_s2_ohlcv['open']), axis=1, keys=symbol_cols)\n",
    "\n",
    "def simulate_from_orders():\n",
    "    \"\"\"Simulate using `Portfolio.from_orders`.\"\"\"\n",
    "    return vbt.Portfolio.from_orders(\n",
    "        vbt_close_price,  # current close as reference price\n",
    "        size=vbt_order_size,  \n",
    "        price=vbt_open_price,  # current open as execution price\n",
    "        size_type='targetpercent', \n",
    "        val_price=vbt_close_price.vbt.fshift(1),  # previous close as group valuation price\n",
    "        init_cash=CASH,\n",
    "        fees=COMMPERC,\n",
    "        cash_sharing=True,  # share capital between assets in the same group\n",
    "        group_by=True,  # all columns belong to the same group\n",
    "        call_seq='auto',  # sell before buying\n",
    "        freq='d'  # index frequency for annualization\n",
    "    )\n",
    "\n",
    "vbt_portfolio = simulate_from_orders()"
   ]
  },
  {
   "cell_type": "code",
   "execution_count": 29,
   "metadata": {},
   "outputs": [
    {
     "name": "stdout",
     "output_type": "stream",
     "text": [
      "   Order Id                       Date Column        Size   Price        Fees  \\\n",
      "0         0 2017-11-15 23:59:59.999989    PEP   95.996928  104.07   49.952002   \n",
      "1         1 2017-11-15 23:59:59.999989     KO  236.630383   42.17   49.893516   \n",
      "2         2 2018-04-12 23:59:59.999989     KO  487.000209   39.95   97.278292   \n",
      "3         3 2018-04-12 23:59:59.999989    PEP  196.614255   99.46   97.776269   \n",
      "4         4 2018-09-04 23:59:59.999989    PEP  197.327114  103.01  101.633330   \n",
      "5         5 2018-09-04 23:59:59.999989     KO  495.205031   40.78  100.972306   \n",
      "6         6 2018-10-03 23:59:59.999989     KO  478.647348   42.84  102.526262   \n",
      "7         7 2018-10-03 23:59:59.999989    PEP  196.018589  101.44   99.420628   \n",
      "8         8 2018-12-03 23:59:59.999989    PEP  187.830431  111.91  105.100518   \n",
      "9         9 2018-12-03 23:59:59.999989     KO  447.813417   46.35  103.780759   \n",
      "\n",
      "   Side  \n",
      "0  Sell  \n",
      "1   Buy  \n",
      "2  Sell  \n",
      "3   Buy  \n",
      "4  Sell  \n",
      "5   Buy  \n",
      "6  Sell  \n",
      "7   Buy  \n",
      "8  Sell  \n",
      "9   Buy  \n"
     ]
    }
   ],
   "source": [
    "print(vbt_portfolio.orders.records_readable)"
   ]
  },
  {
   "cell_type": "code",
   "execution_count": 30,
   "metadata": {},
   "outputs": [],
   "source": [
    "# Proof that both bt and vbt produce the same result\n",
    "pd.testing.assert_series_equal(bt_cash, vbt_portfolio.cash().rename('cash'))\n",
    "pd.testing.assert_series_equal(bt_value, vbt_portfolio.value().rename('value'))"
   ]
  },
  {
   "cell_type": "code",
   "execution_count": 31,
   "metadata": {},
   "outputs": [
    {
     "name": "stdout",
     "output_type": "stream",
     "text": [
      "Start                     2017-01-03 23:59:59.999989\n",
      "End                       2018-12-31 23:59:59.999989\n",
      "Duration                           502 days 00:00:00\n",
      "Init. Cash                                    100000\n",
      "Total Profit                                 283.455\n",
      "Total Return [%]                            0.283455\n",
      "Benchmark Return [%]                         16.6294\n",
      "Position Coverage [%]                        56.1753\n",
      "Max. Drawdown [%]                            1.03211\n",
      "Avg. Drawdown [%]                           0.398855\n",
      "Max. Drawdown Duration             169 days 00:00:00\n",
      "Avg. Drawdown Duration              40 days 00:00:00\n",
      "Num. Trades                                        8\n",
      "Win Rate [%]                                    62.5\n",
      "Best Trade [%]                               9.26977\n",
      "Worst Trade [%]                             -9.23424\n",
      "Avg. Trade [%]                               0.15884\n",
      "Max. Trade Duration                100 days 00:00:00\n",
      "Avg. Trade Duration                 65 days 18:00:00\n",
      "Expectancy                                   16.5852\n",
      "SQN                                        0.0776192\n",
      "Gross Exposure                          -0.000812182\n",
      "Sharpe Ratio                                0.184537\n",
      "Sortino Ratio                               0.266326\n",
      "Calmar Ratio                                0.199608\n",
      "dtype: object\n"
     ]
    }
   ],
   "source": [
    "print(vbt_portfolio.stats())"
   ]
  },
  {
   "cell_type": "code",
   "execution_count": 32,
   "metadata": {},
   "outputs": [
    {
     "data": {
      "image/svg+xml": [
       "<svg class=\"main-svg\" xmlns=\"http://www.w3.org/2000/svg\" xmlns:xlink=\"http://www.w3.org/1999/xlink\" width=\"750\" height=\"750\" style=\"\" viewBox=\"0 0 750 750\"><rect x=\"0\" y=\"0\" width=\"750\" height=\"750\" style=\"fill: rgb(255, 255, 255); fill-opacity: 1;\"/><defs id=\"defs-874dec\"><g class=\"clips\"><clipPath id=\"clip874decxyplot\" class=\"plotclip\"><rect width=\"659\" height=\"188.1955555555556\"/></clipPath><clipPath id=\"clip874decx2y2plot\" class=\"plotclip\"><rect width=\"659\" height=\"188.19555555555553\"/></clipPath><clipPath id=\"clip874decx3y3plot\" class=\"plotclip\"><rect width=\"659\" height=\"188.19555555555553\"/></clipPath><clipPath class=\"axesclip\" id=\"clip874decx\"><rect x=\"61\" y=\"0\" width=\"659\" height=\"750\"/></clipPath><clipPath class=\"axesclip\" id=\"clip874decy\"><rect x=\"0\" y=\"66\" width=\"750\" height=\"188.1955555555556\"/></clipPath><clipPath class=\"axesclip\" id=\"clip874decxy\"><rect x=\"61\" y=\"66\" width=\"659\" height=\"188.1955555555556\"/></clipPath><clipPath class=\"axesclip\" id=\"clip874decy2\"><rect x=\"0\" y=\"287.90222222222224\" width=\"750\" height=\"188.19555555555553\"/></clipPath><clipPath class=\"axesclip\" id=\"clip874decxy2\"><rect x=\"61\" y=\"287.90222222222224\" width=\"659\" height=\"188.19555555555553\"/></clipPath><clipPath class=\"axesclip\" id=\"clip874decy3\"><rect x=\"0\" y=\"509.80444444444447\" width=\"750\" height=\"188.19555555555553\"/></clipPath><clipPath class=\"axesclip\" id=\"clip874decxy3\"><rect x=\"61\" y=\"509.80444444444447\" width=\"659\" height=\"188.19555555555553\"/></clipPath><clipPath class=\"axesclip\" id=\"clip874decx2\"><rect x=\"61\" y=\"0\" width=\"659\" height=\"750\"/></clipPath><clipPath class=\"axesclip\" id=\"clip874decx2y\"><rect x=\"61\" y=\"66\" width=\"659\" height=\"188.1955555555556\"/></clipPath><clipPath class=\"axesclip\" id=\"clip874decx2y2\"><rect x=\"61\" y=\"287.90222222222224\" width=\"659\" height=\"188.19555555555553\"/></clipPath><clipPath class=\"axesclip\" id=\"clip874decx2y3\"><rect x=\"61\" y=\"509.80444444444447\" width=\"659\" height=\"188.19555555555553\"/></clipPath><clipPath class=\"axesclip\" id=\"clip874decx3\"><rect x=\"61\" y=\"0\" width=\"659\" height=\"750\"/></clipPath><clipPath class=\"axesclip\" id=\"clip874decx3y\"><rect x=\"61\" y=\"66\" width=\"659\" height=\"188.1955555555556\"/></clipPath><clipPath class=\"axesclip\" id=\"clip874decx3y2\"><rect x=\"61\" y=\"287.90222222222224\" width=\"659\" height=\"188.19555555555553\"/></clipPath><clipPath class=\"axesclip\" id=\"clip874decx3y3\"><rect x=\"61\" y=\"509.80444444444447\" width=\"659\" height=\"188.19555555555553\"/></clipPath></g><g class=\"gradients\"/></defs><g class=\"bglayer\"><rect class=\"bg\" x=\"61\" y=\"66\" width=\"659\" height=\"188.1955555555556\" style=\"fill: rgb(229, 236, 246); fill-opacity: 1; stroke-width: 0;\"/><rect class=\"bg\" x=\"61\" y=\"287.90222222222224\" width=\"659\" height=\"188.19555555555553\" style=\"fill: rgb(229, 236, 246); fill-opacity: 1; stroke-width: 0;\"/><rect class=\"bg\" x=\"61\" y=\"509.80444444444447\" width=\"659\" height=\"188.19555555555553\" style=\"fill: rgb(229, 236, 246); fill-opacity: 1; stroke-width: 0;\"/></g><g class=\"layer-below\"><g class=\"imagelayer\"/><g class=\"shapelayer\"/></g><g class=\"cartesianlayer\"><g class=\"subplot xy\"><g class=\"layer-subplot\"><g class=\"shapelayer\"/><g class=\"imagelayer\"/></g><g class=\"gridlayer\"><g class=\"x\"><path class=\"xgrid crisp\" transform=\"translate(138.3,0)\" d=\"M0,66v188.1955555555556\" style=\"stroke: rgb(255, 255, 255); stroke-opacity: 1; stroke-width: 1px;\"/><path class=\"xgrid crisp\" transform=\"translate(219.15,0)\" d=\"M0,66v188.1955555555556\" style=\"stroke: rgb(255, 255, 255); stroke-opacity: 1; stroke-width: 1px;\"/><path class=\"xgrid crisp\" transform=\"translate(300.89,0)\" d=\"M0,66v188.1955555555556\" style=\"stroke: rgb(255, 255, 255); stroke-opacity: 1; stroke-width: 1px;\"/><path class=\"xgrid crisp\" transform=\"translate(382.63,0)\" d=\"M0,66v188.1955555555556\" style=\"stroke: rgb(255, 255, 255); stroke-opacity: 1; stroke-width: 1px;\"/><path class=\"xgrid crisp\" transform=\"translate(462.59,0)\" d=\"M0,66v188.1955555555556\" style=\"stroke: rgb(255, 255, 255); stroke-opacity: 1; stroke-width: 1px;\"/><path class=\"xgrid crisp\" transform=\"translate(543.45,0)\" d=\"M0,66v188.1955555555556\" style=\"stroke: rgb(255, 255, 255); stroke-opacity: 1; stroke-width: 1px;\"/><path class=\"xgrid crisp\" transform=\"translate(625.19,0)\" d=\"M0,66v188.1955555555556\" style=\"stroke: rgb(255, 255, 255); stroke-opacity: 1; stroke-width: 1px;\"/><path class=\"xgrid crisp\" transform=\"translate(706.93,0)\" d=\"M0,66v188.1955555555556\" style=\"stroke: rgb(255, 255, 255); stroke-opacity: 1; stroke-width: 1px;\"/></g><g class=\"y\"><path class=\"ygrid crisp\" transform=\"translate(0,229.39)\" d=\"M61,0h659\" style=\"stroke: rgb(255, 255, 255); stroke-opacity: 1; stroke-width: 1px;\"/><path class=\"ygrid crisp\" transform=\"translate(0,169.86)\" d=\"M61,0h659\" style=\"stroke: rgb(255, 255, 255); stroke-opacity: 1; stroke-width: 1px;\"/><path class=\"ygrid crisp\" transform=\"translate(0,110.33)\" d=\"M61,0h659\" style=\"stroke: rgb(255, 255, 255); stroke-opacity: 1; stroke-width: 1px;\"/></g></g><g class=\"zerolinelayer\"/><path class=\"xlines-below\"/><path class=\"ylines-below\"/><g class=\"overlines-below\"/><g class=\"xaxislayer-below\"/><g class=\"yaxislayer-below\"/><g class=\"overaxes-below\"/><g class=\"plot\" transform=\"translate(61, 66)\" clip-path=\"url('#clip874decxyplot')\"><g class=\"scatterlayer mlayer\"><g class=\"trace scatter traceb30e6dfd-7615-40bd-ae60-c81a4a6fad0b\" style=\"stroke-miterlimit: 2; opacity: 1;\"><g class=\"fills\"/><g class=\"errorbars\"/><g class=\"lines\"><path class=\"js-line\" d=\"M0,163.39L0.89,163.91L1.78,163.56L2.67,164.06L5.33,170.22L6.22,176.44L7.11,176.81L8.88,178.79L12.44,174.49L13.33,172.45L14.22,174.58L15.1,170.86L17.77,167.85L19.55,161.23L20.44,164.76L21.32,169.17L23.99,169.08L24.88,167.51L25.77,171.92L27.54,163.9L30.21,165.34L31.99,158.9L32.87,163.58L33.76,167.98L36.43,166.46L37.32,165.95L38.2,167.15L39.09,157.78L39.98,157.47L46.2,148.84L48.87,151.16L50.64,144.27L51.53,140.96L52.42,139.58L55.09,144.39L55.97,146.61L56.86,146.64L57.75,147.2L58.64,143.7L62.19,144.08L63.08,137.95L63.97,136.87L64.86,137.8L67.52,137.33L68.41,133.26L69.3,133.46L70.19,135.61L71.08,135.05L73.74,134.41L74.63,131.9L75.52,131.97L76.41,131.45L77.3,133.5L79.96,133.66L80.85,131.16L82.63,132.58L83.52,132.98L86.18,131.24L87.07,132.25L87.96,124.89L88.85,128.6L92.4,124.75L93.29,119.02L95.07,123.89L95.96,124.42L98.62,120.4L99.51,122.08L100.4,123.57L101.29,127.18L102.18,124.27L104.84,126.65L105.73,125.39L106.62,127.3L108.39,120.58L111.06,119.19L111.95,123.34L112.84,122.58L113.73,121.26L114.61,122.22L118.17,117.82L119.06,117.38L120.83,117.78L123.5,112.83L124.39,110.36L125.28,102.86L126.16,95.88L127.05,94.95L130.61,94.33L131.5,95.06L133.27,89.73L135.94,88.38L136.83,88.98L137.71,94.21L138.6,100.35L139.49,98.8L143.05,97.13L143.93,92.16L145.71,93.53L148.38,91.81L149.27,88.27L150.15,92.57L151.04,97.4L151.93,93.73L154.6,91.97L155.48,98.06L156.37,94.84L157.26,101.89L158.15,100.86L160.82,101.64L162.59,101.62L163.48,105.17L164.37,104.15L167.03,107.82L167.92,109.66L168.81,105.38L169.7,108.12L170.59,103.7L174.14,103.52L175.03,101.44L175.92,101.04L176.81,96.26L179.47,99.07L180.36,95.22L182.14,86.33L183.03,89.16L185.69,90.39L186.58,93.46L187.47,95.18L188.36,92.52L189.25,93.64L191.91,90.86L193.69,92.24L194.58,91.81L195.47,92.56L198.13,87.2L199.02,81.16L199.91,80.69L201.69,88.78L204.35,86.88L206.13,90.67L207.02,94.63L207.91,94.55L210.57,96.6L211.46,95.48L212.35,95.57L214.12,90.78L217.68,89.62L218.57,87.99L219.46,83.82L220.34,89.34L223.01,85.8L224.79,86.87L225.67,90.48L226.56,88.09L229.23,88.16L231.01,94.71L231.89,99.68L232.78,101.79L235.45,100.14L236.34,101.32L237.23,110.18L238.11,106.67L239,106.54L241.67,114.81L242.56,111.91L244.33,105.7L245.22,105.99L247.89,107.77L248.78,102.19L250.55,95.55L251.44,94.57L254.11,88.6L254.99,93.34L255.88,94.87L256.77,91.38L257.66,96L260.33,96.18L262.1,102.86L262.99,99.65L266.55,105.48L267.43,102.98L268.32,104.58L269.21,104.24L270.1,103.1L272.76,109.48L274.54,96.35L275.43,97.45L276.32,91.56L278.98,86.51L279.87,76.35L280.76,82.76L281.65,84.28L282.54,92.01L285.2,93.14L286.09,87.55L286.98,89.87L288.76,87.23L291.42,87.23L292.31,85.04L293.2,87.23L294.09,81.14L294.98,78.89L297.64,75.03L298.53,74.4L299.42,69.17L301.2,84.33L303.86,81.86L304.75,82.08L305.64,76.41L306.53,74.86L307.42,70.12L310.08,75.5L310.97,72.38L311.86,71.52L312.75,77.27L313.63,76.35L317.19,73.87L318.08,71.86L318.97,73.17L319.85,70.38L323.41,78.34L324.3,79.98L325.18,73.55L326.07,72.63L328.74,75.12L329.63,73.23L330.52,76.12L331.4,78.1L332.29,75.83L335.85,71.63L336.74,65.66L337.62,65.55L338.51,60.21L341.18,54.67L342.07,54.79L342.95,52.46L343.84,53.09L344.73,45.49L347.4,57.73L348.29,59.25L349.17,56.63L350.06,57.7L350.95,67.8L354.5,97.89L355.39,98.91L356.28,119.42L357.17,116.17L360.72,105.58L361.61,115.08L363.39,102.92L366.94,114.83L367.83,123.91L368.72,118.92L369.61,113.84L372.27,110.21L373.16,113.4L374.05,119.74L374.94,120.57L375.83,115.73L380.27,112.64L381.16,101.44L382.05,97.3L384.71,98.81L385.6,96.05L386.49,101.94L388.27,107.15L390.93,112.4L391.82,114.49L392.71,119.14L393.6,123.3L394.49,131.67L397.15,127.12L398.04,123.19L398.93,115.48L399.82,114.75L403.37,126.57L404.26,117.89L406.04,103.35L406.93,110.62L409.59,111.13L410.48,109.83L412.26,112.7L413.14,106.4L415.81,103.12L416.7,104.75L419.36,132.08L422.03,129.98L423.81,145.68L424.7,137.08L425.58,137.56L428.25,140.56L430.03,160.02L430.91,160.15L431.8,152.61L434.47,156.48L436.25,165.2L437.13,158.99L438.02,158.83L440.69,160.41L441.58,163.82L442.46,163.88L443.35,156.18L444.24,158.28L446.91,150.69L447.8,150.66L448.68,147.99L449.57,149.34L454.02,144.01L454.9,138.52L455.79,141.44L456.68,140.54L459.35,138.14L460.23,140.75L462.9,127.71L465.57,124.19L466.45,118.37L467.34,117.73L468.23,119.71L469.12,108.34L471.78,119.21L472.67,117.09L473.56,120.08L474.45,117.14L475.34,112.55L478,108.25L479.78,114.23L480.67,109.98L481.56,106.48L484.22,105.33L485.11,105.77L486.89,98.47L487.78,98.6L490.44,105.76L491.33,86.23L492.22,88.61L493.11,92.51L494,88.57L496.66,87.84L497.55,78.2L498.44,79.34L499.33,76.62L500.22,74.68L502.88,81.94L503.77,78.54L504.66,70.92L505.55,70.47L506.44,72.85L509.1,73L509.99,67.52L510.88,73.45L511.77,71.82L512.66,63.73L515.32,60.29L517.1,75.61L517.99,73.52L518.87,77.94L521.54,79.37L522.43,78.74L523.32,76.23L525.09,67.9L527.76,67.27L530.42,83.62L531.31,83.54L533.98,82.28L534.87,88.33L535.76,86.05L536.64,89.17L537.53,91.8L541.09,93.44L542.86,75.67L543.75,78.26L546.42,73.23L547.31,74.3L549.08,67.83L549.97,67.86L552.64,62.83L553.53,70.04L554.41,70.52L555.3,61L556.19,62.35L558.86,74.11L559.74,77.96L560.63,78.15L561.52,78.24L562.41,74.62L565.08,77.64L565.96,81.48L567.74,92.8L568.63,92.91L571.29,83.3L572.18,84.15L573.07,91.83L573.96,106.54L577.51,102.78L578.4,93.15L579.29,87.62L580.18,90.63L581.07,78.16L583.73,83.54L584.62,78.4L585.51,67.13L586.4,69.09L587.29,80.71L589.95,69.37L590.84,57.9L592.62,63.78L593.51,62.9L597.95,39.2L598.84,38.17L599.73,31.29L602.39,31.33L603.28,30.93L604.17,33.12L605.06,32.83L605.95,24.91L608.61,20.4L609.5,37.95L610.39,45L612.17,42.4L614.83,42.22L615.72,36.71L616.61,27.98L617.5,31.23L618.38,9.41L621.05,23.69L621.94,28.11L623.72,29.68L624.6,34.99L627.27,32.71L628.16,27.1L629.05,30.42L629.93,24.48L630.82,38.75L634.38,52.89L635.27,61.54L637.04,65.87L639.71,88.39L642.37,66.2L643.26,65.9L645.93,64.4\" style=\"vector-effect: non-scaling-stroke; fill: none; stroke: rgb(127, 127, 127); stroke-opacity: 1; stroke-width: 2px; opacity: 1;\"/></g><g class=\"points\"/><g class=\"text\"/></g><g class=\"trace scatter traced2ac0812-b7f4-40a3-a5d1-96f871571a0d\" style=\"stroke-miterlimit: 2;\"><g class=\"fills\"><g><path class=\"js-fill\" d=\"M0,163.39L565.08,163.16L565.96,161.71L566.85,163.39L567.74,163.39L580.18,162.87L581.07,162.49L584.62,162.62L585.51,161.54L586.4,161.32L587.29,161.89L589.95,161.23L590.84,162.25L592.62,163.39L593.51,163.39L608.61,163.08L609.5,163.29L610.39,162.84L612.17,163.15L618.38,161.85L621.05,162.66L621.94,162.22L623.72,162.44L627.27,162.28L628.16,162.47L629.93,163.08L630.82,161.06L634.38,161.23L635.27,160.84L636.15,161.34L637.04,160.91L642.37,160.96L643.26,161.82L645.93,161.7L645.93,163.39L0,163.39Z\" style=\"fill: rgb(0, 128, 0); fill-opacity: 0.3; stroke-width: 0;\"/></g></g><g class=\"errorbars\"/><g class=\"lines\"><path class=\"js-line\" d=\"M0,163.39L645.93,163.39\" style=\"vector-effect: non-scaling-stroke; fill: none; stroke: rgb(0, 0, 0); stroke-opacity: 0; stroke-width: 0px; opacity: 1;\"/></g><g class=\"points\"/><g class=\"text\"/></g><g class=\"trace scatter trace85bc6df8-30dd-47f9-8ebf-6cc600cecbe8\" style=\"stroke-miterlimit: 2;\"><g class=\"fills\"/><g class=\"errorbars\"/><g class=\"lines\"><path class=\"js-line\" d=\"M0,163.39L565.08,163.16L565.96,161.71L566.85,163.39L567.74,163.39L580.18,162.87L581.07,162.49L584.62,162.62L585.51,161.54L586.4,161.32L587.29,161.89L589.95,161.23L590.84,162.25L592.62,163.39L593.51,163.39L608.61,163.08L609.5,163.29L610.39,162.84L612.17,163.15L618.38,161.85L621.05,162.66L621.94,162.22L623.72,162.44L627.27,162.28L628.16,162.47L629.93,163.08L630.82,161.06L634.38,161.23L635.27,160.84L636.15,161.34L637.04,160.91L642.37,160.96L643.26,161.82L645.93,161.7\" style=\"vector-effect: non-scaling-stroke; fill: none; stroke: rgb(0, 0, 0); stroke-opacity: 0; stroke-width: 0px; opacity: 1;\"/></g><g class=\"points\"/><g class=\"text\"/></g><g class=\"trace scatter tracec0457294-ac09-4b75-9bf2-6149bd951ff5\" style=\"stroke-miterlimit: 2;\"><g class=\"fills\"><g><path class=\"js-fill\" d=\"M0,163.39L279.87,163.39L280.76,164.35L285.2,165.95L286.09,166.13L286.98,165.55L288.76,165.93L292.31,166.44L293.2,166.88L294.98,166.21L297.64,166.24L301.2,166.93L303.86,167.34L307.42,167.19L310.08,166.92L323.41,167.42L324.3,167.39L326.07,167.06L328.74,166.79L332.29,166.29L335.85,166.07L338.51,166.46L341.18,166.87L347.4,165.52L348.29,166L356.28,166.41L357.17,166.9L360.72,166.06L361.61,164.61L372.27,165.64L373.16,166.13L379.38,165.48L380.27,165.75L382.05,165.9L384.71,166.37L386.49,166.76L387.38,166.58L390.93,166.25L391.82,166.14L394.49,165.24L397.15,165.13L399.82,165.41L403.37,165.29L406.04,164.91L406.93,164.85L411.37,164.45L412.26,165.93L416.7,166.77L417.59,167.3L419.36,168.72L422.03,168.99L424.7,166.96L425.58,168.56L430.91,168.9L431.8,168.76L441.58,169.1L442.46,168.66L444.24,169.33L446.91,168.56L448.68,168.03L449.57,168.07L456.68,168.6L459.35,169.18L461.12,168.74L462.01,168.53L466.45,168.01L467.34,167.26L469.12,166.42L471.78,166.87L473.56,166.25L474.45,165.22L475.34,164.82L478,164.93L481.56,165.38L484.22,164.87L486.89,166.09L487.78,166.06L490.44,166.72L491.33,164.66L496.66,164.3L497.55,163.95L500.22,163.39L502.88,163.81L505.55,165.23L506.44,165.58L510.88,166.21L511.77,165.33L515.32,164.48L516.21,166.02L525.09,165.75L527.76,165.99L533.98,165.92L534.87,166.17L537.53,164.61L541.09,165.3L543.75,165.44L546.42,165.43L548.19,165.35L549.08,165.99L549.97,165.54L552.64,165.53L558.86,164.19L559.74,164.56L562.41,163.78L565.08,163.39L592.62,163.65L593.51,164.15L598.84,163.39L599.73,163.39L645.93,163.39L645.93,163.39L0,163.39Z\" style=\"fill: rgb(255, 0, 0); fill-opacity: 0.3; stroke-width: 0;\"/></g></g><g class=\"errorbars\"/><g class=\"lines\"><path class=\"js-line\" d=\"M0,163.39L645.93,163.39\" style=\"vector-effect: non-scaling-stroke; fill: none; stroke: rgb(0, 0, 0); stroke-opacity: 0; stroke-width: 0px; opacity: 1;\"/></g><g class=\"points\"/><g class=\"text\"/></g><g class=\"trace scatter traceff6cc4e2-21e6-4d98-80b8-72d35c232169\" style=\"stroke-miterlimit: 2;\"><g class=\"fills\"/><g class=\"errorbars\"/><g class=\"lines\"><path class=\"js-line\" d=\"M0,163.39L279.87,163.39L280.76,164.35L285.2,165.95L286.09,166.13L286.98,165.55L288.76,165.93L292.31,166.44L293.2,166.88L294.98,166.21L297.64,166.24L301.2,166.93L303.86,167.34L307.42,167.19L310.08,166.92L323.41,167.42L324.3,167.39L326.07,167.06L328.74,166.79L332.29,166.29L335.85,166.07L338.51,166.46L341.18,166.87L347.4,165.52L348.29,166L356.28,166.41L357.17,166.9L360.72,166.06L361.61,164.61L372.27,165.64L373.16,166.13L379.38,165.48L380.27,165.75L382.05,165.9L384.71,166.37L386.49,166.76L387.38,166.58L390.93,166.25L391.82,166.14L394.49,165.24L397.15,165.13L399.82,165.41L403.37,165.29L406.04,164.91L406.93,164.85L411.37,164.45L412.26,165.93L416.7,166.77L417.59,167.3L419.36,168.72L422.03,168.99L424.7,166.96L425.58,168.56L430.91,168.9L431.8,168.76L441.58,169.1L442.46,168.66L444.24,169.33L446.91,168.56L448.68,168.03L449.57,168.07L456.68,168.6L459.35,169.18L461.12,168.74L462.01,168.53L466.45,168.01L467.34,167.26L469.12,166.42L471.78,166.87L473.56,166.25L474.45,165.22L475.34,164.82L478,164.93L481.56,165.38L484.22,164.87L486.89,166.09L487.78,166.06L490.44,166.72L491.33,164.66L496.66,164.3L497.55,163.95L500.22,163.39L502.88,163.81L505.55,165.23L506.44,165.58L510.88,166.21L511.77,165.33L515.32,164.48L516.21,166.02L525.09,165.75L527.76,165.99L533.98,165.92L534.87,166.17L537.53,164.61L541.09,165.3L543.75,165.44L546.42,165.43L548.19,165.35L549.08,165.99L549.97,165.54L552.64,165.53L558.86,164.19L559.74,164.56L562.41,163.78L565.08,163.39L592.62,163.65L593.51,164.15L598.84,163.39L599.73,163.39L645.93,163.39\" style=\"vector-effect: non-scaling-stroke; fill: none; stroke: rgb(0, 0, 0); stroke-opacity: 0; stroke-width: 0px; opacity: 1;\"/></g><g class=\"points\"/><g class=\"text\"/></g><g class=\"trace scatter tracee90ddbeb-8229-426e-a6c0-b7849997e3dc\" style=\"stroke-miterlimit: 2; opacity: 1;\"><g class=\"fills\"/><g class=\"errorbars\"/><g class=\"lines\"><path class=\"js-line\" d=\"M0,163.39L279.87,163.39L280.76,164.35L285.2,165.95L286.09,166.13L286.98,165.55L288.76,165.93L292.31,166.44L293.2,166.88L294.98,166.21L297.64,166.24L301.2,166.93L303.86,167.34L307.42,167.19L310.08,166.92L323.41,167.42L324.3,167.39L326.07,167.06L328.74,166.79L332.29,166.29L335.85,166.07L338.51,166.46L341.18,166.87L347.4,165.52L348.29,166L356.28,166.41L357.17,166.9L360.72,166.06L361.61,164.61L372.27,165.64L373.16,166.13L379.38,165.48L380.27,165.75L382.05,165.9L384.71,166.37L386.49,166.76L387.38,166.58L390.93,166.25L391.82,166.14L394.49,165.24L397.15,165.13L399.82,165.41L403.37,165.29L406.04,164.91L406.93,164.85L411.37,164.45L412.26,165.93L416.7,166.77L417.59,167.3L419.36,168.72L422.03,168.99L424.7,166.96L425.58,168.56L430.91,168.9L431.8,168.76L441.58,169.1L442.46,168.66L444.24,169.33L446.91,168.56L448.68,168.03L449.57,168.07L456.68,168.6L459.35,169.18L461.12,168.74L462.01,168.53L466.45,168.01L467.34,167.26L469.12,166.42L471.78,166.87L473.56,166.25L474.45,165.22L475.34,164.82L478,164.93L481.56,165.38L484.22,164.87L486.89,166.09L487.78,166.06L490.44,166.72L491.33,164.66L496.66,164.3L497.55,163.95L500.22,163.36L502.88,163.81L505.55,165.23L506.44,165.58L510.88,166.21L511.77,165.33L515.32,164.48L516.21,166.02L525.09,165.75L527.76,165.99L533.98,165.92L534.87,166.17L537.53,164.61L541.09,165.3L543.75,165.44L546.42,165.43L548.19,165.35L549.08,165.99L549.97,165.54L552.64,165.53L558.86,164.19L559.74,164.56L562.41,163.78L565.08,163.16L565.96,161.71L566.85,163.43L568.63,164.01L571.29,163.84L584.62,162.62L585.51,161.54L586.4,161.32L587.29,161.89L589.95,161.23L590.84,162.25L592.62,163.65L593.51,164.15L599.73,162.85L602.39,163.37L610.39,162.84L612.17,163.15L618.38,161.85L621.05,162.66L621.94,162.22L623.72,162.44L627.27,162.28L628.16,162.47L629.93,163.08L630.82,161.06L634.38,161.23L635.27,160.84L636.15,161.34L637.04,160.91L642.37,160.96L643.26,161.82L645.93,161.7\" style=\"vector-effect: non-scaling-stroke; fill: none; stroke: rgb(148, 103, 189); stroke-opacity: 1; stroke-width: 2px; opacity: 1;\"/></g><g class=\"points\"/><g class=\"text\"/></g><g class=\"trace scatter tracec05e15d9-b392-452e-8d87-f411e1979890\" style=\"stroke-miterlimit: 2; opacity: 0;\"><g class=\"fills\"/><g class=\"errorbars\"/><g class=\"lines\"><path class=\"js-line\" d=\"M0,163.39L645.93,163.39\" style=\"vector-effect: non-scaling-stroke; fill: none; stroke: rgb(0, 0, 0); stroke-opacity: 0; stroke-width: 0px; opacity: 1;\"/></g><g class=\"points\"/><g class=\"text\"/></g></g></g><g class=\"overplot\"/><path class=\"xlines-above crisp\" d=\"M0,0\" style=\"fill: none;\"/><path class=\"ylines-above crisp\" d=\"M0,0\" style=\"fill: none;\"/><g class=\"overlines-above\"/><g class=\"xaxislayer-above\"/><g class=\"yaxislayer-above\"><g class=\"ytick\"><text text-anchor=\"end\" x=\"60\" y=\"4.199999999999999\" transform=\"translate(0,229.39)\" style=\"font-family: 'Open Sans', verdana, arial, sans-serif; font-size: 12px; fill: rgb(42, 63, 95); fill-opacity: 1; white-space: pre;\">1</text></g><g class=\"ytick\"><text text-anchor=\"end\" x=\"60\" y=\"4.199999999999999\" transform=\"translate(0,169.86)\" style=\"font-family: 'Open Sans', verdana, arial, sans-serif; font-size: 12px; fill: rgb(42, 63, 95); fill-opacity: 1; white-space: pre;\">1.1</text></g><g class=\"ytick\"><text text-anchor=\"end\" x=\"60\" y=\"4.199999999999999\" transform=\"translate(0,110.33)\" style=\"font-family: 'Open Sans', verdana, arial, sans-serif; font-size: 12px; fill: rgb(42, 63, 95); fill-opacity: 1; white-space: pre;\">1.2</text></g></g><g class=\"overaxes-above\"/></g><g class=\"subplot x2y2\"><g class=\"layer-subplot\"><g class=\"shapelayer\"/><g class=\"imagelayer\"/></g><g class=\"gridlayer\"><g class=\"x2\"><path class=\"x2grid crisp\" transform=\"translate(138.3,0)\" d=\"M0,287.90222222222224v188.19555555555553\" style=\"stroke: rgb(255, 255, 255); stroke-opacity: 1; stroke-width: 1px;\"/><path class=\"x2grid crisp\" transform=\"translate(219.15,0)\" d=\"M0,287.90222222222224v188.19555555555553\" style=\"stroke: rgb(255, 255, 255); stroke-opacity: 1; stroke-width: 1px;\"/><path class=\"x2grid crisp\" transform=\"translate(300.89,0)\" d=\"M0,287.90222222222224v188.19555555555553\" style=\"stroke: rgb(255, 255, 255); stroke-opacity: 1; stroke-width: 1px;\"/><path class=\"x2grid crisp\" transform=\"translate(382.63,0)\" d=\"M0,287.90222222222224v188.19555555555553\" style=\"stroke: rgb(255, 255, 255); stroke-opacity: 1; stroke-width: 1px;\"/><path class=\"x2grid crisp\" transform=\"translate(462.59,0)\" d=\"M0,287.90222222222224v188.19555555555553\" style=\"stroke: rgb(255, 255, 255); stroke-opacity: 1; stroke-width: 1px;\"/><path class=\"x2grid crisp\" transform=\"translate(543.45,0)\" d=\"M0,287.90222222222224v188.19555555555553\" style=\"stroke: rgb(255, 255, 255); stroke-opacity: 1; stroke-width: 1px;\"/><path class=\"x2grid crisp\" transform=\"translate(625.19,0)\" d=\"M0,287.90222222222224v188.19555555555553\" style=\"stroke: rgb(255, 255, 255); stroke-opacity: 1; stroke-width: 1px;\"/><path class=\"x2grid crisp\" transform=\"translate(706.93,0)\" d=\"M0,287.90222222222224v188.19555555555553\" style=\"stroke: rgb(255, 255, 255); stroke-opacity: 1; stroke-width: 1px;\"/></g><g class=\"y2\"><path class=\"y2grid crisp\" transform=\"translate(0,451.9322222222222)\" d=\"M61,0h659\" style=\"stroke: rgb(255, 255, 255); stroke-opacity: 1; stroke-width: 1px;\"/><path class=\"y2grid crisp\" transform=\"translate(0,418.6922222222222)\" d=\"M61,0h659\" style=\"stroke: rgb(255, 255, 255); stroke-opacity: 1; stroke-width: 1px;\"/><path class=\"y2grid crisp\" transform=\"translate(0,385.45222222222225)\" d=\"M61,0h659\" style=\"stroke: rgb(255, 255, 255); stroke-opacity: 1; stroke-width: 1px;\"/><path class=\"y2grid crisp\" transform=\"translate(0,352.22222222222223)\" d=\"M61,0h659\" style=\"stroke: rgb(255, 255, 255); stroke-opacity: 1; stroke-width: 1px;\"/><path class=\"y2grid crisp\" transform=\"translate(0,318.9822222222222)\" d=\"M61,0h659\" style=\"stroke: rgb(255, 255, 255); stroke-opacity: 1; stroke-width: 1px;\"/></g></g><g class=\"zerolinelayer\"/><path class=\"xlines-below\"/><path class=\"ylines-below\"/><g class=\"overlines-below\"/><g class=\"xaxislayer-below\"/><g class=\"yaxislayer-below\"/><g class=\"overaxes-below\"/><g class=\"plot\" transform=\"translate(61, 287.90222222222224)\" clip-path=\"url('#clip874decx2y2plot')\"><g class=\"scatterlayer mlayer\"><g class=\"trace scatter traceffe8a6da-a973-406a-8288-d1e925cc9683\" style=\"stroke-miterlimit: 2; opacity: 1;\"><g class=\"fills\"/><g class=\"errorbars\"/><g class=\"lines\"><path class=\"js-line\" d=\"M0,149.07L0.89,147.94L1.78,148.74L2.67,149.6L5.33,156.05L6.22,164.83L7.11,165.76L8,165.56L8.88,167.29L12.44,163.5L13.33,160.31L14.22,162.5L15.1,157.38L17.77,152.86L18.66,148.74L19.55,149.34L20.44,152.06L21.32,155.92L23.99,154.72L24.88,154.19L25.77,158.71L27.54,146.41L30.21,149.54L31.1,143.49L31.99,143.02L33.76,140.63L36.43,138.17L37.32,135.78L38.2,136.91L39.09,128.73L39.98,128.6L44.42,121.22L45.31,120.42L46.2,118.76L48.87,122.02L49.76,115.5L50.64,114.9L52.42,109.99L55.09,115.5L55.97,117.36L56.86,117.43L57.75,119.09L58.64,115.77L62.19,117.23L63.08,106.79L63.97,106.59L64.86,105.13L67.52,106.53L68.41,102.87L69.3,101.41L70.19,102.81L71.08,100.81L73.74,102.54L74.63,98.88L75.52,99.02L77.3,102.34L79.96,102.34L80.85,101.08L81.74,101.88L82.63,104L83.52,103.8L86.18,101.41L87.07,103.14L87.96,92.04L88.85,97.49L92.4,93.77L93.29,88.05L94.18,91.97L95.07,92.17L95.96,93.1L98.62,87.85L99.51,88.78L100.4,93.7L101.29,97.75L102.18,93.96L104.84,99.88L105.73,99.81L106.62,102.74L107.51,95.83L108.39,94.3L111.06,94.3L111.95,97.29L112.84,96.56L113.73,95.36L114.61,96.16L117.28,90.04L118.17,90.97L119.06,91.24L119.95,89.51L120.83,91.57L123.5,85.59L124.39,83.53L125.28,77.55L127.05,66.64L130.61,66.05L131.5,68.04L132.38,65.91L133.27,63.32L135.94,62.06L136.83,63.12L137.71,66.98L138.6,73.89L139.49,73.56L143.05,71.3L143.93,65.12L144.82,66.05L145.71,68.11L148.38,65.58L149.27,61.66L150.15,64.78L151.04,72.36L151.93,67.51L154.6,66.58L155.48,73.56L156.37,70.96L157.26,78.08L158.15,76.28L162.59,77.35L163.48,78.41L164.37,76.15L167.03,83.53L167.92,86.65L168.81,80.54L169.7,84.99L170.59,79.61L174.14,79.07L175.03,77.15L175.92,76.15L176.81,69.5L179.47,72.43L180.36,70.57L182.14,65.25L183.03,69.57L185.69,69.57L186.58,73.69L187.47,75.55L188.36,71.43L189.25,71.03L191.91,67.51L194.58,70.96L195.47,70.17L198.13,62.32L199.02,55.61L199.91,54.81L200.8,59L201.69,63.72L204.35,59.8L206.13,65.58L207.02,71.9L207.91,74.09L210.57,75.95L214.12,69.37L217.68,69.17L219.46,62.46L220.34,74.16L223.01,70.23L223.9,74.35L225.67,79.21L226.56,75.29L229.23,74.42L230.12,77.41L232.78,93.23L235.45,92.7L236.34,93.43L237.23,97.69L238.11,94.5L239,95.76L241.67,109.59L242.56,109.52L243.44,108.26L244.33,101.61L245.22,101.88L247.89,104.2L251.44,88.65L254.11,82.93L255.88,92.64L256.77,88.31L257.66,94.63L260.33,94.16L262.1,103.87L262.99,99.95L263.88,100.68L266.55,106.4L267.43,102.94L268.32,103.54L269.21,104L270.1,103.01L272.76,108.72L273.65,101.48L274.54,92.3L275.43,95.43L276.32,87.85L278.98,80.14L279.87,69.83L280.76,73.76L281.65,73.03L282.54,76.28L285.2,74.89L286.09,68.11L286.98,73.89L288.76,68.97L291.42,69.3L292.31,63.79L293.2,63.39L294.09,60.46L298.53,54.01L299.42,46.1L300.31,59.2L301.2,60.13L306.53,51.42L307.42,44.18L310.08,51.22L310.97,47.83L311.86,45.37L312.75,49.96L313.63,47.9L317.19,46.17L319.85,39.99L323.41,51.16L324.3,53.02L325.18,49.56L326.07,47.5L328.74,51.62L329.63,51.09L330.52,54.68L331.4,58.27L332.29,55.28L335.85,52.35L336.74,44.44L337.62,45.24L338.51,38.46L341.18,30.42L342.07,31.68L343.84,34.07L344.73,28.89L347.4,41.45L348.29,40.19L349.17,37.66L350.06,37.66L353.62,72.89L354.5,78.28L355.39,78.68L356.28,98.82L357.17,92.64L359.84,88.12L360.72,86.85L361.61,105.07L362.5,93.9L363.39,93.37L366.94,102.87L367.83,111.78L369.61,101.68L372.27,94.03L373.16,94.36L374.05,101.34L374.94,106.26L375.83,100.68L380.27,95.83L381.16,82.2L382.05,79.41L384.71,78.14L385.6,72.96L386.49,79.01L388.27,84.86L390.93,92.64L391.82,95.43L392.71,102.47L393.6,107.33L394.49,118.16L397.15,114.17L398.04,109.12L398.93,99.81L399.82,100.01L403.37,112.71L404.26,105.8L406.04,91.37L406.93,99.08L410.48,98.49L411.37,102.81L412.26,105.07L413.14,99.35L415.81,95.29L416.7,101.68L419.36,140.43L422.03,139.83L423.81,148.54L424.7,135.71L425.58,145.15L428.25,149.8L430.03,172.34L430.91,170.08L431.8,161.64L434.47,166.22L436.25,178.79L437.13,172.07L438.02,171.07L440.69,172.8L441.58,174.93L442.46,172.54L443.35,168.15L444.24,170.61L448.68,152.79L449.57,154.39L450.46,153.66L454.02,148.81L454.9,144.42L455.79,148.41L456.68,148.41L459.35,149.2L460.23,148.67L461.12,144.82L462.01,142.82L462.9,134.65L465.57,130.26L466.45,122.48L467.34,117.63L468.23,118.49L469.12,103.34L471.78,116.96L472.67,113.44L473.56,114.37L475.34,98.68L478,94.9L478.89,100.61L479.78,99.28L481.56,95.63L484.22,91.57L485.11,96.03L486.89,91.44L487.78,91.37L490.44,102.41L491.33,70.96L492.22,73.16L493.11,79.34L494,72.23L496.66,70.57L497.55,58.8L498.44,59.13L499.33,53.35L500.22,51.89L502.88,61.79L504.66,56.81L505.55,58.07L506.44,62.46L509.1,63.12L509.99,58.07L510.88,66.58L512.66,50.09L515.32,43.51L517.1,67.31L517.99,66.05L518.87,71.1L521.54,70.17L522.43,69.7L523.32,67.57L525.09,58.33L527.76,59.07L530.42,76.88L531.31,75.55L533.98,73.96L534.87,81.53L535.76,76.15L536.64,76.68L537.53,76.35L541.09,82.6L542.86,61.53L543.75,66.18L546.42,61.06L547.31,62.59L548.19,59.33L549.08,52.29L549.97,54.88L552.64,49.76L554.41,59.86L555.3,50.89L556.19,52.82L558.86,69.1L560.63,73.89L561.52,76.62L562.41,72.03L565.08,78.74L566.85,98.42L567.74,104.07L568.63,104.8L571.29,94.3L572.18,94.7L573.07,99.55L573.96,113.64L574.85,112.25L577.51,110.12L578.4,99.22L579.29,93.57L580.18,95.89L581.07,81.33L583.73,86.85L584.62,82.33L585.51,64.85L586.4,65.51L587.29,80.34L590.84,59.86L591.73,68.44L593.51,75.88L596.17,56.01L597.95,48.5L598.84,45.7L599.73,36.93L602.39,40.05L603.28,39.06L604.17,42.05L605.06,41.12L605.95,31.55L608.61,27.49L609.5,46.1L610.39,50.49L612.17,49.69L614.83,46.97L615.72,43.38L616.61,30.62L617.5,32.08L618.38,9.41L621.05,27.69L621.94,34.94L623.72,35.14L624.6,41.52L627.27,39.19L628.16,32.34L629.05,34.14L629.93,25.76L630.82,53.15L633.49,59.86L634.38,66.25L635.27,77.48L636.15,76.42L637.04,81.33L639.71,102.41L643.26,75.49L645.93,74.75\" style=\"vector-effect: non-scaling-stroke; fill: none; stroke: rgb(31, 119, 180); stroke-opacity: 1; stroke-width: 2px; opacity: 1;\"/></g><g class=\"points\"/><g class=\"text\"/></g><g class=\"trace scatter traced126bb21-a4df-4161-9283-e2b0513e4500\" style=\"stroke-miterlimit: 2; opacity: 1;\"><g class=\"fills\"/><g class=\"errorbars\"/><g class=\"lines\"/><g class=\"points\"><path class=\"point plotly-customdata\" transform=\"translate(412.26,101.14)\" d=\"M-4.62,2H4.62L0,-4Z\" style=\"opacity: 1; stroke-width: 1px; fill: rgb(55, 177, 63); fill-opacity: 1; stroke: rgb(38, 123, 44); stroke-opacity: 1;\"/><path class=\"point plotly-customdata\" transform=\"translate(566.85,87.98)\" d=\"M-4.62,2H4.62L0,-4Z\" style=\"opacity: 1; stroke-width: 1px; fill: rgb(55, 177, 63); fill-opacity: 1; stroke: rgb(38, 123, 44); stroke-opacity: 1;\"/></g><g class=\"text\"/></g><g class=\"trace scatter trace1641cba2-3271-4b2c-9c20-e5cb4ae78e6e\" style=\"stroke-miterlimit: 2; opacity: 1;\"><g class=\"fills\"/><g class=\"errorbars\"/><g class=\"lines\"/><g class=\"points\"><path class=\"point plotly-customdata\" transform=\"translate(280.76,70.5)\" d=\"M-4.62,-2H4.62L0,4Z\" style=\"opacity: 1; stroke-width: 1px; fill: rgb(234, 67, 53); fill-opacity: 1; stroke: rgb(181, 31, 18); stroke-opacity: 1;\"/><path class=\"point plotly-customdata\" transform=\"translate(541.09,77.55)\" d=\"M-4.62,-2H4.62L0,4Z\" style=\"opacity: 1; stroke-width: 1px; fill: rgb(234, 67, 53); fill-opacity: 1; stroke: rgb(181, 31, 18); stroke-opacity: 1;\"/><path class=\"point plotly-customdata\" transform=\"translate(621.05,18.38)\" d=\"M-4.62,-2H4.62L0,4Z\" style=\"opacity: 1; stroke-width: 1px; fill: rgb(234, 67, 53); fill-opacity: 1; stroke: rgb(181, 31, 18); stroke-opacity: 1;\"/></g><g class=\"text\"/></g></g></g><g class=\"overplot\"/><path class=\"xlines-above crisp\" d=\"M0,0\" style=\"fill: none;\"/><path class=\"ylines-above crisp\" d=\"M0,0\" style=\"fill: none;\"/><g class=\"overlines-above\"/><g class=\"xaxislayer-above\"/><g class=\"yaxislayer-above\"><g class=\"y2tick\"><text text-anchor=\"end\" x=\"60\" y=\"4.199999999999999\" transform=\"translate(0,451.9322222222222)\" style=\"font-family: 'Open Sans', verdana, arial, sans-serif; font-size: 12px; fill: rgb(42, 63, 95); fill-opacity: 1; white-space: pre;\">90</text></g><g class=\"y2tick\"><text text-anchor=\"end\" x=\"60\" y=\"4.199999999999999\" transform=\"translate(0,418.6922222222222)\" style=\"font-family: 'Open Sans', verdana, arial, sans-serif; font-size: 12px; fill: rgb(42, 63, 95); fill-opacity: 1; white-space: pre;\">95</text></g><g class=\"y2tick\"><text text-anchor=\"end\" x=\"60\" y=\"4.199999999999999\" transform=\"translate(0,385.45222222222225)\" style=\"font-family: 'Open Sans', verdana, arial, sans-serif; font-size: 12px; fill: rgb(42, 63, 95); fill-opacity: 1; white-space: pre;\">100</text></g><g class=\"y2tick\"><text text-anchor=\"end\" x=\"60\" y=\"4.199999999999999\" transform=\"translate(0,352.22222222222223)\" style=\"font-family: 'Open Sans', verdana, arial, sans-serif; font-size: 12px; fill: rgb(42, 63, 95); fill-opacity: 1; white-space: pre;\">105</text></g><g class=\"y2tick\"><text text-anchor=\"end\" x=\"60\" y=\"4.199999999999999\" transform=\"translate(0,318.9822222222222)\" style=\"font-family: 'Open Sans', verdana, arial, sans-serif; font-size: 12px; fill: rgb(42, 63, 95); fill-opacity: 1; white-space: pre;\">110</text></g></g><g class=\"overaxes-above\"/></g><g class=\"subplot x3y3\"><g class=\"layer-subplot\"><g class=\"shapelayer\"/><g class=\"imagelayer\"/></g><g class=\"gridlayer\"><g class=\"x3\"><path class=\"x3grid crisp\" transform=\"translate(138.3,0)\" d=\"M0,509.80444444444447v188.19555555555553\" style=\"stroke: rgb(255, 255, 255); stroke-opacity: 1; stroke-width: 1px;\"/><path class=\"x3grid crisp\" transform=\"translate(219.15,0)\" d=\"M0,509.80444444444447v188.19555555555553\" style=\"stroke: rgb(255, 255, 255); stroke-opacity: 1; stroke-width: 1px;\"/><path class=\"x3grid crisp\" transform=\"translate(300.89,0)\" d=\"M0,509.80444444444447v188.19555555555553\" style=\"stroke: rgb(255, 255, 255); stroke-opacity: 1; stroke-width: 1px;\"/><path class=\"x3grid crisp\" transform=\"translate(382.63,0)\" d=\"M0,509.80444444444447v188.19555555555553\" style=\"stroke: rgb(255, 255, 255); stroke-opacity: 1; stroke-width: 1px;\"/><path class=\"x3grid crisp\" transform=\"translate(462.59,0)\" d=\"M0,509.80444444444447v188.19555555555553\" style=\"stroke: rgb(255, 255, 255); stroke-opacity: 1; stroke-width: 1px;\"/><path class=\"x3grid crisp\" transform=\"translate(543.45,0)\" d=\"M0,509.80444444444447v188.19555555555553\" style=\"stroke: rgb(255, 255, 255); stroke-opacity: 1; stroke-width: 1px;\"/><path class=\"x3grid crisp\" transform=\"translate(625.19,0)\" d=\"M0,509.80444444444447v188.19555555555553\" style=\"stroke: rgb(255, 255, 255); stroke-opacity: 1; stroke-width: 1px;\"/><path class=\"x3grid crisp\" transform=\"translate(706.93,0)\" d=\"M0,509.80444444444447v188.19555555555553\" style=\"stroke: rgb(255, 255, 255); stroke-opacity: 1; stroke-width: 1px;\"/></g><g class=\"y3\"><path class=\"y3grid crisp\" transform=\"translate(0,690.7644444444445)\" d=\"M61,0h659\" style=\"stroke: rgb(255, 255, 255); stroke-opacity: 1; stroke-width: 1px;\"/><path class=\"y3grid crisp\" transform=\"translate(0,618.3744444444444)\" d=\"M61,0h659\" style=\"stroke: rgb(255, 255, 255); stroke-opacity: 1; stroke-width: 1px;\"/><path class=\"y3grid crisp\" transform=\"translate(0,545.9944444444445)\" d=\"M61,0h659\" style=\"stroke: rgb(255, 255, 255); stroke-opacity: 1; stroke-width: 1px;\"/></g></g><g class=\"zerolinelayer\"/><path class=\"xlines-below\"/><path class=\"ylines-below\"/><g class=\"overlines-below\"/><g class=\"xaxislayer-below\"/><g class=\"yaxislayer-below\"/><g class=\"overaxes-below\"/><g class=\"plot\" transform=\"translate(61, 509.80444444444447)\" clip-path=\"url('#clip874decx3y3plot')\"><g class=\"scatterlayer mlayer\"><g class=\"trace scatter trace96565c71-fbce-48fc-a3a2-43ac051ffc90\" style=\"stroke-miterlimit: 2; opacity: 1;\"><g class=\"fills\"/><g class=\"errorbars\"/><g class=\"lines\"><path class=\"js-line\" d=\"M0,161.7L0.89,163.59L1.78,162.28L2.67,162.43L5.33,167.78L6.22,171.26L7.11,171.11L8.88,173.28L12.44,168.94L13.33,168.07L14.22,169.96L15.1,167.78L17.77,166.34L19.55,157.65L20.44,161.56L21.32,166.05L23.99,166.91L24.88,164.6L25.77,168.51L27.54,164.89L30.21,164.74L31.99,158.95L32.87,168.65L33.76,177.05L36.43,176.47L38.2,178.79L39.09,169.23L39.98,168.8L43.54,165.9L46.2,161.99L48.87,163.3L51.53,153.31L52.42,153.16L56.86,159.24L57.75,158.81L58.64,155.48L61.31,154.18L62.19,154.9L63.08,153.02L63.97,151.28L64.86,154.18L67.52,152.15L68.41,148.1L71.08,153.02L73.74,150.41L76.41,146.94L77.3,148.96L79.96,149.25L80.85,145.92L81.74,147.23L82.63,145.92L83.52,146.79L86.18,145.78L87.07,146.07L87.96,142.59L88.85,144.48L92.4,140.86L93.29,135.65L94.18,138.83L95.96,140.86L98.62,138.25L99.51,140.42L100.4,138.83L101.29,141.73L102.18,139.84L104.84,138.98L105.73,136.8L106.62,137.67L107.51,133.47L108.39,133.04L111.06,130.58L111.95,135.36L112.84,134.63L113.73,133.33L114.61,134.34L117.28,132.61L118.17,131.01L119.06,130L119.95,131.59L123.5,126.81L124.39,124.21L126.16,111.18L127.05,111.47L131.5,110.46L132.38,106.4L133.27,105.1L135.94,103.8L136.83,103.94L137.71,109.88L138.6,114.8L139.49,112.34L142.16,112.19L143.05,111.32L143.93,107.85L144.82,108.57L145.71,107.71L148.38,106.84L149.27,103.94L150.15,108.86L151.04,110.89L151.93,108.57L154.6,106.26L155.48,111.04L156.37,107.56L157.26,113.93L158.15,113.64L160.82,114.8L162.59,114.08L163.48,119.43L167.92,120.3L168.81,117.98L169.7,119L170.59,115.81L173.25,115.23L174.14,115.96L175.03,113.93L175.92,114.08L176.81,111.32L179.47,113.79L182.14,97.43L183.03,98.73L185.69,100.9L186.58,102.78L187.47,104.23L188.36,103.07L189.25,105.39L191.91,103.51L193.69,104.23L194.58,102.2L195.47,104.23L198.13,101.48L199.02,96.56L199.91,96.41L201.69,103.07L204.35,103.07L207.02,106.4L207.91,104.38L210.57,106.4L211.46,105.97L212.35,106.69L213.24,104.67L214.12,101.77L217.68,99.89L218.57,99.45L219.46,95.4L220.34,95.11L223.01,92.22L224.79,87.73L225.67,92.79L226.56,91.93L229.23,92.79L231.01,97.14L231.89,101.92L235.45,98.3L236.34,99.74L237.23,111.76L238.11,108.28L239,106.98L241.67,109.73L243.44,100.61L244.33,100.47L247.89,101.92L248.78,95.98L249.66,92.94L250.55,92.79L251.44,91.93L254.11,86.28L255.88,89.03L256.77,86.57L257.66,89.32L260.33,90.04L262.1,93.52L262.99,91.2L263.88,93.37L266.55,95.98L267.43,94.53L268.32,96.85L270.1,94.68L272.76,101.05L274.54,91.93L275.43,91.2L276.32,87.29L278.98,84.98L279.87,75.86L280.76,83.82L281.65,87.15L282.54,98.01L285.2,101.19L286.09,97.14L286.98,96.27L288.76,95.83L291.42,95.55L292.31,96.41L293.2,100.61L294.09,92.36L294.98,89.75L297.64,86.43L298.53,85.99L299.42,83.53L301.2,98.3L303.86,98.15L304.75,98.59L305.64,90.62L307.42,86.86L310.08,90.33L310.97,87.73L311.86,88.31L312.75,94.53L313.63,94.68L318.08,90.33L318.97,92.94L319.85,90.91L323.41,95.4L324.3,96.7L325.18,88.31L328.74,89.32L329.63,86.43L331.4,88.89L332.29,87.44L335.85,82.52L336.74,78.75L337.62,77.88L338.51,74.26L342.07,70.5L342.95,65.58L343.84,65.43L344.73,56.46L348.29,71.08L349.17,68.62L350.06,70.5L350.95,79.91L354.5,106.69L355.39,108.14L356.28,127.1L357.17,126.67L360.72,112.92L361.61,114.08L363.39,102.64L366.94,115.52L367.83,123.92L368.72,121.6L369.61,114.8L372.27,114.94L374.05,125.51L374.94,122.76L375.83,119L378.49,116.83L379.38,116.25L380.27,117.69L382.05,104.67L384.71,108.43L385.6,108L386.49,113.21L388.27,117.41L390.93,120.01L392.71,123.49L393.6,126.67L394.49,132.17L397.15,127.54L398.04,124.93L398.93,119.29L399.82,117.84L403.37,127.83L406.04,105.1L406.93,111.32L409.59,112.63L410.48,110.46L412.26,109.88L413.14,103.65L415.81,101.34L416.7,98.73L419.36,113.79L422.03,110.6L423.81,130.87L424.7,126.67L425.58,119.43L428.25,120.73L430.03,135.79L430.91,137.96L431.8,131.88L434.47,134.78L435.36,139.12L436.25,139.41L437.13,134.2L438.02,134.78L440.69,136.08L441.58,140.28L442.46,142.45L443.35,132.61L444.24,134.2L446.91,131.16L447.8,133.33L448.68,131.3L449.57,132.32L450.46,131.3L454.02,127.68L454.9,121.75L455.79,123.49L456.68,121.89L459.35,116.97L460.23,122.04L461.12,117.41L462.01,117.69L462.9,111.04L465.57,108.57L466.45,104.96L467.34,108L468.23,110.75L469.12,103.65L471.78,111.18L472.67,110.46L474.45,117.26L475.34,115.09L478,110.75L478.89,114.08L479.78,117.55L480.67,112.19L481.56,106.98L484.22,108.43L485.11,105.39L486.89,96.41L487.78,96.7L490.44,99.89L491.33,92.36L492.22,94.68L493.11,96.27L494,95.4L496.66,95.55L497.55,88.6L499.33,90.48L500.22,88.31L502.88,92.65L503.77,88.45L505.55,75.57L506.44,76L509.1,75.71L509.99,70.36L511.77,76.29L512.66,70.5L515.32,70.07L516.21,72.09L517.1,76.73L517.99,74.12L518.87,77.59L521.54,80.92L522.43,80.2L523.32,77.59L524.21,75.86L525.09,70.79L527.76,69.05L528.65,75.86L530.42,82.66L531.31,83.67L533.98,82.81L534.87,87L535.76,87.58L536.64,92.65L537.53,97.57L541.09,95.11L542.86,81.79L543.75,82.37L546.42,77.88L547.31,78.46L548.19,75.57L549.08,75.86L549.97,73.69L552.64,69.2L553.53,74.41L554.41,74.12L555.3,65L556.19,65.72L558.86,72.53L559.74,77.74L562.41,70.94L565.08,70.5L565.96,66.74L566.85,75.28L568.63,75.13L571.29,67.17L572.18,68.33L573.07,77.74L573.96,91.64L574.85,91.2L577.51,88.02L578.4,80.35L579.29,75.42L580.18,78.75L581.07,69.2L583.73,73.98L585.51,63.84L586.4,66.74L587.29,74.55L589.95,67.46L591.73,48.5L592.62,50.23L597.95,28.52L598.84,29.1L599.73,24.47L602.39,21.86L603.28,22L604.17,23.31L605.06,23.6L605.95,17.81L608.61,13.32L609.5,28.37L610.39,37.06L612.17,33.15L614.83,35.18L615.72,28.52L616.61,24.03L617.5,28.52L618.38,9.41L621.05,18.96L623.72,23.16L624.6,27.07L627.27,25.04L628.16,20.99L629.05,25.33L629.93,22L630.82,23.74L633.49,37.35L634.38,37.49L635.27,43.14L636.15,47.92L637.04,47.48L639.71,69.2L641.49,56.02L642.37,48.06L643.26,52.55L645.93,50.52\" style=\"vector-effect: non-scaling-stroke; fill: none; stroke: rgb(31, 119, 180); stroke-opacity: 1; stroke-width: 2px; opacity: 1;\"/></g><g class=\"points\"/><g class=\"text\"/></g><g class=\"trace scatter tracec998dcee-9e74-4dee-a25d-b260db951bda\" style=\"stroke-miterlimit: 2; opacity: 1;\"><g class=\"fills\"/><g class=\"errorbars\"/><g class=\"lines\"/><g class=\"points\"><path class=\"point plotly-customdata\" transform=\"translate(280.76,77.16)\" d=\"M-4.62,2H4.62L0,-4Z\" style=\"opacity: 1; stroke-width: 1px; fill: rgb(55, 177, 63); fill-opacity: 1; stroke: rgb(38, 123, 44); stroke-opacity: 1;\"/><path class=\"point plotly-customdata\" transform=\"translate(541.09,97.28)\" d=\"M-4.62,2H4.62L0,-4Z\" style=\"opacity: 1; stroke-width: 1px; fill: rgb(55, 177, 63); fill-opacity: 1; stroke: rgb(38, 123, 44); stroke-opacity: 1;\"/><path class=\"point plotly-customdata\" transform=\"translate(621.05,16.65)\" d=\"M-4.62,2H4.62L0,-4Z\" style=\"opacity: 1; stroke-width: 1px; fill: rgb(55, 177, 63); fill-opacity: 1; stroke: rgb(38, 123, 44); stroke-opacity: 1;\"/></g><g class=\"text\"/></g><g class=\"trace scatter trace617a015f-334b-4ef5-9433-cd9a8a289467\" style=\"stroke-miterlimit: 2; opacity: 1;\"><g class=\"fills\"/><g class=\"errorbars\"/><g class=\"lines\"/><g class=\"points\"><path class=\"point plotly-customdata\" transform=\"translate(412.26,109.3)\" d=\"M-4.62,-2H4.62L0,4Z\" style=\"opacity: 1; stroke-width: 1px; fill: rgb(234, 67, 53); fill-opacity: 1; stroke: rgb(181, 31, 18); stroke-opacity: 1;\"/><path class=\"point plotly-customdata\" transform=\"translate(566.85,67.46)\" d=\"M-4.62,-2H4.62L0,4Z\" style=\"opacity: 1; stroke-width: 1px; fill: rgb(234, 67, 53); fill-opacity: 1; stroke: rgb(181, 31, 18); stroke-opacity: 1;\"/></g><g class=\"text\"/></g></g></g><g class=\"overplot\"/><path class=\"xlines-above crisp\" d=\"M0,0\" style=\"fill: none;\"/><path class=\"ylines-above crisp\" d=\"M0,0\" style=\"fill: none;\"/><g class=\"overlines-above\"/><g class=\"xaxislayer-above\"><g class=\"x3tick\"><text text-anchor=\"middle\" x=\"0\" y=\"711\" transform=\"translate(138.3,0)\" style=\"font-family: 'Open Sans', verdana, arial, sans-serif; font-size: 12px; fill: rgb(42, 63, 95); fill-opacity: 1; white-space: pre;\">Apr 2017</text></g><g class=\"x3tick\"><text text-anchor=\"middle\" x=\"0\" y=\"711\" transform=\"translate(219.15,0)\" style=\"font-family: 'Open Sans', verdana, arial, sans-serif; font-size: 12px; fill: rgb(42, 63, 95); fill-opacity: 1; white-space: pre;\">Jul 2017</text></g><g class=\"x3tick\"><text text-anchor=\"middle\" x=\"0\" y=\"711\" transform=\"translate(300.89,0)\" style=\"font-family: 'Open Sans', verdana, arial, sans-serif; font-size: 12px; fill: rgb(42, 63, 95); fill-opacity: 1; white-space: pre;\">Oct 2017</text></g><g class=\"x3tick\"><text text-anchor=\"middle\" x=\"0\" y=\"711\" transform=\"translate(382.63,0)\" style=\"font-family: 'Open Sans', verdana, arial, sans-serif; font-size: 12px; fill: rgb(42, 63, 95); fill-opacity: 1; white-space: pre;\">Jan 2018</text></g><g class=\"x3tick\"><text text-anchor=\"middle\" x=\"0\" y=\"711\" transform=\"translate(462.59,0)\" style=\"font-family: 'Open Sans', verdana, arial, sans-serif; font-size: 12px; fill: rgb(42, 63, 95); fill-opacity: 1; white-space: pre;\">Apr 2018</text></g><g class=\"x3tick\"><text text-anchor=\"middle\" x=\"0\" y=\"711\" transform=\"translate(543.45,0)\" style=\"font-family: 'Open Sans', verdana, arial, sans-serif; font-size: 12px; fill: rgb(42, 63, 95); fill-opacity: 1; white-space: pre;\">Jul 2018</text></g><g class=\"x3tick\"><text text-anchor=\"middle\" x=\"0\" y=\"711\" transform=\"translate(625.19,0)\" style=\"font-family: 'Open Sans', verdana, arial, sans-serif; font-size: 12px; fill: rgb(42, 63, 95); fill-opacity: 1; white-space: pre;\">Oct 2018</text></g><g class=\"x3tick\"><text text-anchor=\"middle\" x=\"0\" y=\"711\" transform=\"translate(706.93,0)\" style=\"font-family: 'Open Sans', verdana, arial, sans-serif; font-size: 12px; fill: rgb(42, 63, 95); fill-opacity: 1; white-space: pre;\">Jan 2019</text></g></g><g class=\"yaxislayer-above\"><g class=\"y3tick\"><text text-anchor=\"end\" x=\"60\" y=\"4.199999999999999\" transform=\"translate(0,690.7644444444445)\" style=\"font-family: 'Open Sans', verdana, arial, sans-serif; font-size: 12px; fill: rgb(42, 63, 95); fill-opacity: 1; white-space: pre;\">35</text></g><g class=\"y3tick\"><text text-anchor=\"end\" x=\"60\" y=\"4.199999999999999\" transform=\"translate(0,618.3744444444444)\" style=\"font-family: 'Open Sans', verdana, arial, sans-serif; font-size: 12px; fill: rgb(42, 63, 95); fill-opacity: 1; white-space: pre;\">40</text></g><g class=\"y3tick\"><text text-anchor=\"end\" x=\"60\" y=\"4.199999999999999\" transform=\"translate(0,545.9944444444445)\" style=\"font-family: 'Open Sans', verdana, arial, sans-serif; font-size: 12px; fill: rgb(42, 63, 95); fill-opacity: 1; white-space: pre;\">45</text></g></g><g class=\"overaxes-above\"/></g></g><g class=\"polarlayer\"/><g class=\"ternarylayer\"/><g class=\"geolayer\"/><g class=\"funnelarealayer\"/><g class=\"pielayer\"/><g class=\"treemaplayer\"/><g class=\"sunburstlayer\"/><g class=\"glimages\"/><defs id=\"topdefs-874dec\"><g class=\"clips\"/><clipPath id=\"legend874dec\"><rect width=\"457\" height=\"29\" x=\"0\" y=\"0\"/></clipPath></defs><g class=\"layer-above\"><g class=\"imagelayer\"/><g class=\"shapelayer\"><path data-index=\"0\" fill-rule=\"evenodd\" d=\"M61,229.39L720,229.39\" clip-path=\"url('#clip874decy')\" style=\"opacity: 1; stroke: rgb(128, 128, 128); stroke-opacity: 1; fill: rgb(0, 0, 0); fill-opacity: 0; stroke-dasharray: 9px, 9px; stroke-width: 2px;\"/></g></g><g class=\"infolayer\"><g class=\"legend\" pointer-events=\"all\" transform=\"translate(263, 11.719999999999978)\"><rect class=\"bg\" shape-rendering=\"crispEdges\" style=\"stroke: rgb(68, 68, 68); stroke-opacity: 1; fill: rgb(255, 255, 255); fill-opacity: 1; stroke-width: 0px;\" width=\"457\" height=\"29\" x=\"0\" y=\"0\"/><g class=\"scrollbox\" transform=\"translate(0, 0)\" clip-path=\"url('#legend874dec')\"><g class=\"groups\"><g class=\"traces\" transform=\"translate(0, 14.5)\" style=\"opacity: 1;\"><text class=\"legendtext\" text-anchor=\"start\" x=\"40\" y=\"4.680000000000001\" style=\"font-family: 'Open Sans', verdana, arial, sans-serif; font-size: 12px; fill: rgb(42, 63, 95); fill-opacity: 1; white-space: pre;\">Benchmark</text><g class=\"layers\" style=\"opacity: 1;\"><g class=\"legendfill\"/><g class=\"legendlines\"><path class=\"js-line\" d=\"M5,0h30\" style=\"fill: none; stroke: rgb(127, 127, 127); stroke-opacity: 1; stroke-width: 2px;\"/></g><g class=\"legendsymbols\"><g class=\"legendpoints\"/></g></g><rect class=\"legendtoggle\" x=\"0\" y=\"-9.5\" width=\"110.421875\" height=\"19\" style=\"fill: rgb(0, 0, 0); fill-opacity: 0;\"/></g><g class=\"traces\" transform=\"translate(112.921875, 14.5)\" style=\"opacity: 1;\"><text class=\"legendtext\" text-anchor=\"start\" x=\"40\" y=\"4.680000000000001\" style=\"font-family: 'Open Sans', verdana, arial, sans-serif; font-size: 12px; fill: rgb(42, 63, 95); fill-opacity: 1; white-space: pre;\">Value</text><g class=\"layers\" style=\"opacity: 1;\"><g class=\"legendfill\"/><g class=\"legendlines\"><path class=\"js-line\" d=\"M5,0h30\" style=\"fill: none; stroke: rgb(148, 103, 189); stroke-opacity: 1; stroke-width: 2px;\"/></g><g class=\"legendsymbols\"><g class=\"legendpoints\"/></g></g><rect class=\"legendtoggle\" x=\"0\" y=\"-9.5\" width=\"75.953125\" height=\"19\" style=\"fill: rgb(0, 0, 0); fill-opacity: 0;\"/></g><g class=\"traces\" transform=\"translate(191.375, 14.5)\" style=\"opacity: 1;\"><text class=\"legendtext\" text-anchor=\"start\" x=\"40\" y=\"4.680000000000001\" style=\"font-family: 'Open Sans', verdana, arial, sans-serif; font-size: 12px; fill: rgb(42, 63, 95); fill-opacity: 1; white-space: pre;\">PEP</text><g class=\"layers\" style=\"opacity: 1;\"><g class=\"legendfill\"/><g class=\"legendlines\"><path class=\"js-line\" d=\"M5,0h30\" style=\"fill: none; stroke: rgb(31, 119, 180); stroke-opacity: 1; stroke-width: 2px;\"/></g><g class=\"legendsymbols\"><g class=\"legendpoints\"/></g></g><rect class=\"legendtoggle\" x=\"0\" y=\"-9.5\" width=\"64.5625\" height=\"19\" style=\"fill: rgb(0, 0, 0); fill-opacity: 0;\"/></g><g class=\"traces\" transform=\"translate(258.4375, 14.5)\" style=\"opacity: 1;\"><text class=\"legendtext\" text-anchor=\"start\" x=\"40\" y=\"4.680000000000001\" style=\"font-family: 'Open Sans', verdana, arial, sans-serif; font-size: 12px; fill: rgb(42, 63, 95); fill-opacity: 1; white-space: pre;\">Buy</text><g class=\"layers\" style=\"opacity: 1;\"><g class=\"legendfill\"/><g class=\"legendlines\"/><g class=\"legendsymbols\"><g class=\"legendpoints\"><path class=\"scatterpts\" transform=\"translate(20,0)\" d=\"M-4.62,2H4.62L0,-4Z\" style=\"opacity: 1; stroke-width: 1px; fill: rgb(55, 177, 63); fill-opacity: 1; stroke: rgb(38, 123, 44); stroke-opacity: 1;\"/></g></g></g><rect class=\"legendtoggle\" x=\"0\" y=\"-9.5\" width=\"65.421875\" height=\"19\" style=\"fill: rgb(0, 0, 0); fill-opacity: 0;\"/></g><g class=\"traces\" transform=\"translate(326.359375, 14.5)\" style=\"opacity: 1;\"><text class=\"legendtext\" text-anchor=\"start\" x=\"40\" y=\"4.680000000000001\" style=\"font-family: 'Open Sans', verdana, arial, sans-serif; font-size: 12px; fill: rgb(42, 63, 95); fill-opacity: 1; white-space: pre;\">Sell</text><g class=\"layers\" style=\"opacity: 1;\"><g class=\"legendfill\"/><g class=\"legendlines\"/><g class=\"legendsymbols\"><g class=\"legendpoints\"><path class=\"scatterpts\" transform=\"translate(20,0)\" d=\"M-4.62,-2H4.62L0,4Z\" style=\"opacity: 1; stroke-width: 1px; fill: rgb(234, 67, 53); fill-opacity: 1; stroke: rgb(181, 31, 18); stroke-opacity: 1;\"/></g></g></g><rect class=\"legendtoggle\" x=\"0\" y=\"-9.5\" width=\"64.4375\" height=\"19\" style=\"fill: rgb(0, 0, 0); fill-opacity: 0;\"/></g><g class=\"traces\" transform=\"translate(393.296875, 14.5)\" style=\"opacity: 1;\"><text class=\"legendtext\" text-anchor=\"start\" x=\"40\" y=\"4.680000000000001\" style=\"font-family: 'Open Sans', verdana, arial, sans-serif; font-size: 12px; fill: rgb(42, 63, 95); fill-opacity: 1; white-space: pre;\">KO</text><g class=\"layers\" style=\"opacity: 1;\"><g class=\"legendfill\"/><g class=\"legendlines\"><path class=\"js-line\" d=\"M5,0h30\" style=\"fill: none; stroke: rgb(31, 119, 180); stroke-opacity: 1; stroke-width: 2px;\"/></g><g class=\"legendsymbols\"><g class=\"legendpoints\"/></g></g><rect class=\"legendtoggle\" x=\"0\" y=\"-9.5\" width=\"60.265625\" height=\"19\" style=\"fill: rgb(0, 0, 0); fill-opacity: 0;\"/></g></g></g><rect class=\"scrollbar\" rx=\"20\" ry=\"3\" width=\"0\" height=\"0\" style=\"fill: rgb(128, 139, 164); fill-opacity: 1;\" x=\"0\" y=\"0\"/></g><g class=\"g-gtitle\"/><g class=\"g-xtitle\"/><g class=\"g-x2title\"/><g class=\"g-x3title\"><text class=\"x3title\" x=\"390.5\" y=\"738.3\" text-anchor=\"middle\" style=\"font-family: 'Open Sans', verdana, arial, sans-serif; font-size: 14px; fill: rgb(42, 63, 95); opacity: 1; font-weight: normal; white-space: pre;\">Date</text></g><g class=\"g-ytitle\"><text class=\"ytitle\" transform=\"rotate(-90,15.575000000000003,160.0977777777778)\" x=\"15.575000000000003\" y=\"160.0977777777778\" text-anchor=\"middle\" style=\"font-family: 'Open Sans', verdana, arial, sans-serif; font-size: 14px; fill: rgb(42, 63, 95); opacity: 1; font-weight: normal; white-space: pre;\">Cumulative returns</text></g><g class=\"g-y2title\" transform=\"translate(1.6904296875,0)\"><text class=\"y2title\" transform=\"rotate(-90,12.309375000000003,382)\" x=\"12.309375000000003\" y=\"382\" text-anchor=\"middle\" style=\"font-family: 'Open Sans', verdana, arial, sans-serif; font-size: 14px; fill: rgb(42, 63, 95); opacity: 1; font-weight: normal; white-space: pre;\">Price</text></g><g class=\"g-y3title\"><text class=\"y3title\" transform=\"rotate(-90,19.934375000000003,603.9022222222222)\" x=\"19.934375000000003\" y=\"603.9022222222222\" text-anchor=\"middle\" style=\"font-family: 'Open Sans', verdana, arial, sans-serif; font-size: 14px; fill: rgb(42, 63, 95); opacity: 1; font-weight: normal; white-space: pre;\">Price</text></g><g class=\"annotation\" data-index=\"0\" style=\"opacity: 1;\"><g class=\"annotation-text-g\" transform=\"rotate(0,390.5,53.99999999999999)\"><g class=\"cursor-pointer\" transform=\"translate(309, 42)\"><rect class=\"bg\" x=\"0.5\" y=\"0.5\" width=\"162\" height=\"23\" style=\"stroke-width: 1px; stroke: rgb(0, 0, 0); stroke-opacity: 0; fill: rgb(0, 0, 0); fill-opacity: 0;\"/><text class=\"annotation-text\" text-anchor=\"middle\" x=\"81.34375\" y=\"18\" style=\"font-family: 'Open Sans', verdana, arial, sans-serif; font-size: 16px; fill: rgb(42, 63, 95); fill-opacity: 1; white-space: pre;\">Cumulative Returns</text></g></g></g><g class=\"annotation\" data-index=\"1\" style=\"opacity: 1;\"><g class=\"annotation-text-g\" transform=\"rotate(0,390.5,275.90222222222224)\"><g class=\"cursor-pointer\" transform=\"translate(337, 264)\"><rect class=\"bg\" x=\"0.5\" y=\"0.5\" width=\"107\" height=\"23\" style=\"stroke-width: 1px; stroke: rgb(0, 0, 0); stroke-opacity: 0; fill: rgb(0, 0, 0); fill-opacity: 0;\"/><text class=\"annotation-text\" text-anchor=\"middle\" x=\"53.828125\" y=\"18\" style=\"font-family: 'Open Sans', verdana, arial, sans-serif; font-size: 16px; fill: rgb(42, 63, 95); fill-opacity: 1; white-space: pre;\">Orders (PEP)</text></g></g></g><g class=\"annotation\" data-index=\"2\" style=\"opacity: 1;\"><g class=\"annotation-text-g\" transform=\"rotate(0,390.5,497.80444444444447)\"><g class=\"cursor-pointer\" transform=\"translate(340, 486)\"><rect class=\"bg\" x=\"0.5\" y=\"0.5\" width=\"101\" height=\"23\" style=\"stroke-width: 1px; stroke: rgb(0, 0, 0); stroke-opacity: 0; fill: rgb(0, 0, 0); fill-opacity: 0;\"/><text class=\"annotation-text\" text-anchor=\"middle\" x=\"50.96875\" y=\"18\" style=\"font-family: 'Open Sans', verdana, arial, sans-serif; font-size: 16px; fill: rgb(42, 63, 95); fill-opacity: 1; white-space: pre;\">Orders (KO)</text></g></g></g></g></svg>"
      ]
     },
     "metadata": {},
     "output_type": "display_data"
    }
   ],
   "source": [
    "# Plot portfolio\n",
    "from functools import partial\n",
    "\n",
    "def plot_orders(portfolio, column=None, add_trace_kwargs=None, fig=None):\n",
    "    portfolio.orders.plot(column=column, add_trace_kwargs=add_trace_kwargs, fig=fig)\n",
    "\n",
    "vbt_portfolio.plot(subplots=[\n",
    "    'cum_returns',\n",
    "    ('symbol1_orders', dict(\n",
    "        title=f\"Orders ({SYMBOL1})\",\n",
    "        yaxis_title=\"Price\",\n",
    "        can_plot_groups=True,\n",
    "        plot_func=partial(plot_orders, column=SYMBOL1)\n",
    "    )),\n",
    "    ('symbol2_orders', dict(\n",
    "        title=f\"Orders ({SYMBOL2})\",\n",
    "        yaxis_title=\"Price\",\n",
    "        can_plot_groups=True,\n",
    "        plot_func=partial(plot_orders, column=SYMBOL2)\n",
    "    ))\n",
    "], height=750).show_svg()"
   ]
  },
  {
   "cell_type": "code",
   "execution_count": 48,
   "metadata": {},
   "outputs": [
    {
     "name": "stdout",
     "output_type": "stream",
     "text": [
      "1.36 ms ± 8.23 µs per loop (mean ± std. dev. of 7 runs, 1000 loops each)\n"
     ]
    }
   ],
   "source": [
    "# How fast is vbt?\n",
    "%timeit simulate_from_orders()"
   ]
  },
  {
   "cell_type": "markdown",
   "metadata": {},
   "source": [
    "While Portfolio.from_orders is a very convenient and optimized function for simulating portfolios, it requires some prior steps to produce the size array. In the example above, we needed to manually run the calculation of the spread z-score, generate the signals from the z-score, build the size array from the signals, and make sure that all arrays are perfectly aligned. All these steps must be repeated and adapted accordingly once there is more than one hyperparameter combination to test.\n",
    "\n",
    "Nevertheless, dividing the pipeline into clearly separated backtesting steps helps us to analyze each step thoroughly and actually does wonders for strategy development and debugging."
   ]
  },
  {
   "cell_type": "markdown",
   "metadata": {},
   "source": [
    "### Using Portfolio.from_order_func"
   ]
  },
  {
   "cell_type": "markdown",
   "metadata": {},
   "source": [
    "Portfolio.from_order_func follows a different (self-contained) approach where as much steps as possible should be defined in the simulation function itself. It sequentially processes timestamps one by one and executes orders based on the logic the user defined rather than parses this logic from some arrays. While this makes order execution less transparent as you cannot analyze each piece of data on the fly anymore (sadly, no pandas and plotting within Numba), it has one big advantage over other vectorized methods: event-driven order processing. This gives best flexibility (you can write any logic), security (less probability of exposing yourself to a look-ahead bias among other biases), and performance (you're traversing the data only once). This method is the most similar one compared to backtrader."
   ]
  },
  {
   "cell_type": "code",
   "execution_count": 33,
   "metadata": {},
   "outputs": [],
   "source": [
    "from vectorbt.portfolio import nb as portfolio_nb\n",
    "from vectorbt.base.reshape_fns import flex_select_auto_nb\n",
    "from vectorbt.portfolio.enums import SizeType, Direction\n",
    "from collections import namedtuple\n",
    "\n",
    "Memory = namedtuple(\"Memory\", ('spread', 'zscore', 'status'))\n",
    "Params = namedtuple(\"Params\", ('period', 'upper', 'lower', 'order_pct1', 'order_pct2'))\n",
    "\n",
    "@njit\n",
    "def group_prep_func_nb(c, _period, _upper, _lower, _order_pct1, _order_pct2):\n",
    "    \"\"\"Prepare the current group (= pair of columns).\"\"\"\n",
    "    assert c.group_len == 2\n",
    "    \n",
    "    # In contrast to bt, we don't have a class instance that we could use to store arrays,\n",
    "    # so let's create a namedtuple acting as a container for our arrays\n",
    "    # ( you could also pass each array as a standalone object, but a single object is more convenient)\n",
    "    spread = np.full(c.target_shape[0], np.nan, dtype=np.float_)\n",
    "    zscore = np.full(c.target_shape[0], np.nan, dtype=np.float_)\n",
    "    \n",
    "    # Note that namedtuples aren't mutable, you can't simply assign a value,\n",
    "    # thus make status variable an array of one element for an easy assignment\n",
    "    status = np.full(1, 0, dtype=np.int_)\n",
    "    memory = Memory(spread, zscore, status)\n",
    "    \n",
    "    # Treat each param as an array with value per group, and select the combination of params for this group\n",
    "    period = flex_select_auto_nb(0, c.group, np.asarray(_period), True)\n",
    "    upper = flex_select_auto_nb(0, c.group, np.asarray(_upper), True)\n",
    "    lower = flex_select_auto_nb(0, c.group, np.asarray(_lower), True)\n",
    "    order_pct1 = flex_select_auto_nb(0, c.group, np.asarray(_order_pct1), True)\n",
    "    order_pct2 = flex_select_auto_nb(0, c.group, np.asarray(_order_pct2), True)\n",
    "    \n",
    "    # Put all params into a container (again, this is optional)\n",
    "    params = Params(period, upper, lower, order_pct1, order_pct2)\n",
    "    \n",
    "    # Create an array that will store our two target percentages used by order_func_nb\n",
    "    # we do it here instead of in segment_prep_func_nb to initialize the array once, instead of in each row\n",
    "    size = np.empty(c.group_len, dtype=np.float_)\n",
    "    \n",
    "    # The returned tuple is passed as arguments to the function below\n",
    "    return (memory, params, size)\n",
    "    \n",
    "\n",
    "@njit\n",
    "def segment_prep_func_nb(c, memory, params, size, mode):\n",
    "    \"\"\"Prepare the current segment (= row within group).\"\"\"\n",
    "    \n",
    "    # We want to perform calculations once we reach full window size\n",
    "    if c.i < params.period - 1:\n",
    "        size[0] = np.nan  # size of nan means no order\n",
    "        size[1] = np.nan\n",
    "        return (size,)\n",
    "    \n",
    "    # z-core is calculated using a window (=period) of spread values\n",
    "    # This window can be specified as a slice\n",
    "    window_slice = slice(max(0, c.i + 1 - params.period), c.i + 1)\n",
    "    \n",
    "    # Here comes the same as in rolling_ols_zscore_nb\n",
    "    if mode == 'OLS':\n",
    "        a = c.close[window_slice, c.from_col]\n",
    "        b = c.close[window_slice, c.from_col + 1]\n",
    "        memory.spread[c.i] = ols_spread_nb(a, b)\n",
    "    elif mode == 'log_return':\n",
    "        logret_a = np.log(c.close[c.i, c.from_col] / c.close[c.i - 1, c.from_col])\n",
    "        logret_b = np.log(c.close[c.i, c.from_col + 1] / c.close[c.i - 1, c.from_col + 1])\n",
    "        memory.spread[c.i] = logret_a - logret_b\n",
    "    else:\n",
    "        raise ValueError(\"Unknown mode\")\n",
    "    spread_mean = np.mean(memory.spread[window_slice])\n",
    "    spread_std = np.std(memory.spread[window_slice])\n",
    "    memory.zscore[c.i] = (memory.spread[c.i] - spread_mean) / spread_std\n",
    "    \n",
    "    # Check if any bound is crossed\n",
    "    # Since zscore is calculated using close, use zscore of the previous step\n",
    "    # This way we are executing signals defined at the previous bar\n",
    "    # Same logic as in PairTradingStrategy\n",
    "    if memory.zscore[c.i - 1] > params.upper and memory.status[0] != 1:\n",
    "        size[0] = -params.order_pct1\n",
    "        size[1] = params.order_pct2\n",
    "        \n",
    "        # Here we specify the order of execution\n",
    "        # call_seq_now defines order for the current group (2 elements)\n",
    "        c.call_seq_now[0] = 0\n",
    "        c.call_seq_now[1] = 1\n",
    "        memory.status[0] = 1\n",
    "    elif memory.zscore[c.i - 1] < params.lower and memory.status[0] != 2:\n",
    "        size[0] = params.order_pct1\n",
    "        size[1] = -params.order_pct2\n",
    "        c.call_seq_now[0] = 1  # execute the second order first to release funds early\n",
    "        c.call_seq_now[1] = 0\n",
    "        memory.status[0] = 2\n",
    "    else:\n",
    "        size[0] = np.nan\n",
    "        size[1] = np.nan\n",
    "        \n",
    "    # Group value is converted to shares using previous close, just like in bt\n",
    "    # Note that last_val_price contains valuation price of all columns, not just the current pair\n",
    "    c.last_val_price[c.from_col] = c.close[c.i - 1, c.from_col]\n",
    "    c.last_val_price[c.from_col + 1] = c.close[c.i - 1, c.from_col + 1]\n",
    "        \n",
    "    return (size,)\n",
    "\n",
    "@njit\n",
    "def order_func_nb(c, size, price, commperc):\n",
    "    \"\"\"Place an order (= element within group and row).\"\"\"\n",
    "    \n",
    "    # Get column index within group (if group starts at column 58 and current column is 59, \n",
    "    # the column within group is 1, which can be used to get size)\n",
    "    group_col = c.col - c.from_col\n",
    "    return portfolio_nb.create_order_nb(\n",
    "        size=size[group_col], \n",
    "        size_type=SizeType.TargetPercent,\n",
    "        price=price[c.i, c.col],\n",
    "        fees=commperc\n",
    "    )"
   ]
  },
  {
   "cell_type": "code",
   "execution_count": 34,
   "metadata": {},
   "outputs": [],
   "source": [
    "def simulate_from_order_func():\n",
    "    \"\"\"Simulate using `Portfolio.from_order_func`.\"\"\"\n",
    "    return vbt.Portfolio.from_order_func(\n",
    "        vbt_close_price,\n",
    "        order_func_nb, \n",
    "        vbt_open_price.values, COMMPERC,  # *args for order_func_nb\n",
    "        group_prep_func_nb=group_prep_func_nb, \n",
    "        group_prep_args=(PERIOD, UPPER, LOWER, ORDER_PCT1, ORDER_PCT2),\n",
    "        segment_prep_func_nb=segment_prep_func_nb, \n",
    "        segment_prep_args=(MODE,),\n",
    "        init_cash=CASH,\n",
    "        cash_sharing=True, \n",
    "        group_by=True,\n",
    "        freq='d'\n",
    "    )\n",
    "\n",
    "vbt_portfolio2 = simulate_from_order_func()"
   ]
  },
  {
   "cell_type": "code",
   "execution_count": 35,
   "metadata": {},
   "outputs": [
    {
     "name": "stdout",
     "output_type": "stream",
     "text": [
      "   Order Id                       Date Column        Size   Price        Fees  \\\n",
      "0         0 2017-11-15 23:59:59.999989    PEP   95.996928  104.07   49.952002   \n",
      "1         1 2017-11-15 23:59:59.999989     KO  236.630383   42.17   49.893516   \n",
      "2         2 2018-04-12 23:59:59.999989     KO  487.000209   39.95   97.278292   \n",
      "3         3 2018-04-12 23:59:59.999989    PEP  196.614255   99.46   97.776269   \n",
      "4         4 2018-09-04 23:59:59.999989    PEP  197.327114  103.01  101.633330   \n",
      "5         5 2018-09-04 23:59:59.999989     KO  495.205031   40.78  100.972306   \n",
      "6         6 2018-10-03 23:59:59.999989     KO  478.647348   42.84  102.526262   \n",
      "7         7 2018-10-03 23:59:59.999989    PEP  196.018589  101.44   99.420628   \n",
      "8         8 2018-12-03 23:59:59.999989    PEP  187.830431  111.91  105.100518   \n",
      "9         9 2018-12-03 23:59:59.999989     KO  447.813417   46.35  103.780759   \n",
      "\n",
      "   Side  \n",
      "0  Sell  \n",
      "1   Buy  \n",
      "2  Sell  \n",
      "3   Buy  \n",
      "4  Sell  \n",
      "5   Buy  \n",
      "6  Sell  \n",
      "7   Buy  \n",
      "8  Sell  \n",
      "9   Buy  \n"
     ]
    }
   ],
   "source": [
    "print(vbt_portfolio2.orders.records_readable)"
   ]
  },
  {
   "cell_type": "code",
   "execution_count": 36,
   "metadata": {},
   "outputs": [],
   "source": [
    "# Proof that both bt and vbt produce the same result\n",
    "pd.testing.assert_series_equal(bt_cash, vbt_portfolio2.cash().rename('cash'))\n",
    "pd.testing.assert_series_equal(bt_value, vbt_portfolio2.value().rename('value'))"
   ]
  },
  {
   "cell_type": "code",
   "execution_count": 55,
   "metadata": {},
   "outputs": [
    {
     "name": "stdout",
     "output_type": "stream",
     "text": [
      "3.2 ms ± 11.2 µs per loop (mean ± std. dev. of 7 runs, 100 loops each)\n"
     ]
    }
   ],
   "source": [
    "# How fast is vbt?\n",
    "%timeit simulate_from_order_func()"
   ]
  },
  {
   "cell_type": "markdown",
   "metadata": {},
   "source": [
    "### Numba paradise (or hell?) - fastest"
   ]
  },
  {
   "cell_type": "code",
   "execution_count": 58,
   "metadata": {},
   "outputs": [],
   "source": [
    "def simulate_nb_from_order_func():\n",
    "    \"\"\"Simulate using `simulate_nb`.\"\"\"\n",
    "    # iterate over 502 rows and 2 columns, each element is a potential order\n",
    "    target_shape = vbt_close_price.shape\n",
    "    \n",
    "    # number of columns in the group - exactly two\n",
    "    group_lens = np.array([2])\n",
    "    \n",
    "    # build default call sequence (orders are executed from the left to the right column)\n",
    "    call_seq = portfolio_nb.build_call_seq(target_shape, group_lens)\n",
    "    \n",
    "    # initial cash per group\n",
    "    init_cash = np.array([CASH], dtype=np.float_)\n",
    "    \n",
    "    order_records, log_records = portfolio_nb.simulate_nb(\n",
    "        target_shape=target_shape, \n",
    "        close=vbt_close_price.values,  # used for target percentage, but we override the valuation price\n",
    "        group_lens=group_lens,\n",
    "        init_cash=init_cash,\n",
    "        cash_sharing=True,\n",
    "        call_seq=call_seq,  \n",
    "        active_mask=np.full(target_shape, True),  # used for disabling some segments\n",
    "        prep_func_nb=portfolio_nb.empty_prep_func_nb,  # we have no global preparation function, so we use a dummy\n",
    "        prep_args=(),\n",
    "        group_prep_func_nb=group_prep_func_nb, \n",
    "        group_prep_args=(PERIOD, UPPER, LOWER, ORDER_PCT1, ORDER_PCT2),\n",
    "        segment_prep_func_nb=segment_prep_func_nb, \n",
    "        segment_prep_args=(MODE,),\n",
    "        order_func_nb=order_func_nb, \n",
    "        order_args=(vbt_open_price.values, COMMPERC),\n",
    "        after_order_func_nb=portfolio_nb.empty_after_order_func_nb,\n",
    "        after_order_args=(),\n",
    "        max_orders=target_shape[0] * target_shape[1],  # max number of orders we could generate\n",
    "        max_logs=0  # we are not interested in logs\n",
    "    )\n",
    "    \n",
    "    return target_shape, group_lens, call_seq, init_cash, order_records, log_records\n",
    "\n",
    "target_shape, group_lens, call_seq, init_cash, order_records, log_records = simulate_nb_from_order_func()"
   ]
  },
  {
   "cell_type": "code",
   "execution_count": 59,
   "metadata": {},
   "outputs": [
    {
     "name": "stdout",
     "output_type": "stream",
     "text": [
      "   Order Id                       Date Column        Size   Price        Fees  \\\n",
      "0         0 2017-11-15 23:59:59.999989    PEP   95.996928  104.07   49.952002   \n",
      "1         1 2017-11-15 23:59:59.999989     KO  236.630383   42.17   49.893516   \n",
      "2         2 2018-04-12 23:59:59.999989     KO  487.000209   39.95   97.278292   \n",
      "3         3 2018-04-12 23:59:59.999989    PEP  196.614255   99.46   97.776269   \n",
      "4         4 2018-09-04 23:59:59.999989    PEP  197.327114  103.01  101.633330   \n",
      "5         5 2018-09-04 23:59:59.999989     KO  495.205031   40.78  100.972306   \n",
      "6         6 2018-10-03 23:59:59.999989     KO  478.647348   42.84  102.526262   \n",
      "7         7 2018-10-03 23:59:59.999989    PEP  196.018589  101.44   99.420628   \n",
      "8         8 2018-12-03 23:59:59.999989    PEP  187.830431  111.91  105.100518   \n",
      "9         9 2018-12-03 23:59:59.999989     KO  447.813417   46.35  103.780759   \n",
      "\n",
      "   Side  \n",
      "0  Sell  \n",
      "1   Buy  \n",
      "2  Sell  \n",
      "3   Buy  \n",
      "4  Sell  \n",
      "5   Buy  \n",
      "6  Sell  \n",
      "7   Buy  \n",
      "8  Sell  \n",
      "9   Buy  \n"
     ]
    }
   ],
   "source": [
    "# Print order records in a readable format\n",
    "print(vbt.Orders(vbt_close_price.vbt.wrapper, order_records, vbt_close_price).records_readable)"
   ]
  },
  {
   "cell_type": "code",
   "execution_count": 60,
   "metadata": {},
   "outputs": [],
   "source": [
    "# Proof that both bt and vbt produce the same cash\n",
    "from vectorbt.records import nb as records_nb\n",
    "\n",
    "col_map = records_nb.col_map_nb(order_records['col'], target_shape[1])\n",
    "cash_flow = portfolio_nb.cash_flow_nb(target_shape, order_records, col_map, True)\n",
    "cash_flow_grouped = portfolio_nb.cash_flow_grouped_nb(cash_flow, group_lens)\n",
    "cash_grouped = portfolio_nb.cash_grouped_nb(target_shape, cash_flow_grouped, group_lens, init_cash)\n",
    "\n",
    "pd.testing.assert_series_equal(bt_cash, bt_cash.vbt.wrapper.wrap(cash_grouped))"
   ]
  },
  {
   "cell_type": "code",
   "execution_count": 61,
   "metadata": {},
   "outputs": [],
   "source": [
    "# Proof that both bt and vbt produce the same value\n",
    "share_flow = portfolio_nb.share_flow_nb(target_shape, order_records, col_map, Direction.All)\n",
    "shares = portfolio_nb.shares_nb(share_flow)\n",
    "holding_value = portfolio_nb.holding_value_nb(vbt_close_price.values, shares)\n",
    "holding_value_grouped = portfolio_nb.holding_value_grouped_nb(holding_value, group_lens)\n",
    "value = portfolio_nb.value_nb(cash_grouped, holding_value_grouped)\n",
    "\n",
    "pd.testing.assert_series_equal(bt_value, bt_value.vbt.wrapper.wrap(value))"
   ]
  },
  {
   "cell_type": "code",
   "execution_count": 62,
   "metadata": {},
   "outputs": [
    {
     "name": "stdout",
     "output_type": "stream",
     "text": [
      "Start                     2017-01-03 23:59:59.999989\n",
      "End                       2018-12-31 23:59:59.999989\n",
      "Duration                           502 days 00:00:00\n",
      "Init. Cash                                    100000\n",
      "Total Profit                                 283.455\n",
      "Total Return [%]                            0.283455\n",
      "Benchmark Return [%]                         16.6294\n",
      "Position Coverage [%]                        56.1753\n",
      "Max. Drawdown [%]                            1.03211\n",
      "Avg. Drawdown [%]                           0.398855\n",
      "Max. Drawdown Duration             169 days 00:00:00\n",
      "Avg. Drawdown Duration              40 days 00:00:00\n",
      "Num. Trades                                        8\n",
      "Win Rate [%]                                    62.5\n",
      "Best Trade [%]                               9.26977\n",
      "Worst Trade [%]                             -9.23424\n",
      "Avg. Trade [%]                               0.15884\n",
      "Max. Trade Duration                100 days 00:00:00\n",
      "Avg. Trade Duration                 65 days 18:00:00\n",
      "Expectancy                                   16.5852\n",
      "SQN                                        0.0776192\n",
      "Gross Exposure                          -0.000812182\n",
      "Sharpe Ratio                                0.184537\n",
      "Sortino Ratio                               0.266326\n",
      "Calmar Ratio                                0.199608\n",
      "dtype: object\n"
     ]
    }
   ],
   "source": [
    "# To produce more complex metrics such as stats, it's advisable to use Portfolio,\n",
    "# which can be easily constructed from the arguments and outputs of simulate_nb\n",
    "vbt_portfolio3 = vbt.Portfolio(\n",
    "    wrapper=vbt_close_price.vbt(freq='d', group_by=True).wrapper, \n",
    "    close=vbt_close_price, \n",
    "    order_records=order_records, \n",
    "    log_records=log_records, \n",
    "    init_cash=init_cash,\n",
    "    cash_sharing=True, \n",
    "    call_seq=call_seq\n",
    ")\n",
    "\n",
    "print(vbt_portfolio3.stats())"
   ]
  },
  {
   "cell_type": "code",
   "execution_count": 63,
   "metadata": {},
   "outputs": [
    {
     "name": "stdout",
     "output_type": "stream",
     "text": [
      "2.25 ms ± 14.2 µs per loop (mean ± std. dev. of 7 runs, 100 loops each)\n"
     ]
    }
   ],
   "source": [
    "# How fast is vbt?\n",
    "%timeit simulate_nb_from_order_func()"
   ]
  },
  {
   "cell_type": "markdown",
   "metadata": {},
   "source": [
    "As you can see, writing Numba isn't straightforward and requires at least intermediate knowledge of NumPy. That's why Portfolio.from_orders and other class methods based on arrays are usually a good starting point."
   ]
  },
  {
   "cell_type": "markdown",
   "metadata": {},
   "source": [
    "### Multiple parameters"
   ]
  },
  {
   "cell_type": "markdown",
   "metadata": {},
   "source": [
    "Now, why waste all energy to port a strategy to vectorbt? Right, for hyperparameter optimization.\n",
    "\n",
    "*The example below is just for demo purposes, usually brute-forcing many combinations on a single data sample easily leads to overfitting.*"
   ]
  },
  {
   "cell_type": "code",
   "execution_count": 64,
   "metadata": {},
   "outputs": [],
   "source": [
    "periods = np.arange(10, 105, 5)\n",
    "uppers = np.arange(1.5, 2.2, 0.1)\n",
    "lowers = -1 * np.arange(1.5, 2.2, 0.1)"
   ]
  },
  {
   "cell_type": "code",
   "execution_count": 65,
   "metadata": {},
   "outputs": [],
   "source": [
    "def simulate_mult_from_order_func(periods, uppers, lowers):\n",
    "    \"\"\"Simulate multiple parameter combinations using `Portfolio.from_order_func`.\"\"\"\n",
    "    # Build param grid\n",
    "    param_product = vbt.utils.params.create_param_product([periods, uppers, lowers])\n",
    "    param_tuples = list(zip(*param_product))\n",
    "    param_columns = pd.MultiIndex.from_tuples(param_tuples, names=['period', 'upper', 'lower'])\n",
    "    \n",
    "    # We need two price columns per param combination\n",
    "    vbt_close_price_mult = vbt_close_price.vbt.tile(len(param_columns), keys=param_columns)\n",
    "    vbt_open_price_mult = vbt_open_price.vbt.tile(len(param_columns), keys=param_columns)\n",
    "    \n",
    "    return vbt.Portfolio.from_order_func(\n",
    "        vbt_close_price_mult,\n",
    "        order_func_nb, \n",
    "        vbt_open_price_mult.values, COMMPERC,  # *args for order_func_nb\n",
    "        group_prep_func_nb=group_prep_func_nb, \n",
    "        group_prep_args=(\n",
    "            np.array(param_product[0]), \n",
    "            np.array(param_product[1]), \n",
    "            np.array(param_product[2]), \n",
    "            ORDER_PCT1, \n",
    "            ORDER_PCT2\n",
    "        ),\n",
    "        segment_prep_func_nb=segment_prep_func_nb, \n",
    "        segment_prep_args=(MODE,),\n",
    "        init_cash=CASH,\n",
    "        cash_sharing=True, \n",
    "        group_by=param_columns.names,\n",
    "        freq='d'\n",
    "    )\n",
    "\n",
    "vbt_portfolio_mult = simulate_mult_from_order_func(periods, uppers, lowers)"
   ]
  },
  {
   "cell_type": "code",
   "execution_count": 66,
   "metadata": {},
   "outputs": [
    {
     "name": "stdout",
     "output_type": "stream",
     "text": [
      "period  upper  lower\n",
      "10      1.5    -1.5    -0.069865\n",
      "        1.6    -1.5    -0.068415\n",
      "        1.8    -1.5    -0.066815\n",
      "        1.5    -1.6    -0.065237\n",
      "        1.7    -1.5    -0.064985\n",
      "                          ...   \n",
      "100     2.0    -2.2     0.003533\n",
      "        1.8    -2.2     0.003533\n",
      "        1.9    -2.2     0.003533\n",
      "        2.1    -2.2     0.003533\n",
      "        2.2    -2.2     0.003533\n",
      "Name: total_return, Length: 1216, dtype: float64\n"
     ]
    },
    {
     "data": {
      "image/svg+xml": [
       "<svg class=\"main-svg\" xmlns=\"http://www.w3.org/2000/svg\" xmlns:xlink=\"http://www.w3.org/1999/xlink\" width=\"700\" height=\"350\" style=\"\" viewBox=\"0 0 700 350\"><rect x=\"0\" y=\"0\" width=\"700\" height=\"350\" style=\"fill: rgb(255, 255, 255); fill-opacity: 1;\"/><defs id=\"defs-923604\"><g class=\"clips\"><clipPath id=\"clip923604xyplot\" class=\"plotclip\"><rect width=\"634\" height=\"274\"/></clipPath><clipPath class=\"axesclip\" id=\"clip923604x\"><rect x=\"36\" y=\"0\" width=\"634\" height=\"350\"/></clipPath><clipPath class=\"axesclip\" id=\"clip923604y\"><rect x=\"0\" y=\"46\" width=\"700\" height=\"274\"/></clipPath><clipPath class=\"axesclip\" id=\"clip923604xy\"><rect x=\"36\" y=\"46\" width=\"634\" height=\"274\"/></clipPath></g><g class=\"gradients\"/></defs><g class=\"bglayer\"><rect class=\"bg\" x=\"36\" y=\"46\" width=\"634\" height=\"274\" style=\"fill: rgb(229, 236, 246); fill-opacity: 1; stroke-width: 0;\"/></g><g class=\"layer-below\"><g class=\"imagelayer\"/><g class=\"shapelayer\"/></g><g class=\"cartesianlayer\"><g class=\"subplot xy\"><g class=\"layer-subplot\"><g class=\"shapelayer\"/><g class=\"imagelayer\"/></g><g class=\"gridlayer\"><g class=\"x\"/><g class=\"y\"><path class=\"ygrid crisp\" transform=\"translate(0,274.33000000000004)\" d=\"M36,0h634\" style=\"stroke: rgb(255, 255, 255); stroke-opacity: 1; stroke-width: 1px;\"/><path class=\"ygrid crisp\" transform=\"translate(0,228.67)\" d=\"M36,0h634\" style=\"stroke: rgb(255, 255, 255); stroke-opacity: 1; stroke-width: 1px;\"/><path class=\"ygrid crisp\" transform=\"translate(0,183)\" d=\"M36,0h634\" style=\"stroke: rgb(255, 255, 255); stroke-opacity: 1; stroke-width: 1px;\"/><path class=\"ygrid crisp\" transform=\"translate(0,137.32999999999998)\" d=\"M36,0h634\" style=\"stroke: rgb(255, 255, 255); stroke-opacity: 1; stroke-width: 1px;\"/><path class=\"ygrid crisp\" transform=\"translate(0,91.67)\" d=\"M36,0h634\" style=\"stroke: rgb(255, 255, 255); stroke-opacity: 1; stroke-width: 1px;\"/></g></g><g class=\"zerolinelayer\"><path class=\"yzl zl crisp\" transform=\"translate(0,320)\" d=\"M36,0h634\" style=\"stroke: rgb(255, 255, 255); stroke-opacity: 1; stroke-width: 2px;\"/></g><path class=\"xlines-below\"/><path class=\"ylines-below\"/><g class=\"overlines-below\"/><g class=\"xaxislayer-below\"/><g class=\"yaxislayer-below\"/><g class=\"overaxes-below\"/><g class=\"plot\" transform=\"translate(36, 46)\" clip-path=\"url('#clip923604xyplot')\"><g class=\"barlayer mlayer\"><g class=\"trace bars\" shape-rendering=\"crispEdges\" style=\"opacity: 1;\"><g class=\"points\"><g class=\"point\"><path d=\"M0,274V269.43H17.14V274Z\" style=\"vector-effect: non-scaling-stroke; opacity: 1; stroke-width: 0px; fill: rgb(31, 119, 180); fill-opacity: 1;\"/></g><g class=\"point\"><path d=\"M17.14,274V271.72H34.27V274Z\" style=\"vector-effect: non-scaling-stroke; opacity: 1; stroke-width: 0px; fill: rgb(31, 119, 180); fill-opacity: 1;\"/></g><g class=\"point\"><path d=\"M34.27,274V267.15H51.41V274Z\" style=\"vector-effect: non-scaling-stroke; opacity: 1; stroke-width: 0px; fill: rgb(31, 119, 180); fill-opacity: 1;\"/></g><g class=\"point\"><path d=\"M51.41,274V267.15H68.54V274Z\" style=\"vector-effect: non-scaling-stroke; opacity: 1; stroke-width: 0px; fill: rgb(31, 119, 180); fill-opacity: 1;\"/></g><g class=\"point\"><path d=\"M68.54,274V267.15H85.68V274Z\" style=\"vector-effect: non-scaling-stroke; opacity: 1; stroke-width: 0px; fill: rgb(31, 119, 180); fill-opacity: 1;\"/></g><g class=\"point\"><path d=\"M85.68,274V269.43H102.81V274Z\" style=\"vector-effect: non-scaling-stroke; opacity: 1; stroke-width: 0px; fill: rgb(31, 119, 180); fill-opacity: 1;\"/></g><g class=\"point\"><path d=\"M102.81,274V262.58H119.95V274Z\" style=\"vector-effect: non-scaling-stroke; opacity: 1; stroke-width: 0px; fill: rgb(31, 119, 180); fill-opacity: 1;\"/></g><g class=\"point\"><path d=\"M119.95,274V260.3H137.08V274Z\" style=\"vector-effect: non-scaling-stroke; opacity: 1; stroke-width: 0px; fill: rgb(31, 119, 180); fill-opacity: 1;\"/></g><g class=\"point\"><path d=\"M137.08,274V260.3H154.22V274Z\" style=\"vector-effect: non-scaling-stroke; opacity: 1; stroke-width: 0px; fill: rgb(31, 119, 180); fill-opacity: 1;\"/></g><g class=\"point\"><path d=\"M154.22,274V264.87H171.35V274Z\" style=\"vector-effect: non-scaling-stroke; opacity: 1; stroke-width: 0px; fill: rgb(31, 119, 180); fill-opacity: 1;\"/></g><g class=\"point\"><path d=\"M171.35,274V221.48H188.49V274Z\" style=\"vector-effect: non-scaling-stroke; opacity: 1; stroke-width: 0px; fill: rgb(31, 119, 180); fill-opacity: 1;\"/></g><g class=\"point\"><path d=\"M188.49,274V214.63H205.62V274Z\" style=\"vector-effect: non-scaling-stroke; opacity: 1; stroke-width: 0px; fill: rgb(31, 119, 180); fill-opacity: 1;\"/></g><g class=\"point\"><path d=\"M205.62,274V228.33H222.76V274Z\" style=\"vector-effect: non-scaling-stroke; opacity: 1; stroke-width: 0px; fill: rgb(31, 119, 180); fill-opacity: 1;\"/></g><g class=\"point\"><path d=\"M222.76,274V203.22H239.89V274Z\" style=\"vector-effect: non-scaling-stroke; opacity: 1; stroke-width: 0px; fill: rgb(31, 119, 180); fill-opacity: 1;\"/></g><g class=\"point\"><path d=\"M239.89,274V207.78H257.03V274Z\" style=\"vector-effect: non-scaling-stroke; opacity: 1; stroke-width: 0px; fill: rgb(31, 119, 180); fill-opacity: 1;\"/></g><g class=\"point\"><path d=\"M257.03,274V223.77H274.16V274Z\" style=\"vector-effect: non-scaling-stroke; opacity: 1; stroke-width: 0px; fill: rgb(31, 119, 180); fill-opacity: 1;\"/></g><g class=\"point\"><path d=\"M274.16,274V194.08H291.3V274Z\" style=\"vector-effect: non-scaling-stroke; opacity: 1; stroke-width: 0px; fill: rgb(31, 119, 180); fill-opacity: 1;\"/></g><g class=\"point\"><path d=\"M291.3,274V184.95H308.43V274Z\" style=\"vector-effect: non-scaling-stroke; opacity: 1; stroke-width: 0px; fill: rgb(31, 119, 180); fill-opacity: 1;\"/></g><g class=\"point\"><path d=\"M308.43,274V175.82H325.57V274Z\" style=\"vector-effect: non-scaling-stroke; opacity: 1; stroke-width: 0px; fill: rgb(31, 119, 180); fill-opacity: 1;\"/></g><g class=\"point\"><path d=\"M325.57,274V203.22H342.7V274Z\" style=\"vector-effect: non-scaling-stroke; opacity: 1; stroke-width: 0px; fill: rgb(31, 119, 180); fill-opacity: 1;\"/></g><g class=\"point\"><path d=\"M342.7,274V194.08H359.84V274Z\" style=\"vector-effect: non-scaling-stroke; opacity: 1; stroke-width: 0px; fill: rgb(31, 119, 180); fill-opacity: 1;\"/></g><g class=\"point\"><path d=\"M359.84,274V232.9H376.97V274Z\" style=\"vector-effect: non-scaling-stroke; opacity: 1; stroke-width: 0px; fill: rgb(31, 119, 180); fill-opacity: 1;\"/></g><g class=\"point\"><path d=\"M376.97,274V239.75H394.11V274Z\" style=\"vector-effect: non-scaling-stroke; opacity: 1; stroke-width: 0px; fill: rgb(31, 119, 180); fill-opacity: 1;\"/></g><g class=\"point\"><path d=\"M394.11,274V232.9H411.24V274Z\" style=\"vector-effect: non-scaling-stroke; opacity: 1; stroke-width: 0px; fill: rgb(31, 119, 180); fill-opacity: 1;\"/></g><g class=\"point\"><path d=\"M411.24,274V219.2H428.38V274Z\" style=\"vector-effect: non-scaling-stroke; opacity: 1; stroke-width: 0px; fill: rgb(31, 119, 180); fill-opacity: 1;\"/></g><g class=\"point\"><path d=\"M428.38,274V152.98H445.51V274Z\" style=\"vector-effect: non-scaling-stroke; opacity: 1; stroke-width: 0px; fill: rgb(31, 119, 180); fill-opacity: 1;\"/></g><g class=\"point\"><path d=\"M445.51,274V109.6H462.65V274Z\" style=\"vector-effect: non-scaling-stroke; opacity: 1; stroke-width: 0px; fill: rgb(31, 119, 180); fill-opacity: 1;\"/></g><g class=\"point\"><path d=\"M462.65,274V109.6H479.78V274Z\" style=\"vector-effect: non-scaling-stroke; opacity: 1; stroke-width: 0px; fill: rgb(31, 119, 180); fill-opacity: 1;\"/></g><g class=\"point\"><path d=\"M479.78,274V146.13H496.92V274Z\" style=\"vector-effect: non-scaling-stroke; opacity: 1; stroke-width: 0px; fill: rgb(31, 119, 180); fill-opacity: 1;\"/></g><g class=\"point\"><path d=\"M496.92,274V159.83H514.05V274Z\" style=\"vector-effect: non-scaling-stroke; opacity: 1; stroke-width: 0px; fill: rgb(31, 119, 180); fill-opacity: 1;\"/></g><g class=\"point\"><path d=\"M514.05,274V114.17H531.19V274Z\" style=\"vector-effect: non-scaling-stroke; opacity: 1; stroke-width: 0px; fill: rgb(31, 119, 180); fill-opacity: 1;\"/></g><g class=\"point\"><path d=\"M531.19,274V95.9H548.32V274Z\" style=\"vector-effect: non-scaling-stroke; opacity: 1; stroke-width: 0px; fill: rgb(31, 119, 180); fill-opacity: 1;\"/></g><g class=\"point\"><path d=\"M548.32,274V130.15H565.46V274Z\" style=\"vector-effect: non-scaling-stroke; opacity: 1; stroke-width: 0px; fill: rgb(31, 119, 180); fill-opacity: 1;\"/></g><g class=\"point\"><path d=\"M565.46,274V13.7H582.59V274Z\" style=\"vector-effect: non-scaling-stroke; opacity: 1; stroke-width: 0px; fill: rgb(31, 119, 180); fill-opacity: 1;\"/></g><g class=\"point\"><path d=\"M582.59,274V150.7H599.73V274Z\" style=\"vector-effect: non-scaling-stroke; opacity: 1; stroke-width: 0px; fill: rgb(31, 119, 180); fill-opacity: 1;\"/></g><g class=\"point\"><path d=\"M599.73,274V121.02H616.86V274Z\" style=\"vector-effect: non-scaling-stroke; opacity: 1; stroke-width: 0px; fill: rgb(31, 119, 180); fill-opacity: 1;\"/></g><g class=\"point\"><path d=\"M616.86,274V221.48H634V274Z\" style=\"vector-effect: non-scaling-stroke; opacity: 1; stroke-width: 0px; fill: rgb(31, 119, 180); fill-opacity: 1;\"/></g></g></g></g></g><g class=\"overplot\"/><path class=\"xlines-above crisp\" d=\"M0,0\" style=\"fill: none;\"/><path class=\"ylines-above crisp\" d=\"M0,0\" style=\"fill: none;\"/><g class=\"overlines-above\"/><g class=\"xaxislayer-above\"><g class=\"xtick\"><text text-anchor=\"middle\" x=\"0\" y=\"333\" transform=\"translate(36,0)\" style=\"font-family: 'Open Sans', verdana, arial, sans-serif; font-size: 12px; fill: rgb(42, 63, 95); fill-opacity: 1; white-space: pre;\">−0.07</text></g><g class=\"xtick\"><text text-anchor=\"middle\" x=\"0\" y=\"333\" transform=\"translate(121.68,0)\" style=\"font-family: 'Open Sans', verdana, arial, sans-serif; font-size: 12px; fill: rgb(42, 63, 95); fill-opacity: 1; white-space: pre;\">−0.06</text></g><g class=\"xtick\"><text text-anchor=\"middle\" x=\"0\" y=\"333\" transform=\"translate(207.35,0)\" style=\"font-family: 'Open Sans', verdana, arial, sans-serif; font-size: 12px; fill: rgb(42, 63, 95); fill-opacity: 1; white-space: pre;\">−0.05</text></g><g class=\"xtick\"><text text-anchor=\"middle\" x=\"0\" y=\"333\" transform=\"translate(293.03,0)\" style=\"font-family: 'Open Sans', verdana, arial, sans-serif; font-size: 12px; fill: rgb(42, 63, 95); fill-opacity: 1; white-space: pre;\">−0.04</text></g><g class=\"xtick\"><text text-anchor=\"middle\" x=\"0\" y=\"333\" transform=\"translate(378.7,0)\" style=\"font-family: 'Open Sans', verdana, arial, sans-serif; font-size: 12px; fill: rgb(42, 63, 95); fill-opacity: 1; white-space: pre;\">−0.03</text></g><g class=\"xtick\"><text text-anchor=\"middle\" x=\"0\" y=\"333\" transform=\"translate(464.38,0)\" style=\"font-family: 'Open Sans', verdana, arial, sans-serif; font-size: 12px; fill: rgb(42, 63, 95); fill-opacity: 1; white-space: pre;\">−0.02</text></g><g class=\"xtick\"><text text-anchor=\"middle\" x=\"0\" y=\"333\" transform=\"translate(550.05,0)\" style=\"font-family: 'Open Sans', verdana, arial, sans-serif; font-size: 12px; fill: rgb(42, 63, 95); fill-opacity: 1; white-space: pre;\">−0.01</text></g><g class=\"xtick\"><text text-anchor=\"middle\" x=\"0\" y=\"333\" transform=\"translate(635.73,0)\" style=\"font-family: 'Open Sans', verdana, arial, sans-serif; font-size: 12px; fill: rgb(42, 63, 95); fill-opacity: 1; white-space: pre;\">0</text></g></g><g class=\"yaxislayer-above\"><g class=\"ytick\"><text text-anchor=\"end\" x=\"35\" y=\"4.199999999999999\" transform=\"translate(0,320)\" style=\"font-family: 'Open Sans', verdana, arial, sans-serif; font-size: 12px; fill: rgb(42, 63, 95); fill-opacity: 1; white-space: pre;\">0</text></g><g class=\"ytick\"><text text-anchor=\"end\" x=\"35\" y=\"4.199999999999999\" transform=\"translate(0,274.33000000000004)\" style=\"font-family: 'Open Sans', verdana, arial, sans-serif; font-size: 12px; fill: rgb(42, 63, 95); fill-opacity: 1; white-space: pre;\">20</text></g><g class=\"ytick\"><text text-anchor=\"end\" x=\"35\" y=\"4.199999999999999\" transform=\"translate(0,228.67)\" style=\"font-family: 'Open Sans', verdana, arial, sans-serif; font-size: 12px; fill: rgb(42, 63, 95); fill-opacity: 1; white-space: pre;\">40</text></g><g class=\"ytick\"><text text-anchor=\"end\" x=\"35\" y=\"4.199999999999999\" transform=\"translate(0,183)\" style=\"font-family: 'Open Sans', verdana, arial, sans-serif; font-size: 12px; fill: rgb(42, 63, 95); fill-opacity: 1; white-space: pre;\">60</text></g><g class=\"ytick\"><text text-anchor=\"end\" x=\"35\" y=\"4.199999999999999\" transform=\"translate(0,137.32999999999998)\" style=\"font-family: 'Open Sans', verdana, arial, sans-serif; font-size: 12px; fill: rgb(42, 63, 95); fill-opacity: 1; white-space: pre;\">80</text></g><g class=\"ytick\"><text text-anchor=\"end\" x=\"35\" y=\"4.199999999999999\" transform=\"translate(0,91.67)\" style=\"font-family: 'Open Sans', verdana, arial, sans-serif; font-size: 12px; fill: rgb(42, 63, 95); fill-opacity: 1; white-space: pre;\">100</text></g><g class=\"ytick\"><text text-anchor=\"end\" x=\"35\" y=\"4.199999999999999\" transform=\"translate(0,46)\" style=\"font-family: 'Open Sans', verdana, arial, sans-serif; font-size: 12px; fill: rgb(42, 63, 95); fill-opacity: 1; white-space: pre;\">120</text></g></g><g class=\"overaxes-above\"/></g></g><g class=\"polarlayer\"/><g class=\"ternarylayer\"/><g class=\"geolayer\"/><g class=\"funnelarealayer\"/><g class=\"pielayer\"/><g class=\"treemaplayer\"/><g class=\"sunburstlayer\"/><g class=\"glimages\"/><defs id=\"topdefs-923604\"><g class=\"clips\"/><clipPath id=\"legend923604\"><rect width=\"118\" height=\"29\" x=\"0\" y=\"0\"/></clipPath></defs><g class=\"layer-above\"><g class=\"imagelayer\"/><g class=\"shapelayer\"/></g><g class=\"infolayer\"><g class=\"legend\" pointer-events=\"all\" transform=\"translate(552, 11.519999999999996)\"><rect class=\"bg\" shape-rendering=\"crispEdges\" style=\"stroke: rgb(68, 68, 68); stroke-opacity: 1; fill: rgb(255, 255, 255); fill-opacity: 1; stroke-width: 0px;\" width=\"118\" height=\"29\" x=\"0\" y=\"0\"/><g class=\"scrollbox\" transform=\"translate(0, 0)\" clip-path=\"url('#legend923604')\"><g class=\"groups\"><g class=\"traces\" transform=\"translate(0, 14.5)\" style=\"opacity: 1;\"><text class=\"legendtext\" text-anchor=\"start\" x=\"40\" y=\"4.680000000000001\" style=\"font-family: 'Open Sans', verdana, arial, sans-serif; font-size: 12px; fill: rgb(42, 63, 95); fill-opacity: 1; white-space: pre;\">total_return</text><g class=\"layers\" style=\"opacity: 1;\"><g class=\"legendfill\"/><g class=\"legendlines\"/><g class=\"legendsymbols\"><g class=\"legendpoints\"><path class=\"legendundefined\" d=\"M6,6H-6V-6H6Z\" transform=\"translate(20,0)\" style=\"stroke-width: 0px; fill: rgb(31, 119, 180); fill-opacity: 1;\"/></g></g></g><rect class=\"legendtoggle\" x=\"0\" y=\"-9.5\" width=\"114.6875\" height=\"19\" style=\"fill: rgb(0, 0, 0); fill-opacity: 0;\"/></g></g></g><rect class=\"scrollbar\" rx=\"20\" ry=\"3\" width=\"0\" height=\"0\" style=\"fill: rgb(128, 139, 164); fill-opacity: 1;\" x=\"0\" y=\"0\"/></g><g class=\"g-gtitle\"/><g class=\"g-xtitle\"/><g class=\"g-ytitle\"/></g></svg>"
      ]
     },
     "metadata": {},
     "output_type": "display_data"
    }
   ],
   "source": [
    "print(vbt_portfolio_mult.total_return().sort_values())\n",
    "\n",
    "vbt_portfolio_mult.total_return().vbt.histplot().show_svg()"
   ]
  },
  {
   "cell_type": "code",
   "execution_count": 67,
   "metadata": {},
   "outputs": [
    {
     "name": "stdout",
     "output_type": "stream",
     "text": [
      "2.13 s ± 12.6 ms per loop (mean ± std. dev. of 7 runs, 1 loop each)\n"
     ]
    }
   ],
   "source": [
    "# How fast is vbt?\n",
    "%timeit simulate_mult_from_order_func(periods, uppers, lowers)"
   ]
  },
  {
   "cell_type": "markdown",
   "metadata": {},
   "source": [
    "Even though the strategy is profitable on paper, the majority of hyperparameter combinations yield a loss, so finding a proper \"slice\" of hyperparameters is just a question of luck when relying on a single backtest. Thanks to vectorbt, we can do thousands of tests in seconds to validate our strategy - the same would last hours using conventional libraries."
   ]
  },
  {
   "cell_type": "code",
   "execution_count": null,
   "metadata": {},
   "outputs": [],
   "source": []
  }
 ],
 "metadata": {
  "kernelspec": {
   "display_name": "Python 3",
   "language": "python",
   "name": "python3"
  },
  "language_info": {
   "codemirror_mode": {
    "name": "ipython",
    "version": 3
   },
   "file_extension": ".py",
   "mimetype": "text/x-python",
   "name": "python",
   "nbconvert_exporter": "python",
   "pygments_lexer": "ipython3",
   "version": "3.7.3"
  }
 },
 "nbformat": 4,
 "nbformat_minor": 4
}
