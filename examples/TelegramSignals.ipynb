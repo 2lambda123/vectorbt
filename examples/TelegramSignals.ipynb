{
 "cells": [
  {
   "cell_type": "code",
   "execution_count": 1,
   "metadata": {},
   "outputs": [],
   "source": [
    "import time\n",
    "import pandas as pd\n",
    "import vectorbt as vbt\n",
    "import logging\n",
    "from binance import enums"
   ]
  },
  {
   "cell_type": "code",
   "execution_count": 2,
   "metadata": {},
   "outputs": [],
   "source": [
    "logging.basicConfig(format='%(asctime)s - %(name)s - %(levelname)s - %(message)s', level=logging.INFO)\n",
    "logger = logging.getLogger(__name__)"
   ]
  },
  {
   "cell_type": "code",
   "execution_count": 3,
   "metadata": {},
   "outputs": [],
   "source": [
    "# Binance\n",
    "vbt.settings.data['binance']['api_key'] =  \"YOUR_API_KEY\"\n",
    "vbt.settings.data['binance']['api_secret'] = \"YOUR_API_SECRET\"\n",
    "\n",
    "# Telegram\n",
    "vbt.settings.messaging['telegram']['token'] = \"YOUR_TOKEN\"\n",
    "\n",
    "# Giphy\n",
    "vbt.settings.messaging['giphy']['api_key'] = \"YOUR_API_KEY\"\n",
    "\n",
    "# Data\n",
    "SYMBOLS = ['BTCUSDT', 'ETHUSDT', 'ADAUSDT']\n",
    "START = '1 hour ago UTC'\n",
    "INTERVAL = enums.KLINE_INTERVAL_1MINUTE\n",
    "UPDATE_EVERY = vbt.utils.datetime.interval_to_ms(INTERVAL) // 1000  # in seconds\n",
    "TZ_CONVERT = vbt.utils.datetime.get_utc_tz()\n",
    "DT_FORMAT = '%d %b %Y %H:%M:%S %z'\n",
    "IND_PARAMS = dict(\n",
    "    timeperiod=20, \n",
    "    nbdevup=2, \n",
    "    nbdevdn=2\n",
    ")\n",
    "CHANGE_NBDEV = 2"
   ]
  },
  {
   "cell_type": "code",
   "execution_count": 4,
   "metadata": {},
   "outputs": [
    {
     "name": "stdout",
     "output_type": "stream",
     "text": [
      "DatetimeIndex(['2021-03-22 13:21:00+00:00', '2021-03-22 13:22:00+00:00',\n",
      "               '2021-03-22 13:23:00+00:00', '2021-03-22 13:24:00+00:00',\n",
      "               '2021-03-22 13:25:00+00:00', '2021-03-22 13:26:00+00:00',\n",
      "               '2021-03-22 13:27:00+00:00', '2021-03-22 13:28:00+00:00',\n",
      "               '2021-03-22 13:29:00+00:00', '2021-03-22 13:30:00+00:00',\n",
      "               '2021-03-22 13:31:00+00:00', '2021-03-22 13:32:00+00:00',\n",
      "               '2021-03-22 13:33:00+00:00', '2021-03-22 13:34:00+00:00',\n",
      "               '2021-03-22 13:35:00+00:00', '2021-03-22 13:36:00+00:00',\n",
      "               '2021-03-22 13:37:00+00:00', '2021-03-22 13:38:00+00:00',\n",
      "               '2021-03-22 13:39:00+00:00', '2021-03-22 13:40:00+00:00',\n",
      "               '2021-03-22 13:41:00+00:00', '2021-03-22 13:42:00+00:00',\n",
      "               '2021-03-22 13:43:00+00:00', '2021-03-22 13:44:00+00:00',\n",
      "               '2021-03-22 13:45:00+00:00', '2021-03-22 13:46:00+00:00',\n",
      "               '2021-03-22 13:47:00+00:00', '2021-03-22 13:48:00+00:00',\n",
      "               '2021-03-22 13:49:00+00:00', '2021-03-22 13:50:00+00:00',\n",
      "               '2021-03-22 13:51:00+00:00', '2021-03-22 13:52:00+00:00',\n",
      "               '2021-03-22 13:53:00+00:00', '2021-03-22 13:54:00+00:00',\n",
      "               '2021-03-22 13:55:00+00:00', '2021-03-22 13:56:00+00:00',\n",
      "               '2021-03-22 13:57:00+00:00', '2021-03-22 13:58:00+00:00',\n",
      "               '2021-03-22 13:59:00+00:00', '2021-03-22 14:00:00+00:00',\n",
      "               '2021-03-22 14:01:00+00:00', '2021-03-22 14:02:00+00:00',\n",
      "               '2021-03-22 14:03:00+00:00', '2021-03-22 14:04:00+00:00',\n",
      "               '2021-03-22 14:05:00+00:00', '2021-03-22 14:06:00+00:00',\n",
      "               '2021-03-22 14:07:00+00:00', '2021-03-22 14:08:00+00:00',\n",
      "               '2021-03-22 14:09:00+00:00', '2021-03-22 14:10:00+00:00',\n",
      "               '2021-03-22 14:11:00+00:00', '2021-03-22 14:12:00+00:00',\n",
      "               '2021-03-22 14:13:00+00:00', '2021-03-22 14:14:00+00:00',\n",
      "               '2021-03-22 14:15:00+00:00', '2021-03-22 14:16:00+00:00',\n",
      "               '2021-03-22 14:17:00+00:00', '2021-03-22 14:18:00+00:00',\n",
      "               '2021-03-22 14:19:00+00:00', '2021-03-22 14:20:00+00:00'],\n",
      "              dtype='datetime64[ns, UTC]', name='Open time', freq='T')\n"
     ]
    }
   ],
   "source": [
    "data = vbt.BinanceData.download(\n",
    "    SYMBOLS, \n",
    "    start=START, \n",
    "    end='now UTC', \n",
    "    interval=INTERVAL, \n",
    "    tz_convert=TZ_CONVERT\n",
    ")\n",
    "\n",
    "print(data.wrapper.index)"
   ]
  },
  {
   "cell_type": "code",
   "execution_count": 5,
   "metadata": {},
   "outputs": [],
   "source": [
    "def get_bbands(data):\n",
    "    return vbt.IndicatorFactory.from_talib('BBANDS').run(\n",
    "        data.get('Close'), **IND_PARAMS, hide_params=list(IND_PARAMS.keys()))\n",
    "\n",
    "\n",
    "def get_info(bbands):\n",
    "    info = dict()\n",
    "    info['last_price'] = bbands.close.iloc[-1]\n",
    "    info['last_change'] = (bbands.close.iloc[-1] - bbands.close.iloc[-2]) / bbands.close.iloc[-1]\n",
    "    info['last_crossed_above_upper'] = bbands.close_above(bbands.upperband, crossover=True).iloc[-1]\n",
    "    info['last_crossed_below_upper'] = bbands.close_below(bbands.upperband, crossover=True).iloc[-1]\n",
    "    info['last_crossed_below_lower'] = bbands.close_below(bbands.lowerband, crossover=True).iloc[-1]\n",
    "    info['last_crossed_above_lower'] = bbands.close_above(bbands.lowerband, crossover=True).iloc[-1]\n",
    "    info['bw'] = (bbands.upperband - bbands.lowerband) / bbands.middleband\n",
    "    info['last_bw_zscore'] = info['bw'].vbt.zscore().iloc[-1]\n",
    "    info['last_change_zscore'] = bbands.close.vbt.pct_change().vbt.zscore().iloc[-1]\n",
    "    info['last_change_pos'] = info['last_change_zscore'] >= CHANGE_NBDEV\n",
    "    info['last_change_neg'] = info['last_change_zscore'] <= -CHANGE_NBDEV\n",
    "    return info\n",
    "\n",
    "\n",
    "def format_symbol_info(symbol, info):\n",
    "    last_change = info['last_change'][symbol]\n",
    "    last_price = info['last_price'][symbol]\n",
    "    last_bw_zscore = info['last_bw_zscore'][symbol]\n",
    "    return \"{} ({:.2%}, {}, {:.2f})\".format(symbol, last_change, last_price, last_bw_zscore)\n",
    "\n",
    "\n",
    "def format_signals_info(emoji, signals, info):\n",
    "    symbols = signals.index[signals]\n",
    "    symbol_msgs = []\n",
    "    for symbol in symbols:\n",
    "        symbol_msgs.append(format_symbol_info(symbol, info))\n",
    "    return \"{} {}\".format(emoji, ', '.join(symbol_msgs))"
   ]
  },
  {
   "cell_type": "code",
   "execution_count": 6,
   "metadata": {},
   "outputs": [],
   "source": [
    "from telegram.ext import CommandHandler\n",
    "\n",
    "class MyTelegramBot(vbt.TelegramBot):\n",
    "    def __init__(self, data, *args, **kwargs):\n",
    "        super().__init__(data=data, *args, **kwargs)\n",
    "        \n",
    "        self.data = data\n",
    "        self.update_ts = data.wrapper.index[-1]\n",
    "        \n",
    "    @property\n",
    "    def custom_handlers(self):\n",
    "        return (CommandHandler('info', self.info_callback),)\n",
    "    \n",
    "    def info_callback(self, update, context):\n",
    "        chat_id = update.effective_chat.id\n",
    "        if len(context.args) != 1:\n",
    "            self.send_message(chat_id, \"Please provide one symbol.\")\n",
    "            return\n",
    "        symbol = context.args[0]\n",
    "        if symbol not in SYMBOLS:\n",
    "            self.send_message(chat_id, f\"There is no such symbol as \\\"{symbol}\\\".\")\n",
    "            return\n",
    "            \n",
    "        bbands = get_bbands(self.data)\n",
    "        info = get_info(bbands)\n",
    "        messages = [format_symbol_info(symbol, info)]\n",
    "        message = '\\n'.join([\"{}:\".format(self.update_ts.strftime(DT_FORMAT))] + messages)\n",
    "        self.send_message(chat_id, message)\n",
    "        \n",
    "    @property\n",
    "    def start_message(self):\n",
    "        index = self.data.wrapper.index\n",
    "        return f\"\"\"Hello! \n",
    "\n",
    "Starting with {len(index)} rows from {index[0].strftime(DT_FORMAT)} to {index[-1].strftime(DT_FORMAT)}.\"\"\"\n",
    "        \n",
    "    @property\n",
    "    def help_message(self):\n",
    "        return \"\"\"Message format:\n",
    "[event] [symbol] ([price change], [new price], [bandwidth z-score])\n",
    "    \n",
    "Event legend:\n",
    "⬆️ - Price went above upper band\n",
    "⤵️ - Price retraced below upper band\n",
    "⬇️ - Price went below lower band\n",
    "⤴️ - Price retraced above lower band\n",
    "\n",
    "GIF is sent once a band is crossed and the price change is 2 stds from the mean.\"\"\""
   ]
  },
  {
   "cell_type": "code",
   "execution_count": 7,
   "metadata": {},
   "outputs": [
    {
     "name": "stderr",
     "output_type": "stream",
     "text": [
      "2021-03-22 15:20:14,468 - vectorbt.utils.messaging - INFO - Initializing bot\n",
      "2021-03-22 15:20:14,487 - vectorbt.utils.messaging - INFO - Loaded chat ids [447924619]\n",
      "2021-03-22 15:20:14,591 - vectorbt.utils.messaging - INFO - Running bot vectorbt_bot\n",
      "2021-03-22 15:20:14,592 - apscheduler.scheduler - INFO - Scheduler started\n"
     ]
    }
   ],
   "source": [
    "telegram_bot = MyTelegramBot(data)\n",
    "telegram_bot.start(in_background=True)"
   ]
  },
  {
   "cell_type": "code",
   "execution_count": 8,
   "metadata": {},
   "outputs": [],
   "source": [
    "class MyDataUpdater(vbt.DataUpdater):\n",
    "    def __init__(self, data, telegram_bot, **kwargs):\n",
    "        super().__init__(data, telegram_bot=telegram_bot, **kwargs)\n",
    "        \n",
    "        self.telegram_bot = telegram_bot\n",
    "        self.update_ts = data.wrapper.index[-1]\n",
    "        \n",
    "    def update(self):\n",
    "        super().update()\n",
    "        self.update_ts = pd.Timestamp.now(tz=TZ_CONVERT)\n",
    "        self.telegram_bot.data = self.data\n",
    "        self.telegram_bot.update_ts = self.update_ts\n",
    "        \n",
    "        bbands = get_bbands(self.data)\n",
    "        info = get_info(bbands)\n",
    "        \n",
    "        messages = []\n",
    "        if info['last_crossed_above_upper'].any():\n",
    "            messages.append(format_signals_info('⬆️', info['last_crossed_above_upper'], info))\n",
    "        if info['last_crossed_below_upper'].any():\n",
    "            messages.append(format_signals_info('⤵️', info['last_crossed_below_upper'], info))\n",
    "        if info['last_crossed_below_lower'].any():\n",
    "            messages.append(format_signals_info('⬇️', info['last_crossed_below_lower'], info))\n",
    "        if info['last_crossed_above_lower'].any():\n",
    "            messages.append(format_signals_info('⤴️', info['last_crossed_above_lower'], info))\n",
    "            \n",
    "        if len(messages) > 0:\n",
    "            message = '\\n'.join([\"{}:\".format(self.update_ts.strftime(DT_FORMAT))] + messages)\n",
    "            self.telegram_bot.send_message_to_all(message)\n",
    "        if (info['last_crossed_above_upper'] & info['last_change_pos']).any():\n",
    "            self.telegram_bot.send_giphy_to_all(\"launch\")\n",
    "        if (info['last_crossed_below_lower'] & info['last_change_neg']).any():\n",
    "            self.telegram_bot.send_giphy_to_all(\"fall\")"
   ]
  },
  {
   "cell_type": "code",
   "execution_count": 9,
   "metadata": {},
   "outputs": [
    {
     "name": "stderr",
     "output_type": "stream",
     "text": [
      "2021-03-22 15:20:14,756 - vectorbt.utils.schedule - INFO - Starting schedule manager with jobs [Every 10 seconds do update() (last run: [never], next run: 2021-03-22 15:20:24)]\n",
      "2021-03-22 15:20:26,670 - vectorbt.data.updater - INFO - Updated data has 60 rows from 2021-03-22 13:21:00+00:00 to 2021-03-22 14:20:00+00:00\n",
      "2021-03-22 15:20:26,868 - numexpr.utils - INFO - NumExpr defaulting to 4 threads.\n",
      "2021-03-22 15:20:38,956 - vectorbt.data.updater - INFO - Updated data has 60 rows from 2021-03-22 13:21:00+00:00 to 2021-03-22 14:20:00+00:00\n",
      "2021-03-22 15:20:50,839 - vectorbt.data.updater - INFO - Updated data has 60 rows from 2021-03-22 13:21:00+00:00 to 2021-03-22 14:20:00+00:00\n",
      "2021-03-22 15:21:03,031 - vectorbt.data.updater - INFO - Updated data has 61 rows from 2021-03-22 13:21:00+00:00 to 2021-03-22 14:21:00+00:00\n",
      "2021-03-22 15:21:15,360 - vectorbt.data.updater - INFO - Updated data has 61 rows from 2021-03-22 13:21:00+00:00 to 2021-03-22 14:21:00+00:00\n",
      "2021-03-22 15:21:27,299 - vectorbt.data.updater - INFO - Updated data has 61 rows from 2021-03-22 13:21:00+00:00 to 2021-03-22 14:21:00+00:00\n",
      "2021-03-22 15:21:39,220 - vectorbt.data.updater - INFO - Updated data has 61 rows from 2021-03-22 13:21:00+00:00 to 2021-03-22 14:21:00+00:00\n",
      "2021-03-22 15:21:51,152 - vectorbt.data.updater - INFO - Updated data has 61 rows from 2021-03-22 13:21:00+00:00 to 2021-03-22 14:21:00+00:00\n",
      "2021-03-22 15:22:03,439 - vectorbt.data.updater - INFO - Updated data has 62 rows from 2021-03-22 13:21:00+00:00 to 2021-03-22 14:22:00+00:00\n",
      "2021-03-22 15:22:03,628 - vectorbt.utils.messaging - INFO - 447924619 - Bot: \"22 Mar 2021 14:22:03 +0000:\n",
      "⤴️ BTCUSDT (0.02%, 56986.3, -1.25)\"\n",
      "2021-03-22 15:22:15,524 - vectorbt.data.updater - INFO - Updated data has 62 rows from 2021-03-22 13:21:00+00:00 to 2021-03-22 14:22:00+00:00\n",
      "2021-03-22 15:22:15,694 - vectorbt.utils.messaging - INFO - 447924619 - Bot: \"22 Mar 2021 14:22:15 +0000:\n",
      "⤴️ BTCUSDT (0.03%, 56996.0, -1.27)\"\n",
      "2021-03-22 15:22:27,455 - vectorbt.data.updater - INFO - Updated data has 62 rows from 2021-03-22 13:21:00+00:00 to 2021-03-22 14:22:00+00:00\n",
      "2021-03-22 15:22:27,563 - vectorbt.utils.messaging - INFO - 447924619 - Bot: \"22 Mar 2021 14:22:27 +0000:\n",
      "⤴️ BTCUSDT (0.02%, 56988.58, -1.26)\"\n",
      "2021-03-22 15:22:39,485 - vectorbt.data.updater - INFO - Updated data has 62 rows from 2021-03-22 13:21:00+00:00 to 2021-03-22 14:22:00+00:00\n",
      "2021-03-22 15:22:39,649 - vectorbt.utils.schedule - INFO - Stopping schedule manager\n"
     ]
    }
   ],
   "source": [
    "data_updater = MyDataUpdater(data, telegram_bot)\n",
    "data_updater.update_every(UPDATE_EVERY)"
   ]
  },
  {
   "cell_type": "code",
   "execution_count": 10,
   "metadata": {},
   "outputs": [
    {
     "name": "stderr",
     "output_type": "stream",
     "text": [
      "2021-03-22 15:22:39,661 - vectorbt.utils.messaging - INFO - Stopping bot\n",
      "2021-03-22 15:22:39,664 - apscheduler.scheduler - INFO - Scheduler has been shut down\n"
     ]
    }
   ],
   "source": [
    "telegram_bot.stop()"
   ]
  },
  {
   "cell_type": "code",
   "execution_count": null,
   "metadata": {},
   "outputs": [],
   "source": []
  }
 ],
 "metadata": {
  "kernelspec": {
   "display_name": "Python 3",
   "language": "python",
   "name": "python3"
  },
  "language_info": {
   "codemirror_mode": {
    "name": "ipython",
    "version": 3
   },
   "file_extension": ".py",
   "mimetype": "text/x-python",
   "name": "python",
   "nbconvert_exporter": "python",
   "pygments_lexer": "ipython3",
   "version": "3.7.3"
  }
 },
 "nbformat": 4,
 "nbformat_minor": 4
}
