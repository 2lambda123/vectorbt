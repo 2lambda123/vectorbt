{
 "cells": [
  {
   "cell_type": "code",
   "execution_count": 1,
   "metadata": {},
   "outputs": [],
   "source": [
    "import numpy as np\n",
    "import pandas as pd\n",
    "import vectorbt as vbt"
   ]
  },
  {
   "cell_type": "code",
   "execution_count": 2,
   "metadata": {},
   "outputs": [],
   "source": [
    "split_kwargs = dict(\n",
    "    n=30, \n",
    "    window_len=365 * 2, \n",
    "    set_lens=(180,), \n",
    "    left_to_right=False\n",
    ")  # 30 windows, each 2 years long, reserve 180 days for test\n",
    "portfolio_kwargs = dict(\n",
    "    direction='all',  # long and short\n",
    "    freq='d'\n",
    ")\n",
    "windows = np.arange(10, 50)"
   ]
  },
  {
   "cell_type": "code",
   "execution_count": 3,
   "metadata": {},
   "outputs": [],
   "source": [
    "price = vbt.YFData.download('BTC-USD').get('Close')"
   ]
  },
  {
   "cell_type": "code",
   "execution_count": 4,
   "metadata": {},
   "outputs": [
    {
     "name": "stdout",
     "output_type": "stream",
     "text": [
      "Date\n",
      "2014-09-17 00:00:00+00:00      457.334015\n",
      "2014-09-18 00:00:00+00:00      424.440002\n",
      "2014-09-19 00:00:00+00:00      394.795990\n",
      "2014-09-20 00:00:00+00:00      408.903992\n",
      "2014-09-21 00:00:00+00:00      398.821014\n",
      "                                 ...     \n",
      "2021-05-12 00:00:00+00:00    49150.535156\n",
      "2021-05-13 00:00:00+00:00    49716.191406\n",
      "2021-05-14 00:00:00+00:00    49880.535156\n",
      "2021-05-15 00:00:00+00:00    46760.187500\n",
      "2021-05-16 00:00:00+00:00    45610.812500\n",
      "Name: Close, Length: 2430, dtype: float64\n"
     ]
    }
   ],
   "source": [
    "print(price)"
   ]
  },
  {
   "cell_type": "code",
   "execution_count": 5,
   "metadata": {},
   "outputs": [
    {
     "data": {
      "image/svg+xml": [
       "<svg class=\"main-svg\" xmlns=\"http://www.w3.org/2000/svg\" xmlns:xlink=\"http://www.w3.org/1999/xlink\" width=\"700\" height=\"350\" style=\"\" viewBox=\"0 0 700 350\"><rect x=\"0\" y=\"0\" width=\"700\" height=\"350\" style=\"fill: rgb(255, 255, 255); fill-opacity: 1;\"/><defs id=\"defs-24c11e\"><g class=\"clips\"><clipPath id=\"clip24c11exyplot\" class=\"plotclip\"><rect width=\"635\" height=\"274\"/></clipPath><clipPath class=\"axesclip\" id=\"clip24c11ex\"><rect x=\"35\" y=\"0\" width=\"635\" height=\"350\"/></clipPath><clipPath class=\"axesclip\" id=\"clip24c11ey\"><rect x=\"0\" y=\"46\" width=\"700\" height=\"274\"/></clipPath><clipPath class=\"axesclip\" id=\"clip24c11exy\"><rect x=\"35\" y=\"46\" width=\"635\" height=\"274\"/></clipPath></g><g class=\"gradients\"/></defs><g class=\"bglayer\"><rect class=\"bg\" x=\"35\" y=\"46\" width=\"635\" height=\"274\" style=\"fill: rgb(229, 236, 246); fill-opacity: 1; stroke-width: 0;\"/></g><g class=\"layer-below\"><g class=\"imagelayer\"/><g class=\"shapelayer\"/></g><g class=\"cartesianlayer\"><g class=\"subplot xy\"><g class=\"layer-subplot\"><g class=\"shapelayer\"/><g class=\"imagelayer\"/></g><g class=\"gridlayer\"><g class=\"x\"><path class=\"xgrid crisp\" transform=\"translate(62.67,0)\" d=\"M0,46v274\" style=\"stroke: rgb(255, 255, 255); stroke-opacity: 1; stroke-width: 1px;\"/><path class=\"xgrid crisp\" transform=\"translate(157.93,0)\" d=\"M0,46v274\" style=\"stroke: rgb(255, 255, 255); stroke-opacity: 1; stroke-width: 1px;\"/><path class=\"xgrid crisp\" transform=\"translate(253.45,0)\" d=\"M0,46v274\" style=\"stroke: rgb(255, 255, 255); stroke-opacity: 1; stroke-width: 1px;\"/><path class=\"xgrid crisp\" transform=\"translate(348.72,0)\" d=\"M0,46v274\" style=\"stroke: rgb(255, 255, 255); stroke-opacity: 1; stroke-width: 1px;\"/><path class=\"xgrid crisp\" transform=\"translate(443.98,0)\" d=\"M0,46v274\" style=\"stroke: rgb(255, 255, 255); stroke-opacity: 1; stroke-width: 1px;\"/><path class=\"xgrid crisp\" transform=\"translate(539.24,0)\" d=\"M0,46v274\" style=\"stroke: rgb(255, 255, 255); stroke-opacity: 1; stroke-width: 1px;\"/><path class=\"xgrid crisp\" transform=\"translate(634.77,0)\" d=\"M0,46v274\" style=\"stroke: rgb(255, 255, 255); stroke-opacity: 1; stroke-width: 1px;\"/></g><g class=\"y\"><path class=\"ygrid crisp\" transform=\"translate(0,268.05)\" d=\"M35,0h635\" style=\"stroke: rgb(255, 255, 255); stroke-opacity: 1; stroke-width: 1px;\"/><path class=\"ygrid crisp\" transform=\"translate(0,229.11)\" d=\"M35,0h635\" style=\"stroke: rgb(255, 255, 255); stroke-opacity: 1; stroke-width: 1px;\"/><path class=\"ygrid crisp\" transform=\"translate(0,190.17)\" d=\"M35,0h635\" style=\"stroke: rgb(255, 255, 255); stroke-opacity: 1; stroke-width: 1px;\"/><path class=\"ygrid crisp\" transform=\"translate(0,151.23000000000002)\" d=\"M35,0h635\" style=\"stroke: rgb(255, 255, 255); stroke-opacity: 1; stroke-width: 1px;\"/><path class=\"ygrid crisp\" transform=\"translate(0,112.28)\" d=\"M35,0h635\" style=\"stroke: rgb(255, 255, 255); stroke-opacity: 1; stroke-width: 1px;\"/><path class=\"ygrid crisp\" transform=\"translate(0,73.34)\" d=\"M35,0h635\" style=\"stroke: rgb(255, 255, 255); stroke-opacity: 1; stroke-width: 1px;\"/></g></g><g class=\"zerolinelayer\"><path class=\"yzl zl crisp\" transform=\"translate(0,306.99)\" d=\"M35,0h635\" style=\"stroke: rgb(255, 255, 255); stroke-opacity: 1; stroke-width: 2px;\"/></g><path class=\"xlines-below\"/><path class=\"ylines-below\"/><g class=\"overlines-below\"/><g class=\"xaxislayer-below\"/><g class=\"yaxislayer-below\"/><g class=\"overaxes-below\"/><g class=\"plot\" transform=\"translate(35,46)\" clip-path=\"url('#clip24c11exyplot')\"><g class=\"scatterlayer mlayer\"><g class=\"trace scatter trace6a016435-ed97-4227-9818-7364ddbcc624\" style=\"stroke-miterlimit: 2; opacity: 1;\"><g class=\"fills\"/><g class=\"errorbars\"/><g class=\"lines\"><path class=\"js-line\" d=\"M0,259.21L1.83,259.35L2.09,259.39L8.87,259.49L9.13,259.5L11.74,259.73L12.01,259.72L30.54,259.95L30.8,260.11L32.1,260.17L32.36,260.16L44.89,259.93L45.15,259.87L57.42,260.11L57.68,260.14L62.9,260.07L63.16,260.07L72.3,260.04L72.56,260.03L92.39,260.06L92.65,260.06L103.35,259.97L103.61,259.97L111.44,259.69L111.71,259.72L116.93,259.37L117.19,259.38L118.75,259.22L119.01,259.22L125.28,259.25L125.54,259.25L130.24,259.52L130.5,259.52L134.67,259.44L134.93,259.41L140.15,259.38L140.42,259.38L164.95,258.74L165.21,258.63L166.78,258.08L167.04,258.05L169.65,258.47L169.91,258.5L171.73,258.36L172,258.5L174.08,258.41L174.34,258.42L176.95,258.46L177.22,258.45L191.57,258.62L191.83,258.67L214.28,257.94L214.54,257.91L217.15,257.36L217.41,257.19L218.97,256.93L219.24,256.5L220.28,257.45L220.54,257.48L233.85,256.23L234.11,256.12L235.42,256.23L235.68,256.52L237.51,256.13L237.77,256.37L238.81,256.89L239.07,256.63L240.38,257.23L240.64,256.92L246.64,256.28L246.9,256.21L249.51,255.74L249.77,255.46L253.16,253.95L253.43,254.22L254.21,253.64L254.47,253.25L255.77,251.48L256.04,252.02L256.3,252.42L256.56,253.05L256.82,252.6L257.08,252.21L257.34,252.52L257.6,252.09L257.86,251.62L260.21,249.51L260.47,249.47L261.52,251.4L261.78,251.19L262.82,250.39L263.08,250.52L264.13,250.91L264.39,251.34L265.17,251.11L265.43,251.33L266.21,251.01L266.48,250.86L267.78,251.19L268.04,251.75L269.09,252.3L269.35,253.21L269.61,253.48L269.87,252.32L270.39,252.14L270.65,250.02L270.91,250.6L271.43,250.36L271.7,250.27L272.22,251.14L272.48,250.59L272.74,250.05L273.26,250.26L273.52,249.8L274.04,250.44L274.31,250.07L274.57,249.72L275.61,247.68L275.87,247.98L276.13,247.83L276.39,246.78L277.7,243.95L277.96,244.13L279,245.41L279.26,245.03L281.61,242.68L281.87,241.94L282.66,244.5L282.92,243.95L283.18,243.09L283.44,243.08L283.7,244.53L284.75,244.91L285.01,245.87L285.27,248.71L285.79,246.88L286.05,247.04L286.31,245.16L286.83,245.78L287.09,246.85L287.88,246.65L288.14,245.7L288.4,245.84L288.66,244.64L289.18,244.78L289.44,244.1L289.97,243.82L290.23,244.18L290.49,244.52L292.31,242.2L292.58,239.78L293.1,238.28L293.62,238.7L293.88,239.16L294.4,238.76L294.66,237.58L295.45,237.9L295.71,239.47L297.01,237.03L297.27,237.12L298.84,232.15L299.1,233.65L299.62,231.94L299.88,233.18L300.67,237.82L300.93,235.45L301.19,235.15L301.45,232.51L302.49,229.7L302.75,229.06L303.54,229.69L303.8,228.85L305.89,217.87L306.15,216.9L306.67,214.59L306.93,205.34L307.19,191.29L307.71,201.89L307.97,200.81L308.5,193.17L308.76,197.1L309.02,196.49L309.54,185.07L310.06,186.56L310.32,191.77L311.11,207.13L311.63,206.76L311.89,206.37L312.15,198.3L312.67,204.11L312.93,203.92L313.19,210.56L313.72,207.81L313.98,202.65L314.5,200.25L314.76,193.12L315.02,192.74L315.28,196.83L316.33,208.79L316.59,206.55L316.85,205.07L317.11,207.36L317.37,207.18L317.89,217.42L318.15,216.31L318.41,215.79L318.67,210.76L318.94,215.82L319.2,218.42L319.46,218.67L319.72,216.76L320.24,217.49L320.5,216.44L320.76,215.1L321.02,217L321.28,221.64L321.55,221.19L321.81,225.28L322.59,228.76L322.85,233.91L323.89,226.97L324.16,227.42L324.42,229.33L324.68,226.23L324.94,227.51L325.98,217.72L326.24,219.9L326.5,217.28L326.77,216.59L327.03,219.36L328.07,223.36L328.33,220.62L329.9,216.16L330.16,215.93L331.46,226.47L331.72,223.69L333.29,230.16L333.55,228.97L334.33,226.22L334.6,227L334.86,226.41L337.21,234.34L337.47,233.41L337.73,231.96L337.99,234.3L338.25,234.47L338.51,235.15L338.77,234.08L339.03,233.64L339.29,234.63L339.82,233.86L340.08,230.27L340.6,229.89L340.86,228.56L341.38,230.22L341.64,229.2L341.9,228.69L343.21,223.23L343.47,226.55L344.51,224.31L344.77,225.01L345.03,225.48L345.3,225.03L345.56,223.05L346.34,223.4L346.6,224.49L347.38,225.77L347.64,228.12L348.43,227.05L348.69,227.85L349.21,229.47L349.73,228.88L349.99,227.84L350.52,229.68L350.78,231.56L351.3,231.86L351.56,232.35L351.82,232.3L352.08,233.2L353.13,231.63L353.39,231.23L353.91,231.73L354.17,231.27L354.43,231.19L355.21,231.66L355.47,234.57L355.74,234.1L356,235.36L356.26,236.27L356.52,235L356.78,235.85L357.04,235.49L357.3,235.68L357.56,234.77L358.35,234.79L358.61,237.3L359.39,236.66L359.65,237.26L359.91,237.02L360.17,238L361.22,235.24L361.48,235.57L363.04,234.74L363.3,236.34L363.57,236.09L363.83,236.74L364.09,236.7L364.61,236.23L364.87,234.74L365.65,231.92L365.91,232.36L366.7,230.97L366.96,228.19L367.48,230.03L367.74,229.2L368,229.09L368.52,229.14L368.79,230.7L371.4,236.91L371.66,236.48L371.92,236.37L372.96,236.33L373.22,235.37L374.01,236.43L374.27,235.73L374.53,236.16L374.79,235.55L375.05,234.82L375.83,234.18L376.09,233.36L376.88,233.59L377.14,232.98L377.92,232.33L378.18,234.54L378.96,236.75L379.23,236.46L379.49,236.34L380.01,236.26L380.27,235.61L381.05,235.61L381.31,236.53L382.88,234.86L383.14,235.31L383.4,235.89L383.66,235.7L383.92,234.99L385.75,235.38L386.01,235.2L387.32,235.35L387.58,236.63L388.36,236.5L388.62,235.31L392.01,235.73L392.27,236.33L394.36,235.83L394.62,235.56L396.19,236.23L396.45,238.65L397.23,239.36L397.49,239.09L397.76,242.02L399.06,245.88L399.32,245.38L399.58,246.28L399.84,246.12L400.1,244.41L400.37,244.33L400.63,245.35L400.89,244.58L401.15,244.87L401.41,245.83L401.67,245.58L401.93,246.37L402.19,247.28L402.45,247.68L402.71,247.46L402.98,246.92L404.54,248.39L404.8,248.33L405.85,244.89L406.11,245.82L406.37,245.36L406.89,245.11L407.15,246.14L407.41,245.97L407.67,246.76L407.93,245.71L408.46,245.94L408.72,246.42L409.76,245.97L410.02,246.02L410.28,245.12L410.81,245.3L411.07,245.28L412.11,247.16L412.37,246.56L413.42,246.75L413.68,246.47L414.72,247.03L414.98,246.97L418.64,247.76L418.9,246.71L421.25,246.69L421.51,245.75L422.81,244.86L423.07,246.16L424.12,245.98L424.38,245.96L428.03,245.57L428.29,245.23L430.9,245.47L431.16,245.08L432.47,244.8L432.73,241.99L434.82,240.26L435.08,241.27L437.95,239.97L438.21,239.29L439.25,240.48L439.52,240.41L440.04,240.16L440.3,239.95L442.65,236.15L442.91,232.94L443.17,233.84L443.43,230.56L443.95,229.04L444.21,230.29L444.47,232.4L444.73,232.68L445,229.07L445.78,231.09L446.04,230.3L446.3,229.89L446.56,229.64L446.82,227.22L447.08,226.7L447.61,227.27L447.87,228.6L448.65,226.95L448.91,229.03L449.17,230.98L449.69,230.53L449.95,229.67L450.48,231.05L450.74,229.84L451,230.12L451.26,229.27L451.52,228.94L451.78,227.14L453.35,223.89L453.61,221.49L454.91,210.31L455.17,217.45L455.44,212.68L455.7,214.42L455.96,218.87L456.22,219.78L456.48,218.93L456.74,214.41L457.26,218.24L457.52,217.35L457.78,216.4L458.31,212.03L458.57,213.65L458.83,216.76L459.09,214.98L459.35,216.63L459.61,221.05L459.87,218.57L460.13,224.09L460.39,223.24L460.66,219.46L461.18,219.06L461.7,220.72L461.96,222.44L463.53,223.92L463.79,223.58L465.35,215.02L465.61,216.3L466.14,214.39L466.4,214.8L466.66,216.78L466.92,216.12L467.18,216.67L467.44,218.56L467.7,221.85L468.22,220.59L468.49,221.15L468.75,220.71L469.01,218.48L469.79,221.54L470.05,220.46L470.57,221.51L470.83,220.61L471.1,221.33L471.62,223.96L472.14,223.49L472.4,222.99L472.92,219.62L473.44,219.81L473.71,220.68L473.97,220.04L474.49,220.75L474.75,221.6L476.05,220.7L476.32,220.97L477.88,221.78L478.14,223.11L478.93,229.38L479.19,228.86L479.45,228.88L479.71,229.43L479.97,228.7L480.23,228.5L480.49,228.31L480.75,228.83L481.01,229.04L481.54,229.89L481.8,228.88L482.06,228.95L482.32,227.52L482.58,227.56L482.84,228.59L483.88,229.04L484.15,229.66L485.45,228.89L485.71,229.54L486.23,231.81L486.49,227.27L487.02,223.8L487.54,224.28L487.8,225.14L488.84,225.03L489.1,224.34L489.89,224.9L490.15,226.71L490.41,226.67L490.67,225.73L491.71,227.08L491.97,227.92L492.5,227.59L492.76,228.64L493.28,229.73L493.54,231.23L494.32,233.55L494.58,233.17L494.85,232.88L495.63,230.77L495.89,231.52L496.15,232.08L496.93,232.75L497.19,231.99L497.98,231.54L498.24,232.17L499.54,233.25L499.8,233.14L500.33,235.13L500.59,232.66L501.37,232.99L501.63,231.74L502.68,232.8L502.94,232.6L503.72,232.59L503.98,232.98L504.24,232.95L504.5,233.79L505.81,229.2L506.07,229.53L506.33,230.31L506.59,229.19L506.85,229.69L507.11,229.09L507.37,229.28L507.63,226.62L508.16,227.02L508.42,226.22L508.68,226.17L508.94,227.09L509.72,227.19L509.98,228.26L510.77,227.52L511.03,226.3L511.81,223.96L512.07,224.58L512.85,224.8L513.12,225.24L514.42,221.6L514.68,222.61L515.73,220.84L515.99,222.48L516.25,222.31L516.51,223.26L516.77,221.5L517.03,223.48L517.29,223.58L518.07,222.35L518.34,223.41L519.64,227.51L519.9,227.65L520.95,225.64L521.21,225.47L522.51,230.19L522.77,241.64L523.03,239.33L523.56,239.99L523.82,241.47L524.34,240.59L524.6,236.88L525.12,236.91L525.38,238.29L525.9,234.77L526.43,234.84L526.69,235.8L527.21,237.93L527.47,235.95L527.99,235.27L528.25,234.54L529.04,234.55L529.3,232.68L529.56,233.05L530.08,232.56L530.34,234.26L531.39,234.35L531.65,235.13L532.43,232.73L532.69,233L532.95,234.19L533.21,234.2L533.47,233.28L534.78,230.64L535.04,230.59L536.08,225.99L536.34,226.35L536.87,225.93L537.13,224.9L537.39,222.24L537.91,223.63L538.17,226.89L538.43,227.5L538.69,226.71L538.95,224.89L539.21,223.09L539.74,224.48L540,223.33L540.52,223.11L540.78,223.91L541.82,226.76L542.09,226.31L542.35,226.59L542.61,225.24L543.39,223.22L543.65,224.15L543.91,221.4L544.43,223.39L544.7,222.83L545.22,223.4L545.48,222.99L545.74,222.94L546.26,222.56L546.52,224.69L547.04,224.1L547.31,224.44L547.57,224.19L547.83,223.85L548.35,224.34L548.61,224.82L549.13,224.76L549.39,223.42L549.65,223.49L549.92,224.72L550.7,225.77L550.96,225.39L551.22,225.2L552.79,225.66L553.05,224.48L554.09,224.86L554.35,225.01L555.4,225.2L555.66,225.43L556.96,224.49L557.22,223.9L558.01,223.31L558.27,222.42L559.31,217.72L559.57,216.9L559.83,215.2L560.09,217.95L560.36,217.2L560.62,217.36L560.88,215.25L562.18,214.74L562.44,216.56L564.01,213.27L564.27,214.3L565.05,215.85L565.31,215.5L565.58,215.57L565.84,215.14L566.1,216.73L567.4,215.39L567.66,215.51L567.92,214.38L568.19,216.55L568.45,221.1L568.71,220.06L568.97,221.39L569.23,220.96L569.49,220.61L569.75,221.54L570.27,220.64L570.53,220.49L570.8,220.33L571.06,220.79L571.32,219.4L572.62,217.79L572.88,218.4L573.67,221.17L573.93,219.15L574.97,219.24L575.23,218.75L576.28,219.85L576.54,219.39L576.8,218.92L577.06,219.63L577.32,219.41L577.58,218.46L578.36,216.66L579.15,216.49L580.45,215.27L580.71,214.59L581.76,209.95L582.02,210.25L582.28,210.08L582.54,207.82L582.8,209.31L583.32,208.24L583.58,207.33L584.11,208.23L584.37,206.67L584.63,205.95L584.89,200.32L585.15,200.38L585.41,203.23L586.72,197.61L586.98,197.45L587.5,198.86L587.76,195.9L588.8,188.48L589.06,188.4L589.59,189.48L589.85,186.59L590.11,188.05L590.37,194.21L590.63,194.37L590.89,192L591.41,184.57L591.67,187.77L591.94,186.22L592.2,185.27L592.46,188.17L592.98,185.66L593.24,186.26L593.5,189.65L593.76,188.74L594.02,189.87L594.28,190.67L596.37,168.04L596.63,169.57L596.89,172.19L598.72,155.52L598.98,154.44L600.29,133.33L600.55,136.49L601.59,102.12L601.85,104.24L602.11,111.63L602.64,128.89L602.9,115.68L603.16,108.39L603.94,121.62L604.2,118.35L604.72,122.56L604.99,140.95L605.25,132.46L605.77,135.25L606.03,134.95L606.29,134.16L606.55,142.48L607.07,127.36L607.33,127.54L607.6,132.04L607.86,130.39L608.12,122.71L609.16,108.08L609.42,109.5L610.47,74.43L610.73,76L610.99,77.56L611.25,71.28L611.51,74.29L611.77,69.4L612.03,57.92L612.29,59.74L612.55,43.36L612.82,42.53L613.08,36.92L614.38,80.54L614.64,81.13L614.9,85.22L615.16,67.72L615.43,72.6L615.69,64.19L615.95,71.89L616.21,70.46L616.47,70.52L616.73,61.59L617.77,35.89L618.04,37.73L618.3,22.5L618.82,43.28L619.08,39.79L619.34,31.74L621.43,59.65L621.69,46.28L623.52,29.74L623.78,36.67L624.3,31.01L624.56,34.38L624.82,42.73L625.87,26.54L626.13,27.76L626.39,13.7L626.91,14.44L627.17,21.22L627.43,24.68L627.69,42.08L627.95,43.99L628.21,41.08L628.48,51.07L629.52,70.16L629.78,50.62L630.04,46.68L630.3,47.5L630.56,52.44L631.09,35.8L631.35,40.46L631.61,38.25L631.87,53.3L632.13,37.37L632.39,41.38L632.65,37.64L632.91,32L633.17,34.23L633.43,43.47L633.7,40.18L633.96,69.59L634.48,66.75L634.74,78.9L635,83.38\" style=\"vector-effect: non-scaling-stroke; fill: none; stroke: rgb(31, 119, 180); stroke-opacity: 1; stroke-width: 2px; opacity: 1;\"/></g><g class=\"points\"/><g class=\"text\"/></g></g></g><g class=\"overplot\"/><path class=\"xlines-above crisp\" d=\"M0,0\" style=\"fill: none;\"/><path class=\"ylines-above crisp\" d=\"M0,0\" style=\"fill: none;\"/><g class=\"overlines-above\"/><g class=\"xaxislayer-above\"><g class=\"xtick\"><text text-anchor=\"middle\" x=\"0\" y=\"333\" transform=\"translate(62.67,0)\" style=\"font-family: 'Open Sans', verdana, arial, sans-serif; font-size: 12px; fill: rgb(42, 63, 95); fill-opacity: 1; white-space: pre;\">2015</text></g><g class=\"xtick\"><text text-anchor=\"middle\" x=\"0\" y=\"333\" transform=\"translate(157.93,0)\" style=\"font-family: 'Open Sans', verdana, arial, sans-serif; font-size: 12px; fill: rgb(42, 63, 95); fill-opacity: 1; white-space: pre;\">2016</text></g><g class=\"xtick\"><text text-anchor=\"middle\" x=\"0\" y=\"333\" transform=\"translate(253.45,0)\" style=\"font-family: 'Open Sans', verdana, arial, sans-serif; font-size: 12px; fill: rgb(42, 63, 95); fill-opacity: 1; white-space: pre;\">2017</text></g><g class=\"xtick\"><text text-anchor=\"middle\" x=\"0\" y=\"333\" transform=\"translate(348.72,0)\" style=\"font-family: 'Open Sans', verdana, arial, sans-serif; font-size: 12px; fill: rgb(42, 63, 95); fill-opacity: 1; white-space: pre;\">2018</text></g><g class=\"xtick\"><text text-anchor=\"middle\" x=\"0\" y=\"333\" transform=\"translate(443.98,0)\" style=\"font-family: 'Open Sans', verdana, arial, sans-serif; font-size: 12px; fill: rgb(42, 63, 95); fill-opacity: 1; white-space: pre;\">2019</text></g><g class=\"xtick\"><text text-anchor=\"middle\" x=\"0\" y=\"333\" transform=\"translate(539.24,0)\" style=\"font-family: 'Open Sans', verdana, arial, sans-serif; font-size: 12px; fill: rgb(42, 63, 95); fill-opacity: 1; white-space: pre;\">2020</text></g><g class=\"xtick\"><text text-anchor=\"middle\" x=\"0\" y=\"333\" transform=\"translate(634.77,0)\" style=\"font-family: 'Open Sans', verdana, arial, sans-serif; font-size: 12px; fill: rgb(42, 63, 95); fill-opacity: 1; white-space: pre;\">2021</text></g></g><g class=\"yaxislayer-above\"><g class=\"ytick\"><text text-anchor=\"end\" x=\"34\" y=\"4.199999999999999\" transform=\"translate(0,306.99)\" style=\"font-family: 'Open Sans', verdana, arial, sans-serif; font-size: 12px; fill: rgb(42, 63, 95); fill-opacity: 1; white-space: pre;\">0</text></g><g class=\"ytick\"><text text-anchor=\"end\" x=\"34\" y=\"4.199999999999999\" transform=\"translate(0,268.05)\" style=\"font-family: 'Open Sans', verdana, arial, sans-serif; font-size: 12px; fill: rgb(42, 63, 95); fill-opacity: 1; white-space: pre;\">10k</text></g><g class=\"ytick\"><text text-anchor=\"end\" x=\"34\" y=\"4.199999999999999\" transform=\"translate(0,229.11)\" style=\"font-family: 'Open Sans', verdana, arial, sans-serif; font-size: 12px; fill: rgb(42, 63, 95); fill-opacity: 1; white-space: pre;\">20k</text></g><g class=\"ytick\"><text text-anchor=\"end\" x=\"34\" y=\"4.199999999999999\" transform=\"translate(0,190.17)\" style=\"font-family: 'Open Sans', verdana, arial, sans-serif; font-size: 12px; fill: rgb(42, 63, 95); fill-opacity: 1; white-space: pre;\">30k</text></g><g class=\"ytick\"><text text-anchor=\"end\" x=\"34\" y=\"4.199999999999999\" transform=\"translate(0,151.23000000000002)\" style=\"font-family: 'Open Sans', verdana, arial, sans-serif; font-size: 12px; fill: rgb(42, 63, 95); fill-opacity: 1; white-space: pre;\">40k</text></g><g class=\"ytick\"><text text-anchor=\"end\" x=\"34\" y=\"4.199999999999999\" transform=\"translate(0,112.28)\" style=\"font-family: 'Open Sans', verdana, arial, sans-serif; font-size: 12px; fill: rgb(42, 63, 95); fill-opacity: 1; white-space: pre;\">50k</text></g><g class=\"ytick\"><text text-anchor=\"end\" x=\"34\" y=\"4.199999999999999\" transform=\"translate(0,73.34)\" style=\"font-family: 'Open Sans', verdana, arial, sans-serif; font-size: 12px; fill: rgb(42, 63, 95); fill-opacity: 1; white-space: pre;\">60k</text></g></g><g class=\"overaxes-above\"/></g></g><g class=\"polarlayer\"/><g class=\"ternarylayer\"/><g class=\"geolayer\"/><g class=\"funnelarealayer\"/><g class=\"pielayer\"/><g class=\"treemaplayer\"/><g class=\"sunburstlayer\"/><g class=\"glimages\"/><defs id=\"topdefs-24c11e\"><g class=\"clips\"/><clipPath id=\"legend24c11e\"><rect width=\"78\" height=\"29\" x=\"0\" y=\"0\"/></clipPath></defs><g class=\"layer-above\"><g class=\"imagelayer\"/><g class=\"shapelayer\"/></g><g class=\"infolayer\"><g class=\"legend\" pointer-events=\"all\" transform=\"translate(592,11.519999999999996)\"><rect class=\"bg\" shape-rendering=\"crispEdges\" style=\"stroke: rgb(68, 68, 68); stroke-opacity: 1; fill: rgb(255, 255, 255); fill-opacity: 1; stroke-width: 0px;\" width=\"78\" height=\"29\" x=\"0\" y=\"0\"/><g class=\"scrollbox\" transform=\"\" clip-path=\"url('#legend24c11e')\"><g class=\"groups\"><g class=\"traces\" transform=\"translate(0,14.5)\" style=\"opacity: 1;\"><text class=\"legendtext\" text-anchor=\"start\" x=\"40\" y=\"4.680000000000001\" style=\"font-family: 'Open Sans', verdana, arial, sans-serif; font-size: 12px; fill: rgb(42, 63, 95); fill-opacity: 1; white-space: pre;\">Close</text><g class=\"layers\" style=\"opacity: 1;\"><g class=\"legendfill\"/><g class=\"legendlines\"><path class=\"js-line\" d=\"M5,0h30\" style=\"fill: none; stroke: rgb(31, 119, 180); stroke-opacity: 1; stroke-width: 2px;\"/></g><g class=\"legendsymbols\"><g class=\"legendpoints\"/></g></g><rect class=\"legendtoggle\" x=\"0\" y=\"-9.5\" width=\"74.859375\" height=\"19\" style=\"fill: rgb(0, 0, 0); fill-opacity: 0;\"/></g></g></g><rect class=\"scrollbar\" rx=\"20\" ry=\"3\" width=\"0\" height=\"0\" style=\"fill: rgb(128, 139, 164); fill-opacity: 1;\" x=\"0\" y=\"0\"/></g><g class=\"g-gtitle\"/><g class=\"g-xtitle\"/><g class=\"g-ytitle\"/></g></svg>"
      ]
     },
     "metadata": {},
     "output_type": "display_data"
    }
   ],
   "source": [
    "price.vbt.plot().show_svg()"
   ]
  },
  {
   "cell_type": "code",
   "execution_count": 6,
   "metadata": {},
   "outputs": [],
   "source": [
    "def roll_in_and_out_samples(price, **kwargs):\n",
    "    return price.vbt.rolling_split(**kwargs)"
   ]
  },
  {
   "cell_type": "code",
   "execution_count": 7,
   "metadata": {},
   "outputs": [
    {
     "data": {
      "image/svg+xml": [
       "<svg class=\"main-svg\" xmlns=\"http://www.w3.org/2000/svg\" xmlns:xlink=\"http://www.w3.org/1999/xlink\" width=\"700\" height=\"216\" style=\"\" viewBox=\"0 0 700 216\"><rect x=\"0\" y=\"0\" width=\"700\" height=\"216\" style=\"fill: rgb(255, 255, 255); fill-opacity: 1;\"/><defs id=\"defs-8eac56\"><g class=\"clips\"><clipPath id=\"clip8eac56xyplot\" class=\"plotclip\"><rect width=\"640\" height=\"142\"/></clipPath><clipPath class=\"axesclip\" id=\"clip8eac56x\"><rect x=\"30\" y=\"0\" width=\"640\" height=\"216\"/></clipPath><clipPath class=\"axesclip\" id=\"clip8eac56y\"><rect x=\"0\" y=\"44\" width=\"700\" height=\"142\"/></clipPath><clipPath class=\"axesclip\" id=\"clip8eac56xy\"><rect x=\"30\" y=\"44\" width=\"640\" height=\"142\"/></clipPath></g><g class=\"gradients\"><linearGradient x1=\"1\" x2=\"0\" y1=\"0\" y2=\"0\" id=\"g8eac56-legendfill-901a0fef-85d4-4073-851b-91b91797bc2e\"><stop offset=\"0%\" stop-color=\"rgb(31, 119, 180)\" stop-opacity=\"1\"/><stop offset=\"100%\" stop-color=\"rgb(31, 119, 180)\" stop-opacity=\"1\"/></linearGradient><linearGradient x1=\"1\" x2=\"0\" y1=\"0\" y2=\"0\" id=\"g8eac56-legendfill-0ea03cda-47ea-4aab-b799-dfc31d27b84f\"><stop offset=\"0%\" stop-color=\"rgb(255, 127, 14)\" stop-opacity=\"1\"/><stop offset=\"100%\" stop-color=\"rgb(255, 127, 14)\" stop-opacity=\"1\"/></linearGradient></g></defs><g class=\"bglayer\"><rect class=\"bg\" x=\"30\" y=\"44\" width=\"640\" height=\"142\" style=\"fill: rgb(229, 236, 246); fill-opacity: 1; stroke-width: 0;\"/></g><g class=\"layer-below\"><g class=\"imagelayer\"/><g class=\"shapelayer\"/></g><g class=\"cartesianlayer\"><g class=\"subplot xy\"><g class=\"layer-subplot\"><g class=\"shapelayer\"/><g class=\"imagelayer\"/></g><g class=\"gridlayer\"><g class=\"x\"><path class=\"xgrid crisp\" transform=\"translate(58,0)\" d=\"M0,44v142\" style=\"stroke: rgb(255, 255, 255); stroke-opacity: 1; stroke-width: 1px;\"/><path class=\"xgrid crisp\" transform=\"translate(153.98000000000002,0)\" d=\"M0,44v142\" style=\"stroke: rgb(255, 255, 255); stroke-opacity: 1; stroke-width: 1px;\"/><path class=\"xgrid crisp\" transform=\"translate(250.21,0)\" d=\"M0,44v142\" style=\"stroke: rgb(255, 255, 255); stroke-opacity: 1; stroke-width: 1px;\"/><path class=\"xgrid crisp\" transform=\"translate(346.19,0)\" d=\"M0,44v142\" style=\"stroke: rgb(255, 255, 255); stroke-opacity: 1; stroke-width: 1px;\"/><path class=\"xgrid crisp\" transform=\"translate(442.16,0)\" d=\"M0,44v142\" style=\"stroke: rgb(255, 255, 255); stroke-opacity: 1; stroke-width: 1px;\"/><path class=\"xgrid crisp\" transform=\"translate(538.13,0)\" d=\"M0,44v142\" style=\"stroke: rgb(255, 255, 255); stroke-opacity: 1; stroke-width: 1px;\"/><path class=\"xgrid crisp\" transform=\"translate(634.37,0)\" d=\"M0,44v142\" style=\"stroke: rgb(255, 255, 255); stroke-opacity: 1; stroke-width: 1px;\"/></g><g class=\"y\"><path class=\"ygrid crisp\" transform=\"translate(0,183.63)\" d=\"M30,0h640\" style=\"stroke: rgb(255, 255, 255); stroke-opacity: 1; stroke-width: 1px;\"/><path class=\"ygrid crisp\" transform=\"translate(0,164.7)\" d=\"M30,0h640\" style=\"stroke: rgb(255, 255, 255); stroke-opacity: 1; stroke-width: 1px;\"/><path class=\"ygrid crisp\" transform=\"translate(0,145.76999999999998)\" d=\"M30,0h640\" style=\"stroke: rgb(255, 255, 255); stroke-opacity: 1; stroke-width: 1px;\"/><path class=\"ygrid crisp\" transform=\"translate(0,126.83)\" d=\"M30,0h640\" style=\"stroke: rgb(255, 255, 255); stroke-opacity: 1; stroke-width: 1px;\"/><path class=\"ygrid crisp\" transform=\"translate(0,107.9)\" d=\"M30,0h640\" style=\"stroke: rgb(255, 255, 255); stroke-opacity: 1; stroke-width: 1px;\"/><path class=\"ygrid crisp\" transform=\"translate(0,88.97)\" d=\"M30,0h640\" style=\"stroke: rgb(255, 255, 255); stroke-opacity: 1; stroke-width: 1px;\"/><path class=\"ygrid crisp\" transform=\"translate(0,70.03)\" d=\"M30,0h640\" style=\"stroke: rgb(255, 255, 255); stroke-opacity: 1; stroke-width: 1px;\"/><path class=\"ygrid crisp\" transform=\"translate(0,51.1)\" d=\"M30,0h640\" style=\"stroke: rgb(255, 255, 255); stroke-opacity: 1; stroke-width: 1px;\"/></g></g><g class=\"zerolinelayer\"/><path class=\"xlines-below\"/><path class=\"ylines-below\"/><g class=\"overlines-below\"/><g class=\"xaxislayer-below\"/><g class=\"yaxislayer-below\"/><g class=\"overaxes-below\"/><g class=\"plot\" transform=\"translate(30,44)\" clip-path=\"url('#clip8eac56xyplot')\"><g class=\"heatmaplayer mlayer\"><g class=\"hm\"><image xmlns=\"http://www.w3.org/2000/svg\" preserveAspectRatio=\"none\" height=\"142\" width=\"640\" x=\"0\" y=\"0\" xlink:href=\"data:image/png;base64,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\" style=\"opacity: 1;\"/></g><g class=\"hm\"><image xmlns=\"http://www.w3.org/2000/svg\" preserveAspectRatio=\"none\" height=\"142\" width=\"640\" x=\"0\" y=\"0\" xlink:href=\"data:image/png;base64,iVBORw0KGgoAAAANSUhEUgAAAoAAAACOCAYAAAChWLl6AAAK7klEQVR4Xu3dW3LdNhZAUWkCmXJKU9YEnKITV+SypEviAsR5rP4mQWAdtHuXYnVeX/yHwJMCP/7+68eTS2x7/fXt/XXbx32YAAECBAhsEvA/fpvgK31WAFaaprMQIECAQAcBAdhhyovPKAAXA1ueAAECBAhMFhCAk0E7LicAO07dmQkQIEAgs4AAzDy9IHsXgEEGYRsECBAgQOCkgAA8CeWxNQLicY2rVQkQIECAwHcCAtD92CogALfy+zgBAgQINBUQgE0HH+XYAjDKJOyDAAECBDoJCMBO0w54VgEYcCi2RIAAAQLlBQRg+RHXPWDmeDym4v+Euu7ddDICBAhEFxCA0Sdkf18KCECXgwABAgQIjAkIwDE3bwUQEIABhmALBAgQIJBSQACmHJtNHwIC0D0gQIAAAQJjAgJwzM1bAQQEYIAh2AIBAgQIpBQQgCnHZtMzBDIHpF8gmXEDrEGAAIG+AgKw7+zbn1wAtr8CAAgQINBWQAC2Hb2DC0B3gAABAgS6CgjArpN37tS/ROIfAbvABAgQIPCMgAB8Rs+7qQX8BDD1+GyeAAECBJ4QEIBP4Hm1r4B47Dt7JydAgEAFAQFYYYrOcLuAALyd3AcJECBAYKKAAJyIaak+AgKwz6ydlAABAhUFBGDFqTrTcgEBuJzYBwgQIEBgoYAAXIhr6boCArDubJ2MAAECHQQEYIcpO2M4AQEZbiQ2RIAAgVYCArDVuB02ioAAjDIJ+yBAgEBPAQHYc+5OvVlAAG4egM8TIECguYAAbH4BHH+PgADc4+6rBAgQIPCvgAB0EwgkE8gcjz//0Hl79+dOsjtnuwQI1BPwB3G9mTpRcQEBWHzAjkeAAIEbBATgDcg+QWCmgACcqWktAgQI9BQQgD3n7tSJBQRg4uHZOgECBIIICMAgg7ANAmcFBOBZKc8RIECAwFcCAtDdINBIQDw2GrajEiBA4BsBAeh6EGgkIAAbDdtRCRAgIADdAQIEDgEB6B4QIECAwCHgJ4DuAYFGAgKw0bAdlQABAn4C6A4QIOAngO4AAQIECPwS8BNAd4EAgdMCmX+C6N9AcnrMHiRAoIGAAGwwZEckMEtAAM6StA4BAgT2CgjAvf6+TiCVgABMNS6bJUCAwJcCAtDlIEDgtIAAPE3lQQIECIQWEIChx2NzBGIJCMBY87AbAgQIjAoIwFE57xEgcEkgczweB/VLJJfG7WECBIILCMDgA7I9AlUEBGCVSToHAQIVBARghSk6A4EEAgIwwZBskQCBNgICsM2oHZTAXgEBuNff1wkQIPBRQAC6DwQIpBDIHJD+/mCKK2aTBFoJCMBW43ZYAnkFBGDe2dk5AQLxBARgvJnYEQECnwgIQNeCAAEC8wQE4DxLKxEgsFBAAC7EtTQBAu0EBGC7kTswgZwCAjDn3OyaAIGYAgIw5lzsigCBiQKZ4/Fg8EskEy+DpQgQ+CkgAF0EAgTKCwjA8iN2QAIELgoIwItgHidAIJ+AAMw3MzsmQGCtgABc62t1AgQCCAjAAEOwBQIEQgkIwFDjsBkCBFYICMAVqtYkQCCzgADMPD17J0BguYB4XE7sAwQIbBAQgBvQfZIAgTwCAjDPrOyUAIHzAgLwvJUnCRBoKCAAGw7dkQk0EBCADYbsiAQIjAsIwHE7bxIgEFdAAMadjZ0RIBBAQAAGGIItECAwXUAATie1IAECBP4XyByQ/g0kbjKBugICsO5snYwAgQACAjDAEGyBAIE/BASgS0GAAIGFAgJwIa6lCRAYFhCAw3ReJECAwGMBAfjYyBMECNwvIADvN/dFAgQInBLIHI/HAf0dwlNj9hCBLQICcAu7jxIgQOCxgAB8bOQJAgTGBATgmJu3CBAgsFxAAC4n9gECbQUEYNvROzgBAtEFBGD0CdkfgbwCAjDv7OycAIHiAgKw+IAdj8BGAQG4Ed+nCRAgsFIgc0D6BZKVN8PaBF5eBKBbQIAAgaICArDoYB2LwAQBATgB0RIECBCIKCAAI07FngjEEBCAMeZgFwQIEJguIACnk1qQQBkBAVhmlA5CgACB3wUEoBtBgMBXAgLQ3SBAgACBPwQyx+NxGL9E4lIT+F5AALohBAgQICAA3QECzQQEYLOBOy4BAgTOCPgJ4BklzxDIKyAA887OzgkQILBMQAAuo7UwgRACAjDEGGyCAAECtQQyB6S/P1jrLjrN5wIC0M0gQIAAgekCAnA6qQUJTBUQgFM5LUaAAAECh4AAdA8IxBYQgLHnY3cECBBIKSAAU47NphsJCMBGw3ZUAgQI3CUgAO+S9h0CYwICcMzNWwQIECCwSEA8LoK1LIEPAgLQdSBAgACBUAICMNQ4bKaogAAsOljHIkCAQFYBAZh1cvadSUAAZpqWvRIgQKCBgABsMGRH3C4gALePwAYIECBA4KOAAHQfCKwXEIDrjX2BAAECBG4UEJA3YvtUWgEBmHZ0Nk6AAAECnwkIQPeCwGMBAfjYyBMECBAgkEhAACYalq1uExCA2+h9mAABAgRWCAjAFarWrCYgAKtN1HkIECDQXEAANr8Ajn9KQACeYvIQAQIECHQQEI8dpuyMh4AAdA8IECBAgMB/AgLQVegiIAC7TNo5CRAgQOChgAB8SOSBIgICsMggHYMAAQIEnhcQgM8bWiGHgADMMSe7JECAAIHgApnj8aB9fXvXBMHv2MztGfZMTWsRIECAQFsBAdh29CkPLgBTjs2mCRAgQCCagACMNhH7+U5AALofBAgQIEBggoAAnIBoidsEBOBt1D5EgAABApUFBGDl6dY7mwCsN1MnIkCAAIGEApkD0i+Q5LtwAjDfzOyYAAECBAoKCMCCQw18JAEYeDi2RoAAAQJ9BARgn1lHOKkAjDAFeyBAgACB9gICsP0VuBVAAN7K7WMECBAgQOBzAQHoZtwpIADv1PYtAgQIECCwQCBzPB4cfolkwaV4sKQAvN/cFwkQIECAwFQBATiVs8ViArDFmB2SAAECBCoLCMDK011zNgG4xtWqBAgQIEDgNgEBeBt1mQ8JwDKjdBACBAgQ6CogALtOfvzcAnDczpsECBAgQKCEQOaA9AskY1dQAI65eYsAAQIECJQREIBlRnn6IALwNJUHCRAgQIBATQEBWHOu351KAPabuRMTIECAAIHfBARgvwshAPvN3IkJECBAgMA0gczxeCB0/TuEAnDafwUsRIAAAQIE+gkIwJwzF4A552bXBAgQIEAghIAADDGGy5sQgJfJvECAAAECBAj8EhCAOe+CAMw5N7smQIAAAQIhBARgiDFc3oQAvEzmBQIECBAgQGCWgICcJXltHQF4zcvTBAgQIECAwEQBATgR88JSAvAClkcJECBAgACBuQICcK7n2dUE4FkpzxEgQIAAAQLTBQTgdNJTCwrAU0weIkCAAAECBFYICMAVqo/XFICPjTxBgAABAgQIBBQQj+NDEYDjdt4kQIAAAQIENgoIwHF8AThu500CBAgQIEBgo4AAHMcXgON23iRAgAABAgQ2CgjAcXwBOG7nTQIECBAgQGCjgAAcxxeA43beJECAAAECBJIKdI9HAZj04to2AQIECBAgMC4gAMftvEmAAAECBAgQSCkgAFOOzaYJECBAgAABAuMCAnDczpsECBAgQIAAgbYCmSPS3wFse20dnAABAgQIEHhGQAA+o+ddAgQIECBAgEBCAQGYcGi2TIAAAQIECBB4RkAAPqPnXQIECBAgQIBAQoHMAfgPAVgxZLrQ9DcAAAAASUVORK5CYII=\" style=\"opacity: 1;\"/></g></g></g><g class=\"overplot\"/><path class=\"xlines-above crisp\" d=\"M0,0\" style=\"fill: none;\"/><path class=\"ylines-above crisp\" d=\"M0,0\" style=\"fill: none;\"/><g class=\"overlines-above\"/><g class=\"xaxislayer-above\"><g class=\"xtick\"><text text-anchor=\"middle\" x=\"0\" y=\"199\" transform=\"translate(58,0)\" style=\"font-family: 'Open Sans', verdana, arial, sans-serif; font-size: 12px; fill: rgb(42, 63, 95); fill-opacity: 1; white-space: pre;\">2015</text></g><g class=\"xtick\"><text text-anchor=\"middle\" x=\"0\" y=\"199\" transform=\"translate(153.98000000000002,0)\" style=\"font-family: 'Open Sans', verdana, arial, sans-serif; font-size: 12px; fill: rgb(42, 63, 95); fill-opacity: 1; white-space: pre;\">2016</text></g><g class=\"xtick\"><text text-anchor=\"middle\" x=\"0\" y=\"199\" transform=\"translate(250.21,0)\" style=\"font-family: 'Open Sans', verdana, arial, sans-serif; font-size: 12px; fill: rgb(42, 63, 95); fill-opacity: 1; white-space: pre;\">2017</text></g><g class=\"xtick\"><text text-anchor=\"middle\" x=\"0\" y=\"199\" transform=\"translate(346.19,0)\" style=\"font-family: 'Open Sans', verdana, arial, sans-serif; font-size: 12px; fill: rgb(42, 63, 95); fill-opacity: 1; white-space: pre;\">2018</text></g><g class=\"xtick\"><text text-anchor=\"middle\" x=\"0\" y=\"199\" transform=\"translate(442.16,0)\" style=\"font-family: 'Open Sans', verdana, arial, sans-serif; font-size: 12px; fill: rgb(42, 63, 95); fill-opacity: 1; white-space: pre;\">2019</text></g><g class=\"xtick\"><text text-anchor=\"middle\" x=\"0\" y=\"199\" transform=\"translate(538.13,0)\" style=\"font-family: 'Open Sans', verdana, arial, sans-serif; font-size: 12px; fill: rgb(42, 63, 95); fill-opacity: 1; white-space: pre;\">2020</text></g><g class=\"xtick\"><text text-anchor=\"middle\" x=\"0\" y=\"199\" transform=\"translate(634.37,0)\" style=\"font-family: 'Open Sans', verdana, arial, sans-serif; font-size: 12px; fill: rgb(42, 63, 95); fill-opacity: 1; white-space: pre;\">2021</text></g></g><g class=\"yaxislayer-above\"><g class=\"ytick\"><text text-anchor=\"end\" x=\"29\" y=\"4.199999999999999\" transform=\"translate(0,183.63)\" style=\"font-family: 'Open Sans', verdana, arial, sans-serif; font-size: 12px; fill: rgb(42, 63, 95); fill-opacity: 1; white-space: pre;\">29</text></g><g class=\"ytick\"><text text-anchor=\"end\" x=\"29\" y=\"4.199999999999999\" transform=\"translate(0,164.7)\" style=\"font-family: 'Open Sans', verdana, arial, sans-serif; font-size: 12px; fill: rgb(42, 63, 95); fill-opacity: 1; white-space: pre;\">25</text></g><g class=\"ytick\"><text text-anchor=\"end\" x=\"29\" y=\"4.199999999999999\" transform=\"translate(0,145.76999999999998)\" style=\"font-family: 'Open Sans', verdana, arial, sans-serif; font-size: 12px; fill: rgb(42, 63, 95); fill-opacity: 1; white-space: pre;\">21</text></g><g class=\"ytick\"><text text-anchor=\"end\" x=\"29\" y=\"4.199999999999999\" transform=\"translate(0,126.83)\" style=\"font-family: 'Open Sans', verdana, arial, sans-serif; font-size: 12px; fill: rgb(42, 63, 95); fill-opacity: 1; white-space: pre;\">17</text></g><g class=\"ytick\"><text text-anchor=\"end\" x=\"29\" y=\"4.199999999999999\" transform=\"translate(0,107.9)\" style=\"font-family: 'Open Sans', verdana, arial, sans-serif; font-size: 12px; fill: rgb(42, 63, 95); fill-opacity: 1; white-space: pre;\">13</text></g><g class=\"ytick\"><text text-anchor=\"end\" x=\"29\" y=\"4.199999999999999\" transform=\"translate(0,88.97)\" style=\"font-family: 'Open Sans', verdana, arial, sans-serif; font-size: 12px; fill: rgb(42, 63, 95); fill-opacity: 1; white-space: pre;\">9</text></g><g class=\"ytick\"><text text-anchor=\"end\" x=\"29\" y=\"4.199999999999999\" transform=\"translate(0,70.03)\" style=\"font-family: 'Open Sans', verdana, arial, sans-serif; font-size: 12px; fill: rgb(42, 63, 95); fill-opacity: 1; white-space: pre;\">5</text></g><g class=\"ytick\"><text text-anchor=\"end\" x=\"29\" y=\"4.199999999999999\" transform=\"translate(0,51.1)\" style=\"font-family: 'Open Sans', verdana, arial, sans-serif; font-size: 12px; fill: rgb(42, 63, 95); fill-opacity: 1; white-space: pre;\">1</text></g></g><g class=\"overaxes-above\"/></g></g><g class=\"polarlayer\"/><g class=\"ternarylayer\"/><g class=\"geolayer\"/><g class=\"funnelarealayer\"/><g class=\"pielayer\"/><g class=\"treemaplayer\"/><g class=\"sunburstlayer\"/><g class=\"glimages\"/><defs id=\"topdefs-8eac56\"><g class=\"clips\"/><clipPath id=\"legend8eac56\"><rect width=\"218\" height=\"29\" x=\"0\" y=\"0\"/></clipPath></defs><g class=\"layer-above\"><g class=\"imagelayer\"/><g class=\"shapelayer\"/></g><g class=\"infolayer\"><g class=\"legend\" pointer-events=\"all\" transform=\"translate(452,12.159999999999997)\"><rect class=\"bg\" shape-rendering=\"crispEdges\" style=\"stroke: rgb(68, 68, 68); stroke-opacity: 1; fill: rgb(255, 255, 255); fill-opacity: 1; stroke-width: 0px;\" width=\"218\" height=\"29\" x=\"0\" y=\"0\"/><g class=\"scrollbox\" transform=\"\" clip-path=\"url('#legend8eac56')\"><g class=\"groups\"><g class=\"traces\" transform=\"translate(0,14.5)\" style=\"opacity: 1;\"><text class=\"legendtext\" text-anchor=\"start\" x=\"40\" y=\"4.680000000000001\" style=\"font-family: 'Open Sans', verdana, arial, sans-serif; font-size: 12px; fill: rgb(42, 63, 95); fill-opacity: 1; white-space: pre;\">in-sample</text><g class=\"layers\" style=\"opacity: 1;\"><g class=\"legendfill\"/><g class=\"legendlines\"/><g class=\"legendsymbols\"><g class=\"legendpoints\"><path class=\"legend3dandfriends\" transform=\"translate(20,0)\" d=\"M-15,-2V4H15V-2Z\" style=\"stroke-miterlimit: 1; fill: url('#g8eac56-legendfill-901a0fef-85d4-4073-851b-91b91797bc2e');\"/></g></g></g><rect class=\"legendtoggle\" x=\"0\" y=\"-9.5\" width=\"101.890625\" height=\"19\" style=\"fill: rgb(0, 0, 0); fill-opacity: 0;\"/></g><g class=\"traces\" transform=\"translate(104.390625,14.5)\" style=\"opacity: 1;\"><text class=\"legendtext\" text-anchor=\"start\" x=\"40\" y=\"4.680000000000001\" style=\"font-family: 'Open Sans', verdana, arial, sans-serif; font-size: 12px; fill: rgb(42, 63, 95); fill-opacity: 1; white-space: pre;\">out-sample</text><g class=\"layers\" style=\"opacity: 1;\"><g class=\"legendfill\"/><g class=\"legendlines\"/><g class=\"legendsymbols\"><g class=\"legendpoints\"><path class=\"legend3dandfriends\" transform=\"translate(20,0)\" d=\"M-15,-2V4H15V-2Z\" style=\"stroke-miterlimit: 1; fill: url('#g8eac56-legendfill-0ea03cda-47ea-4aab-b799-dfc31d27b84f');\"/></g></g></g><rect class=\"legendtoggle\" x=\"0\" y=\"-9.5\" width=\"110.609375\" height=\"19\" style=\"fill: rgb(0, 0, 0); fill-opacity: 0;\"/></g></g></g><rect class=\"scrollbar\" rx=\"20\" ry=\"3\" width=\"0\" height=\"0\" style=\"fill: rgb(128, 139, 164); fill-opacity: 1;\" x=\"0\" y=\"0\"/></g><g class=\"g-gtitle\"/><g class=\"g-xtitle\"/><g class=\"g-ytitle\"/></g></svg>"
      ]
     },
     "metadata": {},
     "output_type": "display_data"
    }
   ],
   "source": [
    "roll_in_and_out_samples(price, **split_kwargs, plot=True, trace_names=['in-sample', 'out-sample']).show_svg()"
   ]
  },
  {
   "cell_type": "code",
   "execution_count": 8,
   "metadata": {},
   "outputs": [
    {
     "name": "stdout",
     "output_type": "stream",
     "text": [
      "(550, 30) 30\n",
      "(180, 30) 30\n"
     ]
    }
   ],
   "source": [
    "(in_price, in_indexes), (out_price, out_indexes) = roll_in_and_out_samples(price, **split_kwargs)\n",
    "\n",
    "print(in_price.shape, len(in_indexes))  # in-sample\n",
    "print(out_price.shape, len(out_indexes))  # out-sample"
   ]
  },
  {
   "cell_type": "code",
   "execution_count": 9,
   "metadata": {},
   "outputs": [],
   "source": [
    "def simulate_holding(price, **kwargs):\n",
    "    portfolio = vbt.Portfolio.from_holding(price, **kwargs)\n",
    "    return portfolio.sharpe_ratio()"
   ]
  },
  {
   "cell_type": "code",
   "execution_count": 10,
   "metadata": {},
   "outputs": [
    {
     "name": "stdout",
     "output_type": "stream",
     "text": [
      "split_idx\n",
      "0     0.229171\n",
      "1     0.517865\n",
      "2     1.255552\n",
      "3     1.150979\n",
      "4     1.614115\n",
      "5     1.735473\n",
      "6     2.364054\n",
      "7     2.033642\n",
      "8     2.283147\n",
      "9     2.769900\n",
      "10    2.730317\n",
      "11    3.002259\n",
      "12    2.667361\n",
      "13    2.336815\n",
      "14    1.973911\n",
      "15    1.766458\n",
      "16    1.648238\n",
      "17    0.566080\n",
      "18    0.444808\n",
      "19    0.562995\n",
      "20    0.127880\n",
      "21    0.413215\n",
      "22    0.522613\n",
      "23    0.359669\n",
      "24    0.353052\n",
      "25    0.399633\n",
      "26    0.944417\n",
      "27    1.205781\n",
      "28    1.275121\n",
      "29    1.102657\n",
      "Name: sharpe_ratio, dtype: float64\n"
     ]
    }
   ],
   "source": [
    "in_hold_sharpe = simulate_holding(in_price, **portfolio_kwargs)\n",
    "\n",
    "print(in_hold_sharpe)"
   ]
  },
  {
   "cell_type": "code",
   "execution_count": 11,
   "metadata": {},
   "outputs": [],
   "source": [
    "def simulate_all_params(price, windows, **kwargs):\n",
    "    fast_ma, slow_ma = vbt.MA.run_combs(price, windows, r=2, short_names=['fast', 'slow'])\n",
    "    entries = fast_ma.ma_above(slow_ma, crossover=True)\n",
    "    exits = fast_ma.ma_below(slow_ma, crossover=True)\n",
    "    portfolio = vbt.Portfolio.from_signals(price, entries, exits, **kwargs)\n",
    "    return portfolio.sharpe_ratio()"
   ]
  },
  {
   "cell_type": "code",
   "execution_count": 12,
   "metadata": {},
   "outputs": [
    {
     "name": "stdout",
     "output_type": "stream",
     "text": [
      "fast_window  slow_window  split_idx\n",
      "10           11           0            0.856870\n",
      "                          1            1.093530\n",
      "                          2            0.420322\n",
      "                          3            0.449279\n",
      "                          4            0.645027\n",
      "                                         ...   \n",
      "48           49           25           0.821348\n",
      "                          26           0.034521\n",
      "                          27          -0.028890\n",
      "                          28          -0.521243\n",
      "                          29          -1.126778\n",
      "Name: sharpe_ratio, Length: 23400, dtype: float64\n"
     ]
    }
   ],
   "source": [
    "# Simulate all params for in-sample ranges\n",
    "in_sharpe = simulate_all_params(in_price, windows, **portfolio_kwargs)\n",
    "\n",
    "print(in_sharpe)"
   ]
  },
  {
   "cell_type": "code",
   "execution_count": 13,
   "metadata": {},
   "outputs": [],
   "source": [
    "def get_best_index(performance, higher_better=True):\n",
    "    if higher_better:\n",
    "        return performance[performance.groupby('split_idx').idxmax()].index\n",
    "    return performance[performance.groupby('split_idx').idxmin()].index"
   ]
  },
  {
   "cell_type": "code",
   "execution_count": 14,
   "metadata": {},
   "outputs": [
    {
     "name": "stdout",
     "output_type": "stream",
     "text": [
      "MultiIndex([(27, 29,  0),\n",
      "            (27, 29,  1),\n",
      "            (21, 25,  2),\n",
      "            (23, 25,  3),\n",
      "            (20, 41,  4),\n",
      "            (40, 43,  5),\n",
      "            (41, 42,  6),\n",
      "            (33, 46,  7),\n",
      "            (31, 47,  8),\n",
      "            (10, 21,  9),\n",
      "            (10, 21, 10),\n",
      "            (10, 21, 11),\n",
      "            (10, 22, 12),\n",
      "            (10, 21, 13),\n",
      "            (10, 22, 14),\n",
      "            (10, 21, 15),\n",
      "            (10, 22, 16),\n",
      "            (10, 22, 17),\n",
      "            (10, 22, 18),\n",
      "            (17, 22, 19),\n",
      "            (17, 23, 20),\n",
      "            (13, 21, 21),\n",
      "            (13, 21, 22),\n",
      "            (18, 21, 23),\n",
      "            (18, 21, 24),\n",
      "            (18, 21, 25),\n",
      "            (13, 21, 26),\n",
      "            (13, 20, 27),\n",
      "            (13, 20, 28),\n",
      "            (13, 20, 29)],\n",
      "           names=['fast_window', 'slow_window', 'split_idx'])\n"
     ]
    }
   ],
   "source": [
    "in_best_index = get_best_index(in_sharpe)\n",
    "\n",
    "print(in_best_index)"
   ]
  },
  {
   "cell_type": "code",
   "execution_count": 15,
   "metadata": {},
   "outputs": [],
   "source": [
    "def get_best_params(best_index, level_name):\n",
    "    return best_index.get_level_values(level_name).to_numpy()"
   ]
  },
  {
   "cell_type": "code",
   "execution_count": 16,
   "metadata": {},
   "outputs": [
    {
     "name": "stdout",
     "output_type": "stream",
     "text": [
      "[[27 29]\n",
      " [27 29]\n",
      " [21 25]\n",
      " [23 25]\n",
      " [20 41]\n",
      " [40 43]\n",
      " [41 42]\n",
      " [33 46]\n",
      " [31 47]\n",
      " [10 21]\n",
      " [10 21]\n",
      " [10 21]\n",
      " [10 22]\n",
      " [10 21]\n",
      " [10 22]\n",
      " [10 21]\n",
      " [10 22]\n",
      " [10 22]\n",
      " [10 22]\n",
      " [17 22]\n",
      " [17 23]\n",
      " [13 21]\n",
      " [13 21]\n",
      " [18 21]\n",
      " [18 21]\n",
      " [18 21]\n",
      " [13 21]\n",
      " [13 20]\n",
      " [13 20]\n",
      " [13 20]]\n"
     ]
    }
   ],
   "source": [
    "in_best_fast_windows = get_best_params(in_best_index, 'fast_window')\n",
    "in_best_slow_windows = get_best_params(in_best_index, 'slow_window')\n",
    "in_best_window_pairs = np.array(list(zip(in_best_fast_windows, in_best_slow_windows)))\n",
    "\n",
    "print(in_best_window_pairs)"
   ]
  },
  {
   "cell_type": "code",
   "execution_count": 17,
   "metadata": {},
   "outputs": [
    {
     "data": {
      "image/svg+xml": [
       "<svg class=\"main-svg\" xmlns=\"http://www.w3.org/2000/svg\" xmlns:xlink=\"http://www.w3.org/1999/xlink\" width=\"700\" height=\"350\" style=\"\" viewBox=\"0 0 700 350\"><rect x=\"0\" y=\"0\" width=\"700\" height=\"350\" style=\"fill: rgb(255, 255, 255); fill-opacity: 1;\"/><defs id=\"defs-a54af2\"><g class=\"clips\"><clipPath id=\"clipa54af2xyplot\" class=\"plotclip\"><rect width=\"640\" height=\"274\"/></clipPath><clipPath class=\"axesclip\" id=\"clipa54af2x\"><rect x=\"30\" y=\"0\" width=\"640\" height=\"350\"/></clipPath><clipPath class=\"axesclip\" id=\"clipa54af2y\"><rect x=\"0\" y=\"46\" width=\"700\" height=\"274\"/></clipPath><clipPath class=\"axesclip\" id=\"clipa54af2xy\"><rect x=\"30\" y=\"46\" width=\"640\" height=\"274\"/></clipPath></g><g class=\"gradients\"/></defs><g class=\"bglayer\"><rect class=\"bg\" x=\"30\" y=\"46\" width=\"640\" height=\"274\" style=\"fill: rgb(229, 236, 246); fill-opacity: 1; stroke-width: 0;\"/></g><g class=\"layer-below\"><g class=\"imagelayer\"/><g class=\"shapelayer\"/></g><g class=\"cartesianlayer\"><g class=\"subplot xy\"><g class=\"layer-subplot\"><g class=\"shapelayer\"/><g class=\"imagelayer\"/></g><g class=\"gridlayer\"><g class=\"x\"><path class=\"xgrid crisp\" transform=\"translate(140.34,0)\" d=\"M0,46v274\" style=\"stroke: rgb(255, 255, 255); stroke-opacity: 1; stroke-width: 1px;\"/><path class=\"xgrid crisp\" transform=\"translate(250.69,0)\" d=\"M0,46v274\" style=\"stroke: rgb(255, 255, 255); stroke-opacity: 1; stroke-width: 1px;\"/><path class=\"xgrid crisp\" transform=\"translate(361.03,0)\" d=\"M0,46v274\" style=\"stroke: rgb(255, 255, 255); stroke-opacity: 1; stroke-width: 1px;\"/><path class=\"xgrid crisp\" transform=\"translate(471.38,0)\" d=\"M0,46v274\" style=\"stroke: rgb(255, 255, 255); stroke-opacity: 1; stroke-width: 1px;\"/><path class=\"xgrid crisp\" transform=\"translate(581.72,0)\" d=\"M0,46v274\" style=\"stroke: rgb(255, 255, 255); stroke-opacity: 1; stroke-width: 1px;\"/></g><g class=\"y\"><path class=\"ygrid crisp\" transform=\"translate(0,306.3)\" d=\"M30,0h640\" style=\"stroke: rgb(255, 255, 255); stroke-opacity: 1; stroke-width: 1px;\"/><path class=\"ygrid crisp\" transform=\"translate(0,239.65)\" d=\"M30,0h640\" style=\"stroke: rgb(255, 255, 255); stroke-opacity: 1; stroke-width: 1px;\"/><path class=\"ygrid crisp\" transform=\"translate(0,173)\" d=\"M30,0h640\" style=\"stroke: rgb(255, 255, 255); stroke-opacity: 1; stroke-width: 1px;\"/><path class=\"ygrid crisp\" transform=\"translate(0,106.35)\" d=\"M30,0h640\" style=\"stroke: rgb(255, 255, 255); stroke-opacity: 1; stroke-width: 1px;\"/></g></g><g class=\"zerolinelayer\"><path class=\"xzl zl crisp\" transform=\"translate(30,0)\" d=\"M0,46v274\" style=\"stroke: rgb(255, 255, 255); stroke-opacity: 1; stroke-width: 2px;\"/></g><path class=\"xlines-below\"/><path class=\"ylines-below\"/><g class=\"overlines-below\"/><g class=\"xaxislayer-below\"/><g class=\"yaxislayer-below\"/><g class=\"overaxes-below\"/><g class=\"plot\" transform=\"translate(30,46)\" clip-path=\"url('#clipa54af2xyplot')\"><g class=\"scatterlayer mlayer\"><g class=\"trace scatter trace22430ebe-7b51-487b-8899-27d323c02e90\" style=\"stroke-miterlimit: 2; opacity: 1;\"><g class=\"fills\"/><g class=\"errorbars\"/><g class=\"lines\"><path class=\"js-line\" d=\"M0,147L22.07,147L44.14,186.99L66.21,173.66L88.28,193.65L110.34,60.35L132.41,53.69L154.48,107.01L176.55,120.34L198.62,260.3L220.69,260.3L397.24,260.3L419.31,213.65L441.38,213.65L463.45,240.31L485.52,240.31L507.59,206.98L551.72,206.98L573.79,240.31L640,240.31\" style=\"vector-effect: non-scaling-stroke; fill: none; stroke: rgb(31, 119, 180); stroke-opacity: 1; stroke-width: 2px; opacity: 1;\"/></g><g class=\"points\"/><g class=\"text\"/></g><g class=\"trace scatter trace4bffa0a0-4332-4ab0-87e7-197962c73dd1\" style=\"stroke-miterlimit: 2; opacity: 1;\"><g class=\"fills\"/><g class=\"errorbars\"/><g class=\"lines\"><path class=\"js-line\" d=\"M0,133.67L22.07,133.67L44.14,160.33L66.21,160.33L88.28,53.69L110.34,40.36L132.41,47.02L154.48,20.36L176.55,13.7L198.62,186.99L220.69,186.99L242.76,186.99L264.83,180.32L286.9,186.99L308.97,180.32L331.03,186.99L353.1,180.32L419.31,180.32L441.38,173.66L463.45,186.99L485.52,186.99L573.79,186.99L595.86,193.65L640,193.65\" style=\"vector-effect: non-scaling-stroke; fill: none; stroke: rgb(255, 127, 14); stroke-opacity: 1; stroke-width: 2px; opacity: 1;\"/></g><g class=\"points\"/><g class=\"text\"/></g></g></g><g class=\"overplot\"/><path class=\"xlines-above crisp\" d=\"M0,0\" style=\"fill: none;\"/><path class=\"ylines-above crisp\" d=\"M0,0\" style=\"fill: none;\"/><g class=\"overlines-above\"/><g class=\"xaxislayer-above\"><g class=\"xtick\"><text text-anchor=\"middle\" x=\"0\" y=\"333\" transform=\"translate(30,0)\" style=\"font-family: 'Open Sans', verdana, arial, sans-serif; font-size: 12px; fill: rgb(42, 63, 95); fill-opacity: 1; white-space: pre;\">0</text></g><g class=\"xtick\"><text text-anchor=\"middle\" x=\"0\" y=\"333\" transform=\"translate(140.34,0)\" style=\"font-family: 'Open Sans', verdana, arial, sans-serif; font-size: 12px; fill: rgb(42, 63, 95); fill-opacity: 1; white-space: pre;\">5</text></g><g class=\"xtick\"><text text-anchor=\"middle\" x=\"0\" y=\"333\" transform=\"translate(250.69,0)\" style=\"font-family: 'Open Sans', verdana, arial, sans-serif; font-size: 12px; fill: rgb(42, 63, 95); fill-opacity: 1; white-space: pre;\">10</text></g><g class=\"xtick\"><text text-anchor=\"middle\" x=\"0\" y=\"333\" transform=\"translate(361.03,0)\" style=\"font-family: 'Open Sans', verdana, arial, sans-serif; font-size: 12px; fill: rgb(42, 63, 95); fill-opacity: 1; white-space: pre;\">15</text></g><g class=\"xtick\"><text text-anchor=\"middle\" x=\"0\" y=\"333\" transform=\"translate(471.38,0)\" style=\"font-family: 'Open Sans', verdana, arial, sans-serif; font-size: 12px; fill: rgb(42, 63, 95); fill-opacity: 1; white-space: pre;\">20</text></g><g class=\"xtick\"><text text-anchor=\"middle\" x=\"0\" y=\"333\" transform=\"translate(581.72,0)\" style=\"font-family: 'Open Sans', verdana, arial, sans-serif; font-size: 12px; fill: rgb(42, 63, 95); fill-opacity: 1; white-space: pre;\">25</text></g></g><g class=\"yaxislayer-above\"><g class=\"ytick\"><text text-anchor=\"end\" x=\"29\" y=\"4.199999999999999\" transform=\"translate(0,306.3)\" style=\"font-family: 'Open Sans', verdana, arial, sans-serif; font-size: 12px; fill: rgb(42, 63, 95); fill-opacity: 1; white-space: pre;\">10</text></g><g class=\"ytick\"><text text-anchor=\"end\" x=\"29\" y=\"4.199999999999999\" transform=\"translate(0,239.65)\" style=\"font-family: 'Open Sans', verdana, arial, sans-serif; font-size: 12px; fill: rgb(42, 63, 95); fill-opacity: 1; white-space: pre;\">20</text></g><g class=\"ytick\"><text text-anchor=\"end\" x=\"29\" y=\"4.199999999999999\" transform=\"translate(0,173)\" style=\"font-family: 'Open Sans', verdana, arial, sans-serif; font-size: 12px; fill: rgb(42, 63, 95); fill-opacity: 1; white-space: pre;\">30</text></g><g class=\"ytick\"><text text-anchor=\"end\" x=\"29\" y=\"4.199999999999999\" transform=\"translate(0,106.35)\" style=\"font-family: 'Open Sans', verdana, arial, sans-serif; font-size: 12px; fill: rgb(42, 63, 95); fill-opacity: 1; white-space: pre;\">40</text></g></g><g class=\"overaxes-above\"/></g></g><g class=\"polarlayer\"/><g class=\"ternarylayer\"/><g class=\"geolayer\"/><g class=\"funnelarealayer\"/><g class=\"pielayer\"/><g class=\"treemaplayer\"/><g class=\"sunburstlayer\"/><g class=\"glimages\"/><defs id=\"topdefs-a54af2\"><g class=\"clips\"/><clipPath id=\"legenda54af2\"><rect width=\"245\" height=\"29\" x=\"0\" y=\"0\"/></clipPath></defs><g class=\"layer-above\"><g class=\"imagelayer\"/><g class=\"shapelayer\"/></g><g class=\"infolayer\"><g class=\"legend\" pointer-events=\"all\" transform=\"translate(425,11.519999999999996)\"><rect class=\"bg\" shape-rendering=\"crispEdges\" style=\"stroke: rgb(68, 68, 68); stroke-opacity: 1; fill: rgb(255, 255, 255); fill-opacity: 1; stroke-width: 0px;\" width=\"245\" height=\"29\" x=\"0\" y=\"0\"/><g class=\"scrollbox\" transform=\"\" clip-path=\"url('#legenda54af2')\"><g class=\"groups\"><g class=\"traces\" transform=\"translate(0,14.5)\" style=\"opacity: 1;\"><text class=\"legendtext\" text-anchor=\"start\" x=\"40\" y=\"4.680000000000001\" style=\"font-family: 'Open Sans', verdana, arial, sans-serif; font-size: 12px; fill: rgb(42, 63, 95); fill-opacity: 1; white-space: pre;\">fast_window</text><g class=\"layers\" style=\"opacity: 1;\"><g class=\"legendfill\"/><g class=\"legendlines\"><path class=\"js-line\" d=\"M5,0h30\" style=\"fill: none; stroke: rgb(31, 119, 180); stroke-opacity: 1; stroke-width: 2px;\"/></g><g class=\"legendsymbols\"><g class=\"legendpoints\"/></g></g><rect class=\"legendtoggle\" x=\"0\" y=\"-9.5\" width=\"117.828125\" height=\"19\" style=\"fill: rgb(0, 0, 0); fill-opacity: 0;\"/></g><g class=\"traces\" transform=\"translate(120.328125,14.5)\" style=\"opacity: 1;\"><text class=\"legendtext\" text-anchor=\"start\" x=\"40\" y=\"4.680000000000001\" style=\"font-family: 'Open Sans', verdana, arial, sans-serif; font-size: 12px; fill: rgb(42, 63, 95); fill-opacity: 1; white-space: pre;\">slow_window</text><g class=\"layers\" style=\"opacity: 1;\"><g class=\"legendfill\"/><g class=\"legendlines\"><path class=\"js-line\" d=\"M5,0h30\" style=\"fill: none; stroke: rgb(255, 127, 14); stroke-opacity: 1; stroke-width: 2px;\"/></g><g class=\"legendsymbols\"><g class=\"legendpoints\"/></g></g><rect class=\"legendtoggle\" x=\"0\" y=\"-9.5\" width=\"122.078125\" height=\"19\" style=\"fill: rgb(0, 0, 0); fill-opacity: 0;\"/></g></g></g><rect class=\"scrollbar\" rx=\"20\" ry=\"3\" width=\"0\" height=\"0\" style=\"fill: rgb(128, 139, 164); fill-opacity: 1;\" x=\"0\" y=\"0\"/></g><g class=\"g-gtitle\"/><g class=\"g-xtitle\"/><g class=\"g-ytitle\"/></g></svg>"
      ]
     },
     "metadata": {},
     "output_type": "display_data"
    }
   ],
   "source": [
    "pd.DataFrame(in_best_window_pairs, columns=['fast_window', 'slow_window']).vbt.plot().show_svg()"
   ]
  },
  {
   "cell_type": "code",
   "execution_count": 18,
   "metadata": {},
   "outputs": [
    {
     "name": "stdout",
     "output_type": "stream",
     "text": [
      "split_idx\n",
      "0     1.773721\n",
      "1     1.934571\n",
      "2     1.675314\n",
      "3     2.633584\n",
      "4     2.905083\n",
      "5     3.428684\n",
      "6     3.548628\n",
      "7     3.442387\n",
      "8     3.771082\n",
      "9     1.856521\n",
      "10    1.471389\n",
      "11   -1.190893\n",
      "12   -1.046378\n",
      "13   -0.809331\n",
      "14   -2.122871\n",
      "15   -1.492398\n",
      "16   -0.333313\n",
      "17    2.778420\n",
      "18    3.357516\n",
      "19    1.522591\n",
      "20    0.234074\n",
      "21   -0.247918\n",
      "22   -0.222001\n",
      "23    0.874355\n",
      "24    0.720986\n",
      "25    1.897656\n",
      "26    3.193577\n",
      "27    4.693180\n",
      "28    4.804021\n",
      "29    2.703808\n",
      "Name: sharpe_ratio, dtype: float64\n"
     ]
    }
   ],
   "source": [
    "out_hold_sharpe = simulate_holding(out_price, **portfolio_kwargs)\n",
    "\n",
    "print(out_hold_sharpe)"
   ]
  },
  {
   "cell_type": "code",
   "execution_count": 19,
   "metadata": {},
   "outputs": [
    {
     "name": "stdout",
     "output_type": "stream",
     "text": [
      "fast_window  slow_window  split_idx\n",
      "10           11           0           -1.018512\n",
      "                          1           -0.517213\n",
      "                          2            1.725101\n",
      "                          3            0.166028\n",
      "                          4            1.899190\n",
      "                                         ...   \n",
      "48           49           25          -1.449657\n",
      "                          26          -1.036444\n",
      "                          27           2.847515\n",
      "                          28           4.252549\n",
      "                          29           0.400744\n",
      "Name: sharpe_ratio, Length: 23400, dtype: float64\n"
     ]
    }
   ],
   "source": [
    "# Simulate all params for out-sample ranges\n",
    "out_sharpe = simulate_all_params(out_price, windows, **portfolio_kwargs)\n",
    "\n",
    "print(out_sharpe)"
   ]
  },
  {
   "cell_type": "code",
   "execution_count": 20,
   "metadata": {},
   "outputs": [],
   "source": [
    "def simulate_best_params(price, best_fast_windows, best_slow_windows, **kwargs):\n",
    "    fast_ma = vbt.MA.run(price, window=best_fast_windows, per_column=True)\n",
    "    slow_ma = vbt.MA.run(price, window=best_slow_windows, per_column=True)\n",
    "    entries = fast_ma.ma_above(slow_ma, crossover=True)\n",
    "    exits = fast_ma.ma_below(slow_ma, crossover=True)\n",
    "    portfolio = vbt.Portfolio.from_signals(price, entries, exits, **kwargs)\n",
    "    return portfolio.sharpe_ratio()"
   ]
  },
  {
   "cell_type": "code",
   "execution_count": 21,
   "metadata": {},
   "outputs": [
    {
     "name": "stdout",
     "output_type": "stream",
     "text": [
      "ma_window  ma_window  split_idx\n",
      "27         29         0            1.164082\n",
      "                      1            0.210568\n",
      "21         25         2            1.793432\n",
      "23         25         3            1.430223\n",
      "20         41         4            0.142040\n",
      "40         43         5            2.151938\n",
      "41         42         6            0.811184\n",
      "33         46         7           -1.387300\n",
      "31         47         8            0.948166\n",
      "10         21         9            3.119703\n",
      "                      10           2.523699\n",
      "                      11           1.731508\n",
      "           22         12           1.636620\n",
      "           21         13           0.960527\n",
      "           22         14           1.732295\n",
      "           21         15          -0.223707\n",
      "           22         16           1.732838\n",
      "                      17           2.597476\n",
      "                      18           0.763577\n",
      "17         22         19           0.726810\n",
      "           23         20          -0.187969\n",
      "13         21         21           1.316547\n",
      "                      22           1.451175\n",
      "18         21         23           1.716750\n",
      "                      24           0.500276\n",
      "                      25           0.137020\n",
      "13         21         26           4.208619\n",
      "           20         27           4.646287\n",
      "                      28           2.704802\n",
      "                      29           0.013611\n",
      "Name: sharpe_ratio, dtype: float64\n"
     ]
    }
   ],
   "source": [
    "# Use best params from in-sample ranges and simulate them for out-sample ranges\n",
    "out_test_sharpe = simulate_best_params(out_price, in_best_fast_windows, in_best_slow_windows, **portfolio_kwargs)\n",
    "\n",
    "print(out_test_sharpe)"
   ]
  },
  {
   "cell_type": "code",
   "execution_count": 22,
   "metadata": {},
   "outputs": [],
   "source": [
    "cv_results_df = pd.DataFrame({\n",
    "    'in_sample_hold': in_hold_sharpe.values,\n",
    "    'in_sample_median': in_sharpe.groupby('split_idx').median().values,\n",
    "    'in_sample_best': in_sharpe[in_best_index].values,\n",
    "    'out_sample_hold': out_hold_sharpe.values,\n",
    "    'out_sample_median': out_sharpe.groupby('split_idx').median().values,\n",
    "    'out_sample_test': out_test_sharpe.values\n",
    "})"
   ]
  },
  {
   "cell_type": "code",
   "execution_count": 24,
   "metadata": {},
   "outputs": [
    {
     "data": {
      "image/svg+xml": [
       "<svg class=\"main-svg\" xmlns=\"http://www.w3.org/2000/svg\" xmlns:xlink=\"http://www.w3.org/1999/xlink\" width=\"700\" height=\"350\" style=\"\" viewBox=\"0 0 700 350\"><rect x=\"0\" y=\"0\" width=\"700\" height=\"350\" style=\"fill: rgb(255, 255, 255); fill-opacity: 1;\"/><defs id=\"defs-9e1eff\"><g class=\"clips\"><clipPath id=\"clip9e1effxyplot\" class=\"plotclip\"><rect width=\"640\" height=\"255\"/></clipPath><clipPath class=\"axesclip\" id=\"clip9e1effx\"><rect x=\"30\" y=\"0\" width=\"640\" height=\"350\"/></clipPath><clipPath class=\"axesclip\" id=\"clip9e1effy\"><rect x=\"0\" y=\"65\" width=\"700\" height=\"255\"/></clipPath><clipPath class=\"axesclip\" id=\"clip9e1effxy\"><rect x=\"30\" y=\"65\" width=\"640\" height=\"255\"/></clipPath></g><g class=\"gradients\"/></defs><g class=\"bglayer\"><rect class=\"bg\" x=\"30\" y=\"65\" width=\"640\" height=\"255\" style=\"fill: rgb(229, 236, 246); fill-opacity: 1; stroke-width: 0;\"/></g><g class=\"layer-below\"><g class=\"imagelayer\"/><g class=\"shapelayer\"/></g><g class=\"cartesianlayer\"><g class=\"subplot xy\"><g class=\"layer-subplot\"><g class=\"shapelayer\"/><g class=\"imagelayer\"/></g><g class=\"gridlayer\"><g class=\"x\"><path class=\"xgrid crisp\" transform=\"translate(140.34,0)\" d=\"M0,65v255\" style=\"stroke: rgb(255, 255, 255); stroke-opacity: 1; stroke-width: 1px;\"/><path class=\"xgrid crisp\" transform=\"translate(250.69,0)\" d=\"M0,65v255\" style=\"stroke: rgb(255, 255, 255); stroke-opacity: 1; stroke-width: 1px;\"/><path class=\"xgrid crisp\" transform=\"translate(361.03,0)\" d=\"M0,65v255\" style=\"stroke: rgb(255, 255, 255); stroke-opacity: 1; stroke-width: 1px;\"/><path class=\"xgrid crisp\" transform=\"translate(471.38,0)\" d=\"M0,65v255\" style=\"stroke: rgb(255, 255, 255); stroke-opacity: 1; stroke-width: 1px;\"/><path class=\"xgrid crisp\" transform=\"translate(581.72,0)\" d=\"M0,65v255\" style=\"stroke: rgb(255, 255, 255); stroke-opacity: 1; stroke-width: 1px;\"/></g><g class=\"y\"><path class=\"ygrid crisp\" transform=\"translate(0,303.18)\" d=\"M30,0h640\" style=\"stroke: rgb(255, 255, 255); stroke-opacity: 1; stroke-width: 1px;\"/><path class=\"ygrid crisp\" transform=\"translate(0,170.65)\" d=\"M30,0h640\" style=\"stroke: rgb(255, 255, 255); stroke-opacity: 1; stroke-width: 1px;\"/><path class=\"ygrid crisp\" transform=\"translate(0,104.39)\" d=\"M30,0h640\" style=\"stroke: rgb(255, 255, 255); stroke-opacity: 1; stroke-width: 1px;\"/></g></g><g class=\"zerolinelayer\"><path class=\"xzl zl crisp\" transform=\"translate(30,0)\" d=\"M0,65v255\" style=\"stroke: rgb(255, 255, 255); stroke-opacity: 1; stroke-width: 2px;\"/><path class=\"yzl zl crisp\" transform=\"translate(0,236.92)\" d=\"M30,0h640\" style=\"stroke: rgb(255, 255, 255); stroke-opacity: 1; stroke-width: 2px;\"/></g><path class=\"xlines-below\"/><path class=\"ylines-below\"/><g class=\"overlines-below\"/><g class=\"xaxislayer-below\"/><g class=\"yaxislayer-below\"/><g class=\"overaxes-below\"/><g class=\"plot\" transform=\"translate(30,65)\" clip-path=\"url('#clip9e1effxyplot')\"><g class=\"scatterlayer mlayer\"><g class=\"trace scatter trace8bea1e15-744b-46b3-b015-13dc66162abe\" style=\"stroke-miterlimit: 2; opacity: 1;\"><g class=\"fills\"/><g class=\"errorbars\"/><g class=\"lines\"><path class=\"js-line\" d=\"M0,164.32L22.07,154.76L44.14,130.32L66.21,133.78L88.28,118.44L110.34,114.42L132.41,93.59L154.48,104.54L176.55,96.27L198.62,80.14L220.69,81.46L242.76,72.45L264.83,83.54L286.9,94.49L308.97,106.52L331.03,113.39L353.1,117.31L375.17,153.16L397.24,157.18L419.31,153.26L441.38,167.68L463.45,158.23L485.52,154.6L507.59,160L529.66,160.22L551.72,158.68L573.79,140.63L595.86,131.97L617.93,129.67L640,135.38\" style=\"vector-effect: non-scaling-stroke; fill: none; stroke: rgb(31, 119, 180); stroke-opacity: 1; stroke-width: 2px; opacity: 1;\"/></g><g class=\"points\"/><g class=\"text\"/></g><g class=\"trace scatter trace2f145a94-9a84-4cb1-a56f-10dfa30429d7\" style=\"stroke-miterlimit: 2; opacity: 1;\"><g class=\"fills\"/><g class=\"errorbars\"/><g class=\"lines\"><path class=\"js-line\" d=\"M0,151.24L22.07,140.06L44.14,144.37L66.21,143.14L88.28,134.51L110.34,125.01L132.41,123.48L154.48,144.6L176.55,122.68L198.62,111.66L220.69,131.15L242.76,114.18L264.83,112.6L286.9,121.32L308.97,127.5L331.03,128.97L353.1,137.51L375.17,136L397.24,142.69L419.31,137.94L441.38,147.24L463.45,143.81L485.52,137.89L507.59,150.22L529.66,138.68L551.72,134.52L573.79,138.06L595.86,131.49L617.93,145.43L640,151.61\" style=\"vector-effect: non-scaling-stroke; fill: none; stroke: rgb(31, 119, 180); stroke-opacity: 1; stroke-width: 2px; opacity: 1; stroke-dasharray: 9px, 9px;\"/></g><g class=\"points\"/><g class=\"text\"/></g><g class=\"trace scatter tracef35061ea-3b98-4f27-b6ef-a8b8774cbedc\" style=\"stroke-miterlimit: 2; opacity: 1;\"><g class=\"fills\"/><g class=\"errorbars\"/><g class=\"lines\"><path class=\"js-line\" d=\"M0,104.22L22.07,103.19L44.14,105.26L66.21,108.57L88.28,105.58L132.41,91.78L154.48,116.71L176.55,95.25L198.62,83.47L220.69,83.94L242.76,61.78L264.83,62.76L286.9,68.63L308.97,71.33L331.03,69.78L353.1,79.28L375.17,91.43L397.24,104.69L419.31,95.96L441.38,106.63L463.45,97.5L485.52,98.28L507.59,111.45L529.66,106.47L551.72,96.12L573.79,104.27L595.86,104.53L617.93,103.01L640,103.65\" style=\"vector-effect: non-scaling-stroke; fill: none; stroke: rgb(31, 119, 180); stroke-opacity: 1; stroke-width: 2px; opacity: 1; stroke-dasharray: 3px, 3px;\"/></g><g class=\"points\"/><g class=\"text\"/></g><g class=\"trace scatter trace857f4261-7495-4520-bdab-3c78e140bb50\" style=\"stroke-miterlimit: 2; opacity: 1;\"><g class=\"fills\"/><g class=\"errorbars\"/><g class=\"lines\"><path class=\"js-line\" d=\"M0,113.15L22.07,107.82L44.14,116.41L66.21,84.66L88.28,75.67L110.34,58.32L132.41,54.34L154.48,57.86L176.55,46.97L198.62,110.41L220.69,123.17L242.76,211.37L264.83,206.58L286.9,198.73L308.97,242.25L331.03,221.36L353.1,182.96L375.17,79.86L397.24,60.68L419.31,121.47L441.38,164.16L463.45,180.13L485.52,179.27L507.59,142.95L529.66,148.03L551.72,109.04L573.79,66.11L595.86,16.42L617.93,12.75L640,82.33\" style=\"vector-effect: non-scaling-stroke; fill: none; stroke: rgb(255, 127, 14); stroke-opacity: 1; stroke-width: 2px; opacity: 1;\"/></g><g class=\"points\"/><g class=\"text\"/></g><g class=\"trace scatter traceb6f3f6b7-7557-47ae-80a4-a7fd35b879f8\" style=\"stroke-miterlimit: 2; opacity: 1;\"><g class=\"fills\"/><g class=\"errorbars\"/><g class=\"lines\"><path class=\"js-line\" d=\"M0,129.12L22.07,136.25L44.14,109.96L66.21,120.52L88.28,144.56L110.34,100.01L132.41,65.58L154.48,155.56L176.55,101.23L198.62,80.38L220.69,148.77L242.76,187.09L264.83,221.78L286.9,187.83L308.97,138.85L331.03,122.11L353.1,130.85L375.17,95.07L397.24,96.62L419.31,145.45L441.38,216.17L463.45,179.27L485.52,154.78L507.59,117.17L529.66,127.21L551.72,164.5L573.79,101.74L595.86,42.51L617.93,66.39L640,121.91\" style=\"vector-effect: non-scaling-stroke; fill: none; stroke: rgb(255, 127, 14); stroke-opacity: 1; stroke-width: 2px; opacity: 1; stroke-dasharray: 9px, 9px;\"/></g><g class=\"points\"/><g class=\"text\"/></g><g class=\"trace scatter tracecbe0b7f4-5359-455c-bf89-b74a2d5a654b\" style=\"stroke-miterlimit: 2; opacity: 1;\"><g class=\"fills\"/><g class=\"errorbars\"/><g class=\"lines\"><path class=\"js-line\" d=\"M0,133.35L22.07,164.94L44.14,112.5L66.21,124.53L88.28,167.21L110.34,100.62L132.41,145.04L154.48,217.88L176.55,140.5L198.62,68.55L220.69,88.3L242.76,114.55L264.83,117.69L286.9,140.09L308.97,114.52L331.03,179.33L353.1,114.5L375.17,85.86L397.24,146.62L419.31,147.84L441.38,178.14L463.45,128.3L485.52,123.84L507.59,115.04L529.66,155.34L551.72,167.38L573.79,32.48L595.86,17.98L617.93,82.3L640,171.46\" style=\"vector-effect: non-scaling-stroke; fill: none; stroke: rgb(255, 127, 14); stroke-opacity: 1; stroke-width: 2px; opacity: 1; stroke-dasharray: 3px, 3px;\"/></g><g class=\"points\"/><g class=\"text\"/></g></g></g><g class=\"overplot\"/><path class=\"xlines-above crisp\" d=\"M0,0\" style=\"fill: none;\"/><path class=\"ylines-above crisp\" d=\"M0,0\" style=\"fill: none;\"/><g class=\"overlines-above\"/><g class=\"xaxislayer-above\"><g class=\"xtick\"><text text-anchor=\"middle\" x=\"0\" y=\"333\" transform=\"translate(30,0)\" style=\"font-family: 'Open Sans', verdana, arial, sans-serif; font-size: 12px; fill: rgb(42, 63, 95); fill-opacity: 1; white-space: pre;\">0</text></g><g class=\"xtick\"><text text-anchor=\"middle\" x=\"0\" y=\"333\" transform=\"translate(140.34,0)\" style=\"font-family: 'Open Sans', verdana, arial, sans-serif; font-size: 12px; fill: rgb(42, 63, 95); fill-opacity: 1; white-space: pre;\">5</text></g><g class=\"xtick\"><text text-anchor=\"middle\" x=\"0\" y=\"333\" transform=\"translate(250.69,0)\" style=\"font-family: 'Open Sans', verdana, arial, sans-serif; font-size: 12px; fill: rgb(42, 63, 95); fill-opacity: 1; white-space: pre;\">10</text></g><g class=\"xtick\"><text text-anchor=\"middle\" x=\"0\" y=\"333\" transform=\"translate(361.03,0)\" style=\"font-family: 'Open Sans', verdana, arial, sans-serif; font-size: 12px; fill: rgb(42, 63, 95); fill-opacity: 1; white-space: pre;\">15</text></g><g class=\"xtick\"><text text-anchor=\"middle\" x=\"0\" y=\"333\" transform=\"translate(471.38,0)\" style=\"font-family: 'Open Sans', verdana, arial, sans-serif; font-size: 12px; fill: rgb(42, 63, 95); fill-opacity: 1; white-space: pre;\">20</text></g><g class=\"xtick\"><text text-anchor=\"middle\" x=\"0\" y=\"333\" transform=\"translate(581.72,0)\" style=\"font-family: 'Open Sans', verdana, arial, sans-serif; font-size: 12px; fill: rgb(42, 63, 95); fill-opacity: 1; white-space: pre;\">25</text></g></g><g class=\"yaxislayer-above\"><g class=\"ytick\"><text text-anchor=\"end\" x=\"29\" y=\"4.199999999999999\" transform=\"translate(0,303.18)\" style=\"font-family: 'Open Sans', verdana, arial, sans-serif; font-size: 12px; fill: rgb(42, 63, 95); fill-opacity: 1; white-space: pre;\">−2</text></g><g class=\"ytick\"><text text-anchor=\"end\" x=\"29\" y=\"4.199999999999999\" transform=\"translate(0,236.92)\" style=\"font-family: 'Open Sans', verdana, arial, sans-serif; font-size: 12px; fill: rgb(42, 63, 95); fill-opacity: 1; white-space: pre;\">0</text></g><g class=\"ytick\"><text text-anchor=\"end\" x=\"29\" y=\"4.199999999999999\" transform=\"translate(0,170.65)\" style=\"font-family: 'Open Sans', verdana, arial, sans-serif; font-size: 12px; fill: rgb(42, 63, 95); fill-opacity: 1; white-space: pre;\">2</text></g><g class=\"ytick\"><text text-anchor=\"end\" x=\"29\" y=\"4.199999999999999\" transform=\"translate(0,104.39)\" style=\"font-family: 'Open Sans', verdana, arial, sans-serif; font-size: 12px; fill: rgb(42, 63, 95); fill-opacity: 1; white-space: pre;\">4</text></g></g><g class=\"overaxes-above\"/></g></g><g class=\"polarlayer\"/><g class=\"ternarylayer\"/><g class=\"geolayer\"/><g class=\"funnelarealayer\"/><g class=\"pielayer\"/><g class=\"treemaplayer\"/><g class=\"sunburstlayer\"/><g class=\"glimages\"/><defs id=\"topdefs-9e1eff\"><g class=\"clips\"/><clipPath id=\"legend9e1eff\"><rect width=\"481\" height=\"48\" x=\"0\" y=\"0\"/></clipPath></defs><g class=\"layer-above\"><g class=\"imagelayer\"/><g class=\"shapelayer\"/></g><g class=\"infolayer\"><g class=\"legend\" pointer-events=\"all\" transform=\"translate(189,11.899999999999991)\"><rect class=\"bg\" shape-rendering=\"crispEdges\" style=\"stroke: rgb(68, 68, 68); stroke-opacity: 1; fill: rgb(255, 255, 255); fill-opacity: 1; stroke-width: 0px;\" width=\"481\" height=\"48\" x=\"0\" y=\"0\"/><g class=\"scrollbox\" transform=\"\" clip-path=\"url('#legend9e1eff')\"><g class=\"groups\"><g class=\"traces\" transform=\"translate(0,14.5)\" style=\"opacity: 1;\"><text class=\"legendtext\" text-anchor=\"start\" x=\"40\" y=\"4.680000000000001\" style=\"font-family: 'Open Sans', verdana, arial, sans-serif; font-size: 12px; fill: rgb(42, 63, 95); fill-opacity: 1; white-space: pre;\">in_sample_hold</text><g class=\"layers\" style=\"opacity: 1;\"><g class=\"legendfill\"/><g class=\"legendlines\"><path class=\"js-line\" d=\"M5,0h30\" style=\"fill: none; stroke: rgb(31, 119, 180); stroke-opacity: 1; stroke-width: 2px;\"/></g><g class=\"legendsymbols\"><g class=\"legendpoints\"/></g></g><rect class=\"legendtoggle\" x=\"0\" y=\"-9.5\" width=\"137.34375\" height=\"19\" style=\"fill: rgb(0, 0, 0); fill-opacity: 0;\"/></g><g class=\"traces\" transform=\"translate(167.3125,14.5)\" style=\"opacity: 1;\"><text class=\"legendtext\" text-anchor=\"start\" x=\"40\" y=\"4.680000000000001\" style=\"font-family: 'Open Sans', verdana, arial, sans-serif; font-size: 12px; fill: rgb(42, 63, 95); fill-opacity: 1; white-space: pre;\">in_sample_median</text><g class=\"layers\" style=\"opacity: 1;\"><g class=\"legendfill\"/><g class=\"legendlines\"><path class=\"js-line\" d=\"M5,0h30\" style=\"fill: none; stroke: rgb(31, 119, 180); stroke-opacity: 1; stroke-dasharray: 9px, 9px; stroke-width: 2px;\"/></g><g class=\"legendsymbols\"><g class=\"legendpoints\"/></g></g><rect class=\"legendtoggle\" x=\"0\" y=\"-9.5\" width=\"156.09375\" height=\"19\" style=\"fill: rgb(0, 0, 0); fill-opacity: 0;\"/></g><g class=\"traces\" transform=\"translate(334.625,14.5)\" style=\"opacity: 1;\"><text class=\"legendtext\" text-anchor=\"start\" x=\"40\" y=\"4.680000000000001\" style=\"font-family: 'Open Sans', verdana, arial, sans-serif; font-size: 12px; fill: rgb(42, 63, 95); fill-opacity: 1; white-space: pre;\">in_sample_best</text><g class=\"layers\" style=\"opacity: 1;\"><g class=\"legendfill\"/><g class=\"legendlines\"><path class=\"js-line\" d=\"M5,0h30\" style=\"fill: none; stroke: rgb(31, 119, 180); stroke-opacity: 1; stroke-dasharray: 3px, 3px; stroke-width: 2px;\"/></g><g class=\"legendsymbols\"><g class=\"legendpoints\"/></g></g><rect class=\"legendtoggle\" x=\"0\" y=\"-9.5\" width=\"137.3125\" height=\"19\" style=\"fill: rgb(0, 0, 0); fill-opacity: 0;\"/></g><g class=\"traces\" transform=\"translate(0,33.5)\" style=\"opacity: 1;\"><text class=\"legendtext\" text-anchor=\"start\" x=\"40\" y=\"4.680000000000001\" style=\"font-family: 'Open Sans', verdana, arial, sans-serif; font-size: 12px; fill: rgb(42, 63, 95); fill-opacity: 1; white-space: pre;\">out_sample_hold</text><g class=\"layers\" style=\"opacity: 1;\"><g class=\"legendfill\"/><g class=\"legendlines\"><path class=\"js-line\" d=\"M5,0h30\" style=\"fill: none; stroke: rgb(255, 127, 14); stroke-opacity: 1; stroke-width: 2px;\"/></g><g class=\"legendsymbols\"><g class=\"legendpoints\"/></g></g><rect class=\"legendtoggle\" x=\"0\" y=\"-9.5\" width=\"146.0625\" height=\"19\" style=\"fill: rgb(0, 0, 0); fill-opacity: 0;\"/></g><g class=\"traces\" transform=\"translate(167.3125,33.5)\" style=\"opacity: 1;\"><text class=\"legendtext\" text-anchor=\"start\" x=\"40\" y=\"4.680000000000001\" style=\"font-family: 'Open Sans', verdana, arial, sans-serif; font-size: 12px; fill: rgb(42, 63, 95); fill-opacity: 1; white-space: pre;\">out_sample_median</text><g class=\"layers\" style=\"opacity: 1;\"><g class=\"legendfill\"/><g class=\"legendlines\"><path class=\"js-line\" d=\"M5,0h30\" style=\"fill: none; stroke: rgb(255, 127, 14); stroke-opacity: 1; stroke-dasharray: 9px, 9px; stroke-width: 2px;\"/></g><g class=\"legendsymbols\"><g class=\"legendpoints\"/></g></g><rect class=\"legendtoggle\" x=\"0\" y=\"-9.5\" width=\"164.8125\" height=\"19\" style=\"fill: rgb(0, 0, 0); fill-opacity: 0;\"/></g><g class=\"traces\" transform=\"translate(334.625,33.5)\" style=\"opacity: 1;\"><text class=\"legendtext\" text-anchor=\"start\" x=\"40\" y=\"4.680000000000001\" style=\"font-family: 'Open Sans', verdana, arial, sans-serif; font-size: 12px; fill: rgb(42, 63, 95); fill-opacity: 1; white-space: pre;\">out_sample_test</text><g class=\"layers\" style=\"opacity: 1;\"><g class=\"legendfill\"/><g class=\"legendlines\"><path class=\"js-line\" d=\"M5,0h30\" style=\"fill: none; stroke: rgb(255, 127, 14); stroke-opacity: 1; stroke-dasharray: 3px, 3px; stroke-width: 2px;\"/></g><g class=\"legendsymbols\"><g class=\"legendpoints\"/></g></g><rect class=\"legendtoggle\" x=\"0\" y=\"-9.5\" width=\"143.28125\" height=\"19\" style=\"fill: rgb(0, 0, 0); fill-opacity: 0;\"/></g></g></g><rect class=\"scrollbar\" rx=\"20\" ry=\"3\" width=\"0\" height=\"0\" style=\"fill: rgb(128, 139, 164); fill-opacity: 1;\" x=\"0\" y=\"0\"/></g><g class=\"g-gtitle\"/><g class=\"g-xtitle\"/><g class=\"g-ytitle\"/></g></svg>"
      ]
     },
     "metadata": {},
     "output_type": "display_data"
    }
   ],
   "source": [
    "color_schema = vbt.settings['plotting']['color_schema']\n",
    "\n",
    "cv_results_df.vbt.plot(\n",
    "    trace_kwargs=[\n",
    "        dict(line_color=color_schema['blue']),\n",
    "        dict(line_color=color_schema['blue'], line_dash='dash'),\n",
    "        dict(line_color=color_schema['blue'], line_dash='dot'),\n",
    "        dict(line_color=color_schema['orange']),\n",
    "        dict(line_color=color_schema['orange'], line_dash='dash'),\n",
    "        dict(line_color=color_schema['orange'], line_dash='dot')\n",
    "    ]\n",
    ").show_svg()"
   ]
  },
  {
   "cell_type": "code",
   "execution_count": null,
   "metadata": {},
   "outputs": [],
   "source": []
  }
 ],
 "metadata": {
  "kernelspec": {
   "display_name": "Python 3",
   "language": "python",
   "name": "python3"
  },
  "language_info": {
   "codemirror_mode": {
    "name": "ipython",
    "version": 3
   },
   "file_extension": ".py",
   "mimetype": "text/x-python",
   "name": "python",
   "nbconvert_exporter": "python",
   "pygments_lexer": "ipython3",
   "version": "3.7.3"
  }
 },
 "nbformat": 4,
 "nbformat_minor": 4
}
