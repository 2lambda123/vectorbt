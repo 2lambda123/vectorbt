{
 "cells": [
  {
   "cell_type": "code",
   "execution_count": 1,
   "metadata": {},
   "outputs": [],
   "source": [
    "import numpy as np\n",
    "import pandas as pd\n",
    "import vectorbt as vbt"
   ]
  },
  {
   "cell_type": "code",
   "execution_count": 2,
   "metadata": {},
   "outputs": [],
   "source": [
    "split_kwargs = dict(\n",
    "    n=30, \n",
    "    window_len=365 * 2, \n",
    "    set_lens=(180,), \n",
    "    left_to_right=False\n",
    ")  # 30 windows, each 2 years long, reserve 180 days for test\n",
    "portfolio_kwargs = dict(\n",
    "    direction='all',  # long and short\n",
    "    freq='d'\n",
    ")\n",
    "windows = np.arange(10, 50)"
   ]
  },
  {
   "cell_type": "code",
   "execution_count": 3,
   "metadata": {},
   "outputs": [],
   "source": [
    "price = vbt.YFData.download('BTC-USD').get('Close')"
   ]
  },
  {
   "cell_type": "code",
   "execution_count": 4,
   "metadata": {},
   "outputs": [
    {
     "name": "stdout",
     "output_type": "stream",
     "text": [
      "Date\n",
      "2014-09-17 00:00:00+00:00      457.334015\n",
      "2014-09-18 00:00:00+00:00      424.440002\n",
      "2014-09-19 00:00:00+00:00      394.795990\n",
      "2014-09-20 00:00:00+00:00      408.903992\n",
      "2014-09-21 00:00:00+00:00      398.821014\n",
      "                                 ...     \n",
      "2021-04-28 00:00:00+00:00    54824.703125\n",
      "2021-04-29 00:00:00+00:00    53555.109375\n",
      "2021-04-30 00:00:00+00:00    57750.175781\n",
      "2021-05-01 00:00:00+00:00    57828.050781\n",
      "2021-05-02 00:00:00+00:00    56573.363281\n",
      "Name: Close, Length: 2416, dtype: float64\n"
     ]
    }
   ],
   "source": [
    "print(price)"
   ]
  },
  {
   "cell_type": "code",
   "execution_count": 4,
   "metadata": {},
   "outputs": [
    {
     "data": {
      "image/svg+xml": [
       "<svg class=\"main-svg\" xmlns=\"http://www.w3.org/2000/svg\" xmlns:xlink=\"http://www.w3.org/1999/xlink\" width=\"700\" height=\"350\" style=\"\" viewBox=\"0 0 700 350\"><rect x=\"0\" y=\"0\" width=\"700\" height=\"350\" style=\"fill: rgb(255, 255, 255); fill-opacity: 1;\"/><defs id=\"defs-db8a1e\"><g class=\"clips\"><clipPath id=\"clipdb8a1exyplot\" class=\"plotclip\"><rect width=\"635\" height=\"274\"/></clipPath><clipPath class=\"axesclip\" id=\"clipdb8a1ex\"><rect x=\"35\" y=\"0\" width=\"635\" height=\"350\"/></clipPath><clipPath class=\"axesclip\" id=\"clipdb8a1ey\"><rect x=\"0\" y=\"46\" width=\"700\" height=\"274\"/></clipPath><clipPath class=\"axesclip\" id=\"clipdb8a1exy\"><rect x=\"35\" y=\"46\" width=\"635\" height=\"274\"/></clipPath></g><g class=\"gradients\"/></defs><g class=\"bglayer\"><rect class=\"bg\" x=\"35\" y=\"46\" width=\"635\" height=\"274\" style=\"fill: rgb(229, 236, 246); fill-opacity: 1; stroke-width: 0;\"/></g><g class=\"layer-below\"><g class=\"imagelayer\"/><g class=\"shapelayer\"/></g><g class=\"cartesianlayer\"><g class=\"subplot xy\"><g class=\"layer-subplot\"><g class=\"shapelayer\"/><g class=\"imagelayer\"/></g><g class=\"gridlayer\"><g class=\"x\"><path class=\"xgrid crisp\" transform=\"translate(62.83,0)\" d=\"M0,46v274\" style=\"stroke: rgb(255, 255, 255); stroke-opacity: 1; stroke-width: 1px;\"/><path class=\"xgrid crisp\" transform=\"translate(158.64,0)\" d=\"M0,46v274\" style=\"stroke: rgb(255, 255, 255); stroke-opacity: 1; stroke-width: 1px;\"/><path class=\"xgrid crisp\" transform=\"translate(254.72,0)\" d=\"M0,46v274\" style=\"stroke: rgb(255, 255, 255); stroke-opacity: 1; stroke-width: 1px;\"/><path class=\"xgrid crisp\" transform=\"translate(350.53,0)\" d=\"M0,46v274\" style=\"stroke: rgb(255, 255, 255); stroke-opacity: 1; stroke-width: 1px;\"/><path class=\"xgrid crisp\" transform=\"translate(446.35,0)\" d=\"M0,46v274\" style=\"stroke: rgb(255, 255, 255); stroke-opacity: 1; stroke-width: 1px;\"/><path class=\"xgrid crisp\" transform=\"translate(542.1600000000001,0)\" d=\"M0,46v274\" style=\"stroke: rgb(255, 255, 255); stroke-opacity: 1; stroke-width: 1px;\"/><path class=\"xgrid crisp\" transform=\"translate(638.24,0)\" d=\"M0,46v274\" style=\"stroke: rgb(255, 255, 255); stroke-opacity: 1; stroke-width: 1px;\"/></g><g class=\"y\"><path class=\"ygrid crisp\" transform=\"translate(0,268.05)\" d=\"M35,0h635\" style=\"stroke: rgb(255, 255, 255); stroke-opacity: 1; stroke-width: 1px;\"/><path class=\"ygrid crisp\" transform=\"translate(0,229.11)\" d=\"M35,0h635\" style=\"stroke: rgb(255, 255, 255); stroke-opacity: 1; stroke-width: 1px;\"/><path class=\"ygrid crisp\" transform=\"translate(0,190.17)\" d=\"M35,0h635\" style=\"stroke: rgb(255, 255, 255); stroke-opacity: 1; stroke-width: 1px;\"/><path class=\"ygrid crisp\" transform=\"translate(0,151.23000000000002)\" d=\"M35,0h635\" style=\"stroke: rgb(255, 255, 255); stroke-opacity: 1; stroke-width: 1px;\"/><path class=\"ygrid crisp\" transform=\"translate(0,112.28)\" d=\"M35,0h635\" style=\"stroke: rgb(255, 255, 255); stroke-opacity: 1; stroke-width: 1px;\"/><path class=\"ygrid crisp\" transform=\"translate(0,73.34)\" d=\"M35,0h635\" style=\"stroke: rgb(255, 255, 255); stroke-opacity: 1; stroke-width: 1px;\"/></g></g><g class=\"zerolinelayer\"><path class=\"yzl zl crisp\" transform=\"translate(0,306.99)\" d=\"M35,0h635\" style=\"stroke: rgb(255, 255, 255); stroke-opacity: 1; stroke-width: 2px;\"/></g><path class=\"xlines-below\"/><path class=\"ylines-below\"/><g class=\"overlines-below\"/><g class=\"xaxislayer-below\"/><g class=\"yaxislayer-below\"/><g class=\"overaxes-below\"/><g class=\"plot\" transform=\"translate(35, 46)\" clip-path=\"url('#clipdb8a1exyplot')\"><g class=\"scatterlayer mlayer\"><g class=\"trace scatter trace29d3b635-f13a-417f-9ff6-eb04ffa479b3\" style=\"stroke-miterlimit: 2; opacity: 1;\"><g class=\"fills\"/><g class=\"errorbars\"/><g class=\"lines\"><path class=\"js-line\" d=\"M0,259.21L1.84,259.35L2.1,259.39L8.93,259.49L9.19,259.5L11.81,259.73L12.08,259.72L30.71,259.95L30.98,260.11L32.29,260.17L32.55,260.16L45.15,259.93L45.41,259.87L60.11,260.06L60.38,260.07L66.94,260.08L67.2,260.1L72.98,260.03L73.24,260.04L81.11,259.92L81.38,259.87L108.15,259.42L108.41,259.39L111.3,259.75L111.56,259.71L126.79,259.31L127.05,259.32L128.1,259.49L128.37,259.51L129.94,259.47L130.2,259.47L156.19,259.25L156.45,259.25L160.39,259.27L160.65,259.27L165.9,258.74L166.17,258.63L167.74,258.08L168,258.05L170.63,258.47L170.89,258.5L172.73,258.36L172.99,258.5L175.09,258.41L175.35,258.42L177.98,258.46L178.24,258.45L192.68,258.62L192.94,258.67L215.52,257.94L215.78,257.91L218.4,257.36L218.67,257.19L220.24,256.93L220.5,256.5L221.55,257.45L221.82,257.48L235.2,256.23L235.47,256.12L236.78,256.23L237.04,256.52L238.88,256.13L239.14,256.37L240.19,256.89L240.45,256.63L241.77,257.23L242.03,256.92L248.07,256.28L248.33,256.21L250.95,255.74L251.22,255.46L254.63,253.95L254.89,254.22L255.68,253.64L255.94,253.25L257.26,251.48L257.52,252.02L257.78,252.42L258.04,253.05L258.31,252.6L258.57,252.21L258.83,252.52L259.09,252.09L259.36,251.62L261.72,249.51L261.98,249.47L263.03,251.4L263.29,251.19L264.34,250.39L264.61,250.52L265.66,250.91L265.92,251.34L266.71,251.11L266.97,251.33L267.76,251.01L268.02,250.86L269.33,251.19L269.59,251.75L270.64,252.3L270.91,253.21L271.17,253.48L271.43,252.32L271.96,252.14L272.22,250.02L272.48,250.6L273.01,250.36L273.27,250.27L273.79,251.14L274.06,250.59L274.32,250.05L274.84,250.26L275.11,249.8L275.63,250.44L275.89,250.07L276.16,249.72L277.21,247.68L277.47,247.98L277.73,247.83L277.99,246.78L279.31,243.95L279.57,244.13L280.62,245.41L280.88,245.03L283.24,242.68L283.51,241.94L284.29,244.5L284.56,243.95L284.82,243.09L285.08,243.08L285.34,244.53L286.39,244.91L286.66,245.87L286.92,248.71L287.44,246.88L287.71,247.04L287.97,245.16L288.49,245.78L288.76,246.85L289.54,246.65L289.81,245.7L290.07,245.84L290.33,244.64L290.86,244.78L291.12,244.1L291.64,243.82L291.91,244.18L292.17,244.52L294.01,242.2L294.27,239.78L294.79,238.28L295.32,238.7L295.58,239.16L296.11,238.76L296.37,237.58L297.16,237.9L297.42,239.47L297.94,238L298.21,238.48L298.47,238.59L300.04,232.93L300.31,232.25L300.57,232.15L300.83,233.65L301.36,231.94L301.62,233.18L302.41,237.82L302.67,235.45L302.93,235.15L303.19,232.51L304.24,229.7L304.51,229.06L305.29,229.69L305.56,228.85L307.66,217.87L307.92,216.9L308.44,214.59L308.71,205.34L308.97,191.29L309.49,201.89L309.76,200.81L310.28,193.17L310.54,197.1L310.81,196.49L311.33,185.07L311.86,186.56L312.12,191.77L312.91,207.13L313.43,206.76L313.69,206.37L313.96,198.3L314.48,204.11L314.74,203.92L315.01,210.56L315.53,207.81L315.79,202.65L316.32,200.25L316.58,193.12L316.84,192.74L317.11,196.83L318.16,208.79L318.42,206.55L318.68,205.07L318.94,207.36L319.21,207.18L319.73,217.42L319.99,216.31L320.26,215.79L320.52,210.76L320.78,215.82L321.04,218.42L321.31,218.67L321.57,216.76L322.09,217.49L322.36,216.44L322.62,215.1L322.88,217L323.14,221.64L323.41,221.19L323.67,225.28L324.46,228.76L324.72,233.91L325.77,226.97L326.03,227.42L326.29,229.33L326.56,226.23L326.82,227.51L327.87,217.72L328.13,219.9L328.39,217.28L328.66,216.59L328.92,219.36L329.97,223.36L330.23,220.62L331.81,216.16L332.07,215.93L333.38,226.47L333.64,223.69L335.22,230.16L335.48,228.97L336.27,226.22L336.53,227L336.79,226.41L338.37,233.09L338.63,234.16L339.42,233.41L339.68,231.96L340.47,235.15L340.73,234.08L340.99,233.64L341.26,234.63L341.52,234.38L341.78,233.86L342.04,230.27L342.57,229.89L342.83,228.56L343.36,230.22L343.62,229.2L343.88,228.69L345.19,223.23L345.46,226.55L346.51,224.31L346.77,225.01L347.03,225.48L347.29,225.03L347.56,223.05L348.34,223.4L348.61,224.49L349.39,225.77L349.66,228.12L350.44,227.05L350.71,227.85L351.23,229.47L351.76,228.88L352.02,227.84L352.54,229.68L352.81,231.56L353.33,231.86L353.59,232.35L353.86,232.3L354.12,233.2L355.17,231.63L355.43,231.23L355.96,231.73L356.22,231.27L356.48,231.19L357.27,231.66L357.53,234.57L357.79,234.1L358.06,235.36L358.32,236.27L358.58,235L358.84,235.85L359.11,235.49L359.37,235.68L359.63,234.77L360.42,234.79L360.68,237.3L361.47,236.66L361.73,237.26L361.99,237.02L362.26,238L363.31,235.24L363.57,235.57L365.14,234.74L365.41,236.34L365.67,236.09L365.93,236.74L366.19,236.7L366.72,236.23L366.98,234.74L367.77,231.92L368.03,232.36L368.82,230.97L369.08,228.19L369.61,230.03L369.87,229.2L370.13,229.09L370.66,229.14L370.92,230.7L373.54,236.91L373.81,236.48L374.07,236.37L375.12,236.33L375.38,235.37L376.17,236.43L376.43,235.73L376.69,236.16L376.96,235.55L377.22,234.82L378.01,234.18L378.27,233.36L379.06,233.59L379.32,232.98L380.11,232.33L380.37,234.54L381.16,236.75L381.42,236.46L381.68,236.34L382.21,236.26L382.47,235.61L383.26,235.61L383.52,236.53L385.1,234.86L385.36,235.31L385.62,235.89L385.88,235.7L386.15,234.99L387.98,235.38L388.25,235.2L389.56,235.35L389.82,236.63L390.61,236.5L390.87,235.31L394.28,235.73L394.55,236.33L396.65,235.83L396.91,235.56L398.48,236.23L398.75,238.65L399.53,239.36L399.8,239.09L400.06,242.02L401.37,245.88L401.63,245.38L401.9,246.28L402.16,246.12L402.42,244.41L402.68,244.33L402.95,245.35L403.21,244.58L403.47,244.87L403.73,245.83L404,245.58L404.26,246.37L404.78,247.68L405.05,247.46L405.31,246.92L406.88,248.39L407.15,248.33L408.2,244.89L408.46,245.82L408.72,245.36L409.25,245.11L409.51,246.14L409.77,245.97L410.03,246.76L410.3,245.71L410.82,245.94L411.08,246.42L412.13,245.97L412.4,246.02L412.66,245.12L413.18,245.3L413.45,245.28L414.5,247.16L414.76,246.56L415.81,246.75L416.07,246.47L417.12,247.03L417.38,246.97L421.06,247.76L421.32,246.71L423.68,246.69L423.95,245.75L425.26,244.86L425.52,246.16L426.57,245.98L426.83,245.96L430.51,245.57L430.77,245.23L433.4,245.47L433.66,245.08L434.97,244.8L435.23,241.99L437.33,240.26L437.6,241.27L440.48,239.97L440.75,239.29L441.8,240.48L442.06,240.41L442.58,240.16L442.85,239.95L445.21,236.15L445.47,232.94L445.73,233.84L446,230.56L446.52,229.04L446.78,230.29L447.05,232.4L447.31,232.68L447.57,229.07L448.36,231.09L448.62,230.3L448.88,229.89L449.15,229.64L449.41,227.22L449.67,226.7L450.2,227.27L450.46,228.6L451.25,226.95L451.51,229.03L451.77,230.98L452.3,230.53L452.56,229.67L453.08,231.05L453.35,229.84L453.61,230.12L453.87,229.27L454.13,228.94L454.4,227.14L455.97,223.89L456.23,221.49L457.55,210.31L457.81,217.45L458.07,212.68L458.33,214.42L458.6,218.87L458.86,219.78L459.12,218.93L459.38,214.41L459.91,218.24L460.17,217.35L460.43,216.4L460.96,212.03L461.22,213.65L461.48,216.76L461.75,214.98L462.01,216.63L462.27,221.05L462.53,218.57L462.8,224.09L463.06,223.24L463.32,219.46L463.85,219.06L464.37,220.72L464.63,222.44L466.21,223.92L466.47,223.58L468.05,215.02L468.31,216.3L468.83,214.39L469.1,214.8L469.36,216.78L469.62,216.12L469.88,216.67L470.15,218.56L470.41,221.85L470.93,220.59L471.2,221.15L471.46,220.71L471.72,218.48L472.51,221.54L472.77,220.46L473.3,221.51L473.56,220.61L473.82,221.33L474.35,223.96L474.87,223.49L475.13,222.99L475.66,219.62L476.18,219.81L476.45,220.68L476.71,220.04L477.23,220.75L477.5,221.6L478.81,220.7L479.07,220.97L480.65,221.78L480.91,223.11L481.7,229.38L481.96,228.86L482.22,228.88L482.48,229.43L482.75,228.7L483.01,228.5L483.27,228.31L483.53,228.83L483.8,229.04L484.32,229.89L484.58,228.88L484.85,228.95L485.11,227.52L485.37,227.56L485.63,228.59L486.68,229.04L486.95,229.66L488.26,228.89L488.52,229.54L489.05,231.81L489.31,227.27L489.83,223.8L490.36,224.28L490.62,225.14L491.67,225.03L491.93,224.34L492.72,224.9L492.98,226.71L493.25,226.67L493.51,225.73L494.56,227.08L494.82,227.92L495.35,227.59L495.61,228.64L496.4,231.23L496.66,232.58L496.92,232.19L497.18,233.55L498.5,230.77L498.76,231.52L499.02,232.08L499.81,232.75L500.07,231.99L500.86,231.54L501.12,232.17L502.43,233.25L502.7,233.14L503.22,235.13L503.48,232.66L504.27,232.99L504.53,231.74L505.58,232.8L505.85,232.6L506.63,232.59L506.9,232.98L507.16,232.95L507.42,233.79L508.74,229.2L509,229.53L509.26,230.31L509.52,229.19L509.79,229.69L510.05,229.09L510.31,229.28L510.57,226.62L511.1,227.02L511.36,226.22L511.62,226.17L511.89,227.09L512.67,227.19L512.94,228.26L513.72,227.52L513.99,226.3L514.77,223.96L515.04,224.58L515.82,224.8L516.09,225.24L517.4,221.6L517.66,222.61L518.71,220.84L518.97,222.48L519.24,222.31L519.5,223.26L519.76,221.5L520.02,223.48L520.29,223.58L521.07,222.35L521.34,223.41L522.65,227.51L522.91,227.65L523.96,225.64L524.22,225.47L525.54,230.19L525.8,241.64L526.06,239.33L526.59,239.99L526.85,241.47L527.37,240.59L527.64,236.88L528.16,236.91L528.42,238.29L528.95,234.77L529.47,234.84L529.74,235.8L530.26,237.93L530.52,235.95L531.05,235.27L531.31,234.54L532.1,234.55L532.36,232.68L532.62,233.05L533.15,232.56L533.41,234.26L534.46,234.35L534.72,235.13L535.51,232.73L535.77,233L536.04,234.19L536.3,234.2L536.56,233.28L537.87,230.64L538.14,230.59L539.19,225.99L539.45,226.35L539.97,225.93L540.24,224.9L540.5,222.24L541.02,223.63L541.29,226.89L541.55,227.5L541.81,226.71L542.07,224.89L542.34,223.09L542.86,224.48L543.12,223.33L543.65,223.11L543.91,223.91L544.96,226.76L545.22,226.31L545.49,226.59L545.75,225.24L546.54,223.22L546.8,224.15L547.06,221.4L547.59,223.39L547.85,222.83L548.37,223.4L548.64,222.99L548.9,222.94L549.42,222.56L549.69,224.69L550.21,224.1L550.47,224.44L550.74,224.19L551,223.85L551.52,224.34L551.79,224.82L552.31,224.76L552.57,223.42L552.84,223.49L553.1,224.72L553.89,225.77L554.15,225.39L554.41,225.2L555.99,225.66L556.25,224.48L557.3,224.86L557.56,225.01L558.61,225.2L558.87,225.43L560.19,224.49L560.45,223.9L561.24,223.31L561.5,222.42L562.29,217.77L562.55,217.72L563.07,215.2L563.34,217.95L564.91,215.22L565.17,215.53L565.44,214.74L565.7,216.56L567.27,213.27L567.54,214.3L568.32,215.85L568.59,215.5L568.85,215.57L569.11,215.14L569.37,216.73L570.69,215.39L570.95,215.51L571.21,214.38L571.47,216.55L571.74,221.1L572,220.06L572.26,221.39L572.52,220.96L572.79,220.61L573.05,221.54L573.57,220.64L573.84,220.49L574.1,220.33L574.36,220.79L574.62,219.4L575.94,217.79L576.2,218.4L576.99,221.17L577.25,219.15L578.3,219.24L578.56,218.75L579.61,219.85L579.87,219.39L580.14,218.92L580.4,219.63L580.66,219.41L580.92,218.46L581.71,216.66L582.5,216.49L583.81,215.27L584.07,214.59L585.12,209.95L585.39,210.25L585.65,210.08L585.91,207.82L586.17,209.31L586.7,208.24L586.96,207.33L587.49,208.23L587.75,206.67L588.01,205.95L588.27,200.32L588.54,200.38L588.8,203.23L590.11,197.61L590.37,197.45L590.9,198.86L591.16,195.9L592.21,188.48L592.47,188.4L593,189.48L593.26,186.59L593.52,188.05L593.79,194.21L594.05,194.37L594.31,192L594.84,184.57L595.1,187.77L595.36,186.22L595.62,185.27L595.89,188.17L596.41,185.66L596.67,186.26L596.94,189.65L597.2,188.74L597.46,189.87L597.72,190.67L599.82,168.04L600.09,169.57L600.35,172.19L602.19,155.52L602.45,154.44L603.76,133.33L604.02,136.49L605.07,102.12L605.34,104.24L605.6,111.63L606.12,128.89L606.39,115.68L606.65,108.39L607.44,121.62L607.7,118.35L608.22,122.56L608.49,140.95L608.75,132.46L609.27,135.25L609.54,134.95L609.8,134.16L610.06,142.48L610.59,127.36L610.85,127.54L611.11,132.04L611.37,130.39L611.64,122.71L612.69,108.08L612.95,109.5L614,74.43L614.26,76L614.52,77.56L614.79,71.28L615.05,74.29L615.31,69.4L615.57,57.92L615.84,59.74L616.1,43.36L616.36,42.53L616.62,36.92L617.94,80.54L618.2,81.13L618.46,85.22L618.72,67.72L618.99,72.6L619.25,64.19L619.51,71.89L619.77,70.46L620.04,70.52L620.3,61.59L621.35,35.89L621.61,37.73L621.87,22.5L622.4,43.28L622.66,39.79L622.92,31.74L625.02,59.65L625.29,46.28L627.12,29.74L627.39,36.67L627.91,31.01L628.17,34.38L628.44,42.73L629.49,26.54L629.75,27.76L630.01,13.7L630.54,14.44L630.8,21.22L631.06,24.68L631.32,42.08L631.59,43.99L631.85,41.08L632.11,51.07L633.16,70.16L633.42,50.62L633.69,46.68L633.95,47.5L634.21,52.44L634.74,35.8L635,39.56\" style=\"vector-effect: non-scaling-stroke; fill: none; stroke: rgb(31, 119, 180); stroke-opacity: 1; stroke-width: 2px; opacity: 1;\"/></g><g class=\"points\"/><g class=\"text\"/></g></g></g><g class=\"overplot\"/><path class=\"xlines-above crisp\" d=\"M0,0\" style=\"fill: none;\"/><path class=\"ylines-above crisp\" d=\"M0,0\" style=\"fill: none;\"/><g class=\"overlines-above\"/><g class=\"xaxislayer-above\"><g class=\"xtick\"><text text-anchor=\"middle\" x=\"0\" y=\"333\" transform=\"translate(62.83,0)\" style=\"font-family: 'Open Sans', verdana, arial, sans-serif; font-size: 12px; fill: rgb(42, 63, 95); fill-opacity: 1; white-space: pre;\">2015</text></g><g class=\"xtick\"><text text-anchor=\"middle\" x=\"0\" y=\"333\" transform=\"translate(158.64,0)\" style=\"font-family: 'Open Sans', verdana, arial, sans-serif; font-size: 12px; fill: rgb(42, 63, 95); fill-opacity: 1; white-space: pre;\">2016</text></g><g class=\"xtick\"><text text-anchor=\"middle\" x=\"0\" y=\"333\" transform=\"translate(254.72,0)\" style=\"font-family: 'Open Sans', verdana, arial, sans-serif; font-size: 12px; fill: rgb(42, 63, 95); fill-opacity: 1; white-space: pre;\">2017</text></g><g class=\"xtick\"><text text-anchor=\"middle\" x=\"0\" y=\"333\" transform=\"translate(350.53,0)\" style=\"font-family: 'Open Sans', verdana, arial, sans-serif; font-size: 12px; fill: rgb(42, 63, 95); fill-opacity: 1; white-space: pre;\">2018</text></g><g class=\"xtick\"><text text-anchor=\"middle\" x=\"0\" y=\"333\" transform=\"translate(446.35,0)\" style=\"font-family: 'Open Sans', verdana, arial, sans-serif; font-size: 12px; fill: rgb(42, 63, 95); fill-opacity: 1; white-space: pre;\">2019</text></g><g class=\"xtick\"><text text-anchor=\"middle\" x=\"0\" y=\"333\" transform=\"translate(542.1600000000001,0)\" style=\"font-family: 'Open Sans', verdana, arial, sans-serif; font-size: 12px; fill: rgb(42, 63, 95); fill-opacity: 1; white-space: pre;\">2020</text></g><g class=\"xtick\"><text text-anchor=\"middle\" x=\"0\" y=\"333\" transform=\"translate(638.24,0)\" style=\"font-family: 'Open Sans', verdana, arial, sans-serif; font-size: 12px; fill: rgb(42, 63, 95); fill-opacity: 1; white-space: pre;\">2021</text></g></g><g class=\"yaxislayer-above\"><g class=\"ytick\"><text text-anchor=\"end\" x=\"34\" y=\"4.199999999999999\" transform=\"translate(0,306.99)\" style=\"font-family: 'Open Sans', verdana, arial, sans-serif; font-size: 12px; fill: rgb(42, 63, 95); fill-opacity: 1; white-space: pre;\">0</text></g><g class=\"ytick\"><text text-anchor=\"end\" x=\"34\" y=\"4.199999999999999\" transform=\"translate(0,268.05)\" style=\"font-family: 'Open Sans', verdana, arial, sans-serif; font-size: 12px; fill: rgb(42, 63, 95); fill-opacity: 1; white-space: pre;\">10k</text></g><g class=\"ytick\"><text text-anchor=\"end\" x=\"34\" y=\"4.199999999999999\" transform=\"translate(0,229.11)\" style=\"font-family: 'Open Sans', verdana, arial, sans-serif; font-size: 12px; fill: rgb(42, 63, 95); fill-opacity: 1; white-space: pre;\">20k</text></g><g class=\"ytick\"><text text-anchor=\"end\" x=\"34\" y=\"4.199999999999999\" transform=\"translate(0,190.17)\" style=\"font-family: 'Open Sans', verdana, arial, sans-serif; font-size: 12px; fill: rgb(42, 63, 95); fill-opacity: 1; white-space: pre;\">30k</text></g><g class=\"ytick\"><text text-anchor=\"end\" x=\"34\" y=\"4.199999999999999\" transform=\"translate(0,151.23000000000002)\" style=\"font-family: 'Open Sans', verdana, arial, sans-serif; font-size: 12px; fill: rgb(42, 63, 95); fill-opacity: 1; white-space: pre;\">40k</text></g><g class=\"ytick\"><text text-anchor=\"end\" x=\"34\" y=\"4.199999999999999\" transform=\"translate(0,112.28)\" style=\"font-family: 'Open Sans', verdana, arial, sans-serif; font-size: 12px; fill: rgb(42, 63, 95); fill-opacity: 1; white-space: pre;\">50k</text></g><g class=\"ytick\"><text text-anchor=\"end\" x=\"34\" y=\"4.199999999999999\" transform=\"translate(0,73.34)\" style=\"font-family: 'Open Sans', verdana, arial, sans-serif; font-size: 12px; fill: rgb(42, 63, 95); fill-opacity: 1; white-space: pre;\">60k</text></g></g><g class=\"overaxes-above\"/></g></g><g class=\"polarlayer\"/><g class=\"ternarylayer\"/><g class=\"geolayer\"/><g class=\"funnelarealayer\"/><g class=\"pielayer\"/><g class=\"treemaplayer\"/><g class=\"sunburstlayer\"/><g class=\"glimages\"/><defs id=\"topdefs-db8a1e\"><g class=\"clips\"/><clipPath id=\"legenddb8a1e\"><rect width=\"78\" height=\"29\" x=\"0\" y=\"0\"/></clipPath></defs><g class=\"layer-above\"><g class=\"imagelayer\"/><g class=\"shapelayer\"/></g><g class=\"infolayer\"><g class=\"legend\" pointer-events=\"all\" transform=\"translate(592, 11.519999999999996)\"><rect class=\"bg\" shape-rendering=\"crispEdges\" style=\"stroke: rgb(68, 68, 68); stroke-opacity: 1; fill: rgb(255, 255, 255); fill-opacity: 1; stroke-width: 0px;\" width=\"78\" height=\"29\" x=\"0\" y=\"0\"/><g class=\"scrollbox\" transform=\"translate(0, 0)\" clip-path=\"url('#legenddb8a1e')\"><g class=\"groups\"><g class=\"traces\" transform=\"translate(0, 14.5)\" style=\"opacity: 1;\"><text class=\"legendtext\" text-anchor=\"start\" x=\"40\" y=\"4.680000000000001\" style=\"font-family: 'Open Sans', verdana, arial, sans-serif; font-size: 12px; fill: rgb(42, 63, 95); fill-opacity: 1; white-space: pre;\">Close</text><g class=\"layers\" style=\"opacity: 1;\"><g class=\"legendfill\"/><g class=\"legendlines\"><path class=\"js-line\" d=\"M5,0h30\" style=\"fill: none; stroke: rgb(31, 119, 180); stroke-opacity: 1; stroke-width: 2px;\"/></g><g class=\"legendsymbols\"><g class=\"legendpoints\"/></g></g><rect class=\"legendtoggle\" x=\"0\" y=\"-9.5\" width=\"74.859375\" height=\"19\" style=\"fill: rgb(0, 0, 0); fill-opacity: 0;\"/></g></g></g><rect class=\"scrollbar\" rx=\"20\" ry=\"3\" width=\"0\" height=\"0\" style=\"fill: rgb(128, 139, 164); fill-opacity: 1;\" x=\"0\" y=\"0\"/></g><g class=\"g-gtitle\"/><g class=\"g-xtitle\"/><g class=\"g-ytitle\"/></g></svg>"
      ]
     },
     "metadata": {},
     "output_type": "display_data"
    }
   ],
   "source": [
    "price.vbt.plot().show_svg()"
   ]
  },
  {
   "cell_type": "code",
   "execution_count": 5,
   "metadata": {},
   "outputs": [],
   "source": [
    "def roll_in_and_out_samples(price, **kwargs):\n",
    "    return price.vbt.rolling_split(**kwargs)"
   ]
  },
  {
   "cell_type": "code",
   "execution_count": 6,
   "metadata": {},
   "outputs": [
    {
     "data": {
      "image/svg+xml": [
       "<svg class=\"main-svg\" xmlns=\"http://www.w3.org/2000/svg\" xmlns:xlink=\"http://www.w3.org/1999/xlink\" width=\"700\" height=\"217\" style=\"\" viewBox=\"0 0 700 217\"><rect x=\"0\" y=\"0\" width=\"700\" height=\"217\" style=\"fill: rgb(255, 255, 255); fill-opacity: 1;\"/><defs id=\"defs-8f5544\"><g class=\"clips\"><clipPath id=\"clip8f5544xyplot\" class=\"plotclip\"><rect width=\"640\" height=\"143\"/></clipPath><clipPath class=\"axesclip\" id=\"clip8f5544x\"><rect x=\"30\" y=\"0\" width=\"640\" height=\"217\"/></clipPath><clipPath class=\"axesclip\" id=\"clip8f5544y\"><rect x=\"0\" y=\"44\" width=\"700\" height=\"143\"/></clipPath><clipPath class=\"axesclip\" id=\"clip8f5544xy\"><rect x=\"30\" y=\"44\" width=\"640\" height=\"143\"/></clipPath></g><g class=\"gradients\"><linearGradient x1=\"1\" x2=\"0\" y1=\"0\" y2=\"0\" id=\"g8f5544-legendfill-f69b9853-eddf-459a-9784-0fa1a14952f8\"><stop offset=\"0%\" stop-color=\"rgb(31, 119, 180)\" stop-opacity=\"1\"/><stop offset=\"100%\" stop-color=\"rgb(31, 119, 180)\" stop-opacity=\"1\"/></linearGradient><linearGradient x1=\"1\" x2=\"0\" y1=\"0\" y2=\"0\" id=\"g8f5544-legendfill-0ca27d02-8e7e-4471-8ce0-08f3a95b1f09\"><stop offset=\"0%\" stop-color=\"rgb(255, 127, 14)\" stop-opacity=\"1\"/><stop offset=\"100%\" stop-color=\"rgb(255, 127, 14)\" stop-opacity=\"1\"/></linearGradient></g></defs><g class=\"bglayer\"><rect class=\"bg\" x=\"30\" y=\"44\" width=\"640\" height=\"143\" style=\"fill: rgb(229, 236, 246); fill-opacity: 1; stroke-width: 0;\"/></g><g class=\"layer-below\"><g class=\"imagelayer\"/><g class=\"shapelayer\"/></g><g class=\"cartesianlayer\"><g class=\"subplot xy\"><g class=\"layer-subplot\"><g class=\"shapelayer\"/><g class=\"imagelayer\"/></g><g class=\"gridlayer\"><g class=\"x\"><path class=\"xgrid crisp\" transform=\"translate(58.17,0)\" d=\"M0,44v143\" style=\"stroke: rgb(255, 255, 255); stroke-opacity: 1; stroke-width: 1px;\"/><path class=\"xgrid crisp\" transform=\"translate(154.69,0)\" d=\"M0,44v143\" style=\"stroke: rgb(255, 255, 255); stroke-opacity: 1; stroke-width: 1px;\"/><path class=\"xgrid crisp\" transform=\"translate(251.49,0)\" d=\"M0,44v143\" style=\"stroke: rgb(255, 255, 255); stroke-opacity: 1; stroke-width: 1px;\"/><path class=\"xgrid crisp\" transform=\"translate(348.02,0)\" d=\"M0,44v143\" style=\"stroke: rgb(255, 255, 255); stroke-opacity: 1; stroke-width: 1px;\"/><path class=\"xgrid crisp\" transform=\"translate(444.55,0)\" d=\"M0,44v143\" style=\"stroke: rgb(255, 255, 255); stroke-opacity: 1; stroke-width: 1px;\"/><path class=\"xgrid crisp\" transform=\"translate(541.0699999999999,0)\" d=\"M0,44v143\" style=\"stroke: rgb(255, 255, 255); stroke-opacity: 1; stroke-width: 1px;\"/><path class=\"xgrid crisp\" transform=\"translate(637.87,0)\" d=\"M0,44v143\" style=\"stroke: rgb(255, 255, 255); stroke-opacity: 1; stroke-width: 1px;\"/></g><g class=\"y\"><path class=\"ygrid crisp\" transform=\"translate(0,184.62)\" d=\"M30,0h640\" style=\"stroke: rgb(255, 255, 255); stroke-opacity: 1; stroke-width: 1px;\"/><path class=\"ygrid crisp\" transform=\"translate(0,165.55)\" d=\"M30,0h640\" style=\"stroke: rgb(255, 255, 255); stroke-opacity: 1; stroke-width: 1px;\"/><path class=\"ygrid crisp\" transform=\"translate(0,146.48000000000002)\" d=\"M30,0h640\" style=\"stroke: rgb(255, 255, 255); stroke-opacity: 1; stroke-width: 1px;\"/><path class=\"ygrid crisp\" transform=\"translate(0,127.42)\" d=\"M30,0h640\" style=\"stroke: rgb(255, 255, 255); stroke-opacity: 1; stroke-width: 1px;\"/><path class=\"ygrid crisp\" transform=\"translate(0,108.35)\" d=\"M30,0h640\" style=\"stroke: rgb(255, 255, 255); stroke-opacity: 1; stroke-width: 1px;\"/><path class=\"ygrid crisp\" transform=\"translate(0,89.28)\" d=\"M30,0h640\" style=\"stroke: rgb(255, 255, 255); stroke-opacity: 1; stroke-width: 1px;\"/><path class=\"ygrid crisp\" transform=\"translate(0,70.22)\" d=\"M30,0h640\" style=\"stroke: rgb(255, 255, 255); stroke-opacity: 1; stroke-width: 1px;\"/><path class=\"ygrid crisp\" transform=\"translate(0,51.15)\" d=\"M30,0h640\" style=\"stroke: rgb(255, 255, 255); stroke-opacity: 1; stroke-width: 1px;\"/></g></g><g class=\"zerolinelayer\"/><path class=\"xlines-below\"/><path class=\"ylines-below\"/><g class=\"overlines-below\"/><g class=\"xaxislayer-below\"/><g class=\"yaxislayer-below\"/><g class=\"overaxes-below\"/><g class=\"plot\" transform=\"translate(30, 44)\" clip-path=\"url('#clip8f5544xyplot')\"><g class=\"heatmaplayer mlayer\"><g class=\"hm\"><image xmlns=\"http://www.w3.org/2000/svg\" preserveAspectRatio=\"none\" height=\"143\" width=\"640\" x=\"0\" y=\"0\" xlink:href=\"data:image/png;base64,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\" style=\"opacity: 1;\"/></g><g class=\"hm\"><image xmlns=\"http://www.w3.org/2000/svg\" preserveAspectRatio=\"none\" height=\"143\" width=\"640\" x=\"0\" y=\"0\" xlink:href=\"data:image/png;base64,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\" style=\"opacity: 1;\"/></g></g></g><g class=\"overplot\"/><path class=\"xlines-above crisp\" d=\"M0,0\" style=\"fill: none;\"/><path class=\"ylines-above crisp\" d=\"M0,0\" style=\"fill: none;\"/><g class=\"overlines-above\"/><g class=\"xaxislayer-above\"><g class=\"xtick\"><text text-anchor=\"middle\" x=\"0\" y=\"200\" transform=\"translate(58.17,0)\" style=\"font-family: 'Open Sans', verdana, arial, sans-serif; font-size: 12px; fill: rgb(42, 63, 95); fill-opacity: 1; white-space: pre;\">2015</text></g><g class=\"xtick\"><text text-anchor=\"middle\" x=\"0\" y=\"200\" transform=\"translate(154.69,0)\" style=\"font-family: 'Open Sans', verdana, arial, sans-serif; font-size: 12px; fill: rgb(42, 63, 95); fill-opacity: 1; white-space: pre;\">2016</text></g><g class=\"xtick\"><text text-anchor=\"middle\" x=\"0\" y=\"200\" transform=\"translate(251.49,0)\" style=\"font-family: 'Open Sans', verdana, arial, sans-serif; font-size: 12px; fill: rgb(42, 63, 95); fill-opacity: 1; white-space: pre;\">2017</text></g><g class=\"xtick\"><text text-anchor=\"middle\" x=\"0\" y=\"200\" transform=\"translate(348.02,0)\" style=\"font-family: 'Open Sans', verdana, arial, sans-serif; font-size: 12px; fill: rgb(42, 63, 95); fill-opacity: 1; white-space: pre;\">2018</text></g><g class=\"xtick\"><text text-anchor=\"middle\" x=\"0\" y=\"200\" transform=\"translate(444.55,0)\" style=\"font-family: 'Open Sans', verdana, arial, sans-serif; font-size: 12px; fill: rgb(42, 63, 95); fill-opacity: 1; white-space: pre;\">2019</text></g><g class=\"xtick\"><text text-anchor=\"middle\" x=\"0\" y=\"200\" transform=\"translate(541.0699999999999,0)\" style=\"font-family: 'Open Sans', verdana, arial, sans-serif; font-size: 12px; fill: rgb(42, 63, 95); fill-opacity: 1; white-space: pre;\">2020</text></g><g class=\"xtick\"><text text-anchor=\"middle\" x=\"0\" y=\"200\" transform=\"translate(637.87,0)\" style=\"font-family: 'Open Sans', verdana, arial, sans-serif; font-size: 12px; fill: rgb(42, 63, 95); fill-opacity: 1; white-space: pre;\">2021</text></g></g><g class=\"yaxislayer-above\"><g class=\"ytick\"><text text-anchor=\"end\" x=\"29\" y=\"4.199999999999999\" transform=\"translate(0,184.62)\" style=\"font-family: 'Open Sans', verdana, arial, sans-serif; font-size: 12px; fill: rgb(42, 63, 95); fill-opacity: 1; white-space: pre;\">29</text></g><g class=\"ytick\"><text text-anchor=\"end\" x=\"29\" y=\"4.199999999999999\" transform=\"translate(0,165.55)\" style=\"font-family: 'Open Sans', verdana, arial, sans-serif; font-size: 12px; fill: rgb(42, 63, 95); fill-opacity: 1; white-space: pre;\">25</text></g><g class=\"ytick\"><text text-anchor=\"end\" x=\"29\" y=\"4.199999999999999\" transform=\"translate(0,146.48000000000002)\" style=\"font-family: 'Open Sans', verdana, arial, sans-serif; font-size: 12px; fill: rgb(42, 63, 95); fill-opacity: 1; white-space: pre;\">21</text></g><g class=\"ytick\"><text text-anchor=\"end\" x=\"29\" y=\"4.199999999999999\" transform=\"translate(0,127.42)\" style=\"font-family: 'Open Sans', verdana, arial, sans-serif; font-size: 12px; fill: rgb(42, 63, 95); fill-opacity: 1; white-space: pre;\">17</text></g><g class=\"ytick\"><text text-anchor=\"end\" x=\"29\" y=\"4.199999999999999\" transform=\"translate(0,108.35)\" style=\"font-family: 'Open Sans', verdana, arial, sans-serif; font-size: 12px; fill: rgb(42, 63, 95); fill-opacity: 1; white-space: pre;\">13</text></g><g class=\"ytick\"><text text-anchor=\"end\" x=\"29\" y=\"4.199999999999999\" transform=\"translate(0,89.28)\" style=\"font-family: 'Open Sans', verdana, arial, sans-serif; font-size: 12px; fill: rgb(42, 63, 95); fill-opacity: 1; white-space: pre;\">9</text></g><g class=\"ytick\"><text text-anchor=\"end\" x=\"29\" y=\"4.199999999999999\" transform=\"translate(0,70.22)\" style=\"font-family: 'Open Sans', verdana, arial, sans-serif; font-size: 12px; fill: rgb(42, 63, 95); fill-opacity: 1; white-space: pre;\">5</text></g><g class=\"ytick\"><text text-anchor=\"end\" x=\"29\" y=\"4.199999999999999\" transform=\"translate(0,51.15)\" style=\"font-family: 'Open Sans', verdana, arial, sans-serif; font-size: 12px; fill: rgb(42, 63, 95); fill-opacity: 1; white-space: pre;\">1</text></g></g><g class=\"overaxes-above\"/></g></g><g class=\"polarlayer\"/><g class=\"ternarylayer\"/><g class=\"geolayer\"/><g class=\"funnelarealayer\"/><g class=\"pielayer\"/><g class=\"treemaplayer\"/><g class=\"sunburstlayer\"/><g class=\"glimages\"/><defs id=\"topdefs-8f5544\"><g class=\"clips\"/><clipPath id=\"legend8f5544\"><rect width=\"218\" height=\"29\" x=\"0\" y=\"0\"/></clipPath></defs><g class=\"layer-above\"><g class=\"imagelayer\"/><g class=\"shapelayer\"/></g><g class=\"infolayer\"><g class=\"legend\" pointer-events=\"all\" transform=\"translate(452, 12.14)\"><rect class=\"bg\" shape-rendering=\"crispEdges\" style=\"stroke: rgb(68, 68, 68); stroke-opacity: 1; fill: rgb(255, 255, 255); fill-opacity: 1; stroke-width: 0px;\" width=\"218\" height=\"29\" x=\"0\" y=\"0\"/><g class=\"scrollbox\" transform=\"translate(0, 0)\" clip-path=\"url('#legend8f5544')\"><g class=\"groups\"><g class=\"traces\" transform=\"translate(0, 14.5)\" style=\"opacity: 1;\"><text class=\"legendtext\" text-anchor=\"start\" x=\"40\" y=\"4.680000000000001\" style=\"font-family: 'Open Sans', verdana, arial, sans-serif; font-size: 12px; fill: rgb(42, 63, 95); fill-opacity: 1; white-space: pre;\">in-sample</text><g class=\"layers\" style=\"opacity: 1;\"><g class=\"legendfill\"/><g class=\"legendlines\"/><g class=\"legendsymbols\"><g class=\"legendpoints\"><path class=\"legend3dandfriends\" transform=\"translate(20,0)\" d=\"M-15,-2V4H15V-2Z\" style=\"stroke-miterlimit: 1; fill: url('#g8f5544-legendfill-f69b9853-eddf-459a-9784-0fa1a14952f8');\"/></g></g></g><rect class=\"legendtoggle\" x=\"0\" y=\"-9.5\" width=\"101.890625\" height=\"19\" style=\"fill: rgb(0, 0, 0); fill-opacity: 0;\"/></g><g class=\"traces\" transform=\"translate(104.390625, 14.5)\" style=\"opacity: 1;\"><text class=\"legendtext\" text-anchor=\"start\" x=\"40\" y=\"4.680000000000001\" style=\"font-family: 'Open Sans', verdana, arial, sans-serif; font-size: 12px; fill: rgb(42, 63, 95); fill-opacity: 1; white-space: pre;\">out-sample</text><g class=\"layers\" style=\"opacity: 1;\"><g class=\"legendfill\"/><g class=\"legendlines\"/><g class=\"legendsymbols\"><g class=\"legendpoints\"><path class=\"legend3dandfriends\" transform=\"translate(20,0)\" d=\"M-15,-2V4H15V-2Z\" style=\"stroke-miterlimit: 1; fill: url('#g8f5544-legendfill-0ca27d02-8e7e-4471-8ce0-08f3a95b1f09');\"/></g></g></g><rect class=\"legendtoggle\" x=\"0\" y=\"-9.5\" width=\"110.609375\" height=\"19\" style=\"fill: rgb(0, 0, 0); fill-opacity: 0;\"/></g></g></g><rect class=\"scrollbar\" rx=\"20\" ry=\"3\" width=\"0\" height=\"0\" style=\"fill: rgb(128, 139, 164); fill-opacity: 1;\" x=\"0\" y=\"0\"/></g><g class=\"g-gtitle\"/><g class=\"g-xtitle\"/><g class=\"g-ytitle\"/></g></svg>"
      ]
     },
     "metadata": {},
     "output_type": "display_data"
    }
   ],
   "source": [
    "roll_in_and_out_samples(price, **split_kwargs, plot=True, trace_names=['in-sample', 'out-sample']).show_svg()"
   ]
  },
  {
   "cell_type": "code",
   "execution_count": 7,
   "metadata": {},
   "outputs": [
    {
     "name": "stdout",
     "output_type": "stream",
     "text": [
      "(550, 30) 30\n",
      "(180, 30) 30\n"
     ]
    }
   ],
   "source": [
    "(in_price, in_indexes), (out_price, out_indexes) = roll_in_and_out_samples(price, **split_kwargs)\n",
    "\n",
    "print(in_price.shape, len(in_indexes))  # in-sample\n",
    "print(out_price.shape, len(out_indexes))  # out-sample"
   ]
  },
  {
   "cell_type": "code",
   "execution_count": 8,
   "metadata": {},
   "outputs": [],
   "source": [
    "def simulate_holding(price, **kwargs):\n",
    "    portfolio = vbt.Portfolio.from_holding(price, **kwargs)\n",
    "    return portfolio.sharpe_ratio()"
   ]
  },
  {
   "cell_type": "code",
   "execution_count": 9,
   "metadata": {},
   "outputs": [
    {
     "name": "stdout",
     "output_type": "stream",
     "text": [
      "split_idx\n",
      "0     0.229171\n",
      "1     0.459087\n",
      "2     1.258132\n",
      "3     1.193770\n",
      "4     1.591677\n",
      "5     2.048547\n",
      "6     2.378042\n",
      "7     1.958393\n",
      "8     2.363681\n",
      "9     2.699550\n",
      "10    2.801100\n",
      "11    3.052888\n",
      "12    2.609271\n",
      "13    2.269722\n",
      "14    2.005899\n",
      "15    1.746719\n",
      "16    1.727573\n",
      "17    0.846535\n",
      "18    0.618767\n",
      "19    0.456840\n",
      "20    0.476029\n",
      "21    0.155296\n",
      "22    0.511084\n",
      "23    0.358838\n",
      "24    0.597015\n",
      "25    0.557476\n",
      "26    0.656786\n",
      "27    1.168030\n",
      "28    1.259822\n",
      "29    1.248517\n",
      "Name: sharpe_ratio, dtype: float64\n"
     ]
    }
   ],
   "source": [
    "in_hold_sharpe = simulate_holding(in_price, **portfolio_kwargs)\n",
    "\n",
    "print(in_hold_sharpe)"
   ]
  },
  {
   "cell_type": "code",
   "execution_count": 10,
   "metadata": {},
   "outputs": [],
   "source": [
    "def simulate_all_params(price, windows, **kwargs):\n",
    "    fast_ma, slow_ma = vbt.MA.run_combs(price, windows, r=2, short_names=['fast', 'slow'])\n",
    "    entries = fast_ma.ma_above(slow_ma, crossover=True)\n",
    "    exits = fast_ma.ma_below(slow_ma, crossover=True)\n",
    "    portfolio = vbt.Portfolio.from_signals(price, entries, exits, **kwargs)\n",
    "    return portfolio.sharpe_ratio()"
   ]
  },
  {
   "cell_type": "code",
   "execution_count": 11,
   "metadata": {},
   "outputs": [
    {
     "name": "stdout",
     "output_type": "stream",
     "text": [
      "fast_window  slow_window  split_idx\n",
      "10           11           0            0.856870\n",
      "                          1            1.097501\n",
      "                          2            0.376684\n",
      "                          3            0.455088\n",
      "                          4            0.639666\n",
      "                                         ...   \n",
      "48           49           25           1.830233\n",
      "                          26          -0.041031\n",
      "                          27           0.068637\n",
      "                          28          -0.512800\n",
      "                          29          -1.169421\n",
      "Name: sharpe_ratio, Length: 23400, dtype: float64\n"
     ]
    }
   ],
   "source": [
    "# Simulate all params for in-sample ranges\n",
    "in_sharpe = simulate_all_params(in_price, windows, **portfolio_kwargs)\n",
    "\n",
    "print(in_sharpe)"
   ]
  },
  {
   "cell_type": "code",
   "execution_count": 12,
   "metadata": {},
   "outputs": [],
   "source": [
    "def get_best_index(performance, higher_better=True):\n",
    "    if higher_better:\n",
    "        return performance[performance.groupby('split_idx').idxmax()].index\n",
    "    return performance[performance.groupby('split_idx').idxmin()].index"
   ]
  },
  {
   "cell_type": "code",
   "execution_count": 13,
   "metadata": {},
   "outputs": [
    {
     "name": "stdout",
     "output_type": "stream",
     "text": [
      "MultiIndex([(27, 29,  0),\n",
      "            (27, 29,  1),\n",
      "            (21, 25,  2),\n",
      "            (23, 25,  3),\n",
      "            (20, 41,  4),\n",
      "            (20, 41,  5),\n",
      "            (41, 42,  6),\n",
      "            (37, 43,  7),\n",
      "            (37, 43,  8),\n",
      "            (10, 21,  9),\n",
      "            (10, 21, 10),\n",
      "            (10, 21, 11),\n",
      "            (10, 21, 12),\n",
      "            (10, 21, 13),\n",
      "            (10, 21, 14),\n",
      "            (10, 21, 15),\n",
      "            (10, 22, 16),\n",
      "            (10, 22, 17),\n",
      "            (10, 22, 18),\n",
      "            (17, 22, 19),\n",
      "            (17, 22, 20),\n",
      "            (13, 21, 21),\n",
      "            (45, 48, 22),\n",
      "            (45, 49, 23),\n",
      "            (45, 49, 24),\n",
      "            (18, 21, 25),\n",
      "            (13, 21, 26),\n",
      "            (13, 20, 27),\n",
      "            (13, 20, 28),\n",
      "            (13, 20, 29)],\n",
      "           names=['fast_window', 'slow_window', 'split_idx'])\n"
     ]
    }
   ],
   "source": [
    "in_best_index = get_best_index(in_sharpe)\n",
    "\n",
    "print(in_best_index)"
   ]
  },
  {
   "cell_type": "code",
   "execution_count": 14,
   "metadata": {},
   "outputs": [],
   "source": [
    "def get_best_params(best_index, level_name):\n",
    "    return best_index.get_level_values(level_name).to_numpy()"
   ]
  },
  {
   "cell_type": "code",
   "execution_count": 15,
   "metadata": {},
   "outputs": [
    {
     "name": "stdout",
     "output_type": "stream",
     "text": [
      "[[27 29]\n",
      " [27 29]\n",
      " [21 25]\n",
      " [23 25]\n",
      " [20 41]\n",
      " [20 41]\n",
      " [41 42]\n",
      " [37 43]\n",
      " [37 43]\n",
      " [10 21]\n",
      " [10 21]\n",
      " [10 21]\n",
      " [10 21]\n",
      " [10 21]\n",
      " [10 21]\n",
      " [10 21]\n",
      " [10 22]\n",
      " [10 22]\n",
      " [10 22]\n",
      " [17 22]\n",
      " [17 22]\n",
      " [13 21]\n",
      " [45 48]\n",
      " [45 49]\n",
      " [45 49]\n",
      " [18 21]\n",
      " [13 21]\n",
      " [13 20]\n",
      " [13 20]\n",
      " [13 20]]\n"
     ]
    }
   ],
   "source": [
    "in_best_fast_windows = get_best_params(in_best_index, 'fast_window')\n",
    "in_best_slow_windows = get_best_params(in_best_index, 'slow_window')\n",
    "in_best_window_pairs = np.array(list(zip(in_best_fast_windows, in_best_slow_windows)))\n",
    "\n",
    "print(in_best_window_pairs)"
   ]
  },
  {
   "cell_type": "code",
   "execution_count": 16,
   "metadata": {},
   "outputs": [
    {
     "data": {
      "image/svg+xml": [
       "<svg class=\"main-svg\" xmlns=\"http://www.w3.org/2000/svg\" xmlns:xlink=\"http://www.w3.org/1999/xlink\" width=\"700\" height=\"350\" style=\"\" viewBox=\"0 0 700 350\"><rect x=\"0\" y=\"0\" width=\"700\" height=\"350\" style=\"fill: rgb(255, 255, 255); fill-opacity: 1;\"/><defs id=\"defs-712743\"><g class=\"clips\"><clipPath id=\"clip712743xyplot\" class=\"plotclip\"><rect width=\"640\" height=\"274\"/></clipPath><clipPath class=\"axesclip\" id=\"clip712743x\"><rect x=\"30\" y=\"0\" width=\"640\" height=\"350\"/></clipPath><clipPath class=\"axesclip\" id=\"clip712743y\"><rect x=\"0\" y=\"46\" width=\"700\" height=\"274\"/></clipPath><clipPath class=\"axesclip\" id=\"clip712743xy\"><rect x=\"30\" y=\"46\" width=\"640\" height=\"274\"/></clipPath></g><g class=\"gradients\"/></defs><g class=\"bglayer\"><rect class=\"bg\" x=\"30\" y=\"46\" width=\"640\" height=\"274\" style=\"fill: rgb(229, 236, 246); fill-opacity: 1; stroke-width: 0;\"/></g><g class=\"layer-below\"><g class=\"imagelayer\"/><g class=\"shapelayer\"/></g><g class=\"cartesianlayer\"><g class=\"subplot xy\"><g class=\"layer-subplot\"><g class=\"shapelayer\"/><g class=\"imagelayer\"/></g><g class=\"gridlayer\"><g class=\"x\"><path class=\"xgrid crisp\" transform=\"translate(140.34,0)\" d=\"M0,46v274\" style=\"stroke: rgb(255, 255, 255); stroke-opacity: 1; stroke-width: 1px;\"/><path class=\"xgrid crisp\" transform=\"translate(250.69,0)\" d=\"M0,46v274\" style=\"stroke: rgb(255, 255, 255); stroke-opacity: 1; stroke-width: 1px;\"/><path class=\"xgrid crisp\" transform=\"translate(361.03,0)\" d=\"M0,46v274\" style=\"stroke: rgb(255, 255, 255); stroke-opacity: 1; stroke-width: 1px;\"/><path class=\"xgrid crisp\" transform=\"translate(471.38,0)\" d=\"M0,46v274\" style=\"stroke: rgb(255, 255, 255); stroke-opacity: 1; stroke-width: 1px;\"/><path class=\"xgrid crisp\" transform=\"translate(581.72,0)\" d=\"M0,46v274\" style=\"stroke: rgb(255, 255, 255); stroke-opacity: 1; stroke-width: 1px;\"/></g><g class=\"y\"><path class=\"ygrid crisp\" transform=\"translate(0,306.3)\" d=\"M30,0h640\" style=\"stroke: rgb(255, 255, 255); stroke-opacity: 1; stroke-width: 1px;\"/><path class=\"ygrid crisp\" transform=\"translate(0,243.07)\" d=\"M30,0h640\" style=\"stroke: rgb(255, 255, 255); stroke-opacity: 1; stroke-width: 1px;\"/><path class=\"ygrid crisp\" transform=\"translate(0,179.84)\" d=\"M30,0h640\" style=\"stroke: rgb(255, 255, 255); stroke-opacity: 1; stroke-width: 1px;\"/><path class=\"ygrid crisp\" transform=\"translate(0,116.61)\" d=\"M30,0h640\" style=\"stroke: rgb(255, 255, 255); stroke-opacity: 1; stroke-width: 1px;\"/><path class=\"ygrid crisp\" transform=\"translate(0,53.38)\" d=\"M30,0h640\" style=\"stroke: rgb(255, 255, 255); stroke-opacity: 1; stroke-width: 1px;\"/></g></g><g class=\"zerolinelayer\"><path class=\"xzl zl crisp\" transform=\"translate(30,0)\" d=\"M0,46v274\" style=\"stroke: rgb(255, 255, 255); stroke-opacity: 1; stroke-width: 2px;\"/></g><path class=\"xlines-below\"/><path class=\"ylines-below\"/><g class=\"overlines-below\"/><g class=\"xaxislayer-below\"/><g class=\"yaxislayer-below\"/><g class=\"overaxes-below\"/><g class=\"plot\" transform=\"translate(30, 46)\" clip-path=\"url('#clip712743xyplot')\"><g class=\"scatterlayer mlayer\"><g class=\"trace scatter trace0c707171-0a17-45f5-b203-6a5a59edc98f\" style=\"stroke-miterlimit: 2; opacity: 1;\"><g class=\"fills\"/><g class=\"errorbars\"/><g class=\"lines\"><path class=\"js-line\" d=\"M0,152.81L22.07,152.81L44.14,190.75L66.21,178.1L88.28,197.07L110.34,197.07L132.41,64.28L154.48,89.58L176.55,89.58L198.62,260.3L220.69,260.3L397.24,260.3L419.31,216.04L441.38,216.04L463.45,241.33L485.52,38.99L507.59,38.99L529.66,38.99L551.72,209.72L573.79,241.33L595.86,241.33L640,241.33\" style=\"vector-effect: non-scaling-stroke; fill: none; stroke: rgb(31, 119, 180); stroke-opacity: 1; stroke-width: 2px; opacity: 1;\"/></g><g class=\"points\"/><g class=\"text\"/></g><g class=\"trace scatter trace6fb753c1-729d-49d2-9570-31cbeccad079\" style=\"stroke-miterlimit: 2; opacity: 1;\"><g class=\"fills\"/><g class=\"errorbars\"/><g class=\"lines\"><path class=\"js-line\" d=\"M0,140.16L22.07,140.16L44.14,165.45L66.21,165.45L88.28,64.28L110.34,64.28L132.41,57.96L154.48,51.64L176.55,51.64L198.62,190.75L220.69,190.75L331.03,190.75L353.1,184.42L441.38,184.42L463.45,190.75L485.52,20.02L507.59,13.7L529.66,13.7L551.72,190.75L573.79,190.75L595.86,197.07L640,197.07\" style=\"vector-effect: non-scaling-stroke; fill: none; stroke: rgb(255, 127, 14); stroke-opacity: 1; stroke-width: 2px; opacity: 1;\"/></g><g class=\"points\"/><g class=\"text\"/></g></g></g><g class=\"overplot\"/><path class=\"xlines-above crisp\" d=\"M0,0\" style=\"fill: none;\"/><path class=\"ylines-above crisp\" d=\"M0,0\" style=\"fill: none;\"/><g class=\"overlines-above\"/><g class=\"xaxislayer-above\"><g class=\"xtick\"><text text-anchor=\"middle\" x=\"0\" y=\"333\" transform=\"translate(30,0)\" style=\"font-family: 'Open Sans', verdana, arial, sans-serif; font-size: 12px; fill: rgb(42, 63, 95); fill-opacity: 1; white-space: pre;\">0</text></g><g class=\"xtick\"><text text-anchor=\"middle\" x=\"0\" y=\"333\" transform=\"translate(140.34,0)\" style=\"font-family: 'Open Sans', verdana, arial, sans-serif; font-size: 12px; fill: rgb(42, 63, 95); fill-opacity: 1; white-space: pre;\">5</text></g><g class=\"xtick\"><text text-anchor=\"middle\" x=\"0\" y=\"333\" transform=\"translate(250.69,0)\" style=\"font-family: 'Open Sans', verdana, arial, sans-serif; font-size: 12px; fill: rgb(42, 63, 95); fill-opacity: 1; white-space: pre;\">10</text></g><g class=\"xtick\"><text text-anchor=\"middle\" x=\"0\" y=\"333\" transform=\"translate(361.03,0)\" style=\"font-family: 'Open Sans', verdana, arial, sans-serif; font-size: 12px; fill: rgb(42, 63, 95); fill-opacity: 1; white-space: pre;\">15</text></g><g class=\"xtick\"><text text-anchor=\"middle\" x=\"0\" y=\"333\" transform=\"translate(471.38,0)\" style=\"font-family: 'Open Sans', verdana, arial, sans-serif; font-size: 12px; fill: rgb(42, 63, 95); fill-opacity: 1; white-space: pre;\">20</text></g><g class=\"xtick\"><text text-anchor=\"middle\" x=\"0\" y=\"333\" transform=\"translate(581.72,0)\" style=\"font-family: 'Open Sans', verdana, arial, sans-serif; font-size: 12px; fill: rgb(42, 63, 95); fill-opacity: 1; white-space: pre;\">25</text></g></g><g class=\"yaxislayer-above\"><g class=\"ytick\"><text text-anchor=\"end\" x=\"29\" y=\"4.199999999999999\" transform=\"translate(0,306.3)\" style=\"font-family: 'Open Sans', verdana, arial, sans-serif; font-size: 12px; fill: rgb(42, 63, 95); fill-opacity: 1; white-space: pre;\">10</text></g><g class=\"ytick\"><text text-anchor=\"end\" x=\"29\" y=\"4.199999999999999\" transform=\"translate(0,243.07)\" style=\"font-family: 'Open Sans', verdana, arial, sans-serif; font-size: 12px; fill: rgb(42, 63, 95); fill-opacity: 1; white-space: pre;\">20</text></g><g class=\"ytick\"><text text-anchor=\"end\" x=\"29\" y=\"4.199999999999999\" transform=\"translate(0,179.84)\" style=\"font-family: 'Open Sans', verdana, arial, sans-serif; font-size: 12px; fill: rgb(42, 63, 95); fill-opacity: 1; white-space: pre;\">30</text></g><g class=\"ytick\"><text text-anchor=\"end\" x=\"29\" y=\"4.199999999999999\" transform=\"translate(0,116.61)\" style=\"font-family: 'Open Sans', verdana, arial, sans-serif; font-size: 12px; fill: rgb(42, 63, 95); fill-opacity: 1; white-space: pre;\">40</text></g><g class=\"ytick\"><text text-anchor=\"end\" x=\"29\" y=\"4.199999999999999\" transform=\"translate(0,53.38)\" style=\"font-family: 'Open Sans', verdana, arial, sans-serif; font-size: 12px; fill: rgb(42, 63, 95); fill-opacity: 1; white-space: pre;\">50</text></g></g><g class=\"overaxes-above\"/></g></g><g class=\"polarlayer\"/><g class=\"ternarylayer\"/><g class=\"geolayer\"/><g class=\"funnelarealayer\"/><g class=\"pielayer\"/><g class=\"treemaplayer\"/><g class=\"sunburstlayer\"/><g class=\"glimages\"/><defs id=\"topdefs-712743\"><g class=\"clips\"/><clipPath id=\"legend712743\"><rect width=\"245\" height=\"29\" x=\"0\" y=\"0\"/></clipPath></defs><g class=\"layer-above\"><g class=\"imagelayer\"/><g class=\"shapelayer\"/></g><g class=\"infolayer\"><g class=\"legend\" pointer-events=\"all\" transform=\"translate(425, 11.519999999999996)\"><rect class=\"bg\" shape-rendering=\"crispEdges\" style=\"stroke: rgb(68, 68, 68); stroke-opacity: 1; fill: rgb(255, 255, 255); fill-opacity: 1; stroke-width: 0px;\" width=\"245\" height=\"29\" x=\"0\" y=\"0\"/><g class=\"scrollbox\" transform=\"translate(0, 0)\" clip-path=\"url('#legend712743')\"><g class=\"groups\"><g class=\"traces\" transform=\"translate(0, 14.5)\" style=\"opacity: 1;\"><text class=\"legendtext\" text-anchor=\"start\" x=\"40\" y=\"4.680000000000001\" style=\"font-family: 'Open Sans', verdana, arial, sans-serif; font-size: 12px; fill: rgb(42, 63, 95); fill-opacity: 1; white-space: pre;\">fast_window</text><g class=\"layers\" style=\"opacity: 1;\"><g class=\"legendfill\"/><g class=\"legendlines\"><path class=\"js-line\" d=\"M5,0h30\" style=\"fill: none; stroke: rgb(31, 119, 180); stroke-opacity: 1; stroke-width: 2px;\"/></g><g class=\"legendsymbols\"><g class=\"legendpoints\"/></g></g><rect class=\"legendtoggle\" x=\"0\" y=\"-9.5\" width=\"117.828125\" height=\"19\" style=\"fill: rgb(0, 0, 0); fill-opacity: 0;\"/></g><g class=\"traces\" transform=\"translate(120.328125, 14.5)\" style=\"opacity: 1;\"><text class=\"legendtext\" text-anchor=\"start\" x=\"40\" y=\"4.680000000000001\" style=\"font-family: 'Open Sans', verdana, arial, sans-serif; font-size: 12px; fill: rgb(42, 63, 95); fill-opacity: 1; white-space: pre;\">slow_window</text><g class=\"layers\" style=\"opacity: 1;\"><g class=\"legendfill\"/><g class=\"legendlines\"><path class=\"js-line\" d=\"M5,0h30\" style=\"fill: none; stroke: rgb(255, 127, 14); stroke-opacity: 1; stroke-width: 2px;\"/></g><g class=\"legendsymbols\"><g class=\"legendpoints\"/></g></g><rect class=\"legendtoggle\" x=\"0\" y=\"-9.5\" width=\"122.078125\" height=\"19\" style=\"fill: rgb(0, 0, 0); fill-opacity: 0;\"/></g></g></g><rect class=\"scrollbar\" rx=\"20\" ry=\"3\" width=\"0\" height=\"0\" style=\"fill: rgb(128, 139, 164); fill-opacity: 1;\" x=\"0\" y=\"0\"/></g><g class=\"g-gtitle\"/><g class=\"g-xtitle\"/><g class=\"g-ytitle\"/></g></svg>"
      ]
     },
     "metadata": {},
     "output_type": "display_data"
    }
   ],
   "source": [
    "pd.DataFrame(in_best_window_pairs, columns=['fast_window', 'slow_window']).vbt.plot().show_svg()"
   ]
  },
  {
   "cell_type": "code",
   "execution_count": 17,
   "metadata": {},
   "outputs": [
    {
     "name": "stdout",
     "output_type": "stream",
     "text": [
      "split_idx\n",
      "0     1.773721\n",
      "1     1.958499\n",
      "2     1.686644\n",
      "3     2.684462\n",
      "4     2.928572\n",
      "5     3.003108\n",
      "6     3.497229\n",
      "7     3.494311\n",
      "8     3.687199\n",
      "9     2.216706\n",
      "10    1.135060\n",
      "11   -1.367843\n",
      "12   -1.006925\n",
      "13   -0.715992\n",
      "14   -1.789592\n",
      "15   -1.801691\n",
      "16   -0.536478\n",
      "17    2.768972\n",
      "18    3.018891\n",
      "19    2.199552\n",
      "20   -0.124947\n",
      "21   -0.140312\n",
      "22   -1.218439\n",
      "23    0.677830\n",
      "24    0.592734\n",
      "25    2.468891\n",
      "26    2.636862\n",
      "27    5.143888\n",
      "28    4.538139\n",
      "29    3.899192\n",
      "Name: sharpe_ratio, dtype: float64\n"
     ]
    }
   ],
   "source": [
    "out_hold_sharpe = simulate_holding(out_price, **portfolio_kwargs)\n",
    "\n",
    "print(out_hold_sharpe)"
   ]
  },
  {
   "cell_type": "code",
   "execution_count": 18,
   "metadata": {},
   "outputs": [
    {
     "name": "stdout",
     "output_type": "stream",
     "text": [
      "fast_window  slow_window  split_idx\n",
      "10           11           0           -1.018512\n",
      "                          1           -0.973724\n",
      "                          2            1.646358\n",
      "                          3            0.337991\n",
      "                          4            1.862280\n",
      "                                         ...   \n",
      "48           49           25          -1.029267\n",
      "                          26          -2.132047\n",
      "                          27           2.709654\n",
      "                          28           4.142129\n",
      "                          29           2.492854\n",
      "Name: sharpe_ratio, Length: 23400, dtype: float64\n"
     ]
    }
   ],
   "source": [
    "# Simulate all params for out-sample ranges\n",
    "out_sharpe = simulate_all_params(out_price, windows, **portfolio_kwargs)\n",
    "\n",
    "print(out_sharpe)"
   ]
  },
  {
   "cell_type": "code",
   "execution_count": 19,
   "metadata": {},
   "outputs": [],
   "source": [
    "def simulate_best_params(price, best_fast_windows, best_slow_windows, **kwargs):\n",
    "    fast_ma = vbt.MA.run(price, window=best_fast_windows, per_column=True)\n",
    "    slow_ma = vbt.MA.run(price, window=best_slow_windows, per_column=True)\n",
    "    entries = fast_ma.ma_above(slow_ma, crossover=True)\n",
    "    exits = fast_ma.ma_below(slow_ma, crossover=True)\n",
    "    portfolio = vbt.Portfolio.from_signals(price, entries, exits, **kwargs)\n",
    "    return portfolio.sharpe_ratio()"
   ]
  },
  {
   "cell_type": "code",
   "execution_count": 20,
   "metadata": {},
   "outputs": [
    {
     "name": "stdout",
     "output_type": "stream",
     "text": [
      "ma_window  ma_window  split_idx\n",
      "27         29         0            1.164082\n",
      "                      1            0.290499\n",
      "21         25         2            1.779768\n",
      "23         25         3            1.543974\n",
      "20         41         4            0.114459\n",
      "                      5            1.963370\n",
      "41         42         6            0.750199\n",
      "37         43         7           -1.622210\n",
      "                      8            1.806276\n",
      "10         21         9            2.680307\n",
      "                      10           2.611956\n",
      "                      11           1.426841\n",
      "                      12           2.091782\n",
      "                      13           0.448921\n",
      "                      14           0.720844\n",
      "                      15          -0.148826\n",
      "           22         16           1.741600\n",
      "                      17           2.829548\n",
      "                      18           1.459040\n",
      "17         22         19           0.621850\n",
      "                      20           0.053594\n",
      "13         21         21           1.091201\n",
      "45         48         22          -2.088817\n",
      "           49         23          -1.934655\n",
      "                      24          -1.446415\n",
      "18         21         25           0.382546\n",
      "13         21         26           3.006235\n",
      "           20         27           5.299106\n",
      "                      28           3.367492\n",
      "                      29           0.583838\n",
      "Name: sharpe_ratio, dtype: float64\n"
     ]
    }
   ],
   "source": [
    "# Use best params from in-sample ranges and simulate them for out-sample ranges\n",
    "out_test_sharpe = simulate_best_params(out_price, in_best_fast_windows, in_best_slow_windows, **portfolio_kwargs)\n",
    "\n",
    "print(out_test_sharpe)"
   ]
  },
  {
   "cell_type": "code",
   "execution_count": 21,
   "metadata": {},
   "outputs": [],
   "source": [
    "cv_results_df = pd.DataFrame({\n",
    "    'in_sample_hold': in_hold_sharpe.values,\n",
    "    'in_sample_median': in_sharpe.groupby('split_idx').median().values,\n",
    "    'in_sample_best': in_sharpe[in_best_index].values,\n",
    "    'out_sample_hold': out_hold_sharpe.values,\n",
    "    'out_sample_median': out_sharpe.groupby('split_idx').median().values,\n",
    "    'out_sample_test': out_test_sharpe.values\n",
    "})"
   ]
  },
  {
   "cell_type": "code",
   "execution_count": 22,
   "metadata": {},
   "outputs": [
    {
     "data": {
      "image/svg+xml": [
       "<svg class=\"main-svg\" xmlns=\"http://www.w3.org/2000/svg\" xmlns:xlink=\"http://www.w3.org/1999/xlink\" width=\"700\" height=\"350\" style=\"\" viewBox=\"0 0 700 350\"><rect x=\"0\" y=\"0\" width=\"700\" height=\"350\" style=\"fill: rgb(255, 255, 255); fill-opacity: 1;\"/><defs id=\"defs-002aaf\"><g class=\"clips\"><clipPath id=\"clip002aafxyplot\" class=\"plotclip\"><rect width=\"640\" height=\"255\"/></clipPath><clipPath class=\"axesclip\" id=\"clip002aafx\"><rect x=\"30\" y=\"0\" width=\"640\" height=\"350\"/></clipPath><clipPath class=\"axesclip\" id=\"clip002aafy\"><rect x=\"0\" y=\"65\" width=\"700\" height=\"255\"/></clipPath><clipPath class=\"axesclip\" id=\"clip002aafxy\"><rect x=\"30\" y=\"65\" width=\"640\" height=\"255\"/></clipPath></g><g class=\"gradients\"/></defs><g class=\"bglayer\"><rect class=\"bg\" x=\"30\" y=\"65\" width=\"640\" height=\"255\" style=\"fill: rgb(229, 236, 246); fill-opacity: 1; stroke-width: 0;\"/></g><g class=\"layer-below\"><g class=\"imagelayer\"/><g class=\"shapelayer\"/></g><g class=\"cartesianlayer\"><g class=\"subplot xy\"><g class=\"layer-subplot\"><g class=\"shapelayer\"/><g class=\"imagelayer\"/></g><g class=\"gridlayer\"><g class=\"x\"><path class=\"xgrid crisp\" transform=\"translate(140.34,0)\" d=\"M0,65v255\" style=\"stroke: rgb(255, 255, 255); stroke-opacity: 1; stroke-width: 1px;\"/><path class=\"xgrid crisp\" transform=\"translate(250.69,0)\" d=\"M0,65v255\" style=\"stroke: rgb(255, 255, 255); stroke-opacity: 1; stroke-width: 1px;\"/><path class=\"xgrid crisp\" transform=\"translate(361.03,0)\" d=\"M0,65v255\" style=\"stroke: rgb(255, 255, 255); stroke-opacity: 1; stroke-width: 1px;\"/><path class=\"xgrid crisp\" transform=\"translate(471.38,0)\" d=\"M0,65v255\" style=\"stroke: rgb(255, 255, 255); stroke-opacity: 1; stroke-width: 1px;\"/><path class=\"xgrid crisp\" transform=\"translate(581.72,0)\" d=\"M0,65v255\" style=\"stroke: rgb(255, 255, 255); stroke-opacity: 1; stroke-width: 1px;\"/></g><g class=\"y\"><path class=\"ygrid crisp\" transform=\"translate(0,304.49)\" d=\"M30,0h640\" style=\"stroke: rgb(255, 255, 255); stroke-opacity: 1; stroke-width: 1px;\"/><path class=\"ygrid crisp\" transform=\"translate(0,180.23000000000002)\" d=\"M30,0h640\" style=\"stroke: rgb(255, 255, 255); stroke-opacity: 1; stroke-width: 1px;\"/><path class=\"ygrid crisp\" transform=\"translate(0,118.11)\" d=\"M30,0h640\" style=\"stroke: rgb(255, 255, 255); stroke-opacity: 1; stroke-width: 1px;\"/></g></g><g class=\"zerolinelayer\"><path class=\"xzl zl crisp\" transform=\"translate(30,0)\" d=\"M0,65v255\" style=\"stroke: rgb(255, 255, 255); stroke-opacity: 1; stroke-width: 2px;\"/><path class=\"yzl zl crisp\" transform=\"translate(0,242.36)\" d=\"M30,0h640\" style=\"stroke: rgb(255, 255, 255); stroke-opacity: 1; stroke-width: 2px;\"/></g><path class=\"xlines-below\"/><path class=\"ylines-below\"/><g class=\"overlines-below\"/><g class=\"xaxislayer-below\"/><g class=\"yaxislayer-below\"/><g class=\"overaxes-below\"/><g class=\"plot\" transform=\"translate(30, 65)\" clip-path=\"url('#clip002aafxyplot')\"><g class=\"scatterlayer mlayer\"><g class=\"trace scatter traceb6d18daa-38be-4595-a95f-25a535856e1a\" style=\"stroke-miterlimit: 2; opacity: 1;\"><g class=\"fills\"/><g class=\"errorbars\"/><g class=\"lines\"><path class=\"js-line\" d=\"M0,170.24L22.07,163.1L44.14,138.28L66.21,140.28L88.28,127.92L110.34,113.73L132.41,103.49L154.48,116.53L176.55,103.94L198.62,93.5L220.69,90.35L242.76,82.53L264.83,96.31L286.9,106.86L308.97,115.05L331.03,123.1L353.1,123.7L375.17,151.07L397.24,158.14L419.31,163.17L441.38,162.58L463.45,172.54L485.52,161.49L507.59,166.22L529.66,158.82L551.72,160.04L573.79,156.96L595.86,141.08L617.93,138.23L640,138.58\" style=\"vector-effect: non-scaling-stroke; fill: none; stroke: rgb(31, 119, 180); stroke-opacity: 1; stroke-width: 2px; opacity: 1;\"/></g><g class=\"points\"/><g class=\"text\"/></g><g class=\"trace scatter tracef6b425b8-91f2-46dd-9667-ca3f3406870c\" style=\"stroke-miterlimit: 2; opacity: 1;\"><g class=\"fills\"/><g class=\"errorbars\"/><g class=\"lines\"><path class=\"js-line\" d=\"M0,157.97L22.07,147.51L44.14,151.67L66.21,149.77L88.28,142.69L110.34,122.74L132.41,131.6L154.48,155.28L176.55,131.13L198.62,122.77L220.69,138.9L242.76,116.06L264.83,119.75L308.97,135.56L331.03,139.96L353.1,141.8L375.17,146.13L397.24,151.56L419.31,150.57L441.38,152.91L463.45,152.48L485.52,149.71L507.59,154.77L551.72,142.16L573.79,148.56L595.86,143.1L617.93,148.63L640,160.47\" style=\"vector-effect: non-scaling-stroke; fill: none; stroke: rgb(31, 119, 180); stroke-opacity: 1; stroke-width: 2px; opacity: 1; stroke-dasharray: 9px, 9px;\"/></g><g class=\"points\"/><g class=\"text\"/></g><g class=\"trace scatter trace5a7d27f3-eeaf-4547-8b4f-f13d3fcd57a8\" style=\"stroke-miterlimit: 2; opacity: 1;\"><g class=\"fills\"/><g class=\"errorbars\"/><g class=\"lines\"><path class=\"js-line\" d=\"M0,113.89L22.07,112.42L44.14,113.17L66.21,117.82L88.28,115.5L110.34,98.73L132.41,100.76L154.48,127.89L176.55,105.23L198.62,95.88L220.69,93.39L242.76,64.57L264.83,74.34L286.9,82.14L308.97,85.32L331.03,79.14L353.1,87.38L397.24,113.54L419.31,110.78L441.38,117.51L463.45,119.1L485.52,114.98L507.59,119.51L529.66,112.25L551.72,103.93L573.79,113.88L595.86,112.81L617.93,105.63L640,118.62\" style=\"vector-effect: non-scaling-stroke; fill: none; stroke: rgb(31, 119, 180); stroke-opacity: 1; stroke-width: 2px; opacity: 1; stroke-dasharray: 3px, 3px;\"/></g><g class=\"points\"/><g class=\"text\"/></g><g class=\"trace scatter tracee96f0911-5848-4a0f-98de-fabf82c656b0\" style=\"stroke-miterlimit: 2; opacity: 1;\"><g class=\"fills\"/><g class=\"errorbars\"/><g class=\"lines\"><path class=\"js-line\" d=\"M0,122.26L22.07,116.52L44.14,124.97L66.21,93.97L88.28,86.39L110.34,84.07L132.41,68.72L154.48,68.81L176.55,62.82L198.62,108.5L220.69,142.1L242.76,219.85L264.83,208.64L286.9,199.6L308.97,232.95L331.03,233.33L353.1,194.03L375.17,91.35L397.24,83.58L419.31,109.04L441.38,181.24L463.45,181.72L485.52,215.21L507.59,156.31L529.66,158.95L551.72,100.67L573.79,95.45L595.86,17.57L617.93,36.39L640,56.24\" style=\"vector-effect: non-scaling-stroke; fill: none; stroke: rgb(255, 127, 14); stroke-opacity: 1; stroke-width: 2px; opacity: 1;\"/></g><g class=\"points\"/><g class=\"text\"/></g><g class=\"trace scatter trace96c00426-aad7-45f4-af23-5c3ced1740bd\" style=\"stroke-miterlimit: 2; opacity: 1;\"><g class=\"fills\"/><g class=\"errorbars\"/><g class=\"lines\"><path class=\"js-line\" d=\"M0,137.24L22.07,142.98L44.14,120.14L66.21,124.4L88.28,152.44L110.34,108.78L132.41,79.35L154.48,163.3L176.55,108.86L198.62,104.79L220.69,138.06L242.76,190.04L264.83,216.16L286.9,192.19L308.97,154.4L331.03,121.1L353.1,127.73L375.17,95.18L397.24,91.32L419.31,142.03L441.38,217.04L463.45,192.16L485.52,159.69L507.59,124.77L529.66,136.9L551.72,140.16L573.79,142.29L595.86,53.36L617.93,72.01L640,118.25\" style=\"vector-effect: non-scaling-stroke; fill: none; stroke: rgb(255, 127, 14); stroke-opacity: 1; stroke-width: 2px; opacity: 1; stroke-dasharray: 9px, 9px;\"/></g><g class=\"points\"/><g class=\"text\"/></g><g class=\"trace scatter trace15036db5-ea35-454d-96be-2534fd6d552f\" style=\"stroke-miterlimit: 2; opacity: 1;\"><g class=\"fills\"/><g class=\"errorbars\"/><g class=\"lines\"><path class=\"js-line\" d=\"M0,141.2L22.07,168.34L44.14,122.08L66.21,129.4L88.28,173.81L110.34,116.37L132.41,154.06L154.48,227.76L176.55,121.25L198.62,94.1L220.69,96.22L242.76,133.04L264.83,112.38L286.9,163.42L308.97,154.97L331.03,181.99L353.1,123.26L375.17,89.46L397.24,132.04L419.31,158.05L441.38,175.7L463.45,143.47L485.52,242.25L507.59,237.46L529.66,222.29L551.72,165.48L573.79,83.98L595.86,12.75L617.93,72.75L640,159.23\" style=\"vector-effect: non-scaling-stroke; fill: none; stroke: rgb(255, 127, 14); stroke-opacity: 1; stroke-width: 2px; opacity: 1; stroke-dasharray: 3px, 3px;\"/></g><g class=\"points\"/><g class=\"text\"/></g></g></g><g class=\"overplot\"/><path class=\"xlines-above crisp\" d=\"M0,0\" style=\"fill: none;\"/><path class=\"ylines-above crisp\" d=\"M0,0\" style=\"fill: none;\"/><g class=\"overlines-above\"/><g class=\"xaxislayer-above\"><g class=\"xtick\"><text text-anchor=\"middle\" x=\"0\" y=\"333\" transform=\"translate(30,0)\" style=\"font-family: 'Open Sans', verdana, arial, sans-serif; font-size: 12px; fill: rgb(42, 63, 95); fill-opacity: 1; white-space: pre;\">0</text></g><g class=\"xtick\"><text text-anchor=\"middle\" x=\"0\" y=\"333\" transform=\"translate(140.34,0)\" style=\"font-family: 'Open Sans', verdana, arial, sans-serif; font-size: 12px; fill: rgb(42, 63, 95); fill-opacity: 1; white-space: pre;\">5</text></g><g class=\"xtick\"><text text-anchor=\"middle\" x=\"0\" y=\"333\" transform=\"translate(250.69,0)\" style=\"font-family: 'Open Sans', verdana, arial, sans-serif; font-size: 12px; fill: rgb(42, 63, 95); fill-opacity: 1; white-space: pre;\">10</text></g><g class=\"xtick\"><text text-anchor=\"middle\" x=\"0\" y=\"333\" transform=\"translate(361.03,0)\" style=\"font-family: 'Open Sans', verdana, arial, sans-serif; font-size: 12px; fill: rgb(42, 63, 95); fill-opacity: 1; white-space: pre;\">15</text></g><g class=\"xtick\"><text text-anchor=\"middle\" x=\"0\" y=\"333\" transform=\"translate(471.38,0)\" style=\"font-family: 'Open Sans', verdana, arial, sans-serif; font-size: 12px; fill: rgb(42, 63, 95); fill-opacity: 1; white-space: pre;\">20</text></g><g class=\"xtick\"><text text-anchor=\"middle\" x=\"0\" y=\"333\" transform=\"translate(581.72,0)\" style=\"font-family: 'Open Sans', verdana, arial, sans-serif; font-size: 12px; fill: rgb(42, 63, 95); fill-opacity: 1; white-space: pre;\">25</text></g></g><g class=\"yaxislayer-above\"><g class=\"ytick\"><text text-anchor=\"end\" x=\"29\" y=\"4.199999999999999\" transform=\"translate(0,304.49)\" style=\"font-family: 'Open Sans', verdana, arial, sans-serif; font-size: 12px; fill: rgb(42, 63, 95); fill-opacity: 1; white-space: pre;\">−2</text></g><g class=\"ytick\"><text text-anchor=\"end\" x=\"29\" y=\"4.199999999999999\" transform=\"translate(0,242.36)\" style=\"font-family: 'Open Sans', verdana, arial, sans-serif; font-size: 12px; fill: rgb(42, 63, 95); fill-opacity: 1; white-space: pre;\">0</text></g><g class=\"ytick\"><text text-anchor=\"end\" x=\"29\" y=\"4.199999999999999\" transform=\"translate(0,180.23000000000002)\" style=\"font-family: 'Open Sans', verdana, arial, sans-serif; font-size: 12px; fill: rgb(42, 63, 95); fill-opacity: 1; white-space: pre;\">2</text></g><g class=\"ytick\"><text text-anchor=\"end\" x=\"29\" y=\"4.199999999999999\" transform=\"translate(0,118.11)\" style=\"font-family: 'Open Sans', verdana, arial, sans-serif; font-size: 12px; fill: rgb(42, 63, 95); fill-opacity: 1; white-space: pre;\">4</text></g></g><g class=\"overaxes-above\"/></g></g><g class=\"polarlayer\"/><g class=\"ternarylayer\"/><g class=\"geolayer\"/><g class=\"funnelarealayer\"/><g class=\"pielayer\"/><g class=\"treemaplayer\"/><g class=\"sunburstlayer\"/><g class=\"glimages\"/><defs id=\"topdefs-002aaf\"><g class=\"clips\"/><clipPath id=\"legend002aaf\"><rect width=\"481\" height=\"48\" x=\"0\" y=\"0\"/></clipPath></defs><g class=\"layer-above\"><g class=\"imagelayer\"/><g class=\"shapelayer\"/></g><g class=\"infolayer\"><g class=\"legend\" pointer-events=\"all\" transform=\"translate(189, 11.899999999999991)\"><rect class=\"bg\" shape-rendering=\"crispEdges\" style=\"stroke: rgb(68, 68, 68); stroke-opacity: 1; fill: rgb(255, 255, 255); fill-opacity: 1; stroke-width: 0px;\" width=\"481\" height=\"48\" x=\"0\" y=\"0\"/><g class=\"scrollbox\" transform=\"translate(0, 0)\" clip-path=\"url('#legend002aaf')\"><g class=\"groups\"><g class=\"traces\" transform=\"translate(0, 14.5)\" style=\"opacity: 1;\"><text class=\"legendtext\" text-anchor=\"start\" x=\"40\" y=\"4.680000000000001\" style=\"font-family: 'Open Sans', verdana, arial, sans-serif; font-size: 12px; fill: rgb(42, 63, 95); fill-opacity: 1; white-space: pre;\">in_sample_hold</text><g class=\"layers\" style=\"opacity: 1;\"><g class=\"legendfill\"/><g class=\"legendlines\"><path class=\"js-line\" d=\"M5,0h30\" style=\"fill: none; stroke: rgb(31, 119, 180); stroke-opacity: 1; stroke-width: 2px;\"/></g><g class=\"legendsymbols\"><g class=\"legendpoints\"/></g></g><rect class=\"legendtoggle\" x=\"0\" y=\"-9.5\" width=\"137.34375\" height=\"19\" style=\"fill: rgb(0, 0, 0); fill-opacity: 0;\"/></g><g class=\"traces\" transform=\"translate(167.3125, 14.5)\" style=\"opacity: 1;\"><text class=\"legendtext\" text-anchor=\"start\" x=\"40\" y=\"4.680000000000001\" style=\"font-family: 'Open Sans', verdana, arial, sans-serif; font-size: 12px; fill: rgb(42, 63, 95); fill-opacity: 1; white-space: pre;\">in_sample_median</text><g class=\"layers\" style=\"opacity: 1;\"><g class=\"legendfill\"/><g class=\"legendlines\"><path class=\"js-line\" d=\"M5,0h30\" style=\"fill: none; stroke: rgb(31, 119, 180); stroke-opacity: 1; stroke-dasharray: 9px, 9px; stroke-width: 2px;\"/></g><g class=\"legendsymbols\"><g class=\"legendpoints\"/></g></g><rect class=\"legendtoggle\" x=\"0\" y=\"-9.5\" width=\"156.09375\" height=\"19\" style=\"fill: rgb(0, 0, 0); fill-opacity: 0;\"/></g><g class=\"traces\" transform=\"translate(334.625, 14.5)\" style=\"opacity: 1;\"><text class=\"legendtext\" text-anchor=\"start\" x=\"40\" y=\"4.680000000000001\" style=\"font-family: 'Open Sans', verdana, arial, sans-serif; font-size: 12px; fill: rgb(42, 63, 95); fill-opacity: 1; white-space: pre;\">in_sample_best</text><g class=\"layers\" style=\"opacity: 1;\"><g class=\"legendfill\"/><g class=\"legendlines\"><path class=\"js-line\" d=\"M5,0h30\" style=\"fill: none; stroke: rgb(31, 119, 180); stroke-opacity: 1; stroke-dasharray: 3px, 3px; stroke-width: 2px;\"/></g><g class=\"legendsymbols\"><g class=\"legendpoints\"/></g></g><rect class=\"legendtoggle\" x=\"0\" y=\"-9.5\" width=\"137.3125\" height=\"19\" style=\"fill: rgb(0, 0, 0); fill-opacity: 0;\"/></g><g class=\"traces\" transform=\"translate(0, 33.5)\" style=\"opacity: 1;\"><text class=\"legendtext\" text-anchor=\"start\" x=\"40\" y=\"4.680000000000001\" style=\"font-family: 'Open Sans', verdana, arial, sans-serif; font-size: 12px; fill: rgb(42, 63, 95); fill-opacity: 1; white-space: pre;\">out_sample_hold</text><g class=\"layers\" style=\"opacity: 1;\"><g class=\"legendfill\"/><g class=\"legendlines\"><path class=\"js-line\" d=\"M5,0h30\" style=\"fill: none; stroke: rgb(255, 127, 14); stroke-opacity: 1; stroke-width: 2px;\"/></g><g class=\"legendsymbols\"><g class=\"legendpoints\"/></g></g><rect class=\"legendtoggle\" x=\"0\" y=\"-9.5\" width=\"146.0625\" height=\"19\" style=\"fill: rgb(0, 0, 0); fill-opacity: 0;\"/></g><g class=\"traces\" transform=\"translate(167.3125, 33.5)\" style=\"opacity: 1;\"><text class=\"legendtext\" text-anchor=\"start\" x=\"40\" y=\"4.680000000000001\" style=\"font-family: 'Open Sans', verdana, arial, sans-serif; font-size: 12px; fill: rgb(42, 63, 95); fill-opacity: 1; white-space: pre;\">out_sample_median</text><g class=\"layers\" style=\"opacity: 1;\"><g class=\"legendfill\"/><g class=\"legendlines\"><path class=\"js-line\" d=\"M5,0h30\" style=\"fill: none; stroke: rgb(255, 127, 14); stroke-opacity: 1; stroke-dasharray: 9px, 9px; stroke-width: 2px;\"/></g><g class=\"legendsymbols\"><g class=\"legendpoints\"/></g></g><rect class=\"legendtoggle\" x=\"0\" y=\"-9.5\" width=\"164.8125\" height=\"19\" style=\"fill: rgb(0, 0, 0); fill-opacity: 0;\"/></g><g class=\"traces\" transform=\"translate(334.625, 33.5)\" style=\"opacity: 1;\"><text class=\"legendtext\" text-anchor=\"start\" x=\"40\" y=\"4.680000000000001\" style=\"font-family: 'Open Sans', verdana, arial, sans-serif; font-size: 12px; fill: rgb(42, 63, 95); fill-opacity: 1; white-space: pre;\">out_sample_test</text><g class=\"layers\" style=\"opacity: 1;\"><g class=\"legendfill\"/><g class=\"legendlines\"><path class=\"js-line\" d=\"M5,0h30\" style=\"fill: none; stroke: rgb(255, 127, 14); stroke-opacity: 1; stroke-dasharray: 3px, 3px; stroke-width: 2px;\"/></g><g class=\"legendsymbols\"><g class=\"legendpoints\"/></g></g><rect class=\"legendtoggle\" x=\"0\" y=\"-9.5\" width=\"143.28125\" height=\"19\" style=\"fill: rgb(0, 0, 0); fill-opacity: 0;\"/></g></g></g><rect class=\"scrollbar\" rx=\"20\" ry=\"3\" width=\"0\" height=\"0\" style=\"fill: rgb(128, 139, 164); fill-opacity: 1;\" x=\"0\" y=\"0\"/></g><g class=\"g-gtitle\"/><g class=\"g-xtitle\"/><g class=\"g-ytitle\"/></g></svg>"
      ]
     },
     "metadata": {},
     "output_type": "display_data"
    }
   ],
   "source": [
    "cv_results_df.vbt.plot(\n",
    "    trace_kwargs=[\n",
    "        dict(line_color=vbt.settings.color_schema['blue']),\n",
    "        dict(line_color=vbt.settings.color_schema['blue'], line_dash='dash'),\n",
    "        dict(line_color=vbt.settings.color_schema['blue'], line_dash='dot'),\n",
    "        dict(line_color=vbt.settings.color_schema['orange']),\n",
    "        dict(line_color=vbt.settings.color_schema['orange'], line_dash='dash'),\n",
    "        dict(line_color=vbt.settings.color_schema['orange'], line_dash='dot')\n",
    "    ]\n",
    ").show_svg()"
   ]
  },
  {
   "cell_type": "code",
   "execution_count": null,
   "metadata": {},
   "outputs": [],
   "source": []
  }
 ],
 "metadata": {
  "kernelspec": {
   "display_name": "Python 3",
   "language": "python",
   "name": "python3"
  },
  "language_info": {
   "codemirror_mode": {
    "name": "ipython",
    "version": 3
   },
   "file_extension": ".py",
   "mimetype": "text/x-python",
   "name": "python",
   "nbconvert_exporter": "python",
   "pygments_lexer": "ipython3",
   "version": "3.7.3"
  }
 },
 "nbformat": 4,
 "nbformat_minor": 4
}
