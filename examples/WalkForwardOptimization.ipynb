{
 "cells": [
  {
   "cell_type": "code",
   "execution_count": 1,
   "metadata": {},
   "outputs": [],
   "source": [
    "import numpy as np\n",
    "import pandas as pd\n",
    "import vectorbt as vbt"
   ]
  },
  {
   "cell_type": "code",
   "execution_count": 2,
   "metadata": {},
   "outputs": [],
   "source": [
    "split_kwargs = dict(\n",
    "    n=30, \n",
    "    window_len=365 * 2, \n",
    "    set_lens=(180,), \n",
    "    left_to_right=False\n",
    ")  # 30 windows, each 2 years long, reserve 180 days for test\n",
    "pf_kwargs = dict(\n",
    "    direction='both',  # long and short\n",
    "    freq='d'\n",
    ")\n",
    "windows = np.arange(10, 50)"
   ]
  },
  {
   "cell_type": "code",
   "execution_count": 3,
   "metadata": {},
   "outputs": [],
   "source": [
    "price = vbt.YFData.download('BTC-USD').get('Close')"
   ]
  },
  {
   "cell_type": "code",
   "execution_count": 4,
   "metadata": {},
   "outputs": [
    {
     "name": "stdout",
     "output_type": "stream",
     "text": [
      "Date\n",
      "2014-09-17 00:00:00+00:00      457.334015\n",
      "2014-09-18 00:00:00+00:00      424.440002\n",
      "2014-09-19 00:00:00+00:00      394.795990\n",
      "2014-09-20 00:00:00+00:00      408.903992\n",
      "2014-09-21 00:00:00+00:00      398.821014\n",
      "                                 ...     \n",
      "2021-08-18 00:00:00+00:00    44801.187500\n",
      "2021-08-19 00:00:00+00:00    46717.578125\n",
      "2021-08-20 00:00:00+00:00    49339.175781\n",
      "2021-08-21 00:00:00+00:00    48905.492188\n",
      "2021-08-22 00:00:00+00:00    49114.996094\n",
      "Name: Close, Length: 2528, dtype: float64\n"
     ]
    }
   ],
   "source": [
    "print(price)"
   ]
  },
  {
   "cell_type": "code",
   "execution_count": 5,
   "metadata": {},
   "outputs": [
    {
     "data": {
      "image/svg+xml": [
       "<svg class=\"main-svg\" xmlns=\"http://www.w3.org/2000/svg\" xmlns:xlink=\"http://www.w3.org/1999/xlink\" width=\"700\" height=\"350\" style=\"\" viewBox=\"0 0 700 350\"><rect x=\"0\" y=\"0\" width=\"700\" height=\"350\" style=\"fill: rgb(255, 255, 255); fill-opacity: 1;\"/><defs id=\"defs-f1e675\"><g class=\"clips\"><clipPath id=\"clipf1e675xyplot\" class=\"plotclip\"><rect width=\"635\" height=\"274\"/></clipPath><clipPath class=\"axesclip\" id=\"clipf1e675x\"><rect x=\"35\" y=\"0\" width=\"635\" height=\"350\"/></clipPath><clipPath class=\"axesclip\" id=\"clipf1e675y\"><rect x=\"0\" y=\"46\" width=\"700\" height=\"274\"/></clipPath><clipPath class=\"axesclip\" id=\"clipf1e675xy\"><rect x=\"35\" y=\"46\" width=\"635\" height=\"274\"/></clipPath></g><g class=\"gradients\"/><g class=\"patterns\"/></defs><g class=\"bglayer\"><rect class=\"bg\" x=\"35\" y=\"46\" width=\"635\" height=\"274\" style=\"fill: rgb(229, 236, 246); fill-opacity: 1; stroke-width: 0;\"/></g><g class=\"layer-below\"><g class=\"imagelayer\"/><g class=\"shapelayer\"/></g><g class=\"cartesianlayer\"><g class=\"subplot xy\"><g class=\"layer-subplot\"><g class=\"shapelayer\"/><g class=\"imagelayer\"/></g><g class=\"gridlayer\"><g class=\"x\"><path class=\"xgrid crisp\" transform=\"translate(61.59,0)\" d=\"M0,46v274\" style=\"stroke: rgb(255, 255, 255); stroke-opacity: 1; stroke-width: 1px;\"/><path class=\"xgrid crisp\" transform=\"translate(153.17000000000002,0)\" d=\"M0,46v274\" style=\"stroke: rgb(255, 255, 255); stroke-opacity: 1; stroke-width: 1px;\"/><path class=\"xgrid crisp\" transform=\"translate(244.99,0)\" d=\"M0,46v274\" style=\"stroke: rgb(255, 255, 255); stroke-opacity: 1; stroke-width: 1px;\"/><path class=\"xgrid crisp\" transform=\"translate(336.57,0)\" d=\"M0,46v274\" style=\"stroke: rgb(255, 255, 255); stroke-opacity: 1; stroke-width: 1px;\"/><path class=\"xgrid crisp\" transform=\"translate(428.14,0)\" d=\"M0,46v274\" style=\"stroke: rgb(255, 255, 255); stroke-opacity: 1; stroke-width: 1px;\"/><path class=\"xgrid crisp\" transform=\"translate(519.72,0)\" d=\"M0,46v274\" style=\"stroke: rgb(255, 255, 255); stroke-opacity: 1; stroke-width: 1px;\"/><path class=\"xgrid crisp\" transform=\"translate(611.54,0)\" d=\"M0,46v274\" style=\"stroke: rgb(255, 255, 255); stroke-opacity: 1; stroke-width: 1px;\"/></g><g class=\"y\"><path class=\"ygrid crisp\" transform=\"translate(0,268.05)\" d=\"M35,0h635\" style=\"stroke: rgb(255, 255, 255); stroke-opacity: 1; stroke-width: 1px;\"/><path class=\"ygrid crisp\" transform=\"translate(0,229.11)\" d=\"M35,0h635\" style=\"stroke: rgb(255, 255, 255); stroke-opacity: 1; stroke-width: 1px;\"/><path class=\"ygrid crisp\" transform=\"translate(0,190.17)\" d=\"M35,0h635\" style=\"stroke: rgb(255, 255, 255); stroke-opacity: 1; stroke-width: 1px;\"/><path class=\"ygrid crisp\" transform=\"translate(0,151.23000000000002)\" d=\"M35,0h635\" style=\"stroke: rgb(255, 255, 255); stroke-opacity: 1; stroke-width: 1px;\"/><path class=\"ygrid crisp\" transform=\"translate(0,112.28)\" d=\"M35,0h635\" style=\"stroke: rgb(255, 255, 255); stroke-opacity: 1; stroke-width: 1px;\"/><path class=\"ygrid crisp\" transform=\"translate(0,73.34)\" d=\"M35,0h635\" style=\"stroke: rgb(255, 255, 255); stroke-opacity: 1; stroke-width: 1px;\"/></g></g><g class=\"zerolinelayer\"><path class=\"yzl zl crisp\" transform=\"translate(0,306.99)\" d=\"M35,0h635\" style=\"stroke: rgb(255, 255, 255); stroke-opacity: 1; stroke-width: 2px;\"/></g><path class=\"xlines-below\"/><path class=\"ylines-below\"/><g class=\"overlines-below\"/><g class=\"xaxislayer-below\"/><g class=\"yaxislayer-below\"/><g class=\"overaxes-below\"/><g class=\"plot\" transform=\"translate(35,46)\" clip-path=\"url(#clipf1e675xyplot)\"><g class=\"scatterlayer mlayer\"><g class=\"trace scatter trace319a3640-600a-47a0-b281-d32f1ed0fc3b\" style=\"stroke-miterlimit: 2; opacity: 1;\"><g class=\"fills\"/><g class=\"errorbars\"/><g class=\"lines\"><path class=\"js-line\" d=\"M0,259.21L1.76,259.35L2.01,259.39L8.53,259.49L8.78,259.5L11.29,259.73L11.54,259.72L29.35,259.95L29.6,260.11L30.86,260.17L31.11,260.16L43.15,259.93L43.4,259.87L55.2,260.11L55.45,260.14L60.46,260.07L60.72,260.07L69.5,260.04L69.75,260.03L88.81,260.06L89.07,260.06L99.35,259.97L99.6,259.97L107.13,259.69L107.38,259.72L112.4,259.37L112.65,259.38L114.15,259.22L114.41,259.22L120.43,259.25L120.68,259.25L125.19,259.52L125.44,259.52L129.46,259.44L129.71,259.41L134.23,259.43L134.48,259.41L141.25,259.35L141.5,259.35L158.81,258.63L159.06,258.37L161.07,258.12L161.32,258.4L162.33,258.4L162.58,258.54L164.83,258.38L165.08,258.36L166.59,258.41L166.84,258.44L177.13,258.72L177.38,258.73L189.92,258.51L190.17,258.5L198.7,258.11L198.95,258.07L208.49,257.46L208.74,257.36L210.75,256.5L211,257.05L212,257.48L212.25,257.46L213.26,257.81L213.51,257.79L226.8,256.37L227.05,256.64L228.31,256.13L228.56,256.37L229.56,256.89L229.81,256.63L231.07,257.23L231.32,256.92L237.09,256.28L237.34,256.21L239.85,255.74L240.1,255.46L243.36,253.95L243.61,254.22L244.37,253.64L244.62,253.25L245.87,251.48L246.12,252.02L246.37,252.42L246.62,253.05L246.87,252.6L247.13,252.21L247.38,252.52L247.63,252.09L247.88,251.62L250.14,249.51L250.39,249.47L251.39,251.4L251.64,251.19L252.65,250.39L252.9,250.52L253.9,250.91L254.15,251.34L254.9,251.11L255.15,251.33L255.91,251.01L256.16,250.86L257.41,251.19L257.66,251.75L258.67,252.3L258.92,253.21L259.17,253.48L259.42,252.32L259.67,251.96L259.92,252.14L260.17,250.02L260.42,250.6L260.92,250.36L261.18,250.27L261.68,251.14L261.93,250.59L262.18,250.05L263.18,250.41L263.43,250.44L264.94,247.68L265.19,247.98L265.44,247.83L266.95,243.95L267.2,244.13L268.2,245.41L268.45,245.03L270.71,242.68L270.96,241.94L271.71,244.5L271.96,243.95L272.21,243.09L272.47,243.08L272.72,244.53L273.72,244.91L273.97,245.87L274.22,248.71L274.72,246.88L274.97,247.04L275.23,245.16L275.73,245.78L275.98,246.85L276.73,246.65L276.98,245.7L277.23,245.84L277.48,244.64L277.98,244.78L278.24,244.1L278.74,243.82L278.99,244.18L279.24,244.52L281,242.2L281.25,239.78L281.75,238.28L282.25,238.7L282.5,239.16L283,238.76L283.25,237.58L284.01,237.9L284.26,239.47L285.51,237.03L285.76,237.12L287.27,232.15L287.52,233.65L288.02,231.94L288.27,233.18L289.02,237.82L289.27,235.45L289.53,235.15L290.78,229.7L291.03,229.06L291.78,229.69L292.03,228.85L294.04,217.87L294.29,216.9L294.79,214.59L295.05,205.34L295.3,191.29L295.8,201.89L296.05,200.81L296.55,193.17L296.8,197.1L297.05,196.49L297.55,185.07L298.06,186.56L298.31,191.77L299.06,207.13L299.56,206.76L299.81,206.37L300.06,198.3L300.56,204.11L300.82,203.92L301.07,210.56L301.57,207.81L301.82,202.65L302.32,200.25L302.57,193.12L302.82,192.74L303.07,196.83L304.08,208.79L304.33,206.55L304.58,205.07L304.83,207.36L305.08,207.18L305.58,217.42L305.83,216.31L306.08,215.79L306.34,210.76L306.59,215.82L306.84,218.42L307.09,218.67L307.34,216.76L307.84,217.49L308.09,216.44L308.34,215.1L308.59,217L308.84,221.64L309.1,221.19L309.35,225.28L310.1,228.76L310.35,233.91L311.35,226.97L311.6,227.42L311.85,229.33L313.36,217.72L313.61,219.9L314.11,216.59L314.36,219.36L314.61,222.03L314.87,220.88L315.12,222.78L315.37,223.36L316.62,217.82L316.87,216.25L317.37,215.93L317.63,219.01L318.63,226.47L318.88,223.69L320.39,230.16L320.64,228.97L321.39,226.22L321.64,227L321.89,226.41L324.15,234.34L324.4,233.41L324.65,231.96L324.9,234.3L325.15,234.47L325.4,235.15L325.65,234.08L325.9,233.64L326.16,234.63L326.66,233.86L326.91,230.27L327.41,229.89L327.66,228.56L328.16,230.22L328.41,229.2L328.66,228.69L329.92,223.23L330.17,226.55L331.17,224.31L331.42,225.01L331.68,225.48L331.93,225.03L332.18,223.05L332.93,223.4L333.18,224.49L333.93,225.77L334.18,228.12L334.94,227.05L335.19,227.85L335.69,229.47L336.19,228.88L336.44,227.84L336.94,229.68L337.19,231.56L337.7,231.86L337.95,232.35L338.2,232.3L338.45,233.2L339.45,231.63L339.7,231.23L340.21,231.73L340.46,231.27L340.71,231.19L341.46,231.66L341.71,234.57L341.96,234.1L342.21,235.36L342.46,236.27L342.71,235L342.97,235.85L343.22,235.49L343.47,235.68L343.72,234.77L344.47,234.79L344.72,237.3L345.47,236.66L345.73,237.26L345.98,237.02L346.23,238L347.23,235.24L347.48,235.57L347.73,235.3L348.99,234.74L349.24,236.34L349.49,236.09L349.74,236.74L349.99,236.7L350.49,236.23L350.74,234.74L351.5,231.92L351.75,232.36L352,232.1L352.25,232.1L352.5,230.97L352.75,228.19L353.25,230.03L353.5,229.2L354.26,229.14L354.51,230.7L357.02,236.91L357.27,236.48L357.52,236.37L358.52,236.33L358.77,235.37L359.52,236.43L359.77,235.73L360.03,236.16L360.28,235.55L360.53,234.82L361.28,234.18L361.53,233.36L362.28,233.59L362.53,232.98L363.29,232.33L363.54,234.54L364.29,236.75L364.54,236.46L364.79,236.34L365.29,236.26L365.55,235.61L366.3,235.61L366.55,236.53L368.05,234.86L368.31,235.31L368.56,235.89L368.81,235.7L369.06,234.99L370.81,235.38L371.06,235.2L372.32,235.35L372.57,236.63L373.32,236.5L373.57,235.31L376.84,235.73L377.09,236.33L379.09,235.83L379.34,235.56L380.85,236.23L381.1,238.65L381.85,239.36L382.1,239.09L382.35,242.02L383.61,245.88L383.86,245.38L384.11,246.28L384.36,246.12L384.61,244.41L384.86,244.33L385.11,245.35L385.37,244.58L385.62,244.87L385.87,245.83L386.12,245.58L386.37,246.37L386.62,247.28L386.87,247.68L387.12,247.46L387.37,246.92L388.88,248.39L389.13,248.33L390.13,244.89L390.38,245.82L390.63,245.36L391.14,245.11L391.39,246.14L391.64,245.97L391.89,246.76L392.14,245.71L392.64,245.94L392.89,246.42L393.39,245.64L393.9,245.97L394.15,246.02L394.4,245.12L394.9,245.3L395.15,245.28L396.15,247.16L396.4,246.56L397.41,246.75L397.66,246.47L398.66,247.03L398.91,246.97L402.43,247.76L402.68,246.71L404.93,246.69L405.19,245.75L406.44,244.86L406.69,246.16L407.69,245.98L407.95,245.96L411.46,245.57L411.71,245.23L414.22,245.47L414.47,245.08L415.72,244.8L415.97,241.99L417.98,240.26L418.23,241.27L420.99,239.97L421.24,239.29L422.25,240.48L422.5,240.41L423,240.16L423.25,239.95L425.51,236.15L425.76,232.94L426.01,233.84L426.26,230.56L426.76,229.04L427.01,230.29L427.26,232.4L427.51,232.68L427.77,229.07L428.52,231.09L428.77,230.3L429.02,229.89L429.27,229.64L429.52,227.22L429.77,226.7L430.27,227.27L430.53,228.6L431.28,226.95L431.53,229.03L431.78,230.98L432.28,230.53L432.53,229.67L433.03,231.05L433.29,229.84L433.54,230.12L433.79,229.27L434.04,228.94L434.29,227.14L435.79,223.89L436.05,221.49L437.3,210.31L437.55,217.45L437.8,212.68L438.05,214.42L438.3,218.87L438.55,219.78L438.8,218.93L439.06,214.41L439.56,218.24L439.81,217.35L440.06,216.4L440.56,212.03L440.81,213.65L441.06,216.76L441.31,214.98L441.56,216.63L441.82,221.05L442.07,218.57L442.32,224.09L442.57,223.24L442.82,219.46L443.32,219.06L443.82,220.72L444.07,222.44L445.58,223.92L445.83,223.58L447.34,215.02L447.59,216.3L448.09,214.39L448.34,214.8L448.59,216.78L448.84,216.12L449.09,216.67L449.34,218.56L449.59,221.85L450.09,220.59L450.35,221.15L450.6,220.71L450.85,218.48L451.6,221.54L451.85,220.46L452.35,221.51L452.6,220.61L452.85,221.33L453.36,223.96L453.86,223.49L454.11,222.99L454.61,219.62L455.11,219.81L455.36,220.68L455.61,220.04L456.12,220.75L456.37,221.6L457.62,220.7L457.87,220.97L459.38,221.78L459.63,223.11L460.38,229.38L460.63,228.86L460.88,228.88L461.13,229.43L461.38,228.7L461.64,228.5L461.89,228.31L462.14,228.83L462.39,229.04L462.89,229.89L463.14,228.88L463.39,228.95L463.64,227.52L463.89,227.56L464.14,228.59L465.15,229.04L465.4,229.66L466.65,228.89L466.9,229.54L467.41,231.81L467.66,227.27L468.16,223.8L468.66,224.28L468.91,225.14L469.92,225.03L470.17,224.34L470.92,224.9L471.17,226.71L471.42,226.67L471.67,225.73L472.67,227.08L472.93,227.92L473.43,227.59L473.68,228.64L474.43,231.23L474.68,232.58L474.93,232.19L475.18,233.55L476.44,230.77L476.69,231.52L476.94,232.08L477.69,232.75L477.94,231.99L478.7,231.54L478.95,232.17L480.2,233.25L480.45,233.14L480.95,235.13L481.21,232.66L481.96,232.99L482.21,231.74L483.21,232.8L483.46,232.6L484.22,232.59L484.47,232.98L484.72,232.95L484.97,233.79L486.22,229.2L486.47,229.53L486.72,230.31L487.48,229.09L487.73,229.28L488.73,226.22L488.98,226.17L490.24,228.26L490.49,228.11L490.74,228.41L490.99,227.52L491.99,223.96L492.24,224.58L492.5,224.42L493.25,225.24L493.5,223.56L495.76,220.84L496.01,222.48L496.26,222.31L496.51,223.26L496.76,221.5L497.01,223.48L497.26,223.58L498.01,222.35L498.27,223.41L499.52,227.51L499.77,227.65L500.77,225.64L501.03,225.47L502.28,230.19L502.53,241.64L502.78,239.33L503.28,239.99L503.53,241.47L504.04,240.59L504.29,236.88L504.79,236.91L505.04,238.29L505.54,234.77L506.04,234.84L506.29,235.8L506.8,237.93L507.05,235.95L507.55,235.27L507.8,234.54L508.55,234.55L508.8,232.68L510.56,234.34L510.81,234.35L511.06,235.13L511.31,233.28L511.81,232.73L512.06,233L512.32,234.19L512.57,234.2L512.82,233.28L514.07,230.64L514.32,230.59L515.33,225.99L515.58,226.35L516.08,225.93L516.33,224.9L516.58,222.24L517.08,223.63L517.33,226.89L517.58,227.5L517.83,226.71L518.09,224.89L518.34,223.09L518.84,224.48L519.09,223.33L519.59,223.11L519.84,223.91L520.85,226.76L521.1,226.31L521.35,226.59L521.6,225.24L522.35,223.22L522.6,224.15L522.85,221.4L523.35,223.39L523.61,222.83L524.11,223.4L524.36,222.99L524.61,222.94L525.11,222.56L525.36,224.69L526.37,224.19L526.62,223.85L527.87,224.76L528.12,223.42L528.37,223.49L528.62,224.72L529.38,225.77L529.63,225.39L529.88,225.2L531.38,225.66L531.63,224.48L532.64,224.86L532.89,225.01L533.89,225.2L534.14,225.43L535.4,224.49L535.65,223.9L536.4,223.31L536.65,222.42L537.66,217.72L537.91,216.9L538.16,215.2L538.41,217.95L538.66,217.2L538.91,217.36L539.16,215.25L540.41,214.74L540.67,216.56L542.17,213.27L542.42,214.3L543.17,215.85L543.43,215.5L543.68,215.57L543.93,215.14L544.18,216.73L545.43,215.39L545.68,215.51L545.93,214.38L546.19,216.55L546.44,221.1L546.69,220.06L546.94,221.39L547.19,220.96L547.44,220.61L547.69,221.54L548.19,220.64L548.44,220.49L548.69,220.33L548.95,220.79L549.2,219.4L550.45,217.79L550.7,218.4L551.45,221.17L551.7,219.15L552.71,219.24L552.96,218.75L553.96,219.85L554.21,219.39L554.46,218.92L554.72,219.63L554.97,219.41L555.22,218.46L555.97,216.66L556.72,216.49L557.98,215.27L558.23,214.59L559.23,209.95L559.48,210.25L559.73,210.08L559.98,207.82L560.24,209.31L560.74,208.24L560.99,207.33L561.49,208.23L561.74,206.67L561.99,205.95L562.24,200.32L562.49,200.38L562.74,203.23L564,197.61L564.25,197.45L564.75,198.86L565,195.9L566.26,188.4L566.51,189.46L566.76,189.48L567.01,186.59L567.26,188.05L567.51,194.21L567.76,194.37L568.01,192L568.51,184.57L569.02,186.22L569.27,185.27L569.52,188.17L570.02,185.66L570.27,186.26L571.27,190.67L571.53,187.77L572.28,185.38L572.53,178.01L573.28,168.04L573.53,169.57L573.78,172.19L575.54,155.52L575.79,154.44L578.3,102.12L578.55,104.24L578.8,111.63L579.3,128.89L579.55,115.68L579.8,108.39L580.56,121.62L580.81,118.35L581.06,120.53L581.31,122.56L581.56,140.95L581.81,132.46L582.31,135.25L582.56,134.95L582.82,134.16L583.07,142.48L583.57,127.36L584.07,132.04L584.32,130.39L585.57,108.08L585.83,109.5L586.83,74.43L587.08,76L587.33,77.56L587.58,71.28L587.83,74.29L588.08,69.4L588.33,57.92L588.59,59.74L588.84,43.36L589.09,42.53L589.34,36.92L590.59,80.54L590.84,81.13L591.09,85.22L591.35,67.72L591.6,72.6L591.85,64.19L592.1,71.89L592.35,70.46L592.6,70.52L592.85,61.59L593.85,35.89L594.11,37.73L594.36,22.5L594.86,43.28L595.11,39.79L595.36,31.74L597.37,59.65L597.62,46.28L599.37,29.74L599.62,36.67L600.13,31.01L600.38,34.38L600.63,42.73L601.63,26.54L601.88,27.76L602.13,13.7L602.64,14.44L602.89,21.22L603.14,24.68L603.39,42.08L603.64,43.99L603.89,41.08L604.14,51.07L605.14,70.16L605.4,50.62L605.65,46.68L605.9,47.5L606.15,52.44L606.65,35.8L606.9,40.46L607.15,38.25L607.4,53.3L607.65,37.37L607.9,41.38L608.15,37.64L608.41,32L608.66,34.23L608.91,43.47L609.16,40.18L609.41,69.59L609.91,66.75L610.16,78.9L610.41,80.09L610.66,91.45L610.91,93.9L611.17,116.9L611.42,102.18L611.92,114.82L612.17,125.59L612.92,107.98L613.17,111.31L613.67,126.19L613.93,122.06L614.18,115.61L614.43,118.14L614.68,114.67L614.93,108.31L616.18,130.65L616.43,115.57L617.19,122.55L617.44,108.74L617.94,103.64L618.19,111.66L618.44,112.81L618.69,121.63L618.94,122.3L619.19,121.98L619.44,137.64L620.2,126.01L620.45,137.79L620.7,135.65L620.95,126.06L621.2,126.9L621.45,121.32L621.95,130.26L622.2,128.99L622.46,125.99L622.71,123.58L622.96,129.58L623.21,127.68L623.46,129.15L623.71,132.96L624.46,127.66L624.71,131.88L625.72,138.63L625.97,138.2L626.22,137.17L626.72,144.92L626.97,135.95L627.22,135.16L627.47,130.22L628.23,115.59L628.48,107.54L629.23,96.52L629.48,98.89L629.73,105.32L630.23,112.42L630.48,106.21L631.74,80.44L631.99,83.48L632.24,83.44L632.49,87.98L632.74,74.88L633.75,86.94L634,86.53L634.25,79.07L634.5,68.86L635,69.73\" style=\"vector-effect: non-scaling-stroke; fill: none; stroke: rgb(31, 119, 180); stroke-opacity: 1; stroke-width: 2px; opacity: 1;\"/></g><g class=\"points\"/><g class=\"text\"/></g></g></g><g class=\"overplot\"/><path class=\"xlines-above crisp\" d=\"M0,0\" style=\"fill: none;\"/><path class=\"ylines-above crisp\" d=\"M0,0\" style=\"fill: none;\"/><g class=\"overlines-above\"/><g class=\"xaxislayer-above\"><g class=\"xtick\"><text text-anchor=\"middle\" x=\"0\" y=\"333\" transform=\"translate(61.59,0)\" style=\"font-family: 'Open Sans', verdana, arial, sans-serif; font-size: 12px; fill: rgb(42, 63, 95); fill-opacity: 1; white-space: pre; opacity: 1;\">2015</text></g><g class=\"xtick\"><text text-anchor=\"middle\" x=\"0\" y=\"333\" style=\"font-family: 'Open Sans', verdana, arial, sans-serif; font-size: 12px; fill: rgb(42, 63, 95); fill-opacity: 1; white-space: pre; opacity: 1;\" transform=\"translate(153.17000000000002,0)\">2016</text></g><g class=\"xtick\"><text text-anchor=\"middle\" x=\"0\" y=\"333\" style=\"font-family: 'Open Sans', verdana, arial, sans-serif; font-size: 12px; fill: rgb(42, 63, 95); fill-opacity: 1; white-space: pre; opacity: 1;\" transform=\"translate(244.99,0)\">2017</text></g><g class=\"xtick\"><text text-anchor=\"middle\" x=\"0\" y=\"333\" style=\"font-family: 'Open Sans', verdana, arial, sans-serif; font-size: 12px; fill: rgb(42, 63, 95); fill-opacity: 1; white-space: pre; opacity: 1;\" transform=\"translate(336.57,0)\">2018</text></g><g class=\"xtick\"><text text-anchor=\"middle\" x=\"0\" y=\"333\" style=\"font-family: 'Open Sans', verdana, arial, sans-serif; font-size: 12px; fill: rgb(42, 63, 95); fill-opacity: 1; white-space: pre; opacity: 1;\" transform=\"translate(428.14,0)\">2019</text></g><g class=\"xtick\"><text text-anchor=\"middle\" x=\"0\" y=\"333\" style=\"font-family: 'Open Sans', verdana, arial, sans-serif; font-size: 12px; fill: rgb(42, 63, 95); fill-opacity: 1; white-space: pre; opacity: 1;\" transform=\"translate(519.72,0)\">2020</text></g><g class=\"xtick\"><text text-anchor=\"middle\" x=\"0\" y=\"333\" style=\"font-family: 'Open Sans', verdana, arial, sans-serif; font-size: 12px; fill: rgb(42, 63, 95); fill-opacity: 1; white-space: pre; opacity: 1;\" transform=\"translate(611.54,0)\">2021</text></g></g><g class=\"yaxislayer-above\"><g class=\"ytick\"><text text-anchor=\"end\" x=\"34\" y=\"4.199999999999999\" transform=\"translate(0,306.99)\" style=\"font-family: 'Open Sans', verdana, arial, sans-serif; font-size: 12px; fill: rgb(42, 63, 95); fill-opacity: 1; white-space: pre; opacity: 1;\">0</text></g><g class=\"ytick\"><text text-anchor=\"end\" x=\"34\" y=\"4.199999999999999\" style=\"font-family: 'Open Sans', verdana, arial, sans-serif; font-size: 12px; fill: rgb(42, 63, 95); fill-opacity: 1; white-space: pre; opacity: 1;\" transform=\"translate(0,268.05)\">10k</text></g><g class=\"ytick\"><text text-anchor=\"end\" x=\"34\" y=\"4.199999999999999\" style=\"font-family: 'Open Sans', verdana, arial, sans-serif; font-size: 12px; fill: rgb(42, 63, 95); fill-opacity: 1; white-space: pre; opacity: 1;\" transform=\"translate(0,229.11)\">20k</text></g><g class=\"ytick\"><text text-anchor=\"end\" x=\"34\" y=\"4.199999999999999\" style=\"font-family: 'Open Sans', verdana, arial, sans-serif; font-size: 12px; fill: rgb(42, 63, 95); fill-opacity: 1; white-space: pre; opacity: 1;\" transform=\"translate(0,190.17)\">30k</text></g><g class=\"ytick\"><text text-anchor=\"end\" x=\"34\" y=\"4.199999999999999\" style=\"font-family: 'Open Sans', verdana, arial, sans-serif; font-size: 12px; fill: rgb(42, 63, 95); fill-opacity: 1; white-space: pre; opacity: 1;\" transform=\"translate(0,151.23000000000002)\">40k</text></g><g class=\"ytick\"><text text-anchor=\"end\" x=\"34\" y=\"4.199999999999999\" style=\"font-family: 'Open Sans', verdana, arial, sans-serif; font-size: 12px; fill: rgb(42, 63, 95); fill-opacity: 1; white-space: pre; opacity: 1;\" transform=\"translate(0,112.28)\">50k</text></g><g class=\"ytick\"><text text-anchor=\"end\" x=\"34\" y=\"4.199999999999999\" style=\"font-family: 'Open Sans', verdana, arial, sans-serif; font-size: 12px; fill: rgb(42, 63, 95); fill-opacity: 1; white-space: pre; opacity: 1;\" transform=\"translate(0,73.34)\">60k</text></g></g><g class=\"overaxes-above\"/></g></g><g class=\"polarlayer\"/><g class=\"ternarylayer\"/><g class=\"geolayer\"/><g class=\"funnelarealayer\"/><g class=\"pielayer\"/><g class=\"iciclelayer\"/><g class=\"treemaplayer\"/><g class=\"sunburstlayer\"/><g class=\"glimages\"/><defs id=\"topdefs-f1e675\"><g class=\"clips\"/><clipPath id=\"legendf1e675\"><rect width=\"78\" height=\"29\" x=\"0\" y=\"0\"/></clipPath></defs><g class=\"layer-above\"><g class=\"imagelayer\"/><g class=\"shapelayer\"/></g><g class=\"infolayer\"><g class=\"legend\" pointer-events=\"all\" transform=\"translate(592,11.519999999999996)\"><rect class=\"bg\" shape-rendering=\"crispEdges\" style=\"stroke: rgb(68, 68, 68); stroke-opacity: 1; fill: rgb(255, 255, 255); fill-opacity: 1; stroke-width: 0px;\" width=\"78\" height=\"29\" x=\"0\" y=\"0\"/><g class=\"scrollbox\" transform=\"\" clip-path=\"url(#legendf1e675)\"><g class=\"groups\"><g class=\"traces\" transform=\"translate(0,14.5)\" style=\"opacity: 1;\"><text class=\"legendtext\" text-anchor=\"start\" x=\"40\" y=\"4.680000000000001\" style=\"font-family: 'Open Sans', verdana, arial, sans-serif; font-size: 12px; fill: rgb(42, 63, 95); fill-opacity: 1; white-space: pre;\">Close</text><g class=\"layers\" style=\"opacity: 1;\"><g class=\"legendfill\"/><g class=\"legendlines\"><path class=\"js-line\" d=\"M5,0h30\" style=\"fill: none; stroke: rgb(31, 119, 180); stroke-opacity: 1; stroke-width: 2px;\"/></g><g class=\"legendsymbols\"><g class=\"legendpoints\"/></g></g><rect class=\"legendtoggle\" x=\"0\" y=\"-9.5\" width=\"74.859375\" height=\"19\" style=\"fill: rgb(0, 0, 0); fill-opacity: 0;\"/></g></g></g><rect class=\"scrollbar\" rx=\"20\" ry=\"3\" width=\"0\" height=\"0\" style=\"fill: rgb(128, 139, 164); fill-opacity: 1;\" x=\"0\" y=\"0\"/></g><g class=\"g-gtitle\"/><g class=\"g-xtitle\"/><g class=\"g-ytitle\"/></g></svg>"
      ]
     },
     "metadata": {},
     "output_type": "display_data"
    }
   ],
   "source": [
    "price.vbt.plot().show_svg()"
   ]
  },
  {
   "cell_type": "code",
   "execution_count": 6,
   "metadata": {},
   "outputs": [],
   "source": [
    "def roll_in_and_out_samples(price, **kwargs):\n",
    "    return price.vbt.rolling_split(**kwargs)"
   ]
  },
  {
   "cell_type": "code",
   "execution_count": 7,
   "metadata": {},
   "outputs": [
    {
     "data": {
      "image/svg+xml": [
       "<svg class=\"main-svg\" xmlns=\"http://www.w3.org/2000/svg\" xmlns:xlink=\"http://www.w3.org/1999/xlink\" width=\"700\" height=\"216\" style=\"\" viewBox=\"0 0 700 216\"><rect x=\"0\" y=\"0\" width=\"700\" height=\"216\" style=\"fill: rgb(255, 255, 255); fill-opacity: 1;\"/><defs id=\"defs-9df433\"><g class=\"clips\"><clipPath id=\"clip9df433xyplot\" class=\"plotclip\"><rect width=\"640\" height=\"142\"/></clipPath><clipPath class=\"axesclip\" id=\"clip9df433x\"><rect x=\"30\" y=\"0\" width=\"640\" height=\"216\"/></clipPath><clipPath class=\"axesclip\" id=\"clip9df433y\"><rect x=\"0\" y=\"44\" width=\"700\" height=\"142\"/></clipPath><clipPath class=\"axesclip\" id=\"clip9df433xy\"><rect x=\"30\" y=\"44\" width=\"640\" height=\"142\"/></clipPath></g><g class=\"gradients\"><linearGradient x1=\"1\" x2=\"0\" y1=\"0\" y2=\"0\" id=\"g9df433-legendfill-492db7f0-70e6-4b8c-aac8-1c5899e71ed0\"><stop offset=\"0%\" stop-color=\"rgb(31, 119, 180)\" stop-opacity=\"1\"/><stop offset=\"100%\" stop-color=\"rgb(31, 119, 180)\" stop-opacity=\"1\"/></linearGradient><linearGradient x1=\"1\" x2=\"0\" y1=\"0\" y2=\"0\" id=\"g9df433-legendfill-0d5f6b8d-64a0-485a-9f40-48e88c526e06\"><stop offset=\"0%\" stop-color=\"rgb(255, 127, 14)\" stop-opacity=\"1\"/><stop offset=\"100%\" stop-color=\"rgb(255, 127, 14)\" stop-opacity=\"1\"/></linearGradient></g><g class=\"patterns\"/></defs><g class=\"bglayer\"><rect class=\"bg\" x=\"30\" y=\"44\" width=\"640\" height=\"142\" style=\"fill: rgb(229, 236, 246); fill-opacity: 1; stroke-width: 0;\"/></g><g class=\"layer-below\"><g class=\"imagelayer\"/><g class=\"shapelayer\"/></g><g class=\"cartesianlayer\"><g class=\"subplot xy\"><g class=\"layer-subplot\"><g class=\"shapelayer\"/><g class=\"imagelayer\"/></g><g class=\"gridlayer\"><g class=\"x\"><path class=\"xgrid crisp\" transform=\"translate(56.92,0)\" d=\"M0,44v142\" style=\"stroke: rgb(255, 255, 255); stroke-opacity: 1; stroke-width: 1px;\"/><path class=\"xgrid crisp\" transform=\"translate(149.18,0)\" d=\"M0,44v142\" style=\"stroke: rgb(255, 255, 255); stroke-opacity: 1; stroke-width: 1px;\"/><path class=\"xgrid crisp\" transform=\"translate(241.69,0)\" d=\"M0,44v142\" style=\"stroke: rgb(255, 255, 255); stroke-opacity: 1; stroke-width: 1px;\"/><path class=\"xgrid crisp\" transform=\"translate(333.95,0)\" d=\"M0,44v142\" style=\"stroke: rgb(255, 255, 255); stroke-opacity: 1; stroke-width: 1px;\"/><path class=\"xgrid crisp\" transform=\"translate(426.21,0)\" d=\"M0,44v142\" style=\"stroke: rgb(255, 255, 255); stroke-opacity: 1; stroke-width: 1px;\"/><path class=\"xgrid crisp\" transform=\"translate(518.47,0)\" d=\"M0,44v142\" style=\"stroke: rgb(255, 255, 255); stroke-opacity: 1; stroke-width: 1px;\"/><path class=\"xgrid crisp\" transform=\"translate(610.98,0)\" d=\"M0,44v142\" style=\"stroke: rgb(255, 255, 255); stroke-opacity: 1; stroke-width: 1px;\"/></g><g class=\"y\"><path class=\"ygrid crisp\" transform=\"translate(0,183.63)\" d=\"M30,0h640\" style=\"stroke: rgb(255, 255, 255); stroke-opacity: 1; stroke-width: 1px;\"/><path class=\"ygrid crisp\" transform=\"translate(0,169.43)\" d=\"M30,0h640\" style=\"stroke: rgb(255, 255, 255); stroke-opacity: 1; stroke-width: 1px;\"/><path class=\"ygrid crisp\" transform=\"translate(0,155.23000000000002)\" d=\"M30,0h640\" style=\"stroke: rgb(255, 255, 255); stroke-opacity: 1; stroke-width: 1px;\"/><path class=\"ygrid crisp\" transform=\"translate(0,141.03)\" d=\"M30,0h640\" style=\"stroke: rgb(255, 255, 255); stroke-opacity: 1; stroke-width: 1px;\"/><path class=\"ygrid crisp\" transform=\"translate(0,126.83)\" d=\"M30,0h640\" style=\"stroke: rgb(255, 255, 255); stroke-opacity: 1; stroke-width: 1px;\"/><path class=\"ygrid crisp\" transform=\"translate(0,112.63)\" d=\"M30,0h640\" style=\"stroke: rgb(255, 255, 255); stroke-opacity: 1; stroke-width: 1px;\"/><path class=\"ygrid crisp\" transform=\"translate(0,98.43)\" d=\"M30,0h640\" style=\"stroke: rgb(255, 255, 255); stroke-opacity: 1; stroke-width: 1px;\"/><path class=\"ygrid crisp\" transform=\"translate(0,84.22999999999999)\" d=\"M30,0h640\" style=\"stroke: rgb(255, 255, 255); stroke-opacity: 1; stroke-width: 1px;\"/><path class=\"ygrid crisp\" transform=\"translate(0,70.03)\" d=\"M30,0h640\" style=\"stroke: rgb(255, 255, 255); stroke-opacity: 1; stroke-width: 1px;\"/><path class=\"ygrid crisp\" transform=\"translate(0,55.83)\" d=\"M30,0h640\" style=\"stroke: rgb(255, 255, 255); stroke-opacity: 1; stroke-width: 1px;\"/></g></g><g class=\"zerolinelayer\"/><path class=\"xlines-below\"/><path class=\"ylines-below\"/><g class=\"overlines-below\"/><g class=\"xaxislayer-below\"/><g class=\"yaxislayer-below\"/><g class=\"overaxes-below\"/><g class=\"plot\" transform=\"translate(30,44)\" clip-path=\"url(#clip9df433xyplot)\"><g class=\"heatmaplayer mlayer\"><g class=\"hm\"><image xmlns=\"http://www.w3.org/2000/svg\" preserveAspectRatio=\"none\" height=\"142\" width=\"640\" x=\"0\" y=\"0\" xlink:href=\"data:image/png;base64,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\" style=\"opacity: 1;\"/></g><g class=\"hm\"><image xmlns=\"http://www.w3.org/2000/svg\" preserveAspectRatio=\"none\" height=\"142\" width=\"640\" x=\"0\" y=\"0\" xlink:href=\"data:image/png;base64,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\" style=\"opacity: 1;\"/></g></g></g><g class=\"overplot\"/><path class=\"xlines-above crisp\" d=\"M0,0\" style=\"fill: none;\"/><path class=\"ylines-above crisp\" d=\"M0,0\" style=\"fill: none;\"/><g class=\"overlines-above\"/><g class=\"xaxislayer-above\"><g class=\"xtick\"><text text-anchor=\"middle\" x=\"0\" y=\"199\" transform=\"translate(56.92,0)\" style=\"font-family: 'Open Sans', verdana, arial, sans-serif; font-size: 12px; fill: rgb(42, 63, 95); fill-opacity: 1; white-space: pre; opacity: 1;\">2015</text></g><g class=\"xtick\"><text text-anchor=\"middle\" x=\"0\" y=\"199\" style=\"font-family: 'Open Sans', verdana, arial, sans-serif; font-size: 12px; fill: rgb(42, 63, 95); fill-opacity: 1; white-space: pre; opacity: 1;\" transform=\"translate(149.18,0)\">2016</text></g><g class=\"xtick\"><text text-anchor=\"middle\" x=\"0\" y=\"199\" style=\"font-family: 'Open Sans', verdana, arial, sans-serif; font-size: 12px; fill: rgb(42, 63, 95); fill-opacity: 1; white-space: pre; opacity: 1;\" transform=\"translate(241.69,0)\">2017</text></g><g class=\"xtick\"><text text-anchor=\"middle\" x=\"0\" y=\"199\" style=\"font-family: 'Open Sans', verdana, arial, sans-serif; font-size: 12px; fill: rgb(42, 63, 95); fill-opacity: 1; white-space: pre; opacity: 1;\" transform=\"translate(333.95,0)\">2018</text></g><g class=\"xtick\"><text text-anchor=\"middle\" x=\"0\" y=\"199\" style=\"font-family: 'Open Sans', verdana, arial, sans-serif; font-size: 12px; fill: rgb(42, 63, 95); fill-opacity: 1; white-space: pre; opacity: 1;\" transform=\"translate(426.21,0)\">2019</text></g><g class=\"xtick\"><text text-anchor=\"middle\" x=\"0\" y=\"199\" style=\"font-family: 'Open Sans', verdana, arial, sans-serif; font-size: 12px; fill: rgb(42, 63, 95); fill-opacity: 1; white-space: pre; opacity: 1;\" transform=\"translate(518.47,0)\">2020</text></g><g class=\"xtick\"><text text-anchor=\"middle\" x=\"0\" y=\"199\" style=\"font-family: 'Open Sans', verdana, arial, sans-serif; font-size: 12px; fill: rgb(42, 63, 95); fill-opacity: 1; white-space: pre; opacity: 1;\" transform=\"translate(610.98,0)\">2021</text></g></g><g class=\"yaxislayer-above\"><g class=\"ytick\"><text text-anchor=\"end\" x=\"29\" y=\"4.199999999999999\" transform=\"translate(0,183.63)\" style=\"font-family: 'Open Sans', verdana, arial, sans-serif; font-size: 12px; fill: rgb(42, 63, 95); fill-opacity: 1; white-space: pre; opacity: 1;\">29</text></g><g class=\"ytick\"><text text-anchor=\"end\" x=\"29\" y=\"4.199999999999999\" transform=\"translate(0,169.43)\" style=\"font-family: 'Open Sans', verdana, arial, sans-serif; font-size: 12px; fill: rgb(42, 63, 95); fill-opacity: 1; white-space: pre; opacity: 1;\">26</text></g><g class=\"ytick\"><text text-anchor=\"end\" x=\"29\" y=\"4.199999999999999\" transform=\"translate(0,155.23000000000002)\" style=\"font-family: 'Open Sans', verdana, arial, sans-serif; font-size: 12px; fill: rgb(42, 63, 95); fill-opacity: 1; white-space: pre; opacity: 1;\">23</text></g><g class=\"ytick\"><text text-anchor=\"end\" x=\"29\" y=\"4.199999999999999\" transform=\"translate(0,141.03)\" style=\"font-family: 'Open Sans', verdana, arial, sans-serif; font-size: 12px; fill: rgb(42, 63, 95); fill-opacity: 1; white-space: pre; opacity: 1;\">20</text></g><g class=\"ytick\"><text text-anchor=\"end\" x=\"29\" y=\"4.199999999999999\" transform=\"translate(0,126.83)\" style=\"font-family: 'Open Sans', verdana, arial, sans-serif; font-size: 12px; fill: rgb(42, 63, 95); fill-opacity: 1; white-space: pre; opacity: 1;\">17</text></g><g class=\"ytick\"><text text-anchor=\"end\" x=\"29\" y=\"4.199999999999999\" transform=\"translate(0,112.63)\" style=\"font-family: 'Open Sans', verdana, arial, sans-serif; font-size: 12px; fill: rgb(42, 63, 95); fill-opacity: 1; white-space: pre; opacity: 1;\">14</text></g><g class=\"ytick\"><text text-anchor=\"end\" x=\"29\" y=\"4.199999999999999\" transform=\"translate(0,98.43)\" style=\"font-family: 'Open Sans', verdana, arial, sans-serif; font-size: 12px; fill: rgb(42, 63, 95); fill-opacity: 1; white-space: pre; opacity: 1;\">11</text></g><g class=\"ytick\"><text text-anchor=\"end\" x=\"29\" y=\"4.199999999999999\" transform=\"translate(0,84.22999999999999)\" style=\"font-family: 'Open Sans', verdana, arial, sans-serif; font-size: 12px; fill: rgb(42, 63, 95); fill-opacity: 1; white-space: pre; opacity: 1;\">8</text></g><g class=\"ytick\"><text text-anchor=\"end\" x=\"29\" y=\"4.199999999999999\" transform=\"translate(0,70.03)\" style=\"font-family: 'Open Sans', verdana, arial, sans-serif; font-size: 12px; fill: rgb(42, 63, 95); fill-opacity: 1; white-space: pre; opacity: 1;\">5</text></g><g class=\"ytick\"><text text-anchor=\"end\" x=\"29\" y=\"4.199999999999999\" transform=\"translate(0,55.83)\" style=\"font-family: 'Open Sans', verdana, arial, sans-serif; font-size: 12px; fill: rgb(42, 63, 95); fill-opacity: 1; white-space: pre; opacity: 1;\">2</text></g></g><g class=\"overaxes-above\"/></g></g><g class=\"polarlayer\"/><g class=\"ternarylayer\"/><g class=\"geolayer\"/><g class=\"funnelarealayer\"/><g class=\"pielayer\"/><g class=\"iciclelayer\"/><g class=\"treemaplayer\"/><g class=\"sunburstlayer\"/><g class=\"glimages\"/><defs id=\"topdefs-9df433\"><g class=\"clips\"/><clipPath id=\"legend9df433\"><rect width=\"218\" height=\"29\" x=\"0\" y=\"0\"/></clipPath></defs><g class=\"layer-above\"><g class=\"imagelayer\"/><g class=\"shapelayer\"/></g><g class=\"infolayer\"><g class=\"legend\" pointer-events=\"all\" transform=\"translate(452,12.159999999999997)\"><rect class=\"bg\" shape-rendering=\"crispEdges\" style=\"stroke: rgb(68, 68, 68); stroke-opacity: 1; fill: rgb(255, 255, 255); fill-opacity: 1; stroke-width: 0px;\" width=\"218\" height=\"29\" x=\"0\" y=\"0\"/><g class=\"scrollbox\" transform=\"\" clip-path=\"url(#legend9df433)\"><g class=\"groups\"><g class=\"traces\" transform=\"translate(0,14.5)\" style=\"opacity: 1;\"><text class=\"legendtext\" text-anchor=\"start\" x=\"40\" y=\"4.680000000000001\" style=\"font-family: 'Open Sans', verdana, arial, sans-serif; font-size: 12px; fill: rgb(42, 63, 95); fill-opacity: 1; white-space: pre;\">in-sample</text><g class=\"layers\" style=\"opacity: 1;\"><g class=\"legendfill\"/><g class=\"legendlines\"/><g class=\"legendsymbols\"><g class=\"legendpoints\"><path class=\"legend3dandfriends\" transform=\"translate(20,0)\" d=\"M-15,-2V4H15V-2Z\" style=\"stroke-miterlimit: 1; fill: url('#g9df433-legendfill-492db7f0-70e6-4b8c-aac8-1c5899e71ed0');\"/></g></g></g><rect class=\"legendtoggle\" x=\"0\" y=\"-9.5\" width=\"101.890625\" height=\"19\" style=\"fill: rgb(0, 0, 0); fill-opacity: 0;\"/></g><g class=\"traces\" transform=\"translate(104.390625,14.5)\" style=\"opacity: 1;\"><text class=\"legendtext\" text-anchor=\"start\" x=\"40\" y=\"4.680000000000001\" style=\"font-family: 'Open Sans', verdana, arial, sans-serif; font-size: 12px; fill: rgb(42, 63, 95); fill-opacity: 1; white-space: pre;\">out-sample</text><g class=\"layers\" style=\"opacity: 1;\"><g class=\"legendfill\"/><g class=\"legendlines\"/><g class=\"legendsymbols\"><g class=\"legendpoints\"><path class=\"legend3dandfriends\" transform=\"translate(20,0)\" d=\"M-15,-2V4H15V-2Z\" style=\"stroke-miterlimit: 1; fill: url('#g9df433-legendfill-0d5f6b8d-64a0-485a-9f40-48e88c526e06');\"/></g></g></g><rect class=\"legendtoggle\" x=\"0\" y=\"-9.5\" width=\"110.609375\" height=\"19\" style=\"fill: rgb(0, 0, 0); fill-opacity: 0;\"/></g></g></g><rect class=\"scrollbar\" rx=\"20\" ry=\"3\" width=\"0\" height=\"0\" style=\"fill: rgb(128, 139, 164); fill-opacity: 1;\" x=\"0\" y=\"0\"/></g><g class=\"g-gtitle\"/><g class=\"g-xtitle\"/><g class=\"g-ytitle\"/></g></svg>"
      ]
     },
     "metadata": {},
     "output_type": "display_data"
    }
   ],
   "source": [
    "roll_in_and_out_samples(price, **split_kwargs, plot=True, trace_names=['in-sample', 'out-sample']).show_svg()"
   ]
  },
  {
   "cell_type": "code",
   "execution_count": 8,
   "metadata": {},
   "outputs": [
    {
     "name": "stdout",
     "output_type": "stream",
     "text": [
      "(550, 30) 30\n",
      "(180, 30) 30\n"
     ]
    }
   ],
   "source": [
    "(in_price, in_indexes), (out_price, out_indexes) = roll_in_and_out_samples(price, **split_kwargs)\n",
    "\n",
    "print(in_price.shape, len(in_indexes))  # in-sample\n",
    "print(out_price.shape, len(out_indexes))  # out-sample"
   ]
  },
  {
   "cell_type": "code",
   "execution_count": 9,
   "metadata": {},
   "outputs": [],
   "source": [
    "def simulate_holding(price, **kwargs):\n",
    "    pf = vbt.Portfolio.from_holding(price, **kwargs)\n",
    "    return pf.sharpe_ratio()"
   ]
  },
  {
   "cell_type": "code",
   "execution_count": 10,
   "metadata": {},
   "outputs": [
    {
     "name": "stdout",
     "output_type": "stream",
     "text": [
      "split_idx\n",
      "0     0.229171\n",
      "1     0.493885\n",
      "2     1.576114\n",
      "3     1.255349\n",
      "4     1.697116\n",
      "5     1.646392\n",
      "6     1.921498\n",
      "7     2.413538\n",
      "8     2.419219\n",
      "9     2.524214\n",
      "10    3.020101\n",
      "11    2.557711\n",
      "12    2.229016\n",
      "13    2.103502\n",
      "14    1.852735\n",
      "15    1.727573\n",
      "16    0.652773\n",
      "17    0.485918\n",
      "18    0.546310\n",
      "19   -0.209493\n",
      "20    0.665832\n",
      "21    0.515329\n",
      "22    0.432723\n",
      "23    0.814011\n",
      "24    0.448828\n",
      "25    1.333641\n",
      "26    1.455630\n",
      "27    1.191392\n",
      "28    1.220339\n",
      "29    1.757513\n",
      "Name: sharpe_ratio, dtype: float64\n"
     ]
    }
   ],
   "source": [
    "in_hold_sharpe = simulate_holding(in_price, **pf_kwargs)\n",
    "\n",
    "print(in_hold_sharpe)"
   ]
  },
  {
   "cell_type": "code",
   "execution_count": 11,
   "metadata": {},
   "outputs": [],
   "source": [
    "def simulate_all_params(price, windows, **kwargs):\n",
    "    fast_ma, slow_ma = vbt.MA.run_combs(price, windows, r=2, short_names=['fast', 'slow'])\n",
    "    entries = fast_ma.ma_above(slow_ma, crossover=True)\n",
    "    exits = fast_ma.ma_below(slow_ma, crossover=True)\n",
    "    pf = vbt.Portfolio.from_signals(price, entries, exits, **kwargs)\n",
    "    return pf.sharpe_ratio()"
   ]
  },
  {
   "cell_type": "code",
   "execution_count": 12,
   "metadata": {},
   "outputs": [
    {
     "name": "stdout",
     "output_type": "stream",
     "text": [
      "fast_window  slow_window  split_idx\n",
      "10           11           0            0.856870\n",
      "                          1            1.125426\n",
      "                          2            0.497444\n",
      "                          3            0.366434\n",
      "                          4            0.845251\n",
      "                                         ...   \n",
      "48           49           25          -0.066678\n",
      "                          26          -0.334809\n",
      "                          27          -1.060989\n",
      "                          28          -1.006348\n",
      "                          29          -0.608368\n",
      "Name: sharpe_ratio, Length: 23400, dtype: float64\n"
     ]
    }
   ],
   "source": [
    "# Simulate all params for in-sample ranges\n",
    "in_sharpe = simulate_all_params(in_price, windows, **pf_kwargs)\n",
    "\n",
    "print(in_sharpe)"
   ]
  },
  {
   "cell_type": "code",
   "execution_count": 13,
   "metadata": {},
   "outputs": [],
   "source": [
    "def get_best_index(performance, higher_better=True):\n",
    "    if higher_better:\n",
    "        return performance[performance.groupby('split_idx').idxmax()].index\n",
    "    return performance[performance.groupby('split_idx').idxmin()].index"
   ]
  },
  {
   "cell_type": "code",
   "execution_count": 14,
   "metadata": {},
   "outputs": [
    {
     "name": "stdout",
     "output_type": "stream",
     "text": [
      "MultiIndex([(27, 29,  0),\n",
      "            (19, 27,  1),\n",
      "            (21, 25,  2),\n",
      "            (23, 25,  3),\n",
      "            (23, 25,  4),\n",
      "            (44, 45,  5),\n",
      "            (23, 25,  6),\n",
      "            (37, 43,  7),\n",
      "            (10, 21,  8),\n",
      "            (10, 21,  9),\n",
      "            (10, 21, 10),\n",
      "            (10, 21, 11),\n",
      "            (10, 21, 12),\n",
      "            (10, 21, 13),\n",
      "            (10, 21, 14),\n",
      "            (10, 22, 15),\n",
      "            (10, 22, 16),\n",
      "            (10, 22, 17),\n",
      "            (17, 22, 18),\n",
      "            (17, 22, 19),\n",
      "            (13, 21, 20),\n",
      "            (45, 48, 21),\n",
      "            (45, 49, 22),\n",
      "            (18, 21, 23),\n",
      "            (13, 21, 24),\n",
      "            (13, 21, 25),\n",
      "            (13, 20, 26),\n",
      "            (13, 20, 27),\n",
      "            (15, 18, 28),\n",
      "            (13, 20, 29)],\n",
      "           names=['fast_window', 'slow_window', 'split_idx'])\n"
     ]
    }
   ],
   "source": [
    "in_best_index = get_best_index(in_sharpe)\n",
    "\n",
    "print(in_best_index)"
   ]
  },
  {
   "cell_type": "code",
   "execution_count": 15,
   "metadata": {},
   "outputs": [],
   "source": [
    "def get_best_params(best_index, level_name):\n",
    "    return best_index.get_level_values(level_name).to_numpy()"
   ]
  },
  {
   "cell_type": "code",
   "execution_count": 16,
   "metadata": {},
   "outputs": [
    {
     "name": "stdout",
     "output_type": "stream",
     "text": [
      "[[27 29]\n",
      " [19 27]\n",
      " [21 25]\n",
      " [23 25]\n",
      " [23 25]\n",
      " [44 45]\n",
      " [23 25]\n",
      " [37 43]\n",
      " [10 21]\n",
      " [10 21]\n",
      " [10 21]\n",
      " [10 21]\n",
      " [10 21]\n",
      " [10 21]\n",
      " [10 21]\n",
      " [10 22]\n",
      " [10 22]\n",
      " [10 22]\n",
      " [17 22]\n",
      " [17 22]\n",
      " [13 21]\n",
      " [45 48]\n",
      " [45 49]\n",
      " [18 21]\n",
      " [13 21]\n",
      " [13 21]\n",
      " [13 20]\n",
      " [13 20]\n",
      " [15 18]\n",
      " [13 20]]\n"
     ]
    }
   ],
   "source": [
    "in_best_fast_windows = get_best_params(in_best_index, 'fast_window')\n",
    "in_best_slow_windows = get_best_params(in_best_index, 'slow_window')\n",
    "in_best_window_pairs = np.array(list(zip(in_best_fast_windows, in_best_slow_windows)))\n",
    "\n",
    "print(in_best_window_pairs)"
   ]
  },
  {
   "cell_type": "code",
   "execution_count": 17,
   "metadata": {},
   "outputs": [
    {
     "data": {
      "image/svg+xml": [
       "<svg class=\"main-svg\" xmlns=\"http://www.w3.org/2000/svg\" xmlns:xlink=\"http://www.w3.org/1999/xlink\" width=\"700\" height=\"350\" style=\"\" viewBox=\"0 0 700 350\"><rect x=\"0\" y=\"0\" width=\"700\" height=\"350\" style=\"fill: rgb(255, 255, 255); fill-opacity: 1;\"/><defs id=\"defs-d4e372\"><g class=\"clips\"><clipPath id=\"clipd4e372xyplot\" class=\"plotclip\"><rect width=\"640\" height=\"274\"/></clipPath><clipPath class=\"axesclip\" id=\"clipd4e372x\"><rect x=\"30\" y=\"0\" width=\"640\" height=\"350\"/></clipPath><clipPath class=\"axesclip\" id=\"clipd4e372y\"><rect x=\"0\" y=\"46\" width=\"700\" height=\"274\"/></clipPath><clipPath class=\"axesclip\" id=\"clipd4e372xy\"><rect x=\"30\" y=\"46\" width=\"640\" height=\"274\"/></clipPath></g><g class=\"gradients\"/><g class=\"patterns\"/></defs><g class=\"bglayer\"><rect class=\"bg\" x=\"30\" y=\"46\" width=\"640\" height=\"274\" style=\"fill: rgb(229, 236, 246); fill-opacity: 1; stroke-width: 0;\"/></g><g class=\"layer-below\"><g class=\"imagelayer\"/><g class=\"shapelayer\"/></g><g class=\"cartesianlayer\"><g class=\"subplot xy\"><g class=\"layer-subplot\"><g class=\"shapelayer\"/><g class=\"imagelayer\"/></g><g class=\"gridlayer\"><g class=\"x\"><path class=\"xgrid crisp\" transform=\"translate(140.34,0)\" d=\"M0,46v274\" style=\"stroke: rgb(255, 255, 255); stroke-opacity: 1; stroke-width: 1px;\"/><path class=\"xgrid crisp\" transform=\"translate(250.69,0)\" d=\"M0,46v274\" style=\"stroke: rgb(255, 255, 255); stroke-opacity: 1; stroke-width: 1px;\"/><path class=\"xgrid crisp\" transform=\"translate(361.03,0)\" d=\"M0,46v274\" style=\"stroke: rgb(255, 255, 255); stroke-opacity: 1; stroke-width: 1px;\"/><path class=\"xgrid crisp\" transform=\"translate(471.38,0)\" d=\"M0,46v274\" style=\"stroke: rgb(255, 255, 255); stroke-opacity: 1; stroke-width: 1px;\"/><path class=\"xgrid crisp\" transform=\"translate(581.72,0)\" d=\"M0,46v274\" style=\"stroke: rgb(255, 255, 255); stroke-opacity: 1; stroke-width: 1px;\"/></g><g class=\"y\"><path class=\"ygrid crisp\" transform=\"translate(0,306.3)\" d=\"M30,0h640\" style=\"stroke: rgb(255, 255, 255); stroke-opacity: 1; stroke-width: 1px;\"/><path class=\"ygrid crisp\" transform=\"translate(0,243.07)\" d=\"M30,0h640\" style=\"stroke: rgb(255, 255, 255); stroke-opacity: 1; stroke-width: 1px;\"/><path class=\"ygrid crisp\" transform=\"translate(0,179.84)\" d=\"M30,0h640\" style=\"stroke: rgb(255, 255, 255); stroke-opacity: 1; stroke-width: 1px;\"/><path class=\"ygrid crisp\" transform=\"translate(0,116.61)\" d=\"M30,0h640\" style=\"stroke: rgb(255, 255, 255); stroke-opacity: 1; stroke-width: 1px;\"/><path class=\"ygrid crisp\" transform=\"translate(0,53.38)\" d=\"M30,0h640\" style=\"stroke: rgb(255, 255, 255); stroke-opacity: 1; stroke-width: 1px;\"/></g></g><g class=\"zerolinelayer\"><path class=\"xzl zl crisp\" transform=\"translate(30,0)\" d=\"M0,46v274\" style=\"stroke: rgb(255, 255, 255); stroke-opacity: 1; stroke-width: 2px;\"/></g><path class=\"xlines-below\"/><path class=\"ylines-below\"/><g class=\"overlines-below\"/><g class=\"xaxislayer-below\"/><g class=\"yaxislayer-below\"/><g class=\"overaxes-below\"/><g class=\"plot\" transform=\"translate(30,46)\" clip-path=\"url(#clipd4e372xyplot)\"><g class=\"scatterlayer mlayer\"><g class=\"trace scatter trace4dcc802d-d328-41a4-8a0f-3c861976a9cd\" style=\"stroke-miterlimit: 2; opacity: 1;\"><g class=\"fills\"/><g class=\"errorbars\"/><g class=\"lines\"><path class=\"js-line\" d=\"M0,152.81L22.07,203.39L44.14,190.75L66.21,178.1L88.28,178.1L110.34,45.32L132.41,178.1L154.48,89.58L176.55,260.3L375.17,260.3L397.24,216.04L419.31,216.04L441.38,241.33L463.45,38.99L485.52,38.99L507.59,209.72L529.66,241.33L595.86,241.33L617.93,228.68L640,241.33\" style=\"vector-effect: non-scaling-stroke; fill: none; stroke: rgb(31, 119, 180); stroke-opacity: 1; stroke-width: 2px; opacity: 1;\"/></g><g class=\"points\"/><g class=\"text\"/></g><g class=\"trace scatter tracef6274436-891e-4deb-a010-04a900b0069a\" style=\"stroke-miterlimit: 2; opacity: 1;\"><g class=\"fills\"/><g class=\"errorbars\"/><g class=\"lines\"><path class=\"js-line\" d=\"M0,140.16L44.14,165.45L66.21,165.45L88.28,165.45L110.34,38.99L132.41,165.45L154.48,51.64L176.55,190.75L198.62,190.75L308.97,190.75L331.03,184.42L419.31,184.42L441.38,190.75L463.45,20.02L485.52,13.7L507.59,190.75L529.66,190.75L551.72,190.75L573.79,197.07L595.86,197.07L617.93,209.72L640,197.07\" style=\"vector-effect: non-scaling-stroke; fill: none; stroke: rgb(255, 127, 14); stroke-opacity: 1; stroke-width: 2px; opacity: 1;\"/></g><g class=\"points\"/><g class=\"text\"/></g></g></g><g class=\"overplot\"/><path class=\"xlines-above crisp\" d=\"M0,0\" style=\"fill: none;\"/><path class=\"ylines-above crisp\" d=\"M0,0\" style=\"fill: none;\"/><g class=\"overlines-above\"/><g class=\"xaxislayer-above\"><g class=\"xtick\"><text text-anchor=\"middle\" x=\"0\" y=\"333\" transform=\"translate(30,0)\" style=\"font-family: 'Open Sans', verdana, arial, sans-serif; font-size: 12px; fill: rgb(42, 63, 95); fill-opacity: 1; white-space: pre; opacity: 1;\">0</text></g><g class=\"xtick\"><text text-anchor=\"middle\" x=\"0\" y=\"333\" style=\"font-family: 'Open Sans', verdana, arial, sans-serif; font-size: 12px; fill: rgb(42, 63, 95); fill-opacity: 1; white-space: pre; opacity: 1;\" transform=\"translate(140.34,0)\">5</text></g><g class=\"xtick\"><text text-anchor=\"middle\" x=\"0\" y=\"333\" style=\"font-family: 'Open Sans', verdana, arial, sans-serif; font-size: 12px; fill: rgb(42, 63, 95); fill-opacity: 1; white-space: pre; opacity: 1;\" transform=\"translate(250.69,0)\">10</text></g><g class=\"xtick\"><text text-anchor=\"middle\" x=\"0\" y=\"333\" style=\"font-family: 'Open Sans', verdana, arial, sans-serif; font-size: 12px; fill: rgb(42, 63, 95); fill-opacity: 1; white-space: pre; opacity: 1;\" transform=\"translate(361.03,0)\">15</text></g><g class=\"xtick\"><text text-anchor=\"middle\" x=\"0\" y=\"333\" style=\"font-family: 'Open Sans', verdana, arial, sans-serif; font-size: 12px; fill: rgb(42, 63, 95); fill-opacity: 1; white-space: pre; opacity: 1;\" transform=\"translate(471.38,0)\">20</text></g><g class=\"xtick\"><text text-anchor=\"middle\" x=\"0\" y=\"333\" style=\"font-family: 'Open Sans', verdana, arial, sans-serif; font-size: 12px; fill: rgb(42, 63, 95); fill-opacity: 1; white-space: pre; opacity: 1;\" transform=\"translate(581.72,0)\">25</text></g></g><g class=\"yaxislayer-above\"><g class=\"ytick\"><text text-anchor=\"end\" x=\"29\" y=\"4.199999999999999\" transform=\"translate(0,306.3)\" style=\"font-family: 'Open Sans', verdana, arial, sans-serif; font-size: 12px; fill: rgb(42, 63, 95); fill-opacity: 1; white-space: pre; opacity: 1;\">10</text></g><g class=\"ytick\"><text text-anchor=\"end\" x=\"29\" y=\"4.199999999999999\" style=\"font-family: 'Open Sans', verdana, arial, sans-serif; font-size: 12px; fill: rgb(42, 63, 95); fill-opacity: 1; white-space: pre; opacity: 1;\" transform=\"translate(0,243.07)\">20</text></g><g class=\"ytick\"><text text-anchor=\"end\" x=\"29\" y=\"4.199999999999999\" style=\"font-family: 'Open Sans', verdana, arial, sans-serif; font-size: 12px; fill: rgb(42, 63, 95); fill-opacity: 1; white-space: pre; opacity: 1;\" transform=\"translate(0,179.84)\">30</text></g><g class=\"ytick\"><text text-anchor=\"end\" x=\"29\" y=\"4.199999999999999\" style=\"font-family: 'Open Sans', verdana, arial, sans-serif; font-size: 12px; fill: rgb(42, 63, 95); fill-opacity: 1; white-space: pre; opacity: 1;\" transform=\"translate(0,116.61)\">40</text></g><g class=\"ytick\"><text text-anchor=\"end\" x=\"29\" y=\"4.199999999999999\" style=\"font-family: 'Open Sans', verdana, arial, sans-serif; font-size: 12px; fill: rgb(42, 63, 95); fill-opacity: 1; white-space: pre; opacity: 1;\" transform=\"translate(0,53.38)\">50</text></g></g><g class=\"overaxes-above\"/></g></g><g class=\"polarlayer\"/><g class=\"ternarylayer\"/><g class=\"geolayer\"/><g class=\"funnelarealayer\"/><g class=\"pielayer\"/><g class=\"iciclelayer\"/><g class=\"treemaplayer\"/><g class=\"sunburstlayer\"/><g class=\"glimages\"/><defs id=\"topdefs-d4e372\"><g class=\"clips\"/><clipPath id=\"legendd4e372\"><rect width=\"245\" height=\"29\" x=\"0\" y=\"0\"/></clipPath></defs><g class=\"layer-above\"><g class=\"imagelayer\"/><g class=\"shapelayer\"/></g><g class=\"infolayer\"><g class=\"legend\" pointer-events=\"all\" transform=\"translate(425,11.519999999999996)\"><rect class=\"bg\" shape-rendering=\"crispEdges\" style=\"stroke: rgb(68, 68, 68); stroke-opacity: 1; fill: rgb(255, 255, 255); fill-opacity: 1; stroke-width: 0px;\" width=\"245\" height=\"29\" x=\"0\" y=\"0\"/><g class=\"scrollbox\" transform=\"\" clip-path=\"url(#legendd4e372)\"><g class=\"groups\"><g class=\"traces\" transform=\"translate(0,14.5)\" style=\"opacity: 1;\"><text class=\"legendtext\" text-anchor=\"start\" x=\"40\" y=\"4.680000000000001\" style=\"font-family: 'Open Sans', verdana, arial, sans-serif; font-size: 12px; fill: rgb(42, 63, 95); fill-opacity: 1; white-space: pre;\">fast_window</text><g class=\"layers\" style=\"opacity: 1;\"><g class=\"legendfill\"/><g class=\"legendlines\"><path class=\"js-line\" d=\"M5,0h30\" style=\"fill: none; stroke: rgb(31, 119, 180); stroke-opacity: 1; stroke-width: 2px;\"/></g><g class=\"legendsymbols\"><g class=\"legendpoints\"/></g></g><rect class=\"legendtoggle\" x=\"0\" y=\"-9.5\" width=\"117.828125\" height=\"19\" style=\"fill: rgb(0, 0, 0); fill-opacity: 0;\"/></g><g class=\"traces\" transform=\"translate(120.328125,14.5)\" style=\"opacity: 1;\"><text class=\"legendtext\" text-anchor=\"start\" x=\"40\" y=\"4.680000000000001\" style=\"font-family: 'Open Sans', verdana, arial, sans-serif; font-size: 12px; fill: rgb(42, 63, 95); fill-opacity: 1; white-space: pre;\">slow_window</text><g class=\"layers\" style=\"opacity: 1;\"><g class=\"legendfill\"/><g class=\"legendlines\"><path class=\"js-line\" d=\"M5,0h30\" style=\"fill: none; stroke: rgb(255, 127, 14); stroke-opacity: 1; stroke-width: 2px;\"/></g><g class=\"legendsymbols\"><g class=\"legendpoints\"/></g></g><rect class=\"legendtoggle\" x=\"0\" y=\"-9.5\" width=\"122.078125\" height=\"19\" style=\"fill: rgb(0, 0, 0); fill-opacity: 0;\"/></g></g></g><rect class=\"scrollbar\" rx=\"20\" ry=\"3\" width=\"0\" height=\"0\" style=\"fill: rgb(128, 139, 164); fill-opacity: 1;\" x=\"0\" y=\"0\"/></g><g class=\"g-gtitle\"/><g class=\"g-xtitle\"/><g class=\"g-ytitle\"/></g></svg>"
      ]
     },
     "metadata": {},
     "output_type": "display_data"
    }
   ],
   "source": [
    "pd.DataFrame(in_best_window_pairs, columns=['fast_window', 'slow_window']).vbt.plot().show_svg()"
   ]
  },
  {
   "cell_type": "code",
   "execution_count": 18,
   "metadata": {},
   "outputs": [
    {
     "name": "stdout",
     "output_type": "stream",
     "text": [
      "split_idx\n",
      "0     1.773721\n",
      "1     2.255167\n",
      "2     1.605040\n",
      "3     2.302425\n",
      "4     3.470567\n",
      "5     3.312703\n",
      "6     3.243702\n",
      "7     3.283377\n",
      "8     3.136538\n",
      "9     1.679052\n",
      "10   -0.073404\n",
      "11   -0.095784\n",
      "12   -0.084802\n",
      "13   -1.756398\n",
      "14   -1.999851\n",
      "15   -0.536478\n",
      "16    2.841116\n",
      "17    3.610793\n",
      "18    1.436463\n",
      "19    0.243803\n",
      "20   -0.268038\n",
      "21    0.170627\n",
      "22    1.103839\n",
      "23    0.752377\n",
      "24    2.079782\n",
      "25    3.695683\n",
      "26    4.551902\n",
      "27    4.210304\n",
      "28    1.090321\n",
      "29    0.374220\n",
      "Name: sharpe_ratio, dtype: float64\n"
     ]
    }
   ],
   "source": [
    "out_hold_sharpe = simulate_holding(out_price, **pf_kwargs)\n",
    "\n",
    "print(out_hold_sharpe)"
   ]
  },
  {
   "cell_type": "code",
   "execution_count": 19,
   "metadata": {},
   "outputs": [
    {
     "name": "stdout",
     "output_type": "stream",
     "text": [
      "fast_window  slow_window  split_idx\n",
      "10           11           0           -1.018512\n",
      "                          1           -0.279485\n",
      "                          2           -0.097736\n",
      "                          3            1.209532\n",
      "                          4            2.518178\n",
      "                                         ...   \n",
      "48           49           25           0.821803\n",
      "                          26           3.585817\n",
      "                          27           3.448382\n",
      "                          28           0.412623\n",
      "                          29          -0.472135\n",
      "Name: sharpe_ratio, Length: 23400, dtype: float64\n"
     ]
    }
   ],
   "source": [
    "# Simulate all params for out-sample ranges\n",
    "out_sharpe = simulate_all_params(out_price, windows, **pf_kwargs)\n",
    "\n",
    "print(out_sharpe)"
   ]
  },
  {
   "cell_type": "code",
   "execution_count": 20,
   "metadata": {},
   "outputs": [],
   "source": [
    "def simulate_best_params(price, best_fast_windows, best_slow_windows, **kwargs):\n",
    "    fast_ma = vbt.MA.run(price, window=best_fast_windows, per_column=True)\n",
    "    slow_ma = vbt.MA.run(price, window=best_slow_windows, per_column=True)\n",
    "    entries = fast_ma.ma_above(slow_ma, crossover=True)\n",
    "    exits = fast_ma.ma_below(slow_ma, crossover=True)\n",
    "    pf = vbt.Portfolio.from_signals(price, entries, exits, **kwargs)\n",
    "    return pf.sharpe_ratio()"
   ]
  },
  {
   "cell_type": "code",
   "execution_count": 21,
   "metadata": {},
   "outputs": [
    {
     "name": "stdout",
     "output_type": "stream",
     "text": [
      "ma_window  ma_window  split_idx\n",
      "27         29         0            1.164082\n",
      "19         27         1            0.501229\n",
      "21         25         2            1.414590\n",
      "23         25         3            1.031654\n",
      "                      4            1.431372\n",
      "44         45         5            0.842915\n",
      "23         25         6            1.832407\n",
      "37         43         7           -0.736011\n",
      "10         21         8            3.442996\n",
      "                      9            2.907096\n",
      "                      10           1.142636\n",
      "                      11           1.553256\n",
      "                      12           0.663375\n",
      "                      13           0.112471\n",
      "                      14           0.030817\n",
      "           22         15           1.741600\n",
      "                      16           2.618267\n",
      "                      17           0.839098\n",
      "17         22         18           0.698136\n",
      "                      19          -0.035333\n",
      "13         21         20           1.250471\n",
      "45         48         21          -2.579361\n",
      "           49         22          -1.618753\n",
      "18         21         23           0.839546\n",
      "13         21         24           1.032312\n",
      "                      25           4.452871\n",
      "           20         26           3.673450\n",
      "                      27           1.557888\n",
      "15         18         28          -1.375080\n",
      "13         20         29          -1.601242\n",
      "Name: sharpe_ratio, dtype: float64\n"
     ]
    }
   ],
   "source": [
    "# Use best params from in-sample ranges and simulate them for out-sample ranges\n",
    "out_test_sharpe = simulate_best_params(out_price, in_best_fast_windows, in_best_slow_windows, **pf_kwargs)\n",
    "\n",
    "print(out_test_sharpe)"
   ]
  },
  {
   "cell_type": "code",
   "execution_count": 22,
   "metadata": {},
   "outputs": [],
   "source": [
    "cv_results_df = pd.DataFrame({\n",
    "    'in_sample_hold': in_hold_sharpe.values,\n",
    "    'in_sample_median': in_sharpe.groupby('split_idx').median().values,\n",
    "    'in_sample_best': in_sharpe[in_best_index].values,\n",
    "    'out_sample_hold': out_hold_sharpe.values,\n",
    "    'out_sample_median': out_sharpe.groupby('split_idx').median().values,\n",
    "    'out_sample_test': out_test_sharpe.values\n",
    "})"
   ]
  },
  {
   "cell_type": "code",
   "execution_count": 23,
   "metadata": {},
   "outputs": [
    {
     "data": {
      "image/svg+xml": [
       "<svg class=\"main-svg\" xmlns=\"http://www.w3.org/2000/svg\" xmlns:xlink=\"http://www.w3.org/1999/xlink\" width=\"700\" height=\"350\" style=\"\" viewBox=\"0 0 700 350\"><rect x=\"0\" y=\"0\" width=\"700\" height=\"350\" style=\"fill: rgb(255, 255, 255); fill-opacity: 1;\"/><defs id=\"defs-1f4131\"><g class=\"clips\"><clipPath id=\"clip1f4131xyplot\" class=\"plotclip\"><rect width=\"640\" height=\"255\"/></clipPath><clipPath class=\"axesclip\" id=\"clip1f4131x\"><rect x=\"30\" y=\"0\" width=\"640\" height=\"350\"/></clipPath><clipPath class=\"axesclip\" id=\"clip1f4131y\"><rect x=\"0\" y=\"65\" width=\"700\" height=\"255\"/></clipPath><clipPath class=\"axesclip\" id=\"clip1f4131xy\"><rect x=\"30\" y=\"65\" width=\"640\" height=\"255\"/></clipPath></g><g class=\"gradients\"/><g class=\"patterns\"/></defs><g class=\"bglayer\"><rect class=\"bg\" x=\"30\" y=\"65\" width=\"640\" height=\"255\" style=\"fill: rgb(229, 236, 246); fill-opacity: 1; stroke-width: 0;\"/></g><g class=\"layer-below\"><g class=\"imagelayer\"/><g class=\"shapelayer\"/></g><g class=\"cartesianlayer\"><g class=\"subplot xy\"><g class=\"layer-subplot\"><g class=\"shapelayer\"/><g class=\"imagelayer\"/></g><g class=\"gridlayer\"><g class=\"x\"><path class=\"xgrid crisp\" transform=\"translate(140.34,0)\" d=\"M0,65v255\" style=\"stroke: rgb(255, 255, 255); stroke-opacity: 1; stroke-width: 1px;\"/><path class=\"xgrid crisp\" transform=\"translate(250.69,0)\" d=\"M0,65v255\" style=\"stroke: rgb(255, 255, 255); stroke-opacity: 1; stroke-width: 1px;\"/><path class=\"xgrid crisp\" transform=\"translate(361.03,0)\" d=\"M0,65v255\" style=\"stroke: rgb(255, 255, 255); stroke-opacity: 1; stroke-width: 1px;\"/><path class=\"xgrid crisp\" transform=\"translate(471.38,0)\" d=\"M0,65v255\" style=\"stroke: rgb(255, 255, 255); stroke-opacity: 1; stroke-width: 1px;\"/><path class=\"xgrid crisp\" transform=\"translate(581.72,0)\" d=\"M0,65v255\" style=\"stroke: rgb(255, 255, 255); stroke-opacity: 1; stroke-width: 1px;\"/></g><g class=\"y\"><path class=\"ygrid crisp\" transform=\"translate(0,288.6)\" d=\"M30,0h640\" style=\"stroke: rgb(255, 255, 255); stroke-opacity: 1; stroke-width: 1px;\"/><path class=\"ygrid crisp\" transform=\"translate(0,159.88)\" d=\"M30,0h640\" style=\"stroke: rgb(255, 255, 255); stroke-opacity: 1; stroke-width: 1px;\"/><path class=\"ygrid crisp\" transform=\"translate(0,95.51)\" d=\"M30,0h640\" style=\"stroke: rgb(255, 255, 255); stroke-opacity: 1; stroke-width: 1px;\"/></g></g><g class=\"zerolinelayer\"><path class=\"xzl zl crisp\" transform=\"translate(30,0)\" d=\"M0,65v255\" style=\"stroke: rgb(255, 255, 255); stroke-opacity: 1; stroke-width: 2px;\"/><path class=\"yzl zl crisp\" transform=\"translate(0,224.24)\" d=\"M30,0h640\" style=\"stroke: rgb(255, 255, 255); stroke-opacity: 1; stroke-width: 2px;\"/></g><path class=\"xlines-below\"/><path class=\"ylines-below\"/><g class=\"overlines-below\"/><g class=\"xaxislayer-below\"/><g class=\"yaxislayer-below\"/><g class=\"overaxes-below\"/><g class=\"plot\" transform=\"translate(30,65)\" clip-path=\"url(#clip1f4131xyplot)\"><g class=\"scatterlayer mlayer\"><g class=\"trace scatter trace03eb9780-1838-44cc-8e9c-2894eff773ac\" style=\"stroke-miterlimit: 2; opacity: 1;\"><g class=\"fills\"/><g class=\"errorbars\"/><g class=\"lines\"><path class=\"js-line\" d=\"M0,151.87L22.07,143.35L44.14,108.52L66.21,118.84L88.28,104.62L110.34,106.26L132.41,97.4L154.48,81.57L176.55,81.38L198.62,78.01L220.69,62.05L242.76,76.93L264.83,87.51L286.9,91.55L308.97,99.62L331.03,103.64L353.1,138.23L375.17,143.6L397.24,141.66L419.31,165.98L441.38,137.81L463.45,142.66L485.52,145.31L507.59,133.04L529.66,144.8L551.72,116.32L573.79,112.39L595.86,120.9L617.93,119.97L640,102.68\" style=\"vector-effect: non-scaling-stroke; fill: none; stroke: rgb(31, 119, 180); stroke-opacity: 1; stroke-width: 2px; opacity: 1;\"/></g><g class=\"points\"/><g class=\"text\"/></g><g class=\"trace scatter trace17a05cbd-2eca-485b-8e59-9b71e1bacd5b\" style=\"stroke-miterlimit: 2; opacity: 1;\"><g class=\"fills\"/><g class=\"errorbars\"/><g class=\"lines\"><path class=\"js-line\" d=\"M0,139.15L22.07,129.75L44.14,133.01L66.21,132.2L88.28,119.67L110.34,117.1L132.41,128.06L176.55,114.37L198.62,116.28L220.69,109.12L242.76,99.91L264.83,104.5L286.9,119.24L308.97,118.48L331.03,122.4L353.1,124.73L375.17,131.22L397.24,126.52L419.31,135.44L441.38,134.09L463.45,123.44L485.52,134.93L507.59,119.42L529.66,129.85L551.72,123.51L573.79,121.2L595.86,142.21L617.93,128.06L640,116.5\" style=\"vector-effect: non-scaling-stroke; fill: none; stroke: rgb(31, 119, 180); stroke-opacity: 1; stroke-width: 2px; opacity: 1; stroke-dasharray: 9px, 9px;\"/></g><g class=\"points\"/><g class=\"text\"/></g><g class=\"trace scatter traceeb611002-6fe6-4d2b-80b1-8b80c903364f\" style=\"stroke-miterlimit: 2; opacity: 1;\"><g class=\"fills\"/><g class=\"errorbars\"/><g class=\"lines\"><path class=\"js-line\" d=\"M0,93.49L22.07,94.67L44.14,94.88L66.21,104.58L88.28,88.52L110.34,91.55L132.41,100.85L154.48,88.87L176.55,86.98L198.62,81.74L220.69,60.39L242.76,52.26L264.83,54.47L286.9,62.05L308.97,58.79L331.03,66.02L353.1,80.73L375.17,94.04L397.24,84.67L419.31,93.87L441.38,86.37L463.45,86.89L485.52,93.57L507.59,83.88L529.66,86.86L551.72,89.26L573.79,85.95L595.86,91.35L617.93,81.19L640,69.4\" style=\"vector-effect: non-scaling-stroke; fill: none; stroke: rgb(31, 119, 180); stroke-opacity: 1; stroke-width: 2px; opacity: 1; stroke-dasharray: 3px, 3px;\"/></g><g class=\"points\"/><g class=\"text\"/></g><g class=\"trace scatter traceba0a74ef-76c4-4b68-a31a-8f8fd4c993e2\" style=\"stroke-miterlimit: 2; opacity: 1;\"><g class=\"fills\"/><g class=\"errorbars\"/><g class=\"lines\"><path class=\"js-line\" d=\"M0,102.16L22.07,86.66L44.14,107.59L66.21,85.14L88.28,47.55L110.34,52.63L132.41,54.85L154.48,53.57L176.55,58.3L198.62,105.2L220.69,161.6L242.76,162.32L264.83,161.97L286.9,215.77L308.97,223.6L331.03,176.51L353.1,67.81L375.17,43.04L397.24,113.01L419.31,151.39L441.38,167.87L463.45,153.75L485.52,123.72L507.59,135.03L529.66,92.31L551.72,40.31L573.79,12.75L595.86,23.74L617.93,124.15L640,147.2\" style=\"vector-effect: non-scaling-stroke; fill: none; stroke: rgb(255, 127, 14); stroke-opacity: 1; stroke-width: 2px; opacity: 1;\"/></g><g class=\"points\"/><g class=\"text\"/></g><g class=\"trace scatter tracef68fd31c-0d19-422d-82dc-e3a2b3cc0c63\" style=\"stroke-miterlimit: 2; opacity: 1;\"><g class=\"fills\"/><g class=\"errorbars\"/><g class=\"lines\"><path class=\"js-line\" d=\"M0,117.67L44.14,110.86L66.21,124.34L88.28,121.66L110.34,124.43L132.41,98.2L154.48,124.13L176.55,99.58L198.62,90.53L220.69,166.52L242.76,169.83L264.83,187.19L286.9,148.32L308.97,103.79L331.03,107.82L353.1,86.74L375.17,89.4L397.24,133.66L419.31,203.49L441.38,171.5L463.45,136.12L485.52,107.15L507.59,133.13L529.66,165.67L551.72,78.38L573.79,40.48L595.86,83.77L617.93,116.53L640,127.08\" style=\"vector-effect: non-scaling-stroke; fill: none; stroke: rgb(255, 127, 14); stroke-opacity: 1; stroke-width: 2px; opacity: 1; stroke-dasharray: 9px, 9px;\"/></g><g class=\"points\"/><g class=\"text\"/></g><g class=\"trace scatter traceff1823ad-ff41-4ff2-b4e0-affed6e58078\" style=\"stroke-miterlimit: 2; opacity: 1;\"><g class=\"fills\"/><g class=\"errorbars\"/><g class=\"lines\"><path class=\"js-line\" d=\"M0,121.78L22.07,143.11L44.14,113.72L66.21,126.04L88.28,113.18L110.34,132.11L132.41,100.27L154.48,182.93L176.55,48.44L198.62,65.68L220.69,122.47L242.76,109.25L264.83,137.89L286.9,155.62L308.97,158.25L331.03,103.19L353.1,74.98L375.17,132.24L397.24,136.77L419.31,160.38L441.38,119L463.45,242.25L485.52,211.34L507.59,132.22L529.66,126.02L551.72,15.94L573.79,41.02L595.86,109.1L617.93,203.49L640,210.77\" style=\"vector-effect: non-scaling-stroke; fill: none; stroke: rgb(255, 127, 14); stroke-opacity: 1; stroke-width: 2px; opacity: 1; stroke-dasharray: 3px, 3px;\"/></g><g class=\"points\"/><g class=\"text\"/></g></g></g><g class=\"overplot\"/><path class=\"xlines-above crisp\" d=\"M0,0\" style=\"fill: none;\"/><path class=\"ylines-above crisp\" d=\"M0,0\" style=\"fill: none;\"/><g class=\"overlines-above\"/><g class=\"xaxislayer-above\"><g class=\"xtick\"><text text-anchor=\"middle\" x=\"0\" y=\"333\" transform=\"translate(30,0)\" style=\"font-family: 'Open Sans', verdana, arial, sans-serif; font-size: 12px; fill: rgb(42, 63, 95); fill-opacity: 1; white-space: pre; opacity: 1;\">0</text></g><g class=\"xtick\"><text text-anchor=\"middle\" x=\"0\" y=\"333\" style=\"font-family: 'Open Sans', verdana, arial, sans-serif; font-size: 12px; fill: rgb(42, 63, 95); fill-opacity: 1; white-space: pre; opacity: 1;\" transform=\"translate(140.34,0)\">5</text></g><g class=\"xtick\"><text text-anchor=\"middle\" x=\"0\" y=\"333\" style=\"font-family: 'Open Sans', verdana, arial, sans-serif; font-size: 12px; fill: rgb(42, 63, 95); fill-opacity: 1; white-space: pre; opacity: 1;\" transform=\"translate(250.69,0)\">10</text></g><g class=\"xtick\"><text text-anchor=\"middle\" x=\"0\" y=\"333\" style=\"font-family: 'Open Sans', verdana, arial, sans-serif; font-size: 12px; fill: rgb(42, 63, 95); fill-opacity: 1; white-space: pre; opacity: 1;\" transform=\"translate(361.03,0)\">15</text></g><g class=\"xtick\"><text text-anchor=\"middle\" x=\"0\" y=\"333\" style=\"font-family: 'Open Sans', verdana, arial, sans-serif; font-size: 12px; fill: rgb(42, 63, 95); fill-opacity: 1; white-space: pre; opacity: 1;\" transform=\"translate(471.38,0)\">20</text></g><g class=\"xtick\"><text text-anchor=\"middle\" x=\"0\" y=\"333\" style=\"font-family: 'Open Sans', verdana, arial, sans-serif; font-size: 12px; fill: rgb(42, 63, 95); fill-opacity: 1; white-space: pre; opacity: 1;\" transform=\"translate(581.72,0)\">25</text></g></g><g class=\"yaxislayer-above\"><g class=\"ytick\"><text text-anchor=\"end\" x=\"29\" y=\"4.199999999999999\" transform=\"translate(0,288.6)\" style=\"font-family: 'Open Sans', verdana, arial, sans-serif; font-size: 12px; fill: rgb(42, 63, 95); fill-opacity: 1; white-space: pre; opacity: 1;\">−2</text></g><g class=\"ytick\"><text text-anchor=\"end\" x=\"29\" y=\"4.199999999999999\" style=\"font-family: 'Open Sans', verdana, arial, sans-serif; font-size: 12px; fill: rgb(42, 63, 95); fill-opacity: 1; white-space: pre; opacity: 1;\" transform=\"translate(0,224.24)\">0</text></g><g class=\"ytick\"><text text-anchor=\"end\" x=\"29\" y=\"4.199999999999999\" style=\"font-family: 'Open Sans', verdana, arial, sans-serif; font-size: 12px; fill: rgb(42, 63, 95); fill-opacity: 1; white-space: pre; opacity: 1;\" transform=\"translate(0,159.88)\">2</text></g><g class=\"ytick\"><text text-anchor=\"end\" x=\"29\" y=\"4.199999999999999\" style=\"font-family: 'Open Sans', verdana, arial, sans-serif; font-size: 12px; fill: rgb(42, 63, 95); fill-opacity: 1; white-space: pre; opacity: 1;\" transform=\"translate(0,95.51)\">4</text></g></g><g class=\"overaxes-above\"/></g></g><g class=\"polarlayer\"/><g class=\"ternarylayer\"/><g class=\"geolayer\"/><g class=\"funnelarealayer\"/><g class=\"pielayer\"/><g class=\"iciclelayer\"/><g class=\"treemaplayer\"/><g class=\"sunburstlayer\"/><g class=\"glimages\"/><defs id=\"topdefs-1f4131\"><g class=\"clips\"/><clipPath id=\"legend1f4131\"><rect width=\"481\" height=\"48\" x=\"0\" y=\"0\"/></clipPath></defs><g class=\"layer-above\"><g class=\"imagelayer\"/><g class=\"shapelayer\"/></g><g class=\"infolayer\"><g class=\"legend\" pointer-events=\"all\" transform=\"translate(189,11.899999999999991)\"><rect class=\"bg\" shape-rendering=\"crispEdges\" style=\"stroke: rgb(68, 68, 68); stroke-opacity: 1; fill: rgb(255, 255, 255); fill-opacity: 1; stroke-width: 0px;\" width=\"481\" height=\"48\" x=\"0\" y=\"0\"/><g class=\"scrollbox\" transform=\"\" clip-path=\"url(#legend1f4131)\"><g class=\"groups\"><g class=\"traces\" transform=\"translate(0,14.5)\" style=\"opacity: 1;\"><text class=\"legendtext\" text-anchor=\"start\" x=\"40\" y=\"4.680000000000001\" style=\"font-family: 'Open Sans', verdana, arial, sans-serif; font-size: 12px; fill: rgb(42, 63, 95); fill-opacity: 1; white-space: pre;\">in_sample_hold</text><g class=\"layers\" style=\"opacity: 1;\"><g class=\"legendfill\"/><g class=\"legendlines\"><path class=\"js-line\" d=\"M5,0h30\" style=\"fill: none; stroke: rgb(31, 119, 180); stroke-opacity: 1; stroke-width: 2px;\"/></g><g class=\"legendsymbols\"><g class=\"legendpoints\"/></g></g><rect class=\"legendtoggle\" x=\"0\" y=\"-9.5\" width=\"137.34375\" height=\"19\" style=\"fill: rgb(0, 0, 0); fill-opacity: 0;\"/></g><g class=\"traces\" transform=\"translate(167.3125,14.5)\" style=\"opacity: 1;\"><text class=\"legendtext\" text-anchor=\"start\" x=\"40\" y=\"4.680000000000001\" style=\"font-family: 'Open Sans', verdana, arial, sans-serif; font-size: 12px; fill: rgb(42, 63, 95); fill-opacity: 1; white-space: pre;\">in_sample_median</text><g class=\"layers\" style=\"opacity: 1;\"><g class=\"legendfill\"/><g class=\"legendlines\"><path class=\"js-line\" d=\"M5,0h30\" style=\"fill: none; stroke: rgb(31, 119, 180); stroke-opacity: 1; stroke-dasharray: 9px, 9px; stroke-width: 2px;\"/></g><g class=\"legendsymbols\"><g class=\"legendpoints\"/></g></g><rect class=\"legendtoggle\" x=\"0\" y=\"-9.5\" width=\"156.09375\" height=\"19\" style=\"fill: rgb(0, 0, 0); fill-opacity: 0;\"/></g><g class=\"traces\" transform=\"translate(334.625,14.5)\" style=\"opacity: 1;\"><text class=\"legendtext\" text-anchor=\"start\" x=\"40\" y=\"4.680000000000001\" style=\"font-family: 'Open Sans', verdana, arial, sans-serif; font-size: 12px; fill: rgb(42, 63, 95); fill-opacity: 1; white-space: pre;\">in_sample_best</text><g class=\"layers\" style=\"opacity: 1;\"><g class=\"legendfill\"/><g class=\"legendlines\"><path class=\"js-line\" d=\"M5,0h30\" style=\"fill: none; stroke: rgb(31, 119, 180); stroke-opacity: 1; stroke-dasharray: 3px, 3px; stroke-width: 2px;\"/></g><g class=\"legendsymbols\"><g class=\"legendpoints\"/></g></g><rect class=\"legendtoggle\" x=\"0\" y=\"-9.5\" width=\"137.3125\" height=\"19\" style=\"fill: rgb(0, 0, 0); fill-opacity: 0;\"/></g><g class=\"traces\" transform=\"translate(0,33.5)\" style=\"opacity: 1;\"><text class=\"legendtext\" text-anchor=\"start\" x=\"40\" y=\"4.680000000000001\" style=\"font-family: 'Open Sans', verdana, arial, sans-serif; font-size: 12px; fill: rgb(42, 63, 95); fill-opacity: 1; white-space: pre;\">out_sample_hold</text><g class=\"layers\" style=\"opacity: 1;\"><g class=\"legendfill\"/><g class=\"legendlines\"><path class=\"js-line\" d=\"M5,0h30\" style=\"fill: none; stroke: rgb(255, 127, 14); stroke-opacity: 1; stroke-width: 2px;\"/></g><g class=\"legendsymbols\"><g class=\"legendpoints\"/></g></g><rect class=\"legendtoggle\" x=\"0\" y=\"-9.5\" width=\"146.0625\" height=\"19\" style=\"fill: rgb(0, 0, 0); fill-opacity: 0;\"/></g><g class=\"traces\" transform=\"translate(167.3125,33.5)\" style=\"opacity: 1;\"><text class=\"legendtext\" text-anchor=\"start\" x=\"40\" y=\"4.680000000000001\" style=\"font-family: 'Open Sans', verdana, arial, sans-serif; font-size: 12px; fill: rgb(42, 63, 95); fill-opacity: 1; white-space: pre;\">out_sample_median</text><g class=\"layers\" style=\"opacity: 1;\"><g class=\"legendfill\"/><g class=\"legendlines\"><path class=\"js-line\" d=\"M5,0h30\" style=\"fill: none; stroke: rgb(255, 127, 14); stroke-opacity: 1; stroke-dasharray: 9px, 9px; stroke-width: 2px;\"/></g><g class=\"legendsymbols\"><g class=\"legendpoints\"/></g></g><rect class=\"legendtoggle\" x=\"0\" y=\"-9.5\" width=\"164.8125\" height=\"19\" style=\"fill: rgb(0, 0, 0); fill-opacity: 0;\"/></g><g class=\"traces\" transform=\"translate(334.625,33.5)\" style=\"opacity: 1;\"><text class=\"legendtext\" text-anchor=\"start\" x=\"40\" y=\"4.680000000000001\" style=\"font-family: 'Open Sans', verdana, arial, sans-serif; font-size: 12px; fill: rgb(42, 63, 95); fill-opacity: 1; white-space: pre;\">out_sample_test</text><g class=\"layers\" style=\"opacity: 1;\"><g class=\"legendfill\"/><g class=\"legendlines\"><path class=\"js-line\" d=\"M5,0h30\" style=\"fill: none; stroke: rgb(255, 127, 14); stroke-opacity: 1; stroke-dasharray: 3px, 3px; stroke-width: 2px;\"/></g><g class=\"legendsymbols\"><g class=\"legendpoints\"/></g></g><rect class=\"legendtoggle\" x=\"0\" y=\"-9.5\" width=\"143.28125\" height=\"19\" style=\"fill: rgb(0, 0, 0); fill-opacity: 0;\"/></g></g></g><rect class=\"scrollbar\" rx=\"20\" ry=\"3\" width=\"0\" height=\"0\" style=\"fill: rgb(128, 139, 164); fill-opacity: 1;\" x=\"0\" y=\"0\"/></g><g class=\"g-gtitle\"/><g class=\"g-xtitle\"/><g class=\"g-ytitle\"/></g></svg>"
      ]
     },
     "metadata": {},
     "output_type": "display_data"
    }
   ],
   "source": [
    "color_schema = vbt.settings['plotting']['color_schema']\n",
    "\n",
    "cv_results_df.vbt.plot(\n",
    "    trace_kwargs=[\n",
    "        dict(line_color=color_schema['blue']),\n",
    "        dict(line_color=color_schema['blue'], line_dash='dash'),\n",
    "        dict(line_color=color_schema['blue'], line_dash='dot'),\n",
    "        dict(line_color=color_schema['orange']),\n",
    "        dict(line_color=color_schema['orange'], line_dash='dash'),\n",
    "        dict(line_color=color_schema['orange'], line_dash='dot')\n",
    "    ]\n",
    ").show_svg()"
   ]
  },
  {
   "cell_type": "code",
   "execution_count": null,
   "metadata": {},
   "outputs": [],
   "source": []
  }
 ],
 "metadata": {
  "kernelspec": {
   "display_name": "Python 3 (ipykernel)",
   "language": "python",
   "name": "python3"
  },
  "language_info": {
   "codemirror_mode": {
    "name": "ipython",
    "version": 3
   },
   "file_extension": ".py",
   "mimetype": "text/x-python",
   "name": "python",
   "nbconvert_exporter": "python",
   "pygments_lexer": "ipython3",
   "version": "3.7.3"
  }
 },
 "nbformat": 4,
 "nbformat_minor": 4
}
