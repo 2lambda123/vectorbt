{
 "cells": [
  {
   "cell_type": "code",
   "execution_count": 1,
   "metadata": {},
   "outputs": [],
   "source": [
    "import numpy as np\n",
    "import pandas as pd\n",
    "import vectorbt as vbt"
   ]
  },
  {
   "cell_type": "code",
   "execution_count": 2,
   "metadata": {},
   "outputs": [],
   "source": [
    "split_kwargs = dict(\n",
    "    n=30, \n",
    "    window_len=365 * 2, \n",
    "    set_lens=(180,), \n",
    "    left_to_right=False\n",
    ")  # 30 windows, each 2 years long, reserve 180 days for test\n",
    "pf_kwargs = dict(\n",
    "    direction='all',  # long and short\n",
    "    freq='d'\n",
    ")\n",
    "windows = np.arange(10, 50)"
   ]
  },
  {
   "cell_type": "code",
   "execution_count": 3,
   "metadata": {},
   "outputs": [],
   "source": [
    "price = vbt.YFData.download('BTC-USD').get('Close')"
   ]
  },
  {
   "cell_type": "code",
   "execution_count": 4,
   "metadata": {},
   "outputs": [
    {
     "name": "stdout",
     "output_type": "stream",
     "text": [
      "Date\n",
      "2014-09-17 00:00:00+00:00      457.334015\n",
      "2014-09-18 00:00:00+00:00      424.440002\n",
      "2014-09-19 00:00:00+00:00      394.795990\n",
      "2014-09-20 00:00:00+00:00      408.903992\n",
      "2014-09-21 00:00:00+00:00      398.821014\n",
      "                                 ...     \n",
      "2021-07-28 00:00:00+00:00    39995.906250\n",
      "2021-07-29 00:00:00+00:00    40008.421875\n",
      "2021-07-30 00:00:00+00:00    42235.546875\n",
      "2021-07-31 00:00:00+00:00    41626.195312\n",
      "2021-08-01 00:00:00+00:00    41547.117188\n",
      "Name: Close, Length: 2507, dtype: float64\n"
     ]
    }
   ],
   "source": [
    "print(price)"
   ]
  },
  {
   "cell_type": "code",
   "execution_count": 5,
   "metadata": {},
   "outputs": [
    {
     "data": {
      "image/svg+xml": [
       "<svg class=\"main-svg\" xmlns=\"http://www.w3.org/2000/svg\" xmlns:xlink=\"http://www.w3.org/1999/xlink\" width=\"700\" height=\"350\" style=\"\" viewBox=\"0 0 700 350\"><rect x=\"0\" y=\"0\" width=\"700\" height=\"350\" style=\"fill: rgb(255, 255, 255); fill-opacity: 1;\"/><defs id=\"defs-981181\"><g class=\"clips\"><clipPath id=\"clip981181xyplot\" class=\"plotclip\"><rect width=\"635\" height=\"274\"/></clipPath><clipPath class=\"axesclip\" id=\"clip981181x\"><rect x=\"35\" y=\"0\" width=\"635\" height=\"350\"/></clipPath><clipPath class=\"axesclip\" id=\"clip981181y\"><rect x=\"0\" y=\"46\" width=\"700\" height=\"274\"/></clipPath><clipPath class=\"axesclip\" id=\"clip981181xy\"><rect x=\"35\" y=\"46\" width=\"635\" height=\"274\"/></clipPath></g><g class=\"gradients\"/></defs><g class=\"bglayer\"><rect class=\"bg\" x=\"35\" y=\"46\" width=\"635\" height=\"274\" style=\"fill: rgb(229, 236, 246); fill-opacity: 1; stroke-width: 0;\"/></g><g class=\"layer-below\"><g class=\"imagelayer\"/><g class=\"shapelayer\"/></g><g class=\"cartesianlayer\"><g class=\"subplot xy\"><g class=\"layer-subplot\"><g class=\"shapelayer\"/><g class=\"imagelayer\"/></g><g class=\"gridlayer\"><g class=\"x\"><path class=\"xgrid crisp\" transform=\"translate(61.82,0)\" d=\"M0,46v274\" style=\"stroke: rgb(255, 255, 255); stroke-opacity: 1; stroke-width: 1px;\"/><path class=\"xgrid crisp\" transform=\"translate(154.16,0)\" d=\"M0,46v274\" style=\"stroke: rgb(255, 255, 255); stroke-opacity: 1; stroke-width: 1px;\"/><path class=\"xgrid crisp\" transform=\"translate(246.75,0)\" d=\"M0,46v274\" style=\"stroke: rgb(255, 255, 255); stroke-opacity: 1; stroke-width: 1px;\"/><path class=\"xgrid crisp\" transform=\"translate(339.09,0)\" d=\"M0,46v274\" style=\"stroke: rgb(255, 255, 255); stroke-opacity: 1; stroke-width: 1px;\"/><path class=\"xgrid crisp\" transform=\"translate(431.43,0)\" d=\"M0,46v274\" style=\"stroke: rgb(255, 255, 255); stroke-opacity: 1; stroke-width: 1px;\"/><path class=\"xgrid crisp\" transform=\"translate(523.77,0)\" d=\"M0,46v274\" style=\"stroke: rgb(255, 255, 255); stroke-opacity: 1; stroke-width: 1px;\"/><path class=\"xgrid crisp\" transform=\"translate(616.37,0)\" d=\"M0,46v274\" style=\"stroke: rgb(255, 255, 255); stroke-opacity: 1; stroke-width: 1px;\"/></g><g class=\"y\"><path class=\"ygrid crisp\" transform=\"translate(0,268.05)\" d=\"M35,0h635\" style=\"stroke: rgb(255, 255, 255); stroke-opacity: 1; stroke-width: 1px;\"/><path class=\"ygrid crisp\" transform=\"translate(0,229.11)\" d=\"M35,0h635\" style=\"stroke: rgb(255, 255, 255); stroke-opacity: 1; stroke-width: 1px;\"/><path class=\"ygrid crisp\" transform=\"translate(0,190.17)\" d=\"M35,0h635\" style=\"stroke: rgb(255, 255, 255); stroke-opacity: 1; stroke-width: 1px;\"/><path class=\"ygrid crisp\" transform=\"translate(0,151.23000000000002)\" d=\"M35,0h635\" style=\"stroke: rgb(255, 255, 255); stroke-opacity: 1; stroke-width: 1px;\"/><path class=\"ygrid crisp\" transform=\"translate(0,112.28)\" d=\"M35,0h635\" style=\"stroke: rgb(255, 255, 255); stroke-opacity: 1; stroke-width: 1px;\"/><path class=\"ygrid crisp\" transform=\"translate(0,73.34)\" d=\"M35,0h635\" style=\"stroke: rgb(255, 255, 255); stroke-opacity: 1; stroke-width: 1px;\"/></g></g><g class=\"zerolinelayer\"><path class=\"yzl zl crisp\" transform=\"translate(0,306.99)\" d=\"M35,0h635\" style=\"stroke: rgb(255, 255, 255); stroke-opacity: 1; stroke-width: 2px;\"/></g><path class=\"xlines-below\"/><path class=\"ylines-below\"/><g class=\"overlines-below\"/><g class=\"xaxislayer-below\"/><g class=\"yaxislayer-below\"/><g class=\"overaxes-below\"/><g class=\"plot\" transform=\"translate(35,46)\" clip-path=\"url('#clip981181xyplot')\"><g class=\"scatterlayer mlayer\"><g class=\"trace scatter tracefbd2049c-dbc0-430a-89cd-49828e399c94\" style=\"stroke-miterlimit: 2; opacity: 1;\"><g class=\"fills\"/><g class=\"errorbars\"/><g class=\"lines\"><path class=\"js-line\" d=\"M0,259.21L1.77,259.35L2.02,259.39L9.87,259.61L10.12,259.62L20.49,259.53L20.75,259.58L26.31,259.78L26.56,259.75L37.44,260.13L37.7,260.08L39.72,260.04L39.97,260.07L55.66,260.11L55.91,260.14L60.97,260.07L61.22,260.07L70.84,260.06L71.09,260.05L84.5,259.99L84.75,260.17L88.04,260.1L88.29,260.11L122.45,259.32L122.7,259.57L124.98,259.42L125.23,259.47L157.86,258.9L158.12,258.78L162.67,258.4L162.92,258.67L165.45,258.25L165.71,258.43L167.48,258.46L167.73,258.47L171.02,258.42L171.27,258.45L186.96,258.65L187.21,258.63L208.46,257.91L208.72,257.87L211.25,257.25L211.5,257.24L212.51,256.5L212.76,257.05L213.02,257.48L226.68,256.23L226.93,256.12L228.2,256.23L228.45,256.52L230.22,256.13L230.47,256.37L231.48,256.89L231.74,256.63L233,257.23L233.25,256.92L239.07,256.28L239.33,256.21L241.86,255.74L242.11,255.46L245.4,253.95L245.65,254.22L246.41,253.64L246.66,253.25L247.93,251.48L248.18,252.02L248.43,252.42L248.69,253.05L248.94,252.6L249.19,252.21L249.45,252.52L249.7,252.09L249.95,251.62L252.48,249.47L252.74,250.64L252.99,250.41L253.24,251.23L253.75,251.19L254,250.65L254.25,251.07L254.51,250.91L254.76,250.39L257.54,251.51L257.79,251.23L258.81,250.84L259.06,251.19L259.57,251.19L259.82,251.75L260.83,252.3L261.08,253.21L261.34,253.48L261.59,252.32L262.1,252.14L262.35,250.02L262.6,250.6L263.11,250.36L263.36,250.27L263.87,251.14L264.12,250.59L264.37,250.05L264.88,250.26L265.13,249.8L265.64,250.44L265.89,250.07L266.14,249.72L267.16,247.68L267.41,247.98L267.66,247.83L267.91,246.78L269.18,243.95L269.43,244.13L269.69,244.79L270.19,245.08L270.44,245.41L272.47,243.16L272.72,243.22L273.23,241.94L273.48,243.16L273.73,243.15L273.99,244.5L274.24,243.95L274.49,243.09L274.75,243.08L275,244.53L276.01,244.91L276.26,245.87L276.52,248.71L277.02,246.88L277.27,247.04L277.53,245.16L278.03,245.78L278.29,246.85L279.05,246.65L279.3,245.7L279.55,245.84L279.8,244.64L280.31,244.78L280.56,244.1L281.07,243.82L281.32,244.18L281.58,244.52L283.35,242.2L283.6,239.78L284.11,238.28L284.61,238.7L284.86,239.16L285.37,238.76L285.62,237.58L286.38,237.9L286.64,239.47L287.9,237.03L288.15,237.12L289.67,232.15L289.92,233.65L290.43,231.94L290.68,233.18L291.44,237.82L291.7,235.45L291.95,235.15L293.21,229.7L293.47,229.06L294.23,229.69L294.48,228.85L296.5,217.87L296.75,216.9L297.26,214.59L297.51,205.34L297.77,191.29L298.27,201.89L298.53,200.81L299.03,193.17L299.28,197.1L299.54,196.49L300.04,185.07L300.55,186.56L300.8,191.77L301.56,207.13L302.07,206.76L302.32,206.37L302.57,198.3L303.08,204.11L303.33,203.92L303.59,210.56L304.09,207.81L304.34,202.65L304.85,200.25L305.1,193.12L305.36,192.74L305.61,196.83L306.62,208.79L306.87,206.55L307.13,205.07L307.38,207.36L307.63,207.18L308.14,217.42L308.39,216.31L308.65,215.79L308.9,210.76L309.15,215.82L309.4,218.42L309.66,218.67L309.91,216.76L310.42,217.49L310.67,216.44L310.92,215.1L311.18,217L311.43,221.64L311.68,221.19L311.93,225.28L312.69,228.76L312.95,233.91L313.96,226.97L314.21,227.42L314.46,229.33L315.98,217.72L316.24,219.9L316.74,216.59L316.99,219.36L317.25,222.03L317.5,220.88L317.75,222.78L318.01,223.36L319.02,218.35L319.27,217.82L320.03,215.93L320.28,219.01L321.29,226.47L321.55,223.69L323.07,230.16L323.32,228.97L324.08,226.22L324.33,227L324.58,226.41L326.1,233.09L326.35,234.16L327.11,233.41L327.37,231.96L328.13,235.15L328.38,234.08L328.63,233.64L328.88,234.63L329.14,234.38L329.39,233.86L329.64,230.27L330.15,229.89L330.4,228.56L330.91,230.22L331.16,229.2L331.41,228.69L332.68,223.23L332.93,226.55L333.94,224.31L334.2,225.01L334.45,225.48L334.7,225.03L334.96,223.05L335.72,223.4L335.97,224.49L336.73,225.77L336.98,228.12L337.74,227.05L337.99,227.85L338.5,229.47L339,228.88L339.26,227.84L339.76,229.68L340.02,231.56L340.52,231.86L340.77,232.35L341.03,232.3L341.28,233.2L342.29,231.63L342.55,231.23L343.05,231.73L343.3,231.27L343.56,231.19L344.32,231.66L344.57,234.57L344.82,234.1L345.08,235.36L345.33,236.27L345.58,235L345.83,235.85L346.09,235.49L346.34,235.68L346.59,234.77L347.35,234.79L347.61,237.3L348.36,236.66L348.62,237.26L348.87,237.02L349.12,238L350.14,235.24L350.39,235.57L350.64,235.3L351.91,234.74L352.16,236.34L352.41,236.09L352.67,236.74L352.92,236.7L353.42,236.23L353.68,234.74L354.44,231.92L354.69,232.36L354.94,232.1L355.2,232.1L355.45,230.97L355.7,228.19L356.21,230.03L356.46,229.2L357.22,229.14L357.47,230.7L360,236.91L360.25,236.48L360.51,236.37L361.52,236.33L361.77,235.37L362.53,236.43L362.78,235.73L363.04,236.16L363.29,235.55L363.54,234.82L364.3,234.18L364.56,233.36L365.31,233.59L365.57,232.98L366.33,232.33L366.58,234.54L367.34,236.75L367.59,236.46L367.84,236.34L368.35,236.26L368.6,235.61L369.36,235.61L369.62,236.53L371.13,234.86L371.39,235.31L371.64,235.89L371.89,235.7L372.15,234.99L373.92,235.38L374.17,235.2L375.43,235.35L375.69,236.63L376.45,236.5L376.7,235.31L379.99,235.73L380.24,236.33L382.26,235.83L382.52,235.56L384.04,236.23L384.29,238.65L385.05,239.36L385.3,239.09L385.55,242.02L386.82,245.88L387.07,245.38L387.32,246.28L387.58,246.12L387.83,244.41L388.08,244.33L388.34,245.35L388.59,244.58L388.84,244.87L389.1,245.83L389.35,245.58L389.6,246.37L389.85,247.28L390.11,247.68L390.36,247.46L390.61,246.92L392.13,248.39L392.38,248.33L393.4,244.89L393.65,245.82L393.9,245.36L394.41,245.11L394.66,246.14L394.91,245.97L395.17,246.76L395.42,245.71L395.93,245.94L396.18,246.42L396.69,245.64L397.19,245.97L397.44,246.02L397.7,245.12L398.2,245.3L398.46,245.28L399.47,247.16L399.72,246.56L400.73,246.75L400.99,246.47L402,247.03L402.25,246.97L405.79,247.76L406.05,246.71L408.32,246.69L408.58,245.75L409.84,244.86L410.09,246.16L411.11,245.98L411.36,245.96L414.9,245.57L415.15,245.23L417.68,245.47L417.94,245.08L419.2,244.8L419.45,241.99L421.48,240.26L421.73,241.27L424.51,239.97L424.77,239.29L425.78,240.48L426.03,240.41L426.54,240.16L426.79,239.95L429.07,236.15L429.32,232.94L429.57,233.84L429.83,230.56L430.33,229.04L430.59,230.29L430.84,232.4L431.09,232.68L431.34,229.07L432.1,231.09L432.36,230.3L432.61,229.89L432.86,229.64L433.12,227.22L433.37,226.7L433.87,227.27L434.13,228.6L434.89,226.95L435.14,229.03L435.39,230.98L435.9,230.53L436.15,229.67L436.66,231.05L436.91,229.84L437.16,230.12L437.42,229.27L437.67,228.94L437.92,227.14L439.44,223.89L439.69,221.49L440.96,210.31L441.21,217.45L441.46,212.68L441.72,214.42L441.97,218.87L442.22,219.78L442.48,218.93L442.73,214.41L443.24,218.24L443.49,217.35L443.74,216.4L444.25,212.03L444.5,213.65L444.75,216.76L445.01,214.98L445.26,216.63L445.51,221.05L445.76,218.57L446.02,224.09L446.27,223.24L446.52,219.46L447.03,219.06L447.54,220.72L447.79,222.44L449.31,223.92L449.56,223.58L451.08,215.02L451.33,216.3L451.84,214.39L452.09,214.8L452.34,216.78L452.6,216.12L452.85,216.67L453.1,218.56L453.35,221.85L453.86,220.59L454.11,221.15L454.37,220.71L454.62,218.48L455.38,221.54L455.63,220.46L456.14,221.51L456.39,220.61L456.64,221.33L457.15,223.96L457.66,223.49L457.91,222.99L458.41,219.62L458.92,219.81L459.17,220.68L459.43,220.04L459.93,220.75L460.19,221.6L461.45,220.7L461.7,220.97L463.22,221.78L463.47,223.11L464.23,229.38L464.49,228.86L464.74,228.88L464.99,229.43L465.25,228.7L465.5,228.5L465.75,228.31L466,228.83L466.26,229.04L466.76,229.89L467.02,228.88L467.27,228.95L467.52,227.52L467.77,227.56L468.03,228.59L469.04,229.04L469.29,229.66L470.56,228.89L470.81,229.54L471.32,231.81L471.57,227.27L472.08,223.8L472.58,224.28L472.83,225.14L473.85,225.03L474.1,224.34L474.86,224.9L475.11,226.71L475.36,226.67L475.62,225.73L476.63,227.08L476.88,227.92L477.39,227.59L477.64,228.64L478.4,231.23L478.65,232.58L478.91,232.19L479.16,233.55L480.42,230.77L480.68,231.52L480.93,232.08L481.69,232.75L481.94,231.99L482.7,231.54L482.95,232.17L484.22,233.25L484.47,233.14L484.98,235.13L485.23,232.66L485.99,232.99L486.24,231.74L487.25,232.8L487.51,232.6L488.27,232.59L488.52,232.98L488.77,232.95L489.03,233.79L490.29,229.2L490.54,229.53L490.8,230.31L491.56,229.09L491.81,229.28L492.82,226.22L493.07,226.17L494.34,228.26L494.59,228.11L494.84,228.41L495.1,227.52L496.11,223.96L496.36,224.58L497.12,224.8L497.37,225.24L498.64,221.6L498.89,222.61L499.9,220.84L500.16,222.48L500.41,222.31L500.66,223.26L500.92,221.5L501.17,223.48L501.42,223.58L502.18,222.35L502.43,223.41L503.7,227.51L503.95,227.65L504.96,225.64L505.22,225.47L506.48,230.19L506.74,241.64L506.99,239.33L507.49,239.99L507.75,241.47L508.25,240.59L508.51,236.88L509.01,236.91L509.26,238.29L509.77,234.77L510.28,234.84L510.53,235.8L511.04,237.93L511.29,235.95L511.79,235.27L512.05,234.54L512.81,234.55L513.06,232.68L514.83,234.34L515.08,234.35L515.34,235.13L515.59,233.28L516.1,232.73L516.35,233L516.6,234.19L516.85,234.2L517.11,233.28L518.37,230.64L518.63,230.59L519.64,225.99L519.89,226.35L520.4,225.93L520.65,224.9L520.9,222.24L521.41,223.63L521.66,226.89L521.91,227.5L522.17,226.71L522.42,224.89L522.67,223.09L523.18,224.48L523.43,223.33L523.94,223.11L524.19,223.91L525.2,226.76L525.46,226.31L525.71,226.59L525.96,225.24L526.72,223.22L526.97,224.15L527.23,221.4L527.73,223.39L527.99,222.83L528.49,223.4L528.75,222.99L529,222.94L529.5,222.56L529.76,224.69L530.77,224.19L531.02,223.85L532.29,224.76L532.54,223.42L532.79,223.49L533.05,224.72L533.8,225.77L534.06,225.39L534.31,225.2L535.83,225.66L536.08,224.48L537.09,224.86L537.35,225.01L538.36,225.2L538.61,225.43L539.88,224.49L540.13,223.9L540.89,223.31L541.14,222.42L542.15,217.72L542.41,216.9L542.66,215.2L542.91,217.95L543.17,217.2L543.42,217.36L543.67,215.25L544.94,214.74L545.19,216.56L546.71,213.27L546.96,214.3L547.72,215.85L547.97,215.5L548.23,215.57L548.48,215.14L548.73,216.73L550,215.39L550.25,215.51L550.5,214.38L550.75,216.55L551.01,221.1L551.26,220.06L551.51,221.39L551.77,220.96L552.02,220.61L552.27,221.54L552.78,220.64L553.03,220.49L553.28,220.33L553.54,220.79L553.79,219.4L555.06,217.79L555.31,218.4L556.07,221.17L556.32,219.15L557.33,219.24L557.59,218.75L558.6,219.85L558.85,219.39L559.1,218.92L559.36,219.63L559.61,219.41L559.86,218.46L560.62,216.66L561.38,216.49L562.65,215.27L562.9,214.59L563.91,209.95L564.16,210.25L564.42,210.08L564.67,207.82L564.92,209.31L565.43,208.24L565.68,207.33L566.19,208.23L566.44,206.67L566.69,205.95L566.95,200.32L567.2,200.38L567.45,203.23L568.72,197.61L568.97,197.45L569.48,198.86L569.73,195.9L570.99,188.4L571.25,189.46L571.5,189.48L571.75,186.59L572.01,188.05L572.26,194.21L572.51,194.37L572.76,192L573.27,184.57L573.78,186.22L574.03,185.27L574.28,188.17L574.79,185.66L575.04,186.26L576.05,190.67L576.31,187.77L577.07,185.38L577.32,178.01L578.08,168.04L578.33,169.57L578.58,172.19L580.35,155.52L580.61,154.44L583.14,102.12L583.39,104.24L583.64,111.63L584.15,128.89L584.4,115.68L584.66,108.39L585.41,121.62L585.67,118.35L585.92,120.53L586.17,122.56L586.43,140.95L586.68,132.46L587.19,135.25L587.44,134.95L587.69,134.16L587.94,142.48L588.45,127.36L588.7,127.54L588.96,132.04L589.21,130.39L589.46,122.71L590.47,108.08L590.73,109.5L591.74,74.43L591.99,76L592.25,77.56L592.5,71.28L592.75,74.29L593,69.4L593.26,57.92L593.51,59.74L593.76,43.36L594.02,42.53L594.27,36.92L595.53,80.54L595.79,81.13L596.04,85.22L596.29,67.72L596.55,72.6L596.8,64.19L597.05,71.89L597.3,70.46L597.56,70.52L597.81,61.59L598.82,35.89L599.08,37.73L599.33,22.5L599.83,43.28L600.09,39.79L600.34,31.74L602.36,59.65L602.62,46.28L604.39,29.74L604.64,36.67L605.15,31.01L605.4,34.38L605.65,42.73L606.67,26.54L606.92,27.76L607.17,13.7L607.68,14.44L607.93,21.22L608.18,24.68L608.44,42.08L608.69,43.99L608.94,41.08L609.2,51.07L610.21,70.16L610.46,50.62L610.71,46.68L610.97,47.5L611.22,52.44L611.73,35.8L611.98,40.46L612.23,38.25L612.48,53.3L612.74,37.37L612.99,41.38L613.24,37.64L613.5,32L613.75,34.23L614,43.47L614.25,40.18L614.51,69.59L615.01,66.75L615.27,78.9L615.52,80.09L615.77,91.45L616.03,93.9L616.28,116.9L616.53,102.18L617.04,114.82L617.29,125.59L618.05,107.98L618.3,111.31L618.81,126.19L619.06,122.06L619.31,115.61L619.57,118.14L619.82,114.67L620.07,108.31L621.34,130.65L621.59,115.57L622.35,122.55L622.6,108.74L623.11,103.64L623.36,111.66L623.62,112.81L623.87,121.63L624.12,122.3L624.37,121.98L624.63,137.64L625.39,126.01L625.64,137.79L625.89,135.65L626.15,126.06L626.4,126.9L626.65,121.32L627.16,130.26L627.41,128.99L627.66,125.99L627.92,123.58L628.17,129.58L628.42,127.68L628.68,129.15L628.93,132.96L629.69,127.66L629.94,131.88L630.95,138.63L631.21,138.2L631.46,137.17L631.96,144.92L632.22,135.95L632.47,135.16L632.72,130.22L633.48,115.59L633.74,107.54L634.49,96.52L634.75,98.89L635,99.2\" style=\"vector-effect: non-scaling-stroke; fill: none; stroke: rgb(31, 119, 180); stroke-opacity: 1; stroke-width: 2px; opacity: 1;\"/></g><g class=\"points\"/><g class=\"text\"/></g></g></g><g class=\"overplot\"/><path class=\"xlines-above crisp\" d=\"M0,0\" style=\"fill: none;\"/><path class=\"ylines-above crisp\" d=\"M0,0\" style=\"fill: none;\"/><g class=\"overlines-above\"/><g class=\"xaxislayer-above\"><g class=\"xtick\"><text text-anchor=\"middle\" x=\"0\" y=\"333\" transform=\"translate(61.82,0)\" style=\"font-family: 'Open Sans', verdana, arial, sans-serif; font-size: 12px; fill: rgb(42, 63, 95); fill-opacity: 1; white-space: pre;\">2015</text></g><g class=\"xtick\"><text text-anchor=\"middle\" x=\"0\" y=\"333\" transform=\"translate(154.16,0)\" style=\"font-family: 'Open Sans', verdana, arial, sans-serif; font-size: 12px; fill: rgb(42, 63, 95); fill-opacity: 1; white-space: pre;\">2016</text></g><g class=\"xtick\"><text text-anchor=\"middle\" x=\"0\" y=\"333\" transform=\"translate(246.75,0)\" style=\"font-family: 'Open Sans', verdana, arial, sans-serif; font-size: 12px; fill: rgb(42, 63, 95); fill-opacity: 1; white-space: pre;\">2017</text></g><g class=\"xtick\"><text text-anchor=\"middle\" x=\"0\" y=\"333\" transform=\"translate(339.09,0)\" style=\"font-family: 'Open Sans', verdana, arial, sans-serif; font-size: 12px; fill: rgb(42, 63, 95); fill-opacity: 1; white-space: pre;\">2018</text></g><g class=\"xtick\"><text text-anchor=\"middle\" x=\"0\" y=\"333\" transform=\"translate(431.43,0)\" style=\"font-family: 'Open Sans', verdana, arial, sans-serif; font-size: 12px; fill: rgb(42, 63, 95); fill-opacity: 1; white-space: pre;\">2019</text></g><g class=\"xtick\"><text text-anchor=\"middle\" x=\"0\" y=\"333\" transform=\"translate(523.77,0)\" style=\"font-family: 'Open Sans', verdana, arial, sans-serif; font-size: 12px; fill: rgb(42, 63, 95); fill-opacity: 1; white-space: pre;\">2020</text></g><g class=\"xtick\"><text text-anchor=\"middle\" x=\"0\" y=\"333\" transform=\"translate(616.37,0)\" style=\"font-family: 'Open Sans', verdana, arial, sans-serif; font-size: 12px; fill: rgb(42, 63, 95); fill-opacity: 1; white-space: pre;\">2021</text></g></g><g class=\"yaxislayer-above\"><g class=\"ytick\"><text text-anchor=\"end\" x=\"34\" y=\"4.199999999999999\" transform=\"translate(0,306.99)\" style=\"font-family: 'Open Sans', verdana, arial, sans-serif; font-size: 12px; fill: rgb(42, 63, 95); fill-opacity: 1; white-space: pre;\">0</text></g><g class=\"ytick\"><text text-anchor=\"end\" x=\"34\" y=\"4.199999999999999\" transform=\"translate(0,268.05)\" style=\"font-family: 'Open Sans', verdana, arial, sans-serif; font-size: 12px; fill: rgb(42, 63, 95); fill-opacity: 1; white-space: pre;\">10k</text></g><g class=\"ytick\"><text text-anchor=\"end\" x=\"34\" y=\"4.199999999999999\" transform=\"translate(0,229.11)\" style=\"font-family: 'Open Sans', verdana, arial, sans-serif; font-size: 12px; fill: rgb(42, 63, 95); fill-opacity: 1; white-space: pre;\">20k</text></g><g class=\"ytick\"><text text-anchor=\"end\" x=\"34\" y=\"4.199999999999999\" transform=\"translate(0,190.17)\" style=\"font-family: 'Open Sans', verdana, arial, sans-serif; font-size: 12px; fill: rgb(42, 63, 95); fill-opacity: 1; white-space: pre;\">30k</text></g><g class=\"ytick\"><text text-anchor=\"end\" x=\"34\" y=\"4.199999999999999\" transform=\"translate(0,151.23000000000002)\" style=\"font-family: 'Open Sans', verdana, arial, sans-serif; font-size: 12px; fill: rgb(42, 63, 95); fill-opacity: 1; white-space: pre;\">40k</text></g><g class=\"ytick\"><text text-anchor=\"end\" x=\"34\" y=\"4.199999999999999\" transform=\"translate(0,112.28)\" style=\"font-family: 'Open Sans', verdana, arial, sans-serif; font-size: 12px; fill: rgb(42, 63, 95); fill-opacity: 1; white-space: pre;\">50k</text></g><g class=\"ytick\"><text text-anchor=\"end\" x=\"34\" y=\"4.199999999999999\" transform=\"translate(0,73.34)\" style=\"font-family: 'Open Sans', verdana, arial, sans-serif; font-size: 12px; fill: rgb(42, 63, 95); fill-opacity: 1; white-space: pre;\">60k</text></g></g><g class=\"overaxes-above\"/></g></g><g class=\"polarlayer\"/><g class=\"ternarylayer\"/><g class=\"geolayer\"/><g class=\"funnelarealayer\"/><g class=\"pielayer\"/><g class=\"treemaplayer\"/><g class=\"sunburstlayer\"/><g class=\"glimages\"/><defs id=\"topdefs-981181\"><g class=\"clips\"/><clipPath id=\"legend981181\"><rect width=\"78\" height=\"29\" x=\"0\" y=\"0\"/></clipPath></defs><g class=\"layer-above\"><g class=\"imagelayer\"/><g class=\"shapelayer\"/></g><g class=\"infolayer\"><g class=\"legend\" pointer-events=\"all\" transform=\"translate(592,11.519999999999996)\"><rect class=\"bg\" shape-rendering=\"crispEdges\" style=\"stroke: rgb(68, 68, 68); stroke-opacity: 1; fill: rgb(255, 255, 255); fill-opacity: 1; stroke-width: 0px;\" width=\"78\" height=\"29\" x=\"0\" y=\"0\"/><g class=\"scrollbox\" transform=\"\" clip-path=\"url('#legend981181')\"><g class=\"groups\"><g class=\"traces\" transform=\"translate(0,14.5)\" style=\"opacity: 1;\"><text class=\"legendtext\" text-anchor=\"start\" x=\"40\" y=\"4.680000000000001\" style=\"font-family: 'Open Sans', verdana, arial, sans-serif; font-size: 12px; fill: rgb(42, 63, 95); fill-opacity: 1; white-space: pre;\">Close</text><g class=\"layers\" style=\"opacity: 1;\"><g class=\"legendfill\"/><g class=\"legendlines\"><path class=\"js-line\" d=\"M5,0h30\" style=\"fill: none; stroke: rgb(31, 119, 180); stroke-opacity: 1; stroke-width: 2px;\"/></g><g class=\"legendsymbols\"><g class=\"legendpoints\"/></g></g><rect class=\"legendtoggle\" x=\"0\" y=\"-9.5\" width=\"74.859375\" height=\"19\" style=\"fill: rgb(0, 0, 0); fill-opacity: 0;\"/></g></g></g><rect class=\"scrollbar\" rx=\"20\" ry=\"3\" width=\"0\" height=\"0\" style=\"fill: rgb(128, 139, 164); fill-opacity: 1;\" x=\"0\" y=\"0\"/></g><g class=\"g-gtitle\"/><g class=\"g-xtitle\"/><g class=\"g-ytitle\"/></g></svg>"
      ]
     },
     "metadata": {},
     "output_type": "display_data"
    }
   ],
   "source": [
    "price.vbt.plot().show_svg()"
   ]
  },
  {
   "cell_type": "code",
   "execution_count": 6,
   "metadata": {},
   "outputs": [],
   "source": [
    "def roll_in_and_out_samples(price, **kwargs):\n",
    "    return price.vbt.rolling_split(**kwargs)"
   ]
  },
  {
   "cell_type": "code",
   "execution_count": 7,
   "metadata": {},
   "outputs": [
    {
     "data": {
      "image/svg+xml": [
       "<svg class=\"main-svg\" xmlns=\"http://www.w3.org/2000/svg\" xmlns:xlink=\"http://www.w3.org/1999/xlink\" width=\"700\" height=\"216\" style=\"\" viewBox=\"0 0 700 216\"><rect x=\"0\" y=\"0\" width=\"700\" height=\"216\" style=\"fill: rgb(255, 255, 255); fill-opacity: 1;\"/><defs id=\"defs-5bee8b\"><g class=\"clips\"><clipPath id=\"clip5bee8bxyplot\" class=\"plotclip\"><rect width=\"640\" height=\"142\"/></clipPath><clipPath class=\"axesclip\" id=\"clip5bee8bx\"><rect x=\"30\" y=\"0\" width=\"640\" height=\"216\"/></clipPath><clipPath class=\"axesclip\" id=\"clip5bee8by\"><rect x=\"0\" y=\"44\" width=\"700\" height=\"142\"/></clipPath><clipPath class=\"axesclip\" id=\"clip5bee8bxy\"><rect x=\"30\" y=\"44\" width=\"640\" height=\"142\"/></clipPath></g><g class=\"gradients\"><linearGradient x1=\"1\" x2=\"0\" y1=\"0\" y2=\"0\" id=\"g5bee8b-legendfill-9dcb163b-fbd1-451b-98b2-2b2128997e5c\"><stop offset=\"0%\" stop-color=\"rgb(31, 119, 180)\" stop-opacity=\"1\"/><stop offset=\"100%\" stop-color=\"rgb(31, 119, 180)\" stop-opacity=\"1\"/></linearGradient><linearGradient x1=\"1\" x2=\"0\" y1=\"0\" y2=\"0\" id=\"g5bee8b-legendfill-cfb53d3f-6576-4bc6-819f-adda8b7ad5e3\"><stop offset=\"0%\" stop-color=\"rgb(255, 127, 14)\" stop-opacity=\"1\"/><stop offset=\"100%\" stop-color=\"rgb(255, 127, 14)\" stop-opacity=\"1\"/></linearGradient></g></defs><g class=\"bglayer\"><rect class=\"bg\" x=\"30\" y=\"44\" width=\"640\" height=\"142\" style=\"fill: rgb(229, 236, 246); fill-opacity: 1; stroke-width: 0;\"/></g><g class=\"layer-below\"><g class=\"imagelayer\"/><g class=\"shapelayer\"/></g><g class=\"cartesianlayer\"><g class=\"subplot xy\"><g class=\"layer-subplot\"><g class=\"shapelayer\"/><g class=\"imagelayer\"/></g><g class=\"gridlayer\"><g class=\"x\"><path class=\"xgrid crisp\" transform=\"translate(57.14,0)\" d=\"M0,44v142\" style=\"stroke: rgb(255, 255, 255); stroke-opacity: 1; stroke-width: 1px;\"/><path class=\"xgrid crisp\" transform=\"translate(150.18,0)\" d=\"M0,44v142\" style=\"stroke: rgb(255, 255, 255); stroke-opacity: 1; stroke-width: 1px;\"/><path class=\"xgrid crisp\" transform=\"translate(243.46,0)\" d=\"M0,44v142\" style=\"stroke: rgb(255, 255, 255); stroke-opacity: 1; stroke-width: 1px;\"/><path class=\"xgrid crisp\" transform=\"translate(336.49,0)\" d=\"M0,44v142\" style=\"stroke: rgb(255, 255, 255); stroke-opacity: 1; stroke-width: 1px;\"/><path class=\"xgrid crisp\" transform=\"translate(429.52,0)\" d=\"M0,44v142\" style=\"stroke: rgb(255, 255, 255); stroke-opacity: 1; stroke-width: 1px;\"/><path class=\"xgrid crisp\" transform=\"translate(522.55,0)\" d=\"M0,44v142\" style=\"stroke: rgb(255, 255, 255); stroke-opacity: 1; stroke-width: 1px;\"/><path class=\"xgrid crisp\" transform=\"translate(615.84,0)\" d=\"M0,44v142\" style=\"stroke: rgb(255, 255, 255); stroke-opacity: 1; stroke-width: 1px;\"/></g><g class=\"y\"><path class=\"ygrid crisp\" transform=\"translate(0,183.63)\" d=\"M30,0h640\" style=\"stroke: rgb(255, 255, 255); stroke-opacity: 1; stroke-width: 1px;\"/><path class=\"ygrid crisp\" transform=\"translate(0,164.7)\" d=\"M30,0h640\" style=\"stroke: rgb(255, 255, 255); stroke-opacity: 1; stroke-width: 1px;\"/><path class=\"ygrid crisp\" transform=\"translate(0,145.76999999999998)\" d=\"M30,0h640\" style=\"stroke: rgb(255, 255, 255); stroke-opacity: 1; stroke-width: 1px;\"/><path class=\"ygrid crisp\" transform=\"translate(0,126.83)\" d=\"M30,0h640\" style=\"stroke: rgb(255, 255, 255); stroke-opacity: 1; stroke-width: 1px;\"/><path class=\"ygrid crisp\" transform=\"translate(0,107.9)\" d=\"M30,0h640\" style=\"stroke: rgb(255, 255, 255); stroke-opacity: 1; stroke-width: 1px;\"/><path class=\"ygrid crisp\" transform=\"translate(0,88.97)\" d=\"M30,0h640\" style=\"stroke: rgb(255, 255, 255); stroke-opacity: 1; stroke-width: 1px;\"/><path class=\"ygrid crisp\" transform=\"translate(0,70.03)\" d=\"M30,0h640\" style=\"stroke: rgb(255, 255, 255); stroke-opacity: 1; stroke-width: 1px;\"/><path class=\"ygrid crisp\" transform=\"translate(0,51.1)\" d=\"M30,0h640\" style=\"stroke: rgb(255, 255, 255); stroke-opacity: 1; stroke-width: 1px;\"/></g></g><g class=\"zerolinelayer\"/><path class=\"xlines-below\"/><path class=\"ylines-below\"/><g class=\"overlines-below\"/><g class=\"xaxislayer-below\"/><g class=\"yaxislayer-below\"/><g class=\"overaxes-below\"/><g class=\"plot\" transform=\"translate(30,44)\" clip-path=\"url('#clip5bee8bxyplot')\"><g class=\"heatmaplayer mlayer\"><g class=\"hm\"><image xmlns=\"http://www.w3.org/2000/svg\" preserveAspectRatio=\"none\" height=\"142\" width=\"640\" x=\"0\" y=\"0\" xlink:href=\"data:image/png;base64,iVBORw0KGgoAAAANSUhEUgAAAoAAAACOCAYAAAChWLl6AAAMTUlEQVR4Xu3b2ZElSRUE0GpJUGj0QQb0QSEkGcxmwBiWpl4usXj46e/MjHuPx4fbs+off/rzX3/98o/AhwJ/+8svPz581GMECBAgQIDApgI/FMBNk9l0LAVw02CMRYAAAQIELggogBewPPr1pQC6BQQIECBAIF9AAczPcOoGCuBUbocRIECAAIEhAgrgENZzP6oAnputzQgQIECgR+DxH/T7G8Key/LGpgrkG4q+QYAAAQIEngkogM/8vH1RQAG8COZxAgQIECAwQEABHIDqkz8XUADdDgIECBAgsF5AAVyfQdUECmBV3JYlQIAAgU0FHhfAJ3v5+8Enep3vKpCduduaAAECBN4VUADf9fS1wQIK4GBgnydAgACBCgEFsCLmc5ZUAM/J0iYECBAgsE5AAVxn7+QbAgrgDTSvECBAgACB/xBQAF2JKAEFMCouwxIgQIDApgJLC+BTE/+J5Klg1/vKY1fetiVAgACBnwsogG5HjYACWBO1RQkQIEDgGwEF0BWpEVAAa6K2KAECBAgogO4Agd8FFEA3gQABAgQI/C7gF0A3oUZAAayJ2qIECBAgcPIvgE/S9R9Inuh1vqtAduZuawIECJwoEP0L4JNAFMAnep3vKoCduduaAAECJwoogCemaqchAgrgEFYfJUCAAIEFAgrgAnRHZgoogJm5mZoAAQIE/ltAAXQrCHwooAB+COUxAgQIENheoLYAPk3G3xA+Fex6X3nsytu2BAgQ2F1AAbyZkAJ4E670NQWwNHhrEyBAYFMBBfBmMArgTbjS1xTA0uCtTYAAgU0FFMCbwSiAN+FKX1MAS4O3NgECBDYVUAAXBaNALoIPPVaBDA3O2AQIENhUQAFcFIwCuAg+9FgFMDQ4YxMgQGBTAQVwUTAK4CL40GMVwNDgjE2AAIFNBRTARcEogIvgQ49VAEODMzYBAgQ2FVAAFwWjAC6CDz1WAQwNztgECBDYVEAB3DSY/zeW8hgY2uKRFcjFATieAAECmwkogJsF8sk4CuAnSp75o4AC6D4QIECAwB8FFMDA+6AABoa2eGQFcHEAjidAgMBmAgrgZoF8Mo4C+ImSZ/wC6A4QIECAwM8EFMDAu6EABoa2eGS/AC4OwPEECBDYTEAB3CyQGeMokDOUzzlDeTwnS5sQIEDgnwIKYOFdUAALQ3+wsgL4AM+rBAgQ2FRAAdw0mJFjKYAjdc/7tgJ4XqY2IkCAgAJYeAcUwMLQH6ysAD7A8yoBAgQ2FVAANw1m5FgK4Ejd876tAJ6XqY0IECCgALoDlwSUx0tcHv76+lIgXQMCBAjsJ6AA7pfJ1hMpgFvHs+VwCuCWsRiKAIFyAQWw/AJcXV8BvCrmeQXQHSBAgMB+AgrgfplsPZECuHU8Ww6nAG4Zi6EIECgXUADLL8Ds9RXI2eLZ5ymP2fmZngCBfQUUwH2zOXIyBfDIWIctpQAOo/VhAgTKBRTA8gswe30FcLZ49nkKYHZ+pidAYF8BBXDfbI6cTAE8MtZhSymAw2h9mACBcgEFsPwCzF5fAZwtnn2eApidn+kJENhXQAHcNxuT/Q8BBdK1uCKgQF7R8iwBAk0CCmBT2gfsqgAeEOLEFRTAidiOIkAgSkABjIrLsAqgO3BFQAG8ouVZAgSaBBTAprQP2FUBPCDEiSsogBOxHUWAQJSAAhgVl2EVQHfgioACeEXLswQINAkogE1pl++qPJZfgBvrK5A30LxCgECEgAIYEZMh3xBQAN9Q7PqGAtiVt20JNAkogE1pl++qAJZfgBvrK4A30LxCgECEgAIYEZMh3xBQAN9Q7PqGAtiVt20JNAkogE1pl++qAJZfgBvrK4A30LxCgECEgAIYEZMhdxBQIHdIIWcG5TEnK5MSaBRQABtTt/MtAQXwFlvtSwpgbfQWJxAhoABGxGTIHQQUwB1SyJlBAczJyqQEGgUUwMbU7XxLQAG8xVb7kgJYG73FCUQIKIARMRnyBAEF8oQU5+2gQM6zdhKBRgEFsDF1Oy8RUACXsMceqgDGRmdwAhECCmBETIY8QUABPCHFeTsogPOsnUSgUUABbEzdzksEFMAl7LGHKoCx0RmcQISAAhgRkyFPEFAAT0hx3g4K4DxrJxFoFFAAG1O3c5yA8hgX2dKBlcel/A4nECGgAEbEZMh2AQWw/QZc218BvOblaQKNAgpgY+p2jhNQAOMiWzqwAriU3+EEIgQUwIiYDNkuoAC234Br+yuA17w8TaBRQAFsTN3OcQIKYFxkSwdWAJfyO5xAhIACGBGTIQk8E1Agn/m1va1AtiVu30YBBbAxdTvXCSiAdZE/WlgBfMTnZQIRAgpgREyGJPBMQAF85tf2tgLYlrh9GwUUwMbU7VwnoADWRf5oYQXwEZ+XCUQIKIARMRmSwFoBBXKtf9rpCmRaYuZtFFAAG1O3M4GLAgrgRbDyxxXA8gtg/QgBBTAiJkMSWCugAK71TztdAUxLzLyNAgpgY+p2JnBRQAG8CFb+uAJYfgGsHyGgAEbEZEgCawUUwLX+aacrgGmJmbdRQAFsTN3OBCYKKI8TsQ84Snk8IEQrRAgogBExGZJAroACmJvdiskVwBXqzmwUUAAbU7czgYkCCuBE7AOOUgAPCNEKEQIKYERMhiSQK6AA5ma3YnIFcIW6MxsFFMDG1O1MYKKAAjgR+4CjFMADQrRChIACGBGTIQn0CiiQvdnf2VyBvKPmnUYBBbAxdTsTCBJQAIPC2mBUBXCDEIwQIaAARsRkSAK9Agpgb/Z3NlcA76h5p1FAAWxM3c4EggQUwKCwNhhVAdwgBCNECCiAETEZkkCvgALYm/2dzRXAO2reaRRQABtTtzOBEgHlsSToF9dUIF/E9KmtBRTAreMxHAECTwQUwCd6ne8qgJ25N26tADambmcCJQIKYEnQL66pAL6I6VNbCyiAW8djOAIEnggogE/0Ot9VADtzb9xaAWxM3c4ECHwkoEB+xOShfwgoj65CkoACmJSWWQkQmCqgAE7ljj9MAYyPsGoBBbAqbssSIHBFQAG8ouVZBdAdSBJQAJPSMisBAlMFFMCp3PGHKYDxEVYtoABWxW1ZAgSuCCiAV7Q8qwC6A0kCCmBSWmYlQCBKQIGMimv5sArk8giqBlAAq+K2LAECMwUUwJna+WcpgPkZJm2gACalZVYCBKIEFMCouJYPqwAuj6BqAAWwKm7LEiAwU0ABnKmdf5YCmJ9h0gYKYFJaZiVAIEpAAYyKa/mwCuDyCKoGUACr4rYsAQIpAspjSlJ7zKk87pFD0hQKYFJaZiVAoEZAAayJ+pVFFcBXGKs+ogBWxW1ZAgRSBBTAlKT2mFMB3COHpCkUwKS0zEqAQI2AAlgT9SuLKoCvMFZ9RAGsituyBAikCCiAKUntMacCuEcOSVMogElpmZUAAQIfCiiQH0J57DcBBbLvIiiAfZnbmACBAgEFsCDkF1dUAF/EDPmUAhgSlDEJECBwRUABvKLlWQWw7w4ogH2Z25gAgQIBBbAg5BdXVABfxAz5lAIYEpQxCRAgMEtAeZwlfc45CmRelgpgXmYmJkCAwFABBXAo75EfVwDzYlUA8zIzMQECBIYKKIBDeY/8uAKYF6sCmJeZiQkQIDBUQAEcynvkxxXAvFgVwLzMTEyAAIGhAgrgUN4jP64A5sWqAOZlZmICBAhsLaBAbh3PdsMpj2siUQDXuDuVAAECxwoogMdGO2QxBXAI67cfVQC/JfIAAQIECFwRUACvaHlWAVxzBxTANe5OJUCAwLECCuCx0Q5ZTAEcwvrtRxXAb4k8QIAAAQJXBBTAK1qeVQDX3AEFcI27UwkQIEDgJwIKpKtxRUCBvKL1r2cVwHtu3iJAgACBQQIK4CDYQz+rAN4LVgG85+YtAgQIEBgkoAAOgj30swrgvWAVwHtu3iJAgACBQQIK4CDYQz+rAN4LVgG85+YtAgQIEBgkoAAOgj30swrgvWAVwHtu3iJAgACBDQWUxw1DCRipsUQqgAEX04gECBAg8JmAAviZk6f+XUABdCMIECBAgECwgAIYHN7C0RXAhfiOJkCAAAECTwUUwKeCne8rgJ2525oAAQIECPwmoEC6CFcFUsujvwG8mrTnCRAgQOBYAQXw2GiHLaYADqP1YQIECBAgMEdAAZzjfNIpCuBJadqFAAECBCoFFMDK2B8trQA+4vMyAQIECBBYL6AArs8gbYLUAvh3Y084rdWLp4QAAAAASUVORK5CYII=\" style=\"opacity: 1;\"/></g><g class=\"hm\"><image xmlns=\"http://www.w3.org/2000/svg\" preserveAspectRatio=\"none\" height=\"142\" width=\"640\" x=\"0\" y=\"0\" xlink:href=\"data:image/png;base64,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\" style=\"opacity: 1;\"/></g></g></g><g class=\"overplot\"/><path class=\"xlines-above crisp\" d=\"M0,0\" style=\"fill: none;\"/><path class=\"ylines-above crisp\" d=\"M0,0\" style=\"fill: none;\"/><g class=\"overlines-above\"/><g class=\"xaxislayer-above\"><g class=\"xtick\"><text text-anchor=\"middle\" x=\"0\" y=\"199\" transform=\"translate(57.14,0)\" style=\"font-family: 'Open Sans', verdana, arial, sans-serif; font-size: 12px; fill: rgb(42, 63, 95); fill-opacity: 1; white-space: pre;\">2015</text></g><g class=\"xtick\"><text text-anchor=\"middle\" x=\"0\" y=\"199\" transform=\"translate(150.18,0)\" style=\"font-family: 'Open Sans', verdana, arial, sans-serif; font-size: 12px; fill: rgb(42, 63, 95); fill-opacity: 1; white-space: pre;\">2016</text></g><g class=\"xtick\"><text text-anchor=\"middle\" x=\"0\" y=\"199\" transform=\"translate(243.46,0)\" style=\"font-family: 'Open Sans', verdana, arial, sans-serif; font-size: 12px; fill: rgb(42, 63, 95); fill-opacity: 1; white-space: pre;\">2017</text></g><g class=\"xtick\"><text text-anchor=\"middle\" x=\"0\" y=\"199\" transform=\"translate(336.49,0)\" style=\"font-family: 'Open Sans', verdana, arial, sans-serif; font-size: 12px; fill: rgb(42, 63, 95); fill-opacity: 1; white-space: pre;\">2018</text></g><g class=\"xtick\"><text text-anchor=\"middle\" x=\"0\" y=\"199\" transform=\"translate(429.52,0)\" style=\"font-family: 'Open Sans', verdana, arial, sans-serif; font-size: 12px; fill: rgb(42, 63, 95); fill-opacity: 1; white-space: pre;\">2019</text></g><g class=\"xtick\"><text text-anchor=\"middle\" x=\"0\" y=\"199\" transform=\"translate(522.55,0)\" style=\"font-family: 'Open Sans', verdana, arial, sans-serif; font-size: 12px; fill: rgb(42, 63, 95); fill-opacity: 1; white-space: pre;\">2020</text></g><g class=\"xtick\"><text text-anchor=\"middle\" x=\"0\" y=\"199\" transform=\"translate(615.84,0)\" style=\"font-family: 'Open Sans', verdana, arial, sans-serif; font-size: 12px; fill: rgb(42, 63, 95); fill-opacity: 1; white-space: pre;\">2021</text></g></g><g class=\"yaxislayer-above\"><g class=\"ytick\"><text text-anchor=\"end\" x=\"29\" y=\"4.199999999999999\" transform=\"translate(0,183.63)\" style=\"font-family: 'Open Sans', verdana, arial, sans-serif; font-size: 12px; fill: rgb(42, 63, 95); fill-opacity: 1; white-space: pre;\">29</text></g><g class=\"ytick\"><text text-anchor=\"end\" x=\"29\" y=\"4.199999999999999\" transform=\"translate(0,164.7)\" style=\"font-family: 'Open Sans', verdana, arial, sans-serif; font-size: 12px; fill: rgb(42, 63, 95); fill-opacity: 1; white-space: pre;\">25</text></g><g class=\"ytick\"><text text-anchor=\"end\" x=\"29\" y=\"4.199999999999999\" transform=\"translate(0,145.76999999999998)\" style=\"font-family: 'Open Sans', verdana, arial, sans-serif; font-size: 12px; fill: rgb(42, 63, 95); fill-opacity: 1; white-space: pre;\">21</text></g><g class=\"ytick\"><text text-anchor=\"end\" x=\"29\" y=\"4.199999999999999\" transform=\"translate(0,126.83)\" style=\"font-family: 'Open Sans', verdana, arial, sans-serif; font-size: 12px; fill: rgb(42, 63, 95); fill-opacity: 1; white-space: pre;\">17</text></g><g class=\"ytick\"><text text-anchor=\"end\" x=\"29\" y=\"4.199999999999999\" transform=\"translate(0,107.9)\" style=\"font-family: 'Open Sans', verdana, arial, sans-serif; font-size: 12px; fill: rgb(42, 63, 95); fill-opacity: 1; white-space: pre;\">13</text></g><g class=\"ytick\"><text text-anchor=\"end\" x=\"29\" y=\"4.199999999999999\" transform=\"translate(0,88.97)\" style=\"font-family: 'Open Sans', verdana, arial, sans-serif; font-size: 12px; fill: rgb(42, 63, 95); fill-opacity: 1; white-space: pre;\">9</text></g><g class=\"ytick\"><text text-anchor=\"end\" x=\"29\" y=\"4.199999999999999\" transform=\"translate(0,70.03)\" style=\"font-family: 'Open Sans', verdana, arial, sans-serif; font-size: 12px; fill: rgb(42, 63, 95); fill-opacity: 1; white-space: pre;\">5</text></g><g class=\"ytick\"><text text-anchor=\"end\" x=\"29\" y=\"4.199999999999999\" transform=\"translate(0,51.1)\" style=\"font-family: 'Open Sans', verdana, arial, sans-serif; font-size: 12px; fill: rgb(42, 63, 95); fill-opacity: 1; white-space: pre;\">1</text></g></g><g class=\"overaxes-above\"/></g></g><g class=\"polarlayer\"/><g class=\"ternarylayer\"/><g class=\"geolayer\"/><g class=\"funnelarealayer\"/><g class=\"pielayer\"/><g class=\"treemaplayer\"/><g class=\"sunburstlayer\"/><g class=\"glimages\"/><defs id=\"topdefs-5bee8b\"><g class=\"clips\"/><clipPath id=\"legend5bee8b\"><rect width=\"218\" height=\"29\" x=\"0\" y=\"0\"/></clipPath></defs><g class=\"layer-above\"><g class=\"imagelayer\"/><g class=\"shapelayer\"/></g><g class=\"infolayer\"><g class=\"legend\" pointer-events=\"all\" transform=\"translate(452,12.159999999999997)\"><rect class=\"bg\" shape-rendering=\"crispEdges\" style=\"stroke: rgb(68, 68, 68); stroke-opacity: 1; fill: rgb(255, 255, 255); fill-opacity: 1; stroke-width: 0px;\" width=\"218\" height=\"29\" x=\"0\" y=\"0\"/><g class=\"scrollbox\" transform=\"\" clip-path=\"url('#legend5bee8b')\"><g class=\"groups\"><g class=\"traces\" transform=\"translate(0,14.5)\" style=\"opacity: 1;\"><text class=\"legendtext\" text-anchor=\"start\" x=\"40\" y=\"4.680000000000001\" style=\"font-family: 'Open Sans', verdana, arial, sans-serif; font-size: 12px; fill: rgb(42, 63, 95); fill-opacity: 1; white-space: pre;\">in-sample</text><g class=\"layers\" style=\"opacity: 1;\"><g class=\"legendfill\"/><g class=\"legendlines\"/><g class=\"legendsymbols\"><g class=\"legendpoints\"><path class=\"legend3dandfriends\" transform=\"translate(20,0)\" d=\"M-15,-2V4H15V-2Z\" style=\"stroke-miterlimit: 1; fill: url('#g5bee8b-legendfill-9dcb163b-fbd1-451b-98b2-2b2128997e5c');\"/></g></g></g><rect class=\"legendtoggle\" x=\"0\" y=\"-9.5\" width=\"101.890625\" height=\"19\" style=\"fill: rgb(0, 0, 0); fill-opacity: 0;\"/></g><g class=\"traces\" transform=\"translate(104.390625,14.5)\" style=\"opacity: 1;\"><text class=\"legendtext\" text-anchor=\"start\" x=\"40\" y=\"4.680000000000001\" style=\"font-family: 'Open Sans', verdana, arial, sans-serif; font-size: 12px; fill: rgb(42, 63, 95); fill-opacity: 1; white-space: pre;\">out-sample</text><g class=\"layers\" style=\"opacity: 1;\"><g class=\"legendfill\"/><g class=\"legendlines\"/><g class=\"legendsymbols\"><g class=\"legendpoints\"><path class=\"legend3dandfriends\" transform=\"translate(20,0)\" d=\"M-15,-2V4H15V-2Z\" style=\"stroke-miterlimit: 1; fill: url('#g5bee8b-legendfill-cfb53d3f-6576-4bc6-819f-adda8b7ad5e3');\"/></g></g></g><rect class=\"legendtoggle\" x=\"0\" y=\"-9.5\" width=\"110.609375\" height=\"19\" style=\"fill: rgb(0, 0, 0); fill-opacity: 0;\"/></g></g></g><rect class=\"scrollbar\" rx=\"20\" ry=\"3\" width=\"0\" height=\"0\" style=\"fill: rgb(128, 139, 164); fill-opacity: 1;\" x=\"0\" y=\"0\"/></g><g class=\"g-gtitle\"/><g class=\"g-xtitle\"/><g class=\"g-ytitle\"/></g></svg>"
      ]
     },
     "metadata": {},
     "output_type": "display_data"
    }
   ],
   "source": [
    "roll_in_and_out_samples(price, **split_kwargs, plot=True, trace_names=['in-sample', 'out-sample']).show_svg()"
   ]
  },
  {
   "cell_type": "code",
   "execution_count": 8,
   "metadata": {},
   "outputs": [
    {
     "name": "stdout",
     "output_type": "stream",
     "text": [
      "(550, 30) 30\n",
      "(180, 30) 30\n"
     ]
    }
   ],
   "source": [
    "(in_price, in_indexes), (out_price, out_indexes) = roll_in_and_out_samples(price, **split_kwargs)\n",
    "\n",
    "print(in_price.shape, len(in_indexes))  # in-sample\n",
    "print(out_price.shape, len(out_indexes))  # out-sample"
   ]
  },
  {
   "cell_type": "code",
   "execution_count": 9,
   "metadata": {},
   "outputs": [],
   "source": [
    "def simulate_holding(price, **kwargs):\n",
    "    pf = vbt.Portfolio.from_holding(price, **kwargs)\n",
    "    return pf.sharpe_ratio()"
   ]
  },
  {
   "cell_type": "code",
   "execution_count": 10,
   "metadata": {},
   "outputs": [
    {
     "name": "stdout",
     "output_type": "stream",
     "text": [
      "split_idx\n",
      "0     0.229171\n",
      "1     0.449998\n",
      "2     1.601063\n",
      "3     1.308247\n",
      "4     1.724180\n",
      "5     1.655244\n",
      "6     2.047643\n",
      "7     2.545951\n",
      "8     2.349842\n",
      "9     2.430171\n",
      "10    3.014641\n",
      "11    2.638306\n",
      "12    2.401355\n",
      "13    2.087606\n",
      "14    2.009798\n",
      "15    1.858262\n",
      "16    0.789906\n",
      "17    0.693215\n",
      "18    0.499107\n",
      "19    0.467097\n",
      "20    0.237548\n",
      "21    0.397018\n",
      "22    0.359669\n",
      "23    0.417747\n",
      "24    0.294617\n",
      "25    1.202716\n",
      "26    1.397991\n",
      "27    1.252581\n",
      "28    1.158597\n",
      "29    1.596662\n",
      "Name: sharpe_ratio, dtype: float64\n"
     ]
    }
   ],
   "source": [
    "in_hold_sharpe = simulate_holding(in_price, **pf_kwargs)\n",
    "\n",
    "print(in_hold_sharpe)"
   ]
  },
  {
   "cell_type": "code",
   "execution_count": 11,
   "metadata": {},
   "outputs": [],
   "source": [
    "def simulate_all_params(price, windows, **kwargs):\n",
    "    fast_ma, slow_ma = vbt.MA.run_combs(price, windows, r=2, short_names=['fast', 'slow'])\n",
    "    entries = fast_ma.ma_above(slow_ma, crossover=True)\n",
    "    exits = fast_ma.ma_below(slow_ma, crossover=True)\n",
    "    pf = vbt.Portfolio.from_signals(price, entries, exits, **kwargs)\n",
    "    return pf.sharpe_ratio()"
   ]
  },
  {
   "cell_type": "code",
   "execution_count": 12,
   "metadata": {},
   "outputs": [
    {
     "name": "stderr",
     "output_type": "stream",
     "text": [
      "/Users/olegpolakow/Documents/SourceTree/vectorbt/vectorbt/base/accessors.py:670: RuntimeWarning:\n",
      "\n",
      "invalid value encountered in greater\n",
      "\n",
      "/Users/olegpolakow/Documents/SourceTree/vectorbt/vectorbt/base/accessors.py:670: RuntimeWarning:\n",
      "\n",
      "invalid value encountered in less\n",
      "\n"
     ]
    },
    {
     "name": "stdout",
     "output_type": "stream",
     "text": [
      "fast_window  slow_window  split_idx\n",
      "10           11           0            0.856870\n",
      "                          1            1.113133\n",
      "                          2            0.496616\n",
      "                          3            0.342799\n",
      "                          4            0.770518\n",
      "                                         ...   \n",
      "48           49           25          -0.050013\n",
      "                          26          -0.204703\n",
      "                          27          -0.862195\n",
      "                          28          -1.013760\n",
      "                          29          -0.767927\n",
      "Name: sharpe_ratio, Length: 23400, dtype: float64\n"
     ]
    }
   ],
   "source": [
    "# Simulate all params for in-sample ranges\n",
    "in_sharpe = simulate_all_params(in_price, windows, **pf_kwargs)\n",
    "\n",
    "print(in_sharpe)"
   ]
  },
  {
   "cell_type": "code",
   "execution_count": 13,
   "metadata": {},
   "outputs": [],
   "source": [
    "def get_best_index(performance, higher_better=True):\n",
    "    if higher_better:\n",
    "        return performance[performance.groupby('split_idx').idxmax()].index\n",
    "    return performance[performance.groupby('split_idx').idxmin()].index"
   ]
  },
  {
   "cell_type": "code",
   "execution_count": 14,
   "metadata": {},
   "outputs": [
    {
     "name": "stdout",
     "output_type": "stream",
     "text": [
      "MultiIndex([(27, 29,  0),\n",
      "            (27, 29,  1),\n",
      "            (21, 25,  2),\n",
      "            (23, 25,  3),\n",
      "            (23, 25,  4),\n",
      "            (28, 48,  5),\n",
      "            (41, 42,  6),\n",
      "            (37, 43,  7),\n",
      "            (31, 45,  8),\n",
      "            (10, 21,  9),\n",
      "            (10, 21, 10),\n",
      "            (10, 21, 11),\n",
      "            (10, 21, 12),\n",
      "            (10, 21, 13),\n",
      "            (10, 21, 14),\n",
      "            (10, 22, 15),\n",
      "            (10, 22, 16),\n",
      "            (10, 22, 17),\n",
      "            (17, 22, 18),\n",
      "            (18, 21, 19),\n",
      "            (13, 21, 20),\n",
      "            (13, 21, 21),\n",
      "            (18, 21, 22),\n",
      "            (18, 21, 23),\n",
      "            (18, 21, 24),\n",
      "            (13, 21, 25),\n",
      "            (13, 20, 26),\n",
      "            (13, 20, 27),\n",
      "            (13, 20, 28),\n",
      "            (13, 20, 29)],\n",
      "           names=['fast_window', 'slow_window', 'split_idx'])\n"
     ]
    }
   ],
   "source": [
    "in_best_index = get_best_index(in_sharpe)\n",
    "\n",
    "print(in_best_index)"
   ]
  },
  {
   "cell_type": "code",
   "execution_count": 15,
   "metadata": {},
   "outputs": [],
   "source": [
    "def get_best_params(best_index, level_name):\n",
    "    return best_index.get_level_values(level_name).to_numpy()"
   ]
  },
  {
   "cell_type": "code",
   "execution_count": 16,
   "metadata": {},
   "outputs": [
    {
     "name": "stdout",
     "output_type": "stream",
     "text": [
      "[[27 29]\n",
      " [27 29]\n",
      " [21 25]\n",
      " [23 25]\n",
      " [23 25]\n",
      " [28 48]\n",
      " [41 42]\n",
      " [37 43]\n",
      " [31 45]\n",
      " [10 21]\n",
      " [10 21]\n",
      " [10 21]\n",
      " [10 21]\n",
      " [10 21]\n",
      " [10 21]\n",
      " [10 22]\n",
      " [10 22]\n",
      " [10 22]\n",
      " [17 22]\n",
      " [18 21]\n",
      " [13 21]\n",
      " [13 21]\n",
      " [18 21]\n",
      " [18 21]\n",
      " [18 21]\n",
      " [13 21]\n",
      " [13 20]\n",
      " [13 20]\n",
      " [13 20]\n",
      " [13 20]]\n"
     ]
    }
   ],
   "source": [
    "in_best_fast_windows = get_best_params(in_best_index, 'fast_window')\n",
    "in_best_slow_windows = get_best_params(in_best_index, 'slow_window')\n",
    "in_best_window_pairs = np.array(list(zip(in_best_fast_windows, in_best_slow_windows)))\n",
    "\n",
    "print(in_best_window_pairs)"
   ]
  },
  {
   "cell_type": "code",
   "execution_count": 17,
   "metadata": {},
   "outputs": [
    {
     "data": {
      "image/svg+xml": [
       "<svg class=\"main-svg\" xmlns=\"http://www.w3.org/2000/svg\" xmlns:xlink=\"http://www.w3.org/1999/xlink\" width=\"700\" height=\"350\" style=\"\" viewBox=\"0 0 700 350\"><rect x=\"0\" y=\"0\" width=\"700\" height=\"350\" style=\"fill: rgb(255, 255, 255); fill-opacity: 1;\"/><defs id=\"defs-200bab\"><g class=\"clips\"><clipPath id=\"clip200babxyplot\" class=\"plotclip\"><rect width=\"640\" height=\"274\"/></clipPath><clipPath class=\"axesclip\" id=\"clip200babx\"><rect x=\"30\" y=\"0\" width=\"640\" height=\"350\"/></clipPath><clipPath class=\"axesclip\" id=\"clip200baby\"><rect x=\"0\" y=\"46\" width=\"700\" height=\"274\"/></clipPath><clipPath class=\"axesclip\" id=\"clip200babxy\"><rect x=\"30\" y=\"46\" width=\"640\" height=\"274\"/></clipPath></g><g class=\"gradients\"/></defs><g class=\"bglayer\"><rect class=\"bg\" x=\"30\" y=\"46\" width=\"640\" height=\"274\" style=\"fill: rgb(229, 236, 246); fill-opacity: 1; stroke-width: 0;\"/></g><g class=\"layer-below\"><g class=\"imagelayer\"/><g class=\"shapelayer\"/></g><g class=\"cartesianlayer\"><g class=\"subplot xy\"><g class=\"layer-subplot\"><g class=\"shapelayer\"/><g class=\"imagelayer\"/></g><g class=\"gridlayer\"><g class=\"x\"><path class=\"xgrid crisp\" transform=\"translate(140.34,0)\" d=\"M0,46v274\" style=\"stroke: rgb(255, 255, 255); stroke-opacity: 1; stroke-width: 1px;\"/><path class=\"xgrid crisp\" transform=\"translate(250.69,0)\" d=\"M0,46v274\" style=\"stroke: rgb(255, 255, 255); stroke-opacity: 1; stroke-width: 1px;\"/><path class=\"xgrid crisp\" transform=\"translate(361.03,0)\" d=\"M0,46v274\" style=\"stroke: rgb(255, 255, 255); stroke-opacity: 1; stroke-width: 1px;\"/><path class=\"xgrid crisp\" transform=\"translate(471.38,0)\" d=\"M0,46v274\" style=\"stroke: rgb(255, 255, 255); stroke-opacity: 1; stroke-width: 1px;\"/><path class=\"xgrid crisp\" transform=\"translate(581.72,0)\" d=\"M0,46v274\" style=\"stroke: rgb(255, 255, 255); stroke-opacity: 1; stroke-width: 1px;\"/></g><g class=\"y\"><path class=\"ygrid crisp\" transform=\"translate(0,306.3)\" d=\"M30,0h640\" style=\"stroke: rgb(255, 255, 255); stroke-opacity: 1; stroke-width: 1px;\"/><path class=\"ygrid crisp\" transform=\"translate(0,241.41)\" d=\"M30,0h640\" style=\"stroke: rgb(255, 255, 255); stroke-opacity: 1; stroke-width: 1px;\"/><path class=\"ygrid crisp\" transform=\"translate(0,176.51)\" d=\"M30,0h640\" style=\"stroke: rgb(255, 255, 255); stroke-opacity: 1; stroke-width: 1px;\"/><path class=\"ygrid crisp\" transform=\"translate(0,111.62)\" d=\"M30,0h640\" style=\"stroke: rgb(255, 255, 255); stroke-opacity: 1; stroke-width: 1px;\"/></g></g><g class=\"zerolinelayer\"><path class=\"xzl zl crisp\" transform=\"translate(30,0)\" d=\"M0,46v274\" style=\"stroke: rgb(255, 255, 255); stroke-opacity: 1; stroke-width: 2px;\"/></g><path class=\"xlines-below\"/><path class=\"ylines-below\"/><g class=\"overlines-below\"/><g class=\"xaxislayer-below\"/><g class=\"yaxislayer-below\"/><g class=\"overaxes-below\"/><g class=\"plot\" transform=\"translate(30,46)\" clip-path=\"url('#clip200babxyplot')\"><g class=\"scatterlayer mlayer\"><g class=\"trace scatter tracecae78de7-10a6-4b02-adc9-2bf834b2f42c\" style=\"stroke-miterlimit: 2; opacity: 1;\"><g class=\"fills\"/><g class=\"errorbars\"/><g class=\"lines\"><path class=\"js-line\" d=\"M0,149.98L22.07,149.98L44.14,188.92L66.21,175.94L88.28,175.94L110.34,143.49L132.41,59.13L154.48,85.08L176.55,124.02L198.62,260.3L220.69,260.3L375.17,260.3L397.24,214.87L419.31,208.38L441.38,240.83L463.45,240.83L485.52,208.38L529.66,208.38L551.72,240.83L640,240.83\" style=\"vector-effect: non-scaling-stroke; fill: none; stroke: rgb(31, 119, 180); stroke-opacity: 1; stroke-width: 2px; opacity: 1;\"/></g><g class=\"points\"/><g class=\"text\"/></g><g class=\"trace scatter tracec30946a5-455d-43a7-8d93-873dd39e6734\" style=\"stroke-miterlimit: 2; opacity: 1;\"><g class=\"fills\"/><g class=\"errorbars\"/><g class=\"lines\"><path class=\"js-line\" d=\"M0,137L22.07,137L44.14,162.96L88.28,162.96L110.34,13.7L132.41,52.64L154.48,46.15L176.55,33.17L198.62,188.92L308.97,188.92L331.03,182.43L397.24,182.43L419.31,188.92L551.72,188.92L573.79,195.41L640,195.41\" style=\"vector-effect: non-scaling-stroke; fill: none; stroke: rgb(255, 127, 14); stroke-opacity: 1; stroke-width: 2px; opacity: 1;\"/></g><g class=\"points\"/><g class=\"text\"/></g></g></g><g class=\"overplot\"/><path class=\"xlines-above crisp\" d=\"M0,0\" style=\"fill: none;\"/><path class=\"ylines-above crisp\" d=\"M0,0\" style=\"fill: none;\"/><g class=\"overlines-above\"/><g class=\"xaxislayer-above\"><g class=\"xtick\"><text text-anchor=\"middle\" x=\"0\" y=\"333\" transform=\"translate(30,0)\" style=\"font-family: 'Open Sans', verdana, arial, sans-serif; font-size: 12px; fill: rgb(42, 63, 95); fill-opacity: 1; white-space: pre;\">0</text></g><g class=\"xtick\"><text text-anchor=\"middle\" x=\"0\" y=\"333\" transform=\"translate(140.34,0)\" style=\"font-family: 'Open Sans', verdana, arial, sans-serif; font-size: 12px; fill: rgb(42, 63, 95); fill-opacity: 1; white-space: pre;\">5</text></g><g class=\"xtick\"><text text-anchor=\"middle\" x=\"0\" y=\"333\" transform=\"translate(250.69,0)\" style=\"font-family: 'Open Sans', verdana, arial, sans-serif; font-size: 12px; fill: rgb(42, 63, 95); fill-opacity: 1; white-space: pre;\">10</text></g><g class=\"xtick\"><text text-anchor=\"middle\" x=\"0\" y=\"333\" transform=\"translate(361.03,0)\" style=\"font-family: 'Open Sans', verdana, arial, sans-serif; font-size: 12px; fill: rgb(42, 63, 95); fill-opacity: 1; white-space: pre;\">15</text></g><g class=\"xtick\"><text text-anchor=\"middle\" x=\"0\" y=\"333\" transform=\"translate(471.38,0)\" style=\"font-family: 'Open Sans', verdana, arial, sans-serif; font-size: 12px; fill: rgb(42, 63, 95); fill-opacity: 1; white-space: pre;\">20</text></g><g class=\"xtick\"><text text-anchor=\"middle\" x=\"0\" y=\"333\" transform=\"translate(581.72,0)\" style=\"font-family: 'Open Sans', verdana, arial, sans-serif; font-size: 12px; fill: rgb(42, 63, 95); fill-opacity: 1; white-space: pre;\">25</text></g></g><g class=\"yaxislayer-above\"><g class=\"ytick\"><text text-anchor=\"end\" x=\"29\" y=\"4.199999999999999\" transform=\"translate(0,306.3)\" style=\"font-family: 'Open Sans', verdana, arial, sans-serif; font-size: 12px; fill: rgb(42, 63, 95); fill-opacity: 1; white-space: pre;\">10</text></g><g class=\"ytick\"><text text-anchor=\"end\" x=\"29\" y=\"4.199999999999999\" transform=\"translate(0,241.41)\" style=\"font-family: 'Open Sans', verdana, arial, sans-serif; font-size: 12px; fill: rgb(42, 63, 95); fill-opacity: 1; white-space: pre;\">20</text></g><g class=\"ytick\"><text text-anchor=\"end\" x=\"29\" y=\"4.199999999999999\" transform=\"translate(0,176.51)\" style=\"font-family: 'Open Sans', verdana, arial, sans-serif; font-size: 12px; fill: rgb(42, 63, 95); fill-opacity: 1; white-space: pre;\">30</text></g><g class=\"ytick\"><text text-anchor=\"end\" x=\"29\" y=\"4.199999999999999\" transform=\"translate(0,111.62)\" style=\"font-family: 'Open Sans', verdana, arial, sans-serif; font-size: 12px; fill: rgb(42, 63, 95); fill-opacity: 1; white-space: pre;\">40</text></g><g class=\"ytick\"><text text-anchor=\"end\" x=\"29\" y=\"4.199999999999999\" transform=\"translate(0,46.72)\" style=\"font-family: 'Open Sans', verdana, arial, sans-serif; font-size: 12px; fill: rgb(42, 63, 95); fill-opacity: 1; white-space: pre;\">50</text></g></g><g class=\"overaxes-above\"/></g></g><g class=\"polarlayer\"/><g class=\"ternarylayer\"/><g class=\"geolayer\"/><g class=\"funnelarealayer\"/><g class=\"pielayer\"/><g class=\"treemaplayer\"/><g class=\"sunburstlayer\"/><g class=\"glimages\"/><defs id=\"topdefs-200bab\"><g class=\"clips\"/><clipPath id=\"legend200bab\"><rect width=\"245\" height=\"29\" x=\"0\" y=\"0\"/></clipPath></defs><g class=\"layer-above\"><g class=\"imagelayer\"/><g class=\"shapelayer\"/></g><g class=\"infolayer\"><g class=\"legend\" pointer-events=\"all\" transform=\"translate(425,11.519999999999996)\"><rect class=\"bg\" shape-rendering=\"crispEdges\" style=\"stroke: rgb(68, 68, 68); stroke-opacity: 1; fill: rgb(255, 255, 255); fill-opacity: 1; stroke-width: 0px;\" width=\"245\" height=\"29\" x=\"0\" y=\"0\"/><g class=\"scrollbox\" transform=\"\" clip-path=\"url('#legend200bab')\"><g class=\"groups\"><g class=\"traces\" transform=\"translate(0,14.5)\" style=\"opacity: 1;\"><text class=\"legendtext\" text-anchor=\"start\" x=\"40\" y=\"4.680000000000001\" style=\"font-family: 'Open Sans', verdana, arial, sans-serif; font-size: 12px; fill: rgb(42, 63, 95); fill-opacity: 1; white-space: pre;\">fast_window</text><g class=\"layers\" style=\"opacity: 1;\"><g class=\"legendfill\"/><g class=\"legendlines\"><path class=\"js-line\" d=\"M5,0h30\" style=\"fill: none; stroke: rgb(31, 119, 180); stroke-opacity: 1; stroke-width: 2px;\"/></g><g class=\"legendsymbols\"><g class=\"legendpoints\"/></g></g><rect class=\"legendtoggle\" x=\"0\" y=\"-9.5\" width=\"117.828125\" height=\"19\" style=\"fill: rgb(0, 0, 0); fill-opacity: 0;\"/></g><g class=\"traces\" transform=\"translate(120.328125,14.5)\" style=\"opacity: 1;\"><text class=\"legendtext\" text-anchor=\"start\" x=\"40\" y=\"4.680000000000001\" style=\"font-family: 'Open Sans', verdana, arial, sans-serif; font-size: 12px; fill: rgb(42, 63, 95); fill-opacity: 1; white-space: pre;\">slow_window</text><g class=\"layers\" style=\"opacity: 1;\"><g class=\"legendfill\"/><g class=\"legendlines\"><path class=\"js-line\" d=\"M5,0h30\" style=\"fill: none; stroke: rgb(255, 127, 14); stroke-opacity: 1; stroke-width: 2px;\"/></g><g class=\"legendsymbols\"><g class=\"legendpoints\"/></g></g><rect class=\"legendtoggle\" x=\"0\" y=\"-9.5\" width=\"122.078125\" height=\"19\" style=\"fill: rgb(0, 0, 0); fill-opacity: 0;\"/></g></g></g><rect class=\"scrollbar\" rx=\"20\" ry=\"3\" width=\"0\" height=\"0\" style=\"fill: rgb(128, 139, 164); fill-opacity: 1;\" x=\"0\" y=\"0\"/></g><g class=\"g-gtitle\"/><g class=\"g-xtitle\"/><g class=\"g-ytitle\"/></g></svg>"
      ]
     },
     "metadata": {},
     "output_type": "display_data"
    }
   ],
   "source": [
    "pd.DataFrame(in_best_window_pairs, columns=['fast_window', 'slow_window']).vbt.plot().show_svg()"
   ]
  },
  {
   "cell_type": "code",
   "execution_count": 18,
   "metadata": {},
   "outputs": [
    {
     "name": "stdout",
     "output_type": "stream",
     "text": [
      "split_idx\n",
      "0     1.773721\n",
      "1     2.097769\n",
      "2     1.183016\n",
      "3     1.967173\n",
      "4     3.313528\n",
      "5     3.050296\n",
      "6     3.485130\n",
      "7     3.021732\n",
      "8     3.180476\n",
      "9     2.143830\n",
      "10    0.648024\n",
      "11   -0.477665\n",
      "12   -0.500875\n",
      "13   -1.409454\n",
      "14   -2.235156\n",
      "15   -1.247427\n",
      "16    2.342504\n",
      "17    3.004826\n",
      "18    2.599555\n",
      "19   -0.061737\n",
      "20   -0.142031\n",
      "21   -0.033974\n",
      "22    0.874355\n",
      "23    0.608017\n",
      "24    2.186908\n",
      "25    2.922866\n",
      "26    3.713368\n",
      "27    4.863816\n",
      "28    1.977284\n",
      "29    0.669581\n",
      "Name: sharpe_ratio, dtype: float64\n"
     ]
    }
   ],
   "source": [
    "out_hold_sharpe = simulate_holding(out_price, **pf_kwargs)\n",
    "\n",
    "print(out_hold_sharpe)"
   ]
  },
  {
   "cell_type": "code",
   "execution_count": 19,
   "metadata": {},
   "outputs": [
    {
     "name": "stderr",
     "output_type": "stream",
     "text": [
      "/Users/olegpolakow/Documents/SourceTree/vectorbt/vectorbt/base/accessors.py:670: RuntimeWarning:\n",
      "\n",
      "invalid value encountered in greater\n",
      "\n",
      "/Users/olegpolakow/Documents/SourceTree/vectorbt/vectorbt/base/accessors.py:670: RuntimeWarning:\n",
      "\n",
      "invalid value encountered in less\n",
      "\n"
     ]
    },
    {
     "name": "stdout",
     "output_type": "stream",
     "text": [
      "fast_window  slow_window  split_idx\n",
      "10           11           0           -1.018512\n",
      "                          1           -0.491385\n",
      "                          2            0.461037\n",
      "                          3            1.014513\n",
      "                          4            2.453574\n",
      "                                         ...   \n",
      "48           49           25          -1.048689\n",
      "                          26           2.302437\n",
      "                          27           3.652679\n",
      "                          28           1.250960\n",
      "                          29          -0.397038\n",
      "Name: sharpe_ratio, Length: 23400, dtype: float64\n"
     ]
    }
   ],
   "source": [
    "# Simulate all params for out-sample ranges\n",
    "out_sharpe = simulate_all_params(out_price, windows, **pf_kwargs)\n",
    "\n",
    "print(out_sharpe)"
   ]
  },
  {
   "cell_type": "code",
   "execution_count": 20,
   "metadata": {},
   "outputs": [],
   "source": [
    "def simulate_best_params(price, best_fast_windows, best_slow_windows, **kwargs):\n",
    "    fast_ma = vbt.MA.run(price, window=best_fast_windows, per_column=True)\n",
    "    slow_ma = vbt.MA.run(price, window=best_slow_windows, per_column=True)\n",
    "    entries = fast_ma.ma_above(slow_ma, crossover=True)\n",
    "    exits = fast_ma.ma_below(slow_ma, crossover=True)\n",
    "    pf = vbt.Portfolio.from_signals(price, entries, exits, **kwargs)\n",
    "    return pf.sharpe_ratio()"
   ]
  },
  {
   "cell_type": "code",
   "execution_count": 21,
   "metadata": {},
   "outputs": [
    {
     "name": "stdout",
     "output_type": "stream",
     "text": [
      "ma_window  ma_window  split_idx\n",
      "27         29         0            1.164082\n",
      "                      1           -0.107223\n",
      "21         25         2            1.084846\n",
      "23         25         3            0.762795\n",
      "                      4            1.235954\n",
      "28         48         5            1.711724\n",
      "41         42         6            0.579829\n",
      "37         43         7           -0.868355\n",
      "31         45         8            0.554527\n",
      "10         21         9            2.795573\n",
      "                      10           0.842782\n",
      "                      11           0.358184\n",
      "                      12           0.806215\n",
      "                      13          -0.002679\n",
      "                      14          -0.406974\n",
      "           22         15           1.061705\n",
      "                      16           1.604033\n",
      "                      17           1.636689\n",
      "17         22         18           0.344071\n",
      "18         21         19           1.634444\n",
      "13         21         20           1.194578\n",
      "                      21           1.442936\n",
      "18         21         22           1.716750\n",
      "                      23           0.673144\n",
      "                      24           0.384717\n",
      "13         21         25           3.814106\n",
      "           20         26           3.876039\n",
      "                      27           2.093621\n",
      "                      28          -0.020173\n",
      "                      29          -2.929295\n",
      "Name: sharpe_ratio, dtype: float64\n"
     ]
    },
    {
     "name": "stderr",
     "output_type": "stream",
     "text": [
      "/Users/olegpolakow/Documents/SourceTree/vectorbt/vectorbt/base/accessors.py:670: RuntimeWarning:\n",
      "\n",
      "invalid value encountered in less\n",
      "\n"
     ]
    }
   ],
   "source": [
    "# Use best params from in-sample ranges and simulate them for out-sample ranges\n",
    "out_test_sharpe = simulate_best_params(out_price, in_best_fast_windows, in_best_slow_windows, **pf_kwargs)\n",
    "\n",
    "print(out_test_sharpe)"
   ]
  },
  {
   "cell_type": "code",
   "execution_count": 22,
   "metadata": {},
   "outputs": [],
   "source": [
    "cv_results_df = pd.DataFrame({\n",
    "    'in_sample_hold': in_hold_sharpe.values,\n",
    "    'in_sample_median': in_sharpe.groupby('split_idx').median().values,\n",
    "    'in_sample_best': in_sharpe[in_best_index].values,\n",
    "    'out_sample_hold': out_hold_sharpe.values,\n",
    "    'out_sample_median': out_sharpe.groupby('split_idx').median().values,\n",
    "    'out_sample_test': out_test_sharpe.values\n",
    "})"
   ]
  },
  {
   "cell_type": "code",
   "execution_count": 23,
   "metadata": {},
   "outputs": [
    {
     "data": {
      "image/svg+xml": [
       "<svg class=\"main-svg\" xmlns=\"http://www.w3.org/2000/svg\" xmlns:xlink=\"http://www.w3.org/1999/xlink\" width=\"700\" height=\"350\" style=\"\" viewBox=\"0 0 700 350\"><rect x=\"0\" y=\"0\" width=\"700\" height=\"350\" style=\"fill: rgb(255, 255, 255); fill-opacity: 1;\"/><defs id=\"defs-fc2f29\"><g class=\"clips\"><clipPath id=\"clipfc2f29xyplot\" class=\"plotclip\"><rect width=\"640\" height=\"255\"/></clipPath><clipPath class=\"axesclip\" id=\"clipfc2f29x\"><rect x=\"30\" y=\"0\" width=\"640\" height=\"350\"/></clipPath><clipPath class=\"axesclip\" id=\"clipfc2f29y\"><rect x=\"0\" y=\"65\" width=\"700\" height=\"255\"/></clipPath><clipPath class=\"axesclip\" id=\"clipfc2f29xy\"><rect x=\"30\" y=\"65\" width=\"640\" height=\"255\"/></clipPath></g><g class=\"gradients\"/></defs><g class=\"bglayer\"><rect class=\"bg\" x=\"30\" y=\"65\" width=\"640\" height=\"255\" style=\"fill: rgb(229, 236, 246); fill-opacity: 1; stroke-width: 0;\"/></g><g class=\"layer-below\"><g class=\"imagelayer\"/><g class=\"shapelayer\"/></g><g class=\"cartesianlayer\"><g class=\"subplot xy\"><g class=\"layer-subplot\"><g class=\"shapelayer\"/><g class=\"imagelayer\"/></g><g class=\"gridlayer\"><g class=\"x\"><path class=\"xgrid crisp\" transform=\"translate(140.34,0)\" d=\"M0,65v255\" style=\"stroke: rgb(255, 255, 255); stroke-opacity: 1; stroke-width: 1px;\"/><path class=\"xgrid crisp\" transform=\"translate(250.69,0)\" d=\"M0,65v255\" style=\"stroke: rgb(255, 255, 255); stroke-opacity: 1; stroke-width: 1px;\"/><path class=\"xgrid crisp\" transform=\"translate(361.03,0)\" d=\"M0,65v255\" style=\"stroke: rgb(255, 255, 255); stroke-opacity: 1; stroke-width: 1px;\"/><path class=\"xgrid crisp\" transform=\"translate(471.38,0)\" d=\"M0,65v255\" style=\"stroke: rgb(255, 255, 255); stroke-opacity: 1; stroke-width: 1px;\"/><path class=\"xgrid crisp\" transform=\"translate(581.72,0)\" d=\"M0,65v255\" style=\"stroke: rgb(255, 255, 255); stroke-opacity: 1; stroke-width: 1px;\"/></g><g class=\"y\"><path class=\"ygrid crisp\" transform=\"translate(0,279.88)\" d=\"M30,0h640\" style=\"stroke: rgb(255, 255, 255); stroke-opacity: 1; stroke-width: 1px;\"/><path class=\"ygrid crisp\" transform=\"translate(0,162.09)\" d=\"M30,0h640\" style=\"stroke: rgb(255, 255, 255); stroke-opacity: 1; stroke-width: 1px;\"/><path class=\"ygrid crisp\" transform=\"translate(0,103.19)\" d=\"M30,0h640\" style=\"stroke: rgb(255, 255, 255); stroke-opacity: 1; stroke-width: 1px;\"/></g></g><g class=\"zerolinelayer\"><path class=\"xzl zl crisp\" transform=\"translate(30,0)\" d=\"M0,65v255\" style=\"stroke: rgb(255, 255, 255); stroke-opacity: 1; stroke-width: 2px;\"/><path class=\"yzl zl crisp\" transform=\"translate(0,220.98)\" d=\"M30,0h640\" style=\"stroke: rgb(255, 255, 255); stroke-opacity: 1; stroke-width: 2px;\"/></g><path class=\"xlines-below\"/><path class=\"ylines-below\"/><g class=\"overlines-below\"/><g class=\"xaxislayer-below\"/><g class=\"yaxislayer-below\"/><g class=\"overaxes-below\"/><g class=\"plot\" transform=\"translate(30,65)\" clip-path=\"url('#clipfc2f29xyplot')\"><g class=\"scatterlayer mlayer\"><g class=\"trace scatter trace59dead38-8664-4be4-8b7f-19eb078128f9\" style=\"stroke-miterlimit: 2; opacity: 1;\"><g class=\"fills\"/><g class=\"errorbars\"/><g class=\"lines\"><path class=\"js-line\" d=\"M0,149.24L22.07,142.73L44.14,108.84L66.21,117.46L88.28,105.21L110.34,107.24L132.41,95.68L154.48,81.01L176.55,86.78L198.62,84.42L220.69,67.21L242.76,78.29L264.83,85.27L286.9,94.51L308.97,96.8L331.03,101.26L353.1,132.72L375.17,135.57L397.24,141.29L419.31,142.23L441.38,148.99L463.45,144.29L485.52,145.39L507.59,143.68L529.66,147.31L551.72,120.57L573.79,114.82L595.86,119.1L617.93,121.87L640,108.96\" style=\"vector-effect: non-scaling-stroke; fill: none; stroke: rgb(31, 119, 180); stroke-opacity: 1; stroke-width: 2px; opacity: 1;\"/></g><g class=\"points\"/><g class=\"text\"/></g><g class=\"trace scatter tracede09f11d-734a-487e-b78f-4578e6e650c1\" style=\"stroke-miterlimit: 2; opacity: 1;\"><g class=\"fills\"/><g class=\"errorbars\"/><g class=\"lines\"><path class=\"js-line\" d=\"M0,137.6L22.07,129.18L44.14,131.9L66.21,130.57L88.28,119.78L110.34,117.55L132.41,125.8L154.48,118.33L176.55,116.39L198.62,112.97L220.69,115.56L242.76,102.91L264.83,108.66L286.9,118.9L308.97,116.01L331.03,118.2L353.1,125.03L375.17,132.93L397.24,130L419.31,131.64L441.38,131.16L463.45,126.11L485.52,136.7L507.59,124.37L529.66,120.73L551.72,123.43L573.79,121.81L595.86,136.55L617.93,136.97L640,111\" style=\"vector-effect: non-scaling-stroke; fill: none; stroke: rgb(31, 119, 180); stroke-opacity: 1; stroke-width: 2px; opacity: 1; stroke-dasharray: 9px, 9px;\"/></g><g class=\"points\"/><g class=\"text\"/></g><g class=\"trace scatter trace6bb8cd14-332e-482e-b0ab-73dfa1fcf77a\" style=\"stroke-miterlimit: 2; opacity: 1;\"><g class=\"fills\"/><g class=\"errorbars\"/><g class=\"lines\"><path class=\"js-line\" d=\"M0,95.82L44.14,96.64L66.21,105.09L88.28,94.43L110.34,95.74L132.41,101.9L154.48,88.67L176.55,94.25L198.62,80.44L220.69,65.05L242.76,58.41L264.83,63.67L286.9,64.86L308.97,57.61L331.03,69.98L353.1,81.03L375.17,96.5L397.24,93.3L419.31,100.39L463.45,89.53L485.52,102.24L529.66,87.99L551.72,97.33L573.79,89.03L595.86,94.32L617.93,85.03L640,71.05\" style=\"vector-effect: non-scaling-stroke; fill: none; stroke: rgb(31, 119, 180); stroke-opacity: 1; stroke-width: 2px; opacity: 1; stroke-dasharray: 3px, 3px;\"/></g><g class=\"points\"/><g class=\"text\"/></g><g class=\"trace scatter trace16704b31-fbb7-4225-80d4-797d43f69cdd\" style=\"stroke-miterlimit: 2; opacity: 1;\"><g class=\"fills\"/><g class=\"errorbars\"/><g class=\"lines\"><path class=\"js-line\" d=\"M0,103.75L22.07,94.21L44.14,121.15L66.21,98.05L88.28,58.4L110.34,66.16L132.41,53.35L154.48,67L176.55,62.32L198.62,92.85L220.69,136.9L242.76,170.05L264.83,170.74L286.9,197.49L308.97,221.81L331.03,192.72L353.1,87L375.17,67.5L397.24,79.43L419.31,157.8L441.38,160.17L463.45,156.99L485.52,130.24L507.59,138.08L529.66,91.58L551.72,69.91L573.79,46.63L595.86,12.75L617.93,97.76L640,136.27\" style=\"vector-effect: non-scaling-stroke; fill: none; stroke: rgb(255, 127, 14); stroke-opacity: 1; stroke-width: 2px; opacity: 1;\"/></g><g class=\"points\"/><g class=\"text\"/></g><g class=\"trace scatter tracea7ec92b9-d3a9-45f1-993e-0597fd1e9f4e\" style=\"stroke-miterlimit: 2; opacity: 1;\"><g class=\"fills\"/><g class=\"errorbars\"/><g class=\"lines\"><path class=\"js-line\" d=\"M0,117.95L22.07,120.89L44.14,118.7L66.21,129.45L88.28,127.09L110.34,104.14L132.41,98.56L154.48,127.43L176.55,102.11L198.62,96.35L220.69,165.23L242.76,183.56L264.83,187.07L286.9,163.74L308.97,115.55L331.03,120.68L353.1,89.24L375.17,71.5L397.24,119.86L419.31,194.49L441.38,176.04L463.45,146.52L485.52,107.33L507.59,114.03L529.66,156.84L551.72,98.5L573.79,50.12L595.86,69.75L617.93,122.9L640,140.53\" style=\"vector-effect: non-scaling-stroke; fill: none; stroke: rgb(255, 127, 14); stroke-opacity: 1; stroke-width: 2px; opacity: 1; stroke-dasharray: 9px, 9px;\"/></g><g class=\"points\"/><g class=\"text\"/></g><g class=\"trace scatter trace16d51961-b2cc-45dc-bc9b-c3b1ac49972f\" style=\"stroke-miterlimit: 2; opacity: 1;\"><g class=\"fills\"/><g class=\"errorbars\"/><g class=\"lines\"><path class=\"js-line\" d=\"M0,121.7L22.07,159.14L44.14,124.04L66.21,133.52L88.28,119.59L110.34,105.58L132.41,138.91L154.48,181.56L176.55,139.65L198.62,73.66L220.69,131.17L242.76,145.44L264.83,132.24L286.9,156.06L308.97,167.97L331.03,124.72L353.1,108.75L375.17,107.79L397.24,145.85L419.31,107.85L441.38,120.81L485.52,105.43L507.59,136.16L529.66,144.66L551.72,43.66L573.79,41.84L595.86,94.33L617.93,156.58L640,242.25\" style=\"vector-effect: non-scaling-stroke; fill: none; stroke: rgb(255, 127, 14); stroke-opacity: 1; stroke-width: 2px; opacity: 1; stroke-dasharray: 3px, 3px;\"/></g><g class=\"points\"/><g class=\"text\"/></g></g></g><g class=\"overplot\"/><path class=\"xlines-above crisp\" d=\"M0,0\" style=\"fill: none;\"/><path class=\"ylines-above crisp\" d=\"M0,0\" style=\"fill: none;\"/><g class=\"overlines-above\"/><g class=\"xaxislayer-above\"><g class=\"xtick\"><text text-anchor=\"middle\" x=\"0\" y=\"333\" transform=\"translate(30,0)\" style=\"font-family: 'Open Sans', verdana, arial, sans-serif; font-size: 12px; fill: rgb(42, 63, 95); fill-opacity: 1; white-space: pre;\">0</text></g><g class=\"xtick\"><text text-anchor=\"middle\" x=\"0\" y=\"333\" transform=\"translate(140.34,0)\" style=\"font-family: 'Open Sans', verdana, arial, sans-serif; font-size: 12px; fill: rgb(42, 63, 95); fill-opacity: 1; white-space: pre;\">5</text></g><g class=\"xtick\"><text text-anchor=\"middle\" x=\"0\" y=\"333\" transform=\"translate(250.69,0)\" style=\"font-family: 'Open Sans', verdana, arial, sans-serif; font-size: 12px; fill: rgb(42, 63, 95); fill-opacity: 1; white-space: pre;\">10</text></g><g class=\"xtick\"><text text-anchor=\"middle\" x=\"0\" y=\"333\" transform=\"translate(361.03,0)\" style=\"font-family: 'Open Sans', verdana, arial, sans-serif; font-size: 12px; fill: rgb(42, 63, 95); fill-opacity: 1; white-space: pre;\">15</text></g><g class=\"xtick\"><text text-anchor=\"middle\" x=\"0\" y=\"333\" transform=\"translate(471.38,0)\" style=\"font-family: 'Open Sans', verdana, arial, sans-serif; font-size: 12px; fill: rgb(42, 63, 95); fill-opacity: 1; white-space: pre;\">20</text></g><g class=\"xtick\"><text text-anchor=\"middle\" x=\"0\" y=\"333\" transform=\"translate(581.72,0)\" style=\"font-family: 'Open Sans', verdana, arial, sans-serif; font-size: 12px; fill: rgb(42, 63, 95); fill-opacity: 1; white-space: pre;\">25</text></g></g><g class=\"yaxislayer-above\"><g class=\"ytick\"><text text-anchor=\"end\" x=\"29\" y=\"4.199999999999999\" transform=\"translate(0,279.88)\" style=\"font-family: 'Open Sans', verdana, arial, sans-serif; font-size: 12px; fill: rgb(42, 63, 95); fill-opacity: 1; white-space: pre;\">−2</text></g><g class=\"ytick\"><text text-anchor=\"end\" x=\"29\" y=\"4.199999999999999\" transform=\"translate(0,220.98)\" style=\"font-family: 'Open Sans', verdana, arial, sans-serif; font-size: 12px; fill: rgb(42, 63, 95); fill-opacity: 1; white-space: pre;\">0</text></g><g class=\"ytick\"><text text-anchor=\"end\" x=\"29\" y=\"4.199999999999999\" transform=\"translate(0,162.09)\" style=\"font-family: 'Open Sans', verdana, arial, sans-serif; font-size: 12px; fill: rgb(42, 63, 95); fill-opacity: 1; white-space: pre;\">2</text></g><g class=\"ytick\"><text text-anchor=\"end\" x=\"29\" y=\"4.199999999999999\" transform=\"translate(0,103.19)\" style=\"font-family: 'Open Sans', verdana, arial, sans-serif; font-size: 12px; fill: rgb(42, 63, 95); fill-opacity: 1; white-space: pre;\">4</text></g></g><g class=\"overaxes-above\"/></g></g><g class=\"polarlayer\"/><g class=\"ternarylayer\"/><g class=\"geolayer\"/><g class=\"funnelarealayer\"/><g class=\"pielayer\"/><g class=\"treemaplayer\"/><g class=\"sunburstlayer\"/><g class=\"glimages\"/><defs id=\"topdefs-fc2f29\"><g class=\"clips\"/><clipPath id=\"legendfc2f29\"><rect width=\"481\" height=\"48\" x=\"0\" y=\"0\"/></clipPath></defs><g class=\"layer-above\"><g class=\"imagelayer\"/><g class=\"shapelayer\"/></g><g class=\"infolayer\"><g class=\"legend\" pointer-events=\"all\" transform=\"translate(189,11.899999999999991)\"><rect class=\"bg\" shape-rendering=\"crispEdges\" style=\"stroke: rgb(68, 68, 68); stroke-opacity: 1; fill: rgb(255, 255, 255); fill-opacity: 1; stroke-width: 0px;\" width=\"481\" height=\"48\" x=\"0\" y=\"0\"/><g class=\"scrollbox\" transform=\"\" clip-path=\"url('#legendfc2f29')\"><g class=\"groups\"><g class=\"traces\" transform=\"translate(0,14.5)\" style=\"opacity: 1;\"><text class=\"legendtext\" text-anchor=\"start\" x=\"40\" y=\"4.680000000000001\" style=\"font-family: 'Open Sans', verdana, arial, sans-serif; font-size: 12px; fill: rgb(42, 63, 95); fill-opacity: 1; white-space: pre;\">in_sample_hold</text><g class=\"layers\" style=\"opacity: 1;\"><g class=\"legendfill\"/><g class=\"legendlines\"><path class=\"js-line\" d=\"M5,0h30\" style=\"fill: none; stroke: rgb(31, 119, 180); stroke-opacity: 1; stroke-width: 2px;\"/></g><g class=\"legendsymbols\"><g class=\"legendpoints\"/></g></g><rect class=\"legendtoggle\" x=\"0\" y=\"-9.5\" width=\"137.34375\" height=\"19\" style=\"fill: rgb(0, 0, 0); fill-opacity: 0;\"/></g><g class=\"traces\" transform=\"translate(167.3125,14.5)\" style=\"opacity: 1;\"><text class=\"legendtext\" text-anchor=\"start\" x=\"40\" y=\"4.680000000000001\" style=\"font-family: 'Open Sans', verdana, arial, sans-serif; font-size: 12px; fill: rgb(42, 63, 95); fill-opacity: 1; white-space: pre;\">in_sample_median</text><g class=\"layers\" style=\"opacity: 1;\"><g class=\"legendfill\"/><g class=\"legendlines\"><path class=\"js-line\" d=\"M5,0h30\" style=\"fill: none; stroke: rgb(31, 119, 180); stroke-opacity: 1; stroke-dasharray: 9px, 9px; stroke-width: 2px;\"/></g><g class=\"legendsymbols\"><g class=\"legendpoints\"/></g></g><rect class=\"legendtoggle\" x=\"0\" y=\"-9.5\" width=\"156.09375\" height=\"19\" style=\"fill: rgb(0, 0, 0); fill-opacity: 0;\"/></g><g class=\"traces\" transform=\"translate(334.625,14.5)\" style=\"opacity: 1;\"><text class=\"legendtext\" text-anchor=\"start\" x=\"40\" y=\"4.680000000000001\" style=\"font-family: 'Open Sans', verdana, arial, sans-serif; font-size: 12px; fill: rgb(42, 63, 95); fill-opacity: 1; white-space: pre;\">in_sample_best</text><g class=\"layers\" style=\"opacity: 1;\"><g class=\"legendfill\"/><g class=\"legendlines\"><path class=\"js-line\" d=\"M5,0h30\" style=\"fill: none; stroke: rgb(31, 119, 180); stroke-opacity: 1; stroke-dasharray: 3px, 3px; stroke-width: 2px;\"/></g><g class=\"legendsymbols\"><g class=\"legendpoints\"/></g></g><rect class=\"legendtoggle\" x=\"0\" y=\"-9.5\" width=\"137.3125\" height=\"19\" style=\"fill: rgb(0, 0, 0); fill-opacity: 0;\"/></g><g class=\"traces\" transform=\"translate(0,33.5)\" style=\"opacity: 1;\"><text class=\"legendtext\" text-anchor=\"start\" x=\"40\" y=\"4.680000000000001\" style=\"font-family: 'Open Sans', verdana, arial, sans-serif; font-size: 12px; fill: rgb(42, 63, 95); fill-opacity: 1; white-space: pre;\">out_sample_hold</text><g class=\"layers\" style=\"opacity: 1;\"><g class=\"legendfill\"/><g class=\"legendlines\"><path class=\"js-line\" d=\"M5,0h30\" style=\"fill: none; stroke: rgb(255, 127, 14); stroke-opacity: 1; stroke-width: 2px;\"/></g><g class=\"legendsymbols\"><g class=\"legendpoints\"/></g></g><rect class=\"legendtoggle\" x=\"0\" y=\"-9.5\" width=\"146.0625\" height=\"19\" style=\"fill: rgb(0, 0, 0); fill-opacity: 0;\"/></g><g class=\"traces\" transform=\"translate(167.3125,33.5)\" style=\"opacity: 1;\"><text class=\"legendtext\" text-anchor=\"start\" x=\"40\" y=\"4.680000000000001\" style=\"font-family: 'Open Sans', verdana, arial, sans-serif; font-size: 12px; fill: rgb(42, 63, 95); fill-opacity: 1; white-space: pre;\">out_sample_median</text><g class=\"layers\" style=\"opacity: 1;\"><g class=\"legendfill\"/><g class=\"legendlines\"><path class=\"js-line\" d=\"M5,0h30\" style=\"fill: none; stroke: rgb(255, 127, 14); stroke-opacity: 1; stroke-dasharray: 9px, 9px; stroke-width: 2px;\"/></g><g class=\"legendsymbols\"><g class=\"legendpoints\"/></g></g><rect class=\"legendtoggle\" x=\"0\" y=\"-9.5\" width=\"164.8125\" height=\"19\" style=\"fill: rgb(0, 0, 0); fill-opacity: 0;\"/></g><g class=\"traces\" transform=\"translate(334.625,33.5)\" style=\"opacity: 1;\"><text class=\"legendtext\" text-anchor=\"start\" x=\"40\" y=\"4.680000000000001\" style=\"font-family: 'Open Sans', verdana, arial, sans-serif; font-size: 12px; fill: rgb(42, 63, 95); fill-opacity: 1; white-space: pre;\">out_sample_test</text><g class=\"layers\" style=\"opacity: 1;\"><g class=\"legendfill\"/><g class=\"legendlines\"><path class=\"js-line\" d=\"M5,0h30\" style=\"fill: none; stroke: rgb(255, 127, 14); stroke-opacity: 1; stroke-dasharray: 3px, 3px; stroke-width: 2px;\"/></g><g class=\"legendsymbols\"><g class=\"legendpoints\"/></g></g><rect class=\"legendtoggle\" x=\"0\" y=\"-9.5\" width=\"143.28125\" height=\"19\" style=\"fill: rgb(0, 0, 0); fill-opacity: 0;\"/></g></g></g><rect class=\"scrollbar\" rx=\"20\" ry=\"3\" width=\"0\" height=\"0\" style=\"fill: rgb(128, 139, 164); fill-opacity: 1;\" x=\"0\" y=\"0\"/></g><g class=\"g-gtitle\"/><g class=\"g-xtitle\"/><g class=\"g-ytitle\"/></g></svg>"
      ]
     },
     "metadata": {},
     "output_type": "display_data"
    }
   ],
   "source": [
    "color_schema = vbt.settings['plotting']['color_schema']\n",
    "\n",
    "cv_results_df.vbt.plot(\n",
    "    trace_kwargs=[\n",
    "        dict(line_color=color_schema['blue']),\n",
    "        dict(line_color=color_schema['blue'], line_dash='dash'),\n",
    "        dict(line_color=color_schema['blue'], line_dash='dot'),\n",
    "        dict(line_color=color_schema['orange']),\n",
    "        dict(line_color=color_schema['orange'], line_dash='dash'),\n",
    "        dict(line_color=color_schema['orange'], line_dash='dot')\n",
    "    ]\n",
    ").show_svg()"
   ]
  },
  {
   "cell_type": "code",
   "execution_count": null,
   "metadata": {},
   "outputs": [],
   "source": []
  }
 ],
 "metadata": {
  "kernelspec": {
   "display_name": "Python 3",
   "language": "python",
   "name": "python3"
  },
  "language_info": {
   "codemirror_mode": {
    "name": "ipython",
    "version": 3
   },
   "file_extension": ".py",
   "mimetype": "text/x-python",
   "name": "python",
   "nbconvert_exporter": "python",
   "pygments_lexer": "ipython3",
   "version": "3.7.3"
  }
 },
 "nbformat": 4,
 "nbformat_minor": 4
}
