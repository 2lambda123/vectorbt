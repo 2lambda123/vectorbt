{
 "cells": [
  {
   "cell_type": "markdown",
   "metadata": {},
   "source": [
    "# utils"
   ]
  },
  {
   "cell_type": "code",
   "execution_count": 1,
   "metadata": {},
   "outputs": [],
   "source": [
    "import vectorbt as vbt\n",
    "\n",
    "from vectorbt.utils import checks, config, decorators"
   ]
  },
  {
   "cell_type": "code",
   "execution_count": 2,
   "metadata": {
    "Collapsed": "false"
   },
   "outputs": [],
   "source": [
    "import numpy as np\n",
    "import pandas as pd\n",
    "from numba import njit"
   ]
  },
  {
   "cell_type": "code",
   "execution_count": 3,
   "metadata": {},
   "outputs": [
    {
     "name": "stdout",
     "output_type": "stream",
     "text": [
      "i1\n",
      "x1    1\n",
      "dtype: int64\n",
      "i2\n",
      "x2    1\n",
      "y2    2\n",
      "z2    3\n",
      "dtype: int64\n",
      "c3  a3\n",
      "i3    \n",
      "x3   1\n",
      "c4  a4\n",
      "i4    \n",
      "x4   1\n",
      "y4   2\n",
      "z4   3\n",
      "c5  a5  b5  c5\n",
      "i5            \n",
      "x5   1   2   3\n",
      "c6  a6  b6  c6\n",
      "i6            \n",
      "x6   1   2   3\n",
      "y6   4   5   6\n",
      "z6   7   8   9\n",
      "c7    a7 b7 c7\n",
      "c8    a8 b8 c8\n",
      "i7 i8         \n",
      "x7 x8  1  2  3\n",
      "y7 y8  4  5  6\n",
      "z7 z8  7  8  9\n"
     ]
    }
   ],
   "source": [
    "v1 = 0\n",
    "a1 = np.array([1])\n",
    "a2 = np.array([1, 2, 3])\n",
    "a3 = np.array([[1, 2, 3]])\n",
    "a4 = np.array([[1], [2], [3]])\n",
    "a5 = np.array([[1, 2, 3], [4, 5, 6], [7, 8, 9]])\n",
    "sr1 = pd.Series([1], index=pd.Index(['x1'], name='i1'))\n",
    "print(sr1)\n",
    "sr2 = pd.Series([1, 2, 3], index=pd.Index(['x2', 'y2', 'z2'], name='i2'))\n",
    "print(sr2)\n",
    "df1 = pd.DataFrame(\n",
    "    [[1]], \n",
    "    index=pd.Index(['x3'], name='i3'), \n",
    "    columns=pd.Index(['a3'], name='c3'))\n",
    "print(df1)\n",
    "df2 = pd.DataFrame(\n",
    "    [[1], [2], [3]], \n",
    "    index=pd.Index(['x4', 'y4', 'z4'], name='i4'), \n",
    "    columns=pd.Index(['a4'], name='c4'))\n",
    "print(df2)\n",
    "df3 = pd.DataFrame(\n",
    "    [[1, 2, 3]], \n",
    "    index=pd.Index(['x5'], name='i5'), \n",
    "    columns=pd.Index(['a5', 'b5', 'c5'], name='c5'))\n",
    "print(df3)\n",
    "df4 = pd.DataFrame(\n",
    "    [[1, 2, 3], [4, 5, 6], [7, 8, 9]], \n",
    "    index=pd.Index(['x6', 'y6', 'z6'], name='i6'), \n",
    "    columns=pd.Index(['a6', 'b6', 'c6'], name='c6'))\n",
    "print(df4)\n",
    "\n",
    "multi_i = pd.MultiIndex.from_arrays([['x7', 'y7', 'z7'], ['x8', 'y8', 'z8']], names=['i7', 'i8']) \n",
    "multi_c = pd.MultiIndex.from_arrays([['a7', 'b7', 'c7'], ['a8', 'b8', 'c8']], names=['c7', 'c8'])\n",
    "df5 = pd.DataFrame([[1, 2, 3], [4, 5, 6], [7, 8, 9]], index=multi_i, columns=multi_c)\n",
    "print(df5)"
   ]
  },
  {
   "cell_type": "markdown",
   "metadata": {},
   "source": [
    "## config"
   ]
  },
  {
   "cell_type": "code",
   "execution_count": 4,
   "metadata": {},
   "outputs": [
    {
     "name": "stdout",
     "output_type": "stream",
     "text": [
      "{'a': 0, 'b': {'c': 1}}\n",
      "{'a': 2, 'b': {'c': 1}}\n",
      "OK\n",
      "{'a': 2, 'b': {'c': 2}}\n",
      "OK\n"
     ]
    }
   ],
   "source": [
    "conf = config.Config({'a': 0, 'b': {'c': 1}})\n",
    "print(conf)\n",
    "\n",
    "conf['a'] = 2\n",
    "print(conf)\n",
    "\n",
    "try:\n",
    "    conf['d'] = 2\n",
    "    print(conf)\n",
    "except:\n",
    "    print('OK')\n",
    "    \n",
    "conf['b']['c'] = 2\n",
    "print(conf)\n",
    "\n",
    "try:\n",
    "    conf['b']['d'] = 2\n",
    "    print(conf)\n",
    "except:\n",
    "    print('OK')"
   ]
  },
  {
   "cell_type": "code",
   "execution_count": 5,
   "metadata": {},
   "outputs": [
    {
     "name": "stdout",
     "output_type": "stream",
     "text": [
      "{'a': 0, 'b': {'c': 1, 'd': 2}}\n"
     ]
    }
   ],
   "source": [
    "conf = config.Config({'a': 0, 'b': {'c': 1}}, frozen=False)\n",
    "\n",
    "conf['b']['d'] = 2\n",
    "print(conf)"
   ]
  },
  {
   "cell_type": "code",
   "execution_count": 6,
   "metadata": {},
   "outputs": [
    {
     "name": "stdout",
     "output_type": "stream",
     "text": [
      "{'a': 1, 'b': 2}\n",
      "{'a': 2}\n",
      "{'a': {'b': 2, 'c': 3}}\n",
      "{'a': {'b': 3}}\n"
     ]
    }
   ],
   "source": [
    "print(config.merge_kwargs({'a': 1}, {'b': 2}))\n",
    "print(config.merge_kwargs({'a': 1}, {'a': 2}))\n",
    "print(config.merge_kwargs({'a': {'b': 2}}, {'a': {'c': 3}}))\n",
    "print(config.merge_kwargs({'a': {'b': 2}}, {'a': {'b': 3}}))"
   ]
  },
  {
   "cell_type": "code",
   "execution_count": 58,
   "metadata": {},
   "outputs": [
    {
     "name": "stdout",
     "output_type": "stream",
     "text": [
      "{'a': 1, 'b': 2}\n",
      "{'a': 1, 'b': 3}\n",
      "{'a': 1, 'b': 2, 'c': 4}\n"
     ]
    }
   ],
   "source": [
    "class H(config.Configured):\n",
    "    def __init__(self, a, b=2, **kwargs):\n",
    "        super().__init__(a=a, b=b, **kwargs)\n",
    "        \n",
    "    def return_config(self):\n",
    "        return self._config\n",
    "        \n",
    "print(H(1).return_config())\n",
    "print(H(1).copy(b=3).return_config())\n",
    "print(H(1).copy(c=4).return_config())"
   ]
  },
  {
   "cell_type": "markdown",
   "metadata": {},
   "source": [
    "## decorators"
   ]
  },
  {
   "cell_type": "code",
   "execution_count": 7,
   "metadata": {},
   "outputs": [
    {
     "name": "stdout",
     "output_type": "stream",
     "text": [
      "class\n",
      "instance\n"
     ]
    }
   ],
   "source": [
    "class G():\n",
    "    @decorators.class_or_instancemethod\n",
    "    def g(self_or_cls):\n",
    "        if isinstance(self_or_cls, type):\n",
    "            print(\"class\")\n",
    "        else:\n",
    "            print(\"instance\")\n",
    "            \n",
    "G.g()\n",
    "G().g()"
   ]
  },
  {
   "cell_type": "code",
   "execution_count": 62,
   "metadata": {},
   "outputs": [
    {
     "data": {
      "text/plain": [
       "(0    0\n",
       " Name: (2, 1, 3), dtype: int64, 0    0\n",
       " Name: (2, 1, 3), dtype: int64)"
      ]
     },
     "execution_count": 62,
     "metadata": {},
     "output_type": "execute_result"
    }
   ],
   "source": [
    "vbt.base.reshape_fns.broadcast(pd.Series([0], name=(1, 2)), pd.Series([0], name=(1, 3)))"
   ]
  },
  {
   "cell_type": "code",
   "execution_count": 8,
   "metadata": {},
   "outputs": [
    {
     "data": {
      "text/plain": [
       "{'hello': 'world'}"
      ]
     },
     "execution_count": 8,
     "metadata": {},
     "output_type": "execute_result"
    }
   ],
   "source": [
    "class G():\n",
    "    @decorators.cached_property(hello=\"world\")\n",
    "    def cache_me(self): return np.random.uniform(size=(10000, 10000))\n",
    "    \n",
    "G.cache_me.kwargs"
   ]
  },
  {
   "cell_type": "code",
   "execution_count": 9,
   "metadata": {},
   "outputs": [],
   "source": [
    "class G():\n",
    "    @decorators.cached_property\n",
    "    def cache_me(self): return np.random.uniform(size=(10000, 10000))\n",
    "    \n",
    "g = G()"
   ]
  },
  {
   "cell_type": "code",
   "execution_count": 10,
   "metadata": {},
   "outputs": [
    {
     "name": "stdout",
     "output_type": "stream",
     "text": [
      "CPU times: user 1.6 s, sys: 319 ms, total: 1.92 s\n",
      "Wall time: 2.37 s\n",
      "CPU times: user 12 µs, sys: 30 µs, total: 42 µs\n",
      "Wall time: 44.6 µs\n"
     ]
    }
   ],
   "source": [
    "%time _ = g.cache_me\n",
    "%time _ = g.cache_me"
   ]
  },
  {
   "cell_type": "code",
   "execution_count": 11,
   "metadata": {},
   "outputs": [
    {
     "data": {
      "text/plain": [
       "['__cached_cache_me',\n",
       " '__class__',\n",
       " '__delattr__',\n",
       " '__dict__',\n",
       " '__dir__',\n",
       " '__doc__',\n",
       " '__eq__',\n",
       " '__format__',\n",
       " '__ge__',\n",
       " '__getattribute__',\n",
       " '__gt__',\n",
       " '__hash__',\n",
       " '__init__',\n",
       " '__init_subclass__',\n",
       " '__le__',\n",
       " '__lt__',\n",
       " '__module__',\n",
       " '__ne__',\n",
       " '__new__',\n",
       " '__reduce__',\n",
       " '__reduce_ex__',\n",
       " '__repr__',\n",
       " '__setattr__',\n",
       " '__sizeof__',\n",
       " '__str__',\n",
       " '__subclasshook__',\n",
       " '__weakref__',\n",
       " 'cache_me']"
      ]
     },
     "execution_count": 11,
     "metadata": {},
     "output_type": "execute_result"
    }
   ],
   "source": [
    "dir(g)"
   ]
  },
  {
   "cell_type": "code",
   "execution_count": 12,
   "metadata": {},
   "outputs": [
    {
     "name": "stdout",
     "output_type": "stream",
     "text": [
      "CPU times: user 1.74 s, sys: 503 ms, total: 2.24 s\n",
      "Wall time: 2.97 s\n",
      "CPU times: user 7 µs, sys: 0 ns, total: 7 µs\n",
      "Wall time: 9.06 µs\n"
     ]
    }
   ],
   "source": [
    "G.cache_me.clear_cache(g)\n",
    "%time _ = g.cache_me\n",
    "%time _ = g.cache_me"
   ]
  },
  {
   "cell_type": "code",
   "execution_count": 13,
   "metadata": {},
   "outputs": [
    {
     "name": "stdout",
     "output_type": "stream",
     "text": [
      "CPU times: user 1.23 s, sys: 230 ms, total: 1.46 s\n",
      "Wall time: 1.47 s\n",
      "CPU times: user 1.54 s, sys: 475 ms, total: 2.01 s\n",
      "Wall time: 2.35 s\n"
     ]
    }
   ],
   "source": [
    "G.cache_me.disabled = True\n",
    "%time _ = g.cache_me\n",
    "%time _ = g.cache_me\n",
    "G.cache_me.disabled = False"
   ]
  },
  {
   "cell_type": "code",
   "execution_count": 14,
   "metadata": {},
   "outputs": [
    {
     "name": "stdout",
     "output_type": "stream",
     "text": [
      "CPU times: user 1.23 s, sys: 336 ms, total: 1.57 s\n",
      "Wall time: 1.58 s\n",
      "CPU times: user 1.21 s, sys: 296 ms, total: 1.51 s\n",
      "Wall time: 1.52 s\n"
     ]
    }
   ],
   "source": [
    "vbt.defaults.caching = False\n",
    "%time _ = g.cache_me\n",
    "%time _ = g.cache_me\n",
    "vbt.defaults.caching = True"
   ]
  },
  {
   "cell_type": "code",
   "execution_count": 15,
   "metadata": {},
   "outputs": [
    {
     "data": {
      "text/plain": [
       "{'hello': 'world'}"
      ]
     },
     "execution_count": 15,
     "metadata": {},
     "output_type": "execute_result"
    }
   ],
   "source": [
    "class G():\n",
    "    @decorators.cached_method(hello=\"world\")\n",
    "    def cache_me(self, a): return np.random.uniform(size=(10000, 10000)) * a\n",
    "\n",
    "G.cache_me.kwargs"
   ]
  },
  {
   "cell_type": "code",
   "execution_count": 16,
   "metadata": {},
   "outputs": [],
   "source": [
    "class G():\n",
    "    @decorators.cached_method\n",
    "    def cache_me(self, a): return np.random.uniform(size=(10000, 10000)) * a\n",
    "\n",
    "g = G()"
   ]
  },
  {
   "cell_type": "code",
   "execution_count": 17,
   "metadata": {},
   "outputs": [
    {
     "name": "stdout",
     "output_type": "stream",
     "text": [
      "CPU times: user 1.3 s, sys: 285 ms, total: 1.59 s\n",
      "Wall time: 1.6 s\n",
      "CPU times: user 12 µs, sys: 0 ns, total: 12 µs\n",
      "Wall time: 15.3 µs\n"
     ]
    }
   ],
   "source": [
    "%time _ = g.cache_me(2)\n",
    "%time _ = g.cache_me(2)"
   ]
  },
  {
   "cell_type": "code",
   "execution_count": 18,
   "metadata": {},
   "outputs": [
    {
     "data": {
      "text/plain": [
       "['__cached_cache_me',\n",
       " '__class__',\n",
       " '__delattr__',\n",
       " '__dict__',\n",
       " '__dir__',\n",
       " '__doc__',\n",
       " '__eq__',\n",
       " '__format__',\n",
       " '__ge__',\n",
       " '__getattribute__',\n",
       " '__gt__',\n",
       " '__hash__',\n",
       " '__init__',\n",
       " '__init_subclass__',\n",
       " '__le__',\n",
       " '__lt__',\n",
       " '__module__',\n",
       " '__ne__',\n",
       " '__new__',\n",
       " '__reduce__',\n",
       " '__reduce_ex__',\n",
       " '__repr__',\n",
       " '__setattr__',\n",
       " '__sizeof__',\n",
       " '__str__',\n",
       " '__subclasshook__',\n",
       " '__weakref__',\n",
       " 'cache_me']"
      ]
     },
     "execution_count": 18,
     "metadata": {},
     "output_type": "execute_result"
    }
   ],
   "source": [
    "dir(g)"
   ]
  },
  {
   "cell_type": "code",
   "execution_count": 19,
   "metadata": {},
   "outputs": [
    {
     "name": "stdout",
     "output_type": "stream",
     "text": [
      "CPU times: user 1.31 s, sys: 291 ms, total: 1.61 s\n",
      "Wall time: 1.61 s\n"
     ]
    }
   ],
   "source": [
    "G.cache_me.clear_cache(g)\n",
    "%time _ = g.cache_me(2)"
   ]
  },
  {
   "cell_type": "code",
   "execution_count": 20,
   "metadata": {},
   "outputs": [
    {
     "name": "stdout",
     "output_type": "stream",
     "text": [
      "CPU times: user 1.31 s, sys: 223 ms, total: 1.53 s\n",
      "Wall time: 1.55 s\n",
      "CPU times: user 1.35 s, sys: 277 ms, total: 1.63 s\n",
      "Wall time: 1.65 s\n"
     ]
    }
   ],
   "source": [
    "G.cache_me.disabled = True\n",
    "%time _ = g.cache_me(2)\n",
    "%time _ = g.cache_me(2)\n",
    "G.cache_me.disabled = False"
   ]
  },
  {
   "cell_type": "code",
   "execution_count": 21,
   "metadata": {},
   "outputs": [
    {
     "name": "stdout",
     "output_type": "stream",
     "text": [
      "CPU times: user 1.31 s, sys: 284 ms, total: 1.6 s\n",
      "Wall time: 1.6 s\n",
      "CPU times: user 1.32 s, sys: 280 ms, total: 1.6 s\n",
      "Wall time: 1.61 s\n"
     ]
    }
   ],
   "source": [
    "vbt.defaults.caching = False\n",
    "%time _ = g.cache_me(2)\n",
    "%time _ = g.cache_me(2)\n",
    "vbt.defaults.caching = True"
   ]
  },
  {
   "cell_type": "code",
   "execution_count": 22,
   "metadata": {},
   "outputs": [
    {
     "name": "stdout",
     "output_type": "stream",
     "text": [
      "CPU times: user 1.31 s, sys: 277 ms, total: 1.58 s\n",
      "Wall time: 1.59 s\n",
      "CPU times: user 1.29 s, sys: 281 ms, total: 1.57 s\n",
      "Wall time: 1.57 s\n"
     ]
    }
   ],
   "source": [
    "# Non-hashable arguments won't cache\n",
    "%time _ = g.cache_me(np.asarray(2))\n",
    "%time _ = g.cache_me(np.asarray(2))"
   ]
  },
  {
   "cell_type": "code",
   "execution_count": 23,
   "metadata": {},
   "outputs": [],
   "source": [
    "class A:\n",
    "    @decorators.custom_property(some_key=0)\n",
    "    def a(self): pass\n",
    "\n",
    "class B:\n",
    "    @decorators.cached_property(some_key=0, child_cls=A)\n",
    "    def a(self): pass\n",
    "    \n",
    "    @decorators.custom_method(some_key=1)\n",
    "    def b(self): pass\n",
    "    \n",
    "class C:\n",
    "    @decorators.cached_method(some_key=0, child_cls=B)\n",
    "    def b(self): pass\n",
    "    \n",
    "    @decorators.custom_property(some_key=1)\n",
    "    def c(self): pass"
   ]
  },
  {
   "cell_type": "code",
   "execution_count": 24,
   "metadata": {},
   "outputs": [
    {
     "data": {
      "text/plain": [
       "\"{'b': {'some_key': 0, 'child_cls': <class '__main__.B'>, 'child_attrs': {'a': {'some_key': 0, 'child_cls': <class '__main__.A'>, 'child_attrs': {'a': {'some_key': 0}}}, 'b': {'some_key': 1}}}, 'c': {'some_key': 1}}\""
      ]
     },
     "execution_count": 24,
     "metadata": {},
     "output_type": "execute_result"
    }
   ],
   "source": [
    "str(decorators.traverse_attr_kwargs(C))"
   ]
  },
  {
   "cell_type": "code",
   "execution_count": 25,
   "metadata": {},
   "outputs": [
    {
     "data": {
      "text/plain": [
       "{'b': {'some_key': 0,\n",
       "  'child_cls': __main__.B,\n",
       "  'child_attrs': {'a': {'some_key': 0,\n",
       "    'child_cls': __main__.A,\n",
       "    'child_attrs': {'a': {'some_key': 0}}},\n",
       "   'b': {'some_key': 1}}},\n",
       " 'c': {'some_key': 1}}"
      ]
     },
     "execution_count": 25,
     "metadata": {},
     "output_type": "execute_result"
    }
   ],
   "source": [
    "decorators.traverse_attr_kwargs(C, key='some_key')"
   ]
  },
  {
   "cell_type": "code",
   "execution_count": 26,
   "metadata": {},
   "outputs": [
    {
     "data": {
      "text/plain": [
       "{'b': {'some_key': 0,\n",
       "  'child_cls': __main__.B,\n",
       "  'child_attrs': {'a': {'some_key': 0,\n",
       "    'child_cls': __main__.A,\n",
       "    'child_attrs': {}},\n",
       "   'b': {'some_key': 1}}},\n",
       " 'c': {'some_key': 1}}"
      ]
     },
     "execution_count": 26,
     "metadata": {},
     "output_type": "execute_result"
    }
   ],
   "source": [
    "decorators.traverse_attr_kwargs(C, key='some_key', value=1)"
   ]
  },
  {
   "cell_type": "code",
   "execution_count": 27,
   "metadata": {},
   "outputs": [
    {
     "data": {
      "text/plain": [
       "{'b': {'some_key': 0,\n",
       "  'child_cls': __main__.B,\n",
       "  'child_attrs': {'a': {'some_key': 0,\n",
       "    'child_cls': __main__.A,\n",
       "    'child_attrs': {'a': {'some_key': 0}}},\n",
       "   'b': {'some_key': 1}}},\n",
       " 'c': {'some_key': 1}}"
      ]
     },
     "execution_count": 27,
     "metadata": {},
     "output_type": "execute_result"
    }
   ],
   "source": [
    "decorators.traverse_attr_kwargs(C, key='some_key', value=(0, 1))"
   ]
  },
  {
   "cell_type": "markdown",
   "metadata": {},
   "source": [
    "## checks"
   ]
  },
  {
   "cell_type": "code",
   "execution_count": 28,
   "metadata": {},
   "outputs": [
    {
     "name": "stdout",
     "output_type": "stream",
     "text": [
      "False\n",
      "False\n",
      "True\n",
      "False\n"
     ]
    }
   ],
   "source": [
    "print(checks.is_series(v1))\n",
    "print(checks.is_series(a1))\n",
    "print(checks.is_series(sr1))\n",
    "print(checks.is_series(df1))"
   ]
  },
  {
   "cell_type": "code",
   "execution_count": 29,
   "metadata": {},
   "outputs": [
    {
     "name": "stdout",
     "output_type": "stream",
     "text": [
      "False\n",
      "False\n",
      "False\n",
      "True\n"
     ]
    }
   ],
   "source": [
    "print(checks.is_frame(v1))\n",
    "print(checks.is_frame(a1))\n",
    "print(checks.is_frame(sr1))\n",
    "print(checks.is_frame(df1))"
   ]
  },
  {
   "cell_type": "code",
   "execution_count": 30,
   "metadata": {},
   "outputs": [
    {
     "name": "stdout",
     "output_type": "stream",
     "text": [
      "False\n",
      "False\n",
      "True\n",
      "True\n"
     ]
    }
   ],
   "source": [
    "print(checks.is_pandas(v1))\n",
    "print(checks.is_pandas(a1))\n",
    "print(checks.is_pandas(sr1))\n",
    "print(checks.is_pandas(df1))"
   ]
  },
  {
   "cell_type": "code",
   "execution_count": 31,
   "metadata": {},
   "outputs": [
    {
     "name": "stdout",
     "output_type": "stream",
     "text": [
      "False\n",
      "True\n",
      "True\n",
      "True\n"
     ]
    }
   ],
   "source": [
    "print(checks.is_array(v1))\n",
    "print(checks.is_array(a1))\n",
    "print(checks.is_array(sr1))\n",
    "print(checks.is_array(df1))"
   ]
  },
  {
   "cell_type": "code",
   "execution_count": 32,
   "metadata": {},
   "outputs": [
    {
     "name": "stdout",
     "output_type": "stream",
     "text": [
      "False\n",
      "True\n"
     ]
    }
   ],
   "source": [
    "print(checks.is_numba_func(lambda x: x))\n",
    "print(checks.is_numba_func(njit(lambda x: x)))"
   ]
  },
  {
   "cell_type": "code",
   "execution_count": 33,
   "metadata": {},
   "outputs": [
    {
     "name": "stdout",
     "output_type": "stream",
     "text": [
      "True\n",
      "False\n"
     ]
    }
   ],
   "source": [
    "print(checks.is_hashable(2))\n",
    "print(checks.is_hashable(np.asarray(2)))"
   ]
  },
  {
   "cell_type": "code",
   "execution_count": 34,
   "metadata": {},
   "outputs": [],
   "source": [
    "checks.assert_in(0, (0, 1))"
   ]
  },
  {
   "cell_type": "code",
   "execution_count": 35,
   "metadata": {},
   "outputs": [],
   "source": [
    "checks.assert_numba_func(njit(lambda x: x))"
   ]
  },
  {
   "cell_type": "code",
   "execution_count": 36,
   "metadata": {},
   "outputs": [],
   "source": [
    "checks.assert_not_none(v1)"
   ]
  },
  {
   "cell_type": "code",
   "execution_count": 37,
   "metadata": {},
   "outputs": [],
   "source": [
    "checks.assert_type(v1, int)\n",
    "checks.assert_type(a1, np.ndarray)\n",
    "checks.assert_type(sr1, (np.ndarray, pd.Series))"
   ]
  },
  {
   "cell_type": "code",
   "execution_count": 38,
   "metadata": {},
   "outputs": [],
   "source": [
    "checks.assert_type_equal(v1, v1)\n",
    "checks.assert_type_equal(a1, a2)\n",
    "checks.assert_type_equal(sr1, sr1)\n",
    "checks.assert_type_equal(df1, df2)"
   ]
  },
  {
   "cell_type": "code",
   "execution_count": 39,
   "metadata": {},
   "outputs": [],
   "source": [
    "checks.assert_dtype(a1, np.int)"
   ]
  },
  {
   "cell_type": "code",
   "execution_count": 40,
   "metadata": {},
   "outputs": [],
   "source": [
    "checks.assert_dtype_equal(v1, a1)\n",
    "checks.assert_dtype_equal(a1, df1)\n",
    "checks.assert_dtype_equal(df1, df2)\n",
    "checks.assert_dtype_equal(df2, df3)"
   ]
  },
  {
   "cell_type": "code",
   "execution_count": 41,
   "metadata": {},
   "outputs": [],
   "source": [
    "checks.assert_ndim(v1, 0)\n",
    "checks.assert_ndim(a1, 1)\n",
    "checks.assert_ndim(df1, 2)"
   ]
  },
  {
   "cell_type": "code",
   "execution_count": 42,
   "metadata": {},
   "outputs": [],
   "source": [
    "checks.assert_len_equal([[1]], [[2]])"
   ]
  },
  {
   "cell_type": "code",
   "execution_count": 43,
   "metadata": {},
   "outputs": [],
   "source": [
    "checks.assert_shape_equal(a1, sr1)\n",
    "checks.assert_shape_equal(df2, df4, axis=0)\n",
    "checks.assert_shape_equal(df3, df4, axis=1)\n",
    "checks.assert_shape_equal(df2, df3, axis=(0, 1))"
   ]
  },
  {
   "cell_type": "code",
   "execution_count": 44,
   "metadata": {},
   "outputs": [],
   "source": [
    "checks.assert_index_equal(df3.index, df3.index)"
   ]
  },
  {
   "cell_type": "code",
   "execution_count": 45,
   "metadata": {},
   "outputs": [],
   "source": [
    "checks.assert_meta_equal(df3, df3)"
   ]
  },
  {
   "cell_type": "code",
   "execution_count": 46,
   "metadata": {},
   "outputs": [],
   "source": [
    "checks.assert_array_equal(df3, df3)"
   ]
  },
  {
   "cell_type": "code",
   "execution_count": 47,
   "metadata": {},
   "outputs": [],
   "source": [
    "checks.assert_level_not_exists(df3.columns, 'a')"
   ]
  },
  {
   "cell_type": "code",
   "execution_count": null,
   "metadata": {},
   "outputs": [],
   "source": []
  }
 ],
 "metadata": {
  "kernelspec": {
   "display_name": "Python 3",
   "language": "python",
   "name": "python3"
  },
  "language_info": {
   "codemirror_mode": {
    "name": "ipython",
    "version": 3
   },
   "file_extension": ".py",
   "mimetype": "text/x-python",
   "name": "python",
   "nbconvert_exporter": "python",
   "pygments_lexer": "ipython3",
   "version": "3.7.3"
  },
  "widgets": {
   "application/vnd.jupyter.widget-state+json": {
    "state": {},
    "version_major": 2,
    "version_minor": 0
   }
  }
 },
 "nbformat": 4,
 "nbformat_minor": 4
}
