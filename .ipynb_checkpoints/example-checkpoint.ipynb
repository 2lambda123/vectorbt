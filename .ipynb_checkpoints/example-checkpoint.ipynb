{
 "cells": [
  {
   "cell_type": "markdown",
   "metadata": {},
   "source": [
    "# data"
   ]
  },
  {
   "cell_type": "code",
   "execution_count": 1,
   "metadata": {},
   "outputs": [],
   "source": [
    "from vectorbt import data, graphics\n",
    "from datetime import datetime\n",
    "import pytz\n",
    "from importlib import reload"
   ]
  },
  {
   "cell_type": "code",
   "execution_count": 2,
   "metadata": {},
   "outputs": [
    {
     "data": {
      "text/plain": [
       "<module 'vectorbt.graphics' from '/Users/olegpolakow/Documents/SourceTree/vector-bt/vectorbt/graphics.py'>"
      ]
     },
     "execution_count": 2,
     "metadata": {},
     "output_type": "execute_result"
    }
   ],
   "source": [
    "reload(data)\n",
    "reload(graphics)"
   ]
  },
  {
   "cell_type": "code",
   "execution_count": 3,
   "metadata": {
    "scrolled": true
   },
   "outputs": [
    {
     "name": "stdout",
     "output_type": "stream",
     "text": [
      "Finished. 1.44s\n"
     ]
    },
    {
     "data": {
      "text/html": [
       "<div>\n",
       "<style>\n",
       "    .dataframe thead tr:only-child th {\n",
       "        text-align: right;\n",
       "    }\n",
       "\n",
       "    .dataframe thead th {\n",
       "        text-align: left;\n",
       "    }\n",
       "\n",
       "    .dataframe tbody tr th {\n",
       "        vertical-align: top;\n",
       "    }\n",
       "</style>\n",
       "<table border=\"1\" class=\"dataframe\">\n",
       "  <thead>\n",
       "    <tr style=\"text-align: right;\">\n",
       "      <th></th>\n",
       "      <th>close</th>\n",
       "      <th>high</th>\n",
       "      <th>low</th>\n",
       "      <th>open</th>\n",
       "      <th>quoteVolume</th>\n",
       "      <th>volume</th>\n",
       "      <th>weightedAverage</th>\n",
       "    </tr>\n",
       "    <tr>\n",
       "      <th>date</th>\n",
       "      <th></th>\n",
       "      <th></th>\n",
       "      <th></th>\n",
       "      <th></th>\n",
       "      <th></th>\n",
       "      <th></th>\n",
       "      <th></th>\n",
       "    </tr>\n",
       "  </thead>\n",
       "  <tbody>\n",
       "    <tr>\n",
       "      <th>2017-10-16 22:30:00</th>\n",
       "      <td>5702.692023</td>\n",
       "      <td>5718.870000</td>\n",
       "      <td>5702.692023</td>\n",
       "      <td>5718.870000</td>\n",
       "      <td>3.796625</td>\n",
       "      <td>21672.085234</td>\n",
       "      <td>5708.249521</td>\n",
       "    </tr>\n",
       "    <tr>\n",
       "      <th>2017-10-16 22:35:00</th>\n",
       "      <td>5705.320000</td>\n",
       "      <td>5715.530483</td>\n",
       "      <td>5705.307720</td>\n",
       "      <td>5711.999999</td>\n",
       "      <td>2.172149</td>\n",
       "      <td>12400.148485</td>\n",
       "      <td>5708.701053</td>\n",
       "    </tr>\n",
       "    <tr>\n",
       "      <th>2017-10-16 22:40:00</th>\n",
       "      <td>5706.000000</td>\n",
       "      <td>5714.307719</td>\n",
       "      <td>5700.453309</td>\n",
       "      <td>5710.000000</td>\n",
       "      <td>5.784446</td>\n",
       "      <td>33001.420264</td>\n",
       "      <td>5705.199354</td>\n",
       "    </tr>\n",
       "    <tr>\n",
       "      <th>2017-10-16 22:45:00</th>\n",
       "      <td>5718.780000</td>\n",
       "      <td>5718.780000</td>\n",
       "      <td>5706.000000</td>\n",
       "      <td>5706.000000</td>\n",
       "      <td>5.825045</td>\n",
       "      <td>33290.632693</td>\n",
       "      <td>5715.085543</td>\n",
       "    </tr>\n",
       "    <tr>\n",
       "      <th>2017-10-16 22:50:00</th>\n",
       "      <td>5714.310000</td>\n",
       "      <td>5722.000000</td>\n",
       "      <td>5714.310000</td>\n",
       "      <td>5717.500000</td>\n",
       "      <td>5.989278</td>\n",
       "      <td>34248.657447</td>\n",
       "      <td>5718.328704</td>\n",
       "    </tr>\n",
       "  </tbody>\n",
       "</table>\n",
       "</div>"
      ],
      "text/plain": [
       "                           close         high          low         open  \\\n",
       "date                                                                      \n",
       "2017-10-16 22:30:00  5702.692023  5718.870000  5702.692023  5718.870000   \n",
       "2017-10-16 22:35:00  5705.320000  5715.530483  5705.307720  5711.999999   \n",
       "2017-10-16 22:40:00  5706.000000  5714.307719  5700.453309  5710.000000   \n",
       "2017-10-16 22:45:00  5718.780000  5718.780000  5706.000000  5706.000000   \n",
       "2017-10-16 22:50:00  5714.310000  5722.000000  5714.310000  5717.500000   \n",
       "\n",
       "                     quoteVolume        volume  weightedAverage  \n",
       "date                                                             \n",
       "2017-10-16 22:30:00     3.796625  21672.085234      5708.249521  \n",
       "2017-10-16 22:35:00     2.172149  12400.148485      5708.701053  \n",
       "2017-10-16 22:40:00     5.784446  33001.420264      5705.199354  \n",
       "2017-10-16 22:45:00     5.825045  33290.632693      5715.085543  \n",
       "2017-10-16 22:50:00     5.989278  34248.657447      5718.328704  "
      ]
     },
     "execution_count": 3,
     "metadata": {},
     "output_type": "execute_result"
    }
   ],
   "source": [
    "ohlc_df = data.load_cryptopair('USDT_BTC', data.ago_dt(days=30), data.now_dt())\n",
    "ohlc_df.head()"
   ]
  },
  {
   "cell_type": "code",
   "execution_count": 4,
   "metadata": {
    "collapsed": true
   },
   "outputs": [],
   "source": [
    "rate_sr = ohlc_df['open']"
   ]
  },
  {
   "cell_type": "code",
   "execution_count": 5,
   "metadata": {},
   "outputs": [
    {
     "data": {
      "image/png": "[encoded data removed]",
      "text/plain": [
       "<matplotlib.figure.Figure at 0x113359cc0>"
      ]
     },
     "metadata": {},
     "output_type": "display_data"
    }
   ],
   "source": [
    "graphics.plot_line(rate_sr)"
   ]
  },
  {
   "cell_type": "markdown",
   "metadata": {},
   "source": [
    "# strategy"
   ]
  },
  {
   "cell_type": "code",
   "execution_count": 6,
   "metadata": {
    "collapsed": true
   },
   "outputs": [],
   "source": [
    "from vectorbt import strategy\n",
    "import numpy as np"
   ]
  },
  {
   "cell_type": "code",
   "execution_count": 7,
   "metadata": {},
   "outputs": [
    {
     "data": {
      "text/plain": [
       "<module 'vectorbt.strategy' from '/Users/olegpolakow/Documents/SourceTree/vector-bt/vectorbt/strategy.py'>"
      ]
     },
     "execution_count": 7,
     "metadata": {},
     "output_type": "execute_result"
    }
   ],
   "source": [
    "reload(strategy)"
   ]
  },
  {
   "cell_type": "code",
   "execution_count": 8,
   "metadata": {},
   "outputs": [
    {
     "name": "stdout",
     "output_type": "stream",
     "text": [
      "date\n",
      "2017-10-16 22:30:00    5718.870000\n",
      "2017-10-16 22:35:00    5718.215714\n",
      "2017-10-16 22:40:00    5717.433265\n",
      "2017-10-16 22:45:00    5716.344383\n",
      "2017-10-16 22:50:00    5716.454441\n",
      "Name: open, dtype: float64\n",
      "date\n",
      "2017-10-16 22:30:00    5718.870000\n",
      "2017-10-16 22:35:00    5718.600588\n",
      "2017-10-16 22:40:00    5718.263310\n",
      "2017-10-16 22:45:00    5717.782396\n",
      "2017-10-16 22:50:00    5717.771321\n",
      "Name: open, dtype: float64\n"
     ]
    }
   ],
   "source": [
    "fast_ema_sr = strategy.ema(rate_sr, 20)\n",
    "slow_ema_sr = strategy.ema(rate_sr, 50)\n",
    "print(fast_ema_sr.head())\n",
    "print(slow_ema_sr.head())"
   ]
  },
  {
   "cell_type": "code",
   "execution_count": 9,
   "metadata": {},
   "outputs": [
    {
     "name": "stdout",
     "output_type": "stream",
     "text": [
      "[1062 2762 3717 4643 4760 6394 7607 7625 7860 7916 7926 8101 8401 8524]\n",
      "[ 401  479 1519 2055 2298 5993 6007 6584 6586 6594 7070 7152 7364 7547 7565\n",
      " 7761 8016]\n"
     ]
    }
   ],
   "source": [
    "ema_entry_vector = strategy.ma_entry_vector(rate_sr, fast_ema_sr, slow_ema_sr, th=(0.01, 0.01))\n",
    "ema_exit_vector = strategy.ma_exit_vector(rate_sr, fast_ema_sr, slow_ema_sr, th=(0.01, 0.01))\n",
    "print(np.flatnonzero(ema_entry_vector))\n",
    "print(np.flatnonzero(ema_exit_vector))"
   ]
  },
  {
   "cell_type": "markdown",
   "metadata": {},
   "source": [
    "# positions"
   ]
  },
  {
   "cell_type": "code",
   "execution_count": 10,
   "metadata": {},
   "outputs": [],
   "source": [
    "from vectorbt import positions\n",
    "import matplotlib\n",
    "from matplotlib import pyplot as plt\n",
    "matplotlib.rcParams['figure.figsize'] = (10, 4)"
   ]
  },
  {
   "cell_type": "code",
   "execution_count": 11,
   "metadata": {},
   "outputs": [
    {
     "data": {
      "text/plain": [
       "<module 'vectorbt.positions' from '/Users/olegpolakow/Documents/SourceTree/vector-bt/vectorbt/positions.py'>"
      ]
     },
     "execution_count": 11,
     "metadata": {},
     "output_type": "execute_result"
    }
   ],
   "source": [
    "reload(positions)"
   ]
  },
  {
   "cell_type": "code",
   "execution_count": 12,
   "metadata": {},
   "outputs": [
    {
     "data": {
      "text/plain": [
       "date\n",
       "2017-10-20 15:00:00    1\n",
       "2017-10-22 05:05:00   -1\n",
       "2017-10-26 12:40:00    1\n",
       "2017-11-06 17:55:00   -1\n",
       "2017-11-08 03:20:00    1\n",
       "dtype: int64"
      ]
     },
     "execution_count": 12,
     "metadata": {},
     "output_type": "execute_result"
    }
   ],
   "source": [
    "position_sr = positions.from_vectors(rate_sr, ema_entry_vector, ema_exit_vector)\n",
    "position_sr.head()"
   ]
  },
  {
   "cell_type": "code",
   "execution_count": 13,
   "metadata": {},
   "outputs": [
    {
     "data": {
      "image/png": "[encoded data removed]",
      "text/plain": [
       "<matplotlib.figure.Figure at 0x109ea16d8>"
      ]
     },
     "metadata": {},
     "output_type": "display_data"
    }
   ],
   "source": [
    "positions.plot(rate_sr, position_sr)"
   ]
  },
  {
   "cell_type": "markdown",
   "metadata": {},
   "source": [
    "# returns"
   ]
  },
  {
   "cell_type": "code",
   "execution_count": 14,
   "metadata": {
    "collapsed": true
   },
   "outputs": [],
   "source": [
    "from vectorbt import returns"
   ]
  },
  {
   "cell_type": "code",
   "execution_count": 15,
   "metadata": {},
   "outputs": [
    {
     "data": {
      "text/plain": [
       "<module 'vectorbt.returns' from '/Users/olegpolakow/Documents/SourceTree/vector-bt/vectorbt/returns.py'>"
      ]
     },
     "execution_count": 15,
     "metadata": {},
     "output_type": "execute_result"
    }
   ],
   "source": [
    "reload(returns)"
   ]
  },
  {
   "cell_type": "code",
   "execution_count": 16,
   "metadata": {},
   "outputs": [
    {
     "data": {
      "text/plain": [
       "date\n",
       "2017-10-20 15:00:00   -0.001500\n",
       "2017-10-22 05:05:00   -0.020383\n",
       "2017-10-26 12:40:00   -0.001500\n",
       "2017-11-06 17:55:00    0.191785\n",
       "2017-11-08 03:20:00   -0.001500\n",
       "dtype: float64"
      ]
     },
     "execution_count": 16,
     "metadata": {},
     "output_type": "execute_result"
    }
   ],
   "source": [
    "returns_sr = returns.from_positions(rate_sr, position_sr, 0.0015)\n",
    "returns_sr.head()"
   ]
  },
  {
   "cell_type": "code",
   "execution_count": 17,
   "metadata": {},
   "outputs": [
    {
     "data": {
      "text/plain": [
       "2017-10-16 22:30:00   -0.001500\n",
       "2017-11-15 22:25:00    0.265745\n",
       "dtype: float64"
      ]
     },
     "execution_count": 17,
     "metadata": {},
     "output_type": "execute_result"
    }
   ],
   "source": [
    "returns.on_hold(rate_sr, 0.0015)"
   ]
  },
  {
   "cell_type": "code",
   "execution_count": 18,
   "metadata": {},
   "outputs": [
    {
     "data": {
      "image/png": "[encoded data removed]",
      "text/plain": [
       "<matplotlib.figure.Figure at 0x1140dc7b8>"
      ]
     },
     "metadata": {},
     "output_type": "display_data"
    }
   ],
   "source": [
    "returns.plot(returns_sr)"
   ]
  },
  {
   "cell_type": "markdown",
   "metadata": {},
   "source": [
    "# equity"
   ]
  },
  {
   "cell_type": "code",
   "execution_count": 19,
   "metadata": {
    "collapsed": true
   },
   "outputs": [],
   "source": [
    "from vectorbt import equity"
   ]
  },
  {
   "cell_type": "code",
   "execution_count": 20,
   "metadata": {},
   "outputs": [
    {
     "data": {
      "text/plain": [
       "<module 'vectorbt.equity' from '/Users/olegpolakow/Documents/SourceTree/vector-bt/vectorbt/equity.py'>"
      ]
     },
     "execution_count": 20,
     "metadata": {},
     "output_type": "execute_result"
    }
   ],
   "source": [
    "reload(equity)"
   ]
  },
  {
   "cell_type": "code",
   "execution_count": 21,
   "metadata": {},
   "outputs": [
    {
     "data": {
      "text/html": [
       "<div>\n",
       "<style>\n",
       "    .dataframe thead tr:only-child th {\n",
       "        text-align: right;\n",
       "    }\n",
       "\n",
       "    .dataframe thead th {\n",
       "        text-align: left;\n",
       "    }\n",
       "\n",
       "    .dataframe tbody tr th {\n",
       "        vertical-align: top;\n",
       "    }\n",
       "</style>\n",
       "<table border=\"1\" class=\"dataframe\">\n",
       "  <thead>\n",
       "    <tr style=\"text-align: right;\">\n",
       "      <th></th>\n",
       "      <th>base</th>\n",
       "      <th>quote</th>\n",
       "    </tr>\n",
       "    <tr>\n",
       "      <th>date</th>\n",
       "      <th></th>\n",
       "      <th></th>\n",
       "    </tr>\n",
       "  </thead>\n",
       "  <tbody>\n",
       "    <tr>\n",
       "      <th>2017-10-16 22:30:00</th>\n",
       "      <td>NaN</td>\n",
       "      <td>NaN</td>\n",
       "    </tr>\n",
       "    <tr>\n",
       "      <th>2017-10-16 22:35:00</th>\n",
       "      <td>NaN</td>\n",
       "      <td>NaN</td>\n",
       "    </tr>\n",
       "    <tr>\n",
       "      <th>2017-10-16 22:40:00</th>\n",
       "      <td>NaN</td>\n",
       "      <td>NaN</td>\n",
       "    </tr>\n",
       "    <tr>\n",
       "      <th>2017-10-16 22:45:00</th>\n",
       "      <td>NaN</td>\n",
       "      <td>NaN</td>\n",
       "    </tr>\n",
       "    <tr>\n",
       "      <th>2017-10-16 22:50:00</th>\n",
       "      <td>NaN</td>\n",
       "      <td>NaN</td>\n",
       "    </tr>\n",
       "  </tbody>\n",
       "</table>\n",
       "</div>"
      ],
      "text/plain": [
       "                     base  quote\n",
       "date                            \n",
       "2017-10-16 22:30:00   NaN    NaN\n",
       "2017-10-16 22:35:00   NaN    NaN\n",
       "2017-10-16 22:40:00   NaN    NaN\n",
       "2017-10-16 22:45:00   NaN    NaN\n",
       "2017-10-16 22:50:00   NaN    NaN"
      ]
     },
     "execution_count": 21,
     "metadata": {},
     "output_type": "execute_result"
    }
   ],
   "source": [
    "equity_df = equity.from_returns(rate_sr, returns_sr)\n",
    "equity_df.head()"
   ]
  },
  {
   "cell_type": "code",
   "execution_count": 22,
   "metadata": {},
   "outputs": [
    {
     "data": {
      "image/png": "[encoded data removed]",
      "text/plain": [
       "<matplotlib.figure.Figure at 0x1142dc390>"
      ]
     },
     "metadata": {},
     "output_type": "display_data"
    },
    {
     "data": {
      "image/png": "[encoded data removed]",
      "text/plain": [
       "<matplotlib.figure.Figure at 0x11442b908>"
      ]
     },
     "metadata": {},
     "output_type": "display_data"
    }
   ],
   "source": [
    "equity.plot(rate_sr, equity_df)"
   ]
  },
  {
   "cell_type": "code",
   "execution_count": 23,
   "metadata": {},
   "outputs": [
    {
     "data": {
      "text/plain": [
       "date\n",
       "2017-10-20 15:00:00   -0.001500\n",
       "2017-10-22 05:05:00   -0.020353\n",
       "2017-10-26 12:40:00   -0.001467\n",
       "2017-11-06 17:55:00    0.187313\n",
       "2017-11-08 03:20:00   -0.001746\n",
       "dtype: float64"
      ]
     },
     "execution_count": 23,
     "metadata": {},
     "output_type": "execute_result"
    }
   ],
   "source": [
    "eqd_sr = equity.diff_on_positions(returns_sr)\n",
    "eqd_sr.head()"
   ]
  },
  {
   "cell_type": "markdown",
   "metadata": {},
   "source": [
    "# indicators"
   ]
  },
  {
   "cell_type": "code",
   "execution_count": 24,
   "metadata": {},
   "outputs": [],
   "source": [
    "from vectorbt import indicators\n",
    "import json"
   ]
  },
  {
   "cell_type": "code",
   "execution_count": 25,
   "metadata": {},
   "outputs": [
    {
     "data": {
      "text/plain": [
       "<module 'vectorbt.indicators' from '/Users/olegpolakow/Documents/SourceTree/vector-bt/vectorbt/indicators.py'>"
      ]
     },
     "execution_count": 25,
     "metadata": {},
     "output_type": "execute_result"
    }
   ],
   "source": [
    "reload(indicators)"
   ]
  },
  {
   "cell_type": "code",
   "execution_count": 26,
   "metadata": {},
   "outputs": [
    {
     "name": "stdout",
     "output_type": "stream",
     "text": [
      "{\n",
      "  \"backtest\": {\n",
      "    \"from\": \"2017-10-20 15:00:00\",\n",
      "    \"to\": \"2017-11-15 22:25:00\",\n",
      "    \"days\": 26,\n",
      "    \"trades\": 12\n",
      "  },\n",
      "  \"performance\": {\n",
      "    \"profit\": 0.14605159647638177,\n",
      "    \"averages\": {\n",
      "      \"trade\": 0.025938948192681537,\n",
      "      \"gain\": 0.09671961246511045,\n",
      "      \"loss\": 0.04484171607974737\n",
      "    },\n",
      "    \"winrate\": 0.5,\n",
      "    \"payoff\": 2.15691148601678,\n",
      "    \"PF\": 2.15691148601678,\n",
      "    \"RF\": 1.3631461355758718\n",
      "  },\n",
      "  \"risk/return profile\": {\n",
      "    \"sharpe\": 3.201571748894034,\n",
      "    \"sortino\": 6.861687638474576,\n",
      "    \"maxdd\": 0.1141724170977021\n",
      "  }\n",
      "}\n"
     ]
    }
   ],
   "source": [
    "indicators.print_summary(eqd_sr)"
   ]
  },
  {
   "cell_type": "markdown",
   "metadata": {},
   "source": [
    "# optimizer.linmap"
   ]
  },
  {
   "cell_type": "markdown",
   "metadata": {},
   "source": [
    "## posmap"
   ]
  },
  {
   "cell_type": "code",
   "execution_count": 27,
   "metadata": {
    "collapsed": true
   },
   "outputs": [],
   "source": [
    "from vectorbt.optimizer.linmap import posmap\n",
    "import math"
   ]
  },
  {
   "cell_type": "code",
   "execution_count": 28,
   "metadata": {},
   "outputs": [
    {
     "data": {
      "text/plain": [
       "<module 'vectorbt.optimizer.linmap.posmap' from '/Users/olegpolakow/Documents/SourceTree/vector-bt/vectorbt/optimizer/linmap/posmap.py'>"
      ]
     },
     "execution_count": 28,
     "metadata": {},
     "output_type": "execute_result"
    }
   ],
   "source": [
    "reload(posmap)"
   ]
  },
  {
   "cell_type": "code",
   "execution_count": 29,
   "metadata": {},
   "outputs": [
    {
     "name": "stdout",
     "output_type": "stream",
     "text": [
      "Calcs: 5050, est. time: 10.26s\n",
      "Finished. 6.20s\n"
     ]
    }
   ],
   "source": [
    "ma_posmap = posmap.ma(rate_sr, 1, 100, 1, (0.01, 0.01), strategy.sma)"
   ]
  },
  {
   "cell_type": "code",
   "execution_count": 30,
   "metadata": {},
   "outputs": [
    {
     "name": "stdout",
     "output_type": "stream",
     "text": [
      "Calcs: 5050, est. time: 16.17s\n",
      "Finished. 5.13s\n"
     ]
    }
   ],
   "source": [
    "n = math.ceil(np.median([len(pos_sr.index) for pos_sr in ma_posmap.values() if len(pos_sr.index) > 0]))\n",
    "N = len(ma_posmap)\n",
    "random_posmap = posmap.random(rate_sr, n, N)"
   ]
  },
  {
   "cell_type": "markdown",
   "metadata": {},
   "source": [
    "## eqdmap"
   ]
  },
  {
   "cell_type": "code",
   "execution_count": 31,
   "metadata": {
    "collapsed": true
   },
   "outputs": [],
   "source": [
    "from vectorbt.optimizer.linmap import eqdmap"
   ]
  },
  {
   "cell_type": "code",
   "execution_count": 32,
   "metadata": {},
   "outputs": [
    {
     "data": {
      "text/plain": [
       "<module 'vectorbt.optimizer.linmap.eqdmap' from '/Users/olegpolakow/Documents/SourceTree/vector-bt/vectorbt/optimizer/linmap/eqdmap.py'>"
      ]
     },
     "execution_count": 32,
     "metadata": {},
     "output_type": "execute_result"
    }
   ],
   "source": [
    "reload(eqdmap)"
   ]
  },
  {
   "cell_type": "code",
   "execution_count": 33,
   "metadata": {},
   "outputs": [
    {
     "name": "stdout",
     "output_type": "stream",
     "text": [
      "Calcs: 5050, est. time: 26.80s\n",
      "Finished. 14.15s\n"
     ]
    }
   ],
   "source": [
    "ma_eqdmap = eqdmap.from_posmap(rate_sr, ma_posmap, 0.0015)"
   ]
  },
  {
   "cell_type": "code",
   "execution_count": 34,
   "metadata": {},
   "outputs": [
    {
     "name": "stdout",
     "output_type": "stream",
     "text": [
      "Calcs: 5050, est. time: 28.77s\n",
      "Finished. 15.64s\n"
     ]
    }
   ],
   "source": [
    "random_eqdmap = eqdmap.from_posmap(rate_sr, random_posmap, 0.0015)"
   ]
  },
  {
   "cell_type": "markdown",
   "metadata": {},
   "source": [
    "## kpimap"
   ]
  },
  {
   "cell_type": "code",
   "execution_count": 35,
   "metadata": {
    "collapsed": true
   },
   "outputs": [],
   "source": [
    "from vectorbt.optimizer.linmap import kpimap"
   ]
  },
  {
   "cell_type": "code",
   "execution_count": 36,
   "metadata": {},
   "outputs": [
    {
     "data": {
      "text/plain": [
       "<module 'vectorbt.optimizer.linmap.kpimap' from '/Users/olegpolakow/Documents/SourceTree/vector-bt/vectorbt/optimizer/linmap/kpimap.py'>"
      ]
     },
     "execution_count": 36,
     "metadata": {},
     "output_type": "execute_result"
    }
   ],
   "source": [
    "reload(kpimap)"
   ]
  },
  {
   "cell_type": "code",
   "execution_count": 37,
   "metadata": {},
   "outputs": [
    {
     "name": "stdout",
     "output_type": "stream",
     "text": [
      "{'min': ((39, 51), 0.0), 'max': ((90, 100), 1.0)}\n"
     ]
    }
   ],
   "source": [
    "ma_kpimap = kpimap.from_eqdmap(ma_eqdmap, indicators.winrate)"
   ]
  },
  {
   "cell_type": "code",
   "execution_count": 38,
   "metadata": {},
   "outputs": [
    {
     "name": "stdout",
     "output_type": "stream",
     "text": [
      "{'min': (3831, 0.15384615384615385), 'max': (4647, 1.0)}\n"
     ]
    }
   ],
   "source": [
    "random_kpimap = kpimap.from_eqdmap(random_eqdmap, indicators.winrate)"
   ]
  },
  {
   "cell_type": "code",
   "execution_count": 39,
   "metadata": {},
   "outputs": [
    {
     "name": "stdout",
     "output_type": "stream",
     "text": [
      "    count      mean       std       min       25%       50%       75%  max\n",
      "0  5050.0  0.553218  0.115192  0.153846  0.466667  0.545455  0.636364  1.0\n",
      "1  4543.0  0.559338  0.239957  0.000000  0.379310  0.466667  0.666667  1.0\n"
     ]
    },
    {
     "data": {
      "image/png": "[encoded data removed]",
      "text/plain": [
       "<matplotlib.figure.Figure at 0x119598748>"
      ]
     },
     "metadata": {},
     "output_type": "display_data"
    }
   ],
   "source": [
    "kpimap.compare(random_kpimap, ma_kpimap)"
   ]
  },
  {
   "cell_type": "markdown",
   "metadata": {},
   "source": [
    "## scoremap"
   ]
  },
  {
   "cell_type": "code",
   "execution_count": 40,
   "metadata": {
    "collapsed": true
   },
   "outputs": [],
   "source": [
    "from vectorbt.optimizer.linmap import scoremap"
   ]
  },
  {
   "cell_type": "code",
   "execution_count": 41,
   "metadata": {},
   "outputs": [
    {
     "data": {
      "text/plain": [
       "<module 'vectorbt.optimizer.linmap.scoremap' from '/Users/olegpolakow/Documents/SourceTree/vector-bt/vectorbt/optimizer/linmap/scoremap.py'>"
      ]
     },
     "execution_count": 41,
     "metadata": {},
     "output_type": "execute_result"
    }
   ],
   "source": [
    "reload(scoremap)"
   ]
  },
  {
   "cell_type": "code",
   "execution_count": 42,
   "metadata": {},
   "outputs": [
    {
     "name": "stdout",
     "output_type": "stream",
     "text": [
      "{'min': ((39, 51), 0.0), 'max': ((90, 100), 1.0)}\n",
      "{'min': ((44, 60), -18.130348242184574), 'max': ((13, 19), 16.055825934604833)}\n",
      "{'min': ((1, 1), 1.0), 'max': ((13, 19), 99.999999999999986)}\n"
     ]
    }
   ],
   "source": [
    "ma_scoremap = scoremap.from_eqdmap(ma_eqdmap, [indicators.winrate, indicators.sharpe], [2/3, 1/3], [False, False])"
   ]
  },
  {
   "cell_type": "markdown",
   "metadata": {},
   "source": [
    "## matrix"
   ]
  },
  {
   "cell_type": "code",
   "execution_count": 43,
   "metadata": {
    "collapsed": true
   },
   "outputs": [],
   "source": [
    "from vectorbt.optimizer.linmap import matrix"
   ]
  },
  {
   "cell_type": "code",
   "execution_count": 44,
   "metadata": {},
   "outputs": [
    {
     "data": {
      "text/plain": [
       "<module 'vectorbt.optimizer.linmap.matrix' from '/Users/olegpolakow/Documents/SourceTree/vector-bt/vectorbt/optimizer/linmap/matrix.py'>"
      ]
     },
     "execution_count": 44,
     "metadata": {},
     "output_type": "execute_result"
    }
   ],
   "source": [
    "reload(matrix)"
   ]
  },
  {
   "cell_type": "code",
   "execution_count": 45,
   "metadata": {
    "collapsed": true
   },
   "outputs": [],
   "source": [
    "ma_matrix_df = matrix.from_map(ma_scoremap, symmetric=True)"
   ]
  },
  {
   "cell_type": "code",
   "execution_count": 46,
   "metadata": {},
   "outputs": [
    {
     "data": {
      "image/png": "[encoded data removed]",
      "text/plain": [
       "<matplotlib.figure.Figure at 0x119981780>"
      ]
     },
     "metadata": {},
     "output_type": "display_data"
    },
    {
     "data": {
      "image/png": "[encoded data removed]",
      "text/plain": [
       "<matplotlib.figure.Figure at 0x119981128>"
      ]
     },
     "metadata": {},
     "output_type": "display_data"
    }
   ],
   "source": [
    "cmap, norm = graphics.continuous_cmap(['grey', 'lightgreen'], N=100)\n",
    "matrix.plot(ma_matrix_df, cmap, norm)\n",
    "graphics.plot_hist(ma_matrix_df, cmap, norm)"
   ]
  },
  {
   "cell_type": "code",
   "execution_count": null,
   "metadata": {
    "collapsed": true
   },
   "outputs": [],
   "source": []
  }
 ],
 "metadata": {
  "anaconda-cloud": {},
  "kernelspec": {
   "display_name": "Python [conda root]",
   "language": "python",
   "name": "conda-root-py"
  },
  "language_info": {
   "codemirror_mode": {
    "name": "ipython",
    "version": 3
   },
   "file_extension": ".py",
   "mimetype": "text/x-python",
   "name": "python",
   "nbconvert_exporter": "python",
   "pygments_lexer": "ipython3",
   "version": "3.6.1"
  }
 },
 "nbformat": 4,
 "nbformat_minor": 2
}
