{
 "cells": [
  {
   "cell_type": "code",
   "execution_count": 3,
   "metadata": {},
   "outputs": [
    {
     "name": "stdout",
     "output_type": "stream",
     "text": [
      "custom_tsl_stop mix_0 mix_1\n",
      "custom_tp_stop    0.1   0.2\n",
      "0                True  True\n",
      "1                True  True\n",
      "2                True  True\n",
      "3                True  True\n",
      "4                True  True\n",
      "custom_tsl_stop  mix_0  mix_1\n",
      "custom_tp_stop     0.1    0.2\n",
      "0                 True   True\n",
      "1                False  False\n",
      "2                 True  False\n",
      "3                False   True\n",
      "4                False  False\n",
      "custom_tsl_stop  mix_0  mix_1\n",
      "custom_tp_stop     0.1    0.2\n",
      "0                False  False\n",
      "1                 True  False\n",
      "2                False   True\n",
      "3                False  False\n",
      "4                 True  False\n"
     ]
    }
   ],
   "source": [
    "import pandas as pd\n",
    "import numpy as np\n",
    "from numba import njit\n",
    "from vectorbt.signals.factory import SignalFactory\n",
    "from vectorbt.signals.nb import stop_choice_nb\n",
    "from vectorbt.signals.enums import StopPosition\n",
    "\n",
    "@njit\n",
    "def custom_choice_func_nb(col, from_i, to_i, ts, tsl_stop, tp_stop, temp_int, is_2d):\n",
    "    # Find first index of trailing stop loss (TSL)\n",
    "    tsl_exit_idxs = stop_choice_nb(col, from_i, to_i, \n",
    "        ts, tsl_stop, StopPosition.ExpMax, True, temp_int, is_2d)\n",
    "    if len(tsl_exit_idxs) > 0:\n",
    "        # No need to go beyond first TSL signal\n",
    "        to_i = tsl_exit_idxs[0]\n",
    "    # Find first index of take profit (TP)\n",
    "    tp_exit_idxs = stop_choice_nb(col, from_i, to_i, \n",
    "        ts, tp_stop, StopPosition.Entry, True, temp_int, is_2d)\n",
    "    if len(tp_exit_idxs) > 0:\n",
    "        # If any TP signals found, they must come before TSL\n",
    "        return tp_exit_idxs[:1]\n",
    "    if len(tsl_exit_idxs) > 0:\n",
    "        return tsl_exit_idxs[:1]\n",
    "    return temp_int[:0]  # empty\n",
    "\n",
    "param_settings = dict(\n",
    "    array_like=True,\n",
    "    bc_to_input=True,\n",
    "    broadcast_kwargs=dict(\n",
    "        keep_raw=True\n",
    "    )\n",
    ")\n",
    "# Build signal generator\n",
    "MySignals = SignalFactory(\n",
    "    input_names=['ts'],\n",
    "    param_names=['tsl_stop', 'tp_stop'], \n",
    "    param_settings=dict(tsl_stop=param_settings, tp_stop=param_settings),\n",
    "    exit_only=True,\n",
    "    iteratively=True\n",
    ").from_choice_func(\n",
    "    exit_choice_func=custom_choice_func_nb,\n",
    "    exit_settings=dict(\n",
    "        input_names=['ts'],\n",
    "        param_names=['tsl_stop', 'tp_stop'],\n",
    "        pass_temp_int=True,\n",
    "        pass_is_2d=True,\n",
    "    )\n",
    ")\n",
    "\n",
    "# Run signal generator\n",
    "entries = pd.Series([True, True, True, True, True])\n",
    "ts = pd.Series([10., 11., 12., 11., 10.])\n",
    "my_sig = MySignals.run(entries, ts, np.random.uniform(-0.3, -0.1, size=(len(entries),1)), [0.1, 0.2])\n",
    "\n",
    "print(my_sig.entries)\n",
    "print(my_sig.new_entries)\n",
    "print(my_sig.exits)"
   ]
  },
  {
   "cell_type": "code",
   "execution_count": 1,
   "metadata": {},
   "outputs": [
    {
     "data": {
      "text/html": [
       "<div>\n",
       "<style scoped>\n",
       "    .dataframe tbody tr th:only-of-type {\n",
       "        vertical-align: middle;\n",
       "    }\n",
       "\n",
       "    .dataframe tbody tr th {\n",
       "        vertical-align: top;\n",
       "    }\n",
       "\n",
       "    .dataframe thead th {\n",
       "        text-align: right;\n",
       "    }\n",
       "</style>\n",
       "<table border=\"1\" class=\"dataframe\">\n",
       "  <thead>\n",
       "    <tr style=\"text-align: right;\">\n",
       "      <th></th>\n",
       "      <th>Column</th>\n",
       "      <th>Size</th>\n",
       "      <th>Entry Date</th>\n",
       "      <th>Entry Price</th>\n",
       "      <th>Entry Fees</th>\n",
       "      <th>Exit Date</th>\n",
       "      <th>Exit Price</th>\n",
       "      <th>Exit Fees</th>\n",
       "      <th>P&amp;L</th>\n",
       "      <th>Return</th>\n",
       "      <th>Status</th>\n",
       "      <th>Position</th>\n",
       "    </tr>\n",
       "  </thead>\n",
       "  <tbody>\n",
       "    <tr>\n",
       "      <th>0</th>\n",
       "      <td>0</td>\n",
       "      <td>4.0</td>\n",
       "      <td>0</td>\n",
       "      <td>2.5</td>\n",
       "      <td>4.0</td>\n",
       "      <td>4</td>\n",
       "      <td>5.0</td>\n",
       "      <td>1.0</td>\n",
       "      <td>5.0</td>\n",
       "      <td>0.357143</td>\n",
       "      <td>Closed</td>\n",
       "      <td>0</td>\n",
       "    </tr>\n",
       "  </tbody>\n",
       "</table>\n",
       "</div>"
      ],
      "text/plain": [
       "   Column  Size  Entry Date  Entry Price  Entry Fees  Exit Date  Exit Price  \\\n",
       "0       0   4.0           0          2.5         4.0          4         5.0   \n",
       "\n",
       "   Exit Fees  P&L    Return  Status  Position  \n",
       "0        1.0  5.0  0.357143  Closed         0  "
      ]
     },
     "execution_count": 1,
     "metadata": {},
     "output_type": "execute_result"
    }
   ],
   "source": [
    ">>> import vectorbt as vbt\n",
    ">>> import pandas as pd\n",
    ">>> from datetime import datetime\n",
    "\n",
    ">>> index = pd.Index([\n",
    "...     datetime(2020, 1, 1),\n",
    "...     datetime(2020, 1, 2),\n",
    "...     datetime(2020, 1, 3),\n",
    "...     datetime(2020, 1, 4),\n",
    "...     datetime(2020, 1, 5)\n",
    "... ])\n",
    ">>> vbt.Portfolio.from_orders(\n",
    "...     pd.Series([1., 2., 3., 4., 5.]),\n",
    "...     pd.Series([1., 1., 1., 1., -4.]),\n",
    "...     fixed_fees=1., freq='1D'\n",
    "... ).trades().records_readable"
   ]
  },
  {
   "cell_type": "code",
   "execution_count": 6,
   "metadata": {},
   "outputs": [],
   "source": [
    "from pandas.core.accessor import _register_accessor"
   ]
  },
  {
   "cell_type": "code",
   "execution_count": null,
   "metadata": {},
   "outputs": [],
   "source": []
  },
  {
   "cell_type": "code",
   "execution_count": null,
   "metadata": {},
   "outputs": [],
   "source": []
  },
  {
   "cell_type": "code",
   "execution_count": null,
   "metadata": {},
   "outputs": [],
   "source": []
  },
  {
   "cell_type": "code",
   "execution_count": 4,
   "metadata": {},
   "outputs": [
    {
     "ename": "ValueError",
     "evalue": "operands could not be broadcast together with remapped shapes [original->remapped]: (15,) and requested shape (5,1)",
     "output_type": "error",
     "traceback": [
      "\u001b[0;31m---------------------------------------------------------------------------\u001b[0m",
      "\u001b[0;31mValueError\u001b[0m                                Traceback (most recent call last)",
      "\u001b[0;32m<ipython-input-4-4e7af0ad408a>\u001b[0m in \u001b[0;36m<module>\u001b[0;34m\u001b[0m\n\u001b[1;32m      1\u001b[0m \u001b[0;32mimport\u001b[0m \u001b[0mvectorbt\u001b[0m \u001b[0;32mas\u001b[0m \u001b[0mvbt\u001b[0m\u001b[0;34m\u001b[0m\u001b[0;34m\u001b[0m\u001b[0m\n\u001b[1;32m      2\u001b[0m \u001b[0;34m\u001b[0m\u001b[0m\n\u001b[0;32m----> 3\u001b[0;31m \u001b[0mvbt\u001b[0m\u001b[0;34m.\u001b[0m\u001b[0mbase\u001b[0m\u001b[0;34m.\u001b[0m\u001b[0mreshape_fns\u001b[0m\u001b[0;34m.\u001b[0m\u001b[0mbroadcast\u001b[0m\u001b[0;34m(\u001b[0m\u001b[0mnp\u001b[0m\u001b[0;34m.\u001b[0m\u001b[0mrandom\u001b[0m\u001b[0;34m.\u001b[0m\u001b[0muniform\u001b[0m\u001b[0;34m(\u001b[0m\u001b[0;34m-\u001b[0m\u001b[0;36m0.3\u001b[0m\u001b[0;34m,\u001b[0m \u001b[0;34m-\u001b[0m\u001b[0;36m0.1\u001b[0m\u001b[0;34m,\u001b[0m \u001b[0msize\u001b[0m\u001b[0;34m=\u001b[0m\u001b[0mlen\u001b[0m\u001b[0;34m(\u001b[0m\u001b[0mentries\u001b[0m\u001b[0;34m)\u001b[0m\u001b[0;34m+\u001b[0m\u001b[0;36m10\u001b[0m\u001b[0;34m)\u001b[0m\u001b[0;34m,\u001b[0m \u001b[0mto_shape\u001b[0m\u001b[0;34m=\u001b[0m\u001b[0;34m(\u001b[0m\u001b[0;36m5\u001b[0m\u001b[0;34m,\u001b[0m \u001b[0;36m1\u001b[0m\u001b[0;34m)\u001b[0m\u001b[0;34m)\u001b[0m\u001b[0;34m\u001b[0m\u001b[0;34m\u001b[0m\u001b[0m\n\u001b[0m",
      "\u001b[0;32m~/Documents/SourceTree/vectorbt/vectorbt/base/reshape_fns.py\u001b[0m in \u001b[0;36mbroadcast\u001b[0;34m(to_shape, to_pd, to_2d, index_from, columns_from, require_kwargs, keep_raw, return_meta, *args, **kwargs)\u001b[0m\n\u001b[1;32m    423\u001b[0m             \u001b[0mnew_args\u001b[0m\u001b[0;34m.\u001b[0m\u001b[0mappend\u001b[0m\u001b[0;34m(\u001b[0m\u001b[0marg\u001b[0m\u001b[0;34m)\u001b[0m\u001b[0;34m\u001b[0m\u001b[0;34m\u001b[0m\u001b[0m\n\u001b[1;32m    424\u001b[0m             \u001b[0;32mcontinue\u001b[0m\u001b[0;34m\u001b[0m\u001b[0;34m\u001b[0m\u001b[0m\n\u001b[0;32m--> 425\u001b[0;31m         \u001b[0mnew_args\u001b[0m\u001b[0;34m.\u001b[0m\u001b[0mappend\u001b[0m\u001b[0;34m(\u001b[0m\u001b[0mnp\u001b[0m\u001b[0;34m.\u001b[0m\u001b[0mbroadcast_to\u001b[0m\u001b[0;34m(\u001b[0m\u001b[0marg\u001b[0m\u001b[0;34m,\u001b[0m \u001b[0mto_shape\u001b[0m\u001b[0;34m,\u001b[0m \u001b[0msubok\u001b[0m\u001b[0;34m=\u001b[0m\u001b[0;32mTrue\u001b[0m\u001b[0;34m)\u001b[0m\u001b[0;34m)\u001b[0m\u001b[0;34m\u001b[0m\u001b[0;34m\u001b[0m\u001b[0m\n\u001b[0m\u001b[1;32m    426\u001b[0m \u001b[0;34m\u001b[0m\u001b[0m\n\u001b[1;32m    427\u001b[0m     \u001b[0;31m# Force to match requirements\u001b[0m\u001b[0;34m\u001b[0m\u001b[0;34m\u001b[0m\u001b[0;34m\u001b[0m\u001b[0m\n",
      "\u001b[0;32m<__array_function__ internals>\u001b[0m in \u001b[0;36mbroadcast_to\u001b[0;34m(*args, **kwargs)\u001b[0m\n",
      "\u001b[0;32m~/miniconda3/lib/python3.7/site-packages/numpy/lib/stride_tricks.py\u001b[0m in \u001b[0;36mbroadcast_to\u001b[0;34m(array, shape, subok)\u001b[0m\n\u001b[1;32m    180\u001b[0m            [1, 2, 3]])\n\u001b[1;32m    181\u001b[0m     \"\"\"\n\u001b[0;32m--> 182\u001b[0;31m     \u001b[0;32mreturn\u001b[0m \u001b[0m_broadcast_to\u001b[0m\u001b[0;34m(\u001b[0m\u001b[0marray\u001b[0m\u001b[0;34m,\u001b[0m \u001b[0mshape\u001b[0m\u001b[0;34m,\u001b[0m \u001b[0msubok\u001b[0m\u001b[0;34m=\u001b[0m\u001b[0msubok\u001b[0m\u001b[0;34m,\u001b[0m \u001b[0mreadonly\u001b[0m\u001b[0;34m=\u001b[0m\u001b[0;32mTrue\u001b[0m\u001b[0;34m)\u001b[0m\u001b[0;34m\u001b[0m\u001b[0;34m\u001b[0m\u001b[0m\n\u001b[0m\u001b[1;32m    183\u001b[0m \u001b[0;34m\u001b[0m\u001b[0m\n\u001b[1;32m    184\u001b[0m \u001b[0;34m\u001b[0m\u001b[0m\n",
      "\u001b[0;32m~/miniconda3/lib/python3.7/site-packages/numpy/lib/stride_tricks.py\u001b[0m in \u001b[0;36m_broadcast_to\u001b[0;34m(array, shape, subok, readonly)\u001b[0m\n\u001b[1;32m    125\u001b[0m     it = np.nditer(\n\u001b[1;32m    126\u001b[0m         \u001b[0;34m(\u001b[0m\u001b[0marray\u001b[0m\u001b[0;34m,\u001b[0m\u001b[0;34m)\u001b[0m\u001b[0;34m,\u001b[0m \u001b[0mflags\u001b[0m\u001b[0;34m=\u001b[0m\u001b[0;34m[\u001b[0m\u001b[0;34m'multi_index'\u001b[0m\u001b[0;34m,\u001b[0m \u001b[0;34m'refs_ok'\u001b[0m\u001b[0;34m,\u001b[0m \u001b[0;34m'zerosize_ok'\u001b[0m\u001b[0;34m]\u001b[0m \u001b[0;34m+\u001b[0m \u001b[0mextras\u001b[0m\u001b[0;34m,\u001b[0m\u001b[0;34m\u001b[0m\u001b[0;34m\u001b[0m\u001b[0m\n\u001b[0;32m--> 127\u001b[0;31m         op_flags=['readonly'], itershape=shape, order='C')\n\u001b[0m\u001b[1;32m    128\u001b[0m     \u001b[0;32mwith\u001b[0m \u001b[0mit\u001b[0m\u001b[0;34m:\u001b[0m\u001b[0;34m\u001b[0m\u001b[0;34m\u001b[0m\u001b[0m\n\u001b[1;32m    129\u001b[0m         \u001b[0;31m# never really has writebackifcopy semantics\u001b[0m\u001b[0;34m\u001b[0m\u001b[0;34m\u001b[0m\u001b[0;34m\u001b[0m\u001b[0m\n",
      "\u001b[0;31mValueError\u001b[0m: operands could not be broadcast together with remapped shapes [original->remapped]: (15,) and requested shape (5,1)"
     ]
    }
   ],
   "source": [
    "import vectorbt as vbt\n",
    "\n",
    "np.lib.stride_tricks._broadcast_shape(np.random.uniform(-0.3, -0.1, size=len(entries)+10), to_shape=(5, 1))"
   ]
  },
  {
   "cell_type": "code",
   "execution_count": 2,
   "metadata": {},
   "outputs": [
    {
     "ename": "ValueError",
     "evalue": "operands could not be broadcast together with remapped shapes [original->remapped]: (15,) and requested shape (5,1)",
     "output_type": "error",
     "traceback": [
      "\u001b[0;31m---------------------------------------------------------------------------\u001b[0m",
      "\u001b[0;31mValueError\u001b[0m                                Traceback (most recent call last)",
      "\u001b[0;32m<ipython-input-2-4c2f5bd65095>\u001b[0m in \u001b[0;36m<module>\u001b[0;34m\u001b[0m\n\u001b[0;32m----> 1\u001b[0;31m \u001b[0mnp\u001b[0m\u001b[0;34m.\u001b[0m\u001b[0mbroadcast_to\u001b[0m\u001b[0;34m(\u001b[0m\u001b[0mnp\u001b[0m\u001b[0;34m.\u001b[0m\u001b[0mrandom\u001b[0m\u001b[0;34m.\u001b[0m\u001b[0muniform\u001b[0m\u001b[0;34m(\u001b[0m\u001b[0;34m-\u001b[0m\u001b[0;36m0.3\u001b[0m\u001b[0;34m,\u001b[0m \u001b[0;34m-\u001b[0m\u001b[0;36m0.1\u001b[0m\u001b[0;34m,\u001b[0m \u001b[0msize\u001b[0m\u001b[0;34m=\u001b[0m\u001b[0mlen\u001b[0m\u001b[0;34m(\u001b[0m\u001b[0mentries\u001b[0m\u001b[0;34m)\u001b[0m\u001b[0;34m+\u001b[0m\u001b[0;36m10\u001b[0m\u001b[0;34m)\u001b[0m\u001b[0;34m,\u001b[0m \u001b[0;34m(\u001b[0m\u001b[0;36m5\u001b[0m\u001b[0;34m,\u001b[0m \u001b[0;36m1\u001b[0m\u001b[0;34m)\u001b[0m\u001b[0;34m)\u001b[0m\u001b[0;34m\u001b[0m\u001b[0;34m\u001b[0m\u001b[0m\n\u001b[0m",
      "\u001b[0;32m<__array_function__ internals>\u001b[0m in \u001b[0;36mbroadcast_to\u001b[0;34m(*args, **kwargs)\u001b[0m\n",
      "\u001b[0;32m~/miniconda3/lib/python3.7/site-packages/numpy/lib/stride_tricks.py\u001b[0m in \u001b[0;36mbroadcast_to\u001b[0;34m(array, shape, subok)\u001b[0m\n\u001b[1;32m    180\u001b[0m            [1, 2, 3]])\n\u001b[1;32m    181\u001b[0m     \"\"\"\n\u001b[0;32m--> 182\u001b[0;31m     \u001b[0;32mreturn\u001b[0m \u001b[0m_broadcast_to\u001b[0m\u001b[0;34m(\u001b[0m\u001b[0marray\u001b[0m\u001b[0;34m,\u001b[0m \u001b[0mshape\u001b[0m\u001b[0;34m,\u001b[0m \u001b[0msubok\u001b[0m\u001b[0;34m=\u001b[0m\u001b[0msubok\u001b[0m\u001b[0;34m,\u001b[0m \u001b[0mreadonly\u001b[0m\u001b[0;34m=\u001b[0m\u001b[0;32mTrue\u001b[0m\u001b[0;34m)\u001b[0m\u001b[0;34m\u001b[0m\u001b[0;34m\u001b[0m\u001b[0m\n\u001b[0m\u001b[1;32m    183\u001b[0m \u001b[0;34m\u001b[0m\u001b[0m\n\u001b[1;32m    184\u001b[0m \u001b[0;34m\u001b[0m\u001b[0m\n",
      "\u001b[0;32m~/miniconda3/lib/python3.7/site-packages/numpy/lib/stride_tricks.py\u001b[0m in \u001b[0;36m_broadcast_to\u001b[0;34m(array, shape, subok, readonly)\u001b[0m\n\u001b[1;32m    125\u001b[0m     it = np.nditer(\n\u001b[1;32m    126\u001b[0m         \u001b[0;34m(\u001b[0m\u001b[0marray\u001b[0m\u001b[0;34m,\u001b[0m\u001b[0;34m)\u001b[0m\u001b[0;34m,\u001b[0m \u001b[0mflags\u001b[0m\u001b[0;34m=\u001b[0m\u001b[0;34m[\u001b[0m\u001b[0;34m'multi_index'\u001b[0m\u001b[0;34m,\u001b[0m \u001b[0;34m'refs_ok'\u001b[0m\u001b[0;34m,\u001b[0m \u001b[0;34m'zerosize_ok'\u001b[0m\u001b[0;34m]\u001b[0m \u001b[0;34m+\u001b[0m \u001b[0mextras\u001b[0m\u001b[0;34m,\u001b[0m\u001b[0;34m\u001b[0m\u001b[0;34m\u001b[0m\u001b[0m\n\u001b[0;32m--> 127\u001b[0;31m         op_flags=['readonly'], itershape=shape, order='C')\n\u001b[0m\u001b[1;32m    128\u001b[0m     \u001b[0;32mwith\u001b[0m \u001b[0mit\u001b[0m\u001b[0;34m:\u001b[0m\u001b[0;34m\u001b[0m\u001b[0;34m\u001b[0m\u001b[0m\n\u001b[1;32m    129\u001b[0m         \u001b[0;31m# never really has writebackifcopy semantics\u001b[0m\u001b[0;34m\u001b[0m\u001b[0;34m\u001b[0m\u001b[0;34m\u001b[0m\u001b[0m\n",
      "\u001b[0;31mValueError\u001b[0m: operands could not be broadcast together with remapped shapes [original->remapped]: (15,) and requested shape (5,1)"
     ]
    }
   ],
   "source": [
    "np.broadcast_to(, (5, 1))"
   ]
  },
  {
   "cell_type": "code",
   "execution_count": 2,
   "metadata": {},
   "outputs": [
    {
     "ename": "TypingError",
     "evalue": "Failed in nopython mode pipeline (step: nopython frontend)\n\u001b[1m\u001b[1m\u001b[1m\u001b[1mFailed in nopython mode pipeline (step: nopython frontend)\n\u001b[1m\u001b[1m\u001b[1m\u001b[1mFailed in nopython mode pipeline (step: nopython frontend)\nInternal error at <numba.core.typeinfer.CallConstraint object at 0x7f999ebda780>.\n\u001b[1m\u001b[1m\u001b[1mmissing a required argument: 'temp_int'\u001b[0m\n\u001b[0m\u001b[1mDuring: resolving callee type: type(CPUDispatcher(<function stop_choice_nb at 0x7f999c515d90>))\u001b[0m\n\u001b[0m\u001b[1mDuring: typing of call at /Users/olegpolakow/Documents/SourceTree/vectorbt/vectorbt/signals/nb.py (76)\n\u001b[0m\nEnable logging at debug level for details.\n\u001b[1m\nFile \"vectorbt/signals/nb.py\", line 76:\u001b[0m\n\u001b[1mdef generate_ex_nb(entries, exit_choice_func_nb, *args):\n    <source elided>\n                    to_i = next_idx\n\u001b[1m                    idxs = exit_choice_func_nb(col, from_i, to_i, *args)\n\u001b[0m                    \u001b[1m^\u001b[0m\u001b[0m\n\n\u001b[0m\u001b[1mDuring: resolving callee type: type(CPUDispatcher(<function generate_ex_nb at 0x7f999c4f8b70>))\u001b[0m\n\u001b[0m\u001b[1mDuring: typing of call at /Users/olegpolakow/Documents/SourceTree/vectorbt/vectorbt/signals/factory.py (246)\n\u001b[0m\n\u001b[0m\u001b[1mDuring: resolving callee type: type(CPUDispatcher(<function generate_ex_nb at 0x7f999c4f8b70>))\u001b[0m\n\u001b[0m\u001b[1mDuring: typing of call at /Users/olegpolakow/Documents/SourceTree/vectorbt/vectorbt/signals/factory.py (246)\n\u001b[0m\n\u001b[1m\nFile \"vectorbt/signals/factory.py\", line 246:\u001b[0m\n\u001b[1m            def apply_nb(i, entries, exit_input_list, exit_param_tuples, exit_args):\n\u001b[1m                return generate_ex_nb(entries, exit_choice_func, *exit_input_list, *exit_param_tuples[i], *exit_args)\n\u001b[0m                \u001b[1m^\u001b[0m\u001b[0m\n\n\u001b[0m\u001b[1mDuring: resolving callee type: type(CPUDispatcher(<function SignalFactory.from_choice_func.<locals>.apply_nb at 0x7f999eda4048>))\u001b[0m\n\u001b[0m\u001b[1mDuring: typing of call at /Users/olegpolakow/Documents/SourceTree/vectorbt/vectorbt/base/combine_fns.py (40)\n\u001b[0m\n\u001b[0m\u001b[1mDuring: resolving callee type: type(CPUDispatcher(<function SignalFactory.from_choice_func.<locals>.apply_nb at 0x7f999eda4048>))\u001b[0m\n\u001b[0m\u001b[1mDuring: typing of call at /Users/olegpolakow/Documents/SourceTree/vectorbt/vectorbt/base/combine_fns.py (40)\n\u001b[0m\n\u001b[1m\nFile \"vectorbt/base/combine_fns.py\", line 40:\u001b[0m\n\u001b[1mdef apply_and_concat_one_nb(n, apply_func_nb, *args):  # numba doesn't accepts **kwargs\n    <source elided>\n    \"\"\"\n\u001b[1m    output_0 = to_2d_one_nb(apply_func_nb(0, *args))\n\u001b[0m    \u001b[1m^\u001b[0m\u001b[0m\n",
     "output_type": "error",
     "traceback": [
      "\u001b[0;31m---------------------------------------------------------------------------\u001b[0m",
      "\u001b[0;31mTypingError\u001b[0m                               Traceback (most recent call last)",
      "\u001b[0;32m<ipython-input-2-e96fef6604a7>\u001b[0m in \u001b[0;36m<module>\u001b[0;34m\u001b[0m\n\u001b[1;32m     23\u001b[0m })\n\u001b[1;32m     24\u001b[0m \u001b[0mts\u001b[0m \u001b[0;34m=\u001b[0m \u001b[0mpd\u001b[0m\u001b[0;34m.\u001b[0m\u001b[0mSeries\u001b[0m\u001b[0;34m(\u001b[0m\u001b[0;34m[\u001b[0m\u001b[0;36m1\u001b[0m\u001b[0;34m,\u001b[0m \u001b[0;36m2\u001b[0m\u001b[0;34m,\u001b[0m \u001b[0;36m3\u001b[0m\u001b[0;34m,\u001b[0m \u001b[0;36m2\u001b[0m\u001b[0;34m,\u001b[0m \u001b[0;36m1\u001b[0m\u001b[0;34m]\u001b[0m\u001b[0;34m)\u001b[0m\u001b[0;34m\u001b[0m\u001b[0;34m\u001b[0m\u001b[0m\n\u001b[0;32m---> 25\u001b[0;31m \u001b[0mstop_ex_signals\u001b[0m \u001b[0;34m=\u001b[0m \u001b[0mStopExitSignals\u001b[0m\u001b[0;34m.\u001b[0m\u001b[0mrun\u001b[0m\u001b[0;34m(\u001b[0m\u001b[0mentries\u001b[0m\u001b[0;34m,\u001b[0m \u001b[0mts\u001b[0m\u001b[0;34m,\u001b[0m \u001b[0;34m[\u001b[0m\u001b[0;36m0.1\u001b[0m\u001b[0;34m,\u001b[0m \u001b[0;36m0.2\u001b[0m\u001b[0;34m]\u001b[0m\u001b[0;34m,\u001b[0m \u001b[0mStopPosition\u001b[0m\u001b[0;34m.\u001b[0m\u001b[0mEntry\u001b[0m\u001b[0;34m)\u001b[0m\u001b[0;34m\u001b[0m\u001b[0;34m\u001b[0m\u001b[0m\n\u001b[0m\u001b[1;32m     26\u001b[0m \u001b[0;34m\u001b[0m\u001b[0m\n\u001b[1;32m     27\u001b[0m \u001b[0mprint\u001b[0m\u001b[0;34m(\u001b[0m\u001b[0mstop_ex_signals\u001b[0m\u001b[0;34m.\u001b[0m\u001b[0mentries\u001b[0m\u001b[0;34m)\u001b[0m\u001b[0;34m\u001b[0m\u001b[0;34m\u001b[0m\u001b[0m\n",
      "\u001b[0;32m~/Documents/SourceTree/vectorbt/vectorbt/indicators/factory.py\u001b[0m in \u001b[0;36mrun\u001b[0;34m(cls, entries, ts, stop, short_name, hide_params, hide_default, *args, **kwargs)\u001b[0m\n\u001b[1;32m      7\u001b[0m \u001b[0;34m*\u001b[0m \u001b[0mAccepts\u001b[0m \u001b[0mother\u001b[0m \u001b[0mrelevant\u001b[0m \u001b[0marguments\u001b[0m \u001b[0;32mand\u001b[0m \u001b[0mkeyword\u001b[0m \u001b[0marguments\u001b[0m\u001b[0;34m\u001b[0m\u001b[0;34m\u001b[0m\u001b[0m\n\u001b[1;32m      8\u001b[0m \u001b[0;34m*\u001b[0m \u001b[0mPerforms\u001b[0m \u001b[0mcalculations\u001b[0m \u001b[0mto\u001b[0m \u001b[0mproduce\u001b[0m \u001b[0mnew\u001b[0m \u001b[0mtime\u001b[0m \u001b[0mseries\u001b[0m \u001b[0mobjects\u001b[0m \u001b[0;34m(\u001b[0m\u001b[0;32mfor\u001b[0m \u001b[0mexample\u001b[0m\u001b[0;34m,\u001b[0m \u001b[0mrolling\u001b[0m \u001b[0maverage\u001b[0m\u001b[0;34m)\u001b[0m\u001b[0;34m\u001b[0m\u001b[0;34m\u001b[0m\u001b[0m\n\u001b[0;32m----> 9\u001b[0;31m \u001b[0;34m\u001b[0m\u001b[0m\n\u001b[0m\u001b[1;32m     10\u001b[0m \u001b[0mThis\u001b[0m \u001b[0mpipeline\u001b[0m \u001b[0mcan\u001b[0m \u001b[0mbe\u001b[0m \u001b[0mwell\u001b[0m \u001b[0mstandardized\u001b[0m\u001b[0;34m,\u001b[0m \u001b[0mwhich\u001b[0m \u001b[0;32mis\u001b[0m \u001b[0mdone\u001b[0m \u001b[0mby\u001b[0m\u001b[0;31m \u001b[0m\u001b[0;31m`\u001b[0m\u001b[0mrun_pipeline\u001b[0m\u001b[0;31m`\u001b[0m\u001b[0;34m.\u001b[0m\u001b[0;34m\u001b[0m\u001b[0;34m\u001b[0m\u001b[0m\n\u001b[1;32m     11\u001b[0m \u001b[0;34m\u001b[0m\u001b[0m\n",
      "\u001b[0;32m~/Documents/SourceTree/vectorbt/vectorbt/indicators/factory.py\u001b[0m in \u001b[0;36m_run\u001b[0;34m(cls, short_name, hide_params, hide_default, pipeline_kwargs, *args, **kwargs)\u001b[0m\n\u001b[1;32m   1108\u001b[0m                 \u001b[0mhide_levels\u001b[0m\u001b[0;34m=\u001b[0m\u001b[0mhide_levels\u001b[0m\u001b[0;34m,\u001b[0m\u001b[0;34m\u001b[0m\u001b[0;34m\u001b[0m\u001b[0m\n\u001b[1;32m   1109\u001b[0m                 \u001b[0mparam_settings\u001b[0m\u001b[0;34m=\u001b[0m\u001b[0;34m[\u001b[0m\u001b[0mparam_settings\u001b[0m\u001b[0;34m.\u001b[0m\u001b[0mget\u001b[0m\u001b[0;34m(\u001b[0m\u001b[0mpn\u001b[0m\u001b[0;34m,\u001b[0m \u001b[0;34m{\u001b[0m\u001b[0;34m}\u001b[0m\u001b[0;34m)\u001b[0m \u001b[0;32mfor\u001b[0m \u001b[0mpn\u001b[0m \u001b[0;32min\u001b[0m \u001b[0mparam_names\u001b[0m\u001b[0;34m]\u001b[0m\u001b[0;34m,\u001b[0m\u001b[0;34m\u001b[0m\u001b[0;34m\u001b[0m\u001b[0m\n\u001b[0;32m-> 1110\u001b[0;31m                 \u001b[0;34m**\u001b[0m\u001b[0mkwargs\u001b[0m\u001b[0;34m\u001b[0m\u001b[0;34m\u001b[0m\u001b[0m\n\u001b[0m\u001b[1;32m   1111\u001b[0m             )\n\u001b[1;32m   1112\u001b[0m             \u001b[0;32mif\u001b[0m \u001b[0mkwargs\u001b[0m\u001b[0;34m.\u001b[0m\u001b[0mget\u001b[0m\u001b[0;34m(\u001b[0m\u001b[0;34m'return_raw'\u001b[0m\u001b[0;34m,\u001b[0m \u001b[0;32mFalse\u001b[0m\u001b[0;34m)\u001b[0m \u001b[0;32mor\u001b[0m \u001b[0mkwargs\u001b[0m\u001b[0;34m.\u001b[0m\u001b[0mget\u001b[0m\u001b[0;34m(\u001b[0m\u001b[0;34m'return_cache'\u001b[0m\u001b[0;34m,\u001b[0m \u001b[0;32mFalse\u001b[0m\u001b[0;34m)\u001b[0m\u001b[0;34m:\u001b[0m\u001b[0;34m\u001b[0m\u001b[0;34m\u001b[0m\u001b[0m\n",
      "\u001b[0;32m~/Documents/SourceTree/vectorbt/vectorbt/indicators/factory.py\u001b[0m in \u001b[0;36mrun_pipeline\u001b[0;34m(input_list, param_list, level_names, num_outputs, custom_func, input_shape, input_index, input_columns, broadcast_kwargs, param_settings, param_product, to_2d, pass_lists, pass_input_shape, pass_is_2d, hide_levels, return_raw, use_raw, wrapper_kwargs, *args, **kwargs)\u001b[0m\n\u001b[1;32m    673\u001b[0m                 \u001b[0moutput\u001b[0m \u001b[0;34m=\u001b[0m \u001b[0mcustom_func\u001b[0m\u001b[0;34m(\u001b[0m\u001b[0mList\u001b[0m\u001b[0;34m(\u001b[0m\u001b[0mpassed_input_list\u001b[0m\u001b[0;34m)\u001b[0m\u001b[0;34m,\u001b[0m \u001b[0mList\u001b[0m\u001b[0;34m(\u001b[0m\u001b[0mparam_list\u001b[0m\u001b[0;34m)\u001b[0m\u001b[0;34m,\u001b[0m \u001b[0;34m*\u001b[0m\u001b[0margs\u001b[0m\u001b[0;34m,\u001b[0m \u001b[0;34m**\u001b[0m\u001b[0mfunc_kwargs\u001b[0m\u001b[0;34m)\u001b[0m\u001b[0;34m\u001b[0m\u001b[0;34m\u001b[0m\u001b[0m\n\u001b[1;32m    674\u001b[0m             \u001b[0;32melse\u001b[0m\u001b[0;34m:\u001b[0m\u001b[0;34m\u001b[0m\u001b[0;34m\u001b[0m\u001b[0m\n\u001b[0;32m--> 675\u001b[0;31m                 \u001b[0moutput\u001b[0m \u001b[0;34m=\u001b[0m \u001b[0mcustom_func\u001b[0m\u001b[0;34m(\u001b[0m\u001b[0mpassed_input_list\u001b[0m\u001b[0;34m,\u001b[0m \u001b[0mparam_list\u001b[0m\u001b[0;34m,\u001b[0m \u001b[0;34m*\u001b[0m\u001b[0margs\u001b[0m\u001b[0;34m,\u001b[0m \u001b[0;34m**\u001b[0m\u001b[0mfunc_kwargs\u001b[0m\u001b[0;34m)\u001b[0m\u001b[0;34m\u001b[0m\u001b[0;34m\u001b[0m\u001b[0m\n\u001b[0m\u001b[1;32m    676\u001b[0m         \u001b[0;32melse\u001b[0m\u001b[0;34m:\u001b[0m\u001b[0;34m\u001b[0m\u001b[0;34m\u001b[0m\u001b[0m\n\u001b[1;32m    677\u001b[0m             \u001b[0moutput\u001b[0m \u001b[0;34m=\u001b[0m \u001b[0mcustom_func\u001b[0m\u001b[0;34m(\u001b[0m\u001b[0;34m*\u001b[0m\u001b[0mpassed_input_list\u001b[0m\u001b[0;34m,\u001b[0m \u001b[0;34m*\u001b[0m\u001b[0mparam_list\u001b[0m\u001b[0;34m,\u001b[0m \u001b[0;34m*\u001b[0m\u001b[0margs\u001b[0m\u001b[0;34m,\u001b[0m \u001b[0;34m**\u001b[0m\u001b[0mfunc_kwargs\u001b[0m\u001b[0;34m)\u001b[0m\u001b[0;34m\u001b[0m\u001b[0;34m\u001b[0m\u001b[0m\n",
      "\u001b[0;32m~/Documents/SourceTree/vectorbt/vectorbt/signals/factory.py\u001b[0m in \u001b[0;36mcustom_func\u001b[0;34m(input_list, param_list, input_shape, entry_args, exit_args, cache_args, entry_kwargs, exit_kwargs, cache_kwargs, return_cache, use_cache, *args)\u001b[0m\n\u001b[1;32m    360\u001b[0m                     \u001b[0mexit_input_list\u001b[0m\u001b[0;34m,\u001b[0m\u001b[0;34m\u001b[0m\u001b[0;34m\u001b[0m\u001b[0m\n\u001b[1;32m    361\u001b[0m                     \u001b[0mexit_param_tuples\u001b[0m\u001b[0;34m,\u001b[0m\u001b[0;34m\u001b[0m\u001b[0;34m\u001b[0m\u001b[0m\n\u001b[0;32m--> 362\u001b[0;31m                     \u001b[0mexit_args\u001b[0m \u001b[0;34m+\u001b[0m \u001b[0mexit_more_args\u001b[0m \u001b[0;34m+\u001b[0m \u001b[0mexit_cache\u001b[0m\u001b[0;34m\u001b[0m\u001b[0;34m\u001b[0m\u001b[0m\n\u001b[0m\u001b[1;32m    363\u001b[0m                 )\n\u001b[1;32m    364\u001b[0m             \u001b[0;32melse\u001b[0m\u001b[0;34m:\u001b[0m\u001b[0;34m\u001b[0m\u001b[0;34m\u001b[0m\u001b[0m\n",
      "\u001b[0;32m~/miniconda3/lib/python3.7/site-packages/numba/core/dispatcher.py\u001b[0m in \u001b[0;36m_compile_for_args\u001b[0;34m(self, *args, **kws)\u001b[0m\n\u001b[1;32m    413\u001b[0m                 \u001b[0me\u001b[0m\u001b[0;34m.\u001b[0m\u001b[0mpatch_message\u001b[0m\u001b[0;34m(\u001b[0m\u001b[0mmsg\u001b[0m\u001b[0;34m)\u001b[0m\u001b[0;34m\u001b[0m\u001b[0;34m\u001b[0m\u001b[0m\n\u001b[1;32m    414\u001b[0m \u001b[0;34m\u001b[0m\u001b[0m\n\u001b[0;32m--> 415\u001b[0;31m             \u001b[0merror_rewrite\u001b[0m\u001b[0;34m(\u001b[0m\u001b[0me\u001b[0m\u001b[0;34m,\u001b[0m \u001b[0;34m'typing'\u001b[0m\u001b[0;34m)\u001b[0m\u001b[0;34m\u001b[0m\u001b[0;34m\u001b[0m\u001b[0m\n\u001b[0m\u001b[1;32m    416\u001b[0m         \u001b[0;32mexcept\u001b[0m \u001b[0merrors\u001b[0m\u001b[0;34m.\u001b[0m\u001b[0mUnsupportedError\u001b[0m \u001b[0;32mas\u001b[0m \u001b[0me\u001b[0m\u001b[0;34m:\u001b[0m\u001b[0;34m\u001b[0m\u001b[0;34m\u001b[0m\u001b[0m\n\u001b[1;32m    417\u001b[0m             \u001b[0;31m# Something unsupported is present in the user code, add help info\u001b[0m\u001b[0;34m\u001b[0m\u001b[0;34m\u001b[0m\u001b[0;34m\u001b[0m\u001b[0m\n",
      "\u001b[0;32m~/miniconda3/lib/python3.7/site-packages/numba/core/dispatcher.py\u001b[0m in \u001b[0;36merror_rewrite\u001b[0;34m(e, issue_type)\u001b[0m\n\u001b[1;32m    356\u001b[0m                 \u001b[0;32mraise\u001b[0m \u001b[0me\u001b[0m\u001b[0;34m\u001b[0m\u001b[0;34m\u001b[0m\u001b[0m\n\u001b[1;32m    357\u001b[0m             \u001b[0;32melse\u001b[0m\u001b[0;34m:\u001b[0m\u001b[0;34m\u001b[0m\u001b[0;34m\u001b[0m\u001b[0m\n\u001b[0;32m--> 358\u001b[0;31m                 \u001b[0mreraise\u001b[0m\u001b[0;34m(\u001b[0m\u001b[0mtype\u001b[0m\u001b[0;34m(\u001b[0m\u001b[0me\u001b[0m\u001b[0;34m)\u001b[0m\u001b[0;34m,\u001b[0m \u001b[0me\u001b[0m\u001b[0;34m,\u001b[0m \u001b[0;32mNone\u001b[0m\u001b[0;34m)\u001b[0m\u001b[0;34m\u001b[0m\u001b[0;34m\u001b[0m\u001b[0m\n\u001b[0m\u001b[1;32m    359\u001b[0m \u001b[0;34m\u001b[0m\u001b[0m\n\u001b[1;32m    360\u001b[0m         \u001b[0margtypes\u001b[0m \u001b[0;34m=\u001b[0m \u001b[0;34m[\u001b[0m\u001b[0;34m]\u001b[0m\u001b[0;34m\u001b[0m\u001b[0;34m\u001b[0m\u001b[0m\n",
      "\u001b[0;32m~/miniconda3/lib/python3.7/site-packages/numba/core/utils.py\u001b[0m in \u001b[0;36mreraise\u001b[0;34m(tp, value, tb)\u001b[0m\n\u001b[1;32m     78\u001b[0m         \u001b[0mvalue\u001b[0m \u001b[0;34m=\u001b[0m \u001b[0mtp\u001b[0m\u001b[0;34m(\u001b[0m\u001b[0;34m)\u001b[0m\u001b[0;34m\u001b[0m\u001b[0;34m\u001b[0m\u001b[0m\n\u001b[1;32m     79\u001b[0m     \u001b[0;32mif\u001b[0m \u001b[0mvalue\u001b[0m\u001b[0;34m.\u001b[0m\u001b[0m__traceback__\u001b[0m \u001b[0;32mis\u001b[0m \u001b[0;32mnot\u001b[0m \u001b[0mtb\u001b[0m\u001b[0;34m:\u001b[0m\u001b[0;34m\u001b[0m\u001b[0;34m\u001b[0m\u001b[0m\n\u001b[0;32m---> 80\u001b[0;31m         \u001b[0;32mraise\u001b[0m \u001b[0mvalue\u001b[0m\u001b[0;34m.\u001b[0m\u001b[0mwith_traceback\u001b[0m\u001b[0;34m(\u001b[0m\u001b[0mtb\u001b[0m\u001b[0;34m)\u001b[0m\u001b[0;34m\u001b[0m\u001b[0;34m\u001b[0m\u001b[0m\n\u001b[0m\u001b[1;32m     81\u001b[0m     \u001b[0;32mraise\u001b[0m \u001b[0mvalue\u001b[0m\u001b[0;34m\u001b[0m\u001b[0;34m\u001b[0m\u001b[0m\n\u001b[1;32m     82\u001b[0m \u001b[0;34m\u001b[0m\u001b[0m\n",
      "\u001b[0;31mTypingError\u001b[0m: Failed in nopython mode pipeline (step: nopython frontend)\n\u001b[1m\u001b[1m\u001b[1m\u001b[1mFailed in nopython mode pipeline (step: nopython frontend)\n\u001b[1m\u001b[1m\u001b[1m\u001b[1mFailed in nopython mode pipeline (step: nopython frontend)\nInternal error at <numba.core.typeinfer.CallConstraint object at 0x7f999ebda780>.\n\u001b[1m\u001b[1m\u001b[1mmissing a required argument: 'temp_int'\u001b[0m\n\u001b[0m\u001b[1mDuring: resolving callee type: type(CPUDispatcher(<function stop_choice_nb at 0x7f999c515d90>))\u001b[0m\n\u001b[0m\u001b[1mDuring: typing of call at /Users/olegpolakow/Documents/SourceTree/vectorbt/vectorbt/signals/nb.py (76)\n\u001b[0m\nEnable logging at debug level for details.\n\u001b[1m\nFile \"vectorbt/signals/nb.py\", line 76:\u001b[0m\n\u001b[1mdef generate_ex_nb(entries, exit_choice_func_nb, *args):\n    <source elided>\n                    to_i = next_idx\n\u001b[1m                    idxs = exit_choice_func_nb(col, from_i, to_i, *args)\n\u001b[0m                    \u001b[1m^\u001b[0m\u001b[0m\n\n\u001b[0m\u001b[1mDuring: resolving callee type: type(CPUDispatcher(<function generate_ex_nb at 0x7f999c4f8b70>))\u001b[0m\n\u001b[0m\u001b[1mDuring: typing of call at /Users/olegpolakow/Documents/SourceTree/vectorbt/vectorbt/signals/factory.py (246)\n\u001b[0m\n\u001b[0m\u001b[1mDuring: resolving callee type: type(CPUDispatcher(<function generate_ex_nb at 0x7f999c4f8b70>))\u001b[0m\n\u001b[0m\u001b[1mDuring: typing of call at /Users/olegpolakow/Documents/SourceTree/vectorbt/vectorbt/signals/factory.py (246)\n\u001b[0m\n\u001b[1m\nFile \"vectorbt/signals/factory.py\", line 246:\u001b[0m\n\u001b[1m            def apply_nb(i, entries, exit_input_list, exit_param_tuples, exit_args):\n\u001b[1m                return generate_ex_nb(entries, exit_choice_func, *exit_input_list, *exit_param_tuples[i], *exit_args)\n\u001b[0m                \u001b[1m^\u001b[0m\u001b[0m\n\n\u001b[0m\u001b[1mDuring: resolving callee type: type(CPUDispatcher(<function SignalFactory.from_choice_func.<locals>.apply_nb at 0x7f999eda4048>))\u001b[0m\n\u001b[0m\u001b[1mDuring: typing of call at /Users/olegpolakow/Documents/SourceTree/vectorbt/vectorbt/base/combine_fns.py (40)\n\u001b[0m\n\u001b[0m\u001b[1mDuring: resolving callee type: type(CPUDispatcher(<function SignalFactory.from_choice_func.<locals>.apply_nb at 0x7f999eda4048>))\u001b[0m\n\u001b[0m\u001b[1mDuring: typing of call at /Users/olegpolakow/Documents/SourceTree/vectorbt/vectorbt/base/combine_fns.py (40)\n\u001b[0m\n\u001b[1m\nFile \"vectorbt/base/combine_fns.py\", line 40:\u001b[0m\n\u001b[1mdef apply_and_concat_one_nb(n, apply_func_nb, *args):  # numba doesn't accepts **kwargs\n    <source elided>\n    \"\"\"\n\u001b[1m    output_0 = to_2d_one_nb(apply_func_nb(0, *args))\n\u001b[0m    \u001b[1m^\u001b[0m\u001b[0m\n"
     ]
    }
   ],
   "source": [
    "StopExitSignals = SignalFactory(\n",
    "    class_name='StopExitSignals',\n",
    "    module_name=__name__,\n",
    "    short_name='stex',\n",
    "    input_names=['ts'],\n",
    "    param_names=['stop'], \n",
    "    exit_only=True,\n",
    "    iteratively=False\n",
    ").from_choice_func(\n",
    "    exit_choice_func=stop_choice_nb,\n",
    "    exit_settings=dict(\n",
    "        pass_inputs=['ts'],\n",
    "        pass_params=['stop'],\n",
    "        pass_first=True,\n",
    "        pass_temp_int=True,\n",
    "        pass_is_2d=True,\n",
    "    )\n",
    ")\n",
    "entries = pd.DataFrame({\n",
    "    'a': [True, False, False, False, False],\n",
    "    'b': [True, False, True, False, True],\n",
    "    'c': [True, True, True, False, False]\n",
    "})\n",
    "ts = pd.Series([1, 2, 3, 2, 1])\n",
    "stop_ex_signals = StopExitSignals.run(entries, ts, [0.1, 0.2], StopPosition.Entry)\n",
    "\n",
    "print(stop_ex_signals.entries)\n",
    "print(stop_ex_signals.exits)"
   ]
  },
  {
   "cell_type": "code",
   "execution_count": 33,
   "metadata": {},
   "outputs": [
    {
     "name": "stdout",
     "output_type": "stream",
     "text": [
      "0     True\n",
      "1    False\n",
      "2     True\n",
      "3    False\n",
      "4     True\n",
      "dtype: bool\n",
      "0    False\n",
      "1     True\n",
      "2    False\n",
      "3     True\n",
      "4    False\n",
      "dtype: bool\n"
     ]
    }
   ],
   "source": [
    "@njit\n",
    "def cache_func(arg0, first, temp_int, is_2d):\n",
    "    return 0\n",
    "    \n",
    "    \n",
    "@njit\n",
    "def entry_choice_nb(col, from_i, to_i, arg1, first, temp_int, is_2d, cache):\n",
    "    return np.array([from_i])\n",
    "\n",
    "\n",
    "@njit\n",
    "def exit_choice_nb(col, from_i, to_i, arg2, first, temp_int, is_2d, cache):\n",
    "    return np.array([from_i])\n",
    "    \n",
    "Signals = SignalFactory(exit_only=True, iteratively=True).from_choice_func(\n",
    "    exit_choice_func=exit_choice_nb,\n",
    "    cache_func=cache_func,\n",
    "    exit_settings=dict(\n",
    "        pass_first=True,\n",
    "        pass_temp_int=True,\n",
    "        pass_is_2d=True,\n",
    "        pass_cache=True\n",
    "    ),\n",
    "    cache_settings=dict(\n",
    "        pass_first=True,\n",
    "        pass_temp_int=True,\n",
    "        pass_is_2d=True\n",
    "    )\n",
    ")\n",
    "entries = pd.Series([True, False, True, False, True])\n",
    "signals = Signals.run(entries, cache_args=(1,), exit_args=(2,))\n",
    "\n",
    "print(signals.entries)\n",
    "print(signals.exits)"
   ]
  },
  {
   "cell_type": "code",
   "execution_count": 60,
   "metadata": {},
   "outputs": [
    {
     "ename": "TypingError",
     "evalue": "Failed in nopython mode pipeline (step: nopython frontend)\nInternal error at <numba.core.typeinfer.CallConstraint object at 0x7f90846d1588>.\n\u001b[1m\u001b[1m\u001b[1m*args in function call should be a tuple, got ListType[int64]\u001b[0m\n\u001b[0m\u001b[1mDuring: resolving callee type: type(CPUDispatcher(<function f at 0x7f9084071598>))\u001b[0m\n\u001b[0m\u001b[1mDuring: typing of call at <ipython-input-60-ed1f66bf57eb> (7)\n\u001b[0m\nEnable logging at debug level for details.\n\u001b[1m\nFile \"<ipython-input-60-ed1f66bf57eb>\", line 7:\u001b[0m\n\u001b[1mdef h(a):\n\u001b[1m    return f(*a)\n\u001b[0m    \u001b[1m^\u001b[0m\u001b[0m\n",
     "output_type": "error",
     "traceback": [
      "\u001b[0;31m---------------------------------------------------------------------------\u001b[0m",
      "\u001b[0;31mTypingError\u001b[0m                               Traceback (most recent call last)",
      "\u001b[0;32m<ipython-input-60-ed1f66bf57eb>\u001b[0m in \u001b[0;36m<module>\u001b[0;34m\u001b[0m\n\u001b[1;32m      7\u001b[0m     \u001b[0;32mreturn\u001b[0m \u001b[0mf\u001b[0m\u001b[0;34m(\u001b[0m\u001b[0;34m*\u001b[0m\u001b[0ma\u001b[0m\u001b[0;34m)\u001b[0m\u001b[0;34m\u001b[0m\u001b[0;34m\u001b[0m\u001b[0m\n\u001b[1;32m      8\u001b[0m \u001b[0;34m\u001b[0m\u001b[0m\n\u001b[0;32m----> 9\u001b[0;31m \u001b[0mh\u001b[0m\u001b[0;34m(\u001b[0m\u001b[0mList\u001b[0m\u001b[0;34m(\u001b[0m\u001b[0;34m[\u001b[0m\u001b[0;36m1\u001b[0m\u001b[0;34m,\u001b[0m \u001b[0;36m2\u001b[0m\u001b[0;34m,\u001b[0m \u001b[0;36m3\u001b[0m\u001b[0;34m]\u001b[0m\u001b[0;34m)\u001b[0m\u001b[0;34m)\u001b[0m\u001b[0;34m\u001b[0m\u001b[0;34m\u001b[0m\u001b[0m\n\u001b[0m",
      "\u001b[0;32m~/miniconda3/lib/python3.7/site-packages/numba/core/dispatcher.py\u001b[0m in \u001b[0;36m_compile_for_args\u001b[0;34m(self, *args, **kws)\u001b[0m\n\u001b[1;32m    413\u001b[0m                 \u001b[0me\u001b[0m\u001b[0;34m.\u001b[0m\u001b[0mpatch_message\u001b[0m\u001b[0;34m(\u001b[0m\u001b[0mmsg\u001b[0m\u001b[0;34m)\u001b[0m\u001b[0;34m\u001b[0m\u001b[0;34m\u001b[0m\u001b[0m\n\u001b[1;32m    414\u001b[0m \u001b[0;34m\u001b[0m\u001b[0m\n\u001b[0;32m--> 415\u001b[0;31m             \u001b[0merror_rewrite\u001b[0m\u001b[0;34m(\u001b[0m\u001b[0me\u001b[0m\u001b[0;34m,\u001b[0m \u001b[0;34m'typing'\u001b[0m\u001b[0;34m)\u001b[0m\u001b[0;34m\u001b[0m\u001b[0;34m\u001b[0m\u001b[0m\n\u001b[0m\u001b[1;32m    416\u001b[0m         \u001b[0;32mexcept\u001b[0m \u001b[0merrors\u001b[0m\u001b[0;34m.\u001b[0m\u001b[0mUnsupportedError\u001b[0m \u001b[0;32mas\u001b[0m \u001b[0me\u001b[0m\u001b[0;34m:\u001b[0m\u001b[0;34m\u001b[0m\u001b[0;34m\u001b[0m\u001b[0m\n\u001b[1;32m    417\u001b[0m             \u001b[0;31m# Something unsupported is present in the user code, add help info\u001b[0m\u001b[0;34m\u001b[0m\u001b[0;34m\u001b[0m\u001b[0;34m\u001b[0m\u001b[0m\n",
      "\u001b[0;32m~/miniconda3/lib/python3.7/site-packages/numba/core/dispatcher.py\u001b[0m in \u001b[0;36merror_rewrite\u001b[0;34m(e, issue_type)\u001b[0m\n\u001b[1;32m    356\u001b[0m                 \u001b[0;32mraise\u001b[0m \u001b[0me\u001b[0m\u001b[0;34m\u001b[0m\u001b[0;34m\u001b[0m\u001b[0m\n\u001b[1;32m    357\u001b[0m             \u001b[0;32melse\u001b[0m\u001b[0;34m:\u001b[0m\u001b[0;34m\u001b[0m\u001b[0;34m\u001b[0m\u001b[0m\n\u001b[0;32m--> 358\u001b[0;31m                 \u001b[0mreraise\u001b[0m\u001b[0;34m(\u001b[0m\u001b[0mtype\u001b[0m\u001b[0;34m(\u001b[0m\u001b[0me\u001b[0m\u001b[0;34m)\u001b[0m\u001b[0;34m,\u001b[0m \u001b[0me\u001b[0m\u001b[0;34m,\u001b[0m \u001b[0;32mNone\u001b[0m\u001b[0;34m)\u001b[0m\u001b[0;34m\u001b[0m\u001b[0;34m\u001b[0m\u001b[0m\n\u001b[0m\u001b[1;32m    359\u001b[0m \u001b[0;34m\u001b[0m\u001b[0m\n\u001b[1;32m    360\u001b[0m         \u001b[0margtypes\u001b[0m \u001b[0;34m=\u001b[0m \u001b[0;34m[\u001b[0m\u001b[0;34m]\u001b[0m\u001b[0;34m\u001b[0m\u001b[0;34m\u001b[0m\u001b[0m\n",
      "\u001b[0;32m~/miniconda3/lib/python3.7/site-packages/numba/core/utils.py\u001b[0m in \u001b[0;36mreraise\u001b[0;34m(tp, value, tb)\u001b[0m\n\u001b[1;32m     78\u001b[0m         \u001b[0mvalue\u001b[0m \u001b[0;34m=\u001b[0m \u001b[0mtp\u001b[0m\u001b[0;34m(\u001b[0m\u001b[0;34m)\u001b[0m\u001b[0;34m\u001b[0m\u001b[0;34m\u001b[0m\u001b[0m\n\u001b[1;32m     79\u001b[0m     \u001b[0;32mif\u001b[0m \u001b[0mvalue\u001b[0m\u001b[0;34m.\u001b[0m\u001b[0m__traceback__\u001b[0m \u001b[0;32mis\u001b[0m \u001b[0;32mnot\u001b[0m \u001b[0mtb\u001b[0m\u001b[0;34m:\u001b[0m\u001b[0;34m\u001b[0m\u001b[0;34m\u001b[0m\u001b[0m\n\u001b[0;32m---> 80\u001b[0;31m         \u001b[0;32mraise\u001b[0m \u001b[0mvalue\u001b[0m\u001b[0;34m.\u001b[0m\u001b[0mwith_traceback\u001b[0m\u001b[0;34m(\u001b[0m\u001b[0mtb\u001b[0m\u001b[0;34m)\u001b[0m\u001b[0;34m\u001b[0m\u001b[0;34m\u001b[0m\u001b[0m\n\u001b[0m\u001b[1;32m     81\u001b[0m     \u001b[0;32mraise\u001b[0m \u001b[0mvalue\u001b[0m\u001b[0;34m\u001b[0m\u001b[0;34m\u001b[0m\u001b[0m\n\u001b[1;32m     82\u001b[0m \u001b[0;34m\u001b[0m\u001b[0m\n",
      "\u001b[0;31mTypingError\u001b[0m: Failed in nopython mode pipeline (step: nopython frontend)\nInternal error at <numba.core.typeinfer.CallConstraint object at 0x7f90846d1588>.\n\u001b[1m\u001b[1m\u001b[1m*args in function call should be a tuple, got ListType[int64]\u001b[0m\n\u001b[0m\u001b[1mDuring: resolving callee type: type(CPUDispatcher(<function f at 0x7f9084071598>))\u001b[0m\n\u001b[0m\u001b[1mDuring: typing of call at <ipython-input-60-ed1f66bf57eb> (7)\n\u001b[0m\nEnable logging at debug level for details.\n\u001b[1m\nFile \"<ipython-input-60-ed1f66bf57eb>\", line 7:\u001b[0m\n\u001b[1mdef h(a):\n\u001b[1m    return f(*a)\n\u001b[0m    \u001b[1m^\u001b[0m\u001b[0m\n"
     ]
    }
   ],
   "source": [
    "StopExitSignals = ExitSignalFactory(param_names=['stop'], iteratively=True).from_choice_func(\n",
    "    stop_choice_nb,\n",
    "    pass_first=True,\n",
    "    pass_temp_int=True,\n",
    "    pass_is_2d=True,\n",
    ")\n",
    "stop_ex_signals = StopExitSignals.run(entries, ts, [0.1, 0.2], StopPosition.Entry)"
   ]
  },
  {
   "cell_type": "code",
   "execution_count": 58,
   "metadata": {},
   "outputs": [
    {
     "data": {
      "text/plain": [
       "[[0, 0, 0, 0, 0, 0, 0, 0, 0],\n",
       " [1, 1, 1, 2, 2, 2, 3, 3, 3],\n",
       " [3, 4, 5, 3, 4, 5, 3, 4, 5]]"
      ]
     },
     "execution_count": 58,
     "metadata": {},
     "output_type": "execute_result"
    }
   ],
   "source": [
    "import itertools\n",
    "\n",
    "def broadcast_params(param_list):\n",
    "    \"\"\"Broadcast parameters in `param_list`.\"\"\"\n",
    "    max_len = max(list(map(len, param_list)))\n",
    "    new_param_list = []\n",
    "    for i in range(len(param_list)):\n",
    "        params = param_list[i]\n",
    "        if len(params) < max_len:\n",
    "            if len(params) > 1:\n",
    "                raise ValueError(\"shape mismatch: objects cannot be broadcast to a single shape\")\n",
    "            new_params = []\n",
    "            for j in range(max_len):\n",
    "                new_params.append(params[0])\n",
    "            new_param_list.append(new_params)\n",
    "        else:\n",
    "            new_param_list.append(params)\n",
    "    return new_param_list\n",
    "\n",
    "\n",
    "def create_param_product(param_list):\n",
    "    \"\"\"Make Cartesian product out of all params in `param_list`.\"\"\"\n",
    "    return list(map(list, zip(*list(itertools.product(*param_list)))))\n",
    "            \n",
    "\n",
    "create_param_product([[0], [1, 2, 3], [3, 4, 5]])"
   ]
  },
  {
   "cell_type": "code",
   "execution_count": null,
   "metadata": {},
   "outputs": [],
   "source": [
    "np.broadcast"
   ]
  },
  {
   "cell_type": "code",
   "execution_count": null,
   "metadata": {},
   "outputs": [],
   "source": []
  },
  {
   "cell_type": "code",
   "execution_count": 2,
   "metadata": {},
   "outputs": [
    {
     "name": "stdout",
     "output_type": "stream",
     "text": [
      "                a      b      c\n",
      "2020-01-01  False  False  False\n",
      "2020-01-02  False  False  False\n",
      "2020-01-03  False  False  False\n",
      "2020-01-04   True   True   True\n",
      "2020-01-05  False  False  False\n"
     ]
    }
   ],
   "source": [
    "ts = pd.Series([1, 2, 3, 2, 1])\n",
    "print(sig.vbt.signals.generate_stop_loss_exits(ts, 0.1, trailing=True))"
   ]
  },
  {
   "cell_type": "code",
   "execution_count": 10,
   "metadata": {},
   "outputs": [
    {
     "name": "stdout",
     "output_type": "stream",
     "text": [
      "                a      b      c\n",
      "2020-01-01  False  False  False\n",
      "2020-01-02   True   True  False\n",
      "2020-01-03  False  False  False\n",
      "2020-01-04  False   True   True\n",
      "2020-01-05  False  False  False\n"
     ]
    }
   ],
   "source": [
    "ts = pd.Series([1, 2, 3, 4, 5])\n",
    "print(sig.vbt.signals.generate_take_profit_exits(ts, 0.1))"
   ]
  },
  {
   "cell_type": "code",
   "execution_count": 6,
   "metadata": {},
   "outputs": [
    {
     "name": "stdout",
     "output_type": "stream",
     "text": [
      "52.3 ms ± 566 µs per loop (mean ± std. dev. of 7 runs, 10 loops each)\n"
     ]
    }
   ],
   "source": [
    "import pandas as pd\n",
    "import vectorbt as vbt\n",
    "\n",
    "entries = pd.DataFrame.vbt.signals.generate_random((1000, 1000), n=100).values\n",
    "a = np.random.randint(-1, 2, size=(1000, 1000))\n",
    "\n",
    "%timeit generate_stop_ex_nb(entries, a, np.array([[0.1]]), np.array([CompOperator.L]), np.array([CompValue.ExpMax]), True)"
   ]
  },
  {
   "cell_type": "code",
   "execution_count": 4,
   "metadata": {},
   "outputs": [
    {
     "data": {
      "text/plain": [
       "array([[[[0.1],\n",
       "         [0.1],\n",
       "         [0.1],\n",
       "         [0.1],\n",
       "         [0.1]],\n",
       "\n",
       "        [[1. ],\n",
       "         [1. ],\n",
       "         [1. ],\n",
       "         [1. ],\n",
       "         [1. ]]],\n",
       "\n",
       "\n",
       "       [[[0.1],\n",
       "         [0.1],\n",
       "         [0.1],\n",
       "         [0.1],\n",
       "         [0.1]],\n",
       "\n",
       "        [[1. ],\n",
       "         [1. ],\n",
       "         [1. ],\n",
       "         [1. ],\n",
       "         [1. ]]]])"
      ]
     },
     "execution_count": 4,
     "metadata": {},
     "output_type": "execute_result"
    }
   ],
   "source": [
    "stops"
   ]
  },
  {
   "cell_type": "code",
   "execution_count": 2,
   "metadata": {},
   "outputs": [],
   "source": [
    "entries, exits = pd.Series.vbt.signals.generate_random_both(price.shape, n=10, seed=42)\n",
    "portfolio = vbt.Portfolio.from_signals(price, entries, exits, fees=0.01, freq='1D')\n",
    "orders = portfolio.orders()"
   ]
  },
  {
   "cell_type": "code",
   "execution_count": 3,
   "metadata": {},
   "outputs": [
    {
     "data": {
      "image/png": "[encoded data removed]"
     },
     "metadata": {},
     "output_type": "display_data"
    }
   ],
   "source": [
    "orders.plot().show_png()"
   ]
  },
  {
   "cell_type": "code",
   "execution_count": 4,
   "metadata": {},
   "outputs": [],
   "source": [
    "import vectorbt as vbt\n",
    "import pandas as pd\n",
    "\n",
    "price = pd.Series([1., 2., 3., 2., 1.])\n",
    "orders = pd.Series([1., 1., 1., 1., -1.])\n",
    "portfolio = vbt.Portfolio.from_orders(price, orders,\n",
    "     init_cash=100., freq='1D')\n",
    "orders = portfolio.orders()"
   ]
  },
  {
   "cell_type": "code",
   "execution_count": 5,
   "metadata": {},
   "outputs": [
    {
     "data": {
      "image/png": "[encoded data removed]"
     },
     "metadata": {},
     "output_type": "display_data"
    }
   ],
   "source": [
    "orders.plot().show_png()"
   ]
  },
  {
   "cell_type": "code",
   "execution_count": 6,
   "metadata": {},
   "outputs": [
    {
     "data": {
      "text/html": [
       "<div>\n",
       "<style scoped>\n",
       "    .dataframe tbody tr th:only-of-type {\n",
       "        vertical-align: middle;\n",
       "    }\n",
       "\n",
       "    .dataframe tbody tr th {\n",
       "        vertical-align: top;\n",
       "    }\n",
       "\n",
       "    .dataframe thead th {\n",
       "        text-align: right;\n",
       "    }\n",
       "</style>\n",
       "<table border=\"1\" class=\"dataframe\">\n",
       "  <thead>\n",
       "    <tr style=\"text-align: right;\">\n",
       "      <th></th>\n",
       "      <th>a</th>\n",
       "      <th>b</th>\n",
       "      <th>c</th>\n",
       "    </tr>\n",
       "  </thead>\n",
       "  <tbody>\n",
       "    <tr>\n",
       "      <th>2020-01-01</th>\n",
       "      <td>True</td>\n",
       "      <td>True</td>\n",
       "      <td>True</td>\n",
       "    </tr>\n",
       "    <tr>\n",
       "      <th>2020-01-02</th>\n",
       "      <td>False</td>\n",
       "      <td>False</td>\n",
       "      <td>True</td>\n",
       "    </tr>\n",
       "    <tr>\n",
       "      <th>2020-01-03</th>\n",
       "      <td>False</td>\n",
       "      <td>True</td>\n",
       "      <td>True</td>\n",
       "    </tr>\n",
       "    <tr>\n",
       "      <th>2020-01-04</th>\n",
       "      <td>False</td>\n",
       "      <td>False</td>\n",
       "      <td>False</td>\n",
       "    </tr>\n",
       "    <tr>\n",
       "      <th>2020-01-05</th>\n",
       "      <td>False</td>\n",
       "      <td>True</td>\n",
       "      <td>False</td>\n",
       "    </tr>\n",
       "  </tbody>\n",
       "</table>\n",
       "</div>"
      ],
      "text/plain": [
       "                a      b      c\n",
       "2020-01-01   True   True   True\n",
       "2020-01-02  False  False   True\n",
       "2020-01-03  False   True   True\n",
       "2020-01-04  False  False  False\n",
       "2020-01-05  False   True  False"
      ]
     },
     "execution_count": 6,
     "metadata": {},
     "output_type": "execute_result"
    }
   ],
   "source": [
    "import vectorbt as vbt\n",
    "import numpy as np\n",
    "import pandas as pd\n",
    "from numba import njit\n",
    "from datetime import datetime\n",
    "\n",
    "sig = pd.DataFrame({\n",
    "    'a': [True, False, False, False, False],\n",
    "    'b': [True, False, True, False, True],\n",
    "    'c': [True, True, True, False, False]\n",
    "}, index=pd.Index([\n",
    "    datetime(2020, 1, 1),\n",
    "    datetime(2020, 1, 2),\n",
    "    datetime(2020, 1, 3),\n",
    "    datetime(2020, 1, 4),\n",
    "    datetime(2020, 1, 5)\n",
    "]))\n",
    "sig"
   ]
  },
  {
   "cell_type": "code",
   "execution_count": 8,
   "metadata": {},
   "outputs": [
    {
     "data": {
      "image/png": "[encoded data removed]"
     },
     "metadata": {},
     "output_type": "display_data"
    }
   ],
   "source": [
    "ts = pd.Series([1, 2, 3, 2, 1], index=sig.index)\n",
    "fig = ts.vbt.plot()\n",
    "sig['b'].vbt.signals.plot_as_entry_markers(ts, fig=fig)\n",
    "(~sig['b']).vbt.signals.plot_as_exit_markers(ts, fig=fig).show_png()"
   ]
  },
  {
   "cell_type": "code",
   "execution_count": 5,
   "metadata": {},
   "outputs": [
    {
     "name": "stderr",
     "output_type": "stream",
     "text": [
      "/Users/olegpolakow/miniconda3/lib/python3.7/site-packages/numba/core/utils.py:510: NumbaExperimentalFeatureWarning: \u001b[1mFirst-class function type feature is experimental\u001b[0m\n",
      "  category=NumbaExperimentalFeatureWarning)\n",
      "/Users/olegpolakow/miniconda3/lib/python3.7/site-packages/numba/core/utils.py:510: NumbaExperimentalFeatureWarning: \u001b[1mFirst-class function type feature is experimental\u001b[0m\n",
      "  category=NumbaExperimentalFeatureWarning)\n"
     ]
    },
    {
     "ename": "TypingError",
     "evalue": "Failed in nopython mode pipeline (step: nopython frontend)\n\u001b[1m\u001b[1m\u001b[1mNo implementation of function Function(<class 'enumerate'>) found for signature:\n \n >>> enumerate(Tuple(type(CPUDispatcher(<function f1 at 0x7fe77fe00510>)), type(CPUDispatcher(<function f2 at 0x7fe77fd56ae8>))))\n \nThere are 2 candidate implementations:\n\u001b[1m   - Of which 2 did not match due to:\n   Overload of function 'enumerate': File: numba/core/typing/builtins.py: Line 955.\n     With argument(s): '(Tuple(type(CPUDispatcher(<function f1 at 0x7fe77fe00510>)), type(CPUDispatcher(<function f2 at 0x7fe77fd56ae8>))))':\u001b[0m\n\u001b[1m    No match.\u001b[0m\n\u001b[0m\n\u001b[0m\u001b[1mDuring: resolving callee type: Function(<class 'enumerate'>)\u001b[0m\n\u001b[0m\u001b[1mDuring: typing of call at <ipython-input-5-79d73331afc7> (14)\n\u001b[0m\n\u001b[1m\nFile \"<ipython-input-5-79d73331afc7>\", line 14:\u001b[0m\n\u001b[1mdef h(fs, a, b):\n    <source elided>\n    c = 0\n\u001b[1m    for i, f in enumerate(fs):\n\u001b[0m    \u001b[1m^\u001b[0m\u001b[0m\n",
     "output_type": "error",
     "traceback": [
      "\u001b[0;31m---------------------------------------------------------------------------\u001b[0m",
      "\u001b[0;31mTypingError\u001b[0m                               Traceback (most recent call last)",
      "\u001b[0;32m<ipython-input-5-79d73331afc7>\u001b[0m in \u001b[0;36m<module>\u001b[0;34m\u001b[0m\n\u001b[1;32m     19\u001b[0m     \u001b[0;32mreturn\u001b[0m \u001b[0mc\u001b[0m\u001b[0;34m\u001b[0m\u001b[0;34m\u001b[0m\u001b[0m\n\u001b[1;32m     20\u001b[0m \u001b[0;34m\u001b[0m\u001b[0m\n\u001b[0;32m---> 21\u001b[0;31m \u001b[0mh\u001b[0m\u001b[0;34m(\u001b[0m\u001b[0;34m(\u001b[0m\u001b[0mf1\u001b[0m\u001b[0;34m,\u001b[0m \u001b[0mf2\u001b[0m\u001b[0;34m)\u001b[0m\u001b[0;34m,\u001b[0m \u001b[0;36m0\u001b[0m\u001b[0;34m,\u001b[0m \u001b[0;36m1\u001b[0m\u001b[0;34m)\u001b[0m\u001b[0;34m\u001b[0m\u001b[0;34m\u001b[0m\u001b[0m\n\u001b[0m",
      "\u001b[0;32m~/miniconda3/lib/python3.7/site-packages/numba/core/dispatcher.py\u001b[0m in \u001b[0;36m_compile_for_args\u001b[0;34m(self, *args, **kws)\u001b[0m\n\u001b[1;32m    413\u001b[0m                 \u001b[0me\u001b[0m\u001b[0;34m.\u001b[0m\u001b[0mpatch_message\u001b[0m\u001b[0;34m(\u001b[0m\u001b[0mmsg\u001b[0m\u001b[0;34m)\u001b[0m\u001b[0;34m\u001b[0m\u001b[0;34m\u001b[0m\u001b[0m\n\u001b[1;32m    414\u001b[0m \u001b[0;34m\u001b[0m\u001b[0m\n\u001b[0;32m--> 415\u001b[0;31m             \u001b[0merror_rewrite\u001b[0m\u001b[0;34m(\u001b[0m\u001b[0me\u001b[0m\u001b[0;34m,\u001b[0m \u001b[0;34m'typing'\u001b[0m\u001b[0;34m)\u001b[0m\u001b[0;34m\u001b[0m\u001b[0;34m\u001b[0m\u001b[0m\n\u001b[0m\u001b[1;32m    416\u001b[0m         \u001b[0;32mexcept\u001b[0m \u001b[0merrors\u001b[0m\u001b[0;34m.\u001b[0m\u001b[0mUnsupportedError\u001b[0m \u001b[0;32mas\u001b[0m \u001b[0me\u001b[0m\u001b[0;34m:\u001b[0m\u001b[0;34m\u001b[0m\u001b[0;34m\u001b[0m\u001b[0m\n\u001b[1;32m    417\u001b[0m             \u001b[0;31m# Something unsupported is present in the user code, add help info\u001b[0m\u001b[0;34m\u001b[0m\u001b[0;34m\u001b[0m\u001b[0;34m\u001b[0m\u001b[0m\n",
      "\u001b[0;32m~/miniconda3/lib/python3.7/site-packages/numba/core/dispatcher.py\u001b[0m in \u001b[0;36merror_rewrite\u001b[0;34m(e, issue_type)\u001b[0m\n\u001b[1;32m    356\u001b[0m                 \u001b[0;32mraise\u001b[0m \u001b[0me\u001b[0m\u001b[0;34m\u001b[0m\u001b[0;34m\u001b[0m\u001b[0m\n\u001b[1;32m    357\u001b[0m             \u001b[0;32melse\u001b[0m\u001b[0;34m:\u001b[0m\u001b[0;34m\u001b[0m\u001b[0;34m\u001b[0m\u001b[0m\n\u001b[0;32m--> 358\u001b[0;31m                 \u001b[0mreraise\u001b[0m\u001b[0;34m(\u001b[0m\u001b[0mtype\u001b[0m\u001b[0;34m(\u001b[0m\u001b[0me\u001b[0m\u001b[0;34m)\u001b[0m\u001b[0;34m,\u001b[0m \u001b[0me\u001b[0m\u001b[0;34m,\u001b[0m \u001b[0;32mNone\u001b[0m\u001b[0;34m)\u001b[0m\u001b[0;34m\u001b[0m\u001b[0;34m\u001b[0m\u001b[0m\n\u001b[0m\u001b[1;32m    359\u001b[0m \u001b[0;34m\u001b[0m\u001b[0m\n\u001b[1;32m    360\u001b[0m         \u001b[0margtypes\u001b[0m \u001b[0;34m=\u001b[0m \u001b[0;34m[\u001b[0m\u001b[0;34m]\u001b[0m\u001b[0;34m\u001b[0m\u001b[0;34m\u001b[0m\u001b[0m\n",
      "\u001b[0;32m~/miniconda3/lib/python3.7/site-packages/numba/core/utils.py\u001b[0m in \u001b[0;36mreraise\u001b[0;34m(tp, value, tb)\u001b[0m\n\u001b[1;32m     78\u001b[0m         \u001b[0mvalue\u001b[0m \u001b[0;34m=\u001b[0m \u001b[0mtp\u001b[0m\u001b[0;34m(\u001b[0m\u001b[0;34m)\u001b[0m\u001b[0;34m\u001b[0m\u001b[0;34m\u001b[0m\u001b[0m\n\u001b[1;32m     79\u001b[0m     \u001b[0;32mif\u001b[0m \u001b[0mvalue\u001b[0m\u001b[0;34m.\u001b[0m\u001b[0m__traceback__\u001b[0m \u001b[0;32mis\u001b[0m \u001b[0;32mnot\u001b[0m \u001b[0mtb\u001b[0m\u001b[0;34m:\u001b[0m\u001b[0;34m\u001b[0m\u001b[0;34m\u001b[0m\u001b[0m\n\u001b[0;32m---> 80\u001b[0;31m         \u001b[0;32mraise\u001b[0m \u001b[0mvalue\u001b[0m\u001b[0;34m.\u001b[0m\u001b[0mwith_traceback\u001b[0m\u001b[0;34m(\u001b[0m\u001b[0mtb\u001b[0m\u001b[0;34m)\u001b[0m\u001b[0;34m\u001b[0m\u001b[0;34m\u001b[0m\u001b[0m\n\u001b[0m\u001b[1;32m     81\u001b[0m     \u001b[0;32mraise\u001b[0m \u001b[0mvalue\u001b[0m\u001b[0;34m\u001b[0m\u001b[0;34m\u001b[0m\u001b[0m\n\u001b[1;32m     82\u001b[0m \u001b[0;34m\u001b[0m\u001b[0m\n",
      "\u001b[0;31mTypingError\u001b[0m: Failed in nopython mode pipeline (step: nopython frontend)\n\u001b[1m\u001b[1m\u001b[1mNo implementation of function Function(<class 'enumerate'>) found for signature:\n \n >>> enumerate(Tuple(type(CPUDispatcher(<function f1 at 0x7fe77fe00510>)), type(CPUDispatcher(<function f2 at 0x7fe77fd56ae8>))))\n \nThere are 2 candidate implementations:\n\u001b[1m   - Of which 2 did not match due to:\n   Overload of function 'enumerate': File: numba/core/typing/builtins.py: Line 955.\n     With argument(s): '(Tuple(type(CPUDispatcher(<function f1 at 0x7fe77fe00510>)), type(CPUDispatcher(<function f2 at 0x7fe77fd56ae8>))))':\u001b[0m\n\u001b[1m    No match.\u001b[0m\n\u001b[0m\n\u001b[0m\u001b[1mDuring: resolving callee type: Function(<class 'enumerate'>)\u001b[0m\n\u001b[0m\u001b[1mDuring: typing of call at <ipython-input-5-79d73331afc7> (14)\n\u001b[0m\n\u001b[1m\nFile \"<ipython-input-5-79d73331afc7>\", line 14:\u001b[0m\n\u001b[1mdef h(fs, a, b):\n    <source elided>\n    c = 0\n\u001b[1m    for i, f in enumerate(fs):\n\u001b[0m    \u001b[1m^\u001b[0m\u001b[0m\n"
     ]
    }
   ],
   "source": [
    "\n"
   ]
  },
  {
   "cell_type": "code",
   "execution_count": null,
   "metadata": {},
   "outputs": [],
   "source": []
  }
 ],
 "metadata": {
  "kernelspec": {
   "display_name": "Python 3",
   "language": "python",
   "name": "python3"
  },
  "language_info": {
   "codemirror_mode": {
    "name": "ipython",
    "version": 3
   },
   "file_extension": ".py",
   "mimetype": "text/x-python",
   "name": "python",
   "nbconvert_exporter": "python",
   "pygments_lexer": "ipython3",
   "version": "3.7.3"
  },
  "widgets": {
   "application/vnd.jupyter.widget-state+json": {
    "state": {},
    "version_major": 2,
    "version_minor": 0
   }
  }
 },
 "nbformat": 4,
 "nbformat_minor": 4
}
