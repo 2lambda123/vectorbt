{
 "cells": [
  {
   "cell_type": "code",
   "execution_count": 5,
   "metadata": {},
   "outputs": [],
   "source": [
    "import vectorbt as vbt\n",
    "import numpy as np\n",
    "import pandas as pd\n",
    "from numba import njit\n",
    "from datetime import datetime\n",
    "\n",
    "index = pd.Index([\n",
    "    datetime(2018, 1, 1),\n",
    "    datetime(2018, 1, 2),\n",
    "    datetime(2018, 1, 3),\n",
    "    datetime(2018, 1, 4),\n",
    "    datetime(2018, 1, 5)\n",
    "])\n",
    "columns = ['a', 'b', 'c']\n",
    "df = pd.DataFrame([\n",
    "    [1, 5, 1],\n",
    "    [2, 4, 2],\n",
    "    [3, 3, 3],\n",
    "    [4, 2, 2],\n",
    "    [5, 1, 1]\n",
    "], index=index, columns=columns)"
   ]
  },
  {
   "cell_type": "code",
   "execution_count": 16,
   "metadata": {},
   "outputs": [
    {
     "name": "stdout",
     "output_type": "stream",
     "text": [
      "                    a                     b                     c           \n",
      "start_date 2018-01-01 2018-01-04 2018-01-01 2018-01-04 2018-01-01 2018-01-04\n",
      "0                 1.0        4.0        5.0        2.0        1.0        2.0\n",
      "1                 2.0        5.0        4.0        1.0        2.0        1.0\n"
     ]
    }
   ],
   "source": [
    "print(df.vbt.timeseries.rolling_window(2, n=2))"
   ]
  },
  {
   "cell_type": "code",
   "execution_count": 9,
   "metadata": {},
   "outputs": [
    {
     "name": "stdout",
     "output_type": "stream",
     "text": [
      "                   a         b         c\n",
      "2018-01-01  2.500000  2.500000  2.500000\n",
      "2018-01-03  2.833333  2.833333  2.833333\n",
      "2018-01-05  2.333333  2.333333  2.333333\n"
     ]
    }
   ],
   "source": [
    ">>> print(df.vbt.timeseries.resample_apply('2d', mean_reduce_nb, on_2d=True))"
   ]
  },
  {
   "cell_type": "code",
   "execution_count": 55,
   "metadata": {},
   "outputs": [
    {
     "data": {
      "image/png": "[encoded data removed]"
     },
     "metadata": {},
     "output_type": "display_data"
    }
   ],
   "source": [
    "df[['a', 'c']].vbt.signals.plot().show_png()"
   ]
  },
  {
   "cell_type": "code",
   "execution_count": 36,
   "metadata": {},
   "outputs": [
    {
     "name": "stdout",
     "output_type": "stream",
     "text": [
      "            a  b  c\n",
      "2018-01-01  0  0  0\n",
      "2018-01-02  1  0  1\n",
      "2018-01-03  2  1  0\n",
      "2018-01-04  0  2  1\n",
      "2018-01-05  1  0  2\n"
     ]
    }
   ],
   "source": [
    "print((~df).vbt.signals.rank(after_false=True))"
   ]
  },
  {
   "cell_type": "code",
   "execution_count": 16,
   "metadata": {},
   "outputs": [
    {
     "name": "stdout",
     "output_type": "stream",
     "text": [
      "[[False False  True]\n",
      " [False False False]\n",
      " [ True  True False]\n",
      " [False False False]\n",
      " [ True  True  True]]\n"
     ]
    }
   ],
   "source": [
    ">>> import numpy as np\n",
    ">>> from vectorbt.signals.nb import generate_random_nb\n",
    "\n",
    ">>> print(generate_random_nb((5, 3), n_range=np.array([2]), seed=42))"
   ]
  },
  {
   "cell_type": "code",
   "execution_count": 13,
   "metadata": {},
   "outputs": [
    {
     "name": "stdout",
     "output_type": "stream",
     "text": [
      "[1.5]\n"
     ]
    }
   ],
   "source": [
    ">>> import numpy as np\n",
    ">>> from numba import njit\n",
    ">>> from vectorbt.signals.nb import map_reduce_between_nb\n",
    "\n",
    ">>> @njit\n",
    "... def map_func_nb(col, prev_i, next_i):\n",
    "...     return next_i - prev_i\n",
    ">>> @njit\n",
    "... def reduce_func_nb(col, mapped):\n",
    "...     return np.nanmean(mapped)\n",
    ">>> a = np.asarray([False, True, True, False, True])[:, None]\n",
    "\n",
    ">>> print(map_reduce_between_nb(a, map_func_nb, reduce_func_nb))"
   ]
  },
  {
   "cell_type": "code",
   "execution_count": 2,
   "metadata": {},
   "outputs": [
    {
     "name": "stdout",
     "output_type": "stream",
     "text": [
      "[[False]\n",
      " [ True]\n",
      " [False]\n",
      " [False]\n",
      " [False]\n",
      " [False]]\n"
     ]
    }
   ],
   "source": [
    ">>> import numpy as np\n",
    ">>> from numba import njit\n",
    ">>> from vectorbt.signals.nb import generate_between_nb\n",
    "\n",
    ">>> @njit\n",
    "... def choice_func_nb(col, from_i, to_i):\n",
    "...     return 1\n",
    ">>> a = np.asarray([True, False, False, True, False, False])[:, None]\n",
    "\n",
    ">>> print(generate_between_nb(a, choice_func_nb))"
   ]
  },
  {
   "cell_type": "code",
   "execution_count": null,
   "metadata": {},
   "outputs": [],
   "source": []
  },
  {
   "cell_type": "code",
   "execution_count": 5,
   "metadata": {},
   "outputs": [
    {
     "name": "stdout",
     "output_type": "stream",
     "text": [
      "[[ True  True  True]\n",
      " [False False False]\n",
      " [ True  True  True]\n",
      " [False False False]\n",
      " [ True  True  True]]\n",
      "[[False False False]\n",
      " [ True  True  True]\n",
      " [False False False]\n",
      " [ True  True  True]\n",
      " [False False False]]\n"
     ]
    }
   ],
   "source": [
    "import numpy as np\n",
    "from vectorbt.signals.nb import generate_iteratively_nb\n",
    "from numba import njit\n",
    "\n",
    "@njit\n",
    "def choice_func1_nb(col, from_i, to_i):\n",
    "    return from_i\n",
    "@njit\n",
    "def choice_func2_nb(col, from_i, to_i):\n",
    "    return from_i\n",
    "\n",
    "entries, exits = generate_iteratively_nb((5, 3), choice_func1_nb, choice_func2_nb)\n",
    "print(entries)\n",
    "print(exits)"
   ]
  },
  {
   "cell_type": "code",
   "execution_count": 5,
   "metadata": {},
   "outputs": [
    {
     "name": "stdout",
     "output_type": "stream",
     "text": [
      "[[False]\n",
      " [ True]\n",
      " [False]\n",
      " [False]\n",
      " [ True]]\n"
     ]
    }
   ],
   "source": [
    "import numpy as np\n",
    "from vectorbt.signals.nb import generate_random_after_nb\n",
    "\n",
    "a = np.asarray([True, False, True, False, False])[:, None]\n",
    "print(generate_random_after_nb(a, np.array([1]), seed=42))"
   ]
  },
  {
   "cell_type": "code",
   "execution_count": 7,
   "metadata": {},
   "outputs": [
    {
     "data": {
      "application/vnd.jupyter.widget-view+json": {
       "model_id": "979a58dbeb9a4782b5b4048dc649e424",
       "version_major": 2,
       "version_minor": 0
      },
      "text/plain": [
       "DefaultFigureWidget({\n",
       "    'data': [{'mode': 'lines',\n",
       "              'type': 'scatter',\n",
       "              'uid': '8a…"
      ]
     },
     "metadata": {},
     "output_type": "display_data"
    }
   ],
   "source": [
    "import pandas as pd\n",
    "import vectorbt as vbt\n",
    "import numpy as np\n",
    "\n",
    "sr = pd.Series(np.asarray([1., 2, 3, 4]))\n",
    "\n",
    "sr.vbt.timeseries.plot()"
   ]
  },
  {
   "cell_type": "code",
   "execution_count": 14,
   "metadata": {},
   "outputs": [
    {
     "ename": "AttributeError",
     "evalue": "module 'numpy' has no attribute 'boolean'",
     "output_type": "error",
     "traceback": [
      "\u001b[0;31m---------------------------------------------------------------------------\u001b[0m",
      "\u001b[0;31mAttributeError\u001b[0m                            Traceback (most recent call last)",
      "\u001b[0;32m<ipython-input-14-7ee409abd185>\u001b[0m in \u001b[0;36m<module>\u001b[0;34m\u001b[0m\n\u001b[0;32m----> 1\u001b[0;31m \u001b[0mnp\u001b[0m\u001b[0;34m.\u001b[0m\u001b[0mboolean\u001b[0m\u001b[0;34m\u001b[0m\u001b[0;34m\u001b[0m\u001b[0m\n\u001b[0m",
      "\u001b[0;32m~/miniconda3/lib/python3.7/site-packages/numpy/__init__.py\u001b[0m in \u001b[0;36m__getattr__\u001b[0;34m(attr)\u001b[0m\n\u001b[1;32m    218\u001b[0m             \u001b[0;32melse\u001b[0m\u001b[0;34m:\u001b[0m\u001b[0;34m\u001b[0m\u001b[0;34m\u001b[0m\u001b[0m\n\u001b[1;32m    219\u001b[0m                 raise AttributeError(\"module {!r} has no attribute \"\n\u001b[0;32m--> 220\u001b[0;31m                                      \"{!r}\".format(__name__, attr))\n\u001b[0m\u001b[1;32m    221\u001b[0m \u001b[0;34m\u001b[0m\u001b[0m\n\u001b[1;32m    222\u001b[0m         \u001b[0;32mdef\u001b[0m \u001b[0m__dir__\u001b[0m\u001b[0;34m(\u001b[0m\u001b[0;34m)\u001b[0m\u001b[0;34m:\u001b[0m\u001b[0;34m\u001b[0m\u001b[0;34m\u001b[0m\u001b[0m\n",
      "\u001b[0;31mAttributeError\u001b[0m: module 'numpy' has no attribute 'boolean'"
     ]
    }
   ],
   "source": [
    "np.boolean"
   ]
  },
  {
   "cell_type": "code",
   "execution_count": 12,
   "metadata": {},
   "outputs": [
    {
     "name": "stdout",
     "output_type": "stream",
     "text": [
      "[[False False]\n",
      " [False False]\n",
      " [False False]\n",
      " [ True False]\n",
      " [False  True]]\n"
     ]
    }
   ],
   "source": [
    "import numpy as np\n",
    "from vectorbt.utils.reshape_fns import broadcast_to_array_of\n",
    "from vectorbt.signals.nb import stop_loss_exits_nb\n",
    "\n",
    "entries = np.asarray([False, True, False, False, False])[:, None]\n",
    "ts = np.asarray([1, 2, 3, 2, 1])[:, None]\n",
    "stops = broadcast_to_array_of([0.1, 0.5], ts)\n",
    "\n",
    "print(stop_loss_exits_nb(entries, ts, stops, True))"
   ]
  },
  {
   "cell_type": "code",
   "execution_count": 5,
   "metadata": {},
   "outputs": [
    {
     "data": {
      "text/plain": [
       "array([], dtype=float64)"
      ]
     },
     "execution_count": 5,
     "metadata": {},
     "output_type": "execute_result"
    }
   ],
   "source": [
    "10 + np.empty(0)[:1]"
   ]
  },
  {
   "cell_type": "code",
   "execution_count": 7,
   "metadata": {},
   "outputs": [
    {
     "ename": "IndexError",
     "evalue": "index 0 is out of bounds for axis 0 with size 0",
     "output_type": "error",
     "traceback": [
      "\u001b[0;31m---------------------------------------------------------------------------\u001b[0m",
      "\u001b[0;31mIndexError\u001b[0m                                Traceback (most recent call last)",
      "\u001b[0;32m<ipython-input-7-25f197a3de50>\u001b[0m in \u001b[0;36m<module>\u001b[0;34m\u001b[0m\n\u001b[0;32m----> 1\u001b[0;31m \u001b[0mnp\u001b[0m\u001b[0;34m.\u001b[0m\u001b[0mflatnonzero\u001b[0m\u001b[0;34m(\u001b[0m\u001b[0;34m[\u001b[0m\u001b[0;32mFalse\u001b[0m\u001b[0;34m,\u001b[0m \u001b[0;32mFalse\u001b[0m\u001b[0;34m]\u001b[0m\u001b[0;34m)\u001b[0m\u001b[0;34m[\u001b[0m\u001b[0;36m0\u001b[0m\u001b[0;34m]\u001b[0m\u001b[0;34m\u001b[0m\u001b[0;34m\u001b[0m\u001b[0m\n\u001b[0m",
      "\u001b[0;31mIndexError\u001b[0m: index 0 is out of bounds for axis 0 with size 0"
     ]
    }
   ],
   "source": [
    "np.flatnonzero([False, False])[0]"
   ]
  },
  {
   "cell_type": "code",
   "execution_count": 7,
   "metadata": {},
   "outputs": [],
   "source": [
    "big_a = np.random.uniform(size=(10000, 10000))"
   ]
  },
  {
   "cell_type": "code",
   "execution_count": 8,
   "metadata": {},
   "outputs": [
    {
     "name": "stdout",
     "output_type": "stream",
     "text": [
      "27 ms ± 3.86 ms per loop (mean ± std. dev. of 7 runs, 10 loops each)\n"
     ]
    }
   ],
   "source": [
    "%timeit big_a[np.arange(1000), :]"
   ]
  },
  {
   "cell_type": "code",
   "execution_count": 9,
   "metadata": {},
   "outputs": [
    {
     "name": "stdout",
     "output_type": "stream",
     "text": [
      "386 ns ± 10.9 ns per loop (mean ± std. dev. of 7 runs, 1000000 loops each)\n"
     ]
    }
   ],
   "source": [
    "%timeit big_a[0:1000, :]"
   ]
  },
  {
   "cell_type": "code",
   "execution_count": null,
   "metadata": {},
   "outputs": [],
   "source": []
  }
 ],
 "metadata": {
  "kernelspec": {
   "display_name": "Python 3",
   "language": "python",
   "name": "python3"
  },
  "language_info": {
   "codemirror_mode": {
    "name": "ipython",
    "version": 3
   },
   "file_extension": ".py",
   "mimetype": "text/x-python",
   "name": "python",
   "nbconvert_exporter": "python",
   "pygments_lexer": "ipython3",
   "version": "3.7.3"
  },
  "widgets": {
   "application/vnd.jupyter.widget-state+json": {
    "state": {},
    "version_major": 2,
    "version_minor": 0
   }
  }
 },
 "nbformat": 4,
 "nbformat_minor": 4
}
