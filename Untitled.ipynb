{
 "cells": [
  {
   "cell_type": "code",
   "execution_count": 8,
   "metadata": {},
   "outputs": [
    {
     "name": "stdout",
     "output_type": "stream",
     "text": [
      "   col  idx        size  price      fees  side\n",
      "0    0    4  104.147735  5.005  1.521781     0\n",
      "1    1    0  198.602398  1.001  1.199000     0\n",
      "2    1    1  198.602398  1.998  1.396808     1\n",
      "3    1    2  131.207583  3.003  1.394411     0\n",
      "4    1    3  131.207583  3.996  1.524306     1\n",
      "5    2    0   98.802198  1.001  1.099000     0\n",
      "6    2    1   98.802198  1.998  1.197407     1\n",
      "7    2    2   64.939785  3.003  1.195209     0\n",
      "8    2    3   64.939785  3.996  1.259499     1\n",
      "9    2    4   51.345183  5.005  1.257240     0\n",
      "[[1 0 0]\n",
      " [1 0 0]\n",
      " [1 0 0]\n",
      " [0 1 0]\n",
      " [0 1 0]]\n",
      "[[  0.         198.6023976   98.8021978 ]\n",
      " [  0.           0.           0.        ]\n",
      " [  0.         131.2075831   64.93978523]\n",
      " [  0.           0.           0.        ]\n",
      " [104.14773534   0.          51.34518332]]\n",
      "[[  0.           0.           0.        ]\n",
      " [395.41078282 395.41078282 196.20938442]\n",
      " [  0.           0.           0.        ]\n",
      " [  0.         522.78119655 258.23988238]\n",
      " [  0.           0.           0.        ]]\n"
     ]
    }
   ],
   "source": [
    ">>> import numpy as np\n",
    ">>> import pandas as pd\n",
    ">>> from numba import njit\n",
    ">>> from vectorbt.portfolio.nb import simulate_nb, empty_row_prep_nb, build_call_order\n",
    ">>> from vectorbt.portfolio.enums import Order, SizeType\n",
    "\n",
    ">>> price = np.array([1., 2., 3., 4., 5.])\n",
    ">>> n_cols = 3\n",
    ">>> target_shape = (price.shape[0], n_cols)\n",
    ">>> group_counts = np.array([2, 1])  # two groups\n",
    ">>> init_cash = np.array([200., 100.])  # per group if cash sharing\n",
    ">>> cash_sharing = True\n",
    ">>> call_order = build_call_order(target_shape, group_counts)\n",
    ">>> active_mask = np.copy(np.broadcast_to(True, target_shape))\n",
    ">>> size = np.inf\n",
    ">>> fees = 0.001\n",
    ">>> fixed_fees = 1.\n",
    ">>> slippage = 0.001\n",
    ">>> seed = 42\n",
    "\n",
    ">>> @njit\n",
    "... def row_prep_func_nb(rc, seed):\n",
    "...     return (seed + rc.i, size if rc.i % 2 == 0 else -size,)\n",
    "\n",
    ">>> @njit\n",
    "... def call_order_func_nb(rc, row_seed, row_size):\n",
    "...     new_call_order = rc.call_order[rc.i, rc.from_col:rc.to_col]\n",
    "...     np.random.seed(row_seed)\n",
    "...     np.random.shuffle(new_call_order)\n",
    "...     return new_call_order\n",
    "\n",
    ">>> @njit\n",
    "... def order_func_nb(oc, row_seed, row_size):\n",
    "...     return Order(\n",
    "...         row_size,\n",
    "...         SizeType.Cash,\n",
    "...         price[oc.i],\n",
    "...         fees,\n",
    "...         fixed_fees,\n",
    "...         slippage\n",
    "...     )\n",
    "\n",
    ">>> order_records, cash, shares = simulate_nb(\n",
    "...     target_shape, group_counts, call_order, active_mask, init_cash, cash_sharing, \n",
    "...     row_prep_func_nb, (seed,), call_order_func_nb, (), order_func_nb)\n",
    "\n",
    ">>> print(pd.DataFrame.from_records(order_records))  # sorted\n",
    ">>> print(call_order)\n",
    ">>> print(shares)\n",
    ">>> print(cash)"
   ]
  },
  {
   "cell_type": "code",
   "execution_count": 1,
   "metadata": {},
   "outputs": [],
   "source": [
    "import numpy as np\n",
    "import pandas as pd\n",
    "from numba import njit\n",
    "import vectorbt as vbt"
   ]
  },
  {
   "cell_type": "code",
   "execution_count": null,
   "metadata": {},
   "outputs": [],
   "source": [
    "@njit(cache=True)\n",
    "def is_grouped_nb(group_counts):\n",
    "    \"\"\"Check if columns are grouped, that is, more than one column per group.\"\"\"\n",
    "    return np.any(group_counts > 1)\n",
    "\n",
    "\n",
    "\n",
    "     \n",
    "\n",
    "print(build_call_order((5, 10), np.array([1, 2, 3, 4]), mode='default'))\n",
    "print(build_call_order((5, 10), np.array([1, 2, 3, 4]), mode='reversed'))\n",
    "print(build_call_order((5, 10), np.array([1, 2, 3, 4]), mode='random'))\n",
    "print(build_call_order((5, 10), np.array([1, 2, 3, 4]), mode='random'))\n",
    "print(build_call_order((5, 10), np.array([1, 2, 3, 4]), mode='random', seed=42))\n",
    "print(build_call_order((5, 10), np.array([1, 2, 3, 4]), mode='random', seed=42))"
   ]
  },
  {
   "cell_type": "code",
   "execution_count": 2,
   "metadata": {},
   "outputs": [
    {
     "name": "stdout",
     "output_type": "stream",
     "text": [
      "[[0 0 1 0 1 2 0 1 2 3]\n",
      " [0 0 1 0 1 2 0 1 2 3]\n",
      " [0 0 1 0 1 2 0 1 2 3]\n",
      " [0 0 1 0 1 2 0 1 2 3]\n",
      " [0 0 1 0 1 2 0 1 2 3]]\n",
      "[[0 1 0 2 1 0 3 2 1 0]\n",
      " [0 1 0 2 1 0 3 2 1 0]\n",
      " [0 1 0 2 1 0 3 2 1 0]\n",
      " [0 1 0 2 1 0 3 2 1 0]\n",
      " [0 1 0 2 1 0 3 2 1 0]]\n",
      "[[0 0 1 2 0 1 3 0 2 1]\n",
      " [0 1 0 1 0 2 3 1 2 0]\n",
      " [0 0 1 1 0 2 2 3 1 0]\n",
      " [0 0 1 2 0 1 2 3 1 0]\n",
      " [0 1 0 1 2 0 0 1 2 3]]\n",
      "[[0 0 1 2 0 1 0 3 2 1]\n",
      " [0 1 0 2 1 0 2 0 3 1]\n",
      " [0 1 0 2 0 1 0 3 1 2]\n",
      " [0 0 1 0 1 2 1 2 3 0]\n",
      " [0 0 1 1 2 0 1 2 0 3]]\n",
      "[[0 0 1 2 0 1 0 1 2 3]\n",
      " [0 1 0 0 2 1 2 1 0 3]\n",
      " [0 1 0 2 0 1 2 3 0 1]\n",
      " [0 1 0 2 0 1 2 0 3 1]\n",
      " [0 1 0 2 0 1 1 0 2 3]]\n",
      "[[0 0 1 2 0 1 0 1 2 3]\n",
      " [0 1 0 0 2 1 2 1 0 3]\n",
      " [0 1 0 2 0 1 2 3 0 1]\n",
      " [0 1 0 2 0 1 2 0 3 1]\n",
      " [0 1 0 2 0 1 1 0 2 3]]\n"
     ]
    }
   ],
   "source": [
    "from collections import namedtuple\n",
    "\n",
    "CallSeqType = namedtuple('CallSeqType', [\n",
    "    'Default',\n",
    "    'Reversed',\n",
    "    'Random'\n",
    "])(*range(3))\n",
    "\n",
    "@njit(cache=True)\n",
    "def is_grouped_nb(group_counts):\n",
    "    \"\"\"Check if columns are grouped, that is, more than one column per group.\"\"\"\n",
    "    return np.any(group_counts > 1)\n",
    "\n",
    "@njit\n",
    "def shuffle_call_seq_nb(call_seq, group_counts, seed=None):\n",
    "    \"\"\"Shuffle the call sequence array.\"\"\"\n",
    "    from_col = 0\n",
    "    s = 0\n",
    "    for group in range(len(group_counts)):\n",
    "        to_col = from_col + group_counts[group]\n",
    "        n_cols = to_col - from_col\n",
    "        for i in range(call_seq.shape[0]):\n",
    "            if seed is not None:\n",
    "                np.random.seed(seed + s)\n",
    "                s += 1\n",
    "            np.random.shuffle(call_seq[i, from_col:to_col])\n",
    "        from_col = to_col\n",
    "\n",
    "@njit\n",
    "def build_call_seq_nb(target_shape, group_counts, call_seq_type=CallSeqType.Default, seed=None):\n",
    "    \"\"\"Build a new call sequence array.\"\"\"\n",
    "    if call_seq_type == CallSeqType.Reversed:\n",
    "        out = np.full(target_shape[1], 1, dtype=np.int_)\n",
    "        out[np.cumsum(group_counts)[1:] - group_counts[1:] - 1] -= group_counts[1:]\n",
    "        out = np.cumsum(out[::-1])[::-1] - 1\n",
    "        out = out * np.ones((target_shape[0], 1), dtype=np.int_)\n",
    "        return out\n",
    "    out = np.full(target_shape[1], 1, dtype=np.int_)\n",
    "    out[np.cumsum(group_counts)[:-1]] -= group_counts[:-1]\n",
    "    out = np.cumsum(out) - 1\n",
    "    out = out * np.ones((target_shape[0], 1), dtype=np.int_)\n",
    "    if call_seq_type == CallSeqType.Random:\n",
    "        shuffle_call_seq_nb(out, group_counts, seed=seed)\n",
    "    return out\n",
    "\n",
    "\n",
    "def require_call_seq(call_seq):\n",
    "    \"\"\"Force the call sequence array to pass our requirements.\"\"\"\n",
    "    return np.require(call_seq, dtype=np.int_, requirements=['A', 'O', 'W', 'F'])\n",
    "\n",
    "\n",
    "def build_call_seq(target_shape, group_counts, call_seq_type=CallSeqType.Default, seed=None):\n",
    "    \"\"\"Not compiled but faster version of `build_call_seq_nb`.\"\"\"\n",
    "    call_seq = np.full(target_shape[1], 1, dtype=np.int_)\n",
    "    if call_seq_type == CallSeqType.Reversed:\n",
    "        call_seq[np.cumsum(group_counts)[1:] - group_counts[1:] - 1] -= group_counts[1:]\n",
    "        call_seq = np.cumsum(call_seq[::-1])[::-1] - 1\n",
    "    else:\n",
    "        call_seq[np.cumsum(group_counts[:-1])] -= group_counts[:-1]\n",
    "        call_seq = np.cumsum(call_seq) - 1\n",
    "    call_seq = np.broadcast_to(call_seq, target_shape)\n",
    "    if call_seq_type == CallSeqType.Random:\n",
    "        call_seq = require_call_seq(call_seq)\n",
    "        shuffle_call_seq_nb(call_seq, group_counts, seed=seed)\n",
    "    return require_call_seq(call_seq)\n",
    "     \n",
    "\n",
    "print(build_call_seq_nb((5, 10), np.array([1, 2, 3, 4]), 0))\n",
    "print(build_call_seq_nb((5, 10), np.array([1, 2, 3, 4]), 1))\n",
    "print(build_call_seq_nb((5, 10), np.array([1, 2, 3, 4]), 2))\n",
    "print(build_call_seq_nb((5, 10), np.array([1, 2, 3, 4]), 2))\n",
    "print(build_call_seq_nb((5, 10), np.array([1, 2, 3, 4]), 2, seed=42))\n",
    "print(build_call_seq_nb((5, 10), np.array([1, 2, 3, 4]), 2, seed=42))"
   ]
  },
  {
   "cell_type": "code",
   "execution_count": 41,
   "metadata": {},
   "outputs": [],
   "source": [
    "a = np.full(500, 2)"
   ]
  },
  {
   "cell_type": "code",
   "execution_count": 80,
   "metadata": {},
   "outputs": [
    {
     "name": "stdout",
     "output_type": "stream",
     "text": [
      "1.78 ms ± 35.2 µs per loop (mean ± std. dev. of 7 runs, 100 loops each)\n",
      "1.98 ms ± 218 µs per loop (mean ± std. dev. of 7 runs, 1000 loops each)\n"
     ]
    }
   ],
   "source": [
    "%timeit build_call_seq_nb((1000, 1000), a, mode='default')\n",
    "%timeit build_call_seq_nb((1000, 1000), a, mode='reversed')"
   ]
  },
  {
   "cell_type": "code",
   "execution_count": 78,
   "metadata": {},
   "outputs": [
    {
     "name": "stdout",
     "output_type": "stream",
     "text": [
      "14.4 ms ± 135 µs per loop (mean ± std. dev. of 7 runs, 100 loops each)\n"
     ]
    }
   ],
   "source": [
    "%timeit build_call_seq_nb((1000, 1000), a, mode='random')"
   ]
  },
  {
   "cell_type": "code",
   "execution_count": 6,
   "metadata": {},
   "outputs": [
    {
     "name": "stdout",
     "output_type": "stream",
     "text": [
      "   col  idx       size  price      fees  side\n",
      "0    0    0  50.000000  1.001  1.050050     0\n",
      "1    0    1  48.303295  2.002  1.096703     0\n",
      "2    1    0  50.000000  1.001  1.050050     0\n",
      "3    2    0  50.000000  1.001  1.050050     0\n",
      "4    2    1  23.902147  2.002  1.047852     0\n",
      "[[148.89995  97.7999   48.89995]\n",
      " [  0.        0.        0.     ]\n",
      " [  0.        0.        0.     ]\n",
      " [  0.        0.        0.     ]\n",
      " [  0.        0.        0.     ]]\n",
      "[[50.         50.         50.        ]\n",
      " [98.30329511 50.         73.9021468 ]\n",
      " [98.30329511 50.         73.9021468 ]\n",
      " [98.30329511 50.         73.9021468 ]\n",
      " [98.30329511 50.         73.9021468 ]]\n"
     ]
    }
   ],
   "source": [
    ">>> import numpy as np\n",
    ">>> import pandas as pd\n",
    ">>> from numba import njit\n",
    ">>> from vectorbt.portfolio.nb import simulate_nb, empty_row_prep_nb, build_col_order\n",
    ">>> from vectorbt.portfolio.enums import Order, SizeType\n",
    "\n",
    ">>> price = np.array([1., 2., 3., 4., 5.])\n",
    ">>> target_shape = (5, 3)\n",
    ">>> group_counts = np.array([2, 1])  # two groups\n",
    ">>> init_cash = np.array([200., 100.])  # per group if cash sharing\n",
    ">>> cash_sharing = True\n",
    ">>> col_order = build_col_order(target_shape)\n",
    ">>> size = 50.\n",
    ">>> fees = 0.001\n",
    ">>> fixed_fees = 1.\n",
    ">>> slippage = 0.001\n",
    "\n",
    ">>> @njit\n",
    "... def order_func_nb(oc):\n",
    "...     return Order(\n",
    "...         size,\n",
    "...         SizeType.Shares,\n",
    "...         price[oc.i],\n",
    "...         fees,\n",
    "...         fixed_fees,\n",
    "...         slippage\n",
    "...     )\n",
    "\n",
    ">>> order_records, cash, shares = simulate_nb(\n",
    "...     target_shape, group_counts, init_cash, cash_sharing, col_order, \n",
    "...     empty_row_prep_nb, (), order_func_nb, ())\n",
    "\n",
    ">>> print(pd.DataFrame.from_records(order_records))\n",
    ">>> print(cash)\n",
    ">>> print(shares)"
   ]
  },
  {
   "cell_type": "code",
   "execution_count": 19,
   "metadata": {},
   "outputs": [],
   "source": [
    "def build_col_order(target_shape):\n",
    "    \"\"\"Python function to build column order array.\"\"\"\n",
    "    return np.asfortranarray(np.broadcast_to(np.arange(target_shape[1]), target_shape))\n",
    "\n",
    "\n",
    "@njit(cache=True)\n",
    "def build_col_order_nb(target_shape):\n",
    "    \"\"\"Build column order array.\"\"\"\n",
    "    return np.asfortranarray(np.arange(target_shape[1]) * np.full((target_shape[0], 1), 1))"
   ]
  },
  {
   "cell_type": "code",
   "execution_count": 20,
   "metadata": {},
   "outputs": [
    {
     "name": "stdout",
     "output_type": "stream",
     "text": [
      "1.8 ms ± 95.4 µs per loop (mean ± std. dev. of 7 runs, 1000 loops each)\n"
     ]
    }
   ],
   "source": [
    "%timeit build_col_order((1000, 1000))"
   ]
  },
  {
   "cell_type": "code",
   "execution_count": 22,
   "metadata": {},
   "outputs": [
    {
     "name": "stdout",
     "output_type": "stream",
     "text": [
      "6.07 ms ± 101 µs per loop (mean ± std. dev. of 7 runs, 100 loops each)\n"
     ]
    }
   ],
   "source": [
    "%timeit build_col_order_nb((1000, 1000))"
   ]
  },
  {
   "cell_type": "code",
   "execution_count": 25,
   "metadata": {},
   "outputs": [
    {
     "name": "stdout",
     "output_type": "stream",
     "text": [
      "[[-10.1 -40.4 -10.1]\n",
      " [ -0.   -0.   -0. ]\n",
      " [ -0.   -0.   -0. ]\n",
      " [ 39.6   9.9   9.9]]\n",
      "[[189.9 149.5 139.4]\n",
      " [139.4 139.4 139.4]\n",
      " [139.4 139.4 139.4]\n",
      " [179.  188.9 198.8]]\n",
      "[[10. 10. 10.]\n",
      " [10. 10. 10.]\n",
      " [10. 10. 10.]\n",
      " [ 0.  0.  0.]]\n"
     ]
    }
   ],
   "source": [
    "fees = 0.01\n",
    "price = np.array([\n",
    "    [1., 4., 1.],\n",
    "    [2., 3., 1.],\n",
    "    [3., 2., 0.],\n",
    "    [4., 1., 1.]\n",
    "])\n",
    "shares_flow = np.array([\n",
    "    [10., 10., 10.],\n",
    "    [0., 0., 0.],\n",
    "    [0., 0., 0.],\n",
    "    [-10., -10., -10.]\n",
    "])\n",
    "cash_flow = -price * shares_flow\n",
    "cash_flow[cash_flow > 0]  = cash_flow[cash_flow > 0] * (1 - fees)\n",
    "cash_flow[cash_flow < 0]  = cash_flow[cash_flow < 0] * (1 + fees)\n",
    "init_cash = 200\n",
    "init_shares = 0\n",
    "cash = np.reshape(np.cumsum(cash_flow) + init_cash, cash_flow.shape)\n",
    "shares = np.cumsum(shares_flow, axis=0)\n",
    "print(cash_flow)\n",
    "print(cash)\n",
    "print(shares)"
   ]
  },
  {
   "cell_type": "code",
   "execution_count": 155,
   "metadata": {},
   "outputs": [],
   "source": [
    "group_counts_err = \"group_counts has incorrect total number of columns\"\n",
    "\n",
    "@njit\n",
    "def ungrouped_portfolio_value_nb(price, cash, shares, group_counts):\n",
    "    if np.sum(group_counts) != price.shape[1]:\n",
    "        raise ValueError(group_counts_err)\n",
    "    result = np.empty(price.shape, dtype=np.float_)\n",
    "    from_col = 0\n",
    "    for gc in range(len(group_counts)):\n",
    "        to_col = from_col + group_counts[gc]\n",
    "        n_cols = to_col - from_col\n",
    "        price_flat = price[:, from_col:to_col].flatten()\n",
    "        cash_flat = cash[:, from_col:to_col].flatten()\n",
    "        shares_flat = shares[:, from_col:to_col].flatten()\n",
    "        holding_value = 0.\n",
    "        \n",
    "        for j in range(price_flat.shape[0]):\n",
    "            if j >= n_cols:\n",
    "                prev_j = j - n_cols\n",
    "                holding_value -= shares_flat[prev_j] * price_flat[prev_j]\n",
    "            holding_value += shares_flat[j] * price_flat[j]\n",
    "            result[j // n_cols, from_col + j % n_cols] = cash_flat[j] + holding_value\n",
    "            \n",
    "        from_col = to_col\n",
    "    return result"
   ]
  },
  {
   "cell_type": "code",
   "execution_count": 161,
   "metadata": {},
   "outputs": [],
   "source": [
    "@njit(cache=True)\n",
    "def ungrouped_iter_returns_nb(iter_value, init_value, group_counts):\n",
    "    check_group_counts(iter_value.shape[1], group_counts)\n",
    "    result = np.empty(iter_value.shape, dtype=np.float_)\n",
    "    from_col = 0\n",
    "    for gc in range(len(group_counts)):\n",
    "        to_col = from_col + group_counts[gc]\n",
    "        n_cols = to_col - from_col\n",
    "        iter_value_flat = iter_value[:, from_col:to_col].flatten()\n",
    "        iter_returns_flat = np.empty(iter_value_flat.shape, dtype=np.float_)\n",
    "        iter_returns_flat[0] = (iter_value_flat[0] - init_value[gc]) / init_value[gc]\n",
    "        iter_returns_flat[1:] = (iter_value_flat[1:] - iter_value_flat[:-1]) / iter_value_flat[:-1]\n",
    "        result[:, from_col:to_col] = iter_returns_flat.reshape((iter_value.shape[0], n_cols))\n",
    "        from_col = to_col\n",
    "    return result"
   ]
  },
  {
   "cell_type": "code",
   "execution_count": 162,
   "metadata": {},
   "outputs": [
    {
     "ename": "TypeError",
     "evalue": "too many arguments: expected 3, got 4",
     "output_type": "error",
     "traceback": [
      "\u001b[0;31m---------------------------------------------------------------------------\u001b[0m",
      "\u001b[0;31mTypeError\u001b[0m                                 Traceback (most recent call last)",
      "\u001b[0;32m<ipython-input-162-c4c758a511d8>\u001b[0m in \u001b[0;36m<module>\u001b[0;34m\u001b[0m\n\u001b[0;32m----> 1\u001b[0;31m \u001b[0mungrouped_iter_returns_nb\u001b[0m\u001b[0;34m(\u001b[0m\u001b[0mprice\u001b[0m\u001b[0;34m,\u001b[0m \u001b[0mcash\u001b[0m\u001b[0;34m,\u001b[0m \u001b[0mshares\u001b[0m\u001b[0;34m,\u001b[0m \u001b[0mnp\u001b[0m\u001b[0;34m.\u001b[0m\u001b[0marray\u001b[0m\u001b[0;34m(\u001b[0m\u001b[0;34m[\u001b[0m\u001b[0;36m3\u001b[0m\u001b[0;34m]\u001b[0m\u001b[0;34m)\u001b[0m\u001b[0;34m)\u001b[0m\u001b[0;34m\u001b[0m\u001b[0;34m\u001b[0m\u001b[0m\n\u001b[0m",
      "\u001b[0;31mTypeError\u001b[0m: too many arguments: expected 3, got 4"
     ]
    }
   ],
   "source": [
    "ungrouped_iter_returns_nb(price, cash, shares, np.array([3]))"
   ]
  },
  {
   "cell_type": "code",
   "execution_count": 163,
   "metadata": {},
   "outputs": [],
   "source": [
    "def grouped_holding_value_nb(price, shares, group_counts):\n",
    "    if np.sum(group_counts) != price.shape[1]:\n",
    "        raise ValueError(group_counts_err)\n",
    "    result = np.empty((price.shape[0], len(group_counts)), dtype=np.float_)\n",
    "    from_col = 0\n",
    "    holding_value = shares * price\n",
    "    for gc in range(len(group_counts)):\n",
    "        to_col = from_col + group_counts[gc]\n",
    "        group_result = np.sum(holding_value[:, from_col:to_col], axis=1)\n",
    "        result[:, gc] = group_result\n",
    "        from_col = to_col\n",
    "    return result"
   ]
  },
  {
   "cell_type": "code",
   "execution_count": 164,
   "metadata": {},
   "outputs": [
    {
     "data": {
      "text/plain": [
       "array([[60.],\n",
       "       [60.],\n",
       "       [50.],\n",
       "       [ 0.]])"
      ]
     },
     "execution_count": 164,
     "metadata": {},
     "output_type": "execute_result"
    }
   ],
   "source": [
    "grouped_holding_value_nb(price, shares, np.array([3]))"
   ]
  },
  {
   "cell_type": "code",
   "execution_count": 165,
   "metadata": {},
   "outputs": [
    {
     "name": "stdout",
     "output_type": "stream",
     "text": [
      "21.6 ms ± 134 µs per loop (mean ± std. dev. of 7 runs, 10 loops each)\n"
     ]
    }
   ],
   "source": [
    "%timeit grouped_holding_value_nb(big_price, big_shares, np.full(1000, 1))"
   ]
  },
  {
   "cell_type": "code",
   "execution_count": 109,
   "metadata": {},
   "outputs": [],
   "source": [
    "@njit\n",
    "def grouped_has_shares_nb(shares, group_counts):\n",
    "    \"\"\"Return whether the group holds any shares.\"\"\"\n",
    "    if np.sum(group_counts) != shares.shape[1]:\n",
    "        raise ValueError(group_counts_err)\n",
    "    result = np.empty((shares.shape[0], len(group_counts)), dtype=np.bool_)\n",
    "    from_col = 0\n",
    "    for gc in range(len(group_counts)):\n",
    "        to_col = from_col + group_counts[gc]\n",
    "        n_cols = to_col - from_col\n",
    "        result[:, gc] = np.sum(shares[:, from_col:to_col], axis=1) > 0\n",
    "        from_col = to_col\n",
    "    return result"
   ]
  },
  {
   "cell_type": "code",
   "execution_count": 111,
   "metadata": {},
   "outputs": [
    {
     "data": {
      "text/plain": [
       "array([[ True],\n",
       "       [ True],\n",
       "       [ True],\n",
       "       [False]])"
      ]
     },
     "execution_count": 111,
     "metadata": {},
     "output_type": "execute_result"
    }
   ],
   "source": [
    "grouped_has_shares_nb(shares, np.array([3]))"
   ]
  },
  {
   "cell_type": "code",
   "execution_count": 112,
   "metadata": {},
   "outputs": [
    {
     "name": "stdout",
     "output_type": "stream",
     "text": [
      "8.61 ms ± 157 µs per loop (mean ± std. dev. of 7 runs, 100 loops each)\n"
     ]
    }
   ],
   "source": [
    "%timeit grouped_shares_sum_nb(big_shares, np.full(1000, 1))"
   ]
  },
  {
   "cell_type": "code",
   "execution_count": 61,
   "metadata": {},
   "outputs": [],
   "source": [
    "@njit\n",
    "def cash_flow_grouped_nb(cash, init_cash, group_counts):\n",
    "    if np.sum(group_counts) != cash.shape[1]:\n",
    "        raise ValueError(group_counts_err)\n",
    "    result = np.empty(cash.shape, dtype=np.float_)\n",
    "    from_col = 0\n",
    "    for gc in range(len(group_counts)):\n",
    "        to_col = from_col + group_counts[gc]\n",
    "        n_cols = to_col - from_col\n",
    "        cash_flat = cash[:, from_col:to_col].flatten()\n",
    "        cash_flow_flat = np.empty(cash_flat.shape, dtype=np.float_)\n",
    "        cash_flow_flat[0] = cash_flat[0] - init_cash[gc]\n",
    "        cash_flow_flat[1:] = cash_flat[1:] - cash_flat[:-1]\n",
    "        result[:, from_col:to_col] = np.reshape(cash_flow_flat, (cash.shape[0], n_cols))\n",
    "        from_col = to_col\n",
    "    return result"
   ]
  },
  {
   "cell_type": "code",
   "execution_count": 62,
   "metadata": {},
   "outputs": [
    {
     "data": {
      "text/plain": [
       "array([[-10.1, -40.4, -10.1],\n",
       "       [  0. ,   0. ,   0. ],\n",
       "       [  0. ,   0. ,   0. ],\n",
       "       [ 39.6,   9.9,   9.9]])"
      ]
     },
     "execution_count": 62,
     "metadata": {},
     "output_type": "execute_result"
    }
   ],
   "source": [
    "cash_flow_grouped_nb(cash, np.array([init_cash]), np.array([3]))"
   ]
  },
  {
   "cell_type": "code",
   "execution_count": 63,
   "metadata": {},
   "outputs": [
    {
     "name": "stdout",
     "output_type": "stream",
     "text": [
      "19.2 ms ± 630 µs per loop (mean ± std. dev. of 7 runs, 10 loops each)\n"
     ]
    }
   ],
   "source": [
    "%timeit cash_flow_grouped_nb(big_cash, np.full(1000, init_cash), np.full(1000, 1))"
   ]
  },
  {
   "cell_type": "code",
   "execution_count": 115,
   "metadata": {},
   "outputs": [],
   "source": [
    "from numba import njit\n",
    "\n",
    "@njit\n",
    "def get_running_equity(cash, shares, price):\n",
    "    running_equity = np.empty(cash.shape, dtype=np.float_)\n",
    "    cash_flat = cash.flatten()\n",
    "    shares_flat = shares.flatten()\n",
    "    price_flat = price.flatten()\n",
    "    holding_value = 0.\n",
    "    for i in range(price_flat.shape[0]):\n",
    "        if i >= price.shape[1]:\n",
    "            prev_i = i - price.shape[1]\n",
    "            holding_value -= shares_flat[prev_i] * price_flat[prev_i]\n",
    "        holding_value += shares_flat[i] * price_flat[i]\n",
    "        running_equity[i // price.shape[1], i % price.shape[1]] = cash_flat[i] + holding_value\n",
    "    return running_equity\n",
    "\n",
    "@njit\n",
    "def get_running_equity_diff(running_equity, price, init_cash, init_shares):\n",
    "    running_equity_diff = np.empty(cash.shape, dtype=np.float_)\n",
    "    running_equity_flat = running_equity.flatten()\n",
    "    price_flat = price.flatten()\n",
    "    for i in range(price_flat.shape[0]):\n",
    "        if i == 0:\n",
    "            prev_cash = init_cash\n",
    "            prev_shares = init_shares\n",
    "            prev_equity = prev_cash + prev_shares * price_flat[0]\n",
    "        else:\n",
    "            prev_equity = running_equity_flat[i - 1]\n",
    "        curr_equity = running_equity_flat[i]\n",
    "        running_equity_diff[i // price.shape[1], i % price.shape[1]] = curr_equity - prev_equity\n",
    "    return running_equity_diff\n",
    "\n",
    "@njit\n",
    "def get_running_returns(running_equity, price, init_cash, init_shares):\n",
    "    running_returns = np.empty(cash.shape, dtype=np.float_)\n",
    "    running_equity_flat = running_equity.flatten()\n",
    "    price_flat = price.flatten()\n",
    "    for i in range(price_flat.shape[0]):\n",
    "        if i == 0:\n",
    "            prev_cash = init_cash\n",
    "            prev_shares = init_shares\n",
    "            prev_equity = prev_cash + prev_shares * price_flat[0]\n",
    "        else:\n",
    "            prev_equity = running_equity_flat[i - 1]\n",
    "        curr_equity = running_equity_flat[i]\n",
    "        running_returns[i // price.shape[1], i % price.shape[1]] = (curr_equity - prev_equity) / prev_equity\n",
    "    return running_returns\n",
    "\n",
    "def get_cash_flow(cash, init_cash):\n",
    "    cash_flat = cash.flatten()\n",
    "    cash_flow_flat = np.empty(cash_flat.shape, dtype=np.float_)\n",
    "    cash_flow_flat[0] = cash_flat[0] - init_cash\n",
    "    cash_flow_flat[1:] = cash_flat[1:] - cash_flat[:-1]\n",
    "    return np.reshape(cash_flow_flat, cash.shape)\n",
    "\n",
    "def get_shares_flow(shares, init_shares):\n",
    "    shares_flow = np.empty(cash.shape, dtype=np.float_)\n",
    "    shares_flow[0, :] = shares[0, :] - init_shares\n",
    "    shares_flow[1:, :] = shares[1:, :] - shares[:-1, :]\n",
    "    return shares_flow\n",
    "\n",
    "def get_holding_value_flow(price, shares, init_shares):\n",
    "    holding_value_flow = np.empty(price.shape, dtype=np.float_)\n",
    "    holding_value_flow[0, :] = price[0, :] * (shares[0, :] - init_shares)\n",
    "    holding_value_flow[1:, :] = price[1:, :] * shares[1:, :] - price[:-1, :] * shares[:-1, :]\n",
    "    return holding_value_flow\n",
    "\n",
    "def get_prev_holding_value(price, shares, init_shares):\n",
    "    prev_holding_value = np.empty(price.shape, dtype=np.float_)\n",
    "    prev_holding_value[0, :] = price[0, :] * init_shares\n",
    "    prev_holding_value[1:, :] = price[:-1, :] * shares[:-1, :]\n",
    "    return prev_holding_value\n",
    "\n",
    "def get_prev_holding_value_now(price, shares, init_shares):\n",
    "    prev_holding_value_now = np.empty(price.shape, dtype=np.float_)\n",
    "    prev_holding_value_now[0, :] = init_shares\n",
    "    prev_holding_value_now[1:, :] = shares[:-1, :]\n",
    "    return prev_holding_value_now * price"
   ]
  },
  {
   "cell_type": "code",
   "execution_count": 116,
   "metadata": {},
   "outputs": [
    {
     "name": "stdout",
     "output_type": "stream",
     "text": [
      "[[189.9 149.5 139.4]\n",
      " [139.4 139.4 139.4]\n",
      " [139.4 139.4 139.4]\n",
      " [179.  188.9 198.8]]\n",
      "[[10. 10. 10.]\n",
      " [10. 10. 10.]\n",
      " [10. 10. 10.]\n",
      " [ 0.  0.  0.]]\n",
      "[[1. 4. 1.]\n",
      " [2. 3. 1.]\n",
      " [3. 2. 0.]\n",
      " [4. 1. 1.]]\n"
     ]
    }
   ],
   "source": [
    "print(cash)\n",
    "print(shares)\n",
    "print(price)"
   ]
  },
  {
   "cell_type": "code",
   "execution_count": 117,
   "metadata": {},
   "outputs": [
    {
     "data": {
      "text/plain": [
       "array([[199.9, 199.5, 199.4],\n",
       "       [209.4, 199.4, 199.4],\n",
       "       [209.4, 199.4, 189.4],\n",
       "       [199. , 188.9, 198.8]])"
      ]
     },
     "execution_count": 117,
     "metadata": {},
     "output_type": "execute_result"
    }
   ],
   "source": [
    "running_equity = get_running_equity(cash, shares, price)\n",
    "running_equity"
   ]
  },
  {
   "cell_type": "code",
   "execution_count": 118,
   "metadata": {},
   "outputs": [
    {
     "data": {
      "text/plain": [
       "array([[ -0.1,  -0.4,  -0.1],\n",
       "       [ 10. , -10. ,   0. ],\n",
       "       [ 10. , -10. , -10. ],\n",
       "       [  9.6, -10.1,   9.9]])"
      ]
     },
     "execution_count": 118,
     "metadata": {},
     "output_type": "execute_result"
    }
   ],
   "source": [
    "running_equity_diff = get_running_equity_diff(running_equity, price, init_cash, init_shares)\n",
    "running_equity_diff"
   ]
  },
  {
   "cell_type": "code",
   "execution_count": 119,
   "metadata": {},
   "outputs": [
    {
     "data": {
      "text/plain": [
       "array([[-0.0005    , -0.002001  , -0.00050125],\n",
       "       [ 0.05015045, -0.04775549,  0.        ],\n",
       "       [ 0.05015045, -0.04775549, -0.05015045],\n",
       "       [ 0.05068638, -0.05075377,  0.05240868]])"
      ]
     },
     "execution_count": 119,
     "metadata": {},
     "output_type": "execute_result"
    }
   ],
   "source": [
    "running_returns = get_running_returns(running_equity, price, init_cash, init_shares)\n",
    "running_returns"
   ]
  },
  {
   "cell_type": "code",
   "execution_count": 120,
   "metadata": {},
   "outputs": [
    {
     "data": {
      "text/plain": [
       "array([[-10.1, -40.4, -10.1],\n",
       "       [  0. ,   0. ,   0. ],\n",
       "       [  0. ,   0. ,   0. ],\n",
       "       [ 39.6,   9.9,   9.9]])"
      ]
     },
     "execution_count": 120,
     "metadata": {},
     "output_type": "execute_result"
    }
   ],
   "source": [
    "cash_flow = get_cash_flow(cash, init_cash)\n",
    "cash_flow"
   ]
  },
  {
   "cell_type": "code",
   "execution_count": 121,
   "metadata": {},
   "outputs": [
    {
     "data": {
      "text/plain": [
       "array([[199.9, 199.6, 199.9],\n",
       "       [209.9, 189.6, 199.9],\n",
       "       [219.9, 179.6, 189.9],\n",
       "       [229.5, 169.5, 199.8]])"
      ]
     },
     "execution_count": 121,
     "metadata": {},
     "output_type": "execute_result"
    }
   ],
   "source": [
    "equity = init_cash + np.cumsum(cash_flow, axis=0) + shares * price\n",
    "equity"
   ]
  },
  {
   "cell_type": "code",
   "execution_count": 122,
   "metadata": {},
   "outputs": [
    {
     "data": {
      "text/html": [
       "<div>\n",
       "<style scoped>\n",
       "    .dataframe tbody tr th:only-of-type {\n",
       "        vertical-align: middle;\n",
       "    }\n",
       "\n",
       "    .dataframe tbody tr th {\n",
       "        vertical-align: top;\n",
       "    }\n",
       "\n",
       "    .dataframe thead th {\n",
       "        text-align: right;\n",
       "    }\n",
       "</style>\n",
       "<table border=\"1\" class=\"dataframe\">\n",
       "  <thead>\n",
       "    <tr style=\"text-align: right;\">\n",
       "      <th></th>\n",
       "      <th>0</th>\n",
       "      <th>1</th>\n",
       "      <th>2</th>\n",
       "    </tr>\n",
       "  </thead>\n",
       "  <tbody>\n",
       "    <tr>\n",
       "      <th>0</th>\n",
       "      <td>NaN</td>\n",
       "      <td>NaN</td>\n",
       "      <td>NaN</td>\n",
       "    </tr>\n",
       "    <tr>\n",
       "      <th>1</th>\n",
       "      <td>0.050025</td>\n",
       "      <td>-0.050100</td>\n",
       "      <td>0.000000</td>\n",
       "    </tr>\n",
       "    <tr>\n",
       "      <th>2</th>\n",
       "      <td>0.047642</td>\n",
       "      <td>-0.052743</td>\n",
       "      <td>-0.050025</td>\n",
       "    </tr>\n",
       "    <tr>\n",
       "      <th>3</th>\n",
       "      <td>0.043656</td>\n",
       "      <td>-0.056236</td>\n",
       "      <td>0.052133</td>\n",
       "    </tr>\n",
       "  </tbody>\n",
       "</table>\n",
       "</div>"
      ],
      "text/plain": [
       "          0         1         2\n",
       "0       NaN       NaN       NaN\n",
       "1  0.050025 -0.050100  0.000000\n",
       "2  0.047642 -0.052743 -0.050025\n",
       "3  0.043656 -0.056236  0.052133"
      ]
     },
     "execution_count": 122,
     "metadata": {},
     "output_type": "execute_result"
    }
   ],
   "source": [
    "pd.DataFrame(equity).pct_change(axis=0)"
   ]
  },
  {
   "cell_type": "code",
   "execution_count": 123,
   "metadata": {},
   "outputs": [
    {
     "data": {
      "text/plain": [
       "array([[ 0.,  0.,  0.],\n",
       "       [20., 30., 10.],\n",
       "       [30., 20.,  0.],\n",
       "       [40., 10., 10.]])"
      ]
     },
     "execution_count": 123,
     "metadata": {},
     "output_type": "execute_result"
    }
   ],
   "source": [
    "prev_holding_value_now = get_prev_holding_value_now(price, shares, init_shares)\n",
    "prev_holding_value_now"
   ]
  },
  {
   "cell_type": "code",
   "execution_count": 124,
   "metadata": {},
   "outputs": [
    {
     "ename": "NameError",
     "evalue": "name 'curr_holding_value' is not defined",
     "output_type": "error",
     "traceback": [
      "\u001b[0;31m---------------------------------------------------------------------------\u001b[0m",
      "\u001b[0;31mNameError\u001b[0m                                 Traceback (most recent call last)",
      "\u001b[0;32m<ipython-input-124-783012902b28>\u001b[0m in \u001b[0;36m<module>\u001b[0;34m\u001b[0m\n\u001b[0;32m----> 1\u001b[0;31m \u001b[0mcosts\u001b[0m \u001b[0;34m=\u001b[0m \u001b[0mcurr_holding_value\u001b[0m \u001b[0;34m-\u001b[0m \u001b[0mprev_holding_value_now\u001b[0m \u001b[0;34m+\u001b[0m \u001b[0mcash_flow\u001b[0m\u001b[0;34m\u001b[0m\u001b[0;34m\u001b[0m\u001b[0m\n\u001b[0m\u001b[1;32m      2\u001b[0m \u001b[0mcosts\u001b[0m\u001b[0;34m\u001b[0m\u001b[0;34m\u001b[0m\u001b[0m\n",
      "\u001b[0;31mNameError\u001b[0m: name 'curr_holding_value' is not defined"
     ]
    }
   ],
   "source": [
    "costs = curr_holding_value - prev_holding_value_now + cash_flow\n",
    "costs"
   ]
  },
  {
   "cell_type": "code",
   "execution_count": 131,
   "metadata": {},
   "outputs": [
    {
     "data": {
      "text/plain": [
       "array([[10.1, 40.4, 10.1],\n",
       "       [10. , 40. , 10. ],\n",
       "       [20. , 30. , 10. ],\n",
       "       [30. , 20. ,  0. ]])"
      ]
     },
     "execution_count": 131,
     "metadata": {},
     "output_type": "execute_result"
    }
   ],
   "source": [
    "input_value = get_prev_holding_value(price, shares, init_shares)\n",
    "input_value[cash_flow < 0] += -cash_flow[cash_flow < 0]\n",
    "input_value"
   ]
  },
  {
   "cell_type": "code",
   "execution_count": 132,
   "metadata": {},
   "outputs": [
    {
     "data": {
      "text/plain": [
       "array([[10. , 40. , 10. ],\n",
       "       [20. , 30. , 10. ],\n",
       "       [30. , 20. ,  0. ],\n",
       "       [39.6,  9.9,  9.9]])"
      ]
     },
     "execution_count": 132,
     "metadata": {},
     "output_type": "execute_result"
    }
   ],
   "source": [
    "output_value = shares * price\n",
    "output_value[cash_flow > 0] += cash_flow[cash_flow > 0]\n",
    "output_value"
   ]
  },
  {
   "cell_type": "code",
   "execution_count": 133,
   "metadata": {},
   "outputs": [
    {
     "name": "stderr",
     "output_type": "stream",
     "text": [
      "/Users/olegpolakow/miniconda3/lib/python3.7/site-packages/ipykernel_launcher.py:1: RuntimeWarning: divide by zero encountered in true_divide\n",
      "  \"\"\"Entry point for launching an IPython kernel.\n"
     ]
    },
    {
     "data": {
      "text/plain": [
       "array([[-0.00990099, -0.00990099, -0.00990099],\n",
       "       [ 1.        , -0.25      ,  0.        ],\n",
       "       [ 0.5       , -0.33333333, -1.        ],\n",
       "       [ 0.32      , -0.505     ,         inf]])"
      ]
     },
     "execution_count": 133,
     "metadata": {},
     "output_type": "execute_result"
    }
   ],
   "source": [
    "returns = (output_value - input_value) / input_value\n",
    "returns"
   ]
  },
  {
   "cell_type": "code",
   "execution_count": null,
   "metadata": {},
   "outputs": [],
   "source": []
  },
  {
   "cell_type": "code",
   "execution_count": null,
   "metadata": {},
   "outputs": [],
   "source": []
  },
  {
   "cell_type": "code",
   "execution_count": null,
   "metadata": {},
   "outputs": [],
   "source": []
  }
 ],
 "metadata": {
  "kernelspec": {
   "display_name": "Python 3",
   "language": "python",
   "name": "python3"
  },
  "language_info": {
   "codemirror_mode": {
    "name": "ipython",
    "version": 3
   },
   "file_extension": ".py",
   "mimetype": "text/x-python",
   "name": "python",
   "nbconvert_exporter": "python",
   "pygments_lexer": "ipython3",
   "version": "3.7.3"
  },
  "widgets": {
   "application/vnd.jupyter.widget-state+json": {
    "state": {},
    "version_major": 2,
    "version_minor": 0
   }
  }
 },
 "nbformat": 4,
 "nbformat_minor": 4
}
