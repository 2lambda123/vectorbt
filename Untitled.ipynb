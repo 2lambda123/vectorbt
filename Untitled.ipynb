{
 "cells": [
  {
   "cell_type": "code",
   "execution_count": 19,
   "metadata": {},
   "outputs": [
    {
     "data": {
      "application/vnd.jupyter.widget-view+json": {
       "model_id": "f81b5055fc9241149a81c0e9ada424b3",
       "version_major": 2,
       "version_minor": 0
      },
      "text/plain": [
       "CustomFigureWidget({\n",
       "    'data': [{'mode': 'lines',\n",
       "              'name': 'BTC-USD',\n",
       "              'showlegend…"
      ]
     },
     "metadata": {},
     "output_type": "display_data"
    }
   ],
   "source": [
    ">>> import numpy as np\n",
    ">>> import pandas as pd\n",
    ">>> from datetime import datetime\n",
    ">>> import yfinance as yf\n",
    ">>> import talib\n",
    ">>> import vectorbt as vbt\n",
    ">>> from vectorbt.portfolio.enums import InitCashMode\n",
    "\n",
    ">>> # Fetch price history\n",
    ">>> pairs = ['BTC-USD', 'ETH-USD', 'XRP-USD', 'BNB-USD', 'BCH-USD', 'LTC-USD']\n",
    ">>> start = datetime(2020, 1, 1)\n",
    ">>> end = datetime(2020, 9, 1)\n",
    ">>> pair_history = {p: yf.Ticker(p).history(start=start, end=end) for p in pairs}\n",
    "\n",
    ">>> # Put assets into a single dataframe by price type\n",
    ">>> price = {}\n",
    ">>> for pt in ['Open', 'High', 'Low', 'Close']:\n",
    "...     price[pt] = pd.DataFrame({p: df[pt] for p, df in pair_history.items()})\n",
    "\n",
    ">>> price['Open'].head()\n",
    "\n",
    ">>> # Run every single pattern recognition indicator and combine results\n",
    ">>> result = pd.DataFrame.vbt.empty_like(price['Open'], fill_value=0.)\n",
    ">>> for pattern in talib.get_function_groups()['Pattern Recognition']:\n",
    "...     PRecognizer = vbt.IndicatorFactory.from_talib(pattern)\n",
    "...     pr = PRecognizer.run(price['Open'], price['High'], price['Low'], price['Close'])\n",
    "...     result = result + pr.integer\n",
    "\n",
    ">>> # Don't look into future\n",
    ">>> result = result.vbt.fshift(1)\n",
    "\n",
    ">>> # Treat each number as order value in USD\n",
    ">>> order_size = result / price['Open']\n",
    "\n",
    ">>> # Simulate portfolio\n",
    ">>> portfolio = vbt.Portfolio.from_orders(\n",
    "...     price['Close'], order_size, order_price=price['Open'],\n",
    "...     init_cash=InitCashMode.AutoAlign, fees=0.001, slippage=0.001\n",
    "... )\n",
    "\n",
    ">>> # Visualize portfolio value\n",
    ">>> portfolio.value().vbt.plot()"
   ]
  },
  {
   "cell_type": "code",
   "execution_count": 2,
   "metadata": {},
   "outputs": [
    {
     "data": {
      "text/html": [
       "<div>\n",
       "<style scoped>\n",
       "    .dataframe tbody tr th:only-of-type {\n",
       "        vertical-align: middle;\n",
       "    }\n",
       "\n",
       "    .dataframe tbody tr th {\n",
       "        vertical-align: top;\n",
       "    }\n",
       "\n",
       "    .dataframe thead th {\n",
       "        text-align: right;\n",
       "    }\n",
       "</style>\n",
       "<table border=\"1\" class=\"dataframe\">\n",
       "  <thead>\n",
       "    <tr style=\"text-align: right;\">\n",
       "      <th></th>\n",
       "      <th>0</th>\n",
       "      <th>1</th>\n",
       "      <th>2</th>\n",
       "    </tr>\n",
       "  </thead>\n",
       "  <tbody>\n",
       "    <tr>\n",
       "      <th>0</th>\n",
       "      <td>33.333333</td>\n",
       "      <td>33.333333</td>\n",
       "      <td>30.139624</td>\n",
       "    </tr>\n",
       "    <tr>\n",
       "      <th>1</th>\n",
       "      <td>48.716002</td>\n",
       "      <td>8.385865</td>\n",
       "      <td>9.548589</td>\n",
       "    </tr>\n",
       "    <tr>\n",
       "      <th>2</th>\n",
       "      <td>19.546625</td>\n",
       "      <td>22.584433</td>\n",
       "      <td>22.584433</td>\n",
       "    </tr>\n",
       "    <tr>\n",
       "      <th>3</th>\n",
       "      <td>94.638155</td>\n",
       "      <td>3.043394</td>\n",
       "      <td>34.278783</td>\n",
       "    </tr>\n",
       "    <tr>\n",
       "      <th>4</th>\n",
       "      <td>41.923304</td>\n",
       "      <td>38.661499</td>\n",
       "      <td>41.923304</td>\n",
       "    </tr>\n",
       "  </tbody>\n",
       "</table>\n",
       "</div>"
      ],
      "text/plain": [
       "           0          1          2\n",
       "0  33.333333  33.333333  30.139624\n",
       "1  48.716002   8.385865   9.548589\n",
       "2  19.546625  22.584433  22.584433\n",
       "3  94.638155   3.043394  34.278783\n",
       "4  41.923304  38.661499  41.923304"
      ]
     },
     "execution_count": 2,
     "metadata": {},
     "output_type": "execute_result"
    }
   ],
   "source": [
    ">>> import numpy as np\n",
    ">>> import pandas as pd\n",
    ">>> import vectorbt as vbt\n",
    ">>> from vectorbt.portfolio.enums import SizeType, CallSeqType\n",
    "\n",
    ">>> np.random.seed(42)\n",
    ">>> price = pd.DataFrame(np.random.uniform(1, 10, size=(5, 3)))\n",
    ">>> orders = pd.DataFrame(np.full((5, 3), 1.) / 3)  # each column 33.3%\n",
    ">>> orders[1::2] = np.nan  # skip every second tick\n",
    "\n",
    ">>> portfolio = vbt.Portfolio.from_orders(\n",
    "...     price,  # reference price for portfolio value\n",
    "...     orders,\n",
    "...     order_price=price,  # order price\n",
    "...     size_type=SizeType.TargetPercent,\n",
    "...     val_price=price,  # order price known beforehand (don't do it)\n",
    "...     call_seq=CallSeqType.Auto,  # first sell then buy\n",
    "...     group_by=np.array([0, 0, 0]),\n",
    "...     cash_sharing=True,\n",
    "...     fees=0.001, fixed_fees=1., slippage=0.001\n",
    "... )\n",
    "\n",
    ">>> portfolio.holding_value(group_by=False)"
   ]
  },
  {
   "cell_type": "code",
   "execution_count": 17,
   "metadata": {},
   "outputs": [
    {
     "data": {
      "application/vnd.jupyter.widget-view+json": {
       "model_id": "78708221e6df4544a2450652a8195f65",
       "version_major": 2,
       "version_minor": 0
      },
      "text/plain": [
       "CustomFigureWidget({\n",
       "    'data': [{'name': '0',\n",
       "              'showlegend': True,\n",
       "              'type': 'scatt…"
      ]
     },
     "metadata": {},
     "output_type": "display_data"
    }
   ],
   "source": [
    ">>> share_flow = share_flow_nb(target_shape, order_records)\n",
    ">>> shares = shares_nb(share_flow)\n",
    ">>> holding_value = holding_value_ungrouped_nb(price, shares)\n",
    ">>> pd.DataFrame(holding_value).vbt.scatter()"
   ]
  },
  {
   "cell_type": "code",
   "execution_count": 2,
   "metadata": {},
   "outputs": [
    {
     "data": {
      "text/plain": [
       "group\n",
       "first     21793.882832\n",
       "second     8333.660493\n",
       "dtype: float64"
      ]
     },
     "execution_count": 2,
     "metadata": {},
     "output_type": "execute_result"
    }
   ],
   "source": [
    ">>> # Simulate combined portfolio\n",
    ">>> group_by = pd.Index([\n",
    "...     'first', 'first', 'first',\n",
    "...     'second', 'second', 'second'\n",
    "... ], name='group')\n",
    ">>> comb_portfolio = vbt.Portfolio.from_orders(\n",
    "...     price['Close'], order_size, order_price=price['Open'],\n",
    "...     init_cash=InitCashMode.AutoAlign, fees=0.001, slippage=0.001,\n",
    "...     group_by=group_by, cash_sharing=True\n",
    "... )\n",
    "\n",
    ">>> # Get total profit per group\n",
    ">>> comb_portfolio.total_profit()"
   ]
  },
  {
   "cell_type": "code",
   "execution_count": 6,
   "metadata": {},
   "outputs": [
    {
     "data": {
      "text/plain": [
       "21793.882832230272"
      ]
     },
     "execution_count": 6,
     "metadata": {},
     "output_type": "execute_result"
    }
   ],
   "source": [
    ">>> comb_portfolio['first'].total_profit()"
   ]
  },
  {
   "cell_type": "code",
   "execution_count": 139,
   "metadata": {},
   "outputs": [
    {
     "data": {
      "application/vnd.jupyter.widget-view+json": {
       "model_id": "800345a0418a47e786a3c7d649043468",
       "version_major": 2,
       "version_minor": 0
      },
      "text/plain": [
       "CustomFigureWidget({\n",
       "    'data': [{'mode': 'lines',\n",
       "              'name': 'BTC-USD',\n",
       "              'showlegend…"
      ]
     },
     "metadata": {},
     "output_type": "display_data"
    }
   ],
   "source": [
    ">>> # Simulate combined portfolio\n",
    ">>> group_by = pd.Index([\n",
    "...     'first', 'first', 'first',\n",
    "...     'second', 'second', 'second'\n",
    "... ], name='group')\n",
    ">>> comb_portfolio = vbt.Portfolio.from_orders(\n",
    "...     price['Close'], order_size, order_price=price['Open'],\n",
    "...     init_cash=1000000., fees=0.001, slippage=0.001,\n",
    "...     group_by=group_by, cash_sharing=True\n",
    "... )\n",
    "\n",
    ">>> # Assess performance\n",
    ">>> comb_portfolio.total_profit()"
   ]
  },
  {
   "cell_type": "code",
   "execution_count": 131,
   "metadata": {},
   "outputs": [
    {
     "data": {
      "text/plain": [
       "group\n",
       "first      528.791013\n",
       "second    1506.582208\n",
       "dtype: float64"
      ]
     },
     "execution_count": 131,
     "metadata": {},
     "output_type": "execute_result"
    }
   ],
   "source": [
    ">>> # Get total profit per group\n",
    ">>> portfolio.total_profit(group_by=group_by)"
   ]
  },
  {
   "cell_type": "code",
   "execution_count": 364,
   "metadata": {},
   "outputs": [
    {
     "data": {
      "text/plain": [
       "21793.882832230243"
      ]
     },
     "execution_count": 364,
     "metadata": {},
     "output_type": "execute_result"
    }
   ],
   "source": [
    "comb_portfolio['first'].total_profit()"
   ]
  },
  {
   "cell_type": "code",
   "execution_count": 124,
   "metadata": {},
   "outputs": [
    {
     "data": {
      "text/plain": [
       "group\n",
       "first     1169.475786\n",
       "second     897.932347\n",
       "dtype: float64"
      ]
     },
     "execution_count": 124,
     "metadata": {},
     "output_type": "execute_result"
    }
   ],
   "source": [
    ">>> portfolio.total_profit(group_by=group_by)"
   ]
  },
  {
   "cell_type": "code",
   "execution_count": 99,
   "metadata": {},
   "outputs": [
    {
     "data": {
      "text/plain": [
       "BTC-USD    1.180231\n",
       "ETH-USD    0.436460\n",
       "XRP-USD   -0.232500\n",
       "BNB-USD    1.311505\n",
       "BCH-USD    0.691300\n",
       "LTC-USD    0.624139\n",
       "dtype: float64"
      ]
     },
     "execution_count": 99,
     "metadata": {},
     "output_type": "execute_result"
    }
   ],
   "source": [
    "portfolio.sharpe_ratio()"
   ]
  },
  {
   "cell_type": "code",
   "execution_count": 100,
   "metadata": {},
   "outputs": [
    {
     "data": {
      "text/plain": [
       "BTC-USD    1.296420\n",
       "ETH-USD    0.358333\n",
       "XRP-USD   -0.505245\n",
       "BNB-USD    1.378773\n",
       "BCH-USD    0.787651\n",
       "LTC-USD    0.778123\n",
       "dtype: float64"
      ]
     },
     "execution_count": 100,
     "metadata": {},
     "output_type": "execute_result"
    }
   ],
   "source": [
    "price['Close'].pct_change().vbt.returns.sharpe_ratio()"
   ]
  },
  {
   "cell_type": "code",
   "execution_count": 38,
   "metadata": {},
   "outputs": [
    {
     "data": {
      "image/png": "[encoded data removed]"
     },
     "metadata": {},
     "output_type": "display_data"
    }
   ],
   "source": [
    "# Analyze performance\n",
    "portfolio.value().vbt.plot().show_png()"
   ]
  },
  {
   "cell_type": "code",
   "execution_count": 49,
   "metadata": {},
   "outputs": [],
   "source": [
    "from scipy.stats import skew"
   ]
  },
  {
   "cell_type": "code",
   "execution_count": 45,
   "metadata": {},
   "outputs": [],
   "source": [
    "df = pd.DataFrame(np.random.uniform(size=(1000, 1000)))"
   ]
  },
  {
   "cell_type": "code",
   "execution_count": 55,
   "metadata": {},
   "outputs": [
    {
     "name": "stdout",
     "output_type": "stream",
     "text": [
      "18.9 ms ± 1.57 ms per loop (mean ± std. dev. of 7 runs, 10 loops each)\n"
     ]
    }
   ],
   "source": [
    "%timeit df.skew()"
   ]
  },
  {
   "cell_type": "code",
   "execution_count": 56,
   "metadata": {},
   "outputs": [
    {
     "name": "stdout",
     "output_type": "stream",
     "text": [
      "20.8 ms ± 2.32 ms per loop (mean ± std. dev. of 7 runs, 10 loops each)\n"
     ]
    }
   ],
   "source": [
    "%timeit skew(df.values, axis=0)"
   ]
  },
  {
   "cell_type": "code",
   "execution_count": 13,
   "metadata": {},
   "outputs": [
    {
     "data": {
      "text/plain": [
       "array([0.159413, 0.159413, 0.159413])"
      ]
     },
     "execution_count": 13,
     "metadata": {},
     "output_type": "execute_result"
    }
   ],
   "source": [
    "approx_exp_max_sharpe(np.full(3, 0.), np.full(3, np.sqrt(1 / 252)), 100)"
   ]
  },
  {
   "cell_type": "code",
   "execution_count": 17,
   "metadata": {},
   "outputs": [
    {
     "data": {
      "text/plain": [
       "3.141592653589793"
      ]
     },
     "execution_count": 17,
     "metadata": {},
     "output_type": "execute_result"
    }
   ],
   "source": [
    "import math\n",
    "\n",
    "pi = math.pi\n",
    "pi"
   ]
  },
  {
   "cell_type": "code",
   "execution_count": 19,
   "metadata": {},
   "outputs": [
    {
     "data": {
      "text/plain": [
       "7.38905609893065"
      ]
     },
     "execution_count": 19,
     "metadata": {},
     "output_type": "execute_result"
    }
   ],
   "source": [
    "math.exp(2)"
   ]
  },
  {
   "cell_type": "code",
   "execution_count": 22,
   "metadata": {},
   "outputs": [
    {
     "data": {
      "text/plain": [
       "0.9999997133484281"
      ]
     },
     "execution_count": 22,
     "metadata": {},
     "output_type": "execute_result"
    }
   ],
   "source": [
    "norm.cdf(5)"
   ]
  },
  {
   "cell_type": "code",
   "execution_count": 34,
   "metadata": {},
   "outputs": [
    {
     "data": {
      "text/plain": [
       "0.8427006897475899"
      ]
     },
     "execution_count": 34,
     "metadata": {},
     "output_type": "execute_result"
    }
   ],
   "source": [
    "@njit\n",
    "def erf(x):\n",
    "    # save the sign of x\n",
    "    sign = 1 if x >= 0 else -1\n",
    "    x = abs(x)\n",
    "\n",
    "    # constants\n",
    "    a1 =  0.254829592\n",
    "    a2 = -0.284496736\n",
    "    a3 =  1.421413741\n",
    "    a4 = -1.453152027\n",
    "    a5 =  1.061405429\n",
    "    p  =  0.3275911\n",
    "\n",
    "    # A&S formula 7.1.26\n",
    "    t = 1.0/(1.0 + p*x)\n",
    "    y = 1.0 - (((((a5*t + a4)*t) + a3)*t + a2)*t + a1)*t*math.exp(-x*x)\n",
    "    return sign*y # erf(-x) = -erf(x)\n",
    "\n",
    "erf(1.)"
   ]
  },
  {
   "cell_type": "code",
   "execution_count": 35,
   "metadata": {},
   "outputs": [
    {
     "data": {
      "text/plain": [
       "0.8427007929497148"
      ]
     },
     "execution_count": 35,
     "metadata": {},
     "output_type": "execute_result"
    }
   ],
   "source": [
    "math.erf(1)"
   ]
  },
  {
   "cell_type": "code",
   "execution_count": null,
   "metadata": {},
   "outputs": [],
   "source": []
  },
  {
   "cell_type": "code",
   "execution_count": null,
   "metadata": {},
   "outputs": [],
   "source": []
  },
  {
   "cell_type": "code",
   "execution_count": null,
   "metadata": {},
   "outputs": [],
   "source": []
  },
  {
   "cell_type": "code",
   "execution_count": 24,
   "metadata": {},
   "outputs": [
    {
     "data": {
      "text/plain": [
       "0.07365402806066466"
      ]
     },
     "execution_count": 24,
     "metadata": {},
     "output_type": "execute_result"
    }
   ],
   "source": [
    "def normpdf(x, mean, sd):\n",
    "    var = np.power(sd, 2)\n",
    "    denom = np.power(2 * pi * var, 0.5)\n",
    "    num = np.exp(-(x - mean) **2 / (2 * var))\n",
    "    return num / denom"
   ]
  },
  {
   "cell_type": "code",
   "execution_count": 27,
   "metadata": {},
   "outputs": [
    {
     "data": {
      "text/plain": [
       "0.9999997133484281"
      ]
     },
     "execution_count": 27,
     "metadata": {},
     "output_type": "execute_result"
    }
   ],
   "source": [
    "norm.cdf(5.)"
   ]
  },
  {
   "cell_type": "code",
   "execution_count": 39,
   "metadata": {},
   "outputs": [
    {
     "data": {
      "text/plain": [
       "0.8996723484977763"
      ]
     },
     "execution_count": 39,
     "metadata": {},
     "output_type": "execute_result"
    }
   ],
   "source": [
    "def compute_deflated_sharpe_ratio(*, est_sharpe, var_sharpe, nb_trials, backtest_horizon, skew, kurtosis):\n",
    "    SR0 = approx_exp_max_sharpe(0, var_sharpe, nb_trials)\n",
    "    \n",
    "    return norm.cdf(((est_sharpe - SR0) * np.sqrt(backtest_horizon - 1)) / \n",
    "                    np.sqrt(1 - skew * est_sharpe + ((kurtosis - 1) / 4) * est_sharpe ** 2))\n",
    "\n",
    "compute_deflated_sharpe_ratio(est_sharpe=2.5 / np.sqrt(252),\n",
    "                              var_sharpe=0.5 / 252,\n",
    "                              nb_trials=100,\n",
    "                              backtest_horizon=1250,\n",
    "                              skew=-3,\n",
    "                              kurtosis=10)"
   ]
  },
  {
   "cell_type": "code",
   "execution_count": 14,
   "metadata": {},
   "outputs": [
    {
     "data": {
      "text/plain": [
       "array([0.89967235, 0.89967235, 0.89967235])"
      ]
     },
     "execution_count": 14,
     "metadata": {},
     "output_type": "execute_result"
    }
   ],
   "source": [
    "compute_deflated_sharpe_ratio(est_sharpe=np.full(3, 2.5 / np.sqrt(252)),\n",
    "                              std_sharpe=np.sqrt(0.5 / 252),\n",
    "                              nb_trials=100,\n",
    "                              backtest_horizon=1250,\n",
    "                              skew=-3,\n",
    "                              kurtosis=10)"
   ]
  },
  {
   "cell_type": "code",
   "execution_count": 26,
   "metadata": {},
   "outputs": [
    {
     "name": "stdout",
     "output_type": "stream",
     "text": [
      "           0          1          2\n",
      "0  33.333333  33.333333  30.139624\n",
      "1  48.716002   8.385865   9.548589\n",
      "2  19.546625  22.584433  22.584433\n",
      "3  94.638155   3.043394  34.278783\n",
      "4  41.923304  38.661499  41.923304\n"
     ]
    }
   ],
   "source": [
    "np.random.seed(42)\n",
    "price = pd.DataFrame(np.random.uniform(1, 10, size=(5, 3)))\n",
    "orders = pd.DataFrame(np.full((5, 3), 1.) / 3)  # each column 33.3%\n",
    "orders[1::2] = np.nan  # skip every second tick\n",
    "\n",
    "portfolio = vbt.Portfolio.from_orders(\n",
    "    price,  # reference price for portfolio value\n",
    "    orders,\n",
    "    order_price=price,  # order price\n",
    "    size_type=SizeType.TargetPercent,\n",
    "    val_price=price,  # order price known beforehand (don't do it)\n",
    "    dynamic_call_seq=True,\n",
    "    group_by=np.array([0, 0, 0]),\n",
    "    cash_sharing=True,\n",
    "    fees=0.001, fixed_fees=1., slippage=0.001\n",
    ")\n",
    "print(portfolio.holding_value(group_by=False))"
   ]
  },
  {
   "cell_type": "code",
   "execution_count": 2,
   "metadata": {},
   "outputs": [
    {
     "data": {
      "text/plain": [
       "Start                            2014-09-17 00:00:00\n",
       "End                              2020-09-13 00:00:00\n",
       "Duration                          2188 days 00:00:00\n",
       "Holding Duration [%]                         56.9013\n",
       "Total Profit                                 12102.4\n",
       "Total Return [%]                             12102.4\n",
       "Buy & Hold Return [%]                         2142.2\n",
       "Max. Drawdown [%]                            47.8405\n",
       "Avg. Drawdown [%]                             8.3173\n",
       "Max. Drawdown Duration             510 days 00:00:00\n",
       "Avg. Drawdown Duration    35 days 01:37:37.627118644\n",
       "Num. Trades                                       54\n",
       "Win Rate [%]                                 53.7037\n",
       "Best Trade [%]                               279.692\n",
       "Worst Trade [%]                             -23.4948\n",
       "Avg. Trade [%]                               13.9273\n",
       "Max. Trade Duration                100 days 00:00:00\n",
       "Avg. Trade Duration                 23 days 01:20:00\n",
       "Expectancy                                   224.119\n",
       "SQN                                          2.25024\n",
       "Sharpe Ratio                                 1.81674\n",
       "Sortino Ratio                                2.87812\n",
       "Calmar Ratio                                 2.56841\n",
       "Name: (13, 21), dtype: object"
      ]
     },
     "execution_count": 2,
     "metadata": {},
     "output_type": "execute_result"
    }
   ],
   "source": [
    "portfolio[(13, 21)].stats()"
   ]
  },
  {
   "cell_type": "code",
   "execution_count": 40,
   "metadata": {},
   "outputs": [],
   "source": [
    "from numba import njit\n",
    "from vectorbt.records.enums import OrderSide\n",
    "\n",
    "@njit\n",
    "def final_value_ungrouped(target_shape, close, order_records, init_cash_ungrouped):\n",
    "    shares = np.full(target_shape[1], 0., dtype=np.float_)\n",
    "    cash = init_cash_ungrouped.copy()\n",
    "    \n",
    "    prev_col = -1\n",
    "    prev_i = -1\n",
    "    for r in range(order_records.shape[0]):\n",
    "        record = order_records[r]\n",
    "        col = record['col']\n",
    "        i = record['idx']\n",
    "        if col < prev_col:\n",
    "            raise ValueError(\"Order records must be sorted\")\n",
    "        if col != prev_col:\n",
    "            prev_i = -1\n",
    "        if i < prev_i:\n",
    "            raise ValueError(\"Order records must be sorted\")\n",
    "        \n",
    "        if record['side'] == OrderSide.Buy:\n",
    "            shares[col] += record['size']\n",
    "        else:\n",
    "            shares[col] -= record['size']\n",
    "        if record['side'] == OrderSide.Buy:\n",
    "            cash[col] -= record['size'] * record['price'] + record['fees']\n",
    "        else:\n",
    "            cash[col] += record['size'] * record['price'] - record['fees']\n",
    "            \n",
    "    return cash + shares * close[0, :]\n",
    "\n",
    "@njit\n",
    "def final_value_grouped(final_value_ungrouped, init_cash, group_counts, cash_sharing):\n",
    "    out = np.empty_like(len(group_counts), dtype=np.float_)\n",
    "    from_col = 0\n",
    "    for group in range(len(group_counts)):\n",
    "        to_col = from_col + group_counts[group]\n",
    "        out[group] = np.sum(final_value_ungrouped[from_col:to_col])\n",
    "        if cash_sharing:\n",
    "            out[group] = out[group] - init_cash[group] * (group_counts[group] - 1)\n",
    "        from_col = to_col\n",
    "    return out"
   ]
  },
  {
   "cell_type": "code",
   "execution_count": 39,
   "metadata": {},
   "outputs": [
    {
     "name": "stdout",
     "output_type": "stream",
     "text": [
      "88.4 µs ± 52 µs per loop (mean ± std. dev. of 7 runs, 1 loop each)\n"
     ]
    }
   ],
   "source": [
    "%%timeit \n",
    "total_value_ungrouped(\n",
    "    portfolio.wrapper.shape_2d,\n",
    "    vbt.base.reshape_fns.to_2d(portfolio.close, raw=True),\n",
    "    portfolio.orders.records_arr,\n",
    "    vbt.base.reshape_fns.to_1d(portfolio.init_cash_regrouped(group_by=False), raw=True)\n",
    ")"
   ]
  },
  {
   "cell_type": "code",
   "execution_count": 17,
   "metadata": {},
   "outputs": [],
   "source": [
    "import pandas as pd"
   ]
  },
  {
   "cell_type": "code",
   "execution_count": 43,
   "metadata": {},
   "outputs": [
    {
     "data": {
      "text/plain": [
       "1.816740106465776"
      ]
     },
     "execution_count": 43,
     "metadata": {},
     "output_type": "execute_result"
    }
   ],
   "source": [
    "def _select_col(obj):\n",
    "    if checks.is_series(obj):\n",
    "        return obj[column]\n",
    "    return obj\n",
    "\n",
    "portfolio[(13, 21)].sharpe_ratio(group_by=None)"
   ]
  },
  {
   "cell_type": "code",
   "execution_count": 41,
   "metadata": {},
   "outputs": [
    {
     "data": {
      "text/plain": [
       "1.816740106465776"
      ]
     },
     "execution_count": 41,
     "metadata": {},
     "output_type": "execute_result"
    }
   ],
   "source": [
    "portfolio[(13, 21)].sharpe_ratio()"
   ]
  },
  {
   "cell_type": "code",
   "execution_count": 38,
   "metadata": {},
   "outputs": [
    {
     "data": {
      "text/plain": [
       "1.816740106465776"
      ]
     },
     "execution_count": 38,
     "metadata": {},
     "output_type": "execute_result"
    }
   ],
   "source": [
    "portfolio[(13, 21)].returns().vbt.returns(freq='1D').sharpe_ratio()"
   ]
  },
  {
   "cell_type": "code",
   "execution_count": 12,
   "metadata": {},
   "outputs": [
    {
     "data": {
      "text/plain": [
       "{'index': ['x', 'y', 'z'],\n",
       " 'columns': ['a', 'b', 'c'],\n",
       " 'ndim': 2,\n",
       " 'freq': None,\n",
       " 'column_only_select': None,\n",
       " 'group_select': None,\n",
       " 'grouped_ndim': None}"
      ]
     },
     "execution_count": 12,
     "metadata": {},
     "output_type": "execute_result"
    }
   ],
   "source": [
    "aw._config"
   ]
  },
  {
   "cell_type": "code",
   "execution_count": 8,
   "metadata": {},
   "outputs": [
    {
     "data": {
      "text/plain": [
       "{'index': Index(['x', 'y'], dtype='object'),\n",
       " 'columns': Index(['a'], dtype='object'),\n",
       " 'ndim': 1,\n",
       " 'freq': None,\n",
       " 'column_only_select': None,\n",
       " 'group_select': None,\n",
       " 'grouped_ndim': None,\n",
       " 'group_by': None}"
      ]
     },
     "execution_count": 8,
     "metadata": {},
     "output_type": "execute_result"
    }
   ],
   "source": [
    "aw.loc['x':'y', 'a']._config"
   ]
  },
  {
   "cell_type": "code",
   "execution_count": 10,
   "metadata": {},
   "outputs": [
    {
     "data": {
      "text/plain": [
       "{'index': ['x', 'y', 'z'],\n",
       " 'columns': ['a', 'b', 'c'],\n",
       " 'ndim': 2,\n",
       " 'freq': None,\n",
       " 'column_only_select': None,\n",
       " 'group_select': None,\n",
       " 'grouped_ndim': None,\n",
       " 'group_by': array([0, 0, 1])}"
      ]
     },
     "execution_count": 10,
     "metadata": {},
     "output_type": "execute_result"
    }
   ],
   "source": [
    "aw.regroup(np.array([0, 0, 1]))._config"
   ]
  },
  {
   "cell_type": "code",
   "execution_count": 66,
   "metadata": {},
   "outputs": [
    {
     "data": {
      "text/plain": [
       "-0.4473361334272673"
      ]
     },
     "execution_count": 66,
     "metadata": {},
     "output_type": "execute_result"
    }
   ],
   "source": [
    "price.vbt.drawdowns().active.current_drawdown()"
   ]
  },
  {
   "cell_type": "code",
   "execution_count": 36,
   "metadata": {},
   "outputs": [
    {
     "data": {
      "image/png": "[encoded data removed]"
     },
     "metadata": {},
     "output_type": "display_data"
    }
   ],
   "source": [
    "some_field.to_matrix().vbt.scatter(trace_kwargs=dict(connectgaps=True)).show_png()"
   ]
  },
  {
   "cell_type": "code",
   "execution_count": 14,
   "metadata": {},
   "outputs": [
    {
     "data": {
      "application/vnd.jupyter.widget-view+json": {
       "model_id": "4102f4c23d4b40dd8b08f102b5523c26",
       "version_major": 2,
       "version_minor": 0
      },
      "text/plain": [
       "CustomFigureWidget({\n",
       "    'data': [{'name': '1',\n",
       "              'opacity': 0.75,\n",
       "              'showlegend': Tru…"
      ]
     },
     "metadata": {},
     "output_type": "display_data"
    }
   ],
   "source": [
    "np.random.seed(42)\n",
    "index = pd.Index(['x', 'y'])\n",
    "columns = pd.MultiIndex.from_arrays([\n",
    "    [1, 1, 1, 2, 2, 2],\n",
    "    [1, 2, 3, 1, 2, 3]\n",
    "], names=['a', 'b'])\n",
    "mapped_grouped = MappedArray(\n",
    "    ArrayWrapper(index=index, columns=columns, ndim=2, group_by='a'),\n",
    "    mapped_arr=np.random.randint(1, 10, size=12),\n",
    "    col_arr=np.repeat(np.arange(6), 2),\n",
    "    idx_arr=np.tile([0, 1], 6)\n",
    ")\n",
    "\n",
    "mapped_grouped.hist()"
   ]
  },
  {
   "cell_type": "code",
   "execution_count": null,
   "metadata": {},
   "outputs": [],
   "source": []
  },
  {
   "cell_type": "code",
   "execution_count": 2,
   "metadata": {},
   "outputs": [
    {
     "name": "stdout",
     "output_type": "stream",
     "text": [
      "preparing simulation\n",
      "\\tpreparing group 0\n",
      "\\t\\tpreparing segment 0 (row)\n",
      "\\t\\t\\trunning order 0 at column 0\n",
      "\\t\\t\\trunning order 1 at column 1\n",
      "\\t\\t\\trunning order 2 at column 2\n",
      "\\t\\tpreparing segment 2 (row)\n",
      "\\t\\t\\trunning order 0 at column 1\n",
      "\\t\\t\\trunning order 1 at column 2\n",
      "\\t\\t\\trunning order 2 at column 0\n",
      "\\t\\tpreparing segment 4 (row)\n",
      "\\t\\t\\trunning order 0 at column 0\n",
      "\\t\\t\\trunning order 1 at column 2\n",
      "\\t\\t\\trunning order 2 at column 1\n"
     ]
    }
   ],
   "source": [
    "import numpy as np\n",
    "import pandas as pd\n",
    "from numba import njit\n",
    "from vectorbt.portfolio.nb import (\n",
    "    simulate_nb,\n",
    "    build_call_seq,\n",
    "    dynamic_call_seq_ctx_nb,\n",
    "    share_flow_nb,\n",
    "    shares_nb,\n",
    "    holding_value_ungrouped_nb\n",
    ")\n",
    "from vectorbt.portfolio.enums import Order, SizeType\n",
    "\n",
    "target_shape = (5, 3)\n",
    "np.random.seed(42)\n",
    "price = np.random.uniform(1, 10, size=target_shape)\n",
    "group_counts = np.array([3])  # group of three columns\n",
    "init_cash = np.array([100.])  # one capital per group\n",
    "cash_sharing = True\n",
    "call_seq = build_call_seq(target_shape, group_counts)  # will be overridden\n",
    "active_mask = np.array([True, False, True, False, True])[:, None]\n",
    "active_mask = np.copy(np.broadcast_to(active_mask, target_shape))\n",
    "fees = 0.001\n",
    "fixed_fees = 1.\n",
    "slippage = 0.001\n",
    "min_price = 1e-6\n",
    "reject_prob = 0.\n",
    "\n",
    "@njit\n",
    "def prep_func_nb(simc):  # do nothing\n",
    "    print('preparing simulation')\n",
    "    return ()\n",
    "\n",
    "@njit\n",
    "def group_prep_func_nb(gc):  # create arrays\n",
    "    print('\\\\tpreparing group', gc.group)\n",
    "    # Try to create new arrays as rarely as possible\n",
    "    order_size = np.empty(gc.group_len, dtype=np.float_)\n",
    "    order_size_type = np.empty(gc.group_len, dtype=np.int_)\n",
    "    temp_float_arr = np.empty(gc.group_len, dtype=np.float_)\n",
    "    return order_size, order_size_type, temp_float_arr\n",
    "\n",
    "@njit\n",
    "def segment_prep_func_nb(sc, order_size, order_size_type, temp_float_arr):  # rebalance\n",
    "    print('\\\\t\\\\tpreparing segment', sc.i, '(row)')\n",
    "    for k in range(sc.group_len):\n",
    "        col = sc.from_col + k\n",
    "        order_size[k] = 1 / sc.group_len\n",
    "        order_size_type[k] = SizeType.TargetPercent\n",
    "        # In this example last seen price is now, just for illustration\n",
    "        sc.val_price[col] = price[sc.i, col]\n",
    "    # Reorder call sequence such that selling orders come first and buying last\n",
    "    dynamic_call_seq_ctx_nb(sc, order_size, order_size_type, temp_float_arr)\n",
    "    return order_size, order_size_type\n",
    "\n",
    "@njit\n",
    "def order_func_nb(oc, order_size, order_size_type):  # place an order\n",
    "    print('\\\\t\\\\t\\\\trunning order', oc.call_idx, 'at column', oc.col)\n",
    "    col_i = oc.call_seq_now[oc.call_idx]  # or col - from_col\n",
    "    return Order(\n",
    "        order_size[col_i],\n",
    "        order_size_type[col_i],\n",
    "        price[oc.i, oc.col],\n",
    "        fees, fixed_fees, slippage,\n",
    "        min_price, reject_prob\n",
    "    )\n",
    "\n",
    "order_records = simulate_nb(\n",
    "    target_shape, \n",
    "    price,\n",
    "    group_counts, \n",
    "    init_cash, \n",
    "    cash_sharing,\n",
    "    call_seq, \n",
    "    active_mask, \n",
    "    prep_func_nb, (),\n",
    "    group_prep_func_nb, (), \n",
    "    segment_prep_func_nb, (), \n",
    "    order_func_nb, ())"
   ]
  },
  {
   "cell_type": "code",
   "execution_count": 3,
   "metadata": {},
   "outputs": [
    {
     "name": "stdout",
     "output_type": "stream",
     "text": [
      "   col  idx       size     price      fees  side\n",
      "0    0    0   7.626262  4.375232  1.033367     0\n",
      "1    0    2   5.210115  1.524275  1.007942     0\n",
      "2    0    4   7.899568  8.483492  1.067016     1\n",
      "3    1    0   3.488053  9.565985  1.033367     0\n",
      "4    1    2   0.920352  8.786790  1.008087     1\n",
      "5    1    4  10.713236  2.913963  1.031218     0\n",
      "6    2    0   3.972040  7.595533  1.030170     0\n",
      "7    2    2   0.448747  6.403625  1.002874     1\n",
      "8    2    4  12.378281  2.639061  1.032667     0\n"
     ]
    }
   ],
   "source": [
    "print(pd.DataFrame.from_records(order_records))  # sorted"
   ]
  },
  {
   "cell_type": "code",
   "execution_count": 4,
   "metadata": {},
   "outputs": [
    {
     "data": {
      "image/png": "[encoded data removed]"
     },
     "metadata": {},
     "output_type": "display_data"
    }
   ],
   "source": [
    "share_flow = share_flow_nb(target_shape, order_records)\n",
    "shares = shares_nb(share_flow)\n",
    "holding_value = holding_value_ungrouped_nb(price, shares)\n",
    "pd.DataFrame(holding_value).vbt.scatter().show_png()"
   ]
  },
  {
   "cell_type": "code",
   "execution_count": 33,
   "metadata": {},
   "outputs": [
    {
     "data": {
      "text/plain": [
       "array([[33.33333333,  6.66666667, 30.13962395],\n",
       "       [25.60209687, 12.02805766, 25.60209687],\n",
       "       [21.07741713, 20.04328899, 21.07741713],\n",
       "       [13.87925673, 26.20403868, 27.75851346],\n",
       "       [ 8.22392239, 38.01272214, 41.11961194]])"
      ]
     },
     "execution_count": 33,
     "metadata": {},
     "output_type": "execute_result"
    }
   ],
   "source": [
    "shares = shares_nb(share_flow)\n",
    "shares"
   ]
  },
  {
   "cell_type": "code",
   "execution_count": 34,
   "metadata": {},
   "outputs": [
    {
     "data": {
      "text/plain": [
       "array([[33.33333333, 33.33333333, 30.13962395],\n",
       "       [51.20419374, 48.11223065, 51.20419374],\n",
       "       [63.2322514 , 60.12986696, 63.2322514 ],\n",
       "       [55.51702693, 52.40807737, 55.51702693],\n",
       "       [41.11961194, 38.01272214, 41.11961194]])"
      ]
     },
     "execution_count": 34,
     "metadata": {},
     "output_type": "execute_result"
    }
   ],
   "source": [
    "holding_value_ungrouped_nb(price, shares)"
   ]
  },
  {
   "cell_type": "code",
   "execution_count": 9,
   "metadata": {},
   "outputs": [
    {
     "data": {
      "text/plain": [
       "array([[0, 1, 2],\n",
       "       [0, 1, 2],\n",
       "       [1, 2, 0],\n",
       "       [0, 1, 2],\n",
       "       [0, 2, 1]])"
      ]
     },
     "execution_count": 9,
     "metadata": {},
     "output_type": "execute_result"
    }
   ],
   "source": [
    "call_seq  # 0 - first call, 1 - second call"
   ]
  },
  {
   "cell_type": "code",
   "execution_count": null,
   "metadata": {},
   "outputs": [],
   "source": []
  },
  {
   "cell_type": "code",
   "execution_count": 6,
   "metadata": {},
   "outputs": [
    {
     "name": "stdout",
     "output_type": "stream",
     "text": [
      "100.0 [[3. 2. 1.]] 30.0\n",
      "100.0 [[3. 2. 1.]] 40.0\n",
      "100.0 [[3. 2. 1.]] 30.0\n"
     ]
    },
    {
     "data": {
      "text/plain": [
       "(200.0, array([270., 160.,  70.]), array([2, 1, 0]))"
      ]
     },
     "execution_count": 6,
     "metadata": {},
     "output_type": "execute_result"
    }
   ],
   "source": [
    "import numpy as np\n",
    "import pandas as pd\n",
    "from numba import njit\n",
    "from vectorbt.portfolio.nb import (\n",
    "    simulate_nb, \n",
    "    build_call_seq, \n",
    "    share_flow_nb,\n",
    "    cash_flow_ungrouped_nb,\n",
    "    cash_flow_grouped_nb\n",
    ")\n",
    "from vectorbt.portfolio.enums import Order, SizeType\n",
    "\n",
    "def something(i, from_col, to_col, cash_now, run_shares, size, size_type, eval_price, dynamic_call_seq):\n",
    "    n_cols = to_col - from_col\n",
    "    group_value = cash_now\n",
    "    for k in range(n_cols):\n",
    "        col = from_col + k\n",
    "        _eval_price = eval_price[i, col]\n",
    "        holding_value = run_shares[col] * _eval_price\n",
    "        group_value += holding_value\n",
    "    # Dynamically sort by order value -> selling comes first to release funds early\n",
    "    if dynamic_call_seq:\n",
    "        order_value = np.empty(n_cols, dtype=np.float_)\n",
    "        # Convert order size into order value\n",
    "        for k in range(n_cols):\n",
    "            col = from_col + k\n",
    "            _size = size[i, col]\n",
    "            _size_type = size_type[i, col]\n",
    "            _eval_price = eval_price[i, col]\n",
    "            holding_value = run_shares[col] * _eval_price\n",
    "            if _size_type == SizeType.Shares:\n",
    "                order_value[k] = _size * eval_price\n",
    "            elif _size_type == SizeType.Cash:  # without costs acts as value\n",
    "                order_value[k] = _size\n",
    "            elif _size_type == SizeType.TargetShares:\n",
    "                order_value[k] = _size * _eval_price - holding_value\n",
    "            elif _size_type == SizeType.TargetValue:\n",
    "                order_value[k] = _size - holding_value\n",
    "            elif _size_type == SizeType.TargetPercent:\n",
    "                order_value[k] = _size * group_value - holding_value\n",
    "        # Sort by order value\n",
    "        return group_value, order_value, np.argsort(order_value)\n",
    "    return group_value\n",
    "\n",
    "something(\n",
    "    0,\n",
    "    0, \n",
    "    3, \n",
    "    100., \n",
    "    np.array([10., 20., 30.]),\n",
    "    np.array([[100., 100., 100.]]),\n",
    "    np.array([[2, 2, 2]]),\n",
    "    np.array([[3., 2., 1.]]),\n",
    "    True\n",
    ")"
   ]
  },
  {
   "cell_type": "code",
   "execution_count": 27,
   "metadata": {},
   "outputs": [
    {
     "name": "stdout",
     "output_type": "stream",
     "text": [
      "0.29999999999999998889776975374843459576368331909180\n"
     ]
    }
   ],
   "source": [
    "print('%.50f' % 0.3)  # has negative error"
   ]
  },
  {
   "cell_type": "code",
   "execution_count": 21,
   "metadata": {},
   "outputs": [
    {
     "data": {
      "text/plain": [
       "1.3328826753422618e-06"
      ]
     },
     "execution_count": 21,
     "metadata": {},
     "output_type": "execute_result"
    }
   ],
   "source": [
    "sum([0.1 for _ in range(1000000)]) - 100000"
   ]
  },
  {
   "cell_type": "code",
   "execution_count": 22,
   "metadata": {},
   "outputs": [
    {
     "data": {
      "text/plain": [
       "5.657668225467205e-06"
      ]
     },
     "execution_count": 22,
     "metadata": {},
     "output_type": "execute_result"
    }
   ],
   "source": [
    "300000 - sum([0.3 for _ in range(1000000)])"
   ]
  },
  {
   "cell_type": "code",
   "execution_count": 8,
   "metadata": {},
   "outputs": [
    {
     "data": {
      "text/plain": [
       "array([[1, 0, 0],\n",
       "       [1, 0, 0],\n",
       "       [1, 0, 0],\n",
       "       [0, 1, 0],\n",
       "       [0, 1, 0]])"
      ]
     },
     "execution_count": 8,
     "metadata": {},
     "output_type": "execute_result"
    }
   ],
   "source": [
    "call_seq"
   ]
  },
  {
   "cell_type": "code",
   "execution_count": 9,
   "metadata": {},
   "outputs": [
    {
     "name": "stdout",
     "output_type": "stream",
     "text": [
      "[[   0.          198.6025962    98.8022966 ]\n",
      " [   0.         -198.6025962   -98.8022966 ]\n",
      " [   0.          131.20784618   64.93991577]\n",
      " [   0.         -131.20784618  -64.93991577]\n",
      " [ 104.14804911    0.           51.34533868]]\n"
     ]
    }
   ],
   "source": [
    "print(share_flow_nb(target_shape, order_records))"
   ]
  },
  {
   "cell_type": "code",
   "execution_count": 10,
   "metadata": {},
   "outputs": [
    {
     "name": "stdout",
     "output_type": "stream",
     "text": [
      "[[   0.         -200.         -100.        ]\n",
      " [   0.          395.41117923  196.20958163]\n",
      " [   0.         -395.41117923 -196.20958163]\n",
      " [   0.          522.78224677  258.24040352]\n",
      " [-522.78224677    0.         -258.24040352]]\n"
     ]
    }
   ],
   "source": [
    "print(cash_flow_ungrouped_nb(target_shape, order_records))"
   ]
  },
  {
   "cell_type": "code",
   "execution_count": 1,
   "metadata": {},
   "outputs": [],
   "source": [
    "import numpy as np\n",
    "import pandas as pd\n",
    "from numba import njit\n",
    "import vectorbt as vbt"
   ]
  },
  {
   "cell_type": "code",
   "execution_count": null,
   "metadata": {},
   "outputs": [],
   "source": [
    "@njit(cache=True)\n",
    "def is_grouped_nb(group_counts):\n",
    "    \"\"\"Check if columns are grouped, that is, more than one column per group.\"\"\"\n",
    "    return np.any(group_counts > 1)\n",
    "\n",
    "\n",
    "\n",
    "     \n",
    "\n",
    "print(build_call_order((5, 10), np.array([1, 2, 3, 4]), mode='default'))\n",
    "print(build_call_order((5, 10), np.array([1, 2, 3, 4]), mode='reversed'))\n",
    "print(build_call_order((5, 10), np.array([1, 2, 3, 4]), mode='random'))\n",
    "print(build_call_order((5, 10), np.array([1, 2, 3, 4]), mode='random'))\n",
    "print(build_call_order((5, 10), np.array([1, 2, 3, 4]), mode='random', seed=42))\n",
    "print(build_call_order((5, 10), np.array([1, 2, 3, 4]), mode='random', seed=42))"
   ]
  },
  {
   "cell_type": "code",
   "execution_count": 2,
   "metadata": {},
   "outputs": [
    {
     "name": "stdout",
     "output_type": "stream",
     "text": [
      "[[0 0 1 0 1 2 0 1 2 3]\n",
      " [0 0 1 0 1 2 0 1 2 3]\n",
      " [0 0 1 0 1 2 0 1 2 3]\n",
      " [0 0 1 0 1 2 0 1 2 3]\n",
      " [0 0 1 0 1 2 0 1 2 3]]\n",
      "[[0 1 0 2 1 0 3 2 1 0]\n",
      " [0 1 0 2 1 0 3 2 1 0]\n",
      " [0 1 0 2 1 0 3 2 1 0]\n",
      " [0 1 0 2 1 0 3 2 1 0]\n",
      " [0 1 0 2 1 0 3 2 1 0]]\n",
      "[[0 0 1 2 0 1 3 0 2 1]\n",
      " [0 1 0 1 0 2 3 1 2 0]\n",
      " [0 0 1 1 0 2 2 3 1 0]\n",
      " [0 0 1 2 0 1 2 3 1 0]\n",
      " [0 1 0 1 2 0 0 1 2 3]]\n",
      "[[0 0 1 2 0 1 0 3 2 1]\n",
      " [0 1 0 2 1 0 2 0 3 1]\n",
      " [0 1 0 2 0 1 0 3 1 2]\n",
      " [0 0 1 0 1 2 1 2 3 0]\n",
      " [0 0 1 1 2 0 1 2 0 3]]\n",
      "[[0 0 1 2 0 1 0 1 2 3]\n",
      " [0 1 0 0 2 1 2 1 0 3]\n",
      " [0 1 0 2 0 1 2 3 0 1]\n",
      " [0 1 0 2 0 1 2 0 3 1]\n",
      " [0 1 0 2 0 1 1 0 2 3]]\n",
      "[[0 0 1 2 0 1 0 1 2 3]\n",
      " [0 1 0 0 2 1 2 1 0 3]\n",
      " [0 1 0 2 0 1 2 3 0 1]\n",
      " [0 1 0 2 0 1 2 0 3 1]\n",
      " [0 1 0 2 0 1 1 0 2 3]]\n"
     ]
    }
   ],
   "source": [
    "from collections import namedtuple\n",
    "\n",
    "CallSeqType = namedtuple('CallSeqType', [\n",
    "    'Default',\n",
    "    'Reversed',\n",
    "    'Random'\n",
    "])(*range(3))\n",
    "\n",
    "@njit(cache=True)\n",
    "def is_grouped_nb(group_counts):\n",
    "    \"\"\"Check if columns are grouped, that is, more than one column per group.\"\"\"\n",
    "    return np.any(group_counts > 1)\n",
    "\n",
    "@njit\n",
    "def shuffle_call_seq_nb(call_seq, group_counts, seed=None):\n",
    "    \"\"\"Shuffle the call sequence array.\"\"\"\n",
    "    from_col = 0\n",
    "    s = 0\n",
    "    for group in range(len(group_counts)):\n",
    "        to_col = from_col + group_counts[group]\n",
    "        n_cols = to_col - from_col\n",
    "        for i in range(call_seq.shape[0]):\n",
    "            if seed is not None:\n",
    "                np.random.seed(seed + s)\n",
    "                s += 1\n",
    "            np.random.shuffle(call_seq[i, from_col:to_col])\n",
    "        from_col = to_col\n",
    "\n",
    "@njit\n",
    "def build_call_seq_nb(target_shape, group_counts, call_seq_type=CallSeqType.Default, seed=None):\n",
    "    \"\"\"Build a new call sequence array.\"\"\"\n",
    "    if call_seq_type == CallSeqType.Reversed:\n",
    "        out = np.full(target_shape[1], 1, dtype=np.int_)\n",
    "        out[np.cumsum(group_counts)[1:] - group_counts[1:] - 1] -= group_counts[1:]\n",
    "        out = np.cumsum(out[::-1])[::-1] - 1\n",
    "        out = out * np.ones((target_shape[0], 1), dtype=np.int_)\n",
    "        return out\n",
    "    out = np.full(target_shape[1], 1, dtype=np.int_)\n",
    "    out[np.cumsum(group_counts)[:-1]] -= group_counts[:-1]\n",
    "    out = np.cumsum(out) - 1\n",
    "    out = out * np.ones((target_shape[0], 1), dtype=np.int_)\n",
    "    if call_seq_type == CallSeqType.Random:\n",
    "        shuffle_call_seq_nb(out, group_counts, seed=seed)\n",
    "    return out\n",
    "\n",
    "\n",
    "def require_call_seq(call_seq):\n",
    "    \"\"\"Force the call sequence array to pass our requirements.\"\"\"\n",
    "    return np.require(call_seq, dtype=np.int_, requirements=['A', 'O', 'W', 'F'])\n",
    "\n",
    "\n",
    "def build_call_seq(target_shape, group_counts, call_seq_type=CallSeqType.Default, seed=None):\n",
    "    \"\"\"Not compiled but faster version of `build_call_seq_nb`.\"\"\"\n",
    "    call_seq = np.full(target_shape[1], 1, dtype=np.int_)\n",
    "    if call_seq_type == CallSeqType.Reversed:\n",
    "        call_seq[np.cumsum(group_counts)[1:] - group_counts[1:] - 1] -= group_counts[1:]\n",
    "        call_seq = np.cumsum(call_seq[::-1])[::-1] - 1\n",
    "    else:\n",
    "        call_seq[np.cumsum(group_counts[:-1])] -= group_counts[:-1]\n",
    "        call_seq = np.cumsum(call_seq) - 1\n",
    "    call_seq = np.broadcast_to(call_seq, target_shape)\n",
    "    if call_seq_type == CallSeqType.Random:\n",
    "        call_seq = require_call_seq(call_seq)\n",
    "        shuffle_call_seq_nb(call_seq, group_counts, seed=seed)\n",
    "    return require_call_seq(call_seq)\n",
    "     \n",
    "\n",
    "print(build_call_seq_nb((5, 10), np.array([1, 2, 3, 4]), 0))\n",
    "print(build_call_seq_nb((5, 10), np.array([1, 2, 3, 4]), 1))\n",
    "print(build_call_seq_nb((5, 10), np.array([1, 2, 3, 4]), 2))\n",
    "print(build_call_seq_nb((5, 10), np.array([1, 2, 3, 4]), 2))\n",
    "print(build_call_seq_nb((5, 10), np.array([1, 2, 3, 4]), 2, seed=42))\n",
    "print(build_call_seq_nb((5, 10), np.array([1, 2, 3, 4]), 2, seed=42))"
   ]
  },
  {
   "cell_type": "code",
   "execution_count": 41,
   "metadata": {},
   "outputs": [],
   "source": [
    "a = np.full(500, 2)"
   ]
  },
  {
   "cell_type": "code",
   "execution_count": 80,
   "metadata": {},
   "outputs": [
    {
     "name": "stdout",
     "output_type": "stream",
     "text": [
      "1.78 ms ± 35.2 µs per loop (mean ± std. dev. of 7 runs, 100 loops each)\n",
      "1.98 ms ± 218 µs per loop (mean ± std. dev. of 7 runs, 1000 loops each)\n"
     ]
    }
   ],
   "source": [
    "%timeit build_call_seq_nb((1000, 1000), a, mode='default')\n",
    "%timeit build_call_seq_nb((1000, 1000), a, mode='reversed')"
   ]
  },
  {
   "cell_type": "code",
   "execution_count": 78,
   "metadata": {},
   "outputs": [
    {
     "name": "stdout",
     "output_type": "stream",
     "text": [
      "14.4 ms ± 135 µs per loop (mean ± std. dev. of 7 runs, 100 loops each)\n"
     ]
    }
   ],
   "source": [
    "%timeit build_call_seq_nb((1000, 1000), a, mode='random')"
   ]
  },
  {
   "cell_type": "code",
   "execution_count": 6,
   "metadata": {},
   "outputs": [
    {
     "name": "stdout",
     "output_type": "stream",
     "text": [
      "   col  idx       size  price      fees  side\n",
      "0    0    0  50.000000  1.001  1.050050     0\n",
      "1    0    1  48.303295  2.002  1.096703     0\n",
      "2    1    0  50.000000  1.001  1.050050     0\n",
      "3    2    0  50.000000  1.001  1.050050     0\n",
      "4    2    1  23.902147  2.002  1.047852     0\n",
      "[[148.89995  97.7999   48.89995]\n",
      " [  0.        0.        0.     ]\n",
      " [  0.        0.        0.     ]\n",
      " [  0.        0.        0.     ]\n",
      " [  0.        0.        0.     ]]\n",
      "[[50.         50.         50.        ]\n",
      " [98.30329511 50.         73.9021468 ]\n",
      " [98.30329511 50.         73.9021468 ]\n",
      " [98.30329511 50.         73.9021468 ]\n",
      " [98.30329511 50.         73.9021468 ]]\n"
     ]
    }
   ],
   "source": [
    "import numpy as np\n",
    "import pandas as pd\n",
    "from numba import njit\n",
    "from vectorbt.portfolio.nb import simulate_nb, empty_row_prep_nb, build_col_order\n",
    "from vectorbt.portfolio.enums import Order, SizeType\n",
    "\n",
    "price = np.array([1., 2., 3., 4., 5.])\n",
    "target_shape = (5, 3)\n",
    "group_counts = np.array([2, 1])  # two groups\n",
    "init_cash = np.array([200., 100.])  # per group if cash sharing\n",
    "cash_sharing = True\n",
    "col_order = build_col_order(target_shape)\n",
    "size = 50.\n",
    "fees = 0.001\n",
    "fixed_fees = 1.\n",
    "slippage = 0.001\n",
    "\n",
    "@njit\n",
    "def order_func_nb(oc):\n",
    "    return Order(\n",
    "        size,\n",
    "        SizeType.Shares,\n",
    "        price[oc.i],\n",
    "        fees,\n",
    "        fixed_fees,\n",
    "        slippage\n",
    "    )\n",
    "\n",
    "order_records, cash, shares = simulate_nb(\n",
    "    target_shape, group_counts, init_cash, cash_sharing, col_order, \n",
    "    empty_row_prep_nb, (), order_func_nb, ())\n",
    "\n",
    "print(pd.DataFrame.from_records(order_records))\n",
    "print(cash)\n",
    "print(shares)"
   ]
  },
  {
   "cell_type": "code",
   "execution_count": 19,
   "metadata": {},
   "outputs": [],
   "source": [
    "def build_col_order(target_shape):\n",
    "    \"\"\"Python function to build column order array.\"\"\"\n",
    "    return np.asfortranarray(np.broadcast_to(np.arange(target_shape[1]), target_shape))\n",
    "\n",
    "\n",
    "@njit(cache=True)\n",
    "def build_col_order_nb(target_shape):\n",
    "    \"\"\"Build column order array.\"\"\"\n",
    "    return np.asfortranarray(np.arange(target_shape[1]) * np.full((target_shape[0], 1), 1))"
   ]
  },
  {
   "cell_type": "code",
   "execution_count": 20,
   "metadata": {},
   "outputs": [
    {
     "name": "stdout",
     "output_type": "stream",
     "text": [
      "1.8 ms ± 95.4 µs per loop (mean ± std. dev. of 7 runs, 1000 loops each)\n"
     ]
    }
   ],
   "source": [
    "%timeit build_col_order((1000, 1000))"
   ]
  },
  {
   "cell_type": "code",
   "execution_count": 22,
   "metadata": {},
   "outputs": [
    {
     "name": "stdout",
     "output_type": "stream",
     "text": [
      "6.07 ms ± 101 µs per loop (mean ± std. dev. of 7 runs, 100 loops each)\n"
     ]
    }
   ],
   "source": [
    "%timeit build_col_order_nb((1000, 1000))"
   ]
  },
  {
   "cell_type": "code",
   "execution_count": 25,
   "metadata": {},
   "outputs": [
    {
     "name": "stdout",
     "output_type": "stream",
     "text": [
      "[[-10.1 -40.4 -10.1]\n",
      " [ -0.   -0.   -0. ]\n",
      " [ -0.   -0.   -0. ]\n",
      " [ 39.6   9.9   9.9]]\n",
      "[[189.9 149.5 139.4]\n",
      " [139.4 139.4 139.4]\n",
      " [139.4 139.4 139.4]\n",
      " [179.  188.9 198.8]]\n",
      "[[10. 10. 10.]\n",
      " [10. 10. 10.]\n",
      " [10. 10. 10.]\n",
      " [ 0.  0.  0.]]\n"
     ]
    }
   ],
   "source": [
    "fees = 0.01\n",
    "price = np.array([\n",
    "    [1., 4., 1.],\n",
    "    [2., 3., 1.],\n",
    "    [3., 2., 0.],\n",
    "    [4., 1., 1.]\n",
    "])\n",
    "shares_flow = np.array([\n",
    "    [10., 10., 10.],\n",
    "    [0., 0., 0.],\n",
    "    [0., 0., 0.],\n",
    "    [-10., -10., -10.]\n",
    "])\n",
    "cash_flow = -price * shares_flow\n",
    "cash_flow[cash_flow > 0]  = cash_flow[cash_flow > 0] * (1 - fees)\n",
    "cash_flow[cash_flow < 0]  = cash_flow[cash_flow < 0] * (1 + fees)\n",
    "init_cash = 200\n",
    "init_shares = 0\n",
    "cash = np.reshape(np.cumsum(cash_flow) + init_cash, cash_flow.shape)\n",
    "shares = np.cumsum(shares_flow, axis=0)\n",
    "print(cash_flow)\n",
    "print(cash)\n",
    "print(shares)"
   ]
  },
  {
   "cell_type": "code",
   "execution_count": 155,
   "metadata": {},
   "outputs": [],
   "source": [
    "group_counts_err = \"group_counts has incorrect total number of columns\"\n",
    "\n",
    "@njit\n",
    "def ungrouped_portfolio_value_nb(price, cash, shares, group_counts):\n",
    "    if np.sum(group_counts) != price.shape[1]:\n",
    "        raise ValueError(group_counts_err)\n",
    "    result = np.empty(price.shape, dtype=np.float_)\n",
    "    from_col = 0\n",
    "    for gc in range(len(group_counts)):\n",
    "        to_col = from_col + group_counts[gc]\n",
    "        n_cols = to_col - from_col\n",
    "        price_flat = price[:, from_col:to_col].flatten()\n",
    "        cash_flat = cash[:, from_col:to_col].flatten()\n",
    "        shares_flat = shares[:, from_col:to_col].flatten()\n",
    "        holding_value = 0.\n",
    "        \n",
    "        for j in range(price_flat.shape[0]):\n",
    "            if j >= n_cols:\n",
    "                prev_j = j - n_cols\n",
    "                holding_value -= shares_flat[prev_j] * price_flat[prev_j]\n",
    "            holding_value += shares_flat[j] * price_flat[j]\n",
    "            result[j // n_cols, from_col + j % n_cols] = cash_flat[j] + holding_value\n",
    "            \n",
    "        from_col = to_col\n",
    "    return result"
   ]
  },
  {
   "cell_type": "code",
   "execution_count": 161,
   "metadata": {},
   "outputs": [],
   "source": [
    "@njit(cache=True)\n",
    "def ungrouped_iter_returns_nb(iter_value, init_value, group_counts):\n",
    "    check_group_counts(iter_value.shape[1], group_counts)\n",
    "    result = np.empty(iter_value.shape, dtype=np.float_)\n",
    "    from_col = 0\n",
    "    for gc in range(len(group_counts)):\n",
    "        to_col = from_col + group_counts[gc]\n",
    "        n_cols = to_col - from_col\n",
    "        iter_value_flat = iter_value[:, from_col:to_col].flatten()\n",
    "        iter_returns_flat = np.empty(iter_value_flat.shape, dtype=np.float_)\n",
    "        iter_returns_flat[0] = (iter_value_flat[0] - init_value[gc]) / init_value[gc]\n",
    "        iter_returns_flat[1:] = (iter_value_flat[1:] - iter_value_flat[:-1]) / iter_value_flat[:-1]\n",
    "        result[:, from_col:to_col] = iter_returns_flat.reshape((iter_value.shape[0], n_cols))\n",
    "        from_col = to_col\n",
    "    return result"
   ]
  },
  {
   "cell_type": "code",
   "execution_count": 162,
   "metadata": {},
   "outputs": [
    {
     "ename": "TypeError",
     "evalue": "too many arguments: expected 3, got 4",
     "output_type": "error",
     "traceback": [
      "\u001b[0;31m---------------------------------------------------------------------------\u001b[0m",
      "\u001b[0;31mTypeError\u001b[0m                                 Traceback (most recent call last)",
      "\u001b[0;32m<ipython-input-162-c4c758a511d8>\u001b[0m in \u001b[0;36m<module>\u001b[0;34m\u001b[0m\n\u001b[0;32m----> 1\u001b[0;31m \u001b[0mungrouped_iter_returns_nb\u001b[0m\u001b[0;34m(\u001b[0m\u001b[0mprice\u001b[0m\u001b[0;34m,\u001b[0m \u001b[0mcash\u001b[0m\u001b[0;34m,\u001b[0m \u001b[0mshares\u001b[0m\u001b[0;34m,\u001b[0m \u001b[0mnp\u001b[0m\u001b[0;34m.\u001b[0m\u001b[0marray\u001b[0m\u001b[0;34m(\u001b[0m\u001b[0;34m[\u001b[0m\u001b[0;36m3\u001b[0m\u001b[0;34m]\u001b[0m\u001b[0;34m)\u001b[0m\u001b[0;34m)\u001b[0m\u001b[0;34m\u001b[0m\u001b[0;34m\u001b[0m\u001b[0m\n\u001b[0m",
      "\u001b[0;31mTypeError\u001b[0m: too many arguments: expected 3, got 4"
     ]
    }
   ],
   "source": [
    "ungrouped_iter_returns_nb(price, cash, shares, np.array([3]))"
   ]
  },
  {
   "cell_type": "code",
   "execution_count": 163,
   "metadata": {},
   "outputs": [],
   "source": [
    "def grouped_holding_value_nb(price, shares, group_counts):\n",
    "    if np.sum(group_counts) != price.shape[1]:\n",
    "        raise ValueError(group_counts_err)\n",
    "    result = np.empty((price.shape[0], len(group_counts)), dtype=np.float_)\n",
    "    from_col = 0\n",
    "    holding_value = shares * price\n",
    "    for gc in range(len(group_counts)):\n",
    "        to_col = from_col + group_counts[gc]\n",
    "        group_result = np.sum(holding_value[:, from_col:to_col], axis=1)\n",
    "        result[:, gc] = group_result\n",
    "        from_col = to_col\n",
    "    return result"
   ]
  },
  {
   "cell_type": "code",
   "execution_count": 164,
   "metadata": {},
   "outputs": [
    {
     "data": {
      "text/plain": [
       "array([[60.],\n",
       "       [60.],\n",
       "       [50.],\n",
       "       [ 0.]])"
      ]
     },
     "execution_count": 164,
     "metadata": {},
     "output_type": "execute_result"
    }
   ],
   "source": [
    "grouped_holding_value_nb(price, shares, np.array([3]))"
   ]
  },
  {
   "cell_type": "code",
   "execution_count": 165,
   "metadata": {},
   "outputs": [
    {
     "name": "stdout",
     "output_type": "stream",
     "text": [
      "21.6 ms ± 134 µs per loop (mean ± std. dev. of 7 runs, 10 loops each)\n"
     ]
    }
   ],
   "source": [
    "%timeit grouped_holding_value_nb(big_price, big_shares, np.full(1000, 1))"
   ]
  },
  {
   "cell_type": "code",
   "execution_count": 109,
   "metadata": {},
   "outputs": [],
   "source": [
    "@njit\n",
    "def grouped_has_shares_nb(shares, group_counts):\n",
    "    \"\"\"Return whether the group holds any shares.\"\"\"\n",
    "    if np.sum(group_counts) != shares.shape[1]:\n",
    "        raise ValueError(group_counts_err)\n",
    "    result = np.empty((shares.shape[0], len(group_counts)), dtype=np.bool_)\n",
    "    from_col = 0\n",
    "    for gc in range(len(group_counts)):\n",
    "        to_col = from_col + group_counts[gc]\n",
    "        n_cols = to_col - from_col\n",
    "        result[:, gc] = np.sum(shares[:, from_col:to_col], axis=1) > 0\n",
    "        from_col = to_col\n",
    "    return result"
   ]
  },
  {
   "cell_type": "code",
   "execution_count": 111,
   "metadata": {},
   "outputs": [
    {
     "data": {
      "text/plain": [
       "array([[ True],\n",
       "       [ True],\n",
       "       [ True],\n",
       "       [False]])"
      ]
     },
     "execution_count": 111,
     "metadata": {},
     "output_type": "execute_result"
    }
   ],
   "source": [
    "grouped_has_shares_nb(shares, np.array([3]))"
   ]
  },
  {
   "cell_type": "code",
   "execution_count": 112,
   "metadata": {},
   "outputs": [
    {
     "name": "stdout",
     "output_type": "stream",
     "text": [
      "8.61 ms ± 157 µs per loop (mean ± std. dev. of 7 runs, 100 loops each)\n"
     ]
    }
   ],
   "source": [
    "%timeit grouped_shares_sum_nb(big_shares, np.full(1000, 1))"
   ]
  },
  {
   "cell_type": "code",
   "execution_count": 61,
   "metadata": {},
   "outputs": [],
   "source": [
    "@njit\n",
    "def cash_flow_grouped_nb(cash, init_cash, group_counts):\n",
    "    if np.sum(group_counts) != cash.shape[1]:\n",
    "        raise ValueError(group_counts_err)\n",
    "    result = np.empty(cash.shape, dtype=np.float_)\n",
    "    from_col = 0\n",
    "    for gc in range(len(group_counts)):\n",
    "        to_col = from_col + group_counts[gc]\n",
    "        n_cols = to_col - from_col\n",
    "        cash_flat = cash[:, from_col:to_col].flatten()\n",
    "        cash_flow_flat = np.empty(cash_flat.shape, dtype=np.float_)\n",
    "        cash_flow_flat[0] = cash_flat[0] - init_cash[gc]\n",
    "        cash_flow_flat[1:] = cash_flat[1:] - cash_flat[:-1]\n",
    "        result[:, from_col:to_col] = np.reshape(cash_flow_flat, (cash.shape[0], n_cols))\n",
    "        from_col = to_col\n",
    "    return result"
   ]
  },
  {
   "cell_type": "code",
   "execution_count": 62,
   "metadata": {},
   "outputs": [
    {
     "data": {
      "text/plain": [
       "array([[-10.1, -40.4, -10.1],\n",
       "       [  0. ,   0. ,   0. ],\n",
       "       [  0. ,   0. ,   0. ],\n",
       "       [ 39.6,   9.9,   9.9]])"
      ]
     },
     "execution_count": 62,
     "metadata": {},
     "output_type": "execute_result"
    }
   ],
   "source": [
    "cash_flow_grouped_nb(cash, np.array([init_cash]), np.array([3]))"
   ]
  },
  {
   "cell_type": "code",
   "execution_count": 63,
   "metadata": {},
   "outputs": [
    {
     "name": "stdout",
     "output_type": "stream",
     "text": [
      "19.2 ms ± 630 µs per loop (mean ± std. dev. of 7 runs, 10 loops each)\n"
     ]
    }
   ],
   "source": [
    "%timeit cash_flow_grouped_nb(big_cash, np.full(1000, init_cash), np.full(1000, 1))"
   ]
  },
  {
   "cell_type": "code",
   "execution_count": 115,
   "metadata": {},
   "outputs": [],
   "source": [
    "from numba import njit\n",
    "\n",
    "@njit\n",
    "def get_running_equity(cash, shares, price):\n",
    "    running_equity = np.empty(cash.shape, dtype=np.float_)\n",
    "    cash_flat = cash.flatten()\n",
    "    shares_flat = shares.flatten()\n",
    "    price_flat = price.flatten()\n",
    "    holding_value = 0.\n",
    "    for i in range(price_flat.shape[0]):\n",
    "        if i >= price.shape[1]:\n",
    "            prev_i = i - price.shape[1]\n",
    "            holding_value -= shares_flat[prev_i] * price_flat[prev_i]\n",
    "        holding_value += shares_flat[i] * price_flat[i]\n",
    "        running_equity[i // price.shape[1], i % price.shape[1]] = cash_flat[i] + holding_value\n",
    "    return running_equity\n",
    "\n",
    "@njit\n",
    "def get_running_equity_diff(running_equity, price, init_cash, init_shares):\n",
    "    running_equity_diff = np.empty(cash.shape, dtype=np.float_)\n",
    "    running_equity_flat = running_equity.flatten()\n",
    "    price_flat = price.flatten()\n",
    "    for i in range(price_flat.shape[0]):\n",
    "        if i == 0:\n",
    "            prev_cash = init_cash\n",
    "            prev_shares = init_shares\n",
    "            prev_equity = prev_cash + prev_shares * price_flat[0]\n",
    "        else:\n",
    "            prev_equity = running_equity_flat[i - 1]\n",
    "        curr_equity = running_equity_flat[i]\n",
    "        running_equity_diff[i // price.shape[1], i % price.shape[1]] = curr_equity - prev_equity\n",
    "    return running_equity_diff\n",
    "\n",
    "@njit\n",
    "def get_running_returns(running_equity, price, init_cash, init_shares):\n",
    "    running_returns = np.empty(cash.shape, dtype=np.float_)\n",
    "    running_equity_flat = running_equity.flatten()\n",
    "    price_flat = price.flatten()\n",
    "    for i in range(price_flat.shape[0]):\n",
    "        if i == 0:\n",
    "            prev_cash = init_cash\n",
    "            prev_shares = init_shares\n",
    "            prev_equity = prev_cash + prev_shares * price_flat[0]\n",
    "        else:\n",
    "            prev_equity = running_equity_flat[i - 1]\n",
    "        curr_equity = running_equity_flat[i]\n",
    "        running_returns[i // price.shape[1], i % price.shape[1]] = (curr_equity - prev_equity) / prev_equity\n",
    "    return running_returns\n",
    "\n",
    "def get_cash_flow(cash, init_cash):\n",
    "    cash_flat = cash.flatten()\n",
    "    cash_flow_flat = np.empty(cash_flat.shape, dtype=np.float_)\n",
    "    cash_flow_flat[0] = cash_flat[0] - init_cash\n",
    "    cash_flow_flat[1:] = cash_flat[1:] - cash_flat[:-1]\n",
    "    return np.reshape(cash_flow_flat, cash.shape)\n",
    "\n",
    "def get_shares_flow(shares, init_shares):\n",
    "    shares_flow = np.empty(cash.shape, dtype=np.float_)\n",
    "    shares_flow[0, :] = shares[0, :] - init_shares\n",
    "    shares_flow[1:, :] = shares[1:, :] - shares[:-1, :]\n",
    "    return shares_flow\n",
    "\n",
    "def get_holding_value_flow(price, shares, init_shares):\n",
    "    holding_value_flow = np.empty(price.shape, dtype=np.float_)\n",
    "    holding_value_flow[0, :] = price[0, :] * (shares[0, :] - init_shares)\n",
    "    holding_value_flow[1:, :] = price[1:, :] * shares[1:, :] - price[:-1, :] * shares[:-1, :]\n",
    "    return holding_value_flow\n",
    "\n",
    "def get_prev_holding_value(price, shares, init_shares):\n",
    "    prev_holding_value = np.empty(price.shape, dtype=np.float_)\n",
    "    prev_holding_value[0, :] = price[0, :] * init_shares\n",
    "    prev_holding_value[1:, :] = price[:-1, :] * shares[:-1, :]\n",
    "    return prev_holding_value\n",
    "\n",
    "def get_prev_holding_value_now(price, shares, init_shares):\n",
    "    prev_holding_value_now = np.empty(price.shape, dtype=np.float_)\n",
    "    prev_holding_value_now[0, :] = init_shares\n",
    "    prev_holding_value_now[1:, :] = shares[:-1, :]\n",
    "    return prev_holding_value_now * price"
   ]
  },
  {
   "cell_type": "code",
   "execution_count": 116,
   "metadata": {},
   "outputs": [
    {
     "name": "stdout",
     "output_type": "stream",
     "text": [
      "[[189.9 149.5 139.4]\n",
      " [139.4 139.4 139.4]\n",
      " [139.4 139.4 139.4]\n",
      " [179.  188.9 198.8]]\n",
      "[[10. 10. 10.]\n",
      " [10. 10. 10.]\n",
      " [10. 10. 10.]\n",
      " [ 0.  0.  0.]]\n",
      "[[1. 4. 1.]\n",
      " [2. 3. 1.]\n",
      " [3. 2. 0.]\n",
      " [4. 1. 1.]]\n"
     ]
    }
   ],
   "source": [
    "print(cash)\n",
    "print(shares)\n",
    "print(price)"
   ]
  },
  {
   "cell_type": "code",
   "execution_count": 117,
   "metadata": {},
   "outputs": [
    {
     "data": {
      "text/plain": [
       "array([[199.9, 199.5, 199.4],\n",
       "       [209.4, 199.4, 199.4],\n",
       "       [209.4, 199.4, 189.4],\n",
       "       [199. , 188.9, 198.8]])"
      ]
     },
     "execution_count": 117,
     "metadata": {},
     "output_type": "execute_result"
    }
   ],
   "source": [
    "running_equity = get_running_equity(cash, shares, price)\n",
    "running_equity"
   ]
  },
  {
   "cell_type": "code",
   "execution_count": 118,
   "metadata": {},
   "outputs": [
    {
     "data": {
      "text/plain": [
       "array([[ -0.1,  -0.4,  -0.1],\n",
       "       [ 10. , -10. ,   0. ],\n",
       "       [ 10. , -10. , -10. ],\n",
       "       [  9.6, -10.1,   9.9]])"
      ]
     },
     "execution_count": 118,
     "metadata": {},
     "output_type": "execute_result"
    }
   ],
   "source": [
    "running_equity_diff = get_running_equity_diff(running_equity, price, init_cash, init_shares)\n",
    "running_equity_diff"
   ]
  },
  {
   "cell_type": "code",
   "execution_count": 119,
   "metadata": {},
   "outputs": [
    {
     "data": {
      "text/plain": [
       "array([[-0.0005    , -0.002001  , -0.00050125],\n",
       "       [ 0.05015045, -0.04775549,  0.        ],\n",
       "       [ 0.05015045, -0.04775549, -0.05015045],\n",
       "       [ 0.05068638, -0.05075377,  0.05240868]])"
      ]
     },
     "execution_count": 119,
     "metadata": {},
     "output_type": "execute_result"
    }
   ],
   "source": [
    "running_returns = get_running_returns(running_equity, price, init_cash, init_shares)\n",
    "running_returns"
   ]
  },
  {
   "cell_type": "code",
   "execution_count": 120,
   "metadata": {},
   "outputs": [
    {
     "data": {
      "text/plain": [
       "array([[-10.1, -40.4, -10.1],\n",
       "       [  0. ,   0. ,   0. ],\n",
       "       [  0. ,   0. ,   0. ],\n",
       "       [ 39.6,   9.9,   9.9]])"
      ]
     },
     "execution_count": 120,
     "metadata": {},
     "output_type": "execute_result"
    }
   ],
   "source": [
    "cash_flow = get_cash_flow(cash, init_cash)\n",
    "cash_flow"
   ]
  },
  {
   "cell_type": "code",
   "execution_count": 121,
   "metadata": {},
   "outputs": [
    {
     "data": {
      "text/plain": [
       "array([[199.9, 199.6, 199.9],\n",
       "       [209.9, 189.6, 199.9],\n",
       "       [219.9, 179.6, 189.9],\n",
       "       [229.5, 169.5, 199.8]])"
      ]
     },
     "execution_count": 121,
     "metadata": {},
     "output_type": "execute_result"
    }
   ],
   "source": [
    "equity = init_cash + np.cumsum(cash_flow, axis=0) + shares * price\n",
    "equity"
   ]
  },
  {
   "cell_type": "code",
   "execution_count": 122,
   "metadata": {},
   "outputs": [
    {
     "data": {
      "text/html": [
       "<div>\n",
       "<style scoped>\n",
       "    .dataframe tbody tr th:only-of-type {\n",
       "        vertical-align: middle;\n",
       "    }\n",
       "\n",
       "    .dataframe tbody tr th {\n",
       "        vertical-align: top;\n",
       "    }\n",
       "\n",
       "    .dataframe thead th {\n",
       "        text-align: right;\n",
       "    }\n",
       "</style>\n",
       "<table border=\"1\" class=\"dataframe\">\n",
       "  <thead>\n",
       "    <tr style=\"text-align: right;\">\n",
       "      <th></th>\n",
       "      <th>0</th>\n",
       "      <th>1</th>\n",
       "      <th>2</th>\n",
       "    </tr>\n",
       "  </thead>\n",
       "  <tbody>\n",
       "    <tr>\n",
       "      <th>0</th>\n",
       "      <td>NaN</td>\n",
       "      <td>NaN</td>\n",
       "      <td>NaN</td>\n",
       "    </tr>\n",
       "    <tr>\n",
       "      <th>1</th>\n",
       "      <td>0.050025</td>\n",
       "      <td>-0.050100</td>\n",
       "      <td>0.000000</td>\n",
       "    </tr>\n",
       "    <tr>\n",
       "      <th>2</th>\n",
       "      <td>0.047642</td>\n",
       "      <td>-0.052743</td>\n",
       "      <td>-0.050025</td>\n",
       "    </tr>\n",
       "    <tr>\n",
       "      <th>3</th>\n",
       "      <td>0.043656</td>\n",
       "      <td>-0.056236</td>\n",
       "      <td>0.052133</td>\n",
       "    </tr>\n",
       "  </tbody>\n",
       "</table>\n",
       "</div>"
      ],
      "text/plain": [
       "          0         1         2\n",
       "0       NaN       NaN       NaN\n",
       "1  0.050025 -0.050100  0.000000\n",
       "2  0.047642 -0.052743 -0.050025\n",
       "3  0.043656 -0.056236  0.052133"
      ]
     },
     "execution_count": 122,
     "metadata": {},
     "output_type": "execute_result"
    }
   ],
   "source": [
    "pd.DataFrame(equity).pct_change(axis=0)"
   ]
  },
  {
   "cell_type": "code",
   "execution_count": 123,
   "metadata": {},
   "outputs": [
    {
     "data": {
      "text/plain": [
       "array([[ 0.,  0.,  0.],\n",
       "       [20., 30., 10.],\n",
       "       [30., 20.,  0.],\n",
       "       [40., 10., 10.]])"
      ]
     },
     "execution_count": 123,
     "metadata": {},
     "output_type": "execute_result"
    }
   ],
   "source": [
    "prev_holding_value_now = get_prev_holding_value_now(price, shares, init_shares)\n",
    "prev_holding_value_now"
   ]
  },
  {
   "cell_type": "code",
   "execution_count": 124,
   "metadata": {},
   "outputs": [
    {
     "ename": "NameError",
     "evalue": "name 'curr_holding_value' is not defined",
     "output_type": "error",
     "traceback": [
      "\u001b[0;31m---------------------------------------------------------------------------\u001b[0m",
      "\u001b[0;31mNameError\u001b[0m                                 Traceback (most recent call last)",
      "\u001b[0;32m<ipython-input-124-783012902b28>\u001b[0m in \u001b[0;36m<module>\u001b[0;34m\u001b[0m\n\u001b[0;32m----> 1\u001b[0;31m \u001b[0mcosts\u001b[0m \u001b[0;34m=\u001b[0m \u001b[0mcurr_holding_value\u001b[0m \u001b[0;34m-\u001b[0m \u001b[0mprev_holding_value_now\u001b[0m \u001b[0;34m+\u001b[0m \u001b[0mcash_flow\u001b[0m\u001b[0;34m\u001b[0m\u001b[0;34m\u001b[0m\u001b[0m\n\u001b[0m\u001b[1;32m      2\u001b[0m \u001b[0mcosts\u001b[0m\u001b[0;34m\u001b[0m\u001b[0;34m\u001b[0m\u001b[0m\n",
      "\u001b[0;31mNameError\u001b[0m: name 'curr_holding_value' is not defined"
     ]
    }
   ],
   "source": [
    "costs = curr_holding_value - prev_holding_value_now + cash_flow\n",
    "costs"
   ]
  },
  {
   "cell_type": "code",
   "execution_count": 131,
   "metadata": {},
   "outputs": [
    {
     "data": {
      "text/plain": [
       "array([[10.1, 40.4, 10.1],\n",
       "       [10. , 40. , 10. ],\n",
       "       [20. , 30. , 10. ],\n",
       "       [30. , 20. ,  0. ]])"
      ]
     },
     "execution_count": 131,
     "metadata": {},
     "output_type": "execute_result"
    }
   ],
   "source": [
    "input_value = get_prev_holding_value(price, shares, init_shares)\n",
    "input_value[cash_flow < 0] += -cash_flow[cash_flow < 0]\n",
    "input_value"
   ]
  },
  {
   "cell_type": "code",
   "execution_count": 132,
   "metadata": {},
   "outputs": [
    {
     "data": {
      "text/plain": [
       "array([[10. , 40. , 10. ],\n",
       "       [20. , 30. , 10. ],\n",
       "       [30. , 20. ,  0. ],\n",
       "       [39.6,  9.9,  9.9]])"
      ]
     },
     "execution_count": 132,
     "metadata": {},
     "output_type": "execute_result"
    }
   ],
   "source": [
    "output_value = shares * price\n",
    "output_value[cash_flow > 0] += cash_flow[cash_flow > 0]\n",
    "output_value"
   ]
  },
  {
   "cell_type": "code",
   "execution_count": 133,
   "metadata": {},
   "outputs": [
    {
     "name": "stderr",
     "output_type": "stream",
     "text": [
      "/Users/olegpolakow/miniconda3/lib/python3.7/site-packages/ipykernel_launcher.py:1: RuntimeWarning: divide by zero encountered in true_divide\n",
      "  \"\"\"Entry point for launching an IPython kernel.\n"
     ]
    },
    {
     "data": {
      "text/plain": [
       "array([[-0.00990099, -0.00990099, -0.00990099],\n",
       "       [ 1.        , -0.25      ,  0.        ],\n",
       "       [ 0.5       , -0.33333333, -1.        ],\n",
       "       [ 0.32      , -0.505     ,         inf]])"
      ]
     },
     "execution_count": 133,
     "metadata": {},
     "output_type": "execute_result"
    }
   ],
   "source": [
    "returns = (output_value - input_value) / input_value\n",
    "returns"
   ]
  },
  {
   "cell_type": "code",
   "execution_count": null,
   "metadata": {},
   "outputs": [],
   "source": []
  },
  {
   "cell_type": "code",
   "execution_count": null,
   "metadata": {},
   "outputs": [],
   "source": []
  },
  {
   "cell_type": "code",
   "execution_count": null,
   "metadata": {},
   "outputs": [],
   "source": []
  }
 ],
 "metadata": {
  "kernelspec": {
   "display_name": "Python 3",
   "language": "python",
   "name": "python3"
  },
  "language_info": {
   "codemirror_mode": {
    "name": "ipython",
    "version": 3
   },
   "file_extension": ".py",
   "mimetype": "text/x-python",
   "name": "python",
   "nbconvert_exporter": "python",
   "pygments_lexer": "ipython3",
   "version": "3.7.3"
  },
  "widgets": {
   "application/vnd.jupyter.widget-state+json": {
    "state": {},
    "version_major": 2,
    "version_minor": 0
   }
  }
 },
 "nbformat": 4,
 "nbformat_minor": 4
}
