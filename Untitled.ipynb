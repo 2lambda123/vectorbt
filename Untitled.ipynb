{
 "cells": [
  {
   "cell_type": "code",
   "execution_count": 1,
   "metadata": {},
   "outputs": [],
   "source": [
    ">>> import numpy as np\n",
    ">>> import pandas as pd\n",
    ">>> from numba import njit\n",
    ">>> from collections import namedtuple\n",
    ">>> import vectorbt as vbt\n",
    "\n",
    ">>> example_dt = np.dtype([\n",
    "...     ('col', np.int64),\n",
    "...     ('idx', np.int64),\n",
    "...     ('some_field', np.float64)\n",
    "... ])\n",
    ">>> records_arr = np.array([\n",
    "...     (0, 0, 10.),\n",
    "...     (0, 1, 11.),\n",
    "...     (0, 2, 12.),\n",
    "...     (1, 0, 13.),\n",
    "...     (1, 1, 14.),\n",
    "...     (1, 2, 15.),\n",
    "...     (2, 0, 16.),\n",
    "...     (2, 1, 17.),\n",
    "...     (2, 2, 18.)\n",
    "... ], dtype=example_dt)\n",
    ">>> wrapper = vbt.ArrayWrapper(index=['x', 'y', 'z'],\n",
    "...     columns=['a', 'b', 'c'], ndim=2, freq='1 day')\n",
    ">>> records = vbt.Records(wrapper, records_arr)"
   ]
  },
  {
   "cell_type": "code",
   "execution_count": 6,
   "metadata": {},
   "outputs": [
    {
     "name": "stdout",
     "output_type": "stream",
     "text": [
      "   first  second\n",
      "0   10.0    16.0\n",
      "1   11.0    17.0\n",
      "2   12.0    18.0\n",
      "3   13.0     NaN\n",
      "4   14.0     NaN\n",
      "5   15.0     NaN\n"
     ]
    }
   ],
   "source": [
    ">>> print(ma.stack(group_by=np.array(['first', 'first', 'second'])))"
   ]
  },
  {
   "cell_type": "code",
   "execution_count": null,
   "metadata": {},
   "outputs": [],
   "source": []
  }
 ],
 "metadata": {
  "kernelspec": {
   "display_name": "Python 3",
   "language": "python",
   "name": "python3"
  },
  "language_info": {
   "codemirror_mode": {
    "name": "ipython",
    "version": 3
   },
   "file_extension": ".py",
   "mimetype": "text/x-python",
   "name": "python",
   "nbconvert_exporter": "python",
   "pygments_lexer": "ipython3",
   "version": "3.7.3"
  },
  "widgets": {
   "application/vnd.jupyter.widget-state+json": {
    "state": {},
    "version_major": 2,
    "version_minor": 0
   }
  }
 },
 "nbformat": 4,
 "nbformat_minor": 4
}
