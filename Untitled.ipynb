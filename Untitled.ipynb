{
 "cells": [
  {
   "cell_type": "code",
   "execution_count": 2,
   "metadata": {},
   "outputs": [],
   "source": [
    "import vectorbt as vbt\n",
    "import numpy as np\n",
    "import pandas as pd\n",
    "from numba import njit\n",
    "from datetime import datetime\n",
    "\n",
    "index = pd.Index([\n",
    "    datetime(2018, 1, 1),\n",
    "    datetime(2018, 1, 2),\n",
    "    datetime(2018, 1, 3),\n",
    "    datetime(2018, 1, 4),\n",
    "    datetime(2018, 1, 5)\n",
    "])\n",
    "price = pd.Series([1, 2, 3, 2, 1], index=index, name='a')"
   ]
  },
  {
   "cell_type": "code",
   "execution_count": 3,
   "metadata": {},
   "outputs": [],
   "source": [
    ">>> entries = pd.DataFrame({\n",
    "...     'a': [True, False, False, False, False],\n",
    "...     'b': [True, True, True, True, True],\n",
    "...     'c': [True, False, True, False, True]\n",
    "... }, index=index)\n",
    ">>> exits = pd.DataFrame({\n",
    "...     'a': [False, False, False, False, False],\n",
    "...     'b': [False, False, False, False, False],\n",
    "...     'c': [False, True, False, True, False]\n",
    "... }, index=index)\n",
    "\n",
    ">>> portfolio = vbt.Portfolio.from_signals(price, entries, \n",
    "...     exits, amount=10, init_capital=100, fees=0.0025)"
   ]
  },
  {
   "cell_type": "code",
   "execution_count": 4,
   "metadata": {},
   "outputs": [],
   "source": [
    "def list_properties(hierarchy):\n",
    "    \"\"\"List all attributes in the nested dict `hierarchy`.\"\"\"\n",
    "    attrs = []\n",
    "    for k, v in hierarchy.items():\n",
    "        if 'children' in v:\n",
    "            v_attrs = list_properties(v['children'])\n",
    "            v_attrs = [{\n",
    "                'attr': k + '.' + d['attr'], \n",
    "                'name': v['name'] + ' - ' + d['name'], \n",
    "                'format': d['format']\n",
    "            } for d in v_attrs]\n",
    "            attrs.extend(v_attrs)\n",
    "        else:\n",
    "            attrs.append({'attr': k, 'name': v['name'], 'format': v['format']})\n",
    "    return attrs\n",
    "\n",
    "metric_hierarchy = vbt.portfolio.common.traverse_metrics(vbt.Portfolio)\n",
    "metrics = list_properties(metric_hierarchy)\n",
    "metric_dict = {d['attr']: d for d in metrics}"
   ]
  },
  {
   "cell_type": "code",
   "execution_count": 37,
   "metadata": {},
   "outputs": [
    {
     "data": {
      "application/vnd.jupyter.widget-view+json": {
       "model_id": "c9f30463b6644ce0be636b29ce60927c",
       "version_major": 2,
       "version_minor": 0
      },
      "text/plain": [
       "Container(children=[Toolbar(children=[Autocomplete(my_items=[{'attr': 'alpha', 'name': 'Annualized alpha', 'fo…"
      ]
     },
     "metadata": {},
     "output_type": "display_data"
    }
   ],
   "source": [
    "import ipyvuetify as v\n",
    "from operator import attrgetter\n",
    "import traitlets\n",
    "\n",
    "class Autocomplete(v.VuetifyTemplate):\n",
    "    my_items=traitlets.List(metrics).tag(sync=True)\n",
    "\n",
    "    selected_item = traitlets.Unicode(allow_none=True).tag(sync=True)\n",
    "\n",
    "    template = traitlets.Unicode(f'''\n",
    "        <template>\n",
    "            <v-autocomplete\n",
    "                v-model=\"selected_item\"\n",
    "                class=\"ma-5\"\n",
    "                :items=\"my_items\"\n",
    "                item-text=\"name\"\n",
    "                item-value=\"attr\"\n",
    "                dense\n",
    "                label=\"Select metrics\"\n",
    "                prepend-icon=\"mdi-speedometer\"\n",
    "                hide-details\n",
    "                solo\n",
    "            >\n",
    "                <template v-slot:item=\"x\">\n",
    "                    <v-list-item-content>\n",
    "                        <v-list-item-title>\n",
    "                            {{{{ x.item.name }}}}\n",
    "                        </v-list-item-title>\n",
    "                    </v-list-item-content>\n",
    "                    <template v-if=\"x.item.format === '{vbt.portfolio.Format.Percent}'\">\n",
    "                        <v-list-item-active>\n",
    "                            <v-icon small>mdi-percent</v-icon>\n",
    "                        </v-list-item-active>\n",
    "                    </template>\n",
    "                    <template v-if=\"x.item.format === '{vbt.portfolio.Format.Currency}'\">\n",
    "                        <v-list-item-active>\n",
    "                            <v-icon small>mdi-currency-usd</v-icon>\n",
    "                        </v-list-item-active>\n",
    "                    </template>\n",
    "                    <template v-if=\"x.item.format === '{vbt.portfolio.Format.Time}'\">\n",
    "                        <v-list-item-active>\n",
    "                            <v-icon small>mdi-timer</v-icon>\n",
    "                        </v-list-item-active>\n",
    "                    </template>\n",
    "                </template>\n",
    "            </v-autocomplete>\n",
    "        </template>\n",
    "    ''').tag(sync=True)\n",
    "    \n",
    "autocomplete = Autocomplete()\n",
    "\n",
    "plotly_container = v.Container()\n",
    "btn = v.Btn(children=[\n",
    "    v.Icon(left=True, children=[\n",
    "        'mdi-update'\n",
    "    ]),\n",
    "    'Update'\n",
    "])\n",
    "\n",
    "def on_change(widget, event, data):\n",
    "    attr = autocomplete.selected_item\n",
    "    if attr is None:\n",
    "        plotly_container.children = []\n",
    "    else:\n",
    "        name = metric_dict[attr]['name']\n",
    "        metric = attrgetter(attr)(portfolio)\n",
    "        df = pd.DataFrame({name: metric})\n",
    "        plotly_container.children = [df.vbt.Histogram(\n",
    "            xaxis_title=name,\n",
    "            yaxis_title='Count',\n",
    "            width=None, \n",
    "            height=None, \n",
    "            autosize=True,\n",
    "            showlegend=False\n",
    "        )]\n",
    "    \n",
    "btn.on_event('click', on_change)\n",
    "\n",
    "v.Container(children=[\n",
    "    v.Toolbar(class_='ma-5', color=\"orange accent-1\", children=[\n",
    "        autocomplete,\n",
    "        btn\n",
    "    ]),\n",
    "    plotly_container\n",
    "])"
   ]
  },
  {
   "cell_type": "code",
   "execution_count": 17,
   "metadata": {},
   "outputs": [
    {
     "name": "stdout",
     "output_type": "stream",
     "text": [
      "42.1 µs ± 3.89 µs per loop (mean ± std. dev. of 7 runs, 10000 loops each)\n"
     ]
    }
   ],
   "source": [
    "%timeit empyrical.cum_returns(portfolio.returns.values)"
   ]
  },
  {
   "cell_type": "code",
   "execution_count": 18,
   "metadata": {},
   "outputs": [
    {
     "name": "stdout",
     "output_type": "stream",
     "text": [
      "1.56 ms ± 17.7 µs per loop (mean ± std. dev. of 7 runs, 1000 loops each)\n"
     ]
    }
   ],
   "source": [
    "%timeit empyrical.cum_returns(portfolio.returns)"
   ]
  },
  {
   "cell_type": "code",
   "execution_count": 21,
   "metadata": {},
   "outputs": [
    {
     "data": {
      "text/plain": [
       "DatetimeIndex(['2018-01-01', '2018-01-02', '2018-01-03', '2018-01-04',\n",
       "               '2018-01-05'],\n",
       "              dtype='datetime64[ns]', freq=None)"
      ]
     },
     "execution_count": 21,
     "metadata": {},
     "output_type": "execute_result"
    }
   ],
   "source": [
    "portfolio.equity.index"
   ]
  },
  {
   "cell_type": "code",
   "execution_count": 106,
   "metadata": {},
   "outputs": [
    {
     "data": {
      "text/plain": [
       "a      NaT\n",
       "b      NaT\n",
       "c   1 days\n",
       "dtype: timedelta64[ns]"
      ]
     },
     "execution_count": 106,
     "metadata": {},
     "output_type": "execute_result"
    }
   ],
   "source": [
    "portfolio.closed_positions.losing.max_duration"
   ]
  },
  {
   "cell_type": "code",
   "execution_count": 11,
   "metadata": {},
   "outputs": [
    {
     "data": {
      "text/plain": [
       "Timedelta('1 days 00:00:00')"
      ]
     },
     "execution_count": 11,
     "metadata": {},
     "output_type": "execute_result"
    }
   ],
   "source": [
    "(price.index[1:] - price.index[:-1]).min()"
   ]
  },
  {
   "cell_type": "code",
   "execution_count": 1,
   "metadata": {},
   "outputs": [
    {
     "name": "stderr",
     "output_type": "stream",
     "text": [
      "/Users/olegpolakow/Documents/SourceTree/vectorbt/vectorbt/utils/accessors.py:255: RuntimeWarning: invalid value encountered in greater\n",
      "  result = combine_func(new_obj_arr, new_other_arr, *args, **kwargs)\n",
      "/Users/olegpolakow/Documents/SourceTree/vectorbt/vectorbt/utils/accessors.py:255: RuntimeWarning: invalid value encountered in less\n",
      "  result = combine_func(new_obj_arr, new_other_arr, *args, **kwargs)\n"
     ]
    },
    {
     "data": {
      "application/vnd.jupyter.widget-view+json": {
       "model_id": "7b1bd544aa27433098d94252544a71a3",
       "version_major": 2,
       "version_minor": 0
      },
      "text/plain": [
       "Heatmap({\n",
       "    'data': [{'colorbar': {'title': {'text': 'Total return in %'}},\n",
       "              'colorscale': [[0.…"
      ]
     },
     "metadata": {},
     "output_type": "display_data"
    }
   ],
   "source": [
    "import vectorbt as vbt\n",
    "import numpy as np\n",
    "import yfinance as yf\n",
    "\n",
    "# Define params\n",
    "windows = np.arange(2, 101)\n",
    "init_capital = 100 # in $\n",
    "fees = 0.001 # in %\n",
    "\n",
    "# Prepare data\n",
    "ticker = yf.Ticker(\"BTC-USD\")\n",
    "price = ticker.history(period=\"max\")['Close']\n",
    "\n",
    "# Generate signals\n",
    "fast_ma, slow_ma = vbt.MA.from_combinations(price, windows, 2)\n",
    "entries = fast_ma.ma_above(slow_ma, crossover=True)\n",
    "exits = fast_ma.ma_below(slow_ma, crossover=True)\n",
    "\n",
    "# Calculate performance\n",
    "portfolio = vbt.Portfolio.from_signals(price, entries, exits, init_capital=init_capital, fees=fees)\n",
    "performance = portfolio.total_return * 100\n",
    "\n",
    "# Plot heatmap\n",
    "perf_matrix = performance.vbt.unstack_to_df(\n",
    "    index_levels='ma1_window', \n",
    "    column_levels='ma2_window', \n",
    "    symmetric=True)\n",
    "perf_matrix.vbt.Heatmap(\n",
    "    xaxis_title='Slow window', \n",
    "    yaxis_title='Fast window', \n",
    "    trace_kwargs=dict(colorbar=dict(title='Total return in %')),\n",
    "    width=600, height=450)"
   ]
  },
  {
   "cell_type": "code",
   "execution_count": 11,
   "metadata": {},
   "outputs": [],
   "source": [
    "open_price = price * 0.1\n",
    "close_price = price\n",
    "price = np.where(\n",
    "    entries, \n",
    "    vbt.utils.reshape_fns.broadcast_to(open_price, entries),\n",
    "    vbt.utils.reshape_fns.broadcast_to(close_price, entries))"
   ]
  },
  {
   "cell_type": "code",
   "execution_count": 12,
   "metadata": {},
   "outputs": [
    {
     "data": {
      "text/plain": [
       "array([[ 457.33 ,  457.33 ,  457.33 , ...,  457.33 ,  457.33 ,  457.33 ],\n",
       "       [ 424.44 ,  424.44 ,  424.44 , ...,  424.44 ,  424.44 ,  424.44 ],\n",
       "       [ 394.8  ,  394.8  ,  394.8  , ...,  394.8  ,  394.8  ,  394.8  ],\n",
       "       ...,\n",
       "       [9377.01 , 9377.01 , 9377.01 , ..., 9377.01 , 9377.01 , 9377.01 ],\n",
       "       [ 967.074, 9670.74 , 9670.74 , ..., 9670.74 , 9670.74 , 9670.74 ],\n",
       "       [9717.23 ,  971.723, 9717.23 , ..., 9717.23 , 9717.23 , 9717.23 ]])"
      ]
     },
     "execution_count": 12,
     "metadata": {},
     "output_type": "execute_result"
    }
   ],
   "source": [
    "price"
   ]
  },
  {
   "cell_type": "code",
   "execution_count": 34,
   "metadata": {},
   "outputs": [
    {
     "name": "stdout",
     "output_type": "stream",
     "text": [
      "amount set\n",
      "1.0\n",
      "amount set\n",
      "2.0\n",
      "amount set\n",
      "2.0\n",
      "amount set\n",
      "2.0\n",
      "amount set\n",
      "2.0\n",
      "amount set\n",
      "2.0\n",
      "amount set\n",
      "2.0\n",
      "amount set\n",
      "2.0\n",
      "amount set\n",
      "2.0\n",
      "amount set\n",
      "2.0\n"
     ]
    }
   ],
   "source": [
    "from numba.typed import Dict\n",
    "from numba import njit\n",
    "from numba.types import float_\n",
    "\n",
    "@njit\n",
    "def Order(amount, price, fees=0., slippage=0.):\n",
    "    order = Dict()\n",
    "    order['amount'] = float(amount)\n",
    "    order['price'] = float(price)\n",
    "    order['fees'] = float(fees)\n",
    "    order['slippage'] = float(slippage)\n",
    "    return order\n",
    "\n",
    "@njit\n",
    "def h(col, i, run_cash, run_shares):\n",
    "    if i == 0:\n",
    "        return Order(2)\n",
    "    else:\n",
    "        return Order(3, price=2.)\n",
    "    \n",
    "@njit\n",
    "def f(n):\n",
    "    price = 1.\n",
    "    for i in range(n):\n",
    "        order = h(i)\n",
    "        if 'amount' in order:\n",
    "            print('amount set')\n",
    "        if 'price' in order:\n",
    "            new_price = order['price']\n",
    "        else:\n",
    "            new_price = price\n",
    "        print(new_price)\n",
    "        \n",
    "f(10)"
   ]
  },
  {
   "cell_type": "code",
   "execution_count": 54,
   "metadata": {},
   "outputs": [
    {
     "name": "stdout",
     "output_type": "stream",
     "text": [
      "[] []\n",
      "[100] [7]\n",
      "[100, 50] [7, 8]\n",
      "[100, 50, 30] [7, 8, 9]\n",
      "[0.5555555555555556, 0.2777777777777778, 0.16666666666666666] [7, 8, 9]\n",
      "[0.5555555555555556, 0.2777777777777778, 0.16666666666666666, 10] [7, 8, 9, 20]\n",
      "550.0\n"
     ]
    }
   ],
   "source": [
    "buy_size = []\n",
    "buy_price = []\n",
    "size = [100, 50, 30, -179, 10, -11]\n",
    "price = [7, 8, 9, 10, 20, 30]\n",
    "pnl = 0\n",
    "for i in range(len(size)):\n",
    "    print(buy_size, buy_price)\n",
    "    if size[i] > 0:\n",
    "        buy_size.append(size[i])\n",
    "        buy_price.append(price[i])\n",
    "    elif size[i] < 0:\n",
    "        avg_price = []\n",
    "        for j in range(len(buy_size)):\n",
    "            avg_price.append(buy_price[j] * buy_size[j] / sum(buy_size))\n",
    "        avg_price = sum(avg_price)\n",
    "        pnl += price[i]*abs(size[i]) - avg_price*abs(size[i])\n",
    "        sum_buy_size = sum(buy_size)\n",
    "        for j in range(len(buy_size)):\n",
    "            buy_size[j] = buy_size[j] * (sum_buy_size - abs(size[i])) / sum_buy_size\n",
    "print(pnl)"
   ]
  },
  {
   "cell_type": "code",
   "execution_count": 10,
   "metadata": {},
   "outputs": [
    {
     "data": {
      "text/plain": [
       "(700, 400, 270, -1790, 200, -330)"
      ]
     },
     "execution_count": 10,
     "metadata": {},
     "output_type": "execute_result"
    }
   ],
   "source": [
    "100*7, 50*8, 30*9, -179*10, 10*20, -11*30"
   ]
  },
  {
   "cell_type": "code",
   "execution_count": 7,
   "metadata": {},
   "outputs": [
    {
     "data": {
      "text/plain": [
       "7.611111111111111"
      ]
     },
     "execution_count": 7,
     "metadata": {},
     "output_type": "execute_result"
    }
   ],
   "source": [
    "avg_price = (100*7 + 50*8 + 30*9) / (100+50+30)\n",
    "avg_price"
   ]
  },
  {
   "cell_type": "code",
   "execution_count": 8,
   "metadata": {},
   "outputs": [
    {
     "data": {
      "text/plain": [
       "427.6111111111111"
      ]
     },
     "execution_count": 8,
     "metadata": {},
     "output_type": "execute_result"
    }
   ],
   "source": [
    "179*10 - 179*avg_price"
   ]
  },
  {
   "cell_type": "code",
   "execution_count": 19,
   "metadata": {},
   "outputs": [
    {
     "data": {
      "text/plain": [
       "18.873737373737374"
      ]
     },
     "execution_count": 19,
     "metadata": {},
     "output_type": "execute_result"
    }
   ],
   "source": [
    "avg_price2 = (avg_price * (100+50+30-179) + 10*20) / (100+50+30-179+10)\n",
    "avg_price2"
   ]
  },
  {
   "cell_type": "code",
   "execution_count": 20,
   "metadata": {},
   "outputs": [
    {
     "data": {
      "text/plain": [
       "122.38888888888889"
      ]
     },
     "execution_count": 20,
     "metadata": {},
     "output_type": "execute_result"
    }
   ],
   "source": [
    "11*30-11*avg_price2"
   ]
  },
  {
   "cell_type": "code",
   "execution_count": 36,
   "metadata": {},
   "outputs": [
    {
     "data": {
      "text/plain": [
       "550"
      ]
     },
     "execution_count": 36,
     "metadata": {},
     "output_type": "execute_result"
    }
   ],
   "source": [
    "-sum((700, 400, 270, -1790, 200, -330))"
   ]
  },
  {
   "cell_type": "code",
   "execution_count": null,
   "metadata": {},
   "outputs": [],
   "source": []
  },
  {
   "cell_type": "code",
   "execution_count": 64,
   "metadata": {},
   "outputs": [],
   "source": [
    "def sell(run_cash, run_shares, order):\n",
    "    \"\"\"Return the size that can be sold, the price adjusted with slippage, and fees to be paid.\"\"\"\n",
    "    # Slippage in % applies on price\n",
    "    adj_price = order['price'] * (1 - order['slippage'])\n",
    "    # If insufficient shares, sell what's left\n",
    "    adj_size = min(run_shares, abs(order['size']))\n",
    "    cash = adj_size * adj_price\n",
    "    # Fees in % applies on transaction order\n",
    "    adj_cash = cash * (1 - order['fees']) - order['fixed_fees']\n",
    "    return adj_size, adj_price, cash - adj_cash"
   ]
  },
  {
   "cell_type": "code",
   "execution_count": 69,
   "metadata": {},
   "outputs": [],
   "source": [
    "import numpy as np\n",
    "from numba import njit, b1, i1, i8, f8\n",
    "from numba.core.types import UniTuple\n",
    "from numba.typed import List\n",
    "from vectorbt.portfolio.enums import TradeType, PositionType\n",
    "\n",
    "# ############# Portfolio ############# #\n",
    "\n",
    "# Numba cannot handle classes defined externally\n",
    "BuyTrade, SellTrade = TradeType.Buy, TradeType.Sell\n",
    "OpenPosition, ClosedPosition = PositionType.Open, PositionType.Closed\n",
    "\n",
    "@njit(cache=True)\n",
    "def Order(size, price, fees, fixed_fees, slippage, *args):\n",
    "    \"\"\"Create a tuple representing an order.\"\"\"\n",
    "    # We cannot use neither typed dicts nor classes here, Numba forces us to use tuples\n",
    "    return (\n",
    "        float(size),\n",
    "        float(price),\n",
    "        float(fees),\n",
    "        float(fixed_fees),\n",
    "        float(slippage),\n",
    "        args\n",
    "    )\n",
    "\n",
    "\n",
    "@njit(cache=True)\n",
    "def Trade(col, i, adj_size, adj_price, fees_paid, avg_buy_price, frac_buy_fees, status, args):\n",
    "    \"\"\"Create a tuple representing a trade.\"\"\"\n",
    "    buy_val = adj_size * avg_buy_price + frac_buy_fees\n",
    "    sell_val = adj_size * adj_price - fees_paid\n",
    "    pnl = sell_val - buy_val\n",
    "    ret = (sell_val - buy_val) / buy_val\n",
    "    return (\n",
    "        col, i,\n",
    "        float(adj_size),\n",
    "        float(adj_price),\n",
    "        float(fees_paid),\n",
    "        float(avg_buy_price),\n",
    "        float(frac_buy_fees),\n",
    "        float(pnl),\n",
    "        float(ret),\n",
    "        status,\n",
    "        args\n",
    "    )\n",
    "\n",
    "\n",
    "@njit(cache=True)\n",
    "def Position(col, start_i, end_i, buy_size_sum, avg_buy_price,\n",
    "             buy_fees_sum, avg_sell_price, sell_fees_sum, status, trades):\n",
    "    \"\"\"Create a tuple representing a position.\"\"\"\n",
    "    buy_val = buy_size_sum * avg_buy_price + buy_fees_sum\n",
    "    sell_val = buy_size_sum * avg_sell_price - sell_fees_sum\n",
    "    pnl = sell_val - buy_val\n",
    "    ret = (sell_val - buy_val) / buy_val\n",
    "    return (\n",
    "        col, start_i, end_i,\n",
    "        float(buy_size_sum),\n",
    "        float(avg_buy_price),\n",
    "        float(buy_fees_sum),\n",
    "        float(avg_sell_price),\n",
    "        float(sell_fees_sum),\n",
    "        float(pnl),\n",
    "        float(ret),\n",
    "        status,\n",
    "        trades\n",
    "    )\n",
    "\n",
    "\n",
    "@njit\n",
    "def portfolio_nb(price, init_capital, order_func_nb, *args):\n",
    "    positions = List()\n",
    "    cash = np.empty_like(price, dtype=f8)\n",
    "    shares = np.empty_like(price, dtype=f8)\n",
    "\n",
    "    for col in range(price.shape[1]):\n",
    "        run_cash = init_capital\n",
    "        run_shares = 0.\n",
    "\n",
    "        # Trade-related vars\n",
    "        buy_size_sum = 0.\n",
    "        buy_gross_sum = 0.\n",
    "        buy_fees_sum = 0.\n",
    "\n",
    "        # Position-related vars\n",
    "        start_i = -1\n",
    "        end_i = -1\n",
    "        pos_buy_size_sum = 0.\n",
    "        pos_buy_gross_sum = 0.\n",
    "        pos_buy_fees_sum = 0.\n",
    "        pos_sell_size_sum = 0.\n",
    "        pos_sell_gross_sum = 0.\n",
    "        pos_sell_fees_sum = 0.\n",
    "        trades = List()\n",
    "\n",
    "        for i in range(price.shape[0]):\n",
    "            # Generate the next oder or None to do nothing\n",
    "            order = order_func_nb(col, i, run_cash, run_shares, *args)\n",
    "            if order is not None:\n",
    "                size, _, _, _, _, order_args = order\n",
    "\n",
    "                if size > 0.:\n",
    "                    # We have cash and we want to buy shares\n",
    "                    adj_size, adj_price, fees_paid = request_buy_nb(run_cash, run_shares, order)\n",
    "                    if adj_size > 0.:\n",
    "                        if run_shares == 0.:\n",
    "                            # Create a new position\n",
    "                            start_i = i\n",
    "                            end_i = -1\n",
    "                            pos_buy_size_sum = 0.\n",
    "                            pos_buy_gross_sum = 0.\n",
    "                            pos_buy_fees_sum = 0.\n",
    "                            pos_sell_size_sum = 0.\n",
    "                            pos_sell_gross_sum = 0.\n",
    "                            pos_sell_fees_sum = 0.\n",
    "                            trades = List()\n",
    "\n",
    "                        # Update current cash and shares\n",
    "                        run_cash -= adj_size * adj_price + fees_paid\n",
    "                        run_shares += adj_size\n",
    "\n",
    "                        # Position increased\n",
    "                        buy_size_sum += adj_size\n",
    "                        buy_gross_sum += adj_size * adj_price\n",
    "                        buy_fees_sum += fees_paid\n",
    "                        pos_buy_size_sum += adj_size\n",
    "                        pos_buy_gross_sum += adj_size * adj_price\n",
    "                        pos_buy_fees_sum += fees_paid\n",
    "\n",
    "                        # Create a new trade and append it to the list\n",
    "                        trade = Trade(\n",
    "                            col, i,\n",
    "                            adj_size,\n",
    "                            adj_price,\n",
    "                            fees_paid,\n",
    "                            np.nan,\n",
    "                            np.nan,\n",
    "                            BuyTrade, \n",
    "                            order_args)\n",
    "                        trades.append(trade)\n",
    "\n",
    "                elif size < 0.:\n",
    "                    # We have shares and we want sell them for cash\n",
    "                    adj_size, adj_price, fees_paid = request_sell_nb(run_cash, run_shares, order)\n",
    "                    if adj_size > 0.:\n",
    "                        # Update current cash and shares\n",
    "                        run_cash += adj_size * adj_price - fees_paid\n",
    "                        run_shares -= adj_size\n",
    "\n",
    "                        # Measure average buy price and fees\n",
    "                        # A size-weighted average over all purchase prices\n",
    "                        avg_buy_price = buy_gross_sum / buy_size_sum\n",
    "                        # A size-weighted average over all purchase fees\n",
    "                        frac_buy_fees = adj_size / buy_size_sum * buy_fees_sum\n",
    "\n",
    "                        # Position has been reduced, previous purchases have now less impact\n",
    "                        size_fraction = (buy_size_sum - adj_size) / buy_size_sum\n",
    "                        buy_size_sum *= size_fraction\n",
    "                        buy_gross_sum *= size_fraction\n",
    "                        buy_fees_sum *= size_fraction\n",
    "                        pos_sell_size_sum += adj_size\n",
    "                        pos_sell_gross_sum += adj_size * adj_price\n",
    "                        pos_sell_fees_sum += fees_paid\n",
    "\n",
    "                        # Create a new trade and append it to the list\n",
    "                        trade = Trade(\n",
    "                            col, i,\n",
    "                            adj_size,\n",
    "                            adj_price,\n",
    "                            fees_paid,\n",
    "                            avg_buy_price,\n",
    "                            frac_buy_fees,\n",
    "                            SellTrade, \n",
    "                            order_args)\n",
    "                        trades.append(trade)\n",
    "\n",
    "                        if run_shares == 0.:\n",
    "                            # Append the closed position to the list\n",
    "                            avg_buy_price = pos_buy_gross_sum / pos_buy_size_sum\n",
    "                            avg_sell_price = pos_sell_gross_sum / pos_sell_size_sum\n",
    "                            position = Position(\n",
    "                                col, start_i, i,\n",
    "                                pos_buy_size_sum,\n",
    "                                avg_buy_price,\n",
    "                                pos_buy_fees_sum,\n",
    "                                avg_sell_price,\n",
    "                                pos_sell_fees_sum,\n",
    "                                ClosedPosition,\n",
    "                                trades)\n",
    "                            positions.append(position)\n",
    "\n",
    "            if i == price.shape[0] - 1 and run_shares > 0.:\n",
    "                # If position hasn't been closed, calculate its unrealized metrics\n",
    "                pos_sell_size_sum += run_shares\n",
    "                pos_sell_gross_sum += run_shares * price[i, col]\n",
    "                # NOTE: We have no information about fees here, so we don't add them\n",
    "\n",
    "                # Append the open position to the list\n",
    "                avg_buy_price = pos_buy_gross_sum / pos_buy_size_sum\n",
    "                avg_sell_price = pos_sell_gross_sum / pos_sell_size_sum\n",
    "                position = Position(\n",
    "                    col, start_i, i,\n",
    "                    pos_buy_size_sum,\n",
    "                    avg_buy_price,\n",
    "                    pos_buy_fees_sum,\n",
    "                    avg_sell_price,\n",
    "                    pos_sell_fees_sum,\n",
    "                    OpenPosition,\n",
    "                    trades)\n",
    "                positions.append(position)\n",
    "\n",
    "            # Populate cash and shares\n",
    "            cash[i, col], shares[i, col] = run_cash, run_shares\n",
    "\n",
    "    return positions, cash, shares\n",
    "\n",
    "\n",
    "@njit(cache=True)\n",
    "def request_buy_nb(run_cash, run_shares, order):\n",
    "    \"\"\"Return the size that can be bought, the price adjusted with slippage, and fees to be paid.\"\"\"\n",
    "    req_size, req_price, fees, fixed_fees, slippage, _ = order\n",
    "\n",
    "    # Compute cash required to complete this order\n",
    "    adj_price = req_price * (1 + slippage)\n",
    "    req_cash = req_size * adj_price\n",
    "    adj_req_cash = req_cash * (1 + fees) + fixed_fees\n",
    "\n",
    "    if adj_req_cash <= run_cash:\n",
    "        # Sufficient cash\n",
    "        return req_size, adj_price, adj_req_cash - req_cash\n",
    "\n",
    "    # Insufficient cash, size will be less than requested\n",
    "    # For fees of 10%, you can buy shares for 90.9$ (adj_cash) to spend 100$ (run_cash) in total\n",
    "    adj_cash = (run_cash - fixed_fees) / (1 + fees)\n",
    "\n",
    "    return adj_cash / adj_price, adj_price, run_cash - adj_cash\n",
    "\n",
    "\n",
    "@njit(cache=True)\n",
    "def request_sell_nb(run_cash, run_shares, order):\n",
    "    \"\"\"Return the size that can be sold, the price adjusted with slippage, and fees to be paid.\"\"\"\n",
    "    req_size, req_price, fees, fixed_fees, slippage, _ = order\n",
    "\n",
    "    # Compute acquired cash\n",
    "    adj_price = req_price * (1 - slippage)\n",
    "    adj_size = min(run_shares, abs(req_size))\n",
    "    cash = adj_size * adj_price\n",
    "\n",
    "    # Minus costs\n",
    "    adj_cash = cash * (1 - fees) - fixed_fees\n",
    "\n",
    "    return adj_size, adj_price, cash - adj_cash\n",
    "\n",
    "\n",
    "@njit(cache=True)\n",
    "def signals_order_func_nb(col, i, run_cash, run_shares, entries, exits, size, entry_price,\n",
    "                          exit_price, fees, fixed_fees, slippage, accumulate):\n",
    "    \"\"\"`order_func_nb` that orders based on entry and exit signals.\n",
    "\n",
    "    At each entry/exit signal in `entries`/`exits`, it buys/sells `size` of shares for `entry_price`/`exit_price`.\"\"\"\n",
    "    order_size = 0.\n",
    "    order_price = 0.\n",
    "    if entries[i, col] and not exits[i, col]:\n",
    "        # Buy amount of shares specified in size (only once if not accumulate)\n",
    "        if run_shares == 0. or accumulate:\n",
    "            order_size = abs(size[i, col])\n",
    "            order_price = entry_price[i, col]\n",
    "    if not entries[i, col] and exits[i, col]:\n",
    "        # Sell everything\n",
    "        if run_shares > 0. or accumulate:\n",
    "            order_size = -abs(size[i, col])\n",
    "            order_price = exit_price[i, col]\n",
    "    elif entries[i, col] and exits[i, col]:\n",
    "        # Buy the difference between entry and exit size\n",
    "        order_size = abs(size[i, col]) - run_shares\n",
    "        if order_size > 0:\n",
    "            order_price = entry_price[i, col]\n",
    "        elif order_size < 0:\n",
    "            order_price = exit_price[i, col]\n",
    "    if order_size != 0.:\n",
    "        return Order(\n",
    "            order_size,\n",
    "            order_price,\n",
    "            fees=fees[i, col],\n",
    "            fixed_fees=fixed_fees[i, col],\n",
    "            slippage=slippage[i, col])\n",
    "    return None\n",
    "\n",
    "\n",
    "@njit(cache=True)\n",
    "def size_order_func_nb(col, i, run_cash, run_shares, size, price, fees, fixed_fees, slippage, is_target):\n",
    "    \"\"\"`order_func_nb` that orders the amount of shares specified in `size` for `price`.\n",
    "\n",
    "    If `is_target` is `True`, will order the difference between the current and wanted size.\"\"\"\n",
    "    if is_target:\n",
    "        order_size = size[i, col] - run_shares\n",
    "    else:\n",
    "        order_size = size[i, col]\n",
    "    return Order(\n",
    "        order_size,\n",
    "        price[i, col],\n",
    "        fees=fees[i, col],\n",
    "        fixed_fees=fixed_fees[i, col],\n",
    "        slippage=slippage[i, col])\n",
    "    return None"
   ]
  },
  {
   "cell_type": "code",
   "execution_count": 20,
   "metadata": {},
   "outputs": [
    {
     "name": "stdout",
     "output_type": "stream",
     "text": [
      "30.3 ms ± 1.53 ms per loop (mean ± std. dev. of 7 runs, 1 loop each)\n"
     ]
    }
   ],
   "source": [
    "@njit\n",
    "def h(a):\n",
    "    lst = List()\n",
    "    for col in range(a.shape[1]):\n",
    "        for i in range(a.shape[0]):\n",
    "            lst.append((col, i))\n",
    "    return lst\n",
    "\n",
    "def h(a):\n",
    "    lst = List()\n",
    "    for col in range(a.shape[1]):\n",
    "        for i in range(a.shape[0]):\n",
    "            lst.append((col, i))\n",
    "    return lst\n",
    "\n",
    "%timeit h(price)"
   ]
  },
  {
   "cell_type": "code",
   "execution_count": 19,
   "metadata": {},
   "outputs": [
    {
     "name": "stdout",
     "output_type": "stream",
     "text": [
      "256 ms ± 5.6 ms per loop (mean ± std. dev. of 7 runs, 1 loop each)\n"
     ]
    }
   ],
   "source": [
    "price = np.random.randint(1, 10, size=(1000, 1000))\n",
    "init_capital = 100000000\n",
    "size = np.random.randint(0, 2, size=(1000, 1000))\n",
    "order_price = np.random.randint(1, 10, size=(1000, 1000))\n",
    "fees = np.full((1000, 1000), 0.01)\n",
    "fixed_fees = np.full((1000, 1000), 1)\n",
    "slippage = np.full((1000, 1000), 0.001)\n",
    "is_target = False\n",
    "\n",
    "%timeit _ = portfolio_nb(price, init_capital, size_order_func_nb, size, order_price, fees, fixed_fees, slippage, is_target)"
   ]
  },
  {
   "cell_type": "code",
   "execution_count": 12,
   "metadata": {},
   "outputs": [],
   "source": [
    "positions, cash, shares = _ = portfolio_nb(\\\n",
    "    np.random.randint(1, 10, size=(1000, 1000)), \\\n",
    "    100000000, \\\n",
    "    size_order_func_nb, \\\n",
    "    np.random.randint(-1, 2, size=(1000, 1000)), \\\n",
    "    np.random.randint(1, 10, size=(1000, 1000)), \\\n",
    "    np.full((1000, 1000), 0.01), \\\n",
    "    np.full((1000, 1000), 1), \\\n",
    "    np.full((1000, 1000), 0.001),\\\n",
    "    False)"
   ]
  },
  {
   "cell_type": "code",
   "execution_count": 14,
   "metadata": {},
   "outputs": [
    {
     "data": {
      "text/plain": [
       "(0,\n",
       " 1,\n",
       " 6,\n",
       " 2.0,\n",
       " 5.5055,\n",
       " 2.11011,\n",
       " 8.4915,\n",
       " 2.16983,\n",
       " 1.6920599999999997,\n",
       " 0.1289570775643219,\n",
       " 1,\n",
       " ListType[Tuple(int64, int64, float64, float64, float64, float64, float64, float64, float64, int64, Tuple())]([(0, 1, 1.0, 2.002, 1.0200200000000001, nan, nan, nan, nan, 0, ()), (0, 4, 1.0, 9.008999999999999, 1.09009, nan, nan, nan, nan, 0, ()), (0, 5, 1.0, 7.992, 1.0799200000000004, 5.5055, 1.055055, 0.35152499999999964, 0.053581594849825914, 1, ()), (0, 6, 1.0, 8.991, 1.0899099999999997, 5.5055, 1.055055, 1.340535, 0.20433256027881788, 1, ())]))"
      ]
     },
     "execution_count": 14,
     "metadata": {},
     "output_type": "execute_result"
    }
   ],
   "source": [
    "positions[0]"
   ]
  },
  {
   "cell_type": "code",
   "execution_count": 94,
   "metadata": {},
   "outputs": [
    {
     "name": "stdout",
     "output_type": "stream",
     "text": [
      "[[0.]\n",
      " [0.]\n",
      " [0.]\n",
      " [0.]\n",
      " [1.]]\n",
      "[[1]\n",
      " [2]\n",
      " [3]\n",
      " [2]\n",
      " [1]]\n",
      "===== Position =====\n",
      "col               0.0\n",
      "start_i           4.0\n",
      "end_i             4.0\n",
      "buy_size_sum      1.0\n",
      "avg_buy_price     1.0\n",
      "buy_fees_sum      0.0\n",
      "avg_sell_price    1.0\n",
      "sell_fees_sum     0.0\n",
      "pnl               0.0\n",
      "ret               0.0\n",
      "status            0.0\n",
      "dtype: float64\n",
      "--- Trade ---\n",
      "col                     0\n",
      "i                       4\n",
      "adj_size                1\n",
      "adj_price               1\n",
      "fees_paid               0\n",
      "avg_buy_price         NaN\n",
      "frac_buy_fees         NaN\n",
      "pnl                   NaN\n",
      "ret                   NaN\n",
      "status                  0\n",
      "some_thing       (10, 20)\n",
      "dtype: object\n"
     ]
    }
   ],
   "source": [
    "size = np.asarray([0., 0., 0., 0., 1.])[:, None]\n",
    "print(size)\n",
    "price = np.asarray([1, 2, 3, 2, 1])[:, None]\n",
    "print(price)\n",
    "fees = np.full(5, 0.)[:, None]\n",
    "fixed_fees = np.full(5, 0.)[:, None]\n",
    "slippage = np.full(5, 0.)[:, None]\n",
    "\n",
    "for i in portfolio_nb(price, 100, size_order_func_nb, size, price, fees, fixed_fees, slippage, False)[0]:\n",
    "    print('===== Position =====')\n",
    "    print(pd.Series({\n",
    "        'col': i[0], \n",
    "        'start_i': i[1], \n",
    "        'end_i': i[2],\n",
    "        'buy_size_sum': i[3],\n",
    "        'avg_buy_price': i[4],\n",
    "        'buy_fees_sum': i[5],\n",
    "        'avg_sell_price': i[6],\n",
    "        'sell_fees_sum': i[7],\n",
    "        'pnl': i[8],\n",
    "        'ret': i[9],\n",
    "        'status': i[10]\n",
    "    }))\n",
    "    for j in i[11]:\n",
    "        print('--- Trade ---')\n",
    "        print(pd.Series({\n",
    "            'col': j[0], \n",
    "            'i': j[1],\n",
    "            'adj_size': j[2],\n",
    "            'adj_price': j[3],\n",
    "            'fees_paid': j[4],\n",
    "            'avg_buy_price': j[5],\n",
    "            'frac_buy_fees': j[6],\n",
    "            'pnl': j[7],\n",
    "            'ret': j[8],\n",
    "            'status': j[9],\n",
    "            'some_thing': j[10]\n",
    "        }))"
   ]
  },
  {
   "cell_type": "code",
   "execution_count": 59,
   "metadata": {},
   "outputs": [
    {
     "name": "stdout",
     "output_type": "stream",
     "text": [
      "[[0.]\n",
      " [0.]\n",
      " [0.]\n",
      " [0.]\n",
      " [1.]]\n",
      "[[1]\n",
      " [2]\n",
      " [3]\n",
      " [2]\n",
      " [1]]\n",
      "===== Position =====\n",
      "col               0.0\n",
      "start_i           4.0\n",
      "end_i             4.0\n",
      "buy_size_sum      1.0\n",
      "avg_buy_price     1.0\n",
      "buy_fees_sum      0.0\n",
      "avg_sell_price    1.0\n",
      "sell_fees_sum     0.0\n",
      "pnl               0.0\n",
      "ret               0.0\n",
      "status            0.0\n",
      "dtype: float64\n",
      "--- Trade ---\n",
      "col                     0\n",
      "i                       4\n",
      "adj_size                1\n",
      "adj_price               1\n",
      "fees_paid               0\n",
      "avg_buy_price         NaN\n",
      "frac_buy_fees         NaN\n",
      "pnl                   NaN\n",
      "ret                   NaN\n",
      "status                  0\n",
      "some_thing       (10, 20)\n",
      "dtype: object\n"
     ]
    }
   ],
   "source": [
    "size = np.asarray([0., 0., 0., 0., 1.])[:, None]\n",
    "print(size)\n",
    "price = np.asarray([1, 2, 3, 2, 1])[:, None]\n",
    "print(price)\n",
    "fees = np.full(5, 0.)[:, None]\n",
    "fixed_fees = np.full(5, 0.)[:, None]\n",
    "slippage = np.full(5, 0.)[:, None]\n",
    "\n",
    "for i in portfolio_nb(price, 100, size_order_func_nb, size, price, fees, fixed_fees, slippage, False)[0]:\n",
    "    print('===== Position =====')\n",
    "    print(pd.Series({\n",
    "        'col': i[0], \n",
    "        'start_i': i[1], \n",
    "        'end_i': i[2],\n",
    "        'buy_size_sum': i[3],\n",
    "        'avg_buy_price': i[4],\n",
    "        'buy_fees_sum': i[5],\n",
    "        'avg_sell_price': i[6],\n",
    "        'sell_fees_sum': i[7],\n",
    "        'pnl': i[8],\n",
    "        'ret': i[9],\n",
    "        'status': i[10]\n",
    "    }))\n",
    "    for j in i[11]:\n",
    "        print('--- Trade ---')\n",
    "        print(pd.Series({\n",
    "            'col': j[0], \n",
    "            'i': j[1],\n",
    "            'adj_size': j[2],\n",
    "            'adj_price': j[3],\n",
    "            'fees_paid': j[4],\n",
    "            'avg_buy_price': j[5],\n",
    "            'frac_buy_fees': j[6],\n",
    "            'pnl': j[7],\n",
    "            'ret': j[8],\n",
    "            'status': j[9],\n",
    "            'some_thing': j[10]\n",
    "        }))"
   ]
  },
  {
   "cell_type": "code",
   "execution_count": 59,
   "metadata": {},
   "outputs": [
    {
     "data": {
      "text/plain": [
       "(ListType[Tuple(int64, int64, OptionalType(UniTuple(float64 x 5)) i.e. the type 'UniTuple(float64 x 5) or None', float64, float64, float64, int64)]([(0, 0, (10.0, 10.0, 0.01, 0.0, 0.0), 10.0, 10.0, 1.0, 1), (0, 1, (-10.0, 20.0, 0.01, 0.0, 0.0), 10.0, 20.0, 2.0, 1), (0, 3, (10.0, 10.0, 0.01, 0.0, 0.0), 10.0, 10.0, 1.0, 1)]),\n",
       " array([[ 899.],\n",
       "        [1097.],\n",
       "        [1097.],\n",
       "        [ 996.],\n",
       "        [ 996.]]),\n",
       " array([[10.],\n",
       "        [ 0.],\n",
       "        [ 0.],\n",
       "        [10.],\n",
       "        [10.]]))"
      ]
     },
     "execution_count": 59,
     "metadata": {},
     "output_type": "execute_result"
    }
   ],
   "source": [
    "entries = np.asarray([True, False, False, True, False])[:, None]\n",
    "exits = np.asarray([False, True, False, False, False])[:, None]\n",
    "size = np.asarray([10, 10, 10, 10, 10])[:, None]\n",
    "entry_price = np.asarray([10, 10, 10, 10, 10])[:, None]\n",
    "exit_price = np.asarray([20, 20, 20, 20, 20])[:, None]\n",
    "fees = np.asarray([0.01, 0.01, 0.01, 0.01, 0.01])[:, None]\n",
    "fixed_fees = np.asarray([0, 0, 0, 0, 0.])[:, None]\n",
    "slippage = np.asarray([0, 0, 0, 0, 0.])[:, None]\n",
    "\n",
    "generate_orders_nb((5, 1), 1000, signals_order_func_nb, entries, \n",
    "                   exits, size, entry_price, exit_price, fees, fixed_fees, slippage)"
   ]
  },
  {
   "cell_type": "code",
   "execution_count": 22,
   "metadata": {},
   "outputs": [],
   "source": [
    "@njit(cache=True)\n",
    "def Order(size, price, fees=0., fixed_fees=0., slippage=0.):\n",
    "    \"\"\"Create a tuple representing an order.\"\"\"\n",
    "    # We cannot use neither typed dicts nor classes here, Numba forces us to use heterogeneous tuples\n",
    "    return (\n",
    "        float(size),\n",
    "        float(price),\n",
    "        float(fees),\n",
    "        float(fixed_fees),\n",
    "        float(slippage)\n",
    "    )\n",
    "\n",
    "\n",
    "@njit\n",
    "def portfolio_nb(price, init_capital, fees, slippage, order_func_nb, *args):\n",
    "    cash = np.empty_like(price, dtype=f8)\n",
    "    shares = np.empty_like(price, dtype=f8)\n",
    "    fees_paid = np.zeros_like(price, dtype=f8)\n",
    "    slippage_paid = np.zeros_like(price, dtype=f8)\n",
    "\n",
    "    for col in range(price.shape[1]):\n",
    "        run_cash = init_capital\n",
    "        run_shares = 0\n",
    "        for i in range(price.shape[0]):\n",
    "            amount = order_func_nb(col, i, run_cash, run_shares, *args)  # the amount of shares to order\n",
    "            if amount > 0:\n",
    "                # Buy amount\n",
    "                run_cash, run_shares, fees_paid[i, col], slippage_paid[i, col] = buy(\n",
    "                    run_cash, run_shares, amount, price[i, col], fees[i, col], slippage[i, col])\n",
    "            elif amount < 0:\n",
    "                # Sell amount\n",
    "                run_cash, run_shares, fees_paid[i, col], slippage_paid[i, col] = sell(\n",
    "                    run_cash, run_shares, amount, price[i, col], fees[i, col], slippage[i, col])\n",
    "            cash[i, col], shares[i, col] = run_cash, run_shares\n",
    "\n",
    "    return cash, shares, fees_paid, slippage_paid\n",
    "\n",
    "@njit(cache=True)\n",
    "def buy(run_cash, run_shares, amount, price, fees, slippage):\n",
    "    \"\"\"Buy `amount` of shares and return updated `run_cash` and `run_shares`, but also paid fees and slippage.\"\"\"\n",
    "    # Slippage in % applies on price\n",
    "    adj_price = price * (1 + slippage)\n",
    "    req_cash = amount * adj_price\n",
    "    # Fees in % applies on transaction amount\n",
    "    req_cash_wcom = req_cash * (1 + fees)\n",
    "    if req_cash_wcom <= run_cash:\n",
    "        # Sufficient cash\n",
    "        new_run_shares = run_shares + amount\n",
    "        new_run_cash = run_cash - req_cash_wcom\n",
    "        fees_paid = req_cash_wcom - req_cash\n",
    "    else:\n",
    "        # Insufficient cash, amount will be less than requested\n",
    "        # For fees of 10%, you can buy shares for 90.9$ to spend 100$ in total\n",
    "        run_cash_wcom = run_cash / (1 + fees)\n",
    "        new_run_shares = run_shares + run_cash_wcom / adj_price\n",
    "        new_run_cash = 0\n",
    "        fees_paid = run_cash - run_cash_wcom\n",
    "    # Difference in equity is the total cost of transaction = fees_paid + slippage_paid\n",
    "    old_equity = run_cash + price * run_shares\n",
    "    new_equity = new_run_cash + price * new_run_shares\n",
    "    if slippage == 0:\n",
    "        slippage_paid = 0.  # otherwise you will get numbers such as 7.105427e-15\n",
    "    else:\n",
    "        slippage_paid = old_equity - new_equity - fees_paid\n",
    "    return new_run_cash, new_run_shares, fees_paid, slippage_paid\n",
    "\n",
    "\n",
    "@njit(cache=True)\n",
    "def sell(run_cash, run_shares, amount, price, fees, slippage):\n",
    "    \"\"\"Sell `amount` of shares and return updated `run_cash` and `run_shares`, but also paid fees and slippage.\"\"\"\n",
    "    # Slippage in % applies on price\n",
    "    adj_price = price * (1 - slippage)\n",
    "    # If insufficient shares, sell what's left\n",
    "    adj_shares = min(run_shares, abs(amount))\n",
    "    adj_cash = adj_shares * adj_price\n",
    "    # Fees in % applies on transaction amount\n",
    "    adj_cash_wcom = adj_cash * (1 - fees)\n",
    "    new_run_shares = run_shares - adj_shares\n",
    "    new_run_cash = run_cash + adj_cash_wcom\n",
    "    fees_paid = adj_cash - adj_cash_wcom\n",
    "    # Difference in equity is the total cost of transaction = fees_paid + slippage_paid\n",
    "    old_equity = run_cash + price * run_shares\n",
    "    new_equity = new_run_cash + price * new_run_shares\n",
    "    if slippage == 0:\n",
    "        slippage_paid = 0.\n",
    "    else:\n",
    "        slippage_paid = old_equity - new_equity - fees_paid\n",
    "    return new_run_cash, new_run_shares, fees_paid, slippage_paid\n",
    "\n",
    "@njit(cache=True)\n",
    "def amount_order_func_nb(col, i, run_cash, run_shares, amount, is_target):\n",
    "    \"\"\"`order_func_nb` that orders the amount specified in `amount`.\n",
    "    If `is_target` is `True`, will order the difference between current and target amount.\"\"\"\n",
    "    if is_target:\n",
    "        return amount[i, col] - run_shares\n",
    "    else:\n",
    "        return amount[i, col]\n",
    "    \n",
    "@njit(cache=True)\n",
    "def signals_order_func_nb(col, i, run_cash, run_shares, entries, exits, amount):\n",
    "    \"\"\"`order_func_nb` that orders based on signals `entries` and `exits`.\n",
    "    At each entry/exit it buys/sells `amount` of shares.\"\"\"\n",
    "    return amount[i, col]"
   ]
  },
  {
   "cell_type": "code",
   "execution_count": 4,
   "metadata": {},
   "outputs": [],
   "source": [
    "import pandas as pd\n",
    "\n",
    "s = 1000\n",
    "price = np.random.randint(1, 10, size=(s, s))\n",
    "init_capital = 100000000\n",
    "fees = np.full((s, s), 0.01)\n",
    "slippage = np.full((s, s), 0.001)\n",
    "size = np.random.randint(-1, 2, size=(s, s))\n",
    "is_target = False\n",
    "fixed_fees = np.full((s, s), 0.)\n",
    "big_price = np.random.uniform(size=(s, s)).astype(float)\n",
    "big_entries = pd.DataFrame.vbt.signals.generate_random(\n",
    "    big_price.shape, 100, min_space=1, seed=42)\n",
    "big_exits = big_entries.vbt.signals.generate_random_after(1, seed=42).values\n",
    "big_entries = big_entries.values"
   ]
  },
  {
   "cell_type": "code",
   "execution_count": null,
   "metadata": {},
   "outputs": [],
   "source": [
    "positions, _, _ = portfolio_nb(price, init_capital, size_order_func_nb, size, price, fees, fixed_fees, slippage, is_target)"
   ]
  },
  {
   "cell_type": "code",
   "execution_count": 53,
   "metadata": {},
   "outputs": [
    {
     "data": {
      "text/plain": [
       "(array([[9.99999939e+07, 1.00000000e+08, 1.00000000e+08, ...,\n",
       "         9.99999949e+07, 1.00000000e+08, 1.00000000e+08],\n",
       "        [9.99999929e+07, 1.00000000e+08, 1.00000000e+08, ...,\n",
       "         9.99999949e+07, 1.00000000e+08, 1.00000000e+08],\n",
       "        [9.99999838e+07, 9.99999980e+07, 1.00000000e+08, ...,\n",
       "         1.00000002e+08, 1.00000000e+08, 1.00000000e+08],\n",
       "        ...,\n",
       "        [9.99999040e+07, 9.99999735e+07, 9.99997949e+07, ...,\n",
       "         9.99998506e+07, 9.99998853e+07, 9.99999248e+07],\n",
       "        [9.99998989e+07, 9.99999735e+07, 9.99997909e+07, ...,\n",
       "         9.99998495e+07, 9.99998802e+07, 9.99999248e+07],\n",
       "        [9.99999019e+07, 9.99999685e+07, 9.99997818e+07, ...,\n",
       "         9.99998435e+07, 9.99998802e+07, 9.99999258e+07]]),\n",
       " array([[ 1.,  0.,  0., ...,  1.,  0.,  0.],\n",
       "        [ 2.,  0.,  0., ...,  1.,  0.,  0.],\n",
       "        [ 3.,  1.,  0., ...,  0.,  0.,  0.],\n",
       "        ...,\n",
       "        [15.,  0.,  7., ..., 15., 21.,  2.],\n",
       "        [16.,  0.,  8., ..., 16., 22.,  2.],\n",
       "        [15.,  1.,  9., ..., 17., 22.,  1.]]),\n",
       " array([[0.06006, 0.     , 0.     , ..., 0.05005, 0.     , 0.     ],\n",
       "        [0.01001, 0.     , 0.     , ..., 0.     , 0.     , 0.     ],\n",
       "        [0.09009, 0.02002, 0.     , ..., 0.06993, 0.     , 0.     ],\n",
       "        ...,\n",
       "        [0.     , 0.     , 0.07007, ..., 0.01998, 0.01001, 0.     ],\n",
       "        [0.05005, 0.     , 0.04004, ..., 0.01001, 0.05005, 0.     ],\n",
       "        [0.02997, 0.05005, 0.09009, ..., 0.06006, 0.     , 0.00999]]),\n",
       " array([[0.00600001, 0.        , 0.        , ..., 0.005     , 0.        ,\n",
       "         0.        ],\n",
       "        [0.00100001, 0.        , 0.        , ..., 0.        , 0.        ,\n",
       "         0.        ],\n",
       "        [0.009     , 0.002     , 0.        , ..., 0.007     , 0.        ,\n",
       "         0.        ],\n",
       "        ...,\n",
       "        [0.        , 0.        , 0.007     , ..., 0.002     , 0.00100001,\n",
       "         0.        ],\n",
       "        [0.005     , 0.        , 0.00399999, ..., 0.00100001, 0.005     ,\n",
       "         0.        ],\n",
       "        [0.003     , 0.005     , 0.009     , ..., 0.00600001, 0.        ,\n",
       "         0.00099999]]))"
      ]
     },
     "execution_count": 53,
     "metadata": {},
     "output_type": "execute_result"
    }
   ],
   "source": [
    "portfolio_nb(price, init_capital, fees, slippage, amount_order_func_nb, size, is_target)"
   ]
  },
  {
   "cell_type": "code",
   "execution_count": 51,
   "metadata": {},
   "outputs": [],
   "source": [
    "import numpy as np\n",
    "from numba import njit, b1, i1, i8, f8\n",
    "from numba.core.types import UniTuple\n",
    "from numba.typed import List\n",
    "\n",
    "from vectorbt import timeseries\n",
    "from vectorbt.portfolio.enums import TradeType, PositionType\n",
    "\n",
    "# ############# Portfolio ############# #\n",
    "\n",
    "# Numba cannot handle classes defined externally\n",
    "BuyTrade, SellTrade = TradeType.Buy, TradeType.Sell\n",
    "OpenPosition, ClosedPosition = PositionType.Open, PositionType.Closed\n",
    "\n",
    "\n",
    "@njit(cache=True)\n",
    "def Order(size, price, fees=0., fixed_fees=0., slippage=0.):\n",
    "    \"\"\"Create a tuple representing an order.\"\"\"\n",
    "    # We cannot use neither typed dicts nor classes here, Numba forces us to use heterogeneous tuples\n",
    "    return (\n",
    "        float(size),\n",
    "        float(price),\n",
    "        float(fees),\n",
    "        float(fixed_fees),\n",
    "        float(slippage)\n",
    "    )\n",
    "\n",
    "\n",
    "@njit\n",
    "def portfolio_nb(over_shape, init_capital, order_func_nb, args):\n",
    "    trade_size = np.full(over_shape, np.nan, dtype=f8)\n",
    "    trade_price = np.full(over_shape, np.nan, dtype=f8)\n",
    "    trade_fees = np.full(over_shape, np.nan, dtype=f8)\n",
    "    cash = np.empty(over_shape, dtype=f8)\n",
    "    shares = np.empty(over_shape, dtype=f8)\n",
    "\n",
    "    for col in range(over_shape[1]):\n",
    "        run_cash = init_capital\n",
    "        run_shares = 0.\n",
    "\n",
    "        for i in range(over_shape[0]):\n",
    "            # Generate the next oder or None to do nothing\n",
    "            order = order_func_nb(col, i, run_shares, args)\n",
    "            if order is not None:\n",
    "                order_size, _, _, _, _, = order\n",
    "                adj_size = 0.\n",
    "\n",
    "                if order_size > 0.:\n",
    "                    # We want to buy shares\n",
    "                    adj_size, adj_price, fees_paid = request_buy_nb(run_cash, run_shares, order)\n",
    "                    if adj_size > 0.:\n",
    "                        # Update current cash and shares\n",
    "                        run_cash -= adj_size * adj_price + fees_paid\n",
    "                        run_shares += adj_size\n",
    "\n",
    "                elif order_size < 0.:\n",
    "                    # We want to sell shares\n",
    "                    adj_size, adj_price, fees_paid = request_sell_nb(run_cash, run_shares, order)\n",
    "                    if adj_size > 0.:\n",
    "                        # Update current cash and shares\n",
    "                        run_cash += adj_size * adj_price - fees_paid\n",
    "                        run_shares -= adj_size\n",
    "\n",
    "                # Update matrices\n",
    "                if adj_size > 0.:\n",
    "                    trade_size[i, col] = adj_size\n",
    "                    trade_price[i, col] = adj_price\n",
    "                    trade_fees[i, col] = fees_paid\n",
    "\n",
    "            # Populate cash and shares\n",
    "            cash[i, col], shares[i, col] = run_cash, run_shares\n",
    "\n",
    "    return trade_size, trade_price, trade_fees, cash, shares\n",
    "\n",
    "\n",
    "@njit(cache=True)\n",
    "def request_buy_nb(run_cash, run_shares, order):\n",
    "    \"\"\"Return the size that can be bought, the price adjusted with slippage, and fees to be paid.\"\"\"\n",
    "    req_size, req_price, fees, fixed_fees, slippage = order\n",
    "\n",
    "    # Compute cash required to complete this order\n",
    "    adj_price = req_price * (1 + slippage)\n",
    "    req_cash = req_size * adj_price\n",
    "    adj_req_cash = req_cash * (1 + fees) + fixed_fees\n",
    "\n",
    "    if adj_req_cash <= run_cash:\n",
    "        # Sufficient cash\n",
    "        return req_size, adj_price, adj_req_cash - req_cash\n",
    "\n",
    "    # Insufficient cash, size will be less than requested\n",
    "    # For fees of 10%, you can buy shares for 90.9$ (adj_cash) to spend 100$ (run_cash) in total\n",
    "    adj_cash = (run_cash - fixed_fees) / (1 + fees)\n",
    "\n",
    "    return adj_cash / adj_price, adj_price, run_cash - adj_cash\n",
    "\n",
    "\n",
    "@njit(cache=True)\n",
    "def request_sell_nb(run_cash, run_shares, order):\n",
    "    \"\"\"Return the size that can be sold, the price adjusted with slippage, and fees to be paid.\"\"\"\n",
    "    req_size, req_price, fees, fixed_fees, slippage = order\n",
    "\n",
    "    # Compute acquired cash\n",
    "    adj_price = req_price * (1 - slippage)\n",
    "    adj_size = min(run_shares, abs(req_size))\n",
    "    cash = adj_size * adj_price\n",
    "\n",
    "    # Minus costs\n",
    "    adj_cash = cash * (1 - fees) - fixed_fees\n",
    "\n",
    "    return adj_size, adj_price, cash - adj_cash\n",
    "\n",
    "@njit(cache=True)\n",
    "def signals_order_func_nb(col, i, run_shares, args):\n",
    "    entries, exits, size, entry_price, exit_price, fees, fixed_fees, slippage, accumulate = args\n",
    "    order_size = 0.\n",
    "    order_price = 0.\n",
    "    if entries[i, col] and not exits[i, col]:\n",
    "        # Buy the amount of shares specified in size (only once if not accumulate)\n",
    "        if run_shares == 0. or accumulate:\n",
    "            order_size = abs(size[i, col])\n",
    "            order_price = entry_price[i, col]\n",
    "    elif not entries[i, col] and exits[i, col]:\n",
    "        # Sell everything\n",
    "        if run_shares > 0.:\n",
    "            order_size = -np.inf\n",
    "            order_price = exit_price[i, col]\n",
    "    elif entries[i, col] and exits[i, col]:\n",
    "        # Buy the difference between entry and exit size\n",
    "        order_size = abs(size[i, col]) - run_shares\n",
    "        if order_size > 0:\n",
    "            order_price = entry_price[i, col]\n",
    "        elif order_size < 0:\n",
    "            order_price = exit_price[i, col]\n",
    "    return Order(\n",
    "        order_size,\n",
    "        order_price,\n",
    "        fees=fees[i, col],\n",
    "        fixed_fees=fixed_fees[i, col],\n",
    "        slippage=slippage[i, col])\n",
    "\n",
    "@njit(cache=True)\n",
    "def _size_order_func_nb(run_shares, size, price, fees, fixed_fees, slippage, is_target):\n",
    "    if is_target:\n",
    "        order_size = size - run_shares\n",
    "    else:\n",
    "        order_size = size\n",
    "    return Order(\n",
    "        order_size,\n",
    "        price,\n",
    "        fees=fees,\n",
    "        fixed_fees=fixed_fees,\n",
    "        slippage=slippage)\n",
    "\n",
    "@njit(cache=True)\n",
    "def size_order_func_nb(col, i, run_cash, run_shares, size, price, fees, fixed_fees, slippage, is_target):\n",
    "    \"\"\"`order_func_nb` that orders the amount of shares specified in `size`.\n",
    "\n",
    "    If `is_target` is `True`, will order the difference between the current and wanted size.\"\"\"\n",
    "    return _size_order_func_nb(run_shares, size[i, col], price[i, col], \n",
    "        fees[i, col], fixed_fees[i, col], slippage[i, col], is_target)"
   ]
  },
  {
   "cell_type": "code",
   "execution_count": 56,
   "metadata": {},
   "outputs": [
    {
     "data": {
      "text/plain": [
       "7.6295166015625"
      ]
     },
     "execution_count": 56,
     "metadata": {},
     "output_type": "execute_result"
    }
   ],
   "source": [
    "pd.DataFrame(np.random.uniform(size=(1000, 1000))).memory_usage().sum() / 1024 / 1024"
   ]
  },
  {
   "cell_type": "code",
   "execution_count": 59,
   "metadata": {},
   "outputs": [
    {
     "data": {
      "text/plain": [
       "7.62939453125"
      ]
     },
     "execution_count": 59,
     "metadata": {},
     "output_type": "execute_result"
    }
   ],
   "source": [
    "np.random.uniform(size=(1000, 1000)).nbytes / 1024 / 1024"
   ]
  },
  {
   "cell_type": "code",
   "execution_count": null,
   "metadata": {},
   "outputs": [],
   "source": []
  },
  {
   "cell_type": "code",
   "execution_count": 52,
   "metadata": {},
   "outputs": [
    {
     "name": "stdout",
     "output_type": "stream",
     "text": [
      "209 ms ± 1.94 ms per loop (mean ± std. dev. of 7 runs, 1 loop each)\n"
     ]
    }
   ],
   "source": [
    "%timeit portfolio_nb(price.shape, init_capital, signals_order_func_nb, (big_entries, big_exits, \\\n",
    "                     size.astype(float), big_price.astype(float), big_price.astype(float), \\\n",
    "                     fees.astype(float), fixed_fees.astype(float), slippage.astype(float), False))"
   ]
  },
  {
   "cell_type": "code",
   "execution_count": 7,
   "metadata": {},
   "outputs": [
    {
     "name": "stdout",
     "output_type": "stream",
     "text": [
      "[[ 1. ]\n",
      " [ 0.1]\n",
      " [-1. ]\n",
      " [ 0.1]\n",
      " [ 0. ]]\n",
      "[[1]\n",
      " [2]\n",
      " [3]\n",
      " [2]\n",
      " [1]]\n"
     ]
    },
    {
     "data": {
      "text/plain": [
       "(array([[ 1. ],\n",
       "        [ 0.1],\n",
       "        [-1. ],\n",
       "        [ 0.1],\n",
       "        [ nan]]), array([[ 1.],\n",
       "        [ 2.],\n",
       "        [ 3.],\n",
       "        [ 2.],\n",
       "        [nan]]), array([[ 0.],\n",
       "        [ 0.],\n",
       "        [ 0.],\n",
       "        [ 0.],\n",
       "        [nan]]), array([[ 99. ],\n",
       "        [ 98.8],\n",
       "        [101.8],\n",
       "        [101.6],\n",
       "        [101.6]]), array([[1. ],\n",
       "        [1.1],\n",
       "        [0.1],\n",
       "        [0.2],\n",
       "        [0.2]]))"
      ]
     },
     "execution_count": 7,
     "metadata": {},
     "output_type": "execute_result"
    }
   ],
   "source": [
    "from vectorbt.portfolio.nb import simulate_nb, size_order_func_nb\n",
    "import numpy as np\n",
    "\n",
    "size = np.asarray([1., 0.1, -1., 0.1, 0.])[:, None]\n",
    "print(size)\n",
    "price = np.asarray([1, 2, 3, 2, 1])[:, None]\n",
    "print(price)\n",
    "fees = np.full(5, 0.)[:, None]\n",
    "fixed_fees = np.full(5, 0.)[:, None]\n",
    "slippage = np.full(5, 0.)[:, None]\n",
    "\n",
    "simulate_nb(price.shape, 100, size_order_func_nb, size, price, fees, fixed_fees, slippage, False)"
   ]
  },
  {
   "cell_type": "code",
   "execution_count": 2,
   "metadata": {},
   "outputs": [
    {
     "name": "stdout",
     "output_type": "stream",
     "text": [
      "[[ 1.  1.  1.]\n",
      " [-1. -1. -1.]\n",
      " [ 1.  1.  1.]\n",
      " [-1. -1. -1.]\n",
      " [ 1.  1.  1.]]\n",
      "[[1.001 5.005 1.001]\n",
      " [1.998 3.996 1.998]\n",
      " [3.003 3.003 3.003]\n",
      " [3.996 1.998 1.998]\n",
      " [5.005 1.001 1.001]]\n",
      "[[1.001001 1.005005 1.001001]\n",
      " [1.001998 1.003996 1.001998]\n",
      " [1.003003 1.003003 1.003003]\n",
      " [1.003996 1.001998 1.001998]\n",
      " [1.005005 1.001001 1.001001]]\n",
      "[[97.997999 93.989995 97.997999]\n",
      " [98.994001 96.981999 98.994001]\n",
      " [94.987998 92.975996 94.987998]\n",
      " [97.980002 93.971998 95.984   ]\n",
      " [91.969997 91.969997 93.981999]]\n",
      "[[1. 1. 1.]\n",
      " [0. 0. 0.]\n",
      " [1. 1. 1.]\n",
      " [0. 0. 0.]\n",
      " [1. 1. 1.]]\n"
     ]
    }
   ],
   "source": [
    ">>> import numpy as np\n",
    ">>> from numba import njit\n",
    ">>> from vectorbt.portfolio.nb import simulate_nb, Order\n",
    ">>> price = np.asarray([\n",
    "...     [1, 5, 1],\n",
    "...     [2, 4, 2],\n",
    "...     [3, 3, 3],\n",
    "...     [4, 2, 2],\n",
    "...     [5, 1, 1]\n",
    "... ])\n",
    ">>> fees = 0.001\n",
    ">>> fixed_fees = 1\n",
    ">>> slippage = 0.001\n",
    ">>> @njit\n",
    "... def order_func_nb(col, i, run_cash, run_shares):\n",
    "...     return Order(1 if i % 2 == 0 else -1, price[i, col], \n",
    "...         fees=fees, fixed_fees=fixed_fees, slippage=slippage)\n",
    ">>> trade_size, trade_price, trade_fees, cash, shares = \\\n",
    "...     simulate_nb(price.shape, 100, order_func_nb)\n",
    ">>> print(trade_size)\n",
    "[[ 1.  1.  1.]\n",
    " [-1. -1. -1.]\n",
    " [ 1.  1.  1.]\n",
    " [-1. -1. -1.]\n",
    " [ 1.  1.  1.]]\n",
    ">>> print(trade_price)\n",
    "[[1.001 5.005 1.001]\n",
    " [1.998 3.996 1.998]\n",
    " [3.003 3.003 3.003]\n",
    " [3.996 1.998 1.998]\n",
    " [5.005 1.001 1.001]]\n",
    ">>> print(trade_fees)\n",
    "[[1.001001 1.005005 1.001001]\n",
    " [1.001998 1.003996 1.001998]\n",
    " [1.003003 1.003003 1.003003]\n",
    " [1.003996 1.001998 1.001998]\n",
    " [1.005005 1.001001 1.001001]]\n",
    ">>> print(cash)\n",
    "[[97.997999 93.989995 97.997999]\n",
    " [98.994001 96.981999 98.994001]\n",
    " [94.987998 92.975996 94.987998]\n",
    " [97.980002 93.971998 95.984   ]\n",
    " [91.969997 91.969997 93.981999]]\n",
    ">>> print(shares)\n",
    "[[1. 1. 1.]\n",
    " [0. 0. 0.]\n",
    " [1. 1. 1.]\n",
    " [0. 0. 0.]\n",
    " [1. 1. 1.]]"
   ]
  },
  {
   "cell_type": "code",
   "execution_count": 64,
   "metadata": {},
   "outputs": [
    {
     "name": "stdout",
     "output_type": "stream",
     "text": [
      "115 ms ± 1.6 ms per loop (mean ± std. dev. of 7 runs, 1 loop each)\n"
     ]
    }
   ],
   "source": [
    "from numba import njit, f8\n",
    "import numpy as np\n",
    "\n",
    "@njit\n",
    "def main_func_nb(a, func_nb, *args):\n",
    "    b = np.empty_like(a, dtype=f8)\n",
    "\n",
    "    for col in range(a.shape[1]):\n",
    "        for i in range(a.shape[0]):\n",
    "            b[i, col] = func_nb(col, i, *args)\n",
    "    return b\n",
    "\n",
    "\n",
    "@njit\n",
    "def func_nb(col, i, x1, x2, x3, is_something):\n",
    "    if is_something:\n",
    "        return 1 + x1[i, col] + x2[i, col] + x3[i, col]\n",
    "    else:\n",
    "        return x1[i, col] + x2[i, col] + x3[i, col]\n",
    "    \n",
    "a = x1 = x2 = x3 = np.random.uniform(size=(1000, 1000))\n",
    "%timeit _ = main_func_nb(a, func_nb, x1, x2, x3, False)"
   ]
  },
  {
   "cell_type": "code",
   "execution_count": 62,
   "metadata": {},
   "outputs": [
    {
     "name": "stdout",
     "output_type": "stream",
     "text": [
      "6.35 ms ± 406 µs per loop (mean ± std. dev. of 7 runs, 1 loop each)\n"
     ]
    }
   ],
   "source": [
    "@njit\n",
    "def func_nb(col, i, x1, x2, x3, is_something):\n",
    "    return x1[i, col] + x2[i, col] + x3[i, col]\n",
    "\n",
    "%timeit _ = main_func_nb(price, func_nb, x1, x2, x3, False)"
   ]
  },
  {
   "cell_type": "code",
   "execution_count": 1,
   "metadata": {},
   "outputs": [],
   "source": [
    ">>> import pandas as pd\n",
    ">>> from vectorbt.utils.indexing import ParamIndexing, mapper_indexing_func\n",
    "\n",
    ">>> def indexing_func(c, pd_indexing_func):\n",
    "...     return C(pd_indexing_func(c.df), mapper_indexing_func(\n",
    "            c._my_param_mapper, c.df, pd_indexing_func))\n",
    "\n",
    ">>> MyParamIndexer = ParamIndexing(['my_param'], indexing_func)\n",
    "... class C(MyParamIndexer):\n",
    "...     def __init__(self, df, param_mapper):\n",
    "...         self.df = df\n",
    "...         self._my_param_mapper = param_mapper\n",
    "...         MyParamIndexer.__init__(self, [param_mapper])\n",
    "\n",
    ">>> df = pd.DataFrame({'a': [1, 2], 'b': [3, 4]})\n",
    ">>> param_mapper = pd.Series(['First', 'Second'], index=['a', 'b'])\n",
    ">>> c = C(df, param_mapper)"
   ]
  },
  {
   "cell_type": "code",
   "execution_count": 19,
   "metadata": {},
   "outputs": [
    {
     "data": {
      "text/plain": [
       "4"
      ]
     },
     "execution_count": 19,
     "metadata": {},
     "output_type": "execute_result"
    }
   ],
   "source": [
    "size1 = 2\n",
    "price1 = 5\n",
    "\n",
    "size2 = 2\n",
    "price2 = 7\n",
    "\n",
    "price2*size2 - price1*size1"
   ]
  },
  {
   "cell_type": "code",
   "execution_count": 20,
   "metadata": {},
   "outputs": [
    {
     "data": {
      "text/plain": [
       "-6"
      ]
     },
     "execution_count": 20,
     "metadata": {},
     "output_type": "execute_result"
    }
   ],
   "source": [
    "size3 = 6\n",
    "price3 = 3\n",
    "\n",
    "size4 = 6\n",
    "price4 = 2\n",
    "\n",
    "price4*size4 - price3*size3"
   ]
  },
  {
   "cell_type": "code",
   "execution_count": 23,
   "metadata": {},
   "outputs": [
    {
     "data": {
      "text/plain": [
       "-2"
      ]
     },
     "execution_count": 23,
     "metadata": {},
     "output_type": "execute_result"
    }
   ],
   "source": [
    "(size2*price2 + size4*price4) - (size1*price1 + size3*price3) "
   ]
  },
  {
   "cell_type": "code",
   "execution_count": 30,
   "metadata": {},
   "outputs": [
    {
     "data": {
      "text/plain": [
       "(2, 10)"
      ]
     },
     "execution_count": 30,
     "metadata": {},
     "output_type": "execute_result"
    }
   ],
   "source": [
    "2, 10"
   ]
  },
  {
   "cell_type": "code",
   "execution_count": 31,
   "metadata": {},
   "outputs": [
    {
     "data": {
      "text/plain": [
       "(-3, 20)"
      ]
     },
     "execution_count": 31,
     "metadata": {},
     "output_type": "execute_result"
    }
   ],
   "source": [
    "-3, 20"
   ]
  },
  {
   "cell_type": "code",
   "execution_count": 32,
   "metadata": {},
   "outputs": [
    {
     "data": {
      "text/plain": [
       "-40"
      ]
     },
     "execution_count": 32,
     "metadata": {},
     "output_type": "execute_result"
    }
   ],
   "source": [
    "-3*20+2*10"
   ]
  },
  {
   "cell_type": "code",
   "execution_count": 33,
   "metadata": {},
   "outputs": [
    {
     "data": {
      "text/plain": [
       "40.0"
      ]
     },
     "execution_count": 33,
     "metadata": {},
     "output_type": "execute_result"
    }
   ],
   "source": [
    "(2*10-3*20)/-1"
   ]
  },
  {
   "cell_type": "code",
   "execution_count": null,
   "metadata": {},
   "outputs": [],
   "source": []
  }
 ],
 "metadata": {
  "kernelspec": {
   "display_name": "Python 3",
   "language": "python",
   "name": "python3"
  },
  "language_info": {
   "codemirror_mode": {
    "name": "ipython",
    "version": 3
   },
   "file_extension": ".py",
   "mimetype": "text/x-python",
   "name": "python",
   "nbconvert_exporter": "python",
   "pygments_lexer": "ipython3",
   "version": "3.7.3"
  },
  "widgets": {
   "application/vnd.jupyter.widget-state+json": {
    "state": {},
    "version_major": 2,
    "version_minor": 0
   }
  }
 },
 "nbformat": 4,
 "nbformat_minor": 4
}
