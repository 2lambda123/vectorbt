{
 "cells": [
  {
   "cell_type": "code",
   "execution_count": 1,
   "id": "49c95190-5aaa-4361-8035-9ef9edd33979",
   "metadata": {},
   "outputs": [],
   "source": [
    "import vectorbt as vbt\n",
    "import pandas as pd\n",
    "import numpy as np"
   ]
  },
  {
   "cell_type": "code",
   "execution_count": 44,
   "id": "92e3296a-1997-4cf9-aa2d-df67c886678a",
   "metadata": {},
   "outputs": [],
   "source": [
    "import yaml\n",
    "\n",
    "with open(\"pipeline.yaml\", 'r') as stream:\n",
    "    pipeline = yaml.safe_load(stream)"
   ]
  },
  {
   "cell_type": "code",
   "execution_count": 11,
   "id": "eb17615c-4aad-4eef-b5bb-8bb5b54e0e5d",
   "metadata": {},
   "outputs": [],
   "source": [
    "def extend_path(path, *keys):\n",
    "    return '.'.join((path,) + keys)"
   ]
  },
  {
   "cell_type": "code",
   "execution_count": 9,
   "id": "7f713ea7-e15b-4920-8476-8d53bde64081",
   "metadata": {},
   "outputs": [],
   "source": [
    "def assert_list(arg, path):\n",
    "    if not isinstance(arg, list):\n",
    "        raise TypeError(f\"Key \\\"{path}\\\" must be a list\")\n",
    "        \n",
    "def assert_dict(arg, path):\n",
    "    if not isinstance(arg, dict):\n",
    "        raise TypeError(f\"Key \\\"{path}\\\" must be a dict\")\n",
    "        \n",
    "def assert_value(arg, path):\n",
    "    if isinstance(arg, (list, dict)):\n",
    "        raise TypeError(f\"Key \\\"{path}\\\" must be a single value\")"
   ]
  },
  {
   "cell_type": "code",
   "execution_count": 47,
   "id": "8529cdda-876c-4f6d-8a3e-e0279ee791b3",
   "metadata": {},
   "outputs": [],
   "source": [
    "from vectorbt.utils.attr import deep_getattr\n",
    "\n",
    "def import_obj(name, scope, path):\n",
    "    if '.' in name:\n",
    "        components = name.split('.')\n",
    "    else:\n",
    "        components = [name]\n",
    "    first_component = components[0]\n",
    "    if first_component in scope:\n",
    "        obj = scope[first_component]\n",
    "    elif hasattr(vbt, first_component):\n",
    "        obj = getattr(vbt, first_component)\n",
    "    elif hasattr(pd, first_component):\n",
    "        obj = getattr(pd, first_component)\n",
    "    elif hasattr(np, first_component):\n",
    "        obj = getattr(np, first_component)\n",
    "    else:\n",
    "        try:\n",
    "            obj = __import__(first_component)\n",
    "        except ImportError:\n",
    "            raise ValueError(f\"\\\"{path}\\\": Cannot import \\\"{name}\\\"\")\n",
    "    for component in components[1:]:\n",
    "        obj = deep_getattr(obj, component)\n",
    "    return obj"
   ]
  },
  {
   "cell_type": "code",
   "execution_count": 20,
   "id": "491eda2d-51e8-4872-8bf6-942023fab4bd",
   "metadata": {},
   "outputs": [],
   "source": [
    "def parse_args_kwargs(cfg, path):\n",
    "    args = cfg.pop('_args', ())\n",
    "    assert_list(args, extend_path(path, '_args'))\n",
    "    return args, cfg"
   ]
  },
  {
   "cell_type": "code",
   "execution_count": 42,
   "id": "0c5d1186-9ff7-4bde-93e0-5b32f125ad3d",
   "metadata": {},
   "outputs": [],
   "source": [
    "from vectorbt.base.reshape_fns import to_pd_array\n",
    "\n",
    "def parse_data(value, scope, path):\n",
    "    def_type_str = 'YFData'\n",
    "    if isinstance(value, dict):\n",
    "        type_str = value.pop('type', default_type_str)\n",
    "        cls = import_obj(type_str, extend_path(path, 'type'))\n",
    "        args, kwargs = parse_args_kwargs(value, path)\n",
    "        return cls.download(*args, **kwargs)\n",
    "    elif isinstance(value, list):\n",
    "        data = to_pd_array(value)\n",
    "    return import_obj(def_type_str, scope, path).download(value)"
   ]
  },
  {
   "cell_type": "code",
   "execution_count": 45,
   "id": "f002c18e-7c5b-4d95-a783-7ae22ee32449",
   "metadata": {},
   "outputs": [],
   "source": [
    "def run_pipeline_config(cfg, reset_settings=True):\n",
    "    scope = dict()\n",
    "    if reset_settings:\n",
    "        settings_dumps = vbt.settings.dumps()\n",
    "\n",
    "    for k, v in pipeline.items():\n",
    "        if k.lower() == 'settings':\n",
    "            vbt.settings.update(v)\n",
    "        elif k.lower() == 'data':\n",
    "            scope['data'] = parse_data(v, scope, k)\n",
    "\n",
    "    if reset_settings:\n",
    "        vbt.settings.loads(settings_dumps)"
   ]
  },
  {
   "cell_type": "code",
   "execution_count": 10,
   "id": "801da01a-5ea4-4fb2-ae2e-f2b63d37296e",
   "metadata": {},
   "outputs": [
    {
     "data": {
      "text/plain": [
       "{'a': 2, 'b': {'c': 3}}"
      ]
     },
     "execution_count": 10,
     "metadata": {},
     "output_type": "execute_result"
    }
   ],
   "source": [
    "vbt.Config(dict(a=2), b=dict(c=3))"
   ]
  },
  {
   "cell_type": "code",
   "execution_count": null,
   "id": "90c0f6b1-308e-4807-8002-c12c4270d5e7",
   "metadata": {},
   "outputs": [],
   "source": []
  }
 ],
 "metadata": {
  "kernelspec": {
   "display_name": "Python 3",
   "language": "python",
   "name": "python3"
  },
  "language_info": {
   "codemirror_mode": {
    "name": "ipython",
    "version": 3
   },
   "file_extension": ".py",
   "mimetype": "text/x-python",
   "name": "python",
   "nbconvert_exporter": "python",
   "pygments_lexer": "ipython3",
   "version": "3.7.3"
  }
 },
 "nbformat": 4,
 "nbformat_minor": 5
}
