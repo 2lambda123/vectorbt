{
 "cells": [
  {
   "cell_type": "code",
   "execution_count": 1,
   "metadata": {},
   "outputs": [],
   "source": [
    "import vectorbt as vbt\n",
    "from vectorbt.portfolio.enums import InitCashMode\n",
    "import numpy as np\n",
    "import pandas as pd\n",
    "\n",
    "price = pd.Series([1., 2., 3., 4.])\n",
    "orders = pd.DataFrame({\n",
    "    'a': np.array([1., 1., 1., 1.]),\n",
    "    'b': np.array([-1., -1., -1., -1.]),\n",
    "    'c': np.array([1., 0.1, -1., -0.1]),\n",
    "    'd': np.array([-1., -0.1, 1., 0.1]),\n",
    "    'e': np.array([1., -2., 2., -2.])\n",
    "})\n",
    "\n",
    "portfolio = vbt.Portfolio.from_orders(\n",
    "    price, \n",
    "    orders, \n",
    "    init_cash=InitCashMode.Auto\n",
    ")\n",
    "portfolio_grouped = vbt.Portfolio.from_orders(\n",
    "    price, \n",
    "    orders, \n",
    "    init_cash=InitCashMode.Auto,\n",
    "    group_by=np.array([0, 0, 1, 1, 2])\n",
    ")\n",
    "portfolio_shared = vbt.Portfolio.from_orders(\n",
    "    price, \n",
    "    orders, \n",
    "    init_cash=InitCashMode.Auto,\n",
    "    group_by=np.array([0, 0, 1, 1, 2]), \n",
    "    cash_sharing=True\n",
    ")"
   ]
  },
  {
   "cell_type": "code",
   "execution_count": 2,
   "metadata": {},
   "outputs": [
    {
     "name": "stdout",
     "output_type": "stream",
     "text": [
      "    col  idx  size  price  fees  side\n",
      "0     0    0   1.0    1.0   0.0     0\n",
      "1     0    1   1.0    2.0   0.0     0\n",
      "2     0    2   1.0    3.0   0.0     0\n",
      "3     0    3   1.0    4.0   0.0     0\n",
      "4     1    0   1.0    1.0   0.0     1\n",
      "5     1    1   1.0    2.0   0.0     1\n",
      "6     1    2   1.0    3.0   0.0     1\n",
      "7     1    3   1.0    4.0   0.0     1\n",
      "8     2    0   1.0    1.0   0.0     0\n",
      "9     2    1   0.1    2.0   0.0     0\n",
      "10    2    2   1.0    3.0   0.0     1\n",
      "11    2    3   0.1    4.0   0.0     1\n",
      "12    3    0   1.0    1.0   0.0     1\n",
      "13    3    1   0.1    2.0   0.0     1\n",
      "14    3    2   1.0    3.0   0.0     0\n",
      "15    3    3   0.1    4.0   0.0     0\n",
      "16    4    0   1.0    1.0   0.0     0\n",
      "17    4    1   2.0    2.0   0.0     1\n",
      "18    4    2   2.0    3.0   0.0     0\n",
      "19    4    3   2.0    4.0   0.0     1\n",
      "    col  idx  size  price  fees  side\n",
      "0     0    0   1.0    1.0   0.0     0\n",
      "1     0    1   1.0    2.0   0.0     0\n",
      "2     0    2   1.0    3.0   0.0     0\n",
      "3     0    3   1.0    4.0   0.0     0\n",
      "4     1    0   1.0    1.0   0.0     1\n",
      "5     1    1   1.0    2.0   0.0     1\n",
      "6     1    2   1.0    3.0   0.0     1\n",
      "7     1    3   1.0    4.0   0.0     1\n",
      "8     2    0   1.0    1.0   0.0     0\n",
      "9     2    1   0.1    2.0   0.0     0\n",
      "10    2    2   1.0    3.0   0.0     1\n",
      "11    2    3   0.1    4.0   0.0     1\n",
      "12    3    0   1.0    1.0   0.0     1\n",
      "13    3    1   0.1    2.0   0.0     1\n",
      "14    3    2   1.0    3.0   0.0     0\n",
      "15    3    3   0.1    4.0   0.0     0\n",
      "16    4    0   1.0    1.0   0.0     0\n",
      "17    4    1   2.0    2.0   0.0     1\n",
      "18    4    2   2.0    3.0   0.0     0\n",
      "19    4    3   2.0    4.0   0.0     1\n",
      "    col  idx  size  price  fees  side\n",
      "0     0    0   1.0    1.0   0.0     0\n",
      "1     0    1   1.0    2.0   0.0     0\n",
      "2     0    2   1.0    3.0   0.0     0\n",
      "3     0    3   1.0    4.0   0.0     0\n",
      "4     1    0   1.0    1.0   0.0     1\n",
      "5     1    1   1.0    2.0   0.0     1\n",
      "6     1    2   1.0    3.0   0.0     1\n",
      "7     1    3   1.0    4.0   0.0     1\n",
      "8     2    0   1.0    1.0   0.0     0\n",
      "9     2    1   0.1    2.0   0.0     0\n",
      "10    2    2   1.0    3.0   0.0     1\n",
      "11    2    3   0.1    4.0   0.0     1\n",
      "12    3    0   1.0    1.0   0.0     1\n",
      "13    3    1   0.1    2.0   0.0     1\n",
      "14    3    2   1.0    3.0   0.0     0\n",
      "15    3    3   0.1    4.0   0.0     0\n",
      "16    4    0   1.0    1.0   0.0     0\n",
      "17    4    1   2.0    2.0   0.0     1\n",
      "18    4    2   2.0    3.0   0.0     0\n",
      "19    4    3   2.0    4.0   0.0     1\n"
     ]
    }
   ],
   "source": [
    "print(portfolio.orders().records)\n",
    "print(portfolio_grouped.orders().records)\n",
    "print(portfolio_shared.orders().records)"
   ]
  },
  {
   "cell_type": "code",
   "execution_count": 3,
   "metadata": {},
   "outputs": [
    {
     "name": "stdout",
     "output_type": "stream",
     "text": [
      "     a    b    c    d    e\n",
      "0  1.0 -1.0  1.0 -1.0  1.0\n",
      "1  1.0 -1.0  0.1 -0.1 -2.0\n",
      "2  1.0 -1.0 -1.0  1.0  2.0\n",
      "3  1.0 -1.0 -0.1  0.1 -2.0\n",
      "     a    b    c    d    e\n",
      "0  1.0 -1.0  1.0 -1.0  1.0\n",
      "1  1.0 -1.0  0.1 -0.1 -2.0\n",
      "2  1.0 -1.0 -1.0  1.0  2.0\n",
      "3  1.0 -1.0 -0.1  0.1 -2.0\n",
      "     a    b    c    d    e\n",
      "0  1.0 -1.0  1.0 -1.0  1.0\n",
      "1  1.0 -1.0  0.1 -0.1 -2.0\n",
      "2  1.0 -1.0 -1.0  1.0  2.0\n",
      "3  1.0 -1.0 -0.1  0.1 -2.0\n"
     ]
    }
   ],
   "source": [
    "print(portfolio.share_flow())\n",
    "print(portfolio_grouped.share_flow())\n",
    "print(portfolio_shared.share_flow())"
   ]
  },
  {
   "cell_type": "code",
   "execution_count": 4,
   "metadata": {},
   "outputs": [
    {
     "name": "stdout",
     "output_type": "stream",
     "text": [
      "     a    b    c    d    e\n",
      "0  1.0 -1.0  1.0 -1.0  1.0\n",
      "1  2.0 -2.0  1.1 -1.1 -1.0\n",
      "2  3.0 -3.0  0.1 -0.1  1.0\n",
      "3  4.0 -4.0  0.0  0.0 -1.0\n",
      "     a    b    c    d    e\n",
      "0  1.0 -1.0  1.0 -1.0  1.0\n",
      "1  2.0 -2.0  1.1 -1.1 -1.0\n",
      "2  3.0 -3.0  0.1 -0.1  1.0\n",
      "3  4.0 -4.0  0.0  0.0 -1.0\n",
      "     a    b    c    d    e\n",
      "0  1.0 -1.0  1.0 -1.0  1.0\n",
      "1  2.0 -2.0  1.1 -1.1 -1.0\n",
      "2  3.0 -3.0  0.1 -0.1  1.0\n",
      "3  4.0 -4.0  0.0  0.0 -1.0\n"
     ]
    }
   ],
   "source": [
    "print(portfolio.shares())\n",
    "print(portfolio_grouped.shares())\n",
    "print(portfolio_shared.shares())"
   ]
  },
  {
   "cell_type": "code",
   "execution_count": 5,
   "metadata": {},
   "outputs": [
    {
     "name": "stdout",
     "output_type": "stream",
     "text": [
      "      a     b      c      d     e\n",
      "0  True  True   True   True  True\n",
      "1  True  True   True   True  True\n",
      "2  True  True   True   True  True\n",
      "3  True  True  False  False  True\n",
      "      0      1     2\n",
      "0  True   True  True\n",
      "1  True   True  True\n",
      "2  True   True  True\n",
      "3  True  False  True\n",
      "      0      1     2\n",
      "0  True   True  True\n",
      "1  True   True  True\n",
      "2  True   True  True\n",
      "3  True  False  True\n"
     ]
    }
   ],
   "source": [
    "print(portfolio.pos_mask())\n",
    "print(portfolio_grouped.pos_mask())\n",
    "print(portfolio_shared.pos_mask())"
   ]
  },
  {
   "cell_type": "code",
   "execution_count": 6,
   "metadata": {},
   "outputs": [
    {
     "name": "stdout",
     "output_type": "stream",
     "text": [
      "      a      b      c      d      e\n",
      "0  True  False   True  False   True\n",
      "1  True  False   True  False  False\n",
      "2  True  False   True  False   True\n",
      "3  True  False  False  False  False\n",
      "      0      1      2\n",
      "0  True   True   True\n",
      "1  True   True  False\n",
      "2  True   True   True\n",
      "3  True  False  False\n",
      "      0      1      2\n",
      "0  True   True   True\n",
      "1  True   True  False\n",
      "2  True   True   True\n",
      "3  True  False  False\n"
     ]
    }
   ],
   "source": [
    "print(portfolio.long_pos_mask())\n",
    "print(portfolio_grouped.long_pos_mask())\n",
    "print(portfolio_shared.long_pos_mask())"
   ]
  },
  {
   "cell_type": "code",
   "execution_count": 7,
   "metadata": {},
   "outputs": [
    {
     "name": "stdout",
     "output_type": "stream",
     "text": [
      "       a     b      c      d      e\n",
      "0  False  True  False   True  False\n",
      "1  False  True  False   True   True\n",
      "2  False  True  False   True  False\n",
      "3  False  True  False  False   True\n",
      "      0      1      2\n",
      "0  True   True  False\n",
      "1  True   True   True\n",
      "2  True   True  False\n",
      "3  True  False   True\n",
      "      0      1      2\n",
      "0  True   True  False\n",
      "1  True   True   True\n",
      "2  True   True  False\n",
      "3  True  False   True\n"
     ]
    }
   ],
   "source": [
    "print(portfolio.short_pos_mask())\n",
    "print(portfolio_grouped.short_pos_mask())\n",
    "print(portfolio_shared.short_pos_mask())"
   ]
  },
  {
   "cell_type": "code",
   "execution_count": 8,
   "metadata": {},
   "outputs": [
    {
     "name": "stdout",
     "output_type": "stream",
     "text": [
      "a    1.00\n",
      "b    1.00\n",
      "c    0.75\n",
      "d    0.75\n",
      "e    1.00\n",
      "dtype: float64\n",
      "0    1.00\n",
      "1    0.75\n",
      "2    1.00\n",
      "dtype: float64\n",
      "0    1.00\n",
      "1    0.75\n",
      "2    1.00\n",
      "dtype: float64\n"
     ]
    }
   ],
   "source": [
    "print(portfolio.pos_coverage())\n",
    "print(portfolio_grouped.pos_coverage())\n",
    "print(portfolio_shared.pos_coverage())"
   ]
  },
  {
   "cell_type": "code",
   "execution_count": 9,
   "metadata": {},
   "outputs": [
    {
     "name": "stdout",
     "output_type": "stream",
     "text": [
      "a    1.00\n",
      "b    0.00\n",
      "c    0.75\n",
      "d    0.00\n",
      "e    0.50\n",
      "dtype: float64\n",
      "0    0.500\n",
      "1    0.375\n",
      "2    0.500\n",
      "dtype: float64\n",
      "0    0.500\n",
      "1    0.375\n",
      "2    0.500\n",
      "dtype: float64\n"
     ]
    }
   ],
   "source": [
    "print(portfolio.long_pos_coverage())\n",
    "print(portfolio_grouped.long_pos_coverage())\n",
    "print(portfolio_shared.long_pos_coverage())"
   ]
  },
  {
   "cell_type": "code",
   "execution_count": 10,
   "metadata": {},
   "outputs": [
    {
     "name": "stdout",
     "output_type": "stream",
     "text": [
      "a    0.00\n",
      "b    1.00\n",
      "c    0.00\n",
      "d    0.75\n",
      "e    0.50\n",
      "dtype: float64\n",
      "0    0.500\n",
      "1    0.375\n",
      "2    0.500\n",
      "dtype: float64\n",
      "0    0.500\n",
      "1    0.375\n",
      "2    0.500\n",
      "dtype: float64\n"
     ]
    }
   ],
   "source": [
    "print(portfolio.short_pos_coverage())\n",
    "print(portfolio_grouped.short_pos_coverage())\n",
    "print(portfolio_shared.short_pos_coverage())"
   ]
  },
  {
   "cell_type": "code",
   "execution_count": 11,
   "metadata": {},
   "outputs": [
    {
     "name": "stdout",
     "output_type": "stream",
     "text": [
      "     a    b    c    d    e\n",
      "0 -1.0  1.0 -1.0  1.0 -1.0\n",
      "1 -2.0  2.0 -0.2  0.2  4.0\n",
      "2 -3.0  3.0  3.0 -3.0 -6.0\n",
      "3 -4.0  4.0  0.4 -0.4  8.0\n",
      "     0    1    2\n",
      "0  0.0  0.0 -1.0\n",
      "1  0.0  0.0  4.0\n",
      "2  0.0  0.0 -6.0\n",
      "3  0.0  0.0  8.0\n",
      "     0    1    2\n",
      "0  0.0  0.0 -1.0\n",
      "1  0.0  0.0  4.0\n",
      "2  0.0  0.0 -6.0\n",
      "3  0.0  0.0  8.0\n"
     ]
    }
   ],
   "source": [
    "print(portfolio.cash_flow())\n",
    "print(portfolio_grouped.cash_flow())\n",
    "print(portfolio_shared.cash_flow())"
   ]
  },
  {
   "cell_type": "code",
   "execution_count": 12,
   "metadata": {},
   "outputs": [
    {
     "name": "stdout",
     "output_type": "stream",
     "text": [
      "a    10.0\n",
      "b     1.0\n",
      "c     1.2\n",
      "d     2.2\n",
      "e     3.0\n",
      "dtype: float64\n",
      "0    1.0\n",
      "1    1.0\n",
      "2    3.0\n",
      "dtype: float64\n",
      "0    1.0\n",
      "1    1.0\n",
      "2    3.0\n",
      "dtype: float64\n"
     ]
    }
   ],
   "source": [
    "print(portfolio.init_cash())\n",
    "print(portfolio_grouped.init_cash())\n",
    "print(portfolio_shared.init_cash())"
   ]
  },
  {
   "cell_type": "code",
   "execution_count": 13,
   "metadata": {},
   "outputs": [
    {
     "name": "stdout",
     "output_type": "stream",
     "text": [
      "     a     b    c    d    e\n",
      "0  9.0   2.0  0.2  3.2  2.0\n",
      "1  7.0   4.0  0.0  3.4  6.0\n",
      "2  4.0   7.0  3.0  0.4  0.0\n",
      "3  0.0  11.0  3.4  0.0  8.0\n",
      "     0    1    2\n",
      "0  1.0  1.0  2.0\n",
      "1  1.0  1.0  6.0\n",
      "2  1.0  1.0  0.0\n",
      "3  1.0  1.0  8.0\n",
      "     0    1    2\n",
      "0  1.0  1.0  2.0\n",
      "1  1.0  1.0  6.0\n",
      "2  1.0  1.0  0.0\n",
      "3  1.0  1.0  8.0\n"
     ]
    }
   ],
   "source": [
    "print(portfolio.cash())\n",
    "print(portfolio_grouped.cash())\n",
    "print(portfolio_shared.cash())"
   ]
  },
  {
   "cell_type": "code",
   "execution_count": 14,
   "metadata": {},
   "outputs": [
    {
     "name": "stdout",
     "output_type": "stream",
     "text": [
      "      a     b    c    d    e\n",
      "0   1.0  -1.0  1.0 -1.0  1.0\n",
      "1   4.0  -4.0  2.2 -2.2 -2.0\n",
      "2   9.0  -9.0  0.3 -0.3  3.0\n",
      "3  16.0 -16.0  0.0  0.0 -4.0\n",
      "     0    1    2\n",
      "0  0.0  0.0  1.0\n",
      "1  0.0  0.0 -2.0\n",
      "2  0.0  0.0  3.0\n",
      "3  0.0  0.0 -4.0\n",
      "     0    1    2\n",
      "0  0.0  0.0  1.0\n",
      "1  0.0  0.0 -2.0\n",
      "2  0.0  0.0  3.0\n",
      "3  0.0  0.0 -4.0\n"
     ]
    }
   ],
   "source": [
    "print(portfolio.holding_value())\n",
    "print(portfolio_grouped.holding_value())\n",
    "print(portfolio_shared.holding_value())"
   ]
  },
  {
   "cell_type": "code",
   "execution_count": 15,
   "metadata": {},
   "outputs": [
    {
     "name": "stdout",
     "output_type": "stream",
     "text": [
      "      a    b    c    d    e\n",
      "0  10.0  1.0  1.2  2.2  3.0\n",
      "1  11.0  0.0  2.2  1.2  4.0\n",
      "2  13.0 -2.0  3.3  0.1  3.0\n",
      "3  16.0 -5.0  3.4  0.0  4.0\n",
      "     0    1    2\n",
      "0  1.0  1.0  3.0\n",
      "1  1.0  1.0  4.0\n",
      "2  1.0  1.0  3.0\n",
      "3  1.0  1.0  4.0\n",
      "     0    1    2\n",
      "0  1.0  1.0  3.0\n",
      "1  1.0  1.0  4.0\n",
      "2  1.0  1.0  3.0\n",
      "3  1.0  1.0  4.0\n"
     ]
    }
   ],
   "source": [
    "print(portfolio.value())\n",
    "print(portfolio_grouped.value())\n",
    "print(portfolio_shared.value())"
   ]
  },
  {
   "cell_type": "code",
   "execution_count": 16,
   "metadata": {},
   "outputs": [
    {
     "name": "stdout",
     "output_type": "stream",
     "text": [
      "a    6.0\n",
      "b   -6.0\n",
      "c    2.2\n",
      "d   -2.2\n",
      "e    1.0\n",
      "dtype: float64\n",
      "0    0.0\n",
      "1    0.0\n",
      "2    1.0\n",
      "dtype: float64\n",
      "0    0.0\n",
      "1    0.0\n",
      "2    1.0\n",
      "dtype: float64\n"
     ]
    }
   ],
   "source": [
    "print(portfolio.total_profit())\n",
    "print(portfolio_grouped.total_profit())\n",
    "print(portfolio_shared.total_profit())"
   ]
  },
  {
   "cell_type": "code",
   "execution_count": 17,
   "metadata": {},
   "outputs": [
    {
     "name": "stdout",
     "output_type": "stream",
     "text": [
      "a    16.0\n",
      "b    -5.0\n",
      "c     3.4\n",
      "d     0.0\n",
      "e     4.0\n",
      "dtype: float64\n",
      "0    1.0\n",
      "1    1.0\n",
      "2    4.0\n",
      "dtype: float64\n",
      "0    1.0\n",
      "1    1.0\n",
      "2    4.0\n",
      "dtype: float64\n"
     ]
    }
   ],
   "source": [
    "print(portfolio.final_value())\n",
    "print(portfolio_grouped.final_value())\n",
    "print(portfolio_shared.final_value())"
   ]
  },
  {
   "cell_type": "code",
   "execution_count": 18,
   "metadata": {},
   "outputs": [
    {
     "name": "stdout",
     "output_type": "stream",
     "text": [
      "a    10.0\n",
      "b     1.0\n",
      "c     1.2\n",
      "d     2.2\n",
      "e     3.0\n",
      "dtype: float64\n"
     ]
    }
   ],
   "source": [
    "print(portfolio.init_cash())"
   ]
  },
  {
   "cell_type": "code",
   "execution_count": 19,
   "metadata": {},
   "outputs": [
    {
     "name": "stdout",
     "output_type": "stream",
     "text": [
      "a    6.0\n",
      "b   -6.0\n",
      "c    2.2\n",
      "d   -2.2\n",
      "e    1.0\n",
      "dtype: float64\n"
     ]
    }
   ],
   "source": [
    "print(portfolio.total_profit())"
   ]
  },
  {
   "cell_type": "code",
   "execution_count": 20,
   "metadata": {},
   "outputs": [
    {
     "name": "stdout",
     "output_type": "stream",
     "text": [
      "a    0.600000\n",
      "b   -6.000000\n",
      "c    1.833333\n",
      "d   -1.000000\n",
      "e    0.333333\n",
      "dtype: float64\n",
      "0    0.000000\n",
      "1    0.000000\n",
      "2    0.333333\n",
      "dtype: float64\n",
      "0    0.000000\n",
      "1    0.000000\n",
      "2    0.333333\n",
      "dtype: float64\n"
     ]
    }
   ],
   "source": [
    "print(portfolio.total_return())\n",
    "print(portfolio_grouped.total_return())\n",
    "print(portfolio_shared.total_return())"
   ]
  },
  {
   "cell_type": "code",
   "execution_count": 21,
   "metadata": {},
   "outputs": [
    {
     "name": "stdout",
     "output_type": "stream",
     "text": [
      "          a    b         c         d         e\n",
      "0  0.000000  0.0  0.000000  0.000000  0.000000\n",
      "1  0.100000 -1.0  0.833333 -0.454545  0.333333\n",
      "2  0.181818 -inf  0.500000 -0.916667 -0.250000\n",
      "3  0.230769 -1.5  0.030303 -1.000000  0.333333\n",
      "     0    1         2\n",
      "0  0.0  0.0  0.000000\n",
      "1  0.0  0.0  0.333333\n",
      "2  0.0  0.0 -0.250000\n",
      "3  0.0  0.0  0.333333\n",
      "     0    1         2\n",
      "0  0.0  0.0  0.000000\n",
      "1  0.0  0.0  0.333333\n",
      "2  0.0  0.0 -0.250000\n",
      "3  0.0  0.0  0.333333\n"
     ]
    }
   ],
   "source": [
    "print(portfolio.returns())\n",
    "print(portfolio_grouped.returns())\n",
    "print(portfolio_shared.returns())"
   ]
  },
  {
   "cell_type": "code",
   "execution_count": 22,
   "metadata": {},
   "outputs": [
    {
     "name": "stdout",
     "output_type": "stream",
     "text": [
      "          a         b         c         d         e\n",
      "0  0.000000  0.000000  0.000000  0.000000  0.000000\n",
      "1  1.000000 -1.000000  1.000000 -1.000000  1.000000\n",
      "2  0.500000 -0.500000  0.500000 -0.500000 -0.500000\n",
      "3  0.333333 -0.333333  0.333333 -0.333333  0.333333\n",
      "     0    1         2\n",
      "0  0.0  0.0  0.000000\n",
      "1  0.0  0.0  1.000000\n",
      "2  0.0  0.0 -0.500000\n",
      "3  0.0  0.0  0.333333\n",
      "     0    1         2\n",
      "0  0.0  0.0  0.000000\n",
      "1  0.0  0.0  1.000000\n",
      "2  0.0  0.0 -0.500000\n",
      "3  0.0  0.0  0.333333\n"
     ]
    }
   ],
   "source": [
    "print(portfolio.active_returns())\n",
    "print(portfolio_grouped.active_returns())\n",
    "print(portfolio_shared.active_returns())"
   ]
  },
  {
   "cell_type": "code",
   "execution_count": 23,
   "metadata": {},
   "outputs": [
    {
     "name": "stdout",
     "output_type": "stream",
     "text": [
      "a    3.0\n",
      "b    3.0\n",
      "c    3.0\n",
      "d    3.0\n",
      "e    3.0\n",
      "dtype: float64\n",
      "0    3.0\n",
      "1    3.0\n",
      "2    3.0\n",
      "dtype: float64\n",
      "0    3.0\n",
      "1    3.0\n",
      "2    3.0\n",
      "dtype: float64\n"
     ]
    }
   ],
   "source": [
    "print(portfolio.buy_and_hold_return())\n",
    "print(portfolio_grouped.buy_and_hold_return())\n",
    "print(portfolio_shared.buy_and_hold_return())"
   ]
  },
  {
   "cell_type": "code",
   "execution_count": null,
   "metadata": {},
   "outputs": [],
   "source": []
  },
  {
   "cell_type": "code",
   "execution_count": null,
   "metadata": {},
   "outputs": [],
   "source": []
  },
  {
   "cell_type": "code",
   "execution_count": 163,
   "metadata": {},
   "outputs": [
    {
     "ename": "ValueError",
     "evalue": "Size cannot be both negative and infinite",
     "output_type": "error",
     "traceback": [
      "\u001b[0;31m---------------------------------------------------------------------------\u001b[0m",
      "\u001b[0;31mValueError\u001b[0m                                Traceback (most recent call last)",
      "\u001b[0;32m<ipython-input-163-43d376418464>\u001b[0m in \u001b[0;36m<module>\u001b[0;34m\u001b[0m\n\u001b[1;32m    113\u001b[0m     \u001b[0mshares_now\u001b[0m\u001b[0;34m,\u001b[0m\u001b[0;34m\u001b[0m\u001b[0;34m\u001b[0m\u001b[0m\n\u001b[1;32m    114\u001b[0m     \u001b[0morder\u001b[0m\u001b[0;34m,\u001b[0m\u001b[0;34m\u001b[0m\u001b[0;34m\u001b[0m\u001b[0m\n\u001b[0;32m--> 115\u001b[0;31m     \u001b[0mmin_size\u001b[0m\u001b[0;34m\u001b[0m\u001b[0;34m\u001b[0m\u001b[0m\n\u001b[0m\u001b[1;32m    116\u001b[0m )\n",
      "\u001b[0;32m<ipython-input-163-43d376418464>\u001b[0m in \u001b[0;36mprocess_order_nb\u001b[0;34m(cash_now, shares_now, order, min_size)\u001b[0m\n\u001b[1;32m     82\u001b[0m     \u001b[0;32mif\u001b[0m \u001b[0msize\u001b[0m \u001b[0;34m<\u001b[0m \u001b[0;36m0\u001b[0m\u001b[0;34m:\u001b[0m\u001b[0;34m\u001b[0m\u001b[0;34m\u001b[0m\u001b[0m\n\u001b[1;32m     83\u001b[0m         \u001b[0;32mif\u001b[0m \u001b[0mnp\u001b[0m\u001b[0;34m.\u001b[0m\u001b[0misinf\u001b[0m\u001b[0;34m(\u001b[0m\u001b[0msize\u001b[0m\u001b[0;34m)\u001b[0m\u001b[0;34m:\u001b[0m\u001b[0;34m\u001b[0m\u001b[0;34m\u001b[0m\u001b[0m\n\u001b[0;32m---> 84\u001b[0;31m             \u001b[0;32mraise\u001b[0m \u001b[0mValueError\u001b[0m\u001b[0;34m(\u001b[0m\u001b[0;34m\"Size cannot be both negative and infinite\"\u001b[0m\u001b[0;34m)\u001b[0m\u001b[0;34m\u001b[0m\u001b[0;34m\u001b[0m\u001b[0m\n\u001b[0m\u001b[1;32m     85\u001b[0m \u001b[0;34m\u001b[0m\u001b[0m\n\u001b[1;32m     86\u001b[0m         return sell_shares_nb(\n",
      "\u001b[0;31mValueError\u001b[0m: Size cannot be both negative and infinite"
     ]
    }
   ],
   "source": [
    "import vectorbt as vbt\n",
    "import numpy as np\n",
    "from numba import njit\n",
    "\n",
    "from vectorbt.utils.math import is_close_nb\n",
    "from vectorbt.generic import nb as generic_nb\n",
    "from vectorbt.portfolio.enums import (\n",
    "    SizeType,\n",
    "    Order,\n",
    "    OrderStatus,\n",
    "    OrderResult,\n",
    "    RejectedOrder\n",
    ")\n",
    "from vectorbt.records.enums import (\n",
    "    OrderSide\n",
    ")\n",
    "from vectorbt.portfolio.nb import buy_shares_nb, sell_shares_nb\n",
    "\n",
    "def process_order_nb(cash_now, shares_now, order, min_size):\n",
    "    \"\"\"Process an order given current cash and share balance.\"\"\"\n",
    "    if np.isnan(order.size) or np.isnan(order.price):\n",
    "        return cash_now, shares_now, RejectedOrder\n",
    "\n",
    "    # Check order\n",
    "    if cash_now < 0:\n",
    "        raise ValueError(\"Current cash must be greater than 0\")\n",
    "    if not np.isfinite(order.price) or order.price <= 0:\n",
    "        raise ValueError(\"Price must be finite and greater than 0\")\n",
    "    if not np.isfinite(order.fees) or order.fees < 0:\n",
    "        raise ValueError(\"Fees must be finite and 0 or greater\")\n",
    "    if not np.isfinite(order.fixed_fees) or order.fixed_fees < 0:\n",
    "        raise ValueError(\"Fixed fees must be finite and 0 or greater\")\n",
    "    if not np.isfinite(order.slippage) or order.slippage < 0:\n",
    "        raise ValueError(\"Slippage must be finite and 0 or greater\")\n",
    "    if not np.isfinite(order.reject_prob) or order.reject_prob < 0 or order.reject_prob > 1:\n",
    "        raise ValueError(\"Rejection probability must be between 0 and 1\")\n",
    "    if not np.isfinite(min_size) or min_size < 0:\n",
    "        raise ValueError(\"Minimum size must be finite and 0 or greater\")\n",
    "\n",
    "    # Convert target size to shares\n",
    "    size = order.size\n",
    "    if order.size_type == SizeType.TargetShares:\n",
    "        # Target amount of shares\n",
    "        size = order.size - shares_now\n",
    "        \n",
    "    elif order.size_type == SizeType.TargetValue:\n",
    "        # Value in monetary units of the asset\n",
    "        target_value = order.size\n",
    "        current_value = shares_now * order.price\n",
    "        size = (target_value - current_value) / order.price\n",
    "        \n",
    "    elif order.size_type == SizeType.TargetPercent:\n",
    "        # Percentage from current value that can be moved by this asset\n",
    "        # Not to confuse with group value!\n",
    "        target_perc = order.size\n",
    "        current_value = shares_now * order.price\n",
    "        current_total_value = cash_now + current_value\n",
    "        target_value = target_perc * current_total_value\n",
    "        size = (target_value - current_value) / order.price\n",
    "\n",
    "    if abs(size) < min_size:\n",
    "        return cash_now, shares_now, RejectedOrder\n",
    "\n",
    "    if order.reject_prob > 0:\n",
    "        if np.random.uniform(0, 1) < order.reject_prob:\n",
    "            return cash_now, shares_now, RejectedOrder\n",
    "\n",
    "    if size > 0 and cash_now > 0:\n",
    "        if np.isinf(size):\n",
    "            if np.isinf(cash_now):\n",
    "                raise ValueError(\"Size and current cash cannot be both infinite\")\n",
    "\n",
    "        return buy_shares_nb(\n",
    "            cash_now,\n",
    "            shares_now,\n",
    "            order.price,\n",
    "            size,\n",
    "            order.fees,\n",
    "            order.fixed_fees,\n",
    "            order.slippage\n",
    "        )\n",
    "    if size < 0:\n",
    "        if np.isinf(size):\n",
    "            raise ValueError(\"Size cannot be both negative and infinite\")\n",
    "\n",
    "        return sell_shares_nb(\n",
    "            cash_now,\n",
    "            shares_now,\n",
    "            order.price,\n",
    "            -size,\n",
    "            order.fees,\n",
    "            order.fixed_fees,\n",
    "            order.slippage\n",
    "        )\n",
    "\n",
    "    return cash_now, shares_now, RejectedOrder\n",
    "\n",
    "cash_now = 200.\n",
    "shares_now = 10.\n",
    "order = Order(\n",
    "    size=-np.inf,\n",
    "    size_type=SizeType.Shares,\n",
    "    price=20.,\n",
    "    fees=0.,\n",
    "    fixed_fees=0.,\n",
    "    slippage=0.,\n",
    "    reject_prob=0.\n",
    ")\n",
    "min_size = 1e-8\n",
    "\n",
    "process_order_nb(\n",
    "    cash_now,\n",
    "    shares_now,\n",
    "    order,\n",
    "    min_size\n",
    ")"
   ]
  },
  {
   "cell_type": "code",
   "execution_count": 35,
   "metadata": {},
   "outputs": [
    {
     "name": "stdout",
     "output_type": "stream",
     "text": [
      "Starting Portfolio Value: 100.0000\n",
      "   data   cash  size  value  total_value\n",
      "0  40.0  100.0     0    0.0        100.0\n",
      "2020-01-02, SELL EXECUTED, Price: 40.0000, Cost: -400000000.0000, Comm 2000000.000000\n",
      "   data         cash      size        value  total_value\n",
      "0  40.0  398000100.0 -10000000 -400000000.0   -1999900.0\n",
      "   data         cash      size        value  total_value\n",
      "0  20.0  398000100.0 -10000000 -200000000.0  198000100.0\n",
      "   data         cash      size        value  total_value\n",
      "0  20.0  398000100.0 -10000000 -200000000.0  198000100.0\n",
      "   data         cash      size        value  total_value\n",
      "0  20.0  398000100.0 -10000000 -200000000.0  198000100.0\n",
      "Final Portfolio Value: 198000100.0000\n"
     ]
    }
   ],
   "source": [
    "import datetime\n",
    "import numpy as np\n",
    "import pandas as pd\n",
    "import backtrader as bt\n",
    "\n",
    "df = pd.DataFrame({\n",
    "    'open': [40, 40, 20, 20, 20],\n",
    "    'high': [40, 40, 20, 20, 20],\n",
    "    'low': [40, 40, 20, 20, 20],\n",
    "    'close': [40, 40, 20, 20, 20]\n",
    "}, index=[\n",
    "    datetime.datetime(2020, 1, 1),\n",
    "    datetime.datetime(2020, 1, 2),\n",
    "    datetime.datetime(2020, 1, 3),\n",
    "    datetime.datetime(2020, 1, 4),\n",
    "    datetime.datetime(2020, 1, 5)\n",
    "]).astype(np.float)\n",
    "\n",
    "class TestStrategy(bt.Strategy):\n",
    "    def log(self, txt, dt=None):\n",
    "        dt = dt or self.datas[0].datetime.date(0)\n",
    "        print('%s, %s' % (dt.isoformat(), txt))\n",
    "\n",
    "    def __init__(self):\n",
    "        self.dataclose = self.datas[0].close\n",
    "        self.order = None\n",
    "\n",
    "    def notify_order(self, order):\n",
    "        if order.status in [order.Submitted, order.Accepted]:\n",
    "            return\n",
    "\n",
    "        if order.status in [order.Completed]:\n",
    "            if order.isbuy():\n",
    "                self.log(\n",
    "                    'BUY EXECUTED, Price: %.4f, Cost: %.4f, Comm %.6f' %\n",
    "                    (order.executed.price,\n",
    "                     order.executed.value,\n",
    "                     order.executed.comm))\n",
    "\n",
    "            else:\n",
    "                self.log('SELL EXECUTED, Price: %.4f, Cost: %.4f, Comm %.6f' %\n",
    "                         (order.executed.price,\n",
    "                          order.executed.value,\n",
    "                          order.executed.comm))\n",
    "\n",
    "        elif order.status in [order.Canceled, order.Margin, order.Rejected]:\n",
    "            self.log('Order Canceled/Margin/Rejected')\n",
    "\n",
    "        self.order = None\n",
    "\n",
    "    def next(self):\n",
    "        print(\n",
    "            pd.DataFrame([[\n",
    "                self.data[0],\n",
    "                self.broker.getcash(), \n",
    "                self.broker.getposition(self.data).size,\n",
    "                self.broker.get_value([self.data]),\n",
    "                self.broker.get_value()\n",
    "            ]], columns=['data', 'cash', 'size', 'value', 'total_value'])\n",
    "        )\n",
    "        if len(self.data) == 1:\n",
    "            self.order = self.sell(size=10000000)\n",
    "\n",
    "\n",
    "cerebro = bt.Cerebro()\n",
    "#cerebro.broker = bt.brokers.BackBroker(slip_perc=0.005, slip_open=True, slip_match=False) \n",
    "cerebro.addstrategy(TestStrategy)\n",
    "data = bt.feeds.PandasData(dataname=df)\n",
    "cerebro.adddata(data)\n",
    "cerebro.broker.setcash(100.0)\n",
    "cerebro.broker.setcommission(commission=0.005, leverage=10.)\n",
    "print('Starting Portfolio Value: %.4f' % cerebro.broker.getvalue())\n",
    "cerebro.run()\n",
    "print('Final Portfolio Value: %.4f' % cerebro.broker.getvalue())"
   ]
  },
  {
   "cell_type": "code",
   "execution_count": 57,
   "metadata": {},
   "outputs": [
    {
     "data": {
      "text/html": [
       "<div>\n",
       "<style scoped>\n",
       "    .dataframe tbody tr th:only-of-type {\n",
       "        vertical-align: middle;\n",
       "    }\n",
       "\n",
       "    .dataframe tbody tr th {\n",
       "        vertical-align: top;\n",
       "    }\n",
       "\n",
       "    .dataframe thead th {\n",
       "        text-align: right;\n",
       "    }\n",
       "</style>\n",
       "<table border=\"1\" class=\"dataframe\">\n",
       "  <thead>\n",
       "    <tr style=\"text-align: right;\">\n",
       "      <th></th>\n",
       "      <th>col</th>\n",
       "      <th>idx</th>\n",
       "      <th>size</th>\n",
       "      <th>price</th>\n",
       "      <th>fees</th>\n",
       "      <th>side</th>\n",
       "    </tr>\n",
       "  </thead>\n",
       "  <tbody>\n",
       "    <tr>\n",
       "      <th>0</th>\n",
       "      <td>0</td>\n",
       "      <td>1</td>\n",
       "      <td>1.0</td>\n",
       "      <td>3.015</td>\n",
       "      <td>0.015075</td>\n",
       "      <td>0</td>\n",
       "    </tr>\n",
       "    <tr>\n",
       "      <th>1</th>\n",
       "      <td>0</td>\n",
       "      <td>9</td>\n",
       "      <td>1.0</td>\n",
       "      <td>10.945</td>\n",
       "      <td>0.054725</td>\n",
       "      <td>1</td>\n",
       "    </tr>\n",
       "  </tbody>\n",
       "</table>\n",
       "</div>"
      ],
      "text/plain": [
       "   col  idx  size   price      fees  side\n",
       "0    0    1   1.0   3.015  0.015075     0\n",
       "1    0    9   1.0  10.945  0.054725     1"
      ]
     },
     "execution_count": 57,
     "metadata": {},
     "output_type": "execute_result"
    }
   ],
   "source": [
    "import vectorbt as vbt\n",
    "\n",
    "vbt.Portfolio.from_signals(\n",
    "    df['close'], \n",
    "    pd.Series([False, True, False, False, False, False, False, False, False, False]),\n",
    "    pd.Series([False, False, False, False, False, False, False, False, False, True]),\n",
    "    entry_price=df['open'], \n",
    "    exit_price=df['open'],\n",
    "    size=1.,\n",
    "    fees=0.005,\n",
    "    slippage=0.005\n",
    ").orders().records"
   ]
  },
  {
   "cell_type": "code",
   "execution_count": null,
   "metadata": {},
   "outputs": [],
   "source": []
  }
 ],
 "metadata": {
  "kernelspec": {
   "display_name": "Python 3",
   "language": "python",
   "name": "python3"
  },
  "language_info": {
   "codemirror_mode": {
    "name": "ipython",
    "version": 3
   },
   "file_extension": ".py",
   "mimetype": "text/x-python",
   "name": "python",
   "nbconvert_exporter": "python",
   "pygments_lexer": "ipython3",
   "version": "3.7.3"
  },
  "widgets": {
   "application/vnd.jupyter.widget-state+json": {
    "state": {},
    "version_major": 2,
    "version_minor": 0
   }
  }
 },
 "nbformat": 4,
 "nbformat_minor": 4
}
