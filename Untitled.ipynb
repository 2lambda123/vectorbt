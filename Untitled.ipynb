{
 "cells": [
  {
   "cell_type": "code",
   "execution_count": 1,
   "metadata": {},
   "outputs": [],
   "source": [
    ">>> import numpy as np\n",
    ">>> import pandas as pd\n",
    ">>> from datetime import datetime\n",
    ">>> import yfinance as yf\n",
    ">>> import talib\n",
    ">>> import vectorbt as vbt\n",
    ">>> from vectorbt.portfolio.enums import InitCashMode\n",
    "\n",
    ">>> # Fetch price history\n",
    ">>> pairs = ['BTC-USD', 'ETH-USD', 'XRP-USD', 'BNB-USD', 'BCH-USD', 'LTC-USD']\n",
    ">>> start = datetime(2020, 1, 1)\n",
    ">>> end = datetime(2020, 9, 1)\n",
    ">>> pair_history = {p: yf.Ticker(p).history(start=start, end=end) for p in pairs}\n",
    "\n",
    ">>> # Put assets into a single dataframe by price type\n",
    ">>> price = {}\n",
    ">>> for pt in ['Open', 'High', 'Low', 'Close']:\n",
    "...     price[pt] = pd.DataFrame({p: df[pt] for p, df in pair_history.items()})\n",
    "\n",
    ">>> # Run every single pattern recognition indicator and combine results\n",
    ">>> result = pd.DataFrame.vbt.empty_like(price['Open'], fill_value=0.)\n",
    ">>> for pattern in talib.get_function_groups()['Pattern Recognition']:\n",
    "...     PRecognizer = vbt.IndicatorFactory.from_talib(pattern)\n",
    "...     pr = PRecognizer.run(price['Open'], price['High'], price['Low'], price['Close'])\n",
    "...     result = result + pr.integer\n",
    "\n",
    ">>> # Don't look into future\n",
    ">>> result = result.vbt.fshift(1)\n",
    "\n",
    ">>> # Treat each number as order value in USD\n",
    ">>> order_size = result / price['Open']\n",
    "\n",
    ">>> # Simulate portfolio\n",
    ">>> portfolio = vbt.Portfolio.from_orders(\n",
    "...     price['Close'], order_size, order_price=price['Open'],\n",
    "...     init_cash=InitCashMode.AutoAlign, fees=0.001, slippage=0.001, freq='1d'\n",
    "... )"
   ]
  },
  {
   "cell_type": "code",
   "execution_count": 10,
   "metadata": {},
   "outputs": [
    {
     "data": {
      "text/plain": [
       "Start                     2019-12-31 00:00:00\n",
       "End                       2020-08-31 00:00:00\n",
       "Duration                    244 days 00:00:00\n",
       "Holding Duration [%]                  98.3607\n",
       "Total Profit                          5166.37\n",
       "Total Return [%]                      30.2431\n",
       "Buy & Hold Return [%]                 62.3779\n",
       "Max. Drawdown [%]                     7.87668\n",
       "Avg. Drawdown [%]                     2.37872\n",
       "Max. Drawdown Duration       77 days 00:00:00\n",
       "Avg. Drawdown Duration       12 days 12:00:00\n",
       "Num. Trades                                75\n",
       "Win Rate [%]                               76\n",
       "Best Trade [%]                         36.905\n",
       "Worst Trade [%]                      -43.7765\n",
       "Avg. Trade [%]                        8.03228\n",
       "Max. Trade Duration         238 days 00:00:00\n",
       "Avg. Trade Duration         118 days 14:04:48\n",
       "Expectancy                            4.65892\n",
       "SQN                                   1.00033\n",
       "Sharpe Ratio                          1.61599\n",
       "Sortino Ratio                         2.56978\n",
       "Calmar Ratio                          6.15461\n",
       "Name: BTC-USD, dtype: object"
      ]
     },
     "execution_count": 10,
     "metadata": {},
     "output_type": "execute_result"
    }
   ],
   "source": [
    "portfolio.stats(agg_func=None, column='BTC-USD')"
   ]
  },
  {
   "cell_type": "code",
   "execution_count": 15,
   "metadata": {},
   "outputs": [
    {
     "data": {
      "text/plain": [
       "0   NaN\n",
       "1   NaN\n",
       "dtype: float64"
      ]
     },
     "execution_count": 15,
     "metadata": {},
     "output_type": "execute_result"
    }
   ],
   "source": [
    "pd.Series([0, 0]) / pd.Series([0, 0])"
   ]
  },
  {
   "cell_type": "code",
   "execution_count": 29,
   "metadata": {},
   "outputs": [
    {
     "data": {
      "text/plain": [
       "86400000100100"
      ]
     },
     "execution_count": 29,
     "metadata": {},
     "output_type": "execute_result"
    }
   ],
   "source": [
    "pd.Timedelta(days=1, microseconds=100, nanoseconds=100).value"
   ]
  },
  {
   "cell_type": "code",
   "execution_count": 31,
   "metadata": {},
   "outputs": [
    {
     "data": {
      "text/plain": [
       "array([[-0.62305772,  0.81198234, -0.18201607],\n",
       "       [ 0.44504815, -0.53564921, -0.58516914],\n",
       "       [ 0.19331826, -0.48259133,  0.86619476]])"
      ]
     },
     "execution_count": 31,
     "metadata": {},
     "output_type": "execute_result"
    }
   ],
   "source": []
  },
  {
   "cell_type": "code",
   "execution_count": 32,
   "metadata": {},
   "outputs": [
    {
     "data": {
      "text/plain": [
       "array([[-0.62305772, -0.53564921, -0.18201607],\n",
       "       [ 0.19331826, -0.48259133,  0.86619476],\n",
       "       [ 0.44504815,  0.81198234, -0.58516914]])"
      ]
     },
     "execution_count": 32,
     "metadata": {},
     "output_type": "execute_result"
    }
   ],
   "source": [
    "def _shuffle_along_axis(a, axis):\n",
    "    idx = np.random.rand(*a.shape).argsort(axis=axis)\n",
    "    return np.take_along_axis(a, idx, axis=axis)\n",
    "\n",
    "_shuffle_along_axis(a, 0)"
   ]
  },
  {
   "cell_type": "code",
   "execution_count": 71,
   "metadata": {},
   "outputs": [
    {
     "data": {
      "text/plain": [
       "'0            2014-09-17 00:00:00\\n1            2020-09-20 00:00:00\\n2             2195 days 00:00:00\\n3                        45.3303\\n4                        1816.48\\n5                        1816.48\\n6                        2276.21\\n7                        78.6451\\n8                        7.79513\\n9             1008 days 00:00:00\\n10    47 days 17:50:46.153846154\\n11                            10\\n12                            80\\n13                       189.093\\n14                      -20.2185\\n15                       44.7565\\n16             243 days 00:00:00\\n17              99 days 12:00:00\\n18                       181.648\\n19                       1.32829\\n20                       1.22514\\n21                       1.89692\\n22                       0.80621\\nName: (Close, Open), dtype: object'"
      ]
     },
     "execution_count": 71,
     "metadata": {},
     "output_type": "execute_result"
    }
   ],
   "source": [
    "stats_str = str(portfolio.stats().reset_index(drop=True))\n",
    "stats_str"
   ]
  },
  {
   "cell_type": "code",
   "execution_count": 86,
   "metadata": {},
   "outputs": [
    {
     "data": {
      "text/plain": [
       "Start                            2014-09-17 00:00:00\n",
       "End                              2020-09-20 00:00:00\n",
       "Duration                          2195 days 00:00:00\n",
       "Holding Duration [%]                         45.3303\n",
       "Total Profit                                 1816.48\n",
       "Total Return [%]                             1816.48\n",
       "Buy & Hold Return [%]                        2276.21\n",
       "Max. Drawdown [%]                            78.6451\n",
       "Avg. Drawdown [%]                            7.79513\n",
       "Max. Drawdown Duration            1008 days 00:00:00\n",
       "Avg. Drawdown Duration    47 days 17:50:46.153846154\n",
       "Num. Trades                                       10\n",
       "Win Rate [%]                                      80\n",
       "Best Trade [%]                               189.093\n",
       "Worst Trade [%]                             -20.2185\n",
       "Avg. Trade [%]                               44.7565\n",
       "Max. Trade Duration                243 days 00:00:00\n",
       "Avg. Trade Duration                 99 days 12:00:00\n",
       "Expectancy                                   181.648\n",
       "SQN                                          1.32829\n",
       "Sharpe Ratio                                 1.22514\n",
       "Sortino Ratio                                1.89692\n",
       "Calmar Ratio                                 0.80621\n",
       "Name: (Close, Open), dtype: object"
      ]
     },
     "execution_count": 86,
     "metadata": {},
     "output_type": "execute_result"
    }
   ],
   "source": [
    "portfolio.stats()"
   ]
  },
  {
   "cell_type": "code",
   "execution_count": 88,
   "metadata": {},
   "outputs": [
    {
     "data": {
      "text/plain": [
       "['2014-09-17 00:00:00',\n",
       " '2020-09-20 00:00:00',\n",
       " '2195 days 00:00:00',\n",
       " '45.3303',\n",
       " '1816.48',\n",
       " '1816.48',\n",
       " '2276.21',\n",
       " '78.6451',\n",
       " '7.79513',\n",
       " '1008 days 00:00:00',\n",
       " '47 days 17:50:46.153846154',\n",
       " '10',\n",
       " '80',\n",
       " '189.093',\n",
       " '-20.2185',\n",
       " '44.7565',\n",
       " '243 days 00:00:00',\n",
       " '99 days 12:00:00',\n",
       " '181.648',\n",
       " '1.32829',\n",
       " '1.22514',\n",
       " '1.89692',\n",
       " '0.80621']"
      ]
     },
     "execution_count": 88,
     "metadata": {},
     "output_type": "execute_result"
    }
   ],
   "source": [
    "import re\n",
    "\n",
    "re.sub('[0-9]+  +', '', stats_str).split('\\n')[:-1]"
   ]
  },
  {
   "cell_type": "code",
   "execution_count": 12,
   "metadata": {},
   "outputs": [
    {
     "data": {
      "text/plain": [
       "'AAPL'"
      ]
     },
     "execution_count": 12,
     "metadata": {},
     "output_type": "execute_result"
    }
   ],
   "source": [
    "symbol"
   ]
  },
  {
   "cell_type": "code",
   "execution_count": 24,
   "metadata": {},
   "outputs": [],
   "source": [
    "key = symbol + '_' + period + '_' + interval\n",
    "df.to_hdf('tickers.h5', key)"
   ]
  },
  {
   "cell_type": "code",
   "execution_count": 30,
   "metadata": {},
   "outputs": [],
   "source": [
    "tickers_fname = 'tickers.h5'"
   ]
  },
  {
   "cell_type": "code",
   "execution_count": 48,
   "metadata": {},
   "outputs": [
    {
     "name": "stdout",
     "output_type": "stream",
     "text": [
      "- AAPL: Invalid input - interval=2h is not supported. Valid intervals: [1m, 2m, 5m, 15m, 30m, 60m, 90m, 1h, 1d, 5d, 1wk, 1mo, 3mo]\n"
     ]
    },
    {
     "data": {
      "text/plain": [
       "Index([], dtype='object', name='Date')"
      ]
     },
     "execution_count": 48,
     "metadata": {},
     "output_type": "execute_result"
    }
   ],
   "source": [
    "yf.Ticker('AAPL').history(\n",
    "    period='1d',\n",
    "    interval='2h',\n",
    "    actions=True,\n",
    "    auto_adjust=True,\n",
    "    back_adjust=False\n",
    ").index"
   ]
  },
  {
   "cell_type": "code",
   "execution_count": 27,
   "metadata": {},
   "outputs": [
    {
     "data": {
      "text/plain": [
       "['AAPL_1y_1d']"
      ]
     },
     "execution_count": 27,
     "metadata": {},
     "output_type": "execute_result"
    }
   ],
   "source": [
    "list(f.keys())"
   ]
  },
  {
   "cell_type": "code",
   "execution_count": 28,
   "metadata": {},
   "outputs": [],
   "source": [
    "f.close()"
   ]
  },
  {
   "cell_type": "code",
   "execution_count": 29,
   "metadata": {},
   "outputs": [
    {
     "data": {
      "text/html": [
       "<div>\n",
       "<style scoped>\n",
       "    .dataframe tbody tr th:only-of-type {\n",
       "        vertical-align: middle;\n",
       "    }\n",
       "\n",
       "    .dataframe tbody tr th {\n",
       "        vertical-align: top;\n",
       "    }\n",
       "\n",
       "    .dataframe thead th {\n",
       "        text-align: right;\n",
       "    }\n",
       "</style>\n",
       "<table border=\"1\" class=\"dataframe\">\n",
       "  <thead>\n",
       "    <tr style=\"text-align: right;\">\n",
       "      <th></th>\n",
       "      <th>Open</th>\n",
       "      <th>High</th>\n",
       "      <th>Low</th>\n",
       "      <th>Close</th>\n",
       "      <th>Volume</th>\n",
       "      <th>Dividends</th>\n",
       "      <th>Stock Splits</th>\n",
       "    </tr>\n",
       "    <tr>\n",
       "      <th>Date</th>\n",
       "      <th></th>\n",
       "      <th></th>\n",
       "      <th></th>\n",
       "      <th></th>\n",
       "      <th></th>\n",
       "      <th></th>\n",
       "      <th></th>\n",
       "    </tr>\n",
       "  </thead>\n",
       "  <tbody>\n",
       "    <tr>\n",
       "      <th>2019-09-19</th>\n",
       "      <td>54.96</td>\n",
       "      <td>55.39</td>\n",
       "      <td>54.55</td>\n",
       "      <td>54.70</td>\n",
       "      <td>88242400</td>\n",
       "      <td>0.0</td>\n",
       "      <td>0.0</td>\n",
       "    </tr>\n",
       "    <tr>\n",
       "      <th>2019-09-20</th>\n",
       "      <td>54.80</td>\n",
       "      <td>55.09</td>\n",
       "      <td>53.83</td>\n",
       "      <td>53.90</td>\n",
       "      <td>221652400</td>\n",
       "      <td>0.0</td>\n",
       "      <td>0.0</td>\n",
       "    </tr>\n",
       "    <tr>\n",
       "      <th>2019-09-23</th>\n",
       "      <td>54.20</td>\n",
       "      <td>54.42</td>\n",
       "      <td>53.88</td>\n",
       "      <td>54.14</td>\n",
       "      <td>76662000</td>\n",
       "      <td>0.0</td>\n",
       "      <td>0.0</td>\n",
       "    </tr>\n",
       "    <tr>\n",
       "      <th>2019-09-24</th>\n",
       "      <td>54.71</td>\n",
       "      <td>55.08</td>\n",
       "      <td>53.76</td>\n",
       "      <td>53.89</td>\n",
       "      <td>124763200</td>\n",
       "      <td>0.0</td>\n",
       "      <td>0.0</td>\n",
       "    </tr>\n",
       "    <tr>\n",
       "      <th>2019-09-25</th>\n",
       "      <td>54.10</td>\n",
       "      <td>54.83</td>\n",
       "      <td>53.75</td>\n",
       "      <td>54.71</td>\n",
       "      <td>87613600</td>\n",
       "      <td>0.0</td>\n",
       "      <td>0.0</td>\n",
       "    </tr>\n",
       "    <tr>\n",
       "      <th>...</th>\n",
       "      <td>...</td>\n",
       "      <td>...</td>\n",
       "      <td>...</td>\n",
       "      <td>...</td>\n",
       "      <td>...</td>\n",
       "      <td>...</td>\n",
       "      <td>...</td>\n",
       "    </tr>\n",
       "    <tr>\n",
       "      <th>2020-09-14</th>\n",
       "      <td>114.72</td>\n",
       "      <td>115.93</td>\n",
       "      <td>112.80</td>\n",
       "      <td>115.36</td>\n",
       "      <td>140150100</td>\n",
       "      <td>0.0</td>\n",
       "      <td>0.0</td>\n",
       "    </tr>\n",
       "    <tr>\n",
       "      <th>2020-09-15</th>\n",
       "      <td>118.33</td>\n",
       "      <td>118.83</td>\n",
       "      <td>113.61</td>\n",
       "      <td>115.54</td>\n",
       "      <td>184642000</td>\n",
       "      <td>0.0</td>\n",
       "      <td>0.0</td>\n",
       "    </tr>\n",
       "    <tr>\n",
       "      <th>2020-09-16</th>\n",
       "      <td>115.23</td>\n",
       "      <td>116.00</td>\n",
       "      <td>112.04</td>\n",
       "      <td>112.13</td>\n",
       "      <td>154679000</td>\n",
       "      <td>0.0</td>\n",
       "      <td>0.0</td>\n",
       "    </tr>\n",
       "    <tr>\n",
       "      <th>2020-09-17</th>\n",
       "      <td>109.72</td>\n",
       "      <td>112.20</td>\n",
       "      <td>108.71</td>\n",
       "      <td>110.34</td>\n",
       "      <td>178011000</td>\n",
       "      <td>0.0</td>\n",
       "      <td>0.0</td>\n",
       "    </tr>\n",
       "    <tr>\n",
       "      <th>2020-09-18</th>\n",
       "      <td>110.40</td>\n",
       "      <td>110.88</td>\n",
       "      <td>106.09</td>\n",
       "      <td>106.84</td>\n",
       "      <td>286693600</td>\n",
       "      <td>0.0</td>\n",
       "      <td>0.0</td>\n",
       "    </tr>\n",
       "  </tbody>\n",
       "</table>\n",
       "<p>253 rows × 7 columns</p>\n",
       "</div>"
      ],
      "text/plain": [
       "              Open    High     Low   Close     Volume  Dividends  Stock Splits\n",
       "Date                                                                          \n",
       "2019-09-19   54.96   55.39   54.55   54.70   88242400        0.0           0.0\n",
       "2019-09-20   54.80   55.09   53.83   53.90  221652400        0.0           0.0\n",
       "2019-09-23   54.20   54.42   53.88   54.14   76662000        0.0           0.0\n",
       "2019-09-24   54.71   55.08   53.76   53.89  124763200        0.0           0.0\n",
       "2019-09-25   54.10   54.83   53.75   54.71   87613600        0.0           0.0\n",
       "...            ...     ...     ...     ...        ...        ...           ...\n",
       "2020-09-14  114.72  115.93  112.80  115.36  140150100        0.0           0.0\n",
       "2020-09-15  118.33  118.83  113.61  115.54  184642000        0.0           0.0\n",
       "2020-09-16  115.23  116.00  112.04  112.13  154679000        0.0           0.0\n",
       "2020-09-17  109.72  112.20  108.71  110.34  178011000        0.0           0.0\n",
       "2020-09-18  110.40  110.88  106.09  106.84  286693600        0.0           0.0\n",
       "\n",
       "[253 rows x 7 columns]"
      ]
     },
     "execution_count": 29,
     "metadata": {},
     "output_type": "execute_result"
    }
   ],
   "source": [
    "pd.read_hdf(tickers_fname, key)"
   ]
  },
  {
   "cell_type": "code",
   "execution_count": 52,
   "metadata": {},
   "outputs": [
    {
     "ename": "TypeError",
     "evalue": "'CandleSettingType' object is not subscriptable",
     "output_type": "error",
     "traceback": [
      "\u001b[0;31m---------------------------------------------------------------------------\u001b[0m",
      "\u001b[0;31mTypeError\u001b[0m                                 Traceback (most recent call last)",
      "\u001b[0;32m<ipython-input-52-79565b76c3a2>\u001b[0m in \u001b[0;36m<module>\u001b[0;34m\u001b[0m\n\u001b[0;32m----> 1\u001b[0;31m \u001b[0mCandleSettingType\u001b[0m\u001b[0;34m[\u001b[0m\u001b[0;36m0\u001b[0m\u001b[0;34m]\u001b[0m\u001b[0;34m\u001b[0m\u001b[0;34m\u001b[0m\u001b[0m\n\u001b[0m",
      "\u001b[0;31mTypeError\u001b[0m: 'CandleSettingType' object is not subscriptable"
     ]
    }
   ],
   "source": []
  },
  {
   "cell_type": "code",
   "execution_count": 49,
   "metadata": {},
   "outputs": [],
   "source": [
    "from talib._ta_lib import CandleSettingType, RangeType, \\\n",
    "                          _ta_set_candle_settings, \\\n",
    "                          _ta_restore_candle_default_settings"
   ]
  },
  {
   "cell_type": "code",
   "execution_count": 4,
   "metadata": {},
   "outputs": [],
   "source": [
    "_ta_set_candle_settings(CandleSettingType.BodyLong,\n",
    "                        RangeType.RealBody, 3, 2.0)"
   ]
  },
  {
   "cell_type": "code",
   "execution_count": 4,
   "metadata": {},
   "outputs": [
    {
     "data": {
      "text/plain": [
       "['CDL2CROWS',\n",
       " 'CDL3BLACKCROWS',\n",
       " 'CDL3INSIDE',\n",
       " 'CDL3LINESTRIKE',\n",
       " 'CDL3OUTSIDE',\n",
       " 'CDL3STARSINSOUTH',\n",
       " 'CDL3WHITESOLDIERS',\n",
       " 'CDLABANDONEDBABY',\n",
       " 'CDLADVANCEBLOCK',\n",
       " 'CDLBELTHOLD',\n",
       " 'CDLBREAKAWAY',\n",
       " 'CDLCLOSINGMARUBOZU',\n",
       " 'CDLCONCEALBABYSWALL',\n",
       " 'CDLCOUNTERATTACK',\n",
       " 'CDLDARKCLOUDCOVER',\n",
       " 'CDLDOJI',\n",
       " 'CDLDOJISTAR',\n",
       " 'CDLDRAGONFLYDOJI',\n",
       " 'CDLENGULFING',\n",
       " 'CDLEVENINGDOJISTAR',\n",
       " 'CDLEVENINGSTAR',\n",
       " 'CDLGAPSIDESIDEWHITE',\n",
       " 'CDLGRAVESTONEDOJI',\n",
       " 'CDLHAMMER',\n",
       " 'CDLHANGINGMAN',\n",
       " 'CDLHARAMI',\n",
       " 'CDLHARAMICROSS',\n",
       " 'CDLHIGHWAVE',\n",
       " 'CDLHIKKAKE',\n",
       " 'CDLHIKKAKEMOD',\n",
       " 'CDLHOMINGPIGEON',\n",
       " 'CDLIDENTICAL3CROWS',\n",
       " 'CDLINNECK',\n",
       " 'CDLINVERTEDHAMMER',\n",
       " 'CDLKICKING',\n",
       " 'CDLKICKINGBYLENGTH',\n",
       " 'CDLLADDERBOTTOM',\n",
       " 'CDLLONGLEGGEDDOJI',\n",
       " 'CDLLONGLINE',\n",
       " 'CDLMARUBOZU',\n",
       " 'CDLMATCHINGLOW',\n",
       " 'CDLMATHOLD',\n",
       " 'CDLMORNINGDOJISTAR',\n",
       " 'CDLMORNINGSTAR',\n",
       " 'CDLONNECK',\n",
       " 'CDLPIERCING',\n",
       " 'CDLRICKSHAWMAN',\n",
       " 'CDLRISEFALL3METHODS',\n",
       " 'CDLSEPARATINGLINES',\n",
       " 'CDLSHOOTINGSTAR',\n",
       " 'CDLSHORTLINE',\n",
       " 'CDLSPINNINGTOP',\n",
       " 'CDLSTALLEDPATTERN',\n",
       " 'CDLSTICKSANDWICH',\n",
       " 'CDLTAKURI',\n",
       " 'CDLTASUKIGAP',\n",
       " 'CDLTHRUSTING',\n",
       " 'CDLTRISTAR',\n",
       " 'CDLUNIQUE3RIVER',\n",
       " 'CDLUPSIDEGAP2CROWS',\n",
       " 'CDLXSIDEGAP3METHODS']"
      ]
     },
     "execution_count": 4,
     "metadata": {},
     "output_type": "execute_result"
    }
   ],
   "source": [
    "import talib\n",
    "\n",
    "talib.get_function_groups()['Pattern Recognition']"
   ]
  },
  {
   "cell_type": "code",
   "execution_count": 59,
   "metadata": {},
   "outputs": [
    {
     "data": {
      "text/html": [
       "<div>\n",
       "<style scoped>\n",
       "    .dataframe tbody tr th:only-of-type {\n",
       "        vertical-align: middle;\n",
       "    }\n",
       "\n",
       "    .dataframe tbody tr th {\n",
       "        vertical-align: top;\n",
       "    }\n",
       "\n",
       "    .dataframe thead th {\n",
       "        text-align: right;\n",
       "    }\n",
       "</style>\n",
       "<table border=\"1\" class=\"dataframe\">\n",
       "  <thead>\n",
       "    <tr style=\"text-align: right;\">\n",
       "      <th></th>\n",
       "      <th>Metric</th>\n",
       "      <th>Strategy</th>\n",
       "    </tr>\n",
       "  </thead>\n",
       "  <tbody>\n",
       "    <tr>\n",
       "      <th>0</th>\n",
       "      <td>a</td>\n",
       "      <td>1</td>\n",
       "    </tr>\n",
       "    <tr>\n",
       "      <th>1</th>\n",
       "      <td>b</td>\n",
       "      <td>2</td>\n",
       "    </tr>\n",
       "    <tr>\n",
       "      <th>2</th>\n",
       "      <td>c</td>\n",
       "      <td>3</td>\n",
       "    </tr>\n",
       "  </tbody>\n",
       "</table>\n",
       "</div>"
      ],
      "text/plain": [
       "  Metric  Strategy\n",
       "0      a         1\n",
       "1      b         2\n",
       "2      c         3"
      ]
     },
     "execution_count": 59,
     "metadata": {},
     "output_type": "execute_result"
    }
   ],
   "source": [
    "pd.Series([1, 2, 3], index=['a', 'b', 'c']).to_frame().reset_index().rename(columns={'index': 'Metric', 0: 'Strategy'})"
   ]
  },
  {
   "cell_type": "code",
   "execution_count": 5,
   "metadata": {},
   "outputs": [
    {
     "data": {
      "text/plain": [
       "BTC-USD    15500.0\n",
       "ETH-USD     9100.0\n",
       "XRP-USD    12100.0\n",
       "BNB-USD    14500.0\n",
       "BCH-USD    10200.0\n",
       "LTC-USD    13100.0\n",
       "dtype: float64"
      ]
     },
     "execution_count": 5,
     "metadata": {},
     "output_type": "execute_result"
    }
   ],
   "source": [
    ">>> import numpy as np\n",
    ">>> import pandas as pd\n",
    ">>> from datetime import datetime\n",
    ">>> import yfinance as yf\n",
    ">>> import talib\n",
    ">>> import vectorbt as vbt\n",
    ">>> from vectorbt.portfolio.enums import InitCashMode\n",
    "\n",
    ">>> # Fetch price history\n",
    ">>> pairs = ['BTC-USD', 'ETH-USD', 'XRP-USD', 'BNB-USD', 'BCH-USD', 'LTC-USD']\n",
    ">>> start = datetime(2020, 1, 1)\n",
    ">>> end = datetime(2020, 9, 1)\n",
    ">>> pair_history = {p: yf.Ticker(p).history(start=start, end=end) for p in pairs}\n",
    "\n",
    ">>> # Put assets into a single dataframe by price type\n",
    ">>> price = {}\n",
    ">>> for pt in ['Open', 'High', 'Low', 'Close']:\n",
    "...     price[pt] = pd.DataFrame({p: df[pt] for p, df in pair_history.items()})\n",
    "\n",
    ">>> # Run every single pattern recognition indicator and combine results\n",
    ">>> result = pd.DataFrame.vbt.empty_like(price['Open'], fill_value=0.)\n",
    ">>> for pattern in talib.get_function_groups()['Pattern Recognition']:\n",
    "...     PRecognizer = vbt.IndicatorFactory.from_talib(pattern)\n",
    "...     pr = PRecognizer.run(price['Open'], price['High'], price['Low'], price['Close'])\n",
    "...     result = result + pr.integer\n",
    "\n",
    ">>> result.sum()"
   ]
  },
  {
   "cell_type": "code",
   "execution_count": 8,
   "metadata": {},
   "outputs": [
    {
     "data": {
      "text/plain": [
       "BTC-USD    15500.0\n",
       "ETH-USD     9100.0\n",
       "XRP-USD    12100.0\n",
       "BNB-USD    14500.0\n",
       "BCH-USD    10200.0\n",
       "LTC-USD    13100.0\n",
       "dtype: float64"
      ]
     },
     "execution_count": 8,
     "metadata": {},
     "output_type": "execute_result"
    }
   ],
   "source": [
    "result.sum()"
   ]
  },
  {
   "cell_type": "code",
   "execution_count": 6,
   "metadata": {},
   "outputs": [
    {
     "data": {
      "text/html": [
       "<div>\n",
       "<style scoped>\n",
       "    .dataframe tbody tr th:only-of-type {\n",
       "        vertical-align: middle;\n",
       "    }\n",
       "\n",
       "    .dataframe tbody tr th {\n",
       "        vertical-align: top;\n",
       "    }\n",
       "\n",
       "    .dataframe thead th {\n",
       "        text-align: right;\n",
       "    }\n",
       "</style>\n",
       "<table border=\"1\" class=\"dataframe\">\n",
       "  <thead>\n",
       "    <tr style=\"text-align: right;\">\n",
       "      <th></th>\n",
       "      <th>SettingType</th>\n",
       "      <th>RangeType</th>\n",
       "      <th>Avg Period</th>\n",
       "      <th>Factor</th>\n",
       "    </tr>\n",
       "  </thead>\n",
       "  <tbody>\n",
       "    <tr>\n",
       "      <th>0</th>\n",
       "      <td>BodyLong</td>\n",
       "      <td>RealBody</td>\n",
       "      <td>10</td>\n",
       "      <td>1.00</td>\n",
       "    </tr>\n",
       "    <tr>\n",
       "      <th>1</th>\n",
       "      <td>BodyVeryLong</td>\n",
       "      <td>RealBody</td>\n",
       "      <td>10</td>\n",
       "      <td>3.00</td>\n",
       "    </tr>\n",
       "    <tr>\n",
       "      <th>2</th>\n",
       "      <td>BodyShort</td>\n",
       "      <td>RealBody</td>\n",
       "      <td>10</td>\n",
       "      <td>1.00</td>\n",
       "    </tr>\n",
       "    <tr>\n",
       "      <th>3</th>\n",
       "      <td>BodyDoji</td>\n",
       "      <td>HighLow</td>\n",
       "      <td>10</td>\n",
       "      <td>0.10</td>\n",
       "    </tr>\n",
       "    <tr>\n",
       "      <th>4</th>\n",
       "      <td>ShadowLong</td>\n",
       "      <td>RealBody</td>\n",
       "      <td>0</td>\n",
       "      <td>1.00</td>\n",
       "    </tr>\n",
       "    <tr>\n",
       "      <th>5</th>\n",
       "      <td>ShadowVeryLong</td>\n",
       "      <td>RealBody</td>\n",
       "      <td>0</td>\n",
       "      <td>2.00</td>\n",
       "    </tr>\n",
       "    <tr>\n",
       "      <th>6</th>\n",
       "      <td>ShadowShort</td>\n",
       "      <td>Shadows</td>\n",
       "      <td>10</td>\n",
       "      <td>1.00</td>\n",
       "    </tr>\n",
       "    <tr>\n",
       "      <th>7</th>\n",
       "      <td>ShadowVeryShort</td>\n",
       "      <td>HighLow</td>\n",
       "      <td>10</td>\n",
       "      <td>0.10</td>\n",
       "    </tr>\n",
       "    <tr>\n",
       "      <th>8</th>\n",
       "      <td>Near</td>\n",
       "      <td>HighLow</td>\n",
       "      <td>5</td>\n",
       "      <td>0.20</td>\n",
       "    </tr>\n",
       "    <tr>\n",
       "      <th>9</th>\n",
       "      <td>Far</td>\n",
       "      <td>HighLow</td>\n",
       "      <td>5</td>\n",
       "      <td>0.60</td>\n",
       "    </tr>\n",
       "    <tr>\n",
       "      <th>10</th>\n",
       "      <td>Equal</td>\n",
       "      <td>HighLow</td>\n",
       "      <td>5</td>\n",
       "      <td>0.05</td>\n",
       "    </tr>\n",
       "  </tbody>\n",
       "</table>\n",
       "</div>"
      ],
      "text/plain": [
       "        SettingType RangeType  Avg Period  Factor\n",
       "0          BodyLong  RealBody          10    1.00\n",
       "1      BodyVeryLong  RealBody          10    3.00\n",
       "2         BodyShort  RealBody          10    1.00\n",
       "3          BodyDoji   HighLow          10    0.10\n",
       "4        ShadowLong  RealBody           0    1.00\n",
       "5    ShadowVeryLong  RealBody           0    2.00\n",
       "6       ShadowShort   Shadows          10    1.00\n",
       "7   ShadowVeryShort   HighLow          10    0.10\n",
       "8              Near   HighLow           5    0.20\n",
       "9               Far   HighLow           5    0.60\n",
       "10            Equal   HighLow           5    0.05"
      ]
     },
     "execution_count": 6,
     "metadata": {},
     "output_type": "execute_result"
    }
   ],
   "source": []
  },
  {
   "cell_type": "code",
   "execution_count": null,
   "metadata": {},
   "outputs": [],
   "source": [
    "{ TA_BodyLong, TA_RangeType_RealBody, 10, 1.0 },\n",
    "        /* real body is very long when it's longer than 3 times the average of the 10 previous candles' real body */\n",
    "        { TA_BodyVeryLong, TA_RangeType_RealBody, 10, 3.0 },\n",
    "        /* real body is short when it's shorter than the average of the 10 previous candles' real bodies */\n",
    "        { TA_BodyShort, TA_RangeType_RealBody, 10, 1.0 },\n",
    "        /* real body is like doji's body when it's shorter than 10% the average of the 10 previous candles' high-low range */\n",
    "        { TA_BodyDoji, TA_RangeType_HighLow, 10, 0.1 },\n",
    "        /* shadow is long when it's longer than the real body */\n",
    "        { TA_ShadowLong, TA_RangeType_RealBody, 0, 1.0 },\n",
    "        /* shadow is very long when it's longer than 2 times the real body */\n",
    "        { TA_ShadowVeryLong, TA_RangeType_RealBody, 0, 2.0 },\n",
    "        /* shadow is short when it's shorter than half the average of the 10 previous candles' sum of shadows */\n",
    "        { TA_ShadowShort, TA_RangeType_Shadows, 10, 1.0 },\n",
    "        /* shadow is very short when it's shorter than 10% the average of the 10 previous candles' high-low range */\n",
    "        { TA_ShadowVeryShort, TA_RangeType_HighLow, 10, 0.1 },\n",
    "        /* when measuring distance between parts of candles or width of gaps */\n",
    "        /* \"near\" means \"<= 20% of the average of the 5 previous candles' high-low range\" */\n",
    "        { TA_Near, TA_RangeType_HighLow, 5, 0.2 },\n",
    "        /* when measuring distance between parts of candles or width of gaps */\n",
    "        /* \"far\" means \">= 60% of the average of the 5 previous candles' high-low range\" */\n",
    "        { TA_Far, TA_RangeType_HighLow, 5, 0.6 },\n",
    "        /* when measuring distance between parts of candles or width of gaps */\n",
    "        /* \"equal\" means \"<= 5% of the average of the 5 previous candles' high-low range\" */\n",
    "        { TA_Equal, TA_RangeType_HighLow, 5, 0.05 }"
   ]
  }
 ],
 "metadata": {
  "kernelspec": {
   "display_name": "Python 3",
   "language": "python",
   "name": "python3"
  },
  "language_info": {
   "codemirror_mode": {
    "name": "ipython",
    "version": 3
   },
   "file_extension": ".py",
   "mimetype": "text/x-python",
   "name": "python",
   "nbconvert_exporter": "python",
   "pygments_lexer": "ipython3",
   "version": "3.7.3"
  },
  "widgets": {
   "application/vnd.jupyter.widget-state+json": {
    "state": {},
    "version_major": 2,
    "version_minor": 0
   }
  }
 },
 "nbformat": 4,
 "nbformat_minor": 4
}
